{
  "nbformat": 4,
  "nbformat_minor": 0,
  "metadata": {
    "accelerator": "GPU",
    "colab": {
      "name": "W3D1_Tutorial1.ipynb",
      "provenance": [],
      "collapsed_sections": [],
      "toc_visible": true,
      "include_colab_link": true
    },
    "kernelspec": {
      "display_name": "Python 3",
      "name": "python3"
    },
    "language_info": {
      "name": "python"
    }
  },
  "cells": [
    {
      "cell_type": "markdown",
      "metadata": {
        "id": "view-in-github",
        "colab_type": "text"
      },
      "source": [
        "<a href=\"https://colab.research.google.com/github/NeuromatchAcademy/course-content-dl/blob/W3D1_test/W3D1_Tutorial1.ipynb\" target=\"_parent\"><img src=\"https://colab.research.google.com/assets/colab-badge.svg\" alt=\"Open In Colab\"/></a>"
      ]
    },
    {
      "cell_type": "markdown",
      "metadata": {
        "id": "KZxY2iFjNvT7"
      },
      "source": [
        "\n",
        "# Neuromatch Academy: Week 3, Day 1, Tutorial 1\n",
        "# Unsupervised and self-supervised learning: Representations\n",
        "\n",
        "__Content creators:__ Arna Ghosh, Colleen Gillon, Blake Richards, Tim Lillicrap\n",
        "\n",
        "__Content reviewers:__ Atnafu Lambebo, Hadi Vafaei, Khalid Almubarak, Melvin Selim Atay\n",
        "\n",
        "__Content editors:__ Anoop Kulkarni, Spiros Chalvis\n",
        "\n",
        "__Production editors:__ Deepak Raya, Spiros Chalvis "
      ]
    },
    {
      "cell_type": "markdown",
      "metadata": {
        "id": "f710RwAeOEeP"
      },
      "source": [
        "---\n",
        "#Tutorial Objectives\n",
        "\n",
        "In this tutorial, you will learn about the importance of learning good representations of data.\n",
        "\n",
        "Specific objectives for this tutorial:\n",
        "*   Train logistic regressions (A) directly on input data and (B) on representations learned from the data.\n",
        "*   Compare the classification performances achieved by the different networks.\n",
        "*   Compare the representations learned by the different networks\n",
        "*   Identify the advantages of self-supervised learning over supervised or traditional unsupervised methods."
      ]
    },
    {
      "cell_type": "code",
      "metadata": {
        "cellView": "form",
        "id": "d1vSY2zZOh0T"
      },
      "source": [
        "#@markdown Tutorial slides\n",
        "\n",
        "from IPython.display import HTML\n",
        "HTML('<iframe src=\"https://docs.google.com/presentation/d/1Wa9-SfwfM0r2jFwZego892K_u_Z7dgr0RQI00i5Nzpc/embed?start=false&loop=false&delayms=3000\" frameborder=\"0\" width=\"960\" height=\"569\" allowfullscreen=\"true\" mozallowfullscreen=\"true\" webkitallowfullscreen=\"true\"></iframe>')"
      ],
      "execution_count": null,
      "outputs": []
    },
    {
      "cell_type": "code",
      "metadata": {
        "cellView": "form",
        "id": "K3hBOPMzAvUL"
      },
      "source": [
        "#@title Video 0: Introduction\n",
        "# Insert the ID of the corresponding youtube video\n",
        "from IPython.display import YouTubeVideo\n",
        "video = YouTubeVideo(id=\"lnC-wzzF_rE\", width=854, height=480, fs=1)\n",
        "print(\"Video available at https://youtu.be/\" + video.id)\n",
        "video"
      ],
      "execution_count": null,
      "outputs": []
    },
    {
      "cell_type": "markdown",
      "metadata": {
        "id": "ooKn5gnqPsr8"
      },
      "source": [
        "---\n",
        "# Setup"
      ]
    },
    {
      "cell_type": "code",
      "metadata": {
        "cellView": "form",
        "id": "XHyPJ9txlTY0"
      },
      "source": [
        "#@title Download dataset, modules, and files needed for the tutorial from GitHub.\n",
        "\n",
        "# The code is below temporary. It enables our data and code currently hosted on \n",
        "# a PRIVATE Github repo to be downloaded to the colab.\n",
        "# It uses an exposed READ-ONLY deploy ssh key. \n",
        "# This is safe, as they key gives ONLY read access and ONLY to the neuromatch \n",
        "# repo. \n",
        "# Once we make the repo public, we will replace this with a simple git clone.\n",
        "\n",
        "import os, sys, importlib\n",
        "\n",
        "REPO_PATH = \"neuromatch_ssl_tutorial\"\n",
        "if not os.path.exists(REPO_PATH):\n",
        "    # download and place deploy key\n",
        "    !mkdir -p /root/.ssh\n",
        "    !wget --no-check-certificate 'https://drive.google.com/uc?export=download&id=1DIL4zYLqhpEJjpsB4NQI29atFxsnvVd7' -O /root/.ssh/id_ed25519 --quiet\n",
        "\n",
        "    # configure .ssh folder\n",
        "    !touch /root/.ssh/known_hosts\n",
        "    !ssh-keyscan github.com >> /root/.ssh/known_hosts 2> /dev/null # completely silenced\n",
        "    !chmod 700 /root/.ssh\n",
        "    !chmod 600 /root/.ssh/id_ed25519\n",
        "    !chmod 644 /root/.ssh/known_hosts\n",
        "\n",
        "download_str = \"Downloading\"\n",
        "if os.path.exists(REPO_PATH):\n",
        "    download_str = \"Redownloading\"\n",
        "    !\\rm -rf $REPO_PATH\n",
        "\n",
        "# download from github repo\n",
        "print(f\"{download_str} data, modules, and files from GitHub to {REPO_PATH}...\")\n",
        "!ssh -Tq git@github.com 2> /dev/null # completely silenced\n",
        "!git clone git@github.com:colleenjg/neuromatch_ssl_tutorial.git --quiet\n",
        "\n",
        "from neuromatch_ssl_tutorial.modules import data, load, models, plot_util\n",
        "importlib.reload(data);\n",
        "importlib.reload(load);\n",
        "importlib.reload(models)\n",
        "importlib.reload(plot_util);"
      ],
      "execution_count": null,
      "outputs": []
    },
    {
      "cell_type": "code",
      "metadata": {
        "id": "ihgJ6N_tQAMd"
      },
      "source": [
        "# Imports\n",
        "import torch\n",
        "import torchvision\n",
        "import numpy as np\n",
        "import matplotlib.pyplot as plt\n",
        "\n",
        "# import modules designed for use in these tutorials\n",
        "from neuromatch_ssl_tutorial.modules import data, load, models, plot_util "
      ],
      "execution_count": null,
      "outputs": []
    },
    {
      "cell_type": "code",
      "metadata": {
        "cellView": "form",
        "id": "vDm_MyvmQOgU"
      },
      "source": [
        "#@title Figure settings\n",
        "import ipywidgets as widgets       # interactive display\n",
        "%config InlineBackend.figure_format = 'retina'\n",
        "plt.style.use(\"https://raw.githubusercontent.com/NeuromatchAcademy/course-content/master/nma.mplstyle\")\n",
        "\n",
        "import warnings\n",
        "warnings.filterwarnings(\n",
        "    action=\"ignore\", message=\"This figure includes Axes\", category=UserWarning\n",
        "    )\n",
        "warnings.filterwarnings(\n",
        "    action=\"ignore\", message=\"Calculating RSM\", category=UserWarning\n",
        "    )"
      ],
      "execution_count": null,
      "outputs": []
    },
    {
      "cell_type": "code",
      "metadata": {
        "cellView": "form",
        "id": "CTpAfeLGQPy1"
      },
      "source": [
        "#@title Plotting functions\n",
        "\n",
        "# @markdown Function to plot a histogram of RSM values: `plot_rsm_histogram(rsms, colors)`\n",
        "def plot_rsm_histogram(rsms, colors, labels=None, nbins=100):\n",
        "    fig, ax = plt.subplots(1)\n",
        "    ax.set_title(\"Histogram of RSM values\", y=1.05)\n",
        "\n",
        "    min_val = np.min([np.nanmin(rsm) for rsm in rsms])\n",
        "    max_val = np.max([np.nanmax(rsm) for rsm in rsms])\n",
        "    \n",
        "    bins = np.linspace(min_val, max_val, nbins+1)\n",
        "\n",
        "    if labels is None:\n",
        "        labels = [labels] * len(rsms)\n",
        "    elif len(labels) != len(rsms):\n",
        "        raise ValueError(\"If providing labels, must provide as many as RSMs.\")\n",
        "\n",
        "    if len(rsms) != len(colors):\n",
        "        raise ValueError(\"Must provide as may colors as RSMs.\")\n",
        "\n",
        "    for r, rsm in enumerate(rsms):\n",
        "        ax.hist(\n",
        "            rsm.reshape(-1), bins, density=True, alpha=0.6, \n",
        "            color=colors[r], label=labels[r]\n",
        "            )\n",
        "    ax.axvline(x=0, ls=\"dashed\", alpha=0.6, color=\"k\")\n",
        "    ax.set_ylabel(\"Density\")\n",
        "    ax.set_xlabel(\"Similarity values\")\n",
        "    ax.legend()\n"
      ],
      "execution_count": null,
      "outputs": []
    },
    {
      "cell_type": "code",
      "metadata": {
        "id": "F9J-YylJQSpu",
        "cellView": "form"
      },
      "source": [
        "#@title Helper functions\n",
        "\n",
        "# @markdown Function to set test custom torch RSM function: `test_custom_torch_RSM_fct()`\n",
        "def test_custom_torch_RSM_fct(custom_torch_RSM_fct):\n",
        "  rand_feats = torch.rand(100, 1000)\n",
        "  RSM_custom = custom_torch_RSM_fct(rand_feats)\n",
        "  RSM_ground_truth = data.calculate_torch_RSM(rand_feats)\n",
        "  \n",
        "  if torch.allclose(RSM_custom, RSM_ground_truth, equal_nan=True):\n",
        "    print(\"custom_torch_RSM_fct() is correctly implemented.\")\n",
        "  else:\n",
        "    print(\"custom_torch_RSM_fct() is NOT correctly implemented.\")\n",
        "\n",
        "\n",
        "# @markdown Function to set test custom contrastive loss function: `test_custom_contrastive_loss_fct()`\n",
        "def test_custom_contrastive_loss_fct(custom_simclr_contrastive_loss):\n",
        "  rand_proj_feat1 = torch.rand(100, 1000)\n",
        "  rand_proj_feat2 = torch.rand(100, 1000)\n",
        "  loss_custom = custom_simclr_contrastive_loss(rand_proj_feat1, rand_proj_feat2)\n",
        "  loss_ground_truth = models.contrastiveLoss(rand_proj_feat1,rand_proj_feat2)\n",
        "  \n",
        "  if torch.allclose(loss_custom, loss_ground_truth):\n",
        "    print(\"custom_simclr_contrastive_loss() is correctly implemented.\")\n",
        "  else:\n",
        "    print(\"custom_simclr_contrastive_loss() is NOT correctly implemented.\")"
      ],
      "execution_count": null,
      "outputs": []
    },
    {
      "cell_type": "code",
      "metadata": {
        "cellView": "form",
        "id": "D7iOSwCApPqD"
      },
      "source": [
        "#@title Set random seed. \n",
        "\n",
        "#@markdown Executing `set_seed(seed=seed)` you are setting the seed\n",
        "\n",
        "# for DL its critical to set the random seed so that students can have a\n",
        "# baseline to compare their results to expected results.\n",
        "# Read more here: https://pytorch.org/docs/stable/notes/randomness.html\n",
        "\n",
        "# Call `set_seed` function in the exercises to ensure reproducibility.\n",
        "import random\n",
        "\n",
        "def set_seed(seed=None, seed_torch=True):\n",
        "  if seed is None:\n",
        "    seed = np.random.choice(2 ** 32)\n",
        "  random.seed(seed)\n",
        "  np.random.seed(seed)\n",
        "  if seed_torch:\n",
        "    torch.manual_seed(seed)\n",
        "    torch.cuda.manual_seed_all(seed)\n",
        "    torch.cuda.manual_seed(seed)\n",
        "    torch.backends.cudnn.benchmark = False\n",
        "    torch.backends.cudnn.deterministic = True\n",
        "\n",
        "  print(f'Random seed {seed} has been set.')"
      ],
      "execution_count": null,
      "outputs": []
    },
    {
      "cell_type": "code",
      "metadata": {
        "cellView": "form",
        "id": "FneqpXPpmlo-"
      },
      "source": [
        "#@title Set device (GPU or CPU). Execute `set_device()`\n",
        "def set_device():\n",
        "  device = \"cuda\" if torch.cuda.is_available() else \"cpu\"\n",
        "  if device != \"cuda\":\n",
        "    print(\"WARNING: For this notebook to perform best, \"\n",
        "        \"if possible, in the menu under `Runtime` -> \"\n",
        "        \"`Change runtime type.`  select `GPU` \")\n",
        "  else:\n",
        "    print(\"GPU is enabled in this notebook.\")    \n",
        "\n",
        "set_device()"
      ],
      "execution_count": null,
      "outputs": []
    },
    {
      "cell_type": "code",
      "metadata": {
        "id": "kcsAhSllJJsQ"
      },
      "source": [
        "# Set global variables\n",
        "SEED = 2021\n",
        "DEVICE = set_device()\n",
        "REPO_PATH = \"neuromatch_ssl_tutorial\""
      ],
      "execution_count": null,
      "outputs": []
    },
    {
      "cell_type": "markdown",
      "metadata": {
        "id": "OhV8MYPOQ47H"
      },
      "source": [
        "---\n",
        "\n",
        "# Section 1: Representations are important."
      ]
    },
    {
      "cell_type": "code",
      "metadata": {
        "cellView": "form",
        "id": "h5hXEAs9AF8P"
      },
      "source": [
        "#@title Video 1: Why do representations matter?\n",
        "# Insert the ID of the corresponding youtube video\n",
        "from IPython.display import YouTubeVideo\n",
        "video = YouTubeVideo(id=\"ZK4-Exik4-s\", width=854, height=480, fs=1)\n",
        "print(\"Video available at https://youtu.be/\" + video.id)\n",
        "video"
      ],
      "execution_count": null,
      "outputs": []
    },
    {
      "cell_type": "markdown",
      "metadata": {
        "id": "7_VTHuxQyBe6"
      },
      "source": [
        "## Section 1.1: Introducing the dSprites dataset\n",
        "\n",
        "In this tutorial, we will be using a subset of the openly available **dSprites dataset** to investigate the importance of learning good representations.  \n",
        "\n",
        "_N.B.: For convenience, we will be using a subset of the original, full dataset which is available [here](https://github.com/deepmind/dsprites-dataset/), on GitHub._"
      ]
    },
    {
      "cell_type": "code",
      "metadata": {
        "id": "3jkRK3RmkcAB"
      },
      "source": [
        "dSprites = data.dSpritesDataset(\n",
        "    os.path.join(REPO_PATH, \"dsprites\", \"dsprites_subset.npz\")\n",
        "    )"
      ],
      "execution_count": null,
      "outputs": []
    },
    {
      "cell_type": "markdown",
      "metadata": {
        "id": "GxL4uL9hl0G3"
      },
      "source": [
        "### Interactive Demo 1.1.1: Exploring the dSprites dataset\n",
        "\n",
        "In this first demo, we will get to know the **dSprites dataset**. This dataset is made up of black and white images (20,000 images total in the subset we are using).  \n",
        "\n",
        "The images in the dataset were can be described using different combinations of **latent dimension values**, sampled from:\n",
        "- **Shapes (3):** square (1.0), oval (2.0) or heart (3.0)\n",
        "- **Scales (6):** 0.5 to 1.0\n",
        "- **Orientations (40):** 0 to 2$\\pi$\n",
        "- **Positions in X (32):** 0 to 1 (left to right)\n",
        "- **Positions in Y (32):** 0 to 1 (top to bottom)\n",
        "\n",
        "As a result, **each image carries 5 labels.** One for each of the latent dimension.  \n",
        "\n",
        "We will first load the dataset into the `dSprites` object, which is an instance of the `data.dSpritesDataset` class.\n"
      ]
    },
    {
      "cell_type": "markdown",
      "metadata": {
        "id": "irBagEEGz8jw"
      },
      "source": [
        "Next, we use the `dSpritesDataset` class method `show_images()` to plot a few images from the dataset, with their latent dimension values printed below.    \n",
        "\n",
        "**Interactive Demo:** View a different set of randomly sampled images by passing the random state argument `randst` any integer or the value `None`. (The original setting is `randst=SEED`.)"
      ]
    },
    {
      "cell_type": "code",
      "metadata": {
        "id": "314fav1Qr9JG"
      },
      "source": [
        "# DEMO: to view different images, set randst to any integer value.\n",
        "dSprites.show_images(num_images=10, randst=SEED)"
      ],
      "execution_count": null,
      "outputs": []
    },
    {
      "cell_type": "markdown",
      "metadata": {
        "id": "l8JWvJ2E1Clq"
      },
      "source": [
        "## Section 1.2: Training a classifier with and without representations  \n",
        "\n",
        "Now, we will investigate how 2 different types of classifiers perform when trained to decode the shape latent dimension of images in the **dSprites dataset**.  \n",
        "\n",
        "Specifically, we will train **one classifier directly on the images**, and **another on the output of an encoder network**.\n",
        "\n",
        "The **encoder network** we will use here and throughout the tutorial is the multi-layer convolutional network, pictured below. It comprises 2 consecutive convolutional layers, followed by 3 fully connected layers, and uses average pooling and batch normalization between layers, as well as rectified linear units as non-linearities. \n",
        "\n",
        "The **classifier layer** then takes the encoder features as input, predicting, for example, the shape latent dimension of encoded input images.\n",
        "\n",
        "![](https://drive.google.com/uc?id=1ZlKeDK7cD-3aNV8EbC0XOQr8yuQvBuGd)"
      ]
    },
    {
      "cell_type": "markdown",
      "metadata": {
        "id": "2z9xK3WH6qrV"
      },
      "source": [
        "### Interactive Demo 1.2.1: Training a logistic regression classifier directly on images.\n",
        "\n",
        "The following code:\n",
        "*    seeds modules that will use random processes, to ensure the results are consistently reproducible, using the `seed_processes()` function,\n",
        "*    collects the dSprites dataset into a torch dataset using the `data.dSpritesTorchDataset` class, \n",
        "*    initializes a training and test sampler to keep the two datasets separate using the `data.train_test_splix_idx()` function.\n",
        "\n",
        "_(cont'd below)_"
      ]
    },
    {
      "cell_type": "code",
      "metadata": {
        "id": "OjJ25LUO2GgL"
      },
      "source": [
        "# call this before any dataset/network initializing or training, \n",
        "# to ensure reproducibility\n",
        "set_seed(SEED)\n",
        "\n",
        "# initialize a torch dataset, specifying the target latent dimension for \n",
        "# the classifier\n",
        "dSprites_torchdataset = data.dSpritesTorchDataset(\n",
        "  dSprites, \n",
        "  target_latent=\"shape\"\n",
        "  )\n",
        "\n",
        "# initialize a train_sampler and a test_sampler to keep the two sets \n",
        "# consistently separate\n",
        "train_sampler, test_sampler = data.train_test_split_idx(\n",
        "  dSprites_torchdataset, \n",
        "  fraction_train=0.8,  # 80:20 data split\n",
        "  randst=SEED\n",
        "  )\n",
        "\n",
        "print(f\"Dataset size: {len(train_sampler)} training, \"\n",
        "      f\"{len(test_sampler)} test images\")"
      ],
      "execution_count": null,
      "outputs": []
    },
    {
      "cell_type": "markdown",
      "metadata": {
        "id": "VwwcgFrGJljW"
      },
      "source": [
        "### Interactive Demo 1.2.1: Training a logistic regression classifier directly on images (cont'd).\n",
        "\n",
        "The following code:\n",
        "*    trains a logistic regression directly on the training set images to classify their shape, and assesses its performance on the test set images using the `models.train_classifier()` function.\n",
        "\n",
        "**Interactive Demo:** Try a few different `num_epochs` settings to see whether performance improves with more training, e.g., between 1 and 50 epochs. (The original setting is `num_epochs=25`.)"
      ]
    },
    {
      "cell_type": "code",
      "metadata": {
        "id": "5XFnLefNJa9k"
      },
      "source": [
        "# call this before any dataset/network initializing or training, \n",
        "# to ensure reproducibility\n",
        "set_seed(SEED)\n",
        "\n",
        "num_epochs = 25 # DEMO: Try different numbers of training epochs\n",
        "\n",
        "# train a classifier directly on the images\n",
        "print(\"Training a classifier directly on the images...\")\n",
        "_ = models.train_classifier(\n",
        "  encoder=None, \n",
        "  dataset=dSprites_torchdataset, \n",
        "  train_sampler=train_sampler, \n",
        "  test_sampler=test_sampler, \n",
        "  freeze_features=True, # there is no feature encoder to train here, anyway\n",
        "  num_epochs=num_epochs, \n",
        "  verbose=True # print results\n",
        "  )"
      ],
      "execution_count": null,
      "outputs": []
    },
    {
      "cell_type": "markdown",
      "metadata": {
        "id": "2v1azBwm6aUO"
      },
      "source": [
        "As we can observe, the classifier trained directly on the images performs only a bit above chance (39.55%) on the test set, after 25 training epochs."
      ]
    },
    {
      "cell_type": "markdown",
      "metadata": {
        "id": "ZWrTYry78BC3"
      },
      "source": [
        "### Coding Exercise 1.2.1: Training a logistic regression classifier along with an encoder.\n",
        "\n",
        "The following code:\n",
        "*    uses the same dSprites torch dataset (`dSprites_torchdataset`) initialized above, as well as the training and test samplers (`train_sampler`, `test_sampler`),\n",
        "*    again, seeds modules that will use random processes, to ensure the results are consistently reproducible,\n",
        "*    initializes an encoder network to use in the supervised network using the `models.EncoderCore` class,\n",
        "*    sets a proposed number of epochs to use when training the classifier and encoder (`num_epochs=10`). \n",
        "\n",
        "**Exercise:** Train a classifier, along with the encoder, to classify the input images according to shape, using `models.train_classifier()`. How does it perform?\n",
        "\n",
        "**Hint**: `models.train_classifier()` is introduced in **Interactive Demo 1.2.1**."
      ]
    },
    {
      "cell_type": "code",
      "metadata": {
        "id": "KhLqRmQ49vRs"
      },
      "source": [
        "def train_supervised_encoder(num_epochs, seed):\n",
        "  # call this before any dataset/network initializing or training, \n",
        "  # to ensure reproducibility\n",
        "  set_seed(seed)\n",
        "\n",
        "  # initialize a core encoder network on which the classifier will be added\n",
        "  supervised_encoder = models.EncoderCore()\n",
        "\n",
        "  #################################################\n",
        "  # Fill in missing code below (...),\n",
        "  # then remove or comment the line below to test your implementation\n",
        "  raise NotImplementedError(\"Exercise: Train a supervised encoder and classifier.\")\n",
        "  #################################################\n",
        "  # EXERCISE: Train an encoder and classifier on the images, using models.train_classifier()\n",
        "  print(\"Training a supervised encoder and classifier...\")\n",
        "  _ = models.train_classifier(\n",
        "      encoder=..., \n",
        "      dataset=..., \n",
        "      train_sampler=..., \n",
        "      test_sampler=..., \n",
        "      freeze_features=..., # we train the encoder, along with the classifier layer\n",
        "      num_epochs=..., \n",
        "      verbose=... # print results\n",
        "      )\n",
        "\n",
        "  return supervised_encoder\n",
        "\n",
        "\n",
        "num_epochs = 10 # Proposed number of training epochs\n",
        "## Uncomment below to test your function\n",
        "# supervised_encoder = train_supervised_encoder(num_epochs=num_epochs, seed=SEED)"
      ],
      "execution_count": null,
      "outputs": []
    },
    {
      "cell_type": "code",
      "metadata": {
        "id": "EvOQrT2Jw-dO"
      },
      "source": [
        "# to_remove solution\n",
        "def train_supervised_encoder(num_epochs, seed):\n",
        "  # call this before any dataset/network initializing or training, \n",
        "  # to ensure reproducibility\n",
        "  set_seed(seed)\n",
        "\n",
        "  # initialize a core encoder network on which the classifier will be added\n",
        "  supervised_encoder = models.EncoderCore()\n",
        "  # EXERCISE: Train an encoder and classifier on the images, using models.train_classifier()\n",
        "  print(\"Training a supervised encoder and classifier...\")\n",
        "  _ = models.train_classifier(\n",
        "      encoder=supervised_encoder, \n",
        "      dataset=dSprites_torchdataset, \n",
        "      train_sampler=train_sampler, \n",
        "      test_sampler=test_sampler, \n",
        "      freeze_features=False, # we train the encoder, along with the classifier layer\n",
        "      num_epochs=num_epochs, \n",
        "      verbose=True # print results\n",
        "      )\n",
        "\n",
        "  return supervised_encoder\n",
        "\n",
        "num_epochs = 10 # Proposed number of training epochs\n",
        "## Uncomment below to test your function\n",
        "supervised_encoder = train_supervised_encoder(num_epochs=num_epochs, seed=SEED)"
      ],
      "execution_count": null,
      "outputs": []
    },
    {
      "cell_type": "markdown",
      "metadata": {
        "id": "J1yarzthrJoE"
      },
      "source": [
        "```python\n",
        "Training a supervised encoder and classifier...\n",
        "100%                                    10/10 [00:12<00:00, 1.23s/it]\n",
        "\n",
        "Network performance after 10 encoder and classifier training epochs (chance: 33.33%):\n",
        "    Training accuracy: 100.00%\n",
        "    Testing accuracy: 98.72%\n",
        "````"
      ]
    },
    {
      "cell_type": "markdown",
      "metadata": {
        "id": "Oetg9gxqVefL"
      },
      "source": [
        "When the classifier is trained with an encoder network, however, it achieves very high classification accuracy (98.40%) on the test set, after only 10 training epochs."
      ]
    },
    {
      "cell_type": "markdown",
      "metadata": {
        "id": "EhoO9j5kJkrq"
      },
      "source": [
        "---\n",
        "\n",
        "# Section 2: Supervised learning induces invariant representations.\n"
      ]
    },
    {
      "cell_type": "code",
      "metadata": {
        "cellView": "form",
        "id": "2vAINUjcBfP3"
      },
      "source": [
        "#@title Video 2: Supervised Learning and Invariance\n",
        "# Insert the ID of the corresponding youtube video\n",
        "from IPython.display import YouTubeVideo\n",
        "video = YouTubeVideo(id=\"E8nMPniyG0c\", width=854, height=480, fs=1)\n",
        "print(\"Video available at https://youtu.be/\" + video.id)\n",
        "video"
      ],
      "execution_count": null,
      "outputs": []
    },
    {
      "cell_type": "markdown",
      "metadata": {
        "id": "vrhM0bynW1_g"
      },
      "source": [
        "## Section 2.1: Examining Representational Similarity Matrices (RSMs)\n",
        "\n",
        "To examine the representations learned by the encoder network, we use **Representational Similarity Matrices (RSMs)**. In these matrices, the similarity between the encoder's representations of each possible pair of images is plotted to reveal overall structure in representation space.  \n",
        "\n",
        "_N.B.: Here, we use cosine similarity as a measure of representational similarity._\n"
      ]
    },
    {
      "cell_type": "markdown",
      "metadata": {
        "id": "vVY2UcC39NUI"
      },
      "source": [
        "### Coding Exercise 2.1.1: Complete a function that calculates RSMs.\n",
        "\n",
        "The following code:\n",
        "*    lays out the skeleton of a function `custom_torch_fct()` which calculates an RSM from features,\n",
        "*    tests the custom function against the solution implementation.\n",
        "\n",
        "**Exercise:** Complete the `custom_torch_fct()` implementation.\n",
        "\n",
        "**Hint**: `custom_torch_fct()` takes 1 input argument: \n",
        "- features (2D torch Tensor): feature matrix (items x features)"
      ]
    },
    {
      "cell_type": "code",
      "metadata": {
        "id": "Xr756w4l1UUZ"
      },
      "source": [
        "def custom_torch_RSM_fct(features):\n",
        "  \"\"\"\n",
        "  custom_torch_RSM_fct(features)\n",
        "\n",
        "  Custom function to calculates representational similarity matrix (RSM) of a feature \n",
        "  matrix using pairwise cosine similarity. \n",
        "\n",
        "  Complete the function below given the specific guidelines.\n",
        "  Uses torch.nn.functional.cosine_similarity()\n",
        "  \n",
        "  Required args:\n",
        "  - features (2D torch Tensor): feature matrix (items x features)\n",
        "\n",
        "  Returns:\n",
        "  - rsm (2D torch Tensor): similarity matrix \n",
        "      (nbr features items x nbr features items)\n",
        "  \"\"\"\n",
        "  #################################################\n",
        "  # Fill in missing code below (...),\n",
        "  # then remove or comment the line below to test your function\n",
        "  raise NotImplementedError(\"Exercise: Implement RSM calculation.\")    \n",
        "  #################################################\n",
        "  # EXERCISE: Implement RSM calculation \n",
        "  rsm = ...\n",
        "\n",
        "  if not rsm.shape == (len(features), len(features)):\n",
        "    raise ValueError(\n",
        "        f\"RSM should be of shape ({len(features)}, {len(features)})\"\n",
        "        )\n",
        "\n",
        "  return rsm\n",
        "\n",
        "\n",
        "# Test implementation by comparing output to solution implementation\n",
        "# test_custom_torch_RSM_fct(custom_torch_RSM_fct)"
      ],
      "execution_count": null,
      "outputs": []
    },
    {
      "cell_type": "code",
      "metadata": {
        "id": "ddr7UABH1Zz6"
      },
      "source": [
        "# to_remove solution\n",
        "def custom_torch_RSM_fct(features, mem_thr=1e5):\n",
        "  \"\"\"\n",
        "  custom_torch_RSM_fct(features)\n",
        "\n",
        "  Custom function to calculates representational similarity matrix (RSM) of a feature \n",
        "  matrix using pairwise cosine similarity. \n",
        "  \n",
        "  Required args:\n",
        "  - features (2D torch Tensor): feature matrix (items x features)\n",
        "\n",
        "  Returns:\n",
        "  - rsm (2D torch Tensor): similarity matrix \n",
        "      (nbr features items x nbr features items)\n",
        "  \"\"\"\n",
        "  # EXERCISE: Implement RSM calculation \n",
        "  rsm = torch.nn.functional.cosine_similarity(features.unsqueeze(1),\n",
        "                                              features.unsqueeze(0), dim=2)\n",
        "\n",
        "  if not rsm.shape == (len(features), len(features)):\n",
        "    raise ValueError(\n",
        "        f\"RSM should be of shape ({len(features)}, {len(features)})\"\n",
        "        )\n",
        "\n",
        "  return rsm\n",
        "\n",
        "# Test implementation by comparing output to solution implementation\n",
        "test_custom_torch_RSM_fct(custom_torch_RSM_fct)"
      ],
      "execution_count": null,
      "outputs": []
    },
    {
      "cell_type": "markdown",
      "metadata": {
        "id": "g6wfNgRwYNto"
      },
      "source": [
        "### Interactive Demo 2.1.1: Plotting the supervised network encoder RSM along different latent dimensions.\n",
        "\n",
        "In this demo, we calculate an RSM for representations of the test set images generated by the supervised network encoder. \n",
        "\n",
        "The following code:\n",
        "*    calculates and plots the RSM for the test set, with rows and columns sorted by whichever latent dimension is specified (e.g., `sorting_latent=\"shape\"`) using `models.plot_model_RSMs()`.\n",
        "\n",
        "**Interactive Demo:** In the current example, the rows and columns of the RSM are organized by along the `shape` latent dimension. Try organizing them along one of the other latent dimensions (`\"posX\"`, `\"posY\"`, `\"orientation\"` or `\"scale\"`) to see whether different patterns emerge. (The original setting is `sorting_latent=\"shape\"`.)"
      ]
    },
    {
      "cell_type": "code",
      "metadata": {
        "id": "4pOvrkzGYIsf"
      },
      "source": [
        "sorting_latent = \"shape\" # DEMO: Try sorting by different latent dimensions\n",
        "\n",
        "print(\"Plotting RSMs...\")\n",
        "_ = models.plot_model_RSMs(\n",
        "    encoders=[supervised_encoder], # we pass the trained supervised_encoder\n",
        "    dataset=dSprites_torchdataset, \n",
        "    sampler=test_sampler, # we want to see the representations on the held out test set\n",
        "    titles=[\"Supervised network encoder RSM\"], # plot title\n",
        "    sorting_latent=sorting_latent,\n",
        "    RSM_fct=custom_torch_RSM_fct\n",
        "    )"
      ],
      "execution_count": null,
      "outputs": []
    },
    {
      "cell_type": "markdown",
      "metadata": {
        "id": "Mw7pIeQuaCJO"
      },
      "source": [
        "### Discussion 2.1.1: What patterns do the RSMs reveal about how the encoder represents different images? \n",
        "**A.** What does the yellow (maximal similarity color) diagonal, going from the top left to the bottom right, correspond to?  \n",
        "**B.** What pattern can be observed when comparing RSM values for pairs of images that share a similar latent value (e.g., 2 heart images) vs pairs of images that do not (e.g., a heart and a square image)?   \n",
        "**C.** Do some shapes appear to be encoded more similarly than others?  \n",
        "**D.** Do some latent dimensions show clearer RSM patterns than others? Why might that be so?"
      ]
    },
    {
      "cell_type": "markdown",
      "metadata": {
        "id": "k99r-kJ808DT"
      },
      "source": [
        "### Responses to 2.1.1\n",
        "**A.** The yellow diagonal corresponds to the similarity between each encoded image and itself. Since each encoded image is, of course, identical to itself, the similarity is of 1 at each point on the diagonal.  \n",
        "**B.** The pattern we observe is that there are square sections of the RSM that have higher similarity values than the rest, and these sections lie along the yellow diagonal. These sections correspond to the similarities between **encoded images of the same shape** (e.g., 2 hearts), which are generally **higher than the similarities between encoded images of different shapes** (e.g., a heart and a square), when using this trained, supervised encoder.  \n",
        "**C.** It is a bit subtle, but it looks like the **hearts and squares** might be encoded more similarly to one another than the **hearts and ovals**, in general. This is based on the fact that the RSM values for hearts x squares (bottom left and top right) appear to be lighter (more yellow) than the the RSM values for hearts x ovals (bottom middle and middle right), which are a bit darker (more blue).  \n",
        "**D.**  If we sort by different latent dimensions (e.g., orientation, scale, posX or posY), we do not see as much structure in the RSMs. This is because the supervised encoder is specifically trained on a shape classification task, which forces it to encode images of the same shape more similarly, and images of different shapes more differently. It is not trained to distinguish orientations, scales or positions. If it **were** trained to predict orientation, scale or position, we could expect to see similar RSM patterns, with high similarity along the diagonal for the predicted dimension. \n"
      ]
    },
    {
      "cell_type": "markdown",
      "metadata": {
        "id": "NnVNTqexqSfW"
      },
      "source": [
        "---\n",
        "\n",
        "# Section 3: Random projections don’t work as well\n",
        "\n"
      ]
    },
    {
      "cell_type": "code",
      "metadata": {
        "cellView": "form",
        "id": "o6eOZBwuB0w7"
      },
      "source": [
        "#@title Video 3: Random Representations\n",
        "# Insert the ID of the corresponding youtube video\n",
        "from IPython.display import YouTubeVideo\n",
        "video = YouTubeVideo(id=\"px-DEXijrbo\", width=854, height=480, fs=1)\n",
        "print(\"Video available at https://youtu.be/\" + video.id)\n",
        "video"
      ],
      "execution_count": null,
      "outputs": []
    },
    {
      "cell_type": "markdown",
      "metadata": {
        "id": "AzGiRRGTrB1W"
      },
      "source": [
        "## Section 3.1: Examining RSMs of an untrained encoder\n",
        "\n",
        "To determine whether the patterns observed in the RSMs of the supervised network encoder are trivial, we investigate whether they also emerge from the **random projections of an untrained encoder**."
      ]
    },
    {
      "cell_type": "markdown",
      "metadata": {
        "id": "C78tjjXdrHyW"
      },
      "source": [
        "### Coding Exercise 3.1.1: Plotting an untrained network encoder RSM along different latent dimensions.\n",
        "\n",
        "In this exercise, we repeat the same analysis as in **Section 2.1**, but with an untrained encoder.  \n",
        "\n",
        "The following code:\n",
        "*    initializes an encoder network to use in the untrained network using the `models.EncoderCore` class,\n",
        "*    proposes a latent dimension along which to sort the rows and columns (`sorting_latent = \"shape\"`)\n",
        "\n",
        "**Exercise:** \n",
        "*    Visualize the RSMs for the supervised and untrained network encoders, using `models.plot_model_RSMs()`. \n",
        "*    Visualize the RSMs, organized along different latent dimensions (`\"posX\"`, `\"posY\"`, `\"orientation\"` or `\"scale\"`), and compare the patterns observed for the supervised versus the untrained encoder network.\n",
        "\n",
        "**Hint**: `models.plot_model_RSMs()` is introduced in **Interactive Demo 2.1.1**."
      ]
    },
    {
      "cell_type": "code",
      "metadata": {
        "id": "womlcvzIaqhh"
      },
      "source": [
        "def plot_rsms(seed):\n",
        "  # call this before any dataset/network initializing or training, \n",
        "  # to ensure reproducibility\n",
        "  set_seed(seed)\n",
        "\n",
        "  # initialize a core encoder network that will not get trained\n",
        "  untrained_encoder = models.EncoderCore()\n",
        "\n",
        "  # EXERCISE: Try sorting by different latent dimensions\n",
        "  sorting_latent = \"shape\"\n",
        "\n",
        "  #################################################\n",
        "  # Fill in missing code below (...),\n",
        "  # then remove or comment the line below to test your implementation\n",
        "  raise NotImplementedError(\"Exercise: Plot RSMs.\")\n",
        "  #################################################\n",
        "  # EXERCISE: Plot RSMs\n",
        "  print(\"Plotting RSMs...\")\n",
        "  _ = models.plot_model_RSMs(\n",
        "      encoders=[..., ...],  # we pass both encoders\n",
        "      dataset=..., \n",
        "      sampler=...,  # we want to see the representations on the held out test set\n",
        "      titles=[\"Supervised network encoder RSM\",\n",
        "              \"Untrained network encoder RSM\"],  # plot titles\n",
        "      sorting_latent=...,\n",
        "      )\n",
        "\n",
        "  return untrained_encoder\n",
        "\n",
        "\n",
        "## Uncomment below to test your function\n",
        "# untrained_encoder = plot_rsms(seed=SEED)"
      ],
      "execution_count": null,
      "outputs": []
    },
    {
      "cell_type": "code",
      "metadata": {
        "id": "RGx68unx98C2"
      },
      "source": [
        "def plot_rsms(seed):\n",
        "  # call this before any dataset/network initializing or training, \n",
        "  # to ensure reproducibility\n",
        "  set_seed(seed)\n",
        "\n",
        "  # initialize a core encoder network that will not get trained\n",
        "  untrained_encoder = models.EncoderCore()\n",
        "\n",
        "  # EXERCISE: Try sorting by different latent dimensions\n",
        "  sorting_latent = \"shape\"\n",
        "\n",
        "  # EXERCISE: Plot RSMs\n",
        "  print(\"Plotting RSMs...\")\n",
        "  _ = models.plot_model_RSMs(\n",
        "      encoders=[supervised_encoder, untrained_encoder],  # we pass both encoders\n",
        "      dataset=dSprites_torchdataset, \n",
        "      sampler=test_sampler,  # we want to see the representations on the held out test set\n",
        "      titles=[\"Supervised network encoder RSM\",\n",
        "              \"Untrained network encoder RSM\"],  # plot titles\n",
        "      sorting_latent=sorting_latent,\n",
        "      )\n",
        "\n",
        "  return untrained_encoder\n",
        "\n",
        "\n",
        "## Uncomment below to test your function\n",
        "with plt.xkcd():\n",
        "  untrained_encoder = plot_rsms(seed=SEED)"
      ],
      "execution_count": null,
      "outputs": []
    },
    {
      "cell_type": "markdown",
      "metadata": {
        "id": "wfZ7a6QLvjob"
      },
      "source": [
        "### Discussion 3.1.1: What does comparing these RSMs reveal about the potential value of trained versus untrained encoder representations? \n",
        "\n",
        "**A.** What patterns, if any, are visible in the untrained network encoder RSM?   \n",
        "**B.** Which encoder network is most likely to produce meaningful representations?"
      ]
    },
    {
      "cell_type": "markdown",
      "metadata": {
        "id": "m6xUT2-L_DHq"
      },
      "source": [
        "### Responses to 3.1.1\n",
        "**A.** Only the yellow diagnonal identity line is visible. No other patterns emerge, as most images are encoded with near 0 similarity to one another, using the untrained encoder.  \n",
        "**B.** The trained, supervised network produces more meaningful representations, as the similarity between different encoded images actually **captures certain meaningful conceptual similarities between the different images**, specifically shape. In other words, the image representations obtained with the trained, supervised encoding reflect the fact that two hearts are more conceptually similar to each other in terms of shape than a heart and a square."
      ]
    },
    {
      "cell_type": "markdown",
      "metadata": {
        "id": "Qvly_6_jwW0Z"
      },
      "source": [
        "### Coding Exercise 3.1.2: Evaluating the classification performance of a logistic regression trained on the representations produced by an untrained network encoder.\n",
        "\n",
        "In this exercise, we repeat a similar analysis to **Section 1.2.2**, but with the untrained encoder network. Importantly, this time, the encoder parameters must stay frozen during training by setting `freeze_features=True`. Instead of being provided ahead of time a suggestion for a reasonable number of training epochs, we use the training loss array to select a good value.  \n",
        "\n",
        "\n",
        "The following code:\n",
        "*    trains a logistic regression on top of the untrained encoder network to classify images based on shape, and assesses its performance on the test set images using `models.train_classifier()` with `freeze_features=True` to ensure that the encoder is **not** trained, and only the classifier is.\n",
        "\n",
        "**Exercise:** \n",
        "*     Set a number of epochs for which  to train classifier.  \n",
        "*     Plot the training loss array (`untrained_loss_array`) returned when training the model. _(N.B.: 'untrained' is in the name here simply because the classifier is trained on the ***untrained*** network encoder.)_ \n",
        "*     Rerun the classifier if more training epochs are needed based on the progression of the training loss.\n"
      ]
    },
    {
      "cell_type": "code",
      "metadata": {
        "id": "HkcuMhYVwWRT"
      },
      "source": [
        "def plot_loss(num_epochs, seed):\n",
        "  # call this before any dataset/network initializing or training, \n",
        "  # to ensure reproducibility\n",
        "  set_seed(seed)\n",
        "\n",
        "  # train classifier on the randomly encoded images\n",
        "  print(\"Training a classifier on the untrained encoder representations...\")\n",
        "  _, untrained_loss_array, _, _ = models.train_classifier(\n",
        "      encoder=untrained_encoder, \n",
        "      dataset=dSprites_torchdataset, \n",
        "      train_sampler=train_sampler, \n",
        "      test_sampler=test_sampler, \n",
        "      freeze_features=True,  # keep the encoder frozen while training the classifier\n",
        "      num_epochs=num_epochs, \n",
        "      verbose=True  # print results\n",
        "      )\n",
        "  #################################################\n",
        "  # Fill in missing code below (...),\n",
        "  # then remove or comment the line below to test your implementation\n",
        "  raise NotImplementedError(\"Exercise: Plot loss array.\")\n",
        "  #################################################\n",
        "  # EXERCISE: Plot the loss array\n",
        "  fig, ax = plt.subplots()\n",
        "  ax.plot(...)\n",
        "  ax.set_title(...)\n",
        "  ax.set_xlabel(...)\n",
        "  ax.set_ylabel(...)\n",
        "\n",
        "  return untrained_loss_array\n",
        "\n",
        "# EXERCISE: Set a reasonable number of training epochs\n",
        "num_epochs = 25\n",
        "## Uncomment below to test your plot\n",
        "# untrained_loss_array = plot_loss(num_epochs=num_epochs, seed=SEED)"
      ],
      "execution_count": null,
      "outputs": []
    },
    {
      "cell_type": "code",
      "metadata": {
        "id": "Z7otTvVQD1hQ"
      },
      "source": [
        "def plot_loss(num_epochs, seed):\n",
        "  # call this before any dataset/network initializing or training, \n",
        "  # to ensure reproducibility\n",
        "  set_seed(seed)\n",
        "\n",
        "  # train classifier on the randomly encoded images\n",
        "  print(\"Training a classifier on the untrained encoder representations...\")\n",
        "  _, untrained_loss_array, _, _ = models.train_classifier(\n",
        "      encoder=untrained_encoder, \n",
        "      dataset=dSprites_torchdataset, \n",
        "      train_sampler=train_sampler, \n",
        "      test_sampler=test_sampler, \n",
        "      freeze_features=True,  # keep the encoder frozen while training the classifier\n",
        "      num_epochs=num_epochs, \n",
        "      verbose=True  # print results\n",
        "      )\n",
        "  # EXERCISE: Plot the loss array\n",
        "  fig, ax = plt.subplots()\n",
        "  ax.plot(untrained_loss_array)\n",
        "  ax.set_title(\"Loss of classifier trained on an untrained encoder.\")\n",
        "  ax.set_xlabel(\"Epoch number\")\n",
        "  ax.set_ylabel(\"Training loss\")\n",
        "\n",
        "  return untrained_loss_array\n",
        "\n",
        "\n",
        "# EXERCISE: Set a reasonable number of training epochs\n",
        "num_epochs = 25\n",
        "## Uncomment below to test your plot\n",
        "with plt.xkcd():\n",
        "  untrained_loss_array = plot_loss(num_epochs=num_epochs, seed=SEED)"
      ],
      "execution_count": null,
      "outputs": []
    },
    {
      "cell_type": "markdown",
      "metadata": {
        "id": "QMicVFg2xXIL"
      },
      "source": [
        "The network loss training start is fairly stable by 25 epochs, at which point the classifier performs at 44.67% accuracy on the test dataset. "
      ]
    },
    {
      "cell_type": "markdown",
      "metadata": {
        "id": "5OwlsbQRxjou"
      },
      "source": [
        "### Discussion 3.1.2: What can we conclude about the potential consequences of using random projections with a dataset like dSprites? \n",
        "\n",
        "**A.** How does the classifier performance compare to (A) the classifier trained directly on the images and (B) the classifier trained along with the encoder?   \n",
        "**B.** What explains these different performances?"
      ]
    },
    {
      "cell_type": "markdown",
      "metadata": {
        "id": "BCD4tHxyE-La"
      },
      "source": [
        "### Responses 3.1.2\n",
        "**A.**  \n",
        "**B.**  "
      ]
    },
    {
      "cell_type": "markdown",
      "metadata": {
        "id": "9n6n6eKhFS3F"
      },
      "source": [
        "---\n",
        "\n",
        "# Section 4: Generative approaches to representation learning can fail.\n"
      ]
    },
    {
      "cell_type": "code",
      "metadata": {
        "cellView": "form",
        "id": "UXUypbswB7K1"
      },
      "source": [
        "#@title Video 4: Generative models\n",
        "# Insert the ID of the corresponding youtube video\n",
        "from IPython.display import YouTubeVideo\n",
        "video = YouTubeVideo(id=\"znihs6t4OHg\", width=854, height=480, fs=1)\n",
        "print(\"Video available at https://youtu.be/\" + video.id)\n",
        "video"
      ],
      "execution_count": null,
      "outputs": []
    },
    {
      "cell_type": "markdown",
      "metadata": {
        "id": "1mq4RAlJFa47"
      },
      "source": [
        "## Section 4.1: Examining the RSMs of a Variational Autoencoder\n",
        "\n",
        "We next ask what kind of representations a network can learn in the absence of labelled data. We first look at a **generative model**, namely the **Variational Autoencoder (VAE)**.  \n",
        "\n",
        "Given that generative models typically require more training than supervised models, instead of pre-training a network here, we will load one that was **pre-trained for 300 epochs**. Importantly, the **encoder shares the same architecture** as the one used for the supervised and untrained examples above.\n",
        "\n",
        "The following code:\n",
        "*    loads the parameters of a full VAE network (encoder and decoder) pre-trained on the generative task of reconstructing the input images, under the Kullback–Leibler divergence (KLD) minimization constraint over the latent space that characterizes VAEs, using `load.load_encoder()` and `load.load_decoder()`, "
      ]
    },
    {
      "cell_type": "code",
      "metadata": {
        "id": "3MLNuFIqFLXh"
      },
      "source": [
        "# call this before any dataset/network initializing or training, \n",
        "# to ensure reproducibility\n",
        "set_seed(SEED)\n",
        "\n",
        "# Load VAE encoder and decoder pre-trained on the reconstruction and KLD tasks\n",
        "vae_encoder = load.load_encoder(REPO_PATH, model_type=\"vae\")\n",
        "vae_decoder = load.load_vae_decoder(REPO_PATH)"
      ],
      "execution_count": null,
      "outputs": []
    },
    {
      "cell_type": "markdown",
      "metadata": {
        "id": "GLBa-QlfTxPR"
      },
      "source": [
        "### Interactive Demo 4.1.1: Plotting example reconstructions using the pre-trained VAE encoder and decoder.\n",
        "\n",
        "In this demo, we sample images from the test set, and take a look at the quality of the reconstructions using `models.plot_vae_reconstructions()`.  \n",
        "\n",
        "**Interactive Demo:** Try plotting different images from the test dataset by selecting different `test_sampler.indices` values. (Original setting is `indices=test_sampler.indices[:10]`.)"
      ]
    },
    {
      "cell_type": "code",
      "metadata": {
        "id": "mYv9DrfJH49i"
      },
      "source": [
        "models.plot_vae_reconstructions(\n",
        "    vae_encoder, # pre-trained encoder\n",
        "    vae_decoder, # pre-trained decoder\n",
        "    dataset=dSprites_torchdataset, \n",
        "    indices=test_sampler.indices[:10], # DEMO: select different indices to plot from the test set \n",
        "    title=\"VAE test set image reconstructions\", \n",
        "    )"
      ],
      "execution_count": null,
      "outputs": []
    },
    {
      "cell_type": "markdown",
      "metadata": {
        "id": "kwepXONJHqGW"
      },
      "source": [
        "### Discussion 4.1.1: How does the VAE perform on the reconstruction task? \n",
        "*    Which latent features does the network appear to encode well, and which does it encode less well?\n",
        "\n",
        "_N.B.: This VAE network uses a basic VAE loss with a convolutional encoder (our core encoder network), and a deconvolutional decoder. This can lead to some blurriness in the reconstructed shapes which a more sophisticated VAE could overcome._"
      ]
    },
    {
      "cell_type": "markdown",
      "metadata": {
        "id": "0y9me6CwIb71"
      },
      "source": [
        "### Coding Exercise 4.1.1: Evaluating the RSMs produced by the VAE encoder network.\n",
        "\n",
        "We will now compare the pre-trained VAE encoder network RSM to the previously generated encoder RSMs. \n",
        "\n",
        "**Exercise:** \n",
        "*    Visualize the RSMs for the supervised, untrained and VAE network encoders, using `models.plot_model_RSMs()`. \n",
        "*    Visualize the RSMs, organized along different latent dimensions (`\"posX\"`, `\"posY\"`, `\"orientation\"` or `\"scale\"`), and compare the patterns observed for the different encoder networks.\n",
        "\n",
        "**Hint**: `models.plot_model_RSMs()` is introduced in **Interactive Demo 2.1.1**."
      ]
    },
    {
      "cell_type": "code",
      "metadata": {
        "id": "-u071ci2OJI2"
      },
      "source": [
        "def plot_rsms_all():\n",
        "  sorting_latent = \"shape\"\n",
        "  print(\"Plotting RSMs...\")\n",
        "  #################################################\n",
        "  # Fill in missing code below (...),\n",
        "  # then remove or comment the line below to test your implementation\n",
        "  raise NotImplementedError(\"Exercise: Plot RSMs.\")\n",
        "  #################################################\n",
        "  # EXERCISE: Visualize RSMs for the supervised, untrained and VAE network encoders.\n",
        "  _ = models.plot_model_RSMs(\n",
        "      encoders=[..., ..., ...], # we pass all three encoders\n",
        "      dataset=..., \n",
        "      sampler=..., # we want to see the representations on the held out test set\n",
        "      titles=[\"Supervised network encoder RSM\", \"Untrained network encoder RSM\", \n",
        "              \"VAE network encoder RSM\"], # plot titles\n",
        "      sorting_latent=...,\n",
        "      )\n",
        "\n",
        "\n",
        "## Uncomment below to test your function\n",
        "# plot_rsms_all()"
      ],
      "execution_count": null,
      "outputs": []
    },
    {
      "cell_type": "code",
      "metadata": {
        "id": "M0HXDNQgGRE5"
      },
      "source": [
        "# to_remove solution\n",
        "def plot_rsms_all():\n",
        "  sorting_latent = \"shape\"\n",
        "  print(\"Plotting RSMs...\")\n",
        "  # EXERCISE: Visualize RSMs for the supervised, untrained and VAE network encoders.\n",
        "  _ = models.plot_model_RSMs(\n",
        "      encoders=[supervised_encoder, untrained_encoder, vae_encoder], # we pass all three encoders\n",
        "      dataset=dSprites_torchdataset, \n",
        "      sampler=test_sampler, # we want to see the representations on the held out test set\n",
        "      titles=[\"Supervised network encoder RSM\", \"Untrained network encoder RSM\", \n",
        "              \"VAE network encoder RSM\"], # plot titles\n",
        "      sorting_latent=sorting_latent,\n",
        "      )\n",
        "\n",
        "\n",
        "## Uncomment below to test your function\n",
        "with plt.xkcd():\n",
        "  plot_rsms_all()"
      ],
      "execution_count": null,
      "outputs": []
    },
    {
      "cell_type": "markdown",
      "metadata": {
        "id": "-37n8yZUASUA"
      },
      "source": [
        "### Discussion 4.1.2: What can we conclude about the the ability of generative models like VAEs to construct a meaningful representation space?\n",
        "\n",
        "**A.** How do the pre-trained VAE encoder RSMs (sorted along different latent dimensions) compare to the supervised and untrained encoder network RSMs?  \n",
        "**B.** What explains these different RSMs?  \n",
        "**C.** How well will the pre-trained VAE encoder likely perform on the shape classification task, as compared to the other encoder networks?  \n",
        "**D.** Might the pre-trained VAE encoder be better suited to predicting a different latent dimension?"
      ]
    },
    {
      "cell_type": "markdown",
      "metadata": {
        "id": "bDgosjDuGYtV"
      },
      "source": [
        "### Responses 4.1.2\n",
        "**A.**  \n",
        "**B.**  \n",
        "**C.**  \n",
        "**D.**  "
      ]
    },
    {
      "cell_type": "markdown",
      "metadata": {
        "id": "vny_hb5xOVI2"
      },
      "source": [
        "### Coding Exercise 4.1.2: Evaluating the classification performance of a logistic regression trained on the representations produced by the pre-trained VAE network encoder.\n",
        "\n",
        "For the pre-trained VAE encoder, as the encoder parameters have already been trained, they should be kept frozen while the classifier is trained by setting `freeze_features=True`.   \n",
        "\n",
        "**Exercise:** \n",
        "*     Set a number of epochs for which  to train classifier.  \n",
        "*     Train a classifier, along with the encoder, to classify the input images according to shape, using `models.train_classifier()`.\n",
        "*     Plot the loss array returned when training the model, and update the number of training epochs, if needed. \n",
        "\n",
        "**Hint**: `models.train_classifier()` is introduced in **Interactive Demo 1.2.1**."
      ]
    },
    {
      "cell_type": "code",
      "metadata": {
        "id": "X4OvvZ2UH_9h"
      },
      "source": [
        "def vae_train_loss(num_epochs, seed):\n",
        "  # call this before any dataset/network initializing or training, \n",
        "  # to ensure reproducibility\n",
        "  set_seed(seed)\n",
        "  #################################################\n",
        "  # Fill in missing code below (...),\n",
        "  # then remove or comment the line below to test your implementation\n",
        "  raise NotImplementedError(\"Exercise: Train a classifer on the pre-trained VAE encoder representations.\")\n",
        "  #################################################\n",
        "  # EXERCISE: Train an encoder and classifier on the images, using models.train_classifier()\n",
        "  print(\"Training a classifier on the pre-trained VAE encoder representations...\")\n",
        "  _, vae_loss_array, _, _ = models.train_classifier(\n",
        "      encoder=..., \n",
        "      dataset=..., \n",
        "      train_sampler=..., \n",
        "      test_sampler=..., \n",
        "      freeze_features=..., # keep the encoder frozen while training the classifier\n",
        "      num_epochs=..., \n",
        "      verbose=... # print results\n",
        "      )\n",
        "  #################################################\n",
        "  # Fill in missing code below (...),\n",
        "  # then remove or comment the line below to test your implementation\n",
        "  raise NotImplementedError(\"Exercise: Plot the VAE classifier training loss.\")\n",
        "  #################################################\n",
        "  # EXERCISE: Plot the VAE classifier training loss.\n",
        "  fig, ax = plt.subplots()\n",
        "  ax.plot(...)\n",
        "  ax.set_title(...)\n",
        "  ax.set_xlabel(...)\n",
        "  ax.set_ylabel(...)\n",
        "\n",
        "  return vae_loss_array\n",
        "\n",
        "# Set a reasonable number of training epochs\n",
        "num_epochs = 25\n",
        "## Uncomment below to test your function\n",
        "# vae_loss_array = vae_train_loss(num_epochs=num_epochs, seed=SEED)"
      ],
      "execution_count": null,
      "outputs": []
    },
    {
      "cell_type": "code",
      "metadata": {
        "id": "Tq3NvLvbIrHM"
      },
      "source": [
        "# to_remove solution \n",
        "def vae_train_loss(num_epochs, seed):\n",
        "  # call this before any dataset/network initializing or training, \n",
        "  # to ensure reproducibility\n",
        "  set_seed(seed)\n",
        "  # EXERCISE: Train an encoder and classifier on the images, using models.train_classifier()\n",
        "  print(\"Training a classifier on the pre-trained VAE encoder representations...\")\n",
        "  _, vae_loss_array, _, _ = models.train_classifier(\n",
        "      encoder=vae_encoder, \n",
        "      dataset=dSprites_torchdataset, \n",
        "      train_sampler=train_sampler, \n",
        "      test_sampler=test_sampler, \n",
        "      freeze_features=True, # keep the encoder frozen while training the classifier\n",
        "      num_epochs=num_epochs, \n",
        "      verbose=True # print results\n",
        "      )\n",
        "  # EXERCISE: Plot the VAE classifier training loss.\n",
        "  fig, ax = plt.subplots()\n",
        "  ax.plot(vae_loss_array)\n",
        "  ax.set_title(\"Loss of classifier trained on a VAE encoder.\")\n",
        "  ax.set_xlabel(\"Epoch number\")\n",
        "  ax.set_ylabel(\"Training loss\")\n",
        "\n",
        "  return vae_loss_array\n",
        "\n",
        "\n",
        "# Set a reasonable number of training epochs\n",
        "num_epochs = 25\n",
        "## Uncomment below to test your function\n",
        "with plt.xkcd():\n",
        "  vae_loss_array = vae_train_loss(num_epochs=num_epochs, seed=SEED)"
      ],
      "execution_count": null,
      "outputs": []
    },
    {
      "cell_type": "markdown",
      "metadata": {
        "id": "-ETetfuuV4vi"
      },
      "source": [
        "The network loss training is fairly stable by 25 epochs, at which point the classifier performs at 45.75% accuracy on the test dataset.  "
      ]
    },
    {
      "cell_type": "markdown",
      "metadata": {
        "id": "qVnxnLugRB9X"
      },
      "source": [
        "---\n",
        "\n",
        "# Section 5: The modern approach to self-supervised training for invariance."
      ]
    },
    {
      "cell_type": "code",
      "metadata": {
        "cellView": "form",
        "id": "u2WFQRDbCADQ"
      },
      "source": [
        "#@title Video 5: Modern Self-supervised Learning\n",
        "# Insert the ID of the corresponding youtube video\n",
        "from IPython.display import YouTubeVideo\n",
        "video = YouTubeVideo(id=\"S519cbZNDqU\", width=854, height=480, fs=1)\n",
        "print(\"Video available at https://youtu.be/\" + video.id)\n",
        "video"
      ],
      "execution_count": null,
      "outputs": []
    },
    {
      "cell_type": "markdown",
      "metadata": {
        "id": "9gLmP3fwSJK0"
      },
      "source": [
        "## Section 5.1: Examining different options for learning invariant representations.\n",
        "\n",
        "We now take a look at a few options for learning invariant shape representations for a dataset such as dSprites.  "
      ]
    },
    {
      "cell_type": "markdown",
      "metadata": {
        "id": "HGUhhPkfUKJj"
      },
      "source": [
        "### Interactive Demo 5.1.1: Visualizing a few different image transformations available that could be used to learn invariance.\n",
        "\n",
        "The following code:\n",
        "*    initializes a set of transforms called `invariance_transforms` using the `torchvision.transforms.RandomAffine` class,\n",
        "*    collects the dSprites dataset into a torch dataset `dSprites_invariance_torchdataset` which takes the `invariance_transforms` as input and deploys the transforms when it is called, \n",
        "*    shows a few examples of images and their transformed versions using the `data.dSpritesTorchDataset` `show_images()` method. \n",
        "\n",
        "The `torchvision.transforms.RandomAffine` class enables us to predetermine which types and ranges of transforms will be sampled from when transforming the images, by setting the following arguments:\n",
        "*    `degrees`: absolute maximum number of degrees to rotate\n",
        "*    `translate`: absolute maximum proportion of width to shift in x, and of height to shift in y\n",
        "*   `scale`: minimum to maximum scaling factor\n",
        "\n",
        "**Interactive Demo:** Try out a few combinations of the transformation parameters, and visualize the resulting effects on the original images. (The original settings are `degrees=90`, `translate=(0.2, 0.2)`, `scale=(0.8, 1.2)`.) "
      ]
    },
    {
      "cell_type": "code",
      "metadata": {
        "id": "ouaUUaxVa86a"
      },
      "source": [
        "# call this before any dataset/network initializing or training, \n",
        "# to ensure reproducibility\n",
        "set_seed(seed)\n",
        "\n",
        "# DEMO: Try some random affine data augmentations combinations to apply to the images\n",
        "invariance_transforms = torchvision.transforms.RandomAffine(\n",
        "    degrees=90, \n",
        "    translate=(0.2, 0.2),  # (in x, in y)\n",
        "    scale=(0.8, 1.2)   # min to max scaling\n",
        "    )\n",
        "\n",
        "# initialize a simclr-specific torch dataset \n",
        "dSprites_invariance_torchdataset = data.dSpritesTorchDataset(\n",
        "    dSprites, \n",
        "    target_latent=\"shape\", \n",
        "    simclr=True, \n",
        "    simclr_transforms=invariance_transforms\n",
        "    )\n",
        "\n",
        "# show a few example images are their augmentations\n",
        "_ = dSprites_invariance_torchdataset.show_images(randst=SEED)"
      ],
      "execution_count": null,
      "outputs": []
    },
    {
      "cell_type": "markdown",
      "metadata": {
        "id": "l20tS9tiZ986"
      },
      "source": [
        "---\n",
        "\n",
        "# Section 6: How to train for invariance to transformations with a target network."
      ]
    },
    {
      "cell_type": "code",
      "metadata": {
        "cellView": "form",
        "id": "YFSWhfu3CDQc"
      },
      "source": [
        "#@title Video 6: Data Transformations\n",
        "# Insert the ID of the corresponding youtube video\n",
        "from IPython.display import YouTubeVideo\n",
        "video = YouTubeVideo(id=\"WX_PRtohPDQ\", width=854, height=480, fs=1)\n",
        "print(\"Video available at https://youtu.be/\" + video.id)\n",
        "video"
      ],
      "execution_count": null,
      "outputs": []
    },
    {
      "cell_type": "markdown",
      "metadata": {
        "id": "TyGeFtdLbLTe"
      },
      "source": [
        "## Section 6.1: Using image transformations to learn feature invariant representations in an SSL network.\n",
        "\n",
        "We will now investigate the effects of selecting certain transformations compared to others on the invariance learned by an encoder network trained with a **specific type of SSL algorithm, namely SimCLR**. Specifically, we will observe how pre-training an encoder network with SimCLR affects the performance of a classifier trained on the representations the network has learned.  "
      ]
    },
    {
      "cell_type": "markdown",
      "metadata": {
        "id": "OL2Nly_D9s95"
      },
      "source": [
        "### Coding Exercise 6.1.1: Complete a SimCLR loss function.\n",
        "\n",
        "The following code:\n",
        "*    lays out the skeleton of a function `custom_simclr_contrastive_loss()` which calculates the contrastive loss for a SimCLR network,\n",
        "*    tests the custom function against the solution implementation,\n",
        "*    trains SimCLR for a few epochs.\n",
        "\n",
        "**Exercise:** \n",
        "*    Complete the `custom_simclr_contrastive_loss()` implementation,\n",
        "*    Plot the loss after training SimCLR with the custom loss function for a few epochs.\n",
        "\n",
        "**Hint**: `custom_simclr_contrastive_loss()` takes 2 input arguments: \n",
        "- proj_feat1 (2D torch Tensor): first set of projected features (batch_size x feat_size)  \n",
        "- proj_feat2 (2D torch Tensor): second set of projected features (batch_size x feat_size)  "
      ]
    },
    {
      "cell_type": "code",
      "metadata": {
        "id": "osTPs0Ym1w24"
      },
      "source": [
        "def custom_simclr_contrastive_loss(proj_feat1, proj_feat2, temperature=0.5,\n",
        "                                   seed=0):\n",
        "  \"\"\"\n",
        "  custom_simclr_contrastive_loss(proj_feat1, proj_feat2)\n",
        "  Returns contrastive loss, given sets of projected features, with positive \n",
        "  pairs matched along the batch dimension.\n",
        "  Required args:\n",
        "  - proj_feat1 (2D torch Tensor): first set of projected features \n",
        "      (batch_size x feat_size)\n",
        "  - proj_feat2 (2D torch Tensor): second set of projected features \n",
        "      (batch_size x feat_size)\n",
        "    \n",
        "  Optional args:\n",
        "  - temperature (float): relaxation temperature. (default: 0.5)\n",
        "  Returns:\n",
        "  - loss (float): mean contrastive loss\n",
        "  \"\"\"\n",
        "  # call this before any dataset/network initializing or training, \n",
        "  # to ensure reproducibility\n",
        "  set_seed(seed)\n",
        "  device = proj_feat1.device\n",
        "\n",
        "  if len(proj_feat1) != len(proj_feat2):\n",
        "    raise ValueError(f\"Batch dimension of proj_feat1 ({len(proj_feat1)}) \"\n",
        "                     f\"and proj_feat2 ({len(proj_feat2)}) should be same\")\n",
        "\n",
        "  batch_size = len(proj_feat1) # N\n",
        "  z1 = torch.nn.functional.normalize(proj_feat1, dim=1)\n",
        "  z2 = torch.nn.functional.normalize(proj_feat2, dim=1)\n",
        "\n",
        "  proj_features = torch.cat([z1, z2], dim=0) # 2N x projected feature dimension\n",
        "  similarity_mat = torch.nn.functional.cosine_similarity(\n",
        "      proj_features.unsqueeze(1), proj_features.unsqueeze(0), dim=2\n",
        "      ) # dim: 2N x 2N\n",
        "  \n",
        "  # initialize arrays to identify sets of positive and negative examples\n",
        "  pos_sample_indicators = torch.roll(torch.eye(2 * batch_size), batch_size, 1)\n",
        "  neg_sample_indicators = torch.ones(2 * batch_size) - torch.eye(2 * batch_size)\n",
        "\n",
        "  #################################################\n",
        "  # Fill in missing code below (...),\n",
        "  # then remove or comment the line below to test your function\n",
        "  raise NotImplementedError(\"Exercise: Implement SimCLR loss.\")\n",
        "  #################################################\n",
        "  # EXERCISE: Implement the SimClr loss calculation\n",
        "  # Calculate the numerator of the Loss expression by selecting the appropriate elements from similarity_mat\n",
        "  # Use the pos_sample_indicators tensor\n",
        "  numerator = ...\n",
        "  # Calculate the denominator of the Loss expression by selecting the appropriate elements from similarity_mat\n",
        "  # Use the neg_sample_indicators tensor\n",
        "  denominator = ...\n",
        "  \n",
        "  if (denominator < 1e-8).any(): # clamp to avoid division by 0\n",
        "    denominator = torch.clamp(denominator, 1e-8)\n",
        "\n",
        "  loss = torch.mean(-torch.log(numerator / denominator))\n",
        "  \n",
        "  return loss\n",
        "\n",
        "\n",
        "## Uncomment below to test your function\n",
        "test_custom_contrastive_loss_fct(custom_simclr_contrastive_loss)"
      ],
      "execution_count": null,
      "outputs": []
    },
    {
      "cell_type": "code",
      "metadata": {
        "id": "lY5R3F2z10HF"
      },
      "source": [
        "# to_remove solution\n",
        "def custom_simclr_contrastive_loss(proj_feat1, proj_feat2, temperature=0.5,\n",
        "                                   seed=0):\n",
        "  \"\"\"\n",
        "  custom_simclr_contrastive_loss(proj_feat1, proj_feat2)\n",
        "  Returns contrastive loss, given sets of projected features, with positive \n",
        "  pairs matched along the batch dimension.\n",
        "  Required args:\n",
        "  - proj_feat1 (2D torch Tensor): first set of projected features \n",
        "      (batch_size x feat_size)\n",
        "  - proj_feat2 (2D torch Tensor): second set of projected features \n",
        "      (batch_size x feat_size)\n",
        "    \n",
        "  Optional args:\n",
        "  - temperature (float): relaxation temperature. (default: 0.5)\n",
        "  Returns:\n",
        "  - loss (float): mean contrastive loss\n",
        "  \"\"\"\n",
        "  # call this before any dataset/network initializing or training, \n",
        "  # to ensure reproducibility\n",
        "  set_seed(seed)\n",
        "  device = proj_feat1.device\n",
        "\n",
        "  if len(proj_feat1) != len(proj_feat2):\n",
        "    raise ValueError(f\"Batch dimension of proj_feat1 ({len(proj_feat1)}) \"\n",
        "                     f\"and proj_feat2 ({len(proj_feat2)}) should be same\")\n",
        "\n",
        "  batch_size = len(proj_feat1) # N\n",
        "  z1 = torch.nn.functional.normalize(proj_feat1, dim=1)\n",
        "  z2 = torch.nn.functional.normalize(proj_feat2, dim=1)\n",
        "\n",
        "  proj_features = torch.cat([z1, z2], dim=0) # 2N x projected feature dimension\n",
        "  similarity_mat = torch.nn.functional.cosine_similarity(\n",
        "      proj_features.unsqueeze(1), proj_features.unsqueeze(0), dim=2\n",
        "      ) # dim: 2N x 2N\n",
        "  \n",
        "  # initialize arrays to identify sets of positive and negative examples\n",
        "  pos_sample_indicators = torch.roll(torch.eye(2 * batch_size), batch_size, 1)\n",
        "  neg_sample_indicators = torch.ones(2 * batch_size) - torch.eye(2 * batch_size)\n",
        "\n",
        "  # EXERCISE: Implement the SimClr loss calculation\n",
        "  # Calculate the numerator of the Loss expression by selecting the appropriate elements from similarity_mat\n",
        "  # Use the pos_sample_indicators tensor\n",
        "  numerator = torch.sum(\n",
        "      torch.exp(similarity_mat / temperature) * pos_sample_indicators.to(device), \n",
        "      dim=1\n",
        "      )\n",
        "  # Calculate the denominator of the Loss expression by selecting the appropriate elements from similarity_mat\n",
        "  # Use the neg_sample_indicators tensor\n",
        "  denominator = torch.sum(\n",
        "      torch.exp(similarity_mat / temperature) * neg_sample_indicators.to(device), \n",
        "      dim=1\n",
        "      )\n",
        "  \n",
        "  if (denominator < 1e-8).any(): # clamp to avoid division by 0\n",
        "    denominator = torch.clamp(denominator, 1e-8)\n",
        "\n",
        "  loss = torch.mean(-torch.log(numerator / denominator))\n",
        "  \n",
        "  return loss\n",
        "\n",
        "\n",
        "## Uncomment below to test your function\n",
        "test_custom_contrastive_loss_fct(custom_simclr_contrastive_loss)"
      ],
      "execution_count": null,
      "outputs": []
    },
    {
      "cell_type": "markdown",
      "metadata": {
        "id": "ouHrDy85vcXi"
      },
      "source": [
        "```python\n",
        "custom_simclr_contrastive_loss() is correctly implemented.\n",
        "```"
      ]
    },
    {
      "cell_type": "code",
      "metadata": {
        "id": "nVnLrrdIvRjC"
      },
      "source": [
        "# Train SimCLR for a few epochs\n",
        "_, test_simclr_loss_array = train_simclr(\n",
        "    encoder=models.EncoderCore(),\n",
        "    dataset=dSprites_invariance_torchdataset, \n",
        "    train_sampler=train_sampler, \n",
        "    num_epochs=5, \n",
        "    loss_fct=custom_simclr_contrastive_loss\n",
        "    )\n",
        "\n",
        "# Plot SimCLR loss over a few epochs.\n",
        "fig, ax = plt.subplots()\n",
        "ax.plot(test_simclr_loss_array)\n",
        "ax.set_title(\"SimCLR network loss.\")\n",
        "ax.set_xlabel(\"Epoch number\")\n",
        "_ = ax.set_ylabel(\"Training loss\")"
      ],
      "execution_count": null,
      "outputs": []
    },
    {
      "cell_type": "markdown",
      "metadata": {
        "id": "3H2qM9D5dcbz"
      },
      "source": [
        "\n",
        "Given that self-supervised models typically require more training than supervised models, instead of fully pre-training a network here, we will load one that was **pre-trained for 50 epochs**. Again, the **encoder shares the same architecture** as the one used for the supervised, untrained and VAE examples above.\n",
        "\n",
        "The following code:\n",
        "*    load the parameters of a SimCLR network pre-trained on the task SimCLR contrastive task using `load.load_encoder()`."
      ]
    },
    {
      "cell_type": "code",
      "metadata": {
        "id": "T9t3WKFubpzV"
      },
      "source": [
        "# call this before any dataset/network initializing or training, \n",
        "# to ensure reproducibility\n",
        "set_seed(seed)\n",
        "\n",
        "# Load SimCLR encoder pre-trained on the contrastive loss\n",
        "simclr_encoder = load.load_encoder(REPO_PATH, model_type=\"simclr\")"
      ],
      "execution_count": null,
      "outputs": []
    },
    {
      "cell_type": "markdown",
      "metadata": {
        "id": "DU_0c-ToCdVN"
      },
      "source": [
        "### Coding Exercise 6.1.2: Evaluating the classification performance of a logistic regression trained on the representations produced by a SimCLR encoder that was pre-trained using different image transformations.\n",
        "\n",
        "For the pre-trained SimCLR encoder, as with the VAE encoder, as the encoder parameters have already been trained, they should be kept frozen while the classifier is trained by setting `freeze_features=True`.   \n",
        "\n",
        "**Exercise:** \n",
        "*     Set a number of epochs for which  to train classifier.  \n",
        "*     Train a classifier, along with the encoder, to classify the input images according to shape, using `models.train_classifier()`.\n",
        "*     Plot the loss array returned when training the model, and update the number of training epochs, if needed. \n",
        "\n",
        "**Hint**: `models.train_classifier()` is introduced in **Interactive Demo 1.2.1**."
      ]
    },
    {
      "cell_type": "code",
      "metadata": {
        "id": "hPHBsYFYOSiK"
      },
      "source": [
        "def plot_simclr(num_epochs, seed):\n",
        "  # call this before any dataset/network initializing or training, \n",
        "  # to ensure reproducibility\n",
        "  set_seed(seed)\n",
        "  #################################################\n",
        "  # Fill in missing code below (...),\n",
        "  # then remove or comment the line below to test your implementation\n",
        "  raise NotImplementedError(\"Exercise: Train a classifer on the pre-trained SimCLR encoder representations.\")\n",
        "  #################################################\n",
        "  # EXERCISE: Train an encoder and classifier on the images, using models.train_classifier()\n",
        "  print(\"Training a classifier on the pre-trained SimCLR encoder representations...\")\n",
        "  _, simclr_loss_array, _, _ = models.train_classifier(\n",
        "      encoder=..., \n",
        "      dataset=..., \n",
        "      train_sampler=..., \n",
        "      test_sampler=..., \n",
        "      freeze_features=..., # keep the encoder frozen while training the classifier\n",
        "      num_epochs=..., \n",
        "      verbose=...\n",
        "      )\n",
        "  #################################################\n",
        "  # Fill in missing code below (...),\n",
        "  # then remove or comment the line below to test your implementation\n",
        "  raise NotImplementedError(\"Exercise: Plot the loss array\")\n",
        "  #################################################\n",
        "  # EXERCISE: Plot the loss array\n",
        "  fig, ax = plt.subplots()\n",
        "  ax.plot(...)\n",
        "  ax.set_title(...)\n",
        "  ax.set_xlabel(...)\n",
        "  ax.set_ylabel(...)\n",
        "\n",
        "\n",
        "# Set a reasonable number of training epochs\n",
        "num_epochs = 25\n",
        "## Uncomment below to test your function\n",
        "with plt.xkcd():\n",
        "  plot_simclr(num_epochs=num_epochs, seed=SEED)"
      ],
      "execution_count": null,
      "outputs": []
    },
    {
      "cell_type": "code",
      "metadata": {
        "id": "dtKx7itMEZ0b"
      },
      "source": [
        "# to_remove solution\n",
        "def plot_simclr(num_epochs, seed):\n",
        "  # call this before any dataset/network initializing or training, \n",
        "  # to ensure reproducibility\n",
        "  set_seed(seed)\n",
        "  # EXERCISE: Train an encoder and classifier on the images, using models.train_classifier()\n",
        "  print(\"Training a classifier on the pre-trained SimCLR encoder representations...\")\n",
        "  _, simclr_loss_array, _, _ = models.train_classifier(\n",
        "      encoder=simclr_encoder, \n",
        "      dataset=dSprites_torchdataset, \n",
        "      train_sampler=train_sampler, \n",
        "      test_sampler=test_sampler, \n",
        "      freeze_features=True, # keep the encoder frozen while training the classifier\n",
        "      num_epochs=num_epochs, \n",
        "      verbose=True\n",
        "      )\n",
        "  # EXERCISE: Plot the loss array\n",
        "  fig, ax = plt.subplots()\n",
        "  ax.plot(simclr_loss_array)\n",
        "  ax.set_title(\"Loss of classifier trained on a SimCLR encoder.\")\n",
        "  ax.set_xlabel(\"Epoch number\")\n",
        "  ax.set_ylabel(\"Training loss\")\n",
        "\n",
        "\n",
        "# Set a reasonable number of training epochs\n",
        "num_epochs = 25\n",
        "## Uncomment below to test your function\n",
        "with plt.xkcd():\n",
        "  plot_simclr(num_epochs=num_epochs, seed=SEED)"
      ],
      "execution_count": null,
      "outputs": []
    },
    {
      "cell_type": "markdown",
      "metadata": {
        "id": "WmVdO6Rt6OSX"
      },
      "source": [
        "The network (using the transforms proposed above) performs at 92.60% accuracy on the test dataset, after 25 classifier training epochs. "
      ]
    },
    {
      "cell_type": "markdown",
      "metadata": {
        "id": "kTO4h5P8aY0Z"
      },
      "source": [
        "---\n",
        "\n",
        "# Section 7: Self-supervised representations learn invariance."
      ]
    },
    {
      "cell_type": "code",
      "metadata": {
        "cellView": "form",
        "id": "YIgeeIH_CIJr"
      },
      "source": [
        "#@title Video 7: Invariant Representations\n",
        "# Insert the ID of the corresponding youtube video\n",
        "from IPython.display import YouTubeVideo\n",
        "video = YouTubeVideo(id=\"qtpVm3QCHCk\", width=854, height=480, fs=1)\n",
        "print(\"Video available at https://youtu.be/\" + video.id)\n",
        "video"
      ],
      "execution_count": null,
      "outputs": []
    },
    {
      "cell_type": "markdown",
      "metadata": {
        "id": "L8-mo40ndGv_"
      },
      "source": [
        "## Section 7.1: The effects of using data transformations on invariance in SimCLR network representations.\n",
        "\n",
        "We now observe the effects of adding our data transformations on the invariance learned by a pre-trained SimCLR network encoder.  "
      ]
    },
    {
      "cell_type": "markdown",
      "metadata": {
        "id": "M9nlrYF--Gge"
      },
      "source": [
        "### Coding Exercise 7.1.1: Visualizing the network encoder RSMs, organized along different latent dimensions.\n",
        "\n",
        "We will now compare the pre-trained SimCLR encoder network RSM to some of the previously generated encoder RSMs. \n",
        "\n",
        "**Exercise:** \n",
        "*    Visualize the RSMs for the supervised, VAE and SimCLR network encoders, using `models.plot_model_RSMs()`. \n",
        "*    Visualize the RSMs, organized along different latent dimensions (`\"posX\"`, `\"posY\"`, `\"orientation\"` or `\"scale\"`), and compare the patterns observed for the different encoder networks.\n",
        "\n",
        "**Hint**: `models.plot_model_RSMs()` is introduced in **Interactive Demo 2.1.1**."
      ]
    },
    {
      "cell_type": "code",
      "metadata": {
        "id": "115D-aALRL5G"
      },
      "source": [
        "def plot_rsms2():\n",
        "  sorting_latent = \"shape\"\n",
        "  #################################################\n",
        "  # Fill in missing code below (...),\n",
        "  # then remove or comment the line below to test your implementation\n",
        "  raise NotImplementedError(\"Exercise: Plot RSMs.\")\n",
        "  #################################################\n",
        "  # EXERCISE: Visualize RSMs for the supervised, VAE and SimCLR network encoders.\n",
        "  print(\"Plotting RSMs...\")\n",
        "  _ = models.plot_model_RSMs(\n",
        "      encoders=[..., ..., ...],\n",
        "      dataset=..., \n",
        "      sampler=..., # we want to see the representations on the held out test set\n",
        "      titles=[\"Supervised network encoder RSM\", \"VAE network encoder RSM\", \n",
        "              \"SimCLR network encoder RSM\"], # plot titles\n",
        "      sorting_latent=... \n",
        "      )\n",
        "\n",
        "\n",
        "## Uncomment below to test your code\n",
        "# plot_rsms2()"
      ],
      "execution_count": null,
      "outputs": []
    },
    {
      "cell_type": "code",
      "metadata": {
        "id": "4BsWhyJSesTI"
      },
      "source": [
        "# to_remove solution\n",
        "def plot_rsms2():\n",
        "  sorting_latent = \"shape\"\n",
        "  # EXERCISE: Visualize RSMs for the supervised, VAE and SimCLR network encoders.\n",
        "  print(\"Plotting RSMs...\")\n",
        "  _ = models.plot_model_RSMs(\n",
        "      encoders=[supervised_encoder, vae_encoder, simclr_encoder],\n",
        "      dataset=dSprites_torchdataset, \n",
        "      sampler=test_sampler, # we want to see the representations on the held out test set\n",
        "      titles=[\"Supervised network encoder RSM\", \"VAE network encoder RSM\", \n",
        "              \"SimCLR network encoder RSM\"], # plot titles\n",
        "      sorting_latent=sorting_latent \n",
        "      )\n",
        "\n",
        "\n",
        "## Uncomment below to test your code\n",
        "with plt.xkcd():\n",
        "  plot_rsms2()"
      ],
      "execution_count": null,
      "outputs": []
    },
    {
      "cell_type": "markdown",
      "metadata": {
        "id": "0LDi8KyA-Z2T"
      },
      "source": [
        "### Discussion 7.1.1: What can we conclude about the ability of contrastive models like SimCLR to construct a meaningful representation space?\n",
        "\n",
        "**A.** How do the pre-trained SimCLR encoder RSMs (sorted along different latent dimensions) compare to the supervised and pre-trained VAE encoder network RSMs?  \n",
        "**B.**  What explains these different RSMs?  \n",
        "**C.**  What advantages might some encoders have other others?  \n",
        "**D.**  How might one modify the SimCLR encoder pre-training, for example, if the downstream task were to predict orientation instead of shape?"
      ]
    },
    {
      "cell_type": "markdown",
      "metadata": {
        "id": "X8LPUK6vRS3_"
      },
      "source": [
        "### Responses 7.1.1\n",
        "\n",
        "**A.**  \n",
        "**B.**  \n",
        "**C.**  \n",
        "**D.**  "
      ]
    },
    {
      "cell_type": "markdown",
      "metadata": {
        "id": "PWZCq7wTaZDt"
      },
      "source": [
        "---\n",
        "\n",
        "# Section 8: Avoiding representational collapse.\n"
      ]
    },
    {
      "cell_type": "code",
      "metadata": {
        "cellView": "form",
        "id": "Nwt16xpTCMLL"
      },
      "source": [
        "#@title Video 8: Avoiding Represntational Collapse\n",
        "# Insert the ID of the corresponding youtube video\n",
        "from IPython.display import YouTubeVideo\n",
        "video = YouTubeVideo(id=\"OjcFJb6SQ8Q\", width=854, height=480, fs=1)\n",
        "print(\"Video available at https://youtu.be/\" + video.id)\n",
        "video"
      ],
      "execution_count": null,
      "outputs": []
    },
    {
      "cell_type": "markdown",
      "metadata": {
        "id": "bB89oxM5N3oZ"
      },
      "source": [
        "## Section 8.1: The effects of reducing the number of negative examples used in the SimCLR contrastive loss.\n",
        "\n",
        "Typically, a trick used to train neural networks on contrastive losses is to use large batch sizes (here, we use 1,000 examples per batch), and to use the representations of different images in a batch as **each other's negative examples**. So with a batch size of 1,000, each image has one positive paired image (its augmentation), and 1,998 negative paired images (all the other images and their augmentations). This enables the contrastive loss to obtain a good estimate of the full representational distribution.  \n",
        "\n",
        "To observe the consequences of sampling using fewer negative examples in the contrastive loss, we use a pre-trained SimCLR network again. However, this one was pre-trained with a parameter called `neg_pairs` set to `2`. Under the hood, this parameter affects only the contrastive loss calculation, allowing it to use **only 2 of the total available negative pairs in a batch, for each image.**"
      ]
    },
    {
      "cell_type": "markdown",
      "metadata": {
        "id": "YYKHFYPzRZC9"
      },
      "source": [
        "The following code:\n",
        "*    loads the parameters of a SimCLR network pre-trained on the task SimCLR contrastive task, but with only 2 negative pairs used per image in the loss calculation, using `load.load_encoder()`,\n",
        "*    plots the RSMs of a few network encoders for comparison."
      ]
    },
    {
      "cell_type": "code",
      "metadata": {
        "id": "OLY3E5auaiSW"
      },
      "source": [
        "# call this before any dataset/network initializing or training, \n",
        "# to ensure reproducibility\n",
        "set_seed(seed)\n",
        "\n",
        "# Load SimCLR encoder pre-trained on the contrastive loss\n",
        "simclr_encoder_neg_pairs = load.load_encoder(\n",
        "    REPO_PATH, model_type=\"simclr\", neg_pairs=2\n",
        "    )"
      ],
      "execution_count": null,
      "outputs": []
    },
    {
      "cell_type": "markdown",
      "metadata": {
        "id": "faFRA6kjR4FG"
      },
      "source": [
        "### Coding Exercise 8.1.1: Visualizing the network encoder RSMs, organized along different latent dimensions.\n",
        "\n",
        "We will now compare the RSM for the pre-trained SimCLR encoder  trained with **only 2 negative pairs** to the normal pre-trained SimCLR network encoder and the untrained network encoder. To help us compare the representations learned by the normal and modified SimCLR encoders, we will plot a histogram of the values that makes up both RSMs.\n",
        "\n",
        "**Exercise:** \n",
        "*    Visualize the RSMs for the normal SimCLR, 2-neg-pair SimCLR and untrained network encoders, using `models.plot_model_RSMs()`. \n",
        "*    Visualize the RSMs, organized along the `shape` latent dimension, and compare the patterns observed for the different encoder networks.\n",
        "*    Plot a histogram of RSM values for the normal and 2-neg-pair SimCLR network encoders.  \n",
        "\n",
        "**Hint**: \n",
        "*    `models.plot_model_RSMs()` is introduced in **Interactive Demo 2.1.1**.\n",
        "*    `models.plot_model_RSMs()` returns the **data matrices** calculated for each encoder's RSM, in order."
      ]
    },
    {
      "cell_type": "code",
      "metadata": {
        "id": "l_jGL76cTAnr"
      },
      "source": [
        "def sorting_plot():\n",
        "  sorting_latent = \"shape\" # Exercise: Try sorting by different latent dimensions\n",
        "  #################################################\n",
        "  # Fill in missing code below (...),\n",
        "  # then remove or comment the line below to test your implementation\n",
        "  raise NotImplementedError(\"Exercise: Plot RSMs.\")\n",
        "  #################################################\n",
        "  # EXERCISE: Visualize RSMs for the normal SimCLR, 2-neg-pair SimCLR and untrained network encoders.\n",
        "  print(\"Plotting RSMs...\")\n",
        "  simclr_rsm, simclr_neg_pairs_rsm, untrained_rsm = models.plot_model_RSMs(\n",
        "      encoders=[..., ..., ...],\n",
        "      dataset=..., \n",
        "      sampler=..., # we want to see the representations on the held out test set\n",
        "      titles=[\"SimCLR network encoder RSM\", \n",
        "              f\"SimCLR network encoder RSM\\n(2 negative pairs per image used in loss calc.)\",\n",
        "              \"Untrained network encoder RSM\"], # plot titles\n",
        "      sorting_latent=... \n",
        "      )\n",
        "  #################################################\n",
        "  # Fill in missing code below (...),\n",
        "  # then remove or comment the line below to test your implementation\n",
        "  raise NotImplementedError(\"Exercise: Plot histogram.\")\n",
        "  #################################################\n",
        "  # EXERCISE: Plot a histogram of RSM values for both encoders.\n",
        "  plot_rsm_histogram(\n",
        "      [..., ...], \n",
        "      colors=[...], \n",
        "      labels=[..., ...], \n",
        "      nbins=100\n",
        "      )\n",
        "\n",
        "\n",
        "## Uncommnet below to test your code\n",
        "# sorting_plot()"
      ],
      "execution_count": null,
      "outputs": []
    },
    {
      "cell_type": "code",
      "metadata": {
        "id": "EMNSVjLKajws"
      },
      "source": [
        "#to_remove solution\n",
        "def sorting_plot():\n",
        "  sorting_latent = \"shape\" # Exercise: Try sorting by different latent dimensions\n",
        "  # EXERCISE: Visualize RSMs for the normal SimCLR, 2-neg-pair SimCLR and untrained network encoders.\n",
        "  print(\"Plotting RSMs...\")\n",
        "  simclr_rsm, simclr_neg_pairs_rsm, untrained_rsm = models.plot_model_RSMs(\n",
        "      encoders=[simclr_encoder, simclr_encoder_neg_pairs, untrained_encoder],\n",
        "      dataset=dSprites_torchdataset, \n",
        "      sampler=test_sampler, # we want to see the representations on the held out test set\n",
        "      titles=[\"SimCLR network encoder RSM\", \n",
        "              f\"SimCLR network encoder RSM\\n(2 negative pairs per image used in loss calc.)\",\n",
        "              \"Untrained network encoder RSM\"], # plot titles\n",
        "      sorting_latent=sorting_latent \n",
        "      )\n",
        "  # EXERCISE: Plot a histogram of RSM values for both encoders.\n",
        "  plot_rsm_histogram(\n",
        "      [simclr_rsm, simclr_neg_pairs_rsm], \n",
        "      colors=[\"gray\", \"royalblue\"], \n",
        "      labels=[\"normal SimCLR RSM\", \"few neg. pairs SimCLR RSM\"], \n",
        "      nbins=100\n",
        "      )\n",
        "\n",
        "\n",
        "## Uncommnet below to test your code\n",
        "with plt.xkcd():\n",
        "  sorting_plot()"
      ],
      "execution_count": null,
      "outputs": []
    },
    {
      "cell_type": "markdown",
      "metadata": {
        "id": "8ThVIgGx_e_R"
      },
      "source": [
        "### Discussion 8.1.1: What can we conclude about the importance of negative pairs in computing the contrastive loss for models like SimCLR?\n",
        "\n",
        "**A.**  How does changing the number of negative pairs affect the networks' RSMs?  \n",
        "**B.**  How is the shape classifier likely to perform when the encoder is pre-trained with very few negative pairs?  \n",
        "**C.**  What, intuitively, is the role of negative pairs in shaping the representational space that a contrastive model learns, and how does this role relate to the role of positive pairs?"
      ]
    },
    {
      "cell_type": "markdown",
      "metadata": {
        "id": "v4YwqXkgUAvs"
      },
      "source": [
        "### Responses 8.1.1\n",
        "**A.**  \n",
        "**B.**  \n",
        "**C.**  "
      ]
    },
    {
      "cell_type": "markdown",
      "metadata": {
        "id": "yfJaTEquDoeo"
      },
      "source": [
        "### Coding Exercise 8.1.2: Evaluating the classification performance of a logistic regression trained on the representations produced by the SimCLR network encoder pre-trained with only a few negative pairs.\n",
        "\n",
        "For the 2-neg-pair SimCLR encoder, as the encoder parameters have already been trained, they should again be kept frozen while the classifier is trained by setting `freeze_features=True`.   \n",
        "\n",
        "**Exercise:** \n",
        "*     Set a number of epochs for which  to train classifier.  \n",
        "*     Train a classifier, along with the encoder, to classify the input images according to shape, using `models.train_classifier()`.\n",
        "*     Plot the loss array returned when training the model, and update the number of training epochs, if needed. \n",
        "\n",
        "**Hint**: `models.train_classifier()` is introduced in **Interactive Demo 1.2.1**."
      ]
    },
    {
      "cell_type": "code",
      "metadata": {
        "id": "6Tis1xCvUXwo"
      },
      "source": [
        "def train_plot_simclr(num_epochs, seed):\n",
        "  # call this before any dataset/network initializing or training, \n",
        "  # to ensure reproducibility\n",
        "  set_seed(seed)\n",
        "  print(\"Training a classifier on the representations learned by the SimCLR \"\n",
        "        \"network encoder pre-trained\\nusing only 2 negative pairs per image \"\n",
        "        \"for the loss calculation...\")\n",
        "  #################################################\n",
        "  # Fill in missing code below (...),\n",
        "  # then remove or comment the line below to test your implementation\n",
        "  raise NotImplementedError(\"Exercise: Train a classifer on the pre-trained few negative pairs SimCLR encoder representations.\")\n",
        "  #################################################\n",
        "  # EXERCISE: Train an encoder and classifier on the images, using models.train_classifier()\n",
        "  _, simclr_neg_pairs_loss_array, _, _ = models.train_classifier(\n",
        "    encoder=simclr_encoder_neg_pairs, \n",
        "    dataset=dSprites_torchdataset, \n",
        "    train_sampler=train_sampler, \n",
        "    test_sampler=test_sampler, \n",
        "    freeze_features=True, # keep the encoder frozen while training the classifier\n",
        "    num_epochs=num_epochs, \n",
        "    verbose=True\n",
        "    )\n",
        "\n",
        "  # Plot the loss array\n",
        "  fig, ax = plt.subplots()\n",
        "  ax.plot(simclr_neg_pairs_loss_array)\n",
        "  ax.set_title((\"Loss of classifier trained on a SimCLR encoder\\n\"\n",
        "  \"trained with 2 negative pairs only.\"))\n",
        "  ax.set_xlabel(\"Epoch number\")\n",
        "  _ = ax.set_ylabel(\"Training loss\")\n",
        "\n",
        "  return simclr_neg_pairs_loss_array\n",
        "\n",
        "\n",
        "# Set a reasonable number of training epochs\n",
        "num_epochs = 50\n",
        "## Uncomment below to test your code\n",
        "with plt.xkcd():\n",
        "  simclr_neg_pairs_loss_array = train_plot_simclr(num_epochs=num_epochs,\n",
        "                                                  seed=SEED)"
      ],
      "execution_count": null,
      "outputs": []
    },
    {
      "cell_type": "code",
      "metadata": {
        "id": "xtNIhIFwalxF"
      },
      "source": [
        "# to_remove solution\n",
        "def train_plot_simclr(num_epochs, seed):\n",
        "  # call this before any dataset/network initializing or training, \n",
        "  # to ensure reproducibility\n",
        "  set_seed(seed)\n",
        "  print(\"Training a classifier on the representations learned by the SimCLR \"\n",
        "        \"network encoder pre-trained\\nusing only 2 negative pairs per image \"\n",
        "        \"for the loss calculation...\")\n",
        "  # EXERCISE: Train an encoder and classifier on the images, using models.train_classifier()\n",
        "  _, simclr_neg_pairs_loss_array, _, _ = models.train_classifier(\n",
        "    encoder=simclr_encoder_neg_pairs, \n",
        "    dataset=dSprites_torchdataset, \n",
        "    train_sampler=train_sampler, \n",
        "    test_sampler=test_sampler, \n",
        "    freeze_features=True, # keep the encoder frozen while training the classifier\n",
        "    num_epochs=num_epochs, \n",
        "    verbose=True\n",
        "    )\n",
        "\n",
        "  # Plot the loss array\n",
        "  fig, ax = plt.subplots()\n",
        "  ax.plot(simclr_neg_pairs_loss_array)\n",
        "  ax.set_title((\"Loss of classifier trained on a SimCLR encoder\\n\"\n",
        "  \"trained with 2 negative pairs only.\"))\n",
        "  ax.set_xlabel(\"Epoch number\")\n",
        "  _ = ax.set_ylabel(\"Training loss\")\n",
        "\n",
        "  return simclr_neg_pairs_loss_array\n",
        "\n",
        "\n",
        "# Set a reasonable number of training epochs\n",
        "num_epochs = 50\n",
        "## Uncomment below to test your code\n",
        "with plt.xkcd():\n",
        "  simclr_neg_pairs_loss_array = train_plot_simclr(num_epochs=num_epochs,\n",
        "                                                  seed=SEED)"
      ],
      "execution_count": null,
      "outputs": []
    },
    {
      "cell_type": "markdown",
      "metadata": {
        "id": "_QNe3nroJPSL"
      },
      "source": [
        "After dropping the number of negative pairs used per image in pre-training a SimCLR encoder, classification accuracy drops to 56.27% on the test dataset, after 50 classifier training epochs. "
      ]
    },
    {
      "cell_type": "markdown",
      "metadata": {
        "id": "DNgkABtPaqhs"
      },
      "source": [
        "---\n",
        "\n",
        "# Section 9: Good representations enable few-shot learning.\n"
      ]
    },
    {
      "cell_type": "code",
      "metadata": {
        "cellView": "form",
        "id": "2NHYkdnzCRPT"
      },
      "source": [
        "#@title Video 9: Few-shot Learning\n",
        "# Insert the ID of the corresponding youtube video\n",
        "from IPython.display import YouTubeVideo\n",
        "video = YouTubeVideo(id=\"J1X91oXpvF0\", width=854, height=480, fs=1)\n",
        "print(\"Video available at https://youtu.be/\" + video.id)\n",
        "video"
      ],
      "execution_count": null,
      "outputs": []
    },
    {
      "cell_type": "markdown",
      "metadata": {
        "id": "W33i1CStFEaB"
      },
      "source": [
        "## Section 9.1: The benefits of pre-training an encoder network in a few-short learning scenario, i.e., when only few labelled examples are available.\n",
        "\n",
        "The toy dataset we have been using, **dSprites**, is thoroughly labelled along 5 different dimensions. However, this is not the case for many datasets. Some very large datasets may have few if any labels.\n",
        "\n",
        "One of our last steps is to examine how each of our models perform in such a case when only few labelled images are available for training. In this scenario, we will train classifiers on different fractions of the training data (between 0.01 and 1.0), and see how they perform on the test set. \n",
        "\n",
        "For the difference types of encoder, this means:\n",
        "*    **Supervised encoder:** As the supervised encoder can only be trained with labels, we will start from untrained encoders and train them end-to-end on the classification task with the fraction of labelled images allowed.  \n",
        "_N.B.: Given that that network is trained end-to-end, we will train it for more epochs, and mark it with \"\\*\" in the graphs._\n",
        "*    **Untrained encoder:** By definition, the untrained encoder is untrained.\n",
        "*    **VAE encoder**: As a generative model can be pre-trained on unlabelled data, we will use the VAE encoder pre-trained on the reconstruction task using the full dataset, before training the classifier layer with the fraction of labelled images allowed.\n",
        "*    **SimCLR encoder**: As an SSL model can be pre-trained on unlabelled data, we will use the SimCLR encoder pre-trained on the contrastive task using the full dataset, before training the classifier layer with the fraction of labelled images allowed.\n",
        "\n",
        "_N.B.: The numbers of epochs are specified below for when the **full training dataset** is used. For each fraction of the dataset a classifier is trained on, the **number of training epochs is scaled up** to compensate for the drop in number of training examples. For example, if we specify 10 epochs for a model, the 0.1 fraction labelled classifier will be trained over ~30 epochs. Also, we use **slightly fewer epochs** than above, here, in the interest of time._"
      ]
    },
    {
      "cell_type": "markdown",
      "metadata": {
        "id": "K4I329_-0PP-"
      },
      "source": [
        "### Interactive Demo 9.1.1: Training classifiers on different encoders, using only a fraction of the full labelled dataset.\n",
        "\n",
        "In this demo, we select a few fractions (5 or 6) of the full labelled dataset with which to train classifiers.\n",
        "\n",
        "**Interactive Demo:** Set `labelled_fractions` argument to a list of fractions (5 or 6 values between 0.01 and 1.0) with which to train classifiers for each encoder."
      ]
    },
    {
      "cell_type": "code",
      "metadata": {
        "id": "yJ5n7T3kRZmP"
      },
      "source": [
        "# call this before any dataset/network initializing or training, \n",
        "# to ensure reproducibility\n",
        "set_seed(SEED)\n",
        "\n",
        "new_supervised_encoder = models.EncoderCore() # new, untrained supervised encoder\n",
        "\n",
        "_ = models.train_encoder_clfs_by_fraction_labelled(\n",
        "    encoders=[new_supervised_encoder, untrained_encoder, vae_encoder, simclr_encoder], \n",
        "    dataset=dSprites_torchdataset,\n",
        "    train_sampler=train_sampler, \n",
        "    test_sampler=test_sampler, \n",
        "    labelled_fractions=[0.01], # DEMO: select fractions to run\n",
        "    num_epochs=[20, 8, 8, 8], # train the supervised network (end-to-end) for more epochs\n",
        "    freeze_features=[False, True, True, True], # only train new supervised network end-to-end\n",
        "    subset_seed=SEED, \n",
        "    encoder_labels=[\"supervised\", \"untrained\", \"VAE\", \"SimCLR\"], \n",
        "    title=\"Performance of classifiers trained\\nwith different network encoders\", \n",
        "    verbose=True\n",
        "    )"
      ],
      "execution_count": null,
      "outputs": []
    },
    {
      "cell_type": "markdown",
      "metadata": {
        "id": "hjnDf14zXTon"
      },
      "source": [
        "### Discussion 9.1.1: What can we conclude the advantages and disadvantages of the different encoder network types under different conditions?\n",
        "\n",
        "**A.** Which models are most and least affected by how much labelled data is available?"
      ]
    },
    {
      "cell_type": "markdown",
      "metadata": {
        "id": "wtVMxN-yu9nH"
      },
      "source": [
        "### Responses 9.1.1\n",
        "**A.**  "
      ]
    },
    {
      "cell_type": "markdown",
      "metadata": {
        "id": "eynf_YJDav9_"
      },
      "source": [
        "---\n",
        "\n",
        "# Section 10: Ethical considerations for self-supervised learning from biased datasets.\n"
      ]
    },
    {
      "cell_type": "code",
      "metadata": {
        "cellView": "form",
        "id": "rQYibiBCCVPw"
      },
      "source": [
        "#@title Video 10: Biased Datasets\n",
        "# Insert the ID of the corresponding youtube video\n",
        "from IPython.display import YouTubeVideo\n",
        "video = YouTubeVideo(id=\"CkbSSMOQFcU\", width=854, height=480, fs=1)\n",
        "print(\"Video available at https://youtu.be/\" + video.id)\n",
        "video"
      ],
      "execution_count": null,
      "outputs": []
    },
    {
      "cell_type": "markdown",
      "metadata": {
        "id": "fnoz9wGeXjbZ"
      },
      "source": [
        "## Section 10.1: The consequences of training models on biased datasets.\n",
        "\n",
        "If a model is trained on a biased dataset, it is likely to learn a representational encoding that reproduces these biases, impairing its ability to generalize properly and increasing the likelihood that it will propagate these biases forward.  \n",
        "\n",
        "Here, we investigate the effects of training the models on a biased subset of the training dataset. Specifically, we introduce a `train_sampler_biased`, a training dataset sampler that only samples:\n",
        "*    **squares**, if they are centered on the **lefthand** side of an image **(posX: 0 to 0.3)**,\n",
        "*    **ovals**, if they are centered in the **center** of an image **(posX: 0.35 to 0.65)**, \n",
        "*    **hearts**, if they are centered on the **righthand** side of am image **(posX: 0.7 to 1.0)**.\n",
        "\n",
        "This sampling bias introduces a correlation between `shape` and `posX` that does not exist in the original dataset.\n",
        "\n",
        "We then train each model as above on the dataset, and observe their performance when tested on an unbiased dataset.\n",
        "\n",
        "*N.B.: This biased sampling also significantly reduces the size of the training dataset available (approximately 6x). Thus, it would not be fair to compare our results here to those obtained previously in the tutorial, when we were using the full dataset. For this reason, **as a control, we will also separately train the models with `train_sampler_bias_ctrl`**, a training dataset sampler that does not share the same sampling bias as `train_sampler_biased`, but can only sample as many samples as `train_sampler_biased` can.*"
      ]
    },
    {
      "cell_type": "code",
      "metadata": {
        "id": "tnlKoRQnaXD_"
      },
      "source": [
        "# call this before any dataset/network initializing or training, \n",
        "# to ensure reproducibility\n",
        "seed_processes(SEED)\n",
        "\n",
        "bias_type = \"shape_posX_spaced\" # name of this bias\n",
        "\n",
        "# initialize a biased training sampler and an unbiased test sampler\n",
        "train_sampler_biased, test_sampler_for_biased = data.train_test_split_idx(\n",
        "    dSprites_torchdataset, \n",
        "    fraction_train=0.95, # 95:5 split to partially compensate for loss of training examples due to bias\n",
        "    randst=SEED,\n",
        "    train_bias=bias_type\n",
        "    )\n",
        "\n",
        "# initialize a control, unbiased training sampler and an unbiased test sampler\n",
        "train_sampler_bias_ctrl, test_sampler_for_bias_ctrl = data.train_test_split_idx(\n",
        "    dSprites_torchdataset, \n",
        "    fraction_train=0.95, \n",
        "    randst=SEED,\n",
        "    train_bias=bias_type,\n",
        "    control = True\n",
        "    )\n",
        "\n",
        "print(f\"Biased dataset: {len(train_sampler_biased)} training, \"\n",
        "      f\"{len(test_sampler_for_biased)} test images\")\n",
        "print(f\"Bias control dataset: {len(train_sampler_bias_ctrl)} training, \"\n",
        "      f\"{len(test_sampler_for_bias_ctrl)} test images\")"
      ],
      "execution_count": null,
      "outputs": []
    },
    {
      "cell_type": "markdown",
      "metadata": {
        "id": "DSu7n2YJZ2wn"
      },
      "source": [
        "We plot some images sampled with `train_sampler_biased` to observe the pattern described above where `shape` and `posX` are now correlated."
      ]
    },
    {
      "cell_type": "code",
      "metadata": {
        "id": "Ys_H_Ug0aYsd"
      },
      "source": [
        "print(\"Plotting sample images from the biased training dataset.\\n\")\n",
        "dSprites.show_images(indices=train_sampler_biased.indices[:20], randst=SEED)"
      ],
      "execution_count": null,
      "outputs": []
    },
    {
      "cell_type": "markdown",
      "metadata": {
        "id": "rOgmquQEaMsC"
      },
      "source": [
        "We also plot some images sampled with `train_sampler_bias_ctrl` to verify visually that this biased pattern does not appear in the control dataset."
      ]
    },
    {
      "cell_type": "code",
      "metadata": {
        "id": "2lvRM6uLaaSM"
      },
      "source": [
        "print(\"Plotting sample images from the bias control training dataset.\\n\")\n",
        "dSprites.show_images(indices=train_sampler_bias_ctrl.indices[:20], randst=SEED)"
      ],
      "execution_count": null,
      "outputs": []
    },
    {
      "cell_type": "code",
      "metadata": {
        "cellView": "form",
        "id": "_CTbpVThaa4_"
      },
      "source": [
        "# @markdown Function to run full training procedure (from initializing and \n",
        "# @markdown pretraining encoders to training classifiers):  \n",
        "# @markdown `full_training_procedure(train_sampler, test_sampler)`\n",
        "\n",
        "def full_training_procedure(train_sampler, test_sampler, title=None, \n",
        "                            dataset_type=\"biased\", verbose=True):\n",
        "\n",
        "    if dataset_type not in [\"biased\", \"bias_ctrl\"]:\n",
        "        raise ValueError(\"Expected model_type to be 'biased' or 'bias_ctrl', \"\n",
        "          f\"but found {model_type}.\")\n",
        "\n",
        "    supervised_encoder = models.EncoderCore()\n",
        "    untrained_encoder = models.EncoderCore()\n",
        "    \n",
        "    # Load pre-trained VAE encoder\n",
        "    vae_encoder = load.load_encoder(\n",
        "        REPO_PATH, model_type=\"vae\", dataset_type=dataset_type,\n",
        "        verbose=verbose\n",
        "        )\n",
        "\n",
        "    # Load pre-trained SimCLR encoder\n",
        "    simclr_encoder = load.load_encoder(\n",
        "        REPO_PATH, model_type=\"simclr\", dataset_type=dataset_type,\n",
        "        verbose=verbose\n",
        "        )\n",
        "\n",
        "    encoders = [supervised_encoder, untrained_encoder, vae_encoder, simclr_encoder]\n",
        "    freeze_features = [False, True, True, True]\n",
        "    encoder_labels = [\"supervised\", \"untrained\", \"VAE\", \"SimCLR\"]\n",
        "\n",
        "    num_clf_epochs = [80, 30, 30, 30]\n",
        "    print(f\"\\nTraining supervised encoder and classifier for {num_clf_epochs[0]}+ \"\n",
        "      f\"epochs, and all other classifiers for {num_clf_epochs[1]}+ epochs each.\")\n",
        "    _ = models.train_encoder_clfs_by_fraction_labelled(\n",
        "        encoders=encoders, \n",
        "        dataset=dSprites_torchdataset,\n",
        "        train_sampler=train_sampler, \n",
        "        test_sampler=test_sampler, \n",
        "        num_epochs=num_clf_epochs,\n",
        "        freeze_features=freeze_features,\n",
        "        subset_seed=SEED, \n",
        "        encoder_labels=encoder_labels,\n",
        "        title=title, \n",
        "        verbose=verbose\n",
        "        )"
      ],
      "execution_count": null,
      "outputs": []
    },
    {
      "cell_type": "markdown",
      "metadata": {
        "id": "B6fdyk-haxJI"
      },
      "source": [
        "We now run the same analyses as in **Section 9**, but with our **biased training data sampler** (and unbiased control sampler) to observe how the different models perform. Because the dataset is much smaller, we increase the number of pre-trained and training epochs for the encoders and classifiers.\n",
        "\n",
        "Let us start with our **unbiased control sampler**, to get a sense of the classification performance levels we should expect with a dataset this size."
      ]
    },
    {
      "cell_type": "code",
      "metadata": {
        "id": "F-RIXlCX4khE"
      },
      "source": [
        "# call this before any dataset/network initializing or training, \n",
        "# to ensure reproducibility\n",
        "set_seed(SEED)\n",
        "\n",
        "print(\"Training all models using the control, unbiased training dataset\\n\")\n",
        "full_training_procedure(\n",
        "    train_sampler_bias_ctrl, test_sampler_for_bias_ctrl, \n",
        "    title=\"Classifier performances with control, unbiased training dataset\",\n",
        "    dataset_type=\"bias_ctrl\" # for loading correct pre-trained networks\n",
        "    )"
      ],
      "execution_count": null,
      "outputs": []
    },
    {
      "cell_type": "markdown",
      "metadata": {
        "id": "-Ku3DjTo74SU"
      },
      "source": [
        "A similar pattern is observed here as with the full dataset, though notably most performances are a bit weaker, likely due to us (A) using a smaller training dataset, and (B) training and pre-training for fewer iterations, considering to the dataset size, for time-efficiency reasons.\n",
        "\n",
        "Using the same parameters, we now repeat the analysis with the **biased** training data sampler."
      ]
    },
    {
      "cell_type": "code",
      "metadata": {
        "id": "wAOCjg04aMGf"
      },
      "source": [
        "# call this before any dataset/network initializing or training, \n",
        "# to ensure reproducibility\n",
        "set_seed(SEED)\n",
        "\n",
        "print(\"Training all models using the biased training dataset\\n\")\n",
        "full_training_procedure(\n",
        "    train_sampler_biased, test_sampler_for_biased, \n",
        "    title=\"Classifier performances with biased training dataset\",\n",
        "    dataset_type=\"biased\" # for loading correct pre-trained networks\n",
        "    )"
      ],
      "execution_count": null,
      "outputs": []
    },
    {
      "cell_type": "markdown",
      "metadata": {
        "id": "pJmUha38JwiZ"
      },
      "source": [
        "Interestingly, the SimCLR network encoder is not only the only network to perform well, it even outperforms its control performance (which uses the same test dataset), at least with this particular dataset and biasing."
      ]
    },
    {
      "cell_type": "markdown",
      "metadata": {
        "id": "YDTbwXs7a4r7"
      },
      "source": [
        "### Discussion 10.1.1: How do different models cope with a biased training dataset?\n",
        "\n",
        "**A.** Which models are most and least affected by the biased training dataset?  \n",
        "**B.** Which types of images in the test set are most likely causing the observed drop in performance?  \n",
        "**C.** Why might certain models be more robust to the bias introduced here than others?  \n",
        "**D.** What are some methods we can employ to help mitigate the negative effects of biases in our training sets on our ability to learn good data representations with our models?"
      ]
    },
    {
      "cell_type": "markdown",
      "metadata": {
        "id": "gMBJm5HTvSKC"
      },
      "source": [
        "### Responses 10.1.1\n",
        "\n",
        "**A.**   \n",
        "**B.**   \n",
        "**C.**   \n",
        "**D.** "
      ]
    },
    {
      "cell_type": "markdown",
      "metadata": {
        "id": "E1Bso_-OUfDR"
      },
      "source": [
        "### Discussion 10.1.2: How do these principles apply more generally?\n",
        "\n",
        "We have seen now how self-supervised learning (SSL) can improve a network's ability to learn good representations of data. For the purposes of this tutorial, we presented examples with a simplified dataset: the dSprites dataset, where we know: \n",
        "(1) the latent dimensions for all images,  \n",
        "(2) the joint probability distribution across latent dimensions for the full dataset, and  \n",
        "(3) the precise nature of the bias introduced into our biased dataset **(Section 10)**. \n",
        "\n",
        "In real-world applications, with more complex or difficult datasets,   \n",
        "**A.** What principles can we draw on to successfully apply SSL to learn good data representations?  \n",
        "**B.** What challenges might we face, compared to applying SSL to dSprites?"
      ]
    },
    {
      "cell_type": "markdown",
      "metadata": {
        "id": "dFaGoGAcvZ_Z"
      },
      "source": [
        "### Responses 10.1.2\n",
        "\n",
        "**A.**   \n",
        "**B.**   "
      ]
    },
    {
      "cell_type": "markdown",
      "metadata": {
        "id": "94dgCRL_6YXx"
      },
      "source": [
        "# Section 11: Conclusion"
      ]
    },
    {
      "cell_type": "code",
      "metadata": {
        "cellView": "form",
        "id": "ogsftY6v6rXV"
      },
      "source": [
        "#@title Video 10: Conclusion\n",
        "# Insert the ID of the corresponding youtube video\n",
        "from IPython.display import YouTubeVideo\n",
        "video = YouTubeVideo(id=\"G41LkC1cQ0Y\", width=854, height=480, fs=1)\n",
        "print(\"Video available at https://youtu.be/\" + video.id)\n",
        "video"
      ],
      "execution_count": null,
      "outputs": []
    }
  ]
}