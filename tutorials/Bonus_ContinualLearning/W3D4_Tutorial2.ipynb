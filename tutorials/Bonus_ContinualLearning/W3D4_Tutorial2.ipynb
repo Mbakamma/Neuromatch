{
  "cells": [
    {
      "cell_type": "markdown",
      "metadata": {
        "id": "view-in-github",
        "colab_type": "text"
      },
      "source": [
        "<a href=\"https://colab.research.google.com/github/NeuromatchAcademy/course-content-dl/blob/fix_order/tutorials/Bonus_ContinualLearning/W3D4_Tutorial2.ipynb\" target=\"_parent\"><img src=\"https://colab.research.google.com/assets/colab-badge.svg\" alt=\"Open In Colab\"/></a>"
      ]
    },
    {
      "cell_type": "markdown",
      "metadata": {
        "execution": {},
        "id": "xBkhT_9XcBgw"
      },
      "source": [
        "# Tutorial 2: Out-of-distribution (OOD) Learning\n",
        "\n",
        "**Bonus Day: Continual Learning**\n",
        "\n",
        "**By Neuromatch Academy**\n",
        "\n",
        "__Content creators:__  Avishree Khare, Het Shah, Joshua Vogelstein\n",
        "\n",
        "__Content reviewers:__ Arush Tagade, Jeremy Forest, Kelson Shilling-Scrivo\n",
        "\n",
        "__Content editors:__ Gagana B, Anoop Kulkarni, Spiros Chavlis\n",
        "\n",
        "__Production editors:__ Deepak Raya, Gagana B, Spiros Chavlis"
      ]
    },
    {
      "cell_type": "markdown",
      "metadata": {
        "execution": {},
        "id": "Ga6PwahEcBgy"
      },
      "source": [
        "**Our 2021 Sponsors, including Presenting Sponsor Facebook Reality Labs**\n",
        "\n",
        "<p align='center'><img src='https://github.com/NeuromatchAcademy/widgets/blob/master/sponsors.png?raw=True'/></p>"
      ]
    },
    {
      "cell_type": "markdown",
      "metadata": {
        "execution": {},
        "id": "JeK7efU1cBgz"
      },
      "source": [
        "---\n",
        "# Tutorial Objectives\n",
        "\n",
        "Deep Learning has seen tremendous growth in recent years thanks to more data, more compute and *very* deep neural networks. Although these networks perform extremely well on the specified task, they fail to generalize to newer tasks. \n",
        "\n",
        "In this tutorial, we will explore Out-of-distribution (OOD) Learning and the several OOD paradigms that have been gaining popularity in recent years. We will understand what OOD really means and how it is different from anything else that we've looked at so far. We'll also take a look at Transfer Learning, Multi-task Learning and Meta-Learning which aim to facilitate OOD Learning in different ways. Here is a list of topics that we would be covering in this tutorial:\n",
        "\n",
        "1. Introduction to OOD Learning\n",
        "2. Transfer Learning\n",
        "3. Multi-Task Learning\n",
        "4. Meta-Learning"
      ]
    },
    {
      "cell_type": "code",
      "execution_count": 1,
      "metadata": {
        "cellView": "form",
        "execution": {},
        "id": "azgZ2VNrcBg0",
        "outputId": "317f0eaf-8f98-4c85-be96-fd73bfc9f396",
        "colab": {
          "base_uri": "https://localhost:8080/",
          "height": 503
        }
      },
      "outputs": [
        {
          "output_type": "execute_result",
          "data": {
            "text/plain": [
              "<IPython.lib.display.IFrame at 0x7effe60b5450>"
            ],
            "text/html": [
              "\n",
              "        <iframe\n",
              "            width=\"854\"\n",
              "            height=\"480\"\n",
              "            src=\"https://mfr.ca-1.osf.io/render?url=https://osf.io/dqnm6/?direct%26mode=render%26action=download%26mode=render\"\n",
              "            frameborder=\"0\"\n",
              "            allowfullscreen\n",
              "        ></iframe>\n",
              "        "
            ]
          },
          "metadata": {},
          "execution_count": 1
        }
      ],
      "source": [
        "# @title Tutorial slides\n",
        "\n",
        "from IPython.display import IFrame\n",
        "IFrame(src=f\"https://mfr.ca-1.osf.io/render?url=https://osf.io/dqnm6/?direct%26mode=render%26action=download%26mode=render\", width=854, height=480)"
      ]
    },
    {
      "cell_type": "markdown",
      "metadata": {
        "execution": {},
        "id": "DqB1nDVwcBg1"
      },
      "source": [
        "These are the slides for all videos in this tutorial. If you want to locally download the slides, click [here](https://osf.io/dqnm6/download)."
      ]
    },
    {
      "cell_type": "markdown",
      "metadata": {
        "execution": {},
        "id": "B9zxo36icBg1"
      },
      "source": [
        "---\n",
        "# Setup"
      ]
    },
    {
      "cell_type": "code",
      "execution_count": 2,
      "metadata": {
        "cellView": "form",
        "execution": {},
        "id": "ougbKWqKcBg1"
      },
      "outputs": [],
      "source": [
        "# @title Install dependencies\n",
        "from IPython.display import clear_output\n",
        "!pip install Pillow --quiet\n",
        "!pip install pandas --quiet\n",
        "!pip3 install torch==1.9.0+cu111 torchvision==0.10.0+cu111 torchaudio==0.9.0 -f https://download.pytorch.org/whl/torch_stable.html  --quiet\n",
        "\n",
        "!pip install git+https://github.com/NeuromatchAcademy/evaltools --quiet\n",
        "from evaltools.airtable import AirtableForm\n",
        "\n",
        "# Generate airtable form\n",
        "atform = AirtableForm('appn7VdPRseSoMXEG','W3D4_T2','https://portal.neuromatchacademy.org/api/redirect/to/1d7fcd5d-f1e9-4ac5-ae58-b0ade54a4f87')\n",
        "\n",
        "clear_output()"
      ]
    },
    {
      "cell_type": "code",
      "execution_count": 3,
      "metadata": {
        "cellView": "both",
        "execution": {},
        "id": "zCqz5mUbcBg2"
      },
      "outputs": [],
      "source": [
        "# Imports\n",
        "import os\n",
        "import copy\n",
        "import time\n",
        "import torch\n",
        "import torchvision\n",
        "\n",
        "import numpy as np\n",
        "import matplotlib.pyplot as plt\n",
        "\n",
        "import torch.nn as nn\n",
        "import torch.optim as optim\n",
        "import torch.nn.functional as F\n",
        "from torch.optim import lr_scheduler\n",
        "from torch.utils.data import Dataset, DataLoader, random_split\n",
        "\n",
        "from torchvision.datasets import CelebA, Omniglot\n",
        "from torchvision import datasets, models, transforms"
      ]
    },
    {
      "cell_type": "code",
      "execution_count": 4,
      "metadata": {
        "cellView": "form",
        "execution": {},
        "id": "pTC9MQm-cBg2"
      },
      "outputs": [],
      "source": [
        "# @title Figure settings\n",
        "import ipywidgets as widgets       # Interactive display\n",
        "%matplotlib inline\n",
        "%config InlineBackend.figure_format = 'retina'\n",
        "plt.style.use(\"https://raw.githubusercontent.com/NeuromatchAcademy/content-creation/main/nma.mplstyle\")"
      ]
    },
    {
      "cell_type": "code",
      "execution_count": 5,
      "metadata": {
        "cellView": "form",
        "execution": {},
        "id": "DqBInmH_cBg3"
      },
      "outputs": [],
      "source": [
        "# @title Plotting functions\n",
        "\n",
        "def visualize_siamese_sample(sample):\n",
        "  \"\"\"\n",
        "  Helper function to visualize siamese samples\n",
        "\n",
        "  Args:\n",
        "    sample: tuple\n",
        "      Tuple containing two images and corresponding label\n",
        "\n",
        "  Returns:\n",
        "    Nothing\n",
        "  \"\"\"\n",
        "  to_PIL = transforms.ToPILImage()\n",
        "  fig, axs = plt.subplots(1, 2, figsize=(8, 10))\n",
        "  x1, x2, y = sample\n",
        "  label = y.item()\n",
        "  similarity = \"Same character\" if label == 1.0 else \"Different characters\"\n",
        "  print(f\"-------------------- Label: {label} ({similarity}) -------------------\")\n",
        "  axs[0].imshow(to_PIL(x1), cmap='gray')\n",
        "  axs[1].imshow(to_PIL(x2), cmap='gray')\n",
        "\n",
        "  for i in range(2):\n",
        "    axs[i].xaxis.set_ticks([])\n",
        "    axs[i].yaxis.set_ticks([])\n",
        "\n",
        "  plt.tight_layout()\n",
        "  plt.show()\n",
        "\n",
        "\n",
        "def visualize_mtfl_sample(sample):\n",
        "  \"\"\"\n",
        "  Helper function to visualize MTFL samples\n",
        "\n",
        "  Args:\n",
        "    sample: tuple\n",
        "      Tuple containing image and corresponding label\n",
        "\n",
        "  Returns:\n",
        "    Nothing\n",
        "  \"\"\"\n",
        "  to_PIL = transforms.ToPILImage()\n",
        "  img, labels = sample\n",
        "\n",
        "  fig, ax = plt.subplots()\n",
        "  ax.xaxis.set_ticks([])\n",
        "  ax.yaxis.set_ticks([])\n",
        "  print(f\"Labels: {labels.tolist()}\")\n",
        "  ax.imshow(to_PIL(img))\n",
        "  plt.show()\n",
        "\n",
        "\n",
        "def visualize_one_shot_sample(sample):\n",
        "  \"\"\"\n",
        "  Helper function to visualize one-shot sample\n",
        "\n",
        "  Args:\n",
        "    sample: tuple\n",
        "      Tuple containing query image, support image, support labels and similarity\n",
        "\n",
        "  Returns:\n",
        "    Nothing\n",
        "  \"\"\"\n",
        "  to_PIL = transforms.ToPILImage()\n",
        "  query_img, support_imgs, support_labels, similarity = sample\n",
        "  n_rows = 1\n",
        "  n_cols = len(support_imgs) + 1\n",
        "  fig, axs = plt.subplots(n_rows, n_cols, figsize=(n_cols*4, 10))\n",
        "\n",
        "  axs[0].imshow(to_PIL(query_img), cmap='gray')\n",
        "  axs[0].set_title('Query Image')\n",
        "  axs[0].xaxis.set_ticks([])\n",
        "  axs[0].yaxis.set_ticks([])\n",
        "\n",
        "  for i, (s_img, s_label) in enumerate(zip(support_imgs, support_labels)):\n",
        "    axs[i+1].imshow(to_PIL(s_img), cmap='gray')\n",
        "    label = s_label.item()\n",
        "    similarity = \"Same character\" if label == 1.0 else \"Different characters\"\n",
        "    axs[i+1].set_title(f\"Support Image {i+1} \\n \"\n",
        "                       f\"Label: {s_label.item()} ({similarity})\")\n",
        "    axs[i+1].xaxis.set_ticks([])\n",
        "    axs[i+1].yaxis.set_ticks([])\n",
        "\n",
        "  plt.tight_layout()\n",
        "  plt.show()"
      ]
    },
    {
      "cell_type": "code",
      "execution_count": 6,
      "metadata": {
        "cellView": "form",
        "execution": {},
        "id": "Mxj54feccBg4"
      },
      "outputs": [],
      "source": [
        "# @title Dataset Definitions and Helper Functions\n",
        "\n",
        "# @markdown `pandas` and `PIL` libraries should be installed.\n",
        "import pandas as pd\n",
        "from PIL import Image\n",
        "\n",
        "class SiameseOmniglotDataset(Dataset):\n",
        "  \"\"\"\n",
        "  Datasets for Omniglot\n",
        "  \"\"\"\n",
        "\n",
        "  def __init__(self, num_samples=10000,\n",
        "               data_transforms=transforms.ToTensor(), download=True):\n",
        "    \"\"\"\n",
        "    Initialize Siamese Omniglot Dataset Parameters\n",
        "\n",
        "    Args:\n",
        "      num_samples: int\n",
        "        Number of samples\n",
        "      data_transforms: torch.tensor\n",
        "        Specification of data transforms\n",
        "      download: boolean\n",
        "        If true, download Omniglot Dataset\n",
        "\n",
        "    Returns:\n",
        "      Nothing\n",
        "    \"\"\"\n",
        "    self.dataset = Omniglot(root='./data/',\n",
        "                            background=True,\n",
        "                            download=download,\n",
        "                            transform=data_transforms)\n",
        "    self.num_samples = num_samples\n",
        "    self.num_classes = len(self.dataset._characters)\n",
        "    self.classes = range(self.num_classes)\n",
        "    self.instances_per_class = dict()\n",
        "    self.get_instances_per_class()\n",
        "\n",
        "  def __getitem__(self, idx):\n",
        "    \"\"\"\n",
        "    Helper function to get instances from same/different classes\n",
        "\n",
        "    Args:\n",
        "      idx: int\n",
        "        If index is even, get instances from same class\n",
        "        Else, get instances from different classes\n",
        "\n",
        "    Returns:\n",
        "      Instances from same class/different classes depending on idx\n",
        "    \"\"\"\n",
        "    if idx % 2 == 0:\n",
        "      return self.get_instances_from_same_class()\n",
        "    return self.get_instances_from_diff_classes()\n",
        "\n",
        "  def get_instances_from_same_class(self):\n",
        "    \"\"\"\n",
        "    Helper function to get instances from same class\n",
        "\n",
        "    Args:\n",
        "      None\n",
        "\n",
        "    Returns:\n",
        "      ch1: torch.tensor\n",
        "        Sample from class\n",
        "      ch2: torch.tensor\n",
        "        Another sample from same class\n",
        "      torch.tensor([1.0])\n",
        "    \"\"\"\n",
        "    c = random.randint(0, self.num_classes-1)\n",
        "    [ch_1, ch_2] = random.sample(self.instances_per_class[c], 2)\n",
        "    return ch_1, ch_2, torch.tensor([1.0])\n",
        "\n",
        "  def get_instances_from_diff_classes(self):\n",
        "    \"\"\"\n",
        "    Helper function to get instances from same class\n",
        "\n",
        "    Args:\n",
        "      None\n",
        "\n",
        "    Returns:\n",
        "      ch1: torch.tensor\n",
        "        Sample from class 1\n",
        "      ch2: torch.tensor\n",
        "        Sample from class 2\n",
        "      torch.tensor([0.0])\n",
        "    \"\"\"\n",
        "    [c1, c2] = random.sample(self.classes, 2)\n",
        "    [ch_1] = random.sample(self.instances_per_class[c1], 1)\n",
        "    [ch_2] = random.sample(self.instances_per_class[c2], 1)\n",
        "    return ch_1, ch_2, torch.tensor([0.0])\n",
        "\n",
        "  def get_random_instance(self):\n",
        "    \"\"\"\n",
        "    Helper function to get random instance\n",
        "\n",
        "    Args:\n",
        "      None\n",
        "\n",
        "    Returns:\n",
        "      character_1: torch.tensor\n",
        "        Sample from one class\n",
        "      character_2: torch.tensor\n",
        "        Sample from another class\n",
        "      similarity: torch.tensor\n",
        "        Vector comparison of character_1 and character_2\n",
        "    \"\"\"\n",
        "    ids = np.random.randint(0, len(self.dataset), 2)\n",
        "    character_1 = self.dataset[ids[0]][0]\n",
        "    character_2 = self.dataset[ids[1]][0]\n",
        "    label_1 = self.dataset[ids[0]][1]\n",
        "    label_2 = self.dataset[ids[1]][1]\n",
        "    similarity = torch.tensor([label_1 == label_2], dtype=torch.float)\n",
        "    return character_1, character_2, similarity\n",
        "\n",
        "  def __len__(self):\n",
        "    \"\"\"\n",
        "    Helper function returning number of samples\n",
        "\n",
        "    Args:\n",
        "      None\n",
        "\n",
        "    Returns:\n",
        "      num_samples: int\n",
        "        Number of samples\n",
        "    \"\"\"\n",
        "    return self.num_samples\n",
        "\n",
        "  def get_instances_per_class(self):\n",
        "    \"\"\"\n",
        "    Gets instances per class\n",
        "\n",
        "    Args:\n",
        "      None\n",
        "\n",
        "    Returns:\n",
        "      Nothing\n",
        "    \"\"\"\n",
        "    for (image, label) in self.dataset:\n",
        "      if label in self.instances_per_class:\n",
        "        self.instances_per_class[label].append(image)\n",
        "      else:\n",
        "        self.instances_per_class[label] = [image]\n",
        "\n",
        "\n",
        "class NWayOneShotOmniglotDataset(Dataset):\n",
        "  \"\"\"\n",
        "  Datasets for N-way 1-shot\n",
        "  classification on the Omniglot Dataset\n",
        "  \"\"\"\n",
        "\n",
        "  def __init__(self, data_transforms=transforms.ToTensor(), n_ways=5,\n",
        "               download=True):\n",
        "    \"\"\"\n",
        "    Initialize Siamese Omniglot Dataset Parameters\n",
        "\n",
        "    Args:\n",
        "      data_transforms: torch.tensor\n",
        "        Specification of data transforms\n",
        "      download: boolean\n",
        "        If true, download Omniglot Dataset\n",
        "\n",
        "    Returns:\n",
        "      Nothing\n",
        "    \"\"\"\n",
        "    self.dataset = Omniglot(root='./data/',\n",
        "                            background=False,\n",
        "                            download=download,\n",
        "                            transform=data_transforms)\n",
        "    self.size = len(self.dataset)\n",
        "    self.num_classes = len(self.dataset._characters)\n",
        "    self.classes = range(self.num_classes)\n",
        "    self.n_ways = n_ways\n",
        "    self.instances_per_class = dict()\n",
        "    self.get_instances_per_class()\n",
        "\n",
        "  def __getitem__(self, idx):\n",
        "    \"\"\"\n",
        "    Helper function to get instances from same/different classes\n",
        "\n",
        "    Args:\n",
        "      idx: int\n",
        "        Get query image and class corresponding to specified idx\n",
        "\n",
        "    Returns:\n",
        "      query_img: iterable\n",
        "        Query image from dataset (extracted from corresponding idx)\n",
        "      support_imgs: list\n",
        "        Find (n_ways - 1) distinct images different from query_class\n",
        "      support_labels: list\n",
        "        Find (n_ways - 1) distinct labels different from query_class\n",
        "      similarity: torch.tensor\n",
        "        Similarity vector between query image and image\n",
        "    \"\"\"\n",
        "    query_img, query_class = self.dataset[idx]\n",
        "\n",
        "    # Find (n_ways - 1) distinct characters different from query_class\n",
        "    support_imgs = []\n",
        "    support_labels = []\n",
        "    support_classes = random.sample([c for c in self.classes if c != query_class], self.n_ways-1)\n",
        "\n",
        "    # Find 1 support image from query_class\n",
        "    support_classes.append(query_class)\n",
        "\n",
        "    random.shuffle(support_classes)\n",
        "\n",
        "    for c in support_classes:\n",
        "      [img] = random.sample(self.instances_per_class[c], 1)\n",
        "      support_imgs.append(img)\n",
        "      support_labels.append(torch.tensor([c == query_class], dtype=torch.float))\n",
        "\n",
        "    _, similarity = torch.max(torch.tensor(support_labels), axis=0)\n",
        "    return query_img, support_imgs, support_labels, similarity\n",
        "\n",
        "  def __len__(self):\n",
        "    \"\"\"\n",
        "    Helper function returning number of samples\n",
        "\n",
        "    Args:\n",
        "      None\n",
        "\n",
        "    Returns:\n",
        "      Number of samples\n",
        "    \"\"\"\n",
        "    return self.size\n",
        "\n",
        "  def get_instances_per_class(self):\n",
        "    \"\"\"\n",
        "    Helper function to get instances per class\n",
        "\n",
        "    Args:\n",
        "      None\n",
        "\n",
        "    Returns:\n",
        "      Nothing\n",
        "    \"\"\"\n",
        "    for (image, label) in self.dataset:\n",
        "      if label in self.instances_per_class:\n",
        "        self.instances_per_class[label].append(image)\n",
        "      else:\n",
        "        self.instances_per_class[label] = [image]\n",
        "\n",
        "\n",
        "class MTFLDataset(Dataset):\n",
        "  \"\"\"\n",
        "  Download MTFL Dataset\n",
        "  \"\"\"\n",
        "\n",
        "  def __init__(self, data_file,\n",
        "               num_samples=10000,\n",
        "               data_transforms=transforms.ToTensor(), ):\n",
        "    \"\"\"\n",
        "    Initialize parameters of MTFL data\n",
        "\n",
        "    Args:\n",
        "      data_file: string\n",
        "        Specifies path of requisite CSV file\n",
        "      num_samples: int\n",
        "        Number of samples in the dataset\n",
        "      data_transforms: torch.tensor\n",
        "        Specification of data transforms\n",
        "\n",
        "    Returns:\n",
        "      Nothing\n",
        "    \"\"\"\n",
        "    self.df = pd.read_csv(data_file, sep=' ', header=None,\n",
        "                          skipinitialspace=True, nrows=num_samples)\n",
        "    self.df.iloc[:, 0] = self.df.iloc[:, 0].apply(lambda s: s.replace('\\\\', '/'))\n",
        "    self.transform = data_transforms\n",
        "\n",
        "  def __getitem__(self, idx):\n",
        "    \"\"\"\n",
        "    Helper function to get instances from same/different classes\n",
        "\n",
        "    Args:\n",
        "      idx: int\n",
        "        Specifies index for corresponding image and label\n",
        "\n",
        "    Returns:\n",
        "      img: torch.tensor\n",
        "        Transformed image from corresponding idx\n",
        "      np.ndarray of corresponding labels\n",
        "    \"\"\"\n",
        "    item = self.df.iloc[idx]\n",
        "    img_name = item[0]\n",
        "    labels = (item[11:] - 1)  # 1-indexed to 0-indexed\n",
        "\n",
        "    img = Image.open(img_name)\n",
        "    img = self.transform(img)\n",
        "\n",
        "    return img, torch.from_numpy(np.array(labels, dtype=np.float32)).long()\n",
        "\n",
        "  def __len__(self):\n",
        "    \"\"\"\n",
        "    Helper function returning number of samples\n",
        "\n",
        "    Args:\n",
        "      None\n",
        "\n",
        "    Returns:\n",
        "      Number of samples\n",
        "    \"\"\"\n",
        "    return len(self.df)\n",
        "\n",
        "\n",
        "\"\"\"\n",
        "Load datasets\n",
        "\"\"\"\n",
        "\n",
        "def get_train_val_datasets(background_dataset_size=10000,\n",
        "                           val_split=0.2, download=True):\n",
        "  \"\"\"\n",
        "  Helper function to get training and validation sets\n",
        "\n",
        "  Args:\n",
        "    val_split: float\n",
        "      Specifies percentage of data reserved for validation\n",
        "    download: boolean\n",
        "      If true, download dataset\n",
        "    background_dataset_size: int\n",
        "      Number of datapoints in the dataset\n",
        "\n",
        "  Returns:\n",
        "    train_dataset: iterable [map style]\n",
        "      Training dataset\n",
        "    val_dataset: iterable [map style]\n",
        "      Validation dataset\n",
        "\n",
        "  Refer https://pytorch.org/docs/stable/data.html#map-style-datasets for more details\n",
        "  \"\"\"\n",
        "  dataset_size = background_dataset_size\n",
        "  val_split = 0.2\n",
        "  train_size = int(dataset_size * (1 - val_split))\n",
        "  val_size = dataset_size - train_size\n",
        "\n",
        "  background_dataset = SiameseOmniglotDataset(num_samples=dataset_size,\n",
        "                                              download=download)\n",
        "  train_dataset, val_dataset = random_split(background_dataset, [train_size, val_size])\n",
        "\n",
        "  return train_dataset, val_dataset\n",
        "\n",
        "\n",
        "def get_test_dataset(n_ways=5, download=True):\n",
        "  \"\"\"\n",
        "  Get Test dataset\n",
        "\n",
        "  Args:\n",
        "    n_ways: int\n",
        "      Number of tasks\n",
        "    download: boolean\n",
        "      If true, download dataset\n",
        "\n",
        "  Returns:\n",
        "    Test data from NWayOneShotOmniglotDataset instance\n",
        "  \"\"\"\n",
        "  return NWayOneShotOmniglotDataset(n_ways=n_ways, download=download)\n",
        "\n",
        "\n",
        "def get_train_val_datasets_mtfl(dirname, dataset_size=10000, val_split=0.2):\n",
        "\n",
        "  \"\"\"\n",
        "  Get training and validation datasets\n",
        "\n",
        "  Args:\n",
        "    dirname: string\n",
        "      Specifies directory path\n",
        "    dataset_size: int\n",
        "      Size of the dataset\n",
        "     val_split: float\n",
        "      Specifies percentage of data reserved for validation\n",
        "\n",
        "  Returns:\n",
        "    train_dataset: iterable [map style]\n",
        "      Training dataset\n",
        "    val_dataset: iterable [map style]\n",
        "      Validation dataset\n",
        "  \"\"\"\n",
        "  data_transforms = transforms.Compose([transforms.Resize((256, 256)),\n",
        "                                        transforms.ToTensor()])\n",
        "\n",
        "  train_size = int(dataset_size * (1 - val_split))\n",
        "  val_size = dataset_size - train_size\n",
        "\n",
        "  background_dataset = MTFLDataset(data_file=f'{dirname}/MTFL/training.txt',\n",
        "                                   num_samples=dataset_size,\n",
        "                                   data_transforms=data_transforms)\n",
        "\n",
        "  train_dataset, val_dataset = random_split(background_dataset, [train_size, val_size])\n",
        "\n",
        "  return train_dataset, val_dataset"
      ]
    },
    {
      "cell_type": "code",
      "execution_count": 7,
      "metadata": {
        "cellView": "form",
        "execution": {},
        "id": "zRxd8rGEcBg8"
      },
      "outputs": [],
      "source": [
        "# @title Training/Evaluation Helper Functions\n",
        "\n",
        "# @markdown `train_multi_task(model, trainloader, valloader, criterion, optimizer, epochs=10, device='cpu')`\n",
        "def train_multi_task(model, trainloader, valloader, criterion, optimizer,\n",
        "                     epochs=10, device='cpu'):\n",
        "  \"\"\"\n",
        "  Helper function to train multitask network\n",
        "\n",
        "  Args:\n",
        "    model: instance of siamese class\n",
        "      Describes model\n",
        "    epochs: int\n",
        "      Number of epochs\n",
        "    device: string\n",
        "      GPU/CUDA if available, CPU otherwise\n",
        "    trainloader: torch.loader\n",
        "      Training dataset\n",
        "    valloader: torch.loader\n",
        "      Validation dataset\n",
        "    criterion: torch.nn type\n",
        "      Criterion specifies loss function\n",
        "    optimizer: torch.optim type\n",
        "      Implements Adam algorithm.\n",
        "\n",
        "  Returns:\n",
        "    model: dict\n",
        "      Dictionary of best model weights\n",
        "  \"\"\"\n",
        "  best_model_weights = copy.deepcopy(model.state_dict())\n",
        "  best_overall_acc = 0.0\n",
        "\n",
        "  for ep in range(epochs):\n",
        "    print(\"\")\n",
        "    print(\"======== Epoch {:} / {:} ========\".format(ep + 1, epochs))\n",
        "\n",
        "    running_corrects = np.zeros(4)\n",
        "    running_loss = 0.0\n",
        "    model.train()\n",
        "    model.to(device)\n",
        "    for inps, labels in trainloader:\n",
        "      inps = inps.to(device)\n",
        "      labels = labels.to(device)\n",
        "      outs = model(inps)\n",
        "      overall_loss = 0.0\n",
        "\n",
        "      for i in range(4):\n",
        "        overall_loss += criterion(outs[i].to(device), labels[:, i].to(device))\n",
        "        _, preds = torch.max(outs[i], 1)\n",
        "        running_corrects[i] += torch.sum(preds == labels[:, i].data)\n",
        "\n",
        "      running_loss += overall_loss.item()\n",
        "\n",
        "      optimizer.zero_grad()\n",
        "      overall_loss.backward()\n",
        "      optimizer.step()\n",
        "\n",
        "    train_loss = running_loss/(len(trainloader) * inps.size(0))\n",
        "    train_accs = running_corrects / (len(trainloader) * inps.size(0))\n",
        "    train_overall_acc = np.mean(train_accs)\n",
        "    running_corrects_val = np.zeros(4)\n",
        "\n",
        "    model.eval()\n",
        "    with torch.no_grad():\n",
        "      for inps, labels in valloader:\n",
        "        inps = inps.to(device)\n",
        "        labels = labels.to(device)\n",
        "        outs = model(inps)\n",
        "\n",
        "        overall_loss = 0.0\n",
        "\n",
        "        for i in range(4):\n",
        "          _, preds = torch.max(outs[i], 1)\n",
        "          running_corrects_val[i] += torch.sum(preds == labels[:, i].data)\n",
        "\n",
        "      val_accs = running_corrects_val / (len(valloader) * inps.size(0))\n",
        "\n",
        "      val_overall_acc = np.mean(val_accs)\n",
        "\n",
        "      if val_overall_acc > best_overall_acc:\n",
        "        best_overall_acc = val_overall_acc\n",
        "        best_model_weights = copy.deepcopy(model.state_dict())\n",
        "\n",
        "    print(f\"Training => Avg. Task Accuracy: {train_overall_acc}\")\n",
        "    print(f\"Validation => Avg. Task Accuracy: {val_overall_acc}\")\n",
        "\n",
        "  model.load_state_dict(best_model_weights)\n",
        "  return model\n",
        "\n",
        "\n",
        "# @markdown `train_siamese_network(model, criterion, optimizer, train_loader, device='cpu', print_freq=100)`\n",
        "def train_siamese_network(model, criterion, optimizer, train_loader,\n",
        "                          device=\"cpu\", print_freq=100):\n",
        "  \"\"\"\n",
        "  Helper function to train siamese network\n",
        "\n",
        "  Args:\n",
        "    model: instance of Siamese class\n",
        "      Describes model\n",
        "    criterion: torch.nn type\n",
        "      Criterion specifies loss function\n",
        "    optimizer: torch.optim type\n",
        "      Implements Adam algorithm.\n",
        "    device: string\n",
        "      GPU/CUDA if available, CPU otherwise\n",
        "    trainloader: torch.loader\n",
        "      Training dataset\n",
        "    print_freq: int\n",
        "      Frequency of printing training progress\n",
        "\n",
        "  Returns:\n",
        "    Nothing\n",
        "  \"\"\"\n",
        "  model.to(device)\n",
        "  running_loss = 0.0\n",
        "  correct = 0.0\n",
        "  total = 0.0\n",
        "  for batch_idx, data in enumerate(train_loader):\n",
        "    x1 = data[0].to(device)\n",
        "    x2 = data[1].to(device)\n",
        "    y = data[2].to(device)\n",
        "\n",
        "    optimizer.zero_grad() #Set parameter gradients to zero\n",
        "\n",
        "    y_pred = model(x1, x2)\n",
        "    # print(y_pred.shape, y.shape)\n",
        "    loss = criterion(y_pred.view(-1), y.view(-1))\n",
        "    loss.backward() #Set the values for gradients (`grad`) of all the parameters\n",
        "    optimizer.step() #Update the parameter values using the computed gradients\n",
        "\n",
        "    running_loss += loss.item()\n",
        "\n",
        "    y_out = torch.round(torch.sigmoid(y_pred)) #To do: do necessary modifs from sigmoid to regular\n",
        "    correct += y_out.eq(y.to(device)).sum()\n",
        "    total += y_out.shape[0]\n",
        "\n",
        "    # if (batch_idx % print_freq) == (print_freq - 1):\n",
        "    #   print(f\"Batch: {batch_idx} Running loss: {running_loss / print_freq} Train accuracy: {acc}\")\n",
        "    #   running_loss = 0.0\n",
        "\n",
        "  print(f\"Training => Average Loss: {running_loss/len(train_loader)} | Accuracy: {correct/total}\")\n",
        "\n",
        "\n",
        "# @markdown `evaluate_siamese_network(model, criterion, val_loader, device='cpu')`\n",
        "def evaluate_siamese_network(model, criterion,\n",
        "                             val_loader, device='cpu'):\n",
        "  \"\"\"\n",
        "  Helper function to train siamese network\n",
        "\n",
        "  Args:\n",
        "    model: instance of Siamese class\n",
        "      Describes model\n",
        "    criterion: torch.nn type\n",
        "      Criterion specifies loss function\n",
        "    device: string\n",
        "      GPU/CUDA if available, CPU otherwise\n",
        "    valloader: torch.loader\n",
        "      Validation dataset\n",
        "\n",
        "  Returns:\n",
        "    Nothing\n",
        "  \"\"\"\n",
        "  model.eval()\n",
        "  model.to(device)\n",
        "  correct = 0.0\n",
        "  total = 0.0\n",
        "  val_loss = 0.0\n",
        "  with torch.no_grad():\n",
        "    for (x1, x2, y) in val_loader:\n",
        "      y_pred = model(x1.to(device), x2.to(device))\n",
        "      loss = criterion(y_pred.view(-1), y.to(device).view(-1))\n",
        "      val_loss += loss.item()\n",
        "      y_out = torch.round(torch.sigmoid(y_pred)) #To do: do necessary modifs from sigmoid to regular\n",
        "      correct += y_out.eq(y.to(device)).sum()\n",
        "      total += y_out.shape[0]\n",
        "\n",
        "  val_acc = correct/total\n",
        "  val_loss = val_loss/len(val_loader)\n",
        "\n",
        "  print(f\"Validation => Average Loss: {val_loss} | Accuracy: {val_acc}\")\n",
        "\n",
        "def evaluate_one_shot(model, test_loader, device='cpu'):\n",
        "  \"\"\"\n",
        "  Evaluation of One-Shot model\n",
        "\n",
        "  Args:\n",
        "    model: instance of One-Shot Siamese class\n",
        "      Describes model\n",
        "    device: string\n",
        "      GPU/CUDA if available, CPU otherwise\n",
        "    test_loader: torch.loader\n",
        "      Test dataset\n",
        "\n",
        "  Returns:\n",
        "    Nothing\n",
        "  \"\"\"\n",
        "  model.eval()\n",
        "  model.to(device)\n",
        "\n",
        "  correct = 0.0\n",
        "  total = 0.0\n",
        "\n",
        "  with torch.no_grad():\n",
        "    for (query_img, support_imgs, support_labels, similarity) in test_loader:\n",
        "      x_query = query_img.to(device)\n",
        "      y_pred_fc = [model(x_query, x_support.to(device)) for x_support in support_imgs]\n",
        "      y_pred = [torch.sigmoid(pred) for pred in y_pred_fc]\n",
        "      _, y_out = torch.max(torch.cat(y_pred, dim=1), 1)\n",
        "      correct += y_out.eq(similarity.to(device)).sum()\n",
        "      total += y_out.shape[0]\n",
        "\n",
        "  print(f'Testing (One-shot) => Accuracy: {correct/total}')"
      ]
    },
    {
      "cell_type": "code",
      "execution_count": 8,
      "metadata": {
        "cellView": "form",
        "execution": {},
        "id": "2bA8Y-cZcBg_"
      },
      "outputs": [],
      "source": [
        "# @title Set random seed\n",
        "\n",
        "# @markdown Executing `set_seed(seed=seed)` sets the seed\n",
        "\n",
        "# For DL its critical to set the random seed so that students can have a\n",
        "# baseline to compare their results to expected results.\n",
        "# Read more here: https://pytorch.org/docs/stable/notes/randomness.html\n",
        "\n",
        "# Call `set_seed` function in the exercises to ensure reproducibility.\n",
        "import random\n",
        "import torch\n",
        "\n",
        "def set_seed(seed=None, seed_torch=True):\n",
        "  \"\"\"\n",
        "  Function that controls randomness. NumPy and random modules must be imported.\n",
        "\n",
        "  Args:\n",
        "    seed : Integer\n",
        "      A non-negative integer that defines the random state. Default is `None`.\n",
        "    seed_torch : Boolean\n",
        "      If `True` sets the random seed for pytorch tensors, so pytorch module\n",
        "      must be imported. Default is `True`.\n",
        "\n",
        "  Returns:\n",
        "    Nothing.\n",
        "  \"\"\"\n",
        "  if seed is None:\n",
        "    seed = np.random.choice(2 ** 32)\n",
        "  random.seed(seed)\n",
        "  np.random.seed(seed)\n",
        "  if seed_torch:\n",
        "    torch.manual_seed(seed)\n",
        "    torch.cuda.manual_seed_all(seed)\n",
        "    torch.cuda.manual_seed(seed)\n",
        "    torch.backends.cudnn.benchmark = False\n",
        "    torch.backends.cudnn.deterministic = True\n",
        "\n",
        "  print(f'Random seed {seed} has been set.')\n",
        "\n",
        "\n",
        "# In case that `DataLoader` is used\n",
        "def seed_worker(worker_id):\n",
        "  \"\"\"\n",
        "  DataLoader will reseed workers following randomness in\n",
        "  multi-process data loading algorithm.\n",
        "\n",
        "  Args:\n",
        "    worker_id: integer\n",
        "      ID of subprocess to seed. 0 means that\n",
        "      the data will be loaded in the main process\n",
        "      Refer: https://pytorch.org/docs/stable/data.html#data-loading-randomness for more details\n",
        "\n",
        "  Returns:\n",
        "    Nothing\n",
        "  \"\"\"\n",
        "  worker_seed = torch.initial_seed() % 2**32\n",
        "  np.random.seed(worker_seed)\n",
        "  random.seed(worker_seed)"
      ]
    },
    {
      "cell_type": "code",
      "execution_count": 9,
      "metadata": {
        "cellView": "form",
        "execution": {},
        "id": "w3lloKTJcBg_"
      },
      "outputs": [],
      "source": [
        "# @title Set device (GPU or CPU). Execute `set_device()`\n",
        "# especially if torch modules used.\n",
        "\n",
        "# Inform the user if the notebook uses GPU or CPU.\n",
        "\n",
        "def set_device():\n",
        "  \"\"\"\n",
        "  Set the device. CUDA if available, CPU otherwise\n",
        "\n",
        "  Args:\n",
        "    None\n",
        "\n",
        "  Returns:\n",
        "    Nothing\n",
        "  \"\"\"\n",
        "  device = \"cuda\" if torch.cuda.is_available() else \"cpu\"\n",
        "  if device != \"cuda\":\n",
        "    print(\"WARNING: For this notebook to perform best, \"\n",
        "        \"if possible, in the menu under `Runtime` -> \"\n",
        "        \"`Change runtime type.`  select `GPU` \")\n",
        "  else:\n",
        "    print(\"GPU is enabled in this notebook.\")\n",
        "\n",
        "  return device"
      ]
    },
    {
      "cell_type": "code",
      "execution_count": 10,
      "metadata": {
        "execution": {},
        "id": "oZsbs3QqcBhA",
        "outputId": "8b847389-ddeb-4f26-fae5-ef23ccdd4969",
        "colab": {
          "base_uri": "https://localhost:8080/"
        }
      },
      "outputs": [
        {
          "output_type": "stream",
          "name": "stdout",
          "text": [
            "Random seed 2021 has been set.\n",
            "GPU is enabled in this notebook.\n"
          ]
        }
      ],
      "source": [
        "SEED = 2021\n",
        "set_seed(seed=SEED)\n",
        "DEVICE = set_device()"
      ]
    },
    {
      "cell_type": "markdown",
      "metadata": {
        "execution": {},
        "id": "0LPw9ExVcBhA"
      },
      "source": [
        "---\n",
        "# Section 1: Introduction to Out-of-Distribution (OOD) Learning\n",
        "\n",
        "*Time estimate: ~5mins*"
      ]
    },
    {
      "cell_type": "markdown",
      "metadata": {
        "execution": {},
        "id": "2BKMjJX1cBhA"
      },
      "source": [
        "In this section, we'll take a brief look at what OOD Learning is and how it can be useful in solving various problems with traditional Deep Learning."
      ]
    },
    {
      "cell_type": "code",
      "execution_count": 11,
      "metadata": {
        "cellView": "form",
        "execution": {},
        "id": "QYdocVKgcBhA",
        "outputId": "3764b9e0-eba1-4288-afea-8627e99d94c0",
        "colab": {
          "base_uri": "https://localhost:8080/",
          "height": 582,
          "referenced_widgets": [
            "b9175bea885a4aed9c309bd3246028cd",
            "ee3c3a3fd63a4a5297e9b330584d4f31",
            "bf8ab5db892c44b1a2377603e32d7487",
            "4af34a8406314b3683b98a48a4a80d87",
            "1e79868a6fa84bb5b64285b023061373",
            "fe9199ff48fc414fb227212732e5fb67"
          ]
        }
      },
      "outputs": [
        {
          "output_type": "display_data",
          "data": {
            "text/plain": [
              "Tab(children=(Output(), Output()), _titles={'0': 'Youtube', '1': 'Bilibili'})"
            ],
            "application/vnd.jupyter.widget-view+json": {
              "version_major": 2,
              "version_minor": 0,
              "model_id": "b9175bea885a4aed9c309bd3246028cd"
            }
          },
          "metadata": {}
        }
      ],
      "source": [
        "# @title Video 1: The Future of Learning\n",
        "from ipywidgets import widgets\n",
        "\n",
        "out2 = widgets.Output()\n",
        "with out2:\n",
        "  from IPython.display import IFrame\n",
        "  class BiliVideo(IFrame):\n",
        "    def __init__(self, id, page=1, width=400, height=300, **kwargs):\n",
        "      self.id=id\n",
        "      src = \"https://player.bilibili.com/player.html?bvid={0}&page={1}\".format(id, page)\n",
        "      super(BiliVideo, self).__init__(src, width, height, **kwargs)\n",
        "\n",
        "  video = BiliVideo(id=f\"BV1764y167fj\", width=854, height=480, fs=1)\n",
        "  print(\"Video available at https://www.bilibili.com/video/{0}\".format(video.id))\n",
        "  display(video)\n",
        "\n",
        "out1 = widgets.Output()\n",
        "with out1:\n",
        "  from IPython.display import YouTubeVideo\n",
        "  video = YouTubeVideo(id=f\"zMQySpHBoGs\", width=854, height=480, fs=1, rel=0)\n",
        "  print(\"Video available at https://youtube.com/watch?v=\" + video.id)\n",
        "  display(video)\n",
        "\n",
        "out = widgets.Tab([out1, out2])\n",
        "out.set_title(0, 'Youtube')\n",
        "out.set_title(1, 'Bilibili')\n",
        "\n",
        "# add event to airtable\n",
        "atform.add_event('Video 1: The Future of Learning')\n",
        "\n",
        "display(out)"
      ]
    },
    {
      "cell_type": "markdown",
      "metadata": {
        "execution": {},
        "id": "oxvIGUpycBhA"
      },
      "source": [
        "## Think! 1.1: What are the problems that *you* want to solve?"
      ]
    },
    {
      "cell_type": "markdown",
      "metadata": {
        "execution": {},
        "id": "_o6TUVBNcBhB"
      },
      "source": [
        "Think of a problem that you would want to have solved using Deep Learning. Don't restrict yourself to the problems you have looked at so far! \n",
        "\n",
        "Take 2 mins to think in silence and jot down a brief description of the problem here."
      ]
    },
    {
      "cell_type": "code",
      "execution_count": 12,
      "metadata": {
        "cellView": "form",
        "execution": {},
        "id": "L9p-aqzAcBhB"
      },
      "outputs": [],
      "source": [
        "# @markdown\n",
        "Problem_that_you_want_to_solve = '' # @param {type:\"string\"}"
      ]
    },
    {
      "cell_type": "markdown",
      "metadata": {
        "execution": {},
        "id": "ke42bPDocBhB"
      },
      "source": [
        "Now discuss the following as a group:\n",
        "\n",
        "1. Can these problems be solved using the techniques that you have looked at so far? If not, why?\n",
        "2. Is there an OOD element attached to any of the problems, which makes them harder to solve? \n",
        "3. Can you think of ways you could solve these problems? (Don't worry if you struggle, we'll hopefully find some suggestions by the end of this tutorial)"
      ]
    },
    {
      "cell_type": "markdown",
      "metadata": {
        "execution": {},
        "id": "w9Dv9TCAcBhB"
      },
      "source": [
        "---\n",
        "# Section 2: Transfer and Multi-Task Learning\n",
        "\n",
        "*Time estimate: ~35mins*"
      ]
    },
    {
      "cell_type": "markdown",
      "metadata": {
        "execution": {},
        "id": "cmjvfMbpcBhB"
      },
      "source": [
        "In this tutorial we will learn transfer learning and multi-task learning. Transfer learning is a machine learning method where a model which is trained on a task (or dataset) can be used as a good initialization for training on a completely different and unrelated task (or dataset). Transfer learning is a very commonly used practice in a lot of Deep Learning works. This method is not limited to any particular subdomain and is widely used in almost all the domains, namely Computer Vision, Natural Language Processing, Reinforcement Learning, etc. \n",
        "\n",
        "Multi-task learning aims to learn multiple tasks simultaneously using shared knowledge across these tasks. We can use Transfer learning to initialize the shared parts of the network. \n",
        "\n",
        "We aim to learn these concepts via a simple problem of attributes classification for the celebA dataset. "
      ]
    },
    {
      "cell_type": "code",
      "execution_count": 13,
      "metadata": {
        "cellView": "form",
        "execution": {},
        "id": "vhbdDTgYcBhB",
        "outputId": "dcbf09fc-cd51-425d-e13b-2d771ac3c753",
        "colab": {
          "base_uri": "https://localhost:8080/",
          "height": 582,
          "referenced_widgets": [
            "54e96870b0dd4024986c3539de29d7a0",
            "23a0655caf9c4074adfb93a1d3b47329",
            "63f1bf22aba04472b84943645a60a1a7",
            "9d731dc7c7d34489ad591f585745eb02",
            "2c5bcc6750f3408280c4a4145844b60c",
            "049ac417860a4e38b08264fbd6e51452"
          ]
        }
      },
      "outputs": [
        {
          "output_type": "display_data",
          "data": {
            "text/plain": [
              "Tab(children=(Output(), Output()), _titles={'0': 'Youtube', '1': 'Bilibili'})"
            ],
            "application/vnd.jupyter.widget-view+json": {
              "version_major": 2,
              "version_minor": 0,
              "model_id": "54e96870b0dd4024986c3539de29d7a0"
            }
          },
          "metadata": {}
        }
      ],
      "source": [
        "# @title Video 2: Transfer and Multi-Tasking Learning\n",
        "from ipywidgets import widgets\n",
        "\n",
        "out2 = widgets.Output()\n",
        "with out2:\n",
        "  from IPython.display import IFrame\n",
        "  class BiliVideo(IFrame):\n",
        "    def __init__(self, id, page=1, width=400, height=300, **kwargs):\n",
        "      self.id=id\n",
        "      src = \"https://player.bilibili.com/player.html?bvid={0}&page={1}\".format(id, page)\n",
        "      super(BiliVideo, self).__init__(src, width, height, **kwargs)\n",
        "\n",
        "  video = BiliVideo(id=f\"BV18w41197o8\", width=854, height=480, fs=1)\n",
        "  print(\"Video available at https://www.bilibili.com/video/{0}\".format(video.id))\n",
        "  display(video)\n",
        "\n",
        "out1 = widgets.Output()\n",
        "with out1:\n",
        "  from IPython.display import YouTubeVideo\n",
        "  video = YouTubeVideo(id=f\"PplDj0vXuIY\", width=854, height=480, fs=1, rel=0)\n",
        "  print(\"Video available at https://youtube.com/watch?v=\" + video.id)\n",
        "  display(video)\n",
        "\n",
        "out = widgets.Tab([out1, out2])\n",
        "out.set_title(0, 'Youtube')\n",
        "out.set_title(1, 'Bilibili')\n",
        "\n",
        "# add event to airtable\n",
        "atform.add_event('Video 2: Transfer and Multi-Tasking Learning')\n",
        "\n",
        "display(out)"
      ]
    },
    {
      "cell_type": "markdown",
      "metadata": {
        "execution": {},
        "id": "ZK6QEOshcBhC"
      },
      "source": [
        "## Section 2.1: Getting the data\n",
        "We will be using the [MTFL](http://mmlab.ie.cuhk.edu.hk/projects/TCDCN.html) dataset for demonstrating the concepts of Transfer and Multi-Task Learning. "
      ]
    },
    {
      "cell_type": "code",
      "execution_count": 14,
      "metadata": {
        "cellView": "form",
        "execution": {},
        "id": "UecvtdVicBhC",
        "outputId": "f7ff8088-049e-4d69-a1a2-d886d9dda29a",
        "colab": {
          "base_uri": "https://localhost:8080/"
        }
      },
      "outputs": [
        {
          "output_type": "stream",
          "name": "stdout",
          "text": [
            "Current dir: /content\n"
          ]
        }
      ],
      "source": [
        "# @title Get the current working directory in `CWD` variable.\n",
        "CWD = os.getcwd()\n",
        "print(f'Current dir: {CWD}')"
      ]
    },
    {
      "cell_type": "code",
      "execution_count": 15,
      "metadata": {
        "cellView": "form",
        "execution": {},
        "id": "JhCOUiSFcBhC",
        "outputId": "a8b4c7a2-81c0-44d7-b5b4-16aea2cb8010",
        "colab": {
          "base_uri": "https://localhost:8080/"
        }
      },
      "outputs": [
        {
          "output_type": "stream",
          "name": "stdout",
          "text": [
            "Start downloading and unzipping `MTFL` dataset...\n",
            "Download completed.\n",
            "Change working direcrtory!\n",
            "Current dir: /content/MTFL\n"
          ]
        }
      ],
      "source": [
        "# @title Download and unzip the dataset\n",
        "import requests, zipfile\n",
        "\n",
        "# Originally from 'http://mmlab.ie.cuhk.edu.hk/projects/TCDCN/data/MTFL.zip'\n",
        "os.chdir(CWD)\n",
        "name = 'MTFL'\n",
        "fname = f\"{name}.zip\"\n",
        "url = \"https://osf.io/u5emj/download\"\n",
        "\n",
        "if not os.path.exists(name):\n",
        "  print(\"Start downloading and unzipping `MTFL` dataset...\")\n",
        "  r = requests.get(url, allow_redirects=True)\n",
        "  with open(fname, 'wb') as fd:\n",
        "    fd.write(r.content)\n",
        "  with zipfile.ZipFile(fname, 'r') as zip_ref:\n",
        "    zip_ref.extractall(name)\n",
        "  print(\"Download completed.\")\n",
        "else:\n",
        "  print('Data has been already downloaded.')\n",
        "\n",
        "print('Change working direcrtory!')\n",
        "os.chdir(name)\n",
        "print(f'Current dir: {os.getcwd()}')"
      ]
    },
    {
      "cell_type": "markdown",
      "metadata": {
        "execution": {},
        "id": "hCZzYDoGcBhC"
      },
      "source": [
        "Lets load the dataset into dataloaders which will help us in training the model! \n",
        "\n",
        "You can check the implementation  of the `get_train_val_datasets_mtfl()` in the hidden cell `Dataset Definition and Helper Functions`"
      ]
    },
    {
      "cell_type": "code",
      "execution_count": 16,
      "metadata": {
        "execution": {},
        "id": "gnG4-aDzcBhC"
      },
      "outputs": [],
      "source": [
        "\"\"\"\n",
        "Create dataloaders for the train and validation datasets\n",
        "\"\"\"\n",
        "\n",
        "train_dataset, val_dataset = get_train_val_datasets_mtfl(CWD)\n",
        "\n",
        "# Change this for a different batch size\n",
        "batch_size = 16\n",
        "\n",
        "g_seed = torch.Generator()\n",
        "g_seed.manual_seed(SEED)\n",
        "\n",
        "train_loader = DataLoader(\n",
        "    dataset=train_dataset,\n",
        "    batch_size=batch_size,\n",
        "    num_workers=2,\n",
        "    worker_init_fn=seed_worker,\n",
        "    generator=g_seed\n",
        "    )\n",
        "\n",
        "val_loader = DataLoader(\n",
        "    dataset=val_dataset,\n",
        "    batch_size=batch_size,\n",
        "    num_workers=2,\n",
        "    worker_init_fn=seed_worker,\n",
        "    generator=g_seed\n",
        "    )"
      ]
    },
    {
      "cell_type": "markdown",
      "metadata": {
        "execution": {},
        "id": "i7dMJQtUcBhD"
      },
      "source": [
        "We visualize the samples from the dataset, we can see  that the input will be an image and there are multiple labels for the same image. The description of each label - \n",
        "\n",
        " - gender : 0 - male, 1 - female\n",
        " - smiling : 0 - yes, 1 - no\n",
        " - wearing glasses : 0 - yes, 1 - no\n",
        " - head pose : 0° - 0, +30° - 1, -30° - 2, +60° - 3, -60° - 4 "
      ]
    },
    {
      "cell_type": "code",
      "execution_count": 17,
      "metadata": {
        "execution": {},
        "id": "L6lrAUxncBhD",
        "outputId": "a49a4f45-7ce4-4705-e781-8fe22408efe2",
        "colab": {
          "base_uri": "https://localhost:8080/",
          "height": 447
        }
      },
      "outputs": [
        {
          "output_type": "stream",
          "name": "stdout",
          "text": [
            "Labels: [0, 0, 0, 2]\n"
          ]
        },
        {
          "output_type": "display_data",
          "data": {
            "text/plain": [
              "<Figure size 576x432 with 1 Axes>"
            ],
            "image/png": "[encoded data removed]"
          },
          "metadata": {
            "image/png": {
              "width": 414,
              "height": 413
            }
          }
        }
      ],
      "source": [
        "sample = train_dataset[0]\n",
        "visualize_mtfl_sample(sample)"
      ]
    },
    {
      "cell_type": "markdown",
      "metadata": {
        "execution": {},
        "id": "CnocRGS2cBhD"
      },
      "source": [
        "Can you interpret the above image and the labels corresponding to the image? Let's have a look at some more instances from the dataset."
      ]
    },
    {
      "cell_type": "markdown",
      "metadata": {
        "execution": {},
        "id": "Hr35T0tVcBhD"
      },
      "source": [
        "<img src=\"https://raw.githubusercontent.com/NeuromatchAcademy/course-content-dl/main/tutorials/Bonus_ContinualLearning/static/labels_cl.png\">"
      ]
    },
    {
      "cell_type": "markdown",
      "metadata": {
        "execution": {},
        "id": "6s34nzARcBhD"
      },
      "source": [
        "## Section 2.2: Defining the model \n",
        "\n",
        "A typical multi-task model looks like below, with shared layers being layers where knowledge is shared. Task-specific layers, as the name suggests, are specific to the tasks. \n",
        "\n",
        "<img src=\"https://raw.githubusercontent.com/NeuromatchAcademy/course-content-dl/main/tutorials/Bonus_ContinualLearning/static/model_cl.png\">\n",
        "\n",
        "\n",
        "For the shared layers we will use a pre-trained backbone network. Here you can try out various models, we have provided an example of using resnet18 backbone. We have to remove the last fully connected layer, because that is specifically used for classification task. Futher, for each task we have some fully connected layers, you can play around with more layers on your own! "
      ]
    },
    {
      "cell_type": "markdown",
      "metadata": {
        "execution": {},
        "id": "LhusEsKlcBhD"
      },
      "source": [
        "### Coding Exercise 2.2: Creating a Multi-Task model\n",
        "\n",
        "Complete the custom model class `Multi_task_model`. Complete the `forward()` function, by adding your solution to collect outputs for all the tasks using the fully connected for the corresponding task. \n",
        "\n",
        "You can find an entire list of pre-trained models provided by PyTorch [here](https://pytorch.org/vision/stable/models.html)."
      ]
    },
    {
      "cell_type": "code",
      "execution_count": 18,
      "metadata": {
        "execution": {},
        "id": "ETMyQP3ccBhD"
      },
      "outputs": [],
      "source": [
        "class Multi_task_model(nn.Module):\n",
        "  \"\"\"\n",
        "  Defines Multi-task model\n",
        "  \"\"\"\n",
        "\n",
        "  def __init__(self, pretrained=True, num_tasks=4, load_file=None,\n",
        "               num_labels_per_task=[2, 2, 2, 5]):\n",
        "    \"\"\"\n",
        "    Initialize parameters of the multi-task model\n",
        "\n",
        "    Args:\n",
        "      pretrained: boolean\n",
        "        If true, load pretrained model\n",
        "      num_tasks: int\n",
        "        Number of tasks\n",
        "      load_file: string\n",
        "        If specified, load requisite file [default: None]\n",
        "      num_labels_per_task: list\n",
        "        Specifies number of labels per task\n",
        "\n",
        "    Returns:\n",
        "      Nothing\n",
        "    \"\"\"\n",
        "    super(Multi_task_model, self).__init__()\n",
        "    self.backbone = models.resnet18(pretrained=pretrained)  # You can play around with different pre-trained models\n",
        "    if load_file:\n",
        "      self.backbone.load_state_dict(torch.load(load_file))\n",
        "    self.backbone = torch.nn.Sequential(*(list(self.backbone.children())[:-1]))  # Remove the last fully connected layer\n",
        "\n",
        "    if pretrained:\n",
        "      for param in self.backbone.parameters():\n",
        "        param.requires_grad = False\n",
        "\n",
        "    self.fcs = []\n",
        "\n",
        "    self.num_tasks = num_tasks\n",
        "\n",
        "    for i in range(self.num_tasks):\n",
        "      self.fcs.append(nn.Sequential(\n",
        "          nn.Linear(512, 128),\n",
        "          nn.ReLU(),\n",
        "          nn.Dropout(0.4),\n",
        "          nn.Linear(128, num_labels_per_task[i]),\n",
        "          ################################\n",
        "          # Add more layers if you want! #\n",
        "          ################################\n",
        "          nn.Softmax(dim=1),\n",
        "      ))\n",
        "\n",
        "      self.fcs = nn.ModuleList(self.fcs)\n",
        "\n",
        "  def forward(self, x):\n",
        "    \"\"\"\n",
        "    Forward pass of multi-task model\n",
        "\n",
        "    Args:\n",
        "      x: torch.tensor\n",
        "        Input Data\n",
        "\n",
        "    Returns:\n",
        "      outs: list\n",
        "        Fully connected layer outputs for each task\n",
        "    \"\"\"\n",
        "    x = self.backbone(x)\n",
        "    x = torch.flatten(x, 1)\n",
        "    outs = []\n",
        "    #################################################\n",
        "    # Collect outputs for each task\n",
        "    # Fill in missing code below (...),\n",
        "    # then remove or comment the line below to test your implementation\n",
        "    raise NotImplementedError(\"Complete the model!\")\n",
        "    #################################################\n",
        "    for i in range(...):\n",
        "      outs.append(...)\n",
        "    return outs\n",
        "\n",
        "\n",
        "# Add event to airtable\n",
        "atform.add_event('Coding Exercise 2.2: Creating a Multi-Task model')"
      ]
    },
    {
      "cell_type": "code",
      "execution_count": 19,
      "metadata": {
        "execution": {},
        "id": "AIMnI927cBhE"
      },
      "outputs": [],
      "source": [
        "# to_remove solution\n",
        "class Multi_task_model(nn.Module):\n",
        "  \"\"\"\n",
        "  Defines Multi-task model\n",
        "  \"\"\"\n",
        "\n",
        "  def __init__(self, pretrained=True, num_tasks=4, load_file=None,\n",
        "               num_labels_per_task=[2, 2, 2, 5]):\n",
        "    \"\"\"\n",
        "    Initialize parameters of the multi-task model\n",
        "\n",
        "    Args:\n",
        "      pretrained: boolean\n",
        "        If true, load pretrained model\n",
        "      num_tasks: int\n",
        "        Number of tasks\n",
        "      load_file: string\n",
        "        If specified, load requisite file [default: None]\n",
        "      num_labels_per_task: list\n",
        "        Specifies number of labels per task\n",
        "\n",
        "    Returns:\n",
        "      Nothing\n",
        "    \"\"\"\n",
        "    super(Multi_task_model, self).__init__()\n",
        "    self.backbone = models.resnet18(pretrained=pretrained)  # You can play around with different pre-trained models\n",
        "    if load_file:\n",
        "      self.backbone.load_state_dict(torch.load(load_file))\n",
        "    self.backbone = torch.nn.Sequential(*(list(self.backbone.children())[:-1]))  # Remove the last fully connected layer\n",
        "\n",
        "    if pretrained:\n",
        "      for param in self.backbone.parameters():\n",
        "        param.requires_grad = False\n",
        "\n",
        "    self.fcs = []\n",
        "\n",
        "    self.num_tasks = num_tasks\n",
        "\n",
        "    for i in range(self.num_tasks):\n",
        "      self.fcs.append(nn.Sequential(\n",
        "          nn.Linear(512, 128),\n",
        "          nn.ReLU(),\n",
        "          nn.Dropout(0.4),\n",
        "          nn.Linear(128, num_labels_per_task[i]),\n",
        "          ################################\n",
        "          # Add more layers if you want! #\n",
        "          ################################\n",
        "          nn.Softmax(dim=1),\n",
        "      ))\n",
        "\n",
        "      self.fcs = nn.ModuleList(self.fcs)\n",
        "\n",
        "  def forward(self, x):\n",
        "    \"\"\"\n",
        "    Forward pass of multi-task model\n",
        "\n",
        "    Args:\n",
        "      x: torch.tensor\n",
        "        Input Data\n",
        "\n",
        "    Returns:\n",
        "      outs: list\n",
        "        Fully connected layer outputs for each task\n",
        "    \"\"\"\n",
        "    x = self.backbone(x)\n",
        "    x = torch.flatten(x, 1)\n",
        "    outs = []\n",
        "    for i in range(self.num_tasks):\n",
        "      outs.append(self.fcs[i](x))\n",
        "    return outs\n",
        "\n",
        "\n",
        "# Add event to airtable\n",
        "atform.add_event('Coding Exercise 2.2: Creating a Multi-Task model')"
      ]
    },
    {
      "cell_type": "markdown",
      "metadata": {
        "execution": {},
        "id": "tLml_kXacBhE"
      },
      "source": [
        "To avoid any major blackout due to multiple downloads, we download a pretrained ResNet model locally.\n",
        "\n",
        "**Note:** If `pretrained=False` and `load_file` exists, we load the pretrained model from a file. If you want to use a different model, set `load_file` to `None`."
      ]
    },
    {
      "cell_type": "code",
      "execution_count": 20,
      "metadata": {
        "cellView": "form",
        "execution": {},
        "id": "IIrkzEJOcBhE"
      },
      "outputs": [],
      "source": [
        "# @title Download `resnet18` pretrained\n",
        "url = \"https://osf.io/2kd98/download\"\n",
        "fname = \"resnet18-f37072fd.pth\"\n",
        "r = requests.get(url, allow_redirects=True)\n",
        "\n",
        "with open(fname, 'wb') as fd:\n",
        "  fd.write(r.content)"
      ]
    },
    {
      "cell_type": "code",
      "execution_count": 21,
      "metadata": {
        "execution": {},
        "id": "IqaDYBVHcBhE"
      },
      "outputs": [],
      "source": [
        "\"\"\"\n",
        "Initialize two models with and without pre-trained weights\n",
        "\"\"\"\n",
        "model_with_pre_trained_backbone = Multi_task_model(pretrained=False,\n",
        "                                                   load_file=fname).to(DEVICE)\n",
        "model_without_pre_trained_backbone = Multi_task_model(pretrained=False).to(DEVICE)"
      ]
    },
    {
      "cell_type": "markdown",
      "metadata": {
        "execution": {},
        "id": "BBDPYAigcBhF"
      },
      "source": [
        "Let's define the loss function and optimizer. Since this is a classification task, we will be using cross-entropy loss. For the optimizer we will be using Stochastic Gradient descent."
      ]
    },
    {
      "cell_type": "code",
      "execution_count": 22,
      "metadata": {
        "execution": {},
        "id": "e0KJw276cBhF"
      },
      "outputs": [],
      "source": [
        "criterion = nn.CrossEntropyLoss()\n",
        "\n",
        "# Observe that all parameters are being optimized\n",
        "optimizer_without_pre_trained_backbone = optim.SGD(\n",
        "    model_without_pre_trained_backbone.parameters(),\n",
        "    lr=0.001,\n",
        "    momentum=0.9\n",
        "    )\n",
        "\n",
        "optimizer_pre_trained_backbone = optim.SGD(\n",
        "    model_with_pre_trained_backbone.parameters(),\n",
        "    lr=0.001,\n",
        "    momentum=0.9\n",
        "    )"
      ]
    },
    {
      "cell_type": "markdown",
      "metadata": {
        "execution": {},
        "id": "kqHRnYDLcBhF"
      },
      "source": [
        "## Section 2.3: Training model without pretrained backbone"
      ]
    },
    {
      "cell_type": "code",
      "execution_count": 23,
      "metadata": {
        "execution": {},
        "id": "Y8u878ARcBhF",
        "outputId": "d3983079-4fa6-4612-f919-8ea68652ef36",
        "colab": {
          "base_uri": "https://localhost:8080/"
        }
      },
      "outputs": [
        {
          "output_type": "stream",
          "name": "stdout",
          "text": [
            "\n",
            "======== Epoch 1 / 5 ========\n"
          ]
        },
        {
          "output_type": "stream",
          "name": "stderr",
          "text": [
            "/usr/local/lib/python3.7/dist-packages/torch/nn/functional.py:718: UserWarning: Named tensors and all their associated APIs are an experimental feature and subject to change. Please do not use them for anything important until they are released as stable. (Triggered internally at  /pytorch/c10/core/TensorImpl.h:1156.)\n",
            "  return torch.max_pool2d(input, kernel_size, stride, padding, dilation, ceil_mode)\n"
          ]
        },
        {
          "output_type": "stream",
          "name": "stdout",
          "text": [
            "Training => Avg. Task Accuracy: 0.6871875000000001\n",
            "Validation => Avg. Task Accuracy: 0.698\n",
            "\n",
            "======== Epoch 2 / 5 ========\n",
            "Training => Avg. Task Accuracy: 0.711875\n",
            "Validation => Avg. Task Accuracy: 0.71\n",
            "\n",
            "======== Epoch 3 / 5 ========\n",
            "Training => Avg. Task Accuracy: 0.7228125000000001\n",
            "Validation => Avg. Task Accuracy: 0.7142499999999999\n",
            "\n",
            "======== Epoch 4 / 5 ========\n",
            "Training => Avg. Task Accuracy: 0.72865625\n",
            "Validation => Avg. Task Accuracy: 0.7268749999999999\n",
            "\n",
            "======== Epoch 5 / 5 ========\n",
            "Training => Avg. Task Accuracy: 0.7357500000000001\n",
            "Validation => Avg. Task Accuracy: 0.72375\n"
          ]
        }
      ],
      "source": [
        "model_without_pre_trained_backbone = train_multi_task(\n",
        "    model_without_pre_trained_backbone,\n",
        "    train_loader,\n",
        "    val_loader,\n",
        "    criterion,\n",
        "    optimizer_without_pre_trained_backbone,\n",
        "    epochs=5, device=DEVICE\n",
        "    )"
      ]
    },
    {
      "cell_type": "markdown",
      "metadata": {
        "execution": {},
        "id": "Sn1y5xnKcBhF"
      },
      "source": [
        "## Section 2.4: Training model with pretrained backbone"
      ]
    },
    {
      "cell_type": "code",
      "execution_count": 24,
      "metadata": {
        "execution": {},
        "id": "OjbTMsqncBhG",
        "outputId": "a87c0704-f25b-4c28-9f10-cc8ef21d8328",
        "colab": {
          "base_uri": "https://localhost:8080/"
        }
      },
      "outputs": [
        {
          "output_type": "stream",
          "name": "stdout",
          "text": [
            "\n",
            "======== Epoch 1 / 5 ========\n",
            "Training => Avg. Task Accuracy: 0.7608124999999999\n",
            "Validation => Avg. Task Accuracy: 0.81725\n",
            "\n",
            "======== Epoch 2 / 5 ========\n",
            "Training => Avg. Task Accuracy: 0.82440625\n",
            "Validation => Avg. Task Accuracy: 0.832375\n",
            "\n",
            "======== Epoch 3 / 5 ========\n",
            "Training => Avg. Task Accuracy: 0.8487500000000001\n",
            "Validation => Avg. Task Accuracy: 0.835375\n",
            "\n",
            "======== Epoch 4 / 5 ========\n",
            "Training => Avg. Task Accuracy: 0.8635312500000001\n",
            "Validation => Avg. Task Accuracy: 0.84\n",
            "\n",
            "======== Epoch 5 / 5 ========\n",
            "Training => Avg. Task Accuracy: 0.87221875\n",
            "Validation => Avg. Task Accuracy: 0.8415\n"
          ]
        }
      ],
      "source": [
        "model_pre_trained_backbone = train_multi_task(model_with_pre_trained_backbone,\n",
        "                                              train_loader,\n",
        "                                              val_loader,\n",
        "                                              criterion,\n",
        "                                              optimizer_pre_trained_backbone,\n",
        "                                              epochs=5, device=DEVICE)"
      ]
    },
    {
      "cell_type": "markdown",
      "metadata": {
        "execution": {},
        "id": "I0BpuhJScBhG"
      },
      "source": [
        "## Section 2.5: Section Summary\n",
        "\n",
        "We can summarize this section as follows\n",
        "\n",
        "* Transfer learning helps in initializing the model better and thus makes learning of the model faster. It also gives better performance compared to the same model that was trained from scratch. Below is a table which contains validation accuracies after 5 epochs. Note that your accuracies can be slightly different when you run the training loops. It will also depend on the number of epochs and the model you have implemented.\n",
        "\n",
        "\\begin{matrix}\n",
        "\\text{Method} & \\text{Validation Accuracy} \\\\\n",
        "\\hline\n",
        "\\text{With Transfer Learning} & \\mathbf{0.779} \\\\\n",
        "\\text{Without Transfer Learning} & 0.728\n",
        "\\end{matrix}\n",
        "\n",
        "* Multi-task learning helps us learn multiple tasks together, by sharing knowledge across layers. Task specific layers then help the model learn task specific features."
      ]
    },
    {
      "cell_type": "markdown",
      "metadata": {
        "execution": {},
        "id": "19AR-fPZcBhG"
      },
      "source": [
        "---\n",
        "# Section 3: Interpretability"
      ]
    },
    {
      "cell_type": "code",
      "execution_count": 25,
      "metadata": {
        "cellView": "form",
        "execution": {},
        "id": "oh7riQi6cBhG",
        "outputId": "316b8b51-5b30-4527-9163-c4d7dd4defa7",
        "colab": {
          "base_uri": "https://localhost:8080/",
          "height": 582,
          "referenced_widgets": [
            "27c5d058c42e4734b743909260c18f4a",
            "90b3bcefa7394d4caad4991963ac8d1f",
            "a9070d455c344421aa73ea878e4a25e0",
            "22e2420e5d2a41deb3c659fb1a36b3ab",
            "b9c85df94c1a4b1195e6776e2cc2570c",
            "567f9394d53144bfb171cb92fb974462"
          ]
        }
      },
      "outputs": [
        {
          "output_type": "display_data",
          "data": {
            "text/plain": [
              "Tab(children=(Output(), Output()), _titles={'0': 'Youtube', '1': 'Bilibili'})"
            ],
            "application/vnd.jupyter.widget-view+json": {
              "version_major": 2,
              "version_minor": 0,
              "model_id": "27c5d058c42e4734b743909260c18f4a"
            }
          },
          "metadata": {}
        }
      ],
      "source": [
        "# @title Video 3: Interpretability\n",
        "from ipywidgets import widgets\n",
        "\n",
        "out2 = widgets.Output()\n",
        "with out2:\n",
        "  from IPython.display import IFrame\n",
        "  class BiliVideo(IFrame):\n",
        "    def __init__(self, id, page=1, width=400, height=300, **kwargs):\n",
        "      self.id=id\n",
        "      src = \"https://player.bilibili.com/player.html?bvid={0}&page={1}\".format(id, page)\n",
        "      super(BiliVideo, self).__init__(src, width, height, **kwargs)\n",
        "\n",
        "  video = BiliVideo(id=f\"BV1Ey4y1j7Jj\", width=854, height=480, fs=1)\n",
        "  print(\"Video available at https://www.bilibili.com/video/{0}\".format(video.id))\n",
        "  display(video)\n",
        "\n",
        "out1 = widgets.Output()\n",
        "with out1:\n",
        "  from IPython.display import YouTubeVideo\n",
        "  video = YouTubeVideo(id=f\"P_QtnN1_wMM\", width=854, height=480, fs=1, rel=0)\n",
        "  print(\"Video available at https://youtube.com/watch?v=\" + video.id)\n",
        "  display(video)\n",
        "\n",
        "out = widgets.Tab([out1, out2])\n",
        "out.set_title(0, 'Youtube')\n",
        "out.set_title(1, 'Bilibili')\n",
        "\n",
        "# add event to airtable\n",
        "atform.add_event('Video 3: Interpretability')\n",
        "\n",
        "display(out)"
      ]
    },
    {
      "cell_type": "markdown",
      "metadata": {
        "execution": {},
        "id": "I6-Qd0ClcBhG"
      },
      "source": [
        "Let's find the most important feature for Cancer prediction and see if it belongs to the set of two most important features for the same problem!"
      ]
    },
    {
      "cell_type": "markdown",
      "metadata": {
        "execution": {},
        "id": "DEz3Oh1QcBhH"
      },
      "source": [
        "## Section 3.1: Defining the problem setup"
      ]
    },
    {
      "cell_type": "markdown",
      "metadata": {
        "execution": {},
        "id": "ezZAZTBbcBhH"
      },
      "source": [
        "Imagine that you want to apply all the knowledge that you have gained from this course to a real health problem, say predicting cancer. You develop an algorithm for predicting cancer using certain input features from patient data. \n",
        "\n",
        "This is a composite model that takes in three binary variables: does the patient have a family history of cancer (1=yes, 0=no), does the patient smoke (1=yes, 0=no), and is the patient young (age < 40) (1=yes, 0=no).\n",
        "\n",
        "The algorithm does not favour either of the outcomes, so $P(cancer) = P(no\\_cancer) = .5$\n",
        "\n",
        "You wish to find the most important feature according to the model and you have the following list of conditional probabilities.\n",
        "\n",
        "<br>\n",
        "\n",
        "\\begin{align}\n",
        "P(family\\_history = 1  | no\\_cancer) = .1 &, P(family\\_history = 1 | cancer) = .9 \\\\\n",
        "P(smoker = 1 | no\\_cancer) = .05 &, P(smoker = 1| cancer) = .8 \\\\\n",
        "P(young = 1 | cancer) = .01 &, P(young = 1 | no\\_cancer) = .71\n",
        "\\end{align}"
      ]
    },
    {
      "cell_type": "markdown",
      "metadata": {
        "execution": {},
        "id": "TNXTp29XcBhH"
      },
      "source": [
        "## Section 3.2: Defining a feature importance metric"
      ]
    },
    {
      "cell_type": "markdown",
      "metadata": {
        "execution": {},
        "id": "hAKnl9WrcBhH"
      },
      "source": [
        "Let's define a metric that can help us quantify how important a feature (or a given set of features) is!"
      ]
    },
    {
      "cell_type": "markdown",
      "metadata": {
        "execution": {},
        "id": "HcyLBdZfcBhH"
      },
      "source": [
        "### Think! 3.2.1: Think of a suitable feature importance metric!\n",
        "\n",
        "Take a moment to think about feature importance and a simple metric for quantifying it! Remember that the feature importance should depend on how useful the feature is for predicting the outcome *alone*."
      ]
    },
    {
      "cell_type": "code",
      "execution_count": 26,
      "metadata": {
        "cellView": "form",
        "execution": {},
        "id": "SIgThv9LcBhI",
        "outputId": "5c47cba1-3e16-44ac-9003-d30cffe79665",
        "colab": {
          "base_uri": "https://localhost:8080/",
          "height": 93,
          "referenced_widgets": [
            "f795ef6ec2f34960874ba9577f908078",
            "b50a9b2940ce4a5ab58d155b3c9430bf",
            "c296cd91b6aa482a96622517e912e9ef",
            "34cb247cc3dd407297d1e5f37707309b",
            "834b86fd1e7c44cb83a1d4b6593fb7d0",
            "43295e1718794dbc9f12e244a7cb0f16"
          ]
        }
      },
      "outputs": [
        {
          "output_type": "display_data",
          "data": {
            "text/plain": [
              "Textarea(value='Type your answer here and click on `Submit!`', placeholder='Type something')"
            ],
            "application/vnd.jupyter.widget-view+json": {
              "version_major": 2,
              "version_minor": 0,
              "model_id": "f795ef6ec2f34960874ba9577f908078"
            }
          },
          "metadata": {}
        },
        {
          "output_type": "display_data",
          "data": {
            "text/plain": [
              "Button(description='Submit!', style=ButtonStyle())"
            ],
            "application/vnd.jupyter.widget-view+json": {
              "version_major": 2,
              "version_minor": 0,
              "model_id": "34cb247cc3dd407297d1e5f37707309b"
            }
          },
          "metadata": {}
        }
      ],
      "source": [
        "# @title Student Response\n",
        "from ipywidgets import widgets\n",
        "\n",
        "\n",
        "text=widgets.Textarea(\n",
        "   value='Type your answer here and click on `Submit!`',\n",
        "   placeholder='Type something',\n",
        "   description='',\n",
        "   disabled=False\n",
        ")\n",
        "\n",
        "button = widgets.Button(description=\"Submit!\")\n",
        "\n",
        "display(text,button)\n",
        "\n",
        "def on_button_clicked(b):\n",
        "   atform.add_answer('q1' , text.value)\n",
        "   print(\"Submission successful!\")\n",
        "\n",
        "\n",
        "button.on_click(on_button_clicked)"
      ]
    },
    {
      "cell_type": "markdown",
      "metadata": {
        "execution": {},
        "id": "oyyhepjIcBhI"
      },
      "source": [
        "Now discuss the following with the group: \n",
        "\n",
        "1. Each member of the group should briefly talk about the feature metric they came up with and why they think it is suitable for the given problem setup.\n",
        "2. Identify the most important characterics of a good feature importance metric. (As different members of the group used different criteria to select their metrics, find out the most important criteria that helped!). Try to limit yourself to the two most important characteristics. "
      ]
    },
    {
      "cell_type": "markdown",
      "metadata": {
        "execution": {},
        "id": "xLdO0GydcBhI"
      },
      "source": [
        "Note down the most important characteristic here!"
      ]
    },
    {
      "cell_type": "code",
      "execution_count": 27,
      "metadata": {
        "cellView": "form",
        "execution": {},
        "id": "RJTfbBiWcBhJ",
        "outputId": "40d5e84d-ff8a-4161-b8d7-38d81c4c3d60",
        "colab": {
          "base_uri": "https://localhost:8080/",
          "height": 93,
          "referenced_widgets": [
            "268ff932a70f48e9ba0c5934541ba2db",
            "4df26919799f4f2ab067645dee11694c",
            "60531fd0ba094997a35657cae2817468",
            "ac15fe73bfeb4be1b4f2e538c5df5f6c",
            "2e4ddfab81f34b93afa9ad509a6d440e",
            "264d683847d74f46b22185a8de4efb0a"
          ]
        }
      },
      "outputs": [
        {
          "output_type": "display_data",
          "data": {
            "text/plain": [
              "Textarea(value='Type the most important characteristic and click on `Submit!`', placeholder='Type something')"
            ],
            "application/vnd.jupyter.widget-view+json": {
              "version_major": 2,
              "version_minor": 0,
              "model_id": "268ff932a70f48e9ba0c5934541ba2db"
            }
          },
          "metadata": {}
        },
        {
          "output_type": "display_data",
          "data": {
            "text/plain": [
              "Button(description='Submit!', style=ButtonStyle())"
            ],
            "application/vnd.jupyter.widget-view+json": {
              "version_major": 2,
              "version_minor": 0,
              "model_id": "ac15fe73bfeb4be1b4f2e538c5df5f6c"
            }
          },
          "metadata": {}
        }
      ],
      "source": [
        "# @title Student Response\n",
        "from ipywidgets import widgets\n",
        "\n",
        "\n",
        "text=widgets.Textarea(\n",
        "   value='Type the most important characteristic and click on `Submit!`',\n",
        "   placeholder='Type something',\n",
        "   description='',\n",
        "   disabled=False\n",
        ")\n",
        "\n",
        "button = widgets.Button(description=\"Submit!\")\n",
        "\n",
        "display(text,button)\n",
        "\n",
        "def on_button_clicked(b):\n",
        "   atform.add_answer('q2' , text.value)\n",
        "   print(\"Submission successful!\")\n",
        "\n",
        "\n",
        "button.on_click(on_button_clicked)"
      ]
    },
    {
      "cell_type": "markdown",
      "metadata": {
        "execution": {},
        "id": "Gfvgkrw6cBhJ"
      },
      "source": [
        "Also note down the second most important characteristic here."
      ]
    },
    {
      "cell_type": "code",
      "execution_count": 28,
      "metadata": {
        "cellView": "form",
        "execution": {},
        "id": "QwR89FT4cBhJ",
        "outputId": "b3f19183-e782-4413-a97e-ec7fc18d750e",
        "colab": {
          "base_uri": "https://localhost:8080/",
          "height": 93,
          "referenced_widgets": [
            "838fd46b6c854b5d917ad5de5b73146e",
            "ec2b2128466340b0a16be15b4624a062",
            "3531823b02e44c8ba6f2ca97b3ac0030",
            "f62eb086e4ce474fb25ffb015286a4b4",
            "88e7eb13711148c28d89032a19fd9d7b",
            "f3d1bc21e9f042cda49dc1f193bbd4f2"
          ]
        }
      },
      "outputs": [
        {
          "output_type": "display_data",
          "data": {
            "text/plain": [
              "Textarea(value='Type the second most important characteristic and click on `Submit!`', placeholder='Type somet…"
            ],
            "application/vnd.jupyter.widget-view+json": {
              "version_major": 2,
              "version_minor": 0,
              "model_id": "838fd46b6c854b5d917ad5de5b73146e"
            }
          },
          "metadata": {}
        },
        {
          "output_type": "display_data",
          "data": {
            "text/plain": [
              "Button(description='Submit!', style=ButtonStyle())"
            ],
            "application/vnd.jupyter.widget-view+json": {
              "version_major": 2,
              "version_minor": 0,
              "model_id": "f62eb086e4ce474fb25ffb015286a4b4"
            }
          },
          "metadata": {}
        }
      ],
      "source": [
        "# @title Student Response\n",
        "from ipywidgets import widgets\n",
        "\n",
        "\n",
        "text=widgets.Textarea(\n",
        "   value='Type the second most important characteristic and click on `Submit!`',\n",
        "   placeholder='Type something',\n",
        "   description='',\n",
        "   disabled=False\n",
        ")\n",
        "\n",
        "button = widgets.Button(description=\"Submit!\")\n",
        "\n",
        "display(text,button)\n",
        "\n",
        "def on_button_clicked(b):\n",
        "   atform.add_answer('q3' , text.value)\n",
        "   print(\"Submission successful!\")\n",
        "\n",
        "\n",
        "button.on_click(on_button_clicked)"
      ]
    },
    {
      "cell_type": "markdown",
      "metadata": {
        "execution": {},
        "id": "tw0e6_bDcBhK"
      },
      "source": [
        "Thank you for coming up with some guidelines for what makes a feature importance metric good!\n",
        "\n",
        "Although the metrics defined by you must be great, we here define a simple metric for maintaining consistency throughout the rest of this tutorial.\n",
        "\n",
        "Let's assume that we wish to find the K best features. We know that a set of K features would be most important if they can predict the outcome with high confidence and better than any other set of the same size! We could hence try to predict the outcome using only the given set of features and record the accuracy. If this accuracy is higher than that using any other set of the same size, then we can say that the given set has the most important K features!\n",
        "\n",
        "In essence, we would want to find the accuracies considering all feature sets of size K and then pick the one with the highest accuracy.\n",
        "\n",
        "If we wish to define a loss instead (the lower the better), we could simply extend the above notion as follows:\n",
        "\n",
        "\\begin{equation}\n",
        "Loss = 1 - Accuracy\n",
        "\\end{equation}"
      ]
    },
    {
      "cell_type": "markdown",
      "metadata": {
        "execution": {},
        "id": "ZDWb7plbcBhK"
      },
      "source": [
        "### Think! 3.2.2: Is our feature importance metric good?\n",
        "\n",
        "Now that we have provided a new feature importance metric, think of the following: \n",
        "\n",
        "1. What do you think of this new feature importance metric, and how is it different from the one that you came up with? \n",
        "2. Does it satify the criteria that you came up with? \n",
        "3. If not, why? Does the metric need to be modified or the criteria?"
      ]
    },
    {
      "cell_type": "code",
      "execution_count": 29,
      "metadata": {
        "cellView": "form",
        "execution": {},
        "id": "xDhf9IDCcBhK",
        "outputId": "f90c1359-e42c-44d4-8e4b-da33a2b85663",
        "colab": {
          "base_uri": "https://localhost:8080/",
          "height": 93,
          "referenced_widgets": [
            "97408cdd64ec48a989b0b695e34ccbfa",
            "82309fbba4c5420fb4c8f74a17585b57",
            "3c2c315aa11e416693912726d95761b7",
            "78ff806d1c8e48078ec5165ff43072f3",
            "0c1c9c75bdc545ba98f0b6face514c36",
            "43f7a14e915c40c39b964bd639032ce4"
          ]
        }
      },
      "outputs": [
        {
          "output_type": "display_data",
          "data": {
            "text/plain": [
              "Textarea(value='Type your answer here and click on `Submit!`', placeholder='Type something')"
            ],
            "application/vnd.jupyter.widget-view+json": {
              "version_major": 2,
              "version_minor": 0,
              "model_id": "97408cdd64ec48a989b0b695e34ccbfa"
            }
          },
          "metadata": {}
        },
        {
          "output_type": "display_data",
          "data": {
            "text/plain": [
              "Button(description='Submit!', style=ButtonStyle())"
            ],
            "application/vnd.jupyter.widget-view+json": {
              "version_major": 2,
              "version_minor": 0,
              "model_id": "78ff806d1c8e48078ec5165ff43072f3"
            }
          },
          "metadata": {}
        }
      ],
      "source": [
        "# @title Student Response\n",
        "from ipywidgets import widgets\n",
        "\n",
        "\n",
        "text=widgets.Textarea(\n",
        "   value='Type your answer here and click on `Submit!`',\n",
        "   placeholder='Type something',\n",
        "   description='',\n",
        "   disabled=False\n",
        ")\n",
        "\n",
        "button = widgets.Button(description=\"Submit!\")\n",
        "\n",
        "display(text,button)\n",
        "\n",
        "def on_button_clicked(b):\n",
        "   atform.add_answer('q4' , text.value)\n",
        "   print(\"Submission successful!\")\n",
        "\n",
        "\n",
        "button.on_click(on_button_clicked)"
      ]
    },
    {
      "cell_type": "markdown",
      "metadata": {
        "execution": {},
        "id": "XgEnkDTncBhL"
      },
      "source": [
        "## Section 3.3: Finding the most important feature"
      ]
    },
    {
      "cell_type": "markdown",
      "metadata": {
        "execution": {},
        "id": "3z684EHHcBhL"
      },
      "source": [
        "Considering the feature importance metric that we defined above, let's try to find the most important and the two most important features!\n",
        "\n",
        "The accuracy can be calculated using the probabilities specified above. Here are the accuracies for different feature sets!\n",
        "\n",
        "Note that we have not detailed the calculation of these accuracies. If you are curious, refer to the bonus section!\n",
        "\n",
        "<br>\n",
        "\n",
        "\\begin{matrix}\n",
        "\\text{Feature(s)} & \\text{Accuracy}\\\\\n",
        "\\hline\n",
        "\\text{Family History} & 0.900 \\\\\n",
        "\\text{Is a Smoker} & 0.875 \\\\\n",
        "\\text{Is Young } & 0.850 \\\\\n",
        "\\text{Family History, Is a Smoker } &  0.917 \\\\\n",
        "\\text{Is a Smoker, Is Young} & 0.941 \\\\\n",
        "\\text{Family History, Is Young } & 0.931 \\\\\n",
        "\\end{matrix}\n",
        "\n",
        "**Note:** For a detailed explanation, see *Bonus 3*."
      ]
    },
    {
      "cell_type": "markdown",
      "metadata": {
        "execution": {},
        "id": "u5FTaDWlcBhL"
      },
      "source": [
        "### Think! 3.3.1: Finding important features\n",
        "\n",
        "Given the table above, what is the single most important feature?"
      ]
    },
    {
      "cell_type": "code",
      "execution_count": 30,
      "metadata": {
        "cellView": "form",
        "execution": {},
        "id": "G3ckgCwccBhM",
        "outputId": "6a323ba2-c6f9-409a-dc4e-86ba71a50783",
        "colab": {
          "base_uri": "https://localhost:8080/",
          "height": 93,
          "referenced_widgets": [
            "9c09e36533be4a12a3ae7997166b4cbf",
            "ff0652918c434d70bcfac26576f48fb2",
            "8b2e90403c954691ad40d7d89502c906",
            "835f45ca847744caa90ee7c43866ae55",
            "6013d409c2d44035ab420fb5062d29f0",
            "5c39158a53a3456083c30810108c1ee9"
          ]
        }
      },
      "outputs": [
        {
          "output_type": "display_data",
          "data": {
            "text/plain": [
              "Textarea(value='Type your answer here and click on `Submit!`', placeholder='Type something')"
            ],
            "application/vnd.jupyter.widget-view+json": {
              "version_major": 2,
              "version_minor": 0,
              "model_id": "9c09e36533be4a12a3ae7997166b4cbf"
            }
          },
          "metadata": {}
        },
        {
          "output_type": "display_data",
          "data": {
            "text/plain": [
              "Button(description='Submit!', style=ButtonStyle())"
            ],
            "application/vnd.jupyter.widget-view+json": {
              "version_major": 2,
              "version_minor": 0,
              "model_id": "835f45ca847744caa90ee7c43866ae55"
            }
          },
          "metadata": {}
        }
      ],
      "source": [
        "# @title Student Response\n",
        "from ipywidgets import widgets\n",
        "\n",
        "\n",
        "text=widgets.Textarea(\n",
        "   value='Type your answer here and click on `Submit!`',\n",
        "   placeholder='Type something',\n",
        "   description='',\n",
        "   disabled=False\n",
        ")\n",
        "\n",
        "button = widgets.Button(description=\"Submit!\")\n",
        "\n",
        "display(text,button)\n",
        "\n",
        "def on_button_clicked(b):\n",
        "   atform.add_answer('q5' , text.value)\n",
        "   print(\"Submission successful!\")\n",
        "\n",
        "\n",
        "button.on_click(on_button_clicked)"
      ]
    },
    {
      "cell_type": "code",
      "execution_count": 31,
      "metadata": {
        "execution": {},
        "id": "03sJEtrjcBhM"
      },
      "outputs": [],
      "source": [
        "# to_remove explanation\n",
        "\n",
        "\"\"\"\n",
        "Answer: Family History\n",
        "\n",
        "Why?\n",
        "\n",
        "The most important feature would be the one which gives the highest accuracy\n",
        "when used alone. This makes Family History the most important feature using it\n",
        "alone results in an accuracy of 0.9 as opposed to 0.875 and 0.85 when using\n",
        "`Is_a_smoker` and `Is_young`, respectively\n",
        "\"\"\";"
      ]
    },
    {
      "cell_type": "markdown",
      "metadata": {
        "execution": {},
        "id": "bFYye711cBhM"
      },
      "source": [
        "Can you also find out the second most important features?"
      ]
    },
    {
      "cell_type": "code",
      "execution_count": 32,
      "metadata": {
        "cellView": "form",
        "execution": {},
        "id": "1-m8fVATcBhM",
        "outputId": "20912a19-01a4-411f-ab96-11eaee8f52d4",
        "colab": {
          "base_uri": "https://localhost:8080/",
          "height": 93,
          "referenced_widgets": [
            "9a33b133d32e4d7ca2e0f1243cc37906",
            "1051cecd3a114d3b86f5cbbff0459dc2",
            "ec9a27729041407db685312a17a79d37",
            "fd961f73cbb344e28cddfa29bde14a49",
            "70b0321abd634252ae883c491fd08fe4",
            "7ca155950f8c405dbd7d066f8c7a8ec3"
          ]
        }
      },
      "outputs": [
        {
          "output_type": "display_data",
          "data": {
            "text/plain": [
              "Textarea(value='Type your answer here and click on `Submit!`', placeholder='Type something')"
            ],
            "application/vnd.jupyter.widget-view+json": {
              "version_major": 2,
              "version_minor": 0,
              "model_id": "9a33b133d32e4d7ca2e0f1243cc37906"
            }
          },
          "metadata": {}
        },
        {
          "output_type": "display_data",
          "data": {
            "text/plain": [
              "Button(description='Submit!', style=ButtonStyle())"
            ],
            "application/vnd.jupyter.widget-view+json": {
              "version_major": 2,
              "version_minor": 0,
              "model_id": "fd961f73cbb344e28cddfa29bde14a49"
            }
          },
          "metadata": {}
        }
      ],
      "source": [
        "# @title Student Response\n",
        "from ipywidgets import widgets\n",
        "\n",
        "\n",
        "text=widgets.Textarea(\n",
        "   value='Type your answer here and click on `Submit!`',\n",
        "   placeholder='Type something',\n",
        "   description='',\n",
        "   disabled=False\n",
        ")\n",
        "\n",
        "button = widgets.Button(description=\"Submit!\")\n",
        "\n",
        "display(text,button)\n",
        "\n",
        "def on_button_clicked(b):\n",
        "   atform.add_answer('q6' , text.value)\n",
        "   print(\"Submission successful!\")\n",
        "\n",
        "\n",
        "button.on_click(on_button_clicked)"
      ]
    },
    {
      "cell_type": "code",
      "execution_count": 33,
      "metadata": {
        "execution": {},
        "id": "CfVFztOccBhN"
      },
      "outputs": [],
      "source": [
        "# to_remove explanation\n",
        "\n",
        "\"\"\"\n",
        "Answer: Is a Smoker and Is Young\n",
        "\"\"\";"
      ]
    },
    {
      "cell_type": "markdown",
      "metadata": {
        "execution": {},
        "id": "uGB1Euo5cBhN"
      },
      "source": [
        "The most important feature is not one of the two most important features! Can you find out why this is the case?"
      ]
    },
    {
      "cell_type": "markdown",
      "metadata": {
        "execution": {},
        "id": "hHJagGV0cBhN"
      },
      "source": [
        "## Section 3.4: Section Summary\n",
        "\n",
        "In this section, we discussed the following:\n",
        "\n",
        "* What is Interpretability and why is it important?\n",
        "\n",
        "* How can input features be used to understand the model's predictions (aka feature importances)?"
      ]
    },
    {
      "cell_type": "markdown",
      "metadata": {
        "execution": {},
        "id": "vun8dey0cBhN"
      },
      "source": [
        "---\n",
        "# Summary"
      ]
    },
    {
      "cell_type": "markdown",
      "metadata": {
        "execution": {},
        "id": "NYApKXOmcBhN"
      },
      "source": [
        "Recall the problem that you set out to solve at the beginning of this tutorial."
      ]
    },
    {
      "cell_type": "code",
      "execution_count": 34,
      "metadata": {
        "cellView": "form",
        "execution": {},
        "id": "X54VgvhwcBhN",
        "outputId": "fa6a35d7-d8ed-4106-90bb-23ad2c31ead3",
        "colab": {
          "base_uri": "https://localhost:8080/"
        }
      },
      "outputs": [
        {
          "output_type": "stream",
          "name": "stdout",
          "text": [
            "\n"
          ]
        }
      ],
      "source": [
        "# @markdown *Run me to print the problem that you wanted to solve!*\n",
        "print(Problem_that_you_want_to_solve)"
      ]
    },
    {
      "cell_type": "markdown",
      "metadata": {
        "execution": {},
        "id": "zK49E4QKcBhO"
      },
      "source": [
        "Take a moment to think about the following:\n",
        "\n",
        "1. Did this tutorial help you find some ideas to solve this problem?\n",
        "2. Can you now come up with a solution to this problem by using all the tools that you learnt from this course?\n",
        "\n",
        "We sincerely hope that your answers to these two questions are yes and YES! Recall all that you learnt from this course and how this knowledge and practical experience can help with a problem that *you* want to solve. Go back and experiment with your solutions and see if you can solve this problem that matters to you!\n",
        "\n",
        "**Congratulations! You have finished the NMA-DL course!**"
      ]
    },
    {
      "cell_type": "code",
      "execution_count": 35,
      "metadata": {
        "cellView": "form",
        "execution": {},
        "id": "O3Mxv_SQcBhO",
        "outputId": "5f29be5b-f54a-44a3-d958-1d1c81756e6d",
        "colab": {
          "base_uri": "https://localhost:8080/",
          "height": 160
        }
      },
      "outputs": [
        {
          "output_type": "execute_result",
          "data": {
            "text/plain": [
              "<IPython.core.display.HTML object>"
            ],
            "text/html": [
              "\n",
              " <div>\n",
              "   <a href= \"https://portal.neuromatchacademy.org/api/redirect/to/1d7fcd5d-f1e9-4ac5-ae58-b0ade54a4f87?data=eyJmb3JtX2lkIjogImFwcG43VmRQUnNlU29NWEVHIiwgInRhYmxlX25hbWUiOiAiVzNENF9UMiIsICJhbnN3ZXJzIjoge30sICJldmVudHMiOiBbeyJldmVudCI6ICJpbml0IiwgInRzIjogMTY1NTU2NjY5Mi40ODI1NTIzfSwgeyJldmVudCI6ICJWaWRlbyAxOiBUaGUgRnV0dXJlIG9mIExlYXJuaW5nIiwgInRzIjogMTY1NTU2NjY5Ni4wMTY5Mzl9LCB7ImV2ZW50IjogIlZpZGVvIDI6IFRyYW5zZmVyIGFuZCBNdWx0aS1UYXNraW5nIExlYXJuaW5nIiwgInRzIjogMTY1NTU2NjY5Ni4xNjYzNjIzfSwgeyJldmVudCI6ICJDb2RpbmcgRXhlcmNpc2UgMi4yOiBDcmVhdGluZyBhIE11bHRpLVRhc2sgbW9kZWwiLCAidHMiOiAxNjU1NTY2NzA2LjU2NDQ2Mjd9LCB7ImV2ZW50IjogIkNvZGluZyBFeGVyY2lzZSAyLjI6IENyZWF0aW5nIGEgTXVsdGktVGFzayBtb2RlbCIsICJ0cyI6IDE2NTU1NjY3MDYuNjkyODE3NH0sIHsiZXZlbnQiOiAiVmlkZW8gMzogSW50ZXJwcmV0YWJpbGl0eSIsICJ0cyI6IDE2NTU1NjczMzIuMTc4NzM4NH0sIHsiZXZlbnQiOiAidXJsIGdlbmVyYXRlZCIsICJ0cyI6IDE2NTU1NjczMzIuNDc3OTEwNX1dfQ%3D%3D\" target=\"_blank\">\n",
              "   <img src=\"https://github.com/NeuromatchAcademy/course-content-dl/blob/main/tutorials/static/SurveyButton.png?raw=1\"\n",
              " alt=\"button link end of day Survey\" style=\"width:410px\"></a>\n",
              "   </div>"
            ]
          },
          "metadata": {},
          "execution_count": 35
        }
      ],
      "source": [
        "# @title Airtable Submission Link\n",
        "from IPython import display as IPydisplay\n",
        "IPydisplay.HTML(\n",
        "   f\"\"\"\n",
        " <div>\n",
        "   <a href= \"{atform.url()}\" target=\"_blank\">\n",
        "   <img src=\"https://github.com/NeuromatchAcademy/course-content-dl/blob/main/tutorials/static/SurveyButton.png?raw=1\"\n",
        " alt=\"button link end of day Survey\" style=\"width:410px\"></a>\n",
        "   </div>\"\"\" )"
      ]
    },
    {
      "cell_type": "markdown",
      "metadata": {
        "execution": {},
        "id": "eja3YKdXcBhO"
      },
      "source": [
        "---\n",
        "# Bonus 1: Introduction to Meta Learning\n",
        "\n",
        "*Time estimate: ~20mins*"
      ]
    },
    {
      "cell_type": "markdown",
      "metadata": {
        "execution": {},
        "id": "xetIuQ71cBhO"
      },
      "source": [
        "In this section, we will *literally* learn to learn by exploring the concept of Meta Learning. Meta Learning attempts to improve the generalization capabilities of neural networks by teaching them *how to learn new tasks fast*. We aim to introduce you to the following topics:\n",
        "\n",
        "1. Meta-Learning and its applications \n",
        "2. Few-shot classification (the most common application of Meta-Learning in supervised classification settings)\n",
        "3. One-shot Learning with Convolutional Siamese Networks"
      ]
    },
    {
      "cell_type": "code",
      "execution_count": 36,
      "metadata": {
        "cellView": "form",
        "execution": {},
        "id": "9owyCtoPcBhO",
        "outputId": "cf5401e4-1e49-4af7-f11a-6b0b221dd97c",
        "colab": {
          "base_uri": "https://localhost:8080/",
          "height": 582,
          "referenced_widgets": [
            "9d1407f2d0e94464b23b0d1739354db7",
            "37ad30e73918475ca7abf3f88628561e",
            "27e30d4ae84649a387e9502dc5155737",
            "e3a6c6f389e249a385600e69c0fb0536",
            "7605ab76387441cbb2ecf7cf73a7d74a",
            "a782cda5e364427ea142618e0aed2822"
          ]
        }
      },
      "outputs": [
        {
          "output_type": "display_data",
          "data": {
            "text/plain": [
              "Tab(children=(Output(), Output()), _titles={'0': 'Youtube', '1': 'Bilibili'})"
            ],
            "application/vnd.jupyter.widget-view+json": {
              "version_major": 2,
              "version_minor": 0,
              "model_id": "9d1407f2d0e94464b23b0d1739354db7"
            }
          },
          "metadata": {}
        }
      ],
      "source": [
        "# @title Video 4: Meta Learning\n",
        "from ipywidgets import widgets\n",
        "\n",
        "out2 = widgets.Output()\n",
        "with out2:\n",
        "  from IPython.display import IFrame\n",
        "  class BiliVideo(IFrame):\n",
        "    def __init__(self, id, page=1, width=400, height=300, **kwargs):\n",
        "      self.id=id\n",
        "      src = \"https://player.bilibili.com/player.html?bvid={0}&page={1}\".format(id, page)\n",
        "      super(BiliVideo, self).__init__(src, width, height, **kwargs)\n",
        "\n",
        "  video = BiliVideo(id=f\"BV1zU4y1n77d\", width=854, height=480, fs=1)\n",
        "  print(\"Video available at https://www.bilibili.com/video/{0}\".format(video.id))\n",
        "  display(video)\n",
        "\n",
        "out1 = widgets.Output()\n",
        "with out1:\n",
        "  from IPython.display import YouTubeVideo\n",
        "  video = YouTubeVideo(id=f\"8grBwtrzcDI\", width=854, height=480, fs=1, rel=0)\n",
        "  print(\"Video available at https://youtube.com/watch?v=\" + video.id)\n",
        "  display(video)\n",
        "\n",
        "out = widgets.Tab([out1, out2])\n",
        "out.set_title(0, 'Youtube')\n",
        "out.set_title(1, 'Bilibili')\n",
        "\n",
        "# add event to airtable\n",
        "atform.add_event('Video 4: Meta Learning')\n",
        "\n",
        "display(out)"
      ]
    },
    {
      "cell_type": "markdown",
      "metadata": {
        "execution": {},
        "id": "Ny3OVg_UcBhO"
      },
      "source": [
        "Meta-Learning is most commonly observed as Few-shot Learning in Supervised learning settings.\n",
        "\n",
        "Few-shot Learning aims to answer the following question: How can a neural network learn a task well with *very little* data? \n",
        "\n",
        "In the context of supervised classification, K-shot learning refers to learning with only K examples of each class. An extension of this would be N-way K-shot learning, which attempts to train a network with only K examples of each of the N classes. Let's take an example of a 5-way 1-shot problem:\n",
        "\n",
        "<br>\n",
        "<img src=\"https://raw.githubusercontent.com/NeuromatchAcademy/course-content-dl/main/tutorials/Bonus_ContinualLearning/static/Metalearning.png\">\n",
        "\n",
        "<br>\n",
        "\n",
        "Now that we know what Few-shot learning is, let's take a look at a One-shot classification problem using Siamese Networks!"
      ]
    },
    {
      "cell_type": "markdown",
      "metadata": {
        "execution": {},
        "id": "p9bDUDfXcBhP"
      },
      "source": [
        "## Bonus Section 1.1: Introduction to Omniglot"
      ]
    },
    {
      "cell_type": "markdown",
      "metadata": {
        "execution": {},
        "id": "UEerhSFncBhP"
      },
      "source": [
        "The Omniglot data set is a a standardized benchmark for evaluating the performance of Few-shot Learning algorithms. It contains 1623 different handwritten characters from 50 different alphabets. The alphabets range from well-established international languages like Latin and Korean to lesser known local dialects. Fictitious character sets such as Aurek-Besh and Klingon are also included. Here are a few examples from the Omniglot dataset."
      ]
    },
    {
      "cell_type": "markdown",
      "metadata": {
        "execution": {},
        "id": "Qa5bbvFpcBhP"
      },
      "source": [
        "<img src=\"https://raw.githubusercontent.com/NeuromatchAcademy/course-content-dl/main/tutorials/Bonus_ContinualLearning/static/omni.jpeg.png\">"
      ]
    },
    {
      "cell_type": "markdown",
      "metadata": {
        "execution": {},
        "id": "7BEoxwUTcBhP"
      },
      "source": [
        "## Bonus Section 1.2: Convolutional Siamese Networks"
      ]
    },
    {
      "cell_type": "markdown",
      "metadata": {
        "execution": {},
        "id": "KHuFduBKcBhP"
      },
      "source": [
        "The simplest way to evaluate where an image belongs to a class is by comparing it with other images of the same class. Convolutional Siamese networks help us in comparing two images and quantify how similar or different they are from one another. This is known as verification.\n",
        "\n",
        "Verification of two images is done as follows: Both the images are passed through the convolutional network to generate *feature vectors* representing them. These feature vectors are then compared for similarity (find a better image for siamese network maybe)."
      ]
    },
    {
      "cell_type": "markdown",
      "metadata": {
        "execution": {},
        "id": "sxv9NlyScBhP"
      },
      "source": [
        "<img src=\"https://raw.githubusercontent.com/NeuromatchAcademy/course-content-dl/main/tutorials/Bonus_ContinualLearning/static/siamese.png\">"
      ]
    },
    {
      "cell_type": "markdown",
      "metadata": {
        "execution": {},
        "id": "NAr-YNurcBhP"
      },
      "source": [
        "\n",
        "How can we compare if two vectors are similar? By using a distance metric! **L1 distance** is one such metric that evaluates the distance between two vectors by computing the absolute value of the difference of individual components of both vectors. More specifically, given vectors `v1` and `v2`, the component-wise L1 distance would be as follows:\n",
        "\n",
        "```python\n",
        "l1_distance = abs(v1 - v2)\n",
        "```\n",
        "\n",
        "After this, the problem boils down to a binary classification problem where two images either belong to the same class or not!"
      ]
    },
    {
      "cell_type": "markdown",
      "metadata": {
        "execution": {},
        "id": "Tpp_nNSccBhP"
      },
      "source": [
        "### Bonus Coding Exercise 1.2: Creating a Convolutional Siamese Network\n",
        "\n",
        "Let's create a Convolutional Siamese Network! The structure of the network is created in the `ConvSiameseNet` class. You have to compute the L1 distance (`l1_distance`) between the feature vectors (`x1_fv` and `x2_fv`). You can use `torch.abs()` to compute the absolute value of a tensor."
      ]
    },
    {
      "cell_type": "code",
      "execution_count": 37,
      "metadata": {
        "execution": {},
        "id": "zvJK1uzQcBhQ"
      },
      "outputs": [],
      "source": [
        "# Define the Siamese Network\n",
        "class ConvSiameseNet(nn.Module):\n",
        "  \"\"\"\n",
        "  Convolutional Siamese Network from \"Siamese Neural Networks for One-shot Image Recognition\"\n",
        "  Paper can be found at http://www.cs.toronto.edu/~rsalakhu/papers/oneshot1.pdf\n",
        "\n",
        "  Structure of the network is as follows:\n",
        "  nn.Conv2d(1, 64, 10) + pool(F.relu(self.conv1(x))) # First Convolutional + Pooling Block\n",
        "  nn.Conv2d(64, 128, 7) + pool(F.relu(self.conv2(x))) # Second Convolutional + Pooling Block\n",
        "  nn.Conv2d(128, 128, 4) + pool(F.relu(self.conv3(x))) # Third Convolutional + Pooling Block\n",
        "  nn.Conv2d(128, 256, 4) + F.relu(self.conv4(x)) # Fourth Convolutional Layer\n",
        "  nn.MaxPool2d(2, 2) # Pooling Block\n",
        "  nn.Linear(256*6*6, 4096) # First Fully Connected Layer\n",
        "  nn.Linear(4096, 1) # Second Fully Connected Layer\n",
        "  \"\"\"\n",
        "\n",
        "  def __init__(self):\n",
        "    \"\"\"\n",
        "    Initialize convolutional Siamese network parameters\n",
        "\n",
        "    Args:\n",
        "      None\n",
        "\n",
        "    Returns:\n",
        "      Nothing\n",
        "    \"\"\"\n",
        "    super().__init__()\n",
        "    self.conv1 = nn.Conv2d(1, 64, 10)\n",
        "    self.conv2 = nn.Conv2d(64, 128, 7)\n",
        "    self.conv3 = nn.Conv2d(128, 128, 4)\n",
        "    self.conv4 = nn.Conv2d(128, 256, 4)\n",
        "    self.pool = nn.MaxPool2d(2, 2)\n",
        "    self.fc1 = nn.Linear(256*6*6, 4096)\n",
        "    self.fc2 = nn.Linear(4096, 1)\n",
        "\n",
        "  def model(self, x):\n",
        "    \"\"\"\n",
        "    Defines model structure and flow\n",
        "\n",
        "    Args:\n",
        "      x: Dataloader instance\n",
        "        Input Dataset\n",
        "\n",
        "    Returns:\n",
        "      x: torch.tensor\n",
        "        Output of first fully connected layer\n",
        "    \"\"\"\n",
        "    x = self.pool(F.relu(self.conv1(x)))\n",
        "    x = self.pool(F.relu(self.conv2(x)))\n",
        "    x = self.pool(F.relu(self.conv3(x)))\n",
        "    x = F.relu(self.conv4(x))\n",
        "    x = torch.flatten(x, 1)\n",
        "    x = torch.sigmoid(self.fc1(x))\n",
        "    return x\n",
        "\n",
        "  def forward(self, x1, x2):\n",
        "    \"\"\"\n",
        "    Calculates L1 distance between model pass of sample 1 and sample 2\n",
        "\n",
        "    Args:\n",
        "      x1: torch.tensor\n",
        "        Sample 1\n",
        "      x2: torch.tensor\n",
        "        Sample 2\n",
        "\n",
        "    Returns:\n",
        "      Output from final fully connected layer on recieving L1 distance as input\n",
        "    \"\"\"\n",
        "    x1_fv = self.model(x1)\n",
        "    x2_fv = self.model(x2)\n",
        "    ############################################################################\n",
        "    ## TODO: Calculate the component-wise l1_distance between x1_fv and x2_fv ##\n",
        "    # Fill out function and remove\n",
        "    raise NotImplementedError(\"Student exercise: Calculate l1_distance\")\n",
        "    ############################################################################\n",
        "    # Calculate L1 distance (as l1_distance) between x1_fv and x2_fv\n",
        "    l1_distance = ...\n",
        "\n",
        "    return self.fc2(l1_distance)"
      ]
    },
    {
      "cell_type": "code",
      "execution_count": 38,
      "metadata": {
        "execution": {},
        "id": "bojv6JcecBhQ"
      },
      "outputs": [],
      "source": [
        "# to_remove solution\n",
        "# Define the Siamese Network\n",
        "class ConvSiameseNet(nn.Module):\n",
        "  \"\"\"\n",
        "  Convolutional Siamese Network from \"Siamese Neural Networks for One-shot Image Recognition\"\n",
        "  Paper can be found at http://www.cs.toronto.edu/~rsalakhu/papers/oneshot1.pdf\n",
        "\n",
        "  Structure of the network is as follows:\n",
        "  nn.Conv2d(1, 64, 10) + pool(F.relu(self.conv1(x))) # First Convolutional + Pooling Block\n",
        "  nn.Conv2d(64, 128, 7) + pool(F.relu(self.conv2(x))) # Second Convolutional + Pooling Block\n",
        "  nn.Conv2d(128, 128, 4) + pool(F.relu(self.conv3(x))) # Third Convolutional + Pooling Block\n",
        "  nn.Conv2d(128, 256, 4) + F.relu(self.conv4(x)) # Fourth Convolutional Layer\n",
        "  nn.MaxPool2d(2, 2) # Pooling Block\n",
        "  nn.Linear(256*6*6, 4096) # First Fully Connected Layer\n",
        "  nn.Linear(4096, 1) # Second Fully Connected Layer\n",
        "  \"\"\"\n",
        "\n",
        "  def __init__(self):\n",
        "    \"\"\"\n",
        "    Initialize convolutional Siamese network parameters\n",
        "\n",
        "    Args:\n",
        "      None\n",
        "\n",
        "    Returns:\n",
        "      Nothing\n",
        "    \"\"\"\n",
        "    super().__init__()\n",
        "    self.conv1 = nn.Conv2d(1, 64, 10)\n",
        "    self.conv2 = nn.Conv2d(64, 128, 7)\n",
        "    self.conv3 = nn.Conv2d(128, 128, 4)\n",
        "    self.conv4 = nn.Conv2d(128, 256, 4)\n",
        "    self.pool = nn.MaxPool2d(2, 2)\n",
        "    self.fc1 = nn.Linear(256*6*6, 4096)\n",
        "    self.fc2 = nn.Linear(4096, 1)\n",
        "\n",
        "  def model(self, x):\n",
        "    \"\"\"\n",
        "    Defines model structure and flow\n",
        "\n",
        "    Args:\n",
        "      x: Dataloader instance\n",
        "        Input Dataset\n",
        "\n",
        "    Returns:\n",
        "      x: torch.tensor\n",
        "        Output of first fully connected layer\n",
        "    \"\"\"\n",
        "    x = self.pool(F.relu(self.conv1(x)))\n",
        "    x = self.pool(F.relu(self.conv2(x)))\n",
        "    x = self.pool(F.relu(self.conv3(x)))\n",
        "    x = F.relu(self.conv4(x))\n",
        "    x = torch.flatten(x, 1)\n",
        "    x = torch.sigmoid(self.fc1(x))\n",
        "    return x\n",
        "\n",
        "  def forward(self, x1, x2):\n",
        "    \"\"\"\n",
        "    Calculates L1 distance between model pass of sample 1 and sample 2\n",
        "\n",
        "    Args:\n",
        "      x1: torch.tensor\n",
        "        Sample 1\n",
        "      x2: torch.tensor\n",
        "        Sample 2\n",
        "\n",
        "    Returns:\n",
        "      Output from final fully connected layer on recieving L1 distance as input\n",
        "    \"\"\"\n",
        "    x1_fv = self.model(x1)\n",
        "    x2_fv = self.model(x2)\n",
        "    # Calculate L1 distance (as l1_distance) between x1_fv and x2_fv\n",
        "    l1_distance = torch.abs(x1_fv - x2_fv)\n",
        "\n",
        "    return self.fc2(l1_distance)"
      ]
    },
    {
      "cell_type": "markdown",
      "metadata": {
        "execution": {},
        "id": "H-J_uVjPcBhQ"
      },
      "source": [
        "## Bonus Section 1.3: Verification using Siamese Networks"
      ]
    },
    {
      "cell_type": "markdown",
      "metadata": {
        "execution": {},
        "id": "gEBCcz5jcBhQ"
      },
      "source": [
        "Let's train the siamese network we created on verification of images. We'll take pairs of images from the Omniglot dataset and train the network to identify if the pairs belong to the same class or not.\n",
        "\n",
        "Let's first get the Omniglot dataset with pairs of images. A pair is labelled \"1\" if the images are of the same character, and \"0\" otherwise."
      ]
    },
    {
      "cell_type": "code",
      "execution_count": 39,
      "metadata": {
        "cellView": "form",
        "execution": {},
        "id": "ZUWpadaLcBhR",
        "outputId": "5547cebb-9605-4e64-a379-7e58e64c8231",
        "colab": {
          "base_uri": "https://localhost:8080/"
        }
      },
      "outputs": [
        {
          "output_type": "stream",
          "name": "stdout",
          "text": [
            "Change dir: /content\n",
            "Downlading the dataset...\n",
            "Dataset is downloaded.\n"
          ]
        }
      ],
      "source": [
        "# @title Download Omniglot dataset with pairs\n",
        "import zipfile, os, requests\n",
        "\n",
        "# original location: https://github.com/brendenlake/omniglot/tree/master/python\n",
        "os.chdir(CWD)\n",
        "print(f'Change dir: {os.getcwd()}')\n",
        "\n",
        "dirname = 'data/omniglot-py/'\n",
        "if not os.path.exists(dirname):\n",
        "  os.makedirs(dirname)\n",
        "\n",
        "fname = 'images_background.zip'\n",
        "url = \"https://osf.io/6hq9u/download\"\n",
        "\n",
        "if not os.path.exists(dirname + 'images_background'):\n",
        "  print('Downlading the dataset...')\n",
        "  r = requests.get(url, allow_redirects=True)\n",
        "  with open(dirname + fname, 'wb') as fd:\n",
        "    fd.write(r.content)\n",
        "  with zipfile.ZipFile(dirname + fname, 'r') as zip_ref:\n",
        "    zip_ref.extractall(dirname)\n",
        "  print('Dataset is downloaded.')\n",
        "else:\n",
        "  print('Dataset has already been downloaded.')"
      ]
    },
    {
      "cell_type": "code",
      "execution_count": 40,
      "metadata": {
        "execution": {},
        "id": "hNIi2IDncBhR"
      },
      "outputs": [],
      "source": [
        "\"\"\"\n",
        "Load train and validation datasets for training the Siamese Network\n",
        "\"\"\"\n",
        "\n",
        "train_dataset, val_dataset = get_train_val_datasets(background_dataset_size=10000, val_split=0.2, download=False)"
      ]
    },
    {
      "cell_type": "code",
      "execution_count": 41,
      "metadata": {
        "execution": {},
        "id": "rpcKQ2jxcBhR",
        "outputId": "c5dcbab0-44df-4e3d-e886-f1286a07f862",
        "colab": {
          "base_uri": "https://localhost:8080/",
          "height": 312
        }
      },
      "outputs": [
        {
          "output_type": "stream",
          "name": "stdout",
          "text": [
            "-------------------- Label: 1.0 (Same character) -------------------\n"
          ]
        },
        {
          "output_type": "display_data",
          "data": {
            "text/plain": [
              "<Figure size 576x720 with 2 Axes>"
            ],
            "image/png": "[encoded data removed]"
          },
          "metadata": {
            "image/png": {
              "width": 557,
              "height": 278
            }
          }
        }
      ],
      "source": [
        "\"\"\"\n",
        "Visualize a sample from the training dataset\n",
        "\"\"\"\n",
        "\n",
        "# Change this to visualize another sample from the dataset\n",
        "sample_idx = 1\n",
        "sample = train_dataset[sample_idx]\n",
        "\n",
        "visualize_siamese_sample(sample)"
      ]
    },
    {
      "cell_type": "code",
      "execution_count": 42,
      "metadata": {
        "execution": {},
        "id": "cJSziRT6cBhR"
      },
      "outputs": [],
      "source": [
        "\"\"\"\n",
        "Create dataloaders for the train and validation datasets\n",
        "\"\"\"\n",
        "\n",
        "# Change this for a different batch size\n",
        "batch_size = 16\n",
        "\n",
        "train_loader = DataLoader(\n",
        "    dataset=train_dataset,\n",
        "    batch_size=batch_size,\n",
        "    num_workers=2,\n",
        "    worker_init_fn=seed_worker,\n",
        "    generator=g_seed\n",
        "    )\n",
        "\n",
        "val_loader = DataLoader(\n",
        "    dataset=val_dataset,\n",
        "    batch_size=batch_size,\n",
        "    num_workers=2,\n",
        "    worker_init_fn=seed_worker,\n",
        "    generator=g_seed\n",
        "    )"
      ]
    },
    {
      "cell_type": "markdown",
      "metadata": {
        "execution": {},
        "id": "cnDkDpg2cBhR"
      },
      "source": [
        "Now that we have the necessary dataloaders, let's train a siamese network! "
      ]
    },
    {
      "cell_type": "code",
      "execution_count": 43,
      "metadata": {
        "execution": {},
        "id": "tkmNc8y0cBhS",
        "outputId": "dae9a4b9-b746-4aa7-cb67-631567cac696",
        "colab": {
          "base_uri": "https://localhost:8080/"
        }
      },
      "outputs": [
        {
          "output_type": "stream",
          "name": "stdout",
          "text": [
            "\n",
            " Epoch 1 / 10 ================================\n",
            "Training => Average Loss: 0.5809011718034744 | Accuracy: 0.6602500081062317\n",
            "Validation => Average Loss: 0.5550538239479065 | Accuracy: 0.703000009059906\n",
            "\n",
            " Epoch 2 / 10 ================================\n",
            "Training => Average Loss: 0.5031055316030979 | Accuracy: 0.7550000548362732\n",
            "Validation => Average Loss: 0.48850956225395203 | Accuracy: 0.7640000581741333\n",
            "\n",
            " Epoch 3 / 10 ================================\n",
            "Training => Average Loss: 0.40913527518510817 | Accuracy: 0.8203750252723694\n",
            "Validation => Average Loss: 0.3871689260005951 | Accuracy: 0.8375000357627869\n",
            "\n",
            " Epoch 4 / 10 ================================\n",
            "Training => Average Loss: 0.35708980305492877 | Accuracy: 0.8523750305175781\n",
            "Validation => Average Loss: 0.32732372319698333 | Accuracy: 0.858500063419342\n",
            "\n",
            " Epoch 5 / 10 ================================\n",
            "Training => Average Loss: 0.3108276071846485 | Accuracy: 0.8703750371932983\n",
            "Validation => Average Loss: 0.3126106473207474 | Accuracy: 0.8810000419616699\n",
            "\n",
            " Epoch 6 / 10 ================================\n",
            "Training => Average Loss: 0.2861100976169109 | Accuracy: 0.8860000371932983\n",
            "Validation => Average Loss: 0.27328711795806887 | Accuracy: 0.8905000686645508\n",
            "\n",
            " Epoch 7 / 10 ================================\n",
            "Training => Average Loss: 0.25667891786992547 | Accuracy: 0.8986250162124634\n",
            "Validation => Average Loss: 0.2525951409339905 | Accuracy: 0.905500054359436\n",
            "\n",
            " Epoch 8 / 10 ================================\n",
            "Training => Average Loss: 0.24061967841535806 | Accuracy: 0.9065000414848328\n",
            "Validation => Average Loss: 0.2049313951432705 | Accuracy: 0.9225000143051147\n",
            "\n",
            " Epoch 9 / 10 ================================\n",
            "Training => Average Loss: 0.216871158413589 | Accuracy: 0.9161250591278076\n",
            "Validation => Average Loss: 0.20308164206147195 | Accuracy: 0.9225000143051147\n",
            "\n",
            " Epoch 10 / 10 ================================\n",
            "Training => Average Loss: 0.20696396639198064 | Accuracy: 0.924375057220459\n",
            "Validation => Average Loss: 0.20774556909501551 | Accuracy: 0.9155000448226929\n"
          ]
        }
      ],
      "source": [
        "\"\"\"\n",
        "Train the network on Omniglot\n",
        "\"\"\"\n",
        "\n",
        "siamese_net = ConvSiameseNet()\n",
        "\n",
        "criterion = nn.BCEWithLogitsLoss()\n",
        "optimizer = optim.Adam(siamese_net.parameters(), lr=0.0001)\n",
        "\n",
        "# Change this to train for any number of epochs\n",
        "num_epochs = 10\n",
        "\n",
        "for epoch in range(num_epochs):\n",
        "  print(f\"\\n Epoch {epoch + 1} / {num_epochs} ================================\")\n",
        "\n",
        "  train_siamese_network(siamese_net, criterion, optimizer, train_loader, DEVICE)\n",
        "  evaluate_siamese_network(siamese_net, criterion, val_loader, DEVICE)"
      ]
    },
    {
      "cell_type": "markdown",
      "metadata": {
        "execution": {},
        "id": "DUztcpujcBhS"
      },
      "source": [
        "## Bonus Section 1.4: One-shot Classification with Siamese Networks"
      ]
    },
    {
      "cell_type": "markdown",
      "metadata": {
        "execution": {},
        "id": "xTxvZRekcBhS"
      },
      "source": [
        "Now that we have a siamese network trained on verification, let's try to extend it to one-shot classification. How can we do this?\n",
        "\n",
        "Let's first try to understand what the current network offers: Given two images, find out if they belong to the same class or not.\n",
        "\n",
        "What does N-way one-shot classification ask for? Given one image from each of the N classes (the support set), find out which class does the query image belong to.\n",
        "\n",
        "Take a moment to think about how the verification network can be extended to work in the one-shot setting.\n",
        "\n",
        "Given a query image, compare it with different images in the support set using our siamese network. Pick the class that is most similar to the query image!\n",
        "\n",
        "Let's get the test dataset where one sample corresponds to a query image and N support images!"
      ]
    },
    {
      "cell_type": "code",
      "execution_count": 44,
      "metadata": {
        "cellView": "form",
        "execution": {},
        "id": "8DcmJR5xcBhS",
        "outputId": "7ba27e09-2f50-4522-dcab-fe7c3dbb9796",
        "colab": {
          "base_uri": "https://localhost:8080/"
        }
      },
      "outputs": [
        {
          "output_type": "stream",
          "name": "stdout",
          "text": [
            "Downlading the dataset...\n",
            "Dataset is downloaded.\n"
          ]
        }
      ],
      "source": [
        "# @title Download the test dataset\n",
        "import zipfile, os, requests\n",
        "\n",
        "# original location: https://github.com/brendenlake/omniglot/tree/master/python\n",
        "\n",
        "dirname = 'data/omniglot-py/'\n",
        "if not os.path.exists(dirname):\n",
        "  os.makedirs(dirname)\n",
        "\n",
        "fname = 'images_evaluation.zip'\n",
        "url = \"https://osf.io/uq4gw/download\"\n",
        "\n",
        "if not os.path.exists(dirname + 'images_evaluation'):\n",
        "  print('Downlading the dataset...')\n",
        "  r = requests.get(url, allow_redirects=True)\n",
        "  with open(dirname + fname, 'wb') as fd:\n",
        "    fd.write(r.content)\n",
        "  with zipfile.ZipFile(dirname + fname, 'r') as zip_ref:\n",
        "    zip_ref.extractall(dirname)\n",
        "  print('Dataset is downloaded.')\n",
        "else:\n",
        "  print('Dataset has already been downloaded.')"
      ]
    },
    {
      "cell_type": "code",
      "execution_count": 45,
      "metadata": {
        "execution": {},
        "id": "xts5lZjbcBhS",
        "outputId": "b6c3a646-401f-4fd2-9e01-083348f81e1c",
        "colab": {
          "base_uri": "https://localhost:8080/"
        }
      },
      "outputs": [
        {
          "output_type": "stream",
          "name": "stdout",
          "text": [
            "Files already downloaded and verified\n"
          ]
        }
      ],
      "source": [
        "\"\"\"\n",
        "Load the test dataset for N-way One-shot classification\n",
        "\"\"\"\n",
        "\n",
        "# Change this to change the number of classes in the support set\n",
        "n_ways = 5\n",
        "\n",
        "test_dataset = get_test_dataset(n_ways=n_ways, download=True)"
      ]
    },
    {
      "cell_type": "code",
      "execution_count": 46,
      "metadata": {
        "execution": {},
        "id": "a33Gg22fcBhS",
        "outputId": "bd34253d-8287-4789-b1ef-13af8419e113",
        "colab": {
          "base_uri": "https://localhost:8080/",
          "height": 231
        }
      },
      "outputs": [
        {
          "output_type": "display_data",
          "data": {
            "text/plain": [
              "<Figure size 1728x720 with 6 Axes>"
            ],
            "image/png": "[encoded data removed]"
          },
          "metadata": {
            "image/png": {
              "width": 1718,
              "height": 214
            }
          }
        }
      ],
      "source": [
        "\"\"\"\n",
        "Visualize a sample from the test dataset\n",
        "\"\"\"\n",
        "\n",
        "# Change this to visualize another sample from the dataset\n",
        "sample_idx = 1\n",
        "sample = test_dataset[sample_idx]\n",
        "\n",
        "visualize_one_shot_sample(sample)"
      ]
    },
    {
      "cell_type": "markdown",
      "metadata": {
        "execution": {},
        "id": "B36l4q1EcBhT"
      },
      "source": [
        "We are in the endgame now. Let's look at how our siamese network performs on N-way One-shot classification!"
      ]
    },
    {
      "cell_type": "code",
      "execution_count": 47,
      "metadata": {
        "execution": {},
        "id": "ee-excbOcBhT",
        "outputId": "96f63148-ffd6-4507-ddc8-d3bc46911504",
        "colab": {
          "base_uri": "https://localhost:8080/"
        }
      },
      "outputs": [
        {
          "output_type": "stream",
          "name": "stdout",
          "text": [
            "Testing (One-shot) => Accuracy: 0.8235963582992554\n"
          ]
        }
      ],
      "source": [
        "\"\"\"\n",
        "Evaluate our Siamese Network on N-way One-shot classification\n",
        "\"\"\"\n",
        "\n",
        "batch_size = 16\n",
        "\n",
        "test_loader = DataLoader(\n",
        "    dataset=test_dataset,\n",
        "    batch_size=batch_size,\n",
        "    num_workers=2,\n",
        "    worker_init_fn=seed_worker,\n",
        "    generator=g_seed\n",
        "    )\n",
        "\n",
        "evaluate_one_shot(siamese_net, test_loader, DEVICE)"
      ]
    },
    {
      "cell_type": "markdown",
      "metadata": {
        "execution": {},
        "id": "HD39k9tgcBhT"
      },
      "source": [
        "Congratulations! We successfully solved our first Meta-Learning problem. Feel free to run through this section again with different parameters and compare the differences!"
      ]
    },
    {
      "cell_type": "markdown",
      "metadata": {
        "execution": {},
        "id": "UEtIc7W5cBhT"
      },
      "source": [
        "## Bonus Section 1.5: Section Summary\n",
        "\n",
        "In this section, we learnt the following (try to answer these questions to ensure that you understood the content fairly well):\n",
        "\n",
        "* What is Meta-Learning and how is it used to solve various problems with Deep Learning?\n",
        "\n",
        "* What is Few-shot Learning? We took a look at what is N-way K-shot classification using the Omniglot dataset and Convolutional Siamese Networks."
      ]
    },
    {
      "cell_type": "markdown",
      "metadata": {
        "execution": {},
        "id": "4g4fI-vAcBhT"
      },
      "source": [
        "---\n",
        "# Bonus 2: Continual and Life-Long Learning"
      ]
    },
    {
      "cell_type": "code",
      "execution_count": 48,
      "metadata": {
        "cellView": "form",
        "execution": {},
        "id": "PvJW3GnUcBhT",
        "outputId": "3bdcccc7-4617-40e9-ea36-e5e948b29270",
        "colab": {
          "base_uri": "https://localhost:8080/",
          "height": 582,
          "referenced_widgets": [
            "6922001dc867494dab44fea3ffdf883f",
            "99cb2c0c5bf94030b54d3a4d19c2aef8",
            "358218ad7c954195a4b5f724613d370e",
            "97d1f44afd7f4a40b21bfd5add263382",
            "7d5896003d2c42e182635245e50da48e",
            "819d02a94bf74db3b1596516886c25ea"
          ]
        }
      },
      "outputs": [
        {
          "output_type": "display_data",
          "data": {
            "text/plain": [
              "Tab(children=(Output(), Output()), _titles={'0': 'Youtube', '1': 'Bilibili'})"
            ],
            "application/vnd.jupyter.widget-view+json": {
              "version_major": 2,
              "version_minor": 0,
              "model_id": "6922001dc867494dab44fea3ffdf883f"
            }
          },
          "metadata": {}
        }
      ],
      "source": [
        "# @title Video 5: Continual and Life-Long Learning\n",
        "from ipywidgets import widgets\n",
        "\n",
        "out2 = widgets.Output()\n",
        "with out2:\n",
        "  from IPython.display import IFrame\n",
        "  class BiliVideo(IFrame):\n",
        "    def __init__(self, id, page=1, width=400, height=300, **kwargs):\n",
        "      self.id=id\n",
        "      src = \"https://player.bilibili.com/player.html?bvid={0}&page={1}\".format(id, page)\n",
        "      super(BiliVideo, self).__init__(src, width, height, **kwargs)\n",
        "\n",
        "  video = BiliVideo(id=f\"BV1uX4y1c7Yh\", width=854, height=480, fs=1)\n",
        "  print(\"Video available at https://www.bilibili.com/video/{0}\".format(video.id))\n",
        "  display(video)\n",
        "\n",
        "out1 = widgets.Output()\n",
        "with out1:\n",
        "  from IPython.display import YouTubeVideo\n",
        "  video = YouTubeVideo(id=f\"-lmY_lc75As\", width=854, height=480, fs=1, rel=0)\n",
        "  print(\"Video available at https://youtube.com/watch?v=\" + video.id)\n",
        "  display(video)\n",
        "\n",
        "out = widgets.Tab([out1, out2])\n",
        "out.set_title(0, 'Youtube')\n",
        "out.set_title(1, 'Bilibili')\n",
        "\n",
        "# add event to airtable\n",
        "atform.add_event('Video 5: Continual and Life-Long Learning')\n",
        "\n",
        "display(out)"
      ]
    },
    {
      "cell_type": "markdown",
      "metadata": {
        "execution": {},
        "id": "96abHfKkcBhU"
      },
      "source": [
        "## Bonus Think! 2: Why are Continual and Life-Long Learning tough?\n",
        "\n",
        "Take a moment to think about the following:\n",
        "\n",
        "1. You have had an extensive tutorial on Continual Learning. Can you quickly recall the different problems with Continual Learning and how these problems were solved?\n",
        "\n",
        "2. What do you think makes Life-Long Learning tough to implement? How is this learning paradigm different from those that you have seen before?"
      ]
    },
    {
      "cell_type": "markdown",
      "metadata": {
        "execution": {},
        "id": "h0TEfqvrcBhU"
      },
      "source": [
        "---\n",
        "# Bonus 3 - Feature Importance Tutorial"
      ]
    },
    {
      "cell_type": "markdown",
      "metadata": {
        "execution": {},
        "id": "KQ_FYkDxcBhU"
      },
      "source": [
        "If you wish to understand how the accuracies are calculated in Section 3.3, continue reading!"
      ]
    },
    {
      "cell_type": "markdown",
      "metadata": {
        "execution": {},
        "id": "9WP1453mcBhU"
      },
      "source": [
        "Recall the problem setup:\n",
        "\n",
        "There exist binary-valued random variables $X^{(1)}, X^{(2)}, X^{(3)}, Y \\in {0,1}$ such that $X^{(1)}, X^{(2)}$, and $X^{(3)}$ are conditionally independent (given $Y$).\n",
        "\n",
        "Let $P(Y=1) = 1/2$. Then the joint distribution of $X^{(1)}, X^{(2)}, X^{(3)}, Y$ is specified by the conditional probabilities $P(X_i=1 | Y=0)$ and $P(X_i=1 | Y=1)$, for $i=1,2,3$:\n",
        "\n",
        "\\begin{align}\n",
        "P(X^{(1)}=1|Y=0)=0.10 &, P(X^{(1)}=1|Y=1)=0.90 \\\\\n",
        "P(X^{(2)}=1|Y=0)=0.05 &, P(X^{(2)}=1|Y=1)=0.80 \\\\\n",
        "P(X^{(3)}=1|Y=0)=0.01 &, P(X^{(1)}=1|Y=1)=0.71\n",
        "\\end{align}"
      ]
    },
    {
      "cell_type": "markdown",
      "metadata": {
        "execution": {},
        "id": "rcz-L_ovcBhU"
      },
      "source": [
        "## Define a feature importance metric\n",
        "\n",
        "Here we'll use 0-1 loss to define feature importance. We can imagine using $X^{(1)}, X^{(2)}$, and $X^{(3)}$ to predict $Y$. $Y$ can only be 0 or 1, so your predictions must be 0 or 1 and will either be right or wrong (i.e, perfect for 0-1 loss)."
      ]
    },
    {
      "cell_type": "markdown",
      "metadata": {
        "execution": {},
        "id": "7MxqNDchcBhU"
      },
      "source": [
        "## Calculate the individual feature importance (0-1 loss) for  $X^{(1)}$, $X^{(2)}$, and $X^{(3)}$\n",
        "\n",
        "**Hint:** You can accomplish this by finding the probability that  X  and  Y  match. You're given $P(X^{(1)}=1|Y=0)$, but you need $P(X^{(1)}=0|Y=0)$ . Recall that $P(Y)=1/2$ and compute an equally weighted average of the two accuracies you can compute given the two possible values of $X^{(1)}$ .\n",
        "\n",
        "**Solution:** If $P(X^{(1)} = 1|Y = 0)=0.10$, then $P(X^{(1)} = 0|Y = 0)=0.90$. \n",
        "\n",
        "There's a symmetry we can take advantage of here: we know that 90% of the time $Y=1$ we have $X=1$, which implies that 90% of the time $X=1$ we have $Y=1$, which is a more natural way of thinking about prediction.\n",
        "\n",
        "This means we predict correctly 90% of the time when $Y=0$, and we predict correctly 90% of the time when $Y=1$. Since $P(Y)=1/2$, we have 0-1 loss $L = 1-(0.5 \\times 0.9 + 0.5 \\times 0.9)=0.1$.\n",
        "\n",
        "In total, we have:\n",
        "\n",
        "\\begin{align}\n",
        "L_1 =& 1 - (0.5 \\times 0.9 + 0.5 \\times 0.9) = 0.1 \\\\\n",
        "L_2 =& 1 - (0.5 \\times 0.95 + 0.5 \\times 0.8) = 0.125 \\\\\n",
        "L_3 =& 1 - (0.5 \\times 0.99 + 0.5 \\times 0.71) = 0.15.\n",
        "\\end{align}\n",
        "\n",
        "**Check:** If you did not observe that feature $X^{(1)}$ is the most important feature by virtue of having the smallest 0-1 loss (0.1), check your calculations before proceeding."
      ]
    },
    {
      "cell_type": "markdown",
      "metadata": {
        "execution": {},
        "id": "wDYjtnAzcBhV"
      },
      "source": [
        "### Calculate the importance of feature pairs (0-1 loss) for $\\{X^{(1)}, X^{(2)}\\}$, $\\{X^{(1)}, X^{(3)}\\}$, and $\\{X^{(2)}, X^{(3)}\\}$\n",
        "\n",
        "\n"
      ]
    },
    {
      "cell_type": "markdown",
      "metadata": {
        "execution": {},
        "id": "Cn6nt-XzcBhV"
      },
      "source": [
        "### Let's start with $\\{X^{(1)}, X^{(2)}\\}$\n",
        "\n",
        "Working out these calculations is a bit tedious, so we'll provide various tables and descriptions of their origins.\n",
        "\n",
        "First, we compute conditional PMFs $P\\left( X^{(1)}, X^{(2)}∣Y \\right)$ by multiplying the provided conditionally independent probabilities together.\n",
        "\n",
        "**Conditional PMFs:**\n",
        "\n",
        "\\begin{matrix}\n",
        "P(X_1,X_2|Y=0) && X_2=0 && X_2=1 \\\\\n",
        "\\hline\n",
        "X_1=0 && 0.855 && 0.045 \\\\\n",
        "X_1=1 && 0.095 && 0.005\n",
        "\\end{matrix}\n",
        "\n",
        "<br>\n",
        "\n",
        "\\begin{matrix}\n",
        "P(X_1,X_2|Y=1) && X_2=0 && X_2=1 \\\\\n",
        "\\hline\n",
        "X_1=0 && 0.02 && 0.08 \\\\\n",
        "X_1=1 && 0.18 && 0.72\n",
        "\\end{matrix}\n",
        "\n",
        "<br>\n",
        "\n",
        "We can then obtain a marginal PMF for $\\{X^{(1)}, X^{(2)}\\}$ by element-wise averaging these two 2x2 tables because $P(Y)=1/2$.\n",
        "\n",
        "**Marginal PMF:**\n",
        "\n",
        "\\begin{matrix}\n",
        "P(X_1,X_2) && X_2=0 && X_2=1 \\\\\n",
        "\\hline\n",
        "X_1=0 && 0.4375 && 0.0625 \\\\\n",
        "X_1=1 && 0.1375 && 0.3625\n",
        "\\end{matrix}\n",
        "\n",
        "We now use the conditional PMFs to evaluate the conditional probability expressions we care about: $P\\left( Y∣X^{(1)}, X^{(2)} \\right)$.\n",
        "\n",
        "<br>\n",
        "\n",
        "**Conditional Probabilities: $P \\left( Y=\\{0, 1\\}|X_1,X_2 \\right)$**\n",
        "\n",
        "Using the $\\frac{P(X_1,X_2 | Y=0)}{P(X_1,X_2|Y=0) + P(X_1,X_2|Y=1)}$, we obtain the following matrix:\n",
        "\n",
        "<br>\n",
        "\n",
        "\\begin{matrix}\n",
        "P(Y=0|X_1,X_2) && X_2=0 && X_2=1 \\\\\n",
        "\\hline\n",
        "X_1=0 && 0.977143 && 0.36 \\\\\n",
        "X_1=1 && 0.345455 && 0.006897\n",
        "\\end{matrix}\n",
        "\n",
        "<br>\n",
        "\n",
        "Using the $\\frac{P(X_1, X_2 | Y=1)}{P(X_1,X_2|Y=0) + P(X_1,X_2|Y=1)}$, we obtain the following matrix:\n",
        "\n",
        "<br>\n",
        "\n",
        "\\begin{matrix}\n",
        "P(Y=1|X_1,X_2) && X_2=0 && X_2=1 \\\\\n",
        "\\hline\n",
        "X_1=0 && 0.022857 && 0.640000 \\\\\n",
        "X_1=1 && 0.654545 && 0.993103\n",
        "\\end{matrix}\n",
        "\n",
        "<br>\n",
        "\n",
        "We now implement a 0-1 classifier that predicts $\\hat{Y}=0$ or $\\hat{Y}=1$ based on the element-wise maximum in these two tables. For example, when $X^{(1)}=0$ and $X^{(2)}=0$, there's a 0.977 probability that $Y=0$ and a 0.023 probability that $Y=1$. We would of course predict $\\hat{Y}=1$ , and we expect to be correct 97.7% of the time.\n",
        "\n",
        "We now know the expected probability of success for our classifier for each $\\{X^{(1)}, X^{(2)}\\}$ combination.\n",
        "\n",
        "<br>\n",
        "\n",
        "**Maximum Conditional Probability:**\n",
        "\n",
        "\\begin{matrix}\n",
        "P(\\text{Correct}|X_1,X_2) && X_2=0 && X_2=1 \\\\\n",
        "\\hline\n",
        "X_1=0 && 0.977143 && 0.640000 \\\\\n",
        "X_1=1 && 0.654545 && 0.993103\n",
        "\\end{matrix}\n",
        "\n",
        "Only one task remains for you to complete: compute the expected 0-1 loss for this classifier.\n",
        "\n",
        "<br>\n",
        "\n",
        "**Hint:** We know how likely we are to be correct given some $\\{X(1), X(2)\\}$ combination. We also know how likely those combinations are to appear.\n",
        "\n",
        "**Solution:**"
      ]
    },
    {
      "cell_type": "code",
      "execution_count": 49,
      "metadata": {
        "execution": {},
        "id": "oDBicWlMcBhV",
        "outputId": "898cd687-7c58-47e8-aca6-493ae5f53fbf",
        "colab": {
          "base_uri": "https://localhost:8080/"
        }
      },
      "outputs": [
        {
          "output_type": "stream",
          "name": "stdout",
          "text": [
            "0.9173937499999999\n"
          ]
        }
      ],
      "source": [
        "marginal = np.array([[0.4375, 0.0625],\n",
        "                     [0.1375, 0.3625]])\n",
        "max_cond_prob = np.array([[0.977, 0.64],\n",
        "                          [0.6545, 0.993]])\n",
        "# We need the sum-product of these two arrays.\n",
        "# (1) Element-wise multiplication to produce one array.\n",
        "# (2) Sum the elements of the resulting array\n",
        "accuracy = np.sum(np.multiply(marginal, max_cond_prob))\n",
        "print(accuracy)"
      ]
    },
    {
      "cell_type": "code",
      "execution_count": 50,
      "metadata": {
        "execution": {},
        "id": "DxZP-YNtcBhW",
        "outputId": "c8a274a5-5942-4999-c97b-c1021e06b397",
        "colab": {
          "base_uri": "https://localhost:8080/"
        }
      },
      "outputs": [
        {
          "output_type": "stream",
          "name": "stdout",
          "text": [
            "0.0826062500000001\n"
          ]
        }
      ],
      "source": [
        "# 0-1 loss is 1 - accuracy.\n",
        "print(1 - accuracy)"
      ]
    },
    {
      "cell_type": "markdown",
      "metadata": {
        "execution": {},
        "id": "R5TA2fgIcBhW"
      },
      "source": [
        "**Check:** You should have gotten 0-1 loss for $\\{X^{(1)}, X^{(2)}\\}$ to be $0.0826$."
      ]
    },
    {
      "cell_type": "markdown",
      "metadata": {
        "execution": {},
        "id": "i1NLUad1cBhW"
      },
      "source": [
        "### Let's move on to  $\\{X^{(2)}, X^{(3)}\\}$\n",
        "\n",
        "Our claim was that the most important single feature, already found to be $\\{X^{(1)}$\\}, is not in the most important pair of features, so we just need to show that the 0-1 loss for $\\{X^{(2)}, X^{(3)}\\}$ is less than 0.0826.\n",
        "\n",
        "First, we compute conditional PMFs $P \\left( X^{(2)}, X^{(3)}∣Y \\right)$ by multiplying conditionally independent probabilities together.\n",
        "\n",
        "**Conditional PMFs:**\n",
        "\n",
        "\\begin{matrix}\n",
        "P(X_2,X_3|Y=0) && X_3=0 && X_3=1 \\\\\n",
        "\\hline\n",
        "X_2=0 && 0.9405 && 0.0095 \\\\\n",
        "X_2=1 && 0.0495 && 0.0005\n",
        "\\end{matrix}\n",
        "\n",
        "<br>\n",
        "\n",
        "\\begin{matrix}\n",
        "P(X_2,X_3|Y=1) && X_3=0 && X_3=1 \\\\\n",
        "\\hline\n",
        "X_2=0 && 0.058 && 0.142 \\\\\n",
        "X_2=1 && 0.232 && 0.568\n",
        "\\end{matrix}\n",
        "\n",
        "<br>\n",
        "\n",
        "We can then obtain a marginal PMF for $\\{X^{(2)}, X^{(3)}\\}$ by element-wise averaging these two 2x2 tables because $P(Y)=1/2$.\n",
        "\n",
        "<br>\n",
        "\n",
        "**Marginal PMF:**\n",
        "\n",
        "\\begin{matrix}\n",
        "P(X_2,X_3) && X_3=0 && X_3=1 \\\\\n",
        "\\hline\n",
        "X_2=0 && 0.49925 && 0.07575 \\\\\n",
        "X_2=1 && 0.14075 && 0.28425\n",
        "\\end{matrix}\n",
        "\n",
        "<br>\n",
        "\n",
        "We now use the conditional PMFs to evaluate the conditional probability expressions we care about: $P \\left( Y∣X^{(2)}, X^{(3)} \\right)$.\n",
        "\n",
        "<br>\n",
        "\n",
        "**Conditional Probabilities: $P \\left( Y=\\{0, 1\\}|X_2, X_3 \\right)$**\n",
        "\n",
        "Using the $\\frac{P(X_2,X_3 | Y=0)}{P(X_2, X_3|Y=0) + P(X_2, X_3|Y=1)}$, we obtain the following matrix:\n",
        "\n",
        "<br>\n",
        "\n",
        "\\begin{matrix}\n",
        "P(Y=0|X_2,X_3) && X_3=0 && X_3=1 \\\\\n",
        "\\hline\n",
        "X_2=0 && 0.941912869 && 0.062706271 \\\\\n",
        "X_2=1 && 0.175843694 && 0.000879507\n",
        "\\end{matrix}\n",
        "\n",
        "<br>\n",
        "\n",
        "Using the $\\frac{P(X_2,X_3 | Y=1)}{P(X_2, X_3|Y=0) + P(X_2, X_3|Y=1)}$, we obtain the following matrix:\n",
        "\n",
        "<br>\n",
        "\n",
        "\\begin{matrix}\n",
        "P(Y=0|X_2,X_3) && X_3=0 && X_3=1 \\\\\n",
        "\\hline\n",
        "X_2=0 && 0.058087131 && 0.937293729 \\\\\n",
        "X_2=1 && 0.824156306 && 0.999120493\n",
        "\\end{matrix}\n",
        "\n",
        "<br>\n",
        "\n",
        "We now implement a 0-1 classifier that predicts $\\hat{Y}=0$ or $\\hat{Y}=1$ based on the element-wise maximum in these two tables. For example, when $X^{(2)}=0$ and $X^{(3)}=0$, there's a 0.942 probability that $Y=0$ and a 0.058 probability that $Y=1$. We would of course predict $\\hat{Y}=1$ , and we expect to be correct 94.2% of the time.\n",
        "\n",
        "We now know the expected probability of success for our classifier for each $\\{X^{(2)}, X^{(3)}\\}$ combination.\n",
        "\n",
        "<br>\n",
        "\n",
        "**Maximum Conditional Probability:**\n",
        "\n",
        "\\begin{matrix}\n",
        "P(\\text{Correct}|X_2,X_3) && X_3=0 && X_3=1 \\\\\n",
        "\\hline\n",
        "X_2=0 && 0.941912869 && 0.937293729 \\\\\n",
        "X_2=1 && 0.824156306 && 0.999120493\n",
        "\\end{matrix}\n",
        "\n",
        "<br>\n",
        "\n",
        "Only one task remains for you to complete: compute the expected 0-1 loss for this classifier.\n",
        "\n",
        "<br>\n",
        "\n",
        "**Hint:** We know how likely we are to be correct given some $\\{X(2), X(3)\\}$ combination. We also know how likely those combinations are to appear.\n",
        "\n",
        "**Solution:**"
      ]
    },
    {
      "cell_type": "code",
      "execution_count": 51,
      "metadata": {
        "execution": {},
        "id": "nQI9xHO_cBhX",
        "outputId": "449b78d4-7773-43f6-d128-bcb9d036c2b5",
        "colab": {
          "base_uri": "https://localhost:8080/"
        }
      },
      "outputs": [
        {
          "output_type": "stream",
          "name": "stdout",
          "text": [
            "0.9412500000247499\n"
          ]
        }
      ],
      "source": [
        "marginal = np.array([[0.49925, 0.07575],\n",
        "                     [0.14075, 0.28425]])\n",
        "max_cond_prob = np.array([[0.941912869, 0.937293729],\n",
        "                          [0.824156306,0.999120493]])\n",
        "# We need the sum-product of these two arrays.\n",
        "# (1) Element-wise multiplication to produce one array.\n",
        "# (2) Sum the elements of the resulting array\n",
        "accuracy = np.sum(np.multiply(marginal, max_cond_prob))\n",
        "print(accuracy)"
      ]
    },
    {
      "cell_type": "code",
      "execution_count": 52,
      "metadata": {
        "execution": {},
        "id": "vaJ8-rOjcBhX",
        "outputId": "376febeb-3172-41fd-d1a7-9b9ca2df7455",
        "colab": {
          "base_uri": "https://localhost:8080/"
        }
      },
      "outputs": [
        {
          "output_type": "stream",
          "name": "stdout",
          "text": [
            "0.0587499999752501\n"
          ]
        }
      ],
      "source": [
        "# 0-1 loss is 1 - accuracy.\n",
        "print(1 - accuracy)"
      ]
    },
    {
      "cell_type": "markdown",
      "metadata": {
        "execution": {},
        "id": "138CWOAdcBhX"
      },
      "source": [
        "**Check:** You should have gotten 0-1 loss for $\\{X^{(2)}, X^{(3)}\\}$ to be $0.05875$."
      ]
    },
    {
      "cell_type": "markdown",
      "metadata": {
        "execution": {},
        "id": "5CALlZP8cBhY"
      },
      "source": [
        "## Conclusion\n",
        "\n",
        "We demonstrated that our intuition could be misleading - it's not always the case that a feature that ranks highly among individual features would necessarily warrant being included at all when larger sets of features are considered.\n",
        "\n",
        "Something to think about: What does this tell you about stepwise feature selection approaches?"
      ]
    }
  ],
  "metadata": {
    "accelerator": "GPU",
    "colab": {
      "collapsed_sections": [],
      "name": "W3D4_Tutorial2",
      "provenance": [],
      "toc_visible": true,
      "include_colab_link": true
    },
    "kernel": {
      "display_name": "Python 3",
      "language": "python",
      "name": "python3"
    },
    "kernelspec": {
      "display_name": "Python 3",
      "language": "python",
      "name": "python3"
    },
    "language_info": {
      "codemirror_mode": {
        "name": "ipython",
        "version": 3
      },
      "file_extension": ".py",
      "mimetype": "text/x-python",
      "name": "python",
      "nbconvert_exporter": "python",
      "pygments_lexer": "ipython3",
      "version": "3.7.3"
    },
    "toc-autonumbering": true,
    "widgets": {
      "application/vnd.jupyter.widget-state+json": {
        "b9175bea885a4aed9c309bd3246028cd": {
          "model_module": "@jupyter-widgets/controls",
          "model_name": "TabModel",
          "model_module_version": "1.5.0",
          "state": {
            "_dom_classes": [],
            "_model_module": "@jupyter-widgets/controls",
            "_model_module_version": "1.5.0",
            "_model_name": "TabModel",
            "_titles": {
              "0": "Youtube",
              "1": "Bilibili"
            },
            "_view_count": null,
            "_view_module": "@jupyter-widgets/controls",
            "_view_module_version": "1.5.0",
            "_view_name": "TabView",
            "box_style": "",
            "children": [
              "IPY_MODEL_ee3c3a3fd63a4a5297e9b330584d4f31",
              "IPY_MODEL_bf8ab5db892c44b1a2377603e32d7487"
            ],
            "layout": "IPY_MODEL_4af34a8406314b3683b98a48a4a80d87",
            "selected_index": 0
          }
        },
        "ee3c3a3fd63a4a5297e9b330584d4f31": {
          "model_module": "@jupyter-widgets/output",
          "model_name": "OutputModel",
          "model_module_version": "1.0.0",
          "state": {
            "_dom_classes": [],
            "_model_module": "@jupyter-widgets/output",
            "_model_module_version": "1.0.0",
            "_model_name": "OutputModel",
            "_view_count": null,
            "_view_module": "@jupyter-widgets/output",
            "_view_module_version": "1.0.0",
            "_view_name": "OutputView",
            "layout": "IPY_MODEL_1e79868a6fa84bb5b64285b023061373",
            "msg_id": "",
            "outputs": [
              {
                "output_type": "stream",
                "name": "stdout",
                "text": [
                  "Video available at https://youtube.com/watch?v=zMQySpHBoGs\n"
                ]
              },
              {
                "output_type": "display_data",
                "data": {
                  "text/plain": "<IPython.lib.display.YouTubeVideo at 0x7efeebee3990>",
                  "text/html": "\n        <iframe\n            width=\"854\"\n            height=\"480\"\n            src=\"https://www.youtube.com/embed/zMQySpHBoGs?fs=1&rel=0\"\n            frameborder=\"0\"\n            allowfullscreen\n        ></iframe>\n        ",
                  "image/jpeg": "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\n"
                },
                "metadata": {}
              }
            ]
          }
        },
        "bf8ab5db892c44b1a2377603e32d7487": {
          "model_module": "@jupyter-widgets/output",
          "model_name": "OutputModel",
          "model_module_version": "1.0.0",
          "state": {
            "_dom_classes": [],
            "_model_module": "@jupyter-widgets/output",
            "_model_module_version": "1.0.0",
            "_model_name": "OutputModel",
            "_view_count": null,
            "_view_module": "@jupyter-widgets/output",
            "_view_module_version": "1.0.0",
            "_view_name": "OutputView",
            "layout": "IPY_MODEL_fe9199ff48fc414fb227212732e5fb67",
            "msg_id": "",
            "outputs": [
              {
                "output_type": "stream",
                "name": "stdout",
                "text": [
                  "Video available at https://www.bilibili.com/video/BV1764y167fj\n"
                ]
              },
              {
                "output_type": "display_data",
                "data": {
                  "text/plain": "<__main__.BiliVideo at 0x7efee6174710>",
                  "text/html": "\n        <iframe\n            width=\"854\"\n            height=\"480\"\n            src=\"https://player.bilibili.com/player.html?bvid=BV1764y167fj&page=1?fs=1\"\n            frameborder=\"0\"\n            allowfullscreen\n        ></iframe>\n        "
                },
                "metadata": {}
              }
            ]
          }
        },
        "4af34a8406314b3683b98a48a4a80d87": {
          "model_module": "@jupyter-widgets/base",
          "model_name": "LayoutModel",
          "model_module_version": "1.2.0",
          "state": {
            "_model_module": "@jupyter-widgets/base",
            "_model_module_version": "1.2.0",
            "_model_name": "LayoutModel",
            "_view_count": null,
            "_view_module": "@jupyter-widgets/base",
            "_view_module_version": "1.2.0",
            "_view_name": "LayoutView",
            "align_content": null,
            "align_items": null,
            "align_self": null,
            "border": null,
            "bottom": null,
            "display": null,
            "flex": null,
            "flex_flow": null,
            "grid_area": null,
            "grid_auto_columns": null,
            "grid_auto_flow": null,
            "grid_auto_rows": null,
            "grid_column": null,
            "grid_gap": null,
            "grid_row": null,
            "grid_template_areas": null,
            "grid_template_columns": null,
            "grid_template_rows": null,
            "height": null,
            "justify_content": null,
            "justify_items": null,
            "left": null,
            "margin": null,
            "max_height": null,
            "max_width": null,
            "min_height": null,
            "min_width": null,
            "object_fit": null,
            "object_position": null,
            "order": null,
            "overflow": null,
            "overflow_x": null,
            "overflow_y": null,
            "padding": null,
            "right": null,
            "top": null,
            "visibility": null,
            "width": null
          }
        },
        "1e79868a6fa84bb5b64285b023061373": {
          "model_module": "@jupyter-widgets/base",
          "model_name": "LayoutModel",
          "model_module_version": "1.2.0",
          "state": {
            "_model_module": "@jupyter-widgets/base",
            "_model_module_version": "1.2.0",
            "_model_name": "LayoutModel",
            "_view_count": null,
            "_view_module": "@jupyter-widgets/base",
            "_view_module_version": "1.2.0",
            "_view_name": "LayoutView",
            "align_content": null,
            "align_items": null,
            "align_self": null,
            "border": null,
            "bottom": null,
            "display": null,
            "flex": null,
            "flex_flow": null,
            "grid_area": null,
            "grid_auto_columns": null,
            "grid_auto_flow": null,
            "grid_auto_rows": null,
            "grid_column": null,
            "grid_gap": null,
            "grid_row": null,
            "grid_template_areas": null,
            "grid_template_columns": null,
            "grid_template_rows": null,
            "height": null,
            "justify_content": null,
            "justify_items": null,
            "left": null,
            "margin": null,
            "max_height": null,
            "max_width": null,
            "min_height": null,
            "min_width": null,
            "object_fit": null,
            "object_position": null,
            "order": null,
            "overflow": null,
            "overflow_x": null,
            "overflow_y": null,
            "padding": null,
            "right": null,
            "top": null,
            "visibility": null,
            "width": null
          }
        },
        "fe9199ff48fc414fb227212732e5fb67": {
          "model_module": "@jupyter-widgets/base",
          "model_name": "LayoutModel",
          "model_module_version": "1.2.0",
          "state": {
            "_model_module": "@jupyter-widgets/base",
            "_model_module_version": "1.2.0",
            "_model_name": "LayoutModel",
            "_view_count": null,
            "_view_module": "@jupyter-widgets/base",
            "_view_module_version": "1.2.0",
            "_view_name": "LayoutView",
            "align_content": null,
            "align_items": null,
            "align_self": null,
            "border": null,
            "bottom": null,
            "display": null,
            "flex": null,
            "flex_flow": null,
            "grid_area": null,
            "grid_auto_columns": null,
            "grid_auto_flow": null,
            "grid_auto_rows": null,
            "grid_column": null,
            "grid_gap": null,
            "grid_row": null,
            "grid_template_areas": null,
            "grid_template_columns": null,
            "grid_template_rows": null,
            "height": null,
            "justify_content": null,
            "justify_items": null,
            "left": null,
            "margin": null,
            "max_height": null,
            "max_width": null,
            "min_height": null,
            "min_width": null,
            "object_fit": null,
            "object_position": null,
            "order": null,
            "overflow": null,
            "overflow_x": null,
            "overflow_y": null,
            "padding": null,
            "right": null,
            "top": null,
            "visibility": null,
            "width": null
          }
        },
        "54e96870b0dd4024986c3539de29d7a0": {
          "model_module": "@jupyter-widgets/controls",
          "model_name": "TabModel",
          "model_module_version": "1.5.0",
          "state": {
            "_dom_classes": [],
            "_model_module": "@jupyter-widgets/controls",
            "_model_module_version": "1.5.0",
            "_model_name": "TabModel",
            "_titles": {
              "0": "Youtube",
              "1": "Bilibili"
            },
            "_view_count": null,
            "_view_module": "@jupyter-widgets/controls",
            "_view_module_version": "1.5.0",
            "_view_name": "TabView",
            "box_style": "",
            "children": [
              "IPY_MODEL_23a0655caf9c4074adfb93a1d3b47329",
              "IPY_MODEL_63f1bf22aba04472b84943645a60a1a7"
            ],
            "layout": "IPY_MODEL_9d731dc7c7d34489ad591f585745eb02",
            "selected_index": 0
          }
        },
        "23a0655caf9c4074adfb93a1d3b47329": {
          "model_module": "@jupyter-widgets/output",
          "model_name": "OutputModel",
          "model_module_version": "1.0.0",
          "state": {
            "_dom_classes": [],
            "_model_module": "@jupyter-widgets/output",
            "_model_module_version": "1.0.0",
            "_model_name": "OutputModel",
            "_view_count": null,
            "_view_module": "@jupyter-widgets/output",
            "_view_module_version": "1.0.0",
            "_view_name": "OutputView",
            "layout": "IPY_MODEL_2c5bcc6750f3408280c4a4145844b60c",
            "msg_id": "",
            "outputs": [
              {
                "output_type": "stream",
                "name": "stdout",
                "text": [
                  "Video available at https://youtube.com/watch?v=PplDj0vXuIY\n"
                ]
              },
              {
                "output_type": "display_data",
                "data": {
                  "text/plain": "<IPython.lib.display.YouTubeVideo at 0x7efee60fefd0>",
                  "text/html": "\n        <iframe\n            width=\"854\"\n            height=\"480\"\n            src=\"https://www.youtube.com/embed/PplDj0vXuIY?fs=1&rel=0\"\n            frameborder=\"0\"\n            allowfullscreen\n        ></iframe>\n        ",
                  "image/jpeg": "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\n"
                },
                "metadata": {}
              }
            ]
          }
        },
        "63f1bf22aba04472b84943645a60a1a7": {
          "model_module": "@jupyter-widgets/output",
          "model_name": "OutputModel",
          "model_module_version": "1.0.0",
          "state": {
            "_dom_classes": [],
            "_model_module": "@jupyter-widgets/output",
            "_model_module_version": "1.0.0",
            "_model_name": "OutputModel",
            "_view_count": null,
            "_view_module": "@jupyter-widgets/output",
            "_view_module_version": "1.0.0",
            "_view_name": "OutputView",
            "layout": "IPY_MODEL_049ac417860a4e38b08264fbd6e51452",
            "msg_id": "",
            "outputs": [
              {
                "output_type": "stream",
                "name": "stdout",
                "text": [
                  "Video available at https://www.bilibili.com/video/BV18w41197o8\n"
                ]
              },
              {
                "output_type": "display_data",
                "data": {
                  "text/plain": "<__main__.BiliVideo at 0x7efeebec34d0>",
                  "text/html": "\n        <iframe\n            width=\"854\"\n            height=\"480\"\n            src=\"https://player.bilibili.com/player.html?bvid=BV18w41197o8&page=1?fs=1\"\n            frameborder=\"0\"\n            allowfullscreen\n        ></iframe>\n        "
                },
                "metadata": {}
              }
            ]
          }
        },
        "9d731dc7c7d34489ad591f585745eb02": {
          "model_module": "@jupyter-widgets/base",
          "model_name": "LayoutModel",
          "model_module_version": "1.2.0",
          "state": {
            "_model_module": "@jupyter-widgets/base",
            "_model_module_version": "1.2.0",
            "_model_name": "LayoutModel",
            "_view_count": null,
            "_view_module": "@jupyter-widgets/base",
            "_view_module_version": "1.2.0",
            "_view_name": "LayoutView",
            "align_content": null,
            "align_items": null,
            "align_self": null,
            "border": null,
            "bottom": null,
            "display": null,
            "flex": null,
            "flex_flow": null,
            "grid_area": null,
            "grid_auto_columns": null,
            "grid_auto_flow": null,
            "grid_auto_rows": null,
            "grid_column": null,
            "grid_gap": null,
            "grid_row": null,
            "grid_template_areas": null,
            "grid_template_columns": null,
            "grid_template_rows": null,
            "height": null,
            "justify_content": null,
            "justify_items": null,
            "left": null,
            "margin": null,
            "max_height": null,
            "max_width": null,
            "min_height": null,
            "min_width": null,
            "object_fit": null,
            "object_position": null,
            "order": null,
            "overflow": null,
            "overflow_x": null,
            "overflow_y": null,
            "padding": null,
            "right": null,
            "top": null,
            "visibility": null,
            "width": null
          }
        },
        "2c5bcc6750f3408280c4a4145844b60c": {
          "model_module": "@jupyter-widgets/base",
          "model_name": "LayoutModel",
          "model_module_version": "1.2.0",
          "state": {
            "_model_module": "@jupyter-widgets/base",
            "_model_module_version": "1.2.0",
            "_model_name": "LayoutModel",
            "_view_count": null,
            "_view_module": "@jupyter-widgets/base",
            "_view_module_version": "1.2.0",
            "_view_name": "LayoutView",
            "align_content": null,
            "align_items": null,
            "align_self": null,
            "border": null,
            "bottom": null,
            "display": null,
            "flex": null,
            "flex_flow": null,
            "grid_area": null,
            "grid_auto_columns": null,
            "grid_auto_flow": null,
            "grid_auto_rows": null,
            "grid_column": null,
            "grid_gap": null,
            "grid_row": null,
            "grid_template_areas": null,
            "grid_template_columns": null,
            "grid_template_rows": null,
            "height": null,
            "justify_content": null,
            "justify_items": null,
            "left": null,
            "margin": null,
            "max_height": null,
            "max_width": null,
            "min_height": null,
            "min_width": null,
            "object_fit": null,
            "object_position": null,
            "order": null,
            "overflow": null,
            "overflow_x": null,
            "overflow_y": null,
            "padding": null,
            "right": null,
            "top": null,
            "visibility": null,
            "width": null
          }
        },
        "049ac417860a4e38b08264fbd6e51452": {
          "model_module": "@jupyter-widgets/base",
          "model_name": "LayoutModel",
          "model_module_version": "1.2.0",
          "state": {
            "_model_module": "@jupyter-widgets/base",
            "_model_module_version": "1.2.0",
            "_model_name": "LayoutModel",
            "_view_count": null,
            "_view_module": "@jupyter-widgets/base",
            "_view_module_version": "1.2.0",
            "_view_name": "LayoutView",
            "align_content": null,
            "align_items": null,
            "align_self": null,
            "border": null,
            "bottom": null,
            "display": null,
            "flex": null,
            "flex_flow": null,
            "grid_area": null,
            "grid_auto_columns": null,
            "grid_auto_flow": null,
            "grid_auto_rows": null,
            "grid_column": null,
            "grid_gap": null,
            "grid_row": null,
            "grid_template_areas": null,
            "grid_template_columns": null,
            "grid_template_rows": null,
            "height": null,
            "justify_content": null,
            "justify_items": null,
            "left": null,
            "margin": null,
            "max_height": null,
            "max_width": null,
            "min_height": null,
            "min_width": null,
            "object_fit": null,
            "object_position": null,
            "order": null,
            "overflow": null,
            "overflow_x": null,
            "overflow_y": null,
            "padding": null,
            "right": null,
            "top": null,
            "visibility": null,
            "width": null
          }
        },
        "27c5d058c42e4734b743909260c18f4a": {
          "model_module": "@jupyter-widgets/controls",
          "model_name": "TabModel",
          "model_module_version": "1.5.0",
          "state": {
            "_dom_classes": [],
            "_model_module": "@jupyter-widgets/controls",
            "_model_module_version": "1.5.0",
            "_model_name": "TabModel",
            "_titles": {
              "0": "Youtube",
              "1": "Bilibili"
            },
            "_view_count": null,
            "_view_module": "@jupyter-widgets/controls",
            "_view_module_version": "1.5.0",
            "_view_name": "TabView",
            "box_style": "",
            "children": [
              "IPY_MODEL_90b3bcefa7394d4caad4991963ac8d1f",
              "IPY_MODEL_a9070d455c344421aa73ea878e4a25e0"
            ],
            "layout": "IPY_MODEL_22e2420e5d2a41deb3c659fb1a36b3ab",
            "selected_index": 0
          }
        },
        "90b3bcefa7394d4caad4991963ac8d1f": {
          "model_module": "@jupyter-widgets/output",
          "model_name": "OutputModel",
          "model_module_version": "1.0.0",
          "state": {
            "_dom_classes": [],
            "_model_module": "@jupyter-widgets/output",
            "_model_module_version": "1.0.0",
            "_model_name": "OutputModel",
            "_view_count": null,
            "_view_module": "@jupyter-widgets/output",
            "_view_module_version": "1.0.0",
            "_view_name": "OutputView",
            "layout": "IPY_MODEL_b9c85df94c1a4b1195e6776e2cc2570c",
            "msg_id": "",
            "outputs": [
              {
                "output_type": "stream",
                "name": "stdout",
                "text": [
                  "Video available at https://youtube.com/watch?v=P_QtnN1_wMM\n"
                ]
              },
              {
                "output_type": "display_data",
                "data": {
                  "text/plain": "<IPython.lib.display.YouTubeVideo at 0x7efed825d810>",
                  "text/html": "\n        <iframe\n            width=\"854\"\n            height=\"480\"\n            src=\"https://www.youtube.com/embed/P_QtnN1_wMM?fs=1&rel=0\"\n            frameborder=\"0\"\n            allowfullscreen\n        ></iframe>\n        ",
                  "image/jpeg": "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\n"
                },
                "metadata": {}
              }
            ]
          }
        },
        "a9070d455c344421aa73ea878e4a25e0": {
          "model_module": "@jupyter-widgets/output",
          "model_name": "OutputModel",
          "model_module_version": "1.0.0",
          "state": {
            "_dom_classes": [],
            "_model_module": "@jupyter-widgets/output",
            "_model_module_version": "1.0.0",
            "_model_name": "OutputModel",
            "_view_count": null,
            "_view_module": "@jupyter-widgets/output",
            "_view_module_version": "1.0.0",
            "_view_name": "OutputView",
            "layout": "IPY_MODEL_567f9394d53144bfb171cb92fb974462",
            "msg_id": "",
            "outputs": [
              {
                "output_type": "stream",
                "name": "stdout",
                "text": [
                  "Video available at https://www.bilibili.com/video/BV1Ey4y1j7Jj\n"
                ]
              },
              {
                "output_type": "display_data",
                "data": {
                  "text/plain": "<__main__.BiliVideo at 0x7efed825d790>",
                  "text/html": "\n        <iframe\n            width=\"854\"\n            height=\"480\"\n            src=\"https://player.bilibili.com/player.html?bvid=BV1Ey4y1j7Jj&page=1?fs=1\"\n            frameborder=\"0\"\n            allowfullscreen\n        ></iframe>\n        "
                },
                "metadata": {}
              }
            ]
          }
        },
        "22e2420e5d2a41deb3c659fb1a36b3ab": {
          "model_module": "@jupyter-widgets/base",
          "model_name": "LayoutModel",
          "model_module_version": "1.2.0",
          "state": {
            "_model_module": "@jupyter-widgets/base",
            "_model_module_version": "1.2.0",
            "_model_name": "LayoutModel",
            "_view_count": null,
            "_view_module": "@jupyter-widgets/base",
            "_view_module_version": "1.2.0",
            "_view_name": "LayoutView",
            "align_content": null,
            "align_items": null,
            "align_self": null,
            "border": null,
            "bottom": null,
            "display": null,
            "flex": null,
            "flex_flow": null,
            "grid_area": null,
            "grid_auto_columns": null,
            "grid_auto_flow": null,
            "grid_auto_rows": null,
            "grid_column": null,
            "grid_gap": null,
            "grid_row": null,
            "grid_template_areas": null,
            "grid_template_columns": null,
            "grid_template_rows": null,
            "height": null,
            "justify_content": null,
            "justify_items": null,
            "left": null,
            "margin": null,
            "max_height": null,
            "max_width": null,
            "min_height": null,
            "min_width": null,
            "object_fit": null,
            "object_position": null,
            "order": null,
            "overflow": null,
            "overflow_x": null,
            "overflow_y": null,
            "padding": null,
            "right": null,
            "top": null,
            "visibility": null,
            "width": null
          }
        },
        "b9c85df94c1a4b1195e6776e2cc2570c": {
          "model_module": "@jupyter-widgets/base",
          "model_name": "LayoutModel",
          "model_module_version": "1.2.0",
          "state": {
            "_model_module": "@jupyter-widgets/base",
            "_model_module_version": "1.2.0",
            "_model_name": "LayoutModel",
            "_view_count": null,
            "_view_module": "@jupyter-widgets/base",
            "_view_module_version": "1.2.0",
            "_view_name": "LayoutView",
            "align_content": null,
            "align_items": null,
            "align_self": null,
            "border": null,
            "bottom": null,
            "display": null,
            "flex": null,
            "flex_flow": null,
            "grid_area": null,
            "grid_auto_columns": null,
            "grid_auto_flow": null,
            "grid_auto_rows": null,
            "grid_column": null,
            "grid_gap": null,
            "grid_row": null,
            "grid_template_areas": null,
            "grid_template_columns": null,
            "grid_template_rows": null,
            "height": null,
            "justify_content": null,
            "justify_items": null,
            "left": null,
            "margin": null,
            "max_height": null,
            "max_width": null,
            "min_height": null,
            "min_width": null,
            "object_fit": null,
            "object_position": null,
            "order": null,
            "overflow": null,
            "overflow_x": null,
            "overflow_y": null,
            "padding": null,
            "right": null,
            "top": null,
            "visibility": null,
            "width": null
          }
        },
        "567f9394d53144bfb171cb92fb974462": {
          "model_module": "@jupyter-widgets/base",
          "model_name": "LayoutModel",
          "model_module_version": "1.2.0",
          "state": {
            "_model_module": "@jupyter-widgets/base",
            "_model_module_version": "1.2.0",
            "_model_name": "LayoutModel",
            "_view_count": null,
            "_view_module": "@jupyter-widgets/base",
            "_view_module_version": "1.2.0",
            "_view_name": "LayoutView",
            "align_content": null,
            "align_items": null,
            "align_self": null,
            "border": null,
            "bottom": null,
            "display": null,
            "flex": null,
            "flex_flow": null,
            "grid_area": null,
            "grid_auto_columns": null,
            "grid_auto_flow": null,
            "grid_auto_rows": null,
            "grid_column": null,
            "grid_gap": null,
            "grid_row": null,
            "grid_template_areas": null,
            "grid_template_columns": null,
            "grid_template_rows": null,
            "height": null,
            "justify_content": null,
            "justify_items": null,
            "left": null,
            "margin": null,
            "max_height": null,
            "max_width": null,
            "min_height": null,
            "min_width": null,
            "object_fit": null,
            "object_position": null,
            "order": null,
            "overflow": null,
            "overflow_x": null,
            "overflow_y": null,
            "padding": null,
            "right": null,
            "top": null,
            "visibility": null,
            "width": null
          }
        },
        "f795ef6ec2f34960874ba9577f908078": {
          "model_module": "@jupyter-widgets/controls",
          "model_name": "TextareaModel",
          "model_module_version": "1.5.0",
          "state": {
            "_dom_classes": [],
            "_model_module": "@jupyter-widgets/controls",
            "_model_module_version": "1.5.0",
            "_model_name": "TextareaModel",
            "_view_count": null,
            "_view_module": "@jupyter-widgets/controls",
            "_view_module_version": "1.5.0",
            "_view_name": "TextareaView",
            "continuous_update": true,
            "description": "",
            "description_tooltip": null,
            "disabled": false,
            "layout": "IPY_MODEL_b50a9b2940ce4a5ab58d155b3c9430bf",
            "placeholder": "Type something",
            "rows": null,
            "style": "IPY_MODEL_c296cd91b6aa482a96622517e912e9ef",
            "value": "Type your answer here and click on `Submit!`"
          }
        },
        "b50a9b2940ce4a5ab58d155b3c9430bf": {
          "model_module": "@jupyter-widgets/base",
          "model_name": "LayoutModel",
          "model_module_version": "1.2.0",
          "state": {
            "_model_module": "@jupyter-widgets/base",
            "_model_module_version": "1.2.0",
            "_model_name": "LayoutModel",
            "_view_count": null,
            "_view_module": "@jupyter-widgets/base",
            "_view_module_version": "1.2.0",
            "_view_name": "LayoutView",
            "align_content": null,
            "align_items": null,
            "align_self": null,
            "border": null,
            "bottom": null,
            "display": null,
            "flex": null,
            "flex_flow": null,
            "grid_area": null,
            "grid_auto_columns": null,
            "grid_auto_flow": null,
            "grid_auto_rows": null,
            "grid_column": null,
            "grid_gap": null,
            "grid_row": null,
            "grid_template_areas": null,
            "grid_template_columns": null,
            "grid_template_rows": null,
            "height": null,
            "justify_content": null,
            "justify_items": null,
            "left": null,
            "margin": null,
            "max_height": null,
            "max_width": null,
            "min_height": null,
            "min_width": null,
            "object_fit": null,
            "object_position": null,
            "order": null,
            "overflow": null,
            "overflow_x": null,
            "overflow_y": null,
            "padding": null,
            "right": null,
            "top": null,
            "visibility": null,
            "width": null
          }
        },
        "c296cd91b6aa482a96622517e912e9ef": {
          "model_module": "@jupyter-widgets/controls",
          "model_name": "DescriptionStyleModel",
          "model_module_version": "1.5.0",
          "state": {
            "_model_module": "@jupyter-widgets/controls",
            "_model_module_version": "1.5.0",
            "_model_name": "DescriptionStyleModel",
            "_view_count": null,
            "_view_module": "@jupyter-widgets/base",
            "_view_module_version": "1.2.0",
            "_view_name": "StyleView",
            "description_width": ""
          }
        },
        "34cb247cc3dd407297d1e5f37707309b": {
          "model_module": "@jupyter-widgets/controls",
          "model_name": "ButtonModel",
          "model_module_version": "1.5.0",
          "state": {
            "_dom_classes": [],
            "_model_module": "@jupyter-widgets/controls",
            "_model_module_version": "1.5.0",
            "_model_name": "ButtonModel",
            "_view_count": null,
            "_view_module": "@jupyter-widgets/controls",
            "_view_module_version": "1.5.0",
            "_view_name": "ButtonView",
            "button_style": "",
            "description": "Submit!",
            "disabled": false,
            "icon": "",
            "layout": "IPY_MODEL_834b86fd1e7c44cb83a1d4b6593fb7d0",
            "style": "IPY_MODEL_43295e1718794dbc9f12e244a7cb0f16",
            "tooltip": ""
          }
        },
        "834b86fd1e7c44cb83a1d4b6593fb7d0": {
          "model_module": "@jupyter-widgets/base",
          "model_name": "LayoutModel",
          "model_module_version": "1.2.0",
          "state": {
            "_model_module": "@jupyter-widgets/base",
            "_model_module_version": "1.2.0",
            "_model_name": "LayoutModel",
            "_view_count": null,
            "_view_module": "@jupyter-widgets/base",
            "_view_module_version": "1.2.0",
            "_view_name": "LayoutView",
            "align_content": null,
            "align_items": null,
            "align_self": null,
            "border": null,
            "bottom": null,
            "display": null,
            "flex": null,
            "flex_flow": null,
            "grid_area": null,
            "grid_auto_columns": null,
            "grid_auto_flow": null,
            "grid_auto_rows": null,
            "grid_column": null,
            "grid_gap": null,
            "grid_row": null,
            "grid_template_areas": null,
            "grid_template_columns": null,
            "grid_template_rows": null,
            "height": null,
            "justify_content": null,
            "justify_items": null,
            "left": null,
            "margin": null,
            "max_height": null,
            "max_width": null,
            "min_height": null,
            "min_width": null,
            "object_fit": null,
            "object_position": null,
            "order": null,
            "overflow": null,
            "overflow_x": null,
            "overflow_y": null,
            "padding": null,
            "right": null,
            "top": null,
            "visibility": null,
            "width": null
          }
        },
        "43295e1718794dbc9f12e244a7cb0f16": {
          "model_module": "@jupyter-widgets/controls",
          "model_name": "ButtonStyleModel",
          "model_module_version": "1.5.0",
          "state": {
            "_model_module": "@jupyter-widgets/controls",
            "_model_module_version": "1.5.0",
            "_model_name": "ButtonStyleModel",
            "_view_count": null,
            "_view_module": "@jupyter-widgets/base",
            "_view_module_version": "1.2.0",
            "_view_name": "StyleView",
            "button_color": null,
            "font_weight": ""
          }
        },
        "268ff932a70f48e9ba0c5934541ba2db": {
          "model_module": "@jupyter-widgets/controls",
          "model_name": "TextareaModel",
          "model_module_version": "1.5.0",
          "state": {
            "_dom_classes": [],
            "_model_module": "@jupyter-widgets/controls",
            "_model_module_version": "1.5.0",
            "_model_name": "TextareaModel",
            "_view_count": null,
            "_view_module": "@jupyter-widgets/controls",
            "_view_module_version": "1.5.0",
            "_view_name": "TextareaView",
            "continuous_update": true,
            "description": "",
            "description_tooltip": null,
            "disabled": false,
            "layout": "IPY_MODEL_4df26919799f4f2ab067645dee11694c",
            "placeholder": "Type something",
            "rows": null,
            "style": "IPY_MODEL_60531fd0ba094997a35657cae2817468",
            "value": "Type the most important characteristic and click on `Submit!`"
          }
        },
        "4df26919799f4f2ab067645dee11694c": {
          "model_module": "@jupyter-widgets/base",
          "model_name": "LayoutModel",
          "model_module_version": "1.2.0",
          "state": {
            "_model_module": "@jupyter-widgets/base",
            "_model_module_version": "1.2.0",
            "_model_name": "LayoutModel",
            "_view_count": null,
            "_view_module": "@jupyter-widgets/base",
            "_view_module_version": "1.2.0",
            "_view_name": "LayoutView",
            "align_content": null,
            "align_items": null,
            "align_self": null,
            "border": null,
            "bottom": null,
            "display": null,
            "flex": null,
            "flex_flow": null,
            "grid_area": null,
            "grid_auto_columns": null,
            "grid_auto_flow": null,
            "grid_auto_rows": null,
            "grid_column": null,
            "grid_gap": null,
            "grid_row": null,
            "grid_template_areas": null,
            "grid_template_columns": null,
            "grid_template_rows": null,
            "height": null,
            "justify_content": null,
            "justify_items": null,
            "left": null,
            "margin": null,
            "max_height": null,
            "max_width": null,
            "min_height": null,
            "min_width": null,
            "object_fit": null,
            "object_position": null,
            "order": null,
            "overflow": null,
            "overflow_x": null,
            "overflow_y": null,
            "padding": null,
            "right": null,
            "top": null,
            "visibility": null,
            "width": null
          }
        },
        "60531fd0ba094997a35657cae2817468": {
          "model_module": "@jupyter-widgets/controls",
          "model_name": "DescriptionStyleModel",
          "model_module_version": "1.5.0",
          "state": {
            "_model_module": "@jupyter-widgets/controls",
            "_model_module_version": "1.5.0",
            "_model_name": "DescriptionStyleModel",
            "_view_count": null,
            "_view_module": "@jupyter-widgets/base",
            "_view_module_version": "1.2.0",
            "_view_name": "StyleView",
            "description_width": ""
          }
        },
        "ac15fe73bfeb4be1b4f2e538c5df5f6c": {
          "model_module": "@jupyter-widgets/controls",
          "model_name": "ButtonModel",
          "model_module_version": "1.5.0",
          "state": {
            "_dom_classes": [],
            "_model_module": "@jupyter-widgets/controls",
            "_model_module_version": "1.5.0",
            "_model_name": "ButtonModel",
            "_view_count": null,
            "_view_module": "@jupyter-widgets/controls",
            "_view_module_version": "1.5.0",
            "_view_name": "ButtonView",
            "button_style": "",
            "description": "Submit!",
            "disabled": false,
            "icon": "",
            "layout": "IPY_MODEL_2e4ddfab81f34b93afa9ad509a6d440e",
            "style": "IPY_MODEL_264d683847d74f46b22185a8de4efb0a",
            "tooltip": ""
          }
        },
        "2e4ddfab81f34b93afa9ad509a6d440e": {
          "model_module": "@jupyter-widgets/base",
          "model_name": "LayoutModel",
          "model_module_version": "1.2.0",
          "state": {
            "_model_module": "@jupyter-widgets/base",
            "_model_module_version": "1.2.0",
            "_model_name": "LayoutModel",
            "_view_count": null,
            "_view_module": "@jupyter-widgets/base",
            "_view_module_version": "1.2.0",
            "_view_name": "LayoutView",
            "align_content": null,
            "align_items": null,
            "align_self": null,
            "border": null,
            "bottom": null,
            "display": null,
            "flex": null,
            "flex_flow": null,
            "grid_area": null,
            "grid_auto_columns": null,
            "grid_auto_flow": null,
            "grid_auto_rows": null,
            "grid_column": null,
            "grid_gap": null,
            "grid_row": null,
            "grid_template_areas": null,
            "grid_template_columns": null,
            "grid_template_rows": null,
            "height": null,
            "justify_content": null,
            "justify_items": null,
            "left": null,
            "margin": null,
            "max_height": null,
            "max_width": null,
            "min_height": null,
            "min_width": null,
            "object_fit": null,
            "object_position": null,
            "order": null,
            "overflow": null,
            "overflow_x": null,
            "overflow_y": null,
            "padding": null,
            "right": null,
            "top": null,
            "visibility": null,
            "width": null
          }
        },
        "264d683847d74f46b22185a8de4efb0a": {
          "model_module": "@jupyter-widgets/controls",
          "model_name": "ButtonStyleModel",
          "model_module_version": "1.5.0",
          "state": {
            "_model_module": "@jupyter-widgets/controls",
            "_model_module_version": "1.5.0",
            "_model_name": "ButtonStyleModel",
            "_view_count": null,
            "_view_module": "@jupyter-widgets/base",
            "_view_module_version": "1.2.0",
            "_view_name": "StyleView",
            "button_color": null,
            "font_weight": ""
          }
        },
        "838fd46b6c854b5d917ad5de5b73146e": {
          "model_module": "@jupyter-widgets/controls",
          "model_name": "TextareaModel",
          "model_module_version": "1.5.0",
          "state": {
            "_dom_classes": [],
            "_model_module": "@jupyter-widgets/controls",
            "_model_module_version": "1.5.0",
            "_model_name": "TextareaModel",
            "_view_count": null,
            "_view_module": "@jupyter-widgets/controls",
            "_view_module_version": "1.5.0",
            "_view_name": "TextareaView",
            "continuous_update": true,
            "description": "",
            "description_tooltip": null,
            "disabled": false,
            "layout": "IPY_MODEL_ec2b2128466340b0a16be15b4624a062",
            "placeholder": "Type something",
            "rows": null,
            "style": "IPY_MODEL_3531823b02e44c8ba6f2ca97b3ac0030",
            "value": "Type the second most important characteristic and click on `Submit!`"
          }
        },
        "ec2b2128466340b0a16be15b4624a062": {
          "model_module": "@jupyter-widgets/base",
          "model_name": "LayoutModel",
          "model_module_version": "1.2.0",
          "state": {
            "_model_module": "@jupyter-widgets/base",
            "_model_module_version": "1.2.0",
            "_model_name": "LayoutModel",
            "_view_count": null,
            "_view_module": "@jupyter-widgets/base",
            "_view_module_version": "1.2.0",
            "_view_name": "LayoutView",
            "align_content": null,
            "align_items": null,
            "align_self": null,
            "border": null,
            "bottom": null,
            "display": null,
            "flex": null,
            "flex_flow": null,
            "grid_area": null,
            "grid_auto_columns": null,
            "grid_auto_flow": null,
            "grid_auto_rows": null,
            "grid_column": null,
            "grid_gap": null,
            "grid_row": null,
            "grid_template_areas": null,
            "grid_template_columns": null,
            "grid_template_rows": null,
            "height": null,
            "justify_content": null,
            "justify_items": null,
            "left": null,
            "margin": null,
            "max_height": null,
            "max_width": null,
            "min_height": null,
            "min_width": null,
            "object_fit": null,
            "object_position": null,
            "order": null,
            "overflow": null,
            "overflow_x": null,
            "overflow_y": null,
            "padding": null,
            "right": null,
            "top": null,
            "visibility": null,
            "width": null
          }
        },
        "3531823b02e44c8ba6f2ca97b3ac0030": {
          "model_module": "@jupyter-widgets/controls",
          "model_name": "DescriptionStyleModel",
          "model_module_version": "1.5.0",
          "state": {
            "_model_module": "@jupyter-widgets/controls",
            "_model_module_version": "1.5.0",
            "_model_name": "DescriptionStyleModel",
            "_view_count": null,
            "_view_module": "@jupyter-widgets/base",
            "_view_module_version": "1.2.0",
            "_view_name": "StyleView",
            "description_width": ""
          }
        },
        "f62eb086e4ce474fb25ffb015286a4b4": {
          "model_module": "@jupyter-widgets/controls",
          "model_name": "ButtonModel",
          "model_module_version": "1.5.0",
          "state": {
            "_dom_classes": [],
            "_model_module": "@jupyter-widgets/controls",
            "_model_module_version": "1.5.0",
            "_model_name": "ButtonModel",
            "_view_count": null,
            "_view_module": "@jupyter-widgets/controls",
            "_view_module_version": "1.5.0",
            "_view_name": "ButtonView",
            "button_style": "",
            "description": "Submit!",
            "disabled": false,
            "icon": "",
            "layout": "IPY_MODEL_88e7eb13711148c28d89032a19fd9d7b",
            "style": "IPY_MODEL_f3d1bc21e9f042cda49dc1f193bbd4f2",
            "tooltip": ""
          }
        },
        "88e7eb13711148c28d89032a19fd9d7b": {
          "model_module": "@jupyter-widgets/base",
          "model_name": "LayoutModel",
          "model_module_version": "1.2.0",
          "state": {
            "_model_module": "@jupyter-widgets/base",
            "_model_module_version": "1.2.0",
            "_model_name": "LayoutModel",
            "_view_count": null,
            "_view_module": "@jupyter-widgets/base",
            "_view_module_version": "1.2.0",
            "_view_name": "LayoutView",
            "align_content": null,
            "align_items": null,
            "align_self": null,
            "border": null,
            "bottom": null,
            "display": null,
            "flex": null,
            "flex_flow": null,
            "grid_area": null,
            "grid_auto_columns": null,
            "grid_auto_flow": null,
            "grid_auto_rows": null,
            "grid_column": null,
            "grid_gap": null,
            "grid_row": null,
            "grid_template_areas": null,
            "grid_template_columns": null,
            "grid_template_rows": null,
            "height": null,
            "justify_content": null,
            "justify_items": null,
            "left": null,
            "margin": null,
            "max_height": null,
            "max_width": null,
            "min_height": null,
            "min_width": null,
            "object_fit": null,
            "object_position": null,
            "order": null,
            "overflow": null,
            "overflow_x": null,
            "overflow_y": null,
            "padding": null,
            "right": null,
            "top": null,
            "visibility": null,
            "width": null
          }
        },
        "f3d1bc21e9f042cda49dc1f193bbd4f2": {
          "model_module": "@jupyter-widgets/controls",
          "model_name": "ButtonStyleModel",
          "model_module_version": "1.5.0",
          "state": {
            "_model_module": "@jupyter-widgets/controls",
            "_model_module_version": "1.5.0",
            "_model_name": "ButtonStyleModel",
            "_view_count": null,
            "_view_module": "@jupyter-widgets/base",
            "_view_module_version": "1.2.0",
            "_view_name": "StyleView",
            "button_color": null,
            "font_weight": ""
          }
        },
        "97408cdd64ec48a989b0b695e34ccbfa": {
          "model_module": "@jupyter-widgets/controls",
          "model_name": "TextareaModel",
          "model_module_version": "1.5.0",
          "state": {
            "_dom_classes": [],
            "_model_module": "@jupyter-widgets/controls",
            "_model_module_version": "1.5.0",
            "_model_name": "TextareaModel",
            "_view_count": null,
            "_view_module": "@jupyter-widgets/controls",
            "_view_module_version": "1.5.0",
            "_view_name": "TextareaView",
            "continuous_update": true,
            "description": "",
            "description_tooltip": null,
            "disabled": false,
            "layout": "IPY_MODEL_82309fbba4c5420fb4c8f74a17585b57",
            "placeholder": "Type something",
            "rows": null,
            "style": "IPY_MODEL_3c2c315aa11e416693912726d95761b7",
            "value": "Type your answer here and click on `Submit!`"
          }
        },
        "82309fbba4c5420fb4c8f74a17585b57": {
          "model_module": "@jupyter-widgets/base",
          "model_name": "LayoutModel",
          "model_module_version": "1.2.0",
          "state": {
            "_model_module": "@jupyter-widgets/base",
            "_model_module_version": "1.2.0",
            "_model_name": "LayoutModel",
            "_view_count": null,
            "_view_module": "@jupyter-widgets/base",
            "_view_module_version": "1.2.0",
            "_view_name": "LayoutView",
            "align_content": null,
            "align_items": null,
            "align_self": null,
            "border": null,
            "bottom": null,
            "display": null,
            "flex": null,
            "flex_flow": null,
            "grid_area": null,
            "grid_auto_columns": null,
            "grid_auto_flow": null,
            "grid_auto_rows": null,
            "grid_column": null,
            "grid_gap": null,
            "grid_row": null,
            "grid_template_areas": null,
            "grid_template_columns": null,
            "grid_template_rows": null,
            "height": null,
            "justify_content": null,
            "justify_items": null,
            "left": null,
            "margin": null,
            "max_height": null,
            "max_width": null,
            "min_height": null,
            "min_width": null,
            "object_fit": null,
            "object_position": null,
            "order": null,
            "overflow": null,
            "overflow_x": null,
            "overflow_y": null,
            "padding": null,
            "right": null,
            "top": null,
            "visibility": null,
            "width": null
          }
        },
        "3c2c315aa11e416693912726d95761b7": {
          "model_module": "@jupyter-widgets/controls",
          "model_name": "DescriptionStyleModel",
          "model_module_version": "1.5.0",
          "state": {
            "_model_module": "@jupyter-widgets/controls",
            "_model_module_version": "1.5.0",
            "_model_name": "DescriptionStyleModel",
            "_view_count": null,
            "_view_module": "@jupyter-widgets/base",
            "_view_module_version": "1.2.0",
            "_view_name": "StyleView",
            "description_width": ""
          }
        },
        "78ff806d1c8e48078ec5165ff43072f3": {
          "model_module": "@jupyter-widgets/controls",
          "model_name": "ButtonModel",
          "model_module_version": "1.5.0",
          "state": {
            "_dom_classes": [],
            "_model_module": "@jupyter-widgets/controls",
            "_model_module_version": "1.5.0",
            "_model_name": "ButtonModel",
            "_view_count": null,
            "_view_module": "@jupyter-widgets/controls",
            "_view_module_version": "1.5.0",
            "_view_name": "ButtonView",
            "button_style": "",
            "description": "Submit!",
            "disabled": false,
            "icon": "",
            "layout": "IPY_MODEL_0c1c9c75bdc545ba98f0b6face514c36",
            "style": "IPY_MODEL_43f7a14e915c40c39b964bd639032ce4",
            "tooltip": ""
          }
        },
        "0c1c9c75bdc545ba98f0b6face514c36": {
          "model_module": "@jupyter-widgets/base",
          "model_name": "LayoutModel",
          "model_module_version": "1.2.0",
          "state": {
            "_model_module": "@jupyter-widgets/base",
            "_model_module_version": "1.2.0",
            "_model_name": "LayoutModel",
            "_view_count": null,
            "_view_module": "@jupyter-widgets/base",
            "_view_module_version": "1.2.0",
            "_view_name": "LayoutView",
            "align_content": null,
            "align_items": null,
            "align_self": null,
            "border": null,
            "bottom": null,
            "display": null,
            "flex": null,
            "flex_flow": null,
            "grid_area": null,
            "grid_auto_columns": null,
            "grid_auto_flow": null,
            "grid_auto_rows": null,
            "grid_column": null,
            "grid_gap": null,
            "grid_row": null,
            "grid_template_areas": null,
            "grid_template_columns": null,
            "grid_template_rows": null,
            "height": null,
            "justify_content": null,
            "justify_items": null,
            "left": null,
            "margin": null,
            "max_height": null,
            "max_width": null,
            "min_height": null,
            "min_width": null,
            "object_fit": null,
            "object_position": null,
            "order": null,
            "overflow": null,
            "overflow_x": null,
            "overflow_y": null,
            "padding": null,
            "right": null,
            "top": null,
            "visibility": null,
            "width": null
          }
        },
        "43f7a14e915c40c39b964bd639032ce4": {
          "model_module": "@jupyter-widgets/controls",
          "model_name": "ButtonStyleModel",
          "model_module_version": "1.5.0",
          "state": {
            "_model_module": "@jupyter-widgets/controls",
            "_model_module_version": "1.5.0",
            "_model_name": "ButtonStyleModel",
            "_view_count": null,
            "_view_module": "@jupyter-widgets/base",
            "_view_module_version": "1.2.0",
            "_view_name": "StyleView",
            "button_color": null,
            "font_weight": ""
          }
        },
        "9c09e36533be4a12a3ae7997166b4cbf": {
          "model_module": "@jupyter-widgets/controls",
          "model_name": "TextareaModel",
          "model_module_version": "1.5.0",
          "state": {
            "_dom_classes": [],
            "_model_module": "@jupyter-widgets/controls",
            "_model_module_version": "1.5.0",
            "_model_name": "TextareaModel",
            "_view_count": null,
            "_view_module": "@jupyter-widgets/controls",
            "_view_module_version": "1.5.0",
            "_view_name": "TextareaView",
            "continuous_update": true,
            "description": "",
            "description_tooltip": null,
            "disabled": false,
            "layout": "IPY_MODEL_ff0652918c434d70bcfac26576f48fb2",
            "placeholder": "Type something",
            "rows": null,
            "style": "IPY_MODEL_8b2e90403c954691ad40d7d89502c906",
            "value": "Type your answer here and click on `Submit!`"
          }
        },
        "ff0652918c434d70bcfac26576f48fb2": {
          "model_module": "@jupyter-widgets/base",
          "model_name": "LayoutModel",
          "model_module_version": "1.2.0",
          "state": {
            "_model_module": "@jupyter-widgets/base",
            "_model_module_version": "1.2.0",
            "_model_name": "LayoutModel",
            "_view_count": null,
            "_view_module": "@jupyter-widgets/base",
            "_view_module_version": "1.2.0",
            "_view_name": "LayoutView",
            "align_content": null,
            "align_items": null,
            "align_self": null,
            "border": null,
            "bottom": null,
            "display": null,
            "flex": null,
            "flex_flow": null,
            "grid_area": null,
            "grid_auto_columns": null,
            "grid_auto_flow": null,
            "grid_auto_rows": null,
            "grid_column": null,
            "grid_gap": null,
            "grid_row": null,
            "grid_template_areas": null,
            "grid_template_columns": null,
            "grid_template_rows": null,
            "height": null,
            "justify_content": null,
            "justify_items": null,
            "left": null,
            "margin": null,
            "max_height": null,
            "max_width": null,
            "min_height": null,
            "min_width": null,
            "object_fit": null,
            "object_position": null,
            "order": null,
            "overflow": null,
            "overflow_x": null,
            "overflow_y": null,
            "padding": null,
            "right": null,
            "top": null,
            "visibility": null,
            "width": null
          }
        },
        "8b2e90403c954691ad40d7d89502c906": {
          "model_module": "@jupyter-widgets/controls",
          "model_name": "DescriptionStyleModel",
          "model_module_version": "1.5.0",
          "state": {
            "_model_module": "@jupyter-widgets/controls",
            "_model_module_version": "1.5.0",
            "_model_name": "DescriptionStyleModel",
            "_view_count": null,
            "_view_module": "@jupyter-widgets/base",
            "_view_module_version": "1.2.0",
            "_view_name": "StyleView",
            "description_width": ""
          }
        },
        "835f45ca847744caa90ee7c43866ae55": {
          "model_module": "@jupyter-widgets/controls",
          "model_name": "ButtonModel",
          "model_module_version": "1.5.0",
          "state": {
            "_dom_classes": [],
            "_model_module": "@jupyter-widgets/controls",
            "_model_module_version": "1.5.0",
            "_model_name": "ButtonModel",
            "_view_count": null,
            "_view_module": "@jupyter-widgets/controls",
            "_view_module_version": "1.5.0",
            "_view_name": "ButtonView",
            "button_style": "",
            "description": "Submit!",
            "disabled": false,
            "icon": "",
            "layout": "IPY_MODEL_6013d409c2d44035ab420fb5062d29f0",
            "style": "IPY_MODEL_5c39158a53a3456083c30810108c1ee9",
            "tooltip": ""
          }
        },
        "6013d409c2d44035ab420fb5062d29f0": {
          "model_module": "@jupyter-widgets/base",
          "model_name": "LayoutModel",
          "model_module_version": "1.2.0",
          "state": {
            "_model_module": "@jupyter-widgets/base",
            "_model_module_version": "1.2.0",
            "_model_name": "LayoutModel",
            "_view_count": null,
            "_view_module": "@jupyter-widgets/base",
            "_view_module_version": "1.2.0",
            "_view_name": "LayoutView",
            "align_content": null,
            "align_items": null,
            "align_self": null,
            "border": null,
            "bottom": null,
            "display": null,
            "flex": null,
            "flex_flow": null,
            "grid_area": null,
            "grid_auto_columns": null,
            "grid_auto_flow": null,
            "grid_auto_rows": null,
            "grid_column": null,
            "grid_gap": null,
            "grid_row": null,
            "grid_template_areas": null,
            "grid_template_columns": null,
            "grid_template_rows": null,
            "height": null,
            "justify_content": null,
            "justify_items": null,
            "left": null,
            "margin": null,
            "max_height": null,
            "max_width": null,
            "min_height": null,
            "min_width": null,
            "object_fit": null,
            "object_position": null,
            "order": null,
            "overflow": null,
            "overflow_x": null,
            "overflow_y": null,
            "padding": null,
            "right": null,
            "top": null,
            "visibility": null,
            "width": null
          }
        },
        "5c39158a53a3456083c30810108c1ee9": {
          "model_module": "@jupyter-widgets/controls",
          "model_name": "ButtonStyleModel",
          "model_module_version": "1.5.0",
          "state": {
            "_model_module": "@jupyter-widgets/controls",
            "_model_module_version": "1.5.0",
            "_model_name": "ButtonStyleModel",
            "_view_count": null,
            "_view_module": "@jupyter-widgets/base",
            "_view_module_version": "1.2.0",
            "_view_name": "StyleView",
            "button_color": null,
            "font_weight": ""
          }
        },
        "9a33b133d32e4d7ca2e0f1243cc37906": {
          "model_module": "@jupyter-widgets/controls",
          "model_name": "TextareaModel",
          "model_module_version": "1.5.0",
          "state": {
            "_dom_classes": [],
            "_model_module": "@jupyter-widgets/controls",
            "_model_module_version": "1.5.0",
            "_model_name": "TextareaModel",
            "_view_count": null,
            "_view_module": "@jupyter-widgets/controls",
            "_view_module_version": "1.5.0",
            "_view_name": "TextareaView",
            "continuous_update": true,
            "description": "",
            "description_tooltip": null,
            "disabled": false,
            "layout": "IPY_MODEL_1051cecd3a114d3b86f5cbbff0459dc2",
            "placeholder": "Type something",
            "rows": null,
            "style": "IPY_MODEL_ec9a27729041407db685312a17a79d37",
            "value": "Type your answer here and click on `Submit!`"
          }
        },
        "1051cecd3a114d3b86f5cbbff0459dc2": {
          "model_module": "@jupyter-widgets/base",
          "model_name": "LayoutModel",
          "model_module_version": "1.2.0",
          "state": {
            "_model_module": "@jupyter-widgets/base",
            "_model_module_version": "1.2.0",
            "_model_name": "LayoutModel",
            "_view_count": null,
            "_view_module": "@jupyter-widgets/base",
            "_view_module_version": "1.2.0",
            "_view_name": "LayoutView",
            "align_content": null,
            "align_items": null,
            "align_self": null,
            "border": null,
            "bottom": null,
            "display": null,
            "flex": null,
            "flex_flow": null,
            "grid_area": null,
            "grid_auto_columns": null,
            "grid_auto_flow": null,
            "grid_auto_rows": null,
            "grid_column": null,
            "grid_gap": null,
            "grid_row": null,
            "grid_template_areas": null,
            "grid_template_columns": null,
            "grid_template_rows": null,
            "height": null,
            "justify_content": null,
            "justify_items": null,
            "left": null,
            "margin": null,
            "max_height": null,
            "max_width": null,
            "min_height": null,
            "min_width": null,
            "object_fit": null,
            "object_position": null,
            "order": null,
            "overflow": null,
            "overflow_x": null,
            "overflow_y": null,
            "padding": null,
            "right": null,
            "top": null,
            "visibility": null,
            "width": null
          }
        },
        "ec9a27729041407db685312a17a79d37": {
          "model_module": "@jupyter-widgets/controls",
          "model_name": "DescriptionStyleModel",
          "model_module_version": "1.5.0",
          "state": {
            "_model_module": "@jupyter-widgets/controls",
            "_model_module_version": "1.5.0",
            "_model_name": "DescriptionStyleModel",
            "_view_count": null,
            "_view_module": "@jupyter-widgets/base",
            "_view_module_version": "1.2.0",
            "_view_name": "StyleView",
            "description_width": ""
          }
        },
        "fd961f73cbb344e28cddfa29bde14a49": {
          "model_module": "@jupyter-widgets/controls",
          "model_name": "ButtonModel",
          "model_module_version": "1.5.0",
          "state": {
            "_dom_classes": [],
            "_model_module": "@jupyter-widgets/controls",
            "_model_module_version": "1.5.0",
            "_model_name": "ButtonModel",
            "_view_count": null,
            "_view_module": "@jupyter-widgets/controls",
            "_view_module_version": "1.5.0",
            "_view_name": "ButtonView",
            "button_style": "",
            "description": "Submit!",
            "disabled": false,
            "icon": "",
            "layout": "IPY_MODEL_70b0321abd634252ae883c491fd08fe4",
            "style": "IPY_MODEL_7ca155950f8c405dbd7d066f8c7a8ec3",
            "tooltip": ""
          }
        },
        "70b0321abd634252ae883c491fd08fe4": {
          "model_module": "@jupyter-widgets/base",
          "model_name": "LayoutModel",
          "model_module_version": "1.2.0",
          "state": {
            "_model_module": "@jupyter-widgets/base",
            "_model_module_version": "1.2.0",
            "_model_name": "LayoutModel",
            "_view_count": null,
            "_view_module": "@jupyter-widgets/base",
            "_view_module_version": "1.2.0",
            "_view_name": "LayoutView",
            "align_content": null,
            "align_items": null,
            "align_self": null,
            "border": null,
            "bottom": null,
            "display": null,
            "flex": null,
            "flex_flow": null,
            "grid_area": null,
            "grid_auto_columns": null,
            "grid_auto_flow": null,
            "grid_auto_rows": null,
            "grid_column": null,
            "grid_gap": null,
            "grid_row": null,
            "grid_template_areas": null,
            "grid_template_columns": null,
            "grid_template_rows": null,
            "height": null,
            "justify_content": null,
            "justify_items": null,
            "left": null,
            "margin": null,
            "max_height": null,
            "max_width": null,
            "min_height": null,
            "min_width": null,
            "object_fit": null,
            "object_position": null,
            "order": null,
            "overflow": null,
            "overflow_x": null,
            "overflow_y": null,
            "padding": null,
            "right": null,
            "top": null,
            "visibility": null,
            "width": null
          }
        },
        "7ca155950f8c405dbd7d066f8c7a8ec3": {
          "model_module": "@jupyter-widgets/controls",
          "model_name": "ButtonStyleModel",
          "model_module_version": "1.5.0",
          "state": {
            "_model_module": "@jupyter-widgets/controls",
            "_model_module_version": "1.5.0",
            "_model_name": "ButtonStyleModel",
            "_view_count": null,
            "_view_module": "@jupyter-widgets/base",
            "_view_module_version": "1.2.0",
            "_view_name": "StyleView",
            "button_color": null,
            "font_weight": ""
          }
        },
        "9d1407f2d0e94464b23b0d1739354db7": {
          "model_module": "@jupyter-widgets/controls",
          "model_name": "TabModel",
          "model_module_version": "1.5.0",
          "state": {
            "_dom_classes": [],
            "_model_module": "@jupyter-widgets/controls",
            "_model_module_version": "1.5.0",
            "_model_name": "TabModel",
            "_titles": {
              "0": "Youtube",
              "1": "Bilibili"
            },
            "_view_count": null,
            "_view_module": "@jupyter-widgets/controls",
            "_view_module_version": "1.5.0",
            "_view_name": "TabView",
            "box_style": "",
            "children": [
              "IPY_MODEL_37ad30e73918475ca7abf3f88628561e",
              "IPY_MODEL_27e30d4ae84649a387e9502dc5155737"
            ],
            "layout": "IPY_MODEL_e3a6c6f389e249a385600e69c0fb0536",
            "selected_index": 0
          }
        },
        "37ad30e73918475ca7abf3f88628561e": {
          "model_module": "@jupyter-widgets/output",
          "model_name": "OutputModel",
          "model_module_version": "1.0.0",
          "state": {
            "_dom_classes": [],
            "_model_module": "@jupyter-widgets/output",
            "_model_module_version": "1.0.0",
            "_model_name": "OutputModel",
            "_view_count": null,
            "_view_module": "@jupyter-widgets/output",
            "_view_module_version": "1.0.0",
            "_view_name": "OutputView",
            "layout": "IPY_MODEL_7605ab76387441cbb2ecf7cf73a7d74a",
            "msg_id": "",
            "outputs": [
              {
                "output_type": "stream",
                "name": "stdout",
                "text": [
                  "Video available at https://youtube.com/watch?v=8grBwtrzcDI\n"
                ]
              },
              {
                "output_type": "display_data",
                "data": {
                  "text/plain": "<IPython.lib.display.YouTubeVideo at 0x7efed821bb50>",
                  "text/html": "\n        <iframe\n            width=\"854\"\n            height=\"480\"\n            src=\"https://www.youtube.com/embed/8grBwtrzcDI?fs=1&rel=0\"\n            frameborder=\"0\"\n            allowfullscreen\n        ></iframe>\n        ",
                  "image/jpeg": "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\n"
                },
                "metadata": {}
              }
            ]
          }
        },
        "27e30d4ae84649a387e9502dc5155737": {
          "model_module": "@jupyter-widgets/output",
          "model_name": "OutputModel",
          "model_module_version": "1.0.0",
          "state": {
            "_dom_classes": [],
            "_model_module": "@jupyter-widgets/output",
            "_model_module_version": "1.0.0",
            "_model_name": "OutputModel",
            "_view_count": null,
            "_view_module": "@jupyter-widgets/output",
            "_view_module_version": "1.0.0",
            "_view_name": "OutputView",
            "layout": "IPY_MODEL_a782cda5e364427ea142618e0aed2822",
            "msg_id": "",
            "outputs": [
              {
                "output_type": "stream",
                "name": "stdout",
                "text": [
                  "Video available at https://www.bilibili.com/video/BV1zU4y1n77d\n"
                ]
              },
              {
                "output_type": "display_data",
                "data": {
                  "text/plain": "<__main__.BiliVideo at 0x7efed821ba10>",
                  "text/html": "\n        <iframe\n            width=\"854\"\n            height=\"480\"\n            src=\"https://player.bilibili.com/player.html?bvid=BV1zU4y1n77d&page=1?fs=1\"\n            frameborder=\"0\"\n            allowfullscreen\n        ></iframe>\n        "
                },
                "metadata": {}
              }
            ]
          }
        },
        "e3a6c6f389e249a385600e69c0fb0536": {
          "model_module": "@jupyter-widgets/base",
          "model_name": "LayoutModel",
          "model_module_version": "1.2.0",
          "state": {
            "_model_module": "@jupyter-widgets/base",
            "_model_module_version": "1.2.0",
            "_model_name": "LayoutModel",
            "_view_count": null,
            "_view_module": "@jupyter-widgets/base",
            "_view_module_version": "1.2.0",
            "_view_name": "LayoutView",
            "align_content": null,
            "align_items": null,
            "align_self": null,
            "border": null,
            "bottom": null,
            "display": null,
            "flex": null,
            "flex_flow": null,
            "grid_area": null,
            "grid_auto_columns": null,
            "grid_auto_flow": null,
            "grid_auto_rows": null,
            "grid_column": null,
            "grid_gap": null,
            "grid_row": null,
            "grid_template_areas": null,
            "grid_template_columns": null,
            "grid_template_rows": null,
            "height": null,
            "justify_content": null,
            "justify_items": null,
            "left": null,
            "margin": null,
            "max_height": null,
            "max_width": null,
            "min_height": null,
            "min_width": null,
            "object_fit": null,
            "object_position": null,
            "order": null,
            "overflow": null,
            "overflow_x": null,
            "overflow_y": null,
            "padding": null,
            "right": null,
            "top": null,
            "visibility": null,
            "width": null
          }
        },
        "7605ab76387441cbb2ecf7cf73a7d74a": {
          "model_module": "@jupyter-widgets/base",
          "model_name": "LayoutModel",
          "model_module_version": "1.2.0",
          "state": {
            "_model_module": "@jupyter-widgets/base",
            "_model_module_version": "1.2.0",
            "_model_name": "LayoutModel",
            "_view_count": null,
            "_view_module": "@jupyter-widgets/base",
            "_view_module_version": "1.2.0",
            "_view_name": "LayoutView",
            "align_content": null,
            "align_items": null,
            "align_self": null,
            "border": null,
            "bottom": null,
            "display": null,
            "flex": null,
            "flex_flow": null,
            "grid_area": null,
            "grid_auto_columns": null,
            "grid_auto_flow": null,
            "grid_auto_rows": null,
            "grid_column": null,
            "grid_gap": null,
            "grid_row": null,
            "grid_template_areas": null,
            "grid_template_columns": null,
            "grid_template_rows": null,
            "height": null,
            "justify_content": null,
            "justify_items": null,
            "left": null,
            "margin": null,
            "max_height": null,
            "max_width": null,
            "min_height": null,
            "min_width": null,
            "object_fit": null,
            "object_position": null,
            "order": null,
            "overflow": null,
            "overflow_x": null,
            "overflow_y": null,
            "padding": null,
            "right": null,
            "top": null,
            "visibility": null,
            "width": null
          }
        },
        "a782cda5e364427ea142618e0aed2822": {
          "model_module": "@jupyter-widgets/base",
          "model_name": "LayoutModel",
          "model_module_version": "1.2.0",
          "state": {
            "_model_module": "@jupyter-widgets/base",
            "_model_module_version": "1.2.0",
            "_model_name": "LayoutModel",
            "_view_count": null,
            "_view_module": "@jupyter-widgets/base",
            "_view_module_version": "1.2.0",
            "_view_name": "LayoutView",
            "align_content": null,
            "align_items": null,
            "align_self": null,
            "border": null,
            "bottom": null,
            "display": null,
            "flex": null,
            "flex_flow": null,
            "grid_area": null,
            "grid_auto_columns": null,
            "grid_auto_flow": null,
            "grid_auto_rows": null,
            "grid_column": null,
            "grid_gap": null,
            "grid_row": null,
            "grid_template_areas": null,
            "grid_template_columns": null,
            "grid_template_rows": null,
            "height": null,
            "justify_content": null,
            "justify_items": null,
            "left": null,
            "margin": null,
            "max_height": null,
            "max_width": null,
            "min_height": null,
            "min_width": null,
            "object_fit": null,
            "object_position": null,
            "order": null,
            "overflow": null,
            "overflow_x": null,
            "overflow_y": null,
            "padding": null,
            "right": null,
            "top": null,
            "visibility": null,
            "width": null
          }
        },
        "6922001dc867494dab44fea3ffdf883f": {
          "model_module": "@jupyter-widgets/controls",
          "model_name": "TabModel",
          "model_module_version": "1.5.0",
          "state": {
            "_dom_classes": [],
            "_model_module": "@jupyter-widgets/controls",
            "_model_module_version": "1.5.0",
            "_model_name": "TabModel",
            "_titles": {
              "0": "Youtube",
              "1": "Bilibili"
            },
            "_view_count": null,
            "_view_module": "@jupyter-widgets/controls",
            "_view_module_version": "1.5.0",
            "_view_name": "TabView",
            "box_style": "",
            "children": [
              "IPY_MODEL_99cb2c0c5bf94030b54d3a4d19c2aef8",
              "IPY_MODEL_358218ad7c954195a4b5f724613d370e"
            ],
            "layout": "IPY_MODEL_97d1f44afd7f4a40b21bfd5add263382",
            "selected_index": 0
          }
        },
        "99cb2c0c5bf94030b54d3a4d19c2aef8": {
          "model_module": "@jupyter-widgets/output",
          "model_name": "OutputModel",
          "model_module_version": "1.0.0",
          "state": {
            "_dom_classes": [],
            "_model_module": "@jupyter-widgets/output",
            "_model_module_version": "1.0.0",
            "_model_name": "OutputModel",
            "_view_count": null,
            "_view_module": "@jupyter-widgets/output",
            "_view_module_version": "1.0.0",
            "_view_name": "OutputView",
            "layout": "IPY_MODEL_7d5896003d2c42e182635245e50da48e",
            "msg_id": "",
            "outputs": [
              {
                "output_type": "stream",
                "name": "stdout",
                "text": [
                  "Video available at https://youtube.com/watch?v=-lmY_lc75As\n"
                ]
              },
              {
                "output_type": "display_data",
                "data": {
                  "text/plain": "<IPython.lib.display.YouTubeVideo at 0x7efedd46c090>",
                  "text/html": "\n        <iframe\n            width=\"854\"\n            height=\"480\"\n            src=\"https://www.youtube.com/embed/-lmY_lc75As?fs=1&rel=0\"\n            frameborder=\"0\"\n            allowfullscreen\n        ></iframe>\n        ",
                  "image/jpeg": "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\n"
                },
                "metadata": {}
              }
            ]
          }
        },
        "358218ad7c954195a4b5f724613d370e": {
          "model_module": "@jupyter-widgets/output",
          "model_name": "OutputModel",
          "model_module_version": "1.0.0",
          "state": {
            "_dom_classes": [],
            "_model_module": "@jupyter-widgets/output",
            "_model_module_version": "1.0.0",
            "_model_name": "OutputModel",
            "_view_count": null,
            "_view_module": "@jupyter-widgets/output",
            "_view_module_version": "1.0.0",
            "_view_name": "OutputView",
            "layout": "IPY_MODEL_819d02a94bf74db3b1596516886c25ea",
            "msg_id": "",
            "outputs": [
              {
                "output_type": "stream",
                "name": "stdout",
                "text": [
                  "Video available at https://www.bilibili.com/video/BV1uX4y1c7Yh\n"
                ]
              },
              {
                "output_type": "display_data",
                "data": {
                  "text/plain": "<__main__.BiliVideo at 0x7efeddc18ad0>",
                  "text/html": "\n        <iframe\n            width=\"854\"\n            height=\"480\"\n            src=\"https://player.bilibili.com/player.html?bvid=BV1uX4y1c7Yh&page=1?fs=1\"\n            frameborder=\"0\"\n            allowfullscreen\n        ></iframe>\n        "
                },
                "metadata": {}
              }
            ]
          }
        },
        "97d1f44afd7f4a40b21bfd5add263382": {
          "model_module": "@jupyter-widgets/base",
          "model_name": "LayoutModel",
          "model_module_version": "1.2.0",
          "state": {
            "_model_module": "@jupyter-widgets/base",
            "_model_module_version": "1.2.0",
            "_model_name": "LayoutModel",
            "_view_count": null,
            "_view_module": "@jupyter-widgets/base",
            "_view_module_version": "1.2.0",
            "_view_name": "LayoutView",
            "align_content": null,
            "align_items": null,
            "align_self": null,
            "border": null,
            "bottom": null,
            "display": null,
            "flex": null,
            "flex_flow": null,
            "grid_area": null,
            "grid_auto_columns": null,
            "grid_auto_flow": null,
            "grid_auto_rows": null,
            "grid_column": null,
            "grid_gap": null,
            "grid_row": null,
            "grid_template_areas": null,
            "grid_template_columns": null,
            "grid_template_rows": null,
            "height": null,
            "justify_content": null,
            "justify_items": null,
            "left": null,
            "margin": null,
            "max_height": null,
            "max_width": null,
            "min_height": null,
            "min_width": null,
            "object_fit": null,
            "object_position": null,
            "order": null,
            "overflow": null,
            "overflow_x": null,
            "overflow_y": null,
            "padding": null,
            "right": null,
            "top": null,
            "visibility": null,
            "width": null
          }
        },
        "7d5896003d2c42e182635245e50da48e": {
          "model_module": "@jupyter-widgets/base",
          "model_name": "LayoutModel",
          "model_module_version": "1.2.0",
          "state": {
            "_model_module": "@jupyter-widgets/base",
            "_model_module_version": "1.2.0",
            "_model_name": "LayoutModel",
            "_view_count": null,
            "_view_module": "@jupyter-widgets/base",
            "_view_module_version": "1.2.0",
            "_view_name": "LayoutView",
            "align_content": null,
            "align_items": null,
            "align_self": null,
            "border": null,
            "bottom": null,
            "display": null,
            "flex": null,
            "flex_flow": null,
            "grid_area": null,
            "grid_auto_columns": null,
            "grid_auto_flow": null,
            "grid_auto_rows": null,
            "grid_column": null,
            "grid_gap": null,
            "grid_row": null,
            "grid_template_areas": null,
            "grid_template_columns": null,
            "grid_template_rows": null,
            "height": null,
            "justify_content": null,
            "justify_items": null,
            "left": null,
            "margin": null,
            "max_height": null,
            "max_width": null,
            "min_height": null,
            "min_width": null,
            "object_fit": null,
            "object_position": null,
            "order": null,
            "overflow": null,
            "overflow_x": null,
            "overflow_y": null,
            "padding": null,
            "right": null,
            "top": null,
            "visibility": null,
            "width": null
          }
        },
        "819d02a94bf74db3b1596516886c25ea": {
          "model_module": "@jupyter-widgets/base",
          "model_name": "LayoutModel",
          "model_module_version": "1.2.0",
          "state": {
            "_model_module": "@jupyter-widgets/base",
            "_model_module_version": "1.2.0",
            "_model_name": "LayoutModel",
            "_view_count": null,
            "_view_module": "@jupyter-widgets/base",
            "_view_module_version": "1.2.0",
            "_view_name": "LayoutView",
            "align_content": null,
            "align_items": null,
            "align_self": null,
            "border": null,
            "bottom": null,
            "display": null,
            "flex": null,
            "flex_flow": null,
            "grid_area": null,
            "grid_auto_columns": null,
            "grid_auto_flow": null,
            "grid_auto_rows": null,
            "grid_column": null,
            "grid_gap": null,
            "grid_row": null,
            "grid_template_areas": null,
            "grid_template_columns": null,
            "grid_template_rows": null,
            "height": null,
            "justify_content": null,
            "justify_items": null,
            "left": null,
            "margin": null,
            "max_height": null,
            "max_width": null,
            "min_height": null,
            "min_width": null,
            "object_fit": null,
            "object_position": null,
            "order": null,
            "overflow": null,
            "overflow_x": null,
            "overflow_y": null,
            "padding": null,
            "right": null,
            "top": null,
            "visibility": null,
            "width": null
          }
        }
      }
    }
  },
  "nbformat": 4,
  "nbformat_minor": 0
}