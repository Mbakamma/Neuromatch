{
  "nbformat": 4,
  "nbformat_minor": 0,
  "metadata": {
    "accelerator": "GPU",
    "colab": {
      "name": "W1D5_Tutorial2",
      "provenance": [],
      "collapsed_sections": [],
      "toc_visible": true,
      "machine_shape": "hm",
      "include_colab_link": true
    },
    "kernel": {
      "display_name": "Python 3",
      "language": "python",
      "name": "python3"
    },
    "kernelspec": {
      "display_name": "Python 3",
      "name": "python3"
    }
  },
  "cells": [
    {
      "cell_type": "markdown",
      "metadata": {
        "id": "view-in-github",
        "colab_type": "text"
      },
      "source": [
        "<a href=\"https://colab.research.google.com/github/NeuromatchAcademy/course-content-dl/blob/w1d5_test/tutorials/W1D5_Regularization/W1D5_Tutorial2.ipynb\" target=\"_parent\"><img src=\"https://colab.research.google.com/assets/colab-badge.svg\" alt=\"Open In Colab\"/></a>"
      ]
    },
    {
      "cell_type": "markdown",
      "metadata": {
        "id": "tWtz9yxysEkk"
      },
      "source": [
        "# Tutorial 2: Regularization techniques part 2\n",
        "**Week 1, Day 5: Regularization**\n",
        "\n",
        "**By Neuromatch Academy**\n",
        "\n",
        "\n",
        "__Content creators:__ Ravi Teja Konkimalla, Mohitrajhu Lingan Kumaraian, Kevin Machado Gamboa, Kelson Shilling-Scrivo, Lyle Ungar\n",
        "\n",
        "__Content reviewers:__ Piyush Chauhan, Kelson Shilling-Scrivo\n",
        "\n",
        "__Content editors:__ Roberto Guidotti, Spiros Chavlis\n",
        "\n",
        "__Production editors:__ Saeed Salehi, Spiros Chavlis"
      ]
    },
    {
      "cell_type": "markdown",
      "metadata": {
        "id": "0PUWxJCpsEkm"
      },
      "source": [
        "**Our 2021 Sponsors, including Presenting Sponsor Facebook Reality Labs**\n",
        "\n",
        "<p align='center'><img src='https://github.com/NeuromatchAcademy/widgets/blob/master/sponsors.png?raw=True'/></p>"
      ]
    },
    {
      "cell_type": "markdown",
      "metadata": {
        "id": "gMsEcsThsEkn"
      },
      "source": [
        "---\n",
        "# Tutorial Objectives\n",
        "\n",
        "1.   Regularization as shrinkage of overparameterized models: L1, L2\n",
        "2.   Regularization by Dropout\n",
        "3.   Regularization by Data Augmentation\n",
        "4.   Perils of Hyper-Parameter Tuning\n",
        "5.   Rethinking generalization"
      ]
    },
    {
      "cell_type": "code",
      "metadata": {
        "cellView": "form",
        "id": "Ei51oYQ7sEkn"
      },
      "source": [
        "#@markdown Tutorial slides\n",
        "\n",
        "#@markdown **Do not read them now.**\n",
        "# you should link the slides for all tutorial videos here (we will store pdfs on osf)\n",
        "\n",
        "from IPython.display import HTML\n",
        "HTML('<iframe src=\"https://docs.google.com/presentation/d/1N9aguIPiBSjzo0ToqPi5uwwG8ChY6_E3/embed?start=false&loop=false&delayms=3000\" frameborder=\"0\" width=\"960\" height=\"569\" allowfullscreen=\"true\" mozallowfullscreen=\"true\" webkitallowfullscreen=\"true\"></iframe>')"
      ],
      "execution_count": null,
      "outputs": []
    },
    {
      "cell_type": "markdown",
      "metadata": {
        "id": "KcMHx3lpsEkn"
      },
      "source": [
        "---\n",
        "# Setup\n",
        "Note that some of the code for today can take up to an hour to run. We have therefore \"hidden\" that code and shown the resulting outputs.\n"
      ]
    },
    {
      "cell_type": "markdown",
      "metadata": {
        "id": "2A63Q4IlsEko"
      },
      "source": [
        "**Ensure you're running a GPU notebook:**\n",
        "From \"Runtime\" in the drop-down menu above, click \"Change runtime type\". Ensure that \"Hardware Accelerator\" says \"GPU\".\n",
        "\n",
        "**Ensure you can save:** From \"File\", click \"Save a copy in Drive\""
      ]
    },
    {
      "cell_type": "code",
      "metadata": {
        "id": "AHWbdTSYsEko"
      },
      "source": [
        "# Imports\n",
        "from __future__ import print_function\n",
        "\n",
        "import time\n",
        "import copy\n",
        "import torch\n",
        "import random\n",
        "import pathlib\n",
        "\n",
        "import numpy as np\n",
        "import matplotlib.pyplot as plt\n",
        "import matplotlib.animation as animation\n",
        "\n",
        "import torch.nn as nn\n",
        "import torch.optim as optim\n",
        "import torch.nn.functional as F\n",
        "import torch.nn.utils.prune as prune\n",
        "\n",
        "from torchvision import datasets, transforms\n",
        "from torchvision.datasets import ImageFolder\n",
        "from torch.optim.lr_scheduler import StepLR\n",
        "from torch.utils.data import DataLoader, TensorDataset\n",
        "\n",
        "from tqdm.auto import tqdm\n",
        "from IPython.display import HTML, display"
      ],
      "execution_count": null,
      "outputs": []
    },
    {
      "cell_type": "code",
      "metadata": {
        "cellView": "form",
        "id": "07SJ-DxbsEko"
      },
      "source": [
        "# @title Figure Settings\n",
        "import ipywidgets as widgets\n",
        "%matplotlib inline\n",
        "%config InlineBackend.figure_format = 'retina'\n",
        "plt.style.use(\"https://raw.githubusercontent.com/NeuromatchAcademy/content-creation/main/nma.mplstyle\")"
      ],
      "execution_count": null,
      "outputs": []
    },
    {
      "cell_type": "code",
      "metadata": {
        "cellView": "form",
        "id": "tmUAmJBMsEkp"
      },
      "source": [
        "# @title Loading Animal Faces data\n",
        "%%capture\n",
        "!rm -r AnimalFaces32x32/\n",
        "!git clone https://github.com/arashash/AnimalFaces32x32\n",
        "!rm -r afhq/\n",
        "!unzip ./AnimalFaces32x32/afhq_32x32.zip"
      ],
      "execution_count": null,
      "outputs": []
    },
    {
      "cell_type": "code",
      "metadata": {
        "cellView": "form",
        "id": "OHXLixWjsEkp"
      },
      "source": [
        "# @title Loading Animal Faces Randomized data\n",
        "%%capture\n",
        "!rm -r Animal_faces_random/\n",
        "!git clone https://github.com/Ravi3191/Animal_faces_random.git\n",
        "!rm -r afhq_random_32x32/\n",
        "!unzip ./Animal_faces_random/afhq_random_32x32.zip\n",
        "!rm -r afhq_10_32x32/\n",
        "!unzip ./Animal_faces_random/afhq_10_32x32.zip"
      ],
      "execution_count": null,
      "outputs": []
    },
    {
      "cell_type": "code",
      "metadata": {
        "cellView": "form",
        "id": "eiDcCwofsEkp"
      },
      "source": [
        "# @title Plotting functions\n",
        "def imshow(img):\n",
        "  img = img / 2 + 0.5     # unnormalize\n",
        "  npimg = img.numpy()\n",
        "  plt.imshow(np.transpose(npimg, (1, 2, 0)))\n",
        "  plt.axis(False)\n",
        "  plt.show()\n",
        "\n",
        "def plot_weights(norm, labels, ws, title='Weight Size Measurement'):\n",
        "  plt.figure(figsize=[8, 6])\n",
        "  plt.title(title)\n",
        "  plt.ylabel('Frobenius Norm Value')\n",
        "  plt.xlabel('Model Layers')\n",
        "  plt.bar(labels, ws)\n",
        "  plt.axhline(y=norm,\n",
        "              linewidth=1,\n",
        "              color='r',\n",
        "              ls='--',\n",
        "              label='Total Model F-Norm')\n",
        "  plt.legend()\n",
        "  plt.show()"
      ],
      "execution_count": null,
      "outputs": []
    },
    {
      "cell_type": "code",
      "metadata": {
        "cellView": "form",
        "id": "RzW-UqoEsEkq"
      },
      "source": [
        "# @title Helper functions\n",
        "\n",
        "##Network Class - Animal Faces\n",
        "class AnimalNet(nn.Module):\n",
        "  def __init__(self):\n",
        "    super(AnimalNet, self).__init__()\n",
        "    self.fc1 = nn.Linear(3 * 32 * 32, 128)\n",
        "    self.fc2 = nn.Linear(128, 32)\n",
        "    self.fc3 = nn.Linear(32, 3)\n",
        "\n",
        "  def forward(self, x):\n",
        "    x = x.view(x.shape[0], -1)\n",
        "    x = F.relu(self.fc1(x))\n",
        "    x = F.relu(self.fc2(x))\n",
        "    x = self.fc3(x)\n",
        "    output = F.log_softmax(x, dim=1)\n",
        "    return output\n",
        "\n",
        "\n",
        "def train(args, model, device, train_loader, optimizer, epoch,\n",
        "          reg_function1=None, reg_function2=None, criterion=F.nll_loss):\n",
        "  \"\"\"\n",
        "  Trains the current inpur model using the data\n",
        "  from Train_loader and Updates parameters for a single pass\n",
        "  \"\"\"\n",
        "  model.train()\n",
        "  for batch_idx, (data, target) in enumerate(train_loader):\n",
        "    data, target = data.to(device), target.to(device)\n",
        "    optimizer.zero_grad()\n",
        "    output = model(data)\n",
        "    if reg_function1 is None:\n",
        "      loss = criterion(output, target)\n",
        "    elif reg_function2 is None:\n",
        "      loss = criterion(output, target)+args['lambda']*reg_function1(model)\n",
        "    else:\n",
        "      loss = criterion(output, target)+args['lambda1']*reg_function1(model)+args['lambda2']*reg_function2(model)\n",
        "    loss.backward()\n",
        "    optimizer.step()\n",
        "\n",
        "\n",
        "def test(model, device, test_loader, loader = 'Test', criterion=F.nll_loss):\n",
        "  \"\"\"\n",
        "  Tests the current Model\n",
        "  \"\"\"\n",
        "  model.eval()\n",
        "  test_loss = 0\n",
        "  correct = 0\n",
        "  with torch.no_grad():\n",
        "    for data, target in test_loader:\n",
        "      data, target = data.to(device), target.to(device)\n",
        "      output = model(data)\n",
        "      test_loss += criterion(output, target, reduction='sum').item()  # sum up batch loss\n",
        "      pred = output.argmax(dim=1, keepdim=True)  # get the index of the max log-probability\n",
        "      correct += pred.eq(target.view_as(pred)).sum().item()\n",
        "\n",
        "  test_loss /= len(test_loader.dataset)\n",
        "  return 100. * correct / len(test_loader.dataset)\n",
        "\n",
        "\n",
        "def main(args, model, train_loader, val_loader, test_data,\n",
        "         reg_function1=None, reg_function2=None, criterion=F.nll_loss):\n",
        "  \"\"\"\n",
        "  Trains the model with train_loader and tests the learned model using val_loader\n",
        "  \"\"\"\n",
        "\n",
        "  use_cuda = not args['no_cuda'] and torch.cuda.is_available()\n",
        "  device = torch.device('cuda' if use_cuda else 'cpu')\n",
        "\n",
        "  model = model.to(device)\n",
        "  optimizer = optim.SGD(model.parameters(), lr=args['lr'], momentum=args['momentum'])\n",
        "\n",
        "  val_acc_list, train_acc_list,param_norm_list = [], [], []\n",
        "  for epoch in tqdm(range(args['epochs'])):\n",
        "    train(args, model, device, train_loader, optimizer, epoch,reg_function1=reg_function1,reg_function2=reg_function2)\n",
        "    train_acc = test(model,device,train_loader, 'Train')\n",
        "    val_acc = test(model,device,val_loader, 'Val')\n",
        "    param_norm = calculate_frobenius_norm(model)\n",
        "    train_acc_list.append(train_acc)\n",
        "    val_acc_list.append(val_acc)\n",
        "    param_norm_list.append(param_norm)\n",
        "\n",
        "  return val_acc_list, train_acc_list, param_norm_list, model, 0\n",
        "\n",
        "\n",
        "def calculate_frobenius_norm(model):\n",
        "\n",
        "  norm = 0.0\n",
        "\n",
        "  # Sum the square of all parameters\n",
        "  for param in model.parameters():\n",
        "      norm += torch.sum(param**2)\n",
        "\n",
        "  # Take a square root of the sum of squares of all the parameters\n",
        "  norm = norm**0.5\n",
        "  return norm\n",
        "\n",
        "\n",
        "def calculate_frobenius_norm(model):\n",
        "    norm = 0.0\n",
        "\n",
        "    for name,param in model.named_parameters():\n",
        "        norm += torch.norm(param).data**2\n",
        "    return norm**0.5\n",
        "\n",
        "\n",
        "class Net(nn.Module):\n",
        "  def __init__(self):\n",
        "    super(Net, self).__init__()\n",
        "\n",
        "    self.fc1 = nn.Linear(1, 300)\n",
        "    self.fc2 = nn.Linear(300, 500)\n",
        "    self.fc3 = nn.Linear(500, 1)\n",
        "\n",
        "  def forward(self, x):\n",
        "    x = F.leaky_relu(self.fc1(x))\n",
        "    x = F.leaky_relu(self.fc2(x))\n",
        "    output = self.fc3(x)\n",
        "    return output\n",
        "\n",
        "# Network Class - Animal Faces\n",
        "class BigAnimalNet(nn.Module):\n",
        "  def __init__(self):\n",
        "    super(BigAnimalNet, self).__init__()\n",
        "    self.fc1 = nn.Linear(3*32*32, 124)\n",
        "    self.fc2 = nn.Linear(124, 64)\n",
        "    self.fc3 = nn.Linear(64, 3)\n",
        "\n",
        "  def forward(self, x):\n",
        "    x = x.view(x.shape[0],-1)\n",
        "    x = F.leaky_relu(self.fc1(x))\n",
        "    x = F.leaky_relu(self.fc2(x))\n",
        "    x = self.fc3(x)\n",
        "    output = F.log_softmax(x, dim=1)\n",
        "    return output\n",
        "\n",
        "\n",
        "def visualize_data(dataloader):\n",
        "\n",
        "  for idx, (data,label) in enumerate(dataloader):\n",
        "    plt.figure(idx)\n",
        "    # Choose the datapoint you would like to visualize\n",
        "    index = 22\n",
        "\n",
        "    # choose that datapoint using index and permute the dimensions\n",
        "    # and bring the pixel values between [0,1]\n",
        "    data = data[index].permute(1, 2, 0) * \\\n",
        "           torch.tensor([0.5, 0.5, 0.5]) + \\\n",
        "           torch.tensor([0.5, 0.5, 0.5])\n",
        "\n",
        "    # Convert the torch tensor into numpy\n",
        "    data = data.numpy()\n",
        "\n",
        "    plt.imshow(data)\n",
        "    plt.axis(False)\n",
        "    image_class = classes[label[index].item()]\n",
        "    print(f'The image belongs to : {image_class}')\n",
        "\n",
        "  plt.show()\n",
        "\n",
        "\n",
        "def early_stopping_main(args, model, train_loader, val_loader, test_data):\n",
        "\n",
        "  device = set_device()\n",
        "\n",
        "  model = model.to(device)\n",
        "  optimizer = optim.SGD(model.parameters(), lr=args['lr'], momentum=args['momentum'])\n",
        "\n",
        "  best_acc  = 0.0\n",
        "  best_epoch = 0\n",
        "\n",
        "  # Number of successive epochs that you want to wait before stopping training process\n",
        "  patience = 20\n",
        "\n",
        "  # Keps track of number of epochs during which the val_acc was less than best_acc\n",
        "  wait = 0\n",
        "\n",
        "  val_acc_list, train_acc_list = [], []\n",
        "  for epoch in tqdm(range(args['epochs'])):\n",
        "    train(args, model, device, train_loader, optimizer, epoch)\n",
        "    train_acc = test(model,device,train_loader, 'Train')\n",
        "    val_acc = test(model,device,val_loader, 'Val')\n",
        "    if (val_acc > best_acc):\n",
        "      best_acc = val_acc\n",
        "      best_epoch = epoch\n",
        "      best_model = copy.deepcopy(model)\n",
        "      wait = 0\n",
        "    else:\n",
        "      wait += 1\n",
        "    if (wait > patience):\n",
        "      print('early stopped on epoch:',epoch)\n",
        "      break\n",
        "    train_acc_list.append(train_acc)\n",
        "    val_acc_list.append(val_acc)\n",
        "\n",
        "  return val_acc_list, train_acc_list, best_model, best_epoch"
      ],
      "execution_count": null,
      "outputs": []
    },
    {
      "cell_type": "code",
      "metadata": {
        "cellView": "form",
        "id": "-B5coJFusEkt"
      },
      "source": [
        "#@title Seeding for Reproducibility\n",
        "def set_seed(seed=None, seed_torch=True):\n",
        "  if seed is None:\n",
        "    seed = np.random.choice(2 ** 32)\n",
        "  random.seed(seed)\n",
        "  np.random.seed(seed)\n",
        "  if seed_torch:\n",
        "    torch.manual_seed(seed)\n",
        "    torch.cuda.manual_seed_all(seed)\n",
        "    torch.cuda.manual_seed(seed)\n",
        "    torch.backends.cudnn.benchmark = False\n",
        "    torch.backends.cudnn.deterministic = True\n",
        "\n",
        "  print(f'Random seed {seed} has been set.')\n",
        "\n",
        "\n",
        "# In case that `DataLoader` is used\n",
        "def seed_worker(worker_id):\n",
        "  worker_seed = torch.initial_seed() % 2**32\n",
        "  np.random.seed(worker_seed)\n",
        "  random.seed(worker_seed)\n",
        "\n",
        "\n",
        "set_seed(seed=90108, seed_torch=False)"
      ],
      "execution_count": null,
      "outputs": []
    },
    {
      "cell_type": "code",
      "metadata": {
        "cellView": "form",
        "id": "Xy9v29XZsEkt"
      },
      "source": [
        "#@title Set device (GPU or CPU). Execute `set_device()`\n",
        "\n",
        "# inform the user if the notebook uses GPU or CPU.\n",
        "\n",
        "def set_device():\n",
        "  device = \"cuda\" if torch.cuda.is_available() else \"cpu\"\n",
        "  if device != \"cuda\":\n",
        "    print(\"WARNING: For this notebook to perform best, \"\n",
        "        \"if possible, in the menu under `Runtime` -> \"\n",
        "        \"`Change runtime type.`  select `GPU` \")\n",
        "  else:\n",
        "    print(\"GPU is enabled in this notebook.\")\n",
        "\n",
        "  return device\n",
        "\n",
        "\n",
        "set_device()"
      ],
      "execution_count": null,
      "outputs": []
    },
    {
      "cell_type": "code",
      "metadata": {
        "cellView": "form",
        "id": "Fy2Yh80JsEkt"
      },
      "source": [
        "#@title Dataloaders for the Dataset\n",
        "##Dataloaders for the Dataset\n",
        "batch_size = 128\n",
        "classes = ('cat', 'dog', 'wild')\n",
        "\n",
        "train_transform = transforms.Compose([\n",
        "     transforms.ToTensor(),\n",
        "     transforms.Normalize((0.5, 0.5, 0.5), (0.5, 0.5, 0.5))\n",
        "     ])\n",
        "data_path = pathlib.Path('.')/'afhq' # using pathlib to be compatible with all OS's\n",
        "img_dataset = ImageFolder(data_path/'train', transform=train_transform)\n",
        "\n",
        "\n",
        "####################################################\n",
        "\n",
        "##Dataloaders for the  Original Dataset\n",
        "img_train_data, img_val_data,_ = torch.utils.data.random_split(img_dataset,\n",
        "                                                               [100, 100, 14430])\n",
        "\n",
        "#Creating train_loader and Val_loader\n",
        "train_loader = torch.utils.data.DataLoader(img_train_data,batch_size=batch_size,\n",
        "                                           worker_init_fn=seed_worker)\n",
        "val_loader = torch.utils.data.DataLoader(img_val_data,batch_size=1000,\n",
        "                                         worker_init_fn=seed_worker)\n",
        "\n",
        "#creating test dataset\n",
        "test_transform = transforms.Compose([\n",
        "     transforms.ToTensor(),\n",
        "     transforms.Normalize((0.5, 0.5, 0.5), (0.5, 0.5, 0.5))\n",
        "     ])\n",
        "img_test_dataset = ImageFolder(data_path/'val', transform=test_transform)\n",
        "\n",
        "\n",
        "####################################################\n",
        "\n",
        "##Dataloaders for the  Random Dataset\n",
        "\n",
        "#splitting randomized data into training and validation data\n",
        "data_path = pathlib.Path('.')/'afhq_random_32x32/afhq_random' # using pathlib to be compatible with all OS's\n",
        "img_dataset = ImageFolder(data_path/'train', transform=train_transform)\n",
        "random_img_train_data, random_img_val_data,_ = torch.utils.data.random_split(img_dataset, [100,100,14430])\n",
        "\n",
        "#Randomized train and validation dataloader\n",
        "rand_train_loader = torch.utils.data.DataLoader(random_img_train_data,\n",
        "                                                batch_size=batch_size,num_workers = 0,\n",
        "                                                worker_init_fn=seed_worker)\n",
        "rand_val_loader = torch.utils.data.DataLoader(random_img_val_data,\n",
        "                                              batch_size=1000,\n",
        "                                              num_workers = 0,\n",
        "                                              worker_init_fn=seed_worker)\n",
        "\n",
        "####################################################\n",
        "\n",
        "##Dataloaders for the Partially Random Dataset\n",
        "\n",
        "#Splitting data between training and validation dataset for partially randomized data\n",
        "data_path = pathlib.Path('.')/'afhq_10_32x32/afhq_10' # using pathlib to be compatible with all OS's\n",
        "img_dataset = ImageFolder(data_path/'train', transform=train_transform)\n",
        "partially_random_train_data, partially_random_val_data,_ = torch.utils.data.random_split(img_dataset, [100,100,14430])\n",
        "\n",
        "#Training and Validation loader for partially randomized data\n",
        "partial_rand_train_loader = torch.utils.data.DataLoader(partially_random_train_data,\n",
        "                                                        batch_size=batch_size,num_workers = 0,\n",
        "                                                        worker_init_fn=seed_worker)\n",
        "partial_rand_val_loader = torch.utils.data.DataLoader(partially_random_val_data,\n",
        "                                                      batch_size=1000,\n",
        "                                                      num_workers = 0,\n",
        "                                                      worker_init_fn=seed_worker)"
      ],
      "execution_count": null,
      "outputs": []
    },
    {
      "cell_type": "code",
      "metadata": {
        "id": "GCcWOTdpsEku"
      },
      "source": [
        "# Seed parameter\n",
        "# Notice that changing this values some results may not be identical\n",
        "# with the solutions\n",
        "SEED = 2021"
      ],
      "execution_count": null,
      "outputs": []
    },
    {
      "cell_type": "markdown",
      "metadata": {
        "id": "BFiaPNdOsEku"
      },
      "source": [
        "---\n",
        "# Section 1: L1 and L2 Regularization\n"
      ]
    },
    {
      "cell_type": "code",
      "metadata": {
        "cellView": "form",
        "id": "xQEt411EsEku"
      },
      "source": [
        "#@title Video 1: L1 and L2 regression\n",
        "from ipywidgets import widgets\n",
        "\n",
        "out2 = widgets.Output()\n",
        "with out2:\n",
        "  from IPython.display import IFrame\n",
        "  class BiliVideo(IFrame):\n",
        "    def __init__(self, id, page=1, width=400, height=300, **kwargs):\n",
        "      self.id=id\n",
        "      src = \"https://player.bilibili.com/player.html?bvid={0}&page={1}\".format(id, page)\n",
        "      super(BiliVideo, self).__init__(src, width, height, **kwargs)\n",
        "\n",
        "  video = BiliVideo(id=f\"\", width=854, height=480, fs=1)\n",
        "  print(\"Video available at https://www.bilibili.com/video/{0}\".format(video.id))\n",
        "  display(video)\n",
        "\n",
        "out1 = widgets.Output()\n",
        "with out1:\n",
        "  from IPython.display import YouTubeVideo\n",
        "  video = YouTubeVideo(id=f\"OLl2nzOeQ68\", width=854, height=480, fs=1, rel=0)\n",
        "  print(\"Video available at https://youtube.com/watch?v=\" + video.id)\n",
        "  display(video)\n",
        "\n",
        "out = widgets.Tab([out1, out2])\n",
        "out.set_title(0, 'Youtube')\n",
        "out.set_title(1, 'Bilibili')\n",
        "\n",
        "display(out)"
      ],
      "execution_count": null,
      "outputs": []
    },
    {
      "cell_type": "markdown",
      "metadata": {
        "id": "oIdLKd5JsEku"
      },
      "source": [
        "Some of you might have already come across L1 and L2 regularization before in other courses. L1 and L2 are the most common types of regularization. These update the general cost function by adding another term known as the regularization term.\n",
        "\n",
        "***Cost function = Loss (say, binary cross entropy) + Regularization term***\n",
        "\n",
        "This regularization term makes the parameters smaller, giving simpler models that will overfit less."
      ]
    },
    {
      "cell_type": "markdown",
      "metadata": {
        "id": "yQuofKm4sEkv"
      },
      "source": [
        "Discuss among your teammates whether the above assumption is good or bad?"
      ]
    },
    {
      "cell_type": "markdown",
      "metadata": {
        "id": "2863Q2mDsEkv"
      },
      "source": [
        "### Section 1.1: Unregularized Model"
      ]
    },
    {
      "cell_type": "code",
      "metadata": {
        "cellView": "form",
        "id": "M4ZXsDIWsEkv"
      },
      "source": [
        "#@markdown #### Dataloaders for Regularization\n",
        "data_path = pathlib.Path('.')/'afhq' # using pathlib to be compatible with all OS's\n",
        "img_dataset = ImageFolder(data_path/'train', transform=train_transform)\n",
        "\n",
        "# Splitting dataset\n",
        "reg_train_data, reg_val_data,_ = torch.utils.data.random_split(img_dataset,\n",
        "                                                               [30, 100, 14500])\n",
        "g = torch.Generator()\n",
        "g.manual_seed(SEED)\n",
        "\n",
        "# Creating train_loader and Val_loader\n",
        "reg_train_loader = torch.utils.data.DataLoader(reg_train_data,\n",
        "                                               batch_size=batch_size,\n",
        "                                               worker_init_fn=seed_worker,\n",
        "                                               generator=g)\n",
        "reg_val_loader = torch.utils.data.DataLoader(reg_val_data,\n",
        "                                             batch_size=1000,\n",
        "                                             worker_init_fn=seed_worker,\n",
        "                                             generator=g)"
      ],
      "execution_count": null,
      "outputs": []
    },
    {
      "cell_type": "markdown",
      "metadata": {
        "id": "sXpOdPQ3sEkv"
      },
      "source": [
        "Now let's train a model without any regularization and keep it aside as our benchmark for this section."
      ]
    },
    {
      "cell_type": "code",
      "metadata": {
        "id": "jpnDwpIvsEkv"
      },
      "source": [
        "args = {\n",
        "    'epochs': 150,\n",
        "    'lr': 5e-3,\n",
        "    'momentum': 0.99,\n",
        "    'no_cuda': False,\n",
        "}\n",
        "\n",
        "acc_dict = {}\n",
        "model = AnimalNet()\n",
        "\n",
        "val_acc_unreg, train_acc_unreg,param_norm_unreg,_ ,_ = main(args,\n",
        "                                                            model,\n",
        "                                                            reg_train_loader,\n",
        "                                                            reg_val_loader,\n",
        "                                                            img_test_dataset)\n",
        "\n",
        "# Train and Test accuracy plot\n",
        "plt.figure(figsize=(8, 6))\n",
        "plt.plot(val_acc_unreg, label='Val Accuracy', c='red', ls='dashed')\n",
        "plt.plot(train_acc_unreg, label='Train Accuracy', c='red', ls='solid')\n",
        "plt.axhline(y=max(val_acc_unreg), c='green', ls='dashed')\n",
        "plt.title('Unregularized Model')\n",
        "plt.ylabel('Accuracy (%)')\n",
        "plt.xlabel('Epoch')\n",
        "plt.legend()\n",
        "plt.show()\n",
        "print('maximum Validation Accuracy reached:%f' % max(val_acc_unreg))"
      ],
      "execution_count": null,
      "outputs": []
    },
    {
      "cell_type": "markdown",
      "metadata": {
        "id": "6pDa-b2PsEkv"
      },
      "source": [
        "## Section 1.2: L1 Regularization"
      ]
    },
    {
      "cell_type": "markdown",
      "metadata": {
        "id": "wXXpFIdnsEkv"
      },
      "source": [
        "L1 (or \"LASSO\") Regularization uses a penalty which is the sum of the absolute value of all the weights in the DLN, resulting in the following loss function (L  is the usual Cross Entropy loss):\n",
        "\n",
        "\\begin{equation}\n",
        "L_R=L+λ∑|w^{(r)}_{ij}|\n",
        "\\end{equation}\n",
        "\n",
        "At a high level, L1 Regularization is similar to L2 Regularization since it leads to smaller weights. (You will see the analogy in the next subsection.) It results in the following weight update equation when using Stochastic Gradient Descent (where  sgn  is the sign function, such that  sgn(w)=+1  if  w>0 ,  sgn(w)=−1  if  $w<0$ , and sgn(0)=0 ):\n",
        "\n",
        "\\begin{equation}\n",
        "w^{(r)}_{ij}←w^{(r)}_{ij}−ηλsgn(w^{(r)}_{ij})−η\\frac{\\partial L}{\\partial w_{ij}^{r}} \n",
        "\\end{equation}"
      ]
    },
    {
      "cell_type": "markdown",
      "metadata": {
        "id": "WzuRnMe2sEkw"
      },
      "source": [
        "### Coding Exercise 1.1: L1 Regularization\n",
        "\n",
        "Write a function which calculates the L1 norm of all the tensors of a Pytorch model."
      ]
    },
    {
      "cell_type": "code",
      "metadata": {
        "id": "QITItOqTsEkw"
      },
      "source": [
        "def l1_reg(model):\n",
        "  \"\"\"\n",
        "    Inputs: Pytorch model\n",
        "    This function calculates the l1 norm of the all the tensors in the model\n",
        "  \"\"\"\n",
        "  l1 = 0.0\n",
        "  ####################################################################\n",
        "  # Fill in all missing code below (...),\n",
        "  # then remove or comment the line below to test your function\n",
        "  raise NotImplementedError(\"Complete the l1_reg function\")\n",
        "  ####################################################################\n",
        "  for param in model.parameters():\n",
        "    l1 += ...\n",
        "\n",
        "  return l1\n",
        "\n",
        "\n",
        "set_seed(seed=SEED)\n",
        "## uncomment to test\n",
        "# net = nn.Linear(20, 20)\n",
        "# print(f'L1 norm of the model: {l1_reg(net)}')"
      ],
      "execution_count": null,
      "outputs": []
    },
    {
      "cell_type": "code",
      "metadata": {
        "id": "cx58SDYzsEkw"
      },
      "source": [
        "# to_remove solution\n",
        "def l1_reg(model):\n",
        "  \"\"\"\n",
        "    Inputs: Pytorch model\n",
        "    This function calculates the l1 norm of the all the tensors in the model\n",
        "  \"\"\"\n",
        "  l1 = 0.0\n",
        "\n",
        "  for param in model.parameters():\n",
        "    l1 += torch.sum(torch.abs(param))\n",
        "\n",
        "  return l1\n",
        "\n",
        "\n",
        "set_seed(seed=SEED)\n",
        "## uncomment to test\n",
        "net = nn.Linear(20, 20)\n",
        "print(f'L1 norm of the model: {l1_reg(net)}')"
      ],
      "execution_count": null,
      "outputs": []
    },
    {
      "cell_type": "markdown",
      "metadata": {
        "id": "uuJFkpvpsEkw"
      },
      "source": [
        "```\n",
        "Random seed 2021 has been set.\n",
        "L1 norm of the model: 48.445133209228516\n",
        "```"
      ]
    },
    {
      "cell_type": "markdown",
      "metadata": {
        "id": "AT09lPD_sEkw"
      },
      "source": [
        "Now, let's train a classifier which uses L1 regularization. Tune the hyperparameter `lambda` such that the validation accuracy is higher than that of the unregularized model."
      ]
    },
    {
      "cell_type": "code",
      "metadata": {
        "id": "xyU_xBLOsEkw"
      },
      "source": [
        "args = {\n",
        "    'epochs': 150,\n",
        "    'lr': 5e-3,\n",
        "    'momentum': 0.99,\n",
        "    'no_cuda': False,\n",
        "    'lambda': 0.0  # <<<<<<<< Tune the hyperparameter lambda\n",
        "}\n",
        "\n",
        "acc_dict = {}\n",
        "model = AnimalNet()\n",
        "\n",
        "val_acc_l1reg, train_acc_l1reg, param_norm_l1reg, _, _ = main(args,\n",
        "                                                              model,\n",
        "                                                              reg_train_loader,\n",
        "                                                              reg_val_loader,\n",
        "                                                              img_test_dataset,\n",
        "                                                              reg_function1=l1_reg)\n",
        "\n",
        "# Train and Test accuracy plot\n",
        "plt.figure(figsize=(8, 6))\n",
        "plt.plot(val_acc_l1reg, label='Val Accuracy L1 Regularized',\n",
        "         c='red', ls='dashed')\n",
        "plt.plot(train_acc_l1reg, label='Train Accuracy L1 regularized',\n",
        "         c='red', ls='solid')\n",
        "plt.axhline(y=max(val_acc_l1reg), c='green', ls='dashed')\n",
        "plt.title('L1 regularized model')\n",
        "plt.ylabel('Accuracy (%)')\n",
        "plt.xlabel('Epoch')\n",
        "plt.legend()\n",
        "plt.show()\n",
        "print('maximum Validation Accuracy reached:%f'%max(val_acc_l1reg))"
      ],
      "execution_count": null,
      "outputs": []
    },
    {
      "cell_type": "markdown",
      "metadata": {
        "id": "1J-jMhYUsEkx"
      },
      "source": [
        "What value of Lambda worked for L1 Regularization?"
      ]
    },
    {
      "cell_type": "markdown",
      "metadata": {
        "id": "Qk7gcG_RsEkx"
      },
      "source": [
        "## Section 1.3: L2 / Ridge Regularization"
      ]
    },
    {
      "cell_type": "markdown",
      "metadata": {
        "id": "aycVtz7SsEkx"
      },
      "source": [
        "L2 Regularization, sometimes referred to as “Weight Decay”, is widely used. It works by adding a quadratic penalty term to the Cross Entropy Loss Function  L, which results in a new Loss Function  LR  given by:\n",
        "\n",
        "\\begin{equation}\n",
        "LR=L+λ∑(w^{(r)}_{ij})^2\n",
        "\\end{equation}\n",
        "\n",
        "In order to get further insight into L2 Regularization, we investigate its effect on the Gradient Descent based update equations for the weight and bias parameters. Taking the derivative on both sides of the above equation, we obtain\n",
        "\n",
        "\\begin{equation}\n",
        "\\frac{\\partial L_r}{\\partial w^{(r)}_{ij}}=\\frac{\\partial L}{\\partial w^{(r)}_{ij}}+λw^{(r)}_{ij}\n",
        "\\end{equation}\n",
        "Thus the weight update rule becomes:\n",
        "\n",
        "\\begin{equation}\n",
        "w^{(r)}_{ij}←w^{(r)}_{ij}−η\\frac{\\partial L}{\\partial W^{(r)}_{ij}}−ηλw^{(r)}_{ij}=(1−ηλ)w^{(r)}_{ij}−η\\frac{\\partial L}{\\partial w^{(r)}_{ij}}\n",
        "\\end{equation}\n",
        "\n",
        "where, $\\eta$ is learning rate."
      ]
    },
    {
      "cell_type": "markdown",
      "metadata": {
        "id": "9TWgolXWsEkx"
      },
      "source": [
        "### Coding Exercise 1.2: L2 Regularization\n",
        "\n",
        "Write a function which calculates the L2 norm of all the tensors of a Pytorch model. (What did we call this before?)"
      ]
    },
    {
      "cell_type": "code",
      "metadata": {
        "id": "TiztFpK6sEkx"
      },
      "source": [
        "def l2_reg(model):\n",
        "\n",
        "  \"\"\"\n",
        "    Inputs: Pytorch model\n",
        "    This function calculates the l2 norm of the all the tensors in the model\n",
        "  \"\"\"\n",
        "\n",
        "  l2 = 0.0\n",
        "  ####################################################################\n",
        "  # Fill in all missing code below (...),\n",
        "  # then remove or comment the line below to test your function\n",
        "  raise NotImplementedError(\"Complete the l2_reg function\")\n",
        "  ####################################################################\n",
        "  for param in model.parameters():\n",
        "    l2 += ...\n",
        "\n",
        "  return l2\n",
        "\n",
        "\n",
        "set_seed(SEED)\n",
        "## uncomment to test\n",
        "# net = nn.Linear(20, 20)\n",
        "# print(f'L2 norm of the model: {l2_reg(net)}')"
      ],
      "execution_count": null,
      "outputs": []
    },
    {
      "cell_type": "code",
      "metadata": {
        "id": "8KzqZ1txsEkx"
      },
      "source": [
        "# to_remove solution\n",
        "def l2_reg(model):\n",
        "\n",
        "  \"\"\"\n",
        "    Inputs: Pytorch model\n",
        "    This function calculates the l2 norm of the all the tensors in the model\n",
        "  \"\"\"\n",
        "\n",
        "  l2 = 0.0\n",
        "  for param in model.parameters():\n",
        "    l2 += torch.sum(torch.abs(param)**2)\n",
        "\n",
        "  return l2\n",
        "\n",
        "\n",
        "set_seed(SEED)\n",
        "## uncomment to test\n",
        "net = nn.Linear(20, 20)\n",
        "print(f'L2 norm of the model: {l2_reg(net)}')"
      ],
      "execution_count": null,
      "outputs": []
    },
    {
      "cell_type": "markdown",
      "metadata": {
        "id": "oDaIBy7NsEkx"
      },
      "source": [
        "```\n",
        "Random seed 2021 has been set.\n",
        "L2 norm of the model: 7.328375816345215\n",
        "```"
      ]
    },
    {
      "cell_type": "markdown",
      "metadata": {
        "id": "Nn_naeTHsEky"
      },
      "source": [
        "Now we'll train a classifier which uses L2 regularization. Tune the hyperparameter `lambda` such that the val accuracy is higher than that of the unregularized model."
      ]
    },
    {
      "cell_type": "code",
      "metadata": {
        "id": "DXWWA1xasEky"
      },
      "source": [
        "args = {\n",
        "    'test_batch_size': 1000,\n",
        "    'epochs': 150,\n",
        "    'lr': 5e-3,\n",
        "    'momentum': 0.99,\n",
        "    'no_cuda': False,\n",
        "    'lambda': 0.0  # <<<<<<<< Tune the hyperparameter lambda\n",
        "}\n",
        "\n",
        "acc_dict = {}\n",
        "model = AnimalNet()\n",
        "\n",
        "val_acc_l2reg, train_acc_l2reg, param_norm_l2reg, model, _ = main(args,\n",
        "                                                                  model,\n",
        "                                                                  train_loader,\n",
        "                                                                  val_loader,\n",
        "                                                                  img_test_dataset,\n",
        "                                                                  reg_function2=l2_reg)\n",
        "\n",
        "##Train and Test accuracy plot\n",
        "plt.figure(figsize=(8, 6))\n",
        "plt.plot(val_acc_l2reg, label='Val Accuracy L2 regularized',\n",
        "         c='red', ls='dashed')\n",
        "plt.plot(train_acc_l2reg, label='Train Accuracy L2 regularized',\n",
        "         c='red', ls='solid')\n",
        "plt.axhline(y=max(val_acc_l2reg), c='green', ls='dashed')\n",
        "plt.title('L2 Regularized Model')\n",
        "plt.ylabel('Accuracy (%)')\n",
        "plt.xlabel('Epoch')\n",
        "plt.legend()\n",
        "plt.show()\n",
        "print('maximum Validation Accuracy reached:%f'%max(val_acc_l2reg))"
      ],
      "execution_count": null,
      "outputs": []
    },
    {
      "cell_type": "markdown",
      "metadata": {
        "id": "Idr8t5uTsEky"
      },
      "source": [
        "What value of Lambda worked for L2 Regularization?"
      ]
    },
    {
      "cell_type": "code",
      "metadata": {
        "cellView": "form",
        "id": "ouTeKif0sEky"
      },
      "source": [
        "#@markdown #### Visualize all of them together (Run Me!)\n",
        "args = {'test_batch_size': 1000,\n",
        "        'epochs': 150,\n",
        "        'lr': 5e-3,\n",
        "        'momentum': 0.99,\n",
        "        'no_cuda': False,\n",
        "        'lambda1': 0.001,\n",
        "        'lambda2': 0.001\n",
        "        }\n",
        "model = AnimalNet()\n",
        "val_acc_l1l2reg, train_acc_l1l2reg, param_norm_l1l2reg, _, _ = main(args,\n",
        "                                                  model,\n",
        "                                                  train_loader,\n",
        "                                                  val_loader,\n",
        "                                                  img_test_dataset,\n",
        "                                                  reg_function1=l1_reg,\n",
        "                                                  reg_function2=l2_reg)\n",
        "\n",
        "plt.figure(figsize=(12, 6))\n",
        "plt.plot(val_acc_l2reg,c='red',ls = 'dashed')\n",
        "plt.plot(train_acc_l2reg,label='L2 regularized',c='red',ls = 'solid')\n",
        "plt.axhline(y=max(val_acc_l2reg),c = 'red',ls = 'dashed')\n",
        "plt.plot(val_acc_l1reg,c='green',ls = 'dashed')\n",
        "plt.plot(train_acc_l1reg,label='L1 regularized',c='green',ls = 'solid')\n",
        "plt.axhline(y=max(val_acc_l1reg),c = 'green',ls = 'dashed')\n",
        "plt.plot(val_acc_unreg,c='blue',ls = 'dashed')\n",
        "plt.plot(train_acc_unreg,label='Unregularized',c='blue',ls = 'solid')\n",
        "plt.axhline(y=max(val_acc_unreg),c = 'blue',ls = 'dashed')\n",
        "plt.plot(val_acc_l1l2reg,c='orange',ls = 'dashed')\n",
        "plt.plot(train_acc_l1l2reg,label='L1+L2 regularized',c='orange',ls = 'solid')\n",
        "plt.axhline(y=max(val_acc_l1l2reg),c = 'orange',ls = 'dashed')\n",
        "\n",
        "plt.title('Unregularized Vs L1-Regularized vs L2-regularized Vs L1+L2 regularized')\n",
        "plt.xlabel('epoch')\n",
        "plt.ylabel('Accuracy(%)')\n",
        "plt.legend()\n",
        "plt.show()"
      ],
      "execution_count": null,
      "outputs": []
    },
    {
      "cell_type": "markdown",
      "metadata": {
        "id": "YmlOZVv7sEky"
      },
      "source": [
        "Now, let's visualize what these different regularization does to the parameters of the model. We observe the effect by computing the size (technically, the Frobenius norm) of the model parameters"
      ]
    },
    {
      "cell_type": "code",
      "metadata": {
        "cellView": "form",
        "id": "d26v9rJ7sEky"
      },
      "source": [
        "#@markdown #### Visualize Norm of the Models (Train Me!)\n",
        "plt.figure(figsize=(8, 6))\n",
        "plt.plot(param_norm_unreg,label='Unregularized',c = 'blue')\n",
        "plt.plot(param_norm_l1reg,label = 'L1 Regularized', c='green')\n",
        "plt.plot(param_norm_l2reg,label='L2 Regularized',c='red')\n",
        "plt.plot(param_norm_l1l2reg,label='L1+L2 Regularized',c='orange')\n",
        "plt.title('Parameter Norm as a function of training Epoch')\n",
        "plt.xlabel('epoch')\n",
        "plt.ylabel('Parameter Norms')\n",
        "plt.legend()\n",
        "plt.show()"
      ],
      "execution_count": null,
      "outputs": []
    },
    {
      "cell_type": "markdown",
      "metadata": {
        "id": "4nfV27s1sEkz"
      },
      "source": [
        "In the above plots, you should have seen that even after the model acheives 100% train accuracy the val accuracies are fluctuating This suggests that the model is still trying to learn something. Why whould this be the case?"
      ]
    },
    {
      "cell_type": "markdown",
      "metadata": {
        "id": "FbD2ZOLFsEkz"
      },
      "source": [
        "---\n",
        "# Section 2: Dropout\n"
      ]
    },
    {
      "cell_type": "code",
      "metadata": {
        "cellView": "form",
        "id": "r5m0hA0AsEkz"
      },
      "source": [
        "#@title Video 2: Dropout\n",
        "from ipywidgets import widgets\n",
        "\n",
        "out2 = widgets.Output()\n",
        "with out2:\n",
        "  from IPython.display import IFrame\n",
        "  class BiliVideo(IFrame):\n",
        "    def __init__(self, id, page=1, width=400, height=300, **kwargs):\n",
        "      self.id=id\n",
        "      src = \"https://player.bilibili.com/player.html?bvid={0}&page={1}\".format(id, page)\n",
        "      super(BiliVideo, self).__init__(src, width, height, **kwargs)\n",
        "\n",
        "  video = BiliVideo(id=f\"\", width=854, height=480, fs=1)\n",
        "  print(\"Video available at https://www.bilibili.com/video/{0}\".format(video.id))\n",
        "  display(video)\n",
        "\n",
        "out1 = widgets.Output()\n",
        "with out1:\n",
        "  from IPython.display import YouTubeVideo\n",
        "  video = YouTubeVideo(id=f\"a4nX4T-3xsc\", width=854, height=480, fs=1, rel=0)\n",
        "  print(\"Video available at https://youtube.com/watch?v=\" + video.id)\n",
        "  display(video)\n",
        "\n",
        "out = widgets.Tab([out1, out2])\n",
        "out.set_title(0, 'Youtube')\n",
        "out.set_title(1, 'Bilibili')\n",
        "\n",
        "display(out)"
      ],
      "execution_count": null,
      "outputs": []
    },
    {
      "cell_type": "markdown",
      "metadata": {
        "id": "jVKJttQ5sEkz"
      },
      "source": [
        "In dropout, we literally drop out (zero out) some neurons during training. Throughout training, on each iteration, standard dropout zeros out some fraction (usually 1/2) of the nodes in each layer before calculating the subsequent layer. Randomly selecting different subsets to dropout introduces noise into the process and reduces overfitting.\n",
        "\n",
        "<center><img src=\"https://d2l.ai/_images/dropout2.svg\" alt=\"Dropout\" width=\"600\"/></center>\n"
      ]
    },
    {
      "cell_type": "markdown",
      "metadata": {
        "id": "5Q5mCjQcsEkz"
      },
      "source": [
        "Now let's revisit the toy dataset that we generated above to visualize how the dropout stabilizes training on a noisy dataset. We will slightly modify the architecture we used above to add dropout layers."
      ]
    },
    {
      "cell_type": "code",
      "metadata": {
        "id": "pYCOWTkBsEk0"
      },
      "source": [
        "# Network Class - 2D\n",
        "class Net(nn.Module):\n",
        "  def __init__(self):\n",
        "    super(Net, self).__init__()\n",
        "\n",
        "    self.fc1 = nn.Linear(1, 300)\n",
        "    self.fc2 = nn.Linear(300, 500)\n",
        "    self.fc3 = nn.Linear(500, 1)\n",
        "    self.dropout1 = nn.Dropout(0.4)\n",
        "    self.dropout2 = nn.Dropout(0.2)\n",
        "\n",
        "  def forward(self, x):\n",
        "    x = F.leaky_relu(self.dropout1(self.fc1(x)))\n",
        "    x = F.leaky_relu(self.dropout2(self.fc2(x)))\n",
        "    output = self.fc3(x)\n",
        "    return output"
      ],
      "execution_count": null,
      "outputs": []
    },
    {
      "cell_type": "code",
      "metadata": {
        "cellView": "form",
        "id": "SnEn0q73sEk0"
      },
      "source": [
        "#@markdown #### Run to train the default network\n",
        "\n",
        "#creating train data\n",
        "X = torch.rand((10,1))\n",
        "X.sort(dim = 0)\n",
        "Y = 2*X + 2*torch.empty((X.shape[0],1)).normal_(mean=0,std=1) #adding small error in the data\n",
        "\n",
        "X = X.unsqueeze_(1)\n",
        "Y = Y.unsqueeze_(1)\n",
        "\n",
        "#creating test dataset\n",
        "X_test = torch.linspace(0, 1, 40)\n",
        "X_test = X_test.reshape((40, 1, 1))\n",
        "\n",
        "#train the network on toy dataset\n",
        "model = Net()\n",
        "criterion = nn.MSELoss()\n",
        "optimizer = optim.Adam(model.parameters(),lr = 1e-4)\n",
        "max_epochs = 10000\n",
        "iters = 0\n",
        "\n",
        "running_predictions = np.empty((40,(int)(max_epochs/500 + 1)))\n",
        "\n",
        "train_loss = []\n",
        "test_loss = []\n",
        "model_norm = []\n",
        "\n",
        "for epoch in tqdm(range(max_epochs)):\n",
        "\n",
        "  #training\n",
        "  model_norm.append(calculate_frobenius_norm(model))\n",
        "  model.train()\n",
        "  optimizer.zero_grad()\n",
        "  predictions = model(X)\n",
        "  loss = criterion(predictions,Y)\n",
        "  loss.backward()\n",
        "  optimizer.step()\n",
        "\n",
        "  train_loss.append(loss.data)\n",
        "  model.eval()\n",
        "  Y_test = model(X_test)\n",
        "  loss = criterion(Y_test,2*X_test)\n",
        "  test_loss.append(loss.data)\n",
        "\n",
        "  if (epoch % 500 == 0 or epoch == max_epochs - 1):\n",
        "    running_predictions[:,iters] = Y_test[:,0,0].detach().numpy()\n",
        "    iters += 1\n",
        "\n",
        "\n",
        "model = BigAnimalNet()\n",
        "\n",
        "args = {'test_batch_size': 1000,\n",
        "        'epochs': 200,\n",
        "        'lr': 5e-3,\n",
        "        'momentum': 0.9,\n",
        "        'no_cuda': False,\n",
        "        }\n",
        "\n",
        "val_acc_pure, train_acc_pure, _, model ,_ = main(args,\n",
        "                                                 model,\n",
        "                                                 train_loader,\n",
        "                                                 val_loader,\n",
        "                                                 img_test_dataset)"
      ],
      "execution_count": null,
      "outputs": []
    },
    {
      "cell_type": "code",
      "metadata": {
        "id": "ckm3Ryq_sEk0"
      },
      "source": [
        "# train the network on toy dataset\n",
        "model = Net()\n",
        "criterion = nn.MSELoss()\n",
        "optimizer = optim.Adam(model.parameters(), lr=1e-4)\n",
        "max_epochs = 10000\n",
        "iters = 0\n",
        "\n",
        "running_predictions_dp = np.empty((40, (int)(max_epochs / 500)))\n",
        "\n",
        "train_loss_dp = []\n",
        "test_loss_dp = []\n",
        "model_norm_dp = []\n",
        "\n",
        "for epoch in tqdm(range(max_epochs)):\n",
        "\n",
        "  # training\n",
        "  model_norm_dp.append(calculate_frobenius_norm(model))\n",
        "  model.train()\n",
        "  optimizer.zero_grad()\n",
        "  predictions = model(X)\n",
        "  loss = criterion(predictions, Y)\n",
        "  loss.backward()\n",
        "  optimizer.step()\n",
        "\n",
        "  train_loss_dp.append(loss.data)\n",
        "  model.eval()\n",
        "  Y_test = model(X_test)\n",
        "  loss = criterion(Y_test, 2*X_test)\n",
        "  test_loss_dp.append(loss.data)\n",
        "\n",
        "  if (epoch % 500 == 0 or epoch == max_epochs):\n",
        "    running_predictions_dp[:, iters] = Y_test[:, 0, 0].detach().numpy()\n",
        "    iters += 1"
      ],
      "execution_count": null,
      "outputs": []
    },
    {
      "cell_type": "markdown",
      "metadata": {
        "id": "Utkvt74qsEk0"
      },
      "source": [
        "Now that we have finished training, let's see how the model has evolved over the training process."
      ]
    },
    {
      "cell_type": "code",
      "metadata": {
        "cellView": "form",
        "id": "Yk54JtuJsEk0"
      },
      "source": [
        "#@markdown #### Visualization (Run Me!)\n",
        "fig = plt.figure(figsize=(8, 6))\n",
        "ax = plt.axes()\n",
        "def frame(i):\n",
        "    ax.clear()\n",
        "    ax.scatter(X[:,0,:].numpy(),Y[:,0,:].numpy())\n",
        "    plot = ax.plot(X_test[:,0,:].detach().numpy(),running_predictions_dp[:,i])\n",
        "    title = \"Epoch: \" + str(i * 500)\n",
        "    plt.title(title)\n",
        "    ax.set_xlabel(\"X axis\")\n",
        "    ax.set_ylabel(\"Y axis\")\n",
        "    return plot\n",
        "anim = animation.FuncAnimation(fig, frame, frames=range(20), blit=False, repeat=False, repeat_delay=10000)\n",
        "html_anim = HTML(anim.to_html5_video());\n",
        "plt.close()\n",
        "display(html_anim)"
      ],
      "execution_count": null,
      "outputs": []
    },
    {
      "cell_type": "code",
      "metadata": {
        "cellView": "form",
        "id": "ETdI5oKYsEk0"
      },
      "source": [
        "#@markdown #### Plot the train and test losses\n",
        "plt.figure(figsize=(8, 6))\n",
        "plt.plot(test_loss_dp,label='test_loss dropout',c = 'blue',ls='dashed')\n",
        "plt.plot(test_loss, label='test_loss',c = 'red',ls='dashed')\n",
        "plt.ylabel('loss')\n",
        "plt.xlabel('epochs')\n",
        "plt.title('dropout vs without dropout')\n",
        "plt.legend()\n",
        "plt.show()"
      ],
      "execution_count": null,
      "outputs": []
    },
    {
      "cell_type": "code",
      "metadata": {
        "cellView": "form",
        "id": "Sv02aAs4sEk1"
      },
      "source": [
        "#@markdown #### Plot the train and test losses\n",
        "plt.figure(figsize=(8, 6))\n",
        "plt.plot(train_loss_dp,label='train_loss dropout',c = 'blue',ls='dashed')\n",
        "plt.plot(train_loss, label='train_loss',c = 'red',ls='dashed')\n",
        "plt.ylabel('loss')\n",
        "plt.xlabel('epochs')\n",
        "plt.title('dropout vs without dropout')\n",
        "plt.legend()\n",
        "plt.show()"
      ],
      "execution_count": null,
      "outputs": []
    },
    {
      "cell_type": "code",
      "metadata": {
        "cellView": "form",
        "id": "qqu4FNk_sEk1"
      },
      "source": [
        "#@markdown #### Plot model weights with epoch\n",
        "plt.figure(figsize=(8, 6))\n",
        "plt.plot(model_norm_dp, label = 'dropout')\n",
        "plt.plot(model_norm, label = 'no dropout')\n",
        "plt.ylabel('norm of the model')\n",
        "plt.xlabel('epochs')\n",
        "plt.legend()\n",
        "plt.title('Size of the model vs Epochs')\n",
        "plt.show()"
      ],
      "execution_count": null,
      "outputs": []
    },
    {
      "cell_type": "markdown",
      "metadata": {
        "id": "_0ZHS_ovsEk1"
      },
      "source": [
        "Do you think this performed better than the initial model?"
      ]
    },
    {
      "cell_type": "markdown",
      "metadata": {
        "id": "ipMNA7R3sEk1"
      },
      "source": [
        "## Section 2.1: Dropout Implementation Caveats: "
      ]
    },
    {
      "cell_type": "markdown",
      "metadata": {
        "id": "or9l3CMZsEk1"
      },
      "source": [
        "\n",
        "*  Dropout is used only during training, during testing the complete model weights are used and hence it is important to use model.eval() before testing the model. \n",
        "\n",
        "* Dropout reduces the capacity of the model during training and hence as a general practice wider networks are used when using dropout. If you are using a dropout with a random probability of 0.5 then you might want to double the number of hidden neurons in that layer."
      ]
    },
    {
      "cell_type": "markdown",
      "metadata": {
        "id": "wj0OLvnBsEk1"
      },
      "source": [
        "Now, let's see how dropout fares on the Animal Faces Dataset. We first modify the existing model to include dropout and then train the model."
      ]
    },
    {
      "cell_type": "code",
      "metadata": {
        "id": "k2wm1T8BsEk1"
      },
      "source": [
        "# Network Class - Animal Faces\n",
        "class AnimalNetDropout(nn.Module):\n",
        "  def __init__(self):\n",
        "    torch.manual_seed(32)\n",
        "    super(AnimalNetDropout, self).__init__()\n",
        "    self.fc1 = nn.Linear(3*32*32, 248)\n",
        "    self.fc2 = nn.Linear(248, 210)\n",
        "    self.fc3 = nn.Linear(210, 3)\n",
        "    self.dropout1 = nn.Dropout(p=0.5)\n",
        "    self.dropout2 = nn.Dropout(p=0.3)\n",
        "\n",
        "  def forward(self, x):\n",
        "      x = x.view(x.shape[0], -1)\n",
        "      x = F.leaky_relu(self.dropout1(self.fc1(x)))\n",
        "      x =F.leaky_relu(self.dropout2(self.fc2(x)))\n",
        "      x = self.fc3(x)\n",
        "      output = F.log_softmax(x, dim=1)\n",
        "      return output"
      ],
      "execution_count": null,
      "outputs": []
    },
    {
      "cell_type": "code",
      "metadata": {
        "id": "zGTVIQ_psEk1"
      },
      "source": [
        "args = {\n",
        "    'test_batch_size': 1000,\n",
        "    'epochs': 200,\n",
        "    'lr': 5e-3,\n",
        "    'batch_size': 32,\n",
        "    'momentum': 0.9,\n",
        "    'no_cuda': False,\n",
        "    'seed': 1,\n",
        "    'log_interval': 100\n",
        "}\n",
        "\n",
        "acc_dict = {}\n",
        "model = AnimalNetDropout()\n",
        "\n",
        "val_acc_dropout, train_acc_dropout, _, model ,_ = main(args,\n",
        "                                                       model,\n",
        "                                                       train_loader,\n",
        "                                                       val_loader,\n",
        "                                                       img_test_dataset)\n",
        "\n",
        "##Train and Test accuracy plot\n",
        "\n",
        "plt.plot(val_acc_pure, label='Val', c='blue', ls='dashed')\n",
        "plt.plot(train_acc_pure, label='Train', c='blue', ls='solid')\n",
        "plt.plot(val_acc_dropout, label='Val - DP', c='red', ls='dashed')\n",
        "plt.plot(train_acc_dropout, label='Train - DP', c='red', ls='solid')\n",
        "plt.title('Dropout')\n",
        "plt.ylabel('Accuracy (%)')\n",
        "plt.xlabel('Epoch')\n",
        "plt.legend()\n",
        "plt.show()"
      ],
      "execution_count": null,
      "outputs": []
    },
    {
      "cell_type": "markdown",
      "metadata": {
        "id": "8SdvTW1fsEk2"
      },
      "source": [
        "When do you think dropouts can perform bad and do you think their placement within a model matters?"
      ]
    },
    {
      "cell_type": "markdown",
      "metadata": {
        "id": "3Qr4fu8nsEk2"
      },
      "source": [
        "---\n",
        "# Section 3: Data Augmentation\n"
      ]
    },
    {
      "cell_type": "code",
      "metadata": {
        "cellView": "form",
        "id": "ZlAfTIIssEk2"
      },
      "source": [
        "#@title Video 3: Data Augmentation\n",
        "from ipywidgets import widgets\n",
        "\n",
        "out2 = widgets.Output()\n",
        "with out2:\n",
        "  from IPython.display import IFrame\n",
        "  class BiliVideo(IFrame):\n",
        "    def __init__(self, id, page=1, width=400, height=300, **kwargs):\n",
        "      self.id=id\n",
        "      src = \"https://player.bilibili.com/player.html?bvid={0}&page={1}\".format(id, page)\n",
        "      super(BiliVideo, self).__init__(src, width, height, **kwargs)\n",
        "\n",
        "  video = BiliVideo(id=f\"\", width=854, height=480, fs=1)\n",
        "  print(\"Video available at https://www.bilibili.com/video/{0}\".format(video.id))\n",
        "  display(video)\n",
        "\n",
        "out1 = widgets.Output()\n",
        "with out1:\n",
        "  from IPython.display import YouTubeVideo\n",
        "  video = YouTubeVideo(id=f\"NvwRMX6v-S8\", width=854, height=480, fs=1, rel=0)\n",
        "  print(\"Video available at https://youtube.com/watch?v=\" + video.id)\n",
        "  display(video)\n",
        "\n",
        "out = widgets.Tab([out1, out2])\n",
        "out.set_title(0, 'Youtube')\n",
        "out.set_title(1, 'Bilibili')\n",
        "\n",
        "display(out)"
      ],
      "execution_count": null,
      "outputs": []
    },
    {
      "cell_type": "markdown",
      "metadata": {
        "id": "VraZ4v7AsEk2"
      },
      "source": [
        "Data augmentation is often used to increase the number of training samples. Now we will explore the effects of data augmentation on regularization. Here regularization is acheived by adding noise into training data after every epoch.\n",
        "\n",
        "Pytorch's torchvision module provides a few built-in data augmentation techniques, which we can use on image datasets. Some of the techniques we most frequently use are:\n",
        "\n",
        "\n",
        "*   Random Crop\n",
        "*   Random Rotate\n",
        "*   Vertical Flip\n",
        "*   Horizontal Flip\n",
        "\n"
      ]
    },
    {
      "cell_type": "code",
      "metadata": {
        "cellView": "form",
        "id": "SIpOAidDsEk2"
      },
      "source": [
        "#@markdown ####  Data Loader without Data Augmentation\n",
        "train_transform = transforms.Compose([\n",
        "     transforms.ToTensor(),\n",
        "     transforms.Normalize((0.5, 0.5, 0.5), (0.5, 0.5, 0.5))\n",
        "     ])\n",
        "data_path = pathlib.Path('.')/'afhq' # using pathlib to be compatible with all OS's\n",
        "img_dataset = ImageFolder(data_path/'train', transform=train_transform)\n",
        "\n",
        "#Splitting dataset\n",
        "img_train_data, img_val_data,_ = torch.utils.data.random_split(img_dataset, [250,100,14280])\n",
        "\n",
        "#Creating train_loader and Val_loader\n",
        "train_loader = torch.utils.data.DataLoader(img_train_data,batch_size=batch_size,worker_init_fn=seed_worker)\n",
        "val_loader = torch.utils.data.DataLoader(img_val_data,batch_size=1000,worker_init_fn=seed_worker)"
      ],
      "execution_count": null,
      "outputs": []
    },
    {
      "cell_type": "markdown",
      "metadata": {
        "id": "Knm9vbHasEk2"
      },
      "source": [
        "Define a DataLoader using [torchvision.transforms](https://pytorch.org/docs/stable/torchvision/transforms.html) which randomly augments the data for us. "
      ]
    },
    {
      "cell_type": "code",
      "metadata": {
        "id": "VdPXXLbDsEk3"
      },
      "source": [
        "##Data Augmentation using transforms\n",
        "new_transforms = transforms.Compose([\n",
        "                                     transforms.RandomHorizontalFlip(p=0.1),\n",
        "                                     transforms.RandomVerticalFlip(p=0.1),\n",
        "                                     transforms.ToTensor(),\n",
        "                                     transforms.Normalize((0.5, 0.5, 0.5),\n",
        "                                                          (0.5, 0.5, 0.5))\n",
        "])\n",
        "\n",
        "data_path = pathlib.Path('.')/'afhq' # using pathlib to be compatible with all OS's\n",
        "img_dataset = ImageFolder(data_path/'train', transform=new_transforms)\n",
        "#Splitting dataset\n",
        "new_train_data, _,_ = torch.utils.data.random_split(img_dataset,\n",
        "                                                    [250, 100, 14280])\n",
        "\n",
        "#Creating train_loader and Val_loader\n",
        "new_train_loader = torch.utils.data.DataLoader(new_train_data,\n",
        "                                               batch_size=batch_size,\n",
        "                                               worker_init_fn=seed_worker)"
      ],
      "execution_count": null,
      "outputs": []
    },
    {
      "cell_type": "code",
      "metadata": {
        "id": "LTnNAoU7sEk3"
      },
      "source": [
        "args = {\n",
        "    'epochs': 250,\n",
        "    'lr': 1e-3,\n",
        "    'momentum': 0.99,\n",
        "    'no_cuda': False,\n",
        "}\n",
        "\n",
        "\n",
        "acc_dict = {}\n",
        "model = AnimalNet()\n",
        "\n",
        "val_acc_dataaug, train_acc_dataaug, param_norm_datadug, _ ,_ = main(args,\n",
        "                                                                    model,\n",
        "                                                                    new_train_loader,\n",
        "                                                                    val_loader,\n",
        "                                                                    img_test_dataset)\n",
        "model = AnimalNet()\n",
        "val_acc_pure, train_acc_pure, param_norm_pure, _, _ = main(args,\n",
        "                                                           model,\n",
        "                                                           train_loader,\n",
        "                                                           val_loader,\n",
        "                                                           img_test_dataset)\n",
        "\n",
        "\n",
        "##Train and Test accuracy plot\n",
        "plt.figure(figsize=(8, 6))\n",
        "plt.plot(val_acc_pure, label='Val Accuracy Pure',\n",
        "         c='red', ls='dashed')\n",
        "plt.plot(train_acc_pure, label='Train Accuracy Pure',\n",
        "         c='red', ls='solid')\n",
        "plt.plot(val_acc_dataaug, label='Val Accuracy data augment',\n",
        "         c='blue', ls='dashed')\n",
        "plt.plot(train_acc_dataaug, label='Train Accuracy data augment',\n",
        "         c='blue', ls='solid')\n",
        "plt.axhline(y=max(val_acc_pure), c='red', ls='dashed')\n",
        "plt.axhline(y=max(val_acc_dataaug), c='blue', ls='dashed')\n",
        "plt.title('Data Augmentation')\n",
        "plt.ylabel('Accuracy (%)')\n",
        "plt.xlabel('Epoch')\n",
        "plt.legend()\n",
        "plt.show()"
      ],
      "execution_count": null,
      "outputs": []
    },
    {
      "cell_type": "code",
      "metadata": {
        "id": "ysxCA3iWsEk3"
      },
      "source": [
        "plt.figure(figsize=(8, 6))\n",
        "plt.plot(param_norm_pure, c='red', label='Without Augmentation')\n",
        "plt.plot(param_norm_datadug, c='blue', label='With Augmentation')\n",
        "plt.title('Norm of parameters as a function of training epoch')\n",
        "plt.xlabel('epoch')\n",
        "plt.ylabel('Norm of model parameters')\n",
        "plt.legend()\n",
        "plt.show()"
      ],
      "execution_count": null,
      "outputs": []
    },
    {
      "cell_type": "markdown",
      "metadata": {
        "id": "aa6GuSVDsEk3"
      },
      "source": [
        "Can you think of more ways of augmenting training data? (Think of other problems beyond object recogition.)"
      ]
    },
    {
      "cell_type": "markdown",
      "metadata": {
        "id": "aTZEt4Q7sEk3"
      },
      "source": [
        "### Think! 3.1: Thought Question\n",
        "Why does it work better to regularize an overparameterized ANN than to start with a smaller one? Think about  the regularization  methods you know.\n",
        "Each group has a 10 min discussion."
      ]
    },
    {
      "cell_type": "markdown",
      "metadata": {
        "id": "wiBp3CgvsEk3"
      },
      "source": [
        "---\n",
        "# Section 4: Stochastic Gradient Descent\n"
      ]
    },
    {
      "cell_type": "code",
      "metadata": {
        "cellView": "form",
        "id": "mgFGXCBesEk3"
      },
      "source": [
        "#@title Video 4: SGD\n",
        "from ipywidgets import widgets\n",
        "\n",
        "out2 = widgets.Output()\n",
        "with out2:\n",
        "  from IPython.display import IFrame\n",
        "  class BiliVideo(IFrame):\n",
        "    def __init__(self, id, page=1, width=400, height=300, **kwargs):\n",
        "      self.id=id\n",
        "      src = \"https://player.bilibili.com/player.html?bvid={0}&page={1}\".format(id, page)\n",
        "      super(BiliVideo, self).__init__(src, width, height, **kwargs)\n",
        "\n",
        "  video = BiliVideo(id=f\"\", width=854, height=480, fs=1)\n",
        "  print(\"Video available at https://www.bilibili.com/video/{0}\".format(video.id))\n",
        "  display(video)\n",
        "\n",
        "out1 = widgets.Output()\n",
        "with out1:\n",
        "  from IPython.display import YouTubeVideo\n",
        "  video = YouTubeVideo(id=f\"E3g2Z-ZqMZw\", width=854, height=480, fs=1, rel=0)\n",
        "  print(\"Video available at https://youtube.com/watch?v=\" + video.id)\n",
        "  display(video)\n",
        "\n",
        "out = widgets.Tab([out1, out2])\n",
        "out.set_title(0, 'Youtube')\n",
        "out.set_title(1, 'Bilibili')\n",
        "\n",
        "display(out)"
      ],
      "execution_count": null,
      "outputs": []
    },
    {
      "cell_type": "markdown",
      "metadata": {
        "id": "iwe-TFfKsEk4"
      },
      "source": [
        "## Section 4.1: Learning Rate\n",
        "In this section, we will see how learning rate can act as regularizer while training a neural network. In summary:\n",
        "\n",
        "\n",
        "*   Smaller learning rates regularize less. They slowly converge to deep minima. \n",
        "*   Larger learning rates regularizes more by missing local minima and converging to broader, flatter minima, which often generalize better.\n",
        "\n",
        "But beware, a very large learning rate may result in overshooting or finding a really bad local minimum.\n",
        "\n",
        "\n",
        "\n",
        "In the block below, we will train the Animal Net model with different learning rates and see how that affects the regularization."
      ]
    },
    {
      "cell_type": "code",
      "metadata": {
        "cellView": "form",
        "id": "Q5nIdV3bsEk4"
      },
      "source": [
        "#@markdown #### Generating Data Loaders\n",
        "batch_size = 128\n",
        "train_transform = transforms.Compose([\n",
        "     transforms.ToTensor(),\n",
        "     transforms.Normalize((0.5, 0.5, 0.5), (0.5, 0.5, 0.5))\n",
        "     ])\n",
        "\n",
        "data_path = pathlib.Path('.')/'afhq' # using pathlib to be compatible with all OS's\n",
        "img_dataset = ImageFolder(data_path/'train', transform=train_transform)\n",
        "img_train_data, img_val_data, = torch.utils.data.random_split(img_dataset, [11700,2930])\n",
        "\n",
        "full_train_loader = torch.utils.data.DataLoader(img_train_data,\n",
        "                                                batch_size=batch_size,\n",
        "                                                num_workers=2,\n",
        "                                                worker_init_fn=seed_worker,\n",
        "                                                generator=g)\n",
        "full_val_loader = torch.utils.data.DataLoader(img_val_data,\n",
        "                                              batch_size=1000,\n",
        "                                              num_workers=4,\n",
        "                                              worker_init_fn=seed_worker,\n",
        "                                              generator=g)\n",
        "\n",
        "test_transform = transforms.Compose([\n",
        "     transforms.ToTensor(),\n",
        "     transforms.Normalize((0.5, 0.5, 0.5), (0.5, 0.5, 0.5))    # [TO-DO]\n",
        "     ])\n",
        "img_test_dataset = ImageFolder(data_path/'val', transform=test_transform)\n",
        "# img_test_loader = DataLoader(img_test_dataset, batch_size=batch_size,shuffle=False, num_workers=1)\n",
        "classes = ('cat', 'dog', 'wild')"
      ],
      "execution_count": null,
      "outputs": []
    },
    {
      "cell_type": "code",
      "metadata": {
        "id": "8tpnD54isEk4"
      },
      "source": [
        "args = {\n",
        "    'test_batch_size': 1000,\n",
        "    'epochs': 350,\n",
        "    'batch_size': 32,\n",
        "    'momentum': 0.99,\n",
        "    'no_cuda': False\n",
        "}\n",
        "\n",
        "lr = [5e-4, 1e-3, 5e-3]\n",
        "acc_dict = {}\n",
        "\n",
        "for i in range(len(lr)):\n",
        "    model = AnimalNet()\n",
        "    args['lr'] = lr[i]\n",
        "    val_acc, train_acc, param_norm,_,_ = main(args,\n",
        "                                              model,\n",
        "                                              train_loader,\n",
        "                                              val_loader,\n",
        "                                              img_test_dataset)\n",
        "    acc_dict['val_'+str(i)] = val_acc\n",
        "    acc_dict['train_'+str(i)] = train_acc\n",
        "    acc_dict['param_norm'+str(i)] = param_norm"
      ],
      "execution_count": null,
      "outputs": []
    },
    {
      "cell_type": "code",
      "metadata": {
        "cellView": "form",
        "id": "lvOt8SptsEk4"
      },
      "source": [
        "#@markdown #### Plot Train and Validation accuracy (Run me)\n",
        "plt.figure(figsize=(8, 6))\n",
        "plt.plot(acc_dict['val_0'], linestyle='dashed',label='lr = 5e-4 - validation', c = 'blue')\n",
        "plt.plot(acc_dict['train_0'],label = '5e-4 - train', c = 'blue')\n",
        "plt.plot(acc_dict['val_1'], linestyle='dashed',label='lr = 1e-3 - validation', c = 'green')\n",
        "plt.plot(acc_dict['train_1'],label='1e-3 - train', c = 'green')\n",
        "plt.plot(acc_dict['val_2'], linestyle='dashed',label='lr = 5e-3 - validation', c = 'purple')\n",
        "plt.plot(acc_dict['train_2'],label = '5e-3 - train', c = 'purple')\n",
        "plt.title('Optimal Learning Rate')\n",
        "plt.ylabel('Accuracy (%)')\n",
        "plt.xlabel('Epoch')\n",
        "print('Maximum Test Accuracy obtained with lr = 5e-4: '+str(max(acc_dict['val_0'])))\n",
        "print('Maximum Test Accuracy obtained with lr = 1e-3: '+str(max(acc_dict['val_1'])))\n",
        "print('Maximum Test Accuracy obtained with lr = 5e-3: '+str(max(acc_dict['val_2'])))\n",
        "plt.legend()\n",
        "plt.show()"
      ],
      "execution_count": null,
      "outputs": []
    },
    {
      "cell_type": "code",
      "metadata": {
        "cellView": "form",
        "id": "VzIFLdvTsEk4"
      },
      "source": [
        "#@markdown #### Plot parametric norms (Run me)\n",
        "plt.figure(figsize=(8, 6))\n",
        "plt.plot(acc_dict['param_norm0'],label='lr = 5e-4',c='blue')\n",
        "plt.plot(acc_dict['param_norm1'],label = 'lr = 1e-3',c='green')\n",
        "plt.plot(acc_dict['param_norm2'],label ='lr = 5e-3', c='red')\n",
        "plt.legend()\n",
        "plt.xlabel('epoch')\n",
        "plt.ylabel('parameter norms')\n",
        "plt.show()"
      ],
      "execution_count": null,
      "outputs": []
    },
    {
      "cell_type": "markdown",
      "metadata": {
        "id": "JsHYj5EGsEk4"
      },
      "source": [
        "In the model above, we observe something different from what we expected. Why do you think this is happening?"
      ]
    },
    {
      "cell_type": "markdown",
      "metadata": {
        "id": "FnrX3I-YsEk5"
      },
      "source": [
        "---\n",
        "# Section 5: Hyperparameter Tuning\n"
      ]
    },
    {
      "cell_type": "code",
      "metadata": {
        "cellView": "form",
        "id": "mAVl7HOGsEk5"
      },
      "source": [
        "#@title Video 5: Tuning Methods\n",
        "from ipywidgets import widgets\n",
        "\n",
        "out2 = widgets.Output()\n",
        "with out2:\n",
        "  from IPython.display import IFrame\n",
        "  class BiliVideo(IFrame):\n",
        "    def __init__(self, id, page=1, width=400, height=300, **kwargs):\n",
        "      self.id=id\n",
        "      src = \"https://player.bilibili.com/player.html?bvid={0}&page={1}\".format(id, page)\n",
        "      super(BiliVideo, self).__init__(src, width, height, **kwargs)\n",
        "\n",
        "  video = BiliVideo(id=f\"\", width=854, height=480, fs=1)\n",
        "  print(\"Video available at https://www.bilibili.com/video/{0}\".format(video.id))\n",
        "  display(video)\n",
        "\n",
        "out1 = widgets.Output()\n",
        "with out1:\n",
        "  from IPython.display import YouTubeVideo\n",
        "  video = YouTubeVideo(id=f\"ly5hwbpx-w\", width=854, height=480, fs=1, rel=0)\n",
        "  print(\"Video available at https://youtube.com/watch?v=\" + video.id)\n",
        "  display(video)\n",
        "\n",
        "out = widgets.Tab([out1, out2])\n",
        "out.set_title(0, 'Youtube')\n",
        "out.set_title(1, 'Bilibili')\n",
        "\n",
        "display(out)"
      ],
      "execution_count": null,
      "outputs": []
    },
    {
      "cell_type": "markdown",
      "metadata": {
        "id": "n4WcogNrsEk5"
      },
      "source": [
        "\n",
        "\n",
        "Hyper-Parameter tuning is often difficult and time consuming.  It is a key part of training any Deep Learning model to give good generalization. There are a few techniques that we can use to guide us during the search. \n",
        "\n",
        "\n",
        "\n",
        "*   Grid Search: Try all possible combinations of hyperparameters\n",
        "*   Random Search: Randomly try different combinations of hyperparameters\n",
        "*   Coordinate-wise Gradient Descent: Start at one set of hyperparameters and try changing one at a time, accept any changes that reduce your validation error\n",
        "*   Bayesian Optimization/ Auto ML:  Start from a set of hyperparameters that have worked well on a similar problem, and then do some sort of local exploration (e.g. gradient descent) from there.\n",
        "\n",
        "There are lots of choices, like what range to explore over, which parameter to optimize first, etc. Some hyperparameters don’t matter much (people use a dropout of either 0.5 or 0, but not much else).  Others can matter a lot more (e.g. size and depth of the neural net). The key is to see what worked on similar problems.\n",
        "\n",
        "One can automate the process of tuning the network Architecture using \"Neural Architecture Search\", which designs new architectures using a few building blocks (Linear, Convolutional, Convolution Layers, etc.) and optimizes the design based on performance using a wide range of techniques such as Grid Search, Reinforcement Learning, GD, Evolutionary Algorithms, etc. This obviously requires very high computer power. Read this [article](https://lilianweng.github.io/lil-log/2020/08/06/neural-architecture-search.html) to learn more about NAS.    \n"
      ]
    },
    {
      "cell_type": "markdown",
      "metadata": {
        "id": "nDRwsDgcsEk5"
      },
      "source": [
        "Which regularization technique today do you think had the biggest effect on the network? Why might do you think so? Can you apply all of the regularization methods on the same network?"
      ]
    },
    {
      "cell_type": "markdown",
      "metadata": {
        "id": "p-3mbvhMsEk5"
      },
      "source": [
        "---\n",
        "# Section 6: Adversarial  Attacks\n"
      ]
    },
    {
      "cell_type": "code",
      "metadata": {
        "cellView": "form",
        "id": "QJNbMpLAsEk5"
      },
      "source": [
        "#@title Video 6: Adversarial Attacks\n",
        "from ipywidgets import widgets\n",
        "\n",
        "out2 = widgets.Output()\n",
        "with out2:\n",
        "  from IPython.display import IFrame\n",
        "  class BiliVideo(IFrame):\n",
        "    def __init__(self, id, page=1, width=400, height=300, **kwargs):\n",
        "      self.id=id\n",
        "      src = \"https://player.bilibili.com/player.html?bvid={0}&page={1}\".format(id, page)\n",
        "      super(BiliVideo, self).__init__(src, width, height, **kwargs)\n",
        "\n",
        "  video = BiliVideo(id=f\"\", width=854, height=480, fs=1)\n",
        "  print(\"Video available at https://www.bilibili.com/video/{0}\".format(video.id))\n",
        "  display(video)\n",
        "\n",
        "out1 = widgets.Output()\n",
        "with out1:\n",
        "  from IPython.display import YouTubeVideo\n",
        "  video = YouTubeVideo(id=f\"2e-PxxlGfpM\", width=854, height=480, fs=1, rel=0)\n",
        "  print(\"Video available at https://youtube.com/watch?v=\" + video.id)\n",
        "  display(video)\n",
        "\n",
        "out = widgets.Tab([out1, out2])\n",
        "out.set_title(0, 'Youtube')\n",
        "out.set_title(1, 'Bilibili')\n",
        "\n",
        "display(out)"
      ],
      "execution_count": null,
      "outputs": []
    },
    {
      "cell_type": "markdown",
      "metadata": {
        "id": "xpsiELiEsEk5"
      },
      "source": [
        "Designing perturbations to the input data to trick a machine learning model is called an \"adversarial attack\". These attacks are an inevitable consequence of learning in high dimensional space with complex decision boundaries. Depending on the application, these attacks can be very dangerous.\n",
        "\n",
        "![Adversarial Examples of a Stop Sign](https://media.springernature.com/lw685/springer-static/image/art%3A10.1186%2Fs13638-020-01775-5/MediaObjects/13638_2020_1775_Fig1_HTML.png?as=webp)\n",
        "\n",
        "Hence, it is important for us to build models which can defend against such attcks. One possible way to do it is by regularizing the networks, which smooths the decision boundaries. A few ways of building models robust to such attachs are:\n",
        "\n",
        "\n",
        "\n",
        "*   [Defensive Distillation](https://deepai.org/machine-learning-glossary-and-terms/defensive-distillation) : Models trained via distillation are less prone to such attacks as they are trained on soft labels as there is an element of randomness in the training process.\n",
        "*   [Feature Squeezing](https://evademl.org/squeezing/): Identifies adversarial attacks for on-line classifiers whose model is being used by comparing model's perdiction before and after squeezing the input. \n",
        "* [SGD](https://arxiv.org/abs/1706.06083) You can also pick weight to minimize what the adversary is trying to maximize via SGD.\n",
        "\n",
        "In the optional supplemental project, you can design an attack and defend your model against it using regularization techniques you learned this week. \n"
      ]
    },
    {
      "cell_type": "markdown",
      "metadata": {
        "id": "-8laAA2tsEk6"
      },
      "source": [
        "---\n",
        "# Optional Supplements\n",
        "\n",
        "1.   [Understanding Generalization](https://docs.google.com/document/d/1XOaTXYBleQlDNFM1-t512RHfJXRwA4-LIejuBA6pbLY/edit)\n",
        "2.   [Adversarial Attacks](https://)"
      ]
    }
  ]
}