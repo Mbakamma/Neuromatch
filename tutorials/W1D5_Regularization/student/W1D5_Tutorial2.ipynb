{
 "cells": [
  {
   "cell_type": "markdown",
   "metadata": {
    "colab_type": "text",
    "id": "view-in-github"
   },
   "source": [
    "<a href=\"https://colab.research.google.com/github/NeuromatchAcademy/course-content-dl/blob/main/tutorials/W1D5_Regularization/student/W1D5_Tutorial2.ipynb\" target=\"_parent\"><img src=\"https://colab.research.google.com/assets/colab-badge.svg\" alt=\"Open In Colab\"/></a>"
   ]
  },
  {
   "cell_type": "markdown",
   "metadata": {},
   "source": [
    "\n",
    "# Neuromatch Academy: Week 1, Day 5, Tutorial 2\n",
    "# Regularization\n",
    "\n",
    "__Content creators:__ Lyle Ungar, Ravi Teja Konkimalla, Mohitrajhu Lingan Kumaraian, Kevin Machado Gamboa, Kelson Shilling-Scrivo\n",
    "\n",
    "__Content reviewers:__ Piyush Chauhan, Kelson Shilling-Scrivo\n",
    "\n",
    "__Content editors:__ Roberto Guidotti\n",
    "\n",
    "__Production editors:__ Saeed Salehi, Spiros Chavlis"
   ]
  },
  {
   "cell_type": "markdown",
   "metadata": {},
   "source": [
    "---\n",
    "# Tutorial Objectives\n",
    "\n",
    "1.   Big ANNs are efficient universal approximators due to adaptive basis functions\n",
    "2.   ANN’s memorize some but generalize well\n",
    "3.   **Regularization as shrinkage of overparameterized models: L1, L2, early stopping**\n",
    "4. **Regularization by Dropout**\n",
    "5. **Regularization by Data Augmentation**\n",
    "6. **Perils of Hyper-Parameter Tuning**\n",
    "7. **Rethinking generalization**"
   ]
  },
  {
   "cell_type": "code",
   "execution_count": null,
   "metadata": {
    "cellView": "form",
    "colab": {
     "base_uri": "https://localhost:8080/",
     "height": 591
    },
    "outputId": "15a43cb9-08f4-46f3-8cef-184f2095b13c"
   },
   "outputs": [],
   "source": [
    "#@markdown Tutorial slides\n",
    "\n",
    "#@markdown **Do not read them now.**\n",
    "# you should link the slides for all tutorial videos here (we will store pdfs on osf)\n",
    "\n",
    "from IPython.display import HTML\n",
    "HTML('<iframe src=\"https://docs.google.com/presentation/d/1N9aguIPiBSjzo0ToqPi5uwwG8ChY6_E3/embed?start=false&loop=false&delayms=3000\" frameborder=\"0\" width=\"960\" height=\"569\" allowfullscreen=\"true\" mozallowfullscreen=\"true\" webkitallowfullscreen=\"true\"></iframe>')"
   ]
  },
  {
   "cell_type": "markdown",
   "metadata": {},
   "source": [
    "---\n",
    "# Setup\n",
    "Note that some of the code for today can take up to an hour to run. We have therefore \"hidden\" that code and shown the resulting outputs.\n"
   ]
  },
  {
   "cell_type": "markdown",
   "metadata": {},
   "source": [
    "**Ensure you're running a GPU notebook:**\n",
    "From \"Runtime\" in the drop-down menu above, click \"Change runtime type\". Ensure that \"Hardware Accelerator\" says \"GPU\".\n",
    "\n",
    "**Ensure you can save:** From \"File\", click \"Save a copy in Drive\""
   ]
  },
  {
   "cell_type": "code",
   "execution_count": null,
   "metadata": {
    "cellView": "form"
   },
   "outputs": [],
   "source": [
    "#@title Imports\n",
    "# Imports\n",
    "from __future__ import print_function\n",
    "import torch\n",
    "import pathlib\n",
    "import random\n",
    "import torch.nn as nn\n",
    "import torch.nn.functional as F\n",
    "import torch.optim as optim\n",
    "from torchvision import datasets, transforms\n",
    "from torchvision.datasets import ImageFolder\n",
    "from torch.utils.data import DataLoader, TensorDataset\n",
    "import torch.nn.utils.prune as prune\n",
    "from torch.optim.lr_scheduler import StepLR\n",
    "import time\n",
    "import numpy as np\n",
    "import matplotlib.pyplot as plt\n",
    "import matplotlib.animation as animation\n",
    "import copy\n",
    "from tqdm.auto import tqdm\n",
    "from IPython.display import HTML, display"
   ]
  },
  {
   "cell_type": "code",
   "execution_count": null,
   "metadata": {
    "cellView": "form"
   },
   "outputs": [],
   "source": [
    "# @title Figure Settings\n",
    "import ipywidgets as widgets\n",
    "\n",
    "%matplotlib inline\n",
    "%config InlineBackend.figure_format = 'retina'\n",
    "plt.style.use(\"https://raw.githubusercontent.com/NeuromatchAcademy/course-content/master/nma.mplstyle\")"
   ]
  },
  {
   "cell_type": "code",
   "execution_count": null,
   "metadata": {
    "cellView": "form"
   },
   "outputs": [],
   "source": [
    "# @title Loading Animal Faces data\n",
    "%%capture\n",
    "!rm -r AnimalFaces32x32/\n",
    "!git clone https://github.com/arashash/AnimalFaces32x32\n",
    "!rm -r afhq/\n",
    "!unzip ./AnimalFaces32x32/afhq_32x32.zip"
   ]
  },
  {
   "cell_type": "code",
   "execution_count": null,
   "metadata": {
    "cellView": "form"
   },
   "outputs": [],
   "source": [
    "# @title Loading Animal Faces Randomized data\n",
    "%%capture\n",
    "!rm -r Animal_faces_random/\n",
    "!git clone https://github.com/Ravi3191/Animal_faces_random.git\n",
    "!rm -r afhq_random_32x32/\n",
    "!unzip ./Animal_faces_random/afhq_random_32x32.zip\n",
    "!rm -r afhq_10_32x32/\n",
    "!unzip ./Animal_faces_random/afhq_10_32x32.zip"
   ]
  },
  {
   "cell_type": "code",
   "execution_count": null,
   "metadata": {
    "cellView": "form"
   },
   "outputs": [],
   "source": [
    "#@title Seeding for Reproducibility\n",
    "seed = 90108\n",
    "random.seed(seed)\n",
    "np.random.seed(seed)\n",
    "torch.manual_seed(seed)\n",
    "torch.cuda.manual_seed(seed)\n",
    "torch.cuda.manual_seed_all(seed)\n",
    "torch.backends.cudnn.deterministic = True\n",
    "torch.backends.cudnn.benchmark = False\n",
    "torch.backends.cudnn.enabled = False\n",
    "torch.torch.use_deterministic_algorithms(True)\n",
    "def seed_worker(worker_id):\n",
    "    worker_seed = seed % (worker_id+1)\n",
    "    np.random.seed(worker_seed)\n",
    "    random.seed(worker_seed)"
   ]
  },
  {
   "cell_type": "code",
   "execution_count": null,
   "metadata": {
    "cellView": "form"
   },
   "outputs": [],
   "source": [
    "# @title Plotting functions\n",
    "def imshow(img):\n",
    "    img = img / 2 + 0.5     # unnormalize\n",
    "    npimg = img.numpy()\n",
    "    plt.imshow(np.transpose(npimg, (1, 2, 0)))\n",
    "    plt.axis(False)\n",
    "    plt.show()\n",
    "\n",
    "def plot_weights(norm, labels, ws, title='Weight Size Measurement'):\n",
    "\n",
    "  plt.figure(figsize=[8,6])\n",
    "  plt.title(title)\n",
    "  plt.ylabel('Frobenius Norm Value')\n",
    "  plt.xlabel('Model Layers')\n",
    "  plt.bar(labels, ws)\n",
    "  plt.axhline(y=norm, linewidth=1, color='r', ls='--', label='Total Model F-Norm')\n",
    "  plt.legend()\n",
    "  plt.show()"
   ]
  },
  {
   "cell_type": "code",
   "execution_count": null,
   "metadata": {
    "cellView": "form"
   },
   "outputs": [],
   "source": [
    "# @title Helper functions\n",
    "\n",
    "##Network Class - Animal Faces\n",
    "class Animal_Net(nn.Module):\n",
    "  def __init__(self):\n",
    "    torch.manual_seed(104)\n",
    "    super(Animal_Net, self).__init__()\n",
    "    self.fc1 = nn.Linear(3*32*32, 128)\n",
    "    self.fc2 = nn.Linear(128, 32)\n",
    "    self.fc3 = nn.Linear(32, 3)\n",
    "\n",
    "  def forward(self, x):\n",
    "    x = x.view(x.shape[0],-1)\n",
    "    x = F.relu(self.fc1(x))\n",
    "    x = F.relu(self.fc2(x))\n",
    "    x = self.fc3(x)\n",
    "    output = F.log_softmax(x, dim=1)\n",
    "    return output\n",
    "\n",
    "\n",
    "def train(args, model, device, train_loader, optimizer, epoch,reg_function1=None,reg_function2=None,criterion=F.nll_loss):\n",
    "  \"\"\"\n",
    "  Trains the current inpur model using the data\n",
    "  from Train_loader and Updates parameters for a single pass\n",
    "  \"\"\"\n",
    "  model.train()\n",
    "  for batch_idx, (data, target) in enumerate(train_loader):\n",
    "    data, target = data.to(device), target.to(device)\n",
    "    optimizer.zero_grad()\n",
    "    output = model(data)\n",
    "    if reg_function1 is None:\n",
    "      loss = criterion(output, target)\n",
    "    elif reg_function2 is None:\n",
    "      loss = criterion(output, target)+args['lambda']*reg_function1(model)\n",
    "    else:\n",
    "      loss = criterion(output, target)+args['lambda1']*reg_function1(model)+args['lambda2']*reg_function2(model)\n",
    "    loss.backward()\n",
    "    optimizer.step()\n",
    "\n",
    "\n",
    "def test(model, device, test_loader, loader = 'Test',criterion=F.nll_loss):\n",
    "  \"\"\"\n",
    "  Tests the current Model\n",
    "  \"\"\"\n",
    "  model.eval()\n",
    "  test_loss = 0\n",
    "  correct = 0\n",
    "  with torch.no_grad():\n",
    "    for data, target in test_loader:\n",
    "      data, target = data.to(device), target.to(device)\n",
    "      output = model(data)\n",
    "      test_loss += criterion(output, target, reduction='sum').item()  # sum up batch loss\n",
    "      pred = output.argmax(dim=1, keepdim=True)  # get the index of the max log-probability\n",
    "      correct += pred.eq(target.view_as(pred)).sum().item()\n",
    "\n",
    "  test_loss /= len(test_loader.dataset)\n",
    "  return 100. * correct / len(test_loader.dataset)\n",
    "\n",
    "\n",
    "def main(args, model,train_loader,val_loader,test_data,reg_function1=None,reg_function2=None,criterion=F.nll_loss):\n",
    "  \"\"\"\n",
    "  Trains the model with train_loader and tests the learned model using val_loader\n",
    "  \"\"\"\n",
    "\n",
    "  use_cuda = not args['no_cuda'] and torch.cuda.is_available()\n",
    "  device = torch.device('cuda' if use_cuda else 'cpu')\n",
    "\n",
    "  model = model.to(device)\n",
    "  optimizer = optim.SGD(model.parameters(), lr=args['lr'], momentum=args['momentum'])\n",
    "\n",
    "  val_acc_list, train_acc_list,param_norm_list = [], [], []\n",
    "  for epoch in tqdm(range(args['epochs'])):\n",
    "    train(args, model, device, train_loader, optimizer, epoch,reg_function1=reg_function1,reg_function2=reg_function2)\n",
    "    train_acc = test(model,device,train_loader, 'Train')\n",
    "    val_acc = test(model,device,val_loader, 'Val')\n",
    "    param_norm = calculate_frobenius_norm(model)\n",
    "    train_acc_list.append(train_acc)\n",
    "    val_acc_list.append(val_acc)\n",
    "    param_norm_list.append(param_norm)\n",
    "\n",
    "  return val_acc_list, train_acc_list, param_norm_list, model, 0\n",
    "\n",
    "\n",
    "def calculate_frobenius_norm(model):\n",
    "\n",
    "  norm = 0.0\n",
    "\n",
    "  # Sum the square of all parameters\n",
    "  for param in model.parameters():\n",
    "      norm += torch.sum(param**2)\n",
    "\n",
    "  # Take a square root of the sum of squares of all the parameters\n",
    "  norm = norm**0.5\n",
    "  return norm\n",
    "\n",
    "\n",
    "def calculate_frobenius_norm(model):\n",
    "    norm = 0.0\n",
    "\n",
    "    for name,param in model.named_parameters():\n",
    "        norm += torch.norm(param).data**2\n",
    "    return norm**0.5\n",
    "\n",
    "\n",
    "class Net(nn.Module):\n",
    "  def __init__(self):\n",
    "    super(Net, self).__init__()\n",
    "\n",
    "    self.fc1 = nn.Linear(1, 300)\n",
    "    self.fc2 = nn.Linear(300, 500)\n",
    "    self.fc3 = nn.Linear(500, 1)\n",
    "\n",
    "  def forward(self, x):\n",
    "    x = F.leaky_relu(self.fc1(x))\n",
    "    x = F.leaky_relu(self.fc2(x))\n",
    "    output = self.fc3(x)\n",
    "    return output\n",
    "\n",
    "# # Network Class - Animal Faces\n",
    "class Big_Animal_Net(nn.Module):\n",
    "  def __init__(self):\n",
    "    torch.manual_seed(104)\n",
    "    super(Big_Animal_Net, self).__init__()\n",
    "    self.fc1 = nn.Linear(3*32*32, 124)\n",
    "    self.fc2 = nn.Linear(124, 64)\n",
    "    self.fc3 = nn.Linear(64, 3)\n",
    "\n",
    "  def forward(self, x):\n",
    "    x = x.view(x.shape[0],-1)\n",
    "    x = F.leaky_relu(self.fc1(x))\n",
    "    x = F.leaky_relu(self.fc2(x))\n",
    "    x = self.fc3(x)\n",
    "    output = F.log_softmax(x, dim=1)\n",
    "    return output\n",
    "\n",
    "\n",
    "def Visualize_data(dataloader):\n",
    "\n",
    "  for idx, (data,label) in enumerate(dataloader):\n",
    "    plt.figure(idx)\n",
    "    # Choose the datapoint you would like to visualize\n",
    "    index = 22\n",
    "\n",
    "    # choose that datapoint using index and permute the dimensions\n",
    "    # and bring the pixel values between [0,1]\n",
    "    data = data[index].permute(1, 2, 0) * \\\n",
    "           torch.tensor([0.5, 0.5, 0.5]) + \\\n",
    "           torch.tensor([0.5, 0.5, 0.5])\n",
    "\n",
    "    # Convert the torch tensor into numpy\n",
    "    data = data.numpy()\n",
    "\n",
    "    plt.imshow(data)\n",
    "    plt.axis(False)\n",
    "    image_class = classes[label[index].item()]\n",
    "    print(f'The image belongs to : {image_class}')\n",
    "\n",
    "  plt.show()\n",
    "\n",
    "\n",
    "def early_stopping_main(args, model, train_loader, val_loader, test_data):\n",
    "\n",
    "  use_cuda = not args['no_cuda'] and torch.cuda.is_available()\n",
    "  device = torch.device('cuda' if use_cuda else 'cpu')\n",
    "\n",
    "  model = model.to(device)\n",
    "  optimizer = optim.SGD(model.parameters(), lr=args['lr'], momentum=args['momentum'])\n",
    "\n",
    "  best_acc  = 0.0\n",
    "  best_epoch = 0\n",
    "\n",
    "  # Number of successive epochs that you want to wait before stopping training process\n",
    "  patience = 20\n",
    "\n",
    "  # Keps track of number of epochs during which the val_acc was less than best_acc\n",
    "  wait = 0\n",
    "\n",
    "  val_acc_list, train_acc_list = [], []\n",
    "  for epoch in tqdm(range(args['epochs'])):\n",
    "    train(args, model, device, train_loader, optimizer, epoch)\n",
    "    train_acc = test(model,device,train_loader, 'Train')\n",
    "    val_acc = test(model,device,val_loader, 'Val')\n",
    "    if (val_acc > best_acc):\n",
    "      best_acc = val_acc\n",
    "      best_epoch = epoch\n",
    "      best_model = copy.deepcopy(model)\n",
    "      wait = 0\n",
    "    else:\n",
    "      wait += 1\n",
    "    if (wait > patience):\n",
    "      print('early stopped on epoch:',epoch)\n",
    "      break\n",
    "    train_acc_list.append(train_acc)\n",
    "    val_acc_list.append(val_acc)\n",
    "\n",
    "  return val_acc_list, train_acc_list, best_model, best_epoch"
   ]
  },
  {
   "cell_type": "code",
   "execution_count": null,
   "metadata": {
    "cellView": "form"
   },
   "outputs": [],
   "source": [
    "#@title Dataloaders for the Dataset\n",
    "##Dataloaders for the Dataset\n",
    "batch_size = 128\n",
    "classes = ('cat', 'dog', 'wild')\n",
    "\n",
    "train_transform = transforms.Compose([\n",
    "     transforms.ToTensor(),\n",
    "     transforms.Normalize((0.5, 0.5, 0.5), (0.5, 0.5, 0.5))\n",
    "     ])\n",
    "data_path = pathlib.Path('.')/'afhq' # using pathlib to be compatible with all OS's\n",
    "img_dataset = ImageFolder(data_path/'train', transform=train_transform)\n",
    "\n",
    "\n",
    "####################################################\n",
    "\n",
    "##Dataloaders for the  Original Dataset\n",
    "\n",
    "\n",
    "img_train_data, img_val_data,_ = torch.utils.data.random_split(img_dataset, [100,100,14430])\n",
    "\n",
    "#Creating train_loader and Val_loader\n",
    "train_loader = torch.utils.data.DataLoader(img_train_data,batch_size=batch_size,worker_init_fn=seed_worker)\n",
    "val_loader = torch.utils.data.DataLoader(img_val_data,batch_size=1000,worker_init_fn=seed_worker)\n",
    "\n",
    "#creating test dataset\n",
    "test_transform = transforms.Compose([\n",
    "     transforms.ToTensor(),\n",
    "     transforms.Normalize((0.5, 0.5, 0.5), (0.5, 0.5, 0.5))\n",
    "     ])\n",
    "img_test_dataset = ImageFolder(data_path/'val', transform=test_transform)\n",
    "\n",
    "\n",
    "####################################################\n",
    "\n",
    "##Dataloaders for the  Random Dataset\n",
    "\n",
    "#splitting randomized data into training and validation data\n",
    "data_path = pathlib.Path('.')/'afhq_random_32x32/afhq_random' # using pathlib to be compatible with all OS's\n",
    "img_dataset = ImageFolder(data_path/'train', transform=train_transform)\n",
    "random_img_train_data, random_img_val_data,_ = torch.utils.data.random_split(img_dataset, [100,100,14430])\n",
    "\n",
    "#Randomized train and validation dataloader\n",
    "rand_train_loader = torch.utils.data.DataLoader(random_img_train_data,\n",
    "                                                batch_size=batch_size,num_workers = 0,\n",
    "                                                worker_init_fn=seed_worker)\n",
    "rand_val_loader = torch.utils.data.DataLoader(random_img_val_data,\n",
    "                                              batch_size=1000,\n",
    "                                              num_workers = 0,\n",
    "                                              worker_init_fn=seed_worker)\n",
    "\n",
    "####################################################\n",
    "\n",
    "##Dataloaders for the Partially Random Dataset\n",
    "\n",
    "#Splitting data between training and validation dataset for partially randomized data\n",
    "data_path = pathlib.Path('.')/'afhq_10_32x32/afhq_10' # using pathlib to be compatible with all OS's\n",
    "img_dataset = ImageFolder(data_path/'train', transform=train_transform)\n",
    "partially_random_train_data, partially_random_val_data,_ = torch.utils.data.random_split(img_dataset, [100,100,14430])\n",
    "\n",
    "#Training and Validation loader for partially randomized data\n",
    "partial_rand_train_loader = torch.utils.data.DataLoader(partially_random_train_data,\n",
    "                                                        batch_size=batch_size,num_workers = 0,\n",
    "                                                        worker_init_fn=seed_worker)\n",
    "partial_rand_val_loader = torch.utils.data.DataLoader(partially_random_val_data,\n",
    "                                                      batch_size=1000,\n",
    "                                                      num_workers = 0,\n",
    "                                                      worker_init_fn=seed_worker)"
   ]
  },
  {
   "cell_type": "markdown",
   "metadata": {},
   "source": [
    "---\n",
    "# Section 1: L1 and L2 Regularization\n"
   ]
  },
  {
   "cell_type": "code",
   "execution_count": null,
   "metadata": {
    "cellView": "form",
    "colab": {
     "base_uri": "https://localhost:8080/",
     "height": 519
    },
    "outputId": "4fbcc9d6-c66e-4a29-b715-cb1c6a49563f"
   },
   "outputs": [],
   "source": [
    "#@title Video : L1 and L2 regression\n",
    "try: t5;\n",
    "except NameError: t5=time.time()\n",
    "\n",
    "from IPython.display import YouTubeVideo\n",
    "video = YouTubeVideo(id=\"OLl2nzOeQ68\", width=854, height=480, fs=1)\n",
    "print(\"Video available at https://youtube.com/watch?v=\" + video.id)\n",
    "\n",
    "video"
   ]
  },
  {
   "cell_type": "markdown",
   "metadata": {},
   "source": [
    "Some of you might have already come across L1 and L2 regularization before in other courses. L1 and L2 are the most common types of regularization. These update the general cost function by adding another term known as the regularization term.\n",
    "\n",
    "***Cost function = Loss (say, binary cross entropy) + Regularization term***\n",
    "\n",
    "This regularization term makes the parameters smaller, giving simpler models that will overfit less."
   ]
  },
  {
   "cell_type": "markdown",
   "metadata": {},
   "source": [
    "Discuss among your teammates whether the above assumption is good or bad?"
   ]
  },
  {
   "cell_type": "markdown",
   "metadata": {},
   "source": [
    "### Unregularized Model"
   ]
  },
  {
   "cell_type": "code",
   "execution_count": null,
   "metadata": {
    "cellView": "form"
   },
   "outputs": [],
   "source": [
    "#@markdown #### Dataloaders for Regularization\n",
    "data_path = pathlib.Path('.')/'afhq' # using pathlib to be compatible with all OS's\n",
    "img_dataset = ImageFolder(data_path/'train', transform=train_transform)\n",
    "\n",
    "#Splitting dataset\n",
    "reg_train_data, reg_val_data,_ = torch.utils.data.random_split(img_dataset, [30,100,14500])\n",
    "\n",
    "#Creating train_loader and Val_loader\n",
    "reg_train_loader = torch.utils.data.DataLoader(reg_train_data,batch_size=batch_size,worker_init_fn=seed_worker)\n",
    "reg_val_loader = torch.utils.data.DataLoader(reg_val_data,batch_size=1000,worker_init_fn=seed_worker)"
   ]
  },
  {
   "cell_type": "markdown",
   "metadata": {},
   "source": [
    "Now let's train a model without any regularization and keep it aside as our benchmark for this section."
   ]
  },
  {
   "cell_type": "code",
   "execution_count": null,
   "metadata": {
    "colab": {
     "base_uri": "https://localhost:8080/",
     "height": 496,
     "referenced_widgets": [
      "31fa4dfe30b940a4b78ec39261e0d2a2",
      "edba16fed61048ce83ba3ac80c92e1e6",
      "321be0f803724d5ab5393ef17e535638",
      "2285ae811fe24292829ff18c774c2f43",
      "72dbbd0e9aa4477b9a613ccbbfaad9f1",
      "ad5185bb1bb941f2b611105c19a5373f",
      "482a79b9dd864543ac31a998a375d883",
      "976ace8772034afbb804e44852626742"
     ]
    },
    "outputId": "6f8f05c2-dd7b-434b-c0f7-4284117d008e"
   },
   "outputs": [],
   "source": [
    "args = {'epochs': 150,\n",
    "        'lr': 5e-3,\n",
    "        'momentum': 0.99,\n",
    "        'no_cuda': False,\n",
    "        }\n",
    "\n",
    "acc_dict = {}\n",
    "model = Animal_Net()\n",
    "\n",
    "val_acc_unreg, train_acc_unreg,param_norm_unreg,_ ,_ = main(args,\n",
    "                                                            model,\n",
    "                                                            reg_train_loader,\n",
    "                                                            reg_val_loader,\n",
    "                                                            img_test_dataset)\n",
    "\n",
    "##Train and Test accuracy plot\n",
    "plt.figure(figsize=(8, 6))\n",
    "plt.plot(val_acc_unreg, label='Val Accuracy', c='red', ls='dashed')\n",
    "plt.plot(train_acc_unreg, label='Train Accuracy', c='red', ls='solid')\n",
    "plt.axhline(y=max(val_acc_unreg), c='green', ls='dashed')\n",
    "plt.title('Unregularized Model')\n",
    "plt.ylabel('Accuracy (%)')\n",
    "plt.xlabel('Epoch')\n",
    "plt.legend()\n",
    "plt.show()\n",
    "print('maximum Validation Accuracy reached:%f'%max(val_acc_unreg))"
   ]
  },
  {
   "cell_type": "markdown",
   "metadata": {},
   "source": [
    "## Section 1.1: L1 Regularization"
   ]
  },
  {
   "cell_type": "markdown",
   "metadata": {},
   "source": [
    "L1 (or \"LASSO\") Regularization uses a penalty which is the sum of the absolute value of all the weights in the DLN, resulting in the following loss function (L  is the usual Cross Entropy loss):\n",
    "\n",
    "\\begin{equation}\n",
    "L_R=L+λ∑|w^{(r)}_{ij}|\n",
    "\\end{equation}\n",
    "\n",
    "At a high level, L1 Regularization is similar to L2 Regularization since it leads to smaller weights. (You will see the analogy in the next subsection.) It results in the following weight update equation when using Stochastic Gradient Descent (where  sgn  is the sign function, such that  sgn(w)=+1  if  w>0 ,  sgn(w)=−1  if  $w<0$ , and sgn(0)=0 ):\n",
    "\n",
    "\\begin{equation}\n",
    "w^{(r)}_{ij}←w^{(r)}_{ij}−ηλsgn(w^{(r)}_{ij})−η\\frac{\\partial L}{\\partial w_{ij}^{r}} \n",
    "\\end{equation}"
   ]
  },
  {
   "cell_type": "markdown",
   "metadata": {},
   "source": [
    "### Exercise 1: L1_reg\n",
    "\n",
    "Write a function which calculates the L1 norm of all the tensors of a Pytorch model."
   ]
  },
  {
   "cell_type": "code",
   "execution_count": null,
   "metadata": {},
   "outputs": [],
   "source": [
    "def l1_reg(model):\n",
    "  \"\"\"\n",
    "    Inputs: Pytorch model\n",
    "    This function calculates the l1 norm of the all the tensors in the model\n",
    "  \"\"\"\n",
    "  l1 = 0.0\n",
    "  ####################################################################\n",
    "  # Fill in all missing code below (...),\n",
    "  # then remove or comment the line below to test your function\n",
    "  raise NotImplementedError(\"Complete the l1_reg function\")\n",
    "  ####################################################################\n",
    "  for param in model.parameters():\n",
    "    l1 += ...\n",
    "\n",
    "  return l1\n",
    "\n",
    "\n",
    "# # uncomment to test\n",
    "# net = nn.Linear(20, 20)\n",
    "# print(f'L1 norm of the model: {l1_reg(net)}')"
   ]
  },
  {
   "cell_type": "markdown",
   "metadata": {
    "colab": {
     "base_uri": "https://localhost:8080/"
    },
    "colab_type": "text",
    "outputId": "31efd9cb-6a86-4f3e-ce73-b5a90a2e315d"
   },
   "source": [
    "[*Click for solution*](https://github.com/NeuromatchAcademy/course-content-dl/tree/main//tutorials/W1D5_Regularization/solutions/W1D5_Tutorial2_Solution_012b945c.py)\n",
    "\n"
   ]
  },
  {
   "cell_type": "markdown",
   "metadata": {},
   "source": [
    "Now, let's train a classifier which uses L1 regularization. Tune the hyperparameter lambda1 such that the val accuracy is higher than for unregularized model."
   ]
  },
  {
   "cell_type": "code",
   "execution_count": null,
   "metadata": {
    "colab": {
     "base_uri": "https://localhost:8080/",
     "height": 496,
     "referenced_widgets": [
      "6efe4c4d9bd84792b06fccdcad9d95a3",
      "b20fbc901539478f9817be9da8072ef6",
      "d6f1c4527dd04f97938c382d598ea585",
      "70b2b3fa7764491b8d4c593f4d647920",
      "b221ff6eb2ff425abac11dafcb267bfe",
      "49b022945abb4eb2ad744de300ac1740",
      "4362364d3e4143a6b0bac61b122eb0c1",
      "b1be5df305844e5fa2c89d148a5169ff"
     ]
    },
    "outputId": "6a38e70f-3f65-44f1-8220-273ed0bb592a"
   },
   "outputs": [],
   "source": [
    "args = {'epochs': 150,\n",
    "        'lr': 5e-3,\n",
    "        'momentum': 0.99,\n",
    "        'no_cuda': False,\n",
    "        'lambda': 0.0  # <<<<<<<< Tune the hyperparameter lambda\n",
    "        }\n",
    "\n",
    "acc_dict = {}\n",
    "model = Animal_Net()\n",
    "\n",
    "val_acc_l1reg, train_acc_l1reg, param_norm_l1reg, _, _ = main(args,\n",
    "                                                              model,\n",
    "                                                              reg_train_loader,\n",
    "                                                              reg_val_loader,\n",
    "                                                              img_test_dataset,\n",
    "                                                              reg_function1=l1_reg)\n",
    "\n",
    "##Train and Test accuracy plot\n",
    "plt.figure(figsize=(8, 6))\n",
    "plt.plot(val_acc_l1reg, label='Val Accuracy L1 Regularized',\n",
    "         c='red', ls='dashed')\n",
    "plt.plot(train_acc_l1reg, label='Train Accuracy L1 regularized',\n",
    "         c='red', ls='solid')\n",
    "plt.axhline(y=max(val_acc_l1reg), c='green', ls='dashed')\n",
    "plt.title('L1 regularized model')\n",
    "plt.ylabel('Accuracy (%)')\n",
    "plt.xlabel('Epoch')\n",
    "plt.legend()\n",
    "plt.show()\n",
    "print('maximum Validation Accuracy reached:%f'%max(val_acc_l1reg))"
   ]
  },
  {
   "cell_type": "markdown",
   "metadata": {},
   "source": [
    "What value of Lambda worked for L1 Regularization?"
   ]
  },
  {
   "cell_type": "markdown",
   "metadata": {},
   "source": [
    "## Section 1.2: L2 / Ridge Regularization"
   ]
  },
  {
   "cell_type": "markdown",
   "metadata": {},
   "source": [
    "L2 Regularization, sometimes referred to as “Weight Decay”, is widely used. It works by adding a quadratic penalty term to the Cross Entropy Loss Function  L, which results in a new Loss Function  LR  given by:\n",
    "\n",
    "\\begin{equation}\n",
    "LR=L+λ∑(w^{(r)}_{ij})^2\n",
    "\\end{equation}\n",
    "\n",
    "In order to get further insight into L2 Regularization, we investigate its effect on the Gradient Descent based update equations for the weight and bias parameters. Taking the derivative on both sides of the above equation, we obtain\n",
    "\n",
    "\\begin{equation}\n",
    "\\frac{\\partial L_r}{\\partial w^{(r)}_{ij}}=\\frac{\\partial L}{\\partial w^{(r)}_{ij}}+λw^{(r)}_{ij}\n",
    "\\end{equation}\n",
    "Thus the weight update rule becomes:\n",
    "\n",
    "\\begin{equation}\n",
    "w^{(r)}_{ij}←w^{(r)}_{ij}−η\\frac{\\partial L}{\\partial W^{(r)}_{ij}}−ηλw^{(r)}_{ij}=(1−ηλ)w^{(r)}_{ij}−η\\frac{\\partial L}{\\partial w^{(r)}_{ij}}\n",
    "\\end{equation}\n",
    "\n",
    "where, $\\eta$ is learning rate."
   ]
  },
  {
   "cell_type": "markdown",
   "metadata": {},
   "source": [
    "### Exerice 2: L2_reg\n",
    "\n",
    "Write a function which calculates the L2 norm of all the tensors of a Pytorch model. (What did we call this before?)"
   ]
  },
  {
   "cell_type": "code",
   "execution_count": null,
   "metadata": {},
   "outputs": [],
   "source": [
    "def l2_reg(model):\n",
    "\n",
    "  \"\"\"\n",
    "    Inputs: Pytorch model\n",
    "    This function calculates the l2 norm of the all the tensors in the model\n",
    "  \"\"\"\n",
    "\n",
    "  l2 = 0.0\n",
    "  ####################################################################\n",
    "  # Fill in all missing code below (...),\n",
    "  # then remove or comment the line below to test your function\n",
    "  raise NotImplementedError(\"Complete the l2_reg function\")\n",
    "  ####################################################################\n",
    "  for param in model.parameters():\n",
    "    l2 += ...\n",
    "\n",
    "  return l2\n",
    "\n",
    "\n",
    "# # uncomment to test\n",
    "# net = nn.Linear(20, 20)\n",
    "# print(f'L2 norm of the model: {l2_reg(net)}')"
   ]
  },
  {
   "cell_type": "markdown",
   "metadata": {
    "colab": {
     "base_uri": "https://localhost:8080/"
    },
    "colab_type": "text",
    "outputId": "0e764b1b-f10c-4fca-ea6e-94b1dee22dea"
   },
   "source": [
    "[*Click for solution*](https://github.com/NeuromatchAcademy/course-content-dl/tree/main//tutorials/W1D5_Regularization/solutions/W1D5_Tutorial2_Solution_4c7b6778.py)\n",
    "\n"
   ]
  },
  {
   "cell_type": "markdown",
   "metadata": {},
   "source": [
    "Now we'll train a classifier which uses L2 regularization. Tune the hyperparameter lambda1 such that the val accuracy is higher than for unregularized model."
   ]
  },
  {
   "cell_type": "code",
   "execution_count": null,
   "metadata": {
    "colab": {
     "base_uri": "https://localhost:8080/",
     "height": 496,
     "referenced_widgets": [
      "155fdffcf76245ee9c920b682a8af586",
      "da8e87ac0cde4081b2a96407fb90bd29",
      "7545ac2b1c4a42639f130233b72dbbe0",
      "d51fd9ef3b2948e582a3004ad0e00235",
      "2b275d861d8f4a559146b58b6440b1fc",
      "ba46cf9349234bfe9bd5adbdffba7f0c",
      "34e6af1873ad482f894d865bac9b6d9b",
      "58123366cea24e5496afca0b858e0d0b"
     ]
    },
    "outputId": "700d22b6-9170-4ece-ac23-b78fdedc6f4e"
   },
   "outputs": [],
   "source": [
    "args = {'test_batch_size': 1000,\n",
    "        'epochs': 150,\n",
    "        'lr': 5e-3,\n",
    "        'momentum': 0.99,\n",
    "        'no_cuda': False,\n",
    "        'lambda': 0.0  # <<<<<<<< Tune the hyperparameter lambda\n",
    "        }\n",
    "\n",
    "acc_dict = {}\n",
    "model = Animal_Net()\n",
    "\n",
    "val_acc_l2reg, train_acc_l2reg, param_norm_l2reg, model, _ = main(args,\n",
    "                                                                  model,\n",
    "                                                                  train_loader,\n",
    "                                                                  val_loader,\n",
    "                                                                  img_test_dataset,\n",
    "                                                                  reg_function2=l2_reg)\n",
    "\n",
    "##Train and Test accuracy plot\n",
    "plt.figure(figsize=(8, 6))\n",
    "plt.plot(val_acc_l2reg, label='Val Accuracy L2 regularized',\n",
    "         c='red', ls='dashed')\n",
    "plt.plot(train_acc_l2reg, label='Train Accuracy L2 regularized',\n",
    "         c='red', ls='solid')\n",
    "plt.axhline(y=max(val_acc_l2reg), c='green', ls='dashed')\n",
    "plt.title('L2 Regularized Model')\n",
    "plt.ylabel('Accuracy (%)')\n",
    "plt.xlabel('Epoch')\n",
    "plt.legend()\n",
    "plt.show()\n",
    "print('maximum Validation Accuracy reached:%f'%max(val_acc_l2reg))"
   ]
  },
  {
   "cell_type": "markdown",
   "metadata": {},
   "source": [
    "What value of Lambda worked for L2 Regularization?"
   ]
  },
  {
   "cell_type": "code",
   "execution_count": null,
   "metadata": {
    "cellView": "form",
    "colab": {
     "base_uri": "https://localhost:8080/",
     "height": 479,
     "referenced_widgets": [
      "4331a955766b4b2091a917c4e98eb074",
      "2de76af6ce84459b8faf9ffe3692eb78",
      "2c8b86ff6b774a2bbcb932fdc7d7ddc3",
      "473fa3daf3bf45698f7407cb48c45575",
      "67386f6d68854bc8896600a527f6a40b",
      "4b22b0c9941645cf80f4625522599ff2",
      "568f3d13591e49209e4be2f6b085e082",
      "d63d3a9a5ee144269a78a47b3c317d4f"
     ]
    },
    "outputId": "972b6fd0-d7cc-4f3e-a54d-e42eb8c10c4d"
   },
   "outputs": [],
   "source": [
    "#@markdown #### Visualize all of them together (Run Me!)\n",
    "args = {'test_batch_size': 1000,\n",
    "        'epochs': 150,\n",
    "        'lr': 5e-3,\n",
    "        'momentum': 0.99,\n",
    "        'no_cuda': False,\n",
    "        'lambda1': 0.001,\n",
    "        'lambda2': 0.001\n",
    "        }\n",
    "model = Animal_Net()\n",
    "val_acc_l1l2reg, train_acc_l1l2reg, param_norm_l1l2reg, _, _ = main(args,\n",
    "                                                  model,\n",
    "                                                  train_loader,\n",
    "                                                  val_loader,\n",
    "                                                  img_test_dataset,\n",
    "                                                  reg_function1=l1_reg,\n",
    "                                                  reg_function2=l2_reg)\n",
    "\n",
    "plt.figure(figsize=(12, 6))\n",
    "plt.plot(val_acc_l2reg,c='red',ls = 'dashed')\n",
    "plt.plot(train_acc_l2reg,label='L2 regularized',c='red',ls = 'solid')\n",
    "plt.axhline(y=max(val_acc_l2reg),c = 'red',ls = 'dashed')\n",
    "plt.plot(val_acc_l1reg,c='green',ls = 'dashed')\n",
    "plt.plot(train_acc_l1reg,label='L1 regularized',c='green',ls = 'solid')\n",
    "plt.axhline(y=max(val_acc_l1reg),c = 'green',ls = 'dashed')\n",
    "plt.plot(val_acc_unreg,c='blue',ls = 'dashed')\n",
    "plt.plot(train_acc_unreg,label='Unregularized',c='blue',ls = 'solid')\n",
    "plt.axhline(y=max(val_acc_unreg),c = 'blue',ls = 'dashed')\n",
    "plt.plot(val_acc_l1l2reg,c='orange',ls = 'dashed')\n",
    "plt.plot(train_acc_l1l2reg,label='L1+L2 regularized',c='orange',ls = 'solid')\n",
    "plt.axhline(y=max(val_acc_l1l2reg),c = 'orange',ls = 'dashed')\n",
    "\n",
    "plt.title('Unregularized Vs L1-Regularized vs L2-regularized Vs L1+L2 regularized')\n",
    "plt.xlabel('epoch')\n",
    "plt.ylabel('Accuracy(%)')\n",
    "plt.legend()\n",
    "plt.show()"
   ]
  },
  {
   "cell_type": "markdown",
   "metadata": {},
   "source": [
    "Now, let's visualize what these different regularization does to the parameters of the model. We observe the effect by computing the size (technically, the Frobenius norm) of the model parameters"
   ]
  },
  {
   "cell_type": "code",
   "execution_count": null,
   "metadata": {
    "cellView": "form",
    "colab": {
     "base_uri": "https://localhost:8080/",
     "height": 430
    },
    "outputId": "b261415f-d5fb-41f5-e9a6-8ed9d9fda922"
   },
   "outputs": [],
   "source": [
    "#@markdown #### Visualize Norm of the Models (Train Me!)\n",
    "plt.figure(figsize=(8, 6))\n",
    "plt.plot(param_norm_unreg,label='Unregularized',c = 'blue')\n",
    "plt.plot(param_norm_l1reg,label = 'L1 Regularized', c='green')\n",
    "plt.plot(param_norm_l2reg,label='L2 Regularized',c='red')\n",
    "plt.plot(param_norm_l1l2reg,label='L1+L2 Regularized',c='orange')\n",
    "plt.title('Parameter Norm as a function of training Epoch')\n",
    "plt.xlabel('epoch')\n",
    "plt.ylabel('Parameter Norms')\n",
    "plt.legend()\n",
    "plt.show()"
   ]
  },
  {
   "cell_type": "markdown",
   "metadata": {},
   "source": [
    "In the above plots, you should have seen that even after the model acheives 100% train accuracy the val accuracies are fluctuating This suggests that the model is still trying to learn something. Why whould this be the case?"
   ]
  },
  {
   "cell_type": "markdown",
   "metadata": {},
   "source": [
    "---\n",
    "# Section 2: Dropout\n"
   ]
  },
  {
   "cell_type": "code",
   "execution_count": null,
   "metadata": {
    "cellView": "form",
    "colab": {
     "base_uri": "https://localhost:8080/",
     "height": 519
    },
    "outputId": "f9625c0c-2dd3-47bf-d77e-92f06049b29d"
   },
   "outputs": [],
   "source": [
    "#@title Video : Dropout\n",
    "try: t6;\n",
    "except NameError: t6=time.time()\n",
    "\n",
    "from IPython.display import YouTubeVideo\n",
    "video = YouTubeVideo(id=\"a4nX4T-3xsc\", width=854, height=480, fs=1)\n",
    "print(\"Video available at https://youtube.com/watch?v=\" + video.id)\n",
    "\n",
    "video"
   ]
  },
  {
   "cell_type": "markdown",
   "metadata": {},
   "source": [
    "In dropout, we literally drop out (zero out) some neurons during training. Throughout training, on each iteration, standard dropout zeros out some fraction (usually 1/2) of the nodes in each layer before calculating the subsequent layer. Randomly selecting different subsets to dropout introduces noise into the process and reduces overfitting.\n",
    "\n",
    "<center><img src=\"https://d2l.ai/_images/dropout2.svg\" alt=\"Dropout\" width=\"600\"/></center>\n"
   ]
  },
  {
   "cell_type": "markdown",
   "metadata": {},
   "source": [
    "Now let's revisit the toy dataset that we generated above to visualize how the dropout stabilizes training on a noisy dataset. We will slightly modify the architecture we used above to add dropout layers."
   ]
  },
  {
   "cell_type": "code",
   "execution_count": null,
   "metadata": {},
   "outputs": [],
   "source": [
    "##Network Class - 2D\n",
    "class Net(nn.Module):\n",
    "    def __init__(self):\n",
    "        super(Net, self).__init__()\n",
    "\n",
    "        self.fc1 = nn.Linear(1, 300)\n",
    "        self.fc2 = nn.Linear(300, 500)\n",
    "        self.fc3 = nn.Linear(500, 1)\n",
    "        self.dropout1 = nn.Dropout(0.4)\n",
    "        self.dropout2 = nn.Dropout(0.2)\n",
    "\n",
    "    def forward(self, x):\n",
    "        x = F.leaky_relu(self.dropout1(self.fc1(x)))\n",
    "        x = F.leaky_relu(self.dropout2(self.fc2(x)))\n",
    "        output = self.fc3(x)\n",
    "        return output"
   ]
  },
  {
   "cell_type": "code",
   "execution_count": null,
   "metadata": {
    "cellView": "form",
    "colab": {
     "base_uri": "https://localhost:8080/",
     "height": 116,
     "referenced_widgets": [
      "b1a6e506fb3d45b3bfd6143605ef35e3",
      "3efa0690dc4f46d4a7faa1dcdff2784f",
      "201e784ccda046e7b9ca2d0fc7648fb8",
      "cefb8905c4cd4609b426fb9b7b2c6b01",
      "d2c7069db0344c6599b3e8e021d239ec",
      "e126c3759050410e84b323476e032dc6",
      "a577d8d0c6cd41378612828e4c8517a4",
      "c5c0d5a1fda846a995655f6c30d4ac73",
      "b80c2cf99b7241bb9133d992ebb3bdad",
      "515bc3c32adf4b619825e12cd4426458",
      "70ae7de7c3f24f34acfa9701b8e13534",
      "d59938bdf8914deeab1db6d17d20d87c",
      "658e203d7a9d4895aed268efd9c146b5",
      "47824883f05f4a5985b4dcba1a8469a4",
      "02a67c7a30184336b30408c80d38ffd5",
      "5e694e731d2d49f49e684494a6695726"
     ]
    },
    "outputId": "c0e3677d-25bf-46d9-e662-ca468ec23e9a"
   },
   "outputs": [],
   "source": [
    "#@markdown #### Run to train the default network\n",
    "\n",
    "#creating train data\n",
    "X = torch.rand((10,1))\n",
    "X.sort(dim = 0)\n",
    "Y = 2*X + 2*torch.empty((X.shape[0],1)).normal_(mean=0,std=1) #adding small error in the data\n",
    "\n",
    "X = X.unsqueeze_(1)\n",
    "Y = Y.unsqueeze_(1)\n",
    "\n",
    "#creating test dataset\n",
    "X_test = torch.linspace(0, 1, 40)\n",
    "X_test = X_test.reshape((40, 1, 1))\n",
    "\n",
    "#train the network on toy dataset\n",
    "model = Net()\n",
    "criterion = nn.MSELoss()\n",
    "optimizer = optim.Adam(model.parameters(),lr = 1e-4)\n",
    "max_epochs = 10000\n",
    "iters = 0\n",
    "\n",
    "running_predictions = np.empty((40,(int)(max_epochs/500 + 1)))\n",
    "\n",
    "train_loss = []\n",
    "test_loss = []\n",
    "model_norm = []\n",
    "\n",
    "for epoch in tqdm(range(max_epochs)):\n",
    "\n",
    "  #training\n",
    "  model_norm.append(calculate_frobenius_norm(model))\n",
    "  model.train()\n",
    "  optimizer.zero_grad()\n",
    "  predictions = model(X)\n",
    "  loss = criterion(predictions,Y)\n",
    "  loss.backward()\n",
    "  optimizer.step()\n",
    "\n",
    "  train_loss.append(loss.data)\n",
    "  model.eval()\n",
    "  Y_test = model(X_test)\n",
    "  loss = criterion(Y_test,2*X_test)\n",
    "  test_loss.append(loss.data)\n",
    "\n",
    "  if (epoch % 500 == 0 or epoch == max_epochs - 1):\n",
    "    running_predictions[:,iters] = Y_test[:,0,0].detach().numpy()\n",
    "    iters += 1\n",
    "\n",
    "\n",
    "model = Big_Animal_Net()\n",
    "\n",
    "args = {'test_batch_size': 1000,\n",
    "        'epochs': 200,\n",
    "        'lr': 5e-3,\n",
    "        'momentum': 0.9,\n",
    "        'no_cuda': False,\n",
    "        }\n",
    "\n",
    "val_acc_pure, train_acc_pure, _, model ,_ = main(args,\n",
    "                                                 model,\n",
    "                                                 train_loader,\n",
    "                                                 val_loader,\n",
    "                                                 img_test_dataset)"
   ]
  },
  {
   "cell_type": "code",
   "execution_count": null,
   "metadata": {
    "colab": {
     "base_uri": "https://localhost:8080/",
     "height": 66,
     "referenced_widgets": [
      "3f37e4c4460141699f480f7034d53b94",
      "c15afb8ae1bb4dcf8ce88f78d23d7c97",
      "790b32fb90ee4c2c91f461152f2b04c6",
      "01100d8e1e9c480b96fb604eee8dea62",
      "6e3aadbdc9254f1d9e99484cfa09a272",
      "b44f75a043264667b845af0d86a78b40",
      "1d53d59ab1c441789d541e40b30cdfd5",
      "ab542092208a42248ceb02e2397f01c1"
     ]
    },
    "outputId": "ffc5ed91-58c8-42c9-fa92-f9e941c16033"
   },
   "outputs": [],
   "source": [
    "#train the network on toy dataset\n",
    "model = Net()\n",
    "criterion = nn.MSELoss()\n",
    "optimizer = optim.Adam(model.parameters(),lr = 1e-4)\n",
    "max_epochs = 10000\n",
    "iters = 0\n",
    "\n",
    "running_predictions_dp = np.empty((40, (int)(max_epochs/500)))\n",
    "\n",
    "train_loss_dp = []\n",
    "test_loss_dp = []\n",
    "model_norm_dp = []\n",
    "\n",
    "for epoch in tqdm(range(max_epochs)):\n",
    "\n",
    "  #training\n",
    "  model_norm_dp.append(calculate_frobenius_norm(model))\n",
    "  model.train()\n",
    "  optimizer.zero_grad()\n",
    "  predictions = model(X)\n",
    "  loss = criterion(predictions, Y)\n",
    "  loss.backward()\n",
    "  optimizer.step()\n",
    "\n",
    "  train_loss_dp.append(loss.data)\n",
    "  model.eval()\n",
    "  Y_test = model(X_test)\n",
    "  loss = criterion(Y_test, 2*X_test)\n",
    "  test_loss_dp.append(loss.data)\n",
    "\n",
    "  if (epoch % 500 == 0 or epoch == max_epochs):\n",
    "    running_predictions_dp[:, iters] = Y_test[:, 0, 0].detach().numpy()\n",
    "    iters += 1"
   ]
  },
  {
   "cell_type": "markdown",
   "metadata": {},
   "source": [
    "Now that we have finished training, let's see how the model has evolved over the training process."
   ]
  },
  {
   "cell_type": "code",
   "execution_count": null,
   "metadata": {
    "cellView": "form",
    "colab": {
     "base_uri": "https://localhost:8080/",
     "height": 454
    },
    "outputId": "4a4b5773-ab47-49db-cf14-2bba8e081981"
   },
   "outputs": [],
   "source": [
    "#@markdown #### Visualization (Run Me!)\n",
    "fig = plt.figure(figsize=(8, 6))\n",
    "ax = plt.axes()\n",
    "def frame(i):\n",
    "    ax.clear()\n",
    "    ax.scatter(X[:,0,:].numpy(),Y[:,0,:].numpy())\n",
    "    plot = ax.plot(X_test[:,0,:].detach().numpy(),running_predictions_dp[:,i])\n",
    "    title = \"Epoch: \" + str(i * 500)\n",
    "    plt.title(title)\n",
    "    ax.set_xlabel(\"X axis\")\n",
    "    ax.set_ylabel(\"Y axis\")\n",
    "    return plot\n",
    "anim = animation.FuncAnimation(fig, frame, frames=range(20), blit=False, repeat=False, repeat_delay=10000)\n",
    "html_anim = HTML(anim.to_html5_video());\n",
    "plt.close()\n",
    "display(html_anim)"
   ]
  },
  {
   "cell_type": "code",
   "execution_count": null,
   "metadata": {
    "cellView": "form",
    "colab": {
     "base_uri": "https://localhost:8080/",
     "height": 430
    },
    "outputId": "4f6218cc-dfda-4d45-f0c1-02f982832b6f"
   },
   "outputs": [],
   "source": [
    "#@markdown #### Plot the train and test losses\n",
    "plt.figure(figsize=(8, 6))\n",
    "plt.plot(test_loss_dp,label='test_loss dropout',c = 'blue',ls='dashed')\n",
    "plt.plot(test_loss, label='test_loss',c = 'red',ls='dashed')\n",
    "plt.ylabel('loss')\n",
    "plt.xlabel('epochs')\n",
    "plt.title('loss vs epoch')\n",
    "plt.legend()\n",
    "plt.show()"
   ]
  },
  {
   "cell_type": "code",
   "execution_count": null,
   "metadata": {
    "cellView": "form",
    "colab": {
     "base_uri": "https://localhost:8080/",
     "height": 430
    },
    "outputId": "89b0ffc7-d446-4fdb-dea2-3ea6b36e9282"
   },
   "outputs": [],
   "source": [
    "#@markdown #### Plot model weights with epoch\n",
    "plt.figure(figsize=(8, 6))\n",
    "plt.plot(model_norm_dp, label = 'dropout')\n",
    "plt.plot(model_norm, label = 'no dropout')\n",
    "plt.ylabel('norm of the model')\n",
    "plt.xlabel('epochs')\n",
    "plt.legend()\n",
    "plt.title('Size of the model vs Epochs')\n",
    "plt.show()"
   ]
  },
  {
   "cell_type": "markdown",
   "metadata": {},
   "source": [
    "Do you think this performed better than the initial model?"
   ]
  },
  {
   "cell_type": "markdown",
   "metadata": {},
   "source": [
    "## Section 2.1: Dropout Implementation Caveats: "
   ]
  },
  {
   "cell_type": "markdown",
   "metadata": {},
   "source": [
    "\n",
    "*  Dropout is used only during training, during testing the complete model weights are used and hence it is important to use model.eval() before testing the model. \n",
    "\n",
    "* Dropout reduces the capacity of the model during training and hence as a general practice wider networks are used when using dropout. If you are using a dropout with a random probability of 0.5 then you might want to double the number of hidden neurons in that layer."
   ]
  },
  {
   "cell_type": "markdown",
   "metadata": {},
   "source": [
    "Now, let's see how dropout fares on the Animal Faces Dataset. We first modify the existing model to include dropout and then train the model."
   ]
  },
  {
   "cell_type": "code",
   "execution_count": null,
   "metadata": {},
   "outputs": [],
   "source": [
    "##Network Class - Animal Faces\n",
    "class Animal_Net_Dropout(nn.Module):\n",
    "    def __init__(self):\n",
    "        torch.manual_seed(32)\n",
    "        super(Animal_Net_Dropout, self).__init__()\n",
    "        self.fc1 = nn.Linear(3*32*32, 248)\n",
    "        self.fc2 = nn.Linear(248, 210)\n",
    "        self.fc3 = nn.Linear(210, 3)\n",
    "        self.dropout1 = nn.Dropout(p = 0.5)\n",
    "        self.dropout2 = nn.Dropout(p = 0.3)\n",
    "\n",
    "    def forward(self, x):\n",
    "        x = x.view(x.shape[0],-1)\n",
    "        x = F.leaky_relu(self.dropout1(self.fc1(x)))\n",
    "        x =F.leaky_relu(self.dropout2(self.fc2(x)))\n",
    "        x = self.fc3(x)\n",
    "        output = F.log_softmax(x, dim=1)\n",
    "        return output"
   ]
  },
  {
   "cell_type": "code",
   "execution_count": null,
   "metadata": {
    "colab": {
     "base_uri": "https://localhost:8080/",
     "height": 479,
     "referenced_widgets": [
      "e584e134b0b14710a380b0cdad90bd3d",
      "9be03b9615f84e4fa59e1c308d99793e",
      "7bf6459e555b48f6a56c13454089216f",
      "3fced46a684c48ba8766e0446f10d35a",
      "573c1e5204574c0cbcdc2aa01c1ccda5",
      "130e3768239b4248a51ba57668adbfae",
      "7b81c700271b4b2588bcf4ff70d4081a",
      "e0760613845d4da9970d852522bea0c4"
     ]
    },
    "outputId": "1767c160-7f65-413a-f9fb-30f722797ebe"
   },
   "outputs": [],
   "source": [
    "args = {'test_batch_size': 1000,\n",
    "        'epochs': 200,\n",
    "        'lr': 5e-3,\n",
    "        'batch_size': 32,\n",
    "        'momentum': 0.9,\n",
    "        'no_cuda': False,\n",
    "        'seed': 1,\n",
    "        'log_interval': 100\n",
    "        }\n",
    "\n",
    "acc_dict = {}\n",
    "model = Animal_Net_Dropout()\n",
    "\n",
    "val_acc_dropout, train_acc_dropout, _, model ,_ = main(args,\n",
    "                                                       model,\n",
    "                                                       train_loader,\n",
    "                                                       val_loader,\n",
    "                                                       img_test_dataset)\n",
    "\n",
    "##Train and Test accuracy plot\n",
    "\n",
    "plt.plot(val_acc_pure, label='Val', c='blue', ls='dashed')\n",
    "plt.plot(train_acc_pure, label='Train', c='blue', ls='solid')\n",
    "plt.plot(val_acc_dropout, label='Val - DP', c='red', ls='dashed')\n",
    "plt.plot(train_acc_dropout, label='Train - DP', c='red', ls='solid')\n",
    "plt.title('Dropout')\n",
    "plt.ylabel('Accuracy (%)')\n",
    "plt.xlabel('Epoch')\n",
    "plt.legend()\n",
    "plt.show()"
   ]
  },
  {
   "cell_type": "markdown",
   "metadata": {},
   "source": [
    "When do you think dropouts can perform bad and do you think their placement within a model matters?"
   ]
  },
  {
   "cell_type": "markdown",
   "metadata": {},
   "source": [
    "---\n",
    "# Section 3: Data Augmentation\n"
   ]
  },
  {
   "cell_type": "code",
   "execution_count": null,
   "metadata": {
    "cellView": "form",
    "colab": {
     "base_uri": "https://localhost:8080/",
     "height": 519
    },
    "outputId": "27cf44d0-5b73-48d7-bede-6d847004bd33"
   },
   "outputs": [],
   "source": [
    "#@title Video : Data Augmentation\n",
    "try: t6;\n",
    "except NameError: t6=time.time()\n",
    "\n",
    "from IPython.display import YouTubeVideo\n",
    "video = YouTubeVideo(id=\"NvwRMX6v-S8\", width=854, height=480, fs=1)\n",
    "print(\"Video available at https://youtube.com/watch?v=\" + video.id)\n",
    "\n",
    "video"
   ]
  },
  {
   "cell_type": "markdown",
   "metadata": {},
   "source": [
    "Data augmentation is often used to increase the number of training samples. Now we will explore the effects of data augmentation on regularization. Here regularization is acheived by adding noise into training data after every epoch.\n",
    "\n",
    "Pytorch's torchvision module provides a few built-in data augmentation techniques, which we can use on image datasets. Some of the techniques we most frequently use are:\n",
    "\n",
    "\n",
    "*   Random Crop\n",
    "*   Random Rotate\n",
    "*   Vertical Flip\n",
    "*   Horizontal Flip\n",
    "\n"
   ]
  },
  {
   "cell_type": "code",
   "execution_count": null,
   "metadata": {
    "cellView": "form"
   },
   "outputs": [],
   "source": [
    "#@markdown ####  Data Loader without Data Augmentation\n",
    "train_transform = transforms.Compose([\n",
    "     transforms.ToTensor(),\n",
    "     transforms.Normalize((0.5, 0.5, 0.5), (0.5, 0.5, 0.5))\n",
    "     ])\n",
    "data_path = pathlib.Path('.')/'afhq' # using pathlib to be compatible with all OS's\n",
    "img_dataset = ImageFolder(data_path/'train', transform=train_transform)\n",
    "\n",
    "#Splitting dataset\n",
    "img_train_data, img_val_data,_ = torch.utils.data.random_split(img_dataset, [250,100,14280])\n",
    "\n",
    "#Creating train_loader and Val_loader\n",
    "train_loader = torch.utils.data.DataLoader(img_train_data,batch_size=batch_size,worker_init_fn=seed_worker)\n",
    "val_loader = torch.utils.data.DataLoader(img_val_data,batch_size=1000,worker_init_fn=seed_worker)"
   ]
  },
  {
   "cell_type": "markdown",
   "metadata": {},
   "source": [
    "Define a DataLoader using [torchvision.transforms](https://pytorch.org/docs/stable/torchvision/transforms.html) which randomly augments the data for us. "
   ]
  },
  {
   "cell_type": "code",
   "execution_count": null,
   "metadata": {},
   "outputs": [],
   "source": [
    "##Data Augmentation using transforms\n",
    "new_transforms = transforms.Compose([\n",
    "                                     transforms.RandomHorizontalFlip(p=0.1),\n",
    "                                     transforms.RandomVerticalFlip(p=0.1),\n",
    "                                     transforms.ToTensor(),\n",
    "                                     transforms.Normalize((0.5, 0.5, 0.5),\n",
    "                                                          (0.5, 0.5, 0.5))\n",
    "])\n",
    "\n",
    "data_path = pathlib.Path('.')/'afhq' # using pathlib to be compatible with all OS's\n",
    "img_dataset = ImageFolder(data_path/'train', transform=new_transforms)\n",
    "#Splitting dataset\n",
    "new_train_data, _,_ = torch.utils.data.random_split(img_dataset,\n",
    "                                                    [250, 100, 14280])\n",
    "\n",
    "#Creating train_loader and Val_loader\n",
    "new_train_loader = torch.utils.data.DataLoader(new_train_data,\n",
    "                                               batch_size=batch_size,\n",
    "                                               worker_init_fn=seed_worker)"
   ]
  },
  {
   "cell_type": "code",
   "execution_count": null,
   "metadata": {
    "colab": {
     "base_uri": "https://localhost:8080/",
     "height": 528,
     "referenced_widgets": [
      "e6e260d89fac42e2a2754d2c55cd31c7",
      "9e797ef6d08c45eb9bd19c0f84230509",
      "02e77edb6d5540d99d798597e8a2ae7c",
      "54eb0c20cbd24bea9bb581b4437accc0",
      "9993cadeaca64cfa9687f90f13bcdfe8",
      "9392eafa328b4c9d974c08c78f952dc8",
      "15c7e13af0a84433b3855f997614964e",
      "17293ff0e62940dc9539abe247a754b8",
      "28b0032cf4b943628711b28a504ad14b",
      "6a458669b5574f6cac9c8319573abbe9",
      "a3745dfbe55c44768d406d72dce09131",
      "83e097ac86c7405584ab0ea419d57416",
      "5e84066bfc894740bf9df0cb2a70e9d2",
      "93e3078cadc94fd0801c7eabb1416f0e",
      "b58a7d87d8d14e33b5ffb42053fca85b",
      "f12c804e221a49bd82a4c404d25b2f2c"
     ]
    },
    "outputId": "e4dee1a6-e3de-49eb-d853-85ef8e969c17"
   },
   "outputs": [],
   "source": [
    "args = {'epochs': 250,\n",
    "        'lr': 1e-3,\n",
    "        'momentum': 0.99,\n",
    "        'no_cuda': False,\n",
    "        }\n",
    "\n",
    "\n",
    "acc_dict = {}\n",
    "model = Animal_Net()\n",
    "\n",
    "val_acc_dataaug, train_acc_dataaug, param_norm_datadug, _ ,_ = main(args,\n",
    "                                                                    model,\n",
    "                                                                    new_train_loader,\n",
    "                                                                    val_loader,\n",
    "                                                                    img_test_dataset)\n",
    "model = Animal_Net()\n",
    "val_acc_pure, train_acc_pure, param_norm_pure, _, _ = main(args,\n",
    "                                                           model,\n",
    "                                                           train_loader,\n",
    "                                                           val_loader,\n",
    "                                                           img_test_dataset)\n",
    "\n",
    "\n",
    "##Train and Test accuracy plot\n",
    "plt.figure(figsize=(8, 6))\n",
    "plt.plot(val_acc_pure, label='Val Accuracy Pure',\n",
    "         c='red', ls='dashed')\n",
    "plt.plot(train_acc_pure, label='Train Accuracy Pure',\n",
    "         c='red', ls='solid')\n",
    "plt.plot(val_acc_dataaug, label='Val Accuracy data augment',\n",
    "         c='blue', ls='dashed')\n",
    "plt.plot(train_acc_dataaug, label='Train Accuracy data augment',\n",
    "         c='blue', ls='solid')\n",
    "plt.axhline(y=max(val_acc_pure), c='red', ls='dashed')\n",
    "plt.axhline(y=max(val_acc_dataaug), c='blue', ls='dashed')\n",
    "plt.title('Data Augmentation')\n",
    "plt.ylabel('Accuracy (%)')\n",
    "plt.xlabel('Epoch')\n",
    "plt.legend()\n",
    "plt.show()"
   ]
  },
  {
   "cell_type": "code",
   "execution_count": null,
   "metadata": {
    "colab": {
     "base_uri": "https://localhost:8080/",
     "height": 430
    },
    "outputId": "ba0453a8-bfed-46ab-80ff-65703468671c"
   },
   "outputs": [],
   "source": [
    "plt.figure(figsize=(8, 6))\n",
    "plt.plot(param_norm_pure, c='red', label='Without Augmentation')\n",
    "plt.plot(param_norm_datadug, c='blue', label='With Augmentation')\n",
    "plt.title('Norm of parameters as a function of training epoch')\n",
    "plt.xlabel('epoch')\n",
    "plt.ylabel('Norm of model parameters')\n",
    "plt.legend()\n",
    "plt.show()"
   ]
  },
  {
   "cell_type": "markdown",
   "metadata": {},
   "source": [
    "Can you think of more ways of augmenting training data? (Think of other problems beyond object recogition.)"
   ]
  },
  {
   "cell_type": "code",
   "execution_count": null,
   "metadata": {
    "cellView": "form",
    "colab": {
     "base_uri": "https://localhost:8080/",
     "height": 519
    },
    "outputId": "d42c310f-7031-4855-d796-e0bc1144207b"
   },
   "outputs": [],
   "source": [
    "#@title Video : interfacing\n",
    "try: t5;\n",
    "except NameError: t5=time.time()\n",
    "\n",
    "from IPython.display import YouTubeVideo\n",
    "print(\"Video available at https://youtube.com/watch?v=\" + video.id)\n",
    "video"
   ]
  },
  {
   "cell_type": "markdown",
   "metadata": {},
   "source": [
    "### Thought Question\n",
    "Why does it work better to regularize an overparameterized ANN than to start with a smaller one? [think about  the regularization  methods you know]\n",
    "Each group has a 10 min discussion."
   ]
  },
  {
   "cell_type": "markdown",
   "metadata": {},
   "source": [
    "---\n",
    "# Section 4: Stochastic Gradient Descent\n"
   ]
  },
  {
   "cell_type": "code",
   "execution_count": null,
   "metadata": {
    "cellView": "form",
    "colab": {
     "base_uri": "https://localhost:8080/",
     "height": 519
    },
    "outputId": "9224f138-2d30-4e3d-897d-6017b5f8afda"
   },
   "outputs": [],
   "source": [
    "#@title Video : SGD\n",
    "try: t2;\n",
    "except NameError: t2=time.time()\n",
    "\n",
    "from IPython.display import YouTubeVideo\n",
    "video = YouTubeVideo(id=\"E3g2Z-ZqMZw\", width=854, height=480, fs=1)\n",
    "print(\"Video available at https://youtube.com/watch?v=\" + video.id)\n",
    "\n",
    "video"
   ]
  },
  {
   "cell_type": "markdown",
   "metadata": {},
   "source": [
    "## Learning Rate\n",
    "In this section, we will see how learning rate can act as regularizer while training a neural network. In summary:\n",
    "\n",
    "\n",
    "*   Smaller learning rates regularize less. They slowly converge to deep minima. \n",
    "*   Larger learning rates regularizes more by missing local minima and converging to broader, flatter minima, which often generalize better.\n",
    "\n",
    "But beware, a very large learning rate may result in overshooting or finding a really bad local minimum.\n",
    "\n",
    "\n",
    "\n",
    "In the block below, we will train the Animal Net model with different learning rates and see how that affects the regularization."
   ]
  },
  {
   "cell_type": "code",
   "execution_count": null,
   "metadata": {
    "cellView": "form",
    "colab": {
     "base_uri": "https://localhost:8080/"
    },
    "outputId": "b7c7338c-a042-4396-f342-7616e466ef15"
   },
   "outputs": [],
   "source": [
    "#@markdown #### Generating Data Loaders\n",
    "batch_size = 128\n",
    "train_transform = transforms.Compose([\n",
    "     transforms.ToTensor(),\n",
    "     transforms.Normalize((0.5, 0.5, 0.5), (0.5, 0.5, 0.5))\n",
    "     ])\n",
    "\n",
    "data_path = pathlib.Path('.')/'afhq' # using pathlib to be compatible with all OS's\n",
    "img_dataset = ImageFolder(data_path/'train', transform=train_transform)\n",
    "img_train_data, img_val_data, = torch.utils.data.random_split(img_dataset, [11700,2930])\n",
    "\n",
    "full_train_loader = torch.utils.data.DataLoader(img_train_data,batch_size=batch_size,num_workers=2,worker_init_fn=seed_worker)\n",
    "full_val_loader = torch.utils.data.DataLoader(img_val_data,batch_size=1000,num_workers=4,worker_init_fn=seed_worker)\n",
    "\n",
    "test_transform = transforms.Compose([\n",
    "     transforms.ToTensor(),\n",
    "     transforms.Normalize((0.5, 0.5, 0.5), (0.5, 0.5, 0.5))    # [TO-DO]\n",
    "     ])\n",
    "img_test_dataset = ImageFolder(data_path/'val', transform=test_transform)\n",
    "# img_test_loader = DataLoader(img_test_dataset, batch_size=batch_size,shuffle=False, num_workers=1)\n",
    "classes = ('cat', 'dog', 'wild')"
   ]
  },
  {
   "cell_type": "code",
   "execution_count": null,
   "metadata": {
    "colab": {
     "base_uri": "https://localhost:8080/",
     "height": 165,
     "referenced_widgets": [
      "db6eb42e25fc48ff94aaf425eb23a654",
      "51c00a19d79c489ebebba1f3a28675a4",
      "badbe6b7ae064891951d9ce71fdd8621",
      "02ccd87d333741e2a35d6d87a10077ee",
      "4a1b61d2a9ec4febac41c5be65b0dd2a",
      "44ddbbe56717469f938dd3aa73cae5cb",
      "2f407808869546e3b3683f046e37d98e",
      "a8a197e5c552434bb97e38a710335aaf",
      "241ec1a8073349fda7d22e0d6a1f30cf",
      "83e45cbc26764abab58f2e0887adadf6",
      "af77a5fcb0004706a4bb132a50e679ec",
      "18009fd99aa9462996d5a7176e54af1e",
      "016ca128b3534fa78e512f6683d85fe8",
      "c46a64f09fc840f483512877427b4054",
      "9add9616d4e8459882613393d1389920",
      "7fe6c57038f44b1fb6fbf4a0020d1c13",
      "097eec77fa1546aa909881ff598aa7ab",
      "78731977837b4066becf54dd44dd0b83",
      "4dbad4e5023b4740b02f97075bd643b8",
      "b258591a763d4e84a40665a5f3360343",
      "13cd1b20c5574b309cc69d38110f25b7",
      "3cc5202e16ae41cfa8a00068020d668b",
      "a9950b8dc68147c19bc4b7ad2e54e7b6",
      "81badad2ea2745649be231ac7a10bfc5"
     ]
    },
    "outputId": "47455200-abcb-4f19-a56b-f9f6acddfc5e"
   },
   "outputs": [],
   "source": [
    "args = {'test_batch_size': 1000,\n",
    "        'epochs': 350,\n",
    "        'batch_size': 32,\n",
    "        'momentum': 0.99,\n",
    "        'no_cuda': False\n",
    "        }\n",
    "\n",
    "lr = [5e-4, 1e-3, 5e-3]\n",
    "acc_dict = {}\n",
    "\n",
    "for i in range(len(lr)):\n",
    "    model = Animal_Net()\n",
    "    args['lr'] = lr[i]\n",
    "    val_acc, train_acc, param_norm,_,_ = main(args,\n",
    "                                              model,\n",
    "                                              train_loader,\n",
    "                                              val_loader,\n",
    "                                              img_test_dataset)\n",
    "    acc_dict['val_'+str(i)] = val_acc\n",
    "    acc_dict['train_'+str(i)] = train_acc\n",
    "    acc_dict['param_norm'+str(i)] = param_norm"
   ]
  },
  {
   "cell_type": "code",
   "execution_count": null,
   "metadata": {
    "cellView": "form",
    "colab": {
     "base_uri": "https://localhost:8080/",
     "height": 482
    },
    "outputId": "8963df56-d091-49b1-f886-e976b07677bc"
   },
   "outputs": [],
   "source": [
    "#@markdown #### Plot Train and Validation accuracy (Run me)\n",
    "plt.figure(figsize=(8, 6))\n",
    "plt.plot(acc_dict['val_0'], linestyle='dashed',label='lr = 5e-4 - validation', c = 'blue')\n",
    "plt.plot(acc_dict['train_0'],label = '5e-4 - train', c = 'blue')\n",
    "plt.plot(acc_dict['val_1'], linestyle='dashed',label='lr = 1e-3 - validation', c = 'green')\n",
    "plt.plot(acc_dict['train_1'],label='1e-3 - train', c = 'green')\n",
    "plt.plot(acc_dict['val_2'], linestyle='dashed',label='lr = 5e-3 - validation', c = 'purple')\n",
    "plt.plot(acc_dict['train_2'],label = '5e-3 - train', c = 'purple')\n",
    "plt.title('Optimal Learning Rate')\n",
    "plt.ylabel('Accuracy (%)')\n",
    "plt.xlabel('Epoch')\n",
    "print('Maximum Test Accuracy obtained with lr = 5e-4: '+str(max(acc_dict['val_0'])))\n",
    "print('Maximum Test Accuracy obtained with lr = 1e-3: '+str(max(acc_dict['val_1'])))\n",
    "print('Maximum Test Accuracy obtained with lr = 5e-3: '+str(max(acc_dict['val_2'])))\n",
    "plt.legend()\n",
    "plt.show()"
   ]
  },
  {
   "cell_type": "code",
   "execution_count": null,
   "metadata": {
    "cellView": "form",
    "colab": {
     "base_uri": "https://localhost:8080/",
     "height": 430
    },
    "outputId": "276f3623-1601-44cb-dbfa-2bed1172ce67"
   },
   "outputs": [],
   "source": [
    "#@markdown #### Plot parametric norms (Run me)\n",
    "plt.figure(figsize=(8, 6))\n",
    "plt.plot(acc_dict['param_norm0'],label='lr = 5e-4',c='blue')\n",
    "plt.plot(acc_dict['param_norm1'],label = 'lr = 1e-3',c='green')\n",
    "plt.plot(acc_dict['param_norm2'],label ='lr = 5e-3', c='red')\n",
    "plt.legend()\n",
    "plt.xlabel('epoch')\n",
    "plt.ylabel('parameter norms')\n",
    "plt.show()"
   ]
  },
  {
   "cell_type": "markdown",
   "metadata": {},
   "source": [
    "In the model above, we observe something different from what we expected. Why do you think this is happening?"
   ]
  },
  {
   "cell_type": "markdown",
   "metadata": {},
   "source": [
    "---\n",
    "# Section 5: Hyperparameter Tuning\n"
   ]
  },
  {
   "cell_type": "code",
   "execution_count": null,
   "metadata": {
    "cellView": "form",
    "colab": {
     "base_uri": "https://localhost:8080/",
     "height": 519
    },
    "outputId": "4433baf7-bb92-48c6-c96c-a547538a33d7"
   },
   "outputs": [],
   "source": [
    "#@title Video : Tuning Methods\n",
    "try: t1;\n",
    "except NameError: t1=time.time()\n",
    "\n",
    "from IPython.display import YouTubeVideo\n",
    "video = YouTubeVideo(id=\"-ly5hwbpx-w\", width=854, height=480, fs=1)\n",
    "print(\"Video available at https://youtube.com/watch?v=\" + video.id)\n",
    "\n",
    "video"
   ]
  },
  {
   "cell_type": "markdown",
   "metadata": {},
   "source": [
    "\n",
    "\n",
    "Hyper-Parameter tuning is often difficult and time consuming.  It is a key part of training any Deep Learning model to give good generalization. There are a few techniques that we can use to guide us during the search. \n",
    "\n",
    "\n",
    "\n",
    "*   Grid Search: Try all possible combinations of hyperparameters\n",
    "*   Random Search: Randomly try different combinations of hyperparameters\n",
    "*   Coordinate-wise Gradient Descent: Start at one set of hyperparameters and try changing one at a time, accept any changes that reduce your validation error\n",
    "*   Bayesian Optimization/ Auto ML:  Start from a set of hyperparameters that have worked well on a similar problem, and then do some sort of local exploration (e.g. gradient descent) from there.\n",
    "\n",
    "There are lots of choices, like what range to explore over, which parameter to optimize first, etc. Some hyperparameters don’t matter much (people use a dropout of either 0.5 or 0, but not much else).  Others can matter a lot more (e.g. size and depth of the neural net). The key is to see what worked on similar problems.\n",
    "\n",
    "One can automate the process of tuning the network Architecture using \"Neural Architecture Search\", which designs new architectures using a few building blocks (Linear, Convolutional, Convolution Layers, etc.) and optimizes the design based on performance using a wide range of techniques such as Grid Search, Reinforcement Learning, GD, Evolutionary Algorithms, etc. This obviously requires very high computer power. Read this [article](https://lilianweng.github.io/lil-log/2020/08/06/neural-architecture-search.html) to learn more about NAS.    \n"
   ]
  },
  {
   "cell_type": "markdown",
   "metadata": {},
   "source": [
    "Which regularization technique today do you think had the biggest effect on the network? Why might do you think so? Can you apply all of the regularization methods on the same network?"
   ]
  },
  {
   "cell_type": "markdown",
   "metadata": {},
   "source": [
    "---\n",
    "# Section 6: Adversarial  Attacks\n"
   ]
  },
  {
   "cell_type": "code",
   "execution_count": null,
   "metadata": {
    "cellView": "form",
    "colab": {
     "base_uri": "https://localhost:8080/",
     "height": 519
    },
    "outputId": "3bff9d56-0b77-4054-de48-ee840461cd8f"
   },
   "outputs": [],
   "source": [
    "#@title Video: Adversarial Attacks\n",
    "try: t5;\n",
    "except NameError: t5=time.time()\n",
    "\n",
    "from IPython.display import YouTubeVideo\n",
    "video = YouTubeVideo(id=\"2e-PxxlGfpM\", width=854, height=480, fs=1)\n",
    "print(\"Video available at https://youtube.com/watch?v=\" + video.id)\n",
    "video"
   ]
  },
  {
   "cell_type": "markdown",
   "metadata": {},
   "source": [
    "Designing perturbations to the input data to trick a machine learning model is called an \"adversarial attack\". These attacks are an inevitable consequence of learning in high dimensional space with complex decision boundaries. Depending on the application, these attacks can be very dangerous.\n",
    "\n",
    "![Adversarial Examples of a Stop Sign](https://media.springernature.com/lw685/springer-static/image/art%3A10.1186%2Fs13638-020-01775-5/MediaObjects/13638_2020_1775_Fig1_HTML.png?as=webp)\n",
    "\n",
    "Hence, it is important for us to build models which can defend against such attcks. One possible way to do it is by regularizing the networks, which smooths the decision boundaries. A few ways of building models robust to such attachs are:\n",
    "\n",
    "\n",
    "\n",
    "*   [Defensive Distillation](https://deepai.org/machine-learning-glossary-and-terms/defensive-distillation) : Models trained via distillation are less prone to such attacks as they are trained on soft labels as there is an element of randomness in the training process.\n",
    "*   [Feature Squeezing](https://evademl.org/squeezing/): Identifies adversarial attacks for on-line classifiers whose model is being used by comparing model's perdiction before and after squeezing the input. \n",
    "* [SGD](https://arxiv.org/abs/1706.06083) You can also pick weight to minimize what the adversary is trying to maximize via SGD.\n",
    "\n",
    "In the optional supplemental project, you can design an attack and defend your model against it using regularization techniques you learned this week. \n"
   ]
  },
  {
   "cell_type": "markdown",
   "metadata": {},
   "source": [
    "---\n",
    "# Optional Supplements\n",
    "\n",
    "1.   [Understanding Generalization](https://docs.google.com/document/d/1XOaTXYBleQlDNFM1-t512RHfJXRwA4-LIejuBA6pbLY/edit)\n",
    "2.   [Adversarial Attacks](https://)"
   ]
  }
 ],
 "metadata": {
  "accelerator": "GPU",
  "colab": {
   "collapsed_sections": [],
   "include_colab_link": true,
   "machine_shape": "hm",
   "name": "W1D5_Tutorial2",
   "provenance": [],
   "toc_visible": true
  },
  "kernel": {
   "display_name": "Python 3",
   "language": "python",
   "name": "python3"
  },
  "kernelspec": {
   "display_name": "Python 3",
   "name": "python3"
  }
 },
 "nbformat": 4,
 "nbformat_minor": 0
}
