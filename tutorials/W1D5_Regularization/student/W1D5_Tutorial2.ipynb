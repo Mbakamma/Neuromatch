{
 "cells": [
  {
   "cell_type": "markdown",
   "metadata": {
    "colab_type": "text",
    "id": "view-in-github"
   },
   "source": [
    "<a href=\"https://colab.research.google.com/github/NeuromatchAcademy/course-content-dl/blob/main/tutorials/W1D5_Regularization/student/W1D5_Tutorial2.ipynb\" target=\"_parent\"><img src=\"https://colab.research.google.com/assets/colab-badge.svg\" alt=\"Open In Colab\"/></a>"
   ]
  },
  {
   "cell_type": "markdown",
   "metadata": {},
   "source": [
    "# Tutorial 2: Regularization techniques part 2\n",
    "**Week 1, Day 5: Regularization**\n",
    "\n",
    "**By Neuromatch Academy**\n",
    "\n",
    "\n",
    "__Content creators:__ Ravi Teja Konkimalla, Mohitrajhu Lingan Kumaraian, Kevin Machado Gamboa, Kelson Shilling-Scrivo, Lyle Ungar\n",
    "\n",
    "__Content reviewers:__ Piyush Chauhan, Kelson Shilling-Scrivo\n",
    "\n",
    "__Content editors:__ Roberto Guidotti, Spiros Chavlis\n",
    "\n",
    "__Production editors:__ Saeed Salehi, Spiros Chavlis"
   ]
  },
  {
   "cell_type": "markdown",
   "metadata": {},
   "source": [
    "**Our 2021 Sponsors, including Presenting Sponsor Facebook Reality Labs**\n",
    "\n",
    "<p align='center'><img src='https://github.com/NeuromatchAcademy/widgets/blob/master/sponsors.png?raw=True'/></p>"
   ]
  },
  {
   "cell_type": "markdown",
   "metadata": {},
   "source": [
    "---\n",
    "# Tutorial Objectives\n",
    "\n",
    "1.   Regularization as shrinkage of overparameterized models: L1, L2\n",
    "2.   Regularization by Dropout\n",
    "3.   Regularization by Data Augmentation\n",
    "4.   Perils of Hyper-Parameter Tuning\n",
    "5.   Rethinking generalization"
   ]
  },
  {
   "cell_type": "code",
   "execution_count": null,
   "metadata": {
    "cellView": "form",
    "colab": {
     "base_uri": "https://localhost:8080/",
     "height": 591
    },
    "outputId": "245b43e7-6f0d-4a66-ce4e-5c9f79b7ace3"
   },
   "outputs": [],
   "source": [
    "#@markdown Tutorial slides\n",
    "\n",
    "#@markdown **Do not read them now.**\n",
    "# you should link the slides for all tutorial videos here (we will store pdfs on osf)\n",
    "\n",
    "from IPython.display import HTML\n",
    "HTML('<iframe src=\"https://docs.google.com/presentation/d/1N9aguIPiBSjzo0ToqPi5uwwG8ChY6_E3/embed?start=false&loop=false&delayms=3000\" frameborder=\"0\" width=\"960\" height=\"569\" allowfullscreen=\"true\" mozallowfullscreen=\"true\" webkitallowfullscreen=\"true\"></iframe>')"
   ]
  },
  {
   "cell_type": "markdown",
   "metadata": {},
   "source": [
    "---\n",
    "# Setup\n",
    "Note that some of the code for today can take up to an hour to run. We have therefore \"hidden\" that code and shown the resulting outputs.\n"
   ]
  },
  {
   "cell_type": "markdown",
   "metadata": {},
   "source": [
    "**Ensure you're running a GPU notebook:**\n",
    "From \"Runtime\" in the drop-down menu above, click \"Change runtime type\". Ensure that \"Hardware Accelerator\" says \"GPU\".\n",
    "\n",
    "**Ensure you can save:** From \"File\", click \"Save a copy in Drive\""
   ]
  },
  {
   "cell_type": "code",
   "execution_count": null,
   "metadata": {},
   "outputs": [],
   "source": [
    "# Imports\n",
    "from __future__ import print_function\n",
    "\n",
    "import time\n",
    "import copy\n",
    "import torch\n",
    "import random\n",
    "import pathlib\n",
    "\n",
    "import numpy as np\n",
    "import matplotlib.pyplot as plt\n",
    "import matplotlib.animation as animation\n",
    "\n",
    "import torch.nn as nn\n",
    "import torch.optim as optim\n",
    "import torch.nn.functional as F\n",
    "import torch.nn.utils.prune as prune\n",
    "\n",
    "from torchvision import datasets, transforms\n",
    "from torchvision.datasets import ImageFolder\n",
    "from torch.optim.lr_scheduler import StepLR\n",
    "from torch.utils.data import DataLoader, TensorDataset\n",
    "\n",
    "from tqdm.auto import tqdm\n",
    "from IPython.display import HTML, display"
   ]
  },
  {
   "cell_type": "code",
   "execution_count": null,
   "metadata": {
    "cellView": "form"
   },
   "outputs": [],
   "source": [
    "# @title Figure Settings\n",
    "import ipywidgets as widgets\n",
    "%matplotlib inline\n",
    "%config InlineBackend.figure_format = 'retina'\n",
    "plt.style.use(\"https://raw.githubusercontent.com/NeuromatchAcademy/content-creation/main/nma.mplstyle\")"
   ]
  },
  {
   "cell_type": "code",
   "execution_count": null,
   "metadata": {
    "cellView": "form"
   },
   "outputs": [],
   "source": [
    "# @title Loading Animal Faces data\n",
    "%%capture\n",
    "!rm -r AnimalFaces32x32/\n",
    "!git clone https://github.com/arashash/AnimalFaces32x32\n",
    "!rm -r afhq/\n",
    "!unzip ./AnimalFaces32x32/afhq_32x32.zip"
   ]
  },
  {
   "cell_type": "code",
   "execution_count": null,
   "metadata": {
    "cellView": "form"
   },
   "outputs": [],
   "source": [
    "# @title Loading Animal Faces Randomized data\n",
    "%%capture\n",
    "!rm -r Animal_faces_random/\n",
    "!git clone https://github.com/Ravi3191/Animal_faces_random.git\n",
    "!rm -r afhq_random_32x32/\n",
    "!unzip ./Animal_faces_random/afhq_random_32x32.zip\n",
    "!rm -r afhq_10_32x32/\n",
    "!unzip ./Animal_faces_random/afhq_10_32x32.zip"
   ]
  },
  {
   "cell_type": "code",
   "execution_count": null,
   "metadata": {
    "cellView": "form"
   },
   "outputs": [],
   "source": [
    "# @title Plotting functions\n",
    "def imshow(img):\n",
    "  img = img / 2 + 0.5     # unnormalize\n",
    "  npimg = img.numpy()\n",
    "  plt.imshow(np.transpose(npimg, (1, 2, 0)))\n",
    "  plt.axis(False)\n",
    "  plt.show()\n",
    "\n",
    "def plot_weights(norm, labels, ws, title='Weight Size Measurement'):\n",
    "  plt.figure(figsize=[8, 6])\n",
    "  plt.title(title)\n",
    "  plt.ylabel('Frobenius Norm Value')\n",
    "  plt.xlabel('Model Layers')\n",
    "  plt.bar(labels, ws)\n",
    "  plt.axhline(y=norm,\n",
    "              linewidth=1,\n",
    "              color='r',\n",
    "              ls='--',\n",
    "              label='Total Model F-Norm')\n",
    "  plt.legend()\n",
    "  plt.show()"
   ]
  },
  {
   "cell_type": "code",
   "execution_count": null,
   "metadata": {
    "cellView": "form"
   },
   "outputs": [],
   "source": [
    "# @title Helper functions\n",
    "\n",
    "##Network Class - Animal Faces\n",
    "class AnimalNet(nn.Module):\n",
    "  def __init__(self):\n",
    "    super(AnimalNet, self).__init__()\n",
    "    self.fc1 = nn.Linear(3 * 32 * 32, 128)\n",
    "    self.fc2 = nn.Linear(128, 32)\n",
    "    self.fc3 = nn.Linear(32, 3)\n",
    "\n",
    "  def forward(self, x):\n",
    "    x = x.view(x.shape[0], -1)\n",
    "    x = F.relu(self.fc1(x))\n",
    "    x = F.relu(self.fc2(x))\n",
    "    x = self.fc3(x)\n",
    "    output = F.log_softmax(x, dim=1)\n",
    "    return output\n",
    "\n",
    "\n",
    "def train(args, model, device, train_loader, optimizer, epoch,\n",
    "          reg_function1=None, reg_function2=None, criterion=F.nll_loss):\n",
    "  \"\"\"\n",
    "  Trains the current inpur model using the data\n",
    "  from Train_loader and Updates parameters for a single pass\n",
    "  \"\"\"\n",
    "  model.train()\n",
    "  for batch_idx, (data, target) in enumerate(train_loader):\n",
    "    data, target = data.to(device), target.to(device)\n",
    "    optimizer.zero_grad()\n",
    "    output = model(data)\n",
    "    if reg_function1 is None:\n",
    "      loss = criterion(output, target)\n",
    "    elif reg_function2 is None:\n",
    "      loss = criterion(output, target)+args['lambda']*reg_function1(model)\n",
    "    else:\n",
    "      loss = criterion(output, target)+args['lambda1']*reg_function1(model)+args['lambda2']*reg_function2(model)\n",
    "    loss.backward()\n",
    "    optimizer.step()\n",
    "\n",
    "\n",
    "def test(model, device, test_loader, loader = 'Test', criterion=F.nll_loss):\n",
    "  \"\"\"\n",
    "  Tests the current Model\n",
    "  \"\"\"\n",
    "  model.eval()\n",
    "  test_loss = 0\n",
    "  correct = 0\n",
    "  with torch.no_grad():\n",
    "    for data, target in test_loader:\n",
    "      data, target = data.to(device), target.to(device)\n",
    "      output = model(data)\n",
    "      test_loss += criterion(output, target, reduction='sum').item()  # sum up batch loss\n",
    "      pred = output.argmax(dim=1, keepdim=True)  # get the index of the max log-probability\n",
    "      correct += pred.eq(target.view_as(pred)).sum().item()\n",
    "\n",
    "  test_loss /= len(test_loader.dataset)\n",
    "  return 100. * correct / len(test_loader.dataset)\n",
    "\n",
    "\n",
    "def main(args, model, train_loader, val_loader, test_data,\n",
    "         reg_function1=None, reg_function2=None, criterion=F.nll_loss):\n",
    "  \"\"\"\n",
    "  Trains the model with train_loader and tests the learned model using val_loader\n",
    "  \"\"\"\n",
    "\n",
    "  use_cuda = not args['no_cuda'] and torch.cuda.is_available()\n",
    "  device = torch.device('cuda' if use_cuda else 'cpu')\n",
    "\n",
    "  model = model.to(device)\n",
    "  optimizer = optim.SGD(model.parameters(), lr=args['lr'], momentum=args['momentum'])\n",
    "\n",
    "  val_acc_list, train_acc_list,param_norm_list = [], [], []\n",
    "  for epoch in tqdm(range(args['epochs'])):\n",
    "    train(args, model, device, train_loader, optimizer, epoch,reg_function1=reg_function1,reg_function2=reg_function2)\n",
    "    train_acc = test(model,device,train_loader, 'Train')\n",
    "    val_acc = test(model,device,val_loader, 'Val')\n",
    "    param_norm = calculate_frobenius_norm(model)\n",
    "    train_acc_list.append(train_acc)\n",
    "    val_acc_list.append(val_acc)\n",
    "    param_norm_list.append(param_norm)\n",
    "\n",
    "  return val_acc_list, train_acc_list, param_norm_list, model, 0\n",
    "\n",
    "\n",
    "def calculate_frobenius_norm(model):\n",
    "\n",
    "  norm = 0.0\n",
    "\n",
    "  # Sum the square of all parameters\n",
    "  for param in model.parameters():\n",
    "      norm += torch.sum(param**2)\n",
    "\n",
    "  # Take a square root of the sum of squares of all the parameters\n",
    "  norm = norm**0.5\n",
    "  return norm\n",
    "\n",
    "\n",
    "def calculate_frobenius_norm(model):\n",
    "    norm = 0.0\n",
    "\n",
    "    for name,param in model.named_parameters():\n",
    "        norm += torch.norm(param).data**2\n",
    "    return norm**0.5\n",
    "\n",
    "\n",
    "class Net(nn.Module):\n",
    "  def __init__(self):\n",
    "    super(Net, self).__init__()\n",
    "\n",
    "    self.fc1 = nn.Linear(1, 300)\n",
    "    self.fc2 = nn.Linear(300, 500)\n",
    "    self.fc3 = nn.Linear(500, 1)\n",
    "\n",
    "  def forward(self, x):\n",
    "    x = F.leaky_relu(self.fc1(x))\n",
    "    x = F.leaky_relu(self.fc2(x))\n",
    "    output = self.fc3(x)\n",
    "    return output\n",
    "\n",
    "# Network Class - Animal Faces\n",
    "class BigAnimalNet(nn.Module):\n",
    "  def __init__(self):\n",
    "    super(BigAnimalNet, self).__init__()\n",
    "    self.fc1 = nn.Linear(3*32*32, 124)\n",
    "    self.fc2 = nn.Linear(124, 64)\n",
    "    self.fc3 = nn.Linear(64, 3)\n",
    "\n",
    "  def forward(self, x):\n",
    "    x = x.view(x.shape[0],-1)\n",
    "    x = F.leaky_relu(self.fc1(x))\n",
    "    x = F.leaky_relu(self.fc2(x))\n",
    "    x = self.fc3(x)\n",
    "    output = F.log_softmax(x, dim=1)\n",
    "    return output\n",
    "\n",
    "\n",
    "def visualize_data(dataloader):\n",
    "\n",
    "  for idx, (data,label) in enumerate(dataloader):\n",
    "    plt.figure(idx)\n",
    "    # Choose the datapoint you would like to visualize\n",
    "    index = 22\n",
    "\n",
    "    # choose that datapoint using index and permute the dimensions\n",
    "    # and bring the pixel values between [0,1]\n",
    "    data = data[index].permute(1, 2, 0) * \\\n",
    "           torch.tensor([0.5, 0.5, 0.5]) + \\\n",
    "           torch.tensor([0.5, 0.5, 0.5])\n",
    "\n",
    "    # Convert the torch tensor into numpy\n",
    "    data = data.numpy()\n",
    "\n",
    "    plt.imshow(data)\n",
    "    plt.axis(False)\n",
    "    image_class = classes[label[index].item()]\n",
    "    print(f'The image belongs to : {image_class}')\n",
    "\n",
    "  plt.show()\n",
    "\n",
    "\n",
    "def early_stopping_main(args, model, train_loader, val_loader, test_data):\n",
    "\n",
    "  device = set_device()\n",
    "\n",
    "  model = model.to(device)\n",
    "  optimizer = optim.SGD(model.parameters(), lr=args['lr'], momentum=args['momentum'])\n",
    "\n",
    "  best_acc  = 0.0\n",
    "  best_epoch = 0\n",
    "\n",
    "  # Number of successive epochs that you want to wait before stopping training process\n",
    "  patience = 20\n",
    "\n",
    "  # Keps track of number of epochs during which the val_acc was less than best_acc\n",
    "  wait = 0\n",
    "\n",
    "  val_acc_list, train_acc_list = [], []\n",
    "  for epoch in tqdm(range(args['epochs'])):\n",
    "    train(args, model, device, train_loader, optimizer, epoch)\n",
    "    train_acc = test(model,device,train_loader, 'Train')\n",
    "    val_acc = test(model,device,val_loader, 'Val')\n",
    "    if (val_acc > best_acc):\n",
    "      best_acc = val_acc\n",
    "      best_epoch = epoch\n",
    "      best_model = copy.deepcopy(model)\n",
    "      wait = 0\n",
    "    else:\n",
    "      wait += 1\n",
    "    if (wait > patience):\n",
    "      print('early stopped on epoch:',epoch)\n",
    "      break\n",
    "    train_acc_list.append(train_acc)\n",
    "    val_acc_list.append(val_acc)\n",
    "\n",
    "  return val_acc_list, train_acc_list, best_model, best_epoch"
   ]
  },
  {
   "cell_type": "code",
   "execution_count": null,
   "metadata": {
    "cellView": "form",
    "colab": {
     "base_uri": "https://localhost:8080/"
    },
    "outputId": "25ac550a-408f-41df-8997-ab1ed6bbcca0"
   },
   "outputs": [],
   "source": [
    "#@title Seeding for Reproducibility\n",
    "def set_seed(seed=None, seed_torch=True):\n",
    "  if seed is None:\n",
    "    seed = np.random.choice(2 ** 32)\n",
    "  random.seed(seed)\n",
    "  np.random.seed(seed)\n",
    "  if seed_torch:\n",
    "    torch.manual_seed(seed)\n",
    "    torch.cuda.manual_seed_all(seed)\n",
    "    torch.cuda.manual_seed(seed)\n",
    "    torch.backends.cudnn.benchmark = False\n",
    "    torch.backends.cudnn.deterministic = True\n",
    "\n",
    "  print(f'Random seed {seed} has been set.')\n",
    "\n",
    "\n",
    "# In case that `DataLoader` is used\n",
    "def seed_worker(worker_id):\n",
    "  worker_seed = torch.initial_seed() % 2**32\n",
    "  np.random.seed(worker_seed)\n",
    "  random.seed(worker_seed)\n",
    "\n",
    "\n",
    "set_seed(seed=90108, seed_torch=False)"
   ]
  },
  {
   "cell_type": "code",
   "execution_count": null,
   "metadata": {
    "cellView": "form",
    "colab": {
     "base_uri": "https://localhost:8080/",
     "height": 53
    },
    "outputId": "48d0fd9f-9c10-4b51-eb0e-e2899e2a13e1"
   },
   "outputs": [],
   "source": [
    "#@title Set device (GPU or CPU). Execute `set_device()`\n",
    "\n",
    "# inform the user if the notebook uses GPU or CPU.\n",
    "\n",
    "def set_device():\n",
    "  device = \"cuda\" if torch.cuda.is_available() else \"cpu\"\n",
    "  if device != \"cuda\":\n",
    "    print(\"WARNING: For this notebook to perform best, \"\n",
    "        \"if possible, in the menu under `Runtime` -> \"\n",
    "        \"`Change runtime type.`  select `GPU` \")\n",
    "  else:\n",
    "    print(\"GPU is enabled in this notebook.\")\n",
    "\n",
    "  return device\n",
    "\n",
    "\n",
    "set_device()"
   ]
  },
  {
   "cell_type": "code",
   "execution_count": null,
   "metadata": {
    "cellView": "form"
   },
   "outputs": [],
   "source": [
    "#@title Dataloaders for the Dataset\n",
    "##Dataloaders for the Dataset\n",
    "batch_size = 128\n",
    "classes = ('cat', 'dog', 'wild')\n",
    "\n",
    "train_transform = transforms.Compose([\n",
    "     transforms.ToTensor(),\n",
    "     transforms.Normalize((0.5, 0.5, 0.5), (0.5, 0.5, 0.5))\n",
    "     ])\n",
    "data_path = pathlib.Path('.')/'afhq' # using pathlib to be compatible with all OS's\n",
    "img_dataset = ImageFolder(data_path/'train', transform=train_transform)\n",
    "\n",
    "\n",
    "####################################################\n",
    "\n",
    "##Dataloaders for the  Original Dataset\n",
    "img_train_data, img_val_data,_ = torch.utils.data.random_split(img_dataset,\n",
    "                                                               [100, 100, 14430])\n",
    "\n",
    "#Creating train_loader and Val_loader\n",
    "train_loader = torch.utils.data.DataLoader(img_train_data,batch_size=batch_size,\n",
    "                                           worker_init_fn=seed_worker)\n",
    "val_loader = torch.utils.data.DataLoader(img_val_data,batch_size=1000,\n",
    "                                         worker_init_fn=seed_worker)\n",
    "\n",
    "#creating test dataset\n",
    "test_transform = transforms.Compose([\n",
    "     transforms.ToTensor(),\n",
    "     transforms.Normalize((0.5, 0.5, 0.5), (0.5, 0.5, 0.5))\n",
    "     ])\n",
    "img_test_dataset = ImageFolder(data_path/'val', transform=test_transform)\n",
    "\n",
    "\n",
    "####################################################\n",
    "\n",
    "##Dataloaders for the  Random Dataset\n",
    "\n",
    "#splitting randomized data into training and validation data\n",
    "data_path = pathlib.Path('.')/'afhq_random_32x32/afhq_random' # using pathlib to be compatible with all OS's\n",
    "img_dataset = ImageFolder(data_path/'train', transform=train_transform)\n",
    "random_img_train_data, random_img_val_data,_ = torch.utils.data.random_split(img_dataset, [100,100,14430])\n",
    "\n",
    "#Randomized train and validation dataloader\n",
    "rand_train_loader = torch.utils.data.DataLoader(random_img_train_data,\n",
    "                                                batch_size=batch_size,num_workers = 0,\n",
    "                                                worker_init_fn=seed_worker)\n",
    "rand_val_loader = torch.utils.data.DataLoader(random_img_val_data,\n",
    "                                              batch_size=1000,\n",
    "                                              num_workers = 0,\n",
    "                                              worker_init_fn=seed_worker)\n",
    "\n",
    "####################################################\n",
    "\n",
    "##Dataloaders for the Partially Random Dataset\n",
    "\n",
    "#Splitting data between training and validation dataset for partially randomized data\n",
    "data_path = pathlib.Path('.')/'afhq_10_32x32/afhq_10' # using pathlib to be compatible with all OS's\n",
    "img_dataset = ImageFolder(data_path/'train', transform=train_transform)\n",
    "partially_random_train_data, partially_random_val_data,_ = torch.utils.data.random_split(img_dataset, [100,100,14430])\n",
    "\n",
    "#Training and Validation loader for partially randomized data\n",
    "partial_rand_train_loader = torch.utils.data.DataLoader(partially_random_train_data,\n",
    "                                                        batch_size=batch_size,num_workers = 0,\n",
    "                                                        worker_init_fn=seed_worker)\n",
    "partial_rand_val_loader = torch.utils.data.DataLoader(partially_random_val_data,\n",
    "                                                      batch_size=1000,\n",
    "                                                      num_workers = 0,\n",
    "                                                      worker_init_fn=seed_worker)"
   ]
  },
  {
   "cell_type": "code",
   "execution_count": null,
   "metadata": {},
   "outputs": [],
   "source": [
    "# Seed parameter\n",
    "# Notice that changing this values some results may not be identical\n",
    "# with the solutions\n",
    "SEED = 2021"
   ]
  },
  {
   "cell_type": "markdown",
   "metadata": {},
   "source": [
    "---\n",
    "# Section 1: L1 and L2 Regularization\n"
   ]
  },
  {
   "cell_type": "code",
   "execution_count": null,
   "metadata": {
    "cellView": "form",
    "colab": {
     "base_uri": "https://localhost:8080/",
     "height": 581,
     "referenced_widgets": [
      "fb185e3859d4440097c39171618c9f07",
      "19e7bbc3571e493a8c1fe540ba39575d",
      "057e969aeeaa41dc9165b1740d352333",
      "9e4b55bc144045abbe370588647a5df7",
      "46be50c1a4a145df85590b0b67be56ca",
      "5442097405714fc6a78095a9e95d2b01"
     ]
    },
    "outputId": "5c22b251-111c-4698-c5a6-f93476eb8c5d"
   },
   "outputs": [],
   "source": [
    "#@title Video 1: L1 and L2 regression\n",
    "from ipywidgets import widgets\n",
    "\n",
    "out2 = widgets.Output()\n",
    "with out2:\n",
    "  from IPython.display import IFrame\n",
    "  class BiliVideo(IFrame):\n",
    "    def __init__(self, id, page=1, width=400, height=300, **kwargs):\n",
    "      self.id=id\n",
    "      src = \"https://player.bilibili.com/player.html?bvid={0}&page={1}\".format(id, page)\n",
    "      super(BiliVideo, self).__init__(src, width, height, **kwargs)\n",
    "\n",
    "  video = BiliVideo(id=f\"\", width=854, height=480, fs=1)\n",
    "  print(\"Video available at https://www.bilibili.com/video/{0}\".format(video.id))\n",
    "  display(video)\n",
    "\n",
    "out1 = widgets.Output()\n",
    "with out1:\n",
    "  from IPython.display import YouTubeVideo\n",
    "  video = YouTubeVideo(id=f\"OLl2nzOeQ68\", width=854, height=480, fs=1, rel=0)\n",
    "  print(\"Video available at https://youtube.com/watch?v=\" + video.id)\n",
    "  display(video)\n",
    "\n",
    "out = widgets.Tab([out1, out2])\n",
    "out.set_title(0, 'Youtube')\n",
    "out.set_title(1, 'Bilibili')\n",
    "\n",
    "display(out)"
   ]
  },
  {
   "cell_type": "markdown",
   "metadata": {},
   "source": [
    "Some of you might have already come across L1 and L2 regularization before in other courses. L1 and L2 are the most common types of regularization. These update the general cost function by adding another term known as the regularization term.\n",
    "\n",
    "***Cost function = Loss (say, binary cross entropy) + Regularization term***\n",
    "\n",
    "This regularization term makes the parameters smaller, giving simpler models that will overfit less."
   ]
  },
  {
   "cell_type": "markdown",
   "metadata": {},
   "source": [
    "Discuss among your teammates whether the above assumption is good or bad?"
   ]
  },
  {
   "cell_type": "markdown",
   "metadata": {},
   "source": [
    "### Section 1.1: Unregularized Model"
   ]
  },
  {
   "cell_type": "code",
   "execution_count": null,
   "metadata": {
    "cellView": "form"
   },
   "outputs": [],
   "source": [
    "#@markdown #### Dataloaders for Regularization\n",
    "data_path = pathlib.Path('.')/'afhq' # using pathlib to be compatible with all OS's\n",
    "img_dataset = ImageFolder(data_path/'train', transform=train_transform)\n",
    "\n",
    "# Splitting dataset\n",
    "reg_train_data, reg_val_data,_ = torch.utils.data.random_split(img_dataset,\n",
    "                                                               [30, 100, 14500])\n",
    "g = torch.Generator()\n",
    "g.manual_seed(SEED)\n",
    "\n",
    "# Creating train_loader and Val_loader\n",
    "reg_train_loader = torch.utils.data.DataLoader(reg_train_data,\n",
    "                                               batch_size=batch_size,\n",
    "                                               worker_init_fn=seed_worker,\n",
    "                                               generator=g)\n",
    "reg_val_loader = torch.utils.data.DataLoader(reg_val_data,\n",
    "                                             batch_size=1000,\n",
    "                                             worker_init_fn=seed_worker,\n",
    "                                             generator=g)"
   ]
  },
  {
   "cell_type": "markdown",
   "metadata": {},
   "source": [
    "Now let's train a model without any regularization and keep it aside as our benchmark for this section."
   ]
  },
  {
   "cell_type": "code",
   "execution_count": null,
   "metadata": {
    "colab": {
     "base_uri": "https://localhost:8080/",
     "height": 496,
     "referenced_widgets": [
      "758a96b2520b4d6ba2caf492d9db8301",
      "d7f110ad5179403b9ab468f0455bbb68",
      "e4ab33b91b154db6b98cace7552fecf6",
      "b6881d51d4834e8c91bbfa0d5b7c946d",
      "6facc5e974024846af999c921666735e",
      "53fd85ab88b04048a99adb57c25e9f66",
      "461b90dc3ec3469dbd7cd5a9a4200870",
      "0625d72d27cf4afd8da91382c50eed13"
     ]
    },
    "outputId": "0cdb98b3-0b97-40a9-9b66-2f5c55225ca3"
   },
   "outputs": [],
   "source": [
    "args = {\n",
    "    'epochs': 150,\n",
    "    'lr': 5e-3,\n",
    "    'momentum': 0.99,\n",
    "    'no_cuda': False,\n",
    "}\n",
    "\n",
    "acc_dict = {}\n",
    "model = AnimalNet()\n",
    "\n",
    "val_acc_unreg, train_acc_unreg,param_norm_unreg,_ ,_ = main(args,\n",
    "                                                            model,\n",
    "                                                            reg_train_loader,\n",
    "                                                            reg_val_loader,\n",
    "                                                            img_test_dataset)\n",
    "\n",
    "# Train and Test accuracy plot\n",
    "plt.figure(figsize=(8, 6))\n",
    "plt.plot(val_acc_unreg, label='Val Accuracy', c='red', ls='dashed')\n",
    "plt.plot(train_acc_unreg, label='Train Accuracy', c='red', ls='solid')\n",
    "plt.axhline(y=max(val_acc_unreg), c='green', ls='dashed')\n",
    "plt.title('Unregularized Model')\n",
    "plt.ylabel('Accuracy (%)')\n",
    "plt.xlabel('Epoch')\n",
    "plt.legend()\n",
    "plt.show()\n",
    "print('maximum Validation Accuracy reached:%f' % max(val_acc_unreg))"
   ]
  },
  {
   "cell_type": "markdown",
   "metadata": {},
   "source": [
    "## Section 1.2: L1 Regularization"
   ]
  },
  {
   "cell_type": "markdown",
   "metadata": {},
   "source": [
    "L1 (or \"LASSO\") Regularization uses a penalty which is the sum of the absolute value of all the weights in the DLN, resulting in the following loss function (L  is the usual Cross Entropy loss):\n",
    "\n",
    "\\begin{equation}\n",
    "L_R=L+λ∑|w^{(r)}_{ij}|\n",
    "\\end{equation}\n",
    "\n",
    "At a high level, L1 Regularization is similar to L2 Regularization since it leads to smaller weights. (You will see the analogy in the next subsection.) It results in the following weight update equation when using Stochastic Gradient Descent (where  sgn  is the sign function, such that  sgn(w)=+1  if  w>0 ,  sgn(w)=−1  if  $w<0$ , and sgn(0)=0 ):\n",
    "\n",
    "\\begin{equation}\n",
    "w^{(r)}_{ij}←w^{(r)}_{ij}−ηλsgn(w^{(r)}_{ij})−η\\frac{\\partial L}{\\partial w_{ij}^{r}} \n",
    "\\end{equation}"
   ]
  },
  {
   "cell_type": "markdown",
   "metadata": {},
   "source": [
    "### Coding Exercise 1.1: L1 Regularization\n",
    "\n",
    "Write a function which calculates the L1 norm of all the tensors of a Pytorch model."
   ]
  },
  {
   "cell_type": "code",
   "execution_count": null,
   "metadata": {
    "colab": {
     "base_uri": "https://localhost:8080/"
    },
    "outputId": "87c0a0da-e87d-48be-b61d-a6869467a4f7"
   },
   "outputs": [],
   "source": [
    "def l1_reg(model):\n",
    "  \"\"\"\n",
    "    Inputs: Pytorch model\n",
    "    This function calculates the l1 norm of the all the tensors in the model\n",
    "  \"\"\"\n",
    "  l1 = 0.0\n",
    "  ####################################################################\n",
    "  # Fill in all missing code below (...),\n",
    "  # then remove or comment the line below to test your function\n",
    "  raise NotImplementedError(\"Complete the l1_reg function\")\n",
    "  ####################################################################\n",
    "  for param in model.parameters():\n",
    "    l1 += ...\n",
    "\n",
    "  return l1\n",
    "\n",
    "\n",
    "set_seed(seed=SEED)\n",
    "## uncomment to test\n",
    "# net = nn.Linear(20, 20)\n",
    "# print(f'L1 norm of the model: {l1_reg(net)}')"
   ]
  },
  {
   "cell_type": "markdown",
   "metadata": {
    "colab": {
     "base_uri": "https://localhost:8080/"
    },
    "colab_type": "text",
    "outputId": "6c010388-fd8a-43b5-ff29-cad5dcde2364"
   },
   "source": [
    "[*Click for solution*](https://github.com/NeuromatchAcademy/course-content-dl/tree/main//tutorials/W1D5_Regularization/solutions/W1D5_Tutorial2_Solution_a6c2ad69.py)\n",
    "\n"
   ]
  },
  {
   "cell_type": "markdown",
   "metadata": {},
   "source": [
    "```\n",
    "Random seed 2021 has been set.\n",
    "L1 norm of the model: 48.445133209228516\n",
    "```"
   ]
  },
  {
   "cell_type": "markdown",
   "metadata": {},
   "source": [
    "Now, let's train a classifier which uses L1 regularization. Tune the hyperparameter `lambda` such that the validation accuracy is higher than that of the unregularized model."
   ]
  },
  {
   "cell_type": "code",
   "execution_count": null,
   "metadata": {
    "colab": {
     "base_uri": "https://localhost:8080/",
     "height": 496,
     "referenced_widgets": [
      "6d41e07fef7f44c987e9e065d1be07a4",
      "f0fa710697a04cd18cd6b55117847ad5",
      "3375b67d8d7345fa92e52aa69cbdc076",
      "a8bf76aa34d54ac4b0f5f739a6980162",
      "c78a7bc2b188495da17b85c51462b607",
      "7813f38fdf0644fb8f15222449562224",
      "3e795c0b61084aac91cad4eddb0b0f4b",
      "8422091109864c2b98164a2020ca2a8a"
     ]
    },
    "outputId": "f410df42-b2f7-47d9-9c85-bcb2c61570a1"
   },
   "outputs": [],
   "source": [
    "args = {\n",
    "    'epochs': 150,\n",
    "    'lr': 5e-3,\n",
    "    'momentum': 0.99,\n",
    "    'no_cuda': False,\n",
    "    'lambda': 0.0  # <<<<<<<< Tune the hyperparameter lambda\n",
    "}\n",
    "\n",
    "acc_dict = {}\n",
    "model = AnimalNet()\n",
    "\n",
    "val_acc_l1reg, train_acc_l1reg, param_norm_l1reg, _, _ = main(args,\n",
    "                                                              model,\n",
    "                                                              reg_train_loader,\n",
    "                                                              reg_val_loader,\n",
    "                                                              img_test_dataset,\n",
    "                                                              reg_function1=l1_reg)\n",
    "\n",
    "# Train and Test accuracy plot\n",
    "plt.figure(figsize=(8, 6))\n",
    "plt.plot(val_acc_l1reg, label='Val Accuracy L1 Regularized',\n",
    "         c='red', ls='dashed')\n",
    "plt.plot(train_acc_l1reg, label='Train Accuracy L1 regularized',\n",
    "         c='red', ls='solid')\n",
    "plt.axhline(y=max(val_acc_l1reg), c='green', ls='dashed')\n",
    "plt.title('L1 regularized model')\n",
    "plt.ylabel('Accuracy (%)')\n",
    "plt.xlabel('Epoch')\n",
    "plt.legend()\n",
    "plt.show()\n",
    "print('maximum Validation Accuracy reached:%f'%max(val_acc_l1reg))"
   ]
  },
  {
   "cell_type": "markdown",
   "metadata": {},
   "source": [
    "What value of Lambda worked for L1 Regularization?"
   ]
  },
  {
   "cell_type": "markdown",
   "metadata": {},
   "source": [
    "## Section 1.3: L2 / Ridge Regularization"
   ]
  },
  {
   "cell_type": "markdown",
   "metadata": {},
   "source": [
    "L2 Regularization, sometimes referred to as “Weight Decay”, is widely used. It works by adding a quadratic penalty term to the Cross Entropy Loss Function  L, which results in a new Loss Function  LR  given by:\n",
    "\n",
    "\\begin{equation}\n",
    "LR=L+λ∑(w^{(r)}_{ij})^2\n",
    "\\end{equation}\n",
    "\n",
    "In order to get further insight into L2 Regularization, we investigate its effect on the Gradient Descent based update equations for the weight and bias parameters. Taking the derivative on both sides of the above equation, we obtain\n",
    "\n",
    "\\begin{equation}\n",
    "\\frac{\\partial L_r}{\\partial w^{(r)}_{ij}}=\\frac{\\partial L}{\\partial w^{(r)}_{ij}}+λw^{(r)}_{ij}\n",
    "\\end{equation}\n",
    "Thus the weight update rule becomes:\n",
    "\n",
    "\\begin{equation}\n",
    "w^{(r)}_{ij}←w^{(r)}_{ij}−η\\frac{\\partial L}{\\partial W^{(r)}_{ij}}−ηλw^{(r)}_{ij}=(1−ηλ)w^{(r)}_{ij}−η\\frac{\\partial L}{\\partial w^{(r)}_{ij}}\n",
    "\\end{equation}\n",
    "\n",
    "where, $\\eta$ is learning rate."
   ]
  },
  {
   "cell_type": "markdown",
   "metadata": {},
   "source": [
    "### Coding Exercise 1.2: L2 Regularization\n",
    "\n",
    "Write a function which calculates the L2 norm of all the tensors of a Pytorch model. (What did we call this before?)"
   ]
  },
  {
   "cell_type": "code",
   "execution_count": null,
   "metadata": {
    "colab": {
     "base_uri": "https://localhost:8080/"
    },
    "outputId": "f22ce55f-0e0f-4555-edb2-1d178de2f9f8"
   },
   "outputs": [],
   "source": [
    "def l2_reg(model):\n",
    "\n",
    "  \"\"\"\n",
    "    Inputs: Pytorch model\n",
    "    This function calculates the l2 norm of the all the tensors in the model\n",
    "  \"\"\"\n",
    "\n",
    "  l2 = 0.0\n",
    "  ####################################################################\n",
    "  # Fill in all missing code below (...),\n",
    "  # then remove or comment the line below to test your function\n",
    "  raise NotImplementedError(\"Complete the l2_reg function\")\n",
    "  ####################################################################\n",
    "  for param in model.parameters():\n",
    "    l2 += ...\n",
    "\n",
    "  return l2\n",
    "\n",
    "\n",
    "set_seed(SEED)\n",
    "## uncomment to test\n",
    "# net = nn.Linear(20, 20)\n",
    "# print(f'L2 norm of the model: {l2_reg(net)}')"
   ]
  },
  {
   "cell_type": "markdown",
   "metadata": {
    "colab": {
     "base_uri": "https://localhost:8080/"
    },
    "colab_type": "text",
    "outputId": "dbb604a0-bc83-4446-f9b0-f5168cc8d1b0"
   },
   "source": [
    "[*Click for solution*](https://github.com/NeuromatchAcademy/course-content-dl/tree/main//tutorials/W1D5_Regularization/solutions/W1D5_Tutorial2_Solution_984c4088.py)\n",
    "\n"
   ]
  },
  {
   "cell_type": "markdown",
   "metadata": {},
   "source": [
    "```\n",
    "Random seed 2021 has been set.\n",
    "L2 norm of the model: 7.328375816345215\n",
    "```"
   ]
  },
  {
   "cell_type": "markdown",
   "metadata": {},
   "source": [
    "Now we'll train a classifier which uses L2 regularization. Tune the hyperparameter `lambda` such that the val accuracy is higher than that of the unregularized model."
   ]
  },
  {
   "cell_type": "code",
   "execution_count": null,
   "metadata": {
    "colab": {
     "base_uri": "https://localhost:8080/",
     "height": 496,
     "referenced_widgets": [
      "6091955a81de4e40b979e4c5d0451320",
      "a2c461a296624904b8b98d2869c19b9c",
      "aa60f040a53d4ddca08a64d4213de290",
      "5e1d18049d3a48d49fb20a1e5022e8fa",
      "d0c3c3d592054b118544396808252ccd",
      "32f9b4188eeb469da6efeec403e07809",
      "9290a70d20904598bb99d5950fa2b381",
      "ee2c7032535f45528730753561aa36ef"
     ]
    },
    "outputId": "155c0762-a267-410b-888f-1959d4763a54"
   },
   "outputs": [],
   "source": [
    "args = {\n",
    "    'test_batch_size': 1000,\n",
    "    'epochs': 150,\n",
    "    'lr': 5e-3,\n",
    "    'momentum': 0.99,\n",
    "    'no_cuda': False,\n",
    "    'lambda': 0.0  # <<<<<<<< Tune the hyperparameter lambda\n",
    "}\n",
    "\n",
    "acc_dict = {}\n",
    "model = AnimalNet()\n",
    "\n",
    "val_acc_l2reg, train_acc_l2reg, param_norm_l2reg, model, _ = main(args,\n",
    "                                                                  model,\n",
    "                                                                  train_loader,\n",
    "                                                                  val_loader,\n",
    "                                                                  img_test_dataset,\n",
    "                                                                  reg_function2=l2_reg)\n",
    "\n",
    "##Train and Test accuracy plot\n",
    "plt.figure(figsize=(8, 6))\n",
    "plt.plot(val_acc_l2reg, label='Val Accuracy L2 regularized',\n",
    "         c='red', ls='dashed')\n",
    "plt.plot(train_acc_l2reg, label='Train Accuracy L2 regularized',\n",
    "         c='red', ls='solid')\n",
    "plt.axhline(y=max(val_acc_l2reg), c='green', ls='dashed')\n",
    "plt.title('L2 Regularized Model')\n",
    "plt.ylabel('Accuracy (%)')\n",
    "plt.xlabel('Epoch')\n",
    "plt.legend()\n",
    "plt.show()\n",
    "print('maximum Validation Accuracy reached:%f'%max(val_acc_l2reg))"
   ]
  },
  {
   "cell_type": "markdown",
   "metadata": {},
   "source": [
    "What value of Lambda worked for L2 Regularization?"
   ]
  },
  {
   "cell_type": "code",
   "execution_count": null,
   "metadata": {
    "cellView": "form",
    "colab": {
     "base_uri": "https://localhost:8080/",
     "height": 479,
     "referenced_widgets": [
      "77fcca93f7d64311b2446d98fb199678",
      "3b7926c8eaaa480786b0098d846ca1a7",
      "bd8558ab83b74080be93665edac3afa2",
      "ecd4aee0ef1f4b39abe4f7e38591511a",
      "a85eca239c5b4c86b1e7fb5005fa6275",
      "3e55cb29e3ea4fe6b068b65d309568a3",
      "6c30a6f24950452092277e35389107a2",
      "dd6976daf1ff4e68928ea14632ed95cd"
     ]
    },
    "outputId": "045a0925-5dfc-444a-f8cb-b1ab97309fac"
   },
   "outputs": [],
   "source": [
    "#@markdown #### Visualize all of them together (Run Me!)\n",
    "args = {'test_batch_size': 1000,\n",
    "        'epochs': 150,\n",
    "        'lr': 5e-3,\n",
    "        'momentum': 0.99,\n",
    "        'no_cuda': False,\n",
    "        'lambda1': 0.001,\n",
    "        'lambda2': 0.001\n",
    "        }\n",
    "model = AnimalNet()\n",
    "val_acc_l1l2reg, train_acc_l1l2reg, param_norm_l1l2reg, _, _ = main(args,\n",
    "                                                  model,\n",
    "                                                  train_loader,\n",
    "                                                  val_loader,\n",
    "                                                  img_test_dataset,\n",
    "                                                  reg_function1=l1_reg,\n",
    "                                                  reg_function2=l2_reg)\n",
    "\n",
    "plt.figure(figsize=(12, 6))\n",
    "plt.plot(val_acc_l2reg,c='red',ls = 'dashed')\n",
    "plt.plot(train_acc_l2reg,label='L2 regularized',c='red',ls = 'solid')\n",
    "plt.axhline(y=max(val_acc_l2reg),c = 'red',ls = 'dashed')\n",
    "plt.plot(val_acc_l1reg,c='green',ls = 'dashed')\n",
    "plt.plot(train_acc_l1reg,label='L1 regularized',c='green',ls = 'solid')\n",
    "plt.axhline(y=max(val_acc_l1reg),c = 'green',ls = 'dashed')\n",
    "plt.plot(val_acc_unreg,c='blue',ls = 'dashed')\n",
    "plt.plot(train_acc_unreg,label='Unregularized',c='blue',ls = 'solid')\n",
    "plt.axhline(y=max(val_acc_unreg),c = 'blue',ls = 'dashed')\n",
    "plt.plot(val_acc_l1l2reg,c='orange',ls = 'dashed')\n",
    "plt.plot(train_acc_l1l2reg,label='L1+L2 regularized',c='orange',ls = 'solid')\n",
    "plt.axhline(y=max(val_acc_l1l2reg),c = 'orange',ls = 'dashed')\n",
    "\n",
    "plt.title('Unregularized Vs L1-Regularized vs L2-regularized Vs L1+L2 regularized')\n",
    "plt.xlabel('epoch')\n",
    "plt.ylabel('Accuracy(%)')\n",
    "plt.legend()\n",
    "plt.show()"
   ]
  },
  {
   "cell_type": "markdown",
   "metadata": {},
   "source": [
    "Now, let's visualize what these different regularization does to the parameters of the model. We observe the effect by computing the size (technically, the Frobenius norm) of the model parameters"
   ]
  },
  {
   "cell_type": "code",
   "execution_count": null,
   "metadata": {
    "cellView": "form",
    "colab": {
     "base_uri": "https://localhost:8080/",
     "height": 430
    },
    "outputId": "c33b031a-22bf-44f0-8374-713a09712f67"
   },
   "outputs": [],
   "source": [
    "#@markdown #### Visualize Norm of the Models (Train Me!)\n",
    "plt.figure(figsize=(8, 6))\n",
    "plt.plot(param_norm_unreg,label='Unregularized',c = 'blue')\n",
    "plt.plot(param_norm_l1reg,label = 'L1 Regularized', c='green')\n",
    "plt.plot(param_norm_l2reg,label='L2 Regularized',c='red')\n",
    "plt.plot(param_norm_l1l2reg,label='L1+L2 Regularized',c='orange')\n",
    "plt.title('Parameter Norm as a function of training Epoch')\n",
    "plt.xlabel('epoch')\n",
    "plt.ylabel('Parameter Norms')\n",
    "plt.legend()\n",
    "plt.show()"
   ]
  },
  {
   "cell_type": "markdown",
   "metadata": {},
   "source": [
    "In the above plots, you should have seen that even after the model acheives 100% train accuracy the val accuracies are fluctuating This suggests that the model is still trying to learn something. Why whould this be the case?"
   ]
  },
  {
   "cell_type": "markdown",
   "metadata": {},
   "source": [
    "---\n",
    "# Section 2: Dropout\n"
   ]
  },
  {
   "cell_type": "code",
   "execution_count": null,
   "metadata": {
    "cellView": "form",
    "colab": {
     "base_uri": "https://localhost:8080/",
     "height": 581,
     "referenced_widgets": [
      "db8c4dc98ec34dd898801e6de9c7f030",
      "29753c52a5234fe986085480e2ec47f3",
      "6df098a6589c426bacc341a6217b4d72",
      "54443210394f47feb28f4a6609f9612c",
      "12dd696ee15b4c649f60a9a964960403",
      "0540f9f15fd44e0bbeeebc79bd2061cb"
     ]
    },
    "outputId": "65017bf7-82b8-459a-d4cf-28da02834113"
   },
   "outputs": [],
   "source": [
    "#@title Video 2: Dropout\n",
    "from ipywidgets import widgets\n",
    "\n",
    "out2 = widgets.Output()\n",
    "with out2:\n",
    "  from IPython.display import IFrame\n",
    "  class BiliVideo(IFrame):\n",
    "    def __init__(self, id, page=1, width=400, height=300, **kwargs):\n",
    "      self.id=id\n",
    "      src = \"https://player.bilibili.com/player.html?bvid={0}&page={1}\".format(id, page)\n",
    "      super(BiliVideo, self).__init__(src, width, height, **kwargs)\n",
    "\n",
    "  video = BiliVideo(id=f\"\", width=854, height=480, fs=1)\n",
    "  print(\"Video available at https://www.bilibili.com/video/{0}\".format(video.id))\n",
    "  display(video)\n",
    "\n",
    "out1 = widgets.Output()\n",
    "with out1:\n",
    "  from IPython.display import YouTubeVideo\n",
    "  video = YouTubeVideo(id=f\"a4nX4T-3xsc\", width=854, height=480, fs=1, rel=0)\n",
    "  print(\"Video available at https://youtube.com/watch?v=\" + video.id)\n",
    "  display(video)\n",
    "\n",
    "out = widgets.Tab([out1, out2])\n",
    "out.set_title(0, 'Youtube')\n",
    "out.set_title(1, 'Bilibili')\n",
    "\n",
    "display(out)"
   ]
  },
  {
   "cell_type": "markdown",
   "metadata": {},
   "source": [
    "In dropout, we literally drop out (zero out) some neurons during training. Throughout training, on each iteration, standard dropout zeros out some fraction (usually 1/2) of the nodes in each layer before calculating the subsequent layer. Randomly selecting different subsets to dropout introduces noise into the process and reduces overfitting.\n",
    "\n",
    "<center><img src=\"https://d2l.ai/_images/dropout2.svg\" alt=\"Dropout\" width=\"600\"/></center>\n"
   ]
  },
  {
   "cell_type": "markdown",
   "metadata": {},
   "source": [
    "Now let's revisit the toy dataset that we generated above to visualize how the dropout stabilizes training on a noisy dataset. We will slightly modify the architecture we used above to add dropout layers."
   ]
  },
  {
   "cell_type": "code",
   "execution_count": null,
   "metadata": {},
   "outputs": [],
   "source": [
    "# Network Class - 2D\n",
    "class Net(nn.Module):\n",
    "  def __init__(self):\n",
    "    super(Net, self).__init__()\n",
    "\n",
    "    self.fc1 = nn.Linear(1, 300)\n",
    "    self.fc2 = nn.Linear(300, 500)\n",
    "    self.fc3 = nn.Linear(500, 1)\n",
    "    self.dropout1 = nn.Dropout(0.4)\n",
    "    self.dropout2 = nn.Dropout(0.2)\n",
    "\n",
    "  def forward(self, x):\n",
    "    x = F.leaky_relu(self.dropout1(self.fc1(x)))\n",
    "    x = F.leaky_relu(self.dropout2(self.fc2(x)))\n",
    "    output = self.fc3(x)\n",
    "    return output"
   ]
  },
  {
   "cell_type": "code",
   "execution_count": null,
   "metadata": {
    "cellView": "form",
    "colab": {
     "base_uri": "https://localhost:8080/",
     "height": 116,
     "referenced_widgets": [
      "afe7fa5466ae4da2a2a3a574e26e9fe1",
      "c8572041591a4124a83cc2ae937bad0b",
      "0f8c3ded24214d66864e74485d39e0ad",
      "1fa71562b70e45eea02b308dfed9c0d4",
      "0fde125b4d4e4d93924f27ffe434dd29",
      "97ad63daf2d8468f88667e71fa184982",
      "005479e78f4c482e915f40e00e326edd",
      "57862e503b5b4945b65b65cb16d17431",
      "1bab3b28073043b9a38d2348fd0bfe2f",
      "b05bf547a043412dbfe4a064a376eb87",
      "83823ecfe9ca451ba716a678ed378c8d",
      "16915b14aeb946d5b78aa3584aba324b",
      "bff68ecbe1e1455c9b41e09813a8be3b",
      "a5138c9688664a11ab6d7d03ea20c393",
      "6cc6e07e143a43a2a9ea3a2fa12b6d04",
      "592346673bde4eb0bc86599dc9ebe85e"
     ]
    },
    "outputId": "a03981e2-e5c1-496f-cb4e-b081f36a521e"
   },
   "outputs": [],
   "source": [
    "#@markdown #### Run to train the default network\n",
    "\n",
    "#creating train data\n",
    "X = torch.rand((10,1))\n",
    "X.sort(dim = 0)\n",
    "Y = 2*X + 2*torch.empty((X.shape[0],1)).normal_(mean=0,std=1) #adding small error in the data\n",
    "\n",
    "X = X.unsqueeze_(1)\n",
    "Y = Y.unsqueeze_(1)\n",
    "\n",
    "#creating test dataset\n",
    "X_test = torch.linspace(0, 1, 40)\n",
    "X_test = X_test.reshape((40, 1, 1))\n",
    "\n",
    "#train the network on toy dataset\n",
    "model = Net()\n",
    "criterion = nn.MSELoss()\n",
    "optimizer = optim.Adam(model.parameters(),lr = 1e-4)\n",
    "max_epochs = 10000\n",
    "iters = 0\n",
    "\n",
    "running_predictions = np.empty((40,(int)(max_epochs/500 + 1)))\n",
    "\n",
    "train_loss = []\n",
    "test_loss = []\n",
    "model_norm = []\n",
    "\n",
    "for epoch in tqdm(range(max_epochs)):\n",
    "\n",
    "  #training\n",
    "  model_norm.append(calculate_frobenius_norm(model))\n",
    "  model.train()\n",
    "  optimizer.zero_grad()\n",
    "  predictions = model(X)\n",
    "  loss = criterion(predictions,Y)\n",
    "  loss.backward()\n",
    "  optimizer.step()\n",
    "\n",
    "  train_loss.append(loss.data)\n",
    "  model.eval()\n",
    "  Y_test = model(X_test)\n",
    "  loss = criterion(Y_test,2*X_test)\n",
    "  test_loss.append(loss.data)\n",
    "\n",
    "  if (epoch % 500 == 0 or epoch == max_epochs - 1):\n",
    "    running_predictions[:,iters] = Y_test[:,0,0].detach().numpy()\n",
    "    iters += 1\n",
    "\n",
    "\n",
    "model = BigAnimalNet()\n",
    "\n",
    "args = {'test_batch_size': 1000,\n",
    "        'epochs': 200,\n",
    "        'lr': 5e-3,\n",
    "        'momentum': 0.9,\n",
    "        'no_cuda': False,\n",
    "        }\n",
    "\n",
    "val_acc_pure, train_acc_pure, _, model ,_ = main(args,\n",
    "                                                 model,\n",
    "                                                 train_loader,\n",
    "                                                 val_loader,\n",
    "                                                 img_test_dataset)"
   ]
  },
  {
   "cell_type": "code",
   "execution_count": null,
   "metadata": {
    "colab": {
     "base_uri": "https://localhost:8080/",
     "height": 66,
     "referenced_widgets": [
      "27b788fc3c404317a8e39ad170534354",
      "e7253337a63d4b83b7375a1ef2085644",
      "1d87c31f47ac4dd5bd5d01d741448496",
      "5fc514c416b943a692ef39db5a50616c",
      "8ef62baf22384ca8b1903b312065dec1",
      "4d81f87f955e4713aac1f653b19bb0d2",
      "582b6f6739b649ca9c3e9ccf40a25d17",
      "fa99d382c48a428f8038f1b4f35c129b"
     ]
    },
    "outputId": "1177adb7-18fc-41c2-9b23-b0c7b2b2b5a4"
   },
   "outputs": [],
   "source": [
    "# train the network on toy dataset\n",
    "model = Net()\n",
    "criterion = nn.MSELoss()\n",
    "optimizer = optim.Adam(model.parameters(), lr=1e-4)\n",
    "max_epochs = 10000\n",
    "iters = 0\n",
    "\n",
    "running_predictions_dp = np.empty((40, (int)(max_epochs / 500)))\n",
    "\n",
    "train_loss_dp = []\n",
    "test_loss_dp = []\n",
    "model_norm_dp = []\n",
    "\n",
    "for epoch in tqdm(range(max_epochs)):\n",
    "\n",
    "  # training\n",
    "  model_norm_dp.append(calculate_frobenius_norm(model))\n",
    "  model.train()\n",
    "  optimizer.zero_grad()\n",
    "  predictions = model(X)\n",
    "  loss = criterion(predictions, Y)\n",
    "  loss.backward()\n",
    "  optimizer.step()\n",
    "\n",
    "  train_loss_dp.append(loss.data)\n",
    "  model.eval()\n",
    "  Y_test = model(X_test)\n",
    "  loss = criterion(Y_test, 2*X_test)\n",
    "  test_loss_dp.append(loss.data)\n",
    "\n",
    "  if (epoch % 500 == 0 or epoch == max_epochs):\n",
    "    running_predictions_dp[:, iters] = Y_test[:, 0, 0].detach().numpy()\n",
    "    iters += 1"
   ]
  },
  {
   "cell_type": "markdown",
   "metadata": {},
   "source": [
    "Now that we have finished training, let's see how the model has evolved over the training process."
   ]
  },
  {
   "cell_type": "code",
   "execution_count": null,
   "metadata": {
    "cellView": "form",
    "colab": {
     "base_uri": "https://localhost:8080/",
     "height": 454
    },
    "outputId": "8447fe00-5d35-4c08-8a26-2cde0f93744e"
   },
   "outputs": [],
   "source": [
    "#@markdown #### Visualization (Run Me!)\n",
    "fig = plt.figure(figsize=(8, 6))\n",
    "ax = plt.axes()\n",
    "def frame(i):\n",
    "    ax.clear()\n",
    "    ax.scatter(X[:,0,:].numpy(),Y[:,0,:].numpy())\n",
    "    plot = ax.plot(X_test[:,0,:].detach().numpy(),running_predictions_dp[:,i])\n",
    "    title = \"Epoch: \" + str(i * 500)\n",
    "    plt.title(title)\n",
    "    ax.set_xlabel(\"X axis\")\n",
    "    ax.set_ylabel(\"Y axis\")\n",
    "    return plot\n",
    "anim = animation.FuncAnimation(fig, frame, frames=range(20), blit=False, repeat=False, repeat_delay=10000)\n",
    "html_anim = HTML(anim.to_html5_video());\n",
    "plt.close()\n",
    "display(html_anim)"
   ]
  },
  {
   "cell_type": "code",
   "execution_count": null,
   "metadata": {
    "cellView": "form",
    "colab": {
     "base_uri": "https://localhost:8080/",
     "height": 430
    },
    "outputId": "34424cc4-7c69-4f13-a553-0b3367c6956f"
   },
   "outputs": [],
   "source": [
    "#@markdown #### Plot the train and test losses\n",
    "plt.figure(figsize=(8, 6))\n",
    "plt.plot(test_loss_dp,label='test_loss dropout',c = 'blue',ls='dashed')\n",
    "plt.plot(test_loss, label='test_loss',c = 'red',ls='dashed')\n",
    "plt.ylabel('loss')\n",
    "plt.xlabel('epochs')\n",
    "plt.title('dropout vs without dropout')\n",
    "plt.legend()\n",
    "plt.show()"
   ]
  },
  {
   "cell_type": "code",
   "execution_count": null,
   "metadata": {
    "cellView": "form",
    "colab": {
     "base_uri": "https://localhost:8080/",
     "height": 430
    },
    "outputId": "d5e956a0-8ced-4de8-fbec-8e63072ed692"
   },
   "outputs": [],
   "source": [
    "#@markdown #### Plot the train and test losses\n",
    "plt.figure(figsize=(8, 6))\n",
    "plt.plot(train_loss_dp,label='train_loss dropout',c = 'blue',ls='dashed')\n",
    "plt.plot(train_loss, label='train_loss',c = 'red',ls='dashed')\n",
    "plt.ylabel('loss')\n",
    "plt.xlabel('epochs')\n",
    "plt.title('dropout vs without dropout')\n",
    "plt.legend()\n",
    "plt.show()"
   ]
  },
  {
   "cell_type": "code",
   "execution_count": null,
   "metadata": {
    "cellView": "form",
    "colab": {
     "base_uri": "https://localhost:8080/",
     "height": 430
    },
    "outputId": "892ce540-e1f1-428b-86c0-15119cbbb15d"
   },
   "outputs": [],
   "source": [
    "#@markdown #### Plot model weights with epoch\n",
    "plt.figure(figsize=(8, 6))\n",
    "plt.plot(model_norm_dp, label = 'dropout')\n",
    "plt.plot(model_norm, label = 'no dropout')\n",
    "plt.ylabel('norm of the model')\n",
    "plt.xlabel('epochs')\n",
    "plt.legend()\n",
    "plt.title('Size of the model vs Epochs')\n",
    "plt.show()"
   ]
  },
  {
   "cell_type": "markdown",
   "metadata": {},
   "source": [
    "Do you think this performed better than the initial model?"
   ]
  },
  {
   "cell_type": "markdown",
   "metadata": {},
   "source": [
    "## Section 2.1: Dropout Implementation Caveats: "
   ]
  },
  {
   "cell_type": "markdown",
   "metadata": {},
   "source": [
    "\n",
    "*  Dropout is used only during training, during testing the complete model weights are used and hence it is important to use model.eval() before testing the model. \n",
    "\n",
    "* Dropout reduces the capacity of the model during training and hence as a general practice wider networks are used when using dropout. If you are using a dropout with a random probability of 0.5 then you might want to double the number of hidden neurons in that layer."
   ]
  },
  {
   "cell_type": "markdown",
   "metadata": {},
   "source": [
    "Now, let's see how dropout fares on the Animal Faces Dataset. We first modify the existing model to include dropout and then train the model."
   ]
  },
  {
   "cell_type": "code",
   "execution_count": null,
   "metadata": {},
   "outputs": [],
   "source": [
    "# Network Class - Animal Faces\n",
    "class AnimalNetDropout(nn.Module):\n",
    "  def __init__(self):\n",
    "    torch.manual_seed(32)\n",
    "    super(AnimalNetDropout, self).__init__()\n",
    "    self.fc1 = nn.Linear(3*32*32, 248)\n",
    "    self.fc2 = nn.Linear(248, 210)\n",
    "    self.fc3 = nn.Linear(210, 3)\n",
    "    self.dropout1 = nn.Dropout(p=0.5)\n",
    "    self.dropout2 = nn.Dropout(p=0.3)\n",
    "\n",
    "  def forward(self, x):\n",
    "      x = x.view(x.shape[0], -1)\n",
    "      x = F.leaky_relu(self.dropout1(self.fc1(x)))\n",
    "      x =F.leaky_relu(self.dropout2(self.fc2(x)))\n",
    "      x = self.fc3(x)\n",
    "      output = F.log_softmax(x, dim=1)\n",
    "      return output"
   ]
  },
  {
   "cell_type": "code",
   "execution_count": null,
   "metadata": {
    "colab": {
     "base_uri": "https://localhost:8080/",
     "height": 479,
     "referenced_widgets": [
      "808bb9bcaf8b4489baf499280df79f32",
      "70910f3ce15740a0b9f483c826bb5857",
      "fbe3eeccb91246988662d083e87b7774",
      "f7d48b15a6d6433c8355791ea1e77c4a",
      "a43dc4eb56ec4d719ce91f6b3620f836",
      "f16b56e5b15446419e32b5c69c159614",
      "cdd90c0e5394402f8c0c98d33ddf7cee",
      "61fb26fa0a4e47a6a9439abdb2c06694"
     ]
    },
    "outputId": "cf40b1b7-778c-48f3-9db7-612ee9419d68"
   },
   "outputs": [],
   "source": [
    "args = {\n",
    "    'test_batch_size': 1000,\n",
    "    'epochs': 200,\n",
    "    'lr': 5e-3,\n",
    "    'batch_size': 32,\n",
    "    'momentum': 0.9,\n",
    "    'no_cuda': False,\n",
    "    'seed': 1,\n",
    "    'log_interval': 100\n",
    "}\n",
    "\n",
    "acc_dict = {}\n",
    "model = AnimalNetDropout()\n",
    "\n",
    "val_acc_dropout, train_acc_dropout, _, model ,_ = main(args,\n",
    "                                                       model,\n",
    "                                                       train_loader,\n",
    "                                                       val_loader,\n",
    "                                                       img_test_dataset)\n",
    "\n",
    "##Train and Test accuracy plot\n",
    "\n",
    "plt.plot(val_acc_pure, label='Val', c='blue', ls='dashed')\n",
    "plt.plot(train_acc_pure, label='Train', c='blue', ls='solid')\n",
    "plt.plot(val_acc_dropout, label='Val - DP', c='red', ls='dashed')\n",
    "plt.plot(train_acc_dropout, label='Train - DP', c='red', ls='solid')\n",
    "plt.title('Dropout')\n",
    "plt.ylabel('Accuracy (%)')\n",
    "plt.xlabel('Epoch')\n",
    "plt.legend()\n",
    "plt.show()"
   ]
  },
  {
   "cell_type": "markdown",
   "metadata": {},
   "source": [
    "When do you think dropouts can perform bad and do you think their placement within a model matters?"
   ]
  },
  {
   "cell_type": "markdown",
   "metadata": {},
   "source": [
    "---\n",
    "# Section 3: Data Augmentation\n"
   ]
  },
  {
   "cell_type": "code",
   "execution_count": null,
   "metadata": {
    "cellView": "form",
    "colab": {
     "base_uri": "https://localhost:8080/",
     "height": 581,
     "referenced_widgets": [
      "fd55b5bc57d74b658a83d460c2ee7a9a",
      "54015d2a5489448791835012a84c7713",
      "33e78dbc9def40a8a2458286fc654c49",
      "c682f88cbb4c4435bccce8f8e6b57f64",
      "7e71cec1589c43d9b80fab35a9d6654c",
      "6731c7c95a1b41308f05cae7d281bcf3"
     ]
    },
    "outputId": "ee9eceeb-8910-448c-936c-141391fa7565"
   },
   "outputs": [],
   "source": [
    "#@title Video 3: Data Augmentation\n",
    "from ipywidgets import widgets\n",
    "\n",
    "out2 = widgets.Output()\n",
    "with out2:\n",
    "  from IPython.display import IFrame\n",
    "  class BiliVideo(IFrame):\n",
    "    def __init__(self, id, page=1, width=400, height=300, **kwargs):\n",
    "      self.id=id\n",
    "      src = \"https://player.bilibili.com/player.html?bvid={0}&page={1}\".format(id, page)\n",
    "      super(BiliVideo, self).__init__(src, width, height, **kwargs)\n",
    "\n",
    "  video = BiliVideo(id=f\"\", width=854, height=480, fs=1)\n",
    "  print(\"Video available at https://www.bilibili.com/video/{0}\".format(video.id))\n",
    "  display(video)\n",
    "\n",
    "out1 = widgets.Output()\n",
    "with out1:\n",
    "  from IPython.display import YouTubeVideo\n",
    "  video = YouTubeVideo(id=f\"NvwRMX6v-S8\", width=854, height=480, fs=1, rel=0)\n",
    "  print(\"Video available at https://youtube.com/watch?v=\" + video.id)\n",
    "  display(video)\n",
    "\n",
    "out = widgets.Tab([out1, out2])\n",
    "out.set_title(0, 'Youtube')\n",
    "out.set_title(1, 'Bilibili')\n",
    "\n",
    "display(out)"
   ]
  },
  {
   "cell_type": "markdown",
   "metadata": {},
   "source": [
    "Data augmentation is often used to increase the number of training samples. Now we will explore the effects of data augmentation on regularization. Here regularization is acheived by adding noise into training data after every epoch.\n",
    "\n",
    "Pytorch's torchvision module provides a few built-in data augmentation techniques, which we can use on image datasets. Some of the techniques we most frequently use are:\n",
    "\n",
    "\n",
    "*   Random Crop\n",
    "*   Random Rotate\n",
    "*   Vertical Flip\n",
    "*   Horizontal Flip\n",
    "\n"
   ]
  },
  {
   "cell_type": "code",
   "execution_count": null,
   "metadata": {
    "cellView": "form"
   },
   "outputs": [],
   "source": [
    "#@markdown ####  Data Loader without Data Augmentation\n",
    "train_transform = transforms.Compose([\n",
    "     transforms.ToTensor(),\n",
    "     transforms.Normalize((0.5, 0.5, 0.5), (0.5, 0.5, 0.5))\n",
    "     ])\n",
    "data_path = pathlib.Path('.')/'afhq' # using pathlib to be compatible with all OS's\n",
    "img_dataset = ImageFolder(data_path/'train', transform=train_transform)\n",
    "\n",
    "#Splitting dataset\n",
    "img_train_data, img_val_data,_ = torch.utils.data.random_split(img_dataset, [250,100,14280])\n",
    "\n",
    "#Creating train_loader and Val_loader\n",
    "train_loader = torch.utils.data.DataLoader(img_train_data,batch_size=batch_size,worker_init_fn=seed_worker)\n",
    "val_loader = torch.utils.data.DataLoader(img_val_data,batch_size=1000,worker_init_fn=seed_worker)"
   ]
  },
  {
   "cell_type": "markdown",
   "metadata": {},
   "source": [
    "Define a DataLoader using [torchvision.transforms](https://pytorch.org/docs/stable/torchvision/transforms.html) which randomly augments the data for us. "
   ]
  },
  {
   "cell_type": "code",
   "execution_count": null,
   "metadata": {},
   "outputs": [],
   "source": [
    "##Data Augmentation using transforms\n",
    "new_transforms = transforms.Compose([\n",
    "                                     transforms.RandomHorizontalFlip(p=0.1),\n",
    "                                     transforms.RandomVerticalFlip(p=0.1),\n",
    "                                     transforms.ToTensor(),\n",
    "                                     transforms.Normalize((0.5, 0.5, 0.5),\n",
    "                                                          (0.5, 0.5, 0.5))\n",
    "])\n",
    "\n",
    "data_path = pathlib.Path('.')/'afhq' # using pathlib to be compatible with all OS's\n",
    "img_dataset = ImageFolder(data_path/'train', transform=new_transforms)\n",
    "#Splitting dataset\n",
    "new_train_data, _,_ = torch.utils.data.random_split(img_dataset,\n",
    "                                                    [250, 100, 14280])\n",
    "\n",
    "#Creating train_loader and Val_loader\n",
    "new_train_loader = torch.utils.data.DataLoader(new_train_data,\n",
    "                                               batch_size=batch_size,\n",
    "                                               worker_init_fn=seed_worker)"
   ]
  },
  {
   "cell_type": "code",
   "execution_count": null,
   "metadata": {
    "colab": {
     "base_uri": "https://localhost:8080/",
     "height": 528,
     "referenced_widgets": [
      "98ff7bde0f83418986dc0634647ab84f",
      "6eb0d71ae6ae4a469b0db28b9b54c8ba",
      "10b441c7e885412b93f37cd1a5bd6f0d",
      "d5e088d4bb14479aafad6dc80f6d0c90",
      "4d34f22886db4b4a85958025f5263f7f",
      "2a0c2d7b1ed1460bb034d01f64424c0d",
      "a9b686ba88654da58f46fcd3017ff067",
      "3e8d9f68f75c40ff9ad3228cbf765cf1",
      "6634d10ced32420c8f66455425523685",
      "181c84ff64d040caa8b912e55f33bdf6",
      "1d43cbf5ff544774aceae6b15121f120",
      "a1dabf3f2ab549b38afd134138b128d5",
      "f447e4e3f50f48c1a2b748fd56f75529",
      "379c786da5f8451f89c58533a974bc22",
      "f1d0eb39b0f94c8ebe9fff088ea336a3",
      "4d4999d0334942e3902e4623512ee7f9"
     ]
    },
    "outputId": "f43f0be9-b4c5-48f8-b67d-b1d7537d98fd"
   },
   "outputs": [],
   "source": [
    "args = {\n",
    "    'epochs': 250,\n",
    "    'lr': 1e-3,\n",
    "    'momentum': 0.99,\n",
    "    'no_cuda': False,\n",
    "}\n",
    "\n",
    "\n",
    "acc_dict = {}\n",
    "model = AnimalNet()\n",
    "\n",
    "val_acc_dataaug, train_acc_dataaug, param_norm_datadug, _ ,_ = main(args,\n",
    "                                                                    model,\n",
    "                                                                    new_train_loader,\n",
    "                                                                    val_loader,\n",
    "                                                                    img_test_dataset)\n",
    "model = AnimalNet()\n",
    "val_acc_pure, train_acc_pure, param_norm_pure, _, _ = main(args,\n",
    "                                                           model,\n",
    "                                                           train_loader,\n",
    "                                                           val_loader,\n",
    "                                                           img_test_dataset)\n",
    "\n",
    "\n",
    "##Train and Test accuracy plot\n",
    "plt.figure(figsize=(8, 6))\n",
    "plt.plot(val_acc_pure, label='Val Accuracy Pure',\n",
    "         c='red', ls='dashed')\n",
    "plt.plot(train_acc_pure, label='Train Accuracy Pure',\n",
    "         c='red', ls='solid')\n",
    "plt.plot(val_acc_dataaug, label='Val Accuracy data augment',\n",
    "         c='blue', ls='dashed')\n",
    "plt.plot(train_acc_dataaug, label='Train Accuracy data augment',\n",
    "         c='blue', ls='solid')\n",
    "plt.axhline(y=max(val_acc_pure), c='red', ls='dashed')\n",
    "plt.axhline(y=max(val_acc_dataaug), c='blue', ls='dashed')\n",
    "plt.title('Data Augmentation')\n",
    "plt.ylabel('Accuracy (%)')\n",
    "plt.xlabel('Epoch')\n",
    "plt.legend()\n",
    "plt.show()"
   ]
  },
  {
   "cell_type": "code",
   "execution_count": null,
   "metadata": {
    "colab": {
     "base_uri": "https://localhost:8080/",
     "height": 430
    },
    "outputId": "ae69ead6-9b0d-4c5b-c8e0-7d32dbb15ae6"
   },
   "outputs": [],
   "source": [
    "plt.figure(figsize=(8, 6))\n",
    "plt.plot(param_norm_pure, c='red', label='Without Augmentation')\n",
    "plt.plot(param_norm_datadug, c='blue', label='With Augmentation')\n",
    "plt.title('Norm of parameters as a function of training epoch')\n",
    "plt.xlabel('epoch')\n",
    "plt.ylabel('Norm of model parameters')\n",
    "plt.legend()\n",
    "plt.show()"
   ]
  },
  {
   "cell_type": "markdown",
   "metadata": {},
   "source": [
    "Can you think of more ways of augmenting training data? (Think of other problems beyond object recogition.)"
   ]
  },
  {
   "cell_type": "markdown",
   "metadata": {},
   "source": [
    "### Think! 3.1: Thought Question\n",
    "Why does it work better to regularize an overparameterized ANN than to start with a smaller one? Think about  the regularization  methods you know.\n",
    "Each group has a 10 min discussion."
   ]
  },
  {
   "cell_type": "markdown",
   "metadata": {},
   "source": [
    "---\n",
    "# Section 4: Stochastic Gradient Descent\n"
   ]
  },
  {
   "cell_type": "code",
   "execution_count": null,
   "metadata": {
    "cellView": "form",
    "colab": {
     "base_uri": "https://localhost:8080/",
     "height": 581,
     "referenced_widgets": [
      "522aeaffd43340e68b3a171e80bad590",
      "b7046658d17e4a128e428d512d4993fc",
      "a9e61827ee0040b089df4d159be1c0d9",
      "3f950642b3d94c6daf0dcb29c599fa31",
      "e2f5651f1ef449ff8342cca55fdcadf7",
      "6bc9877716de41ee8d4d23ac47b1da3e"
     ]
    },
    "outputId": "56d7bf39-33eb-4b72-a308-bb3a0d2b639f"
   },
   "outputs": [],
   "source": [
    "#@title Video 4: SGD\n",
    "from ipywidgets import widgets\n",
    "\n",
    "out2 = widgets.Output()\n",
    "with out2:\n",
    "  from IPython.display import IFrame\n",
    "  class BiliVideo(IFrame):\n",
    "    def __init__(self, id, page=1, width=400, height=300, **kwargs):\n",
    "      self.id=id\n",
    "      src = \"https://player.bilibili.com/player.html?bvid={0}&page={1}\".format(id, page)\n",
    "      super(BiliVideo, self).__init__(src, width, height, **kwargs)\n",
    "\n",
    "  video = BiliVideo(id=f\"\", width=854, height=480, fs=1)\n",
    "  print(\"Video available at https://www.bilibili.com/video/{0}\".format(video.id))\n",
    "  display(video)\n",
    "\n",
    "out1 = widgets.Output()\n",
    "with out1:\n",
    "  from IPython.display import YouTubeVideo\n",
    "  video = YouTubeVideo(id=f\"E3g2Z-ZqMZw\", width=854, height=480, fs=1, rel=0)\n",
    "  print(\"Video available at https://youtube.com/watch?v=\" + video.id)\n",
    "  display(video)\n",
    "\n",
    "out = widgets.Tab([out1, out2])\n",
    "out.set_title(0, 'Youtube')\n",
    "out.set_title(1, 'Bilibili')\n",
    "\n",
    "display(out)"
   ]
  },
  {
   "cell_type": "markdown",
   "metadata": {},
   "source": [
    "## Section 4.1: Learning Rate\n",
    "In this section, we will see how learning rate can act as regularizer while training a neural network. In summary:\n",
    "\n",
    "\n",
    "*   Smaller learning rates regularize less. They slowly converge to deep minima. \n",
    "*   Larger learning rates regularizes more by missing local minima and converging to broader, flatter minima, which often generalize better.\n",
    "\n",
    "But beware, a very large learning rate may result in overshooting or finding a really bad local minimum.\n",
    "\n",
    "\n",
    "\n",
    "In the block below, we will train the Animal Net model with different learning rates and see how that affects the regularization."
   ]
  },
  {
   "cell_type": "code",
   "execution_count": null,
   "metadata": {
    "cellView": "form",
    "colab": {
     "base_uri": "https://localhost:8080/"
    },
    "outputId": "56bb3efa-21ab-4cb4-c08f-c26e57a0c8fb"
   },
   "outputs": [],
   "source": [
    "#@markdown #### Generating Data Loaders\n",
    "batch_size = 128\n",
    "train_transform = transforms.Compose([\n",
    "     transforms.ToTensor(),\n",
    "     transforms.Normalize((0.5, 0.5, 0.5), (0.5, 0.5, 0.5))\n",
    "     ])\n",
    "\n",
    "data_path = pathlib.Path('.')/'afhq' # using pathlib to be compatible with all OS's\n",
    "img_dataset = ImageFolder(data_path/'train', transform=train_transform)\n",
    "img_train_data, img_val_data, = torch.utils.data.random_split(img_dataset, [11700,2930])\n",
    "\n",
    "full_train_loader = torch.utils.data.DataLoader(img_train_data,\n",
    "                                                batch_size=batch_size,\n",
    "                                                num_workers=2,\n",
    "                                                worker_init_fn=seed_worker,\n",
    "                                                generator=g)\n",
    "full_val_loader = torch.utils.data.DataLoader(img_val_data,\n",
    "                                              batch_size=1000,\n",
    "                                              num_workers=4,\n",
    "                                              worker_init_fn=seed_worker,\n",
    "                                              generator=g)\n",
    "\n",
    "test_transform = transforms.Compose([\n",
    "     transforms.ToTensor(),\n",
    "     transforms.Normalize((0.5, 0.5, 0.5), (0.5, 0.5, 0.5))    # [TO-DO]\n",
    "     ])\n",
    "img_test_dataset = ImageFolder(data_path/'val', transform=test_transform)\n",
    "# img_test_loader = DataLoader(img_test_dataset, batch_size=batch_size,shuffle=False, num_workers=1)\n",
    "classes = ('cat', 'dog', 'wild')"
   ]
  },
  {
   "cell_type": "code",
   "execution_count": null,
   "metadata": {
    "colab": {
     "base_uri": "https://localhost:8080/",
     "height": 165,
     "referenced_widgets": [
      "d26d4852921b4a43a8413b0027b06f4a",
      "7c301b86fad948f9946d67f51866db43",
      "d8f4583021d749f9ad6e0f540d019cde",
      "02ac23ab686546868bf2fb9ba9d5e628",
      "9fb1084927aa419fb839601efdfcc807",
      "4c2a9f7a963d47fca6442f7fd7861cbf",
      "77dcb89550334b95b41121d1a4cff7c3",
      "a5fa97d9341640c7a5b7c85d3ab01e81",
      "c7ded69641274567b6009ae886ae05ee",
      "d6b436447a4041c0b2ebdc5a1ca7bb10",
      "7542bcc05039426faa05cf11b8b419d2",
      "1dbbf0fc8be34f74b061d2029e33edf7",
      "16437ece23fd4609891911096d47c5e5",
      "a78aa31e0922435586afe8966fc2ed67",
      "f2f8556e42ce440ba7d04cbe282b251e",
      "4b9c2d3e29414bf8ab631203f616bd4a",
      "b63935b5b3264a8b9e7621c8bc288aa6",
      "4649dc3bef5a4f76b35bd7114ab97517",
      "579c5b270102456c8ea108edc66c44b7",
      "f478b428230c48a08bcacf762497897b",
      "3b4e6e4e43bf4f3b9634c2109312e91d",
      "3c52e76a185a4059811d1e64ee814bce",
      "b6b83bd5feb646b48f001458168e5535",
      "f9bde8a067344e38a0e86dfe7328e363"
     ]
    },
    "outputId": "47b77710-d4b2-4171-a726-9fd5079550e0"
   },
   "outputs": [],
   "source": [
    "args = {\n",
    "    'test_batch_size': 1000,\n",
    "    'epochs': 350,\n",
    "    'batch_size': 32,\n",
    "    'momentum': 0.99,\n",
    "    'no_cuda': False\n",
    "}\n",
    "\n",
    "lr = [5e-4, 1e-3, 5e-3]\n",
    "acc_dict = {}\n",
    "\n",
    "for i in range(len(lr)):\n",
    "    model = AnimalNet()\n",
    "    args['lr'] = lr[i]\n",
    "    val_acc, train_acc, param_norm,_,_ = main(args,\n",
    "                                              model,\n",
    "                                              train_loader,\n",
    "                                              val_loader,\n",
    "                                              img_test_dataset)\n",
    "    acc_dict['val_'+str(i)] = val_acc\n",
    "    acc_dict['train_'+str(i)] = train_acc\n",
    "    acc_dict['param_norm'+str(i)] = param_norm"
   ]
  },
  {
   "cell_type": "code",
   "execution_count": null,
   "metadata": {
    "cellView": "form",
    "colab": {
     "base_uri": "https://localhost:8080/",
     "height": 482
    },
    "outputId": "9084af8b-ad58-4d7b-fe8a-b081e37e3cbc"
   },
   "outputs": [],
   "source": [
    "#@markdown #### Plot Train and Validation accuracy (Run me)\n",
    "plt.figure(figsize=(8, 6))\n",
    "plt.plot(acc_dict['val_0'], linestyle='dashed',label='lr = 5e-4 - validation', c = 'blue')\n",
    "plt.plot(acc_dict['train_0'],label = '5e-4 - train', c = 'blue')\n",
    "plt.plot(acc_dict['val_1'], linestyle='dashed',label='lr = 1e-3 - validation', c = 'green')\n",
    "plt.plot(acc_dict['train_1'],label='1e-3 - train', c = 'green')\n",
    "plt.plot(acc_dict['val_2'], linestyle='dashed',label='lr = 5e-3 - validation', c = 'purple')\n",
    "plt.plot(acc_dict['train_2'],label = '5e-3 - train', c = 'purple')\n",
    "plt.title('Optimal Learning Rate')\n",
    "plt.ylabel('Accuracy (%)')\n",
    "plt.xlabel('Epoch')\n",
    "print('Maximum Test Accuracy obtained with lr = 5e-4: '+str(max(acc_dict['val_0'])))\n",
    "print('Maximum Test Accuracy obtained with lr = 1e-3: '+str(max(acc_dict['val_1'])))\n",
    "print('Maximum Test Accuracy obtained with lr = 5e-3: '+str(max(acc_dict['val_2'])))\n",
    "plt.legend()\n",
    "plt.show()"
   ]
  },
  {
   "cell_type": "code",
   "execution_count": null,
   "metadata": {
    "cellView": "form",
    "colab": {
     "base_uri": "https://localhost:8080/",
     "height": 430
    },
    "outputId": "03a83192-839b-4937-946b-04992c72bdb0"
   },
   "outputs": [],
   "source": [
    "#@markdown #### Plot parametric norms (Run me)\n",
    "plt.figure(figsize=(8, 6))\n",
    "plt.plot(acc_dict['param_norm0'],label='lr = 5e-4',c='blue')\n",
    "plt.plot(acc_dict['param_norm1'],label = 'lr = 1e-3',c='green')\n",
    "plt.plot(acc_dict['param_norm2'],label ='lr = 5e-3', c='red')\n",
    "plt.legend()\n",
    "plt.xlabel('epoch')\n",
    "plt.ylabel('parameter norms')\n",
    "plt.show()"
   ]
  },
  {
   "cell_type": "markdown",
   "metadata": {},
   "source": [
    "In the model above, we observe something different from what we expected. Why do you think this is happening?"
   ]
  },
  {
   "cell_type": "markdown",
   "metadata": {},
   "source": [
    "---\n",
    "# Section 5: Hyperparameter Tuning\n"
   ]
  },
  {
   "cell_type": "code",
   "execution_count": null,
   "metadata": {
    "cellView": "form",
    "colab": {
     "base_uri": "https://localhost:8080/",
     "height": 581,
     "referenced_widgets": [
      "d05b49ba5a9741d68bc06cfbd96d94f3",
      "f1c8d5a8b00146099c53326e3d92c5fd",
      "2f4ee36c408d4ab9a55c462bc03a3075",
      "4fadc3d3280146a3b414e505e580548f",
      "2859002699cb4cc2b812a635b1404355",
      "6516c9d6956c429d83de01c342e2cee9"
     ]
    },
    "outputId": "4d3cee60-985d-437d-e2c1-70b31c24becb"
   },
   "outputs": [],
   "source": [
    "#@title Video 5: Tuning Methods\n",
    "from ipywidgets import widgets\n",
    "\n",
    "out2 = widgets.Output()\n",
    "with out2:\n",
    "  from IPython.display import IFrame\n",
    "  class BiliVideo(IFrame):\n",
    "    def __init__(self, id, page=1, width=400, height=300, **kwargs):\n",
    "      self.id=id\n",
    "      src = \"https://player.bilibili.com/player.html?bvid={0}&page={1}\".format(id, page)\n",
    "      super(BiliVideo, self).__init__(src, width, height, **kwargs)\n",
    "\n",
    "  video = BiliVideo(id=f\"\", width=854, height=480, fs=1)\n",
    "  print(\"Video available at https://www.bilibili.com/video/{0}\".format(video.id))\n",
    "  display(video)\n",
    "\n",
    "out1 = widgets.Output()\n",
    "with out1:\n",
    "  from IPython.display import YouTubeVideo\n",
    "  video = YouTubeVideo(id=f\"ly5hwbpx-w\", width=854, height=480, fs=1, rel=0)\n",
    "  print(\"Video available at https://youtube.com/watch?v=\" + video.id)\n",
    "  display(video)\n",
    "\n",
    "out = widgets.Tab([out1, out2])\n",
    "out.set_title(0, 'Youtube')\n",
    "out.set_title(1, 'Bilibili')\n",
    "\n",
    "display(out)"
   ]
  },
  {
   "cell_type": "markdown",
   "metadata": {},
   "source": [
    "\n",
    "\n",
    "Hyper-Parameter tuning is often difficult and time consuming.  It is a key part of training any Deep Learning model to give good generalization. There are a few techniques that we can use to guide us during the search. \n",
    "\n",
    "\n",
    "\n",
    "*   Grid Search: Try all possible combinations of hyperparameters\n",
    "*   Random Search: Randomly try different combinations of hyperparameters\n",
    "*   Coordinate-wise Gradient Descent: Start at one set of hyperparameters and try changing one at a time, accept any changes that reduce your validation error\n",
    "*   Bayesian Optimization/ Auto ML:  Start from a set of hyperparameters that have worked well on a similar problem, and then do some sort of local exploration (e.g. gradient descent) from there.\n",
    "\n",
    "There are lots of choices, like what range to explore over, which parameter to optimize first, etc. Some hyperparameters don’t matter much (people use a dropout of either 0.5 or 0, but not much else).  Others can matter a lot more (e.g. size and depth of the neural net). The key is to see what worked on similar problems.\n",
    "\n",
    "One can automate the process of tuning the network Architecture using \"Neural Architecture Search\", which designs new architectures using a few building blocks (Linear, Convolutional, Convolution Layers, etc.) and optimizes the design based on performance using a wide range of techniques such as Grid Search, Reinforcement Learning, GD, Evolutionary Algorithms, etc. This obviously requires very high computer power. Read this [article](https://lilianweng.github.io/lil-log/2020/08/06/neural-architecture-search.html) to learn more about NAS.    \n"
   ]
  },
  {
   "cell_type": "markdown",
   "metadata": {},
   "source": [
    "Which regularization technique today do you think had the biggest effect on the network? Why might do you think so? Can you apply all of the regularization methods on the same network?"
   ]
  },
  {
   "cell_type": "markdown",
   "metadata": {},
   "source": [
    "---\n",
    "# Section 6: Adversarial  Attacks\n"
   ]
  },
  {
   "cell_type": "code",
   "execution_count": null,
   "metadata": {
    "cellView": "form",
    "colab": {
     "base_uri": "https://localhost:8080/",
     "height": 581,
     "referenced_widgets": [
      "30c5c690f91940759264702c6fd0e360",
      "e0631f6729aa43b6a58ebd09c2239248",
      "c6320648bbaa4d87880c00cca14e1658",
      "8a430a2e6a75492a9926ed14b6f0dbdc",
      "058b14d1558c4fab95d36eb26639b0ce",
      "5f5cb0e9e82248af8d60dd21e20d7191"
     ]
    },
    "outputId": "dd11865e-d036-4b8e-8ae3-51558c33e494"
   },
   "outputs": [],
   "source": [
    "#@title Video 6: Adversarial Attacks\n",
    "from ipywidgets import widgets\n",
    "\n",
    "out2 = widgets.Output()\n",
    "with out2:\n",
    "  from IPython.display import IFrame\n",
    "  class BiliVideo(IFrame):\n",
    "    def __init__(self, id, page=1, width=400, height=300, **kwargs):\n",
    "      self.id=id\n",
    "      src = \"https://player.bilibili.com/player.html?bvid={0}&page={1}\".format(id, page)\n",
    "      super(BiliVideo, self).__init__(src, width, height, **kwargs)\n",
    "\n",
    "  video = BiliVideo(id=f\"\", width=854, height=480, fs=1)\n",
    "  print(\"Video available at https://www.bilibili.com/video/{0}\".format(video.id))\n",
    "  display(video)\n",
    "\n",
    "out1 = widgets.Output()\n",
    "with out1:\n",
    "  from IPython.display import YouTubeVideo\n",
    "  video = YouTubeVideo(id=f\"2e-PxxlGfpM\", width=854, height=480, fs=1, rel=0)\n",
    "  print(\"Video available at https://youtube.com/watch?v=\" + video.id)\n",
    "  display(video)\n",
    "\n",
    "out = widgets.Tab([out1, out2])\n",
    "out.set_title(0, 'Youtube')\n",
    "out.set_title(1, 'Bilibili')\n",
    "\n",
    "display(out)"
   ]
  },
  {
   "cell_type": "markdown",
   "metadata": {},
   "source": [
    "Designing perturbations to the input data to trick a machine learning model is called an \"adversarial attack\". These attacks are an inevitable consequence of learning in high dimensional space with complex decision boundaries. Depending on the application, these attacks can be very dangerous.\n",
    "\n",
    "![Adversarial Examples of a Stop Sign](https://media.springernature.com/lw685/springer-static/image/art%3A10.1186%2Fs13638-020-01775-5/MediaObjects/13638_2020_1775_Fig1_HTML.png?as=webp)\n",
    "\n",
    "Hence, it is important for us to build models which can defend against such attcks. One possible way to do it is by regularizing the networks, which smooths the decision boundaries. A few ways of building models robust to such attachs are:\n",
    "\n",
    "\n",
    "\n",
    "*   [Defensive Distillation](https://deepai.org/machine-learning-glossary-and-terms/defensive-distillation) : Models trained via distillation are less prone to such attacks as they are trained on soft labels as there is an element of randomness in the training process.\n",
    "*   [Feature Squeezing](https://evademl.org/squeezing/): Identifies adversarial attacks for on-line classifiers whose model is being used by comparing model's perdiction before and after squeezing the input. \n",
    "* [SGD](https://arxiv.org/abs/1706.06083) You can also pick weight to minimize what the adversary is trying to maximize via SGD.\n",
    "\n",
    "In the optional supplemental project, you can design an attack and defend your model against it using regularization techniques you learned this week. \n"
   ]
  },
  {
   "cell_type": "markdown",
   "metadata": {},
   "source": [
    "---\n",
    "# Optional Supplements\n",
    "\n",
    "1.   [Understanding Generalization](https://docs.google.com/document/d/1XOaTXYBleQlDNFM1-t512RHfJXRwA4-LIejuBA6pbLY/edit)\n",
    "2.   [Adversarial Attacks](https://)"
   ]
  }
 ],
 "metadata": {
  "accelerator": "GPU",
  "colab": {
   "collapsed_sections": [],
   "include_colab_link": true,
   "machine_shape": "hm",
   "name": "W1D5_Tutorial2",
   "provenance": [],
   "toc_visible": true
  },
  "kernel": {
   "display_name": "Python 3",
   "language": "python",
   "name": "python3"
  },
  "kernelspec": {
   "display_name": "Python 3",
   "name": "python3"
  }
 },
 "nbformat": 4,
 "nbformat_minor": 0
}
