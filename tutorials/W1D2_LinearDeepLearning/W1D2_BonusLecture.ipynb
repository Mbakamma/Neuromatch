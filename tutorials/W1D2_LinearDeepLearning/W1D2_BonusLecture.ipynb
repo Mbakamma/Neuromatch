{
  "cells": [
    {
      "cell_type": "markdown",
      "metadata": {
        "id": "view-in-github",
        "colab_type": "text"
      },
      "source": [
        "<a href=\"https://colab.research.google.com/github/NeuromatchAcademy/course-content-dl/blob/spiros-patch1/tutorials/W1D2_LinearDeepLearning/W1D2_BonusLecture.ipynb\" target=\"_parent\"><img src=\"https://colab.research.google.com/assets/colab-badge.svg\" alt=\"Open In Colab\"/></a>"
      ]
    },
    {
      "cell_type": "markdown",
      "metadata": {
        "execution": {},
        "id": "fTER4cZsmgZ3"
      },
      "source": [
        "# Bonus Lecture: Yoshua Bengio"
      ]
    },
    {
      "cell_type": "markdown",
      "metadata": {
        "execution": {},
        "id": "73693nnXmgZ5"
      },
      "source": [
        "<p align='center'><img src='https://github.com/NeuromatchAcademy/widgets/blob/master/sponsors.png?raw=True'/></p>"
      ]
    },
    {
      "cell_type": "code",
      "execution_count": 1,
      "metadata": {
        "cellView": "form",
        "execution": {},
        "id": "eujWnsR8mgZ6",
        "outputId": "f278dd8b-c68a-495a-fb95-52c8fd6fd292",
        "colab": {
          "base_uri": "https://localhost:8080/",
          "height": 582,
          "referenced_widgets": [
            "cc64db476153458881d56280867dc4ae",
            "53a37d7b3a414d45a9fc58bcc7b9db30",
            "17d4fc01b2c34b30942938ae20a7208c",
            "37c1a1acfe6a4962b40bdd531c38a794",
            "b65fd9b986304101bd39ad508f9ce126",
            "39ddca602b2b4a55b0bca9c75406745c"
          ]
        }
      },
      "outputs": [
        {
          "output_type": "display_data",
          "data": {
            "text/plain": [
              "Tab(children=(Output(), Output()), _titles={'0': 'Youtube', '1': 'Bilibili'})"
            ],
            "application/vnd.jupyter.widget-view+json": {
              "version_major": 2,
              "version_minor": 0,
              "model_id": "cc64db476153458881d56280867dc4ae"
            }
          },
          "metadata": {}
        }
      ],
      "source": [
        "# @title Video: Yoshua Bengio\n",
        "\n",
        "from ipywidgets import widgets\n",
        "out2 = widgets.Output()\n",
        "with out2:\n",
        "  from IPython.display import IFrame\n",
        "  class BiliVideo(IFrame):\n",
        "    def __init__(self, id, page=1, width=400, height=300, **kwargs):\n",
        "      self.id=id\n",
        "      src = \"https://player.bilibili.com/player.html?bvid={0}&page={1}\".format(id, page)\n",
        "      super(BiliVideo, self).__init__(src, width, height, **kwargs)\n",
        "\n",
        "  video = BiliVideo(id=\"BV1cg411E77x\", width=854, height=480, fs=1)\n",
        "  print(\"Video available at https://www.bilibili.com/video/{0}\".format(video.id))\n",
        "  display(video)\n",
        "\n",
        "out1 = widgets.Output()\n",
        "with out1:\n",
        "  from IPython.display import YouTubeVideo\n",
        "  video = YouTubeVideo(id=\"2CjHGdu29ec\", width=854, height=480, fs=1, rel=0)\n",
        "  print(\"Video available at https://youtube.com/watch?v=\" + video.id)\n",
        "  display(video)\n",
        "\n",
        "out = widgets.Tab([out1, out2])\n",
        "out.set_title(0, 'Youtube')\n",
        "out.set_title(1, 'Bilibili')\n",
        "\n",
        "display(out)"
      ]
    },
    {
      "cell_type": "code",
      "execution_count": 2,
      "metadata": {
        "cellView": "form",
        "execution": {},
        "id": "Lw-Y2LuMmgZ9",
        "outputId": "e66cd7e2-d6b5-42a3-fb10-db3f77d1cc2d",
        "colab": {
          "base_uri": "https://localhost:8080/",
          "height": 503
        }
      },
      "outputs": [
        {
          "output_type": "execute_result",
          "data": {
            "text/plain": [
              "<IPython.lib.display.IFrame at 0x7f65e136f190>"
            ],
            "text/html": [
              "\n",
              "        <iframe\n",
              "            width=\"854\"\n",
              "            height=\"480\"\n",
              "            src=\"https://mfr.ca-1.osf.io/render?url=https://osf.io/download/bvwa9/?direct%26mode=render\"\n",
              "            frameborder=\"0\"\n",
              "            allowfullscreen\n",
              "        ></iframe>\n",
              "        "
            ]
          },
          "metadata": {},
          "execution_count": 2
        }
      ],
      "source": [
        "# @title Slides\n",
        "from IPython.display import IFrame\n",
        "IFrame(src=\"https://mfr.ca-1.osf.io/render?url=https://osf.io/download/bvwa9/?direct%26mode=render\", width=854, height=480)"
      ]
    },
    {
      "cell_type": "markdown",
      "metadata": {
        "execution": {},
        "id": "Wc67B8QRmgZ9"
      },
      "source": [
        "These are the slides for the video in this bonus lecture. If you want to locally dowload the slides, click [here](https://osf.io/download/bvwa9/)."
      ]
    }
  ],
  "metadata": {
    "colab": {
      "collapsed_sections": [],
      "name": "W1D2_BonusLecture",
      "provenance": [],
      "toc_visible": true,
      "include_colab_link": true
    },
    "kernel": {
      "display_name": "Python 3",
      "language": "python",
      "name": "python3"
    },
    "kernelspec": {
      "display_name": "Python 3",
      "name": "python3"
    },
    "language_info": {
      "name": "python"
    },
    "widgets": {
      "application/vnd.jupyter.widget-state+json": {
        "cc64db476153458881d56280867dc4ae": {
          "model_module": "@jupyter-widgets/controls",
          "model_name": "TabModel",
          "model_module_version": "1.5.0",
          "state": {
            "_dom_classes": [],
            "_model_module": "@jupyter-widgets/controls",
            "_model_module_version": "1.5.0",
            "_model_name": "TabModel",
            "_titles": {
              "0": "Youtube",
              "1": "Bilibili"
            },
            "_view_count": null,
            "_view_module": "@jupyter-widgets/controls",
            "_view_module_version": "1.5.0",
            "_view_name": "TabView",
            "box_style": "",
            "children": [
              "IPY_MODEL_53a37d7b3a414d45a9fc58bcc7b9db30",
              "IPY_MODEL_17d4fc01b2c34b30942938ae20a7208c"
            ],
            "layout": "IPY_MODEL_37c1a1acfe6a4962b40bdd531c38a794",
            "selected_index": 0
          }
        },
        "53a37d7b3a414d45a9fc58bcc7b9db30": {
          "model_module": "@jupyter-widgets/output",
          "model_name": "OutputModel",
          "model_module_version": "1.0.0",
          "state": {
            "_dom_classes": [],
            "_model_module": "@jupyter-widgets/output",
            "_model_module_version": "1.0.0",
            "_model_name": "OutputModel",
            "_view_count": null,
            "_view_module": "@jupyter-widgets/output",
            "_view_module_version": "1.0.0",
            "_view_name": "OutputView",
            "layout": "IPY_MODEL_b65fd9b986304101bd39ad508f9ce126",
            "msg_id": "",
            "outputs": [
              {
                "output_type": "stream",
                "name": "stdout",
                "text": [
                  "Video available at https://youtube.com/watch?v=2CjHGdu29ec\n"
                ]
              },
              {
                "output_type": "display_data",
                "data": {
                  "text/plain": "<IPython.lib.display.YouTubeVideo at 0x7f65e137f710>",
                  "text/html": "\n        <iframe\n            width=\"854\"\n            height=\"480\"\n            src=\"https://www.youtube.com/embed/2CjHGdu29ec?fs=1&rel=0\"\n            frameborder=\"0\"\n            allowfullscreen\n        ></iframe>\n        ",
                  "image/jpeg": "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\n"
                },
                "metadata": {}
              }
            ]
          }
        },
        "17d4fc01b2c34b30942938ae20a7208c": {
          "model_module": "@jupyter-widgets/output",
          "model_name": "OutputModel",
          "model_module_version": "1.0.0",
          "state": {
            "_dom_classes": [],
            "_model_module": "@jupyter-widgets/output",
            "_model_module_version": "1.0.0",
            "_model_name": "OutputModel",
            "_view_count": null,
            "_view_module": "@jupyter-widgets/output",
            "_view_module_version": "1.0.0",
            "_view_name": "OutputView",
            "layout": "IPY_MODEL_39ddca602b2b4a55b0bca9c75406745c",
            "msg_id": "",
            "outputs": [
              {
                "output_type": "stream",
                "name": "stdout",
                "text": [
                  "Video available at https://www.bilibili.com/video/BV1cg411E77x\n"
                ]
              },
              {
                "output_type": "display_data",
                "data": {
                  "text/plain": "<__main__.BiliVideo at 0x7f65e1356910>",
                  "text/html": "\n        <iframe\n            width=\"854\"\n            height=\"480\"\n            src=\"https://player.bilibili.com/player.html?bvid=BV1cg411E77x&page=1?fs=1\"\n            frameborder=\"0\"\n            allowfullscreen\n        ></iframe>\n        "
                },
                "metadata": {}
              }
            ]
          }
        },
        "37c1a1acfe6a4962b40bdd531c38a794": {
          "model_module": "@jupyter-widgets/base",
          "model_name": "LayoutModel",
          "model_module_version": "1.2.0",
          "state": {
            "_model_module": "@jupyter-widgets/base",
            "_model_module_version": "1.2.0",
            "_model_name": "LayoutModel",
            "_view_count": null,
            "_view_module": "@jupyter-widgets/base",
            "_view_module_version": "1.2.0",
            "_view_name": "LayoutView",
            "align_content": null,
            "align_items": null,
            "align_self": null,
            "border": null,
            "bottom": null,
            "display": null,
            "flex": null,
            "flex_flow": null,
            "grid_area": null,
            "grid_auto_columns": null,
            "grid_auto_flow": null,
            "grid_auto_rows": null,
            "grid_column": null,
            "grid_gap": null,
            "grid_row": null,
            "grid_template_areas": null,
            "grid_template_columns": null,
            "grid_template_rows": null,
            "height": null,
            "justify_content": null,
            "justify_items": null,
            "left": null,
            "margin": null,
            "max_height": null,
            "max_width": null,
            "min_height": null,
            "min_width": null,
            "object_fit": null,
            "object_position": null,
            "order": null,
            "overflow": null,
            "overflow_x": null,
            "overflow_y": null,
            "padding": null,
            "right": null,
            "top": null,
            "visibility": null,
            "width": null
          }
        },
        "b65fd9b986304101bd39ad508f9ce126": {
          "model_module": "@jupyter-widgets/base",
          "model_name": "LayoutModel",
          "model_module_version": "1.2.0",
          "state": {
            "_model_module": "@jupyter-widgets/base",
            "_model_module_version": "1.2.0",
            "_model_name": "LayoutModel",
            "_view_count": null,
            "_view_module": "@jupyter-widgets/base",
            "_view_module_version": "1.2.0",
            "_view_name": "LayoutView",
            "align_content": null,
            "align_items": null,
            "align_self": null,
            "border": null,
            "bottom": null,
            "display": null,
            "flex": null,
            "flex_flow": null,
            "grid_area": null,
            "grid_auto_columns": null,
            "grid_auto_flow": null,
            "grid_auto_rows": null,
            "grid_column": null,
            "grid_gap": null,
            "grid_row": null,
            "grid_template_areas": null,
            "grid_template_columns": null,
            "grid_template_rows": null,
            "height": null,
            "justify_content": null,
            "justify_items": null,
            "left": null,
            "margin": null,
            "max_height": null,
            "max_width": null,
            "min_height": null,
            "min_width": null,
            "object_fit": null,
            "object_position": null,
            "order": null,
            "overflow": null,
            "overflow_x": null,
            "overflow_y": null,
            "padding": null,
            "right": null,
            "top": null,
            "visibility": null,
            "width": null
          }
        },
        "39ddca602b2b4a55b0bca9c75406745c": {
          "model_module": "@jupyter-widgets/base",
          "model_name": "LayoutModel",
          "model_module_version": "1.2.0",
          "state": {
            "_model_module": "@jupyter-widgets/base",
            "_model_module_version": "1.2.0",
            "_model_name": "LayoutModel",
            "_view_count": null,
            "_view_module": "@jupyter-widgets/base",
            "_view_module_version": "1.2.0",
            "_view_name": "LayoutView",
            "align_content": null,
            "align_items": null,
            "align_self": null,
            "border": null,
            "bottom": null,
            "display": null,
            "flex": null,
            "flex_flow": null,
            "grid_area": null,
            "grid_auto_columns": null,
            "grid_auto_flow": null,
            "grid_auto_rows": null,
            "grid_column": null,
            "grid_gap": null,
            "grid_row": null,
            "grid_template_areas": null,
            "grid_template_columns": null,
            "grid_template_rows": null,
            "height": null,
            "justify_content": null,
            "justify_items": null,
            "left": null,
            "margin": null,
            "max_height": null,
            "max_width": null,
            "min_height": null,
            "min_width": null,
            "object_fit": null,
            "object_position": null,
            "order": null,
            "overflow": null,
            "overflow_x": null,
            "overflow_y": null,
            "padding": null,
            "right": null,
            "top": null,
            "visibility": null,
            "width": null
          }
        }
      }
    }
  },
  "nbformat": 4,
  "nbformat_minor": 0
}