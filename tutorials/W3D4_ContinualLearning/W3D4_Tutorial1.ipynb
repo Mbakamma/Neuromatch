{
  "nbformat": 4,
  "nbformat_minor": 0,
  "metadata": {
    "colab": {
      "name": "W3D4_Tutorial1.ipynb",
      "provenance": [],
      "collapsed_sections": [],
      "toc_visible": true,
      "include_colab_link": true
    },
    "kernelspec": {
      "display_name": "Python 3",
      "language": "python",
      "name": "python3"
    },
    "language_info": {
      "codemirror_mode": {
        "name": "ipython",
        "version": 3
      },
      "file_extension": ".py",
      "mimetype": "text/x-python",
      "name": "python",
      "nbconvert_exporter": "python",
      "pygments_lexer": "ipython3",
      "version": "3.7.3"
    },
    "toc-autonumbering": true,
    "accelerator": "GPU",
    "widgets": {
      "application/vnd.jupyter.widget-state+json": {
        "7ab7b58c23904fae813f9d97b4d9e130": {
          "model_module": "@jupyter-widgets/controls",
          "model_name": "HBoxModel",
          "state": {
            "_view_name": "HBoxView",
            "_dom_classes": [],
            "_model_name": "HBoxModel",
            "_view_module": "@jupyter-widgets/controls",
            "_model_module_version": "1.5.0",
            "_view_count": null,
            "_view_module_version": "1.5.0",
            "box_style": "",
            "layout": "IPY_MODEL_a940a49e62fc48348bfe07c6e1becb36",
            "_model_module": "@jupyter-widgets/controls",
            "children": [
              "IPY_MODEL_2ce50cd7f92243eca0a77e4bd909164f",
              "IPY_MODEL_a2660aa3341a49a3948fb4d9e046e74f"
            ]
          }
        },
        "a940a49e62fc48348bfe07c6e1becb36": {
          "model_module": "@jupyter-widgets/base",
          "model_name": "LayoutModel",
          "state": {
            "_view_name": "LayoutView",
            "grid_template_rows": null,
            "right": null,
            "justify_content": null,
            "_view_module": "@jupyter-widgets/base",
            "overflow": null,
            "_model_module_version": "1.2.0",
            "_view_count": null,
            "flex_flow": null,
            "width": null,
            "min_width": null,
            "border": null,
            "align_items": null,
            "bottom": null,
            "_model_module": "@jupyter-widgets/base",
            "top": null,
            "grid_column": null,
            "overflow_y": null,
            "overflow_x": null,
            "grid_auto_flow": null,
            "grid_area": null,
            "grid_template_columns": null,
            "flex": null,
            "_model_name": "LayoutModel",
            "justify_items": null,
            "grid_row": null,
            "max_height": null,
            "align_content": null,
            "visibility": null,
            "align_self": null,
            "height": null,
            "min_height": null,
            "padding": null,
            "grid_auto_rows": null,
            "grid_gap": null,
            "max_width": null,
            "order": null,
            "_view_module_version": "1.2.0",
            "grid_template_areas": null,
            "object_position": null,
            "object_fit": null,
            "grid_auto_columns": null,
            "margin": null,
            "display": null,
            "left": null
          }
        },
        "2ce50cd7f92243eca0a77e4bd909164f": {
          "model_module": "@jupyter-widgets/controls",
          "model_name": "FloatProgressModel",
          "state": {
            "_view_name": "ProgressView",
            "style": "IPY_MODEL_3d154853fb6042cfb8fb7d465647bf76",
            "_dom_classes": [],
            "description": "",
            "_model_name": "FloatProgressModel",
            "bar_style": "success",
            "max": 867322573,
            "_view_module": "@jupyter-widgets/controls",
            "_model_module_version": "1.5.0",
            "value": 867322573,
            "_view_count": null,
            "_view_module_version": "1.5.0",
            "orientation": "horizontal",
            "min": 0,
            "description_tooltip": null,
            "_model_module": "@jupyter-widgets/controls",
            "layout": "IPY_MODEL_e3093e8e200d4f19b26c81671c161c5a"
          }
        },
        "a2660aa3341a49a3948fb4d9e046e74f": {
          "model_module": "@jupyter-widgets/controls",
          "model_name": "HTMLModel",
          "state": {
            "_view_name": "HTMLView",
            "style": "IPY_MODEL_ed08733e5b124177bd2ffb922c8d4d5f",
            "_dom_classes": [],
            "description": "",
            "_model_name": "HTMLModel",
            "placeholder": "​",
            "_view_module": "@jupyter-widgets/controls",
            "_model_module_version": "1.5.0",
            "value": " 867322880/? [08:54&lt;00:00, 1622004.68it/s]",
            "_view_count": null,
            "_view_module_version": "1.5.0",
            "description_tooltip": null,
            "_model_module": "@jupyter-widgets/controls",
            "layout": "IPY_MODEL_a5962948a9164d359c8fdad43e946e7e"
          }
        },
        "3d154853fb6042cfb8fb7d465647bf76": {
          "model_module": "@jupyter-widgets/controls",
          "model_name": "ProgressStyleModel",
          "state": {
            "_view_name": "StyleView",
            "_model_name": "ProgressStyleModel",
            "description_width": "initial",
            "_view_module": "@jupyter-widgets/base",
            "_model_module_version": "1.5.0",
            "_view_count": null,
            "_view_module_version": "1.2.0",
            "bar_color": null,
            "_model_module": "@jupyter-widgets/controls"
          }
        },
        "e3093e8e200d4f19b26c81671c161c5a": {
          "model_module": "@jupyter-widgets/base",
          "model_name": "LayoutModel",
          "state": {
            "_view_name": "LayoutView",
            "grid_template_rows": null,
            "right": null,
            "justify_content": null,
            "_view_module": "@jupyter-widgets/base",
            "overflow": null,
            "_model_module_version": "1.2.0",
            "_view_count": null,
            "flex_flow": null,
            "width": null,
            "min_width": null,
            "border": null,
            "align_items": null,
            "bottom": null,
            "_model_module": "@jupyter-widgets/base",
            "top": null,
            "grid_column": null,
            "overflow_y": null,
            "overflow_x": null,
            "grid_auto_flow": null,
            "grid_area": null,
            "grid_template_columns": null,
            "flex": null,
            "_model_name": "LayoutModel",
            "justify_items": null,
            "grid_row": null,
            "max_height": null,
            "align_content": null,
            "visibility": null,
            "align_self": null,
            "height": null,
            "min_height": null,
            "padding": null,
            "grid_auto_rows": null,
            "grid_gap": null,
            "max_width": null,
            "order": null,
            "_view_module_version": "1.2.0",
            "grid_template_areas": null,
            "object_position": null,
            "object_fit": null,
            "grid_auto_columns": null,
            "margin": null,
            "display": null,
            "left": null
          }
        },
        "ed08733e5b124177bd2ffb922c8d4d5f": {
          "model_module": "@jupyter-widgets/controls",
          "model_name": "DescriptionStyleModel",
          "state": {
            "_view_name": "StyleView",
            "_model_name": "DescriptionStyleModel",
            "description_width": "",
            "_view_module": "@jupyter-widgets/base",
            "_model_module_version": "1.5.0",
            "_view_count": null,
            "_view_module_version": "1.2.0",
            "_model_module": "@jupyter-widgets/controls"
          }
        },
        "a5962948a9164d359c8fdad43e946e7e": {
          "model_module": "@jupyter-widgets/base",
          "model_name": "LayoutModel",
          "state": {
            "_view_name": "LayoutView",
            "grid_template_rows": null,
            "right": null,
            "justify_content": null,
            "_view_module": "@jupyter-widgets/base",
            "overflow": null,
            "_model_module_version": "1.2.0",
            "_view_count": null,
            "flex_flow": null,
            "width": null,
            "min_width": null,
            "border": null,
            "align_items": null,
            "bottom": null,
            "_model_module": "@jupyter-widgets/base",
            "top": null,
            "grid_column": null,
            "overflow_y": null,
            "overflow_x": null,
            "grid_auto_flow": null,
            "grid_area": null,
            "grid_template_columns": null,
            "flex": null,
            "_model_name": "LayoutModel",
            "justify_items": null,
            "grid_row": null,
            "max_height": null,
            "align_content": null,
            "visibility": null,
            "align_self": null,
            "height": null,
            "min_height": null,
            "padding": null,
            "grid_auto_rows": null,
            "grid_gap": null,
            "max_width": null,
            "order": null,
            "_view_module_version": "1.2.0",
            "grid_template_areas": null,
            "object_position": null,
            "object_fit": null,
            "grid_auto_columns": null,
            "margin": null,
            "display": null,
            "left": null
          }
        },
        "f3ca129b24e3430b906f0a90789a6f44": {
          "model_module": "@jupyter-widgets/controls",
          "model_name": "HBoxModel",
          "state": {
            "_view_name": "HBoxView",
            "_dom_classes": [],
            "_model_name": "HBoxModel",
            "_view_module": "@jupyter-widgets/controls",
            "_model_module_version": "1.5.0",
            "_view_count": null,
            "_view_module_version": "1.5.0",
            "box_style": "",
            "layout": "IPY_MODEL_237f7f21668640d180cc13d1324be961",
            "_model_module": "@jupyter-widgets/controls",
            "children": [
              "IPY_MODEL_b1fd2cbdf951461d90b2c479ea2de317",
              "IPY_MODEL_ace66a3437b94b0d88771c6c6f9700e9"
            ]
          }
        },
        "237f7f21668640d180cc13d1324be961": {
          "model_module": "@jupyter-widgets/base",
          "model_name": "LayoutModel",
          "state": {
            "_view_name": "LayoutView",
            "grid_template_rows": null,
            "right": null,
            "justify_content": null,
            "_view_module": "@jupyter-widgets/base",
            "overflow": null,
            "_model_module_version": "1.2.0",
            "_view_count": null,
            "flex_flow": null,
            "width": null,
            "min_width": null,
            "border": null,
            "align_items": null,
            "bottom": null,
            "_model_module": "@jupyter-widgets/base",
            "top": null,
            "grid_column": null,
            "overflow_y": null,
            "overflow_x": null,
            "grid_auto_flow": null,
            "grid_area": null,
            "grid_template_columns": null,
            "flex": null,
            "_model_name": "LayoutModel",
            "justify_items": null,
            "grid_row": null,
            "max_height": null,
            "align_content": null,
            "visibility": null,
            "align_self": null,
            "height": null,
            "min_height": null,
            "padding": null,
            "grid_auto_rows": null,
            "grid_gap": null,
            "max_width": null,
            "order": null,
            "_view_module_version": "1.2.0",
            "grid_template_areas": null,
            "object_position": null,
            "object_fit": null,
            "grid_auto_columns": null,
            "margin": null,
            "display": null,
            "left": null
          }
        },
        "b1fd2cbdf951461d90b2c479ea2de317": {
          "model_module": "@jupyter-widgets/controls",
          "model_name": "FloatProgressModel",
          "state": {
            "_view_name": "ProgressView",
            "style": "IPY_MODEL_f8d98d14831946919b3cf177338379af",
            "_dom_classes": [],
            "description": "",
            "_model_name": "FloatProgressModel",
            "bar_style": "success",
            "max": 45418248,
            "_view_module": "@jupyter-widgets/controls",
            "_model_module_version": "1.5.0",
            "value": 45418248,
            "_view_count": null,
            "_view_module_version": "1.5.0",
            "orientation": "horizontal",
            "min": 0,
            "description_tooltip": null,
            "_model_module": "@jupyter-widgets/controls",
            "layout": "IPY_MODEL_31f6d586fb484b019de0d7a28de568d7"
          }
        },
        "ace66a3437b94b0d88771c6c6f9700e9": {
          "model_module": "@jupyter-widgets/controls",
          "model_name": "HTMLModel",
          "state": {
            "_view_name": "HTMLView",
            "style": "IPY_MODEL_add0e250d655436a805800c96f9509d6",
            "_dom_classes": [],
            "description": "",
            "_model_name": "HTMLModel",
            "placeholder": "​",
            "_view_module": "@jupyter-widgets/controls",
            "_model_module_version": "1.5.0",
            "value": " 45418496/? [00:00&lt;00:00, 68363200.18it/s]",
            "_view_count": null,
            "_view_module_version": "1.5.0",
            "description_tooltip": null,
            "_model_module": "@jupyter-widgets/controls",
            "layout": "IPY_MODEL_2b12ca15a7dd4a7d9f1589d37c88bef3"
          }
        },
        "f8d98d14831946919b3cf177338379af": {
          "model_module": "@jupyter-widgets/controls",
          "model_name": "ProgressStyleModel",
          "state": {
            "_view_name": "StyleView",
            "_model_name": "ProgressStyleModel",
            "description_width": "initial",
            "_view_module": "@jupyter-widgets/base",
            "_model_module_version": "1.5.0",
            "_view_count": null,
            "_view_module_version": "1.2.0",
            "bar_color": null,
            "_model_module": "@jupyter-widgets/controls"
          }
        },
        "31f6d586fb484b019de0d7a28de568d7": {
          "model_module": "@jupyter-widgets/base",
          "model_name": "LayoutModel",
          "state": {
            "_view_name": "LayoutView",
            "grid_template_rows": null,
            "right": null,
            "justify_content": null,
            "_view_module": "@jupyter-widgets/base",
            "overflow": null,
            "_model_module_version": "1.2.0",
            "_view_count": null,
            "flex_flow": null,
            "width": null,
            "min_width": null,
            "border": null,
            "align_items": null,
            "bottom": null,
            "_model_module": "@jupyter-widgets/base",
            "top": null,
            "grid_column": null,
            "overflow_y": null,
            "overflow_x": null,
            "grid_auto_flow": null,
            "grid_area": null,
            "grid_template_columns": null,
            "flex": null,
            "_model_name": "LayoutModel",
            "justify_items": null,
            "grid_row": null,
            "max_height": null,
            "align_content": null,
            "visibility": null,
            "align_self": null,
            "height": null,
            "min_height": null,
            "padding": null,
            "grid_auto_rows": null,
            "grid_gap": null,
            "max_width": null,
            "order": null,
            "_view_module_version": "1.2.0",
            "grid_template_areas": null,
            "object_position": null,
            "object_fit": null,
            "grid_auto_columns": null,
            "margin": null,
            "display": null,
            "left": null
          }
        },
        "add0e250d655436a805800c96f9509d6": {
          "model_module": "@jupyter-widgets/controls",
          "model_name": "DescriptionStyleModel",
          "state": {
            "_view_name": "StyleView",
            "_model_name": "DescriptionStyleModel",
            "description_width": "",
            "_view_module": "@jupyter-widgets/base",
            "_model_module_version": "1.5.0",
            "_view_count": null,
            "_view_module_version": "1.2.0",
            "_model_module": "@jupyter-widgets/controls"
          }
        },
        "2b12ca15a7dd4a7d9f1589d37c88bef3": {
          "model_module": "@jupyter-widgets/base",
          "model_name": "LayoutModel",
          "state": {
            "_view_name": "LayoutView",
            "grid_template_rows": null,
            "right": null,
            "justify_content": null,
            "_view_module": "@jupyter-widgets/base",
            "overflow": null,
            "_model_module_version": "1.2.0",
            "_view_count": null,
            "flex_flow": null,
            "width": null,
            "min_width": null,
            "border": null,
            "align_items": null,
            "bottom": null,
            "_model_module": "@jupyter-widgets/base",
            "top": null,
            "grid_column": null,
            "overflow_y": null,
            "overflow_x": null,
            "grid_auto_flow": null,
            "grid_area": null,
            "grid_template_columns": null,
            "flex": null,
            "_model_name": "LayoutModel",
            "justify_items": null,
            "grid_row": null,
            "max_height": null,
            "align_content": null,
            "visibility": null,
            "align_self": null,
            "height": null,
            "min_height": null,
            "padding": null,
            "grid_auto_rows": null,
            "grid_gap": null,
            "max_width": null,
            "order": null,
            "_view_module_version": "1.2.0",
            "grid_template_areas": null,
            "object_position": null,
            "object_fit": null,
            "grid_auto_columns": null,
            "margin": null,
            "display": null,
            "left": null
          }
        },
        "ad31ae4f35414bf3a44a5918ef8591e1": {
          "model_module": "@jupyter-widgets/controls",
          "model_name": "HBoxModel",
          "state": {
            "_view_name": "HBoxView",
            "_dom_classes": [],
            "_model_name": "HBoxModel",
            "_view_module": "@jupyter-widgets/controls",
            "_model_module_version": "1.5.0",
            "_view_count": null,
            "_view_module_version": "1.5.0",
            "box_style": "",
            "layout": "IPY_MODEL_ecd06d59e333476086b8e2d6d0b17ce5",
            "_model_module": "@jupyter-widgets/controls",
            "children": [
              "IPY_MODEL_0b7b88b2a896449f8cc49eb8a239b1d3",
              "IPY_MODEL_56d49e5b3faf4158819276437e8cc00c"
            ]
          }
        },
        "ecd06d59e333476086b8e2d6d0b17ce5": {
          "model_module": "@jupyter-widgets/base",
          "model_name": "LayoutModel",
          "state": {
            "_view_name": "LayoutView",
            "grid_template_rows": null,
            "right": null,
            "justify_content": null,
            "_view_module": "@jupyter-widgets/base",
            "overflow": null,
            "_model_module_version": "1.2.0",
            "_view_count": null,
            "flex_flow": null,
            "width": null,
            "min_width": null,
            "border": null,
            "align_items": null,
            "bottom": null,
            "_model_module": "@jupyter-widgets/base",
            "top": null,
            "grid_column": null,
            "overflow_y": null,
            "overflow_x": null,
            "grid_auto_flow": null,
            "grid_area": null,
            "grid_template_columns": null,
            "flex": null,
            "_model_name": "LayoutModel",
            "justify_items": null,
            "grid_row": null,
            "max_height": null,
            "align_content": null,
            "visibility": null,
            "align_self": null,
            "height": null,
            "min_height": null,
            "padding": null,
            "grid_auto_rows": null,
            "grid_gap": null,
            "max_width": null,
            "order": null,
            "_view_module_version": "1.2.0",
            "grid_template_areas": null,
            "object_position": null,
            "object_fit": null,
            "grid_auto_columns": null,
            "margin": null,
            "display": null,
            "left": null
          }
        },
        "0b7b88b2a896449f8cc49eb8a239b1d3": {
          "model_module": "@jupyter-widgets/controls",
          "model_name": "FloatProgressModel",
          "state": {
            "_view_name": "ProgressView",
            "style": "IPY_MODEL_065a4288ab384cb2a9e854f925f28d9d",
            "_dom_classes": [],
            "description": "",
            "_model_name": "FloatProgressModel",
            "bar_style": "success",
            "max": 13462303,
            "_view_module": "@jupyter-widgets/controls",
            "_model_module_version": "1.5.0",
            "value": 13462303,
            "_view_count": null,
            "_view_module_version": "1.5.0",
            "orientation": "horizontal",
            "min": 0,
            "description_tooltip": null,
            "_model_module": "@jupyter-widgets/controls",
            "layout": "IPY_MODEL_f9cad82dfcc64709ae119cdb8bdaf42f"
          }
        },
        "56d49e5b3faf4158819276437e8cc00c": {
          "model_module": "@jupyter-widgets/controls",
          "model_name": "HTMLModel",
          "state": {
            "_view_name": "HTMLView",
            "style": "IPY_MODEL_14d20f38fea845ea99617ab00fd8cf3f",
            "_dom_classes": [],
            "description": "",
            "_model_name": "HTMLModel",
            "placeholder": "​",
            "_view_module": "@jupyter-widgets/controls",
            "_model_module_version": "1.5.0",
            "value": " 13462528/? [00:00&lt;00:00, 58219446.55it/s]",
            "_view_count": null,
            "_view_module_version": "1.5.0",
            "description_tooltip": null,
            "_model_module": "@jupyter-widgets/controls",
            "layout": "IPY_MODEL_a9dfe8bd8717491ebff38725172413f5"
          }
        },
        "065a4288ab384cb2a9e854f925f28d9d": {
          "model_module": "@jupyter-widgets/controls",
          "model_name": "ProgressStyleModel",
          "state": {
            "_view_name": "StyleView",
            "_model_name": "ProgressStyleModel",
            "description_width": "initial",
            "_view_module": "@jupyter-widgets/base",
            "_model_module_version": "1.5.0",
            "_view_count": null,
            "_view_module_version": "1.2.0",
            "bar_color": null,
            "_model_module": "@jupyter-widgets/controls"
          }
        },
        "f9cad82dfcc64709ae119cdb8bdaf42f": {
          "model_module": "@jupyter-widgets/base",
          "model_name": "LayoutModel",
          "state": {
            "_view_name": "LayoutView",
            "grid_template_rows": null,
            "right": null,
            "justify_content": null,
            "_view_module": "@jupyter-widgets/base",
            "overflow": null,
            "_model_module_version": "1.2.0",
            "_view_count": null,
            "flex_flow": null,
            "width": null,
            "min_width": null,
            "border": null,
            "align_items": null,
            "bottom": null,
            "_model_module": "@jupyter-widgets/base",
            "top": null,
            "grid_column": null,
            "overflow_y": null,
            "overflow_x": null,
            "grid_auto_flow": null,
            "grid_area": null,
            "grid_template_columns": null,
            "flex": null,
            "_model_name": "LayoutModel",
            "justify_items": null,
            "grid_row": null,
            "max_height": null,
            "align_content": null,
            "visibility": null,
            "align_self": null,
            "height": null,
            "min_height": null,
            "padding": null,
            "grid_auto_rows": null,
            "grid_gap": null,
            "max_width": null,
            "order": null,
            "_view_module_version": "1.2.0",
            "grid_template_areas": null,
            "object_position": null,
            "object_fit": null,
            "grid_auto_columns": null,
            "margin": null,
            "display": null,
            "left": null
          }
        },
        "14d20f38fea845ea99617ab00fd8cf3f": {
          "model_module": "@jupyter-widgets/controls",
          "model_name": "DescriptionStyleModel",
          "state": {
            "_view_name": "StyleView",
            "_model_name": "DescriptionStyleModel",
            "description_width": "",
            "_view_module": "@jupyter-widgets/base",
            "_model_module_version": "1.5.0",
            "_view_count": null,
            "_view_module_version": "1.2.0",
            "_model_module": "@jupyter-widgets/controls"
          }
        },
        "a9dfe8bd8717491ebff38725172413f5": {
          "model_module": "@jupyter-widgets/base",
          "model_name": "LayoutModel",
          "state": {
            "_view_name": "LayoutView",
            "grid_template_rows": null,
            "right": null,
            "justify_content": null,
            "_view_module": "@jupyter-widgets/base",
            "overflow": null,
            "_model_module_version": "1.2.0",
            "_view_count": null,
            "flex_flow": null,
            "width": null,
            "min_width": null,
            "border": null,
            "align_items": null,
            "bottom": null,
            "_model_module": "@jupyter-widgets/base",
            "top": null,
            "grid_column": null,
            "overflow_y": null,
            "overflow_x": null,
            "grid_auto_flow": null,
            "grid_area": null,
            "grid_template_columns": null,
            "flex": null,
            "_model_name": "LayoutModel",
            "justify_items": null,
            "grid_row": null,
            "max_height": null,
            "align_content": null,
            "visibility": null,
            "align_self": null,
            "height": null,
            "min_height": null,
            "padding": null,
            "grid_auto_rows": null,
            "grid_gap": null,
            "max_width": null,
            "order": null,
            "_view_module_version": "1.2.0",
            "grid_template_areas": null,
            "object_position": null,
            "object_fit": null,
            "grid_auto_columns": null,
            "margin": null,
            "display": null,
            "left": null
          }
        },
        "fc549b6613544559a58bb60dd2d145fd": {
          "model_module": "@jupyter-widgets/controls",
          "model_name": "HBoxModel",
          "state": {
            "_view_name": "HBoxView",
            "_dom_classes": [],
            "_model_name": "HBoxModel",
            "_view_module": "@jupyter-widgets/controls",
            "_model_module_version": "1.5.0",
            "_view_count": null,
            "_view_module_version": "1.5.0",
            "box_style": "",
            "layout": "IPY_MODEL_79c5f7dfb15b488a9dc8a10cce232d7d",
            "_model_module": "@jupyter-widgets/controls",
            "children": [
              "IPY_MODEL_55c671a65a17431c9784968e21dc05e0",
              "IPY_MODEL_fb53a943356d45bda363ffb1dedd3d32"
            ]
          }
        },
        "79c5f7dfb15b488a9dc8a10cce232d7d": {
          "model_module": "@jupyter-widgets/base",
          "model_name": "LayoutModel",
          "state": {
            "_view_name": "LayoutView",
            "grid_template_rows": null,
            "right": null,
            "justify_content": null,
            "_view_module": "@jupyter-widgets/base",
            "overflow": null,
            "_model_module_version": "1.2.0",
            "_view_count": null,
            "flex_flow": null,
            "width": null,
            "min_width": null,
            "border": null,
            "align_items": null,
            "bottom": null,
            "_model_module": "@jupyter-widgets/base",
            "top": null,
            "grid_column": null,
            "overflow_y": null,
            "overflow_x": null,
            "grid_auto_flow": null,
            "grid_area": null,
            "grid_template_columns": null,
            "flex": null,
            "_model_name": "LayoutModel",
            "justify_items": null,
            "grid_row": null,
            "max_height": null,
            "align_content": null,
            "visibility": null,
            "align_self": null,
            "height": null,
            "min_height": null,
            "padding": null,
            "grid_auto_rows": null,
            "grid_gap": null,
            "max_width": null,
            "order": null,
            "_view_module_version": "1.2.0",
            "grid_template_areas": null,
            "object_position": null,
            "object_fit": null,
            "grid_auto_columns": null,
            "margin": null,
            "display": null,
            "left": null
          }
        },
        "55c671a65a17431c9784968e21dc05e0": {
          "model_module": "@jupyter-widgets/controls",
          "model_name": "FloatProgressModel",
          "state": {
            "_view_name": "ProgressView",
            "style": "IPY_MODEL_d5ae439d806d4031af348ed5a6447b13",
            "_dom_classes": [],
            "description": "",
            "_model_name": "FloatProgressModel",
            "bar_style": "success",
            "max": 5275590,
            "_view_module": "@jupyter-widgets/controls",
            "_model_module_version": "1.5.0",
            "value": 5275590,
            "_view_count": null,
            "_view_module_version": "1.5.0",
            "orientation": "horizontal",
            "min": 0,
            "description_tooltip": null,
            "_model_module": "@jupyter-widgets/controls",
            "layout": "IPY_MODEL_afce5b3c44ee4d12a9018ec5e58d371b"
          }
        },
        "fb53a943356d45bda363ffb1dedd3d32": {
          "model_module": "@jupyter-widgets/controls",
          "model_name": "HTMLModel",
          "state": {
            "_view_name": "HTMLView",
            "style": "IPY_MODEL_0a2adf5ac0fc46caa67a8f9b4a903b5c",
            "_dom_classes": [],
            "description": "",
            "_model_name": "HTMLModel",
            "placeholder": "​",
            "_view_module": "@jupyter-widgets/controls",
            "_model_module_version": "1.5.0",
            "value": " 5275648/? [00:01&lt;00:00, 3556110.74it/s]",
            "_view_count": null,
            "_view_module_version": "1.5.0",
            "description_tooltip": null,
            "_model_module": "@jupyter-widgets/controls",
            "layout": "IPY_MODEL_b8f143d812fa495780b286955c2129d5"
          }
        },
        "d5ae439d806d4031af348ed5a6447b13": {
          "model_module": "@jupyter-widgets/controls",
          "model_name": "ProgressStyleModel",
          "state": {
            "_view_name": "StyleView",
            "_model_name": "ProgressStyleModel",
            "description_width": "initial",
            "_view_module": "@jupyter-widgets/base",
            "_model_module_version": "1.5.0",
            "_view_count": null,
            "_view_module_version": "1.2.0",
            "bar_color": null,
            "_model_module": "@jupyter-widgets/controls"
          }
        },
        "afce5b3c44ee4d12a9018ec5e58d371b": {
          "model_module": "@jupyter-widgets/base",
          "model_name": "LayoutModel",
          "state": {
            "_view_name": "LayoutView",
            "grid_template_rows": null,
            "right": null,
            "justify_content": null,
            "_view_module": "@jupyter-widgets/base",
            "overflow": null,
            "_model_module_version": "1.2.0",
            "_view_count": null,
            "flex_flow": null,
            "width": null,
            "min_width": null,
            "border": null,
            "align_items": null,
            "bottom": null,
            "_model_module": "@jupyter-widgets/base",
            "top": null,
            "grid_column": null,
            "overflow_y": null,
            "overflow_x": null,
            "grid_auto_flow": null,
            "grid_area": null,
            "grid_template_columns": null,
            "flex": null,
            "_model_name": "LayoutModel",
            "justify_items": null,
            "grid_row": null,
            "max_height": null,
            "align_content": null,
            "visibility": null,
            "align_self": null,
            "height": null,
            "min_height": null,
            "padding": null,
            "grid_auto_rows": null,
            "grid_gap": null,
            "max_width": null,
            "order": null,
            "_view_module_version": "1.2.0",
            "grid_template_areas": null,
            "object_position": null,
            "object_fit": null,
            "grid_auto_columns": null,
            "margin": null,
            "display": null,
            "left": null
          }
        },
        "0a2adf5ac0fc46caa67a8f9b4a903b5c": {
          "model_module": "@jupyter-widgets/controls",
          "model_name": "DescriptionStyleModel",
          "state": {
            "_view_name": "StyleView",
            "_model_name": "DescriptionStyleModel",
            "description_width": "",
            "_view_module": "@jupyter-widgets/base",
            "_model_module_version": "1.5.0",
            "_view_count": null,
            "_view_module_version": "1.2.0",
            "_model_module": "@jupyter-widgets/controls"
          }
        },
        "b8f143d812fa495780b286955c2129d5": {
          "model_module": "@jupyter-widgets/base",
          "model_name": "LayoutModel",
          "state": {
            "_view_name": "LayoutView",
            "grid_template_rows": null,
            "right": null,
            "justify_content": null,
            "_view_module": "@jupyter-widgets/base",
            "overflow": null,
            "_model_module_version": "1.2.0",
            "_view_count": null,
            "flex_flow": null,
            "width": null,
            "min_width": null,
            "border": null,
            "align_items": null,
            "bottom": null,
            "_model_module": "@jupyter-widgets/base",
            "top": null,
            "grid_column": null,
            "overflow_y": null,
            "overflow_x": null,
            "grid_auto_flow": null,
            "grid_area": null,
            "grid_template_columns": null,
            "flex": null,
            "_model_name": "LayoutModel",
            "justify_items": null,
            "grid_row": null,
            "max_height": null,
            "align_content": null,
            "visibility": null,
            "align_self": null,
            "height": null,
            "min_height": null,
            "padding": null,
            "grid_auto_rows": null,
            "grid_gap": null,
            "max_width": null,
            "order": null,
            "_view_module_version": "1.2.0",
            "grid_template_areas": null,
            "object_position": null,
            "object_fit": null,
            "grid_auto_columns": null,
            "margin": null,
            "display": null,
            "left": null
          }
        },
        "4b324cfa24e149c7bd9a68527247dab3": {
          "model_module": "@jupyter-widgets/controls",
          "model_name": "HBoxModel",
          "state": {
            "_view_name": "HBoxView",
            "_dom_classes": [],
            "_model_name": "HBoxModel",
            "_view_module": "@jupyter-widgets/controls",
            "_model_module_version": "1.5.0",
            "_view_count": null,
            "_view_module_version": "1.5.0",
            "box_style": "",
            "layout": "IPY_MODEL_342f0534ad24497489f787a08f541520",
            "_model_module": "@jupyter-widgets/controls",
            "children": [
              "IPY_MODEL_427c5dded407475c9cdb784d57847e10",
              "IPY_MODEL_5945104d022b4af096e4fe827a37c0ff"
            ]
          }
        },
        "342f0534ad24497489f787a08f541520": {
          "model_module": "@jupyter-widgets/base",
          "model_name": "LayoutModel",
          "state": {
            "_view_name": "LayoutView",
            "grid_template_rows": null,
            "right": null,
            "justify_content": null,
            "_view_module": "@jupyter-widgets/base",
            "overflow": null,
            "_model_module_version": "1.2.0",
            "_view_count": null,
            "flex_flow": null,
            "width": null,
            "min_width": null,
            "border": null,
            "align_items": null,
            "bottom": null,
            "_model_module": "@jupyter-widgets/base",
            "top": null,
            "grid_column": null,
            "overflow_y": null,
            "overflow_x": null,
            "grid_auto_flow": null,
            "grid_area": null,
            "grid_template_columns": null,
            "flex": null,
            "_model_name": "LayoutModel",
            "justify_items": null,
            "grid_row": null,
            "max_height": null,
            "align_content": null,
            "visibility": null,
            "align_self": null,
            "height": null,
            "min_height": null,
            "padding": null,
            "grid_auto_rows": null,
            "grid_gap": null,
            "max_width": null,
            "order": null,
            "_view_module_version": "1.2.0",
            "grid_template_areas": null,
            "object_position": null,
            "object_fit": null,
            "grid_auto_columns": null,
            "margin": null,
            "display": null,
            "left": null
          }
        },
        "427c5dded407475c9cdb784d57847e10": {
          "model_module": "@jupyter-widgets/controls",
          "model_name": "FloatProgressModel",
          "state": {
            "_view_name": "ProgressView",
            "style": "IPY_MODEL_978a3642a5a44274902b2b78e9b26a8c",
            "_dom_classes": [],
            "description": "",
            "_model_name": "FloatProgressModel",
            "bar_style": "success",
            "max": 55523548,
            "_view_module": "@jupyter-widgets/controls",
            "_model_module_version": "1.5.0",
            "value": 55523548,
            "_view_count": null,
            "_view_module_version": "1.5.0",
            "orientation": "horizontal",
            "min": 0,
            "description_tooltip": null,
            "_model_module": "@jupyter-widgets/controls",
            "layout": "IPY_MODEL_9ca14fb9307e4e81a0d2a47441f8ded7"
          }
        },
        "5945104d022b4af096e4fe827a37c0ff": {
          "model_module": "@jupyter-widgets/controls",
          "model_name": "HTMLModel",
          "state": {
            "_view_name": "HTMLView",
            "style": "IPY_MODEL_233f8cee641a46e2911be1924f05c788",
            "_dom_classes": [],
            "description": "",
            "_model_name": "HTMLModel",
            "placeholder": "​",
            "_view_module": "@jupyter-widgets/controls",
            "_model_module_version": "1.5.0",
            "value": " 55524352/? [00:01&lt;00:00, 42861614.68it/s]",
            "_view_count": null,
            "_view_module_version": "1.5.0",
            "description_tooltip": null,
            "_model_module": "@jupyter-widgets/controls",
            "layout": "IPY_MODEL_643337027cda4815bc488df80113299e"
          }
        },
        "978a3642a5a44274902b2b78e9b26a8c": {
          "model_module": "@jupyter-widgets/controls",
          "model_name": "ProgressStyleModel",
          "state": {
            "_view_name": "StyleView",
            "_model_name": "ProgressStyleModel",
            "description_width": "initial",
            "_view_module": "@jupyter-widgets/base",
            "_model_module_version": "1.5.0",
            "_view_count": null,
            "_view_module_version": "1.2.0",
            "bar_color": null,
            "_model_module": "@jupyter-widgets/controls"
          }
        },
        "9ca14fb9307e4e81a0d2a47441f8ded7": {
          "model_module": "@jupyter-widgets/base",
          "model_name": "LayoutModel",
          "state": {
            "_view_name": "LayoutView",
            "grid_template_rows": null,
            "right": null,
            "justify_content": null,
            "_view_module": "@jupyter-widgets/base",
            "overflow": null,
            "_model_module_version": "1.2.0",
            "_view_count": null,
            "flex_flow": null,
            "width": null,
            "min_width": null,
            "border": null,
            "align_items": null,
            "bottom": null,
            "_model_module": "@jupyter-widgets/base",
            "top": null,
            "grid_column": null,
            "overflow_y": null,
            "overflow_x": null,
            "grid_auto_flow": null,
            "grid_area": null,
            "grid_template_columns": null,
            "flex": null,
            "_model_name": "LayoutModel",
            "justify_items": null,
            "grid_row": null,
            "max_height": null,
            "align_content": null,
            "visibility": null,
            "align_self": null,
            "height": null,
            "min_height": null,
            "padding": null,
            "grid_auto_rows": null,
            "grid_gap": null,
            "max_width": null,
            "order": null,
            "_view_module_version": "1.2.0",
            "grid_template_areas": null,
            "object_position": null,
            "object_fit": null,
            "grid_auto_columns": null,
            "margin": null,
            "display": null,
            "left": null
          }
        },
        "233f8cee641a46e2911be1924f05c788": {
          "model_module": "@jupyter-widgets/controls",
          "model_name": "DescriptionStyleModel",
          "state": {
            "_view_name": "StyleView",
            "_model_name": "DescriptionStyleModel",
            "description_width": "",
            "_view_module": "@jupyter-widgets/base",
            "_model_module_version": "1.5.0",
            "_view_count": null,
            "_view_module_version": "1.2.0",
            "_model_module": "@jupyter-widgets/controls"
          }
        },
        "643337027cda4815bc488df80113299e": {
          "model_module": "@jupyter-widgets/base",
          "model_name": "LayoutModel",
          "state": {
            "_view_name": "LayoutView",
            "grid_template_rows": null,
            "right": null,
            "justify_content": null,
            "_view_module": "@jupyter-widgets/base",
            "overflow": null,
            "_model_module_version": "1.2.0",
            "_view_count": null,
            "flex_flow": null,
            "width": null,
            "min_width": null,
            "border": null,
            "align_items": null,
            "bottom": null,
            "_model_module": "@jupyter-widgets/base",
            "top": null,
            "grid_column": null,
            "overflow_y": null,
            "overflow_x": null,
            "grid_auto_flow": null,
            "grid_area": null,
            "grid_template_columns": null,
            "flex": null,
            "_model_name": "LayoutModel",
            "justify_items": null,
            "grid_row": null,
            "max_height": null,
            "align_content": null,
            "visibility": null,
            "align_self": null,
            "height": null,
            "min_height": null,
            "padding": null,
            "grid_auto_rows": null,
            "grid_gap": null,
            "max_width": null,
            "order": null,
            "_view_module_version": "1.2.0",
            "grid_template_areas": null,
            "object_position": null,
            "object_fit": null,
            "grid_auto_columns": null,
            "margin": null,
            "display": null,
            "left": null
          }
        },
        "ab00d22fccab4322a3e25a7774cbb712": {
          "model_module": "@jupyter-widgets/controls",
          "model_name": "HBoxModel",
          "state": {
            "_view_name": "HBoxView",
            "_dom_classes": [],
            "_model_name": "HBoxModel",
            "_view_module": "@jupyter-widgets/controls",
            "_model_module_version": "1.5.0",
            "_view_count": null,
            "_view_module_version": "1.5.0",
            "box_style": "",
            "layout": "IPY_MODEL_b6ac56d3ebef4f2f925e8bcc39befb02",
            "_model_module": "@jupyter-widgets/controls",
            "children": [
              "IPY_MODEL_607a8f36e0414e6d843fbfa0186fd695",
              "IPY_MODEL_e2d537ed672146eb9ce32bed5ba7b5a0"
            ]
          }
        },
        "b6ac56d3ebef4f2f925e8bcc39befb02": {
          "model_module": "@jupyter-widgets/base",
          "model_name": "LayoutModel",
          "state": {
            "_view_name": "LayoutView",
            "grid_template_rows": null,
            "right": null,
            "justify_content": null,
            "_view_module": "@jupyter-widgets/base",
            "overflow": null,
            "_model_module_version": "1.2.0",
            "_view_count": null,
            "flex_flow": null,
            "width": null,
            "min_width": null,
            "border": null,
            "align_items": null,
            "bottom": null,
            "_model_module": "@jupyter-widgets/base",
            "top": null,
            "grid_column": null,
            "overflow_y": null,
            "overflow_x": null,
            "grid_auto_flow": null,
            "grid_area": null,
            "grid_template_columns": null,
            "flex": null,
            "_model_name": "LayoutModel",
            "justify_items": null,
            "grid_row": null,
            "max_height": null,
            "align_content": null,
            "visibility": null,
            "align_self": null,
            "height": null,
            "min_height": null,
            "padding": null,
            "grid_auto_rows": null,
            "grid_gap": null,
            "max_width": null,
            "order": null,
            "_view_module_version": "1.2.0",
            "grid_template_areas": null,
            "object_position": null,
            "object_fit": null,
            "grid_auto_columns": null,
            "margin": null,
            "display": null,
            "left": null
          }
        },
        "607a8f36e0414e6d843fbfa0186fd695": {
          "model_module": "@jupyter-widgets/controls",
          "model_name": "FloatProgressModel",
          "state": {
            "_view_name": "ProgressView",
            "style": "IPY_MODEL_fb8e4cd7372e4917bbbceee05bd852e3",
            "_dom_classes": [],
            "description": "",
            "_model_name": "FloatProgressModel",
            "bar_style": "success",
            "max": 26461948,
            "_view_module": "@jupyter-widgets/controls",
            "_model_module_version": "1.5.0",
            "value": 26461948,
            "_view_count": null,
            "_view_module_version": "1.5.0",
            "orientation": "horizontal",
            "min": 0,
            "description_tooltip": null,
            "_model_module": "@jupyter-widgets/controls",
            "layout": "IPY_MODEL_aead1ad825c94626ad5911f889663658"
          }
        },
        "e2d537ed672146eb9ce32bed5ba7b5a0": {
          "model_module": "@jupyter-widgets/controls",
          "model_name": "HTMLModel",
          "state": {
            "_view_name": "HTMLView",
            "style": "IPY_MODEL_fbb7ce3404ab42c3bd01e4055dab4803",
            "_dom_classes": [],
            "description": "",
            "_model_name": "HTMLModel",
            "placeholder": "​",
            "_view_module": "@jupyter-widgets/controls",
            "_model_module_version": "1.5.0",
            "value": " 26462208/? [00:00&lt;00:00, 60922826.08it/s]",
            "_view_count": null,
            "_view_module_version": "1.5.0",
            "description_tooltip": null,
            "_model_module": "@jupyter-widgets/controls",
            "layout": "IPY_MODEL_5690a3f529a3463cbf289199ac3d8781"
          }
        },
        "fb8e4cd7372e4917bbbceee05bd852e3": {
          "model_module": "@jupyter-widgets/controls",
          "model_name": "ProgressStyleModel",
          "state": {
            "_view_name": "StyleView",
            "_model_name": "ProgressStyleModel",
            "description_width": "initial",
            "_view_module": "@jupyter-widgets/base",
            "_model_module_version": "1.5.0",
            "_view_count": null,
            "_view_module_version": "1.2.0",
            "bar_color": null,
            "_model_module": "@jupyter-widgets/controls"
          }
        },
        "aead1ad825c94626ad5911f889663658": {
          "model_module": "@jupyter-widgets/base",
          "model_name": "LayoutModel",
          "state": {
            "_view_name": "LayoutView",
            "grid_template_rows": null,
            "right": null,
            "justify_content": null,
            "_view_module": "@jupyter-widgets/base",
            "overflow": null,
            "_model_module_version": "1.2.0",
            "_view_count": null,
            "flex_flow": null,
            "width": null,
            "min_width": null,
            "border": null,
            "align_items": null,
            "bottom": null,
            "_model_module": "@jupyter-widgets/base",
            "top": null,
            "grid_column": null,
            "overflow_y": null,
            "overflow_x": null,
            "grid_auto_flow": null,
            "grid_area": null,
            "grid_template_columns": null,
            "flex": null,
            "_model_name": "LayoutModel",
            "justify_items": null,
            "grid_row": null,
            "max_height": null,
            "align_content": null,
            "visibility": null,
            "align_self": null,
            "height": null,
            "min_height": null,
            "padding": null,
            "grid_auto_rows": null,
            "grid_gap": null,
            "max_width": null,
            "order": null,
            "_view_module_version": "1.2.0",
            "grid_template_areas": null,
            "object_position": null,
            "object_fit": null,
            "grid_auto_columns": null,
            "margin": null,
            "display": null,
            "left": null
          }
        },
        "fbb7ce3404ab42c3bd01e4055dab4803": {
          "model_module": "@jupyter-widgets/controls",
          "model_name": "DescriptionStyleModel",
          "state": {
            "_view_name": "StyleView",
            "_model_name": "DescriptionStyleModel",
            "description_width": "",
            "_view_module": "@jupyter-widgets/base",
            "_model_module_version": "1.5.0",
            "_view_count": null,
            "_view_module_version": "1.2.0",
            "_model_module": "@jupyter-widgets/controls"
          }
        },
        "5690a3f529a3463cbf289199ac3d8781": {
          "model_module": "@jupyter-widgets/base",
          "model_name": "LayoutModel",
          "state": {
            "_view_name": "LayoutView",
            "grid_template_rows": null,
            "right": null,
            "justify_content": null,
            "_view_module": "@jupyter-widgets/base",
            "overflow": null,
            "_model_module_version": "1.2.0",
            "_view_count": null,
            "flex_flow": null,
            "width": null,
            "min_width": null,
            "border": null,
            "align_items": null,
            "bottom": null,
            "_model_module": "@jupyter-widgets/base",
            "top": null,
            "grid_column": null,
            "overflow_y": null,
            "overflow_x": null,
            "grid_auto_flow": null,
            "grid_area": null,
            "grid_template_columns": null,
            "flex": null,
            "_model_name": "LayoutModel",
            "justify_items": null,
            "grid_row": null,
            "max_height": null,
            "align_content": null,
            "visibility": null,
            "align_self": null,
            "height": null,
            "min_height": null,
            "padding": null,
            "grid_auto_rows": null,
            "grid_gap": null,
            "max_width": null,
            "order": null,
            "_view_module_version": "1.2.0",
            "grid_template_areas": null,
            "object_position": null,
            "object_fit": null,
            "grid_auto_columns": null,
            "margin": null,
            "display": null,
            "left": null
          }
        },
        "647a991eb9084d30a35198d546c667c3": {
          "model_module": "@jupyter-widgets/controls",
          "model_name": "HBoxModel",
          "state": {
            "_view_name": "HBoxView",
            "_dom_classes": [],
            "_model_name": "HBoxModel",
            "_view_module": "@jupyter-widgets/controls",
            "_model_module_version": "1.5.0",
            "_view_count": null,
            "_view_module_version": "1.5.0",
            "box_style": "",
            "layout": "IPY_MODEL_1379c72d632547b1886968b920174aad",
            "_model_module": "@jupyter-widgets/controls",
            "children": [
              "IPY_MODEL_080ed7bdd64e4802827eefa7220754d2",
              "IPY_MODEL_34852d8ab59b4b6883f1a7f3b0474f0e"
            ]
          }
        },
        "1379c72d632547b1886968b920174aad": {
          "model_module": "@jupyter-widgets/base",
          "model_name": "LayoutModel",
          "state": {
            "_view_name": "LayoutView",
            "grid_template_rows": null,
            "right": null,
            "justify_content": null,
            "_view_module": "@jupyter-widgets/base",
            "overflow": null,
            "_model_module_version": "1.2.0",
            "_view_count": null,
            "flex_flow": null,
            "width": null,
            "min_width": null,
            "border": null,
            "align_items": null,
            "bottom": null,
            "_model_module": "@jupyter-widgets/base",
            "top": null,
            "grid_column": null,
            "overflow_y": null,
            "overflow_x": null,
            "grid_auto_flow": null,
            "grid_area": null,
            "grid_template_columns": null,
            "flex": null,
            "_model_name": "LayoutModel",
            "justify_items": null,
            "grid_row": null,
            "max_height": null,
            "align_content": null,
            "visibility": null,
            "align_self": null,
            "height": null,
            "min_height": null,
            "padding": null,
            "grid_auto_rows": null,
            "grid_gap": null,
            "max_width": null,
            "order": null,
            "_view_module_version": "1.2.0",
            "grid_template_areas": null,
            "object_position": null,
            "object_fit": null,
            "grid_auto_columns": null,
            "margin": null,
            "display": null,
            "left": null
          }
        },
        "080ed7bdd64e4802827eefa7220754d2": {
          "model_module": "@jupyter-widgets/controls",
          "model_name": "FloatProgressModel",
          "state": {
            "_view_name": "ProgressView",
            "style": "IPY_MODEL_b2661c052045488f9f3e16f7cd278b44",
            "_dom_classes": [],
            "description": "",
            "_model_name": "FloatProgressModel",
            "bar_style": "success",
            "max": 30444,
            "_view_module": "@jupyter-widgets/controls",
            "_model_module_version": "1.5.0",
            "value": 30444,
            "_view_count": null,
            "_view_module_version": "1.5.0",
            "orientation": "horizontal",
            "min": 0,
            "description_tooltip": null,
            "_model_module": "@jupyter-widgets/controls",
            "layout": "IPY_MODEL_73db859ad5bf455f90c6b25d944571a6"
          }
        },
        "34852d8ab59b4b6883f1a7f3b0474f0e": {
          "model_module": "@jupyter-widgets/controls",
          "model_name": "HTMLModel",
          "state": {
            "_view_name": "HTMLView",
            "style": "IPY_MODEL_5cca0bece38243abb770cf1475b5f7e6",
            "_dom_classes": [],
            "description": "",
            "_model_name": "HTMLModel",
            "placeholder": "​",
            "_view_module": "@jupyter-widgets/controls",
            "_model_module_version": "1.5.0",
            "value": " 30720/? [00:00&lt;00:00, 75475.48it/s]",
            "_view_count": null,
            "_view_module_version": "1.5.0",
            "description_tooltip": null,
            "_model_module": "@jupyter-widgets/controls",
            "layout": "IPY_MODEL_a49cc6436e9e4383b8ced35900edc396"
          }
        },
        "b2661c052045488f9f3e16f7cd278b44": {
          "model_module": "@jupyter-widgets/controls",
          "model_name": "ProgressStyleModel",
          "state": {
            "_view_name": "StyleView",
            "_model_name": "ProgressStyleModel",
            "description_width": "initial",
            "_view_module": "@jupyter-widgets/base",
            "_model_module_version": "1.5.0",
            "_view_count": null,
            "_view_module_version": "1.2.0",
            "bar_color": null,
            "_model_module": "@jupyter-widgets/controls"
          }
        },
        "73db859ad5bf455f90c6b25d944571a6": {
          "model_module": "@jupyter-widgets/base",
          "model_name": "LayoutModel",
          "state": {
            "_view_name": "LayoutView",
            "grid_template_rows": null,
            "right": null,
            "justify_content": null,
            "_view_module": "@jupyter-widgets/base",
            "overflow": null,
            "_model_module_version": "1.2.0",
            "_view_count": null,
            "flex_flow": null,
            "width": null,
            "min_width": null,
            "border": null,
            "align_items": null,
            "bottom": null,
            "_model_module": "@jupyter-widgets/base",
            "top": null,
            "grid_column": null,
            "overflow_y": null,
            "overflow_x": null,
            "grid_auto_flow": null,
            "grid_area": null,
            "grid_template_columns": null,
            "flex": null,
            "_model_name": "LayoutModel",
            "justify_items": null,
            "grid_row": null,
            "max_height": null,
            "align_content": null,
            "visibility": null,
            "align_self": null,
            "height": null,
            "min_height": null,
            "padding": null,
            "grid_auto_rows": null,
            "grid_gap": null,
            "max_width": null,
            "order": null,
            "_view_module_version": "1.2.0",
            "grid_template_areas": null,
            "object_position": null,
            "object_fit": null,
            "grid_auto_columns": null,
            "margin": null,
            "display": null,
            "left": null
          }
        },
        "5cca0bece38243abb770cf1475b5f7e6": {
          "model_module": "@jupyter-widgets/controls",
          "model_name": "DescriptionStyleModel",
          "state": {
            "_view_name": "StyleView",
            "_model_name": "DescriptionStyleModel",
            "description_width": "",
            "_view_module": "@jupyter-widgets/base",
            "_model_module_version": "1.5.0",
            "_view_count": null,
            "_view_module_version": "1.2.0",
            "_model_module": "@jupyter-widgets/controls"
          }
        },
        "a49cc6436e9e4383b8ced35900edc396": {
          "model_module": "@jupyter-widgets/base",
          "model_name": "LayoutModel",
          "state": {
            "_view_name": "LayoutView",
            "grid_template_rows": null,
            "right": null,
            "justify_content": null,
            "_view_module": "@jupyter-widgets/base",
            "overflow": null,
            "_model_module_version": "1.2.0",
            "_view_count": null,
            "flex_flow": null,
            "width": null,
            "min_width": null,
            "border": null,
            "align_items": null,
            "bottom": null,
            "_model_module": "@jupyter-widgets/base",
            "top": null,
            "grid_column": null,
            "overflow_y": null,
            "overflow_x": null,
            "grid_auto_flow": null,
            "grid_area": null,
            "grid_template_columns": null,
            "flex": null,
            "_model_name": "LayoutModel",
            "justify_items": null,
            "grid_row": null,
            "max_height": null,
            "align_content": null,
            "visibility": null,
            "align_self": null,
            "height": null,
            "min_height": null,
            "padding": null,
            "grid_auto_rows": null,
            "grid_gap": null,
            "max_width": null,
            "order": null,
            "_view_module_version": "1.2.0",
            "grid_template_areas": null,
            "object_position": null,
            "object_fit": null,
            "grid_auto_columns": null,
            "margin": null,
            "display": null,
            "left": null
          }
        }
      }
    }
  },
  "cells": [
    {
      "cell_type": "markdown",
      "metadata": {
        "id": "view-in-github",
        "colab_type": "text"
      },
      "source": [
        "<a href=\"https://colab.research.google.com/github/NeuromatchAcademy/course-content-dl/blob/w3d4_fixes/tutorials/W3D4_ContinualLearning/W3D4_Tutorial1.ipynb\" target=\"_parent\"><img src=\"https://colab.research.google.com/assets/colab-badge.svg\" alt=\"Open In Colab\"/></a>"
      ]
    },
    {
      "cell_type": "markdown",
      "metadata": {
        "id": "fDXAYdIHuyCV"
      },
      "source": [
        "\n",
        "# Neuromatch Academy: Week 3, Day 4, Tutorial 1\n",
        "# Introduction to Continual Learning\n",
        "\n",
        "__Content creators:__ Keiland Cooper, Diganta Misra, [Vincenzo Lomonaco, Gido van de Ven, Andrea Cossu\n",
        "\n",
        "\n",
        "__Content reviewers:__ Arush Tagade, Jeremy Forest\n",
        "\n",
        "__Content editors:__ Anoop Kulkarni, Spiros Chavlis\n",
        "\n",
        "__Production editors:__ Deepak Raya, Spiros Chavlis\n"
      ]
    },
    {
      "cell_type": "code",
      "metadata": {
        "colab": {
          "base_uri": "https://localhost:8080/",
          "height": 590
        },
        "cellView": "form",
        "id": "dd1VZe98BzcW",
        "outputId": "33c7d908-e17d-47d2-a7b0-480b7b9c1790"
      },
      "source": [
        "#@markdown Tutorial slides\n",
        "\n",
        "from IPython.display import HTML\n",
        "HTML('<iframe src=\"https://docs.google.com/presentation/d/1PLmrRvwJn2nCeQ26fJGhVAAhOC623bNzRAKzcMpa-iA/embed?start=false&loop=false&delayms=3000\" frameborder=\"0\" width=\"960\" height=\"569\" allowfullscreen=\"true\" mozallowfullscreen=\"true\" webkitallowfullscreen=\"true\"></iframe>')"
      ],
      "execution_count": 1,
      "outputs": [
        {
          "output_type": "execute_result",
          "data": {
            "text/html": [
              "<iframe src=\"https://docs.google.com/presentation/d/1PLmrRvwJn2nCeQ26fJGhVAAhOC623bNzRAKzcMpa-iA/embed?start=false&loop=false&delayms=3000\" frameborder=\"0\" width=\"960\" height=\"569\" allowfullscreen=\"true\" mozallowfullscreen=\"true\" webkitallowfullscreen=\"true\"></iframe>"
            ],
            "text/plain": [
              "<IPython.core.display.HTML object>"
            ]
          },
          "metadata": {
            "tags": []
          },
          "execution_count": 1
        }
      ]
    },
    {
      "cell_type": "code",
      "metadata": {
        "colab": {
          "base_uri": "https://localhost:8080/",
          "height": 518
        },
        "id": "su_HP2wahMUO",
        "cellView": "form",
        "outputId": "70cdaa3a-6ef9-4f33-f69a-b19573ea6e88"
      },
      "source": [
        "#@title Video 0: Introduction\n",
        "# Insert the ID of the corresponding youtube video\n",
        "from IPython.display import YouTubeVideo\n",
        "video = YouTubeVideo(id=\"ARVxFIfw4JU\", width=854, height=480, fs=1)\n",
        "print(\"Video available at https://youtu.be/\" + video.id)\n",
        "video\n"
      ],
      "execution_count": 2,
      "outputs": [
        {
          "output_type": "stream",
          "text": [
            "Video available at https://youtu.be/ARVxFIfw4JU\n"
          ],
          "name": "stdout"
        },
        {
          "output_type": "execute_result",
          "data": {
            "text/html": [
              "\n",
              "        <iframe\n",
              "            width=\"854\"\n",
              "            height=\"480\"\n",
              "            src=\"https://www.youtube.com/embed/ARVxFIfw4JU?fs=1\"\n",
              "            frameborder=\"0\"\n",
              "            allowfullscreen\n",
              "        ></iframe>\n",
              "        "
            ],
            "text/plain": [
              "<IPython.lib.display.YouTubeVideo at 0x7feaefa06910>"
            ],
            "image/jpeg": "[encoded data removed]"
          },
          "metadata": {
            "tags": []
          },
          "execution_count": 2
        }
      ]
    },
    {
      "cell_type": "markdown",
      "metadata": {
        "id": "gzAa0I1xZ79h"
      },
      "source": [
        "---\n",
        "#Tutorial Objectives\n",
        "\n",
        "\n",
        "In this tutorial we'll dive head-first into the exciting field of continual learning (CL). CL has gained increasing attention in recent years, and for good reason. CL is positioned as a problem accross sub-disciplines, from academia and industry, and may promise to be a major pathway towards strong artificial intelligence. As datasets get bigger and AI gets smarter, we're expecting more and more cognitive capabilities from our machines. \n",
        "\n",
        "We have a few specific objectives for this tutorial:\n",
        "*   Introduce major CL concepts\n",
        "*   Introduce the most common strategies to aid CL\n",
        "*   Utilize benchmarks and evaluation metrics \n",
        "*   Explore present day applications of CL \n",
        "\n",
        "\n",
        "_Use a line (---) separator from title block to objectives. You should briefly introduce your content here in a few sentences. In this tutorial, you will learn what a waxed notebook should look like. **You should make sure the notebook runs from start to finish when done waxing (do restart and run all and make sure there are no errors)**_\n",
        "\n"
      ]
    },
    {
      "cell_type": "markdown",
      "metadata": {
        "id": "V0iDJGBMzbMQ"
      },
      "source": [
        "---\n",
        "# Setup"
      ]
    },
    {
      "cell_type": "markdown",
      "metadata": {
        "id": "ISzwKBkOnil_"
      },
      "source": [
        "First, let's load in some useful packages and functions. We'll primarly be using PyTorch as our neural network framework of choice. Be sure to run all the cells below so the code runs properly."
      ]
    },
    {
      "cell_type": "code",
      "metadata": {
        "cellView": "both",
        "id": "3Yuh005kCT0v"
      },
      "source": [
        "# Imports \n",
        "\n",
        "import numpy as np\n",
        "import matplotlib.pyplot as plt\n",
        "\n",
        "import torch # should work natively now \n",
        "import torch.nn as nn\n",
        "import torchvision.datasets as datasets\n",
        "import torchvision.transforms as transforms\n",
        "import torch.optim as optim\n",
        "import torch.nn.functional as F"
      ],
      "execution_count": 3,
      "outputs": []
    },
    {
      "cell_type": "code",
      "metadata": {
        "id": "PCOz4jKJXGya",
        "cellView": "form"
      },
      "source": [
        "#@title Figure settings\n",
        "import ipywidgets as widgets       # interactive display\n",
        "%config InlineBackend.figure_format = 'retina'\n",
        "plt.style.use(\"https://raw.githubusercontent.com/NeuromatchAcademy/course-content/master/nma.mplstyle\")"
      ],
      "execution_count": 4,
      "outputs": []
    },
    {
      "cell_type": "code",
      "metadata": {
        "colab": {
          "base_uri": "https://localhost:8080/"
        },
        "id": "XJdvdgjUVWyl",
        "cellView": "form",
        "outputId": "63872b2d-c787-461c-e107-68f37de4bf4c"
      },
      "source": [
        "#@title Configure PyTorch\n",
        "\n",
        "# PyTorch Configuration\n",
        "print('Torch', torch.__version__, 'CUDA', torch.version.cuda)\n",
        "\n",
        "if not torch.cuda.is_available():\n",
        "  print('For quicker runtime, add GPU at Runtime -> Change runtime type -> Hardware accelerator -> GPU')\n",
        "\n",
        "else:\n",
        "  # switch to False to use CPU\n",
        "  use_cuda = True\n",
        "\n",
        "  use_cuda = use_cuda and torch.cuda.is_available()\n",
        "  device = torch.device(\"cuda\" if use_cuda else \"cpu\");\n",
        "\n",
        "# set the seed\n",
        "torch.manual_seed(1);"
      ],
      "execution_count": 5,
      "outputs": [
        {
          "output_type": "stream",
          "text": [
            "Torch 1.9.0+cu102 CUDA 10.2\n"
          ],
          "name": "stdout"
        }
      ]
    },
    {
      "cell_type": "code",
      "metadata": {
        "colab": {
          "base_uri": "https://localhost:8080/"
        },
        "id": "0EShhdNMmGzX",
        "cellView": "form",
        "outputId": "27b0cf82-c3d1-48f0-e830-2a22089ef6b1"
      },
      "source": [
        "#@title Data-loader Helper functions (MNIST and core50)\n",
        "\n",
        "# TODO:\n",
        "# We need a more permenate solution for this... \n",
        "# https://github.com/pytorch/vision/issues/1938\n",
        "\n",
        "# we should also probably supress most of this output \n",
        "# unless we change the source of the data\n",
        "\n",
        "print('Downloading and unpacking MNIST data. Please wait a moment...\\n')\n",
        "\n",
        "# The MNIST repo on LeCun's website nor AWS seem to be availible\n",
        "# This is one popular private repo, but beware\n",
        "# PyTorch is reported to be hosting one soon...\n",
        "!wget www.di.ens.fr/~lelarge/MNIST.tar.gz\n",
        "!tar -zxvf MNIST.tar.gz\n",
        "\n",
        "from torchvision.datasets import MNIST\n",
        "from torchvision import transforms\n",
        "\n",
        "mnist_train = MNIST('./', download=False,\n",
        "                    transform=transforms.Compose([\n",
        "                        transforms.ToTensor(),\n",
        "                    ]), train=True)\n",
        "mnist_test = MNIST('./', download=False,\n",
        "                    transform=transforms.Compose([\n",
        "                        transforms.ToTensor(),\n",
        "                    ]), train=False)\n",
        "\n",
        "def load_mnist(verbose=False, asnumpy=True):\n",
        "    '''\n",
        "    Helper function to maintain compatability with\n",
        "    previous MNIST dataloaders in CLAI COLAB\n",
        "\n",
        "    Much of this can likely now be fixed with the toTensor call on inport\n",
        "    Or by using proper PyTorch functions... lol\n",
        "\n",
        "    - KWC\n",
        "    '''\n",
        "    \n",
        "    x_traint, t_traint = mnist_train.data, mnist_train.targets\n",
        "    x_testt, t_testt = mnist_test.data, mnist_test.targets\n",
        "    \n",
        "    if asnumpy: \n",
        "      # Fix dimensions and convert back to np array for code compatability\n",
        "      # We aren't using torch dataloaders for ease of use\n",
        "      x_traint = torch.unsqueeze(x_traint, 1)\n",
        "      x_testt = torch.unsqueeze(x_testt, 1)\n",
        "      x_train, x_test = x_traint.numpy().copy(), x_testt.numpy()\n",
        "      t_train, t_test = t_traint.numpy().copy(), t_testt.numpy()\n",
        "    else:\n",
        "      x_train, t_train = x_traint, t_traint\n",
        "      x_test, t_test = x_testt, t_testt\n",
        "\n",
        "    if verbose: \n",
        "      print(\"x_train dim and type: \", x_train.shape, x_train.dtype)\n",
        "      print(\"t_train dim and type: \", t_train.shape, t_train.dtype)\n",
        "      print(\"x_test dim and type: \", x_test.shape, x_test.dtype)\n",
        "      print(\"t_test dim and type: \", t_test.shape, t_test.dtype)\n",
        "      print()\n",
        "\n",
        "\n",
        "    return x_train, t_train, x_test, t_test\n",
        "\n",
        "print('\\nDownloading core50 in the background...')\n",
        "# this lines of code will download core50 in background. We suggest to run it at the start of the notebook\n",
        "!wget http://raw.githubusercontent.com/ContinualAI/colab/master/scripts/download_and_extract_core50_mini.sh\n",
        "!nohup sh download_and_extract_core50_mini.sh &\n",
        "\n",
        "print('Core50 will be silently unpacked in the backgroud. Please continue.')"
      ],
      "execution_count": 6,
      "outputs": [
        {
          "output_type": "stream",
          "text": [
            "Downloading and unpacking MNIST data. Please wait a moment...\n",
            "\n",
            "--2021-06-30 12:38:31--  http://www.di.ens.fr/~lelarge/MNIST.tar.gz\n",
            "Resolving www.di.ens.fr (www.di.ens.fr)... 129.199.99.14\n",
            "Connecting to www.di.ens.fr (www.di.ens.fr)|129.199.99.14|:80... connected.\n",
            "HTTP request sent, awaiting response... 302 Found\n",
            "Location: https://www.di.ens.fr/~lelarge/MNIST.tar.gz [following]\n",
            "--2021-06-30 12:38:32--  https://www.di.ens.fr/~lelarge/MNIST.tar.gz\n",
            "Connecting to www.di.ens.fr (www.di.ens.fr)|129.199.99.14|:443... connected.\n",
            "HTTP request sent, awaiting response... 200 OK\n",
            "Length: unspecified [application/x-gzip]\n",
            "Saving to: ‘MNIST.tar.gz’\n",
            "\n",
            "MNIST.tar.gz            [             <=>    ]  33.20M  11.6MB/s    in 2.9s    \n",
            "\n",
            "2021-06-30 12:38:35 (11.6 MB/s) - ‘MNIST.tar.gz’ saved [34813078]\n",
            "\n",
            "MNIST/\n",
            "MNIST/raw/\n",
            "MNIST/raw/train-labels-idx1-ubyte\n",
            "MNIST/raw/t10k-labels-idx1-ubyte.gz\n",
            "MNIST/raw/t10k-labels-idx1-ubyte\n",
            "MNIST/raw/t10k-images-idx3-ubyte.gz\n",
            "MNIST/raw/train-images-idx3-ubyte\n",
            "MNIST/raw/train-labels-idx1-ubyte.gz\n",
            "MNIST/raw/t10k-images-idx3-ubyte\n",
            "MNIST/raw/train-images-idx3-ubyte.gz\n",
            "MNIST/processed/\n",
            "MNIST/processed/training.pt\n",
            "MNIST/processed/test.pt\n",
            "\n",
            "Downloading core50 in the background...\n",
            "--2021-06-30 12:38:36--  http://raw.githubusercontent.com/ContinualAI/colab/master/scripts/download_and_extract_core50_mini.sh\n",
            "Resolving raw.githubusercontent.com (raw.githubusercontent.com)... 185.199.108.133, 185.199.109.133, 185.199.110.133, ...\n",
            "Connecting to raw.githubusercontent.com (raw.githubusercontent.com)|185.199.108.133|:80... connected.\n",
            "HTTP request sent, awaiting response... 301 Moved Permanently\n",
            "Location: https://raw.githubusercontent.com/ContinualAI/colab/master/scripts/download_and_extract_core50_mini.sh [following]\n",
            "--2021-06-30 12:38:36--  https://raw.githubusercontent.com/ContinualAI/colab/master/scripts/download_and_extract_core50_mini.sh\n",
            "Connecting to raw.githubusercontent.com (raw.githubusercontent.com)|185.199.108.133|:443... connected.\n",
            "HTTP request sent, awaiting response... 200 OK\n",
            "Length: 632 [text/plain]\n",
            "Saving to: ‘download_and_extract_core50_mini.sh’\n",
            "\n",
            "download_and_extrac 100%[===================>]     632  --.-KB/s    in 0s      \n",
            "\n",
            "2021-06-30 12:38:36 (42.1 MB/s) - ‘download_and_extract_core50_mini.sh’ saved [632/632]\n",
            "\n",
            "nohup: appending output to 'nohup.out'\n",
            "Core50 will be silently unpacked in the backgroud. Please continue.\n"
          ],
          "name": "stdout"
        }
      ]
    },
    {
      "cell_type": "code",
      "metadata": {
        "id": "vGVC4AWz41jD",
        "cellView": "form"
      },
      "source": [
        "#@title Plotting and Utils Helper functions\n",
        "\n",
        "# If any helper functions you want to hide for clarity, add here\n",
        "# If helper code depends on libraries that aren't used elsewhere,\n",
        "# import those libaries here, rather than in the main import cell\n",
        "\n",
        "\n",
        "def plot_mnist(data, nPlots=10):\n",
        "  \"\"\" Plot MNIST-like data \"\"\"\n",
        "  f, axarr = plt.subplots(1,nPlots)\n",
        "  for ii in range(nPlots):\n",
        "    axarr[ii].imshow(data[ii,0], cmap=\"gray\")\n",
        "  np.vectorize(lambda ax:ax.axis('off'))(axarr);\n",
        "  plt.show()\n",
        "\n",
        "\n",
        "def permute_mnist(mnist, seed, verbose=False):\n",
        "    \"\"\" Given the training set, permute pixels of each img the same way. \"\"\"\n",
        "\n",
        "    np.random.seed(seed)\n",
        "    if verbose: print(\"starting permutation...\")\n",
        "    h = w = 28\n",
        "    perm_inds = list(range(h*w))\n",
        "    np.random.shuffle(perm_inds)\n",
        "    # print(perm_inds)\n",
        "    perm_mnist = []\n",
        "    for set in mnist:\n",
        "        num_img = set.shape[0]\n",
        "        flat_set = set.reshape(num_img, w * h)\n",
        "        perm_mnist.append(flat_set[:, perm_inds].reshape(num_img, 1, w, h))\n",
        "    if verbose: print(\"done.\")\n",
        "    return perm_mnist\n",
        "\n",
        "\n",
        "def multi_task_barplot(accs, tasks, t=None):\n",
        "  ''' Plot n task accuracy\n",
        "      used for S1 intro to CF code '''\n",
        "  nTasks = len(accs)\n",
        "  plt.bar(range(nTasks), accs, color='k')\n",
        "  plt.ylabel('Testing Accuracy (%)', size=18)\n",
        "  plt.xticks(range(nTasks), \n",
        "            [f'{TN}\\nTask {ii+1}' for ii,TN in enumerate(tasks.keys())], \n",
        "            size=18)\n",
        "  plt.title(t)\n",
        "\n",
        "\n",
        "def plot_task(axs, data, samples_num):\n",
        "  for sample in range(samples_num):\n",
        "    axs[sample].imshow(data[sample][0], cmap=\"gray\")\n",
        "    # np.vectorize(lambda ax:ax.axis('off'))(axs[sample]);\n",
        "    axs[sample].xaxis.set_ticks([])\n",
        "    axs[sample].yaxis.set_ticks([])\n"
      ],
      "execution_count": 7,
      "outputs": []
    },
    {
      "cell_type": "markdown",
      "metadata": {
        "id": "nULavCfq4o07"
      },
      "source": [
        "---\n",
        "\n",
        "# Section 1: The sequential learning problem: catastrophic forgetting "
      ]
    },
    {
      "cell_type": "code",
      "metadata": {
        "id": "ThcPwgvzvV-6",
        "colab": {
          "base_uri": "https://localhost:8080/",
          "height": 518
        },
        "cellView": "form",
        "outputId": "512098b8-c749-4260-960c-579261f50430"
      },
      "source": [
        "#@title Video 1: Catastrophic forgetting\n",
        "# Insert the ID of the corresponding youtube video\n",
        "from IPython.display import YouTubeVideo\n",
        "video = YouTubeVideo(id=\"WIbgFxzaFP4\", width=854, height=480, fs=1)\n",
        "print(\"Video available at https://youtu.be/\" + video.id)\n",
        "video\n"
      ],
      "execution_count": 8,
      "outputs": [
        {
          "output_type": "stream",
          "text": [
            "Video available at https://youtu.be/WIbgFxzaFP4\n"
          ],
          "name": "stdout"
        },
        {
          "output_type": "execute_result",
          "data": {
            "text/html": [
              "\n",
              "        <iframe\n",
              "            width=\"854\"\n",
              "            height=\"480\"\n",
              "            src=\"https://www.youtube.com/embed/WIbgFxzaFP4?fs=1\"\n",
              "            frameborder=\"0\"\n",
              "            allowfullscreen\n",
              "        ></iframe>\n",
              "        "
            ],
            "text/plain": [
              "<IPython.lib.display.YouTubeVideo at 0x7fea945f0790>"
            ],
            "image/jpeg": "[encoded data removed]"
          },
          "metadata": {
            "tags": []
          },
          "execution_count": 8
        }
      ]
    },
    {
      "cell_type": "markdown",
      "metadata": {
        "id": "z8axuI6upLv4"
      },
      "source": [
        "Here we'll explore catastrophic forgetting first hand, a key barrier preventing continual learning in neural networks. To do so, we'll build a simple network model and try our best to teach it the trusty MNIST dataset"
      ]
    },
    {
      "cell_type": "markdown",
      "metadata": {
        "id": "j9n17gXFOIXX"
      },
      "source": [
        "## Section 1.1: A brief example of catastrophic forgetting \n",
        "\n",
        "Let's define a simple CNN that can perform fairly well on MNIST. We'll also load in some training and testing functions we wrote to load the data into the model and train / test it. We don't need to get into the details how they work for now (pretty standard) but feel free to double click the cell if you're curious!"
      ]
    },
    {
      "cell_type": "code",
      "metadata": {
        "id": "msAvs2JHX-Xa",
        "cellView": "form"
      },
      "source": [
        "#@title [RUN ME!] Model Training and Testing Functions\n",
        "def train(model, device, x_train, t_train, optimizer, epoch):\n",
        "  \"\"\"\n",
        "\n",
        "  \"\"\"\n",
        "  model.train()\n",
        "  \n",
        "  for start in range(0, len(t_train)-1, 256):\n",
        "    end = start + 256\n",
        "    x = torch.from_numpy(x_train[start:end]).type(torch.cuda.FloatTensor)\n",
        "    y = torch.from_numpy(t_train[start:end]).long()\n",
        "    x, y = x.to(device), y.to(device)\n",
        "    \n",
        "    optimizer.zero_grad()\n",
        "\n",
        "    output = model(x)\n",
        "    loss = F.cross_entropy(output, y)\n",
        "    loss.backward()\n",
        "    optimizer.step()\n",
        "    # print(loss.item())\n",
        "  print('Train Epoch: {} \\tLoss: {:.6f}'.format(epoch, loss.item()))\n",
        "\n",
        "\n",
        "def test(model, device, x_test, t_test):\n",
        "  \"\"\"\n",
        "\n",
        "  \"\"\"\n",
        "  model.eval()\n",
        "  correct, test_loss = 0, 0\n",
        "  for start in range(0, len(t_test)-1, 256):\n",
        "    end = start + 256\n",
        "    with torch.no_grad():\n",
        "      x = torch.from_numpy(x_test[start:end]).type(torch.cuda.FloatTensor)\n",
        "      y = torch.from_numpy(t_test[start:end]).long()\n",
        "      x, y = x.to(device), y.to(device)\n",
        "      output = model(x)\n",
        "      test_loss += F.cross_entropy(output, y).item() # sum up batch loss\n",
        "      pred = output.max(1, keepdim=True)[1] # get the index of the max logit\n",
        "      correct += pred.eq(y.view_as(pred)).sum().item()\n",
        "\n",
        "  test_loss /= len(t_train)\n",
        "  print('Test set: Average loss: {:.4f}, Accuracy: {}/{} ({:.0f}%)\\n'.format(\n",
        "      test_loss, correct, len(t_test),\n",
        "      100. * correct / len(t_test)))\n",
        "  return 100. * correct / len(t_test)\n",
        "\n",
        "\n",
        "class simpNet(nn.Module):\n",
        "  def __init__(self):\n",
        "    super(simpNet,self).__init__()\n",
        "    self.linear1 = nn.Linear(28*28, 320) \n",
        "    self.out = nn.Linear(320, 10)\n",
        "    self.relu = nn.ReLU()\n",
        "\n",
        "  def forward(self, img): \n",
        "    x = img.view(-1, 28*28)\n",
        "    x = self.relu(self.linear1(x))\n",
        "    x = self.out(x)\n",
        "    return x\n"
      ],
      "execution_count": 9,
      "outputs": []
    },
    {
      "cell_type": "code",
      "metadata": {
        "id": "O3yGrRu7X8Dc"
      },
      "source": [
        "# Here we define a simple multilayer CNN. Nothing too fancy\n",
        "class Net(nn.Module):\n",
        "  def __init__(self):\n",
        "    super(Net, self).__init__()\n",
        "    self.conv1 = nn.Conv2d(1, 10, kernel_size=5)\n",
        "    self.conv2 = nn.Conv2d(10, 20, kernel_size=5)\n",
        "    self.conv2_drop = nn.Dropout2d()\n",
        "    self.fc1 = nn.Linear(320, 50)\n",
        "    self.fc2 = nn.Linear(50, 10)\n",
        "\n",
        "  def forward(self, x):\n",
        "    \"\"\" run the network forward \n",
        "    (uses the functional library (F) imported from pytorch)\"\"\"\n",
        "    x = F.relu(F.max_pool2d(self.conv1(x), 2))\n",
        "    x = F.relu(F.max_pool2d(self.conv2_drop(self.conv2(x)), 2))\n",
        "    x = x.view(-1, 320)\n",
        "    x = F.relu(self.fc1(x))\n",
        "    x = F.dropout(x, training=self.training)\n",
        "    x = self.fc2(x)\n",
        "    return x"
      ],
      "execution_count": 10,
      "outputs": []
    },
    {
      "cell_type": "markdown",
      "metadata": {
        "id": "kLDNxAPOi-5H"
      },
      "source": [
        "Now let's load in our dataset, MNIST. We'll also run a function we defined in the helper function cell above that permutes (scrambles) the images. This allows us to create aditional datasets with similar statictics to MNIST on the fly. We'll call the normal MNIST Task 1, and the permuted MNIST Task 2. We'll see why in a second!"
      ]
    },
    {
      "cell_type": "code",
      "metadata": {
        "colab": {
          "base_uri": "https://localhost:8080/",
          "height": 261
        },
        "id": "TGDMl7JUmAwQ",
        "outputId": "d69cd96f-4551-4b19-9d53-c30479fcd959"
      },
      "source": [
        "# Load in MNIST and create an additional permuted dataset\n",
        "x_train, t_train, x_test, t_test = load_mnist(verbose=True)\n",
        "x_train2, x_test2 = permute_mnist([x_train, x_test], 0, verbose=False)\n",
        "\n",
        "# Plot the data to see what we're working with\n",
        "print('Task 1: MNIST Training data:')\n",
        "plot_mnist(x_train, nPlots=10)\n",
        "print('\\nTask 2: Permuted MNIST data:')\n",
        "plot_mnist(x_train2, nPlots=10)"
      ],
      "execution_count": 11,
      "outputs": [
        {
          "output_type": "stream",
          "text": [
            "x_train dim and type:  (60000, 1, 28, 28) uint8\n",
            "t_train dim and type:  (60000,) int64\n",
            "x_test dim and type:  (10000, 1, 28, 28) uint8\n",
            "t_test dim and type:  (10000,) int64\n",
            "\n",
            "Task 1: MNIST Training data:\n"
          ],
          "name": "stdout"
        },
        {
          "output_type": "display_data",
          "data": {
            "image/png": "[encoded data removed]",
            "text/plain": [
              "<Figure size 576x432 with 10 Axes>"
            ]
          },
          "metadata": {
            "tags": [],
            "image/png": {
              "width": 557,
              "height": 54
            },
            "needs_background": "light"
          }
        },
        {
          "output_type": "stream",
          "text": [
            "\n",
            "Task 2: Permuted MNIST data:\n"
          ],
          "name": "stdout"
        },
        {
          "output_type": "display_data",
          "data": {
            "image/png": "[encoded data removed]",
            "text/plain": [
              "<Figure size 576x432 with 10 Axes>"
            ]
          },
          "metadata": {
            "tags": [],
            "image/png": {
              "width": 557,
              "height": 54
            },
            "needs_background": "light"
          }
        }
      ]
    },
    {
      "cell_type": "markdown",
      "metadata": {
        "id": "3bT3zvWhjuLD"
      },
      "source": [
        "Great! We have our data. Now, let's initialize and train our model on the standard MNIST dataset (Task 1) and make sure everything is working properly. "
      ]
    },
    {
      "cell_type": "code",
      "metadata": {
        "colab": {
          "base_uri": "https://localhost:8080/"
        },
        "id": "30ysuRvhYGPO",
        "outputId": "00632bce-55bb-4890-8f95-832316ea8098"
      },
      "source": [
        "# Define a new model and set params\n",
        "model = Net().to(device)\n",
        "optimizer = optim.SGD(model.parameters(), lr=0.01, momentum=0.9)\n",
        "\n",
        "# Train the model on MNIST\n",
        "nEpochs = 3 \n",
        "print(f'Training model on {nEpochs} epochs...')\n",
        "for epoch in range(1, nEpochs+1):\n",
        "  train(model, device, x_train, t_train, optimizer, epoch)\n",
        "  test(model, device, x_test, t_test)"
      ],
      "execution_count": 12,
      "outputs": [
        {
          "output_type": "stream",
          "text": [
            "Training model on 3 epochs...\n"
          ],
          "name": "stdout"
        },
        {
          "output_type": "stream",
          "text": [
            "/usr/local/lib/python3.7/dist-packages/torch/nn/functional.py:718: UserWarning: Named tensors and all their associated APIs are an experimental feature and subject to change. Please do not use them for anything important until they are released as stable. (Triggered internally at  /pytorch/c10/core/TensorImpl.h:1156.)\n",
            "  return torch.max_pool2d(input, kernel_size, stride, padding, dilation, ceil_mode)\n"
          ],
          "name": "stderr"
        },
        {
          "output_type": "stream",
          "text": [
            "Train Epoch: 1 \tLoss: 1.460886\n",
            "Test set: Average loss: 0.0005, Accuracy: 8561/10000 (86%)\n",
            "\n",
            "Train Epoch: 2 \tLoss: 1.153854\n",
            "Test set: Average loss: 0.0002, Accuracy: 8944/10000 (89%)\n",
            "\n",
            "Train Epoch: 3 \tLoss: 0.834627\n",
            "Test set: Average loss: 0.0002, Accuracy: 9344/10000 (93%)\n",
            "\n"
          ],
          "name": "stdout"
        }
      ]
    },
    {
      "cell_type": "markdown",
      "metadata": {
        "id": "OWlK5CQdpMX5"
      },
      "source": [
        "Okay great! It seems we get decent accuracy on standard MNIST which means the model is learning our dataset. Now, a reasonable assumption is that, like humans, once the network learns something, it can aggregate its knowledge and learn something else. \n",
        "\n",
        "First, let's get a baseline for how the model performs on the dataset it was just trained on (Task 1) as well as to see how well it performs on a new dataset (Task 2). "
      ]
    },
    {
      "cell_type": "code",
      "metadata": {
        "colab": {
          "base_uri": "https://localhost:8080/",
          "height": 532
        },
        "id": "oinFMNkSp1lD",
        "outputId": "a3843292-3060-48c2-817f-95624ec2bcab"
      },
      "source": [
        "# test the model's accuracy on both the regular and permuted dataset\n",
        "\n",
        "# Let's define a dictionary that holds each of the task\n",
        "# datasets and labels \n",
        "tasks = {'MNIST':(x_test, t_test), \n",
        "         'Perm MNIST':(x_test2, t_test)}\n",
        "t1_accs = []\n",
        "for ti, task in enumerate(tasks.keys()):\n",
        "  print(f\"Testing on task {ti+1}\")\n",
        "  t1_accs.append(test(model, device, tasks[task][0], tasks[task][1]))\n",
        "\n",
        "# And then let's plot the testing accuracy on both datasets\n",
        "\n",
        "multi_task_barplot(t1_accs, tasks,\n",
        "                   t='Accuracy after training on Task 1 \\nbut before Training on Task 2')\n"
      ],
      "execution_count": 13,
      "outputs": [
        {
          "output_type": "stream",
          "text": [
            "Testing on task 1\n",
            "Test set: Average loss: 0.0002, Accuracy: 9344/10000 (93%)\n",
            "\n",
            "Testing on task 2\n",
            "Test set: Average loss: 0.0020, Accuracy: 1082/10000 (11%)\n",
            "\n"
          ],
          "name": "stdout"
        },
        {
          "output_type": "display_data",
          "data": {
            "image/png": "[encoded data removed]",
            "text/plain": [
              "<Figure size 576x432 with 1 Axes>"
            ]
          },
          "metadata": {
            "tags": [],
            "image/png": {
              "width": 558,
              "height": 413
            },
            "needs_background": "light"
          }
        }
      ]
    },
    {
      "cell_type": "markdown",
      "metadata": {
        "id": "9qerUrw6sTER"
      },
      "source": [
        "As we saw before, the model does great on the Task 1 dataset it was trained on, but not so well on the new one. No worries! We havn't taught it the permuted MNIST dataset yet! So let's train the *same* task 1-trained-model on the new data, and see if we can get comparable performance between the two types of MNIST"
      ]
    },
    {
      "cell_type": "code",
      "metadata": {
        "colab": {
          "base_uri": "https://localhost:8080/",
          "height": 634
        },
        "id": "Sxusb8s3itli",
        "outputId": "b5d0d27c-dd21-4c3e-e13d-4d37a7ffa456"
      },
      "source": [
        "# Train the previously trained model on Task 2, the permuted MNIST dataset\n",
        "for epoch in range(1, 3):\n",
        "  train(model, device, x_train2, t_train, optimizer, epoch)\n",
        "  test(model, device, x_test2, t_test)\n",
        "\n",
        "# Same data as before, stored in a dict\n",
        "tasks = {'MNIST':(x_test, t_test), \n",
        "         'Perm MNIST':(x_test2, t_test)}\n",
        "# Test the model on both datasets, same as before\n",
        "t12_accs = []\n",
        "for ti, task in enumerate(tasks.keys()):\n",
        "  print(f\"Testing on task {ti+1}\")\n",
        "  t12_accs.append(test(model, device, tasks[task][0], tasks[task][1]))\n",
        "\n",
        "# And then let's plot each of the testing accuracies after the new training\n",
        "multi_task_barplot(t12_accs, tasks,\n",
        "                   t='Accuracy after training on Task 1 \\nand *AFTER* Training on Task 2')\n"
      ],
      "execution_count": 14,
      "outputs": [
        {
          "output_type": "stream",
          "text": [
            "Train Epoch: 1 \tLoss: 1.763658\n",
            "Test set: Average loss: 0.0007, Accuracy: 6434/10000 (64%)\n",
            "\n",
            "Train Epoch: 2 \tLoss: 1.447791\n",
            "Test set: Average loss: 0.0006, Accuracy: 7245/10000 (72%)\n",
            "\n",
            "Testing on task 1\n",
            "Test set: Average loss: 0.0017, Accuracy: 1348/10000 (13%)\n",
            "\n",
            "Testing on task 2\n",
            "Test set: Average loss: 0.0006, Accuracy: 7245/10000 (72%)\n",
            "\n"
          ],
          "name": "stdout"
        },
        {
          "output_type": "display_data",
          "data": {
            "image/png": "[encoded data removed]",
            "text/plain": [
              "<Figure size 576x432 with 1 Axes>"
            ]
          },
          "metadata": {
            "tags": [],
            "image/png": {
              "width": 558,
              "height": 413
            },
            "needs_background": "light"
          }
        }
      ]
    },
    {
      "cell_type": "markdown",
      "metadata": {
        "id": "Qytmat4xu6XF"
      },
      "source": [
        "Hey! Training did the trick, task 2 (permuted MNIST) has great accuracy now that we trained the model on it. But something is wrong. We just saw that Task 1 (standard MNIST) had high accuracy before we trained on the new task. What gives? Try to incorperate what you learned in the lecture to help explain the problem we're seeing. You might also take a few seconds and think of what possible soultions you might like to try. In the next section, we'll look into exactly that!"
      ]
    },
    {
      "cell_type": "markdown",
      "metadata": {
        "id": "DVnzvcGB4hBY"
      },
      "source": [
        "---\n",
        "# Section 2: Continual Learning strategies"
      ]
    },
    {
      "cell_type": "code",
      "metadata": {
        "cellView": "form",
        "id": "8wCQSt02tEjO",
        "outputId": "38153fc2-4000-4bcc-8047-097822cdffbf",
        "colab": {
          "base_uri": "https://localhost:8080/",
          "height": 518
        }
      },
      "source": [
        "#@title Video 2: Strategies\n",
        "# Insert the ID of the corresponding youtube video\n",
        "from IPython.display import YouTubeVideo\n",
        "video = YouTubeVideo(id=\"IJL3FNxrOaE\", width=854, height=480, fs=1)\n",
        "print(\"Video available at https://youtu.be/\" + video.id)\n",
        "video"
      ],
      "execution_count": 15,
      "outputs": [
        {
          "output_type": "stream",
          "text": [
            "Video available at https://youtu.be/IJL3FNxrOaE\n"
          ],
          "name": "stdout"
        },
        {
          "output_type": "execute_result",
          "data": {
            "text/html": [
              "\n",
              "        <iframe\n",
              "            width=\"854\"\n",
              "            height=\"480\"\n",
              "            src=\"https://www.youtube.com/embed/IJL3FNxrOaE?fs=1\"\n",
              "            frameborder=\"0\"\n",
              "            allowfullscreen\n",
              "        ></iframe>\n",
              "        "
            ],
            "text/plain": [
              "<IPython.lib.display.YouTubeVideo at 0x7fea80ae7f10>"
            ],
            "image/jpeg": "[encoded data removed]"
          },
          "metadata": {
            "tags": []
          },
          "execution_count": 15
        }
      ]
    },
    {
      "cell_type": "markdown",
      "metadata": {
        "id": "IddpkW6o40XF"
      },
      "source": [
        "## Section 2.1: Split MNIST"
      ]
    },
    {
      "cell_type": "markdown",
      "metadata": {
        "id": "_w-438II_hdj"
      },
      "source": [
        "For this section we will again use the MNIST dataset, but we will now create 5 tasks by splitting the dataset up in such a way that each task contains 2 classes. This problem is called Split MNIST, and it is popular toy problem in the continual learning literature"
      ]
    },
    {
      "cell_type": "code",
      "metadata": {
        "colab": {
          "base_uri": "https://localhost:8080/",
          "height": 359
        },
        "id": "20xwAakk49jJ",
        "outputId": "27c94281-38fa-48fc-ba44-722817d09351"
      },
      "source": [
        "# Specify which classes should be part of which task\n",
        "task_classes_arr = [(0, 1), (2, 3), (4, 5), (6, 7), (8, 9)]\n",
        "tasks_num = len(task_classes_arr) # 5\n",
        "\n",
        "# Divide the data over the different tasks\n",
        "task_data_with_overlap = []\n",
        "for task_id, task_classes in enumerate(task_classes_arr):\n",
        "  train_mask = np.isin(t_train, task_classes)\n",
        "  test_mask = np.isin(t_test, task_classes)\n",
        "  x_train_task, t_train_task = x_train[train_mask], t_train[train_mask]\n",
        "  x_test_task, t_test_task = x_test[test_mask], t_test[test_mask]\n",
        "  # Convert the original class labels (i.e., the digits 0 to 9) to\n",
        "  # \"within-task labels\" so that within each task one of the digits is labelled\n",
        "  # as '0' and the other as '1'.\n",
        "  task_data_with_overlap.append((x_train_task, t_train_task - (task_id * 2),\n",
        "                                 x_test_task, t_test_task - (task_id * 2)))\n",
        "\n",
        "# Display tasks\n",
        "n_tasks, samples = 5, 5\n",
        "_, axs = plt.subplots(n_tasks, samples, figsize=(5, 5))\n",
        "for task in range(n_tasks):\n",
        "  axs[task, 0].set_ylabel(f'Task {task}', rotation=0)\n",
        "  axs[task, 0].yaxis.set_label_coords(-0.5,1)\n",
        "  plot_task(axs[task], task_data_with_overlap[task][0], samples)\n",
        "plt.tight_layout()"
      ],
      "execution_count": 16,
      "outputs": [
        {
          "output_type": "display_data",
          "data": {
            "image/png": "[encoded data removed]",
            "text/plain": [
              "<Figure size 360x360 with 25 Axes>"
            ]
          },
          "metadata": {
            "tags": [],
            "image/png": {
              "width": 328,
              "height": 342
            }
          }
        }
      ]
    },
    {
      "cell_type": "markdown",
      "metadata": {
        "id": "4WjjLXPv5TOW"
      },
      "source": [
        "## Section 2.2: Naive strategy (\"fine-tuning\")\n",
        "First, let's see what happens if we simply sequentially train a deep neural network on these tasks in the standard way."
      ]
    },
    {
      "cell_type": "markdown",
      "metadata": {
        "id": "A8oDEd2k6K-g"
      },
      "source": [
        "Let's start by defining our network. As is common in the continual learning literature, we will use a \"multi-headed layout\". This means that we have a separate output layer for each task to be learned, but the hidden layers of the network are shared between all tasks."
      ]
    },
    {
      "cell_type": "code",
      "metadata": {
        "id": "eLK2fSKu5n8W"
      },
      "source": [
        "## Base network that is shared between all tasks\n",
        "class FBaseNet(nn.Module):\n",
        "  def __init__(self, hsize=512):\n",
        "    super(FBaseNet, self).__init__()\n",
        "    self.l1 = nn.Linear(784, hsize)\n",
        "\n",
        "  def forward(self, x):\n",
        "    x = x.view(x.size(0), -1)\n",
        "    x = F.relu(self.l1(x))\n",
        "    return x\n",
        "\n",
        "## Output layer, which will be separate for each task\n",
        "class FHeadNet(nn.Module):\n",
        "  def __init__(self, base_net, input_size=512):\n",
        "    super(FHeadNet, self).__init__()\n",
        "\n",
        "    self.base_net = base_net\n",
        "    self.output_layer = nn.Linear(input_size, 2)\n",
        "\n",
        "  def forward(self, x):\n",
        "    x = self.base_net.forward(x)\n",
        "    x = self.output_layer(x)\n",
        "    return x"
      ],
      "execution_count": 17,
      "outputs": []
    },
    {
      "cell_type": "code",
      "metadata": {
        "colab": {
          "base_uri": "https://localhost:8080/"
        },
        "id": "2XLDE2Am6uBK",
        "outputId": "a2870fb4-d1ff-47ae-c666-a54a6a6e936a"
      },
      "source": [
        "# Define the base network (a new head is defined when we encounter a new task)\n",
        "base = FBaseNet().to(device)\n",
        "heads = []\n",
        "\n",
        "# Define a list to store test accuracies for each task\n",
        "accs_naive = []\n",
        "\n",
        "# Set the number of epochs to train each task for\n",
        "epochs = 3\n",
        "\n",
        "# Loop through all tasks\n",
        "for task_id in range(tasks_num):\n",
        "  # Collect the training data for the new task\n",
        "  x_train, t_train, _, _ = task_data_with_overlap[task_id]\n",
        "\n",
        "  # Define a new head for this task\n",
        "  model = FHeadNet(base).to(device)\n",
        "  heads.append(model)\n",
        "\n",
        "  # Set the optimizer\n",
        "  optimizer = optim.SGD(heads[task_id].parameters(), lr=0.01)\n",
        "\n",
        "  # Train the model (with the new head) on the current task\n",
        "  train(heads[task_id], device, x_train, t_train, optimizer, epochs)\n",
        "\n",
        "  # Test the model on all tasks seen so far\n",
        "  accs_subset = []\n",
        "  for i in range(0, task_id + 1):\n",
        "    _, _, x_test, t_test = task_data_with_overlap[i]\n",
        "    test_acc = test(heads[i], device, x_test, t_test)\n",
        "    accs_subset.append(test_acc)\n",
        "  # For unseen tasks, we don't test\n",
        "  if task_id < (tasks_num - 1):\n",
        "    accs_subset.extend([np.nan] * (4 - task_id))\n",
        "  # Collect all test accuracies\n",
        "  accs_naive.append(accs_subset)"
      ],
      "execution_count": 18,
      "outputs": [
        {
          "output_type": "stream",
          "text": [
            "Train Epoch: 3 \tLoss: 0.000299\n",
            "Test set: Average loss: 0.0000, Accuracy: 2113/2115 (100%)\n",
            "\n",
            "Train Epoch: 3 \tLoss: 0.346215\n",
            "Test set: Average loss: 0.0002, Accuracy: 1955/2115 (92%)\n",
            "\n",
            "Test set: Average loss: 0.0003, Accuracy: 1905/2042 (93%)\n",
            "\n",
            "Train Epoch: 3 \tLoss: 0.044590\n",
            "Test set: Average loss: 0.0008, Accuracy: 1515/2115 (72%)\n",
            "\n",
            "Test set: Average loss: 0.0016, Accuracy: 1010/2042 (49%)\n",
            "\n",
            "Test set: Average loss: 0.0000, Accuracy: 1851/1874 (99%)\n",
            "\n",
            "Train Epoch: 3 \tLoss: 0.005510\n",
            "Test set: Average loss: 0.0014, Accuracy: 1459/2115 (69%)\n",
            "\n",
            "Test set: Average loss: 0.0005, Accuracy: 1542/2042 (76%)\n",
            "\n",
            "Test set: Average loss: 0.0007, Accuracy: 1294/1874 (69%)\n",
            "\n",
            "Test set: Average loss: 0.0000, Accuracy: 1967/1986 (99%)\n",
            "\n",
            "Train Epoch: 3 \tLoss: 0.326892\n",
            "Test set: Average loss: 0.0004, Accuracy: 1465/2115 (69%)\n",
            "\n",
            "Test set: Average loss: 0.0008, Accuracy: 1031/2042 (50%)\n",
            "\n",
            "Test set: Average loss: 0.0003, Accuracy: 1405/1874 (75%)\n",
            "\n",
            "Test set: Average loss: 0.0005, Accuracy: 1409/1986 (71%)\n",
            "\n",
            "Test set: Average loss: 0.0002, Accuracy: 1582/1983 (80%)\n",
            "\n"
          ],
          "name": "stdout"
        }
      ]
    },
    {
      "cell_type": "markdown",
      "metadata": {
        "id": "IkLmaNmYAwgm"
      },
      "source": [
        "As you can see, whenever this network is trained on a new task, its performance on previously learned tasks drops substantially.\n",
        "\n",
        "Now, let's see whether we can use a continual learning strategy to prevent such forgetting."
      ]
    },
    {
      "cell_type": "markdown",
      "metadata": {
        "id": "-IBFCMlU92u6"
      },
      "source": [
        "## Section 2.3: Elastic Weight Consolidation (EWC)\n",
        "\n",
        "EWC is a popular CL strategy which involves computing the importance of weights of the network relative to the task using the Fisher score and then penalizing the network for changes to the most important weights of the previous task. \n",
        "\n",
        "It was introduced in the paper \"[Overcoming catastrophic forgetting in neural networks\n",
        "](https://arxiv.org/abs/1612.00796)\". "
      ]
    },
    {
      "cell_type": "markdown",
      "metadata": {
        "id": "PxJvcdn8-K3B"
      },
      "source": [
        "For EWC, we need to define a new function to compute the fisher information matrix for each weight at the end of every task:"
      ]
    },
    {
      "cell_type": "code",
      "metadata": {
        "id": "0hexmy4_96oZ"
      },
      "source": [
        "def on_task_update(task_id, x_mem, t_mem, model, shared_model, fisher_dict,\n",
        "                   optpar_dict):\n",
        "\n",
        "  model.train()\n",
        "  optimizer.zero_grad()\n",
        "  \n",
        "  # accumulating gradients\n",
        "  for start in range(0, len(t_mem)-1, 256):\n",
        "    end = start + 256\n",
        "    x = torch.from_numpy(x_train[start:end]).type(torch.cuda.FloatTensor)\n",
        "    y = torch.from_numpy(t_train[start:end]).long()\n",
        "    x, y = x.to(device), y.to(device)\n",
        "    output = model(x)\n",
        "    loss = F.cross_entropy(output, y)\n",
        "    loss.backward()\n",
        "\n",
        "  fisher_dict[task_id] = {}\n",
        "  optpar_dict[task_id] = {}\n",
        "\n",
        "  # gradients accumulated can be used to calculate fisher\n",
        "  for name, param in shared_model.named_parameters():\n",
        "    optpar_dict[task_id][name] = param.data.clone()\n",
        "    fisher_dict[task_id][name] = param.grad.data.clone().pow(2)"
      ],
      "execution_count": 19,
      "outputs": []
    },
    {
      "cell_type": "markdown",
      "metadata": {
        "id": "HXeM40mc-jWf"
      },
      "source": [
        "We also need to modify our train function to add the new regularization loss:"
      ]
    },
    {
      "cell_type": "code",
      "metadata": {
        "id": "P17MdWYj-syw"
      },
      "source": [
        "def train_ewc(model, shared_model, device, task_id, x_train, t_train, optimizer,\n",
        "              epoch, ewc_lambda, fisher_dict, optpar_dict):\n",
        "    model.train()\n",
        "\n",
        "    for start in range(0, len(t_train)-1, 256):\n",
        "      end = start + 256\n",
        "      x = torch.from_numpy(x_train[start:end]).type(torch.cuda.FloatTensor)\n",
        "      y = torch.from_numpy(t_train[start:end]).long()\n",
        "      x, y = x.to(device), y.to(device)\n",
        "      \n",
        "      optimizer.zero_grad()\n",
        "\n",
        "      output = model(x)\n",
        "      loss = F.cross_entropy(output, y)\n",
        "      \n",
        "      ### magic here! :-)\n",
        "      for task in range(task_id):\n",
        "        for name, param in shared_model.named_parameters():\n",
        "          fisher = fisher_dict[task][name]\n",
        "          optpar = optpar_dict[task][name]\n",
        "          loss += (fisher * (optpar - param).pow(2)).sum() * ewc_lambda\n",
        "      \n",
        "      loss.backward()\n",
        "      optimizer.step()\n",
        "    print('Train Epoch: {} \\tLoss: {:.6f}'.format(epoch, loss.item()))"
      ],
      "execution_count": 20,
      "outputs": []
    },
    {
      "cell_type": "markdown",
      "metadata": {
        "id": "yngCOpmt_ij-"
      },
      "source": [
        "Now let's train with EWC:"
      ]
    },
    {
      "cell_type": "code",
      "metadata": {
        "colab": {
          "base_uri": "https://localhost:8080/"
        },
        "id": "WfQKRuL7_lJo",
        "outputId": "94eb30f8-8e0b-4109-fce7-a1bba3604eca"
      },
      "source": [
        "# Define the base network (a new head is defined when we encounter a new task)\n",
        "base = FBaseNet().to(device)\n",
        "heads = []\n",
        "\n",
        "# Define a list to store test accuracies for each task\n",
        "accs_ewc = []\n",
        "\n",
        "# Set number of epochs\n",
        "epochs = 2\n",
        "\n",
        "# Set EWC hyperparameter\n",
        "ewc_lambda = 0.4\n",
        "\n",
        "# Define dictionaries to store values needed by EWC\n",
        "fisher_dict = {}\n",
        "optpar_dict = {}\n",
        "\n",
        "# Loop through all tasks\n",
        "for task_id in range(tasks_num):\n",
        "  # Collect the training data for the new task\n",
        "  x_train, t_train, _, _ = task_data_with_overlap[task_id]\n",
        "\n",
        "  # Define a new head for this task\n",
        "  model = FHeadNet(base).to(device)\n",
        "  heads.append(model)\n",
        "\n",
        "  # Set the optimizer\n",
        "  optimizer = optim.SGD(heads[task_id].parameters(), lr=0.01)\n",
        "\n",
        "  # Train the model (with the new head) on the current task\n",
        "  for epoch in range(1, epochs+1):\n",
        "      train_ewc(heads[task_id], heads[task_id].base_net, device, task_id,\n",
        "                x_train, t_train, optimizer, epoch, ewc_lambda, fisher_dict,\n",
        "                optpar_dict)\n",
        "  on_task_update(task_id, x_train, t_train, heads[task_id],\n",
        "                  heads[task_id].base_net, fisher_dict, optpar_dict)\n",
        "\n",
        "  # Test the model on all tasks seen so far\n",
        "  accs_subset = []\n",
        "  for i in range(0, task_id + 1):\n",
        "    _, _, x_test, t_test = task_data_with_overlap[i]\n",
        "    test_acc = test(heads[i], device, x_test, t_test)\n",
        "    accs_subset.append(test_acc)\n",
        "  # For unseen tasks, we don't test\n",
        "  if task_id < (tasks_num - 1):\n",
        "    accs_subset.extend([np.nan] * (4 - task_id))\n",
        "  # Collect all test accuracies\n",
        "  accs_ewc.append(accs_subset)"
      ],
      "execution_count": 21,
      "outputs": [
        {
          "output_type": "stream",
          "text": [
            "Train Epoch: 1 \tLoss: 0.000149\n",
            "Train Epoch: 2 \tLoss: 0.000280\n",
            "Test set: Average loss: 0.0008, Accuracy: 2108/2115 (100%)\n",
            "\n",
            "Train Epoch: 1 \tLoss: 0.341019\n",
            "Train Epoch: 2 \tLoss: 0.229724\n",
            "Test set: Average loss: 0.0008, Accuracy: 2099/2115 (99%)\n",
            "\n",
            "Test set: Average loss: 0.0000, Accuracy: 1989/2042 (97%)\n",
            "\n",
            "Train Epoch: 1 \tLoss: 0.229495\n",
            "Train Epoch: 2 \tLoss: 0.423053\n",
            "Test set: Average loss: 0.0010, Accuracy: 2028/2115 (96%)\n",
            "\n",
            "Test set: Average loss: 0.0001, Accuracy: 1906/2042 (93%)\n",
            "\n",
            "Test set: Average loss: 0.0001, Accuracy: 1840/1874 (98%)\n",
            "\n",
            "Train Epoch: 1 \tLoss: 0.168994\n",
            "Train Epoch: 2 \tLoss: 0.152012\n",
            "Test set: Average loss: 0.0016, Accuracy: 1463/2115 (69%)\n",
            "\n",
            "Test set: Average loss: 0.0001, Accuracy: 1874/2042 (92%)\n",
            "\n",
            "Test set: Average loss: 0.0002, Accuracy: 1709/1874 (91%)\n",
            "\n",
            "Test set: Average loss: 0.0000, Accuracy: 1971/1986 (99%)\n",
            "\n",
            "Train Epoch: 1 \tLoss: 0.751351\n",
            "Train Epoch: 2 \tLoss: 0.385456\n",
            "Test set: Average loss: 0.0011, Accuracy: 1883/2115 (89%)\n",
            "\n",
            "Test set: Average loss: 0.0002, Accuracy: 1792/2042 (88%)\n",
            "\n",
            "Test set: Average loss: 0.0007, Accuracy: 1210/1874 (65%)\n",
            "\n",
            "Test set: Average loss: 0.0003, Accuracy: 1680/1986 (85%)\n",
            "\n",
            "Test set: Average loss: 0.0000, Accuracy: 1943/1983 (98%)\n",
            "\n"
          ],
          "name": "stdout"
        }
      ]
    },
    {
      "cell_type": "code",
      "metadata": {
        "colab": {
          "base_uri": "https://localhost:8080/",
          "height": 448
        },
        "id": "2KmzQtoaBUqf",
        "cellView": "form",
        "outputId": "c38ae08e-78df-4155-a438-637a073cc855"
      },
      "source": [
        "#@title Plot Naive vs EWC results\n",
        "import seaborn as sns\n",
        "\n",
        "fig, axes = plt.subplots(1, 3, figsize=(15, 6))\n",
        "accs_fine_grid = np.array(accs_naive)\n",
        "nan_mask = np.isnan(accs_naive)\n",
        "\n",
        "sns.heatmap(accs_naive, vmin=0, vmax=100, mask=nan_mask, annot=True,fmt='.0f',\n",
        "            yticklabels=range(1, 6), xticklabels=range(1, 6), ax=axes[0], cbar=False)\n",
        "sns.heatmap(accs_ewc, vmin=0, vmax=100, mask=nan_mask, annot=True,fmt='.0f',\n",
        "            yticklabels=range(1, 6), xticklabels=range(1, 6), ax=axes[1], cbar=False)\n",
        "\n",
        "axes[0].set_ylabel('Tested on Task')\n",
        "\n",
        "axes[0].set_xlabel('Naive')\n",
        "axes[1].set_xlabel('EWC')\n",
        "\n",
        "axes[2].plot(range(1, 6), np.nanmean(accs_naive, axis=1))\n",
        "axes[2].plot(range(1, 6), np.nanmean(accs_ewc, axis=1))\n",
        "\n",
        "axes[2].legend(['Naive', 'EWC'])\n",
        "axes[2].set_ylabel('Accumulated Accuracy for Seen Tasks')\n",
        "axes[2].set_xlabel('Task Number')"
      ],
      "execution_count": 22,
      "outputs": [
        {
          "output_type": "execute_result",
          "data": {
            "text/plain": [
              "Text(0.5, 12.200000000000024, 'Task Number')"
            ]
          },
          "metadata": {
            "tags": []
          },
          "execution_count": 22
        },
        {
          "output_type": "display_data",
          "data": {
            "image/png": "[encoded data removed]",
            "text/plain": [
              "<Figure size 1080x432 with 3 Axes>"
            ]
          },
          "metadata": {
            "tags": [],
            "image/png": {
              "width": 1061,
              "height": 414
            },
            "needs_background": "light"
          }
        }
      ]
    },
    {
      "cell_type": "markdown",
      "metadata": {
        "id": "SVvOkTqddfUz"
      },
      "source": [
        "---\n",
        "# Section 3: Continual learning benchmarks\n",
        "\n",
        "In this section, we will introduce different ways in which a continual learning problem could be set up."
      ]
    },
    {
      "cell_type": "code",
      "metadata": {
        "id": "Q--kvGB4dfU0",
        "colab": {
          "base_uri": "https://localhost:8080/",
          "height": 518
        },
        "cellView": "form",
        "outputId": "2639b16f-c007-46fc-cb18-92c22800e1b7"
      },
      "source": [
        "#@title Video 3: Benchmarks and different types of continual learning\n",
        "# Insert the ID of the corresponding youtube video\n",
        "from IPython.display import YouTubeVideo\n",
        "video = YouTubeVideo(id=\"2MiMLmtXp-Q\", width=854, height=480, fs=1)\n",
        "print(\"Video available at https://youtu.be/\" + video.id)\n",
        "video"
      ],
      "execution_count": 23,
      "outputs": [
        {
          "output_type": "stream",
          "text": [
            "Video available at https://youtu.be/2MiMLmtXp-Q\n"
          ],
          "name": "stdout"
        },
        {
          "output_type": "execute_result",
          "data": {
            "text/html": [
              "\n",
              "        <iframe\n",
              "            width=\"854\"\n",
              "            height=\"480\"\n",
              "            src=\"https://www.youtube.com/embed/2MiMLmtXp-Q?fs=1\"\n",
              "            frameborder=\"0\"\n",
              "            allowfullscreen\n",
              "        ></iframe>\n",
              "        "
            ],
            "text/plain": [
              "<IPython.lib.display.YouTubeVideo at 0x7fea80734650>"
            ],
            "image/jpeg": "[encoded data removed]"
          },
          "metadata": {
            "tags": []
          },
          "execution_count": 23
        }
      ]
    },
    {
      "cell_type": "markdown",
      "metadata": {
        "id": "XzkC2dDgj770"
      },
      "source": [
        "As introduced in the above video, continual learning research certainly does not only use the MNIST dataset.\n",
        "But to make things not more complicated than necessary (and to make sure the examples run in an acceptable amount of time), we continue with the Split MNIST example for now.\n",
        "At the end of this notebook we will take a sneak peak at the CORe50 dataset."
      ]
    },
    {
      "cell_type": "markdown",
      "metadata": {
        "id": "MRqFYgAUGLmI"
      },
      "source": [
        "## Section 3.1: Task-incremental Split MNIST *versus* class-incremental Split MNIST\n",
        "\n",
        "First, let's identify according to which scenario the Split MNIST problem in the previous section was performed.\n",
        "\n",
        "Recall that the Split MNIST problem consists of five tasks, whereby each task contains two digits. In the previous section, the model was set-up in such a way that it had a separate output layer for each of these tasks (this is typically called a 'multi-headed output layer'). At test time, the model then used the output layer of the task to which the example to be classified belonged. This means that it was assumed that the model always knows which task it must performed, so this was an example of **task-incremental learning**.\n",
        "\n",
        "In the continual learning literature, a multi-headed output layer is probably the most common way to use task identity information, but it is certainly not the only way (for example, see [this paper](https://doi.org/10.1073/pnas.1803839115))."
      ]
    },
    {
      "cell_type": "markdown",
      "metadata": {
        "id": "gXC6PlqOHZtT"
      },
      "source": [
        "Now, let's reorganize the above Split MNIST problem to set it up as a **class-incremental learning** problem. That is, task information is no longer provided to the model; the model must be able to decide itself to which task a test sample belongs.\n",
        "This means that, after all tasks have been learned, the model must now choose between all ten digits."
      ]
    },
    {
      "cell_type": "code",
      "metadata": {
        "id": "X3-uXuUuj60a",
        "colab": {
          "base_uri": "https://localhost:8080/"
        },
        "outputId": "880af359-593d-47c5-8d19-31875ac29e14"
      },
      "source": [
        "# Load the MNIST dataset\n",
        "x_train, t_train, x_test, t_test = load_mnist(verbose=True)\n",
        "\n",
        "# Define which classes are part of each task\n",
        "classes_per_task = [(0, 1), (2, 3), (4, 5), (6, 7), (8, 9)]\n",
        "\n",
        "# Divde the MNIST dataset in tasks\n",
        "task_data = []\n",
        "for _, classes_in_this_task in enumerate(classes_per_task):\n",
        "  \n",
        "  # Which data-points belong to the classes in the current task?\n",
        "  train_mask = np.isin(t_train, classes_in_this_task)\n",
        "  test_mask = np.isin(t_test, classes_in_this_task)\n",
        "  x_train_task, t_train_task = x_train[train_mask], t_train[train_mask]\n",
        "  x_test_task, t_test_task = x_test[test_mask], t_test[test_mask]\n",
        "\n",
        "  # Add the data for the current task\n",
        "  task_data.append((x_train_task, t_train_task, x_test_task, t_test_task))\n",
        "\n",
        "# In contrast to the task-incremental version of Split MNIST explored in the\n",
        "# last section, now task identity information will not be provided to the model"
      ],
      "execution_count": 24,
      "outputs": [
        {
          "output_type": "stream",
          "text": [
            "x_train dim and type:  (60000, 1, 28, 28) uint8\n",
            "t_train dim and type:  (60000,) int64\n",
            "x_test dim and type:  (10000, 1, 28, 28) uint8\n",
            "t_test dim and type:  (10000,) int64\n",
            "\n"
          ],
          "name": "stdout"
        }
      ]
    },
    {
      "cell_type": "markdown",
      "metadata": {
        "id": "IGla_sDMFYwj"
      },
      "source": [
        "### Example: EWC on the class-incremental version of Split MNIST\n",
        "\n",
        "Let's now try the EWC method on this class-incremental version of Split MNIST."
      ]
    },
    {
      "cell_type": "code",
      "metadata": {
        "colab": {
          "base_uri": "https://localhost:8080/"
        },
        "id": "1B0DePOMZysM",
        "outputId": "5d33f4b0-8e7f-4fb1-e9fb-3fdd9525b11e"
      },
      "source": [
        "# Define the model and the optimzer\n",
        "model = Net().to(device)\n",
        "optimizer = optim.SGD(model.parameters(), lr=0.001)\n",
        "\n",
        "# Set 'lambda', the hyperparameter of EWC\n",
        "ewc_lambda = 0.4\n",
        "\n",
        "# Define dictionaries to store values needed by EWC\n",
        "fisher_dict = {}\n",
        "optpar_dict = {}\n",
        "\n",
        "# Prepare list to store average accuracies after each task\n",
        "ewc_accs = []\n",
        "\n",
        "# Loop through all tasks\n",
        "for id, task in enumerate(task_data):\n",
        "\n",
        "  # Collect training data\n",
        "  x_train, t_train, _, _ = task\n",
        "\n",
        "  # Training with EWC\n",
        "  print(\"Training on task: \", id)\n",
        "  for epoch in range(1, 2):\n",
        "    train_ewc(model, model, device, id, x_train, t_train, optimizer, epoch,\n",
        "              ewc_lambda, fisher_dict, optpar_dict)\n",
        "  on_task_update(id, x_train, t_train, model, model, fisher_dict,\n",
        "                 optpar_dict)\n",
        "  \n",
        "  # Evaluate performance after training on this task\n",
        "  avg_acc = 0\n",
        "  for id_test, task in enumerate(task_data):\n",
        "    print(\"Testing on task: \", id_test)\n",
        "    _, _, x_test, t_test = task\n",
        "    acc = test(model, device, x_test, t_test)\n",
        "    avg_acc = avg_acc + acc\n",
        "   \n",
        "  print(\"Avg acc: \", avg_acc / len(task_data))\n",
        "  ewc_accs.append(avg_acc / len(task_data))"
      ],
      "execution_count": 25,
      "outputs": [
        {
          "output_type": "stream",
          "text": [
            "Training on task:  0\n",
            "Train Epoch: 1 \tLoss: 0.351390\n",
            "Testing on task:  0\n",
            "Test set: Average loss: 0.0000, Accuracy: 2107/2115 (100%)\n",
            "\n",
            "Testing on task:  1\n",
            "Test set: Average loss: 0.0172, Accuracy: 0/2042 (0%)\n",
            "\n",
            "Testing on task:  2\n",
            "Test set: Average loss: 0.0081, Accuracy: 0/1874 (0%)\n",
            "\n",
            "Testing on task:  3\n",
            "Test set: Average loss: 0.0112, Accuracy: 0/1986 (0%)\n",
            "\n",
            "Testing on task:  4\n",
            "Test set: Average loss: 0.0106, Accuracy: 0/1983 (0%)\n",
            "\n",
            "Avg acc:  19.92434988179669\n",
            "Training on task:  1\n",
            "Train Epoch: 1 \tLoss: 1.489850\n",
            "Testing on task:  0\n",
            "Test set: Average loss: 0.0016, Accuracy: 200/2115 (9%)\n",
            "\n",
            "Testing on task:  1\n",
            "Test set: Average loss: 0.0007, Accuracy: 1673/2042 (82%)\n",
            "\n",
            "Testing on task:  2\n",
            "Test set: Average loss: 0.0017, Accuracy: 24/1874 (1%)\n",
            "\n",
            "Testing on task:  3\n",
            "Test set: Average loss: 0.0022, Accuracy: 3/1986 (0%)\n",
            "\n",
            "Testing on task:  4\n",
            "Test set: Average loss: 0.0018, Accuracy: 50/1983 (3%)\n",
            "\n",
            "Avg acc:  19.067783656545632\n",
            "Training on task:  2\n",
            "Train Epoch: 1 \tLoss: 1.959373\n",
            "Testing on task:  0\n",
            "Test set: Average loss: 0.0018, Accuracy: 286/2115 (14%)\n",
            "\n",
            "Testing on task:  1\n",
            "Test set: Average loss: 0.0010, Accuracy: 1272/2042 (62%)\n",
            "\n",
            "Testing on task:  2\n",
            "Test set: Average loss: 0.0010, Accuracy: 1165/1874 (62%)\n",
            "\n",
            "Testing on task:  3\n",
            "Test set: Average loss: 0.0022, Accuracy: 2/1986 (0%)\n",
            "\n",
            "Testing on task:  4\n",
            "Test set: Average loss: 0.0021, Accuracy: 5/1983 (0%)\n",
            "\n",
            "Avg acc:  27.666733257947932\n",
            "Training on task:  3\n",
            "Train Epoch: 1 \tLoss: 2.629260\n",
            "Testing on task:  0\n",
            "Test set: Average loss: 0.0016, Accuracy: 649/2115 (31%)\n",
            "\n",
            "Testing on task:  1\n",
            "Test set: Average loss: 0.0013, Accuracy: 1070/2042 (52%)\n",
            "\n",
            "Testing on task:  2\n",
            "Test set: Average loss: 0.0013, Accuracy: 909/1874 (49%)\n",
            "\n",
            "Testing on task:  3\n",
            "Test set: Average loss: 0.0015, Accuracy: 392/1986 (20%)\n",
            "\n",
            "Testing on task:  4\n",
            "Test set: Average loss: 0.0016, Accuracy: 34/1983 (2%)\n",
            "\n",
            "Avg acc:  30.608759653764984\n",
            "Training on task:  4\n",
            "Train Epoch: 1 \tLoss: 1408440467456.000000\n",
            "Testing on task:  0\n",
            "Test set: Average loss: 0.0022, Accuracy: 140/2115 (7%)\n",
            "\n",
            "Testing on task:  1\n",
            "Test set: Average loss: 0.0019, Accuracy: 35/2042 (2%)\n",
            "\n",
            "Testing on task:  2\n",
            "Test set: Average loss: 0.0023, Accuracy: 6/1874 (0%)\n",
            "\n",
            "Testing on task:  3\n",
            "Test set: Average loss: 0.0027, Accuracy: 3/1986 (0%)\n",
            "\n",
            "Testing on task:  4\n",
            "Test set: Average loss: 0.0007, Accuracy: 1156/1983 (58%)\n",
            "\n",
            "Avg acc:  13.420026245932508\n"
          ],
          "name": "stdout"
        }
      ]
    },
    {
      "cell_type": "markdown",
      "metadata": {
        "id": "2T0-WXhzH5BO"
      },
      "source": [
        "That didn't work well..."
      ]
    },
    {
      "cell_type": "markdown",
      "metadata": {
        "id": "nVbY1tKJw7fC"
      },
      "source": [
        "The model only correctly predicts the classes from the last task it has seen, all earlier seen classes seem to be forgotten."
      ]
    },
    {
      "cell_type": "markdown",
      "metadata": {
        "id": "Qa3ButOZNnVo"
      },
      "source": [
        "You might wonder whether the reason that EWC performed so badly in the above example is because we chose an unsuitable value for the hyperparameter lambda.\n",
        "Although we don't have time to demonstrate this, there are no values of lambda that would lead to good performance.\n",
        "\n",
        "In general, parameter regularization based methods, such as EWC, have been found not to work well on class-incremental learning problems, as for example illustrated in [this paper](https://arxiv.org/abs/1904.07734)."
      ]
    },
    {
      "cell_type": "markdown",
      "metadata": {
        "id": "6FmJQktJFVnN"
      },
      "source": [
        "## Section 3.2: Replay\n",
        "\n",
        "As dicsussed in the lecture of the previous section, another popular continual learning strategy is replay. Let's see whether replay works better on the class-incremental learning version of Split MNIST than EWC did."
      ]
    },
    {
      "cell_type": "markdown",
      "metadata": {
        "id": "WBwph8gKF7-T"
      },
      "source": [
        "One implementation of replay is to simply store all data from previously seen tasks, and to then, whenever a new task must be learned, mix in that stored data with the training data of the new task.\n",
        "\n",
        "To achieve this form of replay, let's define the following function for shuffling multiple datasets (e.g., the data from previous tasks with the data from the current task) together:"
      ]
    },
    {
      "cell_type": "code",
      "metadata": {
        "id": "J9_-dN7xF1oR"
      },
      "source": [
        "def shuffle_in_unison(dataset, seed, in_place=False):\n",
        "  \"\"\" Shuffle two (or more) list in unison. \"\"\"\n",
        "\n",
        "  np.random.seed(seed)\n",
        "  rng_state = np.random.get_state()\n",
        "  new_dataset = []\n",
        "  for x in dataset:\n",
        "    if in_place:\n",
        "      np.random.shuffle(x)\n",
        "    else:\n",
        "      new_dataset.append(np.random.permutation(x))\n",
        "    np.random.set_state(rng_state)\n",
        "\n",
        "  if not in_place:\n",
        "    return new_dataset"
      ],
      "execution_count": 26,
      "outputs": []
    },
    {
      "cell_type": "markdown",
      "metadata": {
        "id": "VNMcRdYFGsOE"
      },
      "source": [
        "Note that this form of replay is somewhat extreme, as it stores all the training data from previous tasks. In practice, replay is often implemented in ways that store less data, for example either by using relatively small memory buffers (see [this paper](https://arxiv.org/abs/1902.10486)) or by learning a generative model to then generate the data to be replayed (see [this paper](https://arxiv.org/abs/1705.08690) or [this paper](https://www.nature.com/articles/s41467-020-17866-2))."
      ]
    },
    {
      "cell_type": "markdown",
      "metadata": {
        "id": "FLk5sA8FCSjG"
      },
      "source": [
        "### Example: Test replay on the class-incremental version of Split MNIST\n",
        "\n",
        "Let's try whether this replay strategy works better than EWC."
      ]
    },
    {
      "cell_type": "code",
      "metadata": {
        "id": "ZawGfSACCvYU",
        "colab": {
          "base_uri": "https://localhost:8080/"
        },
        "outputId": "47003e03-f6cd-4572-cfa5-5cad6034cfe7"
      },
      "source": [
        "# Define the model and the optimizer\n",
        "model = Net().to(device)\n",
        "optimizer = optim.SGD(model.parameters(), lr=0.01)\n",
        "\n",
        "# Prepare list to store average accuracies after each task\n",
        "rehe_accs = []\n",
        "\n",
        "# Loop through all tasks\n",
        "for id, task in enumerate(task_data):\n",
        "  \n",
        "  # Collect training data\n",
        "  x_train, t_train, _, _ = task\n",
        "  \n",
        "  # Add replay\n",
        "  for i in range(id):\n",
        "    past_x_train, past_t_train, _, _ = task_data[i]\n",
        "    x_train = np.concatenate((x_train, past_x_train))\n",
        "    t_train = np.concatenate((t_train, past_t_train))\n",
        "  x_train, t_train = shuffle_in_unison([x_train, t_train], 0)\n",
        "  \n",
        "  # Training\n",
        "  print(\"Training on task: \", id)\n",
        "  for epoch in range(1, 3):\n",
        "    train(model, device, x_train, t_train, optimizer, epoch)\n",
        "  \n",
        "  # Evaluate performance after training on this task\n",
        "  avg_acc = 0\n",
        "  for id_test, task in enumerate(task_data):\n",
        "    print(\"Testing on task: \", id_test)\n",
        "    _, _, x_test, t_test = task\n",
        "    acc = test(model, device, x_test, t_test)\n",
        "    avg_acc = avg_acc + acc\n",
        "   \n",
        "  print(\"Avg acc: \", avg_acc / len(task_data))\n",
        "  rehe_accs.append(avg_acc/len(task_data))"
      ],
      "execution_count": 27,
      "outputs": [
        {
          "output_type": "stream",
          "text": [
            "Training on task:  0\n",
            "Train Epoch: 1 \tLoss: 0.040187\n",
            "Train Epoch: 2 \tLoss: 0.014113\n",
            "Testing on task:  0\n",
            "Test set: Average loss: 0.0000, Accuracy: 2113/2115 (100%)\n",
            "\n",
            "Testing on task:  1\n",
            "Test set: Average loss: 0.0104, Accuracy: 0/2042 (0%)\n",
            "\n",
            "Testing on task:  2\n",
            "Test set: Average loss: 0.0128, Accuracy: 0/1874 (0%)\n",
            "\n",
            "Testing on task:  3\n",
            "Test set: Average loss: 0.0098, Accuracy: 0/1986 (0%)\n",
            "\n",
            "Testing on task:  4\n",
            "Test set: Average loss: 0.0109, Accuracy: 0/1983 (0%)\n",
            "\n",
            "Avg acc:  19.981087470449175\n",
            "Training on task:  1\n",
            "Train Epoch: 1 \tLoss: 0.416997\n",
            "Train Epoch: 2 \tLoss: 0.257327\n",
            "Testing on task:  0\n",
            "Test set: Average loss: 0.0000, Accuracy: 2107/2115 (100%)\n",
            "\n",
            "Testing on task:  1\n",
            "Test set: Average loss: 0.0000, Accuracy: 1977/2042 (97%)\n",
            "\n",
            "Testing on task:  2\n",
            "Test set: Average loss: 0.0046, Accuracy: 0/1874 (0%)\n",
            "\n",
            "Testing on task:  3\n",
            "Test set: Average loss: 0.0031, Accuracy: 0/1986 (0%)\n",
            "\n",
            "Testing on task:  4\n",
            "Test set: Average loss: 0.0039, Accuracy: 0/1983 (0%)\n",
            "\n",
            "Avg acc:  39.287719127634105\n",
            "Training on task:  2\n",
            "Train Epoch: 1 \tLoss: 0.366365\n",
            "Train Epoch: 2 \tLoss: 0.305025\n",
            "Testing on task:  0\n",
            "Test set: Average loss: 0.0000, Accuracy: 2096/2115 (99%)\n",
            "\n",
            "Testing on task:  1\n",
            "Test set: Average loss: 0.0000, Accuracy: 1999/2042 (98%)\n",
            "\n",
            "Testing on task:  2\n",
            "Test set: Average loss: 0.0000, Accuracy: 1841/1874 (98%)\n",
            "\n",
            "Testing on task:  3\n",
            "Test set: Average loss: 0.0018, Accuracy: 0/1986 (0%)\n",
            "\n",
            "Testing on task:  4\n",
            "Test set: Average loss: 0.0020, Accuracy: 0/1983 (0%)\n",
            "\n",
            "Avg acc:  59.04698740607914\n",
            "Training on task:  3\n",
            "Train Epoch: 1 \tLoss: 0.217527\n",
            "Train Epoch: 2 \tLoss: 0.345012\n",
            "Testing on task:  0\n",
            "Test set: Average loss: 0.0000, Accuracy: 2093/2115 (99%)\n",
            "\n",
            "Testing on task:  1\n",
            "Test set: Average loss: 0.0000, Accuracy: 1996/2042 (98%)\n",
            "\n",
            "Testing on task:  2\n",
            "Test set: Average loss: 0.0000, Accuracy: 1842/1874 (98%)\n",
            "\n",
            "Testing on task:  3\n",
            "Test set: Average loss: 0.0000, Accuracy: 1912/1986 (96%)\n",
            "\n",
            "Testing on task:  4\n",
            "Test set: Average loss: 0.0016, Accuracy: 0/1983 (0%)\n",
            "\n",
            "Avg acc:  78.25469149685046\n",
            "Training on task:  4\n",
            "Train Epoch: 1 \tLoss: 0.432795\n",
            "Train Epoch: 2 \tLoss: 0.387113\n",
            "Testing on task:  0\n",
            "Test set: Average loss: 0.0000, Accuracy: 2093/2115 (99%)\n",
            "\n",
            "Testing on task:  1\n",
            "Test set: Average loss: 0.0000, Accuracy: 1999/2042 (98%)\n",
            "\n",
            "Testing on task:  2\n",
            "Test set: Average loss: 0.0000, Accuracy: 1806/1874 (96%)\n",
            "\n",
            "Testing on task:  3\n",
            "Test set: Average loss: 0.0000, Accuracy: 1925/1986 (97%)\n",
            "\n",
            "Testing on task:  4\n",
            "Test set: Average loss: 0.0000, Accuracy: 1859/1983 (94%)\n",
            "\n",
            "Avg acc:  96.7801556023109\n"
          ],
          "name": "stdout"
        }
      ]
    },
    {
      "cell_type": "markdown",
      "metadata": {
        "id": "URfvDA_edlLf"
      },
      "source": [
        "And finally, let's compare the performance of EWC and Replay on the class-incremental version of Split MNIST in a plot:"
      ]
    },
    {
      "cell_type": "code",
      "metadata": {
        "colab": {
          "base_uri": "https://localhost:8080/",
          "height": 430
        },
        "id": "bDatIZsvdNcQ",
        "cellView": "form",
        "outputId": "d18235b2-f86e-42e4-ce1d-869119344b65"
      },
      "source": [
        "#@title Plot EWC vs replay\n",
        "plt.plot([1, 2, 3, 4, 5], rehe_accs, '-o', label=\"Rehearsal\")\n",
        "plt.plot([1, 2, 3, 4, 5], ewc_accs, '-o', label=\"EWC\")\n",
        "plt.xlabel('Tasks Encountered', fontsize=14)\n",
        "plt.ylabel('Average Accuracy', fontsize=14)\n",
        "plt.title('CL Strategies on Class-incremental version of Split MNIST',\n",
        "          fontsize=14);\n",
        "plt.xticks([1, 2, 3, 4, 5])\n",
        "plt.legend(prop={'size': 16});"
      ],
      "execution_count": 28,
      "outputs": [
        {
          "output_type": "display_data",
          "data": {
            "image/png": "[encoded data removed]",
            "text/plain": [
              "<Figure size 576x432 with 1 Axes>"
            ]
          },
          "metadata": {
            "tags": [],
            "image/png": {
              "width": 558,
              "height": 413
            },
            "needs_background": "light"
          }
        }
      ]
    },
    {
      "cell_type": "markdown",
      "metadata": {
        "id": "XeXNSJ23dfU1"
      },
      "source": [
        "## Discussion: Identify the scenario of the permuted MNIST example from Section 1\n",
        "\n",
        "What type of 'scenario' was the permuted MNIST problem that was introduced in Section 1? Was it task-incremental, domain-incremental or class-incremental? Try to motivate your answer."
      ]
    },
    {
      "cell_type": "code",
      "metadata": {
        "id": "mYY7mslAJmNu"
      },
      "source": [
        "# to_remove explanation\n",
        "\n",
        "'''\n",
        "The Permuted MNIST problem in Section 1 is an example of domain-incremental\n",
        "learning.\n",
        "\n",
        "Recall that this problem consisted of two tasks: normal MNIST (task 1) and MNIST\n",
        "with permuted input images (task 2).\n",
        "After learning both task, when the model is evaluated, the model is not told to\n",
        "which task an image belongs (i.e., the model is not told whether the image be\n",
        "classified is permuted or not), but the model also does not need to identify to\n",
        "which task an image belongs (i.e., the model does not need to predict whether\n",
        "the image to be classified has permuted pixels or not; it only needs to predict\n",
        "the original digit displayed in the image).\n",
        "\n",
        "Another way to motivate that this problem is an example of domain-incremental\n",
        "learning, is to say that in both task 1 (normal MNIST) and task 2 (MNIST with\n",
        "permuted input images), the 'type of problem' is the same (i.e., identify the\n",
        "digit displayed in the original image), but the 'context' is changing (i.e.,\n",
        "the order in which the image pixels are presented).\n",
        "''';"
      ],
      "execution_count": 29,
      "outputs": []
    },
    {
      "cell_type": "markdown",
      "metadata": {
        "id": "l8Yi2eWBeDtL"
      },
      "source": [
        "---\n",
        "# Section 4: Evaluation of continual learning algorithms\n",
        "\n",
        "Understanding how your CL algorithm is performing is key to gain insights on its behavior and to decide how to improve it. \n",
        "\n",
        "Here, we will focus on how to build some of the most important CL metrics!"
      ]
    },
    {
      "cell_type": "code",
      "metadata": {
        "id": "oYQ57DaHeDtM",
        "colab": {
          "base_uri": "https://localhost:8080/",
          "height": 518
        },
        "cellView": "form",
        "outputId": "0b3ccb41-f737-4d57-e816-6aec6a81176e"
      },
      "source": [
        "#@title Video 4: Continual Learning Evaluation\n",
        "# Insert the ID of the corresponding youtube video\n",
        "from IPython.display import YouTubeVideo\n",
        "video = YouTubeVideo(id=\"tR-5zraPOto\", width=854, height=480, fs=1)\n",
        "print(\"Video available at https://youtu.be/\" + video.id)\n",
        "video"
      ],
      "execution_count": 30,
      "outputs": [
        {
          "output_type": "stream",
          "text": [
            "Video available at https://youtu.be/tR-5zraPOto\n"
          ],
          "name": "stdout"
        },
        {
          "output_type": "execute_result",
          "data": {
            "text/html": [
              "\n",
              "        <iframe\n",
              "            width=\"854\"\n",
              "            height=\"480\"\n",
              "            src=\"https://www.youtube.com/embed/tR-5zraPOto?fs=1\"\n",
              "            frameborder=\"0\"\n",
              "            allowfullscreen\n",
              "        ></iframe>\n",
              "        "
            ],
            "text/plain": [
              "<IPython.lib.display.YouTubeVideo at 0x7fea15f68c90>"
            ],
            "image/jpeg": "[encoded data removed]"
          },
          "metadata": {
            "tags": []
          },
          "execution_count": 30
        }
      ]
    },
    {
      "cell_type": "markdown",
      "metadata": {
        "id": "vIkIhxHUMAtl"
      },
      "source": [
        "We have already trained the model on T tasks and recorded all the accuracy values in a single TxT matrix."
      ]
    },
    {
      "cell_type": "markdown",
      "metadata": {
        "id": "Ah-AfmB1eNVD"
      },
      "source": [
        "## Average Accuracy\n",
        "\n",
        "The Average Accuracy (ACC) metric computes the average accuracy over all tasks after training on all tasks."
      ]
    },
    {
      "cell_type": "code",
      "metadata": {
        "id": "3Fac7zz4eNVC"
      },
      "source": [
        "def ACC(result_matrix):\n",
        "  \"\"\"\n",
        "  Average Accuracy metric\n",
        "\n",
        "  :param result_matrix: TxT matrix containing accuracy values in each (i, j) entry.\n",
        "    (i, j) -> test accuracy on task j after training on task i\n",
        "  \"\"\"\n",
        "\n",
        "  final_accs = result_matrix[-1, :]  # take accuracies after final training\n",
        "  acc = np.mean(final_accs)  # compute average\n",
        "  return acc, final_accs"
      ],
      "execution_count": 31,
      "outputs": []
    },
    {
      "cell_type": "markdown",
      "metadata": {
        "id": "y4y9lEBoJry1"
      },
      "source": [
        "## Backward Transfer\n",
        "\n",
        "The Backward Transfer (BWT) metric of task i computes the accuracy on task i after training on last task **minus** the accuracy on task i after training on task i.\n",
        "\n",
        "To get the average BWT you have to average across all tasks.\n",
        "\n",
        "**Negative BWT expresses the amount of forgetting suffered by the algorithm.**\n"
      ]
    },
    {
      "cell_type": "code",
      "metadata": {
        "id": "OcnEmkzZKI7e"
      },
      "source": [
        "def BWT(result_matrix):\n",
        "  \"\"\"\n",
        "  Backward Transfer metric\n",
        "\n",
        "  :param result_matrix: TxT matrix containing accuracy values in each (i, j) entry.\n",
        "    (i, j) -> test accuracy on task j after training on task i\n",
        "  \"\"\"\n",
        "\n",
        "  final_accs = result_matrix[-1, :]  # take accuracies after final training\n",
        "  # accuracies on task i right after training on task i, for all i\n",
        "  training_accs = np.diag(result_matrix)  \n",
        "  task_bwt = final_accs - training_accs  # BWT for each task\n",
        "  average_bwt = np.mean(task_bwt)  # compute average\n",
        "  return average_bwt, task_bwt"
      ],
      "execution_count": 32,
      "outputs": []
    },
    {
      "cell_type": "markdown",
      "metadata": {
        "id": "rWzx2B0vRiQ4"
      },
      "source": [
        "## Coding Exercise 4.1: evaluate your CL algorithm on a benchmark"
      ]
    },
    {
      "cell_type": "markdown",
      "metadata": {
        "id": "OGusfIgQbTMv"
      },
      "source": [
        "You should replace the `...` with your code. This is the only cell you have to modify :)"
      ]
    },
    {
      "cell_type": "code",
      "metadata": {
        "id": "G_g9D1Jtmff4"
      },
      "source": [
        "def train_model():\n",
        "  \"\"\"Train a model with a CL algorithm of your choice on a chosen CL benchmark.\n",
        "     The benchmark will have T tasks.\n",
        "\n",
        "  Returns:\n",
        "    result_matrix: TxT matrix of accuracies. Each (i,j) element is the accuracy\n",
        "        on task j after training on task i\n",
        "  \"\"\"\n",
        "  \n",
        "  model = Net().to(device)\n",
        "  optimizer = optim.SGD(model.parameters(), lr=0.01, momentum=0.9)  \n",
        "  criterion = nn.CrossEntropyLoss()\n",
        "  #################################################\n",
        "  # Fill in missing code below (...),\n",
        "  # then remove or comment the line below to test your function\n",
        "  raise NotImplementedError(\"You should train a model on Split MNIST with replay\"\n",
        "                             \"and multi-head. You should return the matrix of accuracies\"\n",
        "                             \"of all tasks after training on each task.\")\n",
        "  #################################################\n",
        "  benchmark = ...  # define your CL benchmark\n",
        "\n",
        "  # train the model on the benchmark with the strategy and get the result\n",
        "  result_matrix = train_multihead(past_examples_percentage=..., epochs=...)\n",
        "\n",
        "  return np.array(result_matrix)"
      ],
      "execution_count": 33,
      "outputs": []
    },
    {
      "cell_type": "code",
      "metadata": {
        "id": "6ucDfJjKOQkZ"
      },
      "source": [
        "#to_remove solution\n",
        "def train_model():\n",
        "  \"\"\"Train a model with a CL algorithm of your choice on a chosen CL benchmark.\n",
        "     The benchmark will have T tasks.\n",
        "\n",
        "  Returns:\n",
        "    result_matrix: TxT matrix of accuracies. Each (i,j) element is the accuracy\n",
        "        on task j after training on task i\n",
        "  \"\"\"\n",
        "  \n",
        "  model = Net().to(device)\n",
        "  optimizer = optim.SGD(model.parameters(), lr=0.01, momentum=0.9)  \n",
        "  criterion = nn.CrossEntropyLoss()\n",
        "  \n",
        "  benchmark = None  # define your CL benchmark\n",
        "\n",
        "  # train the model on the benchmark with the strategy and get the result\n",
        "  result_matrix = train_multihead(past_examples_percentage=0.5, epochs=10)\n",
        "\n",
        "  return np.array(result_matrix)"
      ],
      "execution_count": 34,
      "outputs": []
    },
    {
      "cell_type": "code",
      "metadata": {
        "id": "uuaLtkbcOpfe",
        "colab": {
          "base_uri": "https://localhost:8080/",
          "height": 52
        },
        "outputId": "3f26dc7f-f7e9-43ff-af99-a10897c06087"
      },
      "source": [
        "#to_remove explanation\n",
        "\"\"\"\n",
        "As we discussed, the number of metrics you can evaluate is very large. To keep things compact,\n",
        "we only focus on 2 performance metrics. You can have fun and implement the forward transfer :)\n",
        "\n",
        "Result matrix have nan values in correspondence of future tasks since we do not evaluate our\n",
        "model on future tasks.\n",
        "\"\"\""
      ],
      "execution_count": 35,
      "outputs": [
        {
          "output_type": "execute_result",
          "data": {
            "application/vnd.google.colaboratory.intrinsic+json": {
              "type": "string"
            },
            "text/plain": [
              "'\\nAs we discussed, the number of metrics you can evaluate is very large. To keep things compact,\\nwe only focus on 2 performance metrics. You can have fun and implement the forward transfer :)\\n\\nResult matrix have nan values in correspondence of future tasks since we do not evaluate our\\nmodel on future tasks.\\n'"
            ]
          },
          "metadata": {
            "tags": []
          },
          "execution_count": 35
        }
      ]
    },
    {
      "cell_type": "markdown",
      "metadata": {
        "id": "mtspBmCwb07x"
      },
      "source": [
        "You **don't** need to modify the next cell, just execute it to see metrics in action!"
      ]
    },
    {
      "cell_type": "code",
      "metadata": {
        "id": "rinIaycUbz7Y"
      },
      "source": [
        "# here compute the result matrix containing all the accuracy values on a strategy\n",
        "# and CL benchmark of your choice. \n",
        "\n",
        "# Give an Error -- Uncomment when `train_multihead` added in the notebook\n",
        "\n",
        "# result_matrix = train_model()\n",
        "\n",
        "#if result_matrix is None or n_tasks is None:\n",
        "#  raise ValueError(\"You should fill the values of `result_matrix`, `n_tasks` and `random_acc` first.\")\n",
        "\n",
        "#print(\"Result matrix shape: \", result_matrix.shape)\n",
        "#print(\"Result matrix values: \", result_matrix)\n",
        "\n",
        "### print Average Accuracy metric\n",
        "#acc, final_accs = ACC(result_matrix)\n",
        "#print(\"ACC: \", acc)\n",
        "#print(\"Accuracies for each task: \",  final_accs)\n",
        "#print()\n",
        "\n",
        "### print Backward Transfer metric\n",
        "#bwt, bwt_task = BWT(result_matrix)\n",
        "#print(\"BWT: \", bwt)\n",
        "#print(\"BWT for each task: \", bwt_task)\n",
        "#print()"
      ],
      "execution_count": 36,
      "outputs": []
    },
    {
      "cell_type": "markdown",
      "metadata": {
        "id": "6qNUqAR1epWZ"
      },
      "source": [
        "---\n",
        "# Section 5: Continual Learning Applications\n",
        "\n",
        "Continual Learning with deep architectures may help us develop sustainable AI systems that can efficiently improve their skills and knowledge over time, adapting to ever-changing environments and learning objectives. In this section we will discuss about intriguing real-world applications that would highly benefit from recent advances in Continual Learning."
      ]
    },
    {
      "cell_type": "code",
      "metadata": {
        "id": "LgYWQPQ0epWa",
        "cellView": "form",
        "outputId": "b37b51bd-22b7-4aeb-9fe4-0754016f30c9",
        "colab": {
          "base_uri": "https://localhost:8080/",
          "height": 518
        }
      },
      "source": [
        "#@title Video 5: Continual Learning Applications\n",
        "# Insert the ID of the corresponding youtube video\n",
        "from IPython.display import YouTubeVideo\n",
        "video = YouTubeVideo(id=\"vNcJ4Ygaxio\", width=854, height=480, fs=1)\n",
        "print(\"Video available at https://youtu.be/\" + video.id)\n",
        "video"
      ],
      "execution_count": 37,
      "outputs": [
        {
          "output_type": "stream",
          "text": [
            "Video available at https://youtu.be/vNcJ4Ygaxio\n"
          ],
          "name": "stdout"
        },
        {
          "output_type": "execute_result",
          "data": {
            "text/html": [
              "\n",
              "        <iframe\n",
              "            width=\"854\"\n",
              "            height=\"480\"\n",
              "            src=\"https://www.youtube.com/embed/vNcJ4Ygaxio?fs=1\"\n",
              "            frameborder=\"0\"\n",
              "            allowfullscreen\n",
              "        ></iframe>\n",
              "        "
            ],
            "text/plain": [
              "<IPython.lib.display.YouTubeVideo at 0x7fea15f2a490>"
            ],
            "image/jpeg": "[encoded data removed]"
          },
          "metadata": {
            "tags": []
          },
          "execution_count": 37
        }
      ]
    },
    {
      "cell_type": "markdown",
      "metadata": {
        "id": "RIZIDuArkT-A"
      },
      "source": [
        "**CORe50** is an interesting rea-world video dataset composed of 50 domestic objects belonging to 10 different categories and specifically designed for Continual Learning. You can find more information about the dataset and benchmark in its [official website](https://vlomonaco.github.io/core50). \n",
        "\n",
        "Here we will use the [Avalanche library](https://avalanche.continualai.org) to automatically download and use this dataset. Avalanche allows you to explore more challenging datasets and tasks to bring your continual learning algorithms into the real-world!"
      ]
    },
    {
      "cell_type": "code",
      "metadata": {
        "colab": {
          "base_uri": "https://localhost:8080/"
        },
        "id": "U7iqn3OYAbjw",
        "outputId": "f40e9073-c952-45d9-9fc3-5ee325e3dcd6"
      },
      "source": [
        "pip install git+https://github.com/ContinualAI/avalanche.git"
      ],
      "execution_count": 38,
      "outputs": [
        {
          "output_type": "stream",
          "text": [
            "Collecting git+https://github.com/ContinualAI/avalanche.git\n",
            "  Cloning https://github.com/ContinualAI/avalanche.git to /tmp/pip-req-build-93n0x28n\n",
            "  Running command git clone -q https://github.com/ContinualAI/avalanche.git /tmp/pip-req-build-93n0x28n\n",
            "  Installing build dependencies ... \u001b[?25l\u001b[?25hdone\n",
            "  Getting requirements to build wheel ... \u001b[?25l\u001b[?25hdone\n",
            "    Preparing wheel metadata ... \u001b[?25l\u001b[?25hdone\n",
            "Collecting gputil\n",
            "  Downloading https://files.pythonhosted.org/packages/ed/0e/5c61eedde9f6c87713e89d794f01e378cfd9565847d4576fa627d758c554/GPUtil-1.4.0.tar.gz\n",
            "Collecting wandb\n",
            "\u001b[?25l  Downloading https://files.pythonhosted.org/packages/d4/f6/91c07f54c2162854f5028aaa13f576ca17a3bc0cf6da02c2ad5baddae128/wandb-0.10.33-py2.py3-none-any.whl (1.8MB)\n",
            "\u001b[K     |████████████████████████████████| 1.8MB 8.6MB/s \n",
            "\u001b[?25hRequirement already satisfied: numpy in /usr/local/lib/python3.7/dist-packages (from avalanche==0.0.1) (1.19.5)\n",
            "Collecting pytorchcv\n",
            "\u001b[?25l  Downloading https://files.pythonhosted.org/packages/44/74/e5dae0875679d296fa9a3833041699cee9222e2d3dd1f9ae1ded050b5672/pytorchcv-0.0.65-py2.py3-none-any.whl (527kB)\n",
            "\u001b[K     |████████████████████████████████| 532kB 44.7MB/s \n",
            "\u001b[?25hRequirement already satisfied: tensorboard in /usr/local/lib/python3.7/dist-packages (from avalanche==0.0.1) (2.5.0)\n",
            "Requirement already satisfied: typing-extensions in /usr/local/lib/python3.7/dist-packages (from avalanche==0.0.1) (3.7.4.3)\n",
            "Requirement already satisfied: matplotlib in /usr/local/lib/python3.7/dist-packages (from avalanche==0.0.1) (3.2.2)\n",
            "Collecting quadprog\n",
            "\u001b[?25l  Downloading https://files.pythonhosted.org/packages/31/c7/833d7b5b53fff5b9042803aa8096207d8e038ca42052f074d4ad8cddbfc5/quadprog-0.1.8.tar.gz (269kB)\n",
            "\u001b[K     |████████████████████████████████| 276kB 45.0MB/s \n",
            "\u001b[?25hRequirement already satisfied: psutil in /usr/local/lib/python3.7/dist-packages (from avalanche==0.0.1) (5.4.8)\n",
            "Requirement already satisfied: scikit-learn in /usr/local/lib/python3.7/dist-packages (from avalanche==0.0.1) (0.22.2.post1)\n",
            "Requirement already satisfied: pycocotools in /usr/local/lib/python3.7/dist-packages (from avalanche==0.0.1) (2.0.2)\n",
            "Collecting configparser>=3.8.1\n",
            "  Downloading https://files.pythonhosted.org/packages/fd/01/ff260a18caaf4457eb028c96eeb405c4a230ca06c8ec9c1379f813caa52e/configparser-5.0.2-py3-none-any.whl\n",
            "Collecting shortuuid>=0.5.0\n",
            "  Downloading https://files.pythonhosted.org/packages/25/a6/2ecc1daa6a304e7f1b216f0896b26156b78e7c38e1211e9b798b4716c53d/shortuuid-1.0.1-py3-none-any.whl\n",
            "Requirement already satisfied: PyYAML in /usr/local/lib/python3.7/dist-packages (from wandb->avalanche==0.0.1) (3.13)\n",
            "Requirement already satisfied: promise<3,>=2.0 in /usr/local/lib/python3.7/dist-packages (from wandb->avalanche==0.0.1) (2.3)\n",
            "Requirement already satisfied: Click!=8.0.0,>=7.0 in /usr/local/lib/python3.7/dist-packages (from wandb->avalanche==0.0.1) (7.1.2)\n",
            "Requirement already satisfied: protobuf>=3.12.0 in /usr/local/lib/python3.7/dist-packages (from wandb->avalanche==0.0.1) (3.12.4)\n",
            "Collecting GitPython>=1.0.0\n",
            "\u001b[?25l  Downloading https://files.pythonhosted.org/packages/bc/91/b38c4fabb6e5092ab23492ded4f318ab7299b19263272b703478038c0fbc/GitPython-3.1.18-py3-none-any.whl (170kB)\n",
            "\u001b[K     |████████████████████████████████| 174kB 51.1MB/s \n",
            "\u001b[?25hRequirement already satisfied: six>=1.13.0 in /usr/local/lib/python3.7/dist-packages (from wandb->avalanche==0.0.1) (1.15.0)\n",
            "Requirement already satisfied: requests<3,>=2.0.0 in /usr/local/lib/python3.7/dist-packages (from wandb->avalanche==0.0.1) (2.23.0)\n",
            "Collecting subprocess32>=3.5.3\n",
            "\u001b[?25l  Downloading https://files.pythonhosted.org/packages/32/c8/564be4d12629b912ea431f1a50eb8b3b9d00f1a0b1ceff17f266be190007/subprocess32-3.5.4.tar.gz (97kB)\n",
            "\u001b[K     |████████████████████████████████| 102kB 13.7MB/s \n",
            "\u001b[?25hCollecting pathtools\n",
            "  Downloading https://files.pythonhosted.org/packages/e7/7f/470d6fcdf23f9f3518f6b0b76be9df16dcc8630ad409947f8be2eb0ed13a/pathtools-0.1.2.tar.gz\n",
            "Collecting sentry-sdk>=0.4.0\n",
            "\u001b[?25l  Downloading https://files.pythonhosted.org/packages/1c/4a/a54b254f67d8f4052338d54ebe90126f200693440a93ef76d254d581e3ec/sentry_sdk-1.1.0-py2.py3-none-any.whl (131kB)\n",
            "\u001b[K     |████████████████████████████████| 133kB 50.5MB/s \n",
            "\u001b[?25hRequirement already satisfied: python-dateutil>=2.6.1 in /usr/local/lib/python3.7/dist-packages (from wandb->avalanche==0.0.1) (2.8.1)\n",
            "Collecting docker-pycreds>=0.4.0\n",
            "  Downloading https://files.pythonhosted.org/packages/f5/e8/f6bd1eee09314e7e6dee49cbe2c5e22314ccdb38db16c9fc72d2fa80d054/docker_pycreds-0.4.0-py2.py3-none-any.whl\n",
            "Requirement already satisfied: markdown>=2.6.8 in /usr/local/lib/python3.7/dist-packages (from tensorboard->avalanche==0.0.1) (3.3.4)\n",
            "Requirement already satisfied: setuptools>=41.0.0 in /usr/local/lib/python3.7/dist-packages (from tensorboard->avalanche==0.0.1) (57.0.0)\n",
            "Requirement already satisfied: google-auth-oauthlib<0.5,>=0.4.1 in /usr/local/lib/python3.7/dist-packages (from tensorboard->avalanche==0.0.1) (0.4.4)\n",
            "Requirement already satisfied: google-auth<2,>=1.6.3 in /usr/local/lib/python3.7/dist-packages (from tensorboard->avalanche==0.0.1) (1.31.0)\n",
            "Requirement already satisfied: tensorboard-plugin-wit>=1.6.0 in /usr/local/lib/python3.7/dist-packages (from tensorboard->avalanche==0.0.1) (1.8.0)\n",
            "Requirement already satisfied: grpcio>=1.24.3 in /usr/local/lib/python3.7/dist-packages (from tensorboard->avalanche==0.0.1) (1.34.1)\n",
            "Requirement already satisfied: tensorboard-data-server<0.7.0,>=0.6.0 in /usr/local/lib/python3.7/dist-packages (from tensorboard->avalanche==0.0.1) (0.6.1)\n",
            "Requirement already satisfied: werkzeug>=0.11.15 in /usr/local/lib/python3.7/dist-packages (from tensorboard->avalanche==0.0.1) (1.0.1)\n",
            "Requirement already satisfied: wheel>=0.26; python_version >= \"3\" in /usr/local/lib/python3.7/dist-packages (from tensorboard->avalanche==0.0.1) (0.36.2)\n",
            "Requirement already satisfied: absl-py>=0.4 in /usr/local/lib/python3.7/dist-packages (from tensorboard->avalanche==0.0.1) (0.12.0)\n",
            "Requirement already satisfied: cycler>=0.10 in /usr/local/lib/python3.7/dist-packages (from matplotlib->avalanche==0.0.1) (0.10.0)\n",
            "Requirement already satisfied: kiwisolver>=1.0.1 in /usr/local/lib/python3.7/dist-packages (from matplotlib->avalanche==0.0.1) (1.3.1)\n",
            "Requirement already satisfied: pyparsing!=2.0.4,!=2.1.2,!=2.1.6,>=2.0.1 in /usr/local/lib/python3.7/dist-packages (from matplotlib->avalanche==0.0.1) (2.4.7)\n",
            "Requirement already satisfied: Cython in /usr/local/lib/python3.7/dist-packages (from quadprog->avalanche==0.0.1) (0.29.23)\n",
            "Requirement already satisfied: joblib>=0.11 in /usr/local/lib/python3.7/dist-packages (from scikit-learn->avalanche==0.0.1) (1.0.1)\n",
            "Requirement already satisfied: scipy>=0.17.0 in /usr/local/lib/python3.7/dist-packages (from scikit-learn->avalanche==0.0.1) (1.4.1)\n",
            "Collecting gitdb<5,>=4.0.1\n",
            "\u001b[?25l  Downloading https://files.pythonhosted.org/packages/ea/e8/f414d1a4f0bbc668ed441f74f44c116d9816833a48bf81d22b697090dba8/gitdb-4.0.7-py3-none-any.whl (63kB)\n",
            "\u001b[K     |████████████████████████████████| 71kB 11.6MB/s \n",
            "\u001b[?25hRequirement already satisfied: idna<3,>=2.5 in /usr/local/lib/python3.7/dist-packages (from requests<3,>=2.0.0->wandb->avalanche==0.0.1) (2.10)\n",
            "Requirement already satisfied: chardet<4,>=3.0.2 in /usr/local/lib/python3.7/dist-packages (from requests<3,>=2.0.0->wandb->avalanche==0.0.1) (3.0.4)\n",
            "Requirement already satisfied: urllib3!=1.25.0,!=1.25.1,<1.26,>=1.21.1 in /usr/local/lib/python3.7/dist-packages (from requests<3,>=2.0.0->wandb->avalanche==0.0.1) (1.24.3)\n",
            "Requirement already satisfied: certifi>=2017.4.17 in /usr/local/lib/python3.7/dist-packages (from requests<3,>=2.0.0->wandb->avalanche==0.0.1) (2021.5.30)\n",
            "Requirement already satisfied: importlib-metadata; python_version < \"3.8\" in /usr/local/lib/python3.7/dist-packages (from markdown>=2.6.8->tensorboard->avalanche==0.0.1) (4.5.0)\n",
            "Requirement already satisfied: requests-oauthlib>=0.7.0 in /usr/local/lib/python3.7/dist-packages (from google-auth-oauthlib<0.5,>=0.4.1->tensorboard->avalanche==0.0.1) (1.3.0)\n",
            "Requirement already satisfied: cachetools<5.0,>=2.0.0 in /usr/local/lib/python3.7/dist-packages (from google-auth<2,>=1.6.3->tensorboard->avalanche==0.0.1) (4.2.2)\n",
            "Requirement already satisfied: pyasn1-modules>=0.2.1 in /usr/local/lib/python3.7/dist-packages (from google-auth<2,>=1.6.3->tensorboard->avalanche==0.0.1) (0.2.8)\n",
            "Requirement already satisfied: rsa<5,>=3.1.4; python_version >= \"3.6\" in /usr/local/lib/python3.7/dist-packages (from google-auth<2,>=1.6.3->tensorboard->avalanche==0.0.1) (4.7.2)\n",
            "Collecting smmap<5,>=3.0.1\n",
            "  Downloading https://files.pythonhosted.org/packages/68/ee/d540eb5e5996eb81c26ceffac6ee49041d473bc5125f2aa995cf51ec1cf1/smmap-4.0.0-py2.py3-none-any.whl\n",
            "Requirement already satisfied: zipp>=0.5 in /usr/local/lib/python3.7/dist-packages (from importlib-metadata; python_version < \"3.8\"->markdown>=2.6.8->tensorboard->avalanche==0.0.1) (3.4.1)\n",
            "Requirement already satisfied: oauthlib>=3.0.0 in /usr/local/lib/python3.7/dist-packages (from requests-oauthlib>=0.7.0->google-auth-oauthlib<0.5,>=0.4.1->tensorboard->avalanche==0.0.1) (3.1.1)\n",
            "Requirement already satisfied: pyasn1<0.5.0,>=0.4.6 in /usr/local/lib/python3.7/dist-packages (from pyasn1-modules>=0.2.1->google-auth<2,>=1.6.3->tensorboard->avalanche==0.0.1) (0.4.8)\n",
            "Building wheels for collected packages: avalanche\n",
            "  Building wheel for avalanche (PEP 517) ... \u001b[?25l\u001b[?25hdone\n",
            "  Created wheel for avalanche: filename=avalanche-0.0.1-cp37-none-any.whl size=386704 sha256=ef1be4dcd18cc0e33ecfbbf943a667dcbf7381411aa02b4a5aa87bd23a6e90cb\n",
            "  Stored in directory: /tmp/pip-ephem-wheel-cache-42jigx97/wheels/45/3e/b7/1d78eeb6c42557cc5b6d727b2fed5b8ed3895bbcd23d9b6d29\n",
            "Successfully built avalanche\n",
            "Building wheels for collected packages: gputil, quadprog, subprocess32, pathtools\n",
            "  Building wheel for gputil (setup.py) ... \u001b[?25l\u001b[?25hdone\n",
            "  Created wheel for gputil: filename=GPUtil-1.4.0-cp37-none-any.whl size=7411 sha256=1593fcfffa7e564b8b3d7f2d303805f7ff50338f4158d3921f2591b73dc58caa\n",
            "  Stored in directory: /root/.cache/pip/wheels/3d/77/07/80562de4bb0786e5ea186911a2c831fdd0018bda69beab71fd\n",
            "  Building wheel for quadprog (setup.py) ... \u001b[?25l\u001b[?25hdone\n",
            "  Created wheel for quadprog: filename=quadprog-0.1.8-cp37-cp37m-linux_x86_64.whl size=336649 sha256=e84ad4b3883dd3ee05dc10ba44f260d3091bb4cafbc3aa86d88dba3ac215cdb6\n",
            "  Stored in directory: /root/.cache/pip/wheels/0c/39/5f/c712b0e462439dec9b30080cf34622f167929b39bd964d8baf\n",
            "  Building wheel for subprocess32 (setup.py) ... \u001b[?25l\u001b[?25hdone\n",
            "  Created wheel for subprocess32: filename=subprocess32-3.5.4-cp37-none-any.whl size=6502 sha256=fffa7852ee19cba18e0b0f600f29c1c6f16c184ee1daa79f4b887b81b1438ac4\n",
            "  Stored in directory: /root/.cache/pip/wheels/68/39/1a/5e402bdfdf004af1786c8b853fd92f8c4a04f22aad179654d1\n",
            "  Building wheel for pathtools (setup.py) ... \u001b[?25l\u001b[?25hdone\n",
            "  Created wheel for pathtools: filename=pathtools-0.1.2-cp37-none-any.whl size=8807 sha256=806edfad430ceb74588f418b29c9e835f05fbfbd03bddfbe5029cb8ca69cbbb0\n",
            "  Stored in directory: /root/.cache/pip/wheels/0b/04/79/c3b0c3a0266a3cb4376da31e5bfe8bba0c489246968a68e843\n",
            "Successfully built gputil quadprog subprocess32 pathtools\n",
            "Installing collected packages: gputil, configparser, shortuuid, smmap, gitdb, GitPython, subprocess32, pathtools, sentry-sdk, docker-pycreds, wandb, pytorchcv, quadprog, avalanche\n",
            "Successfully installed GitPython-3.1.18 avalanche-0.0.1 configparser-5.0.2 docker-pycreds-0.4.0 gitdb-4.0.7 gputil-1.4.0 pathtools-0.1.2 pytorchcv-0.0.65 quadprog-0.1.8 sentry-sdk-1.1.0 shortuuid-1.0.1 smmap-4.0.0 subprocess32-3.5.4 wandb-0.10.33\n"
          ],
          "name": "stdout"
        }
      ]
    },
    {
      "cell_type": "code",
      "metadata": {
        "id": "4vCwLdpaArU9",
        "colab": {
          "base_uri": "https://localhost:8080/",
          "height": 751,
          "referenced_widgets": [
            "7ab7b58c23904fae813f9d97b4d9e130",
            "a940a49e62fc48348bfe07c6e1becb36",
            "2ce50cd7f92243eca0a77e4bd909164f",
            "a2660aa3341a49a3948fb4d9e046e74f",
            "3d154853fb6042cfb8fb7d465647bf76",
            "e3093e8e200d4f19b26c81671c161c5a",
            "ed08733e5b124177bd2ffb922c8d4d5f",
            "a5962948a9164d359c8fdad43e946e7e",
            "f3ca129b24e3430b906f0a90789a6f44",
            "237f7f21668640d180cc13d1324be961",
            "b1fd2cbdf951461d90b2c479ea2de317",
            "ace66a3437b94b0d88771c6c6f9700e9",
            "f8d98d14831946919b3cf177338379af",
            "31f6d586fb484b019de0d7a28de568d7",
            "add0e250d655436a805800c96f9509d6",
            "2b12ca15a7dd4a7d9f1589d37c88bef3",
            "ad31ae4f35414bf3a44a5918ef8591e1",
            "ecd06d59e333476086b8e2d6d0b17ce5",
            "0b7b88b2a896449f8cc49eb8a239b1d3",
            "56d49e5b3faf4158819276437e8cc00c",
            "065a4288ab384cb2a9e854f925f28d9d",
            "f9cad82dfcc64709ae119cdb8bdaf42f",
            "14d20f38fea845ea99617ab00fd8cf3f",
            "a9dfe8bd8717491ebff38725172413f5",
            "fc549b6613544559a58bb60dd2d145fd",
            "79c5f7dfb15b488a9dc8a10cce232d7d",
            "55c671a65a17431c9784968e21dc05e0",
            "fb53a943356d45bda363ffb1dedd3d32",
            "d5ae439d806d4031af348ed5a6447b13",
            "afce5b3c44ee4d12a9018ec5e58d371b",
            "0a2adf5ac0fc46caa67a8f9b4a903b5c",
            "b8f143d812fa495780b286955c2129d5",
            "4b324cfa24e149c7bd9a68527247dab3",
            "342f0534ad24497489f787a08f541520",
            "427c5dded407475c9cdb784d57847e10",
            "5945104d022b4af096e4fe827a37c0ff",
            "978a3642a5a44274902b2b78e9b26a8c",
            "9ca14fb9307e4e81a0d2a47441f8ded7",
            "233f8cee641a46e2911be1924f05c788",
            "643337027cda4815bc488df80113299e",
            "ab00d22fccab4322a3e25a7774cbb712",
            "b6ac56d3ebef4f2f925e8bcc39befb02",
            "607a8f36e0414e6d843fbfa0186fd695",
            "e2d537ed672146eb9ce32bed5ba7b5a0",
            "fb8e4cd7372e4917bbbceee05bd852e3",
            "aead1ad825c94626ad5911f889663658",
            "fbb7ce3404ab42c3bd01e4055dab4803",
            "5690a3f529a3463cbf289199ac3d8781",
            "647a991eb9084d30a35198d546c667c3",
            "1379c72d632547b1886968b920174aad",
            "080ed7bdd64e4802827eefa7220754d2",
            "34852d8ab59b4b6883f1a7f3b0474f0e",
            "b2661c052045488f9f3e16f7cd278b44",
            "73db859ad5bf455f90c6b25d944571a6",
            "5cca0bece38243abb770cf1475b5f7e6",
            "a49cc6436e9e4383b8ced35900edc396"
          ]
        },
        "outputId": "b349b973-6f41-4f24-d5b0-393bab0f88d9"
      },
      "source": [
        "from avalanche.benchmarks.classic import CORe50\n",
        "# the scenario \"New Instances\" (NI) corresponds to the previously introduced \n",
        "# Domain-Incremental setting and its based on the idea of encounterning images\n",
        "# of the same classes for every incremental batch of data (or experience if you \n",
        "# will). The \"mini\" option downloads data 32x32 instead of the original 128x128. \n",
        "benchmark = CORe50(scenario=\"ni\", mini=True)"
      ],
      "execution_count": 39,
      "outputs": [
        {
          "output_type": "stream",
          "text": [
            "Downloading http://vps.continualai.org/data/core50_32x32.zip...\n",
            "Downloading http://vps.continualai.org/data/core50_32x32.zip to /root/.avalanche/data/core50/core50_32x32.zip\n"
          ],
          "name": "stdout"
        },
        {
          "output_type": "display_data",
          "data": {
            "application/vnd.jupyter.widget-view+json": {
              "model_id": "7ab7b58c23904fae813f9d97b4d9e130",
              "version_minor": 0,
              "version_major": 2
            },
            "text/plain": [
              "HBox(children=(FloatProgress(value=0.0, max=867322573.0), HTML(value='')))"
            ]
          },
          "metadata": {
            "tags": []
          }
        },
        {
          "output_type": "stream",
          "text": [
            "\n",
            "Extracting core50_32x32.zip...\n",
            "Extraction completed!\n",
            "Downloading https://vlomonaco.github.io/core50/data/batches_filelists.zip...\n",
            "Downloading https://vlomonaco.github.io/core50/data/batches_filelists.zip to /root/.avalanche/data/core50/batches_filelists.zip\n"
          ],
          "name": "stdout"
        },
        {
          "output_type": "display_data",
          "data": {
            "application/vnd.jupyter.widget-view+json": {
              "model_id": "f3ca129b24e3430b906f0a90789a6f44",
              "version_minor": 0,
              "version_major": 2
            },
            "text/plain": [
              "HBox(children=(FloatProgress(value=0.0, max=45418248.0), HTML(value='')))"
            ]
          },
          "metadata": {
            "tags": []
          }
        },
        {
          "output_type": "stream",
          "text": [
            "\n",
            "Extracting batches_filelists.zip...\n",
            "Extraction completed!\n",
            "Downloading https://vlomonaco.github.io/core50/data/batches_filelists_NICv2.zip...\n",
            "Downloading https://vlomonaco.github.io/core50/data/batches_filelists_NICv2.zip to /root/.avalanche/data/core50/batches_filelists_NICv2.zip\n"
          ],
          "name": "stdout"
        },
        {
          "output_type": "display_data",
          "data": {
            "application/vnd.jupyter.widget-view+json": {
              "model_id": "ad31ae4f35414bf3a44a5918ef8591e1",
              "version_minor": 0,
              "version_major": 2
            },
            "text/plain": [
              "HBox(children=(FloatProgress(value=0.0, max=13462303.0), HTML(value='')))"
            ]
          },
          "metadata": {
            "tags": []
          }
        },
        {
          "output_type": "stream",
          "text": [
            "\n",
            "Extracting batches_filelists_NICv2.zip...\n",
            "Extraction completed!\n",
            "Downloading https://vlomonaco.github.io/core50/data/paths.pkl...\n",
            "Downloading https://vlomonaco.github.io/core50/data/paths.pkl to /root/.avalanche/data/core50/paths.pkl\n"
          ],
          "name": "stdout"
        },
        {
          "output_type": "display_data",
          "data": {
            "application/vnd.jupyter.widget-view+json": {
              "model_id": "fc549b6613544559a58bb60dd2d145fd",
              "version_minor": 0,
              "version_major": 2
            },
            "text/plain": [
              "HBox(children=(FloatProgress(value=0.0, max=5275590.0), HTML(value='')))"
            ]
          },
          "metadata": {
            "tags": []
          }
        },
        {
          "output_type": "stream",
          "text": [
            "\n",
            "Downloading https://vlomonaco.github.io/core50/data/LUP.pkl...\n",
            "Downloading https://vlomonaco.github.io/core50/data/LUP.pkl to /root/.avalanche/data/core50/LUP.pkl\n"
          ],
          "name": "stdout"
        },
        {
          "output_type": "display_data",
          "data": {
            "application/vnd.jupyter.widget-view+json": {
              "model_id": "4b324cfa24e149c7bd9a68527247dab3",
              "version_minor": 0,
              "version_major": 2
            },
            "text/plain": [
              "HBox(children=(FloatProgress(value=0.0, max=55523548.0), HTML(value='')))"
            ]
          },
          "metadata": {
            "tags": []
          }
        },
        {
          "output_type": "stream",
          "text": [
            "\n",
            "Downloading https://vlomonaco.github.io/core50/data/labels.pkl...\n",
            "Downloading https://vlomonaco.github.io/core50/data/labels.pkl to /root/.avalanche/data/core50/labels.pkl\n"
          ],
          "name": "stdout"
        },
        {
          "output_type": "display_data",
          "data": {
            "application/vnd.jupyter.widget-view+json": {
              "model_id": "ab00d22fccab4322a3e25a7774cbb712",
              "version_minor": 0,
              "version_major": 2
            },
            "text/plain": [
              "HBox(children=(FloatProgress(value=0.0, max=26461948.0), HTML(value='')))"
            ]
          },
          "metadata": {
            "tags": []
          }
        },
        {
          "output_type": "stream",
          "text": [
            "\n",
            "Downloading https://vlomonaco.github.io/core50/data/labels2names.pkl...\n",
            "Downloading https://vlomonaco.github.io/core50/data/labels2names.pkl to /root/.avalanche/data/core50/labels2names.pkl\n"
          ],
          "name": "stdout"
        },
        {
          "output_type": "display_data",
          "data": {
            "application/vnd.jupyter.widget-view+json": {
              "model_id": "647a991eb9084d30a35198d546c667c3",
              "version_minor": 0,
              "version_major": 2
            },
            "text/plain": [
              "HBox(children=(FloatProgress(value=0.0, max=30444.0), HTML(value='')))"
            ]
          },
          "metadata": {
            "tags": []
          }
        },
        {
          "output_type": "stream",
          "text": [
            "\n",
            "Loading labels...\n",
            "Loading LUP...\n",
            "Loading labels names...\n"
          ],
          "name": "stdout"
        }
      ]
    },
    {
      "cell_type": "code",
      "metadata": {
        "id": "X3lNx7VbMw4t",
        "colab": {
          "base_uri": "https://localhost:8080/"
        },
        "outputId": "8a879730-a60d-4be8-cba0-31debe529631"
      },
      "source": [
        "for exp in benchmark.train_stream:\n",
        "  print(exp.classes_in_this_experience)"
      ],
      "execution_count": 40,
      "outputs": [
        {
          "output_type": "stream",
          "text": [
            "[0, 1, 2, 3, 4, 5, 6, 7, 8, 9, 10, 11, 12, 13, 14, 15, 16, 17, 18, 19, 20, 21, 22, 23, 24, 25, 26, 27, 28, 29, 30, 31, 32, 33, 34, 35, 36, 37, 38, 39, 40, 41, 42, 43, 44, 45, 46, 47, 48, 49]\n",
            "[0, 1, 2, 3, 4, 5, 6, 7, 8, 9, 10, 11, 12, 13, 14, 15, 16, 17, 18, 19, 20, 21, 22, 23, 24, 25, 26, 27, 28, 29, 30, 31, 32, 33, 34, 35, 36, 37, 38, 39, 40, 41, 42, 43, 44, 45, 46, 47, 48, 49]\n",
            "[0, 1, 2, 3, 4, 5, 6, 7, 8, 9, 10, 11, 12, 13, 14, 15, 16, 17, 18, 19, 20, 21, 22, 23, 24, 25, 26, 27, 28, 29, 30, 31, 32, 33, 34, 35, 36, 37, 38, 39, 40, 41, 42, 43, 44, 45, 46, 47, 48, 49]\n",
            "[0, 1, 2, 3, 4, 5, 6, 7, 8, 9, 10, 11, 12, 13, 14, 15, 16, 17, 18, 19, 20, 21, 22, 23, 24, 25, 26, 27, 28, 29, 30, 31, 32, 33, 34, 35, 36, 37, 38, 39, 40, 41, 42, 43, 44, 45, 46, 47, 48, 49]\n",
            "[0, 1, 2, 3, 4, 5, 6, 7, 8, 9, 10, 11, 12, 13, 14, 15, 16, 17, 18, 19, 20, 21, 22, 23, 24, 25, 26, 27, 28, 29, 30, 31, 32, 33, 34, 35, 36, 37, 38, 39, 40, 41, 42, 43, 44, 45, 46, 47, 48, 49]\n",
            "[0, 1, 2, 3, 4, 5, 6, 7, 8, 9, 10, 11, 12, 13, 14, 15, 16, 17, 18, 19, 20, 21, 22, 23, 24, 25, 26, 27, 28, 29, 30, 31, 32, 33, 34, 35, 36, 37, 38, 39, 40, 41, 42, 43, 44, 45, 46, 47, 48, 49]\n",
            "[0, 1, 2, 3, 4, 5, 6, 7, 8, 9, 10, 11, 12, 13, 14, 15, 16, 17, 18, 19, 20, 21, 22, 23, 24, 25, 26, 27, 28, 29, 30, 31, 32, 33, 34, 35, 36, 37, 38, 39, 40, 41, 42, 43, 44, 45, 46, 47, 48, 49]\n",
            "[0, 1, 2, 3, 4, 5, 6, 7, 8, 9, 10, 11, 12, 13, 14, 15, 16, 17, 18, 19, 20, 21, 22, 23, 24, 25, 26, 27, 28, 29, 30, 31, 32, 33, 34, 35, 36, 37, 38, 39, 40, 41, 42, 43, 44, 45, 46, 47, 48, 49]\n"
          ],
          "name": "stdout"
        }
      ]
    },
    {
      "cell_type": "markdown",
      "metadata": {
        "id": "7zzDP1glepWb"
      },
      "source": [
        "## Exercise 5: Explore the challenging CORe50 scenarios!\n",
        "\n",
        "CORe50 offers and number of interesting preset scenarios already implemented and available to you through Avalanche. \n",
        "\n",
        "In this exercise try to explore the different scenarios offered (like the challenging NICv2-391) and possibly even apply what you've previously learned (like a replay approach) to get the best accuracy you can!"
      ]
    },
    {
      "cell_type": "markdown",
      "metadata": {
        "id": "Y6Pux46LWw7e"
      },
      "source": [
        "---\n",
        "# Bonus\n",
        "\n",
        "Add extra text that you want students to have for reference later but that will make reading times too long during tutorials"
      ]
    },
    {
      "cell_type": "code",
      "metadata": {
        "id": "eVBcODAE9t95"
      },
      "source": [
        "# should probably hint at Avalanche at least"
      ],
      "execution_count": 41,
      "outputs": []
    },
    {
      "cell_type": "code",
      "metadata": {
        "id": "Z2P2Cgzny8TW",
        "cellView": "form"
      },
      "source": [
        "#@title Free up resources when done :)\n",
        "\n",
        "#import os, signal\n",
        "#os.kill(os.getpid(), signal.SIGKILL)"
      ],
      "execution_count": 42,
      "outputs": []
    }
  ]
}