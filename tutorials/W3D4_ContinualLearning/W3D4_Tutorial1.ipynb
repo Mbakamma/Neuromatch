{
  "cells": [
    {
      "cell_type": "markdown",
      "metadata": {
        "id": "view-in-github",
        "colab_type": "text"
      },
      "source": [
        "<a href=\"https://colab.research.google.com/github/NeuromatchAcademy/course-content-dl/blob/updates-w3/tutorials/W3D4_ContinualLearning/W3D4_Tutorial1.ipynb\" target=\"_parent\"><img src=\"https://colab.research.google.com/assets/colab-badge.svg\" alt=\"Open In Colab\"/></a>"
      ]
    },
    {
      "cell_type": "markdown",
      "metadata": {
        "execution": {},
        "id": "70ds8R9AdCRl"
      },
      "source": [
        "# Tutorial 1: Introduction to Continual Learning\n",
        "\n",
        "**Week 3, Day 4: Continual Learning**\n",
        "\n",
        "**By Neuromatch Academy**\n",
        "\n",
        "__Content creators:__ Keiland Cooper, Diganta Misra, Gido van de Ven, Andrea Cossu, Vincenzo Lomonaco\n",
        "\n",
        "__Content reviewers:__ Arush Tagade, Jeremy Forest, Siwei Bai, Kelson Shilling-Scrivo\n",
        "\n",
        "__Content editors:__ Gagana B, Anoop Kulkarni, Spiros Chavlis\n",
        "\n",
        "__Production editors:__ Deepak Raya, Gagana B, Spiros Chavlis"
      ]
    },
    {
      "cell_type": "markdown",
      "metadata": {
        "execution": {},
        "id": "w6SYE7v-dCRn"
      },
      "source": [
        "**Our 2021 Sponsors, including Presenting Sponsor Facebook Reality Labs**\n",
        "\n",
        "<p align='center'><img src='https://github.com/NeuromatchAcademy/widgets/blob/master/sponsors.png?raw=True'/></p>"
      ]
    },
    {
      "cell_type": "markdown",
      "metadata": {
        "execution": {},
        "id": "ludwUXqhdCRn"
      },
      "source": [
        "---\n",
        "# Tutorial Objectives\n",
        "In this tutorial, we'll dive head-first into the exciting field of continual learning (CL). CL has gained increasing attention in recent years, and for good reason. CL is positioned as a problem across sub-disciplines, from academia to industry, and may promise to be a major pathway towards strong artificial intelligence (AI). As datasets get bigger and AI gets smarter, we're expecting more and more cognitive capabilities from our machines. \n",
        "\n",
        "We have a few specific objectives for this tutorial:\n",
        "*   Introduce major CL concepts\n",
        "*   Introduce the most common strategies to aid CL\n",
        "*   Utilize benchmarks and evaluation metrics \n",
        "*   Explore present day applications of CL "
      ]
    },
    {
      "cell_type": "code",
      "execution_count": 1,
      "metadata": {
        "cellView": "form",
        "execution": {},
        "id": "bsdiqrr_dCRn",
        "outputId": "ed3d1fa5-65e6-46ae-c201-49bbd33646d3",
        "colab": {
          "base_uri": "https://localhost:8080/",
          "height": 502
        }
      },
      "outputs": [
        {
          "output_type": "execute_result",
          "data": {
            "text/plain": [
              "<IPython.lib.display.IFrame at 0x7f2c1c8705d0>"
            ],
            "text/html": [
              "\n",
              "        <iframe\n",
              "            width=\"854\"\n",
              "            height=\"480\"\n",
              "            src=\"https://mfr.ca-1.osf.io/render?url=https://osf.io/ejywm/?direct%26mode=render%26action=download%26mode=render\"\n",
              "            frameborder=\"0\"\n",
              "            allowfullscreen\n",
              "        ></iframe>\n",
              "        "
            ]
          },
          "metadata": {},
          "execution_count": 1
        }
      ],
      "source": [
        "# @title Tutorial slides\n",
        "\n",
        "from IPython.display import IFrame\n",
        "IFrame(src=f\"https://mfr.ca-1.osf.io/render?url=https://osf.io/ejywm/?direct%26mode=render%26action=download%26mode=render\", width=854, height=480)"
      ]
    },
    {
      "cell_type": "markdown",
      "metadata": {
        "execution": {},
        "id": "FWHGmtpAdCRo"
      },
      "source": [
        "These are the slides for the videos in this tutorial. If you want to locally download the slides, click [here](https://osf.io/ejywm/download)."
      ]
    },
    {
      "cell_type": "markdown",
      "metadata": {
        "execution": {},
        "id": "ufiK6R7jdCRo"
      },
      "source": [
        "---\n",
        "# Setup"
      ]
    },
    {
      "cell_type": "markdown",
      "metadata": {
        "execution": {},
        "id": "C6ZSaUrvdCRo"
      },
      "source": [
        "First, let's load in some useful packages and functions. We'll primarily be using PyTorch as our neural network framework of choice. Be sure to run all the cells below so the code runs properly. "
      ]
    },
    {
      "cell_type": "code",
      "execution_count": 2,
      "metadata": {
        "cellView": "form",
        "execution": {},
        "id": "zZXlk4vmdCRp",
        "outputId": "3cf9e544-3e84-4976-efa9-627e15defff4",
        "colab": {
          "base_uri": "https://localhost:8080/"
        }
      },
      "outputs": [
        {
          "output_type": "stream",
          "name": "stdout",
          "text": [
            "  Building wheel for evaltools (setup.py) ... \u001b[?25l\u001b[?25hdone\n"
          ]
        }
      ],
      "source": [
        "# @title Install dependencies\n",
        "!pip install seaborn --quiet\n",
        "\n",
        "!pip install git+https://github.com/NeuromatchAcademy/evaltools --quiet\n",
        "from evaltools.airtable import AirtableForm\n",
        "\n",
        "# Generate airtable form\n",
        "atform = AirtableForm('appn7VdPRseSoMXEG','W3D4_T1','https://portal.neuromatchacademy.org/api/redirect/to/9c55f6cb-cdf9-4429-ac1c-ec44fe64c303')"
      ]
    },
    {
      "cell_type": "code",
      "execution_count": 3,
      "metadata": {
        "cellView": "both",
        "execution": {},
        "id": "_p1notFOdCRp"
      },
      "outputs": [],
      "source": [
        "# Imports\n",
        "import numpy as np\n",
        "from scipy.stats import norm\n",
        "import matplotlib.pyplot as plt\n",
        "import math\n",
        "import pandas as pd\n",
        "\n",
        "import torch\n",
        "import torch.nn as nn\n",
        "import torch.optim as optim\n",
        "import torch.nn.functional as F\n",
        "\n",
        "import torchvision.datasets as datasets\n",
        "import torchvision.transforms as transforms"
      ]
    },
    {
      "cell_type": "code",
      "execution_count": 4,
      "metadata": {
        "cellView": "form",
        "execution": {},
        "id": "Ig7xfFP_dCRp"
      },
      "outputs": [],
      "source": [
        "# @title Figure settings\n",
        "import ipywidgets as widgets       # Interactive display\n",
        "%config InlineBackend.figure_format = 'retina'\n",
        "plt.style.use(\"https://raw.githubusercontent.com/NeuromatchAcademy/content-creation/main/nma.mplstyle\")"
      ]
    },
    {
      "cell_type": "code",
      "execution_count": 5,
      "metadata": {
        "cellView": "form",
        "execution": {},
        "id": "eBmZUV4sdCRp"
      },
      "outputs": [],
      "source": [
        "# @title Plotting functions\n",
        "\n",
        "def plot_mnist(data, nPlots=10):\n",
        "  \"\"\"\n",
        "  Plot MNIST-like data\n",
        "\n",
        "  Args:\n",
        "    data: torch.tensor\n",
        "      MNIST like data to be plotted\n",
        "    nPlots: int\n",
        "      Number of samples to be plotted aka Number of plots\n",
        "\n",
        "  Returns:\n",
        "    Nothing\n",
        "  \"\"\"\n",
        "  plt.figure(figsize=(12, 8))\n",
        "  for ii in range(nPlots):\n",
        "    plt.subplot(1, nPlots, ii + 1)\n",
        "    plt.imshow(data[ii, 0], cmap=\"gray\")\n",
        "    plt.axis('off')\n",
        "  plt.tight_layout\n",
        "  plt.show()\n",
        "\n",
        "\n",
        "def multi_task_barplot(accs, tasks, t=None):\n",
        "  \"\"\"\n",
        "  Plot accuracy of multiple tasks\n",
        "\n",
        "  Args:\n",
        "    accs: list\n",
        "      List of accuracies per task\n",
        "    tasks: list\n",
        "      List of tasks\n",
        "\n",
        "  Returns:\n",
        "    Nothing\n",
        "  \"\"\"\n",
        "  nTasks = len(accs)\n",
        "  plt.bar(range(nTasks), accs, color='k')\n",
        "  plt.ylabel('Testing Accuracy (%)', size=18)\n",
        "  plt.xticks(range(nTasks),\n",
        "            [f\"{TN}\\nTask {ii + 1}\" for ii, TN in enumerate(tasks.keys())],\n",
        "            size=18)\n",
        "  plt.title(t)\n",
        "  plt.show()\n",
        "\n",
        "\n",
        "def plot_task(data, samples_num):\n",
        "  \"\"\"\n",
        "  Plots task accuracy\n",
        "\n",
        "  Args:\n",
        "    data: torch.tensor\n",
        "      Data of task to be plotted\n",
        "    samples_num: int\n",
        "      Number of samples corresponding to data for task\n",
        "\n",
        "  Returns:\n",
        "    Nothing\n",
        "  \"\"\"\n",
        "  plt.plot(figsize=(12, 6))\n",
        "  for ii in range(samples_num):\n",
        "    plt.subplot(1, samples_num, ii + 1)\n",
        "    plt.imshow(data[ii][0], cmap=\"gray\")\n",
        "    plt.axis('off')\n",
        "  plt.show()"
      ]
    },
    {
      "cell_type": "code",
      "execution_count": 6,
      "metadata": {
        "cellView": "form",
        "execution": {},
        "id": "GV7pjiisdCRq"
      },
      "outputs": [],
      "source": [
        "# @title Helper functions\n",
        "\n",
        "def load_mnist(mnist_train, mnist_test, verbose=False, asnumpy=True):\n",
        "  \"\"\"\n",
        "  Helper function to load MNIST data\n",
        "  Note: You can try an alternate implementation with torchloaders\n",
        "\n",
        "  Args:\n",
        "    mnist_train: np.ndarray\n",
        "      MNIST training data\n",
        "    mnist_test: np.ndarray\n",
        "      MNIST test data\n",
        "    verbose: boolean\n",
        "      If True, print statistics\n",
        "    asnumpy: boolean\n",
        "      If true, MNIST data is passed as np.ndarray\n",
        "\n",
        "  Returns:\n",
        "   X_test: np.ndarray\n",
        "      Test data\n",
        "    y_test: np.ndarray\n",
        "      Labels corresponding to above mentioned test data\n",
        "    X_train: np.ndarray\n",
        "      Train data\n",
        "    y_train: np.ndarray\n",
        "      Labels corresponding to above mentioned train data\n",
        "  \"\"\"\n",
        "\n",
        "  x_traint, t_traint = mnist_train.data, mnist_train.targets\n",
        "  x_testt, t_testt = mnist_test.data, mnist_test.targets\n",
        "\n",
        "  if asnumpy:\n",
        "    # Fix dimensions and convert back to np array for code compatability\n",
        "    # We aren't using torch dataloaders for ease of use\n",
        "    x_traint = torch.unsqueeze(x_traint, 1)\n",
        "    x_testt = torch.unsqueeze(x_testt, 1)\n",
        "    x_train, x_test = x_traint.numpy().copy(), x_testt.numpy()\n",
        "    t_train, t_test = t_traint.numpy().copy(), t_testt.numpy()\n",
        "  else:\n",
        "    x_train, t_train = x_traint, t_traint\n",
        "    x_test, t_test = x_testt, t_testt\n",
        "\n",
        "  if verbose:\n",
        "    print(f\"x_train dim: {x_train.shape} and type: {x_train.dtype}\")\n",
        "    print(f\"t_train dim: {t_train.shape} and type: {t_train.dtype}\")\n",
        "    print(f\"x_train dim: {x_test.shape} and type: {x_test.dtype}\")\n",
        "    print(f\"t_train dim: {t_test.shape} and type: {t_test.dtype}\")\n",
        "\n",
        "  return x_train, t_train, x_test, t_test\n",
        "\n",
        "\n",
        "def permute_mnist(mnist, seed, verbose=False):\n",
        "    \"\"\"\n",
        "    Given the training set, permute pixels of each\n",
        "    image.\n",
        "\n",
        "    Args:\n",
        "      mnist: np.ndarray\n",
        "        MNIST Data to be permuted\n",
        "      seed: int\n",
        "        Set seed for reproducibility\n",
        "      verbose: boolean\n",
        "        If True, print statistics\n",
        "\n",
        "    Returns:\n",
        "      perm_mnist: List\n",
        "        Permutated set of pixels for each incoming image\n",
        "    \"\"\"\n",
        "\n",
        "    np.random.seed(seed)\n",
        "    if verbose: print(\"Starting permutation...\")\n",
        "    h = w = 28\n",
        "    perm_inds = list(range(h*w))\n",
        "    np.random.shuffle(perm_inds)\n",
        "    perm_mnist = []\n",
        "    for set in mnist:\n",
        "        num_img = set.shape[0]\n",
        "        flat_set = set.reshape(num_img, w * h)\n",
        "        perm_mnist.append(flat_set[:, perm_inds].reshape(num_img, 1, w, h))\n",
        "    if verbose: print(\"done.\")\n",
        "    return perm_mnist"
      ]
    },
    {
      "cell_type": "code",
      "execution_count": 7,
      "metadata": {
        "cellView": "form",
        "execution": {},
        "id": "G14mwzModCRq"
      },
      "outputs": [],
      "source": [
        "# @title Set random seed\n",
        "\n",
        "# @markdown Executing `set_seed(seed=seed)` you are setting the seed\n",
        "\n",
        "# for DL its critical to set the random seed so that students can have a\n",
        "# baseline to compare their results to expected results.\n",
        "# Read more here: https://pytorch.org/docs/stable/notes/randomness.html\n",
        "\n",
        "# Call `set_seed` function in the exercises to ensure reproducibility.\n",
        "import random\n",
        "import torch\n",
        "\n",
        "def set_seed(seed=None, seed_torch=True):\n",
        "  \"\"\"\n",
        "  Function that controls randomness. NumPy and random modules must be imported.\n",
        "\n",
        "  Args:\n",
        "    seed : Integer\n",
        "      A non-negative integer that defines the random state. Default is `None`.\n",
        "    seed_torch : Boolean\n",
        "      If `True` sets the random seed for pytorch tensors, so pytorch module\n",
        "      must be imported. Default is `True`.\n",
        "\n",
        "  Returns:\n",
        "    Nothing.\n",
        "  \"\"\"\n",
        "  if seed is None:\n",
        "    seed = np.random.choice(2 ** 32)\n",
        "  random.seed(seed)\n",
        "  np.random.seed(seed)\n",
        "  if seed_torch:\n",
        "    torch.manual_seed(seed)\n",
        "    torch.cuda.manual_seed_all(seed)\n",
        "    torch.cuda.manual_seed(seed)\n",
        "    torch.backends.cudnn.benchmark = False\n",
        "    torch.backends.cudnn.deterministic = True\n",
        "\n",
        "  print(f'Random seed {seed} has been set.')\n",
        "\n",
        "\n",
        "# In case that `DataLoader` is used\n",
        "def seed_worker(worker_id):\n",
        "  \"\"\"\n",
        "  DataLoader will reseed workers following randomness in\n",
        "  multi-process data loading algorithm.\n",
        "\n",
        "  Args:\n",
        "    worker_id: integer\n",
        "      ID of subprocess to seed. 0 means that\n",
        "      the data will be loaded in the main process\n",
        "      Refer: https://pytorch.org/docs/stable/data.html#data-loading-randomness for more details\n",
        "\n",
        "  Returns:\n",
        "    Nothing\n",
        "  \"\"\"\n",
        "  worker_seed = torch.initial_seed() % 2**32\n",
        "  np.random.seed(worker_seed)\n",
        "  random.seed(worker_seed)"
      ]
    },
    {
      "cell_type": "code",
      "execution_count": 8,
      "metadata": {
        "cellView": "form",
        "execution": {},
        "id": "6rw3SEz9dCRr"
      },
      "outputs": [],
      "source": [
        "# @title Set device (GPU or CPU). Execute `set_device()`\n",
        "# especially if torch modules used.\n",
        "\n",
        "# Inform the user if the notebook uses GPU or CPU.\n",
        "\n",
        "def set_device():\n",
        "  \"\"\"\n",
        "  Set the device. CUDA if available, CPU otherwise\n",
        "\n",
        "  Args:\n",
        "    None\n",
        "\n",
        "  Returns:\n",
        "    Nothing\n",
        "  \"\"\"\n",
        "  device = \"cuda\" if torch.cuda.is_available() else \"cpu\"\n",
        "  if device != \"cuda\":\n",
        "    print(\"GPU is not enabled in this notebook. \\n\"\n",
        "          \"If you want to enable it, in the menu under `Runtime` -> \\n\"\n",
        "          \"`Hardware accelerator.` and select `GPU` from the dropdown menu\")\n",
        "  else:\n",
        "    print(\"GPU is enabled in this notebook. \\n\"\n",
        "          \"If you want to disable it, in the menu under `Runtime` -> \\n\"\n",
        "          \"`Hardware accelerator.` and select `None` from the dropdown menu\")\n",
        "\n",
        "  return device"
      ]
    },
    {
      "cell_type": "code",
      "execution_count": 9,
      "metadata": {
        "execution": {},
        "id": "CLr53Nl5dCRr",
        "outputId": "b3ad0de6-7032-4d30-ae67-17c2db274ff4",
        "colab": {
          "base_uri": "https://localhost:8080/"
        }
      },
      "outputs": [
        {
          "output_type": "stream",
          "name": "stdout",
          "text": [
            "Random seed 2021 has been set.\n",
            "GPU is enabled in this notebook. \n",
            "If you want to disable it, in the menu under `Runtime` -> \n",
            "`Hardware accelerator.` and select `None` from the dropdown menu\n"
          ]
        }
      ],
      "source": [
        "SEED = 2021\n",
        "set_seed(seed=SEED)\n",
        "DEVICE = set_device()"
      ]
    },
    {
      "cell_type": "code",
      "execution_count": 10,
      "metadata": {
        "cellView": "form",
        "execution": {},
        "id": "teGz3F2xdCRr",
        "outputId": "9226c40a-4416-4b51-b2d8-b7fe9288b367",
        "colab": {
          "base_uri": "https://localhost:8080/"
        }
      },
      "outputs": [
        {
          "output_type": "stream",
          "name": "stdout",
          "text": [
            "\n",
            "Downloading and unpacking MNIST data. Please wait a moment...\n",
            "\n",
            "Downloading MNIST completed.\n"
          ]
        }
      ],
      "source": [
        "# @title Data-loader MNIST dataset\n",
        "import tarfile, requests, os\n",
        "from torchvision import transforms\n",
        "from torchvision.datasets import MNIST\n",
        "\n",
        "name = 'MNIST'\n",
        "fname = name + '.tar.gz'\n",
        "url = 'https://www.di.ens.fr/~lelarge/MNIST.tar.gz'\n",
        "\n",
        "if not os.path.exists(name):\n",
        "  print('\\nDownloading and unpacking MNIST data. Please wait a moment...')\n",
        "  r = requests.get(url, allow_redirects=True)\n",
        "  with open(fname, 'wb') as fh:\n",
        "    fh.write(r.content)\n",
        "  with tarfile.open(fname) as tar:\n",
        "    tar.extractall('./')  # Specify which folder to extract to\n",
        "  os.remove(fname)\n",
        "  print('\\nDownloading MNIST completed.')\n",
        "else:\n",
        "  print('MNIST has been already downloaded.')\n",
        "\n",
        "\n",
        "# Load the Data\n",
        "mnist_train = MNIST('./', download=False,\n",
        "                    transform=transforms.Compose([transforms.ToTensor(), ]),\n",
        "                    train=True)\n",
        "mnist_test = MNIST('./', download=False,\n",
        "                    transform=transforms.Compose([transforms.ToTensor(), ]),\n",
        "                   train=False)"
      ]
    },
    {
      "cell_type": "markdown",
      "metadata": {
        "execution": {},
        "id": "l72bMAaBdCRr"
      },
      "source": [
        "---\n",
        "# Section 0: Overview"
      ]
    },
    {
      "cell_type": "code",
      "execution_count": 11,
      "metadata": {
        "cellView": "form",
        "execution": {},
        "id": "brg7f51gdCRr",
        "outputId": "bde00511-48ed-4aaf-cc4e-8ef31142de22",
        "colab": {
          "base_uri": "https://localhost:8080/",
          "height": 581,
          "referenced_widgets": [
            "46c9fd503ae2472d8afa6ad6cf6ef0d5",
            "6bd0eae77e39421c931b465599258a46",
            "6b682eb44a6d485ebdb37f7e6cf50a7e",
            "af215d5ee6764aaeb92d032d8c90bb3f",
            "5e7a48907491487ba99718eee4a73ee9",
            "92e90d6c091b497eb7fa39be1bfb14a6"
          ]
        }
      },
      "outputs": [
        {
          "output_type": "display_data",
          "data": {
            "text/plain": [
              "Tab(children=(Output(), Output()), _titles={'0': 'Youtube', '1': 'Bilibili'})"
            ],
            "application/vnd.jupyter.widget-view+json": {
              "version_major": 2,
              "version_minor": 0,
              "model_id": "46c9fd503ae2472d8afa6ad6cf6ef0d5"
            }
          },
          "metadata": {}
        }
      ],
      "source": [
        "# @title Video 0: Overview of the Session and Introduction to Continual Learning\n",
        "from ipywidgets import widgets\n",
        "\n",
        "out2 = widgets.Output()\n",
        "with out2:\n",
        "  from IPython.display import IFrame\n",
        "  class BiliVideo(IFrame):\n",
        "    def __init__(self, id, page=1, width=400, height=300, **kwargs):\n",
        "      self.id=id\n",
        "      src = \"https://player.bilibili.com/player.html?bvid={0}&page={1}\".format(id, page)\n",
        "      super(BiliVideo, self).__init__(src, width, height, **kwargs)\n",
        "\n",
        "  video = BiliVideo(id=f\"BV1LM4y1T7Wn\", width=854, height=480, fs=1)\n",
        "  print(\"Video available at https://www.bilibili.com/video/{0}\".format(video.id))\n",
        "  display(video)\n",
        "\n",
        "out1 = widgets.Output()\n",
        "with out1:\n",
        "  from IPython.display import YouTubeVideo\n",
        "  video = YouTubeVideo(id=f\"ARVxFIfw4JU\", width=854, height=480, fs=1, rel=0)\n",
        "  print(\"Video available at https://youtube.com/watch?v=\" + video.id)\n",
        "  display(video)\n",
        "\n",
        "out = widgets.Tab([out1, out2])\n",
        "out.set_title(0, 'Youtube')\n",
        "out.set_title(1, 'Bilibili')\n",
        "\n",
        "# add event to airtable\n",
        "atform.add_event('Video 0: Overview of the session and introduction to continual learning')\n",
        "\n",
        "display(out)"
      ]
    },
    {
      "cell_type": "markdown",
      "metadata": {
        "execution": {},
        "id": "vNnp5GpTdCRs"
      },
      "source": [
        "---\n",
        "# Section 1: The sequential learning problem: catastrophic forgetting\n",
        "\n",
        "*Time estimate: ~20mins*"
      ]
    },
    {
      "cell_type": "code",
      "execution_count": 12,
      "metadata": {
        "cellView": "form",
        "execution": {},
        "id": "hneFGgSTdCRs",
        "outputId": "8e0e1b89-22c6-4569-b6e2-0d1fa0115d8c",
        "colab": {
          "base_uri": "https://localhost:8080/",
          "height": 581,
          "referenced_widgets": [
            "280595f853af4d7ca01c479304fdb57c",
            "38251e3b09e64ddd83b514044de268dd",
            "8a71ca37da0b4abe92755324debbd6e4",
            "f6b5ba52b9cb4b4b834f8ac5f58e6d0b",
            "27e37c4f018a463cbf187457aae78605",
            "e011a8a4d88a45cbaa08afac4d15eae4"
          ]
        }
      },
      "outputs": [
        {
          "output_type": "display_data",
          "data": {
            "text/plain": [
              "Tab(children=(Output(), Output()), _titles={'0': 'Youtube', '1': 'Bilibili'})"
            ],
            "application/vnd.jupyter.widget-view+json": {
              "version_major": 2,
              "version_minor": 0,
              "model_id": "280595f853af4d7ca01c479304fdb57c"
            }
          },
          "metadata": {}
        }
      ],
      "source": [
        "# @title Video 1: Introduction to catastrophic forgetting\n",
        "from ipywidgets import widgets\n",
        "\n",
        "out2 = widgets.Output()\n",
        "with out2:\n",
        "  from IPython.display import IFrame\n",
        "  class BiliVideo(IFrame):\n",
        "    def __init__(self, id, page=1, width=400, height=300, **kwargs):\n",
        "      self.id=id\n",
        "      src = \"https://player.bilibili.com/player.html?bvid={0}&page={1}\".format(id, page)\n",
        "      super(BiliVideo, self).__init__(src, width, height, **kwargs)\n",
        "\n",
        "  video = BiliVideo(id=f\"BV1kg411M7wu\", width=854, height=480, fs=1)\n",
        "  print(\"Video available at https://www.bilibili.com/video/{0}\".format(video.id))\n",
        "  display(video)\n",
        "\n",
        "out1 = widgets.Output()\n",
        "with out1:\n",
        "  from IPython.display import YouTubeVideo\n",
        "  video = YouTubeVideo(id=f\"WIbgFxzaFP4\", width=854, height=480, fs=1, rel=0)\n",
        "  print(\"Video available at https://youtube.com/watch?v=\" + video.id)\n",
        "  display(video)\n",
        "\n",
        "out = widgets.Tab([out1, out2])\n",
        "out.set_title(0, 'Youtube')\n",
        "out.set_title(1, 'Bilibili')\n",
        "\n",
        "# add event to airtable\n",
        "atform.add_event('Video 1: Introduction to catastrophic forgetting')\n",
        "\n",
        "display(out)"
      ]
    },
    {
      "cell_type": "markdown",
      "metadata": {
        "execution": {},
        "id": "yLEtsLnNdCRs"
      },
      "source": [
        "Here, we'll explore catastrophic forgetting first hand - a key barrier preventing continual learning in neural networks. To do so, we'll build a simple network model and try our best to teach it the trusty MNIST dataset"
      ]
    },
    {
      "cell_type": "markdown",
      "metadata": {
        "execution": {},
        "id": "WCMSjFOGdCRs"
      },
      "source": [
        "## Section 1.1: A brief example of catastrophic forgetting \n",
        "\n",
        "Let's define a simple CNN that can perform fairly well on MNIST. We'll also load in some training and testing functions we wrote to load the data into the model and train/test it. We don't need to get into the details how they work for now (pretty standard) but feel free to double click the cell if you're curious!"
      ]
    },
    {
      "cell_type": "code",
      "execution_count": 13,
      "metadata": {
        "execution": {},
        "id": "gLhFTL2xdCRs"
      },
      "outputs": [],
      "source": [
        "class Net(nn.Module):\n",
        "  \"\"\"\n",
        "  Simple MultiLayer CNN with following attributes and structure.\n",
        "  nn.Conv2d(1, 10, kernel_size=5) # First Convolutional Layer\n",
        "  nn.Conv2d(10, 20, kernel_size=5) # Second Convolutional Layer [add dropout]\n",
        "  nn.Linear(320, 50) # First Fully Connected Layer\n",
        "  nn.Linear(50, 10) # Second Fully Connected Layer\n",
        "  \"\"\"\n",
        "\n",
        "  def __init__(self):\n",
        "    \"\"\"\n",
        "    Initialize Multilayer CNN parameters\n",
        "\n",
        "    Args:\n",
        "      None\n",
        "\n",
        "    Returns:\n",
        "      Nothing\n",
        "    \"\"\"\n",
        "    super(Net, self).__init__()\n",
        "    self.conv1 = nn.Conv2d(1, 10, kernel_size=5)\n",
        "    self.conv2 = nn.Conv2d(10, 20, kernel_size=5)\n",
        "    self.conv2_drop = nn.Dropout2d()\n",
        "    self.fc1 = nn.Linear(320, 50)\n",
        "    self.fc2 = nn.Linear(50, 10)\n",
        "\n",
        "  def forward(self, x):\n",
        "    \"\"\"\n",
        "    Forward pass of network\n",
        "\n",
        "    Args:\n",
        "      x: np.ndarray\n",
        "        Input data\n",
        "\n",
        "    Returns:\n",
        "      x: np.ndarray\n",
        "        Output from final fully connected layer\n",
        "    \"\"\"\n",
        "    x = F.relu(F.max_pool2d(self.conv1(x), 2))\n",
        "    x = F.relu(F.max_pool2d(self.conv2_drop(self.conv2(x)), 2))\n",
        "    x = x.view(-1, 320)\n",
        "    x = F.relu(self.fc1(x))\n",
        "    x = F.dropout(x, training=self.training)\n",
        "    x = self.fc2(x)\n",
        "    return x"
      ]
    },
    {
      "cell_type": "code",
      "execution_count": 14,
      "metadata": {
        "cellView": "form",
        "execution": {},
        "id": "kJC-oiHHdCRs"
      },
      "outputs": [],
      "source": [
        "# @title Model Training and Testing Functions [RUN ME!]\n",
        "\n",
        "# @markdown `train(model, x_train, t_train, optimizer, epoch, device)`\n",
        "def train(model, x_train, t_train, optimizer, epoch, device):\n",
        "  \"\"\"\n",
        "  Train function\n",
        "\n",
        "  Args:\n",
        "    model: Net() type\n",
        "      Instance of the multilayer CNN\n",
        "    x_train: np.ndarray\n",
        "      Training data\n",
        "    t_train: np.ndarray\n",
        "      Labels corresponding to the training data\n",
        "    optimizer: torch.optim type\n",
        "      Implements Adam algorithm.\n",
        "    epoch: int\n",
        "      Number of epochs\n",
        "    device: string\n",
        "      CUDA/GPU if available, CPU otherwise\n",
        "\n",
        "  Returns:\n",
        "    Nothing\n",
        "  \"\"\"\n",
        "  model.train()\n",
        "\n",
        "  for start in range(0, len(t_train)-1, 256):\n",
        "    end = start + 256\n",
        "    x = torch.from_numpy(x_train[start:end])\n",
        "    if torch.cuda.is_available():\n",
        "      x = x.type(torch.cuda.FloatTensor)\n",
        "    else:\n",
        "      x = x.type(torch.FloatTensor)\n",
        "    y = torch.from_numpy(t_train[start:end]).long()\n",
        "    x, y = x.to(device), y.to(device)\n",
        "\n",
        "    optimizer.zero_grad()\n",
        "\n",
        "    output = model(x)\n",
        "    loss = F.cross_entropy(output, y)\n",
        "    loss.backward()\n",
        "    optimizer.step()\n",
        "  print('Train Epoch: {} \\tLoss: {:.6f}'.format(epoch, loss.item()))\n",
        "\n",
        "\n",
        "# @markdown `test(model, x_test, t_test, device)`\n",
        "def test(model, x_test, t_test, device):\n",
        "    \"\"\"\n",
        "    Test function.\n",
        "\n",
        "    Args:\n",
        "      model: Net() type\n",
        "        Instance of the multilayer CNN\n",
        "      x_test: np.ndarray\n",
        "        Test data\n",
        "      t_test: np.ndarray\n",
        "        Labels corresponding to the test data\n",
        "      device: string\n",
        "        CUDA/GPU if available, CPU otherwise\n",
        "\n",
        "    Returns:\n",
        "      Nothing\n",
        "    \"\"\"\n",
        "    model.eval()\n",
        "    correct, test_loss = 0, 0\n",
        "    for start in range(0, len(t_test)-1, 256):\n",
        "      end = start + 256\n",
        "      with torch.no_grad():\n",
        "        x = torch.from_numpy(x_test[start:end])\n",
        "        if torch.cuda.is_available():\n",
        "          x = x.type(torch.cuda.FloatTensor)\n",
        "        else:\n",
        "          x = x.type(torch.FloatTensor)\n",
        "        y = torch.from_numpy(t_test[start:end]).long()\n",
        "        x, y = x.to(device), y.to(device)\n",
        "        output = model(x)\n",
        "        test_loss += F.cross_entropy(output, y).item()  # Sum up batch loss\n",
        "        pred = output.max(1, keepdim=True)[1]  # Get the index of the max logit\n",
        "        correct += pred.eq(y.view_as(pred)).sum().item()\n",
        "\n",
        "    test_loss /= len(t_train)\n",
        "    print('Test set: Average loss: {:.4f}, Accuracy: {}/{} ({:.0f}%)\\n'.format(\n",
        "        test_loss, correct, len(t_test),\n",
        "        100. * correct / len(t_test)))\n",
        "    return 100. * correct / len(t_test)"
      ]
    },
    {
      "cell_type": "code",
      "execution_count": 15,
      "metadata": {
        "execution": {},
        "id": "b6JqqW3sdCRt"
      },
      "outputs": [],
      "source": [
        "class simpNet(nn.Module):\n",
        "  \"\"\"\n",
        "  Defines a simple neural network with following configuration:\n",
        "  nn.Linear(28*28, 320) # First Fully Connected Layer\n",
        "  nn.Linear(320, 10) + ReLU # Second Fully Connected Layer\n",
        "  \"\"\"\n",
        "\n",
        "  def __init__(self):\n",
        "    \"\"\"\n",
        "    Initialize SimpNet Parameters\n",
        "\n",
        "    Args:\n",
        "      None\n",
        "\n",
        "    Returns:\n",
        "      Nothing\n",
        "    \"\"\"\n",
        "    super(simpNet,self).__init__()\n",
        "    self.linear1 = nn.Linear(28*28, 320)\n",
        "    self.out = nn.Linear(320, 10)\n",
        "    self.relu = nn.ReLU()\n",
        "\n",
        "  def forward(self, img):\n",
        "    \"\"\"\n",
        "    Forward pass of SimpNet\n",
        "\n",
        "    Args:\n",
        "      img: np.ndarray\n",
        "        Input data\n",
        "\n",
        "    Returns:\n",
        "      x: np.ndarray\n",
        "        Output from final fully connected layer\n",
        "    \"\"\"\n",
        "    x = img.view(-1, 28*28)\n",
        "    x = self.relu(self.linear1(x))\n",
        "    x = self.out(x)\n",
        "    return x"
      ]
    },
    {
      "cell_type": "markdown",
      "metadata": {
        "execution": {},
        "id": "0sTuhItwdCRt"
      },
      "source": [
        "Now let's load our dataset: MNIST. We'll also run a function we defined in the helper function cell above that permutes (scrambles) the images. This allows us to create additional datasets with similar statistics to MNIST on the fly. We'll call the normal MNIST Task 1, and the permuted MNIST Task 2. We'll see why in a second!"
      ]
    },
    {
      "cell_type": "code",
      "execution_count": 16,
      "metadata": {
        "execution": {},
        "id": "k1oL-cbbdCRt",
        "outputId": "b53164d7-a711-4b81-dff8-cad170fa600b",
        "colab": {
          "base_uri": "https://localhost:8080/",
          "height": 320
        }
      },
      "outputs": [
        {
          "output_type": "stream",
          "name": "stdout",
          "text": [
            "x_train dim: (60000, 1, 28, 28) and type: uint8\n",
            "t_train dim: (60000,) and type: int64\n",
            "x_train dim: (10000, 1, 28, 28) and type: uint8\n",
            "t_train dim: (10000,) and type: int64\n",
            "\n",
            "Task 1: MNIST Training data:\n"
          ]
        },
        {
          "output_type": "display_data",
          "data": {
            "text/plain": [
              "<Figure size 864x576 with 10 Axes>"
            ],
            "image/png": "[encoded data removed]"
          },
          "metadata": {
            "image/png": {
              "width": 846,
              "height": 82
            },
            "needs_background": "light"
          }
        },
        {
          "output_type": "stream",
          "name": "stdout",
          "text": [
            "\n",
            "Task 2: Permuted MNIST data:\n"
          ]
        },
        {
          "output_type": "display_data",
          "data": {
            "text/plain": [
              "<Figure size 864x576 with 10 Axes>"
            ],
            "image/png": "[encoded data removed]"
          },
          "metadata": {
            "image/png": {
              "width": 846,
              "height": 82
            },
            "needs_background": "light"
          }
        }
      ],
      "source": [
        "# Load in MNIST and create an additional permuted dataset\n",
        "x_train, t_train, x_test, t_test = load_mnist(mnist_train, mnist_test,\n",
        "                                              verbose=True)\n",
        "x_train2, x_test2 = permute_mnist([x_train, x_test], 0, verbose=False)\n",
        "\n",
        "# Plot the data to see what we're working with\n",
        "print('\\nTask 1: MNIST Training data:')\n",
        "plot_mnist(x_train, nPlots=10)\n",
        "print('\\nTask 2: Permuted MNIST data:')\n",
        "plot_mnist(x_train2, nPlots=10)"
      ]
    },
    {
      "cell_type": "markdown",
      "metadata": {
        "execution": {},
        "id": "M3cnOSqbdCRt"
      },
      "source": [
        "Great! We have our data. This commonly  used task is typically called the \"[permuted MNIST task](https://arxiv.org/pdf/1312.6211.pdf)\", given the shuffling of the data. The permutations are the same across all images in the same task (all the permuted image in that task follow are permuted in the same way). This is useful as it allows you to create almost as many tasks as you would like out of the same dataset. While it may [not be the best benchmark for CL](https://arxiv.org/pdf/1805.09733.pdf), it is commonly used, and will serve our purposes well enough for illustration. \n",
        "\n",
        "Now, let's initialize and train our model on the standard MNIST dataset (Task 1) and make sure everything is working properly. "
      ]
    },
    {
      "cell_type": "code",
      "execution_count": 17,
      "metadata": {
        "execution": {},
        "id": "wfTPCfMTdCRt",
        "outputId": "f0c1658a-53f0-4ce7-c3b9-069b424ef3e3",
        "colab": {
          "base_uri": "https://localhost:8080/"
        }
      },
      "outputs": [
        {
          "output_type": "stream",
          "name": "stdout",
          "text": [
            "Training model on 3 epochs...\n",
            "Train Epoch: 1 \tLoss: 1.214747\n",
            "Test set: Average loss: 0.0004, Accuracy: 8039/10000 (80%)\n",
            "\n",
            "Train Epoch: 2 \tLoss: 0.912919\n",
            "Test set: Average loss: 0.0002, Accuracy: 8967/10000 (90%)\n",
            "\n",
            "Train Epoch: 3 \tLoss: 0.761114\n",
            "Test set: Average loss: 0.0002, Accuracy: 9225/10000 (92%)\n",
            "\n"
          ]
        }
      ],
      "source": [
        "# Define a new model and set params\n",
        "model = Net().to(DEVICE)\n",
        "optimizer = optim.SGD(model.parameters(), lr=0.01, momentum=0.9)\n",
        "\n",
        "# Train the model on MNIST\n",
        "nEpochs = 3\n",
        "print(f\"Training model on {nEpochs} epochs...\")\n",
        "for epoch in range(1, nEpochs+1):\n",
        "  train(model, x_train, t_train, optimizer, epoch, device=DEVICE)\n",
        "  test(model, x_test, t_test, device=DEVICE)"
      ]
    },
    {
      "cell_type": "markdown",
      "metadata": {
        "execution": {},
        "id": "b1c-VVYmdCRt"
      },
      "source": [
        "Okay great! It seems we get decent accuracy on standard MNIST which means the model is learning our dataset. Now, a reasonable assumption is that, like humans, once the network learns something, it can aggregate its knowledge and learn something else. \n",
        "\n",
        "First, let's get a baseline for how the model performs on the dataset it was just trained on (Task 1) as well as to see how well it performs on a new dataset (Task 2). "
      ]
    },
    {
      "cell_type": "code",
      "execution_count": 18,
      "metadata": {
        "execution": {},
        "id": "5cEBQxQIdCRt",
        "outputId": "9aa00608-9f57-4334-925c-5dd634964aae",
        "colab": {
          "base_uri": "https://localhost:8080/",
          "height": 534
        }
      },
      "outputs": [
        {
          "output_type": "stream",
          "name": "stdout",
          "text": [
            "Testing on task 1\n",
            "Test set: Average loss: 0.0002, Accuracy: 9225/10000 (92%)\n",
            "\n",
            "Testing on task 2\n",
            "Test set: Average loss: 0.0017, Accuracy: 1349/10000 (13%)\n",
            "\n"
          ]
        },
        {
          "output_type": "display_data",
          "data": {
            "text/plain": [
              "<Figure size 576x432 with 1 Axes>"
            ],
            "image/png": "[encoded data removed]"
          },
          "metadata": {
            "image/png": {
              "width": 558,
              "height": 413
            },
            "needs_background": "light"
          }
        }
      ],
      "source": [
        "# Test the model's accuracy on both the regular and permuted dataset\n",
        "\n",
        "# Let's define a dictionary that holds each of the task\n",
        "# datasets and labels\n",
        "tasks = {'MNIST':(x_test, t_test),\n",
        "         'Perm MNIST':(x_test2, t_test)}\n",
        "t1_accs = []\n",
        "for ti, task in enumerate(tasks.keys()):\n",
        "  print(f\"Testing on task {ti + 1}\")\n",
        "  t1_accs.append(test(model, tasks[task][0], tasks[task][1], device=DEVICE))\n",
        "\n",
        "# And then let's plot the testing accuracy on both datasets\n",
        "multi_task_barplot(t1_accs, tasks, t='Accuracy after training on Task 1 \\nbut before Training on Task 2')"
      ]
    },
    {
      "cell_type": "markdown",
      "metadata": {
        "execution": {},
        "id": "Ax47sxGldCRt"
      },
      "source": [
        "As we saw before, the model does great on the Task 1 dataset it was trained on, but not so well on the new one. No worries! We haven't taught it the permuted MNIST dataset yet! So let's train the *same* task 1-trained-model on the new data, and see if we can get comparable performance between the two types of MNIST"
      ]
    },
    {
      "cell_type": "code",
      "execution_count": 19,
      "metadata": {
        "execution": {},
        "id": "fGA2v3rxdCRu",
        "outputId": "d7011c7d-84a3-45ca-e46f-e3f9e2f1220f",
        "colab": {
          "base_uri": "https://localhost:8080/",
          "height": 638
        }
      },
      "outputs": [
        {
          "output_type": "stream",
          "name": "stdout",
          "text": [
            "Train Epoch: 1 \tLoss: 1.663250\n",
            "Test set: Average loss: 0.0007, Accuracy: 6190/10000 (62%)\n",
            "\n",
            "Train Epoch: 2 \tLoss: 1.319732\n",
            "Test set: Average loss: 0.0005, Accuracy: 7458/10000 (75%)\n",
            "\n",
            "Testing on task 1\n",
            "Test set: Average loss: 0.0016, Accuracy: 1764/10000 (18%)\n",
            "\n",
            "Testing on task 2\n",
            "Test set: Average loss: 0.0005, Accuracy: 7458/10000 (75%)\n",
            "\n"
          ]
        },
        {
          "output_type": "display_data",
          "data": {
            "text/plain": [
              "<Figure size 576x432 with 1 Axes>"
            ],
            "image/png": "[encoded data removed]"
          },
          "metadata": {
            "image/png": {
              "width": 563,
              "height": 413
            },
            "needs_background": "light"
          }
        }
      ],
      "source": [
        "# Train the previously trained model on Task 2, the permuted MNIST dataset\n",
        "for epoch in range(1, 3):\n",
        "  train(model, x_train2, t_train, optimizer, epoch, device=DEVICE)\n",
        "  test(model, x_test2, t_test, device=DEVICE)\n",
        "\n",
        "# Same data as before, stored in a dict\n",
        "tasks = {'MNIST':(x_test, t_test),\n",
        "         'Perm MNIST':(x_test2, t_test)}\n",
        "# Test the model on both datasets, same as before\n",
        "t12_accs = []\n",
        "for ti, task in enumerate(tasks.keys()):\n",
        "  print(f\"Testing on task {ti + 1}\")\n",
        "  t12_accs.append(test(model, tasks[task][0], tasks[task][1], device=DEVICE))\n",
        "\n",
        "# And then let's plot each of the testing accuracies after the new training\n",
        "multi_task_barplot(t12_accs, tasks, t='Accuracy after training on Task 1 and then Training on Task 2')"
      ]
    },
    {
      "cell_type": "markdown",
      "metadata": {
        "execution": {},
        "id": "PA_Qn-bidCRu"
      },
      "source": [
        "Hey! Training did the trick, task 2 (permuted MNIST) has great accuracy now that we trained the model on it. But something is wrong. We just saw that Task 1 (standard MNIST) had high accuracy before we trained on the new task. Why? Try to incorporate what you learned in the lecture to help explain the problem we're seeing. You might also take a few seconds and think of what possible soultions you might like to try. In the next section, we'll look into exactly that!"
      ]
    },
    {
      "cell_type": "markdown",
      "metadata": {
        "execution": {},
        "id": "-VUq7cpSdCRu"
      },
      "source": [
        "---\n",
        "# Section 2: Continual Learning strategies\n",
        "\n",
        "*Time estimate: ~25mins*"
      ]
    },
    {
      "cell_type": "code",
      "execution_count": 20,
      "metadata": {
        "cellView": "form",
        "execution": {},
        "id": "-wyQeHFKdCRu",
        "outputId": "6c645b5f-8c29-41a4-f62b-a88bd4a1fea4",
        "colab": {
          "base_uri": "https://localhost:8080/",
          "height": 581,
          "referenced_widgets": [
            "288c6f8a6d1f453d8481f0d39ffa5ac9",
            "3c5c78247a2e4aaba752857f781381a3",
            "3ada6377b690454796fdb67da22cda1a",
            "6588c19a824a4521b9f663e1c013c514",
            "15c43c048d814ef7837fc8293049beb8",
            "cf8280c92fef40dfb96fd09ebad160b6"
          ]
        }
      },
      "outputs": [
        {
          "output_type": "display_data",
          "data": {
            "text/plain": [
              "Tab(children=(Output(), Output()), _titles={'0': 'Youtube', '1': 'Bilibili'})"
            ],
            "application/vnd.jupyter.widget-view+json": {
              "version_major": 2,
              "version_minor": 0,
              "model_id": "288c6f8a6d1f453d8481f0d39ffa5ac9"
            }
          },
          "metadata": {}
        }
      ],
      "source": [
        "# @title Video 2: CL strategies\n",
        "from ipywidgets import widgets\n",
        "\n",
        "out2 = widgets.Output()\n",
        "with out2:\n",
        "  from IPython.display import IFrame\n",
        "  class BiliVideo(IFrame):\n",
        "    def __init__(self, id, page=1, width=400, height=300, **kwargs):\n",
        "      self.id=id\n",
        "      src = \"https://player.bilibili.com/player.html?bvid={0}&page={1}\".format(id, page)\n",
        "      super(BiliVideo, self).__init__(src, width, height, **kwargs)\n",
        "\n",
        "  video = BiliVideo(id=f\"BV1RP4y14792\", width=854, height=480, fs=1)\n",
        "  print(\"Video available at https://www.bilibili.com/video/{0}\".format(video.id))\n",
        "  display(video)\n",
        "\n",
        "out1 = widgets.Output()\n",
        "with out1:\n",
        "  from IPython.display import YouTubeVideo\n",
        "  video = YouTubeVideo(id=f\"q3aZGXIYYfw\", width=854, height=480, fs=1, rel=0)\n",
        "  print(\"Video available at https://youtube.com/watch?v=\" + video.id)\n",
        "  display(video)\n",
        "\n",
        "out = widgets.Tab([out1, out2])\n",
        "out.set_title(0, 'Youtube')\n",
        "out.set_title(1, 'Bilibili')\n",
        "\n",
        "# add event to airtable\n",
        "atform.add_event('Video 2: CL strategies')\n",
        "\n",
        "display(out)"
      ]
    },
    {
      "cell_type": "markdown",
      "metadata": {
        "execution": {},
        "id": "gxlEuR9edCRu"
      },
      "source": [
        "## Split MNIST"
      ]
    },
    {
      "cell_type": "markdown",
      "metadata": {
        "execution": {},
        "id": "G_Cxb4usdCRu"
      },
      "source": [
        "For this section, we will again use the MNIST dataset, but we will now create 5 tasks by splitting the dataset up in such a way that each task contains 2 classes i.e., \n",
        "\n",
        "    Task_1: Classes (0, 1); \n",
        "    Task_2: Classes (2, 3); \n",
        "    Task_3: Classes (4, 5); \n",
        "    Task_4: Classes (6, 7); \n",
        "    Task_5: Classes (8, 9);\n",
        "\n",
        "\n",
        "This problem is called Split MNIST, and it is popular toy problem in the continual learning literature."
      ]
    },
    {
      "cell_type": "code",
      "execution_count": 21,
      "metadata": {
        "execution": {},
        "id": "NqEAXGcmdCRu",
        "outputId": "2ae89893-1577-4f2b-d46a-837d42e3eb8c",
        "colab": {
          "base_uri": "https://localhost:8080/",
          "height": 671
        }
      },
      "outputs": [
        {
          "output_type": "stream",
          "name": "stdout",
          "text": [
            "Random seed 2021 has been set.\n",
            "Task: 1\n"
          ]
        },
        {
          "output_type": "display_data",
          "data": {
            "text/plain": [
              "<Figure size 576x432 with 5 Axes>"
            ],
            "image/png": "[encoded data removed]"
          },
          "metadata": {
            "image/png": {
              "width": 557,
              "height": 110
            },
            "needs_background": "light"
          }
        },
        {
          "output_type": "stream",
          "name": "stdout",
          "text": [
            "Task: 2\n"
          ]
        },
        {
          "output_type": "display_data",
          "data": {
            "text/plain": [
              "<Figure size 576x432 with 5 Axes>"
            ],
            "image/png": "[encoded data removed]"
          },
          "metadata": {
            "image/png": {
              "width": 557,
              "height": 110
            },
            "needs_background": "light"
          }
        },
        {
          "output_type": "stream",
          "name": "stdout",
          "text": [
            "Task: 3\n"
          ]
        },
        {
          "output_type": "display_data",
          "data": {
            "text/plain": [
              "<Figure size 576x432 with 5 Axes>"
            ],
            "image/png": "[encoded data removed]"
          },
          "metadata": {
            "image/png": {
              "width": 557,
              "height": 110
            },
            "needs_background": "light"
          }
        },
        {
          "output_type": "stream",
          "name": "stdout",
          "text": [
            "Task: 4\n"
          ]
        },
        {
          "output_type": "display_data",
          "data": {
            "text/plain": [
              "<Figure size 576x432 with 5 Axes>"
            ],
            "image/png": "[encoded data removed]"
          },
          "metadata": {
            "image/png": {
              "width": 557,
              "height": 110
            },
            "needs_background": "light"
          }
        },
        {
          "output_type": "stream",
          "name": "stdout",
          "text": [
            "Task: 5\n"
          ]
        },
        {
          "output_type": "display_data",
          "data": {
            "text/plain": [
              "<Figure size 576x432 with 5 Axes>"
            ],
            "image/png": "[encoded data removed]"
          },
          "metadata": {
            "image/png": {
              "width": 557,
              "height": 110
            },
            "needs_background": "light"
          }
        }
      ],
      "source": [
        "set_seed(seed=SEED)\n",
        "\n",
        "# Specify which classes should be part of which task\n",
        "task_classes_arr = [(0, 1), (2, 3), (4, 5), (6, 7), (8, 9)]\n",
        "tasks_num = len(task_classes_arr)\n",
        "\n",
        "# Divide the data over the different tasks\n",
        "task_data_with_overlap = []\n",
        "for task_id, task_classes in enumerate(task_classes_arr):\n",
        "  train_mask = np.isin(t_train, task_classes)\n",
        "  test_mask = np.isin(t_test, task_classes)\n",
        "  x_train_task, t_train_task = x_train[train_mask], t_train[train_mask]\n",
        "  x_test_task, t_test_task = x_test[test_mask], t_test[test_mask]\n",
        "  # Convert the original class labels (i.e., the digits 0 to 9) to\n",
        "  # \"within-task labels\" so that within each task one of the digits is labeled\n",
        "  # as '0' and the other as '1'.\n",
        "  task_data_with_overlap.append((x_train_task, t_train_task - (task_id * 2),\n",
        "                                 x_test_task, t_test_task - (task_id * 2)))\n",
        "\n",
        "# Display tasks\n",
        "for sample in range(len(task_classes_arr)):\n",
        "  print(f\"Task: {sample + 1}\")\n",
        "  plot_task(task_data_with_overlap[sample][0], len(task_classes_arr))"
      ]
    },
    {
      "cell_type": "markdown",
      "metadata": {
        "execution": {},
        "id": "igkf_8htdCRu"
      },
      "source": [
        "## Naive strategy (\"fine-tuning\")\n",
        "First, let's see what happens if we simply sequentially train a deep neural network on these tasks in the standard way."
      ]
    },
    {
      "cell_type": "markdown",
      "metadata": {
        "execution": {},
        "id": "Br9uksUZdCRu"
      },
      "source": [
        "Let's start by defining our network. As is common in the continual learning literature, we will use a \"multi-headed layout\". This means that we have a separate output layer for each task to be learned, but the hidden layers of the network are shared between all tasks."
      ]
    },
    {
      "cell_type": "code",
      "execution_count": 22,
      "metadata": {
        "execution": {},
        "id": "BzUUU2v5dCRv"
      },
      "outputs": [],
      "source": [
        "class FBaseNet(nn.Module):\n",
        "  \"\"\"\n",
        "  Base network that is shared between all tasks\n",
        "  \"\"\"\n",
        "\n",
        "  def __init__(self, hsize=512):\n",
        "    \"\"\"\n",
        "    Initialize parameters of base network\n",
        "\n",
        "    Args:\n",
        "      hsize: int\n",
        "        Size of head in the multi-headed layout\n",
        "\n",
        "    Returns:\n",
        "      Nothing\n",
        "    \"\"\"\n",
        "    super(FBaseNet, self).__init__()\n",
        "    self.l1 = nn.Linear(784, hsize)\n",
        "\n",
        "  def forward(self, x):\n",
        "    \"\"\"\n",
        "    Forward pass of FBaseNet\n",
        "\n",
        "    Args:\n",
        "      x: np.ndarray\n",
        "        Input data\n",
        "\n",
        "    Returns:\n",
        "      x: np.ndarray\n",
        "        Outputs after passing x through first fully connected layer\n",
        "    \"\"\"\n",
        "    x = x.view(x.size(0), -1)\n",
        "    x = F.relu(self.l1(x))\n",
        "    return x\n",
        "\n",
        "class FHeadNet(nn.Module):\n",
        "  \"\"\"\n",
        "  Output layer of FBaseNet which will be separate for each task\n",
        "  \"\"\"\n",
        "\n",
        "  def __init__(self, base_net, input_size=512):\n",
        "    \"\"\"\n",
        "    Initialize parameters of base network\n",
        "\n",
        "    Args:\n",
        "      input_size: int\n",
        "        Size of input [default: 512]\n",
        "\n",
        "    Returns:\n",
        "      Nothing\n",
        "    \"\"\"\n",
        "    super(FHeadNet, self).__init__()\n",
        "\n",
        "    self.base_net = base_net\n",
        "    self.output_layer = nn.Linear(input_size, 2)\n",
        "\n",
        "  def forward(self, x):\n",
        "    \"\"\"\n",
        "    Forward pass of FHeadNet\n",
        "\n",
        "    Args:\n",
        "      x: np.ndarray\n",
        "        Input data\n",
        "\n",
        "    Returns:\n",
        "      x: np.ndarray\n",
        "        Outputs after passing x through output layer\n",
        "    \"\"\"\n",
        "    x = self.base_net.forward(x)\n",
        "    x = self.output_layer(x)\n",
        "    return x"
      ]
    },
    {
      "cell_type": "code",
      "execution_count": 23,
      "metadata": {
        "execution": {},
        "id": "cD9GvwM4dCRv",
        "outputId": "859e9a5e-1bbb-4735-cb17-58aedd3610ec",
        "colab": {
          "base_uri": "https://localhost:8080/"
        }
      },
      "outputs": [
        {
          "output_type": "stream",
          "name": "stdout",
          "text": [
            "Train Epoch: 3 \tLoss: 0.000000\n",
            "Test set: Average loss: 0.0000, Accuracy: 2113/2115 (100%)\n",
            "\n",
            "Train Epoch: 3 \tLoss: 0.277980\n",
            "Test set: Average loss: 0.0031, Accuracy: 1922/2115 (91%)\n",
            "\n",
            "Test set: Average loss: 0.0002, Accuracy: 1854/2042 (91%)\n",
            "\n",
            "Train Epoch: 3 \tLoss: 0.117210\n",
            "Test set: Average loss: 0.0038, Accuracy: 1683/2115 (80%)\n",
            "\n",
            "Test set: Average loss: 0.0008, Accuracy: 1088/2042 (53%)\n",
            "\n",
            "Test set: Average loss: 0.0000, Accuracy: 1835/1874 (98%)\n",
            "\n",
            "Train Epoch: 3 \tLoss: 0.000719\n",
            "Test set: Average loss: 0.0074, Accuracy: 1048/2115 (50%)\n",
            "\n",
            "Test set: Average loss: 0.0007, Accuracy: 1033/2042 (51%)\n",
            "\n",
            "Test set: Average loss: 0.0006, Accuracy: 1194/1874 (64%)\n",
            "\n",
            "Test set: Average loss: 0.0000, Accuracy: 1969/1986 (99%)\n",
            "\n",
            "Train Epoch: 3 \tLoss: 0.383221\n",
            "Test set: Average loss: 0.0032, Accuracy: 1799/2115 (85%)\n",
            "\n",
            "Test set: Average loss: 0.0004, Accuracy: 1138/2042 (56%)\n",
            "\n",
            "Test set: Average loss: 0.0012, Accuracy: 958/1874 (51%)\n",
            "\n",
            "Test set: Average loss: 0.0001, Accuracy: 1790/1986 (90%)\n",
            "\n",
            "Test set: Average loss: 0.0003, Accuracy: 1846/1983 (93%)\n",
            "\n"
          ]
        }
      ],
      "source": [
        "# Define the base network (a new head is defined when we encounter a new task)\n",
        "base = FBaseNet().to(DEVICE)\n",
        "heads = []\n",
        "\n",
        "# Define a list to store test accuracies for each task\n",
        "accs_naive = []\n",
        "\n",
        "# Set the number of epochs to train each task for\n",
        "epochs = 3\n",
        "\n",
        "# Loop through all tasks\n",
        "for task_id in range(tasks_num):\n",
        "  # Collect the training data for the new task\n",
        "  x_train, t_train, _, _ = task_data_with_overlap[task_id]\n",
        "\n",
        "  # Define a new head for this task\n",
        "  model = FHeadNet(base).to(DEVICE)\n",
        "  heads.append(model)\n",
        "\n",
        "  # Set the optimizer\n",
        "  optimizer = optim.SGD(heads[task_id].parameters(), lr=0.01)\n",
        "\n",
        "  # Train the model (with the new head) on the current task\n",
        "  train(heads[task_id], x_train, t_train, optimizer, epochs, device=DEVICE)\n",
        "\n",
        "  # Test the model on all tasks seen so far\n",
        "  accs_subset = []\n",
        "  for i in range(0, task_id + 1):\n",
        "    _, _, x_test, t_test = task_data_with_overlap[i]\n",
        "    test_acc = test(heads[i], x_test, t_test, device=DEVICE)\n",
        "    accs_subset.append(test_acc)\n",
        "  # For unseen tasks, we don't test\n",
        "  if task_id < (tasks_num - 1):\n",
        "    accs_subset.extend([np.nan] * (4 - task_id))\n",
        "  # Collect all test accuracies\n",
        "  accs_naive.append(accs_subset)"
      ]
    },
    {
      "cell_type": "markdown",
      "metadata": {
        "execution": {},
        "id": "x23mgtbxdCRv"
      },
      "source": [
        "As you can see, whenever this network is trained on a new task, its performance on previously learned tasks drops substantially.\n",
        "\n",
        "Now, let's see whether we can use a continual learning strategy to prevent such forgetting."
      ]
    },
    {
      "cell_type": "markdown",
      "metadata": {
        "execution": {},
        "id": "n-u4mVGtdCRv"
      },
      "source": [
        "## Elastic Weight Consolidation (EWC)\n",
        "\n",
        "EWC is a popular CL strategy which involves computing the importance of weights of the network relative to the task using the Fisher score and then penalizing the network for changes to the most important weights of the previous task. \n",
        "\n",
        "It was introduced in the paper \"[Overcoming catastrophic forgetting in neural networks\n",
        "](https://arxiv.org/abs/1612.00796)\". "
      ]
    },
    {
      "cell_type": "markdown",
      "metadata": {
        "execution": {},
        "id": "AXBKzO9CdCRv"
      },
      "source": [
        "For EWC, we need to define a new function to compute the fisher information matrix for each weight at the end of every task:"
      ]
    },
    {
      "cell_type": "code",
      "execution_count": 24,
      "metadata": {
        "execution": {},
        "id": "j2HqtgBudCRv"
      },
      "outputs": [],
      "source": [
        "def on_task_update(task_id, x_train, t_train, model, shared_model, fisher_dict,\n",
        "                   optpar_dict, device):\n",
        "  \"\"\"\n",
        "  Helper function to accumulate gradients to further calculate fisher scores\n",
        "\n",
        "  Args:\n",
        "    task_id: int\n",
        "      ID of the task to be updated\n",
        "    x_train: np.ndarray\n",
        "      Training data\n",
        "    t_train: np.ndarray\n",
        "      Corresponding ground truth of training data\n",
        "    shared_model: FBaseNet instance\n",
        "      Instance of the part of the model that is shared amongst all tasks\n",
        "    fisher_dict: dict\n",
        "      Dictionary with fisher values\n",
        "    optpar_dict: dict\n",
        "      Dictionary with optimal parameter values\n",
        "    device: string\n",
        "      CUDA/GPU if available, CPU otherwise\n",
        "\n",
        "  Returns:\n",
        "    Nothing\n",
        "  \"\"\"\n",
        "  model.train()\n",
        "  optimizer.zero_grad()\n",
        "\n",
        "  # Accumulating gradients\n",
        "  for start in range(0, len(t_train) - 1, 256):\n",
        "    end = start + 256\n",
        "    x = torch.from_numpy(x_train[start:end])\n",
        "    if torch.cuda.is_available():\n",
        "      x = x.type(torch.cuda.FloatTensor)\n",
        "    else:\n",
        "      x = x.type(torch.FloatTensor)\n",
        "    y = torch.from_numpy(t_train[start:end]).long()\n",
        "    x, y = x.to(device), y.to(device)\n",
        "    output = model(x)\n",
        "    loss = F.cross_entropy(output, y)\n",
        "    loss.backward()\n",
        "\n",
        "  fisher_dict[task_id] = {}\n",
        "  optpar_dict[task_id] = {}\n",
        "\n",
        "  # Gradients accumulated can be used to calculate fisher\n",
        "  for name, param in shared_model.named_parameters():\n",
        "    optpar_dict[task_id][name] = param.data.clone()\n",
        "    fisher_dict[task_id][name] = param.grad.data.clone().pow(2)"
      ]
    },
    {
      "cell_type": "markdown",
      "metadata": {
        "execution": {},
        "id": "qWlRr98IdCRv"
      },
      "source": [
        "We also need to modify our train function to add the new regularization loss:"
      ]
    },
    {
      "cell_type": "code",
      "execution_count": 25,
      "metadata": {
        "execution": {},
        "id": "sgdwDQbFdCRw"
      },
      "outputs": [],
      "source": [
        "def train_ewc(model, shared_model, task_id, x_train, t_train, optimizer,\n",
        "              epoch, ewc_lambda, fisher_dict, optpar_dict, device):\n",
        "  \"\"\"\n",
        "  Adding Regularisation loss to training function\n",
        "\n",
        "  Args:\n",
        "    model: FHeadNet instance\n",
        "      Initates a new head network for task\n",
        "    task_id: int\n",
        "      ID of the task to be updated\n",
        "    x_train: np.ndarray\n",
        "      Training data\n",
        "    t_train: np.ndarray\n",
        "      Corresponding ground truth of training data\n",
        "    shared_model: FBaseNet instance\n",
        "      Instance of the part of the model that is shared amongst all tasks\n",
        "    fisher_dict: dict\n",
        "      Dictionary to store fisher values\n",
        "    optpar_dict: dict\n",
        "      Dictionary to store optimal parameter values\n",
        "    device: string\n",
        "      CUDA/GPU if available, CPU otherwise\n",
        "    optimizer: torch.optim type\n",
        "      Implements Adam algorithm.\n",
        "    num_epochs: int\n",
        "      Number of epochs\n",
        "    ewc_lambda: float\n",
        "      EWC hyperparameter\n",
        "\n",
        "  Returns:\n",
        "    Nothing\n",
        "  \"\"\"\n",
        "  model.train()\n",
        "  for start in range(0, len(t_train) - 1, 256):\n",
        "    end = start + 256\n",
        "    x = torch.from_numpy(x_train[start:end])\n",
        "    if torch.cuda.is_available():\n",
        "      x = x.type(torch.cuda.FloatTensor)\n",
        "    else:\n",
        "      x = x.type(torch.FloatTensor)\n",
        "    y = torch.from_numpy(t_train[start:end]).long()\n",
        "    x, y = x.to(device), y.to(device)\n",
        "\n",
        "    optimizer.zero_grad()\n",
        "\n",
        "    output = model(x)\n",
        "    loss = F.cross_entropy(output, y)\n",
        "\n",
        "    for task in range(task_id):\n",
        "      for name, param in shared_model.named_parameters():\n",
        "        fisher = fisher_dict[task][name]\n",
        "        optpar = optpar_dict[task][name]\n",
        "        loss += (fisher * (optpar - param).pow(2)).sum() * ewc_lambda\n",
        "\n",
        "    loss.backward()\n",
        "    optimizer.step()\n",
        "\n",
        "  print(f\"Train Epoch: {epoch} \\tLoss: {loss.item():.6f}\")"
      ]
    },
    {
      "cell_type": "markdown",
      "metadata": {
        "execution": {},
        "id": "fU3mzhLrdCRw"
      },
      "source": [
        "Now let's train with EWC:"
      ]
    },
    {
      "cell_type": "code",
      "execution_count": 26,
      "metadata": {
        "execution": {},
        "id": "WX7EatTQdCRw",
        "outputId": "3e31a166-48d2-457d-cf0f-fcb2bae10592",
        "colab": {
          "base_uri": "https://localhost:8080/"
        }
      },
      "outputs": [
        {
          "output_type": "stream",
          "name": "stdout",
          "text": [
            "Train Epoch: 1 \tLoss: 0.005016\n",
            "Train Epoch: 2 \tLoss: 0.001975\n",
            "Test set: Average loss: 0.0004, Accuracy: 2108/2115 (100%)\n",
            "\n",
            "Train Epoch: 1 \tLoss: 0.512159\n",
            "Train Epoch: 2 \tLoss: 0.362381\n",
            "Test set: Average loss: 0.0010, Accuracy: 1359/2115 (64%)\n",
            "\n",
            "Test set: Average loss: 0.0002, Accuracy: 1962/2042 (96%)\n",
            "\n",
            "Train Epoch: 1 \tLoss: 146.927002\n",
            "Train Epoch: 2 \tLoss: 4718180864.000000\n",
            "Test set: Average loss: 0.0010, Accuracy: 1184/2115 (56%)\n",
            "\n",
            "Test set: Average loss: 0.0005, Accuracy: 1133/2042 (55%)\n",
            "\n",
            "Test set: Average loss: 0.0004, Accuracy: 1129/1874 (60%)\n",
            "\n",
            "Train Epoch: 1 \tLoss: 85282308790585131008.000000\n",
            "Train Epoch: 2 \tLoss: 1601026250981071320143380873216.000000\n",
            "Test set: Average loss: 0.0009, Accuracy: 1497/2115 (71%)\n",
            "\n",
            "Test set: Average loss: 0.0005, Accuracy: 1403/2042 (69%)\n",
            "\n",
            "Test set: Average loss: 0.0024, Accuracy: 908/1874 (48%)\n",
            "\n",
            "Test set: Average loss: 0.0022, Accuracy: 1621/1986 (82%)\n",
            "\n",
            "Train Epoch: 1 \tLoss: nan\n",
            "Train Epoch: 2 \tLoss: nan\n",
            "Test set: Average loss: nan, Accuracy: 980/2115 (46%)\n",
            "\n",
            "Test set: Average loss: nan, Accuracy: 1032/2042 (51%)\n",
            "\n",
            "Test set: Average loss: nan, Accuracy: 982/1874 (52%)\n",
            "\n",
            "Test set: Average loss: nan, Accuracy: 958/1986 (48%)\n",
            "\n",
            "Test set: Average loss: nan, Accuracy: 974/1983 (49%)\n",
            "\n"
          ]
        }
      ],
      "source": [
        "# Define the base network (a new head is defined when we encounter a new task)\n",
        "base = FBaseNet().to(DEVICE)\n",
        "heads = []\n",
        "\n",
        "# Define a list to store test accuracies for each task\n",
        "accs_ewc = []\n",
        "\n",
        "# Set number of epochs\n",
        "epochs = 2\n",
        "\n",
        "# Set EWC hyperparameter\n",
        "ewc_lambda = 0.2\n",
        "\n",
        "# Define dictionaries to store values needed by EWC\n",
        "fisher_dict = {}\n",
        "optpar_dict = {}\n",
        "\n",
        "# Loop through all tasks\n",
        "for task_id in range(tasks_num):\n",
        "    # Collect the training data for the new task\n",
        "    x_train, t_train, _, _ = task_data_with_overlap[task_id]\n",
        "\n",
        "    # Define a new head for this task\n",
        "    model = FHeadNet(base).to(DEVICE)\n",
        "    heads.append(model)\n",
        "\n",
        "    # Set the optimizer\n",
        "    optimizer = optim.SGD(heads[task_id].parameters(), lr=0.01)\n",
        "\n",
        "    # Train the model (with the new head) on the current task\n",
        "    for epoch in range(1, epochs+1):\n",
        "        train_ewc(heads[task_id], heads[task_id].base_net, task_id, x_train,\n",
        "                  t_train, optimizer, epoch, ewc_lambda, fisher_dict,\n",
        "                  optpar_dict, device=DEVICE)\n",
        "    on_task_update(task_id, x_train, t_train, heads[task_id],\n",
        "                   heads[task_id].base_net, fisher_dict, optpar_dict,\n",
        "                   device=DEVICE)\n",
        "\n",
        "    # Test the model on all tasks seen so far\n",
        "    accs_subset = []\n",
        "    for i in range(0, task_id + 1):\n",
        "        _, _, x_test, t_test = task_data_with_overlap[i]\n",
        "        test_acc = test(heads[i], x_test, t_test, device=DEVICE)\n",
        "        accs_subset.append(test_acc)\n",
        "    # For unseen tasks, we don't test\n",
        "    if task_id < (tasks_num - 1):\n",
        "        accs_subset.extend([np.nan] * (4 - task_id))\n",
        "    # Collect all test accuracies\n",
        "    accs_ewc.append(accs_subset)"
      ]
    },
    {
      "cell_type": "code",
      "execution_count": 27,
      "metadata": {
        "cellView": "form",
        "execution": {},
        "id": "y3zhVCOKdCRw",
        "outputId": "7f85bc65-a716-4c7e-9abc-d394a4902f87",
        "colab": {
          "base_uri": "https://localhost:8080/",
          "height": 430
        }
      },
      "outputs": [
        {
          "output_type": "display_data",
          "data": {
            "text/plain": [
              "<Figure size 1080x432 with 3 Axes>"
            ],
            "image/png": "[encoded data removed]"
          },
          "metadata": {
            "image/png": {
              "width": 1061,
              "height": 413
            },
            "needs_background": "light"
          }
        }
      ],
      "source": [
        "# @title Plot Naive vs EWC results\n",
        "\n",
        "# @markdown `seaborn` library should be installed\n",
        "import seaborn as sns\n",
        "\n",
        "fig, axes = plt.subplots(1, 3, figsize=(15, 6))\n",
        "accs_fine_grid = np.array(accs_naive)\n",
        "nan_mask = np.isnan(accs_naive)\n",
        "\n",
        "sns.heatmap(accs_naive, vmin=0, vmax=100, mask=nan_mask, annot=True,fmt='.0f',\n",
        "            yticklabels=range(1, 6), xticklabels=range(1, 6), ax=axes[0],\n",
        "            cbar=False)\n",
        "sns.heatmap(accs_ewc, vmin=0, vmax=100, mask=nan_mask, annot=True,fmt='.0f',\n",
        "            yticklabels=range(1, 6), xticklabels=range(1, 6), ax=axes[1],\n",
        "            cbar=False)\n",
        "\n",
        "axes[0].set_ylabel('Tested on Task')\n",
        "\n",
        "axes[0].set_xlabel('Naive')\n",
        "axes[1].set_xlabel('EWC')\n",
        "\n",
        "axes[2].plot(range(1, 6), np.nanmean(accs_naive, axis=1), linewidth=2.0)\n",
        "axes[2].plot(range(1, 6), np.nanmean(accs_ewc, axis=1), linewidth=2.0)\n",
        "\n",
        "axes[2].legend(['Naive', 'EWC'])\n",
        "axes[2].set_ylabel('Accumulated Accuracy for Seen Tasks')\n",
        "axes[2].set_xlabel('Task Number')\n",
        "plt.show()"
      ]
    },
    {
      "cell_type": "markdown",
      "metadata": {
        "execution": {},
        "id": "QRYAtTdrdCRw"
      },
      "source": [
        "---\n",
        "# Section 3: Continual learning benchmarks\n",
        "\n",
        "*Time estimate: ~30mins*"
      ]
    },
    {
      "cell_type": "markdown",
      "metadata": {
        "execution": {},
        "id": "bnppW6VHdCRw"
      },
      "source": [
        "In this section, we will introduce different ways in which a continual learning problem could be set up."
      ]
    },
    {
      "cell_type": "code",
      "execution_count": 28,
      "metadata": {
        "cellView": "form",
        "execution": {},
        "id": "GfzLI0HedCRw",
        "outputId": "8957b45b-f44c-461f-f400-9e3e18340b2b",
        "colab": {
          "base_uri": "https://localhost:8080/",
          "height": 581,
          "referenced_widgets": [
            "e42e52b65b3241a89a0894c947ef9e84",
            "3ceda265c46c48dda4d72de7ae3052a6",
            "82dd8ee0656f4c2b8a27ea3ed0691368",
            "8a796e0fb60f4d8cb1aee606aef012df",
            "9ca5b146cc934849b9c07dbc773d43a6",
            "00fbbaef5ea2497d9f73384a17eb5f84"
          ]
        }
      },
      "outputs": [
        {
          "output_type": "display_data",
          "data": {
            "text/plain": [
              "Tab(children=(Output(), Output()), _titles={'0': 'Youtube', '1': 'Bilibili'})"
            ],
            "application/vnd.jupyter.widget-view+json": {
              "version_major": 2,
              "version_minor": 0,
              "model_id": "e42e52b65b3241a89a0894c947ef9e84"
            }
          },
          "metadata": {}
        }
      ],
      "source": [
        "# @title Video 3: Benchmarks and different types of continual learning\n",
        "from ipywidgets import widgets\n",
        "\n",
        "out2 = widgets.Output()\n",
        "with out2:\n",
        "  from IPython.display import IFrame\n",
        "  class BiliVideo(IFrame):\n",
        "    def __init__(self, id, page=1, width=400, height=300, **kwargs):\n",
        "      self.id=id\n",
        "      src = \"https://player.bilibili.com/player.html?bvid={0}&page={1}\".format(id, page)\n",
        "      super(BiliVideo, self).__init__(src, width, height, **kwargs)\n",
        "\n",
        "  video = BiliVideo(id=f\"BV1R64y1s7EU\", width=854, height=480, fs=1)\n",
        "  print(\"Video available at https://www.bilibili.com/video/{0}\".format(video.id))\n",
        "  display(video)\n",
        "\n",
        "out1 = widgets.Output()\n",
        "with out1:\n",
        "  from IPython.display import YouTubeVideo\n",
        "  video = YouTubeVideo(id=f\"gQYyFWI3X2s\", width=854, height=480, fs=1, rel=0)\n",
        "  print(\"Video available at https://youtube.com/watch?v=\" + video.id)\n",
        "  display(video)\n",
        "\n",
        "out = widgets.Tab([out1, out2])\n",
        "out.set_title(0, 'Youtube')\n",
        "out.set_title(1, 'Bilibili')\n",
        "\n",
        "# add event to airtable\n",
        "atform.add_event('Video 3: Benchmarks and different types of continual learning')\n",
        "\n",
        "display(out)"
      ]
    },
    {
      "cell_type": "markdown",
      "metadata": {
        "execution": {},
        "id": "NwJ7o74PdCRx"
      },
      "source": [
        "As introduced in the above video, continual learning research certainly does not only use the MNIST dataset.\n",
        "But not to make things more complicated than necessary (and to make sure the examples run in an acceptable amount of time), we continue with the Split MNIST example for now.\n",
        "At the end of this notebook we will take a sneak peak at the CORe50 dataset."
      ]
    },
    {
      "cell_type": "markdown",
      "metadata": {
        "execution": {},
        "id": "oI8-FHQadCRx"
      },
      "source": [
        "Another point made in the video is that continual learning is not a unitary problem, but that there are different types (or 'scenarios') of continual learning:\n",
        "-\t**Task-incremental learning**: an algorithm must incrementally learn a set of clearly distinct tasks (the tasks are clearly distinct because the algorithm is always told which task it must perform)\n",
        "-\t**Domain-incremental learning**: an algorithm must learn the same kind of task but in different contexts or domains\n",
        "-\t**Class-incremental learning**: an algorithm must incrementally learn to distinguish between an increasing number of classes."
      ]
    },
    {
      "cell_type": "markdown",
      "metadata": {
        "execution": {},
        "id": "RSHG0_ECdCRx"
      },
      "source": [
        "![table.png](data:image/png;base64,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)"
      ]
    },
    {
      "cell_type": "markdown",
      "metadata": {
        "execution": {},
        "id": "xIUcLZ3rdCRx"
      },
      "source": [
        "These continual learning scenarios can be distinguished from each other based on whether task identity information (or the task label) is provided to the algorithm, and – if it is not – whether task identity must be inferred (see schematic in the lecture slides).\n",
        "\n",
        "In [this paper](https://arxiv.org/abs/1904.07734) you can find more details about these different types of continual learning."
      ]
    },
    {
      "cell_type": "markdown",
      "metadata": {
        "execution": {},
        "id": "39-55thOdCRy"
      },
      "source": [
        "## Task-incremental Split MNIST *versus* class-incremental Split MNIST\n",
        "\n",
        "Now, let's get back to our Split MNIST example. To start with, let's identify according to which scenario Split MNIST was performed in the previous section.\n",
        "\n",
        "Recall that the Split MNIST problem consists of five tasks, whereby each task contains two digits. In the previous section, the model was set-up in such a way that it had a separate output layer for each of these tasks (this is typically called a '*multi-headed output layer*'). At test time, the model then used the output layer of the task to which the example to be classified belonged. This means that it was assumed that the model always knows which task it must perform, so this was an example of **task-incremental learning**.\n",
        "\n",
        "In the continual learning literature. this variant of Split MNIST is also referred to as ***multi-headed Split MNIST***.\n",
        "However, although a multi-headed output layer is probably the most common way to use task identity information, it is not the only way (for example, see [this paper](https://doi.org/10.1073/pnas.1803839115))."
      ]
    },
    {
      "cell_type": "markdown",
      "metadata": {
        "execution": {},
        "id": "Qk7gYx_3dCRy"
      },
      "source": [
        "Now, let's reorganize the Split MNIST problem to set it up as a **class-incremental learning** problem. That is, task information is no longer provided to the model; and the model must be able to decide itself to which task a test sample belongs.\n",
        "This means that, after all tasks have been learned, the model must now choose between all ten digits.\n",
        "This variant of Split MNIST is also referred to as ***single-headed Split MNIST***."
      ]
    },
    {
      "cell_type": "code",
      "execution_count": 29,
      "metadata": {
        "execution": {},
        "id": "ocb8JMZbdCRy",
        "outputId": "b70e2645-334e-4273-a112-e84e065cd220",
        "colab": {
          "base_uri": "https://localhost:8080/"
        }
      },
      "outputs": [
        {
          "output_type": "stream",
          "name": "stdout",
          "text": [
            "x_train dim: (60000, 1, 28, 28) and type: uint8\n",
            "t_train dim: (60000,) and type: int64\n",
            "x_train dim: (10000, 1, 28, 28) and type: uint8\n",
            "t_train dim: (10000,) and type: int64\n"
          ]
        }
      ],
      "source": [
        "# Load the MNIST dataset\n",
        "x_train, t_train, x_test, t_test = load_mnist(mnist_train, mnist_test,\n",
        "                                              verbose=True)\n",
        "\n",
        "# Define which classes are part of each task\n",
        "classes_per_task = [(0, 1), (2, 3), (4, 5), (6, 7), (8, 9)]\n",
        "\n",
        "# Divide the MNIST dataset in tasks\n",
        "task_data = []\n",
        "for _, classes_in_this_task in enumerate(classes_per_task):\n",
        "\n",
        "  # Which data-points belong to the classes in the current task?\n",
        "  train_mask = np.isin(t_train, classes_in_this_task)\n",
        "  test_mask = np.isin(t_test, classes_in_this_task)\n",
        "  x_train_task, t_train_task = x_train[train_mask], t_train[train_mask]\n",
        "  x_test_task, t_test_task = x_test[test_mask], t_test[test_mask]\n",
        "\n",
        "  # Add the data for the current task\n",
        "  task_data.append((x_train_task, t_train_task, x_test_task, t_test_task))\n",
        "\n",
        "# In contrast to the task-incremental version of Split MNIST explored in the\n",
        "# last section, now task identity information will not be provided to the model"
      ]
    },
    {
      "cell_type": "markdown",
      "metadata": {
        "execution": {},
        "id": "-NHM4D-8dCRy"
      },
      "source": [
        "## Example: EWC on the class-incremental version of Split MNIST\n",
        "\n",
        "Let's now try the EWC method on this class-incremental version of Split MNIST."
      ]
    },
    {
      "cell_type": "code",
      "execution_count": 30,
      "metadata": {
        "execution": {},
        "id": "UiHR7QkVdCRy",
        "outputId": "c21ad931-d8d8-4c61-960f-82eee1b8f44f",
        "colab": {
          "base_uri": "https://localhost:8080/"
        }
      },
      "outputs": [
        {
          "output_type": "stream",
          "name": "stdout",
          "text": [
            "Training on task:  0\n",
            "Train Epoch: 1 \tLoss: 0.433860\n",
            "Testing on task: 0\n",
            "Test set: Average loss: 0.0000, Accuracy: 2109/2115 (100%)\n",
            "\n",
            "Testing on task: 1\n",
            "Test set: Average loss: 0.0060, Accuracy: 0/2042 (0%)\n",
            "\n",
            "Testing on task: 2\n",
            "Test set: Average loss: 0.0068, Accuracy: 0/1874 (0%)\n",
            "\n",
            "Testing on task: 3\n",
            "Test set: Average loss: 0.0078, Accuracy: 0/1986 (0%)\n",
            "\n",
            "Testing on task: 4\n",
            "Test set: Average loss: 0.0079, Accuracy: 0/1983 (0%)\n",
            "\n",
            "Avg acc: 19.94326241134752\n",
            "Training on task:  1\n",
            "Train Epoch: 1 \tLoss: 1.469695\n",
            "Testing on task: 0\n",
            "Test set: Average loss: 0.0016, Accuracy: 131/2115 (6%)\n",
            "\n",
            "Testing on task: 1\n",
            "Test set: Average loss: 0.0004, Accuracy: 1770/2042 (87%)\n",
            "\n",
            "Testing on task: 2\n",
            "Test set: Average loss: 0.0024, Accuracy: 1/1874 (0%)\n",
            "\n",
            "Testing on task: 3\n",
            "Test set: Average loss: 0.0031, Accuracy: 0/1986 (0%)\n",
            "\n",
            "Testing on task: 4\n",
            "Test set: Average loss: 0.0041, Accuracy: 0/1983 (0%)\n",
            "\n",
            "Avg acc: 18.585388195982397\n",
            "Training on task:  2\n",
            "Train Epoch: 1 \tLoss: 1.482614\n",
            "Testing on task: 0\n",
            "Test set: Average loss: 0.0015, Accuracy: 248/2115 (12%)\n",
            "\n",
            "Testing on task: 1\n",
            "Test set: Average loss: 0.0013, Accuracy: 401/2042 (20%)\n",
            "\n",
            "Testing on task: 2\n",
            "Test set: Average loss: 0.0006, Accuracy: 1633/1874 (87%)\n",
            "\n",
            "Testing on task: 3\n",
            "Test set: Average loss: 0.0029, Accuracy: 0/1986 (0%)\n",
            "\n",
            "Testing on task: 4\n",
            "Test set: Average loss: 0.0036, Accuracy: 0/1983 (0%)\n",
            "\n",
            "Avg acc: 23.700637281030083\n",
            "Training on task:  3\n",
            "Train Epoch: 1 \tLoss: 2.346762\n",
            "Testing on task: 0\n",
            "Test set: Average loss: 0.0016, Accuracy: 212/2115 (10%)\n",
            "\n",
            "Testing on task: 1\n",
            "Test set: Average loss: 0.0015, Accuracy: 380/2042 (19%)\n",
            "\n",
            "Testing on task: 2\n",
            "Test set: Average loss: 0.0014, Accuracy: 283/1874 (15%)\n",
            "\n",
            "Testing on task: 3\n",
            "Test set: Average loss: 0.0013, Accuracy: 807/1986 (41%)\n",
            "\n",
            "Testing on task: 4\n",
            "Test set: Average loss: 0.0017, Accuracy: 2/1983 (0%)\n",
            "\n",
            "Avg acc: 16.893906620648956\n",
            "Training on task:  4\n",
            "Train Epoch: 1 \tLoss: 2.538942\n",
            "Testing on task: 0\n",
            "Test set: Average loss: 0.0017, Accuracy: 99/2115 (5%)\n",
            "\n",
            "Testing on task: 1\n",
            "Test set: Average loss: 0.0015, Accuracy: 273/2042 (13%)\n",
            "\n",
            "Testing on task: 2\n",
            "Test set: Average loss: 0.0015, Accuracy: 309/1874 (16%)\n",
            "\n",
            "Testing on task: 3\n",
            "Test set: Average loss: 0.0015, Accuracy: 197/1986 (10%)\n",
            "\n",
            "Testing on task: 4\n",
            "Test set: Average loss: 0.0015, Accuracy: 648/1983 (33%)\n",
            "\n",
            "Avg acc: 15.427217589063957\n"
          ]
        }
      ],
      "source": [
        "# Define the model and the optimzer\n",
        "model = Net().to(DEVICE)\n",
        "optimizer = optim.SGD(model.parameters(), lr=0.001)\n",
        "\n",
        "# Set 'lambda', the hyperparameter of EWC\n",
        "ewc_lambda = 0.2\n",
        "\n",
        "# Define dictionaries to store values needed by EWC\n",
        "fisher_dict = {}\n",
        "optpar_dict = {}\n",
        "\n",
        "# Prepare list to store average accuracies after each task\n",
        "ewc_accs = []\n",
        "\n",
        "# Loop through all tasks\n",
        "for id, task in enumerate(task_data):\n",
        "\n",
        "  # Collect training data\n",
        "  x_train, t_train, _, _ = task\n",
        "\n",
        "  # Training with EWC\n",
        "  print(\"Training on task: \", id)\n",
        "  for epoch in range(1, 2):\n",
        "    train_ewc(model, model, id, x_train, t_train, optimizer, epoch,\n",
        "              ewc_lambda, fisher_dict, optpar_dict, device=DEVICE)\n",
        "\n",
        "  on_task_update(id, x_train, t_train, model, model, fisher_dict,\n",
        "                 optpar_dict, device=DEVICE)\n",
        "\n",
        "  # Evaluate performance after training on this task\n",
        "  avg_acc = 0\n",
        "  for id_test, task in enumerate(task_data):\n",
        "    print(f\"Testing on task: {id_test}\")\n",
        "    _, _, x_test, t_test = task\n",
        "    acc = test(model, x_test, t_test, device=DEVICE)\n",
        "    avg_acc = avg_acc + acc\n",
        "\n",
        "  print(f\"Avg acc: {avg_acc / len(task_data)}\")\n",
        "  ewc_accs.append(avg_acc / len(task_data))"
      ]
    },
    {
      "cell_type": "markdown",
      "metadata": {
        "execution": {},
        "id": "An32OR_MdCRy"
      },
      "source": [
        "That didn't work well..."
      ]
    },
    {
      "cell_type": "markdown",
      "metadata": {
        "execution": {},
        "id": "z_nmubB-dCRy"
      },
      "source": [
        "The model only correctly predicts the classes from the last task it has seen, all earlier seen classes seem to be forgotten."
      ]
    },
    {
      "cell_type": "markdown",
      "metadata": {
        "execution": {},
        "id": "CxEoA-E4dCRz"
      },
      "source": [
        "You might wonder whether the reason that EWC performed so badly in the above example is because we chose an unsuitable value for the hyperparameter lambda.\n",
        "Although we don't have time to demonstrate this, there are no values of lambda that would lead to good performance.\n",
        "\n",
        "In general, parameter regularization based methods, such as EWC, have been found not to work well on class-incremental learning problems."
      ]
    },
    {
      "cell_type": "markdown",
      "metadata": {
        "execution": {},
        "id": "-WhTD7kjdCRz"
      },
      "source": [
        "## Replay\n",
        "\n",
        "As discussed in the lecture of the previous section, another popular continual learning strategy is replay. Let's see whether replay works better on the class-incremental learning version of Split MNIST than EWC did."
      ]
    },
    {
      "cell_type": "markdown",
      "metadata": {
        "execution": {},
        "id": "RIDL02C7dCRz"
      },
      "source": [
        "One implementation of replay is to simply store all data from previously seen tasks, and to then, whenever a new task must be learned, mix in that stored data with the training data of the new task.\n",
        "\n",
        "To achieve this form of replay, let's define the following function for shuffling multiple datasets (e.g., the data from previous tasks with the data from the current task) together:"
      ]
    },
    {
      "cell_type": "code",
      "execution_count": 31,
      "metadata": {
        "execution": {},
        "id": "SN2uoPB2dCRz"
      },
      "outputs": [],
      "source": [
        "def shuffle_datasets(dataset, seed, in_place=False):\n",
        "  \"\"\"\n",
        "  Shuffle a list of two (or more) datasets.\n",
        "\n",
        "  Args:\n",
        "    dataset: np.ndarray\n",
        "      Dataset\n",
        "    seed: Integer\n",
        "      A non-negative integer that defines the random state.\n",
        "    in_place: boolean\n",
        "      If True, shuffle datasets in place\n",
        "\n",
        "  Returns:\n",
        "    Nothing\n",
        "  \"\"\"\n",
        "\n",
        "  np.random.seed(seed)\n",
        "  rng_state = np.random.get_state()\n",
        "  new_dataset = []\n",
        "  for x in dataset:\n",
        "    if in_place:\n",
        "      np.random.shuffle(x)\n",
        "    else:\n",
        "      new_dataset.append(np.random.permutation(x))\n",
        "    np.random.set_state(rng_state)\n",
        "\n",
        "  if not in_place:\n",
        "    return new_dataset"
      ]
    },
    {
      "cell_type": "markdown",
      "metadata": {
        "execution": {},
        "id": "1XK7s-QTdCRz"
      },
      "source": [
        "Note that this form of replay is somewhat extreme, as it stores all the training data from previous tasks. In practice, replay is often implemented in ways that store less data, for example either by using relatively small memory buffers (see [this paper](https://arxiv.org/abs/1902.10486)) or by learning a generative model to then generate the data to be replayed (see [this paper](https://arxiv.org/abs/1705.08690) or [this paper](https://www.nature.com/articles/s41467-020-17866-2))."
      ]
    },
    {
      "cell_type": "markdown",
      "metadata": {
        "execution": {},
        "id": "V-JwZgdzdCRz"
      },
      "source": [
        "## Example: Test replay on the class-incremental version of Split MNIST\n",
        "\n",
        "Let's try whether this replay strategy works better than EWC."
      ]
    },
    {
      "cell_type": "code",
      "execution_count": 32,
      "metadata": {
        "execution": {},
        "id": "admd9iogdCRz",
        "outputId": "fc8d4190-3873-4808-ce01-7f8266e24190",
        "colab": {
          "base_uri": "https://localhost:8080/"
        }
      },
      "outputs": [
        {
          "output_type": "stream",
          "name": "stdout",
          "text": [
            "Training on task: 0\n",
            "Train Epoch: 1 \tLoss: 0.097984\n",
            "Train Epoch: 2 \tLoss: 0.071098\n",
            "Testing on task: 0\n",
            "Test set: Average loss: 0.0000, Accuracy: 2115/2115 (100%)\n",
            "\n",
            "Testing on task: 1\n",
            "Test set: Average loss: 0.0089, Accuracy: 0/2042 (0%)\n",
            "\n",
            "Testing on task: 2\n",
            "Test set: Average loss: 0.0129, Accuracy: 0/1874 (0%)\n",
            "\n",
            "Testing on task: 3\n",
            "Test set: Average loss: 0.0123, Accuracy: 0/1986 (0%)\n",
            "\n",
            "Testing on task: 4\n",
            "Test set: Average loss: 0.0093, Accuracy: 0/1983 (0%)\n",
            "\n",
            "Avg acc: 20.0\n",
            "Training on task: 1\n",
            "Train Epoch: 1 \tLoss: 0.506151\n",
            "Train Epoch: 2 \tLoss: 0.363073\n",
            "Testing on task: 0\n",
            "Test set: Average loss: 0.0000, Accuracy: 2094/2115 (99%)\n",
            "\n",
            "Testing on task: 1\n",
            "Test set: Average loss: 0.0000, Accuracy: 1978/2042 (97%)\n",
            "\n",
            "Testing on task: 2\n",
            "Test set: Average loss: 0.0041, Accuracy: 0/1874 (0%)\n",
            "\n",
            "Testing on task: 3\n",
            "Test set: Average loss: 0.0042, Accuracy: 0/1986 (0%)\n",
            "\n",
            "Testing on task: 4\n",
            "Test set: Average loss: 0.0039, Accuracy: 0/1983 (0%)\n",
            "\n",
            "Avg acc: 39.17458200484854\n",
            "Training on task: 2\n",
            "Train Epoch: 1 \tLoss: 0.622386\n",
            "Train Epoch: 2 \tLoss: 0.430835\n",
            "Testing on task: 0\n",
            "Test set: Average loss: 0.0000, Accuracy: 2093/2115 (99%)\n",
            "\n",
            "Testing on task: 1\n",
            "Test set: Average loss: 0.0000, Accuracy: 1988/2042 (97%)\n",
            "\n",
            "Testing on task: 2\n",
            "Test set: Average loss: 0.0000, Accuracy: 1802/1874 (96%)\n",
            "\n",
            "Testing on task: 3\n",
            "Test set: Average loss: 0.0020, Accuracy: 0/1986 (0%)\n",
            "\n",
            "Testing on task: 4\n",
            "Test set: Average loss: 0.0018, Accuracy: 0/1983 (0%)\n",
            "\n",
            "Avg acc: 58.494659114451316\n",
            "Training on task: 3\n",
            "Train Epoch: 1 \tLoss: 0.602595\n",
            "Train Epoch: 2 \tLoss: 0.476924\n",
            "Testing on task: 0\n",
            "Test set: Average loss: 0.0000, Accuracy: 2080/2115 (98%)\n",
            "\n",
            "Testing on task: 1\n",
            "Test set: Average loss: 0.0000, Accuracy: 1991/2042 (98%)\n",
            "\n",
            "Testing on task: 2\n",
            "Test set: Average loss: 0.0000, Accuracy: 1798/1874 (96%)\n",
            "\n",
            "Testing on task: 3\n",
            "Test set: Average loss: 0.0000, Accuracy: 1920/1986 (97%)\n",
            "\n",
            "Testing on task: 4\n",
            "Test set: Average loss: 0.0013, Accuracy: 0/1983 (0%)\n",
            "\n",
            "Avg acc: 77.69376862791454\n",
            "Training on task: 4\n",
            "Train Epoch: 1 \tLoss: 0.512427\n",
            "Train Epoch: 2 \tLoss: 0.536588\n",
            "Testing on task: 0\n",
            "Test set: Average loss: 0.0000, Accuracy: 2081/2115 (98%)\n",
            "\n",
            "Testing on task: 1\n",
            "Test set: Average loss: 0.0000, Accuracy: 1998/2042 (98%)\n",
            "\n",
            "Testing on task: 2\n",
            "Test set: Average loss: 0.0000, Accuracy: 1805/1874 (96%)\n",
            "\n",
            "Testing on task: 3\n",
            "Test set: Average loss: 0.0000, Accuracy: 1883/1986 (95%)\n",
            "\n",
            "Testing on task: 4\n",
            "Test set: Average loss: 0.0000, Accuracy: 1826/1983 (92%)\n",
            "\n",
            "Avg acc: 95.89042397514572\n"
          ]
        }
      ],
      "source": [
        "# Define the model and the optimizer\n",
        "model = Net().to(DEVICE)\n",
        "optimizer = optim.SGD(model.parameters(), lr=0.01)\n",
        "\n",
        "# Prepare list to store average accuracies after each task\n",
        "rehe_accs = []\n",
        "\n",
        "# Loop through all tasks\n",
        "for id, task in enumerate(task_data):\n",
        "\n",
        "  # Collect training data\n",
        "  x_train, t_train, _, _ = task\n",
        "\n",
        "  # Add replay\n",
        "  for i in range(id):\n",
        "    past_x_train, past_t_train, _, _ = task_data[i]\n",
        "    x_train = np.concatenate((x_train, past_x_train))\n",
        "    t_train = np.concatenate((t_train, past_t_train))\n",
        "\n",
        "  x_train, t_train = shuffle_datasets([x_train, t_train], seed=SEED)\n",
        "\n",
        "  # Training\n",
        "  print(f\"Training on task: {id}\")\n",
        "  for epoch in range(1, 3):\n",
        "    train(model, x_train, t_train, optimizer, epoch, device=DEVICE)\n",
        "\n",
        "  # Evaluate performance after training on this task\n",
        "  avg_acc = 0\n",
        "  for id_test, task in enumerate(task_data):\n",
        "    print(f\"Testing on task: {id_test}\")\n",
        "    _, _, x_test, t_test = task\n",
        "    acc = test(model, x_test, t_test, device=DEVICE)\n",
        "    avg_acc = avg_acc + acc\n",
        "\n",
        "  print(f\"Avg acc: {avg_acc / len(task_data)}\")\n",
        "  rehe_accs.append(avg_acc/len(task_data))"
      ]
    },
    {
      "cell_type": "markdown",
      "metadata": {
        "execution": {},
        "id": "HSYFydICdCR0"
      },
      "source": [
        "And finally, let's compare the performance of EWC and Replay on the class-incremental version of Split MNIST in a plot:"
      ]
    },
    {
      "cell_type": "code",
      "execution_count": 33,
      "metadata": {
        "cellView": "form",
        "execution": {},
        "id": "3N_Lc6uEdCR0",
        "outputId": "618dfec7-51c7-402d-a450-fa8bb0751f9f",
        "colab": {
          "base_uri": "https://localhost:8080/",
          "height": 430
        }
      },
      "outputs": [
        {
          "output_type": "display_data",
          "data": {
            "text/plain": [
              "<Figure size 576x432 with 1 Axes>"
            ],
            "image/png": "[encoded data removed]"
          },
          "metadata": {
            "image/png": {
              "width": 558,
              "height": 413
            },
            "needs_background": "light"
          }
        }
      ],
      "source": [
        "# @title Plot EWC vs. Replay\n",
        "plt.plot([1, 2, 3, 4, 5], rehe_accs, '-o', label=\"Replay\")\n",
        "plt.plot([1, 2, 3, 4, 5], ewc_accs, '-o', label=\"EWC\")\n",
        "plt.xlabel('Tasks Encountered', fontsize=14)\n",
        "plt.ylabel('Average Accuracy', fontsize=14)\n",
        "plt.title('CL Strategies on Class-incremental version of Split MNIST',\n",
        "          fontsize=14);\n",
        "plt.xticks([1, 2, 3, 4, 5])\n",
        "plt.legend(prop={'size': 16})\n",
        "plt.show()"
      ]
    },
    {
      "cell_type": "markdown",
      "metadata": {
        "execution": {},
        "id": "liDGtqW3dCR0"
      },
      "source": [
        "## Exercise 3: Identify the continual learning scenario of the permuted MNIST example from Section 1\n",
        "\n",
        "What type of 'scenario' was the permuted MNIST problem that was introduced in Section 1? Was it task-incremental, domain-incremental or class-incremental? Try to motivate your answer."
      ]
    },
    {
      "cell_type": "code",
      "execution_count": 34,
      "metadata": {
        "execution": {},
        "id": "EsnNgEqwdCR0"
      },
      "outputs": [],
      "source": [
        "# to_remove explanation\n",
        "\n",
        "'''\n",
        "The Permuted MNIST problem in Section 1 is an example of domain-incremental\n",
        "learning.\n",
        "\n",
        "Recall that this problem consisted of two tasks: normal MNIST (task 1) and MNIST\n",
        "with permuted input images (task 2).\n",
        "When the model is evaluated after learning both tasks, the model is not told to\n",
        "which task an image belongs (i.e., the model is not told whether the image be\n",
        "classified is permuted or not), but the model also does not need to identify to\n",
        "which task an image belongs (i.e., the model does not need to predict whether\n",
        "the image to be classified has permuted pixels or not; it only needs to predict\n",
        "the original digit displayed in the image).\n",
        "\n",
        "Another way to motivate that this problem is an example of domain-incremental\n",
        "learning, is to say that in both task 1 (normal MNIST) and task 2 (MNIST with\n",
        "permuted input images), the 'type of problem' is the same (i.e., to identify the\n",
        "digit displayed in the original image), but the 'context' is changing (i.e.,\n",
        "the order in which the image pixels are presented).\n",
        "''';"
      ]
    },
    {
      "cell_type": "markdown",
      "metadata": {
        "execution": {},
        "id": "-f5nXrg_dCR0"
      },
      "source": [
        "---\n",
        "# Section 4: Evaluation of continual learning algorithms\n",
        "\n",
        "*Time estimate: ~20mins*"
      ]
    },
    {
      "cell_type": "markdown",
      "metadata": {
        "execution": {},
        "id": "xjO7MjVydCR0"
      },
      "source": [
        "Understanding how your CL algorithm is performing is key to gain insights on its behavior and to decide how to improve it. \n",
        "\n",
        "Here, we will focus on how to build some of the most important CL metrics!"
      ]
    },
    {
      "cell_type": "code",
      "execution_count": 35,
      "metadata": {
        "cellView": "form",
        "execution": {},
        "id": "andEWg2fdCR0",
        "outputId": "80ca606b-f65c-4f70-d8cf-f0450db8e5de",
        "colab": {
          "base_uri": "https://localhost:8080/",
          "height": 581,
          "referenced_widgets": [
            "3307fe147cf14bf183108593a528712d",
            "e90c7e1943214a00bd498af53a604074",
            "feb04f5522e4473582ffefbe10486b7d",
            "fb30e7fedb654319b320540c3bc151f9",
            "b4bf6cf4df0940aeaf556ca7cbc555ff",
            "5eaba03fce884f2694f9a458a39ac939"
          ]
        }
      },
      "outputs": [
        {
          "output_type": "display_data",
          "data": {
            "text/plain": [
              "Tab(children=(Output(), Output()), _titles={'0': 'Youtube', '1': 'Bilibili'})"
            ],
            "application/vnd.jupyter.widget-view+json": {
              "version_major": 2,
              "version_minor": 0,
              "model_id": "3307fe147cf14bf183108593a528712d"
            }
          },
          "metadata": {}
        }
      ],
      "source": [
        "# @title Video 4: Continual Learning Evaluation\n",
        "from ipywidgets import widgets\n",
        "\n",
        "out2 = widgets.Output()\n",
        "with out2:\n",
        "  from IPython.display import IFrame\n",
        "  class BiliVideo(IFrame):\n",
        "    def __init__(self, id, page=1, width=400, height=300, **kwargs):\n",
        "      self.id=id\n",
        "      src = \"https://player.bilibili.com/player.html?bvid={0}&page={1}\".format(id, page)\n",
        "      super(BiliVideo, self).__init__(src, width, height, **kwargs)\n",
        "\n",
        "  video = BiliVideo(id=f\"BV1aq4y1H7SH\", width=854, height=480, fs=1)\n",
        "  print(\"Video available at https://www.bilibili.com/video/{0}\".format(video.id))\n",
        "  display(video)\n",
        "\n",
        "out1 = widgets.Output()\n",
        "with out1:\n",
        "  from IPython.display import YouTubeVideo\n",
        "  video = YouTubeVideo(id=f\"tR-5zraPOto\", width=854, height=480, fs=1, rel=0)\n",
        "  print(\"Video available at https://youtube.com/watch?v=\" + video.id)\n",
        "  display(video)\n",
        "\n",
        "out = widgets.Tab([out1, out2])\n",
        "out.set_title(0, 'Youtube')\n",
        "out.set_title(1, 'Bilibili')\n",
        "\n",
        "# add event to airtable\n",
        "atform.add_event('Video 4: Continual Learning Evaluation')\n",
        "\n",
        "display(out)"
      ]
    },
    {
      "cell_type": "markdown",
      "metadata": {
        "execution": {},
        "id": "GldxLAdLdCR0"
      },
      "source": [
        "We will now simulate the data for T tasks and record all the accuracy values in a single TxT matrix."
      ]
    },
    {
      "cell_type": "markdown",
      "metadata": {
        "execution": {},
        "id": "nKdN7rNtdCR1"
      },
      "source": [
        "## Section 4.1: Average Accuracy\n",
        "\n",
        "The Average Accuracy (ACC) metric computes the average accuracy over all tasks."
      ]
    },
    {
      "cell_type": "code",
      "execution_count": 36,
      "metadata": {
        "execution": {},
        "id": "ZCVCe6tYdCR1"
      },
      "outputs": [],
      "source": [
        "def ACC(result_matrix):\n",
        "  \"\"\"\n",
        "  Average Accuracy metric\n",
        "\n",
        "  Args:\n",
        "    result_matrix: np.ndarray\n",
        "      TxT matrix containing accuracy values in each (i, j) entry.\n",
        "      (i, j) -> test accuracy on task j after training on task i\n",
        "\n",
        "  Returns:\n",
        "    acc: float\n",
        "      Average accuracy over all tasks\n",
        "    final_accs:  np.ndarray\n",
        "      Accuracies after training extracted from result matrix\n",
        "  \"\"\"\n",
        "\n",
        "  final_accs = abs(result_matrix[-1, :])  # Take accuracies after final training\n",
        "  acc = np.mean(final_accs)  # Compute average\n",
        "\n",
        "  return acc, final_accs"
      ]
    },
    {
      "cell_type": "markdown",
      "metadata": {
        "execution": {},
        "id": "LkOi8NtJdCR1"
      },
      "source": [
        "## Section 4.2: Backward Transfer\n",
        "\n",
        "The Backward Transfer (BWT) metric of task i computes the accuracy on task i after training on last task **minus** the accuracy on task i after training on task i.\n",
        "\n",
        "To get the average BWT you have to average across all tasks.\n",
        "\n",
        "**Negative BWT expresses the amount of forgetting suffered by the algorithm.**\n"
      ]
    },
    {
      "cell_type": "code",
      "execution_count": 37,
      "metadata": {
        "execution": {},
        "id": "k2vXS5hAdCR1"
      },
      "outputs": [],
      "source": [
        "def BWT(result_matrix):\n",
        "  \"\"\"\n",
        "  Backward Transfer metric\n",
        "\n",
        "  Args:\n",
        "    result_matrix: np.ndarray\n",
        "      TxT matrix containing accuracy values in each (i, j) entry.\n",
        "      (i, j) -> test accuracy on task j after training on task i\n",
        "\n",
        "  Returns:\n",
        "    task_bwt: np.ndarray\n",
        "      BWT for each task\n",
        "    average_bwt: float\n",
        "      Average BWT across all tasks\n",
        "  \"\"\"\n",
        "\n",
        "  final_accs = result_matrix[-1, :]  # Take accuracies after final training\n",
        "  # Accuracies on task i right after training on task i, for all i\n",
        "  training_accs = np.diag(result_matrix)\n",
        "  task_bwt = final_accs - training_accs  # BWT for each task\n",
        "  average_bwt = np.mean(task_bwt)  # Compute average\n",
        "\n",
        "  return average_bwt, task_bwt"
      ]
    },
    {
      "cell_type": "markdown",
      "metadata": {
        "execution": {},
        "id": "u06-nIqjdCR1"
      },
      "source": [
        "### Coding Exercise 4.2: Evaluate your CL algorithm"
      ]
    },
    {
      "cell_type": "markdown",
      "metadata": {
        "execution": {},
        "id": "v2d1xsFTdCR1"
      },
      "source": [
        "You should replace the ellipses, i.e., `...`, with your code. You should train 5 tasks and your result_matrix is [0,1] values from a randomly sampled distribution. \n",
        "\n",
        "This is the only cell you have to modify :)\n",
        "\n",
        "**Hint:** Use `np.random.choice` with weight values `p = [0.1, 0.9]`.\n"
      ]
    },
    {
      "cell_type": "code",
      "execution_count": 38,
      "metadata": {
        "execution": {},
        "id": "67ssDPf3dCR1",
        "outputId": "e6614dda-52f2-4098-883e-4f8f03e1c24d",
        "colab": {
          "base_uri": "https://localhost:8080/"
        }
      },
      "outputs": [
        {
          "output_type": "stream",
          "name": "stdout",
          "text": [
            "Random seed 2021 has been set.\n"
          ]
        }
      ],
      "source": [
        "def make_result_matrix(T):\n",
        "  \"\"\"\n",
        "  Create a TxT matrix with values between 0 and 1 to\n",
        "  be used to compute the metrics.\n",
        "\n",
        "  Args:\n",
        "    T : int\n",
        "      The number of tasks\n",
        "\n",
        "  Returns:\n",
        "    result_matrix : numpy.array\n",
        "      A TxT matrix\n",
        "  \"\"\"\n",
        "  #################################################\n",
        "  ## TODO for students: update the value of the parameter ##\n",
        "  raise NotImplementedError(\"Student exercise: implement the mask\")\n",
        "  #################################################\n",
        "  distribution = np.random.rand(T**2)\n",
        "  # Create a random mask\n",
        "  mask = ...\n",
        "  distribution[mask] = np.nan\n",
        "\n",
        "  result_matrix = []\n",
        "  count = 0\n",
        "  for j in range(T):\n",
        "    temp = []\n",
        "    for i in range(T):\n",
        "      temp.append(distribution[count])\n",
        "      count += 1\n",
        "    result_matrix.append(temp)\n",
        "  result_matrix = np.array(result_matrix)\n",
        "\n",
        "  return result_matrix\n",
        "\n",
        "\n",
        "# Add event to airtable\n",
        "atform.add_event('Coding Exercise 4.2: Evaluate your CL algorithm')\n",
        "\n",
        "set_seed(seed=SEED)\n",
        "T = len(rehe_accs)  # Number of tasks\n",
        "## Uncomment below to test you function\n",
        "# result_matrix = make_result_matrix(T)\n",
        "# print(result_matrix)"
      ]
    },
    {
      "cell_type": "code",
      "execution_count": 39,
      "metadata": {
        "execution": {},
        "id": "62HyaY4DdCR1",
        "outputId": "2ecf32d2-555c-4f9c-e8a2-4560ebc40ef2",
        "colab": {
          "base_uri": "https://localhost:8080/"
        }
      },
      "outputs": [
        {
          "output_type": "stream",
          "name": "stdout",
          "text": [
            "Random seed 2021 has been set.\n",
            "[[0.60597828 0.73336936 0.13894716 0.31267308        nan]\n",
            " [0.12816238 0.17899311 0.75292543 0.66216051 0.78431013]\n",
            " [0.0968944  0.05857129 0.96239599 0.61655744 0.08662996]\n",
            " [0.56127236 0.61652471 0.96384302 0.57430429 0.37116085]\n",
            " [0.45214524 0.20185025 0.56930512 0.19509597 0.58370402]]\n"
          ]
        }
      ],
      "source": [
        "# to_remove solution\n",
        "def make_result_matrix(T):\n",
        "  \"\"\"\n",
        "  Create a TxT matrix with values between 0 and 1 to\n",
        "  be used to compute the metrics.\n",
        "\n",
        "  Args:\n",
        "    T : int\n",
        "      The number of tasks\n",
        "\n",
        "  Returns:\n",
        "    result_matrix : numpy.array\n",
        "      A TxT matrix\n",
        "  \"\"\"\n",
        "  distribution = np.random.rand(T**2)\n",
        "  # Create a random mask\n",
        "  mask = np.random.choice([1, 0], distribution.shape, p=[.1, .9]).astype(bool)\n",
        "  distribution[mask] = np.nan\n",
        "\n",
        "  result_matrix = []\n",
        "  count = 0\n",
        "  for j in range(T):\n",
        "    temp = []\n",
        "    for i in range(T):\n",
        "      temp.append(distribution[count])\n",
        "      count += 1\n",
        "    result_matrix.append(temp)\n",
        "  result_matrix = np.array(result_matrix)\n",
        "\n",
        "  return result_matrix\n",
        "\n",
        "\n",
        "# Add event to airtable\n",
        "atform.add_event('Coding Exercise 4.2: Evaluate your CL algorithm')\n",
        "\n",
        "set_seed(seed=SEED)\n",
        "T = len(rehe_accs)  # Number of tasks\n",
        "## Uncomment below to test you function\n",
        "result_matrix = make_result_matrix(T)\n",
        "print(result_matrix)"
      ]
    },
    {
      "cell_type": "markdown",
      "metadata": {
        "execution": {},
        "id": "RVF3pZzbdCR2"
      },
      "source": [
        "```\n",
        "[[0.60597828 0.73336936 0.13894716 0.31267308        nan]\n",
        " [0.12816238 0.17899311 0.75292543 0.66216051 0.78431013]\n",
        " [0.0968944  0.05857129 0.96239599 0.61655744 0.08662996]\n",
        " [0.56127236 0.61652471 0.96384302 0.57430429 0.37116085]\n",
        " [0.45214524 0.20185025 0.56930512 0.19509597 0.58370402]]\n",
        " ```"
      ]
    },
    {
      "cell_type": "markdown",
      "metadata": {
        "execution": {},
        "id": "8SCshmr7dCR2"
      },
      "source": [
        "### Think! 4.2: Performance metrics\n",
        "\n",
        "1. Why we choose a specific number of performance metrics even if we have access to numerous metrics? \n",
        "2. Why does the result matrix have `nan` values?"
      ]
    },
    {
      "cell_type": "code",
      "execution_count": 40,
      "metadata": {
        "cellView": "form",
        "execution": {},
        "id": "l4Ui51ZOdCR2",
        "outputId": "bc3b02f0-e79c-41d4-805b-d39b954e01d4",
        "colab": {
          "base_uri": "https://localhost:8080/",
          "height": 92,
          "referenced_widgets": [
            "7bf36d6d87e547c29486810af082ac49",
            "57ab143ec91940589d2ad2d70f67c30e",
            "6f6c000f5b714c8481166598c9842cea",
            "e828edf587fd47fb8362e38ae83ac711",
            "f2d5c57cf4164724b22f05a8a200c8ab",
            "b049e85866dc46f68741798c7f7f0dda"
          ]
        }
      },
      "outputs": [
        {
          "output_type": "display_data",
          "data": {
            "text/plain": [
              "Textarea(value='Type your answer here and click on `Submit!`', placeholder='Type something')"
            ],
            "application/vnd.jupyter.widget-view+json": {
              "version_major": 2,
              "version_minor": 0,
              "model_id": "7bf36d6d87e547c29486810af082ac49"
            }
          },
          "metadata": {}
        },
        {
          "output_type": "display_data",
          "data": {
            "text/plain": [
              "Button(description='Submit!', style=ButtonStyle())"
            ],
            "application/vnd.jupyter.widget-view+json": {
              "version_major": 2,
              "version_minor": 0,
              "model_id": "e828edf587fd47fb8362e38ae83ac711"
            }
          },
          "metadata": {}
        }
      ],
      "source": [
        "# @title Student Response\n",
        "from ipywidgets import widgets\n",
        "\n",
        "\n",
        "text=widgets.Textarea(\n",
        "   value='Type your answer here and click on `Submit!`',\n",
        "   placeholder='Type something',\n",
        "   description='',\n",
        "   disabled=False\n",
        ")\n",
        "\n",
        "button = widgets.Button(description=\"Submit!\")\n",
        "\n",
        "display(text,button)\n",
        "\n",
        "def on_button_clicked(b):\n",
        "   atform.add_answer('q1' , text.value)\n",
        "   print(\"Submission successful!\")\n",
        "\n",
        "\n",
        "button.on_click(on_button_clicked)"
      ]
    },
    {
      "cell_type": "code",
      "execution_count": 41,
      "metadata": {
        "execution": {},
        "id": "04fhGnWWdCR2"
      },
      "outputs": [],
      "source": [
        "# to_remove explanation\n",
        "\"\"\"\n",
        "1. As we discussed, the number of metrics you can evaluate is very large. To keep things compact,\n",
        "   we only focus on 2 performance metrics. You can have fun and implement the forward transfer :)\n",
        "\n",
        "2. Result matrix have nan values in correspondence of future tasks since we do not evaluate our\n",
        "   model on future tasks.\n",
        "\"\"\";"
      ]
    },
    {
      "cell_type": "markdown",
      "metadata": {
        "execution": {},
        "id": "kOtiYTiHdCR2"
      },
      "source": [
        "You **don't** need to modify the next cell, just execute it to see metrics in action!"
      ]
    },
    {
      "cell_type": "code",
      "execution_count": 42,
      "metadata": {
        "execution": {},
        "id": "UNPuqJwIdCR2",
        "outputId": "653a30e3-3d87-41bf-96d1-2ecd060ad327",
        "colab": {
          "base_uri": "https://localhost:8080/"
        }
      },
      "outputs": [
        {
          "output_type": "stream",
          "name": "stdout",
          "text": [
            "\n",
            "Result matrix shape: (5, 5)\n",
            "Result matrix values:\n",
            " [[0.60597828 0.73336936 0.13894716 0.31267308        nan]\n",
            " [0.12816238 0.17899311 0.75292543 0.66216051 0.78431013]\n",
            " [0.0968944  0.05857129 0.96239599 0.61655744 0.08662996]\n",
            " [0.56127236 0.61652471 0.96384302 0.57430429 0.37116085]\n",
            " [0.45214524 0.20185025 0.56930512 0.19509597 0.58370402]]\n",
            "\n",
            "ACC: 0.4004201200681699\n",
            "Accuracies for each task: [0.45214524 0.20185025 0.56930512 0.19509597 0.58370402]\n",
            "\n",
            "BWT: -0.18065501708115667\n",
            "BWT for each task: [-0.15383304  0.02285714 -0.39309087 -0.37920832  0.        ]\n",
            "\n"
          ]
        }
      ],
      "source": [
        "if result_matrix is None or T is None:\n",
        "  raise ValueError(\"You should fill the values of `result_matrix`, and `T` first.\")\n",
        "\n",
        "print(f\"\\nResult matrix shape: {result_matrix.shape}\")\n",
        "print(f\"Result matrix values:\\n {result_matrix}\")\n",
        "# result_matrix : [value for value in result_matrix if not math.isnan(value)]\n",
        "# Print(result_matrix)\n",
        "# {rint Average Accuracy metric\n",
        "acc, final_accs = ACC(result_matrix)\n",
        "print(f\"\\nACC: {acc}\")\n",
        "print(f\"Accuracies for each task: {final_accs}\")\n",
        "\n",
        "# Print Backward Transfer metric\n",
        "bwt, bwt_task = BWT(result_matrix)\n",
        "print(f\"\\nBWT: {bwt}\")\n",
        "print(f\"BWT for each task: {bwt_task}\")\n",
        "print()"
      ]
    },
    {
      "cell_type": "markdown",
      "metadata": {
        "execution": {},
        "id": "CbFiaPg8dCR2"
      },
      "source": [
        "Expected Output:\n",
        "\n",
        "```\n",
        "Result matrix shape: (5, 5)\n",
        "Result matrix values:\n",
        " [[0.60597828 0.73336936 0.13894716 0.31267308        nan]\n",
        " [0.12816238 0.17899311 0.75292543 0.66216051 0.78431013]\n",
        " [0.0968944  0.05857129 0.96239599 0.61655744 0.08662996]\n",
        " [0.56127236 0.61652471 0.96384302 0.57430429 0.37116085]\n",
        " [0.45214524 0.20185025 0.56930512 0.19509597 0.58370402]]\n",
        "[0.45214524 0.20185025 0.56930512 0.19509597 0.58370402]\n",
        "\n",
        "ACC: 0.4004201200681699\n",
        "Accuracies for each task: [0.45214524 0.20185025 0.56930512 0.19509597 0.58370402]\n",
        "\n",
        "BWT: -0.18065501708115667\n",
        "BWT for each task: [-0.15383304  0.02285714 -0.39309087 -0.37920832  0.        ]\n",
        "```"
      ]
    },
    {
      "cell_type": "markdown",
      "metadata": {
        "execution": {},
        "id": "082QkN-xdCR2"
      },
      "source": [
        "---\n",
        "# Section 5: Continual Learning Applications\n",
        "\n",
        "*Time estimate: ~10mins*"
      ]
    },
    {
      "cell_type": "markdown",
      "metadata": {
        "execution": {},
        "id": "o0qeNWvWdCR3"
      },
      "source": [
        "Continual Learning with deep architectures may help us develop sustainable AI systems that can efficiently improve their skills and knowledge over time, adapting to ever-changing environments and learning objectives. In this section we will discuss about intriguing real-world applications that would highly benefit from recent advances in Continual Learning."
      ]
    },
    {
      "cell_type": "code",
      "execution_count": 43,
      "metadata": {
        "cellView": "form",
        "execution": {},
        "id": "nwCvXOlEdCR3",
        "outputId": "c1832e3b-1dfb-4795-8d2f-8942e881960c",
        "colab": {
          "base_uri": "https://localhost:8080/",
          "height": 581,
          "referenced_widgets": [
            "9c7c173313af48a7843957f46d18dea8",
            "1be765c58a1b4b3c864d802ef7922271",
            "14a2426708254e5398ee0185419b8d45",
            "57f7f51a9d4d4461b771d6d004a2472e",
            "00a94b81b2294f08b34de8b9d2a450b6",
            "b5ef328e372940c59bee6577f68e0fd5"
          ]
        }
      },
      "outputs": [
        {
          "output_type": "display_data",
          "data": {
            "text/plain": [
              "Tab(children=(Output(), Output()), _titles={'0': 'Youtube', '1': 'Bilibili'})"
            ],
            "application/vnd.jupyter.widget-view+json": {
              "version_major": 2,
              "version_minor": 0,
              "model_id": "9c7c173313af48a7843957f46d18dea8"
            }
          },
          "metadata": {}
        }
      ],
      "source": [
        "# @title Video 5: Continual Learning Applications\n",
        "from ipywidgets import widgets\n",
        "\n",
        "out2 = widgets.Output()\n",
        "with out2:\n",
        "  from IPython.display import IFrame\n",
        "  class BiliVideo(IFrame):\n",
        "    def __init__(self, id, page=1, width=400, height=300, **kwargs):\n",
        "      self.id=id\n",
        "      src = \"https://player.bilibili.com/player.html?bvid={0}&page={1}\".format(id, page)\n",
        "      super(BiliVideo, self).__init__(src, width, height, **kwargs)\n",
        "\n",
        "  video = BiliVideo(id=f\"BV1xw41197Dm\", width=854, height=480, fs=1)\n",
        "  print(\"Video available at https://www.bilibili.com/video/{0}\".format(video.id))\n",
        "  display(video)\n",
        "\n",
        "out1 = widgets.Output()\n",
        "with out1:\n",
        "  from IPython.display import YouTubeVideo\n",
        "  video = YouTubeVideo(id=f\"vNcJ4Ygaxio\", width=854, height=480, fs=1, rel=0)\n",
        "  print(\"Video available at https://youtube.com/watch?v=\" + video.id)\n",
        "  display(video)\n",
        "\n",
        "out = widgets.Tab([out1, out2])\n",
        "out.set_title(0, 'Youtube')\n",
        "out.set_title(1, 'Bilibili')\n",
        "\n",
        "# add event to airtable\n",
        "atform.add_event('Video 5: Continual Learning Applications')\n",
        "\n",
        "display(out)"
      ]
    },
    {
      "cell_type": "markdown",
      "metadata": {
        "execution": {},
        "id": "pbSNv14ddCR3"
      },
      "source": [
        "**CORe50** is an interesting real-world video dataset composed of 50 domestic objects belonging to 10 different categories and specifically designed for Continual Learning. You can find more information about the dataset and benchmark in its [official website](https://vlomonaco.github.io/core50). \n",
        "\n",
        "Here we will use the [Avalanche library](https://avalanche.continualai.org) to automatically download and use this dataset. Avalanche allows you to explore more challenging datasets and tasks to bring your continual learning algorithms into the real-world!"
      ]
    },
    {
      "cell_type": "code",
      "execution_count": 44,
      "metadata": {
        "cellView": "form",
        "execution": {},
        "id": "2_eC2x_gdCR3",
        "outputId": "c178270a-a62c-4827-a8c2-9efb32d5b6c9",
        "colab": {
          "base_uri": "https://localhost:8080/"
        }
      },
      "outputs": [
        {
          "output_type": "stream",
          "name": "stdout",
          "text": [
            "  Installing build dependencies ... \u001b[?25l\u001b[?25hdone\n",
            "  Getting requirements to build wheel ... \u001b[?25l\u001b[?25hdone\n",
            "    Preparing wheel metadata ... \u001b[?25l\u001b[?25hdone\n",
            "\u001b[K     |████████████████████████████████| 1.8 MB 8.0 MB/s \n",
            "\u001b[K     |████████████████████████████████| 121 kB 76.4 MB/s \n",
            "\u001b[?25h  Installing build dependencies ... \u001b[?25l\u001b[?25hdone\n",
            "  Getting requirements to build wheel ... \u001b[?25l\u001b[?25hdone\n",
            "    Preparing wheel metadata ... \u001b[?25l\u001b[?25hdone\n",
            "\u001b[K     |████████████████████████████████| 532 kB 70.0 MB/s \n",
            "\u001b[K     |████████████████████████████████| 181 kB 68.9 MB/s \n",
            "\u001b[K     |████████████████████████████████| 145 kB 69.6 MB/s \n",
            "\u001b[K     |████████████████████████████████| 63 kB 2.0 MB/s \n",
            "\u001b[?25h  Building wheel for avalanche-lib (PEP 517) ... \u001b[?25l\u001b[?25hdone\n",
            "  Building wheel for gputil (setup.py) ... \u001b[?25l\u001b[?25hdone\n",
            "  Building wheel for quadprog (PEP 517) ... \u001b[?25l\u001b[?25hdone\n",
            "  Building wheel for pathtools (setup.py) ... \u001b[?25l\u001b[?25hdone\n"
          ]
        }
      ],
      "source": [
        "# @title Download the repo and import the modules\n",
        "import sys, requests, tarfile, os\n",
        "# !pip install git+https://github.com/ContinualAI/avalanche.git --quiet\n",
        "\n",
        "# We download from OSF to ensure stability of the download.\n",
        "REPO_PATH = \"avalanche\"\n",
        "url = \"https://osf.io/k3gp6/download\"\n",
        "\n",
        "if not os.path.exists(REPO_PATH):\n",
        "  r = requests.get(url, allow_redirects=True)\n",
        "  fname = REPO_PATH + '.tar.gz'\n",
        "  with open(fname, 'wb') as fd:\n",
        "    fd.write(r.content)\n",
        "\n",
        "!pip install avalanche.tar.gz --quiet"
      ]
    },
    {
      "cell_type": "code",
      "execution_count": 45,
      "metadata": {
        "cellView": "form",
        "execution": {},
        "id": "iHPJhd8OdCR3"
      },
      "outputs": [],
      "source": [
        "# @title Download the data\n",
        "\n",
        "import zipfile, io, os\n",
        "\n",
        "# To ensure that the data will be downloaded, we use our space on OSF.\n",
        "# Original locations:\n",
        "# Data core50: http://vps.continualai.org/data/core50_32x32.zip\n",
        "# Other modules:\n",
        "# 1. https://vlomonaco.github.io/core50/data/batches_filelists_NICv2.zip\n",
        "# 2. https://vlomonaco.github.io/core50/data/batches_filelists.zip\n",
        "# 3. https://vlomonaco.github.io/core50/data/paths.pkl\n",
        "# 4. https://vlomonaco.github.io/core50/data/LUP.pkl\n",
        "# 5. https://vlomonaco.github.io/core50/data/labels.pkl\n",
        "# 6. https://vlomonaco.github.io/core50/data/labels2names.pkl\n",
        "\n",
        "fname = \"core50\"\n",
        "urls = [\"https://osf.io/x3zvr/download\",\n",
        "        \"https://osf.io/37nbk/download\",\n",
        "        \"https://osf.io/sy86n/download\",\n",
        "        \"https://osf.io/8hds7/download\"]\n",
        "\n",
        "\n",
        "for url in urls:\n",
        "  r = requests.get(url, allow_redirects=True)\n",
        "  z = zipfile.ZipFile(io.BytesIO(r.content))\n",
        "  z.extractall(fname)"
      ]
    },
    {
      "cell_type": "markdown",
      "metadata": {
        "execution": {},
        "id": "FWBAE6WudCR3"
      },
      "source": [
        "The scenario \"New Instances\" (`scenario=ni`) corresponds to the previously introduced Domain-Incremental setting and it’s based on the idea of encountering images of the same classes for every incremental batch of data (or experience if you will). The `mini=True` option downloads data 32x32 instead of the original 128x128.\n",
        "\n",
        "**Note:** We download the data from OSF. Due to space limitations on OSF, if you want to use the 128x18 dataset, you have to download it via setting `mini=False`.\n",
        "\n",
        "Original locations:\n",
        "* 32x32 data: http://vps.continualai.org/data/core50_32x32.zip\n",
        "* 128x128 data: http://bias.csr.unibo.it/maltoni/download/core50/core50_128x128.zip"
      ]
    },
    {
      "cell_type": "code",
      "execution_count": 46,
      "metadata": {
        "execution": {},
        "id": "PT_C837ZdCR3",
        "outputId": "0bfa7ab7-ce0c-40ae-ed6d-f790ada1d52c",
        "colab": {
          "base_uri": "https://localhost:8080/"
        }
      },
      "outputs": [
        {
          "output_type": "stream",
          "name": "stdout",
          "text": [
            "Loading labels...\n",
            "Loading LUP...\n",
            "Loading labels names...\n",
            "Files already downloaded and verified\n"
          ]
        }
      ],
      "source": [
        "from avalanche.benchmarks.classic import CORe50\n",
        "benchmark = CORe50(dataset_root='core50', scenario=\"ni\", mini=True)"
      ]
    },
    {
      "cell_type": "code",
      "execution_count": 47,
      "metadata": {
        "execution": {},
        "id": "qp4p5uvidCR4",
        "outputId": "6cc74298-769d-4133-f958-07a10cb0a82b",
        "colab": {
          "base_uri": "https://localhost:8080/"
        }
      },
      "outputs": [
        {
          "output_type": "stream",
          "name": "stdout",
          "text": [
            "[0, 1, 2, 3, 4, 5, 6, 7, 8, 9, 10, 11, 12, 13, 14, 15, 16, 17, 18, 19, 20, 21, 22, 23, 24, 25, 26, 27, 28, 29, 30, 31, 32, 33, 34, 35, 36, 37, 38, 39, 40, 41, 42, 43, 44, 45, 46, 47, 48, 49]\n",
            "[0, 1, 2, 3, 4, 5, 6, 7, 8, 9, 10, 11, 12, 13, 14, 15, 16, 17, 18, 19, 20, 21, 22, 23, 24, 25, 26, 27, 28, 29, 30, 31, 32, 33, 34, 35, 36, 37, 38, 39, 40, 41, 42, 43, 44, 45, 46, 47, 48, 49]\n",
            "[0, 1, 2, 3, 4, 5, 6, 7, 8, 9, 10, 11, 12, 13, 14, 15, 16, 17, 18, 19, 20, 21, 22, 23, 24, 25, 26, 27, 28, 29, 30, 31, 32, 33, 34, 35, 36, 37, 38, 39, 40, 41, 42, 43, 44, 45, 46, 47, 48, 49]\n",
            "[0, 1, 2, 3, 4, 5, 6, 7, 8, 9, 10, 11, 12, 13, 14, 15, 16, 17, 18, 19, 20, 21, 22, 23, 24, 25, 26, 27, 28, 29, 30, 31, 32, 33, 34, 35, 36, 37, 38, 39, 40, 41, 42, 43, 44, 45, 46, 47, 48, 49]\n",
            "[0, 1, 2, 3, 4, 5, 6, 7, 8, 9, 10, 11, 12, 13, 14, 15, 16, 17, 18, 19, 20, 21, 22, 23, 24, 25, 26, 27, 28, 29, 30, 31, 32, 33, 34, 35, 36, 37, 38, 39, 40, 41, 42, 43, 44, 45, 46, 47, 48, 49]\n",
            "[0, 1, 2, 3, 4, 5, 6, 7, 8, 9, 10, 11, 12, 13, 14, 15, 16, 17, 18, 19, 20, 21, 22, 23, 24, 25, 26, 27, 28, 29, 30, 31, 32, 33, 34, 35, 36, 37, 38, 39, 40, 41, 42, 43, 44, 45, 46, 47, 48, 49]\n",
            "[0, 1, 2, 3, 4, 5, 6, 7, 8, 9, 10, 11, 12, 13, 14, 15, 16, 17, 18, 19, 20, 21, 22, 23, 24, 25, 26, 27, 28, 29, 30, 31, 32, 33, 34, 35, 36, 37, 38, 39, 40, 41, 42, 43, 44, 45, 46, 47, 48, 49]\n",
            "[0, 1, 2, 3, 4, 5, 6, 7, 8, 9, 10, 11, 12, 13, 14, 15, 16, 17, 18, 19, 20, 21, 22, 23, 24, 25, 26, 27, 28, 29, 30, 31, 32, 33, 34, 35, 36, 37, 38, 39, 40, 41, 42, 43, 44, 45, 46, 47, 48, 49]\n"
          ]
        }
      ],
      "source": [
        "for exp in benchmark.train_stream:\n",
        "  print(exp.classes_in_this_experience)"
      ]
    },
    {
      "cell_type": "markdown",
      "metadata": {
        "execution": {},
        "id": "VUjHbIJqdCR4"
      },
      "source": [
        "## Explore the challenging CORe50 scenarios!\n",
        "\n",
        "CORe50 offers a number of interesting preset scenarios already implemented and available to you through Avalanche. \n",
        "\n",
        "You could further try to explore the different scenarios offered (like the challenging NICv2-391) and possibly even apply what you've previously learned (like a replay approach) to get the best accuracy you can!\n",
        "\n",
        "See the CORe50 help menu below. "
      ]
    },
    {
      "cell_type": "code",
      "execution_count": 48,
      "metadata": {
        "execution": {},
        "id": "BIK085qPdCR4",
        "outputId": "aff97873-cfd3-4553-a4e6-33f3f5a86922",
        "colab": {
          "base_uri": "https://localhost:8080/"
        }
      },
      "outputs": [
        {
          "output_type": "stream",
          "name": "stdout",
          "text": [
            "Help on function CORe50 in module avalanche.benchmarks.classic.core50:\n",
            "\n",
            "CORe50(*, scenario: str = 'nicv2_391', run: int = 0, object_lvl: bool = True, mini: bool = False, train_transform: Union[Any, NoneType] = Compose(\n",
            "    ToTensor()\n",
            "    RandomHorizontalFlip(p=0.5)\n",
            "    Normalize(mean=[0.485, 0.456, 0.406], std=[0.229, 0.224, 0.225])\n",
            "), eval_transform: Union[Any, NoneType] = Compose(\n",
            "    ToTensor()\n",
            "    Normalize(mean=[0.485, 0.456, 0.406], std=[0.229, 0.224, 0.225])\n",
            "), dataset_root: Union[str, pathlib.Path] = None)\n",
            "    Creates a CL benchmark for CORe50.\n",
            "    \n",
            "    If the dataset is not present in the computer, this method will\n",
            "    automatically download and store it.\n",
            "    \n",
            "    This generator can be used to obtain the NI, NC, NIC and NICv2-* scenarios.\n",
            "    \n",
            "    The benchmark instance returned by this method will have two fields,\n",
            "    `train_stream` and `test_stream`, which can be iterated to obtain\n",
            "    training and test :class:`Experience`. Each Experience contains the\n",
            "    `dataset` and the associated task label.\n",
            "    \n",
            "    The task label \"0\" will be assigned to each experience.\n",
            "    \n",
            "    The benchmark API is quite simple and is uniform across all benchmark\n",
            "    generators. It is recommended to check the tutorial of the \"benchmark\" API,\n",
            "    which contains usage examples ranging from \"basic\" to \"advanced\".\n",
            "    \n",
            "    :param scenario: CORe50 main scenario. It can be chosen between 'ni', 'nc',\n",
            "        'nic', 'nicv2_79', 'nicv2_196' or 'nicv2_391.'\n",
            "    :param run: number of run for the benchmark. Each run defines a different\n",
            "        ordering. Must be a number between 0 and 9.\n",
            "    :param object_lvl: True for a 50-way classification at the object level.\n",
            "        False if you want to use the categories as classes. Default to True.\n",
            "    :param mini: True for processing reduced 32x32 images instead of the\n",
            "        original 128x128. Default to False.\n",
            "    :param train_transform: The transformation to apply to the training data,\n",
            "        e.g. a random crop, a normalization or a concatenation of different\n",
            "        transformations (see torchvision.transform documentation for a\n",
            "        comprehensive list of possible transformations). Defaults to None.\n",
            "    :param eval_transform: The transformation to apply to the test data,\n",
            "        e.g. a random crop, a normalization or a concatenation of different\n",
            "        transformations (see torchvision.transform documentation for a\n",
            "        comprehensive list of possible transformations). Defaults to None.\n",
            "    :param dataset_root: Absolute path indicating where to store the dataset\n",
            "        and related metadata. Defaults to None, which means that the default\n",
            "        location for\n",
            "        'core50' will be used.\n",
            "    \n",
            "    :returns: a properly initialized :class:`GenericCLScenario` instance.\n",
            "\n"
          ]
        }
      ],
      "source": [
        "help(CORe50)"
      ]
    },
    {
      "cell_type": "markdown",
      "metadata": {
        "execution": {},
        "id": "gIVWcjbodCR4"
      },
      "source": [
        "---\n",
        "# Summary\n",
        "\n",
        "Well, you did it! Congratulations on making it through your (first?) Continual Learning codebase. As mentioned, this is only the tip of the iceberg, and there's a lot more you can dig into if you want to explore. \n",
        "\n",
        "If you do want to explore, one of the best places to learn more is [ContinualAI.org](https://www.continualai.org/about_us/). There, you can interact with a large portion of the continual learning community, and find resources such as a [database](https://www.continualai.org/papers/) of relevant papers, [lectures](https://www.youtube.com/c/continualai) from researchers discussing their papers, [additional tutorials](https://github.com/ContinualAI/colab), and much [more](https://www.continualai.org/lab/). You might also be interested in [Avalanche](https://avalanche.continualai.org/), the largest  library for continual learning.  \n",
        "\n",
        "MILA also has a wonderful [website](https://sites.google.com/view/ift6760-b2021) with open Continual Learning course materials, by Dr. Irina Rish.\n",
        "\n",
        "Further questions? Feel free to reach out to [Keiland](https://www.kwcooper.xyz/contact)!"
      ]
    },
    {
      "cell_type": "code",
      "execution_count": 49,
      "metadata": {
        "cellView": "form",
        "execution": {},
        "id": "n_w6U0indCR4",
        "outputId": "d9f93cd1-e057-44b1-c8b6-cc0853e08c6f",
        "colab": {
          "base_uri": "https://localhost:8080/",
          "height": 159
        }
      },
      "outputs": [
        {
          "output_type": "execute_result",
          "data": {
            "text/plain": [
              "<IPython.core.display.HTML object>"
            ],
            "text/html": [
              "\n",
              " <div>\n",
              "   <a href= \"https://portal.neuromatchacademy.org/api/redirect/to/9c55f6cb-cdf9-4429-ac1c-ec44fe64c303?data=eyJmb3JtX2lkIjogImFwcG43VmRQUnNlU29NWEVHIiwgInRhYmxlX25hbWUiOiAiVzNENF9UMSIsICJhbnN3ZXJzIjoge30sICJldmVudHMiOiBbeyJldmVudCI6ICJpbml0IiwgInRzIjogMTY1NDA5MDE4MS4zMzU2MzIzfSwgeyJldmVudCI6ICJWaWRlbyAwOiBPdmVydmlldyBvZiB0aGUgc2Vzc2lvbiBhbmQgaW50cm9kdWN0aW9uIHRvIGNvbnRpbnVhbCBsZWFybmluZyIsICJ0cyI6IDE2NTQwOTAxOTAuNjcwNzAyfSwgeyJldmVudCI6ICJWaWRlbyAxOiBJbnRyb2R1Y3Rpb24gdG8gY2F0YXN0cm9waGljIGZvcmdldHRpbmciLCAidHMiOiAxNjU0MDkwMTkwLjg1OTMyMzV9LCB7ImV2ZW50IjogIlZpZGVvIDI6IENMIHN0cmF0ZWdpZXMiLCAidHMiOiAxNjU0MDkwMjExLjU2NDg1ODR9LCB7ImV2ZW50IjogIlZpZGVvIDM6IEJlbmNobWFya3MgYW5kIGRpZmZlcmVudCB0eXBlcyBvZiBjb250aW51YWwgbGVhcm5pbmciLCAidHMiOiAxNjU0MDkwMjE1Ljg5NDEzMjR9LCB7ImV2ZW50IjogIlZpZGVvIDQ6IENvbnRpbnVhbCBMZWFybmluZyBFdmFsdWF0aW9uIiwgInRzIjogMTY1NDA5MDIyMy45OTgyMjI2fSwgeyJldmVudCI6ICJDb2RpbmcgRXhlcmNpc2UgNC4yOiBFdmFsdWF0ZSB5b3VyIENMIGFsZ29yaXRobSIsICJ0cyI6IDE2NTQwOTAyMjQuMDU3MDk3N30sIHsiZXZlbnQiOiAiQ29kaW5nIEV4ZXJjaXNlIDQuMjogRXZhbHVhdGUgeW91ciBDTCBhbGdvcml0aG0iLCAidHMiOiAxNjU0MDkwMjI0LjA4MDg0NjV9LCB7ImV2ZW50IjogIlZpZGVvIDU6IENvbnRpbnVhbCBMZWFybmluZyBBcHBsaWNhdGlvbnMiLCAidHMiOiAxNjU0MDkwMjI0LjIzOTM2NDl9LCB7ImV2ZW50IjogInVybCBnZW5lcmF0ZWQiLCAidHMiOiAxNjU0MDkwMzQ3LjI5MTA0NDJ9XX0%3D\" target=\"_blank\">\n",
              "   <img src=\"https://github.com/NeuromatchAcademy/course-content-dl/blob/main/tutorials/static/AirtableSubmissionButton.png?raw=1\"\n",
              " alt=\"button link to Airtable\" style=\"width:410px\"></a>\n",
              "   </div>"
            ]
          },
          "metadata": {},
          "execution_count": 49
        }
      ],
      "source": [
        "# @title Airtable Submission Link\n",
        "from IPython import display as IPydisplay\n",
        "IPydisplay.HTML(\n",
        "   f\"\"\"\n",
        " <div>\n",
        "   <a href= \"{atform.url()}\" target=\"_blank\">\n",
        "   <img src=\"https://github.com/NeuromatchAcademy/course-content-dl/blob/main/tutorials/static/AirtableSubmissionButton.png?raw=1\"\n",
        " alt=\"button link to Airtable\" style=\"width:410px\"></a>\n",
        "   </div>\"\"\" )"
      ]
    }
  ],
  "metadata": {
    "accelerator": "GPU",
    "colab": {
      "collapsed_sections": [],
      "machine_shape": "hm",
      "name": "W3D4_Tutorial1",
      "provenance": [],
      "toc_visible": true,
      "include_colab_link": true
    },
    "kernel": {
      "display_name": "Python 3",
      "language": "python",
      "name": "python3"
    },
    "kernelspec": {
      "display_name": "Python 3",
      "language": "python",
      "name": "python3"
    },
    "language_info": {
      "codemirror_mode": {
        "name": "ipython",
        "version": 3
      },
      "file_extension": ".py",
      "mimetype": "text/x-python",
      "name": "python",
      "nbconvert_exporter": "python",
      "pygments_lexer": "ipython3",
      "version": "3.7.3"
    },
    "toc-autonumbering": true,
    "widgets": {
      "application/vnd.jupyter.widget-state+json": {
        "46c9fd503ae2472d8afa6ad6cf6ef0d5": {
          "model_module": "@jupyter-widgets/controls",
          "model_name": "TabModel",
          "model_module_version": "1.5.0",
          "state": {
            "_dom_classes": [],
            "_model_module": "@jupyter-widgets/controls",
            "_model_module_version": "1.5.0",
            "_model_name": "TabModel",
            "_titles": {
              "0": "Youtube",
              "1": "Bilibili"
            },
            "_view_count": null,
            "_view_module": "@jupyter-widgets/controls",
            "_view_module_version": "1.5.0",
            "_view_name": "TabView",
            "box_style": "",
            "children": [
              "IPY_MODEL_6bd0eae77e39421c931b465599258a46",
              "IPY_MODEL_6b682eb44a6d485ebdb37f7e6cf50a7e"
            ],
            "layout": "IPY_MODEL_af215d5ee6764aaeb92d032d8c90bb3f",
            "selected_index": 0
          }
        },
        "6bd0eae77e39421c931b465599258a46": {
          "model_module": "@jupyter-widgets/output",
          "model_name": "OutputModel",
          "model_module_version": "1.0.0",
          "state": {
            "_dom_classes": [],
            "_model_module": "@jupyter-widgets/output",
            "_model_module_version": "1.0.0",
            "_model_name": "OutputModel",
            "_view_count": null,
            "_view_module": "@jupyter-widgets/output",
            "_view_module_version": "1.0.0",
            "_view_name": "OutputView",
            "layout": "IPY_MODEL_5e7a48907491487ba99718eee4a73ee9",
            "msg_id": "",
            "outputs": [
              {
                "output_type": "stream",
                "name": "stdout",
                "text": [
                  "Video available at https://youtube.com/watch?v=ARVxFIfw4JU\n"
                ]
              },
              {
                "output_type": "display_data",
                "data": {
                  "text/plain": "<IPython.lib.display.YouTubeVideo at 0x7f2b39e9bc50>",
                  "text/html": "\n        <iframe\n            width=\"854\"\n            height=\"480\"\n            src=\"https://www.youtube.com/embed/ARVxFIfw4JU?fs=1&rel=0\"\n            frameborder=\"0\"\n            allowfullscreen\n        ></iframe>\n        ",
                  "image/jpeg": "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\n"
                },
                "metadata": {}
              }
            ]
          }
        },
        "6b682eb44a6d485ebdb37f7e6cf50a7e": {
          "model_module": "@jupyter-widgets/output",
          "model_name": "OutputModel",
          "model_module_version": "1.0.0",
          "state": {
            "_dom_classes": [],
            "_model_module": "@jupyter-widgets/output",
            "_model_module_version": "1.0.0",
            "_model_name": "OutputModel",
            "_view_count": null,
            "_view_module": "@jupyter-widgets/output",
            "_view_module_version": "1.0.0",
            "_view_name": "OutputView",
            "layout": "IPY_MODEL_92e90d6c091b497eb7fa39be1bfb14a6",
            "msg_id": "",
            "outputs": [
              {
                "output_type": "stream",
                "name": "stdout",
                "text": [
                  "Video available at https://www.bilibili.com/video/BV1LM4y1T7Wn\n"
                ]
              },
              {
                "output_type": "display_data",
                "data": {
                  "text/plain": "<__main__.BiliVideo at 0x7f2b39e80610>",
                  "text/html": "\n        <iframe\n            width=\"854\"\n            height=\"480\"\n            src=\"https://player.bilibili.com/player.html?bvid=BV1LM4y1T7Wn&page=1?fs=1\"\n            frameborder=\"0\"\n            allowfullscreen\n        ></iframe>\n        "
                },
                "metadata": {}
              }
            ]
          }
        },
        "af215d5ee6764aaeb92d032d8c90bb3f": {
          "model_module": "@jupyter-widgets/base",
          "model_name": "LayoutModel",
          "model_module_version": "1.2.0",
          "state": {
            "_model_module": "@jupyter-widgets/base",
            "_model_module_version": "1.2.0",
            "_model_name": "LayoutModel",
            "_view_count": null,
            "_view_module": "@jupyter-widgets/base",
            "_view_module_version": "1.2.0",
            "_view_name": "LayoutView",
            "align_content": null,
            "align_items": null,
            "align_self": null,
            "border": null,
            "bottom": null,
            "display": null,
            "flex": null,
            "flex_flow": null,
            "grid_area": null,
            "grid_auto_columns": null,
            "grid_auto_flow": null,
            "grid_auto_rows": null,
            "grid_column": null,
            "grid_gap": null,
            "grid_row": null,
            "grid_template_areas": null,
            "grid_template_columns": null,
            "grid_template_rows": null,
            "height": null,
            "justify_content": null,
            "justify_items": null,
            "left": null,
            "margin": null,
            "max_height": null,
            "max_width": null,
            "min_height": null,
            "min_width": null,
            "object_fit": null,
            "object_position": null,
            "order": null,
            "overflow": null,
            "overflow_x": null,
            "overflow_y": null,
            "padding": null,
            "right": null,
            "top": null,
            "visibility": null,
            "width": null
          }
        },
        "5e7a48907491487ba99718eee4a73ee9": {
          "model_module": "@jupyter-widgets/base",
          "model_name": "LayoutModel",
          "model_module_version": "1.2.0",
          "state": {
            "_model_module": "@jupyter-widgets/base",
            "_model_module_version": "1.2.0",
            "_model_name": "LayoutModel",
            "_view_count": null,
            "_view_module": "@jupyter-widgets/base",
            "_view_module_version": "1.2.0",
            "_view_name": "LayoutView",
            "align_content": null,
            "align_items": null,
            "align_self": null,
            "border": null,
            "bottom": null,
            "display": null,
            "flex": null,
            "flex_flow": null,
            "grid_area": null,
            "grid_auto_columns": null,
            "grid_auto_flow": null,
            "grid_auto_rows": null,
            "grid_column": null,
            "grid_gap": null,
            "grid_row": null,
            "grid_template_areas": null,
            "grid_template_columns": null,
            "grid_template_rows": null,
            "height": null,
            "justify_content": null,
            "justify_items": null,
            "left": null,
            "margin": null,
            "max_height": null,
            "max_width": null,
            "min_height": null,
            "min_width": null,
            "object_fit": null,
            "object_position": null,
            "order": null,
            "overflow": null,
            "overflow_x": null,
            "overflow_y": null,
            "padding": null,
            "right": null,
            "top": null,
            "visibility": null,
            "width": null
          }
        },
        "92e90d6c091b497eb7fa39be1bfb14a6": {
          "model_module": "@jupyter-widgets/base",
          "model_name": "LayoutModel",
          "model_module_version": "1.2.0",
          "state": {
            "_model_module": "@jupyter-widgets/base",
            "_model_module_version": "1.2.0",
            "_model_name": "LayoutModel",
            "_view_count": null,
            "_view_module": "@jupyter-widgets/base",
            "_view_module_version": "1.2.0",
            "_view_name": "LayoutView",
            "align_content": null,
            "align_items": null,
            "align_self": null,
            "border": null,
            "bottom": null,
            "display": null,
            "flex": null,
            "flex_flow": null,
            "grid_area": null,
            "grid_auto_columns": null,
            "grid_auto_flow": null,
            "grid_auto_rows": null,
            "grid_column": null,
            "grid_gap": null,
            "grid_row": null,
            "grid_template_areas": null,
            "grid_template_columns": null,
            "grid_template_rows": null,
            "height": null,
            "justify_content": null,
            "justify_items": null,
            "left": null,
            "margin": null,
            "max_height": null,
            "max_width": null,
            "min_height": null,
            "min_width": null,
            "object_fit": null,
            "object_position": null,
            "order": null,
            "overflow": null,
            "overflow_x": null,
            "overflow_y": null,
            "padding": null,
            "right": null,
            "top": null,
            "visibility": null,
            "width": null
          }
        },
        "280595f853af4d7ca01c479304fdb57c": {
          "model_module": "@jupyter-widgets/controls",
          "model_name": "TabModel",
          "model_module_version": "1.5.0",
          "state": {
            "_dom_classes": [],
            "_model_module": "@jupyter-widgets/controls",
            "_model_module_version": "1.5.0",
            "_model_name": "TabModel",
            "_titles": {
              "0": "Youtube",
              "1": "Bilibili"
            },
            "_view_count": null,
            "_view_module": "@jupyter-widgets/controls",
            "_view_module_version": "1.5.0",
            "_view_name": "TabView",
            "box_style": "",
            "children": [
              "IPY_MODEL_38251e3b09e64ddd83b514044de268dd",
              "IPY_MODEL_8a71ca37da0b4abe92755324debbd6e4"
            ],
            "layout": "IPY_MODEL_f6b5ba52b9cb4b4b834f8ac5f58e6d0b",
            "selected_index": 0
          }
        },
        "38251e3b09e64ddd83b514044de268dd": {
          "model_module": "@jupyter-widgets/output",
          "model_name": "OutputModel",
          "model_module_version": "1.0.0",
          "state": {
            "_dom_classes": [],
            "_model_module": "@jupyter-widgets/output",
            "_model_module_version": "1.0.0",
            "_model_name": "OutputModel",
            "_view_count": null,
            "_view_module": "@jupyter-widgets/output",
            "_view_module_version": "1.0.0",
            "_view_name": "OutputView",
            "layout": "IPY_MODEL_27e37c4f018a463cbf187457aae78605",
            "msg_id": "",
            "outputs": [
              {
                "output_type": "stream",
                "name": "stdout",
                "text": [
                  "Video available at https://youtube.com/watch?v=WIbgFxzaFP4\n"
                ]
              },
              {
                "output_type": "display_data",
                "data": {
                  "text/plain": "<IPython.lib.display.YouTubeVideo at 0x7f2b39e80510>",
                  "text/html": "\n        <iframe\n            width=\"854\"\n            height=\"480\"\n            src=\"https://www.youtube.com/embed/WIbgFxzaFP4?fs=1&rel=0\"\n            frameborder=\"0\"\n            allowfullscreen\n        ></iframe>\n        ",
                  "image/jpeg": "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\n"
                },
                "metadata": {}
              }
            ]
          }
        },
        "8a71ca37da0b4abe92755324debbd6e4": {
          "model_module": "@jupyter-widgets/output",
          "model_name": "OutputModel",
          "model_module_version": "1.0.0",
          "state": {
            "_dom_classes": [],
            "_model_module": "@jupyter-widgets/output",
            "_model_module_version": "1.0.0",
            "_model_name": "OutputModel",
            "_view_count": null,
            "_view_module": "@jupyter-widgets/output",
            "_view_module_version": "1.0.0",
            "_view_name": "OutputView",
            "layout": "IPY_MODEL_e011a8a4d88a45cbaa08afac4d15eae4",
            "msg_id": "",
            "outputs": [
              {
                "output_type": "stream",
                "name": "stdout",
                "text": [
                  "Video available at https://www.bilibili.com/video/BV1kg411M7wu\n"
                ]
              },
              {
                "output_type": "display_data",
                "data": {
                  "text/plain": "<__main__.BiliVideo at 0x7f2c118b9390>",
                  "text/html": "\n        <iframe\n            width=\"854\"\n            height=\"480\"\n            src=\"https://player.bilibili.com/player.html?bvid=BV1kg411M7wu&page=1?fs=1\"\n            frameborder=\"0\"\n            allowfullscreen\n        ></iframe>\n        "
                },
                "metadata": {}
              }
            ]
          }
        },
        "f6b5ba52b9cb4b4b834f8ac5f58e6d0b": {
          "model_module": "@jupyter-widgets/base",
          "model_name": "LayoutModel",
          "model_module_version": "1.2.0",
          "state": {
            "_model_module": "@jupyter-widgets/base",
            "_model_module_version": "1.2.0",
            "_model_name": "LayoutModel",
            "_view_count": null,
            "_view_module": "@jupyter-widgets/base",
            "_view_module_version": "1.2.0",
            "_view_name": "LayoutView",
            "align_content": null,
            "align_items": null,
            "align_self": null,
            "border": null,
            "bottom": null,
            "display": null,
            "flex": null,
            "flex_flow": null,
            "grid_area": null,
            "grid_auto_columns": null,
            "grid_auto_flow": null,
            "grid_auto_rows": null,
            "grid_column": null,
            "grid_gap": null,
            "grid_row": null,
            "grid_template_areas": null,
            "grid_template_columns": null,
            "grid_template_rows": null,
            "height": null,
            "justify_content": null,
            "justify_items": null,
            "left": null,
            "margin": null,
            "max_height": null,
            "max_width": null,
            "min_height": null,
            "min_width": null,
            "object_fit": null,
            "object_position": null,
            "order": null,
            "overflow": null,
            "overflow_x": null,
            "overflow_y": null,
            "padding": null,
            "right": null,
            "top": null,
            "visibility": null,
            "width": null
          }
        },
        "27e37c4f018a463cbf187457aae78605": {
          "model_module": "@jupyter-widgets/base",
          "model_name": "LayoutModel",
          "model_module_version": "1.2.0",
          "state": {
            "_model_module": "@jupyter-widgets/base",
            "_model_module_version": "1.2.0",
            "_model_name": "LayoutModel",
            "_view_count": null,
            "_view_module": "@jupyter-widgets/base",
            "_view_module_version": "1.2.0",
            "_view_name": "LayoutView",
            "align_content": null,
            "align_items": null,
            "align_self": null,
            "border": null,
            "bottom": null,
            "display": null,
            "flex": null,
            "flex_flow": null,
            "grid_area": null,
            "grid_auto_columns": null,
            "grid_auto_flow": null,
            "grid_auto_rows": null,
            "grid_column": null,
            "grid_gap": null,
            "grid_row": null,
            "grid_template_areas": null,
            "grid_template_columns": null,
            "grid_template_rows": null,
            "height": null,
            "justify_content": null,
            "justify_items": null,
            "left": null,
            "margin": null,
            "max_height": null,
            "max_width": null,
            "min_height": null,
            "min_width": null,
            "object_fit": null,
            "object_position": null,
            "order": null,
            "overflow": null,
            "overflow_x": null,
            "overflow_y": null,
            "padding": null,
            "right": null,
            "top": null,
            "visibility": null,
            "width": null
          }
        },
        "e011a8a4d88a45cbaa08afac4d15eae4": {
          "model_module": "@jupyter-widgets/base",
          "model_name": "LayoutModel",
          "model_module_version": "1.2.0",
          "state": {
            "_model_module": "@jupyter-widgets/base",
            "_model_module_version": "1.2.0",
            "_model_name": "LayoutModel",
            "_view_count": null,
            "_view_module": "@jupyter-widgets/base",
            "_view_module_version": "1.2.0",
            "_view_name": "LayoutView",
            "align_content": null,
            "align_items": null,
            "align_self": null,
            "border": null,
            "bottom": null,
            "display": null,
            "flex": null,
            "flex_flow": null,
            "grid_area": null,
            "grid_auto_columns": null,
            "grid_auto_flow": null,
            "grid_auto_rows": null,
            "grid_column": null,
            "grid_gap": null,
            "grid_row": null,
            "grid_template_areas": null,
            "grid_template_columns": null,
            "grid_template_rows": null,
            "height": null,
            "justify_content": null,
            "justify_items": null,
            "left": null,
            "margin": null,
            "max_height": null,
            "max_width": null,
            "min_height": null,
            "min_width": null,
            "object_fit": null,
            "object_position": null,
            "order": null,
            "overflow": null,
            "overflow_x": null,
            "overflow_y": null,
            "padding": null,
            "right": null,
            "top": null,
            "visibility": null,
            "width": null
          }
        },
        "288c6f8a6d1f453d8481f0d39ffa5ac9": {
          "model_module": "@jupyter-widgets/controls",
          "model_name": "TabModel",
          "model_module_version": "1.5.0",
          "state": {
            "_dom_classes": [],
            "_model_module": "@jupyter-widgets/controls",
            "_model_module_version": "1.5.0",
            "_model_name": "TabModel",
            "_titles": {
              "0": "Youtube",
              "1": "Bilibili"
            },
            "_view_count": null,
            "_view_module": "@jupyter-widgets/controls",
            "_view_module_version": "1.5.0",
            "_view_name": "TabView",
            "box_style": "",
            "children": [
              "IPY_MODEL_3c5c78247a2e4aaba752857f781381a3",
              "IPY_MODEL_3ada6377b690454796fdb67da22cda1a"
            ],
            "layout": "IPY_MODEL_6588c19a824a4521b9f663e1c013c514",
            "selected_index": 0
          }
        },
        "3c5c78247a2e4aaba752857f781381a3": {
          "model_module": "@jupyter-widgets/output",
          "model_name": "OutputModel",
          "model_module_version": "1.0.0",
          "state": {
            "_dom_classes": [],
            "_model_module": "@jupyter-widgets/output",
            "_model_module_version": "1.0.0",
            "_model_name": "OutputModel",
            "_view_count": null,
            "_view_module": "@jupyter-widgets/output",
            "_view_module_version": "1.0.0",
            "_view_name": "OutputView",
            "layout": "IPY_MODEL_15c43c048d814ef7837fc8293049beb8",
            "msg_id": "",
            "outputs": [
              {
                "output_type": "stream",
                "name": "stdout",
                "text": [
                  "Video available at https://youtube.com/watch?v=q3aZGXIYYfw\n"
                ]
              },
              {
                "output_type": "display_data",
                "data": {
                  "text/plain": "<IPython.lib.display.YouTubeVideo at 0x7f2b3002db90>",
                  "text/html": "\n        <iframe\n            width=\"854\"\n            height=\"480\"\n            src=\"https://www.youtube.com/embed/q3aZGXIYYfw?fs=1&rel=0\"\n            frameborder=\"0\"\n            allowfullscreen\n        ></iframe>\n        ",
                  "image/jpeg": "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\n"
                },
                "metadata": {}
              }
            ]
          }
        },
        "3ada6377b690454796fdb67da22cda1a": {
          "model_module": "@jupyter-widgets/output",
          "model_name": "OutputModel",
          "model_module_version": "1.0.0",
          "state": {
            "_dom_classes": [],
            "_model_module": "@jupyter-widgets/output",
            "_model_module_version": "1.0.0",
            "_model_name": "OutputModel",
            "_view_count": null,
            "_view_module": "@jupyter-widgets/output",
            "_view_module_version": "1.0.0",
            "_view_name": "OutputView",
            "layout": "IPY_MODEL_cf8280c92fef40dfb96fd09ebad160b6",
            "msg_id": "",
            "outputs": [
              {
                "output_type": "stream",
                "name": "stdout",
                "text": [
                  "Video available at https://www.bilibili.com/video/BV1RP4y14792\n"
                ]
              },
              {
                "output_type": "display_data",
                "data": {
                  "text/plain": "<__main__.BiliVideo at 0x7f2b300890d0>",
                  "text/html": "\n        <iframe\n            width=\"854\"\n            height=\"480\"\n            src=\"https://player.bilibili.com/player.html?bvid=BV1RP4y14792&page=1?fs=1\"\n            frameborder=\"0\"\n            allowfullscreen\n        ></iframe>\n        "
                },
                "metadata": {}
              }
            ]
          }
        },
        "6588c19a824a4521b9f663e1c013c514": {
          "model_module": "@jupyter-widgets/base",
          "model_name": "LayoutModel",
          "model_module_version": "1.2.0",
          "state": {
            "_model_module": "@jupyter-widgets/base",
            "_model_module_version": "1.2.0",
            "_model_name": "LayoutModel",
            "_view_count": null,
            "_view_module": "@jupyter-widgets/base",
            "_view_module_version": "1.2.0",
            "_view_name": "LayoutView",
            "align_content": null,
            "align_items": null,
            "align_self": null,
            "border": null,
            "bottom": null,
            "display": null,
            "flex": null,
            "flex_flow": null,
            "grid_area": null,
            "grid_auto_columns": null,
            "grid_auto_flow": null,
            "grid_auto_rows": null,
            "grid_column": null,
            "grid_gap": null,
            "grid_row": null,
            "grid_template_areas": null,
            "grid_template_columns": null,
            "grid_template_rows": null,
            "height": null,
            "justify_content": null,
            "justify_items": null,
            "left": null,
            "margin": null,
            "max_height": null,
            "max_width": null,
            "min_height": null,
            "min_width": null,
            "object_fit": null,
            "object_position": null,
            "order": null,
            "overflow": null,
            "overflow_x": null,
            "overflow_y": null,
            "padding": null,
            "right": null,
            "top": null,
            "visibility": null,
            "width": null
          }
        },
        "15c43c048d814ef7837fc8293049beb8": {
          "model_module": "@jupyter-widgets/base",
          "model_name": "LayoutModel",
          "model_module_version": "1.2.0",
          "state": {
            "_model_module": "@jupyter-widgets/base",
            "_model_module_version": "1.2.0",
            "_model_name": "LayoutModel",
            "_view_count": null,
            "_view_module": "@jupyter-widgets/base",
            "_view_module_version": "1.2.0",
            "_view_name": "LayoutView",
            "align_content": null,
            "align_items": null,
            "align_self": null,
            "border": null,
            "bottom": null,
            "display": null,
            "flex": null,
            "flex_flow": null,
            "grid_area": null,
            "grid_auto_columns": null,
            "grid_auto_flow": null,
            "grid_auto_rows": null,
            "grid_column": null,
            "grid_gap": null,
            "grid_row": null,
            "grid_template_areas": null,
            "grid_template_columns": null,
            "grid_template_rows": null,
            "height": null,
            "justify_content": null,
            "justify_items": null,
            "left": null,
            "margin": null,
            "max_height": null,
            "max_width": null,
            "min_height": null,
            "min_width": null,
            "object_fit": null,
            "object_position": null,
            "order": null,
            "overflow": null,
            "overflow_x": null,
            "overflow_y": null,
            "padding": null,
            "right": null,
            "top": null,
            "visibility": null,
            "width": null
          }
        },
        "cf8280c92fef40dfb96fd09ebad160b6": {
          "model_module": "@jupyter-widgets/base",
          "model_name": "LayoutModel",
          "model_module_version": "1.2.0",
          "state": {
            "_model_module": "@jupyter-widgets/base",
            "_model_module_version": "1.2.0",
            "_model_name": "LayoutModel",
            "_view_count": null,
            "_view_module": "@jupyter-widgets/base",
            "_view_module_version": "1.2.0",
            "_view_name": "LayoutView",
            "align_content": null,
            "align_items": null,
            "align_self": null,
            "border": null,
            "bottom": null,
            "display": null,
            "flex": null,
            "flex_flow": null,
            "grid_area": null,
            "grid_auto_columns": null,
            "grid_auto_flow": null,
            "grid_auto_rows": null,
            "grid_column": null,
            "grid_gap": null,
            "grid_row": null,
            "grid_template_areas": null,
            "grid_template_columns": null,
            "grid_template_rows": null,
            "height": null,
            "justify_content": null,
            "justify_items": null,
            "left": null,
            "margin": null,
            "max_height": null,
            "max_width": null,
            "min_height": null,
            "min_width": null,
            "object_fit": null,
            "object_position": null,
            "order": null,
            "overflow": null,
            "overflow_x": null,
            "overflow_y": null,
            "padding": null,
            "right": null,
            "top": null,
            "visibility": null,
            "width": null
          }
        },
        "e42e52b65b3241a89a0894c947ef9e84": {
          "model_module": "@jupyter-widgets/controls",
          "model_name": "TabModel",
          "model_module_version": "1.5.0",
          "state": {
            "_dom_classes": [],
            "_model_module": "@jupyter-widgets/controls",
            "_model_module_version": "1.5.0",
            "_model_name": "TabModel",
            "_titles": {
              "0": "Youtube",
              "1": "Bilibili"
            },
            "_view_count": null,
            "_view_module": "@jupyter-widgets/controls",
            "_view_module_version": "1.5.0",
            "_view_name": "TabView",
            "box_style": "",
            "children": [
              "IPY_MODEL_3ceda265c46c48dda4d72de7ae3052a6",
              "IPY_MODEL_82dd8ee0656f4c2b8a27ea3ed0691368"
            ],
            "layout": "IPY_MODEL_8a796e0fb60f4d8cb1aee606aef012df",
            "selected_index": 0
          }
        },
        "3ceda265c46c48dda4d72de7ae3052a6": {
          "model_module": "@jupyter-widgets/output",
          "model_name": "OutputModel",
          "model_module_version": "1.0.0",
          "state": {
            "_dom_classes": [],
            "_model_module": "@jupyter-widgets/output",
            "_model_module_version": "1.0.0",
            "_model_name": "OutputModel",
            "_view_count": null,
            "_view_module": "@jupyter-widgets/output",
            "_view_module_version": "1.0.0",
            "_view_name": "OutputView",
            "layout": "IPY_MODEL_9ca5b146cc934849b9c07dbc773d43a6",
            "msg_id": "",
            "outputs": [
              {
                "output_type": "stream",
                "name": "stdout",
                "text": [
                  "Video available at https://youtube.com/watch?v=gQYyFWI3X2s\n"
                ]
              },
              {
                "output_type": "display_data",
                "data": {
                  "text/plain": "<IPython.lib.display.YouTubeVideo at 0x7f2b33492ed0>",
                  "text/html": "\n        <iframe\n            width=\"854\"\n            height=\"480\"\n            src=\"https://www.youtube.com/embed/gQYyFWI3X2s?fs=1&rel=0\"\n            frameborder=\"0\"\n            allowfullscreen\n        ></iframe>\n        ",
                  "image/jpeg": "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\n"
                },
                "metadata": {}
              }
            ]
          }
        },
        "82dd8ee0656f4c2b8a27ea3ed0691368": {
          "model_module": "@jupyter-widgets/output",
          "model_name": "OutputModel",
          "model_module_version": "1.0.0",
          "state": {
            "_dom_classes": [],
            "_model_module": "@jupyter-widgets/output",
            "_model_module_version": "1.0.0",
            "_model_name": "OutputModel",
            "_view_count": null,
            "_view_module": "@jupyter-widgets/output",
            "_view_module_version": "1.0.0",
            "_view_name": "OutputView",
            "layout": "IPY_MODEL_00fbbaef5ea2497d9f73384a17eb5f84",
            "msg_id": "",
            "outputs": [
              {
                "output_type": "stream",
                "name": "stdout",
                "text": [
                  "Video available at https://www.bilibili.com/video/BV1R64y1s7EU\n"
                ]
              },
              {
                "output_type": "display_data",
                "data": {
                  "text/plain": "<__main__.BiliVideo at 0x7f2b334833d0>",
                  "text/html": "\n        <iframe\n            width=\"854\"\n            height=\"480\"\n            src=\"https://player.bilibili.com/player.html?bvid=BV1R64y1s7EU&page=1?fs=1\"\n            frameborder=\"0\"\n            allowfullscreen\n        ></iframe>\n        "
                },
                "metadata": {}
              }
            ]
          }
        },
        "8a796e0fb60f4d8cb1aee606aef012df": {
          "model_module": "@jupyter-widgets/base",
          "model_name": "LayoutModel",
          "model_module_version": "1.2.0",
          "state": {
            "_model_module": "@jupyter-widgets/base",
            "_model_module_version": "1.2.0",
            "_model_name": "LayoutModel",
            "_view_count": null,
            "_view_module": "@jupyter-widgets/base",
            "_view_module_version": "1.2.0",
            "_view_name": "LayoutView",
            "align_content": null,
            "align_items": null,
            "align_self": null,
            "border": null,
            "bottom": null,
            "display": null,
            "flex": null,
            "flex_flow": null,
            "grid_area": null,
            "grid_auto_columns": null,
            "grid_auto_flow": null,
            "grid_auto_rows": null,
            "grid_column": null,
            "grid_gap": null,
            "grid_row": null,
            "grid_template_areas": null,
            "grid_template_columns": null,
            "grid_template_rows": null,
            "height": null,
            "justify_content": null,
            "justify_items": null,
            "left": null,
            "margin": null,
            "max_height": null,
            "max_width": null,
            "min_height": null,
            "min_width": null,
            "object_fit": null,
            "object_position": null,
            "order": null,
            "overflow": null,
            "overflow_x": null,
            "overflow_y": null,
            "padding": null,
            "right": null,
            "top": null,
            "visibility": null,
            "width": null
          }
        },
        "9ca5b146cc934849b9c07dbc773d43a6": {
          "model_module": "@jupyter-widgets/base",
          "model_name": "LayoutModel",
          "model_module_version": "1.2.0",
          "state": {
            "_model_module": "@jupyter-widgets/base",
            "_model_module_version": "1.2.0",
            "_model_name": "LayoutModel",
            "_view_count": null,
            "_view_module": "@jupyter-widgets/base",
            "_view_module_version": "1.2.0",
            "_view_name": "LayoutView",
            "align_content": null,
            "align_items": null,
            "align_self": null,
            "border": null,
            "bottom": null,
            "display": null,
            "flex": null,
            "flex_flow": null,
            "grid_area": null,
            "grid_auto_columns": null,
            "grid_auto_flow": null,
            "grid_auto_rows": null,
            "grid_column": null,
            "grid_gap": null,
            "grid_row": null,
            "grid_template_areas": null,
            "grid_template_columns": null,
            "grid_template_rows": null,
            "height": null,
            "justify_content": null,
            "justify_items": null,
            "left": null,
            "margin": null,
            "max_height": null,
            "max_width": null,
            "min_height": null,
            "min_width": null,
            "object_fit": null,
            "object_position": null,
            "order": null,
            "overflow": null,
            "overflow_x": null,
            "overflow_y": null,
            "padding": null,
            "right": null,
            "top": null,
            "visibility": null,
            "width": null
          }
        },
        "00fbbaef5ea2497d9f73384a17eb5f84": {
          "model_module": "@jupyter-widgets/base",
          "model_name": "LayoutModel",
          "model_module_version": "1.2.0",
          "state": {
            "_model_module": "@jupyter-widgets/base",
            "_model_module_version": "1.2.0",
            "_model_name": "LayoutModel",
            "_view_count": null,
            "_view_module": "@jupyter-widgets/base",
            "_view_module_version": "1.2.0",
            "_view_name": "LayoutView",
            "align_content": null,
            "align_items": null,
            "align_self": null,
            "border": null,
            "bottom": null,
            "display": null,
            "flex": null,
            "flex_flow": null,
            "grid_area": null,
            "grid_auto_columns": null,
            "grid_auto_flow": null,
            "grid_auto_rows": null,
            "grid_column": null,
            "grid_gap": null,
            "grid_row": null,
            "grid_template_areas": null,
            "grid_template_columns": null,
            "grid_template_rows": null,
            "height": null,
            "justify_content": null,
            "justify_items": null,
            "left": null,
            "margin": null,
            "max_height": null,
            "max_width": null,
            "min_height": null,
            "min_width": null,
            "object_fit": null,
            "object_position": null,
            "order": null,
            "overflow": null,
            "overflow_x": null,
            "overflow_y": null,
            "padding": null,
            "right": null,
            "top": null,
            "visibility": null,
            "width": null
          }
        },
        "3307fe147cf14bf183108593a528712d": {
          "model_module": "@jupyter-widgets/controls",
          "model_name": "TabModel",
          "model_module_version": "1.5.0",
          "state": {
            "_dom_classes": [],
            "_model_module": "@jupyter-widgets/controls",
            "_model_module_version": "1.5.0",
            "_model_name": "TabModel",
            "_titles": {
              "0": "Youtube",
              "1": "Bilibili"
            },
            "_view_count": null,
            "_view_module": "@jupyter-widgets/controls",
            "_view_module_version": "1.5.0",
            "_view_name": "TabView",
            "box_style": "",
            "children": [
              "IPY_MODEL_e90c7e1943214a00bd498af53a604074",
              "IPY_MODEL_feb04f5522e4473582ffefbe10486b7d"
            ],
            "layout": "IPY_MODEL_fb30e7fedb654319b320540c3bc151f9",
            "selected_index": 0
          }
        },
        "e90c7e1943214a00bd498af53a604074": {
          "model_module": "@jupyter-widgets/output",
          "model_name": "OutputModel",
          "model_module_version": "1.0.0",
          "state": {
            "_dom_classes": [],
            "_model_module": "@jupyter-widgets/output",
            "_model_module_version": "1.0.0",
            "_model_name": "OutputModel",
            "_view_count": null,
            "_view_module": "@jupyter-widgets/output",
            "_view_module_version": "1.0.0",
            "_view_name": "OutputView",
            "layout": "IPY_MODEL_b4bf6cf4df0940aeaf556ca7cbc555ff",
            "msg_id": "",
            "outputs": [
              {
                "output_type": "stream",
                "name": "stdout",
                "text": [
                  "Video available at https://youtube.com/watch?v=tR-5zraPOto\n"
                ]
              },
              {
                "output_type": "display_data",
                "data": {
                  "text/plain": "<IPython.lib.display.YouTubeVideo at 0x7f2b3353ddd0>",
                  "text/html": "\n        <iframe\n            width=\"854\"\n            height=\"480\"\n            src=\"https://www.youtube.com/embed/tR-5zraPOto?fs=1&rel=0\"\n            frameborder=\"0\"\n            allowfullscreen\n        ></iframe>\n        ",
                  "image/jpeg": "/9j/4AAQSkZJRgABAQAAAQABAAD/2wCEABALDBoYFhoYGBkeHRsdIiImICEiHzEnJSUmLio1MS0nLSs1PVBCNThLOSstRWFFS1NWW11eMkVlbWRYbFBZW1cBERISGRYZLRoaMFc2LTdXV1dXV1dXV1dXV1dXV1dXV1dXV2NXV1dXV1dXV1ddV1dXXVddWldXV1dXV1dXV1dXV//AABEIAWgB4AMBIgACEQEDEQH/xAAbAAEAAQUBAAAAAAAAAAAAAAAABQEDBAYHAv/EAEAQAAIBAwEFBAgEBQMDBQEAAAABAgMEERITITFRkhdBU9IFFBUiMlJhcQZUgZEWI0KhscHR8HKCsgczNXTxJP/EABgBAQEBAQEAAAAAAAAAAAAAAAABAgME/8QAIREBAAMAAgIBBQAAAAAAAAAAAAECERIxIVFhAxMiQVL/2gAMAwEAAhEDEQA/AOfgAAAAAAAAAAAAAAAAAAAAAAAAAAAAAAAAAAAAAAAAAAAAAAAAAAAAAAAAAAAAAAAAAAAAAAAAAAAAAAAAAAAAAAAAAAAAAAAAAAAAAAAAAAAAAAAAAAAAAAAAAAAAAAAAAAAAAAAAAAAAAAAAAAAAAAAAAAAAAAAA2/s4vfFt+ufkHZxe+Lb9c/IBqANv7OL3xbfrn5B2cXvi2/XPyAagDb+zi98W365+QdnF74tv1z8gGoA2/s4vfFt+ufkHZxe+Lb9c/IBqANv7OL3xbfrn5B2cXvi2/XPyAagDb+zi98W365+QdnF74tv1z8gGoA2/s4vfFt+ufkHZxe+Lb9c/IBqANv7OL3xbfrn5B2cXvi2/XPyAagDb+zi98W365+QdnF74tv1z8gGoA2/s4vfFt+ufkHZxe+Lb9c/IBqANv7OL3xbfrn5B2cXvi2/XPyAagDb+zi98W365+QdnF74tv1z8gGoA2/s4vfFt+ufkHZxe+Lb9c/IBqANv7OL3xbfrn5B2cXvi2/XPyAagDb+zi98W365+QdnN74tv1z8gGoAveqy5or6rLmgLAL/qsuaHqsuaAsAv+qy5oeqy5oCwC/6rLmh6rLmgLAL/AKrLmh6rLmgLAL/qsuaHqsuaAsAv+qy5ozLD0HVrqThKC04zqb7/ALICMBO/wpcfPS6peUp/Ctx89Lql5QuIME5/Ctx89Lql5Sv8J3Hz0v3l5QiCBPL8I3Hz0uqXlPX8IXPz0eqXlBjXwbB/B9z89Hql5R/B9z89Hql5QY18E/8Awhc/NS6peUo/wlcfPS6peULiBBO/wncfPS6peUp/Ctx89Lql5QZKDBOfwrX+el1S8o/hav8APS6peUGSgwTb/C1f56XVLylP4Yr/AD0v3f8AsXJMdlABEAAAAAAAAAAAAAAAAAAAAAAAAAAAAAAAAAAAKPgypR8GBxJAIFZAAAAAAAAAAAAAA2H8L/DV+8f8M142L8L/AA1fvH/DC17TmCukIqHQwekih7QQSK4BUClSaist4SIyt6ZS3Qj+rLHpq4bmqa/p4/dkdsXgNRGpml6YzhSj+xJwmpLKeUzU40pdxLehary4vh/qJMxKuKLc6aLx5kQYsotFtsvyWOLMeUs57ywPMqh41FX9jxg61Rv4AOLAAAAAAAAAAAAAAAAAAAAAAAAAAAAAAAAAAABR8GVKPgwOJIBArIAAAAAAAAAAAAAEp6Hk0p4feiLJb0FHMmvqg1Xts1PdFJ8i4mW0VRGlxHtMtZMT2nH5Zf2/3KsRM9JENkd7Uj8sv7f7lJelI4acZY/T/czsNcLekM67lOU5b2z3C63744LdKGFnmUVLfjPE1OLGwkYXdOO5oybZwdeEoPc0zBqWOJJxaSaT/wCfsZVOnokt6XBuXfu3vH6GIzfDdtxMs8shfWqkqmYtrL3ImYZws8e86TXHHXirHKMSHHHLBnSRgqOJlr2Sz6Vg3h7ilWx343Gb6Pr5lofet33L9xDg8HfxE5LyzedSwAPK7gAAAAAAAAAAAAAAAAAAAAAAAAAAAAAAAAAAFHwZUo+DA4kgECsgAAAAAAAAAAAAATv4ajvqPlggjYPwz8NX7x/wyS1XtN5PSPB6RYaeLmWKcn9GQ7ffyJa9hKVNqKy3j/JHO1q/J/dEl0+nnvFhZ+55cXv3/wD6ZHqdb5P7oep1vk/ujHn06/j/AExqD3YKVamHu4lK1GdKa1rGd6PLXB5SybZiUha1XNYe9LufcZUKalJLC3cSPpLTiWrP6Ep6NpPDk1xxj7GM8ra2Qu0bCMJ6ln6J9xllAdN1wGYdTdIzDFq/EywM20lwfLgSSqayIs3hElbNuLPRPmNeW8ZKZAB5XcAAAAAAAAAAAAAAAAAAAAAAAAAAAAAAAAAAAo+DKlHwYHEkAgVkAAAAAAAAAAAAADYPwz8NX7x/wzXyf/DXw1fvH/DCx2mz0jyeitvR6Ma5uoUlmT+y72QV56SnUbw9MeGE/wDJqK6jYqlzTj8U4r7sw6/pqjFPS3J9yS3fuay2eS8BKXV1K4UZNJYzjH/PoY0Ztbmtx6s5ZjjkZCgjMxjpBR1Ta+Vf4NhpXMJYUZLetyzv/YhJ1FCD+qwYUJNMla6WbdqGTX7e9nH+pv77yTt71S3S3P8AsXjMMM3JYqLee8nio96Ir1bvG4krOpxREUp5ZIUZYaZ3p1jleGyAA8zQAAAAAAAAAAAAAAAAAAAAAAAAAAAAAAAAAABR8GVKPgwOJIBArIAAAAAAAAAAAAAE7+HJpRq5aW+PF/RkEAsN220fmj+6LN3fRprc05Pgs/5NPwC6vJJ167nJylLLf1LEpGGDfM5MlspkxwPuGsqnU0vOTLjcJ78kUCTf4OUpOdbU85KKS5ojQWL5+jklo1FzX7l+nWXNfuQQHM5Nttr5LdKSx9zJqV4tfEv3RpIwYmTk3KnWin8S/dGTSvI53yjj7o0TAwbi+JM67cADkoAAAAAAAAAAAAAAAAAAAAAAAAAAAAAAAAAABR8GVKPgwOJIBArIAAAAAAAAAAAAAAAAAAAAAAAAAAAAAAAAAAAAA7cACNAAAAAAARPpH0/St6yoOnWqVHBTxSp6/dy1nc+aAlgQtH8RwnOMPVbxapJZlbtRWXjLfciaAAAAC3cVlTpzqSziEXJ444SyzxZXUa9GnWhnTUipRzxw1lZAvgAAAWqlzCM4QlOKnUzoi3vlhZeF34AugxK/pGlTr0reUmqlbVoWHv0rL39xlgAAAAAAAAAAAKPgypR8GBxJAIFZAAAAAAAAAAAAAAAAAAAAAAAAAAAAAAAAAAAAAHbgARoAAAAADVPSN9G39NKpKFSadppxTg5y31M5wu7dxNrNT9I+kqNr6aVS4qKEHZ6U2m97qZSwl9GBJ0PxHTqTjBULpOUkk5W8lFZeMt9yPfo+/qO8ubWtjMNNSk0saqUv9nuyW6H4ssKk404XKcpyUYrRPe28JcC1+JX6vUt/SCTxRlorY76U9z/aWGBkq/qVPSLtqbWyo01Ks8ZeuXwR+m7eWa8L2dSSV5Qt3l7OkqaqNrO5ycmnv+iK/hi3mreVxNfzrqUq0s9yl8Efso4If0A7BUHG+2PrmuW3VdJ1XPU8Yzve7GMASlr6Rnc+j7p1VFVaSr0qmn4XKMXvX04FilfTt/RNjOm1lq2g8rO6WEzH9Atez/SWnOFVusas6ktCxqzvz995S7T9h2k1FyVNW05JcdMWm2BsHpy6lQs69anjXThKUcrKyjzXq3EranKi6aqSUHKVTKjFNZcsLj9txEfiD0/bVrC4hQqbaU6Ut0E3pWPin8qX1Kenkth6PdbLtFKHrGM4xo9zVj+nPH9ALla8urWVGpO5pXVCdSFOaVNQlFyeFKLTed/cyz6fo3D9JWWitBapVdjmnnRimtWrf72d/LBj+nJWLhQdpstW3oZdBLTp1cJ6d32z+neSP4krxo3no2tVkoUoTrKU3wTlTwsgZVxeVad5Y27cZKpCrtHpxmUYreuSyWrm+uLi6qWtpKNKNFR21aUNb1SWVCMeD3cWWryvCp6S9GVISUoThcOLXBrQjxC7jYX1z6x7lG6lGpTqte7qUcShJ9z3ZQF+3vrm3uqdtdyhVhX1bKtGGh6ksuE48OHBlJ3t3Uvbm2oypwhTjSanKOpw1J5xH+pt83hY7yxWu4397bK2eujbTdSrVS9zVpxGEX3veZHo3/5X0h/0W3/jIB6PurqlfO0uaka0Z0nUhUUNDWJJOLS3d/8AzuniDr//ADFD/wCrV/8AOJOAAAAAAAo+DKlHwYHEkACsgAAAAAAAAAAAAAAAAAAAAAAAAAAAAAAAAAAAADtwAI0AAAAABQqAKYBUAUKOEc6sLPPG/wDc9ACmAVAHmNOMeEUvssFWioA8xgksJJLkkJRTWGk1yayegBTAlFNYaTXJlQB5jFJYSSXJFSoAoVAAAAAAABR8GVKPgwOJIBArIAAAAAAAAAAAAAAAAAAAAAAAAAAAAAAAAAAAAA7cACNAAAAAAAAABiekq7p0ZaPjliMMcdUty/bj+gGRTqRmsxkpLesp5WVxPZBKpsIV6cIzpp0XOnqxnVCOJY3/APQ/3Mi5qVKTnpqSl/Kcvew9LTSckscnnH0Ak9Szpys4zjO/HM9EJcVFFzdOs5tW82palJp5jvyi/czlGoqbnJR0alJzUXKWXnfju3bvqBKAh61xNxSc8SjS1uSqKMXnKTj7r1cOHDeuZk3kpTtMrLcowclHi45Tml/25AyaV1TnJxhUhKS4qMk2vukXjBdxQahstnOaUnSjHDe6L4Y4cjGpXD/lOFfW5xk55w1HEW9eP6cSwsfUCXBDwuJaJx2qU0qb1OqnB5lh4ljMW964fY907zfSzNpKrKEtUk1/7baWpcVw+oEqDFsK2uMpatS2lRJ/RSeMGUAAAAAAAAAKPgypR8AOJAIFZAAAAAAAAAAAAAAAAAAAAAAAAAAAAAAAAAAAAAHbgARoAAAAAUKkJayhTnFQ2VaTU8Thuq7k37/Phhvdva3F9XeKamrhTbdLUvdxBOaUtyWUsNrfwAlCjS7+7gRkrxylJKqow2qjrWl6VslLCb3b5Pi88uR49aeVUb1aIXGmSS95Jww+X+m4CVcU+KT/AEK4XEwvR9abnUhKanpUHlNP4s7spLly7yLrZp21zLe6dR3KkuOmWuaUvs9yf6PmBPqnH5V+xWUU+KT+6I6tdSU5/wAzEozjGNLC99PH0y85e9PCx9GVVWo0ntWtVacN0Y7opz4buO5ft+4SEop4yk8cMorwIunc1IqMpVJTWqtFx0x3qGrDWF8Xu/bfwLTuJSUoympr+RJe9GWM1VuykuS/3AmFBLLSSb47uIUUstJLPH6kdRupyqfFh7SUXTbilpTfBfFnCTHpKEHUi5yo5UX7lb4Xv4xfc+bw+4CRUIpNJLD47uI2ccY0rHLG4iZekNNKo09ni3hKnGWMptS4Z48InutdSU6uK2JQqRUKeI+8nGO7hni3vTAlEscARtG6nKpjVh7SUXTbilpTfBfFnCTLca9RU6VXO0m6dSaTiuOhNJYWQJcETO7klJU621WjVqxF6Jakktyxhpvc+R6uLipGcobTDjFOOrQlNvvlnuzu3YAlAURUAAABR8CpR8AOJIAFZAAAAAAAAAAAAAAAAAAAAAAAAAAAAAAAAAAAAAHbgARoAAAAAUwuQ0rfuW/iVAFNK4YR51xw3lYjnLzwxxzyPZF1amiNzTcZ6puehKLerVHdh8OP7ASUUsbsY+hSLi08Yay08c+9EdOnNKo9U8wdLSlJ44Rzu71xFSrVhmcVKWZ1Iad7WW/cf2ysZ+v0Ak8d/eMETUVWMnDVLMVFU5OU9+5ZbUU1J6s5z3cuJcqRlipJzmv5mFvljSu73d6X1AkHOKeG4ppZ4rhzK6VyX7ERX1TpSTjUS2Ut2qTeVPnub3L74L+uW1VGMpaZONRSy8qC4xy9/wASj+k3yAkcLjjeeJ1IalCTjqe9RbWXjkjFvH/MWt1FT0vGjV8We/Tv4cF9y3Y05bXXU1a3Rpast4zmWd3DPD/jAypXVHXs3Up6+GlyWrL7scT1RpwzOUWnqk23nOJJKLX0+EwVazqSuIalGnKos5g3JrTDg847uR4rTmlqbm8SrYgnOOr392JR78cE+OQJbCznG8YXIjKlSe2ytSxUhHT72+Lxl/Lje+79e4kwGlckGlyKgAAAAAAFHwKlHwA4kACsgAAAAAAAAAAAAAAAAAAAAAAAAAAAAAAAAAAAADtwAI0AAAAAAAAAAAY076nFtNyendJqEnGL+sksL/QyTAobSknTVJz96bjJSiovVJy97Lynv37mBnDJGTtZa3/LzN1VJVsrdDUnjOc/DmOMY/crTsMbNumtW0q63uy4S14T5rfHcBnU60ZYcctSipJ4eGnw3/6FY0oqUpr4pYTeW+HcuX6EVTsp7KENnpxTpxkt3FTTlwf3ZelauE9VOn7qqxkoxwsrZuLaW5cWBJZPG1jqlHO+KUn9nnH/AIsjnbTljXS91zqyaxCTTb934srGM8PoW1a1nT0ad86NCnJt5xjVrzvzweP1AkKd7TlTVVN6G0s4aeXLSt3HizJIqdtVzNaYtTlSn7u5JxnHVub+VJ/oyVAoCoAAAAAAAAAFHwKlHwA4kACsgAAAAAAAAAAAAAAAAAAAAAAAAAAAAAAAAAAAADtwMDby+ZlNvL5mRpIAj9vL5mNvL5mBIAj9vL5mNvL5mBIAj9vL5mNvL5mBIAj9vL5mNvL5mBIAj9vL5mNvL5mBIAj9vL5mNvL5mBnlSP28vmY28vmYEgCP28vmY28vmYEgCP28vmY28vmYEgCP28vmY28vmYEgCP28vmY28vmYEgCP28vmY28vmYEgCP28vmY28vmYEgUfAwNvL5mWLq/lTS97e+bwktyy3+qX6gcoBu3pH0bSpQzG0hUfB7OnpwpPdJNt5aSe769xJUvQdq171rRTy+G9Y7t+F3FTHNwdK9hWn5an0j2FaflqfSDHNQdK9g2n5an0j2DaflqfSDHNQdK9g2n5an0j2DaflqfSDHNQdK9g2n5an0j2DaflqfSDHNQdK9g2n5an0j2DaflqfSDHNQdK9g2n5an0j2DaflqfSDHNQdK9g2n5an0j2DaflqfSDHNQdK9g2n5an0j2DaflqfSDHNQdK9g2n5an0j2DaflqfSDHNQdK9g2n5an0j2DaflqfSDHNQdK9g2n5an0j2DaflqfSDHNQdK9g2n5an0j2DaflqfSDHNQdK9g2n5an0nl+hLJNJ0KSb4ZS3/YGObg6RD0LZSzpoUXjjhJ4Kv0FaYf/APPT6QYkiIuIXanXdLOG3KnlxaeKUFGOG9yclLl/qT2zXIrs1yIrX4RvIqpvk8Oq46tD1Zn7qX/a3hPG9b9x4frsnBSUlHVF5TgnhVHnaYfHTp3RynvNj2ceQ2a5AQFKrePRqpzisxUsbJy+GOX8WNOrV9eGEWYRvYeJLdFN5g5vEqu+Kb099Pjh4+q3bJs48hs48gIi09Z2idbGlp6ksYTxDDT48dfHkY1t65GVOMtUo596UtHDXLU5NPPw6dOFx4mw7Nchs1yAgKtKuqtWUYzlPe6MtriilowoyhqWfez3Pjx5Ug71tN5jFN4UlT1NaobpYbS3bTh3Jd5P7OPIrs1yA1yhSvFJJynjg5ycG8ZqvKXDwu7O/wCm72q17jDpPOE8pwxvhDct73qWvisbuJsGzXIbNcgNelSupUbjOpVJUFGniSXvp1N6w8J4cN+7+267UrXUqilCk409G6MtGdXvZUmpPH9OGs8XknNmuRTZx5AQEXeuLy8NKWN0MyeY6c93By/YrGF3r3tpZ06/d+FSqYenhnGz7u/9p7Zx5DZR5Aa/Y3Vy68YVk17qc0ox0L+XHvW/Opv6ciZMjZx5DZrkBjgyNmuQ2a5AY4MjZrkNmuQGODI2a5DZrkBjgyNmuQ2a5AY4MjZrkNmuQGORfpK8jCpCOmUtco05YhqUd6lvzuw45+24nNmuR4nbQk03HOE1xeMPju4MCGa0zi178nl7Oc05U3iWNKXD43l8t3IkaUNMIxznSks/ZYMmNCC4RS+x62a5AY4MjZrkNmuQGODI2a5DZrkBjgyNmuQ2a5AY4MjZrkNmuQGODI2a5DZrkBjlJLKa5mTs1yKbNcgNWp21+tPvNtRfGe7VTg4Qys79bam/tvMtO8bgn8LTy8QznL3SxLduxhx7+K7ie2ceQ2ceQEFQhceqSjWjJ1UkkoTXJYakpRb+uZLLz3YLtrRuFb0I61GcWtpr99uGXmOcvfjHe8c3xJjZx5DZrkBr0qNwq8pQhUztJSUnVWzlT0YUFDU8PVj+lY455+qNa7104TXxSeW1HMYR0y1PG7f70f2fM2DZrkNmuQEHsrn15TePV9M47qj3fDhuGN8s6t/LljfW9tq8ra4i56qj1ujs26bW73ItprL++4mtmuQ2a5Aa/dRuvfpUlUjCOrTNSg217jjFOTzn4+P7lyErxzafux1ccQ+HVu078/Dxz38NxObOPIbKPIDXKsbxwcFGWHTks6451aW01LOU84XHBITpVPW4TUpbLZ1FJZ91S1Q0vHPGreSezjyGzXICwWLilKTiko6cpyy8Pc00lufIz9muQ2a5AR9tRcHLf7vcst9737+HFbi/LgzJ2a5FJU1h7gPYAAAAAAAAAAAAAAAAAAAAAAAAAAAAAAAAAAAAAAAAAAAAAAAAAAAAAAAAAAAAAAAAAAAAAAAAAAAAAUlwZUpLgwKg5r2hXnhW/TPzjtCvPCt+mfnA6UDmvaFeeFb9M/OO0K88K36Z+cDpQOa9oV54Vv0z847Qrzwrfpn5wOlA5r2hXnhW/TPzjtCvPCt+mfnA6UDmvaFeeFb9M/OO0K88K36Z+cDpQOa9oV54Vv0z847Qrzwrfpn5wOlA5r2hXnhW/TPzjtCvPCt+mfnA6UDmvaFeeFb9M/OO0K88K36Z+cDpQOa9oV54Vv0z847Qrzwrfpn5wOlA5r2hXnhW/TPzjtCvPCt+mfnA6UDmvaFeeFb9M/OO0K88K36Z+cDpQOa9oV54Vv0z847Qrzwrfpn5wOlA5r2hXnhW/TPzjtCvPCt+mfnA6UDmvaFeeFb9M/OO0K88K36Z+cDpQOa9oV54Vv0z847Qrzwrfpn5wOlA5r2hXnhW/TPzjtCvPCt+mfnA6UDmvaFeeFb9M/OO0K88K36Z+cDpQOa9oV54Vv0z847Qrzwrfpn5wOlA5r2hXnhW/TPzh/8AqDeeHb9EvMB0oHNe0K88K36Z+cdoV54Vv0z84HSgc17Qrzwrfpn5x2hXnhW/TPzgdKBzXtCvPCt+mfnHaFeeFb9M/OB0oHNe0K88K36Z+cdoV54Vv0z84HSgc17Qrzwrfpn5x2hXnhW/TPzgdKBzXtCvPCt+mfnHaFeeFb9M/OB0oHNe0K88K36Z+cdoV54Vv0z84HSgc17Qrzwrfpn5x2hXnhW/TPzgdKBzXtCvPCt+mfnHaFeeFb9M/OB0oHNe0K88K36Z+cdoV54Vv0z84HSikuDObdoV54Vv0z84f/qDeeFb9M/OBqYAAAAAAAAAAAAAAAAAAAAAAAAAAAAAAAAAAAAAAAAAAAAAAAAAAAAAAAAAAAAAAAAAAAAAAAAAAAAAAAAAAAAAAAAAAAAAAAAAAAAAAAAAAAAAAAAAAAAAAAAAAAAAAAAAAAAAAAAAAAAAAAAAAAAAAAAAAAAAAAAAAAAAAAAAAAAAAAAAAAAAAAAAAAAAAAAAAAAAAAAAAAAAAAAAAAAAAAAAAAAAAAAAAAAAAAAAAAAAAAP/2Q==\n"
                },
                "metadata": {}
              }
            ]
          }
        },
        "feb04f5522e4473582ffefbe10486b7d": {
          "model_module": "@jupyter-widgets/output",
          "model_name": "OutputModel",
          "model_module_version": "1.0.0",
          "state": {
            "_dom_classes": [],
            "_model_module": "@jupyter-widgets/output",
            "_model_module_version": "1.0.0",
            "_model_name": "OutputModel",
            "_view_count": null,
            "_view_module": "@jupyter-widgets/output",
            "_view_module_version": "1.0.0",
            "_view_name": "OutputView",
            "layout": "IPY_MODEL_5eaba03fce884f2694f9a458a39ac939",
            "msg_id": "",
            "outputs": [
              {
                "output_type": "stream",
                "name": "stdout",
                "text": [
                  "Video available at https://www.bilibili.com/video/BV1aq4y1H7SH\n"
                ]
              },
              {
                "output_type": "display_data",
                "data": {
                  "text/plain": "<__main__.BiliVideo at 0x7f2b3050c110>",
                  "text/html": "\n        <iframe\n            width=\"854\"\n            height=\"480\"\n            src=\"https://player.bilibili.com/player.html?bvid=BV1aq4y1H7SH&page=1?fs=1\"\n            frameborder=\"0\"\n            allowfullscreen\n        ></iframe>\n        "
                },
                "metadata": {}
              }
            ]
          }
        },
        "fb30e7fedb654319b320540c3bc151f9": {
          "model_module": "@jupyter-widgets/base",
          "model_name": "LayoutModel",
          "model_module_version": "1.2.0",
          "state": {
            "_model_module": "@jupyter-widgets/base",
            "_model_module_version": "1.2.0",
            "_model_name": "LayoutModel",
            "_view_count": null,
            "_view_module": "@jupyter-widgets/base",
            "_view_module_version": "1.2.0",
            "_view_name": "LayoutView",
            "align_content": null,
            "align_items": null,
            "align_self": null,
            "border": null,
            "bottom": null,
            "display": null,
            "flex": null,
            "flex_flow": null,
            "grid_area": null,
            "grid_auto_columns": null,
            "grid_auto_flow": null,
            "grid_auto_rows": null,
            "grid_column": null,
            "grid_gap": null,
            "grid_row": null,
            "grid_template_areas": null,
            "grid_template_columns": null,
            "grid_template_rows": null,
            "height": null,
            "justify_content": null,
            "justify_items": null,
            "left": null,
            "margin": null,
            "max_height": null,
            "max_width": null,
            "min_height": null,
            "min_width": null,
            "object_fit": null,
            "object_position": null,
            "order": null,
            "overflow": null,
            "overflow_x": null,
            "overflow_y": null,
            "padding": null,
            "right": null,
            "top": null,
            "visibility": null,
            "width": null
          }
        },
        "b4bf6cf4df0940aeaf556ca7cbc555ff": {
          "model_module": "@jupyter-widgets/base",
          "model_name": "LayoutModel",
          "model_module_version": "1.2.0",
          "state": {
            "_model_module": "@jupyter-widgets/base",
            "_model_module_version": "1.2.0",
            "_model_name": "LayoutModel",
            "_view_count": null,
            "_view_module": "@jupyter-widgets/base",
            "_view_module_version": "1.2.0",
            "_view_name": "LayoutView",
            "align_content": null,
            "align_items": null,
            "align_self": null,
            "border": null,
            "bottom": null,
            "display": null,
            "flex": null,
            "flex_flow": null,
            "grid_area": null,
            "grid_auto_columns": null,
            "grid_auto_flow": null,
            "grid_auto_rows": null,
            "grid_column": null,
            "grid_gap": null,
            "grid_row": null,
            "grid_template_areas": null,
            "grid_template_columns": null,
            "grid_template_rows": null,
            "height": null,
            "justify_content": null,
            "justify_items": null,
            "left": null,
            "margin": null,
            "max_height": null,
            "max_width": null,
            "min_height": null,
            "min_width": null,
            "object_fit": null,
            "object_position": null,
            "order": null,
            "overflow": null,
            "overflow_x": null,
            "overflow_y": null,
            "padding": null,
            "right": null,
            "top": null,
            "visibility": null,
            "width": null
          }
        },
        "5eaba03fce884f2694f9a458a39ac939": {
          "model_module": "@jupyter-widgets/base",
          "model_name": "LayoutModel",
          "model_module_version": "1.2.0",
          "state": {
            "_model_module": "@jupyter-widgets/base",
            "_model_module_version": "1.2.0",
            "_model_name": "LayoutModel",
            "_view_count": null,
            "_view_module": "@jupyter-widgets/base",
            "_view_module_version": "1.2.0",
            "_view_name": "LayoutView",
            "align_content": null,
            "align_items": null,
            "align_self": null,
            "border": null,
            "bottom": null,
            "display": null,
            "flex": null,
            "flex_flow": null,
            "grid_area": null,
            "grid_auto_columns": null,
            "grid_auto_flow": null,
            "grid_auto_rows": null,
            "grid_column": null,
            "grid_gap": null,
            "grid_row": null,
            "grid_template_areas": null,
            "grid_template_columns": null,
            "grid_template_rows": null,
            "height": null,
            "justify_content": null,
            "justify_items": null,
            "left": null,
            "margin": null,
            "max_height": null,
            "max_width": null,
            "min_height": null,
            "min_width": null,
            "object_fit": null,
            "object_position": null,
            "order": null,
            "overflow": null,
            "overflow_x": null,
            "overflow_y": null,
            "padding": null,
            "right": null,
            "top": null,
            "visibility": null,
            "width": null
          }
        },
        "7bf36d6d87e547c29486810af082ac49": {
          "model_module": "@jupyter-widgets/controls",
          "model_name": "TextareaModel",
          "model_module_version": "1.5.0",
          "state": {
            "_dom_classes": [],
            "_model_module": "@jupyter-widgets/controls",
            "_model_module_version": "1.5.0",
            "_model_name": "TextareaModel",
            "_view_count": null,
            "_view_module": "@jupyter-widgets/controls",
            "_view_module_version": "1.5.0",
            "_view_name": "TextareaView",
            "continuous_update": true,
            "description": "",
            "description_tooltip": null,
            "disabled": false,
            "layout": "IPY_MODEL_57ab143ec91940589d2ad2d70f67c30e",
            "placeholder": "Type something",
            "rows": null,
            "style": "IPY_MODEL_6f6c000f5b714c8481166598c9842cea",
            "value": "Type your answer here and click on `Submit!`"
          }
        },
        "57ab143ec91940589d2ad2d70f67c30e": {
          "model_module": "@jupyter-widgets/base",
          "model_name": "LayoutModel",
          "model_module_version": "1.2.0",
          "state": {
            "_model_module": "@jupyter-widgets/base",
            "_model_module_version": "1.2.0",
            "_model_name": "LayoutModel",
            "_view_count": null,
            "_view_module": "@jupyter-widgets/base",
            "_view_module_version": "1.2.0",
            "_view_name": "LayoutView",
            "align_content": null,
            "align_items": null,
            "align_self": null,
            "border": null,
            "bottom": null,
            "display": null,
            "flex": null,
            "flex_flow": null,
            "grid_area": null,
            "grid_auto_columns": null,
            "grid_auto_flow": null,
            "grid_auto_rows": null,
            "grid_column": null,
            "grid_gap": null,
            "grid_row": null,
            "grid_template_areas": null,
            "grid_template_columns": null,
            "grid_template_rows": null,
            "height": null,
            "justify_content": null,
            "justify_items": null,
            "left": null,
            "margin": null,
            "max_height": null,
            "max_width": null,
            "min_height": null,
            "min_width": null,
            "object_fit": null,
            "object_position": null,
            "order": null,
            "overflow": null,
            "overflow_x": null,
            "overflow_y": null,
            "padding": null,
            "right": null,
            "top": null,
            "visibility": null,
            "width": null
          }
        },
        "6f6c000f5b714c8481166598c9842cea": {
          "model_module": "@jupyter-widgets/controls",
          "model_name": "DescriptionStyleModel",
          "model_module_version": "1.5.0",
          "state": {
            "_model_module": "@jupyter-widgets/controls",
            "_model_module_version": "1.5.0",
            "_model_name": "DescriptionStyleModel",
            "_view_count": null,
            "_view_module": "@jupyter-widgets/base",
            "_view_module_version": "1.2.0",
            "_view_name": "StyleView",
            "description_width": ""
          }
        },
        "e828edf587fd47fb8362e38ae83ac711": {
          "model_module": "@jupyter-widgets/controls",
          "model_name": "ButtonModel",
          "model_module_version": "1.5.0",
          "state": {
            "_dom_classes": [],
            "_model_module": "@jupyter-widgets/controls",
            "_model_module_version": "1.5.0",
            "_model_name": "ButtonModel",
            "_view_count": null,
            "_view_module": "@jupyter-widgets/controls",
            "_view_module_version": "1.5.0",
            "_view_name": "ButtonView",
            "button_style": "",
            "description": "Submit!",
            "disabled": false,
            "icon": "",
            "layout": "IPY_MODEL_f2d5c57cf4164724b22f05a8a200c8ab",
            "style": "IPY_MODEL_b049e85866dc46f68741798c7f7f0dda",
            "tooltip": ""
          }
        },
        "f2d5c57cf4164724b22f05a8a200c8ab": {
          "model_module": "@jupyter-widgets/base",
          "model_name": "LayoutModel",
          "model_module_version": "1.2.0",
          "state": {
            "_model_module": "@jupyter-widgets/base",
            "_model_module_version": "1.2.0",
            "_model_name": "LayoutModel",
            "_view_count": null,
            "_view_module": "@jupyter-widgets/base",
            "_view_module_version": "1.2.0",
            "_view_name": "LayoutView",
            "align_content": null,
            "align_items": null,
            "align_self": null,
            "border": null,
            "bottom": null,
            "display": null,
            "flex": null,
            "flex_flow": null,
            "grid_area": null,
            "grid_auto_columns": null,
            "grid_auto_flow": null,
            "grid_auto_rows": null,
            "grid_column": null,
            "grid_gap": null,
            "grid_row": null,
            "grid_template_areas": null,
            "grid_template_columns": null,
            "grid_template_rows": null,
            "height": null,
            "justify_content": null,
            "justify_items": null,
            "left": null,
            "margin": null,
            "max_height": null,
            "max_width": null,
            "min_height": null,
            "min_width": null,
            "object_fit": null,
            "object_position": null,
            "order": null,
            "overflow": null,
            "overflow_x": null,
            "overflow_y": null,
            "padding": null,
            "right": null,
            "top": null,
            "visibility": null,
            "width": null
          }
        },
        "b049e85866dc46f68741798c7f7f0dda": {
          "model_module": "@jupyter-widgets/controls",
          "model_name": "ButtonStyleModel",
          "model_module_version": "1.5.0",
          "state": {
            "_model_module": "@jupyter-widgets/controls",
            "_model_module_version": "1.5.0",
            "_model_name": "ButtonStyleModel",
            "_view_count": null,
            "_view_module": "@jupyter-widgets/base",
            "_view_module_version": "1.2.0",
            "_view_name": "StyleView",
            "button_color": null,
            "font_weight": ""
          }
        },
        "9c7c173313af48a7843957f46d18dea8": {
          "model_module": "@jupyter-widgets/controls",
          "model_name": "TabModel",
          "model_module_version": "1.5.0",
          "state": {
            "_dom_classes": [],
            "_model_module": "@jupyter-widgets/controls",
            "_model_module_version": "1.5.0",
            "_model_name": "TabModel",
            "_titles": {
              "0": "Youtube",
              "1": "Bilibili"
            },
            "_view_count": null,
            "_view_module": "@jupyter-widgets/controls",
            "_view_module_version": "1.5.0",
            "_view_name": "TabView",
            "box_style": "",
            "children": [
              "IPY_MODEL_1be765c58a1b4b3c864d802ef7922271",
              "IPY_MODEL_14a2426708254e5398ee0185419b8d45"
            ],
            "layout": "IPY_MODEL_57f7f51a9d4d4461b771d6d004a2472e",
            "selected_index": 0
          }
        },
        "1be765c58a1b4b3c864d802ef7922271": {
          "model_module": "@jupyter-widgets/output",
          "model_name": "OutputModel",
          "model_module_version": "1.0.0",
          "state": {
            "_dom_classes": [],
            "_model_module": "@jupyter-widgets/output",
            "_model_module_version": "1.0.0",
            "_model_name": "OutputModel",
            "_view_count": null,
            "_view_module": "@jupyter-widgets/output",
            "_view_module_version": "1.0.0",
            "_view_name": "OutputView",
            "layout": "IPY_MODEL_00a94b81b2294f08b34de8b9d2a450b6",
            "msg_id": "",
            "outputs": [
              {
                "output_type": "stream",
                "name": "stdout",
                "text": [
                  "Video available at https://youtube.com/watch?v=vNcJ4Ygaxio\n"
                ]
              },
              {
                "output_type": "display_data",
                "data": {
                  "text/plain": "<IPython.lib.display.YouTubeVideo at 0x7f2b33562690>",
                  "text/html": "\n        <iframe\n            width=\"854\"\n            height=\"480\"\n            src=\"https://www.youtube.com/embed/vNcJ4Ygaxio?fs=1&rel=0\"\n            frameborder=\"0\"\n            allowfullscreen\n        ></iframe>\n        ",
                  "image/jpeg": "/9j/4AAQSkZJRgABAQAAAQABAAD/2wCEABALDBoYFhwaGRoeHRsfIiYmIyIiGDEoLSgtMjM9Mi8wNS86SFBCNjhLOTEwRWFRS19WW19bOk1lbWRYbFBaW1cBERISGRYYMBsbL1c6NTdXV1dXV1dfV11XXVdXV1dXWldXV1dXV1ddV1ddV1dXV11XXV1XV1dXXVddV11dV1ddV//AABEIAWgB4AMBIgACEQEDEQH/xAAbAAEAAgMBAQAAAAAAAAAAAAAAAwQBBQcGAv/EAEMQAAIBAgMCCggFAwMDBQEAAAABAgMRBBIhEzEFFyIyQVFTcZLSFDNhgaGx0fAGFnKRoyNCwRVSYpOy4Qc0Q3TCJf/EABgBAQEBAQEAAAAAAAAAAAAAAAABAgME/8QAHxEBAAICAgIDAAAAAAAAAAAAAAERAiESMUFRMmGB/9oADAMBAAIRAxEAPwDn4AAAAAAAAAAAAAAAAAAAAAAAAAAAAAAAAAAAAAAAAAAAAAAAAAAAAAAAAAAAAAAAAAAAAAAAAAAAAAAAAAAAAAAAAAAAAAAAAAAAAAAAAAAAAAAAAAAAAAAAAAAAAAAAAAAAAAAAAAAAAAAAAAAAAAAAAAAAAAAAAPX8XGN7XD+OflHFxje1w/jn5QPIA9fxcY3tcP45+UcXGN7XD+OflA8gD1/Fxje1w/jn5RxcY3tcP45+UDyAPX8XGN7XD+OflHFxje1w/jn5QPIA9fxcY3tcP45+UcXGN7XD+OflA8gD1/Fxje1w/jn5RxcY3tcP45+UDyAPX8XGN7XD+OflHFxje1w/jn5QPIA9fxcY3tcP45+UcXGN7XD+OflA8gD1/Fxje1w/jn5RxcY3tcP45+UDyAPX8XGN7XD+OflHFxje1w/jn5QPIA9fxcY3tcP45+UcXGN7XD+OflA8gD1/Fxje1w/jn5RxcY3tcP45+UDyAPX8XGN7XD+OflHFxje1w/jn5QPIA9fxcY3tcP45+UcXGN7XD+OflA8gD1/Fxje1w/jn5TE//TvGRTbq4fRN8+flA8iCZYaTV7oz6LLrQEAJ/RZdaHosutAQAn9Fl1oeiy60BACf0WXWh6LLrQEAJ/RZdaHosutAQAn9Fl1oeiy60BACf0WXWh6LLrQEAJ/RZdaHosutAQAn9Fl1oeiy9nxAgBalgKi3q1/Y/ofPokr2ur+8CuC1HAzei1fsTf8Agk/0mt/ta74tf4JYoguR4Nm90oeM+fQZ/af0KKoLEMHOXN5Xcn9DCwkvZ/n9gWgBbpcHVJu0Um0r21WnvMz4NqRdnZNdbsSxTBcXBtT/AI/ufcuCKqV24LvqJC4WpdwABUAAAAAAAAAAAAAAAAAAAAAAAAAAAAAAAAAAAI8R6uf6X8iQjxHq5/pfyA4pT5q7kZMU+au5GSsgAAAAAAAAAAAAAAAAAAFnDJZZ393hm/8ABWJKUYO+dy6Estt77yT0sdtgoQU0sifLqKzXRmdtO5E1bCx2be5u13d9afuKk8NCDStJ3SeZz0V3bdb233nzTwU5SksyUVd6u272WZz/AF036feDnGmnUldpQj06t3fS/cVKmI2ks8+nRLel7DaS4EdRTpwblNNOKtbMrP6M+V+DsZpenZPpzLT3G4r5M5X8WpqVryab0f2+5FV1XCTyvR9HQb7E/hetTd3KL/wazF8GunG8ral5RKcZhsuA8TKVSlFSkoTm7q9r6dLWpZ4R4PpUq8IwhZO3W97s95U4ApJ0Jykk1GcYpPTndN/v3F1RvTlKMFFqEZb3d6tWvf2HKdZOuNTFKVLDrNWtvjCbSv0qOnxPm39SfS49b6rO1+okrYeWWnZRi5pu/SlezTXT0dIp0FZ6ybjFuUrRtp/xcbltK8Jscls6LaWsHfk+yP1KfBkYutBNXTbevVqv8mY0r03JSd090qcTLpSWyebSplfqktH3Xv8AAeJhJuZiXXgAdGAAAAAAAAAAAAAAAAAAAAAAAAAAAAAAAAAAACPEern+l/IkI8R6uf6X8gOKU+au5GTFPmruRkrIAAAAAAAAAAAAAAAAAABPhaU5ytTipSXKSfsIC7wXilRqOo4uTUXZL4ky6axq9p1SqSdqmSOWF+a3o0+p9SZPGlON+VFuWb+16u6vo+8glwtTcZRcJ3cVG+nVKP8A+j5lwlSbUrVOTe2579/Scan07xlj7eg/C06ssTGc3G2dw5Mf+Mt/s0R7atzTn/4c4QjGtTpwjLNObcXKySbV1dJ7j0f+pYmWKjQdONtczi27L23VjUTqnOrm0XCh5XhfDyqR5NtNdS1wpwnV27i3lSbV1TzHxQUpJubk092aKRiNbdZ3po6Lr04NRVoSmt6veS3fEs4etWknlajyWmnrortrd1plrFyy0Yt6JSWW2+6bb+RraWMjCTai9c3uvf6nTvw5TEYz2npbZqbU09lzUo9Laf37TOetld5x1ja2XfflNfFkOFxSipKKbzOL/Zp/4t7zFfFXcVKD5NtPdb6Ctpeu01F5Yyg5cn2JL5klfA4nYqpydlFXjqr2W69+8pSrO/Naem92L1fhiosOqMqdouOW+bfYlTa8oqnWgAdGAAAAAAAAAAAAAAAAAAAAAAAAAAAAAAAAAAACPEern+l/IkI8R6uf6X8gOKU+au5GTFPmruRkrIAAAAAAAAAAAAAAAAAABsuBlTc5qo42ataT67rTTfu/c1pb4PoOUsy/scL6dDf/AIJl01j2t1ITwrcXRhLNrGVRXdu5WPnDU41KmepkiulRjbobLf4glKpWpwhFym4RtGMW29OhLUzh/wAM4+aX9HItHedSK+F2/gdOOMSxyymKavBUvRsdRk27U60W37FKz+B1p1OVotOmR4+f4KqVZudSrGKeuSKbb9mZ7u/UsYOrlqQo1Jya2ayO9t29P2p6HPP6bw+1T/5JX11bGOmoxcvZoYxtFOpJpyi4b3la+L3miliZ15OjBuWV6zfQjhEPXlNNNVnJyd22lfp9hHtPYjbR4IzRbzN6tWSXXbpPur+Gq6ekqcl3tP8Aax3iYeOY9tdh55k1zba3v0XJZOLvy73/AOV+/U+3wZWoVOXB5bPlLVaK616NUt5vOE+DqU8TOOqvJXtZW5K3ft8TGWURLphhOUaedWt7z1/cxVafSrhpNpaLXekTYqFONb+nfZu1r62NeXOpp2cAFUAAAAAAAAAAAAAAAAAAAAAAAAAAAAAAAAAAAjxHq5/pfyJCPEern+l/IDilPmruRkxT5q7kZKyAAAAAAAAAAAAAAAAAAAXeC6cp1FGDlmbilGL5zvu7ike3/wDT/gxZZ4qa1byU7rclzmu+9vcySsdvUcGcHxoQWidRpZ5Lpst1+pFu/wATRYqu9vUjVrShbWCs7P3Lvj8T6p4uo8HCKbVVzcIvp0ej/bL+5qYS28NVwtwNGvy43jNa6O131+yXz3PoaiwnCs3hqk5NOcHHeutpdHvJeDuFXUc1UUVljm0T3LeSlt5bFcG1KrdOeMXJ0cNllmu9OR8vCQwkVTpxcpPXKtZSfW/ruPQV8VRxMorJKNR816NNdVyH0mgnkzq9tbQbv79EYnCXSM4aTDYKbspb280rbld3fu6EbbZmcVjKVOCdJbRttPXKotW36b9SPG4txhCVNrl5lqtU1bT4m4xpzyytMqF1ruPK8O8GqjUUo5lTk9ylZJ9KNnPEzcHJ1pbRRTjBR01kkm+gxsZ4ilUWfaU5K8ZPfGd7pPp/8CYHmprT/wAkTg+i/wC59qEtVpdb1cxUg4wzdHV+/wBDJO3awAVQAAAAAAAAAAAAAAAAAAAAAAAAAAAAAAAAAACPEern+l/IkI8R6uf6X8gOKU+au5GTFPmruRkrIAAAAAAAAAAAAAAAAAAB6fgD8WrCYdUJUXNRcmpKdr5m3ut7TzAA9XjvxXRrzjKVCay3XOWqatb2dZE/xPBuLcKl4qNt29dO/psjzIJ+q9LD8S01nWSo1Na83rT6/YfMvxHS0cYVYtRyvm69D6TzgKj0NTh6i90KsdLK2XR2s3v6dSWh+JqVOEoqhKcpX5Umlpb2XPMgbG5jw4lb+nflXs5fAxLhqMpRezlGKbdlK5pwFbpcPZU1CCSdlmcVm0d9/VoZwnDypRcVSvd/7/20saQAtZq4iMqk5qOXPd26r6v4kdaopQy7td/vuRAlFu3AAKAAAAAAAAAAAAAAAAAAAAAAAAAAAAAAAAAAAR4j1c/0v5EhHiPVz/S/kBxSnzV3IyYp81dyMlZAAAAAAAAAAAAAAAAAAAAAAAAAAAAAAAAAAAAAHbgARoAAAAAAa/GcNYehWp0KtTLUqWyrK3vdldrdd9ZsAAAAAAACnS4UoypVKyn/AE6bmpyaas484sYevCrCNSnJShNJxa6UwJAAAAI414Obgpxc4pOUVJXSe5tb0BICtSx1KdadGM06tNJzj0pPcWQAAAAAAAAAAAEeI9XP9L+RIR4j1c/0v5AcUp81dyMmKfNXcjJWQAAAAAAAAAAAAAAAAAAAAAAAAAAAAAAAAAAAAB24AEaAAAMGTR/i7HOjg5Qh62u1RppPVuWjt7r++wGmp8HvhKlj8V01HkwzvujS1i0+jNJfM9JwBwj6VhKVb+5xtNdUlpL4o1eD4Cx9ClClT4QhGEFZRWCi7e9vUh/Dqng8dWwVaantlt4SUcqk3z7Lo7l/tAn4Px2PxcajpujRjCrUhncHJyyuySjfT2tv3FrgfhOtKvVwmKjBV6aU1KF8tSD0zJPc76M134b4YoUKdWnXqKk/SKzi58mMlm1tLc7dK3k3BVVYzhSri6V3Qp0VQjO1lOWbM2utLcBng/HY7Fxq7N0aMYVakM8oOTlldklG+ntbfuLXA/CdZ4iphMXGCr04qcZQ5tSDdsyT3NPRmt/DfC9ChCvTr1FSbxNZxc+TGSza2lubXSt5PwXWWM4UqYqld0KVHYxnaynJyzO3WluA+OB6rhwbjZpRbjUxTtJXTtd2a6UXJ8M7Hg7DVVTUqtaFKNOlDkpznFNJdUUa/g5//wArhD9eL/yMRSmuDuDcRCDn6NGhUlBK7cMiUrLrW8DYRhwpHLNzw1R3WakoSgkunLO73e1FvhKWKzRjh3SpwabnVqXlbqSjpd+1sg/NGCcYyjXjNyaUYQTlN3/4LU13Cioy4UjHHOOw2KdBVHam535V76OVrb/oBdwWOxNPGRwuJdOoqkJTp1acXHm2unG76/vo12Ap43/VK96lDMoUdo1TlZwu7KOujtfeZorDLhXDLCuOTZ1rqDvTT05v9qfWl7ywsdSocL4jbVI089GjkzO2aza0AvYLFOXCOLpZIJQhReZQtJ3T5z6Uugp4bH4zHOdTCypUcMpOMJzpucqlnZytdJRv7z7wCvwrj1106C+DKv4c4TpYOh6Fi6kaNWg5LlvKpxcm4yi3vTuBsuB+E6s6tXDYmEY4iklK8ObUg90o31XUynwfjsdi4VNm6NFQq1IbSUHJyyuySjfT2tv3DgefpfCVbG009hGiqFOTVlUebNJr2J6E34R/9vV/+zX/AO4D64I4UrOGKjiYxdXCyak6a0msuZNJ9NiDg+vwhiaEcTTrYaKms0aWyckl0KU07369D74JqKGM4Tk7tRnTbSi29KfQlq2arFLgp054jD4lYarbN/SrOEsy3J0v8WA9jRcnCLmlGbSzJO6T6Un0n2UuB6tWeFozrq1WVOLmmrO9uldDLoAAACPEern+l/IkI8R6uf6X8gOKU+au5GTFPmruRkrIAAAAAAAAAAAAAAAAAAAAAAAAAAAAAAAAAAAAA7cACNAAAGHFPetxkADFle9tTIA1PAvBbpUalOtGEs1apNLnK0ndb+k2kYpJJJJLckj6AGo4F4LdKjVp1owlmr1KiXOVpO639JtYxSSSSSW5JWPoAYyrdZfsEjIAijh4Rk5KEVJ72opP9z6q0ozVpxUl1SV0fYA+YwStZJW3WW4+Z0YSacoxbjubim13EgAxZb+k+KtCE7Z4Rlbdmin8yQAYStuCSW4yAMJIjeGp5s+SGf8A3ZFf9yUAAAAAAAjxHq5/pfyJCPEern+l/IDilPmruRkxT5q7kZKyAAAAAAAAAAAAAAAAAAAAAAAAAAAAAAAAAAAAAO3AAjQAAAAAGHJK13v3e0yVeEaLnSeT1kGpw/VHVL37veBYlJLe0u9n0aPEV1WpYjERs4QoSjTvFNXcc03Z6P8AtXuZdjOU6tT+q6apyjFRSjZqyd3dX1u1pbd1gXwamlia03nSnpVcXH+moJKWV9Oa9te/2GaVaraFR1G0686eXLG2VTlFdF76LpA2oNUq1ROtUhUlUp04TtGSjy5roWVJ2Vre192stGpKNWnHbbVVIyk7qOlrcpWXN1trfeveF+6va+vUZKUZJYupdpf0af8A3TK+IxM8teoquXYu0adlZ2SaT0u3K+lmt6A2oNTWrVb1JKo4qNenTUcsbWlkTvpd89sbeopOltH69Q2jUbpOmp9Vr30WnSBtgarb1M2yVVu1ZQz5Y3s4OTT0tdP2dQ29TWlnm57ZwjK0U2sinq7W6ehX+YG1BqaOIqT2dN1HG8qyc7RzPJKyj0xu023b/ayXNOVTZ7dxUaalnSjebbad7pqysr26wNiCvgazqUYTla8op3W5+1ex7ywAAAAAACPEern+l/IkI8R6uf6X8gOKU+au5GTFPmruRkrIAAAAAAAAAAAAAAAAAAAAAAAAAAAAAAAAAAAAA7cACNABqJTf+mN3d9k9b63+oG3Brq+Lqp1pRyZaUkrOLbknGMnrfR8rqZmGKcakrpZHWcG7t2bjFxer0V9LLpa9oGwBqv8AUZyy5Uo51KaexnU5F7R0j0ta+wlpYurOdOKioXjKUs0ZX5MktFpa/Rf2AXFRjlcMscrveOVWd9+hieHhKSlKEZSjuk4ptdz6DWVMdN0a20spqlKWzyTg1bfaV+UtbXjb4knpFWE8RKUoypwqRusr5MXGN2nfoTv7n1gX3h6efPkjn/3ZVf8AfefWzja2VWvfd03vfvuRYau6jqOyyRlli+u3Of73XuKtPG1XGFV5NnUkoqOV5kpO0W3ez6Lqy79NQuU8JSjLNGnCMutQSf7maWHhBtwhGLe/LFK/fYq8EQlknObi5SqVLtRa3Ta6W+rTqWhQ4OpSlCjKFOpGV4uVV1Flcf7tMzbutN3t6ANxWwtKo7zpwm915QT+Zl4am5KTpwco815Fddz6DWwxtSNODsowytuThOor3ejad4q3S7rX2EuJx04zeRxcIygpLZye+3997J2d9z79QL+zjryVq03pva3Pv0X7GJ0YSUk4xalzk4p37+vcirwrJ7NQgm5zklGKds1uVJN9CaTXvHBVWLg4xbdnd6WUW23ks9zXUBahRhFJRhFKOqSikl3dW9idCEk1KEZJu7Tind9feUqVGNepWdW8sk8kY5mlFZU7263e9z7zVFPY0pLkQjJyqJzbu2kt6/2vVgWZYam45HTg4b8rgrfsYnhackoypwlGPNTgml3LoKVPG1aulPJD+kpvNFy1u01o1dabyCeKqSjVqXWR4WNTJylZtSfOTXVvXs6gNyZNXXxtWKrSjky0UnZxbcllUmr3079SarjJKOIaS/pSSj7eTGWviYF4Gtr4+canJyumqkKbWzlvk1F8u9tL9XRa9yCtiFGi4Snl2lepFycrWjnblr0clWXtaA3INLSxOajTip5nTrwhmUr3WZZXfpvFq/tuboAR4j1c/wBL+RIR4j1c/wBL+QHFKfNXcjJinzV3IyVkAAAAAAAAAAAAAAAAAAAAAAAAAAAAAAAAAAAAAduABGgqf6bSzZsr52bLnllzXvfJfLe+u7eWwBDLDQamnHSo7y1ersl8kjFTCU5xnCUbxqO8ld6vTX2bkTgCCthYTy3TTjonGTi0uq6tpotPYfUKEU00tVHKm23p9olAFVcHUrSTTalFw5VSTtF70rvRbt3UuoV8Lz5U0s81Z5pPK+i7jubt9LloAQ4XDqlThTjuiku/2nxDA01POou6baWd5U3vajeyer6OllkAfFKlGCtFWV2/e3d/FsUaUYRUYq0UrJH2AKsuD6TSVpJJWsqkkmt9nZ673vMzwNNttxerTaU2k2tzsna+i/ZFkARV8PGokpJ6O6ak00/Y1qj5oYWFNtwVnLfym7vrd979u8nAFavgqdSWZqSlazcakoNrqbi1dd5iWApNRSi4qKssk3DTq5LV0WgBFDDwi7xilyVDTdlW5W95E+D6TSWV2UNnZTkk42tZ6673vLQAglhYNTTjpUVp6vXS3yPirgKU5SlJO8rZlnkk7bm0nZvdr7C0AK0sFTbbaeslJrO0syaadr2vdI+4YWEZZ1HlLNrd/wBzzS/domAEE8JTlLO48p5Xe7/td4/tdk4AAjxHq5/pfyJCPEern+l/IDilPmruRkxT5q7kZKyAAAAAAAAAAAAAAAAAAAAAAAAAAAAAAAAAAAAAO3AAjQAAAAAAAAAAAAAAAAAAAAAAAAAAAAAAAAAABHiPVz/S/kSEeI9XP9L+QHFKfNXcjJinzV3IyVkAAAAAAAAAAAAAAAAAAAAAAAAAAAAAAAAAAAAAduBQ9In1/AekT6/giNL4KHpE+v4IekT6/ggL4KHpE+v4IekT6/ggL4KHpE+v4IekT6/ggL4KHpE+v4IekT6/ggL4KHpE+v4IekT6/ggL4KHpE+v4IekT6/ggL4KHpE+v4IekT6/ggL4KHpE+v4IekT6/ggL4KHpE+v4IekT6/ggL4KHpE+v4IekT6/ggL4KHpE+v4IekT6/ggL4KHpE+v4IekT6/ggL4KHpE+v4IekT6/ggL5HiPVz/S/kVPSJ9fwRXxfCDgsrabknvairdLb6F8QOT0+au5GT2HCHBGGoxS9GcrtRez2nIu75s0nlaUVr9DZw/DeDa5WHyu7020n06dPUVKc8B0T8s4LsP5J/UflnBdh/JP6gpzsHRPyzguw/kn9R+WcF2H8k/qCnOwdF/LOC7D+Sf1MflnBdh/JP6gpzsHRfyzguw/kn9TH5ZwXYfyT+oKc7B0X8s4LsP5J/UflnBdh/JP6gpzoHRfyzguw/kn9R+WcF2H8k/qCnOgdF/LOC7D+Sf1H5ZwXYfyT+oKc6B0X8s4LsP5J/UflnBdh/JP6gpzoHRfyzguw/kn9R+WcF2H8k/qCnOgdF/LOC7D+Sf1H5ZwXYfyT+oKc6B0X8s4LsP5J/UflnBdh/JP6gpzoHRfyzguw/kn9R+WcF2H8k/qCnOgdF/LOC7D+Sf1MflrBdiv+pP6gpzsHRPy1guxX/Un9TP5ZwXYfyT+oKbY1EZYpSaV8u1fOjm5MqttHfRKDv7jfbJfbGyj9sivO4WrjFSjnTbUKSk3RvLM29o7X1skv3vruI61fHPK8jjKKcsqhyZf0ZWu79o0svRZa9J6fZL7ZjZL7YGl9IxEp2UZQg82V7G79l9eTprr/izpUa2NhSTySlNxV80G25qnC0Wr8lOWZNrTS/Tc9Psl9sbJfbA1GGniJOaqWSaqZbQ5tptR1vreOVlfg6vir0Y1ItrLFTcqdnbJeUm787PybdWpv9kvtjZL7YHn16RF1HlrSq3nZuadLLm5NoX3qPQkm2nd63PqnWxkpK8Uo8lX2Vm05zjmtfktQUJW9vuN9sl9sbJfbA81QnjVRTSbqbJN54N3nGnzbX0vLS637yeWKxWq2b0lNXyaW2iUGt9+Rronr7zfbJfbGyX2wPPU3iXh6spxmqjnRkoxb0WWnnUddFdT07yStjMVnnkpchRbipRd3ye5q+bS3V0M3uyX2xsl9sDQU6+NktYqPMXq9960oyerW6moy9/RuPmVTGWk4x5WXpg2m4xlZJX0u8v7nodkvtjZL7YGiwXCFSeKlSlltFVHJRS5NpRULu73xbeqXT1G2J9kvtjZL7YEAJ9kvtjZL7YEAJ9kvtjZL7YEAJ9kvtjZL7YEAJ9kvtjZL7YEAJ9kvtjZL7YEBp+EMXSVeFOVp7Vqm1kzpON20+ptTt8Tf7JfbI6uCpz56ussouLejUrXutz3AaapGayqWao5xeWM5LNCVmkrJu/Oab1t1m1irJLfYlhhKcW3GCi5O7aVrv29Z97JfbAgBPsl9sbJfbAgBPsl9sbJfbAgBPsl9sbJfbAgBPsl9sbJfbAgBPsl9sbJfbAgKXCu1VJTopyqQlGSgpWzrc0+vRt69SNpsl9sbJfbA8xT9NpXtebT2ac25JqC5M2ld8py1f8AxJK1bHSzZacVKNTkx1Sa5aV3ulG2V79/V0ej2S+2NkvtgaThFVZbF0lWzXg21LKrXWbMrpXtfemveXYurtmmobHKrO7zZr66brWL2yX2xsl9sDzGH9Jhyoxrt2ntNpNyTbmsjim21aN3ot3Q3ZFvB4uvKtGnNRVoKc7Ldvio2vdNtKSfVdG82S+2NkvtgaTARxKxNZ1k8koxcf6l4pqUlZLoeXLf29+mcXTr1MFNT5OIySa2FSUeUk8tno+rR6G62S+2NkvtgeexEsTGNWlTVRZc2SdnNtZYtcpu7ebOvd3H2sRi3NpRSWa13S5qzpJrXlXheT6np7DfbJfbGyX2wPM4qpjMkqdOEleFVXu813Gbi1LoeZQW/p3bmbKpTqelUpKU9ls6ilG/JUrxyv2t67+o2myX2xsl9sCAq46g6kbRUb9btp8Hp12s9FZmx2S+2Nkvtga7DUpKpOUoRjfRZX0Xbu9Fq73+23aJ9kvtjZL7YEgAAAAAAAAAAAAAAAAAAAAAAAAAAAAAAAAAAAAAAAAAAAAAAAAAAAAAAAAAAAAAAAAAAAAAAAAAAAAAAAAOacYWM7PD+CfmHGFjOzw/gn5gOlg5pxhYzs8P4J+YcYWM7PD+CfmA6WDmnGFjOzw/gn5hxhYzs8P4J+YDpYOacYWM7PD+CfmHGFjOzw/gn5gOlg5pxhYzs8P4J+YcYWM7PD+CfmA6WDmnGFjOzw/gn5hxhYzs8P4J+YDpYOacYWM7PD+CfmHGFjOzw/gn5gOlg5pxhYzs8P4J+YcYWM7PD+CfmA6WDmnGFjOzw/gn5hxhYzs8P4J+YDpYOacYWM7PD+CfmHGFjOzw/gn5gOlg5pxhYzs8P4J+YcYWM7PD+CfmA6WDmnGFjOzw/gn5hxhYzs8P4J+YDpYOacYWM7PD+CfmHGFjOzw/gn5gOlg5pxhYzs8P4J+YcYWM7PD+CfmA6WDmnGFjOzw/gn5hxhYzs8P4J+YDpYOacYWM7PD+CfmHGFjOzw/gn5gOlg5pxhYzs8P4J+YcYWM7PD+CfmA6WDmnGFjOzw/gn5hxhYzs8P4J+YDpYOacYWM7PD+CfmHGFjOzw/gn5gOlg5pxhYzs8P4J+YcYWM7PD+CfmA6WDmnGFjOzw/gn5hxhYzs8P4J+YDpYOacYWM7PD+CfmHGFjOzw/gn5gOlg5pxhYzs8P4J+YcYWM7PD+CfmA6WDmnGFjOzw/gn5hxhYzs8P4J+YDpYOacYWM7PD+CfmHGFjOzw/gn5gOlg5pxhYzs8P4J+YcYWM7PD+CfmA6WDmnGFjOzw/gn5hxhYzs8P4J+YDpYOacYWM7PD+CfmHGFjOzw/gn5gOlg5pxhYzs8P4J+YcYWM7PD+CfmA6WDmnGFjOzw/gn5hxhYzs8P4J+YDyYAAAAAAAAAAAAAAAAAAAAAAAAAAAAAAAAAAAAAAAAAAAAAAAAAAAAAAAAAAAAAAAAAAAAAAAAAAAAAAAAAAAAAAAAAAAAAAAAAAAAAAAAAAAAAAAAAAAAAAAAAAAAAAAAAAAAAAAAAAAAAAAAAAAAAAAAAAAAAAAAAAAAAAAAAAAAAAAAAAAAAAAAAAAAAAAAAAAAAAAAAAAAAAAAAAAAAAAAAAAAAAAAAAAAAAAAAAAAAAAP//Z\n"
                },
                "metadata": {}
              }
            ]
          }
        },
        "14a2426708254e5398ee0185419b8d45": {
          "model_module": "@jupyter-widgets/output",
          "model_name": "OutputModel",
          "model_module_version": "1.0.0",
          "state": {
            "_dom_classes": [],
            "_model_module": "@jupyter-widgets/output",
            "_model_module_version": "1.0.0",
            "_model_name": "OutputModel",
            "_view_count": null,
            "_view_module": "@jupyter-widgets/output",
            "_view_module_version": "1.0.0",
            "_view_name": "OutputView",
            "layout": "IPY_MODEL_b5ef328e372940c59bee6577f68e0fd5",
            "msg_id": "",
            "outputs": [
              {
                "output_type": "stream",
                "name": "stdout",
                "text": [
                  "Video available at https://www.bilibili.com/video/BV1xw41197Dm\n"
                ]
              },
              {
                "output_type": "display_data",
                "data": {
                  "text/plain": "<__main__.BiliVideo at 0x7f2b1eecb3d0>",
                  "text/html": "\n        <iframe\n            width=\"854\"\n            height=\"480\"\n            src=\"https://player.bilibili.com/player.html?bvid=BV1xw41197Dm&page=1?fs=1\"\n            frameborder=\"0\"\n            allowfullscreen\n        ></iframe>\n        "
                },
                "metadata": {}
              }
            ]
          }
        },
        "57f7f51a9d4d4461b771d6d004a2472e": {
          "model_module": "@jupyter-widgets/base",
          "model_name": "LayoutModel",
          "model_module_version": "1.2.0",
          "state": {
            "_model_module": "@jupyter-widgets/base",
            "_model_module_version": "1.2.0",
            "_model_name": "LayoutModel",
            "_view_count": null,
            "_view_module": "@jupyter-widgets/base",
            "_view_module_version": "1.2.0",
            "_view_name": "LayoutView",
            "align_content": null,
            "align_items": null,
            "align_self": null,
            "border": null,
            "bottom": null,
            "display": null,
            "flex": null,
            "flex_flow": null,
            "grid_area": null,
            "grid_auto_columns": null,
            "grid_auto_flow": null,
            "grid_auto_rows": null,
            "grid_column": null,
            "grid_gap": null,
            "grid_row": null,
            "grid_template_areas": null,
            "grid_template_columns": null,
            "grid_template_rows": null,
            "height": null,
            "justify_content": null,
            "justify_items": null,
            "left": null,
            "margin": null,
            "max_height": null,
            "max_width": null,
            "min_height": null,
            "min_width": null,
            "object_fit": null,
            "object_position": null,
            "order": null,
            "overflow": null,
            "overflow_x": null,
            "overflow_y": null,
            "padding": null,
            "right": null,
            "top": null,
            "visibility": null,
            "width": null
          }
        },
        "00a94b81b2294f08b34de8b9d2a450b6": {
          "model_module": "@jupyter-widgets/base",
          "model_name": "LayoutModel",
          "model_module_version": "1.2.0",
          "state": {
            "_model_module": "@jupyter-widgets/base",
            "_model_module_version": "1.2.0",
            "_model_name": "LayoutModel",
            "_view_count": null,
            "_view_module": "@jupyter-widgets/base",
            "_view_module_version": "1.2.0",
            "_view_name": "LayoutView",
            "align_content": null,
            "align_items": null,
            "align_self": null,
            "border": null,
            "bottom": null,
            "display": null,
            "flex": null,
            "flex_flow": null,
            "grid_area": null,
            "grid_auto_columns": null,
            "grid_auto_flow": null,
            "grid_auto_rows": null,
            "grid_column": null,
            "grid_gap": null,
            "grid_row": null,
            "grid_template_areas": null,
            "grid_template_columns": null,
            "grid_template_rows": null,
            "height": null,
            "justify_content": null,
            "justify_items": null,
            "left": null,
            "margin": null,
            "max_height": null,
            "max_width": null,
            "min_height": null,
            "min_width": null,
            "object_fit": null,
            "object_position": null,
            "order": null,
            "overflow": null,
            "overflow_x": null,
            "overflow_y": null,
            "padding": null,
            "right": null,
            "top": null,
            "visibility": null,
            "width": null
          }
        },
        "b5ef328e372940c59bee6577f68e0fd5": {
          "model_module": "@jupyter-widgets/base",
          "model_name": "LayoutModel",
          "model_module_version": "1.2.0",
          "state": {
            "_model_module": "@jupyter-widgets/base",
            "_model_module_version": "1.2.0",
            "_model_name": "LayoutModel",
            "_view_count": null,
            "_view_module": "@jupyter-widgets/base",
            "_view_module_version": "1.2.0",
            "_view_name": "LayoutView",
            "align_content": null,
            "align_items": null,
            "align_self": null,
            "border": null,
            "bottom": null,
            "display": null,
            "flex": null,
            "flex_flow": null,
            "grid_area": null,
            "grid_auto_columns": null,
            "grid_auto_flow": null,
            "grid_auto_rows": null,
            "grid_column": null,
            "grid_gap": null,
            "grid_row": null,
            "grid_template_areas": null,
            "grid_template_columns": null,
            "grid_template_rows": null,
            "height": null,
            "justify_content": null,
            "justify_items": null,
            "left": null,
            "margin": null,
            "max_height": null,
            "max_width": null,
            "min_height": null,
            "min_width": null,
            "object_fit": null,
            "object_position": null,
            "order": null,
            "overflow": null,
            "overflow_x": null,
            "overflow_y": null,
            "padding": null,
            "right": null,
            "top": null,
            "visibility": null,
            "width": null
          }
        }
      }
    }
  },
  "nbformat": 4,
  "nbformat_minor": 0
}