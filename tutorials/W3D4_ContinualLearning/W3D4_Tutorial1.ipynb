{
  "nbformat": 4,
  "nbformat_minor": 0,
  "metadata": {
    "accelerator": "GPU",
    "colab": {
      "name": "W3D4_Tutorial1",
      "provenance": [],
      "collapsed_sections": [],
      "toc_visible": true,
      "machine_shape": "hm",
      "include_colab_link": true
    },
    "kernel": {
      "display_name": "Python 3",
      "language": "python",
      "name": "python3"
    },
    "kernelspec": {
      "display_name": "Python 3",
      "language": "python",
      "name": "python3"
    },
    "language_info": {
      "codemirror_mode": {
        "name": "ipython",
        "version": 3
      },
      "file_extension": ".py",
      "mimetype": "text/x-python",
      "name": "python",
      "nbconvert_exporter": "python",
      "pygments_lexer": "ipython3",
      "version": "3.7.3"
    },
    "toc-autonumbering": true,
    "widgets": {
      "application/vnd.jupyter.widget-state+json": {
        "183082dc45474012b913c25399905ad8": {
          "model_module": "@jupyter-widgets/controls",
          "model_name": "TabModel",
          "model_module_version": "1.5.0",
          "state": {
            "_view_name": "TabView",
            "_dom_classes": [],
            "_titles": {
              "0": "Youtube",
              "1": "Bilibili"
            },
            "_model_name": "TabModel",
            "_view_module": "@jupyter-widgets/controls",
            "selected_index": 0,
            "_model_module_version": "1.5.0",
            "_view_count": null,
            "_view_module_version": "1.5.0",
            "box_style": "",
            "layout": "IPY_MODEL_29e8749ca305479889cd562242df3231",
            "_model_module": "@jupyter-widgets/controls",
            "children": [
              "IPY_MODEL_bdb6c3a5f2974befae1765170e76c1e9",
              "IPY_MODEL_54340c6b20f84230bd05c37147070154"
            ]
          }
        },
        "29e8749ca305479889cd562242df3231": {
          "model_module": "@jupyter-widgets/base",
          "model_name": "LayoutModel",
          "model_module_version": "1.2.0",
          "state": {
            "_view_name": "LayoutView",
            "grid_template_rows": null,
            "right": null,
            "justify_content": null,
            "_view_module": "@jupyter-widgets/base",
            "overflow": null,
            "_model_module_version": "1.2.0",
            "_view_count": null,
            "flex_flow": null,
            "width": null,
            "min_width": null,
            "border": null,
            "align_items": null,
            "bottom": null,
            "_model_module": "@jupyter-widgets/base",
            "top": null,
            "grid_column": null,
            "overflow_y": null,
            "overflow_x": null,
            "grid_auto_flow": null,
            "grid_area": null,
            "grid_template_columns": null,
            "flex": null,
            "_model_name": "LayoutModel",
            "justify_items": null,
            "grid_row": null,
            "max_height": null,
            "align_content": null,
            "visibility": null,
            "align_self": null,
            "height": null,
            "min_height": null,
            "padding": null,
            "grid_auto_rows": null,
            "grid_gap": null,
            "max_width": null,
            "order": null,
            "_view_module_version": "1.2.0",
            "grid_template_areas": null,
            "object_position": null,
            "object_fit": null,
            "grid_auto_columns": null,
            "margin": null,
            "display": null,
            "left": null
          }
        },
        "bdb6c3a5f2974befae1765170e76c1e9": {
          "model_module": "@jupyter-widgets/output",
          "model_name": "OutputModel",
          "model_module_version": "1.0.0",
          "state": {
            "_view_name": "OutputView",
            "msg_id": "",
            "_dom_classes": [],
            "_model_name": "OutputModel",
            "outputs": [
              {
                "output_type": "stream",
                "text": [
                  "Video available at https://youtube.com/watch?v=ARVxFIfw4JU\n"
                ],
                "name": "stdout"
              },
              {
                "output_type": "display_data",
                "data": {
                  "text/html": [
                    "\n",
                    "        <iframe\n",
                    "            width=\"854\"\n",
                    "            height=\"480\"\n",
                    "            src=\"https://www.youtube.com/embed/ARVxFIfw4JU?fs=1&rel=0\"\n",
                    "            frameborder=\"0\"\n",
                    "            allowfullscreen\n",
                    "        ></iframe>\n",
                    "        "
                  ],
                  "text/plain": [
                    "<IPython.lib.display.YouTubeVideo at 0x7f3b6bb58650>"
                  ],
                  "image/jpeg": "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\n"
                },
                "metadata": {}
              }
            ],
            "_view_module": "@jupyter-widgets/output",
            "_model_module_version": "1.0.0",
            "_view_count": null,
            "_view_module_version": "1.0.0",
            "layout": "IPY_MODEL_e9ed27acc4b248deb50baaeec4a37702",
            "_model_module": "@jupyter-widgets/output"
          }
        },
        "54340c6b20f84230bd05c37147070154": {
          "model_module": "@jupyter-widgets/output",
          "model_name": "OutputModel",
          "model_module_version": "1.0.0",
          "state": {
            "_view_name": "OutputView",
            "msg_id": "",
            "_dom_classes": [],
            "_model_name": "OutputModel",
            "outputs": [
              {
                "output_type": "stream",
                "text": [
                  "Video available at https://www.bilibili.com/video/BV1LM4y1T7Wn\n"
                ],
                "name": "stdout"
              },
              {
                "output_type": "display_data",
                "data": {
                  "text/html": [
                    "\n",
                    "        <iframe\n",
                    "            width=\"854\"\n",
                    "            height=\"480\"\n",
                    "            src=\"https://player.bilibili.com/player.html?bvid=BV1LM4y1T7Wn&page=1?fs=1\"\n",
                    "            frameborder=\"0\"\n",
                    "            allowfullscreen\n",
                    "        ></iframe>\n",
                    "        "
                  ],
                  "text/plain": [
                    "<__main__.BiliVideo at 0x7f3b6bd94bd0>"
                  ]
                },
                "metadata": {}
              }
            ],
            "_view_module": "@jupyter-widgets/output",
            "_model_module_version": "1.0.0",
            "_view_count": null,
            "_view_module_version": "1.0.0",
            "layout": "IPY_MODEL_a0fc92e66525415fb42c9b70beef2763",
            "_model_module": "@jupyter-widgets/output"
          }
        },
        "e9ed27acc4b248deb50baaeec4a37702": {
          "model_module": "@jupyter-widgets/base",
          "model_name": "LayoutModel",
          "model_module_version": "1.2.0",
          "state": {
            "_view_name": "LayoutView",
            "grid_template_rows": null,
            "right": null,
            "justify_content": null,
            "_view_module": "@jupyter-widgets/base",
            "overflow": null,
            "_model_module_version": "1.2.0",
            "_view_count": null,
            "flex_flow": null,
            "width": null,
            "min_width": null,
            "border": null,
            "align_items": null,
            "bottom": null,
            "_model_module": "@jupyter-widgets/base",
            "top": null,
            "grid_column": null,
            "overflow_y": null,
            "overflow_x": null,
            "grid_auto_flow": null,
            "grid_area": null,
            "grid_template_columns": null,
            "flex": null,
            "_model_name": "LayoutModel",
            "justify_items": null,
            "grid_row": null,
            "max_height": null,
            "align_content": null,
            "visibility": null,
            "align_self": null,
            "height": null,
            "min_height": null,
            "padding": null,
            "grid_auto_rows": null,
            "grid_gap": null,
            "max_width": null,
            "order": null,
            "_view_module_version": "1.2.0",
            "grid_template_areas": null,
            "object_position": null,
            "object_fit": null,
            "grid_auto_columns": null,
            "margin": null,
            "display": null,
            "left": null
          }
        },
        "a0fc92e66525415fb42c9b70beef2763": {
          "model_module": "@jupyter-widgets/base",
          "model_name": "LayoutModel",
          "model_module_version": "1.2.0",
          "state": {
            "_view_name": "LayoutView",
            "grid_template_rows": null,
            "right": null,
            "justify_content": null,
            "_view_module": "@jupyter-widgets/base",
            "overflow": null,
            "_model_module_version": "1.2.0",
            "_view_count": null,
            "flex_flow": null,
            "width": null,
            "min_width": null,
            "border": null,
            "align_items": null,
            "bottom": null,
            "_model_module": "@jupyter-widgets/base",
            "top": null,
            "grid_column": null,
            "overflow_y": null,
            "overflow_x": null,
            "grid_auto_flow": null,
            "grid_area": null,
            "grid_template_columns": null,
            "flex": null,
            "_model_name": "LayoutModel",
            "justify_items": null,
            "grid_row": null,
            "max_height": null,
            "align_content": null,
            "visibility": null,
            "align_self": null,
            "height": null,
            "min_height": null,
            "padding": null,
            "grid_auto_rows": null,
            "grid_gap": null,
            "max_width": null,
            "order": null,
            "_view_module_version": "1.2.0",
            "grid_template_areas": null,
            "object_position": null,
            "object_fit": null,
            "grid_auto_columns": null,
            "margin": null,
            "display": null,
            "left": null
          }
        },
        "ae44923c5a87402c82869c8a6d509dcc": {
          "model_module": "@jupyter-widgets/controls",
          "model_name": "TabModel",
          "model_module_version": "1.5.0",
          "state": {
            "_view_name": "TabView",
            "_dom_classes": [],
            "_titles": {
              "0": "Youtube",
              "1": "Bilibili"
            },
            "_model_name": "TabModel",
            "_view_module": "@jupyter-widgets/controls",
            "selected_index": 0,
            "_model_module_version": "1.5.0",
            "_view_count": null,
            "_view_module_version": "1.5.0",
            "box_style": "",
            "layout": "IPY_MODEL_717feed21f134898b2256a0467a14c8d",
            "_model_module": "@jupyter-widgets/controls",
            "children": [
              "IPY_MODEL_5744735d2a9d4006ac63f6462861aeb6",
              "IPY_MODEL_99800612311b431a824602ab4c54b428"
            ]
          }
        },
        "717feed21f134898b2256a0467a14c8d": {
          "model_module": "@jupyter-widgets/base",
          "model_name": "LayoutModel",
          "model_module_version": "1.2.0",
          "state": {
            "_view_name": "LayoutView",
            "grid_template_rows": null,
            "right": null,
            "justify_content": null,
            "_view_module": "@jupyter-widgets/base",
            "overflow": null,
            "_model_module_version": "1.2.0",
            "_view_count": null,
            "flex_flow": null,
            "width": null,
            "min_width": null,
            "border": null,
            "align_items": null,
            "bottom": null,
            "_model_module": "@jupyter-widgets/base",
            "top": null,
            "grid_column": null,
            "overflow_y": null,
            "overflow_x": null,
            "grid_auto_flow": null,
            "grid_area": null,
            "grid_template_columns": null,
            "flex": null,
            "_model_name": "LayoutModel",
            "justify_items": null,
            "grid_row": null,
            "max_height": null,
            "align_content": null,
            "visibility": null,
            "align_self": null,
            "height": null,
            "min_height": null,
            "padding": null,
            "grid_auto_rows": null,
            "grid_gap": null,
            "max_width": null,
            "order": null,
            "_view_module_version": "1.2.0",
            "grid_template_areas": null,
            "object_position": null,
            "object_fit": null,
            "grid_auto_columns": null,
            "margin": null,
            "display": null,
            "left": null
          }
        },
        "5744735d2a9d4006ac63f6462861aeb6": {
          "model_module": "@jupyter-widgets/output",
          "model_name": "OutputModel",
          "model_module_version": "1.0.0",
          "state": {
            "_view_name": "OutputView",
            "msg_id": "",
            "_dom_classes": [],
            "_model_name": "OutputModel",
            "outputs": [
              {
                "output_type": "stream",
                "text": [
                  "Video available at https://youtube.com/watch?v=WIbgFxzaFP4\n"
                ],
                "name": "stdout"
              },
              {
                "output_type": "display_data",
                "data": {
                  "text/html": [
                    "\n",
                    "        <iframe\n",
                    "            width=\"854\"\n",
                    "            height=\"480\"\n",
                    "            src=\"https://www.youtube.com/embed/WIbgFxzaFP4?fs=1&rel=0\"\n",
                    "            frameborder=\"0\"\n",
                    "            allowfullscreen\n",
                    "        ></iframe>\n",
                    "        "
                  ],
                  "text/plain": [
                    "<IPython.lib.display.YouTubeVideo at 0x7f3b6bbb4f90>"
                  ],
                  "image/jpeg": "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\n"
                },
                "metadata": {}
              }
            ],
            "_view_module": "@jupyter-widgets/output",
            "_model_module_version": "1.0.0",
            "_view_count": null,
            "_view_module_version": "1.0.0",
            "layout": "IPY_MODEL_4c9a4107214f4632973b85a5d60dc30d",
            "_model_module": "@jupyter-widgets/output"
          }
        },
        "99800612311b431a824602ab4c54b428": {
          "model_module": "@jupyter-widgets/output",
          "model_name": "OutputModel",
          "model_module_version": "1.0.0",
          "state": {
            "_view_name": "OutputView",
            "msg_id": "",
            "_dom_classes": [],
            "_model_name": "OutputModel",
            "outputs": [
              {
                "output_type": "stream",
                "text": [
                  "Video available at https://www.bilibili.com/video/BV1kg411M7wu\n"
                ],
                "name": "stdout"
              },
              {
                "output_type": "display_data",
                "data": {
                  "text/html": [
                    "\n",
                    "        <iframe\n",
                    "            width=\"854\"\n",
                    "            height=\"480\"\n",
                    "            src=\"https://player.bilibili.com/player.html?bvid=BV1kg411M7wu&page=1?fs=1\"\n",
                    "            frameborder=\"0\"\n",
                    "            allowfullscreen\n",
                    "        ></iframe>\n",
                    "        "
                  ],
                  "text/plain": [
                    "<__main__.BiliVideo at 0x7f3b6bb70990>"
                  ]
                },
                "metadata": {}
              }
            ],
            "_view_module": "@jupyter-widgets/output",
            "_model_module_version": "1.0.0",
            "_view_count": null,
            "_view_module_version": "1.0.0",
            "layout": "IPY_MODEL_055548aea5be45509a90eec3bfec33b6",
            "_model_module": "@jupyter-widgets/output"
          }
        },
        "4c9a4107214f4632973b85a5d60dc30d": {
          "model_module": "@jupyter-widgets/base",
          "model_name": "LayoutModel",
          "model_module_version": "1.2.0",
          "state": {
            "_view_name": "LayoutView",
            "grid_template_rows": null,
            "right": null,
            "justify_content": null,
            "_view_module": "@jupyter-widgets/base",
            "overflow": null,
            "_model_module_version": "1.2.0",
            "_view_count": null,
            "flex_flow": null,
            "width": null,
            "min_width": null,
            "border": null,
            "align_items": null,
            "bottom": null,
            "_model_module": "@jupyter-widgets/base",
            "top": null,
            "grid_column": null,
            "overflow_y": null,
            "overflow_x": null,
            "grid_auto_flow": null,
            "grid_area": null,
            "grid_template_columns": null,
            "flex": null,
            "_model_name": "LayoutModel",
            "justify_items": null,
            "grid_row": null,
            "max_height": null,
            "align_content": null,
            "visibility": null,
            "align_self": null,
            "height": null,
            "min_height": null,
            "padding": null,
            "grid_auto_rows": null,
            "grid_gap": null,
            "max_width": null,
            "order": null,
            "_view_module_version": "1.2.0",
            "grid_template_areas": null,
            "object_position": null,
            "object_fit": null,
            "grid_auto_columns": null,
            "margin": null,
            "display": null,
            "left": null
          }
        },
        "055548aea5be45509a90eec3bfec33b6": {
          "model_module": "@jupyter-widgets/base",
          "model_name": "LayoutModel",
          "model_module_version": "1.2.0",
          "state": {
            "_view_name": "LayoutView",
            "grid_template_rows": null,
            "right": null,
            "justify_content": null,
            "_view_module": "@jupyter-widgets/base",
            "overflow": null,
            "_model_module_version": "1.2.0",
            "_view_count": null,
            "flex_flow": null,
            "width": null,
            "min_width": null,
            "border": null,
            "align_items": null,
            "bottom": null,
            "_model_module": "@jupyter-widgets/base",
            "top": null,
            "grid_column": null,
            "overflow_y": null,
            "overflow_x": null,
            "grid_auto_flow": null,
            "grid_area": null,
            "grid_template_columns": null,
            "flex": null,
            "_model_name": "LayoutModel",
            "justify_items": null,
            "grid_row": null,
            "max_height": null,
            "align_content": null,
            "visibility": null,
            "align_self": null,
            "height": null,
            "min_height": null,
            "padding": null,
            "grid_auto_rows": null,
            "grid_gap": null,
            "max_width": null,
            "order": null,
            "_view_module_version": "1.2.0",
            "grid_template_areas": null,
            "object_position": null,
            "object_fit": null,
            "grid_auto_columns": null,
            "margin": null,
            "display": null,
            "left": null
          }
        },
        "b732d4d40d254787ada53146dbf41dfb": {
          "model_module": "@jupyter-widgets/controls",
          "model_name": "TabModel",
          "model_module_version": "1.5.0",
          "state": {
            "_view_name": "TabView",
            "_dom_classes": [],
            "_titles": {
              "0": "Youtube",
              "1": "Bilibili"
            },
            "_model_name": "TabModel",
            "_view_module": "@jupyter-widgets/controls",
            "selected_index": 0,
            "_model_module_version": "1.5.0",
            "_view_count": null,
            "_view_module_version": "1.5.0",
            "box_style": "",
            "layout": "IPY_MODEL_243c4788f37040cda5a9e4ffd01e4a00",
            "_model_module": "@jupyter-widgets/controls",
            "children": [
              "IPY_MODEL_6b7d7746616b486a9d9634993d009eab",
              "IPY_MODEL_b225012ccdf24460ab6ee47fe5376fd0"
            ]
          }
        },
        "243c4788f37040cda5a9e4ffd01e4a00": {
          "model_module": "@jupyter-widgets/base",
          "model_name": "LayoutModel",
          "model_module_version": "1.2.0",
          "state": {
            "_view_name": "LayoutView",
            "grid_template_rows": null,
            "right": null,
            "justify_content": null,
            "_view_module": "@jupyter-widgets/base",
            "overflow": null,
            "_model_module_version": "1.2.0",
            "_view_count": null,
            "flex_flow": null,
            "width": null,
            "min_width": null,
            "border": null,
            "align_items": null,
            "bottom": null,
            "_model_module": "@jupyter-widgets/base",
            "top": null,
            "grid_column": null,
            "overflow_y": null,
            "overflow_x": null,
            "grid_auto_flow": null,
            "grid_area": null,
            "grid_template_columns": null,
            "flex": null,
            "_model_name": "LayoutModel",
            "justify_items": null,
            "grid_row": null,
            "max_height": null,
            "align_content": null,
            "visibility": null,
            "align_self": null,
            "height": null,
            "min_height": null,
            "padding": null,
            "grid_auto_rows": null,
            "grid_gap": null,
            "max_width": null,
            "order": null,
            "_view_module_version": "1.2.0",
            "grid_template_areas": null,
            "object_position": null,
            "object_fit": null,
            "grid_auto_columns": null,
            "margin": null,
            "display": null,
            "left": null
          }
        },
        "6b7d7746616b486a9d9634993d009eab": {
          "model_module": "@jupyter-widgets/output",
          "model_name": "OutputModel",
          "model_module_version": "1.0.0",
          "state": {
            "_view_name": "OutputView",
            "msg_id": "",
            "_dom_classes": [],
            "_model_name": "OutputModel",
            "outputs": [
              {
                "output_type": "stream",
                "text": [
                  "Video available at https://youtube.com/watch?v=q3aZGXIYYfw\n"
                ],
                "name": "stdout"
              },
              {
                "output_type": "display_data",
                "data": {
                  "text/html": [
                    "\n",
                    "        <iframe\n",
                    "            width=\"854\"\n",
                    "            height=\"480\"\n",
                    "            src=\"https://www.youtube.com/embed/q3aZGXIYYfw?fs=1&rel=0\"\n",
                    "            frameborder=\"0\"\n",
                    "            allowfullscreen\n",
                    "        ></iframe>\n",
                    "        "
                  ],
                  "text/plain": [
                    "<IPython.lib.display.YouTubeVideo at 0x7f3b6187a790>"
                  ],
                  "image/jpeg": "/9j/4AAQSkZJRgABAQAAAQABAAD/2wCEABALDBoYFhsaGRoeHRsfIjEmIyIiIzEtLSktLjExMDY1MDg3P1BCNThLOSsyRWFFS1NWW1xbMkFlbWVYbFBZW1cBERISGRYYLxsaL11AN0JcV1dXV1hXV2NfV1djV1hXV1dXX2NXV1dcXVdXV11XV2NXV1dXV1djZFdkV1dXXVdXV//AABEIAWgB4AMBIgACEQEDEQH/xAAbAAEAAgMBAQAAAAAAAAAAAAAABAUCAwYBB//EAEcQAAIBAwICCAQDBQUGBAcAAAABAgMEERIhEzEFFyJBUVOS0lJhcYEykaEGFCNisRVCVIKTM3LB0fDxBxaisjQ1Q2NzwuH/xAAZAQEAAwEBAAAAAAAAAAAAAAAAAQIEAwX/xAAkEQEAAgICAQQCAwAAAAAAAAAAAQIDERIhMQQTQVEicRQyYf/aAAwDAQACEQMRAD8A+fgAAAAAAAAAAAAAAAAAAAAAAAAAAAAAAAAAAAAAAAAAAAAAAAAAAAAAAAAAAAAAAAAAAAAAAAAAAAAAAAAAAAAAAAAAAAAAAAAAAAAAAAAAAAAAAAAAAAAAAAAAAAAAAAAAAAAAAAAAAAAAAAAAAAAAAAAAAAAAAAA6/q4vfNt/VP2Dq4vfNt/VP2AcgDr+ri98239U/YOri98239U/YByAOv6uL3zbf1T9g6uL3zbf1T9gHIA6/q4vfNt/VP2Dq4vfNt/VP2AcgDr+ri98239U/YOri98239U/YByAOv6uL3zbf1T9g6uL3zbf1T9gHIA6/q4vfNt/VP2Dq4vfNt/VP2AcgDr+ri98239U/YOri98239U/YByAOv6uL3zbf1T9g6uL3zbf1T9gHIA6/q4vfNt/VP2Dq4vfNt/VP2AcgDr+ri98239U/YOri98239U/YByAOv6uL3zbf1T9g6uL3zbf1T9gHIA6/q4vfNt/VP2Dq4vfNt/VP2AcgDr+ri98239U/YOri98239U/YByAOv6uL3zbf1T9g6uL3zbf1T9gHIA6/q4vfNt/VP2Dq4vfNt/VP2AcgDr+ri98239U/YOri98239U/YByAOv6uL3zbf1T9g6uL3zbf1T9gHIA6/q4vfNt/VP2Dq4vfNt/VP2AcgDr+ri98239U/YOri98239U/YByAOv6uL3zbf1T9g6uL3zbf1T9gHIA6/q4vfNt/VP2Dq4vfNt/VP2AcgDr+ri98239U/YOri98239U/YByAOv6uL3zbf1T9g6uL3zbf1T9gHIA6aX7DXSbXEobfzS9pU1uh6kJOLlB4bWzfd9gpGSszqJV4J66JqNN5htjvff8AY30/2drS5Sp9/e+77Am9Y8yqQXz/AGSuFFS10cP5y9pj/wCVq/x0vzl7SdKT6jFE6myjBer9lLj46X5y9p6v2TuPjpfnL2jR7+P7UIL9fsjcfHS/OXtMl+x1z8dH1S9pCfep9ueB0X/ky5+Oj6pe0P8AY25+Oj6pe0aPep9vroADqAAAAAAAAAAAAAAAAAAAAAAAAAAAAAAAAAAAAAAAAAAAAAAAAAAAAAAAAAAAAAKW4eHN+DZwVw87+O53HSctNOs/lL/icRPkhZ5+CO7S9oR/hyfzSLSxktWO/PL6ldbrsTT5bEyk/wCJGS+GP5pl8dYsnNHa3lHC09zxJfdb/rn8zn+k+nNMnCl3bOXz+Rp6c6QnLTHLWhyi0tsrP/YjUejJyipRWrUiJnXSuL0sWtzt232/T9WP4sSX0Liz6WjUxs0+9eHzK236B7L1vfuSexq/cpUakWt03jBTk039NXXh1UN+RYULNyRU2qbjHS1y7jqLKSVOKck34vCL7Y8WOLW4zKJ/Z7Nf7k9LclpS8S3cljOVjxMYvVu1t3Z/qRtq/jU+2wAENQDXXrRpwlOclGEVlt8kiHS6ctZyjCFeEpSeEk+bAsAa6VaM86ZJ6ZOLx3Nc0bAABrnXhFRbnFKTUYttbt8kvFgbAeGFatGnCU5tRjFZk3ySXeBsBqq3MIRU5TSi2km3s3J4X55FSvCEoRlJKU3iKfNtLO32QG0HhhCtGTlGMk3B4kk94vGcPw2YGwA10a0aizCSkstZXjF4a+zTA2A81LOMrPPAbxu+QHoIFHpq1nNQhXpuTeEk+b8E+T+xOA9AAAAAAaKl3Tjr1VIxVNJzbeNKfLPgbgPQa6VaM9WmSemTi8dzXNGYHoNcq8FoTnFa3iG67Txnbx2WTYAAAAAAAAAAAAAAAAAAAAAAAABzHT08UavzeP1OQlyOm/aapiGPGp/zOblyIsw4Y6n9pdCj/BcsZzJIk21DMFJdyaX2/wC55bSxZy+UjRSnijLDxvl/qXx7+JWyQq+naKVeWOTk/wBdy8s8wjGCx3JZTbf5FLcXUJ3OqSzTez+6xn89zqLKmpQi9uRTJPbX6evTGdXMNvxN42Km7UtKl2noknv3d3cXGhKOG99RG6Rjpt6ujnJY/UpXy7ZY/Fq/Zu7105RfOD/R/wDTJ95cYnFSliOH3nIdF3joVVNbrlJeKOvpTp14qUJZX6r6nb408nLE48nOI6S+j67dNZeUm8YT8ebJcrt+P6Mo6rcXiLeDxS2W8t/r+pHI4cu3cAAh6Kr/AGm/+XXX/wCGX9DK2r3blBTt6MYbZkq7bS+mhZ/MlX1pGvRqUZtqNSLi2ueH4EWh0XOEoyd5czSf4ZcPD+TxBP8AUCDRuOHRr4nKEp3c4x0x1Sbb5RT2zhPd7Iytru4U7mjGU6k40VOmq0YxkpPUsNxwmtl/zJ1ToiDi0pTjLiutGaxmE3nllYxhtYafM9p9FpTnOVWrKc6ag5ZSaSbaxpSw9wIfR9dzk6Tua8arhvCrSjGSe3ag9OHj/MuRD6Oc6VlaPiOWuvBYlGPZTk00tv15lxb9GuNRVKlerWlFNQ16Eo55/hist45vJro9DRhCMOLUlCFRVIJ6ezhtpLCy1l9+/wAwNVJ17mdaUa8qMadR04RjGLy483PUnnL7ljYs6lLXTcJ7qUdMvnlYZDrdFZnOdOtVo8R5qRpuOJPGM9qL0vC5rBPjHCS32WN3kDlKdKV1b29o29dKNTW/5qOaUG/8zUl9De+keJUV04txtbN1XH+eaeV9UoNfcubXoynSr1q0dWqs05JvZY+HwzzZjY9E0qCrKKclWm5SUnldr+6v5ee3zAq6d/WSp1FUr1Ztx103byUGm1nS9GVhPKbb5G24v6kP3vRp1/vFOlBuKxHXGmsvHPGpvf6E626LdNxSuK7pw/DTbjhY5LVp1tfVmN50dDh3HYnV4zU3BSSeUopaHthrSnz5gaJ8ehcWkHcSqwqzkp64xztTnJYcUsLKRXUuNTsbmvTruHCqXE4wUYuL01JvEspt5x3NEq2tKk7m3m3cSjRcpOdfSucHBRjGKWfxZzju5ll/ZVP92q2+ZaKvE1PKyuI5N42/meAIXCnLpKM+LNJ0NWnEcY1Ls8s47/E2ftHvToU5f7KpXhCrvjsvOz+TaS+5Kq9Hp1qdWNScJQjpajpxOOU8Syn4d2Gb7q2hWpyp1IqUJLDTAVbWnOCpzpxlBYxFpYWOW3yK2Mq1zWuFGvKjCjNU4qEYtylpjJuWpPbtJJLwM10LyjO5uKlNNNU5TWNuWWkpSX1f1Ntx0VqqSqU61WhKeNfD04lhYTaknh42ysPkBXx6Rr1IWsVOMJyr1KNSSimnw1UWUnyy4J/L5maq3VOd3RhUdacKMKlJzUU9Utaw8YT/AALHInw6KpRVBR1JUJOUVnOW1JPU3u86m/qZz6PjKpVqapqVSEYPS8YUXJprvT7TArrPpBR4mqtWnKFNzdKtTUJdnvi1FZXdtlbo11KtzStVeSr6npjOdLTHRpeMxjtqyk9nndlhQ6M01OJVrVK8lFwjxFBKMZYysRik86Vu/A1R6CglGDq1pUItONFtaFpeUs41NJrk3gCF0jWcF0lOOMqnTayk1+F9z2JlSVWtdVaUK0qNOjGP4FFylKWXvqTwkkiRc9FwqqupOS46UZYa2wsbbHl10Yp1eLCrUo1HFRlKnp7SWcJqSa2y9+e4FbbV3SoV9VRxqSupQUoQ1Sk21tGL2y0nz2W7PaVWtKVxbyq1f9ipqU4RU4vLTWy0yTx/Unf2LTVPQp1E+K6sZ6syjN96bTzzfPPM2UOjlGpKpKpUqTlDQ3LGMZb2UUkuYFV0fKdOh0ZHXqVSSzqjHaPBk0ltthrnzN9u7i5p1K8Lh0u1NU6ajFxxBuPbysvLW+GsEq26HjTjRi6tSaoT1U9WnZaHBR2Sykm/n8zGr0LFueitWp06jbnTg46W3zw2nKOe/S0BFo39W5na6KjowrW0qskkm0808YbX8zJnQ9ao3Xp1Juo6NXQptJNpxjJZxhZ7WPsSIWFONWnUjmPDpulGK/Cotxf/AOiMra0jTlVlFturPXLPc9Kjt8sRQEgAAAAAAAAAAAAAAAAAAAABwv7UT7cV/NJ/9fmUkpbIs/2nlm4x4av/AHf/AMKarU7vArPlkxf1W9SrGnaLlmTTS8SkrXLfN7eHcZ3td8KjnktUf1z/AEaK1z3y9/kTV018pVvKDqJzeEdN0ZfU6sZQptpROLk8lv0FdwpuUZvTq/veH1JtHTpTq0S6j9yl8T0/b9SPcX1GhHRUez2wuZ5QpVZLevmH8rT2+pUftC6fYimnJZ+y+Zzr5dc/501KsuZR4jcHsbLe5lCSlCTT8UQsHsHg6s7rOj+kFXemSSnj8yfwfp+RzHQjcrmkl45f07zs2kNQw55mltVl04AIeoAAAAAAAAAAAAAAAA8PQAAAAAAAAAAAAAAAAAAAAAAAAAAAAAAAAAAAAAAAAAAAA+Z/tDVzd1F4P/iylrVdzt+kP2NqVq86quIx1POOG3j/ANRBqf8Ah7Uk/wD4uP8ApP3Ea7cK0mIcZUuJSSWeyuSMcnZdXE/8XH/SfuPV/wCHNT/Fx/0n7iy/Fxhkmdl1d1P8XD/SfuPeryp/iof6T9w2njLj4y8Hj6HjZ2PV5U/xUP8ASfuPer2p/iof6T9w2cZcZkxydp1eVP8AFx/0n7jzq7qf4uP+k/cDjLlbG+nRmpQeGdf0b0rC4it8Txuv+Rp6uqn+Lj/pP3G2j+wNanJSheRTX/237g45cEZI/wBd0ACGkAI11dOnOjHTlVJ6M55dly+/4QJIMI1IttKSbXNJ8vqeQrQk8RlFvnhNMDYDXxob9qOyzz7kQ/7Reik9HbrZcI5xiKWcyfdtj7tICwBXUOleJGMo05SUqcJxS59tyWH3JLTzI1Pp56I1Z28o0ZT0a1JSw9WhNrnhvvWeYF0CPb3GqVSElicJYfzT3TX2/VMkAAYybw8LL7kRrG+jVoUqzxDixUlFtd6zj5gSwa51oR2lKKfzaR7KpGPOSXfuwMwRKt7pnKKi5KEVKWlZeZPEUl3vZ/TYgS6elGFSrK2nwqU3GpJTi3HTzeO9L5eAF0CDV6RUI1ZNZUJRjFLnJzUWl93LBjR6SbcdUUlxHSk084muX1T5fUCwB5J4Tb5IxpzUoqS5SSa+jAzBEtrxTVRzShw6jg8y22w85+5IlVikm5JJ8svmBmDDixwnqWHyeef0NNW6xOnCGJOpl89lGOMv9UvuBJBXQ6U11NEI7Sc4wk3+KUOe3w5ys/Il2lwqtOM1tnmvBp4a+zTQG4AjXN06dSjDTlVZOOc8mouXLv5ASQYRqReUpJtc8Pl9TyFaEvwyi+/ZpgbAapXEEnLVHCWp79y7yvuul5UqSm6Mm3peM4S1y0xWXzlvyXL8shagrIdKTdSdGVBwrRhrinJONSKeHpa790t0uaJ9vWjUhGpF5jOKkvo9wNgAAAAAAAAAAAAAAAB4egAAAAAAAAAAAAAAAAAQekaM5zt3COVCpqk8pYWmUe/n+L9CcAOZrWFSnbQU1p4NCpGdRPeo5Rxtjfd9pt8iV0Q4QlWVSOmbipyknHTpSUdnF7fhzvzLs8UElhJJfQDmLDo6de3jOKUIyhVmmmu06qkorbuUWufekSrqyldRp1IJdqg6abeOFKTWp48Vjl4ovkscjyMUuSSy8/cCt4cqU6sKEcyhbwjTi3jdOolua7Po6boUaFRKFOlpytWqU3HDWWtktSz8y20rOcLL2z9P+56BCte1c3E1+HEIfVxy3/7kvzNdx0bKc5STpbvvhJv74mv6FhGKSwkkvkZAR7ai6dPTiLaztFYT/Nv+pSWnRdaFGMZ01Nu1jR0uSxCUc5efB5XLfsrY6M8A5XhqFbNVOpGnUp6nmOpzVNU+Ut8b5wuZM6Qp8W8nCnGM5woNZbWIyqPCbXglF8vH5l64LOcLPjg90rOcLIFZYU3QqVae8paISjn+8oxUOf1j/wCpEey6OrStlQrRjBSbdZqWpzcm5SS7km3jPPBdOKbTwsrk/AyApLuzdWpLTFSjTuIzlDONSVHC/JtP7D9x4VChQzmpKvGpLHip8Sb+ixj8i5UUstLd8/n3DSs5ws4xn5Aabyg5xeJzjs9otb/mma+jbaVOnDVObehJxljbb5IlgCkjZ1lV4jp5iq8p6NUe0pQ0prfGU1yfiV1xZyg1Tms/w6jlHVFaYTq6kouW2UljK5fkdaYygnzSf1QFH0jUp1XZRjTzrlxFB4T0RWrk9vxaTZZ206FajxGszjVTxyjKc1NRX2T/ACLlxWc4WTyUU+aT79/kBS9DdEOi6c6iUXSpaM5/FJtOc34Zwsfcm9EwfAb3XEnUmvpOcpL9GmTZRTTTWU+aZ6BFVm01/HrP7x9pq6SoVJ1LdwW0JtylldnMJRzvz3l+hYADmLqwqQtoqUdCpW06U5KX+0lLSk/plZzLln6kvoydOH7zxI6ZNa6jzHTpa04Ti9tocvuXZ4oJLCSS8MAcxZ9GVKtqpRioaqNVrdNznW3S2/upbf8AYsr1TrwtnSp8SnrjUn2kvw7xW/8ANj8i2SweRilySXft8wIcKWic7mvJKShhJcoRW73723jL+SMuiaThbUYyWJKCyvDO+PsSpRTWGk18zIAAAAAAAAAAAAAAAAAAAAAAAAAAAAAAAAAAAABU392qFzxJOWhW85OKbw2pRxhZxnfGfmBbArK3S3Dk6c6eKnYwtXZxNtJuWNsNPO3hzNlv0i527r8PC3wtXNLbLeNlz+24E49KSp0s6sIwUJU51Y0mt91CrLDzjlLCZH6WvJqpUhTU1GkqdOnoeFxajXPfLSTjtvzYHRHpRdITnG2uZxqSjolUwovDlLZRWea38BG2nQr21ONWpU4ikq0Kk3NaVH8S1brtYW3xAXoIXRc26coybbp1JQTfNpPbPzw0H0g/Jq/nT94E08K3p6o/3CvOLlCSpuSalhppZW6ZlU6VUXN6f4dOoqcpZ31PC2Xek5ICxBWWfSzrVVCNPZqTbct0oycd1jZ5XL/keVumNE6kXSemnKCctS/+pLSsLxzvjwa+gFoCnjPNvUryqOCcpym099ENSUU/7qws7eL8SHa29ajTsZcaq69RxVWE5uaknHM3h/hx4rH6gdICIukaerTmS7fDy4vGrwyVl1dTjKNKKk1OvNzcWk1TgsvDbWMvSvo2BfAo+j60+HZ1XqzVbi0+emWqUM/NYX5sn9J38aNKo84moOUey3uk8ckBMPTTQuYVM6W3jns1/Uqeib2SiqSzUqOpXa1ze0IVZR3by+9JAXgKWf7Qxajw6blmMHhvDzObppLnnEk8/LxJt1fSpzpQ4blKo8fi2Tw3z8NmBNBUUb+Nacam6hTouo4/zNtffChLH1K2hdVpxm58RN2sqlRSawnNpwUUnthKS7gOoPSjvbeVS7o03Wq6WpzlGE3BKKSjFdl/E85+Rv6GnNfvEZ1JVKVOq1TnN5bjpTeX34k2s/IC1BW3t1Gdo7ik29EeJB7rOnu+6yvuTqteMI6pPC+jf9ANgI9G9pzlpi23/utf1RW1b3g3tbOqSlToqMNTxrnOpHbOy5LP0AugVdTphRk4OH8RT0NOWIrsa86scml4czKXSrVorl0pdpKShnfDWVnPJ92PFgWQKetf8Wat3FwbrKE8PO3DdXGfmlh/U13VtKpeU6brVdOic5KE5QSWVGC7L/3t/kBdnpTdGXcqdOrxZyqU41+HSm1qlJPSlnHPEm1n5G+/uoyoValNvXQerdNNSistP6p4+4FkDxPKyegAAAAAAAAAAAAAAAAAAAAAAAAAAAIlz0dTqzcqicswdNrLw4y5rH2W/wAiWAKq86IUsOLbk5R1uUmpSjHOIqXdhvPz38TyrY13a1aKkm55UdUn2YPCa1Yy3z/P5FsAK6r0XHhy0ZVRuElKTb3ptOK/3dsfd+JujYwdRVXHE8qTWdlLGnP1xtklngECXRqqQnCrqSdbiLTJrk01y+aJNG2jSTcItyfNttyl9W9zeAI1jbunTxJ5lKTnLHLMm3hfJZx9h+4UfJp+hf8AIkgCPdWcKtGVGSapyWlqLxt4bcjVLoym228vMlNrO0pRxiTXe9l+RNAFR0f0bVpTg9eyzxO02p5T5Ra7Paeee2MGdt0XmpVqVt3KqqkYqTceyko5WFusZ+u5aACu/s1TpVbepl0ZSbWJYbUnqcX92/s0SaFpCnlxTcsY1Sk5P6Ze+PkSABU23RUozpylKOY1J1G45zJz1bb8ktX6I3f2ZGerirnOeMPnGWMp/J4LAARatu5VaWyVOn2l85YcUvok3+htuaKqU5022lOLi2vmsG0AeEGn0TSjjS5qSlKSkpb9t5lv4N74J4Apa/Q8lJui9CVNQptTcdGM7tYerd53JFzYTq16UpS/hwpyWYycZOUsJvlywn395ZACB+4KE4aIxVLh8KUOS0/3cfTdY/m+QqdHxjQqwpp6pwazJ5b7OFv4JE88Ah1OjKc6rqyc9TiotKcksLfGE+WWzOva6oxpxxCmvxJbPC5JeCySgBVw6OmrZ27akpTlql4QlJya+bw8ffJaAACFW6LpVKkqktTlJRX4ntoblFrwabb+5NAFVddE5cXDL7bnPtuMpSa0p6l4LbHL8jyv0fWnbwpSmpfxVKbcmnojLUknjdrCWds4LYAV9Xo5RjF0l/EjU4uZPeUmnGWX84tr5bdyM59F0pVZVZa9UkoyWuSTUc4TSfLd/mTD0CDe2Tnwow0KFOWpx3WcJpJY5Ybz9jUujpK3dBNNVJtzfJKMnlpd78PuWYA8PQAAAAAAAAAAAAAAAAAAAAAAAAAAAAAAADGU0sZaWeWXzGtZ05WcZx34AyBgqscpalu8LfvXNGYAAAAYxmnyaf0ZkABgqscKWpYfJ52PYyTzhp4eH8mBkAa68pKEnCKlNJuMW8JvuWe4DYCj6J6Yr3dNzhSoxlGTjOEqktUJLufYN91d3lJav3alUgvxaKr1Jd7ScFnbuyBaN4WXyRjSqxnFThJSjJZTXJowr3UKdPiSfZwvvnkku9vPIrugpSg61CcdDjPiQjnOIVG5Y+0tSAtwYOpFc5L8z2U0k22klu2+QGQMXNZSysvkvEyAAHjeFl7ID0GKmtt1vy35mQAGudaMYzbf4FmWN2ts8voa7a7jV1pKSlBpSUluspNfowJAAAAAAAAAAAAAAAAAAAAAAAAAAAAAAAAAAAAAAAAAAAAGMoppp8nswKO1p0bri3FfTKKrfwm3+CNN4i14Zll/PKF1WnwLqcNqtSsqMX4JyjTX0xlv7ljDom2jNTjQpxkuTUUuRmrNaqmcOFTDcWv7yws/ovugKSnFq3u6ijGMYVFwtLys0lFNp4XNpr5l9d13ThqWnOf7zaX6J/0Ma9opxhTWI01JNxS5qLykvBZSz8iSBXW3SMpzUWqe/hKbf6wS/Uw6crPFGipaXXqKLecYgk5S/RY/zFoR7mxo1v8Aa0oVNsdqKe33AivgWdOtOlCK7SlOEXjtSxFfJZ2Nd3fudCuopxccQcovK7eE8Nd6z9iRU6LpunGnBcOEZqeIpbuLTWcrxS/Iyj0bDRWg3KXGbc23vulHbGywkuQFJ07rc6tOnCLjToRp0ottfxKzlFNLG+FFfTLLeHYvFFcp0cy+sJRSf1am/wAiRTtl2ZTUZVYrGvG//W7/ADZ7Tt8VZ1JPLklFfKK3/Ntv9AIt/dzg4KNKq1xIrK04a8PxZJtGo5Ry4Sg/CWM/o2j2pSUsZXJpr6oVZ6YylhvCziKy39F4gUHSdrO3vqNzbJN15KnWpcta+NfOPedEc9Z38tcq1a1unVksJKk2qcfhj/VvvfySN1z03Wwo0bK4lOTwnOGmMc973zgC3rSaWVBz+Sx/xaMKVSUpb0pQ25tx/LZsXFOpKjKMJ6ajjhTa7/HBB6L1SncLMpW7aVPW229sSab30t8s/PGwEGwocatcVXSpSpVK0ouTSyo046OWO+alvknVZRlG1px3pupp5p6lCMmuXzivyJ9va06UXGnCMIvuisIjLo1Rowpxm805aoSlvh/PGOeWn9WBUOpOpdJtR7Vy0nneFOhnO2Nk5fP++joaNZThrjunnGGnnD7u7cRt4JykoRUpfiaW7MbO2VGlGmm5KKxl8/0A1q7n/h6y9HuIfTlZqdCHZ0dqrU1NpONNLZvD75J/YtzVVoQnjXGMsbrKzgCjtrSnTtqF3cqUZ04amlvjU9WnHfjOC+lNKOruxnbciX9i6+pSliOhqKWViTTTbw99ny+prr2NSpSVKU44jGGJaecovtbZ5NL7ZAyr5V3T0vDqUpp/5XFxf21P8zb0faSoxkpVOI5PLlpSy/n4szjb/wAZ1JPL06YrwXN/dvH5IkAAAAAAAAAAAAAAAAAAAAAAAAAAAAAAAAAAAAAAAAAAAAAAAAAAAAAAAAAAAAPD0AaLyuqVKdRrKhFyf2MreWqnB88xXh/w2NkoppprKfNMJY2WyAwuKMakJQlnTJYeG08P5rdGiy6Pp0M8PVvjOqcpbLklqbwiWAAAAAAAAAAAAAAAAAAAAAAAAAAAAAAAAAAAAAAAAAAAAAAAAAAAAAAAAAAAAAAAAAAAAAAAAAAAAAAAAAAAAAAAAAAAAAAAAAAAAAAAAAAAAAAAAAAAAAAAAAAAAAAAAAAAAAAAAAAAAAAAAAAAAAAAAAAAAAAAAAAAAAAAAAAAAAAAAAAAAAAAAAAAAAAAAAAAAAAAAAAAAAAAAAAAAAAACv48viY40viYFgCv48viY40viYFgCv48viY40viYFgCv48viY48viYFgCv40/Fjjy+JgWAK/jS+Jjjy+JgWAK/jS8WOPL4mBYAr+PL4mONL4mBYAr+PL4mOPL4mBYAr+PL4mOPL4mBYAr+PL4mOPL4mBYAr+PL4mOPL4mBYAr+PL4mOPL4mBYAr+PL4mOPL4mBYAr+PL4maLrpB00u1u+WXhLlu34br8wLcHN9I9JXNOnmOqo3s+HHThS5STectJPb5rkWVO4qNZk8b7Yedu7uAsgV/Gl8THGl8TAsAV/Gl8THGl8TAsAV/Gl8THGl8TAsAV/Gl8THGl8TAsAV/Gl8THGl8TAsAV/Gl8THGl8TAsAV/Gl4scaXxMCwBX8aXixxpfEwLAFfxpeLHGl8TAsAV/Gl8THGl4sCwBX8aXixxpfEwLAFfxpeLHGl8TAsAV/Gl8TPJXLisueF4t4AsQVyuW+U87Z2fd4nvGl8TAwKivSulUrOnJqLlqhvF5xCmku1nCclLwL/hrwHDXgBz0Kd5FTSlJ4dRrOh5zPs4/yPbPevAxcLyUqalr0pxf9xcptviY79OnaO3M6PhrwHDXgBz9Od5LRqjOCytWnh6s6Y555WnVqz38sGqFK8jHZ1G+UpZpubSlU/Dns98Oa5N950vDXgOGvACms43PETrS7LTUopR0p4hhrv56+ZGtoXsZU4tycVLdy0PK1y1OXf8Ag06cd/M6LhrwHDXgBQVKFZVqslCUp5bpT4mKcVowoyjn4uezzlPPhjCN68dqSSy+0qeqXap7SwscnU5Y5LvOh4a8Bw14Ac7Rt7tba5ruc3ocsJ1Xt3fB3d5lxL3DTg08c1o74Q5Zzupa+axyOg4a8Bw14Ac86F1Khc6tXFlR0w7SXaXE322Tw477GypUu5VVKMHCnp/A9GXLtZ1PLx/dxh97yi94a8Bw14Ac9BXuneTTUZYyqeZPMdOdscnLljkvv6qV3qxrlj8PE7GrSpVMPGMZxo7joOGvA84cfADn7O4uXcxhVbxpzJJR0rsR71vnU3345Y7y5JHDXgOGvACOCRw14DhrwAjgkcNeA4a8AI4JHDXgOGvACOCRw14DhrwAjgkcNeA4a8AI5VdJ3kYVILTKalJU5YhlR3Ut87YxkveGvAwnbwk02s4TXN4357d4FLjTKOO3J5/hyknKD3xpS5fjeX4fYsqNPRCEc50xSz9FgkxoQXKKX0PeGvADQDfw14DhrwA0A38NeA4a8ANAN/DXgOGvADQDfw14DhrwA0A38NeA4a8ANBhWp64SjlrUmsp4ayu4lcNeA4a8AOWpW1/+KX49OvGtNKa/h4Xc04ZlvtqN1SF9JaW3h05LZRTbanjV4S/Dutue3h0nDXgOGvACklCtK2aqwlKpq5QaSx3NdqOV8m8vc2WtrV4VtrqTjKnFa45UtbxjEn3lvw14DhrwA5t29wq05whNPiTlqdRaZQcWoxUcvfVjuWMP77LerdcSlTm32m3JtRyoxecvCx2k9J0HDXgOGvACkhQuP37iSw6OiUUlN4S7OnMfizq3+fyQvLGo7StTVSdWq1KUG3pak09KTWORd8NeB5w14Ac/dU7rTUpUlOMUnolGUctdhpJyec518/zM4K8c2m2oufPENo69tP8Ak56u/kX3DXgOGvADmK9K9dOUIqSTpTj+KP4mp4afNPOlc8FnUoz/AHunUTlw+HNSWeynmGnbx/Fv8i04a8Bw14ARzXWUnF6NOru1ciXw14HvDXgBXW9tolnZdhRf1Tff38ySSOGvAcNeAGQAAAAAAAAAAAAAAAAAAAAAAAAAAAAAAAAAAAAAAAAAAAAAAAAAAAAAAAAAAAAAAAAAAAAAAAAAAAAAAAAPmvWFeeXb+mfuHWFeeXb+mfuA+lA+a9YV55dv6Z+4dYV55dv6Z+4D6UD5r1hXnl2/pn7h1hXnl2/pn7gPpQPmvWFeeXb+mfuHWFeeXb+mfuA+lA+a9YV55dv6Z+4dYV55dv6Z+4D6UD5r1hXnl2/pn7h1hXnl2/pn7gPpQPmvWFeeXb+mfuHWFeeXb+mfuA+lA+a9YV55dv6Z+4dYV55dv6Z+4D6UD5r1hXnl2/pn7h1hXnl2/pn7gPpQPmvWFeeXb+mfuHWFeeXb+mfuA+lA+a9YV55dv6Z+4dYV55dv6Z+4D6UD5r1hXnl2/pn7h1hXnl2/pn7gPpQPmvWFeeXb+mfuHWFeeXb+mfuA+lA+a9YV55dv6Z+4dYV55dv6Z+4D6UD5r1hXnl2/pn7h1hXnl2/pn7gPpQPmvWFeeXb+mfuHWFeeXb+mfuA+lA+a9YV55dv6Z+4dYV55dv6Z+4D6UD5r1hXnl2/pn7h1hXnl2/pn7gPpQPmvWFeeXb+mfuHWFeeXb+mfuA+lA+a9YV55dv6Z+4dYV55dv6Z+4D6UD5r1hXnl2/pn7h1hXnl2/pn7gPpQPmvWFeeXb+mfuHWFeeXb+mfuA+lA+a9YV55dv6Z+4dYV55dv6Z+4D6UD5r1hXnl2/pn7h1hXnl2/pn7gPpQPmvWFeeXb+mfuHWFeeXb+mfuA+lA+a9YV55dv6Z+4dYV55dv6Z+4D6UD5r1hXnl2/pn7h1hXnl2/pn7gPpQPmvWFeeXb+mfuHWFeeXb+mfuA+lA+a9YV55dv6Z+4dYV55dv6Z+4D6UD5r1hXnl2/pn7h1hXnl2/pn7gOTAAAAAAAAAAAAAAAAAAAAAAAAAAAAAAAAAAAAAAAAAAAAAAAAAAAAAAAAAAAAAAAAAAAAAAAAAAAAAAAAAAAAAAAAAAAAAAAAAAAAAAAAAAAAAAAAAAAAAAAAAAAAAAAAAAAAAAAAAAAAAAAAAAAAAAAAAAAAAAAAAAAAAAAAAAAAAAAAAAAAAAAAAAAAAAAAAAAAAAAAAAAAAAAAAAAAAAAAAAAAAAAAAAAAAAAAAAAAAAAB/9k=\n"
                },
                "metadata": {}
              }
            ],
            "_view_module": "@jupyter-widgets/output",
            "_model_module_version": "1.0.0",
            "_view_count": null,
            "_view_module_version": "1.0.0",
            "layout": "IPY_MODEL_cc4fb21150724410a9df961b3283a55a",
            "_model_module": "@jupyter-widgets/output"
          }
        },
        "b225012ccdf24460ab6ee47fe5376fd0": {
          "model_module": "@jupyter-widgets/output",
          "model_name": "OutputModel",
          "model_module_version": "1.0.0",
          "state": {
            "_view_name": "OutputView",
            "msg_id": "",
            "_dom_classes": [],
            "_model_name": "OutputModel",
            "outputs": [
              {
                "output_type": "stream",
                "text": [
                  "Video available at https://www.bilibili.com/video/BV1RP4y14792\n"
                ],
                "name": "stdout"
              },
              {
                "output_type": "display_data",
                "data": {
                  "text/html": [
                    "\n",
                    "        <iframe\n",
                    "            width=\"854\"\n",
                    "            height=\"480\"\n",
                    "            src=\"https://player.bilibili.com/player.html?bvid=BV1RP4y14792&page=1?fs=1\"\n",
                    "            frameborder=\"0\"\n",
                    "            allowfullscreen\n",
                    "        ></iframe>\n",
                    "        "
                  ],
                  "text/plain": [
                    "<__main__.BiliVideo at 0x7f3b603d5b10>"
                  ]
                },
                "metadata": {}
              }
            ],
            "_view_module": "@jupyter-widgets/output",
            "_model_module_version": "1.0.0",
            "_view_count": null,
            "_view_module_version": "1.0.0",
            "layout": "IPY_MODEL_275cce8774fc49549602a0e8b18e36b6",
            "_model_module": "@jupyter-widgets/output"
          }
        },
        "cc4fb21150724410a9df961b3283a55a": {
          "model_module": "@jupyter-widgets/base",
          "model_name": "LayoutModel",
          "model_module_version": "1.2.0",
          "state": {
            "_view_name": "LayoutView",
            "grid_template_rows": null,
            "right": null,
            "justify_content": null,
            "_view_module": "@jupyter-widgets/base",
            "overflow": null,
            "_model_module_version": "1.2.0",
            "_view_count": null,
            "flex_flow": null,
            "width": null,
            "min_width": null,
            "border": null,
            "align_items": null,
            "bottom": null,
            "_model_module": "@jupyter-widgets/base",
            "top": null,
            "grid_column": null,
            "overflow_y": null,
            "overflow_x": null,
            "grid_auto_flow": null,
            "grid_area": null,
            "grid_template_columns": null,
            "flex": null,
            "_model_name": "LayoutModel",
            "justify_items": null,
            "grid_row": null,
            "max_height": null,
            "align_content": null,
            "visibility": null,
            "align_self": null,
            "height": null,
            "min_height": null,
            "padding": null,
            "grid_auto_rows": null,
            "grid_gap": null,
            "max_width": null,
            "order": null,
            "_view_module_version": "1.2.0",
            "grid_template_areas": null,
            "object_position": null,
            "object_fit": null,
            "grid_auto_columns": null,
            "margin": null,
            "display": null,
            "left": null
          }
        },
        "275cce8774fc49549602a0e8b18e36b6": {
          "model_module": "@jupyter-widgets/base",
          "model_name": "LayoutModel",
          "model_module_version": "1.2.0",
          "state": {
            "_view_name": "LayoutView",
            "grid_template_rows": null,
            "right": null,
            "justify_content": null,
            "_view_module": "@jupyter-widgets/base",
            "overflow": null,
            "_model_module_version": "1.2.0",
            "_view_count": null,
            "flex_flow": null,
            "width": null,
            "min_width": null,
            "border": null,
            "align_items": null,
            "bottom": null,
            "_model_module": "@jupyter-widgets/base",
            "top": null,
            "grid_column": null,
            "overflow_y": null,
            "overflow_x": null,
            "grid_auto_flow": null,
            "grid_area": null,
            "grid_template_columns": null,
            "flex": null,
            "_model_name": "LayoutModel",
            "justify_items": null,
            "grid_row": null,
            "max_height": null,
            "align_content": null,
            "visibility": null,
            "align_self": null,
            "height": null,
            "min_height": null,
            "padding": null,
            "grid_auto_rows": null,
            "grid_gap": null,
            "max_width": null,
            "order": null,
            "_view_module_version": "1.2.0",
            "grid_template_areas": null,
            "object_position": null,
            "object_fit": null,
            "grid_auto_columns": null,
            "margin": null,
            "display": null,
            "left": null
          }
        },
        "aa823a1a39094bf892e13e115b78f335": {
          "model_module": "@jupyter-widgets/controls",
          "model_name": "TabModel",
          "model_module_version": "1.5.0",
          "state": {
            "_view_name": "TabView",
            "_dom_classes": [],
            "_titles": {
              "0": "Youtube",
              "1": "Bilibili"
            },
            "_model_name": "TabModel",
            "_view_module": "@jupyter-widgets/controls",
            "selected_index": 0,
            "_model_module_version": "1.5.0",
            "_view_count": null,
            "_view_module_version": "1.5.0",
            "box_style": "",
            "layout": "IPY_MODEL_a3b00cfdfe6245c987eaaf3fdf8fe731",
            "_model_module": "@jupyter-widgets/controls",
            "children": [
              "IPY_MODEL_2b7f31c34cc9418895980b8782c00e00",
              "IPY_MODEL_7eb78480f365498790348ea8ce105981"
            ]
          }
        },
        "a3b00cfdfe6245c987eaaf3fdf8fe731": {
          "model_module": "@jupyter-widgets/base",
          "model_name": "LayoutModel",
          "model_module_version": "1.2.0",
          "state": {
            "_view_name": "LayoutView",
            "grid_template_rows": null,
            "right": null,
            "justify_content": null,
            "_view_module": "@jupyter-widgets/base",
            "overflow": null,
            "_model_module_version": "1.2.0",
            "_view_count": null,
            "flex_flow": null,
            "width": null,
            "min_width": null,
            "border": null,
            "align_items": null,
            "bottom": null,
            "_model_module": "@jupyter-widgets/base",
            "top": null,
            "grid_column": null,
            "overflow_y": null,
            "overflow_x": null,
            "grid_auto_flow": null,
            "grid_area": null,
            "grid_template_columns": null,
            "flex": null,
            "_model_name": "LayoutModel",
            "justify_items": null,
            "grid_row": null,
            "max_height": null,
            "align_content": null,
            "visibility": null,
            "align_self": null,
            "height": null,
            "min_height": null,
            "padding": null,
            "grid_auto_rows": null,
            "grid_gap": null,
            "max_width": null,
            "order": null,
            "_view_module_version": "1.2.0",
            "grid_template_areas": null,
            "object_position": null,
            "object_fit": null,
            "grid_auto_columns": null,
            "margin": null,
            "display": null,
            "left": null
          }
        },
        "2b7f31c34cc9418895980b8782c00e00": {
          "model_module": "@jupyter-widgets/output",
          "model_name": "OutputModel",
          "model_module_version": "1.0.0",
          "state": {
            "_view_name": "OutputView",
            "msg_id": "",
            "_dom_classes": [],
            "_model_name": "OutputModel",
            "outputs": [
              {
                "output_type": "stream",
                "text": [
                  "Video available at https://youtube.com/watch?v=gQYyFWI3X2s\n"
                ],
                "name": "stdout"
              },
              {
                "output_type": "display_data",
                "data": {
                  "text/html": [
                    "\n",
                    "        <iframe\n",
                    "            width=\"854\"\n",
                    "            height=\"480\"\n",
                    "            src=\"https://www.youtube.com/embed/gQYyFWI3X2s?fs=1&rel=0\"\n",
                    "            frameborder=\"0\"\n",
                    "            allowfullscreen\n",
                    "        ></iframe>\n",
                    "        "
                  ],
                  "text/plain": [
                    "<IPython.lib.display.YouTubeVideo at 0x7f3b6ba970d0>"
                  ],
                  "image/jpeg": "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\n"
                },
                "metadata": {}
              }
            ],
            "_view_module": "@jupyter-widgets/output",
            "_model_module_version": "1.0.0",
            "_view_count": null,
            "_view_module_version": "1.0.0",
            "layout": "IPY_MODEL_80fd026b9f994b3481670d106a0661b8",
            "_model_module": "@jupyter-widgets/output"
          }
        },
        "7eb78480f365498790348ea8ce105981": {
          "model_module": "@jupyter-widgets/output",
          "model_name": "OutputModel",
          "model_module_version": "1.0.0",
          "state": {
            "_view_name": "OutputView",
            "msg_id": "",
            "_dom_classes": [],
            "_model_name": "OutputModel",
            "outputs": [
              {
                "output_type": "stream",
                "text": [
                  "Video available at https://www.bilibili.com/video/BV1R64y1s7EU\n"
                ],
                "name": "stdout"
              },
              {
                "output_type": "display_data",
                "data": {
                  "text/html": [
                    "\n",
                    "        <iframe\n",
                    "            width=\"854\"\n",
                    "            height=\"480\"\n",
                    "            src=\"https://player.bilibili.com/player.html?bvid=BV1R64y1s7EU&page=1?fs=1\"\n",
                    "            frameborder=\"0\"\n",
                    "            allowfullscreen\n",
                    "        ></iframe>\n",
                    "        "
                  ],
                  "text/plain": [
                    "<__main__.BiliVideo at 0x7f3b60367210>"
                  ]
                },
                "metadata": {}
              }
            ],
            "_view_module": "@jupyter-widgets/output",
            "_model_module_version": "1.0.0",
            "_view_count": null,
            "_view_module_version": "1.0.0",
            "layout": "IPY_MODEL_d25718cfaa2341b1a2507756eefbc4e4",
            "_model_module": "@jupyter-widgets/output"
          }
        },
        "80fd026b9f994b3481670d106a0661b8": {
          "model_module": "@jupyter-widgets/base",
          "model_name": "LayoutModel",
          "model_module_version": "1.2.0",
          "state": {
            "_view_name": "LayoutView",
            "grid_template_rows": null,
            "right": null,
            "justify_content": null,
            "_view_module": "@jupyter-widgets/base",
            "overflow": null,
            "_model_module_version": "1.2.0",
            "_view_count": null,
            "flex_flow": null,
            "width": null,
            "min_width": null,
            "border": null,
            "align_items": null,
            "bottom": null,
            "_model_module": "@jupyter-widgets/base",
            "top": null,
            "grid_column": null,
            "overflow_y": null,
            "overflow_x": null,
            "grid_auto_flow": null,
            "grid_area": null,
            "grid_template_columns": null,
            "flex": null,
            "_model_name": "LayoutModel",
            "justify_items": null,
            "grid_row": null,
            "max_height": null,
            "align_content": null,
            "visibility": null,
            "align_self": null,
            "height": null,
            "min_height": null,
            "padding": null,
            "grid_auto_rows": null,
            "grid_gap": null,
            "max_width": null,
            "order": null,
            "_view_module_version": "1.2.0",
            "grid_template_areas": null,
            "object_position": null,
            "object_fit": null,
            "grid_auto_columns": null,
            "margin": null,
            "display": null,
            "left": null
          }
        },
        "d25718cfaa2341b1a2507756eefbc4e4": {
          "model_module": "@jupyter-widgets/base",
          "model_name": "LayoutModel",
          "model_module_version": "1.2.0",
          "state": {
            "_view_name": "LayoutView",
            "grid_template_rows": null,
            "right": null,
            "justify_content": null,
            "_view_module": "@jupyter-widgets/base",
            "overflow": null,
            "_model_module_version": "1.2.0",
            "_view_count": null,
            "flex_flow": null,
            "width": null,
            "min_width": null,
            "border": null,
            "align_items": null,
            "bottom": null,
            "_model_module": "@jupyter-widgets/base",
            "top": null,
            "grid_column": null,
            "overflow_y": null,
            "overflow_x": null,
            "grid_auto_flow": null,
            "grid_area": null,
            "grid_template_columns": null,
            "flex": null,
            "_model_name": "LayoutModel",
            "justify_items": null,
            "grid_row": null,
            "max_height": null,
            "align_content": null,
            "visibility": null,
            "align_self": null,
            "height": null,
            "min_height": null,
            "padding": null,
            "grid_auto_rows": null,
            "grid_gap": null,
            "max_width": null,
            "order": null,
            "_view_module_version": "1.2.0",
            "grid_template_areas": null,
            "object_position": null,
            "object_fit": null,
            "grid_auto_columns": null,
            "margin": null,
            "display": null,
            "left": null
          }
        },
        "bb4bbacd784a4877a4b609609fd8b193": {
          "model_module": "@jupyter-widgets/controls",
          "model_name": "TabModel",
          "model_module_version": "1.5.0",
          "state": {
            "_view_name": "TabView",
            "_dom_classes": [],
            "_titles": {
              "0": "Youtube",
              "1": "Bilibili"
            },
            "_model_name": "TabModel",
            "_view_module": "@jupyter-widgets/controls",
            "selected_index": 0,
            "_model_module_version": "1.5.0",
            "_view_count": null,
            "_view_module_version": "1.5.0",
            "box_style": "",
            "layout": "IPY_MODEL_b8dde258492746fd9fbe591e92fc9a24",
            "_model_module": "@jupyter-widgets/controls",
            "children": [
              "IPY_MODEL_c18436dbc4574027b28747b0747f9d3b",
              "IPY_MODEL_c6e4e8cade72478fbed5cdac8504629c"
            ]
          }
        },
        "b8dde258492746fd9fbe591e92fc9a24": {
          "model_module": "@jupyter-widgets/base",
          "model_name": "LayoutModel",
          "model_module_version": "1.2.0",
          "state": {
            "_view_name": "LayoutView",
            "grid_template_rows": null,
            "right": null,
            "justify_content": null,
            "_view_module": "@jupyter-widgets/base",
            "overflow": null,
            "_model_module_version": "1.2.0",
            "_view_count": null,
            "flex_flow": null,
            "width": null,
            "min_width": null,
            "border": null,
            "align_items": null,
            "bottom": null,
            "_model_module": "@jupyter-widgets/base",
            "top": null,
            "grid_column": null,
            "overflow_y": null,
            "overflow_x": null,
            "grid_auto_flow": null,
            "grid_area": null,
            "grid_template_columns": null,
            "flex": null,
            "_model_name": "LayoutModel",
            "justify_items": null,
            "grid_row": null,
            "max_height": null,
            "align_content": null,
            "visibility": null,
            "align_self": null,
            "height": null,
            "min_height": null,
            "padding": null,
            "grid_auto_rows": null,
            "grid_gap": null,
            "max_width": null,
            "order": null,
            "_view_module_version": "1.2.0",
            "grid_template_areas": null,
            "object_position": null,
            "object_fit": null,
            "grid_auto_columns": null,
            "margin": null,
            "display": null,
            "left": null
          }
        },
        "c18436dbc4574027b28747b0747f9d3b": {
          "model_module": "@jupyter-widgets/output",
          "model_name": "OutputModel",
          "model_module_version": "1.0.0",
          "state": {
            "_view_name": "OutputView",
            "msg_id": "",
            "_dom_classes": [],
            "_model_name": "OutputModel",
            "outputs": [
              {
                "output_type": "stream",
                "text": [
                  "Video available at https://youtube.com/watch?v=tR-5zraPOto\n"
                ],
                "name": "stdout"
              },
              {
                "output_type": "display_data",
                "data": {
                  "text/html": [
                    "\n",
                    "        <iframe\n",
                    "            width=\"854\"\n",
                    "            height=\"480\"\n",
                    "            src=\"https://www.youtube.com/embed/tR-5zraPOto?fs=1&rel=0\"\n",
                    "            frameborder=\"0\"\n",
                    "            allowfullscreen\n",
                    "        ></iframe>\n",
                    "        "
                  ],
                  "text/plain": [
                    "<IPython.lib.display.YouTubeVideo at 0x7f3b6b9c11d0>"
                  ],
                  "image/jpeg": "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\n"
                },
                "metadata": {}
              }
            ],
            "_view_module": "@jupyter-widgets/output",
            "_model_module_version": "1.0.0",
            "_view_count": null,
            "_view_module_version": "1.0.0",
            "layout": "IPY_MODEL_338b352e8c7f4a26aa2ad46f64179e7c",
            "_model_module": "@jupyter-widgets/output"
          }
        },
        "c6e4e8cade72478fbed5cdac8504629c": {
          "model_module": "@jupyter-widgets/output",
          "model_name": "OutputModel",
          "model_module_version": "1.0.0",
          "state": {
            "_view_name": "OutputView",
            "msg_id": "",
            "_dom_classes": [],
            "_model_name": "OutputModel",
            "outputs": [
              {
                "output_type": "stream",
                "text": [
                  "Video available at https://www.bilibili.com/video/BV1aq4y1H7SH\n"
                ],
                "name": "stdout"
              },
              {
                "output_type": "display_data",
                "data": {
                  "text/html": [
                    "\n",
                    "        <iframe\n",
                    "            width=\"854\"\n",
                    "            height=\"480\"\n",
                    "            src=\"https://player.bilibili.com/player.html?bvid=BV1aq4y1H7SH&page=1?fs=1\"\n",
                    "            frameborder=\"0\"\n",
                    "            allowfullscreen\n",
                    "        ></iframe>\n",
                    "        "
                  ],
                  "text/plain": [
                    "<__main__.BiliVideo at 0x7f3b6b8aae90>"
                  ]
                },
                "metadata": {}
              }
            ],
            "_view_module": "@jupyter-widgets/output",
            "_model_module_version": "1.0.0",
            "_view_count": null,
            "_view_module_version": "1.0.0",
            "layout": "IPY_MODEL_42f534f4e3ff4eeeba6a85422022b358",
            "_model_module": "@jupyter-widgets/output"
          }
        },
        "338b352e8c7f4a26aa2ad46f64179e7c": {
          "model_module": "@jupyter-widgets/base",
          "model_name": "LayoutModel",
          "model_module_version": "1.2.0",
          "state": {
            "_view_name": "LayoutView",
            "grid_template_rows": null,
            "right": null,
            "justify_content": null,
            "_view_module": "@jupyter-widgets/base",
            "overflow": null,
            "_model_module_version": "1.2.0",
            "_view_count": null,
            "flex_flow": null,
            "width": null,
            "min_width": null,
            "border": null,
            "align_items": null,
            "bottom": null,
            "_model_module": "@jupyter-widgets/base",
            "top": null,
            "grid_column": null,
            "overflow_y": null,
            "overflow_x": null,
            "grid_auto_flow": null,
            "grid_area": null,
            "grid_template_columns": null,
            "flex": null,
            "_model_name": "LayoutModel",
            "justify_items": null,
            "grid_row": null,
            "max_height": null,
            "align_content": null,
            "visibility": null,
            "align_self": null,
            "height": null,
            "min_height": null,
            "padding": null,
            "grid_auto_rows": null,
            "grid_gap": null,
            "max_width": null,
            "order": null,
            "_view_module_version": "1.2.0",
            "grid_template_areas": null,
            "object_position": null,
            "object_fit": null,
            "grid_auto_columns": null,
            "margin": null,
            "display": null,
            "left": null
          }
        },
        "42f534f4e3ff4eeeba6a85422022b358": {
          "model_module": "@jupyter-widgets/base",
          "model_name": "LayoutModel",
          "model_module_version": "1.2.0",
          "state": {
            "_view_name": "LayoutView",
            "grid_template_rows": null,
            "right": null,
            "justify_content": null,
            "_view_module": "@jupyter-widgets/base",
            "overflow": null,
            "_model_module_version": "1.2.0",
            "_view_count": null,
            "flex_flow": null,
            "width": null,
            "min_width": null,
            "border": null,
            "align_items": null,
            "bottom": null,
            "_model_module": "@jupyter-widgets/base",
            "top": null,
            "grid_column": null,
            "overflow_y": null,
            "overflow_x": null,
            "grid_auto_flow": null,
            "grid_area": null,
            "grid_template_columns": null,
            "flex": null,
            "_model_name": "LayoutModel",
            "justify_items": null,
            "grid_row": null,
            "max_height": null,
            "align_content": null,
            "visibility": null,
            "align_self": null,
            "height": null,
            "min_height": null,
            "padding": null,
            "grid_auto_rows": null,
            "grid_gap": null,
            "max_width": null,
            "order": null,
            "_view_module_version": "1.2.0",
            "grid_template_areas": null,
            "object_position": null,
            "object_fit": null,
            "grid_auto_columns": null,
            "margin": null,
            "display": null,
            "left": null
          }
        },
        "eb68ad10b3a4413fac0efecf7d83f3c0": {
          "model_module": "@jupyter-widgets/controls",
          "model_name": "TextareaModel",
          "model_module_version": "1.5.0",
          "state": {
            "_view_name": "TextareaView",
            "style": "IPY_MODEL_4594daa7c6f849ea84bbf5bdac4b6d54",
            "rows": null,
            "_dom_classes": [],
            "description": "",
            "_model_name": "TextareaModel",
            "placeholder": "Type something",
            "_view_module": "@jupyter-widgets/controls",
            "_model_module_version": "1.5.0",
            "value": "Type your answer here and click on `Submit!`",
            "_view_count": null,
            "disabled": false,
            "_view_module_version": "1.5.0",
            "continuous_update": true,
            "description_tooltip": null,
            "_model_module": "@jupyter-widgets/controls",
            "layout": "IPY_MODEL_3dc9ff05893a4908a621bce040766c39"
          }
        },
        "4594daa7c6f849ea84bbf5bdac4b6d54": {
          "model_module": "@jupyter-widgets/controls",
          "model_name": "DescriptionStyleModel",
          "model_module_version": "1.5.0",
          "state": {
            "_view_name": "StyleView",
            "_model_name": "DescriptionStyleModel",
            "description_width": "",
            "_view_module": "@jupyter-widgets/base",
            "_model_module_version": "1.5.0",
            "_view_count": null,
            "_view_module_version": "1.2.0",
            "_model_module": "@jupyter-widgets/controls"
          }
        },
        "3dc9ff05893a4908a621bce040766c39": {
          "model_module": "@jupyter-widgets/base",
          "model_name": "LayoutModel",
          "model_module_version": "1.2.0",
          "state": {
            "_view_name": "LayoutView",
            "grid_template_rows": null,
            "right": null,
            "justify_content": null,
            "_view_module": "@jupyter-widgets/base",
            "overflow": null,
            "_model_module_version": "1.2.0",
            "_view_count": null,
            "flex_flow": null,
            "width": null,
            "min_width": null,
            "border": null,
            "align_items": null,
            "bottom": null,
            "_model_module": "@jupyter-widgets/base",
            "top": null,
            "grid_column": null,
            "overflow_y": null,
            "overflow_x": null,
            "grid_auto_flow": null,
            "grid_area": null,
            "grid_template_columns": null,
            "flex": null,
            "_model_name": "LayoutModel",
            "justify_items": null,
            "grid_row": null,
            "max_height": null,
            "align_content": null,
            "visibility": null,
            "align_self": null,
            "height": null,
            "min_height": null,
            "padding": null,
            "grid_auto_rows": null,
            "grid_gap": null,
            "max_width": null,
            "order": null,
            "_view_module_version": "1.2.0",
            "grid_template_areas": null,
            "object_position": null,
            "object_fit": null,
            "grid_auto_columns": null,
            "margin": null,
            "display": null,
            "left": null
          }
        },
        "ea98d511506348549d540a9c7093921b": {
          "model_module": "@jupyter-widgets/controls",
          "model_name": "ButtonModel",
          "model_module_version": "1.5.0",
          "state": {
            "_view_name": "ButtonView",
            "style": "IPY_MODEL_7abafd15520847c8a10a1248ae975273",
            "_dom_classes": [],
            "description": "Submit!",
            "_model_name": "ButtonModel",
            "button_style": "",
            "_view_module": "@jupyter-widgets/controls",
            "_model_module_version": "1.5.0",
            "tooltip": "",
            "_view_count": null,
            "disabled": false,
            "_view_module_version": "1.5.0",
            "layout": "IPY_MODEL_0a386a9d39b34707a7415b9217cf042f",
            "_model_module": "@jupyter-widgets/controls",
            "icon": ""
          }
        },
        "7abafd15520847c8a10a1248ae975273": {
          "model_module": "@jupyter-widgets/controls",
          "model_name": "ButtonStyleModel",
          "model_module_version": "1.5.0",
          "state": {
            "_view_name": "StyleView",
            "_model_name": "ButtonStyleModel",
            "_view_module": "@jupyter-widgets/base",
            "_model_module_version": "1.5.0",
            "_view_count": null,
            "button_color": null,
            "font_weight": "",
            "_view_module_version": "1.2.0",
            "_model_module": "@jupyter-widgets/controls"
          }
        },
        "0a386a9d39b34707a7415b9217cf042f": {
          "model_module": "@jupyter-widgets/base",
          "model_name": "LayoutModel",
          "model_module_version": "1.2.0",
          "state": {
            "_view_name": "LayoutView",
            "grid_template_rows": null,
            "right": null,
            "justify_content": null,
            "_view_module": "@jupyter-widgets/base",
            "overflow": null,
            "_model_module_version": "1.2.0",
            "_view_count": null,
            "flex_flow": null,
            "width": null,
            "min_width": null,
            "border": null,
            "align_items": null,
            "bottom": null,
            "_model_module": "@jupyter-widgets/base",
            "top": null,
            "grid_column": null,
            "overflow_y": null,
            "overflow_x": null,
            "grid_auto_flow": null,
            "grid_area": null,
            "grid_template_columns": null,
            "flex": null,
            "_model_name": "LayoutModel",
            "justify_items": null,
            "grid_row": null,
            "max_height": null,
            "align_content": null,
            "visibility": null,
            "align_self": null,
            "height": null,
            "min_height": null,
            "padding": null,
            "grid_auto_rows": null,
            "grid_gap": null,
            "max_width": null,
            "order": null,
            "_view_module_version": "1.2.0",
            "grid_template_areas": null,
            "object_position": null,
            "object_fit": null,
            "grid_auto_columns": null,
            "margin": null,
            "display": null,
            "left": null
          }
        },
        "a7abd74eb02e4edaa25639cdb8b8dd04": {
          "model_module": "@jupyter-widgets/controls",
          "model_name": "TabModel",
          "model_module_version": "1.5.0",
          "state": {
            "_view_name": "TabView",
            "_dom_classes": [],
            "_titles": {
              "0": "Youtube",
              "1": "Bilibili"
            },
            "_model_name": "TabModel",
            "_view_module": "@jupyter-widgets/controls",
            "selected_index": 0,
            "_model_module_version": "1.5.0",
            "_view_count": null,
            "_view_module_version": "1.5.0",
            "box_style": "",
            "layout": "IPY_MODEL_57a4f9c903ba466987fa786eb3353b0f",
            "_model_module": "@jupyter-widgets/controls",
            "children": [
              "IPY_MODEL_0b48a3b9b117473a92f00401f5bbd34f",
              "IPY_MODEL_dbbfd1454d4b4a27a51ac6dad50628bf"
            ]
          }
        },
        "57a4f9c903ba466987fa786eb3353b0f": {
          "model_module": "@jupyter-widgets/base",
          "model_name": "LayoutModel",
          "model_module_version": "1.2.0",
          "state": {
            "_view_name": "LayoutView",
            "grid_template_rows": null,
            "right": null,
            "justify_content": null,
            "_view_module": "@jupyter-widgets/base",
            "overflow": null,
            "_model_module_version": "1.2.0",
            "_view_count": null,
            "flex_flow": null,
            "width": null,
            "min_width": null,
            "border": null,
            "align_items": null,
            "bottom": null,
            "_model_module": "@jupyter-widgets/base",
            "top": null,
            "grid_column": null,
            "overflow_y": null,
            "overflow_x": null,
            "grid_auto_flow": null,
            "grid_area": null,
            "grid_template_columns": null,
            "flex": null,
            "_model_name": "LayoutModel",
            "justify_items": null,
            "grid_row": null,
            "max_height": null,
            "align_content": null,
            "visibility": null,
            "align_self": null,
            "height": null,
            "min_height": null,
            "padding": null,
            "grid_auto_rows": null,
            "grid_gap": null,
            "max_width": null,
            "order": null,
            "_view_module_version": "1.2.0",
            "grid_template_areas": null,
            "object_position": null,
            "object_fit": null,
            "grid_auto_columns": null,
            "margin": null,
            "display": null,
            "left": null
          }
        },
        "0b48a3b9b117473a92f00401f5bbd34f": {
          "model_module": "@jupyter-widgets/output",
          "model_name": "OutputModel",
          "model_module_version": "1.0.0",
          "state": {
            "_view_name": "OutputView",
            "msg_id": "",
            "_dom_classes": [],
            "_model_name": "OutputModel",
            "outputs": [
              {
                "output_type": "stream",
                "text": [
                  "Video available at https://youtube.com/watch?v=vNcJ4Ygaxio\n"
                ],
                "name": "stdout"
              },
              {
                "output_type": "display_data",
                "data": {
                  "text/html": [
                    "\n",
                    "        <iframe\n",
                    "            width=\"854\"\n",
                    "            height=\"480\"\n",
                    "            src=\"https://www.youtube.com/embed/vNcJ4Ygaxio?fs=1&rel=0\"\n",
                    "            frameborder=\"0\"\n",
                    "            allowfullscreen\n",
                    "        ></iframe>\n",
                    "        "
                  ],
                  "text/plain": [
                    "<IPython.lib.display.YouTubeVideo at 0x7f3b591847d0>"
                  ],
                  "image/jpeg": "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\n"
                },
                "metadata": {}
              }
            ],
            "_view_module": "@jupyter-widgets/output",
            "_model_module_version": "1.0.0",
            "_view_count": null,
            "_view_module_version": "1.0.0",
            "layout": "IPY_MODEL_c7e4cdd2f4f24f1480d283b36fc736da",
            "_model_module": "@jupyter-widgets/output"
          }
        },
        "dbbfd1454d4b4a27a51ac6dad50628bf": {
          "model_module": "@jupyter-widgets/output",
          "model_name": "OutputModel",
          "model_module_version": "1.0.0",
          "state": {
            "_view_name": "OutputView",
            "msg_id": "",
            "_dom_classes": [],
            "_model_name": "OutputModel",
            "outputs": [
              {
                "output_type": "stream",
                "text": [
                  "Video available at https://www.bilibili.com/video/BV1xw41197Dm\n"
                ],
                "name": "stdout"
              },
              {
                "output_type": "display_data",
                "data": {
                  "text/html": [
                    "\n",
                    "        <iframe\n",
                    "            width=\"854\"\n",
                    "            height=\"480\"\n",
                    "            src=\"https://player.bilibili.com/player.html?bvid=BV1xw41197Dm&page=1?fs=1\"\n",
                    "            frameborder=\"0\"\n",
                    "            allowfullscreen\n",
                    "        ></iframe>\n",
                    "        "
                  ],
                  "text/plain": [
                    "<__main__.BiliVideo at 0x7f3b59134690>"
                  ]
                },
                "metadata": {}
              }
            ],
            "_view_module": "@jupyter-widgets/output",
            "_model_module_version": "1.0.0",
            "_view_count": null,
            "_view_module_version": "1.0.0",
            "layout": "IPY_MODEL_cb12824c82174435ac408202cc3479c3",
            "_model_module": "@jupyter-widgets/output"
          }
        },
        "c7e4cdd2f4f24f1480d283b36fc736da": {
          "model_module": "@jupyter-widgets/base",
          "model_name": "LayoutModel",
          "model_module_version": "1.2.0",
          "state": {
            "_view_name": "LayoutView",
            "grid_template_rows": null,
            "right": null,
            "justify_content": null,
            "_view_module": "@jupyter-widgets/base",
            "overflow": null,
            "_model_module_version": "1.2.0",
            "_view_count": null,
            "flex_flow": null,
            "width": null,
            "min_width": null,
            "border": null,
            "align_items": null,
            "bottom": null,
            "_model_module": "@jupyter-widgets/base",
            "top": null,
            "grid_column": null,
            "overflow_y": null,
            "overflow_x": null,
            "grid_auto_flow": null,
            "grid_area": null,
            "grid_template_columns": null,
            "flex": null,
            "_model_name": "LayoutModel",
            "justify_items": null,
            "grid_row": null,
            "max_height": null,
            "align_content": null,
            "visibility": null,
            "align_self": null,
            "height": null,
            "min_height": null,
            "padding": null,
            "grid_auto_rows": null,
            "grid_gap": null,
            "max_width": null,
            "order": null,
            "_view_module_version": "1.2.0",
            "grid_template_areas": null,
            "object_position": null,
            "object_fit": null,
            "grid_auto_columns": null,
            "margin": null,
            "display": null,
            "left": null
          }
        },
        "cb12824c82174435ac408202cc3479c3": {
          "model_module": "@jupyter-widgets/base",
          "model_name": "LayoutModel",
          "model_module_version": "1.2.0",
          "state": {
            "_view_name": "LayoutView",
            "grid_template_rows": null,
            "right": null,
            "justify_content": null,
            "_view_module": "@jupyter-widgets/base",
            "overflow": null,
            "_model_module_version": "1.2.0",
            "_view_count": null,
            "flex_flow": null,
            "width": null,
            "min_width": null,
            "border": null,
            "align_items": null,
            "bottom": null,
            "_model_module": "@jupyter-widgets/base",
            "top": null,
            "grid_column": null,
            "overflow_y": null,
            "overflow_x": null,
            "grid_auto_flow": null,
            "grid_area": null,
            "grid_template_columns": null,
            "flex": null,
            "_model_name": "LayoutModel",
            "justify_items": null,
            "grid_row": null,
            "max_height": null,
            "align_content": null,
            "visibility": null,
            "align_self": null,
            "height": null,
            "min_height": null,
            "padding": null,
            "grid_auto_rows": null,
            "grid_gap": null,
            "max_width": null,
            "order": null,
            "_view_module_version": "1.2.0",
            "grid_template_areas": null,
            "object_position": null,
            "object_fit": null,
            "grid_auto_columns": null,
            "margin": null,
            "display": null,
            "left": null
          }
        }
      }
    }
  },
  "cells": [
    {
      "cell_type": "markdown",
      "metadata": {
        "id": "view-in-github",
        "colab_type": "text"
      },
      "source": [
        "<a href=\"https://colab.research.google.com/github/NeuromatchAcademy/course-content-dl/blob/w3d4_fixes/tutorials/W3D4_ContinualLearning/W3D4_Tutorial1.ipynb\" target=\"_parent\"><img src=\"https://colab.research.google.com/assets/colab-badge.svg\" alt=\"Open In Colab\"/></a>"
      ]
    },
    {
      "cell_type": "markdown",
      "metadata": {
        "execution": {},
        "id": "MVTYJ4H9bH2D"
      },
      "source": [
        "# Tutorial 1: Introduction to Continual Learning\n",
        "\n",
        "**Week 3, Day 4: Continual Learning**\n",
        "\n",
        "**By Neuromatch Academy**\n",
        "\n",
        "__Content creators:__ Keiland Cooper, Diganta Misra, Gido van de Ven, Andrea Cossu, Vincenzo Lomonaco\n",
        "\n",
        "__Content reviewers:__ Arush Tagade, Jeremy Forest, Siwei Bai, Kelson Shilling-Scrivo\n",
        "\n",
        "__Content editors:__ Anoop Kulkarni, Spiros Chavlis\n",
        "\n",
        "__Production editors:__ Deepak Raya, Spiros Chavlis"
      ]
    },
    {
      "cell_type": "markdown",
      "metadata": {
        "execution": {},
        "id": "Mow4Lh0vbH2G"
      },
      "source": [
        "**Our 2021 Sponsors, including Presenting Sponsor Facebook Reality Labs**\n",
        "\n",
        "<p align='center'><img src='https://github.com/NeuromatchAcademy/widgets/blob/master/sponsors.png?raw=True'/></p>"
      ]
    },
    {
      "cell_type": "markdown",
      "metadata": {
        "execution": {},
        "id": "w7jXeFSSbH2H"
      },
      "source": [
        "---\n",
        "# Tutorial Objectives\n",
        "\n",
        "In this tutorial we'll dive head-first into the exciting field of continual learning (CL). CL has gained increasing attention in recent years, and for good reason. CL is positioned as a problem across sub-disciplines, from academia to industry, and may promise to be a major pathway towards strong artificial intelligence (AI). As datasets get bigger and AI gets smarter, we're expecting more and more cognitive capabilities from our machines. \n",
        "\n",
        "We have a few specific objectives for this tutorial:\n",
        "*   Introduce major CL concepts\n",
        "*   Introduce the most common strategies to aid CL\n",
        "*   Utilize benchmarks and evaluation metrics \n",
        "*   Explore present day applications of CL "
      ]
    },
    {
      "cell_type": "code",
      "metadata": {
        "cellView": "form",
        "execution": {},
        "colab": {
          "base_uri": "https://localhost:8080/",
          "height": 501
        },
        "id": "VG9XJYoGbH2I",
        "outputId": "d4017ee8-9d7f-4776-b15e-3053ed2f5af4"
      },
      "source": [
        "# @title Tutorial slides\n",
        "\n",
        "# @markdown These are the slides for the videos in this tutorial\n",
        "\n",
        "# @markdown If you want to locally download the slides, click [here](https://osf.io/ejywm/download)\n",
        "from IPython.display import IFrame\n",
        "IFrame(src=f\"https://mfr.ca-1.osf.io/render?url=https://osf.io/ejywm/?direct%26mode=render%26action=download%26mode=render\", width=854, height=480)"
      ],
      "execution_count": 1,
      "outputs": [
        {
          "output_type": "execute_result",
          "data": {
            "text/html": [
              "\n",
              "        <iframe\n",
              "            width=\"854\"\n",
              "            height=\"480\"\n",
              "            src=\"https://mfr.ca-1.osf.io/render?url=https://osf.io/ejywm/?direct%26mode=render%26action=download%26mode=render\"\n",
              "            frameborder=\"0\"\n",
              "            allowfullscreen\n",
              "        ></iframe>\n",
              "        "
            ],
            "text/plain": [
              "<IPython.lib.display.IFrame at 0x7f3bdc367810>"
            ]
          },
          "metadata": {},
          "execution_count": 1
        }
      ]
    },
    {
      "cell_type": "markdown",
      "metadata": {
        "execution": {},
        "id": "Hi-pnSbRbH2J"
      },
      "source": [
        "---\n",
        "# Setup"
      ]
    },
    {
      "cell_type": "markdown",
      "metadata": {
        "execution": {},
        "id": "ucjnhK9HbH2K"
      },
      "source": [
        "First, let's load in some useful packages and functions. We'll primarily be using PyTorch as our neural network framework of choice. Be sure to run all the cells below so the code runs properly. "
      ]
    },
    {
      "cell_type": "code",
      "metadata": {
        "cellView": "form",
        "execution": {},
        "id": "gl6nOD2dbH2K",
        "colab": {
          "base_uri": "https://localhost:8080/"
        },
        "outputId": "6005ac8c-0ef2-498b-a51a-22915aeb93fd"
      },
      "source": [
        "# @title Install dependencies\n",
        "!pip install seaborn --quiet\n",
        "\n",
        "!pip install git+https://github.com/NeuromatchAcademy/evaltools --quiet\n",
        "from evaltools.airtable import AirtableForm\n",
        "\n",
        "# generate airtable form\n",
        "atform = AirtableForm('appn7VdPRseSoMXEG','W3D4_T1','https://portal.neuromatchacademy.org/api/redirect/to/9c55f6cb-cdf9-4429-ac1c-ec44fe64c303')"
      ],
      "execution_count": 2,
      "outputs": [
        {
          "output_type": "stream",
          "text": [
            "  Building wheel for evaltools (setup.py) ... \u001b[?25l\u001b[?25hdone\n"
          ],
          "name": "stdout"
        }
      ]
    },
    {
      "cell_type": "code",
      "metadata": {
        "cellView": "both",
        "execution": {},
        "id": "6lN730--bH2L"
      },
      "source": [
        "# Imports\n",
        "import numpy as np\n",
        "from scipy.stats import norm\n",
        "import matplotlib.pyplot as plt\n",
        "import math\n",
        "\n",
        "import torch\n",
        "import torch.nn as nn\n",
        "import torch.optim as optim\n",
        "import torch.nn.functional as F\n",
        "\n",
        "import torchvision.datasets as datasets\n",
        "import torchvision.transforms as transforms"
      ],
      "execution_count": 82,
      "outputs": []
    },
    {
      "cell_type": "code",
      "metadata": {
        "cellView": "form",
        "execution": {},
        "id": "nrj0Vt6TbH2M"
      },
      "source": [
        "# @title Figure settings\n",
        "import ipywidgets as widgets       # interactive display\n",
        "%config InlineBackend.figure_format = 'retina'\n",
        "plt.style.use(\"https://raw.githubusercontent.com/NeuromatchAcademy/content-creation/main/nma.mplstyle\")"
      ],
      "execution_count": 4,
      "outputs": []
    },
    {
      "cell_type": "code",
      "metadata": {
        "cellView": "form",
        "execution": {},
        "id": "UuS6eiF5bH2O"
      },
      "source": [
        "# @title Plotting functions\n",
        "\n",
        "def plot_mnist(data, nPlots=10):\n",
        "  \"\"\" Plot MNIST-like data \"\"\"\n",
        "  plt.figure(figsize=(12, 8))\n",
        "  for ii in range(nPlots):\n",
        "    plt.subplot(1, nPlots, ii + 1)\n",
        "    plt.imshow(data[ii, 0], cmap=\"gray\")\n",
        "    plt.axis('off')\n",
        "  plt.tight_layout\n",
        "  plt.show()\n",
        "\n",
        "\n",
        "def multi_task_barplot(accs, tasks, t=None):\n",
        "  ''' Plot n task accuracy\n",
        "      used for S1 intro to CF code '''\n",
        "  nTasks = len(accs)\n",
        "  plt.bar(range(nTasks), accs, color='k')\n",
        "  plt.ylabel('Testing Accuracy (%)', size=18)\n",
        "  plt.xticks(range(nTasks),\n",
        "            [f\"{TN}\\nTask {ii + 1}\" for ii, TN in enumerate(tasks.keys())],\n",
        "            size=18)\n",
        "  plt.title(t)\n",
        "  plt.show()\n",
        "\n",
        "\n",
        "def plot_task(data, samples_num):\n",
        "  plt.plot(figsize=(12, 6))\n",
        "  for ii in range(samples_num):\n",
        "    plt.subplot(1, samples_num, ii + 1)\n",
        "    plt.imshow(data[ii][0], cmap=\"gray\")\n",
        "    plt.axis('off')\n",
        "  plt.show()"
      ],
      "execution_count": 5,
      "outputs": []
    },
    {
      "cell_type": "code",
      "metadata": {
        "cellView": "form",
        "execution": {},
        "id": "Gnr25Py2bH2P"
      },
      "source": [
        "# @title Helper functions\n",
        "\n",
        "def load_mnist(mnist_train, mnist_test, verbose=False, asnumpy=True):\n",
        "  '''\n",
        "  Helper function to maintain compatability with\n",
        "  previous MNIST dataloaders in CLAI COLAB\n",
        "\n",
        "  Much of this can likely now be fixed with the toTensor call on inport\n",
        "  Or by using proper PyTorch functions... lol\n",
        "\n",
        "  - KWC\n",
        "  '''\n",
        "\n",
        "  x_traint, t_traint = mnist_train.data, mnist_train.targets\n",
        "  x_testt, t_testt = mnist_test.data, mnist_test.targets\n",
        "\n",
        "  if asnumpy:\n",
        "    # Fix dimensions and convert back to np array for code compatability\n",
        "    # We aren't using torch dataloaders for ease of use\n",
        "    x_traint = torch.unsqueeze(x_traint, 1)\n",
        "    x_testt = torch.unsqueeze(x_testt, 1)\n",
        "    x_train, x_test = x_traint.numpy().copy(), x_testt.numpy()\n",
        "    t_train, t_test = t_traint.numpy().copy(), t_testt.numpy()\n",
        "  else:\n",
        "    x_train, t_train = x_traint, t_traint\n",
        "    x_test, t_test = x_testt, t_testt\n",
        "\n",
        "  if verbose:\n",
        "    print(f\"x_train dim: {x_train.shape} and type: {x_train.dtype}\")\n",
        "    print(f\"t_train dim: {t_train.shape} and type: {t_train.dtype}\")\n",
        "    print(f\"x_train dim: {x_test.shape} and type: {x_test.dtype}\")\n",
        "    print(f\"t_train dim: {t_test.shape} and type: {t_test.dtype}\")\n",
        "\n",
        "  return x_train, t_train, x_test, t_test\n",
        "\n",
        "\n",
        "def permute_mnist(mnist, seed, verbose=False):\n",
        "    \"\"\" Given the training set, permute pixels of each img the same way. \"\"\"\n",
        "\n",
        "    np.random.seed(seed)\n",
        "    if verbose: print(\"starting permutation...\")\n",
        "    h = w = 28\n",
        "    perm_inds = list(range(h*w))\n",
        "    np.random.shuffle(perm_inds)\n",
        "    # print(perm_inds)\n",
        "    perm_mnist = []\n",
        "    for set in mnist:\n",
        "        num_img = set.shape[0]\n",
        "        flat_set = set.reshape(num_img, w * h)\n",
        "        perm_mnist.append(flat_set[:, perm_inds].reshape(num_img, 1, w, h))\n",
        "    if verbose: print(\"done.\")\n",
        "    return perm_mnist"
      ],
      "execution_count": 6,
      "outputs": []
    },
    {
      "cell_type": "code",
      "metadata": {
        "cellView": "form",
        "execution": {},
        "id": "Kfjy4gZWbH2Q"
      },
      "source": [
        "# @title Set random seed\n",
        "\n",
        "# @markdown Executing `set_seed(seed=seed)` you are setting the seed\n",
        "\n",
        "# for DL its critical to set the random seed so that students can have a\n",
        "# baseline to compare their results to expected results.\n",
        "# Read more here: https://pytorch.org/docs/stable/notes/randomness.html\n",
        "\n",
        "# Call `set_seed` function in the exercises to ensure reproducibility.\n",
        "import random\n",
        "import torch\n",
        "\n",
        "def set_seed(seed=None, seed_torch=True):\n",
        "  if seed is None:\n",
        "    seed = np.random.choice(2 ** 32)\n",
        "  random.seed(seed)\n",
        "  np.random.seed(seed)\n",
        "  if seed_torch:\n",
        "    torch.manual_seed(seed)\n",
        "    torch.cuda.manual_seed_all(seed)\n",
        "    torch.cuda.manual_seed(seed)\n",
        "    torch.backends.cudnn.benchmark = False\n",
        "    torch.backends.cudnn.deterministic = True\n",
        "\n",
        "  print(f'Random seed {seed} has been set.')\n",
        "\n",
        "\n",
        "# In case that `DataLoader` is used\n",
        "def seed_worker(worker_id):\n",
        "  worker_seed = torch.initial_seed() % 2**32\n",
        "  np.random.seed(worker_seed)\n",
        "  random.seed(worker_seed)"
      ],
      "execution_count": 7,
      "outputs": []
    },
    {
      "cell_type": "code",
      "metadata": {
        "cellView": "form",
        "execution": {},
        "id": "pVgOQMxmbH2Q"
      },
      "source": [
        "# @title Set device (GPU or CPU). Execute `set_device()`\n",
        "# especially if torch modules used.\n",
        "\n",
        "# inform the user if the notebook uses GPU or CPU.\n",
        "\n",
        "def set_device():\n",
        "  device = \"cuda\" if torch.cuda.is_available() else \"cpu\"\n",
        "  if device != \"cuda\":\n",
        "    print(\"GPU is not enabled in this notebook. \\n\"\n",
        "          \"If you want to enable it, in the menu under `Runtime` -> \\n\"\n",
        "          \"`Hardware accelerator.` and select `GPU` from the dropdown menu\")\n",
        "  else:\n",
        "    print(\"GPU is enabled in this notebook. \\n\"\n",
        "          \"If you want to disable it, in the menu under `Runtime` -> \\n\"\n",
        "          \"`Hardware accelerator.` and select `None` from the dropdown menu\")\n",
        "\n",
        "  return device"
      ],
      "execution_count": 8,
      "outputs": []
    },
    {
      "cell_type": "code",
      "metadata": {
        "execution": {},
        "colab": {
          "base_uri": "https://localhost:8080/"
        },
        "id": "MdHQ4PyEbH2R",
        "outputId": "368a1701-41da-40e0-a93c-173ca1f6750f"
      },
      "source": [
        "SEED = 2021\n",
        "set_seed(seed=SEED)\n",
        "DEVICE = set_device()"
      ],
      "execution_count": 9,
      "outputs": [
        {
          "output_type": "stream",
          "text": [
            "Random seed 2021 has been set.\n",
            "GPU is not enabled in this notebook. \n",
            "If you want to enable it, in the menu under `Runtime` -> \n",
            "`Hardware accelerator.` and select `GPU` from the dropdown menu\n"
          ],
          "name": "stdout"
        }
      ]
    },
    {
      "cell_type": "code",
      "metadata": {
        "cellView": "form",
        "execution": {},
        "colab": {
          "base_uri": "https://localhost:8080/"
        },
        "id": "zI7Rm53cbH2R",
        "outputId": "efc76604-8375-46da-f9d5-c09f7dd98cb6"
      },
      "source": [
        "# @title Data-loader MNIST dataset\n",
        "import tarfile, requests, os\n",
        "from torchvision import transforms\n",
        "from torchvision.datasets import MNIST\n",
        "\n",
        "name = 'MNIST'\n",
        "fname = name + '.tar.gz'\n",
        "url = 'https://www.di.ens.fr/~lelarge/MNIST.tar.gz'\n",
        "\n",
        "if not os.path.exists(name):\n",
        "  print('\\nDownloading and unpacking MNIST data. Please wait a moment...')\n",
        "  r = requests.get(url, allow_redirects=True)\n",
        "  with open(fname, 'wb') as fh:\n",
        "    fh.write(r.content)\n",
        "  with tarfile.open(fname) as tar:\n",
        "    tar.extractall('./')  # specify which folder to extract to\n",
        "  os.remove(fname)\n",
        "  print('\\nDownloading MNIST completed.')\n",
        "else:\n",
        "  print('MNIST has been already downloaded.')\n",
        "\n",
        "\n",
        "# Load the Data\n",
        "mnist_train = MNIST('./', download=False,\n",
        "                    transform=transforms.Compose([transforms.ToTensor(), ]),\n",
        "                    train=True)\n",
        "mnist_test = MNIST('./', download=False,\n",
        "                    transform=transforms.Compose([transforms.ToTensor(), ]),\n",
        "                   train=False)"
      ],
      "execution_count": 10,
      "outputs": [
        {
          "output_type": "stream",
          "text": [
            "\n",
            "Downloading and unpacking MNIST data. Please wait a moment...\n",
            "\n",
            "Downloading MNIST completed.\n"
          ],
          "name": "stdout"
        }
      ]
    },
    {
      "cell_type": "markdown",
      "metadata": {
        "execution": {},
        "id": "OKIxMGchbH2R"
      },
      "source": [
        "---\n",
        "# Section 0: Overview"
      ]
    },
    {
      "cell_type": "code",
      "metadata": {
        "cellView": "form",
        "execution": {},
        "colab": {
          "base_uri": "https://localhost:8080/",
          "height": 581,
          "referenced_widgets": [
            "183082dc45474012b913c25399905ad8",
            "29e8749ca305479889cd562242df3231",
            "bdb6c3a5f2974befae1765170e76c1e9",
            "54340c6b20f84230bd05c37147070154",
            "e9ed27acc4b248deb50baaeec4a37702",
            "a0fc92e66525415fb42c9b70beef2763"
          ]
        },
        "id": "yisCpGJqbH2S",
        "outputId": "b35eb107-13d4-4c36-bee8-345ca8719c4d"
      },
      "source": [
        "# @title Video 0: Overview of the session and introduction to continual learning\n",
        "from ipywidgets import widgets\n",
        "\n",
        "out2 = widgets.Output()\n",
        "with out2:\n",
        "  from IPython.display import IFrame\n",
        "  class BiliVideo(IFrame):\n",
        "    def __init__(self, id, page=1, width=400, height=300, **kwargs):\n",
        "      self.id=id\n",
        "      src = \"https://player.bilibili.com/player.html?bvid={0}&page={1}\".format(id, page)\n",
        "      super(BiliVideo, self).__init__(src, width, height, **kwargs)\n",
        "\n",
        "  video = BiliVideo(id=f\"BV1LM4y1T7Wn\", width=854, height=480, fs=1)\n",
        "  print(\"Video available at https://www.bilibili.com/video/{0}\".format(video.id))\n",
        "  display(video)\n",
        "\n",
        "out1 = widgets.Output()\n",
        "with out1:\n",
        "  from IPython.display import YouTubeVideo\n",
        "  video = YouTubeVideo(id=f\"ARVxFIfw4JU\", width=854, height=480, fs=1, rel=0)\n",
        "  print(\"Video available at https://youtube.com/watch?v=\" + video.id)\n",
        "  display(video)\n",
        "\n",
        "out = widgets.Tab([out1, out2])\n",
        "out.set_title(0, 'Youtube')\n",
        "out.set_title(1, 'Bilibili')\n",
        "\n",
        "# add event to airtable\n",
        "atform.add_event('Video 0: Overview of the session and introduction to continual learning')\n",
        "\n",
        "display(out)"
      ],
      "execution_count": 11,
      "outputs": [
        {
          "output_type": "display_data",
          "data": {
            "application/vnd.jupyter.widget-view+json": {
              "model_id": "183082dc45474012b913c25399905ad8",
              "version_minor": 0,
              "version_major": 2
            },
            "text/plain": [
              "Tab(children=(Output(), Output()), _titles={'0': 'Youtube', '1': 'Bilibili'})"
            ]
          },
          "metadata": {}
        }
      ]
    },
    {
      "cell_type": "markdown",
      "metadata": {
        "execution": {},
        "id": "adSr06qubH2S"
      },
      "source": [
        "---\n",
        "# Section 1: The sequential learning problem: catastrophic forgetting\n",
        "\n",
        "*Time estimate: ~20mins*"
      ]
    },
    {
      "cell_type": "code",
      "metadata": {
        "cellView": "form",
        "execution": {},
        "colab": {
          "base_uri": "https://localhost:8080/",
          "height": 581,
          "referenced_widgets": [
            "ae44923c5a87402c82869c8a6d509dcc",
            "717feed21f134898b2256a0467a14c8d",
            "5744735d2a9d4006ac63f6462861aeb6",
            "99800612311b431a824602ab4c54b428",
            "4c9a4107214f4632973b85a5d60dc30d",
            "055548aea5be45509a90eec3bfec33b6"
          ]
        },
        "id": "2O0z4UJNbH2S",
        "outputId": "d15f3c6a-c19a-449f-c092-4b502f6703f8"
      },
      "source": [
        "# @title Video 1: Introduction to catastrophic forgetting\n",
        "from ipywidgets import widgets\n",
        "\n",
        "out2 = widgets.Output()\n",
        "with out2:\n",
        "  from IPython.display import IFrame\n",
        "  class BiliVideo(IFrame):\n",
        "    def __init__(self, id, page=1, width=400, height=300, **kwargs):\n",
        "      self.id=id\n",
        "      src = \"https://player.bilibili.com/player.html?bvid={0}&page={1}\".format(id, page)\n",
        "      super(BiliVideo, self).__init__(src, width, height, **kwargs)\n",
        "\n",
        "  video = BiliVideo(id=f\"BV1kg411M7wu\", width=854, height=480, fs=1)\n",
        "  print(\"Video available at https://www.bilibili.com/video/{0}\".format(video.id))\n",
        "  display(video)\n",
        "\n",
        "out1 = widgets.Output()\n",
        "with out1:\n",
        "  from IPython.display import YouTubeVideo\n",
        "  video = YouTubeVideo(id=f\"WIbgFxzaFP4\", width=854, height=480, fs=1, rel=0)\n",
        "  print(\"Video available at https://youtube.com/watch?v=\" + video.id)\n",
        "  display(video)\n",
        "\n",
        "out = widgets.Tab([out1, out2])\n",
        "out.set_title(0, 'Youtube')\n",
        "out.set_title(1, 'Bilibili')\n",
        "\n",
        "# add event to airtable\n",
        "atform.add_event('Video 1: Introduction to catastrophic forgetting')\n",
        "\n",
        "display(out)"
      ],
      "execution_count": 12,
      "outputs": [
        {
          "output_type": "display_data",
          "data": {
            "application/vnd.jupyter.widget-view+json": {
              "model_id": "ae44923c5a87402c82869c8a6d509dcc",
              "version_minor": 0,
              "version_major": 2
            },
            "text/plain": [
              "Tab(children=(Output(), Output()), _titles={'0': 'Youtube', '1': 'Bilibili'})"
            ]
          },
          "metadata": {}
        }
      ]
    },
    {
      "cell_type": "markdown",
      "metadata": {
        "execution": {},
        "id": "uHRuhAgwbH2S"
      },
      "source": [
        "Here we'll explore catastrophic forgetting first hand, a key barrier preventing continual learning in neural networks. To do so, we'll build a simple network model and try our best to teach it the trusty MNIST dataset"
      ]
    },
    {
      "cell_type": "markdown",
      "metadata": {
        "execution": {},
        "id": "sqwEOCZcbH2T"
      },
      "source": [
        "## Section 1.1: A brief example of catastrophic forgetting \n",
        "\n",
        "Let's define a simple CNN that can perform fairly well on MNIST. We'll also load in some training and testing functions we wrote to load the data into the model and train / test it. We don't need to get into the details how they work for now (pretty standard) but feel free to double click the cell if you're curious!"
      ]
    },
    {
      "cell_type": "code",
      "metadata": {
        "execution": {},
        "id": "w96Wv_3vbH2T"
      },
      "source": [
        "# Here we define a simple multilayer CNN. Nothing too fancy\n",
        "class Net(nn.Module):\n",
        "  def __init__(self):\n",
        "    super(Net, self).__init__()\n",
        "    self.conv1 = nn.Conv2d(1, 10, kernel_size=5)\n",
        "    self.conv2 = nn.Conv2d(10, 20, kernel_size=5)\n",
        "    self.conv2_drop = nn.Dropout2d()\n",
        "    self.fc1 = nn.Linear(320, 50)\n",
        "    self.fc2 = nn.Linear(50, 10)\n",
        "\n",
        "  def forward(self, x):\n",
        "    \"\"\" run the network forward\n",
        "    (uses the functional library (F) imported from pytorch)\"\"\"\n",
        "    x = F.relu(F.max_pool2d(self.conv1(x), 2))\n",
        "    x = F.relu(F.max_pool2d(self.conv2_drop(self.conv2(x)), 2))\n",
        "    x = x.view(-1, 320)\n",
        "    x = F.relu(self.fc1(x))\n",
        "    x = F.dropout(x, training=self.training)\n",
        "    x = self.fc2(x)\n",
        "    return x"
      ],
      "execution_count": 13,
      "outputs": []
    },
    {
      "cell_type": "code",
      "metadata": {
        "cellView": "form",
        "execution": {},
        "id": "-m_tHBepbH2T"
      },
      "source": [
        "# @title Model Training and Testing Functions [RUN ME!]\n",
        "\n",
        "# @markdown `train(model, x_train, t_train, optimizer, epoch, device)`\n",
        "def train(model, x_train, t_train, optimizer, epoch, device):\n",
        "  \"\"\"\n",
        "  Train fnction\n",
        "  \"\"\"\n",
        "  model.train()\n",
        "\n",
        "  for start in range(0, len(t_train)-1, 256):\n",
        "    end = start + 256\n",
        "    x = torch.from_numpy(x_train[start:end])\n",
        "    if torch.cuda.is_available():\n",
        "      x = x.type(torch.cuda.FloatTensor)\n",
        "    else:\n",
        "      x = x.type(torch.FloatTensor)\n",
        "    y = torch.from_numpy(t_train[start:end]).long()\n",
        "    x, y = x.to(device), y.to(device)\n",
        "\n",
        "    optimizer.zero_grad()\n",
        "\n",
        "    output = model(x)\n",
        "    loss = F.cross_entropy(output, y)\n",
        "    loss.backward()\n",
        "    optimizer.step()\n",
        "  print('Train Epoch: {} \\tLoss: {:.6f}'.format(epoch, loss.item()))\n",
        "\n",
        "\n",
        "# @markdown `test(model, x_test, t_test, device)`\n",
        "def test(model, x_test, t_test, device):\n",
        "    \"\"\"\n",
        "    Test function.\n",
        "    \"\"\"\n",
        "    model.eval()\n",
        "    correct, test_loss = 0, 0\n",
        "    for start in range(0, len(t_test)-1, 256):\n",
        "      end = start + 256\n",
        "      with torch.no_grad():\n",
        "        x = torch.from_numpy(x_test[start:end])\n",
        "        if torch.cuda.is_available():\n",
        "          x = x.type(torch.cuda.FloatTensor)\n",
        "        else:\n",
        "          x = x.type(torch.FloatTensor)\n",
        "        y = torch.from_numpy(t_test[start:end]).long()\n",
        "        x, y = x.to(device), y.to(device)\n",
        "        output = model(x)\n",
        "        test_loss += F.cross_entropy(output, y).item()  # sum up batch loss\n",
        "        pred = output.max(1, keepdim=True)[1]  # get the index of the max logit\n",
        "        correct += pred.eq(y.view_as(pred)).sum().item()\n",
        "\n",
        "    test_loss /= len(t_train)\n",
        "    print('Test set: Average loss: {:.4f}, Accuracy: {}/{} ({:.0f}%)\\n'.format(\n",
        "        test_loss, correct, len(t_test),\n",
        "        100. * correct / len(t_test)))\n",
        "    return 100. * correct / len(t_test)"
      ],
      "execution_count": 14,
      "outputs": []
    },
    {
      "cell_type": "code",
      "metadata": {
        "execution": {},
        "id": "Elkq9gNobH2U"
      },
      "source": [
        "class simpNet(nn.Module):\n",
        "  def __init__(self):\n",
        "    super(simpNet,self).__init__()\n",
        "    self.linear1 = nn.Linear(28*28, 320)\n",
        "    self.out = nn.Linear(320, 10)\n",
        "    self.relu = nn.ReLU()\n",
        "\n",
        "  def forward(self, img):\n",
        "    x = img.view(-1, 28*28)\n",
        "    x = self.relu(self.linear1(x))\n",
        "    x = self.out(x)\n",
        "    return x"
      ],
      "execution_count": 15,
      "outputs": []
    },
    {
      "cell_type": "markdown",
      "metadata": {
        "execution": {},
        "id": "gZRsuimKbH2U"
      },
      "source": [
        "Now let's load in our dataset, MNIST. We'll also run a function we defined in the helper function cell above that permutes (scrambles) the images. This allows us to create additional datasets with similar statistics to MNIST on the fly. We'll call the normal MNIST Task 1, and the permuted MNIST Task 2. We'll see why in a second!"
      ]
    },
    {
      "cell_type": "code",
      "metadata": {
        "execution": {},
        "colab": {
          "base_uri": "https://localhost:8080/",
          "height": 320
        },
        "id": "0mVkho1RbH2V",
        "outputId": "828f5d7a-771b-4fdd-d3c6-e28ea467e394"
      },
      "source": [
        "# Load in MNIST and create an additional permuted dataset\n",
        "x_train, t_train, x_test, t_test = load_mnist(mnist_train, mnist_test,\n",
        "                                              verbose=True)\n",
        "x_train2, x_test2 = permute_mnist([x_train, x_test], 0, verbose=False)\n",
        "\n",
        "# Plot the data to see what we're working with\n",
        "print('\\nTask 1: MNIST Training data:')\n",
        "plot_mnist(x_train, nPlots=10)\n",
        "print('\\nTask 2: Permuted MNIST data:')\n",
        "plot_mnist(x_train2, nPlots=10)"
      ],
      "execution_count": 16,
      "outputs": [
        {
          "output_type": "stream",
          "text": [
            "x_train dim: (60000, 1, 28, 28) and type: uint8\n",
            "t_train dim: (60000,) and type: int64\n",
            "x_train dim: (10000, 1, 28, 28) and type: uint8\n",
            "t_train dim: (10000,) and type: int64\n",
            "\n",
            "Task 1: MNIST Training data:\n"
          ],
          "name": "stdout"
        },
        {
          "output_type": "display_data",
          "data": {
            "image/png": "[encoded data removed]",
            "text/plain": [
              "<Figure size 864x576 with 10 Axes>"
            ]
          },
          "metadata": {
            "image/png": {
              "width": 846,
              "height": 82
            },
            "needs_background": "light"
          }
        },
        {
          "output_type": "stream",
          "text": [
            "\n",
            "Task 2: Permuted MNIST data:\n"
          ],
          "name": "stdout"
        },
        {
          "output_type": "display_data",
          "data": {
            "image/png": "[encoded data removed]",
            "text/plain": [
              "<Figure size 864x576 with 10 Axes>"
            ]
          },
          "metadata": {
            "image/png": {
              "width": 846,
              "height": 82
            },
            "needs_background": "light"
          }
        }
      ]
    },
    {
      "cell_type": "markdown",
      "metadata": {
        "execution": {},
        "id": "n68RQN3FbH2V"
      },
      "source": [
        "Great! We have our data. This commonly  used task is typically called the \"permuted MNIST [task](https://arxiv.org/pdf/1312.6211.pdf)\", given the shuffling of the data. The permutations are the same across all images in the same task (all the permuted image in that task follow are permuted in the same way). This is useful as it allows you to create almost as many tasks as you would like out of the same dataset. While it may [not be the best benchmark for CL](https://arxiv.org/pdf/1805.09733.pdf), it is commonly used, and will serve our purposes well enough for illustration. \n",
        "\n",
        "Now, let's initialize and train our model on the standard MNIST dataset (Task 1) and make sure everything is working properly. "
      ]
    },
    {
      "cell_type": "code",
      "metadata": {
        "execution": {},
        "colab": {
          "base_uri": "https://localhost:8080/"
        },
        "id": "g0_ksVambH2X",
        "outputId": "ae3809b4-2861-468d-9c5b-0ee91aae9726"
      },
      "source": [
        "# Define a new model and set params\n",
        "model = Net().to(DEVICE)\n",
        "optimizer = optim.SGD(model.parameters(), lr=0.01, momentum=0.9)\n",
        "\n",
        "# Train the model on MNIST\n",
        "nEpochs = 3\n",
        "print(f\"Training model on {nEpochs} epochs...\")\n",
        "for epoch in range(1, nEpochs+1):\n",
        "  train(model, x_train, t_train, optimizer, epoch, device=DEVICE)\n",
        "  test(model, x_test, t_test, device=DEVICE)"
      ],
      "execution_count": 17,
      "outputs": [
        {
          "output_type": "stream",
          "text": [
            "Training model on 3 epochs...\n"
          ],
          "name": "stdout"
        },
        {
          "output_type": "stream",
          "text": [
            "/usr/local/lib/python3.7/dist-packages/torch/nn/functional.py:718: UserWarning: Named tensors and all their associated APIs are an experimental feature and subject to change. Please do not use them for anything important until they are released as stable. (Triggered internally at  /pytorch/c10/core/TensorImpl.h:1156.)\n",
            "  return torch.max_pool2d(input, kernel_size, stride, padding, dilation, ceil_mode)\n"
          ],
          "name": "stderr"
        },
        {
          "output_type": "stream",
          "text": [
            "Train Epoch: 1 \tLoss: 0.890918\n",
            "Test set: Average loss: 0.0003, Accuracy: 8415/10000 (84%)\n",
            "\n",
            "Train Epoch: 2 \tLoss: 0.664796\n",
            "Test set: Average loss: 0.0002, Accuracy: 9260/10000 (93%)\n",
            "\n",
            "Train Epoch: 3 \tLoss: 0.972822\n",
            "Test set: Average loss: 0.0002, Accuracy: 9245/10000 (92%)\n",
            "\n"
          ],
          "name": "stdout"
        }
      ]
    },
    {
      "cell_type": "markdown",
      "metadata": {
        "execution": {},
        "id": "sbe0FyJHbH2X"
      },
      "source": [
        "Okay great! It seems we get decent accuracy on standard MNIST which means the model is learning our dataset. Now, a reasonable assumption is that, like humans, once the network learns something, it can aggregate its knowledge and learn something else. \n",
        "\n",
        "First, let's get a baseline for how the model performs on the dataset it was just trained on (Task 1) as well as to see how well it performs on a new dataset (Task 2). "
      ]
    },
    {
      "cell_type": "code",
      "metadata": {
        "execution": {},
        "colab": {
          "base_uri": "https://localhost:8080/",
          "height": 534
        },
        "id": "uTBnaerMbH2Y",
        "outputId": "a5cc4f7b-da3e-4f29-80f0-5d93441f2593"
      },
      "source": [
        "# test the model's accuracy on both the regular and permuted dataset\n",
        "\n",
        "# Let's define a dictionary that holds each of the task\n",
        "# datasets and labels\n",
        "tasks = {'MNIST':(x_test, t_test),\n",
        "         'Perm MNIST':(x_test2, t_test)}\n",
        "t1_accs = []\n",
        "for ti, task in enumerate(tasks.keys()):\n",
        "  print(f\"Testing on task {ti + 1}\")\n",
        "  t1_accs.append(test(model, tasks[task][0], tasks[task][1], device=DEVICE))\n",
        "\n",
        "# And then let's plot the testing accuracy on both datasets\n",
        "multi_task_barplot(t1_accs, tasks, t='Accuracy after training on Task 1 \\nbut before Training on Task 2')"
      ],
      "execution_count": 18,
      "outputs": [
        {
          "output_type": "stream",
          "text": [
            "Testing on task 1\n",
            "Test set: Average loss: 0.0002, Accuracy: 9245/10000 (92%)\n",
            "\n",
            "Testing on task 2\n",
            "Test set: Average loss: 0.0018, Accuracy: 998/10000 (10%)\n",
            "\n"
          ],
          "name": "stdout"
        },
        {
          "output_type": "display_data",
          "data": {
            "image/png": "[encoded data removed]",
            "text/plain": [
              "<Figure size 576x432 with 1 Axes>"
            ]
          },
          "metadata": {
            "image/png": {
              "width": 558,
              "height": 413
            },
            "needs_background": "light"
          }
        }
      ]
    },
    {
      "cell_type": "markdown",
      "metadata": {
        "execution": {},
        "id": "CZ2CnFPLbH2Y"
      },
      "source": [
        "As we saw before, the model does great on the Task 1 dataset it was trained on, but not so well on the new one. No worries! We haven't taught it the permuted MNIST dataset yet! So let's train the *same* task 1-trained-model on the new data, and see if we can get comparable performance between the two types of MNIST"
      ]
    },
    {
      "cell_type": "code",
      "metadata": {
        "execution": {},
        "colab": {
          "base_uri": "https://localhost:8080/",
          "height": 638
        },
        "id": "HQN_jF2-bH2Y",
        "outputId": "758ee656-f977-47ae-f36c-3fe2a6ea6b25"
      },
      "source": [
        "# Train the previously trained model on Task 2, the permuted MNIST dataset\n",
        "for epoch in range(1, 3):\n",
        "  train(model, x_train2, t_train, optimizer, epoch, device=DEVICE)\n",
        "  test(model, x_test2, t_test, device=DEVICE)\n",
        "\n",
        "# Same data as before, stored in a dict\n",
        "tasks = {'MNIST':(x_test, t_test),\n",
        "         'Perm MNIST':(x_test2, t_test)}\n",
        "# Test the model on both datasets, same as before\n",
        "t12_accs = []\n",
        "for ti, task in enumerate(tasks.keys()):\n",
        "  print(f\"Testing on task {ti + 1}\")\n",
        "  t12_accs.append(test(model, tasks[task][0], tasks[task][1], device=DEVICE))\n",
        "\n",
        "# And then let's plot each of the testing accuracies after the new training\n",
        "multi_task_barplot(t12_accs, tasks, t='Accuracy after training on Task 1 and then Training on Task 2')"
      ],
      "execution_count": 19,
      "outputs": [
        {
          "output_type": "stream",
          "text": [
            "Train Epoch: 1 \tLoss: 1.890164\n",
            "Test set: Average loss: 0.0008, Accuracy: 5668/10000 (57%)\n",
            "\n",
            "Train Epoch: 2 \tLoss: 1.717749\n",
            "Test set: Average loss: 0.0006, Accuracy: 7169/10000 (72%)\n",
            "\n",
            "Testing on task 1\n",
            "Test set: Average loss: 0.0022, Accuracy: 574/10000 (6%)\n",
            "\n",
            "Testing on task 2\n",
            "Test set: Average loss: 0.0006, Accuracy: 7169/10000 (72%)\n",
            "\n"
          ],
          "name": "stdout"
        },
        {
          "output_type": "display_data",
          "data": {
            "image/png": "[encoded data removed]",
            "text/plain": [
              "<Figure size 576x432 with 1 Axes>"
            ]
          },
          "metadata": {
            "image/png": {
              "width": 563,
              "height": 413
            },
            "needs_background": "light"
          }
        }
      ]
    },
    {
      "cell_type": "markdown",
      "metadata": {
        "execution": {},
        "id": "uPgRHDzabH2Z"
      },
      "source": [
        "Hey! Training did the trick, task 2 (permuted MNIST) has great accuracy now that we trained the model on it. But something is wrong. We just saw that Task 1 (standard MNIST) had high accuracy before we trained on the new task. What gives? Try to incorporate what you learned in the lecture to help explain the problem we're seeing. You might also take a few seconds and think of what possible soultions you might like to try. In the next section, we'll look into exactly that!"
      ]
    },
    {
      "cell_type": "markdown",
      "metadata": {
        "execution": {},
        "id": "i46ailRgbH2Z"
      },
      "source": [
        "---\n",
        "# Section 2: Continual Learning strategies\n",
        "\n",
        "*Time estimate: ~25mins*"
      ]
    },
    {
      "cell_type": "code",
      "metadata": {
        "cellView": "form",
        "execution": {},
        "colab": {
          "base_uri": "https://localhost:8080/",
          "height": 581,
          "referenced_widgets": [
            "b732d4d40d254787ada53146dbf41dfb",
            "243c4788f37040cda5a9e4ffd01e4a00",
            "6b7d7746616b486a9d9634993d009eab",
            "b225012ccdf24460ab6ee47fe5376fd0",
            "cc4fb21150724410a9df961b3283a55a",
            "275cce8774fc49549602a0e8b18e36b6"
          ]
        },
        "id": "-ZHqGAzWbH2Z",
        "outputId": "e769a17a-a42c-48f9-f6da-020048805281"
      },
      "source": [
        "# @title Video 2: CL strategies\n",
        "from ipywidgets import widgets\n",
        "\n",
        "out2 = widgets.Output()\n",
        "with out2:\n",
        "  from IPython.display import IFrame\n",
        "  class BiliVideo(IFrame):\n",
        "    def __init__(self, id, page=1, width=400, height=300, **kwargs):\n",
        "      self.id=id\n",
        "      src = \"https://player.bilibili.com/player.html?bvid={0}&page={1}\".format(id, page)\n",
        "      super(BiliVideo, self).__init__(src, width, height, **kwargs)\n",
        "\n",
        "  video = BiliVideo(id=f\"BV1RP4y14792\", width=854, height=480, fs=1)\n",
        "  print(\"Video available at https://www.bilibili.com/video/{0}\".format(video.id))\n",
        "  display(video)\n",
        "\n",
        "out1 = widgets.Output()\n",
        "with out1:\n",
        "  from IPython.display import YouTubeVideo\n",
        "  video = YouTubeVideo(id=f\"q3aZGXIYYfw\", width=854, height=480, fs=1, rel=0)\n",
        "  print(\"Video available at https://youtube.com/watch?v=\" + video.id)\n",
        "  display(video)\n",
        "\n",
        "out = widgets.Tab([out1, out2])\n",
        "out.set_title(0, 'Youtube')\n",
        "out.set_title(1, 'Bilibili')\n",
        "\n",
        "# add event to airtable\n",
        "atform.add_event('Video 2: CL strategies')\n",
        "\n",
        "display(out)"
      ],
      "execution_count": 20,
      "outputs": [
        {
          "output_type": "display_data",
          "data": {
            "application/vnd.jupyter.widget-view+json": {
              "model_id": "b732d4d40d254787ada53146dbf41dfb",
              "version_minor": 0,
              "version_major": 2
            },
            "text/plain": [
              "Tab(children=(Output(), Output()), _titles={'0': 'Youtube', '1': 'Bilibili'})"
            ]
          },
          "metadata": {}
        }
      ]
    },
    {
      "cell_type": "markdown",
      "metadata": {
        "execution": {},
        "id": "aYIsfkVWbH2a"
      },
      "source": [
        "## Split MNIST"
      ]
    },
    {
      "cell_type": "markdown",
      "metadata": {
        "execution": {},
        "id": "U_X_S7ulbH2a"
      },
      "source": [
        "For this section we will again use the MNIST dataset, but we will now create 5 tasks by splitting the dataset up in such a way that each task contains 2 classes. This problem is called Split MNIST, and it is popular toy problem in the continual learning literature"
      ]
    },
    {
      "cell_type": "code",
      "metadata": {
        "execution": {},
        "colab": {
          "base_uri": "https://localhost:8080/",
          "height": 671
        },
        "id": "M2p7IqcCbH2a",
        "outputId": "789a1e7d-0129-44f5-e69e-cd03942789dc"
      },
      "source": [
        "set_seed(seed=SEED)\n",
        "# Specify which classes should be part of which task\n",
        "task_classes_arr = [(0, 1), (2, 3), (4, 5), (6, 7), (8, 9)]\n",
        "tasks_num = len(task_classes_arr)\n",
        "\n",
        "# Divide the data over the different tasks\n",
        "task_data_with_overlap = []\n",
        "for task_id, task_classes in enumerate(task_classes_arr):\n",
        "  train_mask = np.isin(t_train, task_classes)\n",
        "  test_mask = np.isin(t_test, task_classes)\n",
        "  x_train_task, t_train_task = x_train[train_mask], t_train[train_mask]\n",
        "  x_test_task, t_test_task = x_test[test_mask], t_test[test_mask]\n",
        "  # Convert the original class labels (i.e., the digits 0 to 9) to\n",
        "  # \"within-task labels\" so that within each task one of the digits is labelled\n",
        "  # as '0' and the other as '1'.\n",
        "  task_data_with_overlap.append((x_train_task, t_train_task - (task_id * 2),\n",
        "                                 x_test_task, t_test_task - (task_id * 2)))\n",
        "\n",
        "# Display tasks\n",
        "for sample in range(len(task_classes_arr)):\n",
        "  print(f\"Task: {sample + 1}\")\n",
        "  plot_task(task_data_with_overlap[sample][0], len(task_classes_arr))"
      ],
      "execution_count": 21,
      "outputs": [
        {
          "output_type": "stream",
          "text": [
            "Random seed 2021 has been set.\n",
            "Task: 1\n"
          ],
          "name": "stdout"
        },
        {
          "output_type": "display_data",
          "data": {
            "image/png": "[encoded data removed]",
            "text/plain": [
              "<Figure size 576x432 with 5 Axes>"
            ]
          },
          "metadata": {
            "image/png": {
              "width": 557,
              "height": 110
            },
            "needs_background": "light"
          }
        },
        {
          "output_type": "stream",
          "text": [
            "Task: 2\n"
          ],
          "name": "stdout"
        },
        {
          "output_type": "display_data",
          "data": {
            "image/png": "[encoded data removed]",
            "text/plain": [
              "<Figure size 576x432 with 5 Axes>"
            ]
          },
          "metadata": {
            "image/png": {
              "width": 557,
              "height": 110
            },
            "needs_background": "light"
          }
        },
        {
          "output_type": "stream",
          "text": [
            "Task: 3\n"
          ],
          "name": "stdout"
        },
        {
          "output_type": "display_data",
          "data": {
            "image/png": "[encoded data removed]",
            "text/plain": [
              "<Figure size 576x432 with 5 Axes>"
            ]
          },
          "metadata": {
            "image/png": {
              "width": 557,
              "height": 110
            },
            "needs_background": "light"
          }
        },
        {
          "output_type": "stream",
          "text": [
            "Task: 4\n"
          ],
          "name": "stdout"
        },
        {
          "output_type": "display_data",
          "data": {
            "image/png": "[encoded data removed]",
            "text/plain": [
              "<Figure size 576x432 with 5 Axes>"
            ]
          },
          "metadata": {
            "image/png": {
              "width": 557,
              "height": 110
            },
            "needs_background": "light"
          }
        },
        {
          "output_type": "stream",
          "text": [
            "Task: 5\n"
          ],
          "name": "stdout"
        },
        {
          "output_type": "display_data",
          "data": {
            "image/png": "[encoded data removed]",
            "text/plain": [
              "<Figure size 576x432 with 5 Axes>"
            ]
          },
          "metadata": {
            "image/png": {
              "width": 557,
              "height": 110
            },
            "needs_background": "light"
          }
        }
      ]
    },
    {
      "cell_type": "markdown",
      "metadata": {
        "execution": {},
        "id": "j4u612SnbH2a"
      },
      "source": [
        "## Naive strategy (\"fine-tuning\")\n",
        "First, let's see what happens if we simply sequentially train a deep neural network on these tasks in the standard way."
      ]
    },
    {
      "cell_type": "markdown",
      "metadata": {
        "execution": {},
        "id": "0qPF0bPMbH2a"
      },
      "source": [
        "Let's start by defining our network. As is common in the continual learning literature, we will use a \"multi-headed layout\". This means that we have a separate output layer for each task to be learned, but the hidden layers of the network are shared between all tasks."
      ]
    },
    {
      "cell_type": "code",
      "metadata": {
        "execution": {},
        "id": "wK7oU5ZwbH2b"
      },
      "source": [
        "## Base network that is shared between all tasks\n",
        "class FBaseNet(nn.Module):\n",
        "  def __init__(self, hsize=512):\n",
        "    super(FBaseNet, self).__init__()\n",
        "    self.l1 = nn.Linear(784, hsize)\n",
        "\n",
        "  def forward(self, x):\n",
        "    x = x.view(x.size(0), -1)\n",
        "    x = F.relu(self.l1(x))\n",
        "    return x\n",
        "\n",
        "## Output layer, which will be separate for each task\n",
        "class FHeadNet(nn.Module):\n",
        "  def __init__(self, base_net, input_size=512):\n",
        "    super(FHeadNet, self).__init__()\n",
        "\n",
        "    self.base_net = base_net\n",
        "    self.output_layer = nn.Linear(input_size, 2)\n",
        "\n",
        "  def forward(self, x):\n",
        "    x = self.base_net.forward(x)\n",
        "    x = self.output_layer(x)\n",
        "    return x"
      ],
      "execution_count": 22,
      "outputs": []
    },
    {
      "cell_type": "code",
      "metadata": {
        "execution": {},
        "colab": {
          "base_uri": "https://localhost:8080/"
        },
        "id": "cBq4La0nbH2b",
        "outputId": "1523f6eb-c449-4aa8-becd-c8631428700d"
      },
      "source": [
        "# Define the base network (a new head is defined when we encounter a new task)\n",
        "base = FBaseNet().to(DEVICE)\n",
        "heads = []\n",
        "\n",
        "# Define a list to store test accuracies for each task\n",
        "accs_naive = []\n",
        "\n",
        "# Set the number of epochs to train each task for\n",
        "epochs = 3\n",
        "\n",
        "# Loop through all tasks\n",
        "for task_id in range(tasks_num):\n",
        "  # Collect the training data for the new task\n",
        "  x_train, t_train, _, _ = task_data_with_overlap[task_id]\n",
        "\n",
        "  # Define a new head for this task\n",
        "  model = FHeadNet(base).to(DEVICE)\n",
        "  heads.append(model)\n",
        "\n",
        "  # Set the optimizer\n",
        "  optimizer = optim.SGD(heads[task_id].parameters(), lr=0.01)\n",
        "\n",
        "  # Train the model (with the new head) on the current task\n",
        "  train(heads[task_id], x_train, t_train, optimizer, epochs, device=DEVICE)\n",
        "\n",
        "  # Test the model on all tasks seen so far\n",
        "  accs_subset = []\n",
        "  for i in range(0, task_id + 1):\n",
        "    _, _, x_test, t_test = task_data_with_overlap[i]\n",
        "    test_acc = test(heads[i], x_test, t_test, device=DEVICE)\n",
        "    accs_subset.append(test_acc)\n",
        "  # For unseen tasks, we don't test\n",
        "  if task_id < (tasks_num - 1):\n",
        "    accs_subset.extend([np.nan] * (4 - task_id))\n",
        "  # Collect all test accuracies\n",
        "  accs_naive.append(accs_subset)"
      ],
      "execution_count": 23,
      "outputs": [
        {
          "output_type": "stream",
          "text": [
            "Train Epoch: 3 \tLoss: 0.000000\n",
            "Test set: Average loss: 0.0000, Accuracy: 2113/2115 (100%)\n",
            "\n",
            "Train Epoch: 3 \tLoss: 0.492668\n",
            "Test set: Average loss: 0.0032, Accuracy: 1862/2115 (88%)\n",
            "\n",
            "Test set: Average loss: 0.0003, Accuracy: 1762/2042 (86%)\n",
            "\n",
            "Train Epoch: 3 \tLoss: 0.068543\n",
            "Test set: Average loss: 0.0091, Accuracy: 1179/2115 (56%)\n",
            "\n",
            "Test set: Average loss: 0.0014, Accuracy: 1317/2042 (64%)\n",
            "\n",
            "Test set: Average loss: 0.0000, Accuracy: 1858/1874 (99%)\n",
            "\n",
            "Train Epoch: 3 \tLoss: 0.002141\n",
            "Test set: Average loss: 0.0043, Accuracy: 1329/2115 (63%)\n",
            "\n",
            "Test set: Average loss: 0.0008, Accuracy: 1323/2042 (65%)\n",
            "\n",
            "Test set: Average loss: 0.0004, Accuracy: 1260/1874 (67%)\n",
            "\n",
            "Test set: Average loss: 0.0000, Accuracy: 1974/1986 (99%)\n",
            "\n",
            "Train Epoch: 3 \tLoss: 8.139584\n",
            "Test set: Average loss: 0.0037, Accuracy: 1501/2115 (71%)\n",
            "\n",
            "Test set: Average loss: 0.0005, Accuracy: 1230/2042 (60%)\n",
            "\n",
            "Test set: Average loss: 0.0006, Accuracy: 1393/1874 (74%)\n",
            "\n",
            "Test set: Average loss: 0.0015, Accuracy: 1024/1986 (52%)\n",
            "\n",
            "Test set: Average loss: 0.0006, Accuracy: 1692/1983 (85%)\n",
            "\n"
          ],
          "name": "stdout"
        }
      ]
    },
    {
      "cell_type": "markdown",
      "metadata": {
        "execution": {},
        "id": "wNB9oC8tbH2c"
      },
      "source": [
        "As you can see, whenever this network is trained on a new task, its performance on previously learned tasks drops substantially.\n",
        "\n",
        "Now, let's see whether we can use a continual learning strategy to prevent such forgetting."
      ]
    },
    {
      "cell_type": "markdown",
      "metadata": {
        "execution": {},
        "id": "V7ltrBEJbH2c"
      },
      "source": [
        "## Elastic Weight Consolidation (EWC)\n",
        "\n",
        "EWC is a popular CL strategy which involves computing the importance of weights of the network relative to the task using the Fisher score and then penalizing the network for changes to the most important weights of the previous task. \n",
        "\n",
        "It was introduced in the paper \"[Overcoming catastrophic forgetting in neural networks\n",
        "](https://arxiv.org/abs/1612.00796)\". "
      ]
    },
    {
      "cell_type": "markdown",
      "metadata": {
        "execution": {},
        "id": "3IG_hdL4bH2d"
      },
      "source": [
        "For EWC, we need to define a new function to compute the fisher information matrix for each weight at the end of every task:"
      ]
    },
    {
      "cell_type": "code",
      "metadata": {
        "execution": {},
        "id": "Ioigd-WnbH2d"
      },
      "source": [
        "def on_task_update(task_id, x_train, t_train, model, shared_model, fisher_dict,\n",
        "                   optpar_dict, device):\n",
        "\n",
        "  model.train()\n",
        "  optimizer.zero_grad()\n",
        "\n",
        "  # accumulating gradients\n",
        "  for start in range(0, len(t_train) - 1, 256):\n",
        "    end = start + 256\n",
        "    x = torch.from_numpy(x_train[start:end])\n",
        "    if torch.cuda.is_available():\n",
        "      x = x.type(torch.cuda.FloatTensor)\n",
        "    else:\n",
        "      x = x.type(torch.FloatTensor)\n",
        "    y = torch.from_numpy(t_train[start:end]).long()\n",
        "    x, y = x.to(device), y.to(device)\n",
        "    output = model(x)\n",
        "    loss = F.cross_entropy(output, y)\n",
        "    loss.backward()\n",
        "\n",
        "  fisher_dict[task_id] = {}\n",
        "  optpar_dict[task_id] = {}\n",
        "\n",
        "  # gradients accumulated can be used to calculate fisher\n",
        "  for name, param in shared_model.named_parameters():\n",
        "    optpar_dict[task_id][name] = param.data.clone()\n",
        "    fisher_dict[task_id][name] = param.grad.data.clone().pow(2)"
      ],
      "execution_count": 24,
      "outputs": []
    },
    {
      "cell_type": "markdown",
      "metadata": {
        "execution": {},
        "id": "cb7wCI_hbH2e"
      },
      "source": [
        "We also need to modify our train function to add the new regularization loss:"
      ]
    },
    {
      "cell_type": "code",
      "metadata": {
        "execution": {},
        "id": "WWbauB-tbH2f"
      },
      "source": [
        "def train_ewc(model, shared_model, task_id, x_train, t_train, optimizer,\n",
        "              epoch, ewc_lambda, fisher_dict, optpar_dict, device):\n",
        "\n",
        "  model.train()\n",
        "  for start in range(0, len(t_train) - 1, 256):\n",
        "    end = start + 256\n",
        "    x = torch.from_numpy(x_train[start:end])\n",
        "    if torch.cuda.is_available():\n",
        "      x = x.type(torch.cuda.FloatTensor)\n",
        "    else:\n",
        "      x = x.type(torch.FloatTensor)\n",
        "    y = torch.from_numpy(t_train[start:end]).long()\n",
        "    x, y = x.to(device), y.to(device)\n",
        "\n",
        "    optimizer.zero_grad()\n",
        "\n",
        "    output = model(x)\n",
        "    loss = F.cross_entropy(output, y)\n",
        "\n",
        "    ### magic here! :-)\n",
        "    for task in range(task_id):\n",
        "      for name, param in shared_model.named_parameters():\n",
        "        fisher = fisher_dict[task][name]\n",
        "        optpar = optpar_dict[task][name]\n",
        "        loss += (fisher * (optpar - param).pow(2)).sum() * ewc_lambda\n",
        "\n",
        "    loss.backward()\n",
        "    optimizer.step()\n",
        "\n",
        "  print(f\"Train Epoch: {epoch} \\tLoss: {loss.item():.6f}\")"
      ],
      "execution_count": 25,
      "outputs": []
    },
    {
      "cell_type": "markdown",
      "metadata": {
        "execution": {},
        "id": "iXzyvzhTbH2g"
      },
      "source": [
        "Now let's train with EWC:"
      ]
    },
    {
      "cell_type": "code",
      "metadata": {
        "execution": {},
        "colab": {
          "base_uri": "https://localhost:8080/"
        },
        "id": "HOI9Vx0xbH2g",
        "outputId": "4b1a0715-4d74-4618-b23a-549ca1ffdca7"
      },
      "source": [
        "# Define the base network (a new head is defined when we encounter a new task)\n",
        "base = FBaseNet().to(DEVICE)\n",
        "heads = []\n",
        "\n",
        "# Define a list to store test accuracies for each task\n",
        "accs_ewc = []\n",
        "\n",
        "# Set number of epochs\n",
        "epochs = 2\n",
        "\n",
        "# Set EWC hyperparameter\n",
        "ewc_lambda = 0.4\n",
        "\n",
        "# Define dictionaries to store values needed by EWC\n",
        "fisher_dict = {}\n",
        "optpar_dict = {}\n",
        "\n",
        "# Loop through all tasks\n",
        "for task_id in range(tasks_num):\n",
        "    # Collect the training data for the new task\n",
        "    x_train, t_train, _, _ = task_data_with_overlap[task_id]\n",
        "\n",
        "    # Define a new head for this task\n",
        "    model = FHeadNet(base).to(DEVICE)\n",
        "    heads.append(model)\n",
        "\n",
        "    # Set the optimizer\n",
        "    optimizer = optim.SGD(heads[task_id].parameters(), lr=0.01)\n",
        "\n",
        "    # Train the model (with the new head) on the current task\n",
        "    for epoch in range(1, epochs+1):\n",
        "        train_ewc(heads[task_id], heads[task_id].base_net, task_id, x_train,\n",
        "                  t_train, optimizer, epoch, ewc_lambda, fisher_dict,\n",
        "                  optpar_dict, device=DEVICE)\n",
        "    on_task_update(task_id, x_train, t_train, heads[task_id],\n",
        "                   heads[task_id].base_net, fisher_dict, optpar_dict,\n",
        "                   device=DEVICE)\n",
        "\n",
        "    # Test the model on all tasks seen so far\n",
        "    accs_subset = []\n",
        "    for i in range(0, task_id + 1):\n",
        "        _, _, x_test, t_test = task_data_with_overlap[i]\n",
        "        test_acc = test(heads[i], x_test, t_test, device=DEVICE)\n",
        "        accs_subset.append(test_acc)\n",
        "    # For unseen tasks, we don't test\n",
        "    if task_id < (tasks_num - 1):\n",
        "        accs_subset.extend([np.nan] * (4 - task_id))\n",
        "    # Collect all test accuracies\n",
        "    accs_ewc.append(accs_subset)"
      ],
      "execution_count": 26,
      "outputs": [
        {
          "output_type": "stream",
          "text": [
            "Train Epoch: 1 \tLoss: 0.005016\n",
            "Train Epoch: 2 \tLoss: 0.001975\n",
            "Test set: Average loss: 0.0004, Accuracy: 2108/2115 (100%)\n",
            "\n",
            "Train Epoch: 1 \tLoss: 0.187040\n",
            "Train Epoch: 2 \tLoss: 0.272632\n",
            "Test set: Average loss: 0.0020, Accuracy: 1280/2115 (61%)\n",
            "\n",
            "Test set: Average loss: 0.0002, Accuracy: 1743/2042 (85%)\n",
            "\n",
            "Train Epoch: 1 \tLoss: nan\n",
            "Train Epoch: 2 \tLoss: nan\n",
            "Test set: Average loss: nan, Accuracy: 980/2115 (46%)\n",
            "\n",
            "Test set: Average loss: nan, Accuracy: 1032/2042 (51%)\n",
            "\n",
            "Test set: Average loss: nan, Accuracy: 982/1874 (52%)\n",
            "\n",
            "Train Epoch: 1 \tLoss: nan\n",
            "Train Epoch: 2 \tLoss: nan\n",
            "Test set: Average loss: nan, Accuracy: 980/2115 (46%)\n",
            "\n",
            "Test set: Average loss: nan, Accuracy: 1032/2042 (51%)\n",
            "\n",
            "Test set: Average loss: nan, Accuracy: 982/1874 (52%)\n",
            "\n",
            "Test set: Average loss: nan, Accuracy: 958/1986 (48%)\n",
            "\n",
            "Train Epoch: 1 \tLoss: nan\n",
            "Train Epoch: 2 \tLoss: nan\n",
            "Test set: Average loss: nan, Accuracy: 980/2115 (46%)\n",
            "\n",
            "Test set: Average loss: nan, Accuracy: 1032/2042 (51%)\n",
            "\n",
            "Test set: Average loss: nan, Accuracy: 982/1874 (52%)\n",
            "\n",
            "Test set: Average loss: nan, Accuracy: 958/1986 (48%)\n",
            "\n",
            "Test set: Average loss: nan, Accuracy: 974/1983 (49%)\n",
            "\n"
          ],
          "name": "stdout"
        }
      ]
    },
    {
      "cell_type": "code",
      "metadata": {
        "cellView": "form",
        "execution": {},
        "colab": {
          "base_uri": "https://localhost:8080/",
          "height": 430
        },
        "id": "fqQGNmWhbH2h",
        "outputId": "8c0fe2cd-9dde-4bbd-81f9-01fc8862de42"
      },
      "source": [
        "# @title Plot Naive vs EWC results\n",
        "\n",
        "# @markdown `seaborn` library should be installed\n",
        "import seaborn as sns\n",
        "\n",
        "fig, axes = plt.subplots(1, 3, figsize=(15, 6))\n",
        "accs_fine_grid = np.array(accs_naive)\n",
        "nan_mask = np.isnan(accs_naive)\n",
        "\n",
        "sns.heatmap(accs_naive, vmin=0, vmax=100, mask=nan_mask, annot=True,fmt='.0f',\n",
        "            yticklabels=range(1, 6), xticklabels=range(1, 6), ax=axes[0], cbar=False)\n",
        "sns.heatmap(accs_ewc, vmin=0, vmax=100, mask=nan_mask, annot=True,fmt='.0f',\n",
        "            yticklabels=range(1, 6), xticklabels=range(1, 6), ax=axes[1], cbar=False)\n",
        "\n",
        "axes[0].set_ylabel('Tested on Task')\n",
        "\n",
        "axes[0].set_xlabel('Naive')\n",
        "axes[1].set_xlabel('EWC')\n",
        "\n",
        "axes[2].plot(range(1, 6), np.nanmean(accs_naive, axis=1), linewidth=2.0)\n",
        "axes[2].plot(range(1, 6), np.nanmean(accs_ewc, axis=1), linewidth=2.0)\n",
        "\n",
        "axes[2].legend(['Naive', 'EWC'])\n",
        "axes[2].set_ylabel('Accumulated Accuracy for Seen Tasks')\n",
        "axes[2].set_xlabel('Task Number')\n",
        "plt.show()"
      ],
      "execution_count": 27,
      "outputs": [
        {
          "output_type": "display_data",
          "data": {
            "image/png": "[encoded data removed]",
            "text/plain": [
              "<Figure size 1080x432 with 3 Axes>"
            ]
          },
          "metadata": {
            "image/png": {
              "width": 1061,
              "height": 413
            },
            "needs_background": "light"
          }
        }
      ]
    },
    {
      "cell_type": "markdown",
      "metadata": {
        "execution": {},
        "id": "MWO71QuGbH2h"
      },
      "source": [
        "---\n",
        "# Section 3: Continual learning benchmarks\n",
        "\n",
        "*Time estimate: ~30mins*"
      ]
    },
    {
      "cell_type": "markdown",
      "metadata": {
        "execution": {},
        "id": "kGij52SAbH2h"
      },
      "source": [
        "In this section, we will introduce different ways in which a continual learning problem could be set up."
      ]
    },
    {
      "cell_type": "code",
      "metadata": {
        "cellView": "form",
        "execution": {},
        "colab": {
          "base_uri": "https://localhost:8080/",
          "height": 581,
          "referenced_widgets": [
            "aa823a1a39094bf892e13e115b78f335",
            "a3b00cfdfe6245c987eaaf3fdf8fe731",
            "2b7f31c34cc9418895980b8782c00e00",
            "7eb78480f365498790348ea8ce105981",
            "80fd026b9f994b3481670d106a0661b8",
            "d25718cfaa2341b1a2507756eefbc4e4"
          ]
        },
        "id": "ZmZF5AJybH2i",
        "outputId": "31dc2872-750e-44f9-8841-61fb085fc2a4"
      },
      "source": [
        "# @title Video 3: Benchmarks and different types of continual learning\n",
        "from ipywidgets import widgets\n",
        "\n",
        "out2 = widgets.Output()\n",
        "with out2:\n",
        "  from IPython.display import IFrame\n",
        "  class BiliVideo(IFrame):\n",
        "    def __init__(self, id, page=1, width=400, height=300, **kwargs):\n",
        "      self.id=id\n",
        "      src = \"https://player.bilibili.com/player.html?bvid={0}&page={1}\".format(id, page)\n",
        "      super(BiliVideo, self).__init__(src, width, height, **kwargs)\n",
        "\n",
        "  video = BiliVideo(id=f\"BV1R64y1s7EU\", width=854, height=480, fs=1)\n",
        "  print(\"Video available at https://www.bilibili.com/video/{0}\".format(video.id))\n",
        "  display(video)\n",
        "\n",
        "out1 = widgets.Output()\n",
        "with out1:\n",
        "  from IPython.display import YouTubeVideo\n",
        "  video = YouTubeVideo(id=f\"gQYyFWI3X2s\", width=854, height=480, fs=1, rel=0)\n",
        "  print(\"Video available at https://youtube.com/watch?v=\" + video.id)\n",
        "  display(video)\n",
        "\n",
        "out = widgets.Tab([out1, out2])\n",
        "out.set_title(0, 'Youtube')\n",
        "out.set_title(1, 'Bilibili')\n",
        "\n",
        "# add event to airtable\n",
        "atform.add_event('Video 3: Benchmarks and different types of continual learning')\n",
        "\n",
        "display(out)"
      ],
      "execution_count": 28,
      "outputs": [
        {
          "output_type": "display_data",
          "data": {
            "application/vnd.jupyter.widget-view+json": {
              "model_id": "aa823a1a39094bf892e13e115b78f335",
              "version_minor": 0,
              "version_major": 2
            },
            "text/plain": [
              "Tab(children=(Output(), Output()), _titles={'0': 'Youtube', '1': 'Bilibili'})"
            ]
          },
          "metadata": {}
        }
      ]
    },
    {
      "cell_type": "markdown",
      "metadata": {
        "execution": {},
        "id": "ZhIrshkrbH2i"
      },
      "source": [
        "As introduced in the above video, continual learning research certainly does not only use the MNIST dataset.\n",
        "But not to make things more complicated than necessary (and to make sure the examples run in an acceptable amount of time), we continue with the Split MNIST example for now.\n",
        "At the end of this notebook we will take a sneak peak at the CORe50 dataset."
      ]
    },
    {
      "cell_type": "markdown",
      "metadata": {
        "execution": {},
        "id": "Db6r5XqjbH2i"
      },
      "source": [
        "Another point made in the video is that continual learning is not a unitary problem, but that there are different types (or 'scenarios') of continual learning:\n",
        "-\t**Task-incremental learning**: an algorithm must incrementally learn a set of clearly distinct tasks (the tasks are clearly distinct because the algorithm is always told which task it must perform)\n",
        "-\t**Domain-incremental learning**: an algorithm must learn the same kind of task but in different contexts or domains\n",
        "-\t**Class-incremental learning**: an algorithm must incrementally learn to distinguish between an increasing number of classes."
      ]
    },
    {
      "cell_type": "markdown",
      "metadata": {
        "execution": {},
        "id": "h_HM5PsTbH2j"
      },
      "source": [
        "![table.png](data:image/png;base64,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)"
      ]
    },
    {
      "cell_type": "markdown",
      "metadata": {
        "execution": {},
        "id": "4GGN03xjbH2m"
      },
      "source": [
        "These continual learning scenarios can be distinguished from each other based on whether task identity information (or the task label) is provided to the algorithm, and – if it is not – whether task identity must be inferred (see schematic in the lecture slides).\n",
        "\n",
        "In [this paper](https://arxiv.org/abs/1904.07734) you can find more details about these different types of continual learning."
      ]
    },
    {
      "cell_type": "markdown",
      "metadata": {
        "execution": {},
        "id": "wdm_G0A3bH2n"
      },
      "source": [
        "## Task-incremental Split MNIST *versus* class-incremental Split MNIST\n",
        "\n",
        "Now, let's get back to our Split MNIST example. To start with, let's identify according to which scenario Split MNIST was performed in the previous section.\n",
        "\n",
        "Recall that the Split MNIST problem consists of five tasks, whereby each task contains two digits. In the previous section, the model was set-up in such a way that it had a separate output layer for each of these tasks (this is typically called a '*multi-headed output layer*'). At test time, the model then used the output layer of the task to which the example to be classified belonged. This means that it was assumed that the model always knows which task it must perform, so this was an example of **task-incremental learning**.\n",
        "\n",
        "In the continual learning literature. this variant of Split MNIST is also referred to as ***multi-headed Split MNIST***.\n",
        "However, although a multi-headed output layer is probably the most common way to use task identity information, it is not the only way (for example, see [this paper](https://doi.org/10.1073/pnas.1803839115))."
      ]
    },
    {
      "cell_type": "markdown",
      "metadata": {
        "execution": {},
        "id": "RKhUYP1IbH2n"
      },
      "source": [
        "Now, let's reorganize the Split MNIST problem to set it up as a **class-incremental learning** problem. That is, task information is no longer provided to the model; and the model must be able to decide itself to which task a test sample belongs.\n",
        "This means that, after all tasks have been learned, the model must now choose between all ten digits.\n",
        "This variant of Split MNIST is also referred to as ***single-headed Split MNIST***."
      ]
    },
    {
      "cell_type": "code",
      "metadata": {
        "execution": {},
        "colab": {
          "base_uri": "https://localhost:8080/"
        },
        "id": "kjVY5k6RbH2n",
        "outputId": "dc976458-747a-4741-e1a4-71f6c0f63856"
      },
      "source": [
        "# Load the MNIST dataset\n",
        "x_train, t_train, x_test, t_test = load_mnist(mnist_train, mnist_test,\n",
        "                                              verbose=True)\n",
        "\n",
        "# Define which classes are part of each task\n",
        "classes_per_task = [(0, 1), (2, 3), (4, 5), (6, 7), (8, 9)]\n",
        "\n",
        "# Divde the MNIST dataset in tasks\n",
        "task_data = []\n",
        "for _, classes_in_this_task in enumerate(classes_per_task):\n",
        "\n",
        "  # Which data-points belong to the classes in the current task?\n",
        "  train_mask = np.isin(t_train, classes_in_this_task)\n",
        "  test_mask = np.isin(t_test, classes_in_this_task)\n",
        "  x_train_task, t_train_task = x_train[train_mask], t_train[train_mask]\n",
        "  x_test_task, t_test_task = x_test[test_mask], t_test[test_mask]\n",
        "\n",
        "  # Add the data for the current task\n",
        "  task_data.append((x_train_task, t_train_task, x_test_task, t_test_task))\n",
        "\n",
        "# In contrast to the task-incremental version of Split MNIST explored in the\n",
        "# last section, now task identity information will not be provided to the model"
      ],
      "execution_count": 29,
      "outputs": [
        {
          "output_type": "stream",
          "text": [
            "x_train dim: (60000, 1, 28, 28) and type: uint8\n",
            "t_train dim: (60000,) and type: int64\n",
            "x_train dim: (10000, 1, 28, 28) and type: uint8\n",
            "t_train dim: (10000,) and type: int64\n"
          ],
          "name": "stdout"
        }
      ]
    },
    {
      "cell_type": "markdown",
      "metadata": {
        "execution": {},
        "id": "2rt-tEiVbH2o"
      },
      "source": [
        "## Example: EWC on the class-incremental version of Split MNIST\n",
        "\n",
        "Let's now try the EWC method on this class-incremental version of Split MNIST."
      ]
    },
    {
      "cell_type": "code",
      "metadata": {
        "execution": {},
        "colab": {
          "base_uri": "https://localhost:8080/"
        },
        "id": "eFd-iSmnbH2o",
        "outputId": "731b7315-d6e5-456e-a222-808f535a2136"
      },
      "source": [
        "# Define the model and the optimzer\n",
        "model = Net().to(DEVICE)\n",
        "optimizer = optim.SGD(model.parameters(), lr=0.001)\n",
        "\n",
        "# Set 'lambda', the hyperparameter of EWC\n",
        "ewc_lambda = 0.4\n",
        "\n",
        "# Define dictionaries to store values needed by EWC\n",
        "fisher_dict = {}\n",
        "optpar_dict = {}\n",
        "\n",
        "# Prepare list to store average accuracies after each task\n",
        "ewc_accs = []\n",
        "\n",
        "# Loop through all tasks\n",
        "for id, task in enumerate(task_data):\n",
        "\n",
        "  # Collect training data\n",
        "  x_train, t_train, _, _ = task\n",
        "\n",
        "  # Training with EWC\n",
        "  print(\"Training on task: \", id)\n",
        "  for epoch in range(1, 2):\n",
        "    train_ewc(model, model, id, x_train, t_train, optimizer, epoch,\n",
        "              ewc_lambda, fisher_dict, optpar_dict, device=DEVICE)\n",
        "\n",
        "  on_task_update(id, x_train, t_train, model, model, fisher_dict,\n",
        "                 optpar_dict, device=DEVICE)\n",
        "\n",
        "  # Evaluate performance after training on this task\n",
        "  avg_acc = 0\n",
        "  for id_test, task in enumerate(task_data):\n",
        "    print(f\"Testing on task: {id_test}\")\n",
        "    _, _, x_test, t_test = task\n",
        "    acc = test(model, x_test, t_test, device=DEVICE)\n",
        "    avg_acc = avg_acc + acc\n",
        "\n",
        "  print(f\"Avg acc: {avg_acc / len(task_data)}\")\n",
        "  ewc_accs.append(avg_acc / len(task_data))"
      ],
      "execution_count": 30,
      "outputs": [
        {
          "output_type": "stream",
          "text": [
            "Training on task:  0\n",
            "Train Epoch: 1 \tLoss: 0.226422\n",
            "Testing on task: 0\n",
            "Test set: Average loss: 0.0000, Accuracy: 2109/2115 (100%)\n",
            "\n",
            "Testing on task: 1\n",
            "Test set: Average loss: 0.0064, Accuracy: 0/2042 (0%)\n",
            "\n",
            "Testing on task: 2\n",
            "Test set: Average loss: 0.0073, Accuracy: 0/1874 (0%)\n",
            "\n",
            "Testing on task: 3\n",
            "Test set: Average loss: 0.0084, Accuracy: 0/1986 (0%)\n",
            "\n",
            "Testing on task: 4\n",
            "Test set: Average loss: 0.0083, Accuracy: 0/1983 (0%)\n",
            "\n",
            "Avg acc: 19.94326241134752\n",
            "Training on task:  1\n",
            "Train Epoch: 1 \tLoss: 1.473775\n",
            "Testing on task: 0\n",
            "Test set: Average loss: 0.0014, Accuracy: 252/2115 (12%)\n",
            "\n",
            "Testing on task: 1\n",
            "Test set: Average loss: 0.0004, Accuracy: 1762/2042 (86%)\n",
            "\n",
            "Testing on task: 2\n",
            "Test set: Average loss: 0.0023, Accuracy: 0/1874 (0%)\n",
            "\n",
            "Testing on task: 3\n",
            "Test set: Average loss: 0.0030, Accuracy: 1/1986 (0%)\n",
            "\n",
            "Testing on task: 4\n",
            "Test set: Average loss: 0.0039, Accuracy: 0/1983 (0%)\n",
            "\n",
            "Avg acc: 19.650639814311912\n",
            "Training on task:  2\n",
            "Train Epoch: 1 \tLoss: 1.628246\n",
            "Testing on task: 0\n",
            "Test set: Average loss: 0.0018, Accuracy: 135/2115 (6%)\n",
            "\n",
            "Testing on task: 1\n",
            "Test set: Average loss: 0.0015, Accuracy: 211/2042 (10%)\n",
            "\n",
            "Testing on task: 2\n",
            "Test set: Average loss: 0.0005, Accuracy: 1670/1874 (89%)\n",
            "\n",
            "Testing on task: 3\n",
            "Test set: Average loss: 0.0031, Accuracy: 0/1986 (0%)\n",
            "\n",
            "Testing on task: 4\n",
            "Test set: Average loss: 0.0040, Accuracy: 0/1983 (0%)\n",
            "\n",
            "Avg acc: 21.166035963270826\n",
            "Training on task:  3\n",
            "Train Epoch: 1 \tLoss: 2.476979\n",
            "Testing on task: 0\n",
            "Test set: Average loss: 0.0015, Accuracy: 366/2115 (17%)\n",
            "\n",
            "Testing on task: 1\n",
            "Test set: Average loss: 0.0014, Accuracy: 527/2042 (26%)\n",
            "\n",
            "Testing on task: 2\n",
            "Test set: Average loss: 0.0014, Accuracy: 380/1874 (20%)\n",
            "\n",
            "Testing on task: 3\n",
            "Test set: Average loss: 0.0013, Accuracy: 818/1986 (41%)\n",
            "\n",
            "Testing on task: 4\n",
            "Test set: Average loss: 0.0018, Accuracy: 11/1983 (1%)\n",
            "\n",
            "Avg acc: 21.026702101991766\n",
            "Training on task:  4\n",
            "Train Epoch: 1 \tLoss: 2.713020\n",
            "Testing on task: 0\n",
            "Test set: Average loss: 0.0017, Accuracy: 392/2115 (19%)\n",
            "\n",
            "Testing on task: 1\n",
            "Test set: Average loss: 0.0015, Accuracy: 260/2042 (13%)\n",
            "\n",
            "Testing on task: 2\n",
            "Test set: Average loss: 0.0015, Accuracy: 132/1874 (7%)\n",
            "\n",
            "Testing on task: 3\n",
            "Test set: Average loss: 0.0015, Accuracy: 358/1986 (18%)\n",
            "\n",
            "Testing on task: 4\n",
            "Test set: Average loss: 0.0014, Accuracy: 900/1983 (45%)\n",
            "\n",
            "Avg acc: 20.344522623761836\n"
          ],
          "name": "stdout"
        }
      ]
    },
    {
      "cell_type": "markdown",
      "metadata": {
        "execution": {},
        "id": "ZcPqD6yubH2o"
      },
      "source": [
        "That didn't work well..."
      ]
    },
    {
      "cell_type": "markdown",
      "metadata": {
        "execution": {},
        "id": "SstiZGHbbH2p"
      },
      "source": [
        "The model only correctly predicts the classes from the last task it has seen, all earlier seen classes seem to be forgotten."
      ]
    },
    {
      "cell_type": "markdown",
      "metadata": {
        "execution": {},
        "id": "FrUu7WQ9bH2p"
      },
      "source": [
        "You might wonder whether the reason that EWC performed so badly in the above example is because we chose an unsuitable value for the hyperparameter lambda.\n",
        "Although we don't have time to demonstrate this, there are no values of lambda that would lead to good performance.\n",
        "\n",
        "In general, parameter regularization based methods, such as EWC, have been found not to work well on class-incremental learning problems."
      ]
    },
    {
      "cell_type": "markdown",
      "metadata": {
        "execution": {},
        "id": "3i7PJPIibH2p"
      },
      "source": [
        "## Replay\n",
        "\n",
        "As discussed in the lecture of the previous section, another popular continual learning strategy is replay. Let's see whether replay works better on the class-incremental learning version of Split MNIST than EWC did."
      ]
    },
    {
      "cell_type": "markdown",
      "metadata": {
        "execution": {},
        "id": "84XeZO5lbH2p"
      },
      "source": [
        "One implementation of replay is to simply store all data from previously seen tasks, and to then, whenever a new task must be learned, mix in that stored data with the training data of the new task.\n",
        "\n",
        "To achieve this form of replay, let's define the following function for shuffling multiple datasets (e.g., the data from previous tasks with the data from the current task) together:"
      ]
    },
    {
      "cell_type": "code",
      "metadata": {
        "execution": {},
        "id": "ofnFppmrbH2p"
      },
      "source": [
        "def shuffle_datasets(dataset, seed, in_place=False):\n",
        "  \"\"\" Shuffle a list of two (or more) datasets. \"\"\"\n",
        "\n",
        "  np.random.seed(seed)\n",
        "  rng_state = np.random.get_state()\n",
        "  new_dataset = []\n",
        "  for x in dataset:\n",
        "    if in_place:\n",
        "      np.random.shuffle(x)\n",
        "    else:\n",
        "      new_dataset.append(np.random.permutation(x))\n",
        "    np.random.set_state(rng_state)\n",
        "\n",
        "  if not in_place:\n",
        "    return new_dataset"
      ],
      "execution_count": 31,
      "outputs": []
    },
    {
      "cell_type": "markdown",
      "metadata": {
        "execution": {},
        "id": "rBTwZ4aBbH2q"
      },
      "source": [
        "Note that this form of replay is somewhat extreme, as it stores all the training data from previous tasks. In practice, replay is often implemented in ways that store less data, for example either by using relatively small memory buffers (see [this paper](https://arxiv.org/abs/1902.10486)) or by learning a generative model to then generate the data to be replayed (see [this paper](https://arxiv.org/abs/1705.08690) or [this paper](https://www.nature.com/articles/s41467-020-17866-2))."
      ]
    },
    {
      "cell_type": "markdown",
      "metadata": {
        "execution": {},
        "id": "b-vjZUYFbH2q"
      },
      "source": [
        "## Example: Test replay on the class-incremental version of Split MNIST\n",
        "\n",
        "Let's try whether this replay strategy works better than EWC."
      ]
    },
    {
      "cell_type": "code",
      "metadata": {
        "execution": {},
        "colab": {
          "base_uri": "https://localhost:8080/"
        },
        "id": "-mgUtPJlbH2q",
        "outputId": "8915162e-dc19-4d60-f089-faf2a60b2199"
      },
      "source": [
        "# Define the model and the optimizer\n",
        "model = Net().to(DEVICE)\n",
        "optimizer = optim.SGD(model.parameters(), lr=0.01)\n",
        "\n",
        "# Prepare list to store average accuracies after each task\n",
        "rehe_accs = []\n",
        "\n",
        "# Loop through all tasks\n",
        "for id, task in enumerate(task_data):\n",
        "\n",
        "  # Collect training data\n",
        "  x_train, t_train, _, _ = task\n",
        "\n",
        "  # Add replay\n",
        "  for i in range(id):\n",
        "    past_x_train, past_t_train, _, _ = task_data[i]\n",
        "    x_train = np.concatenate((x_train, past_x_train))\n",
        "    t_train = np.concatenate((t_train, past_t_train))\n",
        "\n",
        "  x_train, t_train = shuffle_datasets([x_train, t_train], seed=SEED)\n",
        "\n",
        "  # Training\n",
        "  print(f\"Training on task: {id}\")\n",
        "  for epoch in range(1, 3):\n",
        "    train(model, x_train, t_train, optimizer, epoch, device=DEVICE)\n",
        "\n",
        "  # Evaluate performance after training on this task\n",
        "  avg_acc = 0\n",
        "  for id_test, task in enumerate(task_data):\n",
        "    print(f\"Testing on task: {id_test}\")\n",
        "    _, _, x_test, t_test = task\n",
        "    acc = test(model, x_test, t_test, device=DEVICE)\n",
        "    avg_acc = avg_acc + acc\n",
        "\n",
        "  print(f\"Avg acc: {avg_acc / len(task_data)}\")\n",
        "  rehe_accs.append(avg_acc/len(task_data))"
      ],
      "execution_count": 32,
      "outputs": [
        {
          "output_type": "stream",
          "text": [
            "Training on task: 0\n",
            "Train Epoch: 1 \tLoss: 0.180135\n",
            "Train Epoch: 2 \tLoss: 0.012838\n",
            "Testing on task: 0\n",
            "Test set: Average loss: 0.0000, Accuracy: 2114/2115 (100%)\n",
            "\n",
            "Testing on task: 1\n",
            "Test set: Average loss: 0.0119, Accuracy: 0/2042 (0%)\n",
            "\n",
            "Testing on task: 2\n",
            "Test set: Average loss: 0.0132, Accuracy: 0/1874 (0%)\n",
            "\n",
            "Testing on task: 3\n",
            "Test set: Average loss: 0.0141, Accuracy: 0/1986 (0%)\n",
            "\n",
            "Testing on task: 4\n",
            "Test set: Average loss: 0.0109, Accuracy: 0/1983 (0%)\n",
            "\n",
            "Avg acc: 19.990543735224584\n",
            "Training on task: 1\n",
            "Train Epoch: 1 \tLoss: 0.406758\n",
            "Train Epoch: 2 \tLoss: 0.202420\n",
            "Testing on task: 0\n",
            "Test set: Average loss: 0.0000, Accuracy: 2103/2115 (99%)\n",
            "\n",
            "Testing on task: 1\n",
            "Test set: Average loss: 0.0000, Accuracy: 1990/2042 (97%)\n",
            "\n",
            "Testing on task: 2\n",
            "Test set: Average loss: 0.0040, Accuracy: 0/1874 (0%)\n",
            "\n",
            "Testing on task: 3\n",
            "Test set: Average loss: 0.0048, Accuracy: 0/1986 (0%)\n",
            "\n",
            "Testing on task: 4\n",
            "Test set: Average loss: 0.0039, Accuracy: 0/1983 (0%)\n",
            "\n",
            "Avg acc: 39.377220219364965\n",
            "Training on task: 2\n",
            "Train Epoch: 1 \tLoss: 0.510728\n",
            "Train Epoch: 2 \tLoss: 0.395682\n",
            "Testing on task: 0\n",
            "Test set: Average loss: 0.0000, Accuracy: 2091/2115 (99%)\n",
            "\n",
            "Testing on task: 1\n",
            "Test set: Average loss: 0.0000, Accuracy: 1990/2042 (97%)\n",
            "\n",
            "Testing on task: 2\n",
            "Test set: Average loss: 0.0000, Accuracy: 1816/1874 (97%)\n",
            "\n",
            "Testing on task: 3\n",
            "Test set: Average loss: 0.0026, Accuracy: 0/1986 (0%)\n",
            "\n",
            "Testing on task: 4\n",
            "Test set: Average loss: 0.0024, Accuracy: 0/1983 (0%)\n",
            "\n",
            "Avg acc: 58.64474824376758\n",
            "Training on task: 3\n",
            "Train Epoch: 1 \tLoss: 0.638742\n",
            "Train Epoch: 2 \tLoss: 0.489290\n",
            "Testing on task: 0\n",
            "Test set: Average loss: 0.0000, Accuracy: 2059/2115 (97%)\n",
            "\n",
            "Testing on task: 1\n",
            "Test set: Average loss: 0.0000, Accuracy: 1984/2042 (97%)\n",
            "\n",
            "Testing on task: 2\n",
            "Test set: Average loss: 0.0000, Accuracy: 1797/1874 (96%)\n",
            "\n",
            "Testing on task: 3\n",
            "Test set: Average loss: 0.0000, Accuracy: 1860/1986 (94%)\n",
            "\n",
            "Testing on task: 4\n",
            "Test set: Average loss: 0.0016, Accuracy: 0/1983 (0%)\n",
            "\n",
            "Avg acc: 76.81172486672517\n",
            "Training on task: 4\n",
            "Train Epoch: 1 \tLoss: 0.606076\n",
            "Train Epoch: 2 \tLoss: 0.645298\n",
            "Testing on task: 0\n",
            "Test set: Average loss: 0.0000, Accuracy: 2046/2115 (97%)\n",
            "\n",
            "Testing on task: 1\n",
            "Test set: Average loss: 0.0000, Accuracy: 1976/2042 (97%)\n",
            "\n",
            "Testing on task: 2\n",
            "Test set: Average loss: 0.0000, Accuracy: 1807/1874 (96%)\n",
            "\n",
            "Testing on task: 3\n",
            "Test set: Average loss: 0.0000, Accuracy: 1865/1986 (94%)\n",
            "\n",
            "Testing on task: 4\n",
            "Test set: Average loss: 0.0000, Accuracy: 1813/1983 (91%)\n",
            "\n",
            "Avg acc: 95.05294104550703\n"
          ],
          "name": "stdout"
        }
      ]
    },
    {
      "cell_type": "markdown",
      "metadata": {
        "execution": {},
        "id": "_xe3v1imbH2r"
      },
      "source": [
        "And finally, let's compare the performance of EWC and Replay on the class-incremental version of Split MNIST in a plot:"
      ]
    },
    {
      "cell_type": "code",
      "metadata": {
        "cellView": "form",
        "execution": {},
        "colab": {
          "base_uri": "https://localhost:8080/",
          "height": 430
        },
        "id": "kals6GJmbH2r",
        "outputId": "f5e54778-bd23-4502-a4c7-9940e00f1ee4"
      },
      "source": [
        "# @title Plot EWC vs. Replay\n",
        "plt.plot([1, 2, 3, 4, 5], rehe_accs, '-o', label=\"Replay\")\n",
        "plt.plot([1, 2, 3, 4, 5], ewc_accs, '-o', label=\"EWC\")\n",
        "plt.xlabel('Tasks Encountered', fontsize=14)\n",
        "plt.ylabel('Average Accuracy', fontsize=14)\n",
        "plt.title('CL Strategies on Class-incremental version of Split MNIST',\n",
        "          fontsize=14);\n",
        "plt.xticks([1, 2, 3, 4, 5])\n",
        "plt.legend(prop={'size': 16})\n",
        "plt.show()"
      ],
      "execution_count": 33,
      "outputs": [
        {
          "output_type": "display_data",
          "data": {
            "image/png": "[encoded data removed]",
            "text/plain": [
              "<Figure size 576x432 with 1 Axes>"
            ]
          },
          "metadata": {
            "image/png": {
              "width": 558,
              "height": 413
            },
            "needs_background": "light"
          }
        }
      ]
    },
    {
      "cell_type": "markdown",
      "metadata": {
        "execution": {},
        "id": "OnlfhtF9bH2r"
      },
      "source": [
        "## Exercise 3: Identify the continual learning scenario of the permuted MNIST example from Section 1\n",
        "\n",
        "What type of 'scenario' was the permuted MNIST problem that was introduced in Section 1? Was it task-incremental, domain-incremental or class-incremental? Try to motivate your answer."
      ]
    },
    {
      "cell_type": "code",
      "metadata": {
        "execution": {},
        "id": "Zk_tYA44bH2r"
      },
      "source": [
        "# to_remove explanation\n",
        "\n",
        "'''\n",
        "The Permuted MNIST problem in Section 1 is an example of domain-incremental\n",
        "learning.\n",
        "\n",
        "Recall that this problem consisted of two tasks: normal MNIST (task 1) and MNIST\n",
        "with permuted input images (task 2).\n",
        "After learning both task, when the model is evaluated, the model is not told to\n",
        "which task an image belongs (i.e., the model is not told whether the image be\n",
        "classified is permuted or not), but the model also does not need to identify to\n",
        "which task an image belongs (i.e., the model does not need to predict whether\n",
        "the image to be classified has permuted pixels or not; it only needs to predict\n",
        "the original digit displayed in the image).\n",
        "\n",
        "Another way to motivate that this problem is an example of domain-incremental\n",
        "learning, is to say that in both task 1 (normal MNIST) and task 2 (MNIST with\n",
        "permuted input images), the 'type of problem' is the same (i.e., to identify the\n",
        "digit displayed in the original image), but the 'context' is changing (i.e.,\n",
        "the order in which the image pixels are presented).\n",
        "''';"
      ],
      "execution_count": 34,
      "outputs": []
    },
    {
      "cell_type": "markdown",
      "metadata": {
        "execution": {},
        "id": "k4StGHXabH2s"
      },
      "source": [
        "---\n",
        "# Section 4: Evaluation of continual learning algorithms\n",
        "\n",
        "*Time estimate: ~20mins*"
      ]
    },
    {
      "cell_type": "markdown",
      "metadata": {
        "execution": {},
        "id": "SJYYlnCdbH2s"
      },
      "source": [
        "Understanding how your CL algorithm is performing is key to gain insights on its behavior and to decide how to improve it. \n",
        "\n",
        "Here, we will focus on how to build some of the most important CL metrics!"
      ]
    },
    {
      "cell_type": "code",
      "metadata": {
        "cellView": "form",
        "execution": {},
        "colab": {
          "base_uri": "https://localhost:8080/",
          "height": 581,
          "referenced_widgets": [
            "bb4bbacd784a4877a4b609609fd8b193",
            "b8dde258492746fd9fbe591e92fc9a24",
            "c18436dbc4574027b28747b0747f9d3b",
            "c6e4e8cade72478fbed5cdac8504629c",
            "338b352e8c7f4a26aa2ad46f64179e7c",
            "42f534f4e3ff4eeeba6a85422022b358"
          ]
        },
        "id": "fI0m6LArbH2t",
        "outputId": "46f2ee90-6f51-4cce-bc07-2e3521062eb4"
      },
      "source": [
        "# @title Video 4: Continual Learning Evaluation\n",
        "from ipywidgets import widgets\n",
        "\n",
        "out2 = widgets.Output()\n",
        "with out2:\n",
        "  from IPython.display import IFrame\n",
        "  class BiliVideo(IFrame):\n",
        "    def __init__(self, id, page=1, width=400, height=300, **kwargs):\n",
        "      self.id=id\n",
        "      src = \"https://player.bilibili.com/player.html?bvid={0}&page={1}\".format(id, page)\n",
        "      super(BiliVideo, self).__init__(src, width, height, **kwargs)\n",
        "\n",
        "  video = BiliVideo(id=f\"BV1aq4y1H7SH\", width=854, height=480, fs=1)\n",
        "  print(\"Video available at https://www.bilibili.com/video/{0}\".format(video.id))\n",
        "  display(video)\n",
        "\n",
        "out1 = widgets.Output()\n",
        "with out1:\n",
        "  from IPython.display import YouTubeVideo\n",
        "  video = YouTubeVideo(id=f\"tR-5zraPOto\", width=854, height=480, fs=1, rel=0)\n",
        "  print(\"Video available at https://youtube.com/watch?v=\" + video.id)\n",
        "  display(video)\n",
        "\n",
        "out = widgets.Tab([out1, out2])\n",
        "out.set_title(0, 'Youtube')\n",
        "out.set_title(1, 'Bilibili')\n",
        "\n",
        "# add event to airtable\n",
        "atform.add_event('Video 4: Continual Learning Evaluation')\n",
        "\n",
        "display(out)"
      ],
      "execution_count": 35,
      "outputs": [
        {
          "output_type": "display_data",
          "data": {
            "application/vnd.jupyter.widget-view+json": {
              "model_id": "bb4bbacd784a4877a4b609609fd8b193",
              "version_minor": 0,
              "version_major": 2
            },
            "text/plain": [
              "Tab(children=(Output(), Output()), _titles={'0': 'Youtube', '1': 'Bilibili'})"
            ]
          },
          "metadata": {}
        }
      ]
    },
    {
      "cell_type": "markdown",
      "metadata": {
        "execution": {},
        "id": "7eEnbQTibH2u"
      },
      "source": [
        "We will now simulate the data for T tasks and record all the accuracy values in a single TxT matrix."
      ]
    },
    {
      "cell_type": "markdown",
      "metadata": {
        "execution": {},
        "id": "-SNDjNcKbH2u"
      },
      "source": [
        "## Section 4.1: Average Accuracy\n",
        "\n",
        "The Average Accuracy (ACC) metric computes the average accuracy over all tasks."
      ]
    },
    {
      "cell_type": "code",
      "metadata": {
        "execution": {},
        "id": "uzZ2ZNeybH2u"
      },
      "source": [
        "def ACC(result_matrix):\n",
        "  \"\"\"\n",
        "  Average Accuracy metric\n",
        "\n",
        "  :param result_matrix: TxT matrix containing accuracy values in each (i, j) entry.\n",
        "    (i, j) -> test accuracy on task j after training on task i\n",
        "  \"\"\"\n",
        "\n",
        "  final_accs = result_matrix[-1, :]  # take accuracies after final training\n",
        "  acc = np.mean(final_accs)  # compute average\n",
        "\n",
        "  return acc, final_accs"
      ],
      "execution_count": 36,
      "outputs": []
    },
    {
      "cell_type": "markdown",
      "metadata": {
        "execution": {},
        "id": "F3tCDSr5bH2v"
      },
      "source": [
        "## Section 4.2: Backward Transfer\n",
        "\n",
        "The Backward Transfer (BWT) metric of task i computes the accuracy on task i after training on last task **minus** the accuracy on task i after training on task i.\n",
        "\n",
        "To get the average BWT you have to average across all tasks.\n",
        "\n",
        "**Negative BWT expresses the amount of forgetting suffered by the algorithm.**\n"
      ]
    },
    {
      "cell_type": "code",
      "metadata": {
        "execution": {},
        "id": "QTwVvwIYbH2v"
      },
      "source": [
        "def BWT(result_matrix):\n",
        "  \"\"\"\n",
        "  Backward Transfer metric\n",
        "\n",
        "  :param result_matrix: TxT matrix containing accuracy values in each (i, j) entry.\n",
        "    (i, j) -> test accuracy on task j after training on task i\n",
        "  \"\"\"\n",
        "\n",
        "  final_accs = result_matrix[-1, :]  # take accuracies after final training\n",
        "  # accuracies on task i right after training on task i, for all i\n",
        "  training_accs = np.diag(result_matrix)\n",
        "  task_bwt = final_accs - training_accs  # BWT for each task\n",
        "  average_bwt = np.mean(task_bwt)  # compute average\n",
        "\n",
        "  return average_bwt, task_bwt"
      ],
      "execution_count": 37,
      "outputs": []
    },
    {
      "cell_type": "markdown",
      "metadata": {
        "execution": {},
        "id": "wQNBbF4rbH2v"
      },
      "source": [
        "### Exercise 4.2: Evaluate your CL algorithm"
      ]
    },
    {
      "cell_type": "code",
      "metadata": {
        "colab": {
          "base_uri": "https://localhost:8080/"
        },
        "id": "UoSYDHUXgD8q",
        "outputId": "e4b85e0d-860d-4322-d3f4-686683303cf2"
      },
      "source": [
        "help(np.random.choice)"
      ],
      "execution_count": 38,
      "outputs": [
        {
          "output_type": "stream",
          "text": [
            "Help on built-in function choice:\n",
            "\n",
            "choice(...) method of numpy.random.mtrand.RandomState instance\n",
            "    choice(a, size=None, replace=True, p=None)\n",
            "    \n",
            "    Generates a random sample from a given 1-D array\n",
            "    \n",
            "    .. versionadded:: 1.7.0\n",
            "    \n",
            "    .. note::\n",
            "        New code should use the ``choice`` method of a ``default_rng()``\n",
            "        instance instead; please see the :ref:`random-quick-start`.\n",
            "    \n",
            "    Parameters\n",
            "    ----------\n",
            "    a : 1-D array-like or int\n",
            "        If an ndarray, a random sample is generated from its elements.\n",
            "        If an int, the random sample is generated as if a were np.arange(a)\n",
            "    size : int or tuple of ints, optional\n",
            "        Output shape.  If the given shape is, e.g., ``(m, n, k)``, then\n",
            "        ``m * n * k`` samples are drawn.  Default is None, in which case a\n",
            "        single value is returned.\n",
            "    replace : boolean, optional\n",
            "        Whether the sample is with or without replacement\n",
            "    p : 1-D array-like, optional\n",
            "        The probabilities associated with each entry in a.\n",
            "        If not given the sample assumes a uniform distribution over all\n",
            "        entries in a.\n",
            "    \n",
            "    Returns\n",
            "    -------\n",
            "    samples : single item or ndarray\n",
            "        The generated random samples\n",
            "    \n",
            "    Raises\n",
            "    ------\n",
            "    ValueError\n",
            "        If a is an int and less than zero, if a or p are not 1-dimensional,\n",
            "        if a is an array-like of size 0, if p is not a vector of\n",
            "        probabilities, if a and p have different lengths, or if\n",
            "        replace=False and the sample size is greater than the population\n",
            "        size\n",
            "    \n",
            "    See Also\n",
            "    --------\n",
            "    randint, shuffle, permutation\n",
            "    Generator.choice: which should be used in new code\n",
            "    \n",
            "    Notes\n",
            "    -----\n",
            "    Sampling random rows from a 2-D array is not possible with this function,\n",
            "    but is possible with `Generator.choice` through its ``axis`` keyword.\n",
            "    \n",
            "    Examples\n",
            "    --------\n",
            "    Generate a uniform random sample from np.arange(5) of size 3:\n",
            "    \n",
            "    >>> np.random.choice(5, 3)\n",
            "    array([0, 3, 4]) # random\n",
            "    >>> #This is equivalent to np.random.randint(0,5,3)\n",
            "    \n",
            "    Generate a non-uniform random sample from np.arange(5) of size 3:\n",
            "    \n",
            "    >>> np.random.choice(5, 3, p=[0.1, 0, 0.3, 0.6, 0])\n",
            "    array([3, 3, 0]) # random\n",
            "    \n",
            "    Generate a uniform random sample from np.arange(5) of size 3 without\n",
            "    replacement:\n",
            "    \n",
            "    >>> np.random.choice(5, 3, replace=False)\n",
            "    array([3,1,0]) # random\n",
            "    >>> #This is equivalent to np.random.permutation(np.arange(5))[:3]\n",
            "    \n",
            "    Generate a non-uniform random sample from np.arange(5) of size\n",
            "    3 without replacement:\n",
            "    \n",
            "    >>> np.random.choice(5, 3, replace=False, p=[0.1, 0, 0.3, 0.6, 0])\n",
            "    array([2, 3, 0]) # random\n",
            "    \n",
            "    Any of the above can be repeated with an arbitrary array-like\n",
            "    instead of just integers. For instance:\n",
            "    \n",
            "    >>> aa_milne_arr = ['pooh', 'rabbit', 'piglet', 'Christopher']\n",
            "    >>> np.random.choice(aa_milne_arr, 5, p=[0.5, 0.1, 0.1, 0.3])\n",
            "    array(['pooh', 'pooh', 'pooh', 'Christopher', 'piglet'], # random\n",
            "          dtype='<U11')\n",
            "\n"
          ],
          "name": "stdout"
        }
      ]
    },
    {
      "cell_type": "markdown",
      "metadata": {
        "execution": {},
        "id": "tfW3RCT5bH2w"
      },
      "source": [
        "You should replace the ellipses, i.e., `...`, with your code. You should train 5 tasks and your result_matrix is [0,1] values from a uniformly sampled distribution. \n",
        "\n",
        "Hint: Use `np.random.choice` with weight values (p) = [0.1, 0.9]. The help cell is given above for your reference. \n",
        "\n",
        "This is the only cell you have to modify :)\n"
      ]
    },
    {
      "cell_type": "code",
      "metadata": {
        "execution": {},
        "id": "IJCkfLzXbH2w"
      },
      "source": [
        "\"\"\"\n",
        "Create a TxT matrix with values between 0 and 1 to\n",
        "be used to compute the metrics.\n",
        "\"\"\"\n",
        "T = ...  # number of tasks\n",
        "result_matrix = []\n",
        "distribution = ...  # here put a TxT matrix with values in [0, 1]\n",
        "distribution = np.random.randn(T) \n",
        "result_matrix[distribution] = np.nan # Masking\n",
        "\n",
        "#This block is to un-flatten the 25 element matrix into a 5*5 matrix\n",
        "\n",
        "for j in range(T):\n",
        "    temp = []\n",
        "    for i in range(T):\n",
        "        temp.append(place_holder[i])\n",
        "    result_matrix.append(temp)\n",
        "\n",
        "result_matrix = np.array(result_matrix)\n",
        "print(result_matrix)"
      ],
      "execution_count": 61,
      "outputs": []
    },
    {
      "cell_type": "code",
      "metadata": {
        "colab": {
          "base_uri": "https://localhost:8080/"
        },
        "id": "lKrjQQcXc1Gb",
        "outputId": "072ea555-85c3-4639-d993-6af54ef8fe3b"
      },
      "source": [
        "T = len(rehe_accs)  # number of tasks\n",
        "result_matrix = []\n",
        "distribution = np.random.choice([1, 0], T, p=[.1, .9])\n",
        "place_holder = np.random.randn(T)\n",
        "place_holder[distribution] = np.nan # Masking\n",
        "\n",
        "#This block is to un-flatten the 25 element matrix into a 5*5 matrix\n",
        "\n",
        "for j in range(T):\n",
        "    temp = []\n",
        "    for i in range(T):\n",
        "        temp.append(place_holder[i])\n",
        "    result_matrix.append(temp)\n",
        "\n",
        "result_matrix = np.array(result_matrix)\n",
        "print(result_matrix)\n"
      ],
      "execution_count": 80,
      "outputs": [
        {
          "output_type": "stream",
          "text": [
            "[[        nan         nan  0.28276229 -1.1789878   1.52858149]\n",
            " [        nan         nan  0.28276229 -1.1789878   1.52858149]\n",
            " [        nan         nan  0.28276229 -1.1789878   1.52858149]\n",
            " [        nan         nan  0.28276229 -1.1789878   1.52858149]\n",
            " [        nan         nan  0.28276229 -1.1789878   1.52858149]]\n"
          ],
          "name": "stdout"
        }
      ]
    },
    {
      "cell_type": "markdown",
      "metadata": {
        "execution": {},
        "id": "E5KBkk9CbH2x"
      },
      "source": [
        "### Think! 4.2: Performance metrics\n",
        "\n",
        "Why we choose a specific number of performance metrics even if we have access to numerous metrics? Why the result matrix has `nan` values?"
      ]
    },
    {
      "cell_type": "code",
      "metadata": {
        "cellView": "form",
        "execution": {},
        "colab": {
          "base_uri": "https://localhost:8080/",
          "height": 111,
          "referenced_widgets": [
            "eb68ad10b3a4413fac0efecf7d83f3c0",
            "4594daa7c6f849ea84bbf5bdac4b6d54",
            "3dc9ff05893a4908a621bce040766c39",
            "ea98d511506348549d540a9c7093921b",
            "7abafd15520847c8a10a1248ae975273",
            "0a386a9d39b34707a7415b9217cf042f"
          ]
        },
        "id": "RtXs9AO8bH2x",
        "outputId": "44b41fb0-6e5f-43e6-a4b3-66ad1096fa2c"
      },
      "source": [
        "# @title Student Response\n",
        "from ipywidgets import widgets\n",
        "\n",
        "\n",
        "text=widgets.Textarea(\n",
        "   value='Type your answer here and click on `Submit!`',\n",
        "   placeholder='Type something',\n",
        "   description='',\n",
        "   disabled=False\n",
        ")\n",
        "\n",
        "button = widgets.Button(description=\"Submit!\")\n",
        "\n",
        "display(text,button)\n",
        "\n",
        "def on_button_clicked(b):\n",
        "   atform.add_answer('q1' , text.value)\n",
        "   print(\"Submission successful!\")\n",
        "\n",
        "\n",
        "button.on_click(on_button_clicked)"
      ],
      "execution_count": 47,
      "outputs": [
        {
          "output_type": "display_data",
          "data": {
            "application/vnd.jupyter.widget-view+json": {
              "model_id": "eb68ad10b3a4413fac0efecf7d83f3c0",
              "version_minor": 0,
              "version_major": 2
            },
            "text/plain": [
              "Textarea(value='Type your answer here and click on `Submit!`', placeholder='Type something')"
            ]
          },
          "metadata": {}
        },
        {
          "output_type": "display_data",
          "data": {
            "application/vnd.jupyter.widget-view+json": {
              "model_id": "ea98d511506348549d540a9c7093921b",
              "version_minor": 0,
              "version_major": 2
            },
            "text/plain": [
              "Button(description='Submit!', style=ButtonStyle())"
            ]
          },
          "metadata": {}
        }
      ]
    },
    {
      "cell_type": "code",
      "metadata": {
        "execution": {},
        "id": "Dj8E8UkkbH2y"
      },
      "source": [
        "# to_remove explanation\n",
        "\"\"\"\n",
        "1. As we discussed, the number of metrics you can evaluate is very large. To keep things compact,\n",
        "   we only focus on 2 performance metrics. You can have fun and implement the forward transfer :)\n",
        "\n",
        "2. Result matrix have nan values in correspondence of future tasks since we do not evaluate our\n",
        "   model on future tasks.\n",
        "\"\"\";"
      ],
      "execution_count": 48,
      "outputs": []
    },
    {
      "cell_type": "markdown",
      "metadata": {
        "execution": {},
        "id": "BbqQxSnkbH2y"
      },
      "source": [
        "You **don't** need to modify the next cell, just execute it to see metrics in action!"
      ]
    },
    {
      "cell_type": "code",
      "metadata": {
        "execution": {},
        "colab": {
          "base_uri": "https://localhost:8080/"
        },
        "id": "2-KlIMeybH2y",
        "outputId": "2958abb3-7a97-4d47-be77-b70f040fad7a"
      },
      "source": [
        "if result_matrix is None or T is None:\n",
        "  raise ValueError(\"You should fill the values of `result_matrix`, and `T` first.\")\n",
        "\n",
        "print(f\"\\nResult matrix shape: {result_matrix.shape}\")\n",
        "print(f\"Result matrix values:\\n {result_matrix}\")\n",
        "#result_matrix = [value for value in result_matrix if not math.isnan(value)]\n",
        "print(result_matrix)\n",
        "# print Average Accuracy metric\n",
        "acc, final_accs = ACC(result_matrix)\n",
        "print(f\"\\nACC: {acc}\")\n",
        "print(f\"Accuracies for each task: {final_accs}\")\n",
        "\n",
        "# print Backward Transfer metric\n",
        "bwt, bwt_task = BWT(result_matrix)\n",
        "print(f\"\\nBWT: {bwt}\")\n",
        "print(f\"BWT for each task: {bwt_task}\")\n",
        "print()"
      ],
      "execution_count": 81,
      "outputs": [
        {
          "output_type": "stream",
          "text": [
            "\n",
            "Result matrix shape: (5, 5)\n",
            "Result matrix values:\n",
            " [[        nan         nan  0.28276229 -1.1789878   1.52858149]\n",
            " [        nan         nan  0.28276229 -1.1789878   1.52858149]\n",
            " [        nan         nan  0.28276229 -1.1789878   1.52858149]\n",
            " [        nan         nan  0.28276229 -1.1789878   1.52858149]\n",
            " [        nan         nan  0.28276229 -1.1789878   1.52858149]]\n",
            "[[        nan         nan  0.28276229 -1.1789878   1.52858149]\n",
            " [        nan         nan  0.28276229 -1.1789878   1.52858149]\n",
            " [        nan         nan  0.28276229 -1.1789878   1.52858149]\n",
            " [        nan         nan  0.28276229 -1.1789878   1.52858149]\n",
            " [        nan         nan  0.28276229 -1.1789878   1.52858149]]\n",
            "\n",
            "ACC: nan\n",
            "Accuracies for each task: [        nan         nan  0.28276229 -1.1789878   1.52858149]\n",
            "\n",
            "BWT: nan\n",
            "BWT for each task: [nan nan  0.  0.  0.]\n",
            "\n"
          ],
          "name": "stdout"
        }
      ]
    },
    {
      "cell_type": "markdown",
      "metadata": {
        "execution": {},
        "id": "Xo26gGYEbH2z"
      },
      "source": [
        "---\n",
        "# Section 5: Continual Learning Applications\n",
        "\n",
        "*Time estimate: ~10mins*"
      ]
    },
    {
      "cell_type": "markdown",
      "metadata": {
        "execution": {},
        "id": "0QyGRiEebH2z"
      },
      "source": [
        "Continual Learning with deep architectures may help us develop sustainable AI systems that can efficiently improve their skills and knowledge over time, adapting to ever-changing environments and learning objectives. In this section we will discuss about intriguing real-world applications that would highly benefit from recent advances in Continual Learning."
      ]
    },
    {
      "cell_type": "code",
      "metadata": {
        "cellView": "form",
        "execution": {},
        "colab": {
          "base_uri": "https://localhost:8080/",
          "height": 581,
          "referenced_widgets": [
            "a7abd74eb02e4edaa25639cdb8b8dd04",
            "57a4f9c903ba466987fa786eb3353b0f",
            "0b48a3b9b117473a92f00401f5bbd34f",
            "dbbfd1454d4b4a27a51ac6dad50628bf",
            "c7e4cdd2f4f24f1480d283b36fc736da",
            "cb12824c82174435ac408202cc3479c3"
          ]
        },
        "id": "ZG2AlFWcbH20",
        "outputId": "b02b4a7c-682b-4f73-8809-f22b64282cb7"
      },
      "source": [
        "# @title Video 5: Continual Learning Applications\n",
        "from ipywidgets import widgets\n",
        "\n",
        "out2 = widgets.Output()\n",
        "with out2:\n",
        "  from IPython.display import IFrame\n",
        "  class BiliVideo(IFrame):\n",
        "    def __init__(self, id, page=1, width=400, height=300, **kwargs):\n",
        "      self.id=id\n",
        "      src = \"https://player.bilibili.com/player.html?bvid={0}&page={1}\".format(id, page)\n",
        "      super(BiliVideo, self).__init__(src, width, height, **kwargs)\n",
        "\n",
        "  video = BiliVideo(id=f\"BV1xw41197Dm\", width=854, height=480, fs=1)\n",
        "  print(\"Video available at https://www.bilibili.com/video/{0}\".format(video.id))\n",
        "  display(video)\n",
        "\n",
        "out1 = widgets.Output()\n",
        "with out1:\n",
        "  from IPython.display import YouTubeVideo\n",
        "  video = YouTubeVideo(id=f\"vNcJ4Ygaxio\", width=854, height=480, fs=1, rel=0)\n",
        "  print(\"Video available at https://youtube.com/watch?v=\" + video.id)\n",
        "  display(video)\n",
        "\n",
        "out = widgets.Tab([out1, out2])\n",
        "out.set_title(0, 'Youtube')\n",
        "out.set_title(1, 'Bilibili')\n",
        "\n",
        "# add event to airtable\n",
        "atform.add_event('Video 5: Continual Learning Applications')\n",
        "\n",
        "display(out)"
      ],
      "execution_count": 55,
      "outputs": [
        {
          "output_type": "display_data",
          "data": {
            "application/vnd.jupyter.widget-view+json": {
              "model_id": "a7abd74eb02e4edaa25639cdb8b8dd04",
              "version_minor": 0,
              "version_major": 2
            },
            "text/plain": [
              "Tab(children=(Output(), Output()), _titles={'0': 'Youtube', '1': 'Bilibili'})"
            ]
          },
          "metadata": {}
        }
      ]
    },
    {
      "cell_type": "markdown",
      "metadata": {
        "execution": {},
        "id": "lxAGwM3zbH20"
      },
      "source": [
        "**CORe50** is an interesting real-world video dataset composed of 50 domestic objects belonging to 10 different categories and specifically designed for Continual Learning. You can find more information about the dataset and benchmark in its [official website](https://vlomonaco.github.io/core50). \n",
        "\n",
        "Here we will use the [Avalanche library](https://avalanche.continualai.org) to automatically download and use this dataset. Avalanche allows you to explore more challenging datasets and tasks to bring your continual learning algorithms into the real-world!"
      ]
    },
    {
      "cell_type": "code",
      "metadata": {
        "cellView": "form",
        "execution": {},
        "colab": {
          "base_uri": "https://localhost:8080/"
        },
        "id": "I0-x6gOGbH21",
        "outputId": "58561401-1c04-4bd4-d8e4-5a93b96983da"
      },
      "source": [
        "# @title Download the repo and import the modules\n",
        "import sys, requests, tarfile, os\n",
        "# !pip install git+https://github.com/ContinualAI/avalanche.git --quiet\n",
        "\n",
        "# We download from OSF to ensure stability of the download.\n",
        "REPO_PATH = \"avalanche\"\n",
        "url = \"https://osf.io/k3gp6/download\"\n",
        "\n",
        "if not os.path.exists(REPO_PATH):\n",
        "  r = requests.get(url, allow_redirects=True)\n",
        "  fname = REPO_PATH + '.tar.gz'\n",
        "  with open(fname, 'wb') as fd:\n",
        "    fd.write(r.content)\n",
        "\n",
        "!pip install avalanche.tar.gz --quiet"
      ],
      "execution_count": 56,
      "outputs": [
        {
          "output_type": "stream",
          "text": [
            "  Installing build dependencies ... \u001b[?25l\u001b[?25hdone\n",
            "  Getting requirements to build wheel ... \u001b[?25l\u001b[?25hdone\n",
            "    Preparing wheel metadata ... \u001b[?25l\u001b[?25hdone\n",
            "\u001b[K     |████████████████████████████████| 531 kB 4.3 MB/s \n",
            "\u001b[K     |████████████████████████████████| 269 kB 46.5 MB/s \n",
            "\u001b[K     |████████████████████████████████| 1.6 MB 52.6 MB/s \n",
            "\u001b[K     |████████████████████████████████| 170 kB 42.7 MB/s \n",
            "\u001b[K     |████████████████████████████████| 133 kB 54.2 MB/s \n",
            "\u001b[K     |████████████████████████████████| 97 kB 6.3 MB/s \n",
            "\u001b[K     |████████████████████████████████| 63 kB 1.6 MB/s \n",
            "\u001b[?25h  Building wheel for avalanche-lib (PEP 517) ... \u001b[?25l\u001b[?25hdone\n",
            "  Building wheel for gputil (setup.py) ... \u001b[?25l\u001b[?25hdone\n",
            "  Building wheel for quadprog (setup.py) ... \u001b[?25l\u001b[?25hdone\n",
            "  Building wheel for subprocess32 (setup.py) ... \u001b[?25l\u001b[?25hdone\n",
            "  Building wheel for pathtools (setup.py) ... \u001b[?25l\u001b[?25hdone\n"
          ],
          "name": "stdout"
        }
      ]
    },
    {
      "cell_type": "code",
      "metadata": {
        "cellView": "form",
        "execution": {},
        "id": "OZiqY0IMbH22"
      },
      "source": [
        "# @title Download the data\n",
        "\n",
        "import zipfile, io, os\n",
        "\n",
        "# To ensure that the data will be downloaded, we use our space on OSF.\n",
        "# Original locations:\n",
        "# Data core50: http://vps.continualai.org/data/core50_32x32.zip\n",
        "# Other modules:\n",
        "# 1. https://vlomonaco.github.io/core50/data/batches_filelists_NICv2.zip\n",
        "# 2. https://vlomonaco.github.io/core50/data/batches_filelists.zip\n",
        "# 3. https://vlomonaco.github.io/core50/data/paths.pkl\n",
        "# 4. https://vlomonaco.github.io/core50/data/LUP.pkl\n",
        "# 5. https://vlomonaco.github.io/core50/data/labels.pkl\n",
        "# 6. https://vlomonaco.github.io/core50/data/labels2names.pkl\n",
        "\n",
        "fname = \"core50\"\n",
        "urls = [\"https://osf.io/x3zvr/download\",\n",
        "        \"https://osf.io/37nbk/download\",\n",
        "        \"https://osf.io/sy86n/download\",\n",
        "        \"https://osf.io/8hds7/download\"]\n",
        "\n",
        "\n",
        "for url in urls:\n",
        "  r = requests.get(url, allow_redirects=True)\n",
        "  z = zipfile.ZipFile(io.BytesIO(r.content))\n",
        "  z.extractall(fname)"
      ],
      "execution_count": 57,
      "outputs": []
    },
    {
      "cell_type": "markdown",
      "metadata": {
        "execution": {},
        "id": "OgG8cByrbH22"
      },
      "source": [
        "The scenario \"New Instances\" (`scenario=ni`) corresponds to the previously introduced Domain-Incremental setting and it’s based on the idea of encountering images of the same classes for every incremental batch of data (or experience if you will). The `mini=True` option downloads data 32x32 instead of the original 128x128.\n",
        "\n",
        "**Note:** We download the data from OSF. Due to space limitations on OSF, if you want to use the 128x18 dataset, you have to dpownload it via setting `mini=False`.\n",
        "\n",
        "Original locations:\n",
        "* 32x32 data: http://vps.continualai.org/data/core50_32x32.zip\n",
        "* 128x128 data: "
      ]
    },
    {
      "cell_type": "code",
      "metadata": {
        "execution": {},
        "colab": {
          "base_uri": "https://localhost:8080/"
        },
        "id": "vwtgM_Y9bH24",
        "outputId": "89f5273d-f04d-4471-849c-f80d37da8696"
      },
      "source": [
        "from avalanche.benchmarks.classic import CORe50\n",
        "benchmark = CORe50(dataset_root='core50', scenario=\"ni\", mini=True)"
      ],
      "execution_count": 58,
      "outputs": [
        {
          "output_type": "stream",
          "text": [
            "Loading labels...\n",
            "Loading LUP...\n",
            "Loading labels names...\n",
            "Files already downloaded and verified\n"
          ],
          "name": "stdout"
        }
      ]
    },
    {
      "cell_type": "code",
      "metadata": {
        "execution": {},
        "colab": {
          "base_uri": "https://localhost:8080/"
        },
        "id": "wmeOb3d9bH24",
        "outputId": "ef97257c-badf-48eb-91e9-d829ef46a51e"
      },
      "source": [
        "for exp in benchmark.train_stream:\n",
        "  print(exp.classes_in_this_experience)"
      ],
      "execution_count": 59,
      "outputs": [
        {
          "output_type": "stream",
          "text": [
            "[0, 1, 2, 3, 4, 5, 6, 7, 8, 9, 10, 11, 12, 13, 14, 15, 16, 17, 18, 19, 20, 21, 22, 23, 24, 25, 26, 27, 28, 29, 30, 31, 32, 33, 34, 35, 36, 37, 38, 39, 40, 41, 42, 43, 44, 45, 46, 47, 48, 49]\n",
            "[0, 1, 2, 3, 4, 5, 6, 7, 8, 9, 10, 11, 12, 13, 14, 15, 16, 17, 18, 19, 20, 21, 22, 23, 24, 25, 26, 27, 28, 29, 30, 31, 32, 33, 34, 35, 36, 37, 38, 39, 40, 41, 42, 43, 44, 45, 46, 47, 48, 49]\n",
            "[0, 1, 2, 3, 4, 5, 6, 7, 8, 9, 10, 11, 12, 13, 14, 15, 16, 17, 18, 19, 20, 21, 22, 23, 24, 25, 26, 27, 28, 29, 30, 31, 32, 33, 34, 35, 36, 37, 38, 39, 40, 41, 42, 43, 44, 45, 46, 47, 48, 49]\n",
            "[0, 1, 2, 3, 4, 5, 6, 7, 8, 9, 10, 11, 12, 13, 14, 15, 16, 17, 18, 19, 20, 21, 22, 23, 24, 25, 26, 27, 28, 29, 30, 31, 32, 33, 34, 35, 36, 37, 38, 39, 40, 41, 42, 43, 44, 45, 46, 47, 48, 49]\n",
            "[0, 1, 2, 3, 4, 5, 6, 7, 8, 9, 10, 11, 12, 13, 14, 15, 16, 17, 18, 19, 20, 21, 22, 23, 24, 25, 26, 27, 28, 29, 30, 31, 32, 33, 34, 35, 36, 37, 38, 39, 40, 41, 42, 43, 44, 45, 46, 47, 48, 49]\n",
            "[0, 1, 2, 3, 4, 5, 6, 7, 8, 9, 10, 11, 12, 13, 14, 15, 16, 17, 18, 19, 20, 21, 22, 23, 24, 25, 26, 27, 28, 29, 30, 31, 32, 33, 34, 35, 36, 37, 38, 39, 40, 41, 42, 43, 44, 45, 46, 47, 48, 49]\n",
            "[0, 1, 2, 3, 4, 5, 6, 7, 8, 9, 10, 11, 12, 13, 14, 15, 16, 17, 18, 19, 20, 21, 22, 23, 24, 25, 26, 27, 28, 29, 30, 31, 32, 33, 34, 35, 36, 37, 38, 39, 40, 41, 42, 43, 44, 45, 46, 47, 48, 49]\n",
            "[0, 1, 2, 3, 4, 5, 6, 7, 8, 9, 10, 11, 12, 13, 14, 15, 16, 17, 18, 19, 20, 21, 22, 23, 24, 25, 26, 27, 28, 29, 30, 31, 32, 33, 34, 35, 36, 37, 38, 39, 40, 41, 42, 43, 44, 45, 46, 47, 48, 49]\n"
          ],
          "name": "stdout"
        }
      ]
    },
    {
      "cell_type": "markdown",
      "metadata": {
        "execution": {},
        "id": "aaZHMYI6bH25"
      },
      "source": [
        "## Exercise 5: Explore the challenging CORe50 scenarios!\n",
        "\n",
        "CORe50 offers a number of interesting preset scenarios already implemented and available to you through Avalanche. \n",
        "\n",
        "In this exercise try to explore the different scenarios offered (like the challenging NICv2-391) and possibly even apply what you've previously learned (like a replay approach) to get the best accuracy you can!"
      ]
    },
    {
      "cell_type": "markdown",
      "metadata": {
        "execution": {},
        "id": "RM1n14yEbH25"
      },
      "source": [
        "---\n",
        "# Summary\n",
        "\n",
        "Well, you did it! Congratulations on making it through your (first?) Continual Learning codebase. As mentioned, this is only the tip of the iceberg, and there's a lot more you can dig into if you want to explore. \n",
        "\n",
        "If you do want to explore, one of the best places to learn more is [ContinualAI.org](https://www.continualai.org/about_us/). There, you can interact with a large portion of the continual learning community, and find resources such as a [database](https://www.continualai.org/papers/) of relevant papers, [lectures](https://www.youtube.com/c/continualai) from researchers discussing their papers, [additional tutorials](https://github.com/ContinualAI/colab), and much [more](https://www.continualai.org/lab/). You might also be interested in [Avalanche](https://avalanche.continualai.org/), the largest  library for continual learning.  \n",
        "\n",
        "MILA also has a wonderful [website](https://sites.google.com/view/ift6760-b2021) with open Continual Learning course materials, by Dr. Irina Rish.\n",
        "\n",
        "Further questions? Feel free to reach out to [Keiland](https://www.kwcooper.xyz/contact)!"
      ]
    },
    {
      "cell_type": "code",
      "metadata": {
        "cellView": "form",
        "execution": {},
        "colab": {
          "base_uri": "https://localhost:8080/",
          "height": 158
        },
        "id": "wS84ieUlbH25",
        "outputId": "e6000a02-97fa-4c79-b12f-93c45d7bee59"
      },
      "source": [
        "# @title Airtable Submission Link\n",
        "from IPython import display as IPydisplay\n",
        "IPydisplay.HTML(\n",
        "   f\"\"\"\n",
        " <div>\n",
        "   <a href= \"{atform.url()}\" target=\"_blank\">\n",
        "   <img src=\"https://github.com/NeuromatchAcademy/course-content-dl/blob/main/tutorials/static/AirtableSubmissionButton.png?raw=1\"\n",
        " alt=\"button link to Airtable\" style=\"width:410px\"></a>\n",
        "   </div>\"\"\" )"
      ],
      "execution_count": 60,
      "outputs": [
        {
          "output_type": "execute_result",
          "data": {
            "text/html": [
              "\n",
              " <div>\n",
              "   <a href= \"https://portal.neuromatchacademy.org/api/redirect/to/9c55f6cb-cdf9-4429-ac1c-ec44fe64c303?data=eyJmb3JtX2lkIjogImFwcG43VmRQUnNlU29NWEVHIiwgInRhYmxlX25hbWUiOiAiVzNENF9UMSIsICJhbnN3ZXJzIjoge30sICJldmVudHMiOiBbeyJldmVudCI6ICJpbml0IiwgInRzIjogMTYyOTQxMzIwMi41NjQ3ODIxfSwgeyJldmVudCI6ICJWaWRlbyAwOiBPdmVydmlldyBvZiB0aGUgc2Vzc2lvbiBhbmQgaW50cm9kdWN0aW9uIHRvIGNvbnRpbnVhbCBsZWFybmluZyIsICJ0cyI6IDE2Mjk0MTMyMTUuNzYwMDM2NX0sIHsiZXZlbnQiOiAiVmlkZW8gMTogSW50cm9kdWN0aW9uIHRvIGNhdGFzdHJvcGhpYyBmb3JnZXR0aW5nIiwgInRzIjogMTYyOTQxMzIxNS44NDc1NjUyfSwgeyJldmVudCI6ICJWaWRlbyAyOiBDTCBzdHJhdGVnaWVzIiwgInRzIjogMTYyOTQxMzI2OS40MDc3MDIyfSwgeyJldmVudCI6ICJWaWRlbyAzOiBCZW5jaG1hcmtzIGFuZCBkaWZmZXJlbnQgdHlwZXMgb2YgY29udGludWFsIGxlYXJuaW5nIiwgInRzIjogMTYyOTQxMzI3OS41OTI2NTkyfSwgeyJldmVudCI6ICJWaWRlbyA0OiBDb250aW51YWwgTGVhcm5pbmcgRXZhbHVhdGlvbiIsICJ0cyI6IDE2Mjk0MTMzNTcuMzkyODQ4fSwgeyJldmVudCI6ICJWaWRlbyA1OiBDb250aW51YWwgTGVhcm5pbmcgQXBwbGljYXRpb25zIiwgInRzIjogMTYyOTQxMzYwMS42ODg1Mjk1fSwgeyJldmVudCI6ICJ1cmwgZ2VuZXJhdGVkIiwgInRzIjogMTYyOTQxMzc4MS4zNDA4OTI2fV19\" target=\"_blank\">\n",
              "   <img src=\"https://github.com/NeuromatchAcademy/course-content-dl/blob/main/tutorials/static/AirtableSubmissionButton.png?raw=1\"\n",
              " alt=\"button link to Airtable\" style=\"width:410px\"></a>\n",
              "   </div>"
            ],
            "text/plain": [
              "<IPython.core.display.HTML object>"
            ]
          },
          "metadata": {},
          "execution_count": 60
        }
      ]
    }
  ]
}