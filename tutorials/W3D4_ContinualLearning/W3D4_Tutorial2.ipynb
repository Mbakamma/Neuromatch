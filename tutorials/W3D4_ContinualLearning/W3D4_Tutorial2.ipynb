{
  "cells": [
    {
      "cell_type": "markdown",
      "metadata": {
        "id": "view-in-github",
        "colab_type": "text"
      },
      "source": [
        "<a href=\"https://colab.research.google.com/github/NeuromatchAcademy/course-content-dl/blob/w3d4_fix/tutorials/W3D4_ContinualLearning/W3D4_Tutorial2.ipynb\" target=\"_parent\"><img src=\"https://colab.research.google.com/assets/colab-badge.svg\" alt=\"Open In Colab\"/></a>"
      ]
    },
    {
      "cell_type": "markdown",
      "metadata": {
        "execution": {},
        "id": "Xhnr0Ps89L02"
      },
      "source": [
        "# Tutorial 2: Out-of-distribution (OOD) Learning\n",
        "\n",
        "**Week 3, Day 4: Continual Learning**\n",
        "\n",
        "**By Neuromatch Academy**\n",
        "\n",
        "__Content creators:__  Avishree Khare, Het Shah, Joshua Vogelstein\n",
        "\n",
        "__Content reviewers:__ Arush Tagade, Jeremy Forest, Kelson Shilling-Scrivo\n",
        "\n",
        "__Content editors:__ Anoop Kulkarni, Spiros Chavlis\n",
        "\n",
        "__Production editors:__ Deepak Raya, Spiros Chavlis\n",
        " \n",
        "\n"
      ]
    },
    {
      "cell_type": "markdown",
      "metadata": {
        "execution": {},
        "id": "scjN28lM9L08"
      },
      "source": [
        "**Our 2021 Sponsors, including Presenting Sponsor Facebook Reality Labs**\n",
        "\n",
        "<p align='center'><img src='https://github.com/NeuromatchAcademy/widgets/blob/master/sponsors.png?raw=True'/></p>"
      ]
    },
    {
      "cell_type": "markdown",
      "metadata": {
        "execution": {},
        "id": "z3FnNWvz9L09"
      },
      "source": [
        "---\n",
        "# Tutorial Objectives\n",
        "\n",
        "Deep Learning has seen tremendous growth in recent years thanks to more data, more compute and *very* deep neural networks. Although these networks perform extremely well on the specified task, they fail to generalize to newer tasks. \n",
        "\n",
        "In this tutorial, we will explore Out-of-distribution (OOD) Learning and the several OOD paradigms that have been gaining popularity in recent years. We will understand what OOD really means and how it is different from anything else that we've looked at so far. We'll also take a look at Transfer Learning, Multi-task Learning and Meta-Learning which aim to facilitate OOD Learning in different ways. Here is a list of topics that we would be covering in this tutorial:\n",
        "\n",
        "1. Introduction to OOD Learning\n",
        "2. Transfer Learning\n",
        "3. Multi-Task Learning\n",
        "4. Meta-Learning"
      ]
    },
    {
      "cell_type": "code",
      "execution_count": 1,
      "metadata": {
        "cellView": "form",
        "execution": {},
        "id": "Z_Bxy9tO9L0-",
        "outputId": "c9274f24-ba0f-4aea-fc9b-26caddcb4402",
        "colab": {
          "base_uri": "https://localhost:8080/",
          "height": 502
        }
      },
      "outputs": [
        {
          "output_type": "execute_result",
          "data": {
            "text/html": [
              "\n",
              "        <iframe\n",
              "            width=\"854\"\n",
              "            height=\"480\"\n",
              "            src=\"https://mfr.ca-1.osf.io/render?url=https://osf.io/dqnm6/?direct%26mode=render%26action=download%26mode=render\"\n",
              "            frameborder=\"0\"\n",
              "            allowfullscreen\n",
              "        ></iframe>\n",
              "        "
            ],
            "text/plain": [
              "<IPython.lib.display.IFrame at 0x7f8b153907d0>"
            ]
          },
          "metadata": {},
          "execution_count": 1
        }
      ],
      "source": [
        "# @title Tutorial slides\n",
        "\n",
        "from IPython.display import IFrame\n",
        "IFrame(src=f\"https://mfr.ca-1.osf.io/render?url=https://osf.io/dqnm6/?direct%26mode=render%26action=download%26mode=render\", width=854, height=480)"
      ]
    },
    {
      "cell_type": "markdown",
      "metadata": {
        "execution": {},
        "id": "-YhRG4Ww9L1A"
      },
      "source": [
        "These are the slides for all videos in this tutorial. If you want to locally download the slides, click [here](https://osf.io/dqnm6/download)."
      ]
    },
    {
      "cell_type": "markdown",
      "metadata": {
        "execution": {},
        "id": "2RO9zlaU9L1A"
      },
      "source": [
        "---\n",
        "# Setup"
      ]
    },
    {
      "cell_type": "code",
      "execution_count": 2,
      "metadata": {
        "cellView": "form",
        "execution": {},
        "id": "eJS_PX6_9L1B",
        "outputId": "c7844aa1-331a-4156-c35b-25e05e01d13e",
        "colab": {
          "base_uri": "https://localhost:8080/"
        }
      },
      "outputs": [
        {
          "output_type": "stream",
          "name": "stdout",
          "text": [
            "\u001b[K     |█████████████                   | 834.1 MB 1.3 MB/s eta 0:15:05tcmalloc: large alloc 1147494400 bytes == 0x55c8bf15a000 @  0x7fef82028615 0x55c884b344cc 0x55c884c1447a 0x55c884b372ed 0x55c884c28e1d 0x55c884baae99 0x55c884ba59ee 0x55c884b38bda 0x55c884baad00 0x55c884ba59ee 0x55c884b38bda 0x55c884ba7737 0x55c884c29c66 0x55c884ba6daf 0x55c884c29c66 0x55c884ba6daf 0x55c884c29c66 0x55c884ba6daf 0x55c884b39039 0x55c884b7c409 0x55c884b37c52 0x55c884baac25 0x55c884ba59ee 0x55c884b38bda 0x55c884ba7737 0x55c884ba59ee 0x55c884b38bda 0x55c884ba6915 0x55c884b38afa 0x55c884ba6c0d 0x55c884ba59ee\n",
            "\u001b[K     |████████████████▌               | 1055.7 MB 1.2 MB/s eta 0:13:25tcmalloc: large alloc 1434370048 bytes == 0x55c9037b0000 @  0x7fef82028615 0x55c884b344cc 0x55c884c1447a 0x55c884b372ed 0x55c884c28e1d 0x55c884baae99 0x55c884ba59ee 0x55c884b38bda 0x55c884baad00 0x55c884ba59ee 0x55c884b38bda 0x55c884ba7737 0x55c884c29c66 0x55c884ba6daf 0x55c884c29c66 0x55c884ba6daf 0x55c884c29c66 0x55c884ba6daf 0x55c884b39039 0x55c884b7c409 0x55c884b37c52 0x55c884baac25 0x55c884ba59ee 0x55c884b38bda 0x55c884ba7737 0x55c884ba59ee 0x55c884b38bda 0x55c884ba6915 0x55c884b38afa 0x55c884ba6c0d 0x55c884ba59ee\n",
            "\u001b[K     |█████████████████████           | 1336.2 MB 1.2 MB/s eta 0:09:39tcmalloc: large alloc 1792966656 bytes == 0x55c8885e2000 @  0x7fef82028615 0x55c884b344cc 0x55c884c1447a 0x55c884b372ed 0x55c884c28e1d 0x55c884baae99 0x55c884ba59ee 0x55c884b38bda 0x55c884baad00 0x55c884ba59ee 0x55c884b38bda 0x55c884ba7737 0x55c884c29c66 0x55c884ba6daf 0x55c884c29c66 0x55c884ba6daf 0x55c884c29c66 0x55c884ba6daf 0x55c884b39039 0x55c884b7c409 0x55c884b37c52 0x55c884baac25 0x55c884ba59ee 0x55c884b38bda 0x55c884ba7737 0x55c884ba59ee 0x55c884b38bda 0x55c884ba6915 0x55c884b38afa 0x55c884ba6c0d 0x55c884ba59ee\n",
            "\u001b[K     |██████████████████████████▌     | 1691.1 MB 1.2 MB/s eta 0:04:52tcmalloc: large alloc 2241208320 bytes == 0x55c8f33ca000 @  0x7fef82028615 0x55c884b344cc 0x55c884c1447a 0x55c884b372ed 0x55c884c28e1d 0x55c884baae99 0x55c884ba59ee 0x55c884b38bda 0x55c884baad00 0x55c884ba59ee 0x55c884b38bda 0x55c884ba7737 0x55c884c29c66 0x55c884ba6daf 0x55c884c29c66 0x55c884ba6daf 0x55c884c29c66 0x55c884ba6daf 0x55c884b39039 0x55c884b7c409 0x55c884b37c52 0x55c884baac25 0x55c884ba59ee 0x55c884b38bda 0x55c884ba7737 0x55c884ba59ee 0x55c884b38bda 0x55c884ba6915 0x55c884b38afa 0x55c884ba6c0d 0x55c884ba59ee\n",
            "\u001b[K     |████████████████████████████████| 2041.3 MB 1.2 MB/s eta 0:00:01tcmalloc: large alloc 2041348096 bytes == 0x55c978d2c000 @  0x7fef820271e7 0x55c884b6a067 0x55c884b344cc 0x55c884c1447a 0x55c884b372ed 0x55c884c28e1d 0x55c884baae99 0x55c884ba59ee 0x55c884b38bda 0x55c884ba6c0d 0x55c884ba59ee 0x55c884b38bda 0x55c884ba6c0d 0x55c884ba59ee 0x55c884b38bda 0x55c884ba6c0d 0x55c884ba59ee 0x55c884b38bda 0x55c884ba6c0d 0x55c884ba59ee 0x55c884b38bda 0x55c884ba6c0d 0x55c884b38afa 0x55c884ba6c0d 0x55c884ba59ee 0x55c884b38bda 0x55c884ba7737 0x55c884ba59ee 0x55c884b38bda 0x55c884ba7737 0x55c884ba59ee\n",
            "tcmalloc: large alloc 2551685120 bytes == 0x55c9f27f4000 @  0x7fef82028615 0x55c884b344cc 0x55c884c1447a 0x55c884b372ed 0x55c884c28e1d 0x55c884baae99 0x55c884ba59ee 0x55c884b38bda 0x55c884ba6c0d 0x55c884ba59ee 0x55c884b38bda 0x55c884ba6c0d 0x55c884ba59ee 0x55c884b38bda 0x55c884ba6c0d 0x55c884ba59ee 0x55c884b38bda 0x55c884ba6c0d 0x55c884ba59ee 0x55c884b38bda 0x55c884ba6c0d 0x55c884b38afa 0x55c884ba6c0d 0x55c884ba59ee 0x55c884b38bda 0x55c884ba7737 0x55c884ba59ee 0x55c884b38bda 0x55c884ba7737 0x55c884ba59ee 0x55c884b39271\n",
            "\u001b[K     |████████████████████████████████| 2041.3 MB 5.8 kB/s \n",
            "\u001b[K     |████████████████████████████████| 23.2 MB 1.2 MB/s \n",
            "\u001b[K     |████████████████████████████████| 1.9 MB 7.8 MB/s \n",
            "\u001b[31mERROR: pip's dependency resolver does not currently take into account all the packages that are installed. This behaviour is the source of the following dependency conflicts.\n",
            "torchtext 0.11.0 requires torch==1.10.0, but you have torch 1.9.0+cu111 which is incompatible.\u001b[0m\n",
            "\u001b[?25h  Building wheel for evaltools (setup.py) ... \u001b[?25l\u001b[?25hdone\n"
          ]
        }
      ],
      "source": [
        "# @title Install dependencies\n",
        "!pip install Pillow --quiet\n",
        "!pip install pandas --quiet\n",
        "!pip3 install torch==1.9.0+cu111 torchvision==0.10.0+cu111 torchaudio==0.9.0 -f https://download.pytorch.org/whl/torch_stable.html  --quiet\n",
        "\n",
        "!pip install git+https://github.com/NeuromatchAcademy/evaltools --quiet\n",
        "from evaltools.airtable import AirtableForm\n",
        "\n",
        "# generate airtable form\n",
        "atform = AirtableForm('appn7VdPRseSoMXEG','W3D4_T2','https://portal.neuromatchacademy.org/api/redirect/to/1d7fcd5d-f1e9-4ac5-ae58-b0ade54a4f87')"
      ]
    },
    {
      "cell_type": "code",
      "execution_count": 3,
      "metadata": {
        "cellView": "both",
        "execution": {},
        "id": "1PTO6dDp9L1C"
      },
      "outputs": [],
      "source": [
        "# Imports\n",
        "import os\n",
        "import copy\n",
        "import time\n",
        "import torch\n",
        "import torchvision\n",
        "\n",
        "import numpy as np\n",
        "import matplotlib.pyplot as plt\n",
        "\n",
        "import torch.nn as nn\n",
        "import torch.optim as optim\n",
        "import torch.nn.functional as F\n",
        "from torch.optim import lr_scheduler\n",
        "from torch.utils.data import Dataset, DataLoader, random_split\n",
        "\n",
        "from torchvision.datasets import CelebA, Omniglot\n",
        "from torchvision import datasets, models, transforms"
      ]
    },
    {
      "cell_type": "code",
      "execution_count": 4,
      "metadata": {
        "cellView": "form",
        "execution": {},
        "id": "J7QMpZUd9L1E"
      },
      "outputs": [],
      "source": [
        "# @title Figure settings\n",
        "import ipywidgets as widgets       # interactive display\n",
        "%matplotlib inline\n",
        "%config InlineBackend.figure_format = 'retina'\n",
        "plt.style.use(\"https://raw.githubusercontent.com/NeuromatchAcademy/content-creation/main/nma.mplstyle\")"
      ]
    },
    {
      "cell_type": "code",
      "execution_count": 5,
      "metadata": {
        "cellView": "form",
        "execution": {},
        "id": "gKFUCZ1I9L1F"
      },
      "outputs": [],
      "source": [
        "# @title Plotting functions\n",
        "\n",
        "def visualize_siamese_sample(sample):\n",
        "  to_PIL = transforms.ToPILImage()\n",
        "  fig, axs = plt.subplots(1, 2, figsize=(8, 10))\n",
        "  x1, x2, y = sample\n",
        "  label = y.item()\n",
        "  similarity = \"Same character\" if label == 1.0 else \"Different characters\"\n",
        "  print(f\"-------------------- Label: {label} ({similarity}) -------------------\")\n",
        "  axs[0].imshow(to_PIL(x1), cmap='gray')\n",
        "  axs[1].imshow(to_PIL(x2), cmap='gray')\n",
        "  # axs[0].set_title(f'Label: {label} ({similarity})')\n",
        "\n",
        "  for i in range(2):\n",
        "    axs[i].xaxis.set_ticks([])\n",
        "    axs[i].yaxis.set_ticks([])\n",
        "\n",
        "  plt.tight_layout()\n",
        "  plt.show()\n",
        "\n",
        "\n",
        "def visualize_mtfl_sample(sample):\n",
        "  to_PIL = transforms.ToPILImage()\n",
        "  img, labels = sample\n",
        "\n",
        "  fig, ax = plt.subplots()\n",
        "  ax.xaxis.set_ticks([])\n",
        "  ax.yaxis.set_ticks([])\n",
        "  print(f\"Labels: {labels.tolist()}\")\n",
        "  ax.imshow(to_PIL(img))\n",
        "  plt.show()\n",
        "\n",
        "\n",
        "def visualize_one_shot_sample(sample):\n",
        "  to_PIL = transforms.ToPILImage()\n",
        "  query_img, support_imgs, support_labels, similarity = sample\n",
        "  n_rows = 1\n",
        "  n_cols = len(support_imgs) + 1\n",
        "  fig, axs = plt.subplots(n_rows, n_cols, figsize=(n_cols*4, 10))\n",
        "\n",
        "  axs[0].imshow(to_PIL(query_img), cmap='gray')\n",
        "  axs[0].set_title('Query Image')\n",
        "  axs[0].xaxis.set_ticks([])\n",
        "  axs[0].yaxis.set_ticks([])\n",
        "\n",
        "  for i, (s_img, s_label) in enumerate(zip(support_imgs, support_labels)):\n",
        "    axs[i+1].imshow(to_PIL(s_img), cmap='gray')\n",
        "    label = s_label.item()\n",
        "    similarity = \"Same character\" if label == 1.0 else \"Different characters\"\n",
        "    axs[i+1].set_title(f\"Support Image {i+1} \\n \"\n",
        "                       f\"Label: {s_label.item()} ({similarity})\")\n",
        "    axs[i+1].xaxis.set_ticks([])\n",
        "    axs[i+1].yaxis.set_ticks([])\n",
        "\n",
        "  plt.tight_layout()\n",
        "  plt.show()"
      ]
    },
    {
      "cell_type": "code",
      "execution_count": 6,
      "metadata": {
        "cellView": "form",
        "execution": {},
        "id": "aRhneFJf9L1H"
      },
      "outputs": [],
      "source": [
        "# @title Dataset Definitions and Helper Functions\n",
        "\n",
        "# @markdown `pandas` and `PIL` libraries should be installed.\n",
        "import pandas as pd\n",
        "from PIL import Image\n",
        "\n",
        "\"\"\"\n",
        "Datasets for N-way 1-shot classification on the Omniglot Dataset\n",
        "\"\"\"\n",
        "\n",
        "class SiameseOmniglotDataset(Dataset):\n",
        "  def __init__(self, num_samples=10000,\n",
        "               data_transforms=transforms.ToTensor(), download=True):\n",
        "    self.dataset = Omniglot(root='./data/',\n",
        "                            background=True,\n",
        "                            download=download,\n",
        "                            transform=data_transforms)\n",
        "    self.num_samples = num_samples\n",
        "    self.num_classes = len(self.dataset._characters)\n",
        "    self.classes = range(self.num_classes)\n",
        "    self.instances_per_class = dict()\n",
        "    self.get_instances_per_class()\n",
        "\n",
        "  def __getitem__(self, idx):\n",
        "    if idx % 2 == 0:\n",
        "      return self.get_instances_from_same_class()\n",
        "    return self.get_instances_from_diff_classes()\n",
        "\n",
        "  def get_instances_from_same_class(self):\n",
        "    c = random.randint(0, self.num_classes-1)\n",
        "    [ch_1, ch_2] = random.sample(self.instances_per_class[c], 2)\n",
        "    return ch_1, ch_2, torch.tensor([1.0])\n",
        "\n",
        "  def get_instances_from_diff_classes(self):\n",
        "    [c1, c2] = random.sample(self.classes, 2)\n",
        "    [ch_1] = random.sample(self.instances_per_class[c1], 1)\n",
        "    [ch_2] = random.sample(self.instances_per_class[c2], 1)\n",
        "    return ch_1, ch_2, torch.tensor([0.0])\n",
        "\n",
        "  def get_random_instance(self):\n",
        "    ids = np.random.randint(0, len(self.dataset), 2)\n",
        "    character_1 = self.dataset[ids[0]][0]\n",
        "    character_2 = self.dataset[ids[1]][0]\n",
        "    label_1 = self.dataset[ids[0]][1]\n",
        "    label_2 = self.dataset[ids[1]][1]\n",
        "    similarity = torch.tensor([label_1 == label_2], dtype=torch.float)\n",
        "    return character_1, character_2, similarity\n",
        "\n",
        "  def __len__(self):\n",
        "    return self.num_samples\n",
        "\n",
        "  def get_instances_per_class(self):\n",
        "    for (image, label) in self.dataset:\n",
        "      if label in self.instances_per_class:\n",
        "        self.instances_per_class[label].append(image)\n",
        "      else:\n",
        "        self.instances_per_class[label] = [image]\n",
        "\n",
        "\n",
        "class NWayOneShotOmniglotDataset(Dataset):\n",
        "  def __init__(self, data_transforms=transforms.ToTensor(), n_ways=5,\n",
        "               download=True):\n",
        "    self.dataset = Omniglot(root='./data/',\n",
        "                            background=False,\n",
        "                            download=download,\n",
        "                            transform=data_transforms)\n",
        "    self.size = len(self.dataset)\n",
        "    self.num_classes = len(self.dataset._characters)\n",
        "    self.classes = range(self.num_classes)\n",
        "    self.n_ways = n_ways\n",
        "    self.instances_per_class = dict()\n",
        "    self.get_instances_per_class()\n",
        "\n",
        "  def __getitem__(self, idx):\n",
        "    query_img, query_class = self.dataset[idx]\n",
        "\n",
        "    # Find (n_ways - 1) distinct characters different from query_class\n",
        "    support_imgs = []\n",
        "    support_labels = []\n",
        "    support_classes = random.sample([c for c in self.classes if c != query_class], self.n_ways-1)\n",
        "\n",
        "    # Find 1 support image from query_class\n",
        "    support_classes.append(query_class)\n",
        "\n",
        "    random.shuffle(support_classes)\n",
        "\n",
        "    for c in support_classes:\n",
        "      [img] = random.sample(self.instances_per_class[c], 1)\n",
        "      support_imgs.append(img)\n",
        "      support_labels.append(torch.tensor([c == query_class], dtype=torch.float))\n",
        "\n",
        "    _, similarity = torch.max(torch.tensor(support_labels), axis=0)\n",
        "    return query_img, support_imgs, support_labels, similarity\n",
        "\n",
        "  def __len__(self):\n",
        "    return self.size\n",
        "\n",
        "  def get_instances_per_class(self):\n",
        "    for (image, label) in self.dataset:\n",
        "      if label in self.instances_per_class:\n",
        "        self.instances_per_class[label].append(image)\n",
        "      else:\n",
        "        self.instances_per_class[label] = [image]\n",
        "\n",
        "\n",
        "class MTFLDataset(Dataset):\n",
        "  def __init__(self, data_file,\n",
        "               num_samples=10000,\n",
        "               data_transforms=transforms.ToTensor(), ):\n",
        "\n",
        "    self.df = pd.read_csv(data_file, sep=' ', header=None,\n",
        "                          skipinitialspace=True, nrows=num_samples)\n",
        "    self.df.iloc[:, 0] = self.df.iloc[:, 0].apply(lambda s: s.replace('\\\\', '/'))\n",
        "    self.transform = data_transforms\n",
        "\n",
        "  def __getitem__(self, idx):\n",
        "    item = self.df.iloc[idx]\n",
        "    img_name = item[0]\n",
        "    labels = (item[11:] - 1)  # 1-indexed to 0-indexed\n",
        "\n",
        "    img = Image.open(img_name)\n",
        "    img = self.transform(img)\n",
        "\n",
        "    return img, torch.from_numpy(np.array(labels, dtype=np.float32)).long()\n",
        "\n",
        "  def __len__(self):\n",
        "    return len(self.df)\n",
        "\n",
        "\n",
        "\"\"\"\n",
        "Load datasets\n",
        "\"\"\"\n",
        "\n",
        "def get_train_val_datasets(background_dataset_size=10000,\n",
        "                           val_split=0.2, download=True):\n",
        "\n",
        "  dataset_size = background_dataset_size\n",
        "  val_split = 0.2\n",
        "  train_size = int(dataset_size * (1 - val_split))\n",
        "  val_size = dataset_size - train_size\n",
        "\n",
        "  background_dataset = SiameseOmniglotDataset(num_samples=dataset_size,\n",
        "                                              download=download)\n",
        "  train_dataset, val_dataset = random_split(background_dataset, [train_size, val_size])\n",
        "\n",
        "  return train_dataset, val_dataset\n",
        "\n",
        "\n",
        "def get_test_dataset(n_ways=5, download=True):\n",
        "  return NWayOneShotOmniglotDataset(n_ways=n_ways, download=download)\n",
        "\n",
        "\n",
        "def get_train_val_datasets_mtfl(dirname, dataset_size=10000, val_split=0.2):\n",
        "\n",
        "  data_transforms = transforms.Compose([transforms.Resize((256, 256)),\n",
        "                                        transforms.ToTensor()])\n",
        "\n",
        "  train_size = int(dataset_size * (1 - val_split))\n",
        "  val_size = dataset_size - train_size\n",
        "\n",
        "  background_dataset = MTFLDataset(data_file=f'{dirname}/MTFL/training.txt',\n",
        "                                   num_samples=dataset_size,\n",
        "                                   data_transforms=data_transforms)\n",
        "\n",
        "  train_dataset, val_dataset = random_split(background_dataset, [train_size, val_size])\n",
        "\n",
        "  return train_dataset, val_dataset"
      ]
    },
    {
      "cell_type": "code",
      "execution_count": 7,
      "metadata": {
        "cellView": "form",
        "execution": {},
        "id": "mGjUDR1j9L1J"
      },
      "outputs": [],
      "source": [
        "# @title Training/Evaluation Helper Functions\n",
        "\n",
        "# @markdown `train_multi_task(model, trainloader, valloader, criterion, optimizer, epochs=10, device='cpu')`\n",
        "def train_multi_task(model, trainloader, valloader, criterion, optimizer,\n",
        "                     epochs=10, device='cpu'):\n",
        "\n",
        "  best_model_weights = copy.deepcopy(model.state_dict())\n",
        "  best_overall_acc = 0.0\n",
        "\n",
        "  for ep in range(epochs):\n",
        "    print(\"\")\n",
        "    print(\"======== Epoch {:} / {:} ========\".format(ep + 1, epochs))\n",
        "\n",
        "    running_corrects = np.zeros(4)\n",
        "    running_loss = 0.0\n",
        "    model.train()\n",
        "    model.to(device)\n",
        "    for inps, labels in trainloader:\n",
        "      inps = inps.to(device)\n",
        "      labels = labels.to(device)\n",
        "      outs = model(inps)\n",
        "      overall_loss = 0.0\n",
        "\n",
        "      for i in range(4):\n",
        "        overall_loss += criterion(outs[i].to(device), labels[:, i].to(device))\n",
        "        _, preds = torch.max(outs[i], 1)\n",
        "        running_corrects[i] += torch.sum(preds == labels[:, i].data)\n",
        "\n",
        "      running_loss += overall_loss.item()\n",
        "\n",
        "      optimizer.zero_grad()\n",
        "      overall_loss.backward()\n",
        "      optimizer.step()\n",
        "\n",
        "    train_loss = running_loss/(len(trainloader) * inps.size(0))\n",
        "    train_accs = running_corrects / (len(trainloader) * inps.size(0))\n",
        "    train_overall_acc = np.mean(train_accs)\n",
        "    running_corrects_val = np.zeros(4)\n",
        "\n",
        "    model.eval()\n",
        "    with torch.no_grad():\n",
        "      for inps, labels in valloader:\n",
        "        inps = inps.to(device)\n",
        "        labels = labels.to(device)\n",
        "        outs = model(inps)\n",
        "\n",
        "        overall_loss = 0.0\n",
        "\n",
        "        for i in range(4):\n",
        "          _, preds = torch.max(outs[i], 1)\n",
        "          running_corrects_val[i] += torch.sum(preds == labels[:, i].data)\n",
        "\n",
        "      val_accs = running_corrects_val / (len(valloader) * inps.size(0))\n",
        "\n",
        "      val_overall_acc = np.mean(val_accs)\n",
        "\n",
        "      if val_overall_acc > best_overall_acc:\n",
        "        best_overall_acc = val_overall_acc\n",
        "        best_model_weights = copy.deepcopy(model.state_dict())\n",
        "\n",
        "    print(f\"Training => Avg. Task Accuracy: {train_overall_acc}\")\n",
        "    print(f\"Validation => Avg. Task Accuracy: {val_overall_acc}\")\n",
        "\n",
        "  model.load_state_dict(best_model_weights)\n",
        "  return model\n",
        "\n",
        "\n",
        "# @markdown `train_siamese_network(model, criterion, optimizer, train_loader, device='cpu', print_freq=100)`\n",
        "def train_siamese_network(model, criterion, optimizer, train_loader,\n",
        "                          device=\"cpu\", print_freq=100):\n",
        "  model.to(device)\n",
        "  running_loss = 0.0\n",
        "  correct = 0.0\n",
        "  total = 0.0\n",
        "  for batch_idx, data in enumerate(train_loader):\n",
        "    x1 = data[0].to(device)\n",
        "    x2 = data[1].to(device)\n",
        "    y = data[2].to(device)\n",
        "\n",
        "    optimizer.zero_grad() #Set parameter gradients to zero\n",
        "\n",
        "    y_pred = model(x1, x2)\n",
        "    # print(y_pred.shape, y.shape)\n",
        "    loss = criterion(y_pred.view(-1), y.view(-1))\n",
        "    loss.backward() #Set the values for gradients (`grad`) of all the parameters\n",
        "    optimizer.step() #Update the parameter values using the computed gradients\n",
        "\n",
        "    running_loss += loss.item()\n",
        "\n",
        "    y_out = torch.round(torch.sigmoid(y_pred)) #To do: do necessary modifs from sigmoid to regular\n",
        "    correct += y_out.eq(y.to(device)).sum()\n",
        "    total += y_out.shape[0]\n",
        "\n",
        "    # if (batch_idx % print_freq) == (print_freq - 1):\n",
        "    #   print(f\"Batch: {batch_idx} Running loss: {running_loss / print_freq} Train accuracy: {acc}\")\n",
        "    #   running_loss = 0.0\n",
        "\n",
        "  print(f\"Training => Average Loss: {running_loss/len(train_loader)} | Accuracy: {correct/total}\")\n",
        "\n",
        "\n",
        "# @markdown `evaluate_siamese_network(model, criterion, val_loader, device='cpu')`\n",
        "def evaluate_siamese_network(model, criterion, val_loader, device='cpu'):\n",
        "  model.eval()\n",
        "  model.to(device)\n",
        "  correct = 0.0\n",
        "  total = 0.0\n",
        "  val_loss = 0.0\n",
        "  with torch.no_grad():\n",
        "    for (x1, x2, y) in val_loader:\n",
        "      y_pred = model(x1.to(device), x2.to(device))\n",
        "      loss = criterion(y_pred.view(-1), y.to(device).view(-1))\n",
        "      val_loss += loss.item()\n",
        "      y_out = torch.round(torch.sigmoid(y_pred)) #To do: do necessary modifs from sigmoid to regular\n",
        "      correct += y_out.eq(y.to(device)).sum()\n",
        "      total += y_out.shape[0]\n",
        "\n",
        "  val_acc = correct/total\n",
        "  val_loss = val_loss/len(val_loader)\n",
        "\n",
        "  print(f\"Validation => Average Loss: {val_loss} | Accuracy: {val_acc}\")\n",
        "\n",
        "def evaluate_one_shot(model, test_loader, device='cpu'):\n",
        "  model.eval()\n",
        "  model.to(device)\n",
        "\n",
        "  correct = 0.0\n",
        "  total = 0.0\n",
        "\n",
        "  with torch.no_grad():\n",
        "    for (query_img, support_imgs, support_labels, similarity) in test_loader:\n",
        "      x_query = query_img.to(device)\n",
        "      y_pred_fc = [model(x_query, x_support.to(device)) for x_support in support_imgs]\n",
        "      y_pred = [torch.sigmoid(pred) for pred in y_pred_fc]\n",
        "      _, y_out = torch.max(torch.cat(y_pred, dim=1), 1)\n",
        "      correct += y_out.eq(similarity.to(device)).sum()\n",
        "      total += y_out.shape[0]\n",
        "\n",
        "  print(f'Testing (One-shot) => Accuracy: {correct/total}')"
      ]
    },
    {
      "cell_type": "code",
      "execution_count": 8,
      "metadata": {
        "cellView": "form",
        "execution": {},
        "id": "ziFwjOCV9L1L"
      },
      "outputs": [],
      "source": [
        "# @title Set random seed\n",
        "\n",
        "# @markdown Executing `set_seed(seed=seed)` you are setting the seed\n",
        "\n",
        "# for DL its critical to set the random seed so that students can have a\n",
        "# baseline to compare their results to expected results.\n",
        "# Read more here: https://pytorch.org/docs/stable/notes/randomness.html\n",
        "\n",
        "# Call `set_seed` function in the exercises to ensure reproducibility.\n",
        "import random\n",
        "import torch\n",
        "\n",
        "def set_seed(seed=None, seed_torch=True):\n",
        "  if seed is None:\n",
        "    seed = np.random.choice(2 ** 32)\n",
        "  random.seed(seed)\n",
        "  np.random.seed(seed)\n",
        "  if seed_torch:\n",
        "    torch.manual_seed(seed)\n",
        "    torch.cuda.manual_seed_all(seed)\n",
        "    torch.cuda.manual_seed(seed)\n",
        "    torch.backends.cudnn.benchmark = False\n",
        "    torch.backends.cudnn.deterministic = True\n",
        "\n",
        "  print(f'Random seed {seed} has been set.')\n",
        "\n",
        "\n",
        "# In case that `DataLoader` is used\n",
        "def seed_worker(worker_id):\n",
        "  worker_seed = torch.initial_seed() % 2**32\n",
        "  np.random.seed(worker_seed)\n",
        "  random.seed(worker_seed)"
      ]
    },
    {
      "cell_type": "code",
      "execution_count": 9,
      "metadata": {
        "cellView": "form",
        "execution": {},
        "id": "PdlKvxv39L1L"
      },
      "outputs": [],
      "source": [
        "# @title Set device (GPU or CPU). Execute `set_device()`\n",
        "# especially if torch modules used.\n",
        "\n",
        "# inform the user if the notebook uses GPU or CPU.\n",
        "\n",
        "def set_device():\n",
        "  device = \"cuda\" if torch.cuda.is_available() else \"cpu\"\n",
        "  if device != \"cuda\":\n",
        "    print(\"WARNING: For this notebook to perform best, \"\n",
        "        \"if possible, in the menu under `Runtime` -> \"\n",
        "        \"`Change runtime type.`  select `GPU` \")\n",
        "  else:\n",
        "    print(\"GPU is enabled in this notebook.\")\n",
        "\n",
        "  return device"
      ]
    },
    {
      "cell_type": "code",
      "execution_count": 10,
      "metadata": {
        "execution": {},
        "id": "jXV6mxwc9L1M",
        "outputId": "8f6f42e8-79af-4d47-ab3c-795a4db60381",
        "colab": {
          "base_uri": "https://localhost:8080/"
        }
      },
      "outputs": [
        {
          "output_type": "stream",
          "name": "stdout",
          "text": [
            "Random seed 2021 has been set.\n",
            "GPU is enabled in this notebook.\n"
          ]
        }
      ],
      "source": [
        "SEED = 2021\n",
        "set_seed(seed=SEED)\n",
        "DEVICE = set_device()"
      ]
    },
    {
      "cell_type": "markdown",
      "metadata": {
        "execution": {},
        "id": "JDg3tE4K9L1M"
      },
      "source": [
        "---\n",
        "# Section 1: Introduction to Out-of-Distribution (OOD) Learning\n",
        "\n",
        "*Time estimate: ~5mins*"
      ]
    },
    {
      "cell_type": "markdown",
      "metadata": {
        "execution": {},
        "id": "pq5nceFP9L1N"
      },
      "source": [
        "In this section, we'll take a brief look at what OOD Learning is and how it can be useful in solving various problems with traditional Deep Learning."
      ]
    },
    {
      "cell_type": "code",
      "execution_count": 11,
      "metadata": {
        "cellView": "form",
        "execution": {},
        "id": "vBq82lid9L1N",
        "outputId": "7e92880d-e878-49df-dfbf-d6c6b1d6243e",
        "colab": {
          "base_uri": "https://localhost:8080/",
          "height": 582,
          "referenced_widgets": [
            "ce2bc0f821a3431e9ac8c5d254cee268",
            "67d8026a90ee43169e691ceb9ca478be",
            "da10d048c8864a00ab4140721efd5639",
            "d3195dd4d5b34d9a970b1ae884230fad",
            "f97093459af04914be9fc474cec265fc",
            "5ad1b8e79c18450e9cb9bc48029bbe32"
          ]
        }
      },
      "outputs": [
        {
          "output_type": "display_data",
          "data": {
            "application/vnd.jupyter.widget-view+json": {
              "model_id": "ce2bc0f821a3431e9ac8c5d254cee268",
              "version_minor": 0,
              "version_major": 2
            },
            "text/plain": [
              "Tab(children=(Output(), Output()), _titles={'0': 'Youtube', '1': 'Bilibili'})"
            ]
          },
          "metadata": {}
        }
      ],
      "source": [
        "# @title Video 1: The Future of Learning\n",
        "from ipywidgets import widgets\n",
        "\n",
        "out2 = widgets.Output()\n",
        "with out2:\n",
        "  from IPython.display import IFrame\n",
        "  class BiliVideo(IFrame):\n",
        "    def __init__(self, id, page=1, width=400, height=300, **kwargs):\n",
        "      self.id=id\n",
        "      src = \"https://player.bilibili.com/player.html?bvid={0}&page={1}\".format(id, page)\n",
        "      super(BiliVideo, self).__init__(src, width, height, **kwargs)\n",
        "\n",
        "  video = BiliVideo(id=f\"BV1764y167fj\", width=854, height=480, fs=1)\n",
        "  print(\"Video available at https://www.bilibili.com/video/{0}\".format(video.id))\n",
        "  display(video)\n",
        "\n",
        "out1 = widgets.Output()\n",
        "with out1:\n",
        "  from IPython.display import YouTubeVideo\n",
        "  video = YouTubeVideo(id=f\"zMQySpHBoGs\", width=854, height=480, fs=1, rel=0)\n",
        "  print(\"Video available at https://youtube.com/watch?v=\" + video.id)\n",
        "  display(video)\n",
        "\n",
        "out = widgets.Tab([out1, out2])\n",
        "out.set_title(0, 'Youtube')\n",
        "out.set_title(1, 'Bilibili')\n",
        "\n",
        "# add event to airtable\n",
        "atform.add_event('Video 1: The Future of Learning')\n",
        "\n",
        "display(out)"
      ]
    },
    {
      "cell_type": "markdown",
      "metadata": {
        "execution": {},
        "id": "6om1o8EC9L1O"
      },
      "source": [
        "## Think! 1.1: What are the problems that *you* want to solve?"
      ]
    },
    {
      "cell_type": "markdown",
      "metadata": {
        "execution": {},
        "id": "dSHQl9dA9L1O"
      },
      "source": [
        "Think of a problem that you would want to have solved using Deep Learning. Don't restrict yourself to the problems you have looked at so far! \n",
        "\n",
        "Take 2 mins to think in silence and jot down a brief description of the problem here."
      ]
    },
    {
      "cell_type": "code",
      "execution_count": 12,
      "metadata": {
        "cellView": "form",
        "execution": {},
        "id": "47wCSCab9L1O"
      },
      "outputs": [],
      "source": [
        "# @markdown\n",
        "Problem_that_you_want_to_solve = '' # @param {type:\"string\"}"
      ]
    },
    {
      "cell_type": "markdown",
      "metadata": {
        "execution": {},
        "id": "jjrRlhPX9L1P"
      },
      "source": [
        "Now discuss the following as a group:\n",
        "\n",
        "1. Can these problems be solved using the techniques that you have looked at so far? If not, why?\n",
        "2. Is there an OOD element attached to any of the problems, which makes them harder to solve? \n",
        "3. Can you think of ways you could solve these problems? (Don't worry if you struggle, we'll hopefully find some suggestions by the end of this tutorial)"
      ]
    },
    {
      "cell_type": "markdown",
      "metadata": {
        "execution": {},
        "id": "qxrA8EZv9L1P"
      },
      "source": [
        "---\n",
        "# Section 2: Transfer and Multi-Task Learning\n",
        "\n",
        "*Time estimate: ~35mins*"
      ]
    },
    {
      "cell_type": "markdown",
      "metadata": {
        "execution": {},
        "id": "Y63b7wTH9L1Q"
      },
      "source": [
        "In this tutorial we will learn transfer learning and multi-task learning. Transfer learning is a machine learning method where a model which is trained on a task (or dataset) can be used as a good initialization for training on a completely different and unrelated task (or dataset). Transfer learning is a very commonly used practice in a lot of Deep Learning works. This method is not limited to any particular subdomain and is widely used in almost all the domains, namely Computer Vision, Natural Language Processing, Reinforcement Learning, etc. \n",
        "\n",
        "Multi-task learning aims to learn multiple tasks simultaneously using shared knowledge across these tasks. We can use Transfer learning to initialize the shared parts of the network. \n",
        "\n",
        "We aim to learn these concepts via a simple problem of attributes classification for the celebA dataset. "
      ]
    },
    {
      "cell_type": "code",
      "execution_count": 13,
      "metadata": {
        "cellView": "form",
        "execution": {},
        "id": "qFAzgvkA9L1Q",
        "outputId": "b47e2725-1ada-49eb-b66f-b75bb08757c9",
        "colab": {
          "base_uri": "https://localhost:8080/",
          "height": 582,
          "referenced_widgets": [
            "87b7bdd24fd64058aeb4ac6303c64d13",
            "b4ebbe7eb5104ee39ee958fafa78d819",
            "bb2df384ef0f4ed693cdfa64488eb8c9",
            "20c74b73ae4c424b99b22ec282e3753b",
            "f3b3966532964f678d60e2f311cec9be",
            "28c2db0109d74108a0811036d6772214"
          ]
        }
      },
      "outputs": [
        {
          "output_type": "display_data",
          "data": {
            "application/vnd.jupyter.widget-view+json": {
              "model_id": "87b7bdd24fd64058aeb4ac6303c64d13",
              "version_minor": 0,
              "version_major": 2
            },
            "text/plain": [
              "Tab(children=(Output(), Output()), _titles={'0': 'Youtube', '1': 'Bilibili'})"
            ]
          },
          "metadata": {}
        }
      ],
      "source": [
        "# @title Video 2: Transfer and Multi-Tasking Learning\n",
        "from ipywidgets import widgets\n",
        "\n",
        "out2 = widgets.Output()\n",
        "with out2:\n",
        "  from IPython.display import IFrame\n",
        "  class BiliVideo(IFrame):\n",
        "    def __init__(self, id, page=1, width=400, height=300, **kwargs):\n",
        "      self.id=id\n",
        "      src = \"https://player.bilibili.com/player.html?bvid={0}&page={1}\".format(id, page)\n",
        "      super(BiliVideo, self).__init__(src, width, height, **kwargs)\n",
        "\n",
        "  video = BiliVideo(id=f\"BV18w41197o8\", width=854, height=480, fs=1)\n",
        "  print(\"Video available at https://www.bilibili.com/video/{0}\".format(video.id))\n",
        "  display(video)\n",
        "\n",
        "out1 = widgets.Output()\n",
        "with out1:\n",
        "  from IPython.display import YouTubeVideo\n",
        "  video = YouTubeVideo(id=f\"PplDj0vXuIY\", width=854, height=480, fs=1, rel=0)\n",
        "  print(\"Video available at https://youtube.com/watch?v=\" + video.id)\n",
        "  display(video)\n",
        "\n",
        "out = widgets.Tab([out1, out2])\n",
        "out.set_title(0, 'Youtube')\n",
        "out.set_title(1, 'Bilibili')\n",
        "\n",
        "# add event to airtable\n",
        "atform.add_event('Video 2: Transfer and Multi-Tasking Learning')\n",
        "\n",
        "display(out)"
      ]
    },
    {
      "cell_type": "markdown",
      "metadata": {
        "execution": {},
        "id": "n61i_eHK9L1Q"
      },
      "source": [
        "## Section 2.1: Getting the data\n",
        "We will be using the [MTFL](http://mmlab.ie.cuhk.edu.hk/projects/TCDCN.html) dataset for demonstrating the concepts of Transfer and Multi-Task Learning. "
      ]
    },
    {
      "cell_type": "code",
      "execution_count": 14,
      "metadata": {
        "cellView": "form",
        "execution": {},
        "id": "06TX3QSN9L1R",
        "outputId": "87e1a5be-06c4-4f48-bd58-4907e7a0d530",
        "colab": {
          "base_uri": "https://localhost:8080/"
        }
      },
      "outputs": [
        {
          "output_type": "stream",
          "name": "stdout",
          "text": [
            "Current dir: /content\n"
          ]
        }
      ],
      "source": [
        "# @title Get the current working directory in `CWD` variable.\n",
        "CWD = os.getcwd()\n",
        "print(f'Current dir: {CWD}')"
      ]
    },
    {
      "cell_type": "code",
      "execution_count": 15,
      "metadata": {
        "cellView": "form",
        "execution": {},
        "id": "bd7VK1eK9L1R",
        "outputId": "d62a5a66-69e0-4005-c4a2-f855b640d65c",
        "colab": {
          "base_uri": "https://localhost:8080/"
        }
      },
      "outputs": [
        {
          "output_type": "stream",
          "name": "stdout",
          "text": [
            "Start downloading and unzipping `MTFL` dataset...\n",
            "Download completed.\n",
            "Change working direcrtory!\n",
            "Current dir: /content/MTFL\n"
          ]
        }
      ],
      "source": [
        "# @title Download and unzip the dataset\n",
        "import requests, zipfile\n",
        "\n",
        "# originally from 'http://mmlab.ie.cuhk.edu.hk/projects/TCDCN/data/MTFL.zip'\n",
        "os.chdir(CWD)\n",
        "name = 'MTFL'\n",
        "fname = f\"{name}.zip\"\n",
        "url = \"https://osf.io/u5emj/download\"\n",
        "\n",
        "if not os.path.exists(name):\n",
        "  print(\"Start downloading and unzipping `MTFL` dataset...\")\n",
        "  r = requests.get(url, allow_redirects=True)\n",
        "  with open(fname, 'wb') as fd:\n",
        "    fd.write(r.content)\n",
        "  with zipfile.ZipFile(fname, 'r') as zip_ref:\n",
        "    zip_ref.extractall(name)\n",
        "  print(\"Download completed.\")\n",
        "else:\n",
        "  print('Data has been already downloaded.')\n",
        "\n",
        "print('Change working direcrtory!')\n",
        "os.chdir(name)\n",
        "print(f'Current dir: {os.getcwd()}')"
      ]
    },
    {
      "cell_type": "markdown",
      "metadata": {
        "execution": {},
        "id": "7uNQfVdv9L1R"
      },
      "source": [
        "Lets load the dataset into dataloaders which will help us in training the model! \n",
        "\n",
        "You can check the implementation  of the `get_train_val_datasets_mtfl()` in the hidden cell `Dataset Definition and Helper Functions`"
      ]
    },
    {
      "cell_type": "code",
      "execution_count": 16,
      "metadata": {
        "execution": {},
        "id": "IsHYMzub9L1R"
      },
      "outputs": [],
      "source": [
        "\"\"\"\n",
        "Create dataloaders for the train and validation datasets\n",
        "\"\"\"\n",
        "\n",
        "train_dataset, val_dataset = get_train_val_datasets_mtfl(CWD)\n",
        "\n",
        "# Change this for a different batch size\n",
        "batch_size = 16\n",
        "\n",
        "g_seed = torch.Generator()\n",
        "g_seed.manual_seed(SEED)\n",
        "\n",
        "train_loader = DataLoader(\n",
        "    dataset=train_dataset,\n",
        "    batch_size=batch_size,\n",
        "    num_workers=2,\n",
        "    worker_init_fn=seed_worker,\n",
        "    generator=g_seed\n",
        "    )\n",
        "\n",
        "val_loader = DataLoader(\n",
        "    dataset=val_dataset,\n",
        "    batch_size=batch_size,\n",
        "    num_workers=2,\n",
        "    worker_init_fn=seed_worker,\n",
        "    generator=g_seed\n",
        "    )"
      ]
    },
    {
      "cell_type": "markdown",
      "metadata": {
        "execution": {},
        "id": "Su4GKxFn9L1S"
      },
      "source": [
        "We visualize the samples from the dataset, we can see  that the input will be an image and there are multiple labels for the same image. The description of each label - \n",
        "\n",
        " - gender : 0 - male, 1 - female\n",
        " - smiling : 0 - yes, 1 - no\n",
        " - wearing glasses : 0 - yes, 1 - no\n",
        " - head pose : 0° - 0, +30° - 1, -30° - 2, +60° - 3, -60° - 4 "
      ]
    },
    {
      "cell_type": "code",
      "execution_count": 17,
      "metadata": {
        "execution": {},
        "id": "Rf4ux-Wp9L1S",
        "outputId": "4e9f0b36-d25d-4834-8785-a68cb35c9940",
        "colab": {
          "base_uri": "https://localhost:8080/",
          "height": 447
        }
      },
      "outputs": [
        {
          "output_type": "stream",
          "name": "stdout",
          "text": [
            "Labels: [0, 0, 0, 2]\n"
          ]
        },
        {
          "output_type": "display_data",
          "data": {
            "image/png": "[encoded data removed]",
            "text/plain": [
              "<Figure size 576x432 with 1 Axes>"
            ]
          },
          "metadata": {
            "image/png": {
              "width": 414,
              "height": 413
            }
          }
        }
      ],
      "source": [
        "sample = train_dataset[0]\n",
        "visualize_mtfl_sample(sample)"
      ]
    },
    {
      "cell_type": "markdown",
      "metadata": {
        "execution": {},
        "id": "YgIv83oL9L1T"
      },
      "source": [
        "Can you interpret the above image and the labels corresponding to the image? Let's have a look at some more instances from the dataset."
      ]
    },
    {
      "cell_type": "markdown",
      "metadata": {
        "execution": {},
        "id": "VVegeV_h9L1T"
      },
      "source": [
        "<img src=\"https://raw.githubusercontent.com/NeuromatchAcademy/course-content-dl/main/tutorials/W3D4_ContinualLearning/static/labels_cl.png\">"
      ]
    },
    {
      "cell_type": "markdown",
      "metadata": {
        "execution": {},
        "id": "Aaev_K649L1T"
      },
      "source": [
        "## Section 2.2: Defining the model \n",
        "\n",
        "A typical multi-task model looks like below, with shared layers being layers where knowledge is shared. Task-specific layers, as the name suggests, are specific to the tasks. \n",
        "\n",
        "<img src=\"https://raw.githubusercontent.com/NeuromatchAcademy/course-content-dl/main/tutorials/W3D4_ContinualLearning/static/model_cl.png\">\n",
        "\n",
        "\n",
        "For the shared layers we will use a pre-trained backbone network. Here you can try out various models, we have provided an example of using resnet18 backbone. We have to remove the last fully connected layer, because that is specifically used for classificiation task. Futher, for each task we have some fully connected layers, you can play around with more layers on your own! "
      ]
    },
    {
      "cell_type": "markdown",
      "metadata": {
        "execution": {},
        "id": "ta0kkrhZ9L1T"
      },
      "source": [
        "### Coding Exercise 2.2: Creating a Multi-Task model\n",
        "\n",
        "Complete the custom model class `Multi_task_model`. \n",
        "Complete the `forward()` function, by adding your solution to collect outputs for all the tasks using the fully connected for the corresponding task. \n",
        "\n",
        "You can find an entire list of pre-trained models provided by PyTorch [here](https://pytorch.org/vision/stable/models.html)"
      ]
    },
    {
      "cell_type": "code",
      "execution_count": 18,
      "metadata": {
        "execution": {},
        "id": "gHHAmnMw9L1U"
      },
      "outputs": [],
      "source": [
        "class Multi_task_model(nn.Module):\n",
        "  def __init__(self, pretrained=True, num_tasks=4, load_file=None,\n",
        "               num_labels_per_task=[2, 2, 2, 5]):\n",
        "    super(Multi_task_model, self).__init__()\n",
        "    self.backbone = models.resnet18(pretrained=pretrained)  # You can play around with different pre-trained models\n",
        "    if load_file:\n",
        "      self.backbone.load_state_dict(torch.load(load_file))\n",
        "    self.backbone = torch.nn.Sequential(*(list(self.backbone.children())[:-1]))  # Remove the last fully connected layer\n",
        "\n",
        "    if pretrained:\n",
        "      for param in self.backbone.parameters():\n",
        "        param.requires_grad = False\n",
        "\n",
        "    self.fcs = []\n",
        "\n",
        "    self.num_tasks = num_tasks\n",
        "\n",
        "    for i in range(self.num_tasks):\n",
        "      self.fcs.append(nn.Sequential(\n",
        "          nn.Linear(512, 128),\n",
        "          nn.ReLU(),\n",
        "          nn.Dropout(0.4),\n",
        "          nn.Linear(128, num_labels_per_task[i]),\n",
        "          ################################\n",
        "          # Add more layers if you want! #\n",
        "          ################################\n",
        "          nn.Softmax(dim=1),\n",
        "      ))\n",
        "\n",
        "      self.fcs = nn.ModuleList(self.fcs)\n",
        "\n",
        "  def forward(self, x):\n",
        "    x = self.backbone(x)\n",
        "    x = torch.flatten(x, 1)\n",
        "    outs = []\n",
        "    #################################################\n",
        "    # Collect outputs for each task\n",
        "    # Fill in missing code below (...),\n",
        "    # then remove or comment the line below to test your implementation\n",
        "    raise NotImplementedError(\"Complete the model!\")\n",
        "    #################################################\n",
        "    for i in range(...):\n",
        "      outs.append(...)\n",
        "    return outs\n",
        "\n",
        "\n",
        "# add event to airtable\n",
        "atform.add_event('Coding Exercise 2.2: Creating a Multi-Task model')"
      ]
    },
    {
      "cell_type": "code",
      "execution_count": 19,
      "metadata": {
        "execution": {},
        "id": "aT5Hb1VS9L1U"
      },
      "outputs": [],
      "source": [
        "# to_remove solution\n",
        "class Multi_task_model(nn.Module):\n",
        "  def __init__(self, pretrained=True, num_tasks=4, load_file=None,\n",
        "               num_labels_per_task=[2, 2, 2, 5]):\n",
        "    super(Multi_task_model, self).__init__()\n",
        "    self.backbone = models.resnet18(pretrained=pretrained)  # You can play around with different pre-trained models\n",
        "    if load_file:\n",
        "      self.backbone.load_state_dict(torch.load(load_file))\n",
        "    self.backbone = torch.nn.Sequential(*(list(self.backbone.children())[:-1]))  # Remove the last fully connected layer\n",
        "\n",
        "    if pretrained:\n",
        "      for param in self.backbone.parameters():\n",
        "        param.requires_grad = False\n",
        "\n",
        "    self.fcs = []\n",
        "\n",
        "    self.num_tasks = num_tasks\n",
        "\n",
        "    for i in range(self.num_tasks):\n",
        "      self.fcs.append(nn.Sequential(\n",
        "          nn.Linear(512, 128),\n",
        "          nn.ReLU(),\n",
        "          nn.Dropout(0.4),\n",
        "          nn.Linear(128, num_labels_per_task[i]),\n",
        "          ################################\n",
        "          # Add more layers if you want! #\n",
        "          ################################\n",
        "          nn.Softmax(dim=1),\n",
        "      ))\n",
        "\n",
        "      self.fcs = nn.ModuleList(self.fcs)\n",
        "\n",
        "  def forward(self, x):\n",
        "    x = self.backbone(x)\n",
        "    x = torch.flatten(x, 1)\n",
        "    outs = []\n",
        "    for i in range(self.num_tasks):\n",
        "      outs.append(self.fcs[i](x))\n",
        "    return outs\n",
        "\n",
        "\n",
        "# add event to airtable\n",
        "atform.add_event('Coding Exercise 2.2: Creating a Multi-Task model')"
      ]
    },
    {
      "cell_type": "markdown",
      "metadata": {
        "execution": {},
        "id": "2id6Hm1p9L1V"
      },
      "source": [
        "To avoid any major blackout due to multiple downloads, we download a pretrained ResNet model locally.\n",
        "\n",
        "**Note:** If `pretrained=False` and `load_file` exists, we load the pretrained model from a file. If you want to use a different model, set `load_file` to `None`."
      ]
    },
    {
      "cell_type": "code",
      "execution_count": 20,
      "metadata": {
        "cellView": "form",
        "execution": {},
        "id": "GVeUsJ3x9L1V"
      },
      "outputs": [],
      "source": [
        "# @title Download `resnet18` pretrained\n",
        "url = \"https://osf.io/2kd98/download\"\n",
        "fname = \"resnet18-f37072fd.pth\"\n",
        "r = requests.get(url, allow_redirects=True)\n",
        "\n",
        "with open(fname, 'wb') as fd:\n",
        "  fd.write(r.content)"
      ]
    },
    {
      "cell_type": "code",
      "execution_count": 21,
      "metadata": {
        "execution": {},
        "id": "b5lkoRKJ9L1V"
      },
      "outputs": [],
      "source": [
        "\"\"\"\n",
        "Initialize two models with and without pre-trained weights\n",
        "\"\"\"\n",
        "model_with_pre_trained_backbone = Multi_task_model(pretrained=False,\n",
        "                                                   load_file=fname).to(DEVICE)\n",
        "model_without_pre_trained_backbone = Multi_task_model(pretrained=False).to(DEVICE)"
      ]
    },
    {
      "cell_type": "markdown",
      "metadata": {
        "execution": {},
        "id": "2jWkdvIv9L1V"
      },
      "source": [
        "Let's define the loss function and optimizer. Since this is a classification task, we will be using cross-entropy loss. For the optimizer we will be using Stochastic Gradient descent. "
      ]
    },
    {
      "cell_type": "code",
      "execution_count": 22,
      "metadata": {
        "execution": {},
        "id": "nCdkS_YV9L1W"
      },
      "outputs": [],
      "source": [
        "criterion = nn.CrossEntropyLoss()\n",
        "\n",
        "# Observe that all parameters are being optimized\n",
        "optimizer_without_pre_trained_backbone = optim.SGD(\n",
        "    model_without_pre_trained_backbone.parameters(),\n",
        "    lr=0.001,\n",
        "    momentum=0.9\n",
        "    )\n",
        "\n",
        "optimizer_pre_trained_backbone = optim.SGD(\n",
        "    model_with_pre_trained_backbone.parameters(),\n",
        "    lr=0.001,\n",
        "    momentum=0.9\n",
        "    )"
      ]
    },
    {
      "cell_type": "markdown",
      "metadata": {
        "execution": {},
        "id": "dsZ5rfVK9L1W"
      },
      "source": [
        "## Section 2.3: Training model without pretrained backbone"
      ]
    },
    {
      "cell_type": "code",
      "execution_count": 23,
      "metadata": {
        "execution": {},
        "id": "TZpe-iqu9L1W",
        "outputId": "ad48bc16-928d-4640-d3d1-da918daba28e",
        "colab": {
          "base_uri": "https://localhost:8080/"
        }
      },
      "outputs": [
        {
          "output_type": "stream",
          "name": "stdout",
          "text": [
            "\n",
            "======== Epoch 1 / 5 ========\n"
          ]
        },
        {
          "output_type": "stream",
          "name": "stderr",
          "text": [
            "/usr/local/lib/python3.7/dist-packages/torch/nn/functional.py:718: UserWarning: Named tensors and all their associated APIs are an experimental feature and subject to change. Please do not use them for anything important until they are released as stable. (Triggered internally at  /pytorch/c10/core/TensorImpl.h:1156.)\n",
            "  return torch.max_pool2d(input, kernel_size, stride, padding, dilation, ceil_mode)\n"
          ]
        },
        {
          "output_type": "stream",
          "name": "stdout",
          "text": [
            "Training => Avg. Task Accuracy: 0.6879062499999999\n",
            "Validation => Avg. Task Accuracy: 0.697375\n",
            "\n",
            "======== Epoch 2 / 5 ========\n",
            "Training => Avg. Task Accuracy: 0.71190625\n",
            "Validation => Avg. Task Accuracy: 0.696\n",
            "\n",
            "======== Epoch 3 / 5 ========\n",
            "Training => Avg. Task Accuracy: 0.7220312500000001\n",
            "Validation => Avg. Task Accuracy: 0.7145\n",
            "\n",
            "======== Epoch 4 / 5 ========\n",
            "Training => Avg. Task Accuracy: 0.7304062500000001\n",
            "Validation => Avg. Task Accuracy: 0.7224999999999999\n",
            "\n",
            "======== Epoch 5 / 5 ========\n",
            "Training => Avg. Task Accuracy: 0.733625\n",
            "Validation => Avg. Task Accuracy: 0.7325\n"
          ]
        }
      ],
      "source": [
        "model_without_pre_trained_backbone = train_multi_task(\n",
        "    model_without_pre_trained_backbone,\n",
        "    train_loader,\n",
        "    val_loader,\n",
        "    criterion,\n",
        "    optimizer_without_pre_trained_backbone,\n",
        "    epochs=5, device=DEVICE\n",
        "    )"
      ]
    },
    {
      "cell_type": "markdown",
      "metadata": {
        "execution": {},
        "id": "1YPeTIKP9L1X"
      },
      "source": [
        "## Section 2.4: Training model with pretrained backbone"
      ]
    },
    {
      "cell_type": "code",
      "execution_count": 24,
      "metadata": {
        "execution": {},
        "id": "7UbuLQUW9L1X",
        "outputId": "70f7cef2-2e0c-4576-f635-184bc5b15a2a",
        "colab": {
          "base_uri": "https://localhost:8080/"
        }
      },
      "outputs": [
        {
          "output_type": "stream",
          "name": "stdout",
          "text": [
            "\n",
            "======== Epoch 1 / 5 ========\n",
            "Training => Avg. Task Accuracy: 0.7599687500000001\n",
            "Validation => Avg. Task Accuracy: 0.816\n",
            "\n",
            "======== Epoch 2 / 5 ========\n",
            "Training => Avg. Task Accuracy: 0.8250625\n",
            "Validation => Avg. Task Accuracy: 0.8312499999999999\n",
            "\n",
            "======== Epoch 3 / 5 ========\n",
            "Training => Avg. Task Accuracy: 0.84840625\n",
            "Validation => Avg. Task Accuracy: 0.8362499999999999\n",
            "\n",
            "======== Epoch 4 / 5 ========\n",
            "Training => Avg. Task Accuracy: 0.8638125000000001\n",
            "Validation => Avg. Task Accuracy: 0.830375\n",
            "\n",
            "======== Epoch 5 / 5 ========\n",
            "Training => Avg. Task Accuracy: 0.87221875\n",
            "Validation => Avg. Task Accuracy: 0.8365\n"
          ]
        }
      ],
      "source": [
        "model_pre_trained_backbone = train_multi_task(model_with_pre_trained_backbone,\n",
        "                                              train_loader,\n",
        "                                              val_loader,\n",
        "                                              criterion,\n",
        "                                              optimizer_pre_trained_backbone,\n",
        "                                              epochs=5, device=DEVICE)"
      ]
    },
    {
      "cell_type": "markdown",
      "metadata": {
        "execution": {},
        "id": "7YmVzyiC9L1Y"
      },
      "source": [
        "## Section 2.5: Section Summary\n",
        "\n",
        "We can summarize this section as follows\n",
        "\n",
        "* Transfer learning helps in initializing the model better and thus makes learning of the model faster. It also gives better performance compared to the same model that was trained from scratch. Below is a table which contains validation accuracies after 5 epochs (your accuracies can be slightly different when you run the training loops. It will also depend on the number of epochs and the model you have implemented)-\n",
        "\n",
        "\n",
        "|           Method          | Validation Accuracy |\n",
        "|:-------------------------:|:-------------------:|\n",
        "|   With Transfer Learning  |      **0.779**      | \n",
        "| Without Transfer Learning |        0.728        |\n",
        "\n",
        "* Multi-task learning helps us learn multiple tasks together, by sharing knowledge across layers. Task specific layers then help the model learn task specific features. \n"
      ]
    },
    {
      "cell_type": "markdown",
      "metadata": {
        "execution": {},
        "id": "hpj62ZOx9L1Y"
      },
      "source": [
        "---\n",
        "# Section 3: Interpretability"
      ]
    },
    {
      "cell_type": "code",
      "execution_count": 25,
      "metadata": {
        "cellView": "form",
        "execution": {},
        "id": "H-9o6uqY9L1Y",
        "outputId": "7ecdcf46-47b4-47b1-fb3b-369c46dfe777",
        "colab": {
          "base_uri": "https://localhost:8080/",
          "height": 582,
          "referenced_widgets": [
            "487411b9c8db497580c0545054d6186a",
            "261a790caf9c481b9b8e51aa4c42a2a3",
            "bcc14f98d6a144a3af9385a1ea1bdc33",
            "6f18e94218754053906cd0cf93dc9f73",
            "04c6be19464d4ba2ac24e25d79d81e8e",
            "9b5fd62d8311465b80bd091144ef4894"
          ]
        }
      },
      "outputs": [
        {
          "output_type": "display_data",
          "data": {
            "application/vnd.jupyter.widget-view+json": {
              "model_id": "487411b9c8db497580c0545054d6186a",
              "version_minor": 0,
              "version_major": 2
            },
            "text/plain": [
              "Tab(children=(Output(), Output()), _titles={'0': 'Youtube', '1': 'Bilibili'})"
            ]
          },
          "metadata": {}
        }
      ],
      "source": [
        "# @title Video 3: Interpretability\n",
        "from ipywidgets import widgets\n",
        "\n",
        "out2 = widgets.Output()\n",
        "with out2:\n",
        "  from IPython.display import IFrame\n",
        "  class BiliVideo(IFrame):\n",
        "    def __init__(self, id, page=1, width=400, height=300, **kwargs):\n",
        "      self.id=id\n",
        "      src = \"https://player.bilibili.com/player.html?bvid={0}&page={1}\".format(id, page)\n",
        "      super(BiliVideo, self).__init__(src, width, height, **kwargs)\n",
        "\n",
        "  video = BiliVideo(id=f\"BV1Ey4y1j7Jj\", width=854, height=480, fs=1)\n",
        "  print(\"Video available at https://www.bilibili.com/video/{0}\".format(video.id))\n",
        "  display(video)\n",
        "\n",
        "out1 = widgets.Output()\n",
        "with out1:\n",
        "  from IPython.display import YouTubeVideo\n",
        "  video = YouTubeVideo(id=f\"P_QtnN1_wMM\", width=854, height=480, fs=1, rel=0)\n",
        "  print(\"Video available at https://youtube.com/watch?v=\" + video.id)\n",
        "  display(video)\n",
        "\n",
        "out = widgets.Tab([out1, out2])\n",
        "out.set_title(0, 'Youtube')\n",
        "out.set_title(1, 'Bilibili')\n",
        "\n",
        "# add event to airtable\n",
        "atform.add_event('Video 3: Interpretability')\n",
        "\n",
        "display(out)"
      ]
    },
    {
      "cell_type": "markdown",
      "metadata": {
        "execution": {},
        "id": "F9PYb6g49L1Y"
      },
      "source": [
        "Lets' find the most important feature for Cancer prediction and see if it belongs to the set of two most important features for the same problem!"
      ]
    },
    {
      "cell_type": "markdown",
      "metadata": {
        "execution": {},
        "id": "lGVHaLFJ9L1Z"
      },
      "source": [
        "## Section 3.1: Defining the problem setup"
      ]
    },
    {
      "cell_type": "markdown",
      "metadata": {
        "execution": {},
        "id": "dioSy3CG9L1Z"
      },
      "source": [
        "Imagine that you want to apply all the knowledge that you have gained from this course to a real health problem, say predicting cancer. You develop an algorithm for predicting cancer using certain input features from patient data. \n",
        "\n",
        "This is a composite model that takes in three binary variables: does the patient have a family history of cancer (1=yes, 0=no), does the patient smoke (1=yes, 0=no), and is the patient young (age < 40) (1=yes, 0=no).\n",
        "\n",
        "The algorithm does not favour either of the outcomes, so $P(cancer) = P(no\\_cancer) = .5$\n",
        "\n",
        "You wish to find the most important feature according to the model and you have the following list of conditional probabilities.\n",
        "\n",
        "<br>\n",
        "\n",
        "\\begin{align}\n",
        "P(family\\_history = 1  | no\\_cancer) = .1 &, P(family\\_history = 1 | cancer) = .9 \\\\\n",
        "P(smoker = 1 | no\\_cancer) = .05 &, P(smoker = 1| cancer) = .8 \\\\\n",
        "P(young = 1 | no\\_cancer) = .01 &, P(young = 1 | cancer) = .71\n",
        "\\end{align}"
      ]
    },
    {
      "cell_type": "markdown",
      "metadata": {
        "execution": {},
        "id": "K_BrIjup9L1Z"
      },
      "source": [
        "## Section 3.2: Defining a feature importance metric"
      ]
    },
    {
      "cell_type": "markdown",
      "metadata": {
        "execution": {},
        "id": "4OalS8g_9L1Z"
      },
      "source": [
        "Let's define a metric that can help us quantify how important a feature (or a given set of features) is!"
      ]
    },
    {
      "cell_type": "markdown",
      "metadata": {
        "execution": {},
        "id": "Y8DZ_jli9L1Z"
      },
      "source": [
        "### Think! 3.2.1: Think of a suitable feature importance metric!\n",
        "\n",
        "Take a moment to think about feature importance and a simple metric for quantifying it! Remember that the feature importance should depend on how useful the feature is for predicting the outcome *alone*."
      ]
    },
    {
      "cell_type": "code",
      "execution_count": 26,
      "metadata": {
        "cellView": "form",
        "execution": {},
        "id": "o9LWcp4X9L1a",
        "outputId": "e0e0ffc9-53e9-4613-db4d-f24915b11ef1",
        "colab": {
          "base_uri": "https://localhost:8080/",
          "height": 93,
          "referenced_widgets": [
            "267a4f59744846e58f75461032f1faa0",
            "efdeb0483e8849278c4a33dcb8c66814",
            "74269696666f49bd9082b904541fff2a",
            "223961ae3d504c3989b4669cd7c1752c",
            "0645a2af500f4411bbcdcc19f08c0f37",
            "4feaa7bf567d4d2ba183c9078af24b10"
          ]
        }
      },
      "outputs": [
        {
          "output_type": "display_data",
          "data": {
            "application/vnd.jupyter.widget-view+json": {
              "model_id": "267a4f59744846e58f75461032f1faa0",
              "version_minor": 0,
              "version_major": 2
            },
            "text/plain": [
              "Textarea(value='Type your answer here and click on `Submit!`', placeholder='Type something')"
            ]
          },
          "metadata": {}
        },
        {
          "output_type": "display_data",
          "data": {
            "application/vnd.jupyter.widget-view+json": {
              "model_id": "223961ae3d504c3989b4669cd7c1752c",
              "version_minor": 0,
              "version_major": 2
            },
            "text/plain": [
              "Button(description='Submit!', style=ButtonStyle())"
            ]
          },
          "metadata": {}
        }
      ],
      "source": [
        "# @title Student Response\n",
        "from ipywidgets import widgets\n",
        "\n",
        "\n",
        "text=widgets.Textarea(\n",
        "   value='Type your answer here and click on `Submit!`',\n",
        "   placeholder='Type something',\n",
        "   description='',\n",
        "   disabled=False\n",
        ")\n",
        "\n",
        "button = widgets.Button(description=\"Submit!\")\n",
        "\n",
        "display(text,button)\n",
        "\n",
        "def on_button_clicked(b):\n",
        "   atform.add_answer('q1' , text.value)\n",
        "   print(\"Submission successful!\")\n",
        "\n",
        "\n",
        "button.on_click(on_button_clicked)"
      ]
    },
    {
      "cell_type": "markdown",
      "metadata": {
        "execution": {},
        "id": "j4d6ryVy9L1a"
      },
      "source": [
        "Now discuss the following with the group: \n",
        "\n",
        "1. Each member of the group should briefly talk about the feature metric they came up with and why they think it is suitable for the given problem setup.\n",
        "2. Identify the most important characterics of a good feature importance metric. (As different members of the group used different criteria to select their metrics, find out the most important criteria that helped!). Try to limit yourself to the two most important characteristics. "
      ]
    },
    {
      "cell_type": "markdown",
      "metadata": {
        "execution": {},
        "id": "2mGHK_Dg9L1a"
      },
      "source": [
        "Note down the most important characteristic here!"
      ]
    },
    {
      "cell_type": "code",
      "execution_count": 27,
      "metadata": {
        "cellView": "form",
        "execution": {},
        "id": "9yRElpZX9L1b",
        "outputId": "6ee5ec2f-b5b8-4c5b-dd4f-d3112be5dfde",
        "colab": {
          "base_uri": "https://localhost:8080/",
          "height": 93,
          "referenced_widgets": [
            "27729ea7a00a4832bff09b291ed5a436",
            "d97a7b9b39134c6499e306dc82175c65",
            "2a7f4488a98b4171a44b011004b666a0",
            "f397bfddab4d47049e8a5d6ac298bf0a",
            "399a2a80379e4fb2bcb82f67ad826fd7",
            "ab72f249901f4cdba1a257cdda0efb31"
          ]
        }
      },
      "outputs": [
        {
          "output_type": "display_data",
          "data": {
            "application/vnd.jupyter.widget-view+json": {
              "model_id": "27729ea7a00a4832bff09b291ed5a436",
              "version_minor": 0,
              "version_major": 2
            },
            "text/plain": [
              "Textarea(value='Type the most important characteristic and click on `Submit!`', placeholder='Type something')"
            ]
          },
          "metadata": {}
        },
        {
          "output_type": "display_data",
          "data": {
            "application/vnd.jupyter.widget-view+json": {
              "model_id": "f397bfddab4d47049e8a5d6ac298bf0a",
              "version_minor": 0,
              "version_major": 2
            },
            "text/plain": [
              "Button(description='Submit!', style=ButtonStyle())"
            ]
          },
          "metadata": {}
        }
      ],
      "source": [
        "# @title Student Response\n",
        "from ipywidgets import widgets\n",
        "\n",
        "\n",
        "text=widgets.Textarea(\n",
        "   value='Type the most important characteristic and click on `Submit!`',\n",
        "   placeholder='Type something',\n",
        "   description='',\n",
        "   disabled=False\n",
        ")\n",
        "\n",
        "button = widgets.Button(description=\"Submit!\")\n",
        "\n",
        "display(text,button)\n",
        "\n",
        "def on_button_clicked(b):\n",
        "   atform.add_answer('q2' , text.value)\n",
        "   print(\"Submission successful!\")\n",
        "\n",
        "\n",
        "button.on_click(on_button_clicked)"
      ]
    },
    {
      "cell_type": "markdown",
      "metadata": {
        "execution": {},
        "id": "uS8xsbpW9L1b"
      },
      "source": [
        "Also note down the second most important characteristic here."
      ]
    },
    {
      "cell_type": "code",
      "execution_count": 28,
      "metadata": {
        "cellView": "form",
        "execution": {},
        "id": "4E7BEdko9L1b",
        "outputId": "7dfa9b3f-0b74-413b-878f-a0203acddf28",
        "colab": {
          "base_uri": "https://localhost:8080/",
          "height": 93,
          "referenced_widgets": [
            "ef1cc2f3989c41db88df894f8be3a8af",
            "5d713df6c8874f20b35ccd360b921451",
            "47fa73e836474bc8b59b1df61dc74d7e",
            "22c97655cca44422a7353beada8acf79",
            "29ece5d42ee749b1ab8c5440dced73a6",
            "8b32f1d704934351a21cd9ac0eb22c30"
          ]
        }
      },
      "outputs": [
        {
          "output_type": "display_data",
          "data": {
            "application/vnd.jupyter.widget-view+json": {
              "model_id": "ef1cc2f3989c41db88df894f8be3a8af",
              "version_minor": 0,
              "version_major": 2
            },
            "text/plain": [
              "Textarea(value='Type the second most important characteristic and click on `Submit!`', placeholder='Type somet…"
            ]
          },
          "metadata": {}
        },
        {
          "output_type": "display_data",
          "data": {
            "application/vnd.jupyter.widget-view+json": {
              "model_id": "22c97655cca44422a7353beada8acf79",
              "version_minor": 0,
              "version_major": 2
            },
            "text/plain": [
              "Button(description='Submit!', style=ButtonStyle())"
            ]
          },
          "metadata": {}
        }
      ],
      "source": [
        "# @title Student Response\n",
        "from ipywidgets import widgets\n",
        "\n",
        "\n",
        "text=widgets.Textarea(\n",
        "   value='Type the second most important characteristic and click on `Submit!`',\n",
        "   placeholder='Type something',\n",
        "   description='',\n",
        "   disabled=False\n",
        ")\n",
        "\n",
        "button = widgets.Button(description=\"Submit!\")\n",
        "\n",
        "display(text,button)\n",
        "\n",
        "def on_button_clicked(b):\n",
        "   atform.add_answer('q3' , text.value)\n",
        "   print(\"Submission successful!\")\n",
        "\n",
        "\n",
        "button.on_click(on_button_clicked)"
      ]
    },
    {
      "cell_type": "markdown",
      "metadata": {
        "execution": {},
        "id": "-lfUho3m9L1b"
      },
      "source": [
        "Thank you for coming up with some guidelines for what makes a feature importance metric good!\n",
        "\n",
        "Although the metrics defined by you must be great, we here define a simple metric for maintaining consistency throughout the rest of this tutorial.\n",
        "\n",
        "Let's assume that we wish to find the K best features. We know that a set of K features would be most important if they can predict the outcome with high confidence and better than any other set of the same size! We could hence try to predict the outcome using only the given set of features and record the accuracy. If this accuracy is higher than that using any other set of the same size, then we can say that the given set has the most important K features!\n",
        "\n",
        "In essence, we would want to find the accuracies considering all feature sets of size K and then pick the one with the highest accuracy.\n",
        "\n",
        "If we wish to define a loss instead (the lower the better), we could simply extend the above notion as follows:\n",
        "\n",
        "\\begin{equation}\n",
        "Loss = 1 - Accuracy\n",
        "\\end{equation}"
      ]
    },
    {
      "cell_type": "markdown",
      "metadata": {
        "execution": {},
        "id": "FcBCD1pl9L1c"
      },
      "source": [
        "### Think! 3.2.2: Is our feature importance metric good?\n",
        "\n",
        "Now that we have provided a new feature importance metric, think of the following: \n",
        "\n",
        "1. What do you think of this new feature importance metric, and how is it different from the one that you came up with? \n",
        "2. Does it satify the criteria that you came up with? \n",
        "3. If not, why? Does the metric need to be modified or the criteria?"
      ]
    },
    {
      "cell_type": "code",
      "execution_count": 29,
      "metadata": {
        "cellView": "form",
        "execution": {},
        "id": "iGaVm9Jf9L1c",
        "outputId": "253f3c74-afdd-4699-ebfe-f0d25baeb37c",
        "colab": {
          "base_uri": "https://localhost:8080/",
          "height": 93,
          "referenced_widgets": [
            "7b3f393fd4254ba1858045e73fbc828a",
            "c66e276d58c640cbae00589a45f8ce07",
            "06a92547be8b4c759b3076001584413b",
            "c3224a84050e47f0bf24e7fc9708de50",
            "cd8da857319549d69d4ca09468c6bfd4",
            "0f3751a2539f46f4aaac01a7f07a2d80"
          ]
        }
      },
      "outputs": [
        {
          "output_type": "display_data",
          "data": {
            "application/vnd.jupyter.widget-view+json": {
              "model_id": "7b3f393fd4254ba1858045e73fbc828a",
              "version_minor": 0,
              "version_major": 2
            },
            "text/plain": [
              "Textarea(value='Type your answer here and click on `Submit!`', placeholder='Type something')"
            ]
          },
          "metadata": {}
        },
        {
          "output_type": "display_data",
          "data": {
            "application/vnd.jupyter.widget-view+json": {
              "model_id": "c3224a84050e47f0bf24e7fc9708de50",
              "version_minor": 0,
              "version_major": 2
            },
            "text/plain": [
              "Button(description='Submit!', style=ButtonStyle())"
            ]
          },
          "metadata": {}
        }
      ],
      "source": [
        "# @title Student Response\n",
        "from ipywidgets import widgets\n",
        "\n",
        "\n",
        "text=widgets.Textarea(\n",
        "   value='Type your answer here and click on `Submit!`',\n",
        "   placeholder='Type something',\n",
        "   description='',\n",
        "   disabled=False\n",
        ")\n",
        "\n",
        "button = widgets.Button(description=\"Submit!\")\n",
        "\n",
        "display(text,button)\n",
        "\n",
        "def on_button_clicked(b):\n",
        "   atform.add_answer('q4' , text.value)\n",
        "   print(\"Submission successful!\")\n",
        "\n",
        "\n",
        "button.on_click(on_button_clicked)"
      ]
    },
    {
      "cell_type": "markdown",
      "metadata": {
        "execution": {},
        "id": "UrfyRwLn9L1c"
      },
      "source": [
        "## Section 3.3: Finding the most important feature"
      ]
    },
    {
      "cell_type": "markdown",
      "metadata": {
        "execution": {},
        "id": "72CS7xiG9L1c"
      },
      "source": [
        "Considering the feature importance metric that we defined above, let's try to find the most important and the two most important features!\n",
        "\n",
        "The accuracy can be calculated using the probabilities specified above. Here are the accuracies for different feature sets! (Note that we have not detailed the calculation of these accuracies. If you are curious, refer to the bonus section!)\n",
        "\n",
        "For a detailed explanation, see *Bonus 3*."
      ]
    },
    {
      "cell_type": "markdown",
      "metadata": {
        "execution": {},
        "id": "CKtew5px9L1c"
      },
      "source": [
        "|           Feature(s)          | Accuracy |\n",
        "|:---------------------------:|:-------------------:|\n",
        "|   Family History            |        0.90         | \n",
        "| Is a Smoker                 |        0.875        |\n",
        "| Is Young                    |        0.85         |\n",
        "| Family History, Is a Smoker |        0.917        |\n",
        "| Is a Smoker, Is Young       |        0.941        |\n",
        "| Family History, Is Young    |        0.931        |\n"
      ]
    },
    {
      "cell_type": "markdown",
      "metadata": {
        "execution": {},
        "id": "Mz6tEVKv9L1d"
      },
      "source": [
        "### Think! 3.3.1: Finding important features\n",
        "\n",
        "Given the table above, what is the single most important feature?"
      ]
    },
    {
      "cell_type": "code",
      "execution_count": 30,
      "metadata": {
        "cellView": "form",
        "execution": {},
        "id": "GlAkLUts9L1d",
        "outputId": "65aed3fa-2772-49fa-bae2-724a09502f7e",
        "colab": {
          "base_uri": "https://localhost:8080/",
          "height": 93,
          "referenced_widgets": [
            "b22e3fa6a8714891a55d1bfb3d7c41c5",
            "2be5ea02615f4f6782591a40ebd92996",
            "a9ed3e9e495e4b3380e580cb650911c0",
            "65335ccfd2e941359b891fc3fcd1381b",
            "9a74b4675cf2412e91985a9bd4f42e19",
            "87252aaad8744aa89f868ea2d769e151"
          ]
        }
      },
      "outputs": [
        {
          "output_type": "display_data",
          "data": {
            "application/vnd.jupyter.widget-view+json": {
              "model_id": "b22e3fa6a8714891a55d1bfb3d7c41c5",
              "version_minor": 0,
              "version_major": 2
            },
            "text/plain": [
              "Textarea(value='Type your answer here and click on `Submit!`', placeholder='Type something')"
            ]
          },
          "metadata": {}
        },
        {
          "output_type": "display_data",
          "data": {
            "application/vnd.jupyter.widget-view+json": {
              "model_id": "65335ccfd2e941359b891fc3fcd1381b",
              "version_minor": 0,
              "version_major": 2
            },
            "text/plain": [
              "Button(description='Submit!', style=ButtonStyle())"
            ]
          },
          "metadata": {}
        }
      ],
      "source": [
        "# @title Student Response\n",
        "from ipywidgets import widgets\n",
        "\n",
        "\n",
        "text=widgets.Textarea(\n",
        "   value='Type your answer here and click on `Submit!`',\n",
        "   placeholder='Type something',\n",
        "   description='',\n",
        "   disabled=False\n",
        ")\n",
        "\n",
        "button = widgets.Button(description=\"Submit!\")\n",
        "\n",
        "display(text,button)\n",
        "\n",
        "def on_button_clicked(b):\n",
        "   atform.add_answer('q5' , text.value)\n",
        "   print(\"Submission successful!\")\n",
        "\n",
        "\n",
        "button.on_click(on_button_clicked)"
      ]
    },
    {
      "cell_type": "code",
      "execution_count": 31,
      "metadata": {
        "execution": {},
        "id": "g2BLF2s59L1d"
      },
      "outputs": [],
      "source": [
        "# to_remove explanation\n",
        "\n",
        "\"\"\"\n",
        "Answer: Family History\n",
        "\n",
        "Why?\n",
        "\n",
        "The most important feature would be the one which gives the highest accuracy\n",
        "when used alone. This makes Family History the most important feature using it\n",
        "alone results in an accuracy of 0.9 as opposed to 0.875 and 0.85 when using\n",
        "`Is_a_smoker` and `Is_young`, respectively\n",
        "\"\"\";"
      ]
    },
    {
      "cell_type": "markdown",
      "metadata": {
        "execution": {},
        "id": "bMuUSVH-9L1e"
      },
      "source": [
        "Can you also find out the second most important features?"
      ]
    },
    {
      "cell_type": "code",
      "execution_count": 32,
      "metadata": {
        "cellView": "form",
        "execution": {},
        "id": "h4DhLLHA9L1e",
        "outputId": "21e7b692-68e3-4d4f-f2d7-31e40a9d4d23",
        "colab": {
          "base_uri": "https://localhost:8080/",
          "height": 93,
          "referenced_widgets": [
            "fffe08ee9f1f441399cfebf91f178179",
            "c1f86f90027542eab3c74a20bc93f90b",
            "2727b8d6306d4751854c1be4fd033062",
            "0300a05eeaff4215b2fb836e50f51f6f",
            "b7534e5b43a44998a93fca0faaa95297",
            "e9b7f336c6c8478680325ebd62b60b18"
          ]
        }
      },
      "outputs": [
        {
          "output_type": "display_data",
          "data": {
            "application/vnd.jupyter.widget-view+json": {
              "model_id": "fffe08ee9f1f441399cfebf91f178179",
              "version_minor": 0,
              "version_major": 2
            },
            "text/plain": [
              "Textarea(value='Type your answer here and click on `Submit!`', placeholder='Type something')"
            ]
          },
          "metadata": {}
        },
        {
          "output_type": "display_data",
          "data": {
            "application/vnd.jupyter.widget-view+json": {
              "model_id": "0300a05eeaff4215b2fb836e50f51f6f",
              "version_minor": 0,
              "version_major": 2
            },
            "text/plain": [
              "Button(description='Submit!', style=ButtonStyle())"
            ]
          },
          "metadata": {}
        }
      ],
      "source": [
        "# @title Student Response\n",
        "from ipywidgets import widgets\n",
        "\n",
        "\n",
        "text=widgets.Textarea(\n",
        "   value='Type your answer here and click on `Submit!`',\n",
        "   placeholder='Type something',\n",
        "   description='',\n",
        "   disabled=False\n",
        ")\n",
        "\n",
        "button = widgets.Button(description=\"Submit!\")\n",
        "\n",
        "display(text,button)\n",
        "\n",
        "def on_button_clicked(b):\n",
        "   atform.add_answer('q6' , text.value)\n",
        "   print(\"Submission successful!\")\n",
        "\n",
        "\n",
        "button.on_click(on_button_clicked)"
      ]
    },
    {
      "cell_type": "code",
      "execution_count": 33,
      "metadata": {
        "execution": {},
        "id": "FtOmmAuG9L1i"
      },
      "outputs": [],
      "source": [
        "# to_remove explanation\n",
        "\n",
        "\"\"\"\n",
        "Answer: Is a Smoker and Is Young\n",
        "\"\"\";"
      ]
    },
    {
      "cell_type": "markdown",
      "metadata": {
        "execution": {},
        "id": "8YLnLYF19L1i"
      },
      "source": [
        "The most important feature is not one of the two most important features! Can you find out why this is the case?"
      ]
    },
    {
      "cell_type": "markdown",
      "metadata": {
        "execution": {},
        "id": "VtGb-ICb9L1j"
      },
      "source": [
        "## Section 3.4: Section Summary\n",
        "\n",
        "In this section, we discussed the following:\n",
        "\n",
        "* What is Interpretability and why is it important?\n",
        "\n",
        "* How can input features be used to understand the model's predictions (aka feature importances)? \n"
      ]
    },
    {
      "cell_type": "markdown",
      "metadata": {
        "execution": {},
        "id": "-SbypQUe9L1j"
      },
      "source": [
        "---\n",
        "# Summary"
      ]
    },
    {
      "cell_type": "markdown",
      "metadata": {
        "execution": {},
        "id": "UZQX5mSM9L1j"
      },
      "source": [
        "Recall the problem that you set out to solve at the beginning of this tutorial."
      ]
    },
    {
      "cell_type": "code",
      "execution_count": 34,
      "metadata": {
        "cellView": "form",
        "execution": {},
        "id": "n0MPke3U9L1j",
        "outputId": "8a9c6163-449e-44cb-de1a-e11378ab29a5",
        "colab": {
          "base_uri": "https://localhost:8080/"
        }
      },
      "outputs": [
        {
          "output_type": "stream",
          "name": "stdout",
          "text": [
            "\n"
          ]
        }
      ],
      "source": [
        "# @markdown *Run me to print the problem that you wanted to solve!*\n",
        "print(Problem_that_you_want_to_solve)"
      ]
    },
    {
      "cell_type": "markdown",
      "metadata": {
        "execution": {},
        "id": "qje1PY1_9L1k"
      },
      "source": [
        "Take a moment to think about the following:\n",
        "\n",
        "1. Did this tutorial help you find some ideas to solve this problem?\n",
        "2. Can you now come up with a solution to this problem by using all the tools that you learnt from this course?\n",
        "\n",
        "We sincerely hope that your answers to these two questions are yes and YES! Recall all that you learnt from this course and how this knowledge and practical experience can help with a problem that *you* want to solve. Go back and experiment with your solutions and see if you can solve this problem that matters to you!\n",
        "\n",
        "**Congratulations! You have finished the NMA-DL course!**"
      ]
    },
    {
      "cell_type": "code",
      "execution_count": 35,
      "metadata": {
        "cellView": "form",
        "execution": {},
        "id": "npNtYyi_9L1k",
        "outputId": "82fa4bdd-b5fb-45de-e54b-6da2b7bad746",
        "colab": {
          "base_uri": "https://localhost:8080/",
          "height": 160
        }
      },
      "outputs": [
        {
          "output_type": "execute_result",
          "data": {
            "text/html": [
              "\n",
              " <div>\n",
              "   <a href= \"https://portal.neuromatchacademy.org/api/redirect/to/1d7fcd5d-f1e9-4ac5-ae58-b0ade54a4f87?data=eyJmb3JtX2lkIjogImFwcG43VmRQUnNlU29NWEVHIiwgInRhYmxlX25hbWUiOiAiVzNENF9UMiIsICJhbnN3ZXJzIjoge30sICJldmVudHMiOiBbeyJldmVudCI6ICJpbml0IiwgInRzIjogMTY0MTgzNTI2OC4wODEzOTc1fSwgeyJldmVudCI6ICJWaWRlbyAxOiBUaGUgRnV0dXJlIG9mIExlYXJuaW5nIiwgInRzIjogMTY0MTgzNTI3NS4zMzU5NDM1fSwgeyJldmVudCI6ICJWaWRlbyAyOiBUcmFuc2ZlciBhbmQgTXVsdGktVGFza2luZyBMZWFybmluZyIsICJ0cyI6IDE2NDE4MzUyNzUuNDI0NDQxfSwgeyJldmVudCI6ICJDb2RpbmcgRXhlcmNpc2UgMi4yOiBDcmVhdGluZyBhIE11bHRpLVRhc2sgbW9kZWwiLCAidHMiOiAxNjQxODM1Mjg0LjU3MTE3NzJ9LCB7ImV2ZW50IjogIkNvZGluZyBFeGVyY2lzZSAyLjI6IENyZWF0aW5nIGEgTXVsdGktVGFzayBtb2RlbCIsICJ0cyI6IDE2NDE4MzUyODQuNTk5NTQwNX0sIHsiZXZlbnQiOiAiVmlkZW8gMzogSW50ZXJwcmV0YWJpbGl0eSIsICJ0cyI6IDE2NDE4MzU3ODMuODM5NzAxfSwgeyJldmVudCI6ICJ1cmwgZ2VuZXJhdGVkIiwgInRzIjogMTY0MTgzNTc4NC4xMTgwMjk4fV19\" target=\"_blank\">\n",
              "   <img src=\"https://github.com/NeuromatchAcademy/course-content-dl/blob/main/tutorials/static/SurveyButton.png?raw=1\"\n",
              " alt=\"button link end of day Survey\" style=\"width:410px\"></a>\n",
              "   </div>"
            ],
            "text/plain": [
              "<IPython.core.display.HTML object>"
            ]
          },
          "metadata": {},
          "execution_count": 35
        }
      ],
      "source": [
        "# @title Airtable Submission Link\n",
        "from IPython import display as IPydisplay\n",
        "IPydisplay.HTML(\n",
        "   f\"\"\"\n",
        " <div>\n",
        "   <a href= \"{atform.url()}\" target=\"_blank\">\n",
        "   <img src=\"https://github.com/NeuromatchAcademy/course-content-dl/blob/main/tutorials/static/SurveyButton.png?raw=1\"\n",
        " alt=\"button link end of day Survey\" style=\"width:410px\"></a>\n",
        "   </div>\"\"\" )"
      ]
    },
    {
      "cell_type": "markdown",
      "metadata": {
        "execution": {},
        "id": "qMGHev1n9L1k"
      },
      "source": [
        "---\n",
        "# Bonus 1: Introduction to Meta Learning\n",
        "\n",
        "*Time estimate: ~20mins*"
      ]
    },
    {
      "cell_type": "markdown",
      "metadata": {
        "execution": {},
        "id": "MtK5eVph9L1k"
      },
      "source": [
        "In this section, we will *literally* learn to learn by exploring the concept of Meta Learning. Meta Learning attempts to improve the generalization capabilities of neural networks by teaching them *how to learn new tasks fast*. We aim to introduce you to the following topics:\n",
        "\n",
        "1. Meta-Learning and its applications \n",
        "2. Few-shot classification (the most common application of Meta-Learning in supervised classification settings)\n",
        "3. One-shot Learning with Convolutional Siamese Networks"
      ]
    },
    {
      "cell_type": "code",
      "execution_count": 36,
      "metadata": {
        "cellView": "form",
        "execution": {},
        "id": "pAfU3rZj9L1l",
        "outputId": "f43796bd-d048-4255-f837-9d1dda27b9b4",
        "colab": {
          "base_uri": "https://localhost:8080/",
          "height": 582,
          "referenced_widgets": [
            "2dd886f79ec64081a2d40da632c4e712",
            "68d5a972ffbc4f20b13b2a3a024981f1",
            "63799a207a9640d2a025fbbf2f6ac80c",
            "d03cf4b8d03f4e879201a6480c8ee9a4",
            "835daded92404081ab51e840a6e6b8cc",
            "1cae6613f541456d87e24e64b0cab94c"
          ]
        }
      },
      "outputs": [
        {
          "output_type": "display_data",
          "data": {
            "application/vnd.jupyter.widget-view+json": {
              "model_id": "2dd886f79ec64081a2d40da632c4e712",
              "version_minor": 0,
              "version_major": 2
            },
            "text/plain": [
              "Tab(children=(Output(), Output()), _titles={'0': 'Youtube', '1': 'Bilibili'})"
            ]
          },
          "metadata": {}
        }
      ],
      "source": [
        "# @title Video 4: Meta Learning\n",
        "from ipywidgets import widgets\n",
        "\n",
        "out2 = widgets.Output()\n",
        "with out2:\n",
        "  from IPython.display import IFrame\n",
        "  class BiliVideo(IFrame):\n",
        "    def __init__(self, id, page=1, width=400, height=300, **kwargs):\n",
        "      self.id=id\n",
        "      src = \"https://player.bilibili.com/player.html?bvid={0}&page={1}\".format(id, page)\n",
        "      super(BiliVideo, self).__init__(src, width, height, **kwargs)\n",
        "\n",
        "  video = BiliVideo(id=f\"BV1zU4y1n77d\", width=854, height=480, fs=1)\n",
        "  print(\"Video available at https://www.bilibili.com/video/{0}\".format(video.id))\n",
        "  display(video)\n",
        "\n",
        "out1 = widgets.Output()\n",
        "with out1:\n",
        "  from IPython.display import YouTubeVideo\n",
        "  video = YouTubeVideo(id=f\"8grBwtrzcDI\", width=854, height=480, fs=1, rel=0)\n",
        "  print(\"Video available at https://youtube.com/watch?v=\" + video.id)\n",
        "  display(video)\n",
        "\n",
        "out = widgets.Tab([out1, out2])\n",
        "out.set_title(0, 'Youtube')\n",
        "out.set_title(1, 'Bilibili')\n",
        "\n",
        "# add event to airtable\n",
        "atform.add_event('Video 4: Meta Learning')\n",
        "\n",
        "display(out)"
      ]
    },
    {
      "cell_type": "markdown",
      "metadata": {
        "execution": {},
        "id": "-Af5Mgsg9L1l"
      },
      "source": [
        "Meta-Learning is most commonly observed as Few-shot Learning in Supervised learning settings.\n",
        "\n",
        "Few-shot Learning aims to answer the following question: How can a neural network learn a task well with *very little* data? \n",
        "\n",
        "In the context of supervised classification, K-shot learning refers to learning with only K examples of each class. An extension of this would be N-way K-shot learning, which attempts to train a network with only K examples of each of the N classes. Let's take an example of a 5-way 1-shot problem: "
      ]
    },
    {
      "cell_type": "markdown",
      "metadata": {
        "execution": {},
        "id": "D3XoubRy9L1l"
      },
      "source": [
        "<img src=\"https://raw.githubusercontent.com/NeuromatchAcademy/course-content-dl/main/tutorials/W3D4_ContinualLearning/static/Metalearning.png\">"
      ]
    },
    {
      "cell_type": "markdown",
      "metadata": {
        "execution": {},
        "id": "eNkd2ZJ39L1l"
      },
      "source": [
        "Now that we know what Few-shot learning is, let's take a look at a One-shot classification problem using Siamese Networks!"
      ]
    },
    {
      "cell_type": "markdown",
      "metadata": {
        "execution": {},
        "id": "dtc37Snc9L1m"
      },
      "source": [
        "## Bonus Section 1.1: Introduction to Omniglot"
      ]
    },
    {
      "cell_type": "markdown",
      "metadata": {
        "execution": {},
        "id": "K0WSa2eR9L1m"
      },
      "source": [
        "The Omniglot data set is a a standardized benchmark for evaluating the performance of Few-shot Learning algorithms. It contains 1623 different handwritten characters from 50 different alphabets. The alphabets range from well-established international languages like Latin and Korean to lesser known local dialects. Fictitious character sets such as Aurek-Besh and Klingon are also included. Here are a few examples from the Omniglot dataset."
      ]
    },
    {
      "cell_type": "markdown",
      "metadata": {
        "execution": {},
        "id": "25MMzM-v9L1m"
      },
      "source": [
        "<img src=\"https://raw.githubusercontent.com/NeuromatchAcademy/course-content-dl/main/tutorials/W3D4_ContinualLearning/static/omni.jpeg.png\">"
      ]
    },
    {
      "cell_type": "markdown",
      "metadata": {
        "execution": {},
        "id": "85P2l4Gt9L1m"
      },
      "source": [
        "## Bonus Section 1.2: Convolutional Siamese Networks"
      ]
    },
    {
      "cell_type": "markdown",
      "metadata": {
        "execution": {},
        "id": "6VYCoKtl9L1n"
      },
      "source": [
        "The simplest way to evaluate where an image belongs to a class is by comparing it with other images of the same class. Convolutional Siamese networks help us in comparing two images and quantify how similar or different they are from one another. This is known as verification.\n",
        "\n",
        "Verification of two images is done as follows: Both the images are passed through the convolutional network to generate *feature vectors* representing them. These feature vectors are then compared for similarity. (Find a better image for siamese network maybe)\n"
      ]
    },
    {
      "cell_type": "markdown",
      "metadata": {
        "execution": {},
        "id": "X6caXlme9L1n"
      },
      "source": [
        "<img src=\"https://raw.githubusercontent.com/NeuromatchAcademy/course-content-dl/main/tutorials/W3D4_ContinualLearning/static/siamese.png\">"
      ]
    },
    {
      "cell_type": "markdown",
      "metadata": {
        "execution": {},
        "id": "1JeOgAfC9L1n"
      },
      "source": [
        "\n",
        "How can we compare if two vectors are similar? By using a distance metric! **L1 distance** is one such metric that evaluates the distance between two vectors by computing the absolute value of the difference of invidual components of both vectors. More specifically, given vectors `v1` and `v2`, the component-wise L1 distance would be as follows:\n",
        "\n",
        "```\n",
        "l1_distance = abs(v1 - v2)\n",
        "```\n",
        "\n",
        "After this, the problem boils down to a binary classification problem where two images either belong to the same class or not!"
      ]
    },
    {
      "cell_type": "markdown",
      "metadata": {
        "execution": {},
        "id": "Y9Ur0X5W9L1n"
      },
      "source": [
        "### Bonus Coding Exercise 1.2: Creating a Convolutional Siamese Network\n",
        "\n",
        "Let's create a Convolutional Siamese Network! The structure of the network is created in the `ConvSiameseNet` class. You have to compute the L1 distance (`l1_distance`) between the feature vectors (`x1_fv` and `x2_fv`). You can use `torch.abs()` to compute the absolute value of a tensor."
      ]
    },
    {
      "cell_type": "code",
      "execution_count": 37,
      "metadata": {
        "execution": {},
        "id": "k5STQNY_9L1o"
      },
      "outputs": [],
      "source": [
        "# Define the Siamese Network\n",
        "class ConvSiameseNet(nn.Module):\n",
        "  \"\"\"\n",
        "  Convolutional Siamese Network from \"Siamese Neural Networks for One-shot Image Recognition\"\n",
        "  Paper can be found at http://www.cs.toronto.edu/~rsalakhu/papers/oneshot1.pdf\n",
        "  \"\"\"\n",
        "\n",
        "  def __init__(self):\n",
        "    super().__init__()\n",
        "    self.conv1 = nn.Conv2d(1, 64, 10)\n",
        "    self.conv2 = nn.Conv2d(64, 128, 7)\n",
        "    self.conv3 = nn.Conv2d(128, 128, 4)\n",
        "    self.conv4 = nn.Conv2d(128, 256, 4)\n",
        "    self.pool = nn.MaxPool2d(2, 2)\n",
        "    self.fc1 = nn.Linear(256*6*6, 4096)\n",
        "    self.fc2 = nn.Linear(4096, 1)\n",
        "\n",
        "  def model(self, x):\n",
        "    x = self.pool(F.relu(self.conv1(x)))\n",
        "    x = self.pool(F.relu(self.conv2(x)))\n",
        "    x = self.pool(F.relu(self.conv3(x)))\n",
        "    x = F.relu(self.conv4(x))\n",
        "    x = torch.flatten(x, 1)\n",
        "    x = torch.sigmoid(self.fc1(x))\n",
        "    return x\n",
        "\n",
        "  def forward(self, x1, x2):\n",
        "    x1_fv = self.model(x1)\n",
        "    x2_fv = self.model(x2)\n",
        "    ############################################################################\n",
        "    ## TODO: Calculate the component-wise l1_distance between x1_fv and x2_fv ##\n",
        "    # Fill out function and remove\n",
        "    raise NotImplementedError(\"Student exercise: Calculate l1_distance\")\n",
        "    ############################################################################\n",
        "    # Calculate L1 distance (as l1_distance) between x1_fv and x2_fv\n",
        "    l1_distance = ...\n",
        "\n",
        "    return self.fc2(l1_distance)"
      ]
    },
    {
      "cell_type": "code",
      "execution_count": 38,
      "metadata": {
        "execution": {},
        "id": "iQYzdy4D9L1o"
      },
      "outputs": [],
      "source": [
        "# to_remove solution\n",
        "# Define the Siamese Network\n",
        "class ConvSiameseNet(nn.Module):\n",
        "  \"\"\"\n",
        "  Convolutional Siamese Network from \"Siamese Neural Networks for One-shot Image Recognition\"\n",
        "  Paper can be found at http://www.cs.toronto.edu/~rsalakhu/papers/oneshot1.pdf\n",
        "  \"\"\"\n",
        "\n",
        "  def __init__(self):\n",
        "    super().__init__()\n",
        "    self.conv1 = nn.Conv2d(1, 64, 10)\n",
        "    self.conv2 = nn.Conv2d(64, 128, 7)\n",
        "    self.conv3 = nn.Conv2d(128, 128, 4)\n",
        "    self.conv4 = nn.Conv2d(128, 256, 4)\n",
        "    self.pool = nn.MaxPool2d(2, 2)\n",
        "    self.fc1 = nn.Linear(256*6*6, 4096)\n",
        "    self.fc2 = nn.Linear(4096, 1)\n",
        "\n",
        "  def model(self, x):\n",
        "    x = self.pool(F.relu(self.conv1(x)))\n",
        "    x = self.pool(F.relu(self.conv2(x)))\n",
        "    x = self.pool(F.relu(self.conv3(x)))\n",
        "    x = F.relu(self.conv4(x))\n",
        "    x = torch.flatten(x, 1)\n",
        "    x = torch.sigmoid(self.fc1(x))\n",
        "    return x\n",
        "\n",
        "  def forward(self, x1, x2):\n",
        "    x1_fv = self.model(x1)\n",
        "    x2_fv = self.model(x2)\n",
        "    # Calculate L1 distance (as l1_distance) between x1_fv and x2_fv\n",
        "    l1_distance = torch.abs(x1_fv - x2_fv)\n",
        "\n",
        "    return self.fc2(l1_distance)"
      ]
    },
    {
      "cell_type": "markdown",
      "metadata": {
        "execution": {},
        "id": "ArvOm-Yg9L1o"
      },
      "source": [
        "## Bonus Section 1.3: Verification using Siamese Networks"
      ]
    },
    {
      "cell_type": "markdown",
      "metadata": {
        "execution": {},
        "id": "4nHg99Dt9L1p"
      },
      "source": [
        "Let's train the siamese network we created on verification of images. We'll take pairs of images from the Omniglot dataset and train the network to identify if the pairs belong to the same class or not.\n",
        "\n",
        "Let's first get the Omniglot dataset with pairs of images. A pair is labelled \"1\" if the images are of the same character, and \"0\" otherwise."
      ]
    },
    {
      "cell_type": "code",
      "execution_count": 39,
      "metadata": {
        "cellView": "form",
        "execution": {},
        "id": "degODfVY9L1p",
        "outputId": "b48509bb-fbdb-4aec-dba8-dcc8dc00c4ce",
        "colab": {
          "base_uri": "https://localhost:8080/"
        }
      },
      "outputs": [
        {
          "output_type": "stream",
          "name": "stdout",
          "text": [
            "Change dir: /content\n",
            "Downlading the dataset...\n",
            "Dataset is downloaded.\n"
          ]
        }
      ],
      "source": [
        "# @title Download Omniglot dataset with pairs\n",
        "import zipfile, os, requests\n",
        "\n",
        "# original location: https://github.com/brendenlake/omniglot/tree/master/python\n",
        "os.chdir(CWD)\n",
        "print(f'Change dir: {os.getcwd()}')\n",
        "\n",
        "dirname = 'data/omniglot-py/'\n",
        "if not os.path.exists(dirname):\n",
        "  os.makedirs(dirname)\n",
        "\n",
        "fname = 'images_background.zip'\n",
        "url = \"https://osf.io/6hq9u/download\"\n",
        "\n",
        "if not os.path.exists(dirname + 'images_background'):\n",
        "  print('Downlading the dataset...')\n",
        "  r = requests.get(url, allow_redirects=True)\n",
        "  with open(dirname + fname, 'wb') as fd:\n",
        "    fd.write(r.content)\n",
        "  with zipfile.ZipFile(dirname + fname, 'r') as zip_ref:\n",
        "    zip_ref.extractall(dirname)\n",
        "  print('Dataset is downloaded.')\n",
        "else:\n",
        "  print('Dataset has already been downloaded.')"
      ]
    },
    {
      "cell_type": "code",
      "execution_count": 40,
      "metadata": {
        "execution": {},
        "id": "-bTWtxOi9L1p"
      },
      "outputs": [],
      "source": [
        "\"\"\"\n",
        "Load train and validation datasets for training the Siamese Network\n",
        "\"\"\"\n",
        "\n",
        "train_dataset, val_dataset = get_train_val_datasets(background_dataset_size=10000, val_split=0.2, download=False)"
      ]
    },
    {
      "cell_type": "code",
      "execution_count": 41,
      "metadata": {
        "execution": {},
        "id": "SmMN4qDf9L1p",
        "outputId": "4374ac66-b724-4f07-fd2f-adbe7545a8a0",
        "colab": {
          "base_uri": "https://localhost:8080/",
          "height": 312
        }
      },
      "outputs": [
        {
          "output_type": "stream",
          "name": "stdout",
          "text": [
            "-------------------- Label: 1.0 (Same character) -------------------\n"
          ]
        },
        {
          "output_type": "display_data",
          "data": {
            "image/png": "[encoded data removed]",
            "text/plain": [
              "<Figure size 576x720 with 2 Axes>"
            ]
          },
          "metadata": {
            "image/png": {
              "width": 557,
              "height": 278
            }
          }
        }
      ],
      "source": [
        "\"\"\"\n",
        "Visualize a sample from the training dataset\n",
        "\"\"\"\n",
        "\n",
        "# Change this to visualize another sample from the dataset\n",
        "sample_idx = 1\n",
        "sample = train_dataset[sample_idx]\n",
        "\n",
        "visualize_siamese_sample(sample)"
      ]
    },
    {
      "cell_type": "code",
      "execution_count": 42,
      "metadata": {
        "execution": {},
        "id": "uQqWWyiS9L1q"
      },
      "outputs": [],
      "source": [
        "\"\"\"\n",
        "Create dataloaders for the train and validation datasets\n",
        "\"\"\"\n",
        "\n",
        "# Change this for a different batch size\n",
        "batch_size = 16\n",
        "\n",
        "train_loader = DataLoader(\n",
        "    dataset=train_dataset,\n",
        "    batch_size=batch_size,\n",
        "    num_workers=2,\n",
        "    worker_init_fn=seed_worker,\n",
        "    generator=g_seed\n",
        "    )\n",
        "\n",
        "val_loader = DataLoader(\n",
        "    dataset=val_dataset,\n",
        "    batch_size=batch_size,\n",
        "    num_workers=2,\n",
        "    worker_init_fn=seed_worker,\n",
        "    generator=g_seed\n",
        "    )"
      ]
    },
    {
      "cell_type": "markdown",
      "metadata": {
        "execution": {},
        "id": "R9lVCeUY9L1q"
      },
      "source": [
        "Now that we have the necessary dataloaders, let's train a siamese network! "
      ]
    },
    {
      "cell_type": "code",
      "execution_count": 43,
      "metadata": {
        "execution": {},
        "id": "irFEdAEC9L1q",
        "outputId": "782001ab-ca6d-4d60-895a-053315c57c29",
        "colab": {
          "base_uri": "https://localhost:8080/"
        }
      },
      "outputs": [
        {
          "output_type": "stream",
          "name": "stdout",
          "text": [
            "\n",
            " Epoch 1 / 10 ================================\n",
            "Training => Average Loss: 0.5735554701089859 | Accuracy: 0.6760000586509705\n",
            "Validation => Average Loss: 0.5270905678272247 | Accuracy: 0.7430000305175781\n",
            "\n",
            " Epoch 2 / 10 ================================\n",
            "Training => Average Loss: 0.5069912903308869 | Accuracy: 0.752875030040741\n",
            "Validation => Average Loss: 0.4507147719860077 | Accuracy: 0.812000036239624\n",
            "\n",
            " Epoch 3 / 10 ================================\n",
            "Training => Average Loss: 0.4237707411050797 | Accuracy: 0.8090000152587891\n",
            "Validation => Average Loss: 0.37510937261581423 | Accuracy: 0.846500039100647\n",
            "\n",
            " Epoch 4 / 10 ================================\n",
            "Training => Average Loss: 0.33908615648746493 | Accuracy: 0.8600000143051147\n",
            "Validation => Average Loss: 0.29443655145168307 | Accuracy: 0.874500036239624\n",
            "\n",
            " Epoch 5 / 10 ================================\n",
            "Training => Average Loss: 0.31121681337803603 | Accuracy: 0.8736250400543213\n",
            "Validation => Average Loss: 0.28740978729724886 | Accuracy: 0.8880000710487366\n",
            "\n",
            " Epoch 6 / 10 ================================\n",
            "Training => Average Loss: 0.27589230010658505 | Accuracy: 0.8885000348091125\n",
            "Validation => Average Loss: 0.28824635833501816 | Accuracy: 0.8955000638961792\n",
            "\n",
            " Epoch 7 / 10 ================================\n",
            "Training => Average Loss: 0.2557242036573589 | Accuracy: 0.8995000720024109\n",
            "Validation => Average Loss: 0.24046977818012238 | Accuracy: 0.9070000648498535\n",
            "\n",
            " Epoch 8 / 10 ================================\n",
            "Training => Average Loss: 0.24174573148041964 | Accuracy: 0.905875027179718\n",
            "Validation => Average Loss: 0.2206598133146763 | Accuracy: 0.9195000529289246\n",
            "\n",
            " Epoch 9 / 10 ================================\n",
            "Training => Average Loss: 0.22026976535096765 | Accuracy: 0.9167500138282776\n",
            "Validation => Average Loss: 0.2215758141875267 | Accuracy: 0.9145000576972961\n",
            "\n",
            " Epoch 10 / 10 ================================\n",
            "Training => Average Loss: 0.2042761989161372 | Accuracy: 0.921125054359436\n",
            "Validation => Average Loss: 0.18106892862915994 | Accuracy: 0.9355000257492065\n"
          ]
        }
      ],
      "source": [
        "\"\"\"\n",
        "Train the network on Omniglot\n",
        "\"\"\"\n",
        "\n",
        "siamese_net = ConvSiameseNet()\n",
        "\n",
        "criterion = nn.BCEWithLogitsLoss()\n",
        "optimizer = optim.Adam(siamese_net.parameters(), lr=0.0001)\n",
        "\n",
        "# Change this to train for any number of epochs\n",
        "num_epochs = 10\n",
        "\n",
        "for epoch in range(num_epochs):\n",
        "  print(f\"\\n Epoch {epoch + 1} / {num_epochs} ================================\")\n",
        "\n",
        "  train_siamese_network(siamese_net, criterion, optimizer, train_loader, DEVICE)\n",
        "  evaluate_siamese_network(siamese_net, criterion, val_loader, DEVICE)"
      ]
    },
    {
      "cell_type": "markdown",
      "metadata": {
        "execution": {},
        "id": "zcrriEbh9L1r"
      },
      "source": [
        "## Bonus Section 1.4: One-shot Classification with Siamese Networks"
      ]
    },
    {
      "cell_type": "markdown",
      "metadata": {
        "execution": {},
        "id": "SMwqAFz79L1r"
      },
      "source": [
        "Now that we have a siamese network trained on verification, let's try to extend it to one-shot classification. How can we do this? \n",
        "\n",
        "Let's first try to understand what the current network offers: Given two images, find out if they belong to the same class or not. \n",
        "\n",
        "What does N-way one-shot classification ask for? Given one image from each of the N classes (the support set), find out which class does the query image belong to.\n",
        "\n",
        "Take a moment to think about how the verification network can be extended to work in the one-shot setting.\n",
        "\n",
        "Given a query image, compare it with different images in the support set using our siamese network. Pick the class that is most similar to the query image!\n",
        "\n",
        "Let's get the test dataset where one sample corresponds to a query image and N support images!"
      ]
    },
    {
      "cell_type": "code",
      "execution_count": 44,
      "metadata": {
        "cellView": "form",
        "execution": {},
        "id": "03WEdfrb9L1r",
        "outputId": "c0a33848-562d-4949-ff79-71cabda2eb50",
        "colab": {
          "base_uri": "https://localhost:8080/"
        }
      },
      "outputs": [
        {
          "output_type": "stream",
          "name": "stdout",
          "text": [
            "Downlading the dataset...\n",
            "Dataset is downloaded.\n"
          ]
        }
      ],
      "source": [
        "# @title Download the test dataset\n",
        "import zipfile, os, requests\n",
        "\n",
        "# original location: https://github.com/brendenlake/omniglot/tree/master/python\n",
        "\n",
        "dirname = 'data/omniglot-py/'\n",
        "if not os.path.exists(dirname):\n",
        "  os.makedirs(dirname)\n",
        "\n",
        "fname = 'images_evaluation.zip'\n",
        "url = \"https://osf.io/uq4gw/download\"\n",
        "\n",
        "if not os.path.exists(dirname + 'images_evaluation'):\n",
        "  print('Downlading the dataset...')\n",
        "  r = requests.get(url, allow_redirects=True)\n",
        "  with open(dirname + fname, 'wb') as fd:\n",
        "    fd.write(r.content)\n",
        "  with zipfile.ZipFile(dirname + fname, 'r') as zip_ref:\n",
        "    zip_ref.extractall(dirname)\n",
        "  print('Dataset is downloaded.')\n",
        "else:\n",
        "  print('Dataset has already been downloaded.')"
      ]
    },
    {
      "cell_type": "code",
      "execution_count": 45,
      "metadata": {
        "execution": {},
        "id": "iVc2auJP9L1r",
        "outputId": "6860bc67-1173-4483-c2ee-725a21743c68",
        "colab": {
          "base_uri": "https://localhost:8080/"
        }
      },
      "outputs": [
        {
          "output_type": "stream",
          "name": "stdout",
          "text": [
            "Files already downloaded and verified\n"
          ]
        }
      ],
      "source": [
        "\"\"\"\n",
        "Load the test dataset for N-way One-shot classification\n",
        "\"\"\"\n",
        "\n",
        "# Change this to change the number of classes in the support set\n",
        "n_ways = 5\n",
        "\n",
        "test_dataset = get_test_dataset(n_ways=n_ways, download=True)"
      ]
    },
    {
      "cell_type": "code",
      "execution_count": 46,
      "metadata": {
        "execution": {},
        "id": "HbyW7l8Z9L1s",
        "outputId": "2162472e-7f50-4556-992c-d9bdc88d24af",
        "colab": {
          "base_uri": "https://localhost:8080/",
          "height": 231
        }
      },
      "outputs": [
        {
          "output_type": "display_data",
          "data": {
            "image/png": "[encoded data removed]",
            "text/plain": [
              "<Figure size 1728x720 with 6 Axes>"
            ]
          },
          "metadata": {
            "image/png": {
              "width": 1718,
              "height": 214
            }
          }
        }
      ],
      "source": [
        "\"\"\"\n",
        "Visualize a sample from the test dataset\n",
        "\"\"\"\n",
        "\n",
        "# Change this to visualize another sample from the dataset\n",
        "sample_idx = 1\n",
        "sample = test_dataset[sample_idx]\n",
        "\n",
        "visualize_one_shot_sample(sample)"
      ]
    },
    {
      "cell_type": "markdown",
      "metadata": {
        "execution": {},
        "id": "9tpm6Dlp9L1s"
      },
      "source": [
        "We are in the endgame now. Let's look at how our siamese network performs on N-way One-shot classification!"
      ]
    },
    {
      "cell_type": "code",
      "execution_count": 47,
      "metadata": {
        "execution": {},
        "id": "o3Tyz5PI9L1s",
        "outputId": "08fa0cf3-8db3-4478-851f-bba4738761f3",
        "colab": {
          "base_uri": "https://localhost:8080/"
        }
      },
      "outputs": [
        {
          "output_type": "stream",
          "name": "stdout",
          "text": [
            "Testing (One-shot) => Accuracy: 0.7908194661140442\n"
          ]
        }
      ],
      "source": [
        "\"\"\"\n",
        "Evaluate our Siamese Network on N-way One-shot classification\n",
        "\"\"\"\n",
        "\n",
        "batch_size = 16\n",
        "\n",
        "test_loader = DataLoader(\n",
        "    dataset=test_dataset,\n",
        "    batch_size=batch_size,\n",
        "    num_workers=2,\n",
        "    worker_init_fn=seed_worker,\n",
        "    generator=g_seed\n",
        "    )\n",
        "\n",
        "evaluate_one_shot(siamese_net, test_loader, DEVICE)"
      ]
    },
    {
      "cell_type": "markdown",
      "metadata": {
        "execution": {},
        "id": "LKtIzk479L1s"
      },
      "source": [
        "Congratulations! We successfully solved our first Meta-Learning problem. Feel free to run through this section again with different parameters and compare the differences!"
      ]
    },
    {
      "cell_type": "markdown",
      "metadata": {
        "execution": {},
        "id": "lztRhHVv9L1t"
      },
      "source": [
        "## Bonus Section 1.5: Section Summary\n",
        "\n",
        "In this section, we learnt the following (try to answer these questions to ensure that you understood the content fairly well):\n",
        "\n",
        "* What is Meta-Learning and how is it used to solve various problems with Deep Learning?\n",
        "\n",
        "* What is Few-shot Learning? We took a look at what is N-way K-shot classification using the Omniglot dataset and Convolutional Siamese Networks.\n"
      ]
    },
    {
      "cell_type": "markdown",
      "metadata": {
        "execution": {},
        "id": "8tvttWee9L1t"
      },
      "source": [
        "---\n",
        "# Bonus 2: Continual and Life-Long Learning"
      ]
    },
    {
      "cell_type": "code",
      "execution_count": 48,
      "metadata": {
        "cellView": "form",
        "execution": {},
        "id": "UvPJ-KBe9L1t",
        "outputId": "b53d4749-c643-40cf-9cce-8462ee46b5b6",
        "colab": {
          "base_uri": "https://localhost:8080/",
          "height": 582,
          "referenced_widgets": [
            "5c7bbfde565449beaf36d916a049c1dd",
            "75d41b2a5ce546d180a1ead5271531a5",
            "c98b993e99574c8083850bb592f89854",
            "255c938da22f4abf91cb97f693a01950",
            "90227617135d4e87901e58dd60b911f7",
            "e6022a80e3d7477b8b41a8a4e629a8c7"
          ]
        }
      },
      "outputs": [
        {
          "output_type": "display_data",
          "data": {
            "application/vnd.jupyter.widget-view+json": {
              "model_id": "5c7bbfde565449beaf36d916a049c1dd",
              "version_minor": 0,
              "version_major": 2
            },
            "text/plain": [
              "Tab(children=(Output(), Output()), _titles={'0': 'Youtube', '1': 'Bilibili'})"
            ]
          },
          "metadata": {}
        }
      ],
      "source": [
        "# @title Video 5: Continual and Life-Long Learning\n",
        "from ipywidgets import widgets\n",
        "\n",
        "out2 = widgets.Output()\n",
        "with out2:\n",
        "  from IPython.display import IFrame\n",
        "  class BiliVideo(IFrame):\n",
        "    def __init__(self, id, page=1, width=400, height=300, **kwargs):\n",
        "      self.id=id\n",
        "      src = \"https://player.bilibili.com/player.html?bvid={0}&page={1}\".format(id, page)\n",
        "      super(BiliVideo, self).__init__(src, width, height, **kwargs)\n",
        "\n",
        "  video = BiliVideo(id=f\"BV1uX4y1c7Yh\", width=854, height=480, fs=1)\n",
        "  print(\"Video available at https://www.bilibili.com/video/{0}\".format(video.id))\n",
        "  display(video)\n",
        "\n",
        "out1 = widgets.Output()\n",
        "with out1:\n",
        "  from IPython.display import YouTubeVideo\n",
        "  video = YouTubeVideo(id=f\"-lmY_lc75As\", width=854, height=480, fs=1, rel=0)\n",
        "  print(\"Video available at https://youtube.com/watch?v=\" + video.id)\n",
        "  display(video)\n",
        "\n",
        "out = widgets.Tab([out1, out2])\n",
        "out.set_title(0, 'Youtube')\n",
        "out.set_title(1, 'Bilibili')\n",
        "\n",
        "# add event to airtable\n",
        "atform.add_event('Video 5: Continual and Life-Long Learning')\n",
        "\n",
        "display(out)"
      ]
    },
    {
      "cell_type": "markdown",
      "metadata": {
        "execution": {},
        "id": "5Cz_6TCu9L1t"
      },
      "source": [
        "## Bonus Think! 2: Why are Continual and Life-Long Learning tough?\n",
        "\n",
        "Take a moment to think about the following:\n",
        "\n",
        "1. You have had an extensive tutorial on Continual Learning. Can you quickly recall the different problems with Continual Learning and how these problems were solved?\n",
        "2. What do you think makes Life-Long Learning tough to implement? How is this learning paradigm different from those that you have seen before? "
      ]
    },
    {
      "cell_type": "markdown",
      "metadata": {
        "execution": {},
        "id": "Ydu6C9af9L1u"
      },
      "source": [
        "---\n",
        "# Bonus 3 - Feature Importance Tutorial"
      ]
    },
    {
      "cell_type": "markdown",
      "metadata": {
        "execution": {},
        "id": "HJa2Mgdz9L1u"
      },
      "source": [
        "If you wish to understand how the accuracies are calculated in Section 3.3, continue reading!"
      ]
    },
    {
      "cell_type": "markdown",
      "metadata": {
        "execution": {},
        "id": "ZbtwQXol9L1u"
      },
      "source": [
        "Recall the problem setup:\n",
        "\n",
        "There exist binary-valued random variables $X^{(1)}, X^{(2)}, X^{(3)}, Y \\in {0,1}$ such that $X^{(1)}, X^{(2)}$, and $X^{(3)}$ are conditionally independent (given $Y$).\n",
        "\n",
        "Let $P(Y=1) = 1/2$. Then the joint distribution of $X^{(1)}, X^{(2)}, X^{(3)}, Y$ is specified by the conditional probabilities $P(X_i=1 | Y=0)$ and $P(X_i=1 | Y=1)$, for $i=1,2,3$:\n",
        "\n",
        "\\begin{align}\n",
        "P(X^{(1)}=1|Y=0)=0.10 &, P(X^{(1)}=1|Y=1)=0.0.90 \\\\\n",
        "P(X^{(2)}=1|Y=0)=0.05 &, P(X^{(2)}=1|Y=1)=0.0.80 \\\\\n",
        "P(X^{(3)}=1|Y=0)=0.01 &, P(X^{(1)}=1|Y=1)=0.0.71\n",
        "\\end{align}"
      ]
    },
    {
      "cell_type": "markdown",
      "metadata": {
        "execution": {},
        "id": "BtGhduTk9L1u"
      },
      "source": [
        "## Define a feature importance metric\n",
        "\n",
        "Here we'll use 0-1 loss to define feature importance. We can imagine using $X^{(1)}, X^{(2)}$, and $X^{(3)}$ to predict $Y$. $Y$ can only be 0 or 1, so your predictions must be 0 or 1 and will either be right or wrong (i.e, perfect for 0-1 loss)."
      ]
    },
    {
      "cell_type": "markdown",
      "metadata": {
        "execution": {},
        "id": "ZcRMbtlj9L1u"
      },
      "source": [
        "## Calculate the individual feature importance (0-1 loss) for  $X^{(1)}$, $X^{(2)}$, and $X^{(3)}$\n",
        "\n",
        "**Hint:** You can accomplish this by finding the probability that  X  and  Y  match. You're given $P(X^{(1)}=1|Y=0)$, but you need $P(X^{(1)}=0|Y=0)$ . Recall that $P(Y)=1/2$ and compute an equally weighted average of the two accuracies you can compute given the two possible values of $X^{(1)}$ .\n",
        "\n",
        "**Solution:** If $P(X^{(1)} = 1|Y = 0)=0.10$, then $P(X^{(1)} = 0|Y = 0)=0.90$. \n",
        "\n",
        "There's a symmetry we can take advantage of here: we know that 90% of the time $Y=1$ we have $X=1$, which implies that 90% of the time $X=1$ we have $Y=1$, which is a more natural way of thinking about prediction.\n",
        "\n",
        "This means we predict correctly 90% of the time when $Y=0$, and we predict correctly 90% of the time when $Y=1$. Since $P(Y)=1/2$, we have 0-1 loss $L = 1-(0.5 \\times 0.9 + 0.5 \\times 0.9)=0.1$.\n",
        "\n",
        "In total, we have:\n",
        "\n",
        "\\begin{align}\n",
        "L_1 =& 1 - (0.5 \\times 0.9 + 0.5 \\times 0.9) = 0.1 \\\\\n",
        "L_2 =& 1 - (0.5 \\times 0.95 + 0.5 \\times 0.8) = 0.125 \\\\\n",
        "L_3 =& 1 - (0.5 \\times 0.99 + 0.5 \\times 0.71) = 0.15.\n",
        "\\end{align}\n",
        "\n",
        "**Check:** If you did not observe that feature $X^{(1)}$ is the most important feature by virtue of having the smallest 0-1 loss (0.1), check your calculations before proceeding."
      ]
    },
    {
      "cell_type": "markdown",
      "metadata": {
        "execution": {},
        "id": "6NmjHpjB9L1v"
      },
      "source": [
        "### Calculate the importance of feature pairs (0-1 loss) for $\\{X^{(1)}, X^{(2)}\\}$, $\\{X^{(1)}, X^{(3)}\\}$, and $\\{X^{(2)}, X^{(3)}\\}$\n",
        "\n",
        "\n"
      ]
    },
    {
      "cell_type": "markdown",
      "metadata": {
        "execution": {},
        "id": "CDim1GAc9L1v"
      },
      "source": [
        "### Let's start with $\\{X^{(1)}, X^{(2)}\\}$\n",
        "\n",
        "Working out these calculations is a bit tedious, so we'll provide various tables and descriptions of their origins.\n",
        "\n",
        "First, we compute conditional PMFs $P\\left( X^{(1)}, X^{(2)}∣Y \\right)$ by multiplying the provided conditionally independent probabilities together.\n",
        "\n",
        "**Conditional PMFs:**\n",
        "\n",
        "\\begin{matrix}\n",
        "P(X_1,X_2|Y=0) && X_2=0 && X_2=1 \\\\\n",
        "\\hline\n",
        "X_1=0 && 0.855 && 0.045 \\\\\n",
        "X_1=1 && 0.095 && 0.005\n",
        "\\end{matrix}\n",
        "\n",
        "<br>\n",
        "\n",
        "\\begin{matrix}\n",
        "P(X_1,X_2|Y=1) && X_2=0 && X_2=1 \\\\\n",
        "\\hline\n",
        "X_1=0 && 0.02 && 0.08 \\\\\n",
        "X_1=1 && 0.18 && 0.72\n",
        "\\end{matrix}\n",
        "\n",
        "<br>\n",
        "\n",
        "We can then obtain a marginal PMF for $\\{X^{(1)}, X^{(2)}\\}$ by element-wise averaging these two 2x2 tables because $P(Y)=1/2$.\n",
        "\n",
        "**Marginal PMF:**\n",
        "\n",
        "\\begin{matrix}\n",
        "P(X_1,X_2) && X_2=0 && X_2=1 \\\\\n",
        "\\hline\n",
        "X_1=0 && 0.4375 && 0.0625 \\\\\n",
        "X_1=1 && 0.1375 && 0.3625\n",
        "\\end{matrix}\n",
        "\n",
        "We now use the conditional PMFs to evaluate the conditional probability expressions we care about: $P\\left( Y∣X^{(1)}, X^{(2)} \\right)$.\n",
        "\n",
        "<br>\n",
        "\n",
        "**Conditional Probabilities: $P \\left( Y=\\{0, 1\\}|X_1,X_2 \\right)$**\n",
        "\n",
        "Using the $\\frac{P(X_1,X_2 | Y=0)}{P(X_1,X_2|Y=0) + P(X_1,X_2|Y=1)}$, we obtain the following matrix:\n",
        "\n",
        "<br>\n",
        "\n",
        "\\begin{matrix}\n",
        "P(Y=0|X_1,X_2) && X_2=0 && X_2=1 \\\\\n",
        "\\hline\n",
        "X_1=0 && 0.977143 && 0.36 \\\\\n",
        "X_1=1 && 0.345455 && 0.006897\n",
        "\\end{matrix}\n",
        "\n",
        "<br>\n",
        "\n",
        "Using the $\\frac{P(X_1, X_2 | Y=1)}{P(X_1,X_2|Y=0) + P(X_1,X_2|Y=1)}$, we obtain the following matrix:\n",
        "\n",
        "<br>\n",
        "\n",
        "\\begin{matrix}\n",
        "P(Y=1|X_1,X_2) && X_2=0 && X_2=1 \\\\\n",
        "\\hline\n",
        "X_1=0 && 0.022857 && 0.640000 \\\\\n",
        "X_1=1 && 0.654545 && 0.993103\n",
        "\\end{matrix}\n",
        "\n",
        "<br>\n",
        "\n",
        "We now implement a 0-1 classifier that predicts $\\hat{Y}=0$ or $\\hat{Y}=1$ based on the element-wise maximum in these two tables. For example, when $X^{(1)}=0$ and $X^{(2)}=0$, there's a 0.977 probability that $Y=0$ and a 0.023 probability that $Y=1$. We would of course predict $\\hat{Y}=1$ , and we expect to be correct 97.7% of the time.\n",
        "\n",
        "We now know the expected probability of success for our classifier for each $\\{X^{(1)}, X^{(2)}\\}$ combination.\n",
        "\n",
        "<br>\n",
        "\n",
        "**Maximum Conditional Probability:**\n",
        "\n",
        "\\begin{matrix}\n",
        "P(\\text{Correct}|X_1,X_2) && X_2=0 && X_2=1 \\\\\n",
        "\\hline\n",
        "X_1=0 && 0.977143 && 0.640000 \\\\\n",
        "X_1=1 && 0.654545 && 0.993103\n",
        "\\end{matrix}\n",
        "\n",
        "Only one task remains for you to complete: compute the expected 0-1 loss for this classifier.\n",
        "\n",
        "<br>\n",
        "\n",
        "**Hint:** We know how likely we are to be correct given some $\\{X(1), X(2)\\}$ combination. We also know how likely those combinations are to appear.\n",
        "\n",
        "**Solution:**"
      ]
    },
    {
      "cell_type": "code",
      "execution_count": 49,
      "metadata": {
        "execution": {},
        "id": "oRh4vlo59L1w",
        "outputId": "bdb709dd-3af8-4fe3-f930-9552232f878c",
        "colab": {
          "base_uri": "https://localhost:8080/"
        }
      },
      "outputs": [
        {
          "output_type": "stream",
          "name": "stdout",
          "text": [
            "0.9173937499999999\n"
          ]
        }
      ],
      "source": [
        "marginal = np.array([[0.4375, 0.0625],\n",
        "                     [0.1375, 0.3625]])\n",
        "max_cond_prob = np.array([[0.977, 0.64],\n",
        "                          [0.6545, 0.993]])\n",
        "# We need the sum-product of these two arrays.\n",
        "# (1) element-wise multiplication to produce one array.\n",
        "# (2) sum the elements of the resulting array\n",
        "accuracy = np.sum(np.multiply(marginal, max_cond_prob))\n",
        "print(accuracy)"
      ]
    },
    {
      "cell_type": "code",
      "execution_count": 50,
      "metadata": {
        "execution": {},
        "id": "jFmZUYdc9L1w",
        "outputId": "53257ac9-24c9-4e47-b41b-fc7d42ebb6cf",
        "colab": {
          "base_uri": "https://localhost:8080/"
        }
      },
      "outputs": [
        {
          "output_type": "stream",
          "name": "stdout",
          "text": [
            "0.0826062500000001\n"
          ]
        }
      ],
      "source": [
        "# 0-1 loss is 1 - accuracy.\n",
        "print(1 - accuracy)"
      ]
    },
    {
      "cell_type": "markdown",
      "metadata": {
        "execution": {},
        "id": "bFTx6XU59L1w"
      },
      "source": [
        "**Check:** You should have gotten 0-1 loss for $\\{X^{(1)}, X^{(2)}\\}$ to be 0.0826."
      ]
    },
    {
      "cell_type": "markdown",
      "metadata": {
        "execution": {},
        "id": "i19eKlsM9L1x"
      },
      "source": [
        "### Let's move on to  $\\{X^{(2)}, X^{(3)}\\}$\n",
        "\n",
        "Our claim was that the most important single feature, already found to be $\\{X^{(1)}$\\}, is not in the most important pair of features, so we just need to show that the 0-1 loss for $\\{X^{(2)}, X^{(3)}\\}$ is less than 0.0826.\n",
        "\n",
        "First, we compute conditional PMFs $P \\left( X^{(2)}, X^{(3)}∣Y \\right)$ by multiplying conditionally independent probabilities together.\n",
        "\n",
        "**Conditional PMFs:**\n",
        "\n",
        "\\begin{matrix}\n",
        "P(X_2,X_3|Y=0) && X_3=0 && X_3=1 \\\\\n",
        "\\hline\n",
        "X_2=0 && 0.9405 && 0.0095 \\\\\n",
        "X_2=1 && 0.0495 && 0.0005\n",
        "\\end{matrix}\n",
        "\n",
        "<br>\n",
        "\n",
        "\\begin{matrix}\n",
        "P(X_2,X_3|Y=1) && X_3=0 && X_3=1 \\\\\n",
        "\\hline\n",
        "X_2=0 && 0.058 && 0.142 \\\\\n",
        "X_2=1 && 0.232 && 0.568\n",
        "\\end{matrix}\n",
        "\n",
        "<br>\n",
        "\n",
        "We can then obtain a marginal PMF for $\\{X^{(2)}, X^{(3)}\\}$ by element-wise averaging these two 2x2 tables because $P(Y)=1/2$.\n",
        "\n",
        "<br>\n",
        "\n",
        "**Marginal PMF:**\n",
        "\n",
        "\\begin{matrix}\n",
        "P(X_2,X_3) && X_3=0 && X_3=1 \\\\\n",
        "\\hline\n",
        "X_2=0 && 0.49925 && 0.07575 \\\\\n",
        "X_2=1 && 0.14075 && 0.28425\n",
        "\\end{matrix}\n",
        "\n",
        "<br>\n",
        "\n",
        "We now use the conditional PMFs to evaluate the conditional probability expressions we care about: $P \\left( Y∣X^{(2)}, X^{(3)} \\right)$.\n",
        "\n",
        "<br>\n",
        "\n",
        "**Conditional Probabilities: $P \\left( Y=\\{0, 1\\}|X_2, X_3 \\right)$**\n",
        "\n",
        "Using the $\\frac{P(X_2,X_3 | Y=0)}{P(X_2, X_3|Y=0) + P(X_2, X_3|Y=1)}$, we obtain the following matrix:\n",
        "\n",
        "<br>\n",
        "\n",
        "\\begin{matrix}\n",
        "P(Y=0|X_2,X_3) && X_3=0 && X_3=1 \\\\\n",
        "\\hline\n",
        "X_2=0 && 0.941912869 && 0.062706271 \\\\\n",
        "X_2=1 && 0.175843694 && 0.000879507\n",
        "\\end{matrix}\n",
        "\n",
        "<br>\n",
        "\n",
        "Using the $\\frac{P(X_2,X_3 | Y=1)}{P(X_2, X_3|Y=0) + P(X_2, X_3|Y=1)}$, we obtain the following matrix:\n",
        "\n",
        "<br>\n",
        "\n",
        "\\begin{matrix}\n",
        "P(Y=0|X_2,X_3) && X_3=0 && X_3=1 \\\\\n",
        "\\hline\n",
        "X_2=0 && 0.058087131 && 0.937293729 \\\\\n",
        "X_2=1 && 0.824156306 && 0.999120493\n",
        "\\end{matrix}\n",
        "\n",
        "<br>\n",
        "\n",
        "We now implement a 0-1 classifier that predicts $\\hat{Y}=0$ or $\\hat{Y}=1$ based on the element-wise maximum in these two tables. For example, when $X^{(2)}=0$ and $X^{(3)}=0$, there's a 0.942 probability that $Y=0$ and a 0.058 probability that $Y=1$. We would of course predict $\\hat{Y}=1$ , and we expect to be correct 94.2% of the time.\n",
        "\n",
        "We now know the expected probability of success for our classifier for each $\\{X^{(2)}, X^{(3)}\\}$ combination.\n",
        "\n",
        "<br>\n",
        "\n",
        "**Maximum Conditional Probability:**\n",
        "\n",
        "\\begin{matrix}\n",
        "P(\\text{Correct}|X_2,X_3) && X_3=0 && X_3=1 \\\\\n",
        "\\hline\n",
        "X_2=0 && 0.941912869 && 0.937293729 \\\\\n",
        "X_2=1 && 0.824156306 && 0.999120493\n",
        "\\end{matrix}\n",
        "\n",
        "<br>\n",
        "\n",
        "Only one task remains for you to complete: compute the expected 0-1 loss for this classifier.\n",
        "\n",
        "<br>\n",
        "\n",
        "**Hint:** We know how likely we are to be correct given some $\\{X(2), X(3)\\}$ combination. We also know how likely those combinations are to appear.\n",
        "\n",
        "**Solution:**"
      ]
    },
    {
      "cell_type": "code",
      "execution_count": 51,
      "metadata": {
        "execution": {},
        "id": "1QllCxR09L1x",
        "outputId": "1c1c9df7-58f0-4fe6-a8c9-452c9015d196",
        "colab": {
          "base_uri": "https://localhost:8080/"
        }
      },
      "outputs": [
        {
          "output_type": "stream",
          "name": "stdout",
          "text": [
            "0.9412500000247499\n"
          ]
        }
      ],
      "source": [
        "marginal = np.array([[0.49925, 0.07575],\n",
        "                     [0.14075, 0.28425]])\n",
        "max_cond_prob = np.array([[0.941912869, 0.937293729],\n",
        "                          [0.824156306,0.999120493]])\n",
        "# We need the sum-product of these two arrays.\n",
        "# (1) element-wise multiplication to produce one array.\n",
        "# (2) sum the elements of the resulting array\n",
        "accuracy = np.sum(np.multiply(marginal, max_cond_prob))\n",
        "print(accuracy)"
      ]
    },
    {
      "cell_type": "code",
      "execution_count": 52,
      "metadata": {
        "execution": {},
        "id": "xypMlX5F9L1x",
        "outputId": "7eed835e-3747-466e-f276-88bfc42baa1c",
        "colab": {
          "base_uri": "https://localhost:8080/"
        }
      },
      "outputs": [
        {
          "output_type": "stream",
          "name": "stdout",
          "text": [
            "0.0587499999752501\n"
          ]
        }
      ],
      "source": [
        "# 0-1 loss is 1 - accuracy.\n",
        "print(1 - accuracy)"
      ]
    },
    {
      "cell_type": "markdown",
      "metadata": {
        "execution": {},
        "id": "ECDQfY9g9L1y"
      },
      "source": [
        "**Check:** You should have gotten 0-1 loss for $\\{X^{(2)}, X^{(3)}\\}$ to be 0.05875."
      ]
    },
    {
      "cell_type": "markdown",
      "metadata": {
        "execution": {},
        "id": "dzxvmE9F9L1y"
      },
      "source": [
        "## Conclusion\n",
        "\n",
        "We demonstrated that our intuition could be misleading - it's not always the case that a feature that ranks highly among individual features would necessarily warrant being included at all when larger sets of features are considered.\n",
        "\n",
        "Something to think about: What does this tell you about stepwise feature selection approaches?"
      ]
    }
  ],
  "metadata": {
    "accelerator": "GPU",
    "colab": {
      "collapsed_sections": [],
      "name": "W3D4_Tutorial2",
      "provenance": [],
      "toc_visible": true,
      "include_colab_link": true
    },
    "kernel": {
      "display_name": "Python 3",
      "language": "python",
      "name": "python3"
    },
    "kernelspec": {
      "display_name": "Python 3",
      "language": "python",
      "name": "python3"
    },
    "language_info": {
      "codemirror_mode": {
        "name": "ipython",
        "version": 3
      },
      "file_extension": ".py",
      "mimetype": "text/x-python",
      "name": "python",
      "nbconvert_exporter": "python",
      "pygments_lexer": "ipython3",
      "version": "3.7.3"
    },
    "toc-autonumbering": true,
    "widgets": {
      "application/vnd.jupyter.widget-state+json": {
        "ce2bc0f821a3431e9ac8c5d254cee268": {
          "model_module": "@jupyter-widgets/controls",
          "model_name": "TabModel",
          "model_module_version": "1.5.0",
          "state": {
            "_view_name": "TabView",
            "_dom_classes": [],
            "_titles": {
              "0": "Youtube",
              "1": "Bilibili"
            },
            "_model_name": "TabModel",
            "_view_module": "@jupyter-widgets/controls",
            "selected_index": 0,
            "_model_module_version": "1.5.0",
            "_view_count": null,
            "_view_module_version": "1.5.0",
            "box_style": "",
            "layout": "IPY_MODEL_67d8026a90ee43169e691ceb9ca478be",
            "_model_module": "@jupyter-widgets/controls",
            "children": [
              "IPY_MODEL_da10d048c8864a00ab4140721efd5639",
              "IPY_MODEL_d3195dd4d5b34d9a970b1ae884230fad"
            ]
          }
        },
        "67d8026a90ee43169e691ceb9ca478be": {
          "model_module": "@jupyter-widgets/base",
          "model_name": "LayoutModel",
          "model_module_version": "1.2.0",
          "state": {
            "_view_name": "LayoutView",
            "grid_template_rows": null,
            "right": null,
            "justify_content": null,
            "_view_module": "@jupyter-widgets/base",
            "overflow": null,
            "_model_module_version": "1.2.0",
            "_view_count": null,
            "flex_flow": null,
            "width": null,
            "min_width": null,
            "border": null,
            "align_items": null,
            "bottom": null,
            "_model_module": "@jupyter-widgets/base",
            "top": null,
            "grid_column": null,
            "overflow_y": null,
            "overflow_x": null,
            "grid_auto_flow": null,
            "grid_area": null,
            "grid_template_columns": null,
            "flex": null,
            "_model_name": "LayoutModel",
            "justify_items": null,
            "grid_row": null,
            "max_height": null,
            "align_content": null,
            "visibility": null,
            "align_self": null,
            "height": null,
            "min_height": null,
            "padding": null,
            "grid_auto_rows": null,
            "grid_gap": null,
            "max_width": null,
            "order": null,
            "_view_module_version": "1.2.0",
            "grid_template_areas": null,
            "object_position": null,
            "object_fit": null,
            "grid_auto_columns": null,
            "margin": null,
            "display": null,
            "left": null
          }
        },
        "da10d048c8864a00ab4140721efd5639": {
          "model_module": "@jupyter-widgets/output",
          "model_name": "OutputModel",
          "model_module_version": "1.0.0",
          "state": {
            "_view_name": "OutputView",
            "msg_id": "",
            "_dom_classes": [],
            "_model_name": "OutputModel",
            "outputs": [
              {
                "output_type": "stream",
                "name": "stdout",
                "text": [
                  "Video available at https://youtube.com/watch?v=zMQySpHBoGs\n"
                ]
              },
              {
                "output_type": "display_data",
                "data": {
                  "text/html": "\n        <iframe\n            width=\"854\"\n            height=\"480\"\n            src=\"https://www.youtube.com/embed/zMQySpHBoGs?fs=1&rel=0\"\n            frameborder=\"0\"\n            allowfullscreen\n        ></iframe>\n        ",
                  "text/plain": "<IPython.lib.display.YouTubeVideo at 0x7f8a18ad7ed0>",
                  "image/jpeg": "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\n"
                },
                "metadata": {}
              }
            ],
            "_view_module": "@jupyter-widgets/output",
            "_model_module_version": "1.0.0",
            "_view_count": null,
            "_view_module_version": "1.0.0",
            "layout": "IPY_MODEL_f97093459af04914be9fc474cec265fc",
            "_model_module": "@jupyter-widgets/output"
          }
        },
        "d3195dd4d5b34d9a970b1ae884230fad": {
          "model_module": "@jupyter-widgets/output",
          "model_name": "OutputModel",
          "model_module_version": "1.0.0",
          "state": {
            "_view_name": "OutputView",
            "msg_id": "",
            "_dom_classes": [],
            "_model_name": "OutputModel",
            "outputs": [
              {
                "output_type": "stream",
                "name": "stdout",
                "text": [
                  "Video available at https://www.bilibili.com/video/BV1764y167fj\n"
                ]
              },
              {
                "output_type": "display_data",
                "data": {
                  "text/html": "\n        <iframe\n            width=\"854\"\n            height=\"480\"\n            src=\"https://player.bilibili.com/player.html?bvid=BV1764y167fj&page=1?fs=1\"\n            frameborder=\"0\"\n            allowfullscreen\n        ></iframe>\n        ",
                  "text/plain": "<__main__.BiliVideo at 0x7f8a17f36d90>"
                },
                "metadata": {}
              }
            ],
            "_view_module": "@jupyter-widgets/output",
            "_model_module_version": "1.0.0",
            "_view_count": null,
            "_view_module_version": "1.0.0",
            "layout": "IPY_MODEL_5ad1b8e79c18450e9cb9bc48029bbe32",
            "_model_module": "@jupyter-widgets/output"
          }
        },
        "f97093459af04914be9fc474cec265fc": {
          "model_module": "@jupyter-widgets/base",
          "model_name": "LayoutModel",
          "model_module_version": "1.2.0",
          "state": {
            "_view_name": "LayoutView",
            "grid_template_rows": null,
            "right": null,
            "justify_content": null,
            "_view_module": "@jupyter-widgets/base",
            "overflow": null,
            "_model_module_version": "1.2.0",
            "_view_count": null,
            "flex_flow": null,
            "width": null,
            "min_width": null,
            "border": null,
            "align_items": null,
            "bottom": null,
            "_model_module": "@jupyter-widgets/base",
            "top": null,
            "grid_column": null,
            "overflow_y": null,
            "overflow_x": null,
            "grid_auto_flow": null,
            "grid_area": null,
            "grid_template_columns": null,
            "flex": null,
            "_model_name": "LayoutModel",
            "justify_items": null,
            "grid_row": null,
            "max_height": null,
            "align_content": null,
            "visibility": null,
            "align_self": null,
            "height": null,
            "min_height": null,
            "padding": null,
            "grid_auto_rows": null,
            "grid_gap": null,
            "max_width": null,
            "order": null,
            "_view_module_version": "1.2.0",
            "grid_template_areas": null,
            "object_position": null,
            "object_fit": null,
            "grid_auto_columns": null,
            "margin": null,
            "display": null,
            "left": null
          }
        },
        "5ad1b8e79c18450e9cb9bc48029bbe32": {
          "model_module": "@jupyter-widgets/base",
          "model_name": "LayoutModel",
          "model_module_version": "1.2.0",
          "state": {
            "_view_name": "LayoutView",
            "grid_template_rows": null,
            "right": null,
            "justify_content": null,
            "_view_module": "@jupyter-widgets/base",
            "overflow": null,
            "_model_module_version": "1.2.0",
            "_view_count": null,
            "flex_flow": null,
            "width": null,
            "min_width": null,
            "border": null,
            "align_items": null,
            "bottom": null,
            "_model_module": "@jupyter-widgets/base",
            "top": null,
            "grid_column": null,
            "overflow_y": null,
            "overflow_x": null,
            "grid_auto_flow": null,
            "grid_area": null,
            "grid_template_columns": null,
            "flex": null,
            "_model_name": "LayoutModel",
            "justify_items": null,
            "grid_row": null,
            "max_height": null,
            "align_content": null,
            "visibility": null,
            "align_self": null,
            "height": null,
            "min_height": null,
            "padding": null,
            "grid_auto_rows": null,
            "grid_gap": null,
            "max_width": null,
            "order": null,
            "_view_module_version": "1.2.0",
            "grid_template_areas": null,
            "object_position": null,
            "object_fit": null,
            "grid_auto_columns": null,
            "margin": null,
            "display": null,
            "left": null
          }
        },
        "87b7bdd24fd64058aeb4ac6303c64d13": {
          "model_module": "@jupyter-widgets/controls",
          "model_name": "TabModel",
          "model_module_version": "1.5.0",
          "state": {
            "_view_name": "TabView",
            "_dom_classes": [],
            "_titles": {
              "0": "Youtube",
              "1": "Bilibili"
            },
            "_model_name": "TabModel",
            "_view_module": "@jupyter-widgets/controls",
            "selected_index": 0,
            "_model_module_version": "1.5.0",
            "_view_count": null,
            "_view_module_version": "1.5.0",
            "box_style": "",
            "layout": "IPY_MODEL_b4ebbe7eb5104ee39ee958fafa78d819",
            "_model_module": "@jupyter-widgets/controls",
            "children": [
              "IPY_MODEL_bb2df384ef0f4ed693cdfa64488eb8c9",
              "IPY_MODEL_20c74b73ae4c424b99b22ec282e3753b"
            ]
          }
        },
        "b4ebbe7eb5104ee39ee958fafa78d819": {
          "model_module": "@jupyter-widgets/base",
          "model_name": "LayoutModel",
          "model_module_version": "1.2.0",
          "state": {
            "_view_name": "LayoutView",
            "grid_template_rows": null,
            "right": null,
            "justify_content": null,
            "_view_module": "@jupyter-widgets/base",
            "overflow": null,
            "_model_module_version": "1.2.0",
            "_view_count": null,
            "flex_flow": null,
            "width": null,
            "min_width": null,
            "border": null,
            "align_items": null,
            "bottom": null,
            "_model_module": "@jupyter-widgets/base",
            "top": null,
            "grid_column": null,
            "overflow_y": null,
            "overflow_x": null,
            "grid_auto_flow": null,
            "grid_area": null,
            "grid_template_columns": null,
            "flex": null,
            "_model_name": "LayoutModel",
            "justify_items": null,
            "grid_row": null,
            "max_height": null,
            "align_content": null,
            "visibility": null,
            "align_self": null,
            "height": null,
            "min_height": null,
            "padding": null,
            "grid_auto_rows": null,
            "grid_gap": null,
            "max_width": null,
            "order": null,
            "_view_module_version": "1.2.0",
            "grid_template_areas": null,
            "object_position": null,
            "object_fit": null,
            "grid_auto_columns": null,
            "margin": null,
            "display": null,
            "left": null
          }
        },
        "bb2df384ef0f4ed693cdfa64488eb8c9": {
          "model_module": "@jupyter-widgets/output",
          "model_name": "OutputModel",
          "model_module_version": "1.0.0",
          "state": {
            "_view_name": "OutputView",
            "msg_id": "",
            "_dom_classes": [],
            "_model_name": "OutputModel",
            "outputs": [
              {
                "output_type": "stream",
                "name": "stdout",
                "text": [
                  "Video available at https://youtube.com/watch?v=PplDj0vXuIY\n"
                ]
              },
              {
                "output_type": "display_data",
                "data": {
                  "text/html": "\n        <iframe\n            width=\"854\"\n            height=\"480\"\n            src=\"https://www.youtube.com/embed/PplDj0vXuIY?fs=1&rel=0\"\n            frameborder=\"0\"\n            allowfullscreen\n        ></iframe>\n        ",
                  "text/plain": "<IPython.lib.display.YouTubeVideo at 0x7f8a17f31a10>",
                  "image/jpeg": "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\n"
                },
                "metadata": {}
              }
            ],
            "_view_module": "@jupyter-widgets/output",
            "_model_module_version": "1.0.0",
            "_view_count": null,
            "_view_module_version": "1.0.0",
            "layout": "IPY_MODEL_f3b3966532964f678d60e2f311cec9be",
            "_model_module": "@jupyter-widgets/output"
          }
        },
        "20c74b73ae4c424b99b22ec282e3753b": {
          "model_module": "@jupyter-widgets/output",
          "model_name": "OutputModel",
          "model_module_version": "1.0.0",
          "state": {
            "_view_name": "OutputView",
            "msg_id": "",
            "_dom_classes": [],
            "_model_name": "OutputModel",
            "outputs": [
              {
                "output_type": "stream",
                "name": "stdout",
                "text": [
                  "Video available at https://www.bilibili.com/video/BV18w41197o8\n"
                ]
              },
              {
                "output_type": "display_data",
                "data": {
                  "text/html": "\n        <iframe\n            width=\"854\"\n            height=\"480\"\n            src=\"https://player.bilibili.com/player.html?bvid=BV18w41197o8&page=1?fs=1\"\n            frameborder=\"0\"\n            allowfullscreen\n        ></iframe>\n        ",
                  "text/plain": "<__main__.BiliVideo at 0x7f8a17f31810>"
                },
                "metadata": {}
              }
            ],
            "_view_module": "@jupyter-widgets/output",
            "_model_module_version": "1.0.0",
            "_view_count": null,
            "_view_module_version": "1.0.0",
            "layout": "IPY_MODEL_28c2db0109d74108a0811036d6772214",
            "_model_module": "@jupyter-widgets/output"
          }
        },
        "f3b3966532964f678d60e2f311cec9be": {
          "model_module": "@jupyter-widgets/base",
          "model_name": "LayoutModel",
          "model_module_version": "1.2.0",
          "state": {
            "_view_name": "LayoutView",
            "grid_template_rows": null,
            "right": null,
            "justify_content": null,
            "_view_module": "@jupyter-widgets/base",
            "overflow": null,
            "_model_module_version": "1.2.0",
            "_view_count": null,
            "flex_flow": null,
            "width": null,
            "min_width": null,
            "border": null,
            "align_items": null,
            "bottom": null,
            "_model_module": "@jupyter-widgets/base",
            "top": null,
            "grid_column": null,
            "overflow_y": null,
            "overflow_x": null,
            "grid_auto_flow": null,
            "grid_area": null,
            "grid_template_columns": null,
            "flex": null,
            "_model_name": "LayoutModel",
            "justify_items": null,
            "grid_row": null,
            "max_height": null,
            "align_content": null,
            "visibility": null,
            "align_self": null,
            "height": null,
            "min_height": null,
            "padding": null,
            "grid_auto_rows": null,
            "grid_gap": null,
            "max_width": null,
            "order": null,
            "_view_module_version": "1.2.0",
            "grid_template_areas": null,
            "object_position": null,
            "object_fit": null,
            "grid_auto_columns": null,
            "margin": null,
            "display": null,
            "left": null
          }
        },
        "28c2db0109d74108a0811036d6772214": {
          "model_module": "@jupyter-widgets/base",
          "model_name": "LayoutModel",
          "model_module_version": "1.2.0",
          "state": {
            "_view_name": "LayoutView",
            "grid_template_rows": null,
            "right": null,
            "justify_content": null,
            "_view_module": "@jupyter-widgets/base",
            "overflow": null,
            "_model_module_version": "1.2.0",
            "_view_count": null,
            "flex_flow": null,
            "width": null,
            "min_width": null,
            "border": null,
            "align_items": null,
            "bottom": null,
            "_model_module": "@jupyter-widgets/base",
            "top": null,
            "grid_column": null,
            "overflow_y": null,
            "overflow_x": null,
            "grid_auto_flow": null,
            "grid_area": null,
            "grid_template_columns": null,
            "flex": null,
            "_model_name": "LayoutModel",
            "justify_items": null,
            "grid_row": null,
            "max_height": null,
            "align_content": null,
            "visibility": null,
            "align_self": null,
            "height": null,
            "min_height": null,
            "padding": null,
            "grid_auto_rows": null,
            "grid_gap": null,
            "max_width": null,
            "order": null,
            "_view_module_version": "1.2.0",
            "grid_template_areas": null,
            "object_position": null,
            "object_fit": null,
            "grid_auto_columns": null,
            "margin": null,
            "display": null,
            "left": null
          }
        },
        "487411b9c8db497580c0545054d6186a": {
          "model_module": "@jupyter-widgets/controls",
          "model_name": "TabModel",
          "model_module_version": "1.5.0",
          "state": {
            "_view_name": "TabView",
            "_dom_classes": [],
            "_titles": {
              "0": "Youtube",
              "1": "Bilibili"
            },
            "_model_name": "TabModel",
            "_view_module": "@jupyter-widgets/controls",
            "selected_index": 0,
            "_model_module_version": "1.5.0",
            "_view_count": null,
            "_view_module_version": "1.5.0",
            "box_style": "",
            "layout": "IPY_MODEL_261a790caf9c481b9b8e51aa4c42a2a3",
            "_model_module": "@jupyter-widgets/controls",
            "children": [
              "IPY_MODEL_bcc14f98d6a144a3af9385a1ea1bdc33",
              "IPY_MODEL_6f18e94218754053906cd0cf93dc9f73"
            ]
          }
        },
        "261a790caf9c481b9b8e51aa4c42a2a3": {
          "model_module": "@jupyter-widgets/base",
          "model_name": "LayoutModel",
          "model_module_version": "1.2.0",
          "state": {
            "_view_name": "LayoutView",
            "grid_template_rows": null,
            "right": null,
            "justify_content": null,
            "_view_module": "@jupyter-widgets/base",
            "overflow": null,
            "_model_module_version": "1.2.0",
            "_view_count": null,
            "flex_flow": null,
            "width": null,
            "min_width": null,
            "border": null,
            "align_items": null,
            "bottom": null,
            "_model_module": "@jupyter-widgets/base",
            "top": null,
            "grid_column": null,
            "overflow_y": null,
            "overflow_x": null,
            "grid_auto_flow": null,
            "grid_area": null,
            "grid_template_columns": null,
            "flex": null,
            "_model_name": "LayoutModel",
            "justify_items": null,
            "grid_row": null,
            "max_height": null,
            "align_content": null,
            "visibility": null,
            "align_self": null,
            "height": null,
            "min_height": null,
            "padding": null,
            "grid_auto_rows": null,
            "grid_gap": null,
            "max_width": null,
            "order": null,
            "_view_module_version": "1.2.0",
            "grid_template_areas": null,
            "object_position": null,
            "object_fit": null,
            "grid_auto_columns": null,
            "margin": null,
            "display": null,
            "left": null
          }
        },
        "bcc14f98d6a144a3af9385a1ea1bdc33": {
          "model_module": "@jupyter-widgets/output",
          "model_name": "OutputModel",
          "model_module_version": "1.0.0",
          "state": {
            "_view_name": "OutputView",
            "msg_id": "",
            "_dom_classes": [],
            "_model_name": "OutputModel",
            "outputs": [
              {
                "output_type": "stream",
                "name": "stdout",
                "text": [
                  "Video available at https://youtube.com/watch?v=P_QtnN1_wMM\n"
                ]
              },
              {
                "output_type": "display_data",
                "data": {
                  "text/html": "\n        <iframe\n            width=\"854\"\n            height=\"480\"\n            src=\"https://www.youtube.com/embed/P_QtnN1_wMM?fs=1&rel=0\"\n            frameborder=\"0\"\n            allowfullscreen\n        ></iframe>\n        ",
                  "text/plain": "<IPython.lib.display.YouTubeVideo at 0x7f89f4692450>",
                  "image/jpeg": "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\n"
                },
                "metadata": {}
              }
            ],
            "_view_module": "@jupyter-widgets/output",
            "_model_module_version": "1.0.0",
            "_view_count": null,
            "_view_module_version": "1.0.0",
            "layout": "IPY_MODEL_04c6be19464d4ba2ac24e25d79d81e8e",
            "_model_module": "@jupyter-widgets/output"
          }
        },
        "6f18e94218754053906cd0cf93dc9f73": {
          "model_module": "@jupyter-widgets/output",
          "model_name": "OutputModel",
          "model_module_version": "1.0.0",
          "state": {
            "_view_name": "OutputView",
            "msg_id": "",
            "_dom_classes": [],
            "_model_name": "OutputModel",
            "outputs": [
              {
                "output_type": "stream",
                "name": "stdout",
                "text": [
                  "Video available at https://www.bilibili.com/video/BV1Ey4y1j7Jj\n"
                ]
              },
              {
                "output_type": "display_data",
                "data": {
                  "text/html": "\n        <iframe\n            width=\"854\"\n            height=\"480\"\n            src=\"https://player.bilibili.com/player.html?bvid=BV1Ey4y1j7Jj&page=1?fs=1\"\n            frameborder=\"0\"\n            allowfullscreen\n        ></iframe>\n        ",
                  "text/plain": "<__main__.BiliVideo at 0x7f89f4644e90>"
                },
                "metadata": {}
              }
            ],
            "_view_module": "@jupyter-widgets/output",
            "_model_module_version": "1.0.0",
            "_view_count": null,
            "_view_module_version": "1.0.0",
            "layout": "IPY_MODEL_9b5fd62d8311465b80bd091144ef4894",
            "_model_module": "@jupyter-widgets/output"
          }
        },
        "04c6be19464d4ba2ac24e25d79d81e8e": {
          "model_module": "@jupyter-widgets/base",
          "model_name": "LayoutModel",
          "model_module_version": "1.2.0",
          "state": {
            "_view_name": "LayoutView",
            "grid_template_rows": null,
            "right": null,
            "justify_content": null,
            "_view_module": "@jupyter-widgets/base",
            "overflow": null,
            "_model_module_version": "1.2.0",
            "_view_count": null,
            "flex_flow": null,
            "width": null,
            "min_width": null,
            "border": null,
            "align_items": null,
            "bottom": null,
            "_model_module": "@jupyter-widgets/base",
            "top": null,
            "grid_column": null,
            "overflow_y": null,
            "overflow_x": null,
            "grid_auto_flow": null,
            "grid_area": null,
            "grid_template_columns": null,
            "flex": null,
            "_model_name": "LayoutModel",
            "justify_items": null,
            "grid_row": null,
            "max_height": null,
            "align_content": null,
            "visibility": null,
            "align_self": null,
            "height": null,
            "min_height": null,
            "padding": null,
            "grid_auto_rows": null,
            "grid_gap": null,
            "max_width": null,
            "order": null,
            "_view_module_version": "1.2.0",
            "grid_template_areas": null,
            "object_position": null,
            "object_fit": null,
            "grid_auto_columns": null,
            "margin": null,
            "display": null,
            "left": null
          }
        },
        "9b5fd62d8311465b80bd091144ef4894": {
          "model_module": "@jupyter-widgets/base",
          "model_name": "LayoutModel",
          "model_module_version": "1.2.0",
          "state": {
            "_view_name": "LayoutView",
            "grid_template_rows": null,
            "right": null,
            "justify_content": null,
            "_view_module": "@jupyter-widgets/base",
            "overflow": null,
            "_model_module_version": "1.2.0",
            "_view_count": null,
            "flex_flow": null,
            "width": null,
            "min_width": null,
            "border": null,
            "align_items": null,
            "bottom": null,
            "_model_module": "@jupyter-widgets/base",
            "top": null,
            "grid_column": null,
            "overflow_y": null,
            "overflow_x": null,
            "grid_auto_flow": null,
            "grid_area": null,
            "grid_template_columns": null,
            "flex": null,
            "_model_name": "LayoutModel",
            "justify_items": null,
            "grid_row": null,
            "max_height": null,
            "align_content": null,
            "visibility": null,
            "align_self": null,
            "height": null,
            "min_height": null,
            "padding": null,
            "grid_auto_rows": null,
            "grid_gap": null,
            "max_width": null,
            "order": null,
            "_view_module_version": "1.2.0",
            "grid_template_areas": null,
            "object_position": null,
            "object_fit": null,
            "grid_auto_columns": null,
            "margin": null,
            "display": null,
            "left": null
          }
        },
        "267a4f59744846e58f75461032f1faa0": {
          "model_module": "@jupyter-widgets/controls",
          "model_name": "TextareaModel",
          "model_module_version": "1.5.0",
          "state": {
            "_view_name": "TextareaView",
            "style": "IPY_MODEL_efdeb0483e8849278c4a33dcb8c66814",
            "rows": null,
            "_dom_classes": [],
            "description": "",
            "_model_name": "TextareaModel",
            "placeholder": "Type something",
            "_view_module": "@jupyter-widgets/controls",
            "_model_module_version": "1.5.0",
            "value": "Type your answer here and click on `Submit!`",
            "_view_count": null,
            "disabled": false,
            "_view_module_version": "1.5.0",
            "continuous_update": true,
            "description_tooltip": null,
            "_model_module": "@jupyter-widgets/controls",
            "layout": "IPY_MODEL_74269696666f49bd9082b904541fff2a"
          }
        },
        "efdeb0483e8849278c4a33dcb8c66814": {
          "model_module": "@jupyter-widgets/controls",
          "model_name": "DescriptionStyleModel",
          "model_module_version": "1.5.0",
          "state": {
            "_view_name": "StyleView",
            "_model_name": "DescriptionStyleModel",
            "description_width": "",
            "_view_module": "@jupyter-widgets/base",
            "_model_module_version": "1.5.0",
            "_view_count": null,
            "_view_module_version": "1.2.0",
            "_model_module": "@jupyter-widgets/controls"
          }
        },
        "74269696666f49bd9082b904541fff2a": {
          "model_module": "@jupyter-widgets/base",
          "model_name": "LayoutModel",
          "model_module_version": "1.2.0",
          "state": {
            "_view_name": "LayoutView",
            "grid_template_rows": null,
            "right": null,
            "justify_content": null,
            "_view_module": "@jupyter-widgets/base",
            "overflow": null,
            "_model_module_version": "1.2.0",
            "_view_count": null,
            "flex_flow": null,
            "width": null,
            "min_width": null,
            "border": null,
            "align_items": null,
            "bottom": null,
            "_model_module": "@jupyter-widgets/base",
            "top": null,
            "grid_column": null,
            "overflow_y": null,
            "overflow_x": null,
            "grid_auto_flow": null,
            "grid_area": null,
            "grid_template_columns": null,
            "flex": null,
            "_model_name": "LayoutModel",
            "justify_items": null,
            "grid_row": null,
            "max_height": null,
            "align_content": null,
            "visibility": null,
            "align_self": null,
            "height": null,
            "min_height": null,
            "padding": null,
            "grid_auto_rows": null,
            "grid_gap": null,
            "max_width": null,
            "order": null,
            "_view_module_version": "1.2.0",
            "grid_template_areas": null,
            "object_position": null,
            "object_fit": null,
            "grid_auto_columns": null,
            "margin": null,
            "display": null,
            "left": null
          }
        },
        "223961ae3d504c3989b4669cd7c1752c": {
          "model_module": "@jupyter-widgets/controls",
          "model_name": "ButtonModel",
          "model_module_version": "1.5.0",
          "state": {
            "_view_name": "ButtonView",
            "style": "IPY_MODEL_0645a2af500f4411bbcdcc19f08c0f37",
            "_dom_classes": [],
            "description": "Submit!",
            "_model_name": "ButtonModel",
            "button_style": "",
            "_view_module": "@jupyter-widgets/controls",
            "_model_module_version": "1.5.0",
            "tooltip": "",
            "_view_count": null,
            "disabled": false,
            "_view_module_version": "1.5.0",
            "layout": "IPY_MODEL_4feaa7bf567d4d2ba183c9078af24b10",
            "_model_module": "@jupyter-widgets/controls",
            "icon": ""
          }
        },
        "0645a2af500f4411bbcdcc19f08c0f37": {
          "model_module": "@jupyter-widgets/controls",
          "model_name": "ButtonStyleModel",
          "model_module_version": "1.5.0",
          "state": {
            "_view_name": "StyleView",
            "_model_name": "ButtonStyleModel",
            "_view_module": "@jupyter-widgets/base",
            "_model_module_version": "1.5.0",
            "_view_count": null,
            "button_color": null,
            "font_weight": "",
            "_view_module_version": "1.2.0",
            "_model_module": "@jupyter-widgets/controls"
          }
        },
        "4feaa7bf567d4d2ba183c9078af24b10": {
          "model_module": "@jupyter-widgets/base",
          "model_name": "LayoutModel",
          "model_module_version": "1.2.0",
          "state": {
            "_view_name": "LayoutView",
            "grid_template_rows": null,
            "right": null,
            "justify_content": null,
            "_view_module": "@jupyter-widgets/base",
            "overflow": null,
            "_model_module_version": "1.2.0",
            "_view_count": null,
            "flex_flow": null,
            "width": null,
            "min_width": null,
            "border": null,
            "align_items": null,
            "bottom": null,
            "_model_module": "@jupyter-widgets/base",
            "top": null,
            "grid_column": null,
            "overflow_y": null,
            "overflow_x": null,
            "grid_auto_flow": null,
            "grid_area": null,
            "grid_template_columns": null,
            "flex": null,
            "_model_name": "LayoutModel",
            "justify_items": null,
            "grid_row": null,
            "max_height": null,
            "align_content": null,
            "visibility": null,
            "align_self": null,
            "height": null,
            "min_height": null,
            "padding": null,
            "grid_auto_rows": null,
            "grid_gap": null,
            "max_width": null,
            "order": null,
            "_view_module_version": "1.2.0",
            "grid_template_areas": null,
            "object_position": null,
            "object_fit": null,
            "grid_auto_columns": null,
            "margin": null,
            "display": null,
            "left": null
          }
        },
        "27729ea7a00a4832bff09b291ed5a436": {
          "model_module": "@jupyter-widgets/controls",
          "model_name": "TextareaModel",
          "model_module_version": "1.5.0",
          "state": {
            "_view_name": "TextareaView",
            "style": "IPY_MODEL_d97a7b9b39134c6499e306dc82175c65",
            "rows": null,
            "_dom_classes": [],
            "description": "",
            "_model_name": "TextareaModel",
            "placeholder": "Type something",
            "_view_module": "@jupyter-widgets/controls",
            "_model_module_version": "1.5.0",
            "value": "Type the most important characteristic and click on `Submit!`",
            "_view_count": null,
            "disabled": false,
            "_view_module_version": "1.5.0",
            "continuous_update": true,
            "description_tooltip": null,
            "_model_module": "@jupyter-widgets/controls",
            "layout": "IPY_MODEL_2a7f4488a98b4171a44b011004b666a0"
          }
        },
        "d97a7b9b39134c6499e306dc82175c65": {
          "model_module": "@jupyter-widgets/controls",
          "model_name": "DescriptionStyleModel",
          "model_module_version": "1.5.0",
          "state": {
            "_view_name": "StyleView",
            "_model_name": "DescriptionStyleModel",
            "description_width": "",
            "_view_module": "@jupyter-widgets/base",
            "_model_module_version": "1.5.0",
            "_view_count": null,
            "_view_module_version": "1.2.0",
            "_model_module": "@jupyter-widgets/controls"
          }
        },
        "2a7f4488a98b4171a44b011004b666a0": {
          "model_module": "@jupyter-widgets/base",
          "model_name": "LayoutModel",
          "model_module_version": "1.2.0",
          "state": {
            "_view_name": "LayoutView",
            "grid_template_rows": null,
            "right": null,
            "justify_content": null,
            "_view_module": "@jupyter-widgets/base",
            "overflow": null,
            "_model_module_version": "1.2.0",
            "_view_count": null,
            "flex_flow": null,
            "width": null,
            "min_width": null,
            "border": null,
            "align_items": null,
            "bottom": null,
            "_model_module": "@jupyter-widgets/base",
            "top": null,
            "grid_column": null,
            "overflow_y": null,
            "overflow_x": null,
            "grid_auto_flow": null,
            "grid_area": null,
            "grid_template_columns": null,
            "flex": null,
            "_model_name": "LayoutModel",
            "justify_items": null,
            "grid_row": null,
            "max_height": null,
            "align_content": null,
            "visibility": null,
            "align_self": null,
            "height": null,
            "min_height": null,
            "padding": null,
            "grid_auto_rows": null,
            "grid_gap": null,
            "max_width": null,
            "order": null,
            "_view_module_version": "1.2.0",
            "grid_template_areas": null,
            "object_position": null,
            "object_fit": null,
            "grid_auto_columns": null,
            "margin": null,
            "display": null,
            "left": null
          }
        },
        "f397bfddab4d47049e8a5d6ac298bf0a": {
          "model_module": "@jupyter-widgets/controls",
          "model_name": "ButtonModel",
          "model_module_version": "1.5.0",
          "state": {
            "_view_name": "ButtonView",
            "style": "IPY_MODEL_399a2a80379e4fb2bcb82f67ad826fd7",
            "_dom_classes": [],
            "description": "Submit!",
            "_model_name": "ButtonModel",
            "button_style": "",
            "_view_module": "@jupyter-widgets/controls",
            "_model_module_version": "1.5.0",
            "tooltip": "",
            "_view_count": null,
            "disabled": false,
            "_view_module_version": "1.5.0",
            "layout": "IPY_MODEL_ab72f249901f4cdba1a257cdda0efb31",
            "_model_module": "@jupyter-widgets/controls",
            "icon": ""
          }
        },
        "399a2a80379e4fb2bcb82f67ad826fd7": {
          "model_module": "@jupyter-widgets/controls",
          "model_name": "ButtonStyleModel",
          "model_module_version": "1.5.0",
          "state": {
            "_view_name": "StyleView",
            "_model_name": "ButtonStyleModel",
            "_view_module": "@jupyter-widgets/base",
            "_model_module_version": "1.5.0",
            "_view_count": null,
            "button_color": null,
            "font_weight": "",
            "_view_module_version": "1.2.0",
            "_model_module": "@jupyter-widgets/controls"
          }
        },
        "ab72f249901f4cdba1a257cdda0efb31": {
          "model_module": "@jupyter-widgets/base",
          "model_name": "LayoutModel",
          "model_module_version": "1.2.0",
          "state": {
            "_view_name": "LayoutView",
            "grid_template_rows": null,
            "right": null,
            "justify_content": null,
            "_view_module": "@jupyter-widgets/base",
            "overflow": null,
            "_model_module_version": "1.2.0",
            "_view_count": null,
            "flex_flow": null,
            "width": null,
            "min_width": null,
            "border": null,
            "align_items": null,
            "bottom": null,
            "_model_module": "@jupyter-widgets/base",
            "top": null,
            "grid_column": null,
            "overflow_y": null,
            "overflow_x": null,
            "grid_auto_flow": null,
            "grid_area": null,
            "grid_template_columns": null,
            "flex": null,
            "_model_name": "LayoutModel",
            "justify_items": null,
            "grid_row": null,
            "max_height": null,
            "align_content": null,
            "visibility": null,
            "align_self": null,
            "height": null,
            "min_height": null,
            "padding": null,
            "grid_auto_rows": null,
            "grid_gap": null,
            "max_width": null,
            "order": null,
            "_view_module_version": "1.2.0",
            "grid_template_areas": null,
            "object_position": null,
            "object_fit": null,
            "grid_auto_columns": null,
            "margin": null,
            "display": null,
            "left": null
          }
        },
        "ef1cc2f3989c41db88df894f8be3a8af": {
          "model_module": "@jupyter-widgets/controls",
          "model_name": "TextareaModel",
          "model_module_version": "1.5.0",
          "state": {
            "_view_name": "TextareaView",
            "style": "IPY_MODEL_5d713df6c8874f20b35ccd360b921451",
            "rows": null,
            "_dom_classes": [],
            "description": "",
            "_model_name": "TextareaModel",
            "placeholder": "Type something",
            "_view_module": "@jupyter-widgets/controls",
            "_model_module_version": "1.5.0",
            "value": "Type the second most important characteristic and click on `Submit!`",
            "_view_count": null,
            "disabled": false,
            "_view_module_version": "1.5.0",
            "continuous_update": true,
            "description_tooltip": null,
            "_model_module": "@jupyter-widgets/controls",
            "layout": "IPY_MODEL_47fa73e836474bc8b59b1df61dc74d7e"
          }
        },
        "5d713df6c8874f20b35ccd360b921451": {
          "model_module": "@jupyter-widgets/controls",
          "model_name": "DescriptionStyleModel",
          "model_module_version": "1.5.0",
          "state": {
            "_view_name": "StyleView",
            "_model_name": "DescriptionStyleModel",
            "description_width": "",
            "_view_module": "@jupyter-widgets/base",
            "_model_module_version": "1.5.0",
            "_view_count": null,
            "_view_module_version": "1.2.0",
            "_model_module": "@jupyter-widgets/controls"
          }
        },
        "47fa73e836474bc8b59b1df61dc74d7e": {
          "model_module": "@jupyter-widgets/base",
          "model_name": "LayoutModel",
          "model_module_version": "1.2.0",
          "state": {
            "_view_name": "LayoutView",
            "grid_template_rows": null,
            "right": null,
            "justify_content": null,
            "_view_module": "@jupyter-widgets/base",
            "overflow": null,
            "_model_module_version": "1.2.0",
            "_view_count": null,
            "flex_flow": null,
            "width": null,
            "min_width": null,
            "border": null,
            "align_items": null,
            "bottom": null,
            "_model_module": "@jupyter-widgets/base",
            "top": null,
            "grid_column": null,
            "overflow_y": null,
            "overflow_x": null,
            "grid_auto_flow": null,
            "grid_area": null,
            "grid_template_columns": null,
            "flex": null,
            "_model_name": "LayoutModel",
            "justify_items": null,
            "grid_row": null,
            "max_height": null,
            "align_content": null,
            "visibility": null,
            "align_self": null,
            "height": null,
            "min_height": null,
            "padding": null,
            "grid_auto_rows": null,
            "grid_gap": null,
            "max_width": null,
            "order": null,
            "_view_module_version": "1.2.0",
            "grid_template_areas": null,
            "object_position": null,
            "object_fit": null,
            "grid_auto_columns": null,
            "margin": null,
            "display": null,
            "left": null
          }
        },
        "22c97655cca44422a7353beada8acf79": {
          "model_module": "@jupyter-widgets/controls",
          "model_name": "ButtonModel",
          "model_module_version": "1.5.0",
          "state": {
            "_view_name": "ButtonView",
            "style": "IPY_MODEL_29ece5d42ee749b1ab8c5440dced73a6",
            "_dom_classes": [],
            "description": "Submit!",
            "_model_name": "ButtonModel",
            "button_style": "",
            "_view_module": "@jupyter-widgets/controls",
            "_model_module_version": "1.5.0",
            "tooltip": "",
            "_view_count": null,
            "disabled": false,
            "_view_module_version": "1.5.0",
            "layout": "IPY_MODEL_8b32f1d704934351a21cd9ac0eb22c30",
            "_model_module": "@jupyter-widgets/controls",
            "icon": ""
          }
        },
        "29ece5d42ee749b1ab8c5440dced73a6": {
          "model_module": "@jupyter-widgets/controls",
          "model_name": "ButtonStyleModel",
          "model_module_version": "1.5.0",
          "state": {
            "_view_name": "StyleView",
            "_model_name": "ButtonStyleModel",
            "_view_module": "@jupyter-widgets/base",
            "_model_module_version": "1.5.0",
            "_view_count": null,
            "button_color": null,
            "font_weight": "",
            "_view_module_version": "1.2.0",
            "_model_module": "@jupyter-widgets/controls"
          }
        },
        "8b32f1d704934351a21cd9ac0eb22c30": {
          "model_module": "@jupyter-widgets/base",
          "model_name": "LayoutModel",
          "model_module_version": "1.2.0",
          "state": {
            "_view_name": "LayoutView",
            "grid_template_rows": null,
            "right": null,
            "justify_content": null,
            "_view_module": "@jupyter-widgets/base",
            "overflow": null,
            "_model_module_version": "1.2.0",
            "_view_count": null,
            "flex_flow": null,
            "width": null,
            "min_width": null,
            "border": null,
            "align_items": null,
            "bottom": null,
            "_model_module": "@jupyter-widgets/base",
            "top": null,
            "grid_column": null,
            "overflow_y": null,
            "overflow_x": null,
            "grid_auto_flow": null,
            "grid_area": null,
            "grid_template_columns": null,
            "flex": null,
            "_model_name": "LayoutModel",
            "justify_items": null,
            "grid_row": null,
            "max_height": null,
            "align_content": null,
            "visibility": null,
            "align_self": null,
            "height": null,
            "min_height": null,
            "padding": null,
            "grid_auto_rows": null,
            "grid_gap": null,
            "max_width": null,
            "order": null,
            "_view_module_version": "1.2.0",
            "grid_template_areas": null,
            "object_position": null,
            "object_fit": null,
            "grid_auto_columns": null,
            "margin": null,
            "display": null,
            "left": null
          }
        },
        "7b3f393fd4254ba1858045e73fbc828a": {
          "model_module": "@jupyter-widgets/controls",
          "model_name": "TextareaModel",
          "model_module_version": "1.5.0",
          "state": {
            "_view_name": "TextareaView",
            "style": "IPY_MODEL_c66e276d58c640cbae00589a45f8ce07",
            "rows": null,
            "_dom_classes": [],
            "description": "",
            "_model_name": "TextareaModel",
            "placeholder": "Type something",
            "_view_module": "@jupyter-widgets/controls",
            "_model_module_version": "1.5.0",
            "value": "Type your answer here and click on `Submit!`",
            "_view_count": null,
            "disabled": false,
            "_view_module_version": "1.5.0",
            "continuous_update": true,
            "description_tooltip": null,
            "_model_module": "@jupyter-widgets/controls",
            "layout": "IPY_MODEL_06a92547be8b4c759b3076001584413b"
          }
        },
        "c66e276d58c640cbae00589a45f8ce07": {
          "model_module": "@jupyter-widgets/controls",
          "model_name": "DescriptionStyleModel",
          "model_module_version": "1.5.0",
          "state": {
            "_view_name": "StyleView",
            "_model_name": "DescriptionStyleModel",
            "description_width": "",
            "_view_module": "@jupyter-widgets/base",
            "_model_module_version": "1.5.0",
            "_view_count": null,
            "_view_module_version": "1.2.0",
            "_model_module": "@jupyter-widgets/controls"
          }
        },
        "06a92547be8b4c759b3076001584413b": {
          "model_module": "@jupyter-widgets/base",
          "model_name": "LayoutModel",
          "model_module_version": "1.2.0",
          "state": {
            "_view_name": "LayoutView",
            "grid_template_rows": null,
            "right": null,
            "justify_content": null,
            "_view_module": "@jupyter-widgets/base",
            "overflow": null,
            "_model_module_version": "1.2.0",
            "_view_count": null,
            "flex_flow": null,
            "width": null,
            "min_width": null,
            "border": null,
            "align_items": null,
            "bottom": null,
            "_model_module": "@jupyter-widgets/base",
            "top": null,
            "grid_column": null,
            "overflow_y": null,
            "overflow_x": null,
            "grid_auto_flow": null,
            "grid_area": null,
            "grid_template_columns": null,
            "flex": null,
            "_model_name": "LayoutModel",
            "justify_items": null,
            "grid_row": null,
            "max_height": null,
            "align_content": null,
            "visibility": null,
            "align_self": null,
            "height": null,
            "min_height": null,
            "padding": null,
            "grid_auto_rows": null,
            "grid_gap": null,
            "max_width": null,
            "order": null,
            "_view_module_version": "1.2.0",
            "grid_template_areas": null,
            "object_position": null,
            "object_fit": null,
            "grid_auto_columns": null,
            "margin": null,
            "display": null,
            "left": null
          }
        },
        "c3224a84050e47f0bf24e7fc9708de50": {
          "model_module": "@jupyter-widgets/controls",
          "model_name": "ButtonModel",
          "model_module_version": "1.5.0",
          "state": {
            "_view_name": "ButtonView",
            "style": "IPY_MODEL_cd8da857319549d69d4ca09468c6bfd4",
            "_dom_classes": [],
            "description": "Submit!",
            "_model_name": "ButtonModel",
            "button_style": "",
            "_view_module": "@jupyter-widgets/controls",
            "_model_module_version": "1.5.0",
            "tooltip": "",
            "_view_count": null,
            "disabled": false,
            "_view_module_version": "1.5.0",
            "layout": "IPY_MODEL_0f3751a2539f46f4aaac01a7f07a2d80",
            "_model_module": "@jupyter-widgets/controls",
            "icon": ""
          }
        },
        "cd8da857319549d69d4ca09468c6bfd4": {
          "model_module": "@jupyter-widgets/controls",
          "model_name": "ButtonStyleModel",
          "model_module_version": "1.5.0",
          "state": {
            "_view_name": "StyleView",
            "_model_name": "ButtonStyleModel",
            "_view_module": "@jupyter-widgets/base",
            "_model_module_version": "1.5.0",
            "_view_count": null,
            "button_color": null,
            "font_weight": "",
            "_view_module_version": "1.2.0",
            "_model_module": "@jupyter-widgets/controls"
          }
        },
        "0f3751a2539f46f4aaac01a7f07a2d80": {
          "model_module": "@jupyter-widgets/base",
          "model_name": "LayoutModel",
          "model_module_version": "1.2.0",
          "state": {
            "_view_name": "LayoutView",
            "grid_template_rows": null,
            "right": null,
            "justify_content": null,
            "_view_module": "@jupyter-widgets/base",
            "overflow": null,
            "_model_module_version": "1.2.0",
            "_view_count": null,
            "flex_flow": null,
            "width": null,
            "min_width": null,
            "border": null,
            "align_items": null,
            "bottom": null,
            "_model_module": "@jupyter-widgets/base",
            "top": null,
            "grid_column": null,
            "overflow_y": null,
            "overflow_x": null,
            "grid_auto_flow": null,
            "grid_area": null,
            "grid_template_columns": null,
            "flex": null,
            "_model_name": "LayoutModel",
            "justify_items": null,
            "grid_row": null,
            "max_height": null,
            "align_content": null,
            "visibility": null,
            "align_self": null,
            "height": null,
            "min_height": null,
            "padding": null,
            "grid_auto_rows": null,
            "grid_gap": null,
            "max_width": null,
            "order": null,
            "_view_module_version": "1.2.0",
            "grid_template_areas": null,
            "object_position": null,
            "object_fit": null,
            "grid_auto_columns": null,
            "margin": null,
            "display": null,
            "left": null
          }
        },
        "b22e3fa6a8714891a55d1bfb3d7c41c5": {
          "model_module": "@jupyter-widgets/controls",
          "model_name": "TextareaModel",
          "model_module_version": "1.5.0",
          "state": {
            "_view_name": "TextareaView",
            "style": "IPY_MODEL_2be5ea02615f4f6782591a40ebd92996",
            "rows": null,
            "_dom_classes": [],
            "description": "",
            "_model_name": "TextareaModel",
            "placeholder": "Type something",
            "_view_module": "@jupyter-widgets/controls",
            "_model_module_version": "1.5.0",
            "value": "Type your answer here and click on `Submit!`",
            "_view_count": null,
            "disabled": false,
            "_view_module_version": "1.5.0",
            "continuous_update": true,
            "description_tooltip": null,
            "_model_module": "@jupyter-widgets/controls",
            "layout": "IPY_MODEL_a9ed3e9e495e4b3380e580cb650911c0"
          }
        },
        "2be5ea02615f4f6782591a40ebd92996": {
          "model_module": "@jupyter-widgets/controls",
          "model_name": "DescriptionStyleModel",
          "model_module_version": "1.5.0",
          "state": {
            "_view_name": "StyleView",
            "_model_name": "DescriptionStyleModel",
            "description_width": "",
            "_view_module": "@jupyter-widgets/base",
            "_model_module_version": "1.5.0",
            "_view_count": null,
            "_view_module_version": "1.2.0",
            "_model_module": "@jupyter-widgets/controls"
          }
        },
        "a9ed3e9e495e4b3380e580cb650911c0": {
          "model_module": "@jupyter-widgets/base",
          "model_name": "LayoutModel",
          "model_module_version": "1.2.0",
          "state": {
            "_view_name": "LayoutView",
            "grid_template_rows": null,
            "right": null,
            "justify_content": null,
            "_view_module": "@jupyter-widgets/base",
            "overflow": null,
            "_model_module_version": "1.2.0",
            "_view_count": null,
            "flex_flow": null,
            "width": null,
            "min_width": null,
            "border": null,
            "align_items": null,
            "bottom": null,
            "_model_module": "@jupyter-widgets/base",
            "top": null,
            "grid_column": null,
            "overflow_y": null,
            "overflow_x": null,
            "grid_auto_flow": null,
            "grid_area": null,
            "grid_template_columns": null,
            "flex": null,
            "_model_name": "LayoutModel",
            "justify_items": null,
            "grid_row": null,
            "max_height": null,
            "align_content": null,
            "visibility": null,
            "align_self": null,
            "height": null,
            "min_height": null,
            "padding": null,
            "grid_auto_rows": null,
            "grid_gap": null,
            "max_width": null,
            "order": null,
            "_view_module_version": "1.2.0",
            "grid_template_areas": null,
            "object_position": null,
            "object_fit": null,
            "grid_auto_columns": null,
            "margin": null,
            "display": null,
            "left": null
          }
        },
        "65335ccfd2e941359b891fc3fcd1381b": {
          "model_module": "@jupyter-widgets/controls",
          "model_name": "ButtonModel",
          "model_module_version": "1.5.0",
          "state": {
            "_view_name": "ButtonView",
            "style": "IPY_MODEL_9a74b4675cf2412e91985a9bd4f42e19",
            "_dom_classes": [],
            "description": "Submit!",
            "_model_name": "ButtonModel",
            "button_style": "",
            "_view_module": "@jupyter-widgets/controls",
            "_model_module_version": "1.5.0",
            "tooltip": "",
            "_view_count": null,
            "disabled": false,
            "_view_module_version": "1.5.0",
            "layout": "IPY_MODEL_87252aaad8744aa89f868ea2d769e151",
            "_model_module": "@jupyter-widgets/controls",
            "icon": ""
          }
        },
        "9a74b4675cf2412e91985a9bd4f42e19": {
          "model_module": "@jupyter-widgets/controls",
          "model_name": "ButtonStyleModel",
          "model_module_version": "1.5.0",
          "state": {
            "_view_name": "StyleView",
            "_model_name": "ButtonStyleModel",
            "_view_module": "@jupyter-widgets/base",
            "_model_module_version": "1.5.0",
            "_view_count": null,
            "button_color": null,
            "font_weight": "",
            "_view_module_version": "1.2.0",
            "_model_module": "@jupyter-widgets/controls"
          }
        },
        "87252aaad8744aa89f868ea2d769e151": {
          "model_module": "@jupyter-widgets/base",
          "model_name": "LayoutModel",
          "model_module_version": "1.2.0",
          "state": {
            "_view_name": "LayoutView",
            "grid_template_rows": null,
            "right": null,
            "justify_content": null,
            "_view_module": "@jupyter-widgets/base",
            "overflow": null,
            "_model_module_version": "1.2.0",
            "_view_count": null,
            "flex_flow": null,
            "width": null,
            "min_width": null,
            "border": null,
            "align_items": null,
            "bottom": null,
            "_model_module": "@jupyter-widgets/base",
            "top": null,
            "grid_column": null,
            "overflow_y": null,
            "overflow_x": null,
            "grid_auto_flow": null,
            "grid_area": null,
            "grid_template_columns": null,
            "flex": null,
            "_model_name": "LayoutModel",
            "justify_items": null,
            "grid_row": null,
            "max_height": null,
            "align_content": null,
            "visibility": null,
            "align_self": null,
            "height": null,
            "min_height": null,
            "padding": null,
            "grid_auto_rows": null,
            "grid_gap": null,
            "max_width": null,
            "order": null,
            "_view_module_version": "1.2.0",
            "grid_template_areas": null,
            "object_position": null,
            "object_fit": null,
            "grid_auto_columns": null,
            "margin": null,
            "display": null,
            "left": null
          }
        },
        "fffe08ee9f1f441399cfebf91f178179": {
          "model_module": "@jupyter-widgets/controls",
          "model_name": "TextareaModel",
          "model_module_version": "1.5.0",
          "state": {
            "_view_name": "TextareaView",
            "style": "IPY_MODEL_c1f86f90027542eab3c74a20bc93f90b",
            "rows": null,
            "_dom_classes": [],
            "description": "",
            "_model_name": "TextareaModel",
            "placeholder": "Type something",
            "_view_module": "@jupyter-widgets/controls",
            "_model_module_version": "1.5.0",
            "value": "Type your answer here and click on `Submit!`",
            "_view_count": null,
            "disabled": false,
            "_view_module_version": "1.5.0",
            "continuous_update": true,
            "description_tooltip": null,
            "_model_module": "@jupyter-widgets/controls",
            "layout": "IPY_MODEL_2727b8d6306d4751854c1be4fd033062"
          }
        },
        "c1f86f90027542eab3c74a20bc93f90b": {
          "model_module": "@jupyter-widgets/controls",
          "model_name": "DescriptionStyleModel",
          "model_module_version": "1.5.0",
          "state": {
            "_view_name": "StyleView",
            "_model_name": "DescriptionStyleModel",
            "description_width": "",
            "_view_module": "@jupyter-widgets/base",
            "_model_module_version": "1.5.0",
            "_view_count": null,
            "_view_module_version": "1.2.0",
            "_model_module": "@jupyter-widgets/controls"
          }
        },
        "2727b8d6306d4751854c1be4fd033062": {
          "model_module": "@jupyter-widgets/base",
          "model_name": "LayoutModel",
          "model_module_version": "1.2.0",
          "state": {
            "_view_name": "LayoutView",
            "grid_template_rows": null,
            "right": null,
            "justify_content": null,
            "_view_module": "@jupyter-widgets/base",
            "overflow": null,
            "_model_module_version": "1.2.0",
            "_view_count": null,
            "flex_flow": null,
            "width": null,
            "min_width": null,
            "border": null,
            "align_items": null,
            "bottom": null,
            "_model_module": "@jupyter-widgets/base",
            "top": null,
            "grid_column": null,
            "overflow_y": null,
            "overflow_x": null,
            "grid_auto_flow": null,
            "grid_area": null,
            "grid_template_columns": null,
            "flex": null,
            "_model_name": "LayoutModel",
            "justify_items": null,
            "grid_row": null,
            "max_height": null,
            "align_content": null,
            "visibility": null,
            "align_self": null,
            "height": null,
            "min_height": null,
            "padding": null,
            "grid_auto_rows": null,
            "grid_gap": null,
            "max_width": null,
            "order": null,
            "_view_module_version": "1.2.0",
            "grid_template_areas": null,
            "object_position": null,
            "object_fit": null,
            "grid_auto_columns": null,
            "margin": null,
            "display": null,
            "left": null
          }
        },
        "0300a05eeaff4215b2fb836e50f51f6f": {
          "model_module": "@jupyter-widgets/controls",
          "model_name": "ButtonModel",
          "model_module_version": "1.5.0",
          "state": {
            "_view_name": "ButtonView",
            "style": "IPY_MODEL_b7534e5b43a44998a93fca0faaa95297",
            "_dom_classes": [],
            "description": "Submit!",
            "_model_name": "ButtonModel",
            "button_style": "",
            "_view_module": "@jupyter-widgets/controls",
            "_model_module_version": "1.5.0",
            "tooltip": "",
            "_view_count": null,
            "disabled": false,
            "_view_module_version": "1.5.0",
            "layout": "IPY_MODEL_e9b7f336c6c8478680325ebd62b60b18",
            "_model_module": "@jupyter-widgets/controls",
            "icon": ""
          }
        },
        "b7534e5b43a44998a93fca0faaa95297": {
          "model_module": "@jupyter-widgets/controls",
          "model_name": "ButtonStyleModel",
          "model_module_version": "1.5.0",
          "state": {
            "_view_name": "StyleView",
            "_model_name": "ButtonStyleModel",
            "_view_module": "@jupyter-widgets/base",
            "_model_module_version": "1.5.0",
            "_view_count": null,
            "button_color": null,
            "font_weight": "",
            "_view_module_version": "1.2.0",
            "_model_module": "@jupyter-widgets/controls"
          }
        },
        "e9b7f336c6c8478680325ebd62b60b18": {
          "model_module": "@jupyter-widgets/base",
          "model_name": "LayoutModel",
          "model_module_version": "1.2.0",
          "state": {
            "_view_name": "LayoutView",
            "grid_template_rows": null,
            "right": null,
            "justify_content": null,
            "_view_module": "@jupyter-widgets/base",
            "overflow": null,
            "_model_module_version": "1.2.0",
            "_view_count": null,
            "flex_flow": null,
            "width": null,
            "min_width": null,
            "border": null,
            "align_items": null,
            "bottom": null,
            "_model_module": "@jupyter-widgets/base",
            "top": null,
            "grid_column": null,
            "overflow_y": null,
            "overflow_x": null,
            "grid_auto_flow": null,
            "grid_area": null,
            "grid_template_columns": null,
            "flex": null,
            "_model_name": "LayoutModel",
            "justify_items": null,
            "grid_row": null,
            "max_height": null,
            "align_content": null,
            "visibility": null,
            "align_self": null,
            "height": null,
            "min_height": null,
            "padding": null,
            "grid_auto_rows": null,
            "grid_gap": null,
            "max_width": null,
            "order": null,
            "_view_module_version": "1.2.0",
            "grid_template_areas": null,
            "object_position": null,
            "object_fit": null,
            "grid_auto_columns": null,
            "margin": null,
            "display": null,
            "left": null
          }
        },
        "2dd886f79ec64081a2d40da632c4e712": {
          "model_module": "@jupyter-widgets/controls",
          "model_name": "TabModel",
          "model_module_version": "1.5.0",
          "state": {
            "_view_name": "TabView",
            "_dom_classes": [],
            "_titles": {
              "0": "Youtube",
              "1": "Bilibili"
            },
            "_model_name": "TabModel",
            "_view_module": "@jupyter-widgets/controls",
            "selected_index": 0,
            "_model_module_version": "1.5.0",
            "_view_count": null,
            "_view_module_version": "1.5.0",
            "box_style": "",
            "layout": "IPY_MODEL_68d5a972ffbc4f20b13b2a3a024981f1",
            "_model_module": "@jupyter-widgets/controls",
            "children": [
              "IPY_MODEL_63799a207a9640d2a025fbbf2f6ac80c",
              "IPY_MODEL_d03cf4b8d03f4e879201a6480c8ee9a4"
            ]
          }
        },
        "68d5a972ffbc4f20b13b2a3a024981f1": {
          "model_module": "@jupyter-widgets/base",
          "model_name": "LayoutModel",
          "model_module_version": "1.2.0",
          "state": {
            "_view_name": "LayoutView",
            "grid_template_rows": null,
            "right": null,
            "justify_content": null,
            "_view_module": "@jupyter-widgets/base",
            "overflow": null,
            "_model_module_version": "1.2.0",
            "_view_count": null,
            "flex_flow": null,
            "width": null,
            "min_width": null,
            "border": null,
            "align_items": null,
            "bottom": null,
            "_model_module": "@jupyter-widgets/base",
            "top": null,
            "grid_column": null,
            "overflow_y": null,
            "overflow_x": null,
            "grid_auto_flow": null,
            "grid_area": null,
            "grid_template_columns": null,
            "flex": null,
            "_model_name": "LayoutModel",
            "justify_items": null,
            "grid_row": null,
            "max_height": null,
            "align_content": null,
            "visibility": null,
            "align_self": null,
            "height": null,
            "min_height": null,
            "padding": null,
            "grid_auto_rows": null,
            "grid_gap": null,
            "max_width": null,
            "order": null,
            "_view_module_version": "1.2.0",
            "grid_template_areas": null,
            "object_position": null,
            "object_fit": null,
            "grid_auto_columns": null,
            "margin": null,
            "display": null,
            "left": null
          }
        },
        "63799a207a9640d2a025fbbf2f6ac80c": {
          "model_module": "@jupyter-widgets/output",
          "model_name": "OutputModel",
          "model_module_version": "1.0.0",
          "state": {
            "_view_name": "OutputView",
            "msg_id": "",
            "_dom_classes": [],
            "_model_name": "OutputModel",
            "outputs": [
              {
                "output_type": "stream",
                "name": "stdout",
                "text": [
                  "Video available at https://youtube.com/watch?v=8grBwtrzcDI\n"
                ]
              },
              {
                "output_type": "display_data",
                "data": {
                  "text/html": "\n        <iframe\n            width=\"854\"\n            height=\"480\"\n            src=\"https://www.youtube.com/embed/8grBwtrzcDI?fs=1&rel=0\"\n            frameborder=\"0\"\n            allowfullscreen\n        ></iframe>\n        ",
                  "text/plain": "<IPython.lib.display.YouTubeVideo at 0x7f89f4608a50>",
                  "image/jpeg": "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\n"
                },
                "metadata": {}
              }
            ],
            "_view_module": "@jupyter-widgets/output",
            "_model_module_version": "1.0.0",
            "_view_count": null,
            "_view_module_version": "1.0.0",
            "layout": "IPY_MODEL_835daded92404081ab51e840a6e6b8cc",
            "_model_module": "@jupyter-widgets/output"
          }
        },
        "d03cf4b8d03f4e879201a6480c8ee9a4": {
          "model_module": "@jupyter-widgets/output",
          "model_name": "OutputModel",
          "model_module_version": "1.0.0",
          "state": {
            "_view_name": "OutputView",
            "msg_id": "",
            "_dom_classes": [],
            "_model_name": "OutputModel",
            "outputs": [
              {
                "output_type": "stream",
                "name": "stdout",
                "text": [
                  "Video available at https://www.bilibili.com/video/BV1zU4y1n77d\n"
                ]
              },
              {
                "output_type": "display_data",
                "data": {
                  "text/html": "\n        <iframe\n            width=\"854\"\n            height=\"480\"\n            src=\"https://player.bilibili.com/player.html?bvid=BV1zU4y1n77d&page=1?fs=1\"\n            frameborder=\"0\"\n            allowfullscreen\n        ></iframe>\n        ",
                  "text/plain": "<__main__.BiliVideo at 0x7f89f4608c90>"
                },
                "metadata": {}
              }
            ],
            "_view_module": "@jupyter-widgets/output",
            "_model_module_version": "1.0.0",
            "_view_count": null,
            "_view_module_version": "1.0.0",
            "layout": "IPY_MODEL_1cae6613f541456d87e24e64b0cab94c",
            "_model_module": "@jupyter-widgets/output"
          }
        },
        "835daded92404081ab51e840a6e6b8cc": {
          "model_module": "@jupyter-widgets/base",
          "model_name": "LayoutModel",
          "model_module_version": "1.2.0",
          "state": {
            "_view_name": "LayoutView",
            "grid_template_rows": null,
            "right": null,
            "justify_content": null,
            "_view_module": "@jupyter-widgets/base",
            "overflow": null,
            "_model_module_version": "1.2.0",
            "_view_count": null,
            "flex_flow": null,
            "width": null,
            "min_width": null,
            "border": null,
            "align_items": null,
            "bottom": null,
            "_model_module": "@jupyter-widgets/base",
            "top": null,
            "grid_column": null,
            "overflow_y": null,
            "overflow_x": null,
            "grid_auto_flow": null,
            "grid_area": null,
            "grid_template_columns": null,
            "flex": null,
            "_model_name": "LayoutModel",
            "justify_items": null,
            "grid_row": null,
            "max_height": null,
            "align_content": null,
            "visibility": null,
            "align_self": null,
            "height": null,
            "min_height": null,
            "padding": null,
            "grid_auto_rows": null,
            "grid_gap": null,
            "max_width": null,
            "order": null,
            "_view_module_version": "1.2.0",
            "grid_template_areas": null,
            "object_position": null,
            "object_fit": null,
            "grid_auto_columns": null,
            "margin": null,
            "display": null,
            "left": null
          }
        },
        "1cae6613f541456d87e24e64b0cab94c": {
          "model_module": "@jupyter-widgets/base",
          "model_name": "LayoutModel",
          "model_module_version": "1.2.0",
          "state": {
            "_view_name": "LayoutView",
            "grid_template_rows": null,
            "right": null,
            "justify_content": null,
            "_view_module": "@jupyter-widgets/base",
            "overflow": null,
            "_model_module_version": "1.2.0",
            "_view_count": null,
            "flex_flow": null,
            "width": null,
            "min_width": null,
            "border": null,
            "align_items": null,
            "bottom": null,
            "_model_module": "@jupyter-widgets/base",
            "top": null,
            "grid_column": null,
            "overflow_y": null,
            "overflow_x": null,
            "grid_auto_flow": null,
            "grid_area": null,
            "grid_template_columns": null,
            "flex": null,
            "_model_name": "LayoutModel",
            "justify_items": null,
            "grid_row": null,
            "max_height": null,
            "align_content": null,
            "visibility": null,
            "align_self": null,
            "height": null,
            "min_height": null,
            "padding": null,
            "grid_auto_rows": null,
            "grid_gap": null,
            "max_width": null,
            "order": null,
            "_view_module_version": "1.2.0",
            "grid_template_areas": null,
            "object_position": null,
            "object_fit": null,
            "grid_auto_columns": null,
            "margin": null,
            "display": null,
            "left": null
          }
        },
        "5c7bbfde565449beaf36d916a049c1dd": {
          "model_module": "@jupyter-widgets/controls",
          "model_name": "TabModel",
          "model_module_version": "1.5.0",
          "state": {
            "_view_name": "TabView",
            "_dom_classes": [],
            "_titles": {
              "0": "Youtube",
              "1": "Bilibili"
            },
            "_model_name": "TabModel",
            "_view_module": "@jupyter-widgets/controls",
            "selected_index": 0,
            "_model_module_version": "1.5.0",
            "_view_count": null,
            "_view_module_version": "1.5.0",
            "box_style": "",
            "layout": "IPY_MODEL_75d41b2a5ce546d180a1ead5271531a5",
            "_model_module": "@jupyter-widgets/controls",
            "children": [
              "IPY_MODEL_c98b993e99574c8083850bb592f89854",
              "IPY_MODEL_255c938da22f4abf91cb97f693a01950"
            ]
          }
        },
        "75d41b2a5ce546d180a1ead5271531a5": {
          "model_module": "@jupyter-widgets/base",
          "model_name": "LayoutModel",
          "model_module_version": "1.2.0",
          "state": {
            "_view_name": "LayoutView",
            "grid_template_rows": null,
            "right": null,
            "justify_content": null,
            "_view_module": "@jupyter-widgets/base",
            "overflow": null,
            "_model_module_version": "1.2.0",
            "_view_count": null,
            "flex_flow": null,
            "width": null,
            "min_width": null,
            "border": null,
            "align_items": null,
            "bottom": null,
            "_model_module": "@jupyter-widgets/base",
            "top": null,
            "grid_column": null,
            "overflow_y": null,
            "overflow_x": null,
            "grid_auto_flow": null,
            "grid_area": null,
            "grid_template_columns": null,
            "flex": null,
            "_model_name": "LayoutModel",
            "justify_items": null,
            "grid_row": null,
            "max_height": null,
            "align_content": null,
            "visibility": null,
            "align_self": null,
            "height": null,
            "min_height": null,
            "padding": null,
            "grid_auto_rows": null,
            "grid_gap": null,
            "max_width": null,
            "order": null,
            "_view_module_version": "1.2.0",
            "grid_template_areas": null,
            "object_position": null,
            "object_fit": null,
            "grid_auto_columns": null,
            "margin": null,
            "display": null,
            "left": null
          }
        },
        "c98b993e99574c8083850bb592f89854": {
          "model_module": "@jupyter-widgets/output",
          "model_name": "OutputModel",
          "model_module_version": "1.0.0",
          "state": {
            "_view_name": "OutputView",
            "msg_id": "",
            "_dom_classes": [],
            "_model_name": "OutputModel",
            "outputs": [
              {
                "output_type": "stream",
                "name": "stdout",
                "text": [
                  "Video available at https://youtube.com/watch?v=-lmY_lc75As\n"
                ]
              },
              {
                "output_type": "display_data",
                "data": {
                  "text/html": "\n        <iframe\n            width=\"854\"\n            height=\"480\"\n            src=\"https://www.youtube.com/embed/-lmY_lc75As?fs=1&rel=0\"\n            frameborder=\"0\"\n            allowfullscreen\n        ></iframe>\n        ",
                  "text/plain": "<IPython.lib.display.YouTubeVideo at 0x7f89f42aff10>",
                  "image/jpeg": "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\n"
                },
                "metadata": {}
              }
            ],
            "_view_module": "@jupyter-widgets/output",
            "_model_module_version": "1.0.0",
            "_view_count": null,
            "_view_module_version": "1.0.0",
            "layout": "IPY_MODEL_90227617135d4e87901e58dd60b911f7",
            "_model_module": "@jupyter-widgets/output"
          }
        },
        "255c938da22f4abf91cb97f693a01950": {
          "model_module": "@jupyter-widgets/output",
          "model_name": "OutputModel",
          "model_module_version": "1.0.0",
          "state": {
            "_view_name": "OutputView",
            "msg_id": "",
            "_dom_classes": [],
            "_model_name": "OutputModel",
            "outputs": [
              {
                "output_type": "stream",
                "name": "stdout",
                "text": [
                  "Video available at https://www.bilibili.com/video/BV1uX4y1c7Yh\n"
                ]
              },
              {
                "output_type": "display_data",
                "data": {
                  "text/html": "\n        <iframe\n            width=\"854\"\n            height=\"480\"\n            src=\"https://player.bilibili.com/player.html?bvid=BV1uX4y1c7Yh&page=1?fs=1\"\n            frameborder=\"0\"\n            allowfullscreen\n        ></iframe>\n        ",
                  "text/plain": "<__main__.BiliVideo at 0x7f89f42bd390>"
                },
                "metadata": {}
              }
            ],
            "_view_module": "@jupyter-widgets/output",
            "_model_module_version": "1.0.0",
            "_view_count": null,
            "_view_module_version": "1.0.0",
            "layout": "IPY_MODEL_e6022a80e3d7477b8b41a8a4e629a8c7",
            "_model_module": "@jupyter-widgets/output"
          }
        },
        "90227617135d4e87901e58dd60b911f7": {
          "model_module": "@jupyter-widgets/base",
          "model_name": "LayoutModel",
          "model_module_version": "1.2.0",
          "state": {
            "_view_name": "LayoutView",
            "grid_template_rows": null,
            "right": null,
            "justify_content": null,
            "_view_module": "@jupyter-widgets/base",
            "overflow": null,
            "_model_module_version": "1.2.0",
            "_view_count": null,
            "flex_flow": null,
            "width": null,
            "min_width": null,
            "border": null,
            "align_items": null,
            "bottom": null,
            "_model_module": "@jupyter-widgets/base",
            "top": null,
            "grid_column": null,
            "overflow_y": null,
            "overflow_x": null,
            "grid_auto_flow": null,
            "grid_area": null,
            "grid_template_columns": null,
            "flex": null,
            "_model_name": "LayoutModel",
            "justify_items": null,
            "grid_row": null,
            "max_height": null,
            "align_content": null,
            "visibility": null,
            "align_self": null,
            "height": null,
            "min_height": null,
            "padding": null,
            "grid_auto_rows": null,
            "grid_gap": null,
            "max_width": null,
            "order": null,
            "_view_module_version": "1.2.0",
            "grid_template_areas": null,
            "object_position": null,
            "object_fit": null,
            "grid_auto_columns": null,
            "margin": null,
            "display": null,
            "left": null
          }
        },
        "e6022a80e3d7477b8b41a8a4e629a8c7": {
          "model_module": "@jupyter-widgets/base",
          "model_name": "LayoutModel",
          "model_module_version": "1.2.0",
          "state": {
            "_view_name": "LayoutView",
            "grid_template_rows": null,
            "right": null,
            "justify_content": null,
            "_view_module": "@jupyter-widgets/base",
            "overflow": null,
            "_model_module_version": "1.2.0",
            "_view_count": null,
            "flex_flow": null,
            "width": null,
            "min_width": null,
            "border": null,
            "align_items": null,
            "bottom": null,
            "_model_module": "@jupyter-widgets/base",
            "top": null,
            "grid_column": null,
            "overflow_y": null,
            "overflow_x": null,
            "grid_auto_flow": null,
            "grid_area": null,
            "grid_template_columns": null,
            "flex": null,
            "_model_name": "LayoutModel",
            "justify_items": null,
            "grid_row": null,
            "max_height": null,
            "align_content": null,
            "visibility": null,
            "align_self": null,
            "height": null,
            "min_height": null,
            "padding": null,
            "grid_auto_rows": null,
            "grid_gap": null,
            "max_width": null,
            "order": null,
            "_view_module_version": "1.2.0",
            "grid_template_areas": null,
            "object_position": null,
            "object_fit": null,
            "grid_auto_columns": null,
            "margin": null,
            "display": null,
            "left": null
          }
        }
      }
    }
  },
  "nbformat": 4,
  "nbformat_minor": 0
}