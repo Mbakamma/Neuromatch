{
  "nbformat": 4,
  "nbformat_minor": 0,
  "metadata": {
    "accelerator": "GPU",
    "colab": {
      "name": "W1D4_Tutorial1",
      "provenance": [],
      "collapsed_sections": [],
      "toc_visible": true,
      "include_colab_link": true
    },
    "kernel": {
      "display_name": "Python 3",
      "language": "python",
      "name": "python3"
    },
    "kernelspec": {
      "display_name": "Python 3",
      "language": "python",
      "name": "python3"
    },
    "language_info": {
      "codemirror_mode": {
        "name": "ipython",
        "version": 3
      },
      "file_extension": ".py",
      "mimetype": "text/x-python",
      "name": "python",
      "nbconvert_exporter": "python",
      "pygments_lexer": "ipython3",
      "version": "3.7.11"
    },
    "toc-autonumbering": true,
    "varInspector": {
      "cols": {
        "lenName": 16,
        "lenType": 16,
        "lenVar": 40
      },
      "kernels_config": {
        "python": {
          "delete_cmd_postfix": "",
          "delete_cmd_prefix": "del ",
          "library": "var_list.py",
          "varRefreshCmd": "print(var_dic_list())"
        },
        "r": {
          "delete_cmd_postfix": ") ",
          "delete_cmd_prefix": "rm(",
          "library": "var_list.r",
          "varRefreshCmd": "cat(var_dic_list()) "
        }
      },
      "types_to_exclude": [
        "module",
        "function",
        "builtin_function_or_method",
        "instance",
        "_Feature"
      ],
      "window_display": false
    },
    "widgets": {
      "application/vnd.jupyter.widget-state+json": {
        "e33493a54c194aa08bff8c023a04c473": {
          "model_module": "@jupyter-widgets/controls",
          "model_name": "TabModel",
          "state": {
            "_view_name": "TabView",
            "_dom_classes": [],
            "_titles": {
              "0": "Youtube",
              "1": "Bilibili"
            },
            "_model_name": "TabModel",
            "_view_module": "@jupyter-widgets/controls",
            "selected_index": 0,
            "_model_module_version": "1.5.0",
            "_view_count": null,
            "_view_module_version": "1.5.0",
            "box_style": "",
            "layout": "IPY_MODEL_c9bf7e4be1ad4c23b16d0e882c14fcf6",
            "_model_module": "@jupyter-widgets/controls",
            "children": [
              "IPY_MODEL_19a088ca3b74431faa67b5cab0dd0202",
              "IPY_MODEL_4344001d4cc1410fa708152b203632a6"
            ]
          }
        },
        "c9bf7e4be1ad4c23b16d0e882c14fcf6": {
          "model_module": "@jupyter-widgets/base",
          "model_name": "LayoutModel",
          "state": {
            "_view_name": "LayoutView",
            "grid_template_rows": null,
            "right": null,
            "justify_content": null,
            "_view_module": "@jupyter-widgets/base",
            "overflow": null,
            "_model_module_version": "1.2.0",
            "_view_count": null,
            "flex_flow": null,
            "width": null,
            "min_width": null,
            "border": null,
            "align_items": null,
            "bottom": null,
            "_model_module": "@jupyter-widgets/base",
            "top": null,
            "grid_column": null,
            "overflow_y": null,
            "overflow_x": null,
            "grid_auto_flow": null,
            "grid_area": null,
            "grid_template_columns": null,
            "flex": null,
            "_model_name": "LayoutModel",
            "justify_items": null,
            "grid_row": null,
            "max_height": null,
            "align_content": null,
            "visibility": null,
            "align_self": null,
            "height": null,
            "min_height": null,
            "padding": null,
            "grid_auto_rows": null,
            "grid_gap": null,
            "max_width": null,
            "order": null,
            "_view_module_version": "1.2.0",
            "grid_template_areas": null,
            "object_position": null,
            "object_fit": null,
            "grid_auto_columns": null,
            "margin": null,
            "display": null,
            "left": null
          }
        },
        "19a088ca3b74431faa67b5cab0dd0202": {
          "model_module": "@jupyter-widgets/output",
          "model_name": "OutputModel",
          "state": {
            "_view_name": "OutputView",
            "msg_id": "",
            "_dom_classes": [],
            "_model_name": "OutputModel",
            "outputs": [
              {
                "output_type": "stream",
                "metadata": {
                  "tags": []
                },
                "text": "Video available at https://youtube.com/watch?v=zm9oekdkJbQ\n",
                "stream": "stdout"
              },
              {
                "output_type": "display_data",
                "metadata": {
                  "tags": []
                },
                "text/html": "\n        <iframe\n            width=\"854\"\n            height=\"480\"\n            src=\"https://www.youtube.com/embed/zm9oekdkJbQ?fs=1&rel=0\"\n            frameborder=\"0\"\n            allowfullscreen\n        ></iframe>\n        ",
                "text/plain": "<IPython.lib.display.YouTubeVideo at 0x7f7d348e9fd0>",
                "image/jpeg": "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\n"
              }
            ],
            "_view_module": "@jupyter-widgets/output",
            "_model_module_version": "1.0.0",
            "_view_count": null,
            "_view_module_version": "1.0.0",
            "layout": "IPY_MODEL_9a6bc307764c48138929d76f6ad481ea",
            "_model_module": "@jupyter-widgets/output"
          }
        },
        "4344001d4cc1410fa708152b203632a6": {
          "model_module": "@jupyter-widgets/output",
          "model_name": "OutputModel",
          "state": {
            "_view_name": "OutputView",
            "msg_id": "",
            "_dom_classes": [],
            "_model_name": "OutputModel",
            "outputs": [
              {
                "output_type": "stream",
                "metadata": {
                  "tags": []
                },
                "text": "Video available at https://www.bilibili.com/video/BV1VB4y1K7Vr\n",
                "stream": "stdout"
              },
              {
                "output_type": "display_data",
                "metadata": {
                  "tags": []
                },
                "text/html": "\n        <iframe\n            width=\"854\"\n            height=\"480\"\n            src=\"https://player.bilibili.com/player.html?bvid=BV1VB4y1K7Vr&page=1?fs=1\"\n            frameborder=\"0\"\n            allowfullscreen\n        ></iframe>\n        ",
                "text/plain": "<__main__.BiliVideo at 0x7f7d348ffd50>"
              }
            ],
            "_view_module": "@jupyter-widgets/output",
            "_model_module_version": "1.0.0",
            "_view_count": null,
            "_view_module_version": "1.0.0",
            "layout": "IPY_MODEL_502b1b3451094c61b73bceb1dc5f8a8e",
            "_model_module": "@jupyter-widgets/output"
          }
        },
        "9a6bc307764c48138929d76f6ad481ea": {
          "model_module": "@jupyter-widgets/base",
          "model_name": "LayoutModel",
          "state": {
            "_view_name": "LayoutView",
            "grid_template_rows": null,
            "right": null,
            "justify_content": null,
            "_view_module": "@jupyter-widgets/base",
            "overflow": null,
            "_model_module_version": "1.2.0",
            "_view_count": null,
            "flex_flow": null,
            "width": null,
            "min_width": null,
            "border": null,
            "align_items": null,
            "bottom": null,
            "_model_module": "@jupyter-widgets/base",
            "top": null,
            "grid_column": null,
            "overflow_y": null,
            "overflow_x": null,
            "grid_auto_flow": null,
            "grid_area": null,
            "grid_template_columns": null,
            "flex": null,
            "_model_name": "LayoutModel",
            "justify_items": null,
            "grid_row": null,
            "max_height": null,
            "align_content": null,
            "visibility": null,
            "align_self": null,
            "height": null,
            "min_height": null,
            "padding": null,
            "grid_auto_rows": null,
            "grid_gap": null,
            "max_width": null,
            "order": null,
            "_view_module_version": "1.2.0",
            "grid_template_areas": null,
            "object_position": null,
            "object_fit": null,
            "grid_auto_columns": null,
            "margin": null,
            "display": null,
            "left": null
          }
        },
        "502b1b3451094c61b73bceb1dc5f8a8e": {
          "model_module": "@jupyter-widgets/base",
          "model_name": "LayoutModel",
          "state": {
            "_view_name": "LayoutView",
            "grid_template_rows": null,
            "right": null,
            "justify_content": null,
            "_view_module": "@jupyter-widgets/base",
            "overflow": null,
            "_model_module_version": "1.2.0",
            "_view_count": null,
            "flex_flow": null,
            "width": null,
            "min_width": null,
            "border": null,
            "align_items": null,
            "bottom": null,
            "_model_module": "@jupyter-widgets/base",
            "top": null,
            "grid_column": null,
            "overflow_y": null,
            "overflow_x": null,
            "grid_auto_flow": null,
            "grid_area": null,
            "grid_template_columns": null,
            "flex": null,
            "_model_name": "LayoutModel",
            "justify_items": null,
            "grid_row": null,
            "max_height": null,
            "align_content": null,
            "visibility": null,
            "align_self": null,
            "height": null,
            "min_height": null,
            "padding": null,
            "grid_auto_rows": null,
            "grid_gap": null,
            "max_width": null,
            "order": null,
            "_view_module_version": "1.2.0",
            "grid_template_areas": null,
            "object_position": null,
            "object_fit": null,
            "grid_auto_columns": null,
            "margin": null,
            "display": null,
            "left": null
          }
        },
        "d4b4e25c3ad342d5a5084be4087cb3f2": {
          "model_module": "@jupyter-widgets/controls",
          "model_name": "TabModel",
          "state": {
            "_view_name": "TabView",
            "_dom_classes": [],
            "_titles": {
              "0": "Youtube",
              "1": "Bilibili"
            },
            "_model_name": "TabModel",
            "_view_module": "@jupyter-widgets/controls",
            "selected_index": 0,
            "_model_module_version": "1.5.0",
            "_view_count": null,
            "_view_module_version": "1.5.0",
            "box_style": "",
            "layout": "IPY_MODEL_3ca79c7bc13e4f8796d1a0fd3e1f4732",
            "_model_module": "@jupyter-widgets/controls",
            "children": [
              "IPY_MODEL_ed780cb4c8ea48f79216fe8f98140881",
              "IPY_MODEL_175bd6fd2c324106a52f5beba1993351"
            ]
          }
        },
        "3ca79c7bc13e4f8796d1a0fd3e1f4732": {
          "model_module": "@jupyter-widgets/base",
          "model_name": "LayoutModel",
          "state": {
            "_view_name": "LayoutView",
            "grid_template_rows": null,
            "right": null,
            "justify_content": null,
            "_view_module": "@jupyter-widgets/base",
            "overflow": null,
            "_model_module_version": "1.2.0",
            "_view_count": null,
            "flex_flow": null,
            "width": null,
            "min_width": null,
            "border": null,
            "align_items": null,
            "bottom": null,
            "_model_module": "@jupyter-widgets/base",
            "top": null,
            "grid_column": null,
            "overflow_y": null,
            "overflow_x": null,
            "grid_auto_flow": null,
            "grid_area": null,
            "grid_template_columns": null,
            "flex": null,
            "_model_name": "LayoutModel",
            "justify_items": null,
            "grid_row": null,
            "max_height": null,
            "align_content": null,
            "visibility": null,
            "align_self": null,
            "height": null,
            "min_height": null,
            "padding": null,
            "grid_auto_rows": null,
            "grid_gap": null,
            "max_width": null,
            "order": null,
            "_view_module_version": "1.2.0",
            "grid_template_areas": null,
            "object_position": null,
            "object_fit": null,
            "grid_auto_columns": null,
            "margin": null,
            "display": null,
            "left": null
          }
        },
        "ed780cb4c8ea48f79216fe8f98140881": {
          "model_module": "@jupyter-widgets/output",
          "model_name": "OutputModel",
          "state": {
            "_view_name": "OutputView",
            "msg_id": "",
            "_dom_classes": [],
            "_model_name": "OutputModel",
            "outputs": [
              {
                "output_type": "stream",
                "metadata": {
                  "tags": []
                },
                "text": "Video available at https://youtube.com/watch?v=pJc2ENhYbqA\n",
                "stream": "stdout"
              },
              {
                "output_type": "display_data",
                "metadata": {
                  "tags": []
                },
                "text/html": "\n        <iframe\n            width=\"854\"\n            height=\"480\"\n            src=\"https://www.youtube.com/embed/pJc2ENhYbqA?fs=1&rel=0\"\n            frameborder=\"0\"\n            allowfullscreen\n        ></iframe>\n        ",
                "text/plain": "<IPython.lib.display.YouTubeVideo at 0x7f7d94d38890>",
                "image/jpeg": "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\n"
              }
            ],
            "_view_module": "@jupyter-widgets/output",
            "_model_module_version": "1.0.0",
            "_view_count": null,
            "_view_module_version": "1.0.0",
            "layout": "IPY_MODEL_20dfc7581a71438c893e1214e3783d55",
            "_model_module": "@jupyter-widgets/output"
          }
        },
        "175bd6fd2c324106a52f5beba1993351": {
          "model_module": "@jupyter-widgets/output",
          "model_name": "OutputModel",
          "state": {
            "_view_name": "OutputView",
            "msg_id": "",
            "_dom_classes": [],
            "_model_name": "OutputModel",
            "outputs": [
              {
                "output_type": "stream",
                "metadata": {
                  "tags": []
                },
                "text": "Video available at https://www.bilibili.com/video/BV1GB4y1K7Ha\n",
                "stream": "stdout"
              },
              {
                "output_type": "display_data",
                "metadata": {
                  "tags": []
                },
                "text/html": "\n        <iframe\n            width=\"854\"\n            height=\"480\"\n            src=\"https://player.bilibili.com/player.html?bvid=BV1GB4y1K7Ha&page=1?fs=1\"\n            frameborder=\"0\"\n            allowfullscreen\n        ></iframe>\n        ",
                "text/plain": "<__main__.BiliVideo at 0x7f7d348c7490>"
              }
            ],
            "_view_module": "@jupyter-widgets/output",
            "_model_module_version": "1.0.0",
            "_view_count": null,
            "_view_module_version": "1.0.0",
            "layout": "IPY_MODEL_c6b8e6949d534b5c88911601f04c02c1",
            "_model_module": "@jupyter-widgets/output"
          }
        },
        "20dfc7581a71438c893e1214e3783d55": {
          "model_module": "@jupyter-widgets/base",
          "model_name": "LayoutModel",
          "state": {
            "_view_name": "LayoutView",
            "grid_template_rows": null,
            "right": null,
            "justify_content": null,
            "_view_module": "@jupyter-widgets/base",
            "overflow": null,
            "_model_module_version": "1.2.0",
            "_view_count": null,
            "flex_flow": null,
            "width": null,
            "min_width": null,
            "border": null,
            "align_items": null,
            "bottom": null,
            "_model_module": "@jupyter-widgets/base",
            "top": null,
            "grid_column": null,
            "overflow_y": null,
            "overflow_x": null,
            "grid_auto_flow": null,
            "grid_area": null,
            "grid_template_columns": null,
            "flex": null,
            "_model_name": "LayoutModel",
            "justify_items": null,
            "grid_row": null,
            "max_height": null,
            "align_content": null,
            "visibility": null,
            "align_self": null,
            "height": null,
            "min_height": null,
            "padding": null,
            "grid_auto_rows": null,
            "grid_gap": null,
            "max_width": null,
            "order": null,
            "_view_module_version": "1.2.0",
            "grid_template_areas": null,
            "object_position": null,
            "object_fit": null,
            "grid_auto_columns": null,
            "margin": null,
            "display": null,
            "left": null
          }
        },
        "c6b8e6949d534b5c88911601f04c02c1": {
          "model_module": "@jupyter-widgets/base",
          "model_name": "LayoutModel",
          "state": {
            "_view_name": "LayoutView",
            "grid_template_rows": null,
            "right": null,
            "justify_content": null,
            "_view_module": "@jupyter-widgets/base",
            "overflow": null,
            "_model_module_version": "1.2.0",
            "_view_count": null,
            "flex_flow": null,
            "width": null,
            "min_width": null,
            "border": null,
            "align_items": null,
            "bottom": null,
            "_model_module": "@jupyter-widgets/base",
            "top": null,
            "grid_column": null,
            "overflow_y": null,
            "overflow_x": null,
            "grid_auto_flow": null,
            "grid_area": null,
            "grid_template_columns": null,
            "flex": null,
            "_model_name": "LayoutModel",
            "justify_items": null,
            "grid_row": null,
            "max_height": null,
            "align_content": null,
            "visibility": null,
            "align_self": null,
            "height": null,
            "min_height": null,
            "padding": null,
            "grid_auto_rows": null,
            "grid_gap": null,
            "max_width": null,
            "order": null,
            "_view_module_version": "1.2.0",
            "grid_template_areas": null,
            "object_position": null,
            "object_fit": null,
            "grid_auto_columns": null,
            "margin": null,
            "display": null,
            "left": null
          }
        },
        "c8053a8bbf344afea64958fd6f9d22a4": {
          "model_module": "@jupyter-widgets/controls",
          "model_name": "TabModel",
          "state": {
            "_view_name": "TabView",
            "_dom_classes": [],
            "_titles": {
              "0": "Youtube",
              "1": "Bilibili"
            },
            "_model_name": "TabModel",
            "_view_module": "@jupyter-widgets/controls",
            "selected_index": 0,
            "_model_module_version": "1.5.0",
            "_view_count": null,
            "_view_module_version": "1.5.0",
            "box_style": "",
            "layout": "IPY_MODEL_561fc2d3f1a1438b852881b20df2bc73",
            "_model_module": "@jupyter-widgets/controls",
            "children": [
              "IPY_MODEL_2cb3651620dd410eaa31ebb616f5224a",
              "IPY_MODEL_92a7957cb9084c06b7ed9dbf7794c945"
            ]
          }
        },
        "561fc2d3f1a1438b852881b20df2bc73": {
          "model_module": "@jupyter-widgets/base",
          "model_name": "LayoutModel",
          "state": {
            "_view_name": "LayoutView",
            "grid_template_rows": null,
            "right": null,
            "justify_content": null,
            "_view_module": "@jupyter-widgets/base",
            "overflow": null,
            "_model_module_version": "1.2.0",
            "_view_count": null,
            "flex_flow": null,
            "width": null,
            "min_width": null,
            "border": null,
            "align_items": null,
            "bottom": null,
            "_model_module": "@jupyter-widgets/base",
            "top": null,
            "grid_column": null,
            "overflow_y": null,
            "overflow_x": null,
            "grid_auto_flow": null,
            "grid_area": null,
            "grid_template_columns": null,
            "flex": null,
            "_model_name": "LayoutModel",
            "justify_items": null,
            "grid_row": null,
            "max_height": null,
            "align_content": null,
            "visibility": null,
            "align_self": null,
            "height": null,
            "min_height": null,
            "padding": null,
            "grid_auto_rows": null,
            "grid_gap": null,
            "max_width": null,
            "order": null,
            "_view_module_version": "1.2.0",
            "grid_template_areas": null,
            "object_position": null,
            "object_fit": null,
            "grid_auto_columns": null,
            "margin": null,
            "display": null,
            "left": null
          }
        },
        "2cb3651620dd410eaa31ebb616f5224a": {
          "model_module": "@jupyter-widgets/output",
          "model_name": "OutputModel",
          "state": {
            "_view_name": "OutputView",
            "msg_id": "",
            "_dom_classes": [],
            "_model_name": "OutputModel",
            "outputs": [
              {
                "output_type": "stream",
                "metadata": {
                  "tags": []
                },
                "text": "Video available at https://youtube.com/watch?v=aSJTRdjRvvw\n",
                "stream": "stdout"
              },
              {
                "output_type": "display_data",
                "metadata": {
                  "tags": []
                },
                "text/html": "\n        <iframe\n            width=\"854\"\n            height=\"480\"\n            src=\"https://www.youtube.com/embed/aSJTRdjRvvw?fs=1&rel=0\"\n            frameborder=\"0\"\n            allowfullscreen\n        ></iframe>\n        ",
                "text/plain": "<IPython.lib.display.YouTubeVideo at 0x7f7d2169f3d0>",
                "image/jpeg": "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\n"
              }
            ],
            "_view_module": "@jupyter-widgets/output",
            "_model_module_version": "1.0.0",
            "_view_count": null,
            "_view_module_version": "1.0.0",
            "layout": "IPY_MODEL_1a20c0f3a9034ea4ad55bf3c6aa38663",
            "_model_module": "@jupyter-widgets/output"
          }
        },
        "92a7957cb9084c06b7ed9dbf7794c945": {
          "model_module": "@jupyter-widgets/output",
          "model_name": "OutputModel",
          "state": {
            "_view_name": "OutputView",
            "msg_id": "",
            "_dom_classes": [],
            "_model_name": "OutputModel",
            "outputs": [
              {
                "output_type": "stream",
                "metadata": {
                  "tags": []
                },
                "text": "Video available at https://www.bilibili.com/video/BV1aL411H7Ce\n",
                "stream": "stdout"
              },
              {
                "output_type": "display_data",
                "metadata": {
                  "tags": []
                },
                "text/html": "\n        <iframe\n            width=\"854\"\n            height=\"480\"\n            src=\"https://player.bilibili.com/player.html?bvid=BV1aL411H7Ce&page=1?fs=1\"\n            frameborder=\"0\"\n            allowfullscreen\n        ></iframe>\n        ",
                "text/plain": "<__main__.BiliVideo at 0x7f7d2168c310>"
              }
            ],
            "_view_module": "@jupyter-widgets/output",
            "_model_module_version": "1.0.0",
            "_view_count": null,
            "_view_module_version": "1.0.0",
            "layout": "IPY_MODEL_91fa7160b6234df58496ed33953c1aae",
            "_model_module": "@jupyter-widgets/output"
          }
        },
        "1a20c0f3a9034ea4ad55bf3c6aa38663": {
          "model_module": "@jupyter-widgets/base",
          "model_name": "LayoutModel",
          "state": {
            "_view_name": "LayoutView",
            "grid_template_rows": null,
            "right": null,
            "justify_content": null,
            "_view_module": "@jupyter-widgets/base",
            "overflow": null,
            "_model_module_version": "1.2.0",
            "_view_count": null,
            "flex_flow": null,
            "width": null,
            "min_width": null,
            "border": null,
            "align_items": null,
            "bottom": null,
            "_model_module": "@jupyter-widgets/base",
            "top": null,
            "grid_column": null,
            "overflow_y": null,
            "overflow_x": null,
            "grid_auto_flow": null,
            "grid_area": null,
            "grid_template_columns": null,
            "flex": null,
            "_model_name": "LayoutModel",
            "justify_items": null,
            "grid_row": null,
            "max_height": null,
            "align_content": null,
            "visibility": null,
            "align_self": null,
            "height": null,
            "min_height": null,
            "padding": null,
            "grid_auto_rows": null,
            "grid_gap": null,
            "max_width": null,
            "order": null,
            "_view_module_version": "1.2.0",
            "grid_template_areas": null,
            "object_position": null,
            "object_fit": null,
            "grid_auto_columns": null,
            "margin": null,
            "display": null,
            "left": null
          }
        },
        "91fa7160b6234df58496ed33953c1aae": {
          "model_module": "@jupyter-widgets/base",
          "model_name": "LayoutModel",
          "state": {
            "_view_name": "LayoutView",
            "grid_template_rows": null,
            "right": null,
            "justify_content": null,
            "_view_module": "@jupyter-widgets/base",
            "overflow": null,
            "_model_module_version": "1.2.0",
            "_view_count": null,
            "flex_flow": null,
            "width": null,
            "min_width": null,
            "border": null,
            "align_items": null,
            "bottom": null,
            "_model_module": "@jupyter-widgets/base",
            "top": null,
            "grid_column": null,
            "overflow_y": null,
            "overflow_x": null,
            "grid_auto_flow": null,
            "grid_area": null,
            "grid_template_columns": null,
            "flex": null,
            "_model_name": "LayoutModel",
            "justify_items": null,
            "grid_row": null,
            "max_height": null,
            "align_content": null,
            "visibility": null,
            "align_self": null,
            "height": null,
            "min_height": null,
            "padding": null,
            "grid_auto_rows": null,
            "grid_gap": null,
            "max_width": null,
            "order": null,
            "_view_module_version": "1.2.0",
            "grid_template_areas": null,
            "object_position": null,
            "object_fit": null,
            "grid_auto_columns": null,
            "margin": null,
            "display": null,
            "left": null
          }
        },
        "404f97ed70844b31aca248f9297c8eee": {
          "model_module": "@jupyter-widgets/controls",
          "model_name": "TabModel",
          "state": {
            "_view_name": "TabView",
            "_dom_classes": [],
            "_titles": {
              "0": "Youtube",
              "1": "Bilibili"
            },
            "_model_name": "TabModel",
            "_view_module": "@jupyter-widgets/controls",
            "selected_index": 0,
            "_model_module_version": "1.5.0",
            "_view_count": null,
            "_view_module_version": "1.5.0",
            "box_style": "",
            "layout": "IPY_MODEL_a96075ab2b674b178edae4f994c4360b",
            "_model_module": "@jupyter-widgets/controls",
            "children": [
              "IPY_MODEL_025717f01e7f41b596f78a3f99b763ed",
              "IPY_MODEL_f2ae26ef0660405992b334131628d31e"
            ]
          }
        },
        "a96075ab2b674b178edae4f994c4360b": {
          "model_module": "@jupyter-widgets/base",
          "model_name": "LayoutModel",
          "state": {
            "_view_name": "LayoutView",
            "grid_template_rows": null,
            "right": null,
            "justify_content": null,
            "_view_module": "@jupyter-widgets/base",
            "overflow": null,
            "_model_module_version": "1.2.0",
            "_view_count": null,
            "flex_flow": null,
            "width": null,
            "min_width": null,
            "border": null,
            "align_items": null,
            "bottom": null,
            "_model_module": "@jupyter-widgets/base",
            "top": null,
            "grid_column": null,
            "overflow_y": null,
            "overflow_x": null,
            "grid_auto_flow": null,
            "grid_area": null,
            "grid_template_columns": null,
            "flex": null,
            "_model_name": "LayoutModel",
            "justify_items": null,
            "grid_row": null,
            "max_height": null,
            "align_content": null,
            "visibility": null,
            "align_self": null,
            "height": null,
            "min_height": null,
            "padding": null,
            "grid_auto_rows": null,
            "grid_gap": null,
            "max_width": null,
            "order": null,
            "_view_module_version": "1.2.0",
            "grid_template_areas": null,
            "object_position": null,
            "object_fit": null,
            "grid_auto_columns": null,
            "margin": null,
            "display": null,
            "left": null
          }
        },
        "025717f01e7f41b596f78a3f99b763ed": {
          "model_module": "@jupyter-widgets/output",
          "model_name": "OutputModel",
          "state": {
            "_view_name": "OutputView",
            "msg_id": "",
            "_dom_classes": [],
            "_model_name": "OutputModel",
            "outputs": [
              {
                "output_type": "stream",
                "metadata": {
                  "tags": []
                },
                "text": "Video available at https://youtube.com/watch?v=3ES5O58Y_2M\n",
                "stream": "stdout"
              },
              {
                "output_type": "display_data",
                "metadata": {
                  "tags": []
                },
                "text/html": "\n        <iframe\n            width=\"854\"\n            height=\"480\"\n            src=\"https://www.youtube.com/embed/3ES5O58Y_2M?fs=1&rel=0\"\n            frameborder=\"0\"\n            allowfullscreen\n        ></iframe>\n        ",
                "text/plain": "<IPython.lib.display.YouTubeVideo at 0x7f7d2d1b52d0>",
                "image/jpeg": "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\n"
              }
            ],
            "_view_module": "@jupyter-widgets/output",
            "_model_module_version": "1.0.0",
            "_view_count": null,
            "_view_module_version": "1.0.0",
            "layout": "IPY_MODEL_9be978a4209b4595a00eba9ecfd3568a",
            "_model_module": "@jupyter-widgets/output"
          }
        },
        "f2ae26ef0660405992b334131628d31e": {
          "model_module": "@jupyter-widgets/output",
          "model_name": "OutputModel",
          "state": {
            "_view_name": "OutputView",
            "msg_id": "",
            "_dom_classes": [],
            "_model_name": "OutputModel",
            "outputs": [
              {
                "output_type": "stream",
                "metadata": {
                  "tags": []
                },
                "text": "Video available at https://www.bilibili.com/video/BV1NL411H71t\n",
                "stream": "stdout"
              },
              {
                "output_type": "display_data",
                "metadata": {
                  "tags": []
                },
                "text/html": "\n        <iframe\n            width=\"854\"\n            height=\"480\"\n            src=\"https://player.bilibili.com/player.html?bvid=BV1NL411H71t&page=1?fs=1\"\n            frameborder=\"0\"\n            allowfullscreen\n        ></iframe>\n        ",
                "text/plain": "<__main__.BiliVideo at 0x7f7d348c6dd0>"
              }
            ],
            "_view_module": "@jupyter-widgets/output",
            "_model_module_version": "1.0.0",
            "_view_count": null,
            "_view_module_version": "1.0.0",
            "layout": "IPY_MODEL_a815b68bf8864b57959338450e80e097",
            "_model_module": "@jupyter-widgets/output"
          }
        },
        "9be978a4209b4595a00eba9ecfd3568a": {
          "model_module": "@jupyter-widgets/base",
          "model_name": "LayoutModel",
          "state": {
            "_view_name": "LayoutView",
            "grid_template_rows": null,
            "right": null,
            "justify_content": null,
            "_view_module": "@jupyter-widgets/base",
            "overflow": null,
            "_model_module_version": "1.2.0",
            "_view_count": null,
            "flex_flow": null,
            "width": null,
            "min_width": null,
            "border": null,
            "align_items": null,
            "bottom": null,
            "_model_module": "@jupyter-widgets/base",
            "top": null,
            "grid_column": null,
            "overflow_y": null,
            "overflow_x": null,
            "grid_auto_flow": null,
            "grid_area": null,
            "grid_template_columns": null,
            "flex": null,
            "_model_name": "LayoutModel",
            "justify_items": null,
            "grid_row": null,
            "max_height": null,
            "align_content": null,
            "visibility": null,
            "align_self": null,
            "height": null,
            "min_height": null,
            "padding": null,
            "grid_auto_rows": null,
            "grid_gap": null,
            "max_width": null,
            "order": null,
            "_view_module_version": "1.2.0",
            "grid_template_areas": null,
            "object_position": null,
            "object_fit": null,
            "grid_auto_columns": null,
            "margin": null,
            "display": null,
            "left": null
          }
        },
        "a815b68bf8864b57959338450e80e097": {
          "model_module": "@jupyter-widgets/base",
          "model_name": "LayoutModel",
          "state": {
            "_view_name": "LayoutView",
            "grid_template_rows": null,
            "right": null,
            "justify_content": null,
            "_view_module": "@jupyter-widgets/base",
            "overflow": null,
            "_model_module_version": "1.2.0",
            "_view_count": null,
            "flex_flow": null,
            "width": null,
            "min_width": null,
            "border": null,
            "align_items": null,
            "bottom": null,
            "_model_module": "@jupyter-widgets/base",
            "top": null,
            "grid_column": null,
            "overflow_y": null,
            "overflow_x": null,
            "grid_auto_flow": null,
            "grid_area": null,
            "grid_template_columns": null,
            "flex": null,
            "_model_name": "LayoutModel",
            "justify_items": null,
            "grid_row": null,
            "max_height": null,
            "align_content": null,
            "visibility": null,
            "align_self": null,
            "height": null,
            "min_height": null,
            "padding": null,
            "grid_auto_rows": null,
            "grid_gap": null,
            "max_width": null,
            "order": null,
            "_view_module_version": "1.2.0",
            "grid_template_areas": null,
            "object_position": null,
            "object_fit": null,
            "grid_auto_columns": null,
            "margin": null,
            "display": null,
            "left": null
          }
        },
        "d7945b1bced54f5ebd3f42bab35b77f8": {
          "model_module": "@jupyter-widgets/controls",
          "model_name": "VBoxModel",
          "state": {
            "_view_name": "VBoxView",
            "_dom_classes": [
              "widget-interact"
            ],
            "_model_name": "VBoxModel",
            "_view_module": "@jupyter-widgets/controls",
            "_model_module_version": "1.5.0",
            "_view_count": null,
            "_view_module_version": "1.5.0",
            "box_style": "",
            "layout": "IPY_MODEL_fcd111430d9748b4bbc529591e2e4eae",
            "_model_module": "@jupyter-widgets/controls",
            "children": [
              "IPY_MODEL_03e590ca4e9e4823b5aacf93bc7497f4",
              "IPY_MODEL_9082a1be478842b4b9fca5f79b4e1a2a",
              "IPY_MODEL_f9922fb03bff47a5aef2a69214c8c172",
              "IPY_MODEL_89b3dcd6b1e4400a9e014ba9980ef824",
              "IPY_MODEL_dbb2fc3a7eea459ab58a6307b0eb0cf6"
            ]
          }
        },
        "fcd111430d9748b4bbc529591e2e4eae": {
          "model_module": "@jupyter-widgets/base",
          "model_name": "LayoutModel",
          "state": {
            "_view_name": "LayoutView",
            "grid_template_rows": null,
            "right": null,
            "justify_content": null,
            "_view_module": "@jupyter-widgets/base",
            "overflow": null,
            "_model_module_version": "1.2.0",
            "_view_count": null,
            "flex_flow": null,
            "width": null,
            "min_width": null,
            "border": null,
            "align_items": null,
            "bottom": null,
            "_model_module": "@jupyter-widgets/base",
            "top": null,
            "grid_column": null,
            "overflow_y": null,
            "overflow_x": null,
            "grid_auto_flow": null,
            "grid_area": null,
            "grid_template_columns": null,
            "flex": null,
            "_model_name": "LayoutModel",
            "justify_items": null,
            "grid_row": null,
            "max_height": null,
            "align_content": null,
            "visibility": null,
            "align_self": null,
            "height": null,
            "min_height": null,
            "padding": null,
            "grid_auto_rows": null,
            "grid_gap": null,
            "max_width": null,
            "order": null,
            "_view_module_version": "1.2.0",
            "grid_template_areas": null,
            "object_position": null,
            "object_fit": null,
            "grid_auto_columns": null,
            "margin": null,
            "display": null,
            "left": null
          }
        },
        "03e590ca4e9e4823b5aacf93bc7497f4": {
          "model_module": "@jupyter-widgets/controls",
          "model_name": "IntSliderModel",
          "state": {
            "_view_name": "IntSliderView",
            "style": "IPY_MODEL_57309f58d2604f9985d45891ee6c51f6",
            "_dom_classes": [],
            "description": "max_steps",
            "step": 5,
            "_model_name": "IntSliderModel",
            "orientation": "horizontal",
            "max": 500,
            "_view_module": "@jupyter-widgets/controls",
            "_model_module_version": "1.5.0",
            "value": 300,
            "_view_count": null,
            "disabled": false,
            "_view_module_version": "1.5.0",
            "min": 50,
            "continuous_update": true,
            "readout_format": "d",
            "description_tooltip": null,
            "readout": true,
            "_model_module": "@jupyter-widgets/controls",
            "layout": "IPY_MODEL_0747e3f0e3f5403780127d095e9179b4"
          }
        },
        "9082a1be478842b4b9fca5f79b4e1a2a": {
          "model_module": "@jupyter-widgets/controls",
          "model_name": "FloatLogSliderModel",
          "state": {
            "_view_name": "FloatLogSliderView",
            "orientation": "horizontal",
            "_view_module": "@jupyter-widgets/controls",
            "_model_module_version": "1.5.0",
            "_view_count": null,
            "disabled": false,
            "readout_format": ".3g",
            "_model_module": "@jupyter-widgets/controls",
            "style": "IPY_MODEL_c186ed7d7ce74a27b34813bd7665b600",
            "layout": "IPY_MODEL_8ee639654d724f33946b1d3fcfae61de",
            "min": -3,
            "continuous_update": true,
            "description_tooltip": null,
            "_dom_classes": [],
            "description": "lr",
            "_model_name": "FloatLogSliderModel",
            "max": 0.7,
            "readout": true,
            "step": 0.1,
            "base": 10,
            "value": 0.1,
            "_view_module_version": "1.5.0"
          }
        },
        "f9922fb03bff47a5aef2a69214c8c172": {
          "model_module": "@jupyter-widgets/controls",
          "model_name": "FloatSliderModel",
          "state": {
            "_view_name": "FloatSliderView",
            "style": "IPY_MODEL_1f56cb2eb7d24ab4ad38786272878a76",
            "_dom_classes": [],
            "description": "beta",
            "step": 0.01,
            "_model_name": "FloatSliderModel",
            "orientation": "horizontal",
            "max": 1,
            "_view_module": "@jupyter-widgets/controls",
            "_model_module_version": "1.5.0",
            "value": 0.9,
            "_view_count": null,
            "disabled": false,
            "_view_module_version": "1.5.0",
            "min": 0,
            "continuous_update": true,
            "readout_format": ".2f",
            "description_tooltip": null,
            "readout": true,
            "_model_module": "@jupyter-widgets/controls",
            "layout": "IPY_MODEL_93765bd85f83496b8caa1a4eddaa6a33"
          }
        },
        "89b3dcd6b1e4400a9e014ba9980ef824": {
          "model_module": "@jupyter-widgets/controls",
          "model_name": "ButtonModel",
          "state": {
            "_view_name": "ButtonView",
            "style": "IPY_MODEL_ec131839a2034ec99e0977b41516522c",
            "_dom_classes": [],
            "description": "Run Interact",
            "_model_name": "ButtonModel",
            "button_style": "",
            "_view_module": "@jupyter-widgets/controls",
            "_model_module_version": "1.5.0",
            "tooltip": "",
            "_view_count": null,
            "disabled": false,
            "_view_module_version": "1.5.0",
            "layout": "IPY_MODEL_8265915c5239438295dbc3c34e17f222",
            "_model_module": "@jupyter-widgets/controls",
            "icon": ""
          }
        },
        "dbb2fc3a7eea459ab58a6307b0eb0cf6": {
          "model_module": "@jupyter-widgets/output",
          "model_name": "OutputModel",
          "state": {
            "_view_name": "OutputView",
            "msg_id": "",
            "_dom_classes": [],
            "_model_name": "OutputModel",
            "outputs": [],
            "_view_module": "@jupyter-widgets/output",
            "_model_module_version": "1.0.0",
            "_view_count": null,
            "_view_module_version": "1.0.0",
            "layout": "IPY_MODEL_d658ebda06d74e2986f20630d0d2185c",
            "_model_module": "@jupyter-widgets/output"
          }
        },
        "57309f58d2604f9985d45891ee6c51f6": {
          "model_module": "@jupyter-widgets/controls",
          "model_name": "SliderStyleModel",
          "state": {
            "_view_name": "StyleView",
            "handle_color": null,
            "_model_name": "SliderStyleModel",
            "description_width": "",
            "_view_module": "@jupyter-widgets/base",
            "_model_module_version": "1.5.0",
            "_view_count": null,
            "_view_module_version": "1.2.0",
            "_model_module": "@jupyter-widgets/controls"
          }
        },
        "0747e3f0e3f5403780127d095e9179b4": {
          "model_module": "@jupyter-widgets/base",
          "model_name": "LayoutModel",
          "state": {
            "_view_name": "LayoutView",
            "grid_template_rows": null,
            "right": null,
            "justify_content": null,
            "_view_module": "@jupyter-widgets/base",
            "overflow": null,
            "_model_module_version": "1.2.0",
            "_view_count": null,
            "flex_flow": null,
            "width": null,
            "min_width": null,
            "border": null,
            "align_items": null,
            "bottom": null,
            "_model_module": "@jupyter-widgets/base",
            "top": null,
            "grid_column": null,
            "overflow_y": null,
            "overflow_x": null,
            "grid_auto_flow": null,
            "grid_area": null,
            "grid_template_columns": null,
            "flex": null,
            "_model_name": "LayoutModel",
            "justify_items": null,
            "grid_row": null,
            "max_height": null,
            "align_content": null,
            "visibility": null,
            "align_self": null,
            "height": null,
            "min_height": null,
            "padding": null,
            "grid_auto_rows": null,
            "grid_gap": null,
            "max_width": null,
            "order": null,
            "_view_module_version": "1.2.0",
            "grid_template_areas": null,
            "object_position": null,
            "object_fit": null,
            "grid_auto_columns": null,
            "margin": null,
            "display": null,
            "left": null
          }
        },
        "c186ed7d7ce74a27b34813bd7665b600": {
          "model_module": "@jupyter-widgets/controls",
          "model_name": "SliderStyleModel",
          "state": {
            "_view_name": "StyleView",
            "handle_color": null,
            "_model_name": "SliderStyleModel",
            "description_width": "",
            "_view_module": "@jupyter-widgets/base",
            "_model_module_version": "1.5.0",
            "_view_count": null,
            "_view_module_version": "1.2.0",
            "_model_module": "@jupyter-widgets/controls"
          }
        },
        "8ee639654d724f33946b1d3fcfae61de": {
          "model_module": "@jupyter-widgets/base",
          "model_name": "LayoutModel",
          "state": {
            "_view_name": "LayoutView",
            "grid_template_rows": null,
            "right": null,
            "justify_content": null,
            "_view_module": "@jupyter-widgets/base",
            "overflow": null,
            "_model_module_version": "1.2.0",
            "_view_count": null,
            "flex_flow": null,
            "width": null,
            "min_width": null,
            "border": null,
            "align_items": null,
            "bottom": null,
            "_model_module": "@jupyter-widgets/base",
            "top": null,
            "grid_column": null,
            "overflow_y": null,
            "overflow_x": null,
            "grid_auto_flow": null,
            "grid_area": null,
            "grid_template_columns": null,
            "flex": null,
            "_model_name": "LayoutModel",
            "justify_items": null,
            "grid_row": null,
            "max_height": null,
            "align_content": null,
            "visibility": null,
            "align_self": null,
            "height": null,
            "min_height": null,
            "padding": null,
            "grid_auto_rows": null,
            "grid_gap": null,
            "max_width": null,
            "order": null,
            "_view_module_version": "1.2.0",
            "grid_template_areas": null,
            "object_position": null,
            "object_fit": null,
            "grid_auto_columns": null,
            "margin": null,
            "display": null,
            "left": null
          }
        },
        "1f56cb2eb7d24ab4ad38786272878a76": {
          "model_module": "@jupyter-widgets/controls",
          "model_name": "SliderStyleModel",
          "state": {
            "_view_name": "StyleView",
            "handle_color": null,
            "_model_name": "SliderStyleModel",
            "description_width": "",
            "_view_module": "@jupyter-widgets/base",
            "_model_module_version": "1.5.0",
            "_view_count": null,
            "_view_module_version": "1.2.0",
            "_model_module": "@jupyter-widgets/controls"
          }
        },
        "93765bd85f83496b8caa1a4eddaa6a33": {
          "model_module": "@jupyter-widgets/base",
          "model_name": "LayoutModel",
          "state": {
            "_view_name": "LayoutView",
            "grid_template_rows": null,
            "right": null,
            "justify_content": null,
            "_view_module": "@jupyter-widgets/base",
            "overflow": null,
            "_model_module_version": "1.2.0",
            "_view_count": null,
            "flex_flow": null,
            "width": null,
            "min_width": null,
            "border": null,
            "align_items": null,
            "bottom": null,
            "_model_module": "@jupyter-widgets/base",
            "top": null,
            "grid_column": null,
            "overflow_y": null,
            "overflow_x": null,
            "grid_auto_flow": null,
            "grid_area": null,
            "grid_template_columns": null,
            "flex": null,
            "_model_name": "LayoutModel",
            "justify_items": null,
            "grid_row": null,
            "max_height": null,
            "align_content": null,
            "visibility": null,
            "align_self": null,
            "height": null,
            "min_height": null,
            "padding": null,
            "grid_auto_rows": null,
            "grid_gap": null,
            "max_width": null,
            "order": null,
            "_view_module_version": "1.2.0",
            "grid_template_areas": null,
            "object_position": null,
            "object_fit": null,
            "grid_auto_columns": null,
            "margin": null,
            "display": null,
            "left": null
          }
        },
        "ec131839a2034ec99e0977b41516522c": {
          "model_module": "@jupyter-widgets/controls",
          "model_name": "ButtonStyleModel",
          "state": {
            "_view_name": "StyleView",
            "_model_name": "ButtonStyleModel",
            "_view_module": "@jupyter-widgets/base",
            "_model_module_version": "1.5.0",
            "_view_count": null,
            "button_color": null,
            "font_weight": "",
            "_view_module_version": "1.2.0",
            "_model_module": "@jupyter-widgets/controls"
          }
        },
        "8265915c5239438295dbc3c34e17f222": {
          "model_module": "@jupyter-widgets/base",
          "model_name": "LayoutModel",
          "state": {
            "_view_name": "LayoutView",
            "grid_template_rows": null,
            "right": null,
            "justify_content": null,
            "_view_module": "@jupyter-widgets/base",
            "overflow": null,
            "_model_module_version": "1.2.0",
            "_view_count": null,
            "flex_flow": null,
            "width": null,
            "min_width": null,
            "border": null,
            "align_items": null,
            "bottom": null,
            "_model_module": "@jupyter-widgets/base",
            "top": null,
            "grid_column": null,
            "overflow_y": null,
            "overflow_x": null,
            "grid_auto_flow": null,
            "grid_area": null,
            "grid_template_columns": null,
            "flex": null,
            "_model_name": "LayoutModel",
            "justify_items": null,
            "grid_row": null,
            "max_height": null,
            "align_content": null,
            "visibility": null,
            "align_self": null,
            "height": null,
            "min_height": null,
            "padding": null,
            "grid_auto_rows": null,
            "grid_gap": null,
            "max_width": null,
            "order": null,
            "_view_module_version": "1.2.0",
            "grid_template_areas": null,
            "object_position": null,
            "object_fit": null,
            "grid_auto_columns": null,
            "margin": null,
            "display": null,
            "left": null
          }
        },
        "d658ebda06d74e2986f20630d0d2185c": {
          "model_module": "@jupyter-widgets/base",
          "model_name": "LayoutModel",
          "state": {
            "_view_name": "LayoutView",
            "grid_template_rows": null,
            "right": null,
            "justify_content": null,
            "_view_module": "@jupyter-widgets/base",
            "overflow": null,
            "_model_module_version": "1.2.0",
            "_view_count": null,
            "flex_flow": null,
            "width": null,
            "min_width": null,
            "border": null,
            "align_items": null,
            "bottom": null,
            "_model_module": "@jupyter-widgets/base",
            "top": null,
            "grid_column": null,
            "overflow_y": null,
            "overflow_x": null,
            "grid_auto_flow": null,
            "grid_area": null,
            "grid_template_columns": null,
            "flex": null,
            "_model_name": "LayoutModel",
            "justify_items": null,
            "grid_row": null,
            "max_height": null,
            "align_content": null,
            "visibility": null,
            "align_self": null,
            "height": null,
            "min_height": null,
            "padding": null,
            "grid_auto_rows": null,
            "grid_gap": null,
            "max_width": null,
            "order": null,
            "_view_module_version": "1.2.0",
            "grid_template_areas": null,
            "object_position": null,
            "object_fit": null,
            "grid_auto_columns": null,
            "margin": null,
            "display": null,
            "left": null
          }
        },
        "ceb40d45e7ee42f1b46ce181e4630f50": {
          "model_module": "@jupyter-widgets/controls",
          "model_name": "TabModel",
          "state": {
            "_view_name": "TabView",
            "_dom_classes": [],
            "_titles": {
              "0": "Youtube",
              "1": "Bilibili"
            },
            "_model_name": "TabModel",
            "_view_module": "@jupyter-widgets/controls",
            "selected_index": 0,
            "_model_module_version": "1.5.0",
            "_view_count": null,
            "_view_module_version": "1.5.0",
            "box_style": "",
            "layout": "IPY_MODEL_6203e152734346faaed79f62d3274d2a",
            "_model_module": "@jupyter-widgets/controls",
            "children": [
              "IPY_MODEL_3962dc8b93464b7695c11067cc49ac67",
              "IPY_MODEL_d331a57e0c3b43db93b46862f758893b"
            ]
          }
        },
        "6203e152734346faaed79f62d3274d2a": {
          "model_module": "@jupyter-widgets/base",
          "model_name": "LayoutModel",
          "state": {
            "_view_name": "LayoutView",
            "grid_template_rows": null,
            "right": null,
            "justify_content": null,
            "_view_module": "@jupyter-widgets/base",
            "overflow": null,
            "_model_module_version": "1.2.0",
            "_view_count": null,
            "flex_flow": null,
            "width": null,
            "min_width": null,
            "border": null,
            "align_items": null,
            "bottom": null,
            "_model_module": "@jupyter-widgets/base",
            "top": null,
            "grid_column": null,
            "overflow_y": null,
            "overflow_x": null,
            "grid_auto_flow": null,
            "grid_area": null,
            "grid_template_columns": null,
            "flex": null,
            "_model_name": "LayoutModel",
            "justify_items": null,
            "grid_row": null,
            "max_height": null,
            "align_content": null,
            "visibility": null,
            "align_self": null,
            "height": null,
            "min_height": null,
            "padding": null,
            "grid_auto_rows": null,
            "grid_gap": null,
            "max_width": null,
            "order": null,
            "_view_module_version": "1.2.0",
            "grid_template_areas": null,
            "object_position": null,
            "object_fit": null,
            "grid_auto_columns": null,
            "margin": null,
            "display": null,
            "left": null
          }
        },
        "3962dc8b93464b7695c11067cc49ac67": {
          "model_module": "@jupyter-widgets/output",
          "model_name": "OutputModel",
          "state": {
            "_view_name": "OutputView",
            "msg_id": "",
            "_dom_classes": [],
            "_model_name": "OutputModel",
            "outputs": [
              {
                "output_type": "stream",
                "metadata": {
                  "tags": []
                },
                "text": "Video available at https://youtube.com/watch?v=7vUpUEKKl5o\n",
                "stream": "stdout"
              },
              {
                "output_type": "display_data",
                "metadata": {
                  "tags": []
                },
                "text/html": "\n        <iframe\n            width=\"854\"\n            height=\"480\"\n            src=\"https://www.youtube.com/embed/7vUpUEKKl5o?fs=1&rel=0\"\n            frameborder=\"0\"\n            allowfullscreen\n        ></iframe>\n        ",
                "text/plain": "<IPython.lib.display.YouTubeVideo at 0x7f7d237ba6d0>",
                "image/jpeg": "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\n"
              }
            ],
            "_view_module": "@jupyter-widgets/output",
            "_model_module_version": "1.0.0",
            "_view_count": null,
            "_view_module_version": "1.0.0",
            "layout": "IPY_MODEL_e293a7f11a524c0c8c02fcbd02022eb0",
            "_model_module": "@jupyter-widgets/output"
          }
        },
        "d331a57e0c3b43db93b46862f758893b": {
          "model_module": "@jupyter-widgets/output",
          "model_name": "OutputModel",
          "state": {
            "_view_name": "OutputView",
            "msg_id": "",
            "_dom_classes": [],
            "_model_name": "OutputModel",
            "outputs": [
              {
                "output_type": "stream",
                "metadata": {
                  "tags": []
                },
                "text": "Video available at https://www.bilibili.com/video/BV16h41167Jr\n",
                "stream": "stdout"
              },
              {
                "output_type": "display_data",
                "metadata": {
                  "tags": []
                },
                "text/html": "\n        <iframe\n            width=\"854\"\n            height=\"480\"\n            src=\"https://player.bilibili.com/player.html?bvid=BV16h41167Jr&page=1?fs=1\"\n            frameborder=\"0\"\n            allowfullscreen\n        ></iframe>\n        ",
                "text/plain": "<__main__.BiliVideo at 0x7f7d21559290>"
              }
            ],
            "_view_module": "@jupyter-widgets/output",
            "_model_module_version": "1.0.0",
            "_view_count": null,
            "_view_module_version": "1.0.0",
            "layout": "IPY_MODEL_12bf1c40e6974123a0d124de1f075522",
            "_model_module": "@jupyter-widgets/output"
          }
        },
        "e293a7f11a524c0c8c02fcbd02022eb0": {
          "model_module": "@jupyter-widgets/base",
          "model_name": "LayoutModel",
          "state": {
            "_view_name": "LayoutView",
            "grid_template_rows": null,
            "right": null,
            "justify_content": null,
            "_view_module": "@jupyter-widgets/base",
            "overflow": null,
            "_model_module_version": "1.2.0",
            "_view_count": null,
            "flex_flow": null,
            "width": null,
            "min_width": null,
            "border": null,
            "align_items": null,
            "bottom": null,
            "_model_module": "@jupyter-widgets/base",
            "top": null,
            "grid_column": null,
            "overflow_y": null,
            "overflow_x": null,
            "grid_auto_flow": null,
            "grid_area": null,
            "grid_template_columns": null,
            "flex": null,
            "_model_name": "LayoutModel",
            "justify_items": null,
            "grid_row": null,
            "max_height": null,
            "align_content": null,
            "visibility": null,
            "align_self": null,
            "height": null,
            "min_height": null,
            "padding": null,
            "grid_auto_rows": null,
            "grid_gap": null,
            "max_width": null,
            "order": null,
            "_view_module_version": "1.2.0",
            "grid_template_areas": null,
            "object_position": null,
            "object_fit": null,
            "grid_auto_columns": null,
            "margin": null,
            "display": null,
            "left": null
          }
        },
        "12bf1c40e6974123a0d124de1f075522": {
          "model_module": "@jupyter-widgets/base",
          "model_name": "LayoutModel",
          "state": {
            "_view_name": "LayoutView",
            "grid_template_rows": null,
            "right": null,
            "justify_content": null,
            "_view_module": "@jupyter-widgets/base",
            "overflow": null,
            "_model_module_version": "1.2.0",
            "_view_count": null,
            "flex_flow": null,
            "width": null,
            "min_width": null,
            "border": null,
            "align_items": null,
            "bottom": null,
            "_model_module": "@jupyter-widgets/base",
            "top": null,
            "grid_column": null,
            "overflow_y": null,
            "overflow_x": null,
            "grid_auto_flow": null,
            "grid_area": null,
            "grid_template_columns": null,
            "flex": null,
            "_model_name": "LayoutModel",
            "justify_items": null,
            "grid_row": null,
            "max_height": null,
            "align_content": null,
            "visibility": null,
            "align_self": null,
            "height": null,
            "min_height": null,
            "padding": null,
            "grid_auto_rows": null,
            "grid_gap": null,
            "max_width": null,
            "order": null,
            "_view_module_version": "1.2.0",
            "grid_template_areas": null,
            "object_position": null,
            "object_fit": null,
            "grid_auto_columns": null,
            "margin": null,
            "display": null,
            "left": null
          }
        },
        "b24f7986b66743248e1f16ece9b0b3b6": {
          "model_module": "@jupyter-widgets/controls",
          "model_name": "VBoxModel",
          "state": {
            "_view_name": "VBoxView",
            "_dom_classes": [
              "widget-interact"
            ],
            "_model_name": "VBoxModel",
            "_view_module": "@jupyter-widgets/controls",
            "_model_module_version": "1.5.0",
            "_view_count": null,
            "_view_module_version": "1.5.0",
            "box_style": "",
            "layout": "IPY_MODEL_833ba1bc312e4bf0946a8f2a3818d5a8",
            "_model_module": "@jupyter-widgets/controls",
            "children": [
              "IPY_MODEL_ecc481e266b54b89af98b0f9a8aafb9e",
              "IPY_MODEL_4fab54c2c3b44e70b3a1fa1a158b6ab2",
              "IPY_MODEL_3da53563a0594098b4f33097bdfa4e28",
              "IPY_MODEL_4a2de1e2b71b44f6972ee58ed5e719fa",
              "IPY_MODEL_c4c7c29c7f9748119ab1c802c737ec4d",
              "IPY_MODEL_3fd29fb80d484ea78f9f03827c37b4af"
            ]
          }
        },
        "833ba1bc312e4bf0946a8f2a3818d5a8": {
          "model_module": "@jupyter-widgets/base",
          "model_name": "LayoutModel",
          "state": {
            "_view_name": "LayoutView",
            "grid_template_rows": null,
            "right": null,
            "justify_content": null,
            "_view_module": "@jupyter-widgets/base",
            "overflow": null,
            "_model_module_version": "1.2.0",
            "_view_count": null,
            "flex_flow": null,
            "width": null,
            "min_width": null,
            "border": null,
            "align_items": null,
            "bottom": null,
            "_model_module": "@jupyter-widgets/base",
            "top": null,
            "grid_column": null,
            "overflow_y": null,
            "overflow_x": null,
            "grid_auto_flow": null,
            "grid_area": null,
            "grid_template_columns": null,
            "flex": null,
            "_model_name": "LayoutModel",
            "justify_items": null,
            "grid_row": null,
            "max_height": null,
            "align_content": null,
            "visibility": null,
            "align_self": null,
            "height": null,
            "min_height": null,
            "padding": null,
            "grid_auto_rows": null,
            "grid_gap": null,
            "max_width": null,
            "order": null,
            "_view_module_version": "1.2.0",
            "grid_template_areas": null,
            "object_position": null,
            "object_fit": null,
            "grid_auto_columns": null,
            "margin": null,
            "display": null,
            "left": null
          }
        },
        "ecc481e266b54b89af98b0f9a8aafb9e": {
          "model_module": "@jupyter-widgets/controls",
          "model_name": "IntSliderModel",
          "state": {
            "_view_name": "IntSliderView",
            "style": "IPY_MODEL_f2d52fcabd424a998e295174f5bb5ba6",
            "_dom_classes": [],
            "description": "max_steps",
            "step": 5,
            "_model_name": "IntSliderModel",
            "orientation": "horizontal",
            "max": 500,
            "_view_module": "@jupyter-widgets/controls",
            "_model_module_version": "1.5.0",
            "value": 150,
            "_view_count": null,
            "disabled": false,
            "_view_module_version": "1.5.0",
            "min": 50,
            "continuous_update": true,
            "readout_format": "d",
            "description_tooltip": null,
            "readout": true,
            "_model_module": "@jupyter-widgets/controls",
            "layout": "IPY_MODEL_70045c33d52f4cc5bc7322a4c1a05d94"
          }
        },
        "4fab54c2c3b44e70b3a1fa1a158b6ab2": {
          "model_module": "@jupyter-widgets/controls",
          "model_name": "DropdownModel",
          "state": {
            "_options_labels": [
              "10",
              "20, 20",
              "100, 100"
            ],
            "_view_name": "DropdownView",
            "style": "IPY_MODEL_3e585961455c4a4fb810b01344cdb27b",
            "_dom_classes": [],
            "description": "hidden_dims",
            "_model_name": "DropdownModel",
            "index": 0,
            "_view_module": "@jupyter-widgets/controls",
            "_model_module_version": "1.5.0",
            "_view_count": null,
            "disabled": false,
            "_view_module_version": "1.5.0",
            "description_tooltip": null,
            "_model_module": "@jupyter-widgets/controls",
            "layout": "IPY_MODEL_5fc27e33e34d425ab03055a40492dcf4"
          }
        },
        "3da53563a0594098b4f33097bdfa4e28": {
          "model_module": "@jupyter-widgets/controls",
          "model_name": "FloatLogSliderModel",
          "state": {
            "_view_name": "FloatLogSliderView",
            "orientation": "horizontal",
            "_view_module": "@jupyter-widgets/controls",
            "_model_module_version": "1.5.0",
            "_view_count": null,
            "disabled": false,
            "readout_format": ".3g",
            "_model_module": "@jupyter-widgets/controls",
            "style": "IPY_MODEL_801a43f8f9f949b3a384fea61faa8443",
            "layout": "IPY_MODEL_f8ead98645b34d0d89d48bb2c94c064a",
            "min": -3,
            "continuous_update": true,
            "description_tooltip": null,
            "_dom_classes": [],
            "description": "lr",
            "_model_name": "FloatLogSliderModel",
            "max": 0,
            "readout": true,
            "step": 0.1,
            "base": 10,
            "value": 0.05,
            "_view_module_version": "1.5.0"
          }
        },
        "4a2de1e2b71b44f6972ee58ed5e719fa": {
          "model_module": "@jupyter-widgets/controls",
          "model_name": "IntSliderModel",
          "state": {
            "_view_name": "IntSliderView",
            "style": "IPY_MODEL_6ca1c0631f8d4d85b3c9fee6c0a251d4",
            "_dom_classes": [],
            "description": "num_inits",
            "step": 1,
            "_model_name": "IntSliderModel",
            "orientation": "horizontal",
            "max": 10,
            "_view_module": "@jupyter-widgets/controls",
            "_model_module_version": "1.5.0",
            "value": 7,
            "_view_count": null,
            "disabled": false,
            "_view_module_version": "1.5.0",
            "min": 5,
            "continuous_update": true,
            "readout_format": "d",
            "description_tooltip": null,
            "readout": true,
            "_model_module": "@jupyter-widgets/controls",
            "layout": "IPY_MODEL_9641c17a603a45fcbe3620fb14a2f4fb"
          }
        },
        "c4c7c29c7f9748119ab1c802c737ec4d": {
          "model_module": "@jupyter-widgets/controls",
          "model_name": "ButtonModel",
          "state": {
            "_view_name": "ButtonView",
            "style": "IPY_MODEL_534dd9b9ae1a4ea381c689f5d0145d5f",
            "_dom_classes": [],
            "description": "Run Interact",
            "_model_name": "ButtonModel",
            "button_style": "",
            "_view_module": "@jupyter-widgets/controls",
            "_model_module_version": "1.5.0",
            "tooltip": "",
            "_view_count": null,
            "disabled": false,
            "_view_module_version": "1.5.0",
            "layout": "IPY_MODEL_e89e13a91f65471b839ae4e66a49bdc7",
            "_model_module": "@jupyter-widgets/controls",
            "icon": ""
          }
        },
        "3fd29fb80d484ea78f9f03827c37b4af": {
          "model_module": "@jupyter-widgets/output",
          "model_name": "OutputModel",
          "state": {
            "_view_name": "OutputView",
            "msg_id": "",
            "_dom_classes": [],
            "_model_name": "OutputModel",
            "outputs": [],
            "_view_module": "@jupyter-widgets/output",
            "_model_module_version": "1.0.0",
            "_view_count": null,
            "_view_module_version": "1.0.0",
            "layout": "IPY_MODEL_d389bde4238e4b28a07fbec20fa7477b",
            "_model_module": "@jupyter-widgets/output"
          }
        },
        "f2d52fcabd424a998e295174f5bb5ba6": {
          "model_module": "@jupyter-widgets/controls",
          "model_name": "SliderStyleModel",
          "state": {
            "_view_name": "StyleView",
            "handle_color": null,
            "_model_name": "SliderStyleModel",
            "description_width": "",
            "_view_module": "@jupyter-widgets/base",
            "_model_module_version": "1.5.0",
            "_view_count": null,
            "_view_module_version": "1.2.0",
            "_model_module": "@jupyter-widgets/controls"
          }
        },
        "70045c33d52f4cc5bc7322a4c1a05d94": {
          "model_module": "@jupyter-widgets/base",
          "model_name": "LayoutModel",
          "state": {
            "_view_name": "LayoutView",
            "grid_template_rows": null,
            "right": null,
            "justify_content": null,
            "_view_module": "@jupyter-widgets/base",
            "overflow": null,
            "_model_module_version": "1.2.0",
            "_view_count": null,
            "flex_flow": null,
            "width": null,
            "min_width": null,
            "border": null,
            "align_items": null,
            "bottom": null,
            "_model_module": "@jupyter-widgets/base",
            "top": null,
            "grid_column": null,
            "overflow_y": null,
            "overflow_x": null,
            "grid_auto_flow": null,
            "grid_area": null,
            "grid_template_columns": null,
            "flex": null,
            "_model_name": "LayoutModel",
            "justify_items": null,
            "grid_row": null,
            "max_height": null,
            "align_content": null,
            "visibility": null,
            "align_self": null,
            "height": null,
            "min_height": null,
            "padding": null,
            "grid_auto_rows": null,
            "grid_gap": null,
            "max_width": null,
            "order": null,
            "_view_module_version": "1.2.0",
            "grid_template_areas": null,
            "object_position": null,
            "object_fit": null,
            "grid_auto_columns": null,
            "margin": null,
            "display": null,
            "left": null
          }
        },
        "3e585961455c4a4fb810b01344cdb27b": {
          "model_module": "@jupyter-widgets/controls",
          "model_name": "DescriptionStyleModel",
          "state": {
            "_view_name": "StyleView",
            "_model_name": "DescriptionStyleModel",
            "description_width": "",
            "_view_module": "@jupyter-widgets/base",
            "_model_module_version": "1.5.0",
            "_view_count": null,
            "_view_module_version": "1.2.0",
            "_model_module": "@jupyter-widgets/controls"
          }
        },
        "5fc27e33e34d425ab03055a40492dcf4": {
          "model_module": "@jupyter-widgets/base",
          "model_name": "LayoutModel",
          "state": {
            "_view_name": "LayoutView",
            "grid_template_rows": null,
            "right": null,
            "justify_content": null,
            "_view_module": "@jupyter-widgets/base",
            "overflow": null,
            "_model_module_version": "1.2.0",
            "_view_count": null,
            "flex_flow": null,
            "width": null,
            "min_width": null,
            "border": null,
            "align_items": null,
            "bottom": null,
            "_model_module": "@jupyter-widgets/base",
            "top": null,
            "grid_column": null,
            "overflow_y": null,
            "overflow_x": null,
            "grid_auto_flow": null,
            "grid_area": null,
            "grid_template_columns": null,
            "flex": null,
            "_model_name": "LayoutModel",
            "justify_items": null,
            "grid_row": null,
            "max_height": null,
            "align_content": null,
            "visibility": null,
            "align_self": null,
            "height": null,
            "min_height": null,
            "padding": null,
            "grid_auto_rows": null,
            "grid_gap": null,
            "max_width": null,
            "order": null,
            "_view_module_version": "1.2.0",
            "grid_template_areas": null,
            "object_position": null,
            "object_fit": null,
            "grid_auto_columns": null,
            "margin": null,
            "display": null,
            "left": null
          }
        },
        "801a43f8f9f949b3a384fea61faa8443": {
          "model_module": "@jupyter-widgets/controls",
          "model_name": "SliderStyleModel",
          "state": {
            "_view_name": "StyleView",
            "handle_color": null,
            "_model_name": "SliderStyleModel",
            "description_width": "",
            "_view_module": "@jupyter-widgets/base",
            "_model_module_version": "1.5.0",
            "_view_count": null,
            "_view_module_version": "1.2.0",
            "_model_module": "@jupyter-widgets/controls"
          }
        },
        "f8ead98645b34d0d89d48bb2c94c064a": {
          "model_module": "@jupyter-widgets/base",
          "model_name": "LayoutModel",
          "state": {
            "_view_name": "LayoutView",
            "grid_template_rows": null,
            "right": null,
            "justify_content": null,
            "_view_module": "@jupyter-widgets/base",
            "overflow": null,
            "_model_module_version": "1.2.0",
            "_view_count": null,
            "flex_flow": null,
            "width": null,
            "min_width": null,
            "border": null,
            "align_items": null,
            "bottom": null,
            "_model_module": "@jupyter-widgets/base",
            "top": null,
            "grid_column": null,
            "overflow_y": null,
            "overflow_x": null,
            "grid_auto_flow": null,
            "grid_area": null,
            "grid_template_columns": null,
            "flex": null,
            "_model_name": "LayoutModel",
            "justify_items": null,
            "grid_row": null,
            "max_height": null,
            "align_content": null,
            "visibility": null,
            "align_self": null,
            "height": null,
            "min_height": null,
            "padding": null,
            "grid_auto_rows": null,
            "grid_gap": null,
            "max_width": null,
            "order": null,
            "_view_module_version": "1.2.0",
            "grid_template_areas": null,
            "object_position": null,
            "object_fit": null,
            "grid_auto_columns": null,
            "margin": null,
            "display": null,
            "left": null
          }
        },
        "6ca1c0631f8d4d85b3c9fee6c0a251d4": {
          "model_module": "@jupyter-widgets/controls",
          "model_name": "SliderStyleModel",
          "state": {
            "_view_name": "StyleView",
            "handle_color": null,
            "_model_name": "SliderStyleModel",
            "description_width": "",
            "_view_module": "@jupyter-widgets/base",
            "_model_module_version": "1.5.0",
            "_view_count": null,
            "_view_module_version": "1.2.0",
            "_model_module": "@jupyter-widgets/controls"
          }
        },
        "9641c17a603a45fcbe3620fb14a2f4fb": {
          "model_module": "@jupyter-widgets/base",
          "model_name": "LayoutModel",
          "state": {
            "_view_name": "LayoutView",
            "grid_template_rows": null,
            "right": null,
            "justify_content": null,
            "_view_module": "@jupyter-widgets/base",
            "overflow": null,
            "_model_module_version": "1.2.0",
            "_view_count": null,
            "flex_flow": null,
            "width": null,
            "min_width": null,
            "border": null,
            "align_items": null,
            "bottom": null,
            "_model_module": "@jupyter-widgets/base",
            "top": null,
            "grid_column": null,
            "overflow_y": null,
            "overflow_x": null,
            "grid_auto_flow": null,
            "grid_area": null,
            "grid_template_columns": null,
            "flex": null,
            "_model_name": "LayoutModel",
            "justify_items": null,
            "grid_row": null,
            "max_height": null,
            "align_content": null,
            "visibility": null,
            "align_self": null,
            "height": null,
            "min_height": null,
            "padding": null,
            "grid_auto_rows": null,
            "grid_gap": null,
            "max_width": null,
            "order": null,
            "_view_module_version": "1.2.0",
            "grid_template_areas": null,
            "object_position": null,
            "object_fit": null,
            "grid_auto_columns": null,
            "margin": null,
            "display": null,
            "left": null
          }
        },
        "534dd9b9ae1a4ea381c689f5d0145d5f": {
          "model_module": "@jupyter-widgets/controls",
          "model_name": "ButtonStyleModel",
          "state": {
            "_view_name": "StyleView",
            "_model_name": "ButtonStyleModel",
            "_view_module": "@jupyter-widgets/base",
            "_model_module_version": "1.5.0",
            "_view_count": null,
            "button_color": null,
            "font_weight": "",
            "_view_module_version": "1.2.0",
            "_model_module": "@jupyter-widgets/controls"
          }
        },
        "e89e13a91f65471b839ae4e66a49bdc7": {
          "model_module": "@jupyter-widgets/base",
          "model_name": "LayoutModel",
          "state": {
            "_view_name": "LayoutView",
            "grid_template_rows": null,
            "right": null,
            "justify_content": null,
            "_view_module": "@jupyter-widgets/base",
            "overflow": null,
            "_model_module_version": "1.2.0",
            "_view_count": null,
            "flex_flow": null,
            "width": null,
            "min_width": null,
            "border": null,
            "align_items": null,
            "bottom": null,
            "_model_module": "@jupyter-widgets/base",
            "top": null,
            "grid_column": null,
            "overflow_y": null,
            "overflow_x": null,
            "grid_auto_flow": null,
            "grid_area": null,
            "grid_template_columns": null,
            "flex": null,
            "_model_name": "LayoutModel",
            "justify_items": null,
            "grid_row": null,
            "max_height": null,
            "align_content": null,
            "visibility": null,
            "align_self": null,
            "height": null,
            "min_height": null,
            "padding": null,
            "grid_auto_rows": null,
            "grid_gap": null,
            "max_width": null,
            "order": null,
            "_view_module_version": "1.2.0",
            "grid_template_areas": null,
            "object_position": null,
            "object_fit": null,
            "grid_auto_columns": null,
            "margin": null,
            "display": null,
            "left": null
          }
        },
        "d389bde4238e4b28a07fbec20fa7477b": {
          "model_module": "@jupyter-widgets/base",
          "model_name": "LayoutModel",
          "state": {
            "_view_name": "LayoutView",
            "grid_template_rows": null,
            "right": null,
            "justify_content": null,
            "_view_module": "@jupyter-widgets/base",
            "overflow": null,
            "_model_module_version": "1.2.0",
            "_view_count": null,
            "flex_flow": null,
            "width": null,
            "min_width": null,
            "border": null,
            "align_items": null,
            "bottom": null,
            "_model_module": "@jupyter-widgets/base",
            "top": null,
            "grid_column": null,
            "overflow_y": null,
            "overflow_x": null,
            "grid_auto_flow": null,
            "grid_area": null,
            "grid_template_columns": null,
            "flex": null,
            "_model_name": "LayoutModel",
            "justify_items": null,
            "grid_row": null,
            "max_height": null,
            "align_content": null,
            "visibility": null,
            "align_self": null,
            "height": null,
            "min_height": null,
            "padding": null,
            "grid_auto_rows": null,
            "grid_gap": null,
            "max_width": null,
            "order": null,
            "_view_module_version": "1.2.0",
            "grid_template_areas": null,
            "object_position": null,
            "object_fit": null,
            "grid_auto_columns": null,
            "margin": null,
            "display": null,
            "left": null
          }
        },
        "31dc089a4082440e99b87ff697aa3359": {
          "model_module": "@jupyter-widgets/controls",
          "model_name": "TabModel",
          "state": {
            "_view_name": "TabView",
            "_dom_classes": [],
            "_titles": {
              "0": "Youtube",
              "1": "Bilibili"
            },
            "_model_name": "TabModel",
            "_view_module": "@jupyter-widgets/controls",
            "selected_index": 0,
            "_model_module_version": "1.5.0",
            "_view_count": null,
            "_view_module_version": "1.5.0",
            "box_style": "",
            "layout": "IPY_MODEL_5d49d7729bf84bbea3eac7c60aaaf640",
            "_model_module": "@jupyter-widgets/controls",
            "children": [
              "IPY_MODEL_b9d265403b4a47268becb1877ed116fc",
              "IPY_MODEL_dca5dd4481b54d2f9f35d73b29be59f2"
            ]
          }
        },
        "5d49d7729bf84bbea3eac7c60aaaf640": {
          "model_module": "@jupyter-widgets/base",
          "model_name": "LayoutModel",
          "state": {
            "_view_name": "LayoutView",
            "grid_template_rows": null,
            "right": null,
            "justify_content": null,
            "_view_module": "@jupyter-widgets/base",
            "overflow": null,
            "_model_module_version": "1.2.0",
            "_view_count": null,
            "flex_flow": null,
            "width": null,
            "min_width": null,
            "border": null,
            "align_items": null,
            "bottom": null,
            "_model_module": "@jupyter-widgets/base",
            "top": null,
            "grid_column": null,
            "overflow_y": null,
            "overflow_x": null,
            "grid_auto_flow": null,
            "grid_area": null,
            "grid_template_columns": null,
            "flex": null,
            "_model_name": "LayoutModel",
            "justify_items": null,
            "grid_row": null,
            "max_height": null,
            "align_content": null,
            "visibility": null,
            "align_self": null,
            "height": null,
            "min_height": null,
            "padding": null,
            "grid_auto_rows": null,
            "grid_gap": null,
            "max_width": null,
            "order": null,
            "_view_module_version": "1.2.0",
            "grid_template_areas": null,
            "object_position": null,
            "object_fit": null,
            "grid_auto_columns": null,
            "margin": null,
            "display": null,
            "left": null
          }
        },
        "b9d265403b4a47268becb1877ed116fc": {
          "model_module": "@jupyter-widgets/output",
          "model_name": "OutputModel",
          "state": {
            "_view_name": "OutputView",
            "msg_id": "",
            "_dom_classes": [],
            "_model_name": "OutputModel",
            "outputs": [
              {
                "output_type": "stream",
                "metadata": {
                  "tags": []
                },
                "text": "Video available at https://youtube.com/watch?v=hbqUxpNBUGk\n",
                "stream": "stdout"
              },
              {
                "output_type": "display_data",
                "metadata": {
                  "tags": []
                },
                "text/html": "\n        <iframe\n            width=\"854\"\n            height=\"480\"\n            src=\"https://www.youtube.com/embed/hbqUxpNBUGk?fs=1&rel=0\"\n            frameborder=\"0\"\n            allowfullscreen\n        ></iframe>\n        ",
                "text/plain": "<IPython.lib.display.YouTubeVideo at 0x7f7d237ba6d0>",
                "image/jpeg": "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\n"
              }
            ],
            "_view_module": "@jupyter-widgets/output",
            "_model_module_version": "1.0.0",
            "_view_count": null,
            "_view_module_version": "1.0.0",
            "layout": "IPY_MODEL_ac68dfd7fbb04bf0a11f4f0020d2dca8",
            "_model_module": "@jupyter-widgets/output"
          }
        },
        "dca5dd4481b54d2f9f35d73b29be59f2": {
          "model_module": "@jupyter-widgets/output",
          "model_name": "OutputModel",
          "state": {
            "_view_name": "OutputView",
            "msg_id": "",
            "_dom_classes": [],
            "_model_name": "OutputModel",
            "outputs": [
              {
                "output_type": "stream",
                "metadata": {
                  "tags": []
                },
                "text": "Video available at https://www.bilibili.com/video/BV1ty4y1T7Uh\n",
                "stream": "stdout"
              },
              {
                "output_type": "display_data",
                "metadata": {
                  "tags": []
                },
                "text/html": "\n        <iframe\n            width=\"854\"\n            height=\"480\"\n            src=\"https://player.bilibili.com/player.html?bvid=BV1ty4y1T7Uh&page=1?fs=1\"\n            frameborder=\"0\"\n            allowfullscreen\n        ></iframe>\n        ",
                "text/plain": "<__main__.BiliVideo at 0x7f7d21542490>"
              }
            ],
            "_view_module": "@jupyter-widgets/output",
            "_model_module_version": "1.0.0",
            "_view_count": null,
            "_view_module_version": "1.0.0",
            "layout": "IPY_MODEL_d959237289864579837ab131b9a973a3",
            "_model_module": "@jupyter-widgets/output"
          }
        },
        "ac68dfd7fbb04bf0a11f4f0020d2dca8": {
          "model_module": "@jupyter-widgets/base",
          "model_name": "LayoutModel",
          "state": {
            "_view_name": "LayoutView",
            "grid_template_rows": null,
            "right": null,
            "justify_content": null,
            "_view_module": "@jupyter-widgets/base",
            "overflow": null,
            "_model_module_version": "1.2.0",
            "_view_count": null,
            "flex_flow": null,
            "width": null,
            "min_width": null,
            "border": null,
            "align_items": null,
            "bottom": null,
            "_model_module": "@jupyter-widgets/base",
            "top": null,
            "grid_column": null,
            "overflow_y": null,
            "overflow_x": null,
            "grid_auto_flow": null,
            "grid_area": null,
            "grid_template_columns": null,
            "flex": null,
            "_model_name": "LayoutModel",
            "justify_items": null,
            "grid_row": null,
            "max_height": null,
            "align_content": null,
            "visibility": null,
            "align_self": null,
            "height": null,
            "min_height": null,
            "padding": null,
            "grid_auto_rows": null,
            "grid_gap": null,
            "max_width": null,
            "order": null,
            "_view_module_version": "1.2.0",
            "grid_template_areas": null,
            "object_position": null,
            "object_fit": null,
            "grid_auto_columns": null,
            "margin": null,
            "display": null,
            "left": null
          }
        },
        "d959237289864579837ab131b9a973a3": {
          "model_module": "@jupyter-widgets/base",
          "model_name": "LayoutModel",
          "state": {
            "_view_name": "LayoutView",
            "grid_template_rows": null,
            "right": null,
            "justify_content": null,
            "_view_module": "@jupyter-widgets/base",
            "overflow": null,
            "_model_module_version": "1.2.0",
            "_view_count": null,
            "flex_flow": null,
            "width": null,
            "min_width": null,
            "border": null,
            "align_items": null,
            "bottom": null,
            "_model_module": "@jupyter-widgets/base",
            "top": null,
            "grid_column": null,
            "overflow_y": null,
            "overflow_x": null,
            "grid_auto_flow": null,
            "grid_area": null,
            "grid_template_columns": null,
            "flex": null,
            "_model_name": "LayoutModel",
            "justify_items": null,
            "grid_row": null,
            "max_height": null,
            "align_content": null,
            "visibility": null,
            "align_self": null,
            "height": null,
            "min_height": null,
            "padding": null,
            "grid_auto_rows": null,
            "grid_gap": null,
            "max_width": null,
            "order": null,
            "_view_module_version": "1.2.0",
            "grid_template_areas": null,
            "object_position": null,
            "object_fit": null,
            "grid_auto_columns": null,
            "margin": null,
            "display": null,
            "left": null
          }
        },
        "3f12ec5b705b4f268ea365fe172f625b": {
          "model_module": "@jupyter-widgets/controls",
          "model_name": "VBoxModel",
          "state": {
            "_view_name": "VBoxView",
            "_dom_classes": [
              "widget-interact"
            ],
            "_model_name": "VBoxModel",
            "_view_module": "@jupyter-widgets/controls",
            "_model_module_version": "1.5.0",
            "_view_count": null,
            "_view_module_version": "1.5.0",
            "box_style": "",
            "layout": "IPY_MODEL_6b365f2332a346b7bf902b2d6bf1c415",
            "_model_module": "@jupyter-widgets/controls",
            "children": [
              "IPY_MODEL_9115aedd50064c30a63ef6aab2732cbe",
              "IPY_MODEL_7add093302f64da5841bde313735c41a"
            ]
          }
        },
        "6b365f2332a346b7bf902b2d6bf1c415": {
          "model_module": "@jupyter-widgets/base",
          "model_name": "LayoutModel",
          "state": {
            "_view_name": "LayoutView",
            "grid_template_rows": null,
            "right": null,
            "justify_content": null,
            "_view_module": "@jupyter-widgets/base",
            "overflow": null,
            "_model_module_version": "1.2.0",
            "_view_count": null,
            "flex_flow": null,
            "width": null,
            "min_width": null,
            "border": null,
            "align_items": null,
            "bottom": null,
            "_model_module": "@jupyter-widgets/base",
            "top": null,
            "grid_column": null,
            "overflow_y": null,
            "overflow_x": null,
            "grid_auto_flow": null,
            "grid_area": null,
            "grid_template_columns": null,
            "flex": null,
            "_model_name": "LayoutModel",
            "justify_items": null,
            "grid_row": null,
            "max_height": null,
            "align_content": null,
            "visibility": null,
            "align_self": null,
            "height": null,
            "min_height": null,
            "padding": null,
            "grid_auto_rows": null,
            "grid_gap": null,
            "max_width": null,
            "order": null,
            "_view_module_version": "1.2.0",
            "grid_template_areas": null,
            "object_position": null,
            "object_fit": null,
            "grid_auto_columns": null,
            "margin": null,
            "display": null,
            "left": null
          }
        },
        "9115aedd50064c30a63ef6aab2732cbe": {
          "model_module": "@jupyter-widgets/controls",
          "model_name": "DropdownModel",
          "state": {
            "_options_labels": [
              "1",
              "100",
              "50, 50"
            ],
            "_view_name": "DropdownView",
            "style": "IPY_MODEL_e6aa66995f484044a82d05a44d591ad5",
            "_dom_classes": [],
            "description": "hidden_dims",
            "_model_name": "DropdownModel",
            "index": 1,
            "_view_module": "@jupyter-widgets/controls",
            "_model_module_version": "1.5.0",
            "_view_count": null,
            "disabled": false,
            "_view_module_version": "1.5.0",
            "description_tooltip": null,
            "_model_module": "@jupyter-widgets/controls",
            "layout": "IPY_MODEL_3fe3db748b77472c8823a6715f4d3ada"
          }
        },
        "7add093302f64da5841bde313735c41a": {
          "model_module": "@jupyter-widgets/output",
          "model_name": "OutputModel",
          "state": {
            "_view_name": "OutputView",
            "msg_id": "",
            "_dom_classes": [],
            "_model_name": "OutputModel",
            "outputs": [
              {
                "output_type": "display_data",
                "metadata": {
                  "tags": [],
                  "image/png": {
                    "width": 342,
                    "height": 270
                  },
                  "needs_background": "light"
                },
                "image/png": "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\n",
                "text/plain": "<Figure size 360x288 with 1 Axes>"
              }
            ],
            "_view_module": "@jupyter-widgets/output",
            "_model_module_version": "1.0.0",
            "_view_count": null,
            "_view_module_version": "1.0.0",
            "layout": "IPY_MODEL_0793467b46f5491da65cf60a07735b92",
            "_model_module": "@jupyter-widgets/output"
          }
        },
        "e6aa66995f484044a82d05a44d591ad5": {
          "model_module": "@jupyter-widgets/controls",
          "model_name": "DescriptionStyleModel",
          "state": {
            "_view_name": "StyleView",
            "_model_name": "DescriptionStyleModel",
            "description_width": "",
            "_view_module": "@jupyter-widgets/base",
            "_model_module_version": "1.5.0",
            "_view_count": null,
            "_view_module_version": "1.2.0",
            "_model_module": "@jupyter-widgets/controls"
          }
        },
        "3fe3db748b77472c8823a6715f4d3ada": {
          "model_module": "@jupyter-widgets/base",
          "model_name": "LayoutModel",
          "state": {
            "_view_name": "LayoutView",
            "grid_template_rows": null,
            "right": null,
            "justify_content": null,
            "_view_module": "@jupyter-widgets/base",
            "overflow": null,
            "_model_module_version": "1.2.0",
            "_view_count": null,
            "flex_flow": null,
            "width": null,
            "min_width": null,
            "border": null,
            "align_items": null,
            "bottom": null,
            "_model_module": "@jupyter-widgets/base",
            "top": null,
            "grid_column": null,
            "overflow_y": null,
            "overflow_x": null,
            "grid_auto_flow": null,
            "grid_area": null,
            "grid_template_columns": null,
            "flex": null,
            "_model_name": "LayoutModel",
            "justify_items": null,
            "grid_row": null,
            "max_height": null,
            "align_content": null,
            "visibility": null,
            "align_self": null,
            "height": null,
            "min_height": null,
            "padding": null,
            "grid_auto_rows": null,
            "grid_gap": null,
            "max_width": null,
            "order": null,
            "_view_module_version": "1.2.0",
            "grid_template_areas": null,
            "object_position": null,
            "object_fit": null,
            "grid_auto_columns": null,
            "margin": null,
            "display": null,
            "left": null
          }
        },
        "0793467b46f5491da65cf60a07735b92": {
          "model_module": "@jupyter-widgets/base",
          "model_name": "LayoutModel",
          "state": {
            "_view_name": "LayoutView",
            "grid_template_rows": null,
            "right": null,
            "justify_content": null,
            "_view_module": "@jupyter-widgets/base",
            "overflow": null,
            "_model_module_version": "1.2.0",
            "_view_count": null,
            "flex_flow": null,
            "width": null,
            "min_width": null,
            "border": null,
            "align_items": null,
            "bottom": null,
            "_model_module": "@jupyter-widgets/base",
            "top": null,
            "grid_column": null,
            "overflow_y": null,
            "overflow_x": null,
            "grid_auto_flow": null,
            "grid_area": null,
            "grid_template_columns": null,
            "flex": null,
            "_model_name": "LayoutModel",
            "justify_items": null,
            "grid_row": null,
            "max_height": null,
            "align_content": null,
            "visibility": null,
            "align_self": null,
            "height": null,
            "min_height": null,
            "padding": null,
            "grid_auto_rows": null,
            "grid_gap": null,
            "max_width": null,
            "order": null,
            "_view_module_version": "1.2.0",
            "grid_template_areas": null,
            "object_position": null,
            "object_fit": null,
            "grid_auto_columns": null,
            "margin": null,
            "display": null,
            "left": null
          }
        },
        "9c1b8ee158624a92896ca077196abea8": {
          "model_module": "@jupyter-widgets/controls",
          "model_name": "VBoxModel",
          "state": {
            "_view_name": "VBoxView",
            "_dom_classes": [
              "widget-interact"
            ],
            "_model_name": "VBoxModel",
            "_view_module": "@jupyter-widgets/controls",
            "_model_module_version": "1.5.0",
            "_view_count": null,
            "_view_module_version": "1.5.0",
            "box_style": "",
            "layout": "IPY_MODEL_3a52c9e049f5498da86375f87bee7228",
            "_model_module": "@jupyter-widgets/controls",
            "children": [
              "IPY_MODEL_2fa6372d7c154274be5fc40bf4fd5d09",
              "IPY_MODEL_fd098aaa17c646eeb19ef8c9ad797513",
              "IPY_MODEL_c38b7d9a61e2413c8aaef0eb781fa8a4",
              "IPY_MODEL_4920d5665e59419898bba67fc17a42be",
              "IPY_MODEL_c6bee15f8b874c7ea780aadf820b0520"
            ]
          }
        },
        "3a52c9e049f5498da86375f87bee7228": {
          "model_module": "@jupyter-widgets/base",
          "model_name": "LayoutModel",
          "state": {
            "_view_name": "LayoutView",
            "grid_template_rows": null,
            "right": null,
            "justify_content": null,
            "_view_module": "@jupyter-widgets/base",
            "overflow": null,
            "_model_module_version": "1.2.0",
            "_view_count": null,
            "flex_flow": null,
            "width": null,
            "min_width": null,
            "border": null,
            "align_items": null,
            "bottom": null,
            "_model_module": "@jupyter-widgets/base",
            "top": null,
            "grid_column": null,
            "overflow_y": null,
            "overflow_x": null,
            "grid_auto_flow": null,
            "grid_area": null,
            "grid_template_columns": null,
            "flex": null,
            "_model_name": "LayoutModel",
            "justify_items": null,
            "grid_row": null,
            "max_height": null,
            "align_content": null,
            "visibility": null,
            "align_self": null,
            "height": null,
            "min_height": null,
            "padding": null,
            "grid_auto_rows": null,
            "grid_gap": null,
            "max_width": null,
            "order": null,
            "_view_module_version": "1.2.0",
            "grid_template_areas": null,
            "object_position": null,
            "object_fit": null,
            "grid_auto_columns": null,
            "margin": null,
            "display": null,
            "left": null
          }
        },
        "2fa6372d7c154274be5fc40bf4fd5d09": {
          "model_module": "@jupyter-widgets/controls",
          "model_name": "TextModel",
          "state": {
            "_view_name": "TextView",
            "style": "IPY_MODEL_2b6f57b4fcea4eb3a364847dd15890e9",
            "_dom_classes": [],
            "description": "batch_sizes",
            "_model_name": "TextModel",
            "placeholder": "​",
            "_view_module": "@jupyter-widgets/controls",
            "_model_module_version": "1.5.0",
            "value": "20, 250, 1000",
            "_view_count": null,
            "disabled": false,
            "_view_module_version": "1.5.0",
            "continuous_update": true,
            "description_tooltip": null,
            "_model_module": "@jupyter-widgets/controls",
            "layout": "IPY_MODEL_457688966b31405687534c91062d6f0f"
          }
        },
        "fd098aaa17c646eeb19ef8c9ad797513": {
          "model_module": "@jupyter-widgets/controls",
          "model_name": "TextModel",
          "state": {
            "_view_name": "TextView",
            "style": "IPY_MODEL_1feaf06fb445407a85bfe8f2f33abf63",
            "_dom_classes": [],
            "description": "lrs",
            "_model_name": "TextModel",
            "placeholder": "​",
            "_view_module": "@jupyter-widgets/controls",
            "_model_module_version": "1.5.0",
            "value": "5e-3, 5e-3, 5e-3",
            "_view_count": null,
            "disabled": false,
            "_view_module_version": "1.5.0",
            "continuous_update": true,
            "description_tooltip": null,
            "_model_module": "@jupyter-widgets/controls",
            "layout": "IPY_MODEL_bcb801533ac349bbb46c450cc3b4aba2"
          }
        },
        "c38b7d9a61e2413c8aaef0eb781fa8a4": {
          "model_module": "@jupyter-widgets/controls",
          "model_name": "DropdownModel",
          "state": {
            "_options_labels": [
              "2.5",
              "5",
              "10"
            ],
            "_view_name": "DropdownView",
            "style": "IPY_MODEL_d1d96edad3444cb2bba7f366282592dc",
            "_dom_classes": [],
            "description": "time_budget",
            "_model_name": "DropdownModel",
            "index": 0,
            "_view_module": "@jupyter-widgets/controls",
            "_model_module_version": "1.5.0",
            "_view_count": null,
            "disabled": false,
            "_view_module_version": "1.5.0",
            "description_tooltip": null,
            "_model_module": "@jupyter-widgets/controls",
            "layout": "IPY_MODEL_5e0a2ae41e01410f9ece66f6fcd2f8ac"
          }
        },
        "4920d5665e59419898bba67fc17a42be": {
          "model_module": "@jupyter-widgets/controls",
          "model_name": "ButtonModel",
          "state": {
            "_view_name": "ButtonView",
            "style": "IPY_MODEL_31b119a282574b5f80e274465dc4eab0",
            "_dom_classes": [],
            "description": "Run Interact",
            "_model_name": "ButtonModel",
            "button_style": "",
            "_view_module": "@jupyter-widgets/controls",
            "_model_module_version": "1.5.0",
            "tooltip": "",
            "_view_count": null,
            "disabled": false,
            "_view_module_version": "1.5.0",
            "layout": "IPY_MODEL_a931f229cef2405286770f71c2806cf4",
            "_model_module": "@jupyter-widgets/controls",
            "icon": ""
          }
        },
        "c6bee15f8b874c7ea780aadf820b0520": {
          "model_module": "@jupyter-widgets/output",
          "model_name": "OutputModel",
          "state": {
            "_view_name": "OutputView",
            "msg_id": "",
            "_dom_classes": [],
            "_model_name": "OutputModel",
            "outputs": [],
            "_view_module": "@jupyter-widgets/output",
            "_model_module_version": "1.0.0",
            "_view_count": null,
            "_view_module_version": "1.0.0",
            "layout": "IPY_MODEL_0f42ea0639ea4239bd99a2ff54aa2ea7",
            "_model_module": "@jupyter-widgets/output"
          }
        },
        "2b6f57b4fcea4eb3a364847dd15890e9": {
          "model_module": "@jupyter-widgets/controls",
          "model_name": "DescriptionStyleModel",
          "state": {
            "_view_name": "StyleView",
            "_model_name": "DescriptionStyleModel",
            "description_width": "",
            "_view_module": "@jupyter-widgets/base",
            "_model_module_version": "1.5.0",
            "_view_count": null,
            "_view_module_version": "1.2.0",
            "_model_module": "@jupyter-widgets/controls"
          }
        },
        "457688966b31405687534c91062d6f0f": {
          "model_module": "@jupyter-widgets/base",
          "model_name": "LayoutModel",
          "state": {
            "_view_name": "LayoutView",
            "grid_template_rows": null,
            "right": null,
            "justify_content": null,
            "_view_module": "@jupyter-widgets/base",
            "overflow": null,
            "_model_module_version": "1.2.0",
            "_view_count": null,
            "flex_flow": null,
            "width": null,
            "min_width": null,
            "border": null,
            "align_items": null,
            "bottom": null,
            "_model_module": "@jupyter-widgets/base",
            "top": null,
            "grid_column": null,
            "overflow_y": null,
            "overflow_x": null,
            "grid_auto_flow": null,
            "grid_area": null,
            "grid_template_columns": null,
            "flex": null,
            "_model_name": "LayoutModel",
            "justify_items": null,
            "grid_row": null,
            "max_height": null,
            "align_content": null,
            "visibility": null,
            "align_self": null,
            "height": null,
            "min_height": null,
            "padding": null,
            "grid_auto_rows": null,
            "grid_gap": null,
            "max_width": null,
            "order": null,
            "_view_module_version": "1.2.0",
            "grid_template_areas": null,
            "object_position": null,
            "object_fit": null,
            "grid_auto_columns": null,
            "margin": null,
            "display": null,
            "left": null
          }
        },
        "1feaf06fb445407a85bfe8f2f33abf63": {
          "model_module": "@jupyter-widgets/controls",
          "model_name": "DescriptionStyleModel",
          "state": {
            "_view_name": "StyleView",
            "_model_name": "DescriptionStyleModel",
            "description_width": "",
            "_view_module": "@jupyter-widgets/base",
            "_model_module_version": "1.5.0",
            "_view_count": null,
            "_view_module_version": "1.2.0",
            "_model_module": "@jupyter-widgets/controls"
          }
        },
        "bcb801533ac349bbb46c450cc3b4aba2": {
          "model_module": "@jupyter-widgets/base",
          "model_name": "LayoutModel",
          "state": {
            "_view_name": "LayoutView",
            "grid_template_rows": null,
            "right": null,
            "justify_content": null,
            "_view_module": "@jupyter-widgets/base",
            "overflow": null,
            "_model_module_version": "1.2.0",
            "_view_count": null,
            "flex_flow": null,
            "width": null,
            "min_width": null,
            "border": null,
            "align_items": null,
            "bottom": null,
            "_model_module": "@jupyter-widgets/base",
            "top": null,
            "grid_column": null,
            "overflow_y": null,
            "overflow_x": null,
            "grid_auto_flow": null,
            "grid_area": null,
            "grid_template_columns": null,
            "flex": null,
            "_model_name": "LayoutModel",
            "justify_items": null,
            "grid_row": null,
            "max_height": null,
            "align_content": null,
            "visibility": null,
            "align_self": null,
            "height": null,
            "min_height": null,
            "padding": null,
            "grid_auto_rows": null,
            "grid_gap": null,
            "max_width": null,
            "order": null,
            "_view_module_version": "1.2.0",
            "grid_template_areas": null,
            "object_position": null,
            "object_fit": null,
            "grid_auto_columns": null,
            "margin": null,
            "display": null,
            "left": null
          }
        },
        "d1d96edad3444cb2bba7f366282592dc": {
          "model_module": "@jupyter-widgets/controls",
          "model_name": "DescriptionStyleModel",
          "state": {
            "_view_name": "StyleView",
            "_model_name": "DescriptionStyleModel",
            "description_width": "",
            "_view_module": "@jupyter-widgets/base",
            "_model_module_version": "1.5.0",
            "_view_count": null,
            "_view_module_version": "1.2.0",
            "_model_module": "@jupyter-widgets/controls"
          }
        },
        "5e0a2ae41e01410f9ece66f6fcd2f8ac": {
          "model_module": "@jupyter-widgets/base",
          "model_name": "LayoutModel",
          "state": {
            "_view_name": "LayoutView",
            "grid_template_rows": null,
            "right": null,
            "justify_content": null,
            "_view_module": "@jupyter-widgets/base",
            "overflow": null,
            "_model_module_version": "1.2.0",
            "_view_count": null,
            "flex_flow": null,
            "width": null,
            "min_width": null,
            "border": null,
            "align_items": null,
            "bottom": null,
            "_model_module": "@jupyter-widgets/base",
            "top": null,
            "grid_column": null,
            "overflow_y": null,
            "overflow_x": null,
            "grid_auto_flow": null,
            "grid_area": null,
            "grid_template_columns": null,
            "flex": null,
            "_model_name": "LayoutModel",
            "justify_items": null,
            "grid_row": null,
            "max_height": null,
            "align_content": null,
            "visibility": null,
            "align_self": null,
            "height": null,
            "min_height": null,
            "padding": null,
            "grid_auto_rows": null,
            "grid_gap": null,
            "max_width": null,
            "order": null,
            "_view_module_version": "1.2.0",
            "grid_template_areas": null,
            "object_position": null,
            "object_fit": null,
            "grid_auto_columns": null,
            "margin": null,
            "display": null,
            "left": null
          }
        },
        "31b119a282574b5f80e274465dc4eab0": {
          "model_module": "@jupyter-widgets/controls",
          "model_name": "ButtonStyleModel",
          "state": {
            "_view_name": "StyleView",
            "_model_name": "ButtonStyleModel",
            "_view_module": "@jupyter-widgets/base",
            "_model_module_version": "1.5.0",
            "_view_count": null,
            "button_color": null,
            "font_weight": "",
            "_view_module_version": "1.2.0",
            "_model_module": "@jupyter-widgets/controls"
          }
        },
        "a931f229cef2405286770f71c2806cf4": {
          "model_module": "@jupyter-widgets/base",
          "model_name": "LayoutModel",
          "state": {
            "_view_name": "LayoutView",
            "grid_template_rows": null,
            "right": null,
            "justify_content": null,
            "_view_module": "@jupyter-widgets/base",
            "overflow": null,
            "_model_module_version": "1.2.0",
            "_view_count": null,
            "flex_flow": null,
            "width": null,
            "min_width": null,
            "border": null,
            "align_items": null,
            "bottom": null,
            "_model_module": "@jupyter-widgets/base",
            "top": null,
            "grid_column": null,
            "overflow_y": null,
            "overflow_x": null,
            "grid_auto_flow": null,
            "grid_area": null,
            "grid_template_columns": null,
            "flex": null,
            "_model_name": "LayoutModel",
            "justify_items": null,
            "grid_row": null,
            "max_height": null,
            "align_content": null,
            "visibility": null,
            "align_self": null,
            "height": null,
            "min_height": null,
            "padding": null,
            "grid_auto_rows": null,
            "grid_gap": null,
            "max_width": null,
            "order": null,
            "_view_module_version": "1.2.0",
            "grid_template_areas": null,
            "object_position": null,
            "object_fit": null,
            "grid_auto_columns": null,
            "margin": null,
            "display": null,
            "left": null
          }
        },
        "0f42ea0639ea4239bd99a2ff54aa2ea7": {
          "model_module": "@jupyter-widgets/base",
          "model_name": "LayoutModel",
          "state": {
            "_view_name": "LayoutView",
            "grid_template_rows": null,
            "right": null,
            "justify_content": null,
            "_view_module": "@jupyter-widgets/base",
            "overflow": null,
            "_model_module_version": "1.2.0",
            "_view_count": null,
            "flex_flow": null,
            "width": null,
            "min_width": null,
            "border": null,
            "align_items": null,
            "bottom": null,
            "_model_module": "@jupyter-widgets/base",
            "top": null,
            "grid_column": null,
            "overflow_y": null,
            "overflow_x": null,
            "grid_auto_flow": null,
            "grid_area": null,
            "grid_template_columns": null,
            "flex": null,
            "_model_name": "LayoutModel",
            "justify_items": null,
            "grid_row": null,
            "max_height": null,
            "align_content": null,
            "visibility": null,
            "align_self": null,
            "height": null,
            "min_height": null,
            "padding": null,
            "grid_auto_rows": null,
            "grid_gap": null,
            "max_width": null,
            "order": null,
            "_view_module_version": "1.2.0",
            "grid_template_areas": null,
            "object_position": null,
            "object_fit": null,
            "grid_auto_columns": null,
            "margin": null,
            "display": null,
            "left": null
          }
        },
        "20fed46d5eb84acaa5f3e8e9cd9c55b9": {
          "model_module": "@jupyter-widgets/controls",
          "model_name": "TabModel",
          "state": {
            "_view_name": "TabView",
            "_dom_classes": [],
            "_titles": {
              "0": "Youtube",
              "1": "Bilibili"
            },
            "_model_name": "TabModel",
            "_view_module": "@jupyter-widgets/controls",
            "selected_index": 0,
            "_model_module_version": "1.5.0",
            "_view_count": null,
            "_view_module_version": "1.5.0",
            "box_style": "",
            "layout": "IPY_MODEL_9b3fc4d7550241d99e7f151ed7fddb12",
            "_model_module": "@jupyter-widgets/controls",
            "children": [
              "IPY_MODEL_34935a6498f745e08d360fda94613bd0",
              "IPY_MODEL_76ebe6435fe94af29225922d3097ed23"
            ]
          }
        },
        "9b3fc4d7550241d99e7f151ed7fddb12": {
          "model_module": "@jupyter-widgets/base",
          "model_name": "LayoutModel",
          "state": {
            "_view_name": "LayoutView",
            "grid_template_rows": null,
            "right": null,
            "justify_content": null,
            "_view_module": "@jupyter-widgets/base",
            "overflow": null,
            "_model_module_version": "1.2.0",
            "_view_count": null,
            "flex_flow": null,
            "width": null,
            "min_width": null,
            "border": null,
            "align_items": null,
            "bottom": null,
            "_model_module": "@jupyter-widgets/base",
            "top": null,
            "grid_column": null,
            "overflow_y": null,
            "overflow_x": null,
            "grid_auto_flow": null,
            "grid_area": null,
            "grid_template_columns": null,
            "flex": null,
            "_model_name": "LayoutModel",
            "justify_items": null,
            "grid_row": null,
            "max_height": null,
            "align_content": null,
            "visibility": null,
            "align_self": null,
            "height": null,
            "min_height": null,
            "padding": null,
            "grid_auto_rows": null,
            "grid_gap": null,
            "max_width": null,
            "order": null,
            "_view_module_version": "1.2.0",
            "grid_template_areas": null,
            "object_position": null,
            "object_fit": null,
            "grid_auto_columns": null,
            "margin": null,
            "display": null,
            "left": null
          }
        },
        "34935a6498f745e08d360fda94613bd0": {
          "model_module": "@jupyter-widgets/output",
          "model_name": "OutputModel",
          "state": {
            "_view_name": "OutputView",
            "msg_id": "",
            "_dom_classes": [],
            "_model_name": "OutputModel",
            "outputs": [
              {
                "output_type": "stream",
                "metadata": {
                  "tags": []
                },
                "text": "Video available at https://youtube.com/watch?v=Zr6r2kfmQUM\n",
                "stream": "stdout"
              },
              {
                "output_type": "display_data",
                "metadata": {
                  "tags": []
                },
                "text/html": "\n        <iframe\n            width=\"854\"\n            height=\"480\"\n            src=\"https://www.youtube.com/embed/Zr6r2kfmQUM?fs=1&rel=0\"\n            frameborder=\"0\"\n            allowfullscreen\n        ></iframe>\n        ",
                "text/plain": "<IPython.lib.display.YouTubeVideo at 0x7f7d21419090>",
                "image/jpeg": "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\n"
              }
            ],
            "_view_module": "@jupyter-widgets/output",
            "_model_module_version": "1.0.0",
            "_view_count": null,
            "_view_module_version": "1.0.0",
            "layout": "IPY_MODEL_9b69fdcbbea844caa2b1e5613e01d641",
            "_model_module": "@jupyter-widgets/output"
          }
        },
        "76ebe6435fe94af29225922d3097ed23": {
          "model_module": "@jupyter-widgets/output",
          "model_name": "OutputModel",
          "state": {
            "_view_name": "OutputView",
            "msg_id": "",
            "_dom_classes": [],
            "_model_name": "OutputModel",
            "outputs": [
              {
                "output_type": "stream",
                "metadata": {
                  "tags": []
                },
                "text": "Video available at https://www.bilibili.com/video/BV1eq4y1W7JG\n",
                "stream": "stdout"
              },
              {
                "output_type": "display_data",
                "metadata": {
                  "tags": []
                },
                "text/html": "\n        <iframe\n            width=\"854\"\n            height=\"480\"\n            src=\"https://player.bilibili.com/player.html?bvid=BV1eq4y1W7JG&page=1?fs=1\"\n            frameborder=\"0\"\n            allowfullscreen\n        ></iframe>\n        ",
                "text/plain": "<__main__.BiliVideo at 0x7f7d21422310>"
              }
            ],
            "_view_module": "@jupyter-widgets/output",
            "_model_module_version": "1.0.0",
            "_view_count": null,
            "_view_module_version": "1.0.0",
            "layout": "IPY_MODEL_b2dacecf8d4c44e1986fb5a1a35a8b0d",
            "_model_module": "@jupyter-widgets/output"
          }
        },
        "9b69fdcbbea844caa2b1e5613e01d641": {
          "model_module": "@jupyter-widgets/base",
          "model_name": "LayoutModel",
          "state": {
            "_view_name": "LayoutView",
            "grid_template_rows": null,
            "right": null,
            "justify_content": null,
            "_view_module": "@jupyter-widgets/base",
            "overflow": null,
            "_model_module_version": "1.2.0",
            "_view_count": null,
            "flex_flow": null,
            "width": null,
            "min_width": null,
            "border": null,
            "align_items": null,
            "bottom": null,
            "_model_module": "@jupyter-widgets/base",
            "top": null,
            "grid_column": null,
            "overflow_y": null,
            "overflow_x": null,
            "grid_auto_flow": null,
            "grid_area": null,
            "grid_template_columns": null,
            "flex": null,
            "_model_name": "LayoutModel",
            "justify_items": null,
            "grid_row": null,
            "max_height": null,
            "align_content": null,
            "visibility": null,
            "align_self": null,
            "height": null,
            "min_height": null,
            "padding": null,
            "grid_auto_rows": null,
            "grid_gap": null,
            "max_width": null,
            "order": null,
            "_view_module_version": "1.2.0",
            "grid_template_areas": null,
            "object_position": null,
            "object_fit": null,
            "grid_auto_columns": null,
            "margin": null,
            "display": null,
            "left": null
          }
        },
        "b2dacecf8d4c44e1986fb5a1a35a8b0d": {
          "model_module": "@jupyter-widgets/base",
          "model_name": "LayoutModel",
          "state": {
            "_view_name": "LayoutView",
            "grid_template_rows": null,
            "right": null,
            "justify_content": null,
            "_view_module": "@jupyter-widgets/base",
            "overflow": null,
            "_model_module_version": "1.2.0",
            "_view_count": null,
            "flex_flow": null,
            "width": null,
            "min_width": null,
            "border": null,
            "align_items": null,
            "bottom": null,
            "_model_module": "@jupyter-widgets/base",
            "top": null,
            "grid_column": null,
            "overflow_y": null,
            "overflow_x": null,
            "grid_auto_flow": null,
            "grid_area": null,
            "grid_template_columns": null,
            "flex": null,
            "_model_name": "LayoutModel",
            "justify_items": null,
            "grid_row": null,
            "max_height": null,
            "align_content": null,
            "visibility": null,
            "align_self": null,
            "height": null,
            "min_height": null,
            "padding": null,
            "grid_auto_rows": null,
            "grid_gap": null,
            "max_width": null,
            "order": null,
            "_view_module_version": "1.2.0",
            "grid_template_areas": null,
            "object_position": null,
            "object_fit": null,
            "grid_auto_columns": null,
            "margin": null,
            "display": null,
            "left": null
          }
        },
        "db021d4a5e6745c88851169adc8dd006": {
          "model_module": "@jupyter-widgets/controls",
          "model_name": "VBoxModel",
          "state": {
            "_view_name": "VBoxView",
            "_dom_classes": [
              "widget-interact"
            ],
            "_model_name": "VBoxModel",
            "_view_module": "@jupyter-widgets/controls",
            "_model_module_version": "1.5.0",
            "_view_count": null,
            "_view_module_version": "1.5.0",
            "box_style": "",
            "layout": "IPY_MODEL_97a0d22aa27748bdad7258739667dcf8",
            "_model_module": "@jupyter-widgets/controls",
            "children": [
              "IPY_MODEL_e9e75e3033f544df88c64f52a03d60f6",
              "IPY_MODEL_d78b0aac4c90413f9562e9c40454da7d",
              "IPY_MODEL_bb14366255a54123a973c03fb9583bef",
              "IPY_MODEL_e753e7cb682244e9a5f5f7e9be2b517a"
            ]
          }
        },
        "97a0d22aa27748bdad7258739667dcf8": {
          "model_module": "@jupyter-widgets/base",
          "model_name": "LayoutModel",
          "state": {
            "_view_name": "LayoutView",
            "grid_template_rows": null,
            "right": null,
            "justify_content": null,
            "_view_module": "@jupyter-widgets/base",
            "overflow": null,
            "_model_module_version": "1.2.0",
            "_view_count": null,
            "flex_flow": null,
            "width": null,
            "min_width": null,
            "border": null,
            "align_items": null,
            "bottom": null,
            "_model_module": "@jupyter-widgets/base",
            "top": null,
            "grid_column": null,
            "overflow_y": null,
            "overflow_x": null,
            "grid_auto_flow": null,
            "grid_area": null,
            "grid_template_columns": null,
            "flex": null,
            "_model_name": "LayoutModel",
            "justify_items": null,
            "grid_row": null,
            "max_height": null,
            "align_content": null,
            "visibility": null,
            "align_self": null,
            "height": null,
            "min_height": null,
            "padding": null,
            "grid_auto_rows": null,
            "grid_gap": null,
            "max_width": null,
            "order": null,
            "_view_module_version": "1.2.0",
            "grid_template_areas": null,
            "object_position": null,
            "object_fit": null,
            "grid_auto_columns": null,
            "margin": null,
            "display": null,
            "left": null
          }
        },
        "e9e75e3033f544df88c64f52a03d60f6": {
          "model_module": "@jupyter-widgets/controls",
          "model_name": "IntSliderModel",
          "state": {
            "_view_name": "IntSliderView",
            "style": "IPY_MODEL_410cb22a20d849789d5e855b460f1041",
            "_dom_classes": [],
            "description": "batch_size",
            "step": 5,
            "_model_name": "IntSliderModel",
            "orientation": "horizontal",
            "max": 250,
            "_view_module": "@jupyter-widgets/controls",
            "_model_module_version": "1.5.0",
            "value": 135,
            "_view_count": null,
            "disabled": false,
            "_view_module_version": "1.5.0",
            "min": 25,
            "continuous_update": true,
            "readout_format": "d",
            "description_tooltip": null,
            "readout": true,
            "_model_module": "@jupyter-widgets/controls",
            "layout": "IPY_MODEL_3ae51f49dd8345f29baba431a3c5209d"
          }
        },
        "d78b0aac4c90413f9562e9c40454da7d": {
          "model_module": "@jupyter-widgets/controls",
          "model_name": "FloatLogSliderModel",
          "state": {
            "_view_name": "FloatLogSliderView",
            "orientation": "horizontal",
            "_view_module": "@jupyter-widgets/controls",
            "_model_module_version": "1.5.0",
            "_view_count": null,
            "disabled": false,
            "readout_format": ".3g",
            "_model_module": "@jupyter-widgets/controls",
            "style": "IPY_MODEL_a3a9429e4174498a8655f0d4d44a04a6",
            "layout": "IPY_MODEL_46708d34fd5a404db8fcb7af55c9b485",
            "min": -5,
            "continuous_update": true,
            "description_tooltip": null,
            "_dom_classes": [],
            "description": "lr",
            "_model_name": "FloatLogSliderModel",
            "max": 0,
            "readout": true,
            "step": 0.1,
            "base": 10,
            "value": 0.002,
            "_view_module_version": "1.5.0"
          }
        },
        "bb14366255a54123a973c03fb9583bef": {
          "model_module": "@jupyter-widgets/controls",
          "model_name": "IntSliderModel",
          "state": {
            "_view_name": "IntSliderView",
            "style": "IPY_MODEL_79ad457182cf4f308c65f9384820a6f0",
            "_dom_classes": [],
            "description": "max_steps",
            "step": 5,
            "_model_name": "IntSliderModel",
            "orientation": "horizontal",
            "max": 500,
            "_view_module": "@jupyter-widgets/controls",
            "_model_module_version": "1.5.0",
            "value": 275,
            "_view_count": null,
            "disabled": false,
            "_view_module_version": "1.5.0",
            "min": 50,
            "continuous_update": true,
            "readout_format": "d",
            "description_tooltip": null,
            "readout": true,
            "_model_module": "@jupyter-widgets/controls",
            "layout": "IPY_MODEL_333a0902fda446729a3b13fc0d55d332"
          }
        },
        "e753e7cb682244e9a5f5f7e9be2b517a": {
          "model_module": "@jupyter-widgets/output",
          "model_name": "OutputModel",
          "state": {
            "_view_name": "OutputView",
            "msg_id": "",
            "_dom_classes": [],
            "_model_name": "OutputModel",
            "outputs": [
              {
                "output_type": "display_data",
                "metadata": {
                  "tags": [],
                  "image/png": {
                    "width": 630,
                    "height": 197
                  },
                  "needs_background": "light"
                },
                "image/png": "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\n",
                "text/plain": "<Figure size 648x216 with 3 Axes>"
              }
            ],
            "_view_module": "@jupyter-widgets/output",
            "_model_module_version": "1.0.0",
            "_view_count": null,
            "_view_module_version": "1.0.0",
            "layout": "IPY_MODEL_71ac5834295944918321ecf064e001f7",
            "_model_module": "@jupyter-widgets/output"
          }
        },
        "410cb22a20d849789d5e855b460f1041": {
          "model_module": "@jupyter-widgets/controls",
          "model_name": "SliderStyleModel",
          "state": {
            "_view_name": "StyleView",
            "handle_color": null,
            "_model_name": "SliderStyleModel",
            "description_width": "",
            "_view_module": "@jupyter-widgets/base",
            "_model_module_version": "1.5.0",
            "_view_count": null,
            "_view_module_version": "1.2.0",
            "_model_module": "@jupyter-widgets/controls"
          }
        },
        "3ae51f49dd8345f29baba431a3c5209d": {
          "model_module": "@jupyter-widgets/base",
          "model_name": "LayoutModel",
          "state": {
            "_view_name": "LayoutView",
            "grid_template_rows": null,
            "right": null,
            "justify_content": null,
            "_view_module": "@jupyter-widgets/base",
            "overflow": null,
            "_model_module_version": "1.2.0",
            "_view_count": null,
            "flex_flow": null,
            "width": null,
            "min_width": null,
            "border": null,
            "align_items": null,
            "bottom": null,
            "_model_module": "@jupyter-widgets/base",
            "top": null,
            "grid_column": null,
            "overflow_y": null,
            "overflow_x": null,
            "grid_auto_flow": null,
            "grid_area": null,
            "grid_template_columns": null,
            "flex": null,
            "_model_name": "LayoutModel",
            "justify_items": null,
            "grid_row": null,
            "max_height": null,
            "align_content": null,
            "visibility": null,
            "align_self": null,
            "height": null,
            "min_height": null,
            "padding": null,
            "grid_auto_rows": null,
            "grid_gap": null,
            "max_width": null,
            "order": null,
            "_view_module_version": "1.2.0",
            "grid_template_areas": null,
            "object_position": null,
            "object_fit": null,
            "grid_auto_columns": null,
            "margin": null,
            "display": null,
            "left": null
          }
        },
        "a3a9429e4174498a8655f0d4d44a04a6": {
          "model_module": "@jupyter-widgets/controls",
          "model_name": "SliderStyleModel",
          "state": {
            "_view_name": "StyleView",
            "handle_color": null,
            "_model_name": "SliderStyleModel",
            "description_width": "",
            "_view_module": "@jupyter-widgets/base",
            "_model_module_version": "1.5.0",
            "_view_count": null,
            "_view_module_version": "1.2.0",
            "_model_module": "@jupyter-widgets/controls"
          }
        },
        "46708d34fd5a404db8fcb7af55c9b485": {
          "model_module": "@jupyter-widgets/base",
          "model_name": "LayoutModel",
          "state": {
            "_view_name": "LayoutView",
            "grid_template_rows": null,
            "right": null,
            "justify_content": null,
            "_view_module": "@jupyter-widgets/base",
            "overflow": null,
            "_model_module_version": "1.2.0",
            "_view_count": null,
            "flex_flow": null,
            "width": null,
            "min_width": null,
            "border": null,
            "align_items": null,
            "bottom": null,
            "_model_module": "@jupyter-widgets/base",
            "top": null,
            "grid_column": null,
            "overflow_y": null,
            "overflow_x": null,
            "grid_auto_flow": null,
            "grid_area": null,
            "grid_template_columns": null,
            "flex": null,
            "_model_name": "LayoutModel",
            "justify_items": null,
            "grid_row": null,
            "max_height": null,
            "align_content": null,
            "visibility": null,
            "align_self": null,
            "height": null,
            "min_height": null,
            "padding": null,
            "grid_auto_rows": null,
            "grid_gap": null,
            "max_width": null,
            "order": null,
            "_view_module_version": "1.2.0",
            "grid_template_areas": null,
            "object_position": null,
            "object_fit": null,
            "grid_auto_columns": null,
            "margin": null,
            "display": null,
            "left": null
          }
        },
        "79ad457182cf4f308c65f9384820a6f0": {
          "model_module": "@jupyter-widgets/controls",
          "model_name": "SliderStyleModel",
          "state": {
            "_view_name": "StyleView",
            "handle_color": null,
            "_model_name": "SliderStyleModel",
            "description_width": "",
            "_view_module": "@jupyter-widgets/base",
            "_model_module_version": "1.5.0",
            "_view_count": null,
            "_view_module_version": "1.2.0",
            "_model_module": "@jupyter-widgets/controls"
          }
        },
        "333a0902fda446729a3b13fc0d55d332": {
          "model_module": "@jupyter-widgets/base",
          "model_name": "LayoutModel",
          "state": {
            "_view_name": "LayoutView",
            "grid_template_rows": null,
            "right": null,
            "justify_content": null,
            "_view_module": "@jupyter-widgets/base",
            "overflow": null,
            "_model_module_version": "1.2.0",
            "_view_count": null,
            "flex_flow": null,
            "width": null,
            "min_width": null,
            "border": null,
            "align_items": null,
            "bottom": null,
            "_model_module": "@jupyter-widgets/base",
            "top": null,
            "grid_column": null,
            "overflow_y": null,
            "overflow_x": null,
            "grid_auto_flow": null,
            "grid_area": null,
            "grid_template_columns": null,
            "flex": null,
            "_model_name": "LayoutModel",
            "justify_items": null,
            "grid_row": null,
            "max_height": null,
            "align_content": null,
            "visibility": null,
            "align_self": null,
            "height": null,
            "min_height": null,
            "padding": null,
            "grid_auto_rows": null,
            "grid_gap": null,
            "max_width": null,
            "order": null,
            "_view_module_version": "1.2.0",
            "grid_template_areas": null,
            "object_position": null,
            "object_fit": null,
            "grid_auto_columns": null,
            "margin": null,
            "display": null,
            "left": null
          }
        },
        "71ac5834295944918321ecf064e001f7": {
          "model_module": "@jupyter-widgets/base",
          "model_name": "LayoutModel",
          "state": {
            "_view_name": "LayoutView",
            "grid_template_rows": null,
            "right": null,
            "justify_content": null,
            "_view_module": "@jupyter-widgets/base",
            "overflow": null,
            "_model_module_version": "1.2.0",
            "_view_count": null,
            "flex_flow": null,
            "width": null,
            "min_width": null,
            "border": null,
            "align_items": null,
            "bottom": null,
            "_model_module": "@jupyter-widgets/base",
            "top": null,
            "grid_column": null,
            "overflow_y": null,
            "overflow_x": null,
            "grid_auto_flow": null,
            "grid_area": null,
            "grid_template_columns": null,
            "flex": null,
            "_model_name": "LayoutModel",
            "justify_items": null,
            "grid_row": null,
            "max_height": null,
            "align_content": null,
            "visibility": null,
            "align_self": null,
            "height": null,
            "min_height": null,
            "padding": null,
            "grid_auto_rows": null,
            "grid_gap": null,
            "max_width": null,
            "order": null,
            "_view_module_version": "1.2.0",
            "grid_template_areas": null,
            "object_position": null,
            "object_fit": null,
            "grid_auto_columns": null,
            "margin": null,
            "display": null,
            "left": null
          }
        },
        "4312b02f22ab446d91b98a03093fb511": {
          "model_module": "@jupyter-widgets/controls",
          "model_name": "TabModel",
          "state": {
            "_view_name": "TabView",
            "_dom_classes": [],
            "_titles": {
              "0": "Youtube",
              "1": "Bilibili"
            },
            "_model_name": "TabModel",
            "_view_module": "@jupyter-widgets/controls",
            "selected_index": 0,
            "_model_module_version": "1.5.0",
            "_view_count": null,
            "_view_module_version": "1.5.0",
            "box_style": "",
            "layout": "IPY_MODEL_add50cf9ec5c45dda2aaed8f6ce6b7d8",
            "_model_module": "@jupyter-widgets/controls",
            "children": [
              "IPY_MODEL_fe37a5a92d1841448b028dda7c11f928",
              "IPY_MODEL_0232bcc0bf224411b57359067ed40601"
            ]
          }
        },
        "add50cf9ec5c45dda2aaed8f6ce6b7d8": {
          "model_module": "@jupyter-widgets/base",
          "model_name": "LayoutModel",
          "state": {
            "_view_name": "LayoutView",
            "grid_template_rows": null,
            "right": null,
            "justify_content": null,
            "_view_module": "@jupyter-widgets/base",
            "overflow": null,
            "_model_module_version": "1.2.0",
            "_view_count": null,
            "flex_flow": null,
            "width": null,
            "min_width": null,
            "border": null,
            "align_items": null,
            "bottom": null,
            "_model_module": "@jupyter-widgets/base",
            "top": null,
            "grid_column": null,
            "overflow_y": null,
            "overflow_x": null,
            "grid_auto_flow": null,
            "grid_area": null,
            "grid_template_columns": null,
            "flex": null,
            "_model_name": "LayoutModel",
            "justify_items": null,
            "grid_row": null,
            "max_height": null,
            "align_content": null,
            "visibility": null,
            "align_self": null,
            "height": null,
            "min_height": null,
            "padding": null,
            "grid_auto_rows": null,
            "grid_gap": null,
            "max_width": null,
            "order": null,
            "_view_module_version": "1.2.0",
            "grid_template_areas": null,
            "object_position": null,
            "object_fit": null,
            "grid_auto_columns": null,
            "margin": null,
            "display": null,
            "left": null
          }
        },
        "fe37a5a92d1841448b028dda7c11f928": {
          "model_module": "@jupyter-widgets/output",
          "model_name": "OutputModel",
          "state": {
            "_view_name": "OutputView",
            "msg_id": "",
            "_dom_classes": [],
            "_model_name": "OutputModel",
            "outputs": [
              {
                "output_type": "stream",
                "metadata": {
                  "tags": []
                },
                "text": "Video available at https://youtube.com/watch?v=DP9c13vLiOM\n",
                "stream": "stdout"
              },
              {
                "output_type": "display_data",
                "metadata": {
                  "tags": []
                },
                "text/html": "\n        <iframe\n            width=\"854\"\n            height=\"480\"\n            src=\"https://www.youtube.com/embed/DP9c13vLiOM?fs=1&rel=0\"\n            frameborder=\"0\"\n            allowfullscreen\n        ></iframe>\n        ",
                "text/plain": "<IPython.lib.display.YouTubeVideo at 0x7f7d2167e3d0>",
                "image/jpeg": "/9j/4AAQSkZJRgABAQAAAQABAAD/2wCEABALDBoYFhwaGRkeHRwfIiglIiIiICguKiktLzUyMC03ODA4PFBFPT1POi0xRWFFS1NWW11bMkFlbWVYbFBZW1cBERISFxUXJRUVLVc3LTZXV1dXV1dXV1dXV1dXV1dXV1dXV1dXV1dXV1dXV1dXV1dXV1dXV1dXV1dXV1dXV1dXV//AABEIAWgB4AMBIgACEQEDEQH/xAAbAAEAAgMBAQAAAAAAAAAAAAAABAUBAgMGB//EAEEQAAIBAgQCBwYEBQIGAgMAAAECAAMRBBIhMRNRBSJBU2GS0hcyUnGBkRQjodEGFUKxwWLwM0NygqLhFsIksvH/xAAXAQEBAQEAAAAAAAAAAAAAAAAAAQID/8QAGxEBAQEBAAMBAAAAAAAAAAAAAAERAjFBYSH/2gAMAwEAAhEDEQA/APn8REBERAREQEREBERAREQEREBERAREQEREBERAREQEREBERAREQEREBERAREQEREBERAREQEREBERAREQEREBERAREQEREBERAREQEREBERAREQEREBERAREQEREBERAREQEREBERAREQEREBERAREQEREBERAREQEREBERAREQEREBERAREQEREBERAREQEREBERAREQET1/s4xve4fzv6I9nGN73D+d/RA8hE9f7OMb3uH87+iPZxje9w/nf0QPIRPX+zjG97h/O/oj2cY3vcP539EDyET1/s4xve4fzv6I9nGN73D+d/RA8hE9f7OMb3uH87+iPZxje9w/nf0QPIRPX+zjG97h/O/oj2cY3vcP539EDyET1/s4xve4fzv6I9nGN73D+d/RA8hE9f7OMb3uH87+iPZxje9w/nf0QPIRPX+zjG97h/O/oj2cY3vcP539EDyET1/s4xve4fzv6I9nGN73D+d/RA8hE9f7OMb3uH87+iPZxje9w/nf0QPIRPX+zjG97h/O/oj2cY3vcP539EDyET1/s4xve4fzv6I9nGN73D+d/RA8hE9f7OMb3uH87+iPZxje9w/nf0QPIRPX+zjG97h/O/oj2cY3vcP539EDyET1/s4xve4fzv6I9nGN73D+d/RA8hE9f7OMb3uH87+iPZxje9w/nf0QPIRPX+zjG97h/O/oj2cY3vcP539EDyET1/s4xve4fzv6I9nGN73D+d/RA8hE9f7OMb3uH87+iPZxje9w/nf0QPIRPX+zjG97h/O/oj2cY3vcP539EDyET1/s4xve4fzv6I9nGN73D+d/RA8hE9f7OMb3uH87+iPZxje9w/nf0QPIRPX+zjG97h/O/olf0p/CGIwpQVHonOCRlZuy3NRzgUESw/k9T4k+5/abDoWr8Sfc/tJorYln/ACOr8Sfc/tH8iq/En3P7SisiWn8iq/FT+5/aY/kVX4k+5/aNFZEs/wCR1fiT7n9o/kdX4k+5/aTRWRLP+R1fiT7n9pj+SVfiT7n9o0VsSy/klX4k+5/aP5JV+JPuf2jR9tiIlCIiAiIgIiICIiAiIgIiICIiAiIgIiICIiAiIgIiICIiAiIgIiICIiAiIgIiICIiAiIgIiICIiAnlf4yHXo/9L/3Weqnlf4yS70Odn/usUeXdZhQZuxtofvNlWZVgAzYLOipOipA45ZHxGJVDbVm5CT3Ww/tJGHwaKL2uTue0yX8a5mqH8fb3kIElUnDjMpuJa16KkWIEqxRFN7L7rdniIi3nGcsZZ0tAErDTLGSdgs2yRg+ixETSETjisSlJc7khb20Un9AJEo9OYaowVKhLFsv/DffkdNN+2BYxExAzE50K61EDocysLg850gIiYgZiVv8+w2v5hNiQbU6hFwbHULzliDAzERARNXcKLkgC4Gp7TtNBXQ1DTDDOAGK31AOgNvoYHWInKvXSmpeowVRa5JsNdBA6xEQETVnAtcgXNhc7k7CaLXQu1MMC6gFlvqAb2v87GB1iIgIiYgZicqWIRy6q1yjZWHI2Bt9iJ1gInLEYhKS5nbKtwL+LEKP1IinXVmdFN2QgMOVxcfpA6xMTMBERARExAzE1ZgASTYDUkyNhOkqNYkU2ubZtVYXHMXGo8RAlxEQEROVLEI7Oqm7UyFcciQGH6EQOsTE5VMVTRc7OoW+XMSLXva1+d9IHaJiZgJ5n+Lh1qPyf/6z0081/Fg61H5N/iB5l1m6rMss6IsisqkitWIqIvbcg/pLGmsh47CE1FKnVtPl4/aSxY7kZhp2HQzgA4ftJB94m4+0mnC5UXkD951qABb6AyX66cT8VuLVmc9UPa2h0nFaRBBtYAm45aSwpHrklgSeU5YpcxABtrcwtjlaFE6WmFE05NlE3tMAToBKj3kREITzlLGGhQ6SqqAWTEORfa+Sna/hPRSLT6OpKtZbZlrszVA2oOYBSPlYQK7FJWwgpVfxNSreoiVFfLlbOQt1AHVIJvpNsKKuJetU49SmEqvTpomWwyGxLAjrXOvytJFHoZFZC1StUFM3prUe6obWB2uT/wBV5mp0QhqNUWpVp8Q3qKj2Vza1z2g27QRAq8HWP4PCUlatndSctHIGYDc5nNlAuO2+ohMdXSlXbPUIwtdS2cLnNLKrODbcgMSCN8olmOh6apSWm702ogqjqVzBTuDcEEGw3HZMnDLh0rMqVK7VWBdbgljlC9tgBYCBoar18TUSnVKU6dKxZQDepU1B1+FQD/3iWNJSqqCxYgAFja5PPSVvQ/RXBwQosWV2BLsrHMGbk3gLAHwEsqSZVVbk5QBcm5Nu0nnAo6GHxmFw75TQIRqtTIc12BZn97+k2PIy3oYoVKC1gDZkDgdtiLyHU6DRsy8WuKTElqQqdU31Iv7wHgCBLJECgKBYAWA5CB50PXOB/HfiWFTh8bJ1eFa2bJa3LS97yTnqYjFvT41SnSFCk+VLA3YvfrWv2D7TsegKRumerwSbmhn/AC977b2v/Te3hNKvRj1MbVqZqlJTRpqr02ANwzlhY3B3G4+UCrxzValB6T1nJoYyjTzgKCwZqbKTpuubs7R9JYYjEVKdXFKKhPDwaOpIW+b83Xb/AEjwks9DUvw5oAuAWDl83Xzghs1z23Am/wDK0Ocszs1SkKLMSLlRm1236xgVhFcNg2/FVL1+rU0W3uF7qLaHTfXea169WlSxicVn4T0sjPYsA2W4217fvLk4FDwd/wAk3TX/AEldfoZpX6Mp1ONmzfnFC1j8NrW+0CB00tXiKlDE1VrVT1EHDyootmc3Umw+epIE3xzsaq0VqYl2WmC4o8Nd7gMzNbex0HjpO9XohWrPWFasjuADlYWsNgLg2G/3nSp0aC4qLVqJUyhGZSt3UXtmuCO06ix1gUVVqmIwuGZ61QMuL4dwFBOWoVViCPeAHyvfSTMX0hUoPjSDm4NCiyZgPebiAkkDwH2k1uhqfA4IaooFQ1QwbrB8xa9z4ntvOy9G071C134qJTfNrmC5gP8A9jeBXYpK2EFKr+JqVb1KaVFfLlbOQt1AHVIJvp2QErVzi/8A8mogpVWWmEyi1kU66a6naS6PQyKyFqlWoKZvTSo91Q2sDtcm3xEyTRwaJxbX/NYs2vaQF0+gEDXovENVw1Go3vPTVjbmQCZX9G06uJpLiTiaiFzmVFy5FW+ikEa6DUnn2S1wmHWjSSkl8qKFF97DQSH/ACZAxKVKyIWzNSR7IWvcnmNewEDeBBw+FepWx1q9SkBW04dhrw01JIN/lMJj3rYbB3esatWkKjLQyAsLC5LNYKLnsNzeXNDCKjVWW96rZmue3KF0+iiRR0OipRFN6lNqKZEdSubLpcG4IOw7IFPXxDvhK6VGduFi6CAuBntnotY20JGYi/hJOKxbUDj6ie9npKul7FlVQbdtr3tLD+T0slRCXIqVVqsS2uZctvp1BpOz9HUm4wZcwr2zqdjYZf7CBX0TWSrSyfiXUtlqiqFtYj3hyINtBpYnSRWavUwuJr/iaitSqYjhhQoUCm7WBFutoLf7vLjDdH8NgTXrVAvuq7iw0t2AFv8AuvMr0dTFGpR62SqahbXX8wktb7mBBz1MTiDT4r0kp0qbkUyAzM99yRsMsit0jXp0sQDULuuLWgjZVuoYU9bbE9Y/MyX0jhAKlNkTEAqmXi0GW9gfdZTvzvbntMdGdFA0KyV0IWvVNTIz3ZRZQLsD73VvcHQmBnDNVWvTC/iHptcVOMBZdLhgfmLW8fCcOj69RalMYp8RTrMxBBANFzropAIA5bHSWmGwBRszV61TQgB2FgD4KBfbc3M5J0QoZC1WtUVCGRHe6gjY3tmP/cTA26aqgYdkKlzW/KVQbXL6b9g3N/CVfRmINKoExJLYtctFUUADIf615ggXJ/02tzu8bg0rpke9rhgQSCGBuCDzvIY6EQutV6tZ6ye7ULC4HaAAAtj26a/QQJPSfG4FTgf8W3V2v42vpe17X0vKpOkhRp12zYjiU6JqcGuNdO0NbUXsDYkS7xFAVEKEsAe1WKkW1FiJGodGKrF6jvWcqUvUK6KdSAAALGw7OwQK7ErXw1FMQcS9Rs1PiK2XIwdgpCi3Vtm017NbznVrtT/mLocrCvSsfmlIH9DJ9LoOmpS71Xp0yDTpO90UjbsubdlybTvU6LpOK6tciuQX17QoUW5e6PrA0x1VxiMPTVyq1OKGtbsXTfkZSYLPRwNRxVdicUVswWw/PKsdtzfX9LS7odEqtRKjVatSomYKztfQi2wAH6Xmi9C0wtRc9TI9QVMmYWVs2c20vq0DioqYqviBx6lJKLimq0yAScqsWJIN/e0G2kirj67phk4uVzialCo6qOsEFTWx0B6o+stMT0Ur1DUWpVpOwAc02tmA2uCCL+I18ZsnRVJVoqoKigxdAD2kMCTfe+Yn5wK6+Ip1cVQpVWqMKCVKRqkEq7F1te23VB1lV0mxJQH8QGAOYV7XB02I0P0PKeoq9Ho71HJYNUprTOViNFLEWI1B6x1lB09hjTNO9WpVuGtny6baCwH6wKYjUTqizUDWdkEKPcDT7yurYt1qrYZgtifrf9pIrVKmSqysAFvZct72F5Dp0qh67ZVzCxv/AG3Aku+lme15iKwOHU6Xtf6yMLVAL201F5W46stOkVz6kdUWP3/9/wB5Nw6h6SEbZRa0nTpx8bVKYQ5jlFuQnBKlzeZ/C3a5JIHMyHVq2rFA4UlRbS+vZE8ndWJmqiRcMtbN1yGFjsNAbi3y7dDJiCVzbqJ0E1WbqZWXuIiICIiAmJmIGImYgYmYiAiIgIiICIiAiIgIiICIiAiIgIiICIiAiIgIiIGJmIgIiICIiAiIgIiICIiAiIgJ57+KPepfJv8AE9DPP/xMjFqVlJ0bYE8oFCo1nZZhKL/A3lM3NJ7GyNe2nVP0hVZjcVwVbXVi2UZdz+395UnpOqTowXxVQD9516Vw9Vq72pVLA5R1GOi6XvbwkZcFV7qp5G/aByqOzG7EkntJuZKwHSD0NAMydqn/AAZoMHV7qp5G/aZ/B1e6qeRv2hdWVfp9StqdJsx7WtYfbeUrksSzG5JuTO4wdXuqnkb9pt+Dq91U8jftJhbvltR6SqJa9nttmvcfUEGWeDx61OSt2qT/AGPb8t/nKdsHV7qp5G/aYTD11IIpVQQQR+W37So9QpmwmKKMyqeE63ANiDpfWdOC/wADeUwPbREQhETEDMRMQMxMTMBETEDMREBERAREQETEzAREQEREBERAREQEREBERAREQERMQMxMTMBExEDMRMQMxMTMBERARMTMBERARExAzERAREQEREBERAREQEREDSoCVIU2NtCRe30kHA12NZk4jVFC3OdArA3tpoLjxt9ZOqKWUgMVJG4tcfeRlwb5i7ViXylVOUAKCbnTtOggS5E6UrGnRLBsnWQFrA2BYA7+BkycsRQFRQpNrMreUhv8QIGFxpvUtUNemqg57KtmvYi+i+PhOydJAqTkJIdUsCpvmtYg3tbWbVsAGz2YgOVa1gQGUg3t42Fx4QMDqSzXJdHNgALrb9oGPx+hBptnDhAlxqSM2+1ra/SaJjmDVAytfOqIml7lQd9uZvOtXBZiWDFWLhwbA2IXL9Rb+80/l97sahzlw4aw0IGXbla/3gZPSFtDTbPnCZdNyCQb3tawin0hcrekyguUJJXRtfHUabzK4HrB2cs+cOTaw0BAAHYNZv8Agx8R/wCJxPrygYxWMFNlXLmZr26wG1r6nt12mtXHZWyhCxABYXUWvsNTqdOydMVhzUFgwA7QyBgfoZHPRgFsjWsqocyhrhdAde2BtX6TVArAZlKh75lBy8wCbnSbNjwDU6jZaejNpa5AIAG5JzCa1uj82cB7LUUKwyg7Cwty/wB7To2CUiqCTaqQTzBCqot5QYHKvi6gUHhspzoLXU3BNiN95Iw+Iz5gVKspsQSD2AjUeBmn4VmAz1C1mVhZQPdN/wBZ1p0crO1/fIPysAP8QOsREBERAREQEREBERAREQEREBOddWKkK2U87Xtz05zpOdZCy2Vyh7CLf5gROja7Oagzs6rlyl1Cvc3uCthptY2HbJ0i0sIylnNUl2ygtlAGVSTYD6n7yVAjY2sy5FSwao2UEi4GhYm3yBkdMUtMvfEcXIrMUIXN1d7WA/WTMThxUWxJBBBVhupGxEjv0eXzcWqWJRkFlAADbm3aYG1XHFVUmmQWvYM6D+53PKYXHhsvDRnugc7Cwbbc76HTwnSphburq1iFKm63uDb7HScqXR5pheHUK2RUa6g3C7HwOp+8DlhukLU1eoSfyabEWGpYkfcnS06npIANmQhlynKCpuGOUWINt5gdFpkyFiQKaJ2f0G4PzvNhgOqVZhqV1VAvukH/ABA54jpB1DAUiHVkuCV2c2BvfwIkrEYjIoJUksQAotck9nL/APk518EHLnMQXCDbbISw/UzpiMPxFUFrMpDBgNiPD76eMCKuPKtUzqRYoFTq3u1+3abN0moU3WzBguXMtutsc17W0My3R2bMXclmKm+UWBXaw5fObrhGCEB1DE7imoW3K3L6wMtjD1QKbF2BIW66Abkm9raj7zWpj7EKKbFsoZluoyg3tubE6HblNU6PyBcj5XXNrlFrMbkZeVwLRU6PuwfOM+UKxZFa9r2Nuw6mAPSIIuiM4CLUuLDqm/M76bTbD4tnrMuXqBEYNp/Vfx8P0m4wguxv7yBNhpa+v/lMUcJkcMG0yKhFt8t7G/1gSoiICIiAiIgIiICIiAiIgJwo4tKjuim5SwbTTW+x7dj9ptiVdqbCmwViLAnslfhEejUql1UItNB1FY3tm25+P0gWs5YiutNczXtcDQXNybDT5mdJE6Ups1IBb3z09QLkdddfpvA6YfFrUJUBlYalWUqbHt17J3lbisGwUuXqVWJQNsDkDXYAKB9e0ziaZtU4KMtH8u6hSt7MeJlXQ+7b5wLiJTtRuKnCRlpE0rAKy65+sQNCNLXMnY2kRQK0wQBl0XQ5bjMB9LwJUSqqJTKrw6TCiH/MUU2AIym3VtqL2vYTCUMxACMKJrXVSCAFyG+nYubsP+YFtOS4hScovcNl2O9s39pWNQCkhqZ4ArNdApIsVFuqN1zX05zahRuwsjBDXY2KkdU0yNj2XgWSV1bLlNwwJBANrDxnSUuGosKdNaSlGWnVU9Uiz9W2/wDebCmP+TTdPy3FS6sLm2gN/ea/br284Fu7hVLG9gLmwufsJkGU9bClU/LQgthqgawNy1ly35nebYjC5lxDFCXGU0zY3BCr7v15QLaJTdIIAMQXRi5BNN8pIC5Rs39Ot7jS/jLkbQMxEQEREBERAREQEREBERATEzI+NpO9MqjBSdCTfbt2207YGcNikq5shuFbKTbt305jWd5W4EPTatxFAUuoGRW+FRoOX/uWMDjisUlEAubBmCjTtMVsUlN6aMetUJCi3LWcekqPEFNSt1NTrfIqwP8AeQqVCqWpvUU5lqKg/wClQ12+pP6CBcxKfD0taVkYYgMOK5U6j+q7bEHsHy5TNDAg8EtT1JcPcHUakBuYvbQwLeJRmiwWmKi3pgOAGps4BznLdR/p2Mk0cIGamtQGoopt7ym2rCwIPaBz10gWPEGbLfrWvbwm0paOH/4ZZDnOHKglTfN4nsNuc3LlwuVanVw9RTdGHW6lhqN9DAt4lS2AW5HD0NC50Or8zzbx3llhr8NL3vlF773tA6xEQEREBERAREQEREBERAREQEREDEThjw5o1BTvnym1jY38JHwJy1ChWqrFbjPUzggG2mpsdR94E+IkPpUtweoxRi9MBhuLsB/mBMiVf4456QfqshcVVGxspIPyO4nenjHvTLooWp7tmuQbFgDpyHZAmzMr6GPc8NnVVSohYWYkiwB108Z0bGF2C0QrdUsSxIAF7cr33+0CXEhtiqhLBEUmmBnux3IvYacu0zk/SLFXamilVprU6zEEggm23hAsYkJ8fYOMvXBXIt/ez+6fvcf9pnM9J9Y2ClQ+S1znNjYkC3Ps5QLGJDXGk1TSy9ZbltdAv9JHieXz+sWhjKuhADLwFfKW6xOvbbfSBbROFHFB3ypqoRWLf9Ww+wv9RJECPUwdNmzMtzpfU2Ntri9j9Z3mYgIiICIiAiIgIiYgZiUT/wAVUASClTQkbDs+sx/8sw/wVPsP3gXsTz9b+K6ORsi1A1jluBa/Z2yw6H6VTFJcaVB7y/5HhAsZiJF6SVzSITNfMnumxtmGax+V4EqJC6PYBnQiorixId82hvYg3PIybARInSDt+WisV4j5Sw3AsWNvE5bfWcaitQenw2Zs+ZcjuTqFLAgm5G1vrAsYkB+lFChgt14fEbXUX0UfMm/lM0PSbKr3VGKoXGRjbSwIJI0Ov94FlEhnEVs+QJTzBAxuxtqSANvDecqnSZyKyKvuZyrFrjfTQGw0OpgWMSGuNYs1lUIqByzNbcE8vDecf5mwVyUUlUDi2YX1tbrAH6wLKJX1cbVXiXRPywGNmOqnlpvoZiv0nlZwApFM2IJOZtATlFvH6mBYxK38ZVU1iQrBaiKgvb3snh/qvOgruDVvlBQIWzOcg0JNtIE+JXjG1OGhKKrvchSWOg2NgL8vleaU8ZUqVKRAUI1N2IvrcEDTT7fOBZTMrsPi6jqopqGIpozF2OpYaC4G+m/jA6QdwTSRSBSWr1iR72bTQf6YFjE0pPmVW+IA/ebwEREBERAREQEREDSpTDKVN7EW0JB+4kdMAozHPULMMuct1gOQ5TvXrCmjO2yi+m/08Zph6ztfNSZNARcqfpod4HaaVqIcWba6t9VII/UTpOGLxHCTNlLaqABbUsQBv84CphEaotUjrqCAfA7g85pSwKKQbsQuiAm4W+mn05zejXY+/TNPYC7Kb3+RmauIClRuWYLp2EgnX7QMU8Kqina/5YsuvZa0V8KHIbMysARmU2NjuP0m2GrCogcCwPP7TCYmm18tRTa97MOzeByqYBW/qcXUK1mPWA5/vvNzhEs4tYOoQgcgCBb7zZsVTAuaiAXtcsLX5TZ66LbM6jNtcgX+UDRsIhdHI6yCy6/3/wB9pmBhAHLBnUE5iobqk84w+KFQKQCAUD6kdvZv/wCpumIRgWV1IG5DC0DQYJAQdcwYtmvqSd7+Hh4DlNVwaplZL3RMgGbRgNgZmrj6SoXLqVBCmxB1JtOn4hMwXOuY6gZhc/SBx6OwvCp20zMxZrHQE9g8ALD6SXOdWsqC7sFHMkCDWQWuy67ajW+1oHSJzWuhYoHUsN1BFx9Iq1lQXdlUcyQIHSJrxBzG19+zn8pzbE0xa9RBe1rsNb7QO0TnUropAZ1UnYEgEzD4hFNmdQb2sWAN4HWJzNdA2QuoY/03F/tMUawccjyuCRqR2HwgdYnJsTTFruoze7dhr8p0gUL/AMKUSxPEqakn+nt+kx/8So95U/8AH9pfzMDzlb+E6YRij1C1jlBK2J7OyWHQ3RC4VOxqhHWb/A8JZRATStSDqVJI8VJBH1E6TjisQKaZiCdQAo3JOgAgc6eCVbnO5Zst3LdYhTcC/LfTxMkzlQqMwOamUI5kEH5ETtA5V6C1FysLjQ72II2IPYZzoYJUbOWd2tYF2vYeE2xWJ4YXqlmZsqqLanU7nwBnP8cFtxVNIlsoDFddL3BvtA2TA0wKgy6VCSwJ5/2G/wB4/BAoys7uGFus3Z/vtnXjpnyZ1z/DcX+0GumbJnXP8Nxf7QI9bBl6xfOygoF6rWO5J/vMnAJspZRkCEKd1F7A/c676zfC4xKoWzDMVzZbjMB8pvTxCMSFdSV3sQbfOBp+DSzLa4dQrAncAW/zNTgVIOZna65SSey94qdIUVXNxFK5gtwwOpNp0GIWzE9VVNrki2wN9/HtgYqYVWz3v+YAG17Bf95q2DBcsGdbkFgrWDW01+gG0703DAFSCDsQbiaJiabEhXUkb2YQOb4JSzMS3WKsRfS62sf/ABExXwKVM1ywzFSbG3u7To2KpgZjUQC9r5ha+82euigFnUA7EkWPygcvwY6pzvmW9mvrY2uNttB9phcCgyWLDICBruDqQfsJth8WHtZSLgm5I7DbnebpiKbAlXUhdyGGnzgcT0elgFLrZQhyta6jYH7nXedFwiC9ha6BLDbKt7W8xmtXHUlRnLqQnvWINvCd84y5rjLa976W+cBTQKoUbAAD6TaR6WMR2ZVIIVQ2YEW1JH+JuuJplS4dSo3YMLD6wOsTl+Ip5M+dcnxZhb7w2JphQxdQp2JYWP1gdYnKpiEQXZ1UeJAmoxSGpwwwz5c1rjaB3iIgIiIEbpCgatFkXfQjW2oII17NpEw1JkdqiYdqahLFMyXdr3B0a2mupOt5ZxASN0jQNSlkAvd0JF7aBgT+gMkzMCvr4IIoNJCSHRiMxJIB7Mxmi0KjVC5plQa6vYlb5RTy30POWUQIK4ZvwbUycjFGFydr37RIlS9Rwq0gjfh6oAuh3yAbHble0uZpTool8iqt97ACBDq0GBphUOQIQQgS4OnPs32nHC4d6WQtSL/kqhAK9Ugm+52NxtylrECnGAqmjky2PARdxuCSV+2nLWbNhHdXJWpmIVbPwhcBgf6eWu/OW0QK3G4RiapVLgrSsBbUqxJH2g0nFbMlN1zMrNm4ZS1gCd8wIAtp2iWUQImMRy9MgMVGa+XLmvpb3uzf9JwwODZWpF0tlpuL9XQlgRt4cpZRAqcFg3U01cVPyzfN+VlJsRe462t/11nfHUX4q1FDkBStkyXBJvez6Wk+IFTVwDsiIqkZVJOYjrXN+GcvZz7NrTLEmrW/ILlqaC3U00OhudvleWsxYXvbUwKf8DUW6tncMiKSnDOygEHPrvc/Wd6uCbJiQFuXUBCSLmygb/OWUQK56TitdEazOpYnIUIsAT8QNh2donM4SqtNDTFnIdG1GisxIb6b/Uy1iBVVsEyOwVXNNkVAEFI2Ci1jn7Pl4yzoplRVuTYAXO+nObTMBERAREQEidJUDUQZRmKsGy3tmA3F/kTJcQK3BU2ptUZaLIjZAtO63vc5msDYbjt7JZTEQI+OTMljR4ovqtxf5i+l/qJATD1AA3DfItVWWmzqzgWIOpO1zteW8QKtsM+VqXD1NXPxbra2bNfe9wNNv0nbDoyMVaiWvUZuJdbWJJB1N7gabSfMQKylg3VMMAgDJmzbaXRh9dSNpzp4RzbPTcjgujglBcnLoMuw0Mt4gVBo1SjXRiA1MqHFPOcrXYdU2tba/jOr4d8xfhkgVs+S63IyBedrg8+XyllECOVL0XGXhFg29ri99Tb7yuQ5noqKQUrTcaMpBGUDSx92/O0uZpToIpJVFUnewAvAg/h3VaChCFVbMEyXDWFt+ze9vCc8Nh3pcNmpF7IUsCl161+YFiLbchLWIFOMBVNMKFyHg1F3FgSwIH2Ey+Ed0qdSoGNIoA3CAN+zq8rdvOW8QK3G4NmNXIgINEKNhcgk2/WSMZTapRGVNbq2Q21AIJXl2fKSogVNfDVKpqstMpmWnYEpdsrEkdo25zb8KWV2ZKxJyaE0geqbgi2mnjLSIFYtKr1HamWyO3V6gYggAMQDluNfofpFai+dai03UZSuVOESpJv/AFaa9tj2SziBAw2Dyupy9UUsozZbgk3tp/jScsLSeiKbNSJy4cKbFdGXW2/00lpEDCNdQbEXANjuJtMTMBERAREQEh9KF+EMjZTnp62vuwHPxkyaVqSupVhcHs/WBArYmqBWdWQCjupX3rKGNzfS99P8yRi67KqZbBnZVBYaC/aR/vWbPgqTEEoCRbnrba/O3jOtWkrqVYAg9hgRKj1VZKWdcz5jnybBbaWvvrOa4qqStO6BuIyM2U2NlzXAvodv1kr8FSy5cgtfNub32vfe/jN0w6KFCqBluV8Cd/7wINDFVfyizKQ7OhAW3uhtb3/0beMzQxNW1BnZSKo1ULaxylgQb+Em/h0sAFAyklfAm9z+p+844To9KQSwBZVC5v72HZeBxXFVGp0CCA1VCSbbHLfQX5zhh8VV4dBMxLNSDlghY9lha/jqf3lhSwVJCCqAEXt4X3tyHhMfgKWVVyWC+7Ym4+RvcQN8LUZqYLrlbW4tbY2vbx3+s7TVECgKosBoAJtAREQEREBERAREQEREBERAREQEREBERAREQI2MquvDCEAu+Uki+liefhItPE1QVLMpHFNMgLa++t776SwemGsSL5TceB2/zMcBPhHvZv8Au5wK/CVajCmiFUBRmPVJ2awtc+MzhcWWKuy3Jooxygk3JOwvtJ1Ogi2yqBYED5E3P6zNOgi2yqBYZR8h2QIF6jVarIwTqIbOt/i310mlfpFzTNSnstMOy5LjUZrFr8uQ0k6tgqTklkBJFieY5HmPCKuDpvfMgNxlO9iORHbAhvXqU3rnMCL01UEGwLWAJ12F9Ztikqg0QaikmroclrdR73F9ZMbCoxYlQSy5WvsR4jaYp4OmtrKLg3ubk3sRufAkfWBCbG1BZLguarJmCE6Bc3u33tp+vhNjiK+X3ToxBYU9StrghCeeh+W2smPhUYEFQQTmPz5/PSanBUyoXLoDcam9zvrvA3w1TOitcNcbgEfodvlOs1poFUKoAA0AE2gIiICIiAiIgIiICIiAiIgIiIGJBOIrrVpoy0rOT7rNcAbnb5feTpF4LipUq9UtYLTBJAAGpubaXP8AYQJc4Yuvw0DWv1kXzMB/mdpHx2H4tPJoeshIOxAYE/oIGMRjFRkGlmzZjfYKpbYfKdKuKpoLswAylvoLXP6iR2wFNalN0p00C5s1lAuCpHYJAFE/hsQ18wyNTpaH3Be36n6hRAtUxlNs1mtlFzmBXTnr2eMwuPpFWbNYKLnMrDTnYjbxkbEYKpWLZ8qflsi5STcsVNzoNOqNPEzDYFnR7qA5QoCarvvYnfYaCBJbpCkP6jtewRibXIvYDbTeZq46moBLaEZrhWItzJA0HiZxqmoMSxpqrflL7xI/qbtsZx/l9QKFBzDh5R12UK2pJsNwbj7QJxxdPPkzda17WOg3vflpNVx9IhjmICi5zKw056jbxnJMI4WpZgrNTVVYdhAIv9zOLdHuwbQLenlsajNre+5gST0lR16x0Nj1G0vsTpoPHab1MZTVsrNrpfQkC+1zaw+s5YjCM3HsR+YiqPmL7/eca2AYvU0zJVNz+a62uApBA0O0CQnSCE1QbrwjYkggbDw8ZsMdSyli1gCAcwIIJ2uCLyPXwLsaoFgGdKinMQbqFFjbX+ncHtgYJiCSoVi1M61XfRGzbn6wJGJxq06QqEMVNrdU318LXE3/ABSWZs2iC7aHTS/9jNcdRL0mVbX0IvtoQf8AEiYjC1mFYAJaso1LHqnKFI2123gSnx1JWKltQQp6rEAmxFzaw3G8HGqt85A65QWuSSBfa2/hOVTBsVri4/McMPoqDXymFwjCoGuLcVn+hTL/AHgdfx9LKGzGxJUDK2a43GW176cp1o1lqC6G4uR9RvK+rSNFhULIDxKnvEhbPrvbQ6CSOjCSjMf6qjkaEXF/HsgTIiICIiAiIgIiICYa9jbfsvMzECFSxFbjLTdaeqliVZjYbDcDc/2MnSJSoupqP1S7sO02CDQC9uVz8zJUDniKwp02c7KCZxw2MvSZqoFNkJFQXuFI13+RB+sY/DNVCIGyrmDMRv1dRa4I9632kZ+jal3tVLhwp69vfQgr7oGhGh+UCRT6QVnYahVQMSQwOpI2Iv2TcY+llLZiACAcysCCdtCL6yPVw1Zy7dVCyKoAc9jEnrWFrg2uJxr4Z1uwAGZ6NlzM1sra3P1gSq3SdNUzDMbOqkZWBGYgai1+2/jOtPFAuykgHNZd7nqhtdNDY7SLWwlV87kKHJpZVzG1qbZtTbc69k2fBuRUYZRUNRaiamwIVVsfA2I+RgSHxtNd2J1K2CsTcb6AX0vOi1VKZwQVte/hIDdHsvDK9YqpVhnZLkkEm6+N9PGSqeHy0SgABIb+onVrk6nXcwNP5nR+I7X0R9RzGmo8RN6mOpra7bjNoCbDmbDQeJmiYVgV1GlHh/XT9NJGXo91tazXpopHFdLFRbs3EDtiOk1TjAAk06YfUGx37beH+7TuuNpnN1rZBdswI056jUabiRK+AcioiBQr0Vpi7HQrmt2ajrb+E64vBtUZiCBdFAvzVswv4QOyY2mQxzWCi7ZgVIHOxANpyXpFC5GyhMxJVgd7DQi85VsHUqlmbKjZQFAJIuGDamw0uAPvNnw9R2ZnSnqgULmO4N97aeECZRrK4ut97aqQfsRedJFwNJ0DBzoT1QXL5RYaZjqdbyVAREQEREBERAREQEREBERAREQMRMxAxMxEDEzEQEREBERAREQEREBERAxEzEBERAREQEREBERAREQEREBERATEzEDEzEQEREBERAREQEREBERAREQEREBERAREQESv4zfEY47fEYFhEr+O3xGOO3xGBYRK/jN8RmeM3xGBPiV/Gb4jHGb4jAsIlfxm+Ixxm+IwLCJA4zfEZjjN8RgWESv47fEY4zfEYFhEr+M3xGOM3xGBYRK/jN8RjjN8RgWESv4zfEY4zfEYFhEr+M3xGOM3xGBYRK/jN8RjjN8RgWESv4zfEY4zfEYFhEr+M3xGOM3xGBYTEgcZviM44nHmmB1tTtc2A21J5aj7wLWJ53pHpHEU6d1zVDbXIuXRtiCSdRY6ePZLCniKhFybcrG+nZraBZxK/jN8RjjN8RgWESv4zfEY4zfEYFhEr+M3xGOM3xGBYRK/jN8RjjN8RgWESv4zfEY4zfEYFhEr+M3xGOM3xGBYRK/jN8RjjN8RgWESv4zfEY4zfEYFhEr+M3xGOM3xGBYRK/jN8RjjN8RgWESv4zfEY4zfEYFhEr+M3xGOM3xGBYRK/jN8Rmj4vLbNUC32uQLwLOJWJi8xIWoCRuAQbfOb8ZviMDSU1ahilquaRIVqhYWKcqYGbN/To9wNdp6HhLyjhLygedNLHMxBcopYm4NO4Fqm176X4fZzmThsWxGZswJBZTksLNTItpfYP28vCeh4S8o4S8oHnqmExFbCvSqk5y62a6g5bqSeroO3t/aQn6JxbZ2Zr1H1ZlYCxFOqvVvtvT+5nruEvKOEvKB5tsLilJZAbm+pKFhfh+Nr9U9s4YgYxy1IlizUyLAAU/8Ahjc234l9QbfY29Xwl5Rwl5QPPBcbnQE6AHORksT19gdhfJYfc737Lh8TUoIDWNKqHuzWViygnS2wv8z9Zd8JeUcJeUChx2CqPVdlXNmycOpntwre9p+um97HSRkp4upZiauUVAbXpgkB2Gmnu5baHfsnp+EvKOEOUDzCYTHLTstUqVSyqOHluKaW/p+MN27ToaOLVjkzZQtSwDU8pYsSuh10X7k9lp6PhLyjhLygeaXCYsurOSTYblMoy1CQSOeUrt4zPBxxQ/mOrBWIuaVy+UWBsLZS1/HnPScJeUcJeUCNMyRwhyjhLygR4kjhLyjhLygR4kjhLyjhLygR4kjhLyjhLygR4kjhLyjhLygR4kjhLyjhLygRpWdJ4sI6dVmzMKbWS4W5Da30ta/6S84S8pq+HRiCRe1+0210OkCm9xlt12JJ4bOCyHW2UDb3tT2CT6FPIire+VQL/IWkpcOg2UD5TbhLygR4kjhLyjhLygR4kjhLyjhLygR4kjhLyjhLygR4kjhLyjhLygR5iSeEvKOEvKBGmZI4S8o4S8oHlh0ViOJbMOHxCB1v+WrcVDbnm6p8J2RMflW765utolxoNd9VvmPYdZ6PhLyjhLygUvR2GrBKiVicpvkKtaykt2jXNre/iLbTXCYKutLCDjGnwlAqpYNn0Atf/e8vOEvKOEvKB5ypgq3GqPTpgNxC61M4F1yWy217eYt2zNA4viUkdm6xJc2HVVSCNRcXOq2ve2vZeei4S8o4S8oFGMHW/HCsSpp5GXc9UdXKLbXuGN/HwE2bAVDh69OrU47OXNO6hctx1R9D2y64Q5RwhygeaxGExPDejSBRLHKVZB/y/dHbfPc38d50anjS5AdlUsupNLRcy+7p72TNe+hO09Dwl5Rwl5QPM1MLjLNTX3CK3aljm4mXxB1T995YNhW49CprZUZW62guBbT5318JbcJeUcJeUCPI2LoF7FdGAIDZiLXtrpvtsZY8JeUcJeUCuw9AozHZTfTMTck3vrtvsJJkjhLyjhLygbxEQEREBERAREQEREBERAREQEREBERAREQEREBERAREQEREBERAREQEREBERAREQEREBERAREQEREBERAREQEREBERAREQEREBERARPmNH+PcWihRToWG11c/8A3m/tCxndYfyv64H0uJ809oWM7rD+V/XHtCxndYfyv64H0uJ809oWM7rD+V/XHtCxndYfyv64H0uJ809oWM7rD+V/XHtCxndYfyv64H0uJ809oWM7rD+V/XHtCxndYfyv64H0uJ809oWM7rD+V/XHtCxndYfyv64H0uJ809oWM7rD+V/XHtCxndYfyv64H0uJ809oWM7rD+V/XHtCxndYfyv64H0uJ809oWM7rD+V/XHtCxndYfyv64H0uJ809oWM7rD+V/XHtCxndYfyv64H0uJ809oWM7rD+V/XHtCxndYfyv64H0uJ809oWM7rD+V/XHtCxndYfyv64H0uJ809oWM7rD+V/XHtCxndYfyv64H0uJ809oWM7rD+V/XHtCxndYfyv64H0uJ809oWM7rD+V/XHtCxndYfyv64H0uJ809oWM7rD+V/XHtCxndYfyv64H0uJ809oWM7rD+V/XHtCxndYfyv64H0uJ809oWM7rD+V/XHtCxndYfyv64H0uJ809oWM7rD+V/XHtCxndYfyv64H0uJ809oWM7rD+V/XHtCxndYfyv64H0uJ809oWM7rD+V/XHtCxndYfyv64H0uJ809oWM7rD+V/XHtCxndYfyv64H0uJ809oWM7rD+V/XHtCxndYfyv64H0uJ809oWM7rD+V/XHtCxndYfyv64H0uJ809oWM7rD+V/XHtCxndYfyv64H0uJ809oWM7rD+V/XHtCxndYfyv64H0uJ809oWM7rD+V/XHtCxndYfyv64H0uJ809oWM7rD+V/XHtCxndYfyv64H0uJ809oWM7rD+V/XHtCxndYfyv64H0uJ809oWM7rD+V/XHtCxndYfyv64Hk4iICIiAiIgIiICIiAiIgIiICIiAiIgIiICIiAiIgIiICIiAiIgIiICIiAiIgIiICIiAiIgIiICIiAiIgIiICIiAiIgIiICIiAiIgIiICIiAiIgIiICIiAiIgIiICIiAiIgIiICIiAiIgIiICIiAiIgIiICIiAiIgIiICIiAiIgIiICIiAiIgIiICIiAiIgIiICIiAiIgIiICIiAiIgIiICIiAiIgIiICIiAiIgIiICIiAiIgIiICIiAiIgIiICIiAiIgIiICIiAiIgIiICIiAiIgIiICIiAiIgIiICIiAiIgf/Z\n"
              }
            ],
            "_view_module": "@jupyter-widgets/output",
            "_model_module_version": "1.0.0",
            "_view_count": null,
            "_view_module_version": "1.0.0",
            "layout": "IPY_MODEL_311a69f1206f4b45bea38c4fbfc044ac",
            "_model_module": "@jupyter-widgets/output"
          }
        },
        "0232bcc0bf224411b57359067ed40601": {
          "model_module": "@jupyter-widgets/output",
          "model_name": "OutputModel",
          "state": {
            "_view_name": "OutputView",
            "msg_id": "",
            "_dom_classes": [],
            "_model_name": "OutputModel",
            "outputs": [
              {
                "output_type": "stream",
                "metadata": {
                  "tags": []
                },
                "text": "Video available at https://www.bilibili.com/video/BV1MK4y1u7u2\n",
                "stream": "stdout"
              },
              {
                "output_type": "display_data",
                "metadata": {
                  "tags": []
                },
                "text/html": "\n        <iframe\n            width=\"854\"\n            height=\"480\"\n            src=\"https://player.bilibili.com/player.html?bvid=BV1MK4y1u7u2&page=1?fs=1\"\n            frameborder=\"0\"\n            allowfullscreen\n        ></iframe>\n        ",
                "text/plain": "<__main__.BiliVideo at 0x7f7d2ba21890>"
              }
            ],
            "_view_module": "@jupyter-widgets/output",
            "_model_module_version": "1.0.0",
            "_view_count": null,
            "_view_module_version": "1.0.0",
            "layout": "IPY_MODEL_f5917f0762884beaae4851d824123073",
            "_model_module": "@jupyter-widgets/output"
          }
        },
        "311a69f1206f4b45bea38c4fbfc044ac": {
          "model_module": "@jupyter-widgets/base",
          "model_name": "LayoutModel",
          "state": {
            "_view_name": "LayoutView",
            "grid_template_rows": null,
            "right": null,
            "justify_content": null,
            "_view_module": "@jupyter-widgets/base",
            "overflow": null,
            "_model_module_version": "1.2.0",
            "_view_count": null,
            "flex_flow": null,
            "width": null,
            "min_width": null,
            "border": null,
            "align_items": null,
            "bottom": null,
            "_model_module": "@jupyter-widgets/base",
            "top": null,
            "grid_column": null,
            "overflow_y": null,
            "overflow_x": null,
            "grid_auto_flow": null,
            "grid_area": null,
            "grid_template_columns": null,
            "flex": null,
            "_model_name": "LayoutModel",
            "justify_items": null,
            "grid_row": null,
            "max_height": null,
            "align_content": null,
            "visibility": null,
            "align_self": null,
            "height": null,
            "min_height": null,
            "padding": null,
            "grid_auto_rows": null,
            "grid_gap": null,
            "max_width": null,
            "order": null,
            "_view_module_version": "1.2.0",
            "grid_template_areas": null,
            "object_position": null,
            "object_fit": null,
            "grid_auto_columns": null,
            "margin": null,
            "display": null,
            "left": null
          }
        },
        "f5917f0762884beaae4851d824123073": {
          "model_module": "@jupyter-widgets/base",
          "model_name": "LayoutModel",
          "state": {
            "_view_name": "LayoutView",
            "grid_template_rows": null,
            "right": null,
            "justify_content": null,
            "_view_module": "@jupyter-widgets/base",
            "overflow": null,
            "_model_module_version": "1.2.0",
            "_view_count": null,
            "flex_flow": null,
            "width": null,
            "min_width": null,
            "border": null,
            "align_items": null,
            "bottom": null,
            "_model_module": "@jupyter-widgets/base",
            "top": null,
            "grid_column": null,
            "overflow_y": null,
            "overflow_x": null,
            "grid_auto_flow": null,
            "grid_area": null,
            "grid_template_columns": null,
            "flex": null,
            "_model_name": "LayoutModel",
            "justify_items": null,
            "grid_row": null,
            "max_height": null,
            "align_content": null,
            "visibility": null,
            "align_self": null,
            "height": null,
            "min_height": null,
            "padding": null,
            "grid_auto_rows": null,
            "grid_gap": null,
            "max_width": null,
            "order": null,
            "_view_module_version": "1.2.0",
            "grid_template_areas": null,
            "object_position": null,
            "object_fit": null,
            "grid_auto_columns": null,
            "margin": null,
            "display": null,
            "left": null
          }
        },
        "c5944a9711434504a03f6f4f2b46a9e1": {
          "model_module": "@jupyter-widgets/controls",
          "model_name": "HBoxModel",
          "state": {
            "_view_name": "HBoxView",
            "_dom_classes": [],
            "_model_name": "HBoxModel",
            "_view_module": "@jupyter-widgets/controls",
            "_model_module_version": "1.5.0",
            "_view_count": null,
            "_view_module_version": "1.5.0",
            "box_style": "",
            "layout": "IPY_MODEL_187395b705114fddae59e075eac8ce36",
            "_model_module": "@jupyter-widgets/controls",
            "children": [
              "IPY_MODEL_47be003063f14bfa9dde23f679d301f5",
              "IPY_MODEL_a1c3012f8bde446a896642b7458815d0"
            ]
          }
        },
        "187395b705114fddae59e075eac8ce36": {
          "model_module": "@jupyter-widgets/base",
          "model_name": "LayoutModel",
          "state": {
            "_view_name": "LayoutView",
            "grid_template_rows": null,
            "right": null,
            "justify_content": null,
            "_view_module": "@jupyter-widgets/base",
            "overflow": null,
            "_model_module_version": "1.2.0",
            "_view_count": null,
            "flex_flow": null,
            "width": null,
            "min_width": null,
            "border": null,
            "align_items": null,
            "bottom": null,
            "_model_module": "@jupyter-widgets/base",
            "top": null,
            "grid_column": null,
            "overflow_y": null,
            "overflow_x": null,
            "grid_auto_flow": null,
            "grid_area": null,
            "grid_template_columns": null,
            "flex": null,
            "_model_name": "LayoutModel",
            "justify_items": null,
            "grid_row": null,
            "max_height": null,
            "align_content": null,
            "visibility": null,
            "align_self": null,
            "height": null,
            "min_height": null,
            "padding": null,
            "grid_auto_rows": null,
            "grid_gap": null,
            "max_width": null,
            "order": null,
            "_view_module_version": "1.2.0",
            "grid_template_areas": null,
            "object_position": null,
            "object_fit": null,
            "grid_auto_columns": null,
            "margin": null,
            "display": null,
            "left": null
          }
        },
        "47be003063f14bfa9dde23f679d301f5": {
          "model_module": "@jupyter-widgets/controls",
          "model_name": "FloatProgressModel",
          "state": {
            "_view_name": "ProgressView",
            "style": "IPY_MODEL_aa6d40d4cbc14304abc4a676160b0f0f",
            "_dom_classes": [],
            "description": "100%",
            "_model_name": "FloatProgressModel",
            "bar_style": "success",
            "max": 2,
            "_view_module": "@jupyter-widgets/controls",
            "_model_module_version": "1.5.0",
            "value": 2,
            "_view_count": null,
            "_view_module_version": "1.5.0",
            "orientation": "horizontal",
            "min": 0,
            "description_tooltip": null,
            "_model_module": "@jupyter-widgets/controls",
            "layout": "IPY_MODEL_31c143bdf96544b793d88f25e97f8cfe"
          }
        },
        "a1c3012f8bde446a896642b7458815d0": {
          "model_module": "@jupyter-widgets/controls",
          "model_name": "HTMLModel",
          "state": {
            "_view_name": "HTMLView",
            "style": "IPY_MODEL_dfac13c3066f4fb59941c1866db8f725",
            "_dom_classes": [],
            "description": "",
            "_model_name": "HTMLModel",
            "placeholder": "​",
            "_view_module": "@jupyter-widgets/controls",
            "_model_module_version": "1.5.0",
            "value": " 2/2 [00:24&lt;00:00, 12.47s/it]",
            "_view_count": null,
            "_view_module_version": "1.5.0",
            "description_tooltip": null,
            "_model_module": "@jupyter-widgets/controls",
            "layout": "IPY_MODEL_a389b3a773f94d429a97a939a8e5a3f8"
          }
        },
        "aa6d40d4cbc14304abc4a676160b0f0f": {
          "model_module": "@jupyter-widgets/controls",
          "model_name": "ProgressStyleModel",
          "state": {
            "_view_name": "StyleView",
            "_model_name": "ProgressStyleModel",
            "description_width": "initial",
            "_view_module": "@jupyter-widgets/base",
            "_model_module_version": "1.5.0",
            "_view_count": null,
            "_view_module_version": "1.2.0",
            "bar_color": null,
            "_model_module": "@jupyter-widgets/controls"
          }
        },
        "31c143bdf96544b793d88f25e97f8cfe": {
          "model_module": "@jupyter-widgets/base",
          "model_name": "LayoutModel",
          "state": {
            "_view_name": "LayoutView",
            "grid_template_rows": null,
            "right": null,
            "justify_content": null,
            "_view_module": "@jupyter-widgets/base",
            "overflow": null,
            "_model_module_version": "1.2.0",
            "_view_count": null,
            "flex_flow": null,
            "width": null,
            "min_width": null,
            "border": null,
            "align_items": null,
            "bottom": null,
            "_model_module": "@jupyter-widgets/base",
            "top": null,
            "grid_column": null,
            "overflow_y": null,
            "overflow_x": null,
            "grid_auto_flow": null,
            "grid_area": null,
            "grid_template_columns": null,
            "flex": null,
            "_model_name": "LayoutModel",
            "justify_items": null,
            "grid_row": null,
            "max_height": null,
            "align_content": null,
            "visibility": null,
            "align_self": null,
            "height": null,
            "min_height": null,
            "padding": null,
            "grid_auto_rows": null,
            "grid_gap": null,
            "max_width": null,
            "order": null,
            "_view_module_version": "1.2.0",
            "grid_template_areas": null,
            "object_position": null,
            "object_fit": null,
            "grid_auto_columns": null,
            "margin": null,
            "display": null,
            "left": null
          }
        },
        "dfac13c3066f4fb59941c1866db8f725": {
          "model_module": "@jupyter-widgets/controls",
          "model_name": "DescriptionStyleModel",
          "state": {
            "_view_name": "StyleView",
            "_model_name": "DescriptionStyleModel",
            "description_width": "",
            "_view_module": "@jupyter-widgets/base",
            "_model_module_version": "1.5.0",
            "_view_count": null,
            "_view_module_version": "1.2.0",
            "_model_module": "@jupyter-widgets/controls"
          }
        },
        "a389b3a773f94d429a97a939a8e5a3f8": {
          "model_module": "@jupyter-widgets/base",
          "model_name": "LayoutModel",
          "state": {
            "_view_name": "LayoutView",
            "grid_template_rows": null,
            "right": null,
            "justify_content": null,
            "_view_module": "@jupyter-widgets/base",
            "overflow": null,
            "_model_module_version": "1.2.0",
            "_view_count": null,
            "flex_flow": null,
            "width": null,
            "min_width": null,
            "border": null,
            "align_items": null,
            "bottom": null,
            "_model_module": "@jupyter-widgets/base",
            "top": null,
            "grid_column": null,
            "overflow_y": null,
            "overflow_x": null,
            "grid_auto_flow": null,
            "grid_area": null,
            "grid_template_columns": null,
            "flex": null,
            "_model_name": "LayoutModel",
            "justify_items": null,
            "grid_row": null,
            "max_height": null,
            "align_content": null,
            "visibility": null,
            "align_self": null,
            "height": null,
            "min_height": null,
            "padding": null,
            "grid_auto_rows": null,
            "grid_gap": null,
            "max_width": null,
            "order": null,
            "_view_module_version": "1.2.0",
            "grid_template_areas": null,
            "object_position": null,
            "object_fit": null,
            "grid_auto_columns": null,
            "margin": null,
            "display": null,
            "left": null
          }
        },
        "8c37ea65667b4ebd8dfdac23f23559eb": {
          "model_module": "@jupyter-widgets/controls",
          "model_name": "TabModel",
          "state": {
            "_view_name": "TabView",
            "_dom_classes": [],
            "_titles": {
              "0": "Youtube",
              "1": "Bilibili"
            },
            "_model_name": "TabModel",
            "_view_module": "@jupyter-widgets/controls",
            "selected_index": 0,
            "_model_module_version": "1.5.0",
            "_view_count": null,
            "_view_module_version": "1.5.0",
            "box_style": "",
            "layout": "IPY_MODEL_9a1c8f68961f4d5ea3c86e79d41897a3",
            "_model_module": "@jupyter-widgets/controls",
            "children": [
              "IPY_MODEL_4eaa2a902c934b3bbf6a19d60e8286fd",
              "IPY_MODEL_7449c7f35fd24162aa9bd4d8a06e7d4e"
            ]
          }
        },
        "9a1c8f68961f4d5ea3c86e79d41897a3": {
          "model_module": "@jupyter-widgets/base",
          "model_name": "LayoutModel",
          "state": {
            "_view_name": "LayoutView",
            "grid_template_rows": null,
            "right": null,
            "justify_content": null,
            "_view_module": "@jupyter-widgets/base",
            "overflow": null,
            "_model_module_version": "1.2.0",
            "_view_count": null,
            "flex_flow": null,
            "width": null,
            "min_width": null,
            "border": null,
            "align_items": null,
            "bottom": null,
            "_model_module": "@jupyter-widgets/base",
            "top": null,
            "grid_column": null,
            "overflow_y": null,
            "overflow_x": null,
            "grid_auto_flow": null,
            "grid_area": null,
            "grid_template_columns": null,
            "flex": null,
            "_model_name": "LayoutModel",
            "justify_items": null,
            "grid_row": null,
            "max_height": null,
            "align_content": null,
            "visibility": null,
            "align_self": null,
            "height": null,
            "min_height": null,
            "padding": null,
            "grid_auto_rows": null,
            "grid_gap": null,
            "max_width": null,
            "order": null,
            "_view_module_version": "1.2.0",
            "grid_template_areas": null,
            "object_position": null,
            "object_fit": null,
            "grid_auto_columns": null,
            "margin": null,
            "display": null,
            "left": null
          }
        },
        "4eaa2a902c934b3bbf6a19d60e8286fd": {
          "model_module": "@jupyter-widgets/output",
          "model_name": "OutputModel",
          "state": {
            "_view_name": "OutputView",
            "msg_id": "",
            "_dom_classes": [],
            "_model_name": "OutputModel",
            "outputs": [
              {
                "output_type": "stream",
                "metadata": {
                  "tags": []
                },
                "text": "Video available at https://youtube.com/watch?v=0EthSI0cknI\n",
                "stream": "stdout"
              },
              {
                "output_type": "display_data",
                "metadata": {
                  "tags": []
                },
                "text/html": "\n        <iframe\n            width=\"854\"\n            height=\"480\"\n            src=\"https://www.youtube.com/embed/0EthSI0cknI?fs=1&rel=0\"\n            frameborder=\"0\"\n            allowfullscreen\n        ></iframe>\n        ",
                "text/plain": "<IPython.lib.display.YouTubeVideo at 0x7f7d23824950>",
                "image/jpeg": "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\n"
              }
            ],
            "_view_module": "@jupyter-widgets/output",
            "_model_module_version": "1.0.0",
            "_view_count": null,
            "_view_module_version": "1.0.0",
            "layout": "IPY_MODEL_df8ae2df789d42a68fb6321889f937d2",
            "_model_module": "@jupyter-widgets/output"
          }
        },
        "7449c7f35fd24162aa9bd4d8a06e7d4e": {
          "model_module": "@jupyter-widgets/output",
          "model_name": "OutputModel",
          "state": {
            "_view_name": "OutputView",
            "msg_id": "",
            "_dom_classes": [],
            "_model_name": "OutputModel",
            "outputs": [
              {
                "output_type": "stream",
                "metadata": {
                  "tags": []
                },
                "text": "Video available at https://www.bilibili.com/video/BV1TU4y1G7Je\n",
                "stream": "stdout"
              },
              {
                "output_type": "display_data",
                "metadata": {
                  "tags": []
                },
                "text/html": "\n        <iframe\n            width=\"854\"\n            height=\"480\"\n            src=\"https://player.bilibili.com/player.html?bvid=BV1TU4y1G7Je&page=1?fs=1\"\n            frameborder=\"0\"\n            allowfullscreen\n        ></iframe>\n        ",
                "text/plain": "<__main__.BiliVideo at 0x7f7d238247d0>"
              }
            ],
            "_view_module": "@jupyter-widgets/output",
            "_model_module_version": "1.0.0",
            "_view_count": null,
            "_view_module_version": "1.0.0",
            "layout": "IPY_MODEL_ac776ff2f5d144f78b08202fe85126b1",
            "_model_module": "@jupyter-widgets/output"
          }
        },
        "df8ae2df789d42a68fb6321889f937d2": {
          "model_module": "@jupyter-widgets/base",
          "model_name": "LayoutModel",
          "state": {
            "_view_name": "LayoutView",
            "grid_template_rows": null,
            "right": null,
            "justify_content": null,
            "_view_module": "@jupyter-widgets/base",
            "overflow": null,
            "_model_module_version": "1.2.0",
            "_view_count": null,
            "flex_flow": null,
            "width": null,
            "min_width": null,
            "border": null,
            "align_items": null,
            "bottom": null,
            "_model_module": "@jupyter-widgets/base",
            "top": null,
            "grid_column": null,
            "overflow_y": null,
            "overflow_x": null,
            "grid_auto_flow": null,
            "grid_area": null,
            "grid_template_columns": null,
            "flex": null,
            "_model_name": "LayoutModel",
            "justify_items": null,
            "grid_row": null,
            "max_height": null,
            "align_content": null,
            "visibility": null,
            "align_self": null,
            "height": null,
            "min_height": null,
            "padding": null,
            "grid_auto_rows": null,
            "grid_gap": null,
            "max_width": null,
            "order": null,
            "_view_module_version": "1.2.0",
            "grid_template_areas": null,
            "object_position": null,
            "object_fit": null,
            "grid_auto_columns": null,
            "margin": null,
            "display": null,
            "left": null
          }
        },
        "ac776ff2f5d144f78b08202fe85126b1": {
          "model_module": "@jupyter-widgets/base",
          "model_name": "LayoutModel",
          "state": {
            "_view_name": "LayoutView",
            "grid_template_rows": null,
            "right": null,
            "justify_content": null,
            "_view_module": "@jupyter-widgets/base",
            "overflow": null,
            "_model_module_version": "1.2.0",
            "_view_count": null,
            "flex_flow": null,
            "width": null,
            "min_width": null,
            "border": null,
            "align_items": null,
            "bottom": null,
            "_model_module": "@jupyter-widgets/base",
            "top": null,
            "grid_column": null,
            "overflow_y": null,
            "overflow_x": null,
            "grid_auto_flow": null,
            "grid_area": null,
            "grid_template_columns": null,
            "flex": null,
            "_model_name": "LayoutModel",
            "justify_items": null,
            "grid_row": null,
            "max_height": null,
            "align_content": null,
            "visibility": null,
            "align_self": null,
            "height": null,
            "min_height": null,
            "padding": null,
            "grid_auto_rows": null,
            "grid_gap": null,
            "max_width": null,
            "order": null,
            "_view_module_version": "1.2.0",
            "grid_template_areas": null,
            "object_position": null,
            "object_fit": null,
            "grid_auto_columns": null,
            "margin": null,
            "display": null,
            "left": null
          }
        }
      }
    }
  },
  "cells": [
    {
      "cell_type": "markdown",
      "metadata": {
        "id": "view-in-github",
        "colab_type": "text"
      },
      "source": [
        "<a href=\"https://colab.research.google.com/github/NeuromatchAcademy/course-content-dl/blob/w3d4_t2_fix/tutorials/W1D4_Optimization/W1D4_Tutorial1.ipynb\" target=\"_parent\"><img src=\"https://colab.research.google.com/assets/colab-badge.svg\" alt=\"Open In Colab\"/></a>"
      ]
    },
    {
      "cell_type": "markdown",
      "metadata": {
        "execution": {},
        "id": "QV_8NHLTbq71"
      },
      "source": [
        "# Tutorial 1: Optimization techniques\n",
        "**Week 1, Day 4: Optimization**\n",
        "\n",
        "**By Neuromatch Academy**\n",
        "\n",
        "__Content creators:__ Jose Gallego-Posada, Ioannis Mitliagkas\n",
        "\n",
        "__Content reviewers:__ Piyush Chauhan, Vladimir Haltakov, Siwei Bai\n",
        "\n",
        "__Content editors:__ Charles J Edelson, B Gagana, Spiros Chavlis\n",
        "\n",
        "__Production editors:__ Arush Tagade, Spiros Chavlis"
      ]
    },
    {
      "cell_type": "markdown",
      "metadata": {
        "execution": {},
        "id": "uNnMC979bq74"
      },
      "source": [
        "**Our 2021 Sponsors, including Presenting Sponsor Facebook Reality Labs**\n",
        "\n",
        "<p align='center'><img src='https://github.com/NeuromatchAcademy/widgets/blob/master/sponsors.png?raw=True'/></p>"
      ]
    },
    {
      "cell_type": "markdown",
      "metadata": {
        "execution": {},
        "id": "eNZZ9mYwbq75"
      },
      "source": [
        "---\n",
        "# Tutorial Objectives\n",
        "\n",
        "Objectives:\n",
        "*   Necessity and importance of Optimization\n",
        "*   Introduction to commonly used optimization techniques\n",
        "*   Optimization in non-convex loss landscapes \n",
        "*   'Adaptive' hyperparameter tuning \n",
        "*   Ethical concerns\n",
        "\n"
      ]
    },
    {
      "cell_type": "code",
      "metadata": {
        "cellView": "form",
        "execution": {},
        "id": "EpkND7dvbq75",
        "outputId": "a2594e8b-f9cc-4f21-8d71-c4f80a89fe27",
        "colab": {
          "base_uri": "https://localhost:8080/",
          "height": 500
        }
      },
      "source": [
        "# @title Tutorial slides\n",
        "\n",
        "# @markdown These are the slides for the videos in this tutorial\n",
        "from IPython.display import IFrame\n",
        "IFrame(src=f\"https://mfr.ca-1.osf.io/render?url=https://osf.io/ft2sz/?direct%26mode=render%26action=download%26mode=render\", width=854, height=480)"
      ],
      "execution_count": 1,
      "outputs": [
        {
          "output_type": "execute_result",
          "data": {
            "text/html": [
              "\n",
              "        <iframe\n",
              "            width=\"854\"\n",
              "            height=\"480\"\n",
              "            src=\"https://mfr.ca-1.osf.io/render?url=https://osf.io/ft2sz/?direct%26mode=render%26action=download%26mode=render\"\n",
              "            frameborder=\"0\"\n",
              "            allowfullscreen\n",
              "        ></iframe>\n",
              "        "
            ],
            "text/plain": [
              "<IPython.lib.display.IFrame at 0x7f7d91ea3310>"
            ]
          },
          "metadata": {
            "tags": []
          },
          "execution_count": 1
        }
      ]
    },
    {
      "cell_type": "markdown",
      "metadata": {
        "execution": {},
        "id": "XazCUXrBbq76"
      },
      "source": [
        "---\n",
        "# Setup"
      ]
    },
    {
      "cell_type": "code",
      "metadata": {
        "execution": {},
        "id": "Rtac8mc3bq76"
      },
      "source": [
        "# Imports\n",
        "import time\n",
        "import copy\n",
        "import torch\n",
        "import torchvision\n",
        "\n",
        "import numpy as np\n",
        "import ipywidgets as widgets\n",
        "import matplotlib.pyplot as plt\n",
        "\n",
        "import torch.nn as nn\n",
        "import torch.optim as optim\n",
        "import torch.nn.functional as F\n",
        "import torchvision.datasets as datasets\n",
        "\n",
        "from tqdm.auto import tqdm"
      ],
      "execution_count": 2,
      "outputs": []
    },
    {
      "cell_type": "code",
      "metadata": {
        "cellView": "form",
        "execution": {},
        "id": "9fP7sCYXbq77"
      },
      "source": [
        "# @title Figure settings\n",
        "import ipywidgets as widgets       # interactive display\n",
        "%config InlineBackend.figure_format = 'retina'\n",
        "plt.style.use(\"https://raw.githubusercontent.com/NeuromatchAcademy/content-creation/main/nma.mplstyle\")\n",
        "plt.rc('axes', unicode_minus=False)"
      ],
      "execution_count": 3,
      "outputs": []
    },
    {
      "cell_type": "code",
      "metadata": {
        "cellView": "form",
        "execution": {},
        "id": "0813tyGDbq78"
      },
      "source": [
        "# @title Helper functions\n",
        "def print_params(model):\n",
        "  for name, param in model.named_parameters():\n",
        "    if param.requires_grad:\n",
        "      print(name, param.data)"
      ],
      "execution_count": 4,
      "outputs": []
    },
    {
      "cell_type": "code",
      "metadata": {
        "cellView": "form",
        "execution": {},
        "id": "LnxR6D0abq78"
      },
      "source": [
        "# @title Set random seed\n",
        "\n",
        "# @markdown Executing `set_seed(seed=seed)` you are setting the seed\n",
        "\n",
        "# for DL its critical to set the random seed so that students can have a\n",
        "# baseline to compare their results to expected results.\n",
        "# Read more here: https://pytorch.org/docs/stable/notes/randomness.html\n",
        "\n",
        "# Call `set_seed` function in the exercises to ensure reproducibility.\n",
        "import random\n",
        "import torch\n",
        "\n",
        "def set_seed(seed=None, seed_torch=True):\n",
        "  if seed is None:\n",
        "    seed = np.random.choice(2 ** 32)\n",
        "  random.seed(seed)\n",
        "  np.random.seed(seed)\n",
        "  if seed_torch:\n",
        "    torch.manual_seed(seed)\n",
        "    torch.cuda.manual_seed_all(seed)\n",
        "    torch.cuda.manual_seed(seed)\n",
        "    torch.backends.cudnn.benchmark = False\n",
        "    torch.backends.cudnn.deterministic = True\n",
        "\n",
        "  print(f'Random seed {seed} has been set.')\n",
        "\n",
        "\n",
        "# In case that `DataLoader` is used\n",
        "def seed_worker(worker_id):\n",
        "  worker_seed = torch.initial_seed() % 2**32\n",
        "  np.random.seed(worker_seed)\n",
        "  random.seed(worker_seed)"
      ],
      "execution_count": 5,
      "outputs": []
    },
    {
      "cell_type": "code",
      "metadata": {
        "cellView": "form",
        "execution": {},
        "id": "pzjUHl3Vbq79"
      },
      "source": [
        "# @title Set device (GPU or CPU). Execute `set_device()`\n",
        "# especially if torch modules used.\n",
        "\n",
        "# inform the user if the notebook uses GPU or CPU.\n",
        "\n",
        "def set_device():\n",
        "  device = \"cuda\" if torch.cuda.is_available() else \"cpu\"\n",
        "  if device != \"cuda\":\n",
        "    print(\"WARNING: For this notebook to perform best, \"\n",
        "        \"if possible, in the menu under `Runtime` -> \"\n",
        "        \"`Change runtime type.`  select `GPU` \")\n",
        "  else:\n",
        "    print(\"GPU is enabled in this notebook.\")\n",
        "\n",
        "  return device"
      ],
      "execution_count": 6,
      "outputs": []
    },
    {
      "cell_type": "code",
      "metadata": {
        "execution": {},
        "id": "sAcYFjQhbq79",
        "outputId": "b9980e22-b66d-44a4-fd78-2367991da367",
        "colab": {
          "base_uri": "https://localhost:8080/"
        }
      },
      "source": [
        "SEED = 2021\n",
        "set_seed(seed=SEED)\n",
        "DEVICE = set_device()"
      ],
      "execution_count": 7,
      "outputs": [
        {
          "output_type": "stream",
          "text": [
            "Random seed 2021 has been set.\n",
            "GPU is enabled in this notebook.\n"
          ],
          "name": "stdout"
        }
      ]
    },
    {
      "cell_type": "markdown",
      "metadata": {
        "execution": {},
        "id": "cn6Tohxbbq7-"
      },
      "source": [
        "---\n",
        "# Section 1. Introduction"
      ]
    },
    {
      "cell_type": "code",
      "metadata": {
        "cellView": "form",
        "execution": {},
        "id": "eUClf2a2bq7-",
        "outputId": "34879d05-e5db-4ce7-a5ff-272bb734415b",
        "colab": {
          "base_uri": "https://localhost:8080/",
          "height": 579,
          "referenced_widgets": [
            "e33493a54c194aa08bff8c023a04c473",
            "c9bf7e4be1ad4c23b16d0e882c14fcf6",
            "19a088ca3b74431faa67b5cab0dd0202",
            "4344001d4cc1410fa708152b203632a6",
            "9a6bc307764c48138929d76f6ad481ea",
            "502b1b3451094c61b73bceb1dc5f8a8e"
          ]
        }
      },
      "source": [
        "# @title Video 1: Introduction\n",
        "from ipywidgets import widgets\n",
        "\n",
        "out2 = widgets.Output()\n",
        "with out2:\n",
        "  from IPython.display import IFrame\n",
        "  class BiliVideo(IFrame):\n",
        "    def __init__(self, id, page=1, width=400, height=300, **kwargs):\n",
        "      self.id=id\n",
        "      src = \"https://player.bilibili.com/player.html?bvid={0}&page={1}\".format(id, page)\n",
        "      super(BiliVideo, self).__init__(src, width, height, **kwargs)\n",
        "\n",
        "  video = BiliVideo(id=f\"BV1VB4y1K7Vr\", width=854, height=480, fs=1)\n",
        "  print(\"Video available at https://www.bilibili.com/video/{0}\".format(video.id))\n",
        "  display(video)\n",
        "\n",
        "out1 = widgets.Output()\n",
        "with out1:\n",
        "  from IPython.display import YouTubeVideo\n",
        "  video = YouTubeVideo(id=f\"zm9oekdkJbQ\", width=854, height=480, fs=1, rel=0)\n",
        "  print(\"Video available at https://youtube.com/watch?v=\" + video.id)\n",
        "  display(video)\n",
        "\n",
        "out = widgets.Tab([out1, out2])\n",
        "out.set_title(0, 'Youtube')\n",
        "out.set_title(1, 'Bilibili')\n",
        "\n",
        "display(out)"
      ],
      "execution_count": 8,
      "outputs": [
        {
          "output_type": "display_data",
          "data": {
            "application/vnd.jupyter.widget-view+json": {
              "model_id": "e33493a54c194aa08bff8c023a04c473",
              "version_minor": 0,
              "version_major": 2
            },
            "text/plain": [
              "Tab(children=(Output(), Output()), _titles={'0': 'Youtube', '1': 'Bilibili'})"
            ]
          },
          "metadata": {
            "tags": []
          }
        }
      ]
    },
    {
      "cell_type": "markdown",
      "metadata": {
        "execution": {},
        "id": "1pVxairWbq7_"
      },
      "source": [
        "## Think! 1: Unexpected consequences\n",
        "\n",
        "Can you think of examples from your own experience/life where poorly chosen incentives or objectives have lead to unexpected consequences?"
      ]
    },
    {
      "cell_type": "code",
      "metadata": {
        "execution": {},
        "id": "Wu61u75xbq8A"
      },
      "source": [
        "# to_remove explanation\n",
        "\n",
        "\"\"\"\n",
        "Example 1: The 20th-century paleontologist G. H. R. von Koenigswald used to pay\n",
        "Javanese locals for each fragment of hominin skull that they produced.\n",
        "He later discovered that the people had been breaking up whole skulls into smaller\n",
        "pieces to maximise their payments.\n",
        "Wikepedia: https://en.wikipedia.org/wiki/Perverse_incentive\n",
        "\n",
        "Example 2: With the aim of improving the US performance in OECD rankings,\n",
        "a congressperson introduced 'The Geometric Simplification Act' in 2011,\n",
        "declaring the Euclidean mathematical constant $\\pi$ to be precisely 3.\n",
        "Huffington Post: https://www.huffpost.com/entry/republicans-introduce-leg_b_837828\n",
        "\n",
        "You can find more examples at: https://en.wikipedia.org/wiki/Perverse_incentive\n",
        "\"\"\";"
      ],
      "execution_count": 9,
      "outputs": []
    },
    {
      "cell_type": "markdown",
      "metadata": {
        "execution": {},
        "id": "N80fAzx4bq8A"
      },
      "source": [
        "---\n",
        "# Section 2: Case study: successfully training an MLP for image classification\n",
        "\n",
        "Many of the core ideas (and tricks) in modern optimization for deep learning can be illustrated in the simple setting of training an MLP to solve an image classification task. In this tutorial we will guide you through the key challenges that arise when optimizing high-dimensional, non-convex$^\\dagger$ problems. We will use these challenges to motivate and explain some commonly used solutions.\n",
        "\n",
        "**Disclaimer:** Some of the functions you will code in this tutorial are already implemented in Pytorch and many other libraries. For pedagogical reasons, we decided to bring these simple coding tasks into the spotlight and place a relatively higher emphasis in your understanding of the algorithms, rather than the use of a specific library. \n",
        "\n",
        "In 'day-to-day' research projects you will likely to rely on the community-vetted, optimized libraries rather than the 'manual implementations' you will write today. In Section 8 you will have a chance to 'put it all together' and use the full power of Pytorch to tune the parameters of an MLP to classify handwritten digits."
      ]
    },
    {
      "cell_type": "markdown",
      "metadata": {
        "execution": {},
        "id": "4UZbQkCgbq8B"
      },
      "source": [
        "$^\\dagger$: A **convex** function has one, global minimum - a nice property, as an optimization algorithm won't get stuck in a local minimum that isn't a global one (e.g., $f(x)=x^2 + 2x + 1$). A **non-convex** function is wavy - has some 'valleys' (local minima) that aren't as deep as the overall deepest 'valley' (global minimum). Thus, the optimization algorithms can get stuck in the local minimum, and it can be hard to tell when this happens (e.g., $f(x) = x^4 + x^3 - 2x^2 - 2x$). See also **Section 5** for more details."
      ]
    },
    {
      "cell_type": "code",
      "metadata": {
        "cellView": "form",
        "execution": {},
        "id": "aWlmpHXTbq8C",
        "outputId": "7f66c8f3-95ce-4f08-bcc4-aadff06ae4fb",
        "colab": {
          "base_uri": "https://localhost:8080/",
          "height": 579,
          "referenced_widgets": [
            "d4b4e25c3ad342d5a5084be4087cb3f2",
            "3ca79c7bc13e4f8796d1a0fd3e1f4732",
            "ed780cb4c8ea48f79216fe8f98140881",
            "175bd6fd2c324106a52f5beba1993351",
            "20dfc7581a71438c893e1214e3783d55",
            "c6b8e6949d534b5c88911601f04c02c1"
          ]
        }
      },
      "source": [
        "# @title Video 2: Case Study - MLP Classification\n",
        "from ipywidgets import widgets\n",
        "\n",
        "out2 = widgets.Output()\n",
        "with out2:\n",
        "  from IPython.display import IFrame\n",
        "  class BiliVideo(IFrame):\n",
        "    def __init__(self, id, page=1, width=400, height=300, **kwargs):\n",
        "      self.id=id\n",
        "      src = \"https://player.bilibili.com/player.html?bvid={0}&page={1}\".format(id, page)\n",
        "      super(BiliVideo, self).__init__(src, width, height, **kwargs)\n",
        "\n",
        "  video = BiliVideo(id=f\"BV1GB4y1K7Ha\", width=854, height=480, fs=1)\n",
        "  print(\"Video available at https://www.bilibili.com/video/{0}\".format(video.id))\n",
        "  display(video)\n",
        "\n",
        "out1 = widgets.Output()\n",
        "with out1:\n",
        "  from IPython.display import YouTubeVideo\n",
        "  video = YouTubeVideo(id=f\"pJc2ENhYbqA\", width=854, height=480, fs=1, rel=0)\n",
        "  print(\"Video available at https://youtube.com/watch?v=\" + video.id)\n",
        "  display(video)\n",
        "\n",
        "out = widgets.Tab([out1, out2])\n",
        "out.set_title(0, 'Youtube')\n",
        "out.set_title(1, 'Bilibili')\n",
        "\n",
        "display(out)"
      ],
      "execution_count": 10,
      "outputs": [
        {
          "output_type": "display_data",
          "data": {
            "application/vnd.jupyter.widget-view+json": {
              "model_id": "d4b4e25c3ad342d5a5084be4087cb3f2",
              "version_minor": 0,
              "version_major": 2
            },
            "text/plain": [
              "Tab(children=(Output(), Output()), _titles={'0': 'Youtube', '1': 'Bilibili'})"
            ]
          },
          "metadata": {
            "tags": []
          }
        }
      ]
    },
    {
      "cell_type": "markdown",
      "metadata": {
        "execution": {},
        "id": "lIDF4yvmbq8D"
      },
      "source": [
        "## Section 2.1: Data\n",
        "\n",
        "We will use the MNIST dataset of handwritten digits. We load the data via the Pytorch `datasets` module, as you learned in W1D1.   \n"
      ]
    },
    {
      "cell_type": "code",
      "metadata": {
        "execution": {},
        "id": "wq5Zictlbq8D"
      },
      "source": [
        "from IPython.display import clear_output\n",
        "\n",
        "def load_mnist_data(change_tensors=False, download=True):\n",
        "  \"\"\"Load training and test examples for the MNIST digits dataset\n",
        "\n",
        "  Returns:\n",
        "    train_data (tensor): training input tensor of size (train_size x 784)\n",
        "    train_target (tensor): training 0-9 integer label tensor of size (train_size)\n",
        "    test_data (tensor): test input tensor of size (70k-train_size x 784)\n",
        "    test_target (tensor): training 0-9 integer label tensor of size (70k-train_size)\n",
        "\n",
        "  \"\"\"\n",
        "  # Load train and test sets\n",
        "  train_set = datasets.MNIST(root='./data', train=True, download=download,\n",
        "                             transform=torchvision.transforms.ToTensor())\n",
        "  test_set = datasets.MNIST(root='./data', train=False, download=download,\n",
        "                            transform=torchvision.transforms.ToTensor())\n",
        "\n",
        "  # Original data is in range [0, 255]. We normalize the data wrt its mean and std_dev.\n",
        "  ## Note that we only used *training set* information to compute mean and std\n",
        "  mean = train_set.data.float().mean()\n",
        "  std = train_set.data.float().std()\n",
        "\n",
        "  if change_tensors:\n",
        "    # Apply normalization directly to the tensors containing the dataset\n",
        "    train_set.data = (train_set.data.float() - mean) / std\n",
        "    test_set.data = (test_set.data.float() - mean) / std\n",
        "  else:\n",
        "    tform = torchvision.transforms.Compose([torchvision.transforms.ToTensor(),\n",
        "                                            torchvision.transforms.Normalize(mean=[mean / 255.], std=[std / 255.])\n",
        "                                            ])\n",
        "    train_set = datasets.MNIST(root='./data', train=True, download=False,\n",
        "                               transform=tform)\n",
        "    test_set = datasets.MNIST(root='./data', train=False, download=False,\n",
        "                              transform=tform)\n",
        "\n",
        "  clear_output()\n",
        "\n",
        "  return train_set, test_set\n",
        "\n",
        "\n",
        "train_set, test_set = load_mnist_data(change_tensors=True)"
      ],
      "execution_count": 11,
      "outputs": []
    },
    {
      "cell_type": "markdown",
      "metadata": {
        "execution": {},
        "id": "hRmQPauIbq8E"
      },
      "source": [
        "As we are just getting started, we will concentrate on a small subset of only 500 examples out of the 60.000 data points contained in the whole training set.\n",
        "\n"
      ]
    },
    {
      "cell_type": "code",
      "metadata": {
        "execution": {},
        "id": "goA2cfm0bq8E"
      },
      "source": [
        "# Sample a random subset of 500 indices\n",
        "subset_index = np.random.choice(len(train_set.data), 500)\n",
        "\n",
        "# We will use these symbols to represent the training data and labels, to stay\n",
        "# as close to the mathematical expressions as possible.\n",
        "X, y = train_set.data[subset_index, :], train_set.targets[subset_index]"
      ],
      "execution_count": 12,
      "outputs": []
    },
    {
      "cell_type": "markdown",
      "metadata": {
        "execution": {},
        "id": "7hESAghgbq8G"
      },
      "source": [
        "Run the following cell to visualize the content of three examples in our training set. Note how the pre-processing we applied to the data changes the range of pixel values after normalization.\n"
      ]
    },
    {
      "cell_type": "code",
      "metadata": {
        "cellView": "form",
        "execution": {},
        "id": "5XqmOL7Mbq8H",
        "outputId": "536574ab-8b28-4fcc-be5f-43fd8d658c83",
        "colab": {
          "base_uri": "https://localhost:8080/",
          "height": 374
        }
      },
      "source": [
        "# @title Run me!\n",
        "num_figures = 3\n",
        "fig, axs = plt.subplots(1, num_figures, figsize=(5 * num_figures, 5))\n",
        "\n",
        "for sample_id, ax in enumerate(axs):\n",
        "  # Plot the pixel values for each image\n",
        "  ax.matshow(X[sample_id, :], cmap='gray_r')\n",
        "  # 'Write' the pixel value in the corresponding location\n",
        "  for (i, j), z in np.ndenumerate(X[sample_id, :]):\n",
        "    text = '{:.1f}'.format(z)\n",
        "    ax.text(j, i, text, ha='center',\n",
        "            va='center', fontsize=6, c='steelblue')\n",
        "\n",
        "  ax.set_title('Label: ' + str(y[sample_id].item()))\n",
        "  ax.axis('off')\n",
        "\n",
        "plt.show()"
      ],
      "execution_count": 13,
      "outputs": [
        {
          "output_type": "display_data",
          "data": {
            "image/png": "[encoded data removed]",
            "text/plain": [
              "<Figure size 1080x360 with 3 Axes>"
            ]
          },
          "metadata": {
            "tags": [],
            "image/png": {
              "width": 1032,
              "height": 357
            },
            "needs_background": "light"
          }
        }
      ]
    },
    {
      "cell_type": "markdown",
      "metadata": {
        "execution": {},
        "id": "g53rQ91pbq8H"
      },
      "source": [
        "## Section 2.2: Model\n",
        "\n",
        "As you will see next week, there are specific model architectures that are better suited to image-like data, such as Convolutional Neural Networks (CNNs). For simplicity, in this tutorial we will focus exclusively on Multi-Layer Perceptron (MLP) models as they allow us to highlight many important optimization challenges shared with more advanced neural network designs."
      ]
    },
    {
      "cell_type": "code",
      "metadata": {
        "execution": {},
        "id": "zeDp0qMHbq8H"
      },
      "source": [
        "class MLP(nn.Module):\n",
        "  \"\"\" This class implements MLPs in Pytorch of an arbitrary number of hidden\n",
        "  layers of potentially different sizes. Since we concentrate on classification\n",
        "  tasks in this tutorial, we have a log_softmax layer at prediction time.\n",
        "  \"\"\"\n",
        "\n",
        "  def __init__(self, in_dim=784, out_dim=10, hidden_dims=[], use_bias=True):\n",
        "    \"\"\"Constructs a MultiLayerPerceptron\n",
        "\n",
        "    Args:\n",
        "        in_dim (int): dimensionality of input data\n",
        "        out_dim (int): number of classes\n",
        "        hidden_dims (list): contains the dimensions of the hidden layers, an empty\n",
        "            list corresponds to a linear model (in_dim, out_dim)\n",
        "    \"\"\"\n",
        "\n",
        "    super(MLP, self).__init__()\n",
        "\n",
        "    self.in_dim = in_dim\n",
        "    self.out_dim = out_dim\n",
        "\n",
        "    # If we have no hidden layer, just initialize a linear model (e.g. in logistic regression)\n",
        "    if len(hidden_dims) == 0:\n",
        "      layers = [nn.Linear(in_dim, out_dim, bias=use_bias)]\n",
        "    else:\n",
        "      # 'Actual' MLP with dimensions in_dim - num_hidden_layers*[hidden_dim] - out_dim\n",
        "      layers = [nn.Linear(in_dim, hidden_dims[0], bias=use_bias), nn.ReLU()]\n",
        "\n",
        "      # Loop until before the last layer\n",
        "      for i, hidden_dim in enumerate(hidden_dims[:-1]):\n",
        "        layers += [nn.Linear(hidden_dim, hidden_dims[i + 1], bias=use_bias),\n",
        "                   nn.ReLU()]\n",
        "\n",
        "      # Add final layer to the number of classes\n",
        "      layers += [nn.Linear(hidden_dims[-1], out_dim, bias=use_bias)]\n",
        "\n",
        "    self.main = nn.Sequential(*layers)\n",
        "\n",
        "  def forward(self, x):\n",
        "    # Flatten the images into 'vectors'\n",
        "    transformed_x = x.view(-1, self.in_dim)\n",
        "    hidden_output = self.main(transformed_x)\n",
        "    output = F.log_softmax(hidden_output, dim=1)\n",
        "    return output"
      ],
      "execution_count": 14,
      "outputs": []
    },
    {
      "cell_type": "markdown",
      "metadata": {
        "execution": {},
        "id": "FisK01Vxbq8I"
      },
      "source": [
        "Linear models constitute a very special kind of MLPs: they are equivalent to an MLP with *zero* hidden layers. This is simply an affine transformation, in other words a 'linear' map $W x$ with an 'offset' $b$; followed by a softmax function.\n",
        "\n",
        "$$f(x) = \\text{softmax}(W x + b)$$\n",
        "\n",
        "Here $x \\in \\mathbb{R}^{784}$, $W \\in \\mathbb{R}^{10 \\times 784}$ and $b \\in \\mathbb{R}^{10}$. Notice that the dimensions of the weight matrix are $10 \\times 784$ as the input tensors are flattened images, i.e., $28 \\times 28 = 784$-dimensional tensors and the output layer consists of $10$ nodes."
      ]
    },
    {
      "cell_type": "code",
      "metadata": {
        "execution": {},
        "id": "2vB6-fV_bq8I",
        "outputId": "7758afa8-3096-41de-b233-2a88596c04f2",
        "colab": {
          "base_uri": "https://localhost:8080/"
        }
      },
      "source": [
        "# Empty hidden_dims means we take a model with zero hidden layers.\n",
        "model = MLP(in_dim=784, out_dim=10, hidden_dims=[])\n",
        "\n",
        "# We print the model structure with 784 inputs and 10 outputs\n",
        "print(model)"
      ],
      "execution_count": 15,
      "outputs": [
        {
          "output_type": "stream",
          "text": [
            "MLP(\n",
            "  (main): Sequential(\n",
            "    (0): Linear(in_features=784, out_features=10, bias=True)\n",
            "  )\n",
            ")\n"
          ],
          "name": "stdout"
        }
      ]
    },
    {
      "cell_type": "markdown",
      "metadata": {
        "execution": {},
        "id": "EYlMQouMbq8I"
      },
      "source": [
        "## Section 2.3: Loss\n",
        "\n",
        "While we care about the accuracy of the model, the 'discrete' nature of the 0-1 loss makes it challenging to optimize. In order to learn good parameters for this model, we will use the cross entropy loss (negative log-likelihood), which you saw in last lecture, as a surrogate objective to be minimized. \n",
        "\n",
        "This particular choice of model and optimization objective leads to a *convex* optimization problem with respect to the parameters $W$ and $b$. "
      ]
    },
    {
      "cell_type": "code",
      "metadata": {
        "execution": {},
        "id": "dQNZvMNYbq8J"
      },
      "source": [
        "loss_fn = F.nll_loss"
      ],
      "execution_count": 16,
      "outputs": []
    },
    {
      "cell_type": "markdown",
      "metadata": {
        "execution": {},
        "id": "Z7Obf-pCbq8J"
      },
      "source": [
        "## Section 2.4: Interpretability"
      ]
    },
    {
      "cell_type": "markdown",
      "metadata": {
        "execution": {},
        "id": "Qta77uS7bq8J"
      },
      "source": [
        "In last lecture, you saw that inspecting the weights of a model can provide insights on what 'concepts' the model has learned. Here we show the weights of a partially trained model. The weights corresponding to each class 'learn' to _fire_ when an input of the class is detected.\n"
      ]
    },
    {
      "cell_type": "code",
      "metadata": {
        "cellView": "form",
        "execution": {},
        "id": "M-uehEf5bq8J"
      },
      "source": [
        "#@markdown Run _this cell_ to train the model. If you are curious about how the training\n",
        "#@markdown takes place, double-click this cell to find out. At the end of this tutorial\n",
        "#@markdown you will have the opportunity to train a more complex model on your own.\n",
        "\n",
        "cell_verbose = False\n",
        "partial_trained_model = MLP(in_dim=784, out_dim=10, hidden_dims=[])\n",
        "\n",
        "if cell_verbose:\n",
        "  print('Init loss', loss_fn(partial_trained_model(X), y).item()) # This matches around np.log(10 = # of classes)\n",
        "\n",
        "optimizer = optim.Adam(partial_trained_model.parameters(), lr=7e-4)\n",
        "for _ in range(200):\n",
        "  loss = loss_fn(partial_trained_model(X), y)\n",
        "  optimizer.zero_grad()\n",
        "  loss.backward()\n",
        "  optimizer.step()\n",
        "\n",
        "if cell_verbose:\n",
        "  print('End loss', loss_fn(partial_trained_model(X), y).item()) # This should be less than 1e-2"
      ],
      "execution_count": 17,
      "outputs": []
    },
    {
      "cell_type": "code",
      "metadata": {
        "execution": {},
        "id": "dnZTV-oVbq8K",
        "outputId": "7641e614-9af8-4a57-f164-a228dba25ed0",
        "colab": {
          "base_uri": "https://localhost:8080/",
          "height": 141
        }
      },
      "source": [
        "# Show class filters of a trained model\n",
        "W = partial_trained_model.main[0].weight.data.numpy()\n",
        "\n",
        "fig, axs = plt.subplots(1, 10, figsize=(15, 4))\n",
        "for class_id in range(10):\n",
        "  axs[class_id].imshow(W[class_id, :].reshape(28, 28), cmap='gray_r')\n",
        "  axs[class_id].axis('off')\n",
        "  axs[class_id].set_title('Class ' + str(class_id) )\n",
        "\n",
        "plt.show()"
      ],
      "execution_count": 18,
      "outputs": [
        {
          "output_type": "display_data",
          "data": {
            "image/png": "[encoded data removed]",
            "text/plain": [
              "<Figure size 1080x288 with 10 Axes>"
            ]
          },
          "metadata": {
            "tags": [],
            "image/png": {
              "width": 1062,
              "height": 124
            },
            "needs_background": "light"
          }
        }
      ]
    },
    {
      "cell_type": "markdown",
      "metadata": {
        "execution": {},
        "id": "XJiyV400bq8K"
      },
      "source": [
        "---\n",
        "# Section 3: High dimensional search\n",
        "\n",
        "We now have a model with its corresponding trainable parameters as well as an objective to optimize. Where do we go to next? How do we find a 'good' configuration of parameters?\n",
        "\n",
        "One idea is to choose a random direction and move only if the objective is reduced. However, this is inefficient in high dimensions and you will see how gradient descent (with a suitable step-size) can guarantee consistent improvement in terms of the objective function."
      ]
    },
    {
      "cell_type": "code",
      "metadata": {
        "cellView": "form",
        "execution": {},
        "id": "RNeJ8gNsbq8K",
        "outputId": "ec4c60cc-d8c7-47e4-bbb3-3b58e45de113",
        "colab": {
          "base_uri": "https://localhost:8080/",
          "height": 579,
          "referenced_widgets": [
            "c8053a8bbf344afea64958fd6f9d22a4",
            "561fc2d3f1a1438b852881b20df2bc73",
            "2cb3651620dd410eaa31ebb616f5224a",
            "92a7957cb9084c06b7ed9dbf7794c945",
            "1a20c0f3a9034ea4ad55bf3c6aa38663",
            "91fa7160b6234df58496ed33953c1aae"
          ]
        }
      },
      "source": [
        "# @title Video 3: Optimization of an Objective Function\n",
        "from ipywidgets import widgets\n",
        "\n",
        "out2 = widgets.Output()\n",
        "with out2:\n",
        "  from IPython.display import IFrame\n",
        "  class BiliVideo(IFrame):\n",
        "    def __init__(self, id, page=1, width=400, height=300, **kwargs):\n",
        "      self.id=id\n",
        "      src = \"https://player.bilibili.com/player.html?bvid={0}&page={1}\".format(id, page)\n",
        "      super(BiliVideo, self).__init__(src, width, height, **kwargs)\n",
        "\n",
        "  video = BiliVideo(id=f\"BV1aL411H7Ce\", width=854, height=480, fs=1)\n",
        "  print(\"Video available at https://www.bilibili.com/video/{0}\".format(video.id))\n",
        "  display(video)\n",
        "\n",
        "out1 = widgets.Output()\n",
        "with out1:\n",
        "  from IPython.display import YouTubeVideo\n",
        "  video = YouTubeVideo(id=f\"aSJTRdjRvvw\", width=854, height=480, fs=1, rel=0)\n",
        "  print(\"Video available at https://youtube.com/watch?v=\" + video.id)\n",
        "  display(video)\n",
        "\n",
        "out = widgets.Tab([out1, out2])\n",
        "out.set_title(0, 'Youtube')\n",
        "out.set_title(1, 'Bilibili')\n",
        "\n",
        "display(out)"
      ],
      "execution_count": 19,
      "outputs": [
        {
          "output_type": "display_data",
          "data": {
            "application/vnd.jupyter.widget-view+json": {
              "model_id": "c8053a8bbf344afea64958fd6f9d22a4",
              "version_minor": 0,
              "version_major": 2
            },
            "text/plain": [
              "Tab(children=(Output(), Output()), _titles={'0': 'Youtube', '1': 'Bilibili'})"
            ]
          },
          "metadata": {
            "tags": []
          }
        }
      ]
    },
    {
      "cell_type": "markdown",
      "metadata": {
        "execution": {},
        "id": "eb0edBmTbq8K"
      },
      "source": [
        "## Coding Exercise 3: Implement gradient descent\n",
        "\n",
        "In this exercise you will use PyTorch automatic differentiation capabilities to compute the gradient of the loss with respect to the parameters of the model. You will then use these gradients to implement the update performed by the gradient descent method.  "
      ]
    },
    {
      "cell_type": "code",
      "metadata": {
        "execution": {},
        "id": "H0176Om5bq8L"
      },
      "source": [
        "def zero_grad(params):\n",
        "  \"\"\"Clear up gradients as Pytorch automatically accumulates gradients from\n",
        "  successive backward calls\n",
        "  \"\"\"\n",
        "  for par in params:\n",
        "    if not(par.grad is None):\n",
        "      par.grad.data.zero_()\n",
        "\n",
        "\n",
        "def random_update(model, noise_scale=0.1, normalized=False):\n",
        "  \"\"\" Performs a random update on the parameters of the model\n",
        "  \"\"\"\n",
        "  for par in model.parameters():\n",
        "    noise = torch.randn_like(par)\n",
        "    if normalized:\n",
        "      noise /= torch.norm(noise)\n",
        "    par.data +=  noise_scale * noise"
      ],
      "execution_count": 20,
      "outputs": []
    },
    {
      "cell_type": "code",
      "metadata": {
        "execution": {},
        "id": "J_CNOJxSbq8L",
        "outputId": "9720ff91-9c10-4216-eccd-a0e5c93706d0",
        "colab": {
          "base_uri": "https://localhost:8080/"
        }
      },
      "source": [
        "def gradient_update(loss, params, lr=1e-3):\n",
        "  \"\"\"Perform a gradient descent update on a given loss over a collection of parameters\n",
        "\n",
        "  Args:\n",
        "    loss (tensor): A scalar tensor containing the loss whose gradient will be computed\n",
        "    params (iterable): Collection of parameters with respect to which we compute gradients\n",
        "    lr (float): Scalar specifying the learning rate or step-size for the update\n",
        "  \"\"\"\n",
        "  # Clear up gradients as Pytorch automatically accumulates gradients from\n",
        "  # successive backward calls\n",
        "  zero_grad(params)\n",
        "\n",
        "  # Compute gradients on given objective\n",
        "  loss.backward()\n",
        "\n",
        "  with torch.no_grad():\n",
        "    for par in params:\n",
        "      #################################################\n",
        "      ## TODO for students: update the value of the parameter ##\n",
        "      raise NotImplementedError(\"Student exercise: implement gradient update\")\n",
        "      #################################################\n",
        "      # Here we work with the 'data' attribute of the parameter rather than the\n",
        "      # parameter itself.\n",
        "      par -= ...\n",
        "\n",
        "\n",
        "set_seed(2021)\n",
        "model = MLP(in_dim=784, out_dim=10, hidden_dims=[])\n",
        "print('\\n The model parameters before the update are: \\n')\n",
        "print_params(model)\n",
        "loss = loss_fn(model(X), y)\n",
        "\n",
        "## Uncomment below to test your function\n",
        "# gradient_update(loss, list(model.parameters()), lr=1e-1)\n",
        "# print('\\n The model parameters after the update are: \\n')\n",
        "# print_params(model)"
      ],
      "execution_count": 21,
      "outputs": [
        {
          "output_type": "stream",
          "text": [
            "Random seed 2021 has been set.\n",
            "\n",
            " The model parameters before the update are: \n",
            "\n",
            "main.0.weight tensor([[-0.0264,  0.0010,  0.0173,  ...,  0.0297,  0.0278, -0.0221],\n",
            "        [-0.0040, -0.0295, -0.0086,  ..., -0.0070,  0.0254, -0.0233],\n",
            "        [ 0.0240, -0.0231,  0.0342,  ...,  0.0124,  0.0270, -0.0180],\n",
            "        ...,\n",
            "        [-0.0005,  0.0157,  0.0111,  ...,  0.0144, -0.0301, -0.0144],\n",
            "        [ 0.0181,  0.0303,  0.0255,  ..., -0.0110, -0.0175,  0.0205],\n",
            "        [ 0.0208, -0.0353, -0.0183,  ..., -0.0271,  0.0099,  0.0003]])\n",
            "main.0.bias tensor([-0.0290, -0.0033,  0.0100, -0.0320,  0.0022,  0.0221,  0.0307,  0.0243,\n",
            "         0.0159, -0.0064])\n"
          ],
          "name": "stdout"
        }
      ]
    },
    {
      "cell_type": "code",
      "metadata": {
        "execution": {},
        "id": "Jcp2oAtYbq8L",
        "outputId": "a6d29d1e-7a99-4076-cbfd-af2a036f9b01",
        "colab": {
          "base_uri": "https://localhost:8080/"
        }
      },
      "source": [
        "# to_remove solution\n",
        "def gradient_update(loss, params, lr=1e-3):\n",
        "  \"\"\"Perform a gradient descent update on a given loss over a collection of parameters\n",
        "\n",
        "  Args:\n",
        "    loss (tensor): A scalar tensor containing the loss whose gradient will be computed\n",
        "    params (iterable): Collection of parameters with respect to which we compute gradients\n",
        "    lr (float): Scalar specifying the learning rate or step-size for the update\n",
        "  \"\"\"\n",
        "  # Clear up gradients as Pytorch automatically accumulates gradients from\n",
        "  # successive backward calls\n",
        "  zero_grad(params)\n",
        "\n",
        "  # Compute gradients on given objective\n",
        "  loss.backward()\n",
        "\n",
        "  with torch.no_grad():\n",
        "    for par in params:\n",
        "      # Here we work with the 'data' attribute of the parameter rather than the\n",
        "      # parameter itself.\n",
        "      par -= lr * par.grad\n",
        "\n",
        "\n",
        "set_seed(2021)\n",
        "model = MLP(in_dim=784, out_dim=10, hidden_dims=[])\n",
        "print('\\n The model parameters before the update are: \\n')\n",
        "print_params(model)\n",
        "loss = loss_fn(model(X), y)\n",
        "\n",
        "## Uncomment below to test your function\n",
        "gradient_update(loss, list(model.parameters()), lr=1e-1)\n",
        "print('\\n The model parameters after the update are: \\n')\n",
        "print_params(model)"
      ],
      "execution_count": 22,
      "outputs": [
        {
          "output_type": "stream",
          "text": [
            "Random seed 2021 has been set.\n",
            "\n",
            " The model parameters before the update are: \n",
            "\n",
            "main.0.weight tensor([[-0.0264,  0.0010,  0.0173,  ...,  0.0297,  0.0278, -0.0221],\n",
            "        [-0.0040, -0.0295, -0.0086,  ..., -0.0070,  0.0254, -0.0233],\n",
            "        [ 0.0240, -0.0231,  0.0342,  ...,  0.0124,  0.0270, -0.0180],\n",
            "        ...,\n",
            "        [-0.0005,  0.0157,  0.0111,  ...,  0.0144, -0.0301, -0.0144],\n",
            "        [ 0.0181,  0.0303,  0.0255,  ..., -0.0110, -0.0175,  0.0205],\n",
            "        [ 0.0208, -0.0353, -0.0183,  ..., -0.0271,  0.0099,  0.0003]])\n",
            "main.0.bias tensor([-0.0290, -0.0033,  0.0100, -0.0320,  0.0022,  0.0221,  0.0307,  0.0243,\n",
            "         0.0159, -0.0064])\n",
            "\n",
            " The model parameters after the update are: \n",
            "\n",
            "main.0.weight tensor([[-0.0263,  0.0010,  0.0174,  ...,  0.0298,  0.0278, -0.0220],\n",
            "        [-0.0047, -0.0302, -0.0093,  ..., -0.0077,  0.0248, -0.0240],\n",
            "        [ 0.0234, -0.0237,  0.0335,  ...,  0.0117,  0.0263, -0.0187],\n",
            "        ...,\n",
            "        [-0.0006,  0.0156,  0.0110,  ...,  0.0143, -0.0302, -0.0145],\n",
            "        [ 0.0164,  0.0286,  0.0238,  ..., -0.0127, -0.0191,  0.0188],\n",
            "        [ 0.0206, -0.0354, -0.0184,  ..., -0.0272,  0.0098,  0.0002]])\n",
            "main.0.bias tensor([-0.0292, -0.0018,  0.0115, -0.0370,  0.0054,  0.0155,  0.0317,  0.0246,\n",
            "         0.0198, -0.0061])\n"
          ],
          "name": "stdout"
        }
      ]
    },
    {
      "cell_type": "markdown",
      "metadata": {
        "execution": {},
        "id": "15uq4FR5bq8L"
      },
      "source": [
        "```\n",
        " The model parameters after the update are: \n",
        "\n",
        "main.0.weight tensor([[-0.0263,  0.0010,  0.0174,  ...,  0.0298,  0.0278, -0.0220],\n",
        "        [-0.0047, -0.0302, -0.0093,  ..., -0.0077,  0.0248, -0.0240],\n",
        "        [ 0.0234, -0.0237,  0.0335,  ...,  0.0117,  0.0263, -0.0187],\n",
        "        ...,\n",
        "        [-0.0006,  0.0156,  0.0110,  ...,  0.0143, -0.0302, -0.0145],\n",
        "        [ 0.0164,  0.0286,  0.0238,  ..., -0.0127, -0.0191,  0.0188],\n",
        "        [ 0.0206, -0.0354, -0.0184,  ..., -0.0272,  0.0098,  0.0002]])\n",
        "main.0.bias tensor([-0.0292, -0.0018,  0.0115, -0.0370,  0.0054,  0.0155,  0.0317,  0.0246,\n",
        "         0.0198, -0.0061])\n",
        "```"
      ]
    },
    {
      "cell_type": "markdown",
      "metadata": {
        "execution": {},
        "id": "EWOSiINybq8M"
      },
      "source": [
        "## Comparing updates\n",
        "\n",
        "These plots compare the effectiveness of updating random directions for the problem of optimizing the parameters of a high-dimensional linear model. We contrast the behavior at initialization and during an intermediate stage of training by showing the histograms of change in loss over 100 different random directions vs the changed in loss induced by the gradient descent update\n",
        "\n",
        "**Remember:** since we are trying to minimize, here negative is better!\n"
      ]
    },
    {
      "cell_type": "code",
      "metadata": {
        "cellView": "form",
        "execution": {},
        "id": "SiY8LP3Bbq8M",
        "outputId": "34ce8124-eb4a-4e60-e3b8-f74bcb4ebaf2",
        "colab": {
          "base_uri": "https://localhost:8080/",
          "height": 311
        }
      },
      "source": [
        "# @markdown _Run this cell_ to visualize the results\n",
        "fig, axs = plt.subplots(1, 2, figsize=(10, 4))\n",
        "\n",
        "for id, (model_name, my_model) in enumerate([('Initialization', model),\n",
        "                                              ('Partially trained', partial_trained_model)]):\n",
        "  # Compue the loss we will be comparing to\n",
        "  base_loss = loss_fn(my_model(X), y)\n",
        "\n",
        "  # Compute the improvement via gradient descent\n",
        "  dummy_model = copy.deepcopy(my_model)\n",
        "  loss1 = loss_fn(dummy_model(X), y)\n",
        "  gradient_update(loss1, list(dummy_model.parameters()), lr=1e-2)\n",
        "  gd_delta = loss_fn(dummy_model(X), y) - base_loss\n",
        "\n",
        "  deltas = []\n",
        "  for trial_id in range(100):\n",
        "    # Compute the improvement obtained with a random direction\n",
        "    dummy_model = copy.deepcopy(my_model)\n",
        "    random_update(dummy_model, noise_scale=1e-2)\n",
        "    deltas.append((loss_fn(dummy_model(X), y) - base_loss).item())\n",
        "\n",
        "  # Plot histogram for random direction and vertical line for gradient descent\n",
        "  axs[id].hist(deltas, label='Random Directions', bins=20)\n",
        "  axs[id].set_title(model_name)\n",
        "  axs[id].set_xlabel('Change in loss')\n",
        "  axs[id].set_ylabel('% samples')\n",
        "  axs[id].axvline(0, c='green', alpha=0.5)\n",
        "  axs[id].axvline(gd_delta.item(), linestyle='--', c='red', alpha=1,\n",
        "                  label='Gradient Descent')\n",
        "\n",
        "\n",
        "handles, labels = axs[id].get_legend_handles_labels()\n",
        "fig.legend(handles, labels, loc='upper center',\n",
        "           bbox_to_anchor=(0.5, 1.05),\n",
        "           fancybox=False, shadow=False, ncol=2)\n",
        "\n",
        "plt.show()"
      ],
      "execution_count": 23,
      "outputs": [
        {
          "output_type": "display_data",
          "data": {
            "image/png": "[encoded data removed]",
            "text/plain": [
              "<Figure size 720x288 with 2 Axes>"
            ]
          },
          "metadata": {
            "tags": [],
            "image/png": {
              "width": 702,
              "height": 294
            },
            "needs_background": "light"
          }
        }
      ]
    },
    {
      "cell_type": "markdown",
      "metadata": {
        "execution": {},
        "id": "w14zHljLbq8M"
      },
      "source": [
        "## Think! 3: Gradient descent vs. random search\n",
        "\n",
        "Compare the behavior of gradient descent and random search based on the histograms above. Is any of the two methods more reliable? How can you explain the changes between behavior of the methods at initialization vs during training?"
      ]
    },
    {
      "cell_type": "code",
      "metadata": {
        "execution": {},
        "id": "8ssXiLVbbq8N"
      },
      "source": [
        "# to_remove explanation\n",
        "\n",
        "\"\"\"\n",
        "Note how gradient descent (with a properly tuned step size) guarantees an improvement\n",
        "in the objective function, unlike the random udpate method, which very rarely finds a\n",
        "direction that improves the objective function. The green line indicates\n",
        "a change of zero in the value of the loss: we want to be below zero to minimize!\n",
        "\n",
        "The magnitue of the improvement at initialization is much bigger than\n",
        "the change in loss obtained at a later stage in training. This is expected,\n",
        "as we have gotten closer to the optimum parameter configuration.\n",
        "\"\"\";"
      ],
      "execution_count": 24,
      "outputs": []
    },
    {
      "cell_type": "markdown",
      "metadata": {
        "execution": {},
        "id": "hIDiqwo1bq8N"
      },
      "source": [
        "---\n",
        "# Section 4: Poor conditioning\n",
        "\n",
        "Already in this 'simple' logistic regression problem, the issue of bad conditioning is haunting us. Not all parameters are created equal and the sensitivity of the network to changes on the parameters will have a big impact in the dynamics of the optimization."
      ]
    },
    {
      "cell_type": "code",
      "metadata": {
        "cellView": "form",
        "execution": {},
        "id": "X8xk4GNMbq8N",
        "outputId": "523725c1-9343-416a-99b7-998bedfb85ab",
        "colab": {
          "base_uri": "https://localhost:8080/",
          "height": 579,
          "referenced_widgets": [
            "404f97ed70844b31aca248f9297c8eee",
            "a96075ab2b674b178edae4f994c4360b",
            "025717f01e7f41b596f78a3f99b763ed",
            "f2ae26ef0660405992b334131628d31e",
            "9be978a4209b4595a00eba9ecfd3568a",
            "a815b68bf8864b57959338450e80e097"
          ]
        }
      },
      "source": [
        "# @title Video 4: Momentum\n",
        "from ipywidgets import widgets\n",
        "\n",
        "out2 = widgets.Output()\n",
        "with out2:\n",
        "  from IPython.display import IFrame\n",
        "  class BiliVideo(IFrame):\n",
        "    def __init__(self, id, page=1, width=400, height=300, **kwargs):\n",
        "      self.id=id\n",
        "      src = \"https://player.bilibili.com/player.html?bvid={0}&page={1}\".format(id, page)\n",
        "      super(BiliVideo, self).__init__(src, width, height, **kwargs)\n",
        "\n",
        "  video = BiliVideo(id=f\"BV1NL411H71t\", width=854, height=480, fs=1)\n",
        "  print(\"Video available at https://www.bilibili.com/video/{0}\".format(video.id))\n",
        "  display(video)\n",
        "\n",
        "out1 = widgets.Output()\n",
        "with out1:\n",
        "  from IPython.display import YouTubeVideo\n",
        "  video = YouTubeVideo(id=f\"3ES5O58Y_2M\", width=854, height=480, fs=1, rel=0)\n",
        "  print(\"Video available at https://youtube.com/watch?v=\" + video.id)\n",
        "  display(video)\n",
        "\n",
        "out = widgets.Tab([out1, out2])\n",
        "out.set_title(0, 'Youtube')\n",
        "out.set_title(1, 'Bilibili')\n",
        "\n",
        "display(out)"
      ],
      "execution_count": 25,
      "outputs": [
        {
          "output_type": "display_data",
          "data": {
            "application/vnd.jupyter.widget-view+json": {
              "model_id": "404f97ed70844b31aca248f9297c8eee",
              "version_minor": 0,
              "version_major": 2
            },
            "text/plain": [
              "Tab(children=(Output(), Output()), _titles={'0': 'Youtube', '1': 'Bilibili'})"
            ]
          },
          "metadata": {
            "tags": []
          }
        }
      ]
    },
    {
      "cell_type": "markdown",
      "metadata": {
        "execution": {},
        "id": "BLxGLXM-bq8O"
      },
      "source": [
        "We illustrate this issue in a 2-dimensional setting. We freeze all but two parameters of the network: one of them is an element of the weight matrix (filter) for class 0, while the other is the bias for class 7. This results in an optimization with two decision variables.\n",
        "\n",
        "How much difference is there in the behavior of these two parameters under gradient descent? What is the effect of momentum in bridging that gap?\n"
      ]
    },
    {
      "cell_type": "code",
      "metadata": {
        "cellView": "form",
        "execution": {},
        "id": "aHr_QuHcbq8O"
      },
      "source": [
        "# @markdown _Run this cell_ to setup some helper functions.\n",
        "\n",
        "def loss_2d(model, u, v, mask_idx=(0, 378), bias_id=7):\n",
        "  \"\"\"Defines a 2-dim function by freezing all but two parameters of a linear\n",
        "  model.\n",
        "\n",
        "  Args:\n",
        "    model (torch module): a pytorch 0-hidden layer (linear) model\n",
        "    u (scalar): first free parameter\n",
        "    v (scalar): second free parameter\n",
        "    mask_idx (tuple): selects parameter in weight matrix replaced by u\n",
        "    bias_idx (int): selects parameter in bias vector replaced by v\n",
        "\n",
        "  Returns:\n",
        "    scalar: loss of the 'new' model over inputs X, y (defined externally)\n",
        "  \"\"\"\n",
        "\n",
        "  # We zero out the element of the weight tensor that will be\n",
        "  # replaced by u\n",
        "  mask = torch.ones_like(model.main[0].weight)\n",
        "  mask[mask_idx[0], mask_idx[1]] = 0.\n",
        "  masked_weights = model.main[0].weight * mask\n",
        "\n",
        "  # u is replacing an element of the weight matrix\n",
        "  masked_weights[mask_idx[0], mask_idx[1]] = u\n",
        "\n",
        "  res = X.reshape(-1, 784) @ masked_weights.T + model.main[0].bias\n",
        "\n",
        "  # v is replacing a bias for class 7\n",
        "  res[:, 7] += v - model.main[0].bias[7]\n",
        "  res =  F.log_softmax(res, dim=1)\n",
        "\n",
        "  return loss_fn(res, y)\n",
        "\n",
        "\n",
        "def plot_surface(U, V, Z, fig):\n",
        "  \"\"\" Plot a 3D loss surface given meshed inputs U, V and values Z\n",
        "  \"\"\"\n",
        "  ax = fig.add_subplot(1, 2, 2, projection='3d')\n",
        "  ax.view_init(45, -130)\n",
        "\n",
        "  surf = ax.plot_surface(U, V, Z, cmap=plt.cm.coolwarm,\n",
        "                      linewidth=0, antialiased=True, alpha=0.5)\n",
        "\n",
        "  # Select certain level contours to plot\n",
        "  # levels = Z.min() * np.array([1.005, 1.1, 1.3, 1.5, 2.])\n",
        "  # plt.contour(U, V, Z)# levels=levels, alpha=0.5)\n",
        "\n",
        "  ax.set_xlabel('Weight')\n",
        "  ax.set_ylabel('Bias')\n",
        "  ax.set_zlabel('Loss', rotation=90)\n",
        "\n",
        "  return ax\n",
        "\n",
        "\n",
        "def plot_param_distance(best_u, best_v, trajs, fig, styles, labels,\n",
        "                        use_log=False, y_min_v=-12.0, y_max_v=1.5):\n",
        "  \"\"\" Plot the distance to each of the two parameters for a collection of 'trajectories'\n",
        "  \"\"\"\n",
        "  ax = fig.add_subplot(1, 1, 1)\n",
        "\n",
        "  for traj, style, label in zip(trajs, styles, labels):\n",
        "    d0 = np.array([np.abs(_[0] - best_u) for _ in traj])\n",
        "    d1 = np.array([np.abs(_[1] - best_v) for _ in traj])\n",
        "    if use_log:\n",
        "      d0 = np.log(1e-16 + d0)\n",
        "      d1 = np.log(1e-16 + d1)\n",
        "    ax.plot(range(len(traj)), d0, style, label='weight - ' + label)\n",
        "    ax.plot(range(len(traj)), d1, style, label='bias - ' + label)\n",
        "  ax.set_xlabel('Iteration')\n",
        "  if use_log:\n",
        "    ax.set_ylabel('Log distance to optimum (per dimension)')\n",
        "    ax.set_ylim(y_min_v, y_max_v)\n",
        "  else:\n",
        "    ax.set_ylabel('Abs distance to optimum (per dimension)')\n",
        "  ax.legend(loc='right', bbox_to_anchor=(1.5, 0.5),\n",
        "            fancybox=False, shadow=False, ncol=1)\n",
        "\n",
        "  return ax\n",
        "\n",
        "\n",
        "def run_optimizer(inits, eval_fn, update_fn, max_steps=500,\n",
        "                  optim_kwargs={'lr':1e-2}, log_traj=True):\n",
        "  \"\"\"Runs an optimizer on a given objective and logs parameter trajectory\n",
        "\n",
        "  Args:\n",
        "      inits list(scalar): initialization of parameters\n",
        "      eval_fn (callable): function computing the objective to be minimized\n",
        "      update_fn (callable): function executing parameter update\n",
        "      max_steps (int): number of iterations to run\n",
        "      optim_kwargs (dict): customize optimizer hyperparameters\n",
        "\n",
        "  Returns:\n",
        "      list[list]: trajectory information [*params, loss] for each optimization step\n",
        "  \"\"\"\n",
        "\n",
        "  # Initialize parameters and optimizer\n",
        "  params = [nn.Parameter(torch.tensor(_)) for _ in inits]\n",
        "  # Methods like momentum and rmsprop keep and auxiliary vector of parameters\n",
        "  aux_tensors = [torch.zeros_like(_) for _ in params]\n",
        "  if log_traj:\n",
        "    traj = np.zeros((max_steps, len(params)+1))\n",
        "  for _ in range(max_steps):\n",
        "    # Evaluate loss\n",
        "    loss = eval_fn(*params)\n",
        "    # Store 'trajectory' information\n",
        "    if log_traj:\n",
        "      traj[_, :] = [_.item() for _ in params] + [loss.item()]\n",
        "    # Perform update\n",
        "    if update_fn == gradient_update:\n",
        "      gradient_update(loss, params, **optim_kwargs)\n",
        "    else:\n",
        "      update_fn(loss, params, aux_tensors, **optim_kwargs)\n",
        "  if log_traj:\n",
        "    return traj\n",
        "\n",
        "\n",
        "L = 4.\n",
        "xs = np.linspace(-L, L, 30)\n",
        "ys = np.linspace(-L, L, 30)\n",
        "U, V = np.meshgrid(xs, ys)\n",
        "\n",
        "# Compute loss surface\n",
        "g = lambda u, v: loss_2d(copy.deepcopy(model), u, v)\n",
        "Z = np.fromiter(map(g, U.ravel(), V.ravel()), U.dtype).reshape(V.shape)"
      ],
      "execution_count": 26,
      "outputs": []
    },
    {
      "cell_type": "markdown",
      "metadata": {
        "execution": {},
        "id": "2nvfYYB5bq8P"
      },
      "source": [
        "## Coding Exercise 4: Implement momentum\n",
        "\n",
        "In this exercise you will implement the momentum update given by:\n",
        "\n",
        "\\begin{equation}\n",
        "w_{t+1} = w_t - \\eta \\nabla J(w_t) + \\beta (w_t - w_{t-1})\n",
        "\\end{equation}\n",
        "\n",
        "It is convenient to re-express this update rule in terms of a recursion. For that, we define 'velocity' as the quantity:\n",
        "\\begin{equation}\n",
        "v_{t-1} := w_{t} - w_{t-1}\n",
        "\\end{equation}\n",
        "\n",
        "which leads to the two-step update rule:\n",
        "\n",
        "\\begin{equation}\n",
        "v_t = - \\eta \\nabla J(w_t) + \\beta (\\underbrace{w_t - w_{t-1}}_{v_{t-1}})\n",
        "\\end{equation}\n",
        "\n",
        "\\begin{equation}\n",
        "w_{t+1} \\leftarrow w_t + v_{t}\n",
        "\\end{equation}\n",
        "\n",
        "Pay attention to the positive sign of the update in the last equation, given the definition of $v_t$, above. "
      ]
    },
    {
      "cell_type": "code",
      "metadata": {
        "execution": {},
        "id": "cTRKcLUSbq8P",
        "outputId": "fa721d55-2fd2-4985-9f33-4dc9a7bf5abe",
        "colab": {
          "base_uri": "https://localhost:8080/"
        }
      },
      "source": [
        "def momentum_update(loss, params, grad_vel, lr=1e-3, beta=0.8):\n",
        "  \"\"\"Perform a momentum update over a collection of parameters given a loss and 'velocities'\n",
        "\n",
        "  Args:\n",
        "    loss (tensor): A scalar tensor containing the loss whose gradient will be computed\n",
        "    params (iterable): Collection of parameters with respect to which we compute gradients\n",
        "    grad_vel (iterable): Collection containing the 'velocity' v_t for each parameter\n",
        "    lr (float): Scalar specifying the learning rate or step-size for the update\n",
        "    beta (float): Scalar 'momentum' parameter\n",
        "  \"\"\"\n",
        "  # Clear up gradients as Pytorch automatically accumulates gradients from\n",
        "  # successive backward calls\n",
        "  zero_grad(params)\n",
        "  # Compute gradients on given objective\n",
        "  loss.backward()\n",
        "\n",
        "  with torch.no_grad():\n",
        "    for (par, vel) in zip(params, grad_vel):\n",
        "      #################################################\n",
        "      ## TODO for students: update the value of the parameter ##\n",
        "      raise NotImplementedError(\"Student exercise: implement momentum update\")\n",
        "      #################################################\n",
        "      # Update 'velocity'\n",
        "      vel = ...\n",
        "      # Update parameters\n",
        "      par += ...\n",
        "\n",
        "\n",
        "set_seed(2021)\n",
        "model = MLP(in_dim=784, out_dim=10, hidden_dims=[])\n",
        "print('\\n The model parameters before the update are: \\n')\n",
        "print_params(model)\n",
        "loss = loss_fn(model(X), y)\n",
        "initial_vel = [torch.randn_like(p) for p in model.parameters()]\n",
        "\n",
        "## Uncomment below to test your function\n",
        "# momentum_update(loss, list(model.parameters()), grad_vel=initial_vel, lr=1e-1)\n",
        "# print('\\n The model parameters after the update are: \\n')\n",
        "# print_params(model)"
      ],
      "execution_count": 27,
      "outputs": [
        {
          "output_type": "stream",
          "text": [
            "Random seed 2021 has been set.\n",
            "\n",
            " The model parameters before the update are: \n",
            "\n",
            "main.0.weight tensor([[-0.0264,  0.0010,  0.0173,  ...,  0.0297,  0.0278, -0.0221],\n",
            "        [-0.0040, -0.0295, -0.0086,  ..., -0.0070,  0.0254, -0.0233],\n",
            "        [ 0.0240, -0.0231,  0.0342,  ...,  0.0124,  0.0270, -0.0180],\n",
            "        ...,\n",
            "        [-0.0005,  0.0157,  0.0111,  ...,  0.0144, -0.0301, -0.0144],\n",
            "        [ 0.0181,  0.0303,  0.0255,  ..., -0.0110, -0.0175,  0.0205],\n",
            "        [ 0.0208, -0.0353, -0.0183,  ..., -0.0271,  0.0099,  0.0003]])\n",
            "main.0.bias tensor([-0.0290, -0.0033,  0.0100, -0.0320,  0.0022,  0.0221,  0.0307,  0.0243,\n",
            "         0.0159, -0.0064])\n"
          ],
          "name": "stdout"
        }
      ]
    },
    {
      "cell_type": "code",
      "metadata": {
        "execution": {},
        "id": "xKvdF_zPbq8P",
        "outputId": "8af4263a-d86e-4de4-c0a5-58ce76eed0a6",
        "colab": {
          "base_uri": "https://localhost:8080/"
        }
      },
      "source": [
        "# to_remove solution\n",
        "def momentum_update(loss, params, grad_vel, lr=1e-3, beta=0.8):\n",
        "  \"\"\"Perform a momentum update over a collection of parameters given a loss and 'velocities'\n",
        "\n",
        "  Args:\n",
        "    loss (tensor): A scalar tensor containing the loss whose gradient will be computed\n",
        "    params (iterable): Collection of parameters with respect to which we compute gradients\n",
        "    grad_vel (iterable): Collection containing the 'velocity' v_t for each parameter\n",
        "    lr (float): Scalar specifying the learning rate or step-size for the update\n",
        "    beta (float): Scalar 'momentum' parameter\n",
        "  \"\"\"\n",
        "  # Clear up gradients as Pytorch automatically accumulates gradients from\n",
        "  # successive backward calls\n",
        "  zero_grad(params)\n",
        "  # Compute gradients on given objective\n",
        "  loss.backward()\n",
        "\n",
        "  with torch.no_grad():\n",
        "    for (par, vel) in zip(params, grad_vel):\n",
        "      # Update 'velocity'\n",
        "      vel = -lr * par.grad + beta * vel\n",
        "      # Update parameters\n",
        "      par += vel\n",
        "\n",
        "\n",
        "set_seed(2021)\n",
        "model = MLP(in_dim=784, out_dim=10, hidden_dims=[])\n",
        "print('\\n The model parameters before the update are: \\n')\n",
        "print_params(model)\n",
        "loss = loss_fn(model(X), y)\n",
        "initial_vel = [torch.randn_like(p) for p in model.parameters()]\n",
        "\n",
        "## Uncomment below to test your function\n",
        "momentum_update(loss, list(model.parameters()), grad_vel=initial_vel, lr=1e-1)\n",
        "print('\\n The model parameters after the update are: \\n')\n",
        "print_params(model)"
      ],
      "execution_count": 28,
      "outputs": [
        {
          "output_type": "stream",
          "text": [
            "Random seed 2021 has been set.\n",
            "\n",
            " The model parameters before the update are: \n",
            "\n",
            "main.0.weight tensor([[-0.0264,  0.0010,  0.0173,  ...,  0.0297,  0.0278, -0.0221],\n",
            "        [-0.0040, -0.0295, -0.0086,  ..., -0.0070,  0.0254, -0.0233],\n",
            "        [ 0.0240, -0.0231,  0.0342,  ...,  0.0124,  0.0270, -0.0180],\n",
            "        ...,\n",
            "        [-0.0005,  0.0157,  0.0111,  ...,  0.0144, -0.0301, -0.0144],\n",
            "        [ 0.0181,  0.0303,  0.0255,  ..., -0.0110, -0.0175,  0.0205],\n",
            "        [ 0.0208, -0.0353, -0.0183,  ..., -0.0271,  0.0099,  0.0003]])\n",
            "main.0.bias tensor([-0.0290, -0.0033,  0.0100, -0.0320,  0.0022,  0.0221,  0.0307,  0.0243,\n",
            "         0.0159, -0.0064])\n",
            "\n",
            " The model parameters after the update are: \n",
            "\n",
            "main.0.weight tensor([[ 1.4102,  0.0104, -1.7971,  ..., -0.9630,  0.3613, -0.8537],\n",
            "        [ 0.4131,  0.5320, -0.6555,  ...,  0.4867, -0.2414, -0.5839],\n",
            "        [-1.2522, -0.9844,  0.5808,  ..., -0.9055,  0.5810,  0.1143],\n",
            "        ...,\n",
            "        [-0.4532,  0.4529, -0.0626,  ...,  0.9965,  0.2545, -0.8600],\n",
            "        [-0.3897, -0.1012,  0.6730,  ...,  0.0690, -0.1672,  0.3165],\n",
            "        [-0.9599,  0.8921, -0.3801,  ..., -0.3372, -1.5537,  0.5356]])\n",
            "main.0.bias tensor([ 0.3654, -0.9282,  0.7764, -1.4442, -0.8556,  0.8400, -0.4569,  1.1953,\n",
            "         0.5866,  0.3262])\n"
          ],
          "name": "stdout"
        }
      ]
    },
    {
      "cell_type": "markdown",
      "metadata": {
        "execution": {},
        "id": "pA1iSvQdbq8Q"
      },
      "source": [
        "```\n",
        " The model parameters after the update are: \n",
        "\n",
        "main.0.weight tensor([[ 1.4102,  0.0104, -1.7971,  ..., -0.9630,  0.3613, -0.8537],\n",
        "        [ 0.4131,  0.5320, -0.6555,  ...,  0.4867, -0.2414, -0.5839],\n",
        "        [-1.2522, -0.9844,  0.5808,  ..., -0.9055,  0.5810,  0.1143],\n",
        "        ...,\n",
        "        [-0.4532,  0.4529, -0.0626,  ...,  0.9965,  0.2545, -0.8600],\n",
        "        [-0.3897, -0.1012,  0.6730,  ...,  0.0690, -0.1672,  0.3165],\n",
        "        [-0.9599,  0.8921, -0.3801,  ..., -0.3372, -1.5537,  0.5356]])\n",
        "main.0.bias tensor([ 0.3654, -0.9282,  0.7764, -1.4442, -0.8556,  0.8400, -0.4569,  1.1953,\n",
        "         0.5866,  0.3262])\n",
        "```"
      ]
    },
    {
      "cell_type": "markdown",
      "metadata": {
        "execution": {},
        "id": "VXvQyhO1bq8R"
      },
      "source": [
        "## Interactive Demo 4: Momentum vs. GD\n",
        "\n",
        "The plots below show the distance to the optimum for both variables across the two methods, as well as the parameter trajectory over the loss surface."
      ]
    },
    {
      "cell_type": "code",
      "metadata": {
        "cellView": "form",
        "execution": {},
        "id": "XDSz3KmZbq8R",
        "outputId": "58a45c97-bb96-4d49-9718-9bd1c971015e",
        "colab": {
          "base_uri": "https://localhost:8080/",
          "height": 145,
          "referenced_widgets": [
            "d7945b1bced54f5ebd3f42bab35b77f8",
            "fcd111430d9748b4bbc529591e2e4eae",
            "03e590ca4e9e4823b5aacf93bc7497f4",
            "9082a1be478842b4b9fca5f79b4e1a2a",
            "f9922fb03bff47a5aef2a69214c8c172",
            "89b3dcd6b1e4400a9e014ba9980ef824",
            "dbb2fc3a7eea459ab58a6307b0eb0cf6",
            "57309f58d2604f9985d45891ee6c51f6",
            "0747e3f0e3f5403780127d095e9179b4",
            "c186ed7d7ce74a27b34813bd7665b600",
            "8ee639654d724f33946b1d3fcfae61de",
            "1f56cb2eb7d24ab4ad38786272878a76",
            "93765bd85f83496b8caa1a4eddaa6a33",
            "ec131839a2034ec99e0977b41516522c",
            "8265915c5239438295dbc3c34e17f222",
            "d658ebda06d74e2986f20630d0d2185c"
          ]
        }
      },
      "source": [
        "# @markdown Run this cell to enable the widget!\n",
        "from matplotlib.lines import Line2D\n",
        "\n",
        "\n",
        "# Find the optimum of this 2D problem using Newton's method\n",
        "def run_newton(init_list=[0., 0.], max_iter=200):\n",
        "\n",
        "  par_tensor = torch.tensor(init_list, requires_grad=True)\n",
        "  t_g = lambda par_tensor: g(par_tensor[0], par_tensor[1])\n",
        "\n",
        "  for _ in range(max_iter):\n",
        "    eval_loss = t_g(par_tensor)\n",
        "    eval_grad = torch.autograd.grad(eval_loss, [par_tensor])[0]\n",
        "    eval_hess = torch.autograd.functional.hessian(t_g, par_tensor)\n",
        "    # Newton's update is:  - inverse(Hessian) x gradient\n",
        "    par_tensor.data -= torch.inverse(eval_hess) @ eval_grad\n",
        "\n",
        "  return par_tensor.data.numpy()\n",
        "\n",
        "\n",
        "best_u, best_v  = run_newton()\n",
        "\n",
        "# Initialization of the variables\n",
        "INITS = [2.5, 3.7]\n",
        "\n",
        "# Used for plotting\n",
        "LABELS = ['GD', 'Momentum']\n",
        "COLORS = ['black', 'red']\n",
        "LSTYLES = ['-', '--']\n",
        "\n",
        "@widgets.interact_manual\n",
        "def momentum_experiment(max_steps=widgets.IntSlider(300, 50, 500, 5),\n",
        "                        lr=widgets.FloatLogSlider(value=1e-1, min=-3, max=0.7, step=0.1),\n",
        "                        beta=widgets.FloatSlider(value=9e-1, min=0, max=1., step=0.01)\n",
        "                        ):\n",
        "\n",
        "  # Execute both optimizers\n",
        "  sgd_traj = run_optimizer(INITS, eval_fn=g, update_fn=gradient_update,\n",
        "                           max_steps=max_steps, optim_kwargs={'lr': lr})\n",
        "  mom_traj = run_optimizer(INITS, eval_fn=g, update_fn=momentum_update,\n",
        "                           max_steps=max_steps, optim_kwargs={'lr': lr, 'beta':beta})\n",
        "\n",
        "  TRAJS = [sgd_traj, mom_traj]\n",
        "\n",
        "  # best_u, best_v = mom_traj[-1][0], mom_traj[-1][1]\n",
        "  # Plot distances\n",
        "  fig = plt.figure(figsize=(9,4))\n",
        "  plot_param_distance(best_u, best_v, TRAJS, fig,\n",
        "                      LSTYLES, LABELS, use_log=True, y_min_v=-5.0, y_max_v=5.0)\n",
        "\n",
        "  # # Plot trajectories\n",
        "  fig = plt.figure(figsize=(12, 5))\n",
        "  ax = plot_surface(U, V, Z, fig)\n",
        "  for traj, c, label in zip(TRAJS, COLORS, LABELS):\n",
        "    ax.plot3D(*traj.T, c, linewidth=0.3, label=label)\n",
        "    ax.scatter3D(*traj.T, '.-', s=1, c=c)\n",
        "\n",
        "  # Plot optimum point\n",
        "  ax.scatter(best_u, best_v, Z.min(), marker='*', s=80, c='lime', label='Opt.');\n",
        "  lines = [Line2D([0], [0],\n",
        "                  color=c,\n",
        "                  linewidth=3,\n",
        "                  linestyle='--') for c in COLORS]\n",
        "  lines.append(Line2D([0], [0], color='lime', linewidth=0, marker='*'))\n",
        "  ax.legend(lines, LABELS + ['Optimum'], loc='right',\n",
        "            bbox_to_anchor=(.8, -0.1), ncol=len(LABELS) + 1)"
      ],
      "execution_count": 29,
      "outputs": [
        {
          "output_type": "display_data",
          "data": {
            "application/vnd.jupyter.widget-view+json": {
              "model_id": "d7945b1bced54f5ebd3f42bab35b77f8",
              "version_minor": 0,
              "version_major": 2
            },
            "text/plain": [
              "interactive(children=(IntSlider(value=300, description='max_steps', max=500, min=50, step=5), FloatLogSlider(v…"
            ]
          },
          "metadata": {
            "tags": []
          }
        }
      ]
    },
    {
      "cell_type": "markdown",
      "metadata": {
        "execution": {},
        "id": "Y1XGSB9Xbq8R"
      },
      "source": [
        "## Think! 4: Momentum and oscillations\n",
        "\n",
        "- Discuss how this specific example illustrates the issue of poor conditioning in optimization? How does momentum help resolve these difficulties?\n",
        "\n",
        "- Do you see oscillations for any of these methods? Why does this happen?\n",
        "\n",
        "- Finally, tune the learning rate and momentum parameters to achieve a loss below $10^{-6}$ (for both dimensions) within 100 iterations."
      ]
    },
    {
      "cell_type": "code",
      "metadata": {
        "execution": {},
        "id": "NN8nTHsZbq8S"
      },
      "source": [
        "# to_remove explanation\n",
        "\n",
        "\"\"\"\n",
        "- The loss has very different curvatures between the weight and the bias dimensions:\n",
        "a change of the same magnitude has a much bigger effect in the loss when applied to the weight than to the bias.\n",
        "This leads to very slow convergence of GD in the bias dimension.\n",
        "\n",
        "- Momentum encourages 'movement' in previously seen directions and results in\n",
        "both parameters converging much faster. The oscillations you can see for the momentum\n",
        "trajectories arise due to overshooting past the solution due to the momentum term.\n",
        "\"\"\";"
      ],
      "execution_count": 30,
      "outputs": []
    },
    {
      "cell_type": "markdown",
      "metadata": {
        "execution": {},
        "id": "SkUrDYNIbq8S"
      },
      "source": [
        "---\n",
        "# Section 5: Non-convexity\n",
        "\n",
        "The introduction of even just 1 hidden layer in the neural network transforms the previous convex optimization problem into a non-convex one. And with great non-convexity, comes great responsibility... (Sorry, we couldn't help it!)\n",
        "\n",
        "**Note:** From this section onwards we will be dealing with non-convex optimization problems for the remaining of the tutorial. "
      ]
    },
    {
      "cell_type": "code",
      "metadata": {
        "cellView": "form",
        "execution": {},
        "id": "imf03WPrbq8S",
        "outputId": "2fd91268-6a53-4f8d-fc66-b02087befe6e",
        "colab": {
          "base_uri": "https://localhost:8080/",
          "height": 579,
          "referenced_widgets": [
            "ceb40d45e7ee42f1b46ce181e4630f50",
            "6203e152734346faaed79f62d3274d2a",
            "3962dc8b93464b7695c11067cc49ac67",
            "d331a57e0c3b43db93b46862f758893b",
            "e293a7f11a524c0c8c02fcbd02022eb0",
            "12bf1c40e6974123a0d124de1f075522"
          ]
        }
      },
      "source": [
        "# @title Video 5: Overparametrization\n",
        "from ipywidgets import widgets\n",
        "\n",
        "out2 = widgets.Output()\n",
        "with out2:\n",
        "  from IPython.display import IFrame\n",
        "  class BiliVideo(IFrame):\n",
        "    def __init__(self, id, page=1, width=400, height=300, **kwargs):\n",
        "      self.id=id\n",
        "      src = \"https://player.bilibili.com/player.html?bvid={0}&page={1}\".format(id, page)\n",
        "      super(BiliVideo, self).__init__(src, width, height, **kwargs)\n",
        "\n",
        "  video = BiliVideo(id=f\"BV16h41167Jr\", width=854, height=480, fs=1)\n",
        "  print(\"Video available at https://www.bilibili.com/video/{0}\".format(video.id))\n",
        "  display(video)\n",
        "\n",
        "out1 = widgets.Output()\n",
        "with out1:\n",
        "  from IPython.display import YouTubeVideo\n",
        "  video = YouTubeVideo(id=f\"7vUpUEKKl5o\", width=854, height=480, fs=1, rel=0)\n",
        "  print(\"Video available at https://youtube.com/watch?v=\" + video.id)\n",
        "  display(video)\n",
        "\n",
        "out = widgets.Tab([out1, out2])\n",
        "out.set_title(0, 'Youtube')\n",
        "out.set_title(1, 'Bilibili')\n",
        "\n",
        "display(out)"
      ],
      "execution_count": 31,
      "outputs": [
        {
          "output_type": "display_data",
          "data": {
            "application/vnd.jupyter.widget-view+json": {
              "model_id": "ceb40d45e7ee42f1b46ce181e4630f50",
              "version_minor": 0,
              "version_major": 2
            },
            "text/plain": [
              "Tab(children=(Output(), Output()), _titles={'0': 'Youtube', '1': 'Bilibili'})"
            ]
          },
          "metadata": {
            "tags": []
          }
        }
      ]
    },
    {
      "cell_type": "markdown",
      "metadata": {
        "execution": {},
        "id": "QVdUAPEQbq8S"
      },
      "source": [
        "Take a couple of minutes to play with a more complex 3D visualization of the loss landscape of a neural network on a non-convex problem. Visit https://losslandscape.com/explorer.\n",
        "\n",
        "1. Explore the features on the bottom left corner. You can see an explanation for each icon by clicking on the [i] button located on the top right corner.\n",
        "2. Use the 'gradient descent' feature to perform a thought experiment:\n",
        "    -   Choose an initialization\n",
        "    -   Choose the learning rate\n",
        "    -   Mentally formulate your hypothesis about what kind of trajectory you expect to observe \n",
        "3. Run the experiment and contrast your intuition with the observed behavior.\n",
        "4. Repeat this experiment a handful of times for several initialization/learning rate configurations\n"
      ]
    },
    {
      "cell_type": "markdown",
      "metadata": {
        "execution": {},
        "id": "aiuASAZYbq8T"
      },
      "source": [
        "## Interactive Demo 5: Overparametrization to the rescue!\n",
        "\n",
        "As you may have seen, the non-convex nature of the surface can lead the optimization process to get stuck in undesirable local-optima. There is ample empirical evidence supporting the claim that 'overparameterized' models are easier to train.\n",
        "\n",
        "We will explore this assertion in the context of our MLP training. For this, we initialize a fixed model and construct several models by small random perturbations to the original initialized weights. Now, we train each of these perturbed models and see how the loss evolves. If we were in the convex setting, we should reach very similar objective values upon convergence since all these models were very close at the beginning of training, and in convex problems, every local optimum is also a global optimum.\n",
        "\n",
        "Use the interactive plot below to visualize the loss progression for these perturbed models:\n",
        "\n",
        "1. Select different settings from the `hidden_dims` drop-down menu.\n",
        "2. Explore the effect of the number of steps and learning rate."
      ]
    },
    {
      "cell_type": "code",
      "metadata": {
        "cellView": "form",
        "execution": {},
        "id": "1RAJo4V9bq8T",
        "outputId": "b2b26d2f-41e7-4a47-da21-dda601681b48",
        "colab": {
          "base_uri": "https://localhost:8080/",
          "height": 177,
          "referenced_widgets": [
            "b24f7986b66743248e1f16ece9b0b3b6",
            "833ba1bc312e4bf0946a8f2a3818d5a8",
            "ecc481e266b54b89af98b0f9a8aafb9e",
            "4fab54c2c3b44e70b3a1fa1a158b6ab2",
            "3da53563a0594098b4f33097bdfa4e28",
            "4a2de1e2b71b44f6972ee58ed5e719fa",
            "c4c7c29c7f9748119ab1c802c737ec4d",
            "3fd29fb80d484ea78f9f03827c37b4af",
            "f2d52fcabd424a998e295174f5bb5ba6",
            "70045c33d52f4cc5bc7322a4c1a05d94",
            "3e585961455c4a4fb810b01344cdb27b",
            "5fc27e33e34d425ab03055a40492dcf4",
            "801a43f8f9f949b3a384fea61faa8443",
            "f8ead98645b34d0d89d48bb2c94c064a",
            "6ca1c0631f8d4d85b3c9fee6c0a251d4",
            "9641c17a603a45fcbe3620fb14a2f4fb",
            "534dd9b9ae1a4ea381c689f5d0145d5f",
            "e89e13a91f65471b839ae4e66a49bdc7",
            "d389bde4238e4b28a07fbec20fa7477b"
          ]
        }
      },
      "source": [
        "# @markdown Execute this cell to enable the widget!\n",
        "train_set, test_set = load_mnist_data(change_tensors=True)\n",
        "\n",
        "@widgets.interact_manual\n",
        "\n",
        "def overparam(max_steps=widgets.IntSlider(150, 50, 500, 5),\n",
        "              hidden_dims=widgets.Dropdown(options=[\"10\", \"20, 20\", \"100, 100\"],\n",
        "                                           value=\"10\"),\n",
        "              lr=widgets.FloatLogSlider(value=5e-2, min=-3, max=0, step=0.1),\n",
        "              num_inits=widgets.IntSlider(7, 5, 10, 1)):\n",
        "\n",
        "    X, y = train_set.data[subset_index, :], train_set.targets[subset_index]\n",
        "\n",
        "    hdims = [int(s) for s in hidden_dims.split(',')]\n",
        "    base_model = MLP(in_dim=784, out_dim=10, hidden_dims=hdims)\n",
        "\n",
        "    fig, axs = plt.subplots(1, 1, figsize=(5, 4))\n",
        "\n",
        "    for _ in range(num_inits):\n",
        "      model = copy.deepcopy(base_model)\n",
        "      random_update(model, noise_scale=2e-1)\n",
        "\n",
        "      loss_hist = np.zeros((max_steps, 2))\n",
        "      for step in range(max_steps):\n",
        "        loss = loss_fn(model(X), y)\n",
        "        gradient_update(loss, list(model.parameters()), lr=lr)\n",
        "        loss_hist[step] = np.array([step, loss.item()])\n",
        "\n",
        "      plt.plot(loss_hist[:, 0], loss_hist[:, 1])\n",
        "\n",
        "    plt.xlabel('Iteration')\n",
        "    plt.ylabel('Loss')\n",
        "    plt.ylim(0, 3);\n",
        "\n",
        "    num_params = sum([np.prod(_.shape) for _ in model.parameters()])\n",
        "    print('Number of paramaters in model:  ' + str(num_params))"
      ],
      "execution_count": 32,
      "outputs": [
        {
          "output_type": "display_data",
          "data": {
            "application/vnd.jupyter.widget-view+json": {
              "model_id": "b24f7986b66743248e1f16ece9b0b3b6",
              "version_minor": 0,
              "version_major": 2
            },
            "text/plain": [
              "interactive(children=(IntSlider(value=150, description='max_steps', max=500, min=50, step=5), Dropdown(descrip…"
            ]
          },
          "metadata": {
            "tags": []
          }
        }
      ]
    },
    {
      "cell_type": "markdown",
      "metadata": {
        "execution": {},
        "id": "YTYplrCPbq8T"
      },
      "source": [
        "### Think! 5.1: Width and depth of the network\n",
        "\n",
        "- We see that as we increase the width/depth of the network, training becomes faster and more consistent across different initializations. What might be the reasons for this behavior? \n",
        "\n",
        "- What are some potential downsides of this approach to dealing with non-convexity? \n"
      ]
    },
    {
      "cell_type": "code",
      "metadata": {
        "execution": {},
        "id": "EgBaUapTbq8T"
      },
      "source": [
        "# to_remove explanation\n",
        "\n",
        "\"\"\"\n",
        "- The exact mechanism for this phenomenon is still under active research.\n",
        "Existing evidence points to the following: in the overparameterized setting,\n",
        "there are many more 'good configurations' (values of the model’s weights) that\n",
        "lead to a low value of the objective. Furthermore, this large set of possible solutions\n",
        "seems to be increasingly easy to find in the space of all possible\n",
        "parameter configurations. As you increase the number of parameters, it becomes\n",
        "more likely that your initialization will be close to one of these good parameter settings.\n",
        "\n",
        "- This approach will require more memory and computation. Furthermore, we need\n",
        "to always be aware of the risk of overfitting: don’t forget to do cross-validation\n",
        "in order to be able to detect overfitting.\n",
        "\"\"\";"
      ],
      "execution_count": 33,
      "outputs": []
    },
    {
      "cell_type": "markdown",
      "metadata": {
        "execution": {},
        "id": "tyj_uQHzbq8U"
      },
      "source": [
        "---\n",
        "# Section 6: Full gradients are expensive\n",
        "\n",
        "So far we have used only a small (fixed) subset of 500 training examples to perform the updates on the model parameters in our quest to minimize the loss. But what if we decided to use the training set? Do our current approach scale to datasets with tens of thousands, or millions of datapoints?\n",
        "\n",
        "In this section we explore an efficient alternative to avoid having to perform computations on all the training examples before performing a parameter update."
      ]
    },
    {
      "cell_type": "code",
      "metadata": {
        "cellView": "form",
        "execution": {},
        "id": "ot2UDoSHbq8U",
        "outputId": "223c17b7-314f-4ce9-fa38-de51105ef5fe",
        "colab": {
          "base_uri": "https://localhost:8080/",
          "height": 579,
          "referenced_widgets": [
            "31dc089a4082440e99b87ff697aa3359",
            "5d49d7729bf84bbea3eac7c60aaaf640",
            "b9d265403b4a47268becb1877ed116fc",
            "dca5dd4481b54d2f9f35d73b29be59f2",
            "ac68dfd7fbb04bf0a11f4f0020d2dca8",
            "d959237289864579837ab131b9a973a3"
          ]
        }
      },
      "source": [
        "# @title Video 6: Mini-batches\n",
        "from ipywidgets import widgets\n",
        "\n",
        "out2 = widgets.Output()\n",
        "with out2:\n",
        "  from IPython.display import IFrame\n",
        "  class BiliVideo(IFrame):\n",
        "    def __init__(self, id, page=1, width=400, height=300, **kwargs):\n",
        "      self.id=id\n",
        "      src = \"https://player.bilibili.com/player.html?bvid={0}&page={1}\".format(id, page)\n",
        "      super(BiliVideo, self).__init__(src, width, height, **kwargs)\n",
        "\n",
        "  video = BiliVideo(id=f\"BV1ty4y1T7Uh\", width=854, height=480, fs=1)\n",
        "  print(\"Video available at https://www.bilibili.com/video/{0}\".format(video.id))\n",
        "  display(video)\n",
        "\n",
        "out1 = widgets.Output()\n",
        "with out1:\n",
        "  from IPython.display import YouTubeVideo\n",
        "  video = YouTubeVideo(id=f\"hbqUxpNBUGk\", width=854, height=480, fs=1, rel=0)\n",
        "  print(\"Video available at https://youtube.com/watch?v=\" + video.id)\n",
        "  display(video)\n",
        "\n",
        "out = widgets.Tab([out1, out2])\n",
        "out.set_title(0, 'Youtube')\n",
        "out.set_title(1, 'Bilibili')\n",
        "\n",
        "display(out)"
      ],
      "execution_count": 34,
      "outputs": [
        {
          "output_type": "display_data",
          "data": {
            "application/vnd.jupyter.widget-view+json": {
              "model_id": "31dc089a4082440e99b87ff697aa3359",
              "version_minor": 0,
              "version_major": 2
            },
            "text/plain": [
              "Tab(children=(Output(), Output()), _titles={'0': 'Youtube', '1': 'Bilibili'})"
            ]
          },
          "metadata": {
            "tags": []
          }
        }
      ]
    },
    {
      "cell_type": "markdown",
      "metadata": {
        "execution": {},
        "id": "Rms3UQsgbq8U"
      },
      "source": [
        "## Interactive Demo 6.1: Cost of computation\n",
        "\n",
        "Evaluating a neural network is a relatively fast process. However, when repeated millions of times, the computational cost of performing forward and backward passes through the network starts to become significant.\n",
        "\n",
        "In the visualization below, we show the time (averaged over 5 runs) of computing a forward and backward pass with a changing number of input examples. Choose from the different options in the drop-down box and note how the vertical scale changes depending on the size of the network. \n",
        "\n",
        "**Remarks:** Note that the computational cost of a forward pass shows a clear linear relationship with the number of input examples, and the cost of the corresponding backward pass exhibits a similar computational complexity."
      ]
    },
    {
      "cell_type": "code",
      "metadata": {
        "cellView": "form",
        "execution": {},
        "id": "HmDfc03ebq8U",
        "outputId": "eff3ef2f-5f20-467a-9edf-9e0f6dad5049",
        "colab": {
          "base_uri": "https://localhost:8080/",
          "height": 319,
          "referenced_widgets": [
            "3f12ec5b705b4f268ea365fe172f625b",
            "6b365f2332a346b7bf902b2d6bf1c415",
            "9115aedd50064c30a63ef6aab2732cbe",
            "7add093302f64da5841bde313735c41a",
            "e6aa66995f484044a82d05a44d591ad5",
            "3fe3db748b77472c8823a6715f4d3ada",
            "0793467b46f5491da65cf60a07735b92"
          ]
        }
      },
      "source": [
        "# @markdown Execute this cell to enable the widget!\n",
        "\n",
        "def measure_update_time(model, num_points):\n",
        "  X, y = train_set.data[:num_points], train_set.targets[:num_points]\n",
        "  start_time = time.time()\n",
        "  loss = loss_fn(model(X), y)\n",
        "  loss_time = time.time()\n",
        "  gradient_update(loss, list(model.parameters()), lr=0)\n",
        "  gradient_time = time.time()\n",
        "  return loss_time - start_time, gradient_time - loss_time\n",
        "\n",
        "\n",
        "@widgets.interact\n",
        "def computation_time(hidden_dims=widgets.Dropdown(options=[\"1\", \"100\", \"50, 50\"],\n",
        "                                                  value=\"100\")):\n",
        "\n",
        "  hdims = [int(s) for s in hidden_dims.split(',')]\n",
        "  model = MLP(in_dim=784, out_dim=10, hidden_dims=hdims)\n",
        "\n",
        "  NUM_POINTS = [1, 5, 10, 100, 200, 500, 1000, 5000, 10000, 20000, 30000, 50000]\n",
        "  times_list = []\n",
        "  for _ in range(5):\n",
        "    times_list.append(np.array([measure_update_time(model, _) for _ in NUM_POINTS]))\n",
        "\n",
        "  times = np.array(times_list).mean(axis=0)\n",
        "\n",
        "  fig, axs = plt.subplots(1, 1, figsize=(5,4))\n",
        "  plt.plot(NUM_POINTS, times[:, 0], label='Forward')\n",
        "  plt.plot(NUM_POINTS, times[:, 1], label='Backward')\n",
        "  plt.xlabel('Number of data points')\n",
        "  plt.ylabel('Seconds')\n",
        "  plt.legend()"
      ],
      "execution_count": 35,
      "outputs": [
        {
          "output_type": "display_data",
          "data": {
            "application/vnd.jupyter.widget-view+json": {
              "model_id": "3f12ec5b705b4f268ea365fe172f625b",
              "version_minor": 0,
              "version_major": 2
            },
            "text/plain": [
              "interactive(children=(Dropdown(description='hidden_dims', index=1, options=('1', '100', '50, 50'), value='100'…"
            ]
          },
          "metadata": {
            "tags": []
          }
        }
      ]
    },
    {
      "cell_type": "markdown",
      "metadata": {
        "execution": {},
        "id": "GVm5cwsCbq8V"
      },
      "source": [
        "## Coding Exercise 6: Implement minibatch sampling\n",
        "\n",
        "Complete the code in `sample_minibatch` so as to produce IID subsets of the training set of the desired size. (This is _not_ a trick question.) "
      ]
    },
    {
      "cell_type": "code",
      "metadata": {
        "execution": {},
        "id": "jwP3wt6Tbq8V"
      },
      "source": [
        "def sample_minibatch(input_data, target_data, num_points=100):\n",
        "  \"\"\"Sample a minibatch of size num_point from the provided input-target data\n",
        "\n",
        "  Args:\n",
        "    input_data (tensor): Multi-dimensional tensor containing the input data\n",
        "    target_data (tensor): 1D tensor containing the class labels\n",
        "    num_points (int): Number of elements to be included in minibatch\n",
        "\n",
        "  Returns:\n",
        "    batch_inputs (tensor): Minibatch inputs\n",
        "    batch_targets (tensor): Minibatch targets\n",
        "  \"\"\"\n",
        "  #################################################\n",
        "  ## TODO for students: sample minibatch of data ##\n",
        "  raise NotImplementedError(\"Student exercise: implement gradient update\")\n",
        "  #################################################\n",
        "  # Sample a collection of IID indices from the existing data\n",
        "  batch_indices = ...\n",
        "  # Use batch_indices to extract entries from the input and target data tensors\n",
        "  batch_inputs = input_data[...]\n",
        "  batch_targets = target_data[...]\n",
        "\n",
        "  return batch_inputs, batch_targets\n",
        "\n",
        "\n",
        "## Uncomment to test your function\n",
        "# x_batch, y_batch = sample_minibatch(X, y, num_points=100)\n",
        "# print(f\"The input shape is {x_batch.shape} and the target shape is: {y_batch.shape}\")"
      ],
      "execution_count": 36,
      "outputs": []
    },
    {
      "cell_type": "code",
      "metadata": {
        "execution": {},
        "id": "95t4oIUsbq8V",
        "outputId": "f7a739fa-87e0-40de-85f2-270d9758c36a",
        "colab": {
          "base_uri": "https://localhost:8080/"
        }
      },
      "source": [
        "# to_remove solution\n",
        "def sample_minibatch(input_data, target_data, num_points=100):\n",
        "  \"\"\"Sample a minibatch of size num_point from the provided input-target data\n",
        "\n",
        "  Args:\n",
        "    input_data (tensor): Multi-dimensional tensor containing the input data\n",
        "    target_data (tensor): 1D tensor containing the class labels\n",
        "    num_points (int): Number of elements to be included in minibatch\n",
        "\n",
        "  Returns:\n",
        "    batch_inputs (tensor): Minibatch inputs\n",
        "    batch_targets (tensor): Minibatch targets\n",
        "  \"\"\"\n",
        "  # Sample a collection of IID indices from the existing data\n",
        "  batch_indices = np.random.choice(len(input_data), num_points)\n",
        "  # Use batch_indices to extract entries from the input and target data tensors\n",
        "  batch_inputs = input_data[batch_indices, :]\n",
        "  batch_targets = target_data[batch_indices]\n",
        "\n",
        "  return batch_inputs, batch_targets\n",
        "\n",
        "\n",
        "## Uncomment to test your function\n",
        "x_batch, y_batch = sample_minibatch(X, y, num_points=100)\n",
        "print(f\"The input shape is {x_batch.shape} and the target shape is: {y_batch.shape}\")"
      ],
      "execution_count": 37,
      "outputs": [
        {
          "output_type": "stream",
          "text": [
            "The input shape is torch.Size([100, 28, 28]) and the target shape is: torch.Size([100])\n"
          ],
          "name": "stdout"
        }
      ]
    },
    {
      "cell_type": "markdown",
      "metadata": {
        "execution": {},
        "id": "SHQGbhzUbq8W"
      },
      "source": [
        "```\n",
        "The input shape is torch.Size([100, 28, 28]) and the target shape is: torch.Size([100])\n",
        "```"
      ]
    },
    {
      "cell_type": "markdown",
      "metadata": {
        "execution": {},
        "id": "6j9JloAGbq8W"
      },
      "source": [
        "## Interactive Demo 6.2: *Compare* different minibatch sizes\n",
        "\n",
        "What are the trade-offs induced by the choice of minibatch size? The interactive plot below shows the training evolution of a 2-hidden layer MLP with 100 hidden units in each hidden layer. Different plots correspond to a different choice of minibatch size. We have a fixed time budget for all the cases, reflected in the horizontal axes of these plots."
      ]
    },
    {
      "cell_type": "code",
      "metadata": {
        "cellView": "form",
        "execution": {},
        "id": "QecFRheAbq8W",
        "outputId": "e2895d5b-1133-419c-eb4e-2390f7f42035",
        "colab": {
          "base_uri": "https://localhost:8080/",
          "height": 146,
          "referenced_widgets": [
            "9c1b8ee158624a92896ca077196abea8",
            "3a52c9e049f5498da86375f87bee7228",
            "2fa6372d7c154274be5fc40bf4fd5d09",
            "fd098aaa17c646eeb19ef8c9ad797513",
            "c38b7d9a61e2413c8aaef0eb781fa8a4",
            "4920d5665e59419898bba67fc17a42be",
            "c6bee15f8b874c7ea780aadf820b0520",
            "2b6f57b4fcea4eb3a364847dd15890e9",
            "457688966b31405687534c91062d6f0f",
            "1feaf06fb445407a85bfe8f2f33abf63",
            "bcb801533ac349bbb46c450cc3b4aba2",
            "d1d96edad3444cb2bba7f366282592dc",
            "5e0a2ae41e01410f9ece66f6fcd2f8ac",
            "31b119a282574b5f80e274465dc4eab0",
            "a931f229cef2405286770f71c2806cf4",
            "0f42ea0639ea4239bd99a2ff54aa2ea7"
          ]
        }
      },
      "source": [
        "# @markdown Execute this cell to enable the widget!\n",
        "\n",
        "@widgets.interact_manual\n",
        "def minibatch_experiment(batch_sizes='20, 250, 1000',\n",
        "                         lrs='5e-3, 5e-3, 5e-3',\n",
        "                         time_budget=widgets.Dropdown(options=[\"2.5\", \"5\", \"10\"],\n",
        "                                                      value=\"2.5\")):\n",
        "\n",
        "  batch_sizes = [int(s) for s in batch_sizes.split(',')]\n",
        "  lrs = [float(s) for s in lrs.split(',')]\n",
        "\n",
        "  LOSS_HIST = {_:[] for _ in batch_sizes}\n",
        "\n",
        "  X, y = train_set.data, train_set.targets\n",
        "  base_model = MLP(in_dim=784, out_dim=10, hidden_dims=[100, 100])\n",
        "\n",
        "  for id, batch_size in enumerate(batch_sizes):\n",
        "    start_time = time.time()\n",
        "    # Create a new copy of the model for each batch size\n",
        "    model = copy.deepcopy(base_model)\n",
        "    params = list(model.parameters())\n",
        "    lr = lrs[id]\n",
        "    # Fixed budget per choice of batch size\n",
        "    while (time.time() - start_time) < float(time_budget):\n",
        "      data, labels = sample_minibatch(X, y, batch_size)\n",
        "      loss = loss_fn(model(data), labels)\n",
        "      gradient_update(loss, params, lr=lr)\n",
        "      LOSS_HIST[batch_size].append([time.time() - start_time,\n",
        "                                    loss.item()])\n",
        "\n",
        "  fig, axs = plt.subplots(1, len(batch_sizes), figsize=(10, 3))\n",
        "  for ax, batch_size in zip(axs, batch_sizes):\n",
        "    plot_data = np.array(LOSS_HIST[batch_size])\n",
        "    ax.plot(plot_data[:, 0], plot_data[:, 1], label=batch_size,\n",
        "            alpha=0.8)\n",
        "    ax.set_title('Batch size: ' + str(batch_size))\n",
        "    ax.set_xlabel('Seconds')\n",
        "    ax.set_ylabel('Loss')"
      ],
      "execution_count": 38,
      "outputs": [
        {
          "output_type": "display_data",
          "data": {
            "application/vnd.jupyter.widget-view+json": {
              "model_id": "9c1b8ee158624a92896ca077196abea8",
              "version_minor": 0,
              "version_major": 2
            },
            "text/plain": [
              "interactive(children=(Text(value='20, 250, 1000', description='batch_sizes'), Text(value='5e-3, 5e-3, 5e-3', d…"
            ]
          },
          "metadata": {
            "tags": []
          }
        }
      ]
    },
    {
      "cell_type": "markdown",
      "metadata": {
        "execution": {},
        "id": "k558SUClbq8W"
      },
      "source": [
        "**Remarks:** SGD works! We have an algorithm that can be applied (with the due precautions) to learn datasets of arbitrary size. \n",
        "\n",
        "However, **note the diference in the vertical scale** across the plots above. When using a larger minibatch, we can perform fewer parameter updates as the forward and backward passes are more expensive.\n",
        "\n",
        "This highlights the interplay between the minibatch size and the learning rate: when our minibatch is larger, we have a more confident estimator of the direction to move, and thus can afford a larger learning rate. On the other hand, extremely small minibatches are very fast computationally but are not representative of the data distribution and yield estimations of the gradient with high variance.\n",
        "\n",
        "We encourage you to tune the value of the learning rate for each of the minibatch sizes in the previous demo, to achieve a training loss steadily below 0.5 within 5 seconds."
      ]
    },
    {
      "cell_type": "markdown",
      "metadata": {
        "execution": {},
        "id": "ruDHFXf3bq8X"
      },
      "source": [
        "---\n",
        "# Section 7: Adaptive methods\n",
        "\n",
        "As of now, you should be aware that there are many knobs to turn when working on a machine learning problem. Some of these relate to the optimization algorithm, to the choice of model, or to the objective to minimize. Here are some prototypical examples:\n",
        "\n",
        "- Problem: loss function, regularization coefficients (Day 5)\n",
        "- Model: architecture, activations function\n",
        "- Optimizer: learning rate, batch size, momentum coefficient\n",
        "\n",
        "We concentrate on the choices that are directly related with optimization. In particular, we will explore some _automatic_ methods for setting the learning rate, in a way that fixes the poor-conditioning problem and is robust across different problems."
      ]
    },
    {
      "cell_type": "code",
      "metadata": {
        "cellView": "form",
        "execution": {},
        "id": "R99P9K7ibq8X",
        "outputId": "d6c36ad4-ed69-49da-e23f-bb11d6533629",
        "colab": {
          "base_uri": "https://localhost:8080/",
          "height": 579,
          "referenced_widgets": [
            "20fed46d5eb84acaa5f3e8e9cd9c55b9",
            "9b3fc4d7550241d99e7f151ed7fddb12",
            "34935a6498f745e08d360fda94613bd0",
            "76ebe6435fe94af29225922d3097ed23",
            "9b69fdcbbea844caa2b1e5613e01d641",
            "b2dacecf8d4c44e1986fb5a1a35a8b0d"
          ]
        }
      },
      "source": [
        "# @title Video 7: Adaptive Methods\n",
        "from ipywidgets import widgets\n",
        "\n",
        "out2 = widgets.Output()\n",
        "with out2:\n",
        "  from IPython.display import IFrame\n",
        "  class BiliVideo(IFrame):\n",
        "    def __init__(self, id, page=1, width=400, height=300, **kwargs):\n",
        "      self.id=id\n",
        "      src = \"https://player.bilibili.com/player.html?bvid={0}&page={1}\".format(id, page)\n",
        "      super(BiliVideo, self).__init__(src, width, height, **kwargs)\n",
        "\n",
        "  video = BiliVideo(id=f\"BV1eq4y1W7JG\", width=854, height=480, fs=1)\n",
        "  print(\"Video available at https://www.bilibili.com/video/{0}\".format(video.id))\n",
        "  display(video)\n",
        "\n",
        "out1 = widgets.Output()\n",
        "with out1:\n",
        "  from IPython.display import YouTubeVideo\n",
        "  video = YouTubeVideo(id=f\"Zr6r2kfmQUM\", width=854, height=480, fs=1, rel=0)\n",
        "  print(\"Video available at https://youtube.com/watch?v=\" + video.id)\n",
        "  display(video)\n",
        "\n",
        "out = widgets.Tab([out1, out2])\n",
        "out.set_title(0, 'Youtube')\n",
        "out.set_title(1, 'Bilibili')\n",
        "\n",
        "display(out)"
      ],
      "execution_count": 39,
      "outputs": [
        {
          "output_type": "display_data",
          "data": {
            "application/vnd.jupyter.widget-view+json": {
              "model_id": "20fed46d5eb84acaa5f3e8e9cd9c55b9",
              "version_minor": 0,
              "version_major": 2
            },
            "text/plain": [
              "Tab(children=(Output(), Output()), _titles={'0': 'Youtube', '1': 'Bilibili'})"
            ]
          },
          "metadata": {
            "tags": []
          }
        }
      ]
    },
    {
      "cell_type": "markdown",
      "metadata": {
        "execution": {},
        "id": "boS6HNhcbq8X"
      },
      "source": [
        "## Coding Exercise 7: Implement RMSprop\n",
        "\n",
        "In this exercise you will implement the update of the RMSprop optimizer:\n",
        "\n",
        "\\begin{align}\n",
        "v_{t} &= \\alpha v_{t-1} + (1 - \\alpha) \\nabla J(w_t)^2 \\\\ \\\\\n",
        "w_{t+1} &= w_t - \\eta \\frac{\\nabla J(w_t)}{\\sqrt{v_t + \\epsilon}}\n",
        "\\end{align}\n",
        "\n",
        "where the non-standard operations (division of two vectors, squaring a vector, etc) are to be interpreted as element-wise operations, i.e., the operation is applied to each (pair of) entry[ies] of the vector(s) considered as real number(s).\n",
        "\n",
        "Here, the $\\epsilon$ hyperparameter provides numerical estability to the algorithm, by preventing the learning rate to become too big when $v_t$ is small. Typically, we set $\\epsilon$ to a default small value, like $10^{-8}$.  "
      ]
    },
    {
      "cell_type": "code",
      "metadata": {
        "execution": {},
        "id": "O-2Pdqgsbq8X",
        "outputId": "3f4c3c41-4541-410d-c6ae-7027571384b9",
        "colab": {
          "base_uri": "https://localhost:8080/"
        }
      },
      "source": [
        "def rmsprop_update(loss, params, grad_sq, lr=1e-3, alpha=0.8, espilon=1e-8):\n",
        "  \"\"\"Perform an RMSprop update on a collection of parameters\n",
        "\n",
        "  Args:\n",
        "    loss (tensor): A scalar tensor containing the loss whose gradient will be computed\n",
        "    params (iterable): Collection of parameters with respect to which we compute gradients\n",
        "    grad_sq (iterable): Moving average of squared gradients\n",
        "    lr (float): Scalar specifying the learning rate or step-size for the update\n",
        "    alpha (float): Moving average parameter\n",
        "    espilon (float): for numerical estability\n",
        "  \"\"\"\n",
        "  # Clear up gradients as Pytorch automatically accumulates gradients from\n",
        "  # successive backward calls\n",
        "  zero_grad(params)\n",
        "  # Compute gradients on given objective\n",
        "  loss.backward()\n",
        "\n",
        "  with torch.no_grad():\n",
        "    for (par, gsq) in zip(params, grad_sq):\n",
        "      # Update estimate of gradient variance\n",
        "      gsq = ...\n",
        "      # Update parameters\n",
        "      par -=  ...\n",
        "\n",
        "\n",
        "set_seed(2021)\n",
        "model = MLP(in_dim=784, out_dim=10, hidden_dims=[])\n",
        "print('\\n The model parameters before the update are: \\n')\n",
        "print_params(model)\n",
        "loss = loss_fn(model(X), y)\n",
        "# Intialize the moving average of squared gradients\n",
        "grad_sq = [1e-6*i for i in list(model.parameters())]\n",
        "\n",
        "## Uncomment below to test your function\n",
        "# rmsprop_update(loss, list(model.parameters()), grad_sq=grad_sq, lr=1e-3)\n",
        "# print('\\n The model parameters after the update are: \\n')\n",
        "# print_params(model)"
      ],
      "execution_count": 40,
      "outputs": [
        {
          "output_type": "stream",
          "text": [
            "Random seed 2021 has been set.\n",
            "\n",
            " The model parameters before the update are: \n",
            "\n",
            "main.0.weight tensor([[-0.0264,  0.0010,  0.0173,  ...,  0.0297,  0.0278, -0.0221],\n",
            "        [-0.0040, -0.0295, -0.0086,  ..., -0.0070,  0.0254, -0.0233],\n",
            "        [ 0.0240, -0.0231,  0.0342,  ...,  0.0124,  0.0270, -0.0180],\n",
            "        ...,\n",
            "        [-0.0005,  0.0157,  0.0111,  ...,  0.0144, -0.0301, -0.0144],\n",
            "        [ 0.0181,  0.0303,  0.0255,  ..., -0.0110, -0.0175,  0.0205],\n",
            "        [ 0.0208, -0.0353, -0.0183,  ..., -0.0271,  0.0099,  0.0003]])\n",
            "main.0.bias tensor([-0.0290, -0.0033,  0.0100, -0.0320,  0.0022,  0.0221,  0.0307,  0.0243,\n",
            "         0.0159, -0.0064])\n"
          ],
          "name": "stdout"
        }
      ]
    },
    {
      "cell_type": "code",
      "metadata": {
        "execution": {},
        "id": "1_NsmrPhbq8Y",
        "outputId": "e0e400da-0399-4784-9680-18b0c6110cbe",
        "colab": {
          "base_uri": "https://localhost:8080/"
        }
      },
      "source": [
        "# to_remove solution\n",
        "def rmsprop_update(loss, params, grad_sq, lr=1e-3, alpha=0.8, espilon=1e-8):\n",
        "  \"\"\"Perform an RMSprop update on a collection of parameters\n",
        "\n",
        "  Args:\n",
        "    loss (tensor): A scalar tensor containing the loss whose gradient will be computed\n",
        "    params (iterable): Collection of parameters with respect to which we compute gradients\n",
        "    grad_sq (iterable): Moving average of squared gradients\n",
        "    lr (float): Scalar specifying the learning rate or step-size for the update\n",
        "    alpha (float): Moving average parameter\n",
        "    espilon (float): for numerical estability\n",
        "  \"\"\"\n",
        "  # Clear up gradients as Pytorch automatically accumulates gradients from\n",
        "  # successive backward calls\n",
        "  zero_grad(params)\n",
        "  # Compute gradients on given objective\n",
        "  loss.backward()\n",
        "\n",
        "  with torch.no_grad():\n",
        "    for (par, gsq) in zip(params, grad_sq):\n",
        "      # Update estimate of gradient variance\n",
        "      gsq = alpha * gsq + (1 - alpha) * par.grad**2\n",
        "      # Update parameters\n",
        "      par -=  lr * (par.grad / (espilon + gsq)**0.5)\n",
        "\n",
        "\n",
        "set_seed(2021)\n",
        "model = MLP(in_dim=784, out_dim=10, hidden_dims=[])\n",
        "print('\\n The model parameters before the update are: \\n')\n",
        "print_params(model)\n",
        "loss = loss_fn(model(X), y)\n",
        "# Intialize the moving average of squared gradients\n",
        "grad_sq = [1e-6*i for i in list(model.parameters())]\n",
        "\n",
        "## Uncomment below to test your function\n",
        "rmsprop_update(loss, list(model.parameters()), grad_sq=grad_sq, lr=1e-3)\n",
        "print('\\n The model parameters after the update are: \\n')\n",
        "print_params(model)"
      ],
      "execution_count": 41,
      "outputs": [
        {
          "output_type": "stream",
          "text": [
            "Random seed 2021 has been set.\n",
            "\n",
            " The model parameters before the update are: \n",
            "\n",
            "main.0.weight tensor([[-0.0264,  0.0010,  0.0173,  ...,  0.0297,  0.0278, -0.0221],\n",
            "        [-0.0040, -0.0295, -0.0086,  ..., -0.0070,  0.0254, -0.0233],\n",
            "        [ 0.0240, -0.0231,  0.0342,  ...,  0.0124,  0.0270, -0.0180],\n",
            "        ...,\n",
            "        [-0.0005,  0.0157,  0.0111,  ...,  0.0144, -0.0301, -0.0144],\n",
            "        [ 0.0181,  0.0303,  0.0255,  ..., -0.0110, -0.0175,  0.0205],\n",
            "        [ 0.0208, -0.0353, -0.0183,  ..., -0.0271,  0.0099,  0.0003]])\n",
            "main.0.bias tensor([-0.0290, -0.0033,  0.0100, -0.0320,  0.0022,  0.0221,  0.0307,  0.0243,\n",
            "         0.0159, -0.0064])\n",
            "\n",
            " The model parameters after the update are: \n",
            "\n",
            "main.0.weight tensor([[-0.0240,  0.0031,  0.0193,  ...,  0.0316,  0.0297, -0.0198],\n",
            "        [-0.0063, -0.0318, -0.0109,  ..., -0.0093,  0.0232, -0.0255],\n",
            "        [ 0.0218, -0.0253,  0.0320,  ...,  0.0102,  0.0248, -0.0203],\n",
            "        ...,\n",
            "        [-0.0027,  0.0136,  0.0089,  ...,  0.0123, -0.0324, -0.0166],\n",
            "        [ 0.0159,  0.0281,  0.0233,  ..., -0.0133, -0.0197,  0.0182],\n",
            "        [ 0.0186, -0.0376, -0.0205,  ..., -0.0293,  0.0077, -0.0019]])\n",
            "main.0.bias tensor([-0.0313, -0.0011,  0.0122, -0.0342,  0.0045,  0.0199,  0.0329,  0.0265,\n",
            "         0.0182, -0.0041])\n"
          ],
          "name": "stdout"
        }
      ]
    },
    {
      "cell_type": "markdown",
      "metadata": {
        "execution": {},
        "id": "myyWxCtAbq8Y"
      },
      "source": [
        "```\n",
        " The model parameters after the update are: \n",
        "\n",
        "main.0.weight tensor([[-0.0240,  0.0031,  0.0193,  ...,  0.0316,  0.0297, -0.0198],\n",
        "        [-0.0063, -0.0318, -0.0109,  ..., -0.0093,  0.0232, -0.0255],\n",
        "        [ 0.0218, -0.0253,  0.0320,  ...,  0.0102,  0.0248, -0.0203],\n",
        "        ...,\n",
        "        [-0.0027,  0.0136,  0.0089,  ...,  0.0123, -0.0324, -0.0166],\n",
        "        [ 0.0159,  0.0281,  0.0233,  ..., -0.0133, -0.0197,  0.0182],\n",
        "        [ 0.0186, -0.0376, -0.0205,  ..., -0.0293,  0.0077, -0.0019]])\n",
        "main.0.bias tensor([-0.0313, -0.0011,  0.0122, -0.0342,  0.0045,  0.0199,  0.0329,  0.0265,\n",
        "         0.0182, -0.0041])\n",
        "```"
      ]
    },
    {
      "cell_type": "markdown",
      "metadata": {
        "execution": {},
        "id": "q1DWlWGMbq8Y"
      },
      "source": [
        "## Interactive Demo 7: Compare optimizers\n",
        "\n",
        "Below, we compare your implementations of SGD, momentum and RMSprop. If you have successfully coded all the exercises so far: congrats! You are now *in the know* of some of the most commonly used and powerful tools of optimization for deep learning. "
      ]
    },
    {
      "cell_type": "code",
      "metadata": {
        "cellView": "form",
        "execution": {},
        "id": "Lay3aau_bq8Z",
        "outputId": "82ec3e65-59c1-4efc-a0df-dece322831c2",
        "colab": {
          "base_uri": "https://localhost:8080/",
          "height": 310,
          "referenced_widgets": [
            "db021d4a5e6745c88851169adc8dd006",
            "97a0d22aa27748bdad7258739667dcf8",
            "e9e75e3033f544df88c64f52a03d60f6",
            "d78b0aac4c90413f9562e9c40454da7d",
            "bb14366255a54123a973c03fb9583bef",
            "e753e7cb682244e9a5f5f7e9be2b517a",
            "410cb22a20d849789d5e855b460f1041",
            "3ae51f49dd8345f29baba431a3c5209d",
            "a3a9429e4174498a8655f0d4d44a04a6",
            "46708d34fd5a404db8fcb7af55c9b485",
            "79ad457182cf4f308c65f9384820a6f0",
            "333a0902fda446729a3b13fc0d55d332",
            "71ac5834295944918321ecf064e001f7"
          ]
        }
      },
      "source": [
        "# @markdown Execute this cell to enable the widget!\n",
        "\n",
        "X, y = train_set.data, train_set.targets\n",
        "\n",
        "@widgets.interact\n",
        "def compare_optimizers(batch_size=(25, 250, 5),\n",
        "                       lr=widgets.FloatLogSlider(value=2e-3, min=-5, max=0),\n",
        "                       max_steps=(50, 500, 5)):\n",
        "\n",
        "  SGD_DICT = [gradient_update, 'SGD', 'black', '-', {'lr': lr}]\n",
        "  MOM_DICT = [momentum_update, 'Momentum', 'red', '--', {'lr': lr, 'beta': 0.9}]\n",
        "  RMS_DICT = [rmsprop_update, 'RMSprop', 'fuchsia', '-', {'lr': lr, 'alpha': 0.8}]\n",
        "\n",
        "  ALL_DICTS = [SGD_DICT, MOM_DICT, RMS_DICT]\n",
        "\n",
        "  base_model = MLP(in_dim=784, out_dim=10, hidden_dims=[100, 100])\n",
        "\n",
        "  LOSS_HIST = {}\n",
        "\n",
        "  for opt_dict in ALL_DICTS:\n",
        "    update_fn, opt_name, color, lstyle, kwargs = opt_dict\n",
        "    LOSS_HIST[opt_name] = []\n",
        "\n",
        "    model = copy.deepcopy(base_model)\n",
        "    params = list(model.parameters())\n",
        "\n",
        "    if opt_name != 'SGD':\n",
        "      aux_tensors = [torch.zeros_like(_) for _ in params]\n",
        "\n",
        "    for step in range(max_steps):\n",
        "      data, labels = sample_minibatch(X, y, batch_size)\n",
        "      loss = loss_fn(model(data), labels)\n",
        "      if opt_name == 'SGD':\n",
        "        update_fn(loss, params, **kwargs)\n",
        "      else:\n",
        "        update_fn(loss, params, aux_tensors, **kwargs)\n",
        "      LOSS_HIST[opt_name].append(loss.item())\n",
        "\n",
        "  fig, axs = plt.subplots(1, len(ALL_DICTS), figsize=(9, 3))\n",
        "\n",
        "  for ax, optim_dict in zip(axs, ALL_DICTS):\n",
        "    opt_name = optim_dict[1]\n",
        "    ax.plot(range(max_steps), LOSS_HIST[opt_name], alpha=0.8)\n",
        "    ax.set_title(opt_name)\n",
        "    ax.set_xlabel('Iteration')\n",
        "    ax.set_ylabel('Loss')\n",
        "    ax.set_ylim(0, 2.5)"
      ],
      "execution_count": 42,
      "outputs": [
        {
          "output_type": "display_data",
          "data": {
            "application/vnd.jupyter.widget-view+json": {
              "model_id": "db021d4a5e6745c88851169adc8dd006",
              "version_minor": 0,
              "version_major": 2
            },
            "text/plain": [
              "interactive(children=(IntSlider(value=135, description='batch_size', max=250, min=25, step=5), FloatLogSlider(…"
            ]
          },
          "metadata": {
            "tags": []
          }
        }
      ]
    },
    {
      "cell_type": "markdown",
      "metadata": {
        "execution": {},
        "id": "nUoz8FWTbq8Z"
      },
      "source": [
        "### **Discussion**\n",
        "\n",
        "Tune the 3 methods above in order to make each individually excel and discuss your findings. How do the methods compare in terms of robustness to small changes of the hyperparameters? How easy was it to find a good hyperparameter configuration? "
      ]
    },
    {
      "cell_type": "markdown",
      "metadata": {
        "execution": {},
        "id": "_64834wNbq8Z"
      },
      "source": [
        "\n",
        "**Remarks:** Note that RMSprop is allowing us to use a 'per-dimension' learning rate _without having to tune one learning rate for each dimension **ourselves**_. The method uses information collected about the variance of the gradients throughout training to **adapt** the step size for each of the parameters automatically. The savings in tuning efforts of RMSprop over SGD or 'plain' momentum are undisputed on this task. \n",
        "\n",
        "Moreover, adaptive optimization methods are currently a highly active research domain, with many related algorithms like Adam, AMSgrad, Adagrad being used in practical application and theoretically investigated. "
      ]
    },
    {
      "cell_type": "markdown",
      "metadata": {
        "execution": {},
        "id": "24ZVI1fGbq8Z"
      },
      "source": [
        "### Locality of Gradients\n",
        "As we've seen throught this tutorial, poor conditioning can be a significant burden on convergence to an optimum while using gradient based optimization. Of the methods we've seen to deal with this issue, notice how both momentum and adaptive learning rates incorperate past gradient values into their update schemes. Why do we use past values of our loss function's gradient while updating our current MLP weights?\n",
        "\n",
        "Recall from W1D2 that the gradient of a function, $\\nabla f(w_t)$, is a **local** property and computes the direction of maximum change of $f(w_t)$ at the point $w_t$. However, when we train our MLP model we are hoping to find the __global__ optimum for our training loss. By incorperating past values of our function's gradient into our optimization schemes, we use more information about the overall shape of our function than just a single gradient alone can provide. "
      ]
    },
    {
      "cell_type": "markdown",
      "metadata": {
        "execution": {},
        "id": "1ReUzFGzbq8a"
      },
      "source": [
        "## Think! 7: Loss function and optimization\n",
        "\n",
        "Can you think of other ways we can incorperate more information about our loss function into our optimization schemes?"
      ]
    },
    {
      "cell_type": "code",
      "metadata": {
        "execution": {},
        "id": "pA15dE-Hbq8a"
      },
      "source": [
        "# to_remove explanation\n",
        "\n",
        "\"\"\"\n",
        "We could consider incorperating the curvature of our function directly into our\n",
        "optimization schemes. Methods that use this are often called Newton's methods\n",
        "or Hessian based optimization methods.\n",
        "\"\"\";"
      ],
      "execution_count": 43,
      "outputs": []
    },
    {
      "cell_type": "markdown",
      "metadata": {
        "execution": {},
        "id": "JybPNISBbq8a"
      },
      "source": [
        "---\n",
        "# Section 8: Putting it all together\n",
        "\n",
        "We have progressively built a sophisticated optimization algorithm which is able to deal with a non-convex, poor-conditioned problem concerning tens of thousands of training examples. Now we present _you_ with a small challenge: beat us! :P\n",
        "\n",
        "Your mission is to train an MLP model that can compete with a benchmark model which we have pre-trained for you. In this section you will be able to use the full Pytorch power: loading the data, defining the model, sampling minibatches as well as Pytorch's **optimizer implementations**. \n",
        "\n",
        "There is a big engineering component behind the design of optimizers and their implementation can sometimes become tricky. So unless you are directly doing research in optimization, it's recommended to use an implementation provided by a widely reviewed open-source library."
      ]
    },
    {
      "cell_type": "code",
      "metadata": {
        "cellView": "form",
        "execution": {},
        "id": "botTMowmbq8a",
        "outputId": "0045c2a3-8024-4acf-d5f5-0e80ef557f0a",
        "colab": {
          "base_uri": "https://localhost:8080/",
          "height": 579,
          "referenced_widgets": [
            "4312b02f22ab446d91b98a03093fb511",
            "add50cf9ec5c45dda2aaed8f6ce6b7d8",
            "fe37a5a92d1841448b028dda7c11f928",
            "0232bcc0bf224411b57359067ed40601",
            "311a69f1206f4b45bea38c4fbfc044ac",
            "f5917f0762884beaae4851d824123073"
          ]
        }
      },
      "source": [
        "# @title Video 8: Putting it all together\n",
        "from ipywidgets import widgets\n",
        "\n",
        "out2 = widgets.Output()\n",
        "with out2:\n",
        "  from IPython.display import IFrame\n",
        "  class BiliVideo(IFrame):\n",
        "    def __init__(self, id, page=1, width=400, height=300, **kwargs):\n",
        "      self.id=id\n",
        "      src = \"https://player.bilibili.com/player.html?bvid={0}&page={1}\".format(id, page)\n",
        "      super(BiliVideo, self).__init__(src, width, height, **kwargs)\n",
        "\n",
        "  video = BiliVideo(id=f\"BV1MK4y1u7u2\", width=854, height=480, fs=1)\n",
        "  print(\"Video available at https://www.bilibili.com/video/{0}\".format(video.id))\n",
        "  display(video)\n",
        "\n",
        "out1 = widgets.Output()\n",
        "with out1:\n",
        "  from IPython.display import YouTubeVideo\n",
        "  video = YouTubeVideo(id=f\"DP9c13vLiOM\", width=854, height=480, fs=1, rel=0)\n",
        "  print(\"Video available at https://youtube.com/watch?v=\" + video.id)\n",
        "  display(video)\n",
        "\n",
        "out = widgets.Tab([out1, out2])\n",
        "out.set_title(0, 'Youtube')\n",
        "out.set_title(1, 'Bilibili')\n",
        "\n",
        "display(out)"
      ],
      "execution_count": 44,
      "outputs": [
        {
          "output_type": "display_data",
          "data": {
            "application/vnd.jupyter.widget-view+json": {
              "model_id": "4312b02f22ab446d91b98a03093fb511",
              "version_minor": 0,
              "version_major": 2
            },
            "text/plain": [
              "Tab(children=(Output(), Output()), _titles={'0': 'Youtube', '1': 'Bilibili'})"
            ]
          },
          "metadata": {
            "tags": []
          }
        }
      ]
    },
    {
      "cell_type": "code",
      "metadata": {
        "execution": {},
        "id": "uS4vy2tJbq8b",
        "outputId": "bda9e52a-c970-4b48-fc8a-aee9abb20152",
        "colab": {
          "base_uri": "https://localhost:8080/"
        }
      },
      "source": [
        "# Download parameters of the benchmark model\n",
        "import requests\n",
        "\n",
        "fname = 'benchmark_model.pt'\n",
        "url = \"https://osf.io/sj4e8/download\"\n",
        "r = requests.get(url, allow_redirects=True)\n",
        "with open(fname, 'wb') as fh:\n",
        "  fh.write(r.content)\n",
        "\n",
        "# Load the benchmark model's parameters\n",
        "DEVICE = set_device()\n",
        "if DEVICE == \"cuda\":\n",
        "  benchmark_state_dict = torch.load(fname)\n",
        "else:\n",
        "  benchmark_state_dict = torch.load(fname, map_location=torch.device('cpu'))\n",
        "\n",
        "# Create MLP object and update weights with those of saved model\n",
        "benchmark_model = MLP(in_dim=784, out_dim=10,\n",
        "                      hidden_dims=[200, 100, 50]).to(DEVICE)\n",
        "benchmark_model.load_state_dict(benchmark_state_dict)\n",
        "\n",
        "\n",
        "# Define helper function to evaluate models\n",
        "def eval_model(model, data_loader, num_batches=np.inf, device='cpu'):\n",
        "\n",
        "  loss_log, acc_log = [], []\n",
        "  model.to(device=device)\n",
        "\n",
        "  # We are just evaluating the model, no need to compute gradients\n",
        "  with torch.no_grad():\n",
        "    for batch_id, batch in enumerate(data_loader):\n",
        "      # If we only evaluate a number of batches, stop after we reach that number\n",
        "      if batch_id > num_batches:\n",
        "        break\n",
        "      # Extract minibatch data\n",
        "      data, labels = batch[0].to(device), batch[1].to(device)\n",
        "      # Evaluate model and loss on minibatch\n",
        "      preds = model(data)\n",
        "      loss_log.append(loss_fn(preds, labels).item())\n",
        "      acc_log.append(torch.mean(1. * (preds.argmax(dim=1) == labels)).item())\n",
        "\n",
        "  return np.mean(loss_log), np.mean(acc_log)"
      ],
      "execution_count": 45,
      "outputs": [
        {
          "output_type": "stream",
          "text": [
            "GPU is enabled in this notebook.\n"
          ],
          "name": "stdout"
        }
      ]
    },
    {
      "cell_type": "markdown",
      "metadata": {
        "execution": {},
        "id": "jLVIFwIgbq8b"
      },
      "source": [
        "We define an optimizer in the following steps:\n",
        "\n",
        "1. Load  the corresponding class that implements the parameter updates and other internal management activities, including:\n",
        "    - create auxiliary variables,\n",
        "    - update moving averages,\n",
        "    - adjust learning rate.\n",
        "2. Pass the parameters of the Pytorch model that the optimizer has control over. Note that different parameter groups can potentially be controlled by different optimizers.\n",
        "3. Specify hyperparameters, including learning rate, momentum, moving average factors, etc.\n",
        "\n"
      ]
    },
    {
      "cell_type": "markdown",
      "metadata": {
        "execution": {},
        "id": "_hO1q1LTbq8b"
      },
      "source": [
        "## Coding Exercise 8: Train your own model\n",
        "\n",
        "Now, train the model with your preferred optimizer and find a good combination of hyperparameter settings."
      ]
    },
    {
      "cell_type": "code",
      "metadata": {
        "execution": {},
        "id": "cPGsBgc6bq8b"
      },
      "source": [
        "#################################################\n",
        "## TODO for students: adjust training settings ##\n",
        "\n",
        "# The three parameters below are in your full control\n",
        "MAX_EPOCHS = 2  # select number of epochs to train\n",
        "LR = 1e-5  # choose the step size\n",
        "BATCH_SIZE = 64  # number of examples per minibatch\n",
        "\n",
        "# Define the model and associated optimizer -- you may change its architecture!\n",
        "model = MLP(in_dim=784, out_dim=10, hidden_dims=[200, 100, 50]).to(DEVICE)\n",
        "\n",
        "# You can take your pick from many different optimizers\n",
        "# Check the optimizer documentation and hyperparameter meaning before using!\n",
        "# More details on Pytorch optimizers: https://pytorch.org/docs/stable/optim.html\n",
        "# optimizer = torch.optim.SGD(model.parameters(), lr=LR, momentum=0.9)\n",
        "# optimizer = torch.optim.RMSprop(model.parameters(), lr=LR, alpha=0.99)\n",
        "# optimizer = torch.optim.Adagrad(model.parameters(), lr=LR)\n",
        "optimizer = torch.optim.Adam(model.parameters(), lr=LR)\n",
        "#################################################"
      ],
      "execution_count": 46,
      "outputs": []
    },
    {
      "cell_type": "code",
      "metadata": {
        "execution": {},
        "id": "V58LaEa5bq8c",
        "outputId": "e12032dc-0865-434e-e72a-e00a9857c098",
        "colab": {
          "base_uri": "https://localhost:8080/",
          "height": 270,
          "referenced_widgets": [
            "c5944a9711434504a03f6f4f2b46a9e1",
            "187395b705114fddae59e075eac8ce36",
            "47be003063f14bfa9dde23f679d301f5",
            "a1c3012f8bde446a896642b7458815d0",
            "aa6d40d4cbc14304abc4a676160b0f0f",
            "31c143bdf96544b793d88f25e97f8cfe",
            "dfac13c3066f4fb59941c1866db8f725",
            "a389b3a773f94d429a97a939a8e5a3f8"
          ]
        }
      },
      "source": [
        "set_seed(seed=SEED)\n",
        "# Print trainig stats every LOG_FREQ minibatches\n",
        "LOG_FREQ = 200\n",
        "# Frequency for evaluating the validation metrics\n",
        "VAL_FREQ = 200\n",
        "# Load data using a Pytorch Dataset\n",
        "train_set, test_set = load_mnist_data(change_tensors=False)\n",
        "\n",
        "# We separate 10,000 training samples to create a validation set\n",
        "train_set, val_set = torch.utils.data.random_split(train_set, [50000, 10000])\n",
        "\n",
        "# Create the corresponding DataLoaders for training and test\n",
        "g_seed = torch.Generator()\n",
        "g_seed.manual_seed(SEED)\n",
        "\n",
        "train_loader = torch.utils.data.DataLoader(train_set,\n",
        "                                           shuffle=True,\n",
        "                                           batch_size=BATCH_SIZE,\n",
        "                                           worker_init_fn=seed_worker,\n",
        "                                           generator=g_seed)\n",
        "val_loader = torch.utils.data.DataLoader(val_set,\n",
        "                                         shuffle=True,\n",
        "                                         batch_size=256,\n",
        "                                         worker_init_fn=seed_worker,\n",
        "                                         generator=g_seed)\n",
        "test_loader = torch.utils.data.DataLoader(test_set,\n",
        "                                          batch_size=256,\n",
        "                                          worker_init_fn=seed_worker,\n",
        "                                          generator=g_seed)\n",
        "\n",
        "# Run training\n",
        "metrics = {'train_loss':[],\n",
        "           'train_acc':[],\n",
        "           'val_loss':[],\n",
        "           'val_acc':[],\n",
        "           'val_idx':[]}\n",
        "\n",
        "step_idx = 0\n",
        "for epoch in tqdm(range(MAX_EPOCHS)):\n",
        "\n",
        "  running_loss, running_acc = 0., 0.\n",
        "\n",
        "  for batch_id, batch in enumerate(train_loader):\n",
        "    step_idx += 1\n",
        "    # Extract minibatch data and labels\n",
        "    data, labels = batch[0].to(DEVICE), batch[1].to(DEVICE)\n",
        "    # Just like before, refresh gradient accumulators.\n",
        "    # Note that this is now a method of the optimizer.\n",
        "    optimizer.zero_grad()\n",
        "    # Evaluate model and loss on minibatch\n",
        "    preds = model(data)\n",
        "    loss = loss_fn(preds, labels)\n",
        "    acc = torch.mean(1.0 * (preds.argmax(dim=1) == labels))\n",
        "    # Compute gradients\n",
        "    loss.backward()\n",
        "    # Update parameters\n",
        "    # Note how all the magic in the update of the parameters is encapsulated by\n",
        "    # the optimizer class.\n",
        "    optimizer.step()\n",
        "    # Log metrics for plotting\n",
        "    metrics['train_loss'].append(loss.cpu().item())\n",
        "    metrics['train_acc'].append(acc.cpu().item())\n",
        "\n",
        "    if batch_id % VAL_FREQ == (VAL_FREQ - 1):\n",
        "      # Get an estimate of the validation accuracy with 100 batches\n",
        "      val_loss, val_acc = eval_model(model, val_loader,\n",
        "                                     num_batches=100,\n",
        "                                     device=DEVICE)\n",
        "      metrics['val_idx'].append(step_idx)\n",
        "      metrics['val_loss'].append(val_loss)\n",
        "      metrics['val_acc'].append(val_acc)\n",
        "\n",
        "      print(f\"[VALID] Epoch {epoch + 1} - Batch {batch_id + 1} - \"\n",
        "            f\"Loss: {val_loss:.3f} - Acc: {100*val_acc:.3f}%\")\n",
        "\n",
        "    # print statistics\n",
        "    running_loss += loss.cpu().item()\n",
        "    running_acc += acc.cpu().item()\n",
        "    # Print every LOG_FREQ minibatches\n",
        "    if batch_id % LOG_FREQ == (LOG_FREQ-1):\n",
        "      print(f\"[TRAIN] Epoch {epoch + 1} - Batch {batch_id + 1} - \"\n",
        "            f\"Loss: {running_loss / LOG_FREQ:.3f} - \"\n",
        "            f\"Acc: {100 * running_acc / LOG_FREQ:.3f}%\")\n",
        "\n",
        "      running_loss, running_acc = 0., 0."
      ],
      "execution_count": 47,
      "outputs": [
        {
          "output_type": "display_data",
          "data": {
            "application/vnd.jupyter.widget-view+json": {
              "model_id": "c5944a9711434504a03f6f4f2b46a9e1",
              "version_minor": 0,
              "version_major": 2
            },
            "text/plain": [
              "HBox(children=(FloatProgress(value=0.0, max=2.0), HTML(value='')))"
            ]
          },
          "metadata": {
            "tags": []
          }
        },
        {
          "output_type": "stream",
          "text": [
            "[VALID] Epoch 1 - Batch 200 - Loss: 2.253 - Acc: 24.746%\n",
            "[TRAIN] Epoch 1 - Batch 200 - Loss: 2.282 - Acc: 15.797%\n",
            "[VALID] Epoch 1 - Batch 400 - Loss: 2.129 - Acc: 57.217%\n",
            "[TRAIN] Epoch 1 - Batch 400 - Loss: 2.201 - Acc: 46.977%\n",
            "[VALID] Epoch 1 - Batch 600 - Loss: 1.914 - Acc: 56.670%\n",
            "[TRAIN] Epoch 1 - Batch 600 - Loss: 2.029 - Acc: 56.438%\n",
            "[VALID] Epoch 2 - Batch 200 - Loss: 1.401 - Acc: 69.766%\n",
            "[TRAIN] Epoch 2 - Batch 200 - Loss: 1.520 - Acc: 66.586%\n",
            "[VALID] Epoch 2 - Batch 400 - Loss: 1.175 - Acc: 74.834%\n",
            "[TRAIN] Epoch 2 - Batch 400 - Loss: 1.292 - Acc: 72.461%\n",
            "[VALID] Epoch 2 - Batch 600 - Loss: 0.998 - Acc: 80.039%\n",
            "[TRAIN] Epoch 2 - Batch 600 - Loss: 1.086 - Acc: 77.156%\n",
            "\n"
          ],
          "name": "stdout"
        }
      ]
    },
    {
      "cell_type": "code",
      "metadata": {
        "execution": {},
        "id": "LH2zZOfGbq8c",
        "outputId": "610f971d-5730-40dc-ed03-ad803144fe0d",
        "colab": {
          "base_uri": "https://localhost:8080/",
          "height": 286
        }
      },
      "source": [
        "fig, ax = plt.subplots(1, 2, figsize=(10, 4))\n",
        "\n",
        "ax[0].plot(range(len(metrics['train_loss'])), metrics['train_loss'],\n",
        "           alpha=0.8, label='Train')\n",
        "ax[0].plot(metrics['val_idx'], metrics['val_loss'], label='Valid')\n",
        "ax[0].set_xlabel('Iteration')\n",
        "ax[0].set_ylabel('Loss')\n",
        "ax[0].legend()\n",
        "\n",
        "ax[1].plot(range(len(metrics['train_acc'])), metrics['train_acc'],\n",
        "           alpha=0.8, label='Train')\n",
        "ax[1].plot(metrics['val_idx'], metrics['val_acc'], label='Valid')\n",
        "ax[1].set_xlabel('Iteration')\n",
        "ax[1].set_ylabel('Accuracy')\n",
        "ax[1].legend()\n",
        "plt.tight_layout()\n",
        "plt.show()"
      ],
      "execution_count": 48,
      "outputs": [
        {
          "output_type": "display_data",
          "data": {
            "image/png": "[encoded data removed]",
            "text/plain": [
              "<Figure size 720x288 with 2 Axes>"
            ]
          },
          "metadata": {
            "tags": [],
            "image/png": {
              "width": 701,
              "height": 269
            },
            "needs_background": "light"
          }
        }
      ]
    },
    {
      "cell_type": "markdown",
      "metadata": {
        "execution": {},
        "id": "RDWIyQAgbq8d"
      },
      "source": [
        "## Think! 8: Metrics\n",
        "\n",
        "Which metric did you optimize when searching for the right configuration? The training set loss? Accuracy? Validation/test set metrics? Why? Discuss!"
      ]
    },
    {
      "cell_type": "code",
      "metadata": {
        "execution": {},
        "id": "9bA7b-Bkbq8d"
      },
      "source": [
        "# to_remove explanation\n",
        "\n",
        "\"\"\"\n",
        "  Remember the discussion in Section 1 about surrogate objectives.\n",
        "Our optimization methods minimize the loss, but at the end of the day we care about test accuracy.\n",
        "\n",
        "  However, we can't directly optimize for test accuracy and the finite size of our\n",
        "datasets lead us to (cross-)validation:\n",
        "\n",
        "  1. We minimize the loss (empirical risk minimization) on our *training set*.\n",
        "  2. We choose models and hyperparameters on the *validation set*.\n",
        "  3. We use the *test set* in order to report the final performance of our model on unseen data.\n",
        "\"\"\";"
      ],
      "execution_count": 49,
      "outputs": []
    },
    {
      "cell_type": "markdown",
      "metadata": {
        "execution": {},
        "id": "SqXaigE4bq8d"
      },
      "source": [
        "### Evaluation\n",
        "\n",
        "We _finally_ can evaluate and compare the performance of the models on previously unseen examples. \n",
        "\n",
        "Which model would you keep? (\\*drum roll*)    "
      ]
    },
    {
      "cell_type": "code",
      "metadata": {
        "execution": {},
        "id": "CFcX8U-Rbq8d",
        "outputId": "9beeafb4-be69-425b-c87c-6bb9708d7662",
        "colab": {
          "base_uri": "https://localhost:8080/"
        }
      },
      "source": [
        "print('Your model...')\n",
        "train_loss, train_accuracy = eval_model(model, train_loader, device=DEVICE)\n",
        "test_loss, test_accuracy = eval_model(model, test_loader, device=DEVICE)\n",
        "print(f'Train Loss {train_loss:.3f} / Test Loss {test_loss:.3f}')\n",
        "print(f'Train Accuracy {100*train_accuracy:.3f}% / Test Accuracy {100*test_accuracy:.3f}%')\n",
        "\n",
        "print('\\nBenchmark model')\n",
        "train_loss, train_accuracy = eval_model(benchmark_model, train_loader, device=DEVICE)\n",
        "test_loss, test_accuracy = eval_model(benchmark_model, test_loader, device=DEVICE)\n",
        "print(f'Train Loss {train_loss:.3f} / Test Loss {test_loss:.3f}')\n",
        "print(f'Train Accuracy {100*train_accuracy:.3f}% / Test Accuracy {100*test_accuracy:.3f}%')"
      ],
      "execution_count": 50,
      "outputs": [
        {
          "output_type": "stream",
          "text": [
            "Your model...\n",
            "Train Loss 0.869 / Test Loss 0.843\n",
            "Train Accuracy 81.987% / Test Accuracy 82.793%\n",
            "\n",
            "Benchmark model\n",
            "Train Loss 0.011 / Test Loss 0.025\n",
            "Train Accuracy 99.784% / Test Accuracy 99.316%\n"
          ],
          "name": "stdout"
        }
      ]
    },
    {
      "cell_type": "markdown",
      "metadata": {
        "execution": {},
        "id": "3rdy2udubq8e"
      },
      "source": [
        "---\n",
        "# Section 9: Ethical concerns"
      ]
    },
    {
      "cell_type": "code",
      "metadata": {
        "cellView": "form",
        "execution": {},
        "id": "LWC3OjBsbq8e",
        "outputId": "1c8bbcb9-d63b-40e4-e479-682cc60afcd3",
        "colab": {
          "base_uri": "https://localhost:8080/",
          "height": 579,
          "referenced_widgets": [
            "8c37ea65667b4ebd8dfdac23f23559eb",
            "9a1c8f68961f4d5ea3c86e79d41897a3",
            "4eaa2a902c934b3bbf6a19d60e8286fd",
            "7449c7f35fd24162aa9bd4d8a06e7d4e",
            "df8ae2df789d42a68fb6321889f937d2",
            "ac776ff2f5d144f78b08202fe85126b1"
          ]
        }
      },
      "source": [
        "# @title Video 9: Ethical concerns\n",
        "from ipywidgets import widgets\n",
        "\n",
        "out2 = widgets.Output()\n",
        "with out2:\n",
        "  from IPython.display import IFrame\n",
        "  class BiliVideo(IFrame):\n",
        "    def __init__(self, id, page=1, width=400, height=300, **kwargs):\n",
        "      self.id=id\n",
        "      src = \"https://player.bilibili.com/player.html?bvid={0}&page={1}\".format(id, page)\n",
        "      super(BiliVideo, self).__init__(src, width, height, **kwargs)\n",
        "\n",
        "  video = BiliVideo(id=f\"BV1TU4y1G7Je\", width=854, height=480, fs=1)\n",
        "  print(\"Video available at https://www.bilibili.com/video/{0}\".format(video.id))\n",
        "  display(video)\n",
        "\n",
        "out1 = widgets.Output()\n",
        "with out1:\n",
        "  from IPython.display import YouTubeVideo\n",
        "  video = YouTubeVideo(id=f\"0EthSI0cknI\", width=854, height=480, fs=1, rel=0)\n",
        "  print(\"Video available at https://youtube.com/watch?v=\" + video.id)\n",
        "  display(video)\n",
        "\n",
        "out = widgets.Tab([out1, out2])\n",
        "out.set_title(0, 'Youtube')\n",
        "out.set_title(1, 'Bilibili')\n",
        "\n",
        "display(out)"
      ],
      "execution_count": 51,
      "outputs": [
        {
          "output_type": "display_data",
          "data": {
            "application/vnd.jupyter.widget-view+json": {
              "model_id": "8c37ea65667b4ebd8dfdac23f23559eb",
              "version_minor": 0,
              "version_major": 2
            },
            "text/plain": [
              "Tab(children=(Output(), Output()), _titles={'0': 'Youtube', '1': 'Bilibili'})"
            ]
          },
          "metadata": {
            "tags": []
          }
        }
      ]
    },
    {
      "cell_type": "markdown",
      "metadata": {
        "execution": {},
        "id": "ppNVjil1bq8e"
      },
      "source": [
        "---\n",
        "# Summary\n",
        "\n",
        "* Optimization is necessary to create Deep Learning models that are guaranteed to converge \n",
        "* Stochastic Gradient Descent and Momentum are two commonly used optimization techniques\n",
        "* RMSProp is a way of adaptive hyper parameter tuning which utilises a per-dimension learning rate\n",
        "* Poor choice of optimization objectives can lead to unforeseen, undesirable consequences \n"
      ]
    }
  ]
}