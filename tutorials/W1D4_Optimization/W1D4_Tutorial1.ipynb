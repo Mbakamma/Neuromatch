{
  "cells": [
    {
      "cell_type": "markdown",
      "metadata": {
        "id": "view-in-github",
        "colab_type": "text"
      },
      "source": [
        "<a href=\"https://colab.research.google.com/github/NeuromatchAcademy/course-content-dl/blob/w1d4_postfixes/tutorials/W1D4_Optimization/W1D4_Tutorial1.ipynb\" target=\"_parent\"><img src=\"https://colab.research.google.com/assets/colab-badge.svg\" alt=\"Open In Colab\"/></a>"
      ]
    },
    {
      "cell_type": "markdown",
      "metadata": {
        "execution": {},
        "id": "WM_oCTARZmjK"
      },
      "source": [
        "# Tutorial 1: Optimization techniques\n",
        "**Week 1, Day 4: Optimization**\n",
        "\n",
        "**By Neuromatch Academy**\n",
        "\n",
        "__Content creators:__ Jose Gallego-Posada, Ioannis Mitliagkas\n",
        "\n",
        "__Content reviewers:__ Piyush Chauhan, Vladimir Haltakov, Siwei Bai, Kelson Shilling-Scrivo\n",
        "\n",
        "__Content editors:__ Charles J Edelson, Gagana B, Spiros Chavlis\n",
        "\n",
        "__Production editors:__ Arush Tagade, Spiros Chavlis\n",
        "\n",
        "__Post-Production team:__ R. Krishnakumaran, Gagana B, Spiros Chavlis"
      ]
    },
    {
      "cell_type": "markdown",
      "metadata": {
        "execution": {},
        "id": "S9fz4Px5ZmjM"
      },
      "source": [
        "**Our 2021 Sponsors, including Presenting Sponsor Facebook Reality Labs**\n",
        "\n",
        "<p align='center'><img src='https://github.com/NeuromatchAcademy/widgets/blob/master/sponsors.png?raw=True'/></p>"
      ]
    },
    {
      "cell_type": "markdown",
      "metadata": {
        "execution": {},
        "id": "EO51d1Y9ZmjN"
      },
      "source": [
        "---\n",
        "# Tutorial Objectives\n",
        "\n",
        "Objectives:\n",
        "*   Necessity and importance of optimization\n",
        "*   Introduction to commonly used optimization techniques\n",
        "*   Optimization in non-convex loss landscapes \n",
        "*   'Adaptive' hyperparameter tuning \n",
        "*   Ethical concerns\n",
        "\n"
      ]
    },
    {
      "cell_type": "code",
      "execution_count": 1,
      "metadata": {
        "cellView": "form",
        "execution": {},
        "id": "C3Lg6jYeZmjN",
        "outputId": "7dbc646c-40a9-4e31-fb2e-0f2d846894da",
        "colab": {
          "base_uri": "https://localhost:8080/",
          "height": 502
        }
      },
      "outputs": [
        {
          "output_type": "execute_result",
          "data": {
            "text/html": [
              "\n",
              "        <iframe\n",
              "            width=\"854\"\n",
              "            height=\"480\"\n",
              "            src=\"https://mfr.ca-1.osf.io/render?url=https://osf.io/ft2sz/?direct%26mode=render%26action=download%26mode=render\"\n",
              "            frameborder=\"0\"\n",
              "            allowfullscreen\n",
              "        ></iframe>\n",
              "        "
            ],
            "text/plain": [
              "<IPython.lib.display.IFrame at 0x7f86543cac50>"
            ]
          },
          "metadata": {},
          "execution_count": 1
        }
      ],
      "source": [
        "# @title Tutorial slides\n",
        "\n",
        "# @markdown These are the slides for the videos in this tutorial\n",
        "\n",
        "# @markdown If you want to locally download the slides, click [here](https://osf.io/ft2sz/download)\n",
        "from IPython.display import IFrame\n",
        "IFrame(src=f\"https://mfr.ca-1.osf.io/render?url=https://osf.io/ft2sz/?direct%26mode=render%26action=download%26mode=render\", width=854, height=480)"
      ]
    },
    {
      "cell_type": "markdown",
      "metadata": {
        "execution": {},
        "id": "MuPOXa9PZmjO"
      },
      "source": [
        "---\n",
        "# Setup"
      ]
    },
    {
      "cell_type": "code",
      "execution_count": 2,
      "metadata": {
        "cellView": "form",
        "execution": {},
        "id": "Lh3gCDhgZmjP",
        "outputId": "85c75f11-4ba7-413f-97b0-2dfa064d4c73",
        "colab": {
          "base_uri": "https://localhost:8080/"
        }
      },
      "outputs": [
        {
          "output_type": "stream",
          "name": "stdout",
          "text": [
            "  Building wheel for evaltools (setup.py) ... \u001b[?25l\u001b[?25hdone\n"
          ]
        }
      ],
      "source": [
        "# @title Install dependencies\n",
        "!pip install git+https://github.com/NeuromatchAcademy/evaltools --quiet\n",
        "from evaltools.airtable import AirtableForm\n",
        "\n",
        "# generate airtable form\n",
        "atform = AirtableForm('appn7VdPRseSoMXEG','W1D4_T1','https://portal.neuromatchacademy.org/api/redirect/to/9548a279-c9f9-4586-b89c-f0ceceba5c14')"
      ]
    },
    {
      "cell_type": "code",
      "execution_count": 3,
      "metadata": {
        "execution": {},
        "id": "nvxjqluhZmjP"
      },
      "outputs": [],
      "source": [
        "# Imports\n",
        "import copy\n",
        "\n",
        "import ipywidgets as widgets\n",
        "import matplotlib.pyplot as plt\n",
        "import numpy as np\n",
        "\n",
        "import time\n",
        "import torch\n",
        "import torchvision\n",
        "import torchvision.datasets as datasets\n",
        "import torch.nn.functional as F\n",
        "import torch.nn as nn\n",
        "import torch.optim as optim\n",
        "from tqdm.auto import tqdm"
      ]
    },
    {
      "cell_type": "code",
      "execution_count": 4,
      "metadata": {
        "cellView": "form",
        "execution": {},
        "id": "i6XhTqMDZmjQ"
      },
      "outputs": [],
      "source": [
        "# @title Figure settings\n",
        "import ipywidgets as widgets       # interactive display\n",
        "%config InlineBackend.figure_format = 'retina'\n",
        "plt.style.use(\"https://raw.githubusercontent.com/NeuromatchAcademy/content-creation/main/nma.mplstyle\")\n",
        "plt.rc('axes', unicode_minus=False)"
      ]
    },
    {
      "cell_type": "code",
      "execution_count": 5,
      "metadata": {
        "cellView": "form",
        "execution": {},
        "id": "jbD8fBg5ZmjQ"
      },
      "outputs": [],
      "source": [
        "# @title Helper functions\n",
        "def print_params(model):\n",
        "  \"\"\"\n",
        "  Lists the name and current value of the model's\n",
        "  named parameters\n",
        "\n",
        "  Args:\n",
        "    model: an nn.Module inherited model\n",
        "      Represents the ML/DL model\n",
        "\n",
        "  Returns:\n",
        "    Nothing\n",
        "  \"\"\"\n",
        "  for name, param in model.named_parameters():\n",
        "    if param.requires_grad:\n",
        "      print(name, param.data)"
      ]
    },
    {
      "cell_type": "code",
      "execution_count": 6,
      "metadata": {
        "cellView": "form",
        "execution": {},
        "id": "o3AchSdTZmjR"
      },
      "outputs": [],
      "source": [
        "# @title Set random seed\n",
        "\n",
        "# @markdown Executing `set_seed(seed=seed)` you are setting the seed\n",
        "\n",
        "# for DL its critical to set the random seed so that students can have a\n",
        "# baseline to compare their results to expected results.\n",
        "# Read more here: https://pytorch.org/docs/stable/notes/randomness.html\n",
        "\n",
        "# Call the `set_seed` function in the exercises to ensure reproducibility.\n",
        "import random\n",
        "import torch\n",
        "\n",
        "def set_seed(seed=None, seed_torch=True):\n",
        "  \"\"\"\n",
        "  Handles variability by controlling sources of randomness\n",
        "  through set seed values\n",
        "\n",
        "  Args:\n",
        "    seed: Integer\n",
        "      Set the seed value to given integer.\n",
        "      If no seed, set seed value to random integer in the range 2^32\n",
        "    seed_torch: Bool\n",
        "      Seeds the random number generator for all devices to\n",
        "      offer some guarantees on reproducibility\n",
        "\n",
        "  Returns:\n",
        "    Nothing\n",
        "  \"\"\"\n",
        "  if seed is None:\n",
        "    seed = np.random.choice(2 ** 32)\n",
        "  random.seed(seed)\n",
        "  np.random.seed(seed)\n",
        "  if seed_torch:\n",
        "    torch.manual_seed(seed)\n",
        "    torch.cuda.manual_seed_all(seed)\n",
        "    torch.cuda.manual_seed(seed)\n",
        "    torch.backends.cudnn.benchmark = False\n",
        "    torch.backends.cudnn.deterministic = True\n",
        "  print(f'Random seed {seed} has been set.')\n",
        "\n",
        "\n",
        "# In case that `DataLoader` is used\n",
        "def seed_worker(worker_id):\n",
        "  \"\"\"\n",
        "  DataLoader will reseed workers following randomness in\n",
        "  multi-process data loading algorithm.\n",
        "\n",
        "  Args:\n",
        "    worker_id: integer\n",
        "      ID of subprocess to seed. 0 means that\n",
        "      the data will be loaded in the main process\n",
        "      Refer: https://pytorch.org/docs/stable/data.html#data-loading-randomness for more details\n",
        "\n",
        "  Returns:\n",
        "    Nothing\n",
        "  \"\"\"\n",
        "  worker_seed = torch.initial_seed() % 2**32\n",
        "  np.random.seed(worker_seed)\n",
        "  random.seed(worker_seed)"
      ]
    },
    {
      "cell_type": "code",
      "execution_count": 7,
      "metadata": {
        "cellView": "form",
        "execution": {},
        "id": "DwSIEDWVZmjS"
      },
      "outputs": [],
      "source": [
        "# @title Set device (GPU or CPU). Execute `set_device()`\n",
        "# especially if torch modules are used.\n",
        "\n",
        "# inform the user if the notebook uses GPU or CPU.\n",
        "\n",
        "def set_device():\n",
        "  \"\"\"\n",
        "  Set the device. CUDA if available, CPU otherwise\n",
        "\n",
        "  Args:\n",
        "    None\n",
        "\n",
        "  Returns:\n",
        "    Nothing\n",
        "  \"\"\"\n",
        "  device = \"cuda\" if torch.cuda.is_available() else \"cpu\"\n",
        "  if device != \"cuda\":\n",
        "    print(\"WARNING: For this notebook to perform best, \"\n",
        "        \"if possible, in the menu under `Runtime` -> \"\n",
        "        \"`Change runtime type.`  select `GPU` \")\n",
        "  else:\n",
        "    print(\"GPU is enabled in this notebook.\")\n",
        "\n",
        "  return device"
      ]
    },
    {
      "cell_type": "code",
      "execution_count": 8,
      "metadata": {
        "execution": {},
        "id": "0b9782jhZmjS",
        "outputId": "7ca18f39-c3b0-4778-d5c3-0d7186083580",
        "colab": {
          "base_uri": "https://localhost:8080/"
        }
      },
      "outputs": [
        {
          "output_type": "stream",
          "name": "stdout",
          "text": [
            "Random seed 2021 has been set.\n",
            "GPU is enabled in this notebook.\n"
          ]
        }
      ],
      "source": [
        "SEED = 2021\n",
        "set_seed(seed=SEED)\n",
        "DEVICE = set_device()"
      ]
    },
    {
      "cell_type": "markdown",
      "metadata": {
        "execution": {},
        "id": "MYv1_gYrZmjS"
      },
      "source": [
        "---\n",
        "# Section 1. Introduction\n",
        "\n",
        "*Time estimate: ~15 mins*"
      ]
    },
    {
      "cell_type": "code",
      "execution_count": 9,
      "metadata": {
        "cellView": "form",
        "execution": {},
        "id": "vcxT8yVnZmjS",
        "outputId": "f1c0516a-20d4-4234-a024-b53967b9a676",
        "colab": {
          "base_uri": "https://localhost:8080/",
          "height": 582,
          "referenced_widgets": [
            "43da6db38a134038b211eeb197489f99",
            "73209a2f60304252b1b7162c136a2827",
            "c51eacfb3671435488e8ba848cebf581",
            "f18f09f7f35a49419b812b446093e2b1",
            "98c8e2fa67db4fbc8ac84a6a8e15fb6c",
            "9a4fbce36f054801ab4c9c6d4b14ff23"
          ]
        }
      },
      "outputs": [
        {
          "output_type": "display_data",
          "data": {
            "application/vnd.jupyter.widget-view+json": {
              "model_id": "43da6db38a134038b211eeb197489f99",
              "version_minor": 0,
              "version_major": 2
            },
            "text/plain": [
              "Tab(children=(Output(), Output()), _titles={'0': 'Youtube', '1': 'Bilibili'})"
            ]
          },
          "metadata": {}
        }
      ],
      "source": [
        "# @title Video 1: Introduction\n",
        "from ipywidgets import widgets\n",
        "\n",
        "out2 = widgets.Output()\n",
        "with out2:\n",
        "  from IPython.display import IFrame\n",
        "  class BiliVideo(IFrame):\n",
        "    def __init__(self, id, page=1, width=400, height=300, **kwargs):\n",
        "      self.id=id\n",
        "      src = \"https://player.bilibili.com/player.html?bvid={0}&page={1}\".format(id, page)\n",
        "      super(BiliVideo, self).__init__(src, width, height, **kwargs)\n",
        "\n",
        "  video = BiliVideo(id=f\"BV1VB4y1K7Vr\", width=854, height=480, fs=1)\n",
        "  print(\"Video available at https://www.bilibili.com/video/{0}\".format(video.id))\n",
        "  display(video)\n",
        "\n",
        "out1 = widgets.Output()\n",
        "with out1:\n",
        "  from IPython.display import YouTubeVideo\n",
        "  video = YouTubeVideo(id=f\"zm9oekdkJbQ\", width=854, height=480, fs=1, rel=0)\n",
        "  print(\"Video available at https://youtube.com/watch?v=\" + video.id)\n",
        "  display(video)\n",
        "\n",
        "out = widgets.Tab([out1, out2])\n",
        "out.set_title(0, 'Youtube')\n",
        "out.set_title(1, 'Bilibili')\n",
        "\n",
        "# add event to airtable\n",
        "atform.add_event('Video 1: Introduction')\n",
        "\n",
        "display(out)"
      ]
    },
    {
      "cell_type": "markdown",
      "metadata": {
        "execution": {},
        "id": "KTxD6vPMZmjT"
      },
      "source": [
        "## Discuss: Unexpected consequences\n",
        "\n",
        "Can you think of examples from your own experience/life where poorly chosen incentives or objectives have led to unexpected consequences?"
      ]
    },
    {
      "cell_type": "code",
      "execution_count": 10,
      "metadata": {
        "execution": {},
        "id": "gPS4ycnyZmjT",
        "outputId": "a70a2e6e-5580-4729-85ed-93dcac644a16",
        "colab": {
          "base_uri": "https://localhost:8080/",
          "height": 106
        }
      },
      "outputs": [
        {
          "output_type": "execute_result",
          "data": {
            "application/vnd.google.colaboratory.intrinsic+json": {
              "type": "string"
            },
            "text/plain": [
              "'\\nExample 1: The 20th-century paleontologist G. H. R. von Koenigswald used to pay\\nJavanese (South Asian) locals for each fragment of hominin skull that they produced.\\nHe later discovered that the people had been breaking up whole skulls into smaller\\npieces to maximise their payments.\\nWikipedia: https://en.wikipedia.org/wiki/Perverse_incentive (more examples here)\\n\\nExample 2: This satirical article on the Huffington Post, mirroring the true\\nevents of the Pi Bill, paints a dystopian picture of the consequences\\nof misaligned incentives and politics: \"With the aim of improving the US performance\\nin OECD rankings, a congressperson introduced \\'The Geometric Simplification Act\\' in\\n2011, declaring the Euclidean mathematical constant $\\\\pi$ to be precisely 3\".\\nLink: https://www.huffpost.com/entry/republicans-introduce-leg_b_837828\\n'"
            ]
          },
          "metadata": {},
          "execution_count": 10
        }
      ],
      "source": [
        "# to_remove explanation\n",
        "\"\"\"\n",
        "Example 1: The 20th-century paleontologist G. H. R. von Koenigswald used to pay\n",
        "Javanese (South Asian) locals for each fragment of hominin skull that they produced.\n",
        "He later discovered that the people had been breaking up whole skulls into smaller\n",
        "pieces to maximise their payments.\n",
        "Wikipedia: https://en.wikipedia.org/wiki/Perverse_incentive (more examples here)\n",
        "\n",
        "Example 2: This satirical article on the Huffington Post, mirroring the true\n",
        "events of the Pi Bill, paints a dystopian picture of the consequences\n",
        "of misaligned incentives and politics: \"With the aim of improving the US performance\n",
        "in OECD rankings, a congressperson introduced 'The Geometric Simplification Act' in\n",
        "2011, declaring the Euclidean mathematical constant $\\pi$ to be precisely 3\".\n",
        "Link: https://www.huffpost.com/entry/republicans-introduce-leg_b_837828\n",
        "\"\"\""
      ]
    },
    {
      "cell_type": "markdown",
      "metadata": {
        "execution": {},
        "id": "4cYJK6t8ZmjU"
      },
      "source": [
        "---\n",
        "# Section 2: Case study: successfully training an MLP for image classification\n",
        "\n",
        "*Time estimate: ~40 mins*"
      ]
    },
    {
      "cell_type": "markdown",
      "metadata": {
        "execution": {},
        "id": "MlhXaXcrZmjU"
      },
      "source": [
        "Many of the core ideas (and tricks) in modern optimization for deep learning can be illustrated in the simple setting of training an MLP to solve an image classification task. In this tutorial we will guide you through the key challenges that arise when optimizing high-dimensional, non-convex$^\\dagger$ problems. We will use these challenges to motivate and explain some commonly used solutions.\n",
        "\n",
        "**Disclaimer:** Some of the functions you will code in this tutorial are already implemented in Pytorch and many other libraries. For pedagogical reasons, we decided to bring these simple coding tasks into the spotlight and place a relatively higher emphasis in your understanding of the algorithms, rather than the use of a specific library. \n",
        "\n",
        "In 'day-to-day' research projects you will likely rely on the community-vetted, optimized libraries rather than the 'manual implementations' you will write today. In Section 8 you will have a chance to 'put it all together' and use the full power of Pytorch to tune the parameters of an MLP to classify handwritten digits."
      ]
    },
    {
      "cell_type": "markdown",
      "metadata": {
        "execution": {},
        "id": "XMMtopBgZmjU"
      },
      "source": [
        "$^\\dagger$: A **strictly convex** function has the same global and local minimum - a nice property for optimization as it won't get stuck in a local minimum that isn't a global one (e.g., $f(x)=x^2 + 2x + 1$). A **non-convex** function is wavy - has some 'valleys' (local minima) that aren't as deep as the overall deepest 'valley' (global minimum). Thus, the optimization algorithms can get stuck in the local minimum, and it can be hard to tell when this happens (e.g., $f(x) = x^4 + x^3 - 2x^2 - 2x$). See also **Section 5** for more details."
      ]
    },
    {
      "cell_type": "code",
      "execution_count": 11,
      "metadata": {
        "cellView": "form",
        "execution": {},
        "id": "EwioLUmdZmjU",
        "outputId": "d769289c-5417-4fad-ca38-41eb247c7931",
        "colab": {
          "base_uri": "https://localhost:8080/",
          "height": 582,
          "referenced_widgets": [
            "f5a48d6ce28042729cd8154824da810d",
            "450220d112874fafb061e13b88599f8e",
            "9d7ccdb88f104c7bacd4bba3b5f393ea",
            "804d5fd9685d4fc680ea9e7d54fafe0c",
            "1e7840fdcd3a466fb23157a0d743a082",
            "1fac3a0f173548f88541d6720dd8fe35"
          ]
        }
      },
      "outputs": [
        {
          "output_type": "display_data",
          "data": {
            "application/vnd.jupyter.widget-view+json": {
              "model_id": "f5a48d6ce28042729cd8154824da810d",
              "version_minor": 0,
              "version_major": 2
            },
            "text/plain": [
              "Tab(children=(Output(), Output()), _titles={'0': 'Youtube', '1': 'Bilibili'})"
            ]
          },
          "metadata": {}
        }
      ],
      "source": [
        "# @title Video 2: Case Study - MLP Classification\n",
        "from ipywidgets import widgets\n",
        "\n",
        "out2 = widgets.Output()\n",
        "with out2:\n",
        "  from IPython.display import IFrame\n",
        "  class BiliVideo(IFrame):\n",
        "    def __init__(self, id, page=1, width=400, height=300, **kwargs):\n",
        "      self.id=id\n",
        "      src = \"https://player.bilibili.com/player.html?bvid={0}&page={1}\".format(id, page)\n",
        "      super(BiliVideo, self).__init__(src, width, height, **kwargs)\n",
        "\n",
        "  video = BiliVideo(id=f\"BV1GB4y1K7Ha\", width=854, height=480, fs=1)\n",
        "  print(\"Video available at https://www.bilibili.com/video/{0}\".format(video.id))\n",
        "  display(video)\n",
        "\n",
        "out1 = widgets.Output()\n",
        "with out1:\n",
        "  from IPython.display import YouTubeVideo\n",
        "  video = YouTubeVideo(id=f\"pJc2ENhYbqA\", width=854, height=480, fs=1, rel=0)\n",
        "  print(\"Video available at https://youtube.com/watch?v=\" + video.id)\n",
        "  display(video)\n",
        "\n",
        "out = widgets.Tab([out1, out2])\n",
        "out.set_title(0, 'Youtube')\n",
        "out.set_title(1, 'Bilibili')\n",
        "\n",
        "# add event to airtable\n",
        "atform.add_event('Video 2: Case Study - MLP Classification')\n",
        "\n",
        "display(out)"
      ]
    },
    {
      "cell_type": "markdown",
      "metadata": {
        "execution": {},
        "id": "xq6bc4baZmjV"
      },
      "source": [
        "## Section 2.1: Data\n",
        "\n",
        "We will use the MNIST dataset of handwritten digits. We load the data via the Pytorch `datasets` module, as you learned in W1D1.\n",
        "\n",
        "**Note:** Although we can download the MNIST dataset directly from `datasets` using the optional argument `download=True`, we are going to download them from NMA directory on OSF to ensure network reliability.\n"
      ]
    },
    {
      "cell_type": "code",
      "execution_count": 12,
      "metadata": {
        "cellView": "form",
        "execution": {},
        "id": "7UFr5Rt3ZmjV",
        "outputId": "516c9180-7e4b-42be-dd97-7eae8bfb30e8",
        "colab": {
          "base_uri": "https://localhost:8080/"
        }
      },
      "outputs": [
        {
          "output_type": "stream",
          "name": "stdout",
          "text": [
            "\n",
            "Downloading MNIST dataset...\n",
            "\n",
            "Downloading MNIST completed.\n"
          ]
        }
      ],
      "source": [
        "# @title Download MNIST dataset\n",
        "import tarfile, requests, os\n",
        "\n",
        "fname = 'MNIST.tar.gz'\n",
        "name = 'MNIST'\n",
        "url = 'https://osf.io/y2fj6/download'\n",
        "\n",
        "if not os.path.exists(name):\n",
        "  print('\\nDownloading MNIST dataset...')\n",
        "  r = requests.get(url, allow_redirects=True)\n",
        "  with open(fname, 'wb') as fh:\n",
        "    fh.write(r.content)\n",
        "  print('\\nDownloading MNIST completed.')\n",
        "\n",
        "if not os.path.exists(name):\n",
        "  with tarfile.open(fname) as tar:\n",
        "    tar.extractall()\n",
        "    os.remove(fname)\n",
        "else:\n",
        "  print('MNIST dataset has been downloaded.')"
      ]
    },
    {
      "cell_type": "code",
      "execution_count": 13,
      "metadata": {
        "execution": {},
        "id": "WN9AZIUCZmjV"
      },
      "outputs": [],
      "source": [
        "def load_mnist_data(change_tensors=False, download=False):\n",
        "  \"\"\"\n",
        "  Load training and test examples for the MNIST handwritten digits dataset\n",
        "  with every image: 28*28 x 1 channel (greyscale image)\n",
        "\n",
        "  Args:\n",
        "    change_tensors: Bool\n",
        "      Argument to check if tensors need to be normalised\n",
        "    download: Bool\n",
        "      Argument to check if dataset needs to be downloaded/already exists\n",
        "\n",
        "  Returns:\n",
        "    train_set:\n",
        "      train_data: Tensor\n",
        "        training input tensor of size (train_size x 784)\n",
        "      train_target: Tensor\n",
        "        training 0-9 integer label tensor of size (train_size)\n",
        "    test_set:\n",
        "      test_data: Tensor\n",
        "        test input tensor of size (test_size x 784)\n",
        "      test_target: Tensor\n",
        "        training 0-9 integer label tensor of size (test_size)\n",
        "  \"\"\"\n",
        "  # Load train and test sets\n",
        "  train_set = datasets.MNIST(root='.', train=True, download=download,\n",
        "                             transform=torchvision.transforms.ToTensor())\n",
        "  test_set = datasets.MNIST(root='.', train=False, download=download,\n",
        "                            transform=torchvision.transforms.ToTensor())\n",
        "\n",
        "  # Original data is in range [0, 255]. We normalize the data wrt its mean and std_dev.\n",
        "  # Note that we only used *training set* information to compute mean and std\n",
        "  mean = train_set.data.float().mean()\n",
        "  std = train_set.data.float().std()\n",
        "\n",
        "  if change_tensors:\n",
        "    # Apply normalization directly to the tensors containing the dataset\n",
        "    train_set.data = (train_set.data.float() - mean) / std\n",
        "    test_set.data = (test_set.data.float() - mean) / std\n",
        "  else:\n",
        "    tform = torchvision.transforms.Compose([torchvision.transforms.ToTensor(),\n",
        "                                            torchvision.transforms.Normalize(mean=[mean / 255.], std=[std / 255.])\n",
        "                                            ])\n",
        "    train_set = datasets.MNIST(root='.', train=True, download=download,\n",
        "                               transform=tform)\n",
        "    test_set = datasets.MNIST(root='.', train=False, download=download,\n",
        "                              transform=tform)\n",
        "\n",
        "  return train_set, test_set\n",
        "\n",
        "\n",
        "train_set, test_set = load_mnist_data(change_tensors=True)"
      ]
    },
    {
      "cell_type": "markdown",
      "metadata": {
        "execution": {},
        "id": "FMfffYE4ZmjW"
      },
      "source": [
        "As we are just getting started, we will concentrate on a small subset of only 500 examples out of the 60.000 data points contained in the whole training set.\n",
        "\n"
      ]
    },
    {
      "cell_type": "code",
      "execution_count": 14,
      "metadata": {
        "execution": {},
        "id": "hLPTWE7aZmjW"
      },
      "outputs": [],
      "source": [
        "# Sample a random subset of 500 indices\n",
        "subset_index = np.random.choice(len(train_set.data), 500)\n",
        "\n",
        "# We will use these symbols to represent the training data and labels, to stay\n",
        "# as close to the mathematical expressions as possible.\n",
        "X, y = train_set.data[subset_index, :], train_set.targets[subset_index]"
      ]
    },
    {
      "cell_type": "markdown",
      "metadata": {
        "execution": {},
        "id": "gkw5KgkgZmjW"
      },
      "source": [
        "Run the following cell to visualize the content of three examples in our training set. Note how the preprocessing we applied to the data changes the range of pixel values after normalization.\n"
      ]
    },
    {
      "cell_type": "code",
      "execution_count": 15,
      "metadata": {
        "cellView": "form",
        "execution": {},
        "id": "9fUczjppZmjW",
        "outputId": "d1ed02bd-f485-49b6-956d-b3eb764c1e44",
        "colab": {
          "base_uri": "https://localhost:8080/",
          "height": 374
        }
      },
      "outputs": [
        {
          "output_type": "display_data",
          "data": {
            "image/png": "[encoded data removed]",
            "text/plain": [
              "<Figure size 1080x360 with 3 Axes>"
            ]
          },
          "metadata": {
            "image/png": {
              "width": 1032,
              "height": 357
            },
            "needs_background": "light"
          }
        }
      ],
      "source": [
        "# @title Run me!\n",
        "\n",
        "# Exploratory data analysis and visualisation\n",
        "\n",
        "num_figures = 3\n",
        "fig, axs = plt.subplots(1, num_figures, figsize=(5 * num_figures, 5))\n",
        "\n",
        "for sample_id, ax in enumerate(axs):\n",
        "  # Plot the pixel values for each image\n",
        "  ax.matshow(X[sample_id, :], cmap='gray_r')\n",
        "  # 'Write' the pixel value in the corresponding location\n",
        "  for (i, j), z in np.ndenumerate(X[sample_id, :]):\n",
        "    text = '{:.1f}'.format(z)\n",
        "    ax.text(j, i, text, ha='center',\n",
        "            va='center', fontsize=6, c='steelblue')\n",
        "\n",
        "  ax.set_title('Label: ' + str(y[sample_id].item()))\n",
        "  ax.axis('off')\n",
        "\n",
        "plt.show()"
      ]
    },
    {
      "cell_type": "markdown",
      "metadata": {
        "execution": {},
        "id": "yOxj2OvaZmjX"
      },
      "source": [
        "## Section 2.2: Model\n",
        "\n",
        "As you will see next week, there are specific model architectures that are better suited to image-like data, such as Convolutional Neural Networks (CNNs). For simplicity, in this tutorial we will focus exclusively on Multi-Layer Perceptron (MLP) models as they allow us to highlight many important optimization challenges shared with more advanced neural network designs."
      ]
    },
    {
      "cell_type": "code",
      "execution_count": 16,
      "metadata": {
        "execution": {},
        "id": "f6vbcj4_ZmjX"
      },
      "outputs": [],
      "source": [
        "class MLP(nn.Module):\n",
        "  \"\"\"\n",
        "  This class implements MLPs in Pytorch of an arbitrary number of hidden\n",
        "  layers of potentially different sizes. Since we concentrate on classification\n",
        "  tasks in this tutorial, we have a log_softmax layer at prediction time.\n",
        "  \"\"\"\n",
        "\n",
        "  def __init__(self, in_dim=784, out_dim=10, hidden_dims=[], use_bias=True):\n",
        "    \"\"\"\n",
        "    Constructs a MultiLayerPerceptron\n",
        "\n",
        "    Args:\n",
        "      in_dim: Integer\n",
        "        dimensionality of input data (784)\n",
        "      out_dim: Integer\n",
        "        number of classes (10)\n",
        "      hidden_dims: List\n",
        "        containing the dimensions of the hidden layers,\n",
        "        empty list corresponds to a linear model (in_dim, out_dim)\n",
        "\n",
        "    Returns:\n",
        "      Nothing\n",
        "    \"\"\"\n",
        "\n",
        "    super(MLP, self).__init__()\n",
        "\n",
        "    self.in_dim = in_dim\n",
        "    self.out_dim = out_dim\n",
        "\n",
        "    # If we have no hidden layer, just initialize a linear model (e.g. in logistic regression)\n",
        "    if len(hidden_dims) == 0:\n",
        "      layers = [nn.Linear(in_dim, out_dim, bias=use_bias)]\n",
        "    else:\n",
        "      # 'Actual' MLP with dimensions in_dim - num_hidden_layers*[hidden_dim] - out_dim\n",
        "      layers = [nn.Linear(in_dim, hidden_dims[0], bias=use_bias), nn.ReLU()]\n",
        "\n",
        "      # Loop until before the last layer\n",
        "      for i, hidden_dim in enumerate(hidden_dims[:-1]):\n",
        "        layers += [nn.Linear(hidden_dim, hidden_dims[i + 1], bias=use_bias),\n",
        "                   nn.ReLU()]\n",
        "\n",
        "      # Add final layer to the number of classes\n",
        "      layers += [nn.Linear(hidden_dims[-1], out_dim, bias=use_bias)]\n",
        "\n",
        "    self.main = nn.Sequential(*layers)\n",
        "\n",
        "  def forward(self, x):\n",
        "    \"\"\"\n",
        "    Defines the network structure and flow from input to output\n",
        "\n",
        "    Args:\n",
        "      x: Tensor\n",
        "        Image to be processed by the network\n",
        "\n",
        "    Returns:\n",
        "      output: Tensor\n",
        "        same dimension and shape as the input with probabilistic values in the range [0, 1]\n",
        "\n",
        "    \"\"\"\n",
        "    # Flatten each images into a 'vector'\n",
        "    transformed_x = x.view(-1, self.in_dim)\n",
        "    hidden_output = self.main(transformed_x)\n",
        "    output = F.log_softmax(hidden_output, dim=1)\n",
        "    return output"
      ]
    },
    {
      "cell_type": "markdown",
      "metadata": {
        "execution": {},
        "id": "VSnKBzIwZmjX"
      },
      "source": [
        "Linear models constitute a very special kind of MLPs: they are equivalent to an MLP with *zero* hidden layers. This is simply an affine transformation, in other words a 'linear' map $W x$ with an 'offset' $b$; followed by a softmax function.\n",
        "\n",
        "$$f(x) = \\text{softmax}(W x + b)$$\n",
        "\n",
        "Here $x \\in \\mathbb{R}^{784}$, $W \\in \\mathbb{R}^{10 \\times 784}$ and $b \\in \\mathbb{R}^{10}$. Notice that the dimensions of the weight matrix are $10 \\times 784$ as the input tensors are flattened images, i.e., $28 \\times 28 = 784$-dimensional tensors and the output layer consists of $10$ nodes. Also, note that the implementation of softmax encapsulates b in W i.e., It maps the rows of the input instead of the columns. That is, the i’th row of the output is the mapping of the i’th row of the input under W, plus the bias term. Refer Affine maps here: https://pytorch.org/tutorials/beginner/nlp/deep_learning_tutorial.html#affine-maps"
      ]
    },
    {
      "cell_type": "code",
      "execution_count": 17,
      "metadata": {
        "execution": {},
        "id": "OtWyjRK7ZmjX",
        "outputId": "d5cfd6c8-2c8a-46fe-9158-8cbb5c6d9cd2",
        "colab": {
          "base_uri": "https://localhost:8080/"
        }
      },
      "outputs": [
        {
          "output_type": "stream",
          "name": "stdout",
          "text": [
            "MLP(\n",
            "  (main): Sequential(\n",
            "    (0): Linear(in_features=784, out_features=10, bias=True)\n",
            "  )\n",
            ")\n"
          ]
        }
      ],
      "source": [
        "# Empty hidden_dims means we take a model with zero hidden layers.\n",
        "model = MLP(in_dim=784, out_dim=10, hidden_dims=[])\n",
        "\n",
        "# We print the model structure with 784 inputs and 10 outputs\n",
        "print(model)"
      ]
    },
    {
      "cell_type": "markdown",
      "metadata": {
        "execution": {},
        "id": "wNszQcP3ZmjY"
      },
      "source": [
        "## Section 2.3: Loss\n",
        "\n",
        "While we care about the accuracy of the model, the 'discrete' nature of the 0-1 loss makes it challenging to optimize. In order to learn good parameters for this model, we will use the cross entropy loss (negative log-likelihood), which you saw in the last lecture, as a surrogate objective to be minimized. \n",
        "\n",
        "This particular choice of model and optimization objective leads to a *convex* optimization problem with respect to the parameters $W$ and $b$. "
      ]
    },
    {
      "cell_type": "code",
      "execution_count": 18,
      "metadata": {
        "execution": {},
        "id": "Up2Kqf54ZmjY"
      },
      "outputs": [],
      "source": [
        "loss_fn = F.nll_loss"
      ]
    },
    {
      "cell_type": "markdown",
      "metadata": {
        "execution": {},
        "id": "mr2atmRjZmjY"
      },
      "source": [
        "## Section 2.4: Interpretability"
      ]
    },
    {
      "cell_type": "markdown",
      "metadata": {
        "execution": {},
        "id": "03I-t6o9ZmjY"
      },
      "source": [
        "In the last lecture, you saw that inspecting the weights of a model can provide insights on what 'concepts' the model has learned. Here we show the weights of a partially trained model. The weights corresponding to each class 'learn' to _fire_ when an input of the class is detected.\n"
      ]
    },
    {
      "cell_type": "code",
      "execution_count": 19,
      "metadata": {
        "cellView": "form",
        "execution": {},
        "id": "PkDp-zSTZmjY"
      },
      "outputs": [],
      "source": [
        "#@markdown Run _this cell_ to train the model. If you are curious about how the training\n",
        "#@markdown takes place, double-click this cell to find out. At the end of this tutorial\n",
        "#@markdown you will have the opportunity to train a more complex model on your own.\n",
        "\n",
        "cell_verbose = False\n",
        "partial_trained_model = MLP(in_dim=784, out_dim=10, hidden_dims=[])\n",
        "\n",
        "if cell_verbose:\n",
        "  print('Init loss', loss_fn(partial_trained_model(X), y).item()) # This matches around np.log(10 = # of classes)\n",
        "\n",
        "# Invoke an optimizer using Adaptive gradient and Momentum (more about this in Section 7)\n",
        "optimizer = optim.Adam(partial_trained_model.parameters(), lr=7e-4)\n",
        "for _ in range(200):\n",
        "  loss = loss_fn(partial_trained_model(X), y)\n",
        "  optimizer.zero_grad()\n",
        "  loss.backward()\n",
        "  optimizer.step()\n",
        "\n",
        "if cell_verbose:\n",
        "  print('End loss', loss_fn(partial_trained_model(X), y).item()) # This should be less than 1e-2"
      ]
    },
    {
      "cell_type": "code",
      "execution_count": 20,
      "metadata": {
        "execution": {},
        "id": "RbpyHrliZmjY",
        "outputId": "751599b1-fc2c-449a-c439-20deb3ff2f0c",
        "colab": {
          "base_uri": "https://localhost:8080/",
          "height": 141
        }
      },
      "outputs": [
        {
          "output_type": "display_data",
          "data": {
            "image/png": "[encoded data removed]",
            "text/plain": [
              "<Figure size 1080x288 with 10 Axes>"
            ]
          },
          "metadata": {
            "image/png": {
              "width": 1062,
              "height": 124
            },
            "needs_background": "light"
          }
        }
      ],
      "source": [
        "# Show class filters of a trained model\n",
        "W = partial_trained_model.main[0].weight.data.numpy()\n",
        "\n",
        "fig, axs = plt.subplots(1, 10, figsize=(15, 4))\n",
        "for class_id in range(10):\n",
        "  axs[class_id].imshow(W[class_id, :].reshape(28, 28), cmap='gray_r')\n",
        "  axs[class_id].axis('off')\n",
        "  axs[class_id].set_title('Class ' + str(class_id) )\n",
        "\n",
        "plt.show()"
      ]
    },
    {
      "cell_type": "markdown",
      "metadata": {
        "execution": {},
        "id": "oJ2gJx4qZmjZ"
      },
      "source": [
        "---\n",
        "# Section 3: High dimensional search\n",
        "\n",
        "*Time estimate: ~25 mins*"
      ]
    },
    {
      "cell_type": "markdown",
      "metadata": {
        "execution": {},
        "id": "mOJU2uJ7ZmjZ"
      },
      "source": [
        "We now have a model with its corresponding trainable parameters as well as an objective to optimize. Where do we goto next? How do we find a 'good' configuration of parameters?\n",
        "\n",
        "One idea is to choose a random direction and move only if the objective is reduced. However, this is inefficient in high dimensions and you will see how gradient descent (with a suitable step-size) can guarantee consistent improvement in terms of the objective function."
      ]
    },
    {
      "cell_type": "code",
      "execution_count": 21,
      "metadata": {
        "cellView": "form",
        "execution": {},
        "id": "Tvw01zQRZmjZ",
        "outputId": "7f2ea3ef-dbbc-4c0a-d6cd-8bf3cc19e6ad",
        "colab": {
          "base_uri": "https://localhost:8080/",
          "height": 582,
          "referenced_widgets": [
            "7345173294ec4fc4b0bdda3cda3cc2e2",
            "0b3286f43e69434cad8677c43eae2aa2",
            "0cd7ac9ae5234cc98be08f7d2ca4c7a5",
            "f2144fbca3eb4dea832c7ed85e4e02e9",
            "dc6932d31f9b496c8c6f6940d31fdb7b",
            "43f66856c054410fa34523f4b492be73"
          ]
        }
      },
      "outputs": [
        {
          "output_type": "display_data",
          "data": {
            "application/vnd.jupyter.widget-view+json": {
              "model_id": "7345173294ec4fc4b0bdda3cda3cc2e2",
              "version_minor": 0,
              "version_major": 2
            },
            "text/plain": [
              "Tab(children=(Output(), Output()), _titles={'0': 'Youtube', '1': 'Bilibili'})"
            ]
          },
          "metadata": {}
        }
      ],
      "source": [
        "# @title Video 3: Optimization of an Objective Function\n",
        "from ipywidgets import widgets\n",
        "\n",
        "out2 = widgets.Output()\n",
        "with out2:\n",
        "  from IPython.display import IFrame\n",
        "  class BiliVideo(IFrame):\n",
        "    def __init__(self, id, page=1, width=400, height=300, **kwargs):\n",
        "      self.id=id\n",
        "      src = \"https://player.bilibili.com/player.html?bvid={0}&page={1}\".format(id, page)\n",
        "      super(BiliVideo, self).__init__(src, width, height, **kwargs)\n",
        "\n",
        "  video = BiliVideo(id=f\"BV1aL411H7Ce\", width=854, height=480, fs=1)\n",
        "  print(\"Video available at https://www.bilibili.com/video/{0}\".format(video.id))\n",
        "  display(video)\n",
        "\n",
        "out1 = widgets.Output()\n",
        "with out1:\n",
        "  from IPython.display import YouTubeVideo\n",
        "  video = YouTubeVideo(id=f\"aSJTRdjRvvw\", width=854, height=480, fs=1, rel=0)\n",
        "  print(\"Video available at https://youtube.com/watch?v=\" + video.id)\n",
        "  display(video)\n",
        "\n",
        "out = widgets.Tab([out1, out2])\n",
        "out.set_title(0, 'Youtube')\n",
        "out.set_title(1, 'Bilibili')\n",
        "\n",
        "# add event to airtable\n",
        "atform.add_event('Video 3: Optimization of an Objective Function')\n",
        "\n",
        "display(out)"
      ]
    },
    {
      "cell_type": "markdown",
      "metadata": {
        "execution": {},
        "id": "klOsqaHxZmjZ"
      },
      "source": [
        "## Coding Exercise 3: Implement gradient descent\n",
        "\n",
        "In this exercise you will use PyTorch automatic differentiation capabilities to compute the gradient of the loss with respect to the parameters of the model. You will then use these gradients to implement the update performed by the gradient descent method.  "
      ]
    },
    {
      "cell_type": "code",
      "execution_count": 22,
      "metadata": {
        "execution": {},
        "id": "dUfjKQaPZmjZ"
      },
      "outputs": [],
      "source": [
        "def zero_grad(params):\n",
        "  \"\"\"\n",
        "  Clear gradients as they accumulate on successive backward calls\n",
        "\n",
        "  Args:\n",
        "    params: an iterator over tensors\n",
        "      i.e., updating the Weights and biases\n",
        "\n",
        "  Returns:\n",
        "    Nothing\n",
        "  \"\"\"\n",
        "  for par in params:\n",
        "    if not(par.grad is None):\n",
        "      par.grad.data.zero_()\n",
        "\n",
        "\n",
        "def random_update(model, noise_scale=0.1, normalized=False):\n",
        "  \"\"\"\n",
        "  Performs a random update on the parameters of the model to help\n",
        "  understand the effectiveness of updating random directions\n",
        "  for the problem of optimizing the parameters of a high-dimensional linear model.\n",
        "\n",
        "  Args:\n",
        "    model: nn.Module derived class\n",
        "      The model whose parameters are to be updated\n",
        "\n",
        "    noise_scale: float\n",
        "      Specifies the magnitude of random weight\n",
        "\n",
        "    normalized: Bool\n",
        "      Indicates if the parameter has been normalised or not\n",
        "\n",
        "  Returns:\n",
        "    Nothing\n",
        "  \"\"\"\n",
        "  for par in model.parameters():\n",
        "    noise = torch.randn_like(par)\n",
        "    if normalized:\n",
        "      noise /= torch.norm(noise)\n",
        "    par.data +=  noise_scale * noise"
      ]
    },
    {
      "cell_type": "code",
      "execution_count": 23,
      "metadata": {
        "execution": {},
        "id": "BBstv3q5ZmjZ",
        "outputId": "acb99401-16ba-4c7b-f148-564c3e51a445",
        "colab": {
          "base_uri": "https://localhost:8080/"
        }
      },
      "outputs": [
        {
          "output_type": "stream",
          "name": "stdout",
          "text": [
            "Random seed 2021 has been set.\n",
            "\n",
            " The model1 parameters before the update are: \n",
            "\n",
            "main.0.weight tensor([[-0.0264,  0.0010,  0.0173,  ...,  0.0297,  0.0278, -0.0221],\n",
            "        [-0.0040, -0.0295, -0.0086,  ..., -0.0070,  0.0254, -0.0233],\n",
            "        [ 0.0240, -0.0231,  0.0342,  ...,  0.0124,  0.0270, -0.0180],\n",
            "        ...,\n",
            "        [-0.0005,  0.0157,  0.0111,  ...,  0.0144, -0.0301, -0.0144],\n",
            "        [ 0.0181,  0.0303,  0.0255,  ..., -0.0110, -0.0175,  0.0205],\n",
            "        [ 0.0208, -0.0353, -0.0183,  ..., -0.0271,  0.0099,  0.0003]])\n",
            "main.0.bias tensor([-0.0290, -0.0033,  0.0100, -0.0320,  0.0022,  0.0221,  0.0307,  0.0243,\n",
            "         0.0159, -0.0064])\n"
          ]
        }
      ],
      "source": [
        "def gradient_update(loss, params, lr=1e-3):\n",
        "  \"\"\"\n",
        "  Perform a gradient descent update on a given loss over a collection of parameters\n",
        "\n",
        "  Args:\n",
        "    loss: Tensor\n",
        "      A scalar tensor containing the loss through which the gradient will be computed\n",
        "    params: List of iterables\n",
        "      Collection of parameters with respect to which we compute gradients\n",
        "    lr: Float\n",
        "      Scalar specifying the learning rate or step-size for the update\n",
        "\n",
        "  Returns:\n",
        "    Nothing\n",
        "  \"\"\"\n",
        "  # Clear up gradients as Pytorch automatically accumulates gradients from\n",
        "  # successive backward calls\n",
        "  zero_grad(params)\n",
        "\n",
        "  # Compute gradients on given objective\n",
        "  loss.backward()\n",
        "\n",
        "  with torch.no_grad():\n",
        "    for par in params:\n",
        "      #################################################\n",
        "      ## TODO for students: update the value of the parameter ##\n",
        "      raise NotImplementedError(\"Student exercise: implement gradient update\")\n",
        "      #################################################\n",
        "      # Here we work with the 'data' attribute of the parameter rather than the\n",
        "      # parameter itself.\n",
        "      # Hence - use the learning rate and the parameter's .grad.data attribute to perform an update\n",
        "      par.data -= ...\n",
        "\n",
        "\n",
        "# add event to airtable\n",
        "atform.add_event('Coding Exercise 3: Implement gradient descent')\n",
        "\n",
        "\n",
        "set_seed(seed=SEED)\n",
        "model1 = MLP(in_dim=784, out_dim=10, hidden_dims=[])\n",
        "print('\\n The model1 parameters before the update are: \\n')\n",
        "print_params(model1)\n",
        "loss = loss_fn(model1(X), y)\n",
        "\n",
        "## Uncomment below to test your function\n",
        "# gradient_update(loss, list(model1.parameters()), lr=1e-1)\n",
        "# print('\\n The model1 parameters after the update are: \\n')\n",
        "# print_params(model1)"
      ]
    },
    {
      "cell_type": "code",
      "execution_count": 24,
      "metadata": {
        "execution": {},
        "id": "TrPcmqn0Zmja",
        "outputId": "a5be821b-ba2a-440f-a04a-a5fced0c0709",
        "colab": {
          "base_uri": "https://localhost:8080/"
        }
      },
      "outputs": [
        {
          "output_type": "stream",
          "name": "stdout",
          "text": [
            "Random seed 2021 has been set.\n",
            "\n",
            " The model1 parameters before the update are: \n",
            "\n",
            "main.0.weight tensor([[-0.0264,  0.0010,  0.0173,  ...,  0.0297,  0.0278, -0.0221],\n",
            "        [-0.0040, -0.0295, -0.0086,  ..., -0.0070,  0.0254, -0.0233],\n",
            "        [ 0.0240, -0.0231,  0.0342,  ...,  0.0124,  0.0270, -0.0180],\n",
            "        ...,\n",
            "        [-0.0005,  0.0157,  0.0111,  ...,  0.0144, -0.0301, -0.0144],\n",
            "        [ 0.0181,  0.0303,  0.0255,  ..., -0.0110, -0.0175,  0.0205],\n",
            "        [ 0.0208, -0.0353, -0.0183,  ..., -0.0271,  0.0099,  0.0003]])\n",
            "main.0.bias tensor([-0.0290, -0.0033,  0.0100, -0.0320,  0.0022,  0.0221,  0.0307,  0.0243,\n",
            "         0.0159, -0.0064])\n",
            "\n",
            " The model1 parameters after the update are: \n",
            "\n",
            "main.0.weight tensor([[-0.0263,  0.0010,  0.0174,  ...,  0.0298,  0.0278, -0.0220],\n",
            "        [-0.0047, -0.0302, -0.0093,  ..., -0.0077,  0.0248, -0.0240],\n",
            "        [ 0.0234, -0.0237,  0.0335,  ...,  0.0117,  0.0263, -0.0187],\n",
            "        ...,\n",
            "        [-0.0006,  0.0156,  0.0110,  ...,  0.0143, -0.0302, -0.0145],\n",
            "        [ 0.0164,  0.0286,  0.0238,  ..., -0.0127, -0.0191,  0.0188],\n",
            "        [ 0.0206, -0.0354, -0.0184,  ..., -0.0272,  0.0098,  0.0002]])\n",
            "main.0.bias tensor([-0.0292, -0.0018,  0.0115, -0.0370,  0.0054,  0.0155,  0.0317,  0.0246,\n",
            "         0.0198, -0.0061])\n"
          ]
        }
      ],
      "source": [
        "# to_remove solution\n",
        "def gradient_update(loss, params, lr=1e-3):\n",
        "  \"\"\"\n",
        "  Perform a gradient descent update on a given loss over a collection of parameters\n",
        "\n",
        "  Args:\n",
        "    loss: Tensor\n",
        "      A scalar tensor containing the loss through which the gradient will be computed\n",
        "    params: List of iterables\n",
        "      Collection of parameters with respect to which we compute gradients\n",
        "    lr: Float\n",
        "      Scalar specifying the learning rate or step-size for the update\n",
        "\n",
        "  Returns:\n",
        "    Nothing\n",
        "  \"\"\"\n",
        "  # Clear up gradients as Pytorch automatically accumulates gradients from\n",
        "  # successive backward calls\n",
        "  zero_grad(params)\n",
        "\n",
        "  # Compute gradients on given objective\n",
        "  loss.backward()\n",
        "\n",
        "  with torch.no_grad():\n",
        "    for par in params:\n",
        "      #################################################\n",
        "      ## TODO for students: update the value of the parameter ##\n",
        "      # raise NotImplementedError(\"Student exercise: implement gradient update\")\n",
        "      #################################################\n",
        "      # Here we work with the 'data' attribute of the parameter rather than the\n",
        "      # parameter itself.\n",
        "      # Hence - use the learning rate and the parameter's .grad.data attribute to perform an update\n",
        "      par.data -= lr * par.grad.data\n",
        "\n",
        "\n",
        "# add event to airtable\n",
        "atform.add_event('Coding Exercise 3: Implement gradient descent')\n",
        "\n",
        "\n",
        "set_seed(seed=SEED)\n",
        "model1 = MLP(in_dim=784, out_dim=10, hidden_dims=[])\n",
        "print('\\n The model1 parameters before the update are: \\n')\n",
        "print_params(model1)\n",
        "loss = loss_fn(model1(X), y)\n",
        "\n",
        "## Uncomment below to test your function\n",
        "gradient_update(loss, list(model1.parameters()), lr=1e-1)\n",
        "print('\\n The model1 parameters after the update are: \\n')\n",
        "print_params(model1)"
      ]
    },
    {
      "cell_type": "markdown",
      "metadata": {
        "execution": {},
        "id": "EgE6hhrqZmja"
      },
      "source": [
        "```\n",
        " The model1 parameters after the update are: \n",
        "\n",
        "main.0.weight tensor([[-0.0263,  0.0010,  0.0174,  ...,  0.0298,  0.0278, -0.0220],\n",
        "        [-0.0047, -0.0302, -0.0093,  ..., -0.0077,  0.0248, -0.0240],\n",
        "        [ 0.0234, -0.0237,  0.0335,  ...,  0.0117,  0.0263, -0.0187],\n",
        "        ...,\n",
        "        [-0.0006,  0.0156,  0.0110,  ...,  0.0143, -0.0302, -0.0145],\n",
        "        [ 0.0164,  0.0286,  0.0238,  ..., -0.0127, -0.0191,  0.0188],\n",
        "        [ 0.0206, -0.0354, -0.0184,  ..., -0.0272,  0.0098,  0.0002]])\n",
        "main.0.bias tensor([-0.0292, -0.0018,  0.0115, -0.0370,  0.0054,  0.0155,  0.0317,  0.0246,\n",
        "         0.0198, -0.0061])\n",
        "```"
      ]
    },
    {
      "cell_type": "markdown",
      "metadata": {
        "execution": {},
        "id": "ltjY4BjoZmja"
      },
      "source": [
        "## Comparing updates\n",
        "\n",
        "These plots compare the effectiveness of updating random directions for the problem of optimizing the parameters of a high-dimensional linear model. We contrast the behavior at initialization and during an intermediate stage of training by showing the histograms of change in loss over 100 different random directions vs the change in loss induced by the gradient descent update\n",
        "\n",
        "**Remember:** Since we are trying to minimize here, the more negative the better!\n"
      ]
    },
    {
      "cell_type": "code",
      "execution_count": 25,
      "metadata": {
        "cellView": "form",
        "execution": {},
        "id": "uVdSX9SuZmja",
        "outputId": "a69dfb99-d480-48bc-8871-7bbd268f0135",
        "colab": {
          "base_uri": "https://localhost:8080/",
          "height": 311
        }
      },
      "outputs": [
        {
          "output_type": "display_data",
          "data": {
            "image/png": "[encoded data removed]",
            "text/plain": [
              "<Figure size 720x288 with 2 Axes>"
            ]
          },
          "metadata": {
            "image/png": {
              "width": 701,
              "height": 294
            },
            "needs_background": "light"
          }
        }
      ],
      "source": [
        "# @markdown _Run this cell_ to visualize the results\n",
        "fig, axs = plt.subplots(1, 2, figsize=(10, 4))\n",
        "\n",
        "for id, (model_name, my_model) in enumerate([('Initialization', model),\n",
        "                                              ('Partially trained', partial_trained_model)]):\n",
        "  # Compute the loss we will be comparing to\n",
        "  base_loss = loss_fn(my_model(X), y)\n",
        "\n",
        "  # Compute the improvement via gradient descent\n",
        "  dummy_model = copy.deepcopy(my_model)\n",
        "  loss1 = loss_fn(dummy_model(X), y)\n",
        "  gradient_update(loss1, list(dummy_model.parameters()), lr=1e-2)\n",
        "  gd_delta = loss_fn(dummy_model(X), y) - base_loss\n",
        "\n",
        "  deltas = []\n",
        "  for trial_id in range(100):\n",
        "    # Compute the improvement obtained with a random direction\n",
        "    dummy_model = copy.deepcopy(my_model)\n",
        "    random_update(dummy_model, noise_scale=1e-2)\n",
        "    deltas.append((loss_fn(dummy_model(X), y) - base_loss).item())\n",
        "\n",
        "  # Plot histogram for random direction and vertical line for gradient descent\n",
        "  axs[id].hist(deltas, label='Random Directions', bins=20)\n",
        "  axs[id].set_title(model_name)\n",
        "  axs[id].set_xlabel('Change in loss')\n",
        "  axs[id].set_ylabel('% samples')\n",
        "  axs[id].axvline(0, c='green', alpha=0.5)\n",
        "  axs[id].axvline(gd_delta.item(), linestyle='--', c='red', alpha=1,\n",
        "                  label='Gradient Descent')\n",
        "\n",
        "\n",
        "handles, labels = axs[id].get_legend_handles_labels()\n",
        "fig.legend(handles, labels, loc='upper center',\n",
        "           bbox_to_anchor=(0.5, 1.05),\n",
        "           fancybox=False, shadow=False, ncol=2)\n",
        "\n",
        "plt.show()"
      ]
    },
    {
      "cell_type": "markdown",
      "metadata": {
        "execution": {},
        "id": "NvimyePpZmja"
      },
      "source": [
        "## Think! 3: Gradient descent vs. random search\n",
        "\n",
        "Compare the behavior of gradient descent and random search based on the histograms above. Is any of the two methods more reliable? How can you explain the changes between behavior of the methods at initialization vs during training?"
      ]
    },
    {
      "cell_type": "code",
      "execution_count": 26,
      "metadata": {
        "cellView": "form",
        "execution": {},
        "id": "-IkhXLEFZmjb",
        "outputId": "2a0c29fd-bf5c-4395-aedb-b47ccd88f6d9",
        "colab": {
          "base_uri": "https://localhost:8080/",
          "height": 93,
          "referenced_widgets": [
            "96ca62bcfce44972a30a63ca00445656",
            "e98947b656744f1eb77de1bac5881490",
            "e17ab4a54fd74fb18d29b8230ed99dce",
            "136df0b404c84020a654137baef91f03",
            "2dbbb7e9254a463996f38057ece40e0c",
            "1a56eb9862944224b8b154be9f48aa6d"
          ]
        }
      },
      "outputs": [
        {
          "output_type": "display_data",
          "data": {
            "application/vnd.jupyter.widget-view+json": {
              "model_id": "96ca62bcfce44972a30a63ca00445656",
              "version_minor": 0,
              "version_major": 2
            },
            "text/plain": [
              "Textarea(value='Type your answer here and click on `Submit!`', placeholder='Type something')"
            ]
          },
          "metadata": {}
        },
        {
          "output_type": "display_data",
          "data": {
            "application/vnd.jupyter.widget-view+json": {
              "model_id": "136df0b404c84020a654137baef91f03",
              "version_minor": 0,
              "version_major": 2
            },
            "text/plain": [
              "Button(description='Submit!', style=ButtonStyle())"
            ]
          },
          "metadata": {}
        }
      ],
      "source": [
        "# @title Student Response\n",
        "from ipywidgets import widgets\n",
        "\n",
        "\n",
        "text=widgets.Textarea(\n",
        "   value='Type your answer here and click on `Submit!`',\n",
        "   placeholder='Type something',\n",
        "   description='',\n",
        "   disabled=False\n",
        ")\n",
        "\n",
        "button = widgets.Button(description=\"Submit!\")\n",
        "\n",
        "display(text,button)\n",
        "\n",
        "def on_button_clicked(b):\n",
        "   atform.add_answer('q1' , text.value)\n",
        "   print(\"Submission successful!\")\n",
        "\n",
        "\n",
        "button.on_click(on_button_clicked)"
      ]
    },
    {
      "cell_type": "code",
      "execution_count": 27,
      "metadata": {
        "execution": {},
        "id": "ZU0LxtaXZmjb"
      },
      "outputs": [],
      "source": [
        "# to_remove explanation\n",
        "\n",
        "\"\"\"\n",
        "Note how gradient descent (with a properly tuned step size) guarantees an improvement\n",
        "in the objective function, unlike the random update method, which very rarely finds a\n",
        "direction that improves the objective function. The green line indicates\n",
        "a change of zero in the value of the loss: we want to be below zero to minimize!\n",
        "\n",
        "The magnitude of the improvement at initialization is much bigger than\n",
        "the change in loss obtained at a later stage in training. This is expected,\n",
        "as we have gotten closer to the optimum parameter configuration.\n",
        "\"\"\";"
      ]
    },
    {
      "cell_type": "markdown",
      "metadata": {
        "execution": {},
        "id": "T4yrXKHpZmjb"
      },
      "source": [
        "---\n",
        "# Section 4: Poor conditioning\n",
        "\n",
        "*Time estimate: ~30 mins*"
      ]
    },
    {
      "cell_type": "markdown",
      "metadata": {
        "execution": {},
        "id": "lOmF1-t2Zmjb"
      },
      "source": [
        "Already in this 'simple' logistic regression problem, the issue of bad conditioning is haunting us. Not all parameters are created equal and the sensitivity of the network to changes on the parameters will have a big impact in the dynamics of the optimization.\n"
      ]
    },
    {
      "cell_type": "code",
      "execution_count": 28,
      "metadata": {
        "cellView": "form",
        "execution": {},
        "id": "hcQy0XYtZmjb",
        "outputId": "0751b4a5-e6ba-49cc-80bd-e12dff25217d",
        "colab": {
          "base_uri": "https://localhost:8080/",
          "height": 582,
          "referenced_widgets": [
            "7b21a331ab6a487788f7bfd15a58211d",
            "2cc1a5dc0297466cbee053b76429948f",
            "47a1bf8aef9c4fb6aeeceb66cc0e1226",
            "f044ed0f7aad4b538c6c10fd556800fc",
            "65194b95acdf4319a6270f2646e9252b",
            "c1715bd961ad46719d337d4e54effd84"
          ]
        }
      },
      "outputs": [
        {
          "output_type": "display_data",
          "data": {
            "application/vnd.jupyter.widget-view+json": {
              "model_id": "7b21a331ab6a487788f7bfd15a58211d",
              "version_minor": 0,
              "version_major": 2
            },
            "text/plain": [
              "Tab(children=(Output(), Output()), _titles={'0': 'Youtube', '1': 'Bilibili'})"
            ]
          },
          "metadata": {}
        }
      ],
      "source": [
        "# @title Video 4: Momentum\n",
        "from ipywidgets import widgets\n",
        "\n",
        "out2 = widgets.Output()\n",
        "with out2:\n",
        "  from IPython.display import IFrame\n",
        "  class BiliVideo(IFrame):\n",
        "    def __init__(self, id, page=1, width=400, height=300, **kwargs):\n",
        "      self.id=id\n",
        "      src = \"https://player.bilibili.com/player.html?bvid={0}&page={1}\".format(id, page)\n",
        "      super(BiliVideo, self).__init__(src, width, height, **kwargs)\n",
        "\n",
        "  video = BiliVideo(id=f\"BV1NL411H71t\", width=854, height=480, fs=1)\n",
        "  print(\"Video available at https://www.bilibili.com/video/{0}\".format(video.id))\n",
        "  display(video)\n",
        "\n",
        "out1 = widgets.Output()\n",
        "with out1:\n",
        "  from IPython.display import YouTubeVideo\n",
        "  video = YouTubeVideo(id=f\"3ES5O58Y_2M\", width=854, height=480, fs=1, rel=0)\n",
        "  print(\"Video available at https://youtube.com/watch?v=\" + video.id)\n",
        "  display(video)\n",
        "\n",
        "out = widgets.Tab([out1, out2])\n",
        "out.set_title(0, 'Youtube')\n",
        "out.set_title(1, 'Bilibili')\n",
        "\n",
        "# add event to airtable\n",
        "atform.add_event('Video 4: Momentum')\n",
        "\n",
        "display(out)"
      ]
    },
    {
      "cell_type": "markdown",
      "metadata": {
        "execution": {},
        "id": "TsdhwmlXZmjb"
      },
      "source": [
        "We illustrate this issue in a 2-dimensional setting. We freeze all but two parameters of the network: one of them is an element of the weight matrix (filter) for class 0, while the other is the bias for class 7. This results in an optimization with two decision variables.\n",
        "\n",
        "How much difference is there in the behavior of these two parameters under gradient descent? What is the effect of momentum in bridging that gap?\n"
      ]
    },
    {
      "cell_type": "code",
      "execution_count": 29,
      "metadata": {
        "execution": {},
        "id": "6oo7OpUJZmjb",
        "outputId": "3a368bbe-fd8c-480b-efe1-2e7764aff6c3",
        "colab": {
          "base_uri": "https://localhost:8080/",
          "height": 89
        }
      },
      "outputs": [
        {
          "output_type": "execute_result",
          "data": {
            "application/vnd.google.colaboratory.intrinsic+json": {
              "type": "string"
            },
            "text/plain": [
              "\"\\nThe landscapes of the two parameters appear to be\\nflatter under gradient descent as can be seen in interactive demo 4 below.\\n\\nAs randomly-initialised models exhibit chaos, we use the Newton's approach\\nby tweaking the learning rate i.e., taking smaller steps in the indicated\\ndirection and recomputing gradients to find an optimal solution on a\\nvaried surface. Momentum helps reduce the chaos by maintaining a consistent\\ndirection for exploration (linear combination of the previous heading vector,\\nand the newly-computed gradient vector).\\n\""
            ]
          },
          "metadata": {},
          "execution_count": 29
        }
      ],
      "source": [
        "# to remove solution\n",
        "\"\"\"\n",
        "The landscapes of the two parameters appear to be\n",
        "flatter under gradient descent as can be seen in interactive demo 4 below.\n",
        "\n",
        "As randomly-initialised models exhibit chaos, we use the Newton's approach\n",
        "by tweaking the learning rate i.e., taking smaller steps in the indicated\n",
        "direction and recomputing gradients to find an optimal solution on a\n",
        "varied surface. Momentum helps reduce the chaos by maintaining a consistent\n",
        "direction for exploration (linear combination of the previous heading vector,\n",
        "and the newly-computed gradient vector).\n",
        "\"\"\""
      ]
    },
    {
      "cell_type": "code",
      "execution_count": 30,
      "metadata": {
        "cellView": "form",
        "execution": {},
        "id": "WK66AIJmZmjc"
      },
      "outputs": [],
      "source": [
        "# @markdown _Run this cell_ to setup some helper functions.\n",
        "\n",
        "def loss_2d(model, u, v, mask_idx=(0, 378), bias_id=7):\n",
        "  \"\"\"\n",
        "  Defines a 2-dim function by freezing all\n",
        "  but two parameters of a linear model.\n",
        "\n",
        "  Args:\n",
        "    model: nn.Module\n",
        "      a pytorch linear model\n",
        "    u: Scalar\n",
        "      first free parameter\n",
        "    u: Scalar\n",
        "      second free parameter\n",
        "    mask_idx: Tuple\n",
        "      selects parameter in weight matrix replaced by u\n",
        "    bias_idx: Integer\n",
        "      selects parameter in bias vector replaced by v\n",
        "\n",
        "  Returns:\n",
        "    loss: Scalar\n",
        "      loss of the 'new' model\n",
        "      over inputs X, y (defined externally)\n",
        "  \"\"\"\n",
        "\n",
        "  # We zero out the element of the weight tensor that will be\n",
        "  # replaced by u\n",
        "  mask = torch.ones_like(model.main[0].weight)\n",
        "  mask[mask_idx[0], mask_idx[1]] = 0.\n",
        "  masked_weights = model.main[0].weight * mask\n",
        "\n",
        "  # u is replacing an element of the weight matrix\n",
        "  masked_weights[mask_idx[0], mask_idx[1]] = u\n",
        "\n",
        "  res = X.reshape(-1, 784) @ masked_weights.T + model.main[0].bias\n",
        "\n",
        "  # v is replacing a bias for class 7\n",
        "  res[:, 7] += v - model.main[0].bias[7]\n",
        "  res =  F.log_softmax(res, dim=1)\n",
        "\n",
        "  return loss_fn(res, y)\n",
        "\n",
        "\n",
        "def plot_surface(U, V, Z, fig):\n",
        "  \"\"\"\n",
        "  Plot a 3D loss surface given\n",
        "  meshed inputs U, V and values Z\n",
        "\n",
        "  Args:\n",
        "    U: nd.array()\n",
        "      Input to plot for obtaining 3D loss surface\n",
        "    V: nd.array()\n",
        "      Input to plot for obtaining 3D loss surface\n",
        "    Z: nd.array()\n",
        "      Input to plot for obtaining 3D loss surface\n",
        "    fig: matplotlib.figure.Figure instance\n",
        "      Helps create a new figure, or activate an existing figure.\n",
        "\n",
        "  Returns:\n",
        "    ax: matplotlib.axes._subplots.AxesSubplot instance\n",
        "      Plotted subplot data\n",
        "  \"\"\"\n",
        "  ax = fig.add_subplot(1, 2, 2, projection='3d')\n",
        "  ax.view_init(45, -130)\n",
        "\n",
        "  surf = ax.plot_surface(U, V, Z, cmap=plt.cm.coolwarm,\n",
        "                      linewidth=0, antialiased=True, alpha=0.5)\n",
        "\n",
        "  # Select certain level contours to plot\n",
        "  # levels = Z.min() * np.array([1.005, 1.1, 1.3, 1.5, 2.])\n",
        "  # plt.contour(U, V, Z)# levels=levels, alpha=0.5)\n",
        "\n",
        "  ax.set_xlabel('Weight')\n",
        "  ax.set_ylabel('Bias')\n",
        "  ax.set_zlabel('Loss', rotation=90)\n",
        "\n",
        "  return ax\n",
        "\n",
        "\n",
        "def plot_param_distance(best_u, best_v, trajs, fig, styles, labels,\n",
        "                        use_log=False, y_min_v=-12.0, y_max_v=1.5):\n",
        "  \"\"\"\n",
        "  Plot the distance to each of the\n",
        "  two parameters for a collection of 'trajectories'\n",
        "\n",
        "  Args:\n",
        "    best_u: float\n",
        "      Optimal distance of vector u within trajectory\n",
        "    best_v: float\n",
        "      Optimal distance of vector v within trajectory\n",
        "    trajs: Tensor\n",
        "      Specifies trajectories\n",
        "    fig: matplotlib.figure.Figure instance\n",
        "      Helps create a new figure, or activate an existing figure.\n",
        "    styles: Tensor\n",
        "      Specifying Style requirements\n",
        "    use_log: Bool\n",
        "      Specifies if log distance should be calculated; else, absolute distance\n",
        "    y_min_v: float\n",
        "      Minimum distance from y to v\n",
        "    y_max_v: float\n",
        "      Maximum distance from y to v\n",
        "\n",
        "  Returns:\n",
        "    ax: matplotlib.axes._subplots.AxesSubplot instance\n",
        "      Plotted subplot data\n",
        "  \"\"\"\n",
        "  ax = fig.add_subplot(1, 1, 1)\n",
        "\n",
        "  for traj, style, label in zip(trajs, styles, labels):\n",
        "    d0 = np.array([np.abs(_[0] - best_u) for _ in traj])\n",
        "    d1 = np.array([np.abs(_[1] - best_v) for _ in traj])\n",
        "    if use_log:\n",
        "      d0 = np.log(1e-16 + d0)\n",
        "      d1 = np.log(1e-16 + d1)\n",
        "    ax.plot(range(len(traj)), d0, style, label='weight - ' + label)\n",
        "    ax.plot(range(len(traj)), d1, style, label='bias - ' + label)\n",
        "  ax.set_xlabel('Iteration')\n",
        "  if use_log:\n",
        "    ax.set_ylabel('Log distance to optimum (per dimension)')\n",
        "    ax.set_ylim(y_min_v, y_max_v)\n",
        "  else:\n",
        "    ax.set_ylabel('Abs distance to optimum (per dimension)')\n",
        "  ax.legend(loc='right', bbox_to_anchor=(1.5, 0.5),\n",
        "            fancybox=False, shadow=False, ncol=1)\n",
        "\n",
        "  return ax\n",
        "\n",
        "\n",
        "def run_optimizer(inits, eval_fn, update_fn, max_steps=500,\n",
        "                  optim_kwargs={'lr':1e-2}, log_traj=True):\n",
        "  \"\"\"\n",
        "  Runs an optimizer on a given\n",
        "  objective and logs parameter trajectory\n",
        "\n",
        "  Args:\n",
        "      inits list: Scalar\n",
        "        initialization of parameters\n",
        "      eval_fn: Callable\n",
        "        function computing the objective to be minimized\n",
        "      update_fn: Callable\n",
        "        function executing parameter update\n",
        "      max_steps: Integer\n",
        "        number of iterations to run\n",
        "      optim_kwargs: Dictionary\n",
        "        customizable dictionary containing appropriate hyperparameters for the chosen optimizer\n",
        "      log_traj: Bool\n",
        "        Specifies if log distance should be calculated; else, absolute distance\n",
        "\n",
        "  Returns:\n",
        "      list: List\n",
        "        trajectory information [*params, loss] for each optimization step\n",
        "  \"\"\"\n",
        "\n",
        "  # Initialize parameters and optimizer\n",
        "  params = [nn.Parameter(torch.tensor(_)) for _ in inits]\n",
        "  # Methods like momentum and rmsprop keep and auxiliary vector of parameters\n",
        "  aux_tensors = [torch.zeros_like(_) for _ in params]\n",
        "  if log_traj:\n",
        "    traj = np.zeros((max_steps, len(params)+1))\n",
        "  for _ in range(max_steps):\n",
        "    # Evaluate loss\n",
        "    loss = eval_fn(*params)\n",
        "    # Store 'trajectory' information\n",
        "    if log_traj:\n",
        "      traj[_, :] = [_.item() for _ in params] + [loss.item()]\n",
        "    # Perform update\n",
        "    if update_fn == gradient_update:\n",
        "      gradient_update(loss, params, **optim_kwargs)\n",
        "    else:\n",
        "      update_fn(loss, params, aux_tensors, **optim_kwargs)\n",
        "  if log_traj:\n",
        "    return traj\n",
        "\n",
        "\n",
        "L = 4.\n",
        "xs = np.linspace(-L, L, 30)\n",
        "ys = np.linspace(-L, L, 30)\n",
        "U, V = np.meshgrid(xs, ys)"
      ]
    },
    {
      "cell_type": "markdown",
      "metadata": {
        "execution": {},
        "id": "sIlbhP9yZmjc"
      },
      "source": [
        "## Coding Exercise 4: Implement momentum\n",
        "\n",
        "In this exercise you will implement the momentum update given by:\n",
        "\n",
        "\\begin{equation}\n",
        "w_{t+1} = w_t - \\eta \\nabla J(w_t) + \\beta (w_t - w_{t-1})\n",
        "\\end{equation}\n",
        "\n",
        "It is convenient to re-express this update rule in terms of a recursion. For that, we define 'velocity' as the quantity:\n",
        "\\begin{equation}\n",
        "v_{t-1} := w_{t} - w_{t-1}\n",
        "\\end{equation}\n",
        "\n",
        "which leads to the two-step update rule:\n",
        "\n",
        "\\begin{equation}\n",
        "v_t = - \\eta \\nabla J(w_t) + \\beta (\\underbrace{w_t - w_{t-1}}_{v_{t-1}})\n",
        "\\end{equation}\n",
        "\n",
        "\\begin{equation}\n",
        "w_{t+1} \\leftarrow w_t + v_{t}\n",
        "\\end{equation}\n",
        "\n",
        "Pay attention to the positive sign of the update in the last equation, given the definition of $v_t$, above. "
      ]
    },
    {
      "cell_type": "code",
      "execution_count": 31,
      "metadata": {
        "execution": {},
        "id": "J6kOPph3Zmjc",
        "outputId": "28baadf6-7f6f-4c65-e4dc-470835183b3e",
        "colab": {
          "base_uri": "https://localhost:8080/"
        }
      },
      "outputs": [
        {
          "output_type": "stream",
          "name": "stdout",
          "text": [
            "Random seed 2021 has been set.\n",
            "\n",
            " The model2 parameters before the update are: \n",
            "\n",
            "main.0.weight tensor([[-0.0264,  0.0010,  0.0173,  ...,  0.0297,  0.0278, -0.0221],\n",
            "        [-0.0040, -0.0295, -0.0086,  ..., -0.0070,  0.0254, -0.0233],\n",
            "        [ 0.0240, -0.0231,  0.0342,  ...,  0.0124,  0.0270, -0.0180],\n",
            "        ...,\n",
            "        [-0.0005,  0.0157,  0.0111,  ...,  0.0144, -0.0301, -0.0144],\n",
            "        [ 0.0181,  0.0303,  0.0255,  ..., -0.0110, -0.0175,  0.0205],\n",
            "        [ 0.0208, -0.0353, -0.0183,  ..., -0.0271,  0.0099,  0.0003]])\n",
            "main.0.bias tensor([-0.0290, -0.0033,  0.0100, -0.0320,  0.0022,  0.0221,  0.0307,  0.0243,\n",
            "         0.0159, -0.0064])\n"
          ]
        }
      ],
      "source": [
        "def momentum_update(loss, params, grad_vel, lr=1e-3, beta=0.8):\n",
        "  \"\"\"\n",
        "  Perform a momentum update over a collection of parameters given a loss and velocities\n",
        "\n",
        "  Args:\n",
        "    loss: Tensor\n",
        "      A scalar tensor containing the loss through which gradient will be computed\n",
        "    params: Iterable\n",
        "      Collection of parameters with respect to which we compute gradients\n",
        "    grad_vel: Iterable\n",
        "      Collection containing the 'velocity' v_t for each parameter\n",
        "    lr: Float\n",
        "      Scalar specifying the learning rate or step-size for the update\n",
        "    beta: Float\n",
        "      Scalar 'momentum' parameter\n",
        "\n",
        "  Returns:\n",
        "    Nothing\n",
        "  \"\"\"\n",
        "  # Clear up gradients as Pytorch automatically accumulates gradients from\n",
        "  # successive backward calls\n",
        "  zero_grad(params)\n",
        "  # Compute gradients on given objective\n",
        "  loss.backward()\n",
        "\n",
        "  with torch.no_grad():\n",
        "    for (par, vel) in zip(params, grad_vel):\n",
        "      #################################################\n",
        "      ## TODO for students: update the value of the parameter ##\n",
        "      raise NotImplementedError(\"Student exercise: implement momentum update\")\n",
        "      #################################################\n",
        "      # Update 'velocity'\n",
        "      vel.data = ...\n",
        "      # Update parameters\n",
        "      par.data += ...\n",
        "\n",
        "\n",
        "# add event to airtable\n",
        "atform.add_event('Coding Exercise 4: Implement momentum')\n",
        "\n",
        "\n",
        "set_seed(seed=SEED)\n",
        "model2 = MLP(in_dim=784, out_dim=10, hidden_dims=[])\n",
        "print('\\n The model2 parameters before the update are: \\n')\n",
        "print_params(model2)\n",
        "loss = loss_fn(model2(X), y)\n",
        "initial_vel = [torch.randn_like(p) for p in model2.parameters()]\n",
        "\n",
        "## Uncomment below to test your function\n",
        "# momentum_update(loss, list(model2.parameters()), grad_vel=initial_vel, lr=1e-1, beta=0.9)\n",
        "# print('\\n The model2 parameters after the update are: \\n')\n",
        "# print_params(model2)"
      ]
    },
    {
      "cell_type": "code",
      "execution_count": 32,
      "metadata": {
        "execution": {},
        "id": "DB9fPTmcZmjc",
        "outputId": "e59bbff0-4c65-463e-a8f9-216b5b516668",
        "colab": {
          "base_uri": "https://localhost:8080/"
        }
      },
      "outputs": [
        {
          "output_type": "stream",
          "name": "stdout",
          "text": [
            "Random seed 2021 has been set.\n",
            "\n",
            " The model2 parameters before the update are: \n",
            "\n",
            "main.0.weight tensor([[-0.0264,  0.0010,  0.0173,  ...,  0.0297,  0.0278, -0.0221],\n",
            "        [-0.0040, -0.0295, -0.0086,  ..., -0.0070,  0.0254, -0.0233],\n",
            "        [ 0.0240, -0.0231,  0.0342,  ...,  0.0124,  0.0270, -0.0180],\n",
            "        ...,\n",
            "        [-0.0005,  0.0157,  0.0111,  ...,  0.0144, -0.0301, -0.0144],\n",
            "        [ 0.0181,  0.0303,  0.0255,  ..., -0.0110, -0.0175,  0.0205],\n",
            "        [ 0.0208, -0.0353, -0.0183,  ..., -0.0271,  0.0099,  0.0003]])\n",
            "main.0.bias tensor([-0.0290, -0.0033,  0.0100, -0.0320,  0.0022,  0.0221,  0.0307,  0.0243,\n",
            "         0.0159, -0.0064])\n",
            "\n",
            " The model2 parameters after the update are: \n",
            "\n",
            "main.0.weight tensor([[ 1.5898,  0.0116, -2.0239,  ..., -1.0871,  0.4030, -0.9577],\n",
            "        [ 0.4653,  0.6022, -0.7363,  ...,  0.5485, -0.2747, -0.6539],\n",
            "        [-1.4117, -1.1045,  0.6492,  ..., -1.0201,  0.6503,  0.1310],\n",
            "        ...,\n",
            "        [-0.5098,  0.5075, -0.0718,  ...,  1.1192,  0.2900, -0.9657],\n",
            "        [-0.4405, -0.1174,  0.7542,  ...,  0.0792, -0.1857,  0.3537],\n",
            "        [-1.0824,  1.0080, -0.4254,  ..., -0.3760, -1.7491,  0.6025]])\n",
            "main.0.bias tensor([ 0.4147, -1.0440,  0.8720, -1.6201, -0.9632,  0.9430, -0.5180,  1.3417,\n",
            "         0.6574,  0.3677])\n"
          ]
        }
      ],
      "source": [
        "# to_remove solution\n",
        "def momentum_update(loss, params, grad_vel, lr=1e-3, beta=0.8):\n",
        "  \"\"\"\n",
        "  Perform a momentum update over a collection of parameters given a loss and velocities\n",
        "\n",
        "  Args:\n",
        "    loss: Tensor\n",
        "      A scalar tensor containing the loss through which gradient will be computed\n",
        "    params: Iterable\n",
        "      Collection of parameters with respect to which we compute gradients\n",
        "    grad_vel: Iterable\n",
        "      Collection containing the 'velocity' v_t for each parameter\n",
        "    lr: Float\n",
        "      Scalar specifying the learning rate or step-size for the update\n",
        "    beta: Float\n",
        "      Scalar 'momentum' parameter\n",
        "\n",
        "  Returns:\n",
        "    Nothing\n",
        "  \"\"\"\n",
        "  # Clear up gradients as Pytorch automatically accumulates gradients from\n",
        "  # successive backward calls\n",
        "  zero_grad(params)\n",
        "  # Compute gradients on given objective\n",
        "  loss.backward()\n",
        "\n",
        "  with torch.no_grad():\n",
        "    for (par, vel) in zip(params, grad_vel):\n",
        "      # Update 'velocity'\n",
        "      vel.data = -lr * par.grad.data + beta * vel.data\n",
        "      # Update parameters\n",
        "      par.data += vel.data\n",
        "\n",
        "\n",
        "# add event to airtable\n",
        "atform.add_event('Coding Exercise 4: Implement momentum')\n",
        "\n",
        "set_seed(seed=SEED)\n",
        "model2 = MLP(in_dim=784, out_dim=10, hidden_dims=[])\n",
        "print('\\n The model2 parameters before the update are: \\n')\n",
        "print_params(model2)\n",
        "loss = loss_fn(model2(X), y)\n",
        "initial_vel = [torch.randn_like(p) for p in model2.parameters()]\n",
        "\n",
        "## Uncomment below to test your function\n",
        "momentum_update(loss, list(model2.parameters()), grad_vel=initial_vel, lr=1e-1, beta=0.9)\n",
        "print('\\n The model2 parameters after the update are: \\n')\n",
        "print_params(model2)"
      ]
    },
    {
      "cell_type": "markdown",
      "metadata": {
        "execution": {},
        "id": "CjLJm07lZmjd"
      },
      "source": [
        "```\n",
        " The model2 parameters after the update are: \n",
        "\n",
        "main.0.weight tensor([[ 1.5898,  0.0116, -2.0239,  ..., -1.0871,  0.4030, -0.9577],\n",
        "        [ 0.4653,  0.6022, -0.7363,  ...,  0.5485, -0.2747, -0.6539],\n",
        "        [-1.4117, -1.1045,  0.6492,  ..., -1.0201,  0.6503,  0.1310],\n",
        "        ...,\n",
        "        [-0.5098,  0.5075, -0.0718,  ...,  1.1192,  0.2900, -0.9657],\n",
        "        [-0.4405, -0.1174,  0.7542,  ...,  0.0792, -0.1857,  0.3537],\n",
        "        [-1.0824,  1.0080, -0.4254,  ..., -0.3760, -1.7491,  0.6025]])\n",
        "main.0.bias tensor([ 0.4147, -1.0440,  0.8720, -1.6201, -0.9632,  0.9430, -0.5180,  1.3417,\n",
        "         0.6574,  0.3677])\n",
        "```"
      ]
    },
    {
      "cell_type": "markdown",
      "metadata": {
        "execution": {},
        "id": "0iOmJ8VtZmjd"
      },
      "source": [
        "## Interactive Demo 4: Momentum vs. GD\n",
        "\n",
        "The plots below show the distance to the optimum for both variables across the two methods, as well as the parameter trajectory over the loss surface.\n",
        "\n",
        "Tune the learning rate and momentum parameters to achieve a loss below $10^{-6}$ (for both dimensions) within 100 iterations."
      ]
    },
    {
      "cell_type": "code",
      "execution_count": 33,
      "metadata": {
        "cellView": "form",
        "execution": {},
        "id": "qHYFBdA0Zmjd",
        "outputId": "dc6bd1c5-6eda-4510-dc2c-5a3da4e4fdc3",
        "colab": {
          "base_uri": "https://localhost:8080/",
          "height": 194,
          "referenced_widgets": [
            "f0b6484000cb435caa9125b23924e342",
            "d5094de82add484a8e3175d35338b5c8",
            "dd10804bd41d4320ba8690e641f908a3",
            "b185fa215c90411ab7747584dbad4aac",
            "9d14ee954bbc40c8aff27079157df62b",
            "f5f4389cf2d44ae99d5b555caa0f0c8d",
            "76c1aa120ecc411caa0dad3fa30caadd",
            "54f556f193b4440d9462cd3899746cc0",
            "72dd95c22a2242e79b96f3769f7cd855",
            "19162538e1a84c61afec4d3e8afed0c5",
            "b2e0a9c744034824889b25a6418e2bd5",
            "175f8d25d01c49b5ab5c012d565b40fb",
            "e3800163ae0449c784c19896246294cc",
            "d1dac92c424c4371b5bd07bbcb7db8b0",
            "0559d2c5f37a41f7bc7ac3a7700ccf04",
            "d3825876ac544535afbf421d89b6d613",
            "1b2cadbd0743440e8574271600328147",
            "79e6fb34ecd9480ca1905093a0489d33",
            "543750e6ebf34a9cb0e089a896e2d432",
            "0e296a8f4eda4ddd893eeb2541b83993",
            "519421cf40234c70ab2432292b37f0e4",
            "b8404c6f993844008dedb0467320b8a2",
            "7940bed3f56a48fca6a70b6387170e51",
            "98683b24f57c425892210db261ec5f1c",
            "ecc9b1917dbd428c8f07b4d272ad5b7b",
            "fabd63205b554016bffe2d9e2bacc02d",
            "bcd093f931e24856b66346fbe5ca9e36"
          ]
        }
      },
      "outputs": [
        {
          "output_type": "stream",
          "name": "stdout",
          "text": [
            "Random seed 2021 has been set.\n"
          ]
        },
        {
          "output_type": "display_data",
          "data": {
            "application/vnd.jupyter.widget-view+json": {
              "model_id": "f0b6484000cb435caa9125b23924e342",
              "version_minor": 0,
              "version_major": 2
            },
            "text/plain": [
              "  0%|          | 0/200 [00:00<?, ?it/s]"
            ]
          },
          "metadata": {}
        },
        {
          "output_type": "display_data",
          "data": {
            "application/vnd.jupyter.widget-view+json": {
              "model_id": "175f8d25d01c49b5ab5c012d565b40fb",
              "version_minor": 0,
              "version_major": 2
            },
            "text/plain": [
              "interactive(children=(IntSlider(value=300, description='max_steps', max=500, min=50, step=5), FloatLogSlider(v…"
            ]
          },
          "metadata": {}
        }
      ],
      "source": [
        "# @markdown Run this cell to enable the widget!\n",
        "from matplotlib.lines import Line2D\n",
        "\n",
        "def run_newton(func, init_list=[0., 0.], max_iter=200):\n",
        "  \"\"\"\n",
        "  Find the optimum of this 2D problem using Newton's method\n",
        "\n",
        "  Args:\n",
        "    func: Callable\n",
        "      Initialising parameter tensor updates\n",
        "    init_list: Scalar\n",
        "      initialization of parameters\n",
        "    max_iter: Integer\n",
        "      The maximum number of iterations to complete\n",
        "\n",
        "  Returns:\n",
        "    par_tensor.data.numpy(): ndarray\n",
        "      List of newton's updates\n",
        "  \"\"\"\n",
        "\n",
        "  par_tensor = torch.tensor(init_list, requires_grad=True)\n",
        "  t_g = lambda par_tensor: func(par_tensor[0], par_tensor[1])\n",
        "\n",
        "  for _ in tqdm(range(max_iter)):\n",
        "    eval_loss = t_g(par_tensor)\n",
        "    eval_grad = torch.autograd.grad(eval_loss, [par_tensor])[0]\n",
        "    eval_hess = torch.autograd.functional.hessian(t_g, par_tensor)\n",
        "    # Newton's update is:  - inverse(Hessian) x gradient\n",
        "    par_tensor.data -= torch.inverse(eval_hess) @ eval_grad\n",
        "\n",
        "  return par_tensor.data.numpy()\n",
        "\n",
        "\n",
        "set_seed(2021)\n",
        "model = MLP(in_dim=784, out_dim=10, hidden_dims=[])\n",
        "# Define 2d loss objectives and surface values\n",
        "g = lambda u, v: loss_2d(copy.deepcopy(model), u, v)\n",
        "Z = np.fromiter(map(g, U.ravel(), V.ravel()), U.dtype).reshape(V.shape)\n",
        "\n",
        "best_u, best_v  = run_newton(func=g)\n",
        "\n",
        "# Initialization of the variables\n",
        "INITS = [2.5, 3.7]\n",
        "\n",
        "# Used for plotting\n",
        "LABELS = ['GD', 'Momentum']\n",
        "COLORS = ['black', 'red']\n",
        "LSTYLES = ['-', '--']\n",
        "\n",
        "\n",
        "@widgets.interact_manual\n",
        "def momentum_experiment(max_steps=widgets.IntSlider(300, 50, 500, 5),\n",
        "                        lr=widgets.FloatLogSlider(value=1e-1, min=-3, max=0.7, step=0.1),\n",
        "                        beta=widgets.FloatSlider(value=9e-1, min=0, max=1., step=0.01)\n",
        "                        ):\n",
        "  \"\"\"\n",
        "  Displays the momentum experiment as a widget\n",
        "\n",
        "  Args:\n",
        "    max_steps: widget integer slider\n",
        "      Maximum number of steps on the slider with default = 300\n",
        "    lr: widget float slider\n",
        "      Scalar specifying the learning rate or step-size for the update with default = 1e-1\n",
        "    beta: widget float slider\n",
        "      Scalar 'momentum' parameter with default = 9e-1\n",
        "\n",
        "  Returns:\n",
        "    Nothing\n",
        "  \"\"\"\n",
        "  # Execute both optimizers\n",
        "  sgd_traj = run_optimizer(INITS, eval_fn=g, update_fn=gradient_update,\n",
        "                           max_steps=max_steps, optim_kwargs={'lr': lr})\n",
        "  mom_traj = run_optimizer(INITS, eval_fn=g, update_fn=momentum_update,\n",
        "                           max_steps=max_steps, optim_kwargs={'lr': lr, 'beta':beta})\n",
        "\n",
        "  TRAJS = [sgd_traj, mom_traj]\n",
        "\n",
        "  # Plot distances\n",
        "  fig = plt.figure(figsize=(9,4))\n",
        "  plot_param_distance(best_u, best_v, TRAJS, fig,\n",
        "                      LSTYLES, LABELS, use_log=True, y_min_v=-12.0, y_max_v=1.5)\n",
        "\n",
        "  # # Plot trajectories\n",
        "  fig = plt.figure(figsize=(12, 5))\n",
        "  ax = plot_surface(U, V, Z, fig)\n",
        "  for traj, c, label in zip(TRAJS, COLORS, LABELS):\n",
        "    ax.plot3D(*traj.T, c, linewidth=0.3, label=label)\n",
        "    ax.scatter3D(*traj.T, '.-', s=1, c=c)\n",
        "\n",
        "  # Plot optimum point\n",
        "  ax.scatter(best_u, best_v, Z.min(), marker='*', s=80, c='lime', label='Opt.');\n",
        "  lines = [Line2D([0], [0],\n",
        "                  color=c,\n",
        "                  linewidth=3,\n",
        "                  linestyle='--') for c in COLORS]\n",
        "  lines.append(Line2D([0], [0], color='lime', linewidth=0, marker='*'))\n",
        "  ax.legend(lines, LABELS + ['Optimum'], loc='right',\n",
        "            bbox_to_anchor=(.8, -0.1), ncol=len(LABELS) + 1)"
      ]
    },
    {
      "cell_type": "markdown",
      "metadata": {
        "execution": {},
        "id": "RHrmgPsKZmjd"
      },
      "source": [
        "## Think! 4: Momentum and oscillations\n",
        "\n",
        "- Discuss how this specific example illustrates the issue of poor conditioning in optimization? How does momentum help resolve these difficulties?\n",
        "\n",
        "- Do you see oscillations for any of these methods? Why does this happen?\n"
      ]
    },
    {
      "cell_type": "code",
      "execution_count": 34,
      "metadata": {
        "cellView": "form",
        "execution": {},
        "id": "4yiBmdcZZmjd",
        "outputId": "1aad1786-34af-4e33-bd71-7c9eafbd5b6e",
        "colab": {
          "base_uri": "https://localhost:8080/",
          "height": 93,
          "referenced_widgets": [
            "f9686c30eab24c90a6fd941075e39719",
            "869e3a49ae0e4dce9579d1d638eb190e",
            "6499923551b9461ea8cd0af6066a1c38",
            "32e69b3462db44abb7157d83ab1fff01",
            "b8e433583daa4e23928769024bc453e2",
            "dd3a7eb60e5e42579350def083b15a20"
          ]
        }
      },
      "outputs": [
        {
          "output_type": "display_data",
          "data": {
            "application/vnd.jupyter.widget-view+json": {
              "model_id": "f9686c30eab24c90a6fd941075e39719",
              "version_minor": 0,
              "version_major": 2
            },
            "text/plain": [
              "Textarea(value='Type your answer here and click on `Submit!`', placeholder='Type something')"
            ]
          },
          "metadata": {}
        },
        {
          "output_type": "display_data",
          "data": {
            "application/vnd.jupyter.widget-view+json": {
              "model_id": "32e69b3462db44abb7157d83ab1fff01",
              "version_minor": 0,
              "version_major": 2
            },
            "text/plain": [
              "Button(description='Submit!', style=ButtonStyle())"
            ]
          },
          "metadata": {}
        }
      ],
      "source": [
        "# @title Student Response\n",
        "from ipywidgets import widgets\n",
        "\n",
        "\n",
        "text=widgets.Textarea(\n",
        "   value='Type your answer here and click on `Submit!`',\n",
        "   placeholder='Type something',\n",
        "   description='',\n",
        "   disabled=False\n",
        ")\n",
        "\n",
        "button = widgets.Button(description=\"Submit!\")\n",
        "\n",
        "display(text,button)\n",
        "\n",
        "def on_button_clicked(b):\n",
        "   atform.add_answer('q2' , text.value)\n",
        "   print(\"Submission successful!\")\n",
        "\n",
        "\n",
        "button.on_click(on_button_clicked)"
      ]
    },
    {
      "cell_type": "code",
      "execution_count": 35,
      "metadata": {
        "execution": {},
        "id": "ANTtovOaZmjd"
      },
      "outputs": [],
      "source": [
        "# to_remove explanation\n",
        "\n",
        "\"\"\"\n",
        "- The loss has very different curvatures between the weight and the bias dimensions:\n",
        "a change of the same magnitude has a much bigger effect in the loss when applied to the weight than to the bias.\n",
        "This leads to very slow convergence of GD in the bias dimension.\n",
        "\n",
        "- Momentum encourages 'movement' in previously seen directions and results in\n",
        "both parameters converging much faster. The oscillations you can see for the momentum\n",
        "trajectories arise due to overshooting past the solution due to the momentum term.\n",
        "\"\"\";"
      ]
    },
    {
      "cell_type": "markdown",
      "metadata": {
        "execution": {},
        "id": "Fo7ksoCuZmje"
      },
      "source": [
        "---\n",
        "# Section 5: Non-convexity\n",
        "\n",
        "*Time estimate: ~30 mins*"
      ]
    },
    {
      "cell_type": "markdown",
      "metadata": {
        "execution": {},
        "id": "5w50Va03Zmje"
      },
      "source": [
        "The introduction of even just 1 hidden layer in the neural network transforms the previous convex optimization problem into a non-convex one. And with great non-convexity, comes great responsibility... (Sorry, we couldn't help it!)\n",
        "\n",
        "**Note:** From this section onwards we will be dealing with non-convex optimization problems for the remainder of the tutorial. "
      ]
    },
    {
      "cell_type": "code",
      "execution_count": 36,
      "metadata": {
        "cellView": "form",
        "execution": {},
        "id": "A7clBBdmZmje",
        "outputId": "eb8bf1c7-7db4-4f7f-dba3-84182a13cf16",
        "colab": {
          "base_uri": "https://localhost:8080/",
          "height": 582,
          "referenced_widgets": [
            "64591ce34f5e48099ff4363e5b8e6053",
            "b1a13c724f134d6eb7f512376d1ddb45",
            "e93ff42155f1403985f4952ceb1761ce",
            "11bc5a20923b4eec9b42d1f177f76c95",
            "f7e06da188904785887a3764f43f9835",
            "d6ed7e0cc5c24acaa76f53323d6776fb"
          ]
        }
      },
      "outputs": [
        {
          "output_type": "display_data",
          "data": {
            "application/vnd.jupyter.widget-view+json": {
              "model_id": "64591ce34f5e48099ff4363e5b8e6053",
              "version_minor": 0,
              "version_major": 2
            },
            "text/plain": [
              "Tab(children=(Output(), Output()), _titles={'0': 'Youtube', '1': 'Bilibili'})"
            ]
          },
          "metadata": {}
        }
      ],
      "source": [
        "# @title Video 5: Overparameterization\n",
        "from ipywidgets import widgets\n",
        "\n",
        "out2 = widgets.Output()\n",
        "with out2:\n",
        "  from IPython.display import IFrame\n",
        "  class BiliVideo(IFrame):\n",
        "    def __init__(self, id, page=1, width=400, height=300, **kwargs):\n",
        "      self.id=id\n",
        "      src = \"https://player.bilibili.com/player.html?bvid={0}&page={1}\".format(id, page)\n",
        "      super(BiliVideo, self).__init__(src, width, height, **kwargs)\n",
        "\n",
        "  video = BiliVideo(id=f\"BV16h41167Jr\", width=854, height=480, fs=1)\n",
        "  print(\"Video available at https://www.bilibili.com/video/{0}\".format(video.id))\n",
        "  display(video)\n",
        "\n",
        "out1 = widgets.Output()\n",
        "with out1:\n",
        "  from IPython.display import YouTubeVideo\n",
        "  video = YouTubeVideo(id=f\"7vUpUEKKl5o\", width=854, height=480, fs=1, rel=0)\n",
        "  print(\"Video available at https://youtube.com/watch?v=\" + video.id)\n",
        "  display(video)\n",
        "\n",
        "out = widgets.Tab([out1, out2])\n",
        "out.set_title(0, 'Youtube')\n",
        "out.set_title(1, 'Bilibili')\n",
        "\n",
        "# add event to airtable\n",
        "atform.add_event(\"Video 5: Overparameterization\")\n",
        "\n",
        "display(out)"
      ]
    },
    {
      "cell_type": "markdown",
      "metadata": {
        "execution": {},
        "id": "yY6RbkgaZmje"
      },
      "source": [
        "Take a couple of minutes to play with a more complex 3D visualization of the loss landscape of a neural network on a non-convex problem. Visit https://losslandscape.com/explorer.\n",
        "\n",
        "1. Explore the features on the bottom left corner. You can see an explanation for each icon by clicking on the ( i ) button located on the top right corner.\n",
        "2. Use the 'gradient descent' feature to perform a thought experiment:\n",
        "    -   Choose an initialization\n",
        "    -   Choose the learning rate\n",
        "    -   Mentally formulate your hypothesis about what kind of trajectory you expect to observe \n",
        "3. Run the experiment and contrast your intuition with the observed behavior.\n",
        "4. Repeat this experiment a handful of times for several initialization/learning rate configurations\n"
      ]
    },
    {
      "cell_type": "markdown",
      "metadata": {
        "execution": {},
        "id": "-oizEq6UZmje"
      },
      "source": [
        "## Interactive Demo 5: Overparameterization to the rescue!\n",
        "\n",
        "As you may have seen, the non-convex nature of the surface can lead the optimization process to get stuck in undesirable local-optima. There is ample empirical evidence supporting the claim that 'overparameterized' models are easier to train.\n",
        "\n",
        "We will explore this assertion in the context of our MLP training. For this, we initialize a fixed model and construct several models by small random perturbations to the original initialized weights. Now, we train each of these perturbed models and see how the loss evolves. If we were in the convex setting, we should reach very similar objective values upon convergence since all these models were very close at the beginning of training, and in convex problems, the local optimum is also the global optimum.\n",
        "\n",
        "Use the interactive plot below to visualize the loss progression for these perturbed models:\n",
        "\n",
        "1. Select different settings from the `hidden_dims` drop-down menu.\n",
        "2. Explore the effect of the number of steps and learning rate."
      ]
    },
    {
      "cell_type": "code",
      "execution_count": 37,
      "metadata": {
        "cellView": "form",
        "execution": {},
        "id": "TPRrv0auZmje",
        "outputId": "769ca006-75b2-41ea-f89f-2526e480f016",
        "colab": {
          "base_uri": "https://localhost:8080/",
          "height": 177,
          "referenced_widgets": [
            "1cbc62b60f2f4c37ade2f6e18c898939",
            "6598089be84c440ab24af8a87e8578ff",
            "661f980205b74ec29dc9179740b9d62a",
            "eeb2758d8ff6475eba2870e265b53e0a",
            "d638ad1eacac4b7791438ab305e45931",
            "708dd657a5534801b4a8df6d1eda1f52",
            "adb257bc67f5403ebd499de20c68b64f",
            "c15faa1364a54606a58aff9c7d3f4db9",
            "322283e99ccf4ff8b6b58464dde04bcc",
            "00d755b991e84ee697e145c55e284e80",
            "0e8002707cae402c8b77cbbe5f461320",
            "2277a6dbabff4125b9953ca5c3548989",
            "74a52521c1394a9dae35895f9c82104b",
            "862dc90666144401a44dd742979528f4",
            "52199e5d123f4431afbb37dd458de070",
            "8134c2d218ec473aad380376eeb02bb3",
            "b206bad7ae014c3d90711ccabc841428",
            "3a4c4bf6b1ea41a782b4a70e7caab5e8",
            "88d988f84140403a97b77fbb110f6349"
          ]
        }
      },
      "outputs": [
        {
          "output_type": "display_data",
          "data": {
            "application/vnd.jupyter.widget-view+json": {
              "model_id": "1cbc62b60f2f4c37ade2f6e18c898939",
              "version_minor": 0,
              "version_major": 2
            },
            "text/plain": [
              "interactive(children=(IntSlider(value=150, description='max_steps', max=500, min=50, step=5), Dropdown(descrip…"
            ]
          },
          "metadata": {}
        }
      ],
      "source": [
        "# @markdown Execute this cell to enable the widget!\n",
        "\n",
        "@widgets.interact_manual\n",
        "def overparam(max_steps=widgets.IntSlider(150, 50, 500, 5),\n",
        "              hidden_dims=widgets.Dropdown(options=[\"10\", \"20, 20\", \"100, 100\"],\n",
        "                                           value=\"10\"),\n",
        "              lr=widgets.FloatLogSlider(value=5e-2, min=-3, max=0, step=0.1),\n",
        "              num_inits=widgets.IntSlider(7, 5, 10, 1)):\n",
        "  \"\"\"\n",
        "  Displays the overparameterization phenomenon as a widget\n",
        "\n",
        "  Args:\n",
        "    max_steps: widget integer slider\n",
        "      Maximum number of steps on the slider with default = 150\n",
        "    hidden_dims: widget dropdown menu instance\n",
        "      The number of hidden dimensions with default = 10\n",
        "    lr: widget float slider\n",
        "      Scalar specifying the learning rate or step-size for the update with default = 5e-2\n",
        "    num_inits: widget integer slider\n",
        "      Scalar number of epochs\n",
        "\n",
        "  Returns:\n",
        "    Nothing\n",
        "  \"\"\"\n",
        "\n",
        "  X, y = train_set.data[subset_index, :], train_set.targets[subset_index]\n",
        "\n",
        "  hdims = [int(s) for s in hidden_dims.split(',')]\n",
        "  base_model = MLP(in_dim=784, out_dim=10, hidden_dims=hdims)\n",
        "\n",
        "  fig, axs = plt.subplots(1, 1, figsize=(5, 4))\n",
        "\n",
        "  for _ in tqdm(range(num_inits)):\n",
        "    model = copy.deepcopy(base_model)\n",
        "    random_update(model, noise_scale=2e-1)\n",
        "    loss_hist = np.zeros((max_steps, 2))\n",
        "    for step in range(max_steps):\n",
        "      loss = loss_fn(model(X), y)\n",
        "      gradient_update(loss, list(model.parameters()), lr=lr)\n",
        "      loss_hist[step] = np.array([step, loss.item()])\n",
        "\n",
        "    plt.plot(loss_hist[:, 0], loss_hist[:, 1])\n",
        "\n",
        "  plt.xlabel('Iteration')\n",
        "  plt.ylabel('Loss')\n",
        "  plt.ylim(0, 3)\n",
        "  plt.show()\n",
        "\n",
        "  num_params = sum([np.prod(_.shape) for _ in model.parameters()])\n",
        "  print('Number of parameters in model:  ' + str(num_params))"
      ]
    },
    {
      "cell_type": "markdown",
      "metadata": {
        "execution": {},
        "id": "nhXAhnmXZmje"
      },
      "source": [
        "### Think! 5.1: Width and depth of the network\n",
        "\n",
        "- We see that as we increase the width/depth of the network, training becomes faster and more consistent across different initializations. What might be the reasons for this behavior? \n",
        "\n",
        "- What are some potential downsides of this approach to dealing with non-convexity? \n"
      ]
    },
    {
      "cell_type": "code",
      "execution_count": 38,
      "metadata": {
        "cellView": "form",
        "execution": {},
        "id": "B7UHW0wHZmje",
        "outputId": "0da03f79-9ed5-4bdb-cd57-cb6f6633d5fa",
        "colab": {
          "base_uri": "https://localhost:8080/",
          "height": 93,
          "referenced_widgets": [
            "3c1fe207c3fb4e8ab97f7e52d4bcf23a",
            "7f4950cfc8f546b4a59d2147e0c90622",
            "6615c3fab8d94a8d8a6974a900c1c4ab",
            "47a3fbffe99a43fb90e9134971f4c7d9",
            "6044e5e01fc349e68c6aeac2c9f8b6d5",
            "d3b4c46642af4e58963f41ded0b0f603"
          ]
        }
      },
      "outputs": [
        {
          "output_type": "display_data",
          "data": {
            "application/vnd.jupyter.widget-view+json": {
              "model_id": "3c1fe207c3fb4e8ab97f7e52d4bcf23a",
              "version_minor": 0,
              "version_major": 2
            },
            "text/plain": [
              "Textarea(value='Type your answer here and click on `Submit!`', placeholder='Type something')"
            ]
          },
          "metadata": {}
        },
        {
          "output_type": "display_data",
          "data": {
            "application/vnd.jupyter.widget-view+json": {
              "model_id": "47a3fbffe99a43fb90e9134971f4c7d9",
              "version_minor": 0,
              "version_major": 2
            },
            "text/plain": [
              "Button(description='Submit!', style=ButtonStyle())"
            ]
          },
          "metadata": {}
        }
      ],
      "source": [
        "# @title Student Response\n",
        "from ipywidgets import widgets\n",
        "\n",
        "\n",
        "text=widgets.Textarea(\n",
        "   value='Type your answer here and click on `Submit!`',\n",
        "   placeholder='Type something',\n",
        "   description='',\n",
        "   disabled=False\n",
        ")\n",
        "\n",
        "button = widgets.Button(description=\"Submit!\")\n",
        "\n",
        "display(text,button)\n",
        "\n",
        "def on_button_clicked(b):\n",
        "   atform.add_answer('q3' , text.value)\n",
        "   print(\"Submission successful!\")"
      ]
    },
    {
      "cell_type": "code",
      "execution_count": 39,
      "metadata": {
        "execution": {},
        "id": "_sHNjajSZmjf"
      },
      "outputs": [],
      "source": [
        "# to_remove explanation\n",
        "\n",
        "\"\"\"\n",
        "- The exact mechanism for this phenomenon is still under active research.\n",
        "Existing evidence points to the following: in the overparameterized setting,\n",
        "there are many more 'good configurations' (values of the model’s weights) that\n",
        "lead to a low value of the objective. Furthermore, this large set of possible solutions\n",
        "seems to be increasingly easy to find in the space of all possible\n",
        "parameter configurations. As you increase the number of parameters, it becomes\n",
        "more likely that your initialization will be close to one of these good parameter settings.\n",
        "\n",
        "- This approach will require more memory and computation. Furthermore, we need\n",
        "to always be aware of the risk of overfitting: don’t forget to do cross-validation\n",
        "in order to be able to detect overfitting.\n",
        "\"\"\";"
      ]
    },
    {
      "cell_type": "markdown",
      "metadata": {
        "execution": {},
        "id": "pk_6OilFZmjf"
      },
      "source": [
        "---\n",
        "# Section 6: Full gradients are expensive\n",
        "\n",
        "*Time estimate: ~25 mins*"
      ]
    },
    {
      "cell_type": "markdown",
      "metadata": {
        "execution": {},
        "id": "NayGbcV9Zmjf"
      },
      "source": [
        "So far we have used only a small (fixed) subset of 500 training examples to perform the updates on the model parameters in our quest to minimize the loss. But what if we decided to use the training set? Do our current approach scale to datasets with tens of thousands, or millions of datapoints?\n",
        "\n",
        "In this section we explore an efficient alternative to avoid having to perform computations on all the training examples before performing a parameter update."
      ]
    },
    {
      "cell_type": "code",
      "execution_count": 40,
      "metadata": {
        "cellView": "form",
        "execution": {},
        "id": "6eyleH5yZmjf",
        "outputId": "9c080aca-6971-4a7a-f913-bdcb5e7b8ff9",
        "colab": {
          "base_uri": "https://localhost:8080/",
          "height": 582,
          "referenced_widgets": [
            "9d344a0041f849a9bc264f25740b2441",
            "9fbba5fdb8164ba6990ed8adf28f6580",
            "05f3be69019747329d413f49d070a1f4",
            "e94fb052f2644299a05de4a34ba22f29",
            "00267c73e3ae48aba63cb3bb7c7ec5bb",
            "ebfe05bc25784b0d85ce635161378689"
          ]
        }
      },
      "outputs": [
        {
          "output_type": "display_data",
          "data": {
            "application/vnd.jupyter.widget-view+json": {
              "model_id": "9d344a0041f849a9bc264f25740b2441",
              "version_minor": 0,
              "version_major": 2
            },
            "text/plain": [
              "Tab(children=(Output(), Output()), _titles={'0': 'Youtube', '1': 'Bilibili'})"
            ]
          },
          "metadata": {}
        }
      ],
      "source": [
        "# @title Video 6: Mini-batches\n",
        "from ipywidgets import widgets\n",
        "\n",
        "out2 = widgets.Output()\n",
        "with out2:\n",
        "  from IPython.display import IFrame\n",
        "  class BiliVideo(IFrame):\n",
        "    def __init__(self, id, page=1, width=400, height=300, **kwargs):\n",
        "      self.id=id\n",
        "      src = \"https://player.bilibili.com/player.html?bvid={0}&page={1}\".format(id, page)\n",
        "      super(BiliVideo, self).__init__(src, width, height, **kwargs)\n",
        "\n",
        "  video = BiliVideo(id=f\"BV1ty4y1T7Uh\", width=854, height=480, fs=1)\n",
        "  print(\"Video available at https://www.bilibili.com/video/{0}\".format(video.id))\n",
        "  display(video)\n",
        "\n",
        "out1 = widgets.Output()\n",
        "with out1:\n",
        "  from IPython.display import YouTubeVideo\n",
        "  video = YouTubeVideo(id=f\"hbqUxpNBUGk\", width=854, height=480, fs=1, rel=0)\n",
        "  print(\"Video available at https://youtube.com/watch?v=\" + video.id)\n",
        "  display(video)\n",
        "\n",
        "out = widgets.Tab([out1, out2])\n",
        "out.set_title(0, 'Youtube')\n",
        "out.set_title(1, 'Bilibili')\n",
        "\n",
        "# add event to airtable\n",
        "atform.add_event(\"Video 6: Mini-batches\")\n",
        "\n",
        "display(out)"
      ]
    },
    {
      "cell_type": "markdown",
      "metadata": {
        "execution": {},
        "id": "PWe8YLzwZmjf"
      },
      "source": [
        "## Interactive Demo 6.1: Cost of computation\n",
        "\n",
        "Evaluating a neural network is a relatively fast process. However, when repeated millions of times, the computational cost of performing forward and backward passes through the network starts to become significant.\n",
        "\n",
        "In the visualization below, we show the time (averaged over 5 runs) of computing a forward and backward pass with a changing number of input examples. Choose from the different options in the drop-down box and note how the vertical scale changes depending on the size of the network. \n",
        "\n",
        "**Remarks:** Note that the computational cost of a forward pass shows a clear linear relationship with the number of input examples, and the cost of the corresponding backward pass exhibits a similar computational complexity."
      ]
    },
    {
      "cell_type": "code",
      "execution_count": 41,
      "metadata": {
        "cellView": "form",
        "execution": {},
        "id": "xaA-GWWfZmjf",
        "outputId": "9212f7bb-4164-4389-f745-ce2c5291bf2f",
        "colab": {
          "base_uri": "https://localhost:8080/",
          "height": 319,
          "referenced_widgets": [
            "41c16fea658645889f7f8cb2a8d3843a",
            "202385444adb4260827edf805e2958ed",
            "407f92b9ebe448c7aeaf24e9a0c8b64d",
            "d2a898053b0941d2aff22462cf7b0f6d",
            "dc92ef47b39e4e12bfc36642864a116b",
            "ed59eabaad814a42b9bc822e28dbfcd2",
            "cb1131f8356947608d377f6f958f7e6a"
          ]
        }
      },
      "outputs": [
        {
          "output_type": "display_data",
          "data": {
            "application/vnd.jupyter.widget-view+json": {
              "model_id": "41c16fea658645889f7f8cb2a8d3843a",
              "version_minor": 0,
              "version_major": 2
            },
            "text/plain": [
              "interactive(children=(Dropdown(description='hidden_dims', index=1, options=('1', '100', '50, 50'), value='100'…"
            ]
          },
          "metadata": {}
        }
      ],
      "source": [
        "# @markdown Execute this cell to enable the widget!\n",
        "\n",
        "def measure_update_time(model, num_points):\n",
        "  \"\"\"\n",
        "  Measuring the time for update\n",
        "\n",
        "  Args:\n",
        "    model: an nn.Module inherited model\n",
        "      Represents the ML/DL model\n",
        "    num_points: integer\n",
        "      The number of data points in the train_set\n",
        "\n",
        "  Returns:\n",
        "    tuple of loss time and time for calculation of gradient\n",
        "  \"\"\"\n",
        "  X, y = train_set.data[:num_points], train_set.targets[:num_points]\n",
        "  start_time = time.time()\n",
        "  loss = loss_fn(model(X), y)\n",
        "  loss_time = time.time()\n",
        "  gradient_update(loss, list(model.parameters()), lr=0)\n",
        "  gradient_time = time.time()\n",
        "  return loss_time - start_time, gradient_time - loss_time\n",
        "\n",
        "\n",
        "@widgets.interact\n",
        "def computation_time(hidden_dims=widgets.Dropdown(options=[\"1\", \"100\", \"50, 50\"],\n",
        "                                                  value=\"100\")):\n",
        "  \"\"\"\n",
        "  Demonstrating time taken for computation as a widget\n",
        "\n",
        "  Args:\n",
        "    hidden_dims: widgets dropdown\n",
        "      The number of hidden dimensions with default = 100\n",
        "\n",
        "  Returns:\n",
        "    Nothing\n",
        "  \"\"\"\n",
        "  hdims = [int(s) for s in hidden_dims.split(',')]\n",
        "  model = MLP(in_dim=784, out_dim=10, hidden_dims=hdims)\n",
        "\n",
        "  NUM_POINTS = [1, 5, 10, 100, 200, 500, 1000, 5000, 10000, 20000, 30000, 50000]\n",
        "  times_list = []\n",
        "  for _ in range(5):\n",
        "    times_list.append(np.array([measure_update_time(model, _) for _ in NUM_POINTS]))\n",
        "\n",
        "  times = np.array(times_list).mean(axis=0)\n",
        "\n",
        "  fig, axs = plt.subplots(1, 1, figsize=(5,4))\n",
        "  plt.plot(NUM_POINTS, times[:, 0], label='Forward')\n",
        "  plt.plot(NUM_POINTS, times[:, 1], label='Backward')\n",
        "  plt.xlabel('Number of data points')\n",
        "  plt.ylabel('Seconds')\n",
        "  plt.legend()"
      ]
    },
    {
      "cell_type": "markdown",
      "metadata": {
        "execution": {},
        "id": "htok7BQlZmjg"
      },
      "source": [
        "## Coding Exercise 6: Implement minibatch sampling\n",
        "\n",
        "Complete the code in `sample_minibatch` so as to produce IID subsets of the training set of the desired size. (This is _not_ a trick question.) "
      ]
    },
    {
      "cell_type": "code",
      "execution_count": 42,
      "metadata": {
        "execution": {},
        "id": "p82mT-rDZmjg"
      },
      "outputs": [],
      "source": [
        "def sample_minibatch(input_data, target_data, num_points=100):\n",
        "  \"\"\"\n",
        "  Sample a minibatch of size num_point from the provided input-target data\n",
        "\n",
        "  Args:\n",
        "    input_data: Tensor\n",
        "      Multi-dimensional tensor containing the input data\n",
        "    target_data: Tensor\n",
        "      1D tensor containing the class labels\n",
        "    num_points: Integer\n",
        "      Number of elements to be included in minibatch with default=100\n",
        "\n",
        "  Returns:\n",
        "    batch_inputs: Tensor\n",
        "      Minibatch inputs\n",
        "    batch_targets: Tensor\n",
        "      Minibatch targets\n",
        "  \"\"\"\n",
        "  #################################################\n",
        "  ## TODO for students: sample minibatch of data ##\n",
        "  raise NotImplementedError(\"Student exercise: implement gradient update\")\n",
        "  #################################################\n",
        "  # Sample a collection of IID indices from the existing data\n",
        "  batch_indices = ...\n",
        "  # Use batch_indices to extract entries from the input and target data tensors\n",
        "  batch_inputs = input_data[...]\n",
        "  batch_targets = target_data[...]\n",
        "\n",
        "  return batch_inputs, batch_targets\n",
        "\n",
        "# add event to airtable\n",
        "atform.add_event('Coding Exercise 6: Implement minibatch sampling')\n",
        "\n",
        "\n",
        "## Uncomment to test your function\n",
        "# x_batch, y_batch = sample_minibatch(X, y, num_points=100)\n",
        "# print(f\"The input shape is {x_batch.shape} and the target shape is: {y_batch.shape}\")"
      ]
    },
    {
      "cell_type": "code",
      "execution_count": 43,
      "metadata": {
        "execution": {},
        "id": "ia0LQK8gZmjg",
        "outputId": "9acb220d-fb86-4386-ec9c-f0f5c619191c",
        "colab": {
          "base_uri": "https://localhost:8080/"
        }
      },
      "outputs": [
        {
          "output_type": "stream",
          "name": "stdout",
          "text": [
            "The input shape is torch.Size([100, 28, 28]) and the target shape is: torch.Size([100])\n"
          ]
        }
      ],
      "source": [
        "# to_remove solution\n",
        "def sample_minibatch(input_data, target_data, num_points=100):\n",
        "  \"\"\"\n",
        "  Sample a minibatch of size num_point from the provided input-target data\n",
        "\n",
        "  Args:\n",
        "    input_data: Tensor\n",
        "      Multi-dimensional tensor containing the input data\n",
        "    target_data: Tensor\n",
        "      1D tensor containing the class labels\n",
        "    num_points: Integer\n",
        "      Number of elements to be included in minibatch with default=100\n",
        "\n",
        "  Returns:\n",
        "    batch_inputs: Tensor\n",
        "      Minibatch inputs\n",
        "    batch_targets: Tensor\n",
        "      Minibatch targets\n",
        "  \"\"\"\n",
        "  # Sample a collection of IID indices from the existing data\n",
        "  batch_indices = np.random.choice(len(input_data), num_points)\n",
        "  # Use batch_indices to extract entries from the input and target data tensors\n",
        "  batch_inputs = input_data[batch_indices, :]\n",
        "  batch_targets = target_data[batch_indices]\n",
        "\n",
        "  return batch_inputs, batch_targets\n",
        "\n",
        "# add event to airtable\n",
        "atform.add_event('Coding Exercise 6: Implement minibatch sampling')\n",
        "\n",
        "\n",
        "## Uncomment to test your function\n",
        "x_batch, y_batch = sample_minibatch(X, y, num_points=100)\n",
        "print(f\"The input shape is {x_batch.shape} and the target shape is: {y_batch.shape}\")"
      ]
    },
    {
      "cell_type": "markdown",
      "metadata": {
        "execution": {},
        "id": "H8R5vGi5Zmjg"
      },
      "source": [
        "```\n",
        "The input shape is torch.Size([100, 28, 28]) and the target shape is: torch.Size([100])\n",
        "```"
      ]
    },
    {
      "cell_type": "markdown",
      "metadata": {
        "execution": {},
        "id": "QhU2-G-iZmjg"
      },
      "source": [
        "## Interactive Demo 6.2: *Compare* different minibatch sizes\n",
        "\n",
        "What are the trade-offs induced by the choice of minibatch size? The interactive plot below shows the training evolution of a 2-hidden layer MLP with 100 hidden units in each hidden layer. Different plots correspond to a different choice of minibatch size. We have a fixed time budget for all the cases, reflected in the horizontal axes of these plots."
      ]
    },
    {
      "cell_type": "code",
      "execution_count": 44,
      "metadata": {
        "cellView": "form",
        "execution": {},
        "id": "JRUSgX5WZmjg",
        "outputId": "2a6ce7e6-a3b3-45d3-c57a-6ed482d8cc89",
        "colab": {
          "base_uri": "https://localhost:8080/",
          "height": 149,
          "referenced_widgets": [
            "5b4021bee6414773b8deb34aa7858632",
            "161a46dcd10644c4a79327d2afd42d53",
            "2c2607bc8b074185b2e5f769b908bdf4",
            "39b1d560c7294c17ae58293ab7a87e92",
            "8b0547fdd33e4148903f8e1469a11574",
            "3141dab630e6410888b76a1915fa1b31",
            "786ce19f301246bb839302ba42621331",
            "7b00804f9a174f0f87e6e8ccdacfa54e",
            "45c9fcb342ec424180c705bb91a26992",
            "75eb86f0be624818b66dafb5824d30d2",
            "c87ed12106c84dd3958a29f977ec7a14",
            "612826eb0a384f59ae5c6c83a316b89b",
            "45f3c80d2c29427087b28b2fda95863a",
            "9f835088c97e4665a59a927ffdb45ccd",
            "58e9afa9a0ad45b7872adc304e200c33",
            "a7921d9ba3844211bc94dac2307f5cf5"
          ]
        }
      },
      "outputs": [
        {
          "output_type": "display_data",
          "data": {
            "application/vnd.jupyter.widget-view+json": {
              "model_id": "5b4021bee6414773b8deb34aa7858632",
              "version_minor": 0,
              "version_major": 2
            },
            "text/plain": [
              "interactive(children=(Text(value='20, 250, 1000', description='batch_sizes'), Text(value='5e-3, 5e-3, 5e-3', d…"
            ]
          },
          "metadata": {}
        }
      ],
      "source": [
        "# @markdown Execute this cell to enable the widget!\n",
        "\n",
        "@widgets.interact_manual\n",
        "def minibatch_experiment(batch_sizes='20, 250, 1000',\n",
        "                         lrs='5e-3, 5e-3, 5e-3',\n",
        "                         time_budget=widgets.Dropdown(options=[\"2.5\", \"5\", \"10\"],\n",
        "                                                      value=\"2.5\")):\n",
        "  \"\"\"\n",
        "  Demonstration of minibatch experiment\n",
        "\n",
        "  Args:\n",
        "    batch_sizes: String\n",
        "      Size of minibatches\n",
        "    lrs: String\n",
        "      Different learning rates\n",
        "    time_budget: widget dropdown instance\n",
        "      Different time budgets with default=2.5s\n",
        "\n",
        "  Returns:\n",
        "    Nothing\n",
        "  \"\"\"\n",
        "  batch_sizes = [int(s) for s in batch_sizes.split(',')]\n",
        "  lrs = [float(s) for s in lrs.split(',')]\n",
        "\n",
        "  LOSS_HIST = {_:[] for _ in batch_sizes}\n",
        "\n",
        "  X, y = train_set.data, train_set.targets\n",
        "  base_model = MLP(in_dim=784, out_dim=10, hidden_dims=[100, 100])\n",
        "\n",
        "  for id, batch_size in enumerate(tqdm(batch_sizes)):\n",
        "    start_time = time.time()\n",
        "    # Create a new copy of the model for each batch size\n",
        "    model = copy.deepcopy(base_model)\n",
        "    params = list(model.parameters())\n",
        "    lr = lrs[id]\n",
        "    # Fixed budget per choice of batch size\n",
        "    while (time.time() - start_time) < float(time_budget):\n",
        "      data, labels = sample_minibatch(X, y, batch_size)\n",
        "      loss = loss_fn(model(data), labels)\n",
        "      gradient_update(loss, params, lr=lr)\n",
        "      LOSS_HIST[batch_size].append([time.time() - start_time,\n",
        "                                    loss.item()])\n",
        "\n",
        "  fig, axs = plt.subplots(1, len(batch_sizes), figsize=(10, 3))\n",
        "  for ax, batch_size in zip(axs, batch_sizes):\n",
        "    plot_data = np.array(LOSS_HIST[batch_size])\n",
        "    ax.plot(plot_data[:, 0], plot_data[:, 1], label=batch_size,\n",
        "            alpha=0.8)\n",
        "    ax.set_title('Batch size: ' + str(batch_size))\n",
        "    ax.set_xlabel('Seconds')\n",
        "    ax.set_ylabel('Loss')\n",
        "  plt.show()"
      ]
    },
    {
      "cell_type": "markdown",
      "metadata": {
        "execution": {},
        "id": "eP6TJkwhZmjg"
      },
      "source": [
        "**Remarks:** SGD works! We have an algorithm that can be applied (with the due precautions) to learn datasets of arbitrary size. \n",
        "\n",
        "However, **note the difference in the vertical scale** across the plots above. When using a larger minibatch, we can perform fewer parameter updates as the forward and backward passes are more expensive.\n",
        "\n",
        "This highlights the interplay between the minibatch size and the learning rate: when our minibatch is larger, we have a more confident estimator of the direction to move, and thus can afford a larger learning rate. On the other hand, extremely small minibatches are very fast computationally but are not representative of the data distribution and yield estimations of the gradient with high variance.\n",
        "\n",
        "We encourage you to tune the value of the learning rate for each of the minibatch sizes in the previous demo, to achieve a training loss steadily below 0.5 within 5 seconds."
      ]
    },
    {
      "cell_type": "markdown",
      "metadata": {
        "execution": {},
        "id": "Ou6G75IBZmjh"
      },
      "source": [
        "---\n",
        "# Section 7: Adaptive methods\n",
        "\n",
        "*Time estimate: ~25 mins*"
      ]
    },
    {
      "cell_type": "markdown",
      "metadata": {
        "execution": {},
        "id": "h8WRVUCIZmjh"
      },
      "source": [
        "As of now, you should be aware that there are many knobs to turn when working on a machine learning problem. Some of these relate to the optimization algorithm, to the choice of model, or to the objective to minimize. Here are some prototypical examples:\n",
        "\n",
        "- Problem: loss function, regularization coefficients (Day 5)\n",
        "- Model: architecture, activations function\n",
        "- Optimizer: learning rate, batch size, momentum coefficient\n",
        "\n",
        "We concentrate on the choices that are directly related to optimization. In particular, we will explore some _automatic_ methods for setting the learning rate, in a way that fixes the poor-conditioning problem and is robust across different problems."
      ]
    },
    {
      "cell_type": "code",
      "execution_count": 45,
      "metadata": {
        "cellView": "form",
        "execution": {},
        "id": "NylorlRQZmjh",
        "outputId": "7b2dcce1-ef79-4079-8790-b57a6084a61f",
        "colab": {
          "base_uri": "https://localhost:8080/",
          "height": 582,
          "referenced_widgets": [
            "f217d28e70b747eca1ebd0cd41408726",
            "7b2577f5d7be43e5a5a6d1051fdecb89",
            "3424e90bc6b9418b9023fef03102ca24",
            "397a4847f524492eadc0d849788671fe",
            "c8c42f5e74df4f69bf9d3a464e2740f9",
            "17295f30f9a04faba6bca49bce7035ea"
          ]
        }
      },
      "outputs": [
        {
          "output_type": "display_data",
          "data": {
            "application/vnd.jupyter.widget-view+json": {
              "model_id": "f217d28e70b747eca1ebd0cd41408726",
              "version_minor": 0,
              "version_major": 2
            },
            "text/plain": [
              "Tab(children=(Output(), Output()), _titles={'0': 'Youtube', '1': 'Bilibili'})"
            ]
          },
          "metadata": {}
        }
      ],
      "source": [
        "# @title Video 7: Adaptive Methods\n",
        "from ipywidgets import widgets\n",
        "\n",
        "out2 = widgets.Output()\n",
        "with out2:\n",
        "  from IPython.display import IFrame\n",
        "  class BiliVideo(IFrame):\n",
        "    def __init__(self, id, page=1, width=400, height=300, **kwargs):\n",
        "      self.id=id\n",
        "      src = \"https://player.bilibili.com/player.html?bvid={0}&page={1}\".format(id, page)\n",
        "      super(BiliVideo, self).__init__(src, width, height, **kwargs)\n",
        "\n",
        "  video = BiliVideo(id=f\"BV1eq4y1W7JG\", width=854, height=480, fs=1)\n",
        "  print(\"Video available at https://www.bilibili.com/video/{0}\".format(video.id))\n",
        "  display(video)\n",
        "\n",
        "out1 = widgets.Output()\n",
        "with out1:\n",
        "  from IPython.display import YouTubeVideo\n",
        "  video = YouTubeVideo(id=f\"Zr6r2kfmQUM\", width=854, height=480, fs=1, rel=0)\n",
        "  print(\"Video available at https://youtube.com/watch?v=\" + video.id)\n",
        "  display(video)\n",
        "\n",
        "out = widgets.Tab([out1, out2])\n",
        "out.set_title(0, 'Youtube')\n",
        "out.set_title(1, 'Bilibili')\n",
        "\n",
        "# add event to airtable\n",
        "atform.add_event('Video 7: Adaptive Methods')\n",
        "\n",
        "display(out)"
      ]
    },
    {
      "cell_type": "markdown",
      "metadata": {
        "execution": {},
        "id": "a3AO1GYYZmjh"
      },
      "source": [
        "## Coding Exercise 7: Implement RMSprop\n",
        "\n",
        "In this exercise you will implement the update of the RMSprop optimizer:\n",
        "\n",
        "\\begin{align}\n",
        "v_{t} &= \\alpha v_{t-1} + (1 - \\alpha) \\nabla J(w_t)^2 \\\\ \\\\\n",
        "w_{t+1} &= w_t - \\eta \\frac{\\nabla J(w_t)}{\\sqrt{v_t + \\epsilon}}\n",
        "\\end{align}\n",
        "\n",
        "where the non-standard operations (division of two vectors, squaring a vector, etc) are to be interpreted as element-wise operations, i.e., the operation is applied to each (pair of) entry[ies] of the vector(s) considered as real number(s).\n",
        "\n",
        "Here, the $\\epsilon$ hyperparameter provides numerical stability to the algorithm, by preventing the learning rate from becoming too big when $v_t$ is small. Typically, we set $\\epsilon$ to a default small value, like $10^{-8}$.  "
      ]
    },
    {
      "cell_type": "code",
      "execution_count": 46,
      "metadata": {
        "execution": {},
        "id": "yDwlk-W_Zmjh",
        "outputId": "f55e6978-a2f0-4541-cb0b-a16965043426",
        "colab": {
          "base_uri": "https://localhost:8080/"
        }
      },
      "outputs": [
        {
          "output_type": "stream",
          "name": "stdout",
          "text": [
            "Random seed 2021 has been set.\n",
            "\n",
            " The model3 parameters before the update are: \n",
            "\n",
            "main.0.weight tensor([[-0.0264,  0.0010,  0.0173,  ...,  0.0297,  0.0278, -0.0221],\n",
            "        [-0.0040, -0.0295, -0.0086,  ..., -0.0070,  0.0254, -0.0233],\n",
            "        [ 0.0240, -0.0231,  0.0342,  ...,  0.0124,  0.0270, -0.0180],\n",
            "        ...,\n",
            "        [-0.0005,  0.0157,  0.0111,  ...,  0.0144, -0.0301, -0.0144],\n",
            "        [ 0.0181,  0.0303,  0.0255,  ..., -0.0110, -0.0175,  0.0205],\n",
            "        [ 0.0208, -0.0353, -0.0183,  ..., -0.0271,  0.0099,  0.0003]])\n",
            "main.0.bias tensor([-0.0290, -0.0033,  0.0100, -0.0320,  0.0022,  0.0221,  0.0307,  0.0243,\n",
            "         0.0159, -0.0064])\n"
          ]
        }
      ],
      "source": [
        "def rmsprop_update(loss, params, grad_sq, lr=1e-3, alpha=0.8, epsilon=1e-8):\n",
        "  \"\"\"\n",
        "  Perform an RMSprop update on a collection of parameters\n",
        "\n",
        "  Args:\n",
        "    loss: Tensor\n",
        "      A scalar tensor containing the loss whose gradient will be computed\n",
        "    params: Iterable\n",
        "      Collection of parameters with respect to which we compute gradients\n",
        "    grad_sq: Iterable\n",
        "      Moving average of squared gradients\n",
        "    lr: Float\n",
        "      Scalar specifying the learning rate or step-size for the update\n",
        "    alpha: Float\n",
        "      Moving average parameter\n",
        "    epsilon: Float\n",
        "      quotient for numerical stability\n",
        "\n",
        "  Returns:\n",
        "    Nothing\n",
        "  \"\"\"\n",
        "  # Clear up gradients as Pytorch automatically accumulates gradients from\n",
        "  # successive backward calls\n",
        "  zero_grad(params)\n",
        "  # Compute gradients on given objective\n",
        "  loss.backward()\n",
        "\n",
        "  with torch.no_grad():\n",
        "    for (par, gsq) in zip(params, grad_sq):\n",
        "      #################################################\n",
        "      ## TODO for students: update the value of the parameter ##\n",
        "      # Use gsq.data and par.grad\n",
        "      raise NotImplementedError(\"Student exercise: implement gradient update\")\n",
        "      #################################################\n",
        "      # Update estimate of gradient variance\n",
        "      gsq.data = ...\n",
        "      # Update parameters\n",
        "      par.data -=  ...\n",
        "\n",
        "\n",
        "# add event to airtable\n",
        "atform.add_event('Coding Exercise 7: Implement RMSprop')\n",
        "\n",
        "\n",
        "set_seed(seed=SEED)\n",
        "model3 = MLP(in_dim=784, out_dim=10, hidden_dims=[])\n",
        "print('\\n The model3 parameters before the update are: \\n')\n",
        "print_params(model3)\n",
        "loss = loss_fn(model3(X), y)\n",
        "# Initialize the moving average of squared gradients\n",
        "grad_sq = [1e-6*i for i in list(model3.parameters())]\n",
        "\n",
        "\n",
        "\n",
        "## Uncomment below to test your function\n",
        "# rmsprop_update(loss, list(model3.parameters()), grad_sq=grad_sq, lr=1e-3)\n",
        "# print('\\n The model3 parameters after the update are: \\n')\n",
        "# print_params(model3)"
      ]
    },
    {
      "cell_type": "code",
      "execution_count": 47,
      "metadata": {
        "execution": {},
        "id": "dRNgBkBLZmjh",
        "outputId": "24474d21-a706-418a-b1d3-0b72c5cf642d",
        "colab": {
          "base_uri": "https://localhost:8080/"
        }
      },
      "outputs": [
        {
          "output_type": "stream",
          "name": "stdout",
          "text": [
            "Random seed 2021 has been set.\n",
            "\n",
            " The model3 parameters before the update are: \n",
            "\n",
            "main.0.weight tensor([[-0.0264,  0.0010,  0.0173,  ...,  0.0297,  0.0278, -0.0221],\n",
            "        [-0.0040, -0.0295, -0.0086,  ..., -0.0070,  0.0254, -0.0233],\n",
            "        [ 0.0240, -0.0231,  0.0342,  ...,  0.0124,  0.0270, -0.0180],\n",
            "        ...,\n",
            "        [-0.0005,  0.0157,  0.0111,  ...,  0.0144, -0.0301, -0.0144],\n",
            "        [ 0.0181,  0.0303,  0.0255,  ..., -0.0110, -0.0175,  0.0205],\n",
            "        [ 0.0208, -0.0353, -0.0183,  ..., -0.0271,  0.0099,  0.0003]])\n",
            "main.0.bias tensor([-0.0290, -0.0033,  0.0100, -0.0320,  0.0022,  0.0221,  0.0307,  0.0243,\n",
            "         0.0159, -0.0064])\n",
            "\n",
            " The model3 parameters after the update are: \n",
            "\n",
            "main.0.weight tensor([[-0.0240,  0.0031,  0.0193,  ...,  0.0316,  0.0297, -0.0198],\n",
            "        [-0.0063, -0.0318, -0.0109,  ..., -0.0093,  0.0232, -0.0255],\n",
            "        [ 0.0218, -0.0253,  0.0320,  ...,  0.0102,  0.0248, -0.0203],\n",
            "        ...,\n",
            "        [-0.0027,  0.0136,  0.0089,  ...,  0.0123, -0.0324, -0.0166],\n",
            "        [ 0.0159,  0.0281,  0.0233,  ..., -0.0133, -0.0197,  0.0182],\n",
            "        [ 0.0186, -0.0376, -0.0205,  ..., -0.0293,  0.0077, -0.0019]])\n",
            "main.0.bias tensor([-0.0313, -0.0011,  0.0122, -0.0342,  0.0045,  0.0199,  0.0329,  0.0265,\n",
            "         0.0182, -0.0041])\n"
          ]
        }
      ],
      "source": [
        "# to_remove solution\n",
        "def rmsprop_update(loss, params, grad_sq, lr=1e-3, alpha=0.8, epsilon=1e-8):\n",
        "  \"\"\"\n",
        "  Perform an RMSprop update on a collection of parameters\n",
        "\n",
        "  Args:\n",
        "    loss: Tensor\n",
        "      A scalar tensor containing the loss whose gradient will be computed\n",
        "    params: Iterable\n",
        "      Collection of parameters with respect to which we compute gradients\n",
        "    grad_sq: Iterable\n",
        "      Moving average of squared gradients\n",
        "    lr: Float\n",
        "      Scalar specifying the learning rate or step-size for the update\n",
        "    alpha: Float\n",
        "      Moving average parameter\n",
        "    epsilon: Float\n",
        "      quotient for numerical stability\n",
        "\n",
        "  Returns:\n",
        "    Nothing\n",
        "  \"\"\"\n",
        "  # Clear up gradients as Pytorch automatically accumulates gradients from\n",
        "  # successive backward calls\n",
        "  zero_grad(params)\n",
        "  # Compute gradients on given objective\n",
        "  loss.backward()\n",
        "\n",
        "  with torch.no_grad():\n",
        "    for (par, gsq) in zip(params, grad_sq):\n",
        "      # Update estimate of gradient variance\n",
        "      gsq.data = alpha * gsq.data + (1 - alpha) * par.grad**2\n",
        "      # Update parameters\n",
        "      par.data -=  lr * (par.grad / (epsilon + gsq.data)**0.5)\n",
        "\n",
        "# add event to airtable\n",
        "atform.add_event('Coding Exercise 7: Implement RMSprop')\n",
        "\n",
        "\n",
        "\n",
        "set_seed(seed=SEED)\n",
        "model3 = MLP(in_dim=784, out_dim=10, hidden_dims=[])\n",
        "print('\\n The model3 parameters before the update are: \\n')\n",
        "print_params(model3)\n",
        "loss = loss_fn(model3(X), y)\n",
        "# Initialize the moving average of squared gradients\n",
        "grad_sq = [1e-6*i for i in list(model3.parameters())]\n",
        "\n",
        "## Uncomment below to test your function\n",
        "rmsprop_update(loss, list(model3.parameters()), grad_sq=grad_sq, lr=1e-3)\n",
        "print('\\n The model3 parameters after the update are: \\n')\n",
        "print_params(model3)"
      ]
    },
    {
      "cell_type": "markdown",
      "metadata": {
        "execution": {},
        "id": "6JG0D3ojZmjh"
      },
      "source": [
        "```\n",
        " The model3 parameters after the update are: \n",
        "\n",
        "main.0.weight tensor([[-0.0240,  0.0031,  0.0193,  ...,  0.0316,  0.0297, -0.0198],\n",
        "        [-0.0063, -0.0318, -0.0109,  ..., -0.0093,  0.0232, -0.0255],\n",
        "        [ 0.0218, -0.0253,  0.0320,  ...,  0.0102,  0.0248, -0.0203],\n",
        "        ...,\n",
        "        [-0.0027,  0.0136,  0.0089,  ...,  0.0123, -0.0324, -0.0166],\n",
        "        [ 0.0159,  0.0281,  0.0233,  ..., -0.0133, -0.0197,  0.0182],\n",
        "        [ 0.0186, -0.0376, -0.0205,  ..., -0.0293,  0.0077, -0.0019]])\n",
        "main.0.bias tensor([-0.0313, -0.0011,  0.0122, -0.0342,  0.0045,  0.0199,  0.0329,  0.0265,\n",
        "         0.0182, -0.0041])\n",
        "```"
      ]
    },
    {
      "cell_type": "markdown",
      "metadata": {
        "execution": {},
        "id": "aPBrfgPfZmji"
      },
      "source": [
        "## Interactive Demo 7: Compare optimizers\n",
        "\n",
        "Below, we compare your implementations of SGD, momentum and RMSprop. If you have successfully coded all the exercises so far: congrats! You are now *in the know* of some of the most commonly used and powerful tools of optimization for deep learning. "
      ]
    },
    {
      "cell_type": "code",
      "execution_count": 48,
      "metadata": {
        "cellView": "form",
        "execution": {},
        "id": "U77QoTH_Zmji",
        "outputId": "4a817e1a-49fb-4306-fa2b-96e65bb5e7ef",
        "colab": {
          "base_uri": "https://localhost:8080/",
          "height": 145,
          "referenced_widgets": [
            "1470d244e3204ed4b721ec549a3961c0",
            "cb78737b462c400bb25f00827f7eff6e",
            "9cd299f3d9554e79b610397d2d64456d",
            "456eca4b492548649de4120bd53f1387",
            "380f957f751242c99e54160c10bdc1d0",
            "8ca0b8fd37f348c8b52741684e401975",
            "41847f07d990479bacfa38dbfed43e4a",
            "7b9a257ac9d84741a292ffbc6ccacbc9",
            "ebcc273b27c948259e57f401e24a5729",
            "921047ba961a46d3852d4b7a4930a180",
            "7c273106d14040ce8146b8bd7db58464",
            "7c6d3998f07545a5916dc87fad6e6a76",
            "62fb501871d04a068eac623fc08ab522",
            "a702271842c949d295dbf5799469638b",
            "eaa7074343d141a9b708e8a98771f493",
            "2f75c1576d0f4b7dbc953e89ceddcaaa"
          ]
        }
      },
      "outputs": [
        {
          "output_type": "display_data",
          "data": {
            "application/vnd.jupyter.widget-view+json": {
              "model_id": "1470d244e3204ed4b721ec549a3961c0",
              "version_minor": 0,
              "version_major": 2
            },
            "text/plain": [
              "interactive(children=(IntSlider(value=135, description='batch_size', max=250, min=25, step=5), FloatLogSlider(…"
            ]
          },
          "metadata": {}
        }
      ],
      "source": [
        "# @markdown Execute this cell to enable the widget!\n",
        "X, y = train_set.data, train_set.targets\n",
        "\n",
        "@widgets.interact_manual\n",
        "def compare_optimizers(\n",
        "    batch_size=(25, 250, 5),\n",
        "    lr=widgets.FloatLogSlider(value=2e-3, min=-5, max=0),\n",
        "    max_steps=(50, 500, 5)):\n",
        "  \"\"\"\n",
        "  Demonstration to compare optimisers - stochastic gradient descent, momentum, RMSprop\n",
        "\n",
        "  Args:\n",
        "    batch_size: Tuple\n",
        "      Size of minibatches\n",
        "    lr: Float log slider instance\n",
        "      Scalar specifying the learning rate or step-size for the update\n",
        "    max_steps: Tuple\n",
        "      Max number of step sizes for incrementing\n",
        "\n",
        "  Returns:\n",
        "    Nothing\n",
        "  \"\"\"\n",
        "  SGD_DICT = [gradient_update, 'SGD', 'black', '-', {'lr': lr}]\n",
        "  MOM_DICT = [momentum_update, 'Momentum', 'red', '--', {'lr': lr, 'beta': 0.9}]\n",
        "  RMS_DICT = [rmsprop_update, 'RMSprop', 'fuchsia', '-', {'lr': lr, 'alpha': 0.8}]\n",
        "\n",
        "  ALL_DICTS = [SGD_DICT, MOM_DICT, RMS_DICT]\n",
        "\n",
        "  base_model = MLP(in_dim=784, out_dim=10, hidden_dims=[100, 100])\n",
        "\n",
        "  LOSS_HIST = {}\n",
        "\n",
        "  for opt_dict in tqdm(ALL_DICTS):\n",
        "    update_fn, opt_name, color, lstyle, kwargs = opt_dict\n",
        "    LOSS_HIST[opt_name] = []\n",
        "\n",
        "    model = copy.deepcopy(base_model)\n",
        "    params = list(model.parameters())\n",
        "\n",
        "    if opt_name != 'SGD':\n",
        "      aux_tensors = [torch.zeros_like(_) for _ in params]\n",
        "\n",
        "    for step in range(max_steps):\n",
        "      data, labels = sample_minibatch(X, y, batch_size)\n",
        "      loss = loss_fn(model(data), labels)\n",
        "      if opt_name == 'SGD':\n",
        "        update_fn(loss, params, **kwargs)\n",
        "      else:\n",
        "        update_fn(loss, params, aux_tensors, **kwargs)\n",
        "      LOSS_HIST[opt_name].append(loss.item())\n",
        "\n",
        "  fig, axs = plt.subplots(1, len(ALL_DICTS), figsize=(9, 3))\n",
        "  for ax, optim_dict in zip(axs, ALL_DICTS):\n",
        "    opt_name = optim_dict[1]\n",
        "    ax.plot(range(max_steps), LOSS_HIST[opt_name], alpha=0.8)\n",
        "    ax.set_title(opt_name)\n",
        "    ax.set_xlabel('Iteration')\n",
        "    ax.set_ylabel('Loss')\n",
        "    ax.set_ylim(0, 2.5)\n",
        "  plt.show()"
      ]
    },
    {
      "cell_type": "markdown",
      "metadata": {
        "execution": {},
        "id": "E_dD-9GVZmji"
      },
      "source": [
        "### **Discussion**\n",
        "\n",
        " Tune the 3 methods above - Stochastic Gradient Descent, RMSProp, and Momentum - in order to make each individually excel and discuss your findings. How do the methods compare in terms of robustness to small changes of the hyperparameters? How easy was it to find a good hyperparameter configuration?"
      ]
    },
    {
      "cell_type": "code",
      "execution_count": 49,
      "metadata": {
        "execution": {},
        "id": "FtlIurb1Zmji"
      },
      "outputs": [],
      "source": [
        "# to_remove explanation\n",
        "\n",
        "\"\"\"\n",
        "Stochastic Gradient Descent: Performs updates one example at a time.\n",
        "RMSProp: Allows each parameter to be updated at an 'appropriate' rate decided\n",
        "based on magnitudes of past recent updates;\n",
        "Momentum: Helps accelerate SGD in the relevant direction and dampens\n",
        "oscillations specially ravines,\n",
        "i.e. areas where the surface curves much more steeply in one dimension than\n",
        "in another, which are common around local optima.\n",
        "\n",
        "Robustness: RMSProp > Momentum > SGD\n",
        "Since, each example affects SGD by updating hyperparameters, it's not\n",
        "considered very robust.\n",
        "Adagrad greatly improved the robustness of SGD and is used for training\n",
        "large-scale neural nets.\n",
        "Momentum is quite robust: he momentum term increases for dimensions whose\n",
        "gradients point in the same directions\n",
        "and reduces updates for dimensions whose gradients change directions.\n",
        "RMSProp is very robust; This combines the idea of only using the sign of\n",
        "the gradient with the idea of adapting the step size separately\n",
        "for each weight in a mini-batch.\n",
        "\n",
        "Generally, non-adaptive methods consistently produce more robust models\n",
        "than adaptive methods. Refer https://arxiv.org/pdf/1911.03784.pdf - for more details\n",
        "\"\"\";"
      ]
    },
    {
      "cell_type": "markdown",
      "metadata": {
        "execution": {},
        "id": "qzctLLtMZmji"
      },
      "source": [
        "\n",
        "**Remarks:** Note that RMSprop is allowing us to use a 'per-dimension' learning rate _without having to tune one learning rate for each dimension **ourselves**_. The method uses information collected about the variance of the gradients throughout training to **adapt** the step size for each of the parameters automatically. The savings in tuning efforts of RMSprop over SGD or 'plain' momentum are undisputed on this task. \n",
        "\n",
        "Moreover, adaptive optimization methods are currently a highly active research domain, with many related algorithms like Adam, AMSgrad, Adagrad being used in practical application and theoretically investigated. "
      ]
    },
    {
      "cell_type": "markdown",
      "metadata": {
        "execution": {},
        "id": "-cj999TYZmji"
      },
      "source": [
        "### Locality of Gradients\n",
        "As we've seen throughout this tutorial, poor conditioning can be a significant burden on convergence to an optimum while using gradient based optimization. Of the methods we've seen to deal with this issue, notice how both momentum and adaptive learning rates incorporate past gradient values into their update schemes. Why do we use past values of our loss function's gradient while updating our current MLP weights?\n",
        "\n",
        "Recall from W1D2 that the gradient of a function, $\\nabla f(w_t)$, is a **local** property and computes the direction of maximum change of $f(w_t)$ at the point $w_t$. However, when we train our MLP model we are hoping to find the __global__ optimum for our training loss. By incorporating past values of our function's gradient into our optimization schemes, we use more information about the overall shape of our function than just a single gradient alone can provide. "
      ]
    },
    {
      "cell_type": "markdown",
      "metadata": {
        "execution": {},
        "id": "VhLaIuaeZmji"
      },
      "source": [
        "## Think! 7: Loss function and optimization\n",
        "\n",
        "Can you think of other ways we can incorporate more information about our loss function into our optimization schemes?"
      ]
    },
    {
      "cell_type": "code",
      "execution_count": 50,
      "metadata": {
        "cellView": "form",
        "execution": {},
        "id": "-1ihoU1bZmji",
        "outputId": "cb70ff43-865d-4c10-d098-e3ee453e7cca",
        "colab": {
          "base_uri": "https://localhost:8080/",
          "height": 93,
          "referenced_widgets": [
            "739867308eb84b8eb07fb3b75131d197",
            "ff1a79c348fb4e6c8d3097370aa47350",
            "349002e6e23d4f9fa8f75a40dd71ea3b",
            "42a653d31a7046ddb5de0fb311c2a98b",
            "d1007c6f63824a02864ea1fd2ad8af56",
            "97d4cdc9bd8f4214a34f463b6f27e973"
          ]
        }
      },
      "outputs": [
        {
          "output_type": "display_data",
          "data": {
            "application/vnd.jupyter.widget-view+json": {
              "model_id": "739867308eb84b8eb07fb3b75131d197",
              "version_minor": 0,
              "version_major": 2
            },
            "text/plain": [
              "Textarea(value='Type your answer here and click on `Submit!`', placeholder='Type something')"
            ]
          },
          "metadata": {}
        },
        {
          "output_type": "display_data",
          "data": {
            "application/vnd.jupyter.widget-view+json": {
              "model_id": "42a653d31a7046ddb5de0fb311c2a98b",
              "version_minor": 0,
              "version_major": 2
            },
            "text/plain": [
              "Button(description='Submit!', style=ButtonStyle())"
            ]
          },
          "metadata": {}
        }
      ],
      "source": [
        "# @title Student Response\n",
        "from ipywidgets import widgets\n",
        "\n",
        "\n",
        "text=widgets.Textarea(\n",
        "   value='Type your answer here and click on `Submit!`',\n",
        "   placeholder='Type something',\n",
        "   description='',\n",
        "   disabled=False\n",
        ")\n",
        "\n",
        "button = widgets.Button(description=\"Submit!\")\n",
        "\n",
        "display(text,button)\n",
        "\n",
        "def on_button_clicked(b):\n",
        "   atform.add_answer('q4' , text.value)\n",
        "   print(\"Submission successful!\")"
      ]
    },
    {
      "cell_type": "code",
      "execution_count": 51,
      "metadata": {
        "execution": {},
        "id": "MFJ96nhmZmjj"
      },
      "outputs": [],
      "source": [
        "# to_remove explanation\n",
        "\n",
        "\"\"\"\n",
        "We could consider incorporating the curvature of our function directly into our\n",
        "optimization schemes. Methods that use this are often called Newton's methods\n",
        "or Hessian based optimization methods.\n",
        "\"\"\";"
      ]
    },
    {
      "cell_type": "markdown",
      "metadata": {
        "execution": {},
        "id": "3X07d9UVZmjj"
      },
      "source": [
        "---\n",
        "# Section 8: Ethical concerns\n",
        "\n",
        "*Time estimate: ~15mins*"
      ]
    },
    {
      "cell_type": "code",
      "execution_count": 52,
      "metadata": {
        "cellView": "form",
        "execution": {},
        "id": "SfOh7c2DZmjj",
        "outputId": "d51b1f78-679d-4a94-9fc6-4c54fa5301d3",
        "colab": {
          "base_uri": "https://localhost:8080/",
          "height": 582,
          "referenced_widgets": [
            "1ded56d836c84859a1f9c67ac7153809",
            "3eb143a510cc46e5b282f77a482b50e8",
            "4282188529b54a9fb1a8853abfd9a180",
            "e3875c27c01346ccb317e4f208d0ad5b",
            "d7314e6099884380943d3f697bb1a114",
            "48912f814ce240a99b584cf6f290fa0d"
          ]
        }
      },
      "outputs": [
        {
          "output_type": "display_data",
          "data": {
            "application/vnd.jupyter.widget-view+json": {
              "model_id": "1ded56d836c84859a1f9c67ac7153809",
              "version_minor": 0,
              "version_major": 2
            },
            "text/plain": [
              "Tab(children=(Output(), Output()), _titles={'0': 'Youtube', '1': 'Bilibili'})"
            ]
          },
          "metadata": {}
        }
      ],
      "source": [
        "# @title Video 8: Ethical concerns\n",
        "from ipywidgets import widgets\n",
        "\n",
        "out2 = widgets.Output()\n",
        "with out2:\n",
        "  from IPython.display import IFrame\n",
        "  class BiliVideo(IFrame):\n",
        "    def __init__(self, id, page=1, width=400, height=300, **kwargs):\n",
        "      self.id=id\n",
        "      src = \"https://player.bilibili.com/player.html?bvid={0}&page={1}\".format(id, page)\n",
        "      super(BiliVideo, self).__init__(src, width, height, **kwargs)\n",
        "\n",
        "  video = BiliVideo(id=f\"BV1TU4y1G7Je\", width=854, height=480, fs=1)\n",
        "  print(\"Video available at https://www.bilibili.com/video/{0}\".format(video.id))\n",
        "  display(video)\n",
        "\n",
        "out1 = widgets.Output()\n",
        "with out1:\n",
        "  from IPython.display import YouTubeVideo\n",
        "  video = YouTubeVideo(id=f\"0EthSI0cknI\", width=854, height=480, fs=1, rel=0)\n",
        "  print(\"Video available at https://youtube.com/watch?v=\" + video.id)\n",
        "  display(video)\n",
        "\n",
        "out = widgets.Tab([out1, out2])\n",
        "out.set_title(0, 'Youtube')\n",
        "out.set_title(1, 'Bilibili')\n",
        "\n",
        "# add event to airtable\n",
        "atform.add_event('Video 8: Ethical concerns')\n",
        "\n",
        "display(out)"
      ]
    },
    {
      "cell_type": "markdown",
      "metadata": {
        "execution": {},
        "id": "bHtnXEWhZmjj"
      },
      "source": [
        "---\n",
        "# Summary\n",
        "\n",
        "* Optimization is necessary to create Deep Learning models that are guaranteed to converge \n",
        "* Stochastic Gradient Descent and Momentum are two commonly used optimization techniques\n",
        "* RMSProp is a way of adaptive hyper parameter tuning which utilises a per-dimension learning rate\n",
        "* Poor choice of optimization objectives can lead to unforeseen, undesirable consequences \n",
        "\n",
        "If you have time left, you can read the Bonus material, where we put all together and we compare our model with a benchmark model."
      ]
    },
    {
      "cell_type": "code",
      "execution_count": 53,
      "metadata": {
        "cellView": "form",
        "execution": {},
        "id": "7wGal40LZmjj",
        "outputId": "f577aca7-35da-485b-8a8f-a114b82d2814",
        "colab": {
          "base_uri": "https://localhost:8080/",
          "height": 160
        }
      },
      "outputs": [
        {
          "output_type": "execute_result",
          "data": {
            "text/html": [
              "\n",
              " <div>\n",
              "   <a href= \"https://portal.neuromatchacademy.org/api/redirect/to/9548a279-c9f9-4586-b89c-f0ceceba5c14?data=eyJmb3JtX2lkIjogImFwcG43VmRQUnNlU29NWEVHIiwgInRhYmxlX25hbWUiOiAiVzFENF9UMSIsICJhbnN3ZXJzIjoge30sICJldmVudHMiOiBbeyJldmVudCI6ICJpbml0IiwgInRzIjogMTYzOTA1Njg5MC4xOTc2NzkzfSwgeyJldmVudCI6ICJWaWRlbyAxOiBJbnRyb2R1Y3Rpb24iLCAidHMiOiAxNjM5MDU2ODk2LjY5OTMzODR9LCB7ImV2ZW50IjogIlZpZGVvIDI6IENhc2UgU3R1ZHkgLSBNTFAgQ2xhc3NpZmljYXRpb24iLCAidHMiOiAxNjM5MDU2ODk2LjgzNzU2ODh9LCB7ImV2ZW50IjogIlZpZGVvIDM6IE9wdGltaXphdGlvbiBvZiBhbiBPYmplY3RpdmUgRnVuY3Rpb24iLCAidHMiOiAxNjM5MDU2OTExLjMxOTIwMX0sIHsiZXZlbnQiOiAiQ29kaW5nIEV4ZXJjaXNlIDM6IEltcGxlbWVudCBncmFkaWVudCBkZXNjZW50IiwgInRzIjogMTYzOTA1NjkxMS4zNzcyNTUyfSwgeyJldmVudCI6ICJDb2RpbmcgRXhlcmNpc2UgMzogSW1wbGVtZW50IGdyYWRpZW50IGRlc2NlbnQiLCAidHMiOiAxNjM5MDU2OTExLjQyMTAxNDV9LCB7ImV2ZW50IjogIlZpZGVvIDQ6IE1vbWVudHVtIiwgInRzIjogMTYzOTA1NjkxMi41Nzk5NDR9LCB7ImV2ZW50IjogIkNvZGluZyBFeGVyY2lzZSA0OiBJbXBsZW1lbnQgbW9tZW50dW0iLCAidHMiOiAxNjM5MDU2OTEyLjc5NDYwMzh9LCB7ImV2ZW50IjogIkNvZGluZyBFeGVyY2lzZSA0OiBJbXBsZW1lbnQgbW9tZW50dW0iLCAidHMiOiAxNjM5MDU2OTEyLjgyOTY5OX0sIHsiZXZlbnQiOiAiVmlkZW8gNTogT3ZlcnBhcmFtZXRlcml6YXRpb24iLCAidHMiOiAxNjM5MDU2OTE1LjM5MjkxNzl9LCB7ImV2ZW50IjogIlZpZGVvIDY6IE1pbmktYmF0Y2hlcyIsICJ0cyI6IDE2MzkwNTY5MTUuNzU0NDAyNH0sIHsiZXZlbnQiOiAiQ29kaW5nIEV4ZXJjaXNlIDY6IEltcGxlbWVudCBtaW5pYmF0Y2ggc2FtcGxpbmciLCAidHMiOiAxNjM5MDU2OTIwLjM3MjAwNTV9LCB7ImV2ZW50IjogIkNvZGluZyBFeGVyY2lzZSA2OiBJbXBsZW1lbnQgbWluaWJhdGNoIHNhbXBsaW5nIiwgInRzIjogMTYzOTA1NjkyMC4zOTc1NH0sIHsiZXZlbnQiOiAiVmlkZW8gNzogQWRhcHRpdmUgTWV0aG9kcyIsICJ0cyI6IDE2MzkwNTY5MjAuNjM0MjQxOH0sIHsiZXZlbnQiOiAiQ29kaW5nIEV4ZXJjaXNlIDc6IEltcGxlbWVudCBSTVNwcm9wIiwgInRzIjogMTYzOTA1NjkyMC42Nzc0OX0sIHsiZXZlbnQiOiAiQ29kaW5nIEV4ZXJjaXNlIDc6IEltcGxlbWVudCBSTVNwcm9wIiwgInRzIjogMTYzOTA1NjkyMC43MTgyOTM3fSwgeyJldmVudCI6ICJWaWRlbyA4OiBFdGhpY2FsIGNvbmNlcm5zIiwgInRzIjogMTYzOTA1NjkyMS4wNzE0MTUyfSwgeyJldmVudCI6ICJ1cmwgZ2VuZXJhdGVkIiwgInRzIjogMTYzOTA1NjkyMS4wOTA0MTN9XX0%3D\" target=\"_blank\">\n",
              "   <img src=\"https://github.com/NeuromatchAcademy/course-content-dl/blob/main/tutorials/static/SurveyButton.png?raw=1\"\n",
              " alt=\"button link end of day Survey\" style=\"width:410px\"></a>\n",
              "   </div>"
            ],
            "text/plain": [
              "<IPython.core.display.HTML object>"
            ]
          },
          "metadata": {},
          "execution_count": 53
        }
      ],
      "source": [
        "# @title Airtable Submission Link\n",
        "from IPython import display as IPydisplay\n",
        "IPydisplay.HTML(\n",
        "   f\"\"\"\n",
        " <div>\n",
        "   <a href= \"{atform.url()}\" target=\"_blank\">\n",
        "   <img src=\"https://github.com/NeuromatchAcademy/course-content-dl/blob/main/tutorials/static/SurveyButton.png?raw=1\"\n",
        " alt=\"button link end of day Survey\" style=\"width:410px\"></a>\n",
        "   </div>\"\"\" )"
      ]
    },
    {
      "cell_type": "markdown",
      "metadata": {
        "execution": {},
        "id": "cXhoE0asZmjj"
      },
      "source": [
        "---\n",
        "# Bonus: Putting it all together\n",
        "\n",
        "*Time estimate: ~40 mins*"
      ]
    },
    {
      "cell_type": "markdown",
      "metadata": {
        "execution": {},
        "id": "hAhtUldeZmjj"
      },
      "source": [
        "We have progressively built a sophisticated optimization algorithm which is able to deal with a non-convex, poor-conditioned problem concerning tens of thousands of training examples. Now we present _you_ with a small challenge: beat us! :P\n",
        "\n",
        "Your mission is to train an MLP model that can compete with a benchmark model which we have pre-trained for you. In this section you will be able to use the full Pytorch power: loading the data, defining the model, sampling minibatches as well as Pytorch's **optimizer implementations**. \n",
        "\n",
        "There is a big engineering component behind the design of optimizers and their implementation can sometimes become tricky. So unless you are directly doing research in optimization, it's recommended to use an implementation provided by a widely reviewed open-source library."
      ]
    },
    {
      "cell_type": "code",
      "execution_count": 54,
      "metadata": {
        "cellView": "form",
        "execution": {},
        "id": "LA0FbLOdZmjj",
        "outputId": "52a99177-8582-4609-a9b5-705e81e063e4",
        "colab": {
          "base_uri": "https://localhost:8080/",
          "height": 582,
          "referenced_widgets": [
            "68e100eadb5548a185d4c9f7deec13b9",
            "7b387c3e91e040b5943b9915a810fe7b",
            "fde8731b22fb4dadb57d5a9fd9c5ca98",
            "116b23a208b84cf7825f91e8fc1cf652",
            "2b00735a6f6e4916b847a18254008ff1",
            "c217dbfb28ea4c97b694537445e77081"
          ]
        }
      },
      "outputs": [
        {
          "output_type": "display_data",
          "data": {
            "application/vnd.jupyter.widget-view+json": {
              "model_id": "68e100eadb5548a185d4c9f7deec13b9",
              "version_minor": 0,
              "version_major": 2
            },
            "text/plain": [
              "Tab(children=(Output(), Output()), _titles={'0': 'Youtube', '1': 'Bilibili'})"
            ]
          },
          "metadata": {}
        }
      ],
      "source": [
        "# @title Video 9: Putting it all together\n",
        "from ipywidgets import widgets\n",
        "\n",
        "out2 = widgets.Output()\n",
        "with out2:\n",
        "  from IPython.display import IFrame\n",
        "  class BiliVideo(IFrame):\n",
        "    def __init__(self, id, page=1, width=400, height=300, **kwargs):\n",
        "      self.id=id\n",
        "      src = \"https://player.bilibili.com/player.html?bvid={0}&page={1}\".format(id, page)\n",
        "      super(BiliVideo, self).__init__(src, width, height, **kwargs)\n",
        "\n",
        "  video = BiliVideo(id=f\"BV1MK4y1u7u2\", width=854, height=480, fs=1)\n",
        "  print(\"Video available at https://www.bilibili.com/video/{0}\".format(video.id))\n",
        "  display(video)\n",
        "\n",
        "out1 = widgets.Output()\n",
        "with out1:\n",
        "  from IPython.display import YouTubeVideo\n",
        "  video = YouTubeVideo(id=f\"DP9c13vLiOM\", width=854, height=480, fs=1, rel=0)\n",
        "  print(\"Video available at https://youtube.com/watch?v=\" + video.id)\n",
        "  display(video)\n",
        "\n",
        "out = widgets.Tab([out1, out2])\n",
        "out.set_title(0, 'Youtube')\n",
        "out.set_title(1, 'Bilibili')\n",
        "\n",
        "# add event to airtable\n",
        "atform.add_event('Video 9: Putting it all together')\n",
        "\n",
        "display(out)"
      ]
    },
    {
      "cell_type": "code",
      "execution_count": 55,
      "metadata": {
        "cellView": "form",
        "execution": {},
        "id": "ogsUcOKxZmjk",
        "outputId": "69ddb027-2b9a-4cb7-8f35-4f5c168712b0",
        "colab": {
          "base_uri": "https://localhost:8080/"
        }
      },
      "outputs": [
        {
          "output_type": "stream",
          "name": "stdout",
          "text": [
            "GPU is enabled in this notebook.\n"
          ]
        }
      ],
      "source": [
        "# @title Download parameters of the benchmark model\n",
        "import requests\n",
        "\n",
        "fname = 'benchmark_model.pt'\n",
        "url = \"https://osf.io/sj4e8/download\"\n",
        "r = requests.get(url, allow_redirects=True)\n",
        "with open(fname, 'wb') as fh:\n",
        "  fh.write(r.content)\n",
        "\n",
        "# Load the benchmark model's parameters\n",
        "DEVICE = set_device()\n",
        "if DEVICE == \"cuda\":\n",
        "  benchmark_state_dict = torch.load(fname)\n",
        "else:\n",
        "  benchmark_state_dict = torch.load(fname, map_location=torch.device('cpu'))"
      ]
    },
    {
      "cell_type": "code",
      "execution_count": 56,
      "metadata": {
        "execution": {},
        "id": "FUQGEhGiZmjk"
      },
      "outputs": [],
      "source": [
        "# Create MLP object and update weights with those of saved model\n",
        "benchmark_model = MLP(in_dim=784, out_dim=10,\n",
        "                      hidden_dims=[200, 100, 50]).to(DEVICE)\n",
        "benchmark_model.load_state_dict(benchmark_state_dict)\n",
        "\n",
        "\n",
        "# Define helper function to evaluate models\n",
        "def eval_model(model, data_loader, num_batches=np.inf, device='cpu'):\n",
        "  \"\"\"\n",
        "  To evaluate a given model\n",
        "\n",
        "  Args:\n",
        "    model: nn.Module derived class\n",
        "      The model which is to be evaluated\n",
        "    data_loader: Iterable\n",
        "      A configured dataloading utility\n",
        "    num_batches: Integer\n",
        "      Size of minibatches\n",
        "    device: String\n",
        "      Sets the device. CUDA if available, CPU otherwise\n",
        "\n",
        "  Returns:\n",
        "    mean of log loss and mean of log accuracy\n",
        "  \"\"\"\n",
        "\n",
        "  loss_log, acc_log = [], []\n",
        "  model.to(device=device)\n",
        "\n",
        "  # We are just evaluating the model, no need to compute gradients\n",
        "  with torch.no_grad():\n",
        "    for batch_id, batch in enumerate(data_loader):\n",
        "      # If we only evaluate a number of batches, stop after we reach that number\n",
        "      if batch_id > num_batches:\n",
        "        break\n",
        "      # Extract minibatch data\n",
        "      data, labels = batch[0].to(device), batch[1].to(device)\n",
        "      # Evaluate model and loss on minibatch\n",
        "      preds = model(data)\n",
        "      loss_log.append(loss_fn(preds, labels).item())\n",
        "      acc_log.append(torch.mean(1. * (preds.argmax(dim=1) == labels)).item())\n",
        "\n",
        "  return np.mean(loss_log), np.mean(acc_log)"
      ]
    },
    {
      "cell_type": "markdown",
      "metadata": {
        "execution": {},
        "id": "cJ3KJg-kZmjk"
      },
      "source": [
        "We define an optimizer in the following steps:\n",
        "\n",
        "1. Load  the corresponding class that implements the parameter updates and other internal management activities, including:\n",
        "    - create auxiliary variables,\n",
        "    - update moving averages,\n",
        "    - adjust learning rate.\n",
        "2. Pass the parameters of the Pytorch model that the optimizer has control over. Note that different parameter groups can potentially be controlled by different optimizers.\n",
        "3. Specify hyperparameters, including learning rate, momentum, moving average factors, etc.\n",
        "\n"
      ]
    },
    {
      "cell_type": "markdown",
      "metadata": {
        "execution": {},
        "id": "ENkLGouPZmjk"
      },
      "source": [
        "## Exercise Bonus: Train your own model\n",
        "\n",
        "Now, train the model with your preferred optimizer and find a good combination of hyperparameter settings."
      ]
    },
    {
      "cell_type": "code",
      "execution_count": 57,
      "metadata": {
        "execution": {},
        "id": "oNR-VBNnZmjl"
      },
      "outputs": [],
      "source": [
        "#################################################\n",
        "## TODO for students: adjust training settings ##\n",
        "\n",
        "# The three parameters below are in your full control\n",
        "MAX_EPOCHS = 2  # select number of epochs to train\n",
        "LR = 1e-5  # choose the step size\n",
        "BATCH_SIZE = 64  # number of examples per minibatch\n",
        "\n",
        "# Define the model and associated optimizer -- you may change its architecture!\n",
        "model = MLP(in_dim=784, out_dim=10, hidden_dims=[200, 100, 50]).to(DEVICE)\n",
        "\n",
        "# You can take your pick from many different optimizers\n",
        "# Check the optimizer documentation and hyperparameter meaning before using!\n",
        "# More details on Pytorch optimizers: https://pytorch.org/docs/stable/optim.html\n",
        "# optimizer = torch.optim.SGD(model.parameters(), lr=LR, momentum=0.9)\n",
        "# optimizer = torch.optim.RMSprop(model.parameters(), lr=LR, alpha=0.99)\n",
        "# optimizer = torch.optim.Adagrad(model.parameters(), lr=LR)\n",
        "optimizer = torch.optim.Adam(model.parameters(), lr=LR)\n",
        "#################################################"
      ]
    },
    {
      "cell_type": "code",
      "execution_count": 58,
      "metadata": {
        "execution": {},
        "id": "PeMIQt6qZmjl",
        "outputId": "8200ee7b-4951-4464-9a56-ab94dd38f308",
        "colab": {
          "base_uri": "https://localhost:8080/",
          "height": 275,
          "referenced_widgets": [
            "6bf217dfae4549d094ecbef3396ad64d",
            "07cdc6d77e074148bff020da6edfcfd6",
            "39680165ce8b4c419e0c4184b49a3a74",
            "b7b26f5f99ed4856acb68246f9e95fa5",
            "c1bf739f30674165b24fa4b23562ddd7",
            "b8785a297b1d403c9e82efd406329bad",
            "dcc942cb7eba4aedab4354562d2dfc06",
            "a15db78481d747c18c2231eb433be11c",
            "2f1504f944c7406a955527dc13327e97",
            "b496cc09ef3a4e359027e28039f70511",
            "4cb4f32b24244e09aaafc13e0e5119e8"
          ]
        }
      },
      "outputs": [
        {
          "output_type": "stream",
          "name": "stdout",
          "text": [
            "Random seed 2021 has been set.\n"
          ]
        },
        {
          "output_type": "display_data",
          "data": {
            "application/vnd.jupyter.widget-view+json": {
              "model_id": "6bf217dfae4549d094ecbef3396ad64d",
              "version_minor": 0,
              "version_major": 2
            },
            "text/plain": [
              "  0%|          | 0/2 [00:00<?, ?it/s]"
            ]
          },
          "metadata": {}
        },
        {
          "output_type": "stream",
          "name": "stdout",
          "text": [
            "[VALID] Epoch 1 - Batch 200 - Loss: 2.235 - Acc: 38.174%\n",
            "[TRAIN] Epoch 1 - Batch 200 - Loss: 2.274 - Acc: 30.945%\n",
            "[VALID] Epoch 1 - Batch 400 - Loss: 2.067 - Acc: 52.773%\n",
            "[TRAIN] Epoch 1 - Batch 400 - Loss: 2.166 - Acc: 44.289%\n",
            "[VALID] Epoch 1 - Batch 600 - Loss: 1.789 - Acc: 56.826%\n",
            "[TRAIN] Epoch 1 - Batch 600 - Loss: 1.935 - Acc: 55.352%\n",
            "[VALID] Epoch 2 - Batch 200 - Loss: 1.265 - Acc: 69.561%\n",
            "[TRAIN] Epoch 2 - Batch 200 - Loss: 1.373 - Acc: 66.117%\n",
            "[VALID] Epoch 2 - Batch 400 - Loss: 1.072 - Acc: 77.607%\n",
            "[TRAIN] Epoch 2 - Batch 400 - Loss: 1.168 - Acc: 74.141%\n",
            "[VALID] Epoch 2 - Batch 600 - Loss: 0.928 - Acc: 80.967%\n",
            "[TRAIN] Epoch 2 - Batch 600 - Loss: 0.997 - Acc: 79.094%\n"
          ]
        }
      ],
      "source": [
        "set_seed(seed=SEED)\n",
        "# Print training stats every LOG_FREQ minibatches\n",
        "LOG_FREQ = 200\n",
        "# Frequency for evaluating the validation metrics\n",
        "VAL_FREQ = 200\n",
        "# Load data using a Pytorch Dataset\n",
        "train_set_orig, test_set_orig = load_mnist_data(change_tensors=False)\n",
        "\n",
        "# We separate 10,000 training samples to create a validation set\n",
        "train_set_orig, val_set_orig = torch.utils.data.random_split(train_set_orig, [50000, 10000])\n",
        "\n",
        "# Create the corresponding DataLoaders for training and test\n",
        "g_seed = torch.Generator()\n",
        "g_seed.manual_seed(SEED)\n",
        "\n",
        "train_loader = torch.utils.data.DataLoader(train_set_orig,\n",
        "                                           shuffle=True,\n",
        "                                           batch_size=BATCH_SIZE,\n",
        "                                           num_workers=2,\n",
        "                                           worker_init_fn=seed_worker,\n",
        "                                           generator=g_seed)\n",
        "val_loader = torch.utils.data.DataLoader(val_set_orig,\n",
        "                                         shuffle=True,\n",
        "                                         batch_size=256,\n",
        "                                         num_workers=2,\n",
        "                                         worker_init_fn=seed_worker,\n",
        "                                         generator=g_seed)\n",
        "test_loader = torch.utils.data.DataLoader(test_set_orig,\n",
        "                                          batch_size=256,\n",
        "                                          num_workers=2,\n",
        "                                          worker_init_fn=seed_worker,\n",
        "                                          generator=g_seed)\n",
        "\n",
        "# Run training\n",
        "metrics = {'train_loss':[],\n",
        "           'train_acc':[],\n",
        "           'val_loss':[],\n",
        "           'val_acc':[],\n",
        "           'val_idx':[]}\n",
        "\n",
        "step_idx = 0\n",
        "for epoch in tqdm(range(MAX_EPOCHS)):\n",
        "\n",
        "  running_loss, running_acc = 0., 0.\n",
        "\n",
        "  for batch_id, batch in enumerate(train_loader):\n",
        "    step_idx += 1\n",
        "    # Extract minibatch data and labels\n",
        "    data, labels = batch[0].to(DEVICE), batch[1].to(DEVICE)\n",
        "    # Just like before, refresh gradient accumulators.\n",
        "    # Note that this is now a method of the optimizer.\n",
        "    optimizer.zero_grad()\n",
        "    # Evaluate model and loss on minibatch\n",
        "    preds = model(data)\n",
        "    loss = loss_fn(preds, labels)\n",
        "    acc = torch.mean(1.0 * (preds.argmax(dim=1) == labels))\n",
        "    # Compute gradients\n",
        "    loss.backward()\n",
        "    # Update parameters\n",
        "    # Note how all the magic in the update of the parameters is encapsulated by\n",
        "    # the optimizer class.\n",
        "    optimizer.step()\n",
        "    # Log metrics for plotting\n",
        "    metrics['train_loss'].append(loss.cpu().item())\n",
        "    metrics['train_acc'].append(acc.cpu().item())\n",
        "\n",
        "    if batch_id % VAL_FREQ == (VAL_FREQ - 1):\n",
        "      # Get an estimate of the validation accuracy with 100 batches\n",
        "      val_loss, val_acc = eval_model(model, val_loader,\n",
        "                                     num_batches=100,\n",
        "                                     device=DEVICE)\n",
        "      metrics['val_idx'].append(step_idx)\n",
        "      metrics['val_loss'].append(val_loss)\n",
        "      metrics['val_acc'].append(val_acc)\n",
        "\n",
        "      print(f\"[VALID] Epoch {epoch + 1} - Batch {batch_id + 1} - \"\n",
        "            f\"Loss: {val_loss:.3f} - Acc: {100*val_acc:.3f}%\")\n",
        "\n",
        "    # print statistics\n",
        "    running_loss += loss.cpu().item()\n",
        "    running_acc += acc.cpu().item()\n",
        "    # Print every LOG_FREQ minibatches\n",
        "    if batch_id % LOG_FREQ == (LOG_FREQ-1):\n",
        "      print(f\"[TRAIN] Epoch {epoch + 1} - Batch {batch_id + 1} - \"\n",
        "            f\"Loss: {running_loss / LOG_FREQ:.3f} - \"\n",
        "            f\"Acc: {100 * running_acc / LOG_FREQ:.3f}%\")\n",
        "\n",
        "      running_loss, running_acc = 0., 0."
      ]
    },
    {
      "cell_type": "code",
      "execution_count": 59,
      "metadata": {
        "execution": {},
        "id": "fqbHHgoxZmjl",
        "outputId": "f02c5f86-5d93-4c96-9afd-8a434c7c5fd4",
        "colab": {
          "base_uri": "https://localhost:8080/",
          "height": 286
        }
      },
      "outputs": [
        {
          "output_type": "display_data",
          "data": {
            "image/png": "[encoded data removed]",
            "text/plain": [
              "<Figure size 720x288 with 2 Axes>"
            ]
          },
          "metadata": {
            "image/png": {
              "width": 701,
              "height": 269
            },
            "needs_background": "light"
          }
        }
      ],
      "source": [
        "fig, ax = plt.subplots(1, 2, figsize=(10, 4))\n",
        "\n",
        "ax[0].plot(range(len(metrics['train_loss'])), metrics['train_loss'],\n",
        "           alpha=0.8, label='Train')\n",
        "ax[0].plot(metrics['val_idx'], metrics['val_loss'], label='Valid')\n",
        "ax[0].set_xlabel('Iteration')\n",
        "ax[0].set_ylabel('Loss')\n",
        "ax[0].legend()\n",
        "\n",
        "ax[1].plot(range(len(metrics['train_acc'])), metrics['train_acc'],\n",
        "           alpha=0.8, label='Train')\n",
        "ax[1].plot(metrics['val_idx'], metrics['val_acc'], label='Valid')\n",
        "ax[1].set_xlabel('Iteration')\n",
        "ax[1].set_ylabel('Accuracy')\n",
        "ax[1].legend()\n",
        "plt.tight_layout()\n",
        "plt.show()"
      ]
    },
    {
      "cell_type": "markdown",
      "metadata": {
        "execution": {},
        "id": "MTCP4ym8Zmjl"
      },
      "source": [
        "## Think! Bonus: Metrics\n",
        "\n",
        "Which metric did you optimize when searching for the right configuration? The training set loss? Accuracy? Validation/test set metrics? Why? Discuss!"
      ]
    },
    {
      "cell_type": "code",
      "execution_count": 60,
      "metadata": {
        "execution": {},
        "id": "V_qRKXKSZmjl"
      },
      "outputs": [],
      "source": [
        "# to_remove explanation\n",
        "\n",
        "\"\"\"\n",
        "  Remember the discussion in Section 1 about surrogate objectives.\n",
        "Our optimization methods minimize the loss, but at the end of the day we care about test accuracy.\n",
        "\n",
        "  However, we can't directly optimize for test accuracy and the finite size of our\n",
        "datasets lead us to (cross-)validation:\n",
        "\n",
        "  1. We minimize the loss (empirical risk minimization) on our *training set*.\n",
        "  2. We choose models and hyperparameters on the *validation set*.\n",
        "  3. We use the *test set* in order to report the final performance of our model on unseen data.\n",
        "\"\"\";"
      ]
    },
    {
      "cell_type": "markdown",
      "metadata": {
        "execution": {},
        "id": "MTPufrmJZmjl"
      },
      "source": [
        "### Evaluation\n",
        "\n",
        "We _finally_ can evaluate and compare the performance of the models on previously unseen examples. \n",
        "\n",
        "Which model would you keep? (\\*drum roll*)    "
      ]
    },
    {
      "cell_type": "code",
      "execution_count": 61,
      "metadata": {
        "execution": {},
        "id": "KlTahTOYZmjm",
        "outputId": "a3248399-3f2b-4b5f-c4ff-4ec7ad01739b",
        "colab": {
          "base_uri": "https://localhost:8080/"
        }
      },
      "outputs": [
        {
          "output_type": "stream",
          "name": "stdout",
          "text": [
            "Your model...\n",
            "Train Loss 0.507 / Test Loss 0.479\n",
            "Train Accuracy 84.599% / Test Accuracy 85.400%\n",
            "\n",
            "Benchmark model\n",
            "Train Loss 0.011 / Test Loss 0.025\n",
            "Train Accuracy 99.784% / Test Accuracy 99.316%\n"
          ]
        }
      ],
      "source": [
        "print('Your model...')\n",
        "train_loss, train_accuracy = eval_model(my_model, train_loader, device=DEVICE)\n",
        "test_loss, test_accuracy = eval_model(my_model, test_loader, device=DEVICE)\n",
        "print(f'Train Loss {train_loss:.3f} / Test Loss {test_loss:.3f}')\n",
        "print(f'Train Accuracy {100*train_accuracy:.3f}% / Test Accuracy {100*test_accuracy:.3f}%')\n",
        "\n",
        "print('\\nBenchmark model')\n",
        "train_loss, train_accuracy = eval_model(benchmark_model, train_loader, device=DEVICE)\n",
        "test_loss, test_accuracy = eval_model(benchmark_model, test_loader, device=DEVICE)\n",
        "print(f'Train Loss {train_loss:.3f} / Test Loss {test_loss:.3f}')\n",
        "print(f'Train Accuracy {100*train_accuracy:.3f}% / Test Accuracy {100*test_accuracy:.3f}%')"
      ]
    }
  ],
  "metadata": {
    "accelerator": "GPU",
    "colab": {
      "collapsed_sections": [],
      "name": "W1D4_Tutorial1",
      "provenance": [],
      "toc_visible": true,
      "include_colab_link": true
    },
    "kernel": {
      "display_name": "Python 3",
      "language": "python",
      "name": "python3"
    },
    "kernelspec": {
      "display_name": "Python 3",
      "language": "python",
      "name": "python3"
    },
    "language_info": {
      "codemirror_mode": {
        "name": "ipython",
        "version": 3
      },
      "file_extension": ".py",
      "mimetype": "text/x-python",
      "name": "python",
      "nbconvert_exporter": "python",
      "pygments_lexer": "ipython3",
      "version": "3.7.11"
    },
    "toc-autonumbering": true,
    "varInspector": {
      "cols": {
        "lenName": 16,
        "lenType": 16,
        "lenVar": 40
      },
      "kernels_config": {
        "python": {
          "delete_cmd_postfix": "",
          "delete_cmd_prefix": "del ",
          "library": "var_list.py",
          "varRefreshCmd": "print(var_dic_list())"
        },
        "r": {
          "delete_cmd_postfix": ") ",
          "delete_cmd_prefix": "rm(",
          "library": "var_list.r",
          "varRefreshCmd": "cat(var_dic_list()) "
        }
      },
      "types_to_exclude": [
        "module",
        "function",
        "builtin_function_or_method",
        "instance",
        "_Feature"
      ],
      "window_display": false
    },
    "widgets": {
      "application/vnd.jupyter.widget-state+json": {
        "43da6db38a134038b211eeb197489f99": {
          "model_module": "@jupyter-widgets/controls",
          "model_name": "TabModel",
          "model_module_version": "1.5.0",
          "state": {
            "_view_name": "TabView",
            "_dom_classes": [],
            "_titles": {
              "0": "Youtube",
              "1": "Bilibili"
            },
            "_model_name": "TabModel",
            "_view_module": "@jupyter-widgets/controls",
            "selected_index": 0,
            "_model_module_version": "1.5.0",
            "_view_count": null,
            "_view_module_version": "1.5.0",
            "box_style": "",
            "layout": "IPY_MODEL_73209a2f60304252b1b7162c136a2827",
            "_model_module": "@jupyter-widgets/controls",
            "children": [
              "IPY_MODEL_c51eacfb3671435488e8ba848cebf581",
              "IPY_MODEL_f18f09f7f35a49419b812b446093e2b1"
            ]
          }
        },
        "73209a2f60304252b1b7162c136a2827": {
          "model_module": "@jupyter-widgets/base",
          "model_name": "LayoutModel",
          "model_module_version": "1.2.0",
          "state": {
            "_view_name": "LayoutView",
            "grid_template_rows": null,
            "right": null,
            "justify_content": null,
            "_view_module": "@jupyter-widgets/base",
            "overflow": null,
            "_model_module_version": "1.2.0",
            "_view_count": null,
            "flex_flow": null,
            "width": null,
            "min_width": null,
            "border": null,
            "align_items": null,
            "bottom": null,
            "_model_module": "@jupyter-widgets/base",
            "top": null,
            "grid_column": null,
            "overflow_y": null,
            "overflow_x": null,
            "grid_auto_flow": null,
            "grid_area": null,
            "grid_template_columns": null,
            "flex": null,
            "_model_name": "LayoutModel",
            "justify_items": null,
            "grid_row": null,
            "max_height": null,
            "align_content": null,
            "visibility": null,
            "align_self": null,
            "height": null,
            "min_height": null,
            "padding": null,
            "grid_auto_rows": null,
            "grid_gap": null,
            "max_width": null,
            "order": null,
            "_view_module_version": "1.2.0",
            "grid_template_areas": null,
            "object_position": null,
            "object_fit": null,
            "grid_auto_columns": null,
            "margin": null,
            "display": null,
            "left": null
          }
        },
        "c51eacfb3671435488e8ba848cebf581": {
          "model_module": "@jupyter-widgets/output",
          "model_name": "OutputModel",
          "model_module_version": "1.0.0",
          "state": {
            "_view_name": "OutputView",
            "msg_id": "",
            "_dom_classes": [],
            "_model_name": "OutputModel",
            "outputs": [
              {
                "output_type": "stream",
                "name": "stdout",
                "text": [
                  "Video available at https://youtube.com/watch?v=zm9oekdkJbQ\n"
                ]
              },
              {
                "output_type": "display_data",
                "data": {
                  "text/html": "\n        <iframe\n            width=\"854\"\n            height=\"480\"\n            src=\"https://www.youtube.com/embed/zm9oekdkJbQ?fs=1&rel=0\"\n            frameborder=\"0\"\n            allowfullscreen\n        ></iframe>\n        ",
                  "text/plain": "<IPython.lib.display.YouTubeVideo at 0x7f854f4cae10>",
                  "image/jpeg": "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\n"
                },
                "metadata": {}
              }
            ],
            "_view_module": "@jupyter-widgets/output",
            "_model_module_version": "1.0.0",
            "_view_count": null,
            "_view_module_version": "1.0.0",
            "layout": "IPY_MODEL_98c8e2fa67db4fbc8ac84a6a8e15fb6c",
            "_model_module": "@jupyter-widgets/output"
          }
        },
        "f18f09f7f35a49419b812b446093e2b1": {
          "model_module": "@jupyter-widgets/output",
          "model_name": "OutputModel",
          "model_module_version": "1.0.0",
          "state": {
            "_view_name": "OutputView",
            "msg_id": "",
            "_dom_classes": [],
            "_model_name": "OutputModel",
            "outputs": [
              {
                "output_type": "stream",
                "name": "stdout",
                "text": [
                  "Video available at https://www.bilibili.com/video/BV1VB4y1K7Vr\n"
                ]
              },
              {
                "output_type": "display_data",
                "data": {
                  "text/html": "\n        <iframe\n            width=\"854\"\n            height=\"480\"\n            src=\"https://player.bilibili.com/player.html?bvid=BV1VB4y1K7Vr&page=1?fs=1\"\n            frameborder=\"0\"\n            allowfullscreen\n        ></iframe>\n        ",
                  "text/plain": "<__main__.BiliVideo at 0x7f854f4cafd0>"
                },
                "metadata": {}
              }
            ],
            "_view_module": "@jupyter-widgets/output",
            "_model_module_version": "1.0.0",
            "_view_count": null,
            "_view_module_version": "1.0.0",
            "layout": "IPY_MODEL_9a4fbce36f054801ab4c9c6d4b14ff23",
            "_model_module": "@jupyter-widgets/output"
          }
        },
        "98c8e2fa67db4fbc8ac84a6a8e15fb6c": {
          "model_module": "@jupyter-widgets/base",
          "model_name": "LayoutModel",
          "model_module_version": "1.2.0",
          "state": {
            "_view_name": "LayoutView",
            "grid_template_rows": null,
            "right": null,
            "justify_content": null,
            "_view_module": "@jupyter-widgets/base",
            "overflow": null,
            "_model_module_version": "1.2.0",
            "_view_count": null,
            "flex_flow": null,
            "width": null,
            "min_width": null,
            "border": null,
            "align_items": null,
            "bottom": null,
            "_model_module": "@jupyter-widgets/base",
            "top": null,
            "grid_column": null,
            "overflow_y": null,
            "overflow_x": null,
            "grid_auto_flow": null,
            "grid_area": null,
            "grid_template_columns": null,
            "flex": null,
            "_model_name": "LayoutModel",
            "justify_items": null,
            "grid_row": null,
            "max_height": null,
            "align_content": null,
            "visibility": null,
            "align_self": null,
            "height": null,
            "min_height": null,
            "padding": null,
            "grid_auto_rows": null,
            "grid_gap": null,
            "max_width": null,
            "order": null,
            "_view_module_version": "1.2.0",
            "grid_template_areas": null,
            "object_position": null,
            "object_fit": null,
            "grid_auto_columns": null,
            "margin": null,
            "display": null,
            "left": null
          }
        },
        "9a4fbce36f054801ab4c9c6d4b14ff23": {
          "model_module": "@jupyter-widgets/base",
          "model_name": "LayoutModel",
          "model_module_version": "1.2.0",
          "state": {
            "_view_name": "LayoutView",
            "grid_template_rows": null,
            "right": null,
            "justify_content": null,
            "_view_module": "@jupyter-widgets/base",
            "overflow": null,
            "_model_module_version": "1.2.0",
            "_view_count": null,
            "flex_flow": null,
            "width": null,
            "min_width": null,
            "border": null,
            "align_items": null,
            "bottom": null,
            "_model_module": "@jupyter-widgets/base",
            "top": null,
            "grid_column": null,
            "overflow_y": null,
            "overflow_x": null,
            "grid_auto_flow": null,
            "grid_area": null,
            "grid_template_columns": null,
            "flex": null,
            "_model_name": "LayoutModel",
            "justify_items": null,
            "grid_row": null,
            "max_height": null,
            "align_content": null,
            "visibility": null,
            "align_self": null,
            "height": null,
            "min_height": null,
            "padding": null,
            "grid_auto_rows": null,
            "grid_gap": null,
            "max_width": null,
            "order": null,
            "_view_module_version": "1.2.0",
            "grid_template_areas": null,
            "object_position": null,
            "object_fit": null,
            "grid_auto_columns": null,
            "margin": null,
            "display": null,
            "left": null
          }
        },
        "f5a48d6ce28042729cd8154824da810d": {
          "model_module": "@jupyter-widgets/controls",
          "model_name": "TabModel",
          "model_module_version": "1.5.0",
          "state": {
            "_view_name": "TabView",
            "_dom_classes": [],
            "_titles": {
              "0": "Youtube",
              "1": "Bilibili"
            },
            "_model_name": "TabModel",
            "_view_module": "@jupyter-widgets/controls",
            "selected_index": 0,
            "_model_module_version": "1.5.0",
            "_view_count": null,
            "_view_module_version": "1.5.0",
            "box_style": "",
            "layout": "IPY_MODEL_450220d112874fafb061e13b88599f8e",
            "_model_module": "@jupyter-widgets/controls",
            "children": [
              "IPY_MODEL_9d7ccdb88f104c7bacd4bba3b5f393ea",
              "IPY_MODEL_804d5fd9685d4fc680ea9e7d54fafe0c"
            ]
          }
        },
        "450220d112874fafb061e13b88599f8e": {
          "model_module": "@jupyter-widgets/base",
          "model_name": "LayoutModel",
          "model_module_version": "1.2.0",
          "state": {
            "_view_name": "LayoutView",
            "grid_template_rows": null,
            "right": null,
            "justify_content": null,
            "_view_module": "@jupyter-widgets/base",
            "overflow": null,
            "_model_module_version": "1.2.0",
            "_view_count": null,
            "flex_flow": null,
            "width": null,
            "min_width": null,
            "border": null,
            "align_items": null,
            "bottom": null,
            "_model_module": "@jupyter-widgets/base",
            "top": null,
            "grid_column": null,
            "overflow_y": null,
            "overflow_x": null,
            "grid_auto_flow": null,
            "grid_area": null,
            "grid_template_columns": null,
            "flex": null,
            "_model_name": "LayoutModel",
            "justify_items": null,
            "grid_row": null,
            "max_height": null,
            "align_content": null,
            "visibility": null,
            "align_self": null,
            "height": null,
            "min_height": null,
            "padding": null,
            "grid_auto_rows": null,
            "grid_gap": null,
            "max_width": null,
            "order": null,
            "_view_module_version": "1.2.0",
            "grid_template_areas": null,
            "object_position": null,
            "object_fit": null,
            "grid_auto_columns": null,
            "margin": null,
            "display": null,
            "left": null
          }
        },
        "9d7ccdb88f104c7bacd4bba3b5f393ea": {
          "model_module": "@jupyter-widgets/output",
          "model_name": "OutputModel",
          "model_module_version": "1.0.0",
          "state": {
            "_view_name": "OutputView",
            "msg_id": "",
            "_dom_classes": [],
            "_model_name": "OutputModel",
            "outputs": [
              {
                "output_type": "stream",
                "name": "stdout",
                "text": [
                  "Video available at https://youtube.com/watch?v=pJc2ENhYbqA\n"
                ]
              },
              {
                "output_type": "display_data",
                "data": {
                  "text/html": "\n        <iframe\n            width=\"854\"\n            height=\"480\"\n            src=\"https://www.youtube.com/embed/pJc2ENhYbqA?fs=1&rel=0\"\n            frameborder=\"0\"\n            allowfullscreen\n        ></iframe>\n        ",
                  "text/plain": "<IPython.lib.display.YouTubeVideo at 0x7f8552183bd0>",
                  "image/jpeg": "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\n"
                },
                "metadata": {}
              }
            ],
            "_view_module": "@jupyter-widgets/output",
            "_model_module_version": "1.0.0",
            "_view_count": null,
            "_view_module_version": "1.0.0",
            "layout": "IPY_MODEL_1e7840fdcd3a466fb23157a0d743a082",
            "_model_module": "@jupyter-widgets/output"
          }
        },
        "804d5fd9685d4fc680ea9e7d54fafe0c": {
          "model_module": "@jupyter-widgets/output",
          "model_name": "OutputModel",
          "model_module_version": "1.0.0",
          "state": {
            "_view_name": "OutputView",
            "msg_id": "",
            "_dom_classes": [],
            "_model_name": "OutputModel",
            "outputs": [
              {
                "output_type": "stream",
                "name": "stdout",
                "text": [
                  "Video available at https://www.bilibili.com/video/BV1GB4y1K7Ha"
                ]
              },
              {
                "output_type": "stream",
                "name": "stdout",
                "text": [
                  "\n"
                ]
              },
              {
                "output_type": "display_data",
                "data": {
                  "text/html": "\n        <iframe\n            width=\"854\"\n            height=\"480\"\n            src=\"https://player.bilibili.com/player.html?bvid=BV1GB4y1K7Ha&page=1?fs=1\"\n            frameborder=\"0\"\n            allowfullscreen\n        ></iframe>\n        ",
                  "text/plain": "<__main__.BiliVideo at 0x7f86543fb050>"
                },
                "metadata": {}
              }
            ],
            "_view_module": "@jupyter-widgets/output",
            "_model_module_version": "1.0.0",
            "_view_count": null,
            "_view_module_version": "1.0.0",
            "layout": "IPY_MODEL_1fac3a0f173548f88541d6720dd8fe35",
            "_model_module": "@jupyter-widgets/output"
          }
        },
        "1e7840fdcd3a466fb23157a0d743a082": {
          "model_module": "@jupyter-widgets/base",
          "model_name": "LayoutModel",
          "model_module_version": "1.2.0",
          "state": {
            "_view_name": "LayoutView",
            "grid_template_rows": null,
            "right": null,
            "justify_content": null,
            "_view_module": "@jupyter-widgets/base",
            "overflow": null,
            "_model_module_version": "1.2.0",
            "_view_count": null,
            "flex_flow": null,
            "width": null,
            "min_width": null,
            "border": null,
            "align_items": null,
            "bottom": null,
            "_model_module": "@jupyter-widgets/base",
            "top": null,
            "grid_column": null,
            "overflow_y": null,
            "overflow_x": null,
            "grid_auto_flow": null,
            "grid_area": null,
            "grid_template_columns": null,
            "flex": null,
            "_model_name": "LayoutModel",
            "justify_items": null,
            "grid_row": null,
            "max_height": null,
            "align_content": null,
            "visibility": null,
            "align_self": null,
            "height": null,
            "min_height": null,
            "padding": null,
            "grid_auto_rows": null,
            "grid_gap": null,
            "max_width": null,
            "order": null,
            "_view_module_version": "1.2.0",
            "grid_template_areas": null,
            "object_position": null,
            "object_fit": null,
            "grid_auto_columns": null,
            "margin": null,
            "display": null,
            "left": null
          }
        },
        "1fac3a0f173548f88541d6720dd8fe35": {
          "model_module": "@jupyter-widgets/base",
          "model_name": "LayoutModel",
          "model_module_version": "1.2.0",
          "state": {
            "_view_name": "LayoutView",
            "grid_template_rows": null,
            "right": null,
            "justify_content": null,
            "_view_module": "@jupyter-widgets/base",
            "overflow": null,
            "_model_module_version": "1.2.0",
            "_view_count": null,
            "flex_flow": null,
            "width": null,
            "min_width": null,
            "border": null,
            "align_items": null,
            "bottom": null,
            "_model_module": "@jupyter-widgets/base",
            "top": null,
            "grid_column": null,
            "overflow_y": null,
            "overflow_x": null,
            "grid_auto_flow": null,
            "grid_area": null,
            "grid_template_columns": null,
            "flex": null,
            "_model_name": "LayoutModel",
            "justify_items": null,
            "grid_row": null,
            "max_height": null,
            "align_content": null,
            "visibility": null,
            "align_self": null,
            "height": null,
            "min_height": null,
            "padding": null,
            "grid_auto_rows": null,
            "grid_gap": null,
            "max_width": null,
            "order": null,
            "_view_module_version": "1.2.0",
            "grid_template_areas": null,
            "object_position": null,
            "object_fit": null,
            "grid_auto_columns": null,
            "margin": null,
            "display": null,
            "left": null
          }
        },
        "7345173294ec4fc4b0bdda3cda3cc2e2": {
          "model_module": "@jupyter-widgets/controls",
          "model_name": "TabModel",
          "model_module_version": "1.5.0",
          "state": {
            "_view_name": "TabView",
            "_dom_classes": [],
            "_titles": {
              "0": "Youtube",
              "1": "Bilibili"
            },
            "_model_name": "TabModel",
            "_view_module": "@jupyter-widgets/controls",
            "selected_index": 0,
            "_model_module_version": "1.5.0",
            "_view_count": null,
            "_view_module_version": "1.5.0",
            "box_style": "",
            "layout": "IPY_MODEL_0b3286f43e69434cad8677c43eae2aa2",
            "_model_module": "@jupyter-widgets/controls",
            "children": [
              "IPY_MODEL_0cd7ac9ae5234cc98be08f7d2ca4c7a5",
              "IPY_MODEL_f2144fbca3eb4dea832c7ed85e4e02e9"
            ]
          }
        },
        "0b3286f43e69434cad8677c43eae2aa2": {
          "model_module": "@jupyter-widgets/base",
          "model_name": "LayoutModel",
          "model_module_version": "1.2.0",
          "state": {
            "_view_name": "LayoutView",
            "grid_template_rows": null,
            "right": null,
            "justify_content": null,
            "_view_module": "@jupyter-widgets/base",
            "overflow": null,
            "_model_module_version": "1.2.0",
            "_view_count": null,
            "flex_flow": null,
            "width": null,
            "min_width": null,
            "border": null,
            "align_items": null,
            "bottom": null,
            "_model_module": "@jupyter-widgets/base",
            "top": null,
            "grid_column": null,
            "overflow_y": null,
            "overflow_x": null,
            "grid_auto_flow": null,
            "grid_area": null,
            "grid_template_columns": null,
            "flex": null,
            "_model_name": "LayoutModel",
            "justify_items": null,
            "grid_row": null,
            "max_height": null,
            "align_content": null,
            "visibility": null,
            "align_self": null,
            "height": null,
            "min_height": null,
            "padding": null,
            "grid_auto_rows": null,
            "grid_gap": null,
            "max_width": null,
            "order": null,
            "_view_module_version": "1.2.0",
            "grid_template_areas": null,
            "object_position": null,
            "object_fit": null,
            "grid_auto_columns": null,
            "margin": null,
            "display": null,
            "left": null
          }
        },
        "0cd7ac9ae5234cc98be08f7d2ca4c7a5": {
          "model_module": "@jupyter-widgets/output",
          "model_name": "OutputModel",
          "model_module_version": "1.0.0",
          "state": {
            "_view_name": "OutputView",
            "msg_id": "",
            "_dom_classes": [],
            "_model_name": "OutputModel",
            "outputs": [
              {
                "output_type": "stream",
                "name": "stdout",
                "text": [
                  "Video available at https://youtube.com/watch?v=aSJTRdjRvvw\n"
                ]
              },
              {
                "output_type": "display_data",
                "data": {
                  "text/html": "\n        <iframe\n            width=\"854\"\n            height=\"480\"\n            src=\"https://www.youtube.com/embed/aSJTRdjRvvw?fs=1&rel=0\"\n            frameborder=\"0\"\n            allowfullscreen\n        ></iframe>\n        ",
                  "text/plain": "<IPython.lib.display.YouTubeVideo at 0x7f85420c6050>",
                  "image/jpeg": "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\n"
                },
                "metadata": {}
              }
            ],
            "_view_module": "@jupyter-widgets/output",
            "_model_module_version": "1.0.0",
            "_view_count": null,
            "_view_module_version": "1.0.0",
            "layout": "IPY_MODEL_dc6932d31f9b496c8c6f6940d31fdb7b",
            "_model_module": "@jupyter-widgets/output"
          }
        },
        "f2144fbca3eb4dea832c7ed85e4e02e9": {
          "model_module": "@jupyter-widgets/output",
          "model_name": "OutputModel",
          "model_module_version": "1.0.0",
          "state": {
            "_view_name": "OutputView",
            "msg_id": "",
            "_dom_classes": [],
            "_model_name": "OutputModel",
            "outputs": [
              {
                "output_type": "stream",
                "name": "stdout",
                "text": [
                  "Video available at https://www.bilibili.com/video/BV1aL411H7Ce\n"
                ]
              },
              {
                "output_type": "display_data",
                "data": {
                  "text/html": "\n        <iframe\n            width=\"854\"\n            height=\"480\"\n            src=\"https://player.bilibili.com/player.html?bvid=BV1aL411H7Ce&page=1?fs=1\"\n            frameborder=\"0\"\n            allowfullscreen\n        ></iframe>\n        ",
                  "text/plain": "<__main__.BiliVideo at 0x7f85420c6dd0>"
                },
                "metadata": {}
              }
            ],
            "_view_module": "@jupyter-widgets/output",
            "_model_module_version": "1.0.0",
            "_view_count": null,
            "_view_module_version": "1.0.0",
            "layout": "IPY_MODEL_43f66856c054410fa34523f4b492be73",
            "_model_module": "@jupyter-widgets/output"
          }
        },
        "dc6932d31f9b496c8c6f6940d31fdb7b": {
          "model_module": "@jupyter-widgets/base",
          "model_name": "LayoutModel",
          "model_module_version": "1.2.0",
          "state": {
            "_view_name": "LayoutView",
            "grid_template_rows": null,
            "right": null,
            "justify_content": null,
            "_view_module": "@jupyter-widgets/base",
            "overflow": null,
            "_model_module_version": "1.2.0",
            "_view_count": null,
            "flex_flow": null,
            "width": null,
            "min_width": null,
            "border": null,
            "align_items": null,
            "bottom": null,
            "_model_module": "@jupyter-widgets/base",
            "top": null,
            "grid_column": null,
            "overflow_y": null,
            "overflow_x": null,
            "grid_auto_flow": null,
            "grid_area": null,
            "grid_template_columns": null,
            "flex": null,
            "_model_name": "LayoutModel",
            "justify_items": null,
            "grid_row": null,
            "max_height": null,
            "align_content": null,
            "visibility": null,
            "align_self": null,
            "height": null,
            "min_height": null,
            "padding": null,
            "grid_auto_rows": null,
            "grid_gap": null,
            "max_width": null,
            "order": null,
            "_view_module_version": "1.2.0",
            "grid_template_areas": null,
            "object_position": null,
            "object_fit": null,
            "grid_auto_columns": null,
            "margin": null,
            "display": null,
            "left": null
          }
        },
        "43f66856c054410fa34523f4b492be73": {
          "model_module": "@jupyter-widgets/base",
          "model_name": "LayoutModel",
          "model_module_version": "1.2.0",
          "state": {
            "_view_name": "LayoutView",
            "grid_template_rows": null,
            "right": null,
            "justify_content": null,
            "_view_module": "@jupyter-widgets/base",
            "overflow": null,
            "_model_module_version": "1.2.0",
            "_view_count": null,
            "flex_flow": null,
            "width": null,
            "min_width": null,
            "border": null,
            "align_items": null,
            "bottom": null,
            "_model_module": "@jupyter-widgets/base",
            "top": null,
            "grid_column": null,
            "overflow_y": null,
            "overflow_x": null,
            "grid_auto_flow": null,
            "grid_area": null,
            "grid_template_columns": null,
            "flex": null,
            "_model_name": "LayoutModel",
            "justify_items": null,
            "grid_row": null,
            "max_height": null,
            "align_content": null,
            "visibility": null,
            "align_self": null,
            "height": null,
            "min_height": null,
            "padding": null,
            "grid_auto_rows": null,
            "grid_gap": null,
            "max_width": null,
            "order": null,
            "_view_module_version": "1.2.0",
            "grid_template_areas": null,
            "object_position": null,
            "object_fit": null,
            "grid_auto_columns": null,
            "margin": null,
            "display": null,
            "left": null
          }
        },
        "96ca62bcfce44972a30a63ca00445656": {
          "model_module": "@jupyter-widgets/controls",
          "model_name": "TextareaModel",
          "model_module_version": "1.5.0",
          "state": {
            "_view_name": "TextareaView",
            "style": "IPY_MODEL_e98947b656744f1eb77de1bac5881490",
            "rows": null,
            "_dom_classes": [],
            "description": "",
            "_model_name": "TextareaModel",
            "placeholder": "Type something",
            "_view_module": "@jupyter-widgets/controls",
            "_model_module_version": "1.5.0",
            "value": "Type your answer here and click on `Submit!`",
            "_view_count": null,
            "disabled": false,
            "_view_module_version": "1.5.0",
            "continuous_update": true,
            "description_tooltip": null,
            "_model_module": "@jupyter-widgets/controls",
            "layout": "IPY_MODEL_e17ab4a54fd74fb18d29b8230ed99dce"
          }
        },
        "e98947b656744f1eb77de1bac5881490": {
          "model_module": "@jupyter-widgets/controls",
          "model_name": "DescriptionStyleModel",
          "model_module_version": "1.5.0",
          "state": {
            "_view_name": "StyleView",
            "_model_name": "DescriptionStyleModel",
            "description_width": "",
            "_view_module": "@jupyter-widgets/base",
            "_model_module_version": "1.5.0",
            "_view_count": null,
            "_view_module_version": "1.2.0",
            "_model_module": "@jupyter-widgets/controls"
          }
        },
        "e17ab4a54fd74fb18d29b8230ed99dce": {
          "model_module": "@jupyter-widgets/base",
          "model_name": "LayoutModel",
          "model_module_version": "1.2.0",
          "state": {
            "_view_name": "LayoutView",
            "grid_template_rows": null,
            "right": null,
            "justify_content": null,
            "_view_module": "@jupyter-widgets/base",
            "overflow": null,
            "_model_module_version": "1.2.0",
            "_view_count": null,
            "flex_flow": null,
            "width": null,
            "min_width": null,
            "border": null,
            "align_items": null,
            "bottom": null,
            "_model_module": "@jupyter-widgets/base",
            "top": null,
            "grid_column": null,
            "overflow_y": null,
            "overflow_x": null,
            "grid_auto_flow": null,
            "grid_area": null,
            "grid_template_columns": null,
            "flex": null,
            "_model_name": "LayoutModel",
            "justify_items": null,
            "grid_row": null,
            "max_height": null,
            "align_content": null,
            "visibility": null,
            "align_self": null,
            "height": null,
            "min_height": null,
            "padding": null,
            "grid_auto_rows": null,
            "grid_gap": null,
            "max_width": null,
            "order": null,
            "_view_module_version": "1.2.0",
            "grid_template_areas": null,
            "object_position": null,
            "object_fit": null,
            "grid_auto_columns": null,
            "margin": null,
            "display": null,
            "left": null
          }
        },
        "136df0b404c84020a654137baef91f03": {
          "model_module": "@jupyter-widgets/controls",
          "model_name": "ButtonModel",
          "model_module_version": "1.5.0",
          "state": {
            "_view_name": "ButtonView",
            "style": "IPY_MODEL_2dbbb7e9254a463996f38057ece40e0c",
            "_dom_classes": [],
            "description": "Submit!",
            "_model_name": "ButtonModel",
            "button_style": "",
            "_view_module": "@jupyter-widgets/controls",
            "_model_module_version": "1.5.0",
            "tooltip": "",
            "_view_count": null,
            "disabled": false,
            "_view_module_version": "1.5.0",
            "layout": "IPY_MODEL_1a56eb9862944224b8b154be9f48aa6d",
            "_model_module": "@jupyter-widgets/controls",
            "icon": ""
          }
        },
        "2dbbb7e9254a463996f38057ece40e0c": {
          "model_module": "@jupyter-widgets/controls",
          "model_name": "ButtonStyleModel",
          "model_module_version": "1.5.0",
          "state": {
            "_view_name": "StyleView",
            "_model_name": "ButtonStyleModel",
            "_view_module": "@jupyter-widgets/base",
            "_model_module_version": "1.5.0",
            "_view_count": null,
            "button_color": null,
            "font_weight": "",
            "_view_module_version": "1.2.0",
            "_model_module": "@jupyter-widgets/controls"
          }
        },
        "1a56eb9862944224b8b154be9f48aa6d": {
          "model_module": "@jupyter-widgets/base",
          "model_name": "LayoutModel",
          "model_module_version": "1.2.0",
          "state": {
            "_view_name": "LayoutView",
            "grid_template_rows": null,
            "right": null,
            "justify_content": null,
            "_view_module": "@jupyter-widgets/base",
            "overflow": null,
            "_model_module_version": "1.2.0",
            "_view_count": null,
            "flex_flow": null,
            "width": null,
            "min_width": null,
            "border": null,
            "align_items": null,
            "bottom": null,
            "_model_module": "@jupyter-widgets/base",
            "top": null,
            "grid_column": null,
            "overflow_y": null,
            "overflow_x": null,
            "grid_auto_flow": null,
            "grid_area": null,
            "grid_template_columns": null,
            "flex": null,
            "_model_name": "LayoutModel",
            "justify_items": null,
            "grid_row": null,
            "max_height": null,
            "align_content": null,
            "visibility": null,
            "align_self": null,
            "height": null,
            "min_height": null,
            "padding": null,
            "grid_auto_rows": null,
            "grid_gap": null,
            "max_width": null,
            "order": null,
            "_view_module_version": "1.2.0",
            "grid_template_areas": null,
            "object_position": null,
            "object_fit": null,
            "grid_auto_columns": null,
            "margin": null,
            "display": null,
            "left": null
          }
        },
        "7b21a331ab6a487788f7bfd15a58211d": {
          "model_module": "@jupyter-widgets/controls",
          "model_name": "TabModel",
          "model_module_version": "1.5.0",
          "state": {
            "_view_name": "TabView",
            "_dom_classes": [],
            "_titles": {
              "0": "Youtube",
              "1": "Bilibili"
            },
            "_model_name": "TabModel",
            "_view_module": "@jupyter-widgets/controls",
            "selected_index": 0,
            "_model_module_version": "1.5.0",
            "_view_count": null,
            "_view_module_version": "1.5.0",
            "box_style": "",
            "layout": "IPY_MODEL_2cc1a5dc0297466cbee053b76429948f",
            "_model_module": "@jupyter-widgets/controls",
            "children": [
              "IPY_MODEL_47a1bf8aef9c4fb6aeeceb66cc0e1226",
              "IPY_MODEL_f044ed0f7aad4b538c6c10fd556800fc"
            ]
          }
        },
        "2cc1a5dc0297466cbee053b76429948f": {
          "model_module": "@jupyter-widgets/base",
          "model_name": "LayoutModel",
          "model_module_version": "1.2.0",
          "state": {
            "_view_name": "LayoutView",
            "grid_template_rows": null,
            "right": null,
            "justify_content": null,
            "_view_module": "@jupyter-widgets/base",
            "overflow": null,
            "_model_module_version": "1.2.0",
            "_view_count": null,
            "flex_flow": null,
            "width": null,
            "min_width": null,
            "border": null,
            "align_items": null,
            "bottom": null,
            "_model_module": "@jupyter-widgets/base",
            "top": null,
            "grid_column": null,
            "overflow_y": null,
            "overflow_x": null,
            "grid_auto_flow": null,
            "grid_area": null,
            "grid_template_columns": null,
            "flex": null,
            "_model_name": "LayoutModel",
            "justify_items": null,
            "grid_row": null,
            "max_height": null,
            "align_content": null,
            "visibility": null,
            "align_self": null,
            "height": null,
            "min_height": null,
            "padding": null,
            "grid_auto_rows": null,
            "grid_gap": null,
            "max_width": null,
            "order": null,
            "_view_module_version": "1.2.0",
            "grid_template_areas": null,
            "object_position": null,
            "object_fit": null,
            "grid_auto_columns": null,
            "margin": null,
            "display": null,
            "left": null
          }
        },
        "47a1bf8aef9c4fb6aeeceb66cc0e1226": {
          "model_module": "@jupyter-widgets/output",
          "model_name": "OutputModel",
          "model_module_version": "1.0.0",
          "state": {
            "_view_name": "OutputView",
            "msg_id": "",
            "_dom_classes": [],
            "_model_name": "OutputModel",
            "outputs": [
              {
                "output_type": "stream",
                "name": "stdout",
                "text": [
                  "Video available at https://youtube.com/watch?v=3ES5O58Y_2M\n"
                ]
              },
              {
                "output_type": "display_data",
                "data": {
                  "text/html": "\n        <iframe\n            width=\"854\"\n            height=\"480\"\n            src=\"https://www.youtube.com/embed/3ES5O58Y_2M?fs=1&rel=0\"\n            frameborder=\"0\"\n            allowfullscreen\n        ></iframe>\n        ",
                  "text/plain": "<IPython.lib.display.YouTubeVideo at 0x7f854416ac10>",
                  "image/jpeg": "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\n"
                },
                "metadata": {}
              }
            ],
            "_view_module": "@jupyter-widgets/output",
            "_model_module_version": "1.0.0",
            "_view_count": null,
            "_view_module_version": "1.0.0",
            "layout": "IPY_MODEL_65194b95acdf4319a6270f2646e9252b",
            "_model_module": "@jupyter-widgets/output"
          }
        },
        "f044ed0f7aad4b538c6c10fd556800fc": {
          "model_module": "@jupyter-widgets/output",
          "model_name": "OutputModel",
          "model_module_version": "1.0.0",
          "state": {
            "_view_name": "OutputView",
            "msg_id": "",
            "_dom_classes": [],
            "_model_name": "OutputModel",
            "outputs": [
              {
                "output_type": "stream",
                "name": "stdout",
                "text": [
                  "Video available at https://www.bilibili.com/video/BV1NL411H71t\n"
                ]
              },
              {
                "output_type": "display_data",
                "data": {
                  "text/html": "\n        <iframe\n            width=\"854\"\n            height=\"480\"\n            src=\"https://player.bilibili.com/player.html?bvid=BV1NL411H71t&page=1?fs=1\"\n            frameborder=\"0\"\n            allowfullscreen\n        ></iframe>\n        ",
                  "text/plain": "<__main__.BiliVideo at 0x7f8541fbde50>"
                },
                "metadata": {}
              }
            ],
            "_view_module": "@jupyter-widgets/output",
            "_model_module_version": "1.0.0",
            "_view_count": null,
            "_view_module_version": "1.0.0",
            "layout": "IPY_MODEL_c1715bd961ad46719d337d4e54effd84",
            "_model_module": "@jupyter-widgets/output"
          }
        },
        "65194b95acdf4319a6270f2646e9252b": {
          "model_module": "@jupyter-widgets/base",
          "model_name": "LayoutModel",
          "model_module_version": "1.2.0",
          "state": {
            "_view_name": "LayoutView",
            "grid_template_rows": null,
            "right": null,
            "justify_content": null,
            "_view_module": "@jupyter-widgets/base",
            "overflow": null,
            "_model_module_version": "1.2.0",
            "_view_count": null,
            "flex_flow": null,
            "width": null,
            "min_width": null,
            "border": null,
            "align_items": null,
            "bottom": null,
            "_model_module": "@jupyter-widgets/base",
            "top": null,
            "grid_column": null,
            "overflow_y": null,
            "overflow_x": null,
            "grid_auto_flow": null,
            "grid_area": null,
            "grid_template_columns": null,
            "flex": null,
            "_model_name": "LayoutModel",
            "justify_items": null,
            "grid_row": null,
            "max_height": null,
            "align_content": null,
            "visibility": null,
            "align_self": null,
            "height": null,
            "min_height": null,
            "padding": null,
            "grid_auto_rows": null,
            "grid_gap": null,
            "max_width": null,
            "order": null,
            "_view_module_version": "1.2.0",
            "grid_template_areas": null,
            "object_position": null,
            "object_fit": null,
            "grid_auto_columns": null,
            "margin": null,
            "display": null,
            "left": null
          }
        },
        "c1715bd961ad46719d337d4e54effd84": {
          "model_module": "@jupyter-widgets/base",
          "model_name": "LayoutModel",
          "model_module_version": "1.2.0",
          "state": {
            "_view_name": "LayoutView",
            "grid_template_rows": null,
            "right": null,
            "justify_content": null,
            "_view_module": "@jupyter-widgets/base",
            "overflow": null,
            "_model_module_version": "1.2.0",
            "_view_count": null,
            "flex_flow": null,
            "width": null,
            "min_width": null,
            "border": null,
            "align_items": null,
            "bottom": null,
            "_model_module": "@jupyter-widgets/base",
            "top": null,
            "grid_column": null,
            "overflow_y": null,
            "overflow_x": null,
            "grid_auto_flow": null,
            "grid_area": null,
            "grid_template_columns": null,
            "flex": null,
            "_model_name": "LayoutModel",
            "justify_items": null,
            "grid_row": null,
            "max_height": null,
            "align_content": null,
            "visibility": null,
            "align_self": null,
            "height": null,
            "min_height": null,
            "padding": null,
            "grid_auto_rows": null,
            "grid_gap": null,
            "max_width": null,
            "order": null,
            "_view_module_version": "1.2.0",
            "grid_template_areas": null,
            "object_position": null,
            "object_fit": null,
            "grid_auto_columns": null,
            "margin": null,
            "display": null,
            "left": null
          }
        },
        "f0b6484000cb435caa9125b23924e342": {
          "model_module": "@jupyter-widgets/controls",
          "model_name": "HBoxModel",
          "model_module_version": "1.5.0",
          "state": {
            "_view_name": "HBoxView",
            "_dom_classes": [],
            "_model_name": "HBoxModel",
            "_view_module": "@jupyter-widgets/controls",
            "_model_module_version": "1.5.0",
            "_view_count": null,
            "_view_module_version": "1.5.0",
            "box_style": "",
            "layout": "IPY_MODEL_d5094de82add484a8e3175d35338b5c8",
            "_model_module": "@jupyter-widgets/controls",
            "children": [
              "IPY_MODEL_dd10804bd41d4320ba8690e641f908a3",
              "IPY_MODEL_b185fa215c90411ab7747584dbad4aac",
              "IPY_MODEL_9d14ee954bbc40c8aff27079157df62b"
            ]
          }
        },
        "d5094de82add484a8e3175d35338b5c8": {
          "model_module": "@jupyter-widgets/base",
          "model_name": "LayoutModel",
          "model_module_version": "1.2.0",
          "state": {
            "_view_name": "LayoutView",
            "grid_template_rows": null,
            "right": null,
            "justify_content": null,
            "_view_module": "@jupyter-widgets/base",
            "overflow": null,
            "_model_module_version": "1.2.0",
            "_view_count": null,
            "flex_flow": null,
            "width": null,
            "min_width": null,
            "border": null,
            "align_items": null,
            "bottom": null,
            "_model_module": "@jupyter-widgets/base",
            "top": null,
            "grid_column": null,
            "overflow_y": null,
            "overflow_x": null,
            "grid_auto_flow": null,
            "grid_area": null,
            "grid_template_columns": null,
            "flex": null,
            "_model_name": "LayoutModel",
            "justify_items": null,
            "grid_row": null,
            "max_height": null,
            "align_content": null,
            "visibility": null,
            "align_self": null,
            "height": null,
            "min_height": null,
            "padding": null,
            "grid_auto_rows": null,
            "grid_gap": null,
            "max_width": null,
            "order": null,
            "_view_module_version": "1.2.0",
            "grid_template_areas": null,
            "object_position": null,
            "object_fit": null,
            "grid_auto_columns": null,
            "margin": null,
            "display": null,
            "left": null
          }
        },
        "dd10804bd41d4320ba8690e641f908a3": {
          "model_module": "@jupyter-widgets/controls",
          "model_name": "HTMLModel",
          "model_module_version": "1.5.0",
          "state": {
            "_view_name": "HTMLView",
            "style": "IPY_MODEL_f5f4389cf2d44ae99d5b555caa0f0c8d",
            "_dom_classes": [],
            "description": "",
            "_model_name": "HTMLModel",
            "placeholder": "​",
            "_view_module": "@jupyter-widgets/controls",
            "_model_module_version": "1.5.0",
            "value": "100%",
            "_view_count": null,
            "_view_module_version": "1.5.0",
            "description_tooltip": null,
            "_model_module": "@jupyter-widgets/controls",
            "layout": "IPY_MODEL_76c1aa120ecc411caa0dad3fa30caadd"
          }
        },
        "b185fa215c90411ab7747584dbad4aac": {
          "model_module": "@jupyter-widgets/controls",
          "model_name": "FloatProgressModel",
          "model_module_version": "1.5.0",
          "state": {
            "_view_name": "ProgressView",
            "style": "IPY_MODEL_54f556f193b4440d9462cd3899746cc0",
            "_dom_classes": [],
            "description": "",
            "_model_name": "FloatProgressModel",
            "bar_style": "success",
            "max": 200,
            "_view_module": "@jupyter-widgets/controls",
            "_model_module_version": "1.5.0",
            "value": 200,
            "_view_count": null,
            "_view_module_version": "1.5.0",
            "orientation": "horizontal",
            "min": 0,
            "description_tooltip": null,
            "_model_module": "@jupyter-widgets/controls",
            "layout": "IPY_MODEL_72dd95c22a2242e79b96f3769f7cd855"
          }
        },
        "9d14ee954bbc40c8aff27079157df62b": {
          "model_module": "@jupyter-widgets/controls",
          "model_name": "HTMLModel",
          "model_module_version": "1.5.0",
          "state": {
            "_view_name": "HTMLView",
            "style": "IPY_MODEL_19162538e1a84c61afec4d3e8afed0c5",
            "_dom_classes": [],
            "description": "",
            "_model_name": "HTMLModel",
            "placeholder": "​",
            "_view_module": "@jupyter-widgets/controls",
            "_model_module_version": "1.5.0",
            "value": " 200/200 [00:01&lt;00:00, 171.73it/s]",
            "_view_count": null,
            "_view_module_version": "1.5.0",
            "description_tooltip": null,
            "_model_module": "@jupyter-widgets/controls",
            "layout": "IPY_MODEL_b2e0a9c744034824889b25a6418e2bd5"
          }
        },
        "f5f4389cf2d44ae99d5b555caa0f0c8d": {
          "model_module": "@jupyter-widgets/controls",
          "model_name": "DescriptionStyleModel",
          "model_module_version": "1.5.0",
          "state": {
            "_view_name": "StyleView",
            "_model_name": "DescriptionStyleModel",
            "description_width": "",
            "_view_module": "@jupyter-widgets/base",
            "_model_module_version": "1.5.0",
            "_view_count": null,
            "_view_module_version": "1.2.0",
            "_model_module": "@jupyter-widgets/controls"
          }
        },
        "76c1aa120ecc411caa0dad3fa30caadd": {
          "model_module": "@jupyter-widgets/base",
          "model_name": "LayoutModel",
          "model_module_version": "1.2.0",
          "state": {
            "_view_name": "LayoutView",
            "grid_template_rows": null,
            "right": null,
            "justify_content": null,
            "_view_module": "@jupyter-widgets/base",
            "overflow": null,
            "_model_module_version": "1.2.0",
            "_view_count": null,
            "flex_flow": null,
            "width": null,
            "min_width": null,
            "border": null,
            "align_items": null,
            "bottom": null,
            "_model_module": "@jupyter-widgets/base",
            "top": null,
            "grid_column": null,
            "overflow_y": null,
            "overflow_x": null,
            "grid_auto_flow": null,
            "grid_area": null,
            "grid_template_columns": null,
            "flex": null,
            "_model_name": "LayoutModel",
            "justify_items": null,
            "grid_row": null,
            "max_height": null,
            "align_content": null,
            "visibility": null,
            "align_self": null,
            "height": null,
            "min_height": null,
            "padding": null,
            "grid_auto_rows": null,
            "grid_gap": null,
            "max_width": null,
            "order": null,
            "_view_module_version": "1.2.0",
            "grid_template_areas": null,
            "object_position": null,
            "object_fit": null,
            "grid_auto_columns": null,
            "margin": null,
            "display": null,
            "left": null
          }
        },
        "54f556f193b4440d9462cd3899746cc0": {
          "model_module": "@jupyter-widgets/controls",
          "model_name": "ProgressStyleModel",
          "model_module_version": "1.5.0",
          "state": {
            "_view_name": "StyleView",
            "_model_name": "ProgressStyleModel",
            "description_width": "",
            "_view_module": "@jupyter-widgets/base",
            "_model_module_version": "1.5.0",
            "_view_count": null,
            "_view_module_version": "1.2.0",
            "bar_color": null,
            "_model_module": "@jupyter-widgets/controls"
          }
        },
        "72dd95c22a2242e79b96f3769f7cd855": {
          "model_module": "@jupyter-widgets/base",
          "model_name": "LayoutModel",
          "model_module_version": "1.2.0",
          "state": {
            "_view_name": "LayoutView",
            "grid_template_rows": null,
            "right": null,
            "justify_content": null,
            "_view_module": "@jupyter-widgets/base",
            "overflow": null,
            "_model_module_version": "1.2.0",
            "_view_count": null,
            "flex_flow": null,
            "width": null,
            "min_width": null,
            "border": null,
            "align_items": null,
            "bottom": null,
            "_model_module": "@jupyter-widgets/base",
            "top": null,
            "grid_column": null,
            "overflow_y": null,
            "overflow_x": null,
            "grid_auto_flow": null,
            "grid_area": null,
            "grid_template_columns": null,
            "flex": null,
            "_model_name": "LayoutModel",
            "justify_items": null,
            "grid_row": null,
            "max_height": null,
            "align_content": null,
            "visibility": null,
            "align_self": null,
            "height": null,
            "min_height": null,
            "padding": null,
            "grid_auto_rows": null,
            "grid_gap": null,
            "max_width": null,
            "order": null,
            "_view_module_version": "1.2.0",
            "grid_template_areas": null,
            "object_position": null,
            "object_fit": null,
            "grid_auto_columns": null,
            "margin": null,
            "display": null,
            "left": null
          }
        },
        "19162538e1a84c61afec4d3e8afed0c5": {
          "model_module": "@jupyter-widgets/controls",
          "model_name": "DescriptionStyleModel",
          "model_module_version": "1.5.0",
          "state": {
            "_view_name": "StyleView",
            "_model_name": "DescriptionStyleModel",
            "description_width": "",
            "_view_module": "@jupyter-widgets/base",
            "_model_module_version": "1.5.0",
            "_view_count": null,
            "_view_module_version": "1.2.0",
            "_model_module": "@jupyter-widgets/controls"
          }
        },
        "b2e0a9c744034824889b25a6418e2bd5": {
          "model_module": "@jupyter-widgets/base",
          "model_name": "LayoutModel",
          "model_module_version": "1.2.0",
          "state": {
            "_view_name": "LayoutView",
            "grid_template_rows": null,
            "right": null,
            "justify_content": null,
            "_view_module": "@jupyter-widgets/base",
            "overflow": null,
            "_model_module_version": "1.2.0",
            "_view_count": null,
            "flex_flow": null,
            "width": null,
            "min_width": null,
            "border": null,
            "align_items": null,
            "bottom": null,
            "_model_module": "@jupyter-widgets/base",
            "top": null,
            "grid_column": null,
            "overflow_y": null,
            "overflow_x": null,
            "grid_auto_flow": null,
            "grid_area": null,
            "grid_template_columns": null,
            "flex": null,
            "_model_name": "LayoutModel",
            "justify_items": null,
            "grid_row": null,
            "max_height": null,
            "align_content": null,
            "visibility": null,
            "align_self": null,
            "height": null,
            "min_height": null,
            "padding": null,
            "grid_auto_rows": null,
            "grid_gap": null,
            "max_width": null,
            "order": null,
            "_view_module_version": "1.2.0",
            "grid_template_areas": null,
            "object_position": null,
            "object_fit": null,
            "grid_auto_columns": null,
            "margin": null,
            "display": null,
            "left": null
          }
        },
        "175f8d25d01c49b5ab5c012d565b40fb": {
          "model_module": "@jupyter-widgets/controls",
          "model_name": "VBoxModel",
          "model_module_version": "1.5.0",
          "state": {
            "_view_name": "VBoxView",
            "_dom_classes": [
              "widget-interact"
            ],
            "_model_name": "VBoxModel",
            "_view_module": "@jupyter-widgets/controls",
            "_model_module_version": "1.5.0",
            "_view_count": null,
            "_view_module_version": "1.5.0",
            "box_style": "",
            "layout": "IPY_MODEL_e3800163ae0449c784c19896246294cc",
            "_model_module": "@jupyter-widgets/controls",
            "children": [
              "IPY_MODEL_d1dac92c424c4371b5bd07bbcb7db8b0",
              "IPY_MODEL_0559d2c5f37a41f7bc7ac3a7700ccf04",
              "IPY_MODEL_d3825876ac544535afbf421d89b6d613",
              "IPY_MODEL_1b2cadbd0743440e8574271600328147",
              "IPY_MODEL_79e6fb34ecd9480ca1905093a0489d33"
            ]
          }
        },
        "e3800163ae0449c784c19896246294cc": {
          "model_module": "@jupyter-widgets/base",
          "model_name": "LayoutModel",
          "model_module_version": "1.2.0",
          "state": {
            "_view_name": "LayoutView",
            "grid_template_rows": null,
            "right": null,
            "justify_content": null,
            "_view_module": "@jupyter-widgets/base",
            "overflow": null,
            "_model_module_version": "1.2.0",
            "_view_count": null,
            "flex_flow": null,
            "width": null,
            "min_width": null,
            "border": null,
            "align_items": null,
            "bottom": null,
            "_model_module": "@jupyter-widgets/base",
            "top": null,
            "grid_column": null,
            "overflow_y": null,
            "overflow_x": null,
            "grid_auto_flow": null,
            "grid_area": null,
            "grid_template_columns": null,
            "flex": null,
            "_model_name": "LayoutModel",
            "justify_items": null,
            "grid_row": null,
            "max_height": null,
            "align_content": null,
            "visibility": null,
            "align_self": null,
            "height": null,
            "min_height": null,
            "padding": null,
            "grid_auto_rows": null,
            "grid_gap": null,
            "max_width": null,
            "order": null,
            "_view_module_version": "1.2.0",
            "grid_template_areas": null,
            "object_position": null,
            "object_fit": null,
            "grid_auto_columns": null,
            "margin": null,
            "display": null,
            "left": null
          }
        },
        "d1dac92c424c4371b5bd07bbcb7db8b0": {
          "model_module": "@jupyter-widgets/controls",
          "model_name": "IntSliderModel",
          "model_module_version": "1.5.0",
          "state": {
            "_view_name": "IntSliderView",
            "style": "IPY_MODEL_543750e6ebf34a9cb0e089a896e2d432",
            "_dom_classes": [],
            "description": "max_steps",
            "step": 5,
            "_model_name": "IntSliderModel",
            "orientation": "horizontal",
            "max": 500,
            "_view_module": "@jupyter-widgets/controls",
            "_model_module_version": "1.5.0",
            "value": 300,
            "_view_count": null,
            "disabled": false,
            "_view_module_version": "1.5.0",
            "min": 50,
            "continuous_update": true,
            "readout_format": "d",
            "description_tooltip": null,
            "readout": true,
            "_model_module": "@jupyter-widgets/controls",
            "layout": "IPY_MODEL_0e296a8f4eda4ddd893eeb2541b83993"
          }
        },
        "0559d2c5f37a41f7bc7ac3a7700ccf04": {
          "model_module": "@jupyter-widgets/controls",
          "model_name": "FloatLogSliderModel",
          "model_module_version": "1.5.0",
          "state": {
            "_view_name": "FloatLogSliderView",
            "orientation": "horizontal",
            "_view_module": "@jupyter-widgets/controls",
            "_model_module_version": "1.5.0",
            "_view_count": null,
            "disabled": false,
            "readout_format": ".3g",
            "_model_module": "@jupyter-widgets/controls",
            "style": "IPY_MODEL_519421cf40234c70ab2432292b37f0e4",
            "layout": "IPY_MODEL_b8404c6f993844008dedb0467320b8a2",
            "min": -3,
            "continuous_update": true,
            "description_tooltip": null,
            "_dom_classes": [],
            "description": "lr",
            "_model_name": "FloatLogSliderModel",
            "max": 0.7,
            "readout": true,
            "step": 0.1,
            "base": 10,
            "value": 0.1,
            "_view_module_version": "1.5.0"
          }
        },
        "d3825876ac544535afbf421d89b6d613": {
          "model_module": "@jupyter-widgets/controls",
          "model_name": "FloatSliderModel",
          "model_module_version": "1.5.0",
          "state": {
            "_view_name": "FloatSliderView",
            "style": "IPY_MODEL_7940bed3f56a48fca6a70b6387170e51",
            "_dom_classes": [],
            "description": "beta",
            "step": 0.01,
            "_model_name": "FloatSliderModel",
            "orientation": "horizontal",
            "max": 1,
            "_view_module": "@jupyter-widgets/controls",
            "_model_module_version": "1.5.0",
            "value": 0.9,
            "_view_count": null,
            "disabled": false,
            "_view_module_version": "1.5.0",
            "min": 0,
            "continuous_update": true,
            "readout_format": ".2f",
            "description_tooltip": null,
            "readout": true,
            "_model_module": "@jupyter-widgets/controls",
            "layout": "IPY_MODEL_98683b24f57c425892210db261ec5f1c"
          }
        },
        "1b2cadbd0743440e8574271600328147": {
          "model_module": "@jupyter-widgets/controls",
          "model_name": "ButtonModel",
          "model_module_version": "1.5.0",
          "state": {
            "_view_name": "ButtonView",
            "style": "IPY_MODEL_ecc9b1917dbd428c8f07b4d272ad5b7b",
            "_dom_classes": [],
            "description": "Run Interact",
            "_model_name": "ButtonModel",
            "button_style": "",
            "_view_module": "@jupyter-widgets/controls",
            "_model_module_version": "1.5.0",
            "tooltip": "",
            "_view_count": null,
            "disabled": false,
            "_view_module_version": "1.5.0",
            "layout": "IPY_MODEL_fabd63205b554016bffe2d9e2bacc02d",
            "_model_module": "@jupyter-widgets/controls",
            "icon": ""
          }
        },
        "79e6fb34ecd9480ca1905093a0489d33": {
          "model_module": "@jupyter-widgets/output",
          "model_name": "OutputModel",
          "model_module_version": "1.0.0",
          "state": {
            "_view_name": "OutputView",
            "msg_id": "",
            "_dom_classes": [],
            "_model_name": "OutputModel",
            "outputs": [],
            "_view_module": "@jupyter-widgets/output",
            "_model_module_version": "1.0.0",
            "_view_count": null,
            "_view_module_version": "1.0.0",
            "layout": "IPY_MODEL_bcd093f931e24856b66346fbe5ca9e36",
            "_model_module": "@jupyter-widgets/output"
          }
        },
        "543750e6ebf34a9cb0e089a896e2d432": {
          "model_module": "@jupyter-widgets/controls",
          "model_name": "SliderStyleModel",
          "model_module_version": "1.5.0",
          "state": {
            "_view_name": "StyleView",
            "handle_color": null,
            "_model_name": "SliderStyleModel",
            "description_width": "",
            "_view_module": "@jupyter-widgets/base",
            "_model_module_version": "1.5.0",
            "_view_count": null,
            "_view_module_version": "1.2.0",
            "_model_module": "@jupyter-widgets/controls"
          }
        },
        "0e296a8f4eda4ddd893eeb2541b83993": {
          "model_module": "@jupyter-widgets/base",
          "model_name": "LayoutModel",
          "model_module_version": "1.2.0",
          "state": {
            "_view_name": "LayoutView",
            "grid_template_rows": null,
            "right": null,
            "justify_content": null,
            "_view_module": "@jupyter-widgets/base",
            "overflow": null,
            "_model_module_version": "1.2.0",
            "_view_count": null,
            "flex_flow": null,
            "width": null,
            "min_width": null,
            "border": null,
            "align_items": null,
            "bottom": null,
            "_model_module": "@jupyter-widgets/base",
            "top": null,
            "grid_column": null,
            "overflow_y": null,
            "overflow_x": null,
            "grid_auto_flow": null,
            "grid_area": null,
            "grid_template_columns": null,
            "flex": null,
            "_model_name": "LayoutModel",
            "justify_items": null,
            "grid_row": null,
            "max_height": null,
            "align_content": null,
            "visibility": null,
            "align_self": null,
            "height": null,
            "min_height": null,
            "padding": null,
            "grid_auto_rows": null,
            "grid_gap": null,
            "max_width": null,
            "order": null,
            "_view_module_version": "1.2.0",
            "grid_template_areas": null,
            "object_position": null,
            "object_fit": null,
            "grid_auto_columns": null,
            "margin": null,
            "display": null,
            "left": null
          }
        },
        "519421cf40234c70ab2432292b37f0e4": {
          "model_module": "@jupyter-widgets/controls",
          "model_name": "SliderStyleModel",
          "model_module_version": "1.5.0",
          "state": {
            "_view_name": "StyleView",
            "handle_color": null,
            "_model_name": "SliderStyleModel",
            "description_width": "",
            "_view_module": "@jupyter-widgets/base",
            "_model_module_version": "1.5.0",
            "_view_count": null,
            "_view_module_version": "1.2.0",
            "_model_module": "@jupyter-widgets/controls"
          }
        },
        "b8404c6f993844008dedb0467320b8a2": {
          "model_module": "@jupyter-widgets/base",
          "model_name": "LayoutModel",
          "model_module_version": "1.2.0",
          "state": {
            "_view_name": "LayoutView",
            "grid_template_rows": null,
            "right": null,
            "justify_content": null,
            "_view_module": "@jupyter-widgets/base",
            "overflow": null,
            "_model_module_version": "1.2.0",
            "_view_count": null,
            "flex_flow": null,
            "width": null,
            "min_width": null,
            "border": null,
            "align_items": null,
            "bottom": null,
            "_model_module": "@jupyter-widgets/base",
            "top": null,
            "grid_column": null,
            "overflow_y": null,
            "overflow_x": null,
            "grid_auto_flow": null,
            "grid_area": null,
            "grid_template_columns": null,
            "flex": null,
            "_model_name": "LayoutModel",
            "justify_items": null,
            "grid_row": null,
            "max_height": null,
            "align_content": null,
            "visibility": null,
            "align_self": null,
            "height": null,
            "min_height": null,
            "padding": null,
            "grid_auto_rows": null,
            "grid_gap": null,
            "max_width": null,
            "order": null,
            "_view_module_version": "1.2.0",
            "grid_template_areas": null,
            "object_position": null,
            "object_fit": null,
            "grid_auto_columns": null,
            "margin": null,
            "display": null,
            "left": null
          }
        },
        "7940bed3f56a48fca6a70b6387170e51": {
          "model_module": "@jupyter-widgets/controls",
          "model_name": "SliderStyleModel",
          "model_module_version": "1.5.0",
          "state": {
            "_view_name": "StyleView",
            "handle_color": null,
            "_model_name": "SliderStyleModel",
            "description_width": "",
            "_view_module": "@jupyter-widgets/base",
            "_model_module_version": "1.5.0",
            "_view_count": null,
            "_view_module_version": "1.2.0",
            "_model_module": "@jupyter-widgets/controls"
          }
        },
        "98683b24f57c425892210db261ec5f1c": {
          "model_module": "@jupyter-widgets/base",
          "model_name": "LayoutModel",
          "model_module_version": "1.2.0",
          "state": {
            "_view_name": "LayoutView",
            "grid_template_rows": null,
            "right": null,
            "justify_content": null,
            "_view_module": "@jupyter-widgets/base",
            "overflow": null,
            "_model_module_version": "1.2.0",
            "_view_count": null,
            "flex_flow": null,
            "width": null,
            "min_width": null,
            "border": null,
            "align_items": null,
            "bottom": null,
            "_model_module": "@jupyter-widgets/base",
            "top": null,
            "grid_column": null,
            "overflow_y": null,
            "overflow_x": null,
            "grid_auto_flow": null,
            "grid_area": null,
            "grid_template_columns": null,
            "flex": null,
            "_model_name": "LayoutModel",
            "justify_items": null,
            "grid_row": null,
            "max_height": null,
            "align_content": null,
            "visibility": null,
            "align_self": null,
            "height": null,
            "min_height": null,
            "padding": null,
            "grid_auto_rows": null,
            "grid_gap": null,
            "max_width": null,
            "order": null,
            "_view_module_version": "1.2.0",
            "grid_template_areas": null,
            "object_position": null,
            "object_fit": null,
            "grid_auto_columns": null,
            "margin": null,
            "display": null,
            "left": null
          }
        },
        "ecc9b1917dbd428c8f07b4d272ad5b7b": {
          "model_module": "@jupyter-widgets/controls",
          "model_name": "ButtonStyleModel",
          "model_module_version": "1.5.0",
          "state": {
            "_view_name": "StyleView",
            "_model_name": "ButtonStyleModel",
            "_view_module": "@jupyter-widgets/base",
            "_model_module_version": "1.5.0",
            "_view_count": null,
            "button_color": null,
            "font_weight": "",
            "_view_module_version": "1.2.0",
            "_model_module": "@jupyter-widgets/controls"
          }
        },
        "fabd63205b554016bffe2d9e2bacc02d": {
          "model_module": "@jupyter-widgets/base",
          "model_name": "LayoutModel",
          "model_module_version": "1.2.0",
          "state": {
            "_view_name": "LayoutView",
            "grid_template_rows": null,
            "right": null,
            "justify_content": null,
            "_view_module": "@jupyter-widgets/base",
            "overflow": null,
            "_model_module_version": "1.2.0",
            "_view_count": null,
            "flex_flow": null,
            "width": null,
            "min_width": null,
            "border": null,
            "align_items": null,
            "bottom": null,
            "_model_module": "@jupyter-widgets/base",
            "top": null,
            "grid_column": null,
            "overflow_y": null,
            "overflow_x": null,
            "grid_auto_flow": null,
            "grid_area": null,
            "grid_template_columns": null,
            "flex": null,
            "_model_name": "LayoutModel",
            "justify_items": null,
            "grid_row": null,
            "max_height": null,
            "align_content": null,
            "visibility": null,
            "align_self": null,
            "height": null,
            "min_height": null,
            "padding": null,
            "grid_auto_rows": null,
            "grid_gap": null,
            "max_width": null,
            "order": null,
            "_view_module_version": "1.2.0",
            "grid_template_areas": null,
            "object_position": null,
            "object_fit": null,
            "grid_auto_columns": null,
            "margin": null,
            "display": null,
            "left": null
          }
        },
        "bcd093f931e24856b66346fbe5ca9e36": {
          "model_module": "@jupyter-widgets/base",
          "model_name": "LayoutModel",
          "model_module_version": "1.2.0",
          "state": {
            "_view_name": "LayoutView",
            "grid_template_rows": null,
            "right": null,
            "justify_content": null,
            "_view_module": "@jupyter-widgets/base",
            "overflow": null,
            "_model_module_version": "1.2.0",
            "_view_count": null,
            "flex_flow": null,
            "width": null,
            "min_width": null,
            "border": null,
            "align_items": null,
            "bottom": null,
            "_model_module": "@jupyter-widgets/base",
            "top": null,
            "grid_column": null,
            "overflow_y": null,
            "overflow_x": null,
            "grid_auto_flow": null,
            "grid_area": null,
            "grid_template_columns": null,
            "flex": null,
            "_model_name": "LayoutModel",
            "justify_items": null,
            "grid_row": null,
            "max_height": null,
            "align_content": null,
            "visibility": null,
            "align_self": null,
            "height": null,
            "min_height": null,
            "padding": null,
            "grid_auto_rows": null,
            "grid_gap": null,
            "max_width": null,
            "order": null,
            "_view_module_version": "1.2.0",
            "grid_template_areas": null,
            "object_position": null,
            "object_fit": null,
            "grid_auto_columns": null,
            "margin": null,
            "display": null,
            "left": null
          }
        },
        "f9686c30eab24c90a6fd941075e39719": {
          "model_module": "@jupyter-widgets/controls",
          "model_name": "TextareaModel",
          "model_module_version": "1.5.0",
          "state": {
            "_view_name": "TextareaView",
            "style": "IPY_MODEL_869e3a49ae0e4dce9579d1d638eb190e",
            "rows": null,
            "_dom_classes": [],
            "description": "",
            "_model_name": "TextareaModel",
            "placeholder": "Type something",
            "_view_module": "@jupyter-widgets/controls",
            "_model_module_version": "1.5.0",
            "value": "Type your answer here and click on `Submit!`",
            "_view_count": null,
            "disabled": false,
            "_view_module_version": "1.5.0",
            "continuous_update": true,
            "description_tooltip": null,
            "_model_module": "@jupyter-widgets/controls",
            "layout": "IPY_MODEL_6499923551b9461ea8cd0af6066a1c38"
          }
        },
        "869e3a49ae0e4dce9579d1d638eb190e": {
          "model_module": "@jupyter-widgets/controls",
          "model_name": "DescriptionStyleModel",
          "model_module_version": "1.5.0",
          "state": {
            "_view_name": "StyleView",
            "_model_name": "DescriptionStyleModel",
            "description_width": "",
            "_view_module": "@jupyter-widgets/base",
            "_model_module_version": "1.5.0",
            "_view_count": null,
            "_view_module_version": "1.2.0",
            "_model_module": "@jupyter-widgets/controls"
          }
        },
        "6499923551b9461ea8cd0af6066a1c38": {
          "model_module": "@jupyter-widgets/base",
          "model_name": "LayoutModel",
          "model_module_version": "1.2.0",
          "state": {
            "_view_name": "LayoutView",
            "grid_template_rows": null,
            "right": null,
            "justify_content": null,
            "_view_module": "@jupyter-widgets/base",
            "overflow": null,
            "_model_module_version": "1.2.0",
            "_view_count": null,
            "flex_flow": null,
            "width": null,
            "min_width": null,
            "border": null,
            "align_items": null,
            "bottom": null,
            "_model_module": "@jupyter-widgets/base",
            "top": null,
            "grid_column": null,
            "overflow_y": null,
            "overflow_x": null,
            "grid_auto_flow": null,
            "grid_area": null,
            "grid_template_columns": null,
            "flex": null,
            "_model_name": "LayoutModel",
            "justify_items": null,
            "grid_row": null,
            "max_height": null,
            "align_content": null,
            "visibility": null,
            "align_self": null,
            "height": null,
            "min_height": null,
            "padding": null,
            "grid_auto_rows": null,
            "grid_gap": null,
            "max_width": null,
            "order": null,
            "_view_module_version": "1.2.0",
            "grid_template_areas": null,
            "object_position": null,
            "object_fit": null,
            "grid_auto_columns": null,
            "margin": null,
            "display": null,
            "left": null
          }
        },
        "32e69b3462db44abb7157d83ab1fff01": {
          "model_module": "@jupyter-widgets/controls",
          "model_name": "ButtonModel",
          "model_module_version": "1.5.0",
          "state": {
            "_view_name": "ButtonView",
            "style": "IPY_MODEL_b8e433583daa4e23928769024bc453e2",
            "_dom_classes": [],
            "description": "Submit!",
            "_model_name": "ButtonModel",
            "button_style": "",
            "_view_module": "@jupyter-widgets/controls",
            "_model_module_version": "1.5.0",
            "tooltip": "",
            "_view_count": null,
            "disabled": false,
            "_view_module_version": "1.5.0",
            "layout": "IPY_MODEL_dd3a7eb60e5e42579350def083b15a20",
            "_model_module": "@jupyter-widgets/controls",
            "icon": ""
          }
        },
        "b8e433583daa4e23928769024bc453e2": {
          "model_module": "@jupyter-widgets/controls",
          "model_name": "ButtonStyleModel",
          "model_module_version": "1.5.0",
          "state": {
            "_view_name": "StyleView",
            "_model_name": "ButtonStyleModel",
            "_view_module": "@jupyter-widgets/base",
            "_model_module_version": "1.5.0",
            "_view_count": null,
            "button_color": null,
            "font_weight": "",
            "_view_module_version": "1.2.0",
            "_model_module": "@jupyter-widgets/controls"
          }
        },
        "dd3a7eb60e5e42579350def083b15a20": {
          "model_module": "@jupyter-widgets/base",
          "model_name": "LayoutModel",
          "model_module_version": "1.2.0",
          "state": {
            "_view_name": "LayoutView",
            "grid_template_rows": null,
            "right": null,
            "justify_content": null,
            "_view_module": "@jupyter-widgets/base",
            "overflow": null,
            "_model_module_version": "1.2.0",
            "_view_count": null,
            "flex_flow": null,
            "width": null,
            "min_width": null,
            "border": null,
            "align_items": null,
            "bottom": null,
            "_model_module": "@jupyter-widgets/base",
            "top": null,
            "grid_column": null,
            "overflow_y": null,
            "overflow_x": null,
            "grid_auto_flow": null,
            "grid_area": null,
            "grid_template_columns": null,
            "flex": null,
            "_model_name": "LayoutModel",
            "justify_items": null,
            "grid_row": null,
            "max_height": null,
            "align_content": null,
            "visibility": null,
            "align_self": null,
            "height": null,
            "min_height": null,
            "padding": null,
            "grid_auto_rows": null,
            "grid_gap": null,
            "max_width": null,
            "order": null,
            "_view_module_version": "1.2.0",
            "grid_template_areas": null,
            "object_position": null,
            "object_fit": null,
            "grid_auto_columns": null,
            "margin": null,
            "display": null,
            "left": null
          }
        },
        "64591ce34f5e48099ff4363e5b8e6053": {
          "model_module": "@jupyter-widgets/controls",
          "model_name": "TabModel",
          "model_module_version": "1.5.0",
          "state": {
            "_view_name": "TabView",
            "_dom_classes": [],
            "_titles": {
              "0": "Youtube",
              "1": "Bilibili"
            },
            "_model_name": "TabModel",
            "_view_module": "@jupyter-widgets/controls",
            "selected_index": 0,
            "_model_module_version": "1.5.0",
            "_view_count": null,
            "_view_module_version": "1.5.0",
            "box_style": "",
            "layout": "IPY_MODEL_b1a13c724f134d6eb7f512376d1ddb45",
            "_model_module": "@jupyter-widgets/controls",
            "children": [
              "IPY_MODEL_e93ff42155f1403985f4952ceb1761ce",
              "IPY_MODEL_11bc5a20923b4eec9b42d1f177f76c95"
            ]
          }
        },
        "b1a13c724f134d6eb7f512376d1ddb45": {
          "model_module": "@jupyter-widgets/base",
          "model_name": "LayoutModel",
          "model_module_version": "1.2.0",
          "state": {
            "_view_name": "LayoutView",
            "grid_template_rows": null,
            "right": null,
            "justify_content": null,
            "_view_module": "@jupyter-widgets/base",
            "overflow": null,
            "_model_module_version": "1.2.0",
            "_view_count": null,
            "flex_flow": null,
            "width": null,
            "min_width": null,
            "border": null,
            "align_items": null,
            "bottom": null,
            "_model_module": "@jupyter-widgets/base",
            "top": null,
            "grid_column": null,
            "overflow_y": null,
            "overflow_x": null,
            "grid_auto_flow": null,
            "grid_area": null,
            "grid_template_columns": null,
            "flex": null,
            "_model_name": "LayoutModel",
            "justify_items": null,
            "grid_row": null,
            "max_height": null,
            "align_content": null,
            "visibility": null,
            "align_self": null,
            "height": null,
            "min_height": null,
            "padding": null,
            "grid_auto_rows": null,
            "grid_gap": null,
            "max_width": null,
            "order": null,
            "_view_module_version": "1.2.0",
            "grid_template_areas": null,
            "object_position": null,
            "object_fit": null,
            "grid_auto_columns": null,
            "margin": null,
            "display": null,
            "left": null
          }
        },
        "e93ff42155f1403985f4952ceb1761ce": {
          "model_module": "@jupyter-widgets/output",
          "model_name": "OutputModel",
          "model_module_version": "1.0.0",
          "state": {
            "_view_name": "OutputView",
            "msg_id": "",
            "_dom_classes": [],
            "_model_name": "OutputModel",
            "outputs": [
              {
                "output_type": "stream",
                "name": "stdout",
                "text": [
                  "Video available at https://youtube.com/watch?v=7vUpUEKKl5o\n"
                ]
              },
              {
                "output_type": "display_data",
                "data": {
                  "text/html": "\n        <iframe\n            width=\"854\"\n            height=\"480\"\n            src=\"https://www.youtube.com/embed/7vUpUEKKl5o?fs=1&rel=0\"\n            frameborder=\"0\"\n            allowfullscreen\n        ></iframe>\n        ",
                  "text/plain": "<IPython.lib.display.YouTubeVideo at 0x7f8541f06850>",
                  "image/jpeg": "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\n"
                },
                "metadata": {}
              }
            ],
            "_view_module": "@jupyter-widgets/output",
            "_model_module_version": "1.0.0",
            "_view_count": null,
            "_view_module_version": "1.0.0",
            "layout": "IPY_MODEL_f7e06da188904785887a3764f43f9835",
            "_model_module": "@jupyter-widgets/output"
          }
        },
        "11bc5a20923b4eec9b42d1f177f76c95": {
          "model_module": "@jupyter-widgets/output",
          "model_name": "OutputModel",
          "model_module_version": "1.0.0",
          "state": {
            "_view_name": "OutputView",
            "msg_id": "",
            "_dom_classes": [],
            "_model_name": "OutputModel",
            "outputs": [
              {
                "output_type": "stream",
                "name": "stdout",
                "text": [
                  "Video available at https://www.bilibili.com/video/BV16h41167Jr\n"
                ]
              },
              {
                "output_type": "display_data",
                "data": {
                  "text/html": "\n        <iframe\n            width=\"854\"\n            height=\"480\"\n            src=\"https://player.bilibili.com/player.html?bvid=BV16h41167Jr&page=1?fs=1\"\n            frameborder=\"0\"\n            allowfullscreen\n        ></iframe>\n        ",
                  "text/plain": "<__main__.BiliVideo at 0x7f85420e4490>"
                },
                "metadata": {}
              }
            ],
            "_view_module": "@jupyter-widgets/output",
            "_model_module_version": "1.0.0",
            "_view_count": null,
            "_view_module_version": "1.0.0",
            "layout": "IPY_MODEL_d6ed7e0cc5c24acaa76f53323d6776fb",
            "_model_module": "@jupyter-widgets/output"
          }
        },
        "f7e06da188904785887a3764f43f9835": {
          "model_module": "@jupyter-widgets/base",
          "model_name": "LayoutModel",
          "model_module_version": "1.2.0",
          "state": {
            "_view_name": "LayoutView",
            "grid_template_rows": null,
            "right": null,
            "justify_content": null,
            "_view_module": "@jupyter-widgets/base",
            "overflow": null,
            "_model_module_version": "1.2.0",
            "_view_count": null,
            "flex_flow": null,
            "width": null,
            "min_width": null,
            "border": null,
            "align_items": null,
            "bottom": null,
            "_model_module": "@jupyter-widgets/base",
            "top": null,
            "grid_column": null,
            "overflow_y": null,
            "overflow_x": null,
            "grid_auto_flow": null,
            "grid_area": null,
            "grid_template_columns": null,
            "flex": null,
            "_model_name": "LayoutModel",
            "justify_items": null,
            "grid_row": null,
            "max_height": null,
            "align_content": null,
            "visibility": null,
            "align_self": null,
            "height": null,
            "min_height": null,
            "padding": null,
            "grid_auto_rows": null,
            "grid_gap": null,
            "max_width": null,
            "order": null,
            "_view_module_version": "1.2.0",
            "grid_template_areas": null,
            "object_position": null,
            "object_fit": null,
            "grid_auto_columns": null,
            "margin": null,
            "display": null,
            "left": null
          }
        },
        "d6ed7e0cc5c24acaa76f53323d6776fb": {
          "model_module": "@jupyter-widgets/base",
          "model_name": "LayoutModel",
          "model_module_version": "1.2.0",
          "state": {
            "_view_name": "LayoutView",
            "grid_template_rows": null,
            "right": null,
            "justify_content": null,
            "_view_module": "@jupyter-widgets/base",
            "overflow": null,
            "_model_module_version": "1.2.0",
            "_view_count": null,
            "flex_flow": null,
            "width": null,
            "min_width": null,
            "border": null,
            "align_items": null,
            "bottom": null,
            "_model_module": "@jupyter-widgets/base",
            "top": null,
            "grid_column": null,
            "overflow_y": null,
            "overflow_x": null,
            "grid_auto_flow": null,
            "grid_area": null,
            "grid_template_columns": null,
            "flex": null,
            "_model_name": "LayoutModel",
            "justify_items": null,
            "grid_row": null,
            "max_height": null,
            "align_content": null,
            "visibility": null,
            "align_self": null,
            "height": null,
            "min_height": null,
            "padding": null,
            "grid_auto_rows": null,
            "grid_gap": null,
            "max_width": null,
            "order": null,
            "_view_module_version": "1.2.0",
            "grid_template_areas": null,
            "object_position": null,
            "object_fit": null,
            "grid_auto_columns": null,
            "margin": null,
            "display": null,
            "left": null
          }
        },
        "1cbc62b60f2f4c37ade2f6e18c898939": {
          "model_module": "@jupyter-widgets/controls",
          "model_name": "VBoxModel",
          "model_module_version": "1.5.0",
          "state": {
            "_view_name": "VBoxView",
            "_dom_classes": [
              "widget-interact"
            ],
            "_model_name": "VBoxModel",
            "_view_module": "@jupyter-widgets/controls",
            "_model_module_version": "1.5.0",
            "_view_count": null,
            "_view_module_version": "1.5.0",
            "box_style": "",
            "layout": "IPY_MODEL_6598089be84c440ab24af8a87e8578ff",
            "_model_module": "@jupyter-widgets/controls",
            "children": [
              "IPY_MODEL_661f980205b74ec29dc9179740b9d62a",
              "IPY_MODEL_eeb2758d8ff6475eba2870e265b53e0a",
              "IPY_MODEL_d638ad1eacac4b7791438ab305e45931",
              "IPY_MODEL_708dd657a5534801b4a8df6d1eda1f52",
              "IPY_MODEL_adb257bc67f5403ebd499de20c68b64f",
              "IPY_MODEL_c15faa1364a54606a58aff9c7d3f4db9"
            ]
          }
        },
        "6598089be84c440ab24af8a87e8578ff": {
          "model_module": "@jupyter-widgets/base",
          "model_name": "LayoutModel",
          "model_module_version": "1.2.0",
          "state": {
            "_view_name": "LayoutView",
            "grid_template_rows": null,
            "right": null,
            "justify_content": null,
            "_view_module": "@jupyter-widgets/base",
            "overflow": null,
            "_model_module_version": "1.2.0",
            "_view_count": null,
            "flex_flow": null,
            "width": null,
            "min_width": null,
            "border": null,
            "align_items": null,
            "bottom": null,
            "_model_module": "@jupyter-widgets/base",
            "top": null,
            "grid_column": null,
            "overflow_y": null,
            "overflow_x": null,
            "grid_auto_flow": null,
            "grid_area": null,
            "grid_template_columns": null,
            "flex": null,
            "_model_name": "LayoutModel",
            "justify_items": null,
            "grid_row": null,
            "max_height": null,
            "align_content": null,
            "visibility": null,
            "align_self": null,
            "height": null,
            "min_height": null,
            "padding": null,
            "grid_auto_rows": null,
            "grid_gap": null,
            "max_width": null,
            "order": null,
            "_view_module_version": "1.2.0",
            "grid_template_areas": null,
            "object_position": null,
            "object_fit": null,
            "grid_auto_columns": null,
            "margin": null,
            "display": null,
            "left": null
          }
        },
        "661f980205b74ec29dc9179740b9d62a": {
          "model_module": "@jupyter-widgets/controls",
          "model_name": "IntSliderModel",
          "model_module_version": "1.5.0",
          "state": {
            "_view_name": "IntSliderView",
            "style": "IPY_MODEL_322283e99ccf4ff8b6b58464dde04bcc",
            "_dom_classes": [],
            "description": "max_steps",
            "step": 5,
            "_model_name": "IntSliderModel",
            "orientation": "horizontal",
            "max": 500,
            "_view_module": "@jupyter-widgets/controls",
            "_model_module_version": "1.5.0",
            "value": 150,
            "_view_count": null,
            "disabled": false,
            "_view_module_version": "1.5.0",
            "min": 50,
            "continuous_update": true,
            "readout_format": "d",
            "description_tooltip": null,
            "readout": true,
            "_model_module": "@jupyter-widgets/controls",
            "layout": "IPY_MODEL_00d755b991e84ee697e145c55e284e80"
          }
        },
        "eeb2758d8ff6475eba2870e265b53e0a": {
          "model_module": "@jupyter-widgets/controls",
          "model_name": "DropdownModel",
          "model_module_version": "1.5.0",
          "state": {
            "_options_labels": [
              "10",
              "20, 20",
              "100, 100"
            ],
            "_view_name": "DropdownView",
            "style": "IPY_MODEL_0e8002707cae402c8b77cbbe5f461320",
            "_dom_classes": [],
            "description": "hidden_dims",
            "_model_name": "DropdownModel",
            "index": 0,
            "_view_module": "@jupyter-widgets/controls",
            "_model_module_version": "1.5.0",
            "_view_count": null,
            "disabled": false,
            "_view_module_version": "1.5.0",
            "description_tooltip": null,
            "_model_module": "@jupyter-widgets/controls",
            "layout": "IPY_MODEL_2277a6dbabff4125b9953ca5c3548989"
          }
        },
        "d638ad1eacac4b7791438ab305e45931": {
          "model_module": "@jupyter-widgets/controls",
          "model_name": "FloatLogSliderModel",
          "model_module_version": "1.5.0",
          "state": {
            "_view_name": "FloatLogSliderView",
            "orientation": "horizontal",
            "_view_module": "@jupyter-widgets/controls",
            "_model_module_version": "1.5.0",
            "_view_count": null,
            "disabled": false,
            "readout_format": ".3g",
            "_model_module": "@jupyter-widgets/controls",
            "style": "IPY_MODEL_74a52521c1394a9dae35895f9c82104b",
            "layout": "IPY_MODEL_862dc90666144401a44dd742979528f4",
            "min": -3,
            "continuous_update": true,
            "description_tooltip": null,
            "_dom_classes": [],
            "description": "lr",
            "_model_name": "FloatLogSliderModel",
            "max": 0,
            "readout": true,
            "step": 0.1,
            "base": 10,
            "value": 0.05,
            "_view_module_version": "1.5.0"
          }
        },
        "708dd657a5534801b4a8df6d1eda1f52": {
          "model_module": "@jupyter-widgets/controls",
          "model_name": "IntSliderModel",
          "model_module_version": "1.5.0",
          "state": {
            "_view_name": "IntSliderView",
            "style": "IPY_MODEL_52199e5d123f4431afbb37dd458de070",
            "_dom_classes": [],
            "description": "num_inits",
            "step": 1,
            "_model_name": "IntSliderModel",
            "orientation": "horizontal",
            "max": 10,
            "_view_module": "@jupyter-widgets/controls",
            "_model_module_version": "1.5.0",
            "value": 7,
            "_view_count": null,
            "disabled": false,
            "_view_module_version": "1.5.0",
            "min": 5,
            "continuous_update": true,
            "readout_format": "d",
            "description_tooltip": null,
            "readout": true,
            "_model_module": "@jupyter-widgets/controls",
            "layout": "IPY_MODEL_8134c2d218ec473aad380376eeb02bb3"
          }
        },
        "adb257bc67f5403ebd499de20c68b64f": {
          "model_module": "@jupyter-widgets/controls",
          "model_name": "ButtonModel",
          "model_module_version": "1.5.0",
          "state": {
            "_view_name": "ButtonView",
            "style": "IPY_MODEL_b206bad7ae014c3d90711ccabc841428",
            "_dom_classes": [],
            "description": "Run Interact",
            "_model_name": "ButtonModel",
            "button_style": "",
            "_view_module": "@jupyter-widgets/controls",
            "_model_module_version": "1.5.0",
            "tooltip": "",
            "_view_count": null,
            "disabled": false,
            "_view_module_version": "1.5.0",
            "layout": "IPY_MODEL_3a4c4bf6b1ea41a782b4a70e7caab5e8",
            "_model_module": "@jupyter-widgets/controls",
            "icon": ""
          }
        },
        "c15faa1364a54606a58aff9c7d3f4db9": {
          "model_module": "@jupyter-widgets/output",
          "model_name": "OutputModel",
          "model_module_version": "1.0.0",
          "state": {
            "_view_name": "OutputView",
            "msg_id": "",
            "_dom_classes": [],
            "_model_name": "OutputModel",
            "outputs": [],
            "_view_module": "@jupyter-widgets/output",
            "_model_module_version": "1.0.0",
            "_view_count": null,
            "_view_module_version": "1.0.0",
            "layout": "IPY_MODEL_88d988f84140403a97b77fbb110f6349",
            "_model_module": "@jupyter-widgets/output"
          }
        },
        "322283e99ccf4ff8b6b58464dde04bcc": {
          "model_module": "@jupyter-widgets/controls",
          "model_name": "SliderStyleModel",
          "model_module_version": "1.5.0",
          "state": {
            "_view_name": "StyleView",
            "handle_color": null,
            "_model_name": "SliderStyleModel",
            "description_width": "",
            "_view_module": "@jupyter-widgets/base",
            "_model_module_version": "1.5.0",
            "_view_count": null,
            "_view_module_version": "1.2.0",
            "_model_module": "@jupyter-widgets/controls"
          }
        },
        "00d755b991e84ee697e145c55e284e80": {
          "model_module": "@jupyter-widgets/base",
          "model_name": "LayoutModel",
          "model_module_version": "1.2.0",
          "state": {
            "_view_name": "LayoutView",
            "grid_template_rows": null,
            "right": null,
            "justify_content": null,
            "_view_module": "@jupyter-widgets/base",
            "overflow": null,
            "_model_module_version": "1.2.0",
            "_view_count": null,
            "flex_flow": null,
            "width": null,
            "min_width": null,
            "border": null,
            "align_items": null,
            "bottom": null,
            "_model_module": "@jupyter-widgets/base",
            "top": null,
            "grid_column": null,
            "overflow_y": null,
            "overflow_x": null,
            "grid_auto_flow": null,
            "grid_area": null,
            "grid_template_columns": null,
            "flex": null,
            "_model_name": "LayoutModel",
            "justify_items": null,
            "grid_row": null,
            "max_height": null,
            "align_content": null,
            "visibility": null,
            "align_self": null,
            "height": null,
            "min_height": null,
            "padding": null,
            "grid_auto_rows": null,
            "grid_gap": null,
            "max_width": null,
            "order": null,
            "_view_module_version": "1.2.0",
            "grid_template_areas": null,
            "object_position": null,
            "object_fit": null,
            "grid_auto_columns": null,
            "margin": null,
            "display": null,
            "left": null
          }
        },
        "0e8002707cae402c8b77cbbe5f461320": {
          "model_module": "@jupyter-widgets/controls",
          "model_name": "DescriptionStyleModel",
          "model_module_version": "1.5.0",
          "state": {
            "_view_name": "StyleView",
            "_model_name": "DescriptionStyleModel",
            "description_width": "",
            "_view_module": "@jupyter-widgets/base",
            "_model_module_version": "1.5.0",
            "_view_count": null,
            "_view_module_version": "1.2.0",
            "_model_module": "@jupyter-widgets/controls"
          }
        },
        "2277a6dbabff4125b9953ca5c3548989": {
          "model_module": "@jupyter-widgets/base",
          "model_name": "LayoutModel",
          "model_module_version": "1.2.0",
          "state": {
            "_view_name": "LayoutView",
            "grid_template_rows": null,
            "right": null,
            "justify_content": null,
            "_view_module": "@jupyter-widgets/base",
            "overflow": null,
            "_model_module_version": "1.2.0",
            "_view_count": null,
            "flex_flow": null,
            "width": null,
            "min_width": null,
            "border": null,
            "align_items": null,
            "bottom": null,
            "_model_module": "@jupyter-widgets/base",
            "top": null,
            "grid_column": null,
            "overflow_y": null,
            "overflow_x": null,
            "grid_auto_flow": null,
            "grid_area": null,
            "grid_template_columns": null,
            "flex": null,
            "_model_name": "LayoutModel",
            "justify_items": null,
            "grid_row": null,
            "max_height": null,
            "align_content": null,
            "visibility": null,
            "align_self": null,
            "height": null,
            "min_height": null,
            "padding": null,
            "grid_auto_rows": null,
            "grid_gap": null,
            "max_width": null,
            "order": null,
            "_view_module_version": "1.2.0",
            "grid_template_areas": null,
            "object_position": null,
            "object_fit": null,
            "grid_auto_columns": null,
            "margin": null,
            "display": null,
            "left": null
          }
        },
        "74a52521c1394a9dae35895f9c82104b": {
          "model_module": "@jupyter-widgets/controls",
          "model_name": "SliderStyleModel",
          "model_module_version": "1.5.0",
          "state": {
            "_view_name": "StyleView",
            "handle_color": null,
            "_model_name": "SliderStyleModel",
            "description_width": "",
            "_view_module": "@jupyter-widgets/base",
            "_model_module_version": "1.5.0",
            "_view_count": null,
            "_view_module_version": "1.2.0",
            "_model_module": "@jupyter-widgets/controls"
          }
        },
        "862dc90666144401a44dd742979528f4": {
          "model_module": "@jupyter-widgets/base",
          "model_name": "LayoutModel",
          "model_module_version": "1.2.0",
          "state": {
            "_view_name": "LayoutView",
            "grid_template_rows": null,
            "right": null,
            "justify_content": null,
            "_view_module": "@jupyter-widgets/base",
            "overflow": null,
            "_model_module_version": "1.2.0",
            "_view_count": null,
            "flex_flow": null,
            "width": null,
            "min_width": null,
            "border": null,
            "align_items": null,
            "bottom": null,
            "_model_module": "@jupyter-widgets/base",
            "top": null,
            "grid_column": null,
            "overflow_y": null,
            "overflow_x": null,
            "grid_auto_flow": null,
            "grid_area": null,
            "grid_template_columns": null,
            "flex": null,
            "_model_name": "LayoutModel",
            "justify_items": null,
            "grid_row": null,
            "max_height": null,
            "align_content": null,
            "visibility": null,
            "align_self": null,
            "height": null,
            "min_height": null,
            "padding": null,
            "grid_auto_rows": null,
            "grid_gap": null,
            "max_width": null,
            "order": null,
            "_view_module_version": "1.2.0",
            "grid_template_areas": null,
            "object_position": null,
            "object_fit": null,
            "grid_auto_columns": null,
            "margin": null,
            "display": null,
            "left": null
          }
        },
        "52199e5d123f4431afbb37dd458de070": {
          "model_module": "@jupyter-widgets/controls",
          "model_name": "SliderStyleModel",
          "model_module_version": "1.5.0",
          "state": {
            "_view_name": "StyleView",
            "handle_color": null,
            "_model_name": "SliderStyleModel",
            "description_width": "",
            "_view_module": "@jupyter-widgets/base",
            "_model_module_version": "1.5.0",
            "_view_count": null,
            "_view_module_version": "1.2.0",
            "_model_module": "@jupyter-widgets/controls"
          }
        },
        "8134c2d218ec473aad380376eeb02bb3": {
          "model_module": "@jupyter-widgets/base",
          "model_name": "LayoutModel",
          "model_module_version": "1.2.0",
          "state": {
            "_view_name": "LayoutView",
            "grid_template_rows": null,
            "right": null,
            "justify_content": null,
            "_view_module": "@jupyter-widgets/base",
            "overflow": null,
            "_model_module_version": "1.2.0",
            "_view_count": null,
            "flex_flow": null,
            "width": null,
            "min_width": null,
            "border": null,
            "align_items": null,
            "bottom": null,
            "_model_module": "@jupyter-widgets/base",
            "top": null,
            "grid_column": null,
            "overflow_y": null,
            "overflow_x": null,
            "grid_auto_flow": null,
            "grid_area": null,
            "grid_template_columns": null,
            "flex": null,
            "_model_name": "LayoutModel",
            "justify_items": null,
            "grid_row": null,
            "max_height": null,
            "align_content": null,
            "visibility": null,
            "align_self": null,
            "height": null,
            "min_height": null,
            "padding": null,
            "grid_auto_rows": null,
            "grid_gap": null,
            "max_width": null,
            "order": null,
            "_view_module_version": "1.2.0",
            "grid_template_areas": null,
            "object_position": null,
            "object_fit": null,
            "grid_auto_columns": null,
            "margin": null,
            "display": null,
            "left": null
          }
        },
        "b206bad7ae014c3d90711ccabc841428": {
          "model_module": "@jupyter-widgets/controls",
          "model_name": "ButtonStyleModel",
          "model_module_version": "1.5.0",
          "state": {
            "_view_name": "StyleView",
            "_model_name": "ButtonStyleModel",
            "_view_module": "@jupyter-widgets/base",
            "_model_module_version": "1.5.0",
            "_view_count": null,
            "button_color": null,
            "font_weight": "",
            "_view_module_version": "1.2.0",
            "_model_module": "@jupyter-widgets/controls"
          }
        },
        "3a4c4bf6b1ea41a782b4a70e7caab5e8": {
          "model_module": "@jupyter-widgets/base",
          "model_name": "LayoutModel",
          "model_module_version": "1.2.0",
          "state": {
            "_view_name": "LayoutView",
            "grid_template_rows": null,
            "right": null,
            "justify_content": null,
            "_view_module": "@jupyter-widgets/base",
            "overflow": null,
            "_model_module_version": "1.2.0",
            "_view_count": null,
            "flex_flow": null,
            "width": null,
            "min_width": null,
            "border": null,
            "align_items": null,
            "bottom": null,
            "_model_module": "@jupyter-widgets/base",
            "top": null,
            "grid_column": null,
            "overflow_y": null,
            "overflow_x": null,
            "grid_auto_flow": null,
            "grid_area": null,
            "grid_template_columns": null,
            "flex": null,
            "_model_name": "LayoutModel",
            "justify_items": null,
            "grid_row": null,
            "max_height": null,
            "align_content": null,
            "visibility": null,
            "align_self": null,
            "height": null,
            "min_height": null,
            "padding": null,
            "grid_auto_rows": null,
            "grid_gap": null,
            "max_width": null,
            "order": null,
            "_view_module_version": "1.2.0",
            "grid_template_areas": null,
            "object_position": null,
            "object_fit": null,
            "grid_auto_columns": null,
            "margin": null,
            "display": null,
            "left": null
          }
        },
        "88d988f84140403a97b77fbb110f6349": {
          "model_module": "@jupyter-widgets/base",
          "model_name": "LayoutModel",
          "model_module_version": "1.2.0",
          "state": {
            "_view_name": "LayoutView",
            "grid_template_rows": null,
            "right": null,
            "justify_content": null,
            "_view_module": "@jupyter-widgets/base",
            "overflow": null,
            "_model_module_version": "1.2.0",
            "_view_count": null,
            "flex_flow": null,
            "width": null,
            "min_width": null,
            "border": null,
            "align_items": null,
            "bottom": null,
            "_model_module": "@jupyter-widgets/base",
            "top": null,
            "grid_column": null,
            "overflow_y": null,
            "overflow_x": null,
            "grid_auto_flow": null,
            "grid_area": null,
            "grid_template_columns": null,
            "flex": null,
            "_model_name": "LayoutModel",
            "justify_items": null,
            "grid_row": null,
            "max_height": null,
            "align_content": null,
            "visibility": null,
            "align_self": null,
            "height": null,
            "min_height": null,
            "padding": null,
            "grid_auto_rows": null,
            "grid_gap": null,
            "max_width": null,
            "order": null,
            "_view_module_version": "1.2.0",
            "grid_template_areas": null,
            "object_position": null,
            "object_fit": null,
            "grid_auto_columns": null,
            "margin": null,
            "display": null,
            "left": null
          }
        },
        "3c1fe207c3fb4e8ab97f7e52d4bcf23a": {
          "model_module": "@jupyter-widgets/controls",
          "model_name": "TextareaModel",
          "model_module_version": "1.5.0",
          "state": {
            "_view_name": "TextareaView",
            "style": "IPY_MODEL_7f4950cfc8f546b4a59d2147e0c90622",
            "rows": null,
            "_dom_classes": [],
            "description": "",
            "_model_name": "TextareaModel",
            "placeholder": "Type something",
            "_view_module": "@jupyter-widgets/controls",
            "_model_module_version": "1.5.0",
            "value": "Type your answer here and click on `Submit!`",
            "_view_count": null,
            "disabled": false,
            "_view_module_version": "1.5.0",
            "continuous_update": true,
            "description_tooltip": null,
            "_model_module": "@jupyter-widgets/controls",
            "layout": "IPY_MODEL_6615c3fab8d94a8d8a6974a900c1c4ab"
          }
        },
        "7f4950cfc8f546b4a59d2147e0c90622": {
          "model_module": "@jupyter-widgets/controls",
          "model_name": "DescriptionStyleModel",
          "model_module_version": "1.5.0",
          "state": {
            "_view_name": "StyleView",
            "_model_name": "DescriptionStyleModel",
            "description_width": "",
            "_view_module": "@jupyter-widgets/base",
            "_model_module_version": "1.5.0",
            "_view_count": null,
            "_view_module_version": "1.2.0",
            "_model_module": "@jupyter-widgets/controls"
          }
        },
        "6615c3fab8d94a8d8a6974a900c1c4ab": {
          "model_module": "@jupyter-widgets/base",
          "model_name": "LayoutModel",
          "model_module_version": "1.2.0",
          "state": {
            "_view_name": "LayoutView",
            "grid_template_rows": null,
            "right": null,
            "justify_content": null,
            "_view_module": "@jupyter-widgets/base",
            "overflow": null,
            "_model_module_version": "1.2.0",
            "_view_count": null,
            "flex_flow": null,
            "width": null,
            "min_width": null,
            "border": null,
            "align_items": null,
            "bottom": null,
            "_model_module": "@jupyter-widgets/base",
            "top": null,
            "grid_column": null,
            "overflow_y": null,
            "overflow_x": null,
            "grid_auto_flow": null,
            "grid_area": null,
            "grid_template_columns": null,
            "flex": null,
            "_model_name": "LayoutModel",
            "justify_items": null,
            "grid_row": null,
            "max_height": null,
            "align_content": null,
            "visibility": null,
            "align_self": null,
            "height": null,
            "min_height": null,
            "padding": null,
            "grid_auto_rows": null,
            "grid_gap": null,
            "max_width": null,
            "order": null,
            "_view_module_version": "1.2.0",
            "grid_template_areas": null,
            "object_position": null,
            "object_fit": null,
            "grid_auto_columns": null,
            "margin": null,
            "display": null,
            "left": null
          }
        },
        "47a3fbffe99a43fb90e9134971f4c7d9": {
          "model_module": "@jupyter-widgets/controls",
          "model_name": "ButtonModel",
          "model_module_version": "1.5.0",
          "state": {
            "_view_name": "ButtonView",
            "style": "IPY_MODEL_6044e5e01fc349e68c6aeac2c9f8b6d5",
            "_dom_classes": [],
            "description": "Submit!",
            "_model_name": "ButtonModel",
            "button_style": "",
            "_view_module": "@jupyter-widgets/controls",
            "_model_module_version": "1.5.0",
            "tooltip": "",
            "_view_count": null,
            "disabled": false,
            "_view_module_version": "1.5.0",
            "layout": "IPY_MODEL_d3b4c46642af4e58963f41ded0b0f603",
            "_model_module": "@jupyter-widgets/controls",
            "icon": ""
          }
        },
        "6044e5e01fc349e68c6aeac2c9f8b6d5": {
          "model_module": "@jupyter-widgets/controls",
          "model_name": "ButtonStyleModel",
          "model_module_version": "1.5.0",
          "state": {
            "_view_name": "StyleView",
            "_model_name": "ButtonStyleModel",
            "_view_module": "@jupyter-widgets/base",
            "_model_module_version": "1.5.0",
            "_view_count": null,
            "button_color": null,
            "font_weight": "",
            "_view_module_version": "1.2.0",
            "_model_module": "@jupyter-widgets/controls"
          }
        },
        "d3b4c46642af4e58963f41ded0b0f603": {
          "model_module": "@jupyter-widgets/base",
          "model_name": "LayoutModel",
          "model_module_version": "1.2.0",
          "state": {
            "_view_name": "LayoutView",
            "grid_template_rows": null,
            "right": null,
            "justify_content": null,
            "_view_module": "@jupyter-widgets/base",
            "overflow": null,
            "_model_module_version": "1.2.0",
            "_view_count": null,
            "flex_flow": null,
            "width": null,
            "min_width": null,
            "border": null,
            "align_items": null,
            "bottom": null,
            "_model_module": "@jupyter-widgets/base",
            "top": null,
            "grid_column": null,
            "overflow_y": null,
            "overflow_x": null,
            "grid_auto_flow": null,
            "grid_area": null,
            "grid_template_columns": null,
            "flex": null,
            "_model_name": "LayoutModel",
            "justify_items": null,
            "grid_row": null,
            "max_height": null,
            "align_content": null,
            "visibility": null,
            "align_self": null,
            "height": null,
            "min_height": null,
            "padding": null,
            "grid_auto_rows": null,
            "grid_gap": null,
            "max_width": null,
            "order": null,
            "_view_module_version": "1.2.0",
            "grid_template_areas": null,
            "object_position": null,
            "object_fit": null,
            "grid_auto_columns": null,
            "margin": null,
            "display": null,
            "left": null
          }
        },
        "9d344a0041f849a9bc264f25740b2441": {
          "model_module": "@jupyter-widgets/controls",
          "model_name": "TabModel",
          "model_module_version": "1.5.0",
          "state": {
            "_view_name": "TabView",
            "_dom_classes": [],
            "_titles": {
              "0": "Youtube",
              "1": "Bilibili"
            },
            "_model_name": "TabModel",
            "_view_module": "@jupyter-widgets/controls",
            "selected_index": 0,
            "_model_module_version": "1.5.0",
            "_view_count": null,
            "_view_module_version": "1.5.0",
            "box_style": "",
            "layout": "IPY_MODEL_9fbba5fdb8164ba6990ed8adf28f6580",
            "_model_module": "@jupyter-widgets/controls",
            "children": [
              "IPY_MODEL_05f3be69019747329d413f49d070a1f4",
              "IPY_MODEL_e94fb052f2644299a05de4a34ba22f29"
            ]
          }
        },
        "9fbba5fdb8164ba6990ed8adf28f6580": {
          "model_module": "@jupyter-widgets/base",
          "model_name": "LayoutModel",
          "model_module_version": "1.2.0",
          "state": {
            "_view_name": "LayoutView",
            "grid_template_rows": null,
            "right": null,
            "justify_content": null,
            "_view_module": "@jupyter-widgets/base",
            "overflow": null,
            "_model_module_version": "1.2.0",
            "_view_count": null,
            "flex_flow": null,
            "width": null,
            "min_width": null,
            "border": null,
            "align_items": null,
            "bottom": null,
            "_model_module": "@jupyter-widgets/base",
            "top": null,
            "grid_column": null,
            "overflow_y": null,
            "overflow_x": null,
            "grid_auto_flow": null,
            "grid_area": null,
            "grid_template_columns": null,
            "flex": null,
            "_model_name": "LayoutModel",
            "justify_items": null,
            "grid_row": null,
            "max_height": null,
            "align_content": null,
            "visibility": null,
            "align_self": null,
            "height": null,
            "min_height": null,
            "padding": null,
            "grid_auto_rows": null,
            "grid_gap": null,
            "max_width": null,
            "order": null,
            "_view_module_version": "1.2.0",
            "grid_template_areas": null,
            "object_position": null,
            "object_fit": null,
            "grid_auto_columns": null,
            "margin": null,
            "display": null,
            "left": null
          }
        },
        "05f3be69019747329d413f49d070a1f4": {
          "model_module": "@jupyter-widgets/output",
          "model_name": "OutputModel",
          "model_module_version": "1.0.0",
          "state": {
            "_view_name": "OutputView",
            "msg_id": "",
            "_dom_classes": [],
            "_model_name": "OutputModel",
            "outputs": [
              {
                "output_type": "stream",
                "name": "stdout",
                "text": [
                  "Video available at https://youtube.com/watch?v=hbqUxpNBUGk\n"
                ]
              },
              {
                "output_type": "display_data",
                "data": {
                  "text/html": "\n        <iframe\n            width=\"854\"\n            height=\"480\"\n            src=\"https://www.youtube.com/embed/hbqUxpNBUGk?fs=1&rel=0\"\n            frameborder=\"0\"\n            allowfullscreen\n        ></iframe>\n        ",
                  "text/plain": "<IPython.lib.display.YouTubeVideo at 0x7f8542079bd0>",
                  "image/jpeg": "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\n"
                },
                "metadata": {}
              }
            ],
            "_view_module": "@jupyter-widgets/output",
            "_model_module_version": "1.0.0",
            "_view_count": null,
            "_view_module_version": "1.0.0",
            "layout": "IPY_MODEL_00267c73e3ae48aba63cb3bb7c7ec5bb",
            "_model_module": "@jupyter-widgets/output"
          }
        },
        "e94fb052f2644299a05de4a34ba22f29": {
          "model_module": "@jupyter-widgets/output",
          "model_name": "OutputModel",
          "model_module_version": "1.0.0",
          "state": {
            "_view_name": "OutputView",
            "msg_id": "",
            "_dom_classes": [],
            "_model_name": "OutputModel",
            "outputs": [
              {
                "output_type": "stream",
                "name": "stdout",
                "text": [
                  "Video available at https://www.bilibili.com/video/BV1ty4y1T7Uh\n"
                ]
              },
              {
                "output_type": "display_data",
                "data": {
                  "text/html": "\n        <iframe\n            width=\"854\"\n            height=\"480\"\n            src=\"https://player.bilibili.com/player.html?bvid=BV1ty4y1T7Uh&page=1?fs=1\"\n            frameborder=\"0\"\n            allowfullscreen\n        ></iframe>\n        ",
                  "text/plain": "<__main__.BiliVideo at 0x7f8542079510>"
                },
                "metadata": {}
              }
            ],
            "_view_module": "@jupyter-widgets/output",
            "_model_module_version": "1.0.0",
            "_view_count": null,
            "_view_module_version": "1.0.0",
            "layout": "IPY_MODEL_ebfe05bc25784b0d85ce635161378689",
            "_model_module": "@jupyter-widgets/output"
          }
        },
        "00267c73e3ae48aba63cb3bb7c7ec5bb": {
          "model_module": "@jupyter-widgets/base",
          "model_name": "LayoutModel",
          "model_module_version": "1.2.0",
          "state": {
            "_view_name": "LayoutView",
            "grid_template_rows": null,
            "right": null,
            "justify_content": null,
            "_view_module": "@jupyter-widgets/base",
            "overflow": null,
            "_model_module_version": "1.2.0",
            "_view_count": null,
            "flex_flow": null,
            "width": null,
            "min_width": null,
            "border": null,
            "align_items": null,
            "bottom": null,
            "_model_module": "@jupyter-widgets/base",
            "top": null,
            "grid_column": null,
            "overflow_y": null,
            "overflow_x": null,
            "grid_auto_flow": null,
            "grid_area": null,
            "grid_template_columns": null,
            "flex": null,
            "_model_name": "LayoutModel",
            "justify_items": null,
            "grid_row": null,
            "max_height": null,
            "align_content": null,
            "visibility": null,
            "align_self": null,
            "height": null,
            "min_height": null,
            "padding": null,
            "grid_auto_rows": null,
            "grid_gap": null,
            "max_width": null,
            "order": null,
            "_view_module_version": "1.2.0",
            "grid_template_areas": null,
            "object_position": null,
            "object_fit": null,
            "grid_auto_columns": null,
            "margin": null,
            "display": null,
            "left": null
          }
        },
        "ebfe05bc25784b0d85ce635161378689": {
          "model_module": "@jupyter-widgets/base",
          "model_name": "LayoutModel",
          "model_module_version": "1.2.0",
          "state": {
            "_view_name": "LayoutView",
            "grid_template_rows": null,
            "right": null,
            "justify_content": null,
            "_view_module": "@jupyter-widgets/base",
            "overflow": null,
            "_model_module_version": "1.2.0",
            "_view_count": null,
            "flex_flow": null,
            "width": null,
            "min_width": null,
            "border": null,
            "align_items": null,
            "bottom": null,
            "_model_module": "@jupyter-widgets/base",
            "top": null,
            "grid_column": null,
            "overflow_y": null,
            "overflow_x": null,
            "grid_auto_flow": null,
            "grid_area": null,
            "grid_template_columns": null,
            "flex": null,
            "_model_name": "LayoutModel",
            "justify_items": null,
            "grid_row": null,
            "max_height": null,
            "align_content": null,
            "visibility": null,
            "align_self": null,
            "height": null,
            "min_height": null,
            "padding": null,
            "grid_auto_rows": null,
            "grid_gap": null,
            "max_width": null,
            "order": null,
            "_view_module_version": "1.2.0",
            "grid_template_areas": null,
            "object_position": null,
            "object_fit": null,
            "grid_auto_columns": null,
            "margin": null,
            "display": null,
            "left": null
          }
        },
        "41c16fea658645889f7f8cb2a8d3843a": {
          "model_module": "@jupyter-widgets/controls",
          "model_name": "VBoxModel",
          "model_module_version": "1.5.0",
          "state": {
            "_view_name": "VBoxView",
            "_dom_classes": [
              "widget-interact"
            ],
            "_model_name": "VBoxModel",
            "_view_module": "@jupyter-widgets/controls",
            "_model_module_version": "1.5.0",
            "_view_count": null,
            "_view_module_version": "1.5.0",
            "box_style": "",
            "layout": "IPY_MODEL_202385444adb4260827edf805e2958ed",
            "_model_module": "@jupyter-widgets/controls",
            "children": [
              "IPY_MODEL_407f92b9ebe448c7aeaf24e9a0c8b64d",
              "IPY_MODEL_d2a898053b0941d2aff22462cf7b0f6d"
            ]
          }
        },
        "202385444adb4260827edf805e2958ed": {
          "model_module": "@jupyter-widgets/base",
          "model_name": "LayoutModel",
          "model_module_version": "1.2.0",
          "state": {
            "_view_name": "LayoutView",
            "grid_template_rows": null,
            "right": null,
            "justify_content": null,
            "_view_module": "@jupyter-widgets/base",
            "overflow": null,
            "_model_module_version": "1.2.0",
            "_view_count": null,
            "flex_flow": null,
            "width": null,
            "min_width": null,
            "border": null,
            "align_items": null,
            "bottom": null,
            "_model_module": "@jupyter-widgets/base",
            "top": null,
            "grid_column": null,
            "overflow_y": null,
            "overflow_x": null,
            "grid_auto_flow": null,
            "grid_area": null,
            "grid_template_columns": null,
            "flex": null,
            "_model_name": "LayoutModel",
            "justify_items": null,
            "grid_row": null,
            "max_height": null,
            "align_content": null,
            "visibility": null,
            "align_self": null,
            "height": null,
            "min_height": null,
            "padding": null,
            "grid_auto_rows": null,
            "grid_gap": null,
            "max_width": null,
            "order": null,
            "_view_module_version": "1.2.0",
            "grid_template_areas": null,
            "object_position": null,
            "object_fit": null,
            "grid_auto_columns": null,
            "margin": null,
            "display": null,
            "left": null
          }
        },
        "407f92b9ebe448c7aeaf24e9a0c8b64d": {
          "model_module": "@jupyter-widgets/controls",
          "model_name": "DropdownModel",
          "model_module_version": "1.5.0",
          "state": {
            "_options_labels": [
              "1",
              "100",
              "50, 50"
            ],
            "_view_name": "DropdownView",
            "style": "IPY_MODEL_dc92ef47b39e4e12bfc36642864a116b",
            "_dom_classes": [],
            "description": "hidden_dims",
            "_model_name": "DropdownModel",
            "index": 1,
            "_view_module": "@jupyter-widgets/controls",
            "_model_module_version": "1.5.0",
            "_view_count": null,
            "disabled": false,
            "_view_module_version": "1.5.0",
            "description_tooltip": null,
            "_model_module": "@jupyter-widgets/controls",
            "layout": "IPY_MODEL_ed59eabaad814a42b9bc822e28dbfcd2"
          }
        },
        "d2a898053b0941d2aff22462cf7b0f6d": {
          "model_module": "@jupyter-widgets/output",
          "model_name": "OutputModel",
          "model_module_version": "1.0.0",
          "state": {
            "_view_name": "OutputView",
            "msg_id": "",
            "_dom_classes": [],
            "_model_name": "OutputModel",
            "outputs": [
              {
                "output_type": "display_data",
                "data": {
                  "image/png": "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\n",
                  "text/plain": "<Figure size 360x288 with 1 Axes>"
                },
                "metadata": {
                  "image/png": {
                    "width": 342,
                    "height": 270
                  },
                  "needs_background": "light"
                }
              }
            ],
            "_view_module": "@jupyter-widgets/output",
            "_model_module_version": "1.0.0",
            "_view_count": null,
            "_view_module_version": "1.0.0",
            "layout": "IPY_MODEL_cb1131f8356947608d377f6f958f7e6a",
            "_model_module": "@jupyter-widgets/output"
          }
        },
        "dc92ef47b39e4e12bfc36642864a116b": {
          "model_module": "@jupyter-widgets/controls",
          "model_name": "DescriptionStyleModel",
          "model_module_version": "1.5.0",
          "state": {
            "_view_name": "StyleView",
            "_model_name": "DescriptionStyleModel",
            "description_width": "",
            "_view_module": "@jupyter-widgets/base",
            "_model_module_version": "1.5.0",
            "_view_count": null,
            "_view_module_version": "1.2.0",
            "_model_module": "@jupyter-widgets/controls"
          }
        },
        "ed59eabaad814a42b9bc822e28dbfcd2": {
          "model_module": "@jupyter-widgets/base",
          "model_name": "LayoutModel",
          "model_module_version": "1.2.0",
          "state": {
            "_view_name": "LayoutView",
            "grid_template_rows": null,
            "right": null,
            "justify_content": null,
            "_view_module": "@jupyter-widgets/base",
            "overflow": null,
            "_model_module_version": "1.2.0",
            "_view_count": null,
            "flex_flow": null,
            "width": null,
            "min_width": null,
            "border": null,
            "align_items": null,
            "bottom": null,
            "_model_module": "@jupyter-widgets/base",
            "top": null,
            "grid_column": null,
            "overflow_y": null,
            "overflow_x": null,
            "grid_auto_flow": null,
            "grid_area": null,
            "grid_template_columns": null,
            "flex": null,
            "_model_name": "LayoutModel",
            "justify_items": null,
            "grid_row": null,
            "max_height": null,
            "align_content": null,
            "visibility": null,
            "align_self": null,
            "height": null,
            "min_height": null,
            "padding": null,
            "grid_auto_rows": null,
            "grid_gap": null,
            "max_width": null,
            "order": null,
            "_view_module_version": "1.2.0",
            "grid_template_areas": null,
            "object_position": null,
            "object_fit": null,
            "grid_auto_columns": null,
            "margin": null,
            "display": null,
            "left": null
          }
        },
        "cb1131f8356947608d377f6f958f7e6a": {
          "model_module": "@jupyter-widgets/base",
          "model_name": "LayoutModel",
          "model_module_version": "1.2.0",
          "state": {
            "_view_name": "LayoutView",
            "grid_template_rows": null,
            "right": null,
            "justify_content": null,
            "_view_module": "@jupyter-widgets/base",
            "overflow": null,
            "_model_module_version": "1.2.0",
            "_view_count": null,
            "flex_flow": null,
            "width": null,
            "min_width": null,
            "border": null,
            "align_items": null,
            "bottom": null,
            "_model_module": "@jupyter-widgets/base",
            "top": null,
            "grid_column": null,
            "overflow_y": null,
            "overflow_x": null,
            "grid_auto_flow": null,
            "grid_area": null,
            "grid_template_columns": null,
            "flex": null,
            "_model_name": "LayoutModel",
            "justify_items": null,
            "grid_row": null,
            "max_height": null,
            "align_content": null,
            "visibility": null,
            "align_self": null,
            "height": null,
            "min_height": null,
            "padding": null,
            "grid_auto_rows": null,
            "grid_gap": null,
            "max_width": null,
            "order": null,
            "_view_module_version": "1.2.0",
            "grid_template_areas": null,
            "object_position": null,
            "object_fit": null,
            "grid_auto_columns": null,
            "margin": null,
            "display": null,
            "left": null
          }
        },
        "5b4021bee6414773b8deb34aa7858632": {
          "model_module": "@jupyter-widgets/controls",
          "model_name": "VBoxModel",
          "model_module_version": "1.5.0",
          "state": {
            "_view_name": "VBoxView",
            "_dom_classes": [
              "widget-interact"
            ],
            "_model_name": "VBoxModel",
            "_view_module": "@jupyter-widgets/controls",
            "_model_module_version": "1.5.0",
            "_view_count": null,
            "_view_module_version": "1.5.0",
            "box_style": "",
            "layout": "IPY_MODEL_161a46dcd10644c4a79327d2afd42d53",
            "_model_module": "@jupyter-widgets/controls",
            "children": [
              "IPY_MODEL_2c2607bc8b074185b2e5f769b908bdf4",
              "IPY_MODEL_39b1d560c7294c17ae58293ab7a87e92",
              "IPY_MODEL_8b0547fdd33e4148903f8e1469a11574",
              "IPY_MODEL_3141dab630e6410888b76a1915fa1b31",
              "IPY_MODEL_786ce19f301246bb839302ba42621331"
            ]
          }
        },
        "161a46dcd10644c4a79327d2afd42d53": {
          "model_module": "@jupyter-widgets/base",
          "model_name": "LayoutModel",
          "model_module_version": "1.2.0",
          "state": {
            "_view_name": "LayoutView",
            "grid_template_rows": null,
            "right": null,
            "justify_content": null,
            "_view_module": "@jupyter-widgets/base",
            "overflow": null,
            "_model_module_version": "1.2.0",
            "_view_count": null,
            "flex_flow": null,
            "width": null,
            "min_width": null,
            "border": null,
            "align_items": null,
            "bottom": null,
            "_model_module": "@jupyter-widgets/base",
            "top": null,
            "grid_column": null,
            "overflow_y": null,
            "overflow_x": null,
            "grid_auto_flow": null,
            "grid_area": null,
            "grid_template_columns": null,
            "flex": null,
            "_model_name": "LayoutModel",
            "justify_items": null,
            "grid_row": null,
            "max_height": null,
            "align_content": null,
            "visibility": null,
            "align_self": null,
            "height": null,
            "min_height": null,
            "padding": null,
            "grid_auto_rows": null,
            "grid_gap": null,
            "max_width": null,
            "order": null,
            "_view_module_version": "1.2.0",
            "grid_template_areas": null,
            "object_position": null,
            "object_fit": null,
            "grid_auto_columns": null,
            "margin": null,
            "display": null,
            "left": null
          }
        },
        "2c2607bc8b074185b2e5f769b908bdf4": {
          "model_module": "@jupyter-widgets/controls",
          "model_name": "TextModel",
          "model_module_version": "1.5.0",
          "state": {
            "_view_name": "TextView",
            "style": "IPY_MODEL_7b00804f9a174f0f87e6e8ccdacfa54e",
            "_dom_classes": [],
            "description": "batch_sizes",
            "_model_name": "TextModel",
            "placeholder": "​",
            "_view_module": "@jupyter-widgets/controls",
            "_model_module_version": "1.5.0",
            "value": "20, 250, 1000",
            "_view_count": null,
            "disabled": false,
            "_view_module_version": "1.5.0",
            "continuous_update": true,
            "description_tooltip": null,
            "_model_module": "@jupyter-widgets/controls",
            "layout": "IPY_MODEL_45c9fcb342ec424180c705bb91a26992"
          }
        },
        "39b1d560c7294c17ae58293ab7a87e92": {
          "model_module": "@jupyter-widgets/controls",
          "model_name": "TextModel",
          "model_module_version": "1.5.0",
          "state": {
            "_view_name": "TextView",
            "style": "IPY_MODEL_75eb86f0be624818b66dafb5824d30d2",
            "_dom_classes": [],
            "description": "lrs",
            "_model_name": "TextModel",
            "placeholder": "​",
            "_view_module": "@jupyter-widgets/controls",
            "_model_module_version": "1.5.0",
            "value": "5e-3, 5e-3, 5e-3",
            "_view_count": null,
            "disabled": false,
            "_view_module_version": "1.5.0",
            "continuous_update": true,
            "description_tooltip": null,
            "_model_module": "@jupyter-widgets/controls",
            "layout": "IPY_MODEL_c87ed12106c84dd3958a29f977ec7a14"
          }
        },
        "8b0547fdd33e4148903f8e1469a11574": {
          "model_module": "@jupyter-widgets/controls",
          "model_name": "DropdownModel",
          "model_module_version": "1.5.0",
          "state": {
            "_options_labels": [
              "2.5",
              "5",
              "10"
            ],
            "_view_name": "DropdownView",
            "style": "IPY_MODEL_612826eb0a384f59ae5c6c83a316b89b",
            "_dom_classes": [],
            "description": "time_budget",
            "_model_name": "DropdownModel",
            "index": 0,
            "_view_module": "@jupyter-widgets/controls",
            "_model_module_version": "1.5.0",
            "_view_count": null,
            "disabled": false,
            "_view_module_version": "1.5.0",
            "description_tooltip": null,
            "_model_module": "@jupyter-widgets/controls",
            "layout": "IPY_MODEL_45f3c80d2c29427087b28b2fda95863a"
          }
        },
        "3141dab630e6410888b76a1915fa1b31": {
          "model_module": "@jupyter-widgets/controls",
          "model_name": "ButtonModel",
          "model_module_version": "1.5.0",
          "state": {
            "_view_name": "ButtonView",
            "style": "IPY_MODEL_9f835088c97e4665a59a927ffdb45ccd",
            "_dom_classes": [],
            "description": "Run Interact",
            "_model_name": "ButtonModel",
            "button_style": "",
            "_view_module": "@jupyter-widgets/controls",
            "_model_module_version": "1.5.0",
            "tooltip": "",
            "_view_count": null,
            "disabled": false,
            "_view_module_version": "1.5.0",
            "layout": "IPY_MODEL_58e9afa9a0ad45b7872adc304e200c33",
            "_model_module": "@jupyter-widgets/controls",
            "icon": ""
          }
        },
        "786ce19f301246bb839302ba42621331": {
          "model_module": "@jupyter-widgets/output",
          "model_name": "OutputModel",
          "model_module_version": "1.0.0",
          "state": {
            "_view_name": "OutputView",
            "msg_id": "",
            "_dom_classes": [],
            "_model_name": "OutputModel",
            "outputs": [],
            "_view_module": "@jupyter-widgets/output",
            "_model_module_version": "1.0.0",
            "_view_count": null,
            "_view_module_version": "1.0.0",
            "layout": "IPY_MODEL_a7921d9ba3844211bc94dac2307f5cf5",
            "_model_module": "@jupyter-widgets/output"
          }
        },
        "7b00804f9a174f0f87e6e8ccdacfa54e": {
          "model_module": "@jupyter-widgets/controls",
          "model_name": "DescriptionStyleModel",
          "model_module_version": "1.5.0",
          "state": {
            "_view_name": "StyleView",
            "_model_name": "DescriptionStyleModel",
            "description_width": "",
            "_view_module": "@jupyter-widgets/base",
            "_model_module_version": "1.5.0",
            "_view_count": null,
            "_view_module_version": "1.2.0",
            "_model_module": "@jupyter-widgets/controls"
          }
        },
        "45c9fcb342ec424180c705bb91a26992": {
          "model_module": "@jupyter-widgets/base",
          "model_name": "LayoutModel",
          "model_module_version": "1.2.0",
          "state": {
            "_view_name": "LayoutView",
            "grid_template_rows": null,
            "right": null,
            "justify_content": null,
            "_view_module": "@jupyter-widgets/base",
            "overflow": null,
            "_model_module_version": "1.2.0",
            "_view_count": null,
            "flex_flow": null,
            "width": null,
            "min_width": null,
            "border": null,
            "align_items": null,
            "bottom": null,
            "_model_module": "@jupyter-widgets/base",
            "top": null,
            "grid_column": null,
            "overflow_y": null,
            "overflow_x": null,
            "grid_auto_flow": null,
            "grid_area": null,
            "grid_template_columns": null,
            "flex": null,
            "_model_name": "LayoutModel",
            "justify_items": null,
            "grid_row": null,
            "max_height": null,
            "align_content": null,
            "visibility": null,
            "align_self": null,
            "height": null,
            "min_height": null,
            "padding": null,
            "grid_auto_rows": null,
            "grid_gap": null,
            "max_width": null,
            "order": null,
            "_view_module_version": "1.2.0",
            "grid_template_areas": null,
            "object_position": null,
            "object_fit": null,
            "grid_auto_columns": null,
            "margin": null,
            "display": null,
            "left": null
          }
        },
        "75eb86f0be624818b66dafb5824d30d2": {
          "model_module": "@jupyter-widgets/controls",
          "model_name": "DescriptionStyleModel",
          "model_module_version": "1.5.0",
          "state": {
            "_view_name": "StyleView",
            "_model_name": "DescriptionStyleModel",
            "description_width": "",
            "_view_module": "@jupyter-widgets/base",
            "_model_module_version": "1.5.0",
            "_view_count": null,
            "_view_module_version": "1.2.0",
            "_model_module": "@jupyter-widgets/controls"
          }
        },
        "c87ed12106c84dd3958a29f977ec7a14": {
          "model_module": "@jupyter-widgets/base",
          "model_name": "LayoutModel",
          "model_module_version": "1.2.0",
          "state": {
            "_view_name": "LayoutView",
            "grid_template_rows": null,
            "right": null,
            "justify_content": null,
            "_view_module": "@jupyter-widgets/base",
            "overflow": null,
            "_model_module_version": "1.2.0",
            "_view_count": null,
            "flex_flow": null,
            "width": null,
            "min_width": null,
            "border": null,
            "align_items": null,
            "bottom": null,
            "_model_module": "@jupyter-widgets/base",
            "top": null,
            "grid_column": null,
            "overflow_y": null,
            "overflow_x": null,
            "grid_auto_flow": null,
            "grid_area": null,
            "grid_template_columns": null,
            "flex": null,
            "_model_name": "LayoutModel",
            "justify_items": null,
            "grid_row": null,
            "max_height": null,
            "align_content": null,
            "visibility": null,
            "align_self": null,
            "height": null,
            "min_height": null,
            "padding": null,
            "grid_auto_rows": null,
            "grid_gap": null,
            "max_width": null,
            "order": null,
            "_view_module_version": "1.2.0",
            "grid_template_areas": null,
            "object_position": null,
            "object_fit": null,
            "grid_auto_columns": null,
            "margin": null,
            "display": null,
            "left": null
          }
        },
        "612826eb0a384f59ae5c6c83a316b89b": {
          "model_module": "@jupyter-widgets/controls",
          "model_name": "DescriptionStyleModel",
          "model_module_version": "1.5.0",
          "state": {
            "_view_name": "StyleView",
            "_model_name": "DescriptionStyleModel",
            "description_width": "",
            "_view_module": "@jupyter-widgets/base",
            "_model_module_version": "1.5.0",
            "_view_count": null,
            "_view_module_version": "1.2.0",
            "_model_module": "@jupyter-widgets/controls"
          }
        },
        "45f3c80d2c29427087b28b2fda95863a": {
          "model_module": "@jupyter-widgets/base",
          "model_name": "LayoutModel",
          "model_module_version": "1.2.0",
          "state": {
            "_view_name": "LayoutView",
            "grid_template_rows": null,
            "right": null,
            "justify_content": null,
            "_view_module": "@jupyter-widgets/base",
            "overflow": null,
            "_model_module_version": "1.2.0",
            "_view_count": null,
            "flex_flow": null,
            "width": null,
            "min_width": null,
            "border": null,
            "align_items": null,
            "bottom": null,
            "_model_module": "@jupyter-widgets/base",
            "top": null,
            "grid_column": null,
            "overflow_y": null,
            "overflow_x": null,
            "grid_auto_flow": null,
            "grid_area": null,
            "grid_template_columns": null,
            "flex": null,
            "_model_name": "LayoutModel",
            "justify_items": null,
            "grid_row": null,
            "max_height": null,
            "align_content": null,
            "visibility": null,
            "align_self": null,
            "height": null,
            "min_height": null,
            "padding": null,
            "grid_auto_rows": null,
            "grid_gap": null,
            "max_width": null,
            "order": null,
            "_view_module_version": "1.2.0",
            "grid_template_areas": null,
            "object_position": null,
            "object_fit": null,
            "grid_auto_columns": null,
            "margin": null,
            "display": null,
            "left": null
          }
        },
        "9f835088c97e4665a59a927ffdb45ccd": {
          "model_module": "@jupyter-widgets/controls",
          "model_name": "ButtonStyleModel",
          "model_module_version": "1.5.0",
          "state": {
            "_view_name": "StyleView",
            "_model_name": "ButtonStyleModel",
            "_view_module": "@jupyter-widgets/base",
            "_model_module_version": "1.5.0",
            "_view_count": null,
            "button_color": null,
            "font_weight": "",
            "_view_module_version": "1.2.0",
            "_model_module": "@jupyter-widgets/controls"
          }
        },
        "58e9afa9a0ad45b7872adc304e200c33": {
          "model_module": "@jupyter-widgets/base",
          "model_name": "LayoutModel",
          "model_module_version": "1.2.0",
          "state": {
            "_view_name": "LayoutView",
            "grid_template_rows": null,
            "right": null,
            "justify_content": null,
            "_view_module": "@jupyter-widgets/base",
            "overflow": null,
            "_model_module_version": "1.2.0",
            "_view_count": null,
            "flex_flow": null,
            "width": null,
            "min_width": null,
            "border": null,
            "align_items": null,
            "bottom": null,
            "_model_module": "@jupyter-widgets/base",
            "top": null,
            "grid_column": null,
            "overflow_y": null,
            "overflow_x": null,
            "grid_auto_flow": null,
            "grid_area": null,
            "grid_template_columns": null,
            "flex": null,
            "_model_name": "LayoutModel",
            "justify_items": null,
            "grid_row": null,
            "max_height": null,
            "align_content": null,
            "visibility": null,
            "align_self": null,
            "height": null,
            "min_height": null,
            "padding": null,
            "grid_auto_rows": null,
            "grid_gap": null,
            "max_width": null,
            "order": null,
            "_view_module_version": "1.2.0",
            "grid_template_areas": null,
            "object_position": null,
            "object_fit": null,
            "grid_auto_columns": null,
            "margin": null,
            "display": null,
            "left": null
          }
        },
        "a7921d9ba3844211bc94dac2307f5cf5": {
          "model_module": "@jupyter-widgets/base",
          "model_name": "LayoutModel",
          "model_module_version": "1.2.0",
          "state": {
            "_view_name": "LayoutView",
            "grid_template_rows": null,
            "right": null,
            "justify_content": null,
            "_view_module": "@jupyter-widgets/base",
            "overflow": null,
            "_model_module_version": "1.2.0",
            "_view_count": null,
            "flex_flow": null,
            "width": null,
            "min_width": null,
            "border": null,
            "align_items": null,
            "bottom": null,
            "_model_module": "@jupyter-widgets/base",
            "top": null,
            "grid_column": null,
            "overflow_y": null,
            "overflow_x": null,
            "grid_auto_flow": null,
            "grid_area": null,
            "grid_template_columns": null,
            "flex": null,
            "_model_name": "LayoutModel",
            "justify_items": null,
            "grid_row": null,
            "max_height": null,
            "align_content": null,
            "visibility": null,
            "align_self": null,
            "height": null,
            "min_height": null,
            "padding": null,
            "grid_auto_rows": null,
            "grid_gap": null,
            "max_width": null,
            "order": null,
            "_view_module_version": "1.2.0",
            "grid_template_areas": null,
            "object_position": null,
            "object_fit": null,
            "grid_auto_columns": null,
            "margin": null,
            "display": null,
            "left": null
          }
        },
        "f217d28e70b747eca1ebd0cd41408726": {
          "model_module": "@jupyter-widgets/controls",
          "model_name": "TabModel",
          "model_module_version": "1.5.0",
          "state": {
            "_view_name": "TabView",
            "_dom_classes": [],
            "_titles": {
              "0": "Youtube",
              "1": "Bilibili"
            },
            "_model_name": "TabModel",
            "_view_module": "@jupyter-widgets/controls",
            "selected_index": 0,
            "_model_module_version": "1.5.0",
            "_view_count": null,
            "_view_module_version": "1.5.0",
            "box_style": "",
            "layout": "IPY_MODEL_7b2577f5d7be43e5a5a6d1051fdecb89",
            "_model_module": "@jupyter-widgets/controls",
            "children": [
              "IPY_MODEL_3424e90bc6b9418b9023fef03102ca24",
              "IPY_MODEL_397a4847f524492eadc0d849788671fe"
            ]
          }
        },
        "7b2577f5d7be43e5a5a6d1051fdecb89": {
          "model_module": "@jupyter-widgets/base",
          "model_name": "LayoutModel",
          "model_module_version": "1.2.0",
          "state": {
            "_view_name": "LayoutView",
            "grid_template_rows": null,
            "right": null,
            "justify_content": null,
            "_view_module": "@jupyter-widgets/base",
            "overflow": null,
            "_model_module_version": "1.2.0",
            "_view_count": null,
            "flex_flow": null,
            "width": null,
            "min_width": null,
            "border": null,
            "align_items": null,
            "bottom": null,
            "_model_module": "@jupyter-widgets/base",
            "top": null,
            "grid_column": null,
            "overflow_y": null,
            "overflow_x": null,
            "grid_auto_flow": null,
            "grid_area": null,
            "grid_template_columns": null,
            "flex": null,
            "_model_name": "LayoutModel",
            "justify_items": null,
            "grid_row": null,
            "max_height": null,
            "align_content": null,
            "visibility": null,
            "align_self": null,
            "height": null,
            "min_height": null,
            "padding": null,
            "grid_auto_rows": null,
            "grid_gap": null,
            "max_width": null,
            "order": null,
            "_view_module_version": "1.2.0",
            "grid_template_areas": null,
            "object_position": null,
            "object_fit": null,
            "grid_auto_columns": null,
            "margin": null,
            "display": null,
            "left": null
          }
        },
        "3424e90bc6b9418b9023fef03102ca24": {
          "model_module": "@jupyter-widgets/output",
          "model_name": "OutputModel",
          "model_module_version": "1.0.0",
          "state": {
            "_view_name": "OutputView",
            "msg_id": "",
            "_dom_classes": [],
            "_model_name": "OutputModel",
            "outputs": [
              {
                "output_type": "stream",
                "name": "stdout",
                "text": [
                  "Video available at https://youtube.com/watch?v=Zr6r2kfmQUM\n"
                ]
              },
              {
                "output_type": "display_data",
                "data": {
                  "text/html": "\n        <iframe\n            width=\"854\"\n            height=\"480\"\n            src=\"https://www.youtube.com/embed/Zr6r2kfmQUM?fs=1&rel=0\"\n            frameborder=\"0\"\n            allowfullscreen\n        ></iframe>\n        ",
                  "text/plain": "<IPython.lib.display.YouTubeVideo at 0x7f8541fbf050>",
                  "image/jpeg": "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\n"
                },
                "metadata": {}
              }
            ],
            "_view_module": "@jupyter-widgets/output",
            "_model_module_version": "1.0.0",
            "_view_count": null,
            "_view_module_version": "1.0.0",
            "layout": "IPY_MODEL_c8c42f5e74df4f69bf9d3a464e2740f9",
            "_model_module": "@jupyter-widgets/output"
          }
        },
        "397a4847f524492eadc0d849788671fe": {
          "model_module": "@jupyter-widgets/output",
          "model_name": "OutputModel",
          "model_module_version": "1.0.0",
          "state": {
            "_view_name": "OutputView",
            "msg_id": "",
            "_dom_classes": [],
            "_model_name": "OutputModel",
            "outputs": [
              {
                "output_type": "stream",
                "name": "stdout",
                "text": [
                  "Video available at https://www.bilibili.com/video/BV1eq4y1W7JG\n"
                ]
              },
              {
                "output_type": "display_data",
                "data": {
                  "text/html": "\n        <iframe\n            width=\"854\"\n            height=\"480\"\n            src=\"https://player.bilibili.com/player.html?bvid=BV1eq4y1W7JG&page=1?fs=1\"\n            frameborder=\"0\"\n            allowfullscreen\n        ></iframe>\n        ",
                  "text/plain": "<__main__.BiliVideo at 0x7f8541eea6d0>"
                },
                "metadata": {}
              }
            ],
            "_view_module": "@jupyter-widgets/output",
            "_model_module_version": "1.0.0",
            "_view_count": null,
            "_view_module_version": "1.0.0",
            "layout": "IPY_MODEL_17295f30f9a04faba6bca49bce7035ea",
            "_model_module": "@jupyter-widgets/output"
          }
        },
        "c8c42f5e74df4f69bf9d3a464e2740f9": {
          "model_module": "@jupyter-widgets/base",
          "model_name": "LayoutModel",
          "model_module_version": "1.2.0",
          "state": {
            "_view_name": "LayoutView",
            "grid_template_rows": null,
            "right": null,
            "justify_content": null,
            "_view_module": "@jupyter-widgets/base",
            "overflow": null,
            "_model_module_version": "1.2.0",
            "_view_count": null,
            "flex_flow": null,
            "width": null,
            "min_width": null,
            "border": null,
            "align_items": null,
            "bottom": null,
            "_model_module": "@jupyter-widgets/base",
            "top": null,
            "grid_column": null,
            "overflow_y": null,
            "overflow_x": null,
            "grid_auto_flow": null,
            "grid_area": null,
            "grid_template_columns": null,
            "flex": null,
            "_model_name": "LayoutModel",
            "justify_items": null,
            "grid_row": null,
            "max_height": null,
            "align_content": null,
            "visibility": null,
            "align_self": null,
            "height": null,
            "min_height": null,
            "padding": null,
            "grid_auto_rows": null,
            "grid_gap": null,
            "max_width": null,
            "order": null,
            "_view_module_version": "1.2.0",
            "grid_template_areas": null,
            "object_position": null,
            "object_fit": null,
            "grid_auto_columns": null,
            "margin": null,
            "display": null,
            "left": null
          }
        },
        "17295f30f9a04faba6bca49bce7035ea": {
          "model_module": "@jupyter-widgets/base",
          "model_name": "LayoutModel",
          "model_module_version": "1.2.0",
          "state": {
            "_view_name": "LayoutView",
            "grid_template_rows": null,
            "right": null,
            "justify_content": null,
            "_view_module": "@jupyter-widgets/base",
            "overflow": null,
            "_model_module_version": "1.2.0",
            "_view_count": null,
            "flex_flow": null,
            "width": null,
            "min_width": null,
            "border": null,
            "align_items": null,
            "bottom": null,
            "_model_module": "@jupyter-widgets/base",
            "top": null,
            "grid_column": null,
            "overflow_y": null,
            "overflow_x": null,
            "grid_auto_flow": null,
            "grid_area": null,
            "grid_template_columns": null,
            "flex": null,
            "_model_name": "LayoutModel",
            "justify_items": null,
            "grid_row": null,
            "max_height": null,
            "align_content": null,
            "visibility": null,
            "align_self": null,
            "height": null,
            "min_height": null,
            "padding": null,
            "grid_auto_rows": null,
            "grid_gap": null,
            "max_width": null,
            "order": null,
            "_view_module_version": "1.2.0",
            "grid_template_areas": null,
            "object_position": null,
            "object_fit": null,
            "grid_auto_columns": null,
            "margin": null,
            "display": null,
            "left": null
          }
        },
        "1470d244e3204ed4b721ec549a3961c0": {
          "model_module": "@jupyter-widgets/controls",
          "model_name": "VBoxModel",
          "model_module_version": "1.5.0",
          "state": {
            "_view_name": "VBoxView",
            "_dom_classes": [
              "widget-interact"
            ],
            "_model_name": "VBoxModel",
            "_view_module": "@jupyter-widgets/controls",
            "_model_module_version": "1.5.0",
            "_view_count": null,
            "_view_module_version": "1.5.0",
            "box_style": "",
            "layout": "IPY_MODEL_cb78737b462c400bb25f00827f7eff6e",
            "_model_module": "@jupyter-widgets/controls",
            "children": [
              "IPY_MODEL_9cd299f3d9554e79b610397d2d64456d",
              "IPY_MODEL_456eca4b492548649de4120bd53f1387",
              "IPY_MODEL_380f957f751242c99e54160c10bdc1d0",
              "IPY_MODEL_8ca0b8fd37f348c8b52741684e401975",
              "IPY_MODEL_41847f07d990479bacfa38dbfed43e4a"
            ]
          }
        },
        "cb78737b462c400bb25f00827f7eff6e": {
          "model_module": "@jupyter-widgets/base",
          "model_name": "LayoutModel",
          "model_module_version": "1.2.0",
          "state": {
            "_view_name": "LayoutView",
            "grid_template_rows": null,
            "right": null,
            "justify_content": null,
            "_view_module": "@jupyter-widgets/base",
            "overflow": null,
            "_model_module_version": "1.2.0",
            "_view_count": null,
            "flex_flow": null,
            "width": null,
            "min_width": null,
            "border": null,
            "align_items": null,
            "bottom": null,
            "_model_module": "@jupyter-widgets/base",
            "top": null,
            "grid_column": null,
            "overflow_y": null,
            "overflow_x": null,
            "grid_auto_flow": null,
            "grid_area": null,
            "grid_template_columns": null,
            "flex": null,
            "_model_name": "LayoutModel",
            "justify_items": null,
            "grid_row": null,
            "max_height": null,
            "align_content": null,
            "visibility": null,
            "align_self": null,
            "height": null,
            "min_height": null,
            "padding": null,
            "grid_auto_rows": null,
            "grid_gap": null,
            "max_width": null,
            "order": null,
            "_view_module_version": "1.2.0",
            "grid_template_areas": null,
            "object_position": null,
            "object_fit": null,
            "grid_auto_columns": null,
            "margin": null,
            "display": null,
            "left": null
          }
        },
        "9cd299f3d9554e79b610397d2d64456d": {
          "model_module": "@jupyter-widgets/controls",
          "model_name": "IntSliderModel",
          "model_module_version": "1.5.0",
          "state": {
            "_view_name": "IntSliderView",
            "style": "IPY_MODEL_7b9a257ac9d84741a292ffbc6ccacbc9",
            "_dom_classes": [],
            "description": "batch_size",
            "step": 5,
            "_model_name": "IntSliderModel",
            "orientation": "horizontal",
            "max": 250,
            "_view_module": "@jupyter-widgets/controls",
            "_model_module_version": "1.5.0",
            "value": 135,
            "_view_count": null,
            "disabled": false,
            "_view_module_version": "1.5.0",
            "min": 25,
            "continuous_update": true,
            "readout_format": "d",
            "description_tooltip": null,
            "readout": true,
            "_model_module": "@jupyter-widgets/controls",
            "layout": "IPY_MODEL_ebcc273b27c948259e57f401e24a5729"
          }
        },
        "456eca4b492548649de4120bd53f1387": {
          "model_module": "@jupyter-widgets/controls",
          "model_name": "FloatLogSliderModel",
          "model_module_version": "1.5.0",
          "state": {
            "_view_name": "FloatLogSliderView",
            "orientation": "horizontal",
            "_view_module": "@jupyter-widgets/controls",
            "_model_module_version": "1.5.0",
            "_view_count": null,
            "disabled": false,
            "readout_format": ".3g",
            "_model_module": "@jupyter-widgets/controls",
            "style": "IPY_MODEL_921047ba961a46d3852d4b7a4930a180",
            "layout": "IPY_MODEL_7c273106d14040ce8146b8bd7db58464",
            "min": -5,
            "continuous_update": true,
            "description_tooltip": null,
            "_dom_classes": [],
            "description": "lr",
            "_model_name": "FloatLogSliderModel",
            "max": 0,
            "readout": true,
            "step": 0.1,
            "base": 10,
            "value": 0.002,
            "_view_module_version": "1.5.0"
          }
        },
        "380f957f751242c99e54160c10bdc1d0": {
          "model_module": "@jupyter-widgets/controls",
          "model_name": "IntSliderModel",
          "model_module_version": "1.5.0",
          "state": {
            "_view_name": "IntSliderView",
            "style": "IPY_MODEL_7c6d3998f07545a5916dc87fad6e6a76",
            "_dom_classes": [],
            "description": "max_steps",
            "step": 5,
            "_model_name": "IntSliderModel",
            "orientation": "horizontal",
            "max": 500,
            "_view_module": "@jupyter-widgets/controls",
            "_model_module_version": "1.5.0",
            "value": 275,
            "_view_count": null,
            "disabled": false,
            "_view_module_version": "1.5.0",
            "min": 50,
            "continuous_update": true,
            "readout_format": "d",
            "description_tooltip": null,
            "readout": true,
            "_model_module": "@jupyter-widgets/controls",
            "layout": "IPY_MODEL_62fb501871d04a068eac623fc08ab522"
          }
        },
        "8ca0b8fd37f348c8b52741684e401975": {
          "model_module": "@jupyter-widgets/controls",
          "model_name": "ButtonModel",
          "model_module_version": "1.5.0",
          "state": {
            "_view_name": "ButtonView",
            "style": "IPY_MODEL_a702271842c949d295dbf5799469638b",
            "_dom_classes": [],
            "description": "Run Interact",
            "_model_name": "ButtonModel",
            "button_style": "",
            "_view_module": "@jupyter-widgets/controls",
            "_model_module_version": "1.5.0",
            "tooltip": "",
            "_view_count": null,
            "disabled": false,
            "_view_module_version": "1.5.0",
            "layout": "IPY_MODEL_eaa7074343d141a9b708e8a98771f493",
            "_model_module": "@jupyter-widgets/controls",
            "icon": ""
          }
        },
        "41847f07d990479bacfa38dbfed43e4a": {
          "model_module": "@jupyter-widgets/output",
          "model_name": "OutputModel",
          "model_module_version": "1.0.0",
          "state": {
            "_view_name": "OutputView",
            "msg_id": "",
            "_dom_classes": [],
            "_model_name": "OutputModel",
            "outputs": [],
            "_view_module": "@jupyter-widgets/output",
            "_model_module_version": "1.0.0",
            "_view_count": null,
            "_view_module_version": "1.0.0",
            "layout": "IPY_MODEL_2f75c1576d0f4b7dbc953e89ceddcaaa",
            "_model_module": "@jupyter-widgets/output"
          }
        },
        "7b9a257ac9d84741a292ffbc6ccacbc9": {
          "model_module": "@jupyter-widgets/controls",
          "model_name": "SliderStyleModel",
          "model_module_version": "1.5.0",
          "state": {
            "_view_name": "StyleView",
            "handle_color": null,
            "_model_name": "SliderStyleModel",
            "description_width": "",
            "_view_module": "@jupyter-widgets/base",
            "_model_module_version": "1.5.0",
            "_view_count": null,
            "_view_module_version": "1.2.0",
            "_model_module": "@jupyter-widgets/controls"
          }
        },
        "ebcc273b27c948259e57f401e24a5729": {
          "model_module": "@jupyter-widgets/base",
          "model_name": "LayoutModel",
          "model_module_version": "1.2.0",
          "state": {
            "_view_name": "LayoutView",
            "grid_template_rows": null,
            "right": null,
            "justify_content": null,
            "_view_module": "@jupyter-widgets/base",
            "overflow": null,
            "_model_module_version": "1.2.0",
            "_view_count": null,
            "flex_flow": null,
            "width": null,
            "min_width": null,
            "border": null,
            "align_items": null,
            "bottom": null,
            "_model_module": "@jupyter-widgets/base",
            "top": null,
            "grid_column": null,
            "overflow_y": null,
            "overflow_x": null,
            "grid_auto_flow": null,
            "grid_area": null,
            "grid_template_columns": null,
            "flex": null,
            "_model_name": "LayoutModel",
            "justify_items": null,
            "grid_row": null,
            "max_height": null,
            "align_content": null,
            "visibility": null,
            "align_self": null,
            "height": null,
            "min_height": null,
            "padding": null,
            "grid_auto_rows": null,
            "grid_gap": null,
            "max_width": null,
            "order": null,
            "_view_module_version": "1.2.0",
            "grid_template_areas": null,
            "object_position": null,
            "object_fit": null,
            "grid_auto_columns": null,
            "margin": null,
            "display": null,
            "left": null
          }
        },
        "921047ba961a46d3852d4b7a4930a180": {
          "model_module": "@jupyter-widgets/controls",
          "model_name": "SliderStyleModel",
          "model_module_version": "1.5.0",
          "state": {
            "_view_name": "StyleView",
            "handle_color": null,
            "_model_name": "SliderStyleModel",
            "description_width": "",
            "_view_module": "@jupyter-widgets/base",
            "_model_module_version": "1.5.0",
            "_view_count": null,
            "_view_module_version": "1.2.0",
            "_model_module": "@jupyter-widgets/controls"
          }
        },
        "7c273106d14040ce8146b8bd7db58464": {
          "model_module": "@jupyter-widgets/base",
          "model_name": "LayoutModel",
          "model_module_version": "1.2.0",
          "state": {
            "_view_name": "LayoutView",
            "grid_template_rows": null,
            "right": null,
            "justify_content": null,
            "_view_module": "@jupyter-widgets/base",
            "overflow": null,
            "_model_module_version": "1.2.0",
            "_view_count": null,
            "flex_flow": null,
            "width": null,
            "min_width": null,
            "border": null,
            "align_items": null,
            "bottom": null,
            "_model_module": "@jupyter-widgets/base",
            "top": null,
            "grid_column": null,
            "overflow_y": null,
            "overflow_x": null,
            "grid_auto_flow": null,
            "grid_area": null,
            "grid_template_columns": null,
            "flex": null,
            "_model_name": "LayoutModel",
            "justify_items": null,
            "grid_row": null,
            "max_height": null,
            "align_content": null,
            "visibility": null,
            "align_self": null,
            "height": null,
            "min_height": null,
            "padding": null,
            "grid_auto_rows": null,
            "grid_gap": null,
            "max_width": null,
            "order": null,
            "_view_module_version": "1.2.0",
            "grid_template_areas": null,
            "object_position": null,
            "object_fit": null,
            "grid_auto_columns": null,
            "margin": null,
            "display": null,
            "left": null
          }
        },
        "7c6d3998f07545a5916dc87fad6e6a76": {
          "model_module": "@jupyter-widgets/controls",
          "model_name": "SliderStyleModel",
          "model_module_version": "1.5.0",
          "state": {
            "_view_name": "StyleView",
            "handle_color": null,
            "_model_name": "SliderStyleModel",
            "description_width": "",
            "_view_module": "@jupyter-widgets/base",
            "_model_module_version": "1.5.0",
            "_view_count": null,
            "_view_module_version": "1.2.0",
            "_model_module": "@jupyter-widgets/controls"
          }
        },
        "62fb501871d04a068eac623fc08ab522": {
          "model_module": "@jupyter-widgets/base",
          "model_name": "LayoutModel",
          "model_module_version": "1.2.0",
          "state": {
            "_view_name": "LayoutView",
            "grid_template_rows": null,
            "right": null,
            "justify_content": null,
            "_view_module": "@jupyter-widgets/base",
            "overflow": null,
            "_model_module_version": "1.2.0",
            "_view_count": null,
            "flex_flow": null,
            "width": null,
            "min_width": null,
            "border": null,
            "align_items": null,
            "bottom": null,
            "_model_module": "@jupyter-widgets/base",
            "top": null,
            "grid_column": null,
            "overflow_y": null,
            "overflow_x": null,
            "grid_auto_flow": null,
            "grid_area": null,
            "grid_template_columns": null,
            "flex": null,
            "_model_name": "LayoutModel",
            "justify_items": null,
            "grid_row": null,
            "max_height": null,
            "align_content": null,
            "visibility": null,
            "align_self": null,
            "height": null,
            "min_height": null,
            "padding": null,
            "grid_auto_rows": null,
            "grid_gap": null,
            "max_width": null,
            "order": null,
            "_view_module_version": "1.2.0",
            "grid_template_areas": null,
            "object_position": null,
            "object_fit": null,
            "grid_auto_columns": null,
            "margin": null,
            "display": null,
            "left": null
          }
        },
        "a702271842c949d295dbf5799469638b": {
          "model_module": "@jupyter-widgets/controls",
          "model_name": "ButtonStyleModel",
          "model_module_version": "1.5.0",
          "state": {
            "_view_name": "StyleView",
            "_model_name": "ButtonStyleModel",
            "_view_module": "@jupyter-widgets/base",
            "_model_module_version": "1.5.0",
            "_view_count": null,
            "button_color": null,
            "font_weight": "",
            "_view_module_version": "1.2.0",
            "_model_module": "@jupyter-widgets/controls"
          }
        },
        "eaa7074343d141a9b708e8a98771f493": {
          "model_module": "@jupyter-widgets/base",
          "model_name": "LayoutModel",
          "model_module_version": "1.2.0",
          "state": {
            "_view_name": "LayoutView",
            "grid_template_rows": null,
            "right": null,
            "justify_content": null,
            "_view_module": "@jupyter-widgets/base",
            "overflow": null,
            "_model_module_version": "1.2.0",
            "_view_count": null,
            "flex_flow": null,
            "width": null,
            "min_width": null,
            "border": null,
            "align_items": null,
            "bottom": null,
            "_model_module": "@jupyter-widgets/base",
            "top": null,
            "grid_column": null,
            "overflow_y": null,
            "overflow_x": null,
            "grid_auto_flow": null,
            "grid_area": null,
            "grid_template_columns": null,
            "flex": null,
            "_model_name": "LayoutModel",
            "justify_items": null,
            "grid_row": null,
            "max_height": null,
            "align_content": null,
            "visibility": null,
            "align_self": null,
            "height": null,
            "min_height": null,
            "padding": null,
            "grid_auto_rows": null,
            "grid_gap": null,
            "max_width": null,
            "order": null,
            "_view_module_version": "1.2.0",
            "grid_template_areas": null,
            "object_position": null,
            "object_fit": null,
            "grid_auto_columns": null,
            "margin": null,
            "display": null,
            "left": null
          }
        },
        "2f75c1576d0f4b7dbc953e89ceddcaaa": {
          "model_module": "@jupyter-widgets/base",
          "model_name": "LayoutModel",
          "model_module_version": "1.2.0",
          "state": {
            "_view_name": "LayoutView",
            "grid_template_rows": null,
            "right": null,
            "justify_content": null,
            "_view_module": "@jupyter-widgets/base",
            "overflow": null,
            "_model_module_version": "1.2.0",
            "_view_count": null,
            "flex_flow": null,
            "width": null,
            "min_width": null,
            "border": null,
            "align_items": null,
            "bottom": null,
            "_model_module": "@jupyter-widgets/base",
            "top": null,
            "grid_column": null,
            "overflow_y": null,
            "overflow_x": null,
            "grid_auto_flow": null,
            "grid_area": null,
            "grid_template_columns": null,
            "flex": null,
            "_model_name": "LayoutModel",
            "justify_items": null,
            "grid_row": null,
            "max_height": null,
            "align_content": null,
            "visibility": null,
            "align_self": null,
            "height": null,
            "min_height": null,
            "padding": null,
            "grid_auto_rows": null,
            "grid_gap": null,
            "max_width": null,
            "order": null,
            "_view_module_version": "1.2.0",
            "grid_template_areas": null,
            "object_position": null,
            "object_fit": null,
            "grid_auto_columns": null,
            "margin": null,
            "display": null,
            "left": null
          }
        },
        "739867308eb84b8eb07fb3b75131d197": {
          "model_module": "@jupyter-widgets/controls",
          "model_name": "TextareaModel",
          "model_module_version": "1.5.0",
          "state": {
            "_view_name": "TextareaView",
            "style": "IPY_MODEL_ff1a79c348fb4e6c8d3097370aa47350",
            "rows": null,
            "_dom_classes": [],
            "description": "",
            "_model_name": "TextareaModel",
            "placeholder": "Type something",
            "_view_module": "@jupyter-widgets/controls",
            "_model_module_version": "1.5.0",
            "value": "Type your answer here and click on `Submit!`",
            "_view_count": null,
            "disabled": false,
            "_view_module_version": "1.5.0",
            "continuous_update": true,
            "description_tooltip": null,
            "_model_module": "@jupyter-widgets/controls",
            "layout": "IPY_MODEL_349002e6e23d4f9fa8f75a40dd71ea3b"
          }
        },
        "ff1a79c348fb4e6c8d3097370aa47350": {
          "model_module": "@jupyter-widgets/controls",
          "model_name": "DescriptionStyleModel",
          "model_module_version": "1.5.0",
          "state": {
            "_view_name": "StyleView",
            "_model_name": "DescriptionStyleModel",
            "description_width": "",
            "_view_module": "@jupyter-widgets/base",
            "_model_module_version": "1.5.0",
            "_view_count": null,
            "_view_module_version": "1.2.0",
            "_model_module": "@jupyter-widgets/controls"
          }
        },
        "349002e6e23d4f9fa8f75a40dd71ea3b": {
          "model_module": "@jupyter-widgets/base",
          "model_name": "LayoutModel",
          "model_module_version": "1.2.0",
          "state": {
            "_view_name": "LayoutView",
            "grid_template_rows": null,
            "right": null,
            "justify_content": null,
            "_view_module": "@jupyter-widgets/base",
            "overflow": null,
            "_model_module_version": "1.2.0",
            "_view_count": null,
            "flex_flow": null,
            "width": null,
            "min_width": null,
            "border": null,
            "align_items": null,
            "bottom": null,
            "_model_module": "@jupyter-widgets/base",
            "top": null,
            "grid_column": null,
            "overflow_y": null,
            "overflow_x": null,
            "grid_auto_flow": null,
            "grid_area": null,
            "grid_template_columns": null,
            "flex": null,
            "_model_name": "LayoutModel",
            "justify_items": null,
            "grid_row": null,
            "max_height": null,
            "align_content": null,
            "visibility": null,
            "align_self": null,
            "height": null,
            "min_height": null,
            "padding": null,
            "grid_auto_rows": null,
            "grid_gap": null,
            "max_width": null,
            "order": null,
            "_view_module_version": "1.2.0",
            "grid_template_areas": null,
            "object_position": null,
            "object_fit": null,
            "grid_auto_columns": null,
            "margin": null,
            "display": null,
            "left": null
          }
        },
        "42a653d31a7046ddb5de0fb311c2a98b": {
          "model_module": "@jupyter-widgets/controls",
          "model_name": "ButtonModel",
          "model_module_version": "1.5.0",
          "state": {
            "_view_name": "ButtonView",
            "style": "IPY_MODEL_d1007c6f63824a02864ea1fd2ad8af56",
            "_dom_classes": [],
            "description": "Submit!",
            "_model_name": "ButtonModel",
            "button_style": "",
            "_view_module": "@jupyter-widgets/controls",
            "_model_module_version": "1.5.0",
            "tooltip": "",
            "_view_count": null,
            "disabled": false,
            "_view_module_version": "1.5.0",
            "layout": "IPY_MODEL_97d4cdc9bd8f4214a34f463b6f27e973",
            "_model_module": "@jupyter-widgets/controls",
            "icon": ""
          }
        },
        "d1007c6f63824a02864ea1fd2ad8af56": {
          "model_module": "@jupyter-widgets/controls",
          "model_name": "ButtonStyleModel",
          "model_module_version": "1.5.0",
          "state": {
            "_view_name": "StyleView",
            "_model_name": "ButtonStyleModel",
            "_view_module": "@jupyter-widgets/base",
            "_model_module_version": "1.5.0",
            "_view_count": null,
            "button_color": null,
            "font_weight": "",
            "_view_module_version": "1.2.0",
            "_model_module": "@jupyter-widgets/controls"
          }
        },
        "97d4cdc9bd8f4214a34f463b6f27e973": {
          "model_module": "@jupyter-widgets/base",
          "model_name": "LayoutModel",
          "model_module_version": "1.2.0",
          "state": {
            "_view_name": "LayoutView",
            "grid_template_rows": null,
            "right": null,
            "justify_content": null,
            "_view_module": "@jupyter-widgets/base",
            "overflow": null,
            "_model_module_version": "1.2.0",
            "_view_count": null,
            "flex_flow": null,
            "width": null,
            "min_width": null,
            "border": null,
            "align_items": null,
            "bottom": null,
            "_model_module": "@jupyter-widgets/base",
            "top": null,
            "grid_column": null,
            "overflow_y": null,
            "overflow_x": null,
            "grid_auto_flow": null,
            "grid_area": null,
            "grid_template_columns": null,
            "flex": null,
            "_model_name": "LayoutModel",
            "justify_items": null,
            "grid_row": null,
            "max_height": null,
            "align_content": null,
            "visibility": null,
            "align_self": null,
            "height": null,
            "min_height": null,
            "padding": null,
            "grid_auto_rows": null,
            "grid_gap": null,
            "max_width": null,
            "order": null,
            "_view_module_version": "1.2.0",
            "grid_template_areas": null,
            "object_position": null,
            "object_fit": null,
            "grid_auto_columns": null,
            "margin": null,
            "display": null,
            "left": null
          }
        },
        "1ded56d836c84859a1f9c67ac7153809": {
          "model_module": "@jupyter-widgets/controls",
          "model_name": "TabModel",
          "model_module_version": "1.5.0",
          "state": {
            "_view_name": "TabView",
            "_dom_classes": [],
            "_titles": {
              "0": "Youtube",
              "1": "Bilibili"
            },
            "_model_name": "TabModel",
            "_view_module": "@jupyter-widgets/controls",
            "selected_index": 0,
            "_model_module_version": "1.5.0",
            "_view_count": null,
            "_view_module_version": "1.5.0",
            "box_style": "",
            "layout": "IPY_MODEL_3eb143a510cc46e5b282f77a482b50e8",
            "_model_module": "@jupyter-widgets/controls",
            "children": [
              "IPY_MODEL_4282188529b54a9fb1a8853abfd9a180",
              "IPY_MODEL_e3875c27c01346ccb317e4f208d0ad5b"
            ]
          }
        },
        "3eb143a510cc46e5b282f77a482b50e8": {
          "model_module": "@jupyter-widgets/base",
          "model_name": "LayoutModel",
          "model_module_version": "1.2.0",
          "state": {
            "_view_name": "LayoutView",
            "grid_template_rows": null,
            "right": null,
            "justify_content": null,
            "_view_module": "@jupyter-widgets/base",
            "overflow": null,
            "_model_module_version": "1.2.0",
            "_view_count": null,
            "flex_flow": null,
            "width": null,
            "min_width": null,
            "border": null,
            "align_items": null,
            "bottom": null,
            "_model_module": "@jupyter-widgets/base",
            "top": null,
            "grid_column": null,
            "overflow_y": null,
            "overflow_x": null,
            "grid_auto_flow": null,
            "grid_area": null,
            "grid_template_columns": null,
            "flex": null,
            "_model_name": "LayoutModel",
            "justify_items": null,
            "grid_row": null,
            "max_height": null,
            "align_content": null,
            "visibility": null,
            "align_self": null,
            "height": null,
            "min_height": null,
            "padding": null,
            "grid_auto_rows": null,
            "grid_gap": null,
            "max_width": null,
            "order": null,
            "_view_module_version": "1.2.0",
            "grid_template_areas": null,
            "object_position": null,
            "object_fit": null,
            "grid_auto_columns": null,
            "margin": null,
            "display": null,
            "left": null
          }
        },
        "4282188529b54a9fb1a8853abfd9a180": {
          "model_module": "@jupyter-widgets/output",
          "model_name": "OutputModel",
          "model_module_version": "1.0.0",
          "state": {
            "_view_name": "OutputView",
            "msg_id": "",
            "_dom_classes": [],
            "_model_name": "OutputModel",
            "outputs": [
              {
                "output_type": "stream",
                "name": "stdout",
                "text": [
                  "Video available at https://youtube.com/watch?v=0EthSI0cknI\n"
                ]
              },
              {
                "output_type": "display_data",
                "data": {
                  "text/html": "\n        <iframe\n            width=\"854\"\n            height=\"480\"\n            src=\"https://www.youtube.com/embed/0EthSI0cknI?fs=1&rel=0\"\n            frameborder=\"0\"\n            allowfullscreen\n        ></iframe>\n        ",
                  "text/plain": "<IPython.lib.display.YouTubeVideo at 0x7f854160f6d0>",
                  "image/jpeg": "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\n"
                },
                "metadata": {}
              }
            ],
            "_view_module": "@jupyter-widgets/output",
            "_model_module_version": "1.0.0",
            "_view_count": null,
            "_view_module_version": "1.0.0",
            "layout": "IPY_MODEL_d7314e6099884380943d3f697bb1a114",
            "_model_module": "@jupyter-widgets/output"
          }
        },
        "e3875c27c01346ccb317e4f208d0ad5b": {
          "model_module": "@jupyter-widgets/output",
          "model_name": "OutputModel",
          "model_module_version": "1.0.0",
          "state": {
            "_view_name": "OutputView",
            "msg_id": "",
            "_dom_classes": [],
            "_model_name": "OutputModel",
            "outputs": [
              {
                "output_type": "stream",
                "name": "stdout",
                "text": [
                  "Video available at https://www.bilibili.com/video/BV1TU4y1G7Je\n"
                ]
              },
              {
                "output_type": "display_data",
                "data": {
                  "text/html": "\n        <iframe\n            width=\"854\"\n            height=\"480\"\n            src=\"https://player.bilibili.com/player.html?bvid=BV1TU4y1G7Je&page=1?fs=1\"\n            frameborder=\"0\"\n            allowfullscreen\n        ></iframe>\n        ",
                  "text/plain": "<__main__.BiliVideo at 0x7f854166d890>"
                },
                "metadata": {}
              }
            ],
            "_view_module": "@jupyter-widgets/output",
            "_model_module_version": "1.0.0",
            "_view_count": null,
            "_view_module_version": "1.0.0",
            "layout": "IPY_MODEL_48912f814ce240a99b584cf6f290fa0d",
            "_model_module": "@jupyter-widgets/output"
          }
        },
        "d7314e6099884380943d3f697bb1a114": {
          "model_module": "@jupyter-widgets/base",
          "model_name": "LayoutModel",
          "model_module_version": "1.2.0",
          "state": {
            "_view_name": "LayoutView",
            "grid_template_rows": null,
            "right": null,
            "justify_content": null,
            "_view_module": "@jupyter-widgets/base",
            "overflow": null,
            "_model_module_version": "1.2.0",
            "_view_count": null,
            "flex_flow": null,
            "width": null,
            "min_width": null,
            "border": null,
            "align_items": null,
            "bottom": null,
            "_model_module": "@jupyter-widgets/base",
            "top": null,
            "grid_column": null,
            "overflow_y": null,
            "overflow_x": null,
            "grid_auto_flow": null,
            "grid_area": null,
            "grid_template_columns": null,
            "flex": null,
            "_model_name": "LayoutModel",
            "justify_items": null,
            "grid_row": null,
            "max_height": null,
            "align_content": null,
            "visibility": null,
            "align_self": null,
            "height": null,
            "min_height": null,
            "padding": null,
            "grid_auto_rows": null,
            "grid_gap": null,
            "max_width": null,
            "order": null,
            "_view_module_version": "1.2.0",
            "grid_template_areas": null,
            "object_position": null,
            "object_fit": null,
            "grid_auto_columns": null,
            "margin": null,
            "display": null,
            "left": null
          }
        },
        "48912f814ce240a99b584cf6f290fa0d": {
          "model_module": "@jupyter-widgets/base",
          "model_name": "LayoutModel",
          "model_module_version": "1.2.0",
          "state": {
            "_view_name": "LayoutView",
            "grid_template_rows": null,
            "right": null,
            "justify_content": null,
            "_view_module": "@jupyter-widgets/base",
            "overflow": null,
            "_model_module_version": "1.2.0",
            "_view_count": null,
            "flex_flow": null,
            "width": null,
            "min_width": null,
            "border": null,
            "align_items": null,
            "bottom": null,
            "_model_module": "@jupyter-widgets/base",
            "top": null,
            "grid_column": null,
            "overflow_y": null,
            "overflow_x": null,
            "grid_auto_flow": null,
            "grid_area": null,
            "grid_template_columns": null,
            "flex": null,
            "_model_name": "LayoutModel",
            "justify_items": null,
            "grid_row": null,
            "max_height": null,
            "align_content": null,
            "visibility": null,
            "align_self": null,
            "height": null,
            "min_height": null,
            "padding": null,
            "grid_auto_rows": null,
            "grid_gap": null,
            "max_width": null,
            "order": null,
            "_view_module_version": "1.2.0",
            "grid_template_areas": null,
            "object_position": null,
            "object_fit": null,
            "grid_auto_columns": null,
            "margin": null,
            "display": null,
            "left": null
          }
        },
        "68e100eadb5548a185d4c9f7deec13b9": {
          "model_module": "@jupyter-widgets/controls",
          "model_name": "TabModel",
          "model_module_version": "1.5.0",
          "state": {
            "_view_name": "TabView",
            "_dom_classes": [],
            "_titles": {
              "0": "Youtube",
              "1": "Bilibili"
            },
            "_model_name": "TabModel",
            "_view_module": "@jupyter-widgets/controls",
            "selected_index": 0,
            "_model_module_version": "1.5.0",
            "_view_count": null,
            "_view_module_version": "1.5.0",
            "box_style": "",
            "layout": "IPY_MODEL_7b387c3e91e040b5943b9915a810fe7b",
            "_model_module": "@jupyter-widgets/controls",
            "children": [
              "IPY_MODEL_fde8731b22fb4dadb57d5a9fd9c5ca98",
              "IPY_MODEL_116b23a208b84cf7825f91e8fc1cf652"
            ]
          }
        },
        "7b387c3e91e040b5943b9915a810fe7b": {
          "model_module": "@jupyter-widgets/base",
          "model_name": "LayoutModel",
          "model_module_version": "1.2.0",
          "state": {
            "_view_name": "LayoutView",
            "grid_template_rows": null,
            "right": null,
            "justify_content": null,
            "_view_module": "@jupyter-widgets/base",
            "overflow": null,
            "_model_module_version": "1.2.0",
            "_view_count": null,
            "flex_flow": null,
            "width": null,
            "min_width": null,
            "border": null,
            "align_items": null,
            "bottom": null,
            "_model_module": "@jupyter-widgets/base",
            "top": null,
            "grid_column": null,
            "overflow_y": null,
            "overflow_x": null,
            "grid_auto_flow": null,
            "grid_area": null,
            "grid_template_columns": null,
            "flex": null,
            "_model_name": "LayoutModel",
            "justify_items": null,
            "grid_row": null,
            "max_height": null,
            "align_content": null,
            "visibility": null,
            "align_self": null,
            "height": null,
            "min_height": null,
            "padding": null,
            "grid_auto_rows": null,
            "grid_gap": null,
            "max_width": null,
            "order": null,
            "_view_module_version": "1.2.0",
            "grid_template_areas": null,
            "object_position": null,
            "object_fit": null,
            "grid_auto_columns": null,
            "margin": null,
            "display": null,
            "left": null
          }
        },
        "fde8731b22fb4dadb57d5a9fd9c5ca98": {
          "model_module": "@jupyter-widgets/output",
          "model_name": "OutputModel",
          "model_module_version": "1.0.0",
          "state": {
            "_view_name": "OutputView",
            "msg_id": "",
            "_dom_classes": [],
            "_model_name": "OutputModel",
            "outputs": [
              {
                "output_type": "stream",
                "name": "stdout",
                "text": [
                  "Video available at https://youtube.com/watch?v=DP9c13vLiOM\n"
                ]
              },
              {
                "output_type": "display_data",
                "data": {
                  "text/html": "\n        <iframe\n            width=\"854\"\n            height=\"480\"\n            src=\"https://www.youtube.com/embed/DP9c13vLiOM?fs=1&rel=0\"\n            frameborder=\"0\"\n            allowfullscreen\n        ></iframe>\n        ",
                  "text/plain": "<IPython.lib.display.YouTubeVideo at 0x7f8541605ad0>",
                  "image/jpeg": "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\n"
                },
                "metadata": {}
              }
            ],
            "_view_module": "@jupyter-widgets/output",
            "_model_module_version": "1.0.0",
            "_view_count": null,
            "_view_module_version": "1.0.0",
            "layout": "IPY_MODEL_2b00735a6f6e4916b847a18254008ff1",
            "_model_module": "@jupyter-widgets/output"
          }
        },
        "116b23a208b84cf7825f91e8fc1cf652": {
          "model_module": "@jupyter-widgets/output",
          "model_name": "OutputModel",
          "model_module_version": "1.0.0",
          "state": {
            "_view_name": "OutputView",
            "msg_id": "",
            "_dom_classes": [],
            "_model_name": "OutputModel",
            "outputs": [
              {
                "output_type": "stream",
                "name": "stdout",
                "text": [
                  "Video available at https://www.bilibili.com/video/BV1MK4y1u7u2\n"
                ]
              },
              {
                "output_type": "display_data",
                "data": {
                  "text/html": "\n        <iframe\n            width=\"854\"\n            height=\"480\"\n            src=\"https://player.bilibili.com/player.html?bvid=BV1MK4y1u7u2&page=1?fs=1\"\n            frameborder=\"0\"\n            allowfullscreen\n        ></iframe>\n        ",
                  "text/plain": "<__main__.BiliVideo at 0x7f8541f15810>"
                },
                "metadata": {}
              }
            ],
            "_view_module": "@jupyter-widgets/output",
            "_model_module_version": "1.0.0",
            "_view_count": null,
            "_view_module_version": "1.0.0",
            "layout": "IPY_MODEL_c217dbfb28ea4c97b694537445e77081",
            "_model_module": "@jupyter-widgets/output"
          }
        },
        "2b00735a6f6e4916b847a18254008ff1": {
          "model_module": "@jupyter-widgets/base",
          "model_name": "LayoutModel",
          "model_module_version": "1.2.0",
          "state": {
            "_view_name": "LayoutView",
            "grid_template_rows": null,
            "right": null,
            "justify_content": null,
            "_view_module": "@jupyter-widgets/base",
            "overflow": null,
            "_model_module_version": "1.2.0",
            "_view_count": null,
            "flex_flow": null,
            "width": null,
            "min_width": null,
            "border": null,
            "align_items": null,
            "bottom": null,
            "_model_module": "@jupyter-widgets/base",
            "top": null,
            "grid_column": null,
            "overflow_y": null,
            "overflow_x": null,
            "grid_auto_flow": null,
            "grid_area": null,
            "grid_template_columns": null,
            "flex": null,
            "_model_name": "LayoutModel",
            "justify_items": null,
            "grid_row": null,
            "max_height": null,
            "align_content": null,
            "visibility": null,
            "align_self": null,
            "height": null,
            "min_height": null,
            "padding": null,
            "grid_auto_rows": null,
            "grid_gap": null,
            "max_width": null,
            "order": null,
            "_view_module_version": "1.2.0",
            "grid_template_areas": null,
            "object_position": null,
            "object_fit": null,
            "grid_auto_columns": null,
            "margin": null,
            "display": null,
            "left": null
          }
        },
        "c217dbfb28ea4c97b694537445e77081": {
          "model_module": "@jupyter-widgets/base",
          "model_name": "LayoutModel",
          "model_module_version": "1.2.0",
          "state": {
            "_view_name": "LayoutView",
            "grid_template_rows": null,
            "right": null,
            "justify_content": null,
            "_view_module": "@jupyter-widgets/base",
            "overflow": null,
            "_model_module_version": "1.2.0",
            "_view_count": null,
            "flex_flow": null,
            "width": null,
            "min_width": null,
            "border": null,
            "align_items": null,
            "bottom": null,
            "_model_module": "@jupyter-widgets/base",
            "top": null,
            "grid_column": null,
            "overflow_y": null,
            "overflow_x": null,
            "grid_auto_flow": null,
            "grid_area": null,
            "grid_template_columns": null,
            "flex": null,
            "_model_name": "LayoutModel",
            "justify_items": null,
            "grid_row": null,
            "max_height": null,
            "align_content": null,
            "visibility": null,
            "align_self": null,
            "height": null,
            "min_height": null,
            "padding": null,
            "grid_auto_rows": null,
            "grid_gap": null,
            "max_width": null,
            "order": null,
            "_view_module_version": "1.2.0",
            "grid_template_areas": null,
            "object_position": null,
            "object_fit": null,
            "grid_auto_columns": null,
            "margin": null,
            "display": null,
            "left": null
          }
        },
        "6bf217dfae4549d094ecbef3396ad64d": {
          "model_module": "@jupyter-widgets/controls",
          "model_name": "HBoxModel",
          "model_module_version": "1.5.0",
          "state": {
            "_view_name": "HBoxView",
            "_dom_classes": [],
            "_model_name": "HBoxModel",
            "_view_module": "@jupyter-widgets/controls",
            "_model_module_version": "1.5.0",
            "_view_count": null,
            "_view_module_version": "1.5.0",
            "box_style": "",
            "layout": "IPY_MODEL_07cdc6d77e074148bff020da6edfcfd6",
            "_model_module": "@jupyter-widgets/controls",
            "children": [
              "IPY_MODEL_39680165ce8b4c419e0c4184b49a3a74",
              "IPY_MODEL_b7b26f5f99ed4856acb68246f9e95fa5",
              "IPY_MODEL_c1bf739f30674165b24fa4b23562ddd7"
            ]
          }
        },
        "07cdc6d77e074148bff020da6edfcfd6": {
          "model_module": "@jupyter-widgets/base",
          "model_name": "LayoutModel",
          "model_module_version": "1.2.0",
          "state": {
            "_view_name": "LayoutView",
            "grid_template_rows": null,
            "right": null,
            "justify_content": null,
            "_view_module": "@jupyter-widgets/base",
            "overflow": null,
            "_model_module_version": "1.2.0",
            "_view_count": null,
            "flex_flow": null,
            "width": null,
            "min_width": null,
            "border": null,
            "align_items": null,
            "bottom": null,
            "_model_module": "@jupyter-widgets/base",
            "top": null,
            "grid_column": null,
            "overflow_y": null,
            "overflow_x": null,
            "grid_auto_flow": null,
            "grid_area": null,
            "grid_template_columns": null,
            "flex": null,
            "_model_name": "LayoutModel",
            "justify_items": null,
            "grid_row": null,
            "max_height": null,
            "align_content": null,
            "visibility": null,
            "align_self": null,
            "height": null,
            "min_height": null,
            "padding": null,
            "grid_auto_rows": null,
            "grid_gap": null,
            "max_width": null,
            "order": null,
            "_view_module_version": "1.2.0",
            "grid_template_areas": null,
            "object_position": null,
            "object_fit": null,
            "grid_auto_columns": null,
            "margin": null,
            "display": null,
            "left": null
          }
        },
        "39680165ce8b4c419e0c4184b49a3a74": {
          "model_module": "@jupyter-widgets/controls",
          "model_name": "HTMLModel",
          "model_module_version": "1.5.0",
          "state": {
            "_view_name": "HTMLView",
            "style": "IPY_MODEL_b8785a297b1d403c9e82efd406329bad",
            "_dom_classes": [],
            "description": "",
            "_model_name": "HTMLModel",
            "placeholder": "​",
            "_view_module": "@jupyter-widgets/controls",
            "_model_module_version": "1.5.0",
            "value": "100%",
            "_view_count": null,
            "_view_module_version": "1.5.0",
            "description_tooltip": null,
            "_model_module": "@jupyter-widgets/controls",
            "layout": "IPY_MODEL_dcc942cb7eba4aedab4354562d2dfc06"
          }
        },
        "b7b26f5f99ed4856acb68246f9e95fa5": {
          "model_module": "@jupyter-widgets/controls",
          "model_name": "FloatProgressModel",
          "model_module_version": "1.5.0",
          "state": {
            "_view_name": "ProgressView",
            "style": "IPY_MODEL_a15db78481d747c18c2231eb433be11c",
            "_dom_classes": [],
            "description": "",
            "_model_name": "FloatProgressModel",
            "bar_style": "success",
            "max": 2,
            "_view_module": "@jupyter-widgets/controls",
            "_model_module_version": "1.5.0",
            "value": 2,
            "_view_count": null,
            "_view_module_version": "1.5.0",
            "orientation": "horizontal",
            "min": 0,
            "description_tooltip": null,
            "_model_module": "@jupyter-widgets/controls",
            "layout": "IPY_MODEL_2f1504f944c7406a955527dc13327e97"
          }
        },
        "c1bf739f30674165b24fa4b23562ddd7": {
          "model_module": "@jupyter-widgets/controls",
          "model_name": "HTMLModel",
          "model_module_version": "1.5.0",
          "state": {
            "_view_name": "HTMLView",
            "style": "IPY_MODEL_b496cc09ef3a4e359027e28039f70511",
            "_dom_classes": [],
            "description": "",
            "_model_name": "HTMLModel",
            "placeholder": "​",
            "_view_module": "@jupyter-widgets/controls",
            "_model_module_version": "1.5.0",
            "value": " 2/2 [00:35&lt;00:00, 17.97s/it]",
            "_view_count": null,
            "_view_module_version": "1.5.0",
            "description_tooltip": null,
            "_model_module": "@jupyter-widgets/controls",
            "layout": "IPY_MODEL_4cb4f32b24244e09aaafc13e0e5119e8"
          }
        },
        "b8785a297b1d403c9e82efd406329bad": {
          "model_module": "@jupyter-widgets/controls",
          "model_name": "DescriptionStyleModel",
          "model_module_version": "1.5.0",
          "state": {
            "_view_name": "StyleView",
            "_model_name": "DescriptionStyleModel",
            "description_width": "",
            "_view_module": "@jupyter-widgets/base",
            "_model_module_version": "1.5.0",
            "_view_count": null,
            "_view_module_version": "1.2.0",
            "_model_module": "@jupyter-widgets/controls"
          }
        },
        "dcc942cb7eba4aedab4354562d2dfc06": {
          "model_module": "@jupyter-widgets/base",
          "model_name": "LayoutModel",
          "model_module_version": "1.2.0",
          "state": {
            "_view_name": "LayoutView",
            "grid_template_rows": null,
            "right": null,
            "justify_content": null,
            "_view_module": "@jupyter-widgets/base",
            "overflow": null,
            "_model_module_version": "1.2.0",
            "_view_count": null,
            "flex_flow": null,
            "width": null,
            "min_width": null,
            "border": null,
            "align_items": null,
            "bottom": null,
            "_model_module": "@jupyter-widgets/base",
            "top": null,
            "grid_column": null,
            "overflow_y": null,
            "overflow_x": null,
            "grid_auto_flow": null,
            "grid_area": null,
            "grid_template_columns": null,
            "flex": null,
            "_model_name": "LayoutModel",
            "justify_items": null,
            "grid_row": null,
            "max_height": null,
            "align_content": null,
            "visibility": null,
            "align_self": null,
            "height": null,
            "min_height": null,
            "padding": null,
            "grid_auto_rows": null,
            "grid_gap": null,
            "max_width": null,
            "order": null,
            "_view_module_version": "1.2.0",
            "grid_template_areas": null,
            "object_position": null,
            "object_fit": null,
            "grid_auto_columns": null,
            "margin": null,
            "display": null,
            "left": null
          }
        },
        "a15db78481d747c18c2231eb433be11c": {
          "model_module": "@jupyter-widgets/controls",
          "model_name": "ProgressStyleModel",
          "model_module_version": "1.5.0",
          "state": {
            "_view_name": "StyleView",
            "_model_name": "ProgressStyleModel",
            "description_width": "",
            "_view_module": "@jupyter-widgets/base",
            "_model_module_version": "1.5.0",
            "_view_count": null,
            "_view_module_version": "1.2.0",
            "bar_color": null,
            "_model_module": "@jupyter-widgets/controls"
          }
        },
        "2f1504f944c7406a955527dc13327e97": {
          "model_module": "@jupyter-widgets/base",
          "model_name": "LayoutModel",
          "model_module_version": "1.2.0",
          "state": {
            "_view_name": "LayoutView",
            "grid_template_rows": null,
            "right": null,
            "justify_content": null,
            "_view_module": "@jupyter-widgets/base",
            "overflow": null,
            "_model_module_version": "1.2.0",
            "_view_count": null,
            "flex_flow": null,
            "width": null,
            "min_width": null,
            "border": null,
            "align_items": null,
            "bottom": null,
            "_model_module": "@jupyter-widgets/base",
            "top": null,
            "grid_column": null,
            "overflow_y": null,
            "overflow_x": null,
            "grid_auto_flow": null,
            "grid_area": null,
            "grid_template_columns": null,
            "flex": null,
            "_model_name": "LayoutModel",
            "justify_items": null,
            "grid_row": null,
            "max_height": null,
            "align_content": null,
            "visibility": null,
            "align_self": null,
            "height": null,
            "min_height": null,
            "padding": null,
            "grid_auto_rows": null,
            "grid_gap": null,
            "max_width": null,
            "order": null,
            "_view_module_version": "1.2.0",
            "grid_template_areas": null,
            "object_position": null,
            "object_fit": null,
            "grid_auto_columns": null,
            "margin": null,
            "display": null,
            "left": null
          }
        },
        "b496cc09ef3a4e359027e28039f70511": {
          "model_module": "@jupyter-widgets/controls",
          "model_name": "DescriptionStyleModel",
          "model_module_version": "1.5.0",
          "state": {
            "_view_name": "StyleView",
            "_model_name": "DescriptionStyleModel",
            "description_width": "",
            "_view_module": "@jupyter-widgets/base",
            "_model_module_version": "1.5.0",
            "_view_count": null,
            "_view_module_version": "1.2.0",
            "_model_module": "@jupyter-widgets/controls"
          }
        },
        "4cb4f32b24244e09aaafc13e0e5119e8": {
          "model_module": "@jupyter-widgets/base",
          "model_name": "LayoutModel",
          "model_module_version": "1.2.0",
          "state": {
            "_view_name": "LayoutView",
            "grid_template_rows": null,
            "right": null,
            "justify_content": null,
            "_view_module": "@jupyter-widgets/base",
            "overflow": null,
            "_model_module_version": "1.2.0",
            "_view_count": null,
            "flex_flow": null,
            "width": null,
            "min_width": null,
            "border": null,
            "align_items": null,
            "bottom": null,
            "_model_module": "@jupyter-widgets/base",
            "top": null,
            "grid_column": null,
            "overflow_y": null,
            "overflow_x": null,
            "grid_auto_flow": null,
            "grid_area": null,
            "grid_template_columns": null,
            "flex": null,
            "_model_name": "LayoutModel",
            "justify_items": null,
            "grid_row": null,
            "max_height": null,
            "align_content": null,
            "visibility": null,
            "align_self": null,
            "height": null,
            "min_height": null,
            "padding": null,
            "grid_auto_rows": null,
            "grid_gap": null,
            "max_width": null,
            "order": null,
            "_view_module_version": "1.2.0",
            "grid_template_areas": null,
            "object_position": null,
            "object_fit": null,
            "grid_auto_columns": null,
            "margin": null,
            "display": null,
            "left": null
          }
        }
      }
    }
  },
  "nbformat": 4,
  "nbformat_minor": 0
}