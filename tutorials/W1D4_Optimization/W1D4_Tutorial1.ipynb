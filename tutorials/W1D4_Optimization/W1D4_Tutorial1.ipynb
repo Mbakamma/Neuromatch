{
  "nbformat": 4,
  "nbformat_minor": 0,
  "metadata": {
    "accelerator": "GPU",
    "colab": {
      "name": "W1D4_Tutorial1.ipynb",
      "provenance": [],
      "collapsed_sections": [],
      "toc_visible": true,
      "include_colab_link": true
    },
    "kernel": {
      "display_name": "Python 3",
      "language": "python",
      "name": "python3"
    },
    "kernelspec": {
      "display_name": "Python 3",
      "language": "python",
      "name": "python3"
    },
    "language_info": {
      "codemirror_mode": {
        "name": "ipython",
        "version": 3
      },
      "file_extension": ".py",
      "mimetype": "text/x-python",
      "name": "python",
      "nbconvert_exporter": "python",
      "pygments_lexer": "ipython3",
      "version": "3.7.1"
    },
    "toc-autonumbering": true,
    "varInspector": {
      "cols": {
        "lenName": 16,
        "lenType": 16,
        "lenVar": 40
      },
      "kernels_config": {
        "python": {
          "delete_cmd_postfix": "",
          "delete_cmd_prefix": "del ",
          "library": "var_list.py",
          "varRefreshCmd": "print(var_dic_list())"
        },
        "r": {
          "delete_cmd_postfix": ") ",
          "delete_cmd_prefix": "rm(",
          "library": "var_list.r",
          "varRefreshCmd": "cat(var_dic_list()) "
        }
      },
      "types_to_exclude": [
        "module",
        "function",
        "builtin_function_or_method",
        "instance",
        "_Feature"
      ],
      "window_display": false
    },
    "widgets": {
      "application/vnd.jupyter.widget-state+json": {
        "2974e24bb2dd4586a0377c75033899ae": {
          "model_module": "@jupyter-widgets/controls",
          "model_name": "TabModel",
          "state": {
            "_view_name": "TabView",
            "_dom_classes": [],
            "_titles": {
              "0": "Youtube",
              "1": "Bilibili"
            },
            "_model_name": "TabModel",
            "_view_module": "@jupyter-widgets/controls",
            "selected_index": 0,
            "_model_module_version": "1.5.0",
            "_view_count": null,
            "_view_module_version": "1.5.0",
            "box_style": "",
            "layout": "IPY_MODEL_2c3fad977e884539935d009d8358f2bc",
            "_model_module": "@jupyter-widgets/controls",
            "children": [
              "IPY_MODEL_bb6ec8419333483c99186bf03961c310",
              "IPY_MODEL_7864149b467046eda1392244aed2e106"
            ]
          }
        },
        "2c3fad977e884539935d009d8358f2bc": {
          "model_module": "@jupyter-widgets/base",
          "model_name": "LayoutModel",
          "state": {
            "_view_name": "LayoutView",
            "grid_template_rows": null,
            "right": null,
            "justify_content": null,
            "_view_module": "@jupyter-widgets/base",
            "overflow": null,
            "_model_module_version": "1.2.0",
            "_view_count": null,
            "flex_flow": null,
            "width": null,
            "min_width": null,
            "border": null,
            "align_items": null,
            "bottom": null,
            "_model_module": "@jupyter-widgets/base",
            "top": null,
            "grid_column": null,
            "overflow_y": null,
            "overflow_x": null,
            "grid_auto_flow": null,
            "grid_area": null,
            "grid_template_columns": null,
            "flex": null,
            "_model_name": "LayoutModel",
            "justify_items": null,
            "grid_row": null,
            "max_height": null,
            "align_content": null,
            "visibility": null,
            "align_self": null,
            "height": null,
            "min_height": null,
            "padding": null,
            "grid_auto_rows": null,
            "grid_gap": null,
            "max_width": null,
            "order": null,
            "_view_module_version": "1.2.0",
            "grid_template_areas": null,
            "object_position": null,
            "object_fit": null,
            "grid_auto_columns": null,
            "margin": null,
            "display": null,
            "left": null
          }
        },
        "bb6ec8419333483c99186bf03961c310": {
          "model_module": "@jupyter-widgets/output",
          "model_name": "OutputModel",
          "state": {
            "_view_name": "OutputView",
            "msg_id": "",
            "_dom_classes": [],
            "_model_name": "OutputModel",
            "outputs": [
              {
                "output_type": "stream",
                "metadata": {
                  "tags": []
                },
                "text": "Video available at https://youtube.com/watch?v=zm9oekdkJbQ\n",
                "stream": "stdout"
              },
              {
                "output_type": "display_data",
                "metadata": {
                  "tags": []
                },
                "text/html": "\n        <iframe\n            width=\"854\"\n            height=\"480\"\n            src=\"https://www.youtube.com/embed/zm9oekdkJbQ?fs=1&rel=0\"\n            frameborder=\"0\"\n            allowfullscreen\n        ></iframe>\n        ",
                "text/plain": "<IPython.lib.display.YouTubeVideo at 0x7fee9fbb5d50>",
                "image/jpeg": "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\n"
              }
            ],
            "_view_module": "@jupyter-widgets/output",
            "_model_module_version": "1.0.0",
            "_view_count": null,
            "_view_module_version": "1.0.0",
            "layout": "IPY_MODEL_bbd6ecaadf3949b183d7bca3e1c91994",
            "_model_module": "@jupyter-widgets/output"
          }
        },
        "7864149b467046eda1392244aed2e106": {
          "model_module": "@jupyter-widgets/output",
          "model_name": "OutputModel",
          "state": {
            "_view_name": "OutputView",
            "msg_id": "",
            "_dom_classes": [],
            "_model_name": "OutputModel",
            "outputs": [
              {
                "output_type": "stream",
                "metadata": {
                  "tags": []
                },
                "text": "Video available at https://www.bilibili.com/video/\n",
                "stream": "stdout"
              },
              {
                "output_type": "display_data",
                "metadata": {
                  "tags": []
                },
                "text/html": "\n        <iframe\n            width=\"854\"\n            height=\"480\"\n            src=\"https://player.bilibili.com/player.html?bvid=&page=1?fs=1\"\n            frameborder=\"0\"\n            allowfullscreen\n        ></iframe>\n        ",
                "text/plain": "<__main__.BiliVideo at 0x7feea0737d10>"
              }
            ],
            "_view_module": "@jupyter-widgets/output",
            "_model_module_version": "1.0.0",
            "_view_count": null,
            "_view_module_version": "1.0.0",
            "layout": "IPY_MODEL_2f024a54a5664e38b1b3139dcc7f8bdf",
            "_model_module": "@jupyter-widgets/output"
          }
        },
        "bbd6ecaadf3949b183d7bca3e1c91994": {
          "model_module": "@jupyter-widgets/base",
          "model_name": "LayoutModel",
          "state": {
            "_view_name": "LayoutView",
            "grid_template_rows": null,
            "right": null,
            "justify_content": null,
            "_view_module": "@jupyter-widgets/base",
            "overflow": null,
            "_model_module_version": "1.2.0",
            "_view_count": null,
            "flex_flow": null,
            "width": null,
            "min_width": null,
            "border": null,
            "align_items": null,
            "bottom": null,
            "_model_module": "@jupyter-widgets/base",
            "top": null,
            "grid_column": null,
            "overflow_y": null,
            "overflow_x": null,
            "grid_auto_flow": null,
            "grid_area": null,
            "grid_template_columns": null,
            "flex": null,
            "_model_name": "LayoutModel",
            "justify_items": null,
            "grid_row": null,
            "max_height": null,
            "align_content": null,
            "visibility": null,
            "align_self": null,
            "height": null,
            "min_height": null,
            "padding": null,
            "grid_auto_rows": null,
            "grid_gap": null,
            "max_width": null,
            "order": null,
            "_view_module_version": "1.2.0",
            "grid_template_areas": null,
            "object_position": null,
            "object_fit": null,
            "grid_auto_columns": null,
            "margin": null,
            "display": null,
            "left": null
          }
        },
        "2f024a54a5664e38b1b3139dcc7f8bdf": {
          "model_module": "@jupyter-widgets/base",
          "model_name": "LayoutModel",
          "state": {
            "_view_name": "LayoutView",
            "grid_template_rows": null,
            "right": null,
            "justify_content": null,
            "_view_module": "@jupyter-widgets/base",
            "overflow": null,
            "_model_module_version": "1.2.0",
            "_view_count": null,
            "flex_flow": null,
            "width": null,
            "min_width": null,
            "border": null,
            "align_items": null,
            "bottom": null,
            "_model_module": "@jupyter-widgets/base",
            "top": null,
            "grid_column": null,
            "overflow_y": null,
            "overflow_x": null,
            "grid_auto_flow": null,
            "grid_area": null,
            "grid_template_columns": null,
            "flex": null,
            "_model_name": "LayoutModel",
            "justify_items": null,
            "grid_row": null,
            "max_height": null,
            "align_content": null,
            "visibility": null,
            "align_self": null,
            "height": null,
            "min_height": null,
            "padding": null,
            "grid_auto_rows": null,
            "grid_gap": null,
            "max_width": null,
            "order": null,
            "_view_module_version": "1.2.0",
            "grid_template_areas": null,
            "object_position": null,
            "object_fit": null,
            "grid_auto_columns": null,
            "margin": null,
            "display": null,
            "left": null
          }
        },
        "82b3e28dbb884d029d2c20720a61e68a": {
          "model_module": "@jupyter-widgets/controls",
          "model_name": "TabModel",
          "state": {
            "_view_name": "TabView",
            "_dom_classes": [],
            "_titles": {
              "0": "Youtube",
              "1": "Bilibili"
            },
            "_model_name": "TabModel",
            "_view_module": "@jupyter-widgets/controls",
            "selected_index": 0,
            "_model_module_version": "1.5.0",
            "_view_count": null,
            "_view_module_version": "1.5.0",
            "box_style": "",
            "layout": "IPY_MODEL_636272ba455140f5b8b23e33b428b6cb",
            "_model_module": "@jupyter-widgets/controls",
            "children": [
              "IPY_MODEL_4dd4b9de8f39467aa6b94e9df52340d0",
              "IPY_MODEL_917d9e042b60474d9fe2ad60d2dbca69"
            ]
          }
        },
        "636272ba455140f5b8b23e33b428b6cb": {
          "model_module": "@jupyter-widgets/base",
          "model_name": "LayoutModel",
          "state": {
            "_view_name": "LayoutView",
            "grid_template_rows": null,
            "right": null,
            "justify_content": null,
            "_view_module": "@jupyter-widgets/base",
            "overflow": null,
            "_model_module_version": "1.2.0",
            "_view_count": null,
            "flex_flow": null,
            "width": null,
            "min_width": null,
            "border": null,
            "align_items": null,
            "bottom": null,
            "_model_module": "@jupyter-widgets/base",
            "top": null,
            "grid_column": null,
            "overflow_y": null,
            "overflow_x": null,
            "grid_auto_flow": null,
            "grid_area": null,
            "grid_template_columns": null,
            "flex": null,
            "_model_name": "LayoutModel",
            "justify_items": null,
            "grid_row": null,
            "max_height": null,
            "align_content": null,
            "visibility": null,
            "align_self": null,
            "height": null,
            "min_height": null,
            "padding": null,
            "grid_auto_rows": null,
            "grid_gap": null,
            "max_width": null,
            "order": null,
            "_view_module_version": "1.2.0",
            "grid_template_areas": null,
            "object_position": null,
            "object_fit": null,
            "grid_auto_columns": null,
            "margin": null,
            "display": null,
            "left": null
          }
        },
        "4dd4b9de8f39467aa6b94e9df52340d0": {
          "model_module": "@jupyter-widgets/output",
          "model_name": "OutputModel",
          "state": {
            "_view_name": "OutputView",
            "msg_id": "",
            "_dom_classes": [],
            "_model_name": "OutputModel",
            "outputs": [
              {
                "output_type": "stream",
                "metadata": {
                  "tags": []
                },
                "text": "Video available at https://youtube.com/watch?v=pJc2ENhYbqA\n",
                "stream": "stdout"
              },
              {
                "output_type": "display_data",
                "metadata": {
                  "tags": []
                },
                "text/html": "\n        <iframe\n            width=\"854\"\n            height=\"480\"\n            src=\"https://www.youtube.com/embed/pJc2ENhYbqA?fs=1&rel=0\"\n            frameborder=\"0\"\n            allowfullscreen\n        ></iframe>\n        ",
                "text/plain": "<IPython.lib.display.YouTubeVideo at 0x7fee9fba4d10>",
                "image/jpeg": "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\n"
              }
            ],
            "_view_module": "@jupyter-widgets/output",
            "_model_module_version": "1.0.0",
            "_view_count": null,
            "_view_module_version": "1.0.0",
            "layout": "IPY_MODEL_d110783e34094166a6e66a4a54858270",
            "_model_module": "@jupyter-widgets/output"
          }
        },
        "917d9e042b60474d9fe2ad60d2dbca69": {
          "model_module": "@jupyter-widgets/output",
          "model_name": "OutputModel",
          "state": {
            "_view_name": "OutputView",
            "msg_id": "",
            "_dom_classes": [],
            "_model_name": "OutputModel",
            "outputs": [
              {
                "output_type": "stream",
                "metadata": {
                  "tags": []
                },
                "text": "Video available at https://www.bilibili.com/video/\n",
                "stream": "stdout"
              },
              {
                "output_type": "display_data",
                "metadata": {
                  "tags": []
                },
                "text/html": "\n        <iframe\n            width=\"854\"\n            height=\"480\"\n            src=\"https://player.bilibili.com/player.html?bvid=&page=1?fs=1\"\n            frameborder=\"0\"\n            allowfullscreen\n        ></iframe>\n        ",
                "text/plain": "<__main__.BiliVideo at 0x7fee9fba4750>"
              }
            ],
            "_view_module": "@jupyter-widgets/output",
            "_model_module_version": "1.0.0",
            "_view_count": null,
            "_view_module_version": "1.0.0",
            "layout": "IPY_MODEL_80fe3eebcd8a480380ee39c7a1f9da36",
            "_model_module": "@jupyter-widgets/output"
          }
        },
        "d110783e34094166a6e66a4a54858270": {
          "model_module": "@jupyter-widgets/base",
          "model_name": "LayoutModel",
          "state": {
            "_view_name": "LayoutView",
            "grid_template_rows": null,
            "right": null,
            "justify_content": null,
            "_view_module": "@jupyter-widgets/base",
            "overflow": null,
            "_model_module_version": "1.2.0",
            "_view_count": null,
            "flex_flow": null,
            "width": null,
            "min_width": null,
            "border": null,
            "align_items": null,
            "bottom": null,
            "_model_module": "@jupyter-widgets/base",
            "top": null,
            "grid_column": null,
            "overflow_y": null,
            "overflow_x": null,
            "grid_auto_flow": null,
            "grid_area": null,
            "grid_template_columns": null,
            "flex": null,
            "_model_name": "LayoutModel",
            "justify_items": null,
            "grid_row": null,
            "max_height": null,
            "align_content": null,
            "visibility": null,
            "align_self": null,
            "height": null,
            "min_height": null,
            "padding": null,
            "grid_auto_rows": null,
            "grid_gap": null,
            "max_width": null,
            "order": null,
            "_view_module_version": "1.2.0",
            "grid_template_areas": null,
            "object_position": null,
            "object_fit": null,
            "grid_auto_columns": null,
            "margin": null,
            "display": null,
            "left": null
          }
        },
        "80fe3eebcd8a480380ee39c7a1f9da36": {
          "model_module": "@jupyter-widgets/base",
          "model_name": "LayoutModel",
          "state": {
            "_view_name": "LayoutView",
            "grid_template_rows": null,
            "right": null,
            "justify_content": null,
            "_view_module": "@jupyter-widgets/base",
            "overflow": null,
            "_model_module_version": "1.2.0",
            "_view_count": null,
            "flex_flow": null,
            "width": null,
            "min_width": null,
            "border": null,
            "align_items": null,
            "bottom": null,
            "_model_module": "@jupyter-widgets/base",
            "top": null,
            "grid_column": null,
            "overflow_y": null,
            "overflow_x": null,
            "grid_auto_flow": null,
            "grid_area": null,
            "grid_template_columns": null,
            "flex": null,
            "_model_name": "LayoutModel",
            "justify_items": null,
            "grid_row": null,
            "max_height": null,
            "align_content": null,
            "visibility": null,
            "align_self": null,
            "height": null,
            "min_height": null,
            "padding": null,
            "grid_auto_rows": null,
            "grid_gap": null,
            "max_width": null,
            "order": null,
            "_view_module_version": "1.2.0",
            "grid_template_areas": null,
            "object_position": null,
            "object_fit": null,
            "grid_auto_columns": null,
            "margin": null,
            "display": null,
            "left": null
          }
        },
        "7eee856de9e24699bb37521c7003f9ae": {
          "model_module": "@jupyter-widgets/controls",
          "model_name": "TabModel",
          "state": {
            "_view_name": "TabView",
            "_dom_classes": [],
            "_titles": {
              "0": "Youtube",
              "1": "Bilibili"
            },
            "_model_name": "TabModel",
            "_view_module": "@jupyter-widgets/controls",
            "selected_index": 0,
            "_model_module_version": "1.5.0",
            "_view_count": null,
            "_view_module_version": "1.5.0",
            "box_style": "",
            "layout": "IPY_MODEL_ff9737278ac5492aa2226aef37f4715a",
            "_model_module": "@jupyter-widgets/controls",
            "children": [
              "IPY_MODEL_beec29bd59284fa69e26dec3de34f779",
              "IPY_MODEL_6fa8308ded174584bd328ebf39cfecfc"
            ]
          }
        },
        "ff9737278ac5492aa2226aef37f4715a": {
          "model_module": "@jupyter-widgets/base",
          "model_name": "LayoutModel",
          "state": {
            "_view_name": "LayoutView",
            "grid_template_rows": null,
            "right": null,
            "justify_content": null,
            "_view_module": "@jupyter-widgets/base",
            "overflow": null,
            "_model_module_version": "1.2.0",
            "_view_count": null,
            "flex_flow": null,
            "width": null,
            "min_width": null,
            "border": null,
            "align_items": null,
            "bottom": null,
            "_model_module": "@jupyter-widgets/base",
            "top": null,
            "grid_column": null,
            "overflow_y": null,
            "overflow_x": null,
            "grid_auto_flow": null,
            "grid_area": null,
            "grid_template_columns": null,
            "flex": null,
            "_model_name": "LayoutModel",
            "justify_items": null,
            "grid_row": null,
            "max_height": null,
            "align_content": null,
            "visibility": null,
            "align_self": null,
            "height": null,
            "min_height": null,
            "padding": null,
            "grid_auto_rows": null,
            "grid_gap": null,
            "max_width": null,
            "order": null,
            "_view_module_version": "1.2.0",
            "grid_template_areas": null,
            "object_position": null,
            "object_fit": null,
            "grid_auto_columns": null,
            "margin": null,
            "display": null,
            "left": null
          }
        },
        "beec29bd59284fa69e26dec3de34f779": {
          "model_module": "@jupyter-widgets/output",
          "model_name": "OutputModel",
          "state": {
            "_view_name": "OutputView",
            "msg_id": "",
            "_dom_classes": [],
            "_model_name": "OutputModel",
            "outputs": [
              {
                "output_type": "stream",
                "metadata": {
                  "tags": []
                },
                "text": "Video available at https://youtube.com/watch?v=aSJTRdjRvvw\n",
                "stream": "stdout"
              },
              {
                "output_type": "display_data",
                "metadata": {
                  "tags": []
                },
                "text/html": "\n        <iframe\n            width=\"854\"\n            height=\"480\"\n            src=\"https://www.youtube.com/embed/aSJTRdjRvvw?fs=1&rel=0\"\n            frameborder=\"0\"\n            allowfullscreen\n        ></iframe>\n        ",
                "text/plain": "<IPython.lib.display.YouTubeVideo at 0x7fee949cbcd0>",
                "image/jpeg": "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\n"
              }
            ],
            "_view_module": "@jupyter-widgets/output",
            "_model_module_version": "1.0.0",
            "_view_count": null,
            "_view_module_version": "1.0.0",
            "layout": "IPY_MODEL_10d5d21bce0f4fd196a9cf88c3b6caf4",
            "_model_module": "@jupyter-widgets/output"
          }
        },
        "6fa8308ded174584bd328ebf39cfecfc": {
          "model_module": "@jupyter-widgets/output",
          "model_name": "OutputModel",
          "state": {
            "_view_name": "OutputView",
            "msg_id": "",
            "_dom_classes": [],
            "_model_name": "OutputModel",
            "outputs": [
              {
                "output_type": "stream",
                "metadata": {
                  "tags": []
                },
                "text": "Video available at https://www.bilibili.com/video/\n",
                "stream": "stdout"
              },
              {
                "output_type": "display_data",
                "metadata": {
                  "tags": []
                },
                "text/html": "\n        <iframe\n            width=\"854\"\n            height=\"480\"\n            src=\"https://player.bilibili.com/player.html?bvid=&page=1?fs=1\"\n            frameborder=\"0\"\n            allowfullscreen\n        ></iframe>\n        ",
                "text/plain": "<__main__.BiliVideo at 0x7fee96d07d50>"
              }
            ],
            "_view_module": "@jupyter-widgets/output",
            "_model_module_version": "1.0.0",
            "_view_count": null,
            "_view_module_version": "1.0.0",
            "layout": "IPY_MODEL_5b1b50f450644a758cda3b4fbd379e14",
            "_model_module": "@jupyter-widgets/output"
          }
        },
        "10d5d21bce0f4fd196a9cf88c3b6caf4": {
          "model_module": "@jupyter-widgets/base",
          "model_name": "LayoutModel",
          "state": {
            "_view_name": "LayoutView",
            "grid_template_rows": null,
            "right": null,
            "justify_content": null,
            "_view_module": "@jupyter-widgets/base",
            "overflow": null,
            "_model_module_version": "1.2.0",
            "_view_count": null,
            "flex_flow": null,
            "width": null,
            "min_width": null,
            "border": null,
            "align_items": null,
            "bottom": null,
            "_model_module": "@jupyter-widgets/base",
            "top": null,
            "grid_column": null,
            "overflow_y": null,
            "overflow_x": null,
            "grid_auto_flow": null,
            "grid_area": null,
            "grid_template_columns": null,
            "flex": null,
            "_model_name": "LayoutModel",
            "justify_items": null,
            "grid_row": null,
            "max_height": null,
            "align_content": null,
            "visibility": null,
            "align_self": null,
            "height": null,
            "min_height": null,
            "padding": null,
            "grid_auto_rows": null,
            "grid_gap": null,
            "max_width": null,
            "order": null,
            "_view_module_version": "1.2.0",
            "grid_template_areas": null,
            "object_position": null,
            "object_fit": null,
            "grid_auto_columns": null,
            "margin": null,
            "display": null,
            "left": null
          }
        },
        "5b1b50f450644a758cda3b4fbd379e14": {
          "model_module": "@jupyter-widgets/base",
          "model_name": "LayoutModel",
          "state": {
            "_view_name": "LayoutView",
            "grid_template_rows": null,
            "right": null,
            "justify_content": null,
            "_view_module": "@jupyter-widgets/base",
            "overflow": null,
            "_model_module_version": "1.2.0",
            "_view_count": null,
            "flex_flow": null,
            "width": null,
            "min_width": null,
            "border": null,
            "align_items": null,
            "bottom": null,
            "_model_module": "@jupyter-widgets/base",
            "top": null,
            "grid_column": null,
            "overflow_y": null,
            "overflow_x": null,
            "grid_auto_flow": null,
            "grid_area": null,
            "grid_template_columns": null,
            "flex": null,
            "_model_name": "LayoutModel",
            "justify_items": null,
            "grid_row": null,
            "max_height": null,
            "align_content": null,
            "visibility": null,
            "align_self": null,
            "height": null,
            "min_height": null,
            "padding": null,
            "grid_auto_rows": null,
            "grid_gap": null,
            "max_width": null,
            "order": null,
            "_view_module_version": "1.2.0",
            "grid_template_areas": null,
            "object_position": null,
            "object_fit": null,
            "grid_auto_columns": null,
            "margin": null,
            "display": null,
            "left": null
          }
        },
        "9f08ccfc608c454193347dcc9830ca86": {
          "model_module": "@jupyter-widgets/controls",
          "model_name": "TabModel",
          "state": {
            "_view_name": "TabView",
            "_dom_classes": [],
            "_titles": {
              "0": "Youtube",
              "1": "Bilibili"
            },
            "_model_name": "TabModel",
            "_view_module": "@jupyter-widgets/controls",
            "selected_index": 0,
            "_model_module_version": "1.5.0",
            "_view_count": null,
            "_view_module_version": "1.5.0",
            "box_style": "",
            "layout": "IPY_MODEL_6d6d94e2e6ed41fd85b222a40ce0a56d",
            "_model_module": "@jupyter-widgets/controls",
            "children": [
              "IPY_MODEL_a6fbcf7fd19e422f855e3a4b3393dcba",
              "IPY_MODEL_3c2c8f5ea53b4518aee318c971291615"
            ]
          }
        },
        "6d6d94e2e6ed41fd85b222a40ce0a56d": {
          "model_module": "@jupyter-widgets/base",
          "model_name": "LayoutModel",
          "state": {
            "_view_name": "LayoutView",
            "grid_template_rows": null,
            "right": null,
            "justify_content": null,
            "_view_module": "@jupyter-widgets/base",
            "overflow": null,
            "_model_module_version": "1.2.0",
            "_view_count": null,
            "flex_flow": null,
            "width": null,
            "min_width": null,
            "border": null,
            "align_items": null,
            "bottom": null,
            "_model_module": "@jupyter-widgets/base",
            "top": null,
            "grid_column": null,
            "overflow_y": null,
            "overflow_x": null,
            "grid_auto_flow": null,
            "grid_area": null,
            "grid_template_columns": null,
            "flex": null,
            "_model_name": "LayoutModel",
            "justify_items": null,
            "grid_row": null,
            "max_height": null,
            "align_content": null,
            "visibility": null,
            "align_self": null,
            "height": null,
            "min_height": null,
            "padding": null,
            "grid_auto_rows": null,
            "grid_gap": null,
            "max_width": null,
            "order": null,
            "_view_module_version": "1.2.0",
            "grid_template_areas": null,
            "object_position": null,
            "object_fit": null,
            "grid_auto_columns": null,
            "margin": null,
            "display": null,
            "left": null
          }
        },
        "a6fbcf7fd19e422f855e3a4b3393dcba": {
          "model_module": "@jupyter-widgets/output",
          "model_name": "OutputModel",
          "state": {
            "_view_name": "OutputView",
            "msg_id": "",
            "_dom_classes": [],
            "_model_name": "OutputModel",
            "outputs": [
              {
                "output_type": "stream",
                "metadata": {
                  "tags": []
                },
                "text": "Video available at https://youtube.com/watch?v=3ES5O58Y_2M\n",
                "stream": "stdout"
              },
              {
                "output_type": "display_data",
                "metadata": {
                  "tags": []
                },
                "text/html": "\n        <iframe\n            width=\"854\"\n            height=\"480\"\n            src=\"https://www.youtube.com/embed/3ES5O58Y_2M?fs=1&rel=0\"\n            frameborder=\"0\"\n            allowfullscreen\n        ></iframe>\n        ",
                "text/plain": "<IPython.lib.display.YouTubeVideo at 0x7fee96ade710>",
                "image/jpeg": "/9j/4AAQSkZJRgABAQAAAQABAAD/2wCEABALDBoYFhoaGRoeHRsfIC8lIiIhIiUoJiYuMy0xNi4yLTM1Q1BCNjhLOS4tR2FFS1NWW11bMkFlbWRYbVBZW1cBERISGRYZLxsbMFc9NUJYV1dXV1dXV1dXV1dXV15XV1dXXldXV11dV1ddV1dXV1djV1dXXVdXV1dXV1dXV1dXV//AABEIAWgB4AMBIgACEQEDEQH/xAAbAAEAAgMBAQAAAAAAAAAAAAAAAgQBAwUGB//EAEUQAAIBAgMECAMGAwUIAgMAAAECAAMRBBIhEzFBUQUXIlNhcZLSUoGRBhQyQqHRFSOxYnOywfAHJDM0Q4Lh8XKiFlR0/8QAGAEBAQEBAQAAAAAAAAAAAAAAAAECAwT/xAAmEQEBAAICAQMEAgMAAAAAAAAAAQIRITESA0FREzJhcSLhgZHR/9oADAMBAAIRAxEAPwD5/ERAREQEREBERAREQEREBERAREQEREBERAREQEREBERAREQEREBERAREQEREBERAREQEREBERAREQEREBERAREQEREBERAREQEREBERAREQEREBERAREQEREBERAREQEREBERAREQEREBERAREQEREBERAREQEREBERAREQEREBERAREQEREBERAREQEREBERAREQEREBE9f1cY3vcP6qntjq4xve4f1VPbA8hE9f1cY3vcP6qntjq4xve4f1VPbA8hE9f1cY3vcP6qntjq4xve4f1VPbA8hE9f1cY3vcP6qntjq4xve4f1VPbA8hE9f1cY3vcP6qntjq4xve4f1VPbA8hE9f1cY3vcP6qntjq4xve4f1VPbA8hE9f1cY3vcP6qntjq4xve4f1VPbA8hE9f1cY3vcP6qntjq4xve4f1VPbA8hE9f1cY3vcP6qntjq4xve4f1VPbA8hE9f1cY3vcP6qntjq4xve4f1VPbA8hE9f1cY3vcP6qntjq4xve4f1VPbA8hE9f1cY3vcP6qntjq4xve4f1VPbA8hE9f1cY3vcP6qntjq4xve4f1VPbA8hE9f1cY3vcP6qntjq4xve4f1VPbA8hE9f1cY3vcP6qntjq4xve4f1VPbA8hE9f1cY3vcP6qntjq4xve4f1VPbA8hE9f1cY3vcP6qntjq4xve4f1VPbA8hE9f1cY3vcP6qntjq4xve4f1VPbA8hE9f1cY3vcP6qntjq4xve4f1VPbA8hE9f1cY3vcP6qntjq4xve4f1VPbA8hE9f1cY3vcP6qntjq4xve4f1VPbA8hE9f1cY3vcP6qntjq4xve4f1VPbA8hE9f1cY3vcP6qntjq4xve4f1VPbA8hE9f1cY3vcP6qntlPpP7FYnCoHqPRILZeyzk3sTxUcoHnInSHQtX4k+p/aSHQNU/mT6t+0m4uq5cTrj7O1j+an9W/aSH2Zr/FT+rftG4arjRO1/8AjFf46X1b9pCt9nqlMXerRUeLN+0bhquRE6eH6FarfJWomxt+Jv2m/wD/ABiv8VL6t+0bhpxYnZP2ar/FT+rftIn7OVvip/Vv2jcNVyInVP2frfFT+rftMHoKr8SfVv2jcNV9riIlQiIgIiICIiAiIgIiICIiAiIgIiICIiAiIgIiICIiAiIgIiICIiAiIgIiICIiAiIgIiICIiAiIgJwPtiP92T+9H+Fp355/wC2Zthk/vR/haS9LHklE3oJVR5ZptObaygm1RNaOOYm1XXmJFUumq7UsOWVspJAvx+U8o5q1iCczkaAmei+0oDUqYBv293/AGmabU6WVGIU2Gkty0sx8u3BfCVU1KlfG89B0F0ptP5VQ3cfhJ/MP3luo9MIM7LY7r63nLwVCmMcCLZcpddbC8ky32ZYePT0DCa2E2M6/EPrIEg7jeVGlhNTjSb2E1ONDCPo8RE6uZESi/TGFV9mcRSD3tYuN/LzgXoiICImutWWmpZ2CqN5JsBA2RICqt2XMLrYsLi4vuvy3QaqhgpYZmBIFxcgb7D5wJxEQESD1FXKGYAsbC5tc8hJwEREBETXWrLTQu7BUUXLMbAQNkTXQrpUUOjBlO4jdNkBERARNdOsrgMrAg6Ag77b/wChmVqKSwDAldGAOo0vry0gTiQeqqlVZgCxsoJ3mxNh8gYp1VcXVgwuRcG+o3iBOIiAiIgIiQp1Fa+Vg1iQbG9iN4PjAnERAREgaqhwhYZ2BIW+pAtcjyuPrAnESLsFBJNgBck8BAlEijhgGU3BFwRuImFqKSwDAlTZgDqOOvKBOIiAiReoqgkkAKLkk6DzmVYEAg3B3EQMxEQE879tf+VT+9H+Fp6Ked+23/K0/wC9H+FpL0seMUyxSaVgZvozm230RcmWVWVqEtU2BGkjSvj6IIQ/DUU/raasfhM1VidBz8N02YrFqrFHBK7jbQgia0Jc3LZgfwZt4I1sfpMWuuM4Yq4LOcu7J/oSvRw9qwPwoR9T/wCJ0atZc6kgi5B+e7WaDTKVahbcxFvL/RkxvKZ9JFZPDcZDaDnJ4Vgb2nVybGmp+M3NNT8YR9FiInVzcz7R1WTBV2Ripy2LDeoJAZh5Ak/KWaWAorQFFaabHLbLYZSPHnLDoGUqwBUixB1BB3gzljoOy7NcViFo92GWwHwhiM4H/dAw71KmJbDUamwp0aSElVUsS2YKBmBAAC/rK79IYgU6lPOu2pYmnS2mUWZXKEErzytY24jhL+I6KDMr0qlShUVMmZMpuo3Bg4INuB36nnCdEU1pCnmcnaiqzkgs7hgbtp4AacN1oGjbVaFdlqVTWQ0HqaqoKlCtwMoGhDceU53SSYh+j2rVK986oxphFyKCymykdq401JPlPQVMIrVlqm9wjJbSxDFSb+kTnt9n1NI0fvFfYaZad0stiCADlzEC24kwKHTbu69KoGChMOjaKt2BSpcE2uQbfLhL9Nmp1cIrNn/k1CWZVzaZLWIGm/hvlmr0VTdsSWLH7zTFNxcWAAYaePaMzQ6OytSZqr1GpKygtkFw2XflA3ZRA5YxWKOD+/CsP+HthRyLkyWvlJtmzZeN9/CWBXrV8XUppWNKmKFOoLIha7F+JBHAcDJnoFLGntqv3cm5oXTJa98t7Zst+F7cN2kvU8Eq13rAnM6KhGlgFLEW9Rgcaj0hUdcHnKsxxb0mYquoQVRcfCTlG6SatiXo4qquIybGpVCKKaEEITYPcXO7haX6fQ1NRSAZ/wCXXasN2rNmuDpu7Z/SbU6OVaValma1VnZjpcZ73t9YFJsTWxFdaVOpsVWitV2VVLEuSFAzAgAZTfTlLHRNaqz4pKrhzSrBFIULps0b+rGV+kcLlekyDEKy08m1ohGNtOyysDfne2k29BYV6Yru4ddrWzgOQXsEVbtbicpNuF4GKlStXxNWlTqmilELcqqlmZgT+YEBQLfXwnNx1WrWoZHqWeji0psVVbP20KtYg2IBBsNLzsYro3PU2tOrUo1CoVmp5DmAvYEMCNLnXfrC9E0xRFIF7CoKpYm7MwYNdieZH7Wgb8SzU6DkNdlpk5iBqQu+26ccVsUDgycRf7z2WGzXKv8ALL3Xjfs8SRru4TuV6QdGQ7mUqbeItK56PQ/d9W/3c3Xdr2CmvyYwOS+Pr06eNU1M7UKtNVcqoJDhCbgC35jwnUxWIZcVhqYPZcVMwsNbAW/rI1eiKbjEglv94ILWIGUhQoK8vwg+cxR6LtVp1alerVemGC58gFmAB0VQOG/fA4pouydHZarJfE1ALBTY2rG+oOvDlrLVfpGpTbHZMucVqNOmSo0LrTF2tq1i1/laX6nQ6mlSRalRDSqGojrlLAnNfeCCLMRumX6HpMMQHLNtypbUAgqqhSpG49kHzgVK+Hq08TgtpXNUGq34lVSDsn3ZQNPA/WQp4qrsqQpsqF8ZUpkhFtlBqcBx7I15y7S6KIqUqlTEVqrUiSufIBqpXUKovv375sTotAKYzN2KzVhu1LZrg6bu2foIFCn95ariaH3phsQrK+zp5zmBNjpawtwF9ZpHTFSomDXM1NquHFao9Ok1Rty6KADa5O8jS3jOzTwSrVrVATeqFDDSwyggW+srfwZBSoIlSpTegmSnUXLntYAg3BUg2GhHCBRq9JV0w+Jszk08hp1alEpfMbEEEAEjXUDcRLeavSxdBHrbRKwe6lFUKVAIK21tv0N5vfozPQelUrVamcgl2yX0IOgAAA05TfWwivVpVCTelmsBaxzCxvA5HR+Oq7VFxFapSrMxBpPSApNv0pvbXw7RPhIpjqgQpTyrUq42pSVsgsoBYkkDebKd/E6y+nRJzJnxFaoiMGVHyWuN12Chmt4nzvMt0RTNNkzOM1VqwYEBkckm6nwvx4b7wNVOpWoYhKVSqayVUYqzKodWW1/wgAgg8uHjKdPE4n7rh8Ua9yxpZqeRAhDsqnhe+u+9vCdPC9GBKhq1KtStUy5Qz5BlU7woUAC9hra+kz/DE+7U8PmbJTyWOmY5GBF9LcIFLH4p2q1RSr1F2YFxToqyqbX7ZIJPDRbWBkMLiTWxPR9UgA1MHUcgbgW2J/zl9ujP5lRkrVEFU3dFy2JsBcXBIJAG48JnDdFpSOHKsx2FE0VvbVTk1Om/sD9YEOk8RUD0KNJgjVWN3IvlVRc2B0J3DWVK1arTath6tQ1VbDPURyqhhbRg2UAHeCD5zpY7ArXC3LI6NmR0sGU2IuL3G4kWOk00eigNoXq1KtSomQ1Hy3C66KFAA3k7oHOD4jD4WjiNtmULTzUiihcpyjsn8VxfiZiv0o9E45gFzLiKdNOxfV1pi7ZdWtm89LS23QwVEDVq9WlSsVokoQSu7WwZtRexNpDB4DbffTWpstOvVDKD2XsqIA2mqnMtx5QMYbGVFr0lD1qyOSHz4dqeTskhgcoFri1jzEl0e2IxCLiNvs1ZrrSCKVyg2sx/ESQOBFry5hME9Nrvia1WwsA+zAHnlUXPnNSdEZG/l161OkWzGkpTLcm5sSMwBPAGByqSPTbpZ9qWy37LKhBOxQgnThutu5y/hMcyVEWqw2dTDrUQ2AClQNoNPAqR85vqdEKz4hhUqKuIUiogy5b5cuYXFwbAcbeEY7oenXo06TlstMixBsSAMpB8CCQfOBzf4rWKYdWZkbEZ6t1pF2SmCMqhQD2rMtyQePhL/RWKqNUqU2NR0ChkqPSamdbgqbgAkWBuBuPhLONwC1chDNTembo6WzLpY7wQQRwItJ4TDNTBz1qlUni+UW8goAH0gWJ5z7b/APK0/wC9H+Fp6Oec+3H/ACtP++H+FpL0seKUyxRlcKRvlilSJ8BOVunWY2tiPYHnLGEosFsdJOjQVdZR6W6aWkMiWL8uXnMbt4jepO1fpQlHDE3HHxlXAY5A75tUY3tvIM5WIxL1Td2v/QTROsw45Yvqc8Pb1qlOpRurC41HnIislVQCdbfOeNWqw3MfrLFLHsp118eMzfTvsv1Ze3dxGEYfhNx4zf0XdQwbQ3lDDdKhhYnWX6NZWkts7Xxl6XWM1PxmDR5GRbNrxiZRLhX0mIid3AiIgIiICIiAiIgIiICIiBiJmICIiAiJgmBmYkS0iTAnmmM8heLwJ5ozSF5mBINJTkdI9Jmi4VQjaa6m485ewFR3phqgAJ1AHAcJq42TbEzlulqIiZbIiICIiAiIgIiIGImYgIiICIiAiIgJ537aG2Gpm1/5w/wtPRTlfaHox8VRVKbKpDhrte1rEcPOS9Lj28JTW+plqm4E6I+x+J72l/8Ab9phvsdiT/1qX/2/acfCu/nHC6TxrCkxQgHn8+E8uWJNzqTPcdXuIYnaYhGHD8Q/ymnq4xHf0fo37Trjjpyyy28ZE9n1cYnv6P0b9o6uMT39H6N+00w8XE9p1cYnv6P0b9o6uMR39H6N+0Dxd5cwuMYG2+eqb/ZtWtpiad//AItMD/ZviP8A9ilfho0lm1l05+E6SvoTL/3hSJup/wCz3Ea5sRTvwsG/WbB9h8WoP+8UT8nnK+m6z1Pl7+IidnEiIgIiICIiAiIgIiICIiAiIgJi8wWnE+0lV0Sk6MVYPa48Ru8d0luptrDHyymLtFpEmUOicXUrUQ9RQL7iD+LxtwlwmJdzaZS43VSvMSBaYvKy2RNRNtTpKv3xnOWgM3Nz+EfvLJazbIt1660xdzYf18pVDVq269KmeP5z5cpsoYEKc7k1KnxNw8hwlsS7k6TVvaumApBMuQWuCb7yRzMtpIzYoktt7bkk6ZiIkUiIgIiICIiAiIgIiYgZiUUx9lxDONKVTKAu89lSN/G7TXU6YVA2enUDLcZeySWspCixsSc4t84HSiU/4ihpPUAZlVsotbtnS2X5m2ttRMN0hlDZ6bqVTMR2Tpe3AwLsTnfxde0Wp1FUbQAnL2zTbKQtje5O69rzXiemsoqBabM6qSBmSxysFYXvpYn9IHViUK/SqU6bOVey7S4Fr/ywSeP9k2mF6VU1RTKMDmCtqvZYi9iAbneNRca+dg6ETEzARKOI6Q2dc02ViuzDDJTdze5GuUGw0Eq9H9MNUp0iaZepURGypYAXQM2rHdr+o84HYicrDdL5yp2bbN9nlbs9nOoIDC973IGnPzlmpjrO6im7CmO2wy2U5c1tTc6W3cx42C5MSi/SgDKq03dmIsBlG9S3Ejgpkf4whAKqxuFNuyNWzdnU/iGU3HCB0YnMwnTAqutkYJUFM0201zoz6i+mizL9MooYlHyqF17Nrs5RRv3kjfuHOB0pF9x8pqwmJFVSwBFiQQbcORGhE2vuPlAlERAREQEREBERAREQEREBETEBIlpgmRJgCZFgDYkDTUX4QTIEwjm0j93xBp7qVY3T+y/EfOdKV8dhRWplNx3qeTDcZownSKmleqQrocrjjmHLzmZxdOmX8sfL47/6vytXxiocou7/AArv+fKa71a269Knz/Of2lihh0piyi3M8T5mddSduG7elcYV6mtY6cKa7vnzl2moGgFgOAgCTAmbbVmMjMyIAkgLyNMqJOYmYUiIgIiICIiAiIgIiICIiBTboyiXdyrXe+YZ3ym4tqt8u7wmafR1FQtkvlfOCxZmzWtckkkm2mssvextvtpK/R2KNanmIAYEhgOBEuuNpvnSa4OmKWxCAU7EZeGuv9ZpbouiQoKscumtSob3N+1r2ted5diRVdsFSIUFAQr7Rb8GuTf6k/WQboyic3YPaDA9prdo3awvpc66cZbiBSboqgSxKE5gQQXcjUWbS9gSN54zd91TabSxDcbMwB0tcqDYm3Eib4gYiJUrYphiKdJbagl78Bwlk2lulnZLmL27RGW/hcm36mUa3RNPIq0rU8trHtGwVcoGhB3ab/O86M5qYpxj2ok9g0gyiw0N7H/OZt03Mdt+G6OpU6aUwLhAlid5yABTp5CTqYKmz7Qqc1rGzMAdLdoA2O/jN8zKyqUOjqVMgqpuDcEszHcV3kngSJn+H0rGyWu5qEqWU5iLE3BvumnpzEtSwtR0OVtAD5kS5QvkW5ucoufG0m+dNePG1b+E0LABCAqqoyu4sF/Dax0IBIvvtJjo+kFKZOyQAdTwJI14EEk3lqJWWujSCKFW9hzYsfqbmSfcfKSkX3HygSiIgIiICIiAiIgIiICIiBiQYzLGRgYJmDEi8IiTESFRSVYKcpINja9jzgTmj7pT2hqZBnO8zct7C+/jMwEATIWTAgYAkgIAkwsDAF5OJmFIiICIiAiIgIiICIiAiIgIiICcyh/Kxbp+WqMy+fH/ADnTnO6YpnItVfxUjm+XGax70xn1v4dCZmujVDorDcwuJsmWyIiAiIgYnN6N/mVa1bgTlXyH+hN/SuI2dFrfibsr5mbMFQ2VJE5DXz4zc4x2xectfCxOP0h2MfhX+MMh/wAv6zsTj/aPs06NUf8ATqqfl/q05Z9O/pfdr54deIiac3I+0hvSp0/jqqJ15yOlu3i8HT/tFz8v/U7EzO66ZfZjP2RETTmSL7j5SUi+4+UCUREBERAREQEREBERATBmZFt0CEwZmYMIxMMLzMQNeUzOUycQIhJICZtMgQMWmQJILJQrAWSiICIiAiIgIiICIiAiIgIiICIiAiIgJhlBBB1B0MzEDmdFsab1MO35TmTxUzpzndK0iMtdPx09/ivGXaFYVEV13EXm8uf5MY8fxbIiJhsmJmVsdihRpM/HcBzPCWTaW6m1V/52LC70o6n/AOX+v6Tpyn0ZhjTp9r8bHM3mZclyvszhON33JQ6bo58JWHJbj5a/5S/IsoIIO4ixmLNx0xurKr9GVtph6T80F/O2v6yzOR9m2IotSO+lUZf1/wDc7EmN3GvUmsrHH/H0n4UqP6k/sZ2Jxuhu3iMXV51Ag/7R/wCp2Yx+V9TuT4kIiJpzJF9x8pKRfcfKBKIiAiIgIiICIiAiIgJgiZmIGuJsImMsCEWk8kZYEJkCTtMwIBZK0zEDETMQEREBERAREQEREBERAREQEREBERAREQEREDE5VM/dKuQ/8GoeyfhPKdaa69FailWFwZrG67Zym+u05mcpXrYXsspq0RuYfiUeM2fxqhbe1+WU3l8L7cp5z34dAmwudAJy6P8AvVbaH/g0z2P7R5wwq4rQg0qPG/4mnSp0wqhVFgNAI+39p9/6SmYiYdCYmZiBx8P/ACekaqflrIHHmN/+c6eMrilSeofyqTKHTuHYqlemL1KLZrc14iU8dj1xgpUKJJ2hDVP7KjUg+P8ArjOe/Hcejx89X/f+P6Xvs9QKYVL73u5+f/i06ciigAAbgLCSm5NTTjll5ZWkRErJIvuPlJSL7j5QJREQK2JxRR0pquZ2BIBYKLC19fmJFMepqLSYFKjKTlJBIsfA/OYx9EvlBopVXkTZgeBEq08DVAQE76dRCc1ygYgrqdWsBaBfTF0mzWqKcoubEaDn5TNLE03JCOrEbwCDac2phXFFy6kFKLqDnBGo3AAbtOPhLVCk7VabsioEpldDfNfL+gtAstiaYYIXUMeBOuu6ajj6ai9Rlp6tozL+UkE6eU018PU22amCt2Us2YZWAtfMpG+263hrNVXDVcipkDJndnGYC4LkqPLXX6QL74qmpALqCdwJGt90mtQEkAglTY24G19fqJzq2CcvV0JWqBcBwLdkAg6btOHOdCnfUEWAOhvcsLDUwNkqYnHrSqU0YGz37XBdQBfzJAluVMRhdpVUsAaezdGB45iv7GBP72oNQMcopkAkkW1AP+cl96p5M+dcu699L8vOc0dHVgHu2YiqrIb2LKq21PxePhNj4FyA4zBhUzkFxcjKV32sDr+kC82LphA5dchNgbixPLzihiBUVmXcCRe9724iUlwjqyVAt2DsWVnBOoAuDawOn6mWcJSZUcMACzs1gbjUwFPpCmUpszKhdQwDEX1mw4qmGKl1DAXIuLgAXN/qJyqvR9Y0DT33w4pizgANlIObmNR/4ljEYUhMSTlGZlYE7iFC6N4XUiBcp4ukwJWopAFybjQczJ0a6VBdGDDdoZyTfFGqUyjsU9VYMCVctYsBb+u+X8HRYMzsGBIA7TAkgX5DxMCNLpKmzVdVCUzlLFhv8uXD5GbjjKQUOaiZToDcWP8AqxlQ4NwzOACRX2gUneMgX5HeflCYNzUWoyqL1i5W97DZlR5m9jAvVayIuZ2CrzJsJA4ykFDGogVtxzCxtvmnpHDO5pOgVjTa+VjYG4tv5iVKHRrh6bMFttXqMoNwt1sAOes3JNM23bonGUggqGouQ7muLTargjMCCpF7g6TinouqMrLa61HOUMBo24g2IBl2lgSMK1LVSwb817E+NhFk+Ulo/StPNlQh+wzXDC3Z4E8N8308WhygsoZgDlzAnUX+fGcwYCsxF6aJag1PstvJtbhN9Ho5u3msC1FUDbyCFIMtmJLkvUsVTfNkqK2XfYg2mir0rQVC20VgCB2SCbmUKfRNQoyt2TsiitnBGvgANNJtr4SrUoshpU0YZMtjvynXhoI8cd9m8l1MYpNS5UIgBzZlsQRe/hJjGUsofaJlJtfMLX5TnV+j6jmo2VQS1NwpNwco1UyLdHVHYuyouasjFAbgKoIPmTHjj8m661GulQZkYMN1wbzZKeCwzU6lckAK7grbllA/rLkxfw1CIiRSIiAiIgImmtiAjUlIJNRygtwIRm1+SmRqY6kjMrVFUqCTc7gBc/pr5QLESr/EaF1XardrWF99zZfqd3ObKOKp1CQjhiN4B/1pA3SOUXvYX8pVbpOiCozg5nyCwJ1sT9NDrJfxGhZjtVspAJvzNh53OnnAtRNAxlLZ7TOuS9s1+N7W876W5zXU6SoqCzOAgAOY7rEE/Lcd8C3E0LjKRfIHUvyv4Xt521tym+AiUsT0iErCiEZ3K5rAqNL20zEZj4DdpzF8v0rh1JBrICL313WNj9Dv5QLchToIhJVFUnfYAX85oq9IUlzDMCyi5Ub94B+hIvJLjU2e0Y5VzFdd5IYrpbyMCxMymvSdElxnHYIB3/mFxbnpykv4jQuq7VLsARrvDaL9SDbnAtRNFTF01bIWGe18vHjbyvY/Sa06SomwLhSUz2J3LYEm+6wBGt4FuRfcfKQoV0qC6MGANjbgeR5cJN9x8oEoiICIiAiIgIiICIiAkDUUMFLAMQSBfU232k5zOkMNtcRSAOVhTdkb4WDJY/8AjiLwOiHBJAIJG8cvOSnB+81LVmy5G2qLU1ICjILkNY2F7a23GTavUFMWdTTNWxYVWOVcp0NTLcdq2vja8DtyKsDexBsbG3OcgVmy0xUq2pF2GdKhO4aKXsON9fAC8tdHn+VUKsSM72Y6/PxgX4nDpYhtm6ioWbsdtKmcasATqOyd+m6bCGU1SKlT+XWQKCxIs2S4PP8AEd+6B1wJBKyt+FgdL6Hhz8py6eJY10IY61WQoXJNgG3paw1AIPlvvM9Ejtp//Ov+JoHT2yZ8mYZ7Xy31t5TZOM10fEHMyqcQodrnsrs0ufDXS/AeUbViQiVHNI1lUPe5IKMWGbiLga+PhA7MwWA3m05fTtZ6dKlldkQ1AtWourKljrfhrbWcTE1GekrNWqGhTxahKp35basTbXKbgGZuWnbD0vKb29bTqqxYKwJU2axvY8j46iSnlqmdPvNanVqLlxagAWysCKYJOmuh/ST++Yg4pl2gVxXyhGcgFL8Ey63H5r75PJfo/FenkKlVUALMFBIAubXJ0A85zOg87ipUqVHb+Y6hTbKAHNrTjYjEF2tUrVNqMWo2NuyEFQZSNOVje+sty4TH0t5Wb6ero10qAlGDAEqbG9iN485snmkqVXdKYqvTD4murFLA2F7cP1kExmIOKKmoFcV8oRnIBS/BMutxrmvvk8j6P5enms4hMyrnXM4JUXF2tvtznAwdY1WdauJrLiCXBpDQAC9rCx4WN+MrdGV3WlhNkxdhRq9ki+Vwq2XduB4R5L9H8vWTM8nh8dUt/Lr1KpOHdq2Yf8NwultOyb6Wl7o6pVXFUVarUdauGzsHtYNcbtNN8sy2mXo2e7vRETTiREQERECtjMKahplXyNTfODa4/Cy6jyYyliehdqXL1Ccwa5y69qmUNtd2pIHOdaIHLxOCqGt2NKbVKbvcjehHz3KB+029HdGLhwoBzBEyJcdoLpoTfXcOW6X4gc2n0VlNxUtZwwAWy/mB0vvIY6i24aTS/Q7LTVabi6tTykjUKlRWN9ddBwtunYiBS/h/8lqZYMWfOxZbgm993AfO/jeaW6JOUKKzflzZhmzBb2Bub2uRx4DfrOnECjS6OC1c+a4zF7EbmIsSDfQb+F9d8vRECh0l0ccQCpeyEWIyKSP7SHereOu4SNTolWDDO2qVk3D/AKrBj9LToxA5jdDguzGodc3DXtMG1N9bZbDkJuqYAGlswR+MvdlvqWLcCCN+8EGXYgcs9EbjtWJUqwLC5zBShJsRe4P14zA6KbOwzhaRWmCAouxVmY+VyRz+W+dWIFLEYDPVFTNlsLGw7RGuhN9RruIPylc9D3DK1UlTTWmOyLqFAtY+YudNfpOrECvhMNsw1yCzG5IBF9AOJPLnNz7j5SUi+4+UCUREBERAREQEREBERATEzEBMTMQMWmYiBiZiIGJmIgYiZiBiLTMQExaZiBiJmIGItMxAxaLTMQMWiZiAiIgIiICIiAiIgIiICIiAiIgIiICIiAiIgIiICIiAkX3HykpF9x8oEoiIFTEYhxUSnTVWLKzXZiALEDgDzkaXSKFAX7LZmXKLtqps1rDUeMzisAtWqjOqsiqwseZK2P6GRfCtTdXoKlgmTISVAF7gggHx4QNz42koUlxZhmFrm456cNd8l97p5lUOCzAEAa3B3Hy8ZTo4OrRymnkclMrBiVAOYtdbA6XY6eWs2YHBGkwuQQKSpy1BYnTgNYFiviqdMgO1iRe1iTYbzpw8ZF8bSVspcX08hfdc7hfxmutSqLVNSmEbMoUhmK2sSQQQDffummtg6pFamMmSsbsxJDLcAGwtru0Nx+kC0cbSDZM4zZsp36E7gTuBkKvSCKwUEM2cId9rk667rjlIHBtlqC47VZXG/cCv69kzWuEqi1OybMVdoGzHMRnzWy23677wNq9IrnVCO0wc6XI7LW32/wDUn9/phVLsBmQNpcgA8SbbvE2mhcFUVkIym21DakWDtmBGmu7dI0sHWpKAmzbNSVGzEjKVFrjQ5hru0/WBaq46khIZwCACd+gO4nkPGGxiqWzkLZ8o1uSct7Wtv8JW/hzCnWQMO3RWmpPgrC5+om1sGxqB7i22D/LZ5freBs+/UsobPoSVGhuSN4tvvoZto11qLmRgy3IuOY0M5+IptRZal1vtH0bMBZrbyAbHTlN/RatsiWFi1R23EaFiRvgb3xNNVLF1sBc63k2qAKWGotfTW4twnPfocWOWowa2hK0iL8L9mXKGHFKmEQ7hoTrrzPz4CBWw2Od02mRChQsCtTMRpex0/pNo6QphVLsFLKGI1OUHmeA8TKv3Co1TOUpUzlYE0ySalxbtaCwvrxmRgaqI6JkIqIFYsSMpCBSQLdoWG7SBeOKpjewHbCf9xtYeeok0qK2axvlNj4H/AEZz6nRhLHtDIU057QLlDfS30lmhhSKBpue0wbOV5te9vrAyuPpEEhxYC9zcC3ME7x4iZGOpZWbOAFIDXuLX3XB53lc4es9LZvs1y5cpUkhipBFxYWGm65mHwlSoWd8isdmAqksLI+Y3NhqdeEC1TxlNjYNrmy2IIN7XtY+GsPjKY3trmy2AJNwLnQb5or4Nm2pBAYsrITfRlAtfw0t5GaW6OdRSKnMyqwcZ2TMWIJII8Rut/SBd++U7oM4JcXW2tx4SKY6kzBQ4JYkLv1te9jx3Ga8PgijKdAMjAgMSbs2Y6nfxlCgrOcPR0K0rgsuYG2zZQSCBlOo0uYHUTHUjezjQE8bEDeRzHlFPG0mvZxoua+4ZedzvHjKNPo18mRrHKhVW2jm5KlQcp0Gh8ZtxHRzVAozAAUWpk79TksbcR2YFhcdSKls+gte4I37t++/CbaNZXBKm9jY7wQeRB3SnXoVqqDOERkYMoV21te9zYEb+F5uwVApmLCzMde2z7hpqYFqIiAiIgIiICIiAiIgIiICIiAiIgIiICIiAiIgIiICIiAkX3HykpF9x8oGYlDbN8RjbN8RgX4lDbN8RjbN8RgX4lDbN8RjbPzMC/EobZ/iMbZviMC/EobZviMbZviMC/EobZ/iMbZviMC/EobZviMbZviMC/EobZviMbZviMC/EobZviMbZviMC/EobZviMbZviMC/EobZviMbZviMC/EobZviMbZviMC/EobZviMbZviMC/Mzn7ZviMbZviMC/EobZviM0YrpA0wLtqd1zYDdqTy1H1gdaJ5zpHpHEUk0zVCdG2a5bBtzAsTcgA3HjfSdKniKhF2Njc7jcW4a25QOjEobZviMbZviMC/EobZviMbZviMC/EobZviMbZviMC/EobZviMbZviMC/EobZviMbZviMC/EobZviMbZviMC/EobZ/iMbZviMC/EobZviMbZviMC/EobZ/iMbZviMC/EobZviMbZ/iMC/EobZviMbZviMC/EobZviMbZviMC/EobZviMi+Ly2zVALmwuQLnwgdGYfcfKc9MXmvlqA2NjYg2PjMvWax7R3QIzjYqni1q1TSvlZ7rYod1NALhtyXD3trynodmvKNmvKB51RjmdwSUQtoRsiV/4mg01GlPeL6waeMa+YmxsMnYAHZpm9xrfNtBvnotmvKNmvKB556OKq4avTqFg7OAjAopy3F7Zd1hfeTKY6Px2dmZzmYWuGAC2SqoKjgSdmT4t4T1uzXlGzXlA8vToYxS7AOSbWJanmHZogm2q37NTS39ZqrVsa4aixbaNRYZVCBQdk2pO8Nntre26et2a8o2Y5QPPA47NTuN189tmVOrbhvsBltrfXWWMLSrvhwKrvTqB7lhkzEA8gLC/KdnZryjZrygef6XwtZ6jFFqNemBSKVMgp1Lm7MLi4/Dz/AAkW110t98ctZqmVagvYUlvlqr+Djqoa+bfp4z02zXlGzHKB5vY40KoVyllIsBSOuVze5B/NkHzPykVxiv2Q2W9RiAaWUk/gGuo14jkNJ6LZryjZrygeYNHGtkLFzwIJpgW2tMgta2uXNu5eOs1XHtoWKi+ptRuDle+XQjJm2dr9rfeek2a8o2a8oFSiWyLn/FlGbztr+snLGzXlGzXlArxLGzXlGzXlArxLGzXlGzXlArxLGzXlGzXlArxLGzXlGzXlArxLGzXlGzXlArzldJ4tUqUxlZgzCm1kuF1Da30sRfXhO7sxykHwyMQSL2BG82sd+nGBxLZWXL/MY3/lu4ZqZs1rAbh2jc8vlOnSTKire+VQL87C0tLQUblA8pnZDlArxLGyHKNkOUCvEsbIco2Q5QK8SxshyjZDlArxLGyHKNkOUCvEsbIco2Q5QK80Y6ialGogJVmUgEGxB4H6y/shyjZDlA8mmGx4Je5DWzgZlNmdlzqL6dlVNr6dqbq9PHurqToaVhYILtk5g3Vs3LS09NshyjZDlA4WJw+Iq4IqzMK+/ssq3IOgBH5eXHnxnQ2R2xfaNlK2yaZQb3zc7y7shyjZDlA8tQwuKpi9NKinKQ5aqrZmLizKGLAWXNy32lro+riTWCVTotMPU0X8RFsmgtvBbTmOE7+yHKNkOUDhdH4bELWxBqtpUVcrKxIB7X4QRpYFfpx1k8fgGfDLTzPUqKV7WYox7QzE5SOF52tkOUbIcoHmqtLGWyLnVKb6FTTuyisMoBOptTve++2t5OkMcWUMSFzjObUt2V7hbfkvswL9rUz0WyHKNkOUDzKU8aSqEEUwqfmTeDTOhGveXvfdOk9B/vdOoCxp7J1YX7IN0y6cz2tZ1NkOUbIcoFaV8ZRaouVba7ySQR+48OM6OyHKNkvKBzqFFhUd2y9oAAAk7iee7fum99x8pa2S8pF6QsdOEDbERAREQEREBERAREQEREBERAREQEREBERAREQEREBERAREQEREBERAREQEREBERAREQEREBERAREQEREBERAREQEREBERAREQEi+4+UlIvuPlAlE+adYWM7vD+l/dHWFjO7w/pf3QPpcT5p1hYzu8P6X90dYWM7vD+l/dA+lxPmnWFjO7w/pf3R1hYzu8P6X90D6XE+adYWM7vD+l/dHWFjO7w/pf3QPpcT5p1hYzu8P6X90dYWM7vD+l/dA+lxPmnWFjO7w/pf3R1hYzu8P6X90D6XE+adYWM7vD+l/dHWFjO7w/pf3QPpcT5p1hYzu8P6X90dYWM7vD+l/dA+lxPmnWFjO7w/pf3R1hYzu8P6X90D6XE+adYWM7vD+l/dHWFjO7w/pf3QPpcT5p1hYzu8P6X90dYWM7vD+l/dA+lxPmnWFjO7w/pf3R1hYzu8P6X90D6XE+adYWM7vD+l/dHWFjO7w/pf3QPpcT5p1hYzu8P6X90dYWM7vD+l/dA+lxPmnWFjO7w/pf3R1hYzu8P6X90D6XE+adYWM7vD+l/dHWFjO7w/pf3QPpcT5p1hYzu8P6X90dYWM7vD+l/dA+lxPmnWFjO7w/pf3R1hYzu8P6X90D6XE+adYWM7vD+l/dHWFjO7w/pf3QPpcT5p1hYzu8P6X90dYWM7vD+l/dA+lxPmnWFjO7w/pf3R1hYzu8P6X90D6XE+adYWM7vD+l/dHWFjO7w/pf3QPpcT5p1hYzu8P6X90dYWM7vD+l/dA+lxPmnWFjO7w/pf3R1hYzu8P6X90D6XE+adYWM7vD+l/dHWFjO7w/pf3QPpcT5p1hYzu8P6X90dYWM7vD+l/dA+lxPmnWFjO7w/pf3R1hYzu8P6X90D6XE+adYWM7vD+l/dHWFjO7w/pf3QPpcT5p1hYzu8P6X90dYWM7vD+l/dA+lyL7j5T5t1hYzu8P6X90H/aDjO7w/pf3QPJxEQEREBERAREQEREBERAREQEREBERAREQEREBERAREQEREBERAREQEREBERAREQEREBERAREQEREBERAREQEREBERAREQEREBERAREQEREBERAREQEREBERAREQEREBERAREQEREBERAREQEREBERAREQEREBERAREQEREBERAREQEREBERAREQEREBERAREQEREBERAREQEREBERAREQEREBERAREQEREBERAREQEREBERAREQEREBERAREQEREBERAREQEREBERAREQEREBERAREQEREBERAREQEREBERA//2Q==\n"
              }
            ],
            "_view_module": "@jupyter-widgets/output",
            "_model_module_version": "1.0.0",
            "_view_count": null,
            "_view_module_version": "1.0.0",
            "layout": "IPY_MODEL_41b53bd0c981429889e35980719091dd",
            "_model_module": "@jupyter-widgets/output"
          }
        },
        "3c2c8f5ea53b4518aee318c971291615": {
          "model_module": "@jupyter-widgets/output",
          "model_name": "OutputModel",
          "state": {
            "_view_name": "OutputView",
            "msg_id": "",
            "_dom_classes": [],
            "_model_name": "OutputModel",
            "outputs": [
              {
                "output_type": "stream",
                "metadata": {
                  "tags": []
                },
                "text": "Video available at https://www.bilibili.com/video/\n",
                "stream": "stdout"
              },
              {
                "output_type": "display_data",
                "metadata": {
                  "tags": []
                },
                "text/html": "\n        <iframe\n            width=\"854\"\n            height=\"480\"\n            src=\"https://player.bilibili.com/player.html?bvid=&page=1?fs=1\"\n            frameborder=\"0\"\n            allowfullscreen\n        ></iframe>\n        ",
                "text/plain": "<__main__.BiliVideo at 0x7fee949b2b10>"
              }
            ],
            "_view_module": "@jupyter-widgets/output",
            "_model_module_version": "1.0.0",
            "_view_count": null,
            "_view_module_version": "1.0.0",
            "layout": "IPY_MODEL_1c094cea7fe94bb68fd8a89f671c6480",
            "_model_module": "@jupyter-widgets/output"
          }
        },
        "41b53bd0c981429889e35980719091dd": {
          "model_module": "@jupyter-widgets/base",
          "model_name": "LayoutModel",
          "state": {
            "_view_name": "LayoutView",
            "grid_template_rows": null,
            "right": null,
            "justify_content": null,
            "_view_module": "@jupyter-widgets/base",
            "overflow": null,
            "_model_module_version": "1.2.0",
            "_view_count": null,
            "flex_flow": null,
            "width": null,
            "min_width": null,
            "border": null,
            "align_items": null,
            "bottom": null,
            "_model_module": "@jupyter-widgets/base",
            "top": null,
            "grid_column": null,
            "overflow_y": null,
            "overflow_x": null,
            "grid_auto_flow": null,
            "grid_area": null,
            "grid_template_columns": null,
            "flex": null,
            "_model_name": "LayoutModel",
            "justify_items": null,
            "grid_row": null,
            "max_height": null,
            "align_content": null,
            "visibility": null,
            "align_self": null,
            "height": null,
            "min_height": null,
            "padding": null,
            "grid_auto_rows": null,
            "grid_gap": null,
            "max_width": null,
            "order": null,
            "_view_module_version": "1.2.0",
            "grid_template_areas": null,
            "object_position": null,
            "object_fit": null,
            "grid_auto_columns": null,
            "margin": null,
            "display": null,
            "left": null
          }
        },
        "1c094cea7fe94bb68fd8a89f671c6480": {
          "model_module": "@jupyter-widgets/base",
          "model_name": "LayoutModel",
          "state": {
            "_view_name": "LayoutView",
            "grid_template_rows": null,
            "right": null,
            "justify_content": null,
            "_view_module": "@jupyter-widgets/base",
            "overflow": null,
            "_model_module_version": "1.2.0",
            "_view_count": null,
            "flex_flow": null,
            "width": null,
            "min_width": null,
            "border": null,
            "align_items": null,
            "bottom": null,
            "_model_module": "@jupyter-widgets/base",
            "top": null,
            "grid_column": null,
            "overflow_y": null,
            "overflow_x": null,
            "grid_auto_flow": null,
            "grid_area": null,
            "grid_template_columns": null,
            "flex": null,
            "_model_name": "LayoutModel",
            "justify_items": null,
            "grid_row": null,
            "max_height": null,
            "align_content": null,
            "visibility": null,
            "align_self": null,
            "height": null,
            "min_height": null,
            "padding": null,
            "grid_auto_rows": null,
            "grid_gap": null,
            "max_width": null,
            "order": null,
            "_view_module_version": "1.2.0",
            "grid_template_areas": null,
            "object_position": null,
            "object_fit": null,
            "grid_auto_columns": null,
            "margin": null,
            "display": null,
            "left": null
          }
        },
        "281035a3dca941a198cfb9d571546508": {
          "model_module": "@jupyter-widgets/controls",
          "model_name": "VBoxModel",
          "state": {
            "_view_name": "VBoxView",
            "_dom_classes": [
              "widget-interact"
            ],
            "_model_name": "VBoxModel",
            "_view_module": "@jupyter-widgets/controls",
            "_model_module_version": "1.5.0",
            "_view_count": null,
            "_view_module_version": "1.5.0",
            "box_style": "",
            "layout": "IPY_MODEL_51ae6354ceea4d02b2bb17f5baccbc13",
            "_model_module": "@jupyter-widgets/controls",
            "children": [
              "IPY_MODEL_6e43aca56c9e469d9c25ed7de742705a",
              "IPY_MODEL_7ed47ad2611447f7a736adc423340682",
              "IPY_MODEL_93a57498325f4566af90c3e82b9186c7",
              "IPY_MODEL_836427fc44814e53a6eb3064ef7f043a",
              "IPY_MODEL_decb5c52e66c4fa4a4ae2cc02bf1edf9"
            ]
          }
        },
        "51ae6354ceea4d02b2bb17f5baccbc13": {
          "model_module": "@jupyter-widgets/base",
          "model_name": "LayoutModel",
          "state": {
            "_view_name": "LayoutView",
            "grid_template_rows": null,
            "right": null,
            "justify_content": null,
            "_view_module": "@jupyter-widgets/base",
            "overflow": null,
            "_model_module_version": "1.2.0",
            "_view_count": null,
            "flex_flow": null,
            "width": null,
            "min_width": null,
            "border": null,
            "align_items": null,
            "bottom": null,
            "_model_module": "@jupyter-widgets/base",
            "top": null,
            "grid_column": null,
            "overflow_y": null,
            "overflow_x": null,
            "grid_auto_flow": null,
            "grid_area": null,
            "grid_template_columns": null,
            "flex": null,
            "_model_name": "LayoutModel",
            "justify_items": null,
            "grid_row": null,
            "max_height": null,
            "align_content": null,
            "visibility": null,
            "align_self": null,
            "height": null,
            "min_height": null,
            "padding": null,
            "grid_auto_rows": null,
            "grid_gap": null,
            "max_width": null,
            "order": null,
            "_view_module_version": "1.2.0",
            "grid_template_areas": null,
            "object_position": null,
            "object_fit": null,
            "grid_auto_columns": null,
            "margin": null,
            "display": null,
            "left": null
          }
        },
        "6e43aca56c9e469d9c25ed7de742705a": {
          "model_module": "@jupyter-widgets/controls",
          "model_name": "IntSliderModel",
          "state": {
            "_view_name": "IntSliderView",
            "style": "IPY_MODEL_557499df115747feb3725cc7f71694ed",
            "_dom_classes": [],
            "description": "max_steps",
            "step": 5,
            "_model_name": "IntSliderModel",
            "orientation": "horizontal",
            "max": 500,
            "_view_module": "@jupyter-widgets/controls",
            "_model_module_version": "1.5.0",
            "value": 300,
            "_view_count": null,
            "disabled": false,
            "_view_module_version": "1.5.0",
            "min": 50,
            "continuous_update": true,
            "readout_format": "d",
            "description_tooltip": null,
            "readout": true,
            "_model_module": "@jupyter-widgets/controls",
            "layout": "IPY_MODEL_1da841ac83c14b1f9e1864251ae36c19"
          }
        },
        "7ed47ad2611447f7a736adc423340682": {
          "model_module": "@jupyter-widgets/controls",
          "model_name": "FloatLogSliderModel",
          "state": {
            "_view_name": "FloatLogSliderView",
            "orientation": "horizontal",
            "_view_module": "@jupyter-widgets/controls",
            "_model_module_version": "1.5.0",
            "_view_count": null,
            "disabled": false,
            "readout_format": ".3g",
            "_model_module": "@jupyter-widgets/controls",
            "style": "IPY_MODEL_16c965241de7402bb34f9d2252b91b64",
            "layout": "IPY_MODEL_bdc8c76be86b4e389cc72842e5081abf",
            "min": -3,
            "continuous_update": true,
            "description_tooltip": null,
            "_dom_classes": [],
            "description": "lr",
            "_model_name": "FloatLogSliderModel",
            "max": 0.7,
            "readout": true,
            "step": 0.1,
            "base": 10,
            "value": 0.1,
            "_view_module_version": "1.5.0"
          }
        },
        "93a57498325f4566af90c3e82b9186c7": {
          "model_module": "@jupyter-widgets/controls",
          "model_name": "FloatSliderModel",
          "state": {
            "_view_name": "FloatSliderView",
            "style": "IPY_MODEL_d7472fe545844325a24ba24f054d19a3",
            "_dom_classes": [],
            "description": "beta",
            "step": 0.01,
            "_model_name": "FloatSliderModel",
            "orientation": "horizontal",
            "max": 1,
            "_view_module": "@jupyter-widgets/controls",
            "_model_module_version": "1.5.0",
            "value": 0.9,
            "_view_count": null,
            "disabled": false,
            "_view_module_version": "1.5.0",
            "min": 0,
            "continuous_update": true,
            "readout_format": ".2f",
            "description_tooltip": null,
            "readout": true,
            "_model_module": "@jupyter-widgets/controls",
            "layout": "IPY_MODEL_a1270a45794646cc854dad466c46323b"
          }
        },
        "836427fc44814e53a6eb3064ef7f043a": {
          "model_module": "@jupyter-widgets/controls",
          "model_name": "ButtonModel",
          "state": {
            "_view_name": "ButtonView",
            "style": "IPY_MODEL_e105774347b74ad6ac948bc67fc22ebd",
            "_dom_classes": [],
            "description": "Run Interact",
            "_model_name": "ButtonModel",
            "button_style": "",
            "_view_module": "@jupyter-widgets/controls",
            "_model_module_version": "1.5.0",
            "tooltip": "",
            "_view_count": null,
            "disabled": false,
            "_view_module_version": "1.5.0",
            "layout": "IPY_MODEL_01bcf272b20740958fa431c0b160bc32",
            "_model_module": "@jupyter-widgets/controls",
            "icon": ""
          }
        },
        "decb5c52e66c4fa4a4ae2cc02bf1edf9": {
          "model_module": "@jupyter-widgets/output",
          "model_name": "OutputModel",
          "state": {
            "_view_name": "OutputView",
            "msg_id": "",
            "_dom_classes": [],
            "_model_name": "OutputModel",
            "outputs": [],
            "_view_module": "@jupyter-widgets/output",
            "_model_module_version": "1.0.0",
            "_view_count": null,
            "_view_module_version": "1.0.0",
            "layout": "IPY_MODEL_30c4d4e1cdf144cab78b431d855b98de",
            "_model_module": "@jupyter-widgets/output"
          }
        },
        "557499df115747feb3725cc7f71694ed": {
          "model_module": "@jupyter-widgets/controls",
          "model_name": "SliderStyleModel",
          "state": {
            "_view_name": "StyleView",
            "handle_color": null,
            "_model_name": "SliderStyleModel",
            "description_width": "",
            "_view_module": "@jupyter-widgets/base",
            "_model_module_version": "1.5.0",
            "_view_count": null,
            "_view_module_version": "1.2.0",
            "_model_module": "@jupyter-widgets/controls"
          }
        },
        "1da841ac83c14b1f9e1864251ae36c19": {
          "model_module": "@jupyter-widgets/base",
          "model_name": "LayoutModel",
          "state": {
            "_view_name": "LayoutView",
            "grid_template_rows": null,
            "right": null,
            "justify_content": null,
            "_view_module": "@jupyter-widgets/base",
            "overflow": null,
            "_model_module_version": "1.2.0",
            "_view_count": null,
            "flex_flow": null,
            "width": null,
            "min_width": null,
            "border": null,
            "align_items": null,
            "bottom": null,
            "_model_module": "@jupyter-widgets/base",
            "top": null,
            "grid_column": null,
            "overflow_y": null,
            "overflow_x": null,
            "grid_auto_flow": null,
            "grid_area": null,
            "grid_template_columns": null,
            "flex": null,
            "_model_name": "LayoutModel",
            "justify_items": null,
            "grid_row": null,
            "max_height": null,
            "align_content": null,
            "visibility": null,
            "align_self": null,
            "height": null,
            "min_height": null,
            "padding": null,
            "grid_auto_rows": null,
            "grid_gap": null,
            "max_width": null,
            "order": null,
            "_view_module_version": "1.2.0",
            "grid_template_areas": null,
            "object_position": null,
            "object_fit": null,
            "grid_auto_columns": null,
            "margin": null,
            "display": null,
            "left": null
          }
        },
        "16c965241de7402bb34f9d2252b91b64": {
          "model_module": "@jupyter-widgets/controls",
          "model_name": "SliderStyleModel",
          "state": {
            "_view_name": "StyleView",
            "handle_color": null,
            "_model_name": "SliderStyleModel",
            "description_width": "",
            "_view_module": "@jupyter-widgets/base",
            "_model_module_version": "1.5.0",
            "_view_count": null,
            "_view_module_version": "1.2.0",
            "_model_module": "@jupyter-widgets/controls"
          }
        },
        "bdc8c76be86b4e389cc72842e5081abf": {
          "model_module": "@jupyter-widgets/base",
          "model_name": "LayoutModel",
          "state": {
            "_view_name": "LayoutView",
            "grid_template_rows": null,
            "right": null,
            "justify_content": null,
            "_view_module": "@jupyter-widgets/base",
            "overflow": null,
            "_model_module_version": "1.2.0",
            "_view_count": null,
            "flex_flow": null,
            "width": null,
            "min_width": null,
            "border": null,
            "align_items": null,
            "bottom": null,
            "_model_module": "@jupyter-widgets/base",
            "top": null,
            "grid_column": null,
            "overflow_y": null,
            "overflow_x": null,
            "grid_auto_flow": null,
            "grid_area": null,
            "grid_template_columns": null,
            "flex": null,
            "_model_name": "LayoutModel",
            "justify_items": null,
            "grid_row": null,
            "max_height": null,
            "align_content": null,
            "visibility": null,
            "align_self": null,
            "height": null,
            "min_height": null,
            "padding": null,
            "grid_auto_rows": null,
            "grid_gap": null,
            "max_width": null,
            "order": null,
            "_view_module_version": "1.2.0",
            "grid_template_areas": null,
            "object_position": null,
            "object_fit": null,
            "grid_auto_columns": null,
            "margin": null,
            "display": null,
            "left": null
          }
        },
        "d7472fe545844325a24ba24f054d19a3": {
          "model_module": "@jupyter-widgets/controls",
          "model_name": "SliderStyleModel",
          "state": {
            "_view_name": "StyleView",
            "handle_color": null,
            "_model_name": "SliderStyleModel",
            "description_width": "",
            "_view_module": "@jupyter-widgets/base",
            "_model_module_version": "1.5.0",
            "_view_count": null,
            "_view_module_version": "1.2.0",
            "_model_module": "@jupyter-widgets/controls"
          }
        },
        "a1270a45794646cc854dad466c46323b": {
          "model_module": "@jupyter-widgets/base",
          "model_name": "LayoutModel",
          "state": {
            "_view_name": "LayoutView",
            "grid_template_rows": null,
            "right": null,
            "justify_content": null,
            "_view_module": "@jupyter-widgets/base",
            "overflow": null,
            "_model_module_version": "1.2.0",
            "_view_count": null,
            "flex_flow": null,
            "width": null,
            "min_width": null,
            "border": null,
            "align_items": null,
            "bottom": null,
            "_model_module": "@jupyter-widgets/base",
            "top": null,
            "grid_column": null,
            "overflow_y": null,
            "overflow_x": null,
            "grid_auto_flow": null,
            "grid_area": null,
            "grid_template_columns": null,
            "flex": null,
            "_model_name": "LayoutModel",
            "justify_items": null,
            "grid_row": null,
            "max_height": null,
            "align_content": null,
            "visibility": null,
            "align_self": null,
            "height": null,
            "min_height": null,
            "padding": null,
            "grid_auto_rows": null,
            "grid_gap": null,
            "max_width": null,
            "order": null,
            "_view_module_version": "1.2.0",
            "grid_template_areas": null,
            "object_position": null,
            "object_fit": null,
            "grid_auto_columns": null,
            "margin": null,
            "display": null,
            "left": null
          }
        },
        "e105774347b74ad6ac948bc67fc22ebd": {
          "model_module": "@jupyter-widgets/controls",
          "model_name": "ButtonStyleModel",
          "state": {
            "_view_name": "StyleView",
            "_model_name": "ButtonStyleModel",
            "_view_module": "@jupyter-widgets/base",
            "_model_module_version": "1.5.0",
            "_view_count": null,
            "button_color": null,
            "font_weight": "",
            "_view_module_version": "1.2.0",
            "_model_module": "@jupyter-widgets/controls"
          }
        },
        "01bcf272b20740958fa431c0b160bc32": {
          "model_module": "@jupyter-widgets/base",
          "model_name": "LayoutModel",
          "state": {
            "_view_name": "LayoutView",
            "grid_template_rows": null,
            "right": null,
            "justify_content": null,
            "_view_module": "@jupyter-widgets/base",
            "overflow": null,
            "_model_module_version": "1.2.0",
            "_view_count": null,
            "flex_flow": null,
            "width": null,
            "min_width": null,
            "border": null,
            "align_items": null,
            "bottom": null,
            "_model_module": "@jupyter-widgets/base",
            "top": null,
            "grid_column": null,
            "overflow_y": null,
            "overflow_x": null,
            "grid_auto_flow": null,
            "grid_area": null,
            "grid_template_columns": null,
            "flex": null,
            "_model_name": "LayoutModel",
            "justify_items": null,
            "grid_row": null,
            "max_height": null,
            "align_content": null,
            "visibility": null,
            "align_self": null,
            "height": null,
            "min_height": null,
            "padding": null,
            "grid_auto_rows": null,
            "grid_gap": null,
            "max_width": null,
            "order": null,
            "_view_module_version": "1.2.0",
            "grid_template_areas": null,
            "object_position": null,
            "object_fit": null,
            "grid_auto_columns": null,
            "margin": null,
            "display": null,
            "left": null
          }
        },
        "30c4d4e1cdf144cab78b431d855b98de": {
          "model_module": "@jupyter-widgets/base",
          "model_name": "LayoutModel",
          "state": {
            "_view_name": "LayoutView",
            "grid_template_rows": null,
            "right": null,
            "justify_content": null,
            "_view_module": "@jupyter-widgets/base",
            "overflow": null,
            "_model_module_version": "1.2.0",
            "_view_count": null,
            "flex_flow": null,
            "width": null,
            "min_width": null,
            "border": null,
            "align_items": null,
            "bottom": null,
            "_model_module": "@jupyter-widgets/base",
            "top": null,
            "grid_column": null,
            "overflow_y": null,
            "overflow_x": null,
            "grid_auto_flow": null,
            "grid_area": null,
            "grid_template_columns": null,
            "flex": null,
            "_model_name": "LayoutModel",
            "justify_items": null,
            "grid_row": null,
            "max_height": null,
            "align_content": null,
            "visibility": null,
            "align_self": null,
            "height": null,
            "min_height": null,
            "padding": null,
            "grid_auto_rows": null,
            "grid_gap": null,
            "max_width": null,
            "order": null,
            "_view_module_version": "1.2.0",
            "grid_template_areas": null,
            "object_position": null,
            "object_fit": null,
            "grid_auto_columns": null,
            "margin": null,
            "display": null,
            "left": null
          }
        },
        "f9296a5889be4a118fa747e991963c8b": {
          "model_module": "@jupyter-widgets/controls",
          "model_name": "TabModel",
          "state": {
            "_view_name": "TabView",
            "_dom_classes": [],
            "_titles": {
              "0": "Youtube",
              "1": "Bilibili"
            },
            "_model_name": "TabModel",
            "_view_module": "@jupyter-widgets/controls",
            "selected_index": 0,
            "_model_module_version": "1.5.0",
            "_view_count": null,
            "_view_module_version": "1.5.0",
            "box_style": "",
            "layout": "IPY_MODEL_83121691cec54ebc99c5766f0d8bc927",
            "_model_module": "@jupyter-widgets/controls",
            "children": [
              "IPY_MODEL_7525ddd2a6b24d9ea10d83eb6233e9ea",
              "IPY_MODEL_3322b207d568417aa55203b12e5d756b"
            ]
          }
        },
        "83121691cec54ebc99c5766f0d8bc927": {
          "model_module": "@jupyter-widgets/base",
          "model_name": "LayoutModel",
          "state": {
            "_view_name": "LayoutView",
            "grid_template_rows": null,
            "right": null,
            "justify_content": null,
            "_view_module": "@jupyter-widgets/base",
            "overflow": null,
            "_model_module_version": "1.2.0",
            "_view_count": null,
            "flex_flow": null,
            "width": null,
            "min_width": null,
            "border": null,
            "align_items": null,
            "bottom": null,
            "_model_module": "@jupyter-widgets/base",
            "top": null,
            "grid_column": null,
            "overflow_y": null,
            "overflow_x": null,
            "grid_auto_flow": null,
            "grid_area": null,
            "grid_template_columns": null,
            "flex": null,
            "_model_name": "LayoutModel",
            "justify_items": null,
            "grid_row": null,
            "max_height": null,
            "align_content": null,
            "visibility": null,
            "align_self": null,
            "height": null,
            "min_height": null,
            "padding": null,
            "grid_auto_rows": null,
            "grid_gap": null,
            "max_width": null,
            "order": null,
            "_view_module_version": "1.2.0",
            "grid_template_areas": null,
            "object_position": null,
            "object_fit": null,
            "grid_auto_columns": null,
            "margin": null,
            "display": null,
            "left": null
          }
        },
        "7525ddd2a6b24d9ea10d83eb6233e9ea": {
          "model_module": "@jupyter-widgets/output",
          "model_name": "OutputModel",
          "state": {
            "_view_name": "OutputView",
            "msg_id": "",
            "_dom_classes": [],
            "_model_name": "OutputModel",
            "outputs": [
              {
                "output_type": "stream",
                "metadata": {
                  "tags": []
                },
                "text": "Video available at https://youtube.com/watch?v=7vUpUEKKl5o\n",
                "stream": "stdout"
              },
              {
                "output_type": "display_data",
                "metadata": {
                  "tags": []
                },
                "text/html": "\n        <iframe\n            width=\"854\"\n            height=\"480\"\n            src=\"https://www.youtube.com/embed/7vUpUEKKl5o?fs=1&rel=0\"\n            frameborder=\"0\"\n            allowfullscreen\n        ></iframe>\n        ",
                "text/plain": "<IPython.lib.display.YouTubeVideo at 0x7fee94982990>",
                "image/jpeg": "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\n"
              }
            ],
            "_view_module": "@jupyter-widgets/output",
            "_model_module_version": "1.0.0",
            "_view_count": null,
            "_view_module_version": "1.0.0",
            "layout": "IPY_MODEL_fc2243f22f514288a054d9652e3b3225",
            "_model_module": "@jupyter-widgets/output"
          }
        },
        "3322b207d568417aa55203b12e5d756b": {
          "model_module": "@jupyter-widgets/output",
          "model_name": "OutputModel",
          "state": {
            "_view_name": "OutputView",
            "msg_id": "",
            "_dom_classes": [],
            "_model_name": "OutputModel",
            "outputs": [
              {
                "output_type": "stream",
                "metadata": {
                  "tags": []
                },
                "text": "Video available at https://www.bilibili.com/video/\n",
                "stream": "stdout"
              },
              {
                "output_type": "display_data",
                "metadata": {
                  "tags": []
                },
                "text/html": "\n        <iframe\n            width=\"854\"\n            height=\"480\"\n            src=\"https://player.bilibili.com/player.html?bvid=&page=1?fs=1\"\n            frameborder=\"0\"\n            allowfullscreen\n        ></iframe>\n        ",
                "text/plain": "<__main__.BiliVideo at 0x7fee96ac1b10>"
              }
            ],
            "_view_module": "@jupyter-widgets/output",
            "_model_module_version": "1.0.0",
            "_view_count": null,
            "_view_module_version": "1.0.0",
            "layout": "IPY_MODEL_f144cc90df794f46b5f590fc2bdb40af",
            "_model_module": "@jupyter-widgets/output"
          }
        },
        "fc2243f22f514288a054d9652e3b3225": {
          "model_module": "@jupyter-widgets/base",
          "model_name": "LayoutModel",
          "state": {
            "_view_name": "LayoutView",
            "grid_template_rows": null,
            "right": null,
            "justify_content": null,
            "_view_module": "@jupyter-widgets/base",
            "overflow": null,
            "_model_module_version": "1.2.0",
            "_view_count": null,
            "flex_flow": null,
            "width": null,
            "min_width": null,
            "border": null,
            "align_items": null,
            "bottom": null,
            "_model_module": "@jupyter-widgets/base",
            "top": null,
            "grid_column": null,
            "overflow_y": null,
            "overflow_x": null,
            "grid_auto_flow": null,
            "grid_area": null,
            "grid_template_columns": null,
            "flex": null,
            "_model_name": "LayoutModel",
            "justify_items": null,
            "grid_row": null,
            "max_height": null,
            "align_content": null,
            "visibility": null,
            "align_self": null,
            "height": null,
            "min_height": null,
            "padding": null,
            "grid_auto_rows": null,
            "grid_gap": null,
            "max_width": null,
            "order": null,
            "_view_module_version": "1.2.0",
            "grid_template_areas": null,
            "object_position": null,
            "object_fit": null,
            "grid_auto_columns": null,
            "margin": null,
            "display": null,
            "left": null
          }
        },
        "f144cc90df794f46b5f590fc2bdb40af": {
          "model_module": "@jupyter-widgets/base",
          "model_name": "LayoutModel",
          "state": {
            "_view_name": "LayoutView",
            "grid_template_rows": null,
            "right": null,
            "justify_content": null,
            "_view_module": "@jupyter-widgets/base",
            "overflow": null,
            "_model_module_version": "1.2.0",
            "_view_count": null,
            "flex_flow": null,
            "width": null,
            "min_width": null,
            "border": null,
            "align_items": null,
            "bottom": null,
            "_model_module": "@jupyter-widgets/base",
            "top": null,
            "grid_column": null,
            "overflow_y": null,
            "overflow_x": null,
            "grid_auto_flow": null,
            "grid_area": null,
            "grid_template_columns": null,
            "flex": null,
            "_model_name": "LayoutModel",
            "justify_items": null,
            "grid_row": null,
            "max_height": null,
            "align_content": null,
            "visibility": null,
            "align_self": null,
            "height": null,
            "min_height": null,
            "padding": null,
            "grid_auto_rows": null,
            "grid_gap": null,
            "max_width": null,
            "order": null,
            "_view_module_version": "1.2.0",
            "grid_template_areas": null,
            "object_position": null,
            "object_fit": null,
            "grid_auto_columns": null,
            "margin": null,
            "display": null,
            "left": null
          }
        },
        "eefc723a760546e49144cdfc99917a55": {
          "model_module": "@jupyter-widgets/controls",
          "model_name": "VBoxModel",
          "state": {
            "_view_name": "VBoxView",
            "_dom_classes": [
              "widget-interact"
            ],
            "_model_name": "VBoxModel",
            "_view_module": "@jupyter-widgets/controls",
            "_model_module_version": "1.5.0",
            "_view_count": null,
            "_view_module_version": "1.5.0",
            "box_style": "",
            "layout": "IPY_MODEL_bc906e548fad4ccdb03908cc26743af2",
            "_model_module": "@jupyter-widgets/controls",
            "children": [
              "IPY_MODEL_94a517af97a641fbb7bd9f94d28af70e",
              "IPY_MODEL_1defadf3dac74564bde45df3c0da24fe",
              "IPY_MODEL_9646fdc6e6794ac88f474ec6c342016a",
              "IPY_MODEL_87f265a82f644cd2b08ffe85cf771693",
              "IPY_MODEL_603feab40107467aaa46f59c6450c793",
              "IPY_MODEL_3a8511e32d77448aa71e7187d030524d"
            ]
          }
        },
        "bc906e548fad4ccdb03908cc26743af2": {
          "model_module": "@jupyter-widgets/base",
          "model_name": "LayoutModel",
          "state": {
            "_view_name": "LayoutView",
            "grid_template_rows": null,
            "right": null,
            "justify_content": null,
            "_view_module": "@jupyter-widgets/base",
            "overflow": null,
            "_model_module_version": "1.2.0",
            "_view_count": null,
            "flex_flow": null,
            "width": null,
            "min_width": null,
            "border": null,
            "align_items": null,
            "bottom": null,
            "_model_module": "@jupyter-widgets/base",
            "top": null,
            "grid_column": null,
            "overflow_y": null,
            "overflow_x": null,
            "grid_auto_flow": null,
            "grid_area": null,
            "grid_template_columns": null,
            "flex": null,
            "_model_name": "LayoutModel",
            "justify_items": null,
            "grid_row": null,
            "max_height": null,
            "align_content": null,
            "visibility": null,
            "align_self": null,
            "height": null,
            "min_height": null,
            "padding": null,
            "grid_auto_rows": null,
            "grid_gap": null,
            "max_width": null,
            "order": null,
            "_view_module_version": "1.2.0",
            "grid_template_areas": null,
            "object_position": null,
            "object_fit": null,
            "grid_auto_columns": null,
            "margin": null,
            "display": null,
            "left": null
          }
        },
        "94a517af97a641fbb7bd9f94d28af70e": {
          "model_module": "@jupyter-widgets/controls",
          "model_name": "IntSliderModel",
          "state": {
            "_view_name": "IntSliderView",
            "style": "IPY_MODEL_6aca39d4827342f084097c0e5fcbba24",
            "_dom_classes": [],
            "description": "max_steps",
            "step": 5,
            "_model_name": "IntSliderModel",
            "orientation": "horizontal",
            "max": 500,
            "_view_module": "@jupyter-widgets/controls",
            "_model_module_version": "1.5.0",
            "value": 150,
            "_view_count": null,
            "disabled": false,
            "_view_module_version": "1.5.0",
            "min": 50,
            "continuous_update": true,
            "readout_format": "d",
            "description_tooltip": null,
            "readout": true,
            "_model_module": "@jupyter-widgets/controls",
            "layout": "IPY_MODEL_f597bd0e13d041b29d2a89e032e93d99"
          }
        },
        "1defadf3dac74564bde45df3c0da24fe": {
          "model_module": "@jupyter-widgets/controls",
          "model_name": "DropdownModel",
          "state": {
            "_options_labels": [
              "10",
              "20, 20",
              "100, 100"
            ],
            "_view_name": "DropdownView",
            "style": "IPY_MODEL_2bcdaa0ccacf4bb7bf851ee855ae4aa8",
            "_dom_classes": [],
            "description": "hidden_dims",
            "_model_name": "DropdownModel",
            "index": 0,
            "_view_module": "@jupyter-widgets/controls",
            "_model_module_version": "1.5.0",
            "_view_count": null,
            "disabled": false,
            "_view_module_version": "1.5.0",
            "description_tooltip": null,
            "_model_module": "@jupyter-widgets/controls",
            "layout": "IPY_MODEL_6fdac062b0d5491baf3af1fedb86ddc8"
          }
        },
        "9646fdc6e6794ac88f474ec6c342016a": {
          "model_module": "@jupyter-widgets/controls",
          "model_name": "FloatLogSliderModel",
          "state": {
            "_view_name": "FloatLogSliderView",
            "orientation": "horizontal",
            "_view_module": "@jupyter-widgets/controls",
            "_model_module_version": "1.5.0",
            "_view_count": null,
            "disabled": false,
            "readout_format": ".3g",
            "_model_module": "@jupyter-widgets/controls",
            "style": "IPY_MODEL_9ab84f35081141ea9364443ff3ba6837",
            "layout": "IPY_MODEL_4348e6d2533348c885a1a831358b1b80",
            "min": -3,
            "continuous_update": true,
            "description_tooltip": null,
            "_dom_classes": [],
            "description": "lr",
            "_model_name": "FloatLogSliderModel",
            "max": 0,
            "readout": true,
            "step": 0.1,
            "base": 10,
            "value": 0.05,
            "_view_module_version": "1.5.0"
          }
        },
        "87f265a82f644cd2b08ffe85cf771693": {
          "model_module": "@jupyter-widgets/controls",
          "model_name": "IntSliderModel",
          "state": {
            "_view_name": "IntSliderView",
            "style": "IPY_MODEL_6f82eea14f8149d0bdd11fbd4c51cbb6",
            "_dom_classes": [],
            "description": "num_inits",
            "step": 1,
            "_model_name": "IntSliderModel",
            "orientation": "horizontal",
            "max": 10,
            "_view_module": "@jupyter-widgets/controls",
            "_model_module_version": "1.5.0",
            "value": 7,
            "_view_count": null,
            "disabled": false,
            "_view_module_version": "1.5.0",
            "min": 5,
            "continuous_update": true,
            "readout_format": "d",
            "description_tooltip": null,
            "readout": true,
            "_model_module": "@jupyter-widgets/controls",
            "layout": "IPY_MODEL_4cd8a206421146b887c9d8c8ee8e7cd0"
          }
        },
        "603feab40107467aaa46f59c6450c793": {
          "model_module": "@jupyter-widgets/controls",
          "model_name": "ButtonModel",
          "state": {
            "_view_name": "ButtonView",
            "style": "IPY_MODEL_5e9383dab5f04d5389383bc711590cf7",
            "_dom_classes": [],
            "description": "Run Interact",
            "_model_name": "ButtonModel",
            "button_style": "",
            "_view_module": "@jupyter-widgets/controls",
            "_model_module_version": "1.5.0",
            "tooltip": "",
            "_view_count": null,
            "disabled": false,
            "_view_module_version": "1.5.0",
            "layout": "IPY_MODEL_5ae85feb58014eec9456e626728550d5",
            "_model_module": "@jupyter-widgets/controls",
            "icon": ""
          }
        },
        "3a8511e32d77448aa71e7187d030524d": {
          "model_module": "@jupyter-widgets/output",
          "model_name": "OutputModel",
          "state": {
            "_view_name": "OutputView",
            "msg_id": "",
            "_dom_classes": [],
            "_model_name": "OutputModel",
            "outputs": [],
            "_view_module": "@jupyter-widgets/output",
            "_model_module_version": "1.0.0",
            "_view_count": null,
            "_view_module_version": "1.0.0",
            "layout": "IPY_MODEL_63fe609002d540ed8531492792babf31",
            "_model_module": "@jupyter-widgets/output"
          }
        },
        "6aca39d4827342f084097c0e5fcbba24": {
          "model_module": "@jupyter-widgets/controls",
          "model_name": "SliderStyleModel",
          "state": {
            "_view_name": "StyleView",
            "handle_color": null,
            "_model_name": "SliderStyleModel",
            "description_width": "",
            "_view_module": "@jupyter-widgets/base",
            "_model_module_version": "1.5.0",
            "_view_count": null,
            "_view_module_version": "1.2.0",
            "_model_module": "@jupyter-widgets/controls"
          }
        },
        "f597bd0e13d041b29d2a89e032e93d99": {
          "model_module": "@jupyter-widgets/base",
          "model_name": "LayoutModel",
          "state": {
            "_view_name": "LayoutView",
            "grid_template_rows": null,
            "right": null,
            "justify_content": null,
            "_view_module": "@jupyter-widgets/base",
            "overflow": null,
            "_model_module_version": "1.2.0",
            "_view_count": null,
            "flex_flow": null,
            "width": null,
            "min_width": null,
            "border": null,
            "align_items": null,
            "bottom": null,
            "_model_module": "@jupyter-widgets/base",
            "top": null,
            "grid_column": null,
            "overflow_y": null,
            "overflow_x": null,
            "grid_auto_flow": null,
            "grid_area": null,
            "grid_template_columns": null,
            "flex": null,
            "_model_name": "LayoutModel",
            "justify_items": null,
            "grid_row": null,
            "max_height": null,
            "align_content": null,
            "visibility": null,
            "align_self": null,
            "height": null,
            "min_height": null,
            "padding": null,
            "grid_auto_rows": null,
            "grid_gap": null,
            "max_width": null,
            "order": null,
            "_view_module_version": "1.2.0",
            "grid_template_areas": null,
            "object_position": null,
            "object_fit": null,
            "grid_auto_columns": null,
            "margin": null,
            "display": null,
            "left": null
          }
        },
        "2bcdaa0ccacf4bb7bf851ee855ae4aa8": {
          "model_module": "@jupyter-widgets/controls",
          "model_name": "DescriptionStyleModel",
          "state": {
            "_view_name": "StyleView",
            "_model_name": "DescriptionStyleModel",
            "description_width": "",
            "_view_module": "@jupyter-widgets/base",
            "_model_module_version": "1.5.0",
            "_view_count": null,
            "_view_module_version": "1.2.0",
            "_model_module": "@jupyter-widgets/controls"
          }
        },
        "6fdac062b0d5491baf3af1fedb86ddc8": {
          "model_module": "@jupyter-widgets/base",
          "model_name": "LayoutModel",
          "state": {
            "_view_name": "LayoutView",
            "grid_template_rows": null,
            "right": null,
            "justify_content": null,
            "_view_module": "@jupyter-widgets/base",
            "overflow": null,
            "_model_module_version": "1.2.0",
            "_view_count": null,
            "flex_flow": null,
            "width": null,
            "min_width": null,
            "border": null,
            "align_items": null,
            "bottom": null,
            "_model_module": "@jupyter-widgets/base",
            "top": null,
            "grid_column": null,
            "overflow_y": null,
            "overflow_x": null,
            "grid_auto_flow": null,
            "grid_area": null,
            "grid_template_columns": null,
            "flex": null,
            "_model_name": "LayoutModel",
            "justify_items": null,
            "grid_row": null,
            "max_height": null,
            "align_content": null,
            "visibility": null,
            "align_self": null,
            "height": null,
            "min_height": null,
            "padding": null,
            "grid_auto_rows": null,
            "grid_gap": null,
            "max_width": null,
            "order": null,
            "_view_module_version": "1.2.0",
            "grid_template_areas": null,
            "object_position": null,
            "object_fit": null,
            "grid_auto_columns": null,
            "margin": null,
            "display": null,
            "left": null
          }
        },
        "9ab84f35081141ea9364443ff3ba6837": {
          "model_module": "@jupyter-widgets/controls",
          "model_name": "SliderStyleModel",
          "state": {
            "_view_name": "StyleView",
            "handle_color": null,
            "_model_name": "SliderStyleModel",
            "description_width": "",
            "_view_module": "@jupyter-widgets/base",
            "_model_module_version": "1.5.0",
            "_view_count": null,
            "_view_module_version": "1.2.0",
            "_model_module": "@jupyter-widgets/controls"
          }
        },
        "4348e6d2533348c885a1a831358b1b80": {
          "model_module": "@jupyter-widgets/base",
          "model_name": "LayoutModel",
          "state": {
            "_view_name": "LayoutView",
            "grid_template_rows": null,
            "right": null,
            "justify_content": null,
            "_view_module": "@jupyter-widgets/base",
            "overflow": null,
            "_model_module_version": "1.2.0",
            "_view_count": null,
            "flex_flow": null,
            "width": null,
            "min_width": null,
            "border": null,
            "align_items": null,
            "bottom": null,
            "_model_module": "@jupyter-widgets/base",
            "top": null,
            "grid_column": null,
            "overflow_y": null,
            "overflow_x": null,
            "grid_auto_flow": null,
            "grid_area": null,
            "grid_template_columns": null,
            "flex": null,
            "_model_name": "LayoutModel",
            "justify_items": null,
            "grid_row": null,
            "max_height": null,
            "align_content": null,
            "visibility": null,
            "align_self": null,
            "height": null,
            "min_height": null,
            "padding": null,
            "grid_auto_rows": null,
            "grid_gap": null,
            "max_width": null,
            "order": null,
            "_view_module_version": "1.2.0",
            "grid_template_areas": null,
            "object_position": null,
            "object_fit": null,
            "grid_auto_columns": null,
            "margin": null,
            "display": null,
            "left": null
          }
        },
        "6f82eea14f8149d0bdd11fbd4c51cbb6": {
          "model_module": "@jupyter-widgets/controls",
          "model_name": "SliderStyleModel",
          "state": {
            "_view_name": "StyleView",
            "handle_color": null,
            "_model_name": "SliderStyleModel",
            "description_width": "",
            "_view_module": "@jupyter-widgets/base",
            "_model_module_version": "1.5.0",
            "_view_count": null,
            "_view_module_version": "1.2.0",
            "_model_module": "@jupyter-widgets/controls"
          }
        },
        "4cd8a206421146b887c9d8c8ee8e7cd0": {
          "model_module": "@jupyter-widgets/base",
          "model_name": "LayoutModel",
          "state": {
            "_view_name": "LayoutView",
            "grid_template_rows": null,
            "right": null,
            "justify_content": null,
            "_view_module": "@jupyter-widgets/base",
            "overflow": null,
            "_model_module_version": "1.2.0",
            "_view_count": null,
            "flex_flow": null,
            "width": null,
            "min_width": null,
            "border": null,
            "align_items": null,
            "bottom": null,
            "_model_module": "@jupyter-widgets/base",
            "top": null,
            "grid_column": null,
            "overflow_y": null,
            "overflow_x": null,
            "grid_auto_flow": null,
            "grid_area": null,
            "grid_template_columns": null,
            "flex": null,
            "_model_name": "LayoutModel",
            "justify_items": null,
            "grid_row": null,
            "max_height": null,
            "align_content": null,
            "visibility": null,
            "align_self": null,
            "height": null,
            "min_height": null,
            "padding": null,
            "grid_auto_rows": null,
            "grid_gap": null,
            "max_width": null,
            "order": null,
            "_view_module_version": "1.2.0",
            "grid_template_areas": null,
            "object_position": null,
            "object_fit": null,
            "grid_auto_columns": null,
            "margin": null,
            "display": null,
            "left": null
          }
        },
        "5e9383dab5f04d5389383bc711590cf7": {
          "model_module": "@jupyter-widgets/controls",
          "model_name": "ButtonStyleModel",
          "state": {
            "_view_name": "StyleView",
            "_model_name": "ButtonStyleModel",
            "_view_module": "@jupyter-widgets/base",
            "_model_module_version": "1.5.0",
            "_view_count": null,
            "button_color": null,
            "font_weight": "",
            "_view_module_version": "1.2.0",
            "_model_module": "@jupyter-widgets/controls"
          }
        },
        "5ae85feb58014eec9456e626728550d5": {
          "model_module": "@jupyter-widgets/base",
          "model_name": "LayoutModel",
          "state": {
            "_view_name": "LayoutView",
            "grid_template_rows": null,
            "right": null,
            "justify_content": null,
            "_view_module": "@jupyter-widgets/base",
            "overflow": null,
            "_model_module_version": "1.2.0",
            "_view_count": null,
            "flex_flow": null,
            "width": null,
            "min_width": null,
            "border": null,
            "align_items": null,
            "bottom": null,
            "_model_module": "@jupyter-widgets/base",
            "top": null,
            "grid_column": null,
            "overflow_y": null,
            "overflow_x": null,
            "grid_auto_flow": null,
            "grid_area": null,
            "grid_template_columns": null,
            "flex": null,
            "_model_name": "LayoutModel",
            "justify_items": null,
            "grid_row": null,
            "max_height": null,
            "align_content": null,
            "visibility": null,
            "align_self": null,
            "height": null,
            "min_height": null,
            "padding": null,
            "grid_auto_rows": null,
            "grid_gap": null,
            "max_width": null,
            "order": null,
            "_view_module_version": "1.2.0",
            "grid_template_areas": null,
            "object_position": null,
            "object_fit": null,
            "grid_auto_columns": null,
            "margin": null,
            "display": null,
            "left": null
          }
        },
        "63fe609002d540ed8531492792babf31": {
          "model_module": "@jupyter-widgets/base",
          "model_name": "LayoutModel",
          "state": {
            "_view_name": "LayoutView",
            "grid_template_rows": null,
            "right": null,
            "justify_content": null,
            "_view_module": "@jupyter-widgets/base",
            "overflow": null,
            "_model_module_version": "1.2.0",
            "_view_count": null,
            "flex_flow": null,
            "width": null,
            "min_width": null,
            "border": null,
            "align_items": null,
            "bottom": null,
            "_model_module": "@jupyter-widgets/base",
            "top": null,
            "grid_column": null,
            "overflow_y": null,
            "overflow_x": null,
            "grid_auto_flow": null,
            "grid_area": null,
            "grid_template_columns": null,
            "flex": null,
            "_model_name": "LayoutModel",
            "justify_items": null,
            "grid_row": null,
            "max_height": null,
            "align_content": null,
            "visibility": null,
            "align_self": null,
            "height": null,
            "min_height": null,
            "padding": null,
            "grid_auto_rows": null,
            "grid_gap": null,
            "max_width": null,
            "order": null,
            "_view_module_version": "1.2.0",
            "grid_template_areas": null,
            "object_position": null,
            "object_fit": null,
            "grid_auto_columns": null,
            "margin": null,
            "display": null,
            "left": null
          }
        },
        "2606268c658941178171c2cdeb4dd6be": {
          "model_module": "@jupyter-widgets/controls",
          "model_name": "TabModel",
          "state": {
            "_view_name": "TabView",
            "_dom_classes": [],
            "_titles": {
              "0": "Youtube",
              "1": "Bilibili"
            },
            "_model_name": "TabModel",
            "_view_module": "@jupyter-widgets/controls",
            "selected_index": 0,
            "_model_module_version": "1.5.0",
            "_view_count": null,
            "_view_module_version": "1.5.0",
            "box_style": "",
            "layout": "IPY_MODEL_75e0f8439b7f4dcc9d32b79f2e977aa7",
            "_model_module": "@jupyter-widgets/controls",
            "children": [
              "IPY_MODEL_15951b50089c4a699b0e6070c2d5eeac",
              "IPY_MODEL_f9cd9e9d2b4a4ce994a9e543d82a6237"
            ]
          }
        },
        "75e0f8439b7f4dcc9d32b79f2e977aa7": {
          "model_module": "@jupyter-widgets/base",
          "model_name": "LayoutModel",
          "state": {
            "_view_name": "LayoutView",
            "grid_template_rows": null,
            "right": null,
            "justify_content": null,
            "_view_module": "@jupyter-widgets/base",
            "overflow": null,
            "_model_module_version": "1.2.0",
            "_view_count": null,
            "flex_flow": null,
            "width": null,
            "min_width": null,
            "border": null,
            "align_items": null,
            "bottom": null,
            "_model_module": "@jupyter-widgets/base",
            "top": null,
            "grid_column": null,
            "overflow_y": null,
            "overflow_x": null,
            "grid_auto_flow": null,
            "grid_area": null,
            "grid_template_columns": null,
            "flex": null,
            "_model_name": "LayoutModel",
            "justify_items": null,
            "grid_row": null,
            "max_height": null,
            "align_content": null,
            "visibility": null,
            "align_self": null,
            "height": null,
            "min_height": null,
            "padding": null,
            "grid_auto_rows": null,
            "grid_gap": null,
            "max_width": null,
            "order": null,
            "_view_module_version": "1.2.0",
            "grid_template_areas": null,
            "object_position": null,
            "object_fit": null,
            "grid_auto_columns": null,
            "margin": null,
            "display": null,
            "left": null
          }
        },
        "15951b50089c4a699b0e6070c2d5eeac": {
          "model_module": "@jupyter-widgets/output",
          "model_name": "OutputModel",
          "state": {
            "_view_name": "OutputView",
            "msg_id": "",
            "_dom_classes": [],
            "_model_name": "OutputModel",
            "outputs": [
              {
                "output_type": "stream",
                "metadata": {
                  "tags": []
                },
                "text": "Video available at https://youtube.com/watch?v=hbqUxpNBUGk\n",
                "stream": "stdout"
              },
              {
                "output_type": "display_data",
                "metadata": {
                  "tags": []
                },
                "text/html": "\n        <iframe\n            width=\"854\"\n            height=\"480\"\n            src=\"https://www.youtube.com/embed/hbqUxpNBUGk?fs=1&rel=0\"\n            frameborder=\"0\"\n            allowfullscreen\n        ></iframe>\n        ",
                "text/plain": "<IPython.lib.display.YouTubeVideo at 0x7fee94982250>",
                "image/jpeg": "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\n"
              }
            ],
            "_view_module": "@jupyter-widgets/output",
            "_model_module_version": "1.0.0",
            "_view_count": null,
            "_view_module_version": "1.0.0",
            "layout": "IPY_MODEL_9aa1a830347e4607be14e0fb2af4645d",
            "_model_module": "@jupyter-widgets/output"
          }
        },
        "f9cd9e9d2b4a4ce994a9e543d82a6237": {
          "model_module": "@jupyter-widgets/output",
          "model_name": "OutputModel",
          "state": {
            "_view_name": "OutputView",
            "msg_id": "",
            "_dom_classes": [],
            "_model_name": "OutputModel",
            "outputs": [
              {
                "output_type": "stream",
                "metadata": {
                  "tags": []
                },
                "text": "Video available at https://www.bilibili.com/video/\n",
                "stream": "stdout"
              },
              {
                "output_type": "display_data",
                "metadata": {
                  "tags": []
                },
                "text/html": "\n        <iframe\n            width=\"854\"\n            height=\"480\"\n            src=\"https://player.bilibili.com/player.html?bvid=&page=1?fs=1\"\n            frameborder=\"0\"\n            allowfullscreen\n        ></iframe>\n        ",
                "text/plain": "<__main__.BiliVideo at 0x7fee9480e750>"
              }
            ],
            "_view_module": "@jupyter-widgets/output",
            "_model_module_version": "1.0.0",
            "_view_count": null,
            "_view_module_version": "1.0.0",
            "layout": "IPY_MODEL_27a2433980c1413db0184e42e3e8ff39",
            "_model_module": "@jupyter-widgets/output"
          }
        },
        "9aa1a830347e4607be14e0fb2af4645d": {
          "model_module": "@jupyter-widgets/base",
          "model_name": "LayoutModel",
          "state": {
            "_view_name": "LayoutView",
            "grid_template_rows": null,
            "right": null,
            "justify_content": null,
            "_view_module": "@jupyter-widgets/base",
            "overflow": null,
            "_model_module_version": "1.2.0",
            "_view_count": null,
            "flex_flow": null,
            "width": null,
            "min_width": null,
            "border": null,
            "align_items": null,
            "bottom": null,
            "_model_module": "@jupyter-widgets/base",
            "top": null,
            "grid_column": null,
            "overflow_y": null,
            "overflow_x": null,
            "grid_auto_flow": null,
            "grid_area": null,
            "grid_template_columns": null,
            "flex": null,
            "_model_name": "LayoutModel",
            "justify_items": null,
            "grid_row": null,
            "max_height": null,
            "align_content": null,
            "visibility": null,
            "align_self": null,
            "height": null,
            "min_height": null,
            "padding": null,
            "grid_auto_rows": null,
            "grid_gap": null,
            "max_width": null,
            "order": null,
            "_view_module_version": "1.2.0",
            "grid_template_areas": null,
            "object_position": null,
            "object_fit": null,
            "grid_auto_columns": null,
            "margin": null,
            "display": null,
            "left": null
          }
        },
        "27a2433980c1413db0184e42e3e8ff39": {
          "model_module": "@jupyter-widgets/base",
          "model_name": "LayoutModel",
          "state": {
            "_view_name": "LayoutView",
            "grid_template_rows": null,
            "right": null,
            "justify_content": null,
            "_view_module": "@jupyter-widgets/base",
            "overflow": null,
            "_model_module_version": "1.2.0",
            "_view_count": null,
            "flex_flow": null,
            "width": null,
            "min_width": null,
            "border": null,
            "align_items": null,
            "bottom": null,
            "_model_module": "@jupyter-widgets/base",
            "top": null,
            "grid_column": null,
            "overflow_y": null,
            "overflow_x": null,
            "grid_auto_flow": null,
            "grid_area": null,
            "grid_template_columns": null,
            "flex": null,
            "_model_name": "LayoutModel",
            "justify_items": null,
            "grid_row": null,
            "max_height": null,
            "align_content": null,
            "visibility": null,
            "align_self": null,
            "height": null,
            "min_height": null,
            "padding": null,
            "grid_auto_rows": null,
            "grid_gap": null,
            "max_width": null,
            "order": null,
            "_view_module_version": "1.2.0",
            "grid_template_areas": null,
            "object_position": null,
            "object_fit": null,
            "grid_auto_columns": null,
            "margin": null,
            "display": null,
            "left": null
          }
        },
        "a5d564fa73e34e21964d83886f82e16f": {
          "model_module": "@jupyter-widgets/controls",
          "model_name": "VBoxModel",
          "state": {
            "_view_name": "VBoxView",
            "_dom_classes": [
              "widget-interact"
            ],
            "_model_name": "VBoxModel",
            "_view_module": "@jupyter-widgets/controls",
            "_model_module_version": "1.5.0",
            "_view_count": null,
            "_view_module_version": "1.5.0",
            "box_style": "",
            "layout": "IPY_MODEL_e1f28e3a06af4674906144010801d692",
            "_model_module": "@jupyter-widgets/controls",
            "children": [
              "IPY_MODEL_65c2e24554164c9d810da891eccd9deb",
              "IPY_MODEL_f2ba8dc436d14f65b42dc875a9977476"
            ]
          }
        },
        "e1f28e3a06af4674906144010801d692": {
          "model_module": "@jupyter-widgets/base",
          "model_name": "LayoutModel",
          "state": {
            "_view_name": "LayoutView",
            "grid_template_rows": null,
            "right": null,
            "justify_content": null,
            "_view_module": "@jupyter-widgets/base",
            "overflow": null,
            "_model_module_version": "1.2.0",
            "_view_count": null,
            "flex_flow": null,
            "width": null,
            "min_width": null,
            "border": null,
            "align_items": null,
            "bottom": null,
            "_model_module": "@jupyter-widgets/base",
            "top": null,
            "grid_column": null,
            "overflow_y": null,
            "overflow_x": null,
            "grid_auto_flow": null,
            "grid_area": null,
            "grid_template_columns": null,
            "flex": null,
            "_model_name": "LayoutModel",
            "justify_items": null,
            "grid_row": null,
            "max_height": null,
            "align_content": null,
            "visibility": null,
            "align_self": null,
            "height": null,
            "min_height": null,
            "padding": null,
            "grid_auto_rows": null,
            "grid_gap": null,
            "max_width": null,
            "order": null,
            "_view_module_version": "1.2.0",
            "grid_template_areas": null,
            "object_position": null,
            "object_fit": null,
            "grid_auto_columns": null,
            "margin": null,
            "display": null,
            "left": null
          }
        },
        "65c2e24554164c9d810da891eccd9deb": {
          "model_module": "@jupyter-widgets/controls",
          "model_name": "DropdownModel",
          "state": {
            "_options_labels": [
              "1",
              "100",
              "50, 50"
            ],
            "_view_name": "DropdownView",
            "style": "IPY_MODEL_b3da4a28d5a64431ba536fcacce5a977",
            "_dom_classes": [],
            "description": "hidden_dims",
            "_model_name": "DropdownModel",
            "index": 1,
            "_view_module": "@jupyter-widgets/controls",
            "_model_module_version": "1.5.0",
            "_view_count": null,
            "disabled": false,
            "_view_module_version": "1.5.0",
            "description_tooltip": null,
            "_model_module": "@jupyter-widgets/controls",
            "layout": "IPY_MODEL_67ca30c11761459ca84a64a3850701a0"
          }
        },
        "f2ba8dc436d14f65b42dc875a9977476": {
          "model_module": "@jupyter-widgets/output",
          "model_name": "OutputModel",
          "state": {
            "_view_name": "OutputView",
            "msg_id": "",
            "_dom_classes": [],
            "_model_name": "OutputModel",
            "outputs": [
              {
                "output_type": "display_data",
                "metadata": {
                  "tags": [],
                  "image/png": {
                    "width": 342,
                    "height": 270
                  },
                  "needs_background": "light"
                },
                "image/png": "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\n",
                "text/plain": "<Figure size 360x288 with 1 Axes>"
              }
            ],
            "_view_module": "@jupyter-widgets/output",
            "_model_module_version": "1.0.0",
            "_view_count": null,
            "_view_module_version": "1.0.0",
            "layout": "IPY_MODEL_0b3c89db5d4d4487bb8b92e29cf75d77",
            "_model_module": "@jupyter-widgets/output"
          }
        },
        "b3da4a28d5a64431ba536fcacce5a977": {
          "model_module": "@jupyter-widgets/controls",
          "model_name": "DescriptionStyleModel",
          "state": {
            "_view_name": "StyleView",
            "_model_name": "DescriptionStyleModel",
            "description_width": "",
            "_view_module": "@jupyter-widgets/base",
            "_model_module_version": "1.5.0",
            "_view_count": null,
            "_view_module_version": "1.2.0",
            "_model_module": "@jupyter-widgets/controls"
          }
        },
        "67ca30c11761459ca84a64a3850701a0": {
          "model_module": "@jupyter-widgets/base",
          "model_name": "LayoutModel",
          "state": {
            "_view_name": "LayoutView",
            "grid_template_rows": null,
            "right": null,
            "justify_content": null,
            "_view_module": "@jupyter-widgets/base",
            "overflow": null,
            "_model_module_version": "1.2.0",
            "_view_count": null,
            "flex_flow": null,
            "width": null,
            "min_width": null,
            "border": null,
            "align_items": null,
            "bottom": null,
            "_model_module": "@jupyter-widgets/base",
            "top": null,
            "grid_column": null,
            "overflow_y": null,
            "overflow_x": null,
            "grid_auto_flow": null,
            "grid_area": null,
            "grid_template_columns": null,
            "flex": null,
            "_model_name": "LayoutModel",
            "justify_items": null,
            "grid_row": null,
            "max_height": null,
            "align_content": null,
            "visibility": null,
            "align_self": null,
            "height": null,
            "min_height": null,
            "padding": null,
            "grid_auto_rows": null,
            "grid_gap": null,
            "max_width": null,
            "order": null,
            "_view_module_version": "1.2.0",
            "grid_template_areas": null,
            "object_position": null,
            "object_fit": null,
            "grid_auto_columns": null,
            "margin": null,
            "display": null,
            "left": null
          }
        },
        "0b3c89db5d4d4487bb8b92e29cf75d77": {
          "model_module": "@jupyter-widgets/base",
          "model_name": "LayoutModel",
          "state": {
            "_view_name": "LayoutView",
            "grid_template_rows": null,
            "right": null,
            "justify_content": null,
            "_view_module": "@jupyter-widgets/base",
            "overflow": null,
            "_model_module_version": "1.2.0",
            "_view_count": null,
            "flex_flow": null,
            "width": null,
            "min_width": null,
            "border": null,
            "align_items": null,
            "bottom": null,
            "_model_module": "@jupyter-widgets/base",
            "top": null,
            "grid_column": null,
            "overflow_y": null,
            "overflow_x": null,
            "grid_auto_flow": null,
            "grid_area": null,
            "grid_template_columns": null,
            "flex": null,
            "_model_name": "LayoutModel",
            "justify_items": null,
            "grid_row": null,
            "max_height": null,
            "align_content": null,
            "visibility": null,
            "align_self": null,
            "height": null,
            "min_height": null,
            "padding": null,
            "grid_auto_rows": null,
            "grid_gap": null,
            "max_width": null,
            "order": null,
            "_view_module_version": "1.2.0",
            "grid_template_areas": null,
            "object_position": null,
            "object_fit": null,
            "grid_auto_columns": null,
            "margin": null,
            "display": null,
            "left": null
          }
        },
        "2320d830e8cb41d99438d875aa76cded": {
          "model_module": "@jupyter-widgets/controls",
          "model_name": "VBoxModel",
          "state": {
            "_view_name": "VBoxView",
            "_dom_classes": [
              "widget-interact"
            ],
            "_model_name": "VBoxModel",
            "_view_module": "@jupyter-widgets/controls",
            "_model_module_version": "1.5.0",
            "_view_count": null,
            "_view_module_version": "1.5.0",
            "box_style": "",
            "layout": "IPY_MODEL_5e7d24749c9b4909a58bf77e9e74579a",
            "_model_module": "@jupyter-widgets/controls",
            "children": [
              "IPY_MODEL_2df8c1f0547a4c0ca0088c3ce9bbda99",
              "IPY_MODEL_c7adc99f455449b2ac4d6f79510490c5",
              "IPY_MODEL_03e5ba657b1c4336936a5f66cbaa12e4",
              "IPY_MODEL_eef05f3ca9114e8db327b9d82b2baf70",
              "IPY_MODEL_43ec8a661e79472991bd8b491b44646e"
            ]
          }
        },
        "5e7d24749c9b4909a58bf77e9e74579a": {
          "model_module": "@jupyter-widgets/base",
          "model_name": "LayoutModel",
          "state": {
            "_view_name": "LayoutView",
            "grid_template_rows": null,
            "right": null,
            "justify_content": null,
            "_view_module": "@jupyter-widgets/base",
            "overflow": null,
            "_model_module_version": "1.2.0",
            "_view_count": null,
            "flex_flow": null,
            "width": null,
            "min_width": null,
            "border": null,
            "align_items": null,
            "bottom": null,
            "_model_module": "@jupyter-widgets/base",
            "top": null,
            "grid_column": null,
            "overflow_y": null,
            "overflow_x": null,
            "grid_auto_flow": null,
            "grid_area": null,
            "grid_template_columns": null,
            "flex": null,
            "_model_name": "LayoutModel",
            "justify_items": null,
            "grid_row": null,
            "max_height": null,
            "align_content": null,
            "visibility": null,
            "align_self": null,
            "height": null,
            "min_height": null,
            "padding": null,
            "grid_auto_rows": null,
            "grid_gap": null,
            "max_width": null,
            "order": null,
            "_view_module_version": "1.2.0",
            "grid_template_areas": null,
            "object_position": null,
            "object_fit": null,
            "grid_auto_columns": null,
            "margin": null,
            "display": null,
            "left": null
          }
        },
        "2df8c1f0547a4c0ca0088c3ce9bbda99": {
          "model_module": "@jupyter-widgets/controls",
          "model_name": "TextModel",
          "state": {
            "_view_name": "TextView",
            "style": "IPY_MODEL_f3ca9ba2c2ac4f63838db087be56303b",
            "_dom_classes": [],
            "description": "batch_sizes",
            "_model_name": "TextModel",
            "placeholder": "​",
            "_view_module": "@jupyter-widgets/controls",
            "_model_module_version": "1.5.0",
            "value": "20, 250, 1000",
            "_view_count": null,
            "disabled": false,
            "_view_module_version": "1.5.0",
            "continuous_update": true,
            "description_tooltip": null,
            "_model_module": "@jupyter-widgets/controls",
            "layout": "IPY_MODEL_d6ce7e13bd8e48049bdb419bafbefe62"
          }
        },
        "c7adc99f455449b2ac4d6f79510490c5": {
          "model_module": "@jupyter-widgets/controls",
          "model_name": "TextModel",
          "state": {
            "_view_name": "TextView",
            "style": "IPY_MODEL_bba5902aa67344f49ba6a9cc289f7ca3",
            "_dom_classes": [],
            "description": "lrs",
            "_model_name": "TextModel",
            "placeholder": "​",
            "_view_module": "@jupyter-widgets/controls",
            "_model_module_version": "1.5.0",
            "value": "5e-3, 5e-3, 5e-3",
            "_view_count": null,
            "disabled": false,
            "_view_module_version": "1.5.0",
            "continuous_update": true,
            "description_tooltip": null,
            "_model_module": "@jupyter-widgets/controls",
            "layout": "IPY_MODEL_899a518ff9a64fa9a20870281d842054"
          }
        },
        "03e5ba657b1c4336936a5f66cbaa12e4": {
          "model_module": "@jupyter-widgets/controls",
          "model_name": "DropdownModel",
          "state": {
            "_options_labels": [
              "2.5",
              "5",
              "10"
            ],
            "_view_name": "DropdownView",
            "style": "IPY_MODEL_27df546df60243e5836543a03392213b",
            "_dom_classes": [],
            "description": "time_budget",
            "_model_name": "DropdownModel",
            "index": 0,
            "_view_module": "@jupyter-widgets/controls",
            "_model_module_version": "1.5.0",
            "_view_count": null,
            "disabled": false,
            "_view_module_version": "1.5.0",
            "description_tooltip": null,
            "_model_module": "@jupyter-widgets/controls",
            "layout": "IPY_MODEL_49a5dc84d646443b8024bdd6e40a0ea2"
          }
        },
        "eef05f3ca9114e8db327b9d82b2baf70": {
          "model_module": "@jupyter-widgets/controls",
          "model_name": "ButtonModel",
          "state": {
            "_view_name": "ButtonView",
            "style": "IPY_MODEL_977a0b672eba4d16946f056d4cf244ca",
            "_dom_classes": [],
            "description": "Run Interact",
            "_model_name": "ButtonModel",
            "button_style": "",
            "_view_module": "@jupyter-widgets/controls",
            "_model_module_version": "1.5.0",
            "tooltip": "",
            "_view_count": null,
            "disabled": false,
            "_view_module_version": "1.5.0",
            "layout": "IPY_MODEL_a89abea0891f49b6907f1c203d1aa2e4",
            "_model_module": "@jupyter-widgets/controls",
            "icon": ""
          }
        },
        "43ec8a661e79472991bd8b491b44646e": {
          "model_module": "@jupyter-widgets/output",
          "model_name": "OutputModel",
          "state": {
            "_view_name": "OutputView",
            "msg_id": "",
            "_dom_classes": [],
            "_model_name": "OutputModel",
            "outputs": [],
            "_view_module": "@jupyter-widgets/output",
            "_model_module_version": "1.0.0",
            "_view_count": null,
            "_view_module_version": "1.0.0",
            "layout": "IPY_MODEL_6d26a7c8d172426e89019c5ea6c8cf57",
            "_model_module": "@jupyter-widgets/output"
          }
        },
        "f3ca9ba2c2ac4f63838db087be56303b": {
          "model_module": "@jupyter-widgets/controls",
          "model_name": "DescriptionStyleModel",
          "state": {
            "_view_name": "StyleView",
            "_model_name": "DescriptionStyleModel",
            "description_width": "",
            "_view_module": "@jupyter-widgets/base",
            "_model_module_version": "1.5.0",
            "_view_count": null,
            "_view_module_version": "1.2.0",
            "_model_module": "@jupyter-widgets/controls"
          }
        },
        "d6ce7e13bd8e48049bdb419bafbefe62": {
          "model_module": "@jupyter-widgets/base",
          "model_name": "LayoutModel",
          "state": {
            "_view_name": "LayoutView",
            "grid_template_rows": null,
            "right": null,
            "justify_content": null,
            "_view_module": "@jupyter-widgets/base",
            "overflow": null,
            "_model_module_version": "1.2.0",
            "_view_count": null,
            "flex_flow": null,
            "width": null,
            "min_width": null,
            "border": null,
            "align_items": null,
            "bottom": null,
            "_model_module": "@jupyter-widgets/base",
            "top": null,
            "grid_column": null,
            "overflow_y": null,
            "overflow_x": null,
            "grid_auto_flow": null,
            "grid_area": null,
            "grid_template_columns": null,
            "flex": null,
            "_model_name": "LayoutModel",
            "justify_items": null,
            "grid_row": null,
            "max_height": null,
            "align_content": null,
            "visibility": null,
            "align_self": null,
            "height": null,
            "min_height": null,
            "padding": null,
            "grid_auto_rows": null,
            "grid_gap": null,
            "max_width": null,
            "order": null,
            "_view_module_version": "1.2.0",
            "grid_template_areas": null,
            "object_position": null,
            "object_fit": null,
            "grid_auto_columns": null,
            "margin": null,
            "display": null,
            "left": null
          }
        },
        "bba5902aa67344f49ba6a9cc289f7ca3": {
          "model_module": "@jupyter-widgets/controls",
          "model_name": "DescriptionStyleModel",
          "state": {
            "_view_name": "StyleView",
            "_model_name": "DescriptionStyleModel",
            "description_width": "",
            "_view_module": "@jupyter-widgets/base",
            "_model_module_version": "1.5.0",
            "_view_count": null,
            "_view_module_version": "1.2.0",
            "_model_module": "@jupyter-widgets/controls"
          }
        },
        "899a518ff9a64fa9a20870281d842054": {
          "model_module": "@jupyter-widgets/base",
          "model_name": "LayoutModel",
          "state": {
            "_view_name": "LayoutView",
            "grid_template_rows": null,
            "right": null,
            "justify_content": null,
            "_view_module": "@jupyter-widgets/base",
            "overflow": null,
            "_model_module_version": "1.2.0",
            "_view_count": null,
            "flex_flow": null,
            "width": null,
            "min_width": null,
            "border": null,
            "align_items": null,
            "bottom": null,
            "_model_module": "@jupyter-widgets/base",
            "top": null,
            "grid_column": null,
            "overflow_y": null,
            "overflow_x": null,
            "grid_auto_flow": null,
            "grid_area": null,
            "grid_template_columns": null,
            "flex": null,
            "_model_name": "LayoutModel",
            "justify_items": null,
            "grid_row": null,
            "max_height": null,
            "align_content": null,
            "visibility": null,
            "align_self": null,
            "height": null,
            "min_height": null,
            "padding": null,
            "grid_auto_rows": null,
            "grid_gap": null,
            "max_width": null,
            "order": null,
            "_view_module_version": "1.2.0",
            "grid_template_areas": null,
            "object_position": null,
            "object_fit": null,
            "grid_auto_columns": null,
            "margin": null,
            "display": null,
            "left": null
          }
        },
        "27df546df60243e5836543a03392213b": {
          "model_module": "@jupyter-widgets/controls",
          "model_name": "DescriptionStyleModel",
          "state": {
            "_view_name": "StyleView",
            "_model_name": "DescriptionStyleModel",
            "description_width": "",
            "_view_module": "@jupyter-widgets/base",
            "_model_module_version": "1.5.0",
            "_view_count": null,
            "_view_module_version": "1.2.0",
            "_model_module": "@jupyter-widgets/controls"
          }
        },
        "49a5dc84d646443b8024bdd6e40a0ea2": {
          "model_module": "@jupyter-widgets/base",
          "model_name": "LayoutModel",
          "state": {
            "_view_name": "LayoutView",
            "grid_template_rows": null,
            "right": null,
            "justify_content": null,
            "_view_module": "@jupyter-widgets/base",
            "overflow": null,
            "_model_module_version": "1.2.0",
            "_view_count": null,
            "flex_flow": null,
            "width": null,
            "min_width": null,
            "border": null,
            "align_items": null,
            "bottom": null,
            "_model_module": "@jupyter-widgets/base",
            "top": null,
            "grid_column": null,
            "overflow_y": null,
            "overflow_x": null,
            "grid_auto_flow": null,
            "grid_area": null,
            "grid_template_columns": null,
            "flex": null,
            "_model_name": "LayoutModel",
            "justify_items": null,
            "grid_row": null,
            "max_height": null,
            "align_content": null,
            "visibility": null,
            "align_self": null,
            "height": null,
            "min_height": null,
            "padding": null,
            "grid_auto_rows": null,
            "grid_gap": null,
            "max_width": null,
            "order": null,
            "_view_module_version": "1.2.0",
            "grid_template_areas": null,
            "object_position": null,
            "object_fit": null,
            "grid_auto_columns": null,
            "margin": null,
            "display": null,
            "left": null
          }
        },
        "977a0b672eba4d16946f056d4cf244ca": {
          "model_module": "@jupyter-widgets/controls",
          "model_name": "ButtonStyleModel",
          "state": {
            "_view_name": "StyleView",
            "_model_name": "ButtonStyleModel",
            "_view_module": "@jupyter-widgets/base",
            "_model_module_version": "1.5.0",
            "_view_count": null,
            "button_color": null,
            "font_weight": "",
            "_view_module_version": "1.2.0",
            "_model_module": "@jupyter-widgets/controls"
          }
        },
        "a89abea0891f49b6907f1c203d1aa2e4": {
          "model_module": "@jupyter-widgets/base",
          "model_name": "LayoutModel",
          "state": {
            "_view_name": "LayoutView",
            "grid_template_rows": null,
            "right": null,
            "justify_content": null,
            "_view_module": "@jupyter-widgets/base",
            "overflow": null,
            "_model_module_version": "1.2.0",
            "_view_count": null,
            "flex_flow": null,
            "width": null,
            "min_width": null,
            "border": null,
            "align_items": null,
            "bottom": null,
            "_model_module": "@jupyter-widgets/base",
            "top": null,
            "grid_column": null,
            "overflow_y": null,
            "overflow_x": null,
            "grid_auto_flow": null,
            "grid_area": null,
            "grid_template_columns": null,
            "flex": null,
            "_model_name": "LayoutModel",
            "justify_items": null,
            "grid_row": null,
            "max_height": null,
            "align_content": null,
            "visibility": null,
            "align_self": null,
            "height": null,
            "min_height": null,
            "padding": null,
            "grid_auto_rows": null,
            "grid_gap": null,
            "max_width": null,
            "order": null,
            "_view_module_version": "1.2.0",
            "grid_template_areas": null,
            "object_position": null,
            "object_fit": null,
            "grid_auto_columns": null,
            "margin": null,
            "display": null,
            "left": null
          }
        },
        "6d26a7c8d172426e89019c5ea6c8cf57": {
          "model_module": "@jupyter-widgets/base",
          "model_name": "LayoutModel",
          "state": {
            "_view_name": "LayoutView",
            "grid_template_rows": null,
            "right": null,
            "justify_content": null,
            "_view_module": "@jupyter-widgets/base",
            "overflow": null,
            "_model_module_version": "1.2.0",
            "_view_count": null,
            "flex_flow": null,
            "width": null,
            "min_width": null,
            "border": null,
            "align_items": null,
            "bottom": null,
            "_model_module": "@jupyter-widgets/base",
            "top": null,
            "grid_column": null,
            "overflow_y": null,
            "overflow_x": null,
            "grid_auto_flow": null,
            "grid_area": null,
            "grid_template_columns": null,
            "flex": null,
            "_model_name": "LayoutModel",
            "justify_items": null,
            "grid_row": null,
            "max_height": null,
            "align_content": null,
            "visibility": null,
            "align_self": null,
            "height": null,
            "min_height": null,
            "padding": null,
            "grid_auto_rows": null,
            "grid_gap": null,
            "max_width": null,
            "order": null,
            "_view_module_version": "1.2.0",
            "grid_template_areas": null,
            "object_position": null,
            "object_fit": null,
            "grid_auto_columns": null,
            "margin": null,
            "display": null,
            "left": null
          }
        },
        "c46d8fa54e53488eb02f59ef730b1a7f": {
          "model_module": "@jupyter-widgets/controls",
          "model_name": "TabModel",
          "state": {
            "_view_name": "TabView",
            "_dom_classes": [],
            "_titles": {
              "0": "Youtube",
              "1": "Bilibili"
            },
            "_model_name": "TabModel",
            "_view_module": "@jupyter-widgets/controls",
            "selected_index": 0,
            "_model_module_version": "1.5.0",
            "_view_count": null,
            "_view_module_version": "1.5.0",
            "box_style": "",
            "layout": "IPY_MODEL_6a261b2f568c4437bfb8389d42aab2f9",
            "_model_module": "@jupyter-widgets/controls",
            "children": [
              "IPY_MODEL_f2dbcb3264ca407c99cf5351405b9dd1",
              "IPY_MODEL_271e3e27ef9a49228e68ba6cf91443a1"
            ]
          }
        },
        "6a261b2f568c4437bfb8389d42aab2f9": {
          "model_module": "@jupyter-widgets/base",
          "model_name": "LayoutModel",
          "state": {
            "_view_name": "LayoutView",
            "grid_template_rows": null,
            "right": null,
            "justify_content": null,
            "_view_module": "@jupyter-widgets/base",
            "overflow": null,
            "_model_module_version": "1.2.0",
            "_view_count": null,
            "flex_flow": null,
            "width": null,
            "min_width": null,
            "border": null,
            "align_items": null,
            "bottom": null,
            "_model_module": "@jupyter-widgets/base",
            "top": null,
            "grid_column": null,
            "overflow_y": null,
            "overflow_x": null,
            "grid_auto_flow": null,
            "grid_area": null,
            "grid_template_columns": null,
            "flex": null,
            "_model_name": "LayoutModel",
            "justify_items": null,
            "grid_row": null,
            "max_height": null,
            "align_content": null,
            "visibility": null,
            "align_self": null,
            "height": null,
            "min_height": null,
            "padding": null,
            "grid_auto_rows": null,
            "grid_gap": null,
            "max_width": null,
            "order": null,
            "_view_module_version": "1.2.0",
            "grid_template_areas": null,
            "object_position": null,
            "object_fit": null,
            "grid_auto_columns": null,
            "margin": null,
            "display": null,
            "left": null
          }
        },
        "f2dbcb3264ca407c99cf5351405b9dd1": {
          "model_module": "@jupyter-widgets/output",
          "model_name": "OutputModel",
          "state": {
            "_view_name": "OutputView",
            "msg_id": "",
            "_dom_classes": [],
            "_model_name": "OutputModel",
            "outputs": [
              {
                "output_type": "stream",
                "metadata": {
                  "tags": []
                },
                "text": "Video available at https://youtube.com/watch?v=Zr6r2kfmQUM\n",
                "stream": "stdout"
              },
              {
                "output_type": "display_data",
                "metadata": {
                  "tags": []
                },
                "text/html": "\n        <iframe\n            width=\"854\"\n            height=\"480\"\n            src=\"https://www.youtube.com/embed/Zr6r2kfmQUM?fs=1&rel=0\"\n            frameborder=\"0\"\n            allowfullscreen\n        ></iframe>\n        ",
                "text/plain": "<IPython.lib.display.YouTubeVideo at 0x7fee97855590>",
                "image/jpeg": "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\n"
              }
            ],
            "_view_module": "@jupyter-widgets/output",
            "_model_module_version": "1.0.0",
            "_view_count": null,
            "_view_module_version": "1.0.0",
            "layout": "IPY_MODEL_763a1907ad5f41038de7e8992270be96",
            "_model_module": "@jupyter-widgets/output"
          }
        },
        "271e3e27ef9a49228e68ba6cf91443a1": {
          "model_module": "@jupyter-widgets/output",
          "model_name": "OutputModel",
          "state": {
            "_view_name": "OutputView",
            "msg_id": "",
            "_dom_classes": [],
            "_model_name": "OutputModel",
            "outputs": [
              {
                "output_type": "stream",
                "metadata": {
                  "tags": []
                },
                "text": "Video available at https://www.bilibili.com/video/\n",
                "stream": "stdout"
              },
              {
                "output_type": "display_data",
                "metadata": {
                  "tags": []
                },
                "text/html": "\n        <iframe\n            width=\"854\"\n            height=\"480\"\n            src=\"https://player.bilibili.com/player.html?bvid=&page=1?fs=1\"\n            frameborder=\"0\"\n            allowfullscreen\n        ></iframe>\n        ",
                "text/plain": "<__main__.BiliVideo at 0x7fee97c45310>"
              }
            ],
            "_view_module": "@jupyter-widgets/output",
            "_model_module_version": "1.0.0",
            "_view_count": null,
            "_view_module_version": "1.0.0",
            "layout": "IPY_MODEL_00f4b606c9554e94840a083afe4a5607",
            "_model_module": "@jupyter-widgets/output"
          }
        },
        "763a1907ad5f41038de7e8992270be96": {
          "model_module": "@jupyter-widgets/base",
          "model_name": "LayoutModel",
          "state": {
            "_view_name": "LayoutView",
            "grid_template_rows": null,
            "right": null,
            "justify_content": null,
            "_view_module": "@jupyter-widgets/base",
            "overflow": null,
            "_model_module_version": "1.2.0",
            "_view_count": null,
            "flex_flow": null,
            "width": null,
            "min_width": null,
            "border": null,
            "align_items": null,
            "bottom": null,
            "_model_module": "@jupyter-widgets/base",
            "top": null,
            "grid_column": null,
            "overflow_y": null,
            "overflow_x": null,
            "grid_auto_flow": null,
            "grid_area": null,
            "grid_template_columns": null,
            "flex": null,
            "_model_name": "LayoutModel",
            "justify_items": null,
            "grid_row": null,
            "max_height": null,
            "align_content": null,
            "visibility": null,
            "align_self": null,
            "height": null,
            "min_height": null,
            "padding": null,
            "grid_auto_rows": null,
            "grid_gap": null,
            "max_width": null,
            "order": null,
            "_view_module_version": "1.2.0",
            "grid_template_areas": null,
            "object_position": null,
            "object_fit": null,
            "grid_auto_columns": null,
            "margin": null,
            "display": null,
            "left": null
          }
        },
        "00f4b606c9554e94840a083afe4a5607": {
          "model_module": "@jupyter-widgets/base",
          "model_name": "LayoutModel",
          "state": {
            "_view_name": "LayoutView",
            "grid_template_rows": null,
            "right": null,
            "justify_content": null,
            "_view_module": "@jupyter-widgets/base",
            "overflow": null,
            "_model_module_version": "1.2.0",
            "_view_count": null,
            "flex_flow": null,
            "width": null,
            "min_width": null,
            "border": null,
            "align_items": null,
            "bottom": null,
            "_model_module": "@jupyter-widgets/base",
            "top": null,
            "grid_column": null,
            "overflow_y": null,
            "overflow_x": null,
            "grid_auto_flow": null,
            "grid_area": null,
            "grid_template_columns": null,
            "flex": null,
            "_model_name": "LayoutModel",
            "justify_items": null,
            "grid_row": null,
            "max_height": null,
            "align_content": null,
            "visibility": null,
            "align_self": null,
            "height": null,
            "min_height": null,
            "padding": null,
            "grid_auto_rows": null,
            "grid_gap": null,
            "max_width": null,
            "order": null,
            "_view_module_version": "1.2.0",
            "grid_template_areas": null,
            "object_position": null,
            "object_fit": null,
            "grid_auto_columns": null,
            "margin": null,
            "display": null,
            "left": null
          }
        },
        "b7fbf756d57f461db91dc661e82e4050": {
          "model_module": "@jupyter-widgets/controls",
          "model_name": "VBoxModel",
          "state": {
            "_view_name": "VBoxView",
            "_dom_classes": [
              "widget-interact"
            ],
            "_model_name": "VBoxModel",
            "_view_module": "@jupyter-widgets/controls",
            "_model_module_version": "1.5.0",
            "_view_count": null,
            "_view_module_version": "1.5.0",
            "box_style": "",
            "layout": "IPY_MODEL_c7884cff83444250a3c8a7ccc4ad8f4f",
            "_model_module": "@jupyter-widgets/controls",
            "children": [
              "IPY_MODEL_3e7371cb8179466796f0efa326386161",
              "IPY_MODEL_62c104d185104c67ad94545ad52a1975",
              "IPY_MODEL_75662e053d9140ec8a94bb528d3e1b30",
              "IPY_MODEL_a2b43f7c8e614f7190d181baccdd64b0"
            ]
          }
        },
        "c7884cff83444250a3c8a7ccc4ad8f4f": {
          "model_module": "@jupyter-widgets/base",
          "model_name": "LayoutModel",
          "state": {
            "_view_name": "LayoutView",
            "grid_template_rows": null,
            "right": null,
            "justify_content": null,
            "_view_module": "@jupyter-widgets/base",
            "overflow": null,
            "_model_module_version": "1.2.0",
            "_view_count": null,
            "flex_flow": null,
            "width": null,
            "min_width": null,
            "border": null,
            "align_items": null,
            "bottom": null,
            "_model_module": "@jupyter-widgets/base",
            "top": null,
            "grid_column": null,
            "overflow_y": null,
            "overflow_x": null,
            "grid_auto_flow": null,
            "grid_area": null,
            "grid_template_columns": null,
            "flex": null,
            "_model_name": "LayoutModel",
            "justify_items": null,
            "grid_row": null,
            "max_height": null,
            "align_content": null,
            "visibility": null,
            "align_self": null,
            "height": null,
            "min_height": null,
            "padding": null,
            "grid_auto_rows": null,
            "grid_gap": null,
            "max_width": null,
            "order": null,
            "_view_module_version": "1.2.0",
            "grid_template_areas": null,
            "object_position": null,
            "object_fit": null,
            "grid_auto_columns": null,
            "margin": null,
            "display": null,
            "left": null
          }
        },
        "3e7371cb8179466796f0efa326386161": {
          "model_module": "@jupyter-widgets/controls",
          "model_name": "IntSliderModel",
          "state": {
            "_view_name": "IntSliderView",
            "style": "IPY_MODEL_6548e6f6d1e94cc98a7e2d5ec3cbf52c",
            "_dom_classes": [],
            "description": "batch_size",
            "step": 5,
            "_model_name": "IntSliderModel",
            "orientation": "horizontal",
            "max": 250,
            "_view_module": "@jupyter-widgets/controls",
            "_model_module_version": "1.5.0",
            "value": 135,
            "_view_count": null,
            "disabled": false,
            "_view_module_version": "1.5.0",
            "min": 25,
            "continuous_update": true,
            "readout_format": "d",
            "description_tooltip": null,
            "readout": true,
            "_model_module": "@jupyter-widgets/controls",
            "layout": "IPY_MODEL_7877c8f656344aff8ffcc0df4147856e"
          }
        },
        "62c104d185104c67ad94545ad52a1975": {
          "model_module": "@jupyter-widgets/controls",
          "model_name": "FloatLogSliderModel",
          "state": {
            "_view_name": "FloatLogSliderView",
            "orientation": "horizontal",
            "_view_module": "@jupyter-widgets/controls",
            "_model_module_version": "1.5.0",
            "_view_count": null,
            "disabled": false,
            "readout_format": ".3g",
            "_model_module": "@jupyter-widgets/controls",
            "style": "IPY_MODEL_ede312e8677d4d519cff5951ec9d8b36",
            "layout": "IPY_MODEL_1db997b94b7b4bcd8dafb767d183406a",
            "min": -5,
            "continuous_update": true,
            "description_tooltip": null,
            "_dom_classes": [],
            "description": "lr",
            "_model_name": "FloatLogSliderModel",
            "max": 0,
            "readout": true,
            "step": 0.1,
            "base": 10,
            "value": 0.002,
            "_view_module_version": "1.5.0"
          }
        },
        "75662e053d9140ec8a94bb528d3e1b30": {
          "model_module": "@jupyter-widgets/controls",
          "model_name": "IntSliderModel",
          "state": {
            "_view_name": "IntSliderView",
            "style": "IPY_MODEL_8dcf7066077549a3a7d32db26d684c54",
            "_dom_classes": [],
            "description": "max_steps",
            "step": 5,
            "_model_name": "IntSliderModel",
            "orientation": "horizontal",
            "max": 500,
            "_view_module": "@jupyter-widgets/controls",
            "_model_module_version": "1.5.0",
            "value": 275,
            "_view_count": null,
            "disabled": false,
            "_view_module_version": "1.5.0",
            "min": 50,
            "continuous_update": true,
            "readout_format": "d",
            "description_tooltip": null,
            "readout": true,
            "_model_module": "@jupyter-widgets/controls",
            "layout": "IPY_MODEL_ea8bf5df1a704277bc1aade0ead01cd2"
          }
        },
        "a2b43f7c8e614f7190d181baccdd64b0": {
          "model_module": "@jupyter-widgets/output",
          "model_name": "OutputModel",
          "state": {
            "_view_name": "OutputView",
            "msg_id": "",
            "_dom_classes": [],
            "_model_name": "OutputModel",
            "outputs": [
              {
                "output_type": "display_data",
                "metadata": {
                  "tags": [],
                  "image/png": {
                    "width": 630,
                    "height": 197
                  },
                  "needs_background": "light"
                },
                "image/png": "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\n",
                "text/plain": "<Figure size 648x216 with 3 Axes>"
              }
            ],
            "_view_module": "@jupyter-widgets/output",
            "_model_module_version": "1.0.0",
            "_view_count": null,
            "_view_module_version": "1.0.0",
            "layout": "IPY_MODEL_d68decb62eb745ddbfebc57d53473893",
            "_model_module": "@jupyter-widgets/output"
          }
        },
        "6548e6f6d1e94cc98a7e2d5ec3cbf52c": {
          "model_module": "@jupyter-widgets/controls",
          "model_name": "SliderStyleModel",
          "state": {
            "_view_name": "StyleView",
            "handle_color": null,
            "_model_name": "SliderStyleModel",
            "description_width": "",
            "_view_module": "@jupyter-widgets/base",
            "_model_module_version": "1.5.0",
            "_view_count": null,
            "_view_module_version": "1.2.0",
            "_model_module": "@jupyter-widgets/controls"
          }
        },
        "7877c8f656344aff8ffcc0df4147856e": {
          "model_module": "@jupyter-widgets/base",
          "model_name": "LayoutModel",
          "state": {
            "_view_name": "LayoutView",
            "grid_template_rows": null,
            "right": null,
            "justify_content": null,
            "_view_module": "@jupyter-widgets/base",
            "overflow": null,
            "_model_module_version": "1.2.0",
            "_view_count": null,
            "flex_flow": null,
            "width": null,
            "min_width": null,
            "border": null,
            "align_items": null,
            "bottom": null,
            "_model_module": "@jupyter-widgets/base",
            "top": null,
            "grid_column": null,
            "overflow_y": null,
            "overflow_x": null,
            "grid_auto_flow": null,
            "grid_area": null,
            "grid_template_columns": null,
            "flex": null,
            "_model_name": "LayoutModel",
            "justify_items": null,
            "grid_row": null,
            "max_height": null,
            "align_content": null,
            "visibility": null,
            "align_self": null,
            "height": null,
            "min_height": null,
            "padding": null,
            "grid_auto_rows": null,
            "grid_gap": null,
            "max_width": null,
            "order": null,
            "_view_module_version": "1.2.0",
            "grid_template_areas": null,
            "object_position": null,
            "object_fit": null,
            "grid_auto_columns": null,
            "margin": null,
            "display": null,
            "left": null
          }
        },
        "ede312e8677d4d519cff5951ec9d8b36": {
          "model_module": "@jupyter-widgets/controls",
          "model_name": "SliderStyleModel",
          "state": {
            "_view_name": "StyleView",
            "handle_color": null,
            "_model_name": "SliderStyleModel",
            "description_width": "",
            "_view_module": "@jupyter-widgets/base",
            "_model_module_version": "1.5.0",
            "_view_count": null,
            "_view_module_version": "1.2.0",
            "_model_module": "@jupyter-widgets/controls"
          }
        },
        "1db997b94b7b4bcd8dafb767d183406a": {
          "model_module": "@jupyter-widgets/base",
          "model_name": "LayoutModel",
          "state": {
            "_view_name": "LayoutView",
            "grid_template_rows": null,
            "right": null,
            "justify_content": null,
            "_view_module": "@jupyter-widgets/base",
            "overflow": null,
            "_model_module_version": "1.2.0",
            "_view_count": null,
            "flex_flow": null,
            "width": null,
            "min_width": null,
            "border": null,
            "align_items": null,
            "bottom": null,
            "_model_module": "@jupyter-widgets/base",
            "top": null,
            "grid_column": null,
            "overflow_y": null,
            "overflow_x": null,
            "grid_auto_flow": null,
            "grid_area": null,
            "grid_template_columns": null,
            "flex": null,
            "_model_name": "LayoutModel",
            "justify_items": null,
            "grid_row": null,
            "max_height": null,
            "align_content": null,
            "visibility": null,
            "align_self": null,
            "height": null,
            "min_height": null,
            "padding": null,
            "grid_auto_rows": null,
            "grid_gap": null,
            "max_width": null,
            "order": null,
            "_view_module_version": "1.2.0",
            "grid_template_areas": null,
            "object_position": null,
            "object_fit": null,
            "grid_auto_columns": null,
            "margin": null,
            "display": null,
            "left": null
          }
        },
        "8dcf7066077549a3a7d32db26d684c54": {
          "model_module": "@jupyter-widgets/controls",
          "model_name": "SliderStyleModel",
          "state": {
            "_view_name": "StyleView",
            "handle_color": null,
            "_model_name": "SliderStyleModel",
            "description_width": "",
            "_view_module": "@jupyter-widgets/base",
            "_model_module_version": "1.5.0",
            "_view_count": null,
            "_view_module_version": "1.2.0",
            "_model_module": "@jupyter-widgets/controls"
          }
        },
        "ea8bf5df1a704277bc1aade0ead01cd2": {
          "model_module": "@jupyter-widgets/base",
          "model_name": "LayoutModel",
          "state": {
            "_view_name": "LayoutView",
            "grid_template_rows": null,
            "right": null,
            "justify_content": null,
            "_view_module": "@jupyter-widgets/base",
            "overflow": null,
            "_model_module_version": "1.2.0",
            "_view_count": null,
            "flex_flow": null,
            "width": null,
            "min_width": null,
            "border": null,
            "align_items": null,
            "bottom": null,
            "_model_module": "@jupyter-widgets/base",
            "top": null,
            "grid_column": null,
            "overflow_y": null,
            "overflow_x": null,
            "grid_auto_flow": null,
            "grid_area": null,
            "grid_template_columns": null,
            "flex": null,
            "_model_name": "LayoutModel",
            "justify_items": null,
            "grid_row": null,
            "max_height": null,
            "align_content": null,
            "visibility": null,
            "align_self": null,
            "height": null,
            "min_height": null,
            "padding": null,
            "grid_auto_rows": null,
            "grid_gap": null,
            "max_width": null,
            "order": null,
            "_view_module_version": "1.2.0",
            "grid_template_areas": null,
            "object_position": null,
            "object_fit": null,
            "grid_auto_columns": null,
            "margin": null,
            "display": null,
            "left": null
          }
        },
        "d68decb62eb745ddbfebc57d53473893": {
          "model_module": "@jupyter-widgets/base",
          "model_name": "LayoutModel",
          "state": {
            "_view_name": "LayoutView",
            "grid_template_rows": null,
            "right": null,
            "justify_content": null,
            "_view_module": "@jupyter-widgets/base",
            "overflow": null,
            "_model_module_version": "1.2.0",
            "_view_count": null,
            "flex_flow": null,
            "width": null,
            "min_width": null,
            "border": null,
            "align_items": null,
            "bottom": null,
            "_model_module": "@jupyter-widgets/base",
            "top": null,
            "grid_column": null,
            "overflow_y": null,
            "overflow_x": null,
            "grid_auto_flow": null,
            "grid_area": null,
            "grid_template_columns": null,
            "flex": null,
            "_model_name": "LayoutModel",
            "justify_items": null,
            "grid_row": null,
            "max_height": null,
            "align_content": null,
            "visibility": null,
            "align_self": null,
            "height": null,
            "min_height": null,
            "padding": null,
            "grid_auto_rows": null,
            "grid_gap": null,
            "max_width": null,
            "order": null,
            "_view_module_version": "1.2.0",
            "grid_template_areas": null,
            "object_position": null,
            "object_fit": null,
            "grid_auto_columns": null,
            "margin": null,
            "display": null,
            "left": null
          }
        },
        "1eabd92247764a49b0ddcc4fbbad7e0f": {
          "model_module": "@jupyter-widgets/controls",
          "model_name": "TabModel",
          "state": {
            "_view_name": "TabView",
            "_dom_classes": [],
            "_titles": {
              "0": "Youtube",
              "1": "Bilibili"
            },
            "_model_name": "TabModel",
            "_view_module": "@jupyter-widgets/controls",
            "selected_index": 0,
            "_model_module_version": "1.5.0",
            "_view_count": null,
            "_view_module_version": "1.5.0",
            "box_style": "",
            "layout": "IPY_MODEL_7bc7f778219542ea9237be4db5b249e8",
            "_model_module": "@jupyter-widgets/controls",
            "children": [
              "IPY_MODEL_0ba6a678cccb4c32a9feb9cd209a37f2",
              "IPY_MODEL_b5fc6f823b324bec877bf4920a767928"
            ]
          }
        },
        "7bc7f778219542ea9237be4db5b249e8": {
          "model_module": "@jupyter-widgets/base",
          "model_name": "LayoutModel",
          "state": {
            "_view_name": "LayoutView",
            "grid_template_rows": null,
            "right": null,
            "justify_content": null,
            "_view_module": "@jupyter-widgets/base",
            "overflow": null,
            "_model_module_version": "1.2.0",
            "_view_count": null,
            "flex_flow": null,
            "width": null,
            "min_width": null,
            "border": null,
            "align_items": null,
            "bottom": null,
            "_model_module": "@jupyter-widgets/base",
            "top": null,
            "grid_column": null,
            "overflow_y": null,
            "overflow_x": null,
            "grid_auto_flow": null,
            "grid_area": null,
            "grid_template_columns": null,
            "flex": null,
            "_model_name": "LayoutModel",
            "justify_items": null,
            "grid_row": null,
            "max_height": null,
            "align_content": null,
            "visibility": null,
            "align_self": null,
            "height": null,
            "min_height": null,
            "padding": null,
            "grid_auto_rows": null,
            "grid_gap": null,
            "max_width": null,
            "order": null,
            "_view_module_version": "1.2.0",
            "grid_template_areas": null,
            "object_position": null,
            "object_fit": null,
            "grid_auto_columns": null,
            "margin": null,
            "display": null,
            "left": null
          }
        },
        "0ba6a678cccb4c32a9feb9cd209a37f2": {
          "model_module": "@jupyter-widgets/output",
          "model_name": "OutputModel",
          "state": {
            "_view_name": "OutputView",
            "msg_id": "",
            "_dom_classes": [],
            "_model_name": "OutputModel",
            "outputs": [
              {
                "output_type": "stream",
                "metadata": {
                  "tags": []
                },
                "text": "Video available at https://youtube.com/watch?v=DP9c13vLiOM\n",
                "stream": "stdout"
              },
              {
                "output_type": "display_data",
                "metadata": {
                  "tags": []
                },
                "text/html": "\n        <iframe\n            width=\"854\"\n            height=\"480\"\n            src=\"https://www.youtube.com/embed/DP9c13vLiOM?fs=1&rel=0\"\n            frameborder=\"0\"\n            allowfullscreen\n        ></iframe>\n        ",
                "text/plain": "<IPython.lib.display.YouTubeVideo at 0x7fee9735f4d0>",
                "image/jpeg": "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\n"
              }
            ],
            "_view_module": "@jupyter-widgets/output",
            "_model_module_version": "1.0.0",
            "_view_count": null,
            "_view_module_version": "1.0.0",
            "layout": "IPY_MODEL_d6b63fa409594bad95a692d0ef49c0ca",
            "_model_module": "@jupyter-widgets/output"
          }
        },
        "b5fc6f823b324bec877bf4920a767928": {
          "model_module": "@jupyter-widgets/output",
          "model_name": "OutputModel",
          "state": {
            "_view_name": "OutputView",
            "msg_id": "",
            "_dom_classes": [],
            "_model_name": "OutputModel",
            "outputs": [
              {
                "output_type": "stream",
                "metadata": {
                  "tags": []
                },
                "text": "Video available at https://www.bilibili.com/video/\n",
                "stream": "stdout"
              },
              {
                "output_type": "display_data",
                "metadata": {
                  "tags": []
                },
                "text/html": "\n        <iframe\n            width=\"854\"\n            height=\"480\"\n            src=\"https://player.bilibili.com/player.html?bvid=&page=1?fs=1\"\n            frameborder=\"0\"\n            allowfullscreen\n        ></iframe>\n        ",
                "text/plain": "<__main__.BiliVideo at 0x7fee96cb4790>"
              }
            ],
            "_view_module": "@jupyter-widgets/output",
            "_model_module_version": "1.0.0",
            "_view_count": null,
            "_view_module_version": "1.0.0",
            "layout": "IPY_MODEL_5fb190187ba3431fb4cf7d1ce02fa843",
            "_model_module": "@jupyter-widgets/output"
          }
        },
        "d6b63fa409594bad95a692d0ef49c0ca": {
          "model_module": "@jupyter-widgets/base",
          "model_name": "LayoutModel",
          "state": {
            "_view_name": "LayoutView",
            "grid_template_rows": null,
            "right": null,
            "justify_content": null,
            "_view_module": "@jupyter-widgets/base",
            "overflow": null,
            "_model_module_version": "1.2.0",
            "_view_count": null,
            "flex_flow": null,
            "width": null,
            "min_width": null,
            "border": null,
            "align_items": null,
            "bottom": null,
            "_model_module": "@jupyter-widgets/base",
            "top": null,
            "grid_column": null,
            "overflow_y": null,
            "overflow_x": null,
            "grid_auto_flow": null,
            "grid_area": null,
            "grid_template_columns": null,
            "flex": null,
            "_model_name": "LayoutModel",
            "justify_items": null,
            "grid_row": null,
            "max_height": null,
            "align_content": null,
            "visibility": null,
            "align_self": null,
            "height": null,
            "min_height": null,
            "padding": null,
            "grid_auto_rows": null,
            "grid_gap": null,
            "max_width": null,
            "order": null,
            "_view_module_version": "1.2.0",
            "grid_template_areas": null,
            "object_position": null,
            "object_fit": null,
            "grid_auto_columns": null,
            "margin": null,
            "display": null,
            "left": null
          }
        },
        "5fb190187ba3431fb4cf7d1ce02fa843": {
          "model_module": "@jupyter-widgets/base",
          "model_name": "LayoutModel",
          "state": {
            "_view_name": "LayoutView",
            "grid_template_rows": null,
            "right": null,
            "justify_content": null,
            "_view_module": "@jupyter-widgets/base",
            "overflow": null,
            "_model_module_version": "1.2.0",
            "_view_count": null,
            "flex_flow": null,
            "width": null,
            "min_width": null,
            "border": null,
            "align_items": null,
            "bottom": null,
            "_model_module": "@jupyter-widgets/base",
            "top": null,
            "grid_column": null,
            "overflow_y": null,
            "overflow_x": null,
            "grid_auto_flow": null,
            "grid_area": null,
            "grid_template_columns": null,
            "flex": null,
            "_model_name": "LayoutModel",
            "justify_items": null,
            "grid_row": null,
            "max_height": null,
            "align_content": null,
            "visibility": null,
            "align_self": null,
            "height": null,
            "min_height": null,
            "padding": null,
            "grid_auto_rows": null,
            "grid_gap": null,
            "max_width": null,
            "order": null,
            "_view_module_version": "1.2.0",
            "grid_template_areas": null,
            "object_position": null,
            "object_fit": null,
            "grid_auto_columns": null,
            "margin": null,
            "display": null,
            "left": null
          }
        },
        "57625c511e354e7fbd64199fdbfa04de": {
          "model_module": "@jupyter-widgets/controls",
          "model_name": "TabModel",
          "state": {
            "_view_name": "TabView",
            "_dom_classes": [],
            "_titles": {
              "0": "Youtube",
              "1": "Bilibili"
            },
            "_model_name": "TabModel",
            "_view_module": "@jupyter-widgets/controls",
            "selected_index": 0,
            "_model_module_version": "1.5.0",
            "_view_count": null,
            "_view_module_version": "1.5.0",
            "box_style": "",
            "layout": "IPY_MODEL_22ee2a2f5faa47428c9554e148524f6e",
            "_model_module": "@jupyter-widgets/controls",
            "children": [
              "IPY_MODEL_7af8f98fa6ac4249b62448a52909059b",
              "IPY_MODEL_4e8e32b1bf024f92a7cf282eb17d6ce7"
            ]
          }
        },
        "22ee2a2f5faa47428c9554e148524f6e": {
          "model_module": "@jupyter-widgets/base",
          "model_name": "LayoutModel",
          "state": {
            "_view_name": "LayoutView",
            "grid_template_rows": null,
            "right": null,
            "justify_content": null,
            "_view_module": "@jupyter-widgets/base",
            "overflow": null,
            "_model_module_version": "1.2.0",
            "_view_count": null,
            "flex_flow": null,
            "width": null,
            "min_width": null,
            "border": null,
            "align_items": null,
            "bottom": null,
            "_model_module": "@jupyter-widgets/base",
            "top": null,
            "grid_column": null,
            "overflow_y": null,
            "overflow_x": null,
            "grid_auto_flow": null,
            "grid_area": null,
            "grid_template_columns": null,
            "flex": null,
            "_model_name": "LayoutModel",
            "justify_items": null,
            "grid_row": null,
            "max_height": null,
            "align_content": null,
            "visibility": null,
            "align_self": null,
            "height": null,
            "min_height": null,
            "padding": null,
            "grid_auto_rows": null,
            "grid_gap": null,
            "max_width": null,
            "order": null,
            "_view_module_version": "1.2.0",
            "grid_template_areas": null,
            "object_position": null,
            "object_fit": null,
            "grid_auto_columns": null,
            "margin": null,
            "display": null,
            "left": null
          }
        },
        "7af8f98fa6ac4249b62448a52909059b": {
          "model_module": "@jupyter-widgets/output",
          "model_name": "OutputModel",
          "state": {
            "_view_name": "OutputView",
            "msg_id": "",
            "_dom_classes": [],
            "_model_name": "OutputModel",
            "outputs": [
              {
                "output_type": "stream",
                "metadata": {
                  "tags": []
                },
                "text": "Video available at https://youtube.com/watch?v=0EthSI0cknI\n",
                "stream": "stdout"
              },
              {
                "output_type": "display_data",
                "metadata": {
                  "tags": []
                },
                "text/html": "\n        <iframe\n            width=\"854\"\n            height=\"480\"\n            src=\"https://www.youtube.com/embed/0EthSI0cknI?fs=1&rel=0\"\n            frameborder=\"0\"\n            allowfullscreen\n        ></iframe>\n        ",
                "text/plain": "<IPython.lib.display.YouTubeVideo at 0x7fee97333150>",
                "image/jpeg": "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\n"
              }
            ],
            "_view_module": "@jupyter-widgets/output",
            "_model_module_version": "1.0.0",
            "_view_count": null,
            "_view_module_version": "1.0.0",
            "layout": "IPY_MODEL_3d8c73f1760041e98fe50afcd391951a",
            "_model_module": "@jupyter-widgets/output"
          }
        },
        "4e8e32b1bf024f92a7cf282eb17d6ce7": {
          "model_module": "@jupyter-widgets/output",
          "model_name": "OutputModel",
          "state": {
            "_view_name": "OutputView",
            "msg_id": "",
            "_dom_classes": [],
            "_model_name": "OutputModel",
            "outputs": [
              {
                "output_type": "stream",
                "metadata": {
                  "tags": []
                },
                "text": "Video available at https://www.bilibili.com/video/\n",
                "stream": "stdout"
              },
              {
                "output_type": "display_data",
                "metadata": {
                  "tags": []
                },
                "text/html": "\n        <iframe\n            width=\"854\"\n            height=\"480\"\n            src=\"https://player.bilibili.com/player.html?bvid=&page=1?fs=1\"\n            frameborder=\"0\"\n            allowfullscreen\n        ></iframe>\n        ",
                "text/plain": "<__main__.BiliVideo at 0x7fee949d5fd0>"
              }
            ],
            "_view_module": "@jupyter-widgets/output",
            "_model_module_version": "1.0.0",
            "_view_count": null,
            "_view_module_version": "1.0.0",
            "layout": "IPY_MODEL_10924a50f2884247b258f8a92b2f2aca",
            "_model_module": "@jupyter-widgets/output"
          }
        },
        "3d8c73f1760041e98fe50afcd391951a": {
          "model_module": "@jupyter-widgets/base",
          "model_name": "LayoutModel",
          "state": {
            "_view_name": "LayoutView",
            "grid_template_rows": null,
            "right": null,
            "justify_content": null,
            "_view_module": "@jupyter-widgets/base",
            "overflow": null,
            "_model_module_version": "1.2.0",
            "_view_count": null,
            "flex_flow": null,
            "width": null,
            "min_width": null,
            "border": null,
            "align_items": null,
            "bottom": null,
            "_model_module": "@jupyter-widgets/base",
            "top": null,
            "grid_column": null,
            "overflow_y": null,
            "overflow_x": null,
            "grid_auto_flow": null,
            "grid_area": null,
            "grid_template_columns": null,
            "flex": null,
            "_model_name": "LayoutModel",
            "justify_items": null,
            "grid_row": null,
            "max_height": null,
            "align_content": null,
            "visibility": null,
            "align_self": null,
            "height": null,
            "min_height": null,
            "padding": null,
            "grid_auto_rows": null,
            "grid_gap": null,
            "max_width": null,
            "order": null,
            "_view_module_version": "1.2.0",
            "grid_template_areas": null,
            "object_position": null,
            "object_fit": null,
            "grid_auto_columns": null,
            "margin": null,
            "display": null,
            "left": null
          }
        },
        "10924a50f2884247b258f8a92b2f2aca": {
          "model_module": "@jupyter-widgets/base",
          "model_name": "LayoutModel",
          "state": {
            "_view_name": "LayoutView",
            "grid_template_rows": null,
            "right": null,
            "justify_content": null,
            "_view_module": "@jupyter-widgets/base",
            "overflow": null,
            "_model_module_version": "1.2.0",
            "_view_count": null,
            "flex_flow": null,
            "width": null,
            "min_width": null,
            "border": null,
            "align_items": null,
            "bottom": null,
            "_model_module": "@jupyter-widgets/base",
            "top": null,
            "grid_column": null,
            "overflow_y": null,
            "overflow_x": null,
            "grid_auto_flow": null,
            "grid_area": null,
            "grid_template_columns": null,
            "flex": null,
            "_model_name": "LayoutModel",
            "justify_items": null,
            "grid_row": null,
            "max_height": null,
            "align_content": null,
            "visibility": null,
            "align_self": null,
            "height": null,
            "min_height": null,
            "padding": null,
            "grid_auto_rows": null,
            "grid_gap": null,
            "max_width": null,
            "order": null,
            "_view_module_version": "1.2.0",
            "grid_template_areas": null,
            "object_position": null,
            "object_fit": null,
            "grid_auto_columns": null,
            "margin": null,
            "display": null,
            "left": null
          }
        }
      }
    }
  },
  "cells": [
    {
      "cell_type": "markdown",
      "metadata": {
        "id": "view-in-github",
        "colab_type": "text"
      },
      "source": [
        "<a href=\"https://colab.research.google.com/github/NeuromatchAcademy/course-content-dl/blob/w1d4_updates/tutorials/W1D4_Optimization/W1D4_Tutorial1.ipynb\" target=\"_parent\"><img src=\"https://colab.research.google.com/assets/colab-badge.svg\" alt=\"Open In Colab\"/></a>"
      ]
    },
    {
      "cell_type": "markdown",
      "metadata": {
        "id": "RJR5gVHXc2Qr"
      },
      "source": [
        "# Tutorial 1: Optimization techniques\n",
        "**Week 1, Day 4: Optimization**\n",
        "\n",
        "**By Neuromatch Academy**\n",
        "\n",
        "__Content creators:__ Jose Gallego-Posada, Ioannis Mitliagkas\n",
        "\n",
        "__Content reviewers:__ Piyush Chauhan, Vladimir Haltakov\n",
        "\n",
        "__Content editors:__ Gagana B\n",
        "\n",
        "__Production editors:__ Arush Tagade, Spiros Chavlis"
      ]
    },
    {
      "cell_type": "markdown",
      "metadata": {
        "id": "XYOC1SvMlYOS"
      },
      "source": [
        "**Our 2021 Sponsors, including Presenting Sponsor Facebook Reality Labs**\n",
        "\n",
        "<p align='center'><img src='https://github.com/NeuromatchAcademy/widgets/blob/master/sponsors.png?raw=True'/></p>"
      ]
    },
    {
      "cell_type": "markdown",
      "metadata": {
        "id": "p6_5q5Gkc2Qs"
      },
      "source": [
        "---\n",
        "# Tutorial Objectives\n",
        "\n",
        "Objectives:\n",
        "*   Necessity and importance of Optimization\n",
        "*   Introduction to commonly used optimization techniques\n",
        "*   Optimization in non-convex loss landscapes \n",
        "*   'Adaptive' hyperparameter tuning \n",
        "*   Ethical concerns\n",
        "\n"
      ]
    },
    {
      "cell_type": "code",
      "metadata": {
        "id": "YdA3Iq9um1ME",
        "colab": {
          "base_uri": "https://localhost:8080/",
          "height": 590
        },
        "cellView": "form",
        "outputId": "fc43f06b-6451-4f6f-bd08-cb3e2e2ce563"
      },
      "source": [
        "#@markdown Tutorial slides\n",
        "# you should link the slides for all tutorial videos here (we will store pdfs on osf)\n",
        "\n",
        "from IPython.display import HTML\n",
        "HTML('<iframe src=\"https://docs.google.com/presentation/d/1dkvaSDB-0PeaVHWKW7xHd6z2pIqjNUN2JG_EQ6P0L9o/embed?start=false&loop=false&delayms=3000\" frameborder=\"0\" width=\"960\" height=\"569\" allowfullscreen=\"true\" mozallowfullscreen=\"true\" webkitallowfullscreen=\"true\"></iframe>')"
      ],
      "execution_count": 1,
      "outputs": [
        {
          "output_type": "execute_result",
          "data": {
            "text/html": [
              "<iframe src=\"https://docs.google.com/presentation/d/1dkvaSDB-0PeaVHWKW7xHd6z2pIqjNUN2JG_EQ6P0L9o/embed?start=false&loop=false&delayms=3000\" frameborder=\"0\" width=\"960\" height=\"569\" allowfullscreen=\"true\" mozallowfullscreen=\"true\" webkitallowfullscreen=\"true\"></iframe>"
            ],
            "text/plain": [
              "<IPython.core.display.HTML object>"
            ]
          },
          "metadata": {
            "tags": []
          },
          "execution_count": 1
        }
      ]
    },
    {
      "cell_type": "markdown",
      "metadata": {
        "id": "QIi8o7uRc2Qu"
      },
      "source": [
        "---\n",
        "# Setup"
      ]
    },
    {
      "cell_type": "code",
      "metadata": {
        "id": "ncGp1plVc2Qv"
      },
      "source": [
        "# Imports\n",
        "from __future__ import print_function\n",
        "\n",
        "import io\n",
        "import time\n",
        "import copy\n",
        "import torch\n",
        "import requests\n",
        "import torchvision\n",
        "\n",
        "import numpy as np\n",
        "import ipywidgets as widgets\n",
        "import matplotlib.pyplot as plt\n",
        "\n",
        "from urllib.request import urlopen\n",
        "from collections import defaultdict\n",
        "\n",
        "import torch.nn as nn\n",
        "import torch.optim as optim\n",
        "import torch.nn.functional as F\n",
        "import torchvision.datasets as datasets"
      ],
      "execution_count": 2,
      "outputs": []
    },
    {
      "cell_type": "code",
      "metadata": {
        "id": "ZBV0AjyZc2Qw",
        "cellView": "form"
      },
      "source": [
        "#@title Figure settings\n",
        "import ipywidgets as widgets       # interactive display\n",
        "%config InlineBackend.figure_format = 'retina'\n",
        "plt.style.use(\"https://raw.githubusercontent.com/NeuromatchAcademy/content-creation/master/nma.mplstyle\")\n",
        "plt.rc('axes', unicode_minus=False)"
      ],
      "execution_count": 3,
      "outputs": []
    },
    {
      "cell_type": "code",
      "metadata": {
        "id": "usA892Irc2Qw",
        "cellView": "form"
      },
      "source": [
        "#@title Set random seed\n",
        "\n",
        "#@markdown Executing `set_seed(seed=seed)` you are setting the seed\n",
        "\n",
        "# for DL its critical to set the random seed so that students can have a\n",
        "# baseline to compare their results to expected results.\n",
        "# Read more here: https://pytorch.org/docs/stable/notes/randomness.html\n",
        "\n",
        "# Call `set_seed` function in the exercises to ensure reproducibility.\n",
        "import random\n",
        "import torch\n",
        "\n",
        "def set_seed(seed=None, seed_torch=True):\n",
        "  if seed is None:\n",
        "    seed = np.random.choice(2 ** 32)\n",
        "  random.seed(seed)\n",
        "  np.random.seed(seed)\n",
        "  if seed_torch:\n",
        "    torch.manual_seed(seed)\n",
        "    torch.cuda.manual_seed_all(seed)\n",
        "    torch.cuda.manual_seed(seed)\n",
        "    torch.backends.cudnn.benchmark = False\n",
        "    torch.backends.cudnn.deterministic = True\n",
        "\n",
        "  print(f'Random seed {seed} has been set.')\n",
        "\n",
        "\n",
        "# In case that `DataLoader` is used\n",
        "def seed_worker(worker_id):\n",
        "  worker_seed = torch.initial_seed() % 2**32\n",
        "  np.random.seed(worker_seed)\n",
        "  random.seed(worker_seed)"
      ],
      "execution_count": 4,
      "outputs": []
    },
    {
      "cell_type": "code",
      "metadata": {
        "cellView": "form",
        "id": "-l7e9wUBmgZ-"
      },
      "source": [
        "#@title Set device (GPU or CPU). Execute `set_device()`\n",
        "# especially if torch modules used.\n",
        "\n",
        "# inform the user if the notebook uses GPU or CPU.\n",
        "\n",
        "def set_device():\n",
        "  device = \"cuda\" if torch.cuda.is_available() else \"cpu\"\n",
        "  if device != \"cuda\":\n",
        "    print(\"WARNING: For this notebook to perform best, \"\n",
        "        \"if possible, in the menu under `Runtime` -> \"\n",
        "        \"`Change runtime type.`  select `GPU` \")\n",
        "  else:\n",
        "    print(\"GPU is enabled in this notebook.\")\n",
        "\n",
        "  return device"
      ],
      "execution_count": 5,
      "outputs": []
    },
    {
      "cell_type": "code",
      "metadata": {
        "id": "Ns4YC90OnaT1",
        "colab": {
          "base_uri": "https://localhost:8080/",
          "height": 69
        },
        "outputId": "8bf80ad0-412a-4495-8f6b-c072bb4a34f6"
      },
      "source": [
        "SEED = 31051832  # random seed\n",
        "set_seed(seed=SEED, seed_torch=True)  # set the seed\n",
        "set_device()  # choose device"
      ],
      "execution_count": 6,
      "outputs": [
        {
          "output_type": "stream",
          "text": [
            "Random seed 31051832 has been set.\n",
            "GPU is enabled in this notebook.\n"
          ],
          "name": "stdout"
        },
        {
          "output_type": "execute_result",
          "data": {
            "application/vnd.google.colaboratory.intrinsic+json": {
              "type": "string"
            },
            "text/plain": [
              "'cuda'"
            ]
          },
          "metadata": {
            "tags": []
          },
          "execution_count": 6
        }
      ]
    },
    {
      "cell_type": "markdown",
      "metadata": {
        "id": "Dtm28c-5c2Qx"
      },
      "source": [
        "--- \n",
        "\n",
        "# Section 1. Introduction"
      ]
    },
    {
      "cell_type": "code",
      "metadata": {
        "id": "lXl7BY89c2Qy",
        "cellView": "form",
        "colab": {
          "base_uri": "https://localhost:8080/",
          "height": 579,
          "referenced_widgets": [
            "2974e24bb2dd4586a0377c75033899ae",
            "2c3fad977e884539935d009d8358f2bc",
            "bb6ec8419333483c99186bf03961c310",
            "7864149b467046eda1392244aed2e106",
            "bbd6ecaadf3949b183d7bca3e1c91994",
            "2f024a54a5664e38b1b3139dcc7f8bdf"
          ]
        },
        "outputId": "acb2b095-2097-4e80-9088-8922230c860f"
      },
      "source": [
        "#@title Video 1: Introduction\n",
        "# Insert the ID of the corresponding youtube video\n",
        "from ipywidgets import widgets\n",
        "\n",
        "out2 = widgets.Output()\n",
        "with out2:\n",
        "  from IPython.display import IFrame\n",
        "  class BiliVideo(IFrame):\n",
        "    def __init__(self, id, page=1, width=400, height=300, **kwargs):\n",
        "      self.id=id\n",
        "      src = \"https://player.bilibili.com/player.html?bvid={0}&page={1}\".format(id, page)\n",
        "      super(BiliVideo, self).__init__(src, width, height, **kwargs)\n",
        "\n",
        "  video = BiliVideo(id=f\"\", width=854, height=480, fs=1)\n",
        "  print(\"Video available at https://www.bilibili.com/video/{0}\".format(video.id))\n",
        "  display(video)\n",
        "\n",
        "out1 = widgets.Output()\n",
        "with out1:\n",
        "  from IPython.display import YouTubeVideo\n",
        "  video = YouTubeVideo(id=f\"zm9oekdkJbQ\", width=854, height=480, fs=1, rel=0)\n",
        "  print(\"Video available at https://youtube.com/watch?v=\" + video.id)\n",
        "  display(video)\n",
        "\n",
        "out = widgets.Tab([out1, out2])\n",
        "out.set_title(0, 'Youtube')\n",
        "out.set_title(1, 'Bilibili')\n",
        "\n",
        "display(out)"
      ],
      "execution_count": 7,
      "outputs": [
        {
          "output_type": "display_data",
          "data": {
            "application/vnd.jupyter.widget-view+json": {
              "model_id": "2974e24bb2dd4586a0377c75033899ae",
              "version_minor": 0,
              "version_major": 2
            },
            "text/plain": [
              "Tab(children=(Output(), Output()), _titles={'0': 'Youtube', '1': 'Bilibili'})"
            ]
          },
          "metadata": {
            "tags": []
          }
        }
      ]
    },
    {
      "cell_type": "markdown",
      "metadata": {
        "id": "Sic9lIMTw8va"
      },
      "source": [
        "### Think!\n",
        "\n",
        "Can you think of examples from your own experience/life where poorly chosen incentives or objectives have lead to unexpected consequences?"
      ]
    },
    {
      "cell_type": "code",
      "metadata": {
        "id": "sNz4gfwTu_KZ"
      },
      "source": [
        "#to_remove explanation\n",
        "\n",
        "\"\"\"\n",
        "Example 1: The 20th-century paleontologist G. H. R. von Koenigswald used to pay\n",
        "Javanese locals for each fragment of hominin skull that they produced.\n",
        "He later discovered that the people had been breaking up whole skulls into smaller\n",
        "pieces to maximise their payments. \n",
        "Wikepedia: https://en.wikipedia.org/wiki/Perverse_incentive\n",
        "\n",
        "Example 2: With the aim of improving the US performance in OECD rankings,\n",
        "a congressperson introduced 'The Geometric Simplification Act' in 2011, \n",
        "declaring the Euclidean mathematical constant $\\pi$ to be precisely 3.\n",
        "Huffington Post: https://www.huffpost.com/entry/republicans-introduce-leg_b_837828\n",
        "\n",
        "You can find more examples at: https://en.wikipedia.org/wiki/Perverse_incentive \n",
        "\"\"\";"
      ],
      "execution_count": 8,
      "outputs": []
    },
    {
      "cell_type": "markdown",
      "metadata": {
        "id": "xYp8aXaoc2Qy"
      },
      "source": [
        "---\n",
        "\n",
        "# Section 2: Case study: successfully training an MLP for image classification\n",
        "\n",
        "Many of the core ideas (and tricks) in modern optimization for deep learning can be illustrated in the simple setting of training an MLP to solve an image classification task. In this tutorial we will guide you through the key challenges that arise when optimizing high-dimensional, non-convex problems. We will use these challenges to motivate and explain some commonly used solutions.\n",
        "\n",
        "**Disclaimer:** Some of the functions you will code in this tutorial are already implemented in Pytorch and many other libraries. For pedagogical reasons, we decided to bring these simple coding tasks into the spotlight and place a relatively higher emphasis in your understanding of the algorithms, rather than the use of a specific library. \n",
        "\n",
        "In 'day-to-day' research projects you will likely to rely on the community-vetted, optimized libraries rather than the 'manual implementations' you will write today. In Section 8 you will have a chance to 'put it all together' and use the full power of Pytorch to tune the parameters of an MLP to classify handwritten digits.    \n"
      ]
    },
    {
      "cell_type": "code",
      "metadata": {
        "id": "FvofJZGWc2Qz",
        "cellView": "form",
        "colab": {
          "base_uri": "https://localhost:8080/",
          "height": 579,
          "referenced_widgets": [
            "82b3e28dbb884d029d2c20720a61e68a",
            "636272ba455140f5b8b23e33b428b6cb",
            "4dd4b9de8f39467aa6b94e9df52340d0",
            "917d9e042b60474d9fe2ad60d2dbca69",
            "d110783e34094166a6e66a4a54858270",
            "80fe3eebcd8a480380ee39c7a1f9da36"
          ]
        },
        "outputId": "9fd4f6b1-5c82-4195-f141-925133d04af3"
      },
      "source": [
        "#@title Video 2: Case Study - MLP Classification\n",
        "# Insert the ID of the corresponding youtube video\n",
        "from ipywidgets import widgets\n",
        "\n",
        "out2 = widgets.Output()\n",
        "with out2:\n",
        "  from IPython.display import IFrame\n",
        "  class BiliVideo(IFrame):\n",
        "    def __init__(self, id, page=1, width=400, height=300, **kwargs):\n",
        "      self.id=id\n",
        "      src = \"https://player.bilibili.com/player.html?bvid={0}&page={1}\".format(id, page)\n",
        "      super(BiliVideo, self).__init__(src, width, height, **kwargs)\n",
        "\n",
        "  video = BiliVideo(id=f\"\", width=854, height=480, fs=1)\n",
        "  print(\"Video available at https://www.bilibili.com/video/{0}\".format(video.id))\n",
        "  display(video)\n",
        "\n",
        "out1 = widgets.Output()\n",
        "with out1:\n",
        "  from IPython.display import YouTubeVideo\n",
        "  video = YouTubeVideo(id=f\"pJc2ENhYbqA\", width=854, height=480, fs=1, rel=0)\n",
        "  print(\"Video available at https://youtube.com/watch?v=\" + video.id)\n",
        "  display(video)\n",
        "\n",
        "out = widgets.Tab([out1, out2])\n",
        "out.set_title(0, 'Youtube')\n",
        "out.set_title(1, 'Bilibili')\n",
        "\n",
        "display(out)"
      ],
      "execution_count": 9,
      "outputs": [
        {
          "output_type": "display_data",
          "data": {
            "application/vnd.jupyter.widget-view+json": {
              "model_id": "82b3e28dbb884d029d2c20720a61e68a",
              "version_minor": 0,
              "version_major": 2
            },
            "text/plain": [
              "Tab(children=(Output(), Output()), _titles={'0': 'Youtube', '1': 'Bilibili'})"
            ]
          },
          "metadata": {
            "tags": []
          }
        }
      ]
    },
    {
      "cell_type": "markdown",
      "metadata": {
        "id": "YIq446ECc2Qz"
      },
      "source": [
        "## Section 2.1: Data\n",
        "\n",
        "We will use the MNIST dataset of handwritten digits. We load the data via the Pytorch `datasets` module, as you learned in W1D1.   \n"
      ]
    },
    {
      "cell_type": "code",
      "metadata": {
        "id": "quyI7Pm-c2Q0",
        "colab": {
          "base_uri": "https://localhost:8080/"
        },
        "outputId": "0f824979-99de-489a-e273-ae627d70dac5"
      },
      "source": [
        "def load_mnist_data(change_tensors=False, download=True):\n",
        "  \"\"\"Load training and test examples for the MNIST digits dataset\n",
        "\n",
        "  Returns:\n",
        "    train_data (tensor): training input tensor of size (train_size x 784)\n",
        "    train_target (tensor): training 0-9 integer label tensor of size (train_size)\n",
        "    test_data (tensor): test input tensor of size (70k-train_size x 784)\n",
        "    test_target (tensor): training 0-9 integer label tensor of size (70k-train_size)\n",
        "\n",
        "  \"\"\"\n",
        "  # Load train and test sets\n",
        "  train_set = datasets.MNIST(root='./data', train=True, download=download,\n",
        "                             transform=torchvision.transforms.ToTensor())\n",
        "  test_set = datasets.MNIST(root='./data', train=False, download=download,\n",
        "                            transform=torchvision.transforms.ToTensor())\n",
        "\n",
        "  # Original data is in range [0, 255]. We normalize the data wrt its mean and std_dev.\n",
        "  ## Note that we only used *training set* information to compute mean and std\n",
        "  mean = train_set.data.float().mean()\n",
        "  std = train_set.data.float().std()\n",
        "\n",
        "  if change_tensors:\n",
        "    # Apply normalization directly to the tensors containing the dataset\n",
        "    train_set.data = (train_set.data.float() - mean) / std\n",
        "    test_set.data = (test_set.data.float() - mean) / std\n",
        "  else:\n",
        "    tform = torchvision.transforms.Compose([torchvision.transforms.ToTensor(),\n",
        "                                            torchvision.transforms.Normalize(mean=[mean/255.], std=[std/255.])\n",
        "                                            ])\n",
        "    train_set = datasets.MNIST(root='./data', train=True, download=True,\n",
        "                               transform=tform)\n",
        "    test_set = datasets.MNIST(root='./data', train=False, download=True,\n",
        "                              transform=tform)\n",
        "\n",
        "  return train_set, test_set\n",
        "\n",
        "\n",
        "train_set, test_set = load_mnist_data(change_tensors=True)"
      ],
      "execution_count": 10,
      "outputs": [
        {
          "output_type": "stream",
          "text": [
            "/usr/local/lib/python3.7/dist-packages/torchvision/datasets/mnist.py:498: UserWarning: The given NumPy array is not writeable, and PyTorch does not support non-writeable tensors. This means you can write to the underlying (supposedly non-writeable) NumPy array using the tensor. You may want to copy the array to protect its data or make it writeable before converting it to a tensor. This type of warning will be suppressed for the rest of this program. (Triggered internally at  /pytorch/torch/csrc/utils/tensor_numpy.cpp:180.)\n",
            "  return torch.from_numpy(parsed.astype(m[2], copy=False)).view(*s)\n"
          ],
          "name": "stderr"
        }
      ]
    },
    {
      "cell_type": "markdown",
      "metadata": {
        "id": "G6pKszwbc2Q0"
      },
      "source": [
        "As we are just getting started, we will concentrate on a small subset of only 500 examples out of the 60.000 data points contained in the whole training set.\n",
        "\n"
      ]
    },
    {
      "cell_type": "code",
      "metadata": {
        "id": "Gtg8Ggslc2Q2"
      },
      "source": [
        "# Sample a random subset of 500 indices\n",
        "subset_index = np.random.choice(len(train_set.data), 500)\n",
        "\n",
        "# We will use these symbols to represent the training data and labels, to stay\n",
        "# as close to the mathematical expressions as possible.\n",
        "X, y = train_set.data[subset_index, :], train_set.targets[subset_index]"
      ],
      "execution_count": 11,
      "outputs": []
    },
    {
      "cell_type": "markdown",
      "metadata": {
        "id": "mRtGUfR5x4vl"
      },
      "source": [
        "Run the following cell to visualize the content of three examples in our training set. Note how the pre-processing we applied to the data changes the range of pixel values after normalization.\n"
      ]
    },
    {
      "cell_type": "code",
      "metadata": {
        "colab": {
          "base_uri": "https://localhost:8080/",
          "height": 374
        },
        "cellView": "form",
        "id": "YaNFSazOx11f",
        "outputId": "52140adf-b11c-401e-b13c-a9e8334d8302"
      },
      "source": [
        "#@title Run me!\n",
        "num_figures = 3\n",
        "fig, axs = plt.subplots(1, num_figures, figsize=(5 * num_figures, 5))\n",
        "\n",
        "for sample_id, ax in enumerate(axs):\n",
        "  # Plot the pixel values for each image\n",
        "  ax.matshow(X[sample_id, :], cmap='gray_r')\n",
        "  # 'Write' the pixel value in the corresponding location\n",
        "  for (i, j), z in np.ndenumerate(X[sample_id, :]):\n",
        "    text = '{:.1f}'.format(z)\n",
        "    ax.text(j, i, text, ha='center',\n",
        "            va='center', fontsize=6, c='steelblue')\n",
        "\n",
        "  ax.set_title('Label: ' + str(y[sample_id].item()))\n",
        "  ax.axis('off')\n",
        "\n",
        "plt.show()"
      ],
      "execution_count": 12,
      "outputs": [
        {
          "output_type": "display_data",
          "data": {
            "image/png": "[encoded data removed]",
            "text/plain": [
              "<Figure size 1080x360 with 3 Axes>"
            ]
          },
          "metadata": {
            "tags": [],
            "image/png": {
              "width": 1032,
              "height": 357
            },
            "needs_background": "light"
          }
        }
      ]
    },
    {
      "cell_type": "markdown",
      "metadata": {
        "id": "RLgtlTS8c2Q4"
      },
      "source": [
        "## Section 2.2: Model\n",
        "\n",
        "As you will see next week, there are specific model architectures that are better suited to image-like data, such as Convolutional Neural Networks (CNNs). For simplicity, in this tutorial we will focus exclusively on Multi-Layer Perceptron (MLP) models as they allow us to highlight many important optimization challenges shared with more advanced neural network designs."
      ]
    },
    {
      "cell_type": "code",
      "metadata": {
        "id": "AAvqpoZkc2Q5"
      },
      "source": [
        "class MLP(nn.Module):\n",
        "  \"\"\" This class implements MLPs in Pytorch of an arbitrary number of hidden\n",
        "  layers of potentially different sizes. Since we concentrate on classification\n",
        "  tasks in this tutorial, we have a log_softmax layer at prediction time.\n",
        "  \"\"\"\n",
        "\n",
        "  def __init__(self, in_dim=784, out_dim=10, hidden_dims=[], use_bias=True):\n",
        "    \"\"\"Constructs a MultiLayerPerceptron\n",
        "\n",
        "    Args:\n",
        "        in_dim (int): dimensionality of input data\n",
        "        out_dim (int): number of classes\n",
        "        hidden_dims (list): contains the dimensions of the hidden layers, an empty\n",
        "            list corresponds to a linear model (in_dim, out_dim)\n",
        "    \"\"\"\n",
        "\n",
        "    super(MLP, self).__init__()\n",
        "\n",
        "    self.in_dim = in_dim\n",
        "    self.out_dim = out_dim\n",
        "\n",
        "    # If we have no hidden layer, just initialize a linear model (e.g. in logistic regression)\n",
        "    if len(hidden_dims) == 0:\n",
        "      layers = [nn.Linear(in_dim, out_dim, bias=use_bias)]\n",
        "    else:\n",
        "      # 'Actual' MLP with dimensions in_dim - num_hidden_layers*[hidden_dim] - out_dim\n",
        "      layers = [nn.Linear(in_dim, hidden_dims[0], bias=use_bias), nn.ReLU()]\n",
        "\n",
        "      # Loop until before the last layer\n",
        "      for hl_id in range(len(hidden_dims) - 1):\n",
        "          layers += [nn.Linear(hidden_dims[hl_id], hidden_dims[hl_id+1],\n",
        "                               bias=use_bias), nn.ReLU()]\n",
        "\n",
        "      # Add final layer to the number of classes\n",
        "      layers.append(nn.Linear(hidden_dims[-1], out_dim, bias=use_bias))\n",
        "\n",
        "    self.main = nn.Sequential(*layers)\n",
        "\n",
        "  def forward(self, x):\n",
        "    # Flatten the images into 'vectors'\n",
        "    x = x.view(-1, self.in_dim)\n",
        "    x = self.main(x)\n",
        "    output = F.log_softmax(x, dim=1)\n",
        "    return output"
      ],
      "execution_count": 13,
      "outputs": []
    },
    {
      "cell_type": "markdown",
      "metadata": {
        "id": "PURifMLMc2Q5"
      },
      "source": [
        "Linear models constitute a very special kind of MLPs: they are equivalent to an MLP with *zero* hidden layers. This is simply an affine transformation, in other words a 'linear' map $W x$ with an 'offset' $b$; followed by a softmax function.\n",
        "\n",
        "$$f(x) = \\text{softmax}(W x + b)$$\n",
        "\n",
        "Here $x \\in \\mathbb{R}^{784}$, $W \\in \\mathbb{R}^{10 \\times 784}$ and $b \\in \\mathbb{R}^{10}$."
      ]
    },
    {
      "cell_type": "code",
      "metadata": {
        "id": "Q2Gh7aLmc2Q6",
        "colab": {
          "base_uri": "https://localhost:8080/"
        },
        "outputId": "dbfa4e4a-f5da-42c8-8b17-7af619faaa15"
      },
      "source": [
        "# Empty hidden_dims means we take a model with zero hidden layers.\n",
        "model = MLP(in_dim=784, out_dim=10, hidden_dims=[])\n",
        "\n",
        "# We print the model structure with 784 inputs and 10 outputs\n",
        "print(model)"
      ],
      "execution_count": 14,
      "outputs": [
        {
          "output_type": "stream",
          "text": [
            "MLP(\n",
            "  (main): Sequential(\n",
            "    (0): Linear(in_features=784, out_features=10, bias=True)\n",
            "  )\n",
            ")\n"
          ],
          "name": "stdout"
        }
      ]
    },
    {
      "cell_type": "markdown",
      "metadata": {
        "id": "0VCZ31inc2Q6"
      },
      "source": [
        "## Section 2.3: Loss\n",
        "\n",
        "While we care about the accuracy of the model, the 'discrete' nature of the 0-1 loss makes it challenging to optimize. In order to learn good parameters for this model, we will use the cross entropy loss (negative log-likelihood), which you saw in last lecture, as a surrogate objective to be minimized. \n",
        "\n",
        "This particular choice of model and optimization objective leads to a *convex* optimization problem with respect to the parameters $W$ and $b$. "
      ]
    },
    {
      "cell_type": "code",
      "metadata": {
        "id": "ewuaZmDVc2Q7"
      },
      "source": [
        "loss_fn = F.nll_loss"
      ],
      "execution_count": 15,
      "outputs": []
    },
    {
      "cell_type": "markdown",
      "metadata": {
        "id": "s85ayJn_c2Q7"
      },
      "source": [
        "## Section 2.4: Interpretability"
      ]
    },
    {
      "cell_type": "markdown",
      "metadata": {
        "id": "8M6X-sUgo7Rf"
      },
      "source": [
        "In last lecture, you saw that inspecting the weights of a model can provide insights on what 'concepts' the model has learned. Here we show the weights of a partially trained model. The weights corresponding to each class 'learn' to _fire_ when an input of the class is detected.\n"
      ]
    },
    {
      "cell_type": "code",
      "metadata": {
        "id": "be6SNLydc2Q7",
        "cellView": "form"
      },
      "source": [
        "#@markdown Run _this cell_ to train the model. If you are curious about how the training\n",
        "#@markdown takes place, double-click this cell to find out. At the end of this tutorial\n",
        "#@markdown you will have the opportunity to train a more complex model on your own.\n",
        "\n",
        "cell_verbose = False\n",
        "partial_trained_model = MLP(in_dim=784, out_dim=10, hidden_dims=[])\n",
        "\n",
        "if cell_verbose:\n",
        "  print('Init loss', loss_fn(partial_trained_model(X), y).item()) # This matches around np.log(10 = # of classes)\n",
        "\n",
        "optimizer = optim.Adam(partial_trained_model.parameters(), lr=7e-4)\n",
        "for _ in range(200):\n",
        "  loss = loss_fn(partial_trained_model(X), y)\n",
        "  optimizer.zero_grad()\n",
        "  loss.backward()\n",
        "  optimizer.step()\n",
        "\n",
        "if cell_verbose:\n",
        "  print('End loss', loss_fn(partial_trained_model(X), y).item()) # This should be less than 1e-2"
      ],
      "execution_count": 16,
      "outputs": []
    },
    {
      "cell_type": "code",
      "metadata": {
        "id": "irARs02kc2Q9",
        "colab": {
          "base_uri": "https://localhost:8080/",
          "height": 141
        },
        "outputId": "2a12b536-18e8-4a6f-90bc-25b13ce065f0"
      },
      "source": [
        "# Show class filters of a trained model\n",
        "W = partial_trained_model.main[0].weight.data.numpy()\n",
        "\n",
        "fig, axs = plt.subplots(1, 10, figsize=(15, 4))\n",
        "for class_id in range(10):\n",
        "  axs[class_id].imshow(W[class_id, :].reshape(28, 28), cmap='gray_r')\n",
        "  axs[class_id].axis('off')\n",
        "  axs[class_id].set_title('Class ' + str(class_id) )\n",
        "\n",
        "plt.show()"
      ],
      "execution_count": 17,
      "outputs": [
        {
          "output_type": "display_data",
          "data": {
            "image/png": "[encoded data removed]",
            "text/plain": [
              "<Figure size 1080x288 with 10 Axes>"
            ]
          },
          "metadata": {
            "tags": [],
            "image/png": {
              "width": 1062,
              "height": 124
            },
            "needs_background": "light"
          }
        }
      ]
    },
    {
      "cell_type": "markdown",
      "metadata": {
        "id": "gkDtT7wBc2Q9"
      },
      "source": [
        "---\n",
        "# Section 3: High dimensional search\n",
        "\n",
        "We now have a model with its corresponding trainable parameters as well as an objective to optimize. Where do we go to next? How do we find a 'good' configuration of parameters?\n",
        "\n",
        "One idea is to choose a random direction and move only if the objective is reduced. However, this is inefficient in high dimensions and you will see how gradient descent (with a suitable step-size) can guarantee consistent improvement in terms of the objective function."
      ]
    },
    {
      "cell_type": "code",
      "metadata": {
        "id": "TnwFzjp5c2Q-",
        "cellView": "form",
        "colab": {
          "base_uri": "https://localhost:8080/",
          "height": 579,
          "referenced_widgets": [
            "7eee856de9e24699bb37521c7003f9ae",
            "ff9737278ac5492aa2226aef37f4715a",
            "beec29bd59284fa69e26dec3de34f779",
            "6fa8308ded174584bd328ebf39cfecfc",
            "10d5d21bce0f4fd196a9cf88c3b6caf4",
            "5b1b50f450644a758cda3b4fbd379e14"
          ]
        },
        "outputId": "0ebedcd6-c6e0-4605-e431-3ad76c173c89"
      },
      "source": [
        "#@title Video 3: Optimization of an Objective Function\n",
        "# Insert the ID of the corresponding youtube video\n",
        "from ipywidgets import widgets\n",
        "\n",
        "out2 = widgets.Output()\n",
        "with out2:\n",
        "  from IPython.display import IFrame\n",
        "  class BiliVideo(IFrame):\n",
        "    def __init__(self, id, page=1, width=400, height=300, **kwargs):\n",
        "      self.id=id\n",
        "      src = \"https://player.bilibili.com/player.html?bvid={0}&page={1}\".format(id, page)\n",
        "      super(BiliVideo, self).__init__(src, width, height, **kwargs)\n",
        "\n",
        "  video = BiliVideo(id=f\"\", width=854, height=480, fs=1)\n",
        "  print(\"Video available at https://www.bilibili.com/video/{0}\".format(video.id))\n",
        "  display(video)\n",
        "\n",
        "out1 = widgets.Output()\n",
        "with out1:\n",
        "  from IPython.display import YouTubeVideo\n",
        "  video = YouTubeVideo(id=f\"aSJTRdjRvvw\", width=854, height=480, fs=1, rel=0)\n",
        "  print(\"Video available at https://youtube.com/watch?v=\" + video.id)\n",
        "  display(video)\n",
        "\n",
        "out = widgets.Tab([out1, out2])\n",
        "out.set_title(0, 'Youtube')\n",
        "out.set_title(1, 'Bilibili')\n",
        "\n",
        "display(out)"
      ],
      "execution_count": 18,
      "outputs": [
        {
          "output_type": "display_data",
          "data": {
            "application/vnd.jupyter.widget-view+json": {
              "model_id": "7eee856de9e24699bb37521c7003f9ae",
              "version_minor": 0,
              "version_major": 2
            },
            "text/plain": [
              "Tab(children=(Output(), Output()), _titles={'0': 'Youtube', '1': 'Bilibili'})"
            ]
          },
          "metadata": {
            "tags": []
          }
        }
      ]
    },
    {
      "cell_type": "markdown",
      "metadata": {
        "id": "xi0Bv2AJc2Q-"
      },
      "source": [
        "### Coding Exercise 3.1: Implement gradient descent\n",
        "\n",
        "In this exercise you will use Pytorch automatic differentiation capabilities to compute the gradient of the loss with respect to the parameters of the model. You will then use these gradients to implement the update performed by the gradient descent method.  "
      ]
    },
    {
      "cell_type": "code",
      "metadata": {
        "id": "dXt8fIcYc2Q_"
      },
      "source": [
        "def zero_grad(params):\n",
        "  \"\"\"Clear up gradients as Pytorch automatically accumulates gradients from\n",
        "  successive backward calls\n",
        "  \"\"\"\n",
        "  for par in params:\n",
        "    if not(par.grad is None):\n",
        "      par.grad.data.zero_()\n",
        "\n",
        "\n",
        "def random_update(model, noise_scale=0.1, normalized=False):\n",
        "  \"\"\" Performs a random update on the parameters of the model\n",
        "  \"\"\"\n",
        "  for par in model.parameters():\n",
        "    noise = torch.randn_like(par)\n",
        "    if normalized:\n",
        "      noise /= torch.norm(noise)\n",
        "    par.data +=  noise_scale * noise"
      ],
      "execution_count": 19,
      "outputs": []
    },
    {
      "cell_type": "code",
      "metadata": {
        "id": "ytpqrB7hc2Q_"
      },
      "source": [
        "def gradient_update(loss, params, lr=1e-1):\n",
        "  \"\"\"Perform a gradient descent update on a given loss over a collection of parameters\n",
        "\n",
        "  Args:\n",
        "    loss (tensor): A scalar tensor containing the loss whose gradient will be computed\n",
        "    params (iterable): Collection of parameters with respect to which we compute gradients\n",
        "    lr (float): Scalar specifying the learning rate or step-size for the update\n",
        "  \"\"\"\n",
        "  # Clear up gradients as Pytorch automatically accumulates gradients from\n",
        "  # successive backward calls\n",
        "  zero_grad(params)\n",
        "\n",
        "  # Compute gradients on given objective\n",
        "  loss.backward()\n",
        "\n",
        "  for par in params:\n",
        "    #################################################\n",
        "    ## TODO for students: update the value of the parameter ##\n",
        "    raise NotImplementedError(\"Student exercise: implement gradient update\")\n",
        "    #################################################\n",
        "    # Here we work with the 'data' attribute of the parameter rather than the\n",
        "    # parameter itself.\n",
        "    par.data -= ..."
      ],
      "execution_count": 20,
      "outputs": []
    },
    {
      "cell_type": "code",
      "metadata": {
        "id": "DQ4tnAU3c2Q_"
      },
      "source": [
        "# to_remove solution\n",
        "def gradient_update(loss, params, lr=1e-1):\n",
        "  \"\"\"Perform a gradient descent update on a given loss over a collection of parameters\n",
        "\n",
        "  Args:\n",
        "    loss (tensor): A scalar tensor containing the loss whose gradient will be computed\n",
        "    params (iterable): Collection of parameters with respect to which we compute gradients\n",
        "    lr (float): Scalar specifying the learning rate or step-size for the update\n",
        "  \"\"\"\n",
        "  # Clear up gradients as Pytorch automatically accumulates gradients from\n",
        "  # successive backward calls\n",
        "  zero_grad(params)\n",
        "\n",
        "  # Compute gradients on given objective\n",
        "  loss.backward()\n",
        "\n",
        "  for par in params:\n",
        "    # Here we work with the 'data' attribute of the parameter rather than the\n",
        "    # parameter itself.\n",
        "    par.data -= lr * par.grad.data"
      ],
      "execution_count": 21,
      "outputs": []
    },
    {
      "cell_type": "markdown",
      "metadata": {
        "id": "sPH4zrrvc2RA"
      },
      "source": [
        "### Comparing updates"
      ]
    },
    {
      "cell_type": "code",
      "metadata": {
        "id": "Ozp0KMKmc2RA",
        "colab": {
          "base_uri": "https://localhost:8080/",
          "height": 311
        },
        "cellView": "form",
        "outputId": "9f8e5646-7fa1-4a93-9b5e-fcc1c73329dd"
      },
      "source": [
        "#@markdown These plots compare the effectiveness of updating random\n",
        "#@markdown directions for the problem of optimizing the parameters\n",
        "#@markdown of a high-dimensional linear model. We contrast the\n",
        "#@markdown behavior at initialization and during an intermediate\n",
        "#@markdown stage of training by showing the histograms of change in\n",
        "#@markdown loss over 100 different random directions vs the changed\n",
        "#@markdown in loss induced by the gradient descent update\n",
        "\n",
        "#@markdown Remember, since we are trying to minimize, here negative is better!\n",
        "\n",
        "fig, axs = plt.subplots(1, 2, figsize=(10, 4))\n",
        "\n",
        "for id, (model_name, my_model) in enumerate([('Initialization', model),\n",
        "                                              ('Partially trained', partial_trained_model)]):\n",
        "  # Compue the loss we will be comparing to\n",
        "  base_loss = loss_fn(my_model(X), y)\n",
        "\n",
        "  # Compute the improvement via gradient descent\n",
        "  dummy_model = copy.deepcopy(my_model)\n",
        "  loss1 = loss_fn(dummy_model(X), y)\n",
        "  gradient_update(loss1, list(dummy_model.parameters()), lr=1e-2)\n",
        "  gd_delta = loss_fn(dummy_model(X), y) - base_loss\n",
        "\n",
        "  deltas = []\n",
        "  for trial_id in range(100):\n",
        "    # Compute the improvement obtained with a random direction\n",
        "    dummy_model = copy.deepcopy(my_model)\n",
        "    random_update(dummy_model, noise_scale=1e-2)\n",
        "    deltas.append((loss_fn(dummy_model(X), y) - base_loss).item())\n",
        "\n",
        "  # Plot histogram for random direction and vertical line for gradient descent\n",
        "  axs[id].hist(deltas, label='Random Directions', bins=20)\n",
        "  axs[id].set_title(model_name)\n",
        "  axs[id].set_xlabel('Change in loss')\n",
        "  axs[id].set_ylabel('% samples')\n",
        "  axs[id].axvline(0, c='green', alpha=0.5)\n",
        "  axs[id].axvline(gd_delta.item(), linestyle='--', c='red', alpha=1,\n",
        "                  label='Gradient Descent')\n",
        "\n",
        "\n",
        "handles, labels = axs[id].get_legend_handles_labels()\n",
        "fig.legend(handles, labels, loc='upper center',\n",
        "           bbox_to_anchor=(0.5, 1.05),\n",
        "           fancybox=False, shadow=False, ncol=2)\n",
        "\n",
        "plt.show()"
      ],
      "execution_count": 22,
      "outputs": [
        {
          "output_type": "display_data",
          "data": {
            "image/png": "[encoded data removed]",
            "text/plain": [
              "<Figure size 720x288 with 2 Axes>"
            ]
          },
          "metadata": {
            "tags": [],
            "image/png": {
              "width": 701,
              "height": 294
            },
            "needs_background": "light"
          }
        }
      ]
    },
    {
      "cell_type": "markdown",
      "metadata": {
        "id": "9hHUhQ69Ib6E"
      },
      "source": [
        "### Think!\n",
        "\n",
        "Compare the behavior of gradient descent and random search based on the histograms above. Is any of the two methods more reliable? How can you explain the changes between behavior of the methods at initialization vs during training?"
      ]
    },
    {
      "cell_type": "code",
      "metadata": {
        "id": "zZE1VODwqJTV"
      },
      "source": [
        "#to_remove explanation\n",
        "\n",
        "\"\"\"\n",
        "Note how gradient descent (with a properly tuned step size) guarantees an improvement\n",
        "in the objective function, unlike the random udpate method, which very rarely finds a\n",
        "direction that improves the objective function. The green line indicates\n",
        "a change of zero in the value of the loss: we want to be below zero to minimize!\n",
        "\n",
        "The magnitue of the improvement at initialization is much bigger than\n",
        "the change in loss obtained at a later stage in training. This is expected,\n",
        "as we have gotten closer to the optimum parameter configuration. \n",
        "\"\"\";"
      ],
      "execution_count": 23,
      "outputs": []
    },
    {
      "cell_type": "markdown",
      "metadata": {
        "id": "U3elAlz_c2RB"
      },
      "source": [
        "---\n",
        "# Section 4: Poor conditioning\n",
        "\n",
        "Already in this 'simple' logistic regression problem, the issue of bad conditioning is haunting us. Not all parameters are created equal and the sensitivity of the network to changes on the parameters will have a big impact in the dynamics of the optimization."
      ]
    },
    {
      "cell_type": "code",
      "metadata": {
        "id": "5BxJjQbuc2RB",
        "cellView": "form",
        "colab": {
          "base_uri": "https://localhost:8080/",
          "height": 579,
          "referenced_widgets": [
            "9f08ccfc608c454193347dcc9830ca86",
            "6d6d94e2e6ed41fd85b222a40ce0a56d",
            "a6fbcf7fd19e422f855e3a4b3393dcba",
            "3c2c8f5ea53b4518aee318c971291615",
            "41b53bd0c981429889e35980719091dd",
            "1c094cea7fe94bb68fd8a89f671c6480"
          ]
        },
        "outputId": "3076c4d8-5f90-496e-bd25-b146c7225e4d"
      },
      "source": [
        "#@title Video 4: Momentum\n",
        "# Insert the ID of the corresponding youtube video\n",
        "from ipywidgets import widgets\n",
        "\n",
        "out2 = widgets.Output()\n",
        "with out2:\n",
        "  from IPython.display import IFrame\n",
        "  class BiliVideo(IFrame):\n",
        "    def __init__(self, id, page=1, width=400, height=300, **kwargs):\n",
        "      self.id=id\n",
        "      src = \"https://player.bilibili.com/player.html?bvid={0}&page={1}\".format(id, page)\n",
        "      super(BiliVideo, self).__init__(src, width, height, **kwargs)\n",
        "\n",
        "  video = BiliVideo(id=f\"\", width=854, height=480, fs=1)\n",
        "  print(\"Video available at https://www.bilibili.com/video/{0}\".format(video.id))\n",
        "  display(video)\n",
        "\n",
        "out1 = widgets.Output()\n",
        "with out1:\n",
        "  from IPython.display import YouTubeVideo\n",
        "  video = YouTubeVideo(id=f\"3ES5O58Y_2M\", width=854, height=480, fs=1, rel=0)\n",
        "  print(\"Video available at https://youtube.com/watch?v=\" + video.id)\n",
        "  display(video)\n",
        "\n",
        "out = widgets.Tab([out1, out2])\n",
        "out.set_title(0, 'Youtube')\n",
        "out.set_title(1, 'Bilibili')\n",
        "\n",
        "display(out)"
      ],
      "execution_count": 24,
      "outputs": [
        {
          "output_type": "display_data",
          "data": {
            "application/vnd.jupyter.widget-view+json": {
              "model_id": "9f08ccfc608c454193347dcc9830ca86",
              "version_minor": 0,
              "version_major": 2
            },
            "text/plain": [
              "Tab(children=(Output(), Output()), _titles={'0': 'Youtube', '1': 'Bilibili'})"
            ]
          },
          "metadata": {
            "tags": []
          }
        }
      ]
    },
    {
      "cell_type": "code",
      "metadata": {
        "id": "8KRGcoktc2RB",
        "cellView": "form"
      },
      "source": [
        "#@markdown We illustrate this issue in a 2-dimensional setting. We freeze all but\n",
        "#@markdown two parameters of the network: one of them is an element of the weight matrix (filter)\n",
        "#@markdown for class 0, while the other is the bias for class 7. This results in\n",
        "#@markdown an optimization with two decision variables.\n",
        "\n",
        "#@markdown How much difference is there in the behavior of these two parameters\n",
        "#@markdown under gradient descent? What is the effect of momentum in bridging that gap?\n",
        "\n",
        "#@markdown _Run this cell_ to setup some helper functions.\n",
        "\n",
        "def loss_2d(model, u, v, mask_idx=(0, 378), bias_id=7):\n",
        "  \"\"\"Defines a 2-dim function by freezing all but two parameters of a linear\n",
        "  model.\n",
        "\n",
        "  Args:\n",
        "    model (torch module): a pytorch 0-hidden layer (linear) model\n",
        "    u (scalar): first free parameter\n",
        "    v (scalar): second free parameter\n",
        "    mask_idx (tuple): selects parameter in weight matrix replaced by u\n",
        "    bias_idx (int): selects parameter in bias vector replaced by v\n",
        "\n",
        "  Returns:\n",
        "    scalar: loss of the 'new' model over inputs X, y (defined externally)\n",
        "  \"\"\"\n",
        "\n",
        "  # We zero out the element of the weight tensor that will be\n",
        "  # replaced by u\n",
        "  mask = torch.ones_like(model.main[0].weight)\n",
        "  mask[mask_idx[0], mask_idx[1]] = 0.\n",
        "  masked_weights = model.main[0].weight * mask\n",
        "\n",
        "  # u is replacing an element of the weight matrix\n",
        "  masked_weights[mask_idx[0], mask_idx[1]] = u\n",
        "\n",
        "  res = X.reshape(-1, 784) @ masked_weights.T + model.main[0].bias\n",
        "\n",
        "  # v is replacing a bias for class 7\n",
        "  res[:, 7] += v - model.main[0].bias[7]\n",
        "  res =  F.log_softmax(res, dim=1)\n",
        "\n",
        "  return loss_fn(res, y)\n",
        "\n",
        "\n",
        "def plot_surface(U, V, Z, fig):\n",
        "  \"\"\" Plot a 3D loss surface given meshed inputs U, V and values Z\n",
        "  \"\"\"\n",
        "  ax = fig.add_subplot(1, 2, 2, projection='3d')\n",
        "  ax.view_init(45, -130)\n",
        "\n",
        "  surf = ax.plot_surface(U, V, Z, cmap=plt.cm.coolwarm,\n",
        "                      linewidth=0, antialiased=True, alpha=0.5)\n",
        "\n",
        "  # Select certain level contours to plot\n",
        "  # levels = Z.min() * np.array([1.005, 1.1, 1.3, 1.5, 2.])\n",
        "  # plt.contour(U, V, Z)# levels=levels, alpha=0.5)\n",
        "\n",
        "  ax.set_xlabel('Weight')\n",
        "  ax.set_ylabel('Bias')\n",
        "  ax.set_zlabel('Loss', rotation=90)\n",
        "\n",
        "  return ax\n",
        "\n",
        "\n",
        "def plot_param_distance(best_u, best_v, trajs, fig, styles, labels, use_log=False):\n",
        "  \"\"\" Plot the distance to each of the two parameters for a collection of 'trajectories'\n",
        "  \"\"\"\n",
        "  ax = fig.add_subplot(1, 1, 1)\n",
        "\n",
        "  for traj, style, label in zip(trajs, styles, labels):\n",
        "    d0 = np.array([np.abs(_[0] - best_u) for _ in traj])\n",
        "    d1 = np.array([np.abs(_[1] - best_v) for _ in traj])\n",
        "    if use_log:\n",
        "      d0 = np.log(1e-16 + d0)\n",
        "      d1 = np.log(1e-16 + d1)\n",
        "    ax.plot(range(len(traj)), d0, style, label='weight - ' + label)\n",
        "    ax.plot(range(len(traj)), d1, style, label='bias - ' + label)\n",
        "  ax.set_xlabel('Iteration')\n",
        "  if use_log:\n",
        "    ax.set_ylabel('Log distance to optimum (per dimension)')\n",
        "    ax.set_ylim(-12, 1.5)\n",
        "  else:\n",
        "    ax.set_ylabel('Abs distance to optimum (per dimension)')\n",
        "  ax.legend(loc='right', bbox_to_anchor=(1.5, 0.5),\n",
        "            fancybox=False, shadow=False, ncol=1)\n",
        "  \n",
        "  return ax\n",
        "\n",
        "\n",
        "def run_optimizer(inits, eval_fn, update_fn, max_steps=500,\n",
        "                  optim_kwargs={'lr':1e-2}, log_traj=True):\n",
        "  \"\"\"Runs an optimizer on a given objective and logs parameter trajectory\n",
        "\n",
        "  Args:\n",
        "      inits list(scalar): initialization of parameters\n",
        "      eval_fn (callable): function computing the objective to be minimized\n",
        "      update_fn (callable): function executing parameter update\n",
        "      max_steps (int): number of iterations to run\n",
        "      optim_kwargs (dict): customize optimizer hyperparameters\n",
        "\n",
        "  Returns:\n",
        "      list[list]: trajectory information [*params, loss] for each optimization step\n",
        "  \"\"\"\n",
        "\n",
        "  # Initialize parameters and optimizer\n",
        "  params = [nn.Parameter(torch.tensor(_)) for _ in inits]\n",
        "  # Methods like momentum and rmsprop keep and auxiliary vector of parameters\n",
        "  aux_tensors = [torch.zeros_like(_) for _ in params]\n",
        "  if log_traj:\n",
        "    traj = np.zeros((max_steps, len(params)+1))\n",
        "  for _ in range(max_steps):\n",
        "    # Evaluate loss\n",
        "    loss = eval_fn(*params)\n",
        "    # Store 'trajectory' information\n",
        "    if log_traj:\n",
        "      traj[_, :] = [_.item() for _ in params] + [loss.item()]\n",
        "    # Perform update\n",
        "    if update_fn == gradient_update:\n",
        "      gradient_update(loss, params, **optim_kwargs)\n",
        "    else:\n",
        "      update_fn(loss, params, aux_tensors, **optim_kwargs)\n",
        "  if log_traj:\n",
        "    return traj\n",
        "\n",
        "\n",
        "L = 4.\n",
        "xs = np.linspace(-L, L, 30)\n",
        "ys = np.linspace(-L, L, 30)\n",
        "U, V = np.meshgrid(xs, ys)\n",
        "\n",
        "# Compute loss surface\n",
        "g = lambda u, v: loss_2d(copy.deepcopy(model), u, v)\n",
        "Z = np.fromiter(map(g, U.ravel(), V.ravel()), U.dtype).reshape(V.shape)"
      ],
      "execution_count": 25,
      "outputs": []
    },
    {
      "cell_type": "markdown",
      "metadata": {
        "id": "OLO1WIOSc2RC"
      },
      "source": [
        "### Coding Exercise 4.1: Implement momentum\n",
        "\n",
        "In this exercise you will implement the momentum update given by:\n",
        "$$w_{t+1} = w_t - \\eta \\nabla J(w_t) + \\beta (w_t - w_{t-1})$$\n",
        "\n",
        "It is convenient to re-express this update rule in terms of a recursion. For that, we define 'velocity' as the quantity:\n",
        "$$v_{t-1} := w_{t} - w_{t-1},$$\n",
        "which leads to the two-step update rule:\n",
        "$$ v_t = - \\eta \\nabla J(w_t) + \\beta (\\underbrace{w_t - w_{t-1}}_{v_{t-1}})$$\n",
        "$$ w_{t+1} \\leftarrow w_t + v_{t}$$\n",
        "\n",
        "Pay attention to the positive sign of the update in the last equation, given the definition of $v_t$, above. "
      ]
    },
    {
      "cell_type": "code",
      "metadata": {
        "id": "TyVIuTFSc2RG"
      },
      "source": [
        "def momentum_update(loss, params, grad_vel, lr=1e-1, beta=0.8):\n",
        "  \"\"\"Perform a momentum update over a collection of parameters given a loss and 'velocities'\n",
        "\n",
        "  Args:\n",
        "    loss (tensor): A scalar tensor containing the loss whose gradient will be computed\n",
        "    params (iterable): Collection of parameters with respect to which we compute gradients\n",
        "    grad_vel (iterable): Collection containing the 'velocity' v_t for each parameter\n",
        "    lr (float): Scalar specifying the learning rate or step-size for the update\n",
        "    beta (float): Scalar 'momentum' parameter\n",
        "  \"\"\"\n",
        "  # Clear up gradients as Pytorch automatically accumulates gradients from\n",
        "  # successive backward calls\n",
        "  zero_grad(params)\n",
        "  # Compute gradients on given objective\n",
        "  loss.backward()\n",
        "\n",
        "  for (par, vel) in zip(params, grad_vel):\n",
        "    #################################################\n",
        "    ## TODO for students: update the value of the parameter ##\n",
        "    raise NotImplementedError(\"Student exercise: implement momentum update\")\n",
        "    #################################################\n",
        "    # Update 'velocity'\n",
        "    vel.data = ...\n",
        "    # Update parameters\n",
        "    par.data += ..."
      ],
      "execution_count": 26,
      "outputs": []
    },
    {
      "cell_type": "code",
      "metadata": {
        "id": "Z4JcznSvc2RH"
      },
      "source": [
        "# to_remove solution\n",
        "def momentum_update(loss, params, grad_vel, lr=1e-1, beta=0.8):\n",
        "  \"\"\"Perform a momentum update over a collection of parameters given a loss and 'velocities'\n",
        "\n",
        "  Args:\n",
        "    loss (tensor): A scalar tensor containing the loss whose gradient will be computed\n",
        "    params (iterable): Collection of parameters with respect to which we compute gradients\n",
        "    grad_vel (iterable): Collection containing the 'velocity' v_t for each parameter\n",
        "    lr (float): Scalar specifying the learning rate or step-size for the update\n",
        "    beta (float): Scalar 'momentum' parameter\n",
        "  \"\"\"\n",
        "  # Clear up gradients as Pytorch automatically accumulates gradients from\n",
        "  # successive backward calls\n",
        "  zero_grad(params)\n",
        "  # Compute gradients on given objective\n",
        "  loss.backward()\n",
        "\n",
        "  for (par, vel) in zip(params, grad_vel):\n",
        "    # Update 'velocity'\n",
        "    vel.data = -lr * par.grad.data + beta * vel.data\n",
        "    # Update parameters\n",
        "    par.data += vel.data"
      ],
      "execution_count": 27,
      "outputs": []
    },
    {
      "cell_type": "markdown",
      "metadata": {
        "id": "Rw1iwE5Vc2RH"
      },
      "source": [
        "### Interactive Demo 4.1: Momentum vs GD"
      ]
    },
    {
      "cell_type": "code",
      "metadata": {
        "id": "wK_9nOKsc2RI",
        "colab": {
          "base_uri": "https://localhost:8080/",
          "height": 145,
          "referenced_widgets": [
            "281035a3dca941a198cfb9d571546508",
            "51ae6354ceea4d02b2bb17f5baccbc13",
            "6e43aca56c9e469d9c25ed7de742705a",
            "7ed47ad2611447f7a736adc423340682",
            "93a57498325f4566af90c3e82b9186c7",
            "836427fc44814e53a6eb3064ef7f043a",
            "decb5c52e66c4fa4a4ae2cc02bf1edf9",
            "557499df115747feb3725cc7f71694ed",
            "1da841ac83c14b1f9e1864251ae36c19",
            "16c965241de7402bb34f9d2252b91b64",
            "bdc8c76be86b4e389cc72842e5081abf",
            "d7472fe545844325a24ba24f054d19a3",
            "a1270a45794646cc854dad466c46323b",
            "e105774347b74ad6ac948bc67fc22ebd",
            "01bcf272b20740958fa431c0b160bc32",
            "30c4d4e1cdf144cab78b431d855b98de"
          ]
        },
        "cellView": "form",
        "outputId": "8d275888-946a-4345-aae8-1441f789e881"
      },
      "source": [
        "#@markdown The plots below show the distance to the optimum for both variables\n",
        "#@markdown accros the two methos, as well as the parameter trajectory over the loss\n",
        "#@markdown surface.\n",
        "from matplotlib.lines import Line2D\n",
        "\n",
        "\n",
        "# Find the optimum of this 2D problem using Newton's method\n",
        "def run_newton(init_list=[0., 0.], max_iter=200):\n",
        "    \n",
        "  par_tensor = torch.tensor(init_list, requires_grad=True)\n",
        "  t_g = lambda par_tensor: g(par_tensor[0], par_tensor[1])\n",
        "\n",
        "  for _ in range(max_iter):\n",
        "    eval_loss = t_g(par_tensor)\n",
        "    eval_grad = torch.autograd.grad(eval_loss, [par_tensor])[0]\n",
        "    eval_hess = torch.autograd.functional.hessian(t_g, par_tensor)\n",
        "    # Newton's update is:  - inverse(Hessian) x gradient\n",
        "    par_tensor.data -= torch.inverse(eval_hess) @ eval_grad\n",
        "\n",
        "  return par_tensor.data.numpy()\n",
        "\n",
        "\n",
        "best_u, best_v  = run_newton()\n",
        "\n",
        "# Initialization of the variables\n",
        "INITS = [2.5, 3.7]\n",
        "\n",
        "# Used for plotting\n",
        "LABELS = ['GD', 'Momentum']\n",
        "COLORS = ['black', 'red']\n",
        "LSTYLES = ['-', '--']\n",
        "\n",
        "@widgets.interact_manual\n",
        "def momentum_experiment(max_steps=widgets.IntSlider(300, 50, 500, 5),\n",
        "                        lr=widgets.FloatLogSlider(value=1e-1, min=-3, max=0.7, step=0.1),\n",
        "                        beta=widgets.FloatSlider(value=9e-1, min=0, max=1., step=0.01)\n",
        "                        ):\n",
        "\n",
        "  # Execute both optimizers\n",
        "  sgd_traj = run_optimizer(INITS, eval_fn=g, update_fn=gradient_update,\n",
        "                           max_steps=max_steps, optim_kwargs={'lr': lr})\n",
        "  mom_traj = run_optimizer(INITS, eval_fn=g, update_fn=momentum_update,\n",
        "                           max_steps=max_steps, optim_kwargs={'lr': lr, 'beta':beta})\n",
        "\n",
        "  TRAJS = [sgd_traj, mom_traj]\n",
        "\n",
        "  # best_u, best_v = mom_traj[-1][0], mom_traj[-1][1]\n",
        "  # Plot distances\n",
        "  fig = plt.figure(figsize=(9,4))\n",
        "  plot_param_distance(best_u, best_v, TRAJS, fig,\n",
        "                      LSTYLES, LABELS, use_log=True)\n",
        "\n",
        "  # # Plot trajectories\n",
        "  fig = plt.figure(figsize=(12, 5))\n",
        "  ax = plot_surface(U, V, Z, fig)\n",
        "  for traj, c, label in zip(TRAJS, COLORS, LABELS):\n",
        "    ax.plot3D(*traj.T, c, linewidth=0.3, label=label)\n",
        "    ax.scatter3D(*traj.T, '.-', s=1, c=c)\n",
        "\n",
        "  # Plot optimum point\n",
        "  ax.scatter(best_u, best_v, Z.min(), marker='*', s=80, c='lime', label='Opt.');\n",
        "  lines = [Line2D([0], [0],\n",
        "                  color=c,\n",
        "                  linewidth=3,\n",
        "                  linestyle='--') for c in COLORS]\n",
        "  lines.append(Line2D([0], [0], color='lime', linewidth=0, marker='*'))\n",
        "  ax.legend(lines, LABELS + ['Optimum'], loc='right',\n",
        "            bbox_to_anchor=(.8, -0.1), ncol=len(LABELS) + 1)"
      ],
      "execution_count": 28,
      "outputs": [
        {
          "output_type": "display_data",
          "data": {
            "application/vnd.jupyter.widget-view+json": {
              "model_id": "281035a3dca941a198cfb9d571546508",
              "version_minor": 0,
              "version_major": 2
            },
            "text/plain": [
              "interactive(children=(IntSlider(value=300, description='max_steps', max=500, min=50, step=5), FloatLogSlider(v…"
            ]
          },
          "metadata": {
            "tags": []
          }
        }
      ]
    },
    {
      "cell_type": "markdown",
      "metadata": {
        "id": "TK2eKetDZFfb"
      },
      "source": [
        "### Think!\n",
        "\n",
        "- Discuss how this specific example illustrates the issue of poor conditioning in optimization? How does momentum help resolve these difficulties?\n",
        "\n",
        "- Do you see oscillations for any of these methods? Why does this happen?\n",
        "\n",
        "- Finally, tune the learning rate and momentum parameters to achieve a loss below $10^{-6}$ (for both dimensions) within 100 iterations."
      ]
    },
    {
      "cell_type": "code",
      "metadata": {
        "id": "oCN3HrMprtyb"
      },
      "source": [
        "#to_remove explanation\n",
        "\n",
        "\"\"\"\n",
        "- The loss has very different curvatures between the weight and the bias dimensions:\n",
        "a change of the same magnitude has a much bigger effect in the loss when applied to the weight than to the bias.\n",
        "This leads to very slow convergence of GD in the bias dimension.\n",
        "\n",
        "- Momentum encourages 'movement' in previously seen directions and results in\n",
        "both parameters converging much faster. The oscillations you can see for the momentum\n",
        "trajectories arise due to overshooting past the solution due to the momentum term.\n",
        "\"\"\";"
      ],
      "execution_count": 29,
      "outputs": []
    },
    {
      "cell_type": "markdown",
      "metadata": {
        "id": "VeV6LsmRc2RJ"
      },
      "source": [
        "---\n",
        "# Section 5: Non-convexity\n",
        "\n",
        "The introduction of even just 1 hidden layer in the neural network transforms the previous convex optimization problem into a non-convex one. And with great non-convexity, comes great responsibility... (Sorry, we couldn't help it!)\n",
        "\n",
        "**Note:** From this section onwards we will be dealing with non-convex optimization problems for the remaining of the tutorial. "
      ]
    },
    {
      "cell_type": "code",
      "metadata": {
        "id": "4ajoJF_2c2RK",
        "cellView": "form",
        "colab": {
          "base_uri": "https://localhost:8080/",
          "height": 579,
          "referenced_widgets": [
            "f9296a5889be4a118fa747e991963c8b",
            "83121691cec54ebc99c5766f0d8bc927",
            "7525ddd2a6b24d9ea10d83eb6233e9ea",
            "3322b207d568417aa55203b12e5d756b",
            "fc2243f22f514288a054d9652e3b3225",
            "f144cc90df794f46b5f590fc2bdb40af"
          ]
        },
        "outputId": "b434b207-0e3a-47b9-f1c7-ec1bded7e8e9"
      },
      "source": [
        "#@title Video 5: Overparametrization\n",
        "# Insert the ID of the corresponding youtube video\n",
        "from ipywidgets import widgets\n",
        "\n",
        "out2 = widgets.Output()\n",
        "with out2:\n",
        "  from IPython.display import IFrame\n",
        "  class BiliVideo(IFrame):\n",
        "    def __init__(self, id, page=1, width=400, height=300, **kwargs):\n",
        "      self.id=id\n",
        "      src = \"https://player.bilibili.com/player.html?bvid={0}&page={1}\".format(id, page)\n",
        "      super(BiliVideo, self).__init__(src, width, height, **kwargs)\n",
        "\n",
        "  video = BiliVideo(id=f\"\", width=854, height=480, fs=1)\n",
        "  print(\"Video available at https://www.bilibili.com/video/{0}\".format(video.id))\n",
        "  display(video)\n",
        "\n",
        "out1 = widgets.Output()\n",
        "with out1:\n",
        "  from IPython.display import YouTubeVideo\n",
        "  video = YouTubeVideo(id=f\"7vUpUEKKl5o\", width=854, height=480, fs=1, rel=0)\n",
        "  print(\"Video available at https://youtube.com/watch?v=\" + video.id)\n",
        "  display(video)\n",
        "\n",
        "out = widgets.Tab([out1, out2])\n",
        "out.set_title(0, 'Youtube')\n",
        "out.set_title(1, 'Bilibili')\n",
        "\n",
        "display(out)"
      ],
      "execution_count": 30,
      "outputs": [
        {
          "output_type": "display_data",
          "data": {
            "application/vnd.jupyter.widget-view+json": {
              "model_id": "f9296a5889be4a118fa747e991963c8b",
              "version_minor": 0,
              "version_major": 2
            },
            "text/plain": [
              "Tab(children=(Output(), Output()), _titles={'0': 'Youtube', '1': 'Bilibili'})"
            ]
          },
          "metadata": {
            "tags": []
          }
        }
      ]
    },
    {
      "cell_type": "markdown",
      "metadata": {
        "id": "xDlQ5omJc2RK"
      },
      "source": [
        "Take a couple of minutes to play with a more complex 3D visualization of the loss landscape of a neural network on a non-convex problem. Visit https://losslandscape.com/explorer.\n",
        "\n",
        "1. Explore the features on the bottom left corner. You can see an explanation for each icon by clicking on the [i] button located on the top right corner.\n",
        "2. Use the 'gradient descent' feature to perform a thought experiment:\n",
        "    -   Choose an initialization\n",
        "    -   Choose the learning rate\n",
        "    -   Mentally formulate your hypothesis about what kind of trajectory you expect to observe \n",
        "3. Run the experiment and contrast your intuition with the observed behavior.\n",
        "4. Repeat this experiment a handful of times for several initialization/learning rate configurations\n"
      ]
    },
    {
      "cell_type": "markdown",
      "metadata": {
        "id": "hCZ8pePIc2RL"
      },
      "source": [
        "## Interactive Demo 5.1: Overparametrization to the rescue!\n",
        "\n",
        "As you may have seen, the non-convex nature of the surface can lead the optimization process to get stuck in undesirable local-optima. There is ample empirical evidence supporting the claim that 'overparameterized' models are easier to train.\n",
        "\n",
        "We will explore this assertion in the context of our MLP training. For this, we initialize a fixed model and construct several models by small random perturbations to the original initialized weights. Now, we train each of these perturbed models and see how the loss evolves. If we were in the convex setting, we should reach very similar objective values upon convergence since all these models were very close at the beginning of training, and in convex problems, every local optimum is also a global optimum.\n",
        "\n",
        "Use the interactive plot below to visualize the loss progression for these perturbed models:\n",
        "\n",
        "1. Select different settings from the `hidden_dims` drop-down menu.\n",
        "2. Explore the effect of the number of steps and learning rate."
      ]
    },
    {
      "cell_type": "code",
      "metadata": {
        "id": "Gyh03_UUc2RM",
        "cellView": "form",
        "colab": {
          "base_uri": "https://localhost:8080/",
          "height": 177,
          "referenced_widgets": [
            "eefc723a760546e49144cdfc99917a55",
            "bc906e548fad4ccdb03908cc26743af2",
            "94a517af97a641fbb7bd9f94d28af70e",
            "1defadf3dac74564bde45df3c0da24fe",
            "9646fdc6e6794ac88f474ec6c342016a",
            "87f265a82f644cd2b08ffe85cf771693",
            "603feab40107467aaa46f59c6450c793",
            "3a8511e32d77448aa71e7187d030524d",
            "6aca39d4827342f084097c0e5fcbba24",
            "f597bd0e13d041b29d2a89e032e93d99",
            "2bcdaa0ccacf4bb7bf851ee855ae4aa8",
            "6fdac062b0d5491baf3af1fedb86ddc8",
            "9ab84f35081141ea9364443ff3ba6837",
            "4348e6d2533348c885a1a831358b1b80",
            "6f82eea14f8149d0bdd11fbd4c51cbb6",
            "4cd8a206421146b887c9d8c8ee8e7cd0",
            "5e9383dab5f04d5389383bc711590cf7",
            "5ae85feb58014eec9456e626728550d5",
            "63fe609002d540ed8531492792babf31"
          ]
        },
        "outputId": "8eb616ae-0237-436b-c2d3-9279d4af6e00"
      },
      "source": [
        "#@markdown Execute this cell to enable the widget!\n",
        "\n",
        "@widgets.interact_manual\n",
        "def overparam(max_steps=widgets.IntSlider(150, 50, 500, 5),\n",
        "              hidden_dims=widgets.Dropdown(options=[\"10\", \"20, 20\", \"100, 100\"],\n",
        "                                           value=\"10\"),\n",
        "              lr=widgets.FloatLogSlider(value=5e-2, min=-3, max=0, step=0.1),\n",
        "              num_inits=widgets.IntSlider(7, 5, 10, 1)):\n",
        "\n",
        "    X, y = train_set.data[subset_index, :], train_set.targets[subset_index]\n",
        "\n",
        "    hdims = [int(s) for s in hidden_dims.split(',')]\n",
        "    base_model = MLP(in_dim=784, out_dim=10, hidden_dims=hdims)\n",
        "\n",
        "    fig, axs = plt.subplots(1, 1, figsize=(5, 4))\n",
        "\n",
        "    for _ in range(num_inits):\n",
        "      model = copy.deepcopy(base_model)\n",
        "      random_update(model, noise_scale=2e-1)\n",
        "\n",
        "      loss_hist = np.zeros((max_steps, 2))\n",
        "      for step in range(max_steps):\n",
        "        loss = loss_fn(model(X), y)\n",
        "        gradient_update(loss, list(model.parameters()), lr=lr)\n",
        "        loss_hist[step] = np.array([step, loss.item()])\n",
        "\n",
        "      plt.plot(loss_hist[:, 0], loss_hist[:, 1])\n",
        "\n",
        "    plt.xlabel('Iteration')\n",
        "    plt.ylabel('Loss')\n",
        "    plt.ylim(0, 3);\n",
        "\n",
        "    num_params = sum([np.prod(_.shape) for _ in model.parameters()])\n",
        "    print('Number of paramaters in model:  ' + str(num_params))"
      ],
      "execution_count": 31,
      "outputs": [
        {
          "output_type": "display_data",
          "data": {
            "application/vnd.jupyter.widget-view+json": {
              "model_id": "eefc723a760546e49144cdfc99917a55",
              "version_minor": 0,
              "version_major": 2
            },
            "text/plain": [
              "interactive(children=(IntSlider(value=150, description='max_steps', max=500, min=50, step=5), Dropdown(descrip…"
            ]
          },
          "metadata": {
            "tags": []
          }
        }
      ]
    },
    {
      "cell_type": "markdown",
      "metadata": {
        "id": "BMU70FIVbral"
      },
      "source": [
        "### Think!\n",
        "\n",
        "- We see that as we increase the width/depth of the network, training becomes faster and more consistent across different initializations. What might be the reasons for this behavior? \n",
        "\n",
        "- What are some potential downsides of this approach to dealing with non-convexity? \n"
      ]
    },
    {
      "cell_type": "code",
      "metadata": {
        "id": "-LIdibflsLTw"
      },
      "source": [
        "#to_remove explanation\n",
        "\n",
        "\"\"\"\n",
        "- The exact mechanism for this phenomenon is still under active research.\n",
        "Existing evidence points to the following: in the overparameterized setting,\n",
        "there are many more 'good configurations' (values of the model’s weights) that\n",
        "lead to a low value of the objective. Furthermore, this large set of possible solutions\n",
        "seems to be increasingly easy to find in the space of all possible\n",
        "parameter configurations. As you increase the number of parameters, it becomes\n",
        "more likely that your initialization will be close to one of these good parameter settings.\n",
        "\n",
        "- This approach will require more memory and computation. Furthermore, we need\n",
        "to always be aware of the risk of overfitting: don’t forget to do cross-validation\n",
        "in order to be able to detect overfitting.\n",
        "\"\"\";"
      ],
      "execution_count": 32,
      "outputs": []
    },
    {
      "cell_type": "markdown",
      "metadata": {
        "id": "hxs3WgMWc2RN"
      },
      "source": [
        "---\n",
        "# Section 6: Full gradients are expensive\n",
        "\n",
        "So far we have used only a small (fixed) subset of 500 trainig examples to performe the updates on the model parameters in our quest to minimize the loss. But what if we decided to use the training set? Do our current approach scale to datasets with tens of thousands, or millions of datapoints?\n",
        "\n",
        "In this section we explore an efficient alternative to avoid having to perform computations on all the training examples before performing a parameter update."
      ]
    },
    {
      "cell_type": "code",
      "metadata": {
        "id": "Z702kx5rc2RN",
        "cellView": "form",
        "colab": {
          "base_uri": "https://localhost:8080/",
          "height": 579,
          "referenced_widgets": [
            "2606268c658941178171c2cdeb4dd6be",
            "75e0f8439b7f4dcc9d32b79f2e977aa7",
            "15951b50089c4a699b0e6070c2d5eeac",
            "f9cd9e9d2b4a4ce994a9e543d82a6237",
            "9aa1a830347e4607be14e0fb2af4645d",
            "27a2433980c1413db0184e42e3e8ff39"
          ]
        },
        "outputId": "cce73d73-9cd6-4099-de7d-6ca6632943fe"
      },
      "source": [
        "#@title Video 6: Mini-batches\n",
        "# Insert the ID of the corresponding youtube video\n",
        "from ipywidgets import widgets\n",
        "\n",
        "out2 = widgets.Output()\n",
        "with out2:\n",
        "  from IPython.display import IFrame\n",
        "  class BiliVideo(IFrame):\n",
        "    def __init__(self, id, page=1, width=400, height=300, **kwargs):\n",
        "      self.id=id\n",
        "      src = \"https://player.bilibili.com/player.html?bvid={0}&page={1}\".format(id, page)\n",
        "      super(BiliVideo, self).__init__(src, width, height, **kwargs)\n",
        "\n",
        "  video = BiliVideo(id=f\"\", width=854, height=480, fs=1)\n",
        "  print(\"Video available at https://www.bilibili.com/video/{0}\".format(video.id))\n",
        "  display(video)\n",
        "\n",
        "out1 = widgets.Output()\n",
        "with out1:\n",
        "  from IPython.display import YouTubeVideo\n",
        "  video = YouTubeVideo(id=f\"hbqUxpNBUGk\", width=854, height=480, fs=1, rel=0)\n",
        "  print(\"Video available at https://youtube.com/watch?v=\" + video.id)\n",
        "  display(video)\n",
        "\n",
        "out = widgets.Tab([out1, out2])\n",
        "out.set_title(0, 'Youtube')\n",
        "out.set_title(1, 'Bilibili')\n",
        "\n",
        "display(out)"
      ],
      "execution_count": 33,
      "outputs": [
        {
          "output_type": "display_data",
          "data": {
            "application/vnd.jupyter.widget-view+json": {
              "model_id": "2606268c658941178171c2cdeb4dd6be",
              "version_minor": 0,
              "version_major": 2
            },
            "text/plain": [
              "Tab(children=(Output(), Output()), _titles={'0': 'Youtube', '1': 'Bilibili'})"
            ]
          },
          "metadata": {
            "tags": []
          }
        }
      ]
    },
    {
      "cell_type": "markdown",
      "metadata": {
        "id": "3wFVliwHc2RO"
      },
      "source": [
        "## Interactive Demo 6.1: Cost of computation\n",
        "\n",
        "Evaluating a neural network is a relatively fast process. However, when repeated millions of times, the computational cost of performing forward and backwards passes through the network starts becoming significant.\n",
        "\n",
        "In the visualization below, we show the time (averaged over 5 runs) of computing a forward and backward pass with a changing number of input examples. Choose from the different options in the drop-down box and note how the vertical scale changes depending on the size of the network. \n",
        "\n",
        "**Remarks:** Note the computational cost of a forward pass follows a clear linear trend depending on the number of input examples, as well as how the cost of the corresponding backward pass has a similar computational complexity."
      ]
    },
    {
      "cell_type": "code",
      "metadata": {
        "id": "sXMdXA9qc2RP",
        "cellView": "form",
        "colab": {
          "base_uri": "https://localhost:8080/",
          "height": 319,
          "referenced_widgets": [
            "a5d564fa73e34e21964d83886f82e16f",
            "e1f28e3a06af4674906144010801d692",
            "65c2e24554164c9d810da891eccd9deb",
            "f2ba8dc436d14f65b42dc875a9977476",
            "b3da4a28d5a64431ba536fcacce5a977",
            "67ca30c11761459ca84a64a3850701a0",
            "0b3c89db5d4d4487bb8b92e29cf75d77"
          ]
        },
        "outputId": "657fa946-4c06-4de7-faec-d791727bbf89"
      },
      "source": [
        "#@markdown Execute this cell to enable the widget!\n",
        "\n",
        "def measure_update_time(model, num_points):\n",
        "  X, y = train_set.data[:num_points], train_set.targets[:num_points]\n",
        "  start_time = time.time()\n",
        "  loss = loss_fn(model(X), y)\n",
        "  loss_time = time.time()\n",
        "  gradient_update(loss, list(model.parameters()), lr=0)\n",
        "  gradient_time = time.time()\n",
        "  return loss_time - start_time, gradient_time - loss_time\n",
        "\n",
        "\n",
        "@widgets.interact\n",
        "def computation_time(hidden_dims=widgets.Dropdown(options=[\"1\", \"100\", \"50, 50\"],\n",
        "                                                  value=\"100\")):\n",
        "\n",
        "  hdims = [int(s) for s in hidden_dims.split(',')]\n",
        "  model = MLP(in_dim=784, out_dim=10, hidden_dims=hdims)\n",
        "\n",
        "  NUM_POINTS = [1, 5, 10, 100, 200, 500, 1000, 5000, 10000, 20000, 30000, 50000]\n",
        "  times_list = []\n",
        "  for _ in range(5):\n",
        "    times_list.append(np.array([measure_update_time(model, _) for _ in NUM_POINTS]))\n",
        "\n",
        "  times = np.array(times_list).mean(axis=0)\n",
        "\n",
        "  fig, axs = plt.subplots(1, 1, figsize=(5,4))\n",
        "  plt.plot(NUM_POINTS, times[:, 0], label='Forward')\n",
        "  plt.plot(NUM_POINTS, times[:, 1], label='Backward')\n",
        "  plt.xlabel('Number of data points')\n",
        "  plt.ylabel('Seconds')\n",
        "  plt.legend()"
      ],
      "execution_count": 34,
      "outputs": [
        {
          "output_type": "display_data",
          "data": {
            "application/vnd.jupyter.widget-view+json": {
              "model_id": "a5d564fa73e34e21964d83886f82e16f",
              "version_minor": 0,
              "version_major": 2
            },
            "text/plain": [
              "interactive(children=(Dropdown(description='hidden_dims', index=1, options=('1', '100', '50, 50'), value='100'…"
            ]
          },
          "metadata": {
            "tags": []
          }
        }
      ]
    },
    {
      "cell_type": "markdown",
      "metadata": {
        "id": "2OS_qOonc2RQ"
      },
      "source": [
        "### Coding Exercise 6.1: Implement minibatch sampling\n",
        "\n",
        "Complete the code in `sample_minibatch` so as to produce IID subsets of the training set of the desired size. (This is _not_ a trick question.) "
      ]
    },
    {
      "cell_type": "code",
      "metadata": {
        "id": "cJlJ3r3Uc2RQ"
      },
      "source": [
        "def sample_minibatch(input_data, target_data, num_points=100):\n",
        "  \"\"\"Sample a minibatch of size num_point from the provided input-target data\n",
        "\n",
        "  Args:\n",
        "    input_data (tensor): Multi-dimensional tensor containing the input data\n",
        "    input_data (tensor): 1D tensor containing the class labels\n",
        "    num_points (int): Number of elements to be included in minibatch\n",
        "\n",
        "  Returns:\n",
        "    batch_inputs (tensor): Minibatch inputs\n",
        "    batch_targets (tensor): Minibatch targets\n",
        "  \"\"\"\n",
        "  #################################################\n",
        "  ## TODO for students: sample minibatch of data ##\n",
        "  raise NotImplementedError(\"Student exercise: implement gradient update\")\n",
        "  #################################################\n",
        "  # Sample a collection of IID indices from the existing data\n",
        "  batch_indices = ...\n",
        "  # Use batch_indices to extract entries from the input and target data tensors\n",
        "  batch_inputs = input_data[...]\n",
        "  batch_targets = target_data[...]\n",
        "\n",
        "  return batch_inputs, batch_targets"
      ],
      "execution_count": 35,
      "outputs": []
    },
    {
      "cell_type": "code",
      "metadata": {
        "id": "Jf47XD5Vc2RR"
      },
      "source": [
        "# to_remove solution\n",
        "def sample_minibatch(input_data, target_data, num_points=100):\n",
        "  \"\"\"Sample a minibatch of size num_point from the provided input-target data\n",
        "\n",
        "  Args:\n",
        "    input_data (tensor): Multi-dimensional tensor containing the input data\n",
        "    input_data (tensor): 1D tensor containing the class labels\n",
        "    num_points (int): Number of elements to be included in minibatch\n",
        "\n",
        "  Returns:\n",
        "    batch_inputs (tensor): Minibatch inputs\n",
        "    batch_targets (tensor): Minibatch targets\n",
        "  \"\"\"\n",
        "  # Sample a collection of IID indices from the existing data\n",
        "  batch_indices = np.random.choice(len(input_data), num_points)\n",
        "  # Use batch_indices to extract entries from the input and target data tensors\n",
        "  batch_inputs = input_data[batch_indices, :]\n",
        "  batch_targets = target_data[batch_indices]\n",
        "\n",
        "  return batch_inputs, batch_targets"
      ],
      "execution_count": 36,
      "outputs": []
    },
    {
      "cell_type": "markdown",
      "metadata": {
        "id": "ybGcNSbec2RR"
      },
      "source": [
        "### Interactive Demo 6.2: *Compare* different minibatch sizes\n",
        "\n",
        "What are the trade-offs induced by the choice of minibatch size? The interactive plot below shows the training evolution of a 2-hidden layer MLP with 100 hidden units in each hidden layer. Different plots correspond to a different choice of minibatch size. We have a fixed time budget for all the cases, reflected in the horizontal axes of these plots."
      ]
    },
    {
      "cell_type": "code",
      "metadata": {
        "id": "oPCfAETgc2RS",
        "cellView": "form",
        "colab": {
          "base_uri": "https://localhost:8080/",
          "height": 146,
          "referenced_widgets": [
            "2320d830e8cb41d99438d875aa76cded",
            "5e7d24749c9b4909a58bf77e9e74579a",
            "2df8c1f0547a4c0ca0088c3ce9bbda99",
            "c7adc99f455449b2ac4d6f79510490c5",
            "03e5ba657b1c4336936a5f66cbaa12e4",
            "eef05f3ca9114e8db327b9d82b2baf70",
            "43ec8a661e79472991bd8b491b44646e",
            "f3ca9ba2c2ac4f63838db087be56303b",
            "d6ce7e13bd8e48049bdb419bafbefe62",
            "bba5902aa67344f49ba6a9cc289f7ca3",
            "899a518ff9a64fa9a20870281d842054",
            "27df546df60243e5836543a03392213b",
            "49a5dc84d646443b8024bdd6e40a0ea2",
            "977a0b672eba4d16946f056d4cf244ca",
            "a89abea0891f49b6907f1c203d1aa2e4",
            "6d26a7c8d172426e89019c5ea6c8cf57"
          ]
        },
        "outputId": "0dbccf1d-4495-46aa-a5b2-d8f9794a93c6"
      },
      "source": [
        "#@markdown Execute this cell to enable the widget!\n",
        "\n",
        "@widgets.interact_manual\n",
        "def minibatch_experiment(batch_sizes='20, 250, 1000',\n",
        "                         lrs='5e-3, 5e-3, 5e-3',\n",
        "                         time_budget=widgets.Dropdown(options=[\"2.5\", \"5\", \"10\"],\n",
        "                                                      value=\"2.5\")):\n",
        "    \n",
        "  batch_sizes = [int(s) for s in batch_sizes.split(',')]\n",
        "  lrs = [float(s) for s in lrs.split(',')]\n",
        "\n",
        "  LOSS_HIST = {_:[] for _ in batch_sizes}\n",
        "\n",
        "  X, y = train_set.data, train_set.targets\n",
        "  base_model = MLP(in_dim=784, out_dim=10, hidden_dims=[100, 100])\n",
        "\n",
        "  for id, batch_size in enumerate(batch_sizes):\n",
        "    start_time = time.time()\n",
        "    # Create a new copy of the model for each batch size\n",
        "    model = copy.deepcopy(base_model)\n",
        "    params = list(model.parameters())\n",
        "    lr = lrs[id]\n",
        "    # Fixed budget per choice of batch size\n",
        "    while (time.time() - start_time) < float(time_budget):\n",
        "      data, labels = sample_minibatch(X, y, batch_size)\n",
        "      loss = loss_fn(model(data), labels)\n",
        "      gradient_update(loss, params, lr=lr)\n",
        "      LOSS_HIST[batch_size].append([time.time() - start_time,\n",
        "                                    loss.item()])\n",
        "\n",
        "  fig, axs = plt.subplots(1, len(batch_sizes), figsize=(10, 3))\n",
        "  for ax, batch_size in zip(axs, batch_sizes):\n",
        "    plot_data = np.array(LOSS_HIST[batch_size])\n",
        "    ax.plot(plot_data[:, 0], plot_data[:, 1], label=batch_size,\n",
        "            alpha=0.8)\n",
        "    ax.set_title('Batch size: ' + str(batch_size))\n",
        "    ax.set_xlabel('Seconds')\n",
        "    ax.set_ylabel('Loss')"
      ],
      "execution_count": 37,
      "outputs": [
        {
          "output_type": "display_data",
          "data": {
            "application/vnd.jupyter.widget-view+json": {
              "model_id": "2320d830e8cb41d99438d875aa76cded",
              "version_minor": 0,
              "version_major": 2
            },
            "text/plain": [
              "interactive(children=(Text(value='20, 250, 1000', description='batch_sizes'), Text(value='5e-3, 5e-3, 5e-3', d…"
            ]
          },
          "metadata": {
            "tags": []
          }
        }
      ]
    },
    {
      "cell_type": "markdown",
      "metadata": {
        "id": "LKd-JJfUc2RS"
      },
      "source": [
        "**Remarks:** SGD works! We have an algorithm that can be applied (with the due precautions) to learn datasets of arbitrary size. \n",
        "\n",
        "However, **note the diference in the vertical scale** across the plots above. When using a larger minibatch, we can perform fewer parameter updates as the forward and backward passes are more expensive.\n",
        "\n",
        "This highlights the interplay between the minibatch size and the learning rate: when our minibatch is larger, we have a more confident estimator of the direction to move, and thus can afford a larger learning rate. On the other hand, extremely small minibatches are very fast computationally but are not representative of the data distribution and yield estimations of the gradient with high variance.\n",
        "\n",
        "We encourage you to tune the value of the learning rate for each of the minibatch sizes in the previous demo, to achieve a training loss steadily below 0.5 within 5 seconds."
      ]
    },
    {
      "cell_type": "markdown",
      "metadata": {
        "id": "tnDMiCF_c2RT"
      },
      "source": [
        "---\n",
        "# Section 7: Adaptive methods\n",
        "\n",
        "As of now, you should be aware that there are many knobs to turn when working on a machine learning problem. Some of these relate to the optimization algorithm, to the choice of model, or to the objective to minimize. Here are some prototypical examples:\n",
        "\n",
        "- Problem: loss function, regularization coefficients (Day 5)\n",
        "- Model: architecture, activations function\n",
        "- Optimizer: learning rate, batch size, momentum coefficient\n",
        "\n",
        "We concentrate on the choices that are directly related with optimization. In particular, we will explore some _automatic_ methods for setting the learning rate, in a way that fixes the poor-conditioning problem and is robust across different problems."
      ]
    },
    {
      "cell_type": "code",
      "metadata": {
        "id": "kI9kVRROc2RT",
        "cellView": "form",
        "colab": {
          "base_uri": "https://localhost:8080/",
          "height": 579,
          "referenced_widgets": [
            "c46d8fa54e53488eb02f59ef730b1a7f",
            "6a261b2f568c4437bfb8389d42aab2f9",
            "f2dbcb3264ca407c99cf5351405b9dd1",
            "271e3e27ef9a49228e68ba6cf91443a1",
            "763a1907ad5f41038de7e8992270be96",
            "00f4b606c9554e94840a083afe4a5607"
          ]
        },
        "outputId": "57314e2b-afe4-4332-c98a-dec548166b1d"
      },
      "source": [
        "#@title Video 7: Adaptive Methods\n",
        "# Insert the ID of the corresponding youtube video\n",
        "from ipywidgets import widgets\n",
        "\n",
        "out2 = widgets.Output()\n",
        "with out2:\n",
        "  from IPython.display import IFrame\n",
        "  class BiliVideo(IFrame):\n",
        "    def __init__(self, id, page=1, width=400, height=300, **kwargs):\n",
        "      self.id=id\n",
        "      src = \"https://player.bilibili.com/player.html?bvid={0}&page={1}\".format(id, page)\n",
        "      super(BiliVideo, self).__init__(src, width, height, **kwargs)\n",
        "\n",
        "  video = BiliVideo(id=f\"\", width=854, height=480, fs=1)\n",
        "  print(\"Video available at https://www.bilibili.com/video/{0}\".format(video.id))\n",
        "  display(video)\n",
        "\n",
        "out1 = widgets.Output()\n",
        "with out1:\n",
        "  from IPython.display import YouTubeVideo\n",
        "  video = YouTubeVideo(id=f\"Zr6r2kfmQUM\", width=854, height=480, fs=1, rel=0)\n",
        "  print(\"Video available at https://youtube.com/watch?v=\" + video.id)\n",
        "  display(video)\n",
        "\n",
        "out = widgets.Tab([out1, out2])\n",
        "out.set_title(0, 'Youtube')\n",
        "out.set_title(1, 'Bilibili')\n",
        "\n",
        "display(out)"
      ],
      "execution_count": 38,
      "outputs": [
        {
          "output_type": "display_data",
          "data": {
            "application/vnd.jupyter.widget-view+json": {
              "model_id": "c46d8fa54e53488eb02f59ef730b1a7f",
              "version_minor": 0,
              "version_major": 2
            },
            "text/plain": [
              "Tab(children=(Output(), Output()), _titles={'0': 'Youtube', '1': 'Bilibili'})"
            ]
          },
          "metadata": {
            "tags": []
          }
        }
      ]
    },
    {
      "cell_type": "markdown",
      "metadata": {
        "id": "0jVQ3lNDc2RT"
      },
      "source": [
        "### Coding Exercise 7.1: Implement RMSprop\n",
        "\n",
        "In this exercise you will implement the update of the RMSprop optimizer:\n",
        "\n",
        "$$ w_{t+1} = w_t - \\eta \\frac{\\nabla J(w_t)}{\\sqrt{v_t + \\epsilon}}$$\n",
        "\n",
        "$$ v_{t+1} = \\alpha v_t + (1 - \\alpha) \\nabla J(w_t)^2,$$\n",
        "\n",
        "where the non-standard operations (division of two vectors, squaring a vector, etc) are to be interpreted as element-wise operations, i.e., the operation is applied to each (pair of) entry[ies] of the vector(s) considered as real number(s).\n",
        "\n",
        "Here, the $\\epsilon$ hyperparameter provides numerical estability to the algorithm, by preventing the learning rate to become too big when $v_t$ is small. Typically, we set $\\epsilon$ to a default small value, like $10^{-8}$.  "
      ]
    },
    {
      "cell_type": "code",
      "metadata": {
        "id": "zCu99tXYc2RU"
      },
      "source": [
        "def rmsprop_update(loss, params, grad_sq, lr=1e-1, alpha=0.8):\n",
        "  \"\"\"Perform an RMSprop update on a collection of parameters\n",
        "\n",
        "  Args:\n",
        "    loss (tensor): A scalar tensor containing the loss whose gradient will be computed\n",
        "    params (iterable): Collection of parameters with respect to which we compute gradients\n",
        "    grad_sq (iterable): Moving average of squared gradients\n",
        "    lr (float): Scalar specifying the learning rate or step-size for the update\n",
        "    alpha (float): Moving average parameter\n",
        "  \"\"\"\n",
        "  # Clear up gradients as Pytorch automatically accumulates gradients from\n",
        "  # successive backward calls\n",
        "  zero_grad(params)\n",
        "  # Compute gradients on given objective\n",
        "  loss.backward()\n",
        "\n",
        "  for (par, gsq) in zip(params, grad_sq):\n",
        "    #################################################\n",
        "    ## TODO for students: update the value of the parameter ##\n",
        "    # Use gsq.data and par.grad\n",
        "    raise NotImplementedError(\"Student exercise: implement gradient update\")\n",
        "    #################################################       \n",
        "    # Update estimate of gradient variance\n",
        "    gsq.data = ...\n",
        "    # Update parameters\n",
        "    par.data -= ..."
      ],
      "execution_count": 39,
      "outputs": []
    },
    {
      "cell_type": "code",
      "metadata": {
        "id": "BjJFVr_ec2RU"
      },
      "source": [
        "# to_remove solution\n",
        "def rmsprop_update(loss, params, grad_sq, lr=1e-1, alpha=0.8):\n",
        "  \"\"\"Perform an RMSprop update on a collection of parameters\n",
        "\n",
        "  Args:\n",
        "    loss (tensor): A scalar tensor containing the loss whose gradient will be computed\n",
        "    params (iterable): Collection of parameters with respect to which we compute gradients\n",
        "    grad_sq (iterable): Moving average of squared gradients\n",
        "    lr (float): Scalar specifying the learning rate or step-size for the update\n",
        "    alpha (float): Moving average parameter\n",
        "  \"\"\"\n",
        "  # Clear up gradients as Pytorch automatically accumulates gradients from\n",
        "  # successive backward calls\n",
        "  zero_grad(params)\n",
        "  # Compute gradients on given objective\n",
        "  loss.backward()\n",
        "\n",
        "  for (par, gsq) in zip(params, grad_sq):\n",
        "    # Update estimate of gradient variance\n",
        "    gsq.data = alpha * gsq.data + (1-alpha) * par.grad**2\n",
        "    # Update parameters\n",
        "    par.data -=  lr * (par.grad / (1e-8 + gsq.data)**0.5)"
      ],
      "execution_count": 40,
      "outputs": []
    },
    {
      "cell_type": "markdown",
      "metadata": {
        "id": "SPz-9BlUc2RU"
      },
      "source": [
        "### Interactive Demo 7.1: Compare optimizers\n",
        "\n",
        "Below, we compare your implementations of SGD, momentum and RMSprop. If you have successfully coded all the exercises so far: congrats! You are now *in the know* of some of the most commonly used and powerful tools of optimization for deep learning. "
      ]
    },
    {
      "cell_type": "code",
      "metadata": {
        "id": "y3cZiXxTc2RV",
        "cellView": "form",
        "colab": {
          "base_uri": "https://localhost:8080/",
          "height": 310,
          "referenced_widgets": [
            "b7fbf756d57f461db91dc661e82e4050",
            "c7884cff83444250a3c8a7ccc4ad8f4f",
            "3e7371cb8179466796f0efa326386161",
            "62c104d185104c67ad94545ad52a1975",
            "75662e053d9140ec8a94bb528d3e1b30",
            "a2b43f7c8e614f7190d181baccdd64b0",
            "6548e6f6d1e94cc98a7e2d5ec3cbf52c",
            "7877c8f656344aff8ffcc0df4147856e",
            "ede312e8677d4d519cff5951ec9d8b36",
            "1db997b94b7b4bcd8dafb767d183406a",
            "8dcf7066077549a3a7d32db26d684c54",
            "ea8bf5df1a704277bc1aade0ead01cd2",
            "d68decb62eb745ddbfebc57d53473893"
          ]
        },
        "outputId": "77a46563-960d-42c7-a750-e46be8aa1af9"
      },
      "source": [
        "#@markdown Execute this cell to enable the widget!\n",
        "\n",
        "X, y = train_set.data, train_set.targets\n",
        "\n",
        "@widgets.interact\n",
        "def compare_optimizers(batch_size=(25, 250, 5),\n",
        "                       lr=widgets.FloatLogSlider(value=2e-3, min=-5, max=0),\n",
        "                       max_steps=(50, 500, 5)):\n",
        "\n",
        "  SGD_DICT = [gradient_update, 'SGD', 'black', '-', {'lr': lr}]\n",
        "  MOM_DICT = [momentum_update, 'Momentum', 'red', '--', {'lr': lr, 'beta': 0.9}]\n",
        "  RMS_DICT = [rmsprop_update, 'RMSprop', 'fuchsia', '-', {'lr': lr, 'alpha': 0.8}]\n",
        "\n",
        "  ALL_DICTS = [SGD_DICT, MOM_DICT, RMS_DICT]\n",
        "\n",
        "  base_model = MLP(in_dim=784, out_dim=10, hidden_dims=[100, 100])\n",
        "\n",
        "  LOSS_HIST = {}\n",
        "\n",
        "  for opt_dict in ALL_DICTS:\n",
        "    update_fn, opt_name, color, lstyle, kwargs = opt_dict\n",
        "    LOSS_HIST[opt_name] = []\n",
        "\n",
        "    model = copy.deepcopy(base_model)\n",
        "    params = list(model.parameters())\n",
        "\n",
        "    if opt_name != 'SGD':\n",
        "      aux_tensors = [torch.zeros_like(_) for _ in params]\n",
        "\n",
        "    for step in range(max_steps):\n",
        "      data, labels = sample_minibatch(X, y, batch_size)\n",
        "      loss = loss_fn(model(data), labels)\n",
        "      if opt_name == 'SGD':\n",
        "        update_fn(loss, params, **kwargs)\n",
        "      else:\n",
        "        update_fn(loss, params, aux_tensors, **kwargs)\n",
        "      LOSS_HIST[opt_name].append(loss.item())\n",
        "\n",
        "  fig, axs = plt.subplots(1, len(ALL_DICTS), figsize=(9, 3))\n",
        "\n",
        "  for ax, optim_dict in zip(axs, ALL_DICTS):\n",
        "    opt_name = optim_dict[1]\n",
        "    ax.plot(range(max_steps), LOSS_HIST[opt_name], alpha=0.8)\n",
        "    ax.set_title(opt_name)\n",
        "    ax.set_xlabel('Iteration')\n",
        "    ax.set_ylabel('Loss')\n",
        "    ax.set_ylim(0, 2.5)"
      ],
      "execution_count": 41,
      "outputs": [
        {
          "output_type": "display_data",
          "data": {
            "application/vnd.jupyter.widget-view+json": {
              "model_id": "b7fbf756d57f461db91dc661e82e4050",
              "version_minor": 0,
              "version_major": 2
            },
            "text/plain": [
              "interactive(children=(IntSlider(value=135, description='batch_size', max=250, min=25, step=5), FloatLogSlider(…"
            ]
          },
          "metadata": {
            "tags": []
          }
        }
      ]
    },
    {
      "cell_type": "markdown",
      "metadata": {
        "id": "MxmvTMmLcsal"
      },
      "source": [
        "#### **Discussion**\n",
        "\n",
        "Tune the 3 methods above in order to make each individually excel and discuss your findings. How do the methods compare in terms of robustness to small changes of the hyperparameters? How easy was it to find a good hyperparameter configuration? "
      ]
    },
    {
      "cell_type": "markdown",
      "metadata": {
        "id": "xHxWPJ2jc2RV"
      },
      "source": [
        "\n",
        "**Remarks:** Note that RMSprop is allowing us to use a 'per-dimension' learning rate _without having to tune one learning rate for each dimension **ourselves**_. The method uses information collected about the variance of the gradients throughout training to **adapt** the step size for each of the parameters automatically. The savings in tuning efforts of RMSprop over SGD or 'plain' momentum are undisputed on this task. \n",
        "\n",
        "Moreover, adaptive optimization methods are currently a highly active research domain, with many related algorithms like Adam, AMSgrad, Adagrad being used in practical application and theoretically investigated. "
      ]
    },
    {
      "cell_type": "markdown",
      "metadata": {
        "id": "Zd9WpA04c2RW"
      },
      "source": [
        "---\n",
        "# Section 8: Putting it all together\n",
        "\n",
        "We have progressively built a sophisticated optimization algorithm which is able to deal with a non-convex, poor-conditioned problem concerning tens of thousands of training examples. Now we present _you_ with a small challenge: beat us! :P\n",
        "\n",
        "Your mission is to train an MLP model that can compete with a benchmark model which we have pre-trained for you. In this section you will be able to use the full Pytorch power: loading the data, defining the model, sampling minibatches as well as Pytorch's **optimizer implementations**. \n",
        "\n",
        "There is a big engineering component behind the design of optimizers and their implementation can sometimes become tricky. So unless you are directly doing research in optimization, it's recommended to use an implementation provided by a widely reviewed open-source library."
      ]
    },
    {
      "cell_type": "code",
      "metadata": {
        "id": "gxsPkE6Gc2RW",
        "cellView": "form",
        "colab": {
          "base_uri": "https://localhost:8080/",
          "height": 579,
          "referenced_widgets": [
            "1eabd92247764a49b0ddcc4fbbad7e0f",
            "7bc7f778219542ea9237be4db5b249e8",
            "0ba6a678cccb4c32a9feb9cd209a37f2",
            "b5fc6f823b324bec877bf4920a767928",
            "d6b63fa409594bad95a692d0ef49c0ca",
            "5fb190187ba3431fb4cf7d1ce02fa843"
          ]
        },
        "outputId": "06a99398-f7cf-493d-9af1-7776d0bea82e"
      },
      "source": [
        "#@title Video 8: Putting it all together\n",
        "# Insert the ID of the corresponding youtube video\n",
        "from ipywidgets import widgets\n",
        "\n",
        "out2 = widgets.Output()\n",
        "with out2:\n",
        "  from IPython.display import IFrame\n",
        "  class BiliVideo(IFrame):\n",
        "    def __init__(self, id, page=1, width=400, height=300, **kwargs):\n",
        "      self.id=id\n",
        "      src = \"https://player.bilibili.com/player.html?bvid={0}&page={1}\".format(id, page)\n",
        "      super(BiliVideo, self).__init__(src, width, height, **kwargs)\n",
        "\n",
        "  video = BiliVideo(id=f\"\", width=854, height=480, fs=1)\n",
        "  print(\"Video available at https://www.bilibili.com/video/{0}\".format(video.id))\n",
        "  display(video)\n",
        "\n",
        "out1 = widgets.Output()\n",
        "with out1:\n",
        "  from IPython.display import YouTubeVideo\n",
        "  video = YouTubeVideo(id=f\"DP9c13vLiOM\", width=854, height=480, fs=1, rel=0)\n",
        "  print(\"Video available at https://youtube.com/watch?v=\" + video.id)\n",
        "  display(video)\n",
        "\n",
        "out = widgets.Tab([out1, out2])\n",
        "out.set_title(0, 'Youtube')\n",
        "out.set_title(1, 'Bilibili')\n",
        "\n",
        "display(out)"
      ],
      "execution_count": 42,
      "outputs": [
        {
          "output_type": "display_data",
          "data": {
            "application/vnd.jupyter.widget-view+json": {
              "model_id": "1eabd92247764a49b0ddcc4fbbad7e0f",
              "version_minor": 0,
              "version_major": 2
            },
            "text/plain": [
              "Tab(children=(Output(), Output()), _titles={'0': 'Youtube', '1': 'Bilibili'})"
            ]
          },
          "metadata": {
            "tags": []
          }
        }
      ]
    },
    {
      "cell_type": "code",
      "metadata": {
        "id": "iCsQZUJGc2RW",
        "colab": {
          "base_uri": "https://localhost:8080/"
        },
        "outputId": "87f412c6-6be3-405d-f379-646ca555e35a"
      },
      "source": [
        "DEVICE = set_device()\n",
        "\n",
        "# Download parameters of the benchmark model\n",
        "import urllib.request\n",
        "file_url = \"https://gallego-posada.github.io/resources/benchmark_model.pt\"\n",
        "urllib.request.urlretrieve(file_url, \"benchmark_model.pt\")\n",
        "\n",
        "# Load the benchmark model's parameters\n",
        "if DEVICE == \"cuda\":\n",
        "  benchmark_state_dict = torch.load('benchmark_model.pt')\n",
        "else:\n",
        "  benchmark_state_dict = torch.load('benchmark_model.pt',\n",
        "                                    map_location=torch.device('cpu'))\n",
        "\n",
        "# Create MLP object and update weights with those of saved model\n",
        "benchmark_model = MLP(in_dim=784, out_dim=10, hidden_dims=[200, 100, 50])\n",
        "benchmark_model.load_state_dict(benchmark_state_dict)\n",
        "\n",
        "# Define helper function to evaluate models\n",
        "def eval_model(model, data_loader, num_batches=np.inf):\n",
        "\n",
        "  loss_log, acc_log = [], []\n",
        "  device = set_device()\n",
        "  model.to(device=device)\n",
        "\n",
        "  # We are just evaluating the model, no need to compute gradients\n",
        "  with torch.no_grad():\n",
        "    for batch_id, batch in enumerate(data_loader):\n",
        "      # If we only evaluate a number of batches, stop after we reach that number\n",
        "      if batch_id > num_batches:\n",
        "        break\n",
        "      # Extract minibatch data\n",
        "      data, labels = batch[0].to(device), batch[1].to(device)\n",
        "      # Evaluate model and loss on minibatch\n",
        "      preds = model(data)\n",
        "      loss_log.append(loss_fn(preds, labels).item())\n",
        "      acc_log.append(torch.mean(1. * (preds.argmax(dim=1) == labels)).item())\n",
        "\n",
        "  return np.mean(loss_log), np.mean(acc_log)"
      ],
      "execution_count": 43,
      "outputs": [
        {
          "output_type": "stream",
          "text": [
            "GPU is enabled in this notebook.\n"
          ],
          "name": "stdout"
        }
      ]
    },
    {
      "cell_type": "markdown",
      "metadata": {
        "id": "jORn-zfZc2RX"
      },
      "source": [
        "We define an optimizer in the following steps:\n",
        "\n",
        "1. Load  the corresponding class that implements the parameter updates and other internal management activities, including:\n",
        "    - create auxiliary variables,\n",
        "    - update moving averages,\n",
        "    - adjust learning rate.\n",
        "2. Pass the parameters of the Pytorch model that the optimizer has control over. Note that different parameter groups can potentially be controlled by different optimizers.\n",
        "3. Specify hyperparameters, including learning rate, momentum, moving average factors, etc.\n",
        "\n"
      ]
    },
    {
      "cell_type": "markdown",
      "metadata": {
        "id": "ce1HKFyfc2RX"
      },
      "source": [
        "### Coding Exercise 8.1: Train your own model\n",
        "\n",
        "Now, train the model with your preferred optimizer and find a good combination of hyperparameter settings."
      ]
    },
    {
      "cell_type": "code",
      "metadata": {
        "id": "kU8LKPt7c2RX"
      },
      "source": [
        "#################################################\n",
        "## TODO for students: adjust training settings ##\n",
        "\n",
        "# The three parameters below are in your full control\n",
        "MAX_EPOCHS = 2 #select number of epochs to train\n",
        "LR = 1e-5 #choose the step size\n",
        "BATCH_SIZE = 64 #number of examples per minibatch\n",
        "\n",
        "# Define the model and associated optimizer -- you may change its architecture!\n",
        "model = MLP(in_dim=784, out_dim=10, hidden_dims=[20, 50, 20])\n",
        "\n",
        "if DEVICE == \"cuda\":\n",
        "  model.cuda()\n",
        "\n",
        "# You can take your pick from many different optimizers\n",
        "# Check the optimizer documentation and hyperparameter meaning before using!\n",
        "# More details on Pytorch optimizers: https://pytorch.org/docs/stable/optim.html\n",
        "# optimizer = torch.optim.SGD(model.parameters(), lr=LR, momentum=0.9)\n",
        "# optimizer = torch.optim.RMSprop(model.parameters(), lr=LR, alpha=0.99)\n",
        "# optimizer = torch.optim.Adagrad(model.parameters(), lr=LR)\n",
        "optimizer = torch.optim.Adam(model.parameters(), lr=LR)\n",
        "#################################################"
      ],
      "execution_count": 44,
      "outputs": []
    },
    {
      "cell_type": "code",
      "metadata": {
        "id": "HXmnV14pc2RY",
        "colab": {
          "base_uri": "https://localhost:8080/"
        },
        "outputId": "f202a0e3-b0d5-4d19-a0c7-33f59acaaa21"
      },
      "source": [
        "# Print trainig stats every LOG_FREQ minibatches\n",
        "LOG_FREQ = 200 \n",
        "\n",
        "# Frequency for evaluating the validation metrics\n",
        "VAL_FREQ = 200 \n",
        "\n",
        "# Load data using a Pytorch Dataset\n",
        "train_set, test_set = load_mnist_data(change_tensors=False)\n",
        "\n",
        "# We separate 10.000 training samples to create a validation set\n",
        "train_set, val_set = torch.utils.data.random_split(train_set, [50000, 10000])\n",
        "\n",
        "# Create the corresponding DataLoaders for training and test\n",
        "train_loader = torch.utils.data.DataLoader(train_set, shuffle=True, batch_size=BATCH_SIZE)\n",
        "val_loader = torch.utils.data.DataLoader(val_set, shuffle=True, batch_size=256)\n",
        "test_loader = torch.utils.data.DataLoader(test_set, batch_size=256)\n",
        "\n",
        "# Run training\n",
        "metrics = {'train_loss':[], 'train_acc':[], 'val_loss':[], 'val_acc':[], 'val_idx':[]}\n",
        "step_idx = 0\n",
        "for epoch in range(MAX_EPOCHS):\n",
        "\n",
        "  running_loss, running_acc = 0., 0.\n",
        "\n",
        "  for batch_id, batch in enumerate(train_loader):\n",
        "    step_idx += 1\n",
        "    # Extract minibatch data and labels\n",
        "    data, labels = batch[0].to(DEVICE), batch[1].to(DEVICE)\n",
        "    # Just like before, refresh gradient accumulators.\n",
        "    # Note that this is now a method of the optimizer.\n",
        "    optimizer.zero_grad()\n",
        "    # Evaluate model and loss on minibatch\n",
        "    preds = model(data)\n",
        "    loss = loss_fn(preds, labels)\n",
        "    acc = torch.mean(1.0 * (preds.argmax(dim=1) == labels))\n",
        "    # Compute gradients\n",
        "    loss.backward()\n",
        "    # Update parameters\n",
        "    # Note how all the magic in the update of the parameters is encapsulated by\n",
        "    # the optimizer class.\n",
        "    optimizer.step()\n",
        "    # Log metrics for plotting\n",
        "    metrics['train_loss'].append(loss.cpu().item())\n",
        "    metrics['train_acc'].append(acc.cpu().item())\n",
        "\n",
        "    if batch_id % VAL_FREQ == (VAL_FREQ-1):\n",
        "      # Get an estimate of the validation accuracy with 100 batches\n",
        "      val_loss, val_acc = eval_model(model, val_loader, 100)\n",
        "      metrics['val_idx'].append(step_idx)\n",
        "      metrics['val_loss'].append(val_loss)\n",
        "      metrics['val_acc'].append(val_acc)\n",
        "\n",
        "      print('[VALID] Epoch %d - Batch %d - Loss: %.3f - Acc: %.3f' %\n",
        "            (epoch + 1, batch_id + 1, val_loss, 100*val_acc))\n",
        "        \n",
        "    # print statistics\n",
        "    running_loss += loss.cpu().item()\n",
        "    running_acc += acc.cpu().item()\n",
        "    if batch_id % LOG_FREQ == (LOG_FREQ-1): # Print every LOG_FREQ minibatches\n",
        "      print('[TRAIN] Epoch %d - Batch %d - Loss: %.3f - Acc: %.3f' %\n",
        "            (epoch + 1, batch_id + 1, running_loss / LOG_FREQ, 100 * running_acc / LOG_FREQ))\n",
        "      running_loss, running_acc = 0., 0."
      ],
      "execution_count": 45,
      "outputs": [
        {
          "output_type": "stream",
          "text": [
            "GPU is enabled in this notebook.\n",
            "[VALID] Epoch 1 - Batch 200 - Loss: 2.290 - Acc: 14.658\n",
            "[TRAIN] Epoch 1 - Batch 200 - Loss: 2.298 - Acc: 12.406\n",
            "GPU is enabled in this notebook.\n",
            "[VALID] Epoch 1 - Batch 400 - Loss: 2.271 - Acc: 20.654\n",
            "[TRAIN] Epoch 1 - Batch 400 - Loss: 2.280 - Acc: 17.703\n",
            "GPU is enabled in this notebook.\n",
            "[VALID] Epoch 1 - Batch 600 - Loss: 2.242 - Acc: 32.500\n",
            "[TRAIN] Epoch 1 - Batch 600 - Loss: 2.258 - Acc: 27.125\n",
            "GPU is enabled in this notebook.\n",
            "[VALID] Epoch 2 - Batch 200 - Loss: 2.155 - Acc: 42.783\n",
            "[TRAIN] Epoch 2 - Batch 200 - Loss: 2.181 - Acc: 41.922\n",
            "GPU is enabled in this notebook.\n",
            "[VALID] Epoch 2 - Batch 400 - Loss: 2.094 - Acc: 42.959\n",
            "[TRAIN] Epoch 2 - Batch 400 - Loss: 2.122 - Acc: 42.875\n",
            "GPU is enabled in this notebook.\n",
            "[VALID] Epoch 2 - Batch 600 - Loss: 2.025 - Acc: 45.195\n",
            "[TRAIN] Epoch 2 - Batch 600 - Loss: 2.061 - Acc: 44.000\n"
          ],
          "name": "stdout"
        }
      ]
    },
    {
      "cell_type": "code",
      "metadata": {
        "id": "wD_NS1PYc2RY",
        "colab": {
          "base_uri": "https://localhost:8080/",
          "height": 303
        },
        "outputId": "ed4e6e31-390b-46d1-853c-e9d694788d1f"
      },
      "source": [
        "fig, ax = plt.subplots(1, 2, figsize=(10, 4))\n",
        "\n",
        "ax[0].plot(range(len(metrics['train_loss'])), metrics['train_loss'],\n",
        "           alpha=0.8, label='Train')\n",
        "ax[0].plot(metrics['val_idx'], metrics['val_loss'], label='Valid')\n",
        "ax[0].set_xlabel('Iteration')\n",
        "ax[0].set_ylabel('Loss')\n",
        "ax[0].legend()\n",
        "\n",
        "ax[1].plot(range(len(metrics['train_acc'])), metrics['train_acc'],\n",
        "           alpha=0.8, label='Train')\n",
        "ax[1].plot(metrics['val_idx'], metrics['val_acc'], label='Valid')\n",
        "ax[1].set_xlabel('Iteration')\n",
        "ax[1].set_ylabel('Accuracy')\n",
        "ax[1].legend()"
      ],
      "execution_count": 46,
      "outputs": [
        {
          "output_type": "execute_result",
          "data": {
            "text/plain": [
              "<matplotlib.legend.Legend at 0x7fee94747610>"
            ]
          },
          "metadata": {
            "tags": []
          },
          "execution_count": 46
        },
        {
          "output_type": "display_data",
          "data": {
            "image/png": "[encoded data removed]",
            "text/plain": [
              "<Figure size 720x288 with 2 Axes>"
            ]
          },
          "metadata": {
            "tags": [],
            "image/png": {
              "width": 702,
              "height": 269
            },
            "needs_background": "light"
          }
        }
      ]
    },
    {
      "cell_type": "markdown",
      "metadata": {
        "id": "4sZWe4zm0Q_1"
      },
      "source": [
        "### Think!\n",
        "\n",
        "Which metric did you optimize when searching for the right configuration? The training set loss? Accuracy? Validation/test set metrics? Why? Discuss!"
      ]
    },
    {
      "cell_type": "code",
      "metadata": {
        "id": "VsrFf3noukEn"
      },
      "source": [
        "#to_remove explanation\n",
        "\n",
        "\"\"\"\n",
        "  Remember the discussion in Section 1 about surrogate objectives.\n",
        "Our optimization methods minimize the loss, but at the end of the day we care about test accuracy.\n",
        "\n",
        "  However, we can't directly optimize for test accuracy and the finite size of our\n",
        "datasets lead us to (cross-)validation:\n",
        "\n",
        "  1. We minimize the loss (empirical risk minimization) on our *training set*. \n",
        "  2. We choose models and hyperparameters on the *validation set*. \n",
        "  3. We use the *test set* in order to report the final performance of our model on unseen data.\n",
        "\"\"\";"
      ],
      "execution_count": 47,
      "outputs": []
    },
    {
      "cell_type": "markdown",
      "metadata": {
        "id": "rWX53_-7jCry"
      },
      "source": [
        "### Evaluation\n",
        "\n",
        "We _finally_ can evaluate and compare the performance of the models on previously unseen examples. \n",
        "\n",
        "Which model would you keep? (\\*drum roll*)    "
      ]
    },
    {
      "cell_type": "code",
      "metadata": {
        "id": "KzYdSIMhi_qe",
        "colab": {
          "base_uri": "https://localhost:8080/"
        },
        "outputId": "7428ece3-f258-448a-e80a-5874018d97c0"
      },
      "source": [
        "print('Your model')\n",
        "train_loss, train_accuracy = eval_model(model, train_loader)\n",
        "test_loss, test_accuracy = eval_model(model, test_loader)\n",
        "print('Train/Test Loss %.3f %.3f' % (train_loss, test_loss))\n",
        "print('Train/Test Accuracy %.3f %.3f' % (100*train_accuracy, 100*test_accuracy))\n",
        "\n",
        "print('\\nBenchmark model')\n",
        "train_loss, train_accuracy = eval_model(benchmark_model, train_loader)\n",
        "test_loss, test_accuracy = eval_model(benchmark_model, test_loader)\n",
        "print('Train/Test Loss %.3f %.3f' % (train_loss, test_loss))\n",
        "print('Train/Test Accuracy %.3f %.3f' % (100*train_accuracy, 100*test_accuracy))"
      ],
      "execution_count": 48,
      "outputs": [
        {
          "output_type": "stream",
          "text": [
            "Your model\n",
            "GPU is enabled in this notebook.\n",
            "GPU is enabled in this notebook.\n",
            "Train/Test Loss 1.958 1.951\n",
            "Train/Test Accuracy 46.270 46.475\n",
            "\n",
            "Benchmark model\n",
            "GPU is enabled in this notebook.\n",
            "GPU is enabled in this notebook.\n",
            "Train/Test Loss 0.010 0.025\n",
            "Train/Test Accuracy 99.796 99.316\n"
          ],
          "name": "stdout"
        }
      ]
    },
    {
      "cell_type": "markdown",
      "metadata": {
        "id": "0OzjYeuBc2RZ"
      },
      "source": [
        "---\n",
        "# Section 9: Ethical concerns"
      ]
    },
    {
      "cell_type": "code",
      "metadata": {
        "id": "m-6RIjuEc2RZ",
        "cellView": "form",
        "colab": {
          "base_uri": "https://localhost:8080/",
          "height": 579,
          "referenced_widgets": [
            "57625c511e354e7fbd64199fdbfa04de",
            "22ee2a2f5faa47428c9554e148524f6e",
            "7af8f98fa6ac4249b62448a52909059b",
            "4e8e32b1bf024f92a7cf282eb17d6ce7",
            "3d8c73f1760041e98fe50afcd391951a",
            "10924a50f2884247b258f8a92b2f2aca"
          ]
        },
        "outputId": "bca159fb-201e-4140-9fd4-1c38b45e3ed3"
      },
      "source": [
        "#@title Video 9: Ethical concerns\n",
        "# Insert the ID of the corresponding youtube video\n",
        "from ipywidgets import widgets\n",
        "\n",
        "out2 = widgets.Output()\n",
        "with out2:\n",
        "  from IPython.display import IFrame\n",
        "  class BiliVideo(IFrame):\n",
        "    def __init__(self, id, page=1, width=400, height=300, **kwargs):\n",
        "      self.id=id\n",
        "      src = \"https://player.bilibili.com/player.html?bvid={0}&page={1}\".format(id, page)\n",
        "      super(BiliVideo, self).__init__(src, width, height, **kwargs)\n",
        "\n",
        "  video = BiliVideo(id=f\"\", width=854, height=480, fs=1)\n",
        "  print(\"Video available at https://www.bilibili.com/video/{0}\".format(video.id))\n",
        "  display(video)\n",
        "\n",
        "out1 = widgets.Output()\n",
        "with out1:\n",
        "  from IPython.display import YouTubeVideo\n",
        "  video = YouTubeVideo(id=f\"0EthSI0cknI\", width=854, height=480, fs=1, rel=0)\n",
        "  print(\"Video available at https://youtube.com/watch?v=\" + video.id)\n",
        "  display(video)\n",
        "\n",
        "out = widgets.Tab([out1, out2])\n",
        "out.set_title(0, 'Youtube')\n",
        "out.set_title(1, 'Bilibili')\n",
        "\n",
        "display(out)"
      ],
      "execution_count": 49,
      "outputs": [
        {
          "output_type": "display_data",
          "data": {
            "application/vnd.jupyter.widget-view+json": {
              "model_id": "57625c511e354e7fbd64199fdbfa04de",
              "version_minor": 0,
              "version_major": 2
            },
            "text/plain": [
              "Tab(children=(Output(), Output()), _titles={'0': 'Youtube', '1': 'Bilibili'})"
            ]
          },
          "metadata": {
            "tags": []
          }
        }
      ]
    },
    {
      "cell_type": "markdown",
      "metadata": {
        "id": "ia-1ADj7c2Ra"
      },
      "source": [
        "---\n",
        "# Summary\n",
        "\n",
        "* Optimization is necessary to create Deep Learning models that are guaranteed to converge \n",
        "* Stochastic Gradient Descent and Momentum are two commonly used optimization techniques\n",
        "* RMSProp is a way of adaptive hyper parameter tuning which utilises a per-dimension learning rate\n",
        "* Poor choice of optimization objectives can lead to unforeseen, undesirable consequences \n"
      ]
    }
  ]
}