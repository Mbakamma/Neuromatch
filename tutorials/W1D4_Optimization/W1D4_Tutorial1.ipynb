{
  "nbformat": 4,
  "nbformat_minor": 0,
  "metadata": {
    "accelerator": "GPU",
    "colab": {
      "name": "W1D4_Tutorial1",
      "provenance": [],
      "collapsed_sections": [],
      "toc_visible": true,
      "include_colab_link": true
    },
    "kernel": {
      "display_name": "Python 3",
      "language": "python",
      "name": "python3"
    },
    "kernelspec": {
      "display_name": "Python 3",
      "language": "python",
      "name": "python3"
    },
    "language_info": {
      "codemirror_mode": {
        "name": "ipython",
        "version": 3
      },
      "file_extension": ".py",
      "mimetype": "text/x-python",
      "name": "python",
      "nbconvert_exporter": "python",
      "pygments_lexer": "ipython3",
      "version": "3.7.11"
    },
    "toc-autonumbering": true,
    "varInspector": {
      "cols": {
        "lenName": 16,
        "lenType": 16,
        "lenVar": 40
      },
      "kernels_config": {
        "python": {
          "delete_cmd_postfix": "",
          "delete_cmd_prefix": "del ",
          "library": "var_list.py",
          "varRefreshCmd": "print(var_dic_list())"
        },
        "r": {
          "delete_cmd_postfix": ") ",
          "delete_cmd_prefix": "rm(",
          "library": "var_list.r",
          "varRefreshCmd": "cat(var_dic_list()) "
        }
      },
      "types_to_exclude": [
        "module",
        "function",
        "builtin_function_or_method",
        "instance",
        "_Feature"
      ],
      "window_display": false
    },
    "widgets": {
      "application/vnd.jupyter.widget-state+json": {
        "8244f22bf54a4e1ead33208ba72a3084": {
          "model_module": "@jupyter-widgets/controls",
          "model_name": "TabModel",
          "state": {
            "_view_name": "TabView",
            "_dom_classes": [],
            "_titles": {
              "0": "Youtube",
              "1": "Bilibili"
            },
            "_model_name": "TabModel",
            "_view_module": "@jupyter-widgets/controls",
            "selected_index": 0,
            "_model_module_version": "1.5.0",
            "_view_count": null,
            "_view_module_version": "1.5.0",
            "box_style": "",
            "layout": "IPY_MODEL_3bba08e913cb43769563784635ceb653",
            "_model_module": "@jupyter-widgets/controls",
            "children": [
              "IPY_MODEL_ebc2dc01a57c4414a1d37028cce02396",
              "IPY_MODEL_505b5d27e20b48aeb2e3364ab5e0a0dc"
            ]
          }
        },
        "3bba08e913cb43769563784635ceb653": {
          "model_module": "@jupyter-widgets/base",
          "model_name": "LayoutModel",
          "state": {
            "_view_name": "LayoutView",
            "grid_template_rows": null,
            "right": null,
            "justify_content": null,
            "_view_module": "@jupyter-widgets/base",
            "overflow": null,
            "_model_module_version": "1.2.0",
            "_view_count": null,
            "flex_flow": null,
            "width": null,
            "min_width": null,
            "border": null,
            "align_items": null,
            "bottom": null,
            "_model_module": "@jupyter-widgets/base",
            "top": null,
            "grid_column": null,
            "overflow_y": null,
            "overflow_x": null,
            "grid_auto_flow": null,
            "grid_area": null,
            "grid_template_columns": null,
            "flex": null,
            "_model_name": "LayoutModel",
            "justify_items": null,
            "grid_row": null,
            "max_height": null,
            "align_content": null,
            "visibility": null,
            "align_self": null,
            "height": null,
            "min_height": null,
            "padding": null,
            "grid_auto_rows": null,
            "grid_gap": null,
            "max_width": null,
            "order": null,
            "_view_module_version": "1.2.0",
            "grid_template_areas": null,
            "object_position": null,
            "object_fit": null,
            "grid_auto_columns": null,
            "margin": null,
            "display": null,
            "left": null
          }
        },
        "ebc2dc01a57c4414a1d37028cce02396": {
          "model_module": "@jupyter-widgets/output",
          "model_name": "OutputModel",
          "state": {
            "_view_name": "OutputView",
            "msg_id": "",
            "_dom_classes": [],
            "_model_name": "OutputModel",
            "outputs": [
              {
                "output_type": "stream",
                "metadata": {
                  "tags": []
                },
                "text": "Video available at https://youtube.com/watch?v=zm9oekdkJbQ\n",
                "stream": "stdout"
              },
              {
                "output_type": "display_data",
                "metadata": {
                  "tags": []
                },
                "text/html": "\n        <iframe\n            width=\"854\"\n            height=\"480\"\n            src=\"https://www.youtube.com/embed/zm9oekdkJbQ?fs=1&rel=0\"\n            frameborder=\"0\"\n            allowfullscreen\n        ></iframe>\n        ",
                "text/plain": "<IPython.lib.display.YouTubeVideo at 0x7f1e4a803110>",
                "image/jpeg": "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\n"
              }
            ],
            "_view_module": "@jupyter-widgets/output",
            "_model_module_version": "1.0.0",
            "_view_count": null,
            "_view_module_version": "1.0.0",
            "layout": "IPY_MODEL_3cba11a299f64d6f857573c89fb02028",
            "_model_module": "@jupyter-widgets/output"
          }
        },
        "505b5d27e20b48aeb2e3364ab5e0a0dc": {
          "model_module": "@jupyter-widgets/output",
          "model_name": "OutputModel",
          "state": {
            "_view_name": "OutputView",
            "msg_id": "",
            "_dom_classes": [],
            "_model_name": "OutputModel",
            "outputs": [
              {
                "output_type": "stream",
                "metadata": {
                  "tags": []
                },
                "text": "Video available at https://www.bilibili.com/video/BV1VB4y1K7Vr\n",
                "stream": "stdout"
              },
              {
                "output_type": "display_data",
                "metadata": {
                  "tags": []
                },
                "text/html": "\n        <iframe\n            width=\"854\"\n            height=\"480\"\n            src=\"https://player.bilibili.com/player.html?bvid=BV1VB4y1K7Vr&page=1?fs=1\"\n            frameborder=\"0\"\n            allowfullscreen\n        ></iframe>\n        ",
                "text/plain": "<__main__.BiliVideo at 0x7f1e54f65d10>"
              }
            ],
            "_view_module": "@jupyter-widgets/output",
            "_model_module_version": "1.0.0",
            "_view_count": null,
            "_view_module_version": "1.0.0",
            "layout": "IPY_MODEL_a3a0af07d1854daebfb1ff7fc65d8bb9",
            "_model_module": "@jupyter-widgets/output"
          }
        },
        "3cba11a299f64d6f857573c89fb02028": {
          "model_module": "@jupyter-widgets/base",
          "model_name": "LayoutModel",
          "state": {
            "_view_name": "LayoutView",
            "grid_template_rows": null,
            "right": null,
            "justify_content": null,
            "_view_module": "@jupyter-widgets/base",
            "overflow": null,
            "_model_module_version": "1.2.0",
            "_view_count": null,
            "flex_flow": null,
            "width": null,
            "min_width": null,
            "border": null,
            "align_items": null,
            "bottom": null,
            "_model_module": "@jupyter-widgets/base",
            "top": null,
            "grid_column": null,
            "overflow_y": null,
            "overflow_x": null,
            "grid_auto_flow": null,
            "grid_area": null,
            "grid_template_columns": null,
            "flex": null,
            "_model_name": "LayoutModel",
            "justify_items": null,
            "grid_row": null,
            "max_height": null,
            "align_content": null,
            "visibility": null,
            "align_self": null,
            "height": null,
            "min_height": null,
            "padding": null,
            "grid_auto_rows": null,
            "grid_gap": null,
            "max_width": null,
            "order": null,
            "_view_module_version": "1.2.0",
            "grid_template_areas": null,
            "object_position": null,
            "object_fit": null,
            "grid_auto_columns": null,
            "margin": null,
            "display": null,
            "left": null
          }
        },
        "a3a0af07d1854daebfb1ff7fc65d8bb9": {
          "model_module": "@jupyter-widgets/base",
          "model_name": "LayoutModel",
          "state": {
            "_view_name": "LayoutView",
            "grid_template_rows": null,
            "right": null,
            "justify_content": null,
            "_view_module": "@jupyter-widgets/base",
            "overflow": null,
            "_model_module_version": "1.2.0",
            "_view_count": null,
            "flex_flow": null,
            "width": null,
            "min_width": null,
            "border": null,
            "align_items": null,
            "bottom": null,
            "_model_module": "@jupyter-widgets/base",
            "top": null,
            "grid_column": null,
            "overflow_y": null,
            "overflow_x": null,
            "grid_auto_flow": null,
            "grid_area": null,
            "grid_template_columns": null,
            "flex": null,
            "_model_name": "LayoutModel",
            "justify_items": null,
            "grid_row": null,
            "max_height": null,
            "align_content": null,
            "visibility": null,
            "align_self": null,
            "height": null,
            "min_height": null,
            "padding": null,
            "grid_auto_rows": null,
            "grid_gap": null,
            "max_width": null,
            "order": null,
            "_view_module_version": "1.2.0",
            "grid_template_areas": null,
            "object_position": null,
            "object_fit": null,
            "grid_auto_columns": null,
            "margin": null,
            "display": null,
            "left": null
          }
        },
        "fc3754a8b1534d659cf60b27b74eb5d4": {
          "model_module": "@jupyter-widgets/controls",
          "model_name": "TabModel",
          "state": {
            "_view_name": "TabView",
            "_dom_classes": [],
            "_titles": {
              "0": "Youtube",
              "1": "Bilibili"
            },
            "_model_name": "TabModel",
            "_view_module": "@jupyter-widgets/controls",
            "selected_index": 0,
            "_model_module_version": "1.5.0",
            "_view_count": null,
            "_view_module_version": "1.5.0",
            "box_style": "",
            "layout": "IPY_MODEL_da8d887c11b4447892c5ffba1d96aa0b",
            "_model_module": "@jupyter-widgets/controls",
            "children": [
              "IPY_MODEL_9a87e728557e477f944cc2daa64c6030",
              "IPY_MODEL_6f680dafa8bc441bbca65c0baba59e64"
            ]
          }
        },
        "da8d887c11b4447892c5ffba1d96aa0b": {
          "model_module": "@jupyter-widgets/base",
          "model_name": "LayoutModel",
          "state": {
            "_view_name": "LayoutView",
            "grid_template_rows": null,
            "right": null,
            "justify_content": null,
            "_view_module": "@jupyter-widgets/base",
            "overflow": null,
            "_model_module_version": "1.2.0",
            "_view_count": null,
            "flex_flow": null,
            "width": null,
            "min_width": null,
            "border": null,
            "align_items": null,
            "bottom": null,
            "_model_module": "@jupyter-widgets/base",
            "top": null,
            "grid_column": null,
            "overflow_y": null,
            "overflow_x": null,
            "grid_auto_flow": null,
            "grid_area": null,
            "grid_template_columns": null,
            "flex": null,
            "_model_name": "LayoutModel",
            "justify_items": null,
            "grid_row": null,
            "max_height": null,
            "align_content": null,
            "visibility": null,
            "align_self": null,
            "height": null,
            "min_height": null,
            "padding": null,
            "grid_auto_rows": null,
            "grid_gap": null,
            "max_width": null,
            "order": null,
            "_view_module_version": "1.2.0",
            "grid_template_areas": null,
            "object_position": null,
            "object_fit": null,
            "grid_auto_columns": null,
            "margin": null,
            "display": null,
            "left": null
          }
        },
        "9a87e728557e477f944cc2daa64c6030": {
          "model_module": "@jupyter-widgets/output",
          "model_name": "OutputModel",
          "state": {
            "_view_name": "OutputView",
            "msg_id": "",
            "_dom_classes": [],
            "_model_name": "OutputModel",
            "outputs": [
              {
                "output_type": "stream",
                "metadata": {
                  "tags": []
                },
                "text": "Video available at https://youtube.com/watch?v=pJc2ENhYbqA\n",
                "stream": "stdout"
              },
              {
                "output_type": "display_data",
                "metadata": {
                  "tags": []
                },
                "text/html": "\n        <iframe\n            width=\"854\"\n            height=\"480\"\n            src=\"https://www.youtube.com/embed/pJc2ENhYbqA?fs=1&rel=0\"\n            frameborder=\"0\"\n            allowfullscreen\n        ></iframe>\n        ",
                "text/plain": "<IPython.lib.display.YouTubeVideo at 0x7f1e4b29cd50>",
                "image/jpeg": "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\n"
              }
            ],
            "_view_module": "@jupyter-widgets/output",
            "_model_module_version": "1.0.0",
            "_view_count": null,
            "_view_module_version": "1.0.0",
            "layout": "IPY_MODEL_73e6171ac4ff418682403499d4fe21e7",
            "_model_module": "@jupyter-widgets/output"
          }
        },
        "6f680dafa8bc441bbca65c0baba59e64": {
          "model_module": "@jupyter-widgets/output",
          "model_name": "OutputModel",
          "state": {
            "_view_name": "OutputView",
            "msg_id": "",
            "_dom_classes": [],
            "_model_name": "OutputModel",
            "outputs": [
              {
                "output_type": "stream",
                "metadata": {
                  "tags": []
                },
                "text": "Video available at https://www.bilibili.com/video/BV1GB4y1K7Ha\n",
                "stream": "stdout"
              },
              {
                "output_type": "display_data",
                "metadata": {
                  "tags": []
                },
                "text/html": "\n        <iframe\n            width=\"854\"\n            height=\"480\"\n            src=\"https://player.bilibili.com/player.html?bvid=BV1GB4y1K7Ha&page=1?fs=1\"\n            frameborder=\"0\"\n            allowfullscreen\n        ></iframe>\n        ",
                "text/plain": "<__main__.BiliVideo at 0x7f1e5610f290>"
              }
            ],
            "_view_module": "@jupyter-widgets/output",
            "_model_module_version": "1.0.0",
            "_view_count": null,
            "_view_module_version": "1.0.0",
            "layout": "IPY_MODEL_3c6f570320054a94ad3014148e7c3e0a",
            "_model_module": "@jupyter-widgets/output"
          }
        },
        "73e6171ac4ff418682403499d4fe21e7": {
          "model_module": "@jupyter-widgets/base",
          "model_name": "LayoutModel",
          "state": {
            "_view_name": "LayoutView",
            "grid_template_rows": null,
            "right": null,
            "justify_content": null,
            "_view_module": "@jupyter-widgets/base",
            "overflow": null,
            "_model_module_version": "1.2.0",
            "_view_count": null,
            "flex_flow": null,
            "width": null,
            "min_width": null,
            "border": null,
            "align_items": null,
            "bottom": null,
            "_model_module": "@jupyter-widgets/base",
            "top": null,
            "grid_column": null,
            "overflow_y": null,
            "overflow_x": null,
            "grid_auto_flow": null,
            "grid_area": null,
            "grid_template_columns": null,
            "flex": null,
            "_model_name": "LayoutModel",
            "justify_items": null,
            "grid_row": null,
            "max_height": null,
            "align_content": null,
            "visibility": null,
            "align_self": null,
            "height": null,
            "min_height": null,
            "padding": null,
            "grid_auto_rows": null,
            "grid_gap": null,
            "max_width": null,
            "order": null,
            "_view_module_version": "1.2.0",
            "grid_template_areas": null,
            "object_position": null,
            "object_fit": null,
            "grid_auto_columns": null,
            "margin": null,
            "display": null,
            "left": null
          }
        },
        "3c6f570320054a94ad3014148e7c3e0a": {
          "model_module": "@jupyter-widgets/base",
          "model_name": "LayoutModel",
          "state": {
            "_view_name": "LayoutView",
            "grid_template_rows": null,
            "right": null,
            "justify_content": null,
            "_view_module": "@jupyter-widgets/base",
            "overflow": null,
            "_model_module_version": "1.2.0",
            "_view_count": null,
            "flex_flow": null,
            "width": null,
            "min_width": null,
            "border": null,
            "align_items": null,
            "bottom": null,
            "_model_module": "@jupyter-widgets/base",
            "top": null,
            "grid_column": null,
            "overflow_y": null,
            "overflow_x": null,
            "grid_auto_flow": null,
            "grid_area": null,
            "grid_template_columns": null,
            "flex": null,
            "_model_name": "LayoutModel",
            "justify_items": null,
            "grid_row": null,
            "max_height": null,
            "align_content": null,
            "visibility": null,
            "align_self": null,
            "height": null,
            "min_height": null,
            "padding": null,
            "grid_auto_rows": null,
            "grid_gap": null,
            "max_width": null,
            "order": null,
            "_view_module_version": "1.2.0",
            "grid_template_areas": null,
            "object_position": null,
            "object_fit": null,
            "grid_auto_columns": null,
            "margin": null,
            "display": null,
            "left": null
          }
        },
        "31282e73032d4a5c9c05ea30d99a0d66": {
          "model_module": "@jupyter-widgets/controls",
          "model_name": "TabModel",
          "state": {
            "_view_name": "TabView",
            "_dom_classes": [],
            "_titles": {
              "0": "Youtube",
              "1": "Bilibili"
            },
            "_model_name": "TabModel",
            "_view_module": "@jupyter-widgets/controls",
            "selected_index": 0,
            "_model_module_version": "1.5.0",
            "_view_count": null,
            "_view_module_version": "1.5.0",
            "box_style": "",
            "layout": "IPY_MODEL_cfefc62d31b0439d958ab4526b16bfb3",
            "_model_module": "@jupyter-widgets/controls",
            "children": [
              "IPY_MODEL_4e1af0b38db14c69af068465ca51b502",
              "IPY_MODEL_988a92a207b74897a54233dba3f653d8"
            ]
          }
        },
        "cfefc62d31b0439d958ab4526b16bfb3": {
          "model_module": "@jupyter-widgets/base",
          "model_name": "LayoutModel",
          "state": {
            "_view_name": "LayoutView",
            "grid_template_rows": null,
            "right": null,
            "justify_content": null,
            "_view_module": "@jupyter-widgets/base",
            "overflow": null,
            "_model_module_version": "1.2.0",
            "_view_count": null,
            "flex_flow": null,
            "width": null,
            "min_width": null,
            "border": null,
            "align_items": null,
            "bottom": null,
            "_model_module": "@jupyter-widgets/base",
            "top": null,
            "grid_column": null,
            "overflow_y": null,
            "overflow_x": null,
            "grid_auto_flow": null,
            "grid_area": null,
            "grid_template_columns": null,
            "flex": null,
            "_model_name": "LayoutModel",
            "justify_items": null,
            "grid_row": null,
            "max_height": null,
            "align_content": null,
            "visibility": null,
            "align_self": null,
            "height": null,
            "min_height": null,
            "padding": null,
            "grid_auto_rows": null,
            "grid_gap": null,
            "max_width": null,
            "order": null,
            "_view_module_version": "1.2.0",
            "grid_template_areas": null,
            "object_position": null,
            "object_fit": null,
            "grid_auto_columns": null,
            "margin": null,
            "display": null,
            "left": null
          }
        },
        "4e1af0b38db14c69af068465ca51b502": {
          "model_module": "@jupyter-widgets/output",
          "model_name": "OutputModel",
          "state": {
            "_view_name": "OutputView",
            "msg_id": "",
            "_dom_classes": [],
            "_model_name": "OutputModel",
            "outputs": [
              {
                "output_type": "stream",
                "metadata": {
                  "tags": []
                },
                "text": "Video available at https://youtube.com/watch?v=aSJTRdjRvvw\n",
                "stream": "stdout"
              },
              {
                "output_type": "display_data",
                "metadata": {
                  "tags": []
                },
                "text/html": "\n        <iframe\n            width=\"854\"\n            height=\"480\"\n            src=\"https://www.youtube.com/embed/aSJTRdjRvvw?fs=1&rel=0\"\n            frameborder=\"0\"\n            allowfullscreen\n        ></iframe>\n        ",
                "text/plain": "<IPython.lib.display.YouTubeVideo at 0x7f1e55f143d0>",
                "image/jpeg": "/9j/4AAQSkZJRgABAQAAAQABAAD/2wCEABALDBoYFhsaGRodHRsfIyolIiEiICovKicoMicxNzIqLS41PVBCNzhLOi0tRWFHS1NWW1xbMkFlbWRYbFBZW1cBERISGRYZLRobL1c9Nz1XV1dXV1dXV1dXV1dXV1dXV11dXVdfV1ddV1dXV11XXVdXV1dXV1dXV1ddV11XV1dXV//AABEIAWgB4AMBIgACEQEDEQH/xAAbAAEAAgMBAQAAAAAAAAAAAAAAAQQCAwUGB//EAEUQAAIBAgQCBwYDBQYFBAMAAAECAAMRBBIhMRNRBRciQVOS0jJSYXGBkRRCoQYVI7HRM2Jyc7LBByQ0gqIWQ+HwNcLx/8QAFwEBAQEBAAAAAAAAAAAAAAAAAAECA//EAB0RAQADAQEBAAMAAAAAAAAAAAABESECIkEDMVH/2gAMAwEAAhEDEQA/APn8REBERAREQEREBERAREQEREBERAREQEREBERAREQEREBERAREQEREBERAREQEREBERAREQEREBERAREQEREBERAREQEREBERAREQEREBERAREQEREBERAREQEREBERAREQEREBERAREQEREBERAREQEREBERAREQEREBERAREQEREBERAREQEREBERAREQEREBERAREQET1/VxjfFw3nf0R1cY3xcN539EDyET1/VxjfFw3nf0R1cY3xcN539EDyET1/VxjfFw3nf0R1cY3xcN539EDyET1/VxjfFw3nf0R1cY3xcN539EDyET1/VxjfFw3nf0R1cY3xcN539EDyET1/VxjfFw3nf0R1cY3xcN539EDyET1/VxjfFw3nf0R1cY3xcN539EDyET1/VxjfFw3nf0R1cY3xcN539EDyET1/VxjfFw3nf0R1cY3xcN539EDyET1/VxjfFw3nf0R1cY3xcN539EDyET1/VxjfFw3nf0R1cY3xcN539EDyET1/VxjfFw3nf0R1cY3xcN539EDyET1/VxjfFw3nf0R1cY3xcN539EDyET1/VxjfFw3nf0R1cY3xcN539EDyET1/VxjfFw3nf0R1cY3xcN539EDyET1/VxjfFw3nf0R1cY3xcN539EDyET1/VxjfFw3nf0R1cY3xcN539EDyET1/VxjfFw3nf0R1cY3xcN539EDyET1/VxjfFw3nf0R1cY3xcN539EDyET1/VxjfFw3nf0R1cY3xcN539EDyET1/VxjfFw3nf0R1cY3xcN539EDyET1/VxjfFw3nf0R1cY3xcN539EDyET1/VxjfFw3nf0R1cY3xcN539EDyET1/VxjfFw3nf0Sp0n+xWKwqB6j0SC2Xss172J71HKB5uJ0h0JV95Puf6TIdA1j+an9z/AEkuFqXLidcfs5WP5qf3b+kyH7M1/epfdv6RcFS40Tt/+mK/v0vu39I/9L1/fpfdvTFwVLiROpW6EamLtWoAXt7Tb+WZ0/2dqsLrUosPgx/pFlORE7J/Zqv71P7t/SYn9nK3vU/u39IuCpciJ1j+z9b3qf3P9JiegqvvU/uf6RcFS+1xESoREQEREBERAREQEREBERAREQEREBERAREQEREBERAREQEREBERAREQEREBERAREQEREBERAREQE4H7Yj/lk/zR/pad+ef/AGyNsMn+aP8AS0krDyarNyCVBUM30nnNtcRZuUSvTqDmJYV15iFZgTz37T40grRUkfma36D/AHnog68xPMVaBr42q26q38hb/aIn6VeOMMPUOuVrfKZYfE1KL5lup5HY/MT0uGKOSoZT3aETDpXCKycmA3Mkfk/rU/izJXMBixXpBwLdxHIzawnM/Z2iUolmcZX1C8vj9Z1CQdjLLDSwmpxpN7CanED6PEROrmRNdastNC7sFRRcsTYAfGVcN0xhaz5KWIpO/uq4J+0C9ERAREwNVQ4QsM5BIW+pAtc2+o+8DOIiAiIgIiICIiAiJrFVS5QMMygErfUA3sSPjY/aBsiJECYmmliabs6o6syGzgEEqeR5TdAREQEREBERAREr4jG0qTKtSoqs/sgmxPy+4+8CxEiYNXQEgsoIXMQTsvM/DSBsiYqwIBBBBFwR3iZQEREBESCQBc6AQJiY03DKGUgqRcEG4I5iZQEREBE0tiqYz3dRw7Z7kdm+1+U237oExEQE89+2n/Sp/mj/AEtPQzz37af9Kn+aP9LSSsPGCbaZmkTYhmG26lqTLdNZUob/AFl2kQRcTMtQkiVadEjjEWBJH2t/SW22mrH1uGt7brv8Zmf03zOuWuGUVL6XGvx5TTVw7lmbM2uwvpNNakSblifrtLGCc5spIIXW/wDIRFrMwvpRCqFGwAH2m3Dd8w4g5zPCsDe024trTU+xm1pqfYwPosRE6ublftT/APjsV/ltOdiq7YupSwwwzUKislbPUKXCK4uUyk3Olv8Au1nd6Qwa4ihUouSFqKVJXex5XmOLwC1WpNdlek2ZWW1+RU/AjcQOR0l0hUUYirSr1LUc2i0QaV1FyrMQSeRIIA+ksvXrVcUKSVTSQ4dahsqlrlraEj+s21uhQy1qYrVUpVsxZFyWBa+YglSRe995ZpYBUqiqC2YUhStpawN7/OByU6Sr8JaeccZsU+HFUqNlzHNl2vlUjlebSr0cbTNSqaoFCsQSoDaNTuOyAD9paboamabpmcFqprBwQGRyb3U27vjeZYfozLVWq9arVcKyXfKBZip9lVA/L+vygc5sTilwf401hcJxTQyLkyWvkDWzXt3337pYepXrYisiVzSppTputkUtds/ewOmg/wDiZDoFMvC41b8OD/YXXJa98t8ubL8L27tpfTCKKtSrc3qKqkaWAXNa3mMDjYPF4l6ODxLVhasUD0gi5bMNwfavex3t8J1+k3qrQqGgM1UDsjTnrYHQm17CaqPRaJQoUQzZaBUqTa5y7X0lrE0eIhXMyX/MhswPMQONR6VFOliKhrVKppUy5pVaQpuLA6+yLg/I/OYU8fWXhvxK1VmZRUp/hXVLMQCUbKCLXvqToD850aPRYzM1aq9dmQ0/4gQAIdxZVA10kYboxqZX/ma7U09mmxS1u4FsuYj5mBR6RxtS9dqVeoBRvotAGmGC3yuSCT8bWtebDiq9bEUUSpwkfDiq1lBN8w2J+fxlmp0QDxQtaqiVrl0XLa7CxIJBIv8AObaHRyJUSoC10pCkAbWygg3Om+kCnReviWqulc0USo1NFCKbldCz3Heb6C2nfMODUfH4gLWNP+DQzMqgknNV2zXAG/dLVXom7u1KvWoiob1FTLZja1+0pKmwG1pZo4NUrPVBYs6IhBOlkLW+N+0YFLourXr0abGqAyVai1OwP4gR2T/tvYHSXOk8auHw9Ws21NS1uZ7h9TYTXQ6NFNUVKlRQtV6hAI7RdmJVtNrt+gmePwK4gIrk5VdXKi1mKm4DfC9j9IHnOja9HD1sKy16TvXBp4jK4JNRiXVt/eLL/wBwnoulcZ+Hw1WsBmKKSBzPdf6xjujaVek1Nly3tZlADKQbgg23BE31qC1KbU6gzKylWB7wRrAq4XDYhCGqYk1NO0vDULe35LajXmTKjdIVf3dSrZv4jGjc2H5qqKdNtiZbwnRzU2BOJr1FUWVHK2HdqQoLfUmVh0AMgpHEVzSVlZKd0suVwwF8tyNLak/7wNlKpWfF114lqVIpZQou10vYnlf6yr0bjqhqU1xFapTrNfNRqUQEJsdKbga2/wAR07p1qWEC1Krgm9XLf4WW2kqp0Sc6GpiK1VabZkR8lg3cSQoY2v3mBzV6Uq1VeotWqhDOKdNcMzoQrEDMwUkk27iLXncoYnNQWqyMhKByhGq9m5UjmJUPRFmbhYitRR2LNTTJluTckFlJW/wInSA0tA8+cTihgzjuMPY43ByLkyWzZb2zZsvfffum6hTZukmcVWynD02y5V9ks/Z2va4vzmz9wpl4fGrfh734F1yWvfLfLmy37r/DbSX1wiiu1a5zMi07aWsrMQfn2jAq9J4ipxKFCk2RqpYl7AlVQXOUHS5JG/xlJ0qU6+Iz1OKRhLhmVb+03tAaH7TqY/ALXCdpkdGzI6EZlNrd4IIIJ0Immn0SAajPVq1HqU+GzMV2udgAAN+4QKiVa1Sph6SVeErYYO2VFve6js3Fhvylani8UcKa5r60qrIVFNbOFrZCW77kcrTtUcAqVEcFrpS4QGlrXBufjpNadFIKD0MzZXdnJ0vdqmc9214FLFdIM2Iq0xVq0kpZR/DoFyzFbkk5WAABGnzmP4/EOmFF+G713psxpkZlWnUIYK1iL5Qf6y/iejc1Q1adapQdgA5TIQwG1w6kXF9xMzgAeBmd2NFi4ZiLsSjL2tP7x2t3QKHGxVNsVSV+O6UlqUiyqDmbOMptYH2dNpOAxmY1FNeo7BCTTrUQjD4jsi4+/wA5fqYANUqPndWqIqEqbWCliCPj2jNNHou1TiVK1Ws4QopcIMoa17BFGpsNTfaBSwuIq1VwtGm4pXw61ajqi37gFQEZRqT3aWmGK6Rr0aeLplw1WitN0qFRqrmwzDa4sdvhL79ELkohKlSm9FMiVFy5sthcEEFSDlHdH7mQ0atNnqM1Yg1KhIzG1rd1gBbYCBpNSvRxeHR6xqJXzgqUUBSqZgVI1toRY33lLEdJ1FU10rVHQVAoHAApMvECkBrZtr9q9iR9J3MRg1qVaNUkg0SxUC1jmUqb/eUm6DU0jR41UUcwKp2LLZgwAOW5Fx3mBz+k6xp/vR1tcJRIzKCPZ7wdDNww9U9J4jLXZT+HQjspYXaoANtgdefOX8X0OlUYkMzj8QFDWtplGmXT+c2VMAPxH4hXdWyBWUZSHUEkA3FxYsdiIFFOlKlWlhlQ5a9V8tTQHJwz/F0PxGUf4hO3ON0Tgv8AmcRimptT4hApq24Fhma35cxA0/uidmAnnv21/wClT/NH+lp6Ged/bY2wtP8AzR/paSVh4oGbU3mi8202mG2+kbAmZ4WulOnd2Ci/eZyjjgtNrHtXNpxXcsbnWI5snqnqMV09SXSndzz2EUMeMRQ7RHEBN15C+lvpPLXkq5BuCQeYlni4I7qbdR8E5bRrCT+JWj/DvfvJHP4znPi6jCxdrfb+U0xHM/UnqPjr/ib7GdToZ7q3znllYjad39nsULtTOjHUfGWYxIl22mp9jM2M1OdJhp9IiInVzRERAmRJkQJkSZECYiIESZEmAkSYgJEmRAmJEmAkSYgJEmRASZEmAiIgIiICIiAiIgIiIESZEmBEREBJkSYESZEmAkSZEBJmDVFG5A+Zks4AuSAOZOkDKeb/AG6/6Sn/AJo/0tO9hMQKtMOoIBva9u4kX07tJz/2j6KfF0VpoyqQ4a7XtaxHd84kh85Bk5rT0Q/YnEeNS/8AL+kN+xFcgg1aRB/xf0mKbt4Rm0Jmme1rf8O65JyV6QTuuGv9dJh1dYm39vR+zf0m2HjInsurnE+PR+zf0jq5xPj0fs39IHjYnsurnE+PR+zf0jq5xPj0fs39IHjZnRqlGDLoVNxPZN/w3rW0xNO/+Bph1cYnx6P2b+kCKGIFRFcbEf8A0Q5nR6O/YrE0QymtSKnUWzaH7S0/7KVrH+JT/X+kxTcS9fERNsK2Pdkp51NsrKzfFbjN+l5RGMqFiob+0qKaZ5JmIa30Qn/unVdAwKkXBFiOYM1LhaYKEKL0wVT4A20/SBUoY5wqmoFykVCGza9kncW0FpgekajaKihg1O9ywGViR3qDfTlLxwlMgKVBAzC2v5t5h+Ap2IsxvluS7E9k3Gt76XgaeksS9O+TfhVG12uoX4fGbOK1OnTHt1GIUXbS9iTc22sD3TdVwyP7Qv2WXc7NuP0mVWirrlYad2pBBGxBGoMCvQxpaoKZWzdsNY3AK5dtNQQ4kYPGNVK9gAGmjk5tRmvoBbXabDgadlGU9kkghmB13ub3N++82UMOlMWRbWUL37Lew/UwK9XHMpY5Bw1dUJzdq5IFwLbAsO/n9cfxtTQ8NbMzqpzm+Zc1ri2xynnLDYOmXzldbg7mxI2JW9iRpr8BNdDAohzHVrsRqbDMSdBewOtrwK1HHVLKWALGnSNs1lu7sL7X5TL8e+zIFuXS6vc5lBN9Rt2ZaTBU1tZdsoF2J0Ukrue4kyThUNrrsWbc7sCCf1MCumLfPTXKpDKGZs5uq23Iy2303/lNFTpNyjZVUNZWU3axBYDvUfppLq4GmGzAMDoD22sQBYXF7HSQOj6ViMpsRl1djYXuANdPpA0ri3zsiqGfObZmsoAVCdQL7tIPSTFSVpjsoWYF7WsxBA0N/ZMstgqZ7jvmuGYNewF8wN9hJGEpgFQoAK5Lf3ddP1MBWxGQpcdljYt7ptcX+1vtKh6TNlOQWIBIu1wrNpfs2BtrqRLtagtRCjjMp3HymNTCU2bMQb6A2YgG21wDY/WBo/FsWFwFXiFL5t7Brki2g0HfNDdJMysAoDdhlILWILgW7Sj7i+86H4dNOzsxb6m9z+pmodH0gLZSQQBqzHQG4AudBeBoqY1g6qwClX7WU3BXhuw7h3r+k2YLHGqQClgVzAi55aG4Guvdfvm1MHTW1l1DZrliTexFySbnQkTH8CgUquZQdNHbQX2XXT6QGKxXDI7N7q1td2FrL9f9owmL4pNlsAFvr+Y3uv00+83VaKvlzC+Vgw+BGxmC4RFYFbr2i5AO7EWN4GnE4pkd7KWsqadwuWudAT3fGY4rFN+FNRCM2lspuPaA3t/tLNTDqxJINzYXDEHS9tQfiY/Cpw+Hl7O9rne9733vfWBWfGMDZxlyuQcrXBHDLd4+E04npCqEPYClqTVFIa5FiuhuN+1OgaCls1tb3v8AHLb+Up0OiwCS9iMpQKMwFiQTuTbYaCwEDfTxRBZagCkEAZSWBuNO75zQ2LqMaZChUZ2F81yQEfcW01W+8vLTAYsBqbXPymkYGmGzBdbk+01gSCCQL2F7n7wKlLpFyosgYAUgSXsSagFtltuRM26SYWXIue7gjM2XskDcLfvHdLKYOmBYLp2e8/ktl+1hJfCI24INybhmBud9Qb6wKjdJPZiKWiU1qNmYg2Ja4Atv2TMquOYcVSoTKrldTmNhuLrY/cyycKhzXX2lCNqdVF7D9TIbBUySSCb33Zra72F7C/wgaTjWuTkBpq6oTm7VyQLgWta7Dv5zGn0ixAZkVUOexz7ZCd9NBoZYODpl8+XW4O5tcbErexO2vwk/hKeULlBUZtD/AHr3+9zAprj2c5bZWDU9r6qxPvAH8p7puwa1OI93dkGl3tct3kWGgm1MFTU3AJPZ1LMT2b21J7rmbkQC9r6m51J1gSZyqHSdRnVSqdqpUW4JsERe030fs/rOrKzdH0S2Y01vrr89/v38++BrfFuuD4zKOIKYYqNs1vj3SMHnzdv8RtqX4YX7KZeIBFiLjlK9DApTa6ZxpYLxHKgfBSbD7QOf0yg4tNhSWowB7JA1sdr2M09E4HPhqeVlTK+YIoJRTky2sbc8w21sfiexVwdN3DsgLC1jytJo4anTLFECljdrd5gY4HD8GilO98ihb2tt8JvkxAiJMQIiTECJMiTASJMQIiTECJD+yfkZMh/ZPyMDKIiAiasRWFNcxBOqjT+8wH+8h8QFqBDpdS9+4AEA/wA4G6Jpp4mm9srq1zYWI1Nr2+0yWsptZgbgkWO4G9vvA2RK7Y2kCQaiAjcFhpMji6YKg1Eu1ivaGt9rQNsmaPxlK5XiJmF7jMLi2/2mziLcC4uRcC+45/qIGUmVcNjUqlgpFgSAbjUjfSZnGUha9RBmsR2hrfa0DfE0VcZSQkNUUMBcjML2tfaY08dTYZgwC5VbMSLWN/jptAsxNBxdIKG4iZTscwsbTYKq5c+YZbXzX0tzvygZyJrp4hGtldTe9rEa23/nMTi6dwOIlzoBmGpvb+ekDfE0UMUr37iGcWO/ZaxPyv8Azk/iqd1XiJdrFRmFzfa0DdEq0MdTqWyEEEsL3GhXfvma4ykVLCohUaEhhYX21gb4mg42llDcRMpNgcwtcbiMRi0p5M7AZyFHzgb4mpcQhcoHUuN1BFx9JFXFU0NndVNr2LAac4G6JqOIQNkLrm924vz2mNDFJUTiKwKa632tvA3xNVGulS+Rla29jea62NpqH7QZkBJUEX0+H1gWYmr8QmfJnXP7txf7TFcXTIYiohC+0cw0+cDdJmoV0KFwwKC5LA6abzWuOpFUbiKA4utyBeBZia6tZUF3ZVBNrk215TV+OpEEq6tZc1lYXtz3gWJM0jFU8+TOufbLmF78rTAY6lZczqpYAgFhfXbvgWImuniEexV1a9wLEHUbzFsZSFr1EF9rsNdbQN8SpUxwy5qY4qi+Yqy2Ft7kneWabhlDDYgEX+MDKIiAiIgIiICIiAiIgIiICIiAiIgRIf2T8jJkP7J+RgZREQK+Ow/Fp5NNWUm+1g4JH2Eq1uilLE01RAUKkZdzmUi4G40/WdGIHOq4Ko+epdEqnJlsSQMubW9hqQxG3KbcHguE7EEZALUx7oOrfcy5MajhRc8wPubQKyYQhlOnZqu/0YMB9dRKh6Nq8MJmUjIF9tgAQSSbAdq9xvynUWqpNgyk8gReaKuOpqSpa7KUBA7sxAH84GtMIRvl0rNUPyIb9dZj0VQKgsb29hLggimpOW4P/wB2lzjJlzZ1y+9cW+8zzC176c4FEYaopVlyEhqhsSRo7XGttxpNdPo5xSZCVuaK0767jN+naEviuhGbOuXncW+8wqYpFZVJBLECwIvrtccoGqnh3UuoyFGZmzEnMLja1tfnfaaEwFTQnJmVaQAuSCULbm3fmHyl8Vl17S9n2tRp8+Uyzi17i3O+kCnRwjCpxGy3LliBcgXQKLG2u3w3kfgT+GFLMAwINxe1w+Yfym6vjUQIb5s7ZVCkan5k27pliK2UooF2drC/cACSfsPuRAqHAvlLLZa2YMpLsw0FtSQO4kbcpjX6OfLkQjIFVRd2FrHUkAWa/wAZcoYjPUqIVtwyBvvcXvIp4tbFnKqucqlzvbT+YP0gV0wdRGzLkJJq7kjR3DA7bi236zAYCpZAWBC8L87ADIVuMtrG9jqeczxHSDIGGS7K+U2BItkLBtNdQMv+IyzgSxo085JbIMxPebawKlTo93BUlQp4wB1JtU12t3a98zbCVHbO+RT/AAxZSSLK+Ykmw+gl+IHPq4J8zsuW5csDnZSAVUbgG/s7bbTfXouy07FSyMrG+gNhY7XtvLMmBQoYN1NNTkyU2ZgwvmN76EW09rU3N5o6RVw1VUXNxUA9lr3sRoQLH6kWnViBQXAsKhJ7SGpn9tgQd7ZbWOvxmYwr/h3pHLchgDuLEmxIt8ZckwKlCg9rOSLEEWqMxPzJA0+E1fhKnCel2Mtmytc3NzfUW03PeZfkwKH4N75exk4nEza5t75bWt8L327ppHR1TIVBCqpQoodiLqb7kXUd1tbTqxArYXDlFa+jObntFu4DcgdwEqjB1QtgKZLUhSa5NgFvZhprfNtp850ogVqmGJ4AB0psCb7kBGH31Ert0e3Dy3W+Sqvfu7Aj+U6MQKa4QgnUf23E+lv5zT+7myFbrcpSXv8AyMSe74zpSYFFsM4qF0yE5y1iSNCgXcA63E1UujnFMqSpJphO+1wzH7aidKIFNsGS1QkKweoj2JOyqo1019m9vlLsiTAREQEREBERAREQEREBERAREQERECJD+yfkZMh/ZPyMDKIiAiIgJpxVMuoA3zIfoHBP8puiBz6OCKtSNlGVqha3969v5iY4rBM7vZVKs1Jrn+44LAj5CdGTA5lbAvnzpoBULZRl1BRRfUEXuD9zNrYM/huEN9DYm49q5U2G3dttLsmBzfwTNUzsiKC6kpe+iqwudN7kfYTH8E+ZRlUgVjU4l9SCT3W3F7fICdSRA446MqcJkOrCkyKbrYkj4Lf46n7zoYvD5qeVAuhU5ToCAb5ZYiBzhgnNRXKqo42crfYcJlv8ySDLGKpnPSqAXyMQQPdYW/Q2PyvLUiBRajUpmvUUhmqWygKdDawub7c4fo0ZqDK1uCpQA3IscuuhGvZ/Uy9ECthUPEq1CLZmAAPJRa/1N/paWYkwEREBERAREQEREBERAREQEREBERAREQEREBERAREQEREBERAREQEREBERAREQERECJD+yfkZMh/ZPyMDKIiBESr0kp4RYb0yHH/abkfUAj6znIxZwtzbEOKo/wqTf/wAVp/eB25M5FB6oVAjglxUsCo0IJI1/T6zJ6oxFNqhVWpgqEVzYZtmLc7E2tzUwOpJnOxtDLhkp+3Zqa9o+12xvvNaUqlJkVStNaj+yvaCgUydLgWJI5WgdSJy/xbkC7gly6mnbVAA2vPuF785ro41kRQKgcGiG0A7BuoHfscx390wOxE4jYlmqUg1QLlrFc3Z2NAnu077TNsQzrqQdGGYfmAqqAR84HZichXqGp2KmUnjhVNrFhUFry3gcUa2ZxomgA781u19ibfMGBbicj8XUZB/EF3RyygC9MgX/AEPZN+8zZXw9sLTQGwLUwbKNczre427/AKwOpInJoVahuquEH8Y6KD7NSw3mrGYtnpVMzhLKlksO1mAN+e5IHygdyRObTquWKq2XWsSbAnsuAN/nNJ6Rc0y/EVCKaMFsO0WW5OvdfTTlA7MSnjq5UoqkqWJ17OwHNtJTbHVTSaqGAy0UqWyjUnNcfLSB2JEqdIVSmUjcBz9kJlZsRWVm/iA5eEfYGudrEfLTSB1ZE5q4t8w/iKSajpw7C4ALWPO4sJjTxNQrSz1lTPTzlso3sOyL6WF784HUkzlU8dVbhqRleqEZNNhbt/a3f7wmCdIVSCwF9HJQ5NMoNgLHMTcAG47+6B14lDBvmrf2oqfwwbgDS5+E1JjHz+2G/jGnw7C+W9r87ga/IQOrInHONc07l1YvSdmUD+zIH330175YavUzE5xlFYU8uUbEDv53MDoxOVSrumBepnzOqubm2hF9DGKxdSm1g9yoUtcKAczH432Hd+sDqyJzjiagZWzXBqumSw2AcjXn2ZW/FtdKgqLUbgO1gNFJan3DWw+OukDtxOW2KcEotQP2qYz5RpmJuNNNgD9ZqbEVDTbM4IIrJbKB7Oaxvz0gdiJz0xL8QUdM1w17f+1b+d+zNfStdrV0zhAtK4Bt27hr78rDbnA6sictcZU4mUbKyLlOQAggXOpzX1NrDukPjH4T1BVXPY2p5R2bMB89O/8A2gdaJyq+LqrUZAblAtr5AHvzuQQO7Tl37Q2Ofi2DDKWdbNlAGVW1013Xv7uUDqxOP+PcLa5LZ1Vj2NAVJuDfKbkW1tv8pL46oEVmYADNexQsQDobXsRvcA3vA68Slj8S1LKRqGuoFvzkdj9dPrKv4qo5QEjs1Fpsbfns2Yj/AMYHWkzi0XcojCrdhRYk2BNwRoZcrYpuFRa4TiFczdy3W/f8dNecC7E4VXFNTWoysGKiuwa2l1C2lxqtVXN6gIV6YtlAuGIBH66f7wOlE46Y+qQzbaVLqcnZyg2tY5ibgA3Hf3TYcRVAP8RSSlNgSAtrtYgX022v3wOpE5BxrZc6nXLYlgNP4oUsbG1gLnTTSZnE1M4prUDDiBc+UbFGJHK4sPvA6cmV8FUZk7RuQzre1r5WIv8ApLEBMX9k/IyZD+yfkYGURECIsNNNtpMQMGTSw05Ebj5SKVFUQIBoOev1PxvNk53TzlcMxBK9pNQbfnEDoEQROZ0l0mVyiiyMxDHbMLKByYW3H9Jzn6UqK1Ssr01/gUqhRyddGJCa7/H5QPR5BcmwudzbeAgF9BrvpvNdO7qc1rN3C4IBA0Ou+/Kc+lS4bOad83F4Yzs7AKVU7EwOnw1tbKLfISco5CU6WLc1BSNs6s2fT8lrqR87qPo0YzFtTYrYXdQKXxe9rH4aqfkDAttTBHLkQBcHmJFGkEUKuw+55k/GUxi3uCShU1eHlsc29r3v9bW2mp+kn4dNhku1B6h/xLkt37dowOnkGpsNd9N5NpS6QLiknaGfiUxcAga1B3X2+swbF1AcgKmoHYXCbgKDexYW9od8C/lHIQaancD7Tlv0hV4ZqDIAtJKhBBNy17i99Npseu7MDmUKK2TKAc2h7zfv3tbaB0bDlK9bBq57Ra22UHQj/b6byvjsSyVDltfLTte9u1VC7X5Gb6FR2FVWK5kbKGC6ewrAkX/vc+6BYZQdwD8xGUch9pyEr1QmcOpK4cObqSCe0ef6zf8AjqhqMFXsqyqRbmASc19N+Xd8YHRIBkZRyErYqrUFQIhUdhmuyk7Fbd45ysekHKs4yAIEJUg3bMoOhvpvYabiBfpUVXYd5N+/Ukn9TMygIsQCB3WnMGLqqct8xaqyg5fZAF7WvrJWtVZwcyU24bE5hcGzb2DaffSB0yJAUXvYXO5trOZ+8XKNUGRQioxQglmzKDYG+m9hpuJtGMfMG7OU1TTyWObci97/AAva20C8qAbAD5CYUsOqXIGpJN+/U3M5VGu9SjlFxlWnvfM3aHaH93Qj46ztQMcg10Gu+m/zk5RykxAxyDUWGu+kFAdSAfpJiAyjlICAagAfSZRAxCAaAAD5RlHIfaZRA1JQAdn1LEAanYDuEzZAdwD8xMogYlBcGwuNjaMg1NhrvpvMogYlQSCQCRsbbRkF72F+dplEDAU1AtlFuVtI4a6dkababfKZxAgiMo5Dn9ZMQMQgHcPtBUEWIFuUyiBjkHIfaTlHKTEDHILk2FzubbwUB3A+0yiBiFHIctu6AgAsAABtpMogQBJiIESH9k/IyZD+yfkYGUREBERATCpTVxlZQw5EXEziBX/BUbW4VOwN7ZRa/OScJSNr000tbsjS232m+IGKoBewAubmw3PMyOGOQ3vt38/nM4gaadAK7vclmsNbaAbAfDU/eKlAM6uSexsulr2tfnexM3RA18FM2fKuf3rC/wB5iMLTF7U0F737I1vvN0QMWUHcA6315iYvQRvaRTrfUDfnNkQNfBSxGVbEWIsLWGwkcBM2fIub3rC/3m2IGDUlJuVBOm45G4/WSFAvYb6n46TKIGpaCAEBFAIsQANRy/WSaCFgxRcw2NhcfWbIgYlQTewva1/hymBw6Eqci3X2TYafKbYgamw6HNdFObVuyNbbXkNhaZABpoQNgVGnym6RAwaihIYqpYbEgXHyjgpmz5Vz+9YX+82SIGBoIbXVdBYaDQcv0H2myIgIiIESZEmAiIgIiICIiAiIgIiICIiAiIgIiICIiAiIgIiICIiBEh/ZPyMymL+yfkYGURECvjcQaSZgL9tFt/idV/3mml0mjLezg52ULkYscp1IFtpuxmH4qZb27SNe3uuGt+kp1OicxBzKSrOVzISLObsDrrr36bSa1FVq0vSFIkAEklc+isezrqdNNjNb9KUwBZahOZVIyMCM2xtbaQvRoCuobLmpin2RaxuxLDzTWnRZXMVZFYlCMtOyjIT+W/ffnGnluHSSAXa97uLIrNojFSTYX7v/AOyW6Tog2zE+zqFYqA3skkC1jNS9HMhzU6mVjnBJW4s1QvtfcFjJXosKjoGNmVFFxtk/neNMWcRikp2DXJa9lVSxNt9B3TW3SNIGxY/lucrWGbYMbWBOm/MRicKWqJVRgtRAyglbgq1iQRcd6iaX6OYlhxOxUKmoMupIABsb6A5RfQ/CNIpn+9qNyAXJuy6U3NyhswGmtpL9K0RqWNsquSEYgK2zE20HzkUOj8hU5r5Xqvt4jMbfTNKv7sqdumHy02pJTJygkgBgba6Gx777xq1ytJ0it3DA3FRkUKCxYAA3sB8Zn+8aWna3CkaHtBjYW56/bvlap0OC2YMM2ZmAZbrZgtwQCPdGt5keitabBrNSH8Oy2AJ9skd+bb4frGp5SvS6BrMCBZyWAYqAj5dTb78pdWspZkB1UAnkL3tr9JSHR+TW+dbVcyZdWFR81hrpymfReDNOjapcu2rk77WAJHJQo+kaTXxiOlaZZbE5CjuXZWAsttQSNRrNh6SpAEksLFRYowbtGw7Nr6mVj0QWQU6lXMgptTACgGzW1J7yLDutIfo11Xs5M+emcypawVrkm5N41a5Wx0jTIuC18xXLkbNmAuRltfbWYv0rRXXMx7Oc2RjZbkEmw0sQb35TRU6JLdtnBqZyxJTs6qFy5b3tYDvvcTNeiwA4DAZqRp6LYAksS1r82Manlli+lETRbswZFOjZQWYCxa1r2N7fLnN9DFpUJC5ja+uVgDY2NiRY6yrU6MYlgtSyO6VGGW5zLl2N9jkHdNmGwJSq1TMNQRlVcoNyDmbWxItuANzGk1TYcfTz5Lm+bLfKcub3c1rXihj6dRgqlrkEi6sAbGxsSNbXmo9HEtbP/C4nFyZdc2bNbNfbNrt9ZnSwOVqJzX4SsNt81v6QYjFdJIhKi7MrKpsrWBYjQsBYGxvb5c5ielqajtkg9s9lWbso2Uk6aSKvR7Fny1LI7q7Llubrl2N9AQo7pj+6va7ftJVTbxHzX+kaeW8dI0rE3bQgWyNck7WFrm/w5SG6SpDLqxLZrKEYt2bZri1xa4mrF9FiqcxbUFCtxcAqGGovqCGMzw/R4Rka6gqHBCrYEsV13O2URpjYmPpsVClmuFNwrEAMNLm2k1jpSmEUubErnbKGYKt9ybaDQ6m2x5TUvRRBpWcDhhBmCWche7Nf2T3gg7mB0UyqQlXLmpim5y30F7FddD2jvcbRp5WD0jSz5Lm4YITlbKGIBAzWtrcTfXrLTQu5so3P/wAd8qr0eAGAbQ1EqbbZQot/4/rM6mHepRyVGAe4IZRsQ+ZTb6CDE4XFiq9QAEBMvtAg6jvBma4i9ZqWnZRW779osOVvy8/t36aeHqq5fOrF2XP2bAKAdBqfhMzhTxmqq9iy01IK30VmJ7+/Nb6QYmljabtlUm5vY5SA1t8ptYzZiMQtIBnJsSALAkknYWEo4bonhHsFOyDwyUuyk7XN9bfIXlyth87UmJ/s2zW5nKV//YwmW1fvKlYEFiSWGUIxbsmzXW19P6c4pdII9UU0Ba9MVMwBy2J01+Nj9ppTo1kIanUyuQ4Ylb3zOWuBfQgkzbg8AKLEqezkRACNRlv3/U93fGriMT0kq3VQWbMqeycuYkC2a1r6yP3tTAu5I3PZVmGXOVDE202mK9GsCBxewtRqgXLrdsxsTfUAtf6SKfRQVMmckWpLqPy0ze31N/vGnlvHSNIg6tcNly5GzXtf2bX2N5i/SlFQDdjdWbRGJAU2NwBpY85qr9FBjnzAvnZu0txZgBawIOgVdb90k9FjLUUNlz0+HoLAasWYC+5LGNPKwuOps+QEk7EhWsCVzWJtYaEH6zTT6VplVLEjMFY2ViqhvZzG2l7je0wrdGMzswqBLqygqljYrYBjezAd2klui/bUPak5BZMuugAsGvoCFHdzjTy3r0hTNTIC18xS+RrZgLkZrW2B+01Y/pHhOq2/KzuxDWVF3Og3kp0cAKYJuFao503Z81/9bSKvRinMFOVSqrltoAHLN5tvpGmWzbpKkBclgLXPYbsjm2mg0O8zOOp58lze+W+U5c3u5rWvK9fopXqs5ylXtnV1vsLaG4tcfAxR6KVahbsFc5cAr2gxN/av3H4Rp5dCTIkyskREBERAREQERECJD+yfkZMh/ZPyMDKIiAkSYgRNeIqlFzBWfUCy76m1/pNsiBzl6QqsxCUL2RWYF8rDMD2QCN9O8ibh0lRyqxewZc2oOg5tyHxM11cLW4zvSqU1DqoOZCSCt9RYgd80P0Nb2GuDTFNsxbWxY5uyRe+Y3B/STW/K5Ux9NSVBBYMqsORYi1/uNO+Z/jaWVWzrZ1zr8V01H3H3Ert0fowDAA1kqDTYLk0/8f1mv91MBVtUtm0p6ewubMV32JuNLaW5RqY3t0pSDU1BJNRygsp0YKT2h3bfrymVHH02p8TMAAAW1va4uPnKydGOGVgygrV4lrG1jS4ZXU3+Mil0QV4HbFkVRUFvbyG6fKzaxq1yvJjKbPkDAtqO/UjcA7EiaMR0itOrwzYAIXdiSAq93dY/cTVh+isjasGQFivafMM1/wC9YEXOv8psrdHXzZWsCgXUkn2r3uTGpltxx9IEAuNbHY6XNhflfuvvMhjKefh5hmva3xte19r27pUxPRheq7AjLUtmUl+4W/KwBuB3yKfRhWpfMGTOagBL3BJJtbNl3O9v6xpXK/WrLTUs5AUd5lSj0ojswtYK5W5PKmHJtv8AT4TOth3q0UzFVqqVfYlcym9t9pWHRjlnZnW7OW0U2F6OS2/1givqyOlKB2qDu7j+bY/I89psGMp58mYZr2truBci+17d0q1ujSyuMwGZKa7e4xN/reY0uiytQnMCmdqguXuCxJtbNl3Y622+8aVysp0lRYEioLABr66g6XHPXTTvk/j6dx2gFKuxJNrBMt7g/wCKV/3aciLdDkpcOzKSCbqb7/3ZrPRLMLNV/JUUbnLmKEWJNyBk797xpXK2OkaOUtnAAIBuCCC22h117ptp4lHQupuovfQ3Ftxbe8qfgajPxKjrmvT0VTayMT3nckn5TfTwYDMxJJLlhYkDW2hANjt3wY1YLpRKqqTZCwLKtzfJ7x0Ftj8PjNy4+kVZg4soBN7jQ7HXcHu5yrT6K/hGmzXDUBRJA1/NcjzTA9FMyMGdc/ZysDUOqtfW7bEgaDbnGr5X6eLptbK25K2sb3AuQR3ac4qYymrhGYBjbTXS5sL8rnnNWEwzU+9e0139skjLYWLE6x+GqLWZ6bLlqFSwZSSLaaWPePsdddoZww3SVOoPaCmzEg8lNjrtp38pknSFEqzBxZQCb3FgdjY9x7ucq1uis6IhfQLVU2Hvi1x8pNTo6pUOd6iZwEyZVOW6tmuQTrcgad0atcrP7wpWvn78trG9wLkZbX21ktjqQIBca2I3tY7XOwv3X3lWp0c7ZmYoXZs2zDLZbDKwNwfj3zD90NfWpnzBBULZxcqoBNlYDUDv2+MaVy6GIxKU7Z2tc2AsSTpfQDUzU/SVBQCai2Kh7jUZT+a47tN4xWHculSmyhkDCzAkENbkdDcCVR0SRTqpnF6lE075fzEuS1r7Xfb4RpFLxxlMPkLDNcC2u52BO1/hK9DpB6nDK0Tlbds3s6sOX939flfAdGEVWbMCjOHIJe4OmgAax1AO33lzC0eGgXTS+17aknvjTG2JMSsokxEBIkxAREQEiTEBERAREQEREBERAREQERECJD+yfkZMh/ZPyMDKJz+M3vGOM/vGBfiUOM3vGOM/vGBfkzn8Z/eMcZ/eMC/EocZ/eMcZ/eMC/EocZveMcZveMC/EocZ/eMcZveMC/EocZveMcZ/eMDoSJQ4ze8Y4ze8YF+JQ4ze8Y4ze8YF+JQ4ze8Y4ze8YF+JQ4ze8Y4ze8YF+JQ4ze8Y4ze8YF+JQ4ze8Y4ze8YHQkShxm94xxm94wL8mc/jN7xmjFdIGmBdtTtc2A21J5aj7wOtE850j0jiaSXGaoTo3DXLYMdGBYm5ABuPjfSdKniKhF2Njc7G+l9NbcoHSkShxm94xxm94wL8Shxm94xxm94wL8Shxm94xxm94wL8mc/jN7xjjN7xgdCJz+M3vGOM3vGBfkzn8ZveMcZveMDoROfxm94xxm94wOhE5/Gb3jHGb3jA6ETn8Z/eMcZveMDoROfxm94xxn94wL8Shxm94xxm94wL8Shxm94xxm94wL8Shxm94zFsXlIBqAE6AEgX+UDoyH9k/Iznpi81wtQGxsbEGx5GS9ZrHtHaBjONiqeLWrVNG+Vnutih2poBcNslw97a8p6HhLyjhDlA86gxzO4JKIToRwyV/tNBpqP7PcX1g08Y18x0Nhk7AA7NM3uNb5uIN56LhDlHCHKB556OKq4avTqFw7MAjAopy5he2XawvuTKY6PxpdmZzmYWuGAC5adVQVHdc8Mn/ABfCet4Q5RwhygeXShjFLsBUJa1iWTMOzRBNtVv2amlv5zVXrY1gaLZuI1JhlUJlB4J1Lbhs9tb22nreEOUcMcoHngcdmp37r57cMqdW2G9gMttb85YwlKu+HAqu9OoHuWGS5UHkBYA8p2eEvKOEOUDz/S+GrO7FFqNemBSKVcop1LntMLi49nn7JFtZpb8Y5azVMquL2FNb5aw9jv8AZDXzb6T03CXlHDHKB5vg40KoV2SwIsBTOuVze5B1zZB9T9MiuMV+yGy3qsRenYkjsDXUa945DSei4Q5RwhygeYNHGtkLFz3EE0wLcamQWAtrlzbcvjrmq49tCxUX1NqVwcj3C6EZM3Dtftb3npOEOUcIcoFSiWyLn0bKM3ztr+szljhDlHCHKBXiWOEOUcIcoFeJY4Q5RwhygV4ljhDlHCHKBXiWOEOUcIcoFeJY4Q5RwhygV5yuk8WqVEGVmDMKbWS4XUNqTpYi+vdO7whymD4ZGIJW9gRubWO+mxgcS2Vly9tjf+GzgtTNmtYDYdo3PL6CdOkmVFW98oAvzsLS0tBRsoHyk8JeUCvEscJeUcJeUCvEscJeUcJeUCvEscJeUcJeUCvEscJeUcJeUCvEscJeUcJeUCvNGOompRqICVZlIBB1BtofvL/CXlHCXlA8muGx9y9yGtnAzKbM7LnQX07KqbX07U3V6ePdXUnQ0rCwUXbJ3kG6tm5aWnpuEvKOEvKBwcVh8RVwRVmYV9T2WVbkNoAR+Xl38++dHhHjF+I2Urbh6ZQb3zc7y7wl5Rwl5QPLUMLiqYvTSohykOTVVszGoLMqsWAsublvaWuj6uJNYJVOior1NF9orbh3AtuC+nPlO/wl5RwhygcLo/DYha2INVtKirlZXuA129lSNLAr9u/WZ4/AM+GVMz1Kile1nKk9oZibEd152uEvKOEvKB5qpTxlgi8RUpvoVKXZRXGUAnXSne997a3mdIY4sAxIXOM5tT2yvcLb8l+GBftamei4S8o4S8oHmadPGkqjAimFQe0m6mmbgjXxL3vtOk9B/wAWlQFjT4Tqwv2Q2ZMunM9rWdThLyjhLygV5WxdJ3KhQuW93uSCbEEAaHSdHhLyjhLygcvBYVqbMWINwALE8yfoO1tLTbH5S1wl5TF6S2OndA2xEQEREBERAREQEREBERAREQEREBERAREQEREBERAREQEREBERAREQEREBERAREQEREBERAREQEREBERAREQEREBERAREQEREBMX2PymUxfY/KBlE+adYWM8PD+V/XHWFjPDw/lf1wPpcT5p1hYzw8P5X9cdYWM8PD+V/XA+lxPmnWFjPDw/lf1x1hYzw8P5X9cD6XE+adYWM8PD+V/XHWFjPDw/lf1wPpcT5p1hYzw8P5X9cdYWM8PD+V/XA+lxPmnWFjPDw/lf1x1hYzw8P5X9cD6XE+adYWM8PD+V/XHWFjPDw/lf1wPpcT5p1hYzw8P5X9cdYWM8PD+V/XA+lxPmnWFjPDw/lf1x1hYzw8P5X9cD6XE+adYWM8PD+V/XHWFjPDw/lf1wPpcT5p1hYzw8P5X9cdYWM8PD+V/XA+lxPmnWFjPDw/lf1x1hYzw8P5X9cD6XE+adYWM8PD+V/XHWFjPDw/lf1wPpcT5p1hYzw8P5X9cdYWM8PD+V/XA+lxPmnWFjPDw/lf1x1hYzw8P5X9cD6XE+adYWM8PD+V/XHWFjPDw/lf1wPpcT5p1hYzw8P5X9cdYWM8PD+V/XA+lxPmnWFjPDw/lf1x1hYzw8P5X9cD6XE+adYWM8PD+V/XHWFjPDw/lf1wPpcT5p1hYzw8P5X9cdYWM8PD+V/XA+lxPmnWFjPDw/lf1x1hYzw8P5X9cD6XE+adYWM8PD+V/XHWFjPDw/lf1wPpcT5p1hYzw8P5X9cdYWM8PD+V/XA+lxPmnWFjPDw/lf1x1hYzw8P5X9cD6XE+adYWM8PD+V/XHWFjPDw/lf1wPpcT5p1hYzw8P5X9cdYWM8PD+V/XA+lxPmnWFjPDw/lf1x1hYzw8P5X9cD6XE+adYWM8PD+V/XHWFjPDw/lf1wPpcT5p1hYzw8P5X9cdYWM8PD+V/XA+lzF9j8p826wsZ4eH8r+uD/xBxh/9vD+V/XA8nERAREQEREBERAREQEREBERAREQEREBERAREQEREBERAREQEREBERAREQEREBERAREQEREBERAREQEREBERAREQEREBERAREQEREBERAREQEREBERAREQEREBERAREQEREBERAREQEREBERAREQEREBERAREQEREBERAREQEREBERAREQEREBERAREQEREBERAREQEREBERAREQEREBERAREQEREBERAREQEREBERAREQEREBERAREQEREBERAREQEREBERAREQEREBERAREQEREBERAREQEREBERAREQERED//Z\n"
              }
            ],
            "_view_module": "@jupyter-widgets/output",
            "_model_module_version": "1.0.0",
            "_view_count": null,
            "_view_module_version": "1.0.0",
            "layout": "IPY_MODEL_9ae0786c233f4ecaaa38ff5e445940d2",
            "_model_module": "@jupyter-widgets/output"
          }
        },
        "988a92a207b74897a54233dba3f653d8": {
          "model_module": "@jupyter-widgets/output",
          "model_name": "OutputModel",
          "state": {
            "_view_name": "OutputView",
            "msg_id": "",
            "_dom_classes": [],
            "_model_name": "OutputModel",
            "outputs": [
              {
                "output_type": "stream",
                "metadata": {
                  "tags": []
                },
                "text": "Video available at https://www.bilibili.com/video/BV1aL411H7Ce\n",
                "stream": "stdout"
              },
              {
                "output_type": "display_data",
                "metadata": {
                  "tags": []
                },
                "text/html": "\n        <iframe\n            width=\"854\"\n            height=\"480\"\n            src=\"https://player.bilibili.com/player.html?bvid=BV1aL411H7Ce&page=1?fs=1\"\n            frameborder=\"0\"\n            allowfullscreen\n        ></iframe>\n        ",
                "text/plain": "<__main__.BiliVideo at 0x7f1e4a7d5490>"
              }
            ],
            "_view_module": "@jupyter-widgets/output",
            "_model_module_version": "1.0.0",
            "_view_count": null,
            "_view_module_version": "1.0.0",
            "layout": "IPY_MODEL_9976fe5f54ac4b1bbf17df9d6f05c47f",
            "_model_module": "@jupyter-widgets/output"
          }
        },
        "9ae0786c233f4ecaaa38ff5e445940d2": {
          "model_module": "@jupyter-widgets/base",
          "model_name": "LayoutModel",
          "state": {
            "_view_name": "LayoutView",
            "grid_template_rows": null,
            "right": null,
            "justify_content": null,
            "_view_module": "@jupyter-widgets/base",
            "overflow": null,
            "_model_module_version": "1.2.0",
            "_view_count": null,
            "flex_flow": null,
            "width": null,
            "min_width": null,
            "border": null,
            "align_items": null,
            "bottom": null,
            "_model_module": "@jupyter-widgets/base",
            "top": null,
            "grid_column": null,
            "overflow_y": null,
            "overflow_x": null,
            "grid_auto_flow": null,
            "grid_area": null,
            "grid_template_columns": null,
            "flex": null,
            "_model_name": "LayoutModel",
            "justify_items": null,
            "grid_row": null,
            "max_height": null,
            "align_content": null,
            "visibility": null,
            "align_self": null,
            "height": null,
            "min_height": null,
            "padding": null,
            "grid_auto_rows": null,
            "grid_gap": null,
            "max_width": null,
            "order": null,
            "_view_module_version": "1.2.0",
            "grid_template_areas": null,
            "object_position": null,
            "object_fit": null,
            "grid_auto_columns": null,
            "margin": null,
            "display": null,
            "left": null
          }
        },
        "9976fe5f54ac4b1bbf17df9d6f05c47f": {
          "model_module": "@jupyter-widgets/base",
          "model_name": "LayoutModel",
          "state": {
            "_view_name": "LayoutView",
            "grid_template_rows": null,
            "right": null,
            "justify_content": null,
            "_view_module": "@jupyter-widgets/base",
            "overflow": null,
            "_model_module_version": "1.2.0",
            "_view_count": null,
            "flex_flow": null,
            "width": null,
            "min_width": null,
            "border": null,
            "align_items": null,
            "bottom": null,
            "_model_module": "@jupyter-widgets/base",
            "top": null,
            "grid_column": null,
            "overflow_y": null,
            "overflow_x": null,
            "grid_auto_flow": null,
            "grid_area": null,
            "grid_template_columns": null,
            "flex": null,
            "_model_name": "LayoutModel",
            "justify_items": null,
            "grid_row": null,
            "max_height": null,
            "align_content": null,
            "visibility": null,
            "align_self": null,
            "height": null,
            "min_height": null,
            "padding": null,
            "grid_auto_rows": null,
            "grid_gap": null,
            "max_width": null,
            "order": null,
            "_view_module_version": "1.2.0",
            "grid_template_areas": null,
            "object_position": null,
            "object_fit": null,
            "grid_auto_columns": null,
            "margin": null,
            "display": null,
            "left": null
          }
        },
        "61dd25798227467aa8634815cb6e4a7b": {
          "model_module": "@jupyter-widgets/controls",
          "model_name": "TabModel",
          "state": {
            "_view_name": "TabView",
            "_dom_classes": [],
            "_titles": {
              "0": "Youtube",
              "1": "Bilibili"
            },
            "_model_name": "TabModel",
            "_view_module": "@jupyter-widgets/controls",
            "selected_index": 0,
            "_model_module_version": "1.5.0",
            "_view_count": null,
            "_view_module_version": "1.5.0",
            "box_style": "",
            "layout": "IPY_MODEL_84452ee451ea46de83b59f3e31874b4c",
            "_model_module": "@jupyter-widgets/controls",
            "children": [
              "IPY_MODEL_2cb0b34831a34c12ab3d77f56b213be6",
              "IPY_MODEL_be22b097d07a4801b83a731a206dcde2"
            ]
          }
        },
        "84452ee451ea46de83b59f3e31874b4c": {
          "model_module": "@jupyter-widgets/base",
          "model_name": "LayoutModel",
          "state": {
            "_view_name": "LayoutView",
            "grid_template_rows": null,
            "right": null,
            "justify_content": null,
            "_view_module": "@jupyter-widgets/base",
            "overflow": null,
            "_model_module_version": "1.2.0",
            "_view_count": null,
            "flex_flow": null,
            "width": null,
            "min_width": null,
            "border": null,
            "align_items": null,
            "bottom": null,
            "_model_module": "@jupyter-widgets/base",
            "top": null,
            "grid_column": null,
            "overflow_y": null,
            "overflow_x": null,
            "grid_auto_flow": null,
            "grid_area": null,
            "grid_template_columns": null,
            "flex": null,
            "_model_name": "LayoutModel",
            "justify_items": null,
            "grid_row": null,
            "max_height": null,
            "align_content": null,
            "visibility": null,
            "align_self": null,
            "height": null,
            "min_height": null,
            "padding": null,
            "grid_auto_rows": null,
            "grid_gap": null,
            "max_width": null,
            "order": null,
            "_view_module_version": "1.2.0",
            "grid_template_areas": null,
            "object_position": null,
            "object_fit": null,
            "grid_auto_columns": null,
            "margin": null,
            "display": null,
            "left": null
          }
        },
        "2cb0b34831a34c12ab3d77f56b213be6": {
          "model_module": "@jupyter-widgets/output",
          "model_name": "OutputModel",
          "state": {
            "_view_name": "OutputView",
            "msg_id": "",
            "_dom_classes": [],
            "_model_name": "OutputModel",
            "outputs": [
              {
                "output_type": "stream",
                "metadata": {
                  "tags": []
                },
                "text": "Video available at https://youtube.com/watch?v=3ES5O58Y_2M\n",
                "stream": "stdout"
              },
              {
                "output_type": "display_data",
                "metadata": {
                  "tags": []
                },
                "text/html": "\n        <iframe\n            width=\"854\"\n            height=\"480\"\n            src=\"https://www.youtube.com/embed/3ES5O58Y_2M?fs=1&rel=0\"\n            frameborder=\"0\"\n            allowfullscreen\n        ></iframe>\n        ",
                "text/plain": "<IPython.lib.display.YouTubeVideo at 0x7f1e55c008d0>",
                "image/jpeg": "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\n"
              }
            ],
            "_view_module": "@jupyter-widgets/output",
            "_model_module_version": "1.0.0",
            "_view_count": null,
            "_view_module_version": "1.0.0",
            "layout": "IPY_MODEL_0a36c3882c2442d39246fd233c27250b",
            "_model_module": "@jupyter-widgets/output"
          }
        },
        "be22b097d07a4801b83a731a206dcde2": {
          "model_module": "@jupyter-widgets/output",
          "model_name": "OutputModel",
          "state": {
            "_view_name": "OutputView",
            "msg_id": "",
            "_dom_classes": [],
            "_model_name": "OutputModel",
            "outputs": [
              {
                "output_type": "stream",
                "metadata": {
                  "tags": []
                },
                "text": "Video available at https://www.bilibili.com/video/BV1NL411H71t\n",
                "stream": "stdout"
              },
              {
                "output_type": "display_data",
                "metadata": {
                  "tags": []
                },
                "text/html": "\n        <iframe\n            width=\"854\"\n            height=\"480\"\n            src=\"https://player.bilibili.com/player.html?bvid=BV1NL411H71t&page=1?fs=1\"\n            frameborder=\"0\"\n            allowfullscreen\n        ></iframe>\n        ",
                "text/plain": "<__main__.BiliVideo at 0x7f1e561f8950>"
              }
            ],
            "_view_module": "@jupyter-widgets/output",
            "_model_module_version": "1.0.0",
            "_view_count": null,
            "_view_module_version": "1.0.0",
            "layout": "IPY_MODEL_79704500dbbd44e9a392269cb0dba573",
            "_model_module": "@jupyter-widgets/output"
          }
        },
        "0a36c3882c2442d39246fd233c27250b": {
          "model_module": "@jupyter-widgets/base",
          "model_name": "LayoutModel",
          "state": {
            "_view_name": "LayoutView",
            "grid_template_rows": null,
            "right": null,
            "justify_content": null,
            "_view_module": "@jupyter-widgets/base",
            "overflow": null,
            "_model_module_version": "1.2.0",
            "_view_count": null,
            "flex_flow": null,
            "width": null,
            "min_width": null,
            "border": null,
            "align_items": null,
            "bottom": null,
            "_model_module": "@jupyter-widgets/base",
            "top": null,
            "grid_column": null,
            "overflow_y": null,
            "overflow_x": null,
            "grid_auto_flow": null,
            "grid_area": null,
            "grid_template_columns": null,
            "flex": null,
            "_model_name": "LayoutModel",
            "justify_items": null,
            "grid_row": null,
            "max_height": null,
            "align_content": null,
            "visibility": null,
            "align_self": null,
            "height": null,
            "min_height": null,
            "padding": null,
            "grid_auto_rows": null,
            "grid_gap": null,
            "max_width": null,
            "order": null,
            "_view_module_version": "1.2.0",
            "grid_template_areas": null,
            "object_position": null,
            "object_fit": null,
            "grid_auto_columns": null,
            "margin": null,
            "display": null,
            "left": null
          }
        },
        "79704500dbbd44e9a392269cb0dba573": {
          "model_module": "@jupyter-widgets/base",
          "model_name": "LayoutModel",
          "state": {
            "_view_name": "LayoutView",
            "grid_template_rows": null,
            "right": null,
            "justify_content": null,
            "_view_module": "@jupyter-widgets/base",
            "overflow": null,
            "_model_module_version": "1.2.0",
            "_view_count": null,
            "flex_flow": null,
            "width": null,
            "min_width": null,
            "border": null,
            "align_items": null,
            "bottom": null,
            "_model_module": "@jupyter-widgets/base",
            "top": null,
            "grid_column": null,
            "overflow_y": null,
            "overflow_x": null,
            "grid_auto_flow": null,
            "grid_area": null,
            "grid_template_columns": null,
            "flex": null,
            "_model_name": "LayoutModel",
            "justify_items": null,
            "grid_row": null,
            "max_height": null,
            "align_content": null,
            "visibility": null,
            "align_self": null,
            "height": null,
            "min_height": null,
            "padding": null,
            "grid_auto_rows": null,
            "grid_gap": null,
            "max_width": null,
            "order": null,
            "_view_module_version": "1.2.0",
            "grid_template_areas": null,
            "object_position": null,
            "object_fit": null,
            "grid_auto_columns": null,
            "margin": null,
            "display": null,
            "left": null
          }
        },
        "2b260ba7501e4dce8a33ddbece684473": {
          "model_module": "@jupyter-widgets/controls",
          "model_name": "VBoxModel",
          "state": {
            "_view_name": "VBoxView",
            "_dom_classes": [
              "widget-interact"
            ],
            "_model_name": "VBoxModel",
            "_view_module": "@jupyter-widgets/controls",
            "_model_module_version": "1.5.0",
            "_view_count": null,
            "_view_module_version": "1.5.0",
            "box_style": "",
            "layout": "IPY_MODEL_a9f54c76195e4773bd4b9d0843c9fcb0",
            "_model_module": "@jupyter-widgets/controls",
            "children": [
              "IPY_MODEL_a9f6ad19ef824ce29160760e8c08b0bb",
              "IPY_MODEL_6a613f85f43849b1bec57f1209189d61",
              "IPY_MODEL_199b4e36b9ea4ea3bd2e896464baae8c",
              "IPY_MODEL_d046e6bc41954ec5b2a947139befa9cb",
              "IPY_MODEL_0bf52d6583494b3a87d91aa7ebeace77"
            ]
          }
        },
        "a9f54c76195e4773bd4b9d0843c9fcb0": {
          "model_module": "@jupyter-widgets/base",
          "model_name": "LayoutModel",
          "state": {
            "_view_name": "LayoutView",
            "grid_template_rows": null,
            "right": null,
            "justify_content": null,
            "_view_module": "@jupyter-widgets/base",
            "overflow": null,
            "_model_module_version": "1.2.0",
            "_view_count": null,
            "flex_flow": null,
            "width": null,
            "min_width": null,
            "border": null,
            "align_items": null,
            "bottom": null,
            "_model_module": "@jupyter-widgets/base",
            "top": null,
            "grid_column": null,
            "overflow_y": null,
            "overflow_x": null,
            "grid_auto_flow": null,
            "grid_area": null,
            "grid_template_columns": null,
            "flex": null,
            "_model_name": "LayoutModel",
            "justify_items": null,
            "grid_row": null,
            "max_height": null,
            "align_content": null,
            "visibility": null,
            "align_self": null,
            "height": null,
            "min_height": null,
            "padding": null,
            "grid_auto_rows": null,
            "grid_gap": null,
            "max_width": null,
            "order": null,
            "_view_module_version": "1.2.0",
            "grid_template_areas": null,
            "object_position": null,
            "object_fit": null,
            "grid_auto_columns": null,
            "margin": null,
            "display": null,
            "left": null
          }
        },
        "a9f6ad19ef824ce29160760e8c08b0bb": {
          "model_module": "@jupyter-widgets/controls",
          "model_name": "IntSliderModel",
          "state": {
            "_view_name": "IntSliderView",
            "style": "IPY_MODEL_16e4cc4c07bd4207b6e82e0bd722575b",
            "_dom_classes": [],
            "description": "max_steps",
            "step": 5,
            "_model_name": "IntSliderModel",
            "orientation": "horizontal",
            "max": 500,
            "_view_module": "@jupyter-widgets/controls",
            "_model_module_version": "1.5.0",
            "value": 300,
            "_view_count": null,
            "disabled": false,
            "_view_module_version": "1.5.0",
            "min": 50,
            "continuous_update": true,
            "readout_format": "d",
            "description_tooltip": null,
            "readout": true,
            "_model_module": "@jupyter-widgets/controls",
            "layout": "IPY_MODEL_68c5e3d782fc423b86a8d6f3cc7efb90"
          }
        },
        "6a613f85f43849b1bec57f1209189d61": {
          "model_module": "@jupyter-widgets/controls",
          "model_name": "FloatLogSliderModel",
          "state": {
            "_view_name": "FloatLogSliderView",
            "orientation": "horizontal",
            "_view_module": "@jupyter-widgets/controls",
            "_model_module_version": "1.5.0",
            "_view_count": null,
            "disabled": false,
            "readout_format": ".3g",
            "_model_module": "@jupyter-widgets/controls",
            "style": "IPY_MODEL_3acc52cb3f1f42c6b0cc597ab0f09ee3",
            "layout": "IPY_MODEL_7f4d15aa117a4b8cb003b7d7b9e91ac3",
            "min": -3,
            "continuous_update": true,
            "description_tooltip": null,
            "_dom_classes": [],
            "description": "lr",
            "_model_name": "FloatLogSliderModel",
            "max": 0.7,
            "readout": true,
            "step": 0.1,
            "base": 10,
            "value": 0.1,
            "_view_module_version": "1.5.0"
          }
        },
        "199b4e36b9ea4ea3bd2e896464baae8c": {
          "model_module": "@jupyter-widgets/controls",
          "model_name": "FloatSliderModel",
          "state": {
            "_view_name": "FloatSliderView",
            "style": "IPY_MODEL_789057ececda433098a1ef4b025f47cf",
            "_dom_classes": [],
            "description": "beta",
            "step": 0.01,
            "_model_name": "FloatSliderModel",
            "orientation": "horizontal",
            "max": 1,
            "_view_module": "@jupyter-widgets/controls",
            "_model_module_version": "1.5.0",
            "value": 0.9,
            "_view_count": null,
            "disabled": false,
            "_view_module_version": "1.5.0",
            "min": 0,
            "continuous_update": true,
            "readout_format": ".2f",
            "description_tooltip": null,
            "readout": true,
            "_model_module": "@jupyter-widgets/controls",
            "layout": "IPY_MODEL_13ea1e09acfa4ce4912f10d3f259f860"
          }
        },
        "d046e6bc41954ec5b2a947139befa9cb": {
          "model_module": "@jupyter-widgets/controls",
          "model_name": "ButtonModel",
          "state": {
            "_view_name": "ButtonView",
            "style": "IPY_MODEL_da27a097ca3d49179a7f11221b444a9e",
            "_dom_classes": [],
            "description": "Run Interact",
            "_model_name": "ButtonModel",
            "button_style": "",
            "_view_module": "@jupyter-widgets/controls",
            "_model_module_version": "1.5.0",
            "tooltip": "",
            "_view_count": null,
            "disabled": false,
            "_view_module_version": "1.5.0",
            "layout": "IPY_MODEL_9a9db32f09404e64abf42b6215d65668",
            "_model_module": "@jupyter-widgets/controls",
            "icon": ""
          }
        },
        "0bf52d6583494b3a87d91aa7ebeace77": {
          "model_module": "@jupyter-widgets/output",
          "model_name": "OutputModel",
          "state": {
            "_view_name": "OutputView",
            "msg_id": "",
            "_dom_classes": [],
            "_model_name": "OutputModel",
            "outputs": [],
            "_view_module": "@jupyter-widgets/output",
            "_model_module_version": "1.0.0",
            "_view_count": null,
            "_view_module_version": "1.0.0",
            "layout": "IPY_MODEL_8298935a863341c1bbd287b9e5bbce0b",
            "_model_module": "@jupyter-widgets/output"
          }
        },
        "16e4cc4c07bd4207b6e82e0bd722575b": {
          "model_module": "@jupyter-widgets/controls",
          "model_name": "SliderStyleModel",
          "state": {
            "_view_name": "StyleView",
            "handle_color": null,
            "_model_name": "SliderStyleModel",
            "description_width": "",
            "_view_module": "@jupyter-widgets/base",
            "_model_module_version": "1.5.0",
            "_view_count": null,
            "_view_module_version": "1.2.0",
            "_model_module": "@jupyter-widgets/controls"
          }
        },
        "68c5e3d782fc423b86a8d6f3cc7efb90": {
          "model_module": "@jupyter-widgets/base",
          "model_name": "LayoutModel",
          "state": {
            "_view_name": "LayoutView",
            "grid_template_rows": null,
            "right": null,
            "justify_content": null,
            "_view_module": "@jupyter-widgets/base",
            "overflow": null,
            "_model_module_version": "1.2.0",
            "_view_count": null,
            "flex_flow": null,
            "width": null,
            "min_width": null,
            "border": null,
            "align_items": null,
            "bottom": null,
            "_model_module": "@jupyter-widgets/base",
            "top": null,
            "grid_column": null,
            "overflow_y": null,
            "overflow_x": null,
            "grid_auto_flow": null,
            "grid_area": null,
            "grid_template_columns": null,
            "flex": null,
            "_model_name": "LayoutModel",
            "justify_items": null,
            "grid_row": null,
            "max_height": null,
            "align_content": null,
            "visibility": null,
            "align_self": null,
            "height": null,
            "min_height": null,
            "padding": null,
            "grid_auto_rows": null,
            "grid_gap": null,
            "max_width": null,
            "order": null,
            "_view_module_version": "1.2.0",
            "grid_template_areas": null,
            "object_position": null,
            "object_fit": null,
            "grid_auto_columns": null,
            "margin": null,
            "display": null,
            "left": null
          }
        },
        "3acc52cb3f1f42c6b0cc597ab0f09ee3": {
          "model_module": "@jupyter-widgets/controls",
          "model_name": "SliderStyleModel",
          "state": {
            "_view_name": "StyleView",
            "handle_color": null,
            "_model_name": "SliderStyleModel",
            "description_width": "",
            "_view_module": "@jupyter-widgets/base",
            "_model_module_version": "1.5.0",
            "_view_count": null,
            "_view_module_version": "1.2.0",
            "_model_module": "@jupyter-widgets/controls"
          }
        },
        "7f4d15aa117a4b8cb003b7d7b9e91ac3": {
          "model_module": "@jupyter-widgets/base",
          "model_name": "LayoutModel",
          "state": {
            "_view_name": "LayoutView",
            "grid_template_rows": null,
            "right": null,
            "justify_content": null,
            "_view_module": "@jupyter-widgets/base",
            "overflow": null,
            "_model_module_version": "1.2.0",
            "_view_count": null,
            "flex_flow": null,
            "width": null,
            "min_width": null,
            "border": null,
            "align_items": null,
            "bottom": null,
            "_model_module": "@jupyter-widgets/base",
            "top": null,
            "grid_column": null,
            "overflow_y": null,
            "overflow_x": null,
            "grid_auto_flow": null,
            "grid_area": null,
            "grid_template_columns": null,
            "flex": null,
            "_model_name": "LayoutModel",
            "justify_items": null,
            "grid_row": null,
            "max_height": null,
            "align_content": null,
            "visibility": null,
            "align_self": null,
            "height": null,
            "min_height": null,
            "padding": null,
            "grid_auto_rows": null,
            "grid_gap": null,
            "max_width": null,
            "order": null,
            "_view_module_version": "1.2.0",
            "grid_template_areas": null,
            "object_position": null,
            "object_fit": null,
            "grid_auto_columns": null,
            "margin": null,
            "display": null,
            "left": null
          }
        },
        "789057ececda433098a1ef4b025f47cf": {
          "model_module": "@jupyter-widgets/controls",
          "model_name": "SliderStyleModel",
          "state": {
            "_view_name": "StyleView",
            "handle_color": null,
            "_model_name": "SliderStyleModel",
            "description_width": "",
            "_view_module": "@jupyter-widgets/base",
            "_model_module_version": "1.5.0",
            "_view_count": null,
            "_view_module_version": "1.2.0",
            "_model_module": "@jupyter-widgets/controls"
          }
        },
        "13ea1e09acfa4ce4912f10d3f259f860": {
          "model_module": "@jupyter-widgets/base",
          "model_name": "LayoutModel",
          "state": {
            "_view_name": "LayoutView",
            "grid_template_rows": null,
            "right": null,
            "justify_content": null,
            "_view_module": "@jupyter-widgets/base",
            "overflow": null,
            "_model_module_version": "1.2.0",
            "_view_count": null,
            "flex_flow": null,
            "width": null,
            "min_width": null,
            "border": null,
            "align_items": null,
            "bottom": null,
            "_model_module": "@jupyter-widgets/base",
            "top": null,
            "grid_column": null,
            "overflow_y": null,
            "overflow_x": null,
            "grid_auto_flow": null,
            "grid_area": null,
            "grid_template_columns": null,
            "flex": null,
            "_model_name": "LayoutModel",
            "justify_items": null,
            "grid_row": null,
            "max_height": null,
            "align_content": null,
            "visibility": null,
            "align_self": null,
            "height": null,
            "min_height": null,
            "padding": null,
            "grid_auto_rows": null,
            "grid_gap": null,
            "max_width": null,
            "order": null,
            "_view_module_version": "1.2.0",
            "grid_template_areas": null,
            "object_position": null,
            "object_fit": null,
            "grid_auto_columns": null,
            "margin": null,
            "display": null,
            "left": null
          }
        },
        "da27a097ca3d49179a7f11221b444a9e": {
          "model_module": "@jupyter-widgets/controls",
          "model_name": "ButtonStyleModel",
          "state": {
            "_view_name": "StyleView",
            "_model_name": "ButtonStyleModel",
            "_view_module": "@jupyter-widgets/base",
            "_model_module_version": "1.5.0",
            "_view_count": null,
            "button_color": null,
            "font_weight": "",
            "_view_module_version": "1.2.0",
            "_model_module": "@jupyter-widgets/controls"
          }
        },
        "9a9db32f09404e64abf42b6215d65668": {
          "model_module": "@jupyter-widgets/base",
          "model_name": "LayoutModel",
          "state": {
            "_view_name": "LayoutView",
            "grid_template_rows": null,
            "right": null,
            "justify_content": null,
            "_view_module": "@jupyter-widgets/base",
            "overflow": null,
            "_model_module_version": "1.2.0",
            "_view_count": null,
            "flex_flow": null,
            "width": null,
            "min_width": null,
            "border": null,
            "align_items": null,
            "bottom": null,
            "_model_module": "@jupyter-widgets/base",
            "top": null,
            "grid_column": null,
            "overflow_y": null,
            "overflow_x": null,
            "grid_auto_flow": null,
            "grid_area": null,
            "grid_template_columns": null,
            "flex": null,
            "_model_name": "LayoutModel",
            "justify_items": null,
            "grid_row": null,
            "max_height": null,
            "align_content": null,
            "visibility": null,
            "align_self": null,
            "height": null,
            "min_height": null,
            "padding": null,
            "grid_auto_rows": null,
            "grid_gap": null,
            "max_width": null,
            "order": null,
            "_view_module_version": "1.2.0",
            "grid_template_areas": null,
            "object_position": null,
            "object_fit": null,
            "grid_auto_columns": null,
            "margin": null,
            "display": null,
            "left": null
          }
        },
        "8298935a863341c1bbd287b9e5bbce0b": {
          "model_module": "@jupyter-widgets/base",
          "model_name": "LayoutModel",
          "state": {
            "_view_name": "LayoutView",
            "grid_template_rows": null,
            "right": null,
            "justify_content": null,
            "_view_module": "@jupyter-widgets/base",
            "overflow": null,
            "_model_module_version": "1.2.0",
            "_view_count": null,
            "flex_flow": null,
            "width": null,
            "min_width": null,
            "border": null,
            "align_items": null,
            "bottom": null,
            "_model_module": "@jupyter-widgets/base",
            "top": null,
            "grid_column": null,
            "overflow_y": null,
            "overflow_x": null,
            "grid_auto_flow": null,
            "grid_area": null,
            "grid_template_columns": null,
            "flex": null,
            "_model_name": "LayoutModel",
            "justify_items": null,
            "grid_row": null,
            "max_height": null,
            "align_content": null,
            "visibility": null,
            "align_self": null,
            "height": null,
            "min_height": null,
            "padding": null,
            "grid_auto_rows": null,
            "grid_gap": null,
            "max_width": null,
            "order": null,
            "_view_module_version": "1.2.0",
            "grid_template_areas": null,
            "object_position": null,
            "object_fit": null,
            "grid_auto_columns": null,
            "margin": null,
            "display": null,
            "left": null
          }
        },
        "f5da25e3558546a3acab7aaafb468ec6": {
          "model_module": "@jupyter-widgets/controls",
          "model_name": "TabModel",
          "state": {
            "_view_name": "TabView",
            "_dom_classes": [],
            "_titles": {
              "0": "Youtube",
              "1": "Bilibili"
            },
            "_model_name": "TabModel",
            "_view_module": "@jupyter-widgets/controls",
            "selected_index": 0,
            "_model_module_version": "1.5.0",
            "_view_count": null,
            "_view_module_version": "1.5.0",
            "box_style": "",
            "layout": "IPY_MODEL_215b949925b2465abb6f6f30bd3b0495",
            "_model_module": "@jupyter-widgets/controls",
            "children": [
              "IPY_MODEL_c5cca0408cf445d0b60c376497d11441",
              "IPY_MODEL_74ed4f8d20514b8295e18423777aecb1"
            ]
          }
        },
        "215b949925b2465abb6f6f30bd3b0495": {
          "model_module": "@jupyter-widgets/base",
          "model_name": "LayoutModel",
          "state": {
            "_view_name": "LayoutView",
            "grid_template_rows": null,
            "right": null,
            "justify_content": null,
            "_view_module": "@jupyter-widgets/base",
            "overflow": null,
            "_model_module_version": "1.2.0",
            "_view_count": null,
            "flex_flow": null,
            "width": null,
            "min_width": null,
            "border": null,
            "align_items": null,
            "bottom": null,
            "_model_module": "@jupyter-widgets/base",
            "top": null,
            "grid_column": null,
            "overflow_y": null,
            "overflow_x": null,
            "grid_auto_flow": null,
            "grid_area": null,
            "grid_template_columns": null,
            "flex": null,
            "_model_name": "LayoutModel",
            "justify_items": null,
            "grid_row": null,
            "max_height": null,
            "align_content": null,
            "visibility": null,
            "align_self": null,
            "height": null,
            "min_height": null,
            "padding": null,
            "grid_auto_rows": null,
            "grid_gap": null,
            "max_width": null,
            "order": null,
            "_view_module_version": "1.2.0",
            "grid_template_areas": null,
            "object_position": null,
            "object_fit": null,
            "grid_auto_columns": null,
            "margin": null,
            "display": null,
            "left": null
          }
        },
        "c5cca0408cf445d0b60c376497d11441": {
          "model_module": "@jupyter-widgets/output",
          "model_name": "OutputModel",
          "state": {
            "_view_name": "OutputView",
            "msg_id": "",
            "_dom_classes": [],
            "_model_name": "OutputModel",
            "outputs": [
              {
                "output_type": "stream",
                "metadata": {
                  "tags": []
                },
                "text": "Video available at https://youtube.com/watch?v=7vUpUEKKl5o\n",
                "stream": "stdout"
              },
              {
                "output_type": "display_data",
                "metadata": {
                  "tags": []
                },
                "text/html": "\n        <iframe\n            width=\"854\"\n            height=\"480\"\n            src=\"https://www.youtube.com/embed/7vUpUEKKl5o?fs=1&rel=0\"\n            frameborder=\"0\"\n            allowfullscreen\n        ></iframe>\n        ",
                "text/plain": "<IPython.lib.display.YouTubeVideo at 0x7f1e55c008d0>",
                "image/jpeg": "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\n"
              }
            ],
            "_view_module": "@jupyter-widgets/output",
            "_model_module_version": "1.0.0",
            "_view_count": null,
            "_view_module_version": "1.0.0",
            "layout": "IPY_MODEL_fe7567ae930b479789f1306030cab04d",
            "_model_module": "@jupyter-widgets/output"
          }
        },
        "74ed4f8d20514b8295e18423777aecb1": {
          "model_module": "@jupyter-widgets/output",
          "model_name": "OutputModel",
          "state": {
            "_view_name": "OutputView",
            "msg_id": "",
            "_dom_classes": [],
            "_model_name": "OutputModel",
            "outputs": [
              {
                "output_type": "stream",
                "metadata": {
                  "tags": []
                },
                "text": "Video available at https://www.bilibili.com/video/BV16h41167Jr\n",
                "stream": "stdout"
              },
              {
                "output_type": "display_data",
                "metadata": {
                  "tags": []
                },
                "text/html": "\n        <iframe\n            width=\"854\"\n            height=\"480\"\n            src=\"https://player.bilibili.com/player.html?bvid=BV16h41167Jr&page=1?fs=1\"\n            frameborder=\"0\"\n            allowfullscreen\n        ></iframe>\n        ",
                "text/plain": "<__main__.BiliVideo at 0x7f1e5638ead0>"
              }
            ],
            "_view_module": "@jupyter-widgets/output",
            "_model_module_version": "1.0.0",
            "_view_count": null,
            "_view_module_version": "1.0.0",
            "layout": "IPY_MODEL_6546fb1ca18046c7ba226f1a3a094b2e",
            "_model_module": "@jupyter-widgets/output"
          }
        },
        "fe7567ae930b479789f1306030cab04d": {
          "model_module": "@jupyter-widgets/base",
          "model_name": "LayoutModel",
          "state": {
            "_view_name": "LayoutView",
            "grid_template_rows": null,
            "right": null,
            "justify_content": null,
            "_view_module": "@jupyter-widgets/base",
            "overflow": null,
            "_model_module_version": "1.2.0",
            "_view_count": null,
            "flex_flow": null,
            "width": null,
            "min_width": null,
            "border": null,
            "align_items": null,
            "bottom": null,
            "_model_module": "@jupyter-widgets/base",
            "top": null,
            "grid_column": null,
            "overflow_y": null,
            "overflow_x": null,
            "grid_auto_flow": null,
            "grid_area": null,
            "grid_template_columns": null,
            "flex": null,
            "_model_name": "LayoutModel",
            "justify_items": null,
            "grid_row": null,
            "max_height": null,
            "align_content": null,
            "visibility": null,
            "align_self": null,
            "height": null,
            "min_height": null,
            "padding": null,
            "grid_auto_rows": null,
            "grid_gap": null,
            "max_width": null,
            "order": null,
            "_view_module_version": "1.2.0",
            "grid_template_areas": null,
            "object_position": null,
            "object_fit": null,
            "grid_auto_columns": null,
            "margin": null,
            "display": null,
            "left": null
          }
        },
        "6546fb1ca18046c7ba226f1a3a094b2e": {
          "model_module": "@jupyter-widgets/base",
          "model_name": "LayoutModel",
          "state": {
            "_view_name": "LayoutView",
            "grid_template_rows": null,
            "right": null,
            "justify_content": null,
            "_view_module": "@jupyter-widgets/base",
            "overflow": null,
            "_model_module_version": "1.2.0",
            "_view_count": null,
            "flex_flow": null,
            "width": null,
            "min_width": null,
            "border": null,
            "align_items": null,
            "bottom": null,
            "_model_module": "@jupyter-widgets/base",
            "top": null,
            "grid_column": null,
            "overflow_y": null,
            "overflow_x": null,
            "grid_auto_flow": null,
            "grid_area": null,
            "grid_template_columns": null,
            "flex": null,
            "_model_name": "LayoutModel",
            "justify_items": null,
            "grid_row": null,
            "max_height": null,
            "align_content": null,
            "visibility": null,
            "align_self": null,
            "height": null,
            "min_height": null,
            "padding": null,
            "grid_auto_rows": null,
            "grid_gap": null,
            "max_width": null,
            "order": null,
            "_view_module_version": "1.2.0",
            "grid_template_areas": null,
            "object_position": null,
            "object_fit": null,
            "grid_auto_columns": null,
            "margin": null,
            "display": null,
            "left": null
          }
        },
        "72b9ad9726dc46e0a66b9c2235d6100b": {
          "model_module": "@jupyter-widgets/controls",
          "model_name": "VBoxModel",
          "state": {
            "_view_name": "VBoxView",
            "_dom_classes": [
              "widget-interact"
            ],
            "_model_name": "VBoxModel",
            "_view_module": "@jupyter-widgets/controls",
            "_model_module_version": "1.5.0",
            "_view_count": null,
            "_view_module_version": "1.5.0",
            "box_style": "",
            "layout": "IPY_MODEL_d60e52d5b4c0462184cecea20b4b91f9",
            "_model_module": "@jupyter-widgets/controls",
            "children": [
              "IPY_MODEL_b72f5114b2604482b74d3983691b628b",
              "IPY_MODEL_2a26c3ae24d741108091c0805d7f584b",
              "IPY_MODEL_fcbb06ba1a22478f825bdb44d93d1725",
              "IPY_MODEL_b5fb31b3c3c940f1911d407733ee2e86",
              "IPY_MODEL_f02141b7a2d54e32b729cdf0d786e76e",
              "IPY_MODEL_f692fd5b3e7b47cea87e283b148a0729"
            ]
          }
        },
        "d60e52d5b4c0462184cecea20b4b91f9": {
          "model_module": "@jupyter-widgets/base",
          "model_name": "LayoutModel",
          "state": {
            "_view_name": "LayoutView",
            "grid_template_rows": null,
            "right": null,
            "justify_content": null,
            "_view_module": "@jupyter-widgets/base",
            "overflow": null,
            "_model_module_version": "1.2.0",
            "_view_count": null,
            "flex_flow": null,
            "width": null,
            "min_width": null,
            "border": null,
            "align_items": null,
            "bottom": null,
            "_model_module": "@jupyter-widgets/base",
            "top": null,
            "grid_column": null,
            "overflow_y": null,
            "overflow_x": null,
            "grid_auto_flow": null,
            "grid_area": null,
            "grid_template_columns": null,
            "flex": null,
            "_model_name": "LayoutModel",
            "justify_items": null,
            "grid_row": null,
            "max_height": null,
            "align_content": null,
            "visibility": null,
            "align_self": null,
            "height": null,
            "min_height": null,
            "padding": null,
            "grid_auto_rows": null,
            "grid_gap": null,
            "max_width": null,
            "order": null,
            "_view_module_version": "1.2.0",
            "grid_template_areas": null,
            "object_position": null,
            "object_fit": null,
            "grid_auto_columns": null,
            "margin": null,
            "display": null,
            "left": null
          }
        },
        "b72f5114b2604482b74d3983691b628b": {
          "model_module": "@jupyter-widgets/controls",
          "model_name": "IntSliderModel",
          "state": {
            "_view_name": "IntSliderView",
            "style": "IPY_MODEL_b36174d2ba4247e09444236a82b74155",
            "_dom_classes": [],
            "description": "max_steps",
            "step": 5,
            "_model_name": "IntSliderModel",
            "orientation": "horizontal",
            "max": 500,
            "_view_module": "@jupyter-widgets/controls",
            "_model_module_version": "1.5.0",
            "value": 150,
            "_view_count": null,
            "disabled": false,
            "_view_module_version": "1.5.0",
            "min": 50,
            "continuous_update": true,
            "readout_format": "d",
            "description_tooltip": null,
            "readout": true,
            "_model_module": "@jupyter-widgets/controls",
            "layout": "IPY_MODEL_fd59accd93a64c1bb4d4029c29869ccb"
          }
        },
        "2a26c3ae24d741108091c0805d7f584b": {
          "model_module": "@jupyter-widgets/controls",
          "model_name": "DropdownModel",
          "state": {
            "_options_labels": [
              "10",
              "20, 20",
              "100, 100"
            ],
            "_view_name": "DropdownView",
            "style": "IPY_MODEL_df23fbe699a646e7a9c1c880d73a832b",
            "_dom_classes": [],
            "description": "hidden_dims",
            "_model_name": "DropdownModel",
            "index": 0,
            "_view_module": "@jupyter-widgets/controls",
            "_model_module_version": "1.5.0",
            "_view_count": null,
            "disabled": false,
            "_view_module_version": "1.5.0",
            "description_tooltip": null,
            "_model_module": "@jupyter-widgets/controls",
            "layout": "IPY_MODEL_96c082bace764e1f9dd28d47ed85f4d9"
          }
        },
        "fcbb06ba1a22478f825bdb44d93d1725": {
          "model_module": "@jupyter-widgets/controls",
          "model_name": "FloatLogSliderModel",
          "state": {
            "_view_name": "FloatLogSliderView",
            "orientation": "horizontal",
            "_view_module": "@jupyter-widgets/controls",
            "_model_module_version": "1.5.0",
            "_view_count": null,
            "disabled": false,
            "readout_format": ".3g",
            "_model_module": "@jupyter-widgets/controls",
            "style": "IPY_MODEL_d64b283e99cf4252b2d0dafe1021170a",
            "layout": "IPY_MODEL_72d42780ad504578802b0c2c44328d9f",
            "min": -3,
            "continuous_update": true,
            "description_tooltip": null,
            "_dom_classes": [],
            "description": "lr",
            "_model_name": "FloatLogSliderModel",
            "max": 0,
            "readout": true,
            "step": 0.1,
            "base": 10,
            "value": 0.05,
            "_view_module_version": "1.5.0"
          }
        },
        "b5fb31b3c3c940f1911d407733ee2e86": {
          "model_module": "@jupyter-widgets/controls",
          "model_name": "IntSliderModel",
          "state": {
            "_view_name": "IntSliderView",
            "style": "IPY_MODEL_84966f158c39469a8b93a1f04e531f6e",
            "_dom_classes": [],
            "description": "num_inits",
            "step": 1,
            "_model_name": "IntSliderModel",
            "orientation": "horizontal",
            "max": 10,
            "_view_module": "@jupyter-widgets/controls",
            "_model_module_version": "1.5.0",
            "value": 7,
            "_view_count": null,
            "disabled": false,
            "_view_module_version": "1.5.0",
            "min": 5,
            "continuous_update": true,
            "readout_format": "d",
            "description_tooltip": null,
            "readout": true,
            "_model_module": "@jupyter-widgets/controls",
            "layout": "IPY_MODEL_4669f177733141e68f908e1bd6fec753"
          }
        },
        "f02141b7a2d54e32b729cdf0d786e76e": {
          "model_module": "@jupyter-widgets/controls",
          "model_name": "ButtonModel",
          "state": {
            "_view_name": "ButtonView",
            "style": "IPY_MODEL_df1cd95a5bef4335b8bf44a8b351d8bb",
            "_dom_classes": [],
            "description": "Run Interact",
            "_model_name": "ButtonModel",
            "button_style": "",
            "_view_module": "@jupyter-widgets/controls",
            "_model_module_version": "1.5.0",
            "tooltip": "",
            "_view_count": null,
            "disabled": false,
            "_view_module_version": "1.5.0",
            "layout": "IPY_MODEL_968c68583c9f469bafefccaacbf0d26e",
            "_model_module": "@jupyter-widgets/controls",
            "icon": ""
          }
        },
        "f692fd5b3e7b47cea87e283b148a0729": {
          "model_module": "@jupyter-widgets/output",
          "model_name": "OutputModel",
          "state": {
            "_view_name": "OutputView",
            "msg_id": "",
            "_dom_classes": [],
            "_model_name": "OutputModel",
            "outputs": [],
            "_view_module": "@jupyter-widgets/output",
            "_model_module_version": "1.0.0",
            "_view_count": null,
            "_view_module_version": "1.0.0",
            "layout": "IPY_MODEL_25afc812f4944210ad0199b048a134d5",
            "_model_module": "@jupyter-widgets/output"
          }
        },
        "b36174d2ba4247e09444236a82b74155": {
          "model_module": "@jupyter-widgets/controls",
          "model_name": "SliderStyleModel",
          "state": {
            "_view_name": "StyleView",
            "handle_color": null,
            "_model_name": "SliderStyleModel",
            "description_width": "",
            "_view_module": "@jupyter-widgets/base",
            "_model_module_version": "1.5.0",
            "_view_count": null,
            "_view_module_version": "1.2.0",
            "_model_module": "@jupyter-widgets/controls"
          }
        },
        "fd59accd93a64c1bb4d4029c29869ccb": {
          "model_module": "@jupyter-widgets/base",
          "model_name": "LayoutModel",
          "state": {
            "_view_name": "LayoutView",
            "grid_template_rows": null,
            "right": null,
            "justify_content": null,
            "_view_module": "@jupyter-widgets/base",
            "overflow": null,
            "_model_module_version": "1.2.0",
            "_view_count": null,
            "flex_flow": null,
            "width": null,
            "min_width": null,
            "border": null,
            "align_items": null,
            "bottom": null,
            "_model_module": "@jupyter-widgets/base",
            "top": null,
            "grid_column": null,
            "overflow_y": null,
            "overflow_x": null,
            "grid_auto_flow": null,
            "grid_area": null,
            "grid_template_columns": null,
            "flex": null,
            "_model_name": "LayoutModel",
            "justify_items": null,
            "grid_row": null,
            "max_height": null,
            "align_content": null,
            "visibility": null,
            "align_self": null,
            "height": null,
            "min_height": null,
            "padding": null,
            "grid_auto_rows": null,
            "grid_gap": null,
            "max_width": null,
            "order": null,
            "_view_module_version": "1.2.0",
            "grid_template_areas": null,
            "object_position": null,
            "object_fit": null,
            "grid_auto_columns": null,
            "margin": null,
            "display": null,
            "left": null
          }
        },
        "df23fbe699a646e7a9c1c880d73a832b": {
          "model_module": "@jupyter-widgets/controls",
          "model_name": "DescriptionStyleModel",
          "state": {
            "_view_name": "StyleView",
            "_model_name": "DescriptionStyleModel",
            "description_width": "",
            "_view_module": "@jupyter-widgets/base",
            "_model_module_version": "1.5.0",
            "_view_count": null,
            "_view_module_version": "1.2.0",
            "_model_module": "@jupyter-widgets/controls"
          }
        },
        "96c082bace764e1f9dd28d47ed85f4d9": {
          "model_module": "@jupyter-widgets/base",
          "model_name": "LayoutModel",
          "state": {
            "_view_name": "LayoutView",
            "grid_template_rows": null,
            "right": null,
            "justify_content": null,
            "_view_module": "@jupyter-widgets/base",
            "overflow": null,
            "_model_module_version": "1.2.0",
            "_view_count": null,
            "flex_flow": null,
            "width": null,
            "min_width": null,
            "border": null,
            "align_items": null,
            "bottom": null,
            "_model_module": "@jupyter-widgets/base",
            "top": null,
            "grid_column": null,
            "overflow_y": null,
            "overflow_x": null,
            "grid_auto_flow": null,
            "grid_area": null,
            "grid_template_columns": null,
            "flex": null,
            "_model_name": "LayoutModel",
            "justify_items": null,
            "grid_row": null,
            "max_height": null,
            "align_content": null,
            "visibility": null,
            "align_self": null,
            "height": null,
            "min_height": null,
            "padding": null,
            "grid_auto_rows": null,
            "grid_gap": null,
            "max_width": null,
            "order": null,
            "_view_module_version": "1.2.0",
            "grid_template_areas": null,
            "object_position": null,
            "object_fit": null,
            "grid_auto_columns": null,
            "margin": null,
            "display": null,
            "left": null
          }
        },
        "d64b283e99cf4252b2d0dafe1021170a": {
          "model_module": "@jupyter-widgets/controls",
          "model_name": "SliderStyleModel",
          "state": {
            "_view_name": "StyleView",
            "handle_color": null,
            "_model_name": "SliderStyleModel",
            "description_width": "",
            "_view_module": "@jupyter-widgets/base",
            "_model_module_version": "1.5.0",
            "_view_count": null,
            "_view_module_version": "1.2.0",
            "_model_module": "@jupyter-widgets/controls"
          }
        },
        "72d42780ad504578802b0c2c44328d9f": {
          "model_module": "@jupyter-widgets/base",
          "model_name": "LayoutModel",
          "state": {
            "_view_name": "LayoutView",
            "grid_template_rows": null,
            "right": null,
            "justify_content": null,
            "_view_module": "@jupyter-widgets/base",
            "overflow": null,
            "_model_module_version": "1.2.0",
            "_view_count": null,
            "flex_flow": null,
            "width": null,
            "min_width": null,
            "border": null,
            "align_items": null,
            "bottom": null,
            "_model_module": "@jupyter-widgets/base",
            "top": null,
            "grid_column": null,
            "overflow_y": null,
            "overflow_x": null,
            "grid_auto_flow": null,
            "grid_area": null,
            "grid_template_columns": null,
            "flex": null,
            "_model_name": "LayoutModel",
            "justify_items": null,
            "grid_row": null,
            "max_height": null,
            "align_content": null,
            "visibility": null,
            "align_self": null,
            "height": null,
            "min_height": null,
            "padding": null,
            "grid_auto_rows": null,
            "grid_gap": null,
            "max_width": null,
            "order": null,
            "_view_module_version": "1.2.0",
            "grid_template_areas": null,
            "object_position": null,
            "object_fit": null,
            "grid_auto_columns": null,
            "margin": null,
            "display": null,
            "left": null
          }
        },
        "84966f158c39469a8b93a1f04e531f6e": {
          "model_module": "@jupyter-widgets/controls",
          "model_name": "SliderStyleModel",
          "state": {
            "_view_name": "StyleView",
            "handle_color": null,
            "_model_name": "SliderStyleModel",
            "description_width": "",
            "_view_module": "@jupyter-widgets/base",
            "_model_module_version": "1.5.0",
            "_view_count": null,
            "_view_module_version": "1.2.0",
            "_model_module": "@jupyter-widgets/controls"
          }
        },
        "4669f177733141e68f908e1bd6fec753": {
          "model_module": "@jupyter-widgets/base",
          "model_name": "LayoutModel",
          "state": {
            "_view_name": "LayoutView",
            "grid_template_rows": null,
            "right": null,
            "justify_content": null,
            "_view_module": "@jupyter-widgets/base",
            "overflow": null,
            "_model_module_version": "1.2.0",
            "_view_count": null,
            "flex_flow": null,
            "width": null,
            "min_width": null,
            "border": null,
            "align_items": null,
            "bottom": null,
            "_model_module": "@jupyter-widgets/base",
            "top": null,
            "grid_column": null,
            "overflow_y": null,
            "overflow_x": null,
            "grid_auto_flow": null,
            "grid_area": null,
            "grid_template_columns": null,
            "flex": null,
            "_model_name": "LayoutModel",
            "justify_items": null,
            "grid_row": null,
            "max_height": null,
            "align_content": null,
            "visibility": null,
            "align_self": null,
            "height": null,
            "min_height": null,
            "padding": null,
            "grid_auto_rows": null,
            "grid_gap": null,
            "max_width": null,
            "order": null,
            "_view_module_version": "1.2.0",
            "grid_template_areas": null,
            "object_position": null,
            "object_fit": null,
            "grid_auto_columns": null,
            "margin": null,
            "display": null,
            "left": null
          }
        },
        "df1cd95a5bef4335b8bf44a8b351d8bb": {
          "model_module": "@jupyter-widgets/controls",
          "model_name": "ButtonStyleModel",
          "state": {
            "_view_name": "StyleView",
            "_model_name": "ButtonStyleModel",
            "_view_module": "@jupyter-widgets/base",
            "_model_module_version": "1.5.0",
            "_view_count": null,
            "button_color": null,
            "font_weight": "",
            "_view_module_version": "1.2.0",
            "_model_module": "@jupyter-widgets/controls"
          }
        },
        "968c68583c9f469bafefccaacbf0d26e": {
          "model_module": "@jupyter-widgets/base",
          "model_name": "LayoutModel",
          "state": {
            "_view_name": "LayoutView",
            "grid_template_rows": null,
            "right": null,
            "justify_content": null,
            "_view_module": "@jupyter-widgets/base",
            "overflow": null,
            "_model_module_version": "1.2.0",
            "_view_count": null,
            "flex_flow": null,
            "width": null,
            "min_width": null,
            "border": null,
            "align_items": null,
            "bottom": null,
            "_model_module": "@jupyter-widgets/base",
            "top": null,
            "grid_column": null,
            "overflow_y": null,
            "overflow_x": null,
            "grid_auto_flow": null,
            "grid_area": null,
            "grid_template_columns": null,
            "flex": null,
            "_model_name": "LayoutModel",
            "justify_items": null,
            "grid_row": null,
            "max_height": null,
            "align_content": null,
            "visibility": null,
            "align_self": null,
            "height": null,
            "min_height": null,
            "padding": null,
            "grid_auto_rows": null,
            "grid_gap": null,
            "max_width": null,
            "order": null,
            "_view_module_version": "1.2.0",
            "grid_template_areas": null,
            "object_position": null,
            "object_fit": null,
            "grid_auto_columns": null,
            "margin": null,
            "display": null,
            "left": null
          }
        },
        "25afc812f4944210ad0199b048a134d5": {
          "model_module": "@jupyter-widgets/base",
          "model_name": "LayoutModel",
          "state": {
            "_view_name": "LayoutView",
            "grid_template_rows": null,
            "right": null,
            "justify_content": null,
            "_view_module": "@jupyter-widgets/base",
            "overflow": null,
            "_model_module_version": "1.2.0",
            "_view_count": null,
            "flex_flow": null,
            "width": null,
            "min_width": null,
            "border": null,
            "align_items": null,
            "bottom": null,
            "_model_module": "@jupyter-widgets/base",
            "top": null,
            "grid_column": null,
            "overflow_y": null,
            "overflow_x": null,
            "grid_auto_flow": null,
            "grid_area": null,
            "grid_template_columns": null,
            "flex": null,
            "_model_name": "LayoutModel",
            "justify_items": null,
            "grid_row": null,
            "max_height": null,
            "align_content": null,
            "visibility": null,
            "align_self": null,
            "height": null,
            "min_height": null,
            "padding": null,
            "grid_auto_rows": null,
            "grid_gap": null,
            "max_width": null,
            "order": null,
            "_view_module_version": "1.2.0",
            "grid_template_areas": null,
            "object_position": null,
            "object_fit": null,
            "grid_auto_columns": null,
            "margin": null,
            "display": null,
            "left": null
          }
        },
        "b3048b032bdd4b51a088d38f110a7572": {
          "model_module": "@jupyter-widgets/controls",
          "model_name": "TabModel",
          "state": {
            "_view_name": "TabView",
            "_dom_classes": [],
            "_titles": {
              "0": "Youtube",
              "1": "Bilibili"
            },
            "_model_name": "TabModel",
            "_view_module": "@jupyter-widgets/controls",
            "selected_index": 0,
            "_model_module_version": "1.5.0",
            "_view_count": null,
            "_view_module_version": "1.5.0",
            "box_style": "",
            "layout": "IPY_MODEL_0c58711518204206954732fa8bf0f492",
            "_model_module": "@jupyter-widgets/controls",
            "children": [
              "IPY_MODEL_0f748b8555a54a81a3a8415bba0f5b84",
              "IPY_MODEL_e2c0ce4a1fb6495e8f3a2caa8c7ab953"
            ]
          }
        },
        "0c58711518204206954732fa8bf0f492": {
          "model_module": "@jupyter-widgets/base",
          "model_name": "LayoutModel",
          "state": {
            "_view_name": "LayoutView",
            "grid_template_rows": null,
            "right": null,
            "justify_content": null,
            "_view_module": "@jupyter-widgets/base",
            "overflow": null,
            "_model_module_version": "1.2.0",
            "_view_count": null,
            "flex_flow": null,
            "width": null,
            "min_width": null,
            "border": null,
            "align_items": null,
            "bottom": null,
            "_model_module": "@jupyter-widgets/base",
            "top": null,
            "grid_column": null,
            "overflow_y": null,
            "overflow_x": null,
            "grid_auto_flow": null,
            "grid_area": null,
            "grid_template_columns": null,
            "flex": null,
            "_model_name": "LayoutModel",
            "justify_items": null,
            "grid_row": null,
            "max_height": null,
            "align_content": null,
            "visibility": null,
            "align_self": null,
            "height": null,
            "min_height": null,
            "padding": null,
            "grid_auto_rows": null,
            "grid_gap": null,
            "max_width": null,
            "order": null,
            "_view_module_version": "1.2.0",
            "grid_template_areas": null,
            "object_position": null,
            "object_fit": null,
            "grid_auto_columns": null,
            "margin": null,
            "display": null,
            "left": null
          }
        },
        "0f748b8555a54a81a3a8415bba0f5b84": {
          "model_module": "@jupyter-widgets/output",
          "model_name": "OutputModel",
          "state": {
            "_view_name": "OutputView",
            "msg_id": "",
            "_dom_classes": [],
            "_model_name": "OutputModel",
            "outputs": [
              {
                "output_type": "stream",
                "metadata": {
                  "tags": []
                },
                "text": "Video available at https://youtube.com/watch?v=hbqUxpNBUGk\n",
                "stream": "stdout"
              },
              {
                "output_type": "display_data",
                "metadata": {
                  "tags": []
                },
                "text/html": "\n        <iframe\n            width=\"854\"\n            height=\"480\"\n            src=\"https://www.youtube.com/embed/hbqUxpNBUGk?fs=1&rel=0\"\n            frameborder=\"0\"\n            allowfullscreen\n        ></iframe>\n        ",
                "text/plain": "<IPython.lib.display.YouTubeVideo at 0x7f1e5638bd10>",
                "image/jpeg": "/9j/4AAQSkZJRgABAQAAAQABAAD/2wCEABALDBgYFhwaGRkeHRsfJColIyIiIisvLSctMS8yMTgnNzE1PlBCNT1LPS01RWFFS1NWW11bMkFlbWRYbFBZW1cBERISGRUYJRYaLlc2LTZXV2RXV1daV1dXV1dXV1dXV1dXV1dXV1dXV1dXXVdXV1dXV1dXV1dXV1dXV1dXV1dXV//AABEIAWgB4AMBIgACEQEDEQH/xAAbAAEAAgMBAQAAAAAAAAAAAAAABAUBAgMGB//EAEUQAAIBAgQCBwYDBQUIAgMAAAECAAMRBBIhMRNRBRciQWGS0jJSU3GBkRQjoQZCscHRFVRyc7IkMzSCouHw8QdDFmJj/8QAFwEBAQEBAAAAAAAAAAAAAAAAAAIBA//EABsRAQEBAQADAQAAAAAAAAAAAAABEQISITED/9oADAMBAAIRAxEAPwD5/ERAREQEREBERAREQEREBERAREQEREBERAREQEREBERAREQEREBERAREQEREBERAREQEREBERAREQEREBERAREQEREBERAREQEREBERAREQEREBERAREQEREBERAREQEREBERAREQEREBERAREQEREBERAREQEREBERAREQEREBERAREQEREBERAREQEREBERAREQEREBE9f1cY74uH8z+iOrjHfFw/mf0QPIRPX9XGO+Lh/M/ojq4x3xcP5n9EDyET1/Vxjvi4fzP6I6uMd8XD+Z/RA8hE9f1cY74uH8z+iOrjHfFw/mf0QPIRPX9XGO+Lh/M/ojq4x3xcP5n9EDyET1/Vxjvi4fzP6I6uMd8XD+Z/RA8hE9f1cY74uH8z+iOrjHfFw/mf0QPIRPX9XGO+Lh/M/ojq4x3xcP5n9EDyET1/Vxjvi4fzP6I6uMd8XD+Z/RA8hE9f1cY74uH8z+iOrjHfFw/mf0QPIRPX9XGO+Lh/M/ojq4x3xcP5n9EDyET1/Vxjvi4fzP6I6uMd8XD+Z/RA8hE9f1cY74uH8z+iOrjHfFw/mf0QPIRPX9XGO+Lh/M/ojq4x3xcP5n9EDyET1/Vxjvi4fzP6I6uMd8XD+Z/RA8hE9f1cY74uH8z+iOrjHfFw/mf0QPIRPX9XGO+Lh/M/ojq4x3xcP5n9EDyET1/Vxjvi4fzP6I6uMd8XD+Z/RA8hE9f1cY74uH8z+iOrjHfFw/mf0QPIRPX9XGO+Lh/M/ojq4x3xcP5n9EDyET1/Vxjvi4fzP6I6uMd8XD+Z/RA8hE9f1cY74uH8z+iOrjHfFw/mf0QPIRPX9XGO+Lh/M/ojq4x3xcP5n9EDyET1/Vxjvi4fzP6JE6S/YnF4ZA71KJBbL2Wa97E96jlA83Esx0FW95Puf6Tcfs9WP71P7n+kzY3KqYlyP2arn96n92/pNh+y+I9+l92/pGwyqSJef/iuI9+l929M54j9nK1JC71KQUeLemNhlU8TqaFh7S/r/AEmEoksBcC5tc3sJrHOJdH9mMR79L7t/San9m6/vU/u39JmxuVTxLY/s9W96n9z/AEmD0BWH71P7n+kbDK+1RETWEREBERAREQEREBERAREQEREBERAREQEREBERAREQEREBERAREQEREBERAREQEREBERAREQEREBKL9rv+GT/MH+lpeyh/bD/hk/zB/paZWx5RbTshEizrTMhabTnZRI1OoOYklKi8xMa3Cyj/AGmq3WnQXdzc/If9/wCEvc68xKSrTZ8ZUqMLqoCp/P8AW8zc9tnO3EbB9E0T2WAZu/X+UY3oBMhNO4YbDuPhOv4UrUUkhe8GwH2knEV6ufQkrbS1ip/n9RI27uuvjM+I37O4rPRNMklkPfvbu/pLJpUdCUBxa1Um2pQC++tz/KW5IOxnVwciJzcaGdjObjSGvosRE6ORE51qyU0LuwVVFyxNgBzmaVRXUMpDKwuCNiD3wN4keljqLqHSqjKWyhgwsW92/OSICJoaihgpYZiCQL6kDc2+sxVrIgBdgoJCi53JNgPmTA6REQETF5mAiaUqquuZGDDUXB5Gx/UQKilioYZgASL6gHY2+kDeIiAiIgInNqyAlSwBC5iCdl5/KbIwYAgggi4I2I5wNoiICIiAiJpTqK4urBhci4N9RoRA3iIgIiICIiAiIgIiICIiAiIgIiICIiAiIgJQfth/wyf5g/0tL+UH7Y/8Mn+YP9LTK2PIXnRJxBnRDJU3p6k/OS0WRKO5+cm0bEXEirjYrpI1VeHmYnexH1kptpH6To5lWxINpN+L5vtAqUS7Bjdvr7P0BktamSkVcar7PjKR2rU3sNRJeGd21fa95l5b5O2Fw5RAGsWuSbcybyThu+acVec2wzAk2nRxruZzfadDNG2mj6HEROjmqv2oNujsSf8A+ZlZ+IbD0a2Bpm1XMEw/glW9m+Sdv6KJf9IYNcRQqUXJC1FKkrvY8rzWp0dSbEU8QR+ZTVlU+DW/7/cwKDBqMPhslMAKuOCAFQdM4Hf3+MmrUxNZ8ZlxBpijUKoFRD/9atY3BuLn5+MmHoinlK5nsa/H7vazZrbbTtQwCoa5Bb89i7XtocoXT6LAq8L0m1Spg6jgWqYV6rWW5v8AlnTS/edBvpNemsatehSNLOpGJoAGpSddeILGzAXEscL0TTpGgVZjwKRpLe2oOXU6b9gTr0jgFxKKjsyhXVwVNjdTcawIivXoYmkj1jWp1g47SqGRlGbTKBcEX320kE9JVRw6yVqjo9VFsaIWmyswW6m2Yb3BJ1t4y0odFBavFq1qldwpVeJkAUHewVQLmw1PKcV6DAppS49U0qbIyJ2NMjBlW+W5AtbU7QIVBmoYjpGs1RnFMK5WyDN+XcC4HcNP43ljgqGJ7FSpic2YXankXJqNlI7WnMkzp/Zq8epVztlqgCpTspVrDLc3F9uRmmE6LNJltia7U09mmxWw7gCcuZgPEmBT02xFLAPiEr5RSaqwp5FysBUa4YnXXXYiTsdinp1caUyg08Mjqcovf83c947I0MmN0Uhwr4bM2Rw4J0v2ySe63fNsR0YlRq5LMONSFJrW0AzajTftn9IEN6mIpVcKzV861nyMmRQovTZgVI13XvJ3nOjWxNanVxC1+GFaqqUwilbUyVuxIuSSpOhEtK+CVzRJJ/JfOtranKy6/RjKXGYVlNdaSYtRULflIU4bsw9rPugJNzYjv0gWXRj1qtLDVmq6NRBdco7TEA5r91tdPGOlMRVFShQpNkaqzXewOVVFzYHS5038ZvgcC1JKANRvyqQQqLZWNh2iLb6afOb4/ArXC3ZkdGzI6EZlNrd9wdDsRaBWlKlPEVg9Ti2wpIZlUH2m0IGh+00q4usqUCWqUqBoqS9GkH7ZGxGU5QBbYSfS6KAZ3etVqO9PhszFdrk6AAAb9wmX6NayCnia1LIgTs5CCBsSGUgHxFoEZ8XUqth6NGuv5iNUasqjVVsOyDcAkt42sZtiqlegKINbiZ8QiZiig5CDdTbS9xuAJ1boanw6S03em1K5SopGYZtWvcEG/eCLRU6JD0sj16zPnFQVSVzKw2IAGUDwtbeBpisXWGKalTsf9mZ1U2sXzWGs49GYxmfI1eoauQk0a1IIb81IAuB4FpJpdEAVGqtXrVKjUzTLEqNCb3GUAA/KZo9FkOr1MRVrFAQmbIMtxYnsKLm2msCH0XjahqU1r1qi1mHao1KIVSbbIwGtv8R0E44TH1mpUqaFUetXrrnCDsqjvchRoWIAGvO5vLKn0UeIjVMRWqimcyK+SwNiLkqoLaE7kzA6FpiiKYZwVqNVSoCMyszEkjS37xFiNt4HD8RWoVXovV4oNF6qOVUMChAINgAfaBGnOcqVbFLTwtdsRm4ppB6eRQtnG47wbm+/0k6h0WFLs9WpVqOmQu+W4X3QFAA57azoej04VKldstIoVOlzkta/2gS5mYmYCIiAiIgIiICIiAiIgIiICIiAiIgJ5/8AbL/hk/zB/paegnnv20P+yp/mj/S0ytjxwnRDOOadaclTpTNgxnGh0vQpLZnueSgn/tKfG41mBQHs3N/HWV8eJenocT+0YOlNPq39BJvRHSIr08rNeqt7g94vuJ5KASDcGxHeIvEswndl17j8Krbyp6TrpSYKGFzuB3eJlKcfXIsa1S3LMZHk8/nl3VX9NmYtDiL98suhnurfOeaBtLboTGqrcNtMx0PjynSxzlegM5sdJsTObGQt9HiInRzIiICIiAiIgIiICIiAiIgJiZiAiIgIiICIiAiIgIiICIiAiIgIiICIiAiIgIiICIiAiIgIiICIiAnnP23P+yp/mj/S09HKn9oui3xdFaaMqkOGu1+RHd84o+ehpGx+MyLlU9o/oJ6r/wDC8R8Wl/1f0nLEfsHWqDWtTBA0Nm+3yk4rXhGOw8JrPYn/AOOcV/eKP2b+kyf/AI6xR/8Avo/Zv6SkvGxPY9XOK/vFH7N/SOrrFf3ij9m/pA8fE9h1dYr+8Ufs39I6usV/eKP2b+kDx0X5bz2PV1iv7xR+zf0jq5xP94o/Zv6QOWExHEpK/Ma/Pvm7NLPo/wDYvE0kKtWpEXuLZv6SQ37KV7H8yn/1f0kYvXr4iJaCIlD030fi6uIpvRqWQAfvWym+pt3wL6au4UFmIAGpJ7pmRukKTPSsozEMrZfeysDl+toG1DGU6hsra72IIuOYuNR4iSJU1nrPxMnFymm+jIFytbQA7k7zGPoMCVRW7KXQgOxLXJOt9Dtqd79+0C1dwouTYXA+pNh/GEcMLg3Go+2kqqtIl2zJUNTiqQwvlyZl+lgNxz1mhpVeznDFPzP3Waxzmxspvtse7wgXU1Vwb2INjY+B3t+sq6uFco5OdnWmmQ3I7QvrYHfaSsFSyVK/ZIu+a5vYgqNjtveBMiU16gRFIqAotXOSDbY2175g0nIPBWqo4fbuSCzXXYk6nLm1HMawLcVAWK37QAJHgb2/gZkuAQCRc7DnKg0rGpw6bimeGNQ+wLXIW9z3aePfMUsO2akSrdl3CmzaAjs6bgX5wLqJS0cPUKkE1FbhkPlVrknvuTZjyt+km9HBgjDLYA9nRlDaD91tVgTYlFTpVdbK4zUjnADiz3XS5Op1OonbFYZhUIGYLlHDIDNlOtzcHQ3N7n7wLeJD6QFQKr0wWdTaw78wtf6Gx+kh/h6wDr+YVpgKpzaupYMxvzygC++8C4iVK0CzWVai0S62BzD91sxtuBtp85hqVQPUFIMWIezMGGU27PavlYXsAO6Bbznx0zZc3ava3ja9vtIXR1Mhie0oygFSrDXndibnxG/Ocgjktk/3gqVdeRK9kn6FYFtEpqdBija1FGQBgEa97jU3Y5job23B32mKlNuGvYbslsqhHyttY5b5kPLlrAuokLG5jSQZTqRnGrZRbkNW10kRKTZU4q1GpjiCwDXBzdkkA3225QLiJXU6dqpLpUJuvDN2IC2GhN7DW977+MjDimkqZamZaVQMbH2raa9/gRAupqGBuAb2Nj4G1/5ypx9BgMqK+lMlCA7Evqd76HbU8/pFegwNXKrdqorNYMcyZQDax11vcDW0C1NQBgpPaIJA52tf+Im8qaaENRAJ/wB6SAVK2XIQbAkkC9t+ctoCIiAiIgIiICIiAiIgIiICYmYgIiICIiAiIgIiICav7J+Rm01f2T8jA2iIgImJRdN4zG069NaCEoQNluGN9QT3d3KBfTF4kXpJCaLEe0lnHzU3/lb6wJV4lCCXIHdi2Df8qtf9aYAkrBYuq7rdhqWDIWXs2voABe403gWsxIOLxFquRq3BUJmB7PaNyCO0O7TT/wDacDjX46gP2TVNMqSvcpN7WuNQLG/ftAtpgmV+Cq1CaJaoWFSmWIIFgRl2sPGR+k69xXVquXLlC0+z2gQpvrqdSRpygXBAIsdQYAlWcY+c/mDPxcnB09m9r8727V9p16QquHsrlAKTvoBqVK23B5wJ8zKlsVUVTeoSWWkQeyMpckHW2g077/WKGIquypxSO26lhlJIABGtrd/KBbRKj8ZVVVGa7VVy0zYaOCQSfpr/AMpkvG1SpprxOGrEhn07hoNdBf8AlAlkgbmCZUUCatagzOWAFW2gswVlAfbvB3H0mvSXt1hxDqKJCHLYfmbgWv3frAuolTXxNSmWTOSBUVc5ygqCt97W301HfCV6rNTTi2BFU5lyEnKUtc2tcXO0C2mJX9HVqjZC75s9JXtYAAnlbu177zQO5rZFfIGepfKFubBbbjxgWk1AFyRa53lbUqs+BLlyrZSSwsNj/wBpzDMrVnSqSBUpj90hrqgudOR7rQLiJVUMXUatbMB+YylCy7C+w9q9gDOmOxLJVH5lksvZUrmuWtchhqDtoecCxiVAxr8YWfss1RcpK3GUNrYC41XvJ3mlWvWWk78YkrQFX2V9qx0220/7wLqJVNi6hrMoYLlcKELKAV01sRmJNzax7vnO3SNdlZVVyhKs17qBpbvYG512/WBPiU5xVVqYqCpl7NE2Ci13IB3175t+KcM1NquVRVKcQhb24auBtYXLHu7oFplF721GgPz/APQm0q8Pj7FOJUXKRVsxsA+VlAb7E7bziuKqtTZ+KRkoUqlgF1JBJvpsbQLqJBwB/NxANQsRUHZJGgKqe4eP6SNRxTsU/Nu7lg9MBb07A6jS4sQN73vAtgQdolRw8vR3ZYqeGGLCwPceX6zZqrcUKlSweqFLALdhwc19rbjeBbRKhcTWVA+cuxp1DlIG6EAHQX+f8pI6PrOzEFw65Qb5lJBP+EbGBPiVX4x+MLOMpdkykrplUm9gLjUc9jOvReIL5lZ87AKSQVK631BUDlsYFhEqqeMYuv5t3NRlNKw7Ki+vPQAG50N/ETkmMrLSR85dnoM+UgWDKFtawv3wLqYuNu+QejqzMzXqB1sCDmUkE390DQ/1kek3CqZmqaPWcMzZRspsL2HIfaBbEiZnn61c1Kecm9w4B8BXAH6AS0x9Yq1MGpwka9303A0W50F9ftAmRKrCYmo5UmoSoWoxso7WVyB3cuU4rj6gVjxAQUVr3VsgLWLaAbA3sb7bwLq8Sn4g4vZqCqM9EZjlPvaaC0xRx1VlLZxfK5ZCV7JAOwtfQ2BvAupiUuMqVMjKazWNNKl7KLHNrbTb58pOx1VgiFKgFyNcygsLHYkWv37QJsSjOLYM1RXYk0FZVbLrq12sN7b6f0m7YxwhPGGXPTGfMjEBjrewta0C5mr+yfkZFwFYtxBn4iq1lfTXQEi40Nie6Sn9k/IwNoiICIiAmJmIGIyi97a85HrV2Ba1rILm+5+X2kiAIB3EZRe9tecjdIVWSldTlJZVze7mYDN9LyM9UUGe3GJCMwDtdWy2N7kkjfwGsCyiw3tK+vj6itkyAsFDGwcg3JsosPDc/aZqdIkOAF7OZFOjXBa25tYEZhpAn2F7215xImCrVGoszWZgz2A0vZiAP0nKnj3IAsucsq5TmW1wdwRfu+sCwIEASubpJgeGVHEDFSQGIsFDXsBfZh+sweknOUBLMQSbq/cSugAvra9yOUCc1AF1c3ut7C+gv325zoQDodRKvGY2q1GsyKEyUsxzEhgSpOnK0lNiyA3Z2qLT397Lr/1QJUWG9pAXHVOyxRcruyAAm9xmsddNcv6zrgcU1S4cBWFrrZgRfmCNdtxvAlEQBK6li6hFkCk/mm7sf3XK20H/AKkh8UeClRVF3yWBO2Yjv+sCTEgnGVM3Dypnzhb3OWxQtf8ATaanpIh9QCl3FwG/dBJ1IsfZI0/WBYWgCV2JxGIFIOMi5mp2sSdGcCx05HebJi3LmmoBYs+rE2AXLfb/ABDT5wJ9he9tecEDTTbaV9bpB1YqKdygGYAObki9gQLff9JYQGUb21MTMQMWF7215wQDuJmIGLQQDoRvMxAwQOUWmYgYt3xYXvbWZiBi0ATMQMQABsLTMQMWF721gKBsLTMQMWF721iZiBgADYWggHcTMQMWnOtRzgdplt3qf/AZ1iBzo0lRQq7D6nne83AA2FpmIGAANhGUXvbU7zMQMETBUEWIFuU2iBi3fOdSgrAAjQMGFtNQbzrEDAAGg0Ew/sn5GbTV/ZPyMDaIiAiJW4/pujh6i03zXIubDRQe8wLKJicMbWammcWsGXN/hJAP8b/SB1ampIJUEjYkbTeVbdIv+aAFvmVaXjdshJ+TA/SSaWPRmAANmJCtpZiL+N+47wJLqGBDAEHQg7GcEwFIX7F7jLqSdD3C50HymMXjlpXurNlXOxFtF56nw2mv427ZcpQhlBDAG4IJB0Om36bQO1bCo5BYajS4JGnI23HhMNg6ZbMV1uDubXFrG219Br4SO3SQKFlRhdWZGIFmsCb6G/3nN+lCKRPDbOEVgDaxB0vvAnJh0UMANGJJFzbXf5Tg/R1MgAA+0CSSSTa9hcm/fOtfEBApKsSxChRa97E23t3TkMeCBam5c5uxpcZTY3N7bkd/fA6fgqWULl0BzXub355r3v8AWHwdMhQVPZ0BDEH5XBvOdDHZ6gVUOQpmzG2hvaxF7+HznOpjXFZltlRWpoLqDcsR4+MDvWwNJ/aS91ynUi45G2/1mWwdItnK63B3NrjY22vpvOY6RXcqypZjnNrdnfvv3TNHFs9RVKMgKM3aAubFbbHxOkBQ6PppqRma7G5vbtE30vYGxtedaOGSnfKDc95JO3dr3eEinHvmccM9mqE7u0CAee+v2nT+0FsOw2ckjIctxl31va2o7+8QO6YdF2UDf/qNz+s0rYVWprT2VSungpBt+kwcanBNbXKN+ehsR95q+NsgYo2psBmT+N7QOlPC01tZdjmuSSb2te51OhtC4SmGzBdbk7mwJvcgbC9z95wfpRAuYK5XKrkgDRWvqdfDabHpBQDdGDBsoU2uTbNve22u/dA3GApZSuXQ20udLG4trpY8ps+DpkWK9+a4JBue+4N4p4pWps+oy3zDS4I3Ejt0oozXpVAFCsTYaK17Nv4HTfSB3OCpEg5bWAGhI0GwNjr9ZIkM42zZcpdizhQoA0W29z47zX+0Vtn1KlUIAXtXdstt+cCdEh08eCwU03W7FCTawa17aHl3iH6RprTFQhspptU27lAJ+usCZEhf2iMxBpVBYqGvl0DaA7yRiqhSk7DdVYj5gQOsSGuPGzo6mwIuBqCQLix5kaTOIxmVgqoWOdVO2lxfvMCXE4VcQFdEyszPci1tALXJ804DpSnbMQwUgsraHMAL6AG+2usCdEjUsYGCnKRnbKNVN9Cb3BPKRsZ0kUzFFuFSqSDzQgc9tTAsokL8dYkFWJuoCgC4LKTYm9u6ZGPBygU3Lkt2NLjKbEnW1tR398CZEj/i14PFs2W17W13ttOX9oi9jTqLZwhJtYFrW2PfcbQJsSGnSCEjssEYkK5tlJF/G/cd5zHSWqkqyUyjPdhuBlsRY6b7HWBYRID9IaWClXumjWN1Zwt9D4zthsWKpOVTYEi+ncbWsDcfWBJiRamOVaopkHUgXuNztpe/1tNB0ipAIRu0SFByjNbc6nQDxgTYkb8anBNXXKt7jvBBsR9xORxzZqIFM2qMVOqmwCk3BBsdv0MCdErFx7lgOyRlon2SPbqFT3nuEmV8TkZUCs7MCbLbYWudSOYgd4kJekkIBytlKZySBZV11OvhtMp0gpvdWBC5gDl1HPew+sCZEgDpHNky02N3yNqunZzXuDY6W28ZPgIiICav7J+Rm01f2T8jA2iIgJDxfRdCs6vUQMy7G523secmRATStTDoyHZgQfrN4gQ06OQGibsTRBAv+9cbn+PzmcPgVptdScovZbLpfxteS4gRsRhFqBwSRnTIbdw11/WGwamoXubkqbf4b/1kmIFVTwDkhGzCmqsoBZTYEZQBYdw5yTV6PVhbMw/L4fdsDe/z0kyIHGpQzZLk3Rg1+ZsR/OcjgRfMrsrXY3FtmNyLEcwPtJcQI1LBhGUqzdlSpBsc1ze58b6xUwasxJJ1dH+q7D9JJiBFOBQqqG5UBhbmGBBH6zNHClWDNUZyFKjNbYkHuG+kkxAjfgxnLZjqwe2m4Fv4CaVOj1Y5rkNmLA2B3tcWI20EmRA5CjankDEae0At/ta36SMnRiqQysQwLG9lt2gARa1h7I/XnJ0QIK9GIKZp5msaa0+7Zb6/rN62BVyWuQSwYHQ2IXLsd9P4yXEDiuHAplCb3BBNgN/kLTlVwCuHBJ7aKh22W+v/AFSXECMuDUVA9zcFzb/Fa/8ACcx0agUDM2mTl+4+cfrJsQI/4UXvc+3xPra1pHPRSlMhqOV4bUwNNFa3hqdJYRAj1MIrFzc9vJf/AJTcTPBZqbo7XzZhcdwN7D6Cd4gQm6PDXzVHY5cqnTsi4Omm9wPtMnA7k1GzFlbNZdCBba1rSZEDk1EGor31VWW3+LL6ZwoYAU9FcgAELot1+trm3j+smRAgr0cBchyHLBswCjUAja1tiYPRilSpdjdaik6X/MIJO3hJ0QIq4IZsxYlrq3dqVUr/ADnKvhGBDU82a7m4Kg2YgkaixFwPtJ8QIlLCH8OKTnW2pHO99++bVMGrXuTq6P8AVcth/wBMkxAhr0eoIBZiiklUNrC9xyudzb5zUdGrYKzu6hDTANtFNuQ30GsnRAiLgRlsXJ1U+yo9lg3cO+0zTwYWrxCxZrEDQDQm+thrt3yVECG2ABctmNi4qWsPaFu+1+6D0euVFBN0vY2B33BBFv8A1JkQOS0bU8gYg+8AL/O1rfpI9Po5VIIYhg+e4AAvlykWtYaSbECEvRygg5m0CDu/cYsP1MzjKLlkemDmAIurKNDbSzAju37pMiBBwvR4WkFfUmmKbDu77/6jM/2cMhUuTe1jlUEZSCDoNdQJNiBDGBtrnbMXD3su+XLa1uUmREBERATV/ZPyM2mr+yfkYG0REBETEDMTE0q1VSxY2uQo+Z0EDpEjtjaQ4na/3RAfQ6EgEDx3E7wMxExAzExMK4JIB1U2PgbX/gYG0Tj+JS6jNqxYD5rvOsDMRMXgZiao4YAi9iLi4sfsYRwb2vobagj+O8DaJzoVVqIrqbqwBB8DqJl6iqLk2FwPqTYD7mBvE1ZgASe7WYp1Ayhl1BAI+RgbxMTWpUCqWY2UC5PIQN4mJq9VVKgnViQPoL/ygbxMTMBExEDMTEQMxMTDMACTsNTA2iaqwIBBuDqPGa8Zb2vftZdATY2vry0gdIiYgZiYnGlikanxASE5kEXHPXugd4miVVYsAdVNj87A/wACJtAzE1ZgASdhrCOGUMNiLj5QNomiVAwJBuASPqDYibwETkcQoYrrmGW9gT7RIB/QzapUVQWY2A3MDeJq7hRc33A0BO5t3TFOoGF1Nxcj6gkH9RA3iau4UFibAC5PICYVwSRrpY7G2vj3wN4mIgZiIgIiICav7J+Rm01f2T8jA2iIgJQ9NdD16+Ip1KdQKoAGpIKkG+YW3/7S+iBicMdRNSk6j2rXX/ENR+oEkRAqEwVUmkWW2c5q2o7JDGoB46m30m2CwlRailwQylizhV7d77te57tLaWlrECvx2EapUsPYqLaoQdspuLfO5E4HDVWVTVp3LMWcAKxBACrodLWH6y1dwouxAHMmGcAgEgE6C538IFQmAZqJFRLuKAVb20YZtuR1Gsm4Sjkq1TktmKnNpr2QLc9wZLBBFxqIBB+kCppYDtoDRARalQnQWIN8pt3905nBVAEDJmUKyhbK2XtG2hItpbXwlyrAi4II5iZgQ8Rhi1Gmhu9mp5r7kAi5M4LgMrIVpgEVH1FtEKtYfK5Gks5hWBAIIIOxECnfo9zSe6XqClTCHS4ZRrbkb98sKNJwW1yguTa17jTx0kqIFJhMJUWnSC0clRaRDkkWY5bBdDrrr4Wj8Acr/lErek2UqguVe7aA2vbTxl1MwKxaBzPmolnJYrU7OgI0F73FtrTj/Z9RUUU1Ck0MrWIF2umh5m2bXxlzNGqKCAWAJ2BOp+UCq/Bko3YcAlewEQDS+uW5B31+Q5TvUw7vg2ptTUOVYBQABucul7A7d+ksYgU9fCs2e1E5mC8JuyOFYAW30sbnTe8l9IUcxpE0+IqsSw090jY76ybEClODqWS9O9McS1MhWyXa66EgbaeEmVcMxwy09WN6d7nWwZSb/STVYEXBuIgVNfBNxWsvZOXIyqpyAACwJIy2IJ275rRpZnJWkc4xBPE00UNqL3vtcW8ZcRoPAbwKf8C60qQyXsSai2DXJ2NiQDb+cVMG4VCEZ2ANg6oVF2vl3utuYO3O0uAYgVa4R+MSym/EzBwF9m+2a9wLaWtOadHMEp/ljMVqCptrcGwPPW0uYgUdXCVGpqBSIK0lCWVbhhe9zfTuItJP4Q8RrU7A1QxOlmUoR/G/3llMKwOoIPy8IFS2DrMjg7oAia+2gYEn5lQBryPOS+jqJUMcpUEjs5Qo+YAJ/wDBJkQKrD4Nr0w1OzAtxahtaoCCLczckGx2tOv4P/YlpcMZgi3XT2gBfwveWMQKtsFcu4p2Y1KTJtcKBTv8tjNcPhHFW7Kbh2bOFXUEmwLXvaxAtbultECtx2HLVGJpGqDTypt2Wu19zpe66+E4NhKhK3p9peFlIC7C2a5vcHfb9ZcxAp/whAycHs8V2NlQ3BuVIB0trbwndMPU/BimQc4ABW+4B1W/iNPrLGIFSmFbiMyUjTQmjYdkeyzEmwOm4nE4FuHUQUbjKLZwuYkNe1we1pfU/wA5eRAqmwbEVGFOxarSK7XCA0yR4eydPCYpYVg62pFXFV2NTTVSzG173NwQLS2iBTfhqj0lpmkezRdDmK2LELa2vhvNmwrliRSPD/KvT0Fwua62vbQkG3fLeYgVlHB3IzU7U+IzBDbsjLbbbU3NvGTMDSKUgpFrFrDkMxt+lp3mYCIiAiIgJq/sn5GbTV/ZPyMDaIiAiIgIiIETEZsx9u9uxlva/j3ffSSpmIEHpemHoFSLhmQEeBdbyAFqNVomoDejUFME/vHK13+oC/rL2IFHxKnCch2Xh4dHULYDN2jtbwGkn0HqZ6mVVI4gvc5bDImu2u5k2IFH0fVKpSyM7NZs9PkAGINu7W1ud++c6lRnp1AahK5abkhi1jn11sLad3h3T0EQK2nVBqtmqsDcBFGzLlGu2t9de7wkXDmrTo0uGWJbDscp1AZQtrD6n5y8iBTiq5R8tYZezqXY631GbL2bj7eElUsQfwzPZyVDW1uTa+oNtRyNpOiBTU6tQ3UVCRmpWZWze0TmsxHh9JtxanFK57MrqFVmOqafu5e1cX1voeVpbxAg46pZ0Du1OmQxLA27QtYE92l/nKzFU3qJUZy+Y4Y6WtfU93dfe09DECoq13NQhalrZeESxswsNbBTmubg/wAt5uGqZg+d/wDflMvdl10t/OWkQK3pGsyVFOY2AHYVrMTfcaWflY/znOnWqmtYuA3EIylj7F/dy8tb337+6W0QKMVXCoubIopAocxW7XN/3Te2mnjJKVCapFWoyMCoRV2YFRcjTXW/yt3SziBRUqhVEXOQl3zEuVswOikgG2mtu+b1qr5SKtQr+SCmXZ2Oa/dqbZdLd+0uogQcTUK0E3F8oJvYAW3JsbDS31kbDMS9FndtDVUa6GzaC9tdPvaW8QIGJdw9RrvZKQYKttT2/DXYSItapqq1CQXpdpWze0xDAEjw+kuogVBqMGyPUdaQqMue+vsqQC3K5OvgBOWGqWVQ9R0pk1jmGhLcQ2ubctbd8u5mBTtUrMhYu6stOm1gANSzXJFuQGklYSrlqVUdyRxAqZtzdA1r/eTpqVBtcbajwgbRMTMBERAREQEREBERAREQEREBERAREQEREBNX9k/Izaav7J+RgbREQEREBERAi18QVLWKjKAbHdvlr9PnJIggcpmBHxlY00utrllUX2BYgXPhrIrYusH4X5ZfOFzZTaxVm2vuMvOWDoGBVgCDuDsZzp4amgAVFABuLDv2v84HDHVmQqRuFc99tFvteZwtaoXyvkN0VxlBFr7jUm8kvTVvaAO+456GZCAG4Ava305QIBxtS5fs5BVFPLY5vay3ve25va20xTxdZsgvTBqMwBymwC38dSbeHfJhwtPPxMi5/etrFTDU2XIyKVve1tL84FdSxdUWQWLFqpLZSw7NQiwFxz56SVh8RVeoAVVAEVmBBJuSwsDe37onZsJSKhTTXKDcC21+U6JTVdlA0A0HcNh+sCFiMY61LKAUVkVuyd2I/evyYHYyNQNYVVJqA5qlQMMrahb6e1ptp/OWbYamzZiiltNSOW32mWw6G10U2bMNNm5/PWBXJ0jWNI1cgymmzjskBdLgE37XLS0l13cUCWIzaezcDUjxvOi4OkCxFNbtcHTe+/3nVkBFiARygQExdXMCcmQ1mp2Cm+l7G9/DlIyV6vDY5hl4CNl7V7nNrmzX7v4S24Ke6N823fz+c1OFpadhdBlGmw5fKBEONfiqAAabVDTvlI1AJ3vrqttvrNqVSoMJTZBmfKm+u9rncXNr98k/hqebPkXNe97d9rX+dps1BCmQqCmnZtpptAr1r1HdMjqDkqXujAXDL+7e9/rNk6RY0neygrRSoBruwY2+XZk2nQRbZVAsCBYc9T95o2Com16SHKMo7I0HKBWV1qmq/wCYLGsqWs3s5Q1tG/8ANflFPFulMsNSOJbMSR/vivPlLg0lvfKL3zbd+1/nNfw9O1si2+Q7zf8AjrAhtiqoY0yaeYuqhspAAKltRfU6Eb94nXD4pylYvYmmzDsAi9lB2JOus6YnDCopHZBa17qCDbmIweFFJSo7ySbADX5DbaBAxGLrCmbtTu9FqilQeza3jro2+m20kVlqJRphHAbMgJIJvcjm1+/nJCYOkubLTUZtGsBqOU3q0VdcrqGU9x8IEL8ZVsxulzUNNAFJJsTf94dw8NvpOFTpCoKZqWGdEraagEoyja//AJzlm2HQrlKC172t373+cx+Fp5cvDXLYi1hax3H1gRHxFQVCjlTZqRBUMujEix119n9dpouPqhRUbIVKucqgg9m5Gtzy5SxNJSblQTprblt9rmY4K2AAAte1gNL8oEbD1qvEVHNNg1Mv2AR3gd5NxrvNHxlRKjZwAnayjKe1Zb+1e19DoROmDwC0mLdm9rdlAotv3bmdhhqYfOEXPztr84FdVxdc0XYWX8ssGyEWOmnta3B38NparewuQT3kCw+05Jg6ShgKagMLEWGo5fKdUQKAqiwAsBygbREQEREBERAREQEREBERAREQEREBERATV/ZPyM2mr+yfkYG0Sv4z+8Y4z+8YFhEr+M/vGOM/vGBYRK/jP7xjjP7xgWESv4z+8Y4z+8YFhEr+M/vGOM/vGBYRK/jP7xjjP7xgWESv4z+8Y4z+8YFhEr+M/vGOM/vGBYRK/jP7xjjP7xgWESv4z+8Y4z+8YFhEr+M/vGOM/vGBYRK/jP7xjjP7xgWESv4z+8Y4z+8YFhEr+M/vGOM/vGBYRK/jP7xnDFdIGmBdtTzNgNtSfqPvAt5iec6R6RxNJOzmqE6HhrlsG2YFibkAG48b6Syp4ioRdjY67G+ndrblAsolfxn94xxn94wLCJX8Z/eMcZ/eMCwiV/Gf3jHGf3jAsIlfxn94xxn94wLCJX8Z/eMcZ/eMCwiV/Gf3jHGf3jAsIlfxn94xxn94wLCJX8Z/eMcZ/eMCwiV/Gf3jHGf3jAsIlfxn94xxn94wLCJX8Z/eMcZ/eMCwiV/Gf3jHGf3jAsIlfxn94zDYhhu9u7U957oFjNX9k/Iyup4zNfLUDW3sQbTZ6z2PaO0DWU2Kp4xatU0b5We62KHamgFw2yXDXtrynoeEvKOEvKB51Bj2dgSUQnQjhkj/AHmg01Gibi+sGnjWvmJsbDJ2APZpm9xrfNnG89Fwl5Rwl5QPPPRxdXDVqdQsHZgEYFFOW4vbLtYX3JkMdH4/OzM5zMLXDABbJVUEDuuchPi3hPW8JeUcJeUDy9OhjVLsA9zaxLJmFxRBNtVv2X0t/Gcq9bHMDRbNxGpMMqhLA8I6ltw2e2t7bT1vCXlHCHKB54HH5qdxtfPbhlTq2w3sBltrfXWSMLSxD4cCq706ga5YZLkA8gLC/KXPCXlHCXlA8/0vhaz1GKLUa9MCkUqZRTqXPaYXFx7PP2SLa68X/GuWs1TKri9hTW+Wqvsd+qhr5t9J6bhLyjhLygeb4OOCqFcpYEWApnXK5vcg/vZRysT9NiuNV+yGy3qsQDTsSfYGuo17xyGk9Fwl5Rwl5QPMGjjmyZi57iCaYFuLTa7WtrlzbcvHXdV6RbQsVF9TalcHK+i6EZM2S1+1veek4S8o4S8oESiWyLn9qwzfO2s2knhLyjhLygRoknhLyjhLygRoknhLyjhLygRoknhLyjhLygRoknhLyjhLygRoknhLyjhLygRpV9J4tUqIMrMHIptZLhdQ1zfSxF9e6XvCXlNHwyMQSt7Ajc2sd9O+BSWysoXtsb/ls4LUzZrWA2HbNzy+ks6SZUVb3ygC/OwtJS0EGygfKZ4S8oEeJI4S8o4S8oEeJI4S8o4S8oEeJI4S8o4S8oEeJI4S8o4S8oEeJI4S8o4S8oEecMdRNSjUQEqzKQCDYg9x+8n8JeUcJeUDya4bpAEvchrZ7ZlNmqMuZBfTsqptfTtTtXp9IOrqToaVhYKLtk5g3Vs3LS09Nwl5Rwl5QKLFYfEVcEVZmFfU9lgtyDsCP3eXfz75YcI8YvxGylbcPTKDe+bneTeEvKOEvKB5ahhsXTF6aVFOUh71VbMxcWZQxYCy5uW9rSV0fVxRrBKp0VFd9F9ojLw7gW3GfTmO6X/CXlHCXlAouj8NiVrYg1W0qKuVle9j2vZBGlgV+3frN8fgGfDLTzPUqKV7WcqTqMxOUjuvLrhLyjhLygeaqUsbbIudUpvoVKXZRWGUAnU2p3vfe2t5vSGPLAMSFzjObU9sr3C2/cvkAv2tTPRcJeUcJeUDzNOnjiVQgimFT95N1NM3BGvv3vfaWT0H/FpUBY0+G6sL9kG6ZdOZ7WstOEvKOEvKBHkbF4U1ChDWykG1gRowN/nYEfWWPCXlHCXlArcJh2Qtc9nuUMT3k312328JIbY/KSuEvKavSWx07oHWIiAiIgIiICIiAiIgIiICIiAiIgIiICIiAiIgIiICIiAiIgIiICIiAiIgIiICIiAiIgIiICIiAiIgIiICIiAiIgIiICIiAiIgJq+x+U2mr7H5QNonzTrCxvwsP5X9cdYWN+Fh/K/rgfS4nzTrCxvwsP5X9cdYWN+Fh/K/rgfS4nzTrCxvwsP5X9cdYWN+Fh/K/rgfS4nzTrCxvwsP5X9cdYWN+Fh/K/rgfS4nzTrCxvwsP5X9cdYWN+Fh/K/rgfS4nzTrCxvwsP5X9cdYWN+Fh/K/rgfS4nzTrCxvwsP5X9cdYWN+Fh/K/rgfS4nzTrCxvwsP5X9cdYWN+Fh/K/rgfS4nzTrCxvwsP5X9cdYWN+Fh/K/rgfS4nzTrCxvwsP5X9cdYWN+Fh/K/rgfS4nzTrCxvwsP5X9cdYWN+Fh/K/rgfS4nzTrCxvwsP5X9cdYWN+Fh/K/rgfS4nzTrCxvwsP5X9cdYWN+Fh/K/rgfS4nzTrCxvwsP5X9cdYWN+Fh/K/rgfS4nzTrCxvwsP5X9cdYWN+Fh/K/rgfS4nzTrCxvwsP5X9cdYWN+Fh/K/rgfS4nzTrCxvwsP5X9cdYWN+Fh/K/rgfS4nzTrCxvwsP5X9cdYWN+Fh/K/rgfS4nzTrCxvwsP5X9cdYWN+Fh/K/rgfS4nzTrCxvwsP5X9cdYWN+Fh/K/rgfS4nzTrCxvwsP5X9cdYWN+Fh/K/rgfS4nzTrCxvwsP5X9cdYWN+Fh/K/rgfS4nzTrCxvwsP5X9cdYWN+Fh/K/rgfS4nzTrCxvwsP5X9cdYWN+Fh/K/rgfS4nzTrCxvwsP5X9cdYWN+Fh/K/rgfS4nzTrCxvwsP5X9cdYWN+Fh/K/rgfS4nzTrCxvwsP5X9cdYWN+Fh/K/rgfS4nzTrCxvwsP5X9cdYWN+Fh/K/rgfS4nzTrCxvwsP5X9cdYWN+Fh/K/rgfS5q+x+U+bdYWN+Fh/K/rg//ION+Fh/K/qgeTiIgIiICIiAiIgIiICIiAiIgIiICIiAiIgIiICIiAiIgIiICIiAiIgIiICIiAiIgIiICIiAiIgIiICIiAiIgIiICIiAiIgIiICIiAiIgIiICIiAiIgIiICIiAiIgIiICIiAiIgIiICIiAiIgIiICIiAiIgIiICIiAiIgIiICIiAiIgIiICIiAiIgIiICIiAiIgIiICIiAiIgIiICIiAiIgIiICIiAiIgIiICIiAiIgIiICIiAiIgIiICIiAiIgIiICIiAiIgIiICIiAiIgIiICIiAiIgIiICIiAiIgIiICIiB//2Q==\n"
              }
            ],
            "_view_module": "@jupyter-widgets/output",
            "_model_module_version": "1.0.0",
            "_view_count": null,
            "_view_module_version": "1.0.0",
            "layout": "IPY_MODEL_cd0cbbcdd5a5484cbfc24cd2446c34bd",
            "_model_module": "@jupyter-widgets/output"
          }
        },
        "e2c0ce4a1fb6495e8f3a2caa8c7ab953": {
          "model_module": "@jupyter-widgets/output",
          "model_name": "OutputModel",
          "state": {
            "_view_name": "OutputView",
            "msg_id": "",
            "_dom_classes": [],
            "_model_name": "OutputModel",
            "outputs": [
              {
                "output_type": "stream",
                "metadata": {
                  "tags": []
                },
                "text": "Video available at https://www.bilibili.com/video/BV1ty4y1T7Uh\n",
                "stream": "stdout"
              },
              {
                "output_type": "display_data",
                "metadata": {
                  "tags": []
                },
                "text/html": "\n        <iframe\n            width=\"854\"\n            height=\"480\"\n            src=\"https://player.bilibili.com/player.html?bvid=BV1ty4y1T7Uh&page=1?fs=1\"\n            frameborder=\"0\"\n            allowfullscreen\n        ></iframe>\n        ",
                "text/plain": "<__main__.BiliVideo at 0x7f1e5638b910>"
              }
            ],
            "_view_module": "@jupyter-widgets/output",
            "_model_module_version": "1.0.0",
            "_view_count": null,
            "_view_module_version": "1.0.0",
            "layout": "IPY_MODEL_cd6601fc83904f4897a7be891f9e1e5f",
            "_model_module": "@jupyter-widgets/output"
          }
        },
        "cd0cbbcdd5a5484cbfc24cd2446c34bd": {
          "model_module": "@jupyter-widgets/base",
          "model_name": "LayoutModel",
          "state": {
            "_view_name": "LayoutView",
            "grid_template_rows": null,
            "right": null,
            "justify_content": null,
            "_view_module": "@jupyter-widgets/base",
            "overflow": null,
            "_model_module_version": "1.2.0",
            "_view_count": null,
            "flex_flow": null,
            "width": null,
            "min_width": null,
            "border": null,
            "align_items": null,
            "bottom": null,
            "_model_module": "@jupyter-widgets/base",
            "top": null,
            "grid_column": null,
            "overflow_y": null,
            "overflow_x": null,
            "grid_auto_flow": null,
            "grid_area": null,
            "grid_template_columns": null,
            "flex": null,
            "_model_name": "LayoutModel",
            "justify_items": null,
            "grid_row": null,
            "max_height": null,
            "align_content": null,
            "visibility": null,
            "align_self": null,
            "height": null,
            "min_height": null,
            "padding": null,
            "grid_auto_rows": null,
            "grid_gap": null,
            "max_width": null,
            "order": null,
            "_view_module_version": "1.2.0",
            "grid_template_areas": null,
            "object_position": null,
            "object_fit": null,
            "grid_auto_columns": null,
            "margin": null,
            "display": null,
            "left": null
          }
        },
        "cd6601fc83904f4897a7be891f9e1e5f": {
          "model_module": "@jupyter-widgets/base",
          "model_name": "LayoutModel",
          "state": {
            "_view_name": "LayoutView",
            "grid_template_rows": null,
            "right": null,
            "justify_content": null,
            "_view_module": "@jupyter-widgets/base",
            "overflow": null,
            "_model_module_version": "1.2.0",
            "_view_count": null,
            "flex_flow": null,
            "width": null,
            "min_width": null,
            "border": null,
            "align_items": null,
            "bottom": null,
            "_model_module": "@jupyter-widgets/base",
            "top": null,
            "grid_column": null,
            "overflow_y": null,
            "overflow_x": null,
            "grid_auto_flow": null,
            "grid_area": null,
            "grid_template_columns": null,
            "flex": null,
            "_model_name": "LayoutModel",
            "justify_items": null,
            "grid_row": null,
            "max_height": null,
            "align_content": null,
            "visibility": null,
            "align_self": null,
            "height": null,
            "min_height": null,
            "padding": null,
            "grid_auto_rows": null,
            "grid_gap": null,
            "max_width": null,
            "order": null,
            "_view_module_version": "1.2.0",
            "grid_template_areas": null,
            "object_position": null,
            "object_fit": null,
            "grid_auto_columns": null,
            "margin": null,
            "display": null,
            "left": null
          }
        },
        "1e9ef4da5d4c4a318cba1ddf69f2cdd2": {
          "model_module": "@jupyter-widgets/controls",
          "model_name": "VBoxModel",
          "state": {
            "_view_name": "VBoxView",
            "_dom_classes": [
              "widget-interact"
            ],
            "_model_name": "VBoxModel",
            "_view_module": "@jupyter-widgets/controls",
            "_model_module_version": "1.5.0",
            "_view_count": null,
            "_view_module_version": "1.5.0",
            "box_style": "",
            "layout": "IPY_MODEL_2909f62eff384330a07f0dd7346d449d",
            "_model_module": "@jupyter-widgets/controls",
            "children": [
              "IPY_MODEL_2eab985979074e139be4beb8d265b993",
              "IPY_MODEL_84779188478e45f5976b84d45d404153"
            ]
          }
        },
        "2909f62eff384330a07f0dd7346d449d": {
          "model_module": "@jupyter-widgets/base",
          "model_name": "LayoutModel",
          "state": {
            "_view_name": "LayoutView",
            "grid_template_rows": null,
            "right": null,
            "justify_content": null,
            "_view_module": "@jupyter-widgets/base",
            "overflow": null,
            "_model_module_version": "1.2.0",
            "_view_count": null,
            "flex_flow": null,
            "width": null,
            "min_width": null,
            "border": null,
            "align_items": null,
            "bottom": null,
            "_model_module": "@jupyter-widgets/base",
            "top": null,
            "grid_column": null,
            "overflow_y": null,
            "overflow_x": null,
            "grid_auto_flow": null,
            "grid_area": null,
            "grid_template_columns": null,
            "flex": null,
            "_model_name": "LayoutModel",
            "justify_items": null,
            "grid_row": null,
            "max_height": null,
            "align_content": null,
            "visibility": null,
            "align_self": null,
            "height": null,
            "min_height": null,
            "padding": null,
            "grid_auto_rows": null,
            "grid_gap": null,
            "max_width": null,
            "order": null,
            "_view_module_version": "1.2.0",
            "grid_template_areas": null,
            "object_position": null,
            "object_fit": null,
            "grid_auto_columns": null,
            "margin": null,
            "display": null,
            "left": null
          }
        },
        "2eab985979074e139be4beb8d265b993": {
          "model_module": "@jupyter-widgets/controls",
          "model_name": "DropdownModel",
          "state": {
            "_options_labels": [
              "1",
              "100",
              "50, 50"
            ],
            "_view_name": "DropdownView",
            "style": "IPY_MODEL_f40c9b3f1b46467785df6f1a526eec1d",
            "_dom_classes": [],
            "description": "hidden_dims",
            "_model_name": "DropdownModel",
            "index": 1,
            "_view_module": "@jupyter-widgets/controls",
            "_model_module_version": "1.5.0",
            "_view_count": null,
            "disabled": false,
            "_view_module_version": "1.5.0",
            "description_tooltip": null,
            "_model_module": "@jupyter-widgets/controls",
            "layout": "IPY_MODEL_8a312527f8424b71a550f6bdac408086"
          }
        },
        "84779188478e45f5976b84d45d404153": {
          "model_module": "@jupyter-widgets/output",
          "model_name": "OutputModel",
          "state": {
            "_view_name": "OutputView",
            "msg_id": "",
            "_dom_classes": [],
            "_model_name": "OutputModel",
            "outputs": [
              {
                "output_type": "display_data",
                "metadata": {
                  "tags": [],
                  "image/png": {
                    "width": 342,
                    "height": 270
                  },
                  "needs_background": "light"
                },
                "image/png": "iVBORw0KGgoAAAANSUhEUgAAAq0AAAIcCAYAAADcypd7AAAABHNCSVQICAgIfAhkiAAAAAlwSFlzAAAWJQAAFiUBSVIk8AAAADh0RVh0U29mdHdhcmUAbWF0cGxvdGxpYiB2ZXJzaW9uMy4yLjIsIGh0dHA6Ly9tYXRwbG90bGliLm9yZy+WH4yJAAAgAElEQVR4nOzdd3iUVdrH8e9J74QAAQWlKCjSAwJSpIkgoKAo1YJtXRQsrCt2sLyWtS/gruLaVgkgLBYERZpIEaSDoiiCNOkhhfTkvH9MS0ISEkgyYfL7XNdcmec+5zlzTzThzjPnOcdYaxERERERqcz8vJ2AiIiIiMipqGgVERERkUpPRauIiIiIVHoqWkVERESk0lPRKiIiIiKVnopWEREREan0VLSKiIiISKWnolVEREREKj0VrSIiIiJS6aloFREREZFKT0WriIiIiFR6KlpFREREpNJT0SoiIiIilZ6KVhERERGp9Hy+aDXGRBpjJhpjthhjUowxicaYH4wxfzPGBJ3mmNHGmIHGmKeNMXONMX8aY6zzMaoE51/ofP0vjDF/GGMyjDEnjDHbjTH/Mca0PZ28RERERHyVsdZ6O4dyY4ypDywFGjhDqYA/EOw83gD0stYmlHLcUcB7RTTfaq19v5hzOwPLC4STnTm5iuhc4P+stU+WJi8RERERX+WzV1qNMQHAFzgK1j+B3tbacCAMGIajUGwDfHSaL3EAmA/8H3BdKc4LBHKAT4EbgJrW2ihnXu1xFLR+wBPGmNtPM7dCGWM+NsZ8XJZjioiIiFQEn73S6iz43nEedrLWrirQPhyY5jy8wlq7qBRj+1trcwrEXN/IU11prQeEWmt/LaI9CPgBaAnssNZeWNK8TsUYsy4uLi5u3bp1ZTWkiIiIVD3GGy/qs1dagVucX5cULFidpgM7nc9vLs3ABQvWUp67t6iC1dmeiefq7wXGmOqn+1oiIiIivsIni1ZjTBjQ2Xk4v7A+1nGJ+Svn4ZUVkVcppOd57u+1LEREREQqCZ8sWoGmeN7b1mL6udrqGGNiyjelUunu/PoncNSLeYiIiIhUCr5atJ6b5/m+YvrlbTu3yF4VyBhzGTDIefiO9dVJxyIiIiKlEODtBMpJZJ7nqcX0y9sWWWSvCmKMqQXE4/hj4lfgH6U4tyR3V118mqmJiIiIeJWvXmk96xhjIoDPgfo4luO6wVqb4t2sRERERCoHX73SmpzneVgx/fK2JRfZq5wZY8KBL4GOQArQz1q7qTRjWGtPuYuW82ps3GklKSIiIuJFvnqldX+e53WL6Ze3bX+RvcpRnoL1cuAE0N9aW3DHLBEREZEqzVeL1m04tkIFaF5MP1fbAWvtsfJN6WR5CtZuOObX9rfWLqvoPEREREQqO58sWq21qcAK52HfwvoYYwzQx3m4oCLyKvD64cA8HAXrCRxTAr6t6DxEREREzgY+WbQ6feD82sMY06GQ9huARs7nH1ZMSg55ClbXlAAVrCIiIiLF8NUbscBRtN4HtABmG2NusdYuMsb4AYOBqc5+8621i/KeaIyZCExwHja01u4qOLgxpmYRrxtRoC3VeeXXdV4YMBdHweq66eq70r65ipaenk5SUhLJyclkZWWh5WNFTs0YQ2BgIJGRkURFRRESEuLtlEREzlo+W7Raa7ONMdcAS4AGwEJjTCqOq8uufzk2ACNP8yUOFxGf5Hy4PAVMzHN8PZ4drwKATxwzFYp0nbV25emlWDZSUlLYu3evClWRUrLWkpmZydGjRzl27Bj16tUjIiLC22mJiJyVfLZoBbDW7jLGtAQeBK4DGgJZwI84FvGfZK3NrOC08k7JCMFTQBclqBxzOaX09HR3wRoVFUX16tUJCQnBz8+XZ5aIlI3c3FzS09NJSEggKSmJvXv30rBhQ4KDg72dmojIWcfo6lnVYYxZFxcXF7duXUk2z3I4dOgQR48eJSoqinPPPZdTXBUWkUJYa9m/fz9JSUnUqFGD2NhYb6ckInImvFIM6HKZFCs52bHnQvXq1VWwipwmYwzVq1cHPD9TIiJSOipapVhZWVkAuoFE5Ay5foZcP1MiIuUiMxV+me/tLMqFilYplmv6iOawipwZ1ycVmpIlIuUmcR+81xfih8P2r72dTZlTJSIiUgE0vUZEytXetTC1B/y5CbAw63ZIPuDtrMqUT68eICIiIuLzNn8Cn90DORmOY78AuPJpiKzj3bzKmIpWERERkbNRbi4seRa+e8UTC60OQz6Ehpd7L69yoqJVRERE5GyTkQJz7oKf53piNS+CEdMhplHR553FNKdVRHxW9+7dMcYwceJEb6ciIlJ2ju+Gd/vkL1gv7A13fOOzBSuoaBWpMBMnTsQYU6KHiIhIoXavhqk94eBWT+yyMTBiBoRU815eFUDTA0S8oHbt2t5OQUREzjYbp8EX90GOcwd6v0AY8BrE3eTdvCqIilYRLzhwwLeWIRERkXKUmwMLJ8LKf3piYTVg6EdQv5PX0qpoKlpFREREKqv0JPjfnbD9K08s9hIYPh2q1/deXl6gOa0ilVx6ejqvv/46nTp1onr16oSEhFC/fn1uvvlmNm7cWOR5DRo0wBjD+++/T0pKCk8++SQtWrQgMjISYwy7du1i7NixGGO4/vrrTzo/KyvL3bdWrVqF7uTUp08fjDE88cQT+eI7d+7kxRdfpG/fvjRp0oTw8HAiIiK45JJLuP/++9m9e3eReee9eSorK4tXXnmFdu3aER0djTGGpUuXuvvm5OQwadIk4uLiCA8PJyYmhu7duzNr1qwSfGdFRCq5YzvhP1fmL1ibXAW3L6hyBSvoSqtIpbZv3z769u3L1q2OCfeBgYGEhYWxe/du/vvf//Lxxx/z+uuvM3bs2CLHOHr0KG3btmX79u0EBQURFhbmbuvRoweTJ09m6dKlWGvz3QS2Zs0aUlJSADhy5AhbtmyhZcuW7vasrCyWL18OQM+ePfO95q233sq3334LQFBQEJGRkSQkJLBt2za2bdvG+++/z9y5c+nSpUuReaenp9O9e3dWrlxJQECAu4B2ycjIYODAgXz9tWOrQj8/P4KCgli2bBnffvst48ePL/6bKyJSme1aATNuhLRjnljn+6HXk+Dn7728vEhXWkUqqZycHAYPHszWrVupVq0aH330ESkpKRw/fpwdO3YwYMAAcnNzue+++5g/f36R40ycOJGkpCTmzJlDSkoKCQkJ7Nmzh9jYWPdVzaNHj7Jp06Z85y1ZsgSAqKgoABYvXpyvffXq1aSmphIcHMxll12Wr61169ZMmTKF7du3k5aWxpEjR8jIyGD16tX07duXxMREhg4dSlpaWpF5T5kyhc2bN/Pee++RlJTEsWPHOHz4sLtwfuSRR/j6668xxvDss8+SkJBAQkICBw4cYPTo0bz44ovFXokWEam01n8IHw70FKz+QXDtW9D7qSpbsIKKVhGvqFOnTpGPH3/8EYBZs2axevVqAGbOnMnIkSMJCgoCoFGjRsyZM4cOHTpgreWhhx4q8rXS0tKYN28egwYNIjAwEIB69eoRFhZGTEwMrVq1Ak4uSl3H999/f7Htl112GSEhIfnaXn/9de6++24aN26Mn5/j10xAQADt27dn7ty5tGzZkv379zN79uwi805JSWHatGmMGjWK0NBQAGrUqEFMTAz79+9n0qRJADz++OM89thj7uI6NjaWN998k+HDh5OYmFjk+CIilU5ONnz1CHw+FnKzHLHwWjDqS2g1zLu5VQKaHiBlosHDX3o7hTK364X+5Tb2wYMHi2zLynL8opoxYwbgKAqvvPLKk/oFBAQwYcIE+vXrx9atW9myZQstWrQ4qV/fvn1p06ZNka/Xo0cPNm7cyOLFixk3bhzg+Oh91apVhIeHM27cOF544QWWLVtGTk4O/v6Ov/JdV2J79OhRwnft4O/vT9++fdm8eTPLly/nxhtvLLRfs2bNuPrqqwttmzVrFtnZ2YSGhvLggw8W2mfixInEx8eXKjcREa9JT4RZt8FvCz2xOi1gWDxEn+e9vCoRXWkV8QJrbZGP1q1bA7B27VoArrjiiiLH6dGjh7uIdPUvqHPnzsXm4pqP+t1335GTkwPAypUrSU9Pp0uXLlSrVo0OHTqQmJjIunXrAMd801WrVrlzKMx3333HqFGjuPjii4mIiMi3ecI//vEPAPbu3VtkXsXl7Xqv7dq1c19hLahJkybUrVu3uLcuIlI5HN0B71yRv2C9eADc9rUK1jxUtIpUUocOHQIotvAKCQmhZs2a+foXFBsbW+zrXH755fj7+5OUlMQPP/wAeK6iugpa11fXlICVK1eSkZFBaGgoHTp0OGnM8ePHc/nll/PBBx/wyy+/kJ6eTvXq1alduza1a9cmPDwcgBMnThSZV3F5l+R7A45pECIildrv3zp2uDqy3RO7/O8w5L8QFF7q4fYcS+X5edvIzT15xZeznaYHSJkoz4/S5cy4rsQWJSoqirZt27JmzRoWL15Mx44d3cVp3qL1qaeeYvHixTz88MPu9s6dO7vn2bp888037iupd999N6NHj6Zp06b58njiiSd49tlnC11Gq6R5i4ic9X74D8x/CHKzHccBITBwCrQ4eRnCkvhq6588NGszSenZRIcFMbr7BWWYrPfpSqtIJeW60ljcR+jp6ekcPXo0X//T4fqIf/HixZw4cYI1a9YQHR1NXFwcAB07diQ0NJQVK1aQmZl5UlGb1/Tp0wHHGq5TpkyhefPmJxWgZ7ojmOu97tu3r9h+p2oXEfGKnGz48kH4cpynYI2oA6PmnVbBmp6Vw4TPtvLXj9aTlO4Y7/WF2zmcnFGWWXudilaRSqpdu3YALFq0qMg+S5cuJTvb8Qvq0ksvPe3XchWtK1euZNGiRWRlZdGtWzf3nf9BQUF07tyZ1NRUFi5c6J5GUNh81j179gAUefOXtfaklQhKy/W9Wbt2rXst2YJ+/fXXYgt+ERGvSEuAjwfDD1M9sXNaw1+WQL22pR5u55ETDP7XSj5Y9Yc7Vjc6lGl3dqRWZHBZZFxpqGgVqaSGDXMsb7Jq1SoWLFhwUnt2djZPP/00AM2bN6d58+an/VpdunQhMDCQtLQ0nnvuOeDkq6iuAvXpp58mOzubiIgId/GYV7Vq1QBOWvfV5d///je///77aecKMHjwYPz9/UlLS+Pll18utI/reyMiUmkc+RWm9oLfl3piza6FW+dD1LmlHu6zjfsY8M/v+HF/kjt25SW1mXdvV9rWr14GCVcuKlpFKqnBgwe7b3IaMmQI06ZNcy+HtXPnTgYPHuy+g981h/R0hYeH0759ewD32rAFi1bXsau9a9euBAScPC2+b9++AMyfP59nnnnGfbPV8ePHee655xg7diw1atQ4o3zr1q3LPffcA8AzzzzD888/T3JyMgCHDx9mzJgxfPTRR+4CWkTE635b5ChYj+3wxLo/Cte/B0FhRZ9XiLTMHB6evZn7pm/kRKZj1Zcgfz8mXn0Jb93UlmphgWWZeaWholWkkvL392f27Nk0a9aMxMRERo4cSUREBNWrV6dRo0Z8/vnn+Pn58cYbb3DVVVed8evlLVJjY2NPunLbrl07IiMj3cdFLXV1880307VrVwCefPJJIiMjiYmJoUaNGjz22GP07duX0aNHn3G+L774IldccQW5ubk8+uijVK9enZiYGGrXrs2UKVMYP368e/kwERGvsRZWvwUf3wAZzg1PAkLhhg+g+3jIsz11SWw/mMzAKcuZ/sMed6xBjTD+d3cnRnVumG+7a1+jolWkEqtbty5r167l1Vdfdd8MlZqaynnnncdNN93EunXruPfee8vktfIWoYUVpAEBAe5itKg+AIGBgSxYsIAJEybQpEkTAgMDsdbSvn17/vWvf/H555+XycoAISEhzJ8/nzfeeIPWrVsTFBSEtZauXbsyc+ZMXnjhhTN+DRGRM5KTBXPvd6wQYB1XRIk8F277CpoNKtVQ1lpm/rCHayYvZ/tBz1z+q1udyxdju9C8ru9/smSKW3JGfIsxZl1cXFyca4H4kti2bRsATZs2La+0RKoM/TyJVCGpx2DmzbDrO0+sbjsY9jFE1inVUCkZ2Tw+ZwufbtzvjgUH+PHUNc0Yeul53ri66pXLuVqnVURERKQsHfoZ4odCwi5PrMUQuGYSBIaUaqgf9ycyZtoGdh7xbMbSODaCySPiuKhOZDFn+h4VrSIiIiJlZfsCmHUbZCZ7Yr2ehC7jSjV/1VrLf7//g2fnbiMzJ9cdH9KuHhOvaUZYUNUr4areOxYREREpa9bCqinwzRNgnUVmYDhc9zY0HVCqoRLTshg/azNf/ejZiCUsyJ//u7Y517aputtTq2gVERERORPZGTB3HGz8yBOrdh4Mj4c6LUo11IbdCYyN38DehDR3rOk5UUwZ0YZGtSLKKuOzkopWERERkdOVchhm3gS7V3li53WEoR9BRK0SD5Oba/nP8p28+NXPZOd6bpK/qWN9HuvflJDAM1915WynolVERETkdBz8EaYNg8TdnlirEXD16xBQ8i1Uj53I5MFPNrH450PuWGRIAP8Y3JKrWpxTlhmf1VS0ioiIiJTWz/Pgf3dCpmvNVAO9n4ZOY0t1w9Xq349y3/SNHEhKd8danRfN5OFtOC+mdDtl+ToVrSIiIiIlZS2seB0WPgU4P8YPioTB78BFfUs8TE6u5c0lv/Hawu3kmQ3AnV0b8vc+FxMUoP2fClLRKiIiIlISWenwxX2webonFl0fRsyA2JJvGnIoOZ0HZmxkxW9HPcOEBfLKDa3o1bR2WWbsU1S0ioiIiJxK8kGYMRL2/uCJ1e8MQ/4L4TVKPMx3vx7mgRkbOZKS6Y61bxDDG8Nbc0610LLM2OeoaBUREREpzp+bIH4EJO31xOJuhn6vQEBQiYbIzsnltYXbeXPpDqxzOoAxMKbHhdzXqzEB/poOcCoqWkVERESK8tPnMOcuyEp1HBs/6PMcdPhriW+42n88jfumb+CHXQnuWM2IYF4f2poujWuWR9Y+SUWriIiISEHWwrKXYcmznlhwNbjhXbjwihIPs2jbQf72ySaOp2a5Y50vrMFrQ1sTGxlSlhn7PBWtIiIiInllpcFn98DW2Z5YTCMYPgNqNSnREJnZufzjq595Z/lOd8zPwLjeTRjd/UL8/Uq+LJY4qGgVERERcUn6E6YPh/0bPLGGl8MNH0BYTImG2H00lbHx69m0N9EdqxMVwj+Ht6F9w5KNISdT0SoiIiICsG89TB8ByX96Yu1uh6teBP/AEg0xb8ufjJ+1meSMbHes58WxvHxDK2LCS3bTlhROt6qJSJEmTpyIMYbu3bt7O5VKY+nSpRhjMKXY8UZEzgJbZ8N7V3kKVuMP/V6GAa+WqGBNz8rh8U+3cPfH690Fa4Cf4fH+TfnPLe1UsJYBFa0iFcRVABb2CAsLo3Hjxtxyyy2sXLnS26mKiFQdubmw5DmYdRtkO7dSDakGN86G9neWaIgdh1O49s2VfPT9bnfsvJhQZo3uxB1dG+mP3DKi6QEiXlC7tmfHk9zcXI4dO8Zvv/3Gb7/9xocffsiECROYOHGi9xIUEakKMk/AnL/Cts89sRqNHTtc1bigREP8b/1eHv90K6mZOe5YvxZ1eP66llQLLdmUAikZXWkV8YIDBw64H4cOHSIjI4Ply5fTtm1bAJ566ildcRURKU+Je+HdvvkL1gt6wh0LS1SwpmZm8+Anmxg3c5O7YA0K8OOZQc2ZMiJOBWs5UNEqUgn4+/vTuXNnPv30U3fss88+82JGIiI+bO9aeLsHHNjsiXX4K4z4BEKjT3n6zweSuGbyCmat8+yQ1ahmOHPu7sRNHetrOkA5UdEqUonUq1ePGjUce1inpKTka8vKyuLzzz/nL3/5C+3ateOcc84hKCiI2NhY+vTpQ3x8PNa1N2ARcnNzmTlzJoMGDaJu3boEBwdTq1Yt2rZty/jx49m6dWup8t2wYQN16tTBGEOfPn1ISUnhyJEj+Pn5YYwpdLznn3/ePZd38uTJJ7WvWrUKYwzBwcGkpaWVyfsvePPUhg0bGDlyJPXq1SMwMPCkG81+/vlnRo4cSZ06dQgJCaFRo0aMHTuWgwcPlur7IyKV0OaZ8F4/OHHIcewXAANed64QUPysSWst8Wt2M3DyCn475PkdPaj1uXw+tgvNzq1WnplXeT4/p9UYEwn8DRgMNARygO3AdGCStTbzNMaMBroBbYE459c6zuZbrbXvl3CcC4CHgCuBc4BkYD3wtrV2dnHnim/at28fR48eBeCiiy7K17ZixQoGDhzoPo6KiiIkJITDhw+zYMECFixYwJw5c5g+fTp+fif/PXrkyBEGDx7MsmXL3LHo6GjS09NZv34969ev55dffsl3tbc4Cxcu5LrrriM5OZkbb7yRd999l8DAQCIiImjevDlbtmxh8eLFNG/ePN95ixcvzvd8zJgxhbZ37NiR0NDQMnv/LrNnz2b48OFkZWURFRVFQED+X4NfffUVgwYNIiMjA4CIiAj+/PNPJk+ezOzZs/m///u/En1/RKSSyc2Fxc/A8lc9sdDqMOS/0LDrKU9PTs/i0Tlb+WLTfs/pgf48NbAZN7Stp6urFcCnr7QaY+oDm4EJQHPAAMFAO+Bl4HtjTPXTGHoQ8CnwBNAfT8Famtz6OXP7C9AAyABicBSws4wx7xr9BFQZOTk5rFq1imuvvRaA2NhYbr755nx9wsLCuOuuu/jmm29ITEwkMTGRpKQkjh49yhtvvEFUVBSffPJJoVcvs7OzGTRoEMuWLSM4OJgXX3yRQ4cOkZCQQHJyMvv27eOtt97ikksuKVG+8fHx9O/fn+TkZP72t7/x4YcfEhjomb/Vo0cPIH+BCpCZmcmKFSsIDQ0lMDCQb7/9ltzc3Hx9lixZkm+Msnj/eY0aNYrevXuzbds2EhMTSUtLY+rUqQDs3buXoUOHkpGRQcuWLVm9ejXJycmcOHGC+fPn4+/vz7hx40r0PRKRSiQjBWbcmL9grXUx3LmkRAXrlr2JDJi0PF/BelHtSD4f05kh7c5TwVpRrLU++cBxFXkzYIH9wBXOuB8wFEhytn15GmOPAv4E5gHPAtc6x7LAqBKc3xBIcfZfDjRxxiOAp/KM9VAZf0/WxcXF2dL46aef7E8//VSqc6RwEyZMcP13tbVr13Y/atWqZf39/S1go6Ki7MiRI+2uXbtKPf4nn3xiAXvBBRec1PbOO+9YwBpj7JdfflnqnLt16+aOvfLKK9YYY40x9pVXXin0vE8//dQCNjo62ubk5Ljj3377rQVsr169bKdOnSxg161b525PT0+3oaGhFrBLly4tcZ7WFv/+lyxZ4v7et2/f3mZnZxc6xujRoy1ga9SoYQ8ePHhS+5YtW2xgYKB7rNLSz5OIFyT8Ye2bnaydEOV5fHS9tWmJpzw1NzfXvrv8d3vho1/a+uPnuh8Pz95kUzMK/z1SRXiltvPl6QG3AC2czwdba1cBWGtzgRnGGD9gGtDPGNPLWruoFGP/1xaYAlDKv7KeBsKBA8AAa+1xZ24pwARjTB0cV2AfM8ZMtdYmlGZwr5jog/N4Jiaeus9pKmpuZGpqKomJiRw8eJD69euXasz+/fsDsGPHDg4cOECdOp4PAN59910A+vXrR79+/U4rZ2stDz30EC+//DKBgYG8//77jBgxotC+3bp1w8/Pj+PHj7N+/XratWsHeK6i9uzZk7S0NFauXMnixYuJi4sD4PvvvyctLY2QkBA6duxYqvyKe/95/f3vf8ff37/Q9zdjxgwA/vrXvxIbG3tSn+bNm3P99dcTHx9fqtxExEt2fw/TR0LqEU/ssjHQ+2nwO/n3QF7HUzN5aNZmFvzk+X0dHuTPc9e1YGDruuWVsRTDl6cH3OL8usRVsBYwHdjpfH5zIe1FstbmnLpX4Ywx4Tjm1wL8y1WwFvC882sUjqkI4mMK/vWYlpbGhg0buOWWW5g7dy6XX355oXNLk5OTeemll+jWrRuxsbEEBQXl26DAZe9ezx2t2dnZ/PDDDwBcffXVp5VvVlYWN998My+//DIRERF8+eWXRRas4Jgr26ZNG+DkOazgKFoLm0Lget6pUyeCg4NPGvd03n9BnTt3LjS+c+dOjh075s6vKMW1iUglsuFjeH+Ap2D1C4SBU6DP/52yYF33RwL9/7k8X8HavG4UX97bVQWrF/nklVZjTBjg+pdpfmF9rLXWGPMVMBrHPNKK0gVw3V1SVG67jDHbgKY4cnuvgnITLwkJCaF169a88847HDt2jDlz5jBq1Ch2795NVFQUANu3b6dXr175CrKwsDCio6PdNx65ruCeOHHC3efo0aNkZWUBlPrqrcvKlSvd68a+99579O7d+5Tn9OjRg3Xr1rF48WIeeugh0tLS+P7774mMjKRdu3ZkZ2cTEhLCd999R3Z2NgEBAUXOZz2T919QYVdQAQ4dOuR+Xrdu0f8o1atXr5h3LSJel5sDCyfAykmeWFhNGPoR1L+s+FNzLW9/9zsvff0LObme1UhGdWrAI/0uJjig+GJXypdPFq04ij3XVeTi1vBxtdUxxsRYa4+Vb1qA44awgq9fmK043kez8k2njJTjR+lVzZ133smcOXNITExk3rx5DBs2DIBbb72VvXv30qBBA1566SV69uxJTEyM+7ycnBz3nfDWen7ZlsUNAi1atMAYw+bNmxk3bhxt2rThgguKX3y7Z8+evPzyyyxfvpysrCxWrFhBZmYmvXv3JiAggICAAC677DKWLFnCmjVraN26NatXrwYKL1pP9/0XVNjUABHxEelJMPsO+PVrTyy2GQyPh+rF/9F+JCWDcTM3sWz7YXcsKiSAl25oRZ9mpb7fWsqBrxat5+Z5vq+YfnnbzgUqomh15ZZgrU0rpp8rt3OL6eNmjFlXgm4Xl2Qs8a68V0N37nTMYNmzZ4/7Smd8fHyh8z0PHDhQ6HgxMTEEBgaSlZXFH3/8cVo5xcTEMHv2bK644go2btxIt27dWLx4MU2aNCnynK5duxIQEMCJEydYvXp1vqkBLj169GDJkiUsXryYlJQUMjMzCQ8Pp3379vnGOpP3X1J5r8Du27fvpCXH8raJSCV0bCfED4PDP3tiF/WD6yTXqTYAACAASURBVN6G4MhiT1214yj3Td/AoeQMd6zN+dFMGt6GetXDijlTKpKvzmnN+39najH98rYV/3902XG9TnF55W2vqLykksj78Xd4eDjgKNpcXHNFC1q4cGGh8YCAAHcR+MUXX5x2XjVq1GDRokXExcWxb98+unfvzi+//FJk/4iICPcNWIsXL853E5aL63ne9i5duuRbPgvO7P2XVMOGDd1Xbl25FKbgMl4iUgnsWg5Te+YvWLs8AEM/LrZgzcm1vL5wOyPf+T5fwXpXt0bMvOsyFayVjK8WrVWOtbbtqR7Az6ccSLxu2rRp7ueuoq9aNc/qDJs2bTrpnOTkZJ599tkix7z99tsBmDdvHvPmzTvt3GJiYli0aBGXXnopf/75J927d2fbtm1F9ncVpZ9//jlr166lRo0atGrVyt3evn17wsPDWbVqFfPnO6Z4FzY14Ezff0kYYxgyZAgA//73vzly5MhJfX766SdmzZp1Rq8jImVs3fvw4UBIc35Y6h8M174NV0yEYjYaOZiUzo3vrOb1hb/imr4aEx7E+7deyiNXNSXQXyVSZeOr/0WS8zwv7s+kvG3JRfYqW67XOdWfb672ispLvOzAgQM8/vjjfPDBB4BjR6jLLnPcNNC0aVPOP/98AG677TbWrfPMBlm1ahXdu3cnIaHoldFuuukmunTpgrWWwYMH89JLL+Uryvbv389rr73G+PHjT5lndHQ033zzDR07duTAgQN07969yO1fXQXounXryM7Opnv37vnm2AYGBtKlSxfS09PdxWhhReuZvv+SeuSRR4iMjOTIkSP07t2btWvXAo45sgsWLOCqq67Kt0qBiHhRTjbMfxi+uA9ysx2x8FgY9SW0Glrsqd9uP0y/N75j1e9H3bEODWOYf19Xul9U+M2a4n2+WrTuz/O8uLUp8rbtL7JX2XK9TnVjTGgx/Vy5VVReUoHq1KmT7xEdHc0555zj3iK0RYsWzJ49213g+fn5MWXKFAICAvjxxx9p164d4eHhhIeH06lTJ3755Rf3GqOFCQgIYM6cOXTt2pX09HQeeughYmNjqV69OpGRkdStW5dx48YV+3F/XtWqVWPBggV06tSJQ4cO0aNHDzZv3nxSv86dOxMUFOQ+Lmy5qLxFalRUFG3btj2pz5m+/5I6//zziY+PJzg4mI0bN3LppZcSFRVFeHg4ffr0ISsri1dfffXUA4lI+Uo7DtOGwOp/eWJ1WsBflsB5lxZ5WlZOLi/M/5lb3l3D0ROOXdyNgft6NWbanR2pHRVS3pnLGfDVonUb4Nobsnkx/VxtBypo5QDIv2JASXL7sRxzES85ePBgvkdqaip16tShT58+TJ06lbVr13LuufnvwRswYADLli2jf//+REdHk52dTc2aNbn11ltZt24dvXr1KvY1a9asydKlS/noo4+46qqrqFWrFidOnCAsLIy2bdvy8MMP89xzz5X4PURGRvL111/TtWtXjhw5Qs+ePdmwYUO+PqGhoflumiqsaM0b69q1a5F395/p+y+p/v37s379eoYNG0ZsbCyZmZnUrl2bMWPGsGHDBho2bFgmryMip+noDnjnCtiRZ0+gplfDbV9DtaKXpNt3PI2hb63i39/ucMdqRQbz8e0deKB3E/z9tBVrZWeKWxrmbGaMWQZ0BRZba0/618w4LmH9BjQCPrTW3lKwTylfz/WNvLXgblkF+oUDh3Gs1fqktfaZQvrUB3Y5D2+z1pbJOq3GmHVxcXFxeT9aPRXXfMWmTZuWRQoiVZp+nkTO0O9LYeYtkJ5nX57LH4LujxQ7f3XBjwf4+6zNJKZluWNdG9fktaGtqRlx8kYmckpeqfB99UorwAfOrz2MMR0Kab8BR8EK8GHFpATW2hPAbOfhaGNMYfufuiYWJgMnb4skIiJS1ayZCv+9zlOwBoTA9e9Cz8eKLFgzsnN46osf+ct/17kLVn8/w/i+F/PBre1VsJ5lfL1o3YLjr4HZxpheAMYYP2PMDcBUZ7/51tpFeU80xkw0xljno0FhgxtjauZ95GmKKNBW2F0bTwIngHOAL4wxjZ1jhhtjngT+6uz3rLX2zO8uEREROVvlZMGXf4N5D4JrF/WIOnDrPGg+uMjTdh05weB/reS9FbvcsXOrhTDzro6M7n4BfpoOcNbx1c0FsNZmG2OuAZYADYCFxphUHIW6a6b1BmDkab7E4SLik5wPl6eAiQVy22mMGQJ8gmMKw3ZjTCIQAbgm9L0HvHSauYmIiJz9Uo/BJ6Ng57ee2LltYNg0iCp6750vNu3nkf9tISUj2x27omltXr6hJdFhQUWeJ5WbzxatANbaXcaYlsCDwHVAQyALx81N8cAka22ml3Kb58xtPNAbx1XXBByF9FvW2tnFnS8iIuLTDm+H+KFw7HdPrNl1MHAKBBW+9Fx6Vg5PffET8Wt2u2OB/oZHrmrKrZ0blMm21uI9Pl20Alhrk4EJzkdJz5lIgaujhfQ54//zrbU7gL+c6TgiIiI+5beF8MltkJHoifV4DC7/u2ONqsJOOZTMmGkb+PmAZ3nz82PCmDyiDS3rRZd3xlIBfL5oFRERkbOEtbD63/D1o2CdK1cGhsG1/4ZLBhZ52qx1e3ni062kZeW4Y/1bnsPz17UgKiSwyPPk7KKiVURERLwvO9Nxs9X6DzyxqLowPB7OaVXoKScysnni0638b8M+dyw4wI8JVzdjePvzNB3Ax6hoFREREe86cRRm3gx/LPfE6rZz3HAVWbvQU37an8SY+PX8fviEO3ZBrXCmjIzj4jpR5Z2xeIGKVhGRCuCrG7mInLFD22DaUDj+hyfWYghcMwkCT95W1VrLx6t38/Tcn8jMznXHr29bj6cHNiMsSKWNr9J/WSmWMQZrLbm5ufgVs9uIiBTPVbTq40qRPLZ/DbNuh0zXzVMGej0JXR4o9IarpPQsHpm9hS+3/OmOhQX588zA5gxuW/QWruIbVLRKsQIDA8nMzCQ9PZ2wsMKXGBGRU0tPTwccP1MiVZ61sHISfPMk4PwUIjAcBk+Fi/sXesqmPccZE7+ePcfS3LGL60QyeUQcF8ZGVEDS4m0qWqVYkZGRHD16lISEBEJDQ3WVSOQ0WGtJSHBsbhcZGenlbES8LDsD5j4AGz/2xKqd77jhqk7zk7pba/nP8p28+NXPZOV4ptmM7HA+Twy4hJBA/5POEd+kolWKFRUVxbFjx0hKSgKgevXqhISEYIxRAStSDGst1lrS09NJSEggKSkJYwzVqlXzdmoi3pNyGGbcCHu+98TO6whDP4KIWid1TziRyd9nbWLhtkPuWGRwAC8Mbkn/ludURMZSiaholWKFhIRQr1499u7dS1JSkrt4FZHSMcZQr149goODvZ2KiHcc2ArxwyBxjyfWeiQMeA0CTv65+GHXMe6N38CfienuWMt61Zg8PI7za2i6WlWkolVOKSIigoYNG5KYmEhycjJZWVm6E1qkBIwxBAYGEhkZSbVq1VSwStX185cw+07Ici1PZeDKZ+CyMSfdcJWba/nXtzt49Zvt5OR6/q25vUtDxve9mKAA3RRcValolRIJDg4mNjaW2NhYb6ciIiJnC2th+auw6BncN1wFRcL170KTK0/qfjg5g3EzN/Ldr0fcsWqhgbx8Qyt6X1L4eq1SdahoFRERkbKXlQ6fj4UtMz2x6g1g+HSIbXpS9xW/HeH+GRs5nJzhjrWrX503hrehbnRoBSQslZ2KVhERESlbyQdh+gjYt9YTq98FhnwI4TXydc3OyeWfi35l0pLfcM08Mwbu7n4BD1zRhAB/TQcQBxWtIiIiUnb2b3QUrEn7PLG4W6DfyxAQlK/rgcR07p2+gTU7j7ljNSOCeHVIay5vcvJqAlK1qWgVERGRsvHTZ/C/uyDbuQGA8YM+z0OHu0664WrJz4cYN3MjCalZ7linC2rw+tDWxEadvH2riIpWEREROTPWwrf/gKXPeWLB1eCG9+DCXvm6ZuXk8tLXv/D2st/dMT8D91/RhHt6XIi/n9YAl8KpaBUREZHTl5kKn90NP87xxGIawfAZUKtJvq57jqUyNn4DG/ccd8dqRwXzz2Ft6NAo/1xXkYJUtIqIiMjpSdrvmL+6f4Mn1rAb3PA+hMXk6/rV1j95aNZmktKz3bHuF9XilRtaUSNCaxjLqaloFRERkdLbtw7iR0DKAU/s0jug7wvgH+gOpWfl8Py8bXyw6g93LMDP8FDfi7ijSyP8NB1ASkhFq4iIiJTOllnw2T2Q7dxi1fjDVS9C+zvzddt55ARjpq3nx/2eLcDrRocyaUQb4s6vXpEZiw9Q0SoiIiIlk5vruNlq2UueWEi0Y/3VRt3ydf1s4z4e/d8WTmTmuGN9mtXmH4NbUS0sEJHSUtEqIiIip5Z5AubcBdu+8MRqNIYRM6DGBe5QWmYOEz//kRlr97hjQf5+PD6gKTd1rI8xmg4gp0dFq4iIiBQvcS/ED4MDWzyxC3rB9e9CaLQ7tP1gMmOmrWf7wRR3rEGNMCaPiKN53WoVmbH4IBWtIiIiUrQ9a2D6SDhxyBPrMBqufBb8HWWEtZZP1u7lyc+3kp6V6+52Tatzee66FkQEq9yQM6f/i0RERKRwm6bD52MhJ9Nx7BcA/V+BtqPcXVIysnlszhY+27jfHQsJ9OOpa5oxpN15mg4gZUZFq4iIiOSXmwuLnoIVr3tioTEw9L/QoIs7tHVfImPjN7DzyAl3rHFsBFNGxtGkdmRFZixVgIpWERER8chIhtl3wvb5nliti2H4dIhpCDimA/z3+z94du42MnM80wGGtjuPidc0IzTIv6KzlipARauIiIg4JPwB8cPh0I+eWOM+MPgdCIkCIDEti/GzNvPVj55NBcKD/Pm/a1swqE3dis5YqhAVrSIiIgJ/rIIZIyH1qCfWaSxc8RT4Oa6cbtidwNj4DexNSHN3ueScKCaPaEOjWhEVnbFUMSpaRUREqroNH8EX90NuluPYPwgGvA5tRgKQm2t5Z/nv/OOrX8jOte7TbrmsPo/0a0pIoKYDSPlT0SoiIlJV5ebAN0/CqsmeWFhNGPYxnN8RgGMnMvnbzI0s+eWwu0tkSAAvXd+Svs3PqeiMpQpT0SoiIlIVpSfCrNvht288sdrNYXg8RJ8PwOrfj3Lf9I0cSEp3d2l1XjSTh7fhvJiwis5YqjgVrSIiIlXNsd9h2jA48osndlF/uO5tCI4gJ9fy5pLfeG3hdvLMBuAvlzfiwSsvIijAr+JzlipPRauIiEhVsvM7mHkTpCV4Yl3GQc8nwM+PQ8npPDBjIyt+89yQVT0skFeGtKLnxbW9kLCIg4pWERGRqmLtezDvQcjNdhz7B8PAydByCADf/XqYB2Zs5EhKpvuU9g1ieGN4a86pFuqNjEXcVLSKiIj4upxs+PpRWPOWJxZRG4ZNg3rtyM7J5bWF23lz6Q6sczqAMTC2x4Xc26sxAf6aDiDep6JVRETEl6UlwCe3wu9LPLE6LR03XFWrx/7jadwbv4G1f3imC9SMCOaNYa3pfGFNLyQsUjgVrSIiIr7qyG8QPxSO/uaJNb0Grv03BIWz8KeDPDhrE8dTs9zNXRvX5NUhrakVGeyFhEWKpqJVRETEF+1YAp/c4ljayqXbeOj2MJm58OLcn/jP8p3uJn8/w7jeTRjd7QL8/IwXEhYpnopWERERX7NmKswfDzbHcRwQAoPehOaD2X00lbHx69m011PMnlMthH8Ob8OlDWK8lLDIqaloFRER8RU5WY5ide1/PLHIcxw3XNWN48vNf/Lw7M0kZ2S7m3tdHMvLN7SieniQFxIWKTkVrSIiIr4g9RjMvBl2feeJnRsHw6aRHhrLs59u4aPvd7ubAv0N4/tezO1dGmKMpgNI5aeiVURE5Gx3+BeYNhQSPHNUaT4YBk5hx/Ec7nl3BT8fSHY3nRcTyuThcbQ6L9oLyYqcHhWtIiIiZ7NfF8KsWyEjyRPr8Thc/iD/27CPxz/dSmpmjrupX4s6vDC4JVEhgV5IVuT0qWgVERE5G1kL3/8LFjwGNtcRCwyDa98i9cJ+PDlrM7PW7XV3Dwrw48kBlzCyw/maDiBnJRWtIiIiZ5vsTJj3N1j/oScWVQ+Gx/OzacA9k5az4/AJd1OjmuFMHhHHJedGVXyuImVERauIiMjZ5MQRmHET7F7pidW7FDv0I6Zvy2Ti5yvIyM51N13Xpi7PDGpOeLD+yZezm/4PFhEROVsc/Mmxw9VxzyoAtBxG8pUv8+gXv/HFpv3ucGigP88Mas71bet5IVGRsufn7QTKmzEm0hgz0RizxRiTYoxJNMb8YIz5mzHmjBalM8bUNsa8Yoz5xRiTZow5Zoz5zhhzhznFhCFjTIAx5nZjzDfGmEPGmCxjTLIzzzeMMRecSW4iIuJjfvkK/tM7T8Fq4IqJbLn0RQb8a22+gvWi2pF8MbazClbxKcZa6+0cyo0xpj6wFGjgDKUC/oBrQ+UNQC9rbcJpjN0W+Bqo4QylACF4rl5/DVxjrc0s5NzqwHygQ55wMhCa5/wM4CZr7Selza2YnNfFxcXFrVu3rqyGFBGR8mYtrPwnfDMBcP6bHRSBve5t3j96Cc/N20ZWjuff8uHtz2fC1ZcQEujvnXylKvDKnXw+e6XVGBMAfIGjYP0T6G2tDQfCgGE4isQ2wEenMXY1YC6OgvVn4FJrbSQQDowBsoA+wOtFDPE6noJ1IlDTWhuFo+jtDvyIo7D+wBhTt7T5iYiIj8jOgE/vhm+exF2wRp9P0sgv+cua2jz1xU/ugjUiOIB/Dm/D89e1UMEqPslni1bgFqCF8/lga+1CAGttrrV2BnCXs62fMaZXKcd+EKgDpAH9rLVrnWNnWmunABOc/f5ijGmS90RjTDAw1Hn4gbX2KWvtUef5Odbab4GBzvZQYEApcxMREV+QcgjeHwCbpnli51/GpqvmcFX8Mb756aA73KJuNeaO7cI1rc71QqIiFcPXi1aAJdbaVYW0TwdcW4fcXMqxXf2nW2t3FtI+Ccd0AX9gZIG26nimJ6wtbHBr7Q7gmPMwopS5iYjI2e7AFpjaE/aucYds65G81eA1rvtgO/uOp7njt3ZuwKzRl9GgZrg3MhWpMD5ZtBpjwoDOzsP5hfWxjsm8XzkPryzF2BcB559i7BTAtflzwbEPAq7F89oV8RoXADHOw0ILWxER8VHb5sJ/+kDiHsex8SOl+1PccvQWnl/wOzm5jukAUSEBvHVTWyZc3YzgAE0HEN/nk0Ur0BTPe9taTD9XWx1jTEwx/fJqXsj5xY19Sd6gs1h+y3l4izFmgjGmBoAxxt8Y0w34zNn+iXO6gIiI+DprYdnLMGMkZDmvbQRHsa3HVHquaM6yX4+4u8adH828+7rSp1kdLyUrUvF8tWjNO6lnXzH98raVdCJQaceOMsYU/Ij/McC1jclE4IgxJhFIx7HaQSgwHhhewpxERORslpUG/7sTFj/jDtnqDfiw2VT6zw/lUHKGOz66+wXMuOsy6lUP80amIl7jq5sLROZ5nlpMv7xtkUX2KpuxU1wH1tp0Y8wdwBbgOSAQyLu3XhiO6QHBp3gNN2NMSdaxurgkY4mISAVKPgDTR8A+z6/xzHqduDv7fhauzHbHaoQH8cqQVnS/KNYbWYp4na9eaa3UjDENgXXAS8BsHHNbI3HMlR2FY12T8cCyQq7SioiIr9i/Ed7uka9g3X/hMLruH8vCXZ6CtWOjGObd11UFq1RpvnqlNTnP8+I+P8nbllxkr+LHTirN2MYYfxxzVlsAH1prb8nTLwXH2qw/AOuBtjiK1ydOlZS1tu2p+jivxsadqp+IiFSAH+fAnNGQ7VgJwBo/Fp7/AHdujcO1JqsxcF+vxozt2Rh/P6+s5y5Safjqldb9eZ4Xtzh/3rb9RfY6s7GTnKsJuFyJZ/3Ylws70Vr7E/Cl83BwCfMSEZGzgbWw9AX4ZJS7YM0NiuLpqKe585e2uDYbio0M5uM7OnD/FU1UsIrgu1datwG5OIry5hSxNBWelQAOWGuPFdGnoLwrBjR3vlZxY/9UIJ53NYEdxbzOr86vDUuYl4iIVHaZqfDZ3Y6rrE4nIhowPOV+Nid5Pvrv1qQWrwxpRc2I4MJGEamSfPJKq7U2FVjhPOxbWB9jjMGx1SrAglIMvx3YfYqxw4GuRYydm+d5/WJep7bza0mnLYiISGWWuA/e65uvYN0ReSmXHXmUzemOgtXfz/DwVRfz3qhLVbCKFOCTRavTB86vPYwxHQppvwFo5Hz+YSHthXKus+rqP8wY06CQbvfg2MkqB/i4QNv6PM9HF/Yaxpg6wLXOw8J28xIRkbPJ3nWOHa7+3OQOfREygD6Hx5Lk3PiwbnQoM+/qyF+7XYCfpgOInMTXi9YtOCYHzTbG9AIwxvgZY24Apjr7zbfWLsp7ojFmojHGOh8NChn7ZeAAjputvjTGtHWeF2SMGQ24Ftp721q7vcC53wGu31pjjDGvGmPOdZ4fYozpCywDquGYif/q6b19ERGpFLbMgvf7QcoBAHKNP0/bOxh7fATZzll6vS+pzZf3dqFt/ZLucyNS9fjqnFastdnGmGuAJUADYKExJhVHoR7i7LYBGHkaYycaYwYAX+OYo7rWGJPsHDfQ2W0B8EAh5+YaYwY72xs5+zxgjEnBUQS7/pDIAcZpRywRkbNUbi4s+T/4znPPbap/JLen3cuq3GYABPn78Wi/i7mlUwMcs9ZEpCg+W7QCWGt3GWNaAg8C1+G4qSkL+BGIByZZazNPc+x1xphmOJakGgCcB5zAcaPWB8C71trcIs7d4czrTmAgjpu2onHsiLUb+BZ401q7+XRyExERL8tIgTl3wc9z3aHdfvW4KXUcf1jH1qv1a4QxeXgcLepV81aWImcV45iiKVWBMWZdXFxc3Lp1Jdk8S0RETsvxPRA/HA5ucYeW2dbckzGGZOcS3gNansPz17UgMiSwqFFEKjOvfCzg01daRUREKtSeNY4tWU8cdofeyb6K57NHkIM/wQF+TLymGcMuPU/TAURKSUWriIhIWdgYD1/cCzmOWWdZBPBY1q3MzOkBwIWxEUwe0YaL60R5M0uRs5aKVhERkTORmwOLnoIVb7hDx2wkf828nzW2KQA3tK3HUwObERakf3ZFTpd+ekRERE5XRjLMvhO2ezZe/CW3HrdnPcheG0tYkD/PDmrOdXH1vJikiG9Q0SoiInI6EnY5brg65Nmte2FOG+7PuocUwri4TiRTRsZxQa0I7+Uo4kO8VrQaY4KB24Euzjw24ViM/3CxJ4qIiHjbHythxo2QetQd+nf21fwjeyi5+HFjx/N5vP8lhAT6ezFJEd9SLkWrMaYV8B6OHZ3usdZ+X6A9EsdapK3yhAcD9xpjemt9UhERqbTWfwhzx0FuFgAZNoBHs+5gdu7lRAYH8OL1LenX4hwvJynie8rrSusQoDVwEFhdSPtzzvaCagFzjDGXWGszyik3ERGR0svNgQVPwPdT3KHDNoq7Msex3jahVb1qTBoex/k1wryYpIjv8jt1l9PSEcdV1gW2wO4Fxpgo4A5n+04cu0k1B950dmkA3FROeYmIiJReeiJMG5KvYP0ptz6DMp5hvW3CHV0a8slfO6lgFSlH5XWlta7z64ZC2voBwTiK1tustd8642OMMZ1wTBkYCLxTTrmJiIiU3NEdED8Mjmx3h77OaccDWXcTFBbJO9e34opLansxQZGqobyK1prOr38W0tbd+XVvnoLV5RMc0wZallNeIiIiJbdzGcy8GdIS3KFJ2YN4Nft62jWowRvD2nBudKgXExSpOsqraHVt95FVSFsnHFdZFxXStsf5tVZ5JCUiIlJia9/Fzvs7JjcbgAwbyN+z/sIXtjP39LiQ+69oTIB/ec2yE5GCyqtoPYGjcI3NGzTG1ACaOQ9XFHKe6+Yr/RYQERHvyMmGrx+BNW9jnKFDNpo7M8exL/wSPhzamq6NdW1FpKKVV3G4w/n18gLxQeD+HVBY0eoqchPLIykREZFipSXAx4Nhzdvu0JbcBlyT8QwRF3Rg3n1dVbCKeEl5Fa1LcRSng40xgwGMMfWAR53tu6y1Pxdynmsu6+/llJeIiEjhjvyKndoLfl/qDs3N6cDQrAnceOVlfHhbB2IjQ7yXn0gVV17TA/4NjAECgZnGmEQgEkeRbIEpRZx3hbN9fTnlJSIicrIdi8mdOQq/DM8Hfa9lDWZm2HDeGx5Hh0Y1vJiciEA5Fa3W2t+MMWNwFK9+QHSe5iXAPwueY4zpADTEUbR+Vx55iYiI5GMtrJlK7lcP42dzAEizQfwt66+kNb6aL4e0JiY8yMtJigiU35VWrLXvGGPWAbcBFwKpwDfAf6y12YWccgPwB46i9evyyktERASAnCyy5z5IwIb33XPlDtjq3JX9IAP69uP2Lg3x8zPFDiEiFafcilYAa+0GYGwJ+z4IPFie+YiIiACQeoy0j0cQum+VO7QxtxETwh5j4ohetDm/uheTE5HClGvRKiIiUukc+pkT719PeOoed+iznE4svPAJPhxyKdVCA72YnIgURUWriIhUGRnbvsJ+chvhuSfcsVdzhlLrqkf452UNMEbTAUQqKxWtIiLi+6zl0DevUWPlM/iTC0CqDeb50AcYetPdNK9bzcsJisipnFHRaoxZXFaJFGCttb3KaWwREalCbHYGO9+/i0Z757hj+2wNpjV8gfHDryMiWNdvRM4GZ/qT2h3H3f5lyZTDmCIiUgWlJBzgwNs3cGHaZndsg23M7iun8mCn1poOIHIWKYs/L0/1E+8qQIvrV5I+IiIiJfbrltVE/m8kF9rD7tg3gT1ocOs7DDy3phczE5HTcUbbuFpr/Yp6ANWBOTgK0T3AeKAdjo0GAp1f2znjfzj7/Q+Ittb6n0leIiJSdVlrWfzZ+5wz6xrqOAvWXGuYV2c0XR6cRWMVrCJnpXKZyGOM8Qc+B7oAM4DbvmirggAAIABJREFUrLVpBbol4diudb0xZhLwLjAUqGGM6WWtzS2P3ERExHclpmay6J3HGHR0Kn7G8SHeCRvClo6v0O+qG72cnYicifKafX470BX4CbipiB2w3P6fvfsOj7JK+zj+vTMptIAUEQEBsYJYCIrYURTFuooCimLF3tvaxbp2XRsWROmgq2IBBPUFRWwQWaUpIqBI74SE9PP+8TzJTLIpE5LJJJPf57rmmpnznHPmzmQSbk5Occ5lmtkg4GDgWL/9mxGKTUREYtC85Wv4e9RVnJM3o3Cy2Zq43cjtN5Ye+x8a1dhEpPIqNT2gDBfizVMdUV7CWsCv9zber5qLIhSXiIjEGOccE7+eTf7wU+mTN6Ow/M9GB9P0ppm0VcIqEhMiNdK6n3+/vILt/izWXkREpFSZOXm8NXYc/Zbew65xWwvLV3Q4l/YXDoX4xChGJyJVKVJJa7J/37KC7QrqJ5dZS0RE6rwVmzKYOOwxrkofSqLlAZBHHFuOGcIeJ9wI2s5KJKZEKmldCXTEW1j1SgXa9Q9pLyIiUqIZC/5m3Xs3cwOfF85f3R5oQkL/kTTft2dUYxORyIjUnNbP8H6NHGVmD4bTwMzuw9ttwAGTIxSXiIjUYvn5jtcnfUvDCWfTj88Lyzcl70/D678mSQmrSMyKVNL6NJDuP37AzL4wsz5mVj+0kpnV98unAQ/5xenAMxGKS0REaqktGdk8/PpozvxxIIfFLS4s37znGTS7YTrWtEP0ghORiIvI9ADn3F9mdhHeHq3xwPH+Ld/M1gAZQAOgFcHE2YAcvC2yVkQiLhERqZ3mr9zKxHee4e7soSRZDgD5xLHj2Ptoevytmr8qUgdEak4rzrmJZnYC8Bawr18cANrgTQEo/hvmN+By59y3kYpJRERqn/d+WEb6pLu5L25K4b8cmYFkEvq/TcN9T4pucCJSbSKWtAI452aZWWfgDOBs4DCgNdAI2A6sAn7EO+71U52CJSIiBTJz8njqg1n0mn8XRwUWFJZvb7wPjS6eAM33imJ0IlLdIpq0AviJ6Ef+TUREpFwrNmXw1Ij/cOfmh9kjsL6wPL1jHxr1fxOStDOiSF0T8aRVRESkIr5avJ5J417mqfxXqR+XXViefezdNOx5J8RFag2xiNRkSlpFRKRGyM93vPJ/vxE/41Geiv+kcP5qdqAhCee9SeL+p0U3QBGJKiWtIiISdVszcrh33EzOXT6EnvE/F5ZnNt6TehdNgF11urdIXRfRpNXM4oF/ACcDnYGmQL0wmjrnnGbYi4jUAfNXbuXJUR/ycMbj7BlYW1ieteeJ1Ov3FtTfJYrRiUhNEbGk1cy6AuOBvYtfCqO5q/qIRESkpnlvzgqmf/Q2Q+NeoVFcZmF5/lG3ktTrPogLRDE6EalJIpK0mlkb4AtgF4JJai6wAciKxGuKiEjtkZWbx0Mfzafl3Bd4Nf6DwvLcQH3izxlK3AFnRzE6EamJIjXSehfeVAAH/ADcB3ztnMuJ0OuJiEgtsXLLDm4bOZPL1j9B7/jUwvKcxu1IuGActOoSxehEpKaKVNJ6Ml7CugA4zjmXXU59ERGpA2b+vp5nxk7imbyn2CewsrA8r8OxJPQbAQ2aRTE6EanJIpW0tvXvhylhFRGR/HzHqzOWMOfLdxkV/zKN4zIKr7ke1xE46WEIaEMbESldpH5DpANJwMryKoqISGzbuiOH2ybMZZ/f32J4/ATizFtrmx9IIu7Ml7CD+0c5QhGpDSKVtP4KHAnsHqH+RUSkFli4ahu3jJ7FDWkvcHrC94XleY1aE7hgLLTuGsXoRKQ2idRZeKPwdg04K0L9h83Mks1siJnNM7PtZrbVzGab2W1mlljJvnczs2fN7Dcz22Fmm8xsppldYWbhbO2Fme3t9zHfjy3dzJaa2UQzu7Yy8YmIRNP7qX9zw9APeWH7nZweCCas+e2OIHD1V0pYRaRCzLmq3xLVzALAV8ARwJXOubeq/EXCi6M9MAPo4BdlAAG8qQsAc4FezrnNO9F3N2Aq0Nwv2o53cELB6PVU4Myy5vSa2c3AEyHxZAD5QCP/+VbnXJXtqm1mqSkpKSmpqanlVxYR2UlZuXk88ulClv44mVcSXqSpbQ9ePGwwnPw4xFdqzEBEoiusgbmqFpGRVudcHt4o60zgDTN7w8yqdQ8T/zSuT/AS1tXASc65hkADYACQBnQFRu9E302AT/ES1l+Bw5xzyUBD4HogB28HhRfK6ONW4Hm8JPpfQEfnXEO/n2bAKcCwisYmIhJNq7bsoP9r35E4+3VGJjxRmLC6uAQ440U47RklrCKyUyI10rrUfxiPt5NAwYtkABvxRhPLUuljXM3scoJJ35HOue+KXT8fGOs/PdE592UF+n4Eb+/ZHcABzrllxa7fDTwO5AGdnXOLi10/EEgFEoBznXPvh/2FVYJGWkUkkmYt2cDtY7/n9pzX6BuYWVie32g34vqPhj26RzE6EalCURlpjdRCrA4EE1VH8Itr6N/KUxWZ9MX+/fTiCatvPPAYsCcwCAg7afXrA4wvnrD6XgLuwfsz/0DgwWLX78FLWCdWV8IqIhIpzjmGfvUHY6Z+y2sJz3NwYGnwWptDvYS1sdblikjlRCpp/YuqSTx3ipk1AI7yn04pqY5zzpnZZ8A1QO8K9L0f0K6cvreb2Uygj993YdJqZg2Bvv7TUeG+rohITbQtM4fb3v2ZzYu+YmLiC+xq24IXu16InfYcxCeV3oGISJgikrQ65zpEot8K6ERwvu78MuoVXGtlZs2cc5vC6Dt0bm55ffcBOhcr7443ygqQamZHA3fgbRGWjDf/dgbwrHOurP5FRKLq1zXbuHpUKkdt+ZhXE0eQYHkAuLh47JQn4LArILyNVEREyhWrx4+0Dnlc1gEHoddaA+EkrRXtu7GZNXLOFSyf3TekTj/gSbzpE9vxFnB1AC4BBprZVc65t8OICTMLZ6Lq/uH0JSJSnolzV3L/B6nc7d7mgoT/Kyx3DZpj/UZCh6OjGJ2IxKJI7dMabckhjzNKrVX0WnKptaq276Yhj58AfgYOd84l+zsH9AB+wRuNfcPMtHJBRGqM7Nx8HvxoPo9NmM7b9ggXxAcTVlodhF35lRJWEYmIWB1prclC/6OQCZzmnFtVUOCc+8HMTgd+A+oD9xLGIQ3OuW7l1fFHY1MqHLGICLB66w6uG/MT+Svm8EnS87SykC2uDzzP29IqsUH0AhSRmFYtSauZNcZbkHQ43tGuyXj7pK4CfgSmOufSqvAlQ/sq6zdo6LVwX79439tKqVda36GPx4YmrAWccyvMbCxwOdDLzAL+3rciIlHx7R8buHHcXI7fMY1HE4eTZLkAOIvDTnoYjrhe81dFJKIimrT6x6Q+AlxN8JSnkmw3s6HAg865rCp46dBEsA3en9tL0qaUNhXpu7SktaDvbSHzWaHoPNhFZbzOQv++Id4hBuvCjE9EpMo453j966U899l87g6M4dKEqcFr9XbBznsb9johihGKSF0RsaTVzJoC/wccRPmb0CbjraDvbWY7daxqMYvwDjCIw1vtX+LWVAR3AlgT5s4BUHTHgC6UnngW9L2wWHlpCXRxoe9Z1LYPE5G6Ky0zhzve+4UfFyxmRMKLHBEI+XXWsjM2YAw06xi9AEWkTonkQqz3gYPxkq8M4C2gP97Rqfv49/3wTq1K9+sdDPynsi/snMsAZvlPTympjpkZ3lGrANMq0P1ivH1oy+q7IXBMSX0755YABTtvdyrjdQq2ytqGd4qYiEi1Wbw2jbNensWKhd/zcdJ9RRPWTmfC5Z8rYRWRahWRpNXM/gH0xBshnIN3lOlg59x7zrmfnXN/+Pf/cc5diZegzcZLXHuaWbkLj8Iwwr8/3swOL+H6eUDBb9yR4XbqvHNvC+oPMLMOJVS7Dm86RB4wpoTr7/j3F5hZ6+IXzWwP4Hz/6WTnXHnH3oqIVJmPf17FWS/Posumz/lP4hDa2gYAHAYn3Af9RkJSWTO+RESqXqRGWgsSrrVAb+fcX2VVds6twBu1XOsXDayCGEYA8/AS4ffNrBeAmcWZ2XnAm369Kc65Ike4mtkQM3P+rUMJfT8DrMFbbDXJzLr57RLN7Bq8ebwAbzjnFpfQ/jngz5D2hdta+Y8/xds5YAfwcIW/chGRnZCdm8+Qjxdw87hUbnKjeDHxZepbtncxqTF2/ng49g4tuBKRqIjUnNbD8UZZhzvntoTTwDm32cyG4W3xVNLIaIU453LN7ExgOt6G/V+YWQZeol7PrzaXnUiQnXNb/W2ppuKNEs8xszS/34LTrqYBt5TSPt3MTgG+AA4BfjCzgsVaBcMX24HznXNlLdYSEakSa7dlct2Yn/j9zxW8k/ASxwbmBS823wcGjIVd9y29AxGRCIvUSGtL/35embX+V8Eip12rIgjn3HK8hWAP+307vFOnUoHbgR47u+jLOZcKHAA8D/yOl6ymA98Ag4E+Ze2E4Jz71W//MMHFWQG8/VlfBLo45z7dmdhERCri+6UbOe3Fb9j21y98lHh/0YR131Ng8JdKWEUk6sybolnFnZptwdsR4HLn3DsVaHcJMBxvm6hdqjywOs7MUlNSUlJSU8M58VVEYp1zjmEzl/HEZ79yIj/wXMJQGlrI/7WPvQN63gNxsXp4oojspKjMEYrU9IAVeH82P57goqNwFGz2t6KqAxIRkaDtWbnc+Z+fmTJvFTfHv89N8R8GLyY0hLOHQueqWBMrIlI1IpW0fon3p+/zzewN59ys8hqY2ZF4C7ic315ERCJgybo0rhqVytr163kj4VVOCvwUvNi0AwwYB7t1LrW9iEg0ROpvPq/hbfcUAKaY2ZVmVmKCbGYBM7scmOzXz/Pbi4hIFfv0l1Wc+fIs3IbfmZj4QNGEtePxMHi6ElYRqZEiMtLqnPvVzB4H7sc7hnQo8KiZzcDbnD/dL98Hbz/XFnjzIxzwuL9ISUREqkhOXj5PTPmVt75ZxvFxc/l34ss0th3BCkfeAL2GQCCip3uLiOy0iP12cs49aGaJwJ14CWkLoG8p1Q3v2NUnnXNDIhWTiEhdtG5bJtePncuPyzdybeAjbo9/jzjzF+HG14MzX4aDzotukCIi5Yjof6mdc3eb2cfAHUAfIKmEalnAJOBp59wPkYxHRKSu+XHZJq4b+xPpaVt5JeE1Tgv8GLzYZA/oPxpaHxK9AEVEwhTxvwM5574DzvFHXQ8GdsfbDisNWA387JzLjnQcIiJ1iXOO4bOW8/jkRbR2axiZ+Byd4kI2Zml/NJz3DjSqkm2xRUQirtomL/mJ6ezqej0RkboqPSuXf77/C5/+spqj4+bxcuKL7GLpwQrdr4KTH4NAQumdiIjUMJpxLyISQ5as287Vo1NZsi6NKwKTuTt+LIGC+auBRDj9eeh6YXSDFBHZCRFLWs1sD7wFVlucc9vCqN8Y2AXId879Ham4RERi1eR5q7njvZ/Jzd7B8wlvcnYgZIvs5N29+attD41egCIilRCRpNXMugPf4+0IcCIwI4xmh/j18s0sxTn3SyRiExGJNbl5+Tz52a+8OXMZrdnA64nPcWDc8mCFtt2h/yhIbhW1GEVEKitSI639/PvfnXMzwmngnPvazBYB++OdjKWkVUSkHOvSMrlh7Fx+WLaJ7raIVxP/TQsL+eNWyiA49RmIL2nzFhGR2iNSSevReAcFTK5gu8lAJ+CYKo9IRCTGzFm+iWvH/MS6tEwuCnzOA/GjSLA872JcPPR5Eg69HMyiG6iISBWIVNK6j38/v4LtFvj3+1ZhLCIiMcU5xzvfLuexSYuIy8/mifi3GRA/I1ih4a7QbyS0PzJqMYqIVLVIJa3J/n25C7CKSfPvm1RhLCIiMSM9K5e7P5jHxz+voiWbeS3xeVLilgQr7H4IDBgDTdpGL0gRkQiIVNK6DWjq3yqimX+/o8xaIiJ10NL13nZWi9dup6v9zmuJz7ObbQlWOGgAnPECJNSPXpAiIhESF6F+C7asOqqC7Qr+lrWqCmMREan1Ppu/hjNfnsXitdvpF5jO+MRHggmrBeDkf8HZrylhFZGYFamR1q+Ag4B+Znafc25leQ38fV374y3g+ipCcYmI1Cq5efk8Pe03Xv9qKfHk8nD8KAbFfx6sUL+pdxxrx55RilBEpHpEKmkdCdwA1AM+NrM+zrl1pVU2s92AiX59B4yIUFwiIrXG+rQsbhw3l++WbqQ5W3k18d8cHvdrsMJuXbz5q007RC1GEZHqEpHpAc65VGAc3olYhwDzzew+MzvYzBIBzCzRf34/MM+v54D/OOe+j0RcIiK1ReqfmznjpW/4bulGuthSPk66r2jC2vkfcPk0JawiUmdE7BhXYDDe1leHAs2Bh/wbZpYHBELqFmwi+CNwaQRjEhGp0ZxzjPzuTx6dtJCcPMdZcd/wZMKb1LMcv4ZBrwfg6Fu0/6qI1CkRS1qdcxlmdgzwPHBFsdcq/ro5wJvAbc65rEjFJCJSk2Vk53LPB/OY+N9VBMjj3vhxDI4POaMlqQn0HQb79o5ekCIiURLJkVb8BPRaM/sX3iKro4G2QGO8bbH+BmYCE5xzf5fakYhIjFu2IZ2rR6Xy29o0diGNlxJe4phAyPksLfaDAWOhxd7RC1JEJIoimrQWcM6tAJ7xbyIiEmLagjXc9u7PpGXlsp/9xZsJz9Iubn2wwn6nwtmvQ73G0QtSRCTKqiVpFRGR/5Wbl8+zny9m6Iw/AOgT9wPPJLxGQwuZJXXcXXDcPyEuUttqi4jUDkpaRUSiYOP2LG4cP5dZSzYSRz63xr/H9fEfBSskNvJGVzudHr0gRURqkIgnrWYWAM4DegOd8I52TXDO7VWsXhe8ua5bnXMLIh2XiEi0zP1rM9eO+YnVWzNJJoMXEl6hV2BusEKzjt781ZadohekiEgNE9Gk1cx64h0U0Da0GG8/1uL+gbclVpqZ7e6c2xHJ2EREqptzjtE//MXDnywgJ8+xl63kzYTn6Bi3Olhp7xO9HQLqN41eoCIiNVDEJkmZ2RnA53gJqwF5wNYymrwO5APJwGmRiktEJBp2ZOdx23s/c//E+eTkOXrFpfJR0gNFE9ajboYL3lXCKiJSgogkrWbWAhiNd4DANuByYBfKODjAObcemOU/PTEScYmIRMOfG9M5+9VZfPDTSox8bgh8wFuJz9II/w9K8fWh71tw0kMQFyi7MxGROipS0wNuwBsxzQZOcs7NAbDyT2/5HjgW6BqhuEREqtUXC9dyy7v/JS0zl4bs4JmE1+gTmB2s0KQdDBgDux8UvSBFRGqBSCWtffDmrb5bkLCGabF/37HqQxIRqT55+Y7nP1/My9OXANDO1jIs8Vn2tZBzVDocA+eNgIbNoxSliEjtEamktWBngOkVbFcw51U7aItIrbUpPZubxs9l5u8bADgm7hdeSXyJxqQHKx1+DfR+BAIJUYpSRKR2iVTS2tC/31bBdvX9+8wqjEVEpNr8vGIL1475iZVbdgCOwYFJ3J0wnjjyvQqBJDjjBTjkgqjGKSJS20Qqad0ItAJ2q2C7ffz79WXWEhGpgSbM/ov7Jy4gOy+femTxZMKbnBX4NlghuTX0Hw1tu0UvSBGRWipSSesCvKS1J/BqBdqdiTcXdnZ5FUVEagrnHC988Tv//vJ3ANqwnmH1nqcTy4OV9ugB/UZCckX/Ly8iIhC5fVon4e3NeqaZdQ6ngZldBBzsP/04QnGJiFSpvHzHPR/OL0xYe8QtZFL9+4smrN0uhYs/UcIqIlIJkUpahwHrgARgkpkdWFZlM7sC73ABBywFJkQoLhGRKpOZk8c1o1MZ9+NfgGNQYCpjEh9nF+dP549LgNOf9+awxidGNVYRkdouItMDnHPpZnYp3ohpOyDVzL4E0grqmNmDeKdl9QLa443MZgEDnXP5kYhLRKSqbM3IYfDIOfy4fBPx5PJQ/AgGxn8ZrNCwpTcdoP0R0QtSRCSGRGpOK865KWY2AHgLbwur3gWX/PsHQqobsAUY4Jz7MVIxiYhUhdVbd3DJ8Nn8tjaNJmzn1YR/c1RgQbBC6xRvwVWTNtELUkQkxkRqegAAzrn3gS7Ay8BmvOS0+C0NGAoc6JybFsl4REQqa8m6NPq++i2/rU1jL1vJxMT7iyasXc6FSycrYRURqWIRG2kt4Jz7G7gRuNHMDgA6AE2A7cBKYK6mA4hIbZD652YuHzGbLRk53oEBCS/S2DKCFU64D465Hco/slpERCoo4klrKOfcArztsEREapUvF63lurE/kZmTx8WBaTwQP5KA+bOdEhrA2a9B57OiG6SISAyr1qRVRKQ2enf2Cu7+cB6Wn8NjxRdcJbeG88dB60OiF6CISB0QlaTVzJKA7kBrvGkCC51zy6IRi4hIaZxzvDJ9Cc9MW1zygqs23WDAWEhuFb0gRUTqiCpJWs2sPt6iqnznXGY5de8F7gQaFSv/FrjWOTevKmISEamMvHzHw58sYMR3f7KXrWRYwjPsGbc2WKHLuXDWy5BQP3pBiojUIZXePcDMWuDtAJCGd0BAWXXfBh4GkvnfXQSOAr4xs66VjUlEpDKycvO4cdxcRnz3J8fE/cKHiQ8WTVhPuA/6DlPCKiJSjapipPVEvOTXAa+VVsnMzgUuJrhPay6wGMgGDgQCeMnsO2bWVTsKiEg0bMvM4cqRc/h+6UYtuBIRqUGqYp/WHv79Kufcd2XUuy/k8TfAns65Ls65FGAf4Cf/WhegTxXEBYCZJZvZEDObZ2bbzWyrmc02s9vMrFLnKprZbmb2rJn9ZmY7zGyTmc00syvMKr7njZlNMTPn32ZUJjYRqbh12zLp//r3zFm6jsfih/NQwohgwprcGi6dooRVRCRKqmKk9WC80dMvSqtgZp2Ag/x624CznHObC64755ab2T+A34B6wFnApMoGZmbtgRl4e8MCZABJwKH+baCZ9QqNpQJ9dwOmAs39ou14I8VH+7dzzexM51x2mP1dApxS0ThEpGosXb+dQcN/JG3zekZowZWISI1TFSOte/n3c8uo0zPk8ZiSkkT/EIKJePNbUyoblJnFA5/gJayrgZOccw2BBsAAvDm4XYHRO9F3E+BTvIT1V+Aw51wy0BC4HsgBTgZeCLO/VsBzeEfZLqpoPCJSOT+v2MK5r31H0pYlJZ9wdckkJawiIlFWFUlrwUjjmjLq9Ah5XNZRrQXTC9pXKiLPxXhzZQH6Oue+AHDO5TvnJgBX+ddONbNeFez7dqAVsAM41Tk3x+872zn3CvCgX+9KM9s3jP5eBZoCdwDrKhiLiFTCjN/WMeCN7zlgxxwtuBIRqcGqImlN8O9dGXUODXn8fRn1Cv61SK5URJ6L/fvppcy1HQ8U7A07qIJ9F9QfX8r+si/hTRcIAAPL6sjM+gFnA18Bb1UwDhGphA9++psrRsymX/5k3kl4Mngka0ID6DcSjr1DR7KKiNQQVZG0bvPvdy/popk1AvbDS2pXOufKGkksiKesBLhcZtYAbwstgCkl1XHOOeAz/2nvCvS9H9CunL63AzPL69vMmuMluFnAlX5MIlIN3vj6D+58N5WH4t7SgisRkVqgKpLW5f790aVcPy7kdcraXQBgV/9+ayVj6hTymvPLqFdwrZWZNQuz7y4ltC+r785l1HkRaAk84pxbHObri0gl5Oc7Hv10Ia9MnsOIhCeLHsnaphtcOV1HsoqI1EBVkbR+h7d46kwz26eE61eEPC51hwFfwb8UyysZU+uQxyvLqBd6rXWptSrXd2N/tLkIMzsDuAAvuX0qzNcWkUrIzs3nlnf/y/RZ32jBlYhILVMVW16NBq7Dm9v6mZldDXyNN2p6A972VQCZwH/K6etYvKkBZY1ghiN0TmxGGfVCr4U7j3Zn+95e8MTffeA1IB8Y7JzLCfO1S2VmqWFU27+yryNSW23PyuWa0anwx//xYeKLwfmr4C24OuZ2zV8VEanBKp20Oud+MLMPgHPwtpf6rKRqwNCy9kP19z3d26/7TWXjquGexRuxfdk5V9bCNBGpAhu2Z3Hp8B9JWfseDyQET7hyCQ0wnXAlIlIrVMVIK8BlQFugeynXf6DoiVgludq/d5S9LVY40kIeNyijXui1tFJrld33tlLqldi3mZ0IXA78DdwT5muWyznXrbw6/mhspffAFalN/tyYzqVvfcvl24YyMCE4f9Ult8bOH6f5qyIitUSVJK3OuW1mdjTexvoX4P0ZOgD8AYwDnnfOZZbW3sxa4q2yXwv84pxbVcmQQtu3AX4ppV6bUtpUpO/SktaCvrf5uwkUeNO/vxNwJcx3DRTch1zb4ZzLCzM+EfHNX7mVG4d/ySPZz3BUfNETrkwnXImI1CpVNdKKcy4X7wSosE6BKtZ2HVVzoECBRXjzRePwVvuXuDUVwZ0A1jjnNoXZd+h82y6UfoJVQd8Li5V38O/HlvM6RxMcoT0b77QwEQnTN79v4IlRH/EWT7JnIOTAgC7nwlkv68AAEZFapip2D6hxnHMZwCz/6Skl1TEzwztqFSo2HWEx8Fc5fTcEjtmJvkWkCnz88yreGjGMsXafTrgSEYkRMZm0+kb498eb2eElXD8P6Og/Hhlup/4BAAX1B5hZhxKqXQc0AvKAMcXaW1k3vJOxAL4KKdcoq0iYhs9cSuq7TzAs8EThDgH58fV1wpWISC0X60nrPLw9ZN83s14AZhZnZucRnFs6xTn3ZWhDMxtiZs6/dSih72eANXiLrSb5Ox9gZolmdg3wiF/vDR0aIFI9nHM8NWk+SVNvL3LCVV6j1sRdPlU7BIiI1HJVNqe1pnHO5ZrZmcB0vHmkX5hZBl6iXs+vNhcYuBN9bzWz04GpeCdezTGzNL/fBL/aNOCWSn0RIhKWnLx8Hnr3G/osvKvIgqvc3bsRf4EWXImIxIJYHmnFObccOAh4GG8BlQNygFTgdqBHWXvHltN3KnAA8DzwO16ymo63x+xgoI9zLqtu85A0AAAgAElEQVSSX4KIlCMjO5cH3vqAyxddUeSEq9zOfYm/TCdciYjECvOmaEpdYGapKSkpKamp4RyeJVLzbUrP5sU3XufWLY8XOeEqr+e9BI7T/FURkQiJyi/XmJ0eICKxbcXGdCa+8SD3Zw4rnL+aE1eP+L6vEzjgH1GOTkREqpqSVhGpdRb9vZFFw6/mhvxphf/fT6+3Gw0vfg92Pzi6wYmISEQoaRWRWmX2oj/IGz+Icyx4zsfmZgfT9NJ3NX9VRCSGKWkVkVrj61mzaDftMjrYmsKyDR3OoMXAN3VggIhIjFPSKiK1whefjqP77FuLLLhad+gdtDztXi24EhGpA5S0ikiN5vLzmT7qUY5f+lzhgqsdJJF+6su07N4vytGJiEh1UdIqIjVWbnYWc14bzAmbPipccLUhrgXxAyfQYq9DoxuciIhUKyWtIlIjZW7bwLJXz6VH5tzCsj8S92f3q9+nQbO2UYxMRESiQUmriNQ421YsIP2dc+mUt6qw7KfGvTjw2lEk1GsYxchERCRaYvoYVxGpfTb+PIW4t05i95CE9au2V9H15v8oYRURqcM00ioiNYNzrPvyRZp/M4QA+QBkuCS+O+gxevUdHN3YREQk6pS0ikj05eWwbsKNtFw8trBotWvGbye8Sa/jToxiYCIiUlMoaRWR6MrYxMZ3zqfluu8Li352e5PZdxQ9D+ocxcBERKQmUdIqItGzfjFpb/elecZfhUWf2dHscelwDm+/WxQDExGRmkYLsUQkKtySL8l67XiSQxLWNxMG0um6CRyghFVERIrRSKuIVC/nyP/hdfjsbpJCFly9kHwrg6+6hV2Tk6IcoIiI1ERKWkWk+uTlkPvp7cTPfaewaJVrxiu7Pcrdl/enUZJ+JYmISMn0L4SIVI+MTeROGET8nzMLi+bm7837+zzJg+efQGK8ZiuJiEjplLSKSOStX0zumH7Eb1lWWPRR3pEsOPQxHj6jK3FxFsXgRESkNlDSKiKRteRL8t69hPjsbYVFT+f0o/FJ/+Tu4/bCTAmriIiUT0mriESGc/DjG7jP7iLggguu7si9hl59B3NOStsoBygiIrWJklYRqXp5OTD5Dkh9m4Jx1FWuGdfn38mNg/rSc7+WUQ1PRERqHyWtIlK1MjbBexfDsq8Li+bm780/4//JU1f05pA9dolicCIiUlspaRWRqrN+MW5cf2zT0sKij/KO5N8Nb2TY5cfQcddGUQxORERqMyWtIlI1lnyJe+8SLKvogqv/2/Uixl/WnZaN60UxOBERqe2UtIpI5YQsuLKQBVe35lzDlg6nMGHQoTSulxDlIEVEpLZT0ioiO6+UBVeDs2+nfZcevNPvEOolBKIaooiIxAYlrSKyc0pZcHVl9i30OeIQHjzjAAI6NEBERKqIklYRqbj1i2Fcfyi24OrOnCu58eQDubanDg0QEZGqpaRVRCpmyZfw3qWQtbWw6OmcfgzNP4t/9T2I/oe1i2JwIiISq5S0ikh4/AVXfHYXFFtwNT2uB29clMKJnXeLcpAiIhKrlLSKSPlCFlwVKFhw9Xe9fRh7yaF0a98sigGKiEisU9IqImUrY8FVQpPdef/y7uzdMjmKAYqISF2gpFVESlfGgqv2uzVjxGXd2b1J/SgGKCIidYWSVhEpWSkLrl7JO4vDOjRj2KDDaNJAhwaIiEj1UNIqIkWVsuDqlpxrmJrfnZM678ZL53fVoQEiIlKtlLSKSFAZC64WuA6c370dj5x1APGBuCgGKSIidZGSVhHxlLHgaj1NuanXPtx84j46NEBERKJCSauIlLngKscSefSsLlzYo30UAxQRkbpOSatIXVfGgqvE+ACvDjiEU7rsHsUARURElLSK1F3lLLhKrhfPsEGHcnjH5lEOVEREREmrSN1UzoKr3RonMeKy7uzfqnEUgxQREQlS0ipS15Sz4Krjrg0ZeVl32jZtEMUgRUREilLSKlKXlLHgKotEurbbheEXH0bTholRDFJEROR/KWkVqSvKWHAFxgn7t+TlC7rSIFG/FkREpObRv04isa6EBVeZJHFTtrfgCuC8bm15/JwDSdChASIiUkMpaRWJZSUsuFpnzbk08zYWuA4AXNtzL+44eT8dGiAiIjWaklaRWFXCgqv5tg+X7riZ9TTFDB48vTOXHLVnFIMUEREJj5JWkVhUwoKryRzFLTsGk0UiiYE4nut/MKcf1DqKQYqIiIQv5iewmVmymQ0xs3lmtt3MtprZbDO7zcwqtUTazHYzs2fN7Dcz22Fmm8xsppldYWX8rdXM9vZf/xMz+9PMssws3cwWm9lbZtatMnFJHbfkSxh2YpGE9bm8/lybeS1ZJNIoKZ53Lj1MCauIiNQq5pyLdgwRY2btgRlAB78oAwgASf7zuUAv59zmnei7GzAVKDguaDtQj+Do9VTgTOdcdrF2RwHfFOsuzY+pIInOBx5zzj1Q0bjKiTk1JSUlJTU1tSq7lZqihAVXuYF63JB5NVPyvAVXLRol8c6lh9GlTZNoRioiIrVbVBZBxOxIq5nFA5/gJayrgZOccw2BBsAAvESxKzB6J/puAnyKl7D+ChzmnEsGGgLXAznAycALJTRPAPKAicB5QAvnXGM/ru54CW0ccL+ZXV7R2KSOytkBH10PU+4sTFjTEltyVsYDhQlrh+YN+OCaI5WwiohIrRSzI61+wjfMf3qkc+67YtfPB8b6T090zn1Zgb4fAe4DdgAHOOeWFbt+N/A4XnLa2Tm3OORaW6C+c+73UvpOBGYDBwF/OOf2DjeuMOLWSGss2rQUJgyCtfMKi/5q0Jm+m65jPU0BOKhtE4ZfchgtGiWV1ouIiEi4NNJaxS7276cXT1h944GCZHNQBfsuqD++eMLqewlvukAAGBh6wTn3d2kJq389m+Do715m1rSCsUld8uskeL1nkYT120YncdKmOwsT1mP33ZVxg3soYRURkVotJpNWM2sAHOU/nVJSHecNMX/mP+1dgb73A9qV0/d2YGZF+w6RGfI4sBPtJdbl5cIXQ2D8BYUnXLlAIq83vpELNlxClj89+uyubRg26FAaJmmjEBERqd1i9V+yTgQT8vll1Cu41srMmjnnNoXRd5cS2pfWdx+gcxh9FtfTv18NbNyJ9hLLtq+D/1wGy2cWFm1L2p3LMm5gTnqHwrIrj+3IXafsT1ycDg0QEZHaL1aT1tC9fFaWUS/0WmsgnKS1on03NrNG/uhruczsCOAf/tNhLsxJx2YWzkTV/cPpS2qwv76Hdy+G7WsKi761rly79Wq2kFxYdu+pnRh8bMdoRCgiIhIRsZq0Joc8ziijXui15FJrVU3f5SatZrYrMA5vlPh34KkwY5JY5xx8/yp8/gDk5wKQj/F8Tl9ezvsHzv/Dwv6tknng9M4cuXeLaEYrIiJS5WI1aa11zKwR8DHQHm87rvPCHZ0FcM6VeyCBPxqbstNBSnRkpcFH18HCjwqLNrlG3JRzPTPzDwKgZXISt/fej77d2hLQdAAREYlBsZq0poU8blBGvdBraaXWKrvvbZXt28waApOAHngjsqc6534OMx6JZesWwYSLYGNww4n/5u/Ftdk3sYoW1EuI48pj9+KqYztqsZWIiMS0WP1XblXI4zbAL6XUa1NKm4r0XVrSWtD3trJGTEMS1mOBdOA051zxE7OkLvrlPdwnN2I5wZkmI3JP4rHcC8mxBM5NacvtvfejVZN6UQxSRESkesRq0roI7yjUOLzV/iVuTUVwJ4A1Ye4cAEV3DOjiv1ZZfS8sraOQhPU4vDmwpznnvg4zDolVudm4qfdgs98s3L05wyVxV84VfJx/FEfu1Zx7T+vEAa11spWIiNQdMZm0OucyzGwWcAxwCvB08TpmZnhHrQJMq0D3i4G/8PZqPQV4r4S+G/qvXWrffp3JFB1h/aoCcUgs2vo320cPpNH6/xYW/ZG/O1fn3EJei/0Y1qcTvTq1xPv4ioiI1B0xebiAb4R/f7yZHV7C9fOAgj2BRobbqb8FVUH9AWbWoYRq1wGN8I5xHVP8YgkJ66lKWGXt3Mls//cRRRLWSXnduST+SS4682Sm3nwsJ3beTQmriIjUSbGetM7DOx/3fTPrBWBmcWZ2HvCmX2+Kc+7L0IZmNsTMnH/rUELfzwBr8BZbTTKzbn67RDO7BnjEr/eGc25xsb4bAJ/iJazbgT6aElC3bU3P4qs3b2fXiRfQKN+bIp3jAjyWN4hfjvg3k+48lUFHdCAhEMs/riIiImWLyekBAM65XDM7E5gOdAC+MLMMvES9YOXKXGDgTvS91cxOB6binXg1x8zS/H4T/GrTgFtKaH4uwROv4oH3yhk5O8c5921FY5SaLycvn3dn/kL7GTdzHHMpmMC61u3CmHYPM+js89ijWVmbX4iIiNQdMZu0AjjnlpvZQcDtwDnAnkAOsABvE/+XnHPZO9l3qpkdAPwTOB3YA+9P/fPxRnmHO+fyS2gaOlxWj2ACXZrEnYlPai7nHNMWruWDTz/h/ownaGsbCq/NSzgI13cYt+6/XxQjFBERqXkszFNCJQaYWWpKSkpKamo4J75KJMz7eyuPfrqAjiv+w5D4ESRZbuG1JfsOZq/+/8ICCWX0ICIiEnVRWVwR0yOtIjXFqi07eGbqb0yeu5RHE97m3ITgNOas+EbEnf0aex9wRhQjFBERqdmUtIpE0PasXF6b8QdvzlzK7nkr+TDx33SK+6vweu6uB5A0YBQ03yuKUYqIiNR8SlpFIiA3L5935/zNc58vZsP2LHrHzeaZxNdobDuClQ4ZSPypz0CiFluJiIiUR0mrSBX7avF6Hp+0iN/WphEgj7vi3+Xq+E+CFQJJcOrTkDIItOeqiIhIWJS0ilSR39ak8djkRXy9eD0Au7KFlxJfokdcyEm/u7SDfiOhddcoRSkiIlI7KWkVqaR1aZk8//liJsxeQb6/Gcdh9iuvJr7IrrYlWHGf3nD269CgWXQCFRERqcWUtIrspB3Zebz1zVKGzviD9Ow8v9QxOH4yd8WPJ0BBmcEJ98LRt0GcTrUSERHZGUpaRSooP98x8b8reXrqb6zemllY3ogM3m76Doft+CZYuUFz6DsM9johCpGKiIjEDiWtIhXw/dKNPDZpEfNWbi1S3rvFRl6wZ2mQtjxY2PYwOO8daNK2WmMUERGJRUpaRcKwdP12npjyK9MWri1S3qJRIi92XswRix7FcjKCF7pfBb0fhXidwisiIlIVlLSKlGFzejb//vJ3Rn//J7n5wSOPk+LjuOqoNlyfPZzEuW8HGyQ0gDNfggPPjUK0IiIisUtJq0gJsnLzGPntn7z0f7+zLTO3yLWzu7bhn0c0oNVnV8Gqn4IXWuwL/UZBy/2rOVoREZHYp6RVJIRzjinz1/DElF/5a1NGkWvdOzTjvtM7cVDmHBh3BezYHLx4wNneCGtScjVHLCIiUjcoaRXxLVq9jfsnzmfOn5uLlHdo3oC7+nTi5M67Yl8/DTOeAPypAnHx3tzVw6/W6VYiIiIRpKRVBHg/9W/u+XAeWbn5hWVN6idwU699uLBHexKzt8DYfrDki2Cj5N293QHa9aj+gEVEROoYJa1Sp2Xn5vPopIWM/O7PwrKEgDHoiA7ccMLe7NIgEVamwrsXw9YVwYYdjoFz34ZGu0YhahERkbpHSavUWWu3ZXLtmJ9IDZkOsE/LRgy9MIW9WyaDczD7LfjsLsjLDjY8+lY4/l4I6MdHRESkuuhfXamTZi/fxLVjfmJ9WlZh2akHtuKpcw+mUVI8ZKfDp7fALxOCjZKawDmvw359ohCxiIhI3aakVeoU5xwjvl3Oo5MWFe67GmdwV5/9GXxMR8wMNiyBdy+CdQuDDVsdCP1GQrOOUYpcRESkblPSKnXGjuw87vlwHh/OXVlY1qxhIi+f35Uj927hFSz8GCZeC9lpwYZdL4RTn4GE+tUcsYiIiBRQ0ip1wl8bM7hqdCqLVm8rLDuobROGXtiNNrvUh/SN8H8PQ+o7wUaBJDjtGUgZVP0Bi4iISBFKWiXmzfhtHTeN/y9bd+QUlvU/dA8eOusA6sU5+OENmP4YZG4JNtqlvTcdoPUhUYhYREREilPSKjErP9/xyvQlPPfFYpx/FkBiII6HzjqA87u3g2Vfw5R/Fp27CrDfafCPV6B+0+oPWkREREqkpFVi0rbMHG6d8DNfLFpbWNaqcT2GXphC18Zp3r6rCycWbdR0TzjlX7DvKTrdSkREpIZR0ioxZ/HaNK4alcqyDemFZYfv2YxX+nWixc+vwTfPQ25msEFCQzj2djjiOohPikLEIiIiUh4lrRJTJv2ymjv+8zMZ2XmFZVcc1YG7Oywm8M6VsPWvog0O7AcnPQSNW1dzpCIiIlIRSlolJuTm5fPU1N944+ulhWX1EwIMPakePZf+E1JnFm2w+8HQ5ylo16OaIxUREZGdoaRVar2N27O4fuxcvlu6sbDswGZ5jOw4jabTR4ELjrrSoDn0egC6XgRxgShEKyIiIjtDSavUaj+v2MI1o1NZtdWboxpHPkPazOHCjJHEzd8UrGgB6H4l9PyndgUQERGphZS0Sq01/se/eOCjBWTn5QNwWNyvvNJ0PC03Li5acc/joM+T0LJTFKIUERGRqqCkVWqdrNw8hny8gHE/rgCgFRt5oN54TmUWpIdU3KUd9H4MOp2hLaxERERqOSWtUqus2rKDa8b8xM8rtpBENlcEJnNDwkfUIytYKb4+HHMrHHkDJNSPXrAiIiJSZZS0Sq3x7R8buGHsXDamZ9E7bg73xY+mXdz6opUOOAdOehh22SM6QYqIiEhEKGmVGs85x7CZy3jis1/p4P7m+YSRHBuYV7TSbl28easdjo5OkCIiIhJRSlqlRkvPyuXO93/h61/+4O7497k4MI0EC9nCqn5TOOE+SLkEAvo4i4iIxCr9Ky811rIN6Vw98kcO3jiJ6UkTaGHbghctDg69DI6/Fxo0i16QIiIiUi2UtEqN9MXCtbwz4V2ecsM5OGFp0Yvtj/amArTqEp3gREREpNopaZUaJS/fMWzyLFr88C9GB76B0J2qGreF3o/AAWdrCysREZE6Rkmr1BhbtqUxbfiDDNw8hkaBzMLy/EAScUffDEfdDIkNohihiIiIRIuSVqkR/vr+Q2zq3fRzq4uMrmbvcxqJpz4OTTtELTYRERGJPiWtEl0blrDmvVtot/brIsXr63ekWd/nSdy7Z3TiEhERkRpFSatER+Y28r56Cr4fSiuXW1i81TVk1SE30enMWyGQEMUARUREpCZR0irVyzn4ZQJ50+4nkL6usDjfGZMTe9P5wqfp1L59FAMUERGRmkhJq1Sv6Y/D108RCCmanb8v09rdyk0XnUejJH0kRURE5H8pQ5Dq899x8PVThU/XuKY8kXsB+514Gff03AvTNlYiIiJSCiWtUj2WzyL/o+uJ859+lXcQd8ffzpOXHMkx++wa1dBERESk5lPSKpG38Q+yxpxPkr/g6tf8PXh2l3uYcOlx7NFM+66KiIhI+eLKryJSAekbYMWPkJ/nPc/YxLbh55CUsxWA9a4xjzUZwvCrTlDCKiIiImGL+aTVzJLNbIiZzTOz7Wa21cxmm9ltZpZYyb53M7Nnzew3M9thZpvMbKaZXWFhTNA0s73M7HUzW2ZmmWa23symmlnfysQVNTs2w0vd4K2T4OunITebNcP60zh9OQCZLoHHGj/Iv68+kxaNkqIbq4iIiNQqMT09wMzaAzOADn5RBpAEHOrfBppZL+fc5p3ouxswFWjuF20HkoGj/du5Znamcy67lPanAu8BBcON24BmQG+gt5m9DVzunHMVjS1qFn0KmVu8xzP+xbrf59Bq04+Fl59Pvo0h1wxilwaV+r+CiIiI1EExO9JqZvHAJ3gJ62rgJOdcQ7wkcQCQBnQFRu9E302AT/ES1l+Bw5xzyUBD4HogBzgZeKGU9nsC7/qxzAL2c841AZoAD/vVLgXuqGhsUZW2usjTlis/L3w8ssHFXHvt7UpYRUREZKfEbNIKXAwc6D/u65z7AsA5l++cmwBc5V871cx6VbDv24FWwA7gVOfcHL/vbOfcK8CDfr0rzWzfEto/jJfgrgFOd84t9ttvd849CLzh17vXzJpWMLbo2bS0xOIxcWdwxrVP06SBTrgSERGRnRPrSSvAdOfcdyVcHw8s8x8PqmDfBfXHO+eWlXD9JbzpAgFgYOgFM2sIFMxZHeqc21JC+3/5942Bf1QwtujZsPh/ikbn9qLdgOdoqjmsIiIiUgkxmbSaWQPgKP/plJLq+HNFP/Of9q5A3/sB7crpezsws5S+jwbql9N+ObCoorFF1ZIvYGVqkaIJuT35o/tDHLNvyygFJSIiIrEiVhdidSKYkM8vo17BtVZm1sw5tymMvruU0L60vvsAnSvRvhNwQBgxRd36jZsIPSLgtKzHyWnZhY/7FP/yRURERCouJkdagdYhj1eWUS/0WutSa1Wu78Zm1qiE9pudczvCaB9uXFH1XeBQfs9vA8D43J6sbrAvrw7sRr2EQJQjExERkVgQqyOtySGPM8qoF3otudRaVdP39mLty2obej2suMwstfxa7B9OXzvjiP3a0DvvEdrl/M3f9fdn1OXd2btlo/IbioiIiIQhVpNWqWa7Jicx9PKe/LB0E+ektNFpVyIiIlKlYjVpTQt5XFb2FHotrdRaZfe9rYJ9p5Vwvaz2YcXlnOtWXh1/NDYlnP52Ro+OzenRsXn5FUVEREQqKFbntK4KedymjHqh11aVWqtyfW/zdxMo3r6pmdWndAXtw41LREREJGbFatK6CMj3H3cpo17BtTVh7hwARVf8h9P3wkq2XxBmXCIiIiIxKyaTVudcBt7xqACnlFTHzAzvqFWAaRXofjHwVzl9NwSOKaXvb/BO0iqrfXu87a4qGpuIiIhITIrJpNU3wr8/3swOL+H6eUBH//HIcDv1DyUoqD/AzDqUUO06oBGQB4wp1j4deN9/eo2ZNSmh/T/9+zRgYrixiYiIiMSqWE9a5wEGvG9mvQDMLM7MzgPe9OtNcc59GdrQzIaYmfNvHUro+xlgDd5iqUlm1s1vl2hm1wCP+PXecM7979mm8ACQDuwOfGJm+/jtG5rZA8DVfr1HnXObd+JrFxEREYkpsbp7AM65XDM7E5gOdAC+MLMMvES9nl9tLjBwJ/reamanA1PxTryaY2Zpfr8JfrVpwC2ltF9mZv2A9/CmESw2s614o7MFu/G/DTxd0dhEREREYlEsj7TinFsOHAQ8jLcAygE5QCpwO9BjZ0cynXOpeEesPg/8jpespuPNWR0M9HHOZZXRfrIf25vAcryEdzPwOXCuc+4yfyqCiIiISJ1nyovqDjNLTUlJSUlNDefwLBEREZESWTReNKZHWkVEREQkNihpFREREZEaT0mriIiIiNR4SlpFREREpMZT0ioiIiIiNZ6SVhERERGp8ZS0ioiIiEiNp6RVRERERGo8HS5Qh5jZxvr16zfr1KlTtEMRERGRWuqnn34a65wbWN2vq6S1DjGzZUBjvGNjI2F///7XCPUv5dP3ILr0/kefvgfRp+9BdFXH+/+rklap1cwsFcA51y3asdRV+h5El97/6NP3IPr0PYiuWH7/NadVRERERGo8Ja0iIiIiUuMpaRURERGRGk9Jq4iIiIjUeEpaRURERKTGU9IqIiIiIjWeklYRERERqfGUtIqIiIhIjafDBURERESkxtNIq4iIiIjUeEpaRURERKTGU9IqIiIiIjWeklYRERERqfGUtIqIiIhIjaekVURERERqPCWtIiIiIlLjKWmVSjOzZDMbYmbzzGy7mW01s9lmdpuZJUY7vkgyswZm1sfM7jOzD8zsTzNz/m1ImH3sZmbPmtlvZrbDzDaZ2Uwzu8LMLIz2e5nZ62a2zMwyzWy9mU01s75hvn6KmY02s7/NLMvMVpvZh2Z2Qpjtj/frr/bb/+33lxJO+8oys+Zmdqn/mgvNLD0kjolmdnYYfVTqM1zbv4eV4b/2g2b2sZn9amYbzSzHv59lZveaWbNy+qjV71+0fwZKiemukN9FZW7Irs9/5ZjZJaHvdRm3E8voo1Z/hs3sHD/edX78y/yvZ+9w2ofNOaebbjt9A9oDywDn39KBzJDnPwFNox1nBL/+niFfa/HbkDDadwM2hLRJA3JCnn8GJJbR/lT/PS+ovxXIC3k+HP8QkVLaX1Hs9bYA+eF+DcCQkLr5fvuC5znAFdXwPQiN3wE7gO3FyiYDDSLxGa7t38MqeP9fLuH931asbD1wRCy+fzXhZ6CEmPbzvw+F34My6urzX/n3+xL/tfKANWXcjqmJ70FlPsOA+fEV1M/z4w/9PJ1aZe91df8w6RY7NyAe+MX/YK4CTvTL44D+BP/hmhTtWCP4HvQENgFfAE8BA4DVYf6iaBJSdxFwqF+eCFwHZPvXXi2l/Z4Ek7NvgH398kbAQyG/NO4spf0RQK5f50OgrV/eHHgtpH2/Utr3C6nzGtDcL2/r9+f8/ktMVqrwe+CAH4BrgI4h5R2AYSExjqrqz3Bt/x5W0fs/CLgd6AHsElLeyL+2zo9hLdAklt6/mvIzUCymOGCW/9rfFsRXSl19/qvmPb/Ef53lO9G2Vn+GgTtD2g8BGvnl+4V8DrcDe1bJe11dP0i6xd4NuDzkw/o/H2jg/JDrvaIdb4Teg0AJZcsLfoDLafuIXy+jpB9o4O6QXxj7lnB9lH99NSHJQsj11wn+r/1/RkqAmf71X4CEEq5/5l9fVvzrBAIhX+eUEtomAvP86zMj/D04vpzrob+496jKz3Bt/h5W489I75D3cGCsvH816Weg2Ove5L/maEJG0Eqpq89/1bznl7DzSev/t3fm4XYVVd5+fxACCSCDTIaGxAHnVkFoGRwiKiKCrY2iLWgHHFEaQRFbseGqn34y+DX9YSOoRNoWbW0RbBCBRkAIYKOCIgjaAtLxVEUAABmcSURBVAEhQphJIISQrP5j1fYUJ3s4955z79n3Zr3PU8/de9eq2rVX1b5n7RpWTdo2DGxC58PmlIr44qNmtU6DMel6vCoxwtQPwGWpMV5cES/gliTzr8Mu7wTqpfgnMNIgd1uSm18RvwE+1GbAZ7ri1k8/FAYcXZF+TvaDc2BX3DOyuHdXpH9VJvPqrrjds7hXVqT/u0xmIF/ZY6yPnbJyvKUrrq82PJnrcAL1/5SsDJ+YKvpr4ztAp9fuXmBzmo3WaP+D0fs8xmC0DlsH/bZh4KAsbnZF+mPofNis36+uYyFWMCYkzQR2S6c/LpMxb7Hnp9M9JqJckwVJzwG2TadV+luKf0XD6vp7OTCjIf1CfMiuLP3rsuPzKWcB/oNTl34JPgRURl6uYdb/Y9nx2sVBv214CtThRPGK7Pjm4mAK6K+N78DXcEPoo2Z2T51gtP9WMGwd9NuGi/S/NbPbGtLPwJ+3L8JoDcbK8+i0n+tr5Iq4rZpWEK9hvDA77kV/z+8z/Qsq0i82s8VlCc1sJXBTQ/obk1xZ+sX4Apyy9BPJ3Oz4N9lxv214stfhuCFpXUlzJB2CD38C/AE4JxOb7Ppr1Tsg6X3Aa4CLzOybPSSJ9j94Npf0y+SBYZmkW9IK/LkV8sPWQb9tuEjfS9nL0o+aMFqDsTIrO76zRi6Pm1UpteYxWv09RdIGJekfMLNlPaTv1v2srviJTj8hSNoYn1cHPifrd1l0v214stfhwEmubgzv3b4VOAmf13YFPidyeSY+2fXXGv1L2ho4HvcY8IEek0X7HzwzgR3wBWhr4dM19gcukTRf0rQu+WHrYNzTm9mjuDeCsvSjJozWYKxsmB0/WiOXx21YKbXm0a/+NiyJr0vfrfthpx93JK2F9/I9DTeiDukSGVQd9Jt+KtXBXbiXgEeya5cAh5nZ7V2yk11/bdL/qfhK/hEzu6XHNNH+B8cifKX/i4H1zGxT3IDdDfcsA3Ag8E9d6Yatg2GnHzVhtAZBMFX5Z2DvdPxhM7tumIVZEzCzOWa2lZltAGyJu8J6CXC1pM8Ot3RTE0kHAG8EfgX8vyEXZ43EzC40sxEzu64YTTCzlWZ2JfB64IdJ9EOSthtaQacAYbQGY2VJdjyzRi6PW1IptebRr/6WlMTXpe/W/bDTjyuSTqDTs3q4mc0vERtUHfSbfkrWgZktNrMvAXviq4f/UdLemchk19/Q9S9pS+BE3KH7+8zsiVEkj/Y/AZjZKvzjDdzm2ieLHrYOhp1+1ITRGoyVRdnx1jVyedyiSqk1j9Hq7+G0Erc7/SaSZlBNkb5b94u64ic6/bgh6TjgY+n0CDM7sUK03zY82etwQjCzq/EVzADvz6Imu/7aoP8v4k7kvwrcJGmDPOB+NgHIrhfXov1PEGb2B9wNGbibqoJh62Dc0ycvFRtXpB81YbQGY+VGfLs3ePIKyG6KuLvM7P7xLdKkIl9R2Yv+fttn+hsq0m8hafOyhJLWBp7bkP55Sa4s/Ra4r8iy9OOCpOOBj6fTI1NPXxX9tuHJXocTSbFQI9+HfLLrrw3vwNPT34PxXqzu8MlMtrh2XDqP9j98hq2Dfttwkb6XspelHzVhtAZjIq0ILPy67VkmI0n4fB6ACyeiXJOI3wPFwpQq/a1Px8dlt/4W4CuF69LPxt3alKX/r+y4ND2+iKCYOF+VfkNg14r0eb7jXv9pSkAxDHekmR1fJz+ANjzZ63AiKXqX8uHBya6/1r0DoyHa/8Qh6ZnAZun01ixq2Drotw0X6Z8naVvKKdIvozPiMnb63Z0gwpob6GwBuAp4WUl8vqfxlNzGtUIvC+ltR6xiC8RHgDkl8cWezk1bIC6ia0/3FH9yin+Y+u3/fkX59n/npfiF1G//t9q+5MA6wK+p2P5vHHR+QtbWPjaKdH214clchwPS+9qAGmRek/RrwLFTRX9tewcqdD9StN9o/+OzjWsP7V/AD1I5VgLPaYsO+m3DPHkb15NL4jdOz2XENq4Rhh2Aafh+xwbcUfxTw3vw34bvlWzAecMu6zjrYRP8K7oIt6fnPq7r+gZd6Taisy/zDcBL0/Xp+HDf8qp/Bkmu2LLR8O0Yt0vX1weOpmMoHFmRftf0Y2LAmcDW6fqm2T9KA/arSJ//oJ0MbJqub53yK36sVtvTfMD6Py4rx+ET2YYnex0OQPdz8B/LD+C9qcritgH+IXu++4CtppL+2vIO1NTPSFG+aP/jpuM5wNXd70DS4c74TlV/biNt00G/bZjOh8mqVN710/Vn0zGolzKgbYwn/CWKMLVCemFvzRr9I/gwQHF+DSVfh1Mp0PlSbQqnl6R9KT5Bv5B5GHdMXZxfAKxbc++9ks4L+Qezf2AGzKemJwB4L7Aik38g+ydpNPcWj2Syq1L64nwF8N5x1v222f1W4n5C68IRg27Dk70O+9T/nK42vhzfPWdp1/VbgO2nov6G/Q70WraGOoz2P7h34LH0DjzWdX0+MK2NOuinDeM9yfMz+SdS+fP2tNfA9D2slynC1An4fJjP4FtkLk3/tH6Br+CePuzyTcDzL+z651QVTq9IvyXuX/H36cfiAfwL9b3AWj3c/5n46uFbs3+YFwL79lj+HYAz8J6W5bhxdxawe4/pd0/yd6X0d6T8XjoBuu/+wWgKI+PRhid7Hfah/+nAW4EvAz/HF1wtx52J3wb8Jz4EPWMq62+Y70BDuUaKtt8gF+1/7DqegbvXOwPvbV6MG3pL8MVupwG7tV0H/bZhYN9U3sJgX5ie51mD1HfRjR0EQRAEQRAErSW8BwRBEARBEAStJ4zWIAiCIAiCoPWE0RoEQRAEQRC0njBagyAIgiAIgtYTRmsQBEEQBEHQesJoDYIgCIIgCFpPGK1BEARBEARB6wmjNQiCIAiCIGg9YbQGQRAEQRAErSeM1iAIgiAIgqD1hNEaBEEQBEEQtJ4wWoMgCIIgCILWE0ZrEAStQ9KIJEth7rDLM9mQtKmkz0u6VtISSauSLh8cx3tGnbUYSadn9TNn2OUJgrEwbdgFCII1GUnWdWlnM/vvhjTvAL6TTj9jZiPjUbZgciJpS+BnwJwhF2XckHQYsDHwoJmdOOzyBE8mGcXz0umlZnbpsMoSTC3CaA2CdvEF4DXDLkQwqTmKjsF6BfAt4G7AgBVDKtOgOQyYDdwGhNHaPuYAx2Tnlw6nGMFUI4zWIGgXu0t6rZldNOyCBJOWvdLfB4A9zOzRYRYmaAdmNo9O72cQTEpiTmsQtIPcsPjC0EoRTAW2SX9/FwZrEARTiTBag6Ad/BE4Kx3vJOlvhlmYYFIzPf1dPtRSBEEQDJgwWoOgPXwaWJWO/4+ktceaUbZK+NJ+ZSVdWsik87UkHZSuL5b0iKTrJX1a0oZdabeS9DlJ10l6WNJDki6TtN8YnmkvST+UdIek5envdyTtMoo8NpN0lKTLJd0l6XFJ96TzIyVt0JB+YdLFwnS+nqRDJS2QdHdapX/paJ8ty3+mpMMlXZLKtzzpeIGkT0raqCLdn1fuZ5dfldVtX6v65Rwg6SeS7pW0TNLNkk6V9IJR5PMUSftLOi15NnhQ0gpJ90u6RtKXJD2zJv3C9Iyz06XZJc9okuZ1pZsh6S2S/kXSf0u6L933IUk3SPqKpBePRTclZZyblWMkXftLSV9NOluW2txFkv52FPluI+mLSU/3p7Zxp6RzJM1r+n+hBu8BFeXeNtXJTek9f1DSlZI+JGm16YVFHsAl2eVjyuqoJO3Gkj4h6aepzT8u/59xi6SrUt29QZJ61VkwBTGzCBEiDCngi2MMuCmdn55dm1eR5h2ZzEhDvpeOogylsvgiikJmA+Ci7Lw7XANsktLtAiyukT2hpkwjmdxc4F9q8lkJHNPDc84DHq7Jx4C7gF1q8liY5BYCTweuL8mjUecVee8M3NlQvnvxeap1+qoLc8dQrpnABTV5LgMO6K6zknymA4/1UMYVwIcb9N8U5nWlu7XHdF8YwDs9N8tvBHhXw3OfC6zXkOcH8ClEdWW/DphTk8fpmexqciXl3hOfF111vwuBdWvyqA1d6Xais1iwKWzcbx1FmLwhFmIFQbsYAf4W/4EfkfRtM3t8uEV6Et/AvRtcAXwPN/JmAx9Of7cHTpR0DG7oTAe+DiwAHgdeAbwPXwT6MUnnW/Ois48Ab8YNtq/jP84z8R/VffERoxFJ95nZl8sykPQROqvMHwW+D1wJ3AdslvJ6E7AlcJGknczstzVlWhf4AfCC9GxnAouAzVMeo0LS9sDFwIx06Vrg28DtwFbAfsBuwFOBcyXtYU92I/TvwK/ScTHN5Aa89z7n+tGWDa/nPdLxEuA04BfAOsCrcIP1NOC/GvJZC9fboiR7HW6orMLn4e6K18E04MuSFpnZWV15vB+v+6/iur4nXevmmq7zGcD96b7X4h8HK4CtgR1w/a4DfFLSYhucG62dgE+l4/nAZfhH1k7Ae4D1gTfiHh7eWpaBpA8Ap2SXzgF+BDwIPBs4EP+A+ktggaTtzeyePsv9EuDjgIBTgavw6SY7Ah9M5X4d7qni6Czd9cBbgBcCn0vXvou3z1IkzcTb7Bbp0mW4IX873jY2S/m9BnhOn88VTHaGbTVHiLAmBzq9Bzdl1/5/dv3QkjTD7Gk14FMlMpvT6SV8AjegFgMvKpF9V5bXeRX3HOm65/XAFiVyb8aNDwMeAbYtkdkxk7m2TCbJ7Y0b1gb8rEJmYVe5Dh9AG1iLJ/fYngisVSL3j5nM7VT0zo2m7nso2wFZfrcBTy+R2Q1Y2qWXuSVya+MfB6q534uAP6U8bi7TQ1c9LOzxOfYEptXEzwZuTHk+DGzYh87mduniYdz/crfcdjy5Z33fEpk5dHpYnwD2K5GZgRt5RT7/UVGu0zOZOT2U+zZguxK5v8rep/vp6m0tyWukQV9vzWRPbpDduex+EdacEHNag6B9fB43wACOUsM8ywnmAjNbzbuBec9O0cu5NvBi4BAzu65E9t+A/0mnu5fNjeviCeDtZra4JK+zgS+l05nAwSXpj8Z775YAe5vZ7WU3MbNzgS+m05dJ2rWhXGeZ2T81yPTC3niPLfimAIeb2apuITP7HN7DBt4zecAA7t3Ex7Ljd5vZrSXlugL4RFNGZrbSzM43c+ujQuY6Oj2Tz8B7X/sm3feJmvjbgA+l0w2Bvx7EfRMfN7Ofldzzf/De1oIjStIeSqf3/Utm9r2SfJYB78SNfYB9JW3XX5EBOCCVsft+V+O9pwCb4EZsPzwrO/5anaCZ/czMYoHhGkwYrUHQMszsbjpD2VvgjtTbQunwe+KK7PhufAi+igXp77pA5cKbxAVmdkNN/In4kCv40OSfkbQJPvwK8B0zu7PhXt/KjveolHJOaojvldxTxPF1Rh0do7o73cCR9HR8mBjgl2b20xrxr+PD1YPgyuz4ZQPKc1j3fQCfUlOKmZ0PFNNQdpa0VZdIUcdP0Pk4K8vnYeDkdCq63oMxcK2ZXV4Tf3F2/Pw+75W7Zet5UV+wZhJzWoOgnRyP9xpuChwh6WQzu3/IZQKo22L27uz4l2W9hRWymzTc8yd1kWZ2l6Qb8Xlvz5a0kZk9lKJ3o/NxvlLSmxvutU52/LwauZX4PL9BUPRUGc3zQq/Eh+I3YPwNup2y46Y6WC5pAd5rXEtauf53+BDyc/HtWNerEP+LHsrZE5K2AN6Nf4w8H293M8f5vpdb85z0i+kYfjvhc1aL8s5O139dNtLQxYV05pH22zZW6xnuIv/4a3p/mygWdgo4JXmP+HZZL28QhNEaBC3EzB6SdCxwLLAR8A/AkcMtFeALl6rIh+3q5LplqwyWgj80xBcyL8R/+LYCCqN1TiZzMOXTB6qo+zG+z8weG0VedTwt/b3LzJbUCZrZKkk349MvNpU0vQejaKzMyo57rYNaJB2G9xav22MZntKjXNN9344vKCp1GTZe92X0est1/rTs+Pc95JPLPK1SqjfubYgfzftbi5n9VtIXgU/iC7xG8IWVf8Q/0i4DfpSmcARrOGG0BkF7OQlfOT8LOETSiWa2aJgFaug9zelVrhd62dXpkew4nwPcq5FSxvSauGV95NtN4dv2kVqpDku70jZ9IIyVXI+jrYPVkLQ/kM8Bvhz4Kb6oagm+CA58Ssyp6XjMvoqz+74S98RQ9Lhfg/fu3Yx/3OQGWOGtoO/7JvppuxtWyFTR3S76YZDvbyNm9ilJP8fnRhe9xNsAb0/hy5LOBw4zs14M+GCKEkZrELQUM1sm6XPAV/DFGEfj7mYGhqTJMK+9agg3Z/3seGnF8UFmVjm/cIgswYfI128STOSGTW3PbJ/kuhttHZRRDF0/AbzJzH5cJjSazQp6ZISOwfp+Mytd7COpV/2Phn7a7pIKmSomql2MC+buzc6SNAt3jbcrPoXkRfgIyhuAXSXtYmY3Dq2gwVCZDD9YQbAmcxreIwTwHknPqhPOKHqt6noLwX0gtp1enrmQMdx3bEE+925g8yMHTLHqe6smTxFpN6Bi4dp94zg1ANyfasFo6mA1JD0D9yUKcHaVwZqYXRM3KiRNxw0ggF9UGayDvm/GaPWW6/xP2XEv3gBymaGOyPSDmS0ys++a2UfM7MW4L9rCl/NGdD5+gjWQMFqDoMWY2Qo6zrunAZ/tMWmxkntWrdTErs4eK7vXRaYV18Wiqd9ni7DA58MVq/GbvAEMi6vTXwGvbZDdlU6P2tV1ggMgz7+pDtYFXl4jkm+4cHOllPP6hnjoDF83ben5VDojioO472h5uaR1GmRenR3/vDhIC6+KeZwvkbR5Qz55+x7vttFEPr2gr21X04Kst9LxEFLXzoIpThitQdB+voPvHgS+sUAve6QXbnRmp16uKg7tp2ATxJ6S6lbyH0pnDuIP8oj0w39+On25pDYarmdmx0c07K2e+0M9s1JqAJjZQjq7bO0o6RU14gfhUxyqyOd2Vro4k7QNvsNTE8UwetOwea/33RA4vIf7jpZN8e2Dq+67Bx03T1eZ2V1dIkUdT6PG9V0qf+Fn1ujMzR0W+TSHvqddpA/RB9JpTGtcgwmjNQhaTvLbeVQ6FfD3PSQ7Pzs+tswQkvRZmnv22sA04LtlPU2S9qHjlP1RfP5vN5/Gd/AB+HdJe9bdTNJsSSckl0MTwY/wLVfBXXQdXzbXWNKngH3S6R+BMyagbCdkx9+UtNoQuqRdcC8XddxIZzHRX0tazSG9pC2Bs+ltEVGxycFTJW1bJZSMncJ10o6SVvNfmqZk/Ae+8Gc8OEHSTt0Xk2un+dmlMj+sJ9FZ9HekpH1L8lkP9y9cjKqc2QJ3UfkmFDvUCUo6VNK+dT3Skt5GZyrTrwdQvmCSEl8sQTAJMLNzJV2JDw/30nMxH3eRtSk+tHa5pDNwVzbb4j22O+J7gr9jXAo9OM7Gt2u9QdLXgN/gC1xeD7yNzvDjJ8zsj92JzewaSQfju+1sAvxY0hXAj/Ef1xW4np6LDz3umJIOav/5WpIbqwNw9z4z8F2oXp3q6w58aH0/OsOiK/DdqQblcquubGdIeiewF+4+7DpJpwG/wH3avhL3fboKN77fWJHP45JOBT6a0l0maT4+HL4CN2wOxHtrv5nyrOMnwJvS8Q8kfQWfA1oMS/8m20jiJHxrZIDvJ70uwBcrvRDvCZ3V431Hy3nA64ArJP0r7jFhJe6P9T10pnqcaWar9Zyb2UJJhwOn4L/X35f0w5Tvg/g81oPw3cPA53B/qDuficbMHpB0LbA93pZPwetsSSZTfFjvAPwz8ICkC4Ff4s+xCndftwedqRsG/N8JeYignQx7H9kIEdbkQGfP7Zt6kH1lJt+4rzduaDxWkqYI5+BGUu1e9cClhUxD+eZkeZ3eIDuSyc5tisd34qp6jlV1esjy3AdfpFWVTx7uBTYryWMho9jzfpRtYRd8AU1due4DXt9jmyqtzzGUa33ccX1VmZYB+/dQp+vhjvTrnu8U3ACrbUe4sfe7mnzmZbLCeyLr7nt2L+9Cj/qam+Uzgm+3W/ce/ghYryHPDyY91z3Db4A5NXmcnsmuJtdd7tE8Y4XMG3BPEaXlzeS+0fBcRVgKvGvQ712EyRViekAQTBLM7DKePOzfJH8ePv/1G8DtuEeBe4BLgHfhbocG6W903DCzQ/BevHNww+7x9Pe7wG5mNtJDHufgK9g/CPwnPsS+jI5ersJ75fYBZplZk4P1gWJmV+E9Zx/F/Zfeg/dC3pfKdhTwTDO7YILL9Qje0/VuvO3cjxtht+C91zuaWeNUBfOe4T3wnsCr8F635fhio+/hxvgH6cFHqJktBXYGPo/7XX2oKp05BwDvTOV/EK/zO4Bzgbeb2ZvH610ws2/hPatfx3X2GK7Di4H9zeyN1tBrbman4Kvoj8XnGRfP8Ce81/VA4CXm85BbgbmHiN1wH7m3Uu3b+GDcwD0Or5878XbxBP7xuAA4Bni2mf3bOBc7aDkys2GXIQiCIAimBJLm4sYXwGd6+aAKgqA3oqc1CIIgCIIgaD1htAZBEARBEAStJ4zWIAiCIAiCoPWE0RoEQRAEQRC0njBagyAIgiAIgtYT3gOCIAiCIAiC1hM9rUEQBEEQBEHrCaM1CIIgCIIgaD1htAZBEARBEAStJ4zWIAiCIAiCoPWE0RoEQRAEQRC0njBagyAIgiAIgtYTRmsQBEEQBEHQesJoDYIgCIIgCFpPGK1BEARBEARB6wmjNQiCIAiCIGg9YbQGQRAEQRAErSeM1iAIgiAIgqD1hNEaBEEQBEEQtJ7/BR3sEgRHzGj4AAAAAElFTkSuQmCC\n",
                "text/plain": "<Figure size 360x288 with 1 Axes>"
              }
            ],
            "_view_module": "@jupyter-widgets/output",
            "_model_module_version": "1.0.0",
            "_view_count": null,
            "_view_module_version": "1.0.0",
            "layout": "IPY_MODEL_7301956717a740ac8ddbaf60bdf5d0a8",
            "_model_module": "@jupyter-widgets/output"
          }
        },
        "f40c9b3f1b46467785df6f1a526eec1d": {
          "model_module": "@jupyter-widgets/controls",
          "model_name": "DescriptionStyleModel",
          "state": {
            "_view_name": "StyleView",
            "_model_name": "DescriptionStyleModel",
            "description_width": "",
            "_view_module": "@jupyter-widgets/base",
            "_model_module_version": "1.5.0",
            "_view_count": null,
            "_view_module_version": "1.2.0",
            "_model_module": "@jupyter-widgets/controls"
          }
        },
        "8a312527f8424b71a550f6bdac408086": {
          "model_module": "@jupyter-widgets/base",
          "model_name": "LayoutModel",
          "state": {
            "_view_name": "LayoutView",
            "grid_template_rows": null,
            "right": null,
            "justify_content": null,
            "_view_module": "@jupyter-widgets/base",
            "overflow": null,
            "_model_module_version": "1.2.0",
            "_view_count": null,
            "flex_flow": null,
            "width": null,
            "min_width": null,
            "border": null,
            "align_items": null,
            "bottom": null,
            "_model_module": "@jupyter-widgets/base",
            "top": null,
            "grid_column": null,
            "overflow_y": null,
            "overflow_x": null,
            "grid_auto_flow": null,
            "grid_area": null,
            "grid_template_columns": null,
            "flex": null,
            "_model_name": "LayoutModel",
            "justify_items": null,
            "grid_row": null,
            "max_height": null,
            "align_content": null,
            "visibility": null,
            "align_self": null,
            "height": null,
            "min_height": null,
            "padding": null,
            "grid_auto_rows": null,
            "grid_gap": null,
            "max_width": null,
            "order": null,
            "_view_module_version": "1.2.0",
            "grid_template_areas": null,
            "object_position": null,
            "object_fit": null,
            "grid_auto_columns": null,
            "margin": null,
            "display": null,
            "left": null
          }
        },
        "7301956717a740ac8ddbaf60bdf5d0a8": {
          "model_module": "@jupyter-widgets/base",
          "model_name": "LayoutModel",
          "state": {
            "_view_name": "LayoutView",
            "grid_template_rows": null,
            "right": null,
            "justify_content": null,
            "_view_module": "@jupyter-widgets/base",
            "overflow": null,
            "_model_module_version": "1.2.0",
            "_view_count": null,
            "flex_flow": null,
            "width": null,
            "min_width": null,
            "border": null,
            "align_items": null,
            "bottom": null,
            "_model_module": "@jupyter-widgets/base",
            "top": null,
            "grid_column": null,
            "overflow_y": null,
            "overflow_x": null,
            "grid_auto_flow": null,
            "grid_area": null,
            "grid_template_columns": null,
            "flex": null,
            "_model_name": "LayoutModel",
            "justify_items": null,
            "grid_row": null,
            "max_height": null,
            "align_content": null,
            "visibility": null,
            "align_self": null,
            "height": null,
            "min_height": null,
            "padding": null,
            "grid_auto_rows": null,
            "grid_gap": null,
            "max_width": null,
            "order": null,
            "_view_module_version": "1.2.0",
            "grid_template_areas": null,
            "object_position": null,
            "object_fit": null,
            "grid_auto_columns": null,
            "margin": null,
            "display": null,
            "left": null
          }
        },
        "ec3ffcbc22924be3b618e757adf88b97": {
          "model_module": "@jupyter-widgets/controls",
          "model_name": "VBoxModel",
          "state": {
            "_view_name": "VBoxView",
            "_dom_classes": [
              "widget-interact"
            ],
            "_model_name": "VBoxModel",
            "_view_module": "@jupyter-widgets/controls",
            "_model_module_version": "1.5.0",
            "_view_count": null,
            "_view_module_version": "1.5.0",
            "box_style": "",
            "layout": "IPY_MODEL_3a181021b7f44b6c9a83a7be8b6a8120",
            "_model_module": "@jupyter-widgets/controls",
            "children": [
              "IPY_MODEL_3d26f4085adb445ca0cda88df7702056",
              "IPY_MODEL_06adeea7283d4f16bc515376d3cd3736",
              "IPY_MODEL_ca3856e9a42b49e480781c5459bfca25",
              "IPY_MODEL_35ce01b942594d70922ab5929f910e5b",
              "IPY_MODEL_2a7a89c00bf34fe8937dab3eeaa605f1"
            ]
          }
        },
        "3a181021b7f44b6c9a83a7be8b6a8120": {
          "model_module": "@jupyter-widgets/base",
          "model_name": "LayoutModel",
          "state": {
            "_view_name": "LayoutView",
            "grid_template_rows": null,
            "right": null,
            "justify_content": null,
            "_view_module": "@jupyter-widgets/base",
            "overflow": null,
            "_model_module_version": "1.2.0",
            "_view_count": null,
            "flex_flow": null,
            "width": null,
            "min_width": null,
            "border": null,
            "align_items": null,
            "bottom": null,
            "_model_module": "@jupyter-widgets/base",
            "top": null,
            "grid_column": null,
            "overflow_y": null,
            "overflow_x": null,
            "grid_auto_flow": null,
            "grid_area": null,
            "grid_template_columns": null,
            "flex": null,
            "_model_name": "LayoutModel",
            "justify_items": null,
            "grid_row": null,
            "max_height": null,
            "align_content": null,
            "visibility": null,
            "align_self": null,
            "height": null,
            "min_height": null,
            "padding": null,
            "grid_auto_rows": null,
            "grid_gap": null,
            "max_width": null,
            "order": null,
            "_view_module_version": "1.2.0",
            "grid_template_areas": null,
            "object_position": null,
            "object_fit": null,
            "grid_auto_columns": null,
            "margin": null,
            "display": null,
            "left": null
          }
        },
        "3d26f4085adb445ca0cda88df7702056": {
          "model_module": "@jupyter-widgets/controls",
          "model_name": "TextModel",
          "state": {
            "_view_name": "TextView",
            "style": "IPY_MODEL_16c3aa087d1f42a5870da4572af7aa0b",
            "_dom_classes": [],
            "description": "batch_sizes",
            "_model_name": "TextModel",
            "placeholder": "​",
            "_view_module": "@jupyter-widgets/controls",
            "_model_module_version": "1.5.0",
            "value": "20, 250, 1000",
            "_view_count": null,
            "disabled": false,
            "_view_module_version": "1.5.0",
            "continuous_update": true,
            "description_tooltip": null,
            "_model_module": "@jupyter-widgets/controls",
            "layout": "IPY_MODEL_822592fd12014d32a1723c9a9895fdbd"
          }
        },
        "06adeea7283d4f16bc515376d3cd3736": {
          "model_module": "@jupyter-widgets/controls",
          "model_name": "TextModel",
          "state": {
            "_view_name": "TextView",
            "style": "IPY_MODEL_d994939c567640568182cd7a246ce3bc",
            "_dom_classes": [],
            "description": "lrs",
            "_model_name": "TextModel",
            "placeholder": "​",
            "_view_module": "@jupyter-widgets/controls",
            "_model_module_version": "1.5.0",
            "value": "5e-3, 5e-3, 5e-3",
            "_view_count": null,
            "disabled": false,
            "_view_module_version": "1.5.0",
            "continuous_update": true,
            "description_tooltip": null,
            "_model_module": "@jupyter-widgets/controls",
            "layout": "IPY_MODEL_4f1f850256ef4cb587ede378058f79a1"
          }
        },
        "ca3856e9a42b49e480781c5459bfca25": {
          "model_module": "@jupyter-widgets/controls",
          "model_name": "DropdownModel",
          "state": {
            "_options_labels": [
              "2.5",
              "5",
              "10"
            ],
            "_view_name": "DropdownView",
            "style": "IPY_MODEL_7a0347296a074390a277cf358f872f7d",
            "_dom_classes": [],
            "description": "time_budget",
            "_model_name": "DropdownModel",
            "index": 0,
            "_view_module": "@jupyter-widgets/controls",
            "_model_module_version": "1.5.0",
            "_view_count": null,
            "disabled": false,
            "_view_module_version": "1.5.0",
            "description_tooltip": null,
            "_model_module": "@jupyter-widgets/controls",
            "layout": "IPY_MODEL_ca39ac1a27eb4160a52dfeff799bd347"
          }
        },
        "35ce01b942594d70922ab5929f910e5b": {
          "model_module": "@jupyter-widgets/controls",
          "model_name": "ButtonModel",
          "state": {
            "_view_name": "ButtonView",
            "style": "IPY_MODEL_c034f911421e4584b5e010f6186a5410",
            "_dom_classes": [],
            "description": "Run Interact",
            "_model_name": "ButtonModel",
            "button_style": "",
            "_view_module": "@jupyter-widgets/controls",
            "_model_module_version": "1.5.0",
            "tooltip": "",
            "_view_count": null,
            "disabled": false,
            "_view_module_version": "1.5.0",
            "layout": "IPY_MODEL_2a4d982d2aed43f3817d134b7e64f18a",
            "_model_module": "@jupyter-widgets/controls",
            "icon": ""
          }
        },
        "2a7a89c00bf34fe8937dab3eeaa605f1": {
          "model_module": "@jupyter-widgets/output",
          "model_name": "OutputModel",
          "state": {
            "_view_name": "OutputView",
            "msg_id": "",
            "_dom_classes": [],
            "_model_name": "OutputModel",
            "outputs": [],
            "_view_module": "@jupyter-widgets/output",
            "_model_module_version": "1.0.0",
            "_view_count": null,
            "_view_module_version": "1.0.0",
            "layout": "IPY_MODEL_d98e5f2dea8b49d4903b78cd6daf694c",
            "_model_module": "@jupyter-widgets/output"
          }
        },
        "16c3aa087d1f42a5870da4572af7aa0b": {
          "model_module": "@jupyter-widgets/controls",
          "model_name": "DescriptionStyleModel",
          "state": {
            "_view_name": "StyleView",
            "_model_name": "DescriptionStyleModel",
            "description_width": "",
            "_view_module": "@jupyter-widgets/base",
            "_model_module_version": "1.5.0",
            "_view_count": null,
            "_view_module_version": "1.2.0",
            "_model_module": "@jupyter-widgets/controls"
          }
        },
        "822592fd12014d32a1723c9a9895fdbd": {
          "model_module": "@jupyter-widgets/base",
          "model_name": "LayoutModel",
          "state": {
            "_view_name": "LayoutView",
            "grid_template_rows": null,
            "right": null,
            "justify_content": null,
            "_view_module": "@jupyter-widgets/base",
            "overflow": null,
            "_model_module_version": "1.2.0",
            "_view_count": null,
            "flex_flow": null,
            "width": null,
            "min_width": null,
            "border": null,
            "align_items": null,
            "bottom": null,
            "_model_module": "@jupyter-widgets/base",
            "top": null,
            "grid_column": null,
            "overflow_y": null,
            "overflow_x": null,
            "grid_auto_flow": null,
            "grid_area": null,
            "grid_template_columns": null,
            "flex": null,
            "_model_name": "LayoutModel",
            "justify_items": null,
            "grid_row": null,
            "max_height": null,
            "align_content": null,
            "visibility": null,
            "align_self": null,
            "height": null,
            "min_height": null,
            "padding": null,
            "grid_auto_rows": null,
            "grid_gap": null,
            "max_width": null,
            "order": null,
            "_view_module_version": "1.2.0",
            "grid_template_areas": null,
            "object_position": null,
            "object_fit": null,
            "grid_auto_columns": null,
            "margin": null,
            "display": null,
            "left": null
          }
        },
        "d994939c567640568182cd7a246ce3bc": {
          "model_module": "@jupyter-widgets/controls",
          "model_name": "DescriptionStyleModel",
          "state": {
            "_view_name": "StyleView",
            "_model_name": "DescriptionStyleModel",
            "description_width": "",
            "_view_module": "@jupyter-widgets/base",
            "_model_module_version": "1.5.0",
            "_view_count": null,
            "_view_module_version": "1.2.0",
            "_model_module": "@jupyter-widgets/controls"
          }
        },
        "4f1f850256ef4cb587ede378058f79a1": {
          "model_module": "@jupyter-widgets/base",
          "model_name": "LayoutModel",
          "state": {
            "_view_name": "LayoutView",
            "grid_template_rows": null,
            "right": null,
            "justify_content": null,
            "_view_module": "@jupyter-widgets/base",
            "overflow": null,
            "_model_module_version": "1.2.0",
            "_view_count": null,
            "flex_flow": null,
            "width": null,
            "min_width": null,
            "border": null,
            "align_items": null,
            "bottom": null,
            "_model_module": "@jupyter-widgets/base",
            "top": null,
            "grid_column": null,
            "overflow_y": null,
            "overflow_x": null,
            "grid_auto_flow": null,
            "grid_area": null,
            "grid_template_columns": null,
            "flex": null,
            "_model_name": "LayoutModel",
            "justify_items": null,
            "grid_row": null,
            "max_height": null,
            "align_content": null,
            "visibility": null,
            "align_self": null,
            "height": null,
            "min_height": null,
            "padding": null,
            "grid_auto_rows": null,
            "grid_gap": null,
            "max_width": null,
            "order": null,
            "_view_module_version": "1.2.0",
            "grid_template_areas": null,
            "object_position": null,
            "object_fit": null,
            "grid_auto_columns": null,
            "margin": null,
            "display": null,
            "left": null
          }
        },
        "7a0347296a074390a277cf358f872f7d": {
          "model_module": "@jupyter-widgets/controls",
          "model_name": "DescriptionStyleModel",
          "state": {
            "_view_name": "StyleView",
            "_model_name": "DescriptionStyleModel",
            "description_width": "",
            "_view_module": "@jupyter-widgets/base",
            "_model_module_version": "1.5.0",
            "_view_count": null,
            "_view_module_version": "1.2.0",
            "_model_module": "@jupyter-widgets/controls"
          }
        },
        "ca39ac1a27eb4160a52dfeff799bd347": {
          "model_module": "@jupyter-widgets/base",
          "model_name": "LayoutModel",
          "state": {
            "_view_name": "LayoutView",
            "grid_template_rows": null,
            "right": null,
            "justify_content": null,
            "_view_module": "@jupyter-widgets/base",
            "overflow": null,
            "_model_module_version": "1.2.0",
            "_view_count": null,
            "flex_flow": null,
            "width": null,
            "min_width": null,
            "border": null,
            "align_items": null,
            "bottom": null,
            "_model_module": "@jupyter-widgets/base",
            "top": null,
            "grid_column": null,
            "overflow_y": null,
            "overflow_x": null,
            "grid_auto_flow": null,
            "grid_area": null,
            "grid_template_columns": null,
            "flex": null,
            "_model_name": "LayoutModel",
            "justify_items": null,
            "grid_row": null,
            "max_height": null,
            "align_content": null,
            "visibility": null,
            "align_self": null,
            "height": null,
            "min_height": null,
            "padding": null,
            "grid_auto_rows": null,
            "grid_gap": null,
            "max_width": null,
            "order": null,
            "_view_module_version": "1.2.0",
            "grid_template_areas": null,
            "object_position": null,
            "object_fit": null,
            "grid_auto_columns": null,
            "margin": null,
            "display": null,
            "left": null
          }
        },
        "c034f911421e4584b5e010f6186a5410": {
          "model_module": "@jupyter-widgets/controls",
          "model_name": "ButtonStyleModel",
          "state": {
            "_view_name": "StyleView",
            "_model_name": "ButtonStyleModel",
            "_view_module": "@jupyter-widgets/base",
            "_model_module_version": "1.5.0",
            "_view_count": null,
            "button_color": null,
            "font_weight": "",
            "_view_module_version": "1.2.0",
            "_model_module": "@jupyter-widgets/controls"
          }
        },
        "2a4d982d2aed43f3817d134b7e64f18a": {
          "model_module": "@jupyter-widgets/base",
          "model_name": "LayoutModel",
          "state": {
            "_view_name": "LayoutView",
            "grid_template_rows": null,
            "right": null,
            "justify_content": null,
            "_view_module": "@jupyter-widgets/base",
            "overflow": null,
            "_model_module_version": "1.2.0",
            "_view_count": null,
            "flex_flow": null,
            "width": null,
            "min_width": null,
            "border": null,
            "align_items": null,
            "bottom": null,
            "_model_module": "@jupyter-widgets/base",
            "top": null,
            "grid_column": null,
            "overflow_y": null,
            "overflow_x": null,
            "grid_auto_flow": null,
            "grid_area": null,
            "grid_template_columns": null,
            "flex": null,
            "_model_name": "LayoutModel",
            "justify_items": null,
            "grid_row": null,
            "max_height": null,
            "align_content": null,
            "visibility": null,
            "align_self": null,
            "height": null,
            "min_height": null,
            "padding": null,
            "grid_auto_rows": null,
            "grid_gap": null,
            "max_width": null,
            "order": null,
            "_view_module_version": "1.2.0",
            "grid_template_areas": null,
            "object_position": null,
            "object_fit": null,
            "grid_auto_columns": null,
            "margin": null,
            "display": null,
            "left": null
          }
        },
        "d98e5f2dea8b49d4903b78cd6daf694c": {
          "model_module": "@jupyter-widgets/base",
          "model_name": "LayoutModel",
          "state": {
            "_view_name": "LayoutView",
            "grid_template_rows": null,
            "right": null,
            "justify_content": null,
            "_view_module": "@jupyter-widgets/base",
            "overflow": null,
            "_model_module_version": "1.2.0",
            "_view_count": null,
            "flex_flow": null,
            "width": null,
            "min_width": null,
            "border": null,
            "align_items": null,
            "bottom": null,
            "_model_module": "@jupyter-widgets/base",
            "top": null,
            "grid_column": null,
            "overflow_y": null,
            "overflow_x": null,
            "grid_auto_flow": null,
            "grid_area": null,
            "grid_template_columns": null,
            "flex": null,
            "_model_name": "LayoutModel",
            "justify_items": null,
            "grid_row": null,
            "max_height": null,
            "align_content": null,
            "visibility": null,
            "align_self": null,
            "height": null,
            "min_height": null,
            "padding": null,
            "grid_auto_rows": null,
            "grid_gap": null,
            "max_width": null,
            "order": null,
            "_view_module_version": "1.2.0",
            "grid_template_areas": null,
            "object_position": null,
            "object_fit": null,
            "grid_auto_columns": null,
            "margin": null,
            "display": null,
            "left": null
          }
        },
        "99637488c8264f698af6b5126f63612e": {
          "model_module": "@jupyter-widgets/controls",
          "model_name": "TabModel",
          "state": {
            "_view_name": "TabView",
            "_dom_classes": [],
            "_titles": {
              "0": "Youtube",
              "1": "Bilibili"
            },
            "_model_name": "TabModel",
            "_view_module": "@jupyter-widgets/controls",
            "selected_index": 0,
            "_model_module_version": "1.5.0",
            "_view_count": null,
            "_view_module_version": "1.5.0",
            "box_style": "",
            "layout": "IPY_MODEL_742b412e7ca040a99bafe6d7bc15fc9f",
            "_model_module": "@jupyter-widgets/controls",
            "children": [
              "IPY_MODEL_e6eaec5c3d4d4275b2795d982d67d06f",
              "IPY_MODEL_2421a20258ea4eb58c3b5c86534e582f"
            ]
          }
        },
        "742b412e7ca040a99bafe6d7bc15fc9f": {
          "model_module": "@jupyter-widgets/base",
          "model_name": "LayoutModel",
          "state": {
            "_view_name": "LayoutView",
            "grid_template_rows": null,
            "right": null,
            "justify_content": null,
            "_view_module": "@jupyter-widgets/base",
            "overflow": null,
            "_model_module_version": "1.2.0",
            "_view_count": null,
            "flex_flow": null,
            "width": null,
            "min_width": null,
            "border": null,
            "align_items": null,
            "bottom": null,
            "_model_module": "@jupyter-widgets/base",
            "top": null,
            "grid_column": null,
            "overflow_y": null,
            "overflow_x": null,
            "grid_auto_flow": null,
            "grid_area": null,
            "grid_template_columns": null,
            "flex": null,
            "_model_name": "LayoutModel",
            "justify_items": null,
            "grid_row": null,
            "max_height": null,
            "align_content": null,
            "visibility": null,
            "align_self": null,
            "height": null,
            "min_height": null,
            "padding": null,
            "grid_auto_rows": null,
            "grid_gap": null,
            "max_width": null,
            "order": null,
            "_view_module_version": "1.2.0",
            "grid_template_areas": null,
            "object_position": null,
            "object_fit": null,
            "grid_auto_columns": null,
            "margin": null,
            "display": null,
            "left": null
          }
        },
        "e6eaec5c3d4d4275b2795d982d67d06f": {
          "model_module": "@jupyter-widgets/output",
          "model_name": "OutputModel",
          "state": {
            "_view_name": "OutputView",
            "msg_id": "",
            "_dom_classes": [],
            "_model_name": "OutputModel",
            "outputs": [
              {
                "output_type": "stream",
                "metadata": {
                  "tags": []
                },
                "text": "Video available at https://youtube.com/watch?v=Zr6r2kfmQUM\n",
                "stream": "stdout"
              },
              {
                "output_type": "display_data",
                "metadata": {
                  "tags": []
                },
                "text/html": "\n        <iframe\n            width=\"854\"\n            height=\"480\"\n            src=\"https://www.youtube.com/embed/Zr6r2kfmQUM?fs=1&rel=0\"\n            frameborder=\"0\"\n            allowfullscreen\n        ></iframe>\n        ",
                "text/plain": "<IPython.lib.display.YouTubeVideo at 0x7f1e5638e390>",
                "image/jpeg": "/9j/4AAQSkZJRgABAQAAAQABAAD/2wCEABALDBoYFhsaGRkeHRsfITAlISEiIScqKikzLy0xMDAtLy01PVBCNThLOS0tRWFFS19XW1xbM0VlbWVYbFBZW1cBERISGRYZLxsbMFdCNjdXV1dXV1ddWlddV11XV11XV1dXV1diV1dXV1ddV1dXV1dXV1dXV1dXV15XV11XV1dXV//AABEIAWgB4AMBIgACEQEDEQH/xAAbAAEAAgMBAQAAAAAAAAAAAAAABAUBAgYDB//EAEYQAAIBAgMECAQDBQUGBwEAAAABAgMRBBIhBRMxURciQVNhcZLSMlKBkQYUoRVCVLHRIzNzssEkNGJygvEHFpOio+HwNf/EABcBAQEBAQAAAAAAAAAAAAAAAAABAgP/xAAfEQEBAQACAwEAAwAAAAAAAAAAARECIRIxUUEDEyL/2gAMAwEAAhEDEQA/APn4AAAAAAAAAAAAAAAAAAAAAAAAAAAAAAAAAAAAAAAAAAAAAAAAAAAAAAAAAAAAAAAAAAAAAAAAAAAAAAAAAAAAAAAAAAAAAAAAAAAAAAAAAAAAAAAAAAAAAAAAAAAAAAAAAAAAAAAAAAAAAAAAAAAAAAAAAAAAAAAAOv6OMb3uH9U/YOjjG97h/VP2AcgDr+jjG97h/VP2Do4xve4f1T9gHIA6/o4xve4f1T9g6OMb3uH9U/YByAOv6OMb3uH9U/YOjjG97h/VP2AcgDr+jjG97h/VP2Do4xve4f1T9gHIA6/o4xve4f1T9g6OMb3uH9U/YByAOv6OMb3uH9U/YOjjG97h/VP2AcgDr+jjG97h/VP2Do4xve4f1T9gHIA6/o4xve4f1T9g6OMb3uH9U/YByAOv6OMb3uH9U/YOjjG97h/VP2AcgDr+jjG97h/VP2Do4xve4f1T9gHIA6/o4xve4f1T9g6OMb3uH9U/YByAOv6OMb3uH9U/YOjjG97h/VP2AcgDr+jjG97h/VP2Do4xve4f1T9gHIA6/o4xve4f1T9g6OMb3uH9U/YByAOv6OMb3uH9U/YOjjG97h/VP2AcgDr+jjG97h/VP2Do4xve4f1T9gHIA6/o4xve4f1T9g6OMb3uH9U/YByAOv6OMb3uH9U/YOjjG97h/VP2AcgDr+jjG97h/VP2Do4xve4f1T9gHIA6/o4xve4f1T9g6OMb3uH9U/YByAOv6OMb3uH9U/YOjjG97h/VP2AcgDr+jjG97h/VP2Do4xve4f1T9gHIA6/o4xve4f1T9hE2n+CsVhYKdSpRacsvVlNvg32xXIDmwWS2JV+aH3f9DZbBrP8Aep/d/wBCbFyqsFuvw5Wf71P7y/obL8M1/mp/eX9B5QyqYF3/AOV6/wA9L7y/oP8AyvX+el95e0eUMqkBLxOAdOWV1Kba45XJ2/Q98NsaVX4K1GT5Xlf7ZRpitBcP8N1/mp/eX9DD/Dtb5qf3l/QbDKqAWr2BW+an95f0NXsKqv3ofd/0GwyvtgAKgAAAAAAAAAAAAAAAAAAAAAAAAAAAAAAAAAAAAAAAAAAAAAAAAAAAAAAAAAABQfjBf7ND/FX+WRfnP/jN2w0P8Vf5ZEvpZ7cnFHtBEWEiRTkcnRKhE9oxPGnUXNHvGceaIraxyf4hxE54l003lgkklztd/wAzrVOPNHL0IZ69es+Ck7dvbp+hZc7M3pXR2ZXlqofqjSdCth5xbThLsdzqdm4iE+qpdbk00/1Nto4elVg4OUc/ZaSun5Gf7buWN3+KZ1Wmzcbv6WZ2Uk7SS/me0yi/D11VqX0io2evbfT/AFL1tPg7mq5x5M0mtD0ZpIK+kgA7OIDzrVo04Oc5KMYq7k3ZJeLNwMgAAAAANJVYqSi5JSldpX1duNl9UbgAAAAAAGLmQAAAAwa0asZxUoSUovg07rR2f6oDcAAAab2OdQzLO1mUb62TSbtyu0bgAecK0ZOSjJNwdpJPg7J2f0af1PQAAAAAAAAAAAAAAAAAAAAAAAAAAABzv41/3WH+Kv8ALI6I538a/wC6w/xV/lkS+lntxkWSKUiNE9aZydEilq35kuESHQJtKSaujNaZcSuw+Gy0pxi9HN3/AE0LKXA86jUFLxs/ujN9N8c1AwVOO84pZdF2cdSR+z+tKd7qTuVdSDc80nq3p1nFfexarFShScZJaLTxRnk2r8JRs6rt8VRteRLw/FmkZpJK/BG2Gkm3Y6uFezNJcDdmkuDKPpAAOziqfxV//OxX+Eyfia6pUZ1GrqEHJrnZXNdoYOOIoVKM21GpFxbVr68rkbDbLnCSc8XXqxs04T3eV3VtbRTArae0qyhCrvK1SbyuVFYaahZ2uoyyX0T4t62JGPxU3UqqliKkd0tVCipRi8t7TbTb7NI2smSsNsp0nFRxNfdQ+Gk3CyS4LNlztfU2lszr1JRrVIRq6zhHLZu1m02m1dJcGBBWOr16mEjCoqSrYaVWdoqTTW7+G/8AzPmbQliK1TFxWJdONGoowywg3/dxlq2ndXfn4k3D7LhTlQkpSbo0nSje2qeXV6ceoj1oYKNOVaSbbrSzSvbR5VHT6RQFZgcfOtPZ85KN6uHnOXVXG1Pg+KWr0PJYjFflKeKeI1vG9PdxyyTmou+l72fFNeRZYXZMKX5fLKT/AC9N04XtqpZdXpx6iNv2ZD8ssPmlkVtdL6SzcrdgEZTrV8RXhCs6NOg4x6sYtyk4qbbzJ6Wklp46ntsPE1KtGUqslKaq1IXSsrRqSirLyRGx9FxxEqkFioOUVmlRUJRqWvo1K9muF9OPHQkbBwkqOGUZpxlKc5uLeZxzzckm+1pNXfMDFGdaeKrR3uWlSceqoq7vG7Tb4L9StntOpFQrxr1KkJVYxSdFRpSUpqPVdsy43Tb1t4l9SwyjUqTTbdRptPgrK2hAWwo7qNHf1dzCUZQh1OrlkpRjfLdpWtqwI0JSoV8fWlUnONOKk4ZYa9RtK6V9OH87mlPaFZKnU3lWpNuOel+WmoWk1fLLJdWTvdt3t46Wr2ct/OrvJ5akVGpS6rhKyaTd1daPsZ54bZcqbilia7pQtlpNwskuCcsuZrzYHvtKdWNCo6KzVEuqrJ+dk2k3a+hWUdqqnSxFR1qlV0qTm6VWkqc1ZceEdH5fUuMRRzwcc0oX4Sg7NeREo7KSlKdapOvJwdO9RQVouzcbRilrZfYDGDw+JTpzqYnNdXnT3ccmq4Qa1VnbVtlRhHXp4BV4V8qhKTVPJFxa3rupN63euqaLfCbMdKUf9przpw+CnJwstLJNqKlKy5tm0dlwWGeGzSyO+ul9ZOXK3FgQsXtCUsTUpKpVpQpKKvSoyqSlKSvq8skkk156mv7RxE6dGkupVq1pU97Km49WKcs6hJcWklrpe5PxOzc1R1adapRqNKMnDI8yV7XjJNXV3rxFfZkalKEJVKmaEs0at1nUtdeFu1q1rW0sBDhTqU8clOq6lsLNxk4xUvjhxto/sZe0Kv5DCVs39pUeHU3Za7yUFLTsvdkvD7My1d7OtUqz3bptzypWbT4RSS4dhGp7AioU6bxFaVOlKEqcG4WjkknFXUbyWltW/vqBDq46WHePnBdaWKpwi2m0nOnSjey1dr3suPAk4XGVFXpwU61aE7qTqYeUMjSupZsiVna1nzRMnsmlJV1LM1Xmpy1tlcYxinFrVNZU78zbC4KcJXnia1XSyU92kvHqRV35gVuzsdUdWnHEVqlOtJ9ajOklTbs+rTmlrbzenZyvythsnrQdTEVqsKcs0ITyWTXBuSipSt4vzuWQAAAAAAAAAAAAAAAAAAAAAAAAA538bP8A2WH+Kv8ALI6I5z8cf7rT/wAVf5ZEvpZ7cUme1LiR0yRSOTo9qb0Ztg8TTjDWcVd9skc/jMbJrInZX18SAzU4peTrcVtqhBO08z5R1/XgRq20YYinnj1JLSzepzbPShWdOSlG3k+DF4ddE599rWG1ZxdrX8jari5y609E+CNKW1qL1nRaf/DZr/QjbQ2gqtlGOWK+7Mzjd9N3lM9vSVfxLDZE7qXmc/vGXGwqq60b68bG7OnKXtcs85M2bPOTMNvpYAOzkAAAAABgyAMGQAMGQAAAAAEKvtKFOrCk1JuclG6tZNptLnwi3pwAmgr3tenxUZtb/cNpaZtFfj8N3a/MngZBgxmV7XV7Xt2+YGwNKk1GLk72Su7Jv9ERP2vR5z/9Kr7QJwPHDYmFVNwvZO2sZR/mkeE9pQVeNG0s0m4p2VrqOdrn8Pbw1QE0FfT2vTlu3GM3GpVlSUklZOGa7evC8XYngZAAAEPaO0IYaDnNSaScmo2ulFXk9eX+qMUdpRlVjTcJxc4OcMyXWUWk9L3XxLiBNBT/AIowEsRhJbu+8pveQSbWa3GOj7VdEKjs7ATwkcVGE3GUFJLfVL3eij8XHNp5gdKCHsrBfl6EKfatXq3q3d6vW13p4FbuI1drO0Vlo0VKfjOcuq34pR/UC8ckmk2rvguZsVeDqKVbE156KnJ0oN/uxik5vwvK9/8AlRn9t0t3Vm4zW7nGnKNlfNPLlS1/415AWZrmV7XV7Xt225nhRxinUq08souk0m5KyeZXTi+1dn0I223u6SxEfioyUvOLaU4/WN/qlyAsTIAAAAAAAAAA5v8AHX+6U/8AGX+WR0hUfiPZU8ZRjThKMWpqV5Xtwa7PMlWPnUWYxOIywduL5fzOkX4Jr99S/wDd/Q96P4OrQi1vad5O7fW7FZLh5/cxlbllfOWzB9GxP4JdWNpSpqXZJXuv01Kp/wDhzif4ij9pf0NS6zyknpxwOx6OcT/EUftL+g6OcT/EUftL+hplxwOx6OcT/EUftL+g6OcT/EUftL+gHGmYyaaadmu07Ho5xP8AEUftL+g6OcT/ABFH7S/oBVbO2pn6lRpS7Hz/APssJM9OjnE/xFH7S/oWVH8IYqMbSrUpWXHrX/kYvH43K7cAG2AAAAAAAAAAAAAAAAArsfhZyxFCtGKmqSn1W7aySSkn4K6+pYmAKfZWz6tOnTpVVFKE5VJyUr55OUpK2nC8r69qR57FnL/aKkZOrUnVbyyajZRe7i20tG1C9i8CSXBAVOBrV99iP7GOtWN/7Xh/Zw/4dTVSpR2po4KUsO81rJt548ebsW0KUYuTSs5O8vF2S/kkZyK97K/OwGKkXKLSk4trirXXirkT8jU/iq//AMXsJpkDxw9FwTUqk6mvGWW/lokQcZhKv5qFeEYzUaU4JOVsspOLzeVlZ9vmWgAp9mYCpTo0adRKKoRd5RebNNprOtOGsnr2vwMfhiWbD53Uc5VHvJXS6rm3K10uNmtOwuTCSXBWAi4rZuHrNSrUKVRpWTnCMmly1NKGx8LTkp08NRhNcJRpxTXk0icAIG2cJOvRVKFrSqQz3duopJyt5pW+pVbRrS32OrwbTw9CNKm1b4pXnJa+dO50ZpChCObLFLO80rL4nZK756JAR9k0o08PTpwm5xhHIpW45dOWq04lfgNk1KWJqRuvym831ON9VOS1jb5U7y82uRdpACJj1XvSdF9VTvUilHNKNnos1ktbHjsnBTpyr1auXe16mZqLuoxSUYxv22S/UsjAFdstZKuKpPjvd4vGNRJ39SkvoV72XXUYxyRko4uWIm8/94nKUopK2jV48dOqX0qMXOM2utFNJ9tnxXlovsbgUO2aUtzac928RXip8HFQ0um2vki/qyVtl58IqSblKu4043Vm8zV3bstG7+haNJ8Vc0dGLmptXkk0nyvxsB6AAAAAAAAAAAYMgDAMgDAMgDBkAAAAAAAGs/hfkbGs/hfkBsAAAMFXtTblPC1IQlGUm1mbXYrtX8eDAtTAI20azp0XKLs80Ve19HJJ6eTAkgrqONndq0qmZ2puUcjejcr3XBW427TMto2km4tRUXnWl4tTjFu/JXb8gLEEKeP6+SFNyd5JO6SeVK+vm7fQ1/aN1mjTbSgpz1ScU03bxejAnggPaLzNRpuSz5L5ktcuZacrBbQ4tq1oNuLa4qeX4vNATjJApY5znTSVutKMle+qino/qeksalW3dkvFySb0veK7UBKMkCWNm6SqRptRk4OLum2pSitV2NpiW0krpxUZqbi05pLRKV83K0l9wJ5ggvaLlH+zg5NQzS1XV1a+usX9jeOOtTzNNtOCfi55df8A3ASzJWR2nZWlZyvPjJRVozlFWvxen6HtS2gp1FBLRpNXaTacc11F8VrbzAmg8MViVSjmfa0lqlq/F8Dzhj4ulOo9FTvms7rRX0fbxAlgjUMTKU3CVNwkoqXxJqzbXZ26EkACuxW2qFKoqcpPNmUXaL0utPPs4FgBkA869aNOLlJ2S8G/0QHoCNhsfSqtKEr3jnjo7SjzT7V5HtUqRjFyk1GKV227JebA3BD/AGthv4mj/wCpH+pLTvwAyVuK2sob+UYZoYdXqyvbszOMV2tRafZxS8rIgVtk05qtFuahXu6kE7KTcVFu9rrRLg+wCXQrKpFSjwfB81fRrwfE9DSjTyRUbuVlxdr/AKG4AAiVdpUoTlByeeKu0oybsrXei1tdX5XQEsGsJqSUk7pq6fNM8K+Po05ZalanCXG0pxT+zAkg8MPjKVW6p1YTtxyyTt9j3AEXE4zJUp0oxzVKibSvZKMbXk3yu0vNkojV8HGdSNVSlGpGLipRt8Mmm1qmuMU/oBps/aEa6lZNOEnGfalKMnFq/wD038miYRsFgo0FJQcrSk5Wk72cm2/HVtvUkgAAAAAAAAAAAAAAAADWfwvyNjWfwvyA2AAA8K+DpVJRlUpxlKPwtq9j3I+IxtKlKMalSMXL4U3xA9zSrSU1llwun9mmv1SNzyxdfdwcrX1Ste3GSXH6gZr0FUSvdNO6admnw0f1PGWCiotQinLK49Ztp5neV+dz0p4jhnyxbdlaV76X5LxNXjqSteotUn9Hwb5LxAYfBRpxpLVunFpO/G9rt+bRrLZ9NpLrJZVFpSazJcFLnxZ6fm6efJnWa9rePG1+F/AxTxtKTspp6N+Flxd/ADKwsE7pa58/Httl/kaSwFN9j87vTrZ7r/q1NljaTi5Z1ZWve648OPPsNVj6bcEnfO2lo+K4p8gNoYSEZZtXK7d229Wkn+iRmeFjKSk3J2aeXM8t1wdjWOMh1LySckmlxWvDXgetCrnje1us19m1/oB5QwMIqycsqtaLk7LK00kvNISwcG29VJyzZk2neyj/ACS0JIAjVMDCVrud8uVtTd2uTfaay2fTb/et1dFJ2eW1m19ESwBF/Iw0yuUXrrGTT6zzNfd/Q2nhYuSk3J2d0nJ2ulZOxIAHh+WTpxhJuVkutd5rrtvzMSwqcXFuUtGutJtO6tquRIMAQcNgZKUpTk7tRStOT+Ft8X58P5k8ADWUE7XSdndeDMmQAI20KEqtCpTi1GU4uKb7L6XJJgDnsZRlKdfd51GO5w6yrhG6lUaVn+7NLziXzi5QteUW1x0zL/S56GAIn5GX8TX/APj9pKcE1Z6pqzv2mxpVzZZZbZrPLfhfsA8P2dQ7qHpRpUweHjbNSgrtRXV7XwI2yMKoqlKUKm+VO1Wcrq8pWcr/ADO60auklob7SoVHkarSs6sLLLDTreQEn9nUO5h6UaYXdWqujGMXFuDeXS6XhxSb/mSKVNqLU5upfmor6WRX/h7Dbugk6KpTfWnok3KTcpLyTdl+mgE/BznKlB1ElNxTlZNK9uxPVFXtfCySxFRPrVqcMPBRTvHNJpy+87/9JcgCu2dSlGtXvny3UYJpKKjGKtbTm5EqthpTldVqkPCOS36xZ7mQPChQcL3qznf58unlZIVsJTqO84Rk+F2j3K3HVn+YhSc93S3cpylfK5NNJRT7LXu7eHiBI/Z1DuYelGFs/DvhSp/ZGae8VGGRqrLKryqXhm0+J2Ts/CxFwEq+areFK29eZqpK60jwWXUCV+zqHcw9KI+MwtGEYqNGm5zkowTXa+Lfgkm/ob7XxVShTVWOVwhJOqmtcl7Sa5WTv9BQe+rTqfuQTp02u1/vyX1tH/pfMDOAoxjKdtzeLyy3cWmnZOz1fY0/qTin/DiW6lJSk5VJOpK7btmbyrzUct/oXAAAAAAAAAAAAAAANZ/C/I2NZ/C/IDYAAYKzaew6eJqRnOUk4qzStqr3t4cWWgAwjwxuH3tNw01cXqrrSSdmvoSDSrVjCLlJ2S7QIVTZ2eG7kqcIt3lu42vbh+tv5GlTCVZurBuKjOnGEpZXrpJNxV/Em0sTCfCWt7Wd072vaz14ansBB/JSzWzR3e83nDrXve1+HHtNXs29ONNy4QlBtL5ra/oWBrOSim3olxAh08C+MnHNeOqc3pGV/wB5sysHJTzKS1qOTTT4OKVvPQmgCtezpdVZ00lDjm0yWukk7a2/7k3D0skWr360n95N/wCptOoo2u7ZnZeL5fobgAAABgyAAAAAAAAAAAAAAAAAMGQBgyABgGQAAAAAADDSfFGQBgxGCV7JK7u/F8zYAazgpJxaumrNc0zTC4aFGnClTjlhBKMVyS8z1AGEjIAAAAAAAAAAAAAAANZ/C/I2NZ/C/IDYAAYKTbmzcTWrUpUamWMV8zWV3+Lx0/kXhgAeGNgpU2nCU9U7RdpaO90+a4nuAKlUqkpU5TjOUIVbxcks9nBq7S7MzXieM6NSNGrKWaM1SqZpJWzPK7PNm15rTTwLwNX0eqAqdzO8pUqc4qMYyyt/HJO7tr2q6v23XI1lha+WcbydqbcXm4zna6WvY83qXIuABVToVc9Xdp3kpWlJWab4WknZrkraHvs6k4uTs4ppdVxsr63fxPXmycZAp/y095BunLOqzlKpfq5etl7eTSsYoYatkfxRqbtqWls0tNc2Z3ejs7dvYXAAq6lFOMYwoyjDNeSkr9mnVzcL9v8A3NIwqLdU23erBKeuscnF8e1dX7Fwa5Fe9lfhe2v3AyZBgDIBgDIMADIAAAAAAAAAAAAAAAAAAAAAAAAAAAAAAAAAAAAAAAAAAAAAAABrP4X5GxrP4X5AbAAAUe3NoYmlWpRoU80Wteq3d3tl8Oz7l4AMIi7Tk1Rdm0rxzNcVHMszVvC5KAFbOpRpRboSgpdVOzvFJySztJ20u9TWWLqdaMZqSjO2dZE5LLeyu8rafHwLONOKvZJX42RjdRtlyq3Kyt9gK6GJlKSySSz5Os49jhJ8G9OBp+eqdWLlZp1E5pQV8k8q+JpcNWW1lyMSgmrNJrjqgK2riZ5d51U4RhFvjGLm45peKSaZtVxkqSTzqqneKaSvn4xi7aa6r7FjlXLjxPKeGi3DsUHdRWiv2NrwAi0683OUZ1YxcWo5LLrdVO/PVt2tyIWCxUlSppSUc0KKc3ra8G766cUl9S7cFe9lddttQ4q1rK3KwFXi8bOEW4VFLJDM3aNpatW4+Gtv/o98PNqGIaaTU5WcnouqrX8CZu46dVacNOHkbWAq4Y2TSi6mVueWU5KHVvFtWa6rvbS5rUqzUqs4VU8lKErpJqVnU8dOHYWipRtbKrcrKxnKuSAro4yo6rXC1TLkbgtOfHNdrVeH3I0sZN7upvE5bupLIkuq1Hg+dnpr2l1kV72V+dtfuFBJtpK746AVmKxeeSjGScVKg7xfbKo09fJIxRxtWSbvFXjJ2k4JQa4cHfR6O/6FpGCWiSXkhkV27K74u3ECNs+u5xkpNtxdnfLyT4xdmSzWMFFWSSXJKxsAAAAAAAAAAAAAAAAAAAAAAAAAAAAAAAAAAAAAAAAAAAAAADWfwvyNjWfwvyA2AAGCr2ptynhakISjKTazNrsV2r+PBlqeFfB0qkoyqU4ycfhbV7AeyMmDWcMytdrVPR24O4G4POFFRd7yfHjJvi7/AP7wPQAAAAAAAAAAAAAAAAAAAAAAAAAAAAAAAAAAAAAAAAAAAAAAAAAAAAAAAAAAAAAAAAAAABrP4X5GxrP4X5AbAAARcVtGjRlCNWrGEp/Cm+JJKfbH4co4yrCpUlNOKytRtaSTbt4cX9yXfxrj47/pcETamPjhqMqsk2k0rKy1bstXouPElpEfH0J1KThCUYydtZQU4vXVOL7GVJm9oK27GMYyrU3TzzUItThNO/7yafBdorbcUFK8L2jWl1ZJ/wBza/1d/oRaH4enCLcZ0ozdWFRRjTaprIrWy3vrzPSpsCUlJb1dZV18PfW8ez9TPbrnBa4bFwq3UZLNFRco31jmV1f6Egi4ShOF1KUXG0VG0bNWVnd311JRpyoeWIxEKUc9SShFNJtuy1dkepD2ngt/SyZsvXhK7V/hkpW+tgTN7YW1sO6bqKtHIpZW/HlbjczU2rh4RhKVaCjNXi78V2vy8SvxuwXUnOpGplk6qqR+JL4FBpuLT7L3TR41Pw07QyVFFqMozV62V5pZm9J5uN9G2mZ2uknD6sNobao0E05KU1l6ievWaS/nf6Hti9pU6NWlSm+tVbUfDTt/kVlX8PztUhTqwjSqOm2nByknTypJPNw6q43LDaGCnVqUJwlGLpTbakm01KLi1o9HZjtM4vWhtKhUqOnCrGU1e6T5aO3Ox4vbNBVqtKUsrpJOTfDXl5afdEXAbFnSnRzVYyp0FJU0oWk83zO+tly4mcfsadWpiJRqRjGtTjF3i21KDvF8eGuqHZnDfawrbQo03JTqxjlaTu+DkrpfU83tbD7uNTfRySbSfNrircdCHHY9WVR1KlWDk6tOo1GDS6iatq3z4njW/D0m1KNW01VqTXxxVqjva8JJ3WnaNpJw/assdtGFGiq2koOUVdNWtKSV78tbm1DadCo0oVYybk4pX4tK7X21I9TZKeFp4eLUVCUHwbXVkpNatvW3ayDtfZdS1WVLM61StGdJxS/s2oqDcm+y1/uOyTjellPbWFjxrwXbx7LtX8rp6nrLaNFVFSdWOd2sr8+H37CmnsaqqsqdBxhS/Kwo5pwzJ2cr21Wut9eZvH8N5at1PNSbg3GTqJ3gopWyzUX8K4p2G1fHh9WT2zhle9eGksr14PXTz0egltfDKnGo60ckr2flx+3byK6vsqrCOHjSalKOKlVcnHSKlneqvr8SRh/h+rb+/V5OpKokpxjmqW1SjJcLWs+NxtPHh9WstpUFLK6sMyjmtfste/lbtNY7Xw7g576GVSytt2s3wTuQ6WxJRp1oxrZZVKNOkpKNnHJFq/HtNKGwpRlmlUWtWnUtaT+BNWvKTb4jamcPqfQ2th6koxhWhKUk2kny4/8AY8a+3sNClUqqopqmtVHi78LX43s9eBH/AGBeydTTeVpuys7VU1ZO+jV+J4U/w3Lc1acqicpUt1Cf9q7K99VKbS4LRJDtc4fVt+1KGaMN7HNNJxV+fDyv2Gstr4ZZv7aHVllklq09dLLt0engV9TYE51nUnUi1NwdSN6qV4pLqqM0uxfFex6VdiSdF01KDe/nVvJTVszk7Jxkmmr8RtTOH1b0qsZxUotSi1dNdpuR8BQlSowhObqSjGzm+LJBpzoAAAAAAAAAAAAAAAAAAAAAAAAAAAAAAAAaz+F+Rsaz+F+QGwAAAAAAAAAAAAAYMlftulVnh5RpXzZouSi8spRTWaKfY2rhZNqwBzNHZ9aTislSGHeIuqcqjzRhu2ndqXBytpcj1dnYtU6Ucs3Ti6iyq8mrzeR/3kf3bWd9ORnW/CfXU1q8aeXPJLNJRV+1vgj0KrFYWq8PhY61JwqUnOTsn1eMmrlThsFjYzqSak6ijUvxUal75Vn3nk1aKtaxdJwlnt1YOTpbOxOWcVGpGEp0Ho3B6Se9a67a0t2krE7LqZ6koRneNajuv7R2UFlU7K/LNe5NPCfV9h8RGom4O6UnF6NaxdmtfE9Tm6ezK06kFWVTd3xDl12vimnTvZ66XsVeOVWlRtXzuosJFRtWSdOXWTbWa7u7cL3tYeSz+OW9V3BgqsfhZ1aeFjadlOO9yycXlyO92nfjYro4LEPFqTpyjDeyjJpuzp5Wo9bPr2aJKz/W6zOMv66SlVjOKlCSlF8GndP6muJxEKUHOpJRiuLfi7L9WclHZuJjQoQVKooxzqcfi6zayzSVSOluDvpyLfaWz6lXBUabzVKkZUnJt5W7SWZuz42v2k1bwks7XFOalFSXBq60sbnNPA11idIVc6rxca286ipK14WvyTVrcdblhsXCTpYZ5lLfSzNqc2+15Ve7svIupeMk3VhiK8aUXOclGKtdvxdl+rFGvGebJJPLJxlbsa4o5Sns7FOnUTpz69OF4vRZ1UTfGcr6X10uXeEwU93i4TThvatRxaetpLSSsTVvCT9WppUmoxcnokrv6HL0cDjpuDqZkqsoxqrP8EaTjZrX960r/wDMMPgMYqlRyc89ql5JaTunkWZ1PK3VVrDV8J9dRTmpRUo6pq6fgzFKvGebLJPLLLLwa4o47aSqQVRVMzqbukqbjWScNEnFxzXbbv2O9yy/ZdRVt4oTUnjMzanpu3Gzdr2tf6jTwn1f0qsZrNCSkrtXTutHZ/qjc4/9m1o4dQjRq5oVajtpKE7u8H8aa0tr2O/mdbh77uGZWllV1e9nbVX7Sy6zy4yeq9AAVgAAAAAAAAAAAAAAAAAAAAAAAAAAAAADWfwvyNjWfwvyA2BX76XzMb6fzMCwBX76XzMb6XzMCwBX76fzMb6fNgWAK/fT+ZjfS+ZgWAK/fS+ZjfS+ZgWBggb6fzMb6XzMCeCBvpfMxvp/MwJ4IG+n8zG+l8zAnggb6XzMb6XzMCeaToxk03GLa4NpNryIe+l8zG+l8zAnggb6XzMb6XzMCeCBvpfMxvpfMwJ4IG+l8zG+l8zAnggb6XzMb6XzMCeCBvpfMzwxW0HTSvLV8LuyXDVvlqvuBZujByUnGLkuDsr/AHNznNo7RxFKGmao3pLdxy2UuEk5N3aSd1430LKnXqNXk7O/Y76dmtuQFiCBvpfMxvpfMwLAFfvpfMxvpfMwLAFfvpfMxvpfMwLAFfvpfMxvpfMwLAFfvpfMxvpfMwLAFfvpfMxvp/MwLAFfvp/MxvpfMwLAFfvp/MxvpfMwLAFfvp/MxvpfMwLAFfvp/Mxvp/MwLAFfvp/MxvpfMwLAFfvp/Mxvp/MwLAFfvpfMzSeLytKVRJvgm0m/ICzNZ/C/Ir4YpyvlqXs7OzTs+TMzrSs+s+AGhTYqni41arpXyyneNnB8KcErqXCF1O9teR0W6XIbpcgOdj+elOabcIOWjW6bX95otNVpT4q+odPGSvmejssnUSXVpu91rfNvFxOi3S5DdLkBz06OKq4avTqOSnKSUJJwi8t1e2XhZX4tkNbPxueUpTblJWupJKOWFWKcV2Xe7b/5vA63dLkN0uQHLwoYyLnJKbbtZuVPMrqim7axv1amlv5nlXrY2SdGTlvJUZLLFQUU91LVy4qWe2t7cDrd0uQ3S5Ac8njs1O6557btxesuC42Sy21vrqSMLSrzw6VWpOnUU7uSyXaT7UlZX5FzulyG6XIDn9r4WtOpJwjUlemlScKmRU53fWkrq6+Hnwatrr4z/OVHK0qmWNRXsqcb5asfg7fhUr5uOnY3fpt0uQ3S5Ac3ucaoxUZuFk1ZKm9cs3e7T1zZF9X9NnHGRn1VLLepJq9OzbXUWuq17VyWh0W6XIbpcgOYdHGyyOTm+xpumlbe05JyStrlzcOXjrulj5aOTjrq7Urp5Z3UdGsmbd2v1tXc6TdLkN0uQESi5ZI5/iyrN521/U3JG6XIbpcgI4JG6XIbpcgI4JG6XIbpcgI4JG6XIbpcgI4JG6XIbpcgI4JG6XIbpcgI5VbTxcYVILLKSlJU5WhdR1UtW9LNX17C93S5Gk8NCTTavZNcXbXjp2gUlssoqP8AaSd705TUpU3aVrJcF1ndvs+iLOlDLCMb3ypK/krEqNCK4RS8jO6jyAjgkbqPIbqPICOCRuo8huo8gI4JG6jyG6jyAjgkbqPIbqPICOCRuo8huo8gI54Y6i6lGpCLcZSi0mnZp9j+5P3UeQ3UeQHJww2PTc7tStnSzRdnUlHPBX06sYu19Ose1enj5xnG+jpWVlFXeTmneMs3LSx026jyG6jyAosVh8RVwTjKUlX49WUY3afBNfu8u3n2lhunvnPeSyuNt3plTvfNzuTd0uQ3UeQHLUMNiqavThUi8rU81WMszc1aUYyckrRzcuNiVs+riXWUKr0jTU6mkfiay5LpW4pz058i/wB0uQ3a5AUWz8NiI1sQ6stKkY5ZRm2k+t8MWtLJx+3bqb7QwEp4aNPNOpUi49bO4t9ZZm7Ndly63UeQ3UeQHNVKeMtkjnjCE9HF07yiqyypNu+lO978ba3N6SxzklJtRzrO7UuGWd1G37l92lfras6LdR5DdR5AczCnjW4waapqML9aHGLpu6a17y978CynQn+bhUTlu91OMlfqp3g46c/i1LTdR5DdR5ARiPiKEpTjKLs1pfNJNK6b0Wj4dpY7pchuo8gK3CYaUHrl0goK19Um9X468P6kiXB+RK3S5Gs6Ss9OwD1AAAAAAAAAAAAAAAAAAAAAAAAAAAAAAAAAAAAAAAAAAAAAAAAAAAAAAAAAAAAAAAAAAAAAAAAAAAAADWfB+Rsaz4PyA2B806QsZ3WH9M/eOkLGd1h/TP3gfSwfNOkLGd1h/TP3jpCxndYf0z94H0sHzTpCxndYf0z946QsZ3WH9M/eB9LB806QsZ3WH9M/eOkLGd1h/TP3gfSwfNOkLGd1h/TP3jpCxndYf0z94H0sHzTpCxndYf0z946QsZ3WH9M/eB9LB806QsZ3WH9M/eOkLGd1h/TP3gfSwfNOkLGd1h/TP3jpCxndYf0z94H0sHzTpCxndYf0z946QsZ3WH9M/eB9LB806QsZ3WH9M/eOkLGd1h/TP3gfSwfNOkLGd1h/TP3jpCxndYf0z94H0sHzTpCxndYf0z946QsZ3WH9M/eB9LB806QsZ3WH9M/eOkLGd1h/TP3gfSwfNOkLGd1h/TP3jpCxndYf0z94H0sHzTpCxndYf0z946QsZ3WH9M/eB9LB806QsZ3WH9M/eOkLGd1h/TP3gfSwfNOkLGd1h/TP3jpCxndYf0z94H0sHzTpCxndYf0z946QsZ3WH9M/eB9LB806QsZ3WH9M/eOkLGd1h/TP3gfSwfNOkLGd1h/TP3jpCxndYf0z94H0sHzTpCxndYf0z946QsZ3WH9M/eB9LB806QsZ3WH9M/eOkLGd1h/TP3gfSwfNOkLGd1h/TP3jpCxndYf0z94H0sHzTpCxndYf0z946QsZ3WH9M/eB9LB806QsZ3WH9M/eOkLGd1h/TP3gfSwfNOkLGd1h/TP3jpCxndYf0z94H0sHzTpCxndYf0z946QsZ3WH9M/eB9LB806QsZ3WH9M/eOkLGd1h/TP3gfSwfNOkLGd1h/TP3jpCxndYf0z94H0s1nwfkfNukLGd1h/TP3h/+IOMa/usP6Z+8DkwAAAAAAAAAAAAAAAAAAAAAAAAAAAAAAAAAAAAAAAAAAAAAAAAAAAAAAAAAAAAAAAAAAAAAAAAAAAAAAAAAAAAAAAAAAAAAAAAAAAAAAAAAAAAAAAAAAAAAAAAAAAAAAAAAAAAAAAAAAAAAAAAAAAAAAAAAAAAAAAAAAAAAAAAAAAAAAAAAAAAAAAAAAAAAAAAAAAAAAAAAAAAAAAAAAAAAAAAAAAAAAAAAAAAAAAAAAAAAAAf/9k=\n"
              }
            ],
            "_view_module": "@jupyter-widgets/output",
            "_model_module_version": "1.0.0",
            "_view_count": null,
            "_view_module_version": "1.0.0",
            "layout": "IPY_MODEL_b5e92a11314845c18b31c4bdfdda1ec6",
            "_model_module": "@jupyter-widgets/output"
          }
        },
        "2421a20258ea4eb58c3b5c86534e582f": {
          "model_module": "@jupyter-widgets/output",
          "model_name": "OutputModel",
          "state": {
            "_view_name": "OutputView",
            "msg_id": "",
            "_dom_classes": [],
            "_model_name": "OutputModel",
            "outputs": [
              {
                "output_type": "stream",
                "metadata": {
                  "tags": []
                },
                "text": "Video available at https://www.bilibili.com/video/BV1eq4y1W7JG\n",
                "stream": "stdout"
              },
              {
                "output_type": "display_data",
                "metadata": {
                  "tags": []
                },
                "text/html": "\n        <iframe\n            width=\"854\"\n            height=\"480\"\n            src=\"https://player.bilibili.com/player.html?bvid=BV1eq4y1W7JG&page=1?fs=1\"\n            frameborder=\"0\"\n            allowfullscreen\n        ></iframe>\n        ",
                "text/plain": "<__main__.BiliVideo at 0x7f1e55eaa350>"
              }
            ],
            "_view_module": "@jupyter-widgets/output",
            "_model_module_version": "1.0.0",
            "_view_count": null,
            "_view_module_version": "1.0.0",
            "layout": "IPY_MODEL_a28b83ae9a5a48ed888ab4b8a727e264",
            "_model_module": "@jupyter-widgets/output"
          }
        },
        "b5e92a11314845c18b31c4bdfdda1ec6": {
          "model_module": "@jupyter-widgets/base",
          "model_name": "LayoutModel",
          "state": {
            "_view_name": "LayoutView",
            "grid_template_rows": null,
            "right": null,
            "justify_content": null,
            "_view_module": "@jupyter-widgets/base",
            "overflow": null,
            "_model_module_version": "1.2.0",
            "_view_count": null,
            "flex_flow": null,
            "width": null,
            "min_width": null,
            "border": null,
            "align_items": null,
            "bottom": null,
            "_model_module": "@jupyter-widgets/base",
            "top": null,
            "grid_column": null,
            "overflow_y": null,
            "overflow_x": null,
            "grid_auto_flow": null,
            "grid_area": null,
            "grid_template_columns": null,
            "flex": null,
            "_model_name": "LayoutModel",
            "justify_items": null,
            "grid_row": null,
            "max_height": null,
            "align_content": null,
            "visibility": null,
            "align_self": null,
            "height": null,
            "min_height": null,
            "padding": null,
            "grid_auto_rows": null,
            "grid_gap": null,
            "max_width": null,
            "order": null,
            "_view_module_version": "1.2.0",
            "grid_template_areas": null,
            "object_position": null,
            "object_fit": null,
            "grid_auto_columns": null,
            "margin": null,
            "display": null,
            "left": null
          }
        },
        "a28b83ae9a5a48ed888ab4b8a727e264": {
          "model_module": "@jupyter-widgets/base",
          "model_name": "LayoutModel",
          "state": {
            "_view_name": "LayoutView",
            "grid_template_rows": null,
            "right": null,
            "justify_content": null,
            "_view_module": "@jupyter-widgets/base",
            "overflow": null,
            "_model_module_version": "1.2.0",
            "_view_count": null,
            "flex_flow": null,
            "width": null,
            "min_width": null,
            "border": null,
            "align_items": null,
            "bottom": null,
            "_model_module": "@jupyter-widgets/base",
            "top": null,
            "grid_column": null,
            "overflow_y": null,
            "overflow_x": null,
            "grid_auto_flow": null,
            "grid_area": null,
            "grid_template_columns": null,
            "flex": null,
            "_model_name": "LayoutModel",
            "justify_items": null,
            "grid_row": null,
            "max_height": null,
            "align_content": null,
            "visibility": null,
            "align_self": null,
            "height": null,
            "min_height": null,
            "padding": null,
            "grid_auto_rows": null,
            "grid_gap": null,
            "max_width": null,
            "order": null,
            "_view_module_version": "1.2.0",
            "grid_template_areas": null,
            "object_position": null,
            "object_fit": null,
            "grid_auto_columns": null,
            "margin": null,
            "display": null,
            "left": null
          }
        },
        "a086e755feb04cea8ce2d6eeb70feb75": {
          "model_module": "@jupyter-widgets/controls",
          "model_name": "VBoxModel",
          "state": {
            "_view_name": "VBoxView",
            "_dom_classes": [
              "widget-interact"
            ],
            "_model_name": "VBoxModel",
            "_view_module": "@jupyter-widgets/controls",
            "_model_module_version": "1.5.0",
            "_view_count": null,
            "_view_module_version": "1.5.0",
            "box_style": "",
            "layout": "IPY_MODEL_33e2c6e67c6a488aa0ff1f65dad8f2bf",
            "_model_module": "@jupyter-widgets/controls",
            "children": [
              "IPY_MODEL_a5f73fe6428248dd9f1bbcbcd6128e5f",
              "IPY_MODEL_9f81951e89ba4c5f9502985dd462ec85",
              "IPY_MODEL_6489d4de2af844c4ad7272c42b2898f8",
              "IPY_MODEL_30ef22f77d6340d1bd7d9fc05b8ae319"
            ]
          }
        },
        "33e2c6e67c6a488aa0ff1f65dad8f2bf": {
          "model_module": "@jupyter-widgets/base",
          "model_name": "LayoutModel",
          "state": {
            "_view_name": "LayoutView",
            "grid_template_rows": null,
            "right": null,
            "justify_content": null,
            "_view_module": "@jupyter-widgets/base",
            "overflow": null,
            "_model_module_version": "1.2.0",
            "_view_count": null,
            "flex_flow": null,
            "width": null,
            "min_width": null,
            "border": null,
            "align_items": null,
            "bottom": null,
            "_model_module": "@jupyter-widgets/base",
            "top": null,
            "grid_column": null,
            "overflow_y": null,
            "overflow_x": null,
            "grid_auto_flow": null,
            "grid_area": null,
            "grid_template_columns": null,
            "flex": null,
            "_model_name": "LayoutModel",
            "justify_items": null,
            "grid_row": null,
            "max_height": null,
            "align_content": null,
            "visibility": null,
            "align_self": null,
            "height": null,
            "min_height": null,
            "padding": null,
            "grid_auto_rows": null,
            "grid_gap": null,
            "max_width": null,
            "order": null,
            "_view_module_version": "1.2.0",
            "grid_template_areas": null,
            "object_position": null,
            "object_fit": null,
            "grid_auto_columns": null,
            "margin": null,
            "display": null,
            "left": null
          }
        },
        "a5f73fe6428248dd9f1bbcbcd6128e5f": {
          "model_module": "@jupyter-widgets/controls",
          "model_name": "IntSliderModel",
          "state": {
            "_view_name": "IntSliderView",
            "style": "IPY_MODEL_24cbc59b15db42bf8e38b70f88c4f332",
            "_dom_classes": [],
            "description": "batch_size",
            "step": 5,
            "_model_name": "IntSliderModel",
            "orientation": "horizontal",
            "max": 250,
            "_view_module": "@jupyter-widgets/controls",
            "_model_module_version": "1.5.0",
            "value": 135,
            "_view_count": null,
            "disabled": false,
            "_view_module_version": "1.5.0",
            "min": 25,
            "continuous_update": true,
            "readout_format": "d",
            "description_tooltip": null,
            "readout": true,
            "_model_module": "@jupyter-widgets/controls",
            "layout": "IPY_MODEL_d7c868d57df6461aa90ed20a4920ce6e"
          }
        },
        "9f81951e89ba4c5f9502985dd462ec85": {
          "model_module": "@jupyter-widgets/controls",
          "model_name": "FloatLogSliderModel",
          "state": {
            "_view_name": "FloatLogSliderView",
            "orientation": "horizontal",
            "_view_module": "@jupyter-widgets/controls",
            "_model_module_version": "1.5.0",
            "_view_count": null,
            "disabled": false,
            "readout_format": ".3g",
            "_model_module": "@jupyter-widgets/controls",
            "style": "IPY_MODEL_d3a9fa3487ec40b4b38daff0401f7bb6",
            "layout": "IPY_MODEL_7c4bafc4e8b94059ad2df2a245789629",
            "min": -5,
            "continuous_update": true,
            "description_tooltip": null,
            "_dom_classes": [],
            "description": "lr",
            "_model_name": "FloatLogSliderModel",
            "max": 0,
            "readout": true,
            "step": 0.1,
            "base": 10,
            "value": 0.002,
            "_view_module_version": "1.5.0"
          }
        },
        "6489d4de2af844c4ad7272c42b2898f8": {
          "model_module": "@jupyter-widgets/controls",
          "model_name": "IntSliderModel",
          "state": {
            "_view_name": "IntSliderView",
            "style": "IPY_MODEL_48e863e518df4dba803820d685ce9a18",
            "_dom_classes": [],
            "description": "max_steps",
            "step": 5,
            "_model_name": "IntSliderModel",
            "orientation": "horizontal",
            "max": 500,
            "_view_module": "@jupyter-widgets/controls",
            "_model_module_version": "1.5.0",
            "value": 275,
            "_view_count": null,
            "disabled": false,
            "_view_module_version": "1.5.0",
            "min": 50,
            "continuous_update": true,
            "readout_format": "d",
            "description_tooltip": null,
            "readout": true,
            "_model_module": "@jupyter-widgets/controls",
            "layout": "IPY_MODEL_d4852a10fb8d434e86507dfea8cb2e7f"
          }
        },
        "30ef22f77d6340d1bd7d9fc05b8ae319": {
          "model_module": "@jupyter-widgets/output",
          "model_name": "OutputModel",
          "state": {
            "_view_name": "OutputView",
            "msg_id": "",
            "_dom_classes": [],
            "_model_name": "OutputModel",
            "outputs": [
              {
                "output_type": "display_data",
                "metadata": {
                  "tags": [],
                  "image/png": {
                    "width": 630,
                    "height": 197
                  },
                  "needs_background": "light"
                },
                "image/png": "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\n",
                "text/plain": "<Figure size 648x216 with 3 Axes>"
              }
            ],
            "_view_module": "@jupyter-widgets/output",
            "_model_module_version": "1.0.0",
            "_view_count": null,
            "_view_module_version": "1.0.0",
            "layout": "IPY_MODEL_6e7591aa58c24e97a1da19baac6157d3",
            "_model_module": "@jupyter-widgets/output"
          }
        },
        "24cbc59b15db42bf8e38b70f88c4f332": {
          "model_module": "@jupyter-widgets/controls",
          "model_name": "SliderStyleModel",
          "state": {
            "_view_name": "StyleView",
            "handle_color": null,
            "_model_name": "SliderStyleModel",
            "description_width": "",
            "_view_module": "@jupyter-widgets/base",
            "_model_module_version": "1.5.0",
            "_view_count": null,
            "_view_module_version": "1.2.0",
            "_model_module": "@jupyter-widgets/controls"
          }
        },
        "d7c868d57df6461aa90ed20a4920ce6e": {
          "model_module": "@jupyter-widgets/base",
          "model_name": "LayoutModel",
          "state": {
            "_view_name": "LayoutView",
            "grid_template_rows": null,
            "right": null,
            "justify_content": null,
            "_view_module": "@jupyter-widgets/base",
            "overflow": null,
            "_model_module_version": "1.2.0",
            "_view_count": null,
            "flex_flow": null,
            "width": null,
            "min_width": null,
            "border": null,
            "align_items": null,
            "bottom": null,
            "_model_module": "@jupyter-widgets/base",
            "top": null,
            "grid_column": null,
            "overflow_y": null,
            "overflow_x": null,
            "grid_auto_flow": null,
            "grid_area": null,
            "grid_template_columns": null,
            "flex": null,
            "_model_name": "LayoutModel",
            "justify_items": null,
            "grid_row": null,
            "max_height": null,
            "align_content": null,
            "visibility": null,
            "align_self": null,
            "height": null,
            "min_height": null,
            "padding": null,
            "grid_auto_rows": null,
            "grid_gap": null,
            "max_width": null,
            "order": null,
            "_view_module_version": "1.2.0",
            "grid_template_areas": null,
            "object_position": null,
            "object_fit": null,
            "grid_auto_columns": null,
            "margin": null,
            "display": null,
            "left": null
          }
        },
        "d3a9fa3487ec40b4b38daff0401f7bb6": {
          "model_module": "@jupyter-widgets/controls",
          "model_name": "SliderStyleModel",
          "state": {
            "_view_name": "StyleView",
            "handle_color": null,
            "_model_name": "SliderStyleModel",
            "description_width": "",
            "_view_module": "@jupyter-widgets/base",
            "_model_module_version": "1.5.0",
            "_view_count": null,
            "_view_module_version": "1.2.0",
            "_model_module": "@jupyter-widgets/controls"
          }
        },
        "7c4bafc4e8b94059ad2df2a245789629": {
          "model_module": "@jupyter-widgets/base",
          "model_name": "LayoutModel",
          "state": {
            "_view_name": "LayoutView",
            "grid_template_rows": null,
            "right": null,
            "justify_content": null,
            "_view_module": "@jupyter-widgets/base",
            "overflow": null,
            "_model_module_version": "1.2.0",
            "_view_count": null,
            "flex_flow": null,
            "width": null,
            "min_width": null,
            "border": null,
            "align_items": null,
            "bottom": null,
            "_model_module": "@jupyter-widgets/base",
            "top": null,
            "grid_column": null,
            "overflow_y": null,
            "overflow_x": null,
            "grid_auto_flow": null,
            "grid_area": null,
            "grid_template_columns": null,
            "flex": null,
            "_model_name": "LayoutModel",
            "justify_items": null,
            "grid_row": null,
            "max_height": null,
            "align_content": null,
            "visibility": null,
            "align_self": null,
            "height": null,
            "min_height": null,
            "padding": null,
            "grid_auto_rows": null,
            "grid_gap": null,
            "max_width": null,
            "order": null,
            "_view_module_version": "1.2.0",
            "grid_template_areas": null,
            "object_position": null,
            "object_fit": null,
            "grid_auto_columns": null,
            "margin": null,
            "display": null,
            "left": null
          }
        },
        "48e863e518df4dba803820d685ce9a18": {
          "model_module": "@jupyter-widgets/controls",
          "model_name": "SliderStyleModel",
          "state": {
            "_view_name": "StyleView",
            "handle_color": null,
            "_model_name": "SliderStyleModel",
            "description_width": "",
            "_view_module": "@jupyter-widgets/base",
            "_model_module_version": "1.5.0",
            "_view_count": null,
            "_view_module_version": "1.2.0",
            "_model_module": "@jupyter-widgets/controls"
          }
        },
        "d4852a10fb8d434e86507dfea8cb2e7f": {
          "model_module": "@jupyter-widgets/base",
          "model_name": "LayoutModel",
          "state": {
            "_view_name": "LayoutView",
            "grid_template_rows": null,
            "right": null,
            "justify_content": null,
            "_view_module": "@jupyter-widgets/base",
            "overflow": null,
            "_model_module_version": "1.2.0",
            "_view_count": null,
            "flex_flow": null,
            "width": null,
            "min_width": null,
            "border": null,
            "align_items": null,
            "bottom": null,
            "_model_module": "@jupyter-widgets/base",
            "top": null,
            "grid_column": null,
            "overflow_y": null,
            "overflow_x": null,
            "grid_auto_flow": null,
            "grid_area": null,
            "grid_template_columns": null,
            "flex": null,
            "_model_name": "LayoutModel",
            "justify_items": null,
            "grid_row": null,
            "max_height": null,
            "align_content": null,
            "visibility": null,
            "align_self": null,
            "height": null,
            "min_height": null,
            "padding": null,
            "grid_auto_rows": null,
            "grid_gap": null,
            "max_width": null,
            "order": null,
            "_view_module_version": "1.2.0",
            "grid_template_areas": null,
            "object_position": null,
            "object_fit": null,
            "grid_auto_columns": null,
            "margin": null,
            "display": null,
            "left": null
          }
        },
        "6e7591aa58c24e97a1da19baac6157d3": {
          "model_module": "@jupyter-widgets/base",
          "model_name": "LayoutModel",
          "state": {
            "_view_name": "LayoutView",
            "grid_template_rows": null,
            "right": null,
            "justify_content": null,
            "_view_module": "@jupyter-widgets/base",
            "overflow": null,
            "_model_module_version": "1.2.0",
            "_view_count": null,
            "flex_flow": null,
            "width": null,
            "min_width": null,
            "border": null,
            "align_items": null,
            "bottom": null,
            "_model_module": "@jupyter-widgets/base",
            "top": null,
            "grid_column": null,
            "overflow_y": null,
            "overflow_x": null,
            "grid_auto_flow": null,
            "grid_area": null,
            "grid_template_columns": null,
            "flex": null,
            "_model_name": "LayoutModel",
            "justify_items": null,
            "grid_row": null,
            "max_height": null,
            "align_content": null,
            "visibility": null,
            "align_self": null,
            "height": null,
            "min_height": null,
            "padding": null,
            "grid_auto_rows": null,
            "grid_gap": null,
            "max_width": null,
            "order": null,
            "_view_module_version": "1.2.0",
            "grid_template_areas": null,
            "object_position": null,
            "object_fit": null,
            "grid_auto_columns": null,
            "margin": null,
            "display": null,
            "left": null
          }
        },
        "dd16ca44a5de478abbcaa827b477142d": {
          "model_module": "@jupyter-widgets/controls",
          "model_name": "TabModel",
          "state": {
            "_view_name": "TabView",
            "_dom_classes": [],
            "_titles": {
              "0": "Youtube",
              "1": "Bilibili"
            },
            "_model_name": "TabModel",
            "_view_module": "@jupyter-widgets/controls",
            "selected_index": 0,
            "_model_module_version": "1.5.0",
            "_view_count": null,
            "_view_module_version": "1.5.0",
            "box_style": "",
            "layout": "IPY_MODEL_a18888d30ba04da493c8a6cb214f75b2",
            "_model_module": "@jupyter-widgets/controls",
            "children": [
              "IPY_MODEL_b2051c8f8cf045f6bb1831069ff3b06c",
              "IPY_MODEL_1beb52545290472ca00c6dfc8f6e3187"
            ]
          }
        },
        "a18888d30ba04da493c8a6cb214f75b2": {
          "model_module": "@jupyter-widgets/base",
          "model_name": "LayoutModel",
          "state": {
            "_view_name": "LayoutView",
            "grid_template_rows": null,
            "right": null,
            "justify_content": null,
            "_view_module": "@jupyter-widgets/base",
            "overflow": null,
            "_model_module_version": "1.2.0",
            "_view_count": null,
            "flex_flow": null,
            "width": null,
            "min_width": null,
            "border": null,
            "align_items": null,
            "bottom": null,
            "_model_module": "@jupyter-widgets/base",
            "top": null,
            "grid_column": null,
            "overflow_y": null,
            "overflow_x": null,
            "grid_auto_flow": null,
            "grid_area": null,
            "grid_template_columns": null,
            "flex": null,
            "_model_name": "LayoutModel",
            "justify_items": null,
            "grid_row": null,
            "max_height": null,
            "align_content": null,
            "visibility": null,
            "align_self": null,
            "height": null,
            "min_height": null,
            "padding": null,
            "grid_auto_rows": null,
            "grid_gap": null,
            "max_width": null,
            "order": null,
            "_view_module_version": "1.2.0",
            "grid_template_areas": null,
            "object_position": null,
            "object_fit": null,
            "grid_auto_columns": null,
            "margin": null,
            "display": null,
            "left": null
          }
        },
        "b2051c8f8cf045f6bb1831069ff3b06c": {
          "model_module": "@jupyter-widgets/output",
          "model_name": "OutputModel",
          "state": {
            "_view_name": "OutputView",
            "msg_id": "",
            "_dom_classes": [],
            "_model_name": "OutputModel",
            "outputs": [
              {
                "output_type": "stream",
                "metadata": {
                  "tags": []
                },
                "text": "Video available at https://youtube.com/watch?v=DP9c13vLiOM\n",
                "stream": "stdout"
              },
              {
                "output_type": "display_data",
                "metadata": {
                  "tags": []
                },
                "text/html": "\n        <iframe\n            width=\"854\"\n            height=\"480\"\n            src=\"https://www.youtube.com/embed/DP9c13vLiOM?fs=1&rel=0\"\n            frameborder=\"0\"\n            allowfullscreen\n        ></iframe>\n        ",
                "text/plain": "<IPython.lib.display.YouTubeVideo at 0x7f1e55e73c10>",
                "image/jpeg": "/9j/4AAQSkZJRgABAQAAAQABAAD/2wCEABALDBoYFhwaGRkeHRwfIiglIiIiICguKiktLzUyMC03ODA4PFBFPT1POi0xRWFFS1NWW11bMkFlbWVYbFBZW1cBERISFxUXJRUVLVc3LTZXV1dXV1dXV1dXV1dXV1dXV1dXV1dXV1dXV1dXV1dXV1dXV1dXV1dXV1dXV1dXV1dXV//AABEIAWgB4AMBIgACEQEDEQH/xAAbAAEAAgMBAQAAAAAAAAAAAAAABAUBAgMGB//EAEEQAAIBAgQCBwYEBQIGAgMAAAECAAMRBBIhMRNRBSJBU2GS0hcyUnGBkRQjodEGFUKxwWLwM0NygqLhFsIksvH/xAAXAQEBAQEAAAAAAAAAAAAAAAAAAQID/8QAGxEBAQEBAAMBAAAAAAAAAAAAAAERAjFBYSH/2gAMAwEAAhEDEQA/APn8REBERAREQEREBERAREQEREBERAREQEREBERAREQEREBERAREQEREBERAREQEREBERAREQEREBERAREQEREBERAREQEREBERAREQEREBERAREQEREBERAREQEREBERAREQEREBERAREQEREBERAREQEREBERAREQEREBERAREQEREBERAREQEREBERAREQEREBERAREQET1/s4xve4fzv6I9nGN73D+d/RA8hE9f7OMb3uH87+iPZxje9w/nf0QPIRPX+zjG97h/O/oj2cY3vcP539EDyET1/s4xve4fzv6I9nGN73D+d/RA8hE9f7OMb3uH87+iPZxje9w/nf0QPIRPX+zjG97h/O/oj2cY3vcP539EDyET1/s4xve4fzv6I9nGN73D+d/RA8hE9f7OMb3uH87+iPZxje9w/nf0QPIRPX+zjG97h/O/oj2cY3vcP539EDyET1/s4xve4fzv6I9nGN73D+d/RA8hE9f7OMb3uH87+iPZxje9w/nf0QPIRPX+zjG97h/O/oj2cY3vcP539EDyET1/s4xve4fzv6I9nGN73D+d/RA8hE9f7OMb3uH87+iPZxje9w/nf0QPIRPX+zjG97h/O/oj2cY3vcP539EDyET1/s4xve4fzv6I9nGN73D+d/RA8hE9f7OMb3uH87+iPZxje9w/nf0QPIRPX+zjG97h/O/oj2cY3vcP539EDyET1/s4xve4fzv6I9nGN73D+d/RA8hE9f7OMb3uH87+iPZxje9w/nf0QPIRPX+zjG97h/O/oj2cY3vcP539EDyET1/s4xve4fzv6I9nGN73D+d/RA8hE9f7OMb3uH87+iPZxje9w/nf0QPIRPX+zjG97h/O/olf0p/CGIwpQVHonOCRlZuy3NRzgUESw/k9T4k+5/abDoWr8Sfc/tJorYln/ACOr8Sfc/tH8iq/En3P7SisiWn8iq/FT+5/aY/kVX4k+5/aNFZEs/wCR1fiT7n9o/kdX4k+5/aTRWRLP+R1fiT7n9pj+SVfiT7n9o0VsSy/klX4k+5/aP5JV+JPuf2jR9tiIlCIiAiIgIiICIiAiIgIiICIiAiIgIiICIiAiIgIiICIiAiIgIiICIiAiIgIiICIiAiIgIiICIiAnlf4yHXo/9L/3Weqnlf4yS70Odn/usUeXdZhQZuxtofvNlWZVgAzYLOipOipA45ZHxGJVDbVm5CT3Ww/tJGHwaKL2uTue0yX8a5mqH8fb3kIElUnDjMpuJa16KkWIEqxRFN7L7rdniIi3nGcsZZ0tAErDTLGSdgs2yRg+ixETSETjisSlJc7khb20Un9AJEo9OYaowVKhLFsv/DffkdNN+2BYxExAzE50K61EDocysLg850gIiYgZiVv8+w2v5hNiQbU6hFwbHULzliDAzERARNXcKLkgC4Gp7TtNBXQ1DTDDOAGK31AOgNvoYHWInKvXSmpeowVRa5JsNdBA6xEQETVnAtcgXNhc7k7CaLXQu1MMC6gFlvqAb2v87GB1iIgIiYgZicqWIRy6q1yjZWHI2Bt9iJ1gInLEYhKS5nbKtwL+LEKP1IinXVmdFN2QgMOVxcfpA6xMTMBERARExAzE1ZgASTYDUkyNhOkqNYkU2ubZtVYXHMXGo8RAlxEQEROVLEI7Oqm7UyFcciQGH6EQOsTE5VMVTRc7OoW+XMSLXva1+d9IHaJiZgJ5n+Lh1qPyf/6z0081/Fg61H5N/iB5l1m6rMss6IsisqkitWIqIvbcg/pLGmsh47CE1FKnVtPl4/aSxY7kZhp2HQzgA4ftJB94m4+0mnC5UXkD951qABb6AyX66cT8VuLVmc9UPa2h0nFaRBBtYAm45aSwpHrklgSeU5YpcxABtrcwtjlaFE6WmFE05NlE3tMAToBKj3kREITzlLGGhQ6SqqAWTEORfa+Sna/hPRSLT6OpKtZbZlrszVA2oOYBSPlYQK7FJWwgpVfxNSreoiVFfLlbOQt1AHVIJvpNsKKuJetU49SmEqvTpomWwyGxLAjrXOvytJFHoZFZC1StUFM3prUe6obWB2uT/wBV5mp0QhqNUWpVp8Q3qKj2Vza1z2g27QRAq8HWP4PCUlatndSctHIGYDc5nNlAuO2+ohMdXSlXbPUIwtdS2cLnNLKrODbcgMSCN8olmOh6apSWm702ogqjqVzBTuDcEEGw3HZMnDLh0rMqVK7VWBdbgljlC9tgBYCBoar18TUSnVKU6dKxZQDepU1B1+FQD/3iWNJSqqCxYgAFja5PPSVvQ/RXBwQosWV2BLsrHMGbk3gLAHwEsqSZVVbk5QBcm5Nu0nnAo6GHxmFw75TQIRqtTIc12BZn97+k2PIy3oYoVKC1gDZkDgdtiLyHU6DRsy8WuKTElqQqdU31Iv7wHgCBLJECgKBYAWA5CB50PXOB/HfiWFTh8bJ1eFa2bJa3LS97yTnqYjFvT41SnSFCk+VLA3YvfrWv2D7TsegKRumerwSbmhn/AC977b2v/Te3hNKvRj1MbVqZqlJTRpqr02ANwzlhY3B3G4+UCrxzValB6T1nJoYyjTzgKCwZqbKTpuubs7R9JYYjEVKdXFKKhPDwaOpIW+b83Xb/AEjwks9DUvw5oAuAWDl83Xzghs1z23Am/wDK0Ocszs1SkKLMSLlRm1236xgVhFcNg2/FVL1+rU0W3uF7qLaHTfXea169WlSxicVn4T0sjPYsA2W4217fvLk4FDwd/wAk3TX/AEldfoZpX6Mp1ONmzfnFC1j8NrW+0CB00tXiKlDE1VrVT1EHDyootmc3Umw+epIE3xzsaq0VqYl2WmC4o8Nd7gMzNbex0HjpO9XohWrPWFasjuADlYWsNgLg2G/3nSp0aC4qLVqJUyhGZSt3UXtmuCO06ix1gUVVqmIwuGZ61QMuL4dwFBOWoVViCPeAHyvfSTMX0hUoPjSDm4NCiyZgPebiAkkDwH2k1uhqfA4IaooFQ1QwbrB8xa9z4ntvOy9G071C134qJTfNrmC5gP8A9jeBXYpK2EFKr+JqVb1KaVFfLlbOQt1AHVIJvp2QErVzi/8A8mogpVWWmEyi1kU66a6naS6PQyKyFqlWoKZvTSo91Q2sDtcm3xEyTRwaJxbX/NYs2vaQF0+gEDXovENVw1Go3vPTVjbmQCZX9G06uJpLiTiaiFzmVFy5FW+ikEa6DUnn2S1wmHWjSSkl8qKFF97DQSH/ACZAxKVKyIWzNSR7IWvcnmNewEDeBBw+FepWx1q9SkBW04dhrw01JIN/lMJj3rYbB3esatWkKjLQyAsLC5LNYKLnsNzeXNDCKjVWW96rZmue3KF0+iiRR0OipRFN6lNqKZEdSubLpcG4IOw7IFPXxDvhK6VGduFi6CAuBntnotY20JGYi/hJOKxbUDj6ie9npKul7FlVQbdtr3tLD+T0slRCXIqVVqsS2uZctvp1BpOz9HUm4wZcwr2zqdjYZf7CBX0TWSrSyfiXUtlqiqFtYj3hyINtBpYnSRWavUwuJr/iaitSqYjhhQoUCm7WBFutoLf7vLjDdH8NgTXrVAvuq7iw0t2AFv8AuvMr0dTFGpR62SqahbXX8wktb7mBBz1MTiDT4r0kp0qbkUyAzM99yRsMsit0jXp0sQDULuuLWgjZVuoYU9bbE9Y/MyX0jhAKlNkTEAqmXi0GW9gfdZTvzvbntMdGdFA0KyV0IWvVNTIz3ZRZQLsD73VvcHQmBnDNVWvTC/iHptcVOMBZdLhgfmLW8fCcOj69RalMYp8RTrMxBBANFzropAIA5bHSWmGwBRszV61TQgB2FgD4KBfbc3M5J0QoZC1WtUVCGRHe6gjY3tmP/cTA26aqgYdkKlzW/KVQbXL6b9g3N/CVfRmINKoExJLYtctFUUADIf615ggXJ/02tzu8bg0rpke9rhgQSCGBuCDzvIY6EQutV6tZ6ye7ULC4HaAAAtj26a/QQJPSfG4FTgf8W3V2v42vpe17X0vKpOkhRp12zYjiU6JqcGuNdO0NbUXsDYkS7xFAVEKEsAe1WKkW1FiJGodGKrF6jvWcqUvUK6KdSAAALGw7OwQK7ErXw1FMQcS9Rs1PiK2XIwdgpCi3Vtm017NbznVrtT/mLocrCvSsfmlIH9DJ9LoOmpS71Xp0yDTpO90UjbsubdlybTvU6LpOK6tciuQX17QoUW5e6PrA0x1VxiMPTVyq1OKGtbsXTfkZSYLPRwNRxVdicUVswWw/PKsdtzfX9LS7odEqtRKjVatSomYKztfQi2wAH6Xmi9C0wtRc9TI9QVMmYWVs2c20vq0DioqYqviBx6lJKLimq0yAScqsWJIN/e0G2kirj67phk4uVzialCo6qOsEFTWx0B6o+stMT0Ur1DUWpVpOwAc02tmA2uCCL+I18ZsnRVJVoqoKigxdAD2kMCTfe+Yn5wK6+Ip1cVQpVWqMKCVKRqkEq7F1te23VB1lV0mxJQH8QGAOYV7XB02I0P0PKeoq9Ho71HJYNUprTOViNFLEWI1B6x1lB09hjTNO9WpVuGtny6baCwH6wKYjUTqizUDWdkEKPcDT7yurYt1qrYZgtifrf9pIrVKmSqysAFvZct72F5Dp0qh67ZVzCxv/AG3Aku+lme15iKwOHU6Xtf6yMLVAL201F5W46stOkVz6kdUWP3/9/wB5Nw6h6SEbZRa0nTpx8bVKYQ5jlFuQnBKlzeZ/C3a5JIHMyHVq2rFA4UlRbS+vZE8ndWJmqiRcMtbN1yGFjsNAbi3y7dDJiCVzbqJ0E1WbqZWXuIiICIiAmJmIGImYgYmYiAiIgIiICIiAiIgIiICIiAiIgIiICIiAiIgIiIGJmIgIiICIiAiIgIiICIiAiIgJ57+KPepfJv8AE9DPP/xMjFqVlJ0bYE8oFCo1nZZhKL/A3lM3NJ7GyNe2nVP0hVZjcVwVbXVi2UZdz+395UnpOqTowXxVQD9516Vw9Vq72pVLA5R1GOi6XvbwkZcFV7qp5G/aByqOzG7EkntJuZKwHSD0NAMydqn/AAZoMHV7qp5G/aZ/B1e6qeRv2hdWVfp9StqdJsx7WtYfbeUrksSzG5JuTO4wdXuqnkb9pt+Dq91U8jftJhbvltR6SqJa9nttmvcfUEGWeDx61OSt2qT/AGPb8t/nKdsHV7qp5G/aYTD11IIpVQQQR+W37So9QpmwmKKMyqeE63ANiDpfWdOC/wADeUwPbREQhETEDMRMQMxMTMBETEDMREBERAREQETEzAREQEREBERAREQEREBERAREQERMQMxMTMBExEDMRMQMxMTMBERARMTMBERARExAzERAREQEREBERAREQEREDSoCVIU2NtCRe30kHA12NZk4jVFC3OdArA3tpoLjxt9ZOqKWUgMVJG4tcfeRlwb5i7ViXylVOUAKCbnTtOggS5E6UrGnRLBsnWQFrA2BYA7+BkycsRQFRQpNrMreUhv8QIGFxpvUtUNemqg57KtmvYi+i+PhOydJAqTkJIdUsCpvmtYg3tbWbVsAGz2YgOVa1gQGUg3t42Fx4QMDqSzXJdHNgALrb9oGPx+hBptnDhAlxqSM2+1ra/SaJjmDVAytfOqIml7lQd9uZvOtXBZiWDFWLhwbA2IXL9Rb+80/l97sahzlw4aw0IGXbla/3gZPSFtDTbPnCZdNyCQb3tawin0hcrekyguUJJXRtfHUabzK4HrB2cs+cOTaw0BAAHYNZv8Agx8R/wCJxPrygYxWMFNlXLmZr26wG1r6nt12mtXHZWyhCxABYXUWvsNTqdOydMVhzUFgwA7QyBgfoZHPRgFsjWsqocyhrhdAde2BtX6TVArAZlKh75lBy8wCbnSbNjwDU6jZaejNpa5AIAG5JzCa1uj82cB7LUUKwyg7Cwty/wB7To2CUiqCTaqQTzBCqot5QYHKvi6gUHhspzoLXU3BNiN95Iw+Iz5gVKspsQSD2AjUeBmn4VmAz1C1mVhZQPdN/wBZ1p0crO1/fIPysAP8QOsREBERAREQEREBERAREQEREBOddWKkK2U87Xtz05zpOdZCy2Vyh7CLf5gROja7Oagzs6rlyl1Cvc3uCthptY2HbJ0i0sIylnNUl2ygtlAGVSTYD6n7yVAjY2sy5FSwao2UEi4GhYm3yBkdMUtMvfEcXIrMUIXN1d7WA/WTMThxUWxJBBBVhupGxEjv0eXzcWqWJRkFlAADbm3aYG1XHFVUmmQWvYM6D+53PKYXHhsvDRnugc7Cwbbc76HTwnSphburq1iFKm63uDb7HScqXR5pheHUK2RUa6g3C7HwOp+8DlhukLU1eoSfyabEWGpYkfcnS06npIANmQhlynKCpuGOUWINt5gdFpkyFiQKaJ2f0G4PzvNhgOqVZhqV1VAvukH/ABA54jpB1DAUiHVkuCV2c2BvfwIkrEYjIoJUksQAotck9nL/APk518EHLnMQXCDbbISw/UzpiMPxFUFrMpDBgNiPD76eMCKuPKtUzqRYoFTq3u1+3abN0moU3WzBguXMtutsc17W0My3R2bMXclmKm+UWBXaw5fObrhGCEB1DE7imoW3K3L6wMtjD1QKbF2BIW66Abkm9raj7zWpj7EKKbFsoZluoyg3tubE6HblNU6PyBcj5XXNrlFrMbkZeVwLRU6PuwfOM+UKxZFa9r2Nuw6mAPSIIuiM4CLUuLDqm/M76bTbD4tnrMuXqBEYNp/Vfx8P0m4wguxv7yBNhpa+v/lMUcJkcMG0yKhFt8t7G/1gSoiICIiAiIgIiICIiAiIgJwo4tKjuim5SwbTTW+x7dj9ptiVdqbCmwViLAnslfhEejUql1UItNB1FY3tm25+P0gWs5YiutNczXtcDQXNybDT5mdJE6Ups1IBb3z09QLkdddfpvA6YfFrUJUBlYalWUqbHt17J3lbisGwUuXqVWJQNsDkDXYAKB9e0ziaZtU4KMtH8u6hSt7MeJlXQ+7b5wLiJTtRuKnCRlpE0rAKy65+sQNCNLXMnY2kRQK0wQBl0XQ5bjMB9LwJUSqqJTKrw6TCiH/MUU2AIym3VtqL2vYTCUMxACMKJrXVSCAFyG+nYubsP+YFtOS4hScovcNl2O9s39pWNQCkhqZ4ArNdApIsVFuqN1zX05zahRuwsjBDXY2KkdU0yNj2XgWSV1bLlNwwJBANrDxnSUuGosKdNaSlGWnVU9Uiz9W2/wDebCmP+TTdPy3FS6sLm2gN/ea/br284Fu7hVLG9gLmwufsJkGU9bClU/LQgthqgawNy1ly35nebYjC5lxDFCXGU0zY3BCr7v15QLaJTdIIAMQXRi5BNN8pIC5Rs39Ot7jS/jLkbQMxEQEREBERAREQEREBERATEzI+NpO9MqjBSdCTfbt2207YGcNikq5shuFbKTbt305jWd5W4EPTatxFAUuoGRW+FRoOX/uWMDjisUlEAubBmCjTtMVsUlN6aMetUJCi3LWcekqPEFNSt1NTrfIqwP8AeQqVCqWpvUU5lqKg/wClQ12+pP6CBcxKfD0taVkYYgMOK5U6j+q7bEHsHy5TNDAg8EtT1JcPcHUakBuYvbQwLeJRmiwWmKi3pgOAGps4BznLdR/p2Mk0cIGamtQGoopt7ym2rCwIPaBz10gWPEGbLfrWvbwm0paOH/4ZZDnOHKglTfN4nsNuc3LlwuVanVw9RTdGHW6lhqN9DAt4lS2AW5HD0NC50Or8zzbx3llhr8NL3vlF773tA6xEQEREBERAREQEREBERAREQEREDEThjw5o1BTvnym1jY38JHwJy1ChWqrFbjPUzggG2mpsdR94E+IkPpUtweoxRi9MBhuLsB/mBMiVf4456QfqshcVVGxspIPyO4nenjHvTLooWp7tmuQbFgDpyHZAmzMr6GPc8NnVVSohYWYkiwB108Z0bGF2C0QrdUsSxIAF7cr33+0CXEhtiqhLBEUmmBnux3IvYacu0zk/SLFXamilVprU6zEEggm23hAsYkJ8fYOMvXBXIt/ez+6fvcf9pnM9J9Y2ClQ+S1znNjYkC3Ps5QLGJDXGk1TSy9ZbltdAv9JHieXz+sWhjKuhADLwFfKW6xOvbbfSBbROFHFB3ypqoRWLf9Ww+wv9RJECPUwdNmzMtzpfU2Ntri9j9Z3mYgIiICIiAiIgIiYgZiUT/wAVUASClTQkbDs+sx/8sw/wVPsP3gXsTz9b+K6ORsi1A1jluBa/Z2yw6H6VTFJcaVB7y/5HhAsZiJF6SVzSITNfMnumxtmGax+V4EqJC6PYBnQiorixId82hvYg3PIybARInSDt+WisV4j5Sw3AsWNvE5bfWcaitQenw2Zs+ZcjuTqFLAgm5G1vrAsYkB+lFChgt14fEbXUX0UfMm/lM0PSbKr3VGKoXGRjbSwIJI0Ov94FlEhnEVs+QJTzBAxuxtqSANvDecqnSZyKyKvuZyrFrjfTQGw0OpgWMSGuNYs1lUIqByzNbcE8vDecf5mwVyUUlUDi2YX1tbrAH6wLKJX1cbVXiXRPywGNmOqnlpvoZiv0nlZwApFM2IJOZtATlFvH6mBYxK38ZVU1iQrBaiKgvb3snh/qvOgruDVvlBQIWzOcg0JNtIE+JXjG1OGhKKrvchSWOg2NgL8vleaU8ZUqVKRAUI1N2IvrcEDTT7fOBZTMrsPi6jqopqGIpozF2OpYaC4G+m/jA6QdwTSRSBSWr1iR72bTQf6YFjE0pPmVW+IA/ebwEREBERAREQEREDSpTDKVN7EW0JB+4kdMAozHPULMMuct1gOQ5TvXrCmjO2yi+m/08Zph6ztfNSZNARcqfpod4HaaVqIcWba6t9VII/UTpOGLxHCTNlLaqABbUsQBv84CphEaotUjrqCAfA7g85pSwKKQbsQuiAm4W+mn05zejXY+/TNPYC7Kb3+RmauIClRuWYLp2EgnX7QMU8Kqina/5YsuvZa0V8KHIbMysARmU2NjuP0m2GrCogcCwPP7TCYmm18tRTa97MOzeByqYBW/qcXUK1mPWA5/vvNzhEs4tYOoQgcgCBb7zZsVTAuaiAXtcsLX5TZ66LbM6jNtcgX+UDRsIhdHI6yCy6/3/wB9pmBhAHLBnUE5iobqk84w+KFQKQCAUD6kdvZv/wCpumIRgWV1IG5DC0DQYJAQdcwYtmvqSd7+Hh4DlNVwaplZL3RMgGbRgNgZmrj6SoXLqVBCmxB1JtOn4hMwXOuY6gZhc/SBx6OwvCp20zMxZrHQE9g8ALD6SXOdWsqC7sFHMkCDWQWuy67ajW+1oHSJzWuhYoHUsN1BFx9Iq1lQXdlUcyQIHSJrxBzG19+zn8pzbE0xa9RBe1rsNb7QO0TnUropAZ1UnYEgEzD4hFNmdQb2sWAN4HWJzNdA2QuoY/03F/tMUawccjyuCRqR2HwgdYnJsTTFruoze7dhr8p0gUL/AMKUSxPEqakn+nt+kx/8So95U/8AH9pfzMDzlb+E6YRij1C1jlBK2J7OyWHQ3RC4VOxqhHWb/A8JZRATStSDqVJI8VJBH1E6TjisQKaZiCdQAo3JOgAgc6eCVbnO5Zst3LdYhTcC/LfTxMkzlQqMwOamUI5kEH5ETtA5V6C1FysLjQ72II2IPYZzoYJUbOWd2tYF2vYeE2xWJ4YXqlmZsqqLanU7nwBnP8cFtxVNIlsoDFddL3BvtA2TA0wKgy6VCSwJ5/2G/wB4/BAoys7uGFus3Z/vtnXjpnyZ1z/DcX+0GumbJnXP8Nxf7QI9bBl6xfOygoF6rWO5J/vMnAJspZRkCEKd1F7A/c676zfC4xKoWzDMVzZbjMB8pvTxCMSFdSV3sQbfOBp+DSzLa4dQrAncAW/zNTgVIOZna65SSey94qdIUVXNxFK5gtwwOpNp0GIWzE9VVNrki2wN9/HtgYqYVWz3v+YAG17Bf95q2DBcsGdbkFgrWDW01+gG0703DAFSCDsQbiaJiabEhXUkb2YQOb4JSzMS3WKsRfS62sf/ABExXwKVM1ywzFSbG3u7To2KpgZjUQC9r5ha+82euigFnUA7EkWPygcvwY6pzvmW9mvrY2uNttB9phcCgyWLDICBruDqQfsJth8WHtZSLgm5I7DbnebpiKbAlXUhdyGGnzgcT0elgFLrZQhyta6jYH7nXedFwiC9ha6BLDbKt7W8xmtXHUlRnLqQnvWINvCd84y5rjLa976W+cBTQKoUbAAD6TaR6WMR2ZVIIVQ2YEW1JH+JuuJplS4dSo3YMLD6wOsTl+Ip5M+dcnxZhb7w2JphQxdQp2JYWP1gdYnKpiEQXZ1UeJAmoxSGpwwwz5c1rjaB3iIgIiIEbpCgatFkXfQjW2oII17NpEw1JkdqiYdqahLFMyXdr3B0a2mupOt5ZxASN0jQNSlkAvd0JF7aBgT+gMkzMCvr4IIoNJCSHRiMxJIB7Mxmi0KjVC5plQa6vYlb5RTy30POWUQIK4ZvwbUycjFGFydr37RIlS9Rwq0gjfh6oAuh3yAbHble0uZpTool8iqt97ACBDq0GBphUOQIQQgS4OnPs32nHC4d6WQtSL/kqhAK9Ugm+52NxtylrECnGAqmjky2PARdxuCSV+2nLWbNhHdXJWpmIVbPwhcBgf6eWu/OW0QK3G4RiapVLgrSsBbUqxJH2g0nFbMlN1zMrNm4ZS1gCd8wIAtp2iWUQImMRy9MgMVGa+XLmvpb3uzf9JwwODZWpF0tlpuL9XQlgRt4cpZRAqcFg3U01cVPyzfN+VlJsRe462t/11nfHUX4q1FDkBStkyXBJvez6Wk+IFTVwDsiIqkZVJOYjrXN+GcvZz7NrTLEmrW/ILlqaC3U00OhudvleWsxYXvbUwKf8DUW6tncMiKSnDOygEHPrvc/Wd6uCbJiQFuXUBCSLmygb/OWUQK56TitdEazOpYnIUIsAT8QNh2donM4SqtNDTFnIdG1GisxIb6b/Uy1iBVVsEyOwVXNNkVAEFI2Ci1jn7Pl4yzoplRVuTYAXO+nObTMBERAREQEidJUDUQZRmKsGy3tmA3F/kTJcQK3BU2ptUZaLIjZAtO63vc5msDYbjt7JZTEQI+OTMljR4ovqtxf5i+l/qJATD1AA3DfItVWWmzqzgWIOpO1zteW8QKtsM+VqXD1NXPxbra2bNfe9wNNv0nbDoyMVaiWvUZuJdbWJJB1N7gabSfMQKylg3VMMAgDJmzbaXRh9dSNpzp4RzbPTcjgujglBcnLoMuw0Mt4gVBo1SjXRiA1MqHFPOcrXYdU2tba/jOr4d8xfhkgVs+S63IyBedrg8+XyllECOVL0XGXhFg29ri99Tb7yuQ5noqKQUrTcaMpBGUDSx92/O0uZpToIpJVFUnewAvAg/h3VaChCFVbMEyXDWFt+ze9vCc8Nh3pcNmpF7IUsCl161+YFiLbchLWIFOMBVNMKFyHg1F3FgSwIH2Ey+Ed0qdSoGNIoA3CAN+zq8rdvOW8QK3G4NmNXIgINEKNhcgk2/WSMZTapRGVNbq2Q21AIJXl2fKSogVNfDVKpqstMpmWnYEpdsrEkdo25zb8KWV2ZKxJyaE0geqbgi2mnjLSIFYtKr1HamWyO3V6gYggAMQDluNfofpFai+dai03UZSuVOESpJv/AFaa9tj2SziBAw2Dyupy9UUsozZbgk3tp/jScsLSeiKbNSJy4cKbFdGXW2/00lpEDCNdQbEXANjuJtMTMBERAREQEh9KF+EMjZTnp62vuwHPxkyaVqSupVhcHs/WBArYmqBWdWQCjupX3rKGNzfS99P8yRi67KqZbBnZVBYaC/aR/vWbPgqTEEoCRbnrba/O3jOtWkrqVYAg9hgRKj1VZKWdcz5jnybBbaWvvrOa4qqStO6BuIyM2U2NlzXAvodv1kr8FSy5cgtfNub32vfe/jN0w6KFCqBluV8Cd/7wINDFVfyizKQ7OhAW3uhtb3/0beMzQxNW1BnZSKo1ULaxylgQb+Em/h0sAFAyklfAm9z+p+844To9KQSwBZVC5v72HZeBxXFVGp0CCA1VCSbbHLfQX5zhh8VV4dBMxLNSDlghY9lha/jqf3lhSwVJCCqAEXt4X3tyHhMfgKWVVyWC+7Ym4+RvcQN8LUZqYLrlbW4tbY2vbx3+s7TVECgKosBoAJtAREQEREBERAREQEREBERAREQEREBERAREQI2MquvDCEAu+Uki+liefhItPE1QVLMpHFNMgLa++t776SwemGsSL5TceB2/zMcBPhHvZv8Au5wK/CVajCmiFUBRmPVJ2awtc+MzhcWWKuy3Jooxygk3JOwvtJ1Ogi2yqBYED5E3P6zNOgi2yqBYZR8h2QIF6jVarIwTqIbOt/i310mlfpFzTNSnstMOy5LjUZrFr8uQ0k6tgqTklkBJFieY5HmPCKuDpvfMgNxlO9iORHbAhvXqU3rnMCL01UEGwLWAJ12F9Ztikqg0QaikmroclrdR73F9ZMbCoxYlQSy5WvsR4jaYp4OmtrKLg3ubk3sRufAkfWBCbG1BZLguarJmCE6Bc3u33tp+vhNjiK+X3ToxBYU9StrghCeeh+W2smPhUYEFQQTmPz5/PSanBUyoXLoDcam9zvrvA3w1TOitcNcbgEfodvlOs1poFUKoAA0AE2gIiICIiAiIgIiICIiAiIgIiIGJBOIrrVpoy0rOT7rNcAbnb5feTpF4LipUq9UtYLTBJAAGpubaXP8AYQJc4Yuvw0DWv1kXzMB/mdpHx2H4tPJoeshIOxAYE/oIGMRjFRkGlmzZjfYKpbYfKdKuKpoLswAylvoLXP6iR2wFNalN0p00C5s1lAuCpHYJAFE/hsQ18wyNTpaH3Be36n6hRAtUxlNs1mtlFzmBXTnr2eMwuPpFWbNYKLnMrDTnYjbxkbEYKpWLZ8qflsi5STcsVNzoNOqNPEzDYFnR7qA5QoCarvvYnfYaCBJbpCkP6jtewRibXIvYDbTeZq46moBLaEZrhWItzJA0HiZxqmoMSxpqrflL7xI/qbtsZx/l9QKFBzDh5R12UK2pJsNwbj7QJxxdPPkzda17WOg3vflpNVx9IhjmICi5zKw056jbxnJMI4WpZgrNTVVYdhAIv9zOLdHuwbQLenlsajNre+5gST0lR16x0Nj1G0vsTpoPHab1MZTVsrNrpfQkC+1zaw+s5YjCM3HsR+YiqPmL7/eca2AYvU0zJVNz+a62uApBA0O0CQnSCE1QbrwjYkggbDw8ZsMdSyli1gCAcwIIJ2uCLyPXwLsaoFgGdKinMQbqFFjbX+ncHtgYJiCSoVi1M61XfRGzbn6wJGJxq06QqEMVNrdU318LXE3/ABSWZs2iC7aHTS/9jNcdRL0mVbX0IvtoQf8AEiYjC1mFYAJaso1LHqnKFI2123gSnx1JWKltQQp6rEAmxFzaw3G8HGqt85A65QWuSSBfa2/hOVTBsVri4/McMPoqDXymFwjCoGuLcVn+hTL/AHgdfx9LKGzGxJUDK2a43GW176cp1o1lqC6G4uR9RvK+rSNFhULIDxKnvEhbPrvbQ6CSOjCSjMf6qjkaEXF/HsgTIiICIiAiIgIiICYa9jbfsvMzECFSxFbjLTdaeqliVZjYbDcDc/2MnSJSoupqP1S7sO02CDQC9uVz8zJUDniKwp02c7KCZxw2MvSZqoFNkJFQXuFI13+RB+sY/DNVCIGyrmDMRv1dRa4I9632kZ+jal3tVLhwp69vfQgr7oGhGh+UCRT6QVnYahVQMSQwOpI2Iv2TcY+llLZiACAcysCCdtCL6yPVw1Zy7dVCyKoAc9jEnrWFrg2uJxr4Z1uwAGZ6NlzM1sra3P1gSq3SdNUzDMbOqkZWBGYgai1+2/jOtPFAuykgHNZd7nqhtdNDY7SLWwlV87kKHJpZVzG1qbZtTbc69k2fBuRUYZRUNRaiamwIVVsfA2I+RgSHxtNd2J1K2CsTcb6AX0vOi1VKZwQVte/hIDdHsvDK9YqpVhnZLkkEm6+N9PGSqeHy0SgABIb+onVrk6nXcwNP5nR+I7X0R9RzGmo8RN6mOpra7bjNoCbDmbDQeJmiYVgV1GlHh/XT9NJGXo91tazXpopHFdLFRbs3EDtiOk1TjAAk06YfUGx37beH+7TuuNpnN1rZBdswI056jUabiRK+AcioiBQr0Vpi7HQrmt2ajrb+E64vBtUZiCBdFAvzVswv4QOyY2mQxzWCi7ZgVIHOxANpyXpFC5GyhMxJVgd7DQi85VsHUqlmbKjZQFAJIuGDamw0uAPvNnw9R2ZnSnqgULmO4N97aeECZRrK4ut97aqQfsRedJFwNJ0DBzoT1QXL5RYaZjqdbyVAREQEREBERAREQEREBERAREQMRMxAxMxEDEzEQEREBERAREQEREBERAxEzEBERAREQEREBERAREQEREBERATEzEDEzEQEREBERAREQEREBERAREQEREBERAREQESv4zfEY47fEYFhEr+O3xGOO3xGBYRK/jN8RmeM3xGBPiV/Gb4jHGb4jAsIlfxm+Ixxm+IwLCJA4zfEZjjN8RgWESv47fEY4zfEYFhEr+M3xGOM3xGBYRK/jN8RjjN8RgWESv4zfEY4zfEYFhEr+M3xGOM3xGBYRK/jN8RjjN8RgWESv4zfEY4zfEYFhEr+M3xGOM3xGBYTEgcZviM44nHmmB1tTtc2A21J5aj7wLWJ53pHpHEU6d1zVDbXIuXRtiCSdRY6ePZLCniKhFybcrG+nZraBZxK/jN8RjjN8RgWESv4zfEY4zfEYFhEr+M3xGOM3xGBYRK/jN8RjjN8RgWESv4zfEY4zfEYFhEr+M3xGOM3xGBYRK/jN8RjjN8RgWESv4zfEY4zfEYFhEr+M3xGOM3xGBYRK/jN8RjjN8RgWESv4zfEY4zfEYFhEr+M3xGOM3xGBYRK/jN8Rmj4vLbNUC32uQLwLOJWJi8xIWoCRuAQbfOb8ZviMDSU1ahilquaRIVqhYWKcqYGbN/To9wNdp6HhLyjhLygedNLHMxBcopYm4NO4Fqm176X4fZzmThsWxGZswJBZTksLNTItpfYP28vCeh4S8o4S8oHnqmExFbCvSqk5y62a6g5bqSeroO3t/aQn6JxbZ2Zr1H1ZlYCxFOqvVvtvT+5nruEvKOEvKB5tsLilJZAbm+pKFhfh+Nr9U9s4YgYxy1IlizUyLAAU/8Ahjc234l9QbfY29Xwl5Rwl5QPPBcbnQE6AHORksT19gdhfJYfc737Lh8TUoIDWNKqHuzWViygnS2wv8z9Zd8JeUcJeUChx2CqPVdlXNmycOpntwre9p+um97HSRkp4upZiauUVAbXpgkB2Gmnu5baHfsnp+EvKOEOUDzCYTHLTstUqVSyqOHluKaW/p+MN27ToaOLVjkzZQtSwDU8pYsSuh10X7k9lp6PhLyjhLygeaXCYsurOSTYblMoy1CQSOeUrt4zPBxxQ/mOrBWIuaVy+UWBsLZS1/HnPScJeUcJeUCNMyRwhyjhLygR4kjhLyjhLygR4kjhLyjhLygR4kjhLyjhLygR4kjhLyjhLygR4kjhLyjhLygRpWdJ4sI6dVmzMKbWS4W5Da30ta/6S84S8pq+HRiCRe1+0210OkCm9xlt12JJ4bOCyHW2UDb3tT2CT6FPIire+VQL/IWkpcOg2UD5TbhLygR4kjhLyjhLygR4kjhLyjhLygR4kjhLyjhLygR4kjhLyjhLygR5iSeEvKOEvKBGmZI4S8o4S8oHlh0ViOJbMOHxCB1v+WrcVDbnm6p8J2RMflW765utolxoNd9VvmPYdZ6PhLyjhLygUvR2GrBKiVicpvkKtaykt2jXNre/iLbTXCYKutLCDjGnwlAqpYNn0Atf/e8vOEvKOEvKB5ypgq3GqPTpgNxC61M4F1yWy217eYt2zNA4viUkdm6xJc2HVVSCNRcXOq2ve2vZeei4S8o4S8oFGMHW/HCsSpp5GXc9UdXKLbXuGN/HwE2bAVDh69OrU47OXNO6hctx1R9D2y64Q5RwhygeaxGExPDejSBRLHKVZB/y/dHbfPc38d50anjS5AdlUsupNLRcy+7p72TNe+hO09Dwl5Rwl5QPM1MLjLNTX3CK3aljm4mXxB1T995YNhW49CprZUZW62guBbT5318JbcJeUcJeUCPI2LoF7FdGAIDZiLXtrpvtsZY8JeUcJeUCuw9AozHZTfTMTck3vrtvsJJkjhLyjhLygbxEQEREBERAREQEREBERAREQEREBERAREQEREBERAREQEREBERAREQEREBERAREQEREBERAREQEREBERAREQEREBERAREQEREBERARPmNH+PcWihRToWG11c/8A3m/tCxndYfyv64H0uJ809oWM7rD+V/XHtCxndYfyv64H0uJ809oWM7rD+V/XHtCxndYfyv64H0uJ809oWM7rD+V/XHtCxndYfyv64H0uJ809oWM7rD+V/XHtCxndYfyv64H0uJ809oWM7rD+V/XHtCxndYfyv64H0uJ809oWM7rD+V/XHtCxndYfyv64H0uJ809oWM7rD+V/XHtCxndYfyv64H0uJ809oWM7rD+V/XHtCxndYfyv64H0uJ809oWM7rD+V/XHtCxndYfyv64H0uJ809oWM7rD+V/XHtCxndYfyv64H0uJ809oWM7rD+V/XHtCxndYfyv64H0uJ809oWM7rD+V/XHtCxndYfyv64H0uJ809oWM7rD+V/XHtCxndYfyv64H0uJ809oWM7rD+V/XHtCxndYfyv64H0uJ809oWM7rD+V/XHtCxndYfyv64H0uJ809oWM7rD+V/XHtCxndYfyv64H0uJ809oWM7rD+V/XHtCxndYfyv64H0uJ809oWM7rD+V/XHtCxndYfyv64H0uJ809oWM7rD+V/XHtCxndYfyv64H0uJ809oWM7rD+V/XHtCxndYfyv64H0uJ809oWM7rD+V/XHtCxndYfyv64H0uJ809oWM7rD+V/XHtCxndYfyv64H0uJ809oWM7rD+V/XHtCxndYfyv64H0uJ809oWM7rD+V/XHtCxndYfyv64H0uJ809oWM7rD+V/XHtCxndYfyv64H0uJ809oWM7rD+V/XHtCxndYfyv64H0uJ809oWM7rD+V/XHtCxndYfyv64H0uJ809oWM7rD+V/XHtCxndYfyv64H0uJ809oWM7rD+V/XHtCxndYfyv64Hk4iICIiAiIgIiICIiAiIgIiICIiAiIgIiICIiAiIgIiICIiAiIgIiICIiAiIgIiICIiAiIgIiICIiAiIgIiICIiAiIgIiICIiAiIgIiICIiAiIgIiICIiAiIgIiICIiAiIgIiICIiAiIgIiICIiAiIgIiICIiAiIgIiICIiAiIgIiICIiAiIgIiICIiAiIgIiICIiAiIgIiICIiAiIgIiICIiAiIgIiICIiAiIgIiICIiAiIgIiICIiAiIgIiICIiAiIgIiICIiAiIgIiICIiAiIgIiICIiAiIgIiICIiAiIgf/Z\n"
              }
            ],
            "_view_module": "@jupyter-widgets/output",
            "_model_module_version": "1.0.0",
            "_view_count": null,
            "_view_module_version": "1.0.0",
            "layout": "IPY_MODEL_cd1f3a0e0af444aeac59abd7c4ceecf3",
            "_model_module": "@jupyter-widgets/output"
          }
        },
        "1beb52545290472ca00c6dfc8f6e3187": {
          "model_module": "@jupyter-widgets/output",
          "model_name": "OutputModel",
          "state": {
            "_view_name": "OutputView",
            "msg_id": "",
            "_dom_classes": [],
            "_model_name": "OutputModel",
            "outputs": [
              {
                "output_type": "stream",
                "metadata": {
                  "tags": []
                },
                "text": "Video available at https://www.bilibili.com/video/BV1MK4y1u7u2\n",
                "stream": "stdout"
              },
              {
                "output_type": "display_data",
                "metadata": {
                  "tags": []
                },
                "text/html": "\n        <iframe\n            width=\"854\"\n            height=\"480\"\n            src=\"https://player.bilibili.com/player.html?bvid=BV1MK4y1u7u2&page=1?fs=1\"\n            frameborder=\"0\"\n            allowfullscreen\n        ></iframe>\n        ",
                "text/plain": "<__main__.BiliVideo at 0x7f1e55de6290>"
              }
            ],
            "_view_module": "@jupyter-widgets/output",
            "_model_module_version": "1.0.0",
            "_view_count": null,
            "_view_module_version": "1.0.0",
            "layout": "IPY_MODEL_549dc4d00b544d559aa7c8cefe586312",
            "_model_module": "@jupyter-widgets/output"
          }
        },
        "cd1f3a0e0af444aeac59abd7c4ceecf3": {
          "model_module": "@jupyter-widgets/base",
          "model_name": "LayoutModel",
          "state": {
            "_view_name": "LayoutView",
            "grid_template_rows": null,
            "right": null,
            "justify_content": null,
            "_view_module": "@jupyter-widgets/base",
            "overflow": null,
            "_model_module_version": "1.2.0",
            "_view_count": null,
            "flex_flow": null,
            "width": null,
            "min_width": null,
            "border": null,
            "align_items": null,
            "bottom": null,
            "_model_module": "@jupyter-widgets/base",
            "top": null,
            "grid_column": null,
            "overflow_y": null,
            "overflow_x": null,
            "grid_auto_flow": null,
            "grid_area": null,
            "grid_template_columns": null,
            "flex": null,
            "_model_name": "LayoutModel",
            "justify_items": null,
            "grid_row": null,
            "max_height": null,
            "align_content": null,
            "visibility": null,
            "align_self": null,
            "height": null,
            "min_height": null,
            "padding": null,
            "grid_auto_rows": null,
            "grid_gap": null,
            "max_width": null,
            "order": null,
            "_view_module_version": "1.2.0",
            "grid_template_areas": null,
            "object_position": null,
            "object_fit": null,
            "grid_auto_columns": null,
            "margin": null,
            "display": null,
            "left": null
          }
        },
        "549dc4d00b544d559aa7c8cefe586312": {
          "model_module": "@jupyter-widgets/base",
          "model_name": "LayoutModel",
          "state": {
            "_view_name": "LayoutView",
            "grid_template_rows": null,
            "right": null,
            "justify_content": null,
            "_view_module": "@jupyter-widgets/base",
            "overflow": null,
            "_model_module_version": "1.2.0",
            "_view_count": null,
            "flex_flow": null,
            "width": null,
            "min_width": null,
            "border": null,
            "align_items": null,
            "bottom": null,
            "_model_module": "@jupyter-widgets/base",
            "top": null,
            "grid_column": null,
            "overflow_y": null,
            "overflow_x": null,
            "grid_auto_flow": null,
            "grid_area": null,
            "grid_template_columns": null,
            "flex": null,
            "_model_name": "LayoutModel",
            "justify_items": null,
            "grid_row": null,
            "max_height": null,
            "align_content": null,
            "visibility": null,
            "align_self": null,
            "height": null,
            "min_height": null,
            "padding": null,
            "grid_auto_rows": null,
            "grid_gap": null,
            "max_width": null,
            "order": null,
            "_view_module_version": "1.2.0",
            "grid_template_areas": null,
            "object_position": null,
            "object_fit": null,
            "grid_auto_columns": null,
            "margin": null,
            "display": null,
            "left": null
          }
        },
        "66018c54475342db985f9adff91a80d3": {
          "model_module": "@jupyter-widgets/controls",
          "model_name": "HBoxModel",
          "state": {
            "_view_name": "HBoxView",
            "_dom_classes": [],
            "_model_name": "HBoxModel",
            "_view_module": "@jupyter-widgets/controls",
            "_model_module_version": "1.5.0",
            "_view_count": null,
            "_view_module_version": "1.5.0",
            "box_style": "",
            "layout": "IPY_MODEL_bd8ade2bb6944916ad8d56a5f29c2f1b",
            "_model_module": "@jupyter-widgets/controls",
            "children": [
              "IPY_MODEL_9cbc6b036cb2458d8ea912ab1b2dd493",
              "IPY_MODEL_667a765c74f546ea8cdaeb5eca9ea249"
            ]
          }
        },
        "bd8ade2bb6944916ad8d56a5f29c2f1b": {
          "model_module": "@jupyter-widgets/base",
          "model_name": "LayoutModel",
          "state": {
            "_view_name": "LayoutView",
            "grid_template_rows": null,
            "right": null,
            "justify_content": null,
            "_view_module": "@jupyter-widgets/base",
            "overflow": null,
            "_model_module_version": "1.2.0",
            "_view_count": null,
            "flex_flow": null,
            "width": null,
            "min_width": null,
            "border": null,
            "align_items": null,
            "bottom": null,
            "_model_module": "@jupyter-widgets/base",
            "top": null,
            "grid_column": null,
            "overflow_y": null,
            "overflow_x": null,
            "grid_auto_flow": null,
            "grid_area": null,
            "grid_template_columns": null,
            "flex": null,
            "_model_name": "LayoutModel",
            "justify_items": null,
            "grid_row": null,
            "max_height": null,
            "align_content": null,
            "visibility": null,
            "align_self": null,
            "height": null,
            "min_height": null,
            "padding": null,
            "grid_auto_rows": null,
            "grid_gap": null,
            "max_width": null,
            "order": null,
            "_view_module_version": "1.2.0",
            "grid_template_areas": null,
            "object_position": null,
            "object_fit": null,
            "grid_auto_columns": null,
            "margin": null,
            "display": null,
            "left": null
          }
        },
        "9cbc6b036cb2458d8ea912ab1b2dd493": {
          "model_module": "@jupyter-widgets/controls",
          "model_name": "FloatProgressModel",
          "state": {
            "_view_name": "ProgressView",
            "style": "IPY_MODEL_538021ef02de47079f708b256450c08f",
            "_dom_classes": [],
            "description": "100%",
            "_model_name": "FloatProgressModel",
            "bar_style": "success",
            "max": 2,
            "_view_module": "@jupyter-widgets/controls",
            "_model_module_version": "1.5.0",
            "value": 2,
            "_view_count": null,
            "_view_module_version": "1.5.0",
            "orientation": "horizontal",
            "min": 0,
            "description_tooltip": null,
            "_model_module": "@jupyter-widgets/controls",
            "layout": "IPY_MODEL_b8a7c791611845058cd653f0a711b2fe"
          }
        },
        "667a765c74f546ea8cdaeb5eca9ea249": {
          "model_module": "@jupyter-widgets/controls",
          "model_name": "HTMLModel",
          "state": {
            "_view_name": "HTMLView",
            "style": "IPY_MODEL_e608280dd5f54ec49b8bd26a0a344521",
            "_dom_classes": [],
            "description": "",
            "_model_name": "HTMLModel",
            "placeholder": "​",
            "_view_module": "@jupyter-widgets/controls",
            "_model_module_version": "1.5.0",
            "value": " 2/2 [00:25&lt;00:00, 12.57s/it]",
            "_view_count": null,
            "_view_module_version": "1.5.0",
            "description_tooltip": null,
            "_model_module": "@jupyter-widgets/controls",
            "layout": "IPY_MODEL_d4de1075cc954ffa8f9a32c7a4b004ba"
          }
        },
        "538021ef02de47079f708b256450c08f": {
          "model_module": "@jupyter-widgets/controls",
          "model_name": "ProgressStyleModel",
          "state": {
            "_view_name": "StyleView",
            "_model_name": "ProgressStyleModel",
            "description_width": "initial",
            "_view_module": "@jupyter-widgets/base",
            "_model_module_version": "1.5.0",
            "_view_count": null,
            "_view_module_version": "1.2.0",
            "bar_color": null,
            "_model_module": "@jupyter-widgets/controls"
          }
        },
        "b8a7c791611845058cd653f0a711b2fe": {
          "model_module": "@jupyter-widgets/base",
          "model_name": "LayoutModel",
          "state": {
            "_view_name": "LayoutView",
            "grid_template_rows": null,
            "right": null,
            "justify_content": null,
            "_view_module": "@jupyter-widgets/base",
            "overflow": null,
            "_model_module_version": "1.2.0",
            "_view_count": null,
            "flex_flow": null,
            "width": null,
            "min_width": null,
            "border": null,
            "align_items": null,
            "bottom": null,
            "_model_module": "@jupyter-widgets/base",
            "top": null,
            "grid_column": null,
            "overflow_y": null,
            "overflow_x": null,
            "grid_auto_flow": null,
            "grid_area": null,
            "grid_template_columns": null,
            "flex": null,
            "_model_name": "LayoutModel",
            "justify_items": null,
            "grid_row": null,
            "max_height": null,
            "align_content": null,
            "visibility": null,
            "align_self": null,
            "height": null,
            "min_height": null,
            "padding": null,
            "grid_auto_rows": null,
            "grid_gap": null,
            "max_width": null,
            "order": null,
            "_view_module_version": "1.2.0",
            "grid_template_areas": null,
            "object_position": null,
            "object_fit": null,
            "grid_auto_columns": null,
            "margin": null,
            "display": null,
            "left": null
          }
        },
        "e608280dd5f54ec49b8bd26a0a344521": {
          "model_module": "@jupyter-widgets/controls",
          "model_name": "DescriptionStyleModel",
          "state": {
            "_view_name": "StyleView",
            "_model_name": "DescriptionStyleModel",
            "description_width": "",
            "_view_module": "@jupyter-widgets/base",
            "_model_module_version": "1.5.0",
            "_view_count": null,
            "_view_module_version": "1.2.0",
            "_model_module": "@jupyter-widgets/controls"
          }
        },
        "d4de1075cc954ffa8f9a32c7a4b004ba": {
          "model_module": "@jupyter-widgets/base",
          "model_name": "LayoutModel",
          "state": {
            "_view_name": "LayoutView",
            "grid_template_rows": null,
            "right": null,
            "justify_content": null,
            "_view_module": "@jupyter-widgets/base",
            "overflow": null,
            "_model_module_version": "1.2.0",
            "_view_count": null,
            "flex_flow": null,
            "width": null,
            "min_width": null,
            "border": null,
            "align_items": null,
            "bottom": null,
            "_model_module": "@jupyter-widgets/base",
            "top": null,
            "grid_column": null,
            "overflow_y": null,
            "overflow_x": null,
            "grid_auto_flow": null,
            "grid_area": null,
            "grid_template_columns": null,
            "flex": null,
            "_model_name": "LayoutModel",
            "justify_items": null,
            "grid_row": null,
            "max_height": null,
            "align_content": null,
            "visibility": null,
            "align_self": null,
            "height": null,
            "min_height": null,
            "padding": null,
            "grid_auto_rows": null,
            "grid_gap": null,
            "max_width": null,
            "order": null,
            "_view_module_version": "1.2.0",
            "grid_template_areas": null,
            "object_position": null,
            "object_fit": null,
            "grid_auto_columns": null,
            "margin": null,
            "display": null,
            "left": null
          }
        },
        "8ba28241840b4b5cbed8ae151060e0f5": {
          "model_module": "@jupyter-widgets/controls",
          "model_name": "TabModel",
          "state": {
            "_view_name": "TabView",
            "_dom_classes": [],
            "_titles": {
              "0": "Youtube",
              "1": "Bilibili"
            },
            "_model_name": "TabModel",
            "_view_module": "@jupyter-widgets/controls",
            "selected_index": 0,
            "_model_module_version": "1.5.0",
            "_view_count": null,
            "_view_module_version": "1.5.0",
            "box_style": "",
            "layout": "IPY_MODEL_06ceb706f7b84aab80c9b2722a748171",
            "_model_module": "@jupyter-widgets/controls",
            "children": [
              "IPY_MODEL_cf6c6487ffc943c6933b33f27c63c81d",
              "IPY_MODEL_6386aef0fb7b498988afe9c5b85bdfe7"
            ]
          }
        },
        "06ceb706f7b84aab80c9b2722a748171": {
          "model_module": "@jupyter-widgets/base",
          "model_name": "LayoutModel",
          "state": {
            "_view_name": "LayoutView",
            "grid_template_rows": null,
            "right": null,
            "justify_content": null,
            "_view_module": "@jupyter-widgets/base",
            "overflow": null,
            "_model_module_version": "1.2.0",
            "_view_count": null,
            "flex_flow": null,
            "width": null,
            "min_width": null,
            "border": null,
            "align_items": null,
            "bottom": null,
            "_model_module": "@jupyter-widgets/base",
            "top": null,
            "grid_column": null,
            "overflow_y": null,
            "overflow_x": null,
            "grid_auto_flow": null,
            "grid_area": null,
            "grid_template_columns": null,
            "flex": null,
            "_model_name": "LayoutModel",
            "justify_items": null,
            "grid_row": null,
            "max_height": null,
            "align_content": null,
            "visibility": null,
            "align_self": null,
            "height": null,
            "min_height": null,
            "padding": null,
            "grid_auto_rows": null,
            "grid_gap": null,
            "max_width": null,
            "order": null,
            "_view_module_version": "1.2.0",
            "grid_template_areas": null,
            "object_position": null,
            "object_fit": null,
            "grid_auto_columns": null,
            "margin": null,
            "display": null,
            "left": null
          }
        },
        "cf6c6487ffc943c6933b33f27c63c81d": {
          "model_module": "@jupyter-widgets/output",
          "model_name": "OutputModel",
          "state": {
            "_view_name": "OutputView",
            "msg_id": "",
            "_dom_classes": [],
            "_model_name": "OutputModel",
            "outputs": [
              {
                "output_type": "stream",
                "metadata": {
                  "tags": []
                },
                "text": "Video available at https://youtube.com/watch?v=0EthSI0cknI\n",
                "stream": "stdout"
              },
              {
                "output_type": "display_data",
                "metadata": {
                  "tags": []
                },
                "text/html": "\n        <iframe\n            width=\"854\"\n            height=\"480\"\n            src=\"https://www.youtube.com/embed/0EthSI0cknI?fs=1&rel=0\"\n            frameborder=\"0\"\n            allowfullscreen\n        ></iframe>\n        ",
                "text/plain": "<IPython.lib.display.YouTubeVideo at 0x7f1e55e73c10>",
                "image/jpeg": "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\n"
              }
            ],
            "_view_module": "@jupyter-widgets/output",
            "_model_module_version": "1.0.0",
            "_view_count": null,
            "_view_module_version": "1.0.0",
            "layout": "IPY_MODEL_be070d4cdda04805ac648630b2761a1e",
            "_model_module": "@jupyter-widgets/output"
          }
        },
        "6386aef0fb7b498988afe9c5b85bdfe7": {
          "model_module": "@jupyter-widgets/output",
          "model_name": "OutputModel",
          "state": {
            "_view_name": "OutputView",
            "msg_id": "",
            "_dom_classes": [],
            "_model_name": "OutputModel",
            "outputs": [
              {
                "output_type": "stream",
                "metadata": {
                  "tags": []
                },
                "text": "Video available at https://www.bilibili.com/video/BV1TU4y1G7Je\n",
                "stream": "stdout"
              },
              {
                "output_type": "display_data",
                "metadata": {
                  "tags": []
                },
                "text/html": "\n        <iframe\n            width=\"854\"\n            height=\"480\"\n            src=\"https://player.bilibili.com/player.html?bvid=BV1TU4y1G7Je&page=1?fs=1\"\n            frameborder=\"0\"\n            allowfullscreen\n        ></iframe>\n        ",
                "text/plain": "<__main__.BiliVideo at 0x7f1e4cd30410>"
              }
            ],
            "_view_module": "@jupyter-widgets/output",
            "_model_module_version": "1.0.0",
            "_view_count": null,
            "_view_module_version": "1.0.0",
            "layout": "IPY_MODEL_8956ffc0bfed45c2864a80b0efc431ac",
            "_model_module": "@jupyter-widgets/output"
          }
        },
        "be070d4cdda04805ac648630b2761a1e": {
          "model_module": "@jupyter-widgets/base",
          "model_name": "LayoutModel",
          "state": {
            "_view_name": "LayoutView",
            "grid_template_rows": null,
            "right": null,
            "justify_content": null,
            "_view_module": "@jupyter-widgets/base",
            "overflow": null,
            "_model_module_version": "1.2.0",
            "_view_count": null,
            "flex_flow": null,
            "width": null,
            "min_width": null,
            "border": null,
            "align_items": null,
            "bottom": null,
            "_model_module": "@jupyter-widgets/base",
            "top": null,
            "grid_column": null,
            "overflow_y": null,
            "overflow_x": null,
            "grid_auto_flow": null,
            "grid_area": null,
            "grid_template_columns": null,
            "flex": null,
            "_model_name": "LayoutModel",
            "justify_items": null,
            "grid_row": null,
            "max_height": null,
            "align_content": null,
            "visibility": null,
            "align_self": null,
            "height": null,
            "min_height": null,
            "padding": null,
            "grid_auto_rows": null,
            "grid_gap": null,
            "max_width": null,
            "order": null,
            "_view_module_version": "1.2.0",
            "grid_template_areas": null,
            "object_position": null,
            "object_fit": null,
            "grid_auto_columns": null,
            "margin": null,
            "display": null,
            "left": null
          }
        },
        "8956ffc0bfed45c2864a80b0efc431ac": {
          "model_module": "@jupyter-widgets/base",
          "model_name": "LayoutModel",
          "state": {
            "_view_name": "LayoutView",
            "grid_template_rows": null,
            "right": null,
            "justify_content": null,
            "_view_module": "@jupyter-widgets/base",
            "overflow": null,
            "_model_module_version": "1.2.0",
            "_view_count": null,
            "flex_flow": null,
            "width": null,
            "min_width": null,
            "border": null,
            "align_items": null,
            "bottom": null,
            "_model_module": "@jupyter-widgets/base",
            "top": null,
            "grid_column": null,
            "overflow_y": null,
            "overflow_x": null,
            "grid_auto_flow": null,
            "grid_area": null,
            "grid_template_columns": null,
            "flex": null,
            "_model_name": "LayoutModel",
            "justify_items": null,
            "grid_row": null,
            "max_height": null,
            "align_content": null,
            "visibility": null,
            "align_self": null,
            "height": null,
            "min_height": null,
            "padding": null,
            "grid_auto_rows": null,
            "grid_gap": null,
            "max_width": null,
            "order": null,
            "_view_module_version": "1.2.0",
            "grid_template_areas": null,
            "object_position": null,
            "object_fit": null,
            "grid_auto_columns": null,
            "margin": null,
            "display": null,
            "left": null
          }
        }
      }
    }
  },
  "cells": [
    {
      "cell_type": "markdown",
      "metadata": {
        "id": "view-in-github",
        "colab_type": "text"
      },
      "source": [
        "<a href=\"https://colab.research.google.com/github/NeuromatchAcademy/course-content-dl/blob/general_fixes/tutorials/W1D4_Optimization/W1D4_Tutorial1.ipynb\" target=\"_parent\"><img src=\"https://colab.research.google.com/assets/colab-badge.svg\" alt=\"Open In Colab\"/></a>"
      ]
    },
    {
      "cell_type": "markdown",
      "metadata": {
        "execution": {},
        "id": "Txopqe7cGYRB"
      },
      "source": [
        "# Tutorial 1: Optimization techniques\n",
        "**Week 1, Day 4: Optimization**\n",
        "\n",
        "**By Neuromatch Academy**\n",
        "\n",
        "__Content creators:__ Jose Gallego-Posada, Ioannis Mitliagkas\n",
        "\n",
        "__Content reviewers:__ Piyush Chauhan, Vladimir Haltakov, Siwei Bai\n",
        "\n",
        "__Content editors:__ Charles J Edelson, B Gagana, Spiros Chavlis\n",
        "\n",
        "__Production editors:__ Arush Tagade, Spiros Chavlis"
      ]
    },
    {
      "cell_type": "markdown",
      "metadata": {
        "execution": {},
        "id": "pHOGTdU6GYRC"
      },
      "source": [
        "**Our 2021 Sponsors, including Presenting Sponsor Facebook Reality Labs**\n",
        "\n",
        "<p align='center'><img src='https://github.com/NeuromatchAcademy/widgets/blob/master/sponsors.png?raw=True'/></p>"
      ]
    },
    {
      "cell_type": "markdown",
      "metadata": {
        "execution": {},
        "id": "-wBjbZ8PGYRC"
      },
      "source": [
        "---\n",
        "# Tutorial Objectives\n",
        "\n",
        "Objectives:\n",
        "*   Necessity and importance of Optimization\n",
        "*   Introduction to commonly used optimization techniques\n",
        "*   Optimization in non-convex loss landscapes \n",
        "*   'Adaptive' hyperparameter tuning \n",
        "*   Ethical concerns\n",
        "\n"
      ]
    },
    {
      "cell_type": "code",
      "metadata": {
        "cellView": "form",
        "execution": {},
        "id": "E1sS76UyGYRD",
        "colab": {
          "base_uri": "https://localhost:8080/",
          "height": 500
        },
        "outputId": "7427229d-4a38-4465-c60b-39e44da1311e"
      },
      "source": [
        "# @title Tutorial slides\n",
        "\n",
        "# @markdown These are the slides for the videos in this tutorial\n",
        "from IPython.display import IFrame\n",
        "IFrame(src=f\"https://mfr.ca-1.osf.io/render?url=https://osf.io/ft2sz/?direct%26mode=render%26action=download%26mode=render\", width=854, height=480)"
      ],
      "execution_count": 52,
      "outputs": [
        {
          "output_type": "execute_result",
          "data": {
            "text/html": [
              "\n",
              "        <iframe\n",
              "            width=\"854\"\n",
              "            height=\"480\"\n",
              "            src=\"https://mfr.ca-1.osf.io/render?url=https://osf.io/ft2sz/?direct%26mode=render%26action=download%26mode=render\"\n",
              "            frameborder=\"0\"\n",
              "            allowfullscreen\n",
              "        ></iframe>\n",
              "        "
            ],
            "text/plain": [
              "<IPython.lib.display.IFrame at 0x7f1e4b214b10>"
            ]
          },
          "metadata": {
            "tags": []
          },
          "execution_count": 52
        }
      ]
    },
    {
      "cell_type": "markdown",
      "metadata": {
        "execution": {},
        "id": "TYb1ZLfiGYRD"
      },
      "source": [
        "---\n",
        "# Setup"
      ]
    },
    {
      "cell_type": "code",
      "metadata": {
        "execution": {},
        "id": "Cl5mq1WtGYRF"
      },
      "source": [
        "# Imports\n",
        "from __future__ import print_function\n",
        "\n",
        "import io\n",
        "import time\n",
        "import copy\n",
        "import torch\n",
        "import requests\n",
        "import torchvision\n",
        "\n",
        "import numpy as np\n",
        "import ipywidgets as widgets\n",
        "import matplotlib.pyplot as plt\n",
        "\n",
        "from urllib.request import urlopen\n",
        "from collections import defaultdict\n",
        "\n",
        "import torch.nn as nn\n",
        "import torch.optim as optim\n",
        "import torch.nn.functional as F\n",
        "import torchvision.datasets as datasets\n",
        "\n",
        "from tqdm.auto import tqdm"
      ],
      "execution_count": 53,
      "outputs": []
    },
    {
      "cell_type": "code",
      "metadata": {
        "cellView": "form",
        "execution": {},
        "id": "hcyV_PJ7GYRF"
      },
      "source": [
        "# @title Figure settings\n",
        "import ipywidgets as widgets       # interactive display\n",
        "%config InlineBackend.figure_format = 'retina'\n",
        "plt.style.use(\"https://raw.githubusercontent.com/NeuromatchAcademy/content-creation/main/nma.mplstyle\")\n",
        "plt.rc('axes', unicode_minus=False)"
      ],
      "execution_count": 54,
      "outputs": []
    },
    {
      "cell_type": "code",
      "metadata": {
        "cellView": "form",
        "execution": {},
        "id": "XzpuVOZsGYRG"
      },
      "source": [
        "# @title Helper functions\n",
        "def print_params(model):\n",
        "  for name, param in model.named_parameters():\n",
        "    if param.requires_grad:\n",
        "      print(name, param.data)"
      ],
      "execution_count": 55,
      "outputs": []
    },
    {
      "cell_type": "code",
      "metadata": {
        "cellView": "form",
        "execution": {},
        "id": "NHxP1fUgGYRG"
      },
      "source": [
        "# @title Set random seed\n",
        "\n",
        "# @markdown Executing `set_seed(seed=seed)` you are setting the seed\n",
        "\n",
        "# for DL its critical to set the random seed so that students can have a\n",
        "# baseline to compare their results to expected results.\n",
        "# Read more here: https://pytorch.org/docs/stable/notes/randomness.html\n",
        "\n",
        "# Call `set_seed` function in the exercises to ensure reproducibility.\n",
        "import random\n",
        "import torch\n",
        "\n",
        "def set_seed(seed=None, seed_torch=True):\n",
        "  if seed is None:\n",
        "    seed = np.random.choice(2 ** 32)\n",
        "  random.seed(seed)\n",
        "  np.random.seed(seed)\n",
        "  if seed_torch:\n",
        "    torch.manual_seed(seed)\n",
        "    torch.cuda.manual_seed_all(seed)\n",
        "    torch.cuda.manual_seed(seed)\n",
        "    torch.backends.cudnn.benchmark = False\n",
        "    torch.backends.cudnn.deterministic = True\n",
        "\n",
        "  print(f'Random seed {seed} has been set.')\n",
        "\n",
        "\n",
        "# In case that `DataLoader` is used\n",
        "def seed_worker(worker_id):\n",
        "  worker_seed = torch.initial_seed() % 2**32\n",
        "  np.random.seed(worker_seed)\n",
        "  random.seed(worker_seed)"
      ],
      "execution_count": 56,
      "outputs": []
    },
    {
      "cell_type": "code",
      "metadata": {
        "cellView": "form",
        "execution": {},
        "id": "Keg3-b8gGYRH"
      },
      "source": [
        "# @title Set device (GPU or CPU). Execute `set_device()`\n",
        "# especially if torch modules used.\n",
        "\n",
        "# inform the user if the notebook uses GPU or CPU.\n",
        "\n",
        "def set_device():\n",
        "  device = \"cuda\" if torch.cuda.is_available() else \"cpu\"\n",
        "  if device != \"cuda\":\n",
        "    print(\"WARNING: For this notebook to perform best, \"\n",
        "        \"if possible, in the menu under `Runtime` -> \"\n",
        "        \"`Change runtime type.`  select `GPU` \")\n",
        "  else:\n",
        "    print(\"GPU is enabled in this notebook.\")\n",
        "\n",
        "  return device"
      ],
      "execution_count": 57,
      "outputs": []
    },
    {
      "cell_type": "code",
      "metadata": {
        "execution": {},
        "id": "Le2FNDKHGYRI",
        "colab": {
          "base_uri": "https://localhost:8080/"
        },
        "outputId": "fb089fa2-758c-4954-f48b-097534320c4e"
      },
      "source": [
        "SEED = 2021\n",
        "set_seed(seed=SEED)\n",
        "DEVICE = set_device()"
      ],
      "execution_count": 58,
      "outputs": [
        {
          "output_type": "stream",
          "text": [
            "Random seed 2021 has been set.\n",
            "WARNING: For this notebook to perform best, if possible, in the menu under `Runtime` -> `Change runtime type.`  select `GPU` \n"
          ],
          "name": "stdout"
        }
      ]
    },
    {
      "cell_type": "markdown",
      "metadata": {
        "execution": {},
        "id": "EdrFm-yBGYRI"
      },
      "source": [
        "---\n",
        "# Section 1. Introduction"
      ]
    },
    {
      "cell_type": "code",
      "metadata": {
        "cellView": "form",
        "execution": {},
        "id": "SAkfIcbAGYRI",
        "colab": {
          "base_uri": "https://localhost:8080/",
          "height": 579,
          "referenced_widgets": [
            "8244f22bf54a4e1ead33208ba72a3084",
            "3bba08e913cb43769563784635ceb653",
            "ebc2dc01a57c4414a1d37028cce02396",
            "505b5d27e20b48aeb2e3364ab5e0a0dc",
            "3cba11a299f64d6f857573c89fb02028",
            "a3a0af07d1854daebfb1ff7fc65d8bb9"
          ]
        },
        "outputId": "eb36c151-902e-46c5-b85b-a68295ce7fa9"
      },
      "source": [
        "# @title Video 1: Introduction\n",
        "from ipywidgets import widgets\n",
        "\n",
        "out2 = widgets.Output()\n",
        "with out2:\n",
        "  from IPython.display import IFrame\n",
        "  class BiliVideo(IFrame):\n",
        "    def __init__(self, id, page=1, width=400, height=300, **kwargs):\n",
        "      self.id=id\n",
        "      src = \"https://player.bilibili.com/player.html?bvid={0}&page={1}\".format(id, page)\n",
        "      super(BiliVideo, self).__init__(src, width, height, **kwargs)\n",
        "\n",
        "  video = BiliVideo(id=f\"BV1VB4y1K7Vr\", width=854, height=480, fs=1)\n",
        "  print(\"Video available at https://www.bilibili.com/video/{0}\".format(video.id))\n",
        "  display(video)\n",
        "\n",
        "out1 = widgets.Output()\n",
        "with out1:\n",
        "  from IPython.display import YouTubeVideo\n",
        "  video = YouTubeVideo(id=f\"zm9oekdkJbQ\", width=854, height=480, fs=1, rel=0)\n",
        "  print(\"Video available at https://youtube.com/watch?v=\" + video.id)\n",
        "  display(video)\n",
        "\n",
        "out = widgets.Tab([out1, out2])\n",
        "out.set_title(0, 'Youtube')\n",
        "out.set_title(1, 'Bilibili')\n",
        "\n",
        "display(out)"
      ],
      "execution_count": 59,
      "outputs": [
        {
          "output_type": "display_data",
          "data": {
            "application/vnd.jupyter.widget-view+json": {
              "model_id": "8244f22bf54a4e1ead33208ba72a3084",
              "version_minor": 0,
              "version_major": 2
            },
            "text/plain": [
              "Tab(children=(Output(), Output()), _titles={'0': 'Youtube', '1': 'Bilibili'})"
            ]
          },
          "metadata": {
            "tags": []
          }
        }
      ]
    },
    {
      "cell_type": "markdown",
      "metadata": {
        "execution": {},
        "id": "Iu3SHohrGYRJ"
      },
      "source": [
        "## Think! 1: Unexpected consequences\n",
        "\n",
        "Can you think of examples from your own experience/life where poorly chosen incentives or objectives have lead to unexpected consequences?"
      ]
    },
    {
      "cell_type": "code",
      "metadata": {
        "execution": {},
        "id": "CTVbGMOfGYRJ"
      },
      "source": [
        "# to_remove explanation\n",
        "\n",
        "\"\"\"\n",
        "Example 1: The 20th-century paleontologist G. H. R. von Koenigswald used to pay\n",
        "Javanese locals for each fragment of hominin skull that they produced.\n",
        "He later discovered that the people had been breaking up whole skulls into smaller\n",
        "pieces to maximise their payments.\n",
        "Wikepedia: https://en.wikipedia.org/wiki/Perverse_incentive\n",
        "\n",
        "Example 2: With the aim of improving the US performance in OECD rankings,\n",
        "a congressperson introduced 'The Geometric Simplification Act' in 2011,\n",
        "declaring the Euclidean mathematical constant $\\pi$ to be precisely 3.\n",
        "Huffington Post: https://www.huffpost.com/entry/republicans-introduce-leg_b_837828\n",
        "\n",
        "You can find more examples at: https://en.wikipedia.org/wiki/Perverse_incentive\n",
        "\"\"\";"
      ],
      "execution_count": 60,
      "outputs": []
    },
    {
      "cell_type": "markdown",
      "metadata": {
        "execution": {},
        "id": "EwhyHFzwGYRK"
      },
      "source": [
        "---\n",
        "# Section 2: Case study: successfully training an MLP for image classification\n",
        "\n",
        "Many of the core ideas (and tricks) in modern optimization for deep learning can be illustrated in the simple setting of training an MLP to solve an image classification task. In this tutorial we will guide you through the key challenges that arise when optimizing high-dimensional, non-convex$^\\dagger$ problems. We will use these challenges to motivate and explain some commonly used solutions.\n",
        "\n",
        "**Disclaimer:** Some of the functions you will code in this tutorial are already implemented in Pytorch and many other libraries. For pedagogical reasons, we decided to bring these simple coding tasks into the spotlight and place a relatively higher emphasis in your understanding of the algorithms, rather than the use of a specific library. \n",
        "\n",
        "In 'day-to-day' research projects you will likely to rely on the community-vetted, optimized libraries rather than the 'manual implementations' you will write today. In Section 8 you will have a chance to 'put it all together' and use the full power of Pytorch to tune the parameters of an MLP to classify handwritten digits."
      ]
    },
    {
      "cell_type": "markdown",
      "metadata": {
        "execution": {},
        "id": "VGd0mC2jGYRK"
      },
      "source": [
        "$^\\dagger$: A **convex** function has one, global minimum - a nice property, as an optimization algorithm won't get stuck in a local minimum that isn't a global one (e.g., $f(x)=x^2 + 2x + 1$). A **non-convex** function is wavy - has some 'valleys' (local minima) that aren't as deep as the overall deepest 'valley' (global minimum). Thus, the optimization algorithms can get stuck in the local minimum, and it can be hard to tell when this happens (e.g., $f(x) = x^4 + x^3 - 2x^2 - 2x$). See also **Section 5** for more details."
      ]
    },
    {
      "cell_type": "code",
      "metadata": {
        "cellView": "form",
        "execution": {},
        "id": "QnP5B-fWGYRK",
        "colab": {
          "base_uri": "https://localhost:8080/",
          "height": 579,
          "referenced_widgets": [
            "fc3754a8b1534d659cf60b27b74eb5d4",
            "da8d887c11b4447892c5ffba1d96aa0b",
            "9a87e728557e477f944cc2daa64c6030",
            "6f680dafa8bc441bbca65c0baba59e64",
            "73e6171ac4ff418682403499d4fe21e7",
            "3c6f570320054a94ad3014148e7c3e0a"
          ]
        },
        "outputId": "38c38182-f177-42b7-e404-0e154ce49a28"
      },
      "source": [
        "# @title Video 2: Case Study - MLP Classification\n",
        "from ipywidgets import widgets\n",
        "\n",
        "out2 = widgets.Output()\n",
        "with out2:\n",
        "  from IPython.display import IFrame\n",
        "  class BiliVideo(IFrame):\n",
        "    def __init__(self, id, page=1, width=400, height=300, **kwargs):\n",
        "      self.id=id\n",
        "      src = \"https://player.bilibili.com/player.html?bvid={0}&page={1}\".format(id, page)\n",
        "      super(BiliVideo, self).__init__(src, width, height, **kwargs)\n",
        "\n",
        "  video = BiliVideo(id=f\"BV1GB4y1K7Ha\", width=854, height=480, fs=1)\n",
        "  print(\"Video available at https://www.bilibili.com/video/{0}\".format(video.id))\n",
        "  display(video)\n",
        "\n",
        "out1 = widgets.Output()\n",
        "with out1:\n",
        "  from IPython.display import YouTubeVideo\n",
        "  video = YouTubeVideo(id=f\"pJc2ENhYbqA\", width=854, height=480, fs=1, rel=0)\n",
        "  print(\"Video available at https://youtube.com/watch?v=\" + video.id)\n",
        "  display(video)\n",
        "\n",
        "out = widgets.Tab([out1, out2])\n",
        "out.set_title(0, 'Youtube')\n",
        "out.set_title(1, 'Bilibili')\n",
        "\n",
        "display(out)"
      ],
      "execution_count": 61,
      "outputs": [
        {
          "output_type": "display_data",
          "data": {
            "application/vnd.jupyter.widget-view+json": {
              "model_id": "fc3754a8b1534d659cf60b27b74eb5d4",
              "version_minor": 0,
              "version_major": 2
            },
            "text/plain": [
              "Tab(children=(Output(), Output()), _titles={'0': 'Youtube', '1': 'Bilibili'})"
            ]
          },
          "metadata": {
            "tags": []
          }
        }
      ]
    },
    {
      "cell_type": "markdown",
      "metadata": {
        "execution": {},
        "id": "wF8n0686GYRL"
      },
      "source": [
        "## Section 2.1: Data\n",
        "\n",
        "We will use the MNIST dataset of handwritten digits. We load the data via the Pytorch `datasets` module, as you learned in W1D1.   \n"
      ]
    },
    {
      "cell_type": "code",
      "metadata": {
        "execution": {},
        "id": "MYZEPQk3GYRL"
      },
      "source": [
        "def load_mnist_data(change_tensors=False, download=True):\n",
        "  \"\"\"Load training and test examples for the MNIST digits dataset\n",
        "\n",
        "  Returns:\n",
        "    train_data (tensor): training input tensor of size (train_size x 784)\n",
        "    train_target (tensor): training 0-9 integer label tensor of size (train_size)\n",
        "    test_data (tensor): test input tensor of size (70k-train_size x 784)\n",
        "    test_target (tensor): training 0-9 integer label tensor of size (70k-train_size)\n",
        "\n",
        "  \"\"\"\n",
        "  # Load train and test sets\n",
        "  train_set = datasets.MNIST(root='./data', train=True, download=download,\n",
        "                             transform=torchvision.transforms.ToTensor())\n",
        "  test_set = datasets.MNIST(root='./data', train=False, download=download,\n",
        "                            transform=torchvision.transforms.ToTensor())\n",
        "\n",
        "  # Original data is in range [0, 255]. We normalize the data wrt its mean and std_dev.\n",
        "  ## Note that we only used *training set* information to compute mean and std\n",
        "  mean = train_set.data.float().mean()\n",
        "  std = train_set.data.float().std()\n",
        "\n",
        "  if change_tensors:\n",
        "    # Apply normalization directly to the tensors containing the dataset\n",
        "    train_set.data = (train_set.data.float() - mean) / std\n",
        "    test_set.data = (test_set.data.float() - mean) / std\n",
        "  else:\n",
        "    tform = torchvision.transforms.Compose([torchvision.transforms.ToTensor(),\n",
        "                                            torchvision.transforms.Normalize(mean=[mean / 255.], std=[std / 255.])\n",
        "                                            ])\n",
        "    train_set = datasets.MNIST(root='./data', train=True, download=True,\n",
        "                               transform=tform)\n",
        "    test_set = datasets.MNIST(root='./data', train=False, download=True,\n",
        "                              transform=tform)\n",
        "\n",
        "  return train_set, test_set\n",
        "\n",
        "\n",
        "train_set, test_set = load_mnist_data(change_tensors=True)"
      ],
      "execution_count": 62,
      "outputs": []
    },
    {
      "cell_type": "markdown",
      "metadata": {
        "execution": {},
        "id": "h-gOvd4EGYRL"
      },
      "source": [
        "As we are just getting started, we will concentrate on a small subset of only 500 examples out of the 60.000 data points contained in the whole training set.\n",
        "\n"
      ]
    },
    {
      "cell_type": "code",
      "metadata": {
        "execution": {},
        "id": "nc99Hbk5GYRM"
      },
      "source": [
        "# Sample a random subset of 500 indices\n",
        "subset_index = np.random.choice(len(train_set.data), 500)\n",
        "\n",
        "# We will use these symbols to represent the training data and labels, to stay\n",
        "# as close to the mathematical expressions as possible.\n",
        "X, y = train_set.data[subset_index, :], train_set.targets[subset_index]"
      ],
      "execution_count": 63,
      "outputs": []
    },
    {
      "cell_type": "markdown",
      "metadata": {
        "execution": {},
        "id": "-FpIrvAcGYRM"
      },
      "source": [
        "Run the following cell to visualize the content of three examples in our training set. Note how the pre-processing we applied to the data changes the range of pixel values after normalization.\n"
      ]
    },
    {
      "cell_type": "code",
      "metadata": {
        "cellView": "form",
        "execution": {},
        "id": "HAhgyk5qGYRM",
        "colab": {
          "base_uri": "https://localhost:8080/",
          "height": 374
        },
        "outputId": "624a41b3-3d70-47c6-a980-cf892370ffc0"
      },
      "source": [
        "# @title Run me!\n",
        "num_figures = 3\n",
        "fig, axs = plt.subplots(1, num_figures, figsize=(5 * num_figures, 5))\n",
        "\n",
        "for sample_id, ax in enumerate(axs):\n",
        "  # Plot the pixel values for each image\n",
        "  ax.matshow(X[sample_id, :], cmap='gray_r')\n",
        "  # 'Write' the pixel value in the corresponding location\n",
        "  for (i, j), z in np.ndenumerate(X[sample_id, :]):\n",
        "    text = '{:.1f}'.format(z)\n",
        "    ax.text(j, i, text, ha='center',\n",
        "            va='center', fontsize=6, c='steelblue')\n",
        "\n",
        "  ax.set_title('Label: ' + str(y[sample_id].item()))\n",
        "  ax.axis('off')\n",
        "\n",
        "plt.show()"
      ],
      "execution_count": 64,
      "outputs": [
        {
          "output_type": "display_data",
          "data": {
            "image/png": "[encoded data removed]",
            "text/plain": [
              "<Figure size 1080x360 with 3 Axes>"
            ]
          },
          "metadata": {
            "tags": [],
            "image/png": {
              "width": 1032,
              "height": 357
            },
            "needs_background": "light"
          }
        }
      ]
    },
    {
      "cell_type": "markdown",
      "metadata": {
        "execution": {},
        "id": "oc5LLSkZGYRN"
      },
      "source": [
        "## Section 2.2: Model\n",
        "\n",
        "As you will see next week, there are specific model architectures that are better suited to image-like data, such as Convolutional Neural Networks (CNNs). For simplicity, in this tutorial we will focus exclusively on Multi-Layer Perceptron (MLP) models as they allow us to highlight many important optimization challenges shared with more advanced neural network designs."
      ]
    },
    {
      "cell_type": "code",
      "metadata": {
        "execution": {},
        "id": "66YltqKGGYRN"
      },
      "source": [
        "class MLP(nn.Module):\n",
        "  \"\"\" This class implements MLPs in Pytorch of an arbitrary number of hidden\n",
        "  layers of potentially different sizes. Since we concentrate on classification\n",
        "  tasks in this tutorial, we have a log_softmax layer at prediction time.\n",
        "  \"\"\"\n",
        "\n",
        "  def __init__(self, in_dim=784, out_dim=10, hidden_dims=[], use_bias=True):\n",
        "    \"\"\"Constructs a MultiLayerPerceptron\n",
        "\n",
        "    Args:\n",
        "        in_dim (int): dimensionality of input data\n",
        "        out_dim (int): number of classes\n",
        "        hidden_dims (list): contains the dimensions of the hidden layers, an empty\n",
        "            list corresponds to a linear model (in_dim, out_dim)\n",
        "    \"\"\"\n",
        "\n",
        "    super(MLP, self).__init__()\n",
        "\n",
        "    self.in_dim = in_dim\n",
        "    self.out_dim = out_dim\n",
        "\n",
        "    # If we have no hidden layer, just initialize a linear model (e.g. in logistic regression)\n",
        "    if len(hidden_dims) == 0:\n",
        "      layers = [nn.Linear(in_dim, out_dim, bias=use_bias)]\n",
        "    else:\n",
        "      # 'Actual' MLP with dimensions in_dim - num_hidden_layers*[hidden_dim] - out_dim\n",
        "      layers = [nn.Linear(in_dim, hidden_dims[0], bias=use_bias), nn.ReLU()]\n",
        "\n",
        "      # Loop until before the last layer\n",
        "      for i, hidden_dim in enumerate(hidden_dims[:-1]):\n",
        "        layers += [nn.Linear(hidden_dim, hidden_dims[i + 1], bias=use_bias),\n",
        "                   nn.ReLU()]\n",
        "\n",
        "      # Add final layer to the number of classes\n",
        "      layers += [nn.Linear(hidden_dims[-1], out_dim, bias=use_bias)]\n",
        "\n",
        "    self.main = nn.Sequential(*layers)\n",
        "\n",
        "  def forward(self, x):\n",
        "    # Flatten the images into 'vectors'\n",
        "    transformed_x = x.view(-1, self.in_dim)\n",
        "    hidden_output = self.main(transformed_x)\n",
        "    output = F.log_softmax(hidden_output, dim=1)\n",
        "    return output"
      ],
      "execution_count": 65,
      "outputs": []
    },
    {
      "cell_type": "markdown",
      "metadata": {
        "execution": {},
        "id": "0IftdL30GYRN"
      },
      "source": [
        "Linear models constitute a very special kind of MLPs: they are equivalent to an MLP with *zero* hidden layers. This is simply an affine transformation, in other words a 'linear' map $W x$ with an 'offset' $b$; followed by a softmax function.\n",
        "\n",
        "$$f(x) = \\text{softmax}(W x + b)$$\n",
        "\n",
        "Here $x \\in \\mathbb{R}^{784}$, $W \\in \\mathbb{R}^{10 \\times 784}$ and $b \\in \\mathbb{R}^{10}$. Notice that the dimensions of the weight matrix are $10 \\times 784$ as the input tensors are flattened images, i.e., $28 \\times 28 = 784$-dimensional tensors and the output layer consists of $10$ nodes."
      ]
    },
    {
      "cell_type": "code",
      "metadata": {
        "execution": {},
        "id": "YFdiPA7zGYRN",
        "colab": {
          "base_uri": "https://localhost:8080/"
        },
        "outputId": "5efacbd9-3482-4265-eb87-98a7b0fea998"
      },
      "source": [
        "# Empty hidden_dims means we take a model with zero hidden layers.\n",
        "model = MLP(in_dim=784, out_dim=10, hidden_dims=[])\n",
        "\n",
        "# We print the model structure with 784 inputs and 10 outputs\n",
        "print(model)"
      ],
      "execution_count": 66,
      "outputs": [
        {
          "output_type": "stream",
          "text": [
            "MLP(\n",
            "  (main): Sequential(\n",
            "    (0): Linear(in_features=784, out_features=10, bias=True)\n",
            "  )\n",
            ")\n"
          ],
          "name": "stdout"
        }
      ]
    },
    {
      "cell_type": "markdown",
      "metadata": {
        "execution": {},
        "id": "55pVHLopGYRO"
      },
      "source": [
        "## Section 2.3: Loss\n",
        "\n",
        "While we care about the accuracy of the model, the 'discrete' nature of the 0-1 loss makes it challenging to optimize. In order to learn good parameters for this model, we will use the cross entropy loss (negative log-likelihood), which you saw in last lecture, as a surrogate objective to be minimized. \n",
        "\n",
        "This particular choice of model and optimization objective leads to a *convex* optimization problem with respect to the parameters $W$ and $b$. "
      ]
    },
    {
      "cell_type": "code",
      "metadata": {
        "execution": {},
        "id": "AJ5Xqc1TGYRO"
      },
      "source": [
        "loss_fn = F.nll_loss"
      ],
      "execution_count": 67,
      "outputs": []
    },
    {
      "cell_type": "markdown",
      "metadata": {
        "execution": {},
        "id": "75xvZ9JMGYRO"
      },
      "source": [
        "## Section 2.4: Interpretability"
      ]
    },
    {
      "cell_type": "markdown",
      "metadata": {
        "execution": {},
        "id": "l8Y_JF35GYRO"
      },
      "source": [
        "In last lecture, you saw that inspecting the weights of a model can provide insights on what 'concepts' the model has learned. Here we show the weights of a partially trained model. The weights corresponding to each class 'learn' to _fire_ when an input of the class is detected.\n"
      ]
    },
    {
      "cell_type": "code",
      "metadata": {
        "cellView": "form",
        "execution": {},
        "id": "3q0fKJS-GYRO"
      },
      "source": [
        "#@markdown Run _this cell_ to train the model. If you are curious about how the training\n",
        "#@markdown takes place, double-click this cell to find out. At the end of this tutorial\n",
        "#@markdown you will have the opportunity to train a more complex model on your own.\n",
        "\n",
        "cell_verbose = False\n",
        "partial_trained_model = MLP(in_dim=784, out_dim=10, hidden_dims=[])\n",
        "\n",
        "if cell_verbose:\n",
        "  print('Init loss', loss_fn(partial_trained_model(X), y).item()) # This matches around np.log(10 = # of classes)\n",
        "\n",
        "optimizer = optim.Adam(partial_trained_model.parameters(), lr=7e-4)\n",
        "for _ in range(200):\n",
        "  loss = loss_fn(partial_trained_model(X), y)\n",
        "  optimizer.zero_grad()\n",
        "  loss.backward()\n",
        "  optimizer.step()\n",
        "\n",
        "if cell_verbose:\n",
        "  print('End loss', loss_fn(partial_trained_model(X), y).item()) # This should be less than 1e-2"
      ],
      "execution_count": 68,
      "outputs": []
    },
    {
      "cell_type": "code",
      "metadata": {
        "execution": {},
        "id": "TvOq2eBlGYRP",
        "colab": {
          "base_uri": "https://localhost:8080/",
          "height": 141
        },
        "outputId": "103c073e-9e2b-4f2f-956d-7d6a843b15d6"
      },
      "source": [
        "# Show class filters of a trained model\n",
        "W = partial_trained_model.main[0].weight.data.numpy()\n",
        "\n",
        "fig, axs = plt.subplots(1, 10, figsize=(15, 4))\n",
        "for class_id in range(10):\n",
        "  axs[class_id].imshow(W[class_id, :].reshape(28, 28), cmap='gray_r')\n",
        "  axs[class_id].axis('off')\n",
        "  axs[class_id].set_title('Class ' + str(class_id) )\n",
        "\n",
        "plt.show()"
      ],
      "execution_count": 69,
      "outputs": [
        {
          "output_type": "display_data",
          "data": {
            "image/png": "[encoded data removed]",
            "text/plain": [
              "<Figure size 1080x288 with 10 Axes>"
            ]
          },
          "metadata": {
            "tags": [],
            "image/png": {
              "width": 1062,
              "height": 124
            },
            "needs_background": "light"
          }
        }
      ]
    },
    {
      "cell_type": "markdown",
      "metadata": {
        "execution": {},
        "id": "c9OTUDZnGYRP"
      },
      "source": [
        "---\n",
        "# Section 3: High dimensional search\n",
        "\n",
        "We now have a model with its corresponding trainable parameters as well as an objective to optimize. Where do we go to next? How do we find a 'good' configuration of parameters?\n",
        "\n",
        "One idea is to choose a random direction and move only if the objective is reduced. However, this is inefficient in high dimensions and you will see how gradient descent (with a suitable step-size) can guarantee consistent improvement in terms of the objective function."
      ]
    },
    {
      "cell_type": "code",
      "metadata": {
        "cellView": "form",
        "execution": {},
        "id": "GdD9s6SHGYRP",
        "colab": {
          "base_uri": "https://localhost:8080/",
          "height": 579,
          "referenced_widgets": [
            "31282e73032d4a5c9c05ea30d99a0d66",
            "cfefc62d31b0439d958ab4526b16bfb3",
            "4e1af0b38db14c69af068465ca51b502",
            "988a92a207b74897a54233dba3f653d8",
            "9ae0786c233f4ecaaa38ff5e445940d2",
            "9976fe5f54ac4b1bbf17df9d6f05c47f"
          ]
        },
        "outputId": "93c1ac3b-77a4-4448-ce16-9479348cbf16"
      },
      "source": [
        "# @title Video 3: Optimization of an Objective Function\n",
        "from ipywidgets import widgets\n",
        "\n",
        "out2 = widgets.Output()\n",
        "with out2:\n",
        "  from IPython.display import IFrame\n",
        "  class BiliVideo(IFrame):\n",
        "    def __init__(self, id, page=1, width=400, height=300, **kwargs):\n",
        "      self.id=id\n",
        "      src = \"https://player.bilibili.com/player.html?bvid={0}&page={1}\".format(id, page)\n",
        "      super(BiliVideo, self).__init__(src, width, height, **kwargs)\n",
        "\n",
        "  video = BiliVideo(id=f\"BV1aL411H7Ce\", width=854, height=480, fs=1)\n",
        "  print(\"Video available at https://www.bilibili.com/video/{0}\".format(video.id))\n",
        "  display(video)\n",
        "\n",
        "out1 = widgets.Output()\n",
        "with out1:\n",
        "  from IPython.display import YouTubeVideo\n",
        "  video = YouTubeVideo(id=f\"aSJTRdjRvvw\", width=854, height=480, fs=1, rel=0)\n",
        "  print(\"Video available at https://youtube.com/watch?v=\" + video.id)\n",
        "  display(video)\n",
        "\n",
        "out = widgets.Tab([out1, out2])\n",
        "out.set_title(0, 'Youtube')\n",
        "out.set_title(1, 'Bilibili')\n",
        "\n",
        "display(out)"
      ],
      "execution_count": 70,
      "outputs": [
        {
          "output_type": "display_data",
          "data": {
            "application/vnd.jupyter.widget-view+json": {
              "model_id": "31282e73032d4a5c9c05ea30d99a0d66",
              "version_minor": 0,
              "version_major": 2
            },
            "text/plain": [
              "Tab(children=(Output(), Output()), _titles={'0': 'Youtube', '1': 'Bilibili'})"
            ]
          },
          "metadata": {
            "tags": []
          }
        }
      ]
    },
    {
      "cell_type": "markdown",
      "metadata": {
        "execution": {},
        "id": "Ckt8dVC-GYRP"
      },
      "source": [
        "## Coding Exercise 3: Implement gradient descent\n",
        "\n",
        "In this exercise you will use PyTorch automatic differentiation capabilities to compute the gradient of the loss with respect to the parameters of the model. You will then use these gradients to implement the update performed by the gradient descent method.  "
      ]
    },
    {
      "cell_type": "code",
      "metadata": {
        "execution": {},
        "id": "Z9lGQEy6GYRP"
      },
      "source": [
        "def zero_grad(params):\n",
        "  \"\"\"Clear up gradients as Pytorch automatically accumulates gradients from\n",
        "  successive backward calls\n",
        "  \"\"\"\n",
        "  for par in params:\n",
        "    if not(par.grad is None):\n",
        "      par.grad.data.zero_()\n",
        "\n",
        "\n",
        "def random_update(model, noise_scale=0.1, normalized=False):\n",
        "  \"\"\" Performs a random update on the parameters of the model\n",
        "  \"\"\"\n",
        "  for par in model.parameters():\n",
        "    noise = torch.randn_like(par)\n",
        "    if normalized:\n",
        "      noise /= torch.norm(noise)\n",
        "    par.data +=  noise_scale * noise"
      ],
      "execution_count": 71,
      "outputs": []
    },
    {
      "cell_type": "code",
      "metadata": {
        "execution": {},
        "id": "pHqeq_hoGYRQ",
        "colab": {
          "base_uri": "https://localhost:8080/"
        },
        "outputId": "948eee9e-a5a5-445f-fbf7-57a667e1104b"
      },
      "source": [
        "def gradient_update(loss, params, lr=1e-3):\n",
        "  \"\"\"Perform a gradient descent update on a given loss over a collection of parameters\n",
        "\n",
        "  Args:\n",
        "    loss (tensor): A scalar tensor containing the loss whose gradient will be computed\n",
        "    params (iterable): Collection of parameters with respect to which we compute gradients\n",
        "    lr (float): Scalar specifying the learning rate or step-size for the update\n",
        "  \"\"\"\n",
        "  # Clear up gradients as Pytorch automatically accumulates gradients from\n",
        "  # successive backward calls\n",
        "  zero_grad(params)\n",
        "\n",
        "  # Compute gradients on given objective\n",
        "  loss.backward()\n",
        "\n",
        "  with torch.no_grad():\n",
        "    for par in params:\n",
        "      #################################################\n",
        "      ## TODO for students: update the value of the parameter ##\n",
        "      raise NotImplementedError(\"Student exercise: implement gradient update\")\n",
        "      #################################################\n",
        "      # Here we work with the 'data' attribute of the parameter rather than the\n",
        "      # parameter itself.\n",
        "      par -= ...\n",
        "\n",
        "\n",
        "set_seed(2021)\n",
        "model = MLP(in_dim=784, out_dim=10, hidden_dims=[]).to(DEVICE)\n",
        "print('\\n The model parameters before the update are: \\n')\n",
        "print_params(model)\n",
        "loss = loss_fn(model(X), y).to(DEVICE)\n",
        "\n",
        "## Uncomment below to test your function\n",
        "# gradient_update(loss, list(model.parameters()), lr=1e-1)\n",
        "# print('\\n The model parameters after the update are: \\n')\n",
        "# print_params(model)"
      ],
      "execution_count": 72,
      "outputs": [
        {
          "output_type": "stream",
          "text": [
            "Random seed 2021 has been set.\n",
            "\n",
            " The model parameters before the update are: \n",
            "\n",
            "main.0.weight tensor([[-0.0264,  0.0010,  0.0173,  ...,  0.0297,  0.0278, -0.0221],\n",
            "        [-0.0040, -0.0295, -0.0086,  ..., -0.0070,  0.0254, -0.0233],\n",
            "        [ 0.0240, -0.0231,  0.0342,  ...,  0.0124,  0.0270, -0.0180],\n",
            "        ...,\n",
            "        [-0.0005,  0.0157,  0.0111,  ...,  0.0144, -0.0301, -0.0144],\n",
            "        [ 0.0181,  0.0303,  0.0255,  ..., -0.0110, -0.0175,  0.0205],\n",
            "        [ 0.0208, -0.0353, -0.0183,  ..., -0.0271,  0.0099,  0.0003]])\n",
            "main.0.bias tensor([-0.0290, -0.0033,  0.0100, -0.0320,  0.0022,  0.0221,  0.0307,  0.0243,\n",
            "         0.0159, -0.0064])\n"
          ],
          "name": "stdout"
        }
      ]
    },
    {
      "cell_type": "code",
      "metadata": {
        "execution": {},
        "id": "hseCXmlEGYRQ",
        "colab": {
          "base_uri": "https://localhost:8080/"
        },
        "outputId": "7b6663f0-6a48-4172-ebda-35055b1174f8"
      },
      "source": [
        "# to_remove solution\n",
        "def gradient_update(loss, params, lr=1e-3):\n",
        "  \"\"\"Perform a gradient descent update on a given loss over a collection of parameters\n",
        "\n",
        "  Args:\n",
        "    loss (tensor): A scalar tensor containing the loss whose gradient will be computed\n",
        "    params (iterable): Collection of parameters with respect to which we compute gradients\n",
        "    lr (float): Scalar specifying the learning rate or step-size for the update\n",
        "  \"\"\"\n",
        "  # Clear up gradients as Pytorch automatically accumulates gradients from\n",
        "  # successive backward calls\n",
        "  zero_grad(params)\n",
        "\n",
        "  # Compute gradients on given objective\n",
        "  loss.backward()\n",
        "\n",
        "  with torch.no_grad():\n",
        "    for par in params:\n",
        "      # Here we work with the 'data' attribute of the parameter rather than the\n",
        "      # parameter itself.\n",
        "      par -= lr * par.grad\n",
        "\n",
        "\n",
        "set_seed(2021)\n",
        "model = MLP(in_dim=784, out_dim=10, hidden_dims=[]).to(DEVICE)\n",
        "print('\\n The model parameters before the update are: \\n')\n",
        "print_params(model)\n",
        "loss = loss_fn(model(X), y).to(DEVICE)\n",
        "\n",
        "## Uncomment below to test your function\n",
        "gradient_update(loss, list(model.parameters()), lr=1e-1)\n",
        "print('\\n The model parameters after the update are: \\n')\n",
        "print_params(model)"
      ],
      "execution_count": 73,
      "outputs": [
        {
          "output_type": "stream",
          "text": [
            "Random seed 2021 has been set.\n",
            "\n",
            " The model parameters before the update are: \n",
            "\n",
            "main.0.weight tensor([[-0.0264,  0.0010,  0.0173,  ...,  0.0297,  0.0278, -0.0221],\n",
            "        [-0.0040, -0.0295, -0.0086,  ..., -0.0070,  0.0254, -0.0233],\n",
            "        [ 0.0240, -0.0231,  0.0342,  ...,  0.0124,  0.0270, -0.0180],\n",
            "        ...,\n",
            "        [-0.0005,  0.0157,  0.0111,  ...,  0.0144, -0.0301, -0.0144],\n",
            "        [ 0.0181,  0.0303,  0.0255,  ..., -0.0110, -0.0175,  0.0205],\n",
            "        [ 0.0208, -0.0353, -0.0183,  ..., -0.0271,  0.0099,  0.0003]])\n",
            "main.0.bias tensor([-0.0290, -0.0033,  0.0100, -0.0320,  0.0022,  0.0221,  0.0307,  0.0243,\n",
            "         0.0159, -0.0064])\n",
            "\n",
            " The model parameters after the update are: \n",
            "\n",
            "main.0.weight tensor([[-0.0263,  0.0010,  0.0174,  ...,  0.0298,  0.0278, -0.0220],\n",
            "        [-0.0047, -0.0302, -0.0093,  ..., -0.0077,  0.0248, -0.0240],\n",
            "        [ 0.0234, -0.0237,  0.0335,  ...,  0.0117,  0.0263, -0.0187],\n",
            "        ...,\n",
            "        [-0.0006,  0.0156,  0.0110,  ...,  0.0143, -0.0302, -0.0145],\n",
            "        [ 0.0164,  0.0286,  0.0238,  ..., -0.0127, -0.0191,  0.0188],\n",
            "        [ 0.0206, -0.0354, -0.0184,  ..., -0.0272,  0.0098,  0.0002]])\n",
            "main.0.bias tensor([-0.0292, -0.0018,  0.0115, -0.0370,  0.0054,  0.0155,  0.0317,  0.0246,\n",
            "         0.0198, -0.0061])\n"
          ],
          "name": "stdout"
        }
      ]
    },
    {
      "cell_type": "markdown",
      "metadata": {
        "execution": {},
        "id": "uytPrM4XGYRQ"
      },
      "source": [
        "```\n",
        " The model parameters after the update are: \n",
        "\n",
        "main.0.weight tensor([[-0.0263,  0.0010,  0.0174,  ...,  0.0298,  0.0278, -0.0220],\n",
        "        [-0.0047, -0.0302, -0.0093,  ..., -0.0077,  0.0248, -0.0240],\n",
        "        [ 0.0234, -0.0237,  0.0335,  ...,  0.0117,  0.0263, -0.0187],\n",
        "        ...,\n",
        "        [-0.0006,  0.0156,  0.0110,  ...,  0.0143, -0.0302, -0.0145],\n",
        "        [ 0.0164,  0.0286,  0.0238,  ..., -0.0127, -0.0191,  0.0188],\n",
        "        [ 0.0206, -0.0354, -0.0184,  ..., -0.0272,  0.0098,  0.0002]])\n",
        "main.0.bias tensor([-0.0292, -0.0018,  0.0115, -0.0370,  0.0054,  0.0155,  0.0317,  0.0246,\n",
        "         0.0198, -0.0061])\n",
        "```"
      ]
    },
    {
      "cell_type": "markdown",
      "metadata": {
        "execution": {},
        "id": "ZtPjsNHGGYRQ"
      },
      "source": [
        "## Comparing updates\n",
        "\n",
        "These plots compare the effectiveness of updating random directions for the problem of optimizing the parameters of a high-dimensional linear model. We contrast the behavior at initialization and during an intermediate stage of training by showing the histograms of change in loss over 100 different random directions vs the changed in loss induced by the gradient descent update\n",
        "\n",
        "**Remember:** since we are trying to minimize, here negative is better!\n"
      ]
    },
    {
      "cell_type": "code",
      "metadata": {
        "cellView": "form",
        "execution": {},
        "id": "5oJu8CrDGYRQ",
        "colab": {
          "base_uri": "https://localhost:8080/",
          "height": 311
        },
        "outputId": "c1889393-8196-4569-c848-4b0ede6bbe32"
      },
      "source": [
        "# @markdown _Run this cell_ to visualize the results\n",
        "fig, axs = plt.subplots(1, 2, figsize=(10, 4))\n",
        "\n",
        "for id, (model_name, my_model) in enumerate([('Initialization', model),\n",
        "                                              ('Partially trained', partial_trained_model)]):\n",
        "  # Compue the loss we will be comparing to\n",
        "  base_loss = loss_fn(my_model(X), y)\n",
        "\n",
        "  # Compute the improvement via gradient descent\n",
        "  dummy_model = copy.deepcopy(my_model)\n",
        "  loss1 = loss_fn(dummy_model(X), y)\n",
        "  gradient_update(loss1, list(dummy_model.parameters()), lr=1e-2)\n",
        "  gd_delta = loss_fn(dummy_model(X), y) - base_loss\n",
        "\n",
        "  deltas = []\n",
        "  for trial_id in range(100):\n",
        "    # Compute the improvement obtained with a random direction\n",
        "    dummy_model = copy.deepcopy(my_model)\n",
        "    random_update(dummy_model, noise_scale=1e-2)\n",
        "    deltas.append((loss_fn(dummy_model(X), y) - base_loss).item())\n",
        "\n",
        "  # Plot histogram for random direction and vertical line for gradient descent\n",
        "  axs[id].hist(deltas, label='Random Directions', bins=20)\n",
        "  axs[id].set_title(model_name)\n",
        "  axs[id].set_xlabel('Change in loss')\n",
        "  axs[id].set_ylabel('% samples')\n",
        "  axs[id].axvline(0, c='green', alpha=0.5)\n",
        "  axs[id].axvline(gd_delta.item(), linestyle='--', c='red', alpha=1,\n",
        "                  label='Gradient Descent')\n",
        "\n",
        "\n",
        "handles, labels = axs[id].get_legend_handles_labels()\n",
        "fig.legend(handles, labels, loc='upper center',\n",
        "           bbox_to_anchor=(0.5, 1.05),\n",
        "           fancybox=False, shadow=False, ncol=2)\n",
        "\n",
        "plt.show()"
      ],
      "execution_count": 74,
      "outputs": [
        {
          "output_type": "display_data",
          "data": {
            "image/png": "[encoded data removed]",
            "text/plain": [
              "<Figure size 720x288 with 2 Axes>"
            ]
          },
          "metadata": {
            "tags": [],
            "image/png": {
              "width": 702,
              "height": 294
            },
            "needs_background": "light"
          }
        }
      ]
    },
    {
      "cell_type": "markdown",
      "metadata": {
        "execution": {},
        "id": "mcjcjT3EGYRR"
      },
      "source": [
        "## Think! 3: Gradient descent vs. random search\n",
        "\n",
        "Compare the behavior of gradient descent and random search based on the histograms above. Is any of the two methods more reliable? How can you explain the changes between behavior of the methods at initialization vs during training?"
      ]
    },
    {
      "cell_type": "code",
      "metadata": {
        "execution": {},
        "id": "jMKC1steGYRR"
      },
      "source": [
        "# to_remove explanation\n",
        "\n",
        "\"\"\"\n",
        "Note how gradient descent (with a properly tuned step size) guarantees an improvement\n",
        "in the objective function, unlike the random udpate method, which very rarely finds a\n",
        "direction that improves the objective function. The green line indicates\n",
        "a change of zero in the value of the loss: we want to be below zero to minimize!\n",
        "\n",
        "The magnitue of the improvement at initialization is much bigger than\n",
        "the change in loss obtained at a later stage in training. This is expected,\n",
        "as we have gotten closer to the optimum parameter configuration.\n",
        "\"\"\";"
      ],
      "execution_count": 75,
      "outputs": []
    },
    {
      "cell_type": "markdown",
      "metadata": {
        "execution": {},
        "id": "TIk-IE2gGYRR"
      },
      "source": [
        "---\n",
        "# Section 4: Poor conditioning\n",
        "\n",
        "Already in this 'simple' logistic regression problem, the issue of bad conditioning is haunting us. Not all parameters are created equal and the sensitivity of the network to changes on the parameters will have a big impact in the dynamics of the optimization."
      ]
    },
    {
      "cell_type": "code",
      "metadata": {
        "cellView": "form",
        "execution": {},
        "id": "YIknR62HGYRR",
        "colab": {
          "base_uri": "https://localhost:8080/",
          "height": 579,
          "referenced_widgets": [
            "61dd25798227467aa8634815cb6e4a7b",
            "84452ee451ea46de83b59f3e31874b4c",
            "2cb0b34831a34c12ab3d77f56b213be6",
            "be22b097d07a4801b83a731a206dcde2",
            "0a36c3882c2442d39246fd233c27250b",
            "79704500dbbd44e9a392269cb0dba573"
          ]
        },
        "outputId": "7942ce64-0926-4754-8557-04b1ef2ca39f"
      },
      "source": [
        "# @title Video 4: Momentum\n",
        "from ipywidgets import widgets\n",
        "\n",
        "out2 = widgets.Output()\n",
        "with out2:\n",
        "  from IPython.display import IFrame\n",
        "  class BiliVideo(IFrame):\n",
        "    def __init__(self, id, page=1, width=400, height=300, **kwargs):\n",
        "      self.id=id\n",
        "      src = \"https://player.bilibili.com/player.html?bvid={0}&page={1}\".format(id, page)\n",
        "      super(BiliVideo, self).__init__(src, width, height, **kwargs)\n",
        "\n",
        "  video = BiliVideo(id=f\"BV1NL411H71t\", width=854, height=480, fs=1)\n",
        "  print(\"Video available at https://www.bilibili.com/video/{0}\".format(video.id))\n",
        "  display(video)\n",
        "\n",
        "out1 = widgets.Output()\n",
        "with out1:\n",
        "  from IPython.display import YouTubeVideo\n",
        "  video = YouTubeVideo(id=f\"3ES5O58Y_2M\", width=854, height=480, fs=1, rel=0)\n",
        "  print(\"Video available at https://youtube.com/watch?v=\" + video.id)\n",
        "  display(video)\n",
        "\n",
        "out = widgets.Tab([out1, out2])\n",
        "out.set_title(0, 'Youtube')\n",
        "out.set_title(1, 'Bilibili')\n",
        "\n",
        "display(out)"
      ],
      "execution_count": 76,
      "outputs": [
        {
          "output_type": "display_data",
          "data": {
            "application/vnd.jupyter.widget-view+json": {
              "model_id": "61dd25798227467aa8634815cb6e4a7b",
              "version_minor": 0,
              "version_major": 2
            },
            "text/plain": [
              "Tab(children=(Output(), Output()), _titles={'0': 'Youtube', '1': 'Bilibili'})"
            ]
          },
          "metadata": {
            "tags": []
          }
        }
      ]
    },
    {
      "cell_type": "markdown",
      "metadata": {
        "execution": {},
        "id": "i-UF4k9OGYRS"
      },
      "source": [
        "We illustrate this issue in a 2-dimensional setting. We freeze all but two parameters of the network: one of them is an element of the weight matrix (filter) for class 0, while the other is the bias for class 7. This results in an optimization with two decision variables.\n",
        "\n",
        "How much difference is there in the behavior of these two parameters under gradient descent? What is the effect of momentum in bridging that gap?\n"
      ]
    },
    {
      "cell_type": "code",
      "metadata": {
        "cellView": "form",
        "execution": {},
        "id": "5BkVlCzpGYRS"
      },
      "source": [
        "# @markdown _Run this cell_ to setup some helper functions.\n",
        "\n",
        "def loss_2d(model, u, v, mask_idx=(0, 378), bias_id=7):\n",
        "  \"\"\"Defines a 2-dim function by freezing all but two parameters of a linear\n",
        "  model.\n",
        "\n",
        "  Args:\n",
        "    model (torch module): a pytorch 0-hidden layer (linear) model\n",
        "    u (scalar): first free parameter\n",
        "    v (scalar): second free parameter\n",
        "    mask_idx (tuple): selects parameter in weight matrix replaced by u\n",
        "    bias_idx (int): selects parameter in bias vector replaced by v\n",
        "\n",
        "  Returns:\n",
        "    scalar: loss of the 'new' model over inputs X, y (defined externally)\n",
        "  \"\"\"\n",
        "\n",
        "  # We zero out the element of the weight tensor that will be\n",
        "  # replaced by u\n",
        "  mask = torch.ones_like(model.main[0].weight)\n",
        "  mask[mask_idx[0], mask_idx[1]] = 0.\n",
        "  masked_weights = model.main[0].weight * mask\n",
        "\n",
        "  # u is replacing an element of the weight matrix\n",
        "  masked_weights[mask_idx[0], mask_idx[1]] = u\n",
        "\n",
        "  res = X.reshape(-1, 784) @ masked_weights.T + model.main[0].bias\n",
        "\n",
        "  # v is replacing a bias for class 7\n",
        "  res[:, 7] += v - model.main[0].bias[7]\n",
        "  res =  F.log_softmax(res, dim=1)\n",
        "\n",
        "  return loss_fn(res, y)\n",
        "\n",
        "\n",
        "def plot_surface(U, V, Z, fig):\n",
        "  \"\"\" Plot a 3D loss surface given meshed inputs U, V and values Z\n",
        "  \"\"\"\n",
        "  ax = fig.add_subplot(1, 2, 2, projection='3d')\n",
        "  ax.view_init(45, -130)\n",
        "\n",
        "  surf = ax.plot_surface(U, V, Z, cmap=plt.cm.coolwarm,\n",
        "                      linewidth=0, antialiased=True, alpha=0.5)\n",
        "\n",
        "  # Select certain level contours to plot\n",
        "  # levels = Z.min() * np.array([1.005, 1.1, 1.3, 1.5, 2.])\n",
        "  # plt.contour(U, V, Z)# levels=levels, alpha=0.5)\n",
        "\n",
        "  ax.set_xlabel('Weight')\n",
        "  ax.set_ylabel('Bias')\n",
        "  ax.set_zlabel('Loss', rotation=90)\n",
        "\n",
        "  return ax\n",
        "\n",
        "\n",
        "def plot_param_distance(best_u, best_v, trajs, fig, styles, labels, use_log=False):\n",
        "  \"\"\" Plot the distance to each of the two parameters for a collection of 'trajectories'\n",
        "  \"\"\"\n",
        "  ax = fig.add_subplot(1, 1, 1)\n",
        "\n",
        "  for traj, style, label in zip(trajs, styles, labels):\n",
        "    d0 = np.array([np.abs(_[0] - best_u) for _ in traj])\n",
        "    d1 = np.array([np.abs(_[1] - best_v) for _ in traj])\n",
        "    if use_log:\n",
        "      d0 = np.log(1e-16 + d0)\n",
        "      d1 = np.log(1e-16 + d1)\n",
        "    ax.plot(range(len(traj)), d0, style, label='weight - ' + label)\n",
        "    ax.plot(range(len(traj)), d1, style, label='bias - ' + label)\n",
        "  ax.set_xlabel('Iteration')\n",
        "  if use_log:\n",
        "    ax.set_ylabel('Log distance to optimum (per dimension)')\n",
        "    ax.set_ylim(-12, 1.5)\n",
        "  else:\n",
        "    ax.set_ylabel('Abs distance to optimum (per dimension)')\n",
        "  ax.legend(loc='right', bbox_to_anchor=(1.5, 0.5),\n",
        "            fancybox=False, shadow=False, ncol=1)\n",
        "\n",
        "  return ax\n",
        "\n",
        "\n",
        "def run_optimizer(inits, eval_fn, update_fn, max_steps=500,\n",
        "                  optim_kwargs={'lr':1e-2}, log_traj=True):\n",
        "  \"\"\"Runs an optimizer on a given objective and logs parameter trajectory\n",
        "\n",
        "  Args:\n",
        "      inits list(scalar): initialization of parameters\n",
        "      eval_fn (callable): function computing the objective to be minimized\n",
        "      update_fn (callable): function executing parameter update\n",
        "      max_steps (int): number of iterations to run\n",
        "      optim_kwargs (dict): customize optimizer hyperparameters\n",
        "\n",
        "  Returns:\n",
        "      list[list]: trajectory information [*params, loss] for each optimization step\n",
        "  \"\"\"\n",
        "\n",
        "  # Initialize parameters and optimizer\n",
        "  params = [nn.Parameter(torch.tensor(_)) for _ in inits]\n",
        "  # Methods like momentum and rmsprop keep and auxiliary vector of parameters\n",
        "  aux_tensors = [torch.zeros_like(_) for _ in params]\n",
        "  if log_traj:\n",
        "    traj = np.zeros((max_steps, len(params)+1))\n",
        "  for _ in range(max_steps):\n",
        "    # Evaluate loss\n",
        "    loss = eval_fn(*params)\n",
        "    # Store 'trajectory' information\n",
        "    if log_traj:\n",
        "      traj[_, :] = [_.item() for _ in params] + [loss.item()]\n",
        "    # Perform update\n",
        "    if update_fn == gradient_update:\n",
        "      gradient_update(loss, params, **optim_kwargs)\n",
        "    else:\n",
        "      update_fn(loss, params, aux_tensors, **optim_kwargs)\n",
        "  if log_traj:\n",
        "    return traj\n",
        "\n",
        "\n",
        "L = 4.\n",
        "xs = np.linspace(-L, L, 30)\n",
        "ys = np.linspace(-L, L, 30)\n",
        "U, V = np.meshgrid(xs, ys)\n",
        "\n",
        "# Compute loss surface\n",
        "g = lambda u, v: loss_2d(copy.deepcopy(model), u, v)\n",
        "Z = np.fromiter(map(g, U.ravel(), V.ravel()), U.dtype).reshape(V.shape)"
      ],
      "execution_count": 77,
      "outputs": []
    },
    {
      "cell_type": "markdown",
      "metadata": {
        "execution": {},
        "id": "oEhUfTMSGYRS"
      },
      "source": [
        "## Coding Exercise 4: Implement momentum\n",
        "\n",
        "In this exercise you will implement the momentum update given by:\n",
        "\n",
        "\\begin{equation}\n",
        "w_{t+1} = w_t - \\eta \\nabla J(w_t) + \\beta (w_t - w_{t-1})\n",
        "\\end{equation}\n",
        "\n",
        "It is convenient to re-express this update rule in terms of a recursion. For that, we define 'velocity' as the quantity:\n",
        "\\begin{equation}\n",
        "v_{t-1} := w_{t} - w_{t-1}\n",
        "\\end{equation}\n",
        "\n",
        "which leads to the two-step update rule:\n",
        "\n",
        "\\begin{equation}\n",
        "v_t = - \\eta \\nabla J(w_t) + \\beta (\\underbrace{w_t - w_{t-1}}_{v_{t-1}})\n",
        "\\end{equation}\n",
        "\n",
        "\\begin{equation}\n",
        "w_{t+1} \\leftarrow w_t + v_{t}\n",
        "\\end{equation}\n",
        "\n",
        "Pay attention to the positive sign of the update in the last equation, given the definition of $v_t$, above. "
      ]
    },
    {
      "cell_type": "code",
      "metadata": {
        "execution": {},
        "id": "nbVKIrLtGYRS",
        "colab": {
          "base_uri": "https://localhost:8080/"
        },
        "outputId": "099653e2-ec4e-4962-f252-9377baab4f3d"
      },
      "source": [
        "def momentum_update(loss, params, grad_vel, lr=1e-3, beta=0.8):\n",
        "  \"\"\"Perform a momentum update over a collection of parameters given a loss and 'velocities'\n",
        "\n",
        "  Args:\n",
        "    loss (tensor): A scalar tensor containing the loss whose gradient will be computed\n",
        "    params (iterable): Collection of parameters with respect to which we compute gradients\n",
        "    grad_vel (iterable): Collection containing the 'velocity' v_t for each parameter\n",
        "    lr (float): Scalar specifying the learning rate or step-size for the update\n",
        "    beta (float): Scalar 'momentum' parameter\n",
        "  \"\"\"\n",
        "  # Clear up gradients as Pytorch automatically accumulates gradients from\n",
        "  # successive backward calls\n",
        "  zero_grad(params)\n",
        "  # Compute gradients on given objective\n",
        "  loss.backward()\n",
        "\n",
        "  with torch.no_grad():\n",
        "    for (par, vel) in zip(params, grad_vel):\n",
        "      #################################################\n",
        "      ## TODO for students: update the value of the parameter ##\n",
        "      raise NotImplementedError(\"Student exercise: implement momentum update\")\n",
        "      #################################################\n",
        "      # Update 'velocity'\n",
        "      vel = ...\n",
        "      # Update parameters\n",
        "      par += ...\n",
        "\n",
        "\n",
        "set_seed(2021)\n",
        "model = MLP(in_dim=784, out_dim=10, hidden_dims=[]).to(DEVICE)\n",
        "print('\\n The model parameters before the update are: \\n')\n",
        "print_params(model)\n",
        "loss = loss_fn(model(X), y).to(DEVICE)\n",
        "initial_vel = [torch.randn_like(p) for p in model.parameters()]\n",
        "\n",
        "## Uncomment below to test your function\n",
        "# momentum_update(loss, list(model.parameters()), grad_vel=initial_vel, lr=1e-1)\n",
        "# print('\\n The model parameters after the update are: \\n')\n",
        "# print_params(model)"
      ],
      "execution_count": 78,
      "outputs": [
        {
          "output_type": "stream",
          "text": [
            "Random seed 2021 has been set.\n",
            "\n",
            " The model parameters before the update are: \n",
            "\n",
            "main.0.weight tensor([[-0.0264,  0.0010,  0.0173,  ...,  0.0297,  0.0278, -0.0221],\n",
            "        [-0.0040, -0.0295, -0.0086,  ..., -0.0070,  0.0254, -0.0233],\n",
            "        [ 0.0240, -0.0231,  0.0342,  ...,  0.0124,  0.0270, -0.0180],\n",
            "        ...,\n",
            "        [-0.0005,  0.0157,  0.0111,  ...,  0.0144, -0.0301, -0.0144],\n",
            "        [ 0.0181,  0.0303,  0.0255,  ..., -0.0110, -0.0175,  0.0205],\n",
            "        [ 0.0208, -0.0353, -0.0183,  ..., -0.0271,  0.0099,  0.0003]])\n",
            "main.0.bias tensor([-0.0290, -0.0033,  0.0100, -0.0320,  0.0022,  0.0221,  0.0307,  0.0243,\n",
            "         0.0159, -0.0064])\n"
          ],
          "name": "stdout"
        }
      ]
    },
    {
      "cell_type": "code",
      "metadata": {
        "execution": {},
        "id": "8rsdShOtGYRT",
        "colab": {
          "base_uri": "https://localhost:8080/"
        },
        "outputId": "09ad0459-6ea4-433a-b827-3db53bcb1743"
      },
      "source": [
        "# to_remove solution\n",
        "def momentum_update(loss, params, grad_vel, lr=1e-3, beta=0.8):\n",
        "  \"\"\"Perform a momentum update over a collection of parameters given a loss and 'velocities'\n",
        "\n",
        "  Args:\n",
        "    loss (tensor): A scalar tensor containing the loss whose gradient will be computed\n",
        "    params (iterable): Collection of parameters with respect to which we compute gradients\n",
        "    grad_vel (iterable): Collection containing the 'velocity' v_t for each parameter\n",
        "    lr (float): Scalar specifying the learning rate or step-size for the update\n",
        "    beta (float): Scalar 'momentum' parameter\n",
        "  \"\"\"\n",
        "  # Clear up gradients as Pytorch automatically accumulates gradients from\n",
        "  # successive backward calls\n",
        "  zero_grad(params)\n",
        "  # Compute gradients on given objective\n",
        "  loss.backward()\n",
        "\n",
        "  with torch.no_grad():\n",
        "    for (par, vel) in zip(params, grad_vel):\n",
        "      # Update 'velocity'\n",
        "      vel = -lr * par.grad + beta * vel\n",
        "      # Update parameters\n",
        "      par += vel\n",
        "\n",
        "\n",
        "set_seed(2021)\n",
        "model = MLP(in_dim=784, out_dim=10, hidden_dims=[]).to(DEVICE)\n",
        "print('\\n The model parameters before the update are: \\n')\n",
        "print_params(model)\n",
        "loss = loss_fn(model(X), y).to(DEVICE)\n",
        "initial_vel = [torch.randn_like(p) for p in model.parameters()]\n",
        "\n",
        "## Uncomment below to test your function\n",
        "momentum_update(loss, list(model.parameters()), grad_vel=initial_vel, lr=1e-1)\n",
        "print('\\n The model parameters after the update are: \\n')\n",
        "print_params(model)"
      ],
      "execution_count": 79,
      "outputs": [
        {
          "output_type": "stream",
          "text": [
            "Random seed 2021 has been set.\n",
            "\n",
            " The model parameters before the update are: \n",
            "\n",
            "main.0.weight tensor([[-0.0264,  0.0010,  0.0173,  ...,  0.0297,  0.0278, -0.0221],\n",
            "        [-0.0040, -0.0295, -0.0086,  ..., -0.0070,  0.0254, -0.0233],\n",
            "        [ 0.0240, -0.0231,  0.0342,  ...,  0.0124,  0.0270, -0.0180],\n",
            "        ...,\n",
            "        [-0.0005,  0.0157,  0.0111,  ...,  0.0144, -0.0301, -0.0144],\n",
            "        [ 0.0181,  0.0303,  0.0255,  ..., -0.0110, -0.0175,  0.0205],\n",
            "        [ 0.0208, -0.0353, -0.0183,  ..., -0.0271,  0.0099,  0.0003]])\n",
            "main.0.bias tensor([-0.0290, -0.0033,  0.0100, -0.0320,  0.0022,  0.0221,  0.0307,  0.0243,\n",
            "         0.0159, -0.0064])\n",
            "\n",
            " The model parameters after the update are: \n",
            "\n",
            "main.0.weight tensor([[ 1.4102,  0.0104, -1.7971,  ..., -0.9630,  0.3613, -0.8537],\n",
            "        [ 0.4131,  0.5320, -0.6555,  ...,  0.4867, -0.2414, -0.5839],\n",
            "        [-1.2522, -0.9844,  0.5808,  ..., -0.9055,  0.5810,  0.1143],\n",
            "        ...,\n",
            "        [-0.4532,  0.4529, -0.0626,  ...,  0.9965,  0.2545, -0.8600],\n",
            "        [-0.3897, -0.1012,  0.6730,  ...,  0.0690, -0.1672,  0.3165],\n",
            "        [-0.9599,  0.8921, -0.3801,  ..., -0.3372, -1.5537,  0.5356]])\n",
            "main.0.bias tensor([ 0.3654, -0.9282,  0.7764, -1.4442, -0.8556,  0.8400, -0.4569,  1.1953,\n",
            "         0.5866,  0.3262])\n"
          ],
          "name": "stdout"
        }
      ]
    },
    {
      "cell_type": "markdown",
      "metadata": {
        "execution": {},
        "id": "xqHPqPdWGYRT"
      },
      "source": [
        "```\n",
        " The model parameters after the update are: \n",
        "\n",
        "main.0.weight tensor([[ 1.4102,  0.0104, -1.7971,  ..., -0.9630,  0.3613, -0.8537],\n",
        "        [ 0.4131,  0.5320, -0.6555,  ...,  0.4867, -0.2414, -0.5839],\n",
        "        [-1.2522, -0.9844,  0.5808,  ..., -0.9055,  0.5810,  0.1143],\n",
        "        ...,\n",
        "        [-0.4532,  0.4529, -0.0626,  ...,  0.9965,  0.2545, -0.8600],\n",
        "        [-0.3897, -0.1012,  0.6730,  ...,  0.0690, -0.1672,  0.3165],\n",
        "        [-0.9599,  0.8921, -0.3801,  ..., -0.3372, -1.5537,  0.5356]])\n",
        "main.0.bias tensor([ 0.3654, -0.9282,  0.7764, -1.4442, -0.8556,  0.8400, -0.4569,  1.1953,\n",
        "         0.5866,  0.3262])\n",
        "```"
      ]
    },
    {
      "cell_type": "markdown",
      "metadata": {
        "execution": {},
        "id": "MwM32PrJGYRT"
      },
      "source": [
        "## Interactive Demo 4: Momentum vs. GD\n",
        "\n",
        "The plots below show the distance to the optimum for both variables across the two methods, as well as the parameter trajectory over the loss surface."
      ]
    },
    {
      "cell_type": "code",
      "metadata": {
        "cellView": "form",
        "execution": {},
        "id": "dZl6SQpSGYRT",
        "colab": {
          "base_uri": "https://localhost:8080/",
          "height": 145,
          "referenced_widgets": [
            "2b260ba7501e4dce8a33ddbece684473",
            "a9f54c76195e4773bd4b9d0843c9fcb0",
            "a9f6ad19ef824ce29160760e8c08b0bb",
            "6a613f85f43849b1bec57f1209189d61",
            "199b4e36b9ea4ea3bd2e896464baae8c",
            "d046e6bc41954ec5b2a947139befa9cb",
            "0bf52d6583494b3a87d91aa7ebeace77",
            "16e4cc4c07bd4207b6e82e0bd722575b",
            "68c5e3d782fc423b86a8d6f3cc7efb90",
            "3acc52cb3f1f42c6b0cc597ab0f09ee3",
            "7f4d15aa117a4b8cb003b7d7b9e91ac3",
            "789057ececda433098a1ef4b025f47cf",
            "13ea1e09acfa4ce4912f10d3f259f860",
            "da27a097ca3d49179a7f11221b444a9e",
            "9a9db32f09404e64abf42b6215d65668",
            "8298935a863341c1bbd287b9e5bbce0b"
          ]
        },
        "outputId": "4c8caf13-c69e-4094-ecbd-35ebba21db4c"
      },
      "source": [
        "# @markdown Run this cell to enable the widget!\n",
        "from matplotlib.lines import Line2D\n",
        "\n",
        "\n",
        "# Find the optimum of this 2D problem using Newton's method\n",
        "def run_newton(init_list=[0., 0.], max_iter=200):\n",
        "\n",
        "  par_tensor = torch.tensor(init_list, requires_grad=True)\n",
        "  t_g = lambda par_tensor: g(par_tensor[0], par_tensor[1])\n",
        "\n",
        "  for _ in range(max_iter):\n",
        "    eval_loss = t_g(par_tensor)\n",
        "    eval_grad = torch.autograd.grad(eval_loss, [par_tensor])[0]\n",
        "    eval_hess = torch.autograd.functional.hessian(t_g, par_tensor)\n",
        "    # Newton's update is:  - inverse(Hessian) x gradient\n",
        "    par_tensor.data -= torch.inverse(eval_hess) @ eval_grad\n",
        "\n",
        "  return par_tensor.data.numpy()\n",
        "\n",
        "\n",
        "best_u, best_v  = run_newton()\n",
        "\n",
        "# Initialization of the variables\n",
        "INITS = [2.5, 3.7]\n",
        "\n",
        "# Used for plotting\n",
        "LABELS = ['GD', 'Momentum']\n",
        "COLORS = ['black', 'red']\n",
        "LSTYLES = ['-', '--']\n",
        "\n",
        "@widgets.interact_manual\n",
        "def momentum_experiment(max_steps=widgets.IntSlider(300, 50, 500, 5),\n",
        "                        lr=widgets.FloatLogSlider(value=1e-1, min=-3, max=0.7, step=0.1),\n",
        "                        beta=widgets.FloatSlider(value=9e-1, min=0, max=1., step=0.01)\n",
        "                        ):\n",
        "\n",
        "  # Execute both optimizers\n",
        "  sgd_traj = run_optimizer(INITS, eval_fn=g, update_fn=gradient_update,\n",
        "                           max_steps=max_steps, optim_kwargs={'lr': lr})\n",
        "  mom_traj = run_optimizer(INITS, eval_fn=g, update_fn=momentum_update,\n",
        "                           max_steps=max_steps, optim_kwargs={'lr': lr, 'beta':beta})\n",
        "\n",
        "  TRAJS = [sgd_traj, mom_traj]\n",
        "\n",
        "  # best_u, best_v = mom_traj[-1][0], mom_traj[-1][1]\n",
        "  # Plot distances\n",
        "  fig = plt.figure(figsize=(9,4))\n",
        "  plot_param_distance(best_u, best_v, TRAJS, fig,\n",
        "                      LSTYLES, LABELS, use_log=True)\n",
        "\n",
        "  # # Plot trajectories\n",
        "  fig = plt.figure(figsize=(12, 5))\n",
        "  ax = plot_surface(U, V, Z, fig)\n",
        "  for traj, c, label in zip(TRAJS, COLORS, LABELS):\n",
        "    ax.plot3D(*traj.T, c, linewidth=0.3, label=label)\n",
        "    ax.scatter3D(*traj.T, '.-', s=1, c=c)\n",
        "\n",
        "  # Plot optimum point\n",
        "  ax.scatter(best_u, best_v, Z.min(), marker='*', s=80, c='lime', label='Opt.');\n",
        "  lines = [Line2D([0], [0],\n",
        "                  color=c,\n",
        "                  linewidth=3,\n",
        "                  linestyle='--') for c in COLORS]\n",
        "  lines.append(Line2D([0], [0], color='lime', linewidth=0, marker='*'))\n",
        "  ax.legend(lines, LABELS + ['Optimum'], loc='right',\n",
        "            bbox_to_anchor=(.8, -0.1), ncol=len(LABELS) + 1)"
      ],
      "execution_count": 80,
      "outputs": [
        {
          "output_type": "display_data",
          "data": {
            "application/vnd.jupyter.widget-view+json": {
              "model_id": "2b260ba7501e4dce8a33ddbece684473",
              "version_minor": 0,
              "version_major": 2
            },
            "text/plain": [
              "interactive(children=(IntSlider(value=300, description='max_steps', max=500, min=50, step=5), FloatLogSlider(v…"
            ]
          },
          "metadata": {
            "tags": []
          }
        }
      ]
    },
    {
      "cell_type": "markdown",
      "metadata": {
        "execution": {},
        "id": "dXnY1nLaGYRU"
      },
      "source": [
        "## Think! 4: Momentum and oscillations\n",
        "\n",
        "- Discuss how this specific example illustrates the issue of poor conditioning in optimization? How does momentum help resolve these difficulties?\n",
        "\n",
        "- Do you see oscillations for any of these methods? Why does this happen?\n",
        "\n",
        "- Finally, tune the learning rate and momentum parameters to achieve a loss below $10^{-6}$ (for both dimensions) within 100 iterations."
      ]
    },
    {
      "cell_type": "code",
      "metadata": {
        "execution": {},
        "id": "HNukLlxWGYRU"
      },
      "source": [
        "# to_remove explanation\n",
        "\n",
        "\"\"\"\n",
        "- The loss has very different curvatures between the weight and the bias dimensions:\n",
        "a change of the same magnitude has a much bigger effect in the loss when applied to the weight than to the bias.\n",
        "This leads to very slow convergence of GD in the bias dimension.\n",
        "\n",
        "- Momentum encourages 'movement' in previously seen directions and results in\n",
        "both parameters converging much faster. The oscillations you can see for the momentum\n",
        "trajectories arise due to overshooting past the solution due to the momentum term.\n",
        "\"\"\";"
      ],
      "execution_count": 81,
      "outputs": []
    },
    {
      "cell_type": "markdown",
      "metadata": {
        "execution": {},
        "id": "tjV70k50GYRU"
      },
      "source": [
        "---\n",
        "# Section 5: Non-convexity\n",
        "\n",
        "The introduction of even just 1 hidden layer in the neural network transforms the previous convex optimization problem into a non-convex one. And with great non-convexity, comes great responsibility... (Sorry, we couldn't help it!)\n",
        "\n",
        "**Note:** From this section onwards we will be dealing with non-convex optimization problems for the remaining of the tutorial. "
      ]
    },
    {
      "cell_type": "code",
      "metadata": {
        "cellView": "form",
        "execution": {},
        "id": "WhPNfdcHGYRV",
        "colab": {
          "base_uri": "https://localhost:8080/",
          "height": 579,
          "referenced_widgets": [
            "f5da25e3558546a3acab7aaafb468ec6",
            "215b949925b2465abb6f6f30bd3b0495",
            "c5cca0408cf445d0b60c376497d11441",
            "74ed4f8d20514b8295e18423777aecb1",
            "fe7567ae930b479789f1306030cab04d",
            "6546fb1ca18046c7ba226f1a3a094b2e"
          ]
        },
        "outputId": "64576768-aff6-4b01-8012-61c187cd8c60"
      },
      "source": [
        "# @title Video 5: Overparametrization\n",
        "from ipywidgets import widgets\n",
        "\n",
        "out2 = widgets.Output()\n",
        "with out2:\n",
        "  from IPython.display import IFrame\n",
        "  class BiliVideo(IFrame):\n",
        "    def __init__(self, id, page=1, width=400, height=300, **kwargs):\n",
        "      self.id=id\n",
        "      src = \"https://player.bilibili.com/player.html?bvid={0}&page={1}\".format(id, page)\n",
        "      super(BiliVideo, self).__init__(src, width, height, **kwargs)\n",
        "\n",
        "  video = BiliVideo(id=f\"BV16h41167Jr\", width=854, height=480, fs=1)\n",
        "  print(\"Video available at https://www.bilibili.com/video/{0}\".format(video.id))\n",
        "  display(video)\n",
        "\n",
        "out1 = widgets.Output()\n",
        "with out1:\n",
        "  from IPython.display import YouTubeVideo\n",
        "  video = YouTubeVideo(id=f\"7vUpUEKKl5o\", width=854, height=480, fs=1, rel=0)\n",
        "  print(\"Video available at https://youtube.com/watch?v=\" + video.id)\n",
        "  display(video)\n",
        "\n",
        "out = widgets.Tab([out1, out2])\n",
        "out.set_title(0, 'Youtube')\n",
        "out.set_title(1, 'Bilibili')\n",
        "\n",
        "display(out)"
      ],
      "execution_count": 82,
      "outputs": [
        {
          "output_type": "display_data",
          "data": {
            "application/vnd.jupyter.widget-view+json": {
              "model_id": "f5da25e3558546a3acab7aaafb468ec6",
              "version_minor": 0,
              "version_major": 2
            },
            "text/plain": [
              "Tab(children=(Output(), Output()), _titles={'0': 'Youtube', '1': 'Bilibili'})"
            ]
          },
          "metadata": {
            "tags": []
          }
        }
      ]
    },
    {
      "cell_type": "markdown",
      "metadata": {
        "execution": {},
        "id": "LiiZCHTpGYRV"
      },
      "source": [
        "Take a couple of minutes to play with a more complex 3D visualization of the loss landscape of a neural network on a non-convex problem. Visit https://losslandscape.com/explorer.\n",
        "\n",
        "1. Explore the features on the bottom left corner. You can see an explanation for each icon by clicking on the [i] button located on the top right corner.\n",
        "2. Use the 'gradient descent' feature to perform a thought experiment:\n",
        "    -   Choose an initialization\n",
        "    -   Choose the learning rate\n",
        "    -   Mentally formulate your hypothesis about what kind of trajectory you expect to observe \n",
        "3. Run the experiment and contrast your intuition with the observed behavior.\n",
        "4. Repeat this experiment a handful of times for several initialization/learning rate configurations\n"
      ]
    },
    {
      "cell_type": "markdown",
      "metadata": {
        "execution": {},
        "id": "r4_sIVM8GYRW"
      },
      "source": [
        "## Interactive Demo 5: Overparametrization to the rescue!\n",
        "\n",
        "As you may have seen, the non-convex nature of the surface can lead the optimization process to get stuck in undesirable local-optima. There is ample empirical evidence supporting the claim that 'overparameterized' models are easier to train.\n",
        "\n",
        "We will explore this assertion in the context of our MLP training. For this, we initialize a fixed model and construct several models by small random perturbations to the original initialized weights. Now, we train each of these perturbed models and see how the loss evolves. If we were in the convex setting, we should reach very similar objective values upon convergence since all these models were very close at the beginning of training, and in convex problems, every local optimum is also a global optimum.\n",
        "\n",
        "Use the interactive plot below to visualize the loss progression for these perturbed models:\n",
        "\n",
        "1. Select different settings from the `hidden_dims` drop-down menu.\n",
        "2. Explore the effect of the number of steps and learning rate."
      ]
    },
    {
      "cell_type": "code",
      "metadata": {
        "execution": {},
        "cellView": "form",
        "id": "un3Zjwx2GYRW",
        "colab": {
          "base_uri": "https://localhost:8080/",
          "height": 177,
          "referenced_widgets": [
            "72b9ad9726dc46e0a66b9c2235d6100b",
            "d60e52d5b4c0462184cecea20b4b91f9",
            "b72f5114b2604482b74d3983691b628b",
            "2a26c3ae24d741108091c0805d7f584b",
            "fcbb06ba1a22478f825bdb44d93d1725",
            "b5fb31b3c3c940f1911d407733ee2e86",
            "f02141b7a2d54e32b729cdf0d786e76e",
            "f692fd5b3e7b47cea87e283b148a0729",
            "b36174d2ba4247e09444236a82b74155",
            "fd59accd93a64c1bb4d4029c29869ccb",
            "df23fbe699a646e7a9c1c880d73a832b",
            "96c082bace764e1f9dd28d47ed85f4d9",
            "d64b283e99cf4252b2d0dafe1021170a",
            "72d42780ad504578802b0c2c44328d9f",
            "84966f158c39469a8b93a1f04e531f6e",
            "4669f177733141e68f908e1bd6fec753",
            "df1cd95a5bef4335b8bf44a8b351d8bb",
            "968c68583c9f469bafefccaacbf0d26e",
            "25afc812f4944210ad0199b048a134d5"
          ]
        },
        "outputId": "9f8e1328-83ec-48e2-82de-94ff8b9eb100"
      },
      "source": [
        "# @markdown Execute this cell to enable the widget!\n",
        "train_set, test_set = load_mnist_data(change_tensors=True)\n",
        "\n",
        "@widgets.interact_manual\n",
        "\n",
        "def overparam(max_steps=widgets.IntSlider(150, 50, 500, 5),\n",
        "              hidden_dims=widgets.Dropdown(options=[\"10\", \"20, 20\", \"100, 100\"],\n",
        "                                           value=\"10\"),\n",
        "              lr=widgets.FloatLogSlider(value=5e-2, min=-3, max=0, step=0.1),\n",
        "              num_inits=widgets.IntSlider(7, 5, 10, 1)):\n",
        "\n",
        "    X, y = train_set.data[subset_index, :], train_set.targets[subset_index]\n",
        "\n",
        "    hdims = [int(s) for s in hidden_dims.split(',')]\n",
        "    base_model = MLP(in_dim=784, out_dim=10, hidden_dims=hdims)\n",
        "\n",
        "    fig, axs = plt.subplots(1, 1, figsize=(5, 4))\n",
        "\n",
        "    for _ in range(num_inits):\n",
        "      model = copy.deepcopy(base_model)\n",
        "      random_update(model, noise_scale=2e-1)\n",
        "\n",
        "      loss_hist = np.zeros((max_steps, 2))\n",
        "      for step in range(max_steps):\n",
        "        loss = loss_fn(model(X), y)\n",
        "        gradient_update(loss, list(model.parameters()), lr=lr)\n",
        "        loss_hist[step] = np.array([step, loss.item()])\n",
        "\n",
        "      plt.plot(loss_hist[:, 0], loss_hist[:, 1])\n",
        "\n",
        "    plt.xlabel('Iteration')\n",
        "    plt.ylabel('Loss')\n",
        "    plt.ylim(0, 3);\n",
        "\n",
        "    num_params = sum([np.prod(_.shape) for _ in model.parameters()])\n",
        "    print('Number of paramaters in model:  ' + str(num_params))"
      ],
      "execution_count": 83,
      "outputs": [
        {
          "output_type": "display_data",
          "data": {
            "application/vnd.jupyter.widget-view+json": {
              "model_id": "72b9ad9726dc46e0a66b9c2235d6100b",
              "version_minor": 0,
              "version_major": 2
            },
            "text/plain": [
              "interactive(children=(IntSlider(value=150, description='max_steps', max=500, min=50, step=5), Dropdown(descrip…"
            ]
          },
          "metadata": {
            "tags": []
          }
        }
      ]
    },
    {
      "cell_type": "markdown",
      "metadata": {
        "execution": {},
        "id": "l1p5PxZTGYRW"
      },
      "source": [
        "### Think! 5.1: Width and depth of the network\n",
        "\n",
        "- We see that as we increase the width/depth of the network, training becomes faster and more consistent across different initializations. What might be the reasons for this behavior? \n",
        "\n",
        "- What are some potential downsides of this approach to dealing with non-convexity? \n"
      ]
    },
    {
      "cell_type": "code",
      "metadata": {
        "execution": {},
        "id": "GqInsqNQGYRW"
      },
      "source": [
        "# to_remove explanation\n",
        "\n",
        "\"\"\"\n",
        "- The exact mechanism for this phenomenon is still under active research.\n",
        "Existing evidence points to the following: in the overparameterized setting,\n",
        "there are many more 'good configurations' (values of the model’s weights) that\n",
        "lead to a low value of the objective. Furthermore, this large set of possible solutions\n",
        "seems to be increasingly easy to find in the space of all possible\n",
        "parameter configurations. As you increase the number of parameters, it becomes\n",
        "more likely that your initialization will be close to one of these good parameter settings.\n",
        "\n",
        "- This approach will require more memory and computation. Furthermore, we need\n",
        "to always be aware of the risk of overfitting: don’t forget to do cross-validation\n",
        "in order to be able to detect overfitting.\n",
        "\"\"\";"
      ],
      "execution_count": 84,
      "outputs": []
    },
    {
      "cell_type": "markdown",
      "metadata": {
        "execution": {},
        "id": "0-H4H1sLGYRX"
      },
      "source": [
        "---\n",
        "# Section 6: Full gradients are expensive\n",
        "\n",
        "So far we have used only a small (fixed) subset of 500 training examples to perform the updates on the model parameters in our quest to minimize the loss. But what if we decided to use the training set? Do our current approach scale to datasets with tens of thousands, or millions of datapoints?\n",
        "\n",
        "In this section we explore an efficient alternative to avoid having to perform computations on all the training examples before performing a parameter update."
      ]
    },
    {
      "cell_type": "code",
      "metadata": {
        "cellView": "form",
        "execution": {},
        "id": "irp7WgEMGYRX",
        "colab": {
          "base_uri": "https://localhost:8080/",
          "height": 579,
          "referenced_widgets": [
            "b3048b032bdd4b51a088d38f110a7572",
            "0c58711518204206954732fa8bf0f492",
            "0f748b8555a54a81a3a8415bba0f5b84",
            "e2c0ce4a1fb6495e8f3a2caa8c7ab953",
            "cd0cbbcdd5a5484cbfc24cd2446c34bd",
            "cd6601fc83904f4897a7be891f9e1e5f"
          ]
        },
        "outputId": "48e3656e-1371-4ed8-d4a2-5f4c3ba661b9"
      },
      "source": [
        "# @title Video 6: Mini-batches\n",
        "from ipywidgets import widgets\n",
        "\n",
        "out2 = widgets.Output()\n",
        "with out2:\n",
        "  from IPython.display import IFrame\n",
        "  class BiliVideo(IFrame):\n",
        "    def __init__(self, id, page=1, width=400, height=300, **kwargs):\n",
        "      self.id=id\n",
        "      src = \"https://player.bilibili.com/player.html?bvid={0}&page={1}\".format(id, page)\n",
        "      super(BiliVideo, self).__init__(src, width, height, **kwargs)\n",
        "\n",
        "  video = BiliVideo(id=f\"BV1ty4y1T7Uh\", width=854, height=480, fs=1)\n",
        "  print(\"Video available at https://www.bilibili.com/video/{0}\".format(video.id))\n",
        "  display(video)\n",
        "\n",
        "out1 = widgets.Output()\n",
        "with out1:\n",
        "  from IPython.display import YouTubeVideo\n",
        "  video = YouTubeVideo(id=f\"hbqUxpNBUGk\", width=854, height=480, fs=1, rel=0)\n",
        "  print(\"Video available at https://youtube.com/watch?v=\" + video.id)\n",
        "  display(video)\n",
        "\n",
        "out = widgets.Tab([out1, out2])\n",
        "out.set_title(0, 'Youtube')\n",
        "out.set_title(1, 'Bilibili')\n",
        "\n",
        "display(out)"
      ],
      "execution_count": 85,
      "outputs": [
        {
          "output_type": "display_data",
          "data": {
            "application/vnd.jupyter.widget-view+json": {
              "model_id": "b3048b032bdd4b51a088d38f110a7572",
              "version_minor": 0,
              "version_major": 2
            },
            "text/plain": [
              "Tab(children=(Output(), Output()), _titles={'0': 'Youtube', '1': 'Bilibili'})"
            ]
          },
          "metadata": {
            "tags": []
          }
        }
      ]
    },
    {
      "cell_type": "markdown",
      "metadata": {
        "execution": {},
        "id": "DvDyVI3MGYRX"
      },
      "source": [
        "## Interactive Demo 6.1: Cost of computation\n",
        "\n",
        "Evaluating a neural network is a relatively fast process. However, when repeated millions of times, the computational cost of performing forward and backward passes through the network starts to become significant.\n",
        "\n",
        "In the visualization below, we show the time (averaged over 5 runs) of computing a forward and backward pass with a changing number of input examples. Choose from the different options in the drop-down box and note how the vertical scale changes depending on the size of the network. \n",
        "\n",
        "**Remarks:** Note that the computational cost of a forward pass shows a clear linear relationship with the number of input examples, and the cost of the corresponding backward pass exhibits a similar computational complexity."
      ]
    },
    {
      "cell_type": "code",
      "metadata": {
        "cellView": "form",
        "execution": {},
        "id": "gr0cUyqwGYRX",
        "colab": {
          "base_uri": "https://localhost:8080/",
          "height": 319,
          "referenced_widgets": [
            "1e9ef4da5d4c4a318cba1ddf69f2cdd2",
            "2909f62eff384330a07f0dd7346d449d",
            "2eab985979074e139be4beb8d265b993",
            "84779188478e45f5976b84d45d404153",
            "f40c9b3f1b46467785df6f1a526eec1d",
            "8a312527f8424b71a550f6bdac408086",
            "7301956717a740ac8ddbaf60bdf5d0a8"
          ]
        },
        "outputId": "87a52057-4f56-4fd5-dd00-3e9b7f48e627"
      },
      "source": [
        "# @markdown Execute this cell to enable the widget!\n",
        "\n",
        "def measure_update_time(model, num_points):\n",
        "  X, y = train_set.data[:num_points], train_set.targets[:num_points]\n",
        "  start_time = time.time()\n",
        "  loss = loss_fn(model(X), y)\n",
        "  loss_time = time.time()\n",
        "  gradient_update(loss, list(model.parameters()), lr=0)\n",
        "  gradient_time = time.time()\n",
        "  return loss_time - start_time, gradient_time - loss_time\n",
        "\n",
        "\n",
        "@widgets.interact\n",
        "def computation_time(hidden_dims=widgets.Dropdown(options=[\"1\", \"100\", \"50, 50\"],\n",
        "                                                  value=\"100\")):\n",
        "\n",
        "  hdims = [int(s) for s in hidden_dims.split(',')]\n",
        "  model = MLP(in_dim=784, out_dim=10, hidden_dims=hdims)\n",
        "\n",
        "  NUM_POINTS = [1, 5, 10, 100, 200, 500, 1000, 5000, 10000, 20000, 30000, 50000]\n",
        "  times_list = []\n",
        "  for _ in range(5):\n",
        "    times_list.append(np.array([measure_update_time(model, _) for _ in NUM_POINTS]))\n",
        "\n",
        "  times = np.array(times_list).mean(axis=0)\n",
        "\n",
        "  fig, axs = plt.subplots(1, 1, figsize=(5,4))\n",
        "  plt.plot(NUM_POINTS, times[:, 0], label='Forward')\n",
        "  plt.plot(NUM_POINTS, times[:, 1], label='Backward')\n",
        "  plt.xlabel('Number of data points')\n",
        "  plt.ylabel('Seconds')\n",
        "  plt.legend()"
      ],
      "execution_count": 86,
      "outputs": [
        {
          "output_type": "display_data",
          "data": {
            "application/vnd.jupyter.widget-view+json": {
              "model_id": "1e9ef4da5d4c4a318cba1ddf69f2cdd2",
              "version_minor": 0,
              "version_major": 2
            },
            "text/plain": [
              "interactive(children=(Dropdown(description='hidden_dims', index=1, options=('1', '100', '50, 50'), value='100'…"
            ]
          },
          "metadata": {
            "tags": []
          }
        }
      ]
    },
    {
      "cell_type": "markdown",
      "metadata": {
        "execution": {},
        "id": "rbNSyc18GYRY"
      },
      "source": [
        "## Coding Exercise 6: Implement minibatch sampling\n",
        "\n",
        "Complete the code in `sample_minibatch` so as to produce IID subsets of the training set of the desired size. (This is _not_ a trick question.) "
      ]
    },
    {
      "cell_type": "code",
      "metadata": {
        "execution": {},
        "id": "RENp09ItGYRY"
      },
      "source": [
        "def sample_minibatch(input_data, target_data, num_points=100):\n",
        "  \"\"\"Sample a minibatch of size num_point from the provided input-target data\n",
        "\n",
        "  Args:\n",
        "    input_data (tensor): Multi-dimensional tensor containing the input data\n",
        "    target_data (tensor): 1D tensor containing the class labels\n",
        "    num_points (int): Number of elements to be included in minibatch\n",
        "\n",
        "  Returns:\n",
        "    batch_inputs (tensor): Minibatch inputs\n",
        "    batch_targets (tensor): Minibatch targets\n",
        "  \"\"\"\n",
        "  #################################################\n",
        "  ## TODO for students: sample minibatch of data ##\n",
        "  raise NotImplementedError(\"Student exercise: implement gradient update\")\n",
        "  #################################################\n",
        "  # Sample a collection of IID indices from the existing data\n",
        "  batch_indices = ...\n",
        "  # Use batch_indices to extract entries from the input and target data tensors\n",
        "  batch_inputs = input_data[...]\n",
        "  batch_targets = target_data[...]\n",
        "\n",
        "  return batch_inputs, batch_targets\n",
        "\n",
        "\n",
        "## Uncomment to test your function\n",
        "# x_batch, y_batch = sample_minibatch(X, y, num_points=100)\n",
        "# print(f\"The input shape is {x_batch.shape} and the target shape is: {y_batch.shape}\")"
      ],
      "execution_count": 87,
      "outputs": []
    },
    {
      "cell_type": "code",
      "metadata": {
        "execution": {},
        "id": "7LhKnsFJGYRY",
        "colab": {
          "base_uri": "https://localhost:8080/"
        },
        "outputId": "e33aac94-19a5-440f-8830-82536c410d28"
      },
      "source": [
        "# to_remove solution\n",
        "def sample_minibatch(input_data, target_data, num_points=100):\n",
        "  \"\"\"Sample a minibatch of size num_point from the provided input-target data\n",
        "\n",
        "  Args:\n",
        "    input_data (tensor): Multi-dimensional tensor containing the input data\n",
        "    target_data (tensor): 1D tensor containing the class labels\n",
        "    num_points (int): Number of elements to be included in minibatch\n",
        "\n",
        "  Returns:\n",
        "    batch_inputs (tensor): Minibatch inputs\n",
        "    batch_targets (tensor): Minibatch targets\n",
        "  \"\"\"\n",
        "  # Sample a collection of IID indices from the existing data\n",
        "  batch_indices = np.random.choice(len(input_data), num_points)\n",
        "  # Use batch_indices to extract entries from the input and target data tensors\n",
        "  batch_inputs = input_data[batch_indices, :]\n",
        "  batch_targets = target_data[batch_indices]\n",
        "\n",
        "  return batch_inputs, batch_targets\n",
        "\n",
        "\n",
        "## Uncomment to test your function\n",
        "x_batch, y_batch = sample_minibatch(X, y, num_points=100)\n",
        "print(f\"The input shape is {x_batch.shape} and the target shape is: {y_batch.shape}\")"
      ],
      "execution_count": 88,
      "outputs": [
        {
          "output_type": "stream",
          "text": [
            "The input shape is torch.Size([100, 28, 28]) and the target shape is: torch.Size([100])\n"
          ],
          "name": "stdout"
        }
      ]
    },
    {
      "cell_type": "markdown",
      "metadata": {
        "execution": {},
        "id": "uumxumwpGYRY"
      },
      "source": [
        "```\n",
        "The input shape is torch.Size([100, 28, 28]) and the target shape is: torch.Size([100])\n",
        "```"
      ]
    },
    {
      "cell_type": "markdown",
      "metadata": {
        "execution": {},
        "id": "K-26SgC3GYRY"
      },
      "source": [
        "## Interactive Demo 6.2: *Compare* different minibatch sizes\n",
        "\n",
        "What are the trade-offs induced by the choice of minibatch size? The interactive plot below shows the training evolution of a 2-hidden layer MLP with 100 hidden units in each hidden layer. Different plots correspond to a different choice of minibatch size. We have a fixed time budget for all the cases, reflected in the horizontal axes of these plots."
      ]
    },
    {
      "cell_type": "code",
      "metadata": {
        "cellView": "form",
        "execution": {},
        "id": "rKcf2ww1GYRZ",
        "colab": {
          "base_uri": "https://localhost:8080/",
          "height": 146,
          "referenced_widgets": [
            "ec3ffcbc22924be3b618e757adf88b97",
            "3a181021b7f44b6c9a83a7be8b6a8120",
            "3d26f4085adb445ca0cda88df7702056",
            "06adeea7283d4f16bc515376d3cd3736",
            "ca3856e9a42b49e480781c5459bfca25",
            "35ce01b942594d70922ab5929f910e5b",
            "2a7a89c00bf34fe8937dab3eeaa605f1",
            "16c3aa087d1f42a5870da4572af7aa0b",
            "822592fd12014d32a1723c9a9895fdbd",
            "d994939c567640568182cd7a246ce3bc",
            "4f1f850256ef4cb587ede378058f79a1",
            "7a0347296a074390a277cf358f872f7d",
            "ca39ac1a27eb4160a52dfeff799bd347",
            "c034f911421e4584b5e010f6186a5410",
            "2a4d982d2aed43f3817d134b7e64f18a",
            "d98e5f2dea8b49d4903b78cd6daf694c"
          ]
        },
        "outputId": "851ffb03-af1f-492d-d1a2-99c4dacf3dfe"
      },
      "source": [
        "# @markdown Execute this cell to enable the widget!\n",
        "\n",
        "@widgets.interact_manual\n",
        "def minibatch_experiment(batch_sizes='20, 250, 1000',\n",
        "                         lrs='5e-3, 5e-3, 5e-3',\n",
        "                         time_budget=widgets.Dropdown(options=[\"2.5\", \"5\", \"10\"],\n",
        "                                                      value=\"2.5\")):\n",
        "\n",
        "  batch_sizes = [int(s) for s in batch_sizes.split(',')]\n",
        "  lrs = [float(s) for s in lrs.split(',')]\n",
        "\n",
        "  LOSS_HIST = {_:[] for _ in batch_sizes}\n",
        "\n",
        "  X, y = train_set.data, train_set.targets\n",
        "  base_model = MLP(in_dim=784, out_dim=10, hidden_dims=[100, 100])\n",
        "\n",
        "  for id, batch_size in enumerate(batch_sizes):\n",
        "    start_time = time.time()\n",
        "    # Create a new copy of the model for each batch size\n",
        "    model = copy.deepcopy(base_model)\n",
        "    params = list(model.parameters())\n",
        "    lr = lrs[id]\n",
        "    # Fixed budget per choice of batch size\n",
        "    while (time.time() - start_time) < float(time_budget):\n",
        "      data, labels = sample_minibatch(X, y, batch_size)\n",
        "      loss = loss_fn(model(data), labels)\n",
        "      gradient_update(loss, params, lr=lr)\n",
        "      LOSS_HIST[batch_size].append([time.time() - start_time,\n",
        "                                    loss.item()])\n",
        "\n",
        "  fig, axs = plt.subplots(1, len(batch_sizes), figsize=(10, 3))\n",
        "  for ax, batch_size in zip(axs, batch_sizes):\n",
        "    plot_data = np.array(LOSS_HIST[batch_size])\n",
        "    ax.plot(plot_data[:, 0], plot_data[:, 1], label=batch_size,\n",
        "            alpha=0.8)\n",
        "    ax.set_title('Batch size: ' + str(batch_size))\n",
        "    ax.set_xlabel('Seconds')\n",
        "    ax.set_ylabel('Loss')"
      ],
      "execution_count": 89,
      "outputs": [
        {
          "output_type": "display_data",
          "data": {
            "application/vnd.jupyter.widget-view+json": {
              "model_id": "ec3ffcbc22924be3b618e757adf88b97",
              "version_minor": 0,
              "version_major": 2
            },
            "text/plain": [
              "interactive(children=(Text(value='20, 250, 1000', description='batch_sizes'), Text(value='5e-3, 5e-3, 5e-3', d…"
            ]
          },
          "metadata": {
            "tags": []
          }
        }
      ]
    },
    {
      "cell_type": "markdown",
      "metadata": {
        "execution": {},
        "id": "-1XcvNNoGYRZ"
      },
      "source": [
        "**Remarks:** SGD works! We have an algorithm that can be applied (with the due precautions) to learn datasets of arbitrary size. \n",
        "\n",
        "However, **note the diference in the vertical scale** across the plots above. When using a larger minibatch, we can perform fewer parameter updates as the forward and backward passes are more expensive.\n",
        "\n",
        "This highlights the interplay between the minibatch size and the learning rate: when our minibatch is larger, we have a more confident estimator of the direction to move, and thus can afford a larger learning rate. On the other hand, extremely small minibatches are very fast computationally but are not representative of the data distribution and yield estimations of the gradient with high variance.\n",
        "\n",
        "We encourage you to tune the value of the learning rate for each of the minibatch sizes in the previous demo, to achieve a training loss steadily below 0.5 within 5 seconds."
      ]
    },
    {
      "cell_type": "markdown",
      "metadata": {
        "execution": {},
        "id": "B9zyc9mTGYRZ"
      },
      "source": [
        "---\n",
        "# Section 7: Adaptive methods\n",
        "\n",
        "As of now, you should be aware that there are many knobs to turn when working on a machine learning problem. Some of these relate to the optimization algorithm, to the choice of model, or to the objective to minimize. Here are some prototypical examples:\n",
        "\n",
        "- Problem: loss function, regularization coefficients (Day 5)\n",
        "- Model: architecture, activations function\n",
        "- Optimizer: learning rate, batch size, momentum coefficient\n",
        "\n",
        "We concentrate on the choices that are directly related with optimization. In particular, we will explore some _automatic_ methods for setting the learning rate, in a way that fixes the poor-conditioning problem and is robust across different problems."
      ]
    },
    {
      "cell_type": "code",
      "metadata": {
        "cellView": "form",
        "execution": {},
        "id": "-qjVLIuSGYRZ",
        "colab": {
          "base_uri": "https://localhost:8080/",
          "height": 579,
          "referenced_widgets": [
            "99637488c8264f698af6b5126f63612e",
            "742b412e7ca040a99bafe6d7bc15fc9f",
            "e6eaec5c3d4d4275b2795d982d67d06f",
            "2421a20258ea4eb58c3b5c86534e582f",
            "b5e92a11314845c18b31c4bdfdda1ec6",
            "a28b83ae9a5a48ed888ab4b8a727e264"
          ]
        },
        "outputId": "c2959b44-ebf0-40e0-b449-59bb1dfeb590"
      },
      "source": [
        "# @title Video 7: Adaptive Methods\n",
        "from ipywidgets import widgets\n",
        "\n",
        "out2 = widgets.Output()\n",
        "with out2:\n",
        "  from IPython.display import IFrame\n",
        "  class BiliVideo(IFrame):\n",
        "    def __init__(self, id, page=1, width=400, height=300, **kwargs):\n",
        "      self.id=id\n",
        "      src = \"https://player.bilibili.com/player.html?bvid={0}&page={1}\".format(id, page)\n",
        "      super(BiliVideo, self).__init__(src, width, height, **kwargs)\n",
        "\n",
        "  video = BiliVideo(id=f\"BV1eq4y1W7JG\", width=854, height=480, fs=1)\n",
        "  print(\"Video available at https://www.bilibili.com/video/{0}\".format(video.id))\n",
        "  display(video)\n",
        "\n",
        "out1 = widgets.Output()\n",
        "with out1:\n",
        "  from IPython.display import YouTubeVideo\n",
        "  video = YouTubeVideo(id=f\"Zr6r2kfmQUM\", width=854, height=480, fs=1, rel=0)\n",
        "  print(\"Video available at https://youtube.com/watch?v=\" + video.id)\n",
        "  display(video)\n",
        "\n",
        "out = widgets.Tab([out1, out2])\n",
        "out.set_title(0, 'Youtube')\n",
        "out.set_title(1, 'Bilibili')\n",
        "\n",
        "display(out)"
      ],
      "execution_count": 90,
      "outputs": [
        {
          "output_type": "display_data",
          "data": {
            "application/vnd.jupyter.widget-view+json": {
              "model_id": "99637488c8264f698af6b5126f63612e",
              "version_minor": 0,
              "version_major": 2
            },
            "text/plain": [
              "Tab(children=(Output(), Output()), _titles={'0': 'Youtube', '1': 'Bilibili'})"
            ]
          },
          "metadata": {
            "tags": []
          }
        }
      ]
    },
    {
      "cell_type": "markdown",
      "metadata": {
        "execution": {},
        "id": "EjOti7prGYRZ"
      },
      "source": [
        "## Coding Exercise 7: Implement RMSprop\n",
        "\n",
        "In this exercise you will implement the update of the RMSprop optimizer:\n",
        "\n",
        "\\begin{align}\n",
        "v_{t} &= \\alpha v_{t-1} + (1 - \\alpha) \\nabla J(w_t)^2 \\\\ \\\\\n",
        "w_{t+1} &= w_t - \\eta \\frac{\\nabla J(w_t)}{\\sqrt{v_t + \\epsilon}}\n",
        "\\end{align}\n",
        "\n",
        "where the non-standard operations (division of two vectors, squaring a vector, etc) are to be interpreted as element-wise operations, i.e., the operation is applied to each (pair of) entry[ies] of the vector(s) considered as real number(s).\n",
        "\n",
        "Here, the $\\epsilon$ hyperparameter provides numerical estability to the algorithm, by preventing the learning rate to become too big when $v_t$ is small. Typically, we set $\\epsilon$ to a default small value, like $10^{-8}$.  "
      ]
    },
    {
      "cell_type": "code",
      "metadata": {
        "execution": {},
        "id": "X1wGoOQxGYRa",
        "colab": {
          "base_uri": "https://localhost:8080/"
        },
        "outputId": "ec7f3763-5f2a-4ca5-aded-59a1f6f0e7fb"
      },
      "source": [
        "def rmsprop_update(loss, params, grad_sq, lr=1e-3, alpha=0.8, espilon=1e-8):\n",
        "  \"\"\"Perform an RMSprop update on a collection of parameters\n",
        "\n",
        "  Args:\n",
        "    loss (tensor): A scalar tensor containing the loss whose gradient will be computed\n",
        "    params (iterable): Collection of parameters with respect to which we compute gradients\n",
        "    grad_sq (iterable): Moving average of squared gradients\n",
        "    lr (float): Scalar specifying the learning rate or step-size for the update\n",
        "    alpha (float): Moving average parameter\n",
        "    espilon (float): for numerical estability \n",
        "  \"\"\"\n",
        "  # Clear up gradients as Pytorch automatically accumulates gradients from\n",
        "  # successive backward calls\n",
        "  zero_grad(params)\n",
        "  # Compute gradients on given objective\n",
        "  loss.backward()\n",
        "\n",
        "  with torch.no_grad():\n",
        "    for (par, gsq) in zip(params, grad_sq):\n",
        "      # Update estimate of gradient variance\n",
        "      gsq = ...\n",
        "      # Update parameters\n",
        "      par -=  ...\n",
        "\n",
        "\n",
        "set_seed(2021)\n",
        "model = MLP(in_dim=784, out_dim=10, hidden_dims=[])\n",
        "print('\\n The model parameters before the update are: \\n')\n",
        "print_params(model)\n",
        "loss = loss_fn(model(X), y).to(DEVICE)\n",
        "# Intialize the moving average of squared gradients\n",
        "grad_sq = [1e-6*i for i in list(model.parameters())]\n",
        "\n",
        "## Uncomment below to test your function\n",
        "# rmsprop_update(loss, list(model.parameters()), grad_sq=grad_sq, lr=1e-2)\n",
        "# print('\\n The model parameters after the update are: \\n')\n",
        "# print_params(model)"
      ],
      "execution_count": 91,
      "outputs": [
        {
          "output_type": "stream",
          "text": [
            "Random seed 2021 has been set.\n",
            "\n",
            " The model parameters before the update are: \n",
            "\n",
            "main.0.weight tensor([[-0.0264,  0.0010,  0.0173,  ...,  0.0297,  0.0278, -0.0221],\n",
            "        [-0.0040, -0.0295, -0.0086,  ..., -0.0070,  0.0254, -0.0233],\n",
            "        [ 0.0240, -0.0231,  0.0342,  ...,  0.0124,  0.0270, -0.0180],\n",
            "        ...,\n",
            "        [-0.0005,  0.0157,  0.0111,  ...,  0.0144, -0.0301, -0.0144],\n",
            "        [ 0.0181,  0.0303,  0.0255,  ..., -0.0110, -0.0175,  0.0205],\n",
            "        [ 0.0208, -0.0353, -0.0183,  ..., -0.0271,  0.0099,  0.0003]])\n",
            "main.0.bias tensor([-0.0290, -0.0033,  0.0100, -0.0320,  0.0022,  0.0221,  0.0307,  0.0243,\n",
            "         0.0159, -0.0064])\n"
          ],
          "name": "stdout"
        }
      ]
    },
    {
      "cell_type": "code",
      "metadata": {
        "execution": {},
        "id": "dmeg7MAvGYRa",
        "colab": {
          "base_uri": "https://localhost:8080/"
        },
        "outputId": "466fc02a-b403-4acd-9634-38269bf80915"
      },
      "source": [
        "# to_remove solution\n",
        "def rmsprop_update(loss, params, grad_sq, lr=1e-3, alpha=0.8, espilon=1e-8):\n",
        "  \"\"\"Perform an RMSprop update on a collection of parameters\n",
        "\n",
        "  Args:\n",
        "    loss (tensor): A scalar tensor containing the loss whose gradient will be computed\n",
        "    params (iterable): Collection of parameters with respect to which we compute gradients\n",
        "    grad_sq (iterable): Moving average of squared gradients\n",
        "    lr (float): Scalar specifying the learning rate or step-size for the update\n",
        "    alpha (float): Moving average parameter\n",
        "    espilon (float): for numerical estability\n",
        "  \"\"\"\n",
        "  # Clear up gradients as Pytorch automatically accumulates gradients from\n",
        "  # successive backward calls\n",
        "  zero_grad(params)\n",
        "  # Compute gradients on given objective\n",
        "  loss.backward()\n",
        "\n",
        "  with torch.no_grad():\n",
        "    for (par, gsq) in zip(params, grad_sq):\n",
        "      # Update estimate of gradient variance\n",
        "      gsq = alpha * gsq + (1 - alpha) * par.grad**2\n",
        "      # Update parameters\n",
        "      par -=  lr * (par.grad / (espilon + gsq)**0.5)\n",
        "\n",
        "\n",
        "set_seed(2021)\n",
        "model = MLP(in_dim=784, out_dim=10, hidden_dims=[])\n",
        "print('\\n The model parameters before the update are: \\n')\n",
        "print_params(model)\n",
        "loss = loss_fn(model(X), y).to(DEVICE)\n",
        "# Intialize the moving average of squared gradients\n",
        "grad_sq = [1e-6*i for i in list(model.parameters())]\n",
        "\n",
        "## Uncomment below to test your function\n",
        "rmsprop_update(loss, list(model.parameters()), grad_sq=grad_sq, lr=1e-3)\n",
        "print('\\n The model parameters after the update are: \\n')\n",
        "print_params(model)"
      ],
      "execution_count": 92,
      "outputs": [
        {
          "output_type": "stream",
          "text": [
            "Random seed 2021 has been set.\n",
            "\n",
            " The model parameters before the update are: \n",
            "\n",
            "main.0.weight tensor([[-0.0264,  0.0010,  0.0173,  ...,  0.0297,  0.0278, -0.0221],\n",
            "        [-0.0040, -0.0295, -0.0086,  ..., -0.0070,  0.0254, -0.0233],\n",
            "        [ 0.0240, -0.0231,  0.0342,  ...,  0.0124,  0.0270, -0.0180],\n",
            "        ...,\n",
            "        [-0.0005,  0.0157,  0.0111,  ...,  0.0144, -0.0301, -0.0144],\n",
            "        [ 0.0181,  0.0303,  0.0255,  ..., -0.0110, -0.0175,  0.0205],\n",
            "        [ 0.0208, -0.0353, -0.0183,  ..., -0.0271,  0.0099,  0.0003]])\n",
            "main.0.bias tensor([-0.0290, -0.0033,  0.0100, -0.0320,  0.0022,  0.0221,  0.0307,  0.0243,\n",
            "         0.0159, -0.0064])\n",
            "\n",
            " The model parameters after the update are: \n",
            "\n",
            "main.0.weight tensor([[-0.0240,  0.0031,  0.0193,  ...,  0.0316,  0.0297, -0.0198],\n",
            "        [-0.0063, -0.0318, -0.0109,  ..., -0.0093,  0.0232, -0.0255],\n",
            "        [ 0.0218, -0.0253,  0.0320,  ...,  0.0102,  0.0248, -0.0203],\n",
            "        ...,\n",
            "        [-0.0027,  0.0136,  0.0089,  ...,  0.0123, -0.0324, -0.0166],\n",
            "        [ 0.0159,  0.0281,  0.0233,  ..., -0.0133, -0.0197,  0.0182],\n",
            "        [ 0.0186, -0.0376, -0.0205,  ..., -0.0293,  0.0077, -0.0019]])\n",
            "main.0.bias tensor([-0.0313, -0.0011,  0.0122, -0.0342,  0.0045,  0.0199,  0.0329,  0.0265,\n",
            "         0.0182, -0.0041])\n"
          ],
          "name": "stdout"
        }
      ]
    },
    {
      "cell_type": "markdown",
      "metadata": {
        "execution": {},
        "id": "3BQ5JDJPGYRa"
      },
      "source": [
        "```\n",
        " The model parameters after the update are: \n",
        "\n",
        "main.0.weight tensor([[-0.0240,  0.0031,  0.0193,  ...,  0.0316,  0.0297, -0.0198],\n",
        "        [-0.0063, -0.0318, -0.0109,  ..., -0.0093,  0.0232, -0.0255],\n",
        "        [ 0.0218, -0.0253,  0.0320,  ...,  0.0102,  0.0248, -0.0203],\n",
        "        ...,\n",
        "        [-0.0027,  0.0136,  0.0089,  ...,  0.0123, -0.0324, -0.0166],\n",
        "        [ 0.0159,  0.0281,  0.0233,  ..., -0.0133, -0.0197,  0.0182],\n",
        "        [ 0.0186, -0.0376, -0.0205,  ..., -0.0293,  0.0077, -0.0019]])\n",
        "main.0.bias tensor([-0.0313, -0.0011,  0.0122, -0.0342,  0.0045,  0.0199,  0.0329,  0.0265,\n",
        "         0.0182, -0.0041])\n",
        "```"
      ]
    },
    {
      "cell_type": "markdown",
      "metadata": {
        "execution": {},
        "id": "lz2H4p_5GYRa"
      },
      "source": [
        "## Interactive Demo 7: Compare optimizers\n",
        "\n",
        "Below, we compare your implementations of SGD, momentum and RMSprop. If you have successfully coded all the exercises so far: congrats! You are now *in the know* of some of the most commonly used and powerful tools of optimization for deep learning. "
      ]
    },
    {
      "cell_type": "code",
      "metadata": {
        "cellView": "form",
        "execution": {},
        "id": "39iYQTJLGYRa",
        "colab": {
          "base_uri": "https://localhost:8080/",
          "height": 310,
          "referenced_widgets": [
            "a086e755feb04cea8ce2d6eeb70feb75",
            "33e2c6e67c6a488aa0ff1f65dad8f2bf",
            "a5f73fe6428248dd9f1bbcbcd6128e5f",
            "9f81951e89ba4c5f9502985dd462ec85",
            "6489d4de2af844c4ad7272c42b2898f8",
            "30ef22f77d6340d1bd7d9fc05b8ae319",
            "24cbc59b15db42bf8e38b70f88c4f332",
            "d7c868d57df6461aa90ed20a4920ce6e",
            "d3a9fa3487ec40b4b38daff0401f7bb6",
            "7c4bafc4e8b94059ad2df2a245789629",
            "48e863e518df4dba803820d685ce9a18",
            "d4852a10fb8d434e86507dfea8cb2e7f",
            "6e7591aa58c24e97a1da19baac6157d3"
          ]
        },
        "outputId": "7d855ba9-d0fb-4be9-ffc9-bf4209bc00ae"
      },
      "source": [
        "# @markdown Execute this cell to enable the widget!\n",
        "\n",
        "X, y = train_set.data, train_set.targets\n",
        "\n",
        "@widgets.interact\n",
        "def compare_optimizers(batch_size=(25, 250, 5),\n",
        "                       lr=widgets.FloatLogSlider(value=2e-3, min=-5, max=0),\n",
        "                       max_steps=(50, 500, 5)):\n",
        "\n",
        "  SGD_DICT = [gradient_update, 'SGD', 'black', '-', {'lr': lr}]\n",
        "  MOM_DICT = [momentum_update, 'Momentum', 'red', '--', {'lr': lr, 'beta': 0.9}]\n",
        "  RMS_DICT = [rmsprop_update, 'RMSprop', 'fuchsia', '-', {'lr': lr, 'alpha': 0.8}]\n",
        "\n",
        "  ALL_DICTS = [SGD_DICT, MOM_DICT, RMS_DICT]\n",
        "\n",
        "  base_model = MLP(in_dim=784, out_dim=10, hidden_dims=[100, 100])\n",
        "\n",
        "  LOSS_HIST = {}\n",
        "\n",
        "  for opt_dict in ALL_DICTS:\n",
        "    update_fn, opt_name, color, lstyle, kwargs = opt_dict\n",
        "    LOSS_HIST[opt_name] = []\n",
        "\n",
        "    model = copy.deepcopy(base_model)\n",
        "    params = list(model.parameters())\n",
        "\n",
        "    if opt_name != 'SGD':\n",
        "      aux_tensors = [torch.zeros_like(_) for _ in params]\n",
        "\n",
        "    for step in range(max_steps):\n",
        "      data, labels = sample_minibatch(X, y, batch_size)\n",
        "      loss = loss_fn(model(data), labels)\n",
        "      if opt_name == 'SGD':\n",
        "        update_fn(loss, params, **kwargs)\n",
        "      else:\n",
        "        update_fn(loss, params, aux_tensors, **kwargs)\n",
        "      LOSS_HIST[opt_name].append(loss.item())\n",
        "\n",
        "  fig, axs = plt.subplots(1, len(ALL_DICTS), figsize=(9, 3))\n",
        "\n",
        "  for ax, optim_dict in zip(axs, ALL_DICTS):\n",
        "    opt_name = optim_dict[1]\n",
        "    ax.plot(range(max_steps), LOSS_HIST[opt_name], alpha=0.8)\n",
        "    ax.set_title(opt_name)\n",
        "    ax.set_xlabel('Iteration')\n",
        "    ax.set_ylabel('Loss')\n",
        "    ax.set_ylim(0, 2.5)"
      ],
      "execution_count": 93,
      "outputs": [
        {
          "output_type": "display_data",
          "data": {
            "application/vnd.jupyter.widget-view+json": {
              "model_id": "a086e755feb04cea8ce2d6eeb70feb75",
              "version_minor": 0,
              "version_major": 2
            },
            "text/plain": [
              "interactive(children=(IntSlider(value=135, description='batch_size', max=250, min=25, step=5), FloatLogSlider(…"
            ]
          },
          "metadata": {
            "tags": []
          }
        }
      ]
    },
    {
      "cell_type": "markdown",
      "metadata": {
        "execution": {},
        "id": "JqDaWlCXGYRb"
      },
      "source": [
        "### **Discussion**\n",
        "\n",
        "Tune the 3 methods above in order to make each individually excel and discuss your findings. How do the methods compare in terms of robustness to small changes of the hyperparameters? How easy was it to find a good hyperparameter configuration? "
      ]
    },
    {
      "cell_type": "markdown",
      "metadata": {
        "execution": {},
        "id": "Kq8tpizUGYRb"
      },
      "source": [
        "\n",
        "**Remarks:** Note that RMSprop is allowing us to use a 'per-dimension' learning rate _without having to tune one learning rate for each dimension **ourselves**_. The method uses information collected about the variance of the gradients throughout training to **adapt** the step size for each of the parameters automatically. The savings in tuning efforts of RMSprop over SGD or 'plain' momentum are undisputed on this task. \n",
        "\n",
        "Moreover, adaptive optimization methods are currently a highly active research domain, with many related algorithms like Adam, AMSgrad, Adagrad being used in practical application and theoretically investigated. "
      ]
    },
    {
      "cell_type": "markdown",
      "metadata": {
        "execution": {},
        "id": "c97528XWGYRb"
      },
      "source": [
        "### Locality of Gradients\n",
        "As we've seen throught this tutorial, poor conditioning can be a significant burden on convergence to an optimum while using gradient based optimization. Of the methods we've seen to deal with this issue, notice how both momentum and adaptive learning rates incorperate past gradient values into their update schemes. Why do we use past values of our loss function's gradient while updating our current MLP weights?\n",
        "\n",
        "Recall from W1D2 that the gradient of a function, $\\nabla f(w_t)$, is a **local** property and computes the direction of maximum change of $f(w_t)$ at the point $w_t$. However, when we train our MLP model we are hoping to find the __global__ optimum for our training loss. By incorperating past values of our function's gradient into our optimization schemes, we use more information about the overall shape of our function than just a single gradient alone can provide. "
      ]
    },
    {
      "cell_type": "markdown",
      "metadata": {
        "execution": {},
        "id": "aY-ZRIk5GYRb"
      },
      "source": [
        "## Think! 7: Loss function and optimization\n",
        "\n",
        "Can you think of other ways we can incorperate more information about our loss function into our optimization schemes?"
      ]
    },
    {
      "cell_type": "code",
      "metadata": {
        "execution": {},
        "id": "96wVSZhlGYRb"
      },
      "source": [
        "# to_remove explanation\n",
        "\n",
        "\"\"\"\n",
        "We could consider incorperating the curvature of our function directly into our\n",
        "optimization schemes. Methods that use this are often called Newton's methods\n",
        "or Hessian based optimization methods.\n",
        "\"\"\";"
      ],
      "execution_count": 94,
      "outputs": []
    },
    {
      "cell_type": "markdown",
      "metadata": {
        "execution": {},
        "id": "tE-G9T2QGYRb"
      },
      "source": [
        "---\n",
        "# Section 8: Putting it all together\n",
        "\n",
        "We have progressively built a sophisticated optimization algorithm which is able to deal with a non-convex, poor-conditioned problem concerning tens of thousands of training examples. Now we present _you_ with a small challenge: beat us! :P\n",
        "\n",
        "Your mission is to train an MLP model that can compete with a benchmark model which we have pre-trained for you. In this section you will be able to use the full Pytorch power: loading the data, defining the model, sampling minibatches as well as Pytorch's **optimizer implementations**. \n",
        "\n",
        "There is a big engineering component behind the design of optimizers and their implementation can sometimes become tricky. So unless you are directly doing research in optimization, it's recommended to use an implementation provided by a widely reviewed open-source library."
      ]
    },
    {
      "cell_type": "code",
      "metadata": {
        "cellView": "form",
        "execution": {},
        "id": "o_eh0qDsGYRc",
        "colab": {
          "base_uri": "https://localhost:8080/",
          "height": 579,
          "referenced_widgets": [
            "dd16ca44a5de478abbcaa827b477142d",
            "a18888d30ba04da493c8a6cb214f75b2",
            "b2051c8f8cf045f6bb1831069ff3b06c",
            "1beb52545290472ca00c6dfc8f6e3187",
            "cd1f3a0e0af444aeac59abd7c4ceecf3",
            "549dc4d00b544d559aa7c8cefe586312"
          ]
        },
        "outputId": "c2b16047-8f3b-4dc2-de09-6029127914aa"
      },
      "source": [
        "# @title Video 8: Putting it all together\n",
        "from ipywidgets import widgets\n",
        "\n",
        "out2 = widgets.Output()\n",
        "with out2:\n",
        "  from IPython.display import IFrame\n",
        "  class BiliVideo(IFrame):\n",
        "    def __init__(self, id, page=1, width=400, height=300, **kwargs):\n",
        "      self.id=id\n",
        "      src = \"https://player.bilibili.com/player.html?bvid={0}&page={1}\".format(id, page)\n",
        "      super(BiliVideo, self).__init__(src, width, height, **kwargs)\n",
        "\n",
        "  video = BiliVideo(id=f\"BV1MK4y1u7u2\", width=854, height=480, fs=1)\n",
        "  print(\"Video available at https://www.bilibili.com/video/{0}\".format(video.id))\n",
        "  display(video)\n",
        "\n",
        "out1 = widgets.Output()\n",
        "with out1:\n",
        "  from IPython.display import YouTubeVideo\n",
        "  video = YouTubeVideo(id=f\"DP9c13vLiOM\", width=854, height=480, fs=1, rel=0)\n",
        "  print(\"Video available at https://youtube.com/watch?v=\" + video.id)\n",
        "  display(video)\n",
        "\n",
        "out = widgets.Tab([out1, out2])\n",
        "out.set_title(0, 'Youtube')\n",
        "out.set_title(1, 'Bilibili')\n",
        "\n",
        "display(out)"
      ],
      "execution_count": 95,
      "outputs": [
        {
          "output_type": "display_data",
          "data": {
            "application/vnd.jupyter.widget-view+json": {
              "model_id": "dd16ca44a5de478abbcaa827b477142d",
              "version_minor": 0,
              "version_major": 2
            },
            "text/plain": [
              "Tab(children=(Output(), Output()), _titles={'0': 'Youtube', '1': 'Bilibili'})"
            ]
          },
          "metadata": {
            "tags": []
          }
        }
      ]
    },
    {
      "cell_type": "code",
      "metadata": {
        "execution": {},
        "id": "xY1p2TmzGYRc",
        "colab": {
          "base_uri": "https://localhost:8080/"
        },
        "outputId": "01761a69-e17c-4146-db2c-e577bb45c3d1"
      },
      "source": [
        "DEVICE = set_device()\n",
        "\n",
        "# Download parameters of the benchmark model\n",
        "import urllib.request\n",
        "file_url = \"https://gallego-posada.github.io/resources/benchmark_model.pt\"\n",
        "urllib.request.urlretrieve(file_url, \"benchmark_model.pt\")\n",
        "\n",
        "# Load the benchmark model's parameters\n",
        "if DEVICE == \"cuda\":\n",
        "  benchmark_state_dict = torch.load('benchmark_model.pt')\n",
        "else:\n",
        "  benchmark_state_dict = torch.load('benchmark_model.pt',\n",
        "                                    map_location=torch.device('cpu'))\n",
        "\n",
        "# Create MLP object and update weights with those of saved model\n",
        "benchmark_model = MLP(in_dim=784, out_dim=10, hidden_dims=[200, 100, 50]).to(DEVICE)\n",
        "benchmark_model.load_state_dict(benchmark_state_dict)\n",
        "\n",
        "# Define helper function to evaluate models\n",
        "def eval_model(model, data_loader, num_batches=np.inf, device='cpu'):\n",
        "\n",
        "  loss_log, acc_log = [], []\n",
        "  model.to(device=device)\n",
        "\n",
        "  # We are just evaluating the model, no need to compute gradients\n",
        "  with torch.no_grad():\n",
        "    for batch_id, batch in enumerate(data_loader):\n",
        "      # If we only evaluate a number of batches, stop after we reach that number\n",
        "      if batch_id > num_batches:\n",
        "        break\n",
        "      # Extract minibatch data\n",
        "      data, labels = batch[0].to(device), batch[1].to(device)\n",
        "      # Evaluate model and loss on minibatch\n",
        "      preds = model(data)\n",
        "      loss_log.append(loss_fn(preds, labels).item())\n",
        "      acc_log.append(torch.mean(1. * (preds.argmax(dim=1) == labels)).item())\n",
        "\n",
        "  return np.mean(loss_log), np.mean(acc_log)"
      ],
      "execution_count": 96,
      "outputs": [
        {
          "output_type": "stream",
          "text": [
            "WARNING: For this notebook to perform best, if possible, in the menu under `Runtime` -> `Change runtime type.`  select `GPU` \n"
          ],
          "name": "stdout"
        }
      ]
    },
    {
      "cell_type": "markdown",
      "metadata": {
        "execution": {},
        "id": "vcH28OJJGYRc"
      },
      "source": [
        "We define an optimizer in the following steps:\n",
        "\n",
        "1. Load  the corresponding class that implements the parameter updates and other internal management activities, including:\n",
        "    - create auxiliary variables,\n",
        "    - update moving averages,\n",
        "    - adjust learning rate.\n",
        "2. Pass the parameters of the Pytorch model that the optimizer has control over. Note that different parameter groups can potentially be controlled by different optimizers.\n",
        "3. Specify hyperparameters, including learning rate, momentum, moving average factors, etc.\n",
        "\n"
      ]
    },
    {
      "cell_type": "markdown",
      "metadata": {
        "execution": {},
        "id": "bhovBwAuGYRc"
      },
      "source": [
        "## Coding Exercise 8: Train your own model\n",
        "\n",
        "Now, train the model with your preferred optimizer and find a good combination of hyperparameter settings."
      ]
    },
    {
      "cell_type": "code",
      "metadata": {
        "execution": {},
        "id": "L_pshcpTGYRc"
      },
      "source": [
        "#################################################\n",
        "## TODO for students: adjust training settings ##\n",
        "\n",
        "# The three parameters below are in your full control\n",
        "MAX_EPOCHS = 2  # select number of epochs to train\n",
        "LR = 1e-5  # choose the step size\n",
        "BATCH_SIZE = 64  # number of examples per minibatch\n",
        "\n",
        "# Define the model and associated optimizer -- you may change its architecture!\n",
        "model = MLP(in_dim=784, out_dim=10, hidden_dims=[200, 100, 50]).to(DEVICE)\n",
        "\n",
        "# You can take your pick from many different optimizers\n",
        "# Check the optimizer documentation and hyperparameter meaning before using!\n",
        "# More details on Pytorch optimizers: https://pytorch.org/docs/stable/optim.html\n",
        "# optimizer = torch.optim.SGD(model.parameters(), lr=LR, momentum=0.9)\n",
        "# optimizer = torch.optim.RMSprop(model.parameters(), lr=LR, alpha=0.99)\n",
        "# optimizer = torch.optim.Adagrad(model.parameters(), lr=LR)\n",
        "optimizer = torch.optim.Adam(model.parameters(), lr=LR)\n",
        "#################################################"
      ],
      "execution_count": 97,
      "outputs": []
    },
    {
      "cell_type": "code",
      "metadata": {
        "execution": {},
        "id": "-dYqkY1qGYRd",
        "colab": {
          "base_uri": "https://localhost:8080/",
          "height": 287,
          "referenced_widgets": [
            "66018c54475342db985f9adff91a80d3",
            "bd8ade2bb6944916ad8d56a5f29c2f1b",
            "9cbc6b036cb2458d8ea912ab1b2dd493",
            "667a765c74f546ea8cdaeb5eca9ea249",
            "538021ef02de47079f708b256450c08f",
            "b8a7c791611845058cd653f0a711b2fe",
            "e608280dd5f54ec49b8bd26a0a344521",
            "d4de1075cc954ffa8f9a32c7a4b004ba"
          ]
        },
        "outputId": "591bd767-fca4-4b00-b3b8-c0f09e6117ee"
      },
      "source": [
        "set_seed(seed=SEED)\n",
        "# Print trainig stats every LOG_FREQ minibatches\n",
        "LOG_FREQ = 200\n",
        "# Frequency for evaluating the validation metrics\n",
        "VAL_FREQ = 200\n",
        "# Load data using a Pytorch Dataset\n",
        "train_set, test_set = load_mnist_data(change_tensors=False)\n",
        "\n",
        "# We separate 10,000 training samples to create a validation set\n",
        "train_set, val_set = torch.utils.data.random_split(train_set, [50000, 10000])\n",
        "\n",
        "# Create the corresponding DataLoaders for training and test\n",
        "g_seed = torch.Generator()\n",
        "g_seed.manual_seed(SEED)\n",
        "\n",
        "train_loader = torch.utils.data.DataLoader(train_set,\n",
        "                                           shuffle=True,\n",
        "                                           batch_size=BATCH_SIZE,\n",
        "                                           worker_init_fn=seed_worker,\n",
        "                                           generator=g_seed)\n",
        "val_loader = torch.utils.data.DataLoader(val_set,\n",
        "                                         shuffle=True,\n",
        "                                         batch_size=256,\n",
        "                                         worker_init_fn=seed_worker,\n",
        "                                         generator=g_seed)\n",
        "test_loader = torch.utils.data.DataLoader(test_set,\n",
        "                                          batch_size=256,\n",
        "                                          worker_init_fn=seed_worker,\n",
        "                                          generator=g_seed)\n",
        "\n",
        "# Run training\n",
        "metrics = {'train_loss':[], 'train_acc':[], 'val_loss':[], 'val_acc':[], 'val_idx':[]}\n",
        "step_idx = 0\n",
        "for epoch in tqdm(range(MAX_EPOCHS)):\n",
        "\n",
        "  running_loss, running_acc = 0., 0.\n",
        "\n",
        "  for batch_id, batch in enumerate(train_loader):\n",
        "    step_idx += 1\n",
        "    # Extract minibatch data and labels\n",
        "    data, labels = batch[0].to(DEVICE), batch[1].to(DEVICE)\n",
        "    # Just like before, refresh gradient accumulators.\n",
        "    # Note that this is now a method of the optimizer.\n",
        "    optimizer.zero_grad()\n",
        "    # Evaluate model and loss on minibatch\n",
        "    preds = model(data)\n",
        "    loss = loss_fn(preds, labels)\n",
        "    acc = torch.mean(1.0 * (preds.argmax(dim=1) == labels))\n",
        "    # Compute gradients\n",
        "    loss.backward()\n",
        "    # Update parameters\n",
        "    # Note how all the magic in the update of the parameters is encapsulated by\n",
        "    # the optimizer class.\n",
        "    optimizer.step()\n",
        "    # Log metrics for plotting\n",
        "    metrics['train_loss'].append(loss.cpu().item())\n",
        "    metrics['train_acc'].append(acc.cpu().item())\n",
        "\n",
        "    if batch_id % VAL_FREQ == (VAL_FREQ - 1):\n",
        "      # Get an estimate of the validation accuracy with 100 batches\n",
        "      val_loss, val_acc = eval_model(model, val_loader,\n",
        "                                     num_batches=100,\n",
        "                                     device=DEVICE)\n",
        "      metrics['val_idx'].append(step_idx)\n",
        "      metrics['val_loss'].append(val_loss)\n",
        "      metrics['val_acc'].append(val_acc)\n",
        "\n",
        "      print(f\"[VALID] Epoch {epoch + 1} - Batch {batch_id + 1} - \"\n",
        "            f\"Loss: {val_loss:.3f} - Acc: {100*val_acc:.3f}%\")\n",
        "\n",
        "    # print statistics\n",
        "    running_loss += loss.cpu().item()\n",
        "    running_acc += acc.cpu().item()\n",
        "    # Print every LOG_FREQ minibatches\n",
        "    if batch_id % LOG_FREQ == (LOG_FREQ-1):\n",
        "      print(f\"[TRAIN] Epoch {epoch + 1} - Batch {batch_id + 1} - \"\n",
        "            f\"Loss: {running_loss / LOG_FREQ:.3f} - \"\n",
        "            f\"Acc: {100 * running_acc / LOG_FREQ:.3f}%\")\n",
        "\n",
        "      running_loss, running_acc = 0., 0."
      ],
      "execution_count": 98,
      "outputs": [
        {
          "output_type": "stream",
          "text": [
            "Random seed 2021 has been set.\n"
          ],
          "name": "stdout"
        },
        {
          "output_type": "display_data",
          "data": {
            "application/vnd.jupyter.widget-view+json": {
              "model_id": "66018c54475342db985f9adff91a80d3",
              "version_minor": 0,
              "version_major": 2
            },
            "text/plain": [
              "HBox(children=(FloatProgress(value=0.0, max=2.0), HTML(value='')))"
            ]
          },
          "metadata": {
            "tags": []
          }
        },
        {
          "output_type": "stream",
          "text": [
            "[VALID] Epoch 1 - Batch 200 - Loss: 2.253 - Acc: 24.775%\n",
            "[TRAIN] Epoch 1 - Batch 200 - Loss: 2.282 - Acc: 15.781%\n",
            "[VALID] Epoch 1 - Batch 400 - Loss: 2.129 - Acc: 57.207%\n",
            "[TRAIN] Epoch 1 - Batch 400 - Loss: 2.201 - Acc: 46.977%\n",
            "[VALID] Epoch 1 - Batch 600 - Loss: 1.914 - Acc: 56.582%\n",
            "[TRAIN] Epoch 1 - Batch 600 - Loss: 2.029 - Acc: 56.438%\n",
            "[VALID] Epoch 2 - Batch 200 - Loss: 1.401 - Acc: 69.775%\n",
            "[TRAIN] Epoch 2 - Batch 200 - Loss: 1.520 - Acc: 66.555%\n",
            "[VALID] Epoch 2 - Batch 400 - Loss: 1.175 - Acc: 74.834%\n",
            "[TRAIN] Epoch 2 - Batch 400 - Loss: 1.291 - Acc: 72.469%\n",
            "[VALID] Epoch 2 - Batch 600 - Loss: 0.998 - Acc: 80.029%\n",
            "[TRAIN] Epoch 2 - Batch 600 - Loss: 1.085 - Acc: 77.164%\n",
            "\n"
          ],
          "name": "stdout"
        }
      ]
    },
    {
      "cell_type": "code",
      "metadata": {
        "execution": {},
        "id": "CAMDpjK3GYRd",
        "colab": {
          "base_uri": "https://localhost:8080/",
          "height": 303
        },
        "outputId": "aae89b58-fe9f-407e-ee63-ade7fa2357a2"
      },
      "source": [
        "fig, ax = plt.subplots(1, 2, figsize=(10, 4))\n",
        "\n",
        "ax[0].plot(range(len(metrics['train_loss'])), metrics['train_loss'],\n",
        "           alpha=0.8, label='Train')\n",
        "ax[0].plot(metrics['val_idx'], metrics['val_loss'], label='Valid')\n",
        "ax[0].set_xlabel('Iteration')\n",
        "ax[0].set_ylabel('Loss')\n",
        "ax[0].legend()\n",
        "\n",
        "ax[1].plot(range(len(metrics['train_acc'])), metrics['train_acc'],\n",
        "           alpha=0.8, label='Train')\n",
        "ax[1].plot(metrics['val_idx'], metrics['val_acc'], label='Valid')\n",
        "ax[1].set_xlabel('Iteration')\n",
        "ax[1].set_ylabel('Accuracy')\n",
        "ax[1].legend()"
      ],
      "execution_count": 99,
      "outputs": [
        {
          "output_type": "execute_result",
          "data": {
            "text/plain": [
              "<matplotlib.legend.Legend at 0x7f1e4ce4ef50>"
            ]
          },
          "metadata": {
            "tags": []
          },
          "execution_count": 99
        },
        {
          "output_type": "display_data",
          "data": {
            "image/png": "[encoded data removed]",
            "text/plain": [
              "<Figure size 720x288 with 2 Axes>"
            ]
          },
          "metadata": {
            "tags": [],
            "image/png": {
              "width": 701,
              "height": 269
            },
            "needs_background": "light"
          }
        }
      ]
    },
    {
      "cell_type": "markdown",
      "metadata": {
        "execution": {},
        "id": "OHHOQR3EGYRd"
      },
      "source": [
        "## Think! 8: Metrics\n",
        "\n",
        "Which metric did you optimize when searching for the right configuration? The training set loss? Accuracy? Validation/test set metrics? Why? Discuss!"
      ]
    },
    {
      "cell_type": "code",
      "metadata": {
        "execution": {},
        "id": "4czjO7wzGYRd"
      },
      "source": [
        "# to_remove explanation\n",
        "\n",
        "\"\"\"\n",
        "  Remember the discussion in Section 1 about surrogate objectives.\n",
        "Our optimization methods minimize the loss, but at the end of the day we care about test accuracy.\n",
        "\n",
        "  However, we can't directly optimize for test accuracy and the finite size of our\n",
        "datasets lead us to (cross-)validation:\n",
        "\n",
        "  1. We minimize the loss (empirical risk minimization) on our *training set*.\n",
        "  2. We choose models and hyperparameters on the *validation set*.\n",
        "  3. We use the *test set* in order to report the final performance of our model on unseen data.\n",
        "\"\"\";"
      ],
      "execution_count": 100,
      "outputs": []
    },
    {
      "cell_type": "markdown",
      "metadata": {
        "execution": {},
        "id": "fPlHkSYFGYRd"
      },
      "source": [
        "### Evaluation\n",
        "\n",
        "We _finally_ can evaluate and compare the performance of the models on previously unseen examples. \n",
        "\n",
        "Which model would you keep? (\\*drum roll*)    "
      ]
    },
    {
      "cell_type": "code",
      "metadata": {
        "execution": {},
        "id": "LFBcK1A2GYRd",
        "colab": {
          "base_uri": "https://localhost:8080/"
        },
        "outputId": "27b77484-8fd7-414a-ab22-bd1d015f75c9"
      },
      "source": [
        "print('Your model...')\n",
        "train_loss, train_accuracy = eval_model(model, train_loader, device=DEVICE)\n",
        "test_loss, test_accuracy = eval_model(model, test_loader, device=DEVICE)\n",
        "print(f'Train Loss {train_loss:.3f} / Test Loss {test_loss:.3f}')\n",
        "print(f'Train Accuracy {100*train_accuracy:.3f}% / Test Accuracy {100*test_accuracy:.3f}%')\n",
        "\n",
        "print('\\nBenchmark model')\n",
        "train_loss, train_accuracy = eval_model(benchmark_model, train_loader, device=DEVICE)\n",
        "test_loss, test_accuracy = eval_model(benchmark_model, test_loader, device=DEVICE)\n",
        "print(f'Train Loss {train_loss:.3f} / Test Loss {test_loss:.3f}')\n",
        "print(f'Train Accuracy {100*train_accuracy:.3f}% / Test Accuracy {100*test_accuracy:.3f}%')"
      ],
      "execution_count": 101,
      "outputs": [
        {
          "output_type": "stream",
          "text": [
            "Your model...\n",
            "Train Loss 0.869 / Test Loss 0.843\n",
            "Train Accuracy 82.001% / Test Accuracy 82.773%\n",
            "\n",
            "Benchmark model\n",
            "Train Loss 0.011 / Test Loss 0.025\n",
            "Train Accuracy 99.784% / Test Accuracy 99.316%\n"
          ],
          "name": "stdout"
        }
      ]
    },
    {
      "cell_type": "markdown",
      "metadata": {
        "execution": {},
        "id": "VP-yBUr9GYRe"
      },
      "source": [
        "---\n",
        "# Section 9: Ethical concerns"
      ]
    },
    {
      "cell_type": "code",
      "metadata": {
        "cellView": "form",
        "execution": {},
        "id": "BEWCVtsYGYRe",
        "colab": {
          "base_uri": "https://localhost:8080/",
          "height": 579,
          "referenced_widgets": [
            "8ba28241840b4b5cbed8ae151060e0f5",
            "06ceb706f7b84aab80c9b2722a748171",
            "cf6c6487ffc943c6933b33f27c63c81d",
            "6386aef0fb7b498988afe9c5b85bdfe7",
            "be070d4cdda04805ac648630b2761a1e",
            "8956ffc0bfed45c2864a80b0efc431ac"
          ]
        },
        "outputId": "6b2db6a0-6d80-4994-f614-dc76c17ae673"
      },
      "source": [
        "# @title Video 9: Ethical concerns\n",
        "from ipywidgets import widgets\n",
        "\n",
        "out2 = widgets.Output()\n",
        "with out2:\n",
        "  from IPython.display import IFrame\n",
        "  class BiliVideo(IFrame):\n",
        "    def __init__(self, id, page=1, width=400, height=300, **kwargs):\n",
        "      self.id=id\n",
        "      src = \"https://player.bilibili.com/player.html?bvid={0}&page={1}\".format(id, page)\n",
        "      super(BiliVideo, self).__init__(src, width, height, **kwargs)\n",
        "\n",
        "  video = BiliVideo(id=f\"BV1TU4y1G7Je\", width=854, height=480, fs=1)\n",
        "  print(\"Video available at https://www.bilibili.com/video/{0}\".format(video.id))\n",
        "  display(video)\n",
        "\n",
        "out1 = widgets.Output()\n",
        "with out1:\n",
        "  from IPython.display import YouTubeVideo\n",
        "  video = YouTubeVideo(id=f\"0EthSI0cknI\", width=854, height=480, fs=1, rel=0)\n",
        "  print(\"Video available at https://youtube.com/watch?v=\" + video.id)\n",
        "  display(video)\n",
        "\n",
        "out = widgets.Tab([out1, out2])\n",
        "out.set_title(0, 'Youtube')\n",
        "out.set_title(1, 'Bilibili')\n",
        "\n",
        "display(out)"
      ],
      "execution_count": 102,
      "outputs": [
        {
          "output_type": "display_data",
          "data": {
            "application/vnd.jupyter.widget-view+json": {
              "model_id": "8ba28241840b4b5cbed8ae151060e0f5",
              "version_minor": 0,
              "version_major": 2
            },
            "text/plain": [
              "Tab(children=(Output(), Output()), _titles={'0': 'Youtube', '1': 'Bilibili'})"
            ]
          },
          "metadata": {
            "tags": []
          }
        }
      ]
    },
    {
      "cell_type": "markdown",
      "metadata": {
        "execution": {},
        "id": "_t1Ez3ZtGYRe"
      },
      "source": [
        "---\n",
        "# Summary\n",
        "\n",
        "* Optimization is necessary to create Deep Learning models that are guaranteed to converge \n",
        "* Stochastic Gradient Descent and Momentum are two commonly used optimization techniques\n",
        "* RMSProp is a way of adaptive hyper parameter tuning which utilises a per-dimension learning rate\n",
        "* Poor choice of optimization objectives can lead to unforeseen, undesirable consequences \n"
      ]
    }
  ]
}