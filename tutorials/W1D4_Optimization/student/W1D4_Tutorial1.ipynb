{
 "cells": [
  {
   "cell_type": "markdown",
   "metadata": {
    "colab_type": "text",
    "id": "view-in-github"
   },
   "source": [
    "<a href=\"https://colab.research.google.com/github/NeuromatchAcademy/course-content-dl/blob/main/tutorials/W1D4_Optimization/student/W1D4_Tutorial1.ipynb\" target=\"_parent\"><img src=\"https://colab.research.google.com/assets/colab-badge.svg\" alt=\"Open In Colab\"/></a>"
   ]
  },
  {
   "cell_type": "markdown",
   "metadata": {},
   "source": [
    "# Tutorial 1: Optimization techniques\n",
    "**Week 1, Day 4: Optimization**\n",
    "\n",
    "**By Neuromatch Academy**\n",
    "\n",
    "__Content creators:__ Jose Gallego-Posada, Ioannis Mitliagkas\n",
    "\n",
    "__Content reviewers:__ Piyush Chauhan, Vladimir Haltakov\n",
    "\n",
    "__Content editors:__ Gagana B\n",
    "\n",
    "__Production editors:__ Arush Tagade, Spiros Chavlis"
   ]
  },
  {
   "cell_type": "markdown",
   "metadata": {},
   "source": [
    "**Our 2021 Sponsors, including Presenting Sponsor Facebook Reality Labs**\n",
    "\n",
    "<p align='center'><img src='https://github.com/NeuromatchAcademy/widgets/blob/master/sponsors.png?raw=True'/></p>"
   ]
  },
  {
   "cell_type": "markdown",
   "metadata": {},
   "source": [
    "---\n",
    "# Tutorial Objectives\n",
    "\n",
    "Objectives:\n",
    "*   Necessity and importance of Optimization\n",
    "*   Introduction to commonly used optimization techniques\n",
    "*   Optimization in non-convex loss landscapes \n",
    "*   'Adaptive' hyperparameter tuning \n",
    "*   Ethical concerns\n",
    "\n"
   ]
  },
  {
   "cell_type": "code",
   "execution_count": null,
   "metadata": {
    "cellView": "form",
    "colab": {
     "base_uri": "https://localhost:8080/",
     "height": 590
    },
    "outputId": "9c7a9ef0-13d0-4342-d4e6-fc25b83d395c"
   },
   "outputs": [],
   "source": [
    "#@markdown Tutorial slides\n",
    "# you should link the slides for all tutorial videos here (we will store pdfs on osf)\n",
    "\n",
    "from IPython.display import HTML\n",
    "HTML('<iframe src=\"https://docs.google.com/presentation/d/1dkvaSDB-0PeaVHWKW7xHd6z2pIqjNUN2JG_EQ6P0L9o/embed?start=false&loop=false&delayms=3000\" frameborder=\"0\" width=\"960\" height=\"569\" allowfullscreen=\"true\" mozallowfullscreen=\"true\" webkitallowfullscreen=\"true\"></iframe>')"
   ]
  },
  {
   "cell_type": "markdown",
   "metadata": {},
   "source": [
    "---\n",
    "# Setup"
   ]
  },
  {
   "cell_type": "code",
   "execution_count": null,
   "metadata": {},
   "outputs": [],
   "source": [
    "# Imports\n",
    "from __future__ import print_function\n",
    "\n",
    "import io\n",
    "import time\n",
    "import copy\n",
    "import torch\n",
    "import requests\n",
    "import torchvision\n",
    "\n",
    "import numpy as np\n",
    "import ipywidgets as widgets\n",
    "import matplotlib.pyplot as plt\n",
    "\n",
    "from urllib.request import urlopen\n",
    "from collections import defaultdict\n",
    "\n",
    "import torch.nn as nn\n",
    "import torch.optim as optim\n",
    "import torch.nn.functional as F\n",
    "import torchvision.datasets as datasets"
   ]
  },
  {
   "cell_type": "code",
   "execution_count": null,
   "metadata": {
    "cellView": "form"
   },
   "outputs": [],
   "source": [
    "#@title Figure settings\n",
    "import ipywidgets as widgets       # interactive display\n",
    "%config InlineBackend.figure_format = 'retina'\n",
    "plt.style.use(\"https://raw.githubusercontent.com/NeuromatchAcademy/content-creation/master/nma.mplstyle\")\n",
    "plt.rc('axes', unicode_minus=False)"
   ]
  },
  {
   "cell_type": "code",
   "execution_count": null,
   "metadata": {
    "cellView": "form"
   },
   "outputs": [],
   "source": [
    "#@title Helper functions\n",
    "def print_params(model):\n",
    "  for name, param in model.named_parameters():\n",
    "    if param.requires_grad:\n",
    "      print(name, param.data)"
   ]
  },
  {
   "cell_type": "code",
   "execution_count": null,
   "metadata": {
    "cellView": "form"
   },
   "outputs": [],
   "source": [
    "#@title Set random seed\n",
    "\n",
    "#@markdown Executing `set_seed(seed=seed)` you are setting the seed\n",
    "\n",
    "# for DL its critical to set the random seed so that students can have a\n",
    "# baseline to compare their results to expected results.\n",
    "# Read more here: https://pytorch.org/docs/stable/notes/randomness.html\n",
    "\n",
    "# Call `set_seed` function in the exercises to ensure reproducibility.\n",
    "import random\n",
    "import torch\n",
    "\n",
    "def set_seed(seed=None, seed_torch=True):\n",
    "  if seed is None:\n",
    "    seed = np.random.choice(2 ** 32)\n",
    "  random.seed(seed)\n",
    "  np.random.seed(seed)\n",
    "  if seed_torch:\n",
    "    torch.manual_seed(seed)\n",
    "    torch.cuda.manual_seed_all(seed)\n",
    "    torch.cuda.manual_seed(seed)\n",
    "    torch.backends.cudnn.benchmark = False\n",
    "    torch.backends.cudnn.deterministic = True\n",
    "\n",
    "  print(f'Random seed {seed} has been set.')\n",
    "\n",
    "\n",
    "# In case that `DataLoader` is used\n",
    "def seed_worker(worker_id):\n",
    "  worker_seed = torch.initial_seed() % 2**32\n",
    "  np.random.seed(worker_seed)\n",
    "  random.seed(worker_seed)"
   ]
  },
  {
   "cell_type": "code",
   "execution_count": null,
   "metadata": {
    "cellView": "form"
   },
   "outputs": [],
   "source": [
    "#@title Set device (GPU or CPU). Execute `set_device()`\n",
    "# especially if torch modules used.\n",
    "\n",
    "# inform the user if the notebook uses GPU or CPU.\n",
    "\n",
    "def set_device():\n",
    "  device = \"cuda\" if torch.cuda.is_available() else \"cpu\"\n",
    "  if device != \"cuda\":\n",
    "    print(\"WARNING: For this notebook to perform best, \"\n",
    "        \"if possible, in the menu under `Runtime` -> \"\n",
    "        \"`Change runtime type.`  select `GPU` \")\n",
    "  else:\n",
    "    print(\"GPU is enabled in this notebook.\")\n",
    "\n",
    "  return device"
   ]
  },
  {
   "cell_type": "code",
   "execution_count": null,
   "metadata": {
    "colab": {
     "base_uri": "https://localhost:8080/"
    },
    "outputId": "4d597ff4-7918-4ac9-f14c-d7e40942e247"
   },
   "outputs": [],
   "source": [
    "SEED = 31051832  # random seed\n",
    "set_seed(seed=SEED, seed_torch=True)  # set the seed\n",
    "DEVICE = set_device()  # choose device"
   ]
  },
  {
   "cell_type": "markdown",
   "metadata": {},
   "source": [
    "--- \n",
    "\n",
    "# Section 1. Introduction"
   ]
  },
  {
   "cell_type": "code",
   "execution_count": null,
   "metadata": {
    "cellView": "form",
    "colab": {
     "base_uri": "https://localhost:8080/",
     "height": 579,
     "referenced_widgets": [
      "22816af785e74401ac52514ef2982fa2",
      "7633517dff9f492c80ed76f1d324f70e",
      "08110d87751d4cbe9709a16de55fe4f4",
      "9179444f9fad4da1b2225296541b2660",
      "d4183518aec046c78fdc7eab9a685048",
      "cd9f579ce9124e57b00bed67fdbe4226"
     ]
    },
    "outputId": "40eb5215-628a-4691-ed5a-d53e5afe870a"
   },
   "outputs": [],
   "source": [
    "#@title Video 1: Introduction\n",
    "# Insert the ID of the corresponding youtube video\n",
    "from ipywidgets import widgets\n",
    "\n",
    "out2 = widgets.Output()\n",
    "with out2:\n",
    "  from IPython.display import IFrame\n",
    "  class BiliVideo(IFrame):\n",
    "    def __init__(self, id, page=1, width=400, height=300, **kwargs):\n",
    "      self.id=id\n",
    "      src = \"https://player.bilibili.com/player.html?bvid={0}&page={1}\".format(id, page)\n",
    "      super(BiliVideo, self).__init__(src, width, height, **kwargs)\n",
    "\n",
    "  video = BiliVideo(id=f\"\", width=854, height=480, fs=1)\n",
    "  print(\"Video available at https://www.bilibili.com/video/{0}\".format(video.id))\n",
    "  display(video)\n",
    "\n",
    "out1 = widgets.Output()\n",
    "with out1:\n",
    "  from IPython.display import YouTubeVideo\n",
    "  video = YouTubeVideo(id=f\"zm9oekdkJbQ\", width=854, height=480, fs=1, rel=0)\n",
    "  print(\"Video available at https://youtube.com/watch?v=\" + video.id)\n",
    "  display(video)\n",
    "\n",
    "out = widgets.Tab([out1, out2])\n",
    "out.set_title(0, 'Youtube')\n",
    "out.set_title(1, 'Bilibili')\n",
    "\n",
    "display(out)"
   ]
  },
  {
   "cell_type": "markdown",
   "metadata": {},
   "source": [
    "### Think!\n",
    "\n",
    "Can you think of examples from your own experience/life where poorly chosen incentives or objectives have lead to unexpected consequences?"
   ]
  },
  {
   "cell_type": "markdown",
   "metadata": {
    "colab_type": "text"
   },
   "source": [
    "[*Click for solution*](https://github.com/NeuromatchAcademy/course-content-dl/tree/main//tutorials/W1D4_Optimization/solutions/W1D4_Tutorial1_Solution_3511302b.py)\n",
    "\n"
   ]
  },
  {
   "cell_type": "markdown",
   "metadata": {},
   "source": [
    "---\n",
    "\n",
    "# Section 2: Case study: successfully training an MLP for image classification\n",
    "\n",
    "Many of the core ideas (and tricks) in modern optimization for deep learning can be illustrated in the simple setting of training an MLP to solve an image classification task. In this tutorial we will guide you through the key challenges that arise when optimizing high-dimensional, non-convex problems. We will use these challenges to motivate and explain some commonly used solutions.\n",
    "\n",
    "**Disclaimer:** Some of the functions you will code in this tutorial are already implemented in Pytorch and many other libraries. For pedagogical reasons, we decided to bring these simple coding tasks into the spotlight and place a relatively higher emphasis in your understanding of the algorithms, rather than the use of a specific library. \n",
    "\n",
    "In 'day-to-day' research projects you will likely to rely on the community-vetted, optimized libraries rather than the 'manual implementations' you will write today. In Section 8 you will have a chance to 'put it all together' and use the full power of Pytorch to tune the parameters of an MLP to classify handwritten digits.    \n"
   ]
  },
  {
   "cell_type": "code",
   "execution_count": null,
   "metadata": {
    "cellView": "form",
    "colab": {
     "base_uri": "https://localhost:8080/",
     "height": 579,
     "referenced_widgets": [
      "9570e3f78490436396d984bde83bc5a5",
      "35fbbdd3325e4582b850cacfe6ab473a",
      "2869ca933e19486ba5966f353dc4eaab",
      "61891e8f07504249a5f2f2363a610344",
      "910c16dfe08c4a1293d92c079e79192a",
      "93f1e71cb05646fa9e2e1ad5611ca033"
     ]
    },
    "outputId": "eff78384-28d3-4572-da5a-d091d04c93a8"
   },
   "outputs": [],
   "source": [
    "#@title Video 2: Case Study - MLP Classification\n",
    "# Insert the ID of the corresponding youtube video\n",
    "from ipywidgets import widgets\n",
    "\n",
    "out2 = widgets.Output()\n",
    "with out2:\n",
    "  from IPython.display import IFrame\n",
    "  class BiliVideo(IFrame):\n",
    "    def __init__(self, id, page=1, width=400, height=300, **kwargs):\n",
    "      self.id=id\n",
    "      src = \"https://player.bilibili.com/player.html?bvid={0}&page={1}\".format(id, page)\n",
    "      super(BiliVideo, self).__init__(src, width, height, **kwargs)\n",
    "\n",
    "  video = BiliVideo(id=f\"\", width=854, height=480, fs=1)\n",
    "  print(\"Video available at https://www.bilibili.com/video/{0}\".format(video.id))\n",
    "  display(video)\n",
    "\n",
    "out1 = widgets.Output()\n",
    "with out1:\n",
    "  from IPython.display import YouTubeVideo\n",
    "  video = YouTubeVideo(id=f\"pJc2ENhYbqA\", width=854, height=480, fs=1, rel=0)\n",
    "  print(\"Video available at https://youtube.com/watch?v=\" + video.id)\n",
    "  display(video)\n",
    "\n",
    "out = widgets.Tab([out1, out2])\n",
    "out.set_title(0, 'Youtube')\n",
    "out.set_title(1, 'Bilibili')\n",
    "\n",
    "display(out)"
   ]
  },
  {
   "cell_type": "markdown",
   "metadata": {},
   "source": [
    "## Section 2.1: Data\n",
    "\n",
    "We will use the MNIST dataset of handwritten digits. We load the data via the Pytorch `datasets` module, as you learned in W1D1.   \n"
   ]
  },
  {
   "cell_type": "code",
   "execution_count": null,
   "metadata": {
    "colab": {
     "base_uri": "https://localhost:8080/"
    },
    "outputId": "b6b0dd82-e212-4486-9c0a-5ea64866f4b7"
   },
   "outputs": [],
   "source": [
    "def load_mnist_data(change_tensors=False, download=True):\n",
    "  \"\"\"Load training and test examples for the MNIST digits dataset\n",
    "\n",
    "  Returns:\n",
    "    train_data (tensor): training input tensor of size (train_size x 784)\n",
    "    train_target (tensor): training 0-9 integer label tensor of size (train_size)\n",
    "    test_data (tensor): test input tensor of size (70k-train_size x 784)\n",
    "    test_target (tensor): training 0-9 integer label tensor of size (70k-train_size)\n",
    "\n",
    "  \"\"\"\n",
    "  # Load train and test sets\n",
    "  train_set = datasets.MNIST(root='./data', train=True, download=download,\n",
    "                             transform=torchvision.transforms.ToTensor())\n",
    "  test_set = datasets.MNIST(root='./data', train=False, download=download,\n",
    "                            transform=torchvision.transforms.ToTensor())\n",
    "\n",
    "  # Original data is in range [0, 255]. We normalize the data wrt its mean and std_dev.\n",
    "  ## Note that we only used *training set* information to compute mean and std\n",
    "  mean = train_set.data.float().mean()\n",
    "  std = train_set.data.float().std()\n",
    "\n",
    "  if change_tensors:\n",
    "    # Apply normalization directly to the tensors containing the dataset\n",
    "    train_set.data = (train_set.data.float() - mean) / std\n",
    "    test_set.data = (test_set.data.float() - mean) / std\n",
    "  else:\n",
    "    tform = torchvision.transforms.Compose([torchvision.transforms.ToTensor(),\n",
    "                                            torchvision.transforms.Normalize(mean=[mean/255.], std=[std/255.])\n",
    "                                            ])\n",
    "    train_set = datasets.MNIST(root='./data', train=True, download=True,\n",
    "                               transform=tform)\n",
    "    test_set = datasets.MNIST(root='./data', train=False, download=True,\n",
    "                              transform=tform)\n",
    "\n",
    "  return train_set, test_set\n",
    "\n",
    "\n",
    "train_set, test_set = load_mnist_data(change_tensors=True)"
   ]
  },
  {
   "cell_type": "markdown",
   "metadata": {},
   "source": [
    "As we are just getting started, we will concentrate on a small subset of only 500 examples out of the 60.000 data points contained in the whole training set.\n",
    "\n"
   ]
  },
  {
   "cell_type": "code",
   "execution_count": null,
   "metadata": {},
   "outputs": [],
   "source": [
    "# Sample a random subset of 500 indices\n",
    "subset_index = np.random.choice(len(train_set.data), 500)\n",
    "\n",
    "# We will use these symbols to represent the training data and labels, to stay\n",
    "# as close to the mathematical expressions as possible.\n",
    "X, y = train_set.data[subset_index, :], train_set.targets[subset_index]"
   ]
  },
  {
   "cell_type": "markdown",
   "metadata": {},
   "source": [
    "Run the following cell to visualize the content of three examples in our training set. Note how the pre-processing we applied to the data changes the range of pixel values after normalization.\n"
   ]
  },
  {
   "cell_type": "code",
   "execution_count": null,
   "metadata": {
    "cellView": "form",
    "colab": {
     "base_uri": "https://localhost:8080/",
     "height": 374
    },
    "outputId": "d8c30015-45a5-456a-ea4a-265681a49b4f"
   },
   "outputs": [],
   "source": [
    "#@title Run me!\n",
    "num_figures = 3\n",
    "fig, axs = plt.subplots(1, num_figures, figsize=(5 * num_figures, 5))\n",
    "\n",
    "for sample_id, ax in enumerate(axs):\n",
    "  # Plot the pixel values for each image\n",
    "  ax.matshow(X[sample_id, :], cmap='gray_r')\n",
    "  # 'Write' the pixel value in the corresponding location\n",
    "  for (i, j), z in np.ndenumerate(X[sample_id, :]):\n",
    "    text = '{:.1f}'.format(z)\n",
    "    ax.text(j, i, text, ha='center',\n",
    "            va='center', fontsize=6, c='steelblue')\n",
    "\n",
    "  ax.set_title('Label: ' + str(y[sample_id].item()))\n",
    "  ax.axis('off')\n",
    "\n",
    "plt.show()"
   ]
  },
  {
   "cell_type": "markdown",
   "metadata": {},
   "source": [
    "## Section 2.2: Model\n",
    "\n",
    "As you will see next week, there are specific model architectures that are better suited to image-like data, such as Convolutional Neural Networks (CNNs). For simplicity, in this tutorial we will focus exclusively on Multi-Layer Perceptron (MLP) models as they allow us to highlight many important optimization challenges shared with more advanced neural network designs."
   ]
  },
  {
   "cell_type": "code",
   "execution_count": null,
   "metadata": {},
   "outputs": [],
   "source": [
    "class MLP(nn.Module):\n",
    "  \"\"\" This class implements MLPs in Pytorch of an arbitrary number of hidden\n",
    "  layers of potentially different sizes. Since we concentrate on classification\n",
    "  tasks in this tutorial, we have a log_softmax layer at prediction time.\n",
    "  \"\"\"\n",
    "\n",
    "  def __init__(self, in_dim=784, out_dim=10, hidden_dims=[], use_bias=True):\n",
    "    \"\"\"Constructs a MultiLayerPerceptron\n",
    "\n",
    "    Args:\n",
    "        in_dim (int): dimensionality of input data\n",
    "        out_dim (int): number of classes\n",
    "        hidden_dims (list): contains the dimensions of the hidden layers, an empty\n",
    "            list corresponds to a linear model (in_dim, out_dim)\n",
    "    \"\"\"\n",
    "\n",
    "    super(MLP, self).__init__()\n",
    "\n",
    "    self.in_dim = in_dim\n",
    "    self.out_dim = out_dim\n",
    "\n",
    "    # If we have no hidden layer, just initialize a linear model (e.g. in logistic regression)\n",
    "    if len(hidden_dims) == 0:\n",
    "      layers = [nn.Linear(in_dim, out_dim, bias=use_bias)]\n",
    "    else:\n",
    "      # 'Actual' MLP with dimensions in_dim - num_hidden_layers*[hidden_dim] - out_dim\n",
    "      layers = [nn.Linear(in_dim, hidden_dims[0], bias=use_bias), nn.ReLU()]\n",
    "\n",
    "      # Loop until before the last layer\n",
    "      for hl_id in range(len(hidden_dims) - 1):\n",
    "          layers += [nn.Linear(hidden_dims[hl_id], hidden_dims[hl_id+1],\n",
    "                               bias=use_bias), nn.ReLU()]\n",
    "\n",
    "      # Add final layer to the number of classes\n",
    "      layers.append(nn.Linear(hidden_dims[-1], out_dim, bias=use_bias))\n",
    "\n",
    "    self.main = nn.Sequential(*layers)\n",
    "\n",
    "  def forward(self, x):\n",
    "    # Flatten the images into 'vectors'\n",
    "    x = x.view(-1, self.in_dim)\n",
    "    x = self.main(x)\n",
    "    output = F.log_softmax(x, dim=1)\n",
    "    return output"
   ]
  },
  {
   "cell_type": "markdown",
   "metadata": {},
   "source": [
    "Linear models constitute a very special kind of MLPs: they are equivalent to an MLP with *zero* hidden layers. This is simply an affine transformation, in other words a 'linear' map $W x$ with an 'offset' $b$; followed by a softmax function.\n",
    "\n",
    "$$f(x) = \\text{softmax}(W x + b)$$\n",
    "\n",
    "Here $x \\in \\mathbb{R}^{784}$, $W \\in \\mathbb{R}^{10 \\times 784}$ and $b \\in \\mathbb{R}^{10}$."
   ]
  },
  {
   "cell_type": "code",
   "execution_count": null,
   "metadata": {
    "colab": {
     "base_uri": "https://localhost:8080/"
    },
    "outputId": "b01c9617-1401-4898-c00c-de0f87a95814"
   },
   "outputs": [],
   "source": [
    "# Empty hidden_dims means we take a model with zero hidden layers.\n",
    "model = MLP(in_dim=784, out_dim=10, hidden_dims=[])\n",
    "\n",
    "# We print the model structure with 784 inputs and 10 outputs\n",
    "print(model)"
   ]
  },
  {
   "cell_type": "markdown",
   "metadata": {},
   "source": [
    "## Section 2.3: Loss\n",
    "\n",
    "While we care about the accuracy of the model, the 'discrete' nature of the 0-1 loss makes it challenging to optimize. In order to learn good parameters for this model, we will use the cross entropy loss (negative log-likelihood), which you saw in last lecture, as a surrogate objective to be minimized. \n",
    "\n",
    "This particular choice of model and optimization objective leads to a *convex* optimization problem with respect to the parameters $W$ and $b$. "
   ]
  },
  {
   "cell_type": "code",
   "execution_count": null,
   "metadata": {},
   "outputs": [],
   "source": [
    "loss_fn = F.nll_loss"
   ]
  },
  {
   "cell_type": "markdown",
   "metadata": {},
   "source": [
    "## Section 2.4: Interpretability"
   ]
  },
  {
   "cell_type": "markdown",
   "metadata": {},
   "source": [
    "In last lecture, you saw that inspecting the weights of a model can provide insights on what 'concepts' the model has learned. Here we show the weights of a partially trained model. The weights corresponding to each class 'learn' to _fire_ when an input of the class is detected.\n"
   ]
  },
  {
   "cell_type": "code",
   "execution_count": null,
   "metadata": {
    "cellView": "form"
   },
   "outputs": [],
   "source": [
    "#@markdown Run _this cell_ to train the model. If you are curious about how the training\n",
    "#@markdown takes place, double-click this cell to find out. At the end of this tutorial\n",
    "#@markdown you will have the opportunity to train a more complex model on your own.\n",
    "\n",
    "cell_verbose = False\n",
    "partial_trained_model = MLP(in_dim=784, out_dim=10, hidden_dims=[])\n",
    "\n",
    "if cell_verbose:\n",
    "  print('Init loss', loss_fn(partial_trained_model(X), y).item()) # This matches around np.log(10 = # of classes)\n",
    "\n",
    "optimizer = optim.Adam(partial_trained_model.parameters(), lr=7e-4)\n",
    "for _ in range(200):\n",
    "  loss = loss_fn(partial_trained_model(X), y)\n",
    "  optimizer.zero_grad()\n",
    "  loss.backward()\n",
    "  optimizer.step()\n",
    "\n",
    "if cell_verbose:\n",
    "  print('End loss', loss_fn(partial_trained_model(X), y).item()) # This should be less than 1e-2"
   ]
  },
  {
   "cell_type": "code",
   "execution_count": null,
   "metadata": {
    "colab": {
     "base_uri": "https://localhost:8080/",
     "height": 141
    },
    "outputId": "9b4a1e27-6aac-4c7f-fe2e-47ab6f648132"
   },
   "outputs": [],
   "source": [
    "# Show class filters of a trained model\n",
    "W = partial_trained_model.main[0].weight.data.numpy()\n",
    "\n",
    "fig, axs = plt.subplots(1, 10, figsize=(15, 4))\n",
    "for class_id in range(10):\n",
    "  axs[class_id].imshow(W[class_id, :].reshape(28, 28), cmap='gray_r')\n",
    "  axs[class_id].axis('off')\n",
    "  axs[class_id].set_title('Class ' + str(class_id) )\n",
    "\n",
    "plt.show()"
   ]
  },
  {
   "cell_type": "markdown",
   "metadata": {},
   "source": [
    "---\n",
    "# Section 3: High dimensional search\n",
    "\n",
    "We now have a model with its corresponding trainable parameters as well as an objective to optimize. Where do we go to next? How do we find a 'good' configuration of parameters?\n",
    "\n",
    "One idea is to choose a random direction and move only if the objective is reduced. However, this is inefficient in high dimensions and you will see how gradient descent (with a suitable step-size) can guarantee consistent improvement in terms of the objective function."
   ]
  },
  {
   "cell_type": "code",
   "execution_count": null,
   "metadata": {
    "cellView": "form",
    "colab": {
     "base_uri": "https://localhost:8080/",
     "height": 579,
     "referenced_widgets": [
      "f8422f539d3944c79039da9ac97243a5",
      "05ca260d4d014e04adb5d2d28c44f5fb",
      "7e152a96bf9e4a82941381e81c6e1b9e",
      "9bfa13bd8d744f3c90475bbebf53b89d",
      "b8d8d8e8662f45cbaf0ece9a9754ce36",
      "c174a09632224f6b82233c91d05454b7"
     ]
    },
    "outputId": "598ba04a-73d1-4855-9004-874130efa52b"
   },
   "outputs": [],
   "source": [
    "#@title Video 3: Optimization of an Objective Function\n",
    "# Insert the ID of the corresponding youtube video\n",
    "from ipywidgets import widgets\n",
    "\n",
    "out2 = widgets.Output()\n",
    "with out2:\n",
    "  from IPython.display import IFrame\n",
    "  class BiliVideo(IFrame):\n",
    "    def __init__(self, id, page=1, width=400, height=300, **kwargs):\n",
    "      self.id=id\n",
    "      src = \"https://player.bilibili.com/player.html?bvid={0}&page={1}\".format(id, page)\n",
    "      super(BiliVideo, self).__init__(src, width, height, **kwargs)\n",
    "\n",
    "  video = BiliVideo(id=f\"\", width=854, height=480, fs=1)\n",
    "  print(\"Video available at https://www.bilibili.com/video/{0}\".format(video.id))\n",
    "  display(video)\n",
    "\n",
    "out1 = widgets.Output()\n",
    "with out1:\n",
    "  from IPython.display import YouTubeVideo\n",
    "  video = YouTubeVideo(id=f\"aSJTRdjRvvw\", width=854, height=480, fs=1, rel=0)\n",
    "  print(\"Video available at https://youtube.com/watch?v=\" + video.id)\n",
    "  display(video)\n",
    "\n",
    "out = widgets.Tab([out1, out2])\n",
    "out.set_title(0, 'Youtube')\n",
    "out.set_title(1, 'Bilibili')\n",
    "\n",
    "display(out)"
   ]
  },
  {
   "cell_type": "markdown",
   "metadata": {},
   "source": [
    "### Coding Exercise 3.1: Implement gradient descent\n",
    "\n",
    "In this exercise you will use Pytorch automatic differentiation capabilities to compute the gradient of the loss with respect to the parameters of the model. You will then use these gradients to implement the update performed by the gradient descent method.  "
   ]
  },
  {
   "cell_type": "code",
   "execution_count": null,
   "metadata": {},
   "outputs": [],
   "source": [
    "def zero_grad(params):\n",
    "  \"\"\"Clear up gradients as Pytorch automatically accumulates gradients from\n",
    "  successive backward calls\n",
    "  \"\"\"\n",
    "  for par in params:\n",
    "    if not(par.grad is None):\n",
    "      par.grad.data.zero_()\n",
    "\n",
    "\n",
    "def random_update(model, noise_scale=0.1, normalized=False):\n",
    "  \"\"\" Performs a random update on the parameters of the model\n",
    "  \"\"\"\n",
    "  for par in model.parameters():\n",
    "    noise = torch.randn_like(par)\n",
    "    if normalized:\n",
    "      noise /= torch.norm(noise)\n",
    "    par.data +=  noise_scale * noise"
   ]
  },
  {
   "cell_type": "code",
   "execution_count": null,
   "metadata": {
    "colab": {
     "base_uri": "https://localhost:8080/"
    },
    "outputId": "569af632-f691-4929-9289-ca8747005b4a"
   },
   "outputs": [],
   "source": [
    "def gradient_update(loss, params, lr=1e-1):\n",
    "  \"\"\"Perform a gradient descent update on a given loss over a collection of parameters\n",
    "\n",
    "  Args:\n",
    "    loss (tensor): A scalar tensor containing the loss whose gradient will be computed\n",
    "    params (iterable): Collection of parameters with respect to which we compute gradients\n",
    "    lr (float): Scalar specifying the learning rate or step-size for the update\n",
    "  \"\"\"\n",
    "  # Clear up gradients as Pytorch automatically accumulates gradients from\n",
    "  # successive backward calls\n",
    "  zero_grad(params)\n",
    "\n",
    "  # Compute gradients on given objective\n",
    "  loss.backward()\n",
    "\n",
    "  for par in params:\n",
    "    #################################################\n",
    "    ## TODO for students: update the value of the parameter ##\n",
    "    raise NotImplementedError(\"Student exercise: implement gradient update\")\n",
    "    #################################################\n",
    "    # Here we work with the 'data' attribute of the parameter rather than the\n",
    "    # parameter itself.\n",
    "    par.data -= ...\n",
    "\n",
    "\n",
    "set_seed(2021)\n",
    "model = MLP(in_dim=784, out_dim=10, hidden_dims=[])\n",
    "print('\\n The model parameters before the update are: \\n')\n",
    "print_params(model)\n",
    "loss = loss_fn(model(X), y).to(DEVICE)\n",
    "\n",
    "## Uncomment below to test your function\n",
    "# gradient_update(loss, list(model.parameters()), lr=1e-2)\n",
    "# print('\\n The model parameters after the update are: \\n')\n",
    "# print_params(model)"
   ]
  },
  {
   "cell_type": "markdown",
   "metadata": {
    "colab": {
     "base_uri": "https://localhost:8080/"
    },
    "colab_type": "text",
    "outputId": "6b11aaa7-473a-471d-a411-a5c9eab9d6d4"
   },
   "source": [
    "[*Click for solution*](https://github.com/NeuromatchAcademy/course-content-dl/tree/main//tutorials/W1D4_Optimization/solutions/W1D4_Tutorial1_Solution_86710eba.py)\n",
    "\n"
   ]
  },
  {
   "cell_type": "markdown",
   "metadata": {},
   "source": [
    "```\n",
    " The model parameters after the update are: \n",
    "\n",
    "main.0.weight tensor([[-0.0265,  0.0009,  0.0172,  ...,  0.0296,  0.0277, -0.0222],\n",
    "        [-0.0042, -0.0297, -0.0088,  ..., -0.0072,  0.0253, -0.0234],\n",
    "        [ 0.0241, -0.0230,  0.0343,  ...,  0.0125,  0.0271, -0.0180],\n",
    "        ...,\n",
    "        [-0.0006,  0.0157,  0.0110,  ...,  0.0143, -0.0301, -0.0144],\n",
    "        [ 0.0179,  0.0301,  0.0253,  ..., -0.0112, -0.0177,  0.0203],\n",
    "        [ 0.0206, -0.0355, -0.0184,  ..., -0.0272,  0.0098,  0.0002]])\n",
    "main.0.bias tensor([-0.0288, -0.0030,  0.0098, -0.0327,  0.0024,  0.0214,  0.0308,  0.0245,\n",
    "         0.0164, -0.0060])\n",
    "```"
   ]
  },
  {
   "cell_type": "markdown",
   "metadata": {},
   "source": [
    "### Comparing updates"
   ]
  },
  {
   "cell_type": "code",
   "execution_count": null,
   "metadata": {
    "cellView": "form",
    "colab": {
     "base_uri": "https://localhost:8080/",
     "height": 311
    },
    "outputId": "15da0913-ae78-4a74-ee63-2b7f22e6f80a"
   },
   "outputs": [],
   "source": [
    "#@markdown These plots compare the effectiveness of updating random\n",
    "#@markdown directions for the problem of optimizing the parameters\n",
    "#@markdown of a high-dimensional linear model. We contrast the\n",
    "#@markdown behavior at initialization and during an intermediate\n",
    "#@markdown stage of training by showing the histograms of change in\n",
    "#@markdown loss over 100 different random directions vs the changed\n",
    "#@markdown in loss induced by the gradient descent update\n",
    "\n",
    "#@markdown Remember, since we are trying to minimize, here negative is better!\n",
    "\n",
    "fig, axs = plt.subplots(1, 2, figsize=(10, 4))\n",
    "\n",
    "for id, (model_name, my_model) in enumerate([('Initialization', model),\n",
    "                                              ('Partially trained', partial_trained_model)]):\n",
    "  # Compue the loss we will be comparing to\n",
    "  base_loss = loss_fn(my_model(X), y)\n",
    "\n",
    "  # Compute the improvement via gradient descent\n",
    "  dummy_model = copy.deepcopy(my_model)\n",
    "  loss1 = loss_fn(dummy_model(X), y)\n",
    "  gradient_update(loss1, list(dummy_model.parameters()), lr=1e-2)\n",
    "  gd_delta = loss_fn(dummy_model(X), y) - base_loss\n",
    "\n",
    "  deltas = []\n",
    "  for trial_id in range(100):\n",
    "    # Compute the improvement obtained with a random direction\n",
    "    dummy_model = copy.deepcopy(my_model)\n",
    "    random_update(dummy_model, noise_scale=1e-2)\n",
    "    deltas.append((loss_fn(dummy_model(X), y) - base_loss).item())\n",
    "\n",
    "  # Plot histogram for random direction and vertical line for gradient descent\n",
    "  axs[id].hist(deltas, label='Random Directions', bins=20)\n",
    "  axs[id].set_title(model_name)\n",
    "  axs[id].set_xlabel('Change in loss')\n",
    "  axs[id].set_ylabel('% samples')\n",
    "  axs[id].axvline(0, c='green', alpha=0.5)\n",
    "  axs[id].axvline(gd_delta.item(), linestyle='--', c='red', alpha=1,\n",
    "                  label='Gradient Descent')\n",
    "\n",
    "\n",
    "handles, labels = axs[id].get_legend_handles_labels()\n",
    "fig.legend(handles, labels, loc='upper center',\n",
    "           bbox_to_anchor=(0.5, 1.05),\n",
    "           fancybox=False, shadow=False, ncol=2)\n",
    "\n",
    "plt.show()"
   ]
  },
  {
   "cell_type": "markdown",
   "metadata": {},
   "source": [
    "### Think!\n",
    "\n",
    "Compare the behavior of gradient descent and random search based on the histograms above. Is any of the two methods more reliable? How can you explain the changes between behavior of the methods at initialization vs during training?"
   ]
  },
  {
   "cell_type": "markdown",
   "metadata": {
    "colab_type": "text"
   },
   "source": [
    "[*Click for solution*](https://github.com/NeuromatchAcademy/course-content-dl/tree/main//tutorials/W1D4_Optimization/solutions/W1D4_Tutorial1_Solution_e1813c68.py)\n",
    "\n"
   ]
  },
  {
   "cell_type": "markdown",
   "metadata": {},
   "source": [
    "---\n",
    "# Section 4: Poor conditioning\n",
    "\n",
    "Already in this 'simple' logistic regression problem, the issue of bad conditioning is haunting us. Not all parameters are created equal and the sensitivity of the network to changes on the parameters will have a big impact in the dynamics of the optimization."
   ]
  },
  {
   "cell_type": "code",
   "execution_count": null,
   "metadata": {
    "cellView": "form",
    "colab": {
     "base_uri": "https://localhost:8080/",
     "height": 579,
     "referenced_widgets": [
      "d4a9db7e8e664e6f90f5cce1a817fe19",
      "842823119d7a43a28349315d185799eb",
      "d270e42ef9d34904aa2f0a922ae7e8aa",
      "6ce6d8fcc7b14122818ca980eade86f3",
      "18d5cb4533b14125a0032916dfdfe4ee",
      "413103a321bc48e697ea9cb4493dc95f"
     ]
    },
    "outputId": "adc7b553-f413-423d-9d56-435a06708c86"
   },
   "outputs": [],
   "source": [
    "#@title Video 4: Momentum\n",
    "# Insert the ID of the corresponding youtube video\n",
    "from ipywidgets import widgets\n",
    "\n",
    "out2 = widgets.Output()\n",
    "with out2:\n",
    "  from IPython.display import IFrame\n",
    "  class BiliVideo(IFrame):\n",
    "    def __init__(self, id, page=1, width=400, height=300, **kwargs):\n",
    "      self.id=id\n",
    "      src = \"https://player.bilibili.com/player.html?bvid={0}&page={1}\".format(id, page)\n",
    "      super(BiliVideo, self).__init__(src, width, height, **kwargs)\n",
    "\n",
    "  video = BiliVideo(id=f\"\", width=854, height=480, fs=1)\n",
    "  print(\"Video available at https://www.bilibili.com/video/{0}\".format(video.id))\n",
    "  display(video)\n",
    "\n",
    "out1 = widgets.Output()\n",
    "with out1:\n",
    "  from IPython.display import YouTubeVideo\n",
    "  video = YouTubeVideo(id=f\"3ES5O58Y_2M\", width=854, height=480, fs=1, rel=0)\n",
    "  print(\"Video available at https://youtube.com/watch?v=\" + video.id)\n",
    "  display(video)\n",
    "\n",
    "out = widgets.Tab([out1, out2])\n",
    "out.set_title(0, 'Youtube')\n",
    "out.set_title(1, 'Bilibili')\n",
    "\n",
    "display(out)"
   ]
  },
  {
   "cell_type": "code",
   "execution_count": null,
   "metadata": {
    "cellView": "form"
   },
   "outputs": [],
   "source": [
    "#@markdown We illustrate this issue in a 2-dimensional setting. We freeze all but\n",
    "#@markdown two parameters of the network: one of them is an element of the weight matrix (filter)\n",
    "#@markdown for class 0, while the other is the bias for class 7. This results in\n",
    "#@markdown an optimization with two decision variables.\n",
    "\n",
    "#@markdown How much difference is there in the behavior of these two parameters\n",
    "#@markdown under gradient descent? What is the effect of momentum in bridging that gap?\n",
    "\n",
    "#@markdown _Run this cell_ to setup some helper functions.\n",
    "\n",
    "def loss_2d(model, u, v, mask_idx=(0, 378), bias_id=7):\n",
    "  \"\"\"Defines a 2-dim function by freezing all but two parameters of a linear\n",
    "  model.\n",
    "\n",
    "  Args:\n",
    "    model (torch module): a pytorch 0-hidden layer (linear) model\n",
    "    u (scalar): first free parameter\n",
    "    v (scalar): second free parameter\n",
    "    mask_idx (tuple): selects parameter in weight matrix replaced by u\n",
    "    bias_idx (int): selects parameter in bias vector replaced by v\n",
    "\n",
    "  Returns:\n",
    "    scalar: loss of the 'new' model over inputs X, y (defined externally)\n",
    "  \"\"\"\n",
    "\n",
    "  # We zero out the element of the weight tensor that will be\n",
    "  # replaced by u\n",
    "  mask = torch.ones_like(model.main[0].weight)\n",
    "  mask[mask_idx[0], mask_idx[1]] = 0.\n",
    "  masked_weights = model.main[0].weight * mask\n",
    "\n",
    "  # u is replacing an element of the weight matrix\n",
    "  masked_weights[mask_idx[0], mask_idx[1]] = u\n",
    "\n",
    "  res = X.reshape(-1, 784) @ masked_weights.T + model.main[0].bias\n",
    "\n",
    "  # v is replacing a bias for class 7\n",
    "  res[:, 7] += v - model.main[0].bias[7]\n",
    "  res =  F.log_softmax(res, dim=1)\n",
    "\n",
    "  return loss_fn(res, y)\n",
    "\n",
    "\n",
    "def plot_surface(U, V, Z, fig):\n",
    "  \"\"\" Plot a 3D loss surface given meshed inputs U, V and values Z\n",
    "  \"\"\"\n",
    "  ax = fig.add_subplot(1, 2, 2, projection='3d')\n",
    "  ax.view_init(45, -130)\n",
    "\n",
    "  surf = ax.plot_surface(U, V, Z, cmap=plt.cm.coolwarm,\n",
    "                      linewidth=0, antialiased=True, alpha=0.5)\n",
    "\n",
    "  # Select certain level contours to plot\n",
    "  # levels = Z.min() * np.array([1.005, 1.1, 1.3, 1.5, 2.])\n",
    "  # plt.contour(U, V, Z)# levels=levels, alpha=0.5)\n",
    "\n",
    "  ax.set_xlabel('Weight')\n",
    "  ax.set_ylabel('Bias')\n",
    "  ax.set_zlabel('Loss', rotation=90)\n",
    "\n",
    "  return ax\n",
    "\n",
    "\n",
    "def plot_param_distance(best_u, best_v, trajs, fig, styles, labels, use_log=False):\n",
    "  \"\"\" Plot the distance to each of the two parameters for a collection of 'trajectories'\n",
    "  \"\"\"\n",
    "  ax = fig.add_subplot(1, 1, 1)\n",
    "\n",
    "  for traj, style, label in zip(trajs, styles, labels):\n",
    "    d0 = np.array([np.abs(_[0] - best_u) for _ in traj])\n",
    "    d1 = np.array([np.abs(_[1] - best_v) for _ in traj])\n",
    "    if use_log:\n",
    "      d0 = np.log(1e-16 + d0)\n",
    "      d1 = np.log(1e-16 + d1)\n",
    "    ax.plot(range(len(traj)), d0, style, label='weight - ' + label)\n",
    "    ax.plot(range(len(traj)), d1, style, label='bias - ' + label)\n",
    "  ax.set_xlabel('Iteration')\n",
    "  if use_log:\n",
    "    ax.set_ylabel('Log distance to optimum (per dimension)')\n",
    "    ax.set_ylim(-12, 1.5)\n",
    "  else:\n",
    "    ax.set_ylabel('Abs distance to optimum (per dimension)')\n",
    "  ax.legend(loc='right', bbox_to_anchor=(1.5, 0.5),\n",
    "            fancybox=False, shadow=False, ncol=1)\n",
    "\n",
    "  return ax\n",
    "\n",
    "\n",
    "def run_optimizer(inits, eval_fn, update_fn, max_steps=500,\n",
    "                  optim_kwargs={'lr':1e-2}, log_traj=True):\n",
    "  \"\"\"Runs an optimizer on a given objective and logs parameter trajectory\n",
    "\n",
    "  Args:\n",
    "      inits list(scalar): initialization of parameters\n",
    "      eval_fn (callable): function computing the objective to be minimized\n",
    "      update_fn (callable): function executing parameter update\n",
    "      max_steps (int): number of iterations to run\n",
    "      optim_kwargs (dict): customize optimizer hyperparameters\n",
    "\n",
    "  Returns:\n",
    "      list[list]: trajectory information [*params, loss] for each optimization step\n",
    "  \"\"\"\n",
    "\n",
    "  # Initialize parameters and optimizer\n",
    "  params = [nn.Parameter(torch.tensor(_)) for _ in inits]\n",
    "  # Methods like momentum and rmsprop keep and auxiliary vector of parameters\n",
    "  aux_tensors = [torch.zeros_like(_) for _ in params]\n",
    "  if log_traj:\n",
    "    traj = np.zeros((max_steps, len(params)+1))\n",
    "  for _ in range(max_steps):\n",
    "    # Evaluate loss\n",
    "    loss = eval_fn(*params)\n",
    "    # Store 'trajectory' information\n",
    "    if log_traj:\n",
    "      traj[_, :] = [_.item() for _ in params] + [loss.item()]\n",
    "    # Perform update\n",
    "    if update_fn == gradient_update:\n",
    "      gradient_update(loss, params, **optim_kwargs)\n",
    "    else:\n",
    "      update_fn(loss, params, aux_tensors, **optim_kwargs)\n",
    "  if log_traj:\n",
    "    return traj\n",
    "\n",
    "\n",
    "L = 4.\n",
    "xs = np.linspace(-L, L, 30)\n",
    "ys = np.linspace(-L, L, 30)\n",
    "U, V = np.meshgrid(xs, ys)\n",
    "\n",
    "# Compute loss surface\n",
    "g = lambda u, v: loss_2d(copy.deepcopy(model), u, v)\n",
    "Z = np.fromiter(map(g, U.ravel(), V.ravel()), U.dtype).reshape(V.shape)"
   ]
  },
  {
   "cell_type": "markdown",
   "metadata": {},
   "source": [
    "### Coding Exercise 4.1: Implement momentum\n",
    "\n",
    "In this exercise you will implement the momentum update given by:\n",
    "$$w_{t+1} = w_t - \\eta \\nabla J(w_t) + \\beta (w_t - w_{t-1})$$\n",
    "\n",
    "It is convenient to re-express this update rule in terms of a recursion. For that, we define 'velocity' as the quantity:\n",
    "$$v_{t-1} := w_{t} - w_{t-1},$$\n",
    "which leads to the two-step update rule:\n",
    "$$ v_t = - \\eta \\nabla J(w_t) + \\beta (\\underbrace{w_t - w_{t-1}}_{v_{t-1}})$$\n",
    "$$ w_{t+1} \\leftarrow w_t + v_{t}$$\n",
    "\n",
    "Pay attention to the positive sign of the update in the last equation, given the definition of $v_t$, above. "
   ]
  },
  {
   "cell_type": "code",
   "execution_count": null,
   "metadata": {
    "colab": {
     "base_uri": "https://localhost:8080/"
    },
    "outputId": "50abd920-a266-4fba-8cb3-4d214d76a1f2"
   },
   "outputs": [],
   "source": [
    "def momentum_update(loss, params, grad_vel, lr=1e-1, beta=0.8):\n",
    "  \"\"\"Perform a momentum update over a collection of parameters given a loss and 'velocities'\n",
    "\n",
    "  Args:\n",
    "    loss (tensor): A scalar tensor containing the loss whose gradient will be computed\n",
    "    params (iterable): Collection of parameters with respect to which we compute gradients\n",
    "    grad_vel (iterable): Collection containing the 'velocity' v_t for each parameter\n",
    "    lr (float): Scalar specifying the learning rate or step-size for the update\n",
    "    beta (float): Scalar 'momentum' parameter\n",
    "  \"\"\"\n",
    "  # Clear up gradients as Pytorch automatically accumulates gradients from\n",
    "  # successive backward calls\n",
    "  zero_grad(params)\n",
    "  # Compute gradients on given objective\n",
    "  loss.backward()\n",
    "\n",
    "  for (par, vel) in zip(params, grad_vel):\n",
    "    #################################################\n",
    "    ## TODO for students: update the value of the parameter ##\n",
    "    raise NotImplementedError(\"Student exercise: implement momentum update\")\n",
    "    #################################################\n",
    "    # Update 'velocity'\n",
    "    vel.data = ...\n",
    "    # Update parameters\n",
    "    par.data += ...\n",
    "\n",
    "\n",
    "set_seed(2021)\n",
    "model = MLP(in_dim=784, out_dim=10, hidden_dims=[])\n",
    "print('\\n The model parameters before the update are: \\n')\n",
    "print_params(model)\n",
    "loss = loss_fn(model(X), y).to(DEVICE)\n",
    "\n",
    "## Uncomment below to test your function\n",
    "# momentum_update(loss, list(model.parameters()), grad_vel=list(model.parameters()), lr=1e-2)\n",
    "# print('\\n The model parameters after the update are: \\n')\n",
    "# print_params(model)"
   ]
  },
  {
   "cell_type": "markdown",
   "metadata": {
    "colab": {
     "base_uri": "https://localhost:8080/"
    },
    "colab_type": "text",
    "outputId": "039c5bbc-a21b-4dcf-9dc5-13db9441a772"
   },
   "source": [
    "[*Click for solution*](https://github.com/NeuromatchAcademy/course-content-dl/tree/main//tutorials/W1D4_Optimization/solutions/W1D4_Tutorial1_Solution_776d30a8.py)\n",
    "\n"
   ]
  },
  {
   "cell_type": "markdown",
   "metadata": {},
   "source": [
    "```\n",
    " The model parameters after the update are: \n",
    "\n",
    "main.0.weight tensor([[-0.0424,  0.0014,  0.0276,  ...,  0.0474,  0.0442, -0.0355],\n",
    "        [-0.0067, -0.0475, -0.0141,  ..., -0.0115,  0.0404, -0.0375],\n",
    "        [ 0.0387, -0.0367,  0.0549,  ...,  0.0200,  0.0434, -0.0287],\n",
    "        ...,\n",
    "        [-0.0009,  0.0251,  0.0176,  ...,  0.0229, -0.0482, -0.0231],\n",
    "        [ 0.0286,  0.0481,  0.0405,  ..., -0.0180, -0.0283,  0.0324],\n",
    "        [ 0.0330, -0.0568, -0.0296,  ..., -0.0436,  0.0156,  0.0002]])\n",
    "main.0.bias tensor([-0.0460, -0.0047,  0.0155, -0.0526,  0.0039,  0.0340,  0.0493,  0.0392,\n",
    "         0.0263, -0.0095])\n",
    "```"
   ]
  },
  {
   "cell_type": "markdown",
   "metadata": {},
   "source": [
    "### Interactive Demo 4.1: Momentum vs GD"
   ]
  },
  {
   "cell_type": "code",
   "execution_count": null,
   "metadata": {
    "cellView": "form",
    "colab": {
     "base_uri": "https://localhost:8080/",
     "height": 145,
     "referenced_widgets": [
      "129c1b70579c42519b757fff28df9887",
      "b1b6b95744bb4fd683f42ece74ba882d",
      "5d2c6765f8004de99cc7bb55b8726f71",
      "8d653ce3f0bf477aaf4e515e199d5601",
      "080d7669e43c4454a3e09fabe19f2bf4",
      "47a5f66b9f6948eb9a5cb0994fd089dc",
      "2438519d82da483d9f1a7c9e9d197863",
      "784703dd01ea42e18f2c8241560951b3",
      "d108530bd5ac41f4a119999d4b6422a2",
      "cc2157d553624ccd94512a08518643f0",
      "78db3d921dc646c4bf93736d18c3a62d",
      "ddc5eaf447944b9db653c0e5f5019ede",
      "6a9e5114c4474e60aa4d40281f51f0a1",
      "11125d05ee0e4c57b0b687b8cf8ac8d6",
      "607cdb73c95c4572a5ab0eb6ef9c0871",
      "5fb26763f44d4edeb2c8e1d7afe4f7c7"
     ]
    },
    "outputId": "ea91e540-45e1-4c9b-a75f-154c9ff8f33d"
   },
   "outputs": [],
   "source": [
    "#@markdown The plots below show the distance to the optimum for both variables\n",
    "#@markdown accros the two methos, as well as the parameter trajectory over the loss\n",
    "#@markdown surface.\n",
    "from matplotlib.lines import Line2D\n",
    "\n",
    "\n",
    "# Find the optimum of this 2D problem using Newton's method\n",
    "def run_newton(init_list=[0., 0.], max_iter=200):\n",
    "\n",
    "  par_tensor = torch.tensor(init_list, requires_grad=True)\n",
    "  t_g = lambda par_tensor: g(par_tensor[0], par_tensor[1])\n",
    "\n",
    "  for _ in range(max_iter):\n",
    "    eval_loss = t_g(par_tensor)\n",
    "    eval_grad = torch.autograd.grad(eval_loss, [par_tensor])[0]\n",
    "    eval_hess = torch.autograd.functional.hessian(t_g, par_tensor)\n",
    "    # Newton's update is:  - inverse(Hessian) x gradient\n",
    "    par_tensor.data -= torch.inverse(eval_hess) @ eval_grad\n",
    "\n",
    "  return par_tensor.data.numpy()\n",
    "\n",
    "\n",
    "best_u, best_v  = run_newton()\n",
    "\n",
    "# Initialization of the variables\n",
    "INITS = [2.5, 3.7]\n",
    "\n",
    "# Used for plotting\n",
    "LABELS = ['GD', 'Momentum']\n",
    "COLORS = ['black', 'red']\n",
    "LSTYLES = ['-', '--']\n",
    "\n",
    "@widgets.interact_manual\n",
    "def momentum_experiment(max_steps=widgets.IntSlider(300, 50, 500, 5),\n",
    "                        lr=widgets.FloatLogSlider(value=1e-1, min=-3, max=0.7, step=0.1),\n",
    "                        beta=widgets.FloatSlider(value=9e-1, min=0, max=1., step=0.01)\n",
    "                        ):\n",
    "\n",
    "  # Execute both optimizers\n",
    "  sgd_traj = run_optimizer(INITS, eval_fn=g, update_fn=gradient_update,\n",
    "                           max_steps=max_steps, optim_kwargs={'lr': lr})\n",
    "  mom_traj = run_optimizer(INITS, eval_fn=g, update_fn=momentum_update,\n",
    "                           max_steps=max_steps, optim_kwargs={'lr': lr, 'beta':beta})\n",
    "\n",
    "  TRAJS = [sgd_traj, mom_traj]\n",
    "\n",
    "  # best_u, best_v = mom_traj[-1][0], mom_traj[-1][1]\n",
    "  # Plot distances\n",
    "  fig = plt.figure(figsize=(9,4))\n",
    "  plot_param_distance(best_u, best_v, TRAJS, fig,\n",
    "                      LSTYLES, LABELS, use_log=True)\n",
    "\n",
    "  # # Plot trajectories\n",
    "  fig = plt.figure(figsize=(12, 5))\n",
    "  ax = plot_surface(U, V, Z, fig)\n",
    "  for traj, c, label in zip(TRAJS, COLORS, LABELS):\n",
    "    ax.plot3D(*traj.T, c, linewidth=0.3, label=label)\n",
    "    ax.scatter3D(*traj.T, '.-', s=1, c=c)\n",
    "\n",
    "  # Plot optimum point\n",
    "  ax.scatter(best_u, best_v, Z.min(), marker='*', s=80, c='lime', label='Opt.');\n",
    "  lines = [Line2D([0], [0],\n",
    "                  color=c,\n",
    "                  linewidth=3,\n",
    "                  linestyle='--') for c in COLORS]\n",
    "  lines.append(Line2D([0], [0], color='lime', linewidth=0, marker='*'))\n",
    "  ax.legend(lines, LABELS + ['Optimum'], loc='right',\n",
    "            bbox_to_anchor=(.8, -0.1), ncol=len(LABELS) + 1)"
   ]
  },
  {
   "cell_type": "markdown",
   "metadata": {},
   "source": [
    "### Think!\n",
    "\n",
    "- Discuss how this specific example illustrates the issue of poor conditioning in optimization? How does momentum help resolve these difficulties?\n",
    "\n",
    "- Do you see oscillations for any of these methods? Why does this happen?\n",
    "\n",
    "- Finally, tune the learning rate and momentum parameters to achieve a loss below $10^{-6}$ (for both dimensions) within 100 iterations."
   ]
  },
  {
   "cell_type": "markdown",
   "metadata": {
    "colab_type": "text"
   },
   "source": [
    "[*Click for solution*](https://github.com/NeuromatchAcademy/course-content-dl/tree/main//tutorials/W1D4_Optimization/solutions/W1D4_Tutorial1_Solution_7d34ad08.py)\n",
    "\n"
   ]
  },
  {
   "cell_type": "markdown",
   "metadata": {},
   "source": [
    "---\n",
    "# Section 5: Non-convexity\n",
    "\n",
    "The introduction of even just 1 hidden layer in the neural network transforms the previous convex optimization problem into a non-convex one. And with great non-convexity, comes great responsibility... (Sorry, we couldn't help it!)\n",
    "\n",
    "**Note:** From this section onwards we will be dealing with non-convex optimization problems for the remaining of the tutorial. "
   ]
  },
  {
   "cell_type": "code",
   "execution_count": null,
   "metadata": {
    "cellView": "form",
    "colab": {
     "base_uri": "https://localhost:8080/",
     "height": 579,
     "referenced_widgets": [
      "dc66eea52b5149319fe5062e9b7e4bee",
      "cbc2b0771a80479ca3afad729965d500",
      "7c31fbe8160d47d58e2790568c9a4c43",
      "8107d482b40740c0a1f8fdece35bddca",
      "5dd59ec6367b45bdaac05b883f50dd3d",
      "364ba590ebba4679be26a86ece60ded9"
     ]
    },
    "outputId": "811df477-6751-47a2-d5a3-bc381453812e"
   },
   "outputs": [],
   "source": [
    "#@title Video 5: Overparametrization\n",
    "# Insert the ID of the corresponding youtube video\n",
    "from ipywidgets import widgets\n",
    "\n",
    "out2 = widgets.Output()\n",
    "with out2:\n",
    "  from IPython.display import IFrame\n",
    "  class BiliVideo(IFrame):\n",
    "    def __init__(self, id, page=1, width=400, height=300, **kwargs):\n",
    "      self.id=id\n",
    "      src = \"https://player.bilibili.com/player.html?bvid={0}&page={1}\".format(id, page)\n",
    "      super(BiliVideo, self).__init__(src, width, height, **kwargs)\n",
    "\n",
    "  video = BiliVideo(id=f\"\", width=854, height=480, fs=1)\n",
    "  print(\"Video available at https://www.bilibili.com/video/{0}\".format(video.id))\n",
    "  display(video)\n",
    "\n",
    "out1 = widgets.Output()\n",
    "with out1:\n",
    "  from IPython.display import YouTubeVideo\n",
    "  video = YouTubeVideo(id=f\"7vUpUEKKl5o\", width=854, height=480, fs=1, rel=0)\n",
    "  print(\"Video available at https://youtube.com/watch?v=\" + video.id)\n",
    "  display(video)\n",
    "\n",
    "out = widgets.Tab([out1, out2])\n",
    "out.set_title(0, 'Youtube')\n",
    "out.set_title(1, 'Bilibili')\n",
    "\n",
    "display(out)"
   ]
  },
  {
   "cell_type": "markdown",
   "metadata": {},
   "source": [
    "Take a couple of minutes to play with a more complex 3D visualization of the loss landscape of a neural network on a non-convex problem. Visit https://losslandscape.com/explorer.\n",
    "\n",
    "1. Explore the features on the bottom left corner. You can see an explanation for each icon by clicking on the [i] button located on the top right corner.\n",
    "2. Use the 'gradient descent' feature to perform a thought experiment:\n",
    "    -   Choose an initialization\n",
    "    -   Choose the learning rate\n",
    "    -   Mentally formulate your hypothesis about what kind of trajectory you expect to observe \n",
    "3. Run the experiment and contrast your intuition with the observed behavior.\n",
    "4. Repeat this experiment a handful of times for several initialization/learning rate configurations\n"
   ]
  },
  {
   "cell_type": "markdown",
   "metadata": {},
   "source": [
    "## Interactive Demo 5.1: Overparametrization to the rescue!\n",
    "\n",
    "As you may have seen, the non-convex nature of the surface can lead the optimization process to get stuck in undesirable local-optima. There is ample empirical evidence supporting the claim that 'overparameterized' models are easier to train.\n",
    "\n",
    "We will explore this assertion in the context of our MLP training. For this, we initialize a fixed model and construct several models by small random perturbations to the original initialized weights. Now, we train each of these perturbed models and see how the loss evolves. If we were in the convex setting, we should reach very similar objective values upon convergence since all these models were very close at the beginning of training, and in convex problems, every local optimum is also a global optimum.\n",
    "\n",
    "Use the interactive plot below to visualize the loss progression for these perturbed models:\n",
    "\n",
    "1. Select different settings from the `hidden_dims` drop-down menu.\n",
    "2. Explore the effect of the number of steps and learning rate."
   ]
  },
  {
   "cell_type": "code",
   "execution_count": null,
   "metadata": {
    "cellView": "form",
    "colab": {
     "base_uri": "https://localhost:8080/",
     "height": 177,
     "referenced_widgets": [
      "ab53aa5e5bcc44cb88fdb1eaf4cea7f7",
      "fc7000ec01e3401ca787b41d574fc9ae",
      "5c58f62cecc94e2d9e6e986be26b45a9",
      "79c1c924e7354d038f6fd3df50843e61",
      "9cae88bdb096421f86ff9fbebc6aa83f",
      "a04a33a8c526444989e9446d4cbced8f",
      "ec8fe3f447374f8890ea10f4c3d35854",
      "da7a263a0c6a41aaaff93f9ca263f17d",
      "b99dcafea4784beab04937e6d05af2eb",
      "8a7b733a6a754e5fbe58232d40312917",
      "8b2742bed2fa4d88ab56cfd28ff1343e",
      "05e70bf33c154e8988179e67fb5e76fd",
      "14844e69374043b6ba679cd93ae60852",
      "d4e7ea912a3249539e9f787fc13c2c08",
      "6d88d87f87c14a1e9e0ba84aa9f4e493",
      "1b0ea34134d143b2a6c877c95efe7f40",
      "2b97cf775f544bc6969ea93ce5714654",
      "ad6bb036bee24900ad10bf7e2dd8c813",
      "5d58ced1cd1548c08fb4092d348f4887"
     ]
    },
    "outputId": "6f89ef45-b290-49ae-abf1-8a7fa9182a35"
   },
   "outputs": [],
   "source": [
    "#@markdown Execute this cell to enable the widget!\n",
    "\n",
    "@widgets.interact_manual\n",
    "def overparam(max_steps=widgets.IntSlider(150, 50, 500, 5),\n",
    "              hidden_dims=widgets.Dropdown(options=[\"10\", \"20, 20\", \"100, 100\"],\n",
    "                                           value=\"10\"),\n",
    "              lr=widgets.FloatLogSlider(value=5e-2, min=-3, max=0, step=0.1),\n",
    "              num_inits=widgets.IntSlider(7, 5, 10, 1)):\n",
    "\n",
    "    X, y = train_set.data[subset_index, :], train_set.targets[subset_index]\n",
    "\n",
    "    hdims = [int(s) for s in hidden_dims.split(',')]\n",
    "    base_model = MLP(in_dim=784, out_dim=10, hidden_dims=hdims)\n",
    "\n",
    "    fig, axs = plt.subplots(1, 1, figsize=(5, 4))\n",
    "\n",
    "    for _ in range(num_inits):\n",
    "      model = copy.deepcopy(base_model)\n",
    "      random_update(model, noise_scale=2e-1)\n",
    "\n",
    "      loss_hist = np.zeros((max_steps, 2))\n",
    "      for step in range(max_steps):\n",
    "        loss = loss_fn(model(X), y)\n",
    "        gradient_update(loss, list(model.parameters()), lr=lr)\n",
    "        loss_hist[step] = np.array([step, loss.item()])\n",
    "\n",
    "      plt.plot(loss_hist[:, 0], loss_hist[:, 1])\n",
    "\n",
    "    plt.xlabel('Iteration')\n",
    "    plt.ylabel('Loss')\n",
    "    plt.ylim(0, 3);\n",
    "\n",
    "    num_params = sum([np.prod(_.shape) for _ in model.parameters()])\n",
    "    print('Number of paramaters in model:  ' + str(num_params))"
   ]
  },
  {
   "cell_type": "markdown",
   "metadata": {},
   "source": [
    "### Think!\n",
    "\n",
    "- We see that as we increase the width/depth of the network, training becomes faster and more consistent across different initializations. What might be the reasons for this behavior? \n",
    "\n",
    "- What are some potential downsides of this approach to dealing with non-convexity? \n"
   ]
  },
  {
   "cell_type": "markdown",
   "metadata": {
    "colab_type": "text"
   },
   "source": [
    "[*Click for solution*](https://github.com/NeuromatchAcademy/course-content-dl/tree/main//tutorials/W1D4_Optimization/solutions/W1D4_Tutorial1_Solution_a22756b0.py)\n",
    "\n"
   ]
  },
  {
   "cell_type": "markdown",
   "metadata": {},
   "source": [
    "---\n",
    "# Section 6: Full gradients are expensive\n",
    "\n",
    "So far we have used only a small (fixed) subset of 500 trainig examples to performe the updates on the model parameters in our quest to minimize the loss. But what if we decided to use the training set? Do our current approach scale to datasets with tens of thousands, or millions of datapoints?\n",
    "\n",
    "In this section we explore an efficient alternative to avoid having to perform computations on all the training examples before performing a parameter update."
   ]
  },
  {
   "cell_type": "code",
   "execution_count": null,
   "metadata": {
    "cellView": "form",
    "colab": {
     "base_uri": "https://localhost:8080/",
     "height": 579,
     "referenced_widgets": [
      "bbe34fd288ae40d789adf288927ff7fc",
      "e5ea54d1e8904554bc1a57004da5cc87",
      "c0497c9adced4ae4af4157340e54dffe",
      "7854ecd6df2a4a549df2092e92fb06ee",
      "f8d6bbbb09cd4aedb627dc28d06f7cf4",
      "a8359b94afd54c00aaf130480cd5018b"
     ]
    },
    "outputId": "d2321d53-0069-4678-ddcb-e5aba827a2f7"
   },
   "outputs": [],
   "source": [
    "#@title Video 6: Mini-batches\n",
    "# Insert the ID of the corresponding youtube video\n",
    "from ipywidgets import widgets\n",
    "\n",
    "out2 = widgets.Output()\n",
    "with out2:\n",
    "  from IPython.display import IFrame\n",
    "  class BiliVideo(IFrame):\n",
    "    def __init__(self, id, page=1, width=400, height=300, **kwargs):\n",
    "      self.id=id\n",
    "      src = \"https://player.bilibili.com/player.html?bvid={0}&page={1}\".format(id, page)\n",
    "      super(BiliVideo, self).__init__(src, width, height, **kwargs)\n",
    "\n",
    "  video = BiliVideo(id=f\"\", width=854, height=480, fs=1)\n",
    "  print(\"Video available at https://www.bilibili.com/video/{0}\".format(video.id))\n",
    "  display(video)\n",
    "\n",
    "out1 = widgets.Output()\n",
    "with out1:\n",
    "  from IPython.display import YouTubeVideo\n",
    "  video = YouTubeVideo(id=f\"hbqUxpNBUGk\", width=854, height=480, fs=1, rel=0)\n",
    "  print(\"Video available at https://youtube.com/watch?v=\" + video.id)\n",
    "  display(video)\n",
    "\n",
    "out = widgets.Tab([out1, out2])\n",
    "out.set_title(0, 'Youtube')\n",
    "out.set_title(1, 'Bilibili')\n",
    "\n",
    "display(out)"
   ]
  },
  {
   "cell_type": "markdown",
   "metadata": {},
   "source": [
    "## Interactive Demo 6.1: Cost of computation\n",
    "\n",
    "Evaluating a neural network is a relatively fast process. However, when repeated millions of times, the computational cost of performing forward and backwards passes through the network starts becoming significant.\n",
    "\n",
    "In the visualization below, we show the time (averaged over 5 runs) of computing a forward and backward pass with a changing number of input examples. Choose from the different options in the drop-down box and note how the vertical scale changes depending on the size of the network. \n",
    "\n",
    "**Remarks:** Note the computational cost of a forward pass follows a clear linear trend depending on the number of input examples, as well as how the cost of the corresponding backward pass has a similar computational complexity."
   ]
  },
  {
   "cell_type": "code",
   "execution_count": null,
   "metadata": {
    "cellView": "form",
    "colab": {
     "base_uri": "https://localhost:8080/",
     "height": 319,
     "referenced_widgets": [
      "6161782965d544a38efbd542ae95da83",
      "be9b044d1dee4fa3a8f0d8026cbea166",
      "a847c200103648eeb1fba1db39138bbf",
      "ac4c31aa6e68425cb4d5c0395db7b744",
      "92f50d94327042968b6081c7f2780a07",
      "02783b67e2be48b7acd2dd5933963f84",
      "e2b4b7224bcd49c786cfb7ee39f77d6e"
     ]
    },
    "outputId": "5842f1fc-14a9-4fbb-a341-e0ea133754e8"
   },
   "outputs": [],
   "source": [
    "#@markdown Execute this cell to enable the widget!\n",
    "\n",
    "def measure_update_time(model, num_points):\n",
    "  X, y = train_set.data[:num_points], train_set.targets[:num_points]\n",
    "  start_time = time.time()\n",
    "  loss = loss_fn(model(X), y)\n",
    "  loss_time = time.time()\n",
    "  gradient_update(loss, list(model.parameters()), lr=0)\n",
    "  gradient_time = time.time()\n",
    "  return loss_time - start_time, gradient_time - loss_time\n",
    "\n",
    "\n",
    "@widgets.interact\n",
    "def computation_time(hidden_dims=widgets.Dropdown(options=[\"1\", \"100\", \"50, 50\"],\n",
    "                                                  value=\"100\")):\n",
    "\n",
    "  hdims = [int(s) for s in hidden_dims.split(',')]\n",
    "  model = MLP(in_dim=784, out_dim=10, hidden_dims=hdims)\n",
    "\n",
    "  NUM_POINTS = [1, 5, 10, 100, 200, 500, 1000, 5000, 10000, 20000, 30000, 50000]\n",
    "  times_list = []\n",
    "  for _ in range(5):\n",
    "    times_list.append(np.array([measure_update_time(model, _) for _ in NUM_POINTS]))\n",
    "\n",
    "  times = np.array(times_list).mean(axis=0)\n",
    "\n",
    "  fig, axs = plt.subplots(1, 1, figsize=(5,4))\n",
    "  plt.plot(NUM_POINTS, times[:, 0], label='Forward')\n",
    "  plt.plot(NUM_POINTS, times[:, 1], label='Backward')\n",
    "  plt.xlabel('Number of data points')\n",
    "  plt.ylabel('Seconds')\n",
    "  plt.legend()"
   ]
  },
  {
   "cell_type": "markdown",
   "metadata": {},
   "source": [
    "### Coding Exercise 6.1: Implement minibatch sampling\n",
    "\n",
    "Complete the code in `sample_minibatch` so as to produce IID subsets of the training set of the desired size. (This is _not_ a trick question.) "
   ]
  },
  {
   "cell_type": "code",
   "execution_count": null,
   "metadata": {},
   "outputs": [],
   "source": [
    "def sample_minibatch(input_data, target_data, num_points=100):\n",
    "  \"\"\"Sample a minibatch of size num_point from the provided input-target data\n",
    "\n",
    "  Args:\n",
    "    input_data (tensor): Multi-dimensional tensor containing the input data\n",
    "    input_data (tensor): 1D tensor containing the class labels\n",
    "    num_points (int): Number of elements to be included in minibatch\n",
    "\n",
    "  Returns:\n",
    "    batch_inputs (tensor): Minibatch inputs\n",
    "    batch_targets (tensor): Minibatch targets\n",
    "  \"\"\"\n",
    "  #################################################\n",
    "  ## TODO for students: sample minibatch of data ##\n",
    "  raise NotImplementedError(\"Student exercise: implement gradient update\")\n",
    "  #################################################\n",
    "  # Sample a collection of IID indices from the existing data\n",
    "  batch_indices = ...\n",
    "  # Use batch_indices to extract entries from the input and target data tensors\n",
    "  batch_inputs = input_data[...]\n",
    "  batch_targets = target_data[...]\n",
    "\n",
    "  return batch_inputs, batch_targets\n",
    "\n",
    "\n",
    "## Uncomment to test your function\n",
    "# x_batch, y_batch = sample_minibatch(X, y, num_points=100)\n",
    "# print(f\"The input shape is {x_batch.shape} and the target shape is: {y_batch.shape}\")"
   ]
  },
  {
   "cell_type": "markdown",
   "metadata": {
    "colab": {
     "base_uri": "https://localhost:8080/"
    },
    "colab_type": "text",
    "outputId": "35dc7eaf-4bc1-4bcb-eb22-75130a9b68aa"
   },
   "source": [
    "[*Click for solution*](https://github.com/NeuromatchAcademy/course-content-dl/tree/main//tutorials/W1D4_Optimization/solutions/W1D4_Tutorial1_Solution_c16d34cc.py)\n",
    "\n"
   ]
  },
  {
   "cell_type": "markdown",
   "metadata": {},
   "source": [
    "```\n",
    "The input shape is torch.Size([100, 28, 28]) and the target shape is: torch.Size([100])\n",
    "```"
   ]
  },
  {
   "cell_type": "markdown",
   "metadata": {},
   "source": [
    "### Interactive Demo 6.2: *Compare* different minibatch sizes\n",
    "\n",
    "What are the trade-offs induced by the choice of minibatch size? The interactive plot below shows the training evolution of a 2-hidden layer MLP with 100 hidden units in each hidden layer. Different plots correspond to a different choice of minibatch size. We have a fixed time budget for all the cases, reflected in the horizontal axes of these plots."
   ]
  },
  {
   "cell_type": "code",
   "execution_count": null,
   "metadata": {
    "cellView": "form",
    "colab": {
     "base_uri": "https://localhost:8080/",
     "height": 146,
     "referenced_widgets": [
      "8abc86aaa09645689e1f3e5d9c7b081b",
      "358ba3abec3c42cb901cff81f067ce47",
      "f4718c8095064e769758670df1f47765",
      "5c969817ede84f25921c23601bf3a6b5",
      "6e4ecf7cc303420f952e68428e63989f",
      "d1a16311893946b2ac1444b6fd481db3",
      "266c04f3c72543c69656c0f2dbe58bb8",
      "0720635c8482490c860431a476760a2a",
      "ee9a740d6cca4497a79c576b76a1a9e9",
      "b89e40ab26844ebaa10768ca3cb36db0",
      "f0e89b446b414e54bc899f17ddc5fa81",
      "c3e228cef8d04d2cbfe19ad272df4853",
      "c9323e5eec1641a08da36410d1d1d6c6",
      "40978f5c5502484d82363fd48b8fd89e",
      "75e4bff3e69f400a8b94b5c3076a7350",
      "639cccf6d8af4ae68c57375f827eb2a6"
     ]
    },
    "outputId": "fc1b27b1-61bd-4179-e455-fc771528cd1d"
   },
   "outputs": [],
   "source": [
    "#@markdown Execute this cell to enable the widget!\n",
    "\n",
    "@widgets.interact_manual\n",
    "def minibatch_experiment(batch_sizes='20, 250, 1000',\n",
    "                         lrs='5e-3, 5e-3, 5e-3',\n",
    "                         time_budget=widgets.Dropdown(options=[\"2.5\", \"5\", \"10\"],\n",
    "                                                      value=\"2.5\")):\n",
    "\n",
    "  batch_sizes = [int(s) for s in batch_sizes.split(',')]\n",
    "  lrs = [float(s) for s in lrs.split(',')]\n",
    "\n",
    "  LOSS_HIST = {_:[] for _ in batch_sizes}\n",
    "\n",
    "  X, y = train_set.data, train_set.targets\n",
    "  base_model = MLP(in_dim=784, out_dim=10, hidden_dims=[100, 100])\n",
    "\n",
    "  for id, batch_size in enumerate(batch_sizes):\n",
    "    start_time = time.time()\n",
    "    # Create a new copy of the model for each batch size\n",
    "    model = copy.deepcopy(base_model)\n",
    "    params = list(model.parameters())\n",
    "    lr = lrs[id]\n",
    "    # Fixed budget per choice of batch size\n",
    "    while (time.time() - start_time) < float(time_budget):\n",
    "      data, labels = sample_minibatch(X, y, batch_size)\n",
    "      loss = loss_fn(model(data), labels)\n",
    "      gradient_update(loss, params, lr=lr)\n",
    "      LOSS_HIST[batch_size].append([time.time() - start_time,\n",
    "                                    loss.item()])\n",
    "\n",
    "  fig, axs = plt.subplots(1, len(batch_sizes), figsize=(10, 3))\n",
    "  for ax, batch_size in zip(axs, batch_sizes):\n",
    "    plot_data = np.array(LOSS_HIST[batch_size])\n",
    "    ax.plot(plot_data[:, 0], plot_data[:, 1], label=batch_size,\n",
    "            alpha=0.8)\n",
    "    ax.set_title('Batch size: ' + str(batch_size))\n",
    "    ax.set_xlabel('Seconds')\n",
    "    ax.set_ylabel('Loss')"
   ]
  },
  {
   "cell_type": "markdown",
   "metadata": {},
   "source": [
    "**Remarks:** SGD works! We have an algorithm that can be applied (with the due precautions) to learn datasets of arbitrary size. \n",
    "\n",
    "However, **note the diference in the vertical scale** across the plots above. When using a larger minibatch, we can perform fewer parameter updates as the forward and backward passes are more expensive.\n",
    "\n",
    "This highlights the interplay between the minibatch size and the learning rate: when our minibatch is larger, we have a more confident estimator of the direction to move, and thus can afford a larger learning rate. On the other hand, extremely small minibatches are very fast computationally but are not representative of the data distribution and yield estimations of the gradient with high variance.\n",
    "\n",
    "We encourage you to tune the value of the learning rate for each of the minibatch sizes in the previous demo, to achieve a training loss steadily below 0.5 within 5 seconds."
   ]
  },
  {
   "cell_type": "markdown",
   "metadata": {},
   "source": [
    "---\n",
    "# Section 7: Adaptive methods\n",
    "\n",
    "As of now, you should be aware that there are many knobs to turn when working on a machine learning problem. Some of these relate to the optimization algorithm, to the choice of model, or to the objective to minimize. Here are some prototypical examples:\n",
    "\n",
    "- Problem: loss function, regularization coefficients (Day 5)\n",
    "- Model: architecture, activations function\n",
    "- Optimizer: learning rate, batch size, momentum coefficient\n",
    "\n",
    "We concentrate on the choices that are directly related with optimization. In particular, we will explore some _automatic_ methods for setting the learning rate, in a way that fixes the poor-conditioning problem and is robust across different problems."
   ]
  },
  {
   "cell_type": "code",
   "execution_count": null,
   "metadata": {
    "cellView": "form",
    "colab": {
     "base_uri": "https://localhost:8080/",
     "height": 579,
     "referenced_widgets": [
      "96666ac6126b4dc4a078699d87646264",
      "c65d46ff3a754d5eb0b1d57f69f04213",
      "73f9ae16ef1d4e86ac1ec17fd80fa55b",
      "05b82aacddae4e0bb60ab44769442003",
      "3b6a9238bc194b8a8162347b1bf9b581",
      "a889fe604f5340ebabf16cf0fac992f3"
     ]
    },
    "outputId": "9a59c894-54bb-4eab-c159-74f4493ad90e"
   },
   "outputs": [],
   "source": [
    "#@title Video 7: Adaptive Methods\n",
    "# Insert the ID of the corresponding youtube video\n",
    "from ipywidgets import widgets\n",
    "\n",
    "out2 = widgets.Output()\n",
    "with out2:\n",
    "  from IPython.display import IFrame\n",
    "  class BiliVideo(IFrame):\n",
    "    def __init__(self, id, page=1, width=400, height=300, **kwargs):\n",
    "      self.id=id\n",
    "      src = \"https://player.bilibili.com/player.html?bvid={0}&page={1}\".format(id, page)\n",
    "      super(BiliVideo, self).__init__(src, width, height, **kwargs)\n",
    "\n",
    "  video = BiliVideo(id=f\"\", width=854, height=480, fs=1)\n",
    "  print(\"Video available at https://www.bilibili.com/video/{0}\".format(video.id))\n",
    "  display(video)\n",
    "\n",
    "out1 = widgets.Output()\n",
    "with out1:\n",
    "  from IPython.display import YouTubeVideo\n",
    "  video = YouTubeVideo(id=f\"Zr6r2kfmQUM\", width=854, height=480, fs=1, rel=0)\n",
    "  print(\"Video available at https://youtube.com/watch?v=\" + video.id)\n",
    "  display(video)\n",
    "\n",
    "out = widgets.Tab([out1, out2])\n",
    "out.set_title(0, 'Youtube')\n",
    "out.set_title(1, 'Bilibili')\n",
    "\n",
    "display(out)"
   ]
  },
  {
   "cell_type": "markdown",
   "metadata": {},
   "source": [
    "### Coding Exercise 7.1: Implement RMSprop\n",
    "\n",
    "In this exercise you will implement the update of the RMSprop optimizer:\n",
    "\n",
    "$$ w_{t+1} = w_t - \\eta \\frac{\\nabla J(w_t)}{\\sqrt{v_t + \\epsilon}}$$\n",
    "\n",
    "$$ v_{t+1} = \\alpha v_t + (1 - \\alpha) \\nabla J(w_t)^2,$$\n",
    "\n",
    "where the non-standard operations (division of two vectors, squaring a vector, etc) are to be interpreted as element-wise operations, i.e., the operation is applied to each (pair of) entry[ies] of the vector(s) considered as real number(s).\n",
    "\n",
    "Here, the $\\epsilon$ hyperparameter provides numerical estability to the algorithm, by preventing the learning rate to become too big when $v_t$ is small. Typically, we set $\\epsilon$ to a default small value, like $10^{-8}$.  "
   ]
  },
  {
   "cell_type": "code",
   "execution_count": null,
   "metadata": {
    "colab": {
     "base_uri": "https://localhost:8080/"
    },
    "outputId": "0eb80e8a-99b3-4983-b0ac-d2f04a035b7a"
   },
   "outputs": [],
   "source": [
    "def rmsprop_update(loss, params, grad_sq, lr=1e-1, alpha=0.8):\n",
    "  \"\"\"Perform an RMSprop update on a collection of parameters\n",
    "\n",
    "  Args:\n",
    "    loss (tensor): A scalar tensor containing the loss whose gradient will be computed\n",
    "    params (iterable): Collection of parameters with respect to which we compute gradients\n",
    "    grad_sq (iterable): Moving average of squared gradients\n",
    "    lr (float): Scalar specifying the learning rate or step-size for the update\n",
    "    alpha (float): Moving average parameter\n",
    "  \"\"\"\n",
    "  # Clear up gradients as Pytorch automatically accumulates gradients from\n",
    "  # successive backward calls\n",
    "  zero_grad(params)\n",
    "  # Compute gradients on given objective\n",
    "  loss.backward()\n",
    "\n",
    "  for (par, gsq) in zip(params, grad_sq):\n",
    "    #################################################\n",
    "    ## TODO for students: update the value of the parameter ##\n",
    "    # Use gsq.data and par.grad\n",
    "    raise NotImplementedError(\"Student exercise: implement gradient update\")\n",
    "    #################################################\n",
    "    # Update estimate of gradient variance\n",
    "    gsq.data = ...\n",
    "    # Update parameters\n",
    "    par.data -= ...\n",
    "\n",
    "\n",
    "set_seed(2021)\n",
    "model = MLP(in_dim=784, out_dim=10, hidden_dims=[])\n",
    "print('\\n The model parameters before the update are: \\n')\n",
    "print_params(model)\n",
    "loss = loss_fn(model(X), y).to(DEVICE)\n",
    "grad_sq = [0.0001*i for i in list(model.parameters())]\n",
    "\n",
    "## Uncomment below to test your function\n",
    "# rmsprop_update(loss, list(model.parameters()), grad_sq=grad_sq, lr=1e-2)\n",
    "# print('\\n The model parameters after the update are: \\n')\n",
    "# print_params(model)"
   ]
  },
  {
   "cell_type": "markdown",
   "metadata": {
    "colab": {
     "base_uri": "https://localhost:8080/"
    },
    "colab_type": "text",
    "outputId": "c2a66f45-db00-471a-90bf-a873748abd83"
   },
   "source": [
    "[*Click for solution*](https://github.com/NeuromatchAcademy/course-content-dl/tree/main//tutorials/W1D4_Optimization/solutions/W1D4_Tutorial1_Solution_cebea3c4.py)\n",
    "\n"
   ]
  },
  {
   "cell_type": "markdown",
   "metadata": {},
   "source": [
    "```\n",
    " The model parameters after the update are: \n",
    "\n",
    "main.0.weight tensor([[-0.0509, -0.0213, -0.0039,  ...,  0.0092,  0.0071, -0.0462],\n",
    "        [-0.0265, -0.0526, -0.0312,  ..., -0.0296,  0.0037, -0.0462],\n",
    "        [ 0.0453,  0.0006,  0.0550,  ...,  0.0341,  0.0481,  0.0053],\n",
    "        ...,\n",
    "        [-0.0229, -0.0051, -0.0102,  ..., -0.0065, -0.0566, -0.0385],\n",
    "        [-0.0040,  0.0083,  0.0035,  ..., -0.0335, -0.0401, -0.0016],\n",
    "        [-0.0012, -0.0584, -0.0410,  ..., -0.0500, -0.0122, -0.0220]])\n",
    "main.0.bias tensor([-0.0063,  0.0190, -0.0123, -0.0544,  0.0245, -0.0002,  0.0509,  0.0462,\n",
    "         0.0383,  0.0160])\n",
    "```"
   ]
  },
  {
   "cell_type": "markdown",
   "metadata": {},
   "source": [
    "### Interactive Demo 7.1: Compare optimizers\n",
    "\n",
    "Below, we compare your implementations of SGD, momentum and RMSprop. If you have successfully coded all the exercises so far: congrats! You are now *in the know* of some of the most commonly used and powerful tools of optimization for deep learning. "
   ]
  },
  {
   "cell_type": "code",
   "execution_count": null,
   "metadata": {
    "cellView": "form",
    "colab": {
     "base_uri": "https://localhost:8080/",
     "height": 310,
     "referenced_widgets": [
      "c5143e30564649fba33138e61641238a",
      "163848751e0d45b38ddd52b4facaaec8",
      "6abacc3c817d4b01a9a1ab471308a428",
      "87295d973ea54541a30109310f914e3f",
      "16a27efe984d48fa94fec0d3045a9f33",
      "3bc68845b2d14a75a16b850d1da88b46",
      "d216dc85b95e4458941508d7441679de",
      "3417c36b4a624ff7a78330382d676891",
      "ed1d604c329d437cb0041714fbdf411d",
      "236f46c46080407aaeb0a04e39246f95",
      "fcb9c93469994aa195a1ee42b3eaf7e5",
      "6d723de62e05423599db6623180df79b",
      "77839444496c4fbe96ff64081e433675"
     ]
    },
    "outputId": "422d399a-ee37-42fb-f7ec-e9b78e29c5ff"
   },
   "outputs": [],
   "source": [
    "#@markdown Execute this cell to enable the widget!\n",
    "\n",
    "X, y = train_set.data, train_set.targets\n",
    "\n",
    "@widgets.interact\n",
    "def compare_optimizers(batch_size=(25, 250, 5),\n",
    "                       lr=widgets.FloatLogSlider(value=2e-3, min=-5, max=0),\n",
    "                       max_steps=(50, 500, 5)):\n",
    "\n",
    "  SGD_DICT = [gradient_update, 'SGD', 'black', '-', {'lr': lr}]\n",
    "  MOM_DICT = [momentum_update, 'Momentum', 'red', '--', {'lr': lr, 'beta': 0.9}]\n",
    "  RMS_DICT = [rmsprop_update, 'RMSprop', 'fuchsia', '-', {'lr': lr, 'alpha': 0.8}]\n",
    "\n",
    "  ALL_DICTS = [SGD_DICT, MOM_DICT, RMS_DICT]\n",
    "\n",
    "  base_model = MLP(in_dim=784, out_dim=10, hidden_dims=[100, 100])\n",
    "\n",
    "  LOSS_HIST = {}\n",
    "\n",
    "  for opt_dict in ALL_DICTS:\n",
    "    update_fn, opt_name, color, lstyle, kwargs = opt_dict\n",
    "    LOSS_HIST[opt_name] = []\n",
    "\n",
    "    model = copy.deepcopy(base_model)\n",
    "    params = list(model.parameters())\n",
    "\n",
    "    if opt_name != 'SGD':\n",
    "      aux_tensors = [torch.zeros_like(_) for _ in params]\n",
    "\n",
    "    for step in range(max_steps):\n",
    "      data, labels = sample_minibatch(X, y, batch_size)\n",
    "      loss = loss_fn(model(data), labels)\n",
    "      if opt_name == 'SGD':\n",
    "        update_fn(loss, params, **kwargs)\n",
    "      else:\n",
    "        update_fn(loss, params, aux_tensors, **kwargs)\n",
    "      LOSS_HIST[opt_name].append(loss.item())\n",
    "\n",
    "  fig, axs = plt.subplots(1, len(ALL_DICTS), figsize=(9, 3))\n",
    "\n",
    "  for ax, optim_dict in zip(axs, ALL_DICTS):\n",
    "    opt_name = optim_dict[1]\n",
    "    ax.plot(range(max_steps), LOSS_HIST[opt_name], alpha=0.8)\n",
    "    ax.set_title(opt_name)\n",
    "    ax.set_xlabel('Iteration')\n",
    "    ax.set_ylabel('Loss')\n",
    "    ax.set_ylim(0, 2.5)"
   ]
  },
  {
   "cell_type": "markdown",
   "metadata": {},
   "source": [
    "#### **Discussion**\n",
    "\n",
    "Tune the 3 methods above in order to make each individually excel and discuss your findings. How do the methods compare in terms of robustness to small changes of the hyperparameters? How easy was it to find a good hyperparameter configuration? "
   ]
  },
  {
   "cell_type": "markdown",
   "metadata": {},
   "source": [
    "\n",
    "**Remarks:** Note that RMSprop is allowing us to use a 'per-dimension' learning rate _without having to tune one learning rate for each dimension **ourselves**_. The method uses information collected about the variance of the gradients throughout training to **adapt** the step size for each of the parameters automatically. The savings in tuning efforts of RMSprop over SGD or 'plain' momentum are undisputed on this task. \n",
    "\n",
    "Moreover, adaptive optimization methods are currently a highly active research domain, with many related algorithms like Adam, AMSgrad, Adagrad being used in practical application and theoretically investigated. "
   ]
  },
  {
   "cell_type": "markdown",
   "metadata": {},
   "source": [
    "---\n",
    "# Section 8: Putting it all together\n",
    "\n",
    "We have progressively built a sophisticated optimization algorithm which is able to deal with a non-convex, poor-conditioned problem concerning tens of thousands of training examples. Now we present _you_ with a small challenge: beat us! :P\n",
    "\n",
    "Your mission is to train an MLP model that can compete with a benchmark model which we have pre-trained for you. In this section you will be able to use the full Pytorch power: loading the data, defining the model, sampling minibatches as well as Pytorch's **optimizer implementations**. \n",
    "\n",
    "There is a big engineering component behind the design of optimizers and their implementation can sometimes become tricky. So unless you are directly doing research in optimization, it's recommended to use an implementation provided by a widely reviewed open-source library."
   ]
  },
  {
   "cell_type": "code",
   "execution_count": null,
   "metadata": {
    "cellView": "form",
    "colab": {
     "base_uri": "https://localhost:8080/",
     "height": 579,
     "referenced_widgets": [
      "07eab1c896de4faeb0ba38b3d5f3339a",
      "9cc2b82939014963bafd2290e42f5005",
      "3745fd3f46a44d7a8d7d817a3c66b21f",
      "338b042e26da456eab7d4196ff9a61aa",
      "e036dc894a8b40219aef2734014c006f",
      "bedcad3b95874bbfa5f741056042083c"
     ]
    },
    "outputId": "71eb7e48-771e-4276-cc1d-55009ebe422c"
   },
   "outputs": [],
   "source": [
    "#@title Video 8: Putting it all together\n",
    "# Insert the ID of the corresponding youtube video\n",
    "from ipywidgets import widgets\n",
    "\n",
    "out2 = widgets.Output()\n",
    "with out2:\n",
    "  from IPython.display import IFrame\n",
    "  class BiliVideo(IFrame):\n",
    "    def __init__(self, id, page=1, width=400, height=300, **kwargs):\n",
    "      self.id=id\n",
    "      src = \"https://player.bilibili.com/player.html?bvid={0}&page={1}\".format(id, page)\n",
    "      super(BiliVideo, self).__init__(src, width, height, **kwargs)\n",
    "\n",
    "  video = BiliVideo(id=f\"\", width=854, height=480, fs=1)\n",
    "  print(\"Video available at https://www.bilibili.com/video/{0}\".format(video.id))\n",
    "  display(video)\n",
    "\n",
    "out1 = widgets.Output()\n",
    "with out1:\n",
    "  from IPython.display import YouTubeVideo\n",
    "  video = YouTubeVideo(id=f\"DP9c13vLiOM\", width=854, height=480, fs=1, rel=0)\n",
    "  print(\"Video available at https://youtube.com/watch?v=\" + video.id)\n",
    "  display(video)\n",
    "\n",
    "out = widgets.Tab([out1, out2])\n",
    "out.set_title(0, 'Youtube')\n",
    "out.set_title(1, 'Bilibili')\n",
    "\n",
    "display(out)"
   ]
  },
  {
   "cell_type": "code",
   "execution_count": null,
   "metadata": {
    "colab": {
     "base_uri": "https://localhost:8080/"
    },
    "outputId": "7ae01194-7115-453d-ad61-0e061aaf0ada"
   },
   "outputs": [],
   "source": [
    "DEVICE = set_device()\n",
    "\n",
    "# Download parameters of the benchmark model\n",
    "import urllib.request\n",
    "file_url = \"https://gallego-posada.github.io/resources/benchmark_model.pt\"\n",
    "urllib.request.urlretrieve(file_url, \"benchmark_model.pt\")\n",
    "\n",
    "# Load the benchmark model's parameters\n",
    "if DEVICE == \"cuda\":\n",
    "  benchmark_state_dict = torch.load('benchmark_model.pt')\n",
    "else:\n",
    "  benchmark_state_dict = torch.load('benchmark_model.pt',\n",
    "                                    map_location=torch.device('cpu'))\n",
    "\n",
    "# Create MLP object and update weights with those of saved model\n",
    "benchmark_model = MLP(in_dim=784, out_dim=10, hidden_dims=[200, 100, 50])\n",
    "benchmark_model.load_state_dict(benchmark_state_dict)\n",
    "\n",
    "# Define helper function to evaluate models\n",
    "def eval_model(model, data_loader, num_batches=np.inf):\n",
    "\n",
    "  loss_log, acc_log = [], []\n",
    "  device = set_device()\n",
    "  model.to(device=device)\n",
    "\n",
    "  # We are just evaluating the model, no need to compute gradients\n",
    "  with torch.no_grad():\n",
    "    for batch_id, batch in enumerate(data_loader):\n",
    "      # If we only evaluate a number of batches, stop after we reach that number\n",
    "      if batch_id > num_batches:\n",
    "        break\n",
    "      # Extract minibatch data\n",
    "      data, labels = batch[0].to(device), batch[1].to(device)\n",
    "      # Evaluate model and loss on minibatch\n",
    "      preds = model(data)\n",
    "      loss_log.append(loss_fn(preds, labels).item())\n",
    "      acc_log.append(torch.mean(1. * (preds.argmax(dim=1) == labels)).item())\n",
    "\n",
    "  return np.mean(loss_log), np.mean(acc_log)"
   ]
  },
  {
   "cell_type": "markdown",
   "metadata": {},
   "source": [
    "We define an optimizer in the following steps:\n",
    "\n",
    "1. Load  the corresponding class that implements the parameter updates and other internal management activities, including:\n",
    "    - create auxiliary variables,\n",
    "    - update moving averages,\n",
    "    - adjust learning rate.\n",
    "2. Pass the parameters of the Pytorch model that the optimizer has control over. Note that different parameter groups can potentially be controlled by different optimizers.\n",
    "3. Specify hyperparameters, including learning rate, momentum, moving average factors, etc.\n",
    "\n"
   ]
  },
  {
   "cell_type": "markdown",
   "metadata": {},
   "source": [
    "### Coding Exercise 8.1: Train your own model\n",
    "\n",
    "Now, train the model with your preferred optimizer and find a good combination of hyperparameter settings."
   ]
  },
  {
   "cell_type": "code",
   "execution_count": null,
   "metadata": {},
   "outputs": [],
   "source": [
    "#################################################\n",
    "## TODO for students: adjust training settings ##\n",
    "\n",
    "# The three parameters below are in your full control\n",
    "MAX_EPOCHS = 2 #select number of epochs to train\n",
    "LR = 1e-5 #choose the step size\n",
    "BATCH_SIZE = 64 #number of examples per minibatch\n",
    "\n",
    "# Define the model and associated optimizer -- you may change its architecture!\n",
    "model = MLP(in_dim=784, out_dim=10, hidden_dims=[20, 50, 20])\n",
    "\n",
    "if DEVICE == \"cuda\":\n",
    "  model.cuda()\n",
    "\n",
    "# You can take your pick from many different optimizers\n",
    "# Check the optimizer documentation and hyperparameter meaning before using!\n",
    "# More details on Pytorch optimizers: https://pytorch.org/docs/stable/optim.html\n",
    "# optimizer = torch.optim.SGD(model.parameters(), lr=LR, momentum=0.9)\n",
    "# optimizer = torch.optim.RMSprop(model.parameters(), lr=LR, alpha=0.99)\n",
    "# optimizer = torch.optim.Adagrad(model.parameters(), lr=LR)\n",
    "optimizer = torch.optim.Adam(model.parameters(), lr=LR)\n",
    "#################################################"
   ]
  },
  {
   "cell_type": "code",
   "execution_count": null,
   "metadata": {
    "colab": {
     "base_uri": "https://localhost:8080/"
    },
    "outputId": "8e3ab7d7-d70f-42f4-83d5-21515e617c8e"
   },
   "outputs": [],
   "source": [
    "# Print trainig stats every LOG_FREQ minibatches\n",
    "LOG_FREQ = 200\n",
    "\n",
    "# Frequency for evaluating the validation metrics\n",
    "VAL_FREQ = 200\n",
    "\n",
    "# Load data using a Pytorch Dataset\n",
    "train_set, test_set = load_mnist_data(change_tensors=False)\n",
    "\n",
    "# We separate 10.000 training samples to create a validation set\n",
    "train_set, val_set = torch.utils.data.random_split(train_set, [50000, 10000])\n",
    "\n",
    "# Create the corresponding DataLoaders for training and test\n",
    "train_loader = torch.utils.data.DataLoader(train_set, shuffle=True, batch_size=BATCH_SIZE)\n",
    "val_loader = torch.utils.data.DataLoader(val_set, shuffle=True, batch_size=256)\n",
    "test_loader = torch.utils.data.DataLoader(test_set, batch_size=256)\n",
    "\n",
    "# Run training\n",
    "metrics = {'train_loss':[], 'train_acc':[], 'val_loss':[], 'val_acc':[], 'val_idx':[]}\n",
    "step_idx = 0\n",
    "for epoch in range(MAX_EPOCHS):\n",
    "\n",
    "  running_loss, running_acc = 0., 0.\n",
    "\n",
    "  for batch_id, batch in enumerate(train_loader):\n",
    "    step_idx += 1\n",
    "    # Extract minibatch data and labels\n",
    "    data, labels = batch[0].to(DEVICE), batch[1].to(DEVICE)\n",
    "    # Just like before, refresh gradient accumulators.\n",
    "    # Note that this is now a method of the optimizer.\n",
    "    optimizer.zero_grad()\n",
    "    # Evaluate model and loss on minibatch\n",
    "    preds = model(data)\n",
    "    loss = loss_fn(preds, labels)\n",
    "    acc = torch.mean(1.0 * (preds.argmax(dim=1) == labels))\n",
    "    # Compute gradients\n",
    "    loss.backward()\n",
    "    # Update parameters\n",
    "    # Note how all the magic in the update of the parameters is encapsulated by\n",
    "    # the optimizer class.\n",
    "    optimizer.step()\n",
    "    # Log metrics for plotting\n",
    "    metrics['train_loss'].append(loss.cpu().item())\n",
    "    metrics['train_acc'].append(acc.cpu().item())\n",
    "\n",
    "    if batch_id % VAL_FREQ == (VAL_FREQ-1):\n",
    "      # Get an estimate of the validation accuracy with 100 batches\n",
    "      val_loss, val_acc = eval_model(model, val_loader, 100)\n",
    "      metrics['val_idx'].append(step_idx)\n",
    "      metrics['val_loss'].append(val_loss)\n",
    "      metrics['val_acc'].append(val_acc)\n",
    "\n",
    "      print('[VALID] Epoch %d - Batch %d - Loss: %.3f - Acc: %.3f' %\n",
    "            (epoch + 1, batch_id + 1, val_loss, 100*val_acc))\n",
    "\n",
    "    # print statistics\n",
    "    running_loss += loss.cpu().item()\n",
    "    running_acc += acc.cpu().item()\n",
    "    if batch_id % LOG_FREQ == (LOG_FREQ-1): # Print every LOG_FREQ minibatches\n",
    "      print('[TRAIN] Epoch %d - Batch %d - Loss: %.3f - Acc: %.3f' %\n",
    "            (epoch + 1, batch_id + 1, running_loss / LOG_FREQ, 100 * running_acc / LOG_FREQ))\n",
    "      running_loss, running_acc = 0., 0."
   ]
  },
  {
   "cell_type": "code",
   "execution_count": null,
   "metadata": {
    "colab": {
     "base_uri": "https://localhost:8080/",
     "height": 303
    },
    "outputId": "e7860366-3ce8-4ec0-d8da-d7eeea16b378"
   },
   "outputs": [],
   "source": [
    "fig, ax = plt.subplots(1, 2, figsize=(10, 4))\n",
    "\n",
    "ax[0].plot(range(len(metrics['train_loss'])), metrics['train_loss'],\n",
    "           alpha=0.8, label='Train')\n",
    "ax[0].plot(metrics['val_idx'], metrics['val_loss'], label='Valid')\n",
    "ax[0].set_xlabel('Iteration')\n",
    "ax[0].set_ylabel('Loss')\n",
    "ax[0].legend()\n",
    "\n",
    "ax[1].plot(range(len(metrics['train_acc'])), metrics['train_acc'],\n",
    "           alpha=0.8, label='Train')\n",
    "ax[1].plot(metrics['val_idx'], metrics['val_acc'], label='Valid')\n",
    "ax[1].set_xlabel('Iteration')\n",
    "ax[1].set_ylabel('Accuracy')\n",
    "ax[1].legend()"
   ]
  },
  {
   "cell_type": "markdown",
   "metadata": {},
   "source": [
    "### Think!\n",
    "\n",
    "Which metric did you optimize when searching for the right configuration? The training set loss? Accuracy? Validation/test set metrics? Why? Discuss!"
   ]
  },
  {
   "cell_type": "markdown",
   "metadata": {
    "colab_type": "text"
   },
   "source": [
    "[*Click for solution*](https://github.com/NeuromatchAcademy/course-content-dl/tree/main//tutorials/W1D4_Optimization/solutions/W1D4_Tutorial1_Solution_fb3af294.py)\n",
    "\n"
   ]
  },
  {
   "cell_type": "markdown",
   "metadata": {},
   "source": [
    "### Evaluation\n",
    "\n",
    "We _finally_ can evaluate and compare the performance of the models on previously unseen examples. \n",
    "\n",
    "Which model would you keep? (\\*drum roll*)    "
   ]
  },
  {
   "cell_type": "code",
   "execution_count": null,
   "metadata": {
    "colab": {
     "base_uri": "https://localhost:8080/"
    },
    "outputId": "e191a3d2-1dfa-4aae-a5e0-6e7dd55b94bf"
   },
   "outputs": [],
   "source": [
    "print('Your model')\n",
    "train_loss, train_accuracy = eval_model(model, train_loader)\n",
    "test_loss, test_accuracy = eval_model(model, test_loader)\n",
    "print('Train/Test Loss %.3f %.3f' % (train_loss, test_loss))\n",
    "print('Train/Test Accuracy %.3f %.3f' % (100*train_accuracy, 100*test_accuracy))\n",
    "\n",
    "print('\\nBenchmark model')\n",
    "train_loss, train_accuracy = eval_model(benchmark_model, train_loader)\n",
    "test_loss, test_accuracy = eval_model(benchmark_model, test_loader)\n",
    "print('Train/Test Loss %.3f %.3f' % (train_loss, test_loss))\n",
    "print('Train/Test Accuracy %.3f %.3f' % (100*train_accuracy, 100*test_accuracy))"
   ]
  },
  {
   "cell_type": "markdown",
   "metadata": {},
   "source": [
    "---\n",
    "# Section 9: Ethical concerns"
   ]
  },
  {
   "cell_type": "code",
   "execution_count": null,
   "metadata": {
    "cellView": "form",
    "colab": {
     "base_uri": "https://localhost:8080/",
     "height": 579,
     "referenced_widgets": [
      "4c2f7caf98a44e5fa064f8ab7ac83038",
      "f27628dd4ab444ffa9449763f1d16dd5",
      "919fc4c145c14bb0ada9c7a524efbd9f",
      "bec226633c9847c88a4adf7b0c41f50e",
      "1c28b8643d924ad092b3c92e38952360",
      "9a26462e0dfb497a91c8b10e12081761"
     ]
    },
    "outputId": "4107d1dc-7d87-4a48-b95e-2eb9522a376c"
   },
   "outputs": [],
   "source": [
    "#@title Video 9: Ethical concerns\n",
    "# Insert the ID of the corresponding youtube video\n",
    "from ipywidgets import widgets\n",
    "\n",
    "out2 = widgets.Output()\n",
    "with out2:\n",
    "  from IPython.display import IFrame\n",
    "  class BiliVideo(IFrame):\n",
    "    def __init__(self, id, page=1, width=400, height=300, **kwargs):\n",
    "      self.id=id\n",
    "      src = \"https://player.bilibili.com/player.html?bvid={0}&page={1}\".format(id, page)\n",
    "      super(BiliVideo, self).__init__(src, width, height, **kwargs)\n",
    "\n",
    "  video = BiliVideo(id=f\"\", width=854, height=480, fs=1)\n",
    "  print(\"Video available at https://www.bilibili.com/video/{0}\".format(video.id))\n",
    "  display(video)\n",
    "\n",
    "out1 = widgets.Output()\n",
    "with out1:\n",
    "  from IPython.display import YouTubeVideo\n",
    "  video = YouTubeVideo(id=f\"0EthSI0cknI\", width=854, height=480, fs=1, rel=0)\n",
    "  print(\"Video available at https://youtube.com/watch?v=\" + video.id)\n",
    "  display(video)\n",
    "\n",
    "out = widgets.Tab([out1, out2])\n",
    "out.set_title(0, 'Youtube')\n",
    "out.set_title(1, 'Bilibili')\n",
    "\n",
    "display(out)"
   ]
  },
  {
   "cell_type": "markdown",
   "metadata": {},
   "source": [
    "---\n",
    "# Summary\n",
    "\n",
    "* Optimization is necessary to create Deep Learning models that are guaranteed to converge \n",
    "* Stochastic Gradient Descent and Momentum are two commonly used optimization techniques\n",
    "* RMSProp is a way of adaptive hyper parameter tuning which utilises a per-dimension learning rate\n",
    "* Poor choice of optimization objectives can lead to unforeseen, undesirable consequences \n"
   ]
  }
 ],
 "metadata": {
  "accelerator": "GPU",
  "colab": {
   "collapsed_sections": [],
   "include_colab_link": true,
   "name": "W1D4_Tutorial1",
   "provenance": [],
   "toc_visible": true
  },
  "kernel": {
   "display_name": "Python 3",
   "language": "python",
   "name": "python3"
  },
  "kernelspec": {
   "display_name": "Python 3",
   "language": "python",
   "name": "python3"
  },
  "language_info": {
   "codemirror_mode": {
    "name": "ipython",
    "version": 3
   },
   "file_extension": ".py",
   "mimetype": "text/x-python",
   "name": "python",
   "nbconvert_exporter": "python",
   "pygments_lexer": "ipython3",
   "version": "3.7.1"
  },
  "toc-autonumbering": true,
  "varInspector": {
   "cols": {
    "lenName": 16,
    "lenType": 16,
    "lenVar": 40
   },
   "kernels_config": {
    "python": {
     "delete_cmd_postfix": "",
     "delete_cmd_prefix": "del ",
     "library": "var_list.py",
     "varRefreshCmd": "print(var_dic_list())"
    },
    "r": {
     "delete_cmd_postfix": ") ",
     "delete_cmd_prefix": "rm(",
     "library": "var_list.r",
     "varRefreshCmd": "cat(var_dic_list()) "
    }
   },
   "types_to_exclude": [
    "module",
    "function",
    "builtin_function_or_method",
    "instance",
    "_Feature"
   ],
   "window_display": false
  }
 },
 "nbformat": 4,
 "nbformat_minor": 0
}
