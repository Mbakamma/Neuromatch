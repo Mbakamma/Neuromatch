{
 "cells": [
  {
   "cell_type": "markdown",
   "metadata": {
    "colab_type": "text",
    "id": "view-in-github"
   },
   "source": [
    "<a href=\"https://colab.research.google.com/github/NeuromatchAcademy/course-content-dl/blob/main/tutorials/W1D4_Optimization/student/W1D4_Tutorial1.ipynb\" target=\"_parent\"><img src=\"https://colab.research.google.com/assets/colab-badge.svg\" alt=\"Open In Colab\"/></a>"
   ]
  },
  {
   "cell_type": "markdown",
   "metadata": {},
   "source": [
    "# Tutorial 1: Optimization techniques\n",
    "**Week 1, Day 4: Optimization**\n",
    "\n",
    "**By Neuromatch Academy**\n",
    "\n",
    "__Content creators:__ Jose Gallego-Posada, Ioannis Mitliagkas\n",
    "\n",
    "__Content reviewers:__ Piyush Chauhan, Vladimir Haltakov\n",
    "\n",
    "__Content editors:__ Gagana B\n",
    "\n",
    "__Production editors:__ Arush Tagade, Spiros Chavlis"
   ]
  },
  {
   "cell_type": "markdown",
   "metadata": {},
   "source": [
    "**Our 2021 Sponsors, including Presenting Sponsor Facebook Reality Labs**\n",
    "\n",
    "<p align='center'><img src='https://github.com/NeuromatchAcademy/widgets/blob/master/sponsors.png?raw=True'/></p>"
   ]
  },
  {
   "cell_type": "markdown",
   "metadata": {},
   "source": [
    "---\n",
    "# Tutorial Objectives\n",
    "\n",
    "Objectives:\n",
    "*   Necessity and importance of Optimization\n",
    "*   Introduction to commonly used optimization techniques\n",
    "*   Optimization in non-convex loss landscapes \n",
    "*   'Adaptive' hyperparameter tuning \n",
    "*   Ethical concerns\n",
    "\n"
   ]
  },
  {
   "cell_type": "code",
   "execution_count": null,
   "metadata": {
    "cellView": "form",
    "colab": {
     "base_uri": "https://localhost:8080/",
     "height": 590
    },
    "outputId": "fc43f06b-6451-4f6f-bd08-cb3e2e2ce563"
   },
   "outputs": [],
   "source": [
    "#@markdown Tutorial slides\n",
    "# you should link the slides for all tutorial videos here (we will store pdfs on osf)\n",
    "\n",
    "from IPython.display import HTML\n",
    "HTML('<iframe src=\"https://docs.google.com/presentation/d/1dkvaSDB-0PeaVHWKW7xHd6z2pIqjNUN2JG_EQ6P0L9o/embed?start=false&loop=false&delayms=3000\" frameborder=\"0\" width=\"960\" height=\"569\" allowfullscreen=\"true\" mozallowfullscreen=\"true\" webkitallowfullscreen=\"true\"></iframe>')"
   ]
  },
  {
   "cell_type": "markdown",
   "metadata": {},
   "source": [
    "---\n",
    "# Setup"
   ]
  },
  {
   "cell_type": "code",
   "execution_count": null,
   "metadata": {},
   "outputs": [],
   "source": [
    "# Imports\n",
    "from __future__ import print_function\n",
    "\n",
    "import io\n",
    "import time\n",
    "import copy\n",
    "import torch\n",
    "import requests\n",
    "import torchvision\n",
    "\n",
    "import numpy as np\n",
    "import ipywidgets as widgets\n",
    "import matplotlib.pyplot as plt\n",
    "\n",
    "from urllib.request import urlopen\n",
    "from collections import defaultdict\n",
    "\n",
    "import torch.nn as nn\n",
    "import torch.optim as optim\n",
    "import torch.nn.functional as F\n",
    "import torchvision.datasets as datasets"
   ]
  },
  {
   "cell_type": "code",
   "execution_count": null,
   "metadata": {
    "cellView": "form"
   },
   "outputs": [],
   "source": [
    "#@title Figure settings\n",
    "import ipywidgets as widgets       # interactive display\n",
    "%config InlineBackend.figure_format = 'retina'\n",
    "plt.style.use(\"https://raw.githubusercontent.com/NeuromatchAcademy/content-creation/master/nma.mplstyle\")\n",
    "plt.rc('axes', unicode_minus=False)"
   ]
  },
  {
   "cell_type": "code",
   "execution_count": null,
   "metadata": {
    "cellView": "form"
   },
   "outputs": [],
   "source": [
    "#@title Set random seed\n",
    "\n",
    "#@markdown Executing `set_seed(seed=seed)` you are setting the seed\n",
    "\n",
    "# for DL its critical to set the random seed so that students can have a\n",
    "# baseline to compare their results to expected results.\n",
    "# Read more here: https://pytorch.org/docs/stable/notes/randomness.html\n",
    "\n",
    "# Call `set_seed` function in the exercises to ensure reproducibility.\n",
    "import random\n",
    "import torch\n",
    "\n",
    "def set_seed(seed=None, seed_torch=True):\n",
    "  if seed is None:\n",
    "    seed = np.random.choice(2 ** 32)\n",
    "  random.seed(seed)\n",
    "  np.random.seed(seed)\n",
    "  if seed_torch:\n",
    "    torch.manual_seed(seed)\n",
    "    torch.cuda.manual_seed_all(seed)\n",
    "    torch.cuda.manual_seed(seed)\n",
    "    torch.backends.cudnn.benchmark = False\n",
    "    torch.backends.cudnn.deterministic = True\n",
    "\n",
    "  print(f'Random seed {seed} has been set.')\n",
    "\n",
    "\n",
    "# In case that `DataLoader` is used\n",
    "def seed_worker(worker_id):\n",
    "  worker_seed = torch.initial_seed() % 2**32\n",
    "  np.random.seed(worker_seed)\n",
    "  random.seed(worker_seed)"
   ]
  },
  {
   "cell_type": "code",
   "execution_count": null,
   "metadata": {
    "cellView": "form"
   },
   "outputs": [],
   "source": [
    "#@title Set device (GPU or CPU). Execute `set_device()`\n",
    "# especially if torch modules used.\n",
    "\n",
    "# inform the user if the notebook uses GPU or CPU.\n",
    "\n",
    "def set_device():\n",
    "  device = \"cuda\" if torch.cuda.is_available() else \"cpu\"\n",
    "  if device != \"cuda\":\n",
    "    print(\"WARNING: For this notebook to perform best, \"\n",
    "        \"if possible, in the menu under `Runtime` -> \"\n",
    "        \"`Change runtime type.`  select `GPU` \")\n",
    "  else:\n",
    "    print(\"GPU is enabled in this notebook.\")\n",
    "\n",
    "  return device"
   ]
  },
  {
   "cell_type": "code",
   "execution_count": null,
   "metadata": {
    "colab": {
     "base_uri": "https://localhost:8080/",
     "height": 69
    },
    "outputId": "8bf80ad0-412a-4495-8f6b-c072bb4a34f6"
   },
   "outputs": [],
   "source": [
    "SEED = 31051832  # random seed\n",
    "set_seed(seed=SEED, seed_torch=True)  # set the seed\n",
    "set_device()  # choose device"
   ]
  },
  {
   "cell_type": "markdown",
   "metadata": {},
   "source": [
    "--- \n",
    "\n",
    "# Section 1. Introduction"
   ]
  },
  {
   "cell_type": "code",
   "execution_count": null,
   "metadata": {
    "cellView": "form",
    "colab": {
     "base_uri": "https://localhost:8080/",
     "height": 579,
     "referenced_widgets": [
      "2974e24bb2dd4586a0377c75033899ae",
      "2c3fad977e884539935d009d8358f2bc",
      "bb6ec8419333483c99186bf03961c310",
      "7864149b467046eda1392244aed2e106",
      "bbd6ecaadf3949b183d7bca3e1c91994",
      "2f024a54a5664e38b1b3139dcc7f8bdf"
     ]
    },
    "outputId": "acb2b095-2097-4e80-9088-8922230c860f"
   },
   "outputs": [],
   "source": [
    "#@title Video 1: Introduction\n",
    "# Insert the ID of the corresponding youtube video\n",
    "from ipywidgets import widgets\n",
    "\n",
    "out2 = widgets.Output()\n",
    "with out2:\n",
    "  from IPython.display import IFrame\n",
    "  class BiliVideo(IFrame):\n",
    "    def __init__(self, id, page=1, width=400, height=300, **kwargs):\n",
    "      self.id=id\n",
    "      src = \"https://player.bilibili.com/player.html?bvid={0}&page={1}\".format(id, page)\n",
    "      super(BiliVideo, self).__init__(src, width, height, **kwargs)\n",
    "\n",
    "  video = BiliVideo(id=f\"\", width=854, height=480, fs=1)\n",
    "  print(\"Video available at https://www.bilibili.com/video/{0}\".format(video.id))\n",
    "  display(video)\n",
    "\n",
    "out1 = widgets.Output()\n",
    "with out1:\n",
    "  from IPython.display import YouTubeVideo\n",
    "  video = YouTubeVideo(id=f\"zm9oekdkJbQ\", width=854, height=480, fs=1, rel=0)\n",
    "  print(\"Video available at https://youtube.com/watch?v=\" + video.id)\n",
    "  display(video)\n",
    "\n",
    "out = widgets.Tab([out1, out2])\n",
    "out.set_title(0, 'Youtube')\n",
    "out.set_title(1, 'Bilibili')\n",
    "\n",
    "display(out)"
   ]
  },
  {
   "cell_type": "markdown",
   "metadata": {},
   "source": [
    "### Think!\n",
    "\n",
    "Can you think of examples from your own experience/life where poorly chosen incentives or objectives have lead to unexpected consequences?"
   ]
  },
  {
   "cell_type": "markdown",
   "metadata": {
    "colab_type": "text"
   },
   "source": [
    "[*Click for solution*](https://github.com/NeuromatchAcademy/course-content-dl/tree/main//tutorials/W1D4_Optimization/solutions/W1D4_Tutorial1_Solution_3511302b.py)\n",
    "\n"
   ]
  },
  {
   "cell_type": "markdown",
   "metadata": {},
   "source": [
    "---\n",
    "\n",
    "# Section 2: Case study: successfully training an MLP for image classification\n",
    "\n",
    "Many of the core ideas (and tricks) in modern optimization for deep learning can be illustrated in the simple setting of training an MLP to solve an image classification task. In this tutorial we will guide you through the key challenges that arise when optimizing high-dimensional, non-convex problems. We will use these challenges to motivate and explain some commonly used solutions.\n",
    "\n",
    "**Disclaimer:** Some of the functions you will code in this tutorial are already implemented in Pytorch and many other libraries. For pedagogical reasons, we decided to bring these simple coding tasks into the spotlight and place a relatively higher emphasis in your understanding of the algorithms, rather than the use of a specific library. \n",
    "\n",
    "In 'day-to-day' research projects you will likely to rely on the community-vetted, optimized libraries rather than the 'manual implementations' you will write today. In Section 8 you will have a chance to 'put it all together' and use the full power of Pytorch to tune the parameters of an MLP to classify handwritten digits.    \n"
   ]
  },
  {
   "cell_type": "code",
   "execution_count": null,
   "metadata": {
    "cellView": "form",
    "colab": {
     "base_uri": "https://localhost:8080/",
     "height": 579,
     "referenced_widgets": [
      "82b3e28dbb884d029d2c20720a61e68a",
      "636272ba455140f5b8b23e33b428b6cb",
      "4dd4b9de8f39467aa6b94e9df52340d0",
      "917d9e042b60474d9fe2ad60d2dbca69",
      "d110783e34094166a6e66a4a54858270",
      "80fe3eebcd8a480380ee39c7a1f9da36"
     ]
    },
    "outputId": "9fd4f6b1-5c82-4195-f141-925133d04af3"
   },
   "outputs": [],
   "source": [
    "#@title Video 2: Case Study - MLP Classification\n",
    "# Insert the ID of the corresponding youtube video\n",
    "from ipywidgets import widgets\n",
    "\n",
    "out2 = widgets.Output()\n",
    "with out2:\n",
    "  from IPython.display import IFrame\n",
    "  class BiliVideo(IFrame):\n",
    "    def __init__(self, id, page=1, width=400, height=300, **kwargs):\n",
    "      self.id=id\n",
    "      src = \"https://player.bilibili.com/player.html?bvid={0}&page={1}\".format(id, page)\n",
    "      super(BiliVideo, self).__init__(src, width, height, **kwargs)\n",
    "\n",
    "  video = BiliVideo(id=f\"\", width=854, height=480, fs=1)\n",
    "  print(\"Video available at https://www.bilibili.com/video/{0}\".format(video.id))\n",
    "  display(video)\n",
    "\n",
    "out1 = widgets.Output()\n",
    "with out1:\n",
    "  from IPython.display import YouTubeVideo\n",
    "  video = YouTubeVideo(id=f\"pJc2ENhYbqA\", width=854, height=480, fs=1, rel=0)\n",
    "  print(\"Video available at https://youtube.com/watch?v=\" + video.id)\n",
    "  display(video)\n",
    "\n",
    "out = widgets.Tab([out1, out2])\n",
    "out.set_title(0, 'Youtube')\n",
    "out.set_title(1, 'Bilibili')\n",
    "\n",
    "display(out)"
   ]
  },
  {
   "cell_type": "markdown",
   "metadata": {},
   "source": [
    "## Section 2.1: Data\n",
    "\n",
    "We will use the MNIST dataset of handwritten digits. We load the data via the Pytorch `datasets` module, as you learned in W1D1.   \n"
   ]
  },
  {
   "cell_type": "code",
   "execution_count": null,
   "metadata": {
    "colab": {
     "base_uri": "https://localhost:8080/"
    },
    "outputId": "0f824979-99de-489a-e273-ae627d70dac5"
   },
   "outputs": [],
   "source": [
    "def load_mnist_data(change_tensors=False, download=True):\n",
    "  \"\"\"Load training and test examples for the MNIST digits dataset\n",
    "\n",
    "  Returns:\n",
    "    train_data (tensor): training input tensor of size (train_size x 784)\n",
    "    train_target (tensor): training 0-9 integer label tensor of size (train_size)\n",
    "    test_data (tensor): test input tensor of size (70k-train_size x 784)\n",
    "    test_target (tensor): training 0-9 integer label tensor of size (70k-train_size)\n",
    "\n",
    "  \"\"\"\n",
    "  # Load train and test sets\n",
    "  train_set = datasets.MNIST(root='./data', train=True, download=download,\n",
    "                             transform=torchvision.transforms.ToTensor())\n",
    "  test_set = datasets.MNIST(root='./data', train=False, download=download,\n",
    "                            transform=torchvision.transforms.ToTensor())\n",
    "\n",
    "  # Original data is in range [0, 255]. We normalize the data wrt its mean and std_dev.\n",
    "  ## Note that we only used *training set* information to compute mean and std\n",
    "  mean = train_set.data.float().mean()\n",
    "  std = train_set.data.float().std()\n",
    "\n",
    "  if change_tensors:\n",
    "    # Apply normalization directly to the tensors containing the dataset\n",
    "    train_set.data = (train_set.data.float() - mean) / std\n",
    "    test_set.data = (test_set.data.float() - mean) / std\n",
    "  else:\n",
    "    tform = torchvision.transforms.Compose([torchvision.transforms.ToTensor(),\n",
    "                                            torchvision.transforms.Normalize(mean=[mean/255.], std=[std/255.])\n",
    "                                            ])\n",
    "    train_set = datasets.MNIST(root='./data', train=True, download=True,\n",
    "                               transform=tform)\n",
    "    test_set = datasets.MNIST(root='./data', train=False, download=True,\n",
    "                              transform=tform)\n",
    "\n",
    "  return train_set, test_set\n",
    "\n",
    "\n",
    "train_set, test_set = load_mnist_data(change_tensors=True)"
   ]
  },
  {
   "cell_type": "markdown",
   "metadata": {},
   "source": [
    "As we are just getting started, we will concentrate on a small subset of only 500 examples out of the 60.000 data points contained in the whole training set.\n",
    "\n"
   ]
  },
  {
   "cell_type": "code",
   "execution_count": null,
   "metadata": {},
   "outputs": [],
   "source": [
    "# Sample a random subset of 500 indices\n",
    "subset_index = np.random.choice(len(train_set.data), 500)\n",
    "\n",
    "# We will use these symbols to represent the training data and labels, to stay\n",
    "# as close to the mathematical expressions as possible.\n",
    "X, y = train_set.data[subset_index, :], train_set.targets[subset_index]"
   ]
  },
  {
   "cell_type": "markdown",
   "metadata": {},
   "source": [
    "Run the following cell to visualize the content of three examples in our training set. Note how the pre-processing we applied to the data changes the range of pixel values after normalization.\n"
   ]
  },
  {
   "cell_type": "code",
   "execution_count": null,
   "metadata": {
    "cellView": "form",
    "colab": {
     "base_uri": "https://localhost:8080/",
     "height": 374
    },
    "outputId": "52140adf-b11c-401e-b13c-a9e8334d8302"
   },
   "outputs": [],
   "source": [
    "#@title Run me!\n",
    "num_figures = 3\n",
    "fig, axs = plt.subplots(1, num_figures, figsize=(5 * num_figures, 5))\n",
    "\n",
    "for sample_id, ax in enumerate(axs):\n",
    "  # Plot the pixel values for each image\n",
    "  ax.matshow(X[sample_id, :], cmap='gray_r')\n",
    "  # 'Write' the pixel value in the corresponding location\n",
    "  for (i, j), z in np.ndenumerate(X[sample_id, :]):\n",
    "    text = '{:.1f}'.format(z)\n",
    "    ax.text(j, i, text, ha='center',\n",
    "            va='center', fontsize=6, c='steelblue')\n",
    "\n",
    "  ax.set_title('Label: ' + str(y[sample_id].item()))\n",
    "  ax.axis('off')\n",
    "\n",
    "plt.show()"
   ]
  },
  {
   "cell_type": "markdown",
   "metadata": {},
   "source": [
    "## Section 2.2: Model\n",
    "\n",
    "As you will see next week, there are specific model architectures that are better suited to image-like data, such as Convolutional Neural Networks (CNNs). For simplicity, in this tutorial we will focus exclusively on Multi-Layer Perceptron (MLP) models as they allow us to highlight many important optimization challenges shared with more advanced neural network designs."
   ]
  },
  {
   "cell_type": "code",
   "execution_count": null,
   "metadata": {},
   "outputs": [],
   "source": [
    "class MLP(nn.Module):\n",
    "  \"\"\" This class implements MLPs in Pytorch of an arbitrary number of hidden\n",
    "  layers of potentially different sizes. Since we concentrate on classification\n",
    "  tasks in this tutorial, we have a log_softmax layer at prediction time.\n",
    "  \"\"\"\n",
    "\n",
    "  def __init__(self, in_dim=784, out_dim=10, hidden_dims=[], use_bias=True):\n",
    "    \"\"\"Constructs a MultiLayerPerceptron\n",
    "\n",
    "    Args:\n",
    "        in_dim (int): dimensionality of input data\n",
    "        out_dim (int): number of classes\n",
    "        hidden_dims (list): contains the dimensions of the hidden layers, an empty\n",
    "            list corresponds to a linear model (in_dim, out_dim)\n",
    "    \"\"\"\n",
    "\n",
    "    super(MLP, self).__init__()\n",
    "\n",
    "    self.in_dim = in_dim\n",
    "    self.out_dim = out_dim\n",
    "\n",
    "    # If we have no hidden layer, just initialize a linear model (e.g. in logistic regression)\n",
    "    if len(hidden_dims) == 0:\n",
    "      layers = [nn.Linear(in_dim, out_dim, bias=use_bias)]\n",
    "    else:\n",
    "      # 'Actual' MLP with dimensions in_dim - num_hidden_layers*[hidden_dim] - out_dim\n",
    "      layers = [nn.Linear(in_dim, hidden_dims[0], bias=use_bias), nn.ReLU()]\n",
    "\n",
    "      # Loop until before the last layer\n",
    "      for hl_id in range(len(hidden_dims) - 1):\n",
    "          layers += [nn.Linear(hidden_dims[hl_id], hidden_dims[hl_id+1],\n",
    "                               bias=use_bias), nn.ReLU()]\n",
    "\n",
    "      # Add final layer to the number of classes\n",
    "      layers.append(nn.Linear(hidden_dims[-1], out_dim, bias=use_bias))\n",
    "\n",
    "    self.main = nn.Sequential(*layers)\n",
    "\n",
    "  def forward(self, x):\n",
    "    # Flatten the images into 'vectors'\n",
    "    x = x.view(-1, self.in_dim)\n",
    "    x = self.main(x)\n",
    "    output = F.log_softmax(x, dim=1)\n",
    "    return output"
   ]
  },
  {
   "cell_type": "markdown",
   "metadata": {},
   "source": [
    "Linear models constitute a very special kind of MLPs: they are equivalent to an MLP with *zero* hidden layers. This is simply an affine transformation, in other words a 'linear' map $W x$ with an 'offset' $b$; followed by a softmax function.\n",
    "\n",
    "$$f(x) = \\text{softmax}(W x + b)$$\n",
    "\n",
    "Here $x \\in \\mathbb{R}^{784}$, $W \\in \\mathbb{R}^{10 \\times 784}$ and $b \\in \\mathbb{R}^{10}$."
   ]
  },
  {
   "cell_type": "code",
   "execution_count": null,
   "metadata": {
    "colab": {
     "base_uri": "https://localhost:8080/"
    },
    "outputId": "dbfa4e4a-f5da-42c8-8b17-7af619faaa15"
   },
   "outputs": [],
   "source": [
    "# Empty hidden_dims means we take a model with zero hidden layers.\n",
    "model = MLP(in_dim=784, out_dim=10, hidden_dims=[])\n",
    "\n",
    "# We print the model structure with 784 inputs and 10 outputs\n",
    "print(model)"
   ]
  },
  {
   "cell_type": "markdown",
   "metadata": {},
   "source": [
    "## Section 2.3: Loss\n",
    "\n",
    "While we care about the accuracy of the model, the 'discrete' nature of the 0-1 loss makes it challenging to optimize. In order to learn good parameters for this model, we will use the cross entropy loss (negative log-likelihood), which you saw in last lecture, as a surrogate objective to be minimized. \n",
    "\n",
    "This particular choice of model and optimization objective leads to a *convex* optimization problem with respect to the parameters $W$ and $b$. "
   ]
  },
  {
   "cell_type": "code",
   "execution_count": null,
   "metadata": {},
   "outputs": [],
   "source": [
    "loss_fn = F.nll_loss"
   ]
  },
  {
   "cell_type": "markdown",
   "metadata": {},
   "source": [
    "## Section 2.4: Interpretability"
   ]
  },
  {
   "cell_type": "markdown",
   "metadata": {},
   "source": [
    "In last lecture, you saw that inspecting the weights of a model can provide insights on what 'concepts' the model has learned. Here we show the weights of a partially trained model. The weights corresponding to each class 'learn' to _fire_ when an input of the class is detected.\n"
   ]
  },
  {
   "cell_type": "code",
   "execution_count": null,
   "metadata": {
    "cellView": "form"
   },
   "outputs": [],
   "source": [
    "#@markdown Run _this cell_ to train the model. If you are curious about how the training\n",
    "#@markdown takes place, double-click this cell to find out. At the end of this tutorial\n",
    "#@markdown you will have the opportunity to train a more complex model on your own.\n",
    "\n",
    "cell_verbose = False\n",
    "partial_trained_model = MLP(in_dim=784, out_dim=10, hidden_dims=[])\n",
    "\n",
    "if cell_verbose:\n",
    "  print('Init loss', loss_fn(partial_trained_model(X), y).item()) # This matches around np.log(10 = # of classes)\n",
    "\n",
    "optimizer = optim.Adam(partial_trained_model.parameters(), lr=7e-4)\n",
    "for _ in range(200):\n",
    "  loss = loss_fn(partial_trained_model(X), y)\n",
    "  optimizer.zero_grad()\n",
    "  loss.backward()\n",
    "  optimizer.step()\n",
    "\n",
    "if cell_verbose:\n",
    "  print('End loss', loss_fn(partial_trained_model(X), y).item()) # This should be less than 1e-2"
   ]
  },
  {
   "cell_type": "code",
   "execution_count": null,
   "metadata": {
    "colab": {
     "base_uri": "https://localhost:8080/",
     "height": 141
    },
    "outputId": "2a12b536-18e8-4a6f-90bc-25b13ce065f0"
   },
   "outputs": [],
   "source": [
    "# Show class filters of a trained model\n",
    "W = partial_trained_model.main[0].weight.data.numpy()\n",
    "\n",
    "fig, axs = plt.subplots(1, 10, figsize=(15, 4))\n",
    "for class_id in range(10):\n",
    "  axs[class_id].imshow(W[class_id, :].reshape(28, 28), cmap='gray_r')\n",
    "  axs[class_id].axis('off')\n",
    "  axs[class_id].set_title('Class ' + str(class_id) )\n",
    "\n",
    "plt.show()"
   ]
  },
  {
   "cell_type": "markdown",
   "metadata": {},
   "source": [
    "---\n",
    "# Section 3: High dimensional search\n",
    "\n",
    "We now have a model with its corresponding trainable parameters as well as an objective to optimize. Where do we go to next? How do we find a 'good' configuration of parameters?\n",
    "\n",
    "One idea is to choose a random direction and move only if the objective is reduced. However, this is inefficient in high dimensions and you will see how gradient descent (with a suitable step-size) can guarantee consistent improvement in terms of the objective function."
   ]
  },
  {
   "cell_type": "code",
   "execution_count": null,
   "metadata": {
    "cellView": "form",
    "colab": {
     "base_uri": "https://localhost:8080/",
     "height": 579,
     "referenced_widgets": [
      "7eee856de9e24699bb37521c7003f9ae",
      "ff9737278ac5492aa2226aef37f4715a",
      "beec29bd59284fa69e26dec3de34f779",
      "6fa8308ded174584bd328ebf39cfecfc",
      "10d5d21bce0f4fd196a9cf88c3b6caf4",
      "5b1b50f450644a758cda3b4fbd379e14"
     ]
    },
    "outputId": "0ebedcd6-c6e0-4605-e431-3ad76c173c89"
   },
   "outputs": [],
   "source": [
    "#@title Video 3: Optimization of an Objective Function\n",
    "# Insert the ID of the corresponding youtube video\n",
    "from ipywidgets import widgets\n",
    "\n",
    "out2 = widgets.Output()\n",
    "with out2:\n",
    "  from IPython.display import IFrame\n",
    "  class BiliVideo(IFrame):\n",
    "    def __init__(self, id, page=1, width=400, height=300, **kwargs):\n",
    "      self.id=id\n",
    "      src = \"https://player.bilibili.com/player.html?bvid={0}&page={1}\".format(id, page)\n",
    "      super(BiliVideo, self).__init__(src, width, height, **kwargs)\n",
    "\n",
    "  video = BiliVideo(id=f\"\", width=854, height=480, fs=1)\n",
    "  print(\"Video available at https://www.bilibili.com/video/{0}\".format(video.id))\n",
    "  display(video)\n",
    "\n",
    "out1 = widgets.Output()\n",
    "with out1:\n",
    "  from IPython.display import YouTubeVideo\n",
    "  video = YouTubeVideo(id=f\"aSJTRdjRvvw\", width=854, height=480, fs=1, rel=0)\n",
    "  print(\"Video available at https://youtube.com/watch?v=\" + video.id)\n",
    "  display(video)\n",
    "\n",
    "out = widgets.Tab([out1, out2])\n",
    "out.set_title(0, 'Youtube')\n",
    "out.set_title(1, 'Bilibili')\n",
    "\n",
    "display(out)"
   ]
  },
  {
   "cell_type": "markdown",
   "metadata": {},
   "source": [
    "### Coding Exercise 3.1: Implement gradient descent\n",
    "\n",
    "In this exercise you will use Pytorch automatic differentiation capabilities to compute the gradient of the loss with respect to the parameters of the model. You will then use these gradients to implement the update performed by the gradient descent method.  "
   ]
  },
  {
   "cell_type": "code",
   "execution_count": null,
   "metadata": {},
   "outputs": [],
   "source": [
    "def zero_grad(params):\n",
    "  \"\"\"Clear up gradients as Pytorch automatically accumulates gradients from\n",
    "  successive backward calls\n",
    "  \"\"\"\n",
    "  for par in params:\n",
    "    if not(par.grad is None):\n",
    "      par.grad.data.zero_()\n",
    "\n",
    "\n",
    "def random_update(model, noise_scale=0.1, normalized=False):\n",
    "  \"\"\" Performs a random update on the parameters of the model\n",
    "  \"\"\"\n",
    "  for par in model.parameters():\n",
    "    noise = torch.randn_like(par)\n",
    "    if normalized:\n",
    "      noise /= torch.norm(noise)\n",
    "    par.data +=  noise_scale * noise"
   ]
  },
  {
   "cell_type": "code",
   "execution_count": null,
   "metadata": {},
   "outputs": [],
   "source": [
    "def gradient_update(loss, params, lr=1e-1):\n",
    "  \"\"\"Perform a gradient descent update on a given loss over a collection of parameters\n",
    "\n",
    "  Args:\n",
    "    loss (tensor): A scalar tensor containing the loss whose gradient will be computed\n",
    "    params (iterable): Collection of parameters with respect to which we compute gradients\n",
    "    lr (float): Scalar specifying the learning rate or step-size for the update\n",
    "  \"\"\"\n",
    "  # Clear up gradients as Pytorch automatically accumulates gradients from\n",
    "  # successive backward calls\n",
    "  zero_grad(params)\n",
    "\n",
    "  # Compute gradients on given objective\n",
    "  loss.backward()\n",
    "\n",
    "  for par in params:\n",
    "    #################################################\n",
    "    ## TODO for students: update the value of the parameter ##\n",
    "    raise NotImplementedError(\"Student exercise: implement gradient update\")\n",
    "    #################################################\n",
    "    # Here we work with the 'data' attribute of the parameter rather than the\n",
    "    # parameter itself.\n",
    "    par.data -= ..."
   ]
  },
  {
   "cell_type": "markdown",
   "metadata": {
    "colab_type": "text"
   },
   "source": [
    "[*Click for solution*](https://github.com/NeuromatchAcademy/course-content-dl/tree/main//tutorials/W1D4_Optimization/solutions/W1D4_Tutorial1_Solution_fb6bfbf0.py)\n",
    "\n"
   ]
  },
  {
   "cell_type": "markdown",
   "metadata": {},
   "source": [
    "### Comparing updates"
   ]
  },
  {
   "cell_type": "code",
   "execution_count": null,
   "metadata": {
    "cellView": "form",
    "colab": {
     "base_uri": "https://localhost:8080/",
     "height": 311
    },
    "outputId": "9f8e5646-7fa1-4a93-9b5e-fcc1c73329dd"
   },
   "outputs": [],
   "source": [
    "#@markdown These plots compare the effectiveness of updating random\n",
    "#@markdown directions for the problem of optimizing the parameters\n",
    "#@markdown of a high-dimensional linear model. We contrast the\n",
    "#@markdown behavior at initialization and during an intermediate\n",
    "#@markdown stage of training by showing the histograms of change in\n",
    "#@markdown loss over 100 different random directions vs the changed\n",
    "#@markdown in loss induced by the gradient descent update\n",
    "\n",
    "#@markdown Remember, since we are trying to minimize, here negative is better!\n",
    "\n",
    "fig, axs = plt.subplots(1, 2, figsize=(10, 4))\n",
    "\n",
    "for id, (model_name, my_model) in enumerate([('Initialization', model),\n",
    "                                              ('Partially trained', partial_trained_model)]):\n",
    "  # Compue the loss we will be comparing to\n",
    "  base_loss = loss_fn(my_model(X), y)\n",
    "\n",
    "  # Compute the improvement via gradient descent\n",
    "  dummy_model = copy.deepcopy(my_model)\n",
    "  loss1 = loss_fn(dummy_model(X), y)\n",
    "  gradient_update(loss1, list(dummy_model.parameters()), lr=1e-2)\n",
    "  gd_delta = loss_fn(dummy_model(X), y) - base_loss\n",
    "\n",
    "  deltas = []\n",
    "  for trial_id in range(100):\n",
    "    # Compute the improvement obtained with a random direction\n",
    "    dummy_model = copy.deepcopy(my_model)\n",
    "    random_update(dummy_model, noise_scale=1e-2)\n",
    "    deltas.append((loss_fn(dummy_model(X), y) - base_loss).item())\n",
    "\n",
    "  # Plot histogram for random direction and vertical line for gradient descent\n",
    "  axs[id].hist(deltas, label='Random Directions', bins=20)\n",
    "  axs[id].set_title(model_name)\n",
    "  axs[id].set_xlabel('Change in loss')\n",
    "  axs[id].set_ylabel('% samples')\n",
    "  axs[id].axvline(0, c='green', alpha=0.5)\n",
    "  axs[id].axvline(gd_delta.item(), linestyle='--', c='red', alpha=1,\n",
    "                  label='Gradient Descent')\n",
    "\n",
    "\n",
    "handles, labels = axs[id].get_legend_handles_labels()\n",
    "fig.legend(handles, labels, loc='upper center',\n",
    "           bbox_to_anchor=(0.5, 1.05),\n",
    "           fancybox=False, shadow=False, ncol=2)\n",
    "\n",
    "plt.show()"
   ]
  },
  {
   "cell_type": "markdown",
   "metadata": {},
   "source": [
    "### Think!\n",
    "\n",
    "Compare the behavior of gradient descent and random search based on the histograms above. Is any of the two methods more reliable? How can you explain the changes between behavior of the methods at initialization vs during training?"
   ]
  },
  {
   "cell_type": "markdown",
   "metadata": {
    "colab_type": "text"
   },
   "source": [
    "[*Click for solution*](https://github.com/NeuromatchAcademy/course-content-dl/tree/main//tutorials/W1D4_Optimization/solutions/W1D4_Tutorial1_Solution_e1813c68.py)\n",
    "\n"
   ]
  },
  {
   "cell_type": "markdown",
   "metadata": {},
   "source": [
    "---\n",
    "# Section 4: Poor conditioning\n",
    "\n",
    "Already in this 'simple' logistic regression problem, the issue of bad conditioning is haunting us. Not all parameters are created equal and the sensitivity of the network to changes on the parameters will have a big impact in the dynamics of the optimization."
   ]
  },
  {
   "cell_type": "code",
   "execution_count": null,
   "metadata": {
    "cellView": "form",
    "colab": {
     "base_uri": "https://localhost:8080/",
     "height": 579,
     "referenced_widgets": [
      "9f08ccfc608c454193347dcc9830ca86",
      "6d6d94e2e6ed41fd85b222a40ce0a56d",
      "a6fbcf7fd19e422f855e3a4b3393dcba",
      "3c2c8f5ea53b4518aee318c971291615",
      "41b53bd0c981429889e35980719091dd",
      "1c094cea7fe94bb68fd8a89f671c6480"
     ]
    },
    "outputId": "3076c4d8-5f90-496e-bd25-b146c7225e4d"
   },
   "outputs": [],
   "source": [
    "#@title Video 4: Momentum\n",
    "# Insert the ID of the corresponding youtube video\n",
    "from ipywidgets import widgets\n",
    "\n",
    "out2 = widgets.Output()\n",
    "with out2:\n",
    "  from IPython.display import IFrame\n",
    "  class BiliVideo(IFrame):\n",
    "    def __init__(self, id, page=1, width=400, height=300, **kwargs):\n",
    "      self.id=id\n",
    "      src = \"https://player.bilibili.com/player.html?bvid={0}&page={1}\".format(id, page)\n",
    "      super(BiliVideo, self).__init__(src, width, height, **kwargs)\n",
    "\n",
    "  video = BiliVideo(id=f\"\", width=854, height=480, fs=1)\n",
    "  print(\"Video available at https://www.bilibili.com/video/{0}\".format(video.id))\n",
    "  display(video)\n",
    "\n",
    "out1 = widgets.Output()\n",
    "with out1:\n",
    "  from IPython.display import YouTubeVideo\n",
    "  video = YouTubeVideo(id=f\"3ES5O58Y_2M\", width=854, height=480, fs=1, rel=0)\n",
    "  print(\"Video available at https://youtube.com/watch?v=\" + video.id)\n",
    "  display(video)\n",
    "\n",
    "out = widgets.Tab([out1, out2])\n",
    "out.set_title(0, 'Youtube')\n",
    "out.set_title(1, 'Bilibili')\n",
    "\n",
    "display(out)"
   ]
  },
  {
   "cell_type": "code",
   "execution_count": null,
   "metadata": {
    "cellView": "form"
   },
   "outputs": [],
   "source": [
    "#@markdown We illustrate this issue in a 2-dimensional setting. We freeze all but\n",
    "#@markdown two parameters of the network: one of them is an element of the weight matrix (filter)\n",
    "#@markdown for class 0, while the other is the bias for class 7. This results in\n",
    "#@markdown an optimization with two decision variables.\n",
    "\n",
    "#@markdown How much difference is there in the behavior of these two parameters\n",
    "#@markdown under gradient descent? What is the effect of momentum in bridging that gap?\n",
    "\n",
    "#@markdown _Run this cell_ to setup some helper functions.\n",
    "\n",
    "def loss_2d(model, u, v, mask_idx=(0, 378), bias_id=7):\n",
    "  \"\"\"Defines a 2-dim function by freezing all but two parameters of a linear\n",
    "  model.\n",
    "\n",
    "  Args:\n",
    "    model (torch module): a pytorch 0-hidden layer (linear) model\n",
    "    u (scalar): first free parameter\n",
    "    v (scalar): second free parameter\n",
    "    mask_idx (tuple): selects parameter in weight matrix replaced by u\n",
    "    bias_idx (int): selects parameter in bias vector replaced by v\n",
    "\n",
    "  Returns:\n",
    "    scalar: loss of the 'new' model over inputs X, y (defined externally)\n",
    "  \"\"\"\n",
    "\n",
    "  # We zero out the element of the weight tensor that will be\n",
    "  # replaced by u\n",
    "  mask = torch.ones_like(model.main[0].weight)\n",
    "  mask[mask_idx[0], mask_idx[1]] = 0.\n",
    "  masked_weights = model.main[0].weight * mask\n",
    "\n",
    "  # u is replacing an element of the weight matrix\n",
    "  masked_weights[mask_idx[0], mask_idx[1]] = u\n",
    "\n",
    "  res = X.reshape(-1, 784) @ masked_weights.T + model.main[0].bias\n",
    "\n",
    "  # v is replacing a bias for class 7\n",
    "  res[:, 7] += v - model.main[0].bias[7]\n",
    "  res =  F.log_softmax(res, dim=1)\n",
    "\n",
    "  return loss_fn(res, y)\n",
    "\n",
    "\n",
    "def plot_surface(U, V, Z, fig):\n",
    "  \"\"\" Plot a 3D loss surface given meshed inputs U, V and values Z\n",
    "  \"\"\"\n",
    "  ax = fig.add_subplot(1, 2, 2, projection='3d')\n",
    "  ax.view_init(45, -130)\n",
    "\n",
    "  surf = ax.plot_surface(U, V, Z, cmap=plt.cm.coolwarm,\n",
    "                      linewidth=0, antialiased=True, alpha=0.5)\n",
    "\n",
    "  # Select certain level contours to plot\n",
    "  # levels = Z.min() * np.array([1.005, 1.1, 1.3, 1.5, 2.])\n",
    "  # plt.contour(U, V, Z)# levels=levels, alpha=0.5)\n",
    "\n",
    "  ax.set_xlabel('Weight')\n",
    "  ax.set_ylabel('Bias')\n",
    "  ax.set_zlabel('Loss', rotation=90)\n",
    "\n",
    "  return ax\n",
    "\n",
    "\n",
    "def plot_param_distance(best_u, best_v, trajs, fig, styles, labels, use_log=False):\n",
    "  \"\"\" Plot the distance to each of the two parameters for a collection of 'trajectories'\n",
    "  \"\"\"\n",
    "  ax = fig.add_subplot(1, 1, 1)\n",
    "\n",
    "  for traj, style, label in zip(trajs, styles, labels):\n",
    "    d0 = np.array([np.abs(_[0] - best_u) for _ in traj])\n",
    "    d1 = np.array([np.abs(_[1] - best_v) for _ in traj])\n",
    "    if use_log:\n",
    "      d0 = np.log(1e-16 + d0)\n",
    "      d1 = np.log(1e-16 + d1)\n",
    "    ax.plot(range(len(traj)), d0, style, label='weight - ' + label)\n",
    "    ax.plot(range(len(traj)), d1, style, label='bias - ' + label)\n",
    "  ax.set_xlabel('Iteration')\n",
    "  if use_log:\n",
    "    ax.set_ylabel('Log distance to optimum (per dimension)')\n",
    "    ax.set_ylim(-12, 1.5)\n",
    "  else:\n",
    "    ax.set_ylabel('Abs distance to optimum (per dimension)')\n",
    "  ax.legend(loc='right', bbox_to_anchor=(1.5, 0.5),\n",
    "            fancybox=False, shadow=False, ncol=1)\n",
    "\n",
    "  return ax\n",
    "\n",
    "\n",
    "def run_optimizer(inits, eval_fn, update_fn, max_steps=500,\n",
    "                  optim_kwargs={'lr':1e-2}, log_traj=True):\n",
    "  \"\"\"Runs an optimizer on a given objective and logs parameter trajectory\n",
    "\n",
    "  Args:\n",
    "      inits list(scalar): initialization of parameters\n",
    "      eval_fn (callable): function computing the objective to be minimized\n",
    "      update_fn (callable): function executing parameter update\n",
    "      max_steps (int): number of iterations to run\n",
    "      optim_kwargs (dict): customize optimizer hyperparameters\n",
    "\n",
    "  Returns:\n",
    "      list[list]: trajectory information [*params, loss] for each optimization step\n",
    "  \"\"\"\n",
    "\n",
    "  # Initialize parameters and optimizer\n",
    "  params = [nn.Parameter(torch.tensor(_)) for _ in inits]\n",
    "  # Methods like momentum and rmsprop keep and auxiliary vector of parameters\n",
    "  aux_tensors = [torch.zeros_like(_) for _ in params]\n",
    "  if log_traj:\n",
    "    traj = np.zeros((max_steps, len(params)+1))\n",
    "  for _ in range(max_steps):\n",
    "    # Evaluate loss\n",
    "    loss = eval_fn(*params)\n",
    "    # Store 'trajectory' information\n",
    "    if log_traj:\n",
    "      traj[_, :] = [_.item() for _ in params] + [loss.item()]\n",
    "    # Perform update\n",
    "    if update_fn == gradient_update:\n",
    "      gradient_update(loss, params, **optim_kwargs)\n",
    "    else:\n",
    "      update_fn(loss, params, aux_tensors, **optim_kwargs)\n",
    "  if log_traj:\n",
    "    return traj\n",
    "\n",
    "\n",
    "L = 4.\n",
    "xs = np.linspace(-L, L, 30)\n",
    "ys = np.linspace(-L, L, 30)\n",
    "U, V = np.meshgrid(xs, ys)\n",
    "\n",
    "# Compute loss surface\n",
    "g = lambda u, v: loss_2d(copy.deepcopy(model), u, v)\n",
    "Z = np.fromiter(map(g, U.ravel(), V.ravel()), U.dtype).reshape(V.shape)"
   ]
  },
  {
   "cell_type": "markdown",
   "metadata": {},
   "source": [
    "### Coding Exercise 4.1: Implement momentum\n",
    "\n",
    "In this exercise you will implement the momentum update given by:\n",
    "$$w_{t+1} = w_t - \\eta \\nabla J(w_t) + \\beta (w_t - w_{t-1})$$\n",
    "\n",
    "It is convenient to re-express this update rule in terms of a recursion. For that, we define 'velocity' as the quantity:\n",
    "$$v_{t-1} := w_{t} - w_{t-1},$$\n",
    "which leads to the two-step update rule:\n",
    "$$ v_t = - \\eta \\nabla J(w_t) + \\beta (\\underbrace{w_t - w_{t-1}}_{v_{t-1}})$$\n",
    "$$ w_{t+1} \\leftarrow w_t + v_{t}$$\n",
    "\n",
    "Pay attention to the positive sign of the update in the last equation, given the definition of $v_t$, above. "
   ]
  },
  {
   "cell_type": "code",
   "execution_count": null,
   "metadata": {},
   "outputs": [],
   "source": [
    "def momentum_update(loss, params, grad_vel, lr=1e-1, beta=0.8):\n",
    "  \"\"\"Perform a momentum update over a collection of parameters given a loss and 'velocities'\n",
    "\n",
    "  Args:\n",
    "    loss (tensor): A scalar tensor containing the loss whose gradient will be computed\n",
    "    params (iterable): Collection of parameters with respect to which we compute gradients\n",
    "    grad_vel (iterable): Collection containing the 'velocity' v_t for each parameter\n",
    "    lr (float): Scalar specifying the learning rate or step-size for the update\n",
    "    beta (float): Scalar 'momentum' parameter\n",
    "  \"\"\"\n",
    "  # Clear up gradients as Pytorch automatically accumulates gradients from\n",
    "  # successive backward calls\n",
    "  zero_grad(params)\n",
    "  # Compute gradients on given objective\n",
    "  loss.backward()\n",
    "\n",
    "  for (par, vel) in zip(params, grad_vel):\n",
    "    #################################################\n",
    "    ## TODO for students: update the value of the parameter ##\n",
    "    raise NotImplementedError(\"Student exercise: implement momentum update\")\n",
    "    #################################################\n",
    "    # Update 'velocity'\n",
    "    vel.data = ...\n",
    "    # Update parameters\n",
    "    par.data += ..."
   ]
  },
  {
   "cell_type": "markdown",
   "metadata": {
    "colab_type": "text"
   },
   "source": [
    "[*Click for solution*](https://github.com/NeuromatchAcademy/course-content-dl/tree/main//tutorials/W1D4_Optimization/solutions/W1D4_Tutorial1_Solution_006b32f2.py)\n",
    "\n"
   ]
  },
  {
   "cell_type": "markdown",
   "metadata": {},
   "source": [
    "### Interactive Demo 4.1: Momentum vs GD"
   ]
  },
  {
   "cell_type": "code",
   "execution_count": null,
   "metadata": {
    "cellView": "form",
    "colab": {
     "base_uri": "https://localhost:8080/",
     "height": 145,
     "referenced_widgets": [
      "281035a3dca941a198cfb9d571546508",
      "51ae6354ceea4d02b2bb17f5baccbc13",
      "6e43aca56c9e469d9c25ed7de742705a",
      "7ed47ad2611447f7a736adc423340682",
      "93a57498325f4566af90c3e82b9186c7",
      "836427fc44814e53a6eb3064ef7f043a",
      "decb5c52e66c4fa4a4ae2cc02bf1edf9",
      "557499df115747feb3725cc7f71694ed",
      "1da841ac83c14b1f9e1864251ae36c19",
      "16c965241de7402bb34f9d2252b91b64",
      "bdc8c76be86b4e389cc72842e5081abf",
      "d7472fe545844325a24ba24f054d19a3",
      "a1270a45794646cc854dad466c46323b",
      "e105774347b74ad6ac948bc67fc22ebd",
      "01bcf272b20740958fa431c0b160bc32",
      "30c4d4e1cdf144cab78b431d855b98de"
     ]
    },
    "outputId": "8d275888-946a-4345-aae8-1441f789e881"
   },
   "outputs": [],
   "source": [
    "#@markdown The plots below show the distance to the optimum for both variables\n",
    "#@markdown accros the two methos, as well as the parameter trajectory over the loss\n",
    "#@markdown surface.\n",
    "from matplotlib.lines import Line2D\n",
    "\n",
    "\n",
    "# Find the optimum of this 2D problem using Newton's method\n",
    "def run_newton(init_list=[0., 0.], max_iter=200):\n",
    "\n",
    "  par_tensor = torch.tensor(init_list, requires_grad=True)\n",
    "  t_g = lambda par_tensor: g(par_tensor[0], par_tensor[1])\n",
    "\n",
    "  for _ in range(max_iter):\n",
    "    eval_loss = t_g(par_tensor)\n",
    "    eval_grad = torch.autograd.grad(eval_loss, [par_tensor])[0]\n",
    "    eval_hess = torch.autograd.functional.hessian(t_g, par_tensor)\n",
    "    # Newton's update is:  - inverse(Hessian) x gradient\n",
    "    par_tensor.data -= torch.inverse(eval_hess) @ eval_grad\n",
    "\n",
    "  return par_tensor.data.numpy()\n",
    "\n",
    "\n",
    "best_u, best_v  = run_newton()\n",
    "\n",
    "# Initialization of the variables\n",
    "INITS = [2.5, 3.7]\n",
    "\n",
    "# Used for plotting\n",
    "LABELS = ['GD', 'Momentum']\n",
    "COLORS = ['black', 'red']\n",
    "LSTYLES = ['-', '--']\n",
    "\n",
    "@widgets.interact_manual\n",
    "def momentum_experiment(max_steps=widgets.IntSlider(300, 50, 500, 5),\n",
    "                        lr=widgets.FloatLogSlider(value=1e-1, min=-3, max=0.7, step=0.1),\n",
    "                        beta=widgets.FloatSlider(value=9e-1, min=0, max=1., step=0.01)\n",
    "                        ):\n",
    "\n",
    "  # Execute both optimizers\n",
    "  sgd_traj = run_optimizer(INITS, eval_fn=g, update_fn=gradient_update,\n",
    "                           max_steps=max_steps, optim_kwargs={'lr': lr})\n",
    "  mom_traj = run_optimizer(INITS, eval_fn=g, update_fn=momentum_update,\n",
    "                           max_steps=max_steps, optim_kwargs={'lr': lr, 'beta':beta})\n",
    "\n",
    "  TRAJS = [sgd_traj, mom_traj]\n",
    "\n",
    "  # best_u, best_v = mom_traj[-1][0], mom_traj[-1][1]\n",
    "  # Plot distances\n",
    "  fig = plt.figure(figsize=(9,4))\n",
    "  plot_param_distance(best_u, best_v, TRAJS, fig,\n",
    "                      LSTYLES, LABELS, use_log=True)\n",
    "\n",
    "  # # Plot trajectories\n",
    "  fig = plt.figure(figsize=(12, 5))\n",
    "  ax = plot_surface(U, V, Z, fig)\n",
    "  for traj, c, label in zip(TRAJS, COLORS, LABELS):\n",
    "    ax.plot3D(*traj.T, c, linewidth=0.3, label=label)\n",
    "    ax.scatter3D(*traj.T, '.-', s=1, c=c)\n",
    "\n",
    "  # Plot optimum point\n",
    "  ax.scatter(best_u, best_v, Z.min(), marker='*', s=80, c='lime', label='Opt.');\n",
    "  lines = [Line2D([0], [0],\n",
    "                  color=c,\n",
    "                  linewidth=3,\n",
    "                  linestyle='--') for c in COLORS]\n",
    "  lines.append(Line2D([0], [0], color='lime', linewidth=0, marker='*'))\n",
    "  ax.legend(lines, LABELS + ['Optimum'], loc='right',\n",
    "            bbox_to_anchor=(.8, -0.1), ncol=len(LABELS) + 1)"
   ]
  },
  {
   "cell_type": "markdown",
   "metadata": {},
   "source": [
    "### Think!\n",
    "\n",
    "- Discuss how this specific example illustrates the issue of poor conditioning in optimization? How does momentum help resolve these difficulties?\n",
    "\n",
    "- Do you see oscillations for any of these methods? Why does this happen?\n",
    "\n",
    "- Finally, tune the learning rate and momentum parameters to achieve a loss below $10^{-6}$ (for both dimensions) within 100 iterations."
   ]
  },
  {
   "cell_type": "markdown",
   "metadata": {
    "colab_type": "text"
   },
   "source": [
    "[*Click for solution*](https://github.com/NeuromatchAcademy/course-content-dl/tree/main//tutorials/W1D4_Optimization/solutions/W1D4_Tutorial1_Solution_7d34ad08.py)\n",
    "\n"
   ]
  },
  {
   "cell_type": "markdown",
   "metadata": {},
   "source": [
    "---\n",
    "# Section 5: Non-convexity\n",
    "\n",
    "The introduction of even just 1 hidden layer in the neural network transforms the previous convex optimization problem into a non-convex one. And with great non-convexity, comes great responsibility... (Sorry, we couldn't help it!)\n",
    "\n",
    "**Note:** From this section onwards we will be dealing with non-convex optimization problems for the remaining of the tutorial. "
   ]
  },
  {
   "cell_type": "code",
   "execution_count": null,
   "metadata": {
    "cellView": "form",
    "colab": {
     "base_uri": "https://localhost:8080/",
     "height": 579,
     "referenced_widgets": [
      "f9296a5889be4a118fa747e991963c8b",
      "83121691cec54ebc99c5766f0d8bc927",
      "7525ddd2a6b24d9ea10d83eb6233e9ea",
      "3322b207d568417aa55203b12e5d756b",
      "fc2243f22f514288a054d9652e3b3225",
      "f144cc90df794f46b5f590fc2bdb40af"
     ]
    },
    "outputId": "b434b207-0e3a-47b9-f1c7-ec1bded7e8e9"
   },
   "outputs": [],
   "source": [
    "#@title Video 5: Overparametrization\n",
    "# Insert the ID of the corresponding youtube video\n",
    "from ipywidgets import widgets\n",
    "\n",
    "out2 = widgets.Output()\n",
    "with out2:\n",
    "  from IPython.display import IFrame\n",
    "  class BiliVideo(IFrame):\n",
    "    def __init__(self, id, page=1, width=400, height=300, **kwargs):\n",
    "      self.id=id\n",
    "      src = \"https://player.bilibili.com/player.html?bvid={0}&page={1}\".format(id, page)\n",
    "      super(BiliVideo, self).__init__(src, width, height, **kwargs)\n",
    "\n",
    "  video = BiliVideo(id=f\"\", width=854, height=480, fs=1)\n",
    "  print(\"Video available at https://www.bilibili.com/video/{0}\".format(video.id))\n",
    "  display(video)\n",
    "\n",
    "out1 = widgets.Output()\n",
    "with out1:\n",
    "  from IPython.display import YouTubeVideo\n",
    "  video = YouTubeVideo(id=f\"7vUpUEKKl5o\", width=854, height=480, fs=1, rel=0)\n",
    "  print(\"Video available at https://youtube.com/watch?v=\" + video.id)\n",
    "  display(video)\n",
    "\n",
    "out = widgets.Tab([out1, out2])\n",
    "out.set_title(0, 'Youtube')\n",
    "out.set_title(1, 'Bilibili')\n",
    "\n",
    "display(out)"
   ]
  },
  {
   "cell_type": "markdown",
   "metadata": {},
   "source": [
    "Take a couple of minutes to play with a more complex 3D visualization of the loss landscape of a neural network on a non-convex problem. Visit https://losslandscape.com/explorer.\n",
    "\n",
    "1. Explore the features on the bottom left corner. You can see an explanation for each icon by clicking on the [i] button located on the top right corner.\n",
    "2. Use the 'gradient descent' feature to perform a thought experiment:\n",
    "    -   Choose an initialization\n",
    "    -   Choose the learning rate\n",
    "    -   Mentally formulate your hypothesis about what kind of trajectory you expect to observe \n",
    "3. Run the experiment and contrast your intuition with the observed behavior.\n",
    "4. Repeat this experiment a handful of times for several initialization/learning rate configurations\n"
   ]
  },
  {
   "cell_type": "markdown",
   "metadata": {},
   "source": [
    "## Interactive Demo 5.1: Overparametrization to the rescue!\n",
    "\n",
    "As you may have seen, the non-convex nature of the surface can lead the optimization process to get stuck in undesirable local-optima. There is ample empirical evidence supporting the claim that 'overparameterized' models are easier to train.\n",
    "\n",
    "We will explore this assertion in the context of our MLP training. For this, we initialize a fixed model and construct several models by small random perturbations to the original initialized weights. Now, we train each of these perturbed models and see how the loss evolves. If we were in the convex setting, we should reach very similar objective values upon convergence since all these models were very close at the beginning of training, and in convex problems, every local optimum is also a global optimum.\n",
    "\n",
    "Use the interactive plot below to visualize the loss progression for these perturbed models:\n",
    "\n",
    "1. Select different settings from the `hidden_dims` drop-down menu.\n",
    "2. Explore the effect of the number of steps and learning rate."
   ]
  },
  {
   "cell_type": "code",
   "execution_count": null,
   "metadata": {
    "cellView": "form",
    "colab": {
     "base_uri": "https://localhost:8080/",
     "height": 177,
     "referenced_widgets": [
      "eefc723a760546e49144cdfc99917a55",
      "bc906e548fad4ccdb03908cc26743af2",
      "94a517af97a641fbb7bd9f94d28af70e",
      "1defadf3dac74564bde45df3c0da24fe",
      "9646fdc6e6794ac88f474ec6c342016a",
      "87f265a82f644cd2b08ffe85cf771693",
      "603feab40107467aaa46f59c6450c793",
      "3a8511e32d77448aa71e7187d030524d",
      "6aca39d4827342f084097c0e5fcbba24",
      "f597bd0e13d041b29d2a89e032e93d99",
      "2bcdaa0ccacf4bb7bf851ee855ae4aa8",
      "6fdac062b0d5491baf3af1fedb86ddc8",
      "9ab84f35081141ea9364443ff3ba6837",
      "4348e6d2533348c885a1a831358b1b80",
      "6f82eea14f8149d0bdd11fbd4c51cbb6",
      "4cd8a206421146b887c9d8c8ee8e7cd0",
      "5e9383dab5f04d5389383bc711590cf7",
      "5ae85feb58014eec9456e626728550d5",
      "63fe609002d540ed8531492792babf31"
     ]
    },
    "outputId": "8eb616ae-0237-436b-c2d3-9279d4af6e00"
   },
   "outputs": [],
   "source": [
    "#@markdown Execute this cell to enable the widget!\n",
    "\n",
    "@widgets.interact_manual\n",
    "def overparam(max_steps=widgets.IntSlider(150, 50, 500, 5),\n",
    "              hidden_dims=widgets.Dropdown(options=[\"10\", \"20, 20\", \"100, 100\"],\n",
    "                                           value=\"10\"),\n",
    "              lr=widgets.FloatLogSlider(value=5e-2, min=-3, max=0, step=0.1),\n",
    "              num_inits=widgets.IntSlider(7, 5, 10, 1)):\n",
    "\n",
    "    X, y = train_set.data[subset_index, :], train_set.targets[subset_index]\n",
    "\n",
    "    hdims = [int(s) for s in hidden_dims.split(',')]\n",
    "    base_model = MLP(in_dim=784, out_dim=10, hidden_dims=hdims)\n",
    "\n",
    "    fig, axs = plt.subplots(1, 1, figsize=(5, 4))\n",
    "\n",
    "    for _ in range(num_inits):\n",
    "      model = copy.deepcopy(base_model)\n",
    "      random_update(model, noise_scale=2e-1)\n",
    "\n",
    "      loss_hist = np.zeros((max_steps, 2))\n",
    "      for step in range(max_steps):\n",
    "        loss = loss_fn(model(X), y)\n",
    "        gradient_update(loss, list(model.parameters()), lr=lr)\n",
    "        loss_hist[step] = np.array([step, loss.item()])\n",
    "\n",
    "      plt.plot(loss_hist[:, 0], loss_hist[:, 1])\n",
    "\n",
    "    plt.xlabel('Iteration')\n",
    "    plt.ylabel('Loss')\n",
    "    plt.ylim(0, 3);\n",
    "\n",
    "    num_params = sum([np.prod(_.shape) for _ in model.parameters()])\n",
    "    print('Number of paramaters in model:  ' + str(num_params))"
   ]
  },
  {
   "cell_type": "markdown",
   "metadata": {},
   "source": [
    "### Think!\n",
    "\n",
    "- We see that as we increase the width/depth of the network, training becomes faster and more consistent across different initializations. What might be the reasons for this behavior? \n",
    "\n",
    "- What are some potential downsides of this approach to dealing with non-convexity? \n"
   ]
  },
  {
   "cell_type": "markdown",
   "metadata": {
    "colab_type": "text"
   },
   "source": [
    "[*Click for solution*](https://github.com/NeuromatchAcademy/course-content-dl/tree/main//tutorials/W1D4_Optimization/solutions/W1D4_Tutorial1_Solution_a22756b0.py)\n",
    "\n"
   ]
  },
  {
   "cell_type": "markdown",
   "metadata": {},
   "source": [
    "---\n",
    "# Section 6: Full gradients are expensive\n",
    "\n",
    "So far we have used only a small (fixed) subset of 500 trainig examples to performe the updates on the model parameters in our quest to minimize the loss. But what if we decided to use the training set? Do our current approach scale to datasets with tens of thousands, or millions of datapoints?\n",
    "\n",
    "In this section we explore an efficient alternative to avoid having to perform computations on all the training examples before performing a parameter update."
   ]
  },
  {
   "cell_type": "code",
   "execution_count": null,
   "metadata": {
    "cellView": "form",
    "colab": {
     "base_uri": "https://localhost:8080/",
     "height": 579,
     "referenced_widgets": [
      "2606268c658941178171c2cdeb4dd6be",
      "75e0f8439b7f4dcc9d32b79f2e977aa7",
      "15951b50089c4a699b0e6070c2d5eeac",
      "f9cd9e9d2b4a4ce994a9e543d82a6237",
      "9aa1a830347e4607be14e0fb2af4645d",
      "27a2433980c1413db0184e42e3e8ff39"
     ]
    },
    "outputId": "cce73d73-9cd6-4099-de7d-6ca6632943fe"
   },
   "outputs": [],
   "source": [
    "#@title Video 6: Mini-batches\n",
    "# Insert the ID of the corresponding youtube video\n",
    "from ipywidgets import widgets\n",
    "\n",
    "out2 = widgets.Output()\n",
    "with out2:\n",
    "  from IPython.display import IFrame\n",
    "  class BiliVideo(IFrame):\n",
    "    def __init__(self, id, page=1, width=400, height=300, **kwargs):\n",
    "      self.id=id\n",
    "      src = \"https://player.bilibili.com/player.html?bvid={0}&page={1}\".format(id, page)\n",
    "      super(BiliVideo, self).__init__(src, width, height, **kwargs)\n",
    "\n",
    "  video = BiliVideo(id=f\"\", width=854, height=480, fs=1)\n",
    "  print(\"Video available at https://www.bilibili.com/video/{0}\".format(video.id))\n",
    "  display(video)\n",
    "\n",
    "out1 = widgets.Output()\n",
    "with out1:\n",
    "  from IPython.display import YouTubeVideo\n",
    "  video = YouTubeVideo(id=f\"hbqUxpNBUGk\", width=854, height=480, fs=1, rel=0)\n",
    "  print(\"Video available at https://youtube.com/watch?v=\" + video.id)\n",
    "  display(video)\n",
    "\n",
    "out = widgets.Tab([out1, out2])\n",
    "out.set_title(0, 'Youtube')\n",
    "out.set_title(1, 'Bilibili')\n",
    "\n",
    "display(out)"
   ]
  },
  {
   "cell_type": "markdown",
   "metadata": {},
   "source": [
    "## Interactive Demo 6.1: Cost of computation\n",
    "\n",
    "Evaluating a neural network is a relatively fast process. However, when repeated millions of times, the computational cost of performing forward and backwards passes through the network starts becoming significant.\n",
    "\n",
    "In the visualization below, we show the time (averaged over 5 runs) of computing a forward and backward pass with a changing number of input examples. Choose from the different options in the drop-down box and note how the vertical scale changes depending on the size of the network. \n",
    "\n",
    "**Remarks:** Note the computational cost of a forward pass follows a clear linear trend depending on the number of input examples, as well as how the cost of the corresponding backward pass has a similar computational complexity."
   ]
  },
  {
   "cell_type": "code",
   "execution_count": null,
   "metadata": {
    "cellView": "form",
    "colab": {
     "base_uri": "https://localhost:8080/",
     "height": 319,
     "referenced_widgets": [
      "a5d564fa73e34e21964d83886f82e16f",
      "e1f28e3a06af4674906144010801d692",
      "65c2e24554164c9d810da891eccd9deb",
      "f2ba8dc436d14f65b42dc875a9977476",
      "b3da4a28d5a64431ba536fcacce5a977",
      "67ca30c11761459ca84a64a3850701a0",
      "0b3c89db5d4d4487bb8b92e29cf75d77"
     ]
    },
    "outputId": "657fa946-4c06-4de7-faec-d791727bbf89"
   },
   "outputs": [],
   "source": [
    "#@markdown Execute this cell to enable the widget!\n",
    "\n",
    "def measure_update_time(model, num_points):\n",
    "  X, y = train_set.data[:num_points], train_set.targets[:num_points]\n",
    "  start_time = time.time()\n",
    "  loss = loss_fn(model(X), y)\n",
    "  loss_time = time.time()\n",
    "  gradient_update(loss, list(model.parameters()), lr=0)\n",
    "  gradient_time = time.time()\n",
    "  return loss_time - start_time, gradient_time - loss_time\n",
    "\n",
    "\n",
    "@widgets.interact\n",
    "def computation_time(hidden_dims=widgets.Dropdown(options=[\"1\", \"100\", \"50, 50\"],\n",
    "                                                  value=\"100\")):\n",
    "\n",
    "  hdims = [int(s) for s in hidden_dims.split(',')]\n",
    "  model = MLP(in_dim=784, out_dim=10, hidden_dims=hdims)\n",
    "\n",
    "  NUM_POINTS = [1, 5, 10, 100, 200, 500, 1000, 5000, 10000, 20000, 30000, 50000]\n",
    "  times_list = []\n",
    "  for _ in range(5):\n",
    "    times_list.append(np.array([measure_update_time(model, _) for _ in NUM_POINTS]))\n",
    "\n",
    "  times = np.array(times_list).mean(axis=0)\n",
    "\n",
    "  fig, axs = plt.subplots(1, 1, figsize=(5,4))\n",
    "  plt.plot(NUM_POINTS, times[:, 0], label='Forward')\n",
    "  plt.plot(NUM_POINTS, times[:, 1], label='Backward')\n",
    "  plt.xlabel('Number of data points')\n",
    "  plt.ylabel('Seconds')\n",
    "  plt.legend()"
   ]
  },
  {
   "cell_type": "markdown",
   "metadata": {},
   "source": [
    "### Coding Exercise 6.1: Implement minibatch sampling\n",
    "\n",
    "Complete the code in `sample_minibatch` so as to produce IID subsets of the training set of the desired size. (This is _not_ a trick question.) "
   ]
  },
  {
   "cell_type": "code",
   "execution_count": null,
   "metadata": {},
   "outputs": [],
   "source": [
    "def sample_minibatch(input_data, target_data, num_points=100):\n",
    "  \"\"\"Sample a minibatch of size num_point from the provided input-target data\n",
    "\n",
    "  Args:\n",
    "    input_data (tensor): Multi-dimensional tensor containing the input data\n",
    "    input_data (tensor): 1D tensor containing the class labels\n",
    "    num_points (int): Number of elements to be included in minibatch\n",
    "\n",
    "  Returns:\n",
    "    batch_inputs (tensor): Minibatch inputs\n",
    "    batch_targets (tensor): Minibatch targets\n",
    "  \"\"\"\n",
    "  #################################################\n",
    "  ## TODO for students: sample minibatch of data ##\n",
    "  raise NotImplementedError(\"Student exercise: implement gradient update\")\n",
    "  #################################################\n",
    "  # Sample a collection of IID indices from the existing data\n",
    "  batch_indices = ...\n",
    "  # Use batch_indices to extract entries from the input and target data tensors\n",
    "  batch_inputs = input_data[...]\n",
    "  batch_targets = target_data[...]\n",
    "\n",
    "  return batch_inputs, batch_targets"
   ]
  },
  {
   "cell_type": "markdown",
   "metadata": {
    "colab_type": "text"
   },
   "source": [
    "[*Click for solution*](https://github.com/NeuromatchAcademy/course-content-dl/tree/main//tutorials/W1D4_Optimization/solutions/W1D4_Tutorial1_Solution_4c271f26.py)\n",
    "\n"
   ]
  },
  {
   "cell_type": "markdown",
   "metadata": {},
   "source": [
    "### Interactive Demo 6.2: *Compare* different minibatch sizes\n",
    "\n",
    "What are the trade-offs induced by the choice of minibatch size? The interactive plot below shows the training evolution of a 2-hidden layer MLP with 100 hidden units in each hidden layer. Different plots correspond to a different choice of minibatch size. We have a fixed time budget for all the cases, reflected in the horizontal axes of these plots."
   ]
  },
  {
   "cell_type": "code",
   "execution_count": null,
   "metadata": {
    "cellView": "form",
    "colab": {
     "base_uri": "https://localhost:8080/",
     "height": 146,
     "referenced_widgets": [
      "2320d830e8cb41d99438d875aa76cded",
      "5e7d24749c9b4909a58bf77e9e74579a",
      "2df8c1f0547a4c0ca0088c3ce9bbda99",
      "c7adc99f455449b2ac4d6f79510490c5",
      "03e5ba657b1c4336936a5f66cbaa12e4",
      "eef05f3ca9114e8db327b9d82b2baf70",
      "43ec8a661e79472991bd8b491b44646e",
      "f3ca9ba2c2ac4f63838db087be56303b",
      "d6ce7e13bd8e48049bdb419bafbefe62",
      "bba5902aa67344f49ba6a9cc289f7ca3",
      "899a518ff9a64fa9a20870281d842054",
      "27df546df60243e5836543a03392213b",
      "49a5dc84d646443b8024bdd6e40a0ea2",
      "977a0b672eba4d16946f056d4cf244ca",
      "a89abea0891f49b6907f1c203d1aa2e4",
      "6d26a7c8d172426e89019c5ea6c8cf57"
     ]
    },
    "outputId": "0dbccf1d-4495-46aa-a5b2-d8f9794a93c6"
   },
   "outputs": [],
   "source": [
    "#@markdown Execute this cell to enable the widget!\n",
    "\n",
    "@widgets.interact_manual\n",
    "def minibatch_experiment(batch_sizes='20, 250, 1000',\n",
    "                         lrs='5e-3, 5e-3, 5e-3',\n",
    "                         time_budget=widgets.Dropdown(options=[\"2.5\", \"5\", \"10\"],\n",
    "                                                      value=\"2.5\")):\n",
    "\n",
    "  batch_sizes = [int(s) for s in batch_sizes.split(',')]\n",
    "  lrs = [float(s) for s in lrs.split(',')]\n",
    "\n",
    "  LOSS_HIST = {_:[] for _ in batch_sizes}\n",
    "\n",
    "  X, y = train_set.data, train_set.targets\n",
    "  base_model = MLP(in_dim=784, out_dim=10, hidden_dims=[100, 100])\n",
    "\n",
    "  for id, batch_size in enumerate(batch_sizes):\n",
    "    start_time = time.time()\n",
    "    # Create a new copy of the model for each batch size\n",
    "    model = copy.deepcopy(base_model)\n",
    "    params = list(model.parameters())\n",
    "    lr = lrs[id]\n",
    "    # Fixed budget per choice of batch size\n",
    "    while (time.time() - start_time) < float(time_budget):\n",
    "      data, labels = sample_minibatch(X, y, batch_size)\n",
    "      loss = loss_fn(model(data), labels)\n",
    "      gradient_update(loss, params, lr=lr)\n",
    "      LOSS_HIST[batch_size].append([time.time() - start_time,\n",
    "                                    loss.item()])\n",
    "\n",
    "  fig, axs = plt.subplots(1, len(batch_sizes), figsize=(10, 3))\n",
    "  for ax, batch_size in zip(axs, batch_sizes):\n",
    "    plot_data = np.array(LOSS_HIST[batch_size])\n",
    "    ax.plot(plot_data[:, 0], plot_data[:, 1], label=batch_size,\n",
    "            alpha=0.8)\n",
    "    ax.set_title('Batch size: ' + str(batch_size))\n",
    "    ax.set_xlabel('Seconds')\n",
    "    ax.set_ylabel('Loss')"
   ]
  },
  {
   "cell_type": "markdown",
   "metadata": {},
   "source": [
    "**Remarks:** SGD works! We have an algorithm that can be applied (with the due precautions) to learn datasets of arbitrary size. \n",
    "\n",
    "However, **note the diference in the vertical scale** across the plots above. When using a larger minibatch, we can perform fewer parameter updates as the forward and backward passes are more expensive.\n",
    "\n",
    "This highlights the interplay between the minibatch size and the learning rate: when our minibatch is larger, we have a more confident estimator of the direction to move, and thus can afford a larger learning rate. On the other hand, extremely small minibatches are very fast computationally but are not representative of the data distribution and yield estimations of the gradient with high variance.\n",
    "\n",
    "We encourage you to tune the value of the learning rate for each of the minibatch sizes in the previous demo, to achieve a training loss steadily below 0.5 within 5 seconds."
   ]
  },
  {
   "cell_type": "markdown",
   "metadata": {},
   "source": [
    "---\n",
    "# Section 7: Adaptive methods\n",
    "\n",
    "As of now, you should be aware that there are many knobs to turn when working on a machine learning problem. Some of these relate to the optimization algorithm, to the choice of model, or to the objective to minimize. Here are some prototypical examples:\n",
    "\n",
    "- Problem: loss function, regularization coefficients (Day 5)\n",
    "- Model: architecture, activations function\n",
    "- Optimizer: learning rate, batch size, momentum coefficient\n",
    "\n",
    "We concentrate on the choices that are directly related with optimization. In particular, we will explore some _automatic_ methods for setting the learning rate, in a way that fixes the poor-conditioning problem and is robust across different problems."
   ]
  },
  {
   "cell_type": "code",
   "execution_count": null,
   "metadata": {
    "cellView": "form",
    "colab": {
     "base_uri": "https://localhost:8080/",
     "height": 579,
     "referenced_widgets": [
      "c46d8fa54e53488eb02f59ef730b1a7f",
      "6a261b2f568c4437bfb8389d42aab2f9",
      "f2dbcb3264ca407c99cf5351405b9dd1",
      "271e3e27ef9a49228e68ba6cf91443a1",
      "763a1907ad5f41038de7e8992270be96",
      "00f4b606c9554e94840a083afe4a5607"
     ]
    },
    "outputId": "57314e2b-afe4-4332-c98a-dec548166b1d"
   },
   "outputs": [],
   "source": [
    "#@title Video 7: Adaptive Methods\n",
    "# Insert the ID of the corresponding youtube video\n",
    "from ipywidgets import widgets\n",
    "\n",
    "out2 = widgets.Output()\n",
    "with out2:\n",
    "  from IPython.display import IFrame\n",
    "  class BiliVideo(IFrame):\n",
    "    def __init__(self, id, page=1, width=400, height=300, **kwargs):\n",
    "      self.id=id\n",
    "      src = \"https://player.bilibili.com/player.html?bvid={0}&page={1}\".format(id, page)\n",
    "      super(BiliVideo, self).__init__(src, width, height, **kwargs)\n",
    "\n",
    "  video = BiliVideo(id=f\"\", width=854, height=480, fs=1)\n",
    "  print(\"Video available at https://www.bilibili.com/video/{0}\".format(video.id))\n",
    "  display(video)\n",
    "\n",
    "out1 = widgets.Output()\n",
    "with out1:\n",
    "  from IPython.display import YouTubeVideo\n",
    "  video = YouTubeVideo(id=f\"Zr6r2kfmQUM\", width=854, height=480, fs=1, rel=0)\n",
    "  print(\"Video available at https://youtube.com/watch?v=\" + video.id)\n",
    "  display(video)\n",
    "\n",
    "out = widgets.Tab([out1, out2])\n",
    "out.set_title(0, 'Youtube')\n",
    "out.set_title(1, 'Bilibili')\n",
    "\n",
    "display(out)"
   ]
  },
  {
   "cell_type": "markdown",
   "metadata": {},
   "source": [
    "### Coding Exercise 7.1: Implement RMSprop\n",
    "\n",
    "In this exercise you will implement the update of the RMSprop optimizer:\n",
    "\n",
    "$$ w_{t+1} = w_t - \\eta \\frac{\\nabla J(w_t)}{\\sqrt{v_t + \\epsilon}}$$\n",
    "\n",
    "$$ v_{t+1} = \\alpha v_t + (1 - \\alpha) \\nabla J(w_t)^2,$$\n",
    "\n",
    "where the non-standard operations (division of two vectors, squaring a vector, etc) are to be interpreted as element-wise operations, i.e., the operation is applied to each (pair of) entry[ies] of the vector(s) considered as real number(s).\n",
    "\n",
    "Here, the $\\epsilon$ hyperparameter provides numerical estability to the algorithm, by preventing the learning rate to become too big when $v_t$ is small. Typically, we set $\\epsilon$ to a default small value, like $10^{-8}$.  "
   ]
  },
  {
   "cell_type": "code",
   "execution_count": null,
   "metadata": {},
   "outputs": [],
   "source": [
    "def rmsprop_update(loss, params, grad_sq, lr=1e-1, alpha=0.8):\n",
    "  \"\"\"Perform an RMSprop update on a collection of parameters\n",
    "\n",
    "  Args:\n",
    "    loss (tensor): A scalar tensor containing the loss whose gradient will be computed\n",
    "    params (iterable): Collection of parameters with respect to which we compute gradients\n",
    "    grad_sq (iterable): Moving average of squared gradients\n",
    "    lr (float): Scalar specifying the learning rate or step-size for the update\n",
    "    alpha (float): Moving average parameter\n",
    "  \"\"\"\n",
    "  # Clear up gradients as Pytorch automatically accumulates gradients from\n",
    "  # successive backward calls\n",
    "  zero_grad(params)\n",
    "  # Compute gradients on given objective\n",
    "  loss.backward()\n",
    "\n",
    "  for (par, gsq) in zip(params, grad_sq):\n",
    "    #################################################\n",
    "    ## TODO for students: update the value of the parameter ##\n",
    "    # Use gsq.data and par.grad\n",
    "    raise NotImplementedError(\"Student exercise: implement gradient update\")\n",
    "    #################################################\n",
    "    # Update estimate of gradient variance\n",
    "    gsq.data = ...\n",
    "    # Update parameters\n",
    "    par.data -= ..."
   ]
  },
  {
   "cell_type": "markdown",
   "metadata": {
    "colab_type": "text"
   },
   "source": [
    "[*Click for solution*](https://github.com/NeuromatchAcademy/course-content-dl/tree/main//tutorials/W1D4_Optimization/solutions/W1D4_Tutorial1_Solution_f972fb76.py)\n",
    "\n"
   ]
  },
  {
   "cell_type": "markdown",
   "metadata": {},
   "source": [
    "### Interactive Demo 7.1: Compare optimizers\n",
    "\n",
    "Below, we compare your implementations of SGD, momentum and RMSprop. If you have successfully coded all the exercises so far: congrats! You are now *in the know* of some of the most commonly used and powerful tools of optimization for deep learning. "
   ]
  },
  {
   "cell_type": "code",
   "execution_count": null,
   "metadata": {
    "cellView": "form",
    "colab": {
     "base_uri": "https://localhost:8080/",
     "height": 310,
     "referenced_widgets": [
      "b7fbf756d57f461db91dc661e82e4050",
      "c7884cff83444250a3c8a7ccc4ad8f4f",
      "3e7371cb8179466796f0efa326386161",
      "62c104d185104c67ad94545ad52a1975",
      "75662e053d9140ec8a94bb528d3e1b30",
      "a2b43f7c8e614f7190d181baccdd64b0",
      "6548e6f6d1e94cc98a7e2d5ec3cbf52c",
      "7877c8f656344aff8ffcc0df4147856e",
      "ede312e8677d4d519cff5951ec9d8b36",
      "1db997b94b7b4bcd8dafb767d183406a",
      "8dcf7066077549a3a7d32db26d684c54",
      "ea8bf5df1a704277bc1aade0ead01cd2",
      "d68decb62eb745ddbfebc57d53473893"
     ]
    },
    "outputId": "77a46563-960d-42c7-a750-e46be8aa1af9"
   },
   "outputs": [],
   "source": [
    "#@markdown Execute this cell to enable the widget!\n",
    "\n",
    "X, y = train_set.data, train_set.targets\n",
    "\n",
    "@widgets.interact\n",
    "def compare_optimizers(batch_size=(25, 250, 5),\n",
    "                       lr=widgets.FloatLogSlider(value=2e-3, min=-5, max=0),\n",
    "                       max_steps=(50, 500, 5)):\n",
    "\n",
    "  SGD_DICT = [gradient_update, 'SGD', 'black', '-', {'lr': lr}]\n",
    "  MOM_DICT = [momentum_update, 'Momentum', 'red', '--', {'lr': lr, 'beta': 0.9}]\n",
    "  RMS_DICT = [rmsprop_update, 'RMSprop', 'fuchsia', '-', {'lr': lr, 'alpha': 0.8}]\n",
    "\n",
    "  ALL_DICTS = [SGD_DICT, MOM_DICT, RMS_DICT]\n",
    "\n",
    "  base_model = MLP(in_dim=784, out_dim=10, hidden_dims=[100, 100])\n",
    "\n",
    "  LOSS_HIST = {}\n",
    "\n",
    "  for opt_dict in ALL_DICTS:\n",
    "    update_fn, opt_name, color, lstyle, kwargs = opt_dict\n",
    "    LOSS_HIST[opt_name] = []\n",
    "\n",
    "    model = copy.deepcopy(base_model)\n",
    "    params = list(model.parameters())\n",
    "\n",
    "    if opt_name != 'SGD':\n",
    "      aux_tensors = [torch.zeros_like(_) for _ in params]\n",
    "\n",
    "    for step in range(max_steps):\n",
    "      data, labels = sample_minibatch(X, y, batch_size)\n",
    "      loss = loss_fn(model(data), labels)\n",
    "      if opt_name == 'SGD':\n",
    "        update_fn(loss, params, **kwargs)\n",
    "      else:\n",
    "        update_fn(loss, params, aux_tensors, **kwargs)\n",
    "      LOSS_HIST[opt_name].append(loss.item())\n",
    "\n",
    "  fig, axs = plt.subplots(1, len(ALL_DICTS), figsize=(9, 3))\n",
    "\n",
    "  for ax, optim_dict in zip(axs, ALL_DICTS):\n",
    "    opt_name = optim_dict[1]\n",
    "    ax.plot(range(max_steps), LOSS_HIST[opt_name], alpha=0.8)\n",
    "    ax.set_title(opt_name)\n",
    "    ax.set_xlabel('Iteration')\n",
    "    ax.set_ylabel('Loss')\n",
    "    ax.set_ylim(0, 2.5)"
   ]
  },
  {
   "cell_type": "markdown",
   "metadata": {},
   "source": [
    "#### **Discussion**\n",
    "\n",
    "Tune the 3 methods above in order to make each individually excel and discuss your findings. How do the methods compare in terms of robustness to small changes of the hyperparameters? How easy was it to find a good hyperparameter configuration? "
   ]
  },
  {
   "cell_type": "markdown",
   "metadata": {},
   "source": [
    "\n",
    "**Remarks:** Note that RMSprop is allowing us to use a 'per-dimension' learning rate _without having to tune one learning rate for each dimension **ourselves**_. The method uses information collected about the variance of the gradients throughout training to **adapt** the step size for each of the parameters automatically. The savings in tuning efforts of RMSprop over SGD or 'plain' momentum are undisputed on this task. \n",
    "\n",
    "Moreover, adaptive optimization methods are currently a highly active research domain, with many related algorithms like Adam, AMSgrad, Adagrad being used in practical application and theoretically investigated. "
   ]
  },
  {
   "cell_type": "markdown",
   "metadata": {},
   "source": [
    "---\n",
    "# Section 8: Putting it all together\n",
    "\n",
    "We have progressively built a sophisticated optimization algorithm which is able to deal with a non-convex, poor-conditioned problem concerning tens of thousands of training examples. Now we present _you_ with a small challenge: beat us! :P\n",
    "\n",
    "Your mission is to train an MLP model that can compete with a benchmark model which we have pre-trained for you. In this section you will be able to use the full Pytorch power: loading the data, defining the model, sampling minibatches as well as Pytorch's **optimizer implementations**. \n",
    "\n",
    "There is a big engineering component behind the design of optimizers and their implementation can sometimes become tricky. So unless you are directly doing research in optimization, it's recommended to use an implementation provided by a widely reviewed open-source library."
   ]
  },
  {
   "cell_type": "code",
   "execution_count": null,
   "metadata": {
    "cellView": "form",
    "colab": {
     "base_uri": "https://localhost:8080/",
     "height": 579,
     "referenced_widgets": [
      "1eabd92247764a49b0ddcc4fbbad7e0f",
      "7bc7f778219542ea9237be4db5b249e8",
      "0ba6a678cccb4c32a9feb9cd209a37f2",
      "b5fc6f823b324bec877bf4920a767928",
      "d6b63fa409594bad95a692d0ef49c0ca",
      "5fb190187ba3431fb4cf7d1ce02fa843"
     ]
    },
    "outputId": "06a99398-f7cf-493d-9af1-7776d0bea82e"
   },
   "outputs": [],
   "source": [
    "#@title Video 8: Putting it all together\n",
    "# Insert the ID of the corresponding youtube video\n",
    "from ipywidgets import widgets\n",
    "\n",
    "out2 = widgets.Output()\n",
    "with out2:\n",
    "  from IPython.display import IFrame\n",
    "  class BiliVideo(IFrame):\n",
    "    def __init__(self, id, page=1, width=400, height=300, **kwargs):\n",
    "      self.id=id\n",
    "      src = \"https://player.bilibili.com/player.html?bvid={0}&page={1}\".format(id, page)\n",
    "      super(BiliVideo, self).__init__(src, width, height, **kwargs)\n",
    "\n",
    "  video = BiliVideo(id=f\"\", width=854, height=480, fs=1)\n",
    "  print(\"Video available at https://www.bilibili.com/video/{0}\".format(video.id))\n",
    "  display(video)\n",
    "\n",
    "out1 = widgets.Output()\n",
    "with out1:\n",
    "  from IPython.display import YouTubeVideo\n",
    "  video = YouTubeVideo(id=f\"DP9c13vLiOM\", width=854, height=480, fs=1, rel=0)\n",
    "  print(\"Video available at https://youtube.com/watch?v=\" + video.id)\n",
    "  display(video)\n",
    "\n",
    "out = widgets.Tab([out1, out2])\n",
    "out.set_title(0, 'Youtube')\n",
    "out.set_title(1, 'Bilibili')\n",
    "\n",
    "display(out)"
   ]
  },
  {
   "cell_type": "code",
   "execution_count": null,
   "metadata": {
    "colab": {
     "base_uri": "https://localhost:8080/"
    },
    "outputId": "87f412c6-6be3-405d-f379-646ca555e35a"
   },
   "outputs": [],
   "source": [
    "DEVICE = set_device()\n",
    "\n",
    "# Download parameters of the benchmark model\n",
    "import urllib.request\n",
    "file_url = \"https://gallego-posada.github.io/resources/benchmark_model.pt\"\n",
    "urllib.request.urlretrieve(file_url, \"benchmark_model.pt\")\n",
    "\n",
    "# Load the benchmark model's parameters\n",
    "if DEVICE == \"cuda\":\n",
    "  benchmark_state_dict = torch.load('benchmark_model.pt')\n",
    "else:\n",
    "  benchmark_state_dict = torch.load('benchmark_model.pt',\n",
    "                                    map_location=torch.device('cpu'))\n",
    "\n",
    "# Create MLP object and update weights with those of saved model\n",
    "benchmark_model = MLP(in_dim=784, out_dim=10, hidden_dims=[200, 100, 50])\n",
    "benchmark_model.load_state_dict(benchmark_state_dict)\n",
    "\n",
    "# Define helper function to evaluate models\n",
    "def eval_model(model, data_loader, num_batches=np.inf):\n",
    "\n",
    "  loss_log, acc_log = [], []\n",
    "  device = set_device()\n",
    "  model.to(device=device)\n",
    "\n",
    "  # We are just evaluating the model, no need to compute gradients\n",
    "  with torch.no_grad():\n",
    "    for batch_id, batch in enumerate(data_loader):\n",
    "      # If we only evaluate a number of batches, stop after we reach that number\n",
    "      if batch_id > num_batches:\n",
    "        break\n",
    "      # Extract minibatch data\n",
    "      data, labels = batch[0].to(device), batch[1].to(device)\n",
    "      # Evaluate model and loss on minibatch\n",
    "      preds = model(data)\n",
    "      loss_log.append(loss_fn(preds, labels).item())\n",
    "      acc_log.append(torch.mean(1. * (preds.argmax(dim=1) == labels)).item())\n",
    "\n",
    "  return np.mean(loss_log), np.mean(acc_log)"
   ]
  },
  {
   "cell_type": "markdown",
   "metadata": {},
   "source": [
    "We define an optimizer in the following steps:\n",
    "\n",
    "1. Load  the corresponding class that implements the parameter updates and other internal management activities, including:\n",
    "    - create auxiliary variables,\n",
    "    - update moving averages,\n",
    "    - adjust learning rate.\n",
    "2. Pass the parameters of the Pytorch model that the optimizer has control over. Note that different parameter groups can potentially be controlled by different optimizers.\n",
    "3. Specify hyperparameters, including learning rate, momentum, moving average factors, etc.\n",
    "\n"
   ]
  },
  {
   "cell_type": "markdown",
   "metadata": {},
   "source": [
    "### Coding Exercise 8.1: Train your own model\n",
    "\n",
    "Now, train the model with your preferred optimizer and find a good combination of hyperparameter settings."
   ]
  },
  {
   "cell_type": "code",
   "execution_count": null,
   "metadata": {},
   "outputs": [],
   "source": [
    "#################################################\n",
    "## TODO for students: adjust training settings ##\n",
    "\n",
    "# The three parameters below are in your full control\n",
    "MAX_EPOCHS = 2 #select number of epochs to train\n",
    "LR = 1e-5 #choose the step size\n",
    "BATCH_SIZE = 64 #number of examples per minibatch\n",
    "\n",
    "# Define the model and associated optimizer -- you may change its architecture!\n",
    "model = MLP(in_dim=784, out_dim=10, hidden_dims=[20, 50, 20])\n",
    "\n",
    "if DEVICE == \"cuda\":\n",
    "  model.cuda()\n",
    "\n",
    "# You can take your pick from many different optimizers\n",
    "# Check the optimizer documentation and hyperparameter meaning before using!\n",
    "# More details on Pytorch optimizers: https://pytorch.org/docs/stable/optim.html\n",
    "# optimizer = torch.optim.SGD(model.parameters(), lr=LR, momentum=0.9)\n",
    "# optimizer = torch.optim.RMSprop(model.parameters(), lr=LR, alpha=0.99)\n",
    "# optimizer = torch.optim.Adagrad(model.parameters(), lr=LR)\n",
    "optimizer = torch.optim.Adam(model.parameters(), lr=LR)\n",
    "#################################################"
   ]
  },
  {
   "cell_type": "code",
   "execution_count": null,
   "metadata": {
    "colab": {
     "base_uri": "https://localhost:8080/"
    },
    "outputId": "f202a0e3-b0d5-4d19-a0c7-33f59acaaa21"
   },
   "outputs": [],
   "source": [
    "# Print trainig stats every LOG_FREQ minibatches\n",
    "LOG_FREQ = 200\n",
    "\n",
    "# Frequency for evaluating the validation metrics\n",
    "VAL_FREQ = 200\n",
    "\n",
    "# Load data using a Pytorch Dataset\n",
    "train_set, test_set = load_mnist_data(change_tensors=False)\n",
    "\n",
    "# We separate 10.000 training samples to create a validation set\n",
    "train_set, val_set = torch.utils.data.random_split(train_set, [50000, 10000])\n",
    "\n",
    "# Create the corresponding DataLoaders for training and test\n",
    "train_loader = torch.utils.data.DataLoader(train_set, shuffle=True, batch_size=BATCH_SIZE)\n",
    "val_loader = torch.utils.data.DataLoader(val_set, shuffle=True, batch_size=256)\n",
    "test_loader = torch.utils.data.DataLoader(test_set, batch_size=256)\n",
    "\n",
    "# Run training\n",
    "metrics = {'train_loss':[], 'train_acc':[], 'val_loss':[], 'val_acc':[], 'val_idx':[]}\n",
    "step_idx = 0\n",
    "for epoch in range(MAX_EPOCHS):\n",
    "\n",
    "  running_loss, running_acc = 0., 0.\n",
    "\n",
    "  for batch_id, batch in enumerate(train_loader):\n",
    "    step_idx += 1\n",
    "    # Extract minibatch data and labels\n",
    "    data, labels = batch[0].to(DEVICE), batch[1].to(DEVICE)\n",
    "    # Just like before, refresh gradient accumulators.\n",
    "    # Note that this is now a method of the optimizer.\n",
    "    optimizer.zero_grad()\n",
    "    # Evaluate model and loss on minibatch\n",
    "    preds = model(data)\n",
    "    loss = loss_fn(preds, labels)\n",
    "    acc = torch.mean(1.0 * (preds.argmax(dim=1) == labels))\n",
    "    # Compute gradients\n",
    "    loss.backward()\n",
    "    # Update parameters\n",
    "    # Note how all the magic in the update of the parameters is encapsulated by\n",
    "    # the optimizer class.\n",
    "    optimizer.step()\n",
    "    # Log metrics for plotting\n",
    "    metrics['train_loss'].append(loss.cpu().item())\n",
    "    metrics['train_acc'].append(acc.cpu().item())\n",
    "\n",
    "    if batch_id % VAL_FREQ == (VAL_FREQ-1):\n",
    "      # Get an estimate of the validation accuracy with 100 batches\n",
    "      val_loss, val_acc = eval_model(model, val_loader, 100)\n",
    "      metrics['val_idx'].append(step_idx)\n",
    "      metrics['val_loss'].append(val_loss)\n",
    "      metrics['val_acc'].append(val_acc)\n",
    "\n",
    "      print('[VALID] Epoch %d - Batch %d - Loss: %.3f - Acc: %.3f' %\n",
    "            (epoch + 1, batch_id + 1, val_loss, 100*val_acc))\n",
    "\n",
    "    # print statistics\n",
    "    running_loss += loss.cpu().item()\n",
    "    running_acc += acc.cpu().item()\n",
    "    if batch_id % LOG_FREQ == (LOG_FREQ-1): # Print every LOG_FREQ minibatches\n",
    "      print('[TRAIN] Epoch %d - Batch %d - Loss: %.3f - Acc: %.3f' %\n",
    "            (epoch + 1, batch_id + 1, running_loss / LOG_FREQ, 100 * running_acc / LOG_FREQ))\n",
    "      running_loss, running_acc = 0., 0."
   ]
  },
  {
   "cell_type": "code",
   "execution_count": null,
   "metadata": {
    "colab": {
     "base_uri": "https://localhost:8080/",
     "height": 303
    },
    "outputId": "ed4e6e31-390b-46d1-853c-e9d694788d1f"
   },
   "outputs": [],
   "source": [
    "fig, ax = plt.subplots(1, 2, figsize=(10, 4))\n",
    "\n",
    "ax[0].plot(range(len(metrics['train_loss'])), metrics['train_loss'],\n",
    "           alpha=0.8, label='Train')\n",
    "ax[0].plot(metrics['val_idx'], metrics['val_loss'], label='Valid')\n",
    "ax[0].set_xlabel('Iteration')\n",
    "ax[0].set_ylabel('Loss')\n",
    "ax[0].legend()\n",
    "\n",
    "ax[1].plot(range(len(metrics['train_acc'])), metrics['train_acc'],\n",
    "           alpha=0.8, label='Train')\n",
    "ax[1].plot(metrics['val_idx'], metrics['val_acc'], label='Valid')\n",
    "ax[1].set_xlabel('Iteration')\n",
    "ax[1].set_ylabel('Accuracy')\n",
    "ax[1].legend()"
   ]
  },
  {
   "cell_type": "markdown",
   "metadata": {},
   "source": [
    "### Think!\n",
    "\n",
    "Which metric did you optimize when searching for the right configuration? The training set loss? Accuracy? Validation/test set metrics? Why? Discuss!"
   ]
  },
  {
   "cell_type": "markdown",
   "metadata": {
    "colab_type": "text"
   },
   "source": [
    "[*Click for solution*](https://github.com/NeuromatchAcademy/course-content-dl/tree/main//tutorials/W1D4_Optimization/solutions/W1D4_Tutorial1_Solution_fb3af294.py)\n",
    "\n"
   ]
  },
  {
   "cell_type": "markdown",
   "metadata": {},
   "source": [
    "### Evaluation\n",
    "\n",
    "We _finally_ can evaluate and compare the performance of the models on previously unseen examples. \n",
    "\n",
    "Which model would you keep? (\\*drum roll*)    "
   ]
  },
  {
   "cell_type": "code",
   "execution_count": null,
   "metadata": {
    "colab": {
     "base_uri": "https://localhost:8080/"
    },
    "outputId": "7428ece3-f258-448a-e80a-5874018d97c0"
   },
   "outputs": [],
   "source": [
    "print('Your model')\n",
    "train_loss, train_accuracy = eval_model(model, train_loader)\n",
    "test_loss, test_accuracy = eval_model(model, test_loader)\n",
    "print('Train/Test Loss %.3f %.3f' % (train_loss, test_loss))\n",
    "print('Train/Test Accuracy %.3f %.3f' % (100*train_accuracy, 100*test_accuracy))\n",
    "\n",
    "print('\\nBenchmark model')\n",
    "train_loss, train_accuracy = eval_model(benchmark_model, train_loader)\n",
    "test_loss, test_accuracy = eval_model(benchmark_model, test_loader)\n",
    "print('Train/Test Loss %.3f %.3f' % (train_loss, test_loss))\n",
    "print('Train/Test Accuracy %.3f %.3f' % (100*train_accuracy, 100*test_accuracy))"
   ]
  },
  {
   "cell_type": "markdown",
   "metadata": {},
   "source": [
    "---\n",
    "# Section 9: Ethical concerns"
   ]
  },
  {
   "cell_type": "code",
   "execution_count": null,
   "metadata": {
    "cellView": "form",
    "colab": {
     "base_uri": "https://localhost:8080/",
     "height": 579,
     "referenced_widgets": [
      "57625c511e354e7fbd64199fdbfa04de",
      "22ee2a2f5faa47428c9554e148524f6e",
      "7af8f98fa6ac4249b62448a52909059b",
      "4e8e32b1bf024f92a7cf282eb17d6ce7",
      "3d8c73f1760041e98fe50afcd391951a",
      "10924a50f2884247b258f8a92b2f2aca"
     ]
    },
    "outputId": "bca159fb-201e-4140-9fd4-1c38b45e3ed3"
   },
   "outputs": [],
   "source": [
    "#@title Video 9: Ethical concerns\n",
    "# Insert the ID of the corresponding youtube video\n",
    "from ipywidgets import widgets\n",
    "\n",
    "out2 = widgets.Output()\n",
    "with out2:\n",
    "  from IPython.display import IFrame\n",
    "  class BiliVideo(IFrame):\n",
    "    def __init__(self, id, page=1, width=400, height=300, **kwargs):\n",
    "      self.id=id\n",
    "      src = \"https://player.bilibili.com/player.html?bvid={0}&page={1}\".format(id, page)\n",
    "      super(BiliVideo, self).__init__(src, width, height, **kwargs)\n",
    "\n",
    "  video = BiliVideo(id=f\"\", width=854, height=480, fs=1)\n",
    "  print(\"Video available at https://www.bilibili.com/video/{0}\".format(video.id))\n",
    "  display(video)\n",
    "\n",
    "out1 = widgets.Output()\n",
    "with out1:\n",
    "  from IPython.display import YouTubeVideo\n",
    "  video = YouTubeVideo(id=f\"0EthSI0cknI\", width=854, height=480, fs=1, rel=0)\n",
    "  print(\"Video available at https://youtube.com/watch?v=\" + video.id)\n",
    "  display(video)\n",
    "\n",
    "out = widgets.Tab([out1, out2])\n",
    "out.set_title(0, 'Youtube')\n",
    "out.set_title(1, 'Bilibili')\n",
    "\n",
    "display(out)"
   ]
  },
  {
   "cell_type": "markdown",
   "metadata": {},
   "source": [
    "---\n",
    "# Summary\n",
    "\n",
    "* Optimization is necessary to create Deep Learning models that are guaranteed to converge \n",
    "* Stochastic Gradient Descent and Momentum are two commonly used optimization techniques\n",
    "* RMSProp is a way of adaptive hyper parameter tuning which utilises a per-dimension learning rate\n",
    "* Poor choice of optimization objectives can lead to unforeseen, undesirable consequences \n"
   ]
  }
 ],
 "metadata": {
  "accelerator": "GPU",
  "colab": {
   "collapsed_sections": [],
   "include_colab_link": true,
   "name": "W1D4_Tutorial1",
   "provenance": [],
   "toc_visible": true
  },
  "kernel": {
   "display_name": "Python 3",
   "language": "python",
   "name": "python3"
  },
  "kernelspec": {
   "display_name": "Python 3",
   "language": "python",
   "name": "python3"
  },
  "language_info": {
   "codemirror_mode": {
    "name": "ipython",
    "version": 3
   },
   "file_extension": ".py",
   "mimetype": "text/x-python",
   "name": "python",
   "nbconvert_exporter": "python",
   "pygments_lexer": "ipython3",
   "version": "3.7.1"
  },
  "toc-autonumbering": true,
  "varInspector": {
   "cols": {
    "lenName": 16,
    "lenType": 16,
    "lenVar": 40
   },
   "kernels_config": {
    "python": {
     "delete_cmd_postfix": "",
     "delete_cmd_prefix": "del ",
     "library": "var_list.py",
     "varRefreshCmd": "print(var_dic_list())"
    },
    "r": {
     "delete_cmd_postfix": ") ",
     "delete_cmd_prefix": "rm(",
     "library": "var_list.r",
     "varRefreshCmd": "cat(var_dic_list()) "
    }
   },
   "types_to_exclude": [
    "module",
    "function",
    "builtin_function_or_method",
    "instance",
    "_Feature"
   ],
   "window_display": false
  }
 },
 "nbformat": 4,
 "nbformat_minor": 0
}
