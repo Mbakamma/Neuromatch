{
  "nbformat": 4,
  "nbformat_minor": 0,
  "metadata": {
    "colab": {
      "name": "DoingMoreWithFewerParameters",
      "provenance": [],
      "collapsed_sections": [],
      "toc_visible": true,
      "include_colab_link": true
    },
    "kernel": {
      "display_name": "Python 3",
      "language": "python",
      "name": "python3"
    },
    "kernelspec": {
      "display_name": "Python 3",
      "language": "python",
      "name": "python3"
    },
    "language_info": {
      "codemirror_mode": {
        "name": "ipython",
        "version": 3
      },
      "file_extension": ".py",
      "mimetype": "text/x-python",
      "name": "python",
      "nbconvert_exporter": "python",
      "pygments_lexer": "ipython3",
      "version": "3.7.10"
    }
  },
  "cells": [
    {
      "cell_type": "markdown",
      "metadata": {
        "id": "view-in-github",
        "colab_type": "text"
      },
      "source": [
        "<a href=\"https://colab.research.google.com/github/NeuromatchAcademy/course-content-dl/blob/podcast/tutorials/Module_WrapUps/DoingMoreWithFewerParameters.ipynb\" target=\"_parent\"><img src=\"https://colab.research.google.com/assets/colab-badge.svg\" alt=\"Open In Colab\"/></a>"
      ]
    },
    {
      "cell_type": "markdown",
      "metadata": {
        "execution": {},
        "pycharm": {
          "name": "#%% md\n"
        },
        "id": "rjT5B6TGBjXk"
      },
      "source": [
        "# Deep Learning: Doing more with fewer parameters Wrap-up\n"
      ]
    },
    {
      "cell_type": "markdown",
      "metadata": {
        "execution": {},
        "id": "d6uDqI59BjXm"
      },
      "source": [
        "**Our 2021 Sponsors, including Presenting Sponsor Facebook Reality Labs**\n",
        "\n",
        "<p align='center'><img src='https://github.com/NeuromatchAcademy/widgets/blob/master/sponsors.png?raw=True'/></p>"
      ]
    },
    {
      "cell_type": "markdown",
      "metadata": {
        "execution": {},
        "id": "abrg58W5BjXn"
      },
      "source": [
        "## Podcast Panel Discussion\n",
        "\n",
        "Neuromatch Academy has collaborated with Paul Middlebrooks of the podcast Brain Inspired to host a series of panel discussions on the content modules. \n",
        "\n",
        "The fifth session covers the Deep Learning *Doing more with fewer parameters* module, featuring panelists [Brad Wyble](https://psych.la.psu.edu/directory/bpw10), [Kyunghyun Cho](https://www.kyunghyuncho.me/), [He He](https://hhexiy.github.io/), and [João Sedoc](https://www.stern.nyu.edu/faculty/bio/joao-sedoc).\n",
        "\n",
        "Listen [here](https://braininspired.co/podcast/nma-5/) or in the embedded audio below!"
      ]
    },
    {
      "cell_type": "code",
      "metadata": {
        "cellView": "form",
        "execution": {},
        "id": "UZ-mCJ-GBjXo",
        "outputId": "de920cd6-72d5-4099-dca2-c03473c80bec",
        "colab": {
          "base_uri": "https://localhost:8080/",
          "height": 172
        }
      },
      "source": [
        "# @markdown\n",
        "from IPython.display import IFrame\n",
        "IFrame(src='https://braininspired.castos.com/player/612309', width='100%', height='150')"
      ],
      "execution_count": 1,
      "outputs": [
        {
          "output_type": "execute_result",
          "data": {
            "text/html": [
              "\n",
              "        <iframe\n",
              "            width=\"100%\"\n",
              "            height=\"150\"\n",
              "            src=\"https://braininspired.castos.com/player/612309\"\n",
              "            frameborder=\"0\"\n",
              "            allowfullscreen\n",
              "        ></iframe>\n",
              "        "
            ],
            "text/plain": [
              "<IPython.lib.display.IFrame at 0x7f0fe2b1ead0>"
            ]
          },
          "metadata": {},
          "execution_count": 1
        }
      ]
    }
  ]
}