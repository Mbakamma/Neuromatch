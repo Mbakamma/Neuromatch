{
  "cells": [
    {
      "cell_type": "markdown",
      "metadata": {
        "id": "view-in-github",
        "colab_type": "text"
      },
      "source": [
        "<a href=\"https://colab.research.google.com/github/NeuromatchAcademy/course-content-dl/blob/minor_fix/tutorials/Module_WrapUps/NaturalLanguageProcessing.ipynb\" target=\"_parent\"><img src=\"https://colab.research.google.com/assets/colab-badge.svg\" alt=\"Open In Colab\"/></a>"
      ]
    },
    {
      "cell_type": "markdown",
      "metadata": {
        "execution": {},
        "pycharm": {
          "name": "#%% md\n"
        },
        "id": "4yaLlsCh1Chw"
      },
      "source": [
        "# Deep Learning: Doing more with fewer parameters Wrap-up\n"
      ]
    },
    {
      "cell_type": "markdown",
      "metadata": {
        "execution": {},
        "id": "c8b1d0yX1Chz"
      },
      "source": [
        "<p align='center'><img src='https://github.com/NeuromatchAcademy/widgets/blob/master/sponsors.png?raw=True'/></p>"
      ]
    },
    {
      "cell_type": "markdown",
      "metadata": {
        "execution": {},
        "id": "psD2_l161Chz"
      },
      "source": [
        "## Podcast Panel Discussion\n",
        "\n",
        "Neuromatch Academy has collaborated with Paul Middlebrooks of the podcast Brain Inspired to host a series of panel discussions on the content modules. \n",
        "\n",
        "The fifth session covers the Deep Learning *Convolutional Neural Networks* and *Natural Language Processing* modules, featuring panelists [Brad Wyble](https://psych.la.psu.edu/directory/bpw10), [Kyunghyun Cho](https://www.kyunghyuncho.me/), [He He](https://hhexiy.github.io/), and [João Sedoc](https://www.stern.nyu.edu/faculty/bio/joao-sedoc).\n",
        "\n",
        "Listen [here](https://braininspired.co/podcast/nma-5/) or in the embedded audio below!"
      ]
    },
    {
      "cell_type": "code",
      "execution_count": 1,
      "metadata": {
        "cellView": "form",
        "execution": {},
        "id": "B1_ps9Lj1Ch0",
        "outputId": "4e0c8752-3a55-4ff8-f37a-7de1c447496e",
        "colab": {
          "base_uri": "https://localhost:8080/",
          "height": 172
        }
      },
      "outputs": [
        {
          "output_type": "execute_result",
          "data": {
            "text/plain": [
              "<IPython.lib.display.IFrame at 0x7f433fac61d0>"
            ],
            "text/html": [
              "\n",
              "        <iframe\n",
              "            width=\"100%\"\n",
              "            height=\"150\"\n",
              "            src=\"https://braininspired.castos.com/player/612309\"\n",
              "            frameborder=\"0\"\n",
              "            allowfullscreen\n",
              "        ></iframe>\n",
              "        "
            ]
          },
          "metadata": {},
          "execution_count": 1
        }
      ],
      "source": [
        "# @markdown\n",
        "from IPython.display import IFrame\n",
        "IFrame(src='https://braininspired.castos.com/player/612309', width='100%', height='150')"
      ]
    }
  ],
  "metadata": {
    "colab": {
      "collapsed_sections": [],
      "name": "DoingMoreWithFewerParameters",
      "provenance": [],
      "toc_visible": true,
      "include_colab_link": true
    },
    "kernel": {
      "display_name": "Python 3",
      "language": "python",
      "name": "python3"
    },
    "kernelspec": {
      "display_name": "Python 3",
      "language": "python",
      "name": "python3"
    },
    "language_info": {
      "codemirror_mode": {
        "name": "ipython",
        "version": 3
      },
      "file_extension": ".py",
      "mimetype": "text/x-python",
      "name": "python",
      "nbconvert_exporter": "python",
      "pygments_lexer": "ipython3",
      "version": "3.7.10"
    }
  },
  "nbformat": 4,
  "nbformat_minor": 0
}