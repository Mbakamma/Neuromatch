{
  "nbformat": 4,
  "nbformat_minor": 0,
  "metadata": {
    "colab": {
      "name": "MachineLearning",
      "provenance": [],
      "collapsed_sections": [],
      "toc_visible": true,
      "include_colab_link": true
    },
    "kernel": {
      "display_name": "Python 3",
      "language": "python",
      "name": "python3"
    },
    "kernelspec": {
      "display_name": "Python 3",
      "language": "python",
      "name": "python3"
    },
    "language_info": {
      "codemirror_mode": {
        "name": "ipython",
        "version": 3
      },
      "file_extension": ".py",
      "mimetype": "text/x-python",
      "name": "python",
      "nbconvert_exporter": "python",
      "pygments_lexer": "ipython3",
      "version": "3.7.10"
    }
  },
  "cells": [
    {
      "cell_type": "markdown",
      "metadata": {
        "id": "view-in-github",
        "colab_type": "text"
      },
      "source": [
        "<a href=\"https://colab.research.google.com/github/NeuromatchAcademy/course-content-dl/blob/podcast/tutorials/Category_WrapUps/DeepLearningBasics.ipynb\" target=\"_parent\"><img src=\"https://colab.research.google.com/assets/colab-badge.svg\" alt=\"Open In Colab\"/></a>"
      ]
    },
    {
      "cell_type": "markdown",
      "metadata": {
        "execution": {},
        "pycharm": {
          "name": "#%% md\n"
        },
        "id": "G_haUySz45wO"
      },
      "source": [
        "# Deep Learning Basics\n"
      ]
    },
    {
      "cell_type": "markdown",
      "metadata": {
        "execution": {},
        "id": "r5-2hb7s45wQ"
      },
      "source": [
        "**Our 2021 Sponsors, including Presenting Sponsor Facebook Reality Labs**\n",
        "\n",
        "<p align='center'><img src='https://github.com/NeuromatchAcademy/widgets/blob/master/sponsors.png?raw=True'/></p>"
      ]
    },
    {
      "cell_type": "markdown",
      "metadata": {
        "execution": {},
        "id": "AoVaocTg45wQ"
      },
      "source": [
        "## Podcast Panel Discussion\n",
        "\n",
        "Neuromatch Academy has collaborated with Paul Middlebrooks of the podcast Brain Inspired to host a series of panel discussions on the content modules. \n",
        "\n",
        "This first session covers the Machine Learning module, featuring panelists [Amita Kapoor](https://www.dramitakapoor.com/), [Lyle Ungar](https://www.cis.upenn.edu/~ungar/), and [Surya Ganguli](https://ganguli-gang.stanford.edu/surya.html).\n",
        "\n",
        "Listen [here](https://braininspired.co/podcast/nma-4/) or in the embedded audio below!"
      ]
    },
    {
      "cell_type": "code",
      "metadata": {
        "execution": {},
        "cellView": "form",
        "id": "XCffGm_c45wQ",
        "outputId": "8f332aca-d609-4285-ab95-c43e2af64711",
        "colab": {
          "base_uri": "https://localhost:8080/",
          "height": 172
        }
      },
      "source": [
        "# @markdown\n",
        "from IPython.display import IFrame\n",
        "IFrame(src='https://braininspired.castos.com/player/596518', width='100%', height='150')"
      ],
      "execution_count": 1,
      "outputs": [
        {
          "output_type": "execute_result",
          "data": {
            "text/html": [
              "\n",
              "        <iframe\n",
              "            width=\"100%\"\n",
              "            height=\"150\"\n",
              "            src=\"https://braininspired.castos.com/player/596518\"\n",
              "            frameborder=\"0\"\n",
              "            allowfullscreen\n",
              "        ></iframe>\n",
              "        "
            ],
            "text/plain": [
              "<IPython.lib.display.IFrame at 0x7f17c1438390>"
            ]
          },
          "metadata": {
            "tags": []
          },
          "execution_count": 1
        }
      ]
    }
  ]
}