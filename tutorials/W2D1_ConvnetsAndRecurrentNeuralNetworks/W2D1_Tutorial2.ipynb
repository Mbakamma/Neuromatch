{
  "cells": [
    {
      "cell_type": "markdown",
      "metadata": {
        "id": "view-in-github",
        "colab_type": "text"
      },
      "source": [
        "<a href=\"https://colab.research.google.com/github/NeuromatchAcademy/course-content-dl/blob/updates-w2/tutorials/W2D1_ConvnetsAndRecurrentNeuralNetworks/W2D1_Tutorial2.ipynb\" target=\"_parent\"><img src=\"https://colab.research.google.com/assets/colab-badge.svg\" alt=\"Open In Colab\"/></a>"
      ]
    },
    {
      "cell_type": "markdown",
      "metadata": {
        "execution": {},
        "id": "Uqz6ieV5M5yz"
      },
      "source": [
        "# Tutorial 2: Introduction to RNNs\n",
        "\n",
        "**Week 2, Day 1: Convnets And Recurrent Neural Networks**\n",
        "\n",
        "**By Neuromatch Academy**\n",
        "\n",
        "__Content creators:__ Dawn McKnight, Richard Gerum, Cassidy Pirlot, Rohan Saha, Liam Peet-Pare, Saeed Najafi, Alona Fyshe\n",
        "\n",
        "__Content reviewers:__ Saeed Salehi, Lily Cheng, Yu-Fang Yang, Polina Turishcheva, Nina Kudryashova, Kelson Shilling-Scrivo\n",
        "\n",
        "__Content editors:__ Gagana B, Nina Kudryashova\n",
        "\n",
        "__Production editors:__ Anmol Gupta, Gagana B, Spiros Chavlis\n",
        "\n",
        "\n",
        "*Based on material from:* Konrad Kording, Hmrishav Bandyopadhyay, Rahul Shekhar, Tejas Srivastava"
      ]
    },
    {
      "cell_type": "markdown",
      "metadata": {
        "execution": {},
        "id": "vEPBEFR5M5y7"
      },
      "source": [
        "**Our 2021 Sponsors, including Presenting Sponsor Facebook Reality Labs**\n",
        "\n",
        "<p align='center'><img src='https://github.com/NeuromatchAcademy/widgets/blob/master/sponsors.png?raw=True'/></p>"
      ]
    },
    {
      "cell_type": "markdown",
      "metadata": {
        "execution": {},
        "id": "F5gFwd5cM5y9"
      },
      "source": [
        "---\n",
        "# Tutorial Objectives\n",
        "At the end of this tutorial, we will be able to:\n",
        "- Understand the structure of a Recurrent Neural Network (RNN)\n",
        "- Build a simple RNN model\n",
        "\n",
        " "
      ]
    },
    {
      "cell_type": "code",
      "execution_count": 1,
      "metadata": {
        "cellView": "form",
        "execution": {},
        "id": "XwgypCPyM5y-",
        "outputId": "402d9dd9-87d0-4f88-fb23-9112859e3575",
        "colab": {
          "base_uri": "https://localhost:8080/",
          "height": 503
        }
      },
      "outputs": [
        {
          "output_type": "execute_result",
          "data": {
            "text/plain": [
              "<IPython.lib.display.IFrame at 0x7fa47a1a4350>"
            ],
            "text/html": [
              "\n",
              "        <iframe\n",
              "            width=\"854\"\n",
              "            height=\"480\"\n",
              "            src=\"https://mfr.ca-1.osf.io/render?url=https://osf.io/5asx2/?direct%26mode=render%26action=download%26mode=render\"\n",
              "            frameborder=\"0\"\n",
              "            allowfullscreen\n",
              "        ></iframe>\n",
              "        "
            ]
          },
          "metadata": {},
          "execution_count": 1
        }
      ],
      "source": [
        "# @title Tutorial slides\n",
        "\n",
        "from IPython.display import IFrame\n",
        "IFrame(src=f\"https://mfr.ca-1.osf.io/render?url=https://osf.io/5asx2/?direct%26mode=render%26action=download%26mode=render\", width=854, height=480)"
      ]
    },
    {
      "cell_type": "markdown",
      "metadata": {
        "execution": {},
        "id": "22bjtsX_M5zB"
      },
      "source": [
        "These are the slides for the videos in this tutorial. If you want to download locally the slides, click [here](https://osf.io/5asx2/download).\n"
      ]
    },
    {
      "cell_type": "markdown",
      "metadata": {
        "execution": {},
        "id": "5wBUC_kFM5zC"
      },
      "source": [
        "---\n",
        "# Setup"
      ]
    },
    {
      "cell_type": "code",
      "execution_count": 2,
      "metadata": {
        "cellView": "form",
        "execution": {},
        "id": "PT1n5jdtM5zD",
        "outputId": "1b5a6f9d-26ab-48a2-a8f4-85045ca9d716",
        "colab": {
          "base_uri": "https://localhost:8080/"
        }
      },
      "outputs": [
        {
          "output_type": "stream",
          "name": "stdout",
          "text": [
            "\u001b[K     |████████████████████████████████| 793 kB 27.4 MB/s \n",
            "\u001b[K     |████████████████████████████████| 381 kB 69.5 MB/s \n",
            "\u001b[31mERROR: pip's dependency resolver does not currently take into account all the packages that are installed. This behaviour is the source of the following dependency conflicts.\n",
            "jupyter-console 5.2.0 requires prompt-toolkit<2.0.0,>=1.0.0, but you have prompt-toolkit 3.0.29 which is incompatible.\n",
            "google-colab 1.0.0 requires ipython~=5.5.0, but you have ipython 7.34.0 which is incompatible.\u001b[0m\n",
            "\u001b[K     |████████████████████████████████| 235 kB 8.3 MB/s \n",
            "\u001b[?25h  Building wheel for evaltools (setup.py) ... \u001b[?25l\u001b[?25hdone\n"
          ]
        }
      ],
      "source": [
        "# @title Install dependencies\n",
        "!pip install livelossplot --quiet\n",
        "!pip install unidecode --quiet\n",
        "\n",
        "!pip install git+https://github.com/NeuromatchAcademy/evaltools --quiet\n",
        "from evaltools.airtable import AirtableForm\n",
        "\n",
        "# Generate airtable form\n",
        "atform = AirtableForm('appn7VdPRseSoMXEG','W2D1_T2','https://portal.neuromatchacademy.org/api/redirect/to/351ca652-13d8-4e31-be28-30153d03e639')"
      ]
    },
    {
      "cell_type": "code",
      "execution_count": 3,
      "metadata": {
        "execution": {},
        "id": "buA5d0pFM5zF"
      },
      "outputs": [],
      "source": [
        "# Imports\n",
        "import time\n",
        "import math\n",
        "import torch\n",
        "import string\n",
        "import random\n",
        "import unidecode\n",
        "import numpy as np\n",
        "import matplotlib.pyplot as plt\n",
        "\n",
        "import torch.nn as nn\n",
        "\n",
        "from tqdm.notebook import tqdm"
      ]
    },
    {
      "cell_type": "code",
      "execution_count": 4,
      "metadata": {
        "cellView": "form",
        "execution": {},
        "id": "vqSUYfpVM5zG"
      },
      "outputs": [],
      "source": [
        "# @title Figure settings\n",
        "import ipywidgets as widgets       # Interactive display\n",
        "%config InlineBackend.figure_format = 'retina'\n",
        "plt.style.use(\"https://raw.githubusercontent.com/NeuromatchAcademy/content-creation/main/nma.mplstyle\")\n",
        "\n",
        "plt.rcParams[\"mpl_toolkits.legacy_colorbar\"] = False\n",
        "\n",
        "import warnings\n",
        "warnings.filterwarnings(\"ignore\", category=UserWarning, module=\"matplotlib\")"
      ]
    },
    {
      "cell_type": "code",
      "execution_count": 5,
      "metadata": {
        "cellView": "form",
        "execution": {},
        "id": "cuAjiBdEM5zI"
      },
      "outputs": [],
      "source": [
        "# @title Helper functions\n",
        "# https://github.com/spro/char-rnn.pytorch\n",
        "\n",
        "def read_file(filename):\n",
        "  \"\"\"\n",
        "  Helper function to read file\n",
        "\n",
        "  Args:\n",
        "    filename: string\n",
        "      FileName\n",
        "\n",
        "  Returns:\n",
        "    file: string\n",
        "      Contents of file\n",
        "    And file length\n",
        "  \"\"\"\n",
        "  file = unidecode.unidecode(open(filename).read())\n",
        "  return file, len(file)\n",
        "\n",
        "\n",
        "def char_tensor(string):\n",
        "  \"\"\"\n",
        "  Turning a string into a tensor\n",
        "\n",
        "  Args:\n",
        "    string: string\n",
        "      Input string\n",
        "\n",
        "  Returns:\n",
        "    tensor: torch.tensor\n",
        "      Tensor from input string\n",
        "  \"\"\"\n",
        "  tensor = torch.zeros(len(string)).long()\n",
        "  for c in range(len(string)):\n",
        "    try:\n",
        "      tensor[c] = all_characters.index(string[c])\n",
        "    except:\n",
        "      continue\n",
        "  return tensor\n",
        "\n",
        "\n",
        "def time_since(since):\n",
        "  \"\"\"\n",
        "  Readable time elapsed\n",
        "\n",
        "  Args:\n",
        "    since: time\n",
        "      Input time\n",
        "\n",
        "  Returns:\n",
        "    out: string\n",
        "      Time elapsed since since.\n",
        "  \"\"\"\n",
        "  s = time.time() - since\n",
        "  m = math.floor(s / 60)\n",
        "  s -= m * 60\n",
        "  out = f\"{m}min {s}sec\"\n",
        "  return out\n",
        "\n",
        "\n",
        "def generate(decoder, prime_str='A', predict_len=100,\n",
        "             temperature=0.8,\n",
        "             device='cpu'):\n",
        "  \"\"\"\n",
        "  Function to generate predicted future sequence\n",
        "\n",
        "  Args:\n",
        "    decoder: nn.module\n",
        "      Model\n",
        "    prime_str: string\n",
        "      Prime string [default: A]\n",
        "    predict_len: int\n",
        "      Predict length [default: 100]\n",
        "    temperature: float\n",
        "      Temperature [default: 0.8]\n",
        "    device: string\n",
        "      GPU/CUDA if available, CPU otherwise\n",
        "\n",
        "  Returns:\n",
        "    predicted: string\n",
        "      Predicted sequence\n",
        "  \"\"\"\n",
        "  hidden = decoder.init_hidden(1)\n",
        "  prime_input = char_tensor(prime_str).unsqueeze(0)\n",
        "\n",
        "  hidden = hidden.to(device)\n",
        "  prime_input = prime_input.to(device)\n",
        "  predicted = prime_str\n",
        "\n",
        "  # Use priming string to \"build up\" hidden state\n",
        "  for p in range(len(prime_str) - 1):\n",
        "    _, hidden = decoder(prime_input[:,p], hidden)\n",
        "\n",
        "  inp = prime_input[:,-1]\n",
        "\n",
        "  for p in range(predict_len):\n",
        "    output, hidden = decoder(inp, hidden)\n",
        "\n",
        "    # Sample from the network as a multinomial distribution\n",
        "    output_dist = output.data.view(-1).div(temperature).exp()\n",
        "    top_i = torch.multinomial(output_dist, 1)[0]\n",
        "\n",
        "    # Add predicted character to string and use as next input\n",
        "    predicted_char = all_characters[top_i]\n",
        "    predicted += predicted_char\n",
        "    inp = char_tensor(predicted_char).unsqueeze(0)\n",
        "    inp = inp.to(device)\n",
        "\n",
        "  return predicted"
      ]
    },
    {
      "cell_type": "code",
      "execution_count": 6,
      "metadata": {
        "cellView": "form",
        "execution": {},
        "id": "LtXSxpY0M5zK"
      },
      "outputs": [],
      "source": [
        "# @title Set random seed\n",
        "\n",
        "# @markdown Executing `set_seed(seed=seed)` you are setting the seed\n",
        "\n",
        "# For DL its critical to set the random seed so that students can have a\n",
        "# baseline to compare their results to expected results.\n",
        "# Read more here: https://pytorch.org/docs/stable/notes/randomness.html\n",
        "\n",
        "# Call `set_seed` function in the exercises to ensure reproducibility.\n",
        "import random\n",
        "import torch\n",
        "\n",
        "def set_seed(seed=None, seed_torch=True):\n",
        "  \"\"\"\n",
        "  Function that controls randomness.\n",
        "  NumPy and random modules must be imported.\n",
        "\n",
        "  Args:\n",
        "    seed : Integer\n",
        "      A non-negative integer that defines the random state. Default is `None`.\n",
        "    seed_torch : Boolean\n",
        "      If `True` sets the random seed for pytorch tensors, so pytorch module\n",
        "      must be imported. Default is `True`.\n",
        "\n",
        "  Returns:\n",
        "    Nothing.\n",
        "  \"\"\"\n",
        "  if seed is None:\n",
        "    seed = np.random.choice(2 ** 32)\n",
        "  random.seed(seed)\n",
        "  np.random.seed(seed)\n",
        "  if seed_torch:\n",
        "    torch.manual_seed(seed)\n",
        "    torch.cuda.manual_seed_all(seed)\n",
        "    torch.cuda.manual_seed(seed)\n",
        "    torch.backends.cudnn.benchmark = False\n",
        "    torch.backends.cudnn.deterministic = True\n",
        "\n",
        "  print(f'Random seed {seed} has been set.')\n",
        "\n",
        "\n",
        "# In case that `DataLoader` is used\n",
        "def seed_worker(worker_id):\n",
        "  \"\"\"\n",
        "  DataLoader will reseed workers following randomness in\n",
        "  multi-process data loading algorithm.\n",
        "\n",
        "  Args:\n",
        "    worker_id: integer\n",
        "      ID of subprocess to seed. 0 means that\n",
        "      the data will be loaded in the main process\n",
        "      Refer: https://pytorch.org/docs/stable/data.html#data-loading-randomness for more details\n",
        "\n",
        "  Returns:\n",
        "    Nothing\n",
        "  \"\"\"\n",
        "  worker_seed = torch.initial_seed() % 2**32\n",
        "  np.random.seed(worker_seed)\n",
        "  random.seed(worker_seed)"
      ]
    },
    {
      "cell_type": "code",
      "execution_count": 7,
      "metadata": {
        "cellView": "form",
        "execution": {},
        "id": "k44pMViuM5zM"
      },
      "outputs": [],
      "source": [
        "#@title Set device (GPU or CPU). Execute `set_device()`\n",
        "# especially if torch modules used.\n",
        "\n",
        "# Inform the user if the notebook uses GPU or CPU.\n",
        "\n",
        "def set_device():\n",
        "  \"\"\"\n",
        "  Set the device. CUDA if available, CPU otherwise\n",
        "\n",
        "  Args:\n",
        "    None\n",
        "\n",
        "  Returns:\n",
        "    Nothing\n",
        "  \"\"\"\n",
        "  device = \"cuda\" if torch.cuda.is_available() else \"cpu\"\n",
        "  if device != \"cuda\":\n",
        "    print(\"WARNING: For this notebook to perform best, \"\n",
        "        \"if possible, in the menu under `Runtime` -> \"\n",
        "        \"`Change runtime type.`  select `GPU` \")\n",
        "  else:\n",
        "    print(\"GPU is enabled in this notebook.\")\n",
        "\n",
        "  return device"
      ]
    },
    {
      "cell_type": "code",
      "execution_count": 8,
      "metadata": {
        "execution": {},
        "id": "aF8dmPRbM5zN",
        "outputId": "a745e5ee-84c9-4047-83e4-29bdbf27fb57",
        "colab": {
          "base_uri": "https://localhost:8080/"
        }
      },
      "outputs": [
        {
          "output_type": "stream",
          "name": "stdout",
          "text": [
            "Random seed 2021 has been set.\n",
            "GPU is enabled in this notebook.\n"
          ]
        }
      ],
      "source": [
        "SEED = 2021\n",
        "set_seed(seed=SEED)\n",
        "DEVICE = set_device()"
      ]
    },
    {
      "cell_type": "markdown",
      "metadata": {
        "execution": {},
        "id": "Vy8qqNe8M5zO"
      },
      "source": [
        "---\n",
        "# Section 1: Recurrent Neural Networks (RNNs)\n",
        "\n",
        "*Time estimate: ~20mins*"
      ]
    },
    {
      "cell_type": "code",
      "execution_count": 9,
      "metadata": {
        "cellView": "form",
        "execution": {},
        "id": "b9A-a_o-M5zO",
        "outputId": "07c0063d-9895-4177-a3e9-9d847856ef90",
        "colab": {
          "base_uri": "https://localhost:8080/",
          "height": 582,
          "referenced_widgets": [
            "3ba132c7982c4e48ad7aff16591d50c7",
            "96586ab8ad9d4a7ea907b019b06e1076",
            "e23d796f5a9242699f4e66ed808637db",
            "2b54370ab7974b4488f9597f46feb061",
            "12ed322d4f0d44318b2897df70a94a28",
            "02b25185d05445eebbeaf93a50db047c"
          ]
        }
      },
      "outputs": [
        {
          "output_type": "display_data",
          "data": {
            "text/plain": [
              "Tab(children=(Output(), Output()), _titles={'0': 'Youtube', '1': 'Bilibili'})"
            ],
            "application/vnd.jupyter.widget-view+json": {
              "version_major": 2,
              "version_minor": 0,
              "model_id": "3ba132c7982c4e48ad7aff16591d50c7"
            }
          },
          "metadata": {}
        }
      ],
      "source": [
        "# @title Video 1: RNNs\n",
        "from ipywidgets import widgets\n",
        "\n",
        "out2 = widgets.Output()\n",
        "with out2:\n",
        "  from IPython.display import IFrame\n",
        "  class BiliVideo(IFrame):\n",
        "    def __init__(self, id, page=1, width=400, height=300, **kwargs):\n",
        "      self.id=id\n",
        "      src = \"https://player.bilibili.com/player.html?bvid={0}&page={1}\".format(id, page)\n",
        "      super(BiliVideo, self).__init__(src, width, height, **kwargs)\n",
        "\n",
        "  video = BiliVideo(id=f\"BV1L44y1m7PP\", width=854, height=480, fs=1)\n",
        "  print(\"Video available at https://www.bilibili.com/video/{0}\".format(video.id))\n",
        "  display(video)\n",
        "\n",
        "out1 = widgets.Output()\n",
        "with out1:\n",
        "  from IPython.display import YouTubeVideo\n",
        "  video = YouTubeVideo(id=f\"PsZjS125lLs\", width=854, height=480, fs=1, rel=0)\n",
        "  print(\"Video available at https://youtube.com/watch?v=\" + video.id)\n",
        "  display(video)\n",
        "\n",
        "out = widgets.Tab([out1, out2])\n",
        "out.set_title(0, 'Youtube')\n",
        "out.set_title(1, 'Bilibili')\n",
        "\n",
        "# Add event to airtable\n",
        "atform.add_event('Video 1: RNNs')\n",
        "\n",
        "display(out)"
      ]
    },
    {
      "cell_type": "markdown",
      "metadata": {
        "execution": {},
        "id": "A-KQx42JM5zP"
      },
      "source": [
        "RNNs are compact models that operate over timeseries, and have the ability to remember past input. They also save parameters by using the same weights at every time step.  If you've heard of Transformers, those models don't have this kind of temporal weight sharing, and so they are *much* larger.\n",
        "\n",
        "The code below is adapted from [this github repository](https://github.com/spro/char-rnn.pytorch)."
      ]
    },
    {
      "cell_type": "code",
      "execution_count": 10,
      "metadata": {
        "execution": {},
        "id": "Iufl65DdM5zQ"
      },
      "outputs": [],
      "source": [
        "# https://github.com/spro/char-rnn.pytorch\n",
        "\n",
        "class CharRNN(nn.Module):\n",
        "  \"\"\"\n",
        "  Recurrent Neural Network Implementation\n",
        "  \"\"\"\n",
        "\n",
        "  def __init__(self, input_size, hidden_size, output_size,\n",
        "               model=\"gru\", n_layers=1):\n",
        "    \"\"\"\n",
        "    Initialise CharRNN parameters\n",
        "\n",
        "    Args:\n",
        "      input_size: int\n",
        "        Size of the input layer.\n",
        "      hidden_size: int\n",
        "        Size of the hidden layers.\n",
        "      output_size: int\n",
        "        Size of the output layer.\n",
        "      model: string\n",
        "        `model` can take the values \"gru\", \"rnn\", \"lstm\". Default is \"gru\".\n",
        "      n_layers: int\n",
        "        Number of layers [default: 1]\n",
        "\n",
        "    Returns:\n",
        "      Nothing\n",
        "    \"\"\"\n",
        "    super(CharRNN, self).__init__()\n",
        "    self.model = model.lower()\n",
        "    self.input_size = input_size\n",
        "    self.hidden_size = hidden_size\n",
        "    self.output_size = output_size\n",
        "    self.n_layers = n_layers\n",
        "\n",
        "    self.encoder = nn.Embedding(input_size, hidden_size)\n",
        "    if self.model == \"gru\":\n",
        "      self.rnn = nn.GRU(hidden_size, hidden_size, n_layers)\n",
        "    elif self.model == \"lstm\":\n",
        "      self.rnn = nn.LSTM(hidden_size, hidden_size, n_layers)\n",
        "    elif self.model == \"rnn\":\n",
        "      self.rnn = nn.RNN(hidden_size, hidden_size, n_layers)\n",
        "    self.decoder = nn.Linear(hidden_size, output_size)\n",
        "\n",
        "  def forward(self, input, hidden):\n",
        "    \"\"\"\n",
        "    Forward pass of CharRNN\n",
        "\n",
        "    Args:\n",
        "      input: torch.tensor\n",
        "        Input to CharRNN\n",
        "      hidden: int\n",
        "        Dimension of hidden layer\n",
        "\n",
        "    Returns:\n",
        "      output: torch.tensor\n",
        "        Output of CharRNN\n",
        "      hidden: torch.tensor\n",
        "        Output of CharRNN hidden layer\n",
        "    \"\"\"\n",
        "    batch_size = input.size(0)\n",
        "    encoded = self.encoder(input)\n",
        "    output, hidden = self.rnn(encoded.reshape(1, batch_size, -1), hidden)\n",
        "    output = self.decoder(output.reshape(batch_size, -1))\n",
        "    return output, hidden\n",
        "\n",
        "  def init_hidden(self, batch_size):\n",
        "    \"\"\"\n",
        "    Initialise hidden dimension of CharRNN\n",
        "\n",
        "    Args:\n",
        "      batch_size: int\n",
        "        Batch Size\n",
        "\n",
        "    Returns:\n",
        "      torch.zeros(self.n_layers, batch_size, self.hidden_size), torch.zeros(self.n_layers, batch_size, self.hidden_size) if LSTM\n",
        "      torch.zeros(self.n_layers, batch_size, self.hidden_size) otherwise\n",
        "    \"\"\"\n",
        "    if self.model == \"lstm\":\n",
        "      return (torch.zeros(self.n_layers, batch_size, self.hidden_size), torch.zeros(self.n_layers, batch_size, self.hidden_size))\n",
        "\n",
        "    return torch.zeros(self.n_layers, batch_size, self.hidden_size)"
      ]
    },
    {
      "cell_type": "markdown",
      "metadata": {
        "execution": {},
        "id": "dDnyglU7M5zR"
      },
      "source": [
        "This next section of code takes care of training the RNN on several of Mark Twain's books. In this short section, we won't dive into the code, but you'll get to learn a lot more about RNNs in a few days! For now, we are just going to observe the training process."
      ]
    },
    {
      "cell_type": "code",
      "execution_count": 11,
      "metadata": {
        "cellView": "form",
        "execution": {},
        "id": "LRi5BFfEM5zT"
      },
      "outputs": [],
      "source": [
        "# @title Run Me to get the data\n",
        "import requests\n",
        "\n",
        "url = 'https://raw.githubusercontent.com/NeuromatchAcademy/course-content-dl/main/tutorials/W2D1_ConvnetsAndRecurrentNeuralNetworks/static/twain.txt'\n",
        "r = requests.get(url, stream=True)\n",
        "\n",
        "with open('twain.txt', 'wb') as fd:\n",
        "  fd.write(r.content)"
      ]
    },
    {
      "cell_type": "markdown",
      "metadata": {
        "execution": {},
        "id": "EJYwcKwnM5zU"
      },
      "source": [
        "One cool thing about RNNs is that they can be used to _generate_ language based on what the network sees during training. As the network makes predictions, instead of confirming of those predictions are correct against some training text, we just feed them back into the model as the next observed token.  Starting from a random vector for the hidden state, we can generate many original sentences! And what the network generates will reflect the text it was trained on."
      ]
    },
    {
      "cell_type": "code",
      "execution_count": 12,
      "metadata": {
        "cellView": "code",
        "execution": {},
        "id": "yKvxVjSjM5zV"
      },
      "outputs": [],
      "source": [
        "# https://github.com/spro/char-rnn.pytorch\n",
        "\n",
        "def random_training_set(file, file_len, chunk_len, batch_size,\n",
        "                        device='cpu', seed=0):\n",
        "  \"\"\"\n",
        "  Generates random training set\n",
        "\n",
        "  Args:\n",
        "    file: string\n",
        "      File\n",
        "    file_len: int\n",
        "      Length of file\n",
        "    chunk_len: int\n",
        "      Length of chunk\n",
        "    batch_size: int\n",
        "      Batch size\n",
        "    device: string\n",
        "      GPU/CUDA if available. CPU otherwise [default: CPU]\n",
        "    seed: int\n",
        "      Set seed for reproducibility [default: 0]\n",
        "\n",
        "  Returns:\n",
        "    inp: torch.tensor\n",
        "      Input tensor\n",
        "    target: torch.tensor\n",
        "      Targets\n",
        "    chunk_len: int\n",
        "      Length of chunk\n",
        "    batch_size: int\n",
        "      Batch size\n",
        "    device: string\n",
        "      GPU/CUDA if available. CPU otherwise [default: CPU]\n",
        "  \"\"\"\n",
        "  random.seed(seed)\n",
        "\n",
        "  inp = torch.LongTensor(batch_size, chunk_len).to(device)\n",
        "  target = torch.LongTensor(batch_size, chunk_len).to(device)\n",
        "\n",
        "  for bi in range(batch_size):\n",
        "    start_index = random.randint(0, file_len - chunk_len - 1)\n",
        "    end_index = start_index + chunk_len + 1\n",
        "    chunk = file[start_index:end_index]\n",
        "    inp[bi] = char_tensor(chunk[:-1])\n",
        "    target[bi] = char_tensor(chunk[1:])\n",
        "\n",
        "  return inp, target, chunk_len, batch_size, device\n",
        "\n",
        "\n",
        "def train(decoder, criterion, inp, target, chunk_len, batch_size, device):\n",
        "  \"\"\"\n",
        "  Training function\n",
        "\n",
        "  Args:\n",
        "    decoder: nn.module\n",
        "      Decoder model\n",
        "    criterion: function\n",
        "      Loss function\n",
        "    inp: torch.tensor\n",
        "      Input\n",
        "    target: torch.tensor\n",
        "      Targets\n",
        "    chunk_len: int\n",
        "      Length of chunk\n",
        "    batch_size: int\n",
        "      Batch size\n",
        "    device: string\n",
        "      GPU/CUDA if available. CPU otherwise [default: CPU]\n",
        "\n",
        "\n",
        "  Returns:\n",
        "    Decoder loss\n",
        "  \"\"\"\n",
        "  hidden = decoder.init_hidden(batch_size)\n",
        "  decoder.zero_grad()\n",
        "  loss = 0\n",
        "\n",
        "  for c in range(chunk_len):\n",
        "    output, hidden = decoder(inp[:, c].to(device), hidden.to(device))\n",
        "    loss += criterion(output.reshape(batch_size, -1), target[:,c])\n",
        "\n",
        "  loss.backward()\n",
        "  decoder_optimizer.step()\n",
        "  return loss.item() / chunk_len"
      ]
    },
    {
      "cell_type": "markdown",
      "metadata": {
        "execution": {},
        "id": "KqNQx3_kM5zW"
      },
      "source": [
        "First, let's load the text file, and define the model and its hyperparameters."
      ]
    },
    {
      "cell_type": "code",
      "execution_count": 13,
      "metadata": {
        "execution": {},
        "id": "nT21MvhUM5zW"
      },
      "outputs": [],
      "source": [
        "# Reading and un-unicode-encoding data\n",
        "all_characters = string.printable\n",
        "n_characters = len(all_characters)\n",
        "\n",
        "# Load the text file\n",
        "file, file_len = read_file('twain.txt')\n",
        "\n",
        "# Hyperparams\n",
        "batch_size = 50\n",
        "chunk_len = 200\n",
        "model = \"rnn\"  # Other options: `lstm`, `gru`\n",
        "\n",
        "n_layers = 2\n",
        "hidden_size = 200\n",
        "learning_rate = 0.01\n",
        "\n",
        "# Define the model, optimizer, and the loss criterion\n",
        "decoder = CharRNN(n_characters, hidden_size, n_characters,\n",
        "                  model=model, n_layers=n_layers)\n",
        "decoder.to(DEVICE)\n",
        "\n",
        "decoder_optimizer = torch.optim.Adagrad(decoder.parameters(), lr=learning_rate)\n",
        "criterion = nn.CrossEntropyLoss()"
      ]
    },
    {
      "cell_type": "markdown",
      "metadata": {
        "execution": {},
        "id": "LARLP20AM5zX"
      },
      "source": [
        "Let's try it! Run the code below. As the network trains, it will output samples of generated text every 25 epochs. Notice that as the training progresses, the model learns to spell short words, then learns to string some words together, and eventually can produce meaningful sentences (sometimes)! Keep in mind that this is a relatively small network, and doesn't employ some of the cool things you'll learn about later in the week (e.g., LSTMs, though you can change that in the code below by changing the value of the `model` variable if you wish!)\n",
        "\n",
        "After running the model, and observing the output, get together with your pod, and talk about what you noticed during training. Did your network produce anything interesting? Did it produce anything characteristic of Twain?  \n",
        "\n",
        "**Note:** training for the full 2000 epochs is likely to take a while, so you may need to stop it before it finishes. If you have time left, set `n_epochs` to 2000 below."
      ]
    },
    {
      "cell_type": "code",
      "execution_count": 14,
      "metadata": {
        "execution": {},
        "id": "XKgYSz3yM5zY",
        "outputId": "05fd1732-6b10-4f8c-f855-d2e41ecad2d6",
        "colab": {
          "base_uri": "https://localhost:8080/",
          "height": 1000,
          "referenced_widgets": [
            "b99c5b92f14441c3b474fb7a223950c2",
            "5a0fab44c48d45ff989bcb2fc0f8124b",
            "05532d57a24b4b62a8d1e0f52ccc909f",
            "2668cfc37a79440493ede4487e261563",
            "2dd15dad7b11406e955f17c3c8924970",
            "e243f489330f4a6baf0c1b5707f34e31",
            "407e7bbfcf1045c7bfead239ea47f512",
            "53fb4c3fff344fc0a41c7c7c460d64b4",
            "1cb5e600afa1468fae7bea49c3c056b7",
            "6a2d398d3d7d4b4f839e01c3ef18bf76",
            "409c60d7d9f6465e9380f86fc53a95e6"
          ]
        }
      },
      "outputs": [
        {
          "output_type": "stream",
          "name": "stdout",
          "text": [
            "Training for 1000 epochs...\n",
            "\n"
          ]
        },
        {
          "output_type": "display_data",
          "data": {
            "text/plain": [
              "  0%|          | 0/1000 [00:00<?, ?it/s]"
            ],
            "application/vnd.jupyter.widget-view+json": {
              "version_major": 2,
              "version_minor": 0,
              "model_id": "b99c5b92f14441c3b474fb7a223950c2"
            }
          },
          "metadata": {}
        },
        {
          "output_type": "stream",
          "name": "stdout",
          "text": [
            "[0min 12.191414833068848sec 5.0%) 2.1638]\n",
            "Whey\n",
            "aid to het slidks beran to with it horlest sow un oving the seas ane linn ther pand fersisher his rot gris on teen woCg't we fid hen stored whex on\n",
            "[0min 24.576285123825073sec 10.0%) 1.9462]\n",
            "Wher, blethen chat and suns proment in ous at sese reten and of and Tom The gut we'p the dand thep thesired whon\n",
            "aght and and beterndelly, and_\n",
            "way. I d\n",
            "[0min 37.060906410217285sec 15.0%) 1.9125]\n",
            "Wher. The didy. for for betand sone, but feppiout ingring.\"\n",
            "\n",
            "\"What in the some was geavelight ow, be all kenting no cometing, he had him;\n",
            "uple was comen\n",
            "[0min 49.28788352012634sec 20.0%) 1.8870]\n",
            "Whel. _Two, and hand her what wounding spart stees.  I was know the the going and\n",
            "hack. I was the coulds the he well combion she pots me labdeng-and\n",
            "and\n",
            "[1min 1.885788917541504sec 25.0%) 1.8738]\n",
            "Whered most the was eefder. About wass. Tow head you but don an the kisp was from shere for you couldn't was do then says:\n",
            "\n",
            "\"Then that was went was arou\n",
            "[1min 13.993347883224487sec 30.0%) 1.7899]\n",
            "Why some, body right, I don't be wook it his a what he my\n",
            "juck the recarlan the romes for abolich of the ricked them on the with to be and that where of\n",
            "[1min 26.03930377960205sec 35.0%) 1.7620]\n",
            "Whack and\n",
            "would find and han him sast they yould out the start a air a body-urst or while, and bed timbody conlat it of they was her the tound dary and \n",
            "[1min 38.17961072921753sec 40.0%) 1.7369]\n",
            "Where and laid his privided in in the docked him, and did a roffly he now and mears hone over_--and sich, and sturt get five the this be of they, and Ge\n",
            "[1min 50.22402286529541sec 45.0%) 1.7477]\n",
            "When come was a lain't do the read of his see and feeth, and\n",
            "spart giend that day you got to paiculy couldn't yess, and catious but neegooved and deside\n",
            "[2min 2.3663179874420166sec 50.0%) 1.6915]\n",
            "WhE\n",
            "\n",
            "Onesing tow in the infelce\n",
            "fain high, and I don's hamper to teard it seapoted ite. I say what the it upres to pace, with it on the cristantpers and\n",
            "[2min 14.6514573097229sec 55.00000000000001%) 1.6896]\n",
            "What to the tood the whine the resande_ it of the wern the said--\n",
            "\n",
            "\"The barn't\n",
            "the pioul all the puting out again't down't gun_ was seat when and sunclo\n",
            "[2min 26.845459461212158sec 60.0%) 1.6591]\n",
            "What its ascapon your heart hould who jurred--that would 'et was a\n",
            "noken scable to sigting I goke\n",
            "\n",
            "\"Goom time as I went throud steast den, and said,\n",
            "and\n",
            "[2min 38.98639678955078sec 65.0%) 1.6145]\n",
            "Where was I hards and leton he done hard as to\n",
            "was a tried the wall say!  The whilated all forget of howed out he lead and curcatious off\n",
            "happine?\" near\n",
            "[2min 51.17698550224304sec 70.0%) 1.6671]\n",
            "Whered for him so the chaifful moring and intered the sangle as if any of here of the sebventure; and reasing fationed some\n",
            "dessing big for the martless\n",
            "[3min 3.398627996444702sec 75.0%) 1.6385]\n",
            "Why, '_ Mut a blishing the flates to it. He soowed the talky and all before the may done bard condigution of the Canners was at house to for a starting \n",
            "[3min 15.601206541061401sec 80.0%) 1.6331]\n",
            "Wh was a didn't do me to me and make and brothered to the boys on the old for dissetted you,\" my little had fection wooked them done the it.  or I've of\n",
            "[3min 27.755874633789062sec 85.0%) 1.6179]\n",
            "Whispered with the said no herry teller to let to come that took a good so the courted to let onter in the tried of thy said in the reckoned was all dea\n",
            "[3min 39.883166790008545sec 90.0%) 1.6034]\n",
            "Where her from on the work. We\n",
            "wall that did\n",
            "be no the rowd with the facler, and the compauning a dill you judged them.\n",
            "He was a began. The woodand and \n",
            "[3min 52.315253257751465sec 95.0%) 1.6064]\n",
            "Where have, and no?  Then who.  The him.  The boy expriver. What ain't \"Take hear a charget. Then he still and was a when this doom in the retter thing.\n",
            "[4min 4.597246885299683sec 100.0%) 1.5523]\n",
            "Where in the litched time to poor that peesed about-body, I'll did nother kney secain and then I know when the drepty any great with sight long to got s\n"
          ]
        }
      ],
      "source": [
        "n_epochs = 1000   # Initial was set to 2000\n",
        "\n",
        "print_every = 50  # Frequency of printing the outputs\n",
        "\n",
        "start = time.time()\n",
        "all_losses = []\n",
        "loss_avg = 0\n",
        "\n",
        "print(f\"Training for {n_epochs} epochs...\\n\")\n",
        "for epoch in tqdm(range(1, n_epochs + 1), position=0, leave=True):\n",
        "  loss = train(decoder, criterion,\n",
        "               *random_training_set(file, file_len, chunk_len, batch_size,\n",
        "                                    device=DEVICE, seed=epoch))\n",
        "  loss_avg += loss\n",
        "\n",
        "  if epoch % print_every == 0:\n",
        "    print(f\"[{time_since(start)} {epoch/n_epochs * 100}%) {loss:.4f}]\")\n",
        "    print(f\"{generate(decoder, prime_str='Wh', predict_len=150, device=DEVICE)}\")"
      ]
    },
    {
      "cell_type": "markdown",
      "metadata": {
        "execution": {},
        "id": "1ji8ON7aM5zY"
      },
      "source": [
        "Now you can generate more examples using a trained model. Recall that `generate` takes the mentioned below arguments to work:\n",
        "\n",
        "```python\n",
        "generate(decoder, prime_str='A', predict_len=100, temperature=0.8, device='cpu')\n",
        "```\n",
        "\n",
        "Try it by yourself"
      ]
    },
    {
      "cell_type": "code",
      "execution_count": 15,
      "metadata": {
        "execution": {},
        "id": "9T0EHoClM5zZ",
        "outputId": "1dfa55d2-7df4-478c-d60b-58e237ecaf23",
        "colab": {
          "base_uri": "https://localhost:8080/"
        }
      },
      "outputs": [
        {
          "output_type": "stream",
          "name": "stdout",
          "text": [
            "Which it boing the your all on it ouch\n",
            "here, and the lay, out half a did only breast perabout--\n",
            "\n",
            "\"A li\n",
            "\n"
          ]
        }
      ],
      "source": [
        "print(f\"{generate(decoder, prime_str='Wh', predict_len=100, device=DEVICE)}\\n\")"
      ]
    },
    {
      "cell_type": "markdown",
      "metadata": {
        "execution": {},
        "id": "HJN6YORRM5zZ"
      },
      "source": [
        "---\n",
        "# Section 2: Power consumption in Deep Learning\n",
        "\n",
        "*Time estimate: ~20mins*"
      ]
    },
    {
      "cell_type": "markdown",
      "metadata": {
        "execution": {},
        "id": "x-RkLH9dM5za"
      },
      "source": [
        "Training NN models can be incredibly costly, both in actual money but also in power consumption."
      ]
    },
    {
      "cell_type": "code",
      "execution_count": 16,
      "metadata": {
        "cellView": "form",
        "execution": {},
        "id": "7140DaGaM5za",
        "outputId": "bbf34b54-9415-405d-8a21-4496ff97e685",
        "colab": {
          "base_uri": "https://localhost:8080/",
          "height": 582,
          "referenced_widgets": [
            "003d6f44c0454bcf96d899e571634c51",
            "7900dc9ce55a4bcfb4e741af8cc99585",
            "93c05dbe5c5046b794f689f90520ae93",
            "a4d60b750e684954a4d26a96030f6409",
            "bed98dcdf47a4d91bd4ed0dad955a232",
            "3aa833d6bb7d4973b19d42fd98254a14"
          ]
        }
      },
      "outputs": [
        {
          "output_type": "display_data",
          "data": {
            "text/plain": [
              "Tab(children=(Output(), Output()), _titles={'0': 'Youtube', '1': 'Bilibili'})"
            ],
            "application/vnd.jupyter.widget-view+json": {
              "version_major": 2,
              "version_minor": 0,
              "model_id": "003d6f44c0454bcf96d899e571634c51"
            }
          },
          "metadata": {}
        }
      ],
      "source": [
        "# @title Video 2: Carbon Footprint of AI\n",
        "from ipywidgets import widgets\n",
        "\n",
        "out2 = widgets.Output()\n",
        "with out2:\n",
        "  from IPython.display import IFrame\n",
        "  class BiliVideo(IFrame):\n",
        "    def __init__(self, id, page=1, width=400, height=300, **kwargs):\n",
        "      self.id=id\n",
        "      src = \"https://player.bilibili.com/player.html?bvid={0}&page={1}\".format(id, page)\n",
        "      super(BiliVideo, self).__init__(src, width, height, **kwargs)\n",
        "\n",
        "  video = BiliVideo(id=f\"BV1My4y1j7HJ\", width=854, height=480, fs=1)\n",
        "  print(\"Video available at https://www.bilibili.com/video/{0}\".format(video.id))\n",
        "  display(video)\n",
        "\n",
        "out1 = widgets.Output()\n",
        "with out1:\n",
        "  from IPython.display import YouTubeVideo\n",
        "  video = YouTubeVideo(id=f\"as6C334LmRs\", width=854, height=480, fs=1, rel=0)\n",
        "  print(\"Video available at https://youtube.com/watch?v=\" + video.id)\n",
        "  display(video)\n",
        "\n",
        "out = widgets.Tab([out1, out2])\n",
        "out.set_title(0, 'Youtube')\n",
        "out.set_title(1, 'Bilibili')\n",
        "\n",
        "# Add event to airtable\n",
        "atform.add_event('Video 2: Carbon Footprint of AI')\n",
        "\n",
        "display(out)"
      ]
    },
    {
      "cell_type": "markdown",
      "metadata": {
        "execution": {},
        "id": "U-xKHFZVM5zb"
      },
      "source": [
        "Take a few moments to chat with your pod about the following points:\n",
        "* Which societal costs of training do you find most compelling?\n",
        "* When is training an AI model worth the cost?  Who should make that decision?\n",
        "* Should there be additional taxes on energy costs for compute centers? "
      ]
    },
    {
      "cell_type": "markdown",
      "metadata": {
        "execution": {},
        "id": "WhzOYv1cM5zb"
      },
      "source": [
        "## Exercise 2: Calculate the carbon footprint that your pod generated today.\n",
        "\n",
        "You can use this [online calculator](https://mlco2.github.io/impact/#compute). "
      ]
    },
    {
      "cell_type": "code",
      "execution_count": 17,
      "metadata": {
        "cellView": "form",
        "execution": {},
        "id": "dPhGL5MSM5zb",
        "outputId": "cd8178b3-8c50-478e-a13b-02be7d2f633d",
        "colab": {
          "base_uri": "https://localhost:8080/",
          "height": 93,
          "referenced_widgets": [
            "f0babfd7ba764c7ba6e79706738d9992",
            "4bce7ec55f154155bdb29c0c2de36090",
            "191ea9861490429fb5d7763b9075c694",
            "a6db5d3394ee4e7eae5eee6d2754a6c3",
            "b857fa2743784646b498aac43723ba82",
            "35e8286dbf31483d8e900c4dac838c11"
          ]
        }
      },
      "outputs": [
        {
          "output_type": "display_data",
          "data": {
            "text/plain": [
              "Textarea(value='Type your answer here and click on `Submit!`', placeholder='Type something')"
            ],
            "application/vnd.jupyter.widget-view+json": {
              "version_major": 2,
              "version_minor": 0,
              "model_id": "f0babfd7ba764c7ba6e79706738d9992"
            }
          },
          "metadata": {}
        },
        {
          "output_type": "display_data",
          "data": {
            "text/plain": [
              "Button(description='Submit!', style=ButtonStyle())"
            ],
            "application/vnd.jupyter.widget-view+json": {
              "version_major": 2,
              "version_minor": 0,
              "model_id": "a6db5d3394ee4e7eae5eee6d2754a6c3"
            }
          },
          "metadata": {}
        }
      ],
      "source": [
        "# @title Student Response\n",
        "from ipywidgets import widgets\n",
        "\n",
        "\n",
        "text=widgets.Textarea(\n",
        "   value='Type your answer here and click on `Submit!`',\n",
        "   placeholder='Type something',\n",
        "   description='',\n",
        "   disabled=False\n",
        ")\n",
        "\n",
        "button = widgets.Button(description=\"Submit!\")\n",
        "\n",
        "display(text,button)\n",
        "\n",
        "def on_button_clicked(b):\n",
        "   atform.add_answer('q1', text.value)\n",
        "   print(\"Submission successful!\")\n",
        "\n",
        "\n",
        "button.on_click(on_button_clicked)"
      ]
    },
    {
      "cell_type": "markdown",
      "metadata": {
        "execution": {},
        "id": "CWbkd3ZMM5zc"
      },
      "source": [
        "---\n",
        "# Summary\n",
        "\n",
        "What a day!  We've learned a lot!  The basics of CNNs and RNNs, and how changes to architecture that allow models to parameter share can greatly reduce the size of the model.  We learned about convolution and pooling, as well as the basic idea behind RNNs.  To wrap up we thought about the impact of training large NN models."
      ]
    },
    {
      "cell_type": "code",
      "execution_count": 18,
      "metadata": {
        "cellView": "form",
        "execution": {},
        "id": "pzaeURHjM5zc",
        "outputId": "e2cfa4ab-8e45-4d0a-cd20-0cef1d169aec",
        "colab": {
          "base_uri": "https://localhost:8080/",
          "height": 160
        }
      },
      "outputs": [
        {
          "output_type": "execute_result",
          "data": {
            "text/plain": [
              "<IPython.core.display.HTML object>"
            ],
            "text/html": [
              "\n",
              " <div>\n",
              "   <a href= \"https://portal.neuromatchacademy.org/api/redirect/to/351ca652-13d8-4e31-be28-30153d03e639?data=eyJmb3JtX2lkIjogImFwcG43VmRQUnNlU29NWEVHIiwgInRhYmxlX25hbWUiOiAiVzJEMV9UMiIsICJhbnN3ZXJzIjoge30sICJldmVudHMiOiBbeyJldmVudCI6ICJpbml0IiwgInRzIjogMTY1NDA2OTIxNi4zMDczNjkyfSwgeyJldmVudCI6ICJWaWRlbyAxOiBSTk5zIiwgInRzIjogMTY1NDA2OTIxOS4yMzcxMX0sIHsiZXZlbnQiOiAiVmlkZW8gMjogQ2FyYm9uIEZvb3RwcmludCBvZiBBSSIsICJ0cyI6IDE2NTQwNjk0NzcuNDgzMjkxMX0sIHsiZXZlbnQiOiAidXJsIGdlbmVyYXRlZCIsICJ0cyI6IDE2NTQwNjk0NzcuNTQ4NTc4fV19\" target=\"_blank\">\n",
              "   <img src=\"https://github.com/NeuromatchAcademy/course-content-dl/blob/main/tutorials/static/SurveyButton.png?raw=1\"\n",
              " alt=\"button link end of day Survey\" style=\"width:410px\"></a>\n",
              "   </div>"
            ]
          },
          "metadata": {},
          "execution_count": 18
        }
      ],
      "source": [
        "# @title Airtable Submission Link\n",
        "from IPython import display as IPydisplay\n",
        "IPydisplay.HTML(\n",
        "   f\"\"\"\n",
        " <div>\n",
        "   <a href= \"{atform.url()}\" target=\"_blank\">\n",
        "   <img src=\"https://github.com/NeuromatchAcademy/course-content-dl/blob/main/tutorials/static/SurveyButton.png?raw=1\"\n",
        " alt=\"button link end of day Survey\" style=\"width:410px\"></a>\n",
        "   </div>\"\"\" )"
      ]
    }
  ],
  "metadata": {
    "accelerator": "GPU",
    "colab": {
      "collapsed_sections": [],
      "machine_shape": "hm",
      "name": "W2D1_Tutorial2",
      "provenance": [],
      "toc_visible": true,
      "include_colab_link": true
    },
    "kernel": {
      "display_name": "Python 3",
      "language": "python",
      "name": "python3"
    },
    "kernelspec": {
      "display_name": "Python 3",
      "name": "python3"
    },
    "widgets": {
      "application/vnd.jupyter.widget-state+json": {
        "3ba132c7982c4e48ad7aff16591d50c7": {
          "model_module": "@jupyter-widgets/controls",
          "model_name": "TabModel",
          "model_module_version": "1.5.0",
          "state": {
            "_dom_classes": [],
            "_model_module": "@jupyter-widgets/controls",
            "_model_module_version": "1.5.0",
            "_model_name": "TabModel",
            "_titles": {
              "0": "Youtube",
              "1": "Bilibili"
            },
            "_view_count": null,
            "_view_module": "@jupyter-widgets/controls",
            "_view_module_version": "1.5.0",
            "_view_name": "TabView",
            "box_style": "",
            "children": [
              "IPY_MODEL_96586ab8ad9d4a7ea907b019b06e1076",
              "IPY_MODEL_e23d796f5a9242699f4e66ed808637db"
            ],
            "layout": "IPY_MODEL_2b54370ab7974b4488f9597f46feb061",
            "selected_index": 0
          }
        },
        "96586ab8ad9d4a7ea907b019b06e1076": {
          "model_module": "@jupyter-widgets/output",
          "model_name": "OutputModel",
          "model_module_version": "1.0.0",
          "state": {
            "_dom_classes": [],
            "_model_module": "@jupyter-widgets/output",
            "_model_module_version": "1.0.0",
            "_model_name": "OutputModel",
            "_view_count": null,
            "_view_module": "@jupyter-widgets/output",
            "_view_module_version": "1.0.0",
            "_view_name": "OutputView",
            "layout": "IPY_MODEL_12ed322d4f0d44318b2897df70a94a28",
            "msg_id": "",
            "outputs": [
              {
                "output_type": "stream",
                "name": "stdout",
                "text": [
                  "Video available at https://youtube.com/watch?v=PsZjS125lLs\n"
                ]
              },
              {
                "output_type": "display_data",
                "data": {
                  "text/plain": "<IPython.lib.display.YouTubeVideo at 0x7fa3bda8cf90>",
                  "text/html": "\n        <iframe\n            width=\"854\"\n            height=\"480\"\n            src=\"https://www.youtube.com/embed/PsZjS125lLs?fs=1&rel=0\"\n            frameborder=\"0\"\n            allowfullscreen\n        ></iframe>\n        ",
                  "image/jpeg": "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\n"
                },
                "metadata": {}
              }
            ]
          }
        },
        "e23d796f5a9242699f4e66ed808637db": {
          "model_module": "@jupyter-widgets/output",
          "model_name": "OutputModel",
          "model_module_version": "1.0.0",
          "state": {
            "_dom_classes": [],
            "_model_module": "@jupyter-widgets/output",
            "_model_module_version": "1.0.0",
            "_model_name": "OutputModel",
            "_view_count": null,
            "_view_module": "@jupyter-widgets/output",
            "_view_module_version": "1.0.0",
            "_view_name": "OutputView",
            "layout": "IPY_MODEL_02b25185d05445eebbeaf93a50db047c",
            "msg_id": "",
            "outputs": [
              {
                "output_type": "stream",
                "name": "stdout",
                "text": [
                  "Video available at https://www.bilibili.com/video/BV1L44y1m7PP\n"
                ]
              },
              {
                "output_type": "display_data",
                "data": {
                  "text/plain": "<__main__.BiliVideo at 0x7fa3bda7d190>",
                  "text/html": "\n        <iframe\n            width=\"854\"\n            height=\"480\"\n            src=\"https://player.bilibili.com/player.html?bvid=BV1L44y1m7PP&page=1?fs=1\"\n            frameborder=\"0\"\n            allowfullscreen\n        ></iframe>\n        "
                },
                "metadata": {}
              }
            ]
          }
        },
        "2b54370ab7974b4488f9597f46feb061": {
          "model_module": "@jupyter-widgets/base",
          "model_name": "LayoutModel",
          "model_module_version": "1.2.0",
          "state": {
            "_model_module": "@jupyter-widgets/base",
            "_model_module_version": "1.2.0",
            "_model_name": "LayoutModel",
            "_view_count": null,
            "_view_module": "@jupyter-widgets/base",
            "_view_module_version": "1.2.0",
            "_view_name": "LayoutView",
            "align_content": null,
            "align_items": null,
            "align_self": null,
            "border": null,
            "bottom": null,
            "display": null,
            "flex": null,
            "flex_flow": null,
            "grid_area": null,
            "grid_auto_columns": null,
            "grid_auto_flow": null,
            "grid_auto_rows": null,
            "grid_column": null,
            "grid_gap": null,
            "grid_row": null,
            "grid_template_areas": null,
            "grid_template_columns": null,
            "grid_template_rows": null,
            "height": null,
            "justify_content": null,
            "justify_items": null,
            "left": null,
            "margin": null,
            "max_height": null,
            "max_width": null,
            "min_height": null,
            "min_width": null,
            "object_fit": null,
            "object_position": null,
            "order": null,
            "overflow": null,
            "overflow_x": null,
            "overflow_y": null,
            "padding": null,
            "right": null,
            "top": null,
            "visibility": null,
            "width": null
          }
        },
        "12ed322d4f0d44318b2897df70a94a28": {
          "model_module": "@jupyter-widgets/base",
          "model_name": "LayoutModel",
          "model_module_version": "1.2.0",
          "state": {
            "_model_module": "@jupyter-widgets/base",
            "_model_module_version": "1.2.0",
            "_model_name": "LayoutModel",
            "_view_count": null,
            "_view_module": "@jupyter-widgets/base",
            "_view_module_version": "1.2.0",
            "_view_name": "LayoutView",
            "align_content": null,
            "align_items": null,
            "align_self": null,
            "border": null,
            "bottom": null,
            "display": null,
            "flex": null,
            "flex_flow": null,
            "grid_area": null,
            "grid_auto_columns": null,
            "grid_auto_flow": null,
            "grid_auto_rows": null,
            "grid_column": null,
            "grid_gap": null,
            "grid_row": null,
            "grid_template_areas": null,
            "grid_template_columns": null,
            "grid_template_rows": null,
            "height": null,
            "justify_content": null,
            "justify_items": null,
            "left": null,
            "margin": null,
            "max_height": null,
            "max_width": null,
            "min_height": null,
            "min_width": null,
            "object_fit": null,
            "object_position": null,
            "order": null,
            "overflow": null,
            "overflow_x": null,
            "overflow_y": null,
            "padding": null,
            "right": null,
            "top": null,
            "visibility": null,
            "width": null
          }
        },
        "02b25185d05445eebbeaf93a50db047c": {
          "model_module": "@jupyter-widgets/base",
          "model_name": "LayoutModel",
          "model_module_version": "1.2.0",
          "state": {
            "_model_module": "@jupyter-widgets/base",
            "_model_module_version": "1.2.0",
            "_model_name": "LayoutModel",
            "_view_count": null,
            "_view_module": "@jupyter-widgets/base",
            "_view_module_version": "1.2.0",
            "_view_name": "LayoutView",
            "align_content": null,
            "align_items": null,
            "align_self": null,
            "border": null,
            "bottom": null,
            "display": null,
            "flex": null,
            "flex_flow": null,
            "grid_area": null,
            "grid_auto_columns": null,
            "grid_auto_flow": null,
            "grid_auto_rows": null,
            "grid_column": null,
            "grid_gap": null,
            "grid_row": null,
            "grid_template_areas": null,
            "grid_template_columns": null,
            "grid_template_rows": null,
            "height": null,
            "justify_content": null,
            "justify_items": null,
            "left": null,
            "margin": null,
            "max_height": null,
            "max_width": null,
            "min_height": null,
            "min_width": null,
            "object_fit": null,
            "object_position": null,
            "order": null,
            "overflow": null,
            "overflow_x": null,
            "overflow_y": null,
            "padding": null,
            "right": null,
            "top": null,
            "visibility": null,
            "width": null
          }
        },
        "b99c5b92f14441c3b474fb7a223950c2": {
          "model_module": "@jupyter-widgets/controls",
          "model_name": "HBoxModel",
          "model_module_version": "1.5.0",
          "state": {
            "_dom_classes": [],
            "_model_module": "@jupyter-widgets/controls",
            "_model_module_version": "1.5.0",
            "_model_name": "HBoxModel",
            "_view_count": null,
            "_view_module": "@jupyter-widgets/controls",
            "_view_module_version": "1.5.0",
            "_view_name": "HBoxView",
            "box_style": "",
            "children": [
              "IPY_MODEL_5a0fab44c48d45ff989bcb2fc0f8124b",
              "IPY_MODEL_05532d57a24b4b62a8d1e0f52ccc909f",
              "IPY_MODEL_2668cfc37a79440493ede4487e261563"
            ],
            "layout": "IPY_MODEL_2dd15dad7b11406e955f17c3c8924970"
          }
        },
        "5a0fab44c48d45ff989bcb2fc0f8124b": {
          "model_module": "@jupyter-widgets/controls",
          "model_name": "HTMLModel",
          "model_module_version": "1.5.0",
          "state": {
            "_dom_classes": [],
            "_model_module": "@jupyter-widgets/controls",
            "_model_module_version": "1.5.0",
            "_model_name": "HTMLModel",
            "_view_count": null,
            "_view_module": "@jupyter-widgets/controls",
            "_view_module_version": "1.5.0",
            "_view_name": "HTMLView",
            "description": "",
            "description_tooltip": null,
            "layout": "IPY_MODEL_e243f489330f4a6baf0c1b5707f34e31",
            "placeholder": "​",
            "style": "IPY_MODEL_407e7bbfcf1045c7bfead239ea47f512",
            "value": "100%"
          }
        },
        "05532d57a24b4b62a8d1e0f52ccc909f": {
          "model_module": "@jupyter-widgets/controls",
          "model_name": "FloatProgressModel",
          "model_module_version": "1.5.0",
          "state": {
            "_dom_classes": [],
            "_model_module": "@jupyter-widgets/controls",
            "_model_module_version": "1.5.0",
            "_model_name": "FloatProgressModel",
            "_view_count": null,
            "_view_module": "@jupyter-widgets/controls",
            "_view_module_version": "1.5.0",
            "_view_name": "ProgressView",
            "bar_style": "success",
            "description": "",
            "description_tooltip": null,
            "layout": "IPY_MODEL_53fb4c3fff344fc0a41c7c7c460d64b4",
            "max": 1000,
            "min": 0,
            "orientation": "horizontal",
            "style": "IPY_MODEL_1cb5e600afa1468fae7bea49c3c056b7",
            "value": 1000
          }
        },
        "2668cfc37a79440493ede4487e261563": {
          "model_module": "@jupyter-widgets/controls",
          "model_name": "HTMLModel",
          "model_module_version": "1.5.0",
          "state": {
            "_dom_classes": [],
            "_model_module": "@jupyter-widgets/controls",
            "_model_module_version": "1.5.0",
            "_model_name": "HTMLModel",
            "_view_count": null,
            "_view_module": "@jupyter-widgets/controls",
            "_view_module_version": "1.5.0",
            "_view_name": "HTMLView",
            "description": "",
            "description_tooltip": null,
            "layout": "IPY_MODEL_6a2d398d3d7d4b4f839e01c3ef18bf76",
            "placeholder": "​",
            "style": "IPY_MODEL_409c60d7d9f6465e9380f86fc53a95e6",
            "value": " 1000/1000 [04:04&lt;00:00,  3.72it/s]"
          }
        },
        "2dd15dad7b11406e955f17c3c8924970": {
          "model_module": "@jupyter-widgets/base",
          "model_name": "LayoutModel",
          "model_module_version": "1.2.0",
          "state": {
            "_model_module": "@jupyter-widgets/base",
            "_model_module_version": "1.2.0",
            "_model_name": "LayoutModel",
            "_view_count": null,
            "_view_module": "@jupyter-widgets/base",
            "_view_module_version": "1.2.0",
            "_view_name": "LayoutView",
            "align_content": null,
            "align_items": null,
            "align_self": null,
            "border": null,
            "bottom": null,
            "display": null,
            "flex": null,
            "flex_flow": null,
            "grid_area": null,
            "grid_auto_columns": null,
            "grid_auto_flow": null,
            "grid_auto_rows": null,
            "grid_column": null,
            "grid_gap": null,
            "grid_row": null,
            "grid_template_areas": null,
            "grid_template_columns": null,
            "grid_template_rows": null,
            "height": null,
            "justify_content": null,
            "justify_items": null,
            "left": null,
            "margin": null,
            "max_height": null,
            "max_width": null,
            "min_height": null,
            "min_width": null,
            "object_fit": null,
            "object_position": null,
            "order": null,
            "overflow": null,
            "overflow_x": null,
            "overflow_y": null,
            "padding": null,
            "right": null,
            "top": null,
            "visibility": null,
            "width": null
          }
        },
        "e243f489330f4a6baf0c1b5707f34e31": {
          "model_module": "@jupyter-widgets/base",
          "model_name": "LayoutModel",
          "model_module_version": "1.2.0",
          "state": {
            "_model_module": "@jupyter-widgets/base",
            "_model_module_version": "1.2.0",
            "_model_name": "LayoutModel",
            "_view_count": null,
            "_view_module": "@jupyter-widgets/base",
            "_view_module_version": "1.2.0",
            "_view_name": "LayoutView",
            "align_content": null,
            "align_items": null,
            "align_self": null,
            "border": null,
            "bottom": null,
            "display": null,
            "flex": null,
            "flex_flow": null,
            "grid_area": null,
            "grid_auto_columns": null,
            "grid_auto_flow": null,
            "grid_auto_rows": null,
            "grid_column": null,
            "grid_gap": null,
            "grid_row": null,
            "grid_template_areas": null,
            "grid_template_columns": null,
            "grid_template_rows": null,
            "height": null,
            "justify_content": null,
            "justify_items": null,
            "left": null,
            "margin": null,
            "max_height": null,
            "max_width": null,
            "min_height": null,
            "min_width": null,
            "object_fit": null,
            "object_position": null,
            "order": null,
            "overflow": null,
            "overflow_x": null,
            "overflow_y": null,
            "padding": null,
            "right": null,
            "top": null,
            "visibility": null,
            "width": null
          }
        },
        "407e7bbfcf1045c7bfead239ea47f512": {
          "model_module": "@jupyter-widgets/controls",
          "model_name": "DescriptionStyleModel",
          "model_module_version": "1.5.0",
          "state": {
            "_model_module": "@jupyter-widgets/controls",
            "_model_module_version": "1.5.0",
            "_model_name": "DescriptionStyleModel",
            "_view_count": null,
            "_view_module": "@jupyter-widgets/base",
            "_view_module_version": "1.2.0",
            "_view_name": "StyleView",
            "description_width": ""
          }
        },
        "53fb4c3fff344fc0a41c7c7c460d64b4": {
          "model_module": "@jupyter-widgets/base",
          "model_name": "LayoutModel",
          "model_module_version": "1.2.0",
          "state": {
            "_model_module": "@jupyter-widgets/base",
            "_model_module_version": "1.2.0",
            "_model_name": "LayoutModel",
            "_view_count": null,
            "_view_module": "@jupyter-widgets/base",
            "_view_module_version": "1.2.0",
            "_view_name": "LayoutView",
            "align_content": null,
            "align_items": null,
            "align_self": null,
            "border": null,
            "bottom": null,
            "display": null,
            "flex": null,
            "flex_flow": null,
            "grid_area": null,
            "grid_auto_columns": null,
            "grid_auto_flow": null,
            "grid_auto_rows": null,
            "grid_column": null,
            "grid_gap": null,
            "grid_row": null,
            "grid_template_areas": null,
            "grid_template_columns": null,
            "grid_template_rows": null,
            "height": null,
            "justify_content": null,
            "justify_items": null,
            "left": null,
            "margin": null,
            "max_height": null,
            "max_width": null,
            "min_height": null,
            "min_width": null,
            "object_fit": null,
            "object_position": null,
            "order": null,
            "overflow": null,
            "overflow_x": null,
            "overflow_y": null,
            "padding": null,
            "right": null,
            "top": null,
            "visibility": null,
            "width": null
          }
        },
        "1cb5e600afa1468fae7bea49c3c056b7": {
          "model_module": "@jupyter-widgets/controls",
          "model_name": "ProgressStyleModel",
          "model_module_version": "1.5.0",
          "state": {
            "_model_module": "@jupyter-widgets/controls",
            "_model_module_version": "1.5.0",
            "_model_name": "ProgressStyleModel",
            "_view_count": null,
            "_view_module": "@jupyter-widgets/base",
            "_view_module_version": "1.2.0",
            "_view_name": "StyleView",
            "bar_color": null,
            "description_width": ""
          }
        },
        "6a2d398d3d7d4b4f839e01c3ef18bf76": {
          "model_module": "@jupyter-widgets/base",
          "model_name": "LayoutModel",
          "model_module_version": "1.2.0",
          "state": {
            "_model_module": "@jupyter-widgets/base",
            "_model_module_version": "1.2.0",
            "_model_name": "LayoutModel",
            "_view_count": null,
            "_view_module": "@jupyter-widgets/base",
            "_view_module_version": "1.2.0",
            "_view_name": "LayoutView",
            "align_content": null,
            "align_items": null,
            "align_self": null,
            "border": null,
            "bottom": null,
            "display": null,
            "flex": null,
            "flex_flow": null,
            "grid_area": null,
            "grid_auto_columns": null,
            "grid_auto_flow": null,
            "grid_auto_rows": null,
            "grid_column": null,
            "grid_gap": null,
            "grid_row": null,
            "grid_template_areas": null,
            "grid_template_columns": null,
            "grid_template_rows": null,
            "height": null,
            "justify_content": null,
            "justify_items": null,
            "left": null,
            "margin": null,
            "max_height": null,
            "max_width": null,
            "min_height": null,
            "min_width": null,
            "object_fit": null,
            "object_position": null,
            "order": null,
            "overflow": null,
            "overflow_x": null,
            "overflow_y": null,
            "padding": null,
            "right": null,
            "top": null,
            "visibility": null,
            "width": null
          }
        },
        "409c60d7d9f6465e9380f86fc53a95e6": {
          "model_module": "@jupyter-widgets/controls",
          "model_name": "DescriptionStyleModel",
          "model_module_version": "1.5.0",
          "state": {
            "_model_module": "@jupyter-widgets/controls",
            "_model_module_version": "1.5.0",
            "_model_name": "DescriptionStyleModel",
            "_view_count": null,
            "_view_module": "@jupyter-widgets/base",
            "_view_module_version": "1.2.0",
            "_view_name": "StyleView",
            "description_width": ""
          }
        },
        "003d6f44c0454bcf96d899e571634c51": {
          "model_module": "@jupyter-widgets/controls",
          "model_name": "TabModel",
          "model_module_version": "1.5.0",
          "state": {
            "_dom_classes": [],
            "_model_module": "@jupyter-widgets/controls",
            "_model_module_version": "1.5.0",
            "_model_name": "TabModel",
            "_titles": {
              "0": "Youtube",
              "1": "Bilibili"
            },
            "_view_count": null,
            "_view_module": "@jupyter-widgets/controls",
            "_view_module_version": "1.5.0",
            "_view_name": "TabView",
            "box_style": "",
            "children": [
              "IPY_MODEL_7900dc9ce55a4bcfb4e741af8cc99585",
              "IPY_MODEL_93c05dbe5c5046b794f689f90520ae93"
            ],
            "layout": "IPY_MODEL_a4d60b750e684954a4d26a96030f6409",
            "selected_index": 0
          }
        },
        "7900dc9ce55a4bcfb4e741af8cc99585": {
          "model_module": "@jupyter-widgets/output",
          "model_name": "OutputModel",
          "model_module_version": "1.0.0",
          "state": {
            "_dom_classes": [],
            "_model_module": "@jupyter-widgets/output",
            "_model_module_version": "1.0.0",
            "_model_name": "OutputModel",
            "_view_count": null,
            "_view_module": "@jupyter-widgets/output",
            "_view_module_version": "1.0.0",
            "_view_name": "OutputView",
            "layout": "IPY_MODEL_bed98dcdf47a4d91bd4ed0dad955a232",
            "msg_id": "",
            "outputs": [
              {
                "output_type": "stream",
                "name": "stdout",
                "text": [
                  "Video available at https://youtube.com/watch?v=as6C334LmRs\n"
                ]
              },
              {
                "output_type": "display_data",
                "data": {
                  "text/plain": "<IPython.lib.display.YouTubeVideo at 0x7fa3b6dfa990>",
                  "text/html": "\n        <iframe\n            width=\"854\"\n            height=\"480\"\n            src=\"https://www.youtube.com/embed/as6C334LmRs?fs=1&rel=0\"\n            frameborder=\"0\"\n            allowfullscreen\n        ></iframe>\n        ",
                  "image/jpeg": "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\n"
                },
                "metadata": {}
              }
            ]
          }
        },
        "93c05dbe5c5046b794f689f90520ae93": {
          "model_module": "@jupyter-widgets/output",
          "model_name": "OutputModel",
          "model_module_version": "1.0.0",
          "state": {
            "_dom_classes": [],
            "_model_module": "@jupyter-widgets/output",
            "_model_module_version": "1.0.0",
            "_model_name": "OutputModel",
            "_view_count": null,
            "_view_module": "@jupyter-widgets/output",
            "_view_module_version": "1.0.0",
            "_view_name": "OutputView",
            "layout": "IPY_MODEL_3aa833d6bb7d4973b19d42fd98254a14",
            "msg_id": "",
            "outputs": [
              {
                "output_type": "stream",
                "name": "stdout",
                "text": [
                  "Video available at https://www.bilibili.com/video/BV1My4y1j7HJ\n"
                ]
              },
              {
                "output_type": "display_data",
                "data": {
                  "text/plain": "<__main__.BiliVideo at 0x7fa3b6dfa690>",
                  "text/html": "\n        <iframe\n            width=\"854\"\n            height=\"480\"\n            src=\"https://player.bilibili.com/player.html?bvid=BV1My4y1j7HJ&page=1?fs=1\"\n            frameborder=\"0\"\n            allowfullscreen\n        ></iframe>\n        "
                },
                "metadata": {}
              }
            ]
          }
        },
        "a4d60b750e684954a4d26a96030f6409": {
          "model_module": "@jupyter-widgets/base",
          "model_name": "LayoutModel",
          "model_module_version": "1.2.0",
          "state": {
            "_model_module": "@jupyter-widgets/base",
            "_model_module_version": "1.2.0",
            "_model_name": "LayoutModel",
            "_view_count": null,
            "_view_module": "@jupyter-widgets/base",
            "_view_module_version": "1.2.0",
            "_view_name": "LayoutView",
            "align_content": null,
            "align_items": null,
            "align_self": null,
            "border": null,
            "bottom": null,
            "display": null,
            "flex": null,
            "flex_flow": null,
            "grid_area": null,
            "grid_auto_columns": null,
            "grid_auto_flow": null,
            "grid_auto_rows": null,
            "grid_column": null,
            "grid_gap": null,
            "grid_row": null,
            "grid_template_areas": null,
            "grid_template_columns": null,
            "grid_template_rows": null,
            "height": null,
            "justify_content": null,
            "justify_items": null,
            "left": null,
            "margin": null,
            "max_height": null,
            "max_width": null,
            "min_height": null,
            "min_width": null,
            "object_fit": null,
            "object_position": null,
            "order": null,
            "overflow": null,
            "overflow_x": null,
            "overflow_y": null,
            "padding": null,
            "right": null,
            "top": null,
            "visibility": null,
            "width": null
          }
        },
        "bed98dcdf47a4d91bd4ed0dad955a232": {
          "model_module": "@jupyter-widgets/base",
          "model_name": "LayoutModel",
          "model_module_version": "1.2.0",
          "state": {
            "_model_module": "@jupyter-widgets/base",
            "_model_module_version": "1.2.0",
            "_model_name": "LayoutModel",
            "_view_count": null,
            "_view_module": "@jupyter-widgets/base",
            "_view_module_version": "1.2.0",
            "_view_name": "LayoutView",
            "align_content": null,
            "align_items": null,
            "align_self": null,
            "border": null,
            "bottom": null,
            "display": null,
            "flex": null,
            "flex_flow": null,
            "grid_area": null,
            "grid_auto_columns": null,
            "grid_auto_flow": null,
            "grid_auto_rows": null,
            "grid_column": null,
            "grid_gap": null,
            "grid_row": null,
            "grid_template_areas": null,
            "grid_template_columns": null,
            "grid_template_rows": null,
            "height": null,
            "justify_content": null,
            "justify_items": null,
            "left": null,
            "margin": null,
            "max_height": null,
            "max_width": null,
            "min_height": null,
            "min_width": null,
            "object_fit": null,
            "object_position": null,
            "order": null,
            "overflow": null,
            "overflow_x": null,
            "overflow_y": null,
            "padding": null,
            "right": null,
            "top": null,
            "visibility": null,
            "width": null
          }
        },
        "3aa833d6bb7d4973b19d42fd98254a14": {
          "model_module": "@jupyter-widgets/base",
          "model_name": "LayoutModel",
          "model_module_version": "1.2.0",
          "state": {
            "_model_module": "@jupyter-widgets/base",
            "_model_module_version": "1.2.0",
            "_model_name": "LayoutModel",
            "_view_count": null,
            "_view_module": "@jupyter-widgets/base",
            "_view_module_version": "1.2.0",
            "_view_name": "LayoutView",
            "align_content": null,
            "align_items": null,
            "align_self": null,
            "border": null,
            "bottom": null,
            "display": null,
            "flex": null,
            "flex_flow": null,
            "grid_area": null,
            "grid_auto_columns": null,
            "grid_auto_flow": null,
            "grid_auto_rows": null,
            "grid_column": null,
            "grid_gap": null,
            "grid_row": null,
            "grid_template_areas": null,
            "grid_template_columns": null,
            "grid_template_rows": null,
            "height": null,
            "justify_content": null,
            "justify_items": null,
            "left": null,
            "margin": null,
            "max_height": null,
            "max_width": null,
            "min_height": null,
            "min_width": null,
            "object_fit": null,
            "object_position": null,
            "order": null,
            "overflow": null,
            "overflow_x": null,
            "overflow_y": null,
            "padding": null,
            "right": null,
            "top": null,
            "visibility": null,
            "width": null
          }
        },
        "f0babfd7ba764c7ba6e79706738d9992": {
          "model_module": "@jupyter-widgets/controls",
          "model_name": "TextareaModel",
          "model_module_version": "1.5.0",
          "state": {
            "_dom_classes": [],
            "_model_module": "@jupyter-widgets/controls",
            "_model_module_version": "1.5.0",
            "_model_name": "TextareaModel",
            "_view_count": null,
            "_view_module": "@jupyter-widgets/controls",
            "_view_module_version": "1.5.0",
            "_view_name": "TextareaView",
            "continuous_update": true,
            "description": "",
            "description_tooltip": null,
            "disabled": false,
            "layout": "IPY_MODEL_4bce7ec55f154155bdb29c0c2de36090",
            "placeholder": "Type something",
            "rows": null,
            "style": "IPY_MODEL_191ea9861490429fb5d7763b9075c694",
            "value": "Type your answer here and click on `Submit!`"
          }
        },
        "4bce7ec55f154155bdb29c0c2de36090": {
          "model_module": "@jupyter-widgets/base",
          "model_name": "LayoutModel",
          "model_module_version": "1.2.0",
          "state": {
            "_model_module": "@jupyter-widgets/base",
            "_model_module_version": "1.2.0",
            "_model_name": "LayoutModel",
            "_view_count": null,
            "_view_module": "@jupyter-widgets/base",
            "_view_module_version": "1.2.0",
            "_view_name": "LayoutView",
            "align_content": null,
            "align_items": null,
            "align_self": null,
            "border": null,
            "bottom": null,
            "display": null,
            "flex": null,
            "flex_flow": null,
            "grid_area": null,
            "grid_auto_columns": null,
            "grid_auto_flow": null,
            "grid_auto_rows": null,
            "grid_column": null,
            "grid_gap": null,
            "grid_row": null,
            "grid_template_areas": null,
            "grid_template_columns": null,
            "grid_template_rows": null,
            "height": null,
            "justify_content": null,
            "justify_items": null,
            "left": null,
            "margin": null,
            "max_height": null,
            "max_width": null,
            "min_height": null,
            "min_width": null,
            "object_fit": null,
            "object_position": null,
            "order": null,
            "overflow": null,
            "overflow_x": null,
            "overflow_y": null,
            "padding": null,
            "right": null,
            "top": null,
            "visibility": null,
            "width": null
          }
        },
        "191ea9861490429fb5d7763b9075c694": {
          "model_module": "@jupyter-widgets/controls",
          "model_name": "DescriptionStyleModel",
          "model_module_version": "1.5.0",
          "state": {
            "_model_module": "@jupyter-widgets/controls",
            "_model_module_version": "1.5.0",
            "_model_name": "DescriptionStyleModel",
            "_view_count": null,
            "_view_module": "@jupyter-widgets/base",
            "_view_module_version": "1.2.0",
            "_view_name": "StyleView",
            "description_width": ""
          }
        },
        "a6db5d3394ee4e7eae5eee6d2754a6c3": {
          "model_module": "@jupyter-widgets/controls",
          "model_name": "ButtonModel",
          "model_module_version": "1.5.0",
          "state": {
            "_dom_classes": [],
            "_model_module": "@jupyter-widgets/controls",
            "_model_module_version": "1.5.0",
            "_model_name": "ButtonModel",
            "_view_count": null,
            "_view_module": "@jupyter-widgets/controls",
            "_view_module_version": "1.5.0",
            "_view_name": "ButtonView",
            "button_style": "",
            "description": "Submit!",
            "disabled": false,
            "icon": "",
            "layout": "IPY_MODEL_b857fa2743784646b498aac43723ba82",
            "style": "IPY_MODEL_35e8286dbf31483d8e900c4dac838c11",
            "tooltip": ""
          }
        },
        "b857fa2743784646b498aac43723ba82": {
          "model_module": "@jupyter-widgets/base",
          "model_name": "LayoutModel",
          "model_module_version": "1.2.0",
          "state": {
            "_model_module": "@jupyter-widgets/base",
            "_model_module_version": "1.2.0",
            "_model_name": "LayoutModel",
            "_view_count": null,
            "_view_module": "@jupyter-widgets/base",
            "_view_module_version": "1.2.0",
            "_view_name": "LayoutView",
            "align_content": null,
            "align_items": null,
            "align_self": null,
            "border": null,
            "bottom": null,
            "display": null,
            "flex": null,
            "flex_flow": null,
            "grid_area": null,
            "grid_auto_columns": null,
            "grid_auto_flow": null,
            "grid_auto_rows": null,
            "grid_column": null,
            "grid_gap": null,
            "grid_row": null,
            "grid_template_areas": null,
            "grid_template_columns": null,
            "grid_template_rows": null,
            "height": null,
            "justify_content": null,
            "justify_items": null,
            "left": null,
            "margin": null,
            "max_height": null,
            "max_width": null,
            "min_height": null,
            "min_width": null,
            "object_fit": null,
            "object_position": null,
            "order": null,
            "overflow": null,
            "overflow_x": null,
            "overflow_y": null,
            "padding": null,
            "right": null,
            "top": null,
            "visibility": null,
            "width": null
          }
        },
        "35e8286dbf31483d8e900c4dac838c11": {
          "model_module": "@jupyter-widgets/controls",
          "model_name": "ButtonStyleModel",
          "model_module_version": "1.5.0",
          "state": {
            "_model_module": "@jupyter-widgets/controls",
            "_model_module_version": "1.5.0",
            "_model_name": "ButtonStyleModel",
            "_view_count": null,
            "_view_module": "@jupyter-widgets/base",
            "_view_module_version": "1.2.0",
            "_view_name": "StyleView",
            "button_color": null,
            "font_weight": ""
          }
        }
      }
    }
  },
  "nbformat": 4,
  "nbformat_minor": 0
}