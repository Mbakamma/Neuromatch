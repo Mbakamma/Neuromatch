{
  "cells": [
    {
      "cell_type": "markdown",
      "metadata": {
        "id": "view-in-github",
        "colab_type": "text"
      },
      "source": [
        "<a href=\"https://colab.research.google.com/github/NeuromatchAcademy/course-content-dl/blob/spiros-patch1/tutorials/W3D4_BasicReinforcementLearning/W3D4_BonusLecture.ipynb\" target=\"_parent\"><img src=\"https://colab.research.google.com/assets/colab-badge.svg\" alt=\"Open In Colab\"/></a>"
      ]
    },
    {
      "cell_type": "markdown",
      "metadata": {
        "execution": {},
        "id": "UADy1gKgoZ6V"
      },
      "source": [
        "# Bonus Lecture: Chealsea Finn"
      ]
    },
    {
      "cell_type": "markdown",
      "metadata": {
        "execution": {},
        "id": "Y7zgIT8doZ6X"
      },
      "source": [
        "<p align='center'><img src='https://github.com/NeuromatchAcademy/widgets/blob/master/sponsors.png?raw=True'/></p>"
      ]
    },
    {
      "cell_type": "code",
      "execution_count": 1,
      "metadata": {
        "cellView": "form",
        "execution": {},
        "id": "24ZDiq2woZ6Y",
        "outputId": "cca05029-675e-4161-c0bf-6137391da7a7",
        "colab": {
          "base_uri": "https://localhost:8080/",
          "height": 582,
          "referenced_widgets": [
            "7c4a6200acc445dcba7237451a6b1b66",
            "bdc7ff4c47394c349577b6c18954b567",
            "4ca8e5135a854157bbd685d441e5a1bc",
            "3375e36369684faf959fac23122e15cc",
            "a44ae0d1aa974f38863755da15678fe9",
            "0930aec74c8f4399a9fb8b240388c807"
          ]
        }
      },
      "outputs": [
        {
          "output_type": "display_data",
          "data": {
            "text/plain": [
              "Tab(children=(Output(), Output()), _titles={'0': 'Youtube', '1': 'Bilibili'})"
            ],
            "application/vnd.jupyter.widget-view+json": {
              "version_major": 2,
              "version_minor": 0,
              "model_id": "7c4a6200acc445dcba7237451a6b1b66"
            }
          },
          "metadata": {}
        }
      ],
      "source": [
        "# @title Video: Chealsea Finn\n",
        "\n",
        "from ipywidgets import widgets\n",
        "out2 = widgets.Output()\n",
        "with out2:\n",
        "  from IPython.display import IFrame\n",
        "  class BiliVideo(IFrame):\n",
        "    def __init__(self, id, page=1, width=400, height=300, **kwargs):\n",
        "      self.id=id\n",
        "      src = \"https://player.bilibili.com/player.html?bvid={0}&page={1}\".format(id, page)\n",
        "      super(BiliVideo, self).__init__(src, width, height, **kwargs)\n",
        "\n",
        "  video = BiliVideo(id=f\"BV1kA411A73F\", width=854, height=480, fs=1)\n",
        "  print(\"Video available at https://www.bilibili.com/video/{0}\".format(video.id))\n",
        "  display(video)\n",
        "\n",
        "out1 = widgets.Output()\n",
        "with out1:\n",
        "  from IPython.display import YouTubeVideo\n",
        "  video = YouTubeVideo(id=f\"P5YknsVZ2gk\", width=854, height=480, fs=1, rel=0)\n",
        "  print(\"Video available at https://youtube.com/watch?v=\" + video.id)\n",
        "  display(video)\n",
        "\n",
        "out = widgets.Tab([out1, out2])\n",
        "out.set_title(0, 'Youtube')\n",
        "out.set_title(1, 'Bilibili')\n",
        "\n",
        "display(out)"
      ]
    },
    {
      "cell_type": "code",
      "execution_count": 2,
      "metadata": {
        "cellView": "form",
        "execution": {},
        "id": "OXt1T8A5oZ6a",
        "outputId": "d4a77ba4-ce00-48df-f8a8-6b44185c2acf",
        "colab": {
          "base_uri": "https://localhost:8080/",
          "height": 503
        }
      },
      "outputs": [
        {
          "output_type": "execute_result",
          "data": {
            "text/plain": [
              "<IPython.lib.display.IFrame at 0x7f5263bda550>"
            ],
            "text/html": [
              "\n",
              "        <iframe\n",
              "            width=\"854\"\n",
              "            height=\"480\"\n",
              "            src=\"https://mfr.ca-1.osf.io/render?url=https://osf.io/download/6zkbr/?direct%26mode=render\"\n",
              "            frameborder=\"0\"\n",
              "            allowfullscreen\n",
              "        ></iframe>\n",
              "        "
            ]
          },
          "metadata": {},
          "execution_count": 2
        }
      ],
      "source": [
        "# @title Slides\n",
        "from IPython.display import IFrame\n",
        "IFrame(src=\"https://mfr.ca-1.osf.io/render?url=https://osf.io/download/6zkbr/?direct%26mode=render\", width=854, height=480)"
      ]
    },
    {
      "cell_type": "markdown",
      "metadata": {
        "execution": {},
        "id": "HdoqY2j0oZ6b"
      },
      "source": [
        "These are the slides for the video in this bonus lecture. If you want to locally dowload the slides, click [here](https://osf.io/download/6zkbr/)."
      ]
    }
  ],
  "metadata": {
    "colab": {
      "collapsed_sections": [],
      "name": "W3D4_BonusLecture",
      "provenance": [],
      "toc_visible": true,
      "include_colab_link": true
    },
    "kernel": {
      "display_name": "Python 3",
      "language": "python",
      "name": "python3"
    },
    "kernelspec": {
      "display_name": "Python 3",
      "name": "python3"
    },
    "language_info": {
      "name": "python"
    },
    "widgets": {
      "application/vnd.jupyter.widget-state+json": {
        "7c4a6200acc445dcba7237451a6b1b66": {
          "model_module": "@jupyter-widgets/controls",
          "model_name": "TabModel",
          "model_module_version": "1.5.0",
          "state": {
            "_dom_classes": [],
            "_model_module": "@jupyter-widgets/controls",
            "_model_module_version": "1.5.0",
            "_model_name": "TabModel",
            "_titles": {
              "0": "Youtube",
              "1": "Bilibili"
            },
            "_view_count": null,
            "_view_module": "@jupyter-widgets/controls",
            "_view_module_version": "1.5.0",
            "_view_name": "TabView",
            "box_style": "",
            "children": [
              "IPY_MODEL_bdc7ff4c47394c349577b6c18954b567",
              "IPY_MODEL_4ca8e5135a854157bbd685d441e5a1bc"
            ],
            "layout": "IPY_MODEL_3375e36369684faf959fac23122e15cc",
            "selected_index": 0
          }
        },
        "bdc7ff4c47394c349577b6c18954b567": {
          "model_module": "@jupyter-widgets/output",
          "model_name": "OutputModel",
          "model_module_version": "1.0.0",
          "state": {
            "_dom_classes": [],
            "_model_module": "@jupyter-widgets/output",
            "_model_module_version": "1.0.0",
            "_model_name": "OutputModel",
            "_view_count": null,
            "_view_module": "@jupyter-widgets/output",
            "_view_module_version": "1.0.0",
            "_view_name": "OutputView",
            "layout": "IPY_MODEL_a44ae0d1aa974f38863755da15678fe9",
            "msg_id": "",
            "outputs": [
              {
                "output_type": "stream",
                "name": "stdout",
                "text": [
                  "Video available at https://youtube.com/watch?v=P5YknsVZ2gk\n"
                ]
              },
              {
                "output_type": "display_data",
                "data": {
                  "text/plain": "<IPython.lib.display.YouTubeVideo at 0x7f5265d22990>",
                  "text/html": "\n        <iframe\n            width=\"854\"\n            height=\"480\"\n            src=\"https://www.youtube.com/embed/P5YknsVZ2gk?fs=1&rel=0\"\n            frameborder=\"0\"\n            allowfullscreen\n        ></iframe>\n        ",
                  "image/jpeg": "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\n"
                },
                "metadata": {}
              }
            ]
          }
        },
        "4ca8e5135a854157bbd685d441e5a1bc": {
          "model_module": "@jupyter-widgets/output",
          "model_name": "OutputModel",
          "model_module_version": "1.0.0",
          "state": {
            "_dom_classes": [],
            "_model_module": "@jupyter-widgets/output",
            "_model_module_version": "1.0.0",
            "_model_name": "OutputModel",
            "_view_count": null,
            "_view_module": "@jupyter-widgets/output",
            "_view_module_version": "1.0.0",
            "_view_name": "OutputView",
            "layout": "IPY_MODEL_0930aec74c8f4399a9fb8b240388c807",
            "msg_id": "",
            "outputs": [
              {
                "output_type": "stream",
                "name": "stdout",
                "text": [
                  "Video available at https://www.bilibili.com/video/BV1kA411A73F\n"
                ]
              },
              {
                "output_type": "display_data",
                "data": {
                  "text/plain": "<__main__.BiliVideo at 0x7f5263bdaf50>",
                  "text/html": "\n        <iframe\n            width=\"854\"\n            height=\"480\"\n            src=\"https://player.bilibili.com/player.html?bvid=BV1kA411A73F&page=1?fs=1\"\n            frameborder=\"0\"\n            allowfullscreen\n        ></iframe>\n        "
                },
                "metadata": {}
              }
            ]
          }
        },
        "3375e36369684faf959fac23122e15cc": {
          "model_module": "@jupyter-widgets/base",
          "model_name": "LayoutModel",
          "model_module_version": "1.2.0",
          "state": {
            "_model_module": "@jupyter-widgets/base",
            "_model_module_version": "1.2.0",
            "_model_name": "LayoutModel",
            "_view_count": null,
            "_view_module": "@jupyter-widgets/base",
            "_view_module_version": "1.2.0",
            "_view_name": "LayoutView",
            "align_content": null,
            "align_items": null,
            "align_self": null,
            "border": null,
            "bottom": null,
            "display": null,
            "flex": null,
            "flex_flow": null,
            "grid_area": null,
            "grid_auto_columns": null,
            "grid_auto_flow": null,
            "grid_auto_rows": null,
            "grid_column": null,
            "grid_gap": null,
            "grid_row": null,
            "grid_template_areas": null,
            "grid_template_columns": null,
            "grid_template_rows": null,
            "height": null,
            "justify_content": null,
            "justify_items": null,
            "left": null,
            "margin": null,
            "max_height": null,
            "max_width": null,
            "min_height": null,
            "min_width": null,
            "object_fit": null,
            "object_position": null,
            "order": null,
            "overflow": null,
            "overflow_x": null,
            "overflow_y": null,
            "padding": null,
            "right": null,
            "top": null,
            "visibility": null,
            "width": null
          }
        },
        "a44ae0d1aa974f38863755da15678fe9": {
          "model_module": "@jupyter-widgets/base",
          "model_name": "LayoutModel",
          "model_module_version": "1.2.0",
          "state": {
            "_model_module": "@jupyter-widgets/base",
            "_model_module_version": "1.2.0",
            "_model_name": "LayoutModel",
            "_view_count": null,
            "_view_module": "@jupyter-widgets/base",
            "_view_module_version": "1.2.0",
            "_view_name": "LayoutView",
            "align_content": null,
            "align_items": null,
            "align_self": null,
            "border": null,
            "bottom": null,
            "display": null,
            "flex": null,
            "flex_flow": null,
            "grid_area": null,
            "grid_auto_columns": null,
            "grid_auto_flow": null,
            "grid_auto_rows": null,
            "grid_column": null,
            "grid_gap": null,
            "grid_row": null,
            "grid_template_areas": null,
            "grid_template_columns": null,
            "grid_template_rows": null,
            "height": null,
            "justify_content": null,
            "justify_items": null,
            "left": null,
            "margin": null,
            "max_height": null,
            "max_width": null,
            "min_height": null,
            "min_width": null,
            "object_fit": null,
            "object_position": null,
            "order": null,
            "overflow": null,
            "overflow_x": null,
            "overflow_y": null,
            "padding": null,
            "right": null,
            "top": null,
            "visibility": null,
            "width": null
          }
        },
        "0930aec74c8f4399a9fb8b240388c807": {
          "model_module": "@jupyter-widgets/base",
          "model_name": "LayoutModel",
          "model_module_version": "1.2.0",
          "state": {
            "_model_module": "@jupyter-widgets/base",
            "_model_module_version": "1.2.0",
            "_model_name": "LayoutModel",
            "_view_count": null,
            "_view_module": "@jupyter-widgets/base",
            "_view_module_version": "1.2.0",
            "_view_name": "LayoutView",
            "align_content": null,
            "align_items": null,
            "align_self": null,
            "border": null,
            "bottom": null,
            "display": null,
            "flex": null,
            "flex_flow": null,
            "grid_area": null,
            "grid_auto_columns": null,
            "grid_auto_flow": null,
            "grid_auto_rows": null,
            "grid_column": null,
            "grid_gap": null,
            "grid_row": null,
            "grid_template_areas": null,
            "grid_template_columns": null,
            "grid_template_rows": null,
            "height": null,
            "justify_content": null,
            "justify_items": null,
            "left": null,
            "margin": null,
            "max_height": null,
            "max_width": null,
            "min_height": null,
            "min_width": null,
            "object_fit": null,
            "object_position": null,
            "order": null,
            "overflow": null,
            "overflow_x": null,
            "overflow_y": null,
            "padding": null,
            "right": null,
            "top": null,
            "visibility": null,
            "width": null
          }
        }
      }
    }
  },
  "nbformat": 4,
  "nbformat_minor": 0
}