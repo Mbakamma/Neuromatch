{
  "cells": [
    {
      "cell_type": "markdown",
      "metadata": {
        "id": "view-in-github",
        "colab_type": "text"
      },
      "source": [
        "<a href=\"https://colab.research.google.com/github/NeuromatchAcademy/course-content-dl/blob/w3d4_fixes/tutorials/W3D4_BasicReinforcementLearning/W3D4_Tutorial2.ipynb\" target=\"_parent\"><img src=\"https://colab.research.google.com/assets/colab-badge.svg\" alt=\"Open In Colab\"/></a>"
      ]
    },
    {
      "cell_type": "markdown",
      "metadata": {
        "execution": {},
        "id": "qVl0fXTkAPWh"
      },
      "source": [
        "# Tutorial 2: Learning to Act: Multi-Armed Bandits\n",
        "\n",
        "**Week 3, Day 4: Basic Reinforcement Learning (RL)**\n",
        "\n",
        "**By Neuromatch Academy**\n",
        "\n",
        "__Content creators:__ Marcelo G Mattar, Eric DeWitt, Matt Krause, Matthew Sargent, Anoop Kulkarni, Sowmya Parthiban, Feryal Behbahani, Jane Wang\n",
        "\n",
        "__Content reviewers:__ Ella Batty, Byron Galbraith, Michael Waskom, Ezekiel Williams, Mehul Rastogi, Lily Cheng, Roberto Guidotti, Arush Tagade, Kelson Shilling-Scrivo\n",
        "\n",
        "__Production editors:__ Gagana B, Spiros Chavlis\n"
      ]
    },
    {
      "cell_type": "markdown",
      "metadata": {
        "execution": {},
        "id": "9bgu8CVnAPWk"
      },
      "source": [
        "<p align='center'><img src='https://github.com/NeuromatchAcademy/widgets/blob/master/sponsors.png?raw=True'/></p>"
      ]
    },
    {
      "cell_type": "markdown",
      "metadata": {
        "execution": {},
        "id": "olq4MwG-APWk"
      },
      "source": [
        "---\n",
        "\n",
        "# Tutorial Objectives\n",
        "  \n",
        "*Estimated timing of tutorial: 45 min*\n",
        "\n",
        "In this tutorial we will model the simplest types of acting agents. An acting agent can affect how much reward it receives, so it must learn how to identify the actions that lead to the most reward. You will use 'bandits' to understand the fundamentals of how a policy interacts with the learning algorithm in reinforcement learning.\n",
        "    \n",
        "* You will understand the fundamental tradeoff between exploration and exploitation in a policy.\n",
        "* You will understand how the learning rate interacts with exploration to find the best available action."
      ]
    },
    {
      "cell_type": "code",
      "execution_count": null,
      "metadata": {
        "cellView": "form",
        "execution": {},
        "id": "r-4r7WyAAPWl"
      },
      "outputs": [],
      "source": [
        "# @title Tutorial slides\n",
        "\n",
        "# @markdown These are the slides for all videos in this tutorial.\n",
        "from IPython.display import IFrame\n",
        "IFrame(src=f\"https://mfr.ca-1.osf.io/render?url=https://osf.io/n9v4c/?direct%26mode=render%26action=download%26mode=render\", width=854, height=480)"
      ]
    },
    {
      "cell_type": "markdown",
      "source": [
        "These are the slides for all videos in this tutorial. If you want to locally download the slides, click [here](https://osf.io/download/n9v4c/)."
      ],
      "metadata": {
        "id": "zeQG-UPCAR75"
      }
    },
    {
      "cell_type": "markdown",
      "metadata": {
        "execution": {},
        "id": "b8FZ4Q8_APWm"
      },
      "source": [
        "---\n",
        "# Setup"
      ]
    },
    {
      "cell_type": "code",
      "execution_count": 1,
      "metadata": {
        "cellView": "form",
        "execution": {},
        "id": "QS2m6a5qAPWm",
        "outputId": "00c53bd0-48f8-4f0b-d73e-038ce393b321",
        "colab": {
          "base_uri": "https://localhost:8080/"
        }
      },
      "outputs": [
        {
          "output_type": "stream",
          "name": "stdout",
          "text": [
            "  Building wheel for evaltools (setup.py) ... \u001b[?25l\u001b[?25hdone\n"
          ]
        }
      ],
      "source": [
        "# @title Install dependencies\n",
        "!pip install git+https://github.com/NeuromatchAcademy/evaltools --quiet\n",
        "\n",
        "from evaltools.airtable import AirtableForm\n",
        "atform = AirtableForm('appn7VdPRseSoMXEG', 'W3D4_T2','https://portal.neuromatchacademy.org/api/redirect/to/9c55f6cb-cdf9-4429-ac1c-ec44fe64c303')"
      ]
    },
    {
      "cell_type": "code",
      "execution_count": null,
      "metadata": {
        "cellView": "both",
        "execution": {},
        "id": "oSSFf1HBAPWm"
      },
      "outputs": [],
      "source": [
        "# Imports\n",
        "import numpy as np\n",
        "import matplotlib.pyplot as plt"
      ]
    },
    {
      "cell_type": "code",
      "execution_count": null,
      "metadata": {
        "cellView": "form",
        "execution": {},
        "id": "27b2QFCZAPWn"
      },
      "outputs": [],
      "source": [
        "#@title Figure Settings\n",
        "import ipywidgets as widgets  # interactive display\n",
        "%config InlineBackend.figure_format = 'retina'\n",
        "plt.style.use(\"https://raw.githubusercontent.com/NeuromatchAcademy/content-creation/main/nma.mplstyle\")"
      ]
    },
    {
      "cell_type": "code",
      "execution_count": null,
      "metadata": {
        "cellView": "form",
        "execution": {},
        "id": "SH28G3r7APWn"
      },
      "outputs": [],
      "source": [
        "#@title Plotting Functions\n",
        "np.set_printoptions(precision=3)\n",
        "\n",
        "def plot_choices(q, epsilon, choice_fn, n_steps=1000, rng_seed=1):\n",
        "  np.random.seed(rng_seed)\n",
        "  counts = np.zeros_like(q)\n",
        "  for t in range(n_steps):\n",
        "    action = choice_fn(q, epsilon)\n",
        "    counts[action] += 1\n",
        "\n",
        "  fig, ax = plt.subplots()\n",
        "  ax.bar(range(len(q)), counts/n_steps)\n",
        "  ax.set(ylabel='% chosen', xlabel='action', ylim=(0,1), xticks=range(len(q)))\n",
        "\n",
        "\n",
        "def plot_multi_armed_bandit_results(results):\n",
        "  fig, (ax1, ax2, ax3) = plt.subplots(ncols=3, figsize=(20, 4))\n",
        "  ax1.plot(results['rewards'])\n",
        "  ax1.set(title=f\"Total Reward: {np.sum(results['rewards']):.2f}\",\n",
        "          xlabel='step', ylabel='reward')\n",
        "  ax2.plot(results['qs'])\n",
        "  ax2.set(xlabel='step', ylabel='value')\n",
        "  ax2.legend(range(len(results['mu'])))\n",
        "  ax3.plot(results['mu'], label='latent')\n",
        "  ax3.plot(results['qs'][-1], label='learned')\n",
        "  ax3.set(xlabel='action', ylabel='value')\n",
        "  ax3.legend()\n",
        "\n",
        "\n",
        "def plot_parameter_performance(labels, fixed, trial_rewards, trial_optimal):\n",
        "  fig, (ax1, ax2) = plt.subplots(ncols=2, figsize=(16, 6))\n",
        "\n",
        "  ax1.plot(np.mean(trial_rewards, axis=1).T)\n",
        "  ax1.set(title=f'Average Reward ({fixed})', xlabel='step', ylabel='reward')\n",
        "  ax1.legend(labels)\n",
        "\n",
        "  ax2.plot(np.mean(trial_optimal, axis=1).T)\n",
        "  ax2.set(title=f'Performance ({fixed})', xlabel='step', ylabel='% optimal')\n",
        "  ax2.legend(labels)"
      ]
    },
    {
      "cell_type": "markdown",
      "metadata": {
        "execution": {},
        "id": "ToymS4ObAPWo"
      },
      "source": [
        "---\n",
        "# Section 1: Multi-Armed Bandits"
      ]
    },
    {
      "cell_type": "code",
      "execution_count": 2,
      "metadata": {
        "cellView": "form",
        "execution": {},
        "id": "jhycXIgZAPWo",
        "outputId": "14983686-6950-4fdb-d4e1-ea61050805a1",
        "colab": {
          "base_uri": "https://localhost:8080/",
          "height": 582,
          "referenced_widgets": [
            "88f76e750dd24f8985a8157aef8fa1bd",
            "1d9adfee4c654ae0afda83da69e97df9",
            "157280baf991486e8e6bbab9a0ad95e9",
            "d63dd49d036f418e8e6779b6ff761bce",
            "39d9fddb96e3481b9fc8db707ac7cb92",
            "0483dfa190bc48a1ae055c19b90c8c68"
          ]
        }
      },
      "outputs": [
        {
          "output_type": "display_data",
          "data": {
            "text/plain": [
              "Tab(children=(Output(), Output()), _titles={'0': 'Youtube', '1': 'Bilibili'})"
            ],
            "application/vnd.jupyter.widget-view+json": {
              "version_major": 2,
              "version_minor": 0,
              "model_id": "88f76e750dd24f8985a8157aef8fa1bd"
            }
          },
          "metadata": {}
        }
      ],
      "source": [
        "# @title Video 1: Multi-Armed Bandits\n",
        "from ipywidgets import widgets\n",
        "\n",
        "out2 = widgets.Output()\n",
        "with out2:\n",
        "  from IPython.display import IFrame\n",
        "  class BiliVideo(IFrame):\n",
        "      def __init__(self, id, page=1, width=400, height=300, **kwargs):\n",
        "          self.id=id\n",
        "          src = 'https://player.bilibili.com/player.html?bvid={0}&page={1}'.format(id, page)\n",
        "          super(BiliVideo, self).__init__(src, width, height, **kwargs)\n",
        "\n",
        "  video = BiliVideo(id=\"BV1M54y1B7S3\", width=854, height=480, fs=1)\n",
        "  print('Video available at https://www.bilibili.com/video/{0}'.format(video.id))\n",
        "  display(video)\n",
        "\n",
        "out1 = widgets.Output()\n",
        "with out1:\n",
        "  from IPython.display import YouTubeVideo\n",
        "  video = YouTubeVideo(id=\"kdiXr1zsfo0\", width=854, height=480, fs=1, rel=0)\n",
        "  print('Video available at https://youtube.com/watch?v=' + video.id)\n",
        "  display(video)\n",
        "\n",
        "out = widgets.Tab([out1, out2])\n",
        "out.set_title(0, 'Youtube')\n",
        "out.set_title(1, 'Bilibili')\n",
        "\n",
        "# add event to airtable\n",
        "atform.add_event('Video 1: Multi-Armed Bandits')\n",
        "\n",
        "display(out)"
      ]
    },
    {
      "cell_type": "markdown",
      "metadata": {
        "execution": {},
        "id": "z_E8mkE1APWp"
      },
      "source": [
        "Consider the following learning problem. You are faced repeatedly with a choice among $k$ different options, or actions. After each choice you receive a reward signal in the form of a numerical value, where the larger value is the better. Your objective is to maximize the expected total reward over some time period, for example, over 1000 action selections, or time steps.\n",
        "\n",
        "This is the original form of the k-armed bandit problem. This name derives from the colloquial name for a slot machine, the \"one-armed bandit\", because it has the one lever to pull, and it is often rigged to take more money than it pays out over time. The multi-armed bandit extension is to imagine, for instance, that you are faced with multiple slot machines that you can play, but only one at a time. Which machine should you play, i.e., which arm should you pull, which action should you take, at any given time to maximize your total payout.\n",
        "\n",
        "<img alt=\"MultiArmedBandit\" width=\"625\" height=\"269\" src=\"https://github.com/NeuromatchAcademy/course-content/blob/main/tutorials/static/W3D4_Tutorial2_MultiarmedBandit.png?raw=true\">\n",
        "\n",
        "\n",
        "While there are many different levels of sophistication and assumptions in how the rewards are determined, we will consider here the simple scenario where each action results in a reward drawn from a different Gaussian distribution with unknown mean and unit variance. Since each action is associated with a different mean reward, the goal of the agent is to find the action with highest mean. But since the rewards are noisy (the corresponding Gaussians have unit variance), those means cannot be determined from a single observed reward. \n",
        "\n",
        "This problem setting is referred to as the *environment*. We will solve this *optimization problem* with an *agent*, in this case an algorithm that takes in rewards and returns actions."
      ]
    },
    {
      "cell_type": "markdown",
      "metadata": {
        "execution": {},
        "id": "kO0z-mBvAPWp"
      },
      "source": [
        "---\n",
        "# Section 2: Choosing an Action\n",
        "   \n",
        "*Estimated timing to here from start of tutorial: 10 min*\n",
        "\n",
        "The first thing our agent needs to be able to do is choose which arm to pull. The strategy for choosing actions based on our expectations is called a *policy* (often denoted $\\pi$). We could have a random policy -- just pick an arm at random each time -- though this doesn't seem likely to be capable of optimizing our reward. We want some intentionality, and to do that we need a way of describing our beliefs about the arms' reward potential. We do this with an action-value function\n",
        "\n",
        "\\begin{equation}\n",
        "q(a) = \\mathbb{E} [r_{t} | a_{t} = a]\n",
        "\\end{equation}\n",
        "\n",
        "where the value $q$ for taking action $a \\in A$ at time $t$ is equal to the expected value of the reward $r_t$ given that we took action $a$ at that time. In practice, this is often represented as an array of values, where each action's value is a different element in the array.\n",
        "\n",
        "Great, now that we have a way to describe our beliefs about the values each action should return, let's come up with a policy.\n",
        "\n",
        "An obvious choice would be to take the action with the highest expected value. This is referred to as the *greedy* policy\n",
        "\n",
        "\\begin{equation}\n",
        "a_{t} = \\text{argmax}_{a} \\; q_{t} (a)\n",
        "\\end{equation}\n",
        "\n",
        "where our choice action is the one that maximizes the current value function.\n",
        "\n",
        "So far so good, but it can't be this easy. And, in fact, the greedy policy does have a fatal flaw: it easily gets trapped in local maxima. It never explores to see what it hasn't seen before if one option is already better than the others. This leads us to a fundamental challenge in coming up with effective policies."
      ]
    },
    {
      "cell_type": "markdown",
      "metadata": {
        "execution": {},
        "id": "roajQJLJAPWq"
      },
      "source": [
        "**The Exploitation-Exploration Dilemma**\n",
        "\n",
        "If we never try anything new, if we always stick to the safe bet, we don't know what we are missing. Sometimes we aren't missing much of anything, and regret not sticking with our preferred choice, yet other times we stumble upon something new that was way better than we thought.\n",
        "\n",
        "This is the exploitation-exploration dilemma: do you go with your best choice now, or risk the less certain option with the hope of finding something better. Too much exploration, however, means you may end up with a sub-optimal reward once it's time to stop.\n",
        "\n",
        "In order to avoid getting stuck in local minima while also maximizing reward, effective policies need some way to balance between these two aims.\n",
        "\n",
        "A simple extension to our greedy policy is to add some randomness. For instance, a coin flip -- heads we take the best choice now, tails we pick one at random. This is referred to as the $\\epsilon$-greedy policy:\n",
        "\n",
        "\\begin{equation}\n",
        "P (a_{t} = a) = \n",
        "        \\begin{cases}\n",
        "        1 - \\epsilon + \\epsilon/N    & \\quad \\text{if } a_{t} = \\text{argmax}_{a} \\; q_{t} (a) \\\\\n",
        "        \\epsilon/N        & \\quad \\text{else} \n",
        "        \\end{cases} \n",
        "\\end{equation}\n",
        "\n",
        "which is to say that with probability 1 - $\\epsilon$ for $\\epsilon \\in [0,1]$ we select the greedy choice, and otherwise we select an action at random (including the greedy option).\n",
        "\n",
        "Despite its relative simplicity, the epsilon-greedy policy is quite effective, which leads to its general popularity."
      ]
    },
    {
      "cell_type": "markdown",
      "metadata": {
        "execution": {},
        "id": "RFkQn_0cAPWq"
      },
      "source": [
        "### Coding Exercise 2: Implement Epsilon-Greedy\n",
        "\n",
        "*Referred to in video as Exercise 1*\n",
        "\n",
        "In this exercise you will implement the epsilon-greedy algorithm for deciding which action to take from a set of possible actions given their value function and a probability $\\epsilon$ of simply choosing one at random. \n",
        "\n",
        "TIP: You may find [`np.random.random`](https://numpy.org/doc/stable/reference/random/generated/numpy.random.random.html), [`np.random.choice`](https://numpy.org/doc/stable/reference/random/generated/numpy.random.choice.html), and [`np.argmax`](https://numpy.org/doc/stable/reference/generated/numpy.argmax.html) useful here."
      ]
    },
    {
      "cell_type": "code",
      "execution_count": null,
      "metadata": {
        "execution": {},
        "id": "sO0UzfClAPWq"
      },
      "outputs": [],
      "source": [
        "def epsilon_greedy(q, epsilon):\n",
        "  \"\"\"Epsilon-greedy policy: selects the maximum value action with probability\n",
        "  (1-epsilon) and selects randomly with epsilon probability.\n",
        "\n",
        "  Args:\n",
        "    q (ndarray): an array of action values\n",
        "    epsilon (float): probability of selecting an action randomly\n",
        "\n",
        "  Returns:\n",
        "    int: the chosen action\n",
        "  \"\"\"\n",
        "  #####################################################################\n",
        "  ## TODO for students: implement the epsilon greedy decision algorithm\n",
        "  # Fill out function and remove\n",
        "  raise NotImplementedError(\"Student exercise: implement the epsilon greedy decision algorithm\")\n",
        "  #####################################################################\n",
        "  # write a boolean expression that determines if we should take the best action\n",
        "  be_greedy = ...\n",
        "\n",
        "  if be_greedy:\n",
        "\n",
        "    # write an expression for selecting the best action from the action values\n",
        "    action = ...\n",
        "\n",
        "  else:\n",
        "\n",
        "    # write an expression for selecting a random action\n",
        "    action = ...\n",
        "\n",
        "  return action\n",
        "\n",
        "\n",
        "# Set parameters\n",
        "q = [-2, 5, 0, 1]\n",
        "epsilon = 0.1\n",
        "\n",
        "# Visualize\n",
        "# plot_choices(q, epsilon, epsilon_greedy)"
      ]
    },
    {
      "cell_type": "code",
      "execution_count": null,
      "metadata": {
        "execution": {},
        "id": "SPZWsxFIAPWq"
      },
      "outputs": [],
      "source": [
        "# to_remove solution\n",
        "def epsilon_greedy(q, epsilon):\n",
        "  \"\"\"Epsilon-greedy policy: selects the maximum value action with probability\n",
        "  (1-epsilon) and selects randomly with epsilon probability.\n",
        "\n",
        "  Args:\n",
        "    q (ndarray): an array of action values\n",
        "    epsilon (float): probability of selecting an action randomly\n",
        "\n",
        "  Returns:\n",
        "    int: the chosen action\n",
        "  \"\"\"\n",
        "  # write a boolean expression that determines if we should take the best action\n",
        "  be_greedy = np.random.random() > epsilon\n",
        "\n",
        "  if be_greedy:\n",
        "\n",
        "    # write an expression for selecting the best action from the action values\n",
        "    action = np.argmax(q)\n",
        "\n",
        "  else:\n",
        "\n",
        "    # write an expression for selecting a random action\n",
        "    action = np.random.choice(len(q))\n",
        "\n",
        "  return action\n",
        "\n",
        "\n",
        "# Set parameters\n",
        "q = [-2, 5, 0, 1]\n",
        "epsilon = 0.1\n",
        "\n",
        "# Visualize\n",
        "with plt.xkcd():\n",
        "  plot_choices(q, epsilon, epsilon_greedy)"
      ]
    },
    {
      "cell_type": "markdown",
      "metadata": {
        "execution": {},
        "id": "H0x7t44RAPWr"
      },
      "source": [
        "This is what we should expect, that the action with the largest value (action 1) is selected about (1-$\\epsilon$) of the time, or 90% for $\\epsilon = 0.1$, and the remaining 10% is split evenly amongst the other options. Use the demo below to explore how changing $\\epsilon$ affects the distribution of selected actions."
      ]
    },
    {
      "cell_type": "markdown",
      "metadata": {
        "execution": {},
        "id": "YUgqk7hNAPWr"
      },
      "source": [
        "### Interactive Demo 2: Changing Epsilon\n",
        "\n",
        "Epsilon is our one parameter for balancing exploitation and exploration.  Given a set of values $q = [-2, 5, 0, 1]$, use the widget below to see how changing $\\epsilon$ influences our selection of the max value 5 (action = 1) vs the others."
      ]
    },
    {
      "cell_type": "markdown",
      "metadata": {
        "execution": {},
        "id": "EImwSlfIAPWr"
      },
      "source": [
        "#### Think! 2: Changing Epsilon\n",
        "\n",
        "At the extremes of its range (0 and 1), the $\\epsilon$-greedy policy reproduces two other policies. What are they?"
      ]
    },
    {
      "cell_type": "code",
      "execution_count": null,
      "metadata": {
        "cellView": "form",
        "execution": {},
        "id": "BQy77fmUAPWs"
      },
      "outputs": [],
      "source": [
        "#@title\n",
        "\n",
        "#@markdown Make sure you execute this cell to enable the widget!\n",
        "\n",
        "@widgets.interact(epsilon=widgets.FloatSlider(0.1, min=0.0, max=1.0))\n",
        "def explore_epilson_values(epsilon=0.1):\n",
        "  q = [-2, 5, 0, 1]\n",
        "  plot_choices(q, epsilon, epsilon_greedy, rng_seed=None)"
      ]
    },
    {
      "cell_type": "code",
      "execution_count": null,
      "metadata": {
        "cellView": "form",
        "execution": {},
        "id": "Yvj-rsJKAPWs"
      },
      "outputs": [],
      "source": [
        "# @title Student Response\n",
        "from ipywidgets import widgets\n",
        "\n",
        "\n",
        "text=widgets.Textarea(\n",
        "   value='Type your answer here and click on `Submit!`',\n",
        "   placeholder='Type something',\n",
        "   description='',\n",
        "   disabled=False\n",
        ")\n",
        "\n",
        "button = widgets.Button(description=\"Submit!\")\n",
        "\n",
        "display(text,button)\n",
        "\n",
        "def on_button_clicked(b):\n",
        "   atform.add_answer('q1' , text.value)\n",
        "   print(\"Submission successful!\")\n",
        "\n",
        "\n",
        "button.on_click(on_button_clicked)"
      ]
    },
    {
      "cell_type": "code",
      "execution_count": null,
      "metadata": {
        "execution": {},
        "id": "IzA4MKObAPWs"
      },
      "outputs": [],
      "source": [
        "# to_remove explanation\n",
        "\n",
        "\"\"\"\n",
        "When epsilon is zero, the agent always chooses the currently best option; it\n",
        "becomes greedy. When epsilon is 1, the agent chooses randomly.\n",
        "\"\"\";"
      ]
    },
    {
      "cell_type": "markdown",
      "metadata": {
        "execution": {},
        "id": "AaZKCJ31APWs"
      },
      "source": [
        "---\n",
        "# Section 3: Learning from Rewards\n",
        "\n",
        "*Estimated timing to here from start of tutorial: 25 min*\n",
        "\n",
        "Now that we have a policy for deciding what to do, how do we learn from our actions?\n",
        "\n",
        "One way to do this is just keep a record of every result we ever got and use the averages for each action. If we have a potentially very long running episode, the computational cost of keeping all these values and recomputing the mean over and over again isn't ideal. Instead we can use a streaming mean calculation, which looks like this:\n",
        "\n",
        "\\begin{equation}\n",
        "q_{t+1}(a) \\leftarrow q_{t}(a) + \\frac{1}{n_t} (r_{t} - q_{t}(a))\n",
        "\\end{equation}\n",
        "\n",
        "where our action-value function $q_t(a)$ is the mean of the rewards seen so far, $n_t$ is the number of actions taken by time $t$, and $r_t$ is the reward just received for taking action $a$.\n",
        "\n",
        "This still requires us to remember how many actions we've taken, so let's generalize this a bit further and replace the action total with a general parameter $\\alpha$, which we will call the learning rate\n",
        "\n",
        "\\begin{equation}\n",
        "q_{t+1}(a) \\leftarrow q_{t}(a) + \\alpha (r_{t} - q_{t}(a)).\n",
        "\\end{equation}"
      ]
    },
    {
      "cell_type": "markdown",
      "metadata": {
        "execution": {},
        "id": "fIT6Q8qhAPWs"
      },
      "source": [
        "## Coding Exercise 3: Updating Action Values\n",
        "\n",
        "*Referred to in video as Exercise 2*\n",
        "\n",
        "In this exercise you will implement the action-value update rule above. The function will take in the action-value function represented as an array `q`, the action taken, the reward received, and the learning rate, `alpha`. The function will return the updated value for the selection action."
      ]
    },
    {
      "cell_type": "code",
      "execution_count": null,
      "metadata": {
        "execution": {},
        "id": "8mJYxYt6APWt"
      },
      "outputs": [],
      "source": [
        "def update_action_value(q, action, reward, alpha):\n",
        "  \"\"\" Compute the updated action value given the learning rate and observed\n",
        "  reward.\n",
        "\n",
        "  Args:\n",
        "    q (ndarray): an array of action values\n",
        "    action (int): the action taken\n",
        "    reward (float): the reward received for taking the action\n",
        "    alpha (float): the learning rate\n",
        "\n",
        "  Returns:\n",
        "    float: the updated value for the selected action\n",
        "  \"\"\"\n",
        "  #####################################################\n",
        "  ## TODO for students: compute the action value update\n",
        "  # Fill out function and remove\n",
        "  raise NotImplementedError(\"Student exercise: compute the action value update\")\n",
        "  #####################################################\n",
        "\n",
        "  # Write an expression for the updated action value\n",
        "  value = ...\n",
        "\n",
        "  return value\n",
        "\n",
        "\n",
        "# Set parameters\n",
        "q = [-2, 5, 0, 1]\n",
        "action = 2\n",
        "print(f\"Original q({action}) value = {q[action]}\")\n",
        "\n",
        "## Update action - uncomment to check your solution!\n",
        "# q[action] = update_action_value(q, 2, 10, 0.01)\n",
        "# print(f\"Updated q({action}) value = {q[action]}\")"
      ]
    },
    {
      "cell_type": "code",
      "execution_count": null,
      "metadata": {
        "execution": {},
        "id": "n8h9nUGvAPWt"
      },
      "outputs": [],
      "source": [
        "# to_remove solution\n",
        "def update_action_value(q, action, reward, alpha):\n",
        "  \"\"\" Compute the updated action value given the learning rate and observed\n",
        "  reward.\n",
        "\n",
        "  Args:\n",
        "    q (ndarray): an array of action values\n",
        "    action (int): the action taken\n",
        "    reward (float): the reward received for taking the action\n",
        "    alpha (float): the learning rate\n",
        "\n",
        "  Returns:\n",
        "    float: the updated value for the selected action\n",
        "  \"\"\"\n",
        "\n",
        "  # Write an expression for the updated action value\n",
        "  value = q[action] + alpha * (reward - q[action])\n",
        "\n",
        "  return value\n",
        "\n",
        "\n",
        "# Set parameters\n",
        "q = [-2, 5, 0, 1]\n",
        "action = 2\n",
        "print(f\"Original q({action}) value = {q[action]}\")\n",
        "\n",
        "## Update action - uncomment to check your solution!\n",
        "q[action] = update_action_value(q, 2, 10, 0.01)\n",
        "print(f\"Updated q({action}) value = {q[action]}\")"
      ]
    },
    {
      "cell_type": "markdown",
      "metadata": {
        "execution": {},
        "id": "64B8ko8tAPWt"
      },
      "source": [
        "You should see\n",
        "\n",
        "\n",
        "\n",
        "```\n",
        "Original q(2) value = 0\n",
        "Updated q(2) value = 0.1\n",
        "```\n",
        "\n"
      ]
    },
    {
      "cell_type": "markdown",
      "metadata": {
        "execution": {},
        "id": "X0Uu4YjBAPWt"
      },
      "source": [
        "---\n",
        "# Section 4: Solving Multi-Armed Bandits\n",
        "\n",
        "*Estimated timing to here from start of tutorial: 31 min*\n",
        "\n",
        "Now that we have both a policy and a learning rule, we can combine these to solve our original multi-armed bandit task. Recall that we have some number of arms that give rewards drawn from Gaussian distributions with unknown mean and unit variance, and our goal is to find the arm with the highest mean.\n",
        "\n",
        "First, let's see how we will simulate this environment by reading through the annotated code below."
      ]
    },
    {
      "cell_type": "code",
      "execution_count": null,
      "metadata": {
        "execution": {},
        "id": "wHeJfNLBAPWt"
      },
      "outputs": [],
      "source": [
        "def multi_armed_bandit(n_arms, epsilon, alpha, n_steps):\n",
        "  \"\"\" A Gaussian multi-armed bandit using an epsilon-greedy policy. For each\n",
        "  action, rewards are randomly sampled from normal distribution, with a mean\n",
        "  associated with that arm and unit variance.\n",
        "\n",
        "  Args:\n",
        "    n_arms (int): number of arms or actions\n",
        "    epsilon (float): probability of selecting an action randomly\n",
        "    alpha (float): the learning rate\n",
        "    n_steps (int): number of steps to evaluate\n",
        "\n",
        "  Returns:\n",
        "    dict: a dictionary containing the action values, actions, and rewards from\n",
        "    the evaluation along with the true arm parameters mu and the optimality of\n",
        "    the chosen actions.\n",
        "  \"\"\"\n",
        "  # Gaussian bandit parameters\n",
        "  mu = np.random.normal(size=n_arms)\n",
        "\n",
        "  # Evaluation and reporting state\n",
        "  q = np.zeros(n_arms)\n",
        "  qs = np.zeros((n_steps, n_arms))\n",
        "  rewards = np.zeros(n_steps)\n",
        "  actions = np.zeros(n_steps)\n",
        "  optimal = np.zeros(n_steps)\n",
        "\n",
        "  # Run the bandit\n",
        "  for t in range(n_steps):\n",
        "\n",
        "    # Choose an action\n",
        "    action = epsilon_greedy(q, epsilon)\n",
        "    actions[t] = action\n",
        "\n",
        "    # Compute rewards for all actions\n",
        "    all_rewards = np.random.normal(mu)\n",
        "\n",
        "    # Observe the reward for the chosen action\n",
        "    reward = all_rewards[action]\n",
        "    rewards[t] = reward\n",
        "\n",
        "    # Was it the best possible choice?\n",
        "    optimal_action = np.argmax(all_rewards)\n",
        "    optimal[t] = action == optimal_action\n",
        "\n",
        "    # Update the action value\n",
        "    q[action] = update_action_value(q, action, reward, alpha)\n",
        "    qs[t] = q\n",
        "\n",
        "  results = {\n",
        "      'qs': qs,\n",
        "      'actions': actions,\n",
        "      'rewards': rewards,\n",
        "      'mu': mu,\n",
        "      'optimal': optimal\n",
        "  }\n",
        "\n",
        "  return results"
      ]
    },
    {
      "cell_type": "markdown",
      "metadata": {
        "execution": {},
        "id": "o3O7spPoAPWu"
      },
      "source": [
        "We can use our multi-armed bandit method to evaluate how our epsilon-greedy policy and learning rule perform at solving the task. First we will set our environment to have 10 arms and our agent parameters to $\\epsilon=0.1$ and $\\alpha=0.01$. In order to get a good sense of the agent's performance, we will run the episode for 1000 steps."
      ]
    },
    {
      "cell_type": "code",
      "execution_count": null,
      "metadata": {
        "cellView": "form",
        "execution": {},
        "id": "-567-QFhAPWu"
      },
      "outputs": [],
      "source": [
        "# @markdown Execute to see visualization\n",
        "\n",
        "# set for reproducibility, comment out / change seed value for different results\n",
        "np.random.seed(1)\n",
        "\n",
        "n_arms = 10\n",
        "epsilon = 0.1\n",
        "alpha = 0.01\n",
        "n_steps = 1000\n",
        "\n",
        "results = multi_armed_bandit(n_arms, epsilon, alpha, n_steps)\n",
        "\n",
        "fig, (ax1, ax2) = plt.subplots(ncols=2, figsize=(16, 6))\n",
        "ax1.plot(results['rewards'])\n",
        "ax1.set(title=f'Observed Reward ($\\epsilon$={epsilon}, $\\\\alpha$={alpha})',\n",
        "        xlabel='step', ylabel='reward')\n",
        "ax2.plot(results['qs'])\n",
        "ax2.set(title=f'Action Values ($\\epsilon$={epsilon}, $\\\\alpha$={alpha})',\n",
        "        xlabel='step', ylabel='value')\n",
        "ax2.legend(range(n_arms));"
      ]
    },
    {
      "cell_type": "markdown",
      "metadata": {
        "execution": {},
        "id": "E3OPGXP_APWu"
      },
      "source": [
        "Alright, we got some rewards that are kind of all over the place, but the agent seemed to settle in on the first arm as the preferred choice of action relatively quickly. Let's see how well we did at recovering the true means of the Gaussian random variables behind the arms."
      ]
    },
    {
      "cell_type": "code",
      "execution_count": null,
      "metadata": {
        "cellView": "form",
        "execution": {},
        "id": "ValnC9oIAPWu"
      },
      "outputs": [],
      "source": [
        "# @markdown Execute to see visualization\n",
        "\n",
        "fig, ax = plt.subplots()\n",
        "ax.plot(results['mu'], label='latent')\n",
        "ax.plot(results['qs'][-1], label='learned')\n",
        "ax.set(title=f'$\\epsilon$={epsilon}, $\\\\alpha$={alpha}',\n",
        "       xlabel='action', ylabel='value')\n",
        "ax.legend();"
      ]
    },
    {
      "cell_type": "markdown",
      "metadata": {
        "execution": {},
        "id": "XJpU2dlJAPWu"
      },
      "source": [
        "Well, we seem to have found a very good estimate for action 0, but most of the others are not great. In fact, we can see the effect of the local maxima trap at work -- the greedy part of our algorithm locked onto action 0, which is actually the 2nd best choice to action 6. Since these are the means of Gaussian random variables, we can see that the overlap between the two would be quite high, so even if we did explore action 6, we may draw a sample that is still lower than our estimate for action 0.\n",
        "\n",
        "However, this was just one choice of parameters. Perhaps there is a better combination?\n",
        "\n"
      ]
    },
    {
      "cell_type": "markdown",
      "metadata": {
        "execution": {},
        "id": "fVFYnZCkAPWu"
      },
      "source": [
        "## Interactive Demo 4: Changing Epsilon and Alpha\n",
        "\n",
        "*Referred to in video as Exercise 3*\n",
        "\n",
        "Use the widget below to explore how varying the values of $\\epsilon$ (exploitation-exploration tradeoff), $\\alpha$ (learning rate), and even the number of actions $k$, changes the behavior of our agent."
      ]
    },
    {
      "cell_type": "code",
      "execution_count": null,
      "metadata": {
        "cellView": "form",
        "execution": {},
        "id": "etc-I81bAPWu"
      },
      "outputs": [],
      "source": [
        "#@title\n",
        "\n",
        "#@markdown Make sure you execute this cell to enable the widget!\n",
        "\n",
        "@widgets.interact_manual(k=widgets.IntSlider(10, min=2, max=15),\n",
        "                         epsilon=widgets.FloatSlider(0.1, min=0.0, max=1.0),\n",
        "                         alpha=widgets.FloatLogSlider(0.01, min=-3, max=0))\n",
        "def explore_bandit_parameters(k=10, epsilon=0.1, alpha=0.001):\n",
        "  results = multi_armed_bandit(k, epsilon, alpha, 1000)\n",
        "  plot_multi_armed_bandit_results(results)"
      ]
    },
    {
      "cell_type": "markdown",
      "metadata": {
        "execution": {},
        "id": "s8u3AAVyAPWv"
      },
      "source": [
        "While we can see how changing the epsilon and alpha values impact the agent's behavior, this doesn't give us a great sense of which combination is optimal. Due to the stochastic nature of both our rewards and our policy, a single trial run isn't sufficient to give us this information. Let's run multiple trials and compare the average performance.\n",
        "\n",
        "First we will look at different values for $\\epsilon \\in [0.0, 0.1, 0.2]$ to a fixed $\\alpha=0.1$. We will run 200 trials as a nice balance between speed and accuracy."
      ]
    },
    {
      "cell_type": "code",
      "execution_count": null,
      "metadata": {
        "cellView": "form",
        "execution": {},
        "id": "6oSWYF_8APWv"
      },
      "outputs": [],
      "source": [
        "# @markdown Execute this cell to see visualization\n",
        "\n",
        "# set for reproducibility, comment out / change seed value for different results\n",
        "np.random.seed(1)\n",
        "\n",
        "epsilons = [0.0, 0.1, 0.2]\n",
        "alpha = 0.1\n",
        "n_trials = 200\n",
        "trial_rewards = np.zeros((len(epsilons), n_trials, n_steps))\n",
        "trial_optimal = np.zeros((len(epsilons), n_trials, n_steps))\n",
        "for i, epsilon in enumerate(epsilons):\n",
        "  for n in range(n_trials):\n",
        "    results = multi_armed_bandit(n_arms, epsilon, alpha, n_steps)\n",
        "    trial_rewards[i, n] = results['rewards']\n",
        "    trial_optimal[i, n] = results['optimal']\n",
        "\n",
        "labels = [f'$\\epsilon$={e}' for e in epsilons]\n",
        "fixed = f'$\\\\alpha$={alpha}'\n",
        "plot_parameter_performance(labels, fixed, trial_rewards, trial_optimal)"
      ]
    },
    {
      "cell_type": "markdown",
      "metadata": {
        "execution": {},
        "id": "yPNd8qUeAPWv"
      },
      "source": [
        "On the left we have plotted the average reward over time, and we see that while $\\epsilon=0$ (the greedy policy) does well initially, $\\epsilon=0.1$ starts to do slightly better in the long run, while $\\epsilon=0.2$ does the worst. Looking on the right, we see the percentage of times the optimal action (the best possible choice at time $t$) was taken, and here again we see a similar pattern of $\\epsilon=0.1$ starting out a bit slower but eventually having a slight edge in the longer run.\n",
        "\n",
        "We can also do the same for the learning rates. We will evaluate $\\alpha \\in [0.01, 0.1, 1.0]$ to a fixed $\\epsilon=0.1$."
      ]
    },
    {
      "cell_type": "code",
      "execution_count": null,
      "metadata": {
        "cellView": "form",
        "execution": {},
        "id": "j0odXvQuAPWv"
      },
      "outputs": [],
      "source": [
        "# @markdown Execute this cell to see visualization\n",
        "\n",
        "# set for reproducibility, comment out / change seed value for different results\n",
        "np.random.seed(1)\n",
        "\n",
        "epsilon = 0.1\n",
        "alphas = [0.01, 0.1, 1.0]\n",
        "n_trials = 200\n",
        "trial_rewards = np.zeros((len(epsilons), n_trials, n_steps))\n",
        "trial_optimal = np.zeros((len(epsilons), n_trials, n_steps))\n",
        "for i, alpha in enumerate(alphas):\n",
        "  for n in range(n_trials):\n",
        "    results = multi_armed_bandit(n_arms, epsilon, alpha, n_steps)\n",
        "    trial_rewards[i, n] = results['rewards']\n",
        "    trial_optimal[i, n] = results['optimal']\n",
        "\n",
        "labels = [f'$\\\\alpha$={a}' for a in alphas]\n",
        "fixed = f'$\\epsilon$={epsilon}'\n",
        "plot_parameter_performance(labels, fixed, trial_rewards, trial_optimal)"
      ]
    },
    {
      "cell_type": "markdown",
      "metadata": {
        "execution": {},
        "id": "m0riPVTrAPWv"
      },
      "source": [
        "Again we see a balance between an effective learning rate. $\\alpha=0.01$ is too weak to quickly incorporate good values, while $\\alpha=1$ is too strong likely resulting in high variance in values due to the Gaussian nature of the rewards."
      ]
    },
    {
      "cell_type": "markdown",
      "metadata": {
        "execution": {},
        "id": "6-7jzUycAPWv"
      },
      "source": [
        "---\n",
        "# Summary\n",
        "\n",
        "*Estimated timing of tutorial: 45 min*\n",
        "\n",
        "In this tutorial you implemented both the epsilon-greedy decision algorithm and a learning rule for solving a multi-armed bandit scenario. You saw how balancing exploitation and exploration in action selection is critical in finding optimal solutions. You also saw how choosing an appropriate learning rate determines how well an agent can generalize the information they receive from rewards.\n"
      ]
    },
    {
      "cell_type": "code",
      "execution_count": null,
      "metadata": {
        "cellView": "form",
        "execution": {},
        "id": "pQ4lnGfvAPWv"
      },
      "outputs": [],
      "source": [
        "# @title Airtable Submission Link\n",
        "from IPython import display as IPyDisplay\n",
        "IPyDisplay.HTML(\n",
        "    f\"\"\"\n",
        "  <div>\n",
        "    <a href= \"{atform.url()}\" target=\"_blank\">\n",
        "    <img src=\"https://github.com/NeuromatchAcademy/course-content-dl/blob/main/tutorials/static/AirtableSubmissionButton.png?raw=1\"\n",
        "  alt=\"button link to Airtable\" style=\"width:410px\"></a>\n",
        "    </div>\"\"\" )"
      ]
    }
  ],
  "metadata": {
    "colab": {
      "collapsed_sections": [],
      "name": "W3D4_Tutorial2",
      "provenance": [],
      "toc_visible": true,
      "include_colab_link": true
    },
    "kernel": {
      "display_name": "Python 3",
      "language": "python",
      "name": "python3"
    },
    "kernelspec": {
      "display_name": "Python 3",
      "language": "python",
      "name": "python3"
    },
    "language_info": {
      "codemirror_mode": {
        "name": "ipython",
        "version": 3
      },
      "file_extension": ".py",
      "mimetype": "text/x-python",
      "name": "python",
      "nbconvert_exporter": "python",
      "pygments_lexer": "ipython3",
      "version": "3.7.12"
    },
    "widgets": {
      "application/vnd.jupyter.widget-state+json": {
        "88f76e750dd24f8985a8157aef8fa1bd": {
          "model_module": "@jupyter-widgets/controls",
          "model_name": "TabModel",
          "model_module_version": "1.5.0",
          "state": {
            "_dom_classes": [],
            "_model_module": "@jupyter-widgets/controls",
            "_model_module_version": "1.5.0",
            "_model_name": "TabModel",
            "_titles": {
              "0": "Youtube",
              "1": "Bilibili"
            },
            "_view_count": null,
            "_view_module": "@jupyter-widgets/controls",
            "_view_module_version": "1.5.0",
            "_view_name": "TabView",
            "box_style": "",
            "children": [
              "IPY_MODEL_1d9adfee4c654ae0afda83da69e97df9",
              "IPY_MODEL_157280baf991486e8e6bbab9a0ad95e9"
            ],
            "layout": "IPY_MODEL_d63dd49d036f418e8e6779b6ff761bce",
            "selected_index": 0
          }
        },
        "1d9adfee4c654ae0afda83da69e97df9": {
          "model_module": "@jupyter-widgets/output",
          "model_name": "OutputModel",
          "model_module_version": "1.0.0",
          "state": {
            "_dom_classes": [],
            "_model_module": "@jupyter-widgets/output",
            "_model_module_version": "1.0.0",
            "_model_name": "OutputModel",
            "_view_count": null,
            "_view_module": "@jupyter-widgets/output",
            "_view_module_version": "1.0.0",
            "_view_name": "OutputView",
            "layout": "IPY_MODEL_39d9fddb96e3481b9fc8db707ac7cb92",
            "msg_id": "",
            "outputs": [
              {
                "output_type": "stream",
                "name": "stdout",
                "text": [
                  "Video available at https://youtube.com/watch?v=kdiXr1zsfo0\n"
                ]
              },
              {
                "output_type": "display_data",
                "data": {
                  "text/plain": "<IPython.lib.display.YouTubeVideo at 0x7f6dd7fdec90>",
                  "text/html": "\n        <iframe\n            width=\"854\"\n            height=\"480\"\n            src=\"https://www.youtube.com/embed/kdiXr1zsfo0?fs=1&rel=0\"\n            frameborder=\"0\"\n            allowfullscreen\n        ></iframe>\n        ",
                  "image/jpeg": "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\n"
                },
                "metadata": {}
              }
            ]
          }
        },
        "157280baf991486e8e6bbab9a0ad95e9": {
          "model_module": "@jupyter-widgets/output",
          "model_name": "OutputModel",
          "model_module_version": "1.0.0",
          "state": {
            "_dom_classes": [],
            "_model_module": "@jupyter-widgets/output",
            "_model_module_version": "1.0.0",
            "_model_name": "OutputModel",
            "_view_count": null,
            "_view_module": "@jupyter-widgets/output",
            "_view_module_version": "1.0.0",
            "_view_name": "OutputView",
            "layout": "IPY_MODEL_0483dfa190bc48a1ae055c19b90c8c68",
            "msg_id": "",
            "outputs": [
              {
                "output_type": "stream",
                "name": "stdout",
                "text": [
                  "Video available at https://www.bilibili.com/video/BV1M54y1B7S3\n"
                ]
              },
              {
                "output_type": "display_data",
                "data": {
                  "text/plain": "<__main__.BiliVideo at 0x7f6debebae10>",
                  "text/html": "\n        <iframe\n            width=\"854\"\n            height=\"480\"\n            src=\"https://player.bilibili.com/player.html?bvid=BV1M54y1B7S3&page=1?fs=1\"\n            frameborder=\"0\"\n            allowfullscreen\n        ></iframe>\n        "
                },
                "metadata": {}
              }
            ]
          }
        },
        "d63dd49d036f418e8e6779b6ff761bce": {
          "model_module": "@jupyter-widgets/base",
          "model_name": "LayoutModel",
          "model_module_version": "1.2.0",
          "state": {
            "_model_module": "@jupyter-widgets/base",
            "_model_module_version": "1.2.0",
            "_model_name": "LayoutModel",
            "_view_count": null,
            "_view_module": "@jupyter-widgets/base",
            "_view_module_version": "1.2.0",
            "_view_name": "LayoutView",
            "align_content": null,
            "align_items": null,
            "align_self": null,
            "border": null,
            "bottom": null,
            "display": null,
            "flex": null,
            "flex_flow": null,
            "grid_area": null,
            "grid_auto_columns": null,
            "grid_auto_flow": null,
            "grid_auto_rows": null,
            "grid_column": null,
            "grid_gap": null,
            "grid_row": null,
            "grid_template_areas": null,
            "grid_template_columns": null,
            "grid_template_rows": null,
            "height": null,
            "justify_content": null,
            "justify_items": null,
            "left": null,
            "margin": null,
            "max_height": null,
            "max_width": null,
            "min_height": null,
            "min_width": null,
            "object_fit": null,
            "object_position": null,
            "order": null,
            "overflow": null,
            "overflow_x": null,
            "overflow_y": null,
            "padding": null,
            "right": null,
            "top": null,
            "visibility": null,
            "width": null
          }
        },
        "39d9fddb96e3481b9fc8db707ac7cb92": {
          "model_module": "@jupyter-widgets/base",
          "model_name": "LayoutModel",
          "model_module_version": "1.2.0",
          "state": {
            "_model_module": "@jupyter-widgets/base",
            "_model_module_version": "1.2.0",
            "_model_name": "LayoutModel",
            "_view_count": null,
            "_view_module": "@jupyter-widgets/base",
            "_view_module_version": "1.2.0",
            "_view_name": "LayoutView",
            "align_content": null,
            "align_items": null,
            "align_self": null,
            "border": null,
            "bottom": null,
            "display": null,
            "flex": null,
            "flex_flow": null,
            "grid_area": null,
            "grid_auto_columns": null,
            "grid_auto_flow": null,
            "grid_auto_rows": null,
            "grid_column": null,
            "grid_gap": null,
            "grid_row": null,
            "grid_template_areas": null,
            "grid_template_columns": null,
            "grid_template_rows": null,
            "height": null,
            "justify_content": null,
            "justify_items": null,
            "left": null,
            "margin": null,
            "max_height": null,
            "max_width": null,
            "min_height": null,
            "min_width": null,
            "object_fit": null,
            "object_position": null,
            "order": null,
            "overflow": null,
            "overflow_x": null,
            "overflow_y": null,
            "padding": null,
            "right": null,
            "top": null,
            "visibility": null,
            "width": null
          }
        },
        "0483dfa190bc48a1ae055c19b90c8c68": {
          "model_module": "@jupyter-widgets/base",
          "model_name": "LayoutModel",
          "model_module_version": "1.2.0",
          "state": {
            "_model_module": "@jupyter-widgets/base",
            "_model_module_version": "1.2.0",
            "_model_name": "LayoutModel",
            "_view_count": null,
            "_view_module": "@jupyter-widgets/base",
            "_view_module_version": "1.2.0",
            "_view_name": "LayoutView",
            "align_content": null,
            "align_items": null,
            "align_self": null,
            "border": null,
            "bottom": null,
            "display": null,
            "flex": null,
            "flex_flow": null,
            "grid_area": null,
            "grid_auto_columns": null,
            "grid_auto_flow": null,
            "grid_auto_rows": null,
            "grid_column": null,
            "grid_gap": null,
            "grid_row": null,
            "grid_template_areas": null,
            "grid_template_columns": null,
            "grid_template_rows": null,
            "height": null,
            "justify_content": null,
            "justify_items": null,
            "left": null,
            "margin": null,
            "max_height": null,
            "max_width": null,
            "min_height": null,
            "min_width": null,
            "object_fit": null,
            "object_position": null,
            "order": null,
            "overflow": null,
            "overflow_x": null,
            "overflow_y": null,
            "padding": null,
            "right": null,
            "top": null,
            "visibility": null,
            "width": null
          }
        }
      }
    }
  },
  "nbformat": 4,
  "nbformat_minor": 0
}