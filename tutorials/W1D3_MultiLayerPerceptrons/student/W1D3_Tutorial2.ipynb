{
 "cells": [
  {
   "cell_type": "markdown",
   "metadata": {
    "colab_type": "text",
    "id": "view-in-github"
   },
   "source": [
    "<a href=\"https://colab.research.google.com/github/NeuromatchAcademy/course-content-dl/blob/main/tutorials/W1D3_MultiLayerPerceptrons/student/W1D3_Tutorial2.ipynb\" target=\"_parent\"><img src=\"https://colab.research.google.com/assets/colab-badge.svg\" alt=\"Open In Colab\"/></a>"
   ]
  },
  {
   "cell_type": "markdown",
   "metadata": {},
   "source": [
    "\n",
    "# Neuromatch Academy: Week 1, Day 3, Tutorial 2\n",
    "# Multi-layer Perceptrons\n",
    "\n",
    "__Content creators:__ Arash Ash\n",
    "\n",
    "\n",
    "\n",
    "__Content reviewers:__ Saeed Salehi, Felix Bartsch, Yu-Fang Yang. \n",
    "\n",
    "__Content editors:__ Gagana B, Spiros Chavlis.\n",
    "\n",
    "__Production editors:__ Anoop Kulkarni, Spiros Chavlis."
   ]
  },
  {
   "cell_type": "markdown",
   "metadata": {},
   "source": [
    "---\n",
    "# Tutorial Objectives\n",
    "In the second tutorial of Week 3, we will dive deeper into MLPs and see more of their mathematical and practical aspects. Today we are going to see why MLPs:\n",
    "\n",
    "* can evolve linearly in weights \n",
    "* the case of deep vs. wide\n",
    "* dependant on transfer functions\n",
    "* sensitive to initialization"
   ]
  },
  {
   "cell_type": "code",
   "execution_count": null,
   "metadata": {
    "cellView": "form",
    "colab": {
     "base_uri": "https://localhost:8080/",
     "height": 591
    },
    "outputId": "5986c1b7-c6f5-42da-d19a-d43909d6962e"
   },
   "outputs": [],
   "source": [
    "#@markdown Tutorial slides\n",
    "# you should link the slides for all tutorial videos here (we will store pdfs on osf)\n",
    "\n",
    "from IPython.display import HTML\n",
    "HTML('<iframe src=\"https://docs.google.com/presentation/d/e/2PACX-1vSPvHqDTmMq4GyQy6lieNEFxq4qz1SmqC2RNoeei3_niECH53zneh8jJVYOnBIdk0Uaz7y2b9DK8V1t/embed?start=false&loop=false&delayms=3000\" frameborder=\"0\" width=\"960\" height=\"569\" allowfullscreen=\"true\" mozallowfullscreen=\"true\" webkitallowfullscreen=\"true\"></iframe>')"
   ]
  },
  {
   "cell_type": "markdown",
   "metadata": {},
   "source": [
    "---\n",
    "# Setup"
   ]
  },
  {
   "cell_type": "code",
   "execution_count": null,
   "metadata": {
    "cellView": "form"
   },
   "outputs": [],
   "source": [
    "# @title Imports\n",
    "import random\n",
    "import pathlib\n",
    "import random, time\n",
    "\n",
    "import torch\n",
    "import numpy as np\n",
    "import matplotlib.pyplot as plt\n",
    "\n",
    "import torch.nn as nn\n",
    "import torch.optim as optim\n",
    "import torch.nn.functional as F\n",
    "import torchvision.transforms as transforms\n",
    "from torchvision.datasets import ImageFolder\n",
    "from torch.utils.data import DataLoader, TensorDataset\n",
    "from torchvision.utils import make_grid\n",
    "from IPython.display import HTML, display\n",
    "\n",
    "dev = \"cpu\""
   ]
  },
  {
   "cell_type": "code",
   "execution_count": null,
   "metadata": {
    "cellView": "form"
   },
   "outputs": [],
   "source": [
    "# @title Seeding for reproducibility\n",
    "seed = 522\n",
    "random.seed(seed)\n",
    "np.random.seed(seed)\n",
    "torch.manual_seed(seed)\n",
    "torch.cuda.manual_seed(seed)\n",
    "\n",
    "torch.backends.cudnn.deterministic = True\n",
    "torch.backends.cudnn.benchmark = False\n",
    "torch.use_deterministic_algorithms(True)\n",
    "def seed_worker(worker_id):\n",
    "    worker_seed = seed % (worker_id+1)\n",
    "    np.random.seed(worker_seed)\n",
    "    random.seed(worker_seed)"
   ]
  },
  {
   "cell_type": "code",
   "execution_count": null,
   "metadata": {
    "cellView": "form"
   },
   "outputs": [],
   "source": [
    "# @title Dataset download\n",
    "%%capture\n",
    "!rm -r AnimalFaces32x32/\n",
    "!git clone https://github.com/arashash/AnimalFaces32x32\n",
    "!rm -r afhq/\n",
    "!unzip ./AnimalFaces32x32/afhq_32x32.zip"
   ]
  },
  {
   "cell_type": "code",
   "execution_count": null,
   "metadata": {
    "cellView": "form"
   },
   "outputs": [],
   "source": [
    "# @title Figure Settings\n",
    "import ipywidgets as widgets\n",
    "%matplotlib inline\n",
    "fig_w, fig_h = (8, 6)\n",
    "plt.rcParams.update({'figure.figsize': (fig_w, fig_h)})\n",
    "%config InlineBackend.figure_format = 'retina'\n",
    "my_layout = widgets.Layout()"
   ]
  },
  {
   "cell_type": "code",
   "execution_count": null,
   "metadata": {
    "cellView": "form"
   },
   "outputs": [],
   "source": [
    "# @title Helper functions\n",
    "def imshow(img):\n",
    "    img = img / 2 + 0.5     # unnormalize\n",
    "    npimg = img.numpy()\n",
    "    plt.imshow(np.transpose(npimg, (1, 2, 0)))\n",
    "    plt.axis(False)\n",
    "    plt.show()\n",
    "\n",
    "def color_grad(grad, M=500, x_max=1):\n",
    "  \"\"\"Plot gradient\n",
    "\n",
    "  \"\"\"\n",
    "  grad = grad.detach().cpu()\n",
    "  grad_colors = grad[:, 0]\n",
    "  grad_colors = (grad_colors / grad_colors.max() * 1e3).int() % 10\n",
    "  grad_colors = grad_colors.view(M, M).cpu().numpy()\n",
    "  return grad_colors\n",
    "\n",
    "def progress(epoch, loss, epochs=100):\n",
    "    return HTML(\"\"\"\n",
    "        <label for=\"file\">Training loss: {loss}</label>\n",
    "        <progress\n",
    "            value='{epoch}'\n",
    "            max='{epochs}',\n",
    "            style='width: 100%'\n",
    "        >\n",
    "            {epoch}\n",
    "        </progress>\n",
    "    \"\"\".format(loss=loss, epoch=epoch, epochs=epochs))"
   ]
  },
  {
   "cell_type": "code",
   "execution_count": null,
   "metadata": {
    "cellView": "form"
   },
   "outputs": [],
   "source": [
    "# @title Part 1 Code\n",
    "class Net(nn.Module):\n",
    "    def __init__(self, actv, num_inputs, hidden_units, num_outputs):\n",
    "        super(Net, self).__init__()\n",
    "\n",
    "        exec('self.actv = nn.%s'%actv)\n",
    "\n",
    "        self.layers = nn.ModuleList()\n",
    "        for i in range(len(hidden_units)):\n",
    "          next_num_inputs = hidden_units[i]\n",
    "          self.layers += [nn.Linear(num_inputs, next_num_inputs)]\n",
    "          num_inputs = next_num_inputs\n",
    "\n",
    "        self.out = nn.Linear(num_inputs, num_outputs)\n",
    "\n",
    "    def forward(self, x):\n",
    "        # flattening\n",
    "        x = x.view(x.shape[0], -1)\n",
    "\n",
    "        for layer in self.layers:\n",
    "          x = self.actv(layer(x))\n",
    "        x = self.out(x)\n",
    "        return x\n",
    "\n",
    "K = 4\n",
    "sigma = 0.4\n",
    "N = 1000\n",
    "t = torch.linspace(0, 1, N)\n",
    "X = torch.zeros(K*N, 2)\n",
    "y = torch.zeros(K*N)\n",
    "for k in range(K):\n",
    "  X[k*N:(k+1)*N, 0] = t*(torch.sin(2*np.pi/K*(2*t+k)) + sigma**2*torch.randn(N))   # [TO-DO]\n",
    "  X[k*N:(k+1)*N, 1] = t*(torch.cos(2*np.pi/K*(2*t+k)) + sigma**2*torch.randn(N))   # [TO-DO]\n",
    "  y[k*N:(k+1)*N] = k\n",
    "\n",
    "# Shuffling\n",
    "shuffled_indeces = torch.randperm(K*N)\n",
    "X = X[shuffled_indeces]\n",
    "y = y[shuffled_indeces]\n",
    "\n",
    "# Test Train splitting\n",
    "test_size = int(0.2*N)\n",
    "X_test = X[:test_size]\n",
    "y_test = y[:test_size]\n",
    "X_train = X[test_size:]\n",
    "y_train = y[test_size:]\n",
    "\n",
    "\n",
    "batch_size = 128\n",
    "test_data = TensorDataset(X_test, y_test)\n",
    "test_loader = DataLoader(test_data, batch_size=batch_size,\n",
    "                         shuffle=False, num_workers=0)\n",
    "\n",
    "train_data = TensorDataset(X_train, y_train)\n",
    "train_loader = DataLoader(train_data, batch_size=batch_size, drop_last=True,\n",
    "                        shuffle=True, num_workers=0, worker_init_fn=seed_worker)\n",
    "\n",
    "def train_test_classification(net, criterion, optimizer,\n",
    "                              train_loader, test_loader,\n",
    "                              num_epochs=1, verbose=True,\n",
    "                              training_plot=False):\n",
    "  if verbose:\n",
    "    progress_bar = display(progress(0, 0, num_epochs), display_id=True)\n",
    "\n",
    "  net.train()\n",
    "  training_losses = []\n",
    "  for epoch in range(num_epochs):  # loop over the dataset multiple times\n",
    "      running_loss = 0.0\n",
    "      for i, data in enumerate(train_loader, 0):\n",
    "          # get the inputs; data is a list of [inputs, labels]\n",
    "          inputs, labels = data\n",
    "          inputs = inputs.to(dev).float()\n",
    "          labels = labels.to(dev).long()\n",
    "\n",
    "          # zero the parameter gradients\n",
    "          optimizer.zero_grad()\n",
    "\n",
    "          # forward + backward + optimize\n",
    "          outputs = net(inputs)\n",
    "\n",
    "          loss = criterion(outputs, labels)\n",
    "          loss.backward()\n",
    "          optimizer.step()\n",
    "\n",
    "          # print statistics\n",
    "          if verbose:\n",
    "            training_losses += [loss.item()]\n",
    "            running_loss += loss.item()\n",
    "            if i % 10 == 9:    # update every 10 mini-batches\n",
    "                progress_bar.update(progress(epoch+1, running_loss / 10, num_epochs))\n",
    "                running_loss = 0.0\n",
    "\n",
    "  net.eval()\n",
    "  def test(data_loader):\n",
    "    correct = 0\n",
    "    total = 0\n",
    "    for data in data_loader:\n",
    "        inputs, labels = data\n",
    "        inputs = inputs.to(dev).float()\n",
    "        labels = labels.to(dev).long()\n",
    "\n",
    "        outputs = net(inputs)\n",
    "        _, predicted = torch.max(outputs, 1)\n",
    "        total += labels.size(0)\n",
    "        correct += (predicted == labels).sum().item()\n",
    "\n",
    "    acc = 100 * correct / total\n",
    "    return total, acc\n",
    "\n",
    "  train_total, train_acc = test(train_loader)\n",
    "  test_total, test_acc = test(test_loader)\n",
    "\n",
    "  if verbose:\n",
    "    print('Accuracy on the %d training samples: %0.2f %%' % (train_total, train_acc))\n",
    "    print('Accuracy on the %d testing samples: %0.2f %%' % (test_total, test_acc))\n",
    "\n",
    "  if training_plot:\n",
    "    plt.plot(training_losses)\n",
    "    plt.xlabel('Batch')\n",
    "    plt.ylabel('Training loss')\n",
    "    plt.show()\n",
    "\n",
    "  return train_acc, test_acc\n",
    "\n",
    "def sample_grid(M=500, x_max = 2.0):\n",
    "  ii, jj = torch.meshgrid(torch.linspace(-x_max, x_max,M),\n",
    "                          torch.linspace(-x_max, x_max, M))\n",
    "  X_all = torch.cat([ii.unsqueeze(-1),\n",
    "                     jj.unsqueeze(-1)],\n",
    "                     dim=-1).view(-1, 2)\n",
    "  return X_all\n",
    "\n",
    "def plot_decision_map(X_all, y_pred, X_test, y_test, M=500, x_max = 2.0, eps = 1e-3):\n",
    "  decision_map = torch.argmax(y_pred, dim=1)\n",
    "\n",
    "  for i in range(len(X_test)):\n",
    "    indeces = (X_all[:, 0] - X_test[i, 0])**2 + (X_all[:, 1] - X_test[i, 1])**2 < eps    # [TO-DO]\n",
    "    decision_map[indeces] = (K + y_test[i]).long()\n",
    "\n",
    "  decision_map = decision_map.view(M, M).cpu()\n",
    "  plt.imshow(decision_map, extent=[-x_max, x_max, -x_max, x_max], cmap='jet')\n",
    "  plt.plot()"
   ]
  },
  {
   "cell_type": "markdown",
   "metadata": {},
   "source": [
    "---\n",
    "# Section 1: Wider vs deeper networks"
   ]
  },
  {
   "cell_type": "code",
   "execution_count": null,
   "metadata": {
    "cellView": "form",
    "colab": {
     "base_uri": "https://localhost:8080/",
     "height": 519
    },
    "outputId": "3726c48c-3c95-4908-cba6-a2f6bac312f1"
   },
   "outputs": [],
   "source": [
    "#@title Video 1: Cross Entropy\n",
    "# Insert the ID of the corresponding youtube video\n",
    "from IPython.display import YouTubeVideo\n",
    "video = YouTubeVideo(id=\"5AxFjPZGuTc\", width=854, height=480, fs=1)\n",
    "print(\"Video available at https://youtu.be/\" + video.id)\n",
    "video"
   ]
  },
  {
   "cell_type": "code",
   "execution_count": null,
   "metadata": {
    "cellView": "form",
    "colab": {
     "base_uri": "https://localhost:8080/",
     "height": 519
    },
    "outputId": "964d9b56-9570-4ff7-fece-eed844b17ee4"
   },
   "outputs": [],
   "source": [
    "#@title Video 2: Expressivity vs Learnability\n",
    "# Insert the ID of the corresponding youtube video\n",
    "from IPython.display import YouTubeVideo\n",
    "video = YouTubeVideo(id=\"H18gs1z2PTw\", width=854, height=480, fs=1)\n",
    "print(\"Video available at https://youtu.be/\" + video.id)\n",
    "video"
   ]
  },
  {
   "cell_type": "markdown",
   "metadata": {},
   "source": [
    "## Exercise 1: Wide vs. Deep while keeping number of parameters same\n",
    "Let's find the optimal number of hidden layers under a fixed number of parameters constraint!\n",
    "\n",
    "But first, we need a model parameter counter. You could iterate over the model layers by calling `.parameters()` and then use `.numel()` to count the layer parameters. Also, you can use `requires_grad` attribute to make sure it's a trainable parameter.\n",
    "\n",
    "After defining the counter function, we will step by step increase the depth and then iterate over the possible number of hidden units (assuming same for all hidden layers); then using our parameter counter choose the number of hidden units that results in overall close to `max_par_count` parameters."
   ]
  },
  {
   "cell_type": "code",
   "execution_count": null,
   "metadata": {},
   "outputs": [],
   "source": [
    "def run_depth_optimizer(max_par_count,  max_hidden_layer):\n",
    "  ####################################################################\n",
    "  # Fill in all missing code below (...),\n",
    "  # then remove or comment the line below to test your function\n",
    "  raise NotImplementedError(\"Define the depth optimizer function\")\n",
    "  ###################################################################\n",
    "\n",
    "  def count_parameters(model):\n",
    "    par_count = 0\n",
    "    for p in model.parameters():\n",
    "      if p.requires_grad:\n",
    "        par_count += ...\n",
    "    return par_count\n",
    "\n",
    "  # number of hidden layers to try\n",
    "  hidden_layers = ...\n",
    "\n",
    "  # test test score list\n",
    "  test_scores = []\n",
    "\n",
    "  for hidden_layer in hidden_layers:\n",
    "    # Initialize the hidden units in each hidden layer to be 1\n",
    "    hidden_units = np.ones(hidden_layer, dtype=np.int)\n",
    "\n",
    "    # Define the the with hidden units equal to 1\n",
    "    wide_net = Net('ReLU()', X_train.shape[1], hidden_units, K).to(dev)\n",
    "    par_count = count_parameters(wide_net)\n",
    "\n",
    "    # increment hidden_units and repeat until the par_count reaches the desired count\n",
    "    while par_count < max_par_count:\n",
    "      hidden_units += 1\n",
    "      wide_net = Net('ReLU()', X_train.shape[1], hidden_units, K).to(dev)\n",
    "      par_count = ...\n",
    "\n",
    "    # Train it\n",
    "    criterion = nn.CrossEntropyLoss()\n",
    "    optimizer = optim.Adam(wide_net.parameters(), lr=1e-3)\n",
    "    _, test_acc = train_test_classification(wide_net, criterion, optimizer, train_loader,\n",
    "                                            test_loader, num_epochs=100)\n",
    "    test_scores += [test_acc]\n",
    "\n",
    "  return hidden_layers, test_scores\n",
    "\n",
    "### Uncomment below to test your function\n",
    "#max_par_count = 100\n",
    "#max_hidden_layer = 5\n",
    "#hidden_layers, test_scores = run_depth_optimizer(max_par_count,  max_hidden_layer)\n",
    "\n",
    "#with plt.xkcd():\n",
    "#  plt.xlabel('# of hidden layers')\n",
    "#  plt.ylabel('Test accuracy')\n",
    "#  plt.plot(hidden_layers, test_scores)\n",
    "#  plt.show()"
   ]
  },
  {
   "cell_type": "markdown",
   "metadata": {
    "colab": {
     "base_uri": "https://localhost:8080/",
     "height": 743
    },
    "colab_type": "text",
    "outputId": "b038bdb1-21ae-45ad-98b2-c58963e5b1ce"
   },
   "source": [
    "[*Click for solution*](https://github.com/NeuromatchAcademy/course-content-dl/tree/main//tutorials/W1D3_MLP/solutions/W1D3_Tutorial2_Solution_31aa6709.py)\n",
    "\n",
    "*Example output:*\n",
    "\n",
    "<img alt='Solution hint' align='left' width=518 height=379 src=https://raw.githubusercontent.com/NeuromatchAcademy/course-content-dl/main/tutorials/W1D3_MLP/static/W1D3_Tutorial2_Solution_31aa6709_10.png>\n",
    "\n"
   ]
  },
  {
   "cell_type": "code",
   "execution_count": null,
   "metadata": {
    "cellView": "form"
   },
   "outputs": [],
   "source": [
    "#@markdown Here we see that there is a particular number of hidden layers that is optimum. Why do you think increasing hidden layers after a certain point hurt in this scenario?\n",
    "w3_why_three = '' #@param {type:\"string\"}"
   ]
  },
  {
   "cell_type": "markdown",
   "metadata": {},
   "source": [
    "## Section 1.1: Where Wide Fails\n",
    "Let's use the same Spiral dataset generated before with two features. And then add more polynomial features (which makes the first layer wider). And finally, train a single Linear layer. We could use the same MLP network with no hidden layers (though it would not be called an MLP anymore!).\n",
    "\n",
    "Note that we will add polynomial terms upto $P=50$ which means that for every $x_1^n x_2^m$ term, $n+m\\leq P$. Now it's fun math excercise to prove why the total number of polynomial features upto $P$ becomes,\n",
    "$$\n",
    "\\text{# of terms} = \\frac{(P+1)(P+2)}{2}\n",
    "$$\n",
    "\n",
    "Also, we don't need the polynomial term with degree zero (which is the constatnt term) since `nn.Linear` layers have bias terms. Therefore we will have one fewer polynomial feature."
   ]
  },
  {
   "cell_type": "code",
   "execution_count": null,
   "metadata": {
    "colab": {
     "base_uri": "https://localhost:8080/",
     "height": 469
    },
    "outputId": "d82784b3-b0a5-41ab-eb36-bbb6cf4a3edb"
   },
   "outputs": [],
   "source": [
    "def run_poly_clasification(poly_degree):\n",
    "\n",
    "  def make_poly_features(poly_degree, X):\n",
    "    # Define the number of polynomial features except the bias term\n",
    "    num_features = (poly_degree+1)*(poly_degree+2)//2-1\n",
    "    poly_X = torch.zeros((X.shape[0], num_features))\n",
    "    count = 0\n",
    "    for i in range(poly_degree+1):\n",
    "      for j in range(poly_degree+1):\n",
    "         # no need to add zero degree since model has biases\n",
    "        if j+i > 0:\n",
    "          if j+i <= poly_degree:\n",
    "            # Define the polynomial term\n",
    "            poly_X[:, count] = X[:, 0]**i * X[:, 1]**j\n",
    "            count += 1\n",
    "    return poly_X, num_features\n",
    "\n",
    "  poly_X_test, num_features = make_poly_features(poly_degree, X_test)\n",
    "  poly_X_train, _ = make_poly_features(poly_degree, X_train)\n",
    "\n",
    "  batch_size = 128\n",
    "  poly_test_data = TensorDataset(poly_X_test, y_test)\n",
    "  poly_test_loader = DataLoader(poly_test_data, batch_size=batch_size,\n",
    "                          shuffle=False, num_workers=1)\n",
    "  poly_train_data = TensorDataset(poly_X_train, y_train)\n",
    "  poly_train_loader = DataLoader(poly_train_data, batch_size=batch_size,\n",
    "                          shuffle=True, num_workers=1)\n",
    "\n",
    "  # define a linear model using MLP class\n",
    "  poly_net = Net('ReLU()', num_features, [], K).to(dev)\n",
    "\n",
    "  # Train it!\n",
    "  criterion = nn.CrossEntropyLoss()\n",
    "  optimizer = optim.Adam(poly_net.parameters(), lr=1e-3)\n",
    "  _, _ = train_test_classification(poly_net, criterion, optimizer,\n",
    "                                  poly_train_loader, poly_test_loader,\n",
    "                                  num_epochs=100)\n",
    "  # Test it\n",
    "  X_all = sample_grid().to(dev)\n",
    "  poly_X_all, _ = make_poly_features(poly_degree, X_all)\n",
    "  y_pred = poly_net(poly_X_all.to(dev))\n",
    "\n",
    "  # Plot it\n",
    "  with plt.xkcd():\n",
    "    plot_decision_map(X_all, y_pred, X_test, y_test)\n",
    "    plt.show()\n",
    "\n",
    "  return num_features\n",
    "\n",
    "### Uncomment below to test your function\n",
    "max_poly_degree = 50\n",
    "num_features = run_poly_clasification(max_poly_degree)\n",
    "print('Number of features: %d'%num_features)"
   ]
  },
  {
   "cell_type": "code",
   "execution_count": null,
   "metadata": {
    "cellView": "form"
   },
   "outputs": [],
   "source": [
    "#@markdown Do you think this model is performing well outside its training distribution? Why?\n",
    "w3_poly_OoD = '' #@param {type:\"string\"}"
   ]
  },
  {
   "cell_type": "markdown",
   "metadata": {},
   "source": [
    "---\n",
    "# Section 2: Linear Learning in Wide Multi-Layer Perceptrons (Advanced)\n",
    "Feel free to skip if you just want applications!"
   ]
  },
  {
   "cell_type": "code",
   "execution_count": null,
   "metadata": {
    "cellView": "form",
    "colab": {
     "base_uri": "https://localhost:8080/",
     "height": 519
    },
    "outputId": "bd366e5f-d84c-40b9-d59b-74c79e5370fc"
   },
   "outputs": [],
   "source": [
    "#@title Video 3: Neural Tngent Kernels\n",
    "# Insert the ID of the corresponding youtube video\n",
    "from IPython.display import YouTubeVideo\n",
    "video = YouTubeVideo(id=\"5Lj6kp4k7Sk\", width=854, height=480, fs=1)\n",
    "print(\"Video available at https://youtu.be/\" + video.id)\n",
    "video"
   ]
  },
  {
   "cell_type": "markdown",
   "metadata": {},
   "source": [
    "## Exercise 2: Motivation for Neural Tangent Kernels (NTKs)\n",
    "lazy training of overcomplete MLPs results in linear changes in weights. Let's try to see it here.\n",
    "\n",
    "We will train a wide MLP step by step with small learning rates (when the learning rate is low, it's called lazy or linear training!) and keep track of some of the weight to see how they change.\n",
    "\n",
    "Note that you could index the network layers like a list (since we defined it with ModuleList). You could access the weights and biases of a `nn.Linear` layer by getting `.weight` and `.bias` attributes."
   ]
  },
  {
   "cell_type": "code",
   "execution_count": null,
   "metadata": {},
   "outputs": [],
   "source": [
    "def run_lazy_training(num_time_steps, num_select_weights, step_epoch):\n",
    "  ####################################################################\n",
    "  # Fill in all missing code below (...),\n",
    "  # then remove or comment the line below to test your function\n",
    "  raise NotImplementedError(\"Define the lazy training function\")\n",
    "  ###################################################################\n",
    "\n",
    "  # Define a wide MLP\n",
    "  net = ...\n",
    "  criterion = nn.CrossEntropyLoss()\n",
    "  optimizer = optim.SGD(net.parameters(), lr=1e-2)\n",
    "\n",
    "  # let's save only couple of parameters at each time step\n",
    "  weights = torch.zeros(num_time_steps, num_select_weights)\n",
    "  for i in range(num_time_steps):\n",
    "    _, _ = train_test_classification(net, criterion, optimizer, train_loader,\n",
    "                                    test_loader, num_epochs=step_epoch, verbose=False)\n",
    "\n",
    "    # let's pratice some tensor navigations!\n",
    "    # access the first layer weights\n",
    "    # and index the first column\n",
    "    # and slice upto num_select_weights paramaeters\n",
    "    weights[i] = ...\n",
    "\n",
    "  return weights\n",
    "\n",
    "### Uncomment below to test your function\n",
    "#num_select_weights = 10\n",
    "#num_time_steps = 5\n",
    "#step_epoch = 50\n",
    "#weights = run_lazy_training(num_time_steps, num_select_weights, step_epoch)\n",
    "#with plt.xkcd():\n",
    "#  for k in range(num_select_weights):\n",
    "#    weight = weights[:, k].detach()\n",
    "#    epochs = range(1, 1+num_time_steps*step_epoch, step_epoch)\n",
    "#    plt.plot(epochs, weight, label='weight #%d'%k)\n",
    "\n",
    "#  plt.xlabel('epochs')\n",
    "#  plt.legend()\n",
    "#  plt.show()"
   ]
  },
  {
   "cell_type": "markdown",
   "metadata": {
    "colab": {
     "base_uri": "https://localhost:8080/",
     "height": 394
    },
    "colab_type": "text",
    "outputId": "8a843323-b691-443c-ca81-8610de06ad6c"
   },
   "source": [
    "[*Click for solution*](https://github.com/NeuromatchAcademy/course-content-dl/tree/main//tutorials/W1D3_MLP/solutions/W1D3_Tutorial2_Solution_6da7a021.py)\n",
    "\n",
    "*Example output:*\n",
    "\n",
    "<img alt='Solution hint' align='left' width=496 height=377 src=https://raw.githubusercontent.com/NeuromatchAcademy/course-content-dl/main/tutorials/W1D3_MLP/static/W1D3_Tutorial2_Solution_6da7a021_0.png>\n",
    "\n"
   ]
  },
  {
   "cell_type": "markdown",
   "metadata": {},
   "source": [
    "## Section 2.1: Neural Tangent Kernels (NTKs)"
   ]
  },
  {
   "cell_type": "code",
   "execution_count": null,
   "metadata": {
    "cellView": "form",
    "colab": {
     "base_uri": "https://localhost:8080/",
     "height": 519
    },
    "outputId": "a75affba-3c5e-423b-af48-1048e7910a0a"
   },
   "outputs": [],
   "source": [
    "#@title Video 2.1: Neural Tangent Kernels\n",
    "# Insert the ID of the corresponding youtube video\n",
    "from IPython.display import YouTubeVideo\n",
    "video = YouTubeVideo(id=\"rjbpZCSuMgQ\", width=854, height=480, fs=1)\n",
    "print(\"Video available at https://youtu.be/\" + video.id)\n",
    "video"
   ]
  },
  {
   "cell_type": "code",
   "execution_count": null,
   "metadata": {
    "cellView": "form"
   },
   "outputs": [],
   "source": [
    "#@markdown How could we speed up lazy training?\n",
    "w3_fast_NTK = '' #@param {type:\"string\"}"
   ]
  },
  {
   "cell_type": "markdown",
   "metadata": {},
   "source": [
    "---\n",
    "# Section 3: Deeper MLPs"
   ]
  },
  {
   "cell_type": "code",
   "execution_count": null,
   "metadata": {
    "cellView": "form",
    "colab": {
     "base_uri": "https://localhost:8080/",
     "height": 519
    },
    "outputId": "4214ce9d-b134-477f-db62-6ce59adfe72a"
   },
   "outputs": [],
   "source": [
    "#@title Video 3: Data Augmentation\n",
    "# Insert the ID of the corresponding youtube video\n",
    "from IPython.display import YouTubeVideo\n",
    "video = YouTubeVideo(id=\"RtcJ8gn2kj0\", width=854, height=480, fs=1)\n",
    "print(\"Video available at https://youtu.be/\" + video.id)\n",
    "video"
   ]
  },
  {
   "cell_type": "markdown",
   "metadata": {},
   "source": [
    "## Exercise 3: Dataloader on a real-world dataset\n",
    "Let's build our first real-world dataset loader with Data Preprocessing and Augmentation! And we will use the Torchvision transforms to do it.\n",
    "\n",
    "We'd like to have a simple data augmentation with the following steps:\n",
    "* Random rotation with 10 degrees (RandomRotation)\n",
    "* Random horizontal flipping (RandomHorizontalFlip)\n",
    "\n",
    "and we'd like a preprocessing that:\n",
    "* makes Pytorch tensors in the range [0, 1] (ToTensor)\n",
    "* normalizes the input in the range [-1, 1] (Normalize)"
   ]
  },
  {
   "cell_type": "code",
   "execution_count": null,
   "metadata": {},
   "outputs": [],
   "source": [
    "def get_data_loaders(batch_size):\n",
    "  ####################################################################\n",
    "  # Fill in all missing code below (...),\n",
    "  # then remove or comment the line below to test your function\n",
    "  raise NotImplementedError(\"Define the get data loaders function\")\n",
    "  ###################################################################\n",
    "\n",
    "  # define the transform done only during training\n",
    "  augmentation_transforms = ...\n",
    "\n",
    "  # define the transform done in training and testing (after augmentation)\n",
    "  preprocessing_transforms = ...\n",
    "\n",
    "  # compose them together\n",
    "  train_transform = transforms.Compose(augmentation_transforms + preprocessing_transforms)\n",
    "  test_transform = transforms.Compose(preprocessing_transforms)\n",
    "\n",
    "  # using pathlib to be compatible with all OS's\n",
    "  data_path = pathlib.Path('.')/'afhq'\n",
    "\n",
    "  # define the dataset objects (they can load one by one)\n",
    "  img_train_dataset = ImageFolder(data_path/'train', transform=train_transform)\n",
    "  img_test_dataset = ImageFolder(data_path/'val', transform=test_transform)\n",
    "\n",
    "  # define the dataloader objects (they can load batch by batch)\n",
    "  img_train_loader = DataLoader(img_train_dataset, batch_size=batch_size,\n",
    "                                shuffle=True, num_workers=1, worker_init_fn=seed_worker)\n",
    "  # num_workers can be set to higher if running on Colab Pro TPUs to speed up,\n",
    "  # with more than one worker, it will do multithreading to queue batches\n",
    "  img_test_loader = DataLoader(img_test_dataset, batch_size=batch_size,\n",
    "                          shuffle=False, num_workers=1)\n",
    "\n",
    "  return img_train_loader, img_test_loader\n",
    "\n",
    "### Uncomment below to test your function\n",
    "#batch_size = 64\n",
    "#img_train_loader, img_test_loader = get_data_loaders(batch_size)\n",
    "## get some random training images\n",
    "#dataiter = iter(img_train_loader)\n",
    "#images, labels = dataiter.next()\n",
    "## show images\n",
    "#imshow(make_grid(images, nrow=8))"
   ]
  },
  {
   "cell_type": "markdown",
   "metadata": {
    "colab": {
     "base_uri": "https://localhost:8080/",
     "height": 357
    },
    "colab_type": "text",
    "outputId": "07b15a45-bb18-4303-a3d2-d0a2878c4904"
   },
   "source": [
    "[*Click for solution*](https://github.com/NeuromatchAcademy/course-content-dl/tree/main//tutorials/W1D3_MLP/solutions/W1D3_Tutorial2_Solution_7d54bdfd.py)\n",
    "\n",
    "*Example output:*\n",
    "\n",
    "<img alt='Solution hint' align='left' width=340 height=340 src=https://raw.githubusercontent.com/NeuromatchAcademy/course-content-dl/main/tutorials/W1D3_MLP/static/W1D3_Tutorial2_Solution_7d54bdfd_0.png>\n",
    "\n"
   ]
  },
  {
   "cell_type": "code",
   "execution_count": null,
   "metadata": {
    "cellView": "form",
    "colab": {
     "base_uri": "https://localhost:8080/",
     "height": 519
    },
    "outputId": "6ae93baa-4d17-4993-9405-bc7ebc310014"
   },
   "outputs": [],
   "source": [
    "#@title Video 3.1: Classifying Animal Faces\n",
    "# Insert the ID of the corresponding youtube video\n",
    "from IPython.display import YouTubeVideo\n",
    "video = YouTubeVideo(id=\"JHJQZCD0mhA\", width=854, height=480, fs=1)\n",
    "print(\"Video available at https://youtu.be/\" + video.id)\n",
    "video"
   ]
  },
  {
   "cell_type": "code",
   "execution_count": null,
   "metadata": {
    "colab": {
     "base_uri": "https://localhost:8080/",
     "height": 87
    },
    "outputId": "72e89a0a-b051-4fe7-a192-9510f9cb3eeb"
   },
   "outputs": [],
   "source": [
    "# Train it\n",
    "net = Net('ReLU()', 3*32*32, [64, 64, 64], 3).to(dev)\n",
    "criterion = nn.MultiMarginLoss(margin=1.0)\n",
    "optimizer = optim.Adam(net.parameters(), lr=3e-4)\n",
    "_, _ = train_test_classification(net, criterion, optimizer,\n",
    "                                img_train_loader, img_test_loader,\n",
    "                                num_epochs=30)"
   ]
  },
  {
   "cell_type": "code",
   "execution_count": null,
   "metadata": {
    "cellView": "form",
    "colab": {
     "base_uri": "https://localhost:8080/",
     "height": 519
    },
    "outputId": "1d25b7b0-bd8e-4dd2-dc50-cfb256d88854"
   },
   "outputs": [],
   "source": [
    "#@title Video 3.1: Map Receptive Fields\n",
    "# Insert the ID of the corresponding youtube video\n",
    "from IPython.display import YouTubeVideo\n",
    "video = YouTubeVideo(id=\"YcnImVQtaqc\", width=854, height=480, fs=1)\n",
    "print(\"Video available at https://youtu.be/\" + video.id)\n",
    "video"
   ]
  },
  {
   "cell_type": "code",
   "execution_count": null,
   "metadata": {
    "colab": {
     "base_uri": "https://localhost:8080/",
     "height": 357
    },
    "outputId": "94359c9a-2f62-43de-a416-48501a4f0dfe"
   },
   "outputs": [],
   "source": [
    "# visualize the feature map\n",
    "fc1_weights = net.layers[0].weight.view(64, 3, 32, 32).detach().cpu()\n",
    "fc1_weights /= torch.max(torch.abs(fc1_weights))\n",
    "imshow(make_grid(fc1_weights, nrow=8))"
   ]
  },
  {
   "cell_type": "code",
   "execution_count": null,
   "metadata": {
    "cellView": "form"
   },
   "outputs": [],
   "source": [
    "#@markdown Even though it's three layers deep, we see distinct animal faces in the first layer feature map. Do you think this MLP has a hierarchical feature representation? why?\n",
    "w3_isHierarchical = '' #@param {type:\"string\"}"
   ]
  },
  {
   "cell_type": "markdown",
   "metadata": {},
   "source": [
    "---\n",
    "# Section 4: The need for good initialization (optional)"
   ]
  },
  {
   "cell_type": "code",
   "execution_count": null,
   "metadata": {
    "cellView": "form",
    "colab": {
     "base_uri": "https://localhost:8080/",
     "height": 519
    },
    "outputId": "a71f6ecf-e859-48bb-9843-e271f882b9d9"
   },
   "outputs": [],
   "source": [
    "#@title Video 4: Initialization\n",
    "# Insert the ID of the corresponding youtube video\n",
    "from IPython.display import YouTubeVideo\n",
    "video = YouTubeVideo(id=\"C7NdUgg40YY\", width=854, height=480, fs=1)\n",
    "print(\"Video available at https://youtu.be/\" + video.id)\n",
    "video"
   ]
  },
  {
   "cell_type": "markdown",
   "metadata": {},
   "source": [
    "## Xavier initialization\n",
    "Let us look at the scale distribution of an output (e.g., a hidden variable)  $o_i$  for some fully-connected layer without nonlinearities. With  $n_{in}$  inputs  ($x_j$)  and their associated weights  $w_{ij}$  for this layer. Then an output is given by,\n",
    "$$\n",
    "o_{i} = \\sum_{j=1}^{n_\\mathrm{in}} w_{ij} x_j\n",
    "$$\n",
    "The weights  $w_{ij}$  are all drawn independently from the same distribution. Furthermore, let us assume that this distribution has zero mean and variance  $\\sigma^2$ . Note that this does not mean that the distribution has to be Gaussian, just that the mean and variance need to exist. For now, let us assume that the inputs to the layer  $x_j$ also have zero mean and variance  $\\gamma^2$  and that they are independent of $w_{ij}$ and independent of each other. In this case, we can compute the mean and variance of $o_i$ as follows:\n",
    "\\begin{split}\\begin{aligned}\n",
    "    E[o_i] & = \\sum_{j=1}^{n_\\mathrm{in}} E[w_{ij} x_j] = \\sum_{j=1}^{n_\\mathrm{in}} E[w_{ij}] E[x_j] = 0, \\\\\n",
    "    \\mathrm{Var}[o_i] & = E[o_i^2] - (E[o_i])^2 = \\sum_{j=1}^{n_\\mathrm{in}} E[w^2_{ij} x^2_j] - 0 = \\sum_{j=1}^{n_\\mathrm{in}} E[w^2_{ij}] E[x^2_j] = n_\\mathrm{in} \\sigma^2 \\gamma^2\n",
    "\\end{aligned}\\end{split}\n",
    "One way to keep the variance fixed is to set $n_{in}\\sigma^2=1$ . Now consider backpropagation. There we face a similar problem, albeit with gradients being propagated from the layers closer to the output. Using the same reasoning as for forward propagation, we see that the gradients’ variance can blow up unless $n_{out}\\sigma^2=1$ , where  $n_{out}$ is the number of outputs of this layer. This leaves us in a dilemma: we cannot possibly satisfy both conditions simultaneously. Instead, we simply try to satisfy:\n",
    "\\begin{aligned}\n",
    "\\frac{1}{2} (n_\\mathrm{in} + n_\\mathrm{out}) \\sigma^2 = 1 \\text{ or equivalently }\n",
    "\\sigma = \\sqrt{\\frac{2}{n_\\mathrm{in} + n_\\mathrm{out}}}\n",
    "\\end{aligned}\n",
    "This is the reasoning underlying the now-standard and practically beneficial Xavier initialization, named after the first author of its creators [Glorot & Bengio, 2010]. Typically, the Xavier initialization samples weights from a Gaussian distribution with zero mean and variance  $\\sigma^2=\\frac{2}{(n_{in}+n_{out})}$. We can also adapt Xavier’s intuition to choose the variance when sampling weights from a uniform distribution. Note that the uniform distribution $U(−a,a)$ has variance $\\frac{a^2}{3}$. Plugging this into our condition on $\\sigma^2$ yields the suggestion to initialize according to\n",
    "$$\n",
    "U\\left(-\\sqrt{\\frac{6}{n_\\mathrm{in} + n_\\mathrm{out}}}, \\sqrt{\\frac{6}{n_\\mathrm{in} + n_\\mathrm{out}}}\\right)\n",
    "$$\n",
    "This explanation is mainly taken from [here](https://d2l.ai/chapter_multilayer-perceptrons/numerical-stability-and-init.html).\n"
   ]
  },
  {
   "cell_type": "markdown",
   "metadata": {},
   "source": [
    "## Initialization with transfer function\n",
    "Let's derive the optimal gain for LeakyReLU following a similar steps,\n",
    "\n",
    "$$\n",
    "f(x)=\\left\\{\\begin{array}{ll}\n",
    "a x & \\text { for } x<0 \\\\\n",
    "x & \\text { for } x \\geq 0\n",
    "\\end{array}\\right.\n",
    "$$\n",
    "\n",
    "Considering a single layer with activation gives, \n",
    "\n",
    "\n",
    "The expectation of the output is still zero but the variance changes and assuming the probability $P(x < 0) = 0.5$\n",
    "\n",
    "\\begin{split}\\begin{aligned}\n",
    "    \\mathrm{Var}[f(o_i)] = E[f(o_i)^2] & = \\frac{\\mathrm{Var}[o_i] + a^2 \\mathrm{Var}[o_i]}{2} = \\frac{1+a^2}{2}n_\\mathrm{in} \\sigma^2 \\gamma^2\n",
    "\\end{aligned}\\end{split}\n",
    "\n",
    "Therefore following the rest of derivation as before,\n",
    "\n",
    "$$\n",
    "\\sigma = gain\\sqrt{\\frac{2}{n_\\mathrm{in} + n_\\mathrm{out}}}, \\quad gain = \\sqrt{\\frac{2}{1+a^2}}\n",
    "$$"
   ]
  },
  {
   "cell_type": "markdown",
   "metadata": {},
   "source": [
    "## Exercise 4: Best gain for Xavier Initialization with Leaky ReLU\n",
    "You're probably running out of time, so let me explain what's happening here. We derived a theoretical gain for initialization. But the question is whether it holds in practice? Here we have a setup to confirm our finding. We will try a range of gains and see the empirical optimum and whether it matches our theoretical value!"
   ]
  },
  {
   "cell_type": "code",
   "execution_count": null,
   "metadata": {
    "colab": {
     "base_uri": "https://localhost:8080/",
     "height": 1000
    },
    "outputId": "5604cb95-b724-45f3-9398-fecfe50f829c"
   },
   "outputs": [],
   "source": [
    "N = 10 # number of trials\n",
    "gains = np.linspace(1/N, 3.0, N)\n",
    "test_accs = []\n",
    "train_accs = []\n",
    "for gain in gains:\n",
    "\n",
    "  def init_weights(m):\n",
    "    if type(m) == nn.Linear:\n",
    "        torch.nn.init.xavier_normal_(m.weight, gain)\n",
    "        # torch.nn.init.xavier_uniform_(m.weight, gain)\n",
    "\n",
    "  negative_slope = 0.1\n",
    "  actv = 'LeakyReLU(%f)'%negative_slope\n",
    "  net = Net(actv, 3*32*32, [128, 64, 32], 3).to(dev)\n",
    "  net.apply(init_weights)\n",
    "  criterion = nn.CrossEntropyLoss()\n",
    "\n",
    "  optimizer = optim.SGD(net.parameters(), lr=1e-2)\n",
    "  train_acc, test_acc = train_test_classification(net, criterion, optimizer,\n",
    "                                                  img_train_loader, img_test_loader,\n",
    "                                                  num_epochs=1, verbose=True)\n",
    "  test_accs += [test_acc]\n",
    "  train_accs += [train_acc]\n",
    "\n",
    "best_gain = gains[np.argmax(train_accs)]\n",
    "plt.plot(gains, test_accs, label='Test acc')\n",
    "plt.plot(gains, train_accs, label='Train acc')\n",
    "plt.scatter(best_gain, max(train_accs), label='best gain = %.1f'%best_gain, c='r')\n",
    "theoretical_gain = np.sqrt(2.0 / (1 + negative_slope ** 2))\n",
    "plt.scatter(theoretical_gain, max(train_accs), label='theoretical gain = %.2f'%theoretical_gain, c='g')\n",
    "plt.legend()\n",
    "plt.plot()"
   ]
  },
  {
   "cell_type": "markdown",
   "metadata": {},
   "source": [
    "---\n",
    "# Conclusion"
   ]
  },
  {
   "cell_type": "code",
   "execution_count": null,
   "metadata": {
    "cellView": "form",
    "colab": {
     "base_uri": "https://localhost:8080/",
     "height": 519
    },
    "outputId": "52db370e-0aff-45d4-bb55-a6400b465f22"
   },
   "outputs": [],
   "source": [
    "#@title Video 5: Wrapping Up Day 3\n",
    "# Insert the ID of the corresponding youtube video\n",
    "from IPython.display import YouTubeVideo\n",
    "video = YouTubeVideo(id=\"Jzc9Ua0isYI\", width=854, height=480, fs=1)\n",
    "print(\"Video available at https://youtu.be/\" + video.id)\n",
    "video"
   ]
  },
  {
   "cell_type": "markdown",
   "metadata": {},
   "source": [
    "# Submit your responses\n",
    "Please run the following cell and then press \"Submit\" so we can record your responses."
   ]
  },
  {
   "cell_type": "code",
   "execution_count": null,
   "metadata": {
    "cellView": "form",
    "colab": {
     "base_uri": "https://localhost:8080/",
     "height": 421
    },
    "outputId": "a238ee17-38f2-40a2-9fb6-cc1491e10137"
   },
   "outputs": [],
   "source": [
    "import time\n",
    "import numpy as np\n",
    "from IPython.display import IFrame\n",
    "#@markdown #Run Cell to Show Airtable Form\n",
    "#@markdown ##**Confirm your answers and then click \"Submit\"**\n",
    "\n",
    "def prefill_form(src, fields: dict):\n",
    "  '''\n",
    "  src: the original src url to embed the form\n",
    "  fields: a dictionary of field:value pairs,\n",
    "  e.g. {\"pennkey\": my_pennkey, \"location\": my_location}\n",
    "  '''\n",
    "  prefills = \"&\".join([\"prefill_%s=%s\"%(key, fields[key]) for key in fields])\n",
    "  src = src + prefills\n",
    "  src = \"+\".join(src.split(\" \"))\n",
    "  return src\n",
    "\n",
    "\n",
    "#autofill time if it is not present\n",
    "try: t1;\n",
    "except NameError: t1 = time.time()\n",
    "try: t2;\n",
    "except NameError: t2 = time.time()\n",
    "try: t3;\n",
    "except NameError: t3 = time.time()\n",
    "try: t4;\n",
    "except NameError: t4 = time.time()\n",
    "try: t5;\n",
    "except NameError: t5 = time.time()\n",
    "try: t6;\n",
    "except NameError: t6 = time.time()\n",
    "try: t7;\n",
    "except NameError: t7 = time.time()\n",
    "\n",
    "#autofill fields if they are not present\n",
    "#a missing pennkey and pod will result in an Airtable warning\n",
    "#which is easily fixed user-side.\n",
    "try: my_pennkey;\n",
    "except NameError: my_pennkey = \"\"\n",
    "\n",
    "try: my_pod;\n",
    "except NameError: my_pod = \"Select\"\n",
    "\n",
    "try: w3_with_non_linear_loss;\n",
    "except NameError: w3_with_non_linear_loss = \"\"\n",
    "\n",
    "try: w3_poly_OoD;\n",
    "except NameError: w3_poly_OoD = \"\"\n",
    "\n",
    "try: w3_why_three;\n",
    "except NameError: w3_why_three = \"\"\n",
    "\n",
    "try: w3_fast_NTK;\n",
    "except NameError: w3_fast_NTK = \"\"\n",
    "\n",
    "try: w3_isHierarchical;\n",
    "except NameError: w3_isHierarchical = \"\"\n",
    "\n",
    "try: w3_whichActiv;\n",
    "except NameError: w3_whichActiv = \"\"\n",
    "\n",
    "times = np.array([t2,t3,t4,t5,t6,t7])-t1\n",
    "\n",
    "fields = {\"pennkey\": my_pennkey,\n",
    "          \"pod\": my_pod,\n",
    "          \"w3_with_non_linear_loss\":w3_with_non_linear_loss,\n",
    "          \"w3_poly_OoD\": w3_poly_OoD,\n",
    "          \"w3_why_three\":w3_why_three,\n",
    "          \"w3_fast_NTK\": w3_fast_NTK,\n",
    "          \"w3_isHierarchical\":w3_isHierarchical,\n",
    "          \"w3_whichActiv\":w3_whichActiv,\n",
    "          \"cumulative_times\": times}\n",
    "\n",
    "src = \"https://airtable.com/embed/shrElsLHM2gDYmFnl?\"\n",
    "\n",
    "#now instead of the original source url, we do: src = prefill_form(src, fields)\n",
    "display(IFrame(src = prefill_form(src, fields), width = 800, height = 400))"
   ]
  },
  {
   "cell_type": "markdown",
   "metadata": {},
   "source": [
    "## Feedback\n",
    "How could this session have been better? How happy are you in your group? How do you feel right now?\n",
    "\n",
    "Feel free to use the embeded form below or use this link:\n",
    "<a target=\"_blank\" rel=\"noopener noreferrer\" href=\"https://airtable.com/shrNSJ5ECXhNhsYss\">https://airtable.com/shrNSJ5ECXhNhsYss</a>"
   ]
  },
  {
   "cell_type": "code",
   "execution_count": null,
   "metadata": {
    "colab": {
     "base_uri": "https://localhost:8080/",
     "height": 421
    },
    "outputId": "93c01994-99d4-48f3-a500-5364a12a5ce5"
   },
   "outputs": [],
   "source": [
    "display(IFrame(src=\"https://airtable.com/embed/shrNSJ5ECXhNhsYss?backgroundColor=red\", width = 800, height = 400))"
   ]
  },
  {
   "cell_type": "markdown",
   "metadata": {},
   "source": [
    "# Homeworks\n",
    "* (1) Join the Kaggle Competition to solve Animal Faces with random permutations using MLPs.\n",
    "* (2) Something where you debug something: Cross-entropy optimization with poor initialization, producing NaNs.\n",
    "* (3) Something related to ethics: A classification system with interest bias?\n",
    "* (4) Read some cool original paper:  Kernel vs Rich regimes paper?\n"
   ]
  },
  {
   "cell_type": "markdown",
   "metadata": {},
   "source": [
    "# Kaggle competition\n",
    "https://www.kaggle.com/c/permuted-animal-faces/"
   ]
  }
 ],
 "metadata": {
  "colab": {
   "collapsed_sections": [],
   "include_colab_link": true,
   "name": "W1D3_Tutorial2",
   "provenance": [],
   "toc_visible": true
  },
  "kernel": {
   "display_name": "Python 3",
   "language": "python",
   "name": "python3"
  },
  "kernelspec": {
   "display_name": "Python 3",
   "name": "python3"
  }
 },
 "nbformat": 4,
 "nbformat_minor": 0
}
