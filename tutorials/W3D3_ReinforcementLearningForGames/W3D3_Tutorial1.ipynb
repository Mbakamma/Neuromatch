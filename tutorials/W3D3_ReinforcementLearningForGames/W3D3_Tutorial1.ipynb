{
  "nbformat": 4,
  "nbformat_minor": 0,
  "metadata": {
    "accelerator": "GPU",
    "colab": {
      "name": "W3D3_Tutorial1",
      "provenance": [],
      "collapsed_sections": [
        "qQR1gJBX-7GC"
      ],
      "toc_visible": true,
      "include_colab_link": true
    },
    "kernel": {
      "display_name": "Python 3",
      "language": "python",
      "name": "python3"
    },
    "kernelspec": {
      "display_name": "Python 3",
      "name": "python3"
    },
    "language_info": {
      "name": "python"
    },
    "widgets": {
      "application/vnd.jupyter.widget-state+json": {
        "07f9afba824944c6a4b375903605b6a0": {
          "model_module": "@jupyter-widgets/controls",
          "model_name": "TabModel",
          "state": {
            "_view_name": "TabView",
            "_dom_classes": [],
            "_titles": {
              "0": "Youtube",
              "1": "Bilibili"
            },
            "_model_name": "TabModel",
            "_view_module": "@jupyter-widgets/controls",
            "selected_index": 0,
            "_model_module_version": "1.5.0",
            "_view_count": null,
            "_view_module_version": "1.5.0",
            "box_style": "",
            "layout": "IPY_MODEL_b5787313c024451f88e90c957d3f09db",
            "_model_module": "@jupyter-widgets/controls",
            "children": [
              "IPY_MODEL_637c49e03ae9491c8de064a37f205c52",
              "IPY_MODEL_412f8b32e75c4e6fa202b5e684c85f13"
            ]
          }
        },
        "b5787313c024451f88e90c957d3f09db": {
          "model_module": "@jupyter-widgets/base",
          "model_name": "LayoutModel",
          "state": {
            "_view_name": "LayoutView",
            "grid_template_rows": null,
            "right": null,
            "justify_content": null,
            "_view_module": "@jupyter-widgets/base",
            "overflow": null,
            "_model_module_version": "1.2.0",
            "_view_count": null,
            "flex_flow": null,
            "width": null,
            "min_width": null,
            "border": null,
            "align_items": null,
            "bottom": null,
            "_model_module": "@jupyter-widgets/base",
            "top": null,
            "grid_column": null,
            "overflow_y": null,
            "overflow_x": null,
            "grid_auto_flow": null,
            "grid_area": null,
            "grid_template_columns": null,
            "flex": null,
            "_model_name": "LayoutModel",
            "justify_items": null,
            "grid_row": null,
            "max_height": null,
            "align_content": null,
            "visibility": null,
            "align_self": null,
            "height": null,
            "min_height": null,
            "padding": null,
            "grid_auto_rows": null,
            "grid_gap": null,
            "max_width": null,
            "order": null,
            "_view_module_version": "1.2.0",
            "grid_template_areas": null,
            "object_position": null,
            "object_fit": null,
            "grid_auto_columns": null,
            "margin": null,
            "display": null,
            "left": null
          }
        },
        "637c49e03ae9491c8de064a37f205c52": {
          "model_module": "@jupyter-widgets/output",
          "model_name": "OutputModel",
          "state": {
            "_view_name": "OutputView",
            "msg_id": "",
            "_dom_classes": [],
            "_model_name": "OutputModel",
            "outputs": [
              {
                "output_type": "stream",
                "metadata": {
                  "tags": []
                },
                "text": "Video available at https://youtube.com/watch?v=v4wafEsgopE\n",
                "stream": "stdout"
              },
              {
                "output_type": "display_data",
                "metadata": {
                  "tags": []
                },
                "text/html": "\n        <iframe\n            width=\"854\"\n            height=\"480\"\n            src=\"https://www.youtube.com/embed/v4wafEsgopE?fs=1&rel=0\"\n            frameborder=\"0\"\n            allowfullscreen\n        ></iframe>\n        ",
                "text/plain": "<IPython.lib.display.YouTubeVideo at 0x7fbb055b51d0>",
                "image/jpeg": "/9j/4AAQSkZJRgABAQAAAQABAAD/2wCEABALDBoYFhsaGBoeHRofIjIlISIiIS8qKCcqLikxMC0tMis1PVBCNDpLOS8tRWFFTVNWW19bMkFlbWRYbFBZW1cBERISGRYYLRsaMFc9NT1XV1dXV1dXV1dXV1dXX1dXV1dXV1dXX1dXV1dXV1dXV1dXV1dXV1dXXVdXV1dXV1dXV//AABEIAWgB4AMBIgACEQEDEQH/xAAbAAEAAgMBAQAAAAAAAAAAAAAABAYBAwUCB//EAEYQAAIBAgMEBAoHBgUFAQEAAAABAgMRBBIhBRMxUUFTktIXIjJSYXFzgZHBIzM0cqGxsgYUFUKC0RYkYpPhRGN0s/Diov/EABkBAQADAQEAAAAAAAAAAAAAAAABAgQDBf/EACsRAQEAAgECBQIHAAMAAAAAAAABAhEDMTIEITNxgRLBBRNBQkNRYSIj8P/aAAwDAQACEQMRAD8A+fgAAAAAAAAAAAAAAAAAAAAAAAAAAAAAAAAAAAAAAAAAAAAAAAAAAAAAAAAAAAAAAAAAAAAAAAAAAAAAAAAAAAAAAAAAAAAAAAAAAAAAAAAAAAAAAAAAAAAAAAAAAAAAAAAAAAAAAAAAAAAAAAAAAAAAAAAAAAAAAAAt/g5xvW4ftT7g8HGN63D9qfcAqALf4OMb1uH7U+4PBxjetw/an3AKgC3+DjG9bh+1PuDwcY3rcP2p9wCoAt/g4xvW4ftT7g8HGN63D9qfcAqALf4OMb1uH7U+4PBxjetw/an3AKgC3+DjG9bh+1PuDwcY3rcP2p9wCoAt/g4xvW4ftT7g8HGN63D9qfcAqALf4OMb1uH7U+4PBxjetw/an3AKgC3+DjG9bh+1PuDwcY3rcP2p9wCoAt/g4xvW4ftT7g8HGN63D9qfcAqALf4OMb1uH7U+4PBxjetw/an3AKgC3+DjG9bh+1PuDwcY3rcP2p9wCoAt/g4xvW4ftT7g8HGN63D9qfcAqALf4OMb1uH7U+4PBxjetw/an3AKgC3+DjG9bh+1PuDwcY3rcP2p9wCoAt/g4xvW4ftT7g8HGN63D9qfcAqALf4OMb1uH7U+4PBxjetw/an3AKgC3+DjG9bh+1PuDwcY3rcP2p9wCoAt/g4xvW4ftT7g8HGN63D9qfcAqALf4OMb1uH7U+4PBxjetw/an3AKgC3+DjG9bh+1PuDwcY3rcP2p9wCoAt/g4xvW4ftT7g8HGN63D9qfcAqALf4OMb1uH7U+4PBxjetw/an3AKgC3+DjG9bh+1PuEWt+xGJhJxdWhdf6p90CtAsX+DcR1lHtS7o/wbieso9qXdAroLF/gzE9ZR7Uu6Z/wZieso9qXdArgLH/AILxPWUe1Luj/BeJ6yj2pd0CuA79f9ksRBXlUo2+9LunPrbKnB2lOnf1v+wEAG94V3tmj8X/AGJ2z9gVMSm6dSlpxTcrr/8AkDlAsP8Ag7E+fR7Uu6P8HYnz6Pal3QPrpkAAAAAAAAAAAAAAAAAAAAAAAAAAAAAAAAAAAAAAAAAAAAAAAAAAAAAAAAAAAABWdqTtiKnrX5IsxU9qr/M1fWvyQGvemd8aXpYz7iBLoScr+g25GedmR1l6idkAh5WMrJbgYcAKxtvG5c8V5UY6ehsp81OcnLV3ZfZUVCVbMk253u+VlYhbiN9Ir4COkw8lNq0pLoZ0v2cqyjiqdv5vFfqaLC6CfFI5Gw6S/iFrWUZP5pEq3HS4KmelRJCie1EhV2gASANOKxVOjBzqzjCC4yk7JX0RDp7fwcpKMcTScpNJJTV23wQHSAMNpK70S4gZB4p1IzipRalFq6ad01zTFWrGEc05KMebdlq7L8QPYAAAEXG7Qo4dRderCmpcMzte3ECUCPg8dRrxcqNWFRJ2bhJOz9JIAA0vF09b1IpKWR3a0k7Wj69Vp6TcAAAAAAAYPDrRU1ByWdpyUelpWu/xXxA2A1SrwU403JKck3GN9Wlxt6roV68KaTnJRTkoq74tuyXrYG0A1060ZOSjJNweWST4Oydn7mviBsAAAGJNJNvRLieKFeFSEZ05KcJaqUXdP3gbAa6FaFSKlCSlF8GndaOzPYGQYTvqjIAAAAa99HPkzLPlzZem17X+JsAAAAAAABgDIAAwVjaS/wAzU9a/JFoK1tBf5mp61+SAhzjrE2JCouHrNliBv2d5b9XzOhYgYDy/cdADzY8uJsMNAcLbyayyTtprpde85KxPiOSXDRlh2zDxFLkzhRrQy5bpSfR6SY649GuhVcrNTzehLQnbNwSVfepK8uPuVkaY8OR2tn0bU4vpeopfKJSPSPJ6RDk6xkAkYaONszSptFq11XutP+zTO0RKGAjB12nL6eWaV7aPKo6e5IDl4XF1lgaeIrYjx60KeXLSTs5LhGK1lJ39WnCxnB4yqq1SjOdSotw6i3tOMZRadmtElJO6+BOlsmH7tSw6lNKko7uaazRcFaMuFr+6wp7MtUdWdWpUm6bp65UrNp6JJa6AczB4qvUWApwqKmquFdSbjCPFKnbKrWXlPot6BVxdWNDFQqTVWVGvThGcoRu4y3ctVa11metjqYXZUKToOMpPcUXRje2sXl1enHxEYq7JhNVk5S+mqRqStbRwUEktOHiL8QI8nXrYnEUo13ShTyZcsIuV5Rbesk9PcR6W0K9alhKcZqFWtn3lRRWip6PLF6Xbt6tTsUcJGFWrVTearlunwWVWVjm4zZ0adCjGKrt05txqUsrqQvmu7Pylra1nxA24OdaGLnQqVd5BUYzi3FKV3KSd2tHw9Bp21VlDF4KUaUqr+l8SOW/krzml+I2Phqn7zVry3ri6cYKVaynNptt5EkopXS4Lp9Z0q2DjOtSqtvNSzZUuDzKzv8AOJXq1aU6+PeHdFQoZFCUo5qks105ZW0kuHG+rJNeWJwu6qVMRvoyqQp1YOEYpZ3lThZXVm1o29Dr4ihGrCVOpFShNOMk+lPic+lse0oOpiK1aFN3pwnlsmuDbUU5NdF2wOfUquEa7VtdoU46xT0cqSfHp14kyMq+Jq18ld0KdGe7ioxjJykoqTcsyenjJWVuBInsmElNOUvGrxrvh5UXFpcOHioxiNlXqTqUq9Wg6n1mTI1JpWTtKLs7WV1yA8Rxk6OIlTxE04OjvIStZJw0qr8Yy15vkbtj1atTDxqVtJVLzUbWyxk7xj60re8g7ZwP7w6GHUKjUZJzqO9t3ZqUXL+ZyWjXpudsCt7S2lUjGvWpV6jVFyslRW5eXjBys5N9DknZMm1KtarjJ0YVnSpqjCfixi5XlKa0ck1/KuhnqrsJSp1aSr1Y0auZumslk5tuVpON7Xbdr/hoTKeCjGvKsm80qcabXRaLk0/X4zA5FPaNd0aVLOt9PETob3KtFBzbll4ZssfVdmynRqU9o0FOq6q/d6tpSilLy6V75Uk/gTJ7Gpuk6eaae9dWM00pQm5OV1pbpa16OJnDbLyVo151qtWrGEoXllStJxfkxSS8n+/QBo/aOm40oYmCvPDTVTTi4cKi7LfwRrr1FicbSSadHDQ38n0Z5pqn8I5pfA7Uopppq6ejRztl7FpYWlOlDNKM34zm7u2VRUb8lFJIDmR2jVjKhVVarUhVqxg1Kio05Rm7Xg7XVuKu9Q8TOl+/Tpu0v32nHhfSUaMX+DZ0I7E8WnCVerKnSnGVOLyaZGnFN5btaW1/PU2Vtj05wrxcprfzVRtNXjJKKTjp0ZE9bgMXi5QxdCmn9HKnVlJW4uG7t+pnGp7YrToLExqVnNrPGgsLN03HioZ8l27fzZrX9Gh2aGystaFapXq1akIyinLKlaWW/ixil/L/9oeaWyHTeWniK0KN7qksllreyk45lH0X9QEzEyvQm9VeDevHyStbBk8FQwsn9lxFOGblSqyitfRGT+D9ZaasM0ZRfBpr4kels6nHCxwrWekqap2lxcUra26QOBg8fKlg8LTi5QdWdROcabnKMYyk3aKTu+C4W4kmOIqzjXoqpWlDdOca06DhKLT1g80FF3XDTmTaWwqcMPSoxnUTovNTqXWeLd9eFno2rNWJGHwUoxmqtapWzqzz5UkvQopLpA5WzK1ShR2fmqOVKpBQd4xWVumpQ1S4LK170eFtqsqGIk7byajPC6fy1ZOFNPm1JJv7yJ0thRlg3halarOGmSXiqcFG2VJpLhbi9SRiNlUqlTD1HdOh5KT0emia6bWTXpQEVSr169WlGvKlChli5RjFynNxzNvMmkrNaJcyLLaeIdOjBTjGr+9vDznlvGSUZvNl6L2TtfidLFbMzVXVpVqlCpJKM3DK1JLhdSTV1d6oxDY9KMKMU5fRVd7e93KbUk3JvjfM2By8ftBYPFKVSTqT/AHWyuknJ7zi7K0UuLfBIl4yeKp0qTc5yzSbrTo01KUFa6UI2d1fS9m/l0ZYKDrOs9W6e7cXbLlvcjQ2U4Uo06WIrU1BvI04u0X/JaSaaXRfVcwNmycQqlK6rOslJrM4ZZL/TKNlZ+5E4iYDAqgp+PKpOpLPOcrXk7JcEkloktF0EsAAAAAAAAAVvH/aanrX5IshWtoP/ADNT1r8kBpq8F6z1Fpq6d0+lHmuvFFKEYRSilFLgkrIgSsG7TXvOgmczDPx0dBMD030nC2n+1dCjeNL6Wfo8le/p9xzv2x204/5am7dNRr8I/N+4p28uWkTI7lbb1fETbnLxILM4R0WVNX06dGSXQg3FxkrWuvV6DgYSrllJWvnpzh2ou342I9DHVaStCXi8mk1+PAnS31aXDDpcIttXOJL9oK1DFVZUKl6bl5L1i7dNuj3EP+K15xk5StCK4RVryfBfP3HMQ0i5bX7Z/wC2dGdlXi6cua8aP90WOjWjUipQkpRfBp3R8gud/wDZTazoYhQk/oqjytdCb4MixV9cABAAAAAAAOfXxlSM6kUlolkbjK1+m7XHTXQ00toV5TinStFtXvCSavK1uNr28a/u9IHWMGnD13NzTg4OLs02n0J9HrN4AAAAAAAAGDIAAAAADXiL7ueV2lldnydtHqB7MnLweKrJTlVSdKMW7qzbtZrVPV2unpbQif4uw3m1eyv7kWydV8cMsu2O+Dj1P2joRyXU2puyayv8n6TsCXaLjceoACVQAAADVPERjOMG7SkrrR2014+5gbQQVtahZNSbTV1aLd/w46N25EqFaMm1GUW1xSd2vWBsAAAAAAAAAAAAAAAAKxtJ/wCZqetfkizlfx+zq8685wgnFvTxkuhAQ6j8VhS09xvns3EuLW7V7eejTHZmOt9XT7X/ACQItCtlkt855rXsnaPua+buTI7Rkqc55VkgnJylLoWpz6mwMfUrbycKaSVoqNT8WrcTxjP2e2jUoulFU4qXlfSdF78vUVu9ijYzFSq1JTlxlJyfvdzF+S97LE/2Bx972pf7n/B7f7CY/lS/3P8Ag67SrMZNNNPVO69aPdalepaK0nZxXr4L5e4sX+A8fypf7n/BupfsRjlFXVPNG+V7zmn6OevxJ2hVMRNaQi/Fj0+c+l/29BpLR/gDH8qX+5/wZ/wBj+VL/c/4I3BV0e4Ss1bmWX/AOP5Uv9z/AIH+AMffhS/3P+BsfUzIBUAAAAAAHPr42cZzio6LKovLLp8q/Oyu9ORoobRrylBSpWTav4stPGs1f1eNf3ATsN9bX+8v0RNsa0XJwUk5R4q+q9aOFtipL91xjtKDzw6VfhDpTKXvZ6vPO7XnP+50xw+qOWfJ9N0+qg1U5pU4uTSWVXbfoNmZWvdW5nN1DJDhU/zE1n8VU4tRurXcpJv8ESt5HmviDb0DznjzXxGePNfEG3oHnPHmviM8ea+INvQPO8jzXxG8jzXxBt6PFWSjGTeiSbfwM7yPNfE11qkcsldNuL04305LV+4G3JhTp5KzhUv9C0o9Nskbt83dX/qfMp1TBuNGFS+kraeu/wAeBbqEllxH0TjLdzzSvK18q6HwzaPi27MrGJc/3anGUGsrTvotLO19b9K6EcuRt8LdbbtpRaqUFfRJWjwt4zfk/DU+gFA2wv8AMUnra0eP3mX8nD9VfEduPyAA6MgAABorYWE5KUr5o8GpNfh6m172bzVPEQjNQk7SkrrR201evDoYEd7Lov8Ald+eeV7873420vy0PcYpYh2SX0a/UeP4tQ899id/Va3G2tuWvAzCpGWJeWSdqavZ8PGAmAAAAAAAAAAAAAAAAGDIAAAAAAAAAGDIAAAAAAAAAAAAAABggVsZUUqqSXi2ULwnq7Xeq8pWu9DRSx+IlOKdK0W1e9OV141rXva9vGvw6AI+3/s2M+9D8oFHZdttSbwuMbi4vNDRtPohyKSzRxdGXm7ln2ys1RxlrFwjddHkozgH9FiF0Klp8TG1vrv6I/pRnAfVYn2XzL5+k4b/AO2/LlJreSXTlX5yL3goLc09F5C6PQUixb1iJRw8VBXnu1l9dtDDjWjw83an5FyXwGRcl8DRhMQ5JKStLLd+vpPf7xHebvXNlzcHa3r4F2mzTZkXJfAZFyXwMmQPORcl8BkXJfA9ADzkXJfAxu1xsr87aq57NdfNklk8qzy+u2gHNnSrxp1VUleCotcU22qcdeF+Obi+kpVbG56UYOPk21zN8FbgXTeYiUKirRtDdT16W9Mt3ztm0suBSlBckceW6eh4PH6pUvacWq9NPjZX7bPoJ86U3OUMzbtJWvr0n0Uniu9qeLxuMxl/0AMHViZAAA0VsLCclKV7rhaT9PRw4Nr3m81TxEYzjBtqUuGjtwb48L2T+AEf+E0PNfblf13vxtpfloaNoV3RlOcErqmuK08uxuW1qDSak2mrq0W7/hx0btyRC21UjJVLNO1ON7P/ALhbHzyimd1jbHPht3EqcpNwcX5Mcvk+/j8S0wd0n6CisvNPyV6kdebGY604eHzyy3t7ABwagAAAAAAAAAAAAAAAAAAAAAAAAAAAABgyAAAAGDJ4qu0Zep9NvxOfsOL3Tk5yk5Pg5NpWXRf8QOmYIFbGzjKoktE4qPiS6dZP/VZXeluFjRQ2hXlKClSsm1fxJaeNZq/3fGv7gI+3vs2M+9D8oFHfAu22puWFxjcXF5oaO1+EOTZSXwNHF0ZubuWfa3139Ef0ozgPqsT7P5mNrfXf0R/SjOA+qxPsvmXy9Jmnq35c8tkfq6Xs4/kVIs9TEwhTpuUkrUou19eHI8+NfhO6pVD+b7rNDoxz57eNa17vh6uAwmLpzTcZx1hdaq/wPP7zTzZc8c1r2v0Et8nm6lHyI+o2GilXhlXjR4cz3v4efH4o6OFnm2A17+Hnx+KG/h58figabDDaSu9Ejxv4efH4oxv4OSgprM07JPXTi/xBqtWKrRlQnlknenJqzvdJWZ8/ReK2z4U41KkW77mUNbcMq6bX/lXTzKjPDJYeNTW7/HV6cNOC/Ez8083oeCskvu0UvKj61+Z9HKJiVH6HLFJu13pd2txtp8y9k8M1tXxuX1fTfcAB3YAAADTUw0ZSzu6kla6k1pe9jcap4iEZqEnaT4aO3Bvjw4J/ACO9l0X/ACu/PPK9+d78baX5aELbUElUskvo48PaE3+K0PPfYlf1WtxtrblrwIO2ppqpZp2px4P/ALhbDuinJ2X2V5nX2xj6ylKlCeSOWNmuK0T4nIZO2z9ol92P6UbcpLlNvOxyuONs/wA+7qbCx1WrKUakk1GKtodoqeyqsoQxEou0lBNP3mhbSrqo6m9d3FK1lbTptzOGXFblfpacOeY4z6lzByMVtpUaavGUqjpqSstG2jds7a0K7UVGSllzO6sui/TfpOP0Xq0Tkxt1t0QAVXAAAAAAAAAYMgAAAAAAAAAAAAAAAAAABoxs1GlNy4ZXf36dJE2FG2HXjKV3dPThZaO2lydXnlhJ9NtPX0EXZVScqV6jvK/NPRpNapJO97+8CaZIeJxM4Z0kr2W7upO7d73tytfQiUtoV5TinStFtXvCSa8a1uNr28a/LT0gR9v/AGbGfeh+UCjvgXbbUm8LjG4uLzQ0duUOTZSXwNHF0ZubuWfa3139Ef0ozgPqsT7L5mNrfXf0R/SjOA+qxPsvmXy9Jmnq35c4kbdX0lL2MPmRyTtz6yl7GHzPOvR6X4Z6t9mNi6b+2lqE+HuIG8lfNnne1vLf9ydsf/qPYT+RzyP0e3JPrvwuWDklhaTy5pumnr0u3r+ZIwTU4x3lNRm14yXBP4sjYP7PQ9miXhfL9x0l83l5TrUj93h5qH7vDzUbDJdx3Wr93h5qPFXDRV5wit5GLUX61/wiQeZysm+NlfQG65TqYhwqKrG0FSnq0ryemVuz00zaW0KvUUv3aKeXLe6116eGnpfT0FtqbQhVp1IxUs27m3daLLZNN8L+MimvFSdPd2jl99+fMz8zf4KWy6/uJu0F41HSz0/Neku58/q11UlTaTTVk1fTiuB9ALcV3ap4uWTGX/QAHZiAAANFXCxlLO75rZbqT4Xu1bgbzxKrFSUW/GabS9Ctd/igIn8Joea+3K/rvfjbS/LQhbagkqlkl9HHh7QnfxWhZPO7NXXiy19Wnob9WpB21NNVLNP6OPD2hbDuinJ2X2V4nbZ+0S+7H9KIJO2z9ol92P6Ubr3R5s7L8fcwH1WJ9n8yCTsB9VifZ/MgidaZdsTtreXT9lD5m/8AZv7Q/uP80aNreXT9lD5nrY1RxnVkuMaUmvc0Uvprz1VruCnva1ffKpandRcc2XXVp/L8SyUMfFUYTqzipOGa10r+pMzZceWPVtw5sc+iYZIuE2hSrRi6c4vMrpXV7eolHN1l2AwZAGDJgAZMGQAAAAAAAAAAAAADBkAAAAPNSCknGSTi9GmrpnmjQhTjlpxjCPKKsjYABgiYnFTg5qy/lyOzfG+ZtdNkm7LkRKG0a8pQUqVk2r+LLS8rNX9XjX5aekDRt77NjPvQ/KBRmXXbU3LC4xuMoPPDSVr8Icm0Upnfi6M3N3LPtb67+iP6UZwH1WJ9n8zG1vrv6I/pRnAfVYn2fzOmXpM09W/Lnskbc+spexh8yMSNufWUvYw+Z536PS/DPVvsbH/6j2E/kc46Ox/+o/8AHn8jnEfo9vHvy+HdxW0p0aOHjBRu6Kacruz1XA27C2nVq1VTnkvlbclF9Houc7avkYX2C/NjYX10vZT/ACLb82e8eN4rlrz81y8e9s8L8sv/AOjOWfnR7L7x85ypyU7eMlbN025XL1sD7HS9T/Uy2OW2bm4LxTe0zLPzo9l948unNu0pQcGmpRycb8Nb+s3mJcGXZtomJw1OFKpKMIxlu5K6ik7W4fgigotmEWdStOXi4ZRySvpmhBp8Wuh+nV+gr/8ADp84/j/Yzc91Y9DwWUky2jUvKj61+Z9HKFT2fPNHWPFc+fqL6TwXqr46y3HQADQwAAAGupSUrN3TWl07cWr/AJGw1yqxUlFtZmnK3oVrv8UBFeyaPKV+N88r358eNtL8iFtmmkqlklenG9l/3Cf/ABSh5/8A/Mvytx6bcteBB23JNVLO/wBHH/2FsO6KcnZfZXWTts/aJfdj+lEFk7bP2iX3Y/pRtvdHmzsvx9zAfVYn2fzILJ2A+qxPs/mQWTOtMu2J21vLp+yj8xsvjW9jL5Da3l0/Yw+Y2Xxrexl8in7F/wCRBJu0VeGH9kvzZCJ20PIw/sl+bL3rFMe2mxNK+mloSt8CNLF1nONR1p5oqy101JOxvrv6JfkQURqXK7T9VmM1/v2W/ZNSU8PCUm3J3u395k0gbE+y0/f+pk8xZ91ejx9kDBkwVXDJgyAAAAAAAAAAAAAAAAAAAAAAYMmnF1JQpylFJyXC97cemxzqW0q0pxW6sm1e8JJq8rW9dvGvy09IEfb32bGfeh+UCjsu22pN4XGNxcXnho7X4Q5NlJZ34ujNzdVn2t9d/RH9KM4H6rE+z+Zja3139Ef0ozgfqsT7P5nTL0maerflziRtz6yl7GHzI5I259ZS9jD5nnfo9L8M9W+xsf8A6j/x5/I5x0dj/wDUf+PP5HOI/R7mPfl8OhtXyML7CP5szsP66Xsp/kY2r5GF9hH82Z2H9dL2U/yJ/c5fw35c1cC87A+x0vU/1MoyLpsbE06eDo55who/Kkl/M+ZOHVTxk3hPd1jzKVk3rprorv4GiltChO2StTlfhaafzMzxFJ+JKcHeLdrrVLj+Z1eZqtEMTSqQqbu2aMHdWV0rf8fh6Dh5Ha9nbnbQ7sadFQnKko3cXdri7q+vPo+JyJzTjBenVL+1zJ4ibsavD3UrFSioOOt7v0f3LKV3F+XF+hfmWMtwTVy0rz3cx2AA0swAABqq0VPjdNK10+htX/I2mAIP8Io8pX555Xvwve/G2l+RC2zTjFVMsUr043suP0h0f4lRsnn0autHqvh/8teBA23JNVLO/wBHH/2FsO6KcnZfZXWTts/aH92P6UQWTts/aH92P6Ubr3R5s7L8fcwH1WJ9n8yCydgPqsT7P5kFidaZdsTtreXT9lD5jZXGt7GXyG1vLp+yh8xsvjW9jL5FP2L/AMiCTto+Rh/ZL82QSbtHyMP7Jfmy16xTHtrOxvrv6JfkQUTtjfXf0S/IgImd1L2T5+y3bE+y0/f+pk4g7E+y0/f+pk8w591elx9k9gwZBVdgyAAAAAAAAABgyAAAAGDIAAAAAAAAIuKxEoTpqMbqTs9Hziuj0Nv+kDl7e+zYz70PygUZl52pTrVqOIhHD1L1HFxu6fQo/wCr0MrT/Z3GdQ+3DvHbjyknmz8uNt8nT2t9d/RH9KM4D6rE+z+Zux2BxFSpmjQnbLFauHQkvOGFwWIhCtF0J3nDKtYcb/eL5ZT8vW3CceX5m9f25Jv259ZS9jD5mz+E4rqJ9qHeN209m4mrODjQnaNOMXeUOKvf+Yw6um/8P/4cluXl5Iux/wDqP/Hn8jnHa2fs3E097moT8elKCtKHF2t/MRP4Ji+ol2od4jV09fHm4/qt2ztXyML7CP5szsP66Xsp/kScds3E1I0VGhPxKSg7yhxTf+obM2biaVSUpUJ2cJR0lDi1p/MTq7c/zcPyrN/24i4HRx/2fCfcl+swtiYvqJdqHeJeK2biZ0qEFQnenGSl40OmV/OIkrpnzYbnn/7VR/2e+2Uvf+ll0qQUotPg1b4lU2Vs3E0cRCpOhPLG97ShfVNecWmEnOGsJRbvpJq/xi2dMZqMXisplnuVFjs+FGNSUL3lB5rvjpy6OnhzOROcd2krX9R1sPhKsFOMp54uFkru6llSbu+hu/q9+nP/AIVW5LtI4c8ytmojguMl3XjExtOC9C/MsRwls2tdXS0/1HeJ4JZvcRzWXUl2AA0M4AABhoyAIH8Ipf6uflPjz9dm16iFtmlGKqZYpXpxvZcfpOk7FatGEc03ZczlbbelT2cf/YWw7opydl9lcZO2z9ol92P6UQWTtsv/ADEvux/Sjbe6PNnZfj7mA+qxPs/mQWTcA/osT7P5kG4nWmXbE/a3l0/Yw+Y2Xxrexl8htZ+PT9lD5mNlvWt7GXyK/sX/AJEInbQ8jD+yX5sgXJ20X4mH9kvzZa9Ypj21nY3139EvyIKJ2x39N/RL9JATE7qXsnz9lu2J9lp+/wDUyeQNifZafv8A1MnmLPur0uPsnsAGCq7IMGQAAAAAAAAAAAAAAAAAAAAAAAAIm1HahNptWtz5rl0HMxVSf7rQvKSb1zJtSSSva9+PxudTaVtxO6TWnHhxWr9C4nJxKaweHioXTfCKSdrPVLofTdAdHajksM1rmeWOa+qbaV7q1n6edjds++5g2221e8nd2eq1sug07Umv3WTglNPLZKzunJWtfibtnW3FO1/Js7u7T6U/Te4ESlPNjZq045Fe+d5ZaW8nh/N+CJW0pWoTd7cNdea00114e8006v8Am5RWXSOryvMvRe9l0dBu2lSc6Tio5rtXV0uDv06dHSA2d9Und2ldpN3ypvRXu+BDpuTxtSKlJRTU2s10/EUbZf5eenHpXST8FBxpQjLioq+lvwR6WHjvN5Z57WvmdracFey4IDzjaihRnJptKLdk2vxWqI+xotUItylLNqszbduC4t8r+8k4uDlSmkrtrRXS19b4GvZ9OcaSVS+a7bvl6Xf+VagR6klLGKF5RlGObScrSV0/J4dFveybib7qdnZ5XZ8nbic2FKSx7ctVZ2duCa4f/r3HQxv1NXS/iS0va+j6egCPse7puTbtKWiu2lbR2bb0dr//ADJ5z9jTbpc4p+K3HK3zvHos7nQAAAAYMgAAAABrnWjHypJdOr9KX5tfED2R546lGbhKeVrjfRcE+PDpRuVSLvaS0468NL/kaK2Dozbcks11K6k076Jap3XBAeKlehWThvFfNZWdndcufE8wpYSrJpQozn0+LFvTT3iGzsNa8Yq3G6m7acHo+jX1HvD4OjCd4Lx4q3lN2T9DfoYHijhMHUzZKWHlldpZYQdnyemjFfCYSms1SlQhG9ryhBK74LVGdnbNw+HdV0IqLqTzTs2/G97048D1tPZlDF01TxEM8FJSSu1qvV62Bn+GYfqKP+3H+xhbNw3DcUb+zj/YlpHiEY5pNWzdOoEWtgcJCLnOjQjFcZShFJe+x6js7DNJqhRaaumqcbNfA97QwdKvRlSrpOnLyk3bg7p36NTZh6MadOFOmrQhFRiuSSsgNH8Nw17bijf2cf7GXs3D9RR/24/2N+WOe+me3PW3qPckmmnwYEVbNwz4UKP+3H+xrng8HGcYSpYdTl5MXCCbtxsrak2EUkkuBFxGzKFWvSrzherSvkld6X9HBgbaOEpU3enShB2teMUnb3G8AAYMgDBkwZAAAAAAAAAAAAAAMGTBkAAAMGTBkAAAIe1nbD1G+iz+DTIrw9Sth8O4tZlaV7uOltOHFcLr8jp1aSnHLLh6G09HdaoxRoxpxUY3suF23+LA0Y3C5qG6greSlq1ZJrg+h2RtwtLJTjF2va8rXtd6vj6bm4AR6eEUasqilO8uMb+Lwtw9x42p9RP3cvOXPS3r0JZHx8JSozjBJya0Ttz9OgGvZNPLQh6fG+P/AN7+JMI+BpuFGnGStJRSavfUkAAAAPM4qSaaumrNPpR6AHilSjBWirI9gAAAAAAAAACLjMLTrWhOVpK7STs9Vbhy4P1pEohYnZ0aknO7Una3GytzV9b3afoYGhbEpOOVTna+useKvbo6LvQ2Vtj0ppJ5tEkmmr2SS5eg1fwiUU8laTlq05cU+d/Xq+djbidlqfCpOOiXF8Fbjr6L+sDz/BKN7rMn0aqys7p2tb4m3DbNpUpqUL5lHLx6G29fe+PoNC2NbhVml0R/l49KvryfO7N2F2cqVRT3k5PLleZ3vq3f1629QGNl7IpYR1XSzfSzzyzSvr6CZVpKas78yFsrZUcK6zjUqT3s3N53e1+hDbWyo4ykqcqlSmlNTvTdnpfT8fyA6BAwuyKVHE1sRDNvK1s93dackTkiBhNlRpYmviFUqSda14yfixtyQG3aez6eKoToVc2SfHK7PR34+43YahGlThThfLCKjG7u7JWWp6qQzJq9j1FWSXICD/CKX75++eNvsmTyvFt6idJXTXM8bvxs13wtboPOLob2lOm5Sipxcc0XaSurXT5gbKcFFJLgjEqSclJ3uiPsvArDUIUVOU1BWzTd29bm+VO8lK706ANgMGQAAAAGAMgwAMgwZAAwAMgwZAAxcAZBzd/PzmN/PzmB0gc3fz85jfz85gdIHN38/OY38/OYHSBzd/PzmN/PzmB0gc3fz85jfz85gdIHN38/OY38/OYHSMHO38/OY38/OYHSBzd/PzmN/PzmB0gc3fz85jfz85gdIHN38/OY38/OYHSBzd/PzmN/PzmB0gc3fz85jfz85gdIHN38/OY38/OYHSBzd/PzmN/PzmB0gc3fz85mjFbRlTS8bV8LuyXBXb5ar4gdkwVnaO08TTp3jmqN6Pdwy2UuEk5Xu0k9PSnodKniajV5O3Kzvp0a2A6oObv5+cxv5+cwOkDm7+fnMb+fnMDpA5u/n5zG/n5zA6QObv5+cxv5+cwOkDm7+fnMb+fnMDpA5u/n5zG/n5zA6QObv5+cxv5+cwOkDm7+fnMb+fnMDpGrEUc8HG9uHRyZC38/OY38/OYG1YFpNKpJXd3b3W+fx9BtWG8XK5N+Nmvd343439RF38/OY38/OYG1YGSioqrJJJJe73mY4SacvpHlcWlq7q7X5fM07+fnMb+fnMDc8E8uVVGvGu30vRK3H0G2ph80VFvRWtZcuH42fuIm/n5zG/n5zA2RwElwqvRWWnD8TdRwzhLNnk1yd/7kXfz85mHiJLVysgNv8PTvdrVNO0bcU1wv6fwRIoUMjk73zO/4t/MhRxbbaU7tcbNaeszv5+cwNZwtoQxEK1WrTU2lBtNvRWp6ZUpWfjdDj0t3LPuY8huo8gK7F43NDjkzO+ZQzNZlpO2i0vbL6L8jVBY5uEpJ6Sd7uF8klC9kvFbTzJXRZ91HkN1HkBX8OsY5reO0d541lDSNp6J8m8nHXV68vWI/elOo4NuOqjFZNFljaSbV73zcTvbqPIbqPICuQjjpKOabjpZ2VN31qeNw42VP0avQ34F4p1XvrKnl4JRte0eDWt75r3uuFrdPc3MeQ3MeQHCxeAm8I6bqVKtRO8Z5skm784tdFyNVli6baWbd51GNskmo7xKORy1fiXu59JZt1HkN1HkBXaSxd05KSzOObLkctIrinole97e497RWLc6ipXUXBqNslvIdtX4ylnt6LHf3UeQ3UeQFfxlCuo0qdJzcFGOZpxu2pRvmb1ta/kmmVfGx48ZzUYp5XbMpXastVC0XrxTZZt1HkN1HkBFBK3MeQ3MeQEUErcx5Dcx5ARQStzHkNzHkBFBK3MeQ3MeQEUErcx5Dcx5ARQStzHkNzHkBFBK3MeQ3MeQEU5W08XGFSCyykpNU5WhdR1Utb6Wtc7+5jyPE8LCTTcb2TXF2146dIHCtknHL48nf6Oc1KUHaWXKlw8t3fL3HTo08kIxvfLFK/qViXHDwXCKXqPW6jyAiglbqPIbqPICKCVuo8huo8gIoJW6jyG6jyAiglbqPIbqPICKCVuo8huo8gIoJW6jyG6jyAiglbqPIbqPICKCVuo8huo8gIoJW6jyG6jyAiglbqPIbqPICKCVuo8huo8gIoJW6jyG6jyAimrFUd5Bx014X5rgT91HkN1HkBy8JhZQnJtqz4a/6m+WnHhqSiVuo8huo8gPYAAAAAAAAAAAAAAAAAAAAAAAAAAAAAAAAAAAAAAAAAAAAAAAAAAAAAAAAAAAAAAAAAAAAAAAAAAAAAAAAPmvhCxnV4fsz748IWM6vD9mffA+lA+a+ELGdXh+zPvjwhYzq8P2Z98D6UD5r4QsZ1eH7M++PCFjOrw/Zn3wPpQPmvhCxnV4fsz748IWM6vD9mffA+lA+a+ELGdXh+zPvjwhYzq8P2Z98D6UD5r4QsZ1eH7M++PCFjOrw/Zn3wPpQPmvhCxnV4fsz748IWM6vD9mffA+lA+a+ELGdXh+zPvjwhYzq8P2Z98D6UD5r4QsZ1eH7M++PCFjOrw/Zn3wPpQPmvhCxnV4fsz748IWM6vD9mffA+lA+a+ELGdXh+zPvjwhYzq8P2Z98D6UD5r4QsZ1eH7M++PCFjOrw/Zn3wPpQPmvhCxnV4fsz748IWM6vD9mffA+lA+a+ELGdXh+zPvjwhYzq8P2Z98D6UD5r4QsZ1eH7M++PCFjOrw/Zn3wPpQPmvhCxnV4fsz748IWM6vD9mffA+lA+a+ELGdXh+zPvjwhYzq8P2Z98D6UD5r4QsZ1eH7M++PCFjOrw/Zn3wPpQPmvhCxnV4fsz748IWM6vD9mffA+lA+a+ELGdXh+zPvjwhYzq8P2Z98D6UD5r4QsZ1eH7M++PCFjOrw/Zn3wPpQPmvhCxnV4fsz748IWM6vD9mffA+lA+a+ELGdXh+zPvjwhYzq8P2Z98D6UD5r4QsZ1eH7M++PCFjOrw/Zn3wPpQPmvhCxnV4fsz748IWM6vD9mffA+lA+a+ELGdXh+zPvjwhYzq8P2Z98D6UD5r4QsZ1eH7M++PCFjOrw/Zn3wPpQPmvhCxnV4fsz748IWM6vD9mffA+lA+a+ELGdXh+zPvjwhYzq8P2Z98D6UD5r4QsZ1eH7M++PCFjOrw/Zn3wKmAAAAAAAAAAAAAAAAAAAAAAAAAAAAAAAAAAAAAAAAAAAAAAAAAAAAAAAAAAAAAAAAAAAAAAAAAAAAAAAAAAAAAAAAAAAAAAAAAAAAAAAAAAAAAAAAAAAAAAAAAAAAAAAAAAAAAAAAAAAAAAAAAAAAAAAAAAAAAAAAAAAAAAAAAAAAAAAAAAAAAAAAAAAAAAAAAAAAAAAAAAAAAAAAAAAAAAAAAAAAAAAAAAAAAAAAAAAAAAAD/2Q==\n"
              }
            ],
            "_view_module": "@jupyter-widgets/output",
            "_model_module_version": "1.0.0",
            "_view_count": null,
            "_view_module_version": "1.0.0",
            "layout": "IPY_MODEL_66d272cc2df34a9b8e717f23bb156387",
            "_model_module": "@jupyter-widgets/output"
          }
        },
        "412f8b32e75c4e6fa202b5e684c85f13": {
          "model_module": "@jupyter-widgets/output",
          "model_name": "OutputModel",
          "state": {
            "_view_name": "OutputView",
            "msg_id": "",
            "_dom_classes": [],
            "_model_name": "OutputModel",
            "outputs": [
              {
                "output_type": "stream",
                "metadata": {
                  "tags": []
                },
                "text": "Video available at https://www.bilibili.com/video/BV1kq4y1H7MQ\n",
                "stream": "stdout"
              },
              {
                "output_type": "display_data",
                "metadata": {
                  "tags": []
                },
                "text/html": "\n        <iframe\n            width=\"854\"\n            height=\"480\"\n            src=\"https://player.bilibili.com/player.html?bvid=BV1kq4y1H7MQ&page=1?fs=1\"\n            frameborder=\"0\"\n            allowfullscreen\n        ></iframe>\n        ",
                "text/plain": "<__main__.BiliVideo at 0x7fbb0842af50>"
              }
            ],
            "_view_module": "@jupyter-widgets/output",
            "_model_module_version": "1.0.0",
            "_view_count": null,
            "_view_module_version": "1.0.0",
            "layout": "IPY_MODEL_09da25df4e174ad1b183aab309f8cd83",
            "_model_module": "@jupyter-widgets/output"
          }
        },
        "66d272cc2df34a9b8e717f23bb156387": {
          "model_module": "@jupyter-widgets/base",
          "model_name": "LayoutModel",
          "state": {
            "_view_name": "LayoutView",
            "grid_template_rows": null,
            "right": null,
            "justify_content": null,
            "_view_module": "@jupyter-widgets/base",
            "overflow": null,
            "_model_module_version": "1.2.0",
            "_view_count": null,
            "flex_flow": null,
            "width": null,
            "min_width": null,
            "border": null,
            "align_items": null,
            "bottom": null,
            "_model_module": "@jupyter-widgets/base",
            "top": null,
            "grid_column": null,
            "overflow_y": null,
            "overflow_x": null,
            "grid_auto_flow": null,
            "grid_area": null,
            "grid_template_columns": null,
            "flex": null,
            "_model_name": "LayoutModel",
            "justify_items": null,
            "grid_row": null,
            "max_height": null,
            "align_content": null,
            "visibility": null,
            "align_self": null,
            "height": null,
            "min_height": null,
            "padding": null,
            "grid_auto_rows": null,
            "grid_gap": null,
            "max_width": null,
            "order": null,
            "_view_module_version": "1.2.0",
            "grid_template_areas": null,
            "object_position": null,
            "object_fit": null,
            "grid_auto_columns": null,
            "margin": null,
            "display": null,
            "left": null
          }
        },
        "09da25df4e174ad1b183aab309f8cd83": {
          "model_module": "@jupyter-widgets/base",
          "model_name": "LayoutModel",
          "state": {
            "_view_name": "LayoutView",
            "grid_template_rows": null,
            "right": null,
            "justify_content": null,
            "_view_module": "@jupyter-widgets/base",
            "overflow": null,
            "_model_module_version": "1.2.0",
            "_view_count": null,
            "flex_flow": null,
            "width": null,
            "min_width": null,
            "border": null,
            "align_items": null,
            "bottom": null,
            "_model_module": "@jupyter-widgets/base",
            "top": null,
            "grid_column": null,
            "overflow_y": null,
            "overflow_x": null,
            "grid_auto_flow": null,
            "grid_area": null,
            "grid_template_columns": null,
            "flex": null,
            "_model_name": "LayoutModel",
            "justify_items": null,
            "grid_row": null,
            "max_height": null,
            "align_content": null,
            "visibility": null,
            "align_self": null,
            "height": null,
            "min_height": null,
            "padding": null,
            "grid_auto_rows": null,
            "grid_gap": null,
            "max_width": null,
            "order": null,
            "_view_module_version": "1.2.0",
            "grid_template_areas": null,
            "object_position": null,
            "object_fit": null,
            "grid_auto_columns": null,
            "margin": null,
            "display": null,
            "left": null
          }
        }
      }
    }
  },
  "cells": [
    {
      "cell_type": "markdown",
      "metadata": {
        "id": "view-in-github",
        "colab_type": "text"
      },
      "source": [
        "<a href=\"https://colab.research.google.com/github/NeuromatchAcademy/course-content-dl/blob/w3d3_updates/tutorials/W3D3_ReinforcementLearningForGames/W3D3_Tutorial1.ipynb\" target=\"_parent\"><img src=\"https://colab.research.google.com/assets/colab-badge.svg\" alt=\"Open In Colab\"/></a>"
      ]
    },
    {
      "cell_type": "markdown",
      "metadata": {
        "execution": {},
        "id": "UplLzVoAAGVW"
      },
      "source": [
        "# Tutorial 1: Learn to play games with RL\n",
        "**Week 3, Day 3: Reinforcement Learning for Games**\n",
        "\n",
        "**By Neuromatch Academy**\n",
        "\n",
        "__Content creators:__ Raymond Chua, Blake Richards, Tim Lilicrap\n",
        "\n",
        "__Content reviewers:__ Arush Tagade, Lily Cheng, Melvin Selim Atay\n",
        "\n",
        "__Content editors:__ Melvin Selim Atay, Spiros Chavlis\n",
        "\n",
        "__Production editors:__ Namrata Bafna, Spiros Chavlis"
      ]
    },
    {
      "cell_type": "markdown",
      "metadata": {
        "execution": {},
        "id": "-FviX0QKAGVX"
      },
      "source": [
        "---\n",
        "#Tutorial Objectives\n",
        "\n",
        "In this tutotial, you will learn how to implement a game loop and improve the performance of a random player. \n",
        "\n",
        "The specific objectives for this tutorial:\n",
        "*   Understand the format of two-players games\n",
        "*   Learn about value network and policy network \n",
        "* Learn about Monte Carlo Tree Search (MCTS) and compare its performance to policy-based and value-based players\n",
        "\n"
      ]
    },
    {
      "cell_type": "code",
      "metadata": {
        "execution": {},
        "cellView": "form",
        "id": "m1kRR4UWAGVa",
        "outputId": "5e253c37-210e-4346-f183-9417685963d6",
        "colab": {
          "base_uri": "https://localhost:8080/",
          "height": 579,
          "referenced_widgets": [
            "07f9afba824944c6a4b375903605b6a0",
            "b5787313c024451f88e90c957d3f09db",
            "637c49e03ae9491c8de064a37f205c52",
            "412f8b32e75c4e6fa202b5e684c85f13",
            "66d272cc2df34a9b8e717f23bb156387",
            "09da25df4e174ad1b183aab309f8cd83"
          ]
        }
      },
      "source": [
        "# @title Video 0: Introduction\n",
        "from ipywidgets import widgets\n",
        "\n",
        "out2 = widgets.Output()\n",
        "with out2:\n",
        "  from IPython.display import IFrame\n",
        "  class BiliVideo(IFrame):\n",
        "    def __init__(self, id, page=1, width=400, height=300, **kwargs):\n",
        "      self.id=id\n",
        "      src = \"https://player.bilibili.com/player.html?bvid={0}&page={1}\".format(id, page)\n",
        "      super(BiliVideo, self).__init__(src, width, height, **kwargs)\n",
        "\n",
        "  video = BiliVideo(id=f\"BV1kq4y1H7MQ\", width=854, height=480, fs=1)\n",
        "  print(\"Video available at https://www.bilibili.com/video/{0}\".format(video.id))\n",
        "  display(video)\n",
        "\n",
        "out1 = widgets.Output()\n",
        "with out1:\n",
        "  from IPython.display import YouTubeVideo\n",
        "  video = YouTubeVideo(id=f\"v4wafEsgopE\", width=854, height=480, fs=1, rel=0)\n",
        "  print(\"Video available at https://youtube.com/watch?v=\" + video.id)\n",
        "  display(video)\n",
        "\n",
        "out = widgets.Tab([out1, out2])\n",
        "out.set_title(0, 'Youtube')\n",
        "out.set_title(1, 'Bilibili')\n",
        "\n",
        "display(out)"
      ],
      "execution_count": 1,
      "outputs": [
        {
          "output_type": "display_data",
          "data": {
            "application/vnd.jupyter.widget-view+json": {
              "model_id": "07f9afba824944c6a4b375903605b6a0",
              "version_minor": 0,
              "version_major": 2
            },
            "text/plain": [
              "Tab(children=(Output(), Output()), _titles={'0': 'Youtube', '1': 'Bilibili'})"
            ]
          },
          "metadata": {
            "tags": []
          }
        }
      ]
    },
    {
      "cell_type": "code",
      "metadata": {
        "execution": {},
        "cellView": "form",
        "id": "cE5TXS90AGVZ",
        "outputId": "8075d24a-5bb8-45f5-c050-f455bf0ac16e",
        "colab": {
          "base_uri": "https://localhost:8080/",
          "height": 500
        }
      },
      "source": [
        "# @title Tutorial slides\n",
        "\n",
        "# @markdown These are the slides for the videos in all tutorials today\n",
        "from IPython.display import IFrame\n",
        "IFrame(src=f\"https://mfr.ca-1.osf.io/render?url=https://osf.io/3zn9w/?direct%26mode=render%26action=download%26mode=render\", width=854, height=480)"
      ],
      "execution_count": 2,
      "outputs": [
        {
          "output_type": "execute_result",
          "data": {
            "text/html": [
              "\n",
              "        <iframe\n",
              "            width=\"854\"\n",
              "            height=\"480\"\n",
              "            src=\"https://mfr.ca-1.osf.io/render?url=https://osf.io/3zn9w/?direct%26mode=render%26action=download%26mode=render\"\n",
              "            frameborder=\"0\"\n",
              "            allowfullscreen\n",
              "        ></iframe>\n",
              "        "
            ],
            "text/plain": [
              "<IPython.lib.display.IFrame at 0x7fbb055a5d10>"
            ]
          },
          "metadata": {
            "tags": []
          },
          "execution_count": 2
        }
      ]
    },
    {
      "cell_type": "markdown",
      "metadata": {
        "execution": {},
        "id": "JZg4aMCrAGVa"
      },
      "source": [
        "---\n",
        "# Setup"
      ]
    },
    {
      "cell_type": "markdown",
      "metadata": {
        "execution": {},
        "id": "g622E2BFAGVb"
      },
      "source": [
        "In this section, we have:\n",
        "\n",
        "\n",
        "1.  **Import cell**: imports all libraries you use in the tutorial\n",
        "2.  **Hidden Figure settings cell**: sets up the plotting style (copy exactly)\n",
        "3. **Hidden Plotting functions cell**: contains all functions used to create plots throughout the tutorial (so students don't waste time looking at boilerplate matplotlib but can here if they wish to). Please use only matplotlib for plotting for consistency.\n",
        "4. **Hidden Helper functions cell**: This should contain functions that students have previously used or that are very simple. Any helper functions that are being used for the first time and are important should be placed directly above the relevant text or exercise (see Section 1.1 for an example)\n"
      ]
    },
    {
      "cell_type": "code",
      "metadata": {
        "execution": {},
        "id": "orB5Xc1nAGVc",
        "outputId": "bb205448-bf75-40b8-b356-c7a75b64c626",
        "colab": {
          "base_uri": "https://localhost:8080/"
        }
      },
      "source": [
        "# @title Clone a repo from github and import modules\n",
        "# @markdown Run this cell!\n",
        "!git clone https://github.com/raymondchua/nma_rl_games.git\n",
        "\n",
        "import sys\n",
        "sys.path.append('/content/nma_rl_games/alpha-zero')\n",
        "\n",
        "import Arena\n",
        "\n",
        "from utils import *\n",
        "from Game import Game\n",
        "from MCTS import MCTS\n",
        "from NeuralNet import NeuralNet\n",
        "\n",
        "from othello.OthelloPlayers import *\n",
        "from othello.OthelloLogic import Board\n",
        "from othello.OthelloGame import OthelloGame\n",
        "from othello.pytorch.NNet import NNetWrapper as NNet"
      ],
      "execution_count": 3,
      "outputs": [
        {
          "output_type": "stream",
          "text": [
            "Cloning into 'nma_rl_games'...\n",
            "remote: Enumerating objects: 158, done.\u001b[K\n",
            "remote: Counting objects: 100% (27/27), done.\u001b[K\n",
            "remote: Compressing objects: 100% (16/16), done.\u001b[K\n",
            "remote: Total 158 (delta 10), reused 27 (delta 10), pack-reused 131\u001b[K\n",
            "Receiving objects: 100% (158/158), 416.03 MiB | 33.76 MiB/s, done.\n",
            "Resolving deltas: 100% (52/52), done.\n",
            "Checking out files: 100% (45/45), done.\n"
          ],
          "name": "stdout"
        }
      ]
    },
    {
      "cell_type": "code",
      "metadata": {
        "cellView": "form",
        "id": "2xwyXVQIA0gF",
        "outputId": "395207f9-16c1-4410-a600-a6cbd2d060d8",
        "colab": {
          "base_uri": "https://localhost:8080/"
        }
      },
      "source": [
        "# @title Install dependencied\n",
        "!pip install tqdm --quiet\n",
        "!pip install coloredlogs --quiet"
      ],
      "execution_count": 4,
      "outputs": [
        {
          "output_type": "stream",
          "text": [
            "\u001b[?25l\r\u001b[K     |███████▏                        | 10 kB 25.0 MB/s eta 0:00:01\r\u001b[K     |██████████████▎                 | 20 kB 29.2 MB/s eta 0:00:01\r\u001b[K     |█████████████████████▍          | 30 kB 11.5 MB/s eta 0:00:01\r\u001b[K     |████████████████████████████▌   | 40 kB 8.9 MB/s eta 0:00:01\r\u001b[K     |████████████████████████████████| 46 kB 1.9 MB/s \n",
            "\u001b[?25h\u001b[?25l\r\u001b[K     |███▉                            | 10 kB 25.1 MB/s eta 0:00:01\r\u001b[K     |███████▋                        | 20 kB 30.8 MB/s eta 0:00:01\r\u001b[K     |███████████▍                    | 30 kB 27.9 MB/s eta 0:00:01\r\u001b[K     |███████████████▏                | 40 kB 20.2 MB/s eta 0:00:01\r\u001b[K     |███████████████████             | 51 kB 13.4 MB/s eta 0:00:01\r\u001b[K     |██████████████████████▊         | 61 kB 13.6 MB/s eta 0:00:01\r\u001b[K     |██████████████████████████▌     | 71 kB 7.5 MB/s eta 0:00:01\r\u001b[K     |██████████████████████████████▎ | 81 kB 7.9 MB/s eta 0:00:01\r\u001b[K     |████████████████████████████████| 86 kB 3.4 MB/s \n",
            "\u001b[?25h"
          ],
          "name": "stdout"
        }
      ]
    },
    {
      "cell_type": "code",
      "metadata": {
        "execution": {},
        "id": "_UDowuxvAGVd"
      },
      "source": [
        "# Imports\n",
        "from __future__ import print_function\n",
        "\n",
        "import os\n",
        "import math\n",
        "import time\n",
        "import torch\n",
        "import random\n",
        "import logging\n",
        "import argparse\n",
        "import coloredlogs\n",
        "\n",
        "import numpy as np\n",
        "import torch.nn as nn\n",
        "import torch.nn.functional as F\n",
        "import torch.optim as optim\n",
        "\n",
        "from torchvision import datasets, transforms\n",
        "from torch.autograd import Variable\n",
        "from pickle import Pickler, Unpickler\n",
        "from tqdm.notebook import tqdm\n",
        "\n",
        "from tqdm import tqdm\n",
        "from collections import deque\n",
        "from random import shuffle\n",
        "from pickle import Pickler, Unpickler\n",
        "\n",
        "log = logging.getLogger(__name__)\n",
        "\n",
        "coloredlogs.install(level='INFO')  # Change this to DEBUG to see more info."
      ],
      "execution_count": 5,
      "outputs": []
    },
    {
      "cell_type": "code",
      "metadata": {
        "execution": {},
        "cellView": "form",
        "id": "-lRxqT03AGVe"
      },
      "source": [
        "# @title Set random seed\n",
        "\n",
        "# @markdown Executing `set_seed(seed=seed)` you are setting the seed\n",
        "\n",
        "# for DL its critical to set the random seed so that students can have a\n",
        "# baseline to compare their results to expected results.\n",
        "# Read more here: https://pytorch.org/docs/stable/notes/randomness.html\n",
        "\n",
        "# Call `set_seed` function in the exercises to ensure reproducibility.\n",
        "import random\n",
        "import torch\n",
        "\n",
        "def set_seed(seed=None, seed_torch=True):\n",
        "  if seed is None:\n",
        "    seed = np.random.choice(2 ** 32)\n",
        "  random.seed(seed)\n",
        "  np.random.seed(seed)\n",
        "  if seed_torch:\n",
        "    torch.manual_seed(seed)\n",
        "    torch.cuda.manual_seed_all(seed)\n",
        "    torch.cuda.manual_seed(seed)\n",
        "    torch.backends.cudnn.benchmark = False\n",
        "    torch.backends.cudnn.deterministic = True\n",
        "\n",
        "  print(f'Random seed {seed} has been set.')\n",
        "\n",
        "\n",
        "# In case that `DataLoader` is used\n",
        "def seed_worker(worker_id):\n",
        "  worker_seed = torch.initial_seed() % 2**32\n",
        "  np.random.seed(worker_seed)\n",
        "  random.seed(worker_seed)"
      ],
      "execution_count": 6,
      "outputs": []
    },
    {
      "cell_type": "code",
      "metadata": {
        "execution": {},
        "cellView": "form",
        "id": "LzfdK-PSAGVf"
      },
      "source": [
        "# @title Set device (GPU or CPU). Execute `set_device()`\n",
        "# especially if torch modules used.\n",
        "\n",
        "# inform the user if the notebook uses GPU or CPU.\n",
        "\n",
        "def set_device():\n",
        "  device = \"cuda\" if torch.cuda.is_available() else \"cpu\"\n",
        "  if device != \"cuda\":\n",
        "    print(\"WARNING: For this notebook to perform best, \"\n",
        "        \"if possible, in the menu under `Runtime` -> \"\n",
        "        \"`Change runtime type.`  select `GPU` \")\n",
        "  else:\n",
        "    print(\"GPU is enabled in this notebook.\")\n",
        "\n",
        "  return device"
      ],
      "execution_count": 7,
      "outputs": []
    },
    {
      "cell_type": "code",
      "metadata": {
        "execution": {},
        "id": "ZTpxiMdyAGVf",
        "outputId": "e7d5b644-5fb7-433e-b878-8bdc10bb601e",
        "colab": {
          "base_uri": "https://localhost:8080/"
        }
      },
      "source": [
        "SEED = 2021\n",
        "set_seed(seed=SEED)\n",
        "DEVICE = set_device()"
      ],
      "execution_count": 8,
      "outputs": [
        {
          "output_type": "stream",
          "text": [
            "Random seed 2021 has been set.\n",
            "WARNING: For this notebook to perform best, if possible, in the menu under `Runtime` -> `Change runtime type.`  select `GPU` \n"
          ],
          "name": "stdout"
        }
      ]
    },
    {
      "cell_type": "code",
      "metadata": {
        "execution": {},
        "id": "NaiOvSYbAGVg"
      },
      "source": [
        "args = dotdict({\n",
        "    'numIters': 1,            # in training setting this was 1000 and num of episodes=100\n",
        "    'numEps': 1,              # Number of complete self-play games to simulate during a new iteration.\n",
        "    'tempThreshold': 15,      # To control exploration and exploitation\n",
        "    'updateThreshold': 0.6,   # During arena playoff, new neural net will be accepted if threshold or more of games are won.\n",
        "    'maxlenOfQueue': 200,     # Number of game examples to train the neural networks.\n",
        "    'numMCTSSims': 15,        # Number of games moves for MCTS to simulate.\n",
        "    'arenaCompare': 10,       # Number of games to play during arena play to determine if new net will be accepted.\n",
        "    'cpuct': 1,\n",
        "    'maxDepth':5,             # Maximum number of rollouts\n",
        "    'numMCsims': 5,           # Number of monte carlo simulations\n",
        "    'mc_topk': 3,             # top k actions for monte carlo rollout\n",
        "\n",
        "    'checkpoint': './temp/',\n",
        "    'load_model': False,\n",
        "    'load_folder_file': ('/dev/models/8x100x50','best.pth.tar'),\n",
        "    'numItersForTrainExamplesHistory': 20,\n",
        "\n",
        "    # define neural network arguments\n",
        "    'lr': 0.001,               # lr: learning rate\n",
        "    'dropout': 0.3,\n",
        "    'epochs': 10,\n",
        "    'batch_size': 64,\n",
        "    'cuda': torch.cuda.is_available(),\n",
        "    'num_channels': 512,\n",
        "})"
      ],
      "execution_count": 9,
      "outputs": []
    },
    {
      "cell_type": "markdown",
      "metadata": {
        "execution": {},
        "id": "8He9efvhAGVh"
      },
      "source": [
        "---\n",
        "# Section 1: Create a game/agent loop for RL"
      ]
    },
    {
      "cell_type": "code",
      "metadata": {
        "execution": {},
        "cellView": "form",
        "id": "jL7CdCGrAGVh"
      },
      "source": [
        "# @title Video 1: A game loop for RL\n",
        "from ipywidgets import widgets\n",
        "\n",
        "out2 = widgets.Output()\n",
        "with out2:\n",
        "  from IPython.display import IFrame\n",
        "  class BiliVideo(IFrame):\n",
        "    def __init__(self, id, page=1, width=400, height=300, **kwargs):\n",
        "      self.id=id\n",
        "      src = \"https://player.bilibili.com/player.html?bvid={0}&page={1}\".format(id, page)\n",
        "      super(BiliVideo, self).__init__(src, width, height, **kwargs)\n",
        "\n",
        "  video = BiliVideo(id=f\"BV1iw411979L\", width=854, height=480, fs=1)\n",
        "  print(\"Video available at https://www.bilibili.com/video/{0}\".format(video.id))\n",
        "  display(video)\n",
        "\n",
        "out1 = widgets.Output()\n",
        "with out1:\n",
        "  from IPython.display import YouTubeVideo\n",
        "  video = YouTubeVideo(id=f\"s4BK_yrknf4\", width=854, height=480, fs=1, rel=0)\n",
        "  print(\"Video available at https://youtube.com/watch?v=\" + video.id)\n",
        "  display(video)\n",
        "\n",
        "out = widgets.Tab([out1, out2])\n",
        "out.set_title(0, 'Youtube')\n",
        "out.set_title(1, 'Bilibili')\n",
        "\n",
        "display(out)"
      ],
      "execution_count": null,
      "outputs": []
    },
    {
      "cell_type": "markdown",
      "metadata": {
        "execution": {},
        "id": "UywjEkt4AGVi"
      },
      "source": [
        "\n",
        "***Goal***: How to setup a game environment with multiple players for reinforcement learning experiments.\n",
        "\n",
        "***Exercise***: \n",
        "\n",
        "\n",
        "*   Build an agent that plays random moves\n",
        "*   Connect with connect 4 game\n",
        "*   Generate games including wins and losses"
      ]
    },
    {
      "cell_type": "code",
      "metadata": {
        "execution": {},
        "id": "EY3YtucYAGVj"
      },
      "source": [
        "class OthelloGame(Game):\n",
        "  square_content = {\n",
        "      -1: \"X\",\n",
        "      +0: \"-\",\n",
        "      +1: \"O\"\n",
        "      }\n",
        "\n",
        "  @staticmethod\n",
        "  def getSquarePiece(piece):\n",
        "    return OthelloGame.square_content[piece]\n",
        "\n",
        "  def __init__(self, n):\n",
        "    self.n = n\n",
        "\n",
        "  def getInitBoard(self):\n",
        "    # return initial board (numpy board)\n",
        "    b = Board(self.n)\n",
        "    return np.array(b.pieces)\n",
        "\n",
        "  def getBoardSize(self):\n",
        "    # (a,b) tuple\n",
        "    return (self.n, self.n)\n",
        "\n",
        "  def getActionSize(self):\n",
        "    # return number of actions\n",
        "    return self.n*self.n + 1\n",
        "\n",
        "  def getNextState(self, board, player, action):\n",
        "    # if player takes action on board, return next (board,player)\n",
        "    # action must be a valid move\n",
        "    if action == self.n*self.n:\n",
        "      return (board, -player)\n",
        "    b = Board(self.n)\n",
        "    b.pieces = np.copy(board)\n",
        "    move = (int(action/self.n), action%self.n)\n",
        "    b.execute_move(move, player)\n",
        "    return (b.pieces, -player)\n",
        "\n",
        "  def getValidMoves(self, board, player):\n",
        "    # return a fixed size binary vector\n",
        "    valids = [0]*self.getActionSize()\n",
        "    b = Board(self.n)\n",
        "    b.pieces = np.copy(board)\n",
        "    legalMoves =  b.get_legal_moves(player)\n",
        "    if len(legalMoves)==0:\n",
        "      valids[-1]=1\n",
        "      return np.array(valids)\n",
        "    for x, y in legalMoves:\n",
        "      valids[self.n*x+y]=1\n",
        "    return np.array(valids)\n",
        "\n",
        "  def getGameEnded(self, board, player):\n",
        "    # return 0 if not ended, 1 if player 1 won, -1 if player 1 lost\n",
        "    # player = 1\n",
        "    b = Board(self.n)\n",
        "    b.pieces = np.copy(board)\n",
        "    if b.has_legal_moves(player):\n",
        "      return 0\n",
        "    if b.has_legal_moves(-player):\n",
        "      return 0\n",
        "    if b.countDiff(player) > 0:\n",
        "      return 1\n",
        "    return -1\n",
        "\n",
        "  def getCanonicalForm(self, board, player):\n",
        "    # return state if player==1, else return -state if player==-1\n",
        "    return player*board\n",
        "\n",
        "  def getSymmetries(self, board, pi):\n",
        "    # mirror, rotational\n",
        "    assert(len(pi) == self.n**2+1)  # 1 for pass\n",
        "    pi_board = np.reshape(pi[:-1], (self.n, self.n))\n",
        "    l = []\n",
        "\n",
        "    for i in range(1, 5):\n",
        "      for j in [True, False]:\n",
        "        newB = np.rot90(board, i)\n",
        "        newPi = np.rot90(pi_board, i)\n",
        "        if j:\n",
        "          newB = np.fliplr(newB)\n",
        "          newPi = np.fliplr(newPi)\n",
        "        l += [(newB, list(newPi.ravel()) + [pi[-1]])]\n",
        "    return l\n",
        "\n",
        "  def stringRepresentation(self, board):\n",
        "    return board.tostring()\n",
        "\n",
        "  def stringRepresentationReadable(self, board):\n",
        "    board_s = \"\".join(self.square_content[square] for row in board for square in row)\n",
        "    return board_s\n",
        "\n",
        "  def getScore(self, board, player):\n",
        "    b = Board(self.n)\n",
        "    b.pieces = np.copy(board)\n",
        "    return b.countDiff(player)\n",
        "\n",
        "  @staticmethod\n",
        "  def display(board):\n",
        "    n = board.shape[0]\n",
        "    print(\"   \", end=\"\")\n",
        "    for y in range(n):\n",
        "      print(y, end=\" \")\n",
        "    print(\"\")\n",
        "    print(\"-----------------------\")\n",
        "    for y in range(n):\n",
        "      print(y, \"|\", end=\"\")    # print the row #\n",
        "      for x in range(n):\n",
        "        piece = board[y][x]    # get the piece to print\n",
        "        print(OthelloGame.square_content[piece], end=\" \")\n",
        "      print(\"|\")\n",
        "    print(\"-----------------------\")"
      ],
      "execution_count": null,
      "outputs": []
    },
    {
      "cell_type": "markdown",
      "metadata": {
        "execution": {},
        "id": "iogOK2BrAGVk"
      },
      "source": [
        "## Section 1.1: Create a random player"
      ]
    },
    {
      "cell_type": "code",
      "metadata": {
        "execution": {},
        "id": "6qxEoI_XAGVk"
      },
      "source": [
        "class RandomPlayer():\n",
        "  def __init__(self, game):\n",
        "    self.game = game\n",
        "\n",
        "  def play(self, board):\n",
        "\n",
        "    valids = self.game.getValidMoves(board, 1)               # STUDENTS\n",
        "    prob = valids/valids.sum()                               # STUDENTS\n",
        "    a = np.random.choice(self.game.getActionSize(), p=prob)  # STUDENTS\n",
        "\n",
        "    return a"
      ],
      "execution_count": null,
      "outputs": []
    },
    {
      "cell_type": "markdown",
      "metadata": {
        "execution": {},
        "id": "y7tJMZiLAGVl"
      },
      "source": [
        "## Section 1.2. Initiate the game board\n"
      ]
    },
    {
      "cell_type": "code",
      "metadata": {
        "execution": {},
        "id": "FVKiE3h5AGVl"
      },
      "source": [
        "# Display the board\n",
        "game = OthelloGame(6)\n",
        "board = game.getInitBoard()\n",
        "game.display(board)"
      ],
      "execution_count": null,
      "outputs": []
    },
    {
      "cell_type": "code",
      "metadata": {
        "execution": {},
        "id": "9LjBhElKAGVl"
      },
      "source": [
        "# observe the game board size\n",
        "print('Board size = {}' .format(game.getBoardSize()))\n",
        "\n",
        "# observe the action size\n",
        "print('Action size = {}'.format(game.getActionSize()))"
      ],
      "execution_count": null,
      "outputs": []
    },
    {
      "cell_type": "markdown",
      "metadata": {
        "execution": {},
        "id": "nYk1R8deAGVm"
      },
      "source": [
        "## Section 1.3. Create two random agents to play against each other"
      ]
    },
    {
      "cell_type": "code",
      "metadata": {
        "execution": {},
        "id": "rsitpDXXAGVm"
      },
      "source": [
        "# define the random player\n",
        "player1 = RandomPlayer(game).play  # player 1 is a random player\n",
        "player2 = RandomPlayer(game).play  # player 2 is a random player\n",
        "\n",
        "# define number of games\n",
        "num_games = 20\n",
        "\n",
        "# start the competition\n",
        "arena = Arena.Arena(player1, player2 , game, display=None)  # to see the steps of the competition set \"display=OthelloGame.display\"\n",
        "\n",
        "result = arena.playGames(num_games, verbose=False)  # return  ( number of games won by player1, num of games won by player2, num of games won by nobody)"
      ],
      "execution_count": null,
      "outputs": []
    },
    {
      "cell_type": "code",
      "metadata": {
        "execution": {},
        "id": "mYJwezi5AGVm"
      },
      "source": [
        "print(\"\\nNumber of games won by player1 = {},\\nNumber of games won by player2 = {},\\nNumber of games won by nobody = {} out of {} games\" .format(result[0], result[1], result[2], num_games))"
      ],
      "execution_count": null,
      "outputs": []
    },
    {
      "cell_type": "markdown",
      "metadata": {
        "execution": {},
        "id": "uWigsUAoAGVn"
      },
      "source": [
        "## Section 1.4. Compute win rate for the random player (player 1)"
      ]
    },
    {
      "cell_type": "code",
      "metadata": {
        "execution": {},
        "id": "IMhOuxtzAGVn"
      },
      "source": [
        "win_rate_player1 = result[0]/num_games\n",
        "print('\\n Win rate for player 1 over 20 games: {}%'.format(win_rate_player1*100))"
      ],
      "execution_count": null,
      "outputs": []
    },
    {
      "cell_type": "markdown",
      "metadata": {
        "execution": {},
        "id": "6bDzwnNYAGVn"
      },
      "source": [
        "---\n",
        "# Section 2: Train a value function from expert game data\n",
        "**Goal:** Learn how to train a value function from a dataset of games played by an expert.\n",
        "\n",
        "\n",
        "**Exercise:** \n",
        "\n",
        "* Load a dataset of expert generated games.\n",
        "* Train a network to minimize MSE for win/loss predictions given board states sampled throughout the game. This will be done on a very small number of games. We will provide a network trained on a larger dataset.\n",
        "\n"
      ]
    },
    {
      "cell_type": "code",
      "metadata": {
        "execution": {},
        "cellView": "form",
        "id": "3LsX1To1AGVo"
      },
      "source": [
        "# @title Video 2: Train a value function\n",
        "from ipywidgets import widgets\n",
        "\n",
        "out2 = widgets.Output()\n",
        "with out2:\n",
        "  from IPython.display import IFrame\n",
        "  class BiliVideo(IFrame):\n",
        "    def __init__(self, id, page=1, width=400, height=300, **kwargs):\n",
        "      self.id=id\n",
        "      src = \"https://player.bilibili.com/player.html?bvid={0}&page={1}\".format(id, page)\n",
        "      super(BiliVideo, self).__init__(src, width, height, **kwargs)\n",
        "\n",
        "  video = BiliVideo(id=f\"BV1jf4y157xQ\", width=854, height=480, fs=1)\n",
        "  print(\"Video available at https://www.bilibili.com/video/{0}\".format(video.id))\n",
        "  display(video)\n",
        "\n",
        "out1 = widgets.Output()\n",
        "with out1:\n",
        "  from IPython.display import YouTubeVideo\n",
        "  video = YouTubeVideo(id=f\"RVo6rVP9iC0\", width=854, height=480, fs=1, rel=0)\n",
        "  print(\"Video available at https://youtube.com/watch?v=\" + video.id)\n",
        "  display(video)\n",
        "\n",
        "out = widgets.Tab([out1, out2])\n",
        "out.set_title(0, 'Youtube')\n",
        "out.set_title(1, 'Bilibili')\n",
        "\n",
        "display(out)"
      ],
      "execution_count": null,
      "outputs": []
    },
    {
      "cell_type": "markdown",
      "metadata": {
        "execution": {},
        "id": "mAtViqsPAGVo"
      },
      "source": [
        "##Some self-play info/code goes here? "
      ]
    },
    {
      "cell_type": "markdown",
      "metadata": {
        "execution": {},
        "id": "A7dQr0nNAGVo"
      },
      "source": [
        "## Section 2.1. Load expert data"
      ]
    },
    {
      "cell_type": "code",
      "metadata": {
        "execution": {},
        "id": "fvu28-1NAGVp"
      },
      "source": [
        "def loadTrainExamples(folder, filename):\n",
        "  trainExamplesHistory = []\n",
        "  modelFile = os.path.join(folder, filename)\n",
        "  examplesFile = modelFile + \".examples\"\n",
        "  if not os.path.isfile(examplesFile):\n",
        "    print(f'File \"{examplesFile}\" with trainExamples not found!')\n",
        "    r = input(\"Continue? [y|n]\")\n",
        "    if r != \"y\":\n",
        "      sys.exit()\n",
        "  else:\n",
        "    print(\"File with train examples found. Loading it...\")\n",
        "    with open(examplesFile, \"rb\") as f:\n",
        "      trainExamplesHistory = Unpickler(f).load()\n",
        "    print('Loading done!')\n",
        "    # examples based on the model were already collected (loaded)\n",
        "    return trainExamplesHistory"
      ],
      "execution_count": null,
      "outputs": []
    },
    {
      "cell_type": "code",
      "metadata": {
        "execution": {},
        "id": "RqNWW4EiAGVp"
      },
      "source": [
        "path = F\"/content/nma_rl_games/alpha-zero/pretrained_models/data/\"\n",
        "loaded_games = loadTrainExamples(folder=path, filename='checkpoint_1.pth.tar')"
      ],
      "execution_count": null,
      "outputs": []
    },
    {
      "cell_type": "markdown",
      "metadata": {
        "execution": {},
        "id": "c4unxt8wAGVp"
      },
      "source": [
        "## Section 2.2. Define the Neural Network Architecture for Othello\n"
      ]
    },
    {
      "cell_type": "markdown",
      "metadata": {
        "execution": {},
        "id": "9-M8fEm6AGVp"
      },
      "source": [
        "### Coding Exercise 2.2: Implement the NN `OthelloNNet` for Othello"
      ]
    },
    {
      "cell_type": "code",
      "metadata": {
        "execution": {},
        "id": "1_nkmgAZAGVq"
      },
      "source": [
        "class OthelloNNet(nn.Module):\n",
        "  def __init__(self, game, args):\n",
        "    # game params\n",
        "    self.board_x, self.board_y = game.getBoardSize()\n",
        "    self.action_size = game.getActionSize()\n",
        "    self.args = args\n",
        "\n",
        "    super(OthelloNNet, self).__init__()\n",
        "    self.conv1 = nn.Conv2d(1, args.num_channels, 3, stride=1, padding=1)\n",
        "    self.conv2 = nn.Conv2d(args.num_channels, args.num_channels, 3, stride=1,\n",
        "                           padding=1)\n",
        "    self.conv3 = nn.Conv2d(args.num_channels, args.num_channels, 3, stride=1)\n",
        "    self.conv4 = nn.Conv2d(args.num_channels, args.num_channels, 3, stride=1)\n",
        "\n",
        "    self.bn1 = nn.BatchNorm2d(args.num_channels)\n",
        "    self.bn2 = nn.BatchNorm2d(args.num_channels)\n",
        "    self.bn3 = nn.BatchNorm2d(args.num_channels)\n",
        "    self.bn4 = nn.BatchNorm2d(args.num_channels)\n",
        "\n",
        "    self.fc1 = nn.Linear(args.num_channels * (self.board_x - 4) * (self.board_y - 4), 1024)\n",
        "    self.fc_bn1 = nn.BatchNorm1d(1024)\n",
        "\n",
        "    self.fc2 = nn.Linear(1024, 512)\n",
        "    self.fc_bn2 = nn.BatchNorm1d(512)\n",
        "\n",
        "    self.fc3 = nn.Linear(512, self.action_size)\n",
        "\n",
        "    self.fc4 = nn.Linear(512, 1)\n",
        "\n",
        "  def forward(self, s):\n",
        "    # s: batch_size x board_x x board_y\n",
        "    s = s.view(-1, 1, self.board_x, self.board_y)                # batch_size x 1 x board_x x board_y\n",
        "    s = F.relu(self.bn1(self.conv1(s)))                          # batch_size x num_channels x board_x x board_y\n",
        "    s = F.relu(self.bn2(self.conv2(s)))                          # batch_size x num_channels x board_x x board_y\n",
        "    s = F.relu(self.bn3(self.conv3(s)))                          # batch_size x num_channels x (board_x-2) x (board_y-2)\n",
        "    s = F.relu(self.bn4(self.conv4(s)))                          # batch_size x num_channels x (board_x-4) x (board_y-4)\n",
        "    s = s.view(-1, self.args.num_channels * (self.board_x - 4) * (self.board_y - 4))\n",
        "\n",
        "    s = F.dropout(F.relu(self.fc_bn1(self.fc1(s))), p=self.args.dropout, training=self.training)  # batch_size x 1024\n",
        "    s = F.dropout(F.relu(self.fc_bn2(self.fc2(s))), p=self.args.dropout, training=self.training)  # batch_size x 512\n",
        "\n",
        "    pi = self.fc3(s)  # batch_size x action_size\n",
        "    v = self.fc4(s)   # batch_size x 1\n",
        "    #################################################\n",
        "    ## TODO for students: details of what they should do ##\n",
        "    # Fill out function and remove\n",
        "    raise NotImplementedError(\"Calculate the probability distribution and the value\")\n",
        "    #################################################\n",
        "    # return a probability distribution over actions at the current state and the value of the current state.\n",
        "    return ..., ..."
      ],
      "execution_count": null,
      "outputs": []
    },
    {
      "cell_type": "code",
      "metadata": {
        "execution": {},
        "id": "_sw8W121AGVq"
      },
      "source": [
        "# to_remove solution\n",
        "class OthelloNNet(nn.Module):\n",
        "  def __init__(self, game, args):\n",
        "    # game params\n",
        "    self.board_x, self.board_y = game.getBoardSize()\n",
        "    self.action_size = game.getActionSize()\n",
        "    self.args = args\n",
        "\n",
        "    super(OthelloNNet, self).__init__()\n",
        "    self.conv1 = nn.Conv2d(1, args.num_channels, 3, stride=1, padding=1)\n",
        "    self.conv2 = nn.Conv2d(args.num_channels, args.num_channels, 3, stride=1,\n",
        "                           padding=1)\n",
        "    self.conv3 = nn.Conv2d(args.num_channels, args.num_channels, 3, stride=1)\n",
        "    self.conv4 = nn.Conv2d(args.num_channels, args.num_channels, 3, stride=1)\n",
        "\n",
        "    self.bn1 = nn.BatchNorm2d(args.num_channels)\n",
        "    self.bn2 = nn.BatchNorm2d(args.num_channels)\n",
        "    self.bn3 = nn.BatchNorm2d(args.num_channels)\n",
        "    self.bn4 = nn.BatchNorm2d(args.num_channels)\n",
        "\n",
        "    self.fc1 = nn.Linear(args.num_channels * (self.board_x - 4) * (self.board_y - 4), 1024)\n",
        "    self.fc_bn1 = nn.BatchNorm1d(1024)\n",
        "\n",
        "    self.fc2 = nn.Linear(1024, 512)\n",
        "    self.fc_bn2 = nn.BatchNorm1d(512)\n",
        "\n",
        "    self.fc3 = nn.Linear(512, self.action_size)\n",
        "\n",
        "    self.fc4 = nn.Linear(512, 1)\n",
        "\n",
        "  def forward(self, s):\n",
        "    # s: batch_size x board_x x board_y\n",
        "    s = s.view(-1, 1, self.board_x, self.board_y)                # batch_size x 1 x board_x x board_y\n",
        "    s = F.relu(self.bn1(self.conv1(s)))                          # batch_size x num_channels x board_x x board_y\n",
        "    s = F.relu(self.bn2(self.conv2(s)))                          # batch_size x num_channels x board_x x board_y\n",
        "    s = F.relu(self.bn3(self.conv3(s)))                          # batch_size x num_channels x (board_x-2) x (board_y-2)\n",
        "    s = F.relu(self.bn4(self.conv4(s)))                          # batch_size x num_channels x (board_x-4) x (board_y-4)\n",
        "    s = s.view(-1, self.args.num_channels * (self.board_x - 4) * (self.board_y - 4))\n",
        "\n",
        "    s = F.dropout(F.relu(self.fc_bn1(self.fc1(s))), p=self.args.dropout, training=self.training)  # batch_size x 1024\n",
        "    s = F.dropout(F.relu(self.fc_bn2(self.fc2(s))), p=self.args.dropout, training=self.training)  # batch_size x 512\n",
        "\n",
        "    pi = self.fc3(s)  # batch_size x action_size\n",
        "    v = self.fc4(s)   # batch_size x 1\n",
        "\n",
        "    # return a probability distribution over actions at the current state and the value of the current state.\n",
        "    return F.log_softmax(pi, dim=1), torch.tanh(v)"
      ],
      "execution_count": null,
      "outputs": []
    },
    {
      "cell_type": "markdown",
      "metadata": {
        "execution": {},
        "id": "X3w7oIFmAGVr"
      },
      "source": [
        "## Section 2.3. Define the Value network\n",
        "\n",
        "During the training the ground truth will be uploaded from the **MCTS simulations** available at 'checkpoint_x.path.tar.examples'."
      ]
    },
    {
      "cell_type": "markdown",
      "metadata": {
        "execution": {},
        "id": "QsiNr4RoAGVr"
      },
      "source": [
        "### Coding Exercise 2.3: Implement the `ValueNetwork`"
      ]
    },
    {
      "cell_type": "code",
      "metadata": {
        "execution": {},
        "id": "eFRSCsHdAGVr"
      },
      "source": [
        "class ValueNetwork(NeuralNet):\n",
        "  def __init__(self, game):\n",
        "    self.nnet = OthelloNNet(game, args)\n",
        "    self.board_x, self.board_y = game.getBoardSize()\n",
        "    self.action_size = game.getActionSize()\n",
        "\n",
        "    if args.cuda:\n",
        "      self.nnet.cuda()\n",
        "\n",
        "  def train(self, games):\n",
        "    \"\"\"\n",
        "    examples: list of examples, each example is of form (board, pi, v)\n",
        "    \"\"\"\n",
        "    optimizer = optim.Adam(self.nnet.parameters())\n",
        "    for examples in games:\n",
        "      for epoch in range(args.epochs):\n",
        "        print('EPOCH ::: ' + str(epoch + 1))\n",
        "        self.nnet.train()\n",
        "        v_losses = []   # to store the losses per epoch\n",
        "        batch_count = int(len(examples) / args.batch_size)  # len(examples)=200, batch-size=64, batch_count=3\n",
        "        t = tqdm(range(batch_count), desc='Training Value Network')\n",
        "        for _ in t:\n",
        "          sample_ids = np.random.randint(len(examples), size=args.batch_size)  # read the ground truth information from MCTS simulation using the loaded examples\n",
        "          boards, pis, vs = list(zip(*[examples[i] for i in sample_ids]))  # length of boards, pis, vis = 64\n",
        "          boards = torch.FloatTensor(np.array(boards).astype(np.float64))\n",
        "          target_vs = torch.FloatTensor(np.array(vs).astype(np.float64))\n",
        "\n",
        "          # predict\n",
        "          if args.cuda: # to run on GPU if available\n",
        "            boards, target_vs = boards.contiguous().cuda(), target_vs.contiguous().cuda()\n",
        "\n",
        "          #################################################\n",
        "          ## TODO for students: details of what they should do ##\n",
        "          # Fill out function and remove\n",
        "          raise NotImplementedError(\"Compute the output\")\n",
        "          #################################################\n",
        "          # compute output\n",
        "          _, out_v = ...\n",
        "          l_v = ...\n",
        "          total_loss = l_v\n",
        "\n",
        "          # record loss\n",
        "          v_losses.append(l_v.item())\n",
        "          t.set_postfix(Loss_v=l_v.item())\n",
        "\n",
        "          # compute gradient and do SGD step\n",
        "          optimizer.zero_grad()\n",
        "          total_loss.backward()\n",
        "          optimizer.step()\n",
        "\n",
        "  def predict(self, board):\n",
        "    \"\"\"\n",
        "    board: np array with board\n",
        "    \"\"\"\n",
        "    # timing\n",
        "    start = time.time()\n",
        "\n",
        "    # preparing input\n",
        "    board = torch.FloatTensor(board.astype(np.float64))\n",
        "    if args.cuda:\n",
        "      board = board.contiguous().cuda()\n",
        "    board = board.view(1, self.board_x, self.board_y)\n",
        "    self.nnet.eval()\n",
        "    with torch.no_grad():\n",
        "        _, v = self.nnet(board)\n",
        "    return v.data.cpu().numpy()[0]\n",
        "\n",
        "  def loss_v(self, targets, outputs):\n",
        "    #################################################\n",
        "    ## TODO for students: details of what they should do ##\n",
        "    # Fill out function and remove\n",
        "    raise NotImplementedError(\"Calculate the loss\")\n",
        "    #################################################\n",
        "    # Mean squared error (MSE)\n",
        "    return ...\n",
        "\n",
        "  def save_checkpoint(self, folder='checkpoint', filename='checkpoint.pth.tar'):\n",
        "    filepath = os.path.join(folder, filename)\n",
        "    if not os.path.exists(folder):\n",
        "      print(\"Checkpoint Directory does not exist! Making directory {}\".format(folder))\n",
        "      os.mkdir(folder)\n",
        "    else:\n",
        "      print(\"Checkpoint Directory exists! \")\n",
        "    torch.save({'state_dict': self.nnet.state_dict(),}, filepath)\n",
        "    print(\"Model saved! \")\n",
        "\n",
        "  def load_checkpoint(self, folder='checkpoint', filename='checkpoint.pth.tar'):\n",
        "    # https://github.com/pytorch/examples/blob/master/imagenet/main.py#L98\n",
        "    filepath = os.path.join(folder, filename)\n",
        "    if not os.path.exists(filepath):\n",
        "      raise (\"No model in path {}\".format(filepath))\n",
        "    map_location = None if args.cuda else 'cpu'\n",
        "    checkpoint = torch.load(filepath, map_location=map_location)\n",
        "    self.nnet.load_state_dict(checkpoint['state_dict'])"
      ],
      "execution_count": null,
      "outputs": []
    },
    {
      "cell_type": "code",
      "metadata": {
        "execution": {},
        "id": "RjH-Ag2ZAGVs"
      },
      "source": [
        "# to_remove solution\n",
        "class ValueNetwork(NeuralNet):\n",
        "  def __init__(self, game):\n",
        "    self.nnet = OthelloNNet(game, args)\n",
        "    self.board_x, self.board_y = game.getBoardSize()\n",
        "    self.action_size = game.getActionSize()\n",
        "\n",
        "    if args.cuda:\n",
        "      self.nnet.cuda()\n",
        "\n",
        "  def train(self, games):\n",
        "    \"\"\"\n",
        "    examples: list of examples, each example is of form (board, pi, v)\n",
        "    \"\"\"\n",
        "    optimizer = optim.Adam(self.nnet.parameters())\n",
        "    for examples in games:\n",
        "      for epoch in range(args.epochs):\n",
        "        print('EPOCH ::: ' + str(epoch + 1))\n",
        "        self.nnet.train()\n",
        "        v_losses = []   # to store the losses per epoch\n",
        "        batch_count = int(len(examples) / args.batch_size)  # len(examples)=200, batch-size=64, batch_count=3\n",
        "        t = tqdm(range(batch_count), desc='Training Value Network')\n",
        "        for _ in t:\n",
        "          sample_ids = np.random.randint(len(examples), size=args.batch_size)  # read the ground truth information from MCTS simulation using the loaded examples\n",
        "          boards, pis, vs = list(zip(*[examples[i] for i in sample_ids]))  # length of boards, pis, vis = 64\n",
        "          boards = torch.FloatTensor(np.array(boards).astype(np.float64))\n",
        "          target_vs = torch.FloatTensor(np.array(vs).astype(np.float64))\n",
        "\n",
        "          # predict\n",
        "          if args.cuda: # to run on GPU if available\n",
        "            boards, target_vs = boards.contiguous().cuda(), target_vs.contiguous().cuda()\n",
        "\n",
        "          # compute output\n",
        "          _, out_v = self.nnet(boards)\n",
        "          l_v = self.loss_v(target_vs, out_v)\n",
        "          total_loss = l_v\n",
        "\n",
        "          # record loss\n",
        "          v_losses.append(l_v.item())\n",
        "          t.set_postfix(Loss_v=l_v.item())\n",
        "\n",
        "          # compute gradient and do SGD step\n",
        "          optimizer.zero_grad()\n",
        "          total_loss.backward()\n",
        "          optimizer.step()\n",
        "\n",
        "  def predict(self, board):\n",
        "    \"\"\"\n",
        "    board: np array with board\n",
        "    \"\"\"\n",
        "    # timing\n",
        "    start = time.time()\n",
        "\n",
        "    # preparing input\n",
        "    board = torch.FloatTensor(board.astype(np.float64))\n",
        "    if args.cuda:\n",
        "      board = board.contiguous().cuda()\n",
        "    board = board.view(1, self.board_x, self.board_y)\n",
        "    self.nnet.eval()\n",
        "    with torch.no_grad():\n",
        "        _, v = self.nnet(board)\n",
        "    return v.data.cpu().numpy()[0]\n",
        "\n",
        "  def loss_v(self, targets, outputs):\n",
        "    # Mean squared error (MSE)\n",
        "    return torch.sum((targets - outputs.view(-1)) ** 2) / targets.size()[0]\n",
        "\n",
        "  def save_checkpoint(self, folder='checkpoint', filename='checkpoint.pth.tar'):\n",
        "    filepath = os.path.join(folder, filename)\n",
        "    if not os.path.exists(folder):\n",
        "      print(\"Checkpoint Directory does not exist! Making directory {}\".format(folder))\n",
        "      os.mkdir(folder)\n",
        "    else:\n",
        "      print(\"Checkpoint Directory exists! \")\n",
        "    torch.save({'state_dict': self.nnet.state_dict(),}, filepath)\n",
        "    print(\"Model saved! \")\n",
        "\n",
        "  def load_checkpoint(self, folder='checkpoint', filename='checkpoint.pth.tar'):\n",
        "    # https://github.com/pytorch/examples/blob/master/imagenet/main.py#L98\n",
        "    filepath = os.path.join(folder, filename)\n",
        "    if not os.path.exists(filepath):\n",
        "      raise (\"No model in path {}\".format(filepath))\n",
        "    map_location = None if args.cuda else 'cpu'\n",
        "    checkpoint = torch.load(filepath, map_location=map_location)\n",
        "    self.nnet.load_state_dict(checkpoint['state_dict'])"
      ],
      "execution_count": null,
      "outputs": []
    },
    {
      "cell_type": "markdown",
      "metadata": {
        "execution": {},
        "id": "aEbTMqk4AGVt"
      },
      "source": [
        "## Section 2.4. Train the value network and observe the MSE loss progress"
      ]
    },
    {
      "cell_type": "code",
      "metadata": {
        "execution": {},
        "id": "TfkXT26qAGVu"
      },
      "source": [
        "game = OthelloGame(6)\n",
        "vnet = ValueNetwork(game)\n",
        "vnet.train(loaded_games)"
      ],
      "execution_count": null,
      "outputs": []
    },
    {
      "cell_type": "markdown",
      "metadata": {
        "execution": {},
        "id": "qo5oz776AGVu"
      },
      "source": [
        "---\n",
        "# Section 3: Use a trained value network to play games\n",
        "**Goal**: Learn how to use a value function in order to make a player that works better than a random player.\n",
        "\n",
        "**Exercise:**\n",
        "* Sample random valid moves and use the value function to rank them\n",
        "* Choose the best move as the action and play it\n",
        "Show that doing so beats the random player\n"
      ]
    },
    {
      "cell_type": "code",
      "metadata": {
        "execution": {},
        "cellView": "form",
        "id": "KIkIXOwwAGVu"
      },
      "source": [
        "# @title Video 3: Play games using a value function\n",
        "from ipywidgets import widgets\n",
        "\n",
        "out2 = widgets.Output()\n",
        "with out2:\n",
        "  from IPython.display import IFrame\n",
        "  class BiliVideo(IFrame):\n",
        "    def __init__(self, id, page=1, width=400, height=300, **kwargs):\n",
        "      self.id=id\n",
        "      src = \"https://player.bilibili.com/player.html?bvid={0}&page={1}\".format(id, page)\n",
        "      super(BiliVideo, self).__init__(src, width, height, **kwargs)\n",
        "\n",
        "  video = BiliVideo(id=f\"BV1u54y1J7E6\", width=854, height=480, fs=1)\n",
        "  print(\"Video available at https://www.bilibili.com/video/{0}\".format(video.id))\n",
        "  display(video)\n",
        "\n",
        "out1 = widgets.Output()\n",
        "with out1:\n",
        "  from IPython.display import YouTubeVideo\n",
        "  video = YouTubeVideo(id=f\"HreQzd7iusI\", width=854, height=480, fs=1, rel=0)\n",
        "  print(\"Video available at https://youtube.com/watch?v=\" + video.id)\n",
        "  display(video)\n",
        "\n",
        "out = widgets.Tab([out1, out2])\n",
        "out.set_title(0, 'Youtube')\n",
        "out.set_title(1, 'Bilibili')\n",
        "\n",
        "display(out)"
      ],
      "execution_count": null,
      "outputs": []
    },
    {
      "cell_type": "markdown",
      "metadata": {
        "execution": {},
        "id": "S6pOI_CkAGVv"
      },
      "source": [
        "## Coding Exercise 3.1: Value-based player"
      ]
    },
    {
      "cell_type": "code",
      "metadata": {
        "execution": {},
        "id": "Ipe8Ve-PAGVv"
      },
      "source": [
        "# you might need to change the checkpoint address based on the file name that's in your colab\n",
        "model_save_name = 'ValueNetwork.pth.tar'\n",
        "path = F\"/content/nma_rl_games/alpha-zero/pretrained_models/models/\"\n",
        "game = OthelloGame(6)\n",
        "vnet = ValueNetwork(game)\n",
        "vnet.load_checkpoint(folder=path, filename=model_save_name)"
      ],
      "execution_count": null,
      "outputs": []
    },
    {
      "cell_type": "code",
      "metadata": {
        "execution": {},
        "id": "PepgThcMAGVv"
      },
      "source": [
        "class ValueBasedPlayer():\n",
        "  def __init__(self, game, vnet):\n",
        "    self.game = game\n",
        "    self.vnet = vnet\n",
        "\n",
        "  def play(self, board):\n",
        "    valids = self.game.getValidMoves(board, 1)\n",
        "    candidates = []\n",
        "    max_num_actions = 3\n",
        "    va = np.where(valids)[0]\n",
        "    va_list = va.tolist()\n",
        "    shuffle(va_list)\n",
        "    #################################################\n",
        "    ## TODO for students: details of what they should do ##\n",
        "    # Fill out function and remove\n",
        "    raise NotImplementedError(\"Implement the value-based player\")\n",
        "    #################################################\n",
        "    for a in va_list:\n",
        "      # return next board state using getNextState() function\n",
        "      nextBoard, _ = ...\n",
        "      # predict the value of next state using value network\n",
        "      value = ...\n",
        "      # add the value and the action as a tuple to the candidate lists, note that you might need to change the sign of the value based on the player\n",
        "      candidates += ...\n",
        "\n",
        "      if len(candidates) == max_num_actions:\n",
        "        break\n",
        "\n",
        "    candidates.sort()\n",
        "\n",
        "    return candidates[0][1]\n",
        "\n",
        "\n",
        "# playing games between a value-based player and a random player\n",
        "num_games = 20\n",
        "player1 = ValueBasedPlayer(game, vnet).play\n",
        "player2 = RandomPlayer(game).play\n",
        "arena = Arena.Arena(player1, player2, game, display=OthelloGame.display)\n",
        "## Uncomment the code below to check your code!\n",
        "# result = arena.playGames(num_games, verbose=False)\n",
        "# print(result)"
      ],
      "execution_count": null,
      "outputs": []
    },
    {
      "cell_type": "code",
      "metadata": {
        "execution": {},
        "id": "rCM5lwPRAGVw"
      },
      "source": [
        "# to_remove solution\n",
        "class ValueBasedPlayer():\n",
        "  def __init__(self, game, vnet):\n",
        "    self.game = game\n",
        "    self.vnet = vnet\n",
        "\n",
        "  def play(self, board):\n",
        "    valids = self.game.getValidMoves(board, 1)\n",
        "    candidates = []\n",
        "    max_num_actions = 3\n",
        "    va = np.where(valids)[0]\n",
        "    va_list = va.tolist()\n",
        "    shuffle(va_list)\n",
        "    for a in va_list:\n",
        "      # return next board state using getNextState() function\n",
        "      nextBoard, _ = self.game.getNextState(board, 1, a)\n",
        "      # predict the value of next state using value network\n",
        "      value = self.vnet.predict(nextBoard)\n",
        "      # add the value and the action as a tuple to the candidate lists, note that you might need to change the sign of the value based on the player\n",
        "      candidates += [(-value, a)]\n",
        "\n",
        "      if len(candidates) == max_num_actions:\n",
        "        break\n",
        "\n",
        "    candidates.sort()\n",
        "\n",
        "    return candidates[0][1]\n",
        "\n",
        "\n",
        "# playing games between a value-based player and a random player\n",
        "num_games = 20\n",
        "player1 = ValueBasedPlayer(game, vnet).play\n",
        "player2 = RandomPlayer(game).play\n",
        "arena = Arena.Arena(player1, player2, game, display=OthelloGame.display)\n",
        "## Uncomment the code below to check your code!\n",
        "result = arena.playGames(num_games, verbose=False)\n",
        "print(result)"
      ],
      "execution_count": null,
      "outputs": []
    },
    {
      "cell_type": "markdown",
      "metadata": {
        "execution": {},
        "id": "vuFZbEvZAGVw"
      },
      "source": [
        "```\n",
        "Arena.playGames (1): 100%|██████████| 10/10 [00:01<00:00,  9.30it/s]\n",
        "Arena.playGames (2): 100%|██████████| 10/10 [00:00<00:00, 10.60it/s](13, 7, 0)\n",
        "```"
      ]
    },
    {
      "cell_type": "markdown",
      "metadata": {
        "execution": {},
        "id": "WMyMOvvkAGVw"
      },
      "source": [
        "**Result of pitting a value-based player against a random player**"
      ]
    },
    {
      "cell_type": "code",
      "metadata": {
        "execution": {},
        "id": "2vU4OSqUAGVx"
      },
      "source": [
        "print(\"\\nNumber of games won by player1 = {}, \\nNumber of games won by player2 = {}, \\nNumber of games won by nobody = {} out of {} games\" .format(result[0], result[1], result[2], num_games))\n",
        "\n",
        "win_rate_player1 = result[0]/num_games # result[0] is the number of times that player 1 wins\n",
        "print('\\nWin rate for player 1 over {} games: {}%'.format(num_games, win_rate_player1*100))"
      ],
      "execution_count": null,
      "outputs": []
    },
    {
      "cell_type": "markdown",
      "metadata": {
        "execution": {},
        "id": "Vl8Ij89OAGVx"
      },
      "source": [
        "---\n",
        "# Section 4: Train a policy network from expert game data\n",
        "**Goal**: How to train a policy network via supervised learning / behavioural cloning.\n",
        "\n",
        "**Exercise**:\n",
        "* Train a network to predict the next move in an expert dataset by maximizing the log likelihood of the next action."
      ]
    },
    {
      "cell_type": "code",
      "metadata": {
        "execution": {},
        "cellView": "form",
        "id": "dRQb6AriAGVx"
      },
      "source": [
        "# @title Video 4: Train a policy network\n",
        "from ipywidgets import widgets\n",
        "\n",
        "out2 = widgets.Output()\n",
        "with out2:\n",
        "  from IPython.display import IFrame\n",
        "  class BiliVideo(IFrame):\n",
        "    def __init__(self, id, page=1, width=400, height=300, **kwargs):\n",
        "      self.id=id\n",
        "      src = \"https://player.bilibili.com/player.html?bvid={0}&page={1}\".format(id, page)\n",
        "      super(BiliVideo, self).__init__(src, width, height, **kwargs)\n",
        "\n",
        "  video = BiliVideo(id=f\"BV1tg411M7Rg\", width=854, height=480, fs=1)\n",
        "  print(\"Video available at https://www.bilibili.com/video/{0}\".format(video.id))\n",
        "  display(video)\n",
        "\n",
        "out1 = widgets.Output()\n",
        "with out1:\n",
        "  from IPython.display import YouTubeVideo\n",
        "  video = YouTubeVideo(id=f\"DVSJE2d9tNI\", width=854, height=480, fs=1, rel=0)\n",
        "  print(\"Video available at https://youtube.com/watch?v=\" + video.id)\n",
        "  display(video)\n",
        "\n",
        "out = widgets.Tab([out1, out2])\n",
        "out.set_title(0, 'Youtube')\n",
        "out.set_title(1, 'Bilibili')\n",
        "\n",
        "display(out)"
      ],
      "execution_count": null,
      "outputs": []
    },
    {
      "cell_type": "markdown",
      "metadata": {
        "execution": {},
        "id": "9jRXdQihAGVy"
      },
      "source": [
        "## Coding Exercise 4.1: Implement `PolicyNetwork`"
      ]
    },
    {
      "cell_type": "code",
      "metadata": {
        "execution": {},
        "id": "XIP6jvrqAGVy"
      },
      "source": [
        "class PolicyNetwork(NeuralNet):\n",
        "  def __init__(self, game):\n",
        "    self.nnet = OthelloNNet(game, args)\n",
        "    self.board_x, self.board_y = game.getBoardSize()\n",
        "    self.action_size = game.getActionSize()\n",
        "\n",
        "    if args.cuda:\n",
        "      self.nnet.cuda()\n",
        "\n",
        "  def train(self, games):\n",
        "    \"\"\"\n",
        "    examples: list of examples, each example is of form (board, pi, v)\n",
        "    \"\"\"\n",
        "    optimizer = optim.Adam(self.nnet.parameters())\n",
        "\n",
        "    for examples in games:\n",
        "      for epoch in range(args.epochs):\n",
        "        print('EPOCH ::: ' + str(epoch + 1))\n",
        "        self.nnet.train()\n",
        "        pi_losses = []\n",
        "\n",
        "        batch_count = int(len(examples) / args.batch_size)\n",
        "\n",
        "        t = tqdm(range(batch_count), desc='Training Policy Network')\n",
        "        for _ in t:\n",
        "          sample_ids = np.random.randint(len(examples), size=args.batch_size)\n",
        "          boards, pis, _ = list(zip(*[examples[i] for i in sample_ids]))\n",
        "          boards = torch.FloatTensor(np.array(boards).astype(np.float64))\n",
        "          target_pis = torch.FloatTensor(np.array(pis))\n",
        "\n",
        "          # predict\n",
        "          if args.cuda:\n",
        "            boards, target_pis = boards.contiguous().cuda(), target_pis.contiguous().cuda()\n",
        "\n",
        "          #################################################\n",
        "          ## TODO for students: details of what they should do ##\n",
        "          # Fill out function and remove\n",
        "          raise NotImplementedError(\"Compute the output\")\n",
        "          #################################################\n",
        "          # compute output\n",
        "          out_pi, _ = ...\n",
        "          l_pi = ...\n",
        "          total_loss = l_pi\n",
        "\n",
        "          # record loss\n",
        "          pi_losses.append(l_pi.item())\n",
        "          t.set_postfix(Loss_pi=l_pi.item())\n",
        "\n",
        "          # compute gradient and do SGD step\n",
        "          optimizer.zero_grad()\n",
        "          l_pi.backward()\n",
        "          optimizer.step()\n",
        "\n",
        "  def predict(self, board):\n",
        "    \"\"\"\n",
        "    board: np array with board\n",
        "    \"\"\"\n",
        "    # timing\n",
        "    start = time.time()\n",
        "\n",
        "    # preparing input\n",
        "    board = torch.FloatTensor(board.astype(np.float64))\n",
        "    if args.cuda: board = board.contiguous().cuda()\n",
        "    board = board.view(1, self.board_x, self.board_y)\n",
        "    self.nnet.eval()\n",
        "    with torch.no_grad():\n",
        "      pi,_ = self.nnet(board)\n",
        "    return torch.exp(pi).data.cpu().numpy()[0]\n",
        "\n",
        "  def loss_pi(self, targets, outputs):\n",
        "    #################################################\n",
        "    ## TODO for students: details of what they should do ##\n",
        "    # Fill out function and remove\n",
        "    raise NotImplementedError(\"Compute the loss\")\n",
        "    #################################################\n",
        "    # loss function. Be careful with the sign!\n",
        "    return ...\n",
        "\n",
        "  def save_checkpoint(self, folder='checkpoint', filename='checkpoint.pth.tar'):\n",
        "    filepath = os.path.join(folder, filename)\n",
        "    if not os.path.exists(folder):\n",
        "      print(\"Checkpoint Directory does not exist! Making directory {}\".format(folder))\n",
        "      os.mkdir(folder)\n",
        "    else:\n",
        "      print(\"Checkpoint Directory exists! \")\n",
        "    torch.save({'state_dict': self.nnet.state_dict(),}, filepath)\n",
        "    print(\"Model saved! \")\n",
        "\n",
        "  def load_checkpoint(self, folder='checkpoint', filename='checkpoint.pth.tar'):\n",
        "    # https://github.com/pytorch/examples/blob/master/imagenet/main.py#L98\n",
        "    filepath = os.path.join(folder, filename)\n",
        "    if not os.path.exists(filepath):\n",
        "      raise (\"No model in path {}\".format(filepath))\n",
        "    map_location = None if args.cuda else 'cpu'\n",
        "    checkpoint = torch.load(filepath, map_location=map_location)\n",
        "    self.nnet.load_state_dict(checkpoint['state_dict'])\n",
        "\n",
        "\n",
        "# we use the same actor-critic network to output a policy\n",
        "# game = OthelloGame(6)\n",
        "# pnet = PolicyNetwork(game)\n",
        "# pnet.train(loaded_games)"
      ],
      "execution_count": null,
      "outputs": []
    },
    {
      "cell_type": "code",
      "metadata": {
        "execution": {},
        "id": "sLvullHXAGVy"
      },
      "source": [
        "# to_remove solution\n",
        "class PolicyNetwork(NeuralNet):\n",
        "  def __init__(self, game):\n",
        "    self.nnet = OthelloNNet(game, args)\n",
        "    self.board_x, self.board_y = game.getBoardSize()\n",
        "    self.action_size = game.getActionSize()\n",
        "\n",
        "    if args.cuda:\n",
        "      self.nnet.cuda()\n",
        "\n",
        "  def train(self, games):\n",
        "    \"\"\"\n",
        "    examples: list of examples, each example is of form (board, pi, v)\n",
        "    \"\"\"\n",
        "    optimizer = optim.Adam(self.nnet.parameters())\n",
        "\n",
        "    for examples in games:\n",
        "      for epoch in range(args.epochs):\n",
        "        print('EPOCH ::: ' + str(epoch + 1))\n",
        "        self.nnet.train()\n",
        "        pi_losses = []\n",
        "\n",
        "        batch_count = int(len(examples) / args.batch_size)\n",
        "\n",
        "        t = tqdm(range(batch_count), desc='Training Policy Network')\n",
        "        for _ in t:\n",
        "          sample_ids = np.random.randint(len(examples), size=args.batch_size)\n",
        "          boards, pis, _ = list(zip(*[examples[i] for i in sample_ids]))\n",
        "          boards = torch.FloatTensor(np.array(boards).astype(np.float64))\n",
        "          target_pis = torch.FloatTensor(np.array(pis))\n",
        "\n",
        "          # predict\n",
        "          if args.cuda:\n",
        "            boards, target_pis = boards.contiguous().cuda(), target_pis.contiguous().cuda()\n",
        "\n",
        "          # compute output\n",
        "          out_pi, _ = self.nnet(boards)\n",
        "          l_pi = self.loss_pi(target_pis, out_pi)\n",
        "          total_loss = l_pi\n",
        "\n",
        "          # record loss\n",
        "          pi_losses.append(l_pi.item())\n",
        "          t.set_postfix(Loss_pi=l_pi.item())\n",
        "\n",
        "          # compute gradient and do SGD step\n",
        "          optimizer.zero_grad()\n",
        "          l_pi.backward()\n",
        "          optimizer.step()\n",
        "\n",
        "  def predict(self, board):\n",
        "    \"\"\"\n",
        "    board: np array with board\n",
        "    \"\"\"\n",
        "    # timing\n",
        "    start = time.time()\n",
        "\n",
        "    # preparing input\n",
        "    board = torch.FloatTensor(board.astype(np.float64))\n",
        "    if args.cuda: board = board.contiguous().cuda()\n",
        "    board = board.view(1, self.board_x, self.board_y)\n",
        "    self.nnet.eval()\n",
        "    with torch.no_grad():\n",
        "      pi,_ = self.nnet(board)\n",
        "    return torch.exp(pi).data.cpu().numpy()[0]\n",
        "\n",
        "  def loss_pi(self, targets, outputs):\n",
        "    # loss function. Be careful with the sign!\n",
        "    return -torch.sum(targets * outputs) / targets.size()[0]\n",
        "\n",
        "  def save_checkpoint(self, folder='checkpoint', filename='checkpoint.pth.tar'):\n",
        "    filepath = os.path.join(folder, filename)\n",
        "    if not os.path.exists(folder):\n",
        "      print(\"Checkpoint Directory does not exist! Making directory {}\".format(folder))\n",
        "      os.mkdir(folder)\n",
        "    else:\n",
        "      print(\"Checkpoint Directory exists! \")\n",
        "    torch.save({'state_dict': self.nnet.state_dict(),}, filepath)\n",
        "    print(\"Model saved! \")\n",
        "\n",
        "  def load_checkpoint(self, folder='checkpoint', filename='checkpoint.pth.tar'):\n",
        "    # https://github.com/pytorch/examples/blob/master/imagenet/main.py#L98\n",
        "    filepath = os.path.join(folder, filename)\n",
        "    if not os.path.exists(filepath):\n",
        "      raise (\"No model in path {}\".format(filepath))\n",
        "    map_location = None if args.cuda else 'cpu'\n",
        "    checkpoint = torch.load(filepath, map_location=map_location)\n",
        "    self.nnet.load_state_dict(checkpoint['state_dict'])\n",
        "\n",
        "\n",
        "# we use the same actor-critic network to output a policy\n",
        "game = OthelloGame(6)\n",
        "pnet = PolicyNetwork(game)\n",
        "pnet.train(loaded_games)"
      ],
      "execution_count": null,
      "outputs": []
    },
    {
      "cell_type": "markdown",
      "metadata": {
        "execution": {},
        "id": "PbP5cI3jAGVz"
      },
      "source": [
        "---\n",
        "# Section 5: Use a trained policy network to play games\n",
        "**Goal**: How to use a policy network to play games.\n",
        "\n",
        "**Exercise:** \n",
        "* Use the policy network to give probabilities for the next move.\n",
        "* Build a player that takes the move given the maximum probability by the network.\n",
        "* Compare this to another player that samples moves according to the probability distribution output by the network.\n"
      ]
    },
    {
      "cell_type": "code",
      "metadata": {
        "execution": {},
        "cellView": "form",
        "id": "l7485GadAGVz"
      },
      "source": [
        "# @title Video 5: Play games using a policy network\n",
        "from ipywidgets import widgets\n",
        "\n",
        "out2 = widgets.Output()\n",
        "with out2:\n",
        "  from IPython.display import IFrame\n",
        "  class BiliVideo(IFrame):\n",
        "    def __init__(self, id, page=1, width=400, height=300, **kwargs):\n",
        "      self.id=id\n",
        "      src = \"https://player.bilibili.com/player.html?bvid={0}&page={1}\".format(id, page)\n",
        "      super(BiliVideo, self).__init__(src, width, height, **kwargs)\n",
        "\n",
        "  video = BiliVideo(id=f\"BV1DU4y1n7gD\", width=854, height=480, fs=1)\n",
        "  print(\"Video available at https://www.bilibili.com/video/{0}\".format(video.id))\n",
        "  display(video)\n",
        "\n",
        "out1 = widgets.Output()\n",
        "with out1:\n",
        "  from IPython.display import YouTubeVideo\n",
        "  video = YouTubeVideo(id=f\"hhhBmSXIZGY\", width=854, height=480, fs=1, rel=0)\n",
        "  print(\"Video available at https://youtube.com/watch?v=\" + video.id)\n",
        "  display(video)\n",
        "\n",
        "out = widgets.Tab([out1, out2])\n",
        "out.set_title(0, 'Youtube')\n",
        "out.set_title(1, 'Bilibili')\n",
        "\n",
        "display(out)"
      ],
      "execution_count": null,
      "outputs": []
    },
    {
      "cell_type": "markdown",
      "metadata": {
        "execution": {},
        "id": "2HHxldLJAGV0"
      },
      "source": [
        "## Coding Exercise 5.1: `Implement the PolicyBasedPlayer`"
      ]
    },
    {
      "cell_type": "code",
      "metadata": {
        "execution": {},
        "id": "Ry6CEd3xAGV0"
      },
      "source": [
        "# you might need to change the checkpoint address based on the file name that's in your colab\n",
        "\n",
        "model_save_name = 'PolicyNetwork.pth.tar'\n",
        "path = F\"/content/nma_rl_games/alpha-zero/pretrained_models/models/\"\n",
        "game = OthelloGame(6)\n",
        "pnet = PolicyNetwork(game)\n",
        "pnet.load_checkpoint(folder=path, filename=model_save_name)"
      ],
      "execution_count": null,
      "outputs": []
    },
    {
      "cell_type": "code",
      "metadata": {
        "execution": {},
        "id": "BobvEXLpAGV0"
      },
      "source": [
        "class PolicyBasedPlayer():\n",
        "  def __init__(self, game, pnet, greedy=True):\n",
        "    self.game = game\n",
        "    self.pnet = pnet\n",
        "    self.greedy = greedy\n",
        "\n",
        "  def play(self, board):\n",
        "    valids = self.game.getValidMoves(board, 1)\n",
        "    #################################################\n",
        "    ## TODO for students: details of what they should do ##\n",
        "    # Fill out function and remove\n",
        "    raise NotImplementedError(\"Define the play\")\n",
        "    #################################################\n",
        "    action_probs = ...\n",
        "    vap = ...  # masking invalid moves\n",
        "    sum_vap = ...\n",
        "\n",
        "    if sum_vap > 0:\n",
        "      vap /= sum_vap  # renormalize\n",
        "    else:\n",
        "      # if all valid moves were masked we make all valid moves equally probable\n",
        "      print(\"All valid moves were masked, doing a workaround.\")\n",
        "      vap = vap + valids\n",
        "      vap /= np.sum(vap)\n",
        "\n",
        "    if self.greedy:\n",
        "      # greedy policy player\n",
        "      a = np.where(vap == np.max(vap))[0][0]\n",
        "    else:\n",
        "      # sample-based policy player\n",
        "      a = np.random.choice(self.game.getActionSize(), p=vap)\n",
        "\n",
        "    return a\n",
        "\n",
        "\n",
        "# playing games\n",
        "num_games = 20\n",
        "player1 = PolicyBasedPlayer(game, pnet, greedy=True).play\n",
        "player2 = RandomPlayer(game).play\n",
        "arena = Arena.Arena(player1, player2, game, display=OthelloGame.display)\n",
        "## Uncomment below to test!\n",
        "# result = arena.playGames(num_games, verbose=False)\n",
        "# print(result)"
      ],
      "execution_count": null,
      "outputs": []
    },
    {
      "cell_type": "code",
      "metadata": {
        "execution": {},
        "id": "rTRobrSjAGV1"
      },
      "source": [
        "#to_remove solution\n",
        "class PolicyBasedPlayer():\n",
        "  def __init__(self, game, pnet, greedy=True):\n",
        "    self.game = game\n",
        "    self.pnet = pnet\n",
        "    self.greedy = greedy\n",
        "\n",
        "  def play(self, board):\n",
        "    valids = self.game.getValidMoves(board, 1)\n",
        "    action_probs = self.pnet.predict(board)\n",
        "    vap = action_probs*valids  # masking invalid moves\n",
        "    sum_vap = np.sum(vap)\n",
        "\n",
        "    if sum_vap > 0:\n",
        "      vap /= sum_vap  # renormalize\n",
        "    else:\n",
        "      # if all valid moves were masked we make all valid moves equally probable\n",
        "      print(\"All valid moves were masked, doing a workaround.\")\n",
        "      vap = vap + valids\n",
        "      vap /= np.sum(vap)\n",
        "\n",
        "    if self.greedy:\n",
        "      # greedy policy player\n",
        "      a = np.where(vap == np.max(vap))[0][0]\n",
        "    else:\n",
        "      # sample-based policy player\n",
        "      a = np.random.choice(self.game.getActionSize(), p=vap)\n",
        "\n",
        "    return a\n",
        "\n",
        "\n",
        "# playing games\n",
        "num_games = 20\n",
        "player1 = PolicyBasedPlayer(game, pnet, greedy=True).play\n",
        "player2 = RandomPlayer(game).play\n",
        "arena = Arena.Arena(player1, player2, game, display=OthelloGame.display)\n",
        "## Uncomment below to test!\n",
        "result = arena.playGames(num_games, verbose=False)\n",
        "print(result)"
      ],
      "execution_count": null,
      "outputs": []
    },
    {
      "cell_type": "code",
      "metadata": {
        "execution": {},
        "id": "CDqmu_snAGV1"
      },
      "source": [
        "win_rate_player1 = result[0] / num_games\n",
        "print('\\n Win rate for player 1 over {} games: {}%'.format(num_games, win_rate_player1*100))"
      ],
      "execution_count": null,
      "outputs": []
    },
    {
      "cell_type": "markdown",
      "metadata": {
        "execution": {},
        "id": "UToA9fgRAGV1"
      },
      "source": [
        "## Section 5.1. Comparing a player that samples from the action probablities versus the policy player which takes the maximum probability\n",
        "We can see that the greedy policy player achieves better performance than the sample based policy player."
      ]
    },
    {
      "cell_type": "code",
      "metadata": {
        "execution": {},
        "id": "zcipQLKZAGV2"
      },
      "source": [
        "num_games = 20\n",
        "game = OthelloGame(6)\n",
        "player1 = PolicyBasedPlayer(game, pnet, greedy=False).play\n",
        "player2 = RandomPlayer(game).play\n",
        "arena = Arena.Arena(player1, player2, game, display=OthelloGame.display)\n",
        "result = arena.playGames(num_games, verbose=False)\n",
        "print(result)"
      ],
      "execution_count": null,
      "outputs": []
    },
    {
      "cell_type": "code",
      "metadata": {
        "execution": {},
        "id": "96zmgXV9AGV2"
      },
      "source": [
        "win_rate_player1 = result[0]/num_games\n",
        "print('\\n Win rate for player 1 over {} games: {}%'.format(num_games, win_rate_player1*100))"
      ],
      "execution_count": null,
      "outputs": []
    },
    {
      "cell_type": "markdown",
      "metadata": {
        "execution": {},
        "id": "l9s3qXpZAGV2"
      },
      "source": [
        "## Section 5.2. Compare greedy policy based player versus value based player "
      ]
    },
    {
      "cell_type": "code",
      "metadata": {
        "execution": {},
        "id": "QYv_wr1bAGV2"
      },
      "source": [
        "num_games = 20\n",
        "game = OthelloGame(6)\n",
        "player1 = PolicyBasedPlayer(game, pnet).play\n",
        "player2 = ValueBasedPlayer(game, vnet).play\n",
        "arena = Arena.Arena(player1, player2, game, display=OthelloGame.display)\n",
        "result = arena.playGames(num_games, verbose=False)\n",
        "print(result)"
      ],
      "execution_count": null,
      "outputs": []
    },
    {
      "cell_type": "code",
      "metadata": {
        "execution": {},
        "id": "oO5h5zeAAGV3"
      },
      "source": [
        "win_rate_player1 = result[0]/num_games\n",
        "print('\\n Win rate for player 1 over {} games: {}%'.format(num_games, win_rate_player1*100))"
      ],
      "execution_count": null,
      "outputs": []
    },
    {
      "cell_type": "markdown",
      "metadata": {
        "execution": {},
        "id": "ZdVANqwWAGV3"
      },
      "source": [
        "---\n",
        "# Section 6: Plan using Monte Carlo rollouts\n",
        "\n",
        "\n",
        "**Goal**: \n",
        "Teach the students the core idea behind using simulated rollouts to understand the future and value actions.\n",
        "\n",
        "\n",
        "**Exercise**: \n",
        "* Build a loop to run Monte Carlo simulations using the policy network.\n",
        "* Use this to obtain better estimates of the value of moves.\n",
        "\n"
      ]
    },
    {
      "cell_type": "code",
      "metadata": {
        "execution": {},
        "cellView": "form",
        "id": "tEzQJeUpAGV3"
      },
      "source": [
        "# @title Video 6: Play using Monte-Carlo rollouts\n",
        "from ipywidgets import widgets\n",
        "\n",
        "out2 = widgets.Output()\n",
        "with out2:\n",
        "  from IPython.display import IFrame\n",
        "  class BiliVideo(IFrame):\n",
        "    def __init__(self, id, page=1, width=400, height=300, **kwargs):\n",
        "      self.id=id\n",
        "      src = \"https://player.bilibili.com/player.html?bvid={0}&page={1}\".format(id, page)\n",
        "      super(BiliVideo, self).__init__(src, width, height, **kwargs)\n",
        "\n",
        "  video = BiliVideo(id=f\"BV1MM4y1T77C\", width=854, height=480, fs=1)\n",
        "  print(\"Video available at https://www.bilibili.com/video/{0}\".format(video.id))\n",
        "  display(video)\n",
        "\n",
        "out1 = widgets.Output()\n",
        "with out1:\n",
        "  from IPython.display import YouTubeVideo\n",
        "  video = YouTubeVideo(id=f\"EpoIjzytpxQ\", width=854, height=480, fs=1, rel=0)\n",
        "  print(\"Video available at https://youtube.com/watch?v=\" + video.id)\n",
        "  display(video)\n",
        "\n",
        "out = widgets.Tab([out1, out2])\n",
        "out.set_title(0, 'Youtube')\n",
        "out.set_title(1, 'Bilibili')\n",
        "\n",
        "display(out)"
      ],
      "execution_count": null,
      "outputs": []
    },
    {
      "cell_type": "markdown",
      "metadata": {
        "execution": {},
        "id": "oi-eK18xAGV4"
      },
      "source": [
        "## Coding Exercise 6.1: `MonteCarlo`"
      ]
    },
    {
      "cell_type": "code",
      "metadata": {
        "execution": {},
        "id": "A257YnnLAGV4"
      },
      "source": [
        "class MonteCarlo():\n",
        "  def __init__(self, game, nnet, args):\n",
        "    self.game = game\n",
        "    self.nnet = nnet\n",
        "    self.args = args\n",
        "\n",
        "    self.Ps = {}  # stores initial policy (returned by neural net)\n",
        "    self.Es = {}  # stores game.getGameEnded ended for board s\n",
        "\n",
        "  # call this rollout\n",
        "  def simulate(self, canonicalBoard):\n",
        "    \"\"\"\n",
        "    This function performs one monte carlo rollout\n",
        "    \"\"\"\n",
        "\n",
        "    s = self.game.stringRepresentation(canonicalBoard)\n",
        "    init_start_state = s\n",
        "    temp_v = 0\n",
        "    isfirstAction = None\n",
        "\n",
        "    #################################################\n",
        "    ## TODO for students: details of what they should do ##\n",
        "    # Fill out function and remove\n",
        "    raise NotImplementedError(\"Build the loop\")\n",
        "    #################################################\n",
        "    for i in range(self.args.maxDepth): # maxDepth\n",
        "\n",
        "      if s not in self.Es:\n",
        "        self.Es[s] = self.game.getGameEnded(canonicalBoard, 1)\n",
        "      if self.Es[s] != 0:\n",
        "        # terminal state\n",
        "        temp_v= -self.Es[s]\n",
        "        break\n",
        "\n",
        "      self.Ps[s], v = self.nnet.predict(canonicalBoard)\n",
        "      valids = self.game.getValidMoves(canonicalBoard, 1)\n",
        "      self.Ps[s] = self.Ps[s] * valids  # masking invalid moves\n",
        "      sum_Ps_s = np.sum(self.Ps[s])\n",
        "\n",
        "      if sum_Ps_s > 0:\n",
        "        self.Ps[s] /= sum_Ps_s  # renormalize\n",
        "      else:\n",
        "        # if all valid moves were masked make all valid moves equally probable\n",
        "        # NB! All valid moves may be masked if either your NNet architecture is insufficient or you've get overfitting or something else.\n",
        "        # If you have got dozens or hundreds of these messages you should pay attention to your NNet and/or training process.\n",
        "        log.error(\"All valid moves were masked, doing a workaround.\")\n",
        "        self.Ps[s] = self.Ps[s] + valids\n",
        "        self.Ps[s] /= np.sum(self.Ps[s])\n",
        "\n",
        "      #################################################\n",
        "      ## TODO for students: details of what they should do ##\n",
        "      # Fill out function and remove\n",
        "      raise NotImplementedError(\"Take the action, find the next state\")\n",
        "      #################################################\n",
        "      # Take a random action\n",
        "      a = ...\n",
        "      # Find the next state and the next player\n",
        "      next_s, next_player = self.game.getNextState(..., ..., ...)\n",
        "      next_s = self.game.getCanonicalForm(..., ...)\n",
        "\n",
        "      s = self.game.stringRepresentation(next_s)\n",
        "      temp_v = v\n",
        "\n",
        "    return temp_v"
      ],
      "execution_count": null,
      "outputs": []
    },
    {
      "cell_type": "code",
      "metadata": {
        "execution": {},
        "id": "vKk2S0Y5AGV4"
      },
      "source": [
        "# to_remove solution\n",
        "class MonteCarlo():\n",
        "  def __init__(self, game, nnet, args):\n",
        "    self.game = game\n",
        "    self.nnet = nnet\n",
        "    self.args = args\n",
        "\n",
        "    self.Ps = {}  # stores initial policy (returned by neural net)\n",
        "    self.Es = {}  # stores game.getGameEnded ended for board s\n",
        "\n",
        "  # call this rollout\n",
        "  def simulate(self, canonicalBoard):\n",
        "    \"\"\"\n",
        "    This function performs one monte carlo rollout\n",
        "    \"\"\"\n",
        "\n",
        "    s = self.game.stringRepresentation(canonicalBoard)\n",
        "    init_start_state = s\n",
        "    temp_v = 0\n",
        "    isfirstAction = None\n",
        "\n",
        "    for i in range(self.args.maxDepth): # maxDepth\n",
        "\n",
        "      if s not in self.Es:\n",
        "        self.Es[s] = self.game.getGameEnded(canonicalBoard, 1)\n",
        "      if self.Es[s] != 0:\n",
        "        # terminal state\n",
        "        temp_v= -self.Es[s]\n",
        "        break\n",
        "\n",
        "      self.Ps[s], v = self.nnet.predict(canonicalBoard)\n",
        "      valids = self.game.getValidMoves(canonicalBoard, 1)\n",
        "      self.Ps[s] = self.Ps[s] * valids  # masking invalid moves\n",
        "      sum_Ps_s = np.sum(self.Ps[s])\n",
        "\n",
        "      if sum_Ps_s > 0:\n",
        "        self.Ps[s] /= sum_Ps_s  # renormalize\n",
        "      else:\n",
        "        # if all valid moves were masked make all valid moves equally probable\n",
        "        # NB! All valid moves may be masked if either your NNet architecture is insufficient or you've get overfitting or something else.\n",
        "        # If you have got dozens or hundreds of these messages you should pay attention to your NNet and/or training process.\n",
        "        log.error(\"All valid moves were masked, doing a workaround.\")\n",
        "        self.Ps[s] = self.Ps[s] + valids\n",
        "        self.Ps[s] /= np.sum(self.Ps[s])\n",
        "\n",
        "      # Take a random action\n",
        "      a = np.random.choice(self.game.getActionSize(), p=self.Ps[s])\n",
        "      # Find the next state and the next player\n",
        "      next_s, next_player = self.game.getNextState(canonicalBoard, 1, a)\n",
        "      next_s = self.game.getCanonicalForm(next_s, next_player)\n",
        "\n",
        "      s = self.game.stringRepresentation(next_s)\n",
        "      temp_v = v\n",
        "\n",
        "    return temp_v"
      ],
      "execution_count": null,
      "outputs": []
    },
    {
      "cell_type": "markdown",
      "metadata": {
        "execution": {},
        "id": "VYdsS_G2AGV5"
      },
      "source": [
        "---\n",
        "# Section 7: Use Monte Carlo simulations to play games\n",
        "\n",
        "**Goal:** \n",
        "Teach students how to use simple Monte Carlo planning to play games.\n"
      ]
    },
    {
      "cell_type": "code",
      "metadata": {
        "execution": {},
        "cellView": "form",
        "id": "SThBEeJ6AGV5"
      },
      "source": [
        "# @title Video 7: Play with planning\n",
        "from ipywidgets import widgets\n",
        "\n",
        "out2 = widgets.Output()\n",
        "with out2:\n",
        "  from IPython.display import IFrame\n",
        "  class BiliVideo(IFrame):\n",
        "    def __init__(self, id, page=1, width=400, height=300, **kwargs):\n",
        "      self.id=id\n",
        "      src = \"https://player.bilibili.com/player.html?bvid={0}&page={1}\".format(id, page)\n",
        "      super(BiliVideo, self).__init__(src, width, height, **kwargs)\n",
        "\n",
        "  video = BiliVideo(id=f\"BV1Kg411M78Y\", width=854, height=480, fs=1)\n",
        "  print(\"Video available at https://www.bilibili.com/video/{0}\".format(video.id))\n",
        "  display(video)\n",
        "\n",
        "out1 = widgets.Output()\n",
        "with out1:\n",
        "  from IPython.display import YouTubeVideo\n",
        "  video = YouTubeVideo(id=f\"-KV8DvNjn5Q\", width=854, height=480, fs=1, rel=0)\n",
        "  print(\"Video available at https://youtube.com/watch?v=\" + video.id)\n",
        "  display(video)\n",
        "\n",
        "out = widgets.Tab([out1, out2])\n",
        "out.set_title(0, 'Youtube')\n",
        "out.set_title(1, 'Bilibili')\n",
        "\n",
        "display(out)"
      ],
      "execution_count": null,
      "outputs": []
    },
    {
      "cell_type": "markdown",
      "metadata": {
        "execution": {},
        "id": "QhxhB3RNAGV5"
      },
      "source": [
        "## Coding Exercise 7.1: Monte-Carlo simulations\n",
        "\n",
        "* Incorporate Monte Carlo simulations into an agent.\n",
        "* Run the resulting player versus the random, value-based, and policy-based players."
      ]
    },
    {
      "cell_type": "code",
      "metadata": {
        "execution": {},
        "id": "f7DENqe1AGV6"
      },
      "source": [
        "class MonteCarloBasedPlayer():\n",
        "  def __init__(self, game, nnet, args):\n",
        "    self.game = game\n",
        "    self.nnet = nnet\n",
        "    self.args = args\n",
        "    #################################################\n",
        "    ## TODO for students: details of what they should do ##\n",
        "    # Fill out function and remove\n",
        "    raise NotImplementedError(\"Use Monte Carlo!\")\n",
        "    #################################################\n",
        "    self.mc = ...\n",
        "    self.K = self.args.mc_topk\n",
        "\n",
        "  def play(self, canonicalBoard):\n",
        "    self.qsa = []\n",
        "    s = self.game.stringRepresentation(canonicalBoard)\n",
        "    Ps, v = self.nnet.predict(canonicalBoard)\n",
        "    valids = self.game.getValidMoves(canonicalBoard, 1)\n",
        "    Ps = Ps * valids  # masking invalid moves\n",
        "    sum_Ps_s = np.sum(Ps)\n",
        "\n",
        "    if sum_Ps_s > 0:\n",
        "      Ps /= sum_Ps_s  # renormalize\n",
        "    else:\n",
        "      # if all valid moves were masked make all valid moves equally probable\n",
        "      # NB! All valid moves may be masked if either your NNet architecture is insufficient or you've get overfitting or something else.\n",
        "      # If you have got dozens or hundreds of these messages you should pay attention to your NNet and/or training process.\n",
        "      log = logging.getLogger(__name__)\n",
        "      log.error(\"All valid moves were masked, doing a workaround.\")\n",
        "      Ps = Ps + valids\n",
        "      Ps /= np.sum(Ps)\n",
        "\n",
        "    num_valid_actions = np.shape(np.nonzero(Ps))[1]\n",
        "\n",
        "    if num_valid_actions < self.K:\n",
        "      top_k_actions = np.argpartition(Ps,-num_valid_actions)[-num_valid_actions:]\n",
        "    else:\n",
        "      top_k_actions = np.argpartition(Ps,-self.K)[-self.K:]  # to get actions that belongs to top k prob\n",
        "    #################################################\n",
        "    ## TODO for students: details of what they should do ##\n",
        "    # Fill out function and remove\n",
        "    raise NotImplementedError(\"Loop for the top actions\")\n",
        "    #################################################\n",
        "    for action in ...:\n",
        "      next_s, next_player = self.game.getNextState(..., ..., ...)\n",
        "      next_s = self.game.getCanonicalForm(..., ...)\n",
        "\n",
        "      values = []\n",
        "\n",
        "      # do some rollouts\n",
        "      for rollout in range(self.args.numMCsims):\n",
        "        value = self.mc.simulate(canonicalBoard)\n",
        "        values.append(value)\n",
        "\n",
        "      # average out values\n",
        "      avg_value = np.mean(values)\n",
        "      self.qsa.append((avg_value, action))\n",
        "\n",
        "    self.qsa.sort(key=lambda a: a[0])\n",
        "    self.qsa.reverse()\n",
        "    best_action = self.qsa[0][1]\n",
        "    return best_action\n",
        "\n",
        "  def getActionProb(self, canonicalBoard, temp=1):\n",
        "    if self.game.getGameEnded(canonicalBoard, 1) != 0:\n",
        "      return np.zeros((self.game.getActionSize()))\n",
        "\n",
        "    else:\n",
        "      action_probs = np.zeros((self.game.getActionSize()))\n",
        "      best_action = self.play(canonicalBoard)\n",
        "      action_probs[best_action] = 1\n",
        "\n",
        "    return action_probs\n",
        "\n",
        "\n",
        "game = OthelloGame(6)\n",
        "rp = RandomPlayer(game).play  # all players\n",
        "num_games = 20  # Feel free to change this number\n",
        "\n",
        "n1 = NNet(game)  # nNet players\n",
        "args1 = dotdict({'numMCsims': 10, 'maxRollouts':5, 'maxDepth':5, 'mc_topk': 3})\n",
        "\n",
        "## Uncomment below to check Monte Carlo agent!\n",
        "# mc1 = MonteCarloBasedPlayer(game, n1, args1)\n",
        "# n1p = lambda x: np.argmax(mc1.getActionProb(x))\n",
        "# arena = Arena.Arena(n1p, rp, game, display=OthelloGame.display)\n",
        "# MC_result = arena.playGames(num_games, verbose=False)\n",
        "# print(\"\\n Number of games won by player1 = {}, num of games won by player2 = {}, num of games won by nobody = {} out of {} games\" .format(MC_result[0], MC_result[1], MC_result[2], num_games))"
      ],
      "execution_count": null,
      "outputs": []
    },
    {
      "cell_type": "code",
      "metadata": {
        "execution": {},
        "id": "Ccdc7ETYAGV6"
      },
      "source": [
        "# to_remove solution\n",
        "class MonteCarloBasedPlayer():\n",
        "  def __init__(self, game, nnet, args):\n",
        "    self.game = game\n",
        "    self.nnet = nnet\n",
        "    self.args = args\n",
        "    self.mc = MonteCarlo(game, nnet, args)\n",
        "    self.K = self.args.mc_topk\n",
        "\n",
        "  def play(self, canonicalBoard):\n",
        "    self.qsa = []\n",
        "    s = self.game.stringRepresentation(canonicalBoard)\n",
        "    Ps, v = self.nnet.predict(canonicalBoard)\n",
        "    valids = self.game.getValidMoves(canonicalBoard, 1)\n",
        "    Ps = Ps * valids  # masking invalid moves\n",
        "    sum_Ps_s = np.sum(Ps)\n",
        "\n",
        "    if sum_Ps_s > 0:\n",
        "      Ps /= sum_Ps_s  # renormalize\n",
        "    else:\n",
        "      # if all valid moves were masked make all valid moves equally probable\n",
        "      # NB! All valid moves may be masked if either your NNet architecture is insufficient or you've get overfitting or something else.\n",
        "      # If you have got dozens or hundreds of these messages you should pay attention to your NNet and/or training process.\n",
        "      log = logging.getLogger(__name__)\n",
        "      log.error(\"All valid moves were masked, doing a workaround.\")\n",
        "      Ps = Ps + valids\n",
        "      Ps /= np.sum(Ps)\n",
        "\n",
        "    num_valid_actions = np.shape(np.nonzero(Ps))[1]\n",
        "\n",
        "    if num_valid_actions < self.K:\n",
        "      top_k_actions = np.argpartition(Ps,-num_valid_actions)[-num_valid_actions:]\n",
        "    else:\n",
        "      top_k_actions = np.argpartition(Ps,-self.K)[-self.K:]  # to get actions that belongs to top k prob\n",
        "\n",
        "    for action in top_k_actions:\n",
        "      next_s, next_player = self.game.getNextState(canonicalBoard, 1, action)\n",
        "      next_s = self.game.getCanonicalForm(next_s, next_player)\n",
        "\n",
        "      values = []\n",
        "\n",
        "      # do some rollouts\n",
        "      for rollout in range(self.args.numMCsims):\n",
        "        value = self.mc.simulate(canonicalBoard)\n",
        "        values.append(value)\n",
        "\n",
        "      # average out values\n",
        "      avg_value = np.mean(values)\n",
        "      self.qsa.append((avg_value, action))\n",
        "\n",
        "    self.qsa.sort(key=lambda a: a[0])\n",
        "    self.qsa.reverse()\n",
        "    best_action = self.qsa[0][1]\n",
        "    return best_action\n",
        "\n",
        "  def getActionProb(self, canonicalBoard, temp=1):\n",
        "    if self.game.getGameEnded(canonicalBoard, 1) != 0:\n",
        "      return np.zeros((self.game.getActionSize()))\n",
        "\n",
        "    else:\n",
        "      action_probs = np.zeros((self.game.getActionSize()))\n",
        "      best_action = self.play(canonicalBoard)\n",
        "      action_probs[best_action] = 1\n",
        "\n",
        "    return action_probs\n",
        "\n",
        "\n",
        "game = OthelloGame(6)\n",
        "rp = RandomPlayer(game).play  # all players\n",
        "num_games = 20  # Feel free to change this number\n",
        "\n",
        "n1 = NNet(game)  # nNet players\n",
        "args1 = dotdict({'numMCsims': 10, 'maxRollouts':5, 'maxDepth':5, 'mc_topk': 3})\n",
        "\n",
        "## Uncomment below to check Monte Carlo agent!\n",
        "mc1 = MonteCarloBasedPlayer(game, n1, args1)\n",
        "n1p = lambda x: np.argmax(mc1.getActionProb(x))\n",
        "arena = Arena.Arena(n1p, rp, game, display=OthelloGame.display)\n",
        "MC_result = arena.playGames(num_games, verbose=False)\n",
        "print(\"\\n Number of games won by player1 = {}, num of games won by player2 = {}, num of games won by nobody = {} out of {} games\" .format(MC_result[0], MC_result[1], MC_result[2], num_games))"
      ],
      "execution_count": null,
      "outputs": []
    },
    {
      "cell_type": "markdown",
      "metadata": {
        "execution": {},
        "id": "iRoBNJFiAGV7"
      },
      "source": [
        "---\n",
        "# Section 8: Plan using Monte Carlo Tree Search\n",
        "\n",
        "**Goal:** \n",
        "Teach students to understand the core ideas behind Monte Carlo Tree Search.\n"
      ]
    },
    {
      "cell_type": "code",
      "metadata": {
        "execution": {},
        "cellView": "form",
        "id": "vmZ6-seMAGV7"
      },
      "source": [
        "# @title Video 8: Plan with MCTS\n",
        "from ipywidgets import widgets\n",
        "\n",
        "out2 = widgets.Output()\n",
        "with out2:\n",
        "  from IPython.display import IFrame\n",
        "  class BiliVideo(IFrame):\n",
        "    def __init__(self, id, page=1, width=400, height=300, **kwargs):\n",
        "      self.id=id\n",
        "      src = \"https://player.bilibili.com/player.html?bvid={0}&page={1}\".format(id, page)\n",
        "      super(BiliVideo, self).__init__(src, width, height, **kwargs)\n",
        "\n",
        "  video = BiliVideo(id=f\"BV11v411n7gg\", width=854, height=480, fs=1)\n",
        "  print(\"Video available at https://www.bilibili.com/video/{0}\".format(video.id))\n",
        "  display(video)\n",
        "\n",
        "out1 = widgets.Output()\n",
        "with out1:\n",
        "  from IPython.display import YouTubeVideo\n",
        "  video = YouTubeVideo(id=f\"tKBcMtoEzQA\", width=854, height=480, fs=1, rel=0)\n",
        "  print(\"Video available at https://youtube.com/watch?v=\" + video.id)\n",
        "  display(video)\n",
        "\n",
        "out = widgets.Tab([out1, out2])\n",
        "out.set_title(0, 'Youtube')\n",
        "out.set_title(1, 'Bilibili')\n",
        "\n",
        "display(out)"
      ],
      "execution_count": null,
      "outputs": []
    },
    {
      "cell_type": "markdown",
      "metadata": {
        "execution": {},
        "id": "Y8t8ZrMqAGV7"
      },
      "source": [
        "## Coding Exercise 8.1: MCTS planner\n",
        "\n",
        "* Plug together pre-built Selection, Expansion & Backpropagation code to complete an MCTS planner.\n",
        "* Deploy the MCTS planner to understand an interesting position, producing value estimates and action counts."
      ]
    },
    {
      "cell_type": "code",
      "metadata": {
        "execution": {},
        "id": "LO4BDhbAAGV8"
      },
      "source": [
        "class MCTS():\n",
        "  \"\"\"\n",
        "  This class handles the MCTS tree.\n",
        "  \"\"\"\n",
        "\n",
        "  def __init__(self, game, nnet, args):\n",
        "    self.game = game\n",
        "    self.nnet = nnet\n",
        "    self.args = args\n",
        "    self.Qsa = {}    # stores Q values for s,a (as defined in the paper)\n",
        "    self.Nsa = {}    # stores #times edge s,a was visited\n",
        "    self.Ns = {}     # stores #times board s was visited\n",
        "    self.Ps = {}     # stores initial policy (returned by neural net)\n",
        "    self.Es = {}     # stores game.getGameEnded ended for board s\n",
        "    self.Vs = {}     # stores game.getValidMoves for board s\n",
        "\n",
        "  def search(self, canonicalBoard):\n",
        "    \"\"\"\n",
        "    This function performs one iteration of MCTS. It is recursively called\n",
        "    till a leaf node is found. The action chosen at each node is one that\n",
        "    has the maximum upper confidence bound as in the paper.\n",
        "\n",
        "    Once a leaf node is found, the neural network is called to return an\n",
        "    initial policy P and a value v for the state. This value is propagated\n",
        "    up the search path. In case the leaf node is a terminal state, the\n",
        "    outcome is propagated up the search path. The values of Ns, Nsa, Qsa are\n",
        "    updated.\n",
        "\n",
        "    NOTE: the return values are the negative of the value of the current\n",
        "    state. This is done since v is in [-1,1] and if v is the value of a\n",
        "    state for the current player, then its value is -v for the other player.\n",
        "\n",
        "    Returns:\n",
        "        v: the negative of the value of the current canonicalBoard\n",
        "    \"\"\"\n",
        "    s = self.game.stringRepresentation(canonicalBoard)\n",
        "\n",
        "    if s not in self.Es:\n",
        "      self.Es[s] = self.game.getGameEnded(canonicalBoard, 1)\n",
        "    if self.Es[s] != 0:\n",
        "      # terminal node\n",
        "      return -self.Es[s]\n",
        "\n",
        "    if s not in self.Ps:\n",
        "      # leaf node\n",
        "      self.Ps[s], v = self.nnet.predict(canonicalBoard)\n",
        "      valids = self.game.getValidMoves(canonicalBoard, 1)\n",
        "      self.Ps[s] = self.Ps[s] * valids  # masking invalid moves\n",
        "      sum_Ps_s = np.sum(self.Ps[s])\n",
        "      if sum_Ps_s > 0:\n",
        "        self.Ps[s] /= sum_Ps_s  # renormalize\n",
        "      else:\n",
        "        # if all valid moves were masked make all valid moves equally probable\n",
        "        # NB! All valid moves may be masked if either your NNet architecture is insufficient or you've get overfitting or something else.\n",
        "        # If you have got dozens or hundreds of these messages you should pay attention to your NNet and/or training process.\n",
        "        log = logging.getLogger(__name__)\n",
        "        log.error(\"All valid moves were masked, doing a workaround.\")\n",
        "        self.Ps[s] = self.Ps[s] + valids\n",
        "        self.Ps[s] /= np.sum(self.Ps[s])\n",
        "\n",
        "      self.Vs[s] = valids\n",
        "      self.Ns[s] = 0\n",
        "\n",
        "      return -v\n",
        "\n",
        "    valids = self.Vs[s]\n",
        "    cur_best = -float('inf')\n",
        "    best_act = -1\n",
        "\n",
        "    #################################################\n",
        "    ## TODO for students: details of what they should do ##\n",
        "    # Fill out function and remove\n",
        "    raise NotImplementedError(\"Complete the for loop\")\n",
        "    #################################################\n",
        "    # pick the action with the highest upper confidence bound\n",
        "    for a in range(self.game.getActionSize()):\n",
        "      if valids[a]:\n",
        "        if (s, a) in self.Qsa:\n",
        "          u = ... + ... * ... * math.sqrt(...) / (1 + ...)\n",
        "        else:\n",
        "          u = ... * ... * math.sqrt(... + 1e-8)\n",
        "\n",
        "        if u > cur_best:\n",
        "          cur_best = u\n",
        "          best_act = a\n",
        "\n",
        "    a = best_act\n",
        "    next_s, next_player = self.game.getNextState(canonicalBoard, 1, a)\n",
        "    next_s = self.game.getCanonicalForm(next_s, next_player)\n",
        "\n",
        "    v = self.search(next_s)\n",
        "\n",
        "    if (s, a) in self.Qsa:\n",
        "      self.Qsa[(s, a)] = (self.Nsa[(s, a)] * self.Qsa[(s, a)] + v) / (self.Nsa[(s, a)] + 1)\n",
        "      self.Nsa[(s, a)] += 1\n",
        "\n",
        "    else:\n",
        "      self.Qsa[(s, a)] = v\n",
        "      self.Nsa[(s, a)] = 1\n",
        "\n",
        "    self.Ns[s] += 1\n",
        "    return -v\n",
        "\n",
        "  def getNsa(self):\n",
        "    return self.Nsa"
      ],
      "execution_count": null,
      "outputs": []
    },
    {
      "cell_type": "code",
      "metadata": {
        "execution": {},
        "id": "MkCzAOKvAGV8"
      },
      "source": [
        "# to_remove solution\n",
        "class MCTS():\n",
        "  \"\"\"\n",
        "  This class handles the MCTS tree.\n",
        "  \"\"\"\n",
        "\n",
        "  def __init__(self, game, nnet, args):\n",
        "    self.game = game\n",
        "    self.nnet = nnet\n",
        "    self.args = args\n",
        "    self.Qsa = {}    # stores Q values for s,a (as defined in the paper)\n",
        "    self.Nsa = {}    # stores #times edge s,a was visited\n",
        "    self.Ns = {}     # stores #times board s was visited\n",
        "    self.Ps = {}     # stores initial policy (returned by neural net)\n",
        "    self.Es = {}     # stores game.getGameEnded ended for board s\n",
        "    self.Vs = {}     # stores game.getValidMoves for board s\n",
        "\n",
        "  def search(self, canonicalBoard):\n",
        "    \"\"\"\n",
        "    This function performs one iteration of MCTS. It is recursively called\n",
        "    till a leaf node is found. The action chosen at each node is one that\n",
        "    has the maximum upper confidence bound as in the paper.\n",
        "\n",
        "    Once a leaf node is found, the neural network is called to return an\n",
        "    initial policy P and a value v for the state. This value is propagated\n",
        "    up the search path. In case the leaf node is a terminal state, the\n",
        "    outcome is propagated up the search path. The values of Ns, Nsa, Qsa are\n",
        "    updated.\n",
        "\n",
        "    NOTE: the return values are the negative of the value of the current\n",
        "    state. This is done since v is in [-1,1] and if v is the value of a\n",
        "    state for the current player, then its value is -v for the other player.\n",
        "\n",
        "    Returns:\n",
        "        v: the negative of the value of the current canonicalBoard\n",
        "    \"\"\"\n",
        "    s = self.game.stringRepresentation(canonicalBoard)\n",
        "\n",
        "    if s not in self.Es:\n",
        "      self.Es[s] = self.game.getGameEnded(canonicalBoard, 1)\n",
        "    if self.Es[s] != 0:\n",
        "      # terminal node\n",
        "      return -self.Es[s]\n",
        "\n",
        "    if s not in self.Ps:\n",
        "      # leaf node\n",
        "      self.Ps[s], v = self.nnet.predict(canonicalBoard)\n",
        "      valids = self.game.getValidMoves(canonicalBoard, 1)\n",
        "      self.Ps[s] = self.Ps[s] * valids  # masking invalid moves\n",
        "      sum_Ps_s = np.sum(self.Ps[s])\n",
        "      if sum_Ps_s > 0:\n",
        "        self.Ps[s] /= sum_Ps_s  # renormalize\n",
        "      else:\n",
        "        # if all valid moves were masked make all valid moves equally probable\n",
        "        # NB! All valid moves may be masked if either your NNet architecture is insufficient or you've get overfitting or something else.\n",
        "        # If you have got dozens or hundreds of these messages you should pay attention to your NNet and/or training process.\n",
        "        log = logging.getLogger(__name__)\n",
        "        log.error(\"All valid moves were masked, doing a workaround.\")\n",
        "        self.Ps[s] = self.Ps[s] + valids\n",
        "        self.Ps[s] /= np.sum(self.Ps[s])\n",
        "\n",
        "      self.Vs[s] = valids\n",
        "      self.Ns[s] = 0\n",
        "\n",
        "      return -v\n",
        "\n",
        "    valids = self.Vs[s]\n",
        "    cur_best = -float('inf')\n",
        "    best_act = -1\n",
        "\n",
        "    # pick the action with the highest upper confidence bound\n",
        "    for a in range(self.game.getActionSize()):\n",
        "      if valids[a]:\n",
        "        if (s, a) in self.Qsa:\n",
        "          u = self.Qsa[(s, a)] + self.args.cpuct * self.Ps[s][a] * math.sqrt(self.Ns[s]) / (1 + self.Nsa[(s, a)])\n",
        "        else:\n",
        "          u = self.args.cpuct * self.Ps[s][a] * math.sqrt(self.Ns[s] + 1e-8)\n",
        "\n",
        "        if u > cur_best:\n",
        "          cur_best = u\n",
        "          best_act = a\n",
        "\n",
        "    a = best_act\n",
        "    next_s, next_player = self.game.getNextState(canonicalBoard, 1, a)\n",
        "    next_s = self.game.getCanonicalForm(next_s, next_player)\n",
        "\n",
        "    v = self.search(next_s)\n",
        "\n",
        "    if (s, a) in self.Qsa:\n",
        "      self.Qsa[(s, a)] = (self.Nsa[(s, a)] * self.Qsa[(s, a)] + v) / (self.Nsa[(s, a)] + 1)\n",
        "      self.Nsa[(s, a)] += 1\n",
        "\n",
        "    else:\n",
        "      self.Qsa[(s, a)] = v\n",
        "      self.Nsa[(s, a)] = 1\n",
        "\n",
        "    self.Ns[s] += 1\n",
        "    return -v\n",
        "\n",
        "  def getNsa(self):\n",
        "    return self.Nsa"
      ],
      "execution_count": null,
      "outputs": []
    },
    {
      "cell_type": "markdown",
      "metadata": {
        "execution": {},
        "id": "tEpIEyipAGV9"
      },
      "source": [
        "---\n",
        "# Section 9: Use MCTS to play games \n",
        "\n",
        "**Goal:** \n",
        "Teach the students how to use the results of an MCTS to play games.\n",
        "\n",
        "**Exercise:** \n",
        "* Plug the MCTS planner into an agent.\n",
        "* Play games against other agents.\n",
        "* Explore the contributions of prior network, value function, number of simulations / time to play, and explore/exploit parameters.\n"
      ]
    },
    {
      "cell_type": "code",
      "metadata": {
        "execution": {},
        "cellView": "form",
        "id": "haO4D5iOAGV9"
      },
      "source": [
        "# @title Video 9: Play with MCTS\n",
        "from ipywidgets import widgets\n",
        "\n",
        "out2 = widgets.Output()\n",
        "with out2:\n",
        "  from IPython.display import IFrame\n",
        "  class BiliVideo(IFrame):\n",
        "    def __init__(self, id, page=1, width=400, height=300, **kwargs):\n",
        "      self.id=id\n",
        "      src = \"https://player.bilibili.com/player.html?bvid={0}&page={1}\".format(id, page)\n",
        "      super(BiliVideo, self).__init__(src, width, height, **kwargs)\n",
        "\n",
        "  video = BiliVideo(id=f\"BV1ng411M7Gz\", width=854, height=480, fs=1)\n",
        "  print(\"Video available at https://www.bilibili.com/video/{0}\".format(video.id))\n",
        "  display(video)\n",
        "\n",
        "out1 = widgets.Output()\n",
        "with out1:\n",
        "  from IPython.display import YouTubeVideo\n",
        "  video = YouTubeVideo(id=f\"ejG3kN_leRk\", width=854, height=480, fs=1, rel=0)\n",
        "  print(\"Video available at https://youtube.com/watch?v=\" + video.id)\n",
        "  display(video)\n",
        "\n",
        "out = widgets.Tab([out1, out2])\n",
        "out.set_title(0, 'Youtube')\n",
        "out.set_title(1, 'Bilibili')\n",
        "\n",
        "display(out)"
      ],
      "execution_count": null,
      "outputs": []
    },
    {
      "cell_type": "markdown",
      "metadata": {
        "execution": {},
        "id": "SKfs4inMAGV-"
      },
      "source": [
        "## Coding Exercise 9.1: Agent that uses an MCTS planner\n",
        "\n",
        "* Plug the MCTS planner into an agent.\n",
        "* Play games against other agents.\n",
        "* Explore the contributions of prior network, value function, number of simulations / time to play, and explore/exploit parameters."
      ]
    },
    {
      "cell_type": "code",
      "metadata": {
        "execution": {},
        "id": "V4EyJX1xAGV-"
      },
      "source": [
        "class MonteCarloTreeSearchBasedPlayer():\n",
        "  def __init__(self, game, nnet, args):\n",
        "    self.game = game\n",
        "    self.nnet = nnet\n",
        "    self.args = args\n",
        "    #################################################\n",
        "    ## TODO for students: details of what they should do ##\n",
        "    # Fill out function and remove\n",
        "    raise NotImplementedError(\"Plug the planner\")\n",
        "    #################################################\n",
        "    self.mcts = MCTS(game, nnet, args)\n",
        "\n",
        "  def play(self, canonicalBoard, temp=1):\n",
        "    for i in range(self.args.numMCTSSims):\n",
        "      self.mcts.search(canonicalBoard)\n",
        "\n",
        "    s = self.game.stringRepresentation(canonicalBoard)\n",
        "    self.Nsa = self.mcts.getNsa()\n",
        "    self.counts = [self.Nsa[(s, a)] if (s, a) in self.Nsa else 0 for a in range(self.game.getActionSize())]\n",
        "\n",
        "    if temp == 0:\n",
        "      bestAs = np.array(np.argwhere(self.counts == np.max(self.counts))).flatten()\n",
        "      bestA = np.random.choice(bestAs)\n",
        "      probs = [0] * len(self.counts)\n",
        "      probs[bestA] = 1\n",
        "      return probs\n",
        "\n",
        "    self.counts = [x ** (1. / temp) for x in self.counts]\n",
        "    self.counts_sum = float(sum(self.counts))\n",
        "    probs = [x / self.counts_sum for x in self.counts]\n",
        "    return np.argmax(probs)\n",
        "\n",
        "  def getActionProb(self, canonicalBoard, temp=1):\n",
        "    action_probs = np.zeros((self.game.getActionSize()))\n",
        "    best_action = self.play(canonicalBoard)\n",
        "    action_probs[best_action] = 1\n",
        "\n",
        "    return action_probs\n",
        "\n",
        "\n",
        "game = OthelloGame(6)\n",
        "rp = RandomPlayer(game).play  # all players\n",
        "num_games = 20  # games\n",
        "n1 = NNet(game)  # nnet players\n",
        "args1 = dotdict({'numMCTSSims': 50, 'cpuct':1.0})\n",
        "## Uncomment below to check your agent!\n",
        "# mcts1 = MonteCarloTreeSearchBasedPlayer(game, n1, args1)\n",
        "# n1p = lambda x: np.argmax(mcts1.getActionProb(x, temp=0))\n",
        "# arena = Arena.Arena(n1p, rp, game, display=OthelloGame.display)\n",
        "# MCTS_result = arena.playGames(num_games, verbose=False)\n",
        "# print(\"\\n Number of games won by player1 = {}, num of games won by player2 = {}, num of games won by nobody = {} out of {} games\" .format(MCTS_result[0], MCTS_result[1], MCTS_result[2], num_games))"
      ],
      "execution_count": null,
      "outputs": []
    },
    {
      "cell_type": "code",
      "metadata": {
        "execution": {},
        "id": "1A-jbuCLAGV-"
      },
      "source": [
        "# to_remove solution\n",
        "class MonteCarloTreeSearchBasedPlayer():\n",
        "  def __init__(self, game, nnet, args):\n",
        "    self.game = game\n",
        "    self.nnet = nnet\n",
        "    self.args = args\n",
        "    self.mcts = MCTS(game, nnet, args)\n",
        "\n",
        "  def play(self, canonicalBoard, temp=1):\n",
        "    for i in range(self.args.numMCTSSims):\n",
        "      self.mcts.search(canonicalBoard)\n",
        "\n",
        "    s = self.game.stringRepresentation(canonicalBoard)\n",
        "    self.Nsa = self.mcts.getNsa()\n",
        "    self.counts = [self.Nsa[(s, a)] if (s, a) in self.Nsa else 0 for a in range(self.game.getActionSize())]\n",
        "\n",
        "    if temp == 0:\n",
        "      bestAs = np.array(np.argwhere(self.counts == np.max(self.counts))).flatten()\n",
        "      bestA = np.random.choice(bestAs)\n",
        "      probs = [0] * len(self.counts)\n",
        "      probs[bestA] = 1\n",
        "      return probs\n",
        "\n",
        "    self.counts = [x ** (1. / temp) for x in self.counts]\n",
        "    self.counts_sum = float(sum(self.counts))\n",
        "    probs = [x / self.counts_sum for x in self.counts]\n",
        "    return np.argmax(probs)\n",
        "\n",
        "  def getActionProb(self, canonicalBoard, temp=1):\n",
        "    action_probs = np.zeros((self.game.getActionSize()))\n",
        "    best_action = self.play(canonicalBoard)\n",
        "    action_probs[best_action] = 1\n",
        "\n",
        "    return action_probs\n",
        "\n",
        "\n",
        "game = OthelloGame(6)\n",
        "rp = RandomPlayer(game).play  # all players\n",
        "num_games = 20  # games\n",
        "n1 = NNet(game)  # nnet players\n",
        "args1 = dotdict({'numMCTSSims': 50, 'cpuct':1.0})\n",
        "## Uncomment below to check your agent!\n",
        "mcts1 = MonteCarloTreeSearchBasedPlayer(game, n1, args1)\n",
        "n1p = lambda x: np.argmax(mcts1.getActionProb(x, temp=0))\n",
        "arena = Arena.Arena(n1p, rp, game, display=OthelloGame.display)\n",
        "MCTS_result = arena.playGames(num_games, verbose=False)\n",
        "print(\"\\n Number of games won by player1 = {}, num of games won by player2 = {}, num of games won by nobody = {} out of {} games\" .format(MCTS_result[0], MCTS_result[1], MCTS_result[2], num_games))"
      ],
      "execution_count": null,
      "outputs": []
    },
    {
      "cell_type": "markdown",
      "metadata": {
        "execution": {},
        "id": "TWbYQOHrAGV_"
      },
      "source": [
        "---\n",
        "# Section 10: Ethical aspects"
      ]
    },
    {
      "cell_type": "code",
      "metadata": {
        "execution": {},
        "cellView": "form",
        "id": "1D7zUbFCAGWB"
      },
      "source": [
        "# @title Video 10: Unstoppable opponents\n",
        "from ipywidgets import widgets\n",
        "\n",
        "out2 = widgets.Output()\n",
        "with out2:\n",
        "  from IPython.display import IFrame\n",
        "  class BiliVideo(IFrame):\n",
        "    def __init__(self, id, page=1, width=400, height=300, **kwargs):\n",
        "      self.id=id\n",
        "      src = \"https://player.bilibili.com/player.html?bvid={0}&page={1}\".format(id, page)\n",
        "      super(BiliVideo, self).__init__(src, width, height, **kwargs)\n",
        "\n",
        "  video = BiliVideo(id=f\"BV19M4y1K75Z\", width=854, height=480, fs=1)\n",
        "  print(\"Video available at https://www.bilibili.com/video/{0}\".format(video.id))\n",
        "  display(video)\n",
        "\n",
        "out1 = widgets.Output()\n",
        "with out1:\n",
        "  from IPython.display import YouTubeVideo\n",
        "  video = YouTubeVideo(id=f\"4LKZwDP_Qac\", width=854, height=480, fs=1, rel=0)\n",
        "  print(\"Video available at https://youtube.com/watch?v=\" + video.id)\n",
        "  display(video)\n",
        "\n",
        "out = widgets.Tab([out1, out2])\n",
        "out.set_title(0, 'Youtube')\n",
        "out.set_title(1, 'Bilibili')\n",
        "\n",
        "display(out)"
      ],
      "execution_count": null,
      "outputs": []
    },
    {
      "cell_type": "markdown",
      "metadata": {
        "execution": {},
        "id": "c9HiwM_TAGWB"
      },
      "source": [
        "---\n",
        "# Summary"
      ]
    },
    {
      "cell_type": "code",
      "metadata": {
        "execution": {},
        "cellView": "form",
        "id": "UimVojxVAGWB"
      },
      "source": [
        "# @title Video 11: Outro\n",
        "from ipywidgets import widgets\n",
        "\n",
        "out2 = widgets.Output()\n",
        "with out2:\n",
        "  from IPython.display import IFrame\n",
        "  class BiliVideo(IFrame):\n",
        "    def __init__(self, id, page=1, width=400, height=300, **kwargs):\n",
        "      self.id=id\n",
        "      src = \"https://player.bilibili.com/player.html?bvid={0}&page={1}\".format(id, page)\n",
        "      super(BiliVideo, self).__init__(src, width, height, **kwargs)\n",
        "\n",
        "  video = BiliVideo(id=f\"BV1w64y167qd\", width=854, height=480, fs=1)\n",
        "  print(\"Video available at https://www.bilibili.com/video/{0}\".format(video.id))\n",
        "  display(video)\n",
        "\n",
        "out1 = widgets.Output()\n",
        "with out1:\n",
        "  from IPython.display import YouTubeVideo\n",
        "  video = YouTubeVideo(id=f\"8JcHw-2cwtM\", width=854, height=480, fs=1, rel=0)\n",
        "  print(\"Video available at https://youtube.com/watch?v=\" + video.id)\n",
        "  display(video)\n",
        "\n",
        "out = widgets.Tab([out1, out2])\n",
        "out.set_title(0, 'Youtube')\n",
        "out.set_title(1, 'Bilibili')\n",
        "\n",
        "display(out)"
      ],
      "execution_count": null,
      "outputs": []
    }
  ]
}