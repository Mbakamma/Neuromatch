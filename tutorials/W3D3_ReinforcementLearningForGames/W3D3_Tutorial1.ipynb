{
  "nbformat": 4,
  "nbformat_minor": 0,
  "metadata": {
    "accelerator": "GPU",
    "colab": {
      "name": "W3D3_Tutorial1",
      "provenance": [],
      "collapsed_sections": [
        "qQR1gJBX-7GC"
      ],
      "toc_visible": true,
      "include_colab_link": true
    },
    "kernel": {
      "display_name": "Python 3",
      "language": "python",
      "name": "python3"
    },
    "kernelspec": {
      "display_name": "Python 3",
      "name": "python3"
    },
    "language_info": {
      "name": "python"
    },
    "widgets": {
      "application/vnd.jupyter.widget-state+json": {
        "6152d6c603d146948fd2288d52ae9a83": {
          "model_module": "@jupyter-widgets/controls",
          "model_name": "TabModel",
          "state": {
            "_view_name": "TabView",
            "_dom_classes": [],
            "_titles": {
              "0": "Youtube",
              "1": "Bilibili"
            },
            "_model_name": "TabModel",
            "_view_module": "@jupyter-widgets/controls",
            "selected_index": 0,
            "_model_module_version": "1.5.0",
            "_view_count": null,
            "_view_module_version": "1.5.0",
            "box_style": "",
            "layout": "IPY_MODEL_0c2899ff9aae4a34b35fcfddddc21286",
            "_model_module": "@jupyter-widgets/controls",
            "children": [
              "IPY_MODEL_458e92b0f5a14e8f81c7505480cd8fac",
              "IPY_MODEL_ac7489302da94ca4913c98c26f5d2169"
            ]
          }
        },
        "0c2899ff9aae4a34b35fcfddddc21286": {
          "model_module": "@jupyter-widgets/base",
          "model_name": "LayoutModel",
          "state": {
            "_view_name": "LayoutView",
            "grid_template_rows": null,
            "right": null,
            "justify_content": null,
            "_view_module": "@jupyter-widgets/base",
            "overflow": null,
            "_model_module_version": "1.2.0",
            "_view_count": null,
            "flex_flow": null,
            "width": null,
            "min_width": null,
            "border": null,
            "align_items": null,
            "bottom": null,
            "_model_module": "@jupyter-widgets/base",
            "top": null,
            "grid_column": null,
            "overflow_y": null,
            "overflow_x": null,
            "grid_auto_flow": null,
            "grid_area": null,
            "grid_template_columns": null,
            "flex": null,
            "_model_name": "LayoutModel",
            "justify_items": null,
            "grid_row": null,
            "max_height": null,
            "align_content": null,
            "visibility": null,
            "align_self": null,
            "height": null,
            "min_height": null,
            "padding": null,
            "grid_auto_rows": null,
            "grid_gap": null,
            "max_width": null,
            "order": null,
            "_view_module_version": "1.2.0",
            "grid_template_areas": null,
            "object_position": null,
            "object_fit": null,
            "grid_auto_columns": null,
            "margin": null,
            "display": null,
            "left": null
          }
        },
        "458e92b0f5a14e8f81c7505480cd8fac": {
          "model_module": "@jupyter-widgets/output",
          "model_name": "OutputModel",
          "state": {
            "_view_name": "OutputView",
            "msg_id": "",
            "_dom_classes": [],
            "_model_name": "OutputModel",
            "outputs": [
              {
                "output_type": "stream",
                "metadata": {
                  "tags": []
                },
                "text": "Video available at https://youtube.com/watch?v=v4wafEsgopE\n",
                "stream": "stdout"
              },
              {
                "output_type": "display_data",
                "metadata": {
                  "tags": []
                },
                "text/html": "\n        <iframe\n            width=\"854\"\n            height=\"480\"\n            src=\"https://www.youtube.com/embed/v4wafEsgopE?fs=1&rel=0\"\n            frameborder=\"0\"\n            allowfullscreen\n        ></iframe>\n        ",
                "text/plain": "<IPython.lib.display.YouTubeVideo at 0x7f5f92aded10>",
                "image/jpeg": "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\n"
              }
            ],
            "_view_module": "@jupyter-widgets/output",
            "_model_module_version": "1.0.0",
            "_view_count": null,
            "_view_module_version": "1.0.0",
            "layout": "IPY_MODEL_32f7ddd451c34f299e932f315458e1a0",
            "_model_module": "@jupyter-widgets/output"
          }
        },
        "ac7489302da94ca4913c98c26f5d2169": {
          "model_module": "@jupyter-widgets/output",
          "model_name": "OutputModel",
          "state": {
            "_view_name": "OutputView",
            "msg_id": "",
            "_dom_classes": [],
            "_model_name": "OutputModel",
            "outputs": [
              {
                "output_type": "stream",
                "metadata": {
                  "tags": []
                },
                "text": "Video available at https://www.bilibili.com/video/\n",
                "stream": "stdout"
              },
              {
                "output_type": "display_data",
                "metadata": {
                  "tags": []
                },
                "text/html": "\n        <iframe\n            width=\"854\"\n            height=\"480\"\n            src=\"https://player.bilibili.com/player.html?bvid=&page=1?fs=1\"\n            frameborder=\"0\"\n            allowfullscreen\n        ></iframe>\n        ",
                "text/plain": "<__main__.BiliVideo at 0x7f5f8ca54f10>"
              }
            ],
            "_view_module": "@jupyter-widgets/output",
            "_model_module_version": "1.0.0",
            "_view_count": null,
            "_view_module_version": "1.0.0",
            "layout": "IPY_MODEL_29dde7c008024e34ae683c5a282105c3",
            "_model_module": "@jupyter-widgets/output"
          }
        },
        "32f7ddd451c34f299e932f315458e1a0": {
          "model_module": "@jupyter-widgets/base",
          "model_name": "LayoutModel",
          "state": {
            "_view_name": "LayoutView",
            "grid_template_rows": null,
            "right": null,
            "justify_content": null,
            "_view_module": "@jupyter-widgets/base",
            "overflow": null,
            "_model_module_version": "1.2.0",
            "_view_count": null,
            "flex_flow": null,
            "width": null,
            "min_width": null,
            "border": null,
            "align_items": null,
            "bottom": null,
            "_model_module": "@jupyter-widgets/base",
            "top": null,
            "grid_column": null,
            "overflow_y": null,
            "overflow_x": null,
            "grid_auto_flow": null,
            "grid_area": null,
            "grid_template_columns": null,
            "flex": null,
            "_model_name": "LayoutModel",
            "justify_items": null,
            "grid_row": null,
            "max_height": null,
            "align_content": null,
            "visibility": null,
            "align_self": null,
            "height": null,
            "min_height": null,
            "padding": null,
            "grid_auto_rows": null,
            "grid_gap": null,
            "max_width": null,
            "order": null,
            "_view_module_version": "1.2.0",
            "grid_template_areas": null,
            "object_position": null,
            "object_fit": null,
            "grid_auto_columns": null,
            "margin": null,
            "display": null,
            "left": null
          }
        },
        "29dde7c008024e34ae683c5a282105c3": {
          "model_module": "@jupyter-widgets/base",
          "model_name": "LayoutModel",
          "state": {
            "_view_name": "LayoutView",
            "grid_template_rows": null,
            "right": null,
            "justify_content": null,
            "_view_module": "@jupyter-widgets/base",
            "overflow": null,
            "_model_module_version": "1.2.0",
            "_view_count": null,
            "flex_flow": null,
            "width": null,
            "min_width": null,
            "border": null,
            "align_items": null,
            "bottom": null,
            "_model_module": "@jupyter-widgets/base",
            "top": null,
            "grid_column": null,
            "overflow_y": null,
            "overflow_x": null,
            "grid_auto_flow": null,
            "grid_area": null,
            "grid_template_columns": null,
            "flex": null,
            "_model_name": "LayoutModel",
            "justify_items": null,
            "grid_row": null,
            "max_height": null,
            "align_content": null,
            "visibility": null,
            "align_self": null,
            "height": null,
            "min_height": null,
            "padding": null,
            "grid_auto_rows": null,
            "grid_gap": null,
            "max_width": null,
            "order": null,
            "_view_module_version": "1.2.0",
            "grid_template_areas": null,
            "object_position": null,
            "object_fit": null,
            "grid_auto_columns": null,
            "margin": null,
            "display": null,
            "left": null
          }
        },
        "fab356024b9a4f00bf586e3afff0d91e": {
          "model_module": "@jupyter-widgets/controls",
          "model_name": "TabModel",
          "state": {
            "_view_name": "TabView",
            "_dom_classes": [],
            "_titles": {
              "0": "Youtube",
              "1": "Bilibili"
            },
            "_model_name": "TabModel",
            "_view_module": "@jupyter-widgets/controls",
            "selected_index": 0,
            "_model_module_version": "1.5.0",
            "_view_count": null,
            "_view_module_version": "1.5.0",
            "box_style": "",
            "layout": "IPY_MODEL_d2b4493f4d054fa7b309868607f9742c",
            "_model_module": "@jupyter-widgets/controls",
            "children": [
              "IPY_MODEL_6b980089dfd54201bee0413869aa9b8d",
              "IPY_MODEL_f4a63f7af4614ccc9978ec746f4f3a81"
            ]
          }
        },
        "d2b4493f4d054fa7b309868607f9742c": {
          "model_module": "@jupyter-widgets/base",
          "model_name": "LayoutModel",
          "state": {
            "_view_name": "LayoutView",
            "grid_template_rows": null,
            "right": null,
            "justify_content": null,
            "_view_module": "@jupyter-widgets/base",
            "overflow": null,
            "_model_module_version": "1.2.0",
            "_view_count": null,
            "flex_flow": null,
            "width": null,
            "min_width": null,
            "border": null,
            "align_items": null,
            "bottom": null,
            "_model_module": "@jupyter-widgets/base",
            "top": null,
            "grid_column": null,
            "overflow_y": null,
            "overflow_x": null,
            "grid_auto_flow": null,
            "grid_area": null,
            "grid_template_columns": null,
            "flex": null,
            "_model_name": "LayoutModel",
            "justify_items": null,
            "grid_row": null,
            "max_height": null,
            "align_content": null,
            "visibility": null,
            "align_self": null,
            "height": null,
            "min_height": null,
            "padding": null,
            "grid_auto_rows": null,
            "grid_gap": null,
            "max_width": null,
            "order": null,
            "_view_module_version": "1.2.0",
            "grid_template_areas": null,
            "object_position": null,
            "object_fit": null,
            "grid_auto_columns": null,
            "margin": null,
            "display": null,
            "left": null
          }
        },
        "6b980089dfd54201bee0413869aa9b8d": {
          "model_module": "@jupyter-widgets/output",
          "model_name": "OutputModel",
          "state": {
            "_view_name": "OutputView",
            "msg_id": "",
            "_dom_classes": [],
            "_model_name": "OutputModel",
            "outputs": [
              {
                "output_type": "stream",
                "metadata": {
                  "tags": []
                },
                "text": "Video available at https://youtube.com/watch?v=s4BK_yrknf4\n",
                "stream": "stdout"
              },
              {
                "output_type": "display_data",
                "metadata": {
                  "tags": []
                },
                "text/html": "\n        <iframe\n            width=\"854\"\n            height=\"480\"\n            src=\"https://www.youtube.com/embed/s4BK_yrknf4?fs=1&rel=0\"\n            frameborder=\"0\"\n            allowfullscreen\n        ></iframe>\n        ",
                "text/plain": "<IPython.lib.display.YouTubeVideo at 0x7f5f8bf7c290>",
                "image/jpeg": "/9j/4AAQSkZJRgABAQAAAQABAAD/2wCEABALDBoYFhsaGRoeHRsfIzMlIiIhIjUvMSkwNTU+MjgvMi81P1BFNThLOzUzRWFFS1NWXV5bMkFlbWRYbFBZW1cBERISGRUZLRsbMFc9OUJXV1dXV11XV1dXV1dXXVdXV1dXV11XV1dXV1dXV1ddV1ddV1ddV1ddV1dXXV1XV1dXXf/AABEIAWgB4AMBIgACEQEDEQH/xAAbAAEAAgMBAQAAAAAAAAAAAAAABAUBAwYCB//EAEMQAAIBAgMFBgUBBgQFBAMBAAECAAMRBBIhBRMxQVEXIlNhktIyUnGBkQYUFSNCobEWcsHwJDNisuE0Q3OigtHxB//EABgBAQEBAQEAAAAAAAAAAAAAAAABAwIE/8QAHhEBAQACAgIDAAAAAAAAAAAAAAECESExEkEDEyL/2gAMAwEAAhEDEQA/APn8REBERAREQEREBERAREQEREBERAREQEREBERAREQEREBERAREQEREBERAREQEREBERAREQEREBERAREQEREBERAREQEREBERAREQEREBERAREQEREBERAREQEREBERAREQEREBERAREQEREBERAREQEREBERAREQEREBERAREQEREBERAREQEREBERAREQEREBERAREQETr+znG+Lh/U/sjs5xvi4f1P7IHIROv7OMb4uH9T+yOzjG+Lh/U/sgchE6/s4xvi4f1P7I7OMb4uH9T+yByETr+zjG+Lh/U/sjs4xvi4f1P7IHIROv7OMb4uH9T+yOzjG+Lh/U/sgchE6/s4xvi4f1P7I7OMb4uH9T+yByETr+zjG+Lh/U/sjs4xvi4f1P7IHIROv7OMb4uH9T+yOzjG+Lh/U/sgchE6/s4xvi4f1P7I7OMb4uH9T+yByETr+zjG+Lh/U/sjs4xvi4f1P7IHIROv7OMb4uH9T+yOzjG+Lh/U/sgchE6/s4xvi4f1P7I7OMb4uH9T+yByETr+zjG+Lh/U/sjs4xvi4f1P7IHIROv7OMb4uH9T+yOzjG+Lh/U/sgchE6/s4xvi4f1P7I7OMb4uH9T+yByETr+zjG+Lh/U/sjs4xvi4f1P7IHIROv7OMb4uH9T+yOzjG+Lh/U/sgchE6/s4xvi4f1P7I7OMb4uH9T+yByETr+zjG+Lh/U/sjs4xvi4f1P7IHIROv7OMb4uH9T+yOzjG+Lh/U/sgchE6/s4xvi4f1P7I7OMb4uH9T+yByETr+zjG+Lh/U/sjs4xvi4f1P7IHIROv7OMb4uH9T+yOzjG+Lh/U/sgchE6/s4xvi4f1P7Jh//wDO8YoJNXD2Av8AE/sgcjE6QforEnhUo+pvbMj9D4rxKHqb2ybi6c1E6f8AwNivEoepvbMf4GxXiUPU3tjcRzMTpT+h8V89H1N7Zg/orFfPR9Te2Nwc3E6I/o3E/PR9Te2eT+kMT89H1N7Y3Bz8S+P6SxHz0vU3tmP8K4j56X5b2xuCiiXn+Fa/z0vy3tmR+k8Qf56X5b2xuD7DETMoREQEREBERAREQEREBERAREQEREBERAREQEREBERAREQEREBERAREQEREBERAREQEREBERAREQE14gfw3/wAp/tNk8VgSpA4nSBRUFJU2Gg4zak84jErSD0RqwtqNNSJoXGIi5nYKvU8JnYY5b7Twk9buatm4ta4YoDlBsCeDeYlmtMTO2u+Fc9OaXWWr0hKfamJWkLcWPBRzlx3boummvUVBdiAOpMjpXR9VYNboZzm19oVGIzAZTy6D6zTsnaVKlUsFZQ2hubjWa+Lh07GazPbGajORmel4TxeelbQiFdnExeJojMRID7awq1N22IpB72tmGh6HoYE+JiZgIiYJA4m0DMTxvVzZMwz2vlvrbhe3Se4CIiAiIgIiICIiAia6NZXGZGDC5Fx1BsR9iCJsgIiICImutWWmuZ2CrcC5OmpsP6kCBsiIgIiICIiAiIgIiICIiAiIgIiICIiAiIgIiICRNqYhqWHqOgBZRpeS5qxJApsTfQcuXnCXp8zq7Tqhs9xcfFfn/pee9nbTq3y6uGI524+ZEtMbgaAw5auwRshyIDxPXzvOXpYpqQXIuVtLaa8ZzZpl5ccLY/qGthappqiZbEix4H/qP+zJ+J/WmISjSdUpXcm5IJBtbhqOs5rD4sKzPVsEOtgpN2OhNjztzuJe4DZFXaD0nqd7C62dO4Rp0I1GltI3jOa05rNT9cYvJmC0eNvhPujG46vVCVLXaogbQf0E9bT/AE/g6NZaBqVu9lsQQbEm3e6Tp8Nhxh8NSo2uEFgT9YmePp3jhle3AYnA1yAzIxtwFpQ1yytZri3Iz6pXcc5xv6i2S9WpvUIN7C3+sTJrl8WpwgUNo1MgsoNtL6/6GX2x6jMl20J5a9T1lfiMAKVqdM5RlGYMb3P0ltsPCVGXKqlj1tbmesjOzSTeRaeOQ1Mtze+UeZGpAljtHZOKSnemqFr824Cc9g7/ALS4qizLqNbgX4/2jhH1GImZ2is/UdVkwNdkJU5bZhxUEgEj6Ak/aSaOAorQFFaabnLbLYWI8+skVEDKVYAqRYg8CDylUNhELu0xWIShw3YZdB8ocrmA+8DNTe/tS4elUFKktENYKCfitYX4aCQv3m9VqrCtWpZKjIiph2dTlOW7NlN7kHQEWHnLmlgUSqKi3uKYpgX0sDf63kd9lEO7UcRVoioczqmUgnmRmU5SfL+8CNVx71KeHGapRq1EzNTp08z6Wv8AGLKoPUXOkrsZXq18G4aq16WKSnmyAFxnQgspGhGblbUS+xGzcz06iValOoi5Mwscy9GDA31F78ZqOxUNGtTNSod7UFUubXDDLYjS3FQbWgaqtZ6deouYMUwmbOVW5YFtSQPLhwmha2JWnhK7YjNvWpq9PIoWzjiNLg38/tLEbNBYs9R3dqW6ZjlFxcm9gLX1+k9Ns5DSo0rtaiUKnS5ycL6QIdBq+IqVnWuaSU6hpogRTfLxL3F9TfQEaSTsTEPVwtKpUN3Yd4gW5nlK/F0ileqaa4xM5uy0gpSqbDW5vkPIm68L+csdjYVqGFo0ntmVdQDex42vzgVG0tpVFXEVqVeoRRzWAojdErxQta5PIsDYH6Toi3cv5XlZV2GGp1qQr1Vo1cxNMZdC181iVvYkk2v/AE0lpk7uXytAosFjK37AmJrYizVaaWtSBsWtwUasxvbpflPeBxdVcQaTPUcNSNQb1ArKQQP5QAQb/a0mfuhP2WnhgzhaYXI4IzAp8LcLX06WmaWzbVRVetUqOEKahQLEg8ABrpAqaeKxQwmGxbYjMXNINTyKFIdgp5Xvre9/tJyPWxGIrhKxo06DBAFVSWbKGJbMDpqBYW5zf+6U/ZaeGzNkp5LHS5yEML6W5TFbZd6zVaVarRL23gTKQ9tAbMDY20uLQKnZ2IqjD0aNNgtStiKwNS18oV3ZiAeZtYX687Sd+0VqFZqL1TVDUWqU3ZQGUrYEGwAI1BGnWbl2JTFBaSvUBR2qJUv31ZiTe5GvxEa3uON56w+ygpd6lWpWqOuQu+UWXooUADrw1gVqV8VkwdQ4gE4iysu7XKLoWzDnfTmba8JYbLqVRXxFGpUNUU8hVmABswOhygDl/Wbhs1MmHXM1sOQV4a2Urrp0PKbaWEVK1WqCc1QKCOQy3tb8wIWLqVnxi0KdXdoaJckKCbhgNL8OPnK3aNepuMTQqtvGpVaOV7AFlZ1IuBpca8PKWGNwNSpjVdXqUgKDAVEtoc4NrMCDp1E9jYibqpTapUZqrq9SoSMzFSCOVgO6BYDhA07QxLtWqJTr1V3YFxSohgpIv3yQb6WNhy+sxgNp1H/Y6jkbvE0rEAaLUtmFjxsRm/AkttmfxalSnWqUxVsairlIJAtcXBINgBp06yDtLZ+XB0sFRWoxsqpU+TKR32bQAgcucDXV2xV3e8DELXr7uiQmbKig3cKNWJykj6ib8HjagqmnnrVaZRmz1aJQowtpfKoIOv4k6tsym1BKIui07bsqbFCugIPWZw2DdcxqYipVJFu8FAH0CqNfMwNGwXrVMPTrVquc1KanKFAC6cepJ/8A4BLOaMFhRQo06SklaahQTxIAtrN8BERAREQEREBERAREQEREBERAREQE1YimGRlJIBHKbZHx1QrScjjbS/WEvTicdQNaqRUqhBSIUFuGmhH34znds0jh6lrAowJRvwD+LS524GeoiUVJZmJOvHzlftDBVKrKHe7ZSq5jw/6TJWM3uKyhiw/8KqQKdS12tcrY6EW/FvOd9sCrTpYVEok5V+YWJPM2nApsir8TbtFvxzcPOdNhsVl7tNlJNlGYnU62Gh//AHOMsdvTjfFuxtRTRr1Aoz/tF721OVwPvL1gaqnI2VxqOk5KniFbDVVa5rtUcrSB1uW/sJZYTGVEyZ1CACzAtcn8aCWfHfR9nKZXwbb0jMCfP/SacWoAsOE9VmqLVLasGFxf/QzViKmZgB11k09c1rajxn6iKVqn8G5zWN2/8T1R/W2IUWRKaedr/wB5j9QUkFIEqMxYAdfOUP7Hm1U28jNJJY8mf5rqk/XD5StVd5m1zcLeVgJT1tr0XqFmRrMb6ngfpKo4YD4mIP0mlwo4EmLhE8q+9xMQIRmIiAmJmICIiAiIgJiZiAiIgIiICIiAiIgYmYiBiZiICYmYgIiICIiAiIgIiICIiAiIgIiICIiAiIgIiICRdpC9B/p/rJU0Y2mz0nVbZiNLmw/NjCXpxG0azb5KlMM2Y6gC5F//ABI20tpIahYgMaQ7q2yl24E38uks8b+mce65adekgvqASNOl8tzNuA/TWKSoGqnDkI11C34a8brF46Z3H2otn/8AGY1FqImSmAxsOBGoXznvbmPpU6zUMPZMtxUYdeg/t9Z01LYNWm7VFNPO3JmbKB5aafSVeM/SeMdjkfD5SoBve5YG5a2X/WPWnMl2rMEy0aeYIUzk5Qxuw6knqZim5YnXTQy4xf6UxVQrZ6VlPNmvbh8sz/hTEWsHpeo+2aSyR3qqvG7TZQhBzKBYr9PP6WkdNuU7G1JwQCbaf3lw36QxJBBejrw7ze2av8FYjKRno3PHvNw9P+7SWStMc8o5LGYp8Q+Z9APhUcAJ4AtOqP6FxXz0PU3tmB+hcV89D1N7ZOHN3XKV1zLbnykWlgqjcFP3nZn9CYzxKHqb2y5wv6WqLTUMaeYDUgnj+Iqx1UzETlSIiAiIgIiICIiAiIgIiICIiAiIgIiICIiAiIgIiICIiAiIgIiICIiAiIgIiICIiAiIgIiICIiAiIgIiIGJmIgIiICIiAiIgIiIGIiIGZiV236jJhiULBjUpL3TYkNUVSAeVwSPvNdKrUplKSoyvUYkGvUz2CgXIsT1GlxzMC2iVmD2jUq1EUIgFm3huTqrlCF01BIOpmMbtNqdWyqGRWRX0a4LkD4uAtcG39tIFnMyHicTUFZKVMJmKs5L3tYECwtzN+PKQP305Sm4RTdEaoAGNs5tbNaw6/3tAu4lSNoV2cKq0gGqVKakk3GQnvHre3D+s0Jtyo6qUpEncpVZQrNcuCcoKiw4cTAvZiQtobQ3GQlbq4YeeYLmUfexH1tIabUeoUGUKQyK9m4VCWDJ5gWH1uIFzMzn8LjMSwonMjMaDu17gGzLbQc+Ossq2PtQpOtg1XLlUgnUjNYAcdATy4QJ0xK6ltQnCPXKd5C6leFyjFOfAEi/lItXFVkxDLUI/wDYsEJA79RlJsfsPO3KBeRKf97VFDZ0C1Lqq0yGFizBBdjoy3I1WbnxdZK1Oky0yWR3Zhf4UKDQdTn68oFlE55ts1qmGeqiZc1E1UYo1k0BAJIsxIPEdJJbatTeui0826ZVfKjHMSqsSpAIFgw48bcuMC4iQNp4x6OUqoyWJZyCQtraELqAde9wFpoG1XaqypTLItTdmyMTyu2YDKAL8OnPlAtpiVmFx1RME1etZ2QOe7pcKTp/SRtpY3EKjUrotQ7shkJtleoEI6g+f9rQLyZkHEVaiNRpU8pLg95yTbKB9z+ZEp7Wq1AwppTDU6ed8zGxOZlspHK6NryuNIFzMSrp7UdnXuZUdQaYYG73TMLN8IN7jKddCZ4p7Rdt2H7r7wBlAZSLqx1DcRccRobQLiYnOttGuuCBcjM+Fd0dScwZUvc343ve/Iycu1HasVWmSgqbs2Rr9C2a2UAHl0F78oFrErNp7QqUi+7VCEpGqcxIvY/CLdev9DPDbSqipuSqbxqgRTc5RdDUueegUjz04QLaJT/vlkDb1B3c690/E6ahRf5gdByIIhNq1TUK7q+R1puFVzqQpLBrWAGbgeIHKBcRK3C42q7sjKqVBqEYMNAbE5uDix4jmRLKAiIgIiICIiAiIgIiICIiAiIgIiICIiAiIgIiICIiBiZiIHirSVxZgGFwbHqDcH7EAzxiMMlUAVFDAG4vyPUHlN0QNVLDU0tkRVyrlFhay9B5TxVwNJ2ztTUtpqR0NwfqDwkiIELaOA34XVBlv8SBuPTUW/t1BinsqgqopphsiqgJ5heF+tjr5SbEDUuHQEEKAQSw04FuJ+9zNTbOoEIDSWyDKunAfL9PKSZmBrq0VcAOoYAhhccCDcH6gzyMLTBJCLcvnOnFuGb62Am6IEelgqSfCijjwHzG5/JE9PhabIEKgqtrDpbhbpN0QNVPDU1Q01RQhvdbaG+p087n8zTS2bQT4aSD4Tw+U3XXyPDpJcQIq7NoAMopJlYZWFtCOlunlPdHB0qZBRFBFwDz71r6+eUfgTfECKmzqC5rUlAcEMLaEHiLcgY/d1HMrbtbqAAf8uov1sdRfhJUQI+JwVKrbeU1ewI1HI8R5g9IOCpGpvN2ufrbpoD9R1kiIGmlhkQMqoArEki2hJ46ec109nUEUqtJApIJFuam6/ggW6SVECLi8AlZ0ZxcJew+vO/KYqbMw7KitRQqgyqMugX5fpoNOGklxAjNgKJcuaaljxJHllvbrbS/TSKWAop8NNRY3+4Fh+ATJMQIdPZeHUMFooAy5CLaZTxW3QzYcFS3m8yLn45rc7Wv9baXkiIGqph0e+ZQcy5TccV6fSea2DpOGDorZiCbjiRwP1E3xAjjBUsipu0yowZRbQMDfMPO+t4fBUmqbwopfTW3TgfMjlJEQIq7OoC9qS68dOhvp0F9dJKiICIiAiIgIiICIiAiIgIiICIiAiIgIiICIiAiIgIiICJi8QMzQ2LpiqtIuN4wLKvMgcTN0g4yk2/pVVQtkD5rWue7oNYE+eKtVUUu7BVUXJPACegbgaW8pE2ph2qUrIAWV0cKeDZWDW+9oHrC7QpVWKoWDAXyujISOoDAEjzElSgxyYjEuwFFqarSqBHYgEsy5cpsTYXN7+XlMYmjiKpqMtN1U06IytbvZXcuLBuhHMX4QL+ZlJh9nsTSzK27Ds2UjKF7tgMoY6X1sefKetj02NRgSSmHvRpnNfNcg3PUhcq365oFm2JQMq5hdmyAf9QUtb8AmbpQ/uy9a25sn7SajnSzKaTC/HXvG1vOaWwFYKgZC1Nd4FW2bLeoSptmFu5YA8vKB0kSr2jSYYeiHJcKybwEgGoLWtxsTextfW1pXUaRqqQlK9HfPpo5UgKAAM1rXzc9LW05B0sTm12ZWekhqKxqinhhfPqCrfxLG/G17nn5zZiMBUU2VL0BVY7vLmFiq2OXMLgHNp1N7QL53Ci7EAdTPUqcTgmbAbplNRgAcrWvob24nUDTj95ofCVDUJFJhUNVWSrcWSmLXXjpoGGW2pN/oFtiMWlMqHJu1yAFJ0HEmw0A01PUdZuBlTtfANUq7xEuww1VA3MM2XKB/wDaaxs9871Mhz/tCFWvqEyoGtroNGuIFu9VVZVJsXJCjrYX/tNkocDg3WrQLUWFRC29qkizkgi/G5ueGmnDSbcbhK5rOad8mlZe9a9RRlyfQgAwLUVVzlL94AMR5G4v/QzKuCSB/KbH62v/AKyhbZTslQuhNQ4e473CqzMxA14gkWPKba2EqGozVKbVKW9zFAeP8JFBtfUBg2nU35QLlaqlmUHvLa46X4T3KOts4tvHWkwYClu7tquXjz4iSdsUHqGmop56dmvpchtMuhIFvi14iw4QLOakroxAVgb3tbyNjr9ZT4TC1AaZxNJ6r7umA2YHIQBmvqLG9ySOPDlNNHZ9VaZSlTNOy1hoQLlnUrYg81BseUDo4lB+wMzHJSanQL0v4ZNtVJLtYHQWyg9bH7+cVs9wtkpscrVN2lgyWNiLjMCOBsQdLmB0MSu2rSd0pDJmXNeoAM1tDawJAOtuv05iDQ2fWKEkFaq4fJTZm+F7uOp1sRrr9YF/NdKqri6m4BI+4Nj/AFErtjYZkZmKtTBUArlCgnr8TXPU89OMh1sDVuuZM1PNV7uXNYtUJDWzLxHPl5XgdDMMbAk8BOX2jTKJVFXNVq7tFp1C63U2tYi+hLXOnxXtraSqmFrnEh92Qd44cgCxp5HC969zc5NLaH6aheUqgdVdTdWAIPUHUT3Kmph6gwVCnkuQqLUW1yABrYXsdf8AZkbDbMdgq1qZKqlUAE6C7gpoCf5eHTygXdastNC7myrqTMtVUMqk95r2HW3Gc9iMDVam4qUXqVWpoEe47tgMwOuhzXJ635y2x2DFWrRzLmRc2a/DUC1xzgTonONgau7ValJ6jbgJTs3/AC3F9Sb6H4e9rw/OythMUrsy3fd2rJZrB3IAZP6OddL1B0gX8SsrYFv2WlS1Yh6ec3tezAsb/mRaeznplWp07MKlW120yENkXjot8ug4QL2JzdLZ9UhlFNlRjRJGi6h7voG6W15+c2YqlUw12ogKxqmnSS+hWoqi4HQP3j5BoF69QLbMQLmwv1PATFGsri6m4uV+4Nj/AFBldtDADcUUFM1RSdDbQkgHU68TI9PZtRcrIuSqata73/lbOVv5XKm0C9ic3S2dVNNhldTlVWUDLmOdSWLZyWYAN3tL3/G6vs+p+0NYHJdNyyqDu1AAIBzDLqCTobg8+EC+iVe2aDVCgCZ0s17C5DaZdCRYcdeP0kX9grtSqNY740qagluNgM4GuhOovp9YF9Iw2hRzIucZqjMqD5it8wH0sZG2Th2QVNCgYjKmQKBpqQMxtf8A0ldg8A1ejT/lalQVUbpWVrt+GRQfuIF5SxdN6j01a7p8QsdNAePPiOHWb5QYJaiVKTvTO+KVqlRFIJGZlyrfhysP8pl9AzERAREQMRMxASFSx7GqtN6TUy4JQkg3y2vcA6HUSZKvCYXErVerV3L1GUhWDNZRxChbaC/E8T9gAFrI2Oxa0KZqMCRcKALaliFGp0GpGskLewvx52mrFozUyEyEnk4upHMH6iBqTG2QvWXcgEDvMCDfhYjjxt1mBtOiatOkHBaopdLG4IGn+/oZWLsJwoK5KZWrvEo03ZUHcKEBhYi+YnQAeXG8zDbPem9F1y2AqCoC7H4yGuCdTqvO3H7QPdfbFFHdCwzUygfUaZzYH7X1m1Mdh1ph1qUxTvlBBFr9Prx0mjE4B3qsQVyMaTak3BRrkWtzE04nZTmo1RWF94WC52S4KKtsy6g3W/OBZnE0xT3hdd3a+e+ljzv0mkbToZC++p5QcpOYWBte31trI2KwZTBGki97Q2uW1L5jx1OpMLs+o1bfVCgbOpyqSRlQMBqQO8S/TkIEs4qg7miXRn5oSDyva301tNOztqUK1JWRlX+GHKXF1FudunOaRs6pmCXTdCsa2bXPe5bLa1uJ434aWmihsmuKVKmXppuaJpo6XuWKhbm/AC3nfQ6WgTqm1qAVWFRWUuEJBFlJF9f98xMYjatNKRqqRUUI73Vhrk4jjx5eXORV2ZVDZxkDZ0YKXZx3QwtmIvrf7TzW2NUqLVJZA9VaoIF8oNRVUW6gZdepMCZU2tRSoKbsFJLAXI/lAJPHTjJgqrmC5hcjMBfl1+kr/wBgdau8BUjesxBv8LIFPLU6cJ52DhSiM7X17lPMCCKSXCAg631J111gTDtCjmZN6mZQSwzai3H8TxgtopWw4xGiUyMwJYWy9SeUi0tm1A1NSU3dKo1RWF8xLZtCLWHxm5ub25XnupswtgqeHL2ZFp94XsTTII87Er9YEr94Ucmfepkvlvfn0+vlMVNo0FCFq1MBxdDmHeHUeWo185CXZtUKCLBi+Z139Q5gFsBvDqLceFtLecxhdm1qBVkNNmKCm+cmwszMCNLn4zcG17DWBMw206VRymYCoGZchIucpIOn2v8ASbK+NpUmValRELcAxtfl/eRRs1r0jmXuYh6x8wwcW+vfH4mMdgKjtV3Zp5a9MU3z3uoFxcWHe0Y6G31gbsPtFKtWtTW1qJs7X4GwNrdLHj1BmlNvYchG3gCOrMGJAHdIBH9byRgcIaTVje4qOGHUAU0TXz7l/vI2F2c6lcxXupUpi19QzAg8NOGogTHxtJWVDUQM1rC/G/D8wuNpFmUVEzLcsL8Lcfxz6SqTYbLZSQ6MiK/8R1tlUKbKujA252myrsmo5rKGFOnUDaK7EEsbhsh0Q3vfKdbmBZ4bFU6oJpurgGxseHP+0808bSZmVaiFlvmAPC2h/E0bOwbU2d3ADsAulV30FyNX4ak6f3kGpsSpULCpUFjTqIWzMxOe1jlOi2twECcds4a9MCqrbx8i5TfWxbXysP6ibP3lRCoXqKmfgGYdbcj9PzNNShiHNFmFINTq5rBmsRlZDrbj3r2tytfnI42VVRSENM7ylunz30ALG401+I6G31gWDY+iKm6NVN5e2XML3IuBbraeqOLp1GKo6sV4gH7f3kD90ELUUOO9Xo1QTxtTFMEHzO7P5m3Z+CqUnYkqtO1giuzC9+IDfB/lFxAyu0cM+aoWS9J92Wa1w3QGSWxSbreqc6WuMnezdLW4yAcBWVy67slarVEDE6hhYg6d0jkRf+sl7PwhpUipILMzu1uALsWIHkLwNI2su5SrlIVqJrEc1UAG311tPdDaa1FoEK16xIynihUEsG+hFvrIlHY7jD7pmW+WlTuL2yJYsPqe/wDkTadmuuJevTZbFDlRr2FRrAtpyIVfvfrAtImJmBiZiICYmYgJ5KAkEgXHA24fSeogIiICIiAiIgJgCZiBi3PnMxEBERAREQETEQMyro4yqMUKLMjXBLAU2XLa1rMTZ+Njb+ktJAGzO9mNes1gRTzFf4dxa4OW5NvmvAnyJtKvUp0WekuZgRoATYXAJyjVrC5sONpKAsBrfzM14ijnQrnZDyZDYj83H5FoFdQ2qBRaoXWtZwvdApkXHBhUYZT9bctJmpt2mEzinUZQm8bKF7q3IJOutiDoL+V57Gx1uGNWq1UPn3py5rhStrZctspI4c+syuxqQpul3s9M0ybi9iS3TjdjAHawGho1d5vN2E7tycpcG+a1iB1mk7bUOuYFE3dRqgYd5XRkXLobfznhe+ljNuM2aXqK6OyHeB2IIuLIyDLcEcxxj9yUiO8Xc5XUsxF2LsrFjYcboLWsB0gb8Dj1rFgAVdbXUlToeBupI5HnynjDbUSpWallZWAJBJUg2Nj8LEjiNDbj9ZuwmF3QILtUJ5sFH/aoE04TZa0mVg7nIrKgOWwDEG2gBPAcTA8VdrhajIKVVsr7vMuW2fKHA1YHUHjwmBtcELko1XYglkXLdADlN7tbiCNCb20m/wDd6Zi12uaoq8f5goT8WE1NspdClWrTbvXZCt2DMWIN1PMmxGo6wMpteky5lzEEoFsPiFQAqw8rH/6npMYTa9OrUCKCA1yjErZ7dACSNNdQJ6XZVFalF1BG5TIig6WAsLjmQCwH+YzOD2ctFu67FQLKhC2UeRC5j9yYEaptR0r1Vam+7QoihQpLs3Q5tB9QJvG1Vz23dTJmyGp3cofhl4346Xta/ObamARmLEtcur8ea8PtNZ2Wu8zZ3yZ94aWmXPe+bhm462va/KBHO3V5UKxuhdfg7yqQGI73K448b6Xk3FYxadIVbFgbWsVHHzYgD8zUuy6YCi7d2m9Iajg5BPLj3RNlfAq601zMppEFGFrggFeYIOhI4c4HgbSQ4Y4izZQDcWF9DYjQ2JuORmtNrAuEajVTv7ticllYi4vZje4I4X462m1dnIKBoXYqbknS/eYseVuJ6T02BQszXa5qLUOvNQAPtoIEbE7WAobxAczUmqJmGndtx18xMU9qMahRqZQCvugTY5hkL3Fm04c+VvOxdiJYqatVlyNTVSVsqva4Fl1tYWJvNx2Yu8L531feZdLBshTTS+oPXlA1U9tIVzNTqICgqJmA74JAsACTe5AsbcZ6/e4HdajVWrmA3Ry5u8CVNw2Wxytz5Ge22VTKopLWSnu111tcEH/MCoN5ilstQwdnepUzBi7ZbnKCALKALDM3Ac4Ghttgox3dRP4bsC4Ui6aMtg17g/Y8jN7bUQVxRKm50DXW17XtlzZh9bWipsmmyZSWtaovEf8AuG7cvxH7rTeZ872D7zL3bZrZb3tfh5wFPaFsLSrOpLOq2VBqzNwAuep5mw5zz+9hoNzV3mcoafduCFz8c2W1ud5tbZyGglG7AJlyMD3gV4Hha+nS3lMUNmqjBy7u4cuWYi7Erk1AAAFuQAgYqbQH7I2IVSLIWCtxuP5TbnfTSR8LtKo5oU2CirnZa46ZFNyvkSUIvyaSzgENIUrtlzZuOp72e30v/SZGApjEHEC+8KZDrpa97266AX6AQNNXayrUdd3UK03VHqADKpYKRzuR3hqBpC7WTNY06gQsyrUsMrMt7gAHNyNrjW30vqGyS1auz1HFOpVWpu1IswVEAzaX+JeAOotebk2UocHeVMoYstO4yqzXuRpfmdCSBf6QNQ22m6Wru2yswVe9T1uL/EGyjhzI105iMRtNlayoSf4XcsM3fLC181r6fQdTPabJADkVqud7ZnsmoF7ArkynidbX4a6CYXY1MKFVnWwQAgi4yEkHhbix8oHhtsgMMymmFzisHAumVQ/8pIOhB0vxkjA7SWszLlZGAzWYqbg8+6T+DrNY2NTIOcvULZi5Yi75lCG9gB8IAFrcJvweD3V/4jPfhmCiw/8AxUX+94GhtsU1qtTYFcoJzEqR3Rc6Alhpc6gcJ5q7UcCmRhqoz1FXvFBob974vLgdZ6Gx6d9WZlu5CG1u/fNra5vc8TPX7sOQKa9ZrMrKxyXXLwA7tj01ufOBrTa2lhTeq93uKYAyqrslzmb/AKeWpsdJltsJcZUqOncvUFsoD2yk3IJ4jgDMnZCj4KtWmbtmKlbsGYuVN1Ol2NiLEdZsGzKYVlFwrZNAeGS1gPwIGcJtBazuqq1kJBYleINiLA5h9wJMkD92DeNV3tTOVKqe73QSCbd3XgPivJ8BERAREQEREBERAREQEREBERAREQMREzAxKLBbRapjhd3CPTfLSKEAZStibj4jdj9LD6301VcOj/EoN1Ka/KeI+hsIG2V23ajLhiVLA56Y7hs1jUUEA9SCR95YKAAAOAnmrSVxZlDC4Nj1BuD9iAYFDQ2i6XCioVeru0FW7shVSXuFuSNNBfnfhabqm0q4IcqFVaNV2RlIJKEWIvqAf9TLOrgqT5s1NTmILG3EjQG/UDnH7DS7n8Ne4CF04BuP55wIeL2m6OUVFJtSIuSNajlP6WvH7fVDm608i1lpGxNzmC94dLFuGukk0tm0E+Gkg+Hl8puv4PCbjh017o1YOdP5hax+ug/ECr2ziqyNVCMAgwtR/PMOBB+8zW2pVpFkdFL/AMPKVzEfxCw1AFzbKeHHThLGvg6dQguisQpW5HJtCPoYq4Sm+bMitmAVrjiASR+CSRAj0Mc25q1KiMu7v/KRnAF7qG1HT6gyPXr4nJRY7sF6iWCk21BuCeY89L+Us6NBKa5UUAcf/J6zTR2dQp/BSRdQdBwte1ugFzYecCHS2jWdlpBaYq3qXJvltTYLoONzmH014zFPazsaTFAlNwveIJBYnKVDDQa2tfjccJOrYCi4s1NSMxbhzPE/eDgKJZW3a3W1tOGX4dPLl0gVtLbVRlNQUjkKuw7jDLlBIzMRY3ty4E85NweKqNVanUVBamtQFSf5iRY36W4+fCbRs+iCzCmt2vfTjm46efPrNy0lDZgoDWC38hwH9TAqX2yUZiVDUgKlioI/5YJOp0N7H/zxmyvXxIFE3pDPUUG1zoQbjX+/9BJiYCir5xTUNcm9ubcfzz6zwmy6CqVFJApINgPl4W6W5QIVDaNV8yUwuZA7sajHUCo6gAgf9J15aaGZXa1RhvERd2N1cMTmIqZfsLZvv5SdV2dQcAPSQgX0I+Y3YfQniOc2nDIc10HeIJ04kcPxYfiBtieKVJUFlUKCS1h1JuT9ySZ7gIiICIiAiIgIiICIiAiIgIiICIiAiIgIiICIiAiIgIiICIiAiIgIiICIiAiIgIiICIiAiIgIiICIiAiIgIiICIiAiIgIiICIiAiIgIiICIiAiIgIiICIiAiIgIiICIiAiIgIiaMZh96mQsyqfiymxI6XGo+ogb4nJYbZmGqNhjkOWtUqMv8AEfWmoIXnzGVpb1K60qtPB0SKYCZ2Ym+Vb2AGbiSb8b6AwLHE4haVN6jmyIpZj5AXM07OWpuw9UneVO8y30S/BR9OF+fGVGPxZxGyGqNbvABrcCM+Un6Ea/eWH6hxz4bCVKlMXqaKn+ZiFB/JgWMzOax2DWlUwFFWIqGpnq1MxzOqKWYueYLZeOnCWeI2si4ijRWxNS5Y690AaHhrclR94Gyq5/bKS3OU0qhIvoSGSxt9z+ZNJkGt/wCuo/8Aw1P+6nKnatepv3rU6VPF0KaZGVXXNScXLHKdCbEeen5DpZA2tUalT/aFJ/hd51voyfzadQNR9LcCZEG0kw2GwqqxqGpu1UvxKnUsbDiFBNvKWeKsaL3+EofxaBtVgQCNQdRPUr9gEnA4Utx3KX9IlhAREQEREDF4iIGYiICIiAiIgIiICIiAiIgIiICIiAiIgIiICIiAiIgIiICIiAiIgIiICIiAiIgIiICIiAmvEURUpsjXAZSpsbGx00PKbIgQ/wB20v8Ah7Lb9n/5Vjw7uW3mLSBjtnVGrV2RFZq1NEV2sRTtmBJB6XuLcTppLuIFANnvd8ER/wAG1DdoeakCx1+9/qJOoKMThzSxC98ALVW9u8P5geNjxBlhECvqbHpOwdy7OAVzltSp4r0sfK08Nh6oxpqhQU3a00NxZRmJe443Iy2+ktIgQK3/AK6j/wDDU/7qcydlU7OozCm5LPTBsrE6m/PXmLybMwKzaGHqGvh3poGSkHIFwLOQFUnyALcJ62uWeluEP8WsMlx/Kp0Z/IAXt5kDnLGYgeaVMIqqugUAD6Ce4iAiIgIiICJA3zfMY37dTAnxK/ft8xmd+3UwJ8Sv37fMY37fMYFhEr9+3zGN+3zGBYRIG+bqZjfN1MCwiV+/bqY37dTAsIkDfN1Mxv2+YwLCJX79vmMb9vmMCwiV+/b5jG/b5jAsIlfv2+Yxv2+YwLCJX79vmMb9vmMCwiV+/b5jG/b5jAsIlfv2+Yxv2+YwLCJX79vmMb9vmMCwiV+/b5jNGK2gaYHe1bhc2A8yemo/MC3mJze0tpYmnTuuaoTod2uWwbgwJvcgA6eYOks6WIqEXYga6WN9OWtoFlEr9+3zGN+3zGBYRK/ft8xjft8xgWESv37fMY37fMYFhEr9+3zGN+3zGBYRK/ft8xjft8xgWESv37fMY37fMYFhEr9+3zGN+3zGBYRK/ft8xjft8xgWESv37fMY37fMYFhEr9+3zGN+3zGBYRK/ft8xjft8xgWESv37fMY37fMYFhEr9+3zGYbFFbZntfQXIECxiVy4u5IDgkcQCNJ637fMYGuUO0UxFOvVrUw5AQkEnQdzTKA1jryZeZN5027HSN2OkDnkbHZqfHJmN8wS5F/57aDS9svlfpNKDHkozA6Mb3K3ykJewGhIOYC4nT7sdI3Q6QKDDftpcbw5V3nesF0WzcD8pOTjrx+3vE/tYeoUJK6hVATQWWzAkXvfNxl5uh0jdDpA5xFxzBbuUNrGypr8fe4cdKflqdJJwBxZrHfWFPLwstr2HAjW98176cLW53W6HSN0OkCjxeAc4Q0zUqVag1V82Vib9VI5SNUbF0yyjMKeYKuXKxAzgLkLanuXuX5zpd0OkbsdIHO0hjLgsGGYrmyZM3wjiG0A43t9ps2iMWXqLSJClCFtlt8B5nvB89h0tL7djpG7HSBQYyhiAtGnTzlAq5iCtyQy3zE62tf4ZoavjV48XcKoIU2zA3PdGoWwOvEEzpt2OkbsdIEaZkjdjpG7HSBHiSN2OkbsdIEeJI3Y6Rux0gR4kjdjpG7HSBHiSN2OkbsdIEeJI3Y6Rux0gR4kjdjpG7HSBHlTtTFqlSmMrMGYU2slwuobW+lrXl9ux0nh8MjEEi9gRx0146c4FJbI6277G/8ADdwSh1tlA4fEbnp9pZ0aeRETjlUC/wBBaSVoIOCgfSet2OkCPEkbtekbtekCPEkbtekbtekCPEkbtekbtekCPEkbtekbtekCPEkbtekbtekCPEkbtekbtekCPEkbtekbtekCPEkbtekbtekCPEkbtekbtekCPEkbtekbtekCPEkbtekbtekCPEkbtekbtekCPI+MpM65VC2OjXNjboNDxlhu16Ru16QIVOjZ3c2ubAW5AcvySfxNskbtekbtekD3ERAREQEREBERAREQEREBERAREQEREBERAREQEREBERAREQEREBERAREQEREBERAREQEREBERAREQEREBERAREQEREBERAREQEREBE+adoWM8PD+lvdHaFjPDw/pb3QPpcT5p2hYzw8P6W90doWM8PD+lvdA+lxPmnaFjPDw/pb3R2hYzw8P6W90D6XE+adoWM8PD+lvdHaFjPDw/pb3QPpcT5p2hYzw8P6W90doWM8PD+lvdA+lxPmnaFjPDw/pb3R2hYzw8P6W90D6XE+adoWM8PD+lvdHaFjPDw/pb3QPpcT5p2hYzw8P6W90doWM8PD+lvdA+lxPmnaFjPDw/pb3R2hYzw8P6W90D6XE+adoWM8PD+lvdHaFjPDw/pb3QPpcT5p2hYzw8P6W90doWM8PD+lvdA+lxPmnaFjPDw/pb3R2hYzw8P6W90D6XE+adoWM8PD+lvdHaFjPDw/pb3QPpcT5p2hYzw8P6W90doWM8PD+lvdA+lxPmnaFjPDw/pb3R2hYzw8P6W90D6XE+adoWM8PD+lvdHaFjPDw/pb3QPpcT5p2hYzw8P6W90doWM8PD+lvdA+lxPmnaFjPDw/pb3R2hYzw8P6W90D6XE+adoWM8PD+lvdHaFjPDw/pb3QPpcT5p2hYzw8P6W90doWM8PD+lvdA+lxPmnaFjPDw/pb3R2hYzw8P6W90D6XE+adoWM8PD+lvdHaFjPDw/pb3QPpcT5p2hYzw8P6W90doWM8PD+lvdA+lxPmnaFjPDw/pb3R2hYzw8P6W90D6XE+adoWM8PD+lvdHaFjPDw/pb3QPpcT5p2hYzw8P6W90doWM8PD+lvdA+lxPmnaFjPDw/pb3R2hYzw8P6W90D6XE+adoWM8PD+lvdHaFjPDw/pb3QPpcT5p2hYzw8P6W90doWM8PD+lvdA+lxPmnaFjPDw/pb3R2hYzw8P6W90Dk4iICIiAiIgIiICIiAiIgIiICIiAiIgIiICIiAiIgIiICIiAiIgIiICIiAiIgIiICIiAiIgIiICIiAiIgIiICIiAiIgIiICIiAiIgIiICIiAiIgIiICIiAiIgIiICIiAiIgIiICIiAiIgIiICIiAiIgIiICIiAiIgIiICIiAiIgIiICIiAiIgIiICIiAiIgIiICIiAiIgIiICIiAiIgIiICIiAiIgIiICIiAiIgIiICIiAiIgIiICIiAiIgIiICIiAiIgIiICIiAiIgIiICIiAiIgIiICIiAiIgIiICIiAiIgf/9k=\n"
              }
            ],
            "_view_module": "@jupyter-widgets/output",
            "_model_module_version": "1.0.0",
            "_view_count": null,
            "_view_module_version": "1.0.0",
            "layout": "IPY_MODEL_02ddab624c7f47338b1627858a4d1f62",
            "_model_module": "@jupyter-widgets/output"
          }
        },
        "f4a63f7af4614ccc9978ec746f4f3a81": {
          "model_module": "@jupyter-widgets/output",
          "model_name": "OutputModel",
          "state": {
            "_view_name": "OutputView",
            "msg_id": "",
            "_dom_classes": [],
            "_model_name": "OutputModel",
            "outputs": [
              {
                "output_type": "stream",
                "metadata": {
                  "tags": []
                },
                "text": "Video available at https://www.bilibili.com/video/\n",
                "stream": "stdout"
              },
              {
                "output_type": "display_data",
                "metadata": {
                  "tags": []
                },
                "text/html": "\n        <iframe\n            width=\"854\"\n            height=\"480\"\n            src=\"https://player.bilibili.com/player.html?bvid=&page=1?fs=1\"\n            frameborder=\"0\"\n            allowfullscreen\n        ></iframe>\n        ",
                "text/plain": "<__main__.BiliVideo at 0x7f5f8bf7c190>"
              }
            ],
            "_view_module": "@jupyter-widgets/output",
            "_model_module_version": "1.0.0",
            "_view_count": null,
            "_view_module_version": "1.0.0",
            "layout": "IPY_MODEL_36b28a6e492a413ca12e2651327bb451",
            "_model_module": "@jupyter-widgets/output"
          }
        },
        "02ddab624c7f47338b1627858a4d1f62": {
          "model_module": "@jupyter-widgets/base",
          "model_name": "LayoutModel",
          "state": {
            "_view_name": "LayoutView",
            "grid_template_rows": null,
            "right": null,
            "justify_content": null,
            "_view_module": "@jupyter-widgets/base",
            "overflow": null,
            "_model_module_version": "1.2.0",
            "_view_count": null,
            "flex_flow": null,
            "width": null,
            "min_width": null,
            "border": null,
            "align_items": null,
            "bottom": null,
            "_model_module": "@jupyter-widgets/base",
            "top": null,
            "grid_column": null,
            "overflow_y": null,
            "overflow_x": null,
            "grid_auto_flow": null,
            "grid_area": null,
            "grid_template_columns": null,
            "flex": null,
            "_model_name": "LayoutModel",
            "justify_items": null,
            "grid_row": null,
            "max_height": null,
            "align_content": null,
            "visibility": null,
            "align_self": null,
            "height": null,
            "min_height": null,
            "padding": null,
            "grid_auto_rows": null,
            "grid_gap": null,
            "max_width": null,
            "order": null,
            "_view_module_version": "1.2.0",
            "grid_template_areas": null,
            "object_position": null,
            "object_fit": null,
            "grid_auto_columns": null,
            "margin": null,
            "display": null,
            "left": null
          }
        },
        "36b28a6e492a413ca12e2651327bb451": {
          "model_module": "@jupyter-widgets/base",
          "model_name": "LayoutModel",
          "state": {
            "_view_name": "LayoutView",
            "grid_template_rows": null,
            "right": null,
            "justify_content": null,
            "_view_module": "@jupyter-widgets/base",
            "overflow": null,
            "_model_module_version": "1.2.0",
            "_view_count": null,
            "flex_flow": null,
            "width": null,
            "min_width": null,
            "border": null,
            "align_items": null,
            "bottom": null,
            "_model_module": "@jupyter-widgets/base",
            "top": null,
            "grid_column": null,
            "overflow_y": null,
            "overflow_x": null,
            "grid_auto_flow": null,
            "grid_area": null,
            "grid_template_columns": null,
            "flex": null,
            "_model_name": "LayoutModel",
            "justify_items": null,
            "grid_row": null,
            "max_height": null,
            "align_content": null,
            "visibility": null,
            "align_self": null,
            "height": null,
            "min_height": null,
            "padding": null,
            "grid_auto_rows": null,
            "grid_gap": null,
            "max_width": null,
            "order": null,
            "_view_module_version": "1.2.0",
            "grid_template_areas": null,
            "object_position": null,
            "object_fit": null,
            "grid_auto_columns": null,
            "margin": null,
            "display": null,
            "left": null
          }
        },
        "e3f34a609f694045b8e3c09c96eae9ab": {
          "model_module": "@jupyter-widgets/controls",
          "model_name": "TabModel",
          "state": {
            "_view_name": "TabView",
            "_dom_classes": [],
            "_titles": {
              "0": "Youtube",
              "1": "Bilibili"
            },
            "_model_name": "TabModel",
            "_view_module": "@jupyter-widgets/controls",
            "selected_index": 0,
            "_model_module_version": "1.5.0",
            "_view_count": null,
            "_view_module_version": "1.5.0",
            "box_style": "",
            "layout": "IPY_MODEL_46a9d350d2c14f20b189ce04c916b560",
            "_model_module": "@jupyter-widgets/controls",
            "children": [
              "IPY_MODEL_588c0a83e05e4527affe4c9bfab1860d",
              "IPY_MODEL_e97b120b30d14c9ab5fe679176c12ce0"
            ]
          }
        },
        "46a9d350d2c14f20b189ce04c916b560": {
          "model_module": "@jupyter-widgets/base",
          "model_name": "LayoutModel",
          "state": {
            "_view_name": "LayoutView",
            "grid_template_rows": null,
            "right": null,
            "justify_content": null,
            "_view_module": "@jupyter-widgets/base",
            "overflow": null,
            "_model_module_version": "1.2.0",
            "_view_count": null,
            "flex_flow": null,
            "width": null,
            "min_width": null,
            "border": null,
            "align_items": null,
            "bottom": null,
            "_model_module": "@jupyter-widgets/base",
            "top": null,
            "grid_column": null,
            "overflow_y": null,
            "overflow_x": null,
            "grid_auto_flow": null,
            "grid_area": null,
            "grid_template_columns": null,
            "flex": null,
            "_model_name": "LayoutModel",
            "justify_items": null,
            "grid_row": null,
            "max_height": null,
            "align_content": null,
            "visibility": null,
            "align_self": null,
            "height": null,
            "min_height": null,
            "padding": null,
            "grid_auto_rows": null,
            "grid_gap": null,
            "max_width": null,
            "order": null,
            "_view_module_version": "1.2.0",
            "grid_template_areas": null,
            "object_position": null,
            "object_fit": null,
            "grid_auto_columns": null,
            "margin": null,
            "display": null,
            "left": null
          }
        },
        "588c0a83e05e4527affe4c9bfab1860d": {
          "model_module": "@jupyter-widgets/output",
          "model_name": "OutputModel",
          "state": {
            "_view_name": "OutputView",
            "msg_id": "",
            "_dom_classes": [],
            "_model_name": "OutputModel",
            "outputs": [
              {
                "output_type": "stream",
                "metadata": {
                  "tags": []
                },
                "text": "Video available at https://youtube.com/watch?v=RVo6rVP9iC0\n",
                "stream": "stdout"
              },
              {
                "output_type": "display_data",
                "metadata": {
                  "tags": []
                },
                "text/html": "\n        <iframe\n            width=\"854\"\n            height=\"480\"\n            src=\"https://www.youtube.com/embed/RVo6rVP9iC0?fs=1&rel=0\"\n            frameborder=\"0\"\n            allowfullscreen\n        ></iframe>\n        ",
                "text/plain": "<IPython.lib.display.YouTubeVideo at 0x7f5f29085fd0>",
                "image/jpeg": "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\n"
              }
            ],
            "_view_module": "@jupyter-widgets/output",
            "_model_module_version": "1.0.0",
            "_view_count": null,
            "_view_module_version": "1.0.0",
            "layout": "IPY_MODEL_80b294e500da4df28bac42f248fbaae4",
            "_model_module": "@jupyter-widgets/output"
          }
        },
        "e97b120b30d14c9ab5fe679176c12ce0": {
          "model_module": "@jupyter-widgets/output",
          "model_name": "OutputModel",
          "state": {
            "_view_name": "OutputView",
            "msg_id": "",
            "_dom_classes": [],
            "_model_name": "OutputModel",
            "outputs": [
              {
                "output_type": "stream",
                "metadata": {
                  "tags": []
                },
                "text": "Video available at https://www.bilibili.com/video/\n",
                "stream": "stdout"
              },
              {
                "output_type": "display_data",
                "metadata": {
                  "tags": []
                },
                "text/html": "\n        <iframe\n            width=\"854\"\n            height=\"480\"\n            src=\"https://player.bilibili.com/player.html?bvid=&page=1?fs=1\"\n            frameborder=\"0\"\n            allowfullscreen\n        ></iframe>\n        ",
                "text/plain": "<__main__.BiliVideo at 0x7f5f290bced0>"
              }
            ],
            "_view_module": "@jupyter-widgets/output",
            "_model_module_version": "1.0.0",
            "_view_count": null,
            "_view_module_version": "1.0.0",
            "layout": "IPY_MODEL_566f4caf555f46a786f98394dca3c4e4",
            "_model_module": "@jupyter-widgets/output"
          }
        },
        "80b294e500da4df28bac42f248fbaae4": {
          "model_module": "@jupyter-widgets/base",
          "model_name": "LayoutModel",
          "state": {
            "_view_name": "LayoutView",
            "grid_template_rows": null,
            "right": null,
            "justify_content": null,
            "_view_module": "@jupyter-widgets/base",
            "overflow": null,
            "_model_module_version": "1.2.0",
            "_view_count": null,
            "flex_flow": null,
            "width": null,
            "min_width": null,
            "border": null,
            "align_items": null,
            "bottom": null,
            "_model_module": "@jupyter-widgets/base",
            "top": null,
            "grid_column": null,
            "overflow_y": null,
            "overflow_x": null,
            "grid_auto_flow": null,
            "grid_area": null,
            "grid_template_columns": null,
            "flex": null,
            "_model_name": "LayoutModel",
            "justify_items": null,
            "grid_row": null,
            "max_height": null,
            "align_content": null,
            "visibility": null,
            "align_self": null,
            "height": null,
            "min_height": null,
            "padding": null,
            "grid_auto_rows": null,
            "grid_gap": null,
            "max_width": null,
            "order": null,
            "_view_module_version": "1.2.0",
            "grid_template_areas": null,
            "object_position": null,
            "object_fit": null,
            "grid_auto_columns": null,
            "margin": null,
            "display": null,
            "left": null
          }
        },
        "566f4caf555f46a786f98394dca3c4e4": {
          "model_module": "@jupyter-widgets/base",
          "model_name": "LayoutModel",
          "state": {
            "_view_name": "LayoutView",
            "grid_template_rows": null,
            "right": null,
            "justify_content": null,
            "_view_module": "@jupyter-widgets/base",
            "overflow": null,
            "_model_module_version": "1.2.0",
            "_view_count": null,
            "flex_flow": null,
            "width": null,
            "min_width": null,
            "border": null,
            "align_items": null,
            "bottom": null,
            "_model_module": "@jupyter-widgets/base",
            "top": null,
            "grid_column": null,
            "overflow_y": null,
            "overflow_x": null,
            "grid_auto_flow": null,
            "grid_area": null,
            "grid_template_columns": null,
            "flex": null,
            "_model_name": "LayoutModel",
            "justify_items": null,
            "grid_row": null,
            "max_height": null,
            "align_content": null,
            "visibility": null,
            "align_self": null,
            "height": null,
            "min_height": null,
            "padding": null,
            "grid_auto_rows": null,
            "grid_gap": null,
            "max_width": null,
            "order": null,
            "_view_module_version": "1.2.0",
            "grid_template_areas": null,
            "object_position": null,
            "object_fit": null,
            "grid_auto_columns": null,
            "margin": null,
            "display": null,
            "left": null
          }
        },
        "dddfa957b16d4740a69a2084c244f747": {
          "model_module": "@jupyter-widgets/controls",
          "model_name": "TabModel",
          "state": {
            "_view_name": "TabView",
            "_dom_classes": [],
            "_titles": {
              "0": "Youtube",
              "1": "Bilibili"
            },
            "_model_name": "TabModel",
            "_view_module": "@jupyter-widgets/controls",
            "selected_index": 0,
            "_model_module_version": "1.5.0",
            "_view_count": null,
            "_view_module_version": "1.5.0",
            "box_style": "",
            "layout": "IPY_MODEL_682c75ef01d844a48088c7b9a2c7aa33",
            "_model_module": "@jupyter-widgets/controls",
            "children": [
              "IPY_MODEL_47fec7b44a364638a38dd2f00d28c0cc",
              "IPY_MODEL_1305c59a970e40bc8e7af68d41c04c01"
            ]
          }
        },
        "682c75ef01d844a48088c7b9a2c7aa33": {
          "model_module": "@jupyter-widgets/base",
          "model_name": "LayoutModel",
          "state": {
            "_view_name": "LayoutView",
            "grid_template_rows": null,
            "right": null,
            "justify_content": null,
            "_view_module": "@jupyter-widgets/base",
            "overflow": null,
            "_model_module_version": "1.2.0",
            "_view_count": null,
            "flex_flow": null,
            "width": null,
            "min_width": null,
            "border": null,
            "align_items": null,
            "bottom": null,
            "_model_module": "@jupyter-widgets/base",
            "top": null,
            "grid_column": null,
            "overflow_y": null,
            "overflow_x": null,
            "grid_auto_flow": null,
            "grid_area": null,
            "grid_template_columns": null,
            "flex": null,
            "_model_name": "LayoutModel",
            "justify_items": null,
            "grid_row": null,
            "max_height": null,
            "align_content": null,
            "visibility": null,
            "align_self": null,
            "height": null,
            "min_height": null,
            "padding": null,
            "grid_auto_rows": null,
            "grid_gap": null,
            "max_width": null,
            "order": null,
            "_view_module_version": "1.2.0",
            "grid_template_areas": null,
            "object_position": null,
            "object_fit": null,
            "grid_auto_columns": null,
            "margin": null,
            "display": null,
            "left": null
          }
        },
        "47fec7b44a364638a38dd2f00d28c0cc": {
          "model_module": "@jupyter-widgets/output",
          "model_name": "OutputModel",
          "state": {
            "_view_name": "OutputView",
            "msg_id": "",
            "_dom_classes": [],
            "_model_name": "OutputModel",
            "outputs": [
              {
                "output_type": "stream",
                "metadata": {
                  "tags": []
                },
                "text": "Video available at https://youtube.com/watch?v=HreQzd7iusI\n",
                "stream": "stdout"
              },
              {
                "output_type": "display_data",
                "metadata": {
                  "tags": []
                },
                "text/html": "\n        <iframe\n            width=\"854\"\n            height=\"480\"\n            src=\"https://www.youtube.com/embed/HreQzd7iusI?fs=1&rel=0\"\n            frameborder=\"0\"\n            allowfullscreen\n        ></iframe>\n        ",
                "text/plain": "<IPython.lib.display.YouTubeVideo at 0x7f5f3202bc50>",
                "image/jpeg": "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\n"
              }
            ],
            "_view_module": "@jupyter-widgets/output",
            "_model_module_version": "1.0.0",
            "_view_count": null,
            "_view_module_version": "1.0.0",
            "layout": "IPY_MODEL_3b5f3cdad0df4ec0969662666077fba3",
            "_model_module": "@jupyter-widgets/output"
          }
        },
        "1305c59a970e40bc8e7af68d41c04c01": {
          "model_module": "@jupyter-widgets/output",
          "model_name": "OutputModel",
          "state": {
            "_view_name": "OutputView",
            "msg_id": "",
            "_dom_classes": [],
            "_model_name": "OutputModel",
            "outputs": [
              {
                "output_type": "stream",
                "metadata": {
                  "tags": []
                },
                "text": "Video available at https://www.bilibili.com/video/\n",
                "stream": "stdout"
              },
              {
                "output_type": "display_data",
                "metadata": {
                  "tags": []
                },
                "text/html": "\n        <iframe\n            width=\"854\"\n            height=\"480\"\n            src=\"https://player.bilibili.com/player.html?bvid=&page=1?fs=1\"\n            frameborder=\"0\"\n            allowfullscreen\n        ></iframe>\n        ",
                "text/plain": "<__main__.BiliVideo at 0x7f5f2906e4d0>"
              }
            ],
            "_view_module": "@jupyter-widgets/output",
            "_model_module_version": "1.0.0",
            "_view_count": null,
            "_view_module_version": "1.0.0",
            "layout": "IPY_MODEL_6150a46573b24731b141fa2b93f10900",
            "_model_module": "@jupyter-widgets/output"
          }
        },
        "3b5f3cdad0df4ec0969662666077fba3": {
          "model_module": "@jupyter-widgets/base",
          "model_name": "LayoutModel",
          "state": {
            "_view_name": "LayoutView",
            "grid_template_rows": null,
            "right": null,
            "justify_content": null,
            "_view_module": "@jupyter-widgets/base",
            "overflow": null,
            "_model_module_version": "1.2.0",
            "_view_count": null,
            "flex_flow": null,
            "width": null,
            "min_width": null,
            "border": null,
            "align_items": null,
            "bottom": null,
            "_model_module": "@jupyter-widgets/base",
            "top": null,
            "grid_column": null,
            "overflow_y": null,
            "overflow_x": null,
            "grid_auto_flow": null,
            "grid_area": null,
            "grid_template_columns": null,
            "flex": null,
            "_model_name": "LayoutModel",
            "justify_items": null,
            "grid_row": null,
            "max_height": null,
            "align_content": null,
            "visibility": null,
            "align_self": null,
            "height": null,
            "min_height": null,
            "padding": null,
            "grid_auto_rows": null,
            "grid_gap": null,
            "max_width": null,
            "order": null,
            "_view_module_version": "1.2.0",
            "grid_template_areas": null,
            "object_position": null,
            "object_fit": null,
            "grid_auto_columns": null,
            "margin": null,
            "display": null,
            "left": null
          }
        },
        "6150a46573b24731b141fa2b93f10900": {
          "model_module": "@jupyter-widgets/base",
          "model_name": "LayoutModel",
          "state": {
            "_view_name": "LayoutView",
            "grid_template_rows": null,
            "right": null,
            "justify_content": null,
            "_view_module": "@jupyter-widgets/base",
            "overflow": null,
            "_model_module_version": "1.2.0",
            "_view_count": null,
            "flex_flow": null,
            "width": null,
            "min_width": null,
            "border": null,
            "align_items": null,
            "bottom": null,
            "_model_module": "@jupyter-widgets/base",
            "top": null,
            "grid_column": null,
            "overflow_y": null,
            "overflow_x": null,
            "grid_auto_flow": null,
            "grid_area": null,
            "grid_template_columns": null,
            "flex": null,
            "_model_name": "LayoutModel",
            "justify_items": null,
            "grid_row": null,
            "max_height": null,
            "align_content": null,
            "visibility": null,
            "align_self": null,
            "height": null,
            "min_height": null,
            "padding": null,
            "grid_auto_rows": null,
            "grid_gap": null,
            "max_width": null,
            "order": null,
            "_view_module_version": "1.2.0",
            "grid_template_areas": null,
            "object_position": null,
            "object_fit": null,
            "grid_auto_columns": null,
            "margin": null,
            "display": null,
            "left": null
          }
        },
        "7b5e151b6e994eea952824859910d7dc": {
          "model_module": "@jupyter-widgets/controls",
          "model_name": "TabModel",
          "state": {
            "_view_name": "TabView",
            "_dom_classes": [],
            "_titles": {
              "0": "Youtube",
              "1": "Bilibili"
            },
            "_model_name": "TabModel",
            "_view_module": "@jupyter-widgets/controls",
            "selected_index": 0,
            "_model_module_version": "1.5.0",
            "_view_count": null,
            "_view_module_version": "1.5.0",
            "box_style": "",
            "layout": "IPY_MODEL_b36e8f1fc8a143e1939eab118946c3e7",
            "_model_module": "@jupyter-widgets/controls",
            "children": [
              "IPY_MODEL_1abb2b235d064b76881f7db3c6a0f9cf",
              "IPY_MODEL_4c8214cd158e475eb303ea4c6d47cfda"
            ]
          }
        },
        "b36e8f1fc8a143e1939eab118946c3e7": {
          "model_module": "@jupyter-widgets/base",
          "model_name": "LayoutModel",
          "state": {
            "_view_name": "LayoutView",
            "grid_template_rows": null,
            "right": null,
            "justify_content": null,
            "_view_module": "@jupyter-widgets/base",
            "overflow": null,
            "_model_module_version": "1.2.0",
            "_view_count": null,
            "flex_flow": null,
            "width": null,
            "min_width": null,
            "border": null,
            "align_items": null,
            "bottom": null,
            "_model_module": "@jupyter-widgets/base",
            "top": null,
            "grid_column": null,
            "overflow_y": null,
            "overflow_x": null,
            "grid_auto_flow": null,
            "grid_area": null,
            "grid_template_columns": null,
            "flex": null,
            "_model_name": "LayoutModel",
            "justify_items": null,
            "grid_row": null,
            "max_height": null,
            "align_content": null,
            "visibility": null,
            "align_self": null,
            "height": null,
            "min_height": null,
            "padding": null,
            "grid_auto_rows": null,
            "grid_gap": null,
            "max_width": null,
            "order": null,
            "_view_module_version": "1.2.0",
            "grid_template_areas": null,
            "object_position": null,
            "object_fit": null,
            "grid_auto_columns": null,
            "margin": null,
            "display": null,
            "left": null
          }
        },
        "1abb2b235d064b76881f7db3c6a0f9cf": {
          "model_module": "@jupyter-widgets/output",
          "model_name": "OutputModel",
          "state": {
            "_view_name": "OutputView",
            "msg_id": "",
            "_dom_classes": [],
            "_model_name": "OutputModel",
            "outputs": [
              {
                "output_type": "stream",
                "metadata": {
                  "tags": []
                },
                "text": "Video available at https://youtube.com/watch?v=DVSJE2d9tNI\n",
                "stream": "stdout"
              },
              {
                "output_type": "display_data",
                "metadata": {
                  "tags": []
                },
                "text/html": "\n        <iframe\n            width=\"854\"\n            height=\"480\"\n            src=\"https://www.youtube.com/embed/DVSJE2d9tNI?fs=1&rel=0\"\n            frameborder=\"0\"\n            allowfullscreen\n        ></iframe>\n        ",
                "text/plain": "<IPython.lib.display.YouTubeVideo at 0x7f5f02ca2e90>",
                "image/jpeg": "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\n"
              }
            ],
            "_view_module": "@jupyter-widgets/output",
            "_model_module_version": "1.0.0",
            "_view_count": null,
            "_view_module_version": "1.0.0",
            "layout": "IPY_MODEL_d4d64b19ea5e47ae9805ea5c8e6a7bad",
            "_model_module": "@jupyter-widgets/output"
          }
        },
        "4c8214cd158e475eb303ea4c6d47cfda": {
          "model_module": "@jupyter-widgets/output",
          "model_name": "OutputModel",
          "state": {
            "_view_name": "OutputView",
            "msg_id": "",
            "_dom_classes": [],
            "_model_name": "OutputModel",
            "outputs": [
              {
                "output_type": "stream",
                "metadata": {
                  "tags": []
                },
                "text": "Video available at https://www.bilibili.com/video/\n",
                "stream": "stdout"
              },
              {
                "output_type": "display_data",
                "metadata": {
                  "tags": []
                },
                "text/html": "\n        <iframe\n            width=\"854\"\n            height=\"480\"\n            src=\"https://player.bilibili.com/player.html?bvid=&page=1?fs=1\"\n            frameborder=\"0\"\n            allowfullscreen\n        ></iframe>\n        ",
                "text/plain": "<__main__.BiliVideo at 0x7f5f8ca54710>"
              }
            ],
            "_view_module": "@jupyter-widgets/output",
            "_model_module_version": "1.0.0",
            "_view_count": null,
            "_view_module_version": "1.0.0",
            "layout": "IPY_MODEL_4bba0b3f099748b59903755d0244b49a",
            "_model_module": "@jupyter-widgets/output"
          }
        },
        "d4d64b19ea5e47ae9805ea5c8e6a7bad": {
          "model_module": "@jupyter-widgets/base",
          "model_name": "LayoutModel",
          "state": {
            "_view_name": "LayoutView",
            "grid_template_rows": null,
            "right": null,
            "justify_content": null,
            "_view_module": "@jupyter-widgets/base",
            "overflow": null,
            "_model_module_version": "1.2.0",
            "_view_count": null,
            "flex_flow": null,
            "width": null,
            "min_width": null,
            "border": null,
            "align_items": null,
            "bottom": null,
            "_model_module": "@jupyter-widgets/base",
            "top": null,
            "grid_column": null,
            "overflow_y": null,
            "overflow_x": null,
            "grid_auto_flow": null,
            "grid_area": null,
            "grid_template_columns": null,
            "flex": null,
            "_model_name": "LayoutModel",
            "justify_items": null,
            "grid_row": null,
            "max_height": null,
            "align_content": null,
            "visibility": null,
            "align_self": null,
            "height": null,
            "min_height": null,
            "padding": null,
            "grid_auto_rows": null,
            "grid_gap": null,
            "max_width": null,
            "order": null,
            "_view_module_version": "1.2.0",
            "grid_template_areas": null,
            "object_position": null,
            "object_fit": null,
            "grid_auto_columns": null,
            "margin": null,
            "display": null,
            "left": null
          }
        },
        "4bba0b3f099748b59903755d0244b49a": {
          "model_module": "@jupyter-widgets/base",
          "model_name": "LayoutModel",
          "state": {
            "_view_name": "LayoutView",
            "grid_template_rows": null,
            "right": null,
            "justify_content": null,
            "_view_module": "@jupyter-widgets/base",
            "overflow": null,
            "_model_module_version": "1.2.0",
            "_view_count": null,
            "flex_flow": null,
            "width": null,
            "min_width": null,
            "border": null,
            "align_items": null,
            "bottom": null,
            "_model_module": "@jupyter-widgets/base",
            "top": null,
            "grid_column": null,
            "overflow_y": null,
            "overflow_x": null,
            "grid_auto_flow": null,
            "grid_area": null,
            "grid_template_columns": null,
            "flex": null,
            "_model_name": "LayoutModel",
            "justify_items": null,
            "grid_row": null,
            "max_height": null,
            "align_content": null,
            "visibility": null,
            "align_self": null,
            "height": null,
            "min_height": null,
            "padding": null,
            "grid_auto_rows": null,
            "grid_gap": null,
            "max_width": null,
            "order": null,
            "_view_module_version": "1.2.0",
            "grid_template_areas": null,
            "object_position": null,
            "object_fit": null,
            "grid_auto_columns": null,
            "margin": null,
            "display": null,
            "left": null
          }
        },
        "a50268db36534f74aabfaa37afa7473c": {
          "model_module": "@jupyter-widgets/controls",
          "model_name": "TabModel",
          "state": {
            "_view_name": "TabView",
            "_dom_classes": [],
            "_titles": {
              "0": "Youtube",
              "1": "Bilibili"
            },
            "_model_name": "TabModel",
            "_view_module": "@jupyter-widgets/controls",
            "selected_index": 0,
            "_model_module_version": "1.5.0",
            "_view_count": null,
            "_view_module_version": "1.5.0",
            "box_style": "",
            "layout": "IPY_MODEL_06aec8ff59974b32bd1f0949f6896d9b",
            "_model_module": "@jupyter-widgets/controls",
            "children": [
              "IPY_MODEL_da8cdc1201934b08ba04d5f516e181c9",
              "IPY_MODEL_a4e662bd0a3b41bc827b9c4ee490d55e"
            ]
          }
        },
        "06aec8ff59974b32bd1f0949f6896d9b": {
          "model_module": "@jupyter-widgets/base",
          "model_name": "LayoutModel",
          "state": {
            "_view_name": "LayoutView",
            "grid_template_rows": null,
            "right": null,
            "justify_content": null,
            "_view_module": "@jupyter-widgets/base",
            "overflow": null,
            "_model_module_version": "1.2.0",
            "_view_count": null,
            "flex_flow": null,
            "width": null,
            "min_width": null,
            "border": null,
            "align_items": null,
            "bottom": null,
            "_model_module": "@jupyter-widgets/base",
            "top": null,
            "grid_column": null,
            "overflow_y": null,
            "overflow_x": null,
            "grid_auto_flow": null,
            "grid_area": null,
            "grid_template_columns": null,
            "flex": null,
            "_model_name": "LayoutModel",
            "justify_items": null,
            "grid_row": null,
            "max_height": null,
            "align_content": null,
            "visibility": null,
            "align_self": null,
            "height": null,
            "min_height": null,
            "padding": null,
            "grid_auto_rows": null,
            "grid_gap": null,
            "max_width": null,
            "order": null,
            "_view_module_version": "1.2.0",
            "grid_template_areas": null,
            "object_position": null,
            "object_fit": null,
            "grid_auto_columns": null,
            "margin": null,
            "display": null,
            "left": null
          }
        },
        "da8cdc1201934b08ba04d5f516e181c9": {
          "model_module": "@jupyter-widgets/output",
          "model_name": "OutputModel",
          "state": {
            "_view_name": "OutputView",
            "msg_id": "",
            "_dom_classes": [],
            "_model_name": "OutputModel",
            "outputs": [
              {
                "output_type": "stream",
                "metadata": {
                  "tags": []
                },
                "text": "Video available at https://youtube.com/watch?v=hhhBmSXIZGY\n",
                "stream": "stdout"
              },
              {
                "output_type": "display_data",
                "metadata": {
                  "tags": []
                },
                "text/html": "\n        <iframe\n            width=\"854\"\n            height=\"480\"\n            src=\"https://www.youtube.com/embed/hhhBmSXIZGY?fs=1&rel=0\"\n            frameborder=\"0\"\n            allowfullscreen\n        ></iframe>\n        ",
                "text/plain": "<IPython.lib.display.YouTubeVideo at 0x7f5f2876e350>",
                "image/jpeg": "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\n"
              }
            ],
            "_view_module": "@jupyter-widgets/output",
            "_model_module_version": "1.0.0",
            "_view_count": null,
            "_view_module_version": "1.0.0",
            "layout": "IPY_MODEL_ed0429dedd04429b96c30026c1787796",
            "_model_module": "@jupyter-widgets/output"
          }
        },
        "a4e662bd0a3b41bc827b9c4ee490d55e": {
          "model_module": "@jupyter-widgets/output",
          "model_name": "OutputModel",
          "state": {
            "_view_name": "OutputView",
            "msg_id": "",
            "_dom_classes": [],
            "_model_name": "OutputModel",
            "outputs": [
              {
                "output_type": "stream",
                "metadata": {
                  "tags": []
                },
                "text": "Video available at https://www.bilibili.com/video/\n",
                "stream": "stdout"
              },
              {
                "output_type": "display_data",
                "metadata": {
                  "tags": []
                },
                "text/html": "\n        <iframe\n            width=\"854\"\n            height=\"480\"\n            src=\"https://player.bilibili.com/player.html?bvid=&page=1?fs=1\"\n            frameborder=\"0\"\n            allowfullscreen\n        ></iframe>\n        ",
                "text/plain": "<__main__.BiliVideo at 0x7f5f2876e190>"
              }
            ],
            "_view_module": "@jupyter-widgets/output",
            "_model_module_version": "1.0.0",
            "_view_count": null,
            "_view_module_version": "1.0.0",
            "layout": "IPY_MODEL_e83b7f97eb0f4e8f84bc9ddd0dc707ea",
            "_model_module": "@jupyter-widgets/output"
          }
        },
        "ed0429dedd04429b96c30026c1787796": {
          "model_module": "@jupyter-widgets/base",
          "model_name": "LayoutModel",
          "state": {
            "_view_name": "LayoutView",
            "grid_template_rows": null,
            "right": null,
            "justify_content": null,
            "_view_module": "@jupyter-widgets/base",
            "overflow": null,
            "_model_module_version": "1.2.0",
            "_view_count": null,
            "flex_flow": null,
            "width": null,
            "min_width": null,
            "border": null,
            "align_items": null,
            "bottom": null,
            "_model_module": "@jupyter-widgets/base",
            "top": null,
            "grid_column": null,
            "overflow_y": null,
            "overflow_x": null,
            "grid_auto_flow": null,
            "grid_area": null,
            "grid_template_columns": null,
            "flex": null,
            "_model_name": "LayoutModel",
            "justify_items": null,
            "grid_row": null,
            "max_height": null,
            "align_content": null,
            "visibility": null,
            "align_self": null,
            "height": null,
            "min_height": null,
            "padding": null,
            "grid_auto_rows": null,
            "grid_gap": null,
            "max_width": null,
            "order": null,
            "_view_module_version": "1.2.0",
            "grid_template_areas": null,
            "object_position": null,
            "object_fit": null,
            "grid_auto_columns": null,
            "margin": null,
            "display": null,
            "left": null
          }
        },
        "e83b7f97eb0f4e8f84bc9ddd0dc707ea": {
          "model_module": "@jupyter-widgets/base",
          "model_name": "LayoutModel",
          "state": {
            "_view_name": "LayoutView",
            "grid_template_rows": null,
            "right": null,
            "justify_content": null,
            "_view_module": "@jupyter-widgets/base",
            "overflow": null,
            "_model_module_version": "1.2.0",
            "_view_count": null,
            "flex_flow": null,
            "width": null,
            "min_width": null,
            "border": null,
            "align_items": null,
            "bottom": null,
            "_model_module": "@jupyter-widgets/base",
            "top": null,
            "grid_column": null,
            "overflow_y": null,
            "overflow_x": null,
            "grid_auto_flow": null,
            "grid_area": null,
            "grid_template_columns": null,
            "flex": null,
            "_model_name": "LayoutModel",
            "justify_items": null,
            "grid_row": null,
            "max_height": null,
            "align_content": null,
            "visibility": null,
            "align_self": null,
            "height": null,
            "min_height": null,
            "padding": null,
            "grid_auto_rows": null,
            "grid_gap": null,
            "max_width": null,
            "order": null,
            "_view_module_version": "1.2.0",
            "grid_template_areas": null,
            "object_position": null,
            "object_fit": null,
            "grid_auto_columns": null,
            "margin": null,
            "display": null,
            "left": null
          }
        },
        "32b845dc3c9a4aacab5c61ee0ee501be": {
          "model_module": "@jupyter-widgets/controls",
          "model_name": "TabModel",
          "state": {
            "_view_name": "TabView",
            "_dom_classes": [],
            "_titles": {
              "0": "Youtube",
              "1": "Bilibili"
            },
            "_model_name": "TabModel",
            "_view_module": "@jupyter-widgets/controls",
            "selected_index": 0,
            "_model_module_version": "1.5.0",
            "_view_count": null,
            "_view_module_version": "1.5.0",
            "box_style": "",
            "layout": "IPY_MODEL_3d3026d8c0024d678414814bf5474020",
            "_model_module": "@jupyter-widgets/controls",
            "children": [
              "IPY_MODEL_9cb51b99dc39436bbdf7e61cfce125b3",
              "IPY_MODEL_9b1abbb1c002489ca2177eb49772cefb"
            ]
          }
        },
        "3d3026d8c0024d678414814bf5474020": {
          "model_module": "@jupyter-widgets/base",
          "model_name": "LayoutModel",
          "state": {
            "_view_name": "LayoutView",
            "grid_template_rows": null,
            "right": null,
            "justify_content": null,
            "_view_module": "@jupyter-widgets/base",
            "overflow": null,
            "_model_module_version": "1.2.0",
            "_view_count": null,
            "flex_flow": null,
            "width": null,
            "min_width": null,
            "border": null,
            "align_items": null,
            "bottom": null,
            "_model_module": "@jupyter-widgets/base",
            "top": null,
            "grid_column": null,
            "overflow_y": null,
            "overflow_x": null,
            "grid_auto_flow": null,
            "grid_area": null,
            "grid_template_columns": null,
            "flex": null,
            "_model_name": "LayoutModel",
            "justify_items": null,
            "grid_row": null,
            "max_height": null,
            "align_content": null,
            "visibility": null,
            "align_self": null,
            "height": null,
            "min_height": null,
            "padding": null,
            "grid_auto_rows": null,
            "grid_gap": null,
            "max_width": null,
            "order": null,
            "_view_module_version": "1.2.0",
            "grid_template_areas": null,
            "object_position": null,
            "object_fit": null,
            "grid_auto_columns": null,
            "margin": null,
            "display": null,
            "left": null
          }
        },
        "9cb51b99dc39436bbdf7e61cfce125b3": {
          "model_module": "@jupyter-widgets/output",
          "model_name": "OutputModel",
          "state": {
            "_view_name": "OutputView",
            "msg_id": "",
            "_dom_classes": [],
            "_model_name": "OutputModel",
            "outputs": [
              {
                "output_type": "stream",
                "metadata": {
                  "tags": []
                },
                "text": "Video available at https://youtube.com/watch?v=EpoIjzytpxQ\n",
                "stream": "stdout"
              },
              {
                "output_type": "display_data",
                "metadata": {
                  "tags": []
                },
                "text/html": "\n        <iframe\n            width=\"854\"\n            height=\"480\"\n            src=\"https://www.youtube.com/embed/EpoIjzytpxQ?fs=1&rel=0\"\n            frameborder=\"0\"\n            allowfullscreen\n        ></iframe>\n        ",
                "text/plain": "<IPython.lib.display.YouTubeVideo at 0x7f5f32010d50>",
                "image/jpeg": "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\n"
              }
            ],
            "_view_module": "@jupyter-widgets/output",
            "_model_module_version": "1.0.0",
            "_view_count": null,
            "_view_module_version": "1.0.0",
            "layout": "IPY_MODEL_1ab096d60d674d26accb4999fec50b55",
            "_model_module": "@jupyter-widgets/output"
          }
        },
        "9b1abbb1c002489ca2177eb49772cefb": {
          "model_module": "@jupyter-widgets/output",
          "model_name": "OutputModel",
          "state": {
            "_view_name": "OutputView",
            "msg_id": "",
            "_dom_classes": [],
            "_model_name": "OutputModel",
            "outputs": [
              {
                "output_type": "stream",
                "metadata": {
                  "tags": []
                },
                "text": "Video available at https://www.bilibili.com/video/\n",
                "stream": "stdout"
              },
              {
                "output_type": "display_data",
                "metadata": {
                  "tags": []
                },
                "text/html": "\n        <iframe\n            width=\"854\"\n            height=\"480\"\n            src=\"https://player.bilibili.com/player.html?bvid=&page=1?fs=1\"\n            frameborder=\"0\"\n            allowfullscreen\n        ></iframe>\n        ",
                "text/plain": "<__main__.BiliVideo at 0x7f5f03a44350>"
              }
            ],
            "_view_module": "@jupyter-widgets/output",
            "_model_module_version": "1.0.0",
            "_view_count": null,
            "_view_module_version": "1.0.0",
            "layout": "IPY_MODEL_fe2fd43d8a2a4046a506e632e4f4cda5",
            "_model_module": "@jupyter-widgets/output"
          }
        },
        "1ab096d60d674d26accb4999fec50b55": {
          "model_module": "@jupyter-widgets/base",
          "model_name": "LayoutModel",
          "state": {
            "_view_name": "LayoutView",
            "grid_template_rows": null,
            "right": null,
            "justify_content": null,
            "_view_module": "@jupyter-widgets/base",
            "overflow": null,
            "_model_module_version": "1.2.0",
            "_view_count": null,
            "flex_flow": null,
            "width": null,
            "min_width": null,
            "border": null,
            "align_items": null,
            "bottom": null,
            "_model_module": "@jupyter-widgets/base",
            "top": null,
            "grid_column": null,
            "overflow_y": null,
            "overflow_x": null,
            "grid_auto_flow": null,
            "grid_area": null,
            "grid_template_columns": null,
            "flex": null,
            "_model_name": "LayoutModel",
            "justify_items": null,
            "grid_row": null,
            "max_height": null,
            "align_content": null,
            "visibility": null,
            "align_self": null,
            "height": null,
            "min_height": null,
            "padding": null,
            "grid_auto_rows": null,
            "grid_gap": null,
            "max_width": null,
            "order": null,
            "_view_module_version": "1.2.0",
            "grid_template_areas": null,
            "object_position": null,
            "object_fit": null,
            "grid_auto_columns": null,
            "margin": null,
            "display": null,
            "left": null
          }
        },
        "fe2fd43d8a2a4046a506e632e4f4cda5": {
          "model_module": "@jupyter-widgets/base",
          "model_name": "LayoutModel",
          "state": {
            "_view_name": "LayoutView",
            "grid_template_rows": null,
            "right": null,
            "justify_content": null,
            "_view_module": "@jupyter-widgets/base",
            "overflow": null,
            "_model_module_version": "1.2.0",
            "_view_count": null,
            "flex_flow": null,
            "width": null,
            "min_width": null,
            "border": null,
            "align_items": null,
            "bottom": null,
            "_model_module": "@jupyter-widgets/base",
            "top": null,
            "grid_column": null,
            "overflow_y": null,
            "overflow_x": null,
            "grid_auto_flow": null,
            "grid_area": null,
            "grid_template_columns": null,
            "flex": null,
            "_model_name": "LayoutModel",
            "justify_items": null,
            "grid_row": null,
            "max_height": null,
            "align_content": null,
            "visibility": null,
            "align_self": null,
            "height": null,
            "min_height": null,
            "padding": null,
            "grid_auto_rows": null,
            "grid_gap": null,
            "max_width": null,
            "order": null,
            "_view_module_version": "1.2.0",
            "grid_template_areas": null,
            "object_position": null,
            "object_fit": null,
            "grid_auto_columns": null,
            "margin": null,
            "display": null,
            "left": null
          }
        },
        "fbc28f06ed6e484e816ecc6f3a5c2ee7": {
          "model_module": "@jupyter-widgets/controls",
          "model_name": "TabModel",
          "state": {
            "_view_name": "TabView",
            "_dom_classes": [],
            "_titles": {
              "0": "Youtube",
              "1": "Bilibili"
            },
            "_model_name": "TabModel",
            "_view_module": "@jupyter-widgets/controls",
            "selected_index": 0,
            "_model_module_version": "1.5.0",
            "_view_count": null,
            "_view_module_version": "1.5.0",
            "box_style": "",
            "layout": "IPY_MODEL_31eea6fb4f4e4ddf8f224b8500fd8e3f",
            "_model_module": "@jupyter-widgets/controls",
            "children": [
              "IPY_MODEL_2c496e7f626e40d68c097857821bbefa",
              "IPY_MODEL_efdc04d8ee4841b6a9ff20f38028b870"
            ]
          }
        },
        "31eea6fb4f4e4ddf8f224b8500fd8e3f": {
          "model_module": "@jupyter-widgets/base",
          "model_name": "LayoutModel",
          "state": {
            "_view_name": "LayoutView",
            "grid_template_rows": null,
            "right": null,
            "justify_content": null,
            "_view_module": "@jupyter-widgets/base",
            "overflow": null,
            "_model_module_version": "1.2.0",
            "_view_count": null,
            "flex_flow": null,
            "width": null,
            "min_width": null,
            "border": null,
            "align_items": null,
            "bottom": null,
            "_model_module": "@jupyter-widgets/base",
            "top": null,
            "grid_column": null,
            "overflow_y": null,
            "overflow_x": null,
            "grid_auto_flow": null,
            "grid_area": null,
            "grid_template_columns": null,
            "flex": null,
            "_model_name": "LayoutModel",
            "justify_items": null,
            "grid_row": null,
            "max_height": null,
            "align_content": null,
            "visibility": null,
            "align_self": null,
            "height": null,
            "min_height": null,
            "padding": null,
            "grid_auto_rows": null,
            "grid_gap": null,
            "max_width": null,
            "order": null,
            "_view_module_version": "1.2.0",
            "grid_template_areas": null,
            "object_position": null,
            "object_fit": null,
            "grid_auto_columns": null,
            "margin": null,
            "display": null,
            "left": null
          }
        },
        "2c496e7f626e40d68c097857821bbefa": {
          "model_module": "@jupyter-widgets/output",
          "model_name": "OutputModel",
          "state": {
            "_view_name": "OutputView",
            "msg_id": "",
            "_dom_classes": [],
            "_model_name": "OutputModel",
            "outputs": [
              {
                "output_type": "stream",
                "metadata": {
                  "tags": []
                },
                "text": "Video available at https://youtube.com/watch?v=-KV8DvNjn5Q\n",
                "stream": "stdout"
              },
              {
                "output_type": "display_data",
                "metadata": {
                  "tags": []
                },
                "text/html": "\n        <iframe\n            width=\"854\"\n            height=\"480\"\n            src=\"https://www.youtube.com/embed/-KV8DvNjn5Q?fs=1&rel=0\"\n            frameborder=\"0\"\n            allowfullscreen\n        ></iframe>\n        ",
                "text/plain": "<IPython.lib.display.YouTubeVideo at 0x7f5f32010d50>",
                "image/jpeg": "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\n"
              }
            ],
            "_view_module": "@jupyter-widgets/output",
            "_model_module_version": "1.0.0",
            "_view_count": null,
            "_view_module_version": "1.0.0",
            "layout": "IPY_MODEL_24854d1316d54ccc9865e8af07d2e266",
            "_model_module": "@jupyter-widgets/output"
          }
        },
        "efdc04d8ee4841b6a9ff20f38028b870": {
          "model_module": "@jupyter-widgets/output",
          "model_name": "OutputModel",
          "state": {
            "_view_name": "OutputView",
            "msg_id": "",
            "_dom_classes": [],
            "_model_name": "OutputModel",
            "outputs": [
              {
                "output_type": "stream",
                "metadata": {
                  "tags": []
                },
                "text": "Video available at https://www.bilibili.com/video/\n",
                "stream": "stdout"
              },
              {
                "output_type": "display_data",
                "metadata": {
                  "tags": []
                },
                "text/html": "\n        <iframe\n            width=\"854\"\n            height=\"480\"\n            src=\"https://player.bilibili.com/player.html?bvid=&page=1?fs=1\"\n            frameborder=\"0\"\n            allowfullscreen\n        ></iframe>\n        ",
                "text/plain": "<__main__.BiliVideo at 0x7f5f92adef50>"
              }
            ],
            "_view_module": "@jupyter-widgets/output",
            "_model_module_version": "1.0.0",
            "_view_count": null,
            "_view_module_version": "1.0.0",
            "layout": "IPY_MODEL_8b69f0b32d904a70aa5afc9894afe830",
            "_model_module": "@jupyter-widgets/output"
          }
        },
        "24854d1316d54ccc9865e8af07d2e266": {
          "model_module": "@jupyter-widgets/base",
          "model_name": "LayoutModel",
          "state": {
            "_view_name": "LayoutView",
            "grid_template_rows": null,
            "right": null,
            "justify_content": null,
            "_view_module": "@jupyter-widgets/base",
            "overflow": null,
            "_model_module_version": "1.2.0",
            "_view_count": null,
            "flex_flow": null,
            "width": null,
            "min_width": null,
            "border": null,
            "align_items": null,
            "bottom": null,
            "_model_module": "@jupyter-widgets/base",
            "top": null,
            "grid_column": null,
            "overflow_y": null,
            "overflow_x": null,
            "grid_auto_flow": null,
            "grid_area": null,
            "grid_template_columns": null,
            "flex": null,
            "_model_name": "LayoutModel",
            "justify_items": null,
            "grid_row": null,
            "max_height": null,
            "align_content": null,
            "visibility": null,
            "align_self": null,
            "height": null,
            "min_height": null,
            "padding": null,
            "grid_auto_rows": null,
            "grid_gap": null,
            "max_width": null,
            "order": null,
            "_view_module_version": "1.2.0",
            "grid_template_areas": null,
            "object_position": null,
            "object_fit": null,
            "grid_auto_columns": null,
            "margin": null,
            "display": null,
            "left": null
          }
        },
        "8b69f0b32d904a70aa5afc9894afe830": {
          "model_module": "@jupyter-widgets/base",
          "model_name": "LayoutModel",
          "state": {
            "_view_name": "LayoutView",
            "grid_template_rows": null,
            "right": null,
            "justify_content": null,
            "_view_module": "@jupyter-widgets/base",
            "overflow": null,
            "_model_module_version": "1.2.0",
            "_view_count": null,
            "flex_flow": null,
            "width": null,
            "min_width": null,
            "border": null,
            "align_items": null,
            "bottom": null,
            "_model_module": "@jupyter-widgets/base",
            "top": null,
            "grid_column": null,
            "overflow_y": null,
            "overflow_x": null,
            "grid_auto_flow": null,
            "grid_area": null,
            "grid_template_columns": null,
            "flex": null,
            "_model_name": "LayoutModel",
            "justify_items": null,
            "grid_row": null,
            "max_height": null,
            "align_content": null,
            "visibility": null,
            "align_self": null,
            "height": null,
            "min_height": null,
            "padding": null,
            "grid_auto_rows": null,
            "grid_gap": null,
            "max_width": null,
            "order": null,
            "_view_module_version": "1.2.0",
            "grid_template_areas": null,
            "object_position": null,
            "object_fit": null,
            "grid_auto_columns": null,
            "margin": null,
            "display": null,
            "left": null
          }
        },
        "9a54584fa2bb4dedae7cf136fab6a23e": {
          "model_module": "@jupyter-widgets/controls",
          "model_name": "TabModel",
          "state": {
            "_view_name": "TabView",
            "_dom_classes": [],
            "_titles": {
              "0": "Youtube",
              "1": "Bilibili"
            },
            "_model_name": "TabModel",
            "_view_module": "@jupyter-widgets/controls",
            "selected_index": 0,
            "_model_module_version": "1.5.0",
            "_view_count": null,
            "_view_module_version": "1.5.0",
            "box_style": "",
            "layout": "IPY_MODEL_77989aba7bfa494fb0ac7a8cd6faaf36",
            "_model_module": "@jupyter-widgets/controls",
            "children": [
              "IPY_MODEL_1bce5b57ee0240a8975fecb914a54a1e",
              "IPY_MODEL_40968db1c78d491ab5b7e10c96b7bed1"
            ]
          }
        },
        "77989aba7bfa494fb0ac7a8cd6faaf36": {
          "model_module": "@jupyter-widgets/base",
          "model_name": "LayoutModel",
          "state": {
            "_view_name": "LayoutView",
            "grid_template_rows": null,
            "right": null,
            "justify_content": null,
            "_view_module": "@jupyter-widgets/base",
            "overflow": null,
            "_model_module_version": "1.2.0",
            "_view_count": null,
            "flex_flow": null,
            "width": null,
            "min_width": null,
            "border": null,
            "align_items": null,
            "bottom": null,
            "_model_module": "@jupyter-widgets/base",
            "top": null,
            "grid_column": null,
            "overflow_y": null,
            "overflow_x": null,
            "grid_auto_flow": null,
            "grid_area": null,
            "grid_template_columns": null,
            "flex": null,
            "_model_name": "LayoutModel",
            "justify_items": null,
            "grid_row": null,
            "max_height": null,
            "align_content": null,
            "visibility": null,
            "align_self": null,
            "height": null,
            "min_height": null,
            "padding": null,
            "grid_auto_rows": null,
            "grid_gap": null,
            "max_width": null,
            "order": null,
            "_view_module_version": "1.2.0",
            "grid_template_areas": null,
            "object_position": null,
            "object_fit": null,
            "grid_auto_columns": null,
            "margin": null,
            "display": null,
            "left": null
          }
        },
        "1bce5b57ee0240a8975fecb914a54a1e": {
          "model_module": "@jupyter-widgets/output",
          "model_name": "OutputModel",
          "state": {
            "_view_name": "OutputView",
            "msg_id": "",
            "_dom_classes": [],
            "_model_name": "OutputModel",
            "outputs": [
              {
                "output_type": "stream",
                "metadata": {
                  "tags": []
                },
                "text": "Video available at https://youtube.com/watch?v=tKBcMtoEzQA\n",
                "stream": "stdout"
              },
              {
                "output_type": "display_data",
                "metadata": {
                  "tags": []
                },
                "text/html": "\n        <iframe\n            width=\"854\"\n            height=\"480\"\n            src=\"https://www.youtube.com/embed/tKBcMtoEzQA?fs=1&rel=0\"\n            frameborder=\"0\"\n            allowfullscreen\n        ></iframe>\n        ",
                "text/plain": "<IPython.lib.display.YouTubeVideo at 0x7f5f290ae8d0>",
                "image/jpeg": "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\n"
              }
            ],
            "_view_module": "@jupyter-widgets/output",
            "_model_module_version": "1.0.0",
            "_view_count": null,
            "_view_module_version": "1.0.0",
            "layout": "IPY_MODEL_830de4cfa2064b4d82ed988767499459",
            "_model_module": "@jupyter-widgets/output"
          }
        },
        "40968db1c78d491ab5b7e10c96b7bed1": {
          "model_module": "@jupyter-widgets/output",
          "model_name": "OutputModel",
          "state": {
            "_view_name": "OutputView",
            "msg_id": "",
            "_dom_classes": [],
            "_model_name": "OutputModel",
            "outputs": [
              {
                "output_type": "stream",
                "metadata": {
                  "tags": []
                },
                "text": "Video available at https://www.bilibili.com/video/\n",
                "stream": "stdout"
              },
              {
                "output_type": "display_data",
                "metadata": {
                  "tags": []
                },
                "text/html": "\n        <iframe\n            width=\"854\"\n            height=\"480\"\n            src=\"https://player.bilibili.com/player.html?bvid=&page=1?fs=1\"\n            frameborder=\"0\"\n            allowfullscreen\n        ></iframe>\n        ",
                "text/plain": "<__main__.BiliVideo at 0x7f5f20afca50>"
              }
            ],
            "_view_module": "@jupyter-widgets/output",
            "_model_module_version": "1.0.0",
            "_view_count": null,
            "_view_module_version": "1.0.0",
            "layout": "IPY_MODEL_d28760aba99c4935ad5086f34cafcdca",
            "_model_module": "@jupyter-widgets/output"
          }
        },
        "830de4cfa2064b4d82ed988767499459": {
          "model_module": "@jupyter-widgets/base",
          "model_name": "LayoutModel",
          "state": {
            "_view_name": "LayoutView",
            "grid_template_rows": null,
            "right": null,
            "justify_content": null,
            "_view_module": "@jupyter-widgets/base",
            "overflow": null,
            "_model_module_version": "1.2.0",
            "_view_count": null,
            "flex_flow": null,
            "width": null,
            "min_width": null,
            "border": null,
            "align_items": null,
            "bottom": null,
            "_model_module": "@jupyter-widgets/base",
            "top": null,
            "grid_column": null,
            "overflow_y": null,
            "overflow_x": null,
            "grid_auto_flow": null,
            "grid_area": null,
            "grid_template_columns": null,
            "flex": null,
            "_model_name": "LayoutModel",
            "justify_items": null,
            "grid_row": null,
            "max_height": null,
            "align_content": null,
            "visibility": null,
            "align_self": null,
            "height": null,
            "min_height": null,
            "padding": null,
            "grid_auto_rows": null,
            "grid_gap": null,
            "max_width": null,
            "order": null,
            "_view_module_version": "1.2.0",
            "grid_template_areas": null,
            "object_position": null,
            "object_fit": null,
            "grid_auto_columns": null,
            "margin": null,
            "display": null,
            "left": null
          }
        },
        "d28760aba99c4935ad5086f34cafcdca": {
          "model_module": "@jupyter-widgets/base",
          "model_name": "LayoutModel",
          "state": {
            "_view_name": "LayoutView",
            "grid_template_rows": null,
            "right": null,
            "justify_content": null,
            "_view_module": "@jupyter-widgets/base",
            "overflow": null,
            "_model_module_version": "1.2.0",
            "_view_count": null,
            "flex_flow": null,
            "width": null,
            "min_width": null,
            "border": null,
            "align_items": null,
            "bottom": null,
            "_model_module": "@jupyter-widgets/base",
            "top": null,
            "grid_column": null,
            "overflow_y": null,
            "overflow_x": null,
            "grid_auto_flow": null,
            "grid_area": null,
            "grid_template_columns": null,
            "flex": null,
            "_model_name": "LayoutModel",
            "justify_items": null,
            "grid_row": null,
            "max_height": null,
            "align_content": null,
            "visibility": null,
            "align_self": null,
            "height": null,
            "min_height": null,
            "padding": null,
            "grid_auto_rows": null,
            "grid_gap": null,
            "max_width": null,
            "order": null,
            "_view_module_version": "1.2.0",
            "grid_template_areas": null,
            "object_position": null,
            "object_fit": null,
            "grid_auto_columns": null,
            "margin": null,
            "display": null,
            "left": null
          }
        },
        "d856b5d96ef242d89128ec885e7365d4": {
          "model_module": "@jupyter-widgets/controls",
          "model_name": "TabModel",
          "state": {
            "_view_name": "TabView",
            "_dom_classes": [],
            "_titles": {
              "0": "Youtube",
              "1": "Bilibili"
            },
            "_model_name": "TabModel",
            "_view_module": "@jupyter-widgets/controls",
            "selected_index": 0,
            "_model_module_version": "1.5.0",
            "_view_count": null,
            "_view_module_version": "1.5.0",
            "box_style": "",
            "layout": "IPY_MODEL_eb2b93bee1b14b1cb302d38a9acbdb00",
            "_model_module": "@jupyter-widgets/controls",
            "children": [
              "IPY_MODEL_ecde55f3164840db921ac9be95cd8d46",
              "IPY_MODEL_46a6bf432d82434b9ebe70064c3a4307"
            ]
          }
        },
        "eb2b93bee1b14b1cb302d38a9acbdb00": {
          "model_module": "@jupyter-widgets/base",
          "model_name": "LayoutModel",
          "state": {
            "_view_name": "LayoutView",
            "grid_template_rows": null,
            "right": null,
            "justify_content": null,
            "_view_module": "@jupyter-widgets/base",
            "overflow": null,
            "_model_module_version": "1.2.0",
            "_view_count": null,
            "flex_flow": null,
            "width": null,
            "min_width": null,
            "border": null,
            "align_items": null,
            "bottom": null,
            "_model_module": "@jupyter-widgets/base",
            "top": null,
            "grid_column": null,
            "overflow_y": null,
            "overflow_x": null,
            "grid_auto_flow": null,
            "grid_area": null,
            "grid_template_columns": null,
            "flex": null,
            "_model_name": "LayoutModel",
            "justify_items": null,
            "grid_row": null,
            "max_height": null,
            "align_content": null,
            "visibility": null,
            "align_self": null,
            "height": null,
            "min_height": null,
            "padding": null,
            "grid_auto_rows": null,
            "grid_gap": null,
            "max_width": null,
            "order": null,
            "_view_module_version": "1.2.0",
            "grid_template_areas": null,
            "object_position": null,
            "object_fit": null,
            "grid_auto_columns": null,
            "margin": null,
            "display": null,
            "left": null
          }
        },
        "ecde55f3164840db921ac9be95cd8d46": {
          "model_module": "@jupyter-widgets/output",
          "model_name": "OutputModel",
          "state": {
            "_view_name": "OutputView",
            "msg_id": "",
            "_dom_classes": [],
            "_model_name": "OutputModel",
            "outputs": [
              {
                "output_type": "stream",
                "metadata": {
                  "tags": []
                },
                "text": "Video available at https://youtube.com/watch?v=ejG3kN_leRk\n",
                "stream": "stdout"
              },
              {
                "output_type": "display_data",
                "metadata": {
                  "tags": []
                },
                "text/html": "\n        <iframe\n            width=\"854\"\n            height=\"480\"\n            src=\"https://www.youtube.com/embed/ejG3kN_leRk?fs=1&rel=0\"\n            frameborder=\"0\"\n            allowfullscreen\n        ></iframe>\n        ",
                "text/plain": "<IPython.lib.display.YouTubeVideo at 0x7f5f266e9d10>",
                "image/jpeg": "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\n"
              }
            ],
            "_view_module": "@jupyter-widgets/output",
            "_model_module_version": "1.0.0",
            "_view_count": null,
            "_view_module_version": "1.0.0",
            "layout": "IPY_MODEL_b2ab145a96cf4aae9e907ad4127fb8b0",
            "_model_module": "@jupyter-widgets/output"
          }
        },
        "46a6bf432d82434b9ebe70064c3a4307": {
          "model_module": "@jupyter-widgets/output",
          "model_name": "OutputModel",
          "state": {
            "_view_name": "OutputView",
            "msg_id": "",
            "_dom_classes": [],
            "_model_name": "OutputModel",
            "outputs": [
              {
                "output_type": "stream",
                "metadata": {
                  "tags": []
                },
                "text": "Video available at https://www.bilibili.com/video/\n",
                "stream": "stdout"
              },
              {
                "output_type": "display_data",
                "metadata": {
                  "tags": []
                },
                "text/html": "\n        <iframe\n            width=\"854\"\n            height=\"480\"\n            src=\"https://player.bilibili.com/player.html?bvid=&page=1?fs=1\"\n            frameborder=\"0\"\n            allowfullscreen\n        ></iframe>\n        ",
                "text/plain": "<__main__.BiliVideo at 0x7f5f266e9f50>"
              }
            ],
            "_view_module": "@jupyter-widgets/output",
            "_model_module_version": "1.0.0",
            "_view_count": null,
            "_view_module_version": "1.0.0",
            "layout": "IPY_MODEL_976bfefb2d1d41ae8408398a4636bea0",
            "_model_module": "@jupyter-widgets/output"
          }
        },
        "b2ab145a96cf4aae9e907ad4127fb8b0": {
          "model_module": "@jupyter-widgets/base",
          "model_name": "LayoutModel",
          "state": {
            "_view_name": "LayoutView",
            "grid_template_rows": null,
            "right": null,
            "justify_content": null,
            "_view_module": "@jupyter-widgets/base",
            "overflow": null,
            "_model_module_version": "1.2.0",
            "_view_count": null,
            "flex_flow": null,
            "width": null,
            "min_width": null,
            "border": null,
            "align_items": null,
            "bottom": null,
            "_model_module": "@jupyter-widgets/base",
            "top": null,
            "grid_column": null,
            "overflow_y": null,
            "overflow_x": null,
            "grid_auto_flow": null,
            "grid_area": null,
            "grid_template_columns": null,
            "flex": null,
            "_model_name": "LayoutModel",
            "justify_items": null,
            "grid_row": null,
            "max_height": null,
            "align_content": null,
            "visibility": null,
            "align_self": null,
            "height": null,
            "min_height": null,
            "padding": null,
            "grid_auto_rows": null,
            "grid_gap": null,
            "max_width": null,
            "order": null,
            "_view_module_version": "1.2.0",
            "grid_template_areas": null,
            "object_position": null,
            "object_fit": null,
            "grid_auto_columns": null,
            "margin": null,
            "display": null,
            "left": null
          }
        },
        "976bfefb2d1d41ae8408398a4636bea0": {
          "model_module": "@jupyter-widgets/base",
          "model_name": "LayoutModel",
          "state": {
            "_view_name": "LayoutView",
            "grid_template_rows": null,
            "right": null,
            "justify_content": null,
            "_view_module": "@jupyter-widgets/base",
            "overflow": null,
            "_model_module_version": "1.2.0",
            "_view_count": null,
            "flex_flow": null,
            "width": null,
            "min_width": null,
            "border": null,
            "align_items": null,
            "bottom": null,
            "_model_module": "@jupyter-widgets/base",
            "top": null,
            "grid_column": null,
            "overflow_y": null,
            "overflow_x": null,
            "grid_auto_flow": null,
            "grid_area": null,
            "grid_template_columns": null,
            "flex": null,
            "_model_name": "LayoutModel",
            "justify_items": null,
            "grid_row": null,
            "max_height": null,
            "align_content": null,
            "visibility": null,
            "align_self": null,
            "height": null,
            "min_height": null,
            "padding": null,
            "grid_auto_rows": null,
            "grid_gap": null,
            "max_width": null,
            "order": null,
            "_view_module_version": "1.2.0",
            "grid_template_areas": null,
            "object_position": null,
            "object_fit": null,
            "grid_auto_columns": null,
            "margin": null,
            "display": null,
            "left": null
          }
        },
        "993bf73b0f934e539f8dd4cf25c79c9f": {
          "model_module": "@jupyter-widgets/controls",
          "model_name": "TabModel",
          "state": {
            "_view_name": "TabView",
            "_dom_classes": [],
            "_titles": {
              "0": "Youtube",
              "1": "Bilibili"
            },
            "_model_name": "TabModel",
            "_view_module": "@jupyter-widgets/controls",
            "selected_index": 0,
            "_model_module_version": "1.5.0",
            "_view_count": null,
            "_view_module_version": "1.5.0",
            "box_style": "",
            "layout": "IPY_MODEL_b6d9794bb4a84d0c8a77f9083bdaaaab",
            "_model_module": "@jupyter-widgets/controls",
            "children": [
              "IPY_MODEL_6a956744f6a04953a22dca102c6cd1bc",
              "IPY_MODEL_08e343b0bc5e41cfa862b249c8d5355f"
            ]
          }
        },
        "b6d9794bb4a84d0c8a77f9083bdaaaab": {
          "model_module": "@jupyter-widgets/base",
          "model_name": "LayoutModel",
          "state": {
            "_view_name": "LayoutView",
            "grid_template_rows": null,
            "right": null,
            "justify_content": null,
            "_view_module": "@jupyter-widgets/base",
            "overflow": null,
            "_model_module_version": "1.2.0",
            "_view_count": null,
            "flex_flow": null,
            "width": null,
            "min_width": null,
            "border": null,
            "align_items": null,
            "bottom": null,
            "_model_module": "@jupyter-widgets/base",
            "top": null,
            "grid_column": null,
            "overflow_y": null,
            "overflow_x": null,
            "grid_auto_flow": null,
            "grid_area": null,
            "grid_template_columns": null,
            "flex": null,
            "_model_name": "LayoutModel",
            "justify_items": null,
            "grid_row": null,
            "max_height": null,
            "align_content": null,
            "visibility": null,
            "align_self": null,
            "height": null,
            "min_height": null,
            "padding": null,
            "grid_auto_rows": null,
            "grid_gap": null,
            "max_width": null,
            "order": null,
            "_view_module_version": "1.2.0",
            "grid_template_areas": null,
            "object_position": null,
            "object_fit": null,
            "grid_auto_columns": null,
            "margin": null,
            "display": null,
            "left": null
          }
        },
        "6a956744f6a04953a22dca102c6cd1bc": {
          "model_module": "@jupyter-widgets/output",
          "model_name": "OutputModel",
          "state": {
            "_view_name": "OutputView",
            "msg_id": "",
            "_dom_classes": [],
            "_model_name": "OutputModel",
            "outputs": [
              {
                "output_type": "stream",
                "metadata": {
                  "tags": []
                },
                "text": "Video available at https://youtube.com/watch?v=4LKZwDP_Qac\n",
                "stream": "stdout"
              },
              {
                "output_type": "display_data",
                "metadata": {
                  "tags": []
                },
                "text/html": "\n        <iframe\n            width=\"854\"\n            height=\"480\"\n            src=\"https://www.youtube.com/embed/4LKZwDP_Qac?fs=1&rel=0\"\n            frameborder=\"0\"\n            allowfullscreen\n        ></iframe>\n        ",
                "text/plain": "<IPython.lib.display.YouTubeVideo at 0x7f5f2870b310>",
                "image/jpeg": "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\n"
              }
            ],
            "_view_module": "@jupyter-widgets/output",
            "_model_module_version": "1.0.0",
            "_view_count": null,
            "_view_module_version": "1.0.0",
            "layout": "IPY_MODEL_1d2857aee2214d55aa4d119748733be6",
            "_model_module": "@jupyter-widgets/output"
          }
        },
        "08e343b0bc5e41cfa862b249c8d5355f": {
          "model_module": "@jupyter-widgets/output",
          "model_name": "OutputModel",
          "state": {
            "_view_name": "OutputView",
            "msg_id": "",
            "_dom_classes": [],
            "_model_name": "OutputModel",
            "outputs": [
              {
                "output_type": "stream",
                "metadata": {
                  "tags": []
                },
                "text": "Video available at https://www.bilibili.com/video/\n",
                "stream": "stdout"
              },
              {
                "output_type": "display_data",
                "metadata": {
                  "tags": []
                },
                "text/html": "\n        <iframe\n            width=\"854\"\n            height=\"480\"\n            src=\"https://player.bilibili.com/player.html?bvid=&page=1?fs=1\"\n            frameborder=\"0\"\n            allowfullscreen\n        ></iframe>\n        ",
                "text/plain": "<__main__.BiliVideo at 0x7f5f290dbb10>"
              }
            ],
            "_view_module": "@jupyter-widgets/output",
            "_model_module_version": "1.0.0",
            "_view_count": null,
            "_view_module_version": "1.0.0",
            "layout": "IPY_MODEL_252e5f6af0b147f69b035ad16185dd9f",
            "_model_module": "@jupyter-widgets/output"
          }
        },
        "1d2857aee2214d55aa4d119748733be6": {
          "model_module": "@jupyter-widgets/base",
          "model_name": "LayoutModel",
          "state": {
            "_view_name": "LayoutView",
            "grid_template_rows": null,
            "right": null,
            "justify_content": null,
            "_view_module": "@jupyter-widgets/base",
            "overflow": null,
            "_model_module_version": "1.2.0",
            "_view_count": null,
            "flex_flow": null,
            "width": null,
            "min_width": null,
            "border": null,
            "align_items": null,
            "bottom": null,
            "_model_module": "@jupyter-widgets/base",
            "top": null,
            "grid_column": null,
            "overflow_y": null,
            "overflow_x": null,
            "grid_auto_flow": null,
            "grid_area": null,
            "grid_template_columns": null,
            "flex": null,
            "_model_name": "LayoutModel",
            "justify_items": null,
            "grid_row": null,
            "max_height": null,
            "align_content": null,
            "visibility": null,
            "align_self": null,
            "height": null,
            "min_height": null,
            "padding": null,
            "grid_auto_rows": null,
            "grid_gap": null,
            "max_width": null,
            "order": null,
            "_view_module_version": "1.2.0",
            "grid_template_areas": null,
            "object_position": null,
            "object_fit": null,
            "grid_auto_columns": null,
            "margin": null,
            "display": null,
            "left": null
          }
        },
        "252e5f6af0b147f69b035ad16185dd9f": {
          "model_module": "@jupyter-widgets/base",
          "model_name": "LayoutModel",
          "state": {
            "_view_name": "LayoutView",
            "grid_template_rows": null,
            "right": null,
            "justify_content": null,
            "_view_module": "@jupyter-widgets/base",
            "overflow": null,
            "_model_module_version": "1.2.0",
            "_view_count": null,
            "flex_flow": null,
            "width": null,
            "min_width": null,
            "border": null,
            "align_items": null,
            "bottom": null,
            "_model_module": "@jupyter-widgets/base",
            "top": null,
            "grid_column": null,
            "overflow_y": null,
            "overflow_x": null,
            "grid_auto_flow": null,
            "grid_area": null,
            "grid_template_columns": null,
            "flex": null,
            "_model_name": "LayoutModel",
            "justify_items": null,
            "grid_row": null,
            "max_height": null,
            "align_content": null,
            "visibility": null,
            "align_self": null,
            "height": null,
            "min_height": null,
            "padding": null,
            "grid_auto_rows": null,
            "grid_gap": null,
            "max_width": null,
            "order": null,
            "_view_module_version": "1.2.0",
            "grid_template_areas": null,
            "object_position": null,
            "object_fit": null,
            "grid_auto_columns": null,
            "margin": null,
            "display": null,
            "left": null
          }
        },
        "6d9b78634ac74cbb875d05f1946e03c1": {
          "model_module": "@jupyter-widgets/controls",
          "model_name": "TabModel",
          "state": {
            "_view_name": "TabView",
            "_dom_classes": [],
            "_titles": {
              "0": "Youtube",
              "1": "Bilibili"
            },
            "_model_name": "TabModel",
            "_view_module": "@jupyter-widgets/controls",
            "selected_index": 0,
            "_model_module_version": "1.5.0",
            "_view_count": null,
            "_view_module_version": "1.5.0",
            "box_style": "",
            "layout": "IPY_MODEL_9047e8210f1047a7aff8f5307c3fd426",
            "_model_module": "@jupyter-widgets/controls",
            "children": [
              "IPY_MODEL_821c529185084b3982ca7bc7072a6b6c",
              "IPY_MODEL_70f89bd23c664be6a6867c23f682421c"
            ]
          }
        },
        "9047e8210f1047a7aff8f5307c3fd426": {
          "model_module": "@jupyter-widgets/base",
          "model_name": "LayoutModel",
          "state": {
            "_view_name": "LayoutView",
            "grid_template_rows": null,
            "right": null,
            "justify_content": null,
            "_view_module": "@jupyter-widgets/base",
            "overflow": null,
            "_model_module_version": "1.2.0",
            "_view_count": null,
            "flex_flow": null,
            "width": null,
            "min_width": null,
            "border": null,
            "align_items": null,
            "bottom": null,
            "_model_module": "@jupyter-widgets/base",
            "top": null,
            "grid_column": null,
            "overflow_y": null,
            "overflow_x": null,
            "grid_auto_flow": null,
            "grid_area": null,
            "grid_template_columns": null,
            "flex": null,
            "_model_name": "LayoutModel",
            "justify_items": null,
            "grid_row": null,
            "max_height": null,
            "align_content": null,
            "visibility": null,
            "align_self": null,
            "height": null,
            "min_height": null,
            "padding": null,
            "grid_auto_rows": null,
            "grid_gap": null,
            "max_width": null,
            "order": null,
            "_view_module_version": "1.2.0",
            "grid_template_areas": null,
            "object_position": null,
            "object_fit": null,
            "grid_auto_columns": null,
            "margin": null,
            "display": null,
            "left": null
          }
        },
        "821c529185084b3982ca7bc7072a6b6c": {
          "model_module": "@jupyter-widgets/output",
          "model_name": "OutputModel",
          "state": {
            "_view_name": "OutputView",
            "msg_id": "",
            "_dom_classes": [],
            "_model_name": "OutputModel",
            "outputs": [
              {
                "output_type": "stream",
                "metadata": {
                  "tags": []
                },
                "text": "Video available at https://youtube.com/watch?v=8JcHw-2cwtM\n",
                "stream": "stdout"
              },
              {
                "output_type": "display_data",
                "metadata": {
                  "tags": []
                },
                "text/html": "\n        <iframe\n            width=\"854\"\n            height=\"480\"\n            src=\"https://www.youtube.com/embed/8JcHw-2cwtM?fs=1&rel=0\"\n            frameborder=\"0\"\n            allowfullscreen\n        ></iframe>\n        ",
                "text/plain": "<IPython.lib.display.YouTubeVideo at 0x7f5f28721e90>",
                "image/jpeg": "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\n"
              }
            ],
            "_view_module": "@jupyter-widgets/output",
            "_model_module_version": "1.0.0",
            "_view_count": null,
            "_view_module_version": "1.0.0",
            "layout": "IPY_MODEL_9fbca5bd52f84a1abc971c15ad3a23b1",
            "_model_module": "@jupyter-widgets/output"
          }
        },
        "70f89bd23c664be6a6867c23f682421c": {
          "model_module": "@jupyter-widgets/output",
          "model_name": "OutputModel",
          "state": {
            "_view_name": "OutputView",
            "msg_id": "",
            "_dom_classes": [],
            "_model_name": "OutputModel",
            "outputs": [
              {
                "output_type": "stream",
                "metadata": {
                  "tags": []
                },
                "text": "Video available at https://www.bilibili.com/video/\n",
                "stream": "stdout"
              },
              {
                "output_type": "display_data",
                "metadata": {
                  "tags": []
                },
                "text/html": "\n        <iframe\n            width=\"854\"\n            height=\"480\"\n            src=\"https://player.bilibili.com/player.html?bvid=&page=1?fs=1\"\n            frameborder=\"0\"\n            allowfullscreen\n        ></iframe>\n        ",
                "text/plain": "<__main__.BiliVideo at 0x7f5f28721890>"
              }
            ],
            "_view_module": "@jupyter-widgets/output",
            "_model_module_version": "1.0.0",
            "_view_count": null,
            "_view_module_version": "1.0.0",
            "layout": "IPY_MODEL_987b5de4a0084fa3a40926f23fb6d771",
            "_model_module": "@jupyter-widgets/output"
          }
        },
        "9fbca5bd52f84a1abc971c15ad3a23b1": {
          "model_module": "@jupyter-widgets/base",
          "model_name": "LayoutModel",
          "state": {
            "_view_name": "LayoutView",
            "grid_template_rows": null,
            "right": null,
            "justify_content": null,
            "_view_module": "@jupyter-widgets/base",
            "overflow": null,
            "_model_module_version": "1.2.0",
            "_view_count": null,
            "flex_flow": null,
            "width": null,
            "min_width": null,
            "border": null,
            "align_items": null,
            "bottom": null,
            "_model_module": "@jupyter-widgets/base",
            "top": null,
            "grid_column": null,
            "overflow_y": null,
            "overflow_x": null,
            "grid_auto_flow": null,
            "grid_area": null,
            "grid_template_columns": null,
            "flex": null,
            "_model_name": "LayoutModel",
            "justify_items": null,
            "grid_row": null,
            "max_height": null,
            "align_content": null,
            "visibility": null,
            "align_self": null,
            "height": null,
            "min_height": null,
            "padding": null,
            "grid_auto_rows": null,
            "grid_gap": null,
            "max_width": null,
            "order": null,
            "_view_module_version": "1.2.0",
            "grid_template_areas": null,
            "object_position": null,
            "object_fit": null,
            "grid_auto_columns": null,
            "margin": null,
            "display": null,
            "left": null
          }
        },
        "987b5de4a0084fa3a40926f23fb6d771": {
          "model_module": "@jupyter-widgets/base",
          "model_name": "LayoutModel",
          "state": {
            "_view_name": "LayoutView",
            "grid_template_rows": null,
            "right": null,
            "justify_content": null,
            "_view_module": "@jupyter-widgets/base",
            "overflow": null,
            "_model_module_version": "1.2.0",
            "_view_count": null,
            "flex_flow": null,
            "width": null,
            "min_width": null,
            "border": null,
            "align_items": null,
            "bottom": null,
            "_model_module": "@jupyter-widgets/base",
            "top": null,
            "grid_column": null,
            "overflow_y": null,
            "overflow_x": null,
            "grid_auto_flow": null,
            "grid_area": null,
            "grid_template_columns": null,
            "flex": null,
            "_model_name": "LayoutModel",
            "justify_items": null,
            "grid_row": null,
            "max_height": null,
            "align_content": null,
            "visibility": null,
            "align_self": null,
            "height": null,
            "min_height": null,
            "padding": null,
            "grid_auto_rows": null,
            "grid_gap": null,
            "max_width": null,
            "order": null,
            "_view_module_version": "1.2.0",
            "grid_template_areas": null,
            "object_position": null,
            "object_fit": null,
            "grid_auto_columns": null,
            "margin": null,
            "display": null,
            "left": null
          }
        }
      }
    }
  },
  "cells": [
    {
      "cell_type": "markdown",
      "metadata": {
        "id": "view-in-github",
        "colab_type": "text"
      },
      "source": [
        "<a href=\"https://colab.research.google.com/github/NeuromatchAcademy/course-content-dl/blob/w3d3_videos/tutorials/W3D3_ReinforcementLearningForGames/W3D3_Tutorial1.ipynb\" target=\"_parent\"><img src=\"https://colab.research.google.com/assets/colab-badge.svg\" alt=\"Open In Colab\"/></a>"
      ]
    },
    {
      "cell_type": "markdown",
      "metadata": {
        "id": "MFZcdI4fbuf1"
      },
      "source": [
        "# Tutorial 1: Learn to play games with RL\n",
        "**Week 3, Day 3: Reinforcement Learning for Games**\n",
        "\n",
        "**By Neuromatch Academy**\n",
        "\n",
        "__Content creators:__ Tim Lilicrap, Blake Richards\n",
        "\n",
        "__Content reviewers:__ Arush Tagade, Lily Cheng, Melvin Selim Atay\n",
        "\n",
        "__Content editors:__ Melvin Selim Atay, Spiros Chavlis\n",
        "\n",
        "__Production editors:__ Namrata Bafna, Spiros Chavlis"
      ]
    },
    {
      "cell_type": "markdown",
      "metadata": {
        "id": "8YJoBpcibuf3"
      },
      "source": [
        "---\n",
        "#Tutorial Objectives\n",
        "\n",
        "In this tutotial, you will learn how to implement a game loop and improve the performance of a random player. \n",
        "\n",
        "The specific objectives for this tutorial:\n",
        "*   Understand the format of two-players games\n",
        "*   Learn about value network and policy network \n",
        "* Learn about Monte Carlo Tree Search (MCTS) and compare its performance to policy-based and value-based players\n",
        "\n"
      ]
    },
    {
      "cell_type": "code",
      "metadata": {
        "colab": {
          "base_uri": "https://localhost:8080/",
          "height": 590
        },
        "cellView": "form",
        "id": "xrTTcYKGbuf4",
        "outputId": "58d9b31a-19db-4c73-819a-4e2984cf3cd3"
      },
      "source": [
        "\n",
        "#@markdown Tutorial slides\n",
        "# you should link the slides for all tutorial videos here (we will store pdfs on osf)\n",
        "\n",
        "from IPython.display import HTML\n",
        "HTML('<iframe src=\"https://mfr.ca-1.osf.io/render?url=https://osf.io/3zn9w/?direct%26mode=render%26action=download%26mode=render\" frameborder=\"0\" width=\"960\" height=\"569\" allowfullscreen=\"true\" mozallowfullscreen=\"true\" webkitallowfullscreen=\"true\"></iframe>')"
      ],
      "execution_count": 1,
      "outputs": [
        {
          "output_type": "execute_result",
          "data": {
            "text/html": [
              "<iframe src=\"https://mfr.ca-1.osf.io/render?url=https://osf.io/3zn9w/?direct%26mode=render%26action=download%26mode=render\" frameborder=\"0\" width=\"960\" height=\"569\" allowfullscreen=\"true\" mozallowfullscreen=\"true\" webkitallowfullscreen=\"true\"></iframe>"
            ],
            "text/plain": [
              "<IPython.core.display.HTML object>"
            ]
          },
          "metadata": {
            "tags": []
          },
          "execution_count": 1
        }
      ]
    },
    {
      "cell_type": "code",
      "metadata": {
        "cellView": "form",
        "id": "ofH5Sjtyex7v",
        "outputId": "6af9c1d5-e1bf-47c6-8bc6-8d4c8cff891f",
        "colab": {
          "base_uri": "https://localhost:8080/",
          "height": 579,
          "referenced_widgets": [
            "6152d6c603d146948fd2288d52ae9a83",
            "0c2899ff9aae4a34b35fcfddddc21286",
            "458e92b0f5a14e8f81c7505480cd8fac",
            "ac7489302da94ca4913c98c26f5d2169",
            "32f7ddd451c34f299e932f315458e1a0",
            "29dde7c008024e34ae683c5a282105c3"
          ]
        }
      },
      "source": [
        "#@title Video 0: Introduction\n",
        "# Insert the ID of the corresponding youtube video\n",
        "from ipywidgets import widgets\n",
        "\n",
        "out2 = widgets.Output()\n",
        "with out2:\n",
        "  from IPython.display import IFrame\n",
        "  class BiliVideo(IFrame):\n",
        "    def __init__(self, id, page=1, width=400, height=300, **kwargs):\n",
        "      self.id=id\n",
        "      src = \"https://player.bilibili.com/player.html?bvid={0}&page={1}\".format(id, page)\n",
        "      super(BiliVideo, self).__init__(src, width, height, **kwargs)\n",
        "\n",
        "  video = BiliVideo(id=f\"\", width=854, height=480, fs=1)\n",
        "  print(\"Video available at https://www.bilibili.com/video/{0}\".format(video.id))\n",
        "  display(video)\n",
        "\n",
        "out1 = widgets.Output()\n",
        "with out1:\n",
        "  from IPython.display import YouTubeVideo\n",
        "  video = YouTubeVideo(id=f\"v4wafEsgopE\", width=854, height=480, fs=1, rel=0)\n",
        "  print(\"Video available at https://youtube.com/watch?v=\" + video.id)\n",
        "  display(video)\n",
        "\n",
        "out = widgets.Tab([out1, out2])\n",
        "out.set_title(0, 'Youtube')\n",
        "out.set_title(1, 'Bilibili')\n",
        "\n",
        "display(out)"
      ],
      "execution_count": 2,
      "outputs": [
        {
          "output_type": "display_data",
          "data": {
            "application/vnd.jupyter.widget-view+json": {
              "model_id": "6152d6c603d146948fd2288d52ae9a83",
              "version_minor": 0,
              "version_major": 2
            },
            "text/plain": [
              "Tab(children=(Output(), Output()), _titles={'0': 'Youtube', '1': 'Bilibili'})"
            ]
          },
          "metadata": {
            "tags": []
          }
        }
      ]
    },
    {
      "cell_type": "markdown",
      "metadata": {
        "id": "_6CoFhihbuf5"
      },
      "source": [
        "---\n",
        "# Setup"
      ]
    },
    {
      "cell_type": "markdown",
      "metadata": {
        "id": "gJpSxw1sbuf6"
      },
      "source": [
        "In this section, we have:\n",
        "\n",
        "\n",
        "1.  **Import cell**: imports all libraries you use in the tutorial\n",
        "2.  **Hidden Figure settings cell**: sets up the plotting style (copy exactly)\n",
        "3. **Hidden Plotting functions cell**: contains all functions used to create plots throughout the tutorial (so students don't waste time looking at boilerplate matplotlib but can here if they wish to). Please use only matplotlib for plotting for consistency.\n",
        "4. **Hidden Helper functions cell**: This should contain functions that students have previously used or that are very simple. Any helper functions that are being used for the first time and are important should be placed directly above the relevant text or exercise (see Section 1.1 for an example)\n"
      ]
    },
    {
      "cell_type": "code",
      "metadata": {
        "cellView": "form",
        "colab": {
          "base_uri": "https://localhost:8080/"
        },
        "id": "j61GMBebbuf6",
        "outputId": "1812670a-e4b4-41bf-a057-12bd7380a960"
      },
      "source": [
        "#@title Clone a repo from github\n",
        "#@markdown Run this cell!\n",
        "!git clone https://github.com/raymondchua/nma_rl_games.git\n",
        "\n",
        "import sys\n",
        "sys.path.append('/content/nma_rl_games/alpha-zero')"
      ],
      "execution_count": 3,
      "outputs": [
        {
          "output_type": "stream",
          "text": [
            "Cloning into 'nma_rl_games'...\n",
            "remote: Enumerating objects: 158, done.\u001b[K\n",
            "remote: Counting objects: 100% (27/27), done.\u001b[K\n",
            "remote: Compressing objects: 100% (16/16), done.\u001b[K\n",
            "remote: Total 158 (delta 10), reused 27 (delta 10), pack-reused 131\u001b[K\n",
            "Receiving objects: 100% (158/158), 416.03 MiB | 32.92 MiB/s, done.\n",
            "Resolving deltas: 100% (52/52), done.\n",
            "Checking out files: 100% (45/45), done.\n"
          ],
          "name": "stdout"
        }
      ]
    },
    {
      "cell_type": "code",
      "metadata": {
        "colab": {
          "base_uri": "https://localhost:8080/"
        },
        "id": "NImtYSwUbuf7",
        "outputId": "be3cdd98-70c5-49ee-fd4e-d083e5a503c0"
      },
      "source": [
        "# Install modules\n",
        "!pip install tqdm --quiet\n",
        "!pip install coloredlogs --quiet\n",
        "\n",
        "# Imports\n",
        "\n",
        "import os\n",
        "import math\n",
        "import time\n",
        "import torch\n",
        "import Arena\n",
        "import random\n",
        "import logging\n",
        "import argparse\n",
        "import coloredlogs\n",
        "\n",
        "import numpy as np\n",
        "import torch.nn as nn\n",
        "import torch.nn.functional as F\n",
        "import torch.optim as optim\n",
        "\n",
        "from utils import *\n",
        "from Game import Game\n",
        "from MCTS import MCTS\n",
        "\n",
        "from othello.OthelloPlayers import *\n",
        "from othello.OthelloLogic import Board\n",
        "from othello.OthelloGame import OthelloGame\n",
        "from othello.pytorch.NNet import NNetWrapper as NNet\n",
        "\n",
        "from torchvision import datasets, transforms\n",
        "from torch.autograd import Variable\n",
        "from utils import *\n",
        "from pickle import Pickler, Unpickler\n",
        "from tqdm.notebook import tqdm\n",
        "from NeuralNet import NeuralNet\n",
        "from __future__ import print_function\n",
        "\n",
        "from tqdm import tqdm\n",
        "from collections import deque\n",
        "from random import shuffle\n",
        "from pickle import Pickler, Unpickler\n",
        "\n",
        "log = logging.getLogger(__name__)\n",
        "\n",
        "coloredlogs.install(level='INFO')  # Change this to DEBUG to see more info."
      ],
      "execution_count": 4,
      "outputs": [
        {
          "output_type": "stream",
          "text": [
            "\u001b[K     |████████████████████████████████| 51kB 4.2MB/s \n",
            "\u001b[K     |████████████████████████████████| 92kB 6.5MB/s \n",
            "\u001b[?25h"
          ],
          "name": "stdout"
        }
      ]
    },
    {
      "cell_type": "code",
      "metadata": {
        "cellView": "form",
        "id": "fIQKJdn7buf8"
      },
      "source": [
        "#@title Set random seed. \n",
        "\n",
        "#@markdown Executing `set_seed(seed=seed)` you are setting the seed\n",
        "\n",
        "# for DL its critical to set the random seed so that students can have a\n",
        "# baseline to compare their results to expected results.\n",
        "# Read more here: https://pytorch.org/docs/stable/notes/randomness.html\n",
        "\n",
        "# Call `set_seed` function in the exercises to ensure reproducibility.\n",
        "import random\n",
        "import torch\n",
        "\n",
        "def set_seed(seed=None, seed_torch=True):\n",
        "  if seed is None:\n",
        "    seed = np.random.choice(2 ** 32)\n",
        "  random.seed(seed)\n",
        "  np.random.seed(seed)\n",
        "  if seed_torch:\n",
        "    torch.manual_seed(seed)\n",
        "    torch.cuda.manual_seed_all(seed)\n",
        "    torch.cuda.manual_seed(seed)\n",
        "    torch.backends.cudnn.benchmark = False\n",
        "    torch.backends.cudnn.deterministic = True\n",
        "\n",
        "  print(f'Random seed {seed} has been set.')\n",
        "\n",
        "\n",
        "# In case that `DataLoader` is used\n",
        "def seed_worker(worker_id):\n",
        "  worker_seed = torch.initial_seed() % 2**32\n",
        "  np.random.seed(worker_seed)\n",
        "  random.seed(worker_seed)"
      ],
      "execution_count": 5,
      "outputs": []
    },
    {
      "cell_type": "code",
      "metadata": {
        "cellView": "form",
        "id": "Ydv21WXkd6AK"
      },
      "source": [
        "#@title Set device (GPU or CPU). Execute `set_device()`\n",
        "# especially if torch modules used.\n",
        "\n",
        "# inform the user if the notebook uses GPU or CPU.\n",
        "\n",
        "def set_device():\n",
        "  device = \"cuda\" if torch.cuda.is_available() else \"cpu\"\n",
        "  if device != \"cuda\":\n",
        "    print(\"WARNING: For this notebook to perform best, \"\n",
        "        \"if possible, in the menu under `Runtime` -> \"\n",
        "        \"`Change runtime type.`  select `GPU` \")\n",
        "  else:\n",
        "    print(\"GPU is enabled in this notebook.\")\n",
        "\n",
        "  return device"
      ],
      "execution_count": 6,
      "outputs": []
    },
    {
      "cell_type": "code",
      "metadata": {
        "id": "_4x2RBMjeA88",
        "outputId": "bab7e647-d5b6-4662-81f6-6d1c85358f25",
        "colab": {
          "base_uri": "https://localhost:8080/"
        }
      },
      "source": [
        "SEED = 2021\n",
        "set_seed(seed=SEED)\n",
        "DEVICE = set_device()"
      ],
      "execution_count": 7,
      "outputs": [
        {
          "output_type": "stream",
          "text": [
            "Random seed 2021 has been set.\n",
            "GPU is enabled in this notebook.\n"
          ],
          "name": "stdout"
        }
      ]
    },
    {
      "cell_type": "code",
      "metadata": {
        "id": "by5bHpQ9buf-"
      },
      "source": [
        "args = dotdict({\n",
        "    'numIters': 1,            # in training setting this was 1000 and num of episodes=100\n",
        "    'numEps': 1,              # Number of complete self-play games to simulate during a new iteration.\n",
        "    'tempThreshold': 15,      # To control exploration and exploitation\n",
        "    'updateThreshold': 0.6,   # During arena playoff, new neural net will be accepted if threshold or more of games are won.\n",
        "    'maxlenOfQueue': 200,     # Number of game examples to train the neural networks.\n",
        "    'numMCTSSims': 15,        # Number of games moves for MCTS to simulate.\n",
        "    'arenaCompare': 10,       # Number of games to play during arena play to determine if new net will be accepted.\n",
        "    'cpuct': 1,\n",
        "    'maxDepth':5,             # Maximum number of rollouts\n",
        "    'numMCsims': 5,           # Number of monte carlo simulations\n",
        "    'mc_topk': 3,             # top k actions for monte carlo rollout\n",
        "\n",
        "    'checkpoint': './temp/',\n",
        "    'load_model': False,\n",
        "    'load_folder_file': ('/dev/models/8x100x50','best.pth.tar'),\n",
        "    'numItersForTrainExamplesHistory': 20,\n",
        "\n",
        "    # define neural network arguments\n",
        "    'lr': 0.001,               # lr: learning rate\n",
        "    'dropout': 0.3,\n",
        "    'epochs': 10,\n",
        "    'batch_size': 64,\n",
        "    'cuda': torch.cuda.is_available(),\n",
        "    'num_channels': 512,\n",
        "})"
      ],
      "execution_count": 8,
      "outputs": []
    },
    {
      "cell_type": "markdown",
      "metadata": {
        "id": "l-FP4m49jlHZ"
      },
      "source": [
        "---\n",
        "#Section 1: Create a game/agent loop for RL"
      ]
    },
    {
      "cell_type": "code",
      "metadata": {
        "colab": {
          "base_uri": "https://localhost:8080/",
          "height": 579,
          "referenced_widgets": [
            "fab356024b9a4f00bf586e3afff0d91e",
            "d2b4493f4d054fa7b309868607f9742c",
            "6b980089dfd54201bee0413869aa9b8d",
            "f4a63f7af4614ccc9978ec746f4f3a81",
            "02ddab624c7f47338b1627858a4d1f62",
            "36b28a6e492a413ca12e2651327bb451"
          ]
        },
        "cellView": "form",
        "id": "83K7NLZRbugB",
        "outputId": "a3c4c576-5731-4c23-cfab-37b24168423f"
      },
      "source": [
        "#@title Video 1: A game loop for RL\n",
        "# Insert the ID of the corresponding youtube video\n",
        "from ipywidgets import widgets\n",
        "\n",
        "out2 = widgets.Output()\n",
        "with out2:\n",
        "  from IPython.display import IFrame\n",
        "  class BiliVideo(IFrame):\n",
        "    def __init__(self, id, page=1, width=400, height=300, **kwargs):\n",
        "      self.id=id\n",
        "      src = \"https://player.bilibili.com/player.html?bvid={0}&page={1}\".format(id, page)\n",
        "      super(BiliVideo, self).__init__(src, width, height, **kwargs)\n",
        "\n",
        "  video = BiliVideo(id=f\"\", width=854, height=480, fs=1)\n",
        "  print(\"Video available at https://www.bilibili.com/video/{0}\".format(video.id))\n",
        "  display(video)\n",
        "\n",
        "out1 = widgets.Output()\n",
        "with out1:\n",
        "  from IPython.display import YouTubeVideo\n",
        "  video = YouTubeVideo(id=f\"s4BK_yrknf4\", width=854, height=480, fs=1, rel=0)\n",
        "  print(\"Video available at https://youtube.com/watch?v=\" + video.id)\n",
        "  display(video)\n",
        "\n",
        "out = widgets.Tab([out1, out2])\n",
        "out.set_title(0, 'Youtube')\n",
        "out.set_title(1, 'Bilibili')\n",
        "\n",
        "display(out)"
      ],
      "execution_count": 9,
      "outputs": [
        {
          "output_type": "display_data",
          "data": {
            "application/vnd.jupyter.widget-view+json": {
              "model_id": "fab356024b9a4f00bf586e3afff0d91e",
              "version_minor": 0,
              "version_major": 2
            },
            "text/plain": [
              "Tab(children=(Output(), Output()), _titles={'0': 'Youtube', '1': 'Bilibili'})"
            ]
          },
          "metadata": {
            "tags": []
          }
        }
      ]
    },
    {
      "cell_type": "markdown",
      "metadata": {
        "id": "iRLobVv2buf_"
      },
      "source": [
        "\n",
        "***Goal***: How to setup a game environment with multiple players for reinforcement learning experiments.\n",
        "\n",
        "***Exercise***: \n",
        "\n",
        "\n",
        "*   Build an agent that plays random moves\n",
        "*   Connect with connect 4 game\n",
        "*   Generate games including wins and losses"
      ]
    },
    {
      "cell_type": "code",
      "metadata": {
        "id": "eWC74a36bugC"
      },
      "source": [
        "class OthelloGame(Game):\n",
        "  square_content = {\n",
        "      -1: \"X\",\n",
        "      +0: \"-\",\n",
        "      +1: \"O\"\n",
        "      }\n",
        "\n",
        "  @staticmethod\n",
        "  def getSquarePiece(piece):\n",
        "    return OthelloGame.square_content[piece]\n",
        "\n",
        "  def __init__(self, n):\n",
        "    self.n = n\n",
        "\n",
        "  def getInitBoard(self):\n",
        "    # return initial board (numpy board)\n",
        "    b = Board(self.n)\n",
        "    return np.array(b.pieces)\n",
        "\n",
        "  def getBoardSize(self):\n",
        "    # (a,b) tuple\n",
        "    return (self.n, self.n)\n",
        "\n",
        "  def getActionSize(self):\n",
        "    # return number of actions\n",
        "    return self.n*self.n + 1\n",
        "\n",
        "  def getNextState(self, board, player, action):\n",
        "    # if player takes action on board, return next (board,player)\n",
        "    # action must be a valid move\n",
        "    if action == self.n*self.n:\n",
        "      return (board, -player)\n",
        "    b = Board(self.n)\n",
        "    b.pieces = np.copy(board)\n",
        "    move = (int(action/self.n), action%self.n)\n",
        "    b.execute_move(move, player)\n",
        "    return (b.pieces, -player)\n",
        "\n",
        "  def getValidMoves(self, board, player):\n",
        "    # return a fixed size binary vector\n",
        "    valids = [0]*self.getActionSize()\n",
        "    b = Board(self.n)\n",
        "    b.pieces = np.copy(board)\n",
        "    legalMoves =  b.get_legal_moves(player)\n",
        "    if len(legalMoves)==0:\n",
        "      valids[-1]=1\n",
        "      return np.array(valids)\n",
        "    for x, y in legalMoves:\n",
        "      valids[self.n*x+y]=1\n",
        "    return np.array(valids)\n",
        "\n",
        "  def getGameEnded(self, board, player):\n",
        "    # return 0 if not ended, 1 if player 1 won, -1 if player 1 lost\n",
        "    # player = 1\n",
        "    b = Board(self.n)\n",
        "    b.pieces = np.copy(board)\n",
        "    if b.has_legal_moves(player):\n",
        "      return 0\n",
        "    if b.has_legal_moves(-player):\n",
        "      return 0\n",
        "    if b.countDiff(player) > 0:\n",
        "      return 1\n",
        "    return -1\n",
        "\n",
        "  def getCanonicalForm(self, board, player):\n",
        "    # return state if player==1, else return -state if player==-1\n",
        "    return player*board\n",
        "\n",
        "  def getSymmetries(self, board, pi):\n",
        "    # mirror, rotational\n",
        "    assert(len(pi) == self.n**2+1)  # 1 for pass\n",
        "    pi_board = np.reshape(pi[:-1], (self.n, self.n))\n",
        "    l = []\n",
        "\n",
        "    for i in range(1, 5):\n",
        "      for j in [True, False]:\n",
        "        newB = np.rot90(board, i)\n",
        "        newPi = np.rot90(pi_board, i)\n",
        "        if j:\n",
        "          newB = np.fliplr(newB)\n",
        "          newPi = np.fliplr(newPi)\n",
        "        l += [(newB, list(newPi.ravel()) + [pi[-1]])]\n",
        "    return l\n",
        "\n",
        "  def stringRepresentation(self, board):\n",
        "    return board.tostring()\n",
        "\n",
        "  def stringRepresentationReadable(self, board):\n",
        "    board_s = \"\".join(self.square_content[square] for row in board for square in row)\n",
        "    return board_s\n",
        "\n",
        "  def getScore(self, board, player):\n",
        "    b = Board(self.n)\n",
        "    b.pieces = np.copy(board)\n",
        "    return b.countDiff(player)\n",
        "\n",
        "  @staticmethod\n",
        "  def display(board):\n",
        "    n = board.shape[0]\n",
        "    print(\"   \", end=\"\")\n",
        "    for y in range(n):\n",
        "      print(y, end=\" \")\n",
        "    print(\"\")\n",
        "    print(\"-----------------------\")\n",
        "    for y in range(n):\n",
        "      print(y, \"|\", end=\"\")    # print the row #\n",
        "      for x in range(n):\n",
        "        piece = board[y][x]    # get the piece to print\n",
        "        print(OthelloGame.square_content[piece], end=\" \")\n",
        "      print(\"|\")\n",
        "    print(\"-----------------------\")"
      ],
      "execution_count": 10,
      "outputs": []
    },
    {
      "cell_type": "markdown",
      "metadata": {
        "id": "IQXUo18fbugD"
      },
      "source": [
        "## Section 1.1: Create a random player"
      ]
    },
    {
      "cell_type": "code",
      "metadata": {
        "id": "muoNcWddbugE"
      },
      "source": [
        "class RandomPlayer():\n",
        "  def __init__(self, game):\n",
        "    self.game = game\n",
        "\n",
        "  def play(self, board):\n",
        "\n",
        "    valids = self.game.getValidMoves(board, 1)               # STUDENTS\n",
        "    prob = valids/valids.sum()                               # STUDENTS\n",
        "    a = np.random.choice(self.game.getActionSize(), p=prob)  # STUDENTS\n",
        "\n",
        "    return a"
      ],
      "execution_count": 11,
      "outputs": []
    },
    {
      "cell_type": "markdown",
      "metadata": {
        "id": "Jm73Cp3ebugF"
      },
      "source": [
        "## Section 1.2. Initiate the game board\n"
      ]
    },
    {
      "cell_type": "code",
      "metadata": {
        "colab": {
          "base_uri": "https://localhost:8080/"
        },
        "id": "7GgCicWGbugF",
        "outputId": "82fbff8c-3907-486c-bafd-be4bd00052b8"
      },
      "source": [
        "# Display the board\n",
        "game = OthelloGame(6)\n",
        "board = game.getInitBoard()\n",
        "game.display(board)"
      ],
      "execution_count": 12,
      "outputs": [
        {
          "output_type": "stream",
          "text": [
            "   0 1 2 3 4 5 \n",
            "-----------------------\n",
            "0 |- - - - - - |\n",
            "1 |- - - - - - |\n",
            "2 |- - X O - - |\n",
            "3 |- - O X - - |\n",
            "4 |- - - - - - |\n",
            "5 |- - - - - - |\n",
            "-----------------------\n"
          ],
          "name": "stdout"
        }
      ]
    },
    {
      "cell_type": "code",
      "metadata": {
        "colab": {
          "base_uri": "https://localhost:8080/"
        },
        "id": "vhev2YitbugG",
        "outputId": "2a0638b1-d224-4f52-c44f-457d7de67a01"
      },
      "source": [
        "# observe the game board size\n",
        "print('Board size = {}' .format(game.getBoardSize()))\n",
        "\n",
        "# observe the action size\n",
        "print('Action size = {}'.format(game.getActionSize()))"
      ],
      "execution_count": 13,
      "outputs": [
        {
          "output_type": "stream",
          "text": [
            "Board size = (6, 6)\n",
            "Action size = 37\n"
          ],
          "name": "stdout"
        }
      ]
    },
    {
      "cell_type": "markdown",
      "metadata": {
        "id": "OKqxHDE4bugG"
      },
      "source": [
        "## Section 1.3. Create two random agents to play against each other"
      ]
    },
    {
      "cell_type": "code",
      "metadata": {
        "colab": {
          "base_uri": "https://localhost:8080/"
        },
        "id": "pABSYm3JbugH",
        "outputId": "138a7abf-a756-42df-e09e-c2bab7a07e1e"
      },
      "source": [
        "# define the random player\n",
        "player1 = RandomPlayer(game).play  # player 1 is a random player\n",
        "player2 = RandomPlayer(game).play  # player 2 is a random player\n",
        "\n",
        "# define number of games\n",
        "num_games = 20\n",
        "\n",
        "# start the competition\n",
        "arena = Arena.Arena(player1, player2 , game, display=None)  # to see the steps of the competition set \"display=OthelloGame.display\"\n",
        "\n",
        "result = arena.playGames(num_games, verbose=False)  # return  ( number of games won by player1, num of games won by player2, num of games won by nobody)\n"
      ],
      "execution_count": 14,
      "outputs": [
        {
          "output_type": "stream",
          "text": [
            "Arena.playGames (1): 100%|██████████| 10/10 [00:00<00:00, 26.06it/s]\n",
            "Arena.playGames (2): 100%|██████████| 10/10 [00:00<00:00, 23.91it/s]\n"
          ],
          "name": "stderr"
        }
      ]
    },
    {
      "cell_type": "code",
      "metadata": {
        "colab": {
          "base_uri": "https://localhost:8080/"
        },
        "id": "6zcm8mVXbugI",
        "outputId": "29a14b76-efcc-4210-eeff-328544df9add"
      },
      "source": [
        "print(\"\\nNumber of games won by player1 = {},\\nNumber of games won by player2 = {},\\nNumber of games won by nobody = {} out of {} games\" .format(result[0], result[1], result[2], num_games))"
      ],
      "execution_count": 15,
      "outputs": [
        {
          "output_type": "stream",
          "text": [
            "\n",
            "Number of games won by player1 = 11,\n",
            "Number of games won by player2 = 9,\n",
            "Number of games won by nobody = 0 out of 20 games\n"
          ],
          "name": "stdout"
        }
      ]
    },
    {
      "cell_type": "markdown",
      "metadata": {
        "id": "yUNpzUxIbugJ"
      },
      "source": [
        "## Section 1.4. Compute win rate for the random player (player 1)"
      ]
    },
    {
      "cell_type": "code",
      "metadata": {
        "colab": {
          "base_uri": "https://localhost:8080/"
        },
        "id": "oKDUwFbabugJ",
        "outputId": "97edf730-f073-466c-d807-a585e5868b22"
      },
      "source": [
        "win_rate_player1 = result[0]/num_games\n",
        "print('\\n Win rate for player 1 over 20 games: {}%'.format(win_rate_player1*100))"
      ],
      "execution_count": 16,
      "outputs": [
        {
          "output_type": "stream",
          "text": [
            "\n",
            " Win rate for player 1 over 20 games: 55.00000000000001%\n"
          ],
          "name": "stdout"
        }
      ]
    },
    {
      "cell_type": "markdown",
      "metadata": {
        "id": "IYGGq6mLbugK"
      },
      "source": [
        "---\n",
        "# Section 2: Train a value function from expert game data\n",
        "**Goal:** Learn how to train a value function from a dataset of games played by an expert.\n",
        "\n",
        "\n",
        "**Exercise:** \n",
        "\n",
        "* Load a dataset of expert generated games.\n",
        "* Train a network to minimize MSE for win/loss predictions given board states sampled throughout the game. This will be done on a very small number of games. We will provide a network trained on a larger dataset.\n",
        "\n"
      ]
    },
    {
      "cell_type": "code",
      "metadata": {
        "colab": {
          "base_uri": "https://localhost:8080/",
          "height": 579,
          "referenced_widgets": [
            "e3f34a609f694045b8e3c09c96eae9ab",
            "46a9d350d2c14f20b189ce04c916b560",
            "588c0a83e05e4527affe4c9bfab1860d",
            "e97b120b30d14c9ab5fe679176c12ce0",
            "80b294e500da4df28bac42f248fbaae4",
            "566f4caf555f46a786f98394dca3c4e4"
          ]
        },
        "cellView": "form",
        "id": "gBXVXnkpbugL",
        "outputId": "33bb73fa-fdfe-4e9a-cf5a-b6107ffaef0a"
      },
      "source": [
        "#@title Video 2: Train a value function\n",
        "# Insert the ID of the corresponding youtube video\n",
        "from ipywidgets import widgets\n",
        "\n",
        "out2 = widgets.Output()\n",
        "with out2:\n",
        "  from IPython.display import IFrame\n",
        "  class BiliVideo(IFrame):\n",
        "    def __init__(self, id, page=1, width=400, height=300, **kwargs):\n",
        "      self.id=id\n",
        "      src = \"https://player.bilibili.com/player.html?bvid={0}&page={1}\".format(id, page)\n",
        "      super(BiliVideo, self).__init__(src, width, height, **kwargs)\n",
        "\n",
        "  video = BiliVideo(id=f\"\", width=854, height=480, fs=1)\n",
        "  print(\"Video available at https://www.bilibili.com/video/{0}\".format(video.id))\n",
        "  display(video)\n",
        "\n",
        "out1 = widgets.Output()\n",
        "with out1:\n",
        "  from IPython.display import YouTubeVideo\n",
        "  video = YouTubeVideo(id=f\"RVo6rVP9iC0\", width=854, height=480, fs=1, rel=0)\n",
        "  print(\"Video available at https://youtube.com/watch?v=\" + video.id)\n",
        "  display(video)\n",
        "\n",
        "out = widgets.Tab([out1, out2])\n",
        "out.set_title(0, 'Youtube')\n",
        "out.set_title(1, 'Bilibili')\n",
        "\n",
        "display(out)"
      ],
      "execution_count": 17,
      "outputs": [
        {
          "output_type": "display_data",
          "data": {
            "application/vnd.jupyter.widget-view+json": {
              "model_id": "e3f34a609f694045b8e3c09c96eae9ab",
              "version_minor": 0,
              "version_major": 2
            },
            "text/plain": [
              "Tab(children=(Output(), Output()), _titles={'0': 'Youtube', '1': 'Bilibili'})"
            ]
          },
          "metadata": {
            "tags": []
          }
        }
      ]
    },
    {
      "cell_type": "markdown",
      "metadata": {
        "id": "r8sfNrtObugL"
      },
      "source": [
        "##Some self-play info/code goes here? "
      ]
    },
    {
      "cell_type": "markdown",
      "metadata": {
        "id": "FIHCgSWgbugM"
      },
      "source": [
        "## Section 2.1. Load expert data"
      ]
    },
    {
      "cell_type": "code",
      "metadata": {
        "id": "RuEuVQDubugM"
      },
      "source": [
        "def loadTrainExamples(folder, filename):\n",
        "  trainExamplesHistory = []\n",
        "  modelFile = os.path.join(folder, filename)\n",
        "  examplesFile = modelFile + \".examples\"\n",
        "  if not os.path.isfile(examplesFile):\n",
        "    print(f'File \"{examplesFile}\" with trainExamples not found!')\n",
        "    r = input(\"Continue? [y|n]\")\n",
        "    if r != \"y\":\n",
        "      sys.exit()\n",
        "  else:\n",
        "    print(\"File with train examples found. Loading it...\")\n",
        "    with open(examplesFile, \"rb\") as f:\n",
        "      trainExamplesHistory = Unpickler(f).load()\n",
        "    print('Loading done!')\n",
        "    # examples based on the model were already collected (loaded)\n",
        "    return trainExamplesHistory"
      ],
      "execution_count": 18,
      "outputs": []
    },
    {
      "cell_type": "code",
      "metadata": {
        "colab": {
          "base_uri": "https://localhost:8080/"
        },
        "id": "hDfh0CIjbugM",
        "outputId": "64596d5c-4312-44c8-871f-e1ee19fb17fe"
      },
      "source": [
        "path = F\"/content/nma_rl_games/alpha-zero/pretrained_models/data/\"\n",
        "loaded_games = loadTrainExamples(folder=path, filename='checkpoint_1.pth.tar')"
      ],
      "execution_count": 19,
      "outputs": [
        {
          "output_type": "stream",
          "text": [
            "File with train examples found. Loading it...\n",
            "Loading done!\n"
          ],
          "name": "stdout"
        }
      ]
    },
    {
      "cell_type": "markdown",
      "metadata": {
        "id": "EbE-fuC0bugN"
      },
      "source": [
        "## Section 2.2. Define the Neural Network Architecture for Othello\n"
      ]
    },
    {
      "cell_type": "markdown",
      "metadata": {
        "id": "Zo1YtHI0bugN"
      },
      "source": [
        "### Coding Exercise 2.2: Implement the NN `OthelloNNet` for Othello"
      ]
    },
    {
      "cell_type": "code",
      "metadata": {
        "id": "_FBVKWsVbugN"
      },
      "source": [
        "class OthelloNNet(nn.Module):\n",
        "  def __init__(self, game, args):\n",
        "    # game params\n",
        "    self.board_x, self.board_y = game.getBoardSize()\n",
        "    self.action_size = game.getActionSize()\n",
        "    self.args = args\n",
        "\n",
        "    super(OthelloNNet, self).__init__()\n",
        "    self.conv1 = nn.Conv2d(1, args.num_channels, 3, stride=1, padding=1)\n",
        "    self.conv2 = nn.Conv2d(args.num_channels, args.num_channels, 3, stride=1,\n",
        "                           padding=1)\n",
        "    self.conv3 = nn.Conv2d(args.num_channels, args.num_channels, 3, stride=1)\n",
        "    self.conv4 = nn.Conv2d(args.num_channels, args.num_channels, 3, stride=1)\n",
        "\n",
        "    self.bn1 = nn.BatchNorm2d(args.num_channels)\n",
        "    self.bn2 = nn.BatchNorm2d(args.num_channels)\n",
        "    self.bn3 = nn.BatchNorm2d(args.num_channels)\n",
        "    self.bn4 = nn.BatchNorm2d(args.num_channels)\n",
        "\n",
        "    self.fc1 = nn.Linear(args.num_channels * (self.board_x - 4) * (self.board_y - 4), 1024)\n",
        "    self.fc_bn1 = nn.BatchNorm1d(1024)\n",
        "\n",
        "    self.fc2 = nn.Linear(1024, 512)\n",
        "    self.fc_bn2 = nn.BatchNorm1d(512)\n",
        "\n",
        "    self.fc3 = nn.Linear(512, self.action_size)\n",
        "\n",
        "    self.fc4 = nn.Linear(512, 1)\n",
        "\n",
        "  def forward(self, s):\n",
        "    # s: batch_size x board_x x board_y\n",
        "    s = s.view(-1, 1, self.board_x, self.board_y)                # batch_size x 1 x board_x x board_y\n",
        "    s = F.relu(self.bn1(self.conv1(s)))                          # batch_size x num_channels x board_x x board_y\n",
        "    s = F.relu(self.bn2(self.conv2(s)))                          # batch_size x num_channels x board_x x board_y\n",
        "    s = F.relu(self.bn3(self.conv3(s)))                          # batch_size x num_channels x (board_x-2) x (board_y-2)\n",
        "    s = F.relu(self.bn4(self.conv4(s)))                          # batch_size x num_channels x (board_x-4) x (board_y-4)\n",
        "    s = s.view(-1, self.args.num_channels * (self.board_x - 4) * (self.board_y - 4))\n",
        "\n",
        "    s = F.dropout(F.relu(self.fc_bn1(self.fc1(s))), p=self.args.dropout, training=self.training)  # batch_size x 1024\n",
        "    s = F.dropout(F.relu(self.fc_bn2(self.fc2(s))), p=self.args.dropout, training=self.training)  # batch_size x 512\n",
        "\n",
        "    pi = self.fc3(s)  # batch_size x action_size\n",
        "    v = self.fc4(s)   # batch_size x 1\n",
        "    #################################################\n",
        "    ## TODO for students: details of what they should do ##\n",
        "    # Fill out function and remove\n",
        "    raise NotImplementedError(\"Calculate the probability distribution and the value\")\n",
        "    #################################################\n",
        "    # return a probability distribution over actions at the current state and the value of the current state.\n",
        "    return ..., ..."
      ],
      "execution_count": 20,
      "outputs": []
    },
    {
      "cell_type": "code",
      "metadata": {
        "id": "aEONNTwKbugV"
      },
      "source": [
        "#to_remove solution\n",
        "class OthelloNNet(nn.Module):\n",
        "  def __init__(self, game, args):\n",
        "    # game params\n",
        "    self.board_x, self.board_y = game.getBoardSize()\n",
        "    self.action_size = game.getActionSize()\n",
        "    self.args = args\n",
        "\n",
        "    super(OthelloNNet, self).__init__()\n",
        "    self.conv1 = nn.Conv2d(1, args.num_channels, 3, stride=1, padding=1)\n",
        "    self.conv2 = nn.Conv2d(args.num_channels, args.num_channels, 3, stride=1,\n",
        "                           padding=1)\n",
        "    self.conv3 = nn.Conv2d(args.num_channels, args.num_channels, 3, stride=1)\n",
        "    self.conv4 = nn.Conv2d(args.num_channels, args.num_channels, 3, stride=1)\n",
        "\n",
        "    self.bn1 = nn.BatchNorm2d(args.num_channels)\n",
        "    self.bn2 = nn.BatchNorm2d(args.num_channels)\n",
        "    self.bn3 = nn.BatchNorm2d(args.num_channels)\n",
        "    self.bn4 = nn.BatchNorm2d(args.num_channels)\n",
        "\n",
        "    self.fc1 = nn.Linear(args.num_channels * (self.board_x - 4) * (self.board_y - 4), 1024)\n",
        "    self.fc_bn1 = nn.BatchNorm1d(1024)\n",
        "\n",
        "    self.fc2 = nn.Linear(1024, 512)\n",
        "    self.fc_bn2 = nn.BatchNorm1d(512)\n",
        "\n",
        "    self.fc3 = nn.Linear(512, self.action_size)\n",
        "\n",
        "    self.fc4 = nn.Linear(512, 1)\n",
        "\n",
        "  def forward(self, s):\n",
        "    # s: batch_size x board_x x board_y\n",
        "    s = s.view(-1, 1, self.board_x, self.board_y)                # batch_size x 1 x board_x x board_y\n",
        "    s = F.relu(self.bn1(self.conv1(s)))                          # batch_size x num_channels x board_x x board_y\n",
        "    s = F.relu(self.bn2(self.conv2(s)))                          # batch_size x num_channels x board_x x board_y\n",
        "    s = F.relu(self.bn3(self.conv3(s)))                          # batch_size x num_channels x (board_x-2) x (board_y-2)\n",
        "    s = F.relu(self.bn4(self.conv4(s)))                          # batch_size x num_channels x (board_x-4) x (board_y-4)\n",
        "    s = s.view(-1, self.args.num_channels * (self.board_x - 4) * (self.board_y - 4))\n",
        "\n",
        "    s = F.dropout(F.relu(self.fc_bn1(self.fc1(s))), p=self.args.dropout, training=self.training)  # batch_size x 1024\n",
        "    s = F.dropout(F.relu(self.fc_bn2(self.fc2(s))), p=self.args.dropout, training=self.training)  # batch_size x 512\n",
        "\n",
        "    pi = self.fc3(s)  # batch_size x action_size\n",
        "    v = self.fc4(s)   # batch_size x 1\n",
        "\n",
        "    # return a probability distribution over actions at the current state and the value of the current state.\n",
        "    return F.log_softmax(pi, dim=1), torch.tanh(v)"
      ],
      "execution_count": 21,
      "outputs": []
    },
    {
      "cell_type": "markdown",
      "metadata": {
        "id": "jhtT76uqbugV"
      },
      "source": [
        "## Section 2.3. Define the Value network\n",
        " During the training the ground truth will be uploaded from the **MCTS simulations** available at 'checkpoint_x.path.tar.examples'."
      ]
    },
    {
      "cell_type": "markdown",
      "metadata": {
        "id": "ovi_x8RybugW"
      },
      "source": [
        "### Coding Exercise 2.3: Implement the `ValueNetwork`"
      ]
    },
    {
      "cell_type": "code",
      "metadata": {
        "id": "wiEDym50bugW"
      },
      "source": [
        "class ValueNetwork(NeuralNet):\n",
        "  def __init__(self, game):\n",
        "    self.nnet = OthelloNNet(game, args)\n",
        "    self.board_x, self.board_y = game.getBoardSize()\n",
        "    self.action_size = game.getActionSize()\n",
        "\n",
        "    if args.cuda:\n",
        "      self.nnet.cuda()\n",
        "\n",
        "  def train(self, games):\n",
        "    \"\"\"\n",
        "    examples: list of examples, each example is of form (board, pi, v)\n",
        "    \"\"\"\n",
        "    optimizer = optim.Adam(self.nnet.parameters())\n",
        "    for examples in games:\n",
        "      for epoch in range(args.epochs):\n",
        "        print('EPOCH ::: ' + str(epoch + 1))\n",
        "        self.nnet.train()\n",
        "        v_losses = []   # to store the losses per epoch\n",
        "        batch_count = int(len(examples) / args.batch_size)  # len(examples)=200, batch-size=64, batch_count=3\n",
        "        t = tqdm(range(batch_count), desc='Training Value Network')\n",
        "        for _ in t:\n",
        "          sample_ids = np.random.randint(len(examples), size=args.batch_size)  # read the ground truth information from MCTS simulation using the loaded examples\n",
        "          boards, pis, vs = list(zip(*[examples[i] for i in sample_ids]))  # length of boards, pis, vis = 64\n",
        "          boards = torch.FloatTensor(np.array(boards).astype(np.float64))\n",
        "          target_vs = torch.FloatTensor(np.array(vs).astype(np.float64))\n",
        "\n",
        "          # predict\n",
        "          if args.cuda: # to run on GPU if available\n",
        "            boards, target_vs = boards.contiguous().cuda(), target_vs.contiguous().cuda()\n",
        "\n",
        "          #################################################\n",
        "          ## TODO for students: details of what they should do ##\n",
        "          # Fill out function and remove\n",
        "          raise NotImplementedError(\"Compute the output\")\n",
        "          #################################################\n",
        "          # compute output\n",
        "          _, out_v = ...\n",
        "          l_v = ...\n",
        "          total_loss = l_v\n",
        "\n",
        "          # record loss\n",
        "          v_losses.append(l_v.item())\n",
        "          t.set_postfix(Loss_v=l_v.item())\n",
        "\n",
        "          # compute gradient and do SGD step\n",
        "          optimizer.zero_grad()\n",
        "          total_loss.backward()\n",
        "          optimizer.step()\n",
        "\n",
        "  def predict(self, board):\n",
        "    \"\"\"\n",
        "    board: np array with board\n",
        "    \"\"\"\n",
        "    # timing\n",
        "    start = time.time()\n",
        "\n",
        "    # preparing input\n",
        "    board = torch.FloatTensor(board.astype(np.float64))\n",
        "    if args.cuda:\n",
        "      board = board.contiguous().cuda()\n",
        "    board = board.view(1, self.board_x, self.board_y)\n",
        "    self.nnet.eval()\n",
        "    with torch.no_grad():\n",
        "        _, v = self.nnet(board)\n",
        "    return v.data.cpu().numpy()[0]\n",
        "\n",
        "  def loss_v(self, targets, outputs):\n",
        "    #################################################\n",
        "    ## TODO for students: details of what they should do ##\n",
        "    # Fill out function and remove\n",
        "    raise NotImplementedError(\"Calculate the loss\")\n",
        "    #################################################\n",
        "    # Mean squared error (MSE)\n",
        "    return ...\n",
        "\n",
        "  def save_checkpoint(self, folder='checkpoint', filename='checkpoint.pth.tar'):\n",
        "    filepath = os.path.join(folder, filename)\n",
        "    if not os.path.exists(folder):\n",
        "      print(\"Checkpoint Directory does not exist! Making directory {}\".format(folder))\n",
        "      os.mkdir(folder)\n",
        "    else:\n",
        "      print(\"Checkpoint Directory exists! \")\n",
        "    torch.save({'state_dict': self.nnet.state_dict(),}, filepath)\n",
        "    print(\"Model saved! \")\n",
        "\n",
        "  def load_checkpoint(self, folder='checkpoint', filename='checkpoint.pth.tar'):\n",
        "    # https://github.com/pytorch/examples/blob/master/imagenet/main.py#L98\n",
        "    filepath = os.path.join(folder, filename)\n",
        "    if not os.path.exists(filepath):\n",
        "      raise (\"No model in path {}\".format(filepath))\n",
        "    map_location = None if args.cuda else 'cpu'\n",
        "    checkpoint = torch.load(filepath, map_location=map_location)\n",
        "    self.nnet.load_state_dict(checkpoint['state_dict'])"
      ],
      "execution_count": 22,
      "outputs": []
    },
    {
      "cell_type": "code",
      "metadata": {
        "id": "UfhbFZR5bugX"
      },
      "source": [
        "#to_remove solution\n",
        "class ValueNetwork(NeuralNet):\n",
        "  def __init__(self, game):\n",
        "    self.nnet = OthelloNNet(game, args)\n",
        "    self.board_x, self.board_y = game.getBoardSize()\n",
        "    self.action_size = game.getActionSize()\n",
        "\n",
        "    if args.cuda:\n",
        "      self.nnet.cuda()\n",
        "\n",
        "  def train(self, games):\n",
        "    \"\"\"\n",
        "    examples: list of examples, each example is of form (board, pi, v)\n",
        "    \"\"\"\n",
        "    optimizer = optim.Adam(self.nnet.parameters())\n",
        "    for examples in games:\n",
        "      for epoch in range(args.epochs):\n",
        "        print('EPOCH ::: ' + str(epoch + 1))\n",
        "        self.nnet.train()\n",
        "        v_losses = []   # to store the losses per epoch\n",
        "        batch_count = int(len(examples) / args.batch_size)  # len(examples)=200, batch-size=64, batch_count=3\n",
        "        t = tqdm(range(batch_count), desc='Training Value Network')\n",
        "        for _ in t:\n",
        "          sample_ids = np.random.randint(len(examples), size=args.batch_size)  # read the ground truth information from MCTS simulation using the loaded examples\n",
        "          boards, pis, vs = list(zip(*[examples[i] for i in sample_ids]))  # length of boards, pis, vis = 64\n",
        "          boards = torch.FloatTensor(np.array(boards).astype(np.float64))\n",
        "          target_vs = torch.FloatTensor(np.array(vs).astype(np.float64))\n",
        "\n",
        "          # predict\n",
        "          if args.cuda: # to run on GPU if available\n",
        "            boards, target_vs = boards.contiguous().cuda(), target_vs.contiguous().cuda()\n",
        "\n",
        "          # compute output\n",
        "          _, out_v = self.nnet(boards)\n",
        "          l_v = self.loss_v(target_vs, out_v)\n",
        "          total_loss = l_v\n",
        "\n",
        "          # record loss\n",
        "          v_losses.append(l_v.item())\n",
        "          t.set_postfix(Loss_v=l_v.item())\n",
        "\n",
        "          # compute gradient and do SGD step\n",
        "          optimizer.zero_grad()\n",
        "          total_loss.backward()\n",
        "          optimizer.step()\n",
        "\n",
        "  def predict(self, board):\n",
        "    \"\"\"\n",
        "    board: np array with board\n",
        "    \"\"\"\n",
        "    # timing\n",
        "    start = time.time()\n",
        "\n",
        "    # preparing input\n",
        "    board = torch.FloatTensor(board.astype(np.float64))\n",
        "    if args.cuda:\n",
        "      board = board.contiguous().cuda()\n",
        "    board = board.view(1, self.board_x, self.board_y)\n",
        "    self.nnet.eval()\n",
        "    with torch.no_grad():\n",
        "        _, v = self.nnet(board)\n",
        "    return v.data.cpu().numpy()[0]\n",
        "\n",
        "  def loss_v(self, targets, outputs):\n",
        "    # Mean squared error (MSE)\n",
        "    return torch.sum((targets - outputs.view(-1)) ** 2) / targets.size()[0]\n",
        "\n",
        "  def save_checkpoint(self, folder='checkpoint', filename='checkpoint.pth.tar'):\n",
        "    filepath = os.path.join(folder, filename)\n",
        "    if not os.path.exists(folder):\n",
        "      print(\"Checkpoint Directory does not exist! Making directory {}\".format(folder))\n",
        "      os.mkdir(folder)\n",
        "    else:\n",
        "      print(\"Checkpoint Directory exists! \")\n",
        "    torch.save({'state_dict': self.nnet.state_dict(),}, filepath)\n",
        "    print(\"Model saved! \")\n",
        "\n",
        "  def load_checkpoint(self, folder='checkpoint', filename='checkpoint.pth.tar'):\n",
        "    # https://github.com/pytorch/examples/blob/master/imagenet/main.py#L98\n",
        "    filepath = os.path.join(folder, filename)\n",
        "    if not os.path.exists(filepath):\n",
        "      raise (\"No model in path {}\".format(filepath))\n",
        "    map_location = None if args.cuda else 'cpu'\n",
        "    checkpoint = torch.load(filepath, map_location=map_location)\n",
        "    self.nnet.load_state_dict(checkpoint['state_dict'])"
      ],
      "execution_count": 23,
      "outputs": []
    },
    {
      "cell_type": "markdown",
      "metadata": {
        "id": "Ebq3TGA2bugY"
      },
      "source": [
        "## Section 2.4. Train the value network and observe the MSE loss progress"
      ]
    },
    {
      "cell_type": "code",
      "metadata": {
        "colab": {
          "base_uri": "https://localhost:8080/"
        },
        "id": "gvJEO-_lbugZ",
        "outputId": "f9195da7-3b61-4938-acd9-85945de64883"
      },
      "source": [
        "game = OthelloGame(6)\n",
        "vnet = ValueNetwork(game)\n",
        "vnet.train(loaded_games)"
      ],
      "execution_count": 24,
      "outputs": [
        {
          "output_type": "stream",
          "text": [
            "\rTraining Value Network:   0%|          | 0/401 [00:00<?, ?it/s]"
          ],
          "name": "stderr"
        },
        {
          "output_type": "stream",
          "text": [
            "EPOCH ::: 1\n"
          ],
          "name": "stdout"
        },
        {
          "output_type": "stream",
          "text": [
            "Training Value Network: 100%|██████████| 401/401 [00:08<00:00, 44.74it/s, Loss_v=0.787]\n",
            "Training Value Network:   1%|▏         | 6/401 [00:00<00:07, 51.12it/s, Loss_v=0.607]"
          ],
          "name": "stderr"
        },
        {
          "output_type": "stream",
          "text": [
            "EPOCH ::: 2\n"
          ],
          "name": "stdout"
        },
        {
          "output_type": "stream",
          "text": [
            "Training Value Network: 100%|██████████| 401/401 [00:08<00:00, 46.70it/s, Loss_v=0.721]\n",
            "Training Value Network:   1%|          | 5/401 [00:00<00:08, 47.44it/s, Loss_v=0.79] "
          ],
          "name": "stderr"
        },
        {
          "output_type": "stream",
          "text": [
            "EPOCH ::: 3\n"
          ],
          "name": "stdout"
        },
        {
          "output_type": "stream",
          "text": [
            "Training Value Network: 100%|██████████| 401/401 [00:08<00:00, 45.77it/s, Loss_v=0.966]\n",
            "Training Value Network:   1%|          | 5/401 [00:00<00:08, 45.75it/s, Loss_v=0.848]"
          ],
          "name": "stderr"
        },
        {
          "output_type": "stream",
          "text": [
            "EPOCH ::: 4\n"
          ],
          "name": "stdout"
        },
        {
          "output_type": "stream",
          "text": [
            "Training Value Network: 100%|██████████| 401/401 [00:08<00:00, 44.74it/s, Loss_v=0.544]\n",
            "Training Value Network:   1%|          | 5/401 [00:00<00:08, 45.85it/s, Loss_v=0.708]"
          ],
          "name": "stderr"
        },
        {
          "output_type": "stream",
          "text": [
            "EPOCH ::: 5\n"
          ],
          "name": "stdout"
        },
        {
          "output_type": "stream",
          "text": [
            "Training Value Network: 100%|██████████| 401/401 [00:09<00:00, 43.85it/s, Loss_v=0.734]\n",
            "Training Value Network:   1%|          | 5/401 [00:00<00:08, 44.18it/s, Loss_v=0.546]"
          ],
          "name": "stderr"
        },
        {
          "output_type": "stream",
          "text": [
            "EPOCH ::: 6\n"
          ],
          "name": "stdout"
        },
        {
          "output_type": "stream",
          "text": [
            "Training Value Network: 100%|██████████| 401/401 [00:09<00:00, 43.58it/s, Loss_v=0.546]\n",
            "Training Value Network:   1%|          | 5/401 [00:00<00:08, 45.37it/s, Loss_v=0.459]"
          ],
          "name": "stderr"
        },
        {
          "output_type": "stream",
          "text": [
            "EPOCH ::: 7\n"
          ],
          "name": "stdout"
        },
        {
          "output_type": "stream",
          "text": [
            "Training Value Network: 100%|██████████| 401/401 [00:09<00:00, 43.77it/s, Loss_v=0.455]\n",
            "Training Value Network:   1%|          | 5/401 [00:00<00:08, 45.86it/s, Loss_v=0.586]"
          ],
          "name": "stderr"
        },
        {
          "output_type": "stream",
          "text": [
            "EPOCH ::: 8\n"
          ],
          "name": "stdout"
        },
        {
          "output_type": "stream",
          "text": [
            "Training Value Network: 100%|██████████| 401/401 [00:09<00:00, 44.42it/s, Loss_v=0.347]\n",
            "Training Value Network:   1%|          | 5/401 [00:00<00:08, 46.36it/s, Loss_v=0.46] "
          ],
          "name": "stderr"
        },
        {
          "output_type": "stream",
          "text": [
            "EPOCH ::: 9\n"
          ],
          "name": "stdout"
        },
        {
          "output_type": "stream",
          "text": [
            "Training Value Network: 100%|██████████| 401/401 [00:08<00:00, 44.82it/s, Loss_v=0.434]\n",
            "Training Value Network:   1%|          | 5/401 [00:00<00:08, 46.05it/s, Loss_v=0.39] "
          ],
          "name": "stderr"
        },
        {
          "output_type": "stream",
          "text": [
            "EPOCH ::: 10\n"
          ],
          "name": "stdout"
        },
        {
          "output_type": "stream",
          "text": [
            "Training Value Network: 100%|██████████| 401/401 [00:08<00:00, 45.03it/s, Loss_v=0.327]\n",
            "Training Value Network:   1%|          | 5/407 [00:00<00:08, 49.80it/s, Loss_v=1.19]"
          ],
          "name": "stderr"
        },
        {
          "output_type": "stream",
          "text": [
            "EPOCH ::: 1\n"
          ],
          "name": "stdout"
        },
        {
          "output_type": "stream",
          "text": [
            "Training Value Network: 100%|██████████| 407/407 [00:08<00:00, 45.28it/s, Loss_v=0.823]\n",
            "Training Value Network:   1%|          | 5/407 [00:00<00:08, 46.54it/s, Loss_v=0.825]"
          ],
          "name": "stderr"
        },
        {
          "output_type": "stream",
          "text": [
            "EPOCH ::: 2\n"
          ],
          "name": "stdout"
        },
        {
          "output_type": "stream",
          "text": [
            "Training Value Network: 100%|██████████| 407/407 [00:09<00:00, 45.19it/s, Loss_v=0.636]\n",
            "Training Value Network:   1%|          | 5/407 [00:00<00:09, 43.64it/s, Loss_v=0.675]"
          ],
          "name": "stderr"
        },
        {
          "output_type": "stream",
          "text": [
            "EPOCH ::: 3\n"
          ],
          "name": "stdout"
        },
        {
          "output_type": "stream",
          "text": [
            "Training Value Network: 100%|██████████| 407/407 [00:09<00:00, 45.20it/s, Loss_v=0.651]\n",
            "Training Value Network:   1%|          | 5/407 [00:00<00:08, 47.83it/s, Loss_v=0.697]"
          ],
          "name": "stderr"
        },
        {
          "output_type": "stream",
          "text": [
            "EPOCH ::: 4\n"
          ],
          "name": "stdout"
        },
        {
          "output_type": "stream",
          "text": [
            "Training Value Network: 100%|██████████| 407/407 [00:09<00:00, 44.93it/s, Loss_v=0.592]\n",
            "Training Value Network:   1%|          | 5/407 [00:00<00:08, 48.41it/s, Loss_v=0.594]"
          ],
          "name": "stderr"
        },
        {
          "output_type": "stream",
          "text": [
            "EPOCH ::: 5\n"
          ],
          "name": "stdout"
        },
        {
          "output_type": "stream",
          "text": [
            "Training Value Network: 100%|██████████| 407/407 [00:09<00:00, 44.77it/s, Loss_v=0.421]\n",
            "Training Value Network:   1%|          | 5/407 [00:00<00:08, 44.97it/s, Loss_v=0.507]"
          ],
          "name": "stderr"
        },
        {
          "output_type": "stream",
          "text": [
            "EPOCH ::: 6\n"
          ],
          "name": "stdout"
        },
        {
          "output_type": "stream",
          "text": [
            "Training Value Network: 100%|██████████| 407/407 [00:09<00:00, 44.87it/s, Loss_v=0.444]\n",
            "Training Value Network:   1%|          | 5/407 [00:00<00:08, 46.02it/s, Loss_v=0.381]"
          ],
          "name": "stderr"
        },
        {
          "output_type": "stream",
          "text": [
            "EPOCH ::: 7\n"
          ],
          "name": "stdout"
        },
        {
          "output_type": "stream",
          "text": [
            "Training Value Network: 100%|██████████| 407/407 [00:09<00:00, 44.90it/s, Loss_v=0.382]\n",
            "Training Value Network:   1%|          | 5/407 [00:00<00:08, 45.82it/s, Loss_v=0.382]"
          ],
          "name": "stderr"
        },
        {
          "output_type": "stream",
          "text": [
            "EPOCH ::: 8\n"
          ],
          "name": "stdout"
        },
        {
          "output_type": "stream",
          "text": [
            "Training Value Network: 100%|██████████| 407/407 [00:09<00:00, 44.65it/s, Loss_v=0.232]\n",
            "Training Value Network:   1%|▏         | 6/407 [00:00<00:08, 48.96it/s, Loss_v=0.303]"
          ],
          "name": "stderr"
        },
        {
          "output_type": "stream",
          "text": [
            "EPOCH ::: 9\n"
          ],
          "name": "stdout"
        },
        {
          "output_type": "stream",
          "text": [
            "Training Value Network: 100%|██████████| 407/407 [00:09<00:00, 44.58it/s, Loss_v=0.305]\n",
            "Training Value Network:   1%|          | 5/407 [00:00<00:08, 48.45it/s, Loss_v=0.383]"
          ],
          "name": "stderr"
        },
        {
          "output_type": "stream",
          "text": [
            "EPOCH ::: 10\n"
          ],
          "name": "stdout"
        },
        {
          "output_type": "stream",
          "text": [
            "Training Value Network: 100%|██████████| 407/407 [00:09<00:00, 44.77it/s, Loss_v=0.291]\n"
          ],
          "name": "stderr"
        }
      ]
    },
    {
      "cell_type": "markdown",
      "metadata": {
        "id": "trx-WhuGbugZ"
      },
      "source": [
        "---\n",
        "#Section 3: Use a trained value network to play games\n",
        "**Goal**: Learn how to use a value function in order to make a player that works better than a random player.\n",
        "\n",
        "**Exercise:**\n",
        "* Sample random valid moves and use the value function to rank them\n",
        "* Choose the best move as the action and play it\n",
        "Show that doing so beats the random player\n"
      ]
    },
    {
      "cell_type": "code",
      "metadata": {
        "colab": {
          "base_uri": "https://localhost:8080/",
          "height": 579,
          "referenced_widgets": [
            "dddfa957b16d4740a69a2084c244f747",
            "682c75ef01d844a48088c7b9a2c7aa33",
            "47fec7b44a364638a38dd2f00d28c0cc",
            "1305c59a970e40bc8e7af68d41c04c01",
            "3b5f3cdad0df4ec0969662666077fba3",
            "6150a46573b24731b141fa2b93f10900"
          ]
        },
        "cellView": "form",
        "id": "VVsWTL_ObugZ",
        "outputId": "5f845477-582b-48d6-dde7-da767ce3dc08"
      },
      "source": [
        "#@title Video 3: Play games using a value function\n",
        "# Insert the ID of the corresponding youtube video\n",
        "from ipywidgets import widgets\n",
        "\n",
        "out2 = widgets.Output()\n",
        "with out2:\n",
        "  from IPython.display import IFrame\n",
        "  class BiliVideo(IFrame):\n",
        "    def __init__(self, id, page=1, width=400, height=300, **kwargs):\n",
        "      self.id=id\n",
        "      src = \"https://player.bilibili.com/player.html?bvid={0}&page={1}\".format(id, page)\n",
        "      super(BiliVideo, self).__init__(src, width, height, **kwargs)\n",
        "\n",
        "  video = BiliVideo(id=f\"\", width=854, height=480, fs=1)\n",
        "  print(\"Video available at https://www.bilibili.com/video/{0}\".format(video.id))\n",
        "  display(video)\n",
        "\n",
        "out1 = widgets.Output()\n",
        "with out1:\n",
        "  from IPython.display import YouTubeVideo\n",
        "  video = YouTubeVideo(id=f\"HreQzd7iusI\", width=854, height=480, fs=1, rel=0)\n",
        "  print(\"Video available at https://youtube.com/watch?v=\" + video.id)\n",
        "  display(video)\n",
        "\n",
        "out = widgets.Tab([out1, out2])\n",
        "out.set_title(0, 'Youtube')\n",
        "out.set_title(1, 'Bilibili')\n",
        "\n",
        "display(out)"
      ],
      "execution_count": 25,
      "outputs": [
        {
          "output_type": "display_data",
          "data": {
            "application/vnd.jupyter.widget-view+json": {
              "model_id": "dddfa957b16d4740a69a2084c244f747",
              "version_minor": 0,
              "version_major": 2
            },
            "text/plain": [
              "Tab(children=(Output(), Output()), _titles={'0': 'Youtube', '1': 'Bilibili'})"
            ]
          },
          "metadata": {
            "tags": []
          }
        }
      ]
    },
    {
      "cell_type": "markdown",
      "metadata": {
        "id": "8uI68-mabuga"
      },
      "source": [
        "## Coding Exercise 3.1: Value-based player"
      ]
    },
    {
      "cell_type": "code",
      "metadata": {
        "id": "RnfiLT7zbuga"
      },
      "source": [
        "# you might need to change the checkpoint address based on the file name that's in your colab\n",
        "model_save_name = 'ValueNetwork.pth.tar'\n",
        "path = F\"/content/nma_rl_games/alpha-zero/pretrained_models/models/\"\n",
        "game = OthelloGame(6)\n",
        "vnet = ValueNetwork(game)\n",
        "vnet.load_checkpoint(folder=path, filename=model_save_name)"
      ],
      "execution_count": 26,
      "outputs": []
    },
    {
      "cell_type": "code",
      "metadata": {
        "id": "rfI-IWJybuga"
      },
      "source": [
        "class ValueBasedPlayer():\n",
        "  def __init__(self, game, vnet):\n",
        "    self.game = game\n",
        "    self.vnet = vnet\n",
        "\n",
        "  def play(self, board):\n",
        "    valids = self.game.getValidMoves(board, 1)\n",
        "    candidates = []\n",
        "    max_num_actions = 3\n",
        "    va = np.where(valids)[0]\n",
        "    va_list = va.tolist()\n",
        "    shuffle(va_list)\n",
        "    #################################################\n",
        "    ## TODO for students: details of what they should do ##\n",
        "    # Fill out function and remove\n",
        "    raise NotImplementedError(\"Implement the value-based player\")\n",
        "    #################################################\n",
        "    for a in va_list:\n",
        "      # return next board state using getNextState() function\n",
        "      nextBoard, _ = ...\n",
        "      # predict the value of next state using value network\n",
        "      value = ...\n",
        "      # add the value and the action as a tuple to the candidate lists, note that you might need to change the sign of the value based on the player\n",
        "      candidates += ...\n",
        "\n",
        "      if len(candidates) == max_num_actions:\n",
        "        break\n",
        "\n",
        "    candidates.sort()\n",
        "\n",
        "    return candidates[0][1]\n",
        "\n",
        "\n",
        "# playing games between a value-based player and a random player\n",
        "num_games = 20\n",
        "player1 = ValueBasedPlayer(game, vnet).play\n",
        "player2 = RandomPlayer(game).play\n",
        "arena = Arena.Arena(player1, player2, game, display=OthelloGame.display)\n",
        "## Uncomment the code below to check your code!\n",
        "# result = arena.playGames(num_games, verbose=False)\n",
        "# print(result)"
      ],
      "execution_count": 27,
      "outputs": []
    },
    {
      "cell_type": "code",
      "metadata": {
        "colab": {
          "base_uri": "https://localhost:8080/"
        },
        "id": "jX48YbQHbugb",
        "outputId": "a004d932-b05b-4f7b-db77-540a9d49e471"
      },
      "source": [
        "#to_remove solution\n",
        "class ValueBasedPlayer():\n",
        "  def __init__(self, game, vnet):\n",
        "    self.game = game\n",
        "    self.vnet = vnet\n",
        "\n",
        "  def play(self, board):\n",
        "    valids = self.game.getValidMoves(board, 1)\n",
        "    candidates = []\n",
        "    max_num_actions = 3\n",
        "    va = np.where(valids)[0]\n",
        "    va_list = va.tolist()\n",
        "    shuffle(va_list)\n",
        "    for a in va_list:\n",
        "      # return next board state using getNextState() function\n",
        "      nextBoard, _ = self.game.getNextState(board, 1, a)\n",
        "      # predict the value of next state using value network\n",
        "      value = self.vnet.predict(nextBoard)\n",
        "      # add the value and the action as a tuple to the candidate lists, note that you might need to change the sign of the value based on the player\n",
        "      candidates += [(-value, a)]\n",
        "\n",
        "      if len(candidates) == max_num_actions:\n",
        "        break\n",
        "\n",
        "    candidates.sort()\n",
        "\n",
        "    return candidates[0][1]\n",
        "\n",
        "\n",
        "# playing games between a value-based player and a random player\n",
        "num_games = 20\n",
        "player1 = ValueBasedPlayer(game, vnet).play\n",
        "player2 = RandomPlayer(game).play\n",
        "arena = Arena.Arena(player1, player2, game, display=OthelloGame.display)\n",
        "## Uncomment the code below to check your code!\n",
        "result = arena.playGames(num_games, verbose=False)\n",
        "print(result)"
      ],
      "execution_count": 28,
      "outputs": [
        {
          "output_type": "stream",
          "text": [
            "Arena.playGames (1): 100%|██████████| 10/10 [00:01<00:00,  7.88it/s]\n",
            "Arena.playGames (2): 100%|██████████| 10/10 [00:01<00:00,  7.95it/s]"
          ],
          "name": "stderr"
        },
        {
          "output_type": "stream",
          "text": [
            "(12, 8, 0)\n"
          ],
          "name": "stdout"
        },
        {
          "output_type": "stream",
          "text": [
            "\n"
          ],
          "name": "stderr"
        }
      ]
    },
    {
      "cell_type": "markdown",
      "metadata": {
        "id": "ViRu5HCgbugb"
      },
      "source": [
        "```\n",
        "Arena.playGames (1): 100%|██████████| 10/10 [00:01<00:00,  9.30it/s]\n",
        "Arena.playGames (2): 100%|██████████| 10/10 [00:00<00:00, 10.60it/s](13, 7, 0)\n",
        "```"
      ]
    },
    {
      "cell_type": "markdown",
      "metadata": {
        "id": "fuCZILUQbugc"
      },
      "source": [
        "**Result of pitting a value-based player against a random player**"
      ]
    },
    {
      "cell_type": "code",
      "metadata": {
        "colab": {
          "base_uri": "https://localhost:8080/"
        },
        "id": "duTeSlMObugc",
        "outputId": "effb5552-0f12-4aa3-b40d-656191cc4d36"
      },
      "source": [
        "print(\"\\nNumber of games won by player1 = {}, \\nNumber of games won by player2 = {}, \\nNumber of games won by nobody = {} out of {} games\" .format(result[0], result[1], result[2], num_games))\n",
        "\n",
        "win_rate_player1 = result[0]/num_games # result[0] is the number of times that player 1 wins\n",
        "print('\\nWin rate for player 1 over {} games: {}%'.format(num_games, win_rate_player1*100))"
      ],
      "execution_count": 29,
      "outputs": [
        {
          "output_type": "stream",
          "text": [
            "\n",
            "Number of games won by player1 = 12, \n",
            "Number of games won by player2 = 8, \n",
            "Number of games won by nobody = 0 out of 20 games\n",
            "\n",
            "Win rate for player 1 over 20 games: 60.0%\n"
          ],
          "name": "stdout"
        }
      ]
    },
    {
      "cell_type": "markdown",
      "metadata": {
        "id": "szt05Laxbugc"
      },
      "source": [
        "---\n",
        "# Section 4: Train a policy network from expert game data\n",
        "**Goal**: How to train a policy network via supervised learning / behavioural cloning.\n",
        "\n",
        "**Exercise**:\n",
        "* Train a network to predict the next move in an expert dataset by maximizing the log likelihood of the next action."
      ]
    },
    {
      "cell_type": "code",
      "metadata": {
        "colab": {
          "base_uri": "https://localhost:8080/",
          "height": 579,
          "referenced_widgets": [
            "7b5e151b6e994eea952824859910d7dc",
            "b36e8f1fc8a143e1939eab118946c3e7",
            "1abb2b235d064b76881f7db3c6a0f9cf",
            "4c8214cd158e475eb303ea4c6d47cfda",
            "d4d64b19ea5e47ae9805ea5c8e6a7bad",
            "4bba0b3f099748b59903755d0244b49a"
          ]
        },
        "cellView": "form",
        "id": "9F1IaxKebugd",
        "outputId": "f87e2c06-a84d-46af-aebf-1de733d8f9f1"
      },
      "source": [
        "#@title Video 4: Train a policy network\n",
        "# Insert the ID of the corresponding youtube video\n",
        "from ipywidgets import widgets\n",
        "\n",
        "out2 = widgets.Output()\n",
        "with out2:\n",
        "  from IPython.display import IFrame\n",
        "  class BiliVideo(IFrame):\n",
        "    def __init__(self, id, page=1, width=400, height=300, **kwargs):\n",
        "      self.id=id\n",
        "      src = \"https://player.bilibili.com/player.html?bvid={0}&page={1}\".format(id, page)\n",
        "      super(BiliVideo, self).__init__(src, width, height, **kwargs)\n",
        "\n",
        "  video = BiliVideo(id=f\"\", width=854, height=480, fs=1)\n",
        "  print(\"Video available at https://www.bilibili.com/video/{0}\".format(video.id))\n",
        "  display(video)\n",
        "\n",
        "out1 = widgets.Output()\n",
        "with out1:\n",
        "  from IPython.display import YouTubeVideo\n",
        "  video = YouTubeVideo(id=f\"DVSJE2d9tNI\", width=854, height=480, fs=1, rel=0)\n",
        "  print(\"Video available at https://youtube.com/watch?v=\" + video.id)\n",
        "  display(video)\n",
        "\n",
        "out = widgets.Tab([out1, out2])\n",
        "out.set_title(0, 'Youtube')\n",
        "out.set_title(1, 'Bilibili')\n",
        "\n",
        "display(out)"
      ],
      "execution_count": 30,
      "outputs": [
        {
          "output_type": "display_data",
          "data": {
            "application/vnd.jupyter.widget-view+json": {
              "model_id": "7b5e151b6e994eea952824859910d7dc",
              "version_minor": 0,
              "version_major": 2
            },
            "text/plain": [
              "Tab(children=(Output(), Output()), _titles={'0': 'Youtube', '1': 'Bilibili'})"
            ]
          },
          "metadata": {
            "tags": []
          }
        }
      ]
    },
    {
      "cell_type": "markdown",
      "metadata": {
        "id": "IVYExawgbugd"
      },
      "source": [
        "## Coding Exercise 4.1: Implement `PolicyNetwork`"
      ]
    },
    {
      "cell_type": "code",
      "metadata": {
        "id": "TKrs_fXZbugd"
      },
      "source": [
        "class PolicyNetwork(NeuralNet):\n",
        "  def __init__(self, game):\n",
        "    self.nnet = OthelloNNet(game, args)\n",
        "    self.board_x, self.board_y = game.getBoardSize()\n",
        "    self.action_size = game.getActionSize()\n",
        "\n",
        "    if args.cuda:\n",
        "      self.nnet.cuda()\n",
        "\n",
        "  def train(self, games):\n",
        "    \"\"\"\n",
        "    examples: list of examples, each example is of form (board, pi, v)\n",
        "    \"\"\"\n",
        "    optimizer = optim.Adam(self.nnet.parameters())\n",
        "\n",
        "    for examples in games:\n",
        "      for epoch in range(args.epochs):\n",
        "        print('EPOCH ::: ' + str(epoch + 1))\n",
        "        self.nnet.train()\n",
        "        pi_losses = []\n",
        "\n",
        "        batch_count = int(len(examples) / args.batch_size)\n",
        "\n",
        "        t = tqdm(range(batch_count), desc='Training Policy Network')\n",
        "        for _ in t:\n",
        "          sample_ids = np.random.randint(len(examples), size=args.batch_size)\n",
        "          boards, pis, _ = list(zip(*[examples[i] for i in sample_ids]))\n",
        "          boards = torch.FloatTensor(np.array(boards).astype(np.float64))\n",
        "          target_pis = torch.FloatTensor(np.array(pis))\n",
        "\n",
        "          # predict\n",
        "          if args.cuda:\n",
        "            boards, target_pis = boards.contiguous().cuda(), target_pis.contiguous().cuda()\n",
        "\n",
        "          #################################################\n",
        "          ## TODO for students: details of what they should do ##\n",
        "          # Fill out function and remove\n",
        "          raise NotImplementedError(\"Compute the output\")\n",
        "          #################################################\n",
        "          # compute output\n",
        "          out_pi, _ = ...\n",
        "          l_pi = ...\n",
        "          total_loss = l_pi\n",
        "\n",
        "          # record loss\n",
        "          pi_losses.append(l_pi.item())\n",
        "          t.set_postfix(Loss_pi=l_pi.item())\n",
        "\n",
        "          # compute gradient and do SGD step\n",
        "          optimizer.zero_grad()\n",
        "          l_pi.backward()\n",
        "          optimizer.step()\n",
        "\n",
        "  def predict(self, board):\n",
        "    \"\"\"\n",
        "    board: np array with board\n",
        "    \"\"\"\n",
        "    # timing\n",
        "    start = time.time()\n",
        "\n",
        "    # preparing input\n",
        "    board = torch.FloatTensor(board.astype(np.float64))\n",
        "    if args.cuda: board = board.contiguous().cuda()\n",
        "    board = board.view(1, self.board_x, self.board_y)\n",
        "    self.nnet.eval()\n",
        "    with torch.no_grad():\n",
        "      pi,_ = self.nnet(board)\n",
        "    return torch.exp(pi).data.cpu().numpy()[0]\n",
        "\n",
        "  def loss_pi(self, targets, outputs):\n",
        "    #################################################\n",
        "    ## TODO for students: details of what they should do ##\n",
        "    # Fill out function and remove\n",
        "    raise NotImplementedError(\"Compute the loss\")\n",
        "    #################################################\n",
        "    # loss function. Be careful with the sign!\n",
        "    return ...\n",
        "\n",
        "  def save_checkpoint(self, folder='checkpoint', filename='checkpoint.pth.tar'):\n",
        "    filepath = os.path.join(folder, filename)\n",
        "    if not os.path.exists(folder):\n",
        "      print(\"Checkpoint Directory does not exist! Making directory {}\".format(folder))\n",
        "      os.mkdir(folder)\n",
        "    else:\n",
        "      print(\"Checkpoint Directory exists! \")\n",
        "    torch.save({'state_dict': self.nnet.state_dict(),}, filepath)\n",
        "    print(\"Model saved! \")\n",
        "\n",
        "  def load_checkpoint(self, folder='checkpoint', filename='checkpoint.pth.tar'):\n",
        "    # https://github.com/pytorch/examples/blob/master/imagenet/main.py#L98\n",
        "    filepath = os.path.join(folder, filename)\n",
        "    if not os.path.exists(filepath):\n",
        "      raise (\"No model in path {}\".format(filepath))\n",
        "    map_location = None if args.cuda else 'cpu'\n",
        "    checkpoint = torch.load(filepath, map_location=map_location)\n",
        "    self.nnet.load_state_dict(checkpoint['state_dict'])\n",
        "\n",
        "\n",
        "# we use the same actor-critic network to output a policy\n",
        "# game = OthelloGame(6)\n",
        "# pnet = PolicyNetwork(game)\n",
        "# pnet.train(loaded_games)"
      ],
      "execution_count": 31,
      "outputs": []
    },
    {
      "cell_type": "code",
      "metadata": {
        "colab": {
          "base_uri": "https://localhost:8080/"
        },
        "id": "QpVIyZQibuge",
        "outputId": "75813235-fd42-41aa-87a2-5f52fa10ea93"
      },
      "source": [
        "#to_remove solution\n",
        "class PolicyNetwork(NeuralNet):\n",
        "  def __init__(self, game):\n",
        "    self.nnet = OthelloNNet(game, args)\n",
        "    self.board_x, self.board_y = game.getBoardSize()\n",
        "    self.action_size = game.getActionSize()\n",
        "\n",
        "    if args.cuda:\n",
        "      self.nnet.cuda()\n",
        "\n",
        "  def train(self, games):\n",
        "    \"\"\"\n",
        "    examples: list of examples, each example is of form (board, pi, v)\n",
        "    \"\"\"\n",
        "    optimizer = optim.Adam(self.nnet.parameters())\n",
        "\n",
        "    for examples in games:\n",
        "      for epoch in range(args.epochs):\n",
        "        print('EPOCH ::: ' + str(epoch + 1))\n",
        "        self.nnet.train()\n",
        "        pi_losses = []\n",
        "\n",
        "        batch_count = int(len(examples) / args.batch_size)\n",
        "\n",
        "        t = tqdm(range(batch_count), desc='Training Policy Network')\n",
        "        for _ in t:\n",
        "          sample_ids = np.random.randint(len(examples), size=args.batch_size)\n",
        "          boards, pis, _ = list(zip(*[examples[i] for i in sample_ids]))\n",
        "          boards = torch.FloatTensor(np.array(boards).astype(np.float64))\n",
        "          target_pis = torch.FloatTensor(np.array(pis))\n",
        "\n",
        "          # predict\n",
        "          if args.cuda:\n",
        "            boards, target_pis = boards.contiguous().cuda(), target_pis.contiguous().cuda()\n",
        "\n",
        "          # compute output\n",
        "          out_pi, _ = self.nnet(boards)\n",
        "          l_pi = self.loss_pi(target_pis, out_pi)\n",
        "          total_loss = l_pi\n",
        "\n",
        "          # record loss\n",
        "          pi_losses.append(l_pi.item())\n",
        "          t.set_postfix(Loss_pi=l_pi.item())\n",
        "\n",
        "          # compute gradient and do SGD step\n",
        "          optimizer.zero_grad()\n",
        "          l_pi.backward()\n",
        "          optimizer.step()\n",
        "\n",
        "  def predict(self, board):\n",
        "    \"\"\"\n",
        "    board: np array with board\n",
        "    \"\"\"\n",
        "    # timing\n",
        "    start = time.time()\n",
        "\n",
        "    # preparing input\n",
        "    board = torch.FloatTensor(board.astype(np.float64))\n",
        "    if args.cuda: board = board.contiguous().cuda()\n",
        "    board = board.view(1, self.board_x, self.board_y)\n",
        "    self.nnet.eval()\n",
        "    with torch.no_grad():\n",
        "      pi,_ = self.nnet(board)\n",
        "    return torch.exp(pi).data.cpu().numpy()[0]\n",
        "\n",
        "  def loss_pi(self, targets, outputs):\n",
        "    # loss function. Be careful with the sign!\n",
        "    return -torch.sum(targets * outputs) / targets.size()[0]\n",
        "\n",
        "  def save_checkpoint(self, folder='checkpoint', filename='checkpoint.pth.tar'):\n",
        "    filepath = os.path.join(folder, filename)\n",
        "    if not os.path.exists(folder):\n",
        "      print(\"Checkpoint Directory does not exist! Making directory {}\".format(folder))\n",
        "      os.mkdir(folder)\n",
        "    else:\n",
        "      print(\"Checkpoint Directory exists! \")\n",
        "    torch.save({'state_dict': self.nnet.state_dict(),}, filepath)\n",
        "    print(\"Model saved! \")\n",
        "\n",
        "  def load_checkpoint(self, folder='checkpoint', filename='checkpoint.pth.tar'):\n",
        "    # https://github.com/pytorch/examples/blob/master/imagenet/main.py#L98\n",
        "    filepath = os.path.join(folder, filename)\n",
        "    if not os.path.exists(filepath):\n",
        "      raise (\"No model in path {}\".format(filepath))\n",
        "    map_location = None if args.cuda else 'cpu'\n",
        "    checkpoint = torch.load(filepath, map_location=map_location)\n",
        "    self.nnet.load_state_dict(checkpoint['state_dict'])\n",
        "\n",
        "\n",
        "# we use the same actor-critic network to output a policy\n",
        "game = OthelloGame(6)\n",
        "pnet = PolicyNetwork(game)\n",
        "pnet.train(loaded_games)"
      ],
      "execution_count": 32,
      "outputs": [
        {
          "output_type": "stream",
          "text": [
            "Training Policy Network:   1%|▏         | 6/401 [00:00<00:07, 51.01it/s, Loss_pi=3.37]"
          ],
          "name": "stderr"
        },
        {
          "output_type": "stream",
          "text": [
            "EPOCH ::: 1\n"
          ],
          "name": "stdout"
        },
        {
          "output_type": "stream",
          "text": [
            "Training Policy Network: 100%|██████████| 401/401 [00:08<00:00, 44.70it/s, Loss_pi=2.14]\n",
            "Training Policy Network:   1%|▏         | 6/401 [00:00<00:08, 49.21it/s, Loss_pi=2.41]"
          ],
          "name": "stderr"
        },
        {
          "output_type": "stream",
          "text": [
            "EPOCH ::: 2\n"
          ],
          "name": "stdout"
        },
        {
          "output_type": "stream",
          "text": [
            "Training Policy Network: 100%|██████████| 401/401 [00:08<00:00, 44.80it/s, Loss_pi=1.8]\n",
            "Training Policy Network:   1%|          | 5/401 [00:00<00:08, 47.21it/s, Loss_pi=2.11]"
          ],
          "name": "stderr"
        },
        {
          "output_type": "stream",
          "text": [
            "EPOCH ::: 3\n"
          ],
          "name": "stdout"
        },
        {
          "output_type": "stream",
          "text": [
            "Training Policy Network: 100%|██████████| 401/401 [00:08<00:00, 44.79it/s, Loss_pi=1.97]\n",
            "Training Policy Network:   1%|          | 5/401 [00:00<00:08, 47.52it/s, Loss_pi=1.95]"
          ],
          "name": "stderr"
        },
        {
          "output_type": "stream",
          "text": [
            "EPOCH ::: 4\n"
          ],
          "name": "stdout"
        },
        {
          "output_type": "stream",
          "text": [
            "Training Policy Network: 100%|██████████| 401/401 [00:08<00:00, 44.88it/s, Loss_pi=1.76]\n",
            "Training Policy Network:   1%|          | 5/401 [00:00<00:08, 46.40it/s, Loss_pi=1.7] "
          ],
          "name": "stderr"
        },
        {
          "output_type": "stream",
          "text": [
            "EPOCH ::: 5\n"
          ],
          "name": "stdout"
        },
        {
          "output_type": "stream",
          "text": [
            "Training Policy Network: 100%|██████████| 401/401 [00:08<00:00, 44.79it/s, Loss_pi=1.85]\n",
            "Training Policy Network:   1%|          | 5/401 [00:00<00:08, 48.73it/s, Loss_pi=1.6] "
          ],
          "name": "stderr"
        },
        {
          "output_type": "stream",
          "text": [
            "EPOCH ::: 6\n"
          ],
          "name": "stdout"
        },
        {
          "output_type": "stream",
          "text": [
            "Training Policy Network: 100%|██████████| 401/401 [00:08<00:00, 44.90it/s, Loss_pi=1.7]\n",
            "Training Policy Network:   1%|          | 5/401 [00:00<00:08, 46.58it/s, Loss_pi=1.64]"
          ],
          "name": "stderr"
        },
        {
          "output_type": "stream",
          "text": [
            "EPOCH ::: 7\n"
          ],
          "name": "stdout"
        },
        {
          "output_type": "stream",
          "text": [
            "Training Policy Network: 100%|██████████| 401/401 [00:08<00:00, 44.94it/s, Loss_pi=1.62]\n",
            "Training Policy Network:   1%|          | 5/401 [00:00<00:08, 47.55it/s, Loss_pi=1.44]"
          ],
          "name": "stderr"
        },
        {
          "output_type": "stream",
          "text": [
            "EPOCH ::: 8\n"
          ],
          "name": "stdout"
        },
        {
          "output_type": "stream",
          "text": [
            "Training Policy Network: 100%|██████████| 401/401 [00:08<00:00, 44.88it/s, Loss_pi=1.41]\n",
            "Training Policy Network:   1%|          | 5/401 [00:00<00:08, 47.07it/s, Loss_pi=1.44]"
          ],
          "name": "stderr"
        },
        {
          "output_type": "stream",
          "text": [
            "EPOCH ::: 9\n"
          ],
          "name": "stdout"
        },
        {
          "output_type": "stream",
          "text": [
            "Training Policy Network: 100%|██████████| 401/401 [00:08<00:00, 44.98it/s, Loss_pi=1.38]\n",
            "Training Policy Network:   1%|          | 5/401 [00:00<00:08, 48.55it/s, Loss_pi=1.21]"
          ],
          "name": "stderr"
        },
        {
          "output_type": "stream",
          "text": [
            "EPOCH ::: 10\n"
          ],
          "name": "stdout"
        },
        {
          "output_type": "stream",
          "text": [
            "Training Policy Network: 100%|██████████| 401/401 [00:08<00:00, 44.90it/s, Loss_pi=1.16]\n",
            "Training Policy Network:   1%|          | 5/407 [00:00<00:08, 46.78it/s, Loss_pi=1.75]"
          ],
          "name": "stderr"
        },
        {
          "output_type": "stream",
          "text": [
            "EPOCH ::: 1\n"
          ],
          "name": "stdout"
        },
        {
          "output_type": "stream",
          "text": [
            "Training Policy Network: 100%|██████████| 407/407 [00:09<00:00, 44.84it/s, Loss_pi=1.56]\n",
            "Training Policy Network:   1%|          | 5/407 [00:00<00:08, 46.00it/s, Loss_pi=1.56]"
          ],
          "name": "stderr"
        },
        {
          "output_type": "stream",
          "text": [
            "EPOCH ::: 2\n"
          ],
          "name": "stdout"
        },
        {
          "output_type": "stream",
          "text": [
            "Training Policy Network: 100%|██████████| 407/407 [00:09<00:00, 44.90it/s, Loss_pi=1.58]\n",
            "Training Policy Network:   1%|          | 5/407 [00:00<00:08, 47.82it/s, Loss_pi=1.18]"
          ],
          "name": "stderr"
        },
        {
          "output_type": "stream",
          "text": [
            "EPOCH ::: 3\n"
          ],
          "name": "stdout"
        },
        {
          "output_type": "stream",
          "text": [
            "Training Policy Network: 100%|██████████| 407/407 [00:09<00:00, 44.76it/s, Loss_pi=1.33]\n",
            "Training Policy Network:   1%|          | 5/407 [00:00<00:08, 45.55it/s, Loss_pi=1.28]"
          ],
          "name": "stderr"
        },
        {
          "output_type": "stream",
          "text": [
            "EPOCH ::: 4\n"
          ],
          "name": "stdout"
        },
        {
          "output_type": "stream",
          "text": [
            "Training Policy Network: 100%|██████████| 407/407 [00:09<00:00, 45.10it/s, Loss_pi=1]\n",
            "Training Policy Network:   1%|          | 5/407 [00:00<00:08, 48.55it/s, Loss_pi=0.98]"
          ],
          "name": "stderr"
        },
        {
          "output_type": "stream",
          "text": [
            "EPOCH ::: 5\n"
          ],
          "name": "stdout"
        },
        {
          "output_type": "stream",
          "text": [
            "Training Policy Network: 100%|██████████| 407/407 [00:09<00:00, 44.98it/s, Loss_pi=1.11]\n",
            "Training Policy Network:   1%|          | 5/407 [00:00<00:08, 46.74it/s, Loss_pi=1.09]"
          ],
          "name": "stderr"
        },
        {
          "output_type": "stream",
          "text": [
            "EPOCH ::: 6\n"
          ],
          "name": "stdout"
        },
        {
          "output_type": "stream",
          "text": [
            "Training Policy Network: 100%|██████████| 407/407 [00:09<00:00, 44.92it/s, Loss_pi=1.19]\n",
            "Training Policy Network:   1%|          | 5/407 [00:00<00:08, 46.27it/s, Loss_pi=1.02] "
          ],
          "name": "stderr"
        },
        {
          "output_type": "stream",
          "text": [
            "EPOCH ::: 7\n"
          ],
          "name": "stdout"
        },
        {
          "output_type": "stream",
          "text": [
            "Training Policy Network: 100%|██████████| 407/407 [00:09<00:00, 44.83it/s, Loss_pi=1.03]\n",
            "Training Policy Network:   1%|          | 5/407 [00:00<00:08, 46.48it/s, Loss_pi=1.07] "
          ],
          "name": "stderr"
        },
        {
          "output_type": "stream",
          "text": [
            "EPOCH ::: 8\n"
          ],
          "name": "stdout"
        },
        {
          "output_type": "stream",
          "text": [
            "Training Policy Network: 100%|██████████| 407/407 [00:09<00:00, 44.91it/s, Loss_pi=0.69]\n",
            "Training Policy Network:   1%|          | 5/407 [00:00<00:08, 47.21it/s, Loss_pi=0.907]"
          ],
          "name": "stderr"
        },
        {
          "output_type": "stream",
          "text": [
            "EPOCH ::: 9\n"
          ],
          "name": "stdout"
        },
        {
          "output_type": "stream",
          "text": [
            "Training Policy Network: 100%|██████████| 407/407 [00:09<00:00, 45.07it/s, Loss_pi=0.89]\n",
            "Training Policy Network:   1%|          | 5/407 [00:00<00:08, 47.48it/s, Loss_pi=0.745]"
          ],
          "name": "stderr"
        },
        {
          "output_type": "stream",
          "text": [
            "EPOCH ::: 10\n"
          ],
          "name": "stdout"
        },
        {
          "output_type": "stream",
          "text": [
            "Training Policy Network: 100%|██████████| 407/407 [00:09<00:00, 45.00it/s, Loss_pi=0.755]\n"
          ],
          "name": "stderr"
        }
      ]
    },
    {
      "cell_type": "markdown",
      "metadata": {
        "id": "je6L6fkibugf"
      },
      "source": [
        "---\n",
        "#Section 5: Use a trained policy network to play games\n",
        "**Goal**: How to use a policy network to play games.\n",
        "\n",
        "**Exercise:** \n",
        "* Use the policy network to give probabilities for the next move.\n",
        "* Build a player that takes the move given the maximum probability by the network.\n",
        "* Compare this to another player that samples moves according to the probability distribution output by the network.\n"
      ]
    },
    {
      "cell_type": "code",
      "metadata": {
        "colab": {
          "base_uri": "https://localhost:8080/",
          "height": 579,
          "referenced_widgets": [
            "a50268db36534f74aabfaa37afa7473c",
            "06aec8ff59974b32bd1f0949f6896d9b",
            "da8cdc1201934b08ba04d5f516e181c9",
            "a4e662bd0a3b41bc827b9c4ee490d55e",
            "ed0429dedd04429b96c30026c1787796",
            "e83b7f97eb0f4e8f84bc9ddd0dc707ea"
          ]
        },
        "cellView": "form",
        "id": "NOKwjsi4bugg",
        "outputId": "6ee685ab-3683-474e-a915-e9e5c19bc6d9"
      },
      "source": [
        "#@title Video 5: Play games using a policy network\n",
        "# Insert the ID of the corresponding youtube video\n",
        "from ipywidgets import widgets\n",
        "\n",
        "out2 = widgets.Output()\n",
        "with out2:\n",
        "  from IPython.display import IFrame\n",
        "  class BiliVideo(IFrame):\n",
        "    def __init__(self, id, page=1, width=400, height=300, **kwargs):\n",
        "      self.id=id\n",
        "      src = \"https://player.bilibili.com/player.html?bvid={0}&page={1}\".format(id, page)\n",
        "      super(BiliVideo, self).__init__(src, width, height, **kwargs)\n",
        "\n",
        "  video = BiliVideo(id=f\"\", width=854, height=480, fs=1)\n",
        "  print(\"Video available at https://www.bilibili.com/video/{0}\".format(video.id))\n",
        "  display(video)\n",
        "\n",
        "out1 = widgets.Output()\n",
        "with out1:\n",
        "  from IPython.display import YouTubeVideo\n",
        "  video = YouTubeVideo(id=f\"hhhBmSXIZGY\", width=854, height=480, fs=1, rel=0)\n",
        "  print(\"Video available at https://youtube.com/watch?v=\" + video.id)\n",
        "  display(video)\n",
        "\n",
        "out = widgets.Tab([out1, out2])\n",
        "out.set_title(0, 'Youtube')\n",
        "out.set_title(1, 'Bilibili')\n",
        "\n",
        "display(out)"
      ],
      "execution_count": 33,
      "outputs": [
        {
          "output_type": "display_data",
          "data": {
            "application/vnd.jupyter.widget-view+json": {
              "model_id": "a50268db36534f74aabfaa37afa7473c",
              "version_minor": 0,
              "version_major": 2
            },
            "text/plain": [
              "Tab(children=(Output(), Output()), _titles={'0': 'Youtube', '1': 'Bilibili'})"
            ]
          },
          "metadata": {
            "tags": []
          }
        }
      ]
    },
    {
      "cell_type": "markdown",
      "metadata": {
        "id": "Z7Uvk3i4bugg"
      },
      "source": [
        "## Coding Exercise 5.1: `Implement the PolicyBasedPlayer`"
      ]
    },
    {
      "cell_type": "code",
      "metadata": {
        "id": "yUfekCK4bugg"
      },
      "source": [
        "# you might need to change the checkpoint address based on the file name that's in your colab\n",
        "\n",
        "model_save_name = 'PolicyNetwork.pth.tar'\n",
        "path = F\"/content/nma_rl_games/alpha-zero/pretrained_models/models/\"\n",
        "game = OthelloGame(6)\n",
        "pnet = PolicyNetwork(game)\n",
        "pnet.load_checkpoint(folder=path, filename=model_save_name)"
      ],
      "execution_count": 34,
      "outputs": []
    },
    {
      "cell_type": "code",
      "metadata": {
        "id": "OhfLOGDdbugh"
      },
      "source": [
        "class PolicyBasedPlayer():\n",
        "  def __init__(self, game, pnet, greedy=True):\n",
        "    self.game = game\n",
        "    self.pnet = pnet\n",
        "    self.greedy = greedy\n",
        "\n",
        "  def play(self, board):\n",
        "    valids = self.game.getValidMoves(board, 1)\n",
        "    #################################################\n",
        "    ## TODO for students: details of what they should do ##\n",
        "    # Fill out function and remove\n",
        "    raise NotImplementedError(\"Define the play\")\n",
        "    #################################################\n",
        "    action_probs = ...\n",
        "    vap = ...  # masking invalid moves\n",
        "    sum_vap = ...\n",
        "\n",
        "    if sum_vap > 0:\n",
        "      vap /= sum_vap  # renormalize\n",
        "    else:\n",
        "      # if all valid moves were masked we make all valid moves equally probable\n",
        "      print(\"All valid moves were masked, doing a workaround.\")\n",
        "      vap = vap + valids\n",
        "      vap /= np.sum(vap)\n",
        "\n",
        "    if self.greedy:\n",
        "      # greedy policy player\n",
        "      a = np.where(vap == np.max(vap))[0][0]\n",
        "    else:\n",
        "      # sample-based policy player\n",
        "      a = np.random.choice(self.game.getActionSize(), p=vap)\n",
        "\n",
        "    return a\n",
        "\n",
        "\n",
        "# playing games\n",
        "num_games = 20\n",
        "player1 = PolicyBasedPlayer(game, pnet, greedy=True).play\n",
        "player2 = RandomPlayer(game).play\n",
        "arena = Arena.Arena(player1, player2, game, display=OthelloGame.display)\n",
        "## Uncomment below to test!\n",
        "# result = arena.playGames(num_games, verbose=False)\n",
        "# print(result)"
      ],
      "execution_count": 35,
      "outputs": []
    },
    {
      "cell_type": "code",
      "metadata": {
        "colab": {
          "base_uri": "https://localhost:8080/"
        },
        "id": "FisWvwtybugi",
        "outputId": "13f84855-2ca8-409d-f473-f88118d76659"
      },
      "source": [
        "#to_remove solution\n",
        "class PolicyBasedPlayer():\n",
        "  def __init__(self, game, pnet, greedy=True):\n",
        "    self.game = game\n",
        "    self.pnet = pnet\n",
        "    self.greedy = greedy\n",
        "\n",
        "  def play(self, board):\n",
        "    valids = self.game.getValidMoves(board, 1)\n",
        "    action_probs = self.pnet.predict(board)\n",
        "    vap = action_probs*valids  # masking invalid moves\n",
        "    sum_vap = np.sum(vap)\n",
        "\n",
        "    if sum_vap > 0:\n",
        "      vap /= sum_vap  # renormalize\n",
        "    else:\n",
        "      # if all valid moves were masked we make all valid moves equally probable\n",
        "      print(\"All valid moves were masked, doing a workaround.\")\n",
        "      vap = vap + valids\n",
        "      vap /= np.sum(vap)\n",
        "\n",
        "    if self.greedy:\n",
        "      # greedy policy player\n",
        "      a = np.where(vap == np.max(vap))[0][0]\n",
        "    else:\n",
        "      # sample-based policy player\n",
        "      a = np.random.choice(self.game.getActionSize(), p=vap)\n",
        "\n",
        "    return a\n",
        "\n",
        "\n",
        "# playing games\n",
        "num_games = 20\n",
        "player1 = PolicyBasedPlayer(game, pnet, greedy=True).play\n",
        "player2 = RandomPlayer(game).play\n",
        "arena = Arena.Arena(player1, player2, game, display=OthelloGame.display)\n",
        "## Uncomment below to test!\n",
        "result = arena.playGames(num_games, verbose=False)\n",
        "print(result)"
      ],
      "execution_count": 36,
      "outputs": [
        {
          "output_type": "stream",
          "text": [
            "Arena.playGames (1): 100%|██████████| 10/10 [00:00<00:00, 15.09it/s]\n",
            "Arena.playGames (2): 100%|██████████| 10/10 [00:00<00:00, 15.05it/s]"
          ],
          "name": "stderr"
        },
        {
          "output_type": "stream",
          "text": [
            "(19, 1, 0)\n"
          ],
          "name": "stdout"
        },
        {
          "output_type": "stream",
          "text": [
            "\n"
          ],
          "name": "stderr"
        }
      ]
    },
    {
      "cell_type": "code",
      "metadata": {
        "colab": {
          "base_uri": "https://localhost:8080/"
        },
        "id": "4cKW_WIjbugi",
        "outputId": "f7da46b4-bd4b-4062-96c8-5941465802bb"
      },
      "source": [
        "win_rate_player1 = result[0] / num_games\n",
        "print('\\n Win rate for player 1 over {} games: {}%'.format(num_games, win_rate_player1*100))"
      ],
      "execution_count": 37,
      "outputs": [
        {
          "output_type": "stream",
          "text": [
            "\n",
            " Win rate for player 1 over 20 games: 95.0%\n"
          ],
          "name": "stdout"
        }
      ]
    },
    {
      "cell_type": "markdown",
      "metadata": {
        "id": "lmA6t8ypbugj"
      },
      "source": [
        "## Section 5.1. Comparing a player that samples from the action probablities versus the policy player which takes the maximum probability\n",
        "We can see that the greedy policy player achieves better performance than the sample based policy player."
      ]
    },
    {
      "cell_type": "code",
      "metadata": {
        "colab": {
          "base_uri": "https://localhost:8080/"
        },
        "id": "tNIBPW1Nbugj",
        "outputId": "bd11ed44-4eeb-499d-e95c-393dffeb2fc0"
      },
      "source": [
        "num_games = 20\n",
        "game = OthelloGame(6)\n",
        "player1 = PolicyBasedPlayer(game, pnet, greedy=False).play\n",
        "player2 = RandomPlayer(game).play\n",
        "arena = Arena.Arena(player1, player2, game, display=OthelloGame.display)\n",
        "result = arena.playGames(num_games, verbose=False)\n",
        "print(result)"
      ],
      "execution_count": 38,
      "outputs": [
        {
          "output_type": "stream",
          "text": [
            "Arena.playGames (1): 100%|██████████| 10/10 [00:00<00:00, 14.79it/s]\n",
            "Arena.playGames (2): 100%|██████████| 10/10 [00:00<00:00, 14.45it/s]"
          ],
          "name": "stderr"
        },
        {
          "output_type": "stream",
          "text": [
            "(11, 9, 0)\n"
          ],
          "name": "stdout"
        },
        {
          "output_type": "stream",
          "text": [
            "\n"
          ],
          "name": "stderr"
        }
      ]
    },
    {
      "cell_type": "code",
      "metadata": {
        "colab": {
          "base_uri": "https://localhost:8080/"
        },
        "id": "3HWADVmBbugk",
        "outputId": "76c2aacc-fc50-4e09-fe52-a58494501e58"
      },
      "source": [
        "win_rate_player1 = result[0]/num_games\n",
        "print('\\n Win rate for player 1 over {} games: {}%'.format(num_games, win_rate_player1*100))"
      ],
      "execution_count": 39,
      "outputs": [
        {
          "output_type": "stream",
          "text": [
            "\n",
            " Win rate for player 1 over 20 games: 55.00000000000001%\n"
          ],
          "name": "stdout"
        }
      ]
    },
    {
      "cell_type": "markdown",
      "metadata": {
        "id": "cDlL4ootbugk"
      },
      "source": [
        "## Section 5.2. Compare greedy policy based player versus value based player "
      ]
    },
    {
      "cell_type": "code",
      "metadata": {
        "colab": {
          "base_uri": "https://localhost:8080/"
        },
        "id": "U3ul1Zu0bugk",
        "outputId": "6efc45ec-19bc-4432-9552-fb5922b1bec5"
      },
      "source": [
        "num_games = 20\n",
        "game = OthelloGame(6)\n",
        "player1 = PolicyBasedPlayer(game, pnet).play\n",
        "player2 = ValueBasedPlayer(game, vnet).play\n",
        "arena = Arena.Arena(player1, player2, game, display=OthelloGame.display)\n",
        "result = arena.playGames(num_games, verbose=False)\n",
        "print(result)"
      ],
      "execution_count": 40,
      "outputs": [
        {
          "output_type": "stream",
          "text": [
            "Arena.playGames (1): 100%|██████████| 10/10 [00:01<00:00,  6.50it/s]\n",
            "Arena.playGames (2): 100%|██████████| 10/10 [00:01<00:00,  6.46it/s]"
          ],
          "name": "stderr"
        },
        {
          "output_type": "stream",
          "text": [
            "(13, 7, 0)\n"
          ],
          "name": "stdout"
        },
        {
          "output_type": "stream",
          "text": [
            "\n"
          ],
          "name": "stderr"
        }
      ]
    },
    {
      "cell_type": "code",
      "metadata": {
        "colab": {
          "base_uri": "https://localhost:8080/"
        },
        "id": "jN8OW8tTbugl",
        "outputId": "c52a33f0-cca2-46f2-ea5e-c7235ebc0ee1"
      },
      "source": [
        "win_rate_player1 = result[0]/num_games\n",
        "print('\\n Win rate for player 1 over {} games: {}%'.format(num_games, win_rate_player1*100))"
      ],
      "execution_count": 41,
      "outputs": [
        {
          "output_type": "stream",
          "text": [
            "\n",
            " Win rate for player 1 over 20 games: 65.0%\n"
          ],
          "name": "stdout"
        }
      ]
    },
    {
      "cell_type": "markdown",
      "metadata": {
        "id": "FPNUjH2Ubugl"
      },
      "source": [
        "---\n",
        "# Section 6: Plan using Monte Carlo rollouts\n",
        "\n",
        "\n",
        "**Goal**: \n",
        "Teach the students the core idea behind using simulated rollouts to understand the future and value actions.\n",
        "\n",
        "\n",
        "**Exercise**: \n",
        "* Build a loop to run Monte Carlo simulations using the policy network.\n",
        "* Use this to obtain better estimates of the value of moves.\n",
        "\n"
      ]
    },
    {
      "cell_type": "code",
      "metadata": {
        "colab": {
          "base_uri": "https://localhost:8080/",
          "height": 579,
          "referenced_widgets": [
            "32b845dc3c9a4aacab5c61ee0ee501be",
            "3d3026d8c0024d678414814bf5474020",
            "9cb51b99dc39436bbdf7e61cfce125b3",
            "9b1abbb1c002489ca2177eb49772cefb",
            "1ab096d60d674d26accb4999fec50b55",
            "fe2fd43d8a2a4046a506e632e4f4cda5"
          ]
        },
        "cellView": "form",
        "id": "nm9VTR5gbugm",
        "outputId": "0387b06c-b2fd-41e6-cc1d-acae27fba732"
      },
      "source": [
        "#@title Video 6: Play using Monte-Carlo rollouts\n",
        "# Insert the ID of the corresponding youtube video\n",
        "from ipywidgets import widgets\n",
        "\n",
        "out2 = widgets.Output()\n",
        "with out2:\n",
        "  from IPython.display import IFrame\n",
        "  class BiliVideo(IFrame):\n",
        "    def __init__(self, id, page=1, width=400, height=300, **kwargs):\n",
        "      self.id=id\n",
        "      src = \"https://player.bilibili.com/player.html?bvid={0}&page={1}\".format(id, page)\n",
        "      super(BiliVideo, self).__init__(src, width, height, **kwargs)\n",
        "\n",
        "  video = BiliVideo(id=f\"\", width=854, height=480, fs=1)\n",
        "  print(\"Video available at https://www.bilibili.com/video/{0}\".format(video.id))\n",
        "  display(video)\n",
        "\n",
        "out1 = widgets.Output()\n",
        "with out1:\n",
        "  from IPython.display import YouTubeVideo\n",
        "  video = YouTubeVideo(id=f\"EpoIjzytpxQ\", width=854, height=480, fs=1, rel=0)\n",
        "  print(\"Video available at https://youtube.com/watch?v=\" + video.id)\n",
        "  display(video)\n",
        "\n",
        "out = widgets.Tab([out1, out2])\n",
        "out.set_title(0, 'Youtube')\n",
        "out.set_title(1, 'Bilibili')\n",
        "\n",
        "display(out)"
      ],
      "execution_count": 42,
      "outputs": [
        {
          "output_type": "display_data",
          "data": {
            "application/vnd.jupyter.widget-view+json": {
              "model_id": "32b845dc3c9a4aacab5c61ee0ee501be",
              "version_minor": 0,
              "version_major": 2
            },
            "text/plain": [
              "Tab(children=(Output(), Output()), _titles={'0': 'Youtube', '1': 'Bilibili'})"
            ]
          },
          "metadata": {
            "tags": []
          }
        }
      ]
    },
    {
      "cell_type": "markdown",
      "metadata": {
        "id": "M0ohnwFCbugn"
      },
      "source": [
        "## Coding Exercise 6.1: `MonteCarlo`"
      ]
    },
    {
      "cell_type": "code",
      "metadata": {
        "id": "oXzuvKs_bugn"
      },
      "source": [
        "class MonteCarlo():\n",
        "  def __init__(self, game, nnet, args):\n",
        "    self.game = game\n",
        "    self.nnet = nnet\n",
        "    self.args = args\n",
        "\n",
        "    self.Ps = {}  # stores initial policy (returned by neural net)\n",
        "    self.Es = {}  # stores game.getGameEnded ended for board s\n",
        "\n",
        "  # call this rollout\n",
        "  def simulate(self, canonicalBoard):\n",
        "    \"\"\"\n",
        "    This function performs one monte carlo rollout\n",
        "    \"\"\"\n",
        "\n",
        "    s = self.game.stringRepresentation(canonicalBoard)\n",
        "    init_start_state = s\n",
        "    temp_v = 0\n",
        "    isfirstAction = None\n",
        "\n",
        "    #################################################\n",
        "    ## TODO for students: details of what they should do ##\n",
        "    # Fill out function and remove\n",
        "    raise NotImplementedError(\"Build the loop\")\n",
        "    #################################################\n",
        "    for i in range(self.args.maxDepth): # maxDepth\n",
        "\n",
        "      if s not in self.Es:\n",
        "        self.Es[s] = self.game.getGameEnded(canonicalBoard, 1)\n",
        "      if self.Es[s] != 0:\n",
        "        # terminal state\n",
        "        temp_v= -self.Es[s]\n",
        "        break\n",
        "\n",
        "      self.Ps[s], v = self.nnet.predict(canonicalBoard)\n",
        "      valids = self.game.getValidMoves(canonicalBoard, 1)\n",
        "      self.Ps[s] = self.Ps[s] * valids  # masking invalid moves\n",
        "      sum_Ps_s = np.sum(self.Ps[s])\n",
        "\n",
        "      if sum_Ps_s > 0:\n",
        "        self.Ps[s] /= sum_Ps_s  # renormalize\n",
        "      else:\n",
        "        # if all valid moves were masked make all valid moves equally probable\n",
        "        # NB! All valid moves may be masked if either your NNet architecture is insufficient or you've get overfitting or something else.\n",
        "        # If you have got dozens or hundreds of these messages you should pay attention to your NNet and/or training process.\n",
        "        log.error(\"All valid moves were masked, doing a workaround.\")\n",
        "        self.Ps[s] = self.Ps[s] + valids\n",
        "        self.Ps[s] /= np.sum(self.Ps[s])\n",
        "\n",
        "      #################################################\n",
        "      ## TODO for students: details of what they should do ##\n",
        "      # Fill out function and remove\n",
        "      raise NotImplementedError(\"Take the action, find the next state\")\n",
        "      #################################################\n",
        "      # Take a random action\n",
        "      a = ...\n",
        "      # Find the next state and the next player\n",
        "      next_s, next_player = self.game.getNextState(..., ..., ...)\n",
        "      next_s = self.game.getCanonicalForm(..., ...)\n",
        "\n",
        "      s = self.game.stringRepresentation(next_s)\n",
        "      temp_v = v\n",
        "\n",
        "    return temp_v"
      ],
      "execution_count": 43,
      "outputs": []
    },
    {
      "cell_type": "code",
      "metadata": {
        "id": "CQkbV8jRbugn"
      },
      "source": [
        "#to_remove solution\n",
        "class MonteCarlo():\n",
        "  def __init__(self, game, nnet, args):\n",
        "    self.game = game\n",
        "    self.nnet = nnet\n",
        "    self.args = args\n",
        "\n",
        "    self.Ps = {}  # stores initial policy (returned by neural net)\n",
        "    self.Es = {}  # stores game.getGameEnded ended for board s\n",
        "\n",
        "  # call this rollout\n",
        "  def simulate(self, canonicalBoard):\n",
        "    \"\"\"\n",
        "    This function performs one monte carlo rollout\n",
        "    \"\"\"\n",
        "\n",
        "    s = self.game.stringRepresentation(canonicalBoard)\n",
        "    init_start_state = s\n",
        "    temp_v = 0\n",
        "    isfirstAction = None\n",
        "\n",
        "    for i in range(self.args.maxDepth): # maxDepth\n",
        "\n",
        "      if s not in self.Es:\n",
        "        self.Es[s] = self.game.getGameEnded(canonicalBoard, 1)\n",
        "      if self.Es[s] != 0:\n",
        "        # terminal state\n",
        "        temp_v= -self.Es[s]\n",
        "        break\n",
        "\n",
        "      self.Ps[s], v = self.nnet.predict(canonicalBoard)\n",
        "      valids = self.game.getValidMoves(canonicalBoard, 1)\n",
        "      self.Ps[s] = self.Ps[s] * valids  # masking invalid moves\n",
        "      sum_Ps_s = np.sum(self.Ps[s])\n",
        "\n",
        "      if sum_Ps_s > 0:\n",
        "        self.Ps[s] /= sum_Ps_s  # renormalize\n",
        "      else:\n",
        "        # if all valid moves were masked make all valid moves equally probable\n",
        "        # NB! All valid moves may be masked if either your NNet architecture is insufficient or you've get overfitting or something else.\n",
        "        # If you have got dozens or hundreds of these messages you should pay attention to your NNet and/or training process.\n",
        "        log.error(\"All valid moves were masked, doing a workaround.\")\n",
        "        self.Ps[s] = self.Ps[s] + valids\n",
        "        self.Ps[s] /= np.sum(self.Ps[s])\n",
        "\n",
        "      # Take a random action\n",
        "      a = np.random.choice(self.game.getActionSize(), p=self.Ps[s])\n",
        "      # Find the next state and the next player\n",
        "      next_s, next_player = self.game.getNextState(canonicalBoard, 1, a)\n",
        "      next_s = self.game.getCanonicalForm(next_s, next_player)\n",
        "\n",
        "      s = self.game.stringRepresentation(next_s)\n",
        "      temp_v = v\n",
        "\n",
        "    return temp_v"
      ],
      "execution_count": 44,
      "outputs": []
    },
    {
      "cell_type": "markdown",
      "metadata": {
        "id": "eK5IfDJQbugo"
      },
      "source": [
        "---\n",
        "# Section 7: Use Monte Carlo simulations to play games\n",
        "\n",
        "**Goal:** \n",
        "Teach students how to use simple Monte Carlo planning to play games.\n"
      ]
    },
    {
      "cell_type": "code",
      "metadata": {
        "colab": {
          "base_uri": "https://localhost:8080/",
          "height": 579,
          "referenced_widgets": [
            "fbc28f06ed6e484e816ecc6f3a5c2ee7",
            "31eea6fb4f4e4ddf8f224b8500fd8e3f",
            "2c496e7f626e40d68c097857821bbefa",
            "efdc04d8ee4841b6a9ff20f38028b870",
            "24854d1316d54ccc9865e8af07d2e266",
            "8b69f0b32d904a70aa5afc9894afe830"
          ]
        },
        "cellView": "form",
        "id": "tHN8Qf6Nbugo",
        "outputId": "683c698a-f3ea-44f5-a4ed-9a0d20499f80"
      },
      "source": [
        "#@title Video 7: Play with planning\n",
        "# Insert the ID of the corresponding youtube video\n",
        "from ipywidgets import widgets\n",
        "\n",
        "out2 = widgets.Output()\n",
        "with out2:\n",
        "  from IPython.display import IFrame\n",
        "  class BiliVideo(IFrame):\n",
        "    def __init__(self, id, page=1, width=400, height=300, **kwargs):\n",
        "      self.id=id\n",
        "      src = \"https://player.bilibili.com/player.html?bvid={0}&page={1}\".format(id, page)\n",
        "      super(BiliVideo, self).__init__(src, width, height, **kwargs)\n",
        "\n",
        "  video = BiliVideo(id=f\"\", width=854, height=480, fs=1)\n",
        "  print(\"Video available at https://www.bilibili.com/video/{0}\".format(video.id))\n",
        "  display(video)\n",
        "\n",
        "out1 = widgets.Output()\n",
        "with out1:\n",
        "  from IPython.display import YouTubeVideo\n",
        "  video = YouTubeVideo(id=f\"-KV8DvNjn5Q\", width=854, height=480, fs=1, rel=0)\n",
        "  print(\"Video available at https://youtube.com/watch?v=\" + video.id)\n",
        "  display(video)\n",
        "\n",
        "out = widgets.Tab([out1, out2])\n",
        "out.set_title(0, 'Youtube')\n",
        "out.set_title(1, 'Bilibili')\n",
        "\n",
        "display(out)"
      ],
      "execution_count": 45,
      "outputs": [
        {
          "output_type": "display_data",
          "data": {
            "application/vnd.jupyter.widget-view+json": {
              "model_id": "fbc28f06ed6e484e816ecc6f3a5c2ee7",
              "version_minor": 0,
              "version_major": 2
            },
            "text/plain": [
              "Tab(children=(Output(), Output()), _titles={'0': 'Youtube', '1': 'Bilibili'})"
            ]
          },
          "metadata": {
            "tags": []
          }
        }
      ]
    },
    {
      "cell_type": "markdown",
      "metadata": {
        "id": "eYP_VqiPbugp"
      },
      "source": [
        "## Coding Exercise 7.1: Monte-Carlo simulations\n",
        "\n",
        "* Incorporate Monte Carlo simulations into an agent.\n",
        "* Run the resulting player versus the random, value-based, and policy-based players."
      ]
    },
    {
      "cell_type": "code",
      "metadata": {
        "id": "xJcX3znxbugp"
      },
      "source": [
        "class MonteCarloBasedPlayer():\n",
        "  def __init__(self, game, nnet, args):\n",
        "    self.game = game\n",
        "    self.nnet = nnet\n",
        "    self.args = args\n",
        "    #################################################\n",
        "    ## TODO for students: details of what they should do ##\n",
        "    # Fill out function and remove\n",
        "    raise NotImplementedError(\"Use Monte Carlo!\")\n",
        "    #################################################\n",
        "    self.mc = ...\n",
        "    self.K = self.args.mc_topk\n",
        "\n",
        "  def play(self, canonicalBoard):\n",
        "    self.qsa = []\n",
        "    s = self.game.stringRepresentation(canonicalBoard)\n",
        "    Ps, v = self.nnet.predict(canonicalBoard)\n",
        "    valids = self.game.getValidMoves(canonicalBoard, 1)\n",
        "    Ps = Ps * valids  # masking invalid moves\n",
        "    sum_Ps_s = np.sum(Ps)\n",
        "\n",
        "    if sum_Ps_s > 0:\n",
        "      Ps /= sum_Ps_s  # renormalize\n",
        "    else:\n",
        "      # if all valid moves were masked make all valid moves equally probable\n",
        "      # NB! All valid moves may be masked if either your NNet architecture is insufficient or you've get overfitting or something else.\n",
        "      # If you have got dozens or hundreds of these messages you should pay attention to your NNet and/or training process.\n",
        "      log = logging.getLogger(__name__)\n",
        "      log.error(\"All valid moves were masked, doing a workaround.\")\n",
        "      Ps = Ps + valids\n",
        "      Ps /= np.sum(Ps)\n",
        "\n",
        "    num_valid_actions = np.shape(np.nonzero(Ps))[1]\n",
        "\n",
        "    if num_valid_actions < self.K:\n",
        "      top_k_actions = np.argpartition(Ps,-num_valid_actions)[-num_valid_actions:]\n",
        "    else:\n",
        "      top_k_actions = np.argpartition(Ps,-self.K)[-self.K:]  # to get actions that belongs to top k prob\n",
        "    #################################################\n",
        "    ## TODO for students: details of what they should do ##\n",
        "    # Fill out function and remove\n",
        "    raise NotImplementedError(\"Loop for the top actions\")\n",
        "    #################################################\n",
        "    for action in ...:\n",
        "      next_s, next_player = self.game.getNextState(..., ..., ...)\n",
        "      next_s = self.game.getCanonicalForm(..., ...)\n",
        "\n",
        "      values = []\n",
        "\n",
        "      # do some rollouts\n",
        "      for rollout in range(self.args.numMCsims):\n",
        "        value = self.mc.simulate(canonicalBoard)\n",
        "        values.append(value)\n",
        "\n",
        "      # average out values\n",
        "      avg_value = np.mean(values)\n",
        "      self.qsa.append((avg_value, action))\n",
        "\n",
        "    self.qsa.sort(key=lambda a: a[0])\n",
        "    self.qsa.reverse()\n",
        "    best_action = self.qsa[0][1]\n",
        "    return best_action\n",
        "\n",
        "  def getActionProb(self, canonicalBoard, temp=1):\n",
        "    if self.game.getGameEnded(canonicalBoard, 1) != 0:\n",
        "      return np.zeros((self.game.getActionSize()))\n",
        "\n",
        "    else:\n",
        "      action_probs = np.zeros((self.game.getActionSize()))\n",
        "      best_action = self.play(canonicalBoard)\n",
        "      action_probs[best_action] = 1\n",
        "\n",
        "    return action_probs\n",
        "\n",
        "\n",
        "game = OthelloGame(6)\n",
        "rp = RandomPlayer(game).play  # all players\n",
        "num_games = 20  # Feel free to change this number\n",
        "\n",
        "n1 = NNet(game)  # nNet players\n",
        "args1 = dotdict({'numMCsims': 10, 'maxRollouts':5, 'maxDepth':5, 'mc_topk': 3})\n",
        "\n",
        "## Uncomment below to check Monte Carlo agent!\n",
        "# mc1 = MonteCarloBasedPlayer(game, n1, args1)\n",
        "# n1p = lambda x: np.argmax(mc1.getActionProb(x))\n",
        "# arena = Arena.Arena(n1p, rp, game, display=OthelloGame.display)\n",
        "# MC_result = arena.playGames(num_games, verbose=False)\n",
        "# print(\"\\n Number of games won by player1 = {}, num of games won by player2 = {}, num of games won by nobody = {} out of {} games\" .format(MC_result[0], MC_result[1], MC_result[2], num_games))"
      ],
      "execution_count": 46,
      "outputs": []
    },
    {
      "cell_type": "code",
      "metadata": {
        "colab": {
          "base_uri": "https://localhost:8080/"
        },
        "id": "CrMc215Ubugq",
        "outputId": "07c8b0ca-7dc0-4260-fbcc-576797ee902e"
      },
      "source": [
        "#to_remove solution\n",
        "class MonteCarloBasedPlayer():\n",
        "  def __init__(self, game, nnet, args):\n",
        "    self.game = game\n",
        "    self.nnet = nnet\n",
        "    self.args = args\n",
        "    self.mc = MonteCarlo(game, nnet, args)\n",
        "    self.K = self.args.mc_topk\n",
        "\n",
        "  def play(self, canonicalBoard):\n",
        "    self.qsa = []\n",
        "    s = self.game.stringRepresentation(canonicalBoard)\n",
        "    Ps, v = self.nnet.predict(canonicalBoard)\n",
        "    valids = self.game.getValidMoves(canonicalBoard, 1)\n",
        "    Ps = Ps * valids  # masking invalid moves\n",
        "    sum_Ps_s = np.sum(Ps)\n",
        "\n",
        "    if sum_Ps_s > 0:\n",
        "      Ps /= sum_Ps_s  # renormalize\n",
        "    else:\n",
        "      # if all valid moves were masked make all valid moves equally probable\n",
        "      # NB! All valid moves may be masked if either your NNet architecture is insufficient or you've get overfitting or something else.\n",
        "      # If you have got dozens or hundreds of these messages you should pay attention to your NNet and/or training process.\n",
        "      log = logging.getLogger(__name__)\n",
        "      log.error(\"All valid moves were masked, doing a workaround.\")\n",
        "      Ps = Ps + valids\n",
        "      Ps /= np.sum(Ps)\n",
        "\n",
        "    num_valid_actions = np.shape(np.nonzero(Ps))[1]\n",
        "\n",
        "    if num_valid_actions < self.K:\n",
        "      top_k_actions = np.argpartition(Ps,-num_valid_actions)[-num_valid_actions:]\n",
        "    else:\n",
        "      top_k_actions = np.argpartition(Ps,-self.K)[-self.K:]  # to get actions that belongs to top k prob\n",
        "\n",
        "    for action in top_k_actions:\n",
        "      next_s, next_player = self.game.getNextState(canonicalBoard, 1, action)\n",
        "      next_s = self.game.getCanonicalForm(next_s, next_player)\n",
        "\n",
        "      values = []\n",
        "\n",
        "      # do some rollouts\n",
        "      for rollout in range(self.args.numMCsims):\n",
        "        value = self.mc.simulate(canonicalBoard)\n",
        "        values.append(value)\n",
        "\n",
        "      # average out values\n",
        "      avg_value = np.mean(values)\n",
        "      self.qsa.append((avg_value, action))\n",
        "\n",
        "    self.qsa.sort(key=lambda a: a[0])\n",
        "    self.qsa.reverse()\n",
        "    best_action = self.qsa[0][1]\n",
        "    return best_action\n",
        "\n",
        "  def getActionProb(self, canonicalBoard, temp=1):\n",
        "    if self.game.getGameEnded(canonicalBoard, 1) != 0:\n",
        "      return np.zeros((self.game.getActionSize()))\n",
        "\n",
        "    else:\n",
        "      action_probs = np.zeros((self.game.getActionSize()))\n",
        "      best_action = self.play(canonicalBoard)\n",
        "      action_probs[best_action] = 1\n",
        "\n",
        "    return action_probs\n",
        "\n",
        "\n",
        "game = OthelloGame(6)\n",
        "rp = RandomPlayer(game).play  # all players\n",
        "num_games = 20  # Feel free to change this number\n",
        "\n",
        "n1 = NNet(game)  # nNet players\n",
        "args1 = dotdict({'numMCsims': 10, 'maxRollouts':5, 'maxDepth':5, 'mc_topk': 3})\n",
        "\n",
        "## Uncomment below to check Monte Carlo agent!\n",
        "mc1 = MonteCarloBasedPlayer(game, n1, args1)\n",
        "n1p = lambda x: np.argmax(mc1.getActionProb(x))\n",
        "arena = Arena.Arena(n1p, rp, game, display=OthelloGame.display)\n",
        "MC_result = arena.playGames(num_games, verbose=False)\n",
        "print(\"\\n Number of games won by player1 = {}, num of games won by player2 = {}, num of games won by nobody = {} out of {} games\" .format(MC_result[0], MC_result[1], MC_result[2], num_games))"
      ],
      "execution_count": 47,
      "outputs": [
        {
          "output_type": "stream",
          "text": [
            "Arena.playGames (1):   0%|          | 0/10 [00:00<?, ?it/s]/usr/local/lib/python3.7/dist-packages/ipykernel_launcher.py:86: DeprecationWarning: tostring() is deprecated. Use tobytes() instead.\n",
            "Arena.playGames (1): 100%|██████████| 10/10 [00:56<00:00,  5.63s/it]\n",
            "Arena.playGames (2): 100%|██████████| 10/10 [00:54<00:00,  5.43s/it]"
          ],
          "name": "stderr"
        },
        {
          "output_type": "stream",
          "text": [
            "\n",
            " Number of games won by player1 = 13, num of games won by player2 = 7, num of games won by nobody = 0 out of 20 games\n"
          ],
          "name": "stdout"
        },
        {
          "output_type": "stream",
          "text": [
            "\n"
          ],
          "name": "stderr"
        }
      ]
    },
    {
      "cell_type": "markdown",
      "metadata": {
        "id": "vgtbYQr8bugq"
      },
      "source": [
        "---\n",
        "# Section 8: Plan using Monte Carlo Tree Search\n",
        "\n",
        "**Goal:** \n",
        "Teach students to understand the core ideas behind Monte Carlo Tree Search.\n"
      ]
    },
    {
      "cell_type": "code",
      "metadata": {
        "colab": {
          "base_uri": "https://localhost:8080/",
          "height": 579,
          "referenced_widgets": [
            "9a54584fa2bb4dedae7cf136fab6a23e",
            "77989aba7bfa494fb0ac7a8cd6faaf36",
            "1bce5b57ee0240a8975fecb914a54a1e",
            "40968db1c78d491ab5b7e10c96b7bed1",
            "830de4cfa2064b4d82ed988767499459",
            "d28760aba99c4935ad5086f34cafcdca"
          ]
        },
        "cellView": "form",
        "id": "FvDAiDn2bugr",
        "outputId": "acf3d808-9934-4559-e5e8-0248f680cae2"
      },
      "source": [
        "#@title Video 8: Plan with MCTS\n",
        "# Insert the ID of the corresponding youtube video\n",
        "from ipywidgets import widgets\n",
        "\n",
        "out2 = widgets.Output()\n",
        "with out2:\n",
        "  from IPython.display import IFrame\n",
        "  class BiliVideo(IFrame):\n",
        "    def __init__(self, id, page=1, width=400, height=300, **kwargs):\n",
        "      self.id=id\n",
        "      src = \"https://player.bilibili.com/player.html?bvid={0}&page={1}\".format(id, page)\n",
        "      super(BiliVideo, self).__init__(src, width, height, **kwargs)\n",
        "\n",
        "  video = BiliVideo(id=f\"\", width=854, height=480, fs=1)\n",
        "  print(\"Video available at https://www.bilibili.com/video/{0}\".format(video.id))\n",
        "  display(video)\n",
        "\n",
        "out1 = widgets.Output()\n",
        "with out1:\n",
        "  from IPython.display import YouTubeVideo\n",
        "  video = YouTubeVideo(id=f\"tKBcMtoEzQA\", width=854, height=480, fs=1, rel=0)\n",
        "  print(\"Video available at https://youtube.com/watch?v=\" + video.id)\n",
        "  display(video)\n",
        "\n",
        "out = widgets.Tab([out1, out2])\n",
        "out.set_title(0, 'Youtube')\n",
        "out.set_title(1, 'Bilibili')\n",
        "\n",
        "display(out)"
      ],
      "execution_count": 48,
      "outputs": [
        {
          "output_type": "display_data",
          "data": {
            "application/vnd.jupyter.widget-view+json": {
              "model_id": "9a54584fa2bb4dedae7cf136fab6a23e",
              "version_minor": 0,
              "version_major": 2
            },
            "text/plain": [
              "Tab(children=(Output(), Output()), _titles={'0': 'Youtube', '1': 'Bilibili'})"
            ]
          },
          "metadata": {
            "tags": []
          }
        }
      ]
    },
    {
      "cell_type": "markdown",
      "metadata": {
        "id": "RDuomy3-bugr"
      },
      "source": [
        "## Coding Exercise 8.1: MCTS planner\n",
        "\n",
        "* Plug together pre-built Selection, Expansion & Backpropagation code to complete an MCTS planner.\n",
        "* Deploy the MCTS planner to understand an interesting position, producing value estimates and action counts."
      ]
    },
    {
      "cell_type": "code",
      "metadata": {
        "id": "0BQsXmDcbugr"
      },
      "source": [
        "class MCTS():\n",
        "  \"\"\"\n",
        "  This class handles the MCTS tree.\n",
        "  \"\"\"\n",
        "\n",
        "  def __init__(self, game, nnet, args):\n",
        "    self.game = game\n",
        "    self.nnet = nnet\n",
        "    self.args = args\n",
        "    self.Qsa = {}    # stores Q values for s,a (as defined in the paper)\n",
        "    self.Nsa = {}    # stores #times edge s,a was visited\n",
        "    self.Ns = {}     # stores #times board s was visited\n",
        "    self.Ps = {}     # stores initial policy (returned by neural net)\n",
        "    self.Es = {}     # stores game.getGameEnded ended for board s\n",
        "    self.Vs = {}     # stores game.getValidMoves for board s\n",
        "\n",
        "  def search(self, canonicalBoard):\n",
        "    \"\"\"\n",
        "    This function performs one iteration of MCTS. It is recursively called\n",
        "    till a leaf node is found. The action chosen at each node is one that\n",
        "    has the maximum upper confidence bound as in the paper.\n",
        "\n",
        "    Once a leaf node is found, the neural network is called to return an\n",
        "    initial policy P and a value v for the state. This value is propagated\n",
        "    up the search path. In case the leaf node is a terminal state, the\n",
        "    outcome is propagated up the search path. The values of Ns, Nsa, Qsa are\n",
        "    updated.\n",
        "\n",
        "    NOTE: the return values are the negative of the value of the current\n",
        "    state. This is done since v is in [-1,1] and if v is the value of a\n",
        "    state for the current player, then its value is -v for the other player.\n",
        "\n",
        "    Returns:\n",
        "        v: the negative of the value of the current canonicalBoard\n",
        "    \"\"\"\n",
        "    s = self.game.stringRepresentation(canonicalBoard)\n",
        "\n",
        "    if s not in self.Es:\n",
        "      self.Es[s] = self.game.getGameEnded(canonicalBoard, 1)\n",
        "    if self.Es[s] != 0:\n",
        "      # terminal node\n",
        "      return -self.Es[s]\n",
        "\n",
        "    if s not in self.Ps:\n",
        "      # leaf node\n",
        "      self.Ps[s], v = self.nnet.predict(canonicalBoard)\n",
        "      valids = self.game.getValidMoves(canonicalBoard, 1)\n",
        "      self.Ps[s] = self.Ps[s] * valids  # masking invalid moves\n",
        "      sum_Ps_s = np.sum(self.Ps[s])\n",
        "      if sum_Ps_s > 0:\n",
        "        self.Ps[s] /= sum_Ps_s  # renormalize\n",
        "      else:\n",
        "        # if all valid moves were masked make all valid moves equally probable\n",
        "        # NB! All valid moves may be masked if either your NNet architecture is insufficient or you've get overfitting or something else.\n",
        "        # If you have got dozens or hundreds of these messages you should pay attention to your NNet and/or training process.\n",
        "        log = logging.getLogger(__name__)\n",
        "        log.error(\"All valid moves were masked, doing a workaround.\")\n",
        "        self.Ps[s] = self.Ps[s] + valids\n",
        "        self.Ps[s] /= np.sum(self.Ps[s])\n",
        "\n",
        "      self.Vs[s] = valids\n",
        "      self.Ns[s] = 0\n",
        "\n",
        "      return -v\n",
        "\n",
        "    valids = self.Vs[s]\n",
        "    cur_best = -float('inf')\n",
        "    best_act = -1\n",
        "\n",
        "    #################################################\n",
        "    ## TODO for students: details of what they should do ##\n",
        "    # Fill out function and remove\n",
        "    raise NotImplementedError(\"Complete the for loop\")\n",
        "    #################################################\n",
        "    # pick the action with the highest upper confidence bound\n",
        "    for a in range(self.game.getActionSize()):\n",
        "      if valids[a]:\n",
        "        if (s, a) in self.Qsa:\n",
        "          u = ... + ... * ... * math.sqrt(...) / (1 + ...)\n",
        "        else:\n",
        "          u = ... * ... * math.sqrt(... + 1e-8)\n",
        "\n",
        "        if u > cur_best:\n",
        "          cur_best = u\n",
        "          best_act = a\n",
        "\n",
        "    a = best_act\n",
        "    next_s, next_player = self.game.getNextState(canonicalBoard, 1, a)\n",
        "    next_s = self.game.getCanonicalForm(next_s, next_player)\n",
        "\n",
        "    v = self.search(next_s)\n",
        "\n",
        "    if (s, a) in self.Qsa:\n",
        "      self.Qsa[(s, a)] = (self.Nsa[(s, a)] * self.Qsa[(s, a)] + v) / (self.Nsa[(s, a)] + 1)\n",
        "      self.Nsa[(s, a)] += 1\n",
        "\n",
        "    else:\n",
        "      self.Qsa[(s, a)] = v\n",
        "      self.Nsa[(s, a)] = 1\n",
        "\n",
        "    self.Ns[s] += 1\n",
        "    return -v\n",
        "\n",
        "  def getNsa(self):\n",
        "    return self.Nsa"
      ],
      "execution_count": 49,
      "outputs": []
    },
    {
      "cell_type": "code",
      "metadata": {
        "id": "lE7ez0xbbugs"
      },
      "source": [
        "#to_remove solution\n",
        "class MCTS():\n",
        "  \"\"\"\n",
        "  This class handles the MCTS tree.\n",
        "  \"\"\"\n",
        "\n",
        "  def __init__(self, game, nnet, args):\n",
        "    self.game = game\n",
        "    self.nnet = nnet\n",
        "    self.args = args\n",
        "    self.Qsa = {}    # stores Q values for s,a (as defined in the paper)\n",
        "    self.Nsa = {}    # stores #times edge s,a was visited\n",
        "    self.Ns = {}     # stores #times board s was visited\n",
        "    self.Ps = {}     # stores initial policy (returned by neural net)\n",
        "    self.Es = {}     # stores game.getGameEnded ended for board s\n",
        "    self.Vs = {}     # stores game.getValidMoves for board s\n",
        "\n",
        "  def search(self, canonicalBoard):\n",
        "    \"\"\"\n",
        "    This function performs one iteration of MCTS. It is recursively called\n",
        "    till a leaf node is found. The action chosen at each node is one that\n",
        "    has the maximum upper confidence bound as in the paper.\n",
        "\n",
        "    Once a leaf node is found, the neural network is called to return an\n",
        "    initial policy P and a value v for the state. This value is propagated\n",
        "    up the search path. In case the leaf node is a terminal state, the\n",
        "    outcome is propagated up the search path. The values of Ns, Nsa, Qsa are\n",
        "    updated.\n",
        "\n",
        "    NOTE: the return values are the negative of the value of the current\n",
        "    state. This is done since v is in [-1,1] and if v is the value of a\n",
        "    state for the current player, then its value is -v for the other player.\n",
        "\n",
        "    Returns:\n",
        "        v: the negative of the value of the current canonicalBoard\n",
        "    \"\"\"\n",
        "    s = self.game.stringRepresentation(canonicalBoard)\n",
        "\n",
        "    if s not in self.Es:\n",
        "      self.Es[s] = self.game.getGameEnded(canonicalBoard, 1)\n",
        "    if self.Es[s] != 0:\n",
        "      # terminal node\n",
        "      return -self.Es[s]\n",
        "\n",
        "    if s not in self.Ps:\n",
        "      # leaf node\n",
        "      self.Ps[s], v = self.nnet.predict(canonicalBoard)\n",
        "      valids = self.game.getValidMoves(canonicalBoard, 1)\n",
        "      self.Ps[s] = self.Ps[s] * valids  # masking invalid moves\n",
        "      sum_Ps_s = np.sum(self.Ps[s])\n",
        "      if sum_Ps_s > 0:\n",
        "        self.Ps[s] /= sum_Ps_s  # renormalize\n",
        "      else:\n",
        "        # if all valid moves were masked make all valid moves equally probable\n",
        "        # NB! All valid moves may be masked if either your NNet architecture is insufficient or you've get overfitting or something else.\n",
        "        # If you have got dozens or hundreds of these messages you should pay attention to your NNet and/or training process.\n",
        "        log = logging.getLogger(__name__)\n",
        "        log.error(\"All valid moves were masked, doing a workaround.\")\n",
        "        self.Ps[s] = self.Ps[s] + valids\n",
        "        self.Ps[s] /= np.sum(self.Ps[s])\n",
        "\n",
        "      self.Vs[s] = valids\n",
        "      self.Ns[s] = 0\n",
        "\n",
        "      return -v\n",
        "\n",
        "    valids = self.Vs[s]\n",
        "    cur_best = -float('inf')\n",
        "    best_act = -1\n",
        "\n",
        "    # pick the action with the highest upper confidence bound\n",
        "    for a in range(self.game.getActionSize()):\n",
        "      if valids[a]:\n",
        "        if (s, a) in self.Qsa:\n",
        "          u = self.Qsa[(s, a)] + self.args.cpuct * self.Ps[s][a] * math.sqrt(self.Ns[s]) / (1 + self.Nsa[(s, a)])\n",
        "        else:\n",
        "          u = self.args.cpuct * self.Ps[s][a] * math.sqrt(self.Ns[s] + 1e-8)\n",
        "\n",
        "        if u > cur_best:\n",
        "          cur_best = u\n",
        "          best_act = a\n",
        "\n",
        "    a = best_act\n",
        "    next_s, next_player = self.game.getNextState(canonicalBoard, 1, a)\n",
        "    next_s = self.game.getCanonicalForm(next_s, next_player)\n",
        "\n",
        "    v = self.search(next_s)\n",
        "\n",
        "    if (s, a) in self.Qsa:\n",
        "      self.Qsa[(s, a)] = (self.Nsa[(s, a)] * self.Qsa[(s, a)] + v) / (self.Nsa[(s, a)] + 1)\n",
        "      self.Nsa[(s, a)] += 1\n",
        "\n",
        "    else:\n",
        "      self.Qsa[(s, a)] = v\n",
        "      self.Nsa[(s, a)] = 1\n",
        "\n",
        "    self.Ns[s] += 1\n",
        "    return -v\n",
        "\n",
        "  def getNsa(self):\n",
        "    return self.Nsa"
      ],
      "execution_count": 50,
      "outputs": []
    },
    {
      "cell_type": "markdown",
      "metadata": {
        "id": "Gqzx-aG3bugt"
      },
      "source": [
        "---\n",
        "# Section 9: Use MCTS to play games \n",
        "\n",
        "**Goal:** \n",
        "Teach the students how to use the results of an MCTS to play games.\n",
        "\n",
        "**Exercise:** \n",
        "* Plug the MCTS planner into an agent.\n",
        "* Play games against other agents.\n",
        "* Explore the contributions of prior network, value function, number of simulations / time to play, and explore/exploit parameters.\n"
      ]
    },
    {
      "cell_type": "code",
      "metadata": {
        "colab": {
          "base_uri": "https://localhost:8080/",
          "height": 579,
          "referenced_widgets": [
            "d856b5d96ef242d89128ec885e7365d4",
            "eb2b93bee1b14b1cb302d38a9acbdb00",
            "ecde55f3164840db921ac9be95cd8d46",
            "46a6bf432d82434b9ebe70064c3a4307",
            "b2ab145a96cf4aae9e907ad4127fb8b0",
            "976bfefb2d1d41ae8408398a4636bea0"
          ]
        },
        "cellView": "form",
        "id": "WqX1p5tFbugu",
        "outputId": "988bfee5-6ebb-4511-8980-f0f6b3db5df2"
      },
      "source": [
        "#@title Video 9: Play with MCTS\n",
        "# Insert the ID of the corresponding youtube video\n",
        "from ipywidgets import widgets\n",
        "\n",
        "out2 = widgets.Output()\n",
        "with out2:\n",
        "  from IPython.display import IFrame\n",
        "  class BiliVideo(IFrame):\n",
        "    def __init__(self, id, page=1, width=400, height=300, **kwargs):\n",
        "      self.id=id\n",
        "      src = \"https://player.bilibili.com/player.html?bvid={0}&page={1}\".format(id, page)\n",
        "      super(BiliVideo, self).__init__(src, width, height, **kwargs)\n",
        "\n",
        "  video = BiliVideo(id=f\"\", width=854, height=480, fs=1)\n",
        "  print(\"Video available at https://www.bilibili.com/video/{0}\".format(video.id))\n",
        "  display(video)\n",
        "\n",
        "out1 = widgets.Output()\n",
        "with out1:\n",
        "  from IPython.display import YouTubeVideo\n",
        "  video = YouTubeVideo(id=f\"ejG3kN_leRk\", width=854, height=480, fs=1, rel=0)\n",
        "  print(\"Video available at https://youtube.com/watch?v=\" + video.id)\n",
        "  display(video)\n",
        "\n",
        "out = widgets.Tab([out1, out2])\n",
        "out.set_title(0, 'Youtube')\n",
        "out.set_title(1, 'Bilibili')\n",
        "\n",
        "display(out)"
      ],
      "execution_count": 51,
      "outputs": [
        {
          "output_type": "display_data",
          "data": {
            "application/vnd.jupyter.widget-view+json": {
              "model_id": "d856b5d96ef242d89128ec885e7365d4",
              "version_minor": 0,
              "version_major": 2
            },
            "text/plain": [
              "Tab(children=(Output(), Output()), _titles={'0': 'Youtube', '1': 'Bilibili'})"
            ]
          },
          "metadata": {
            "tags": []
          }
        }
      ]
    },
    {
      "cell_type": "markdown",
      "metadata": {
        "id": "SW0FcVaFbugu"
      },
      "source": [
        "## Coding Exercise 9.1: Agent that uses an MCTS planner\n",
        "\n",
        "* Plug the MCTS planner into an agent.\n",
        "* Play games against other agents.\n",
        "* Explore the contributions of prior network, value function, number of simulations / time to play, and explore/exploit parameters."
      ]
    },
    {
      "cell_type": "code",
      "metadata": {
        "id": "RSMcagJobugu"
      },
      "source": [
        "class MonteCarloTreeSearchBasedPlayer():\n",
        "  def __init__(self, game, nnet, args):\n",
        "    self.game = game\n",
        "    self.nnet = nnet\n",
        "    self.args = args\n",
        "    #################################################\n",
        "    ## TODO for students: details of what they should do ##\n",
        "    # Fill out function and remove\n",
        "    raise NotImplementedError(\"Plug the planner\")\n",
        "    #################################################\n",
        "    self.mcts = MCTS(game, nnet, args)\n",
        "\n",
        "  def play(self, canonicalBoard, temp=1):\n",
        "    for i in range(self.args.numMCTSSims):\n",
        "      self.mcts.search(canonicalBoard)\n",
        "\n",
        "    s = self.game.stringRepresentation(canonicalBoard)\n",
        "    self.Nsa = self.mcts.getNsa()\n",
        "    self.counts = [self.Nsa[(s, a)] if (s, a) in self.Nsa else 0 for a in range(self.game.getActionSize())]\n",
        "\n",
        "    if temp == 0:\n",
        "      bestAs = np.array(np.argwhere(self.counts == np.max(self.counts))).flatten()\n",
        "      bestA = np.random.choice(bestAs)\n",
        "      probs = [0] * len(self.counts)\n",
        "      probs[bestA] = 1\n",
        "      return probs\n",
        "\n",
        "    self.counts = [x ** (1. / temp) for x in self.counts]\n",
        "    self.counts_sum = float(sum(self.counts))\n",
        "    probs = [x / self.counts_sum for x in self.counts]\n",
        "    return np.argmax(probs)\n",
        "\n",
        "  def getActionProb(self, canonicalBoard, temp=1):\n",
        "    action_probs = np.zeros((self.game.getActionSize()))\n",
        "    best_action = self.play(canonicalBoard)\n",
        "    action_probs[best_action] = 1\n",
        "\n",
        "    return action_probs\n",
        "\n",
        "\n",
        "game = OthelloGame(6)\n",
        "rp = RandomPlayer(game).play  # all players\n",
        "num_games = 20  # games\n",
        "n1 = NNet(game)  # nnet players\n",
        "args1 = dotdict({'numMCTSSims': 50, 'cpuct':1.0})\n",
        "## Uncomment below to check your agent!\n",
        "# mcts1 = MonteCarloTreeSearchBasedPlayer(game, n1, args1)\n",
        "# n1p = lambda x: np.argmax(mcts1.getActionProb(x, temp=0))\n",
        "# arena = Arena.Arena(n1p, rp, game, display=OthelloGame.display)\n",
        "# MCTS_result = arena.playGames(num_games, verbose=False)\n",
        "# print(\"\\n Number of games won by player1 = {}, num of games won by player2 = {}, num of games won by nobody = {} out of {} games\" .format(MCTS_result[0], MCTS_result[1], MCTS_result[2], num_games))"
      ],
      "execution_count": 52,
      "outputs": []
    },
    {
      "cell_type": "code",
      "metadata": {
        "colab": {
          "base_uri": "https://localhost:8080/"
        },
        "id": "_oyiVgKKbugv",
        "outputId": "36969c2a-07f2-43dc-d441-c3d31870cc24"
      },
      "source": [
        "#to_remove solution\n",
        "class MonteCarloTreeSearchBasedPlayer():\n",
        "  def __init__(self, game, nnet, args):\n",
        "    self.game = game\n",
        "    self.nnet = nnet\n",
        "    self.args = args\n",
        "    self.mcts = MCTS(game, nnet, args)\n",
        "\n",
        "  def play(self, canonicalBoard, temp=1):\n",
        "    for i in range(self.args.numMCTSSims):\n",
        "      self.mcts.search(canonicalBoard)\n",
        "\n",
        "    s = self.game.stringRepresentation(canonicalBoard)\n",
        "    self.Nsa = self.mcts.getNsa()\n",
        "    self.counts = [self.Nsa[(s, a)] if (s, a) in self.Nsa else 0 for a in range(self.game.getActionSize())]\n",
        "\n",
        "    if temp == 0:\n",
        "      bestAs = np.array(np.argwhere(self.counts == np.max(self.counts))).flatten()\n",
        "      bestA = np.random.choice(bestAs)\n",
        "      probs = [0] * len(self.counts)\n",
        "      probs[bestA] = 1\n",
        "      return probs\n",
        "\n",
        "    self.counts = [x ** (1. / temp) for x in self.counts]\n",
        "    self.counts_sum = float(sum(self.counts))\n",
        "    probs = [x / self.counts_sum for x in self.counts]\n",
        "    return np.argmax(probs)\n",
        "\n",
        "  def getActionProb(self, canonicalBoard, temp=1):\n",
        "    action_probs = np.zeros((self.game.getActionSize()))\n",
        "    best_action = self.play(canonicalBoard)\n",
        "    action_probs[best_action] = 1\n",
        "\n",
        "    return action_probs\n",
        "\n",
        "\n",
        "game = OthelloGame(6)\n",
        "rp = RandomPlayer(game).play  # all players\n",
        "num_games = 20  # games\n",
        "n1 = NNet(game)  # nnet players\n",
        "args1 = dotdict({'numMCTSSims': 50, 'cpuct':1.0})\n",
        "## Uncomment below to check your agent!\n",
        "mcts1 = MonteCarloTreeSearchBasedPlayer(game, n1, args1)\n",
        "n1p = lambda x: np.argmax(mcts1.getActionProb(x, temp=0))\n",
        "arena = Arena.Arena(n1p, rp, game, display=OthelloGame.display)\n",
        "MCTS_result = arena.playGames(num_games, verbose=False)\n",
        "print(\"\\n Number of games won by player1 = {}, num of games won by player2 = {}, num of games won by nobody = {} out of {} games\" .format(MCTS_result[0], MCTS_result[1], MCTS_result[2], num_games))"
      ],
      "execution_count": 53,
      "outputs": [
        {
          "output_type": "stream",
          "text": [
            "Arena.playGames (1):   0%|          | 0/10 [00:00<?, ?it/s]/usr/local/lib/python3.7/dist-packages/ipykernel_launcher.py:86: DeprecationWarning: tostring() is deprecated. Use tobytes() instead.\n",
            "Arena.playGames (1): 100%|██████████| 10/10 [00:18<00:00,  1.86s/it]\n",
            "Arena.playGames (2): 100%|██████████| 10/10 [00:19<00:00,  1.90s/it]"
          ],
          "name": "stderr"
        },
        {
          "output_type": "stream",
          "text": [
            "\n",
            " Number of games won by player1 = 8, num of games won by player2 = 12, num of games won by nobody = 0 out of 20 games\n"
          ],
          "name": "stdout"
        },
        {
          "output_type": "stream",
          "text": [
            "\n"
          ],
          "name": "stderr"
        }
      ]
    },
    {
      "cell_type": "markdown",
      "metadata": {
        "id": "gzTDUhyGi9Gr"
      },
      "source": [
        "---\n",
        "# Section 10: Ethical aspects"
      ]
    },
    {
      "cell_type": "code",
      "metadata": {
        "cellView": "form",
        "id": "0zOlYh70eqa-",
        "outputId": "22c52939-e90a-486c-b292-45709b52fb8a",
        "colab": {
          "base_uri": "https://localhost:8080/",
          "height": 579,
          "referenced_widgets": [
            "993bf73b0f934e539f8dd4cf25c79c9f",
            "b6d9794bb4a84d0c8a77f9083bdaaaab",
            "6a956744f6a04953a22dca102c6cd1bc",
            "08e343b0bc5e41cfa862b249c8d5355f",
            "1d2857aee2214d55aa4d119748733be6",
            "252e5f6af0b147f69b035ad16185dd9f"
          ]
        }
      },
      "source": [
        "#@title Video 10: Unstoppable opponents\n",
        "# Insert the ID of the corresponding youtube video\n",
        "from ipywidgets import widgets\n",
        "\n",
        "out2 = widgets.Output()\n",
        "with out2:\n",
        "  from IPython.display import IFrame\n",
        "  class BiliVideo(IFrame):\n",
        "    def __init__(self, id, page=1, width=400, height=300, **kwargs):\n",
        "      self.id=id\n",
        "      src = \"https://player.bilibili.com/player.html?bvid={0}&page={1}\".format(id, page)\n",
        "      super(BiliVideo, self).__init__(src, width, height, **kwargs)\n",
        "\n",
        "  video = BiliVideo(id=f\"\", width=854, height=480, fs=1)\n",
        "  print(\"Video available at https://www.bilibili.com/video/{0}\".format(video.id))\n",
        "  display(video)\n",
        "\n",
        "out1 = widgets.Output()\n",
        "with out1:\n",
        "  from IPython.display import YouTubeVideo\n",
        "  video = YouTubeVideo(id=f\"4LKZwDP_Qac\", width=854, height=480, fs=1, rel=0)\n",
        "  print(\"Video available at https://youtube.com/watch?v=\" + video.id)\n",
        "  display(video)\n",
        "\n",
        "out = widgets.Tab([out1, out2])\n",
        "out.set_title(0, 'Youtube')\n",
        "out.set_title(1, 'Bilibili')\n",
        "\n",
        "display(out)"
      ],
      "execution_count": 54,
      "outputs": [
        {
          "output_type": "display_data",
          "data": {
            "application/vnd.jupyter.widget-view+json": {
              "model_id": "993bf73b0f934e539f8dd4cf25c79c9f",
              "version_minor": 0,
              "version_major": 2
            },
            "text/plain": [
              "Tab(children=(Output(), Output()), _titles={'0': 'Youtube', '1': 'Bilibili'})"
            ]
          },
          "metadata": {
            "tags": []
          }
        }
      ]
    },
    {
      "cell_type": "markdown",
      "metadata": {
        "id": "kOJJpodVjB4P"
      },
      "source": [
        "---\n",
        "# Summary"
      ]
    },
    {
      "cell_type": "code",
      "metadata": {
        "cellView": "form",
        "id": "B0Y8Wv1ajEVQ",
        "outputId": "2fc4a51e-601a-4fae-f44d-bacfd72c5bd1",
        "colab": {
          "base_uri": "https://localhost:8080/",
          "height": 579,
          "referenced_widgets": [
            "6d9b78634ac74cbb875d05f1946e03c1",
            "9047e8210f1047a7aff8f5307c3fd426",
            "821c529185084b3982ca7bc7072a6b6c",
            "70f89bd23c664be6a6867c23f682421c",
            "9fbca5bd52f84a1abc971c15ad3a23b1",
            "987b5de4a0084fa3a40926f23fb6d771"
          ]
        }
      },
      "source": [
        "#@title Video 11: Outro\n",
        "# Insert the ID of the corresponding youtube video\n",
        "from ipywidgets import widgets\n",
        "\n",
        "out2 = widgets.Output()\n",
        "with out2:\n",
        "  from IPython.display import IFrame\n",
        "  class BiliVideo(IFrame):\n",
        "    def __init__(self, id, page=1, width=400, height=300, **kwargs):\n",
        "      self.id=id\n",
        "      src = \"https://player.bilibili.com/player.html?bvid={0}&page={1}\".format(id, page)\n",
        "      super(BiliVideo, self).__init__(src, width, height, **kwargs)\n",
        "\n",
        "  video = BiliVideo(id=f\"\", width=854, height=480, fs=1)\n",
        "  print(\"Video available at https://www.bilibili.com/video/{0}\".format(video.id))\n",
        "  display(video)\n",
        "\n",
        "out1 = widgets.Output()\n",
        "with out1:\n",
        "  from IPython.display import YouTubeVideo\n",
        "  video = YouTubeVideo(id=f\"8JcHw-2cwtM\", width=854, height=480, fs=1, rel=0)\n",
        "  print(\"Video available at https://youtube.com/watch?v=\" + video.id)\n",
        "  display(video)\n",
        "\n",
        "out = widgets.Tab([out1, out2])\n",
        "out.set_title(0, 'Youtube')\n",
        "out.set_title(1, 'Bilibili')\n",
        "\n",
        "display(out)"
      ],
      "execution_count": 55,
      "outputs": [
        {
          "output_type": "display_data",
          "data": {
            "application/vnd.jupyter.widget-view+json": {
              "model_id": "6d9b78634ac74cbb875d05f1946e03c1",
              "version_minor": 0,
              "version_major": 2
            },
            "text/plain": [
              "Tab(children=(Output(), Output()), _titles={'0': 'Youtube', '1': 'Bilibili'})"
            ]
          },
          "metadata": {
            "tags": []
          }
        }
      ]
    }
  ]
}