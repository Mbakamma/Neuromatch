{
  "cells": [
    {
      "cell_type": "markdown",
      "metadata": {
        "id": "view-in-github",
        "colab_type": "text"
      },
      "source": [
        "<a href=\"https://colab.research.google.com/github/NeuromatchAcademy/course-content-dl/blob/fixes/tutorials/W2D2_ConvnetsAndDlThinking/W2D2_BonusLecture.ipynb\" target=\"_parent\"><img src=\"https://colab.research.google.com/assets/colab-badge.svg\" alt=\"Open In Colab\"/></a>"
      ]
    },
    {
      "cell_type": "markdown",
      "metadata": {
        "execution": {},
        "id": "HHgIfqXTgwh3"
      },
      "source": [
        "# Bonus Lecture: Kyunghyun Cho"
      ]
    },
    {
      "cell_type": "markdown",
      "metadata": {
        "execution": {},
        "id": "Kid4wG6Fgwh6"
      },
      "source": [
        "<p align='center'><img src='https://github.com/NeuromatchAcademy/widgets/blob/master/sponsors.png?raw=True'/></p>"
      ]
    },
    {
      "cell_type": "code",
      "execution_count": 1,
      "metadata": {
        "cellView": "form",
        "execution": {},
        "id": "SKTyivbGgwh7",
        "outputId": "4052fa35-5dc5-417e-99a1-bfb46d0fa1e7",
        "colab": {
          "base_uri": "https://localhost:8080/",
          "height": 581,
          "referenced_widgets": [
            "c8936fedb50641448dbc20b991450b21",
            "3bce9ae32be34f778fd673de6d5f31c2",
            "e3d5e1ec0a644d7c8b06e7ba5528fb20",
            "75283f4445eb4985a58ce6e9547004a6",
            "af47f9b48b3e4a8d9248aad2de4e67fc",
            "3201db9629b744b6af847017df0c9b83"
          ]
        }
      },
      "outputs": [
        {
          "output_type": "display_data",
          "data": {
            "text/plain": [
              "Tab(children=(Output(), Output()), _titles={'0': 'Youtube', '1': 'Bilibili'})"
            ],
            "application/vnd.jupyter.widget-view+json": {
              "version_major": 2,
              "version_minor": 0,
              "model_id": "c8936fedb50641448dbc20b991450b21"
            }
          },
          "metadata": {}
        }
      ],
      "source": [
        "# @title Video: Online hyperparmeter tuning, Kynghyun Cho\n",
        "\n",
        "from ipywidgets import widgets\n",
        "out2 = widgets.Output()\n",
        "with out2:\n",
        "  from IPython.display import IFrame\n",
        "  class BiliVideo(IFrame):\n",
        "    def __init__(self, id, page=1, width=400, height=300, **kwargs):\n",
        "      self.id=id\n",
        "      src = \"https://player.bilibili.com/player.html?bvid={0}&page={1}\".format(id, page)\n",
        "      super(BiliVideo, self).__init__(src, width, height, **kwargs)\n",
        "\n",
        "  video = BiliVideo(id=f\"BV1ug411E7oq\", width=854, height=480, fs=1)\n",
        "  print(\"Video available at https://www.bilibili.com/video/{0}\".format(video.id))\n",
        "  display(video)\n",
        "\n",
        "out1 = widgets.Output()\n",
        "with out1:\n",
        "  from IPython.display import YouTubeVideo\n",
        "  video = YouTubeVideo(id=f\"yBTBYefOAsc\", width=854, height=480, fs=1, rel=0)\n",
        "  print(\"Video available at https://youtube.com/watch?v=\" + video.id)\n",
        "  display(video)\n",
        "\n",
        "out = widgets.Tab([out1, out2])\n",
        "out.set_title(0, 'Youtube')\n",
        "out.set_title(1, 'Bilibili')\n",
        "\n",
        "display(out)"
      ]
    },
    {
      "cell_type": "code",
      "execution_count": 2,
      "metadata": {
        "cellView": "form",
        "execution": {},
        "id": "YhbAsNoagwh8",
        "outputId": "767c96a9-719d-4fee-b341-79b8715f2491",
        "colab": {
          "base_uri": "https://localhost:8080/",
          "height": 501
        }
      },
      "outputs": [
        {
          "output_type": "execute_result",
          "data": {
            "text/plain": [
              "<IPython.lib.display.IFrame at 0x7f11fc41df10>"
            ],
            "text/html": [
              "\n",
              "        <iframe\n",
              "            width=\"854\"\n",
              "            height=\"480\"\n",
              "            src=\"https://mfr.ca-1.osf.io/render?url=https://osf.io/download/r9pjc/?direct%26mode=render\"\n",
              "            frameborder=\"0\"\n",
              "            allowfullscreen\n",
              "        ></iframe>\n",
              "        "
            ]
          },
          "metadata": {},
          "execution_count": 2
        }
      ],
      "source": [
        "# @title Slides\n",
        "from IPython.display import IFrame\n",
        "IFrame(src=\"https://mfr.ca-1.osf.io/render?url=https://osf.io/download/r9pjc/?direct%26mode=render\", width=854, height=480)"
      ]
    },
    {
      "cell_type": "markdown",
      "metadata": {
        "execution": {},
        "id": "Q2BX85hcgwh9"
      },
      "source": [
        "These are the slides for the video in this bonus lecture. If you want to locally dowload the slides, click [here](https://osf.io/download/r9pjc/)."
      ]
    }
  ],
  "metadata": {
    "colab": {
      "collapsed_sections": [],
      "name": "W2D2_BonusLecture",
      "provenance": [],
      "toc_visible": true,
      "include_colab_link": true
    },
    "kernel": {
      "display_name": "Python 3",
      "language": "python",
      "name": "python3"
    },
    "kernelspec": {
      "display_name": "Python 3",
      "name": "python3"
    },
    "language_info": {
      "name": "python"
    },
    "widgets": {
      "application/vnd.jupyter.widget-state+json": {
        "c8936fedb50641448dbc20b991450b21": {
          "model_module": "@jupyter-widgets/controls",
          "model_name": "TabModel",
          "model_module_version": "1.5.0",
          "state": {
            "_dom_classes": [],
            "_model_module": "@jupyter-widgets/controls",
            "_model_module_version": "1.5.0",
            "_model_name": "TabModel",
            "_titles": {
              "0": "Youtube",
              "1": "Bilibili"
            },
            "_view_count": null,
            "_view_module": "@jupyter-widgets/controls",
            "_view_module_version": "1.5.0",
            "_view_name": "TabView",
            "box_style": "",
            "children": [
              "IPY_MODEL_3bce9ae32be34f778fd673de6d5f31c2",
              "IPY_MODEL_e3d5e1ec0a644d7c8b06e7ba5528fb20"
            ],
            "layout": "IPY_MODEL_75283f4445eb4985a58ce6e9547004a6",
            "selected_index": 0
          }
        },
        "3bce9ae32be34f778fd673de6d5f31c2": {
          "model_module": "@jupyter-widgets/output",
          "model_name": "OutputModel",
          "model_module_version": "1.0.0",
          "state": {
            "_dom_classes": [],
            "_model_module": "@jupyter-widgets/output",
            "_model_module_version": "1.0.0",
            "_model_name": "OutputModel",
            "_view_count": null,
            "_view_module": "@jupyter-widgets/output",
            "_view_module_version": "1.0.0",
            "_view_name": "OutputView",
            "layout": "IPY_MODEL_af47f9b48b3e4a8d9248aad2de4e67fc",
            "msg_id": "",
            "outputs": [
              {
                "output_type": "stream",
                "name": "stdout",
                "text": [
                  "Video available at https://youtube.com/watch?v=yBTBYefOAsc\n"
                ]
              },
              {
                "output_type": "display_data",
                "data": {
                  "text/plain": "<IPython.lib.display.YouTubeVideo at 0x7f11fb5c9750>",
                  "text/html": "\n        <iframe\n            width=\"854\"\n            height=\"480\"\n            src=\"https://www.youtube.com/embed/yBTBYefOAsc?fs=1&rel=0\"\n            frameborder=\"0\"\n            allowfullscreen\n        ></iframe>\n        ",
                  "image/jpeg": "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\n"
                },
                "metadata": {}
              }
            ]
          }
        },
        "e3d5e1ec0a644d7c8b06e7ba5528fb20": {
          "model_module": "@jupyter-widgets/output",
          "model_name": "OutputModel",
          "model_module_version": "1.0.0",
          "state": {
            "_dom_classes": [],
            "_model_module": "@jupyter-widgets/output",
            "_model_module_version": "1.0.0",
            "_model_name": "OutputModel",
            "_view_count": null,
            "_view_module": "@jupyter-widgets/output",
            "_view_module_version": "1.0.0",
            "_view_name": "OutputView",
            "layout": "IPY_MODEL_3201db9629b744b6af847017df0c9b83",
            "msg_id": "",
            "outputs": [
              {
                "output_type": "stream",
                "name": "stdout",
                "text": [
                  "Video available at https://www.bilibili.com/video/BV1ug411E7oq\n"
                ]
              },
              {
                "output_type": "display_data",
                "data": {
                  "text/plain": "<__main__.BiliVideo at 0x7f11fd62f5d0>",
                  "text/html": "\n        <iframe\n            width=\"854\"\n            height=\"480\"\n            src=\"https://player.bilibili.com/player.html?bvid=BV1ug411E7oq&page=1?fs=1\"\n            frameborder=\"0\"\n            allowfullscreen\n        ></iframe>\n        "
                },
                "metadata": {}
              }
            ]
          }
        },
        "75283f4445eb4985a58ce6e9547004a6": {
          "model_module": "@jupyter-widgets/base",
          "model_name": "LayoutModel",
          "model_module_version": "1.2.0",
          "state": {
            "_model_module": "@jupyter-widgets/base",
            "_model_module_version": "1.2.0",
            "_model_name": "LayoutModel",
            "_view_count": null,
            "_view_module": "@jupyter-widgets/base",
            "_view_module_version": "1.2.0",
            "_view_name": "LayoutView",
            "align_content": null,
            "align_items": null,
            "align_self": null,
            "border": null,
            "bottom": null,
            "display": null,
            "flex": null,
            "flex_flow": null,
            "grid_area": null,
            "grid_auto_columns": null,
            "grid_auto_flow": null,
            "grid_auto_rows": null,
            "grid_column": null,
            "grid_gap": null,
            "grid_row": null,
            "grid_template_areas": null,
            "grid_template_columns": null,
            "grid_template_rows": null,
            "height": null,
            "justify_content": null,
            "justify_items": null,
            "left": null,
            "margin": null,
            "max_height": null,
            "max_width": null,
            "min_height": null,
            "min_width": null,
            "object_fit": null,
            "object_position": null,
            "order": null,
            "overflow": null,
            "overflow_x": null,
            "overflow_y": null,
            "padding": null,
            "right": null,
            "top": null,
            "visibility": null,
            "width": null
          }
        },
        "af47f9b48b3e4a8d9248aad2de4e67fc": {
          "model_module": "@jupyter-widgets/base",
          "model_name": "LayoutModel",
          "model_module_version": "1.2.0",
          "state": {
            "_model_module": "@jupyter-widgets/base",
            "_model_module_version": "1.2.0",
            "_model_name": "LayoutModel",
            "_view_count": null,
            "_view_module": "@jupyter-widgets/base",
            "_view_module_version": "1.2.0",
            "_view_name": "LayoutView",
            "align_content": null,
            "align_items": null,
            "align_self": null,
            "border": null,
            "bottom": null,
            "display": null,
            "flex": null,
            "flex_flow": null,
            "grid_area": null,
            "grid_auto_columns": null,
            "grid_auto_flow": null,
            "grid_auto_rows": null,
            "grid_column": null,
            "grid_gap": null,
            "grid_row": null,
            "grid_template_areas": null,
            "grid_template_columns": null,
            "grid_template_rows": null,
            "height": null,
            "justify_content": null,
            "justify_items": null,
            "left": null,
            "margin": null,
            "max_height": null,
            "max_width": null,
            "min_height": null,
            "min_width": null,
            "object_fit": null,
            "object_position": null,
            "order": null,
            "overflow": null,
            "overflow_x": null,
            "overflow_y": null,
            "padding": null,
            "right": null,
            "top": null,
            "visibility": null,
            "width": null
          }
        },
        "3201db9629b744b6af847017df0c9b83": {
          "model_module": "@jupyter-widgets/base",
          "model_name": "LayoutModel",
          "model_module_version": "1.2.0",
          "state": {
            "_model_module": "@jupyter-widgets/base",
            "_model_module_version": "1.2.0",
            "_model_name": "LayoutModel",
            "_view_count": null,
            "_view_module": "@jupyter-widgets/base",
            "_view_module_version": "1.2.0",
            "_view_name": "LayoutView",
            "align_content": null,
            "align_items": null,
            "align_self": null,
            "border": null,
            "bottom": null,
            "display": null,
            "flex": null,
            "flex_flow": null,
            "grid_area": null,
            "grid_auto_columns": null,
            "grid_auto_flow": null,
            "grid_auto_rows": null,
            "grid_column": null,
            "grid_gap": null,
            "grid_row": null,
            "grid_template_areas": null,
            "grid_template_columns": null,
            "grid_template_rows": null,
            "height": null,
            "justify_content": null,
            "justify_items": null,
            "left": null,
            "margin": null,
            "max_height": null,
            "max_width": null,
            "min_height": null,
            "min_width": null,
            "object_fit": null,
            "object_position": null,
            "order": null,
            "overflow": null,
            "overflow_x": null,
            "overflow_y": null,
            "padding": null,
            "right": null,
            "top": null,
            "visibility": null,
            "width": null
          }
        }
      }
    }
  },
  "nbformat": 4,
  "nbformat_minor": 0
}