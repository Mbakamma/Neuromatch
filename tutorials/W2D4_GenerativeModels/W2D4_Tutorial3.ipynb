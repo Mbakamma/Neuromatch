{
  "cells": [
    {
      "cell_type": "markdown",
      "metadata": {
        "id": "view-in-github",
        "colab_type": "text"
      },
      "source": [
        "<a href=\"https://colab.research.google.com/github/NeuromatchAcademy/course-content-dl/blob/bonus_updates/tutorials/W2D4_GenerativeModels/W2D4_Tutorial3.ipynb\" target=\"_parent\"><img src=\"https://colab.research.google.com/assets/colab-badge.svg\" alt=\"Open In Colab\"/></a>"
      ]
    },
    {
      "cell_type": "markdown",
      "metadata": {
        "execution": {},
        "id": "S9tvAWaG2nLH"
      },
      "source": [
        "# Tutorial 3: Conditional GANs and Implications of GAN Technology\n",
        "\n",
        "**Week 2, Day 4: Generative Models**\n",
        "\n",
        "**By Neuromatch Academy**\n",
        "\n",
        "__Content creators:__ Seungwook Han, Kai Xu, Akash Srivastava\n",
        "\n",
        "__Content reviewers:__ Polina Turishcheva, Melvin Selim Atay, Hadi Vafaei, Deepak Raya, Kelson Shilling-Scrivo\n",
        "\n",
        "__Content editors:__ Spiros Chavlis\n",
        "\n",
        "__Production editors:__ Arush Tagade, Gagana B, Spiros Chavlis"
      ]
    },
    {
      "cell_type": "markdown",
      "metadata": {
        "execution": {},
        "id": "4NQQASdW2nLL"
      },
      "source": [
        "**Our 2022 Sponsors, including Presenting Sponsor Facebook Reality Labs**\n",
        "\n",
        "<p align='center'><img src='https://github.com/NeuromatchAcademy/widgets/blob/master/sponsors.png?raw=True'/></p>"
      ]
    },
    {
      "cell_type": "markdown",
      "metadata": {
        "execution": {},
        "id": "Y1kfSEXj2nLM"
      },
      "source": [
        "---\n",
        "\n",
        "## Tutorial Objectives\n",
        "\n",
        "The goal of this tutorial is to understand conditional GANs. Then you will have the opportunity to experience first-hand how effective GANs are at modeling the data distribution and to question what the consequences of this technology may be.\n",
        "\n",
        "By the end of this tutorial you will be able to:\n",
        "- Understand the differences in conditional GANs.\n",
        "- Generate high-dimensional natural images from a BigGAN.\n",
        "- Understand the efficacy of GANs in modeling the data distribution (e.g., faces).\n",
        "- Understand the energy inefficiency / environmental impact of training these large generative models.\n",
        "- Understand the implications of this technology (ethics, environment, *etc*.).\n"
      ]
    },
    {
      "cell_type": "code",
      "execution_count": 1,
      "metadata": {
        "cellView": "form",
        "execution": {},
        "id": "ZmnVNZOc2nLO",
        "outputId": "2b3467c5-217e-4343-9570-c341fca09749",
        "colab": {
          "base_uri": "https://localhost:8080/",
          "height": 501
        }
      },
      "outputs": [
        {
          "output_type": "execute_result",
          "data": {
            "text/plain": [
              "<IPython.lib.display.IFrame at 0x7f2fbbe14150>"
            ],
            "text/html": [
              "\n",
              "        <iframe\n",
              "            width=\"854\"\n",
              "            height=\"480\"\n",
              "            src=\"https://mfr.ca-1.osf.io/render?url=https://osf.io/ps28k/?direct%26mode=render%26action=download%26mode=render\"\n",
              "            frameborder=\"0\"\n",
              "            allowfullscreen\n",
              "        ></iframe>\n",
              "        "
            ]
          },
          "metadata": {},
          "execution_count": 1
        }
      ],
      "source": [
        "# @title Tutorial slides\n",
        "\n",
        "from IPython.display import IFrame\n",
        "IFrame(src=f\"https://mfr.ca-1.osf.io/render?url=https://osf.io/ps28k/?direct%26mode=render%26action=download%26mode=render\", width=854, height=480)"
      ]
    },
    {
      "cell_type": "markdown",
      "metadata": {
        "execution": {},
        "id": "8YkyNsPA2nLX"
      },
      "source": [
        "These are the slides for the videos in this tutorial. If you want to locally download the slides, click [here](https://osf.io/ps28k/download)."
      ]
    },
    {
      "cell_type": "markdown",
      "metadata": {
        "execution": {},
        "id": "62Ma-nSn2nLY"
      },
      "source": [
        "---\n",
        "# Setup"
      ]
    },
    {
      "cell_type": "code",
      "execution_count": 2,
      "metadata": {
        "cellView": "form",
        "execution": {},
        "id": "t1FOajqD2nLZ",
        "outputId": "ffd560ab-8315-4324-a2d9-f76959a10946",
        "colab": {
          "base_uri": "https://localhost:8080/"
        }
      },
      "outputs": [
        {
          "output_type": "stream",
          "name": "stdout",
          "text": [
            "\u001b[?25l\r\u001b[K     |██▌                             | 10 kB 32.1 MB/s eta 0:00:01\r\u001b[K     |█████                           | 20 kB 36.2 MB/s eta 0:00:01\r\u001b[K     |███████▍                        | 30 kB 23.4 MB/s eta 0:00:01\r\u001b[K     |██████████                      | 40 kB 13.6 MB/s eta 0:00:01\r\u001b[K     |████████████▍                   | 51 kB 5.2 MB/s eta 0:00:01\r\u001b[K     |██████████████▉                 | 61 kB 6.2 MB/s eta 0:00:01\r\u001b[K     |█████████████████▎              | 71 kB 6.0 MB/s eta 0:00:01\r\u001b[K     |███████████████████▉            | 81 kB 6.0 MB/s eta 0:00:01\r\u001b[K     |██████████████████████▎         | 92 kB 6.7 MB/s eta 0:00:01\r\u001b[K     |████████████████████████▊       | 102 kB 7.3 MB/s eta 0:00:01\r\u001b[K     |███████████████████████████▏    | 112 kB 7.3 MB/s eta 0:00:01\r\u001b[K     |█████████████████████████████▊  | 122 kB 7.3 MB/s eta 0:00:01\r\u001b[K     |████████████████████████████████| 132 kB 7.3 MB/s \n",
            "\u001b[K     |████████████████████████████████| 79 kB 8.3 MB/s \n",
            "\u001b[K     |████████████████████████████████| 8.9 MB 41.9 MB/s \n",
            "\u001b[K     |████████████████████████████████| 138 kB 76.5 MB/s \n",
            "\u001b[K     |████████████████████████████████| 127 kB 60.3 MB/s \n",
            "\u001b[31mERROR: pip's dependency resolver does not currently take into account all the packages that are installed. This behaviour is the source of the following dependency conflicts.\n",
            "datascience 0.10.6 requires folium==0.2.1, but you have folium 0.8.3 which is incompatible.\u001b[0m\n",
            "\u001b[?25h  Building wheel for libsixel-python (setup.py) ... \u001b[?25l\u001b[?25hdone\n",
            "  Building wheel for evaltools (setup.py) ... \u001b[?25l\u001b[?25hdone\n"
          ]
        }
      ],
      "source": [
        "# @title Install dependencies\n",
        "# @markdown Install *Huggingface BigGAN* library\n",
        "!pip install pytorch-pretrained-biggan --quiet\n",
        "!pip install Pillow libsixel-python --quiet\n",
        "!pip install nltk --quiet\n",
        "\n",
        "!pip install git+https://github.com/NeuromatchAcademy/evaltools --quiet\n",
        "from evaltools.airtable import AirtableForm\n",
        "\n",
        "# Generate airtable form\n",
        "atform = AirtableForm('appn7VdPRseSoMXEG','W2D5_T3','https://portal.neuromatchacademy.org/api/redirect/to/438d4b27-5872-499a-8f72-6a79ff2a2aa6')"
      ]
    },
    {
      "cell_type": "code",
      "execution_count": 3,
      "metadata": {
        "execution": {},
        "id": "5nZuvsrT2nLb"
      },
      "outputs": [],
      "source": [
        "# Imports\n",
        "import torch\n",
        "import torchvision\n",
        "\n",
        "import numpy as np\n",
        "import matplotlib.pyplot as plt\n",
        "\n",
        "from pytorch_pretrained_biggan import BigGAN\n",
        "from pytorch_pretrained_biggan import one_hot_from_names\n",
        "from pytorch_pretrained_biggan import truncated_noise_sample"
      ]
    },
    {
      "cell_type": "code",
      "execution_count": 4,
      "metadata": {
        "cellView": "form",
        "execution": {},
        "id": "zgpU2aKy2nLd"
      },
      "outputs": [],
      "source": [
        "# @title Figure settings\n",
        "import ipywidgets as widgets       # Interactive display\n",
        "%config InlineBackend.figure_format = 'retina'\n",
        "plt.style.use(\"https://raw.githubusercontent.com/NeuromatchAcademy/content-creation/main/nma.mplstyle\")"
      ]
    },
    {
      "cell_type": "code",
      "execution_count": 5,
      "metadata": {
        "cellView": "form",
        "execution": {},
        "id": "YoIWN9B52nLe"
      },
      "outputs": [],
      "source": [
        "# @title Set random seed\n",
        "\n",
        "# @markdown Executing `set_seed(seed=seed)` you are setting the seed\n",
        "\n",
        "# for DL its critical to set the random seed so that students can have a\n",
        "# baseline to compare their results to expected results.\n",
        "# Read more here: https://pytorch.org/docs/stable/notes/randomness.html\n",
        "\n",
        "# Call `set_seed` function in the exercises to ensure reproducibility.\n",
        "import random\n",
        "import torch\n",
        "\n",
        "def set_seed(seed=None, seed_torch=True):\n",
        "  \"\"\"\n",
        "  Function that controls randomness. NumPy and random modules must be imported.\n",
        "\n",
        "  Args:\n",
        "    seed : Integer\n",
        "      A non-negative integer that defines the random state. Default is `None`.\n",
        "    seed_torch : Boolean\n",
        "      If `True` sets the random seed for pytorch tensors, so pytorch module\n",
        "      must be imported. Default is `True`.\n",
        "\n",
        "  Returns:\n",
        "    Nothing.\n",
        "  \"\"\"\n",
        "  if seed is None:\n",
        "    seed = np.random.choice(2 ** 32)\n",
        "  random.seed(seed)\n",
        "  np.random.seed(seed)\n",
        "  if seed_torch:\n",
        "    torch.manual_seed(seed)\n",
        "    torch.cuda.manual_seed_all(seed)\n",
        "    torch.cuda.manual_seed(seed)\n",
        "    torch.backends.cudnn.benchmark = False\n",
        "    torch.backends.cudnn.deterministic = True\n",
        "\n",
        "  print(f'Random seed {seed} has been set.')\n",
        "\n",
        "\n",
        "# In case that `DataLoader` is used\n",
        "def seed_worker(worker_id):\n",
        "  \"\"\"\n",
        "  DataLoader will reseed workers following randomness in\n",
        "  multi-process data loading algorithm.\n",
        "\n",
        "  Args:\n",
        "    worker_id: integer\n",
        "      ID of subprocess to seed. 0 means that\n",
        "      the data will be loaded in the main process\n",
        "      Refer: https://pytorch.org/docs/stable/data.html#data-loading-randomness for more details\n",
        "\n",
        "  Returns:\n",
        "    Nothing\n",
        "  \"\"\"\n",
        "  worker_seed = torch.initial_seed() % 2**32\n",
        "  np.random.seed(worker_seed)\n",
        "  random.seed(worker_seed)"
      ]
    },
    {
      "cell_type": "code",
      "execution_count": 6,
      "metadata": {
        "cellView": "form",
        "execution": {},
        "id": "hbRLT_842nLg"
      },
      "outputs": [],
      "source": [
        "# @title Set device (GPU or CPU). Execute `set_device()`\n",
        "# especially if torch modules used.\n",
        "\n",
        "# Inform the user if the notebook uses GPU or CPU.\n",
        "\n",
        "def set_device():\n",
        "  \"\"\"\n",
        "  Set the device. CUDA if available, CPU otherwise\n",
        "\n",
        "  Args:\n",
        "    None\n",
        "\n",
        "  Returns:\n",
        "    Nothing\n",
        "  \"\"\"\n",
        "  device = \"cuda\" if torch.cuda.is_available() else \"cpu\"\n",
        "  if device != \"cuda\":\n",
        "    print(\"WARNING: For this notebook to perform best, \"\n",
        "        \"if possible, in the menu under `Runtime` -> \"\n",
        "        \"`Change runtime type.`  select `GPU` \")\n",
        "  else:\n",
        "    print(\"GPU is enabled in this notebook.\")\n",
        "\n",
        "  return device"
      ]
    },
    {
      "cell_type": "code",
      "execution_count": 7,
      "metadata": {
        "execution": {},
        "id": "rzcmCfLr2nLh",
        "outputId": "89d11114-befd-49de-aedf-4f82d77230cd",
        "colab": {
          "base_uri": "https://localhost:8080/"
        }
      },
      "outputs": [
        {
          "output_type": "stream",
          "name": "stdout",
          "text": [
            "Random seed 2021 has been set.\n",
            "GPU is enabled in this notebook.\n"
          ]
        }
      ],
      "source": [
        "SEED = 2021\n",
        "set_seed(seed=SEED)\n",
        "DEVICE = set_device()"
      ]
    },
    {
      "cell_type": "code",
      "execution_count": 8,
      "metadata": {
        "cellView": "form",
        "execution": {},
        "id": "oDXurpRS2nLh"
      },
      "outputs": [],
      "source": [
        "# @title Download `wordnet` dataset\n",
        "\n",
        "# import nltk\n",
        "# nltk.download('wordnet')\n",
        "\n",
        "import os, requests, zipfile\n",
        "\n",
        "os.environ['NLTK_DATA'] = 'nltk_data/'\n",
        "\n",
        "fnames = ['wordnet.zip', 'omw-1.4.zip']\n",
        "urls = ['https://osf.io/ekjxy/download', 'https://osf.io/kuwep/download']\n",
        "\n",
        "for fname, url in zip(fnames, urls):\n",
        "  r = requests.get(url, allow_redirects=True)\n",
        "\n",
        "  with open(fname, 'wb') as fd:\n",
        "    fd.write(r.content)\n",
        "\n",
        "  with zipfile.ZipFile(fname, 'r') as zip_ref:\n",
        "    zip_ref.extractall('nltk_data/corpora')"
      ]
    },
    {
      "cell_type": "markdown",
      "metadata": {
        "execution": {},
        "id": "QhCeatbT2nLj"
      },
      "source": [
        "---\n",
        "# Section 1: Generating with a conditional GAN (BigGAN)"
      ]
    },
    {
      "cell_type": "code",
      "execution_count": 9,
      "metadata": {
        "cellView": "form",
        "execution": {},
        "id": "MbRiPRq72nLj",
        "outputId": "4716759e-c34c-4601-bb96-24d12cd0e499",
        "colab": {
          "base_uri": "https://localhost:8080/",
          "height": 581,
          "referenced_widgets": [
            "be9ed3a5bd9545c3877d43dc7e091dd4",
            "3b0e6687bcd0407f83b5fb38b63b8854",
            "2a70c048801041c5a6601f2b956f8ace",
            "6d4b01b306734dbb80513b405813de33",
            "4cb2b7cd285f4ca3a5ab06e5c2e1bbd8",
            "193c8a63f704421db367a5b32dc8cd47"
          ]
        }
      },
      "outputs": [
        {
          "output_type": "display_data",
          "data": {
            "text/plain": [
              "Tab(children=(Output(), Output()), _titles={'0': 'Youtube', '1': 'Bilibili'})"
            ],
            "application/vnd.jupyter.widget-view+json": {
              "version_major": 2,
              "version_minor": 0,
              "model_id": "be9ed3a5bd9545c3877d43dc7e091dd4"
            }
          },
          "metadata": {}
        }
      ],
      "source": [
        "# @title Video 1: Conditional Generative Models\n",
        "from ipywidgets import widgets\n",
        "\n",
        "out2 = widgets.Output()\n",
        "with out2:\n",
        "  from IPython.display import IFrame\n",
        "  class BiliVideo(IFrame):\n",
        "    def __init__(self, id, page=1, width=400, height=300, **kwargs):\n",
        "      self.id=id\n",
        "      src = \"https://player.bilibili.com/player.html?bvid={0}&page={1}\".format(id, page)\n",
        "      super(BiliVideo, self).__init__(src, width, height, **kwargs)\n",
        "\n",
        "  video = BiliVideo(id=f\"BV1f54y1E79D\", width=854, height=480, fs=1)\n",
        "  print(\"Video available at https://www.bilibili.com/video/{0}\".format(video.id))\n",
        "  display(video)\n",
        "\n",
        "out1 = widgets.Output()\n",
        "with out1:\n",
        "  from IPython.display import YouTubeVideo\n",
        "  video = YouTubeVideo(id=f\"lV6zH2xDZck\", width=854, height=480, fs=1, rel=0)\n",
        "  print(\"Video available at https://youtube.com/watch?v=\" + video.id)\n",
        "  display(video)\n",
        "\n",
        "out = widgets.Tab([out1, out2])\n",
        "out.set_title(0, 'Youtube')\n",
        "out.set_title(1, 'Bilibili')\n",
        "\n",
        "# Add event to airtable\n",
        "atform.add_event('Video 1: Conditional Generative Models')\n",
        "\n",
        "display(out)"
      ]
    },
    {
      "cell_type": "markdown",
      "metadata": {
        "execution": {},
        "id": "Sa0Z5_wg2nLk"
      },
      "source": [
        "In this section, we will load a pre-trained conditional GAN, BigGAN, which is the state-of-the-art model in conditional high-dimensional natural image generation, and generate samples from it. Since it is a class conditional model, we will be able to use the class label to generate images from the different classes of objects.\n",
        "\n",
        "Read here for more details on BigGAN: [Brock et al., 2019](https://arxiv.org/abs/1809.11096)."
      ]
    },
    {
      "cell_type": "code",
      "execution_count": 10,
      "metadata": {
        "execution": {},
        "id": "CmwCoPTq2nLl"
      },
      "outputs": [],
      "source": [
        "def load_biggan(model_res):\n",
        "  \"\"\"\n",
        "  Load respective BigGAN model for the specified resolution (biggan-deep-128, biggan-deep-256, biggan-deep-512)\n",
        "  \"\"\"\n",
        "  return BigGAN.from_pretrained('biggan-deep-{}'.format(model_res))\n",
        "\n",
        "\n",
        "def create_class_noise_vectors(class_str, trunc, num_samples):\n",
        "  \"\"\"\n",
        "  Create class and noise vectors for sampling from BigGAN\n",
        "\n",
        "  Args:\n",
        "    class_str: string\n",
        "      Class\n",
        "    trunc: float\n",
        "      Truncation factor\n",
        "    num_samples: int\n",
        "      Number of samples\n",
        "\n",
        "  Returns:\n",
        "    class_vector: np.ndarray\n",
        "      Class vector sampled from BigGan\n",
        "    noise_vector: np.ndarray\n",
        "      Noise vector\n",
        "  \"\"\"\n",
        "  class_vector = one_hot_from_names([class_str]*num_samples, batch_size=num_samples)\n",
        "  noise_vector = truncated_noise_sample(truncation=trunc, batch_size=num_samples)\n",
        "\n",
        "  return class_vector, noise_vector\n",
        "\n",
        "def generate_biggan_samples(model, class_vector, noise_vector, device,\n",
        "                            truncation=0.4):\n",
        "  \"\"\"\n",
        "  Generate samples from BigGAN\n",
        "\n",
        "  Args:\n",
        "    model: nn.module\n",
        "      Model\n",
        "    device: string\n",
        "      GPU if available. CPU otherwise.\n",
        "    truncation: float\n",
        "      Truncation factor\n",
        "    class_vector: np.ndarray\n",
        "      Class vector sampled from BigGan\n",
        "    noise_vector: np.ndarray\n",
        "      Noise vector\n",
        "\n",
        "  Returns:\n",
        "    output_grid: torch.tensor\n",
        "      Make grid and display generated samples\n",
        "  \"\"\"\n",
        "  # Convert to tensor\n",
        "  noise_vector = torch.from_numpy(noise_vector)\n",
        "  class_vector = torch.from_numpy(class_vector)\n",
        "\n",
        "  # Move to GPU\n",
        "  noise_vector = noise_vector.to(device)\n",
        "  class_vector = class_vector.to(device)\n",
        "  model.to(device)\n",
        "\n",
        "  # Generate an image\n",
        "  with torch.no_grad():\n",
        "      output = model(noise_vector, class_vector, truncation)\n",
        "\n",
        "  # Back to CPU\n",
        "  output = output.to('cpu')\n",
        "\n",
        "  # The output layer of BigGAN has a tanh layer, resulting the range of [-1, 1] for the output image\n",
        "  # Therefore, we normalize the images properly to [0, 1] range.\n",
        "  # Clipping is only in case of numerical instability problems\n",
        "\n",
        "  output = torch.clip(((output.detach().clone() + 1) / 2.0), 0, 1)\n",
        "  output = output\n",
        "\n",
        "  # Make grid and show generated samples\n",
        "  output_grid = torchvision.utils.make_grid(output,\n",
        "                                            nrow=min(4, output.shape[0]),\n",
        "                                            padding=5)\n",
        "  plt.imshow(output_grid.permute(1, 2, 0))\n",
        "\n",
        "  return output_grid\n",
        "\n",
        "\n",
        "def generate(b):\n",
        "  \"\"\"\n",
        "  Generation function\n",
        "\n",
        "  Args:\n",
        "    None\n",
        "\n",
        "  Returns:\n",
        "    Nothing\n",
        "  \"\"\"\n",
        "  # Create BigGAN model\n",
        "  model = load_biggan(MODEL_RESOLUTION)\n",
        "\n",
        "  # Use specified parameters (resolution, class, number of samples, etc) to generate from BigGAN\n",
        "  class_vector, noise_vector = create_class_noise_vectors(CLASS, TRUNCATION,\n",
        "                                                          NUM_SAMPLES)\n",
        "  samples_grid = generate_biggan_samples(model, class_vector, noise_vector,\n",
        "                                         DEVICE, TRUNCATION)\n",
        "  torchvision.utils.save_image(samples_grid, 'samples.png')\n",
        "  ### If CUDA out of memory issue, lower NUM_SAMPLES (number of samples)"
      ]
    },
    {
      "cell_type": "markdown",
      "metadata": {
        "execution": {},
        "id": "m8KB6Df72nLm"
      },
      "source": [
        "## Section 1.1:  Define configurations\n",
        "\n",
        "We will now define the configurations (resolution of model, number of samples, class to sample from, truncation level) under which we will sample from BigGAN. \n",
        "\n",
        "***Question***: What is the truncation trick employed by BigGAN? How does sample variety and fidelity change by varying the truncation level? (Hint: play with the truncation slider and try sampling at different levels) "
      ]
    },
    {
      "cell_type": "code",
      "execution_count": 11,
      "metadata": {
        "cellView": "form",
        "execution": {},
        "id": "sPIq6qoC2nLm"
      },
      "outputs": [],
      "source": [
        "# @title { run: \"auto\" }\n",
        "\n",
        "### RUN THIS BLOCK EVERY TIME YOU CHANGE THE PARAMETERS FOR GENERATION\n",
        "\n",
        "# Resolution at which to generate\n",
        "MODEL_RESOLUTION = \"128\" # @param [128, 256, 512]\n",
        "\n",
        "# Number of images to generate\n",
        "NUM_SAMPLES = 4 # @param {type:\"slider\", min:4, max:12, step:4}\n",
        "\n",
        "# Class of images to generate\n",
        "CLASS = 'German shepherd'  # @param ['tench', 'magpie', 'jellyfish', 'German shepherd', 'bee', 'acoustic guitar', 'coffee mug', 'minibus', 'monitor']\n",
        "\n",
        "# Truncation level of the normal distribution we sample z from\n",
        "TRUNCATION = 0.4  # @param {type:\"slider\", min:0.1, max:1, step:0.1}"
      ]
    },
    {
      "cell_type": "code",
      "execution_count": 12,
      "metadata": {
        "cellView": "form",
        "execution": {},
        "id": "f-GEPUVM2nLn",
        "outputId": "cd860429-65ca-4346-f5de-e79948c63f47",
        "colab": {
          "base_uri": "https://localhost:8080/",
          "height": 101,
          "referenced_widgets": [
            "4a32b46a60104cbbb7e9d4fae82d4a6b",
            "e88ed1a1cf294db0a42f1184373e4d78",
            "a6ebcdd37047450fbcb445e6c63f230e",
            "0959030c3f064a0594ee1eba29c2bb3d",
            "b0f71508590b4b42a980c5a69504a48d"
          ]
        }
      },
      "outputs": [
        {
          "output_type": "display_data",
          "data": {
            "text/plain": [
              "Button(button_style='danger', description='GENERATE!', layout=Layout(height='80px', width='30%'), style=Button…"
            ],
            "application/vnd.jupyter.widget-view+json": {
              "version_major": 2,
              "version_minor": 0,
              "model_id": "4a32b46a60104cbbb7e9d4fae82d4a6b"
            }
          },
          "metadata": {}
        },
        {
          "output_type": "display_data",
          "data": {
            "text/plain": [
              "Output()"
            ],
            "application/vnd.jupyter.widget-view+json": {
              "version_major": 2,
              "version_minor": 0,
              "model_id": "0959030c3f064a0594ee1eba29c2bb3d"
            }
          },
          "metadata": {}
        }
      ],
      "source": [
        "# @title Generate\n",
        "# Create generate button, given parameters specified above\n",
        "button = widgets.Button(description=\"GENERATE!\",\n",
        "                        layout=widgets.Layout(width='30%', height='80px'),\n",
        "                        button_style='danger')\n",
        "output = widgets.Output()\n",
        "display(button, output)\n",
        "button.on_click(generate)"
      ]
    },
    {
      "cell_type": "markdown",
      "metadata": {
        "execution": {},
        "id": "4nG1FRf-2nLo"
      },
      "source": [
        "## Think! 1: BigGANs\n",
        "\n",
        "1. How does BigGAN differ from previous state-of-the-art generative models for high-dimensional natural images? In other words, how does BigGAN solve high-dimensional image generation? (Hint: look into model architecture and training configurations) (BigGAN paper: [Brock et al., 2018](https://arxiv.org/abs/1809.11096))\n",
        "2. Continuing from Question 1, what are the drawbacks of introducing such techniques into training large models for high-dimensional, diverse datasets?\n",
        "3. Play with other pre-trained generative models like StyleGAN here -- where code for sampling and interpolation in the latent space is available [here](https://github.com/NVlabs/stylegan)"
      ]
    },
    {
      "cell_type": "code",
      "execution_count": 13,
      "metadata": {
        "cellView": "form",
        "execution": {},
        "id": "uNOjtRRA2nLo",
        "outputId": "1dedb5ef-cff0-4bbf-ae79-76cbf28277d0",
        "colab": {
          "base_uri": "https://localhost:8080/",
          "height": 111,
          "referenced_widgets": [
            "19b7560061884e29a12579ac6af4654e",
            "98ac710b31724222adb3cac6d4ddcc44",
            "cf7f986cbc394752af1556e732fd1f12",
            "4c6553e066a348d9a4c38af4edebaf70",
            "6f96a6fc162746bead349f19705f4e9c",
            "e48f5a951b5d42c89b285b3d7e741bf6"
          ]
        }
      },
      "outputs": [
        {
          "output_type": "display_data",
          "data": {
            "text/plain": [
              "Textarea(value='Type answer here and Push submit', placeholder='Type something')"
            ],
            "application/vnd.jupyter.widget-view+json": {
              "version_major": 2,
              "version_minor": 0,
              "model_id": "19b7560061884e29a12579ac6af4654e"
            }
          },
          "metadata": {}
        },
        {
          "output_type": "display_data",
          "data": {
            "text/plain": [
              "Button(description='Submit!', style=ButtonStyle())"
            ],
            "application/vnd.jupyter.widget-view+json": {
              "version_major": 2,
              "version_minor": 0,
              "model_id": "4c6553e066a348d9a4c38af4edebaf70"
            }
          },
          "metadata": {}
        }
      ],
      "source": [
        "# @title Student Response\n",
        "from ipywidgets import widgets\n",
        "\n",
        "\n",
        "text=widgets.Textarea(\n",
        "   value='Type answer here and Push submit',\n",
        "   placeholder='Type something',\n",
        "   description='',\n",
        "   disabled=False\n",
        ")\n",
        "\n",
        "button = widgets.Button(description=\"Submit!\")\n",
        "\n",
        "display(text,button)\n",
        "\n",
        "def on_button_clicked(b):\n",
        "   atform.add_answer('q1' , text.value)\n",
        "   print(\"Submission successful!\")\n",
        "\n",
        "\n",
        "button.on_click(on_button_clicked)"
      ]
    },
    {
      "cell_type": "code",
      "execution_count": 14,
      "metadata": {
        "execution": {},
        "id": "Oht_xGpl2nLo"
      },
      "outputs": [],
      "source": [
        "# to_remove explanation\n",
        "\n",
        "\"\"\"\n",
        "1\n",
        "  - Very large mini-batch sizes (>= 2048) -- along with synchronous batch\n",
        "    normalization across all GPUs / mini-batches to address the high diversity\n",
        "    of the ImageNet dataset\n",
        "  - Increased number of parameters (at least double of previous state-of-the-art\n",
        "    models like SAGAN) (from increased widths of the layers)\n",
        "  - Spectral normalization, orthogonal regularization penalty, and dropouts\n",
        "    in final layer of D to stabilize the highly unstable training of BigGAN.\n",
        "    Even with these stabilization techniques, BigGAN still suffers from chronic\n",
        "    instability (as described in the paper) and requires multiple restarts.\n",
        "    The model almost always collapses at some point in the training, but the key\n",
        "     is to stop the training before it does.\n",
        "\n",
        "2. Huge compute requirement to allow for large mini-batch sizes and therefore\n",
        "   high energy consumption\n",
        "\n",
        "\"\"\";"
      ]
    },
    {
      "cell_type": "markdown",
      "metadata": {
        "execution": {},
        "id": "RD4TFnKR2nLo"
      },
      "source": [
        "---\n",
        "# Section 2: Ethical issues"
      ]
    },
    {
      "cell_type": "code",
      "execution_count": 15,
      "metadata": {
        "cellView": "form",
        "execution": {},
        "id": "rMQ7ppGF2nLq",
        "outputId": "75665c37-b78c-4d1d-c686-48108a33fc42",
        "colab": {
          "base_uri": "https://localhost:8080/",
          "height": 581,
          "referenced_widgets": [
            "be53f63bde9a440daaf2128e6dad9669",
            "6a86f226ecc442cfaeae8f083f8e0803",
            "46d89c091e9442adbe7db94468284fe8",
            "3c4c85b5e6ba4378bb44f6d8520fdfa6",
            "0c96c154290f41dda4f50fb12be2250e",
            "c9e56da51f3143d5a34dd271ae579760"
          ]
        }
      },
      "outputs": [
        {
          "output_type": "display_data",
          "data": {
            "text/plain": [
              "Tab(children=(Output(), Output()), _titles={'0': 'Youtube', '1': 'Bilibili'})"
            ],
            "application/vnd.jupyter.widget-view+json": {
              "version_major": 2,
              "version_minor": 0,
              "model_id": "be53f63bde9a440daaf2128e6dad9669"
            }
          },
          "metadata": {}
        }
      ],
      "source": [
        "# @title Video 2: Ethical Issues\n",
        "from ipywidgets import widgets\n",
        "\n",
        "out2 = widgets.Output()\n",
        "with out2:\n",
        "  from IPython.display import IFrame\n",
        "  class BiliVideo(IFrame):\n",
        "    def __init__(self, id, page=1, width=400, height=300, **kwargs):\n",
        "      self.id=id\n",
        "      src = \"https://player.bilibili.com/player.html?bvid={0}&page={1}\".format(id, page)\n",
        "      super(BiliVideo, self).__init__(src, width, height, **kwargs)\n",
        "\n",
        "  video = BiliVideo(id=f\"BV11L411H7pr\", width=854, height=480, fs=1)\n",
        "  print(\"Video available at https://www.bilibili.com/video/{0}\".format(video.id))\n",
        "  display(video)\n",
        "\n",
        "out1 = widgets.Output()\n",
        "with out1:\n",
        "  from IPython.display import YouTubeVideo\n",
        "  video = YouTubeVideo(id=f\"ZtWFeUZgfVk\", width=854, height=480, fs=1, rel=0)\n",
        "  print(\"Video available at https://youtube.com/watch?v=\" + video.id)\n",
        "  display(video)\n",
        "\n",
        "out = widgets.Tab([out1, out2])\n",
        "out.set_title(0, 'Youtube')\n",
        "out.set_title(1, 'Bilibili')\n",
        "\n",
        "# Add event to airtable\n",
        "atform.add_event('Video 2: Ethical Issues')\n",
        "\n",
        "display(out)"
      ]
    },
    {
      "cell_type": "markdown",
      "metadata": {
        "execution": {},
        "id": "wPSJBOEm2nLq"
      },
      "source": [
        "## Section 2.1: Faces Quiz \n",
        "\n",
        "Now is your turn to test your abilities on recognizing a real vs. a fake image!"
      ]
    },
    {
      "cell_type": "code",
      "execution_count": 16,
      "metadata": {
        "cellView": "form",
        "execution": {},
        "id": "_3lxFseB2nLq",
        "outputId": "f3b11244-c658-4a03-c515-e419a1274a7a",
        "colab": {
          "base_uri": "https://localhost:8080/",
          "height": 621
        }
      },
      "outputs": [
        {
          "output_type": "execute_result",
          "data": {
            "text/plain": [
              "<IPython.lib.display.IFrame at 0x7f2eebd68d50>"
            ],
            "text/html": [
              "\n",
              "        <iframe\n",
              "            width=\"900\"\n",
              "            height=\"600\"\n",
              "            src=\"https://docs.google.com/forms/d/e/1FAIpQLSeGjn2S2bn6Q1qWjVgDS5LG7G1GsQQh2Q0T9dEUO1z5_W0yYg/viewform?usp=sf_link\"\n",
              "            frameborder=\"0\"\n",
              "            allowfullscreen\n",
              "        ></iframe>\n",
              "        "
            ]
          },
          "metadata": {},
          "execution_count": 16
        }
      ],
      "source": [
        "# @markdown Real or Fake?\n",
        "from IPython.display import IFrame\n",
        "IFrame(src='https://docs.google.com/forms/d/e/1FAIpQLSeGjn2S2bn6Q1qWjVgDS5LG7G1GsQQh2Q0T9dEUO1z5_W0yYg/viewform?usp=sf_link', width=900, height=600)"
      ]
    },
    {
      "cell_type": "markdown",
      "metadata": {
        "execution": {},
        "id": "jtkAIa6n2nLs"
      },
      "source": [
        "## Section 2.2: Energy Efficiency Quiz "
      ]
    },
    {
      "cell_type": "code",
      "execution_count": 17,
      "metadata": {
        "cellView": "form",
        "execution": {},
        "id": "HBzby5CG2nLs",
        "outputId": "5db81055-eb53-4f10-e5ad-9db537d034af",
        "colab": {
          "base_uri": "https://localhost:8080/",
          "height": 621
        }
      },
      "outputs": [
        {
          "output_type": "execute_result",
          "data": {
            "text/plain": [
              "<IPython.lib.display.IFrame at 0x7f2eec1c3250>"
            ],
            "text/html": [
              "\n",
              "        <iframe\n",
              "            width=\"900\"\n",
              "            height=\"600\"\n",
              "            src=\"https://docs.google.com/forms/d/e/1FAIpQLSe8suNt4ZmadSr_6IWq6s_nUYxC1VCpjR2cBBmQ7cR_5znCZw/viewform?usp=sf_link\"\n",
              "            frameborder=\"0\"\n",
              "            allowfullscreen\n",
              "        ></iframe>\n",
              "        "
            ]
          },
          "metadata": {},
          "execution_count": 17
        }
      ],
      "source": [
        "# @markdown Make a guess\n",
        "IFrame(src='https://docs.google.com/forms/d/e/1FAIpQLSe8suNt4ZmadSr_6IWq6s_nUYxC1VCpjR2cBBmQ7cR_5znCZw/viewform?usp=sf_link', width=900, height=600)"
      ]
    },
    {
      "cell_type": "markdown",
      "metadata": {
        "execution": {},
        "id": "jQAbGRoH2nLt"
      },
      "source": [
        "---\n",
        "# Summary"
      ]
    },
    {
      "cell_type": "markdown",
      "metadata": {
        "execution": {},
        "id": "SPjEdVna2nLt"
      },
      "source": [
        "Hooray! You have finished the second week of NMA-DL!!!\n",
        "\n",
        "In the first section of this tutorial, we have learned: \n",
        "- How conditional GANs differ from unconditional models\n",
        "- How to use a pre-trained BigGAN model to generate high-dimensional photo-realistic images and its tricks to modulate diversity and image fidelity\n",
        "\n",
        "In the second section, we learned about the broader ethical implications of GAN technology on society through deepfakes and their tremendous energy inefficiency.\n",
        "\n",
        "On the brighter side, as we learned throughout the week, GANs are very effective in modeling the data distribution and have many practical applications.\n",
        "\n",
        "For example, as personalized healthcare and applications of AI in healthcare rise, the need to remove any Personally Identifiable Information (PII) becomes more important. As shown in [Piacentino and Angulo, 2020](https://doi.org/10.1007/978-3-030-45385-5_36), GANs can be leveraged to anonymize healthcare data.\n",
        "\n",
        "As a food for thought, what are some other practical applications of GANs that you can think of? Discuss with your pod your ideas."
      ]
    },
    {
      "cell_type": "code",
      "execution_count": 18,
      "metadata": {
        "cellView": "form",
        "execution": {},
        "id": "wsDaTiNw2nLt",
        "outputId": "11bfca88-f9ef-4505-dd97-69b2f98f6afe",
        "colab": {
          "base_uri": "https://localhost:8080/",
          "height": 581,
          "referenced_widgets": [
            "630316e2084b4bedb54a9b0172343389",
            "3fdb6fd4c89b4cfea2a7a82948c50af0",
            "f55d142181ed4211813e8119651f94b9",
            "0662cca4f6594dd5ad61483af9bf3861",
            "f3fdd50e3d60483da1fc4d6bb21b155e",
            "aace6fc42bdf44058ece7a401794a222"
          ]
        }
      },
      "outputs": [
        {
          "output_type": "display_data",
          "data": {
            "text/plain": [
              "Tab(children=(Output(), Output()), _titles={'0': 'Youtube', '1': 'Bilibili'})"
            ],
            "application/vnd.jupyter.widget-view+json": {
              "version_major": 2,
              "version_minor": 0,
              "model_id": "630316e2084b4bedb54a9b0172343389"
            }
          },
          "metadata": {}
        }
      ],
      "source": [
        "# @title Video 3: Recap and advanced topics\n",
        "from ipywidgets import widgets\n",
        "\n",
        "out2 = widgets.Output()\n",
        "with out2:\n",
        "  from IPython.display import IFrame\n",
        "  class BiliVideo(IFrame):\n",
        "    def __init__(self, id, page=1, width=400, height=300, **kwargs):\n",
        "      self.id=id\n",
        "      src = \"https://player.bilibili.com/player.html?bvid={0}&page={1}\".format(id, page)\n",
        "      super(BiliVideo, self).__init__(src, width, height, **kwargs)\n",
        "\n",
        "  video = BiliVideo(id=f\"BV1Uo4y1D7Nj\", width=854, height=480, fs=1)\n",
        "  print(\"Video available at https://www.bilibili.com/video/{0}\".format(video.id))\n",
        "  display(video)\n",
        "\n",
        "out1 = widgets.Output()\n",
        "with out1:\n",
        "  from IPython.display import YouTubeVideo\n",
        "  video = YouTubeVideo(id=f\"7nUjFG3N04I\", width=854, height=480, fs=1, rel=0)\n",
        "  print(\"Video available at https://youtube.com/watch?v=\" + video.id)\n",
        "  display(video)\n",
        "\n",
        "out = widgets.Tab([out1, out2])\n",
        "out.set_title(0, 'Youtube')\n",
        "out.set_title(1, 'Bilibili')\n",
        "\n",
        "# Add event to airtable\n",
        "atform.add_event('Video 3: Recap and advanced topics')\n",
        "\n",
        "display(out)"
      ]
    },
    {
      "cell_type": "code",
      "execution_count": 19,
      "metadata": {
        "cellView": "form",
        "execution": {},
        "id": "1ajDHZrc2nLu",
        "outputId": "0d97e115-f06c-445d-d8ed-d122e6bc67d7",
        "colab": {
          "base_uri": "https://localhost:8080/",
          "height": 158
        }
      },
      "outputs": [
        {
          "output_type": "execute_result",
          "data": {
            "text/plain": [
              "<IPython.core.display.HTML object>"
            ],
            "text/html": [
              "\n",
              " <div>\n",
              "   <a href= \"https://portal.neuromatchacademy.org/api/redirect/to/438d4b27-5872-499a-8f72-6a79ff2a2aa6?data=eyJmb3JtX2lkIjogImFwcG43VmRQUnNlU29NWEVHIiwgInRhYmxlX25hbWUiOiAiVzJENV9UMyIsICJhbnN3ZXJzIjoge30sICJldmVudHMiOiBbeyJldmVudCI6ICJpbml0IiwgInRzIjogMTY1NjYyMDg1OS40NjAwOTg3fSwgeyJldmVudCI6ICJWaWRlbyAxOiBDb25kaXRpb25hbCBHZW5lcmF0aXZlIE1vZGVscyIsICJ0cyI6IDE2NTY2MjA4NjcuMTYzODk3M30sIHsiZXZlbnQiOiAiVmlkZW8gMjogRXRoaWNhbCBJc3N1ZXMiLCAidHMiOiAxNjU2NjIwODY3LjQ2MjcxMX0sIHsiZXZlbnQiOiAiVmlkZW8gMzogUmVjYXAgYW5kIGFkdmFuY2VkIHRvcGljcyIsICJ0cyI6IDE2NTY2MjA4NjcuNTk2NDk1OX0sIHsiZXZlbnQiOiAidXJsIGdlbmVyYXRlZCIsICJ0cyI6IDE2NTY2MjA4NjcuNjEwNzI0NH1dfQ%3D%3D\" target=\"_blank\">\n",
              "   <img src=\"https://github.com/NeuromatchAcademy/course-content-dl/blob/main/tutorials/static/SurveyButton.png?raw=1\"\n",
              " alt=\"button link end of day Survey\" style=\"width:410px\"></a>\n",
              "   </div>"
            ]
          },
          "metadata": {},
          "execution_count": 19
        }
      ],
      "source": [
        "# @title Airtable Submission Link\n",
        "from IPython import display as IPydisplay\n",
        "IPydisplay.HTML(\n",
        "   f\"\"\"\n",
        " <div>\n",
        "   <a href= \"{atform.url()}\" target=\"_blank\">\n",
        "   <img src=\"https://github.com/NeuromatchAcademy/course-content-dl/blob/main/tutorials/static/SurveyButton.png?raw=1\"\n",
        " alt=\"button link end of day Survey\" style=\"width:410px\"></a>\n",
        "   </div>\"\"\" )"
      ]
    },
    {
      "cell_type": "code",
      "source": [
        "# @title Bonus (Keynote): Distillation and the brain, Geoffrey Hinton\n",
        "\n",
        "out2 = widgets.Output()\n",
        "with out2:\n",
        "  from IPython.display import IFrame\n",
        "  class BiliVideo(IFrame):\n",
        "    def __init__(self, id, page=1, width=400, height=300, **kwargs):\n",
        "      self.id=id\n",
        "      src = \"https://player.bilibili.com/player.html?bvid={0}&page={1}\".format(id, page)\n",
        "      super(BiliVideo, self).__init__(src, width, height, **kwargs)\n",
        "\n",
        "  video = BiliVideo(id=f\"BV1KU4y1X7bx\", width=854, height=480, fs=1)\n",
        "  print(\"Video available at https://www.bilibili.com/video/{0}\".format(video.id))\n",
        "  display(video)\n",
        "\n",
        "out1 = widgets.Output()\n",
        "with out1:\n",
        "  from IPython.display import YouTubeVideo\n",
        "  video = YouTubeVideo(id=f\"asZoedN31VE\", width=854, height=480, fs=1, rel=0)\n",
        "  print(\"Video available at https://youtube.com/watch?v=\" + video.id)\n",
        "  display(video)\n",
        "\n",
        "out = widgets.Tab([out1, out2])\n",
        "out.set_title(0, 'Youtube')\n",
        "out.set_title(1, 'Bilibili')\n",
        "\n",
        "display(out)\n"
      ],
      "metadata": {
        "id": "6JRHqZuT2qQ0",
        "outputId": "ce50ba47-c1a6-49a3-eac2-89ec2677c488",
        "colab": {
          "base_uri": "https://localhost:8080/",
          "height": 581,
          "referenced_widgets": [
            "52f9e6df01614fd6b04a5579fa0a679c",
            "08cf01faf0cc4cdea49eca37d56718d9",
            "9f5693c1ad754717ba509d47fd741808",
            "c61d13636ecf42e38f20d27032987b08",
            "1f1e36b5d94149d4934fec115956c2b9",
            "dba33e464bf544a0b9a36cac272cea78"
          ]
        },
        "cellView": "form"
      },
      "execution_count": 20,
      "outputs": [
        {
          "output_type": "display_data",
          "data": {
            "text/plain": [
              "Tab(children=(Output(), Output()), _titles={'0': 'Youtube', '1': 'Bilibili'})"
            ],
            "application/vnd.jupyter.widget-view+json": {
              "version_major": 2,
              "version_minor": 0,
              "model_id": "52f9e6df01614fd6b04a5579fa0a679c"
            }
          },
          "metadata": {}
        }
      ]
    }
  ],
  "metadata": {
    "accelerator": "GPU",
    "colab": {
      "collapsed_sections": [],
      "name": "W2D4_Tutorial3",
      "provenance": [],
      "toc_visible": true,
      "include_colab_link": true
    },
    "kernel": {
      "display_name": "Python 3",
      "language": "python",
      "name": "python3"
    },
    "kernelspec": {
      "display_name": "Python 3",
      "name": "python3"
    },
    "language_info": {
      "codemirror_mode": {
        "name": "ipython",
        "version": 3
      },
      "file_extension": ".py",
      "mimetype": "text/x-python",
      "name": "python",
      "nbconvert_exporter": "python",
      "pygments_lexer": "ipython3",
      "version": "3.7.11"
    },
    "widgets": {
      "application/vnd.jupyter.widget-state+json": {
        "be9ed3a5bd9545c3877d43dc7e091dd4": {
          "model_module": "@jupyter-widgets/controls",
          "model_name": "TabModel",
          "model_module_version": "1.5.0",
          "state": {
            "_dom_classes": [],
            "_model_module": "@jupyter-widgets/controls",
            "_model_module_version": "1.5.0",
            "_model_name": "TabModel",
            "_titles": {
              "0": "Youtube",
              "1": "Bilibili"
            },
            "_view_count": null,
            "_view_module": "@jupyter-widgets/controls",
            "_view_module_version": "1.5.0",
            "_view_name": "TabView",
            "box_style": "",
            "children": [
              "IPY_MODEL_3b0e6687bcd0407f83b5fb38b63b8854",
              "IPY_MODEL_2a70c048801041c5a6601f2b956f8ace"
            ],
            "layout": "IPY_MODEL_6d4b01b306734dbb80513b405813de33",
            "selected_index": 0
          }
        },
        "3b0e6687bcd0407f83b5fb38b63b8854": {
          "model_module": "@jupyter-widgets/output",
          "model_name": "OutputModel",
          "model_module_version": "1.0.0",
          "state": {
            "_dom_classes": [],
            "_model_module": "@jupyter-widgets/output",
            "_model_module_version": "1.0.0",
            "_model_name": "OutputModel",
            "_view_count": null,
            "_view_module": "@jupyter-widgets/output",
            "_view_module_version": "1.0.0",
            "_view_name": "OutputView",
            "layout": "IPY_MODEL_4cb2b7cd285f4ca3a5ab06e5c2e1bbd8",
            "msg_id": "",
            "outputs": [
              {
                "output_type": "stream",
                "name": "stdout",
                "text": [
                  "Video available at https://youtube.com/watch?v=lV6zH2xDZck\n"
                ]
              },
              {
                "output_type": "display_data",
                "data": {
                  "text/plain": "<IPython.lib.display.YouTubeVideo at 0x7f2ee553b0d0>",
                  "text/html": "\n        <iframe\n            width=\"854\"\n            height=\"480\"\n            src=\"https://www.youtube.com/embed/lV6zH2xDZck?fs=1&rel=0\"\n            frameborder=\"0\"\n            allowfullscreen\n        ></iframe>\n        ",
                  "image/jpeg": "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\n"
                },
                "metadata": {}
              }
            ]
          }
        },
        "2a70c048801041c5a6601f2b956f8ace": {
          "model_module": "@jupyter-widgets/output",
          "model_name": "OutputModel",
          "model_module_version": "1.0.0",
          "state": {
            "_dom_classes": [],
            "_model_module": "@jupyter-widgets/output",
            "_model_module_version": "1.0.0",
            "_model_name": "OutputModel",
            "_view_count": null,
            "_view_module": "@jupyter-widgets/output",
            "_view_module_version": "1.0.0",
            "_view_name": "OutputView",
            "layout": "IPY_MODEL_193c8a63f704421db367a5b32dc8cd47",
            "msg_id": "",
            "outputs": [
              {
                "output_type": "stream",
                "name": "stdout",
                "text": [
                  "Video available at https://www.bilibili.com/video/BV1f54y1E79D\n"
                ]
              },
              {
                "output_type": "display_data",
                "data": {
                  "text/plain": "<__main__.BiliVideo at 0x7f2fbc91b310>",
                  "text/html": "\n        <iframe\n            width=\"854\"\n            height=\"480\"\n            src=\"https://player.bilibili.com/player.html?bvid=BV1f54y1E79D&page=1?fs=1\"\n            frameborder=\"0\"\n            allowfullscreen\n        ></iframe>\n        "
                },
                "metadata": {}
              }
            ]
          }
        },
        "6d4b01b306734dbb80513b405813de33": {
          "model_module": "@jupyter-widgets/base",
          "model_name": "LayoutModel",
          "model_module_version": "1.2.0",
          "state": {
            "_model_module": "@jupyter-widgets/base",
            "_model_module_version": "1.2.0",
            "_model_name": "LayoutModel",
            "_view_count": null,
            "_view_module": "@jupyter-widgets/base",
            "_view_module_version": "1.2.0",
            "_view_name": "LayoutView",
            "align_content": null,
            "align_items": null,
            "align_self": null,
            "border": null,
            "bottom": null,
            "display": null,
            "flex": null,
            "flex_flow": null,
            "grid_area": null,
            "grid_auto_columns": null,
            "grid_auto_flow": null,
            "grid_auto_rows": null,
            "grid_column": null,
            "grid_gap": null,
            "grid_row": null,
            "grid_template_areas": null,
            "grid_template_columns": null,
            "grid_template_rows": null,
            "height": null,
            "justify_content": null,
            "justify_items": null,
            "left": null,
            "margin": null,
            "max_height": null,
            "max_width": null,
            "min_height": null,
            "min_width": null,
            "object_fit": null,
            "object_position": null,
            "order": null,
            "overflow": null,
            "overflow_x": null,
            "overflow_y": null,
            "padding": null,
            "right": null,
            "top": null,
            "visibility": null,
            "width": null
          }
        },
        "4cb2b7cd285f4ca3a5ab06e5c2e1bbd8": {
          "model_module": "@jupyter-widgets/base",
          "model_name": "LayoutModel",
          "model_module_version": "1.2.0",
          "state": {
            "_model_module": "@jupyter-widgets/base",
            "_model_module_version": "1.2.0",
            "_model_name": "LayoutModel",
            "_view_count": null,
            "_view_module": "@jupyter-widgets/base",
            "_view_module_version": "1.2.0",
            "_view_name": "LayoutView",
            "align_content": null,
            "align_items": null,
            "align_self": null,
            "border": null,
            "bottom": null,
            "display": null,
            "flex": null,
            "flex_flow": null,
            "grid_area": null,
            "grid_auto_columns": null,
            "grid_auto_flow": null,
            "grid_auto_rows": null,
            "grid_column": null,
            "grid_gap": null,
            "grid_row": null,
            "grid_template_areas": null,
            "grid_template_columns": null,
            "grid_template_rows": null,
            "height": null,
            "justify_content": null,
            "justify_items": null,
            "left": null,
            "margin": null,
            "max_height": null,
            "max_width": null,
            "min_height": null,
            "min_width": null,
            "object_fit": null,
            "object_position": null,
            "order": null,
            "overflow": null,
            "overflow_x": null,
            "overflow_y": null,
            "padding": null,
            "right": null,
            "top": null,
            "visibility": null,
            "width": null
          }
        },
        "193c8a63f704421db367a5b32dc8cd47": {
          "model_module": "@jupyter-widgets/base",
          "model_name": "LayoutModel",
          "model_module_version": "1.2.0",
          "state": {
            "_model_module": "@jupyter-widgets/base",
            "_model_module_version": "1.2.0",
            "_model_name": "LayoutModel",
            "_view_count": null,
            "_view_module": "@jupyter-widgets/base",
            "_view_module_version": "1.2.0",
            "_view_name": "LayoutView",
            "align_content": null,
            "align_items": null,
            "align_self": null,
            "border": null,
            "bottom": null,
            "display": null,
            "flex": null,
            "flex_flow": null,
            "grid_area": null,
            "grid_auto_columns": null,
            "grid_auto_flow": null,
            "grid_auto_rows": null,
            "grid_column": null,
            "grid_gap": null,
            "grid_row": null,
            "grid_template_areas": null,
            "grid_template_columns": null,
            "grid_template_rows": null,
            "height": null,
            "justify_content": null,
            "justify_items": null,
            "left": null,
            "margin": null,
            "max_height": null,
            "max_width": null,
            "min_height": null,
            "min_width": null,
            "object_fit": null,
            "object_position": null,
            "order": null,
            "overflow": null,
            "overflow_x": null,
            "overflow_y": null,
            "padding": null,
            "right": null,
            "top": null,
            "visibility": null,
            "width": null
          }
        },
        "4a32b46a60104cbbb7e9d4fae82d4a6b": {
          "model_module": "@jupyter-widgets/controls",
          "model_name": "ButtonModel",
          "model_module_version": "1.5.0",
          "state": {
            "_dom_classes": [],
            "_model_module": "@jupyter-widgets/controls",
            "_model_module_version": "1.5.0",
            "_model_name": "ButtonModel",
            "_view_count": null,
            "_view_module": "@jupyter-widgets/controls",
            "_view_module_version": "1.5.0",
            "_view_name": "ButtonView",
            "button_style": "danger",
            "description": "GENERATE!",
            "disabled": false,
            "icon": "",
            "layout": "IPY_MODEL_e88ed1a1cf294db0a42f1184373e4d78",
            "style": "IPY_MODEL_a6ebcdd37047450fbcb445e6c63f230e",
            "tooltip": ""
          }
        },
        "e88ed1a1cf294db0a42f1184373e4d78": {
          "model_module": "@jupyter-widgets/base",
          "model_name": "LayoutModel",
          "model_module_version": "1.2.0",
          "state": {
            "_model_module": "@jupyter-widgets/base",
            "_model_module_version": "1.2.0",
            "_model_name": "LayoutModel",
            "_view_count": null,
            "_view_module": "@jupyter-widgets/base",
            "_view_module_version": "1.2.0",
            "_view_name": "LayoutView",
            "align_content": null,
            "align_items": null,
            "align_self": null,
            "border": null,
            "bottom": null,
            "display": null,
            "flex": null,
            "flex_flow": null,
            "grid_area": null,
            "grid_auto_columns": null,
            "grid_auto_flow": null,
            "grid_auto_rows": null,
            "grid_column": null,
            "grid_gap": null,
            "grid_row": null,
            "grid_template_areas": null,
            "grid_template_columns": null,
            "grid_template_rows": null,
            "height": "80px",
            "justify_content": null,
            "justify_items": null,
            "left": null,
            "margin": null,
            "max_height": null,
            "max_width": null,
            "min_height": null,
            "min_width": null,
            "object_fit": null,
            "object_position": null,
            "order": null,
            "overflow": null,
            "overflow_x": null,
            "overflow_y": null,
            "padding": null,
            "right": null,
            "top": null,
            "visibility": null,
            "width": "30%"
          }
        },
        "a6ebcdd37047450fbcb445e6c63f230e": {
          "model_module": "@jupyter-widgets/controls",
          "model_name": "ButtonStyleModel",
          "model_module_version": "1.5.0",
          "state": {
            "_model_module": "@jupyter-widgets/controls",
            "_model_module_version": "1.5.0",
            "_model_name": "ButtonStyleModel",
            "_view_count": null,
            "_view_module": "@jupyter-widgets/base",
            "_view_module_version": "1.2.0",
            "_view_name": "StyleView",
            "button_color": null,
            "font_weight": ""
          }
        },
        "0959030c3f064a0594ee1eba29c2bb3d": {
          "model_module": "@jupyter-widgets/output",
          "model_name": "OutputModel",
          "model_module_version": "1.0.0",
          "state": {
            "_dom_classes": [],
            "_model_module": "@jupyter-widgets/output",
            "_model_module_version": "1.0.0",
            "_model_name": "OutputModel",
            "_view_count": null,
            "_view_module": "@jupyter-widgets/output",
            "_view_module_version": "1.0.0",
            "_view_name": "OutputView",
            "layout": "IPY_MODEL_b0f71508590b4b42a980c5a69504a48d",
            "msg_id": "",
            "outputs": []
          }
        },
        "b0f71508590b4b42a980c5a69504a48d": {
          "model_module": "@jupyter-widgets/base",
          "model_name": "LayoutModel",
          "model_module_version": "1.2.0",
          "state": {
            "_model_module": "@jupyter-widgets/base",
            "_model_module_version": "1.2.0",
            "_model_name": "LayoutModel",
            "_view_count": null,
            "_view_module": "@jupyter-widgets/base",
            "_view_module_version": "1.2.0",
            "_view_name": "LayoutView",
            "align_content": null,
            "align_items": null,
            "align_self": null,
            "border": null,
            "bottom": null,
            "display": null,
            "flex": null,
            "flex_flow": null,
            "grid_area": null,
            "grid_auto_columns": null,
            "grid_auto_flow": null,
            "grid_auto_rows": null,
            "grid_column": null,
            "grid_gap": null,
            "grid_row": null,
            "grid_template_areas": null,
            "grid_template_columns": null,
            "grid_template_rows": null,
            "height": null,
            "justify_content": null,
            "justify_items": null,
            "left": null,
            "margin": null,
            "max_height": null,
            "max_width": null,
            "min_height": null,
            "min_width": null,
            "object_fit": null,
            "object_position": null,
            "order": null,
            "overflow": null,
            "overflow_x": null,
            "overflow_y": null,
            "padding": null,
            "right": null,
            "top": null,
            "visibility": null,
            "width": null
          }
        },
        "19b7560061884e29a12579ac6af4654e": {
          "model_module": "@jupyter-widgets/controls",
          "model_name": "TextareaModel",
          "model_module_version": "1.5.0",
          "state": {
            "_dom_classes": [],
            "_model_module": "@jupyter-widgets/controls",
            "_model_module_version": "1.5.0",
            "_model_name": "TextareaModel",
            "_view_count": null,
            "_view_module": "@jupyter-widgets/controls",
            "_view_module_version": "1.5.0",
            "_view_name": "TextareaView",
            "continuous_update": true,
            "description": "",
            "description_tooltip": null,
            "disabled": false,
            "layout": "IPY_MODEL_98ac710b31724222adb3cac6d4ddcc44",
            "placeholder": "Type something",
            "rows": null,
            "style": "IPY_MODEL_cf7f986cbc394752af1556e732fd1f12",
            "value": "Type answer here and Push submit"
          }
        },
        "98ac710b31724222adb3cac6d4ddcc44": {
          "model_module": "@jupyter-widgets/base",
          "model_name": "LayoutModel",
          "model_module_version": "1.2.0",
          "state": {
            "_model_module": "@jupyter-widgets/base",
            "_model_module_version": "1.2.0",
            "_model_name": "LayoutModel",
            "_view_count": null,
            "_view_module": "@jupyter-widgets/base",
            "_view_module_version": "1.2.0",
            "_view_name": "LayoutView",
            "align_content": null,
            "align_items": null,
            "align_self": null,
            "border": null,
            "bottom": null,
            "display": null,
            "flex": null,
            "flex_flow": null,
            "grid_area": null,
            "grid_auto_columns": null,
            "grid_auto_flow": null,
            "grid_auto_rows": null,
            "grid_column": null,
            "grid_gap": null,
            "grid_row": null,
            "grid_template_areas": null,
            "grid_template_columns": null,
            "grid_template_rows": null,
            "height": null,
            "justify_content": null,
            "justify_items": null,
            "left": null,
            "margin": null,
            "max_height": null,
            "max_width": null,
            "min_height": null,
            "min_width": null,
            "object_fit": null,
            "object_position": null,
            "order": null,
            "overflow": null,
            "overflow_x": null,
            "overflow_y": null,
            "padding": null,
            "right": null,
            "top": null,
            "visibility": null,
            "width": null
          }
        },
        "cf7f986cbc394752af1556e732fd1f12": {
          "model_module": "@jupyter-widgets/controls",
          "model_name": "DescriptionStyleModel",
          "model_module_version": "1.5.0",
          "state": {
            "_model_module": "@jupyter-widgets/controls",
            "_model_module_version": "1.5.0",
            "_model_name": "DescriptionStyleModel",
            "_view_count": null,
            "_view_module": "@jupyter-widgets/base",
            "_view_module_version": "1.2.0",
            "_view_name": "StyleView",
            "description_width": ""
          }
        },
        "4c6553e066a348d9a4c38af4edebaf70": {
          "model_module": "@jupyter-widgets/controls",
          "model_name": "ButtonModel",
          "model_module_version": "1.5.0",
          "state": {
            "_dom_classes": [],
            "_model_module": "@jupyter-widgets/controls",
            "_model_module_version": "1.5.0",
            "_model_name": "ButtonModel",
            "_view_count": null,
            "_view_module": "@jupyter-widgets/controls",
            "_view_module_version": "1.5.0",
            "_view_name": "ButtonView",
            "button_style": "",
            "description": "Submit!",
            "disabled": false,
            "icon": "",
            "layout": "IPY_MODEL_6f96a6fc162746bead349f19705f4e9c",
            "style": "IPY_MODEL_e48f5a951b5d42c89b285b3d7e741bf6",
            "tooltip": ""
          }
        },
        "6f96a6fc162746bead349f19705f4e9c": {
          "model_module": "@jupyter-widgets/base",
          "model_name": "LayoutModel",
          "model_module_version": "1.2.0",
          "state": {
            "_model_module": "@jupyter-widgets/base",
            "_model_module_version": "1.2.0",
            "_model_name": "LayoutModel",
            "_view_count": null,
            "_view_module": "@jupyter-widgets/base",
            "_view_module_version": "1.2.0",
            "_view_name": "LayoutView",
            "align_content": null,
            "align_items": null,
            "align_self": null,
            "border": null,
            "bottom": null,
            "display": null,
            "flex": null,
            "flex_flow": null,
            "grid_area": null,
            "grid_auto_columns": null,
            "grid_auto_flow": null,
            "grid_auto_rows": null,
            "grid_column": null,
            "grid_gap": null,
            "grid_row": null,
            "grid_template_areas": null,
            "grid_template_columns": null,
            "grid_template_rows": null,
            "height": null,
            "justify_content": null,
            "justify_items": null,
            "left": null,
            "margin": null,
            "max_height": null,
            "max_width": null,
            "min_height": null,
            "min_width": null,
            "object_fit": null,
            "object_position": null,
            "order": null,
            "overflow": null,
            "overflow_x": null,
            "overflow_y": null,
            "padding": null,
            "right": null,
            "top": null,
            "visibility": null,
            "width": null
          }
        },
        "e48f5a951b5d42c89b285b3d7e741bf6": {
          "model_module": "@jupyter-widgets/controls",
          "model_name": "ButtonStyleModel",
          "model_module_version": "1.5.0",
          "state": {
            "_model_module": "@jupyter-widgets/controls",
            "_model_module_version": "1.5.0",
            "_model_name": "ButtonStyleModel",
            "_view_count": null,
            "_view_module": "@jupyter-widgets/base",
            "_view_module_version": "1.2.0",
            "_view_name": "StyleView",
            "button_color": null,
            "font_weight": ""
          }
        },
        "be53f63bde9a440daaf2128e6dad9669": {
          "model_module": "@jupyter-widgets/controls",
          "model_name": "TabModel",
          "model_module_version": "1.5.0",
          "state": {
            "_dom_classes": [],
            "_model_module": "@jupyter-widgets/controls",
            "_model_module_version": "1.5.0",
            "_model_name": "TabModel",
            "_titles": {
              "0": "Youtube",
              "1": "Bilibili"
            },
            "_view_count": null,
            "_view_module": "@jupyter-widgets/controls",
            "_view_module_version": "1.5.0",
            "_view_name": "TabView",
            "box_style": "",
            "children": [
              "IPY_MODEL_6a86f226ecc442cfaeae8f083f8e0803",
              "IPY_MODEL_46d89c091e9442adbe7db94468284fe8"
            ],
            "layout": "IPY_MODEL_3c4c85b5e6ba4378bb44f6d8520fdfa6",
            "selected_index": 0
          }
        },
        "6a86f226ecc442cfaeae8f083f8e0803": {
          "model_module": "@jupyter-widgets/output",
          "model_name": "OutputModel",
          "model_module_version": "1.0.0",
          "state": {
            "_dom_classes": [],
            "_model_module": "@jupyter-widgets/output",
            "_model_module_version": "1.0.0",
            "_model_name": "OutputModel",
            "_view_count": null,
            "_view_module": "@jupyter-widgets/output",
            "_view_module_version": "1.0.0",
            "_view_name": "OutputView",
            "layout": "IPY_MODEL_0c96c154290f41dda4f50fb12be2250e",
            "msg_id": "",
            "outputs": [
              {
                "output_type": "stream",
                "name": "stdout",
                "text": [
                  "Video available at https://youtube.com/watch?v=ZtWFeUZgfVk\n"
                ]
              },
              {
                "output_type": "display_data",
                "data": {
                  "text/plain": "<IPython.lib.display.YouTubeVideo at 0x7f2ee54e9850>",
                  "text/html": "\n        <iframe\n            width=\"854\"\n            height=\"480\"\n            src=\"https://www.youtube.com/embed/ZtWFeUZgfVk?fs=1&rel=0\"\n            frameborder=\"0\"\n            allowfullscreen\n        ></iframe>\n        ",
                  "image/jpeg": "/9j/4AAQSkZJRgABAQAAAQABAAD/2wCEABALDBoYFhwaGRodHRsfIicmJCEiIDEtLSgyNzg1OjYzNzI2SFJCNzhLQDAyRWFGS1NWW11bMkFlbWRYbFBZW1cBERISGRYXJxoaJVc2LTZXV1dXV1dXV1dXV1dXV1dXV1dXV1dXV1dXV1dXV1dXV1dXV1dXV1dXV1dXV1dXV1dXV//AABEIAWgB4AMBIgACEQEDEQH/xAAbAAEAAgMBAQAAAAAAAAAAAAAABAcDBQYCAf/EAEwQAAIBAwAECggCBwUHAwUAAAABAgMEEQUSITEGExRBUVNxkZLSFhciVGGBk9MyoSNCUnOxwdEVMzWCwgclYnKisuFD4vAkJjQ2g//EABcBAQEBAQAAAAAAAAAAAAAAAAABAgP/xAAZEQEBAQEBAQAAAAAAAAAAAAAAEQECITH/2gAMAwEAAhEDEQA/AK/AAAAAAAAAAAAAAAAAAAAAAAAAAAAAAAAAAAAAAAAAAAAAAAAAAAAAAAAAAAAAAAAAAAAAAAAAAAAAAAAAAAAAAAAAAAAAAAAAAAAAAAAAAAAAAAAAAAAAAAAAAAAAAAAAAAAAAAAAAAAAAAAAAAAAAAAAAAAAAAABn5LLpQ5LLpQGAGfksulDksulAYAZ+Sy6UOSy6UBgBn5LLpQ5LLpQGAGfksulDksulAYAZ+Sy6UOSy6UBgBn5LLpQ5LLpQGAGfksulDksulAYAZ+Sy6UOSy6UBgBn5LLpQ5LLpQGAGfksulDksulAYAZ+Sy6UOSy6UBgBn5LLpQ5LLpQGAGfksulDksulAYAZ+Sy6UOSy6UBgBn5LLpQ5LLpQGAGfksulDksulAYAZ+Sy6UOSy6UBgBn5LLpQ5LLpQGAGfksulDksulAYAZ+Sy6UOSy6UBgBn5LLpQ5LLpQGAGfksulDksulAYAZ+Sy6UOSy6UBgBu7fgxXqR1ozpY+Ll/QyS4I3CWdej4pf0A0AN0uDFfXcdellJPe+fPw+Blp8EbiUoxU6OZNJe1Ln+QGgBvnwTuM416Pil/QyPgbcp44yj4peUQc6DovQy5/bo+KXlHoZc/t0fFLylg50HRrgXc/t0fFLyma34B3dTOKlDZ0yl5SQcsDr/AFc3vW2/in5TzH/Z7eNtKrbZW/25+UDSAArIAAAAAAAAAAAAAAAAAAAAAAAAAAAAAAAAAAAAAAAAAAAAAAAAAAAAAAAAAAAYPktz7AO20SkqOzdrS/iSqz2I+xgoxxFJJcyR5nuRnVRaUf09R/8ABTXc5v8AmTbJfpqf/Mn+ZqrqtOnx0qcdep7CjHp/+Jt/I2Oi3OXFOpHUm17S6MoK8J+0TZL2vgQ6UcyRsGtrNmPCeN58k9orasYtykorpbwiJS0rbvZx8M/F4/iBPjz9hL0fUjFycmlu3vtIkdqe3ZgzWdWUFJwjrbs55t4GzjfUn/6kU+hvH8T1CeajxJOONiRHo0o1oKU6dP4+yjxLQ9DfFSpt88JNGRUgAKyAAAAAAAAAAAAAAAAAAAAAAAAAAAAAAAAAAAAAAAAAAAAAAAAAAAAAAAAAAAfJ7n2H0+T3PsAsJmOrzHrJ5rcxnVxEtJJ16zxti4pP4Y/rlfI2KmnKOOZP+Bq7WLjWqp7cqMk/g3PZ+TNhQWZr5/wGKxRbTyjPxss7zAt5njBm0cjwh0lOpWlTz7EHhL487ZqYyNzpexxdVJS3Saa+a/rkhu1iZ3r1rOd1tODOk3BypPLjLd8H/wCTt9ER4yEnlrbj8jgtFWKdSM09ikk9vad3oypxdBtftN42ZF8TfGzVPVg0ujY8EWdR5SWcvHTuPdrfqex5y3sMzhGbTW+L2bWRn6poAGgAAAAAAAAAAAAAAAAAAAAAAAAAAAAAAAAAAAHxSXSfQAAAAAAAAAAAAAAAAAB8TT3bQPoAAHyW59h9PktzA79M+V9y7TzBn2t+Azq4iw/v2+mmvyb8xMo/iRr2/wBNTf8Awzj/ANr/AJMm0p4km9yaIr7HeaypwkhCpOCpTlqScW9i2rYZb/SMKNNzi4yb/Bh5z8dnMcnKs22297bfxbOjLdXV7G7k5KDg0ksZT6duwj0bLMJbW9/5Grp1XF6y37sfAlKSaWW/zwc9z11568bjRNSNGLnJtxWNi39x0NlpGjWio05pvb7O5/8Ak4SrNrDWdVPO3nPmXCSaeFvTRvn4x39WRCk98djJkLecZxak2nvwsYImgNMxrWsZVZ/pF7Msc+OfZ0rH5kuppSktycu3/wAkZzFSAAoAHxgdLojRNvSteXXycoN4pUl+u/j05w8LdhZeeYuE1t+GWi7bi+hauV/07zPwy9m10dTj/dqk9nZGCX5N95rNDcH5XdOVSNalTUZuOJva9ieezb+QVi05K0lKnOzi4RlFucHnMZZ3bc/k8GC10Tc1o61KhUnH9pR2Psb3/I28OC7pX9rb1pxnGrrSern8MU2089OMfM2+l7DS1WvJ0W6VGDxSjTqqC1VubS3534fYBw9SnKEnGcZRkt8ZJpr5PaSIaNuJVOLVvW4zGdV05J46cNbFs3nTcLrWpyO0rXMUrlT4qbWNq9ppvGz9XPw1mZuGmnLihcqjRmqcXTjNyilrPLksZfMsc3SBx91aVaEtStTnTlvxJYz2dPyFraVa0tWlTnUl0Ri3jt6Dp9IXMrrQca1d69WlVwp4w3txzfB/kifLRN5SsLejYpQc469eopKMnJpbE3txtfcgOMvNH16DXHUp087nKOx9j3MxOhU4vjeLnxeccZqvUz0a247zR2i72Vtc0L969OUM05SmpyjJZ59/Q9vQQdFX7t9BKtGEJyVV6qmspNy2PHwA5OVnWTjF0aqlP8CdOScv+VY2/IlPQd4o6zta2P8Akee7eZ3pu9uLmjNS168HJUlGnHK1lh4SW3Z05xg39rZ6ZjOFSpcwgspuNWqtq51iKa7gOV0TaOvdUqepKcXUhxiinshrJSbxtSw9/MT+EGg6lK7rRoW1biI6uq1Cco41Yt+1tztzzm201N2+naTovU450FPH6ylPEl89VEbhVpq6p31xShXnGmtVKKxjDhFvm+LA1t5UVS0tqcLF055ilXVPbWeGsJqPtNt53vcaytRnTlq1IShJb4zi4tfJ7TptNScdD6OcXhqSafQ0pYZ84XpXFG0v4JJVYak8c0llpfJ66+SCObhb1JQlONOcoR/FJQbjHta2L5mSzsK1dtUaU6mN+rHKXa9yOg0lF22ira0jsq3UuMmt2zY0n/0L/KzcaX0TfQhSttH/AKOhCHtSjUUJTlztvf8AH45YVwt1Z1aEtWtTnTk9ylFrPZ0/IwndXOj7p6KuI3/tTpfpKU3JSlsW1Z71l80jhQj1SpynKMI7ZTkox7W8L82d1pvQtpyOvSt6dNXFrCnKUlFazWMvLW15im+00fAiy42+U3+CjFzfbuivzb/ymw4OXNeWlKs6tGsqdzrp61KSS54ZbXMlq/MK48m2+iLmrDjKdvVlDmkoPb2dPyNhozQieleSVFmFOcm0+eKWY57fZz2sy6b4TXTuqsaVWVKnTnKEYxwvwvGX05wESeENvP8As/RkFCTqamNRRetnVWzG/Jy1WnKEnGcZQkt8ZRaa7U9qOt4TXtSVlo24cs1cKprY/WxF5wviRuGtONTk99BexXprPwaWVn44eP8AIFc7G3qODqKnN04vDmoNxT2bHLcntXejLZ6Pr188TSnUxvcY7F2vdk6LTNJ0bOx0cnq1K0ozq8+HJ7E/hrP/AKDa6a0Xf+xQsf0VtTgktSpqSk+dt7/67QOEubWpRlqVac6cuiUWu7pQlbVEoN0qiVT8DcJJT/5dntfI7LSdjcy0RU5ck61GalTnlN6uY5y12yXd0C/0vO00bo+VKMOMlRSU5LLgtWOcfF7O4DjZWtVTVN0qiqPdBwkpPsjjLJFfQ11TjrTt6qj06jaXbjd8zpuC19UupXc3Ui750VGlOUYrZ7XMl0uOdnQQK11pezzOtxzht1tfE4fNr8K+aA0drYVq/wDc0alTGxuMG0u17kervRtegs1qNSmnzyi8d+7JseDy0jOnKlZOUaetmclqpZwltk/glsXSdVoqxu+KuKN9Wp1qc6bxFT1pRfcv470gK+p29SUZTjTnKMNspRg2o9rWxfMyW9GcZUqsqE503UhjMHq1NudVPGHlJrG06TgdXULC/qShGoowUnCW6WIyeH8DWz0/c3dahCtKOoq9KShGCSTUsbOfne9gRtMy4259i0ds2opUVDDz06uFtfYfP7CvNXW5LWx+7ee7ebbhZUqQ0vrUk3USpuCSy842bOcm07PTbxUncxpPfirUil84xTQHJ2cWrikmmmqsE01hr2lsaN3w7X+8H+7h/Mm8MaKjpK1mklKfF62NzanjPds+SIXDz/EH+7h/MI50AAD5Lcz6GB20J7TI3mLRof7bp/s1O5f1Mq0/S/Yqd0f6mdwSaz205fszX5px/wBSJEqmqsvctr27jSVtK05RaUZ5ymspb08rn+B40hpVVKThBSTlvbxu+TJNWtffXXGT2Z1IrVim+b+rI62ji2fVBmmRIm2E4t6r38xDwwkxuLzu5tSr6qm9VbkRc4GA4jPDd3ddBwVrZlUg+dKSXZs/mjpIo4fRF2retryTa1XHC37cdPYbxcJaS/Uq90f6jVxzIAKgAAOvsOL0no+naa8YXVv/AHetukksL5Ywnjc0ng09TghftuPJs82trwx27zUfy2okvSNw1h3FfHRx08d2QrsOEWkYW2krGpJpqlBqoovLSl7Lyl2t/I1unODFxOvOvaxVejWk6kZQnHZrbXvayst4aOYSM1C7q01inVqU10QqSj/BgTtI6Br2lKnUr6sXOeqoa2WtmcvGzuzvNj/tA/xCP7iH/dM5ypUlOWtOUpS/ak233sVKspvM5Sk+mTbfewjpYr/7en+/X/dEk3lrLStlb1bdxlcUI6lSlrJN7tqz8Y5WeZvbsOS42Wrqa0tXfq6zx3bj5TqShLWhKUZL9aLafegNzS4J3jjOdWCowhFycpyTzhbkk3+eCav/ANd//t/rOcr3VWosVKtSolzTqSl/FnnjZauprS1N+rrPHduA6DgHVhG/xNpOVOUYN/tZi8duEzyuC19O417hRSUszr1KkWsJ79+exYXyOeM1a8rVElUrVZpblOpKSXybCum4X1VT0xbzk8RgqEm+hKpJv+B94U8H7qre1a9Knr0qijLXUopLEUnnLz+rnZ0nKVKkpvM5Sk+mTbfezJG7qqOoqtVQ3aqqSUe7OAOh05/g2j+3/TIz8EFC8tq1hWexSjVj2ZWsl81/1nKSqycVFyk4rdFyeF2LmPlOpKDzCUovpi2n3oI23CjSLr39ScHsptQh/k/92WbnT2jpaTVO9s8VG4KFSnrJSi1l8+zO1p9ixnJxx7o1p03mnOcH0wk4vvQG2qcGLqnQqV60VShBZxKScpfBJN/maYyV7ipUadSpOo1u15uWO8xgdZoytKw0RO5g9WtcVFGm2lsS2LY9+xTa7UaxcLtILbyjOOZ06eH3RNTKrJpRcpOK3JybS7FzHgDvNI3NOlpCy0gnihcU9WcnuWVsb718os1WleCN3K7qOjTU6VScpxnrxSWs84eXnZnmTOblVk4qLlJxW6Lk2l2Lcj2rysocWq1VU8Y1OMlq46NXOMBXUcL7firCwpa0ZakdXWjueIravgZuCMKd5aO0q/8AoVoVYdmctd+un8JHGyqyaUXKTjHcnJtLsXMKdWUHmMpRb2Zi2v4BGz01pV1r+VxHaoVI8Xt2Yg9nyeM/M3fCHRM7+Ub2yxWhUilKCklKLXa/k1vWDjzJRrzptunOdNve4ScW+4DZXPBu5oW07ivFUox1UouScpNyS5spb87+bcbHhJ/hui/3X+mBzlavOo06k51GtznJya+bPMqsmknKTUdycm0uxcwGy0ToSvc051bdrXpSXs62rLat8X09x1XB131HjZaQclaxpvPHSjJ52c+W2sZ3/A4OnUlCWtCUoyW6UW0+9HuvdVamFUq1KiW5TqSljvYV1lvQqXOhKdKyzrRqS42mppSazJ4bb+MXte7uJPBDQda1dadZQpynSaVPWTlhPa3jZjd3nE0LipTeadSdNve4TcX3o+u5qaznxlTWexy13l9rzlgdDwY/wrSX7r/RI0Oj/wD8mh++p/8AcjDGrKKcYykovelJpPtXOfE8PK2Nc4R3VarThwiTqYWaajFvmk47O/avmafSnBe+rXVWVSKcXKT46dSOrGOW1z5SS5sbDnqk5TeZycn0ybb/ADMlW8rTjqTrVZw/ZlUk49zeArrOGKxe2KznCht/zo1/Dz/EH+6h/M0E605NOU5Sa3Nybx2Z3HypUlN5lKUn0ybb72EeQAAAAAAAAAAAAAAAAAAAAAAAAAB64uWM6ssdOHjvPJYXB65pQ0XaUqyThcTq0Xnd7UqmO/GPmjjLuwla3nEy2uFSOH+0spp/NfzAgyi08NNPoawfDo+Hz/3g/wB1D+MjBbcEbupCM2qVJS/Cqs3GT+STx89oGjPieTZVdAXKuY2koKNWonq5fstJN5T+TOq4VcGK9zcxqW8aagqUYtOWrtUpPdjoaA4QE/SOhq1tCnOqo6tTOq4yzu5n0P8AozzT0VWlazulFcTCWq3nbzLKXRt/iBCBN0bourdcZxWrinHWm5Swktv9Ge9E6FuLxviYLVj+KcniK+GensA14NvpLgzdW1PjZqE6a3ypS1lHtyk8fEjWWia1elVq00nGl+JZ29Oxc7Ahwg5SUYrMpNJJc7exI93NtUozcKsHCaxmL37Ta09B3NtUta1aGpGdxSik5LWy5Z2pbtiZl4aRb0nUSTbappJLLb1VhJdIGgBO0nomraOKrOCnJZ1FLMkulrm6O8ggAAAAAAAAAAAAAAAAAAAAAAAAAAAAAAAAAAAAAAAAAAAAAAAAAAAAAAAAAAB0mkH/ALissNp8ontXbVJWkly+0t76KzWoyjTrpdGVt72n2TfQa++uqb0NaUlUg6sa03KCktZLNXa470tq70fOCWlY29w6dZpUKy1Z6z2J8zfw3p9vwCt5pS3jV4Q0IyScdSMmn/wqcl+aRB05ouhcXVWpV0nbqWs1qSjlwSeFH8XN/HJ44QaXhDS1O6oThVjThDbCSaf4lJZWzOG+8yX2hra+qyuLS7ox4x606VR6rjJ7307d+7fnaBg4UVqD0bb0o3NO5rUZNOUd+riXNl7NkF8kP9ocU7+GUn+gh/3VDXaZ0ZQt6UYwuoV67k1JQ/DFYfRnbnHP8joNMWtDSbpXVO7o0mqajUjUkk44bfT/AMTAguXH6A53K0rfk3/BKp/0m5s3GnxOiZ4XGWs3P95Pbv8Ahib7jT8D7yhSq3NC4qQVGpHZKclGLcXje3japZ+RrL3S7ekZXccvVqqUcc8Y7EvnFfmBsdHwlbaIvpzWKlWoqGOzZLu1p9xk03N0dEWNGHsxrR4yeP1spSafwzL8ke+GukKE4UaVtOnOLnOrPUkniT6cc71pHizq0b+wp2lStGhcUH+jlPZGa3Jd2zp2JgY+AVZq7lR30qtOWtDmbWNuOzK+ZL4OzlbWelHSeJUXJRlvxqqST29h80dQo6J4yvWr0qtw4ONOlTlnfzt78bFtwsbd5D0JeU46O0jGpVgqtSL1VKSUptxecLn2vmA1lnd1at1b8bVqVP09J+1NtZ1ltw+07vSNnGlWur2lGNe7hCOpTz/drGNbC2tvEu1LC3leaOmo3NCUmlFVqbbbwklJZbfQb7S2m+I0tO5t5xqQagpask4zjqrKyuz5NAc7XuJ1ZyqVJOc5vLk+cxm94TULWUo3NpVpONXbOkprXhJ8+rnKT51zPt2aIIAAAAAAAAAAAAAAAAAAAAAAAAAAAAAAAAAAAAAAAAAAAAAAAAAAAAAAAAAAAAAAaAAAAAAAAAAJAAAAAAAAAAAAAAAAAAAAAAAAAAAAAAAAAAAAAAAAAAAAAAAAAAAAAAAAAAAAAJHKYe7UPFX+4OUw92oeKv8AcI4Akcph7tQ8Vf7g5TD3ah4q/wBwjgCRymHu1DxV/uDlMPdqHir/AHCOAJHKYe7UPFX+4OUw92oeKv8AcI4Akcph7tQ8Vf7g5TD3ah4q/wBwjgCRymHu1DxV/uDlMPdqHir/AHCOAJHKYe7UPFX+4OUw92oeKv8AcI4Akcph7tQ8Vf7g5TD3ah4q/wBwjgCRymHu1DxV/uDlMPdqHir/AHCOAJHKYe7UPFX+4OUw92oeKv8AcI4Akcph7tQ8Vf7g5TD3ah4q/wBwjgCRymHu1DxV/uDlMPdqHir/AHCOAJHKYe7UPFX+4OUw92oeKv8AcI4Akcph7tQ8Vf7g5TD3ah4q/wBwjgCRymHu1DxV/uDlMPdqHir/AHCOAJHKYe7UPFX+4OUw92oeKv8AcI4Akcph7tQ8Vf7g5TD3ah4q/wBwjgCRymHu1DxV/uDlMPdqHir/AHCOAJHKYe7UPFX+4OUw92oeKv8AcI4Akcph7tQ8Vf7g5TD3ah4q/wBwjgCRymHu1DxV/uDlMPdqHir/AHCOAJHKYe7UPFX+4OUw92oeKv8AcI4Akcph7tQ8Vf7g5TD3ah4q/wBwjgCRymHu1DxV/uDlMPdqHir/AHCOAJHKYe7UPFX+4OUw92oeKv8AcI4Akcph7tQ8Vf7g5TD3ah4q/wBwjgCRymHu1DxV/uDlMPdqHir/AHCOAJHKYe7UPFX+4OUw92oeKv8AcI4Akcph7tQ8Vf7g5TD3ah4q/wBwjgCRymHu1DxV/uDlMPdqHir/AHCOAAAAABsCbT0VVlazulq8XCWq1l6z/Cm0sbUnJZeekxV7R06FCs5LFbjML9nUlqvPbk6mjC3pVaNnUuNVqg7epS4qTTnVxKT19y9px7jxZUdS0t6awr6KulQ1saqkqntJZ/Xx+HOwK5FLKbW1Le+ZBLf8Nr+HaddoVVaXJFKd5PjZt6lP+7j7eJcY2m5Pe5Zxjb2nyynLMbak7m1lx9bi6lKnrUqmZtLXX/DjHOkltA5y5snTp0amdZVYOeEvwpPG0jRi20ksttJJc7e5HVRvq9F6MpQqYjKSU1HGJ/pXF9qw33nPXFNxu5xpLElXlGmljY1NqKX5BEi50QqSmpXNvxtNNypKUs7N8U8Ycvhk19vFTnGHGU4Z/WnLEV2tZ7Nx0FSnG7VxK4tJW9aFKdSVeOvGLktuJQls2/DabKF9V/tW1oa2KWrSbikll8VvbxlsDisrpWw+pZTa2pb3zL5nSaJ1atvb3dTDdjGSmnvkktail/mer8iZoaVWMrNTqXlV13xjVNJUUpSetr7HrPe3uxkK49Le+jf8O0zXFtKnGlKTjirFyjt5k2tvcdNo6U5KlbUpXNrNVK3Fzpw1qVTMnjW6cY1duUkj5m5rR0dRhWnGE4pOa9qClCbw+htaqxn4AcrNav4ljn27Dy2jrri9nG0lXXK5So3FKUJXWMt7cqOEsJrY1l7zHdWipPUoTUeX3FOVKX7NL2ZLZ/zzSxz6oRy8otYyms7Vlbz4dXpOcpWV4pu7nxdSlidzjGtr4eoktmz47mjlAAAAAAAAAAAAAAAAAAAAAAAAAAAAAAAAAAAAAAAAAAAAAAAAAAAAAAAAAATxtWxgAepVJOWs5Scs51m23npzvyep16kmnKpOTi8pubbTzltZ3PO3JjAEhX9dJpV6yTes1xstr6Xt3/E+Qvq0YuMa1aMXnMVUkk878rOHkwAD3xsvZ9qXsfh9p+zz+z0bduw8uTby2285znbnpz0nwAZ617WqR1KlarOH7M6kpLubweOPqaynxk9dbpaz1lzbHvWwxgD7GTScU2ovGUnhPG7K58GWneVoR1IVqsYZzqxqSSzvzhPGc7TCAM8b2souCrVVB5zFVJKLzvys4eTzG6qxhqRq1FDOdRTko5znOM4zlJ5+BiAGateVameMrVZ5xnXqSlnG7e+bL7zHKpJ4zKT1ViOW3hdC6EeQBnrXlaosVK1Wa2bJ1JS3bVvZgAAAAAAAAAAAAAAAAAAAAAAAAAAAAAAAAAAAAAAAAAAAAAAAAAAAAAAAAAAAGSg4KcXUUpU1Jayi8NrnSfSB9dtNU1VcJcW5aqnjY5YzgxHa6O0XaVbOo5yr06HGcbGFWSi4qKeWms5i1LDfw6dpqL+rG34vNpYypVE3HUlOcmls/vMp5+OANCDZXVpSnRdxba0YxaVWjJ5dPO5qX60G9mXtT/KBQoyqTjCEXKcnhRW9sDwCfHQd24Oat6rjHOXq9G/ZvfyI9nZ1biWpRpyqSxnEVzdLe5fMDACTcaOr0qsaVSlONSTSjFr8WXhY5ntPCtKnHcTqS43W1dTnz0AYQSYaOry19WlOXFzUJYWcSbxjHTky/wBjXXG8TxFTjcKWrjcnube5LtAggkXlhWt5KNalOnJ7k1v7Gtj+RJjoG8bmlbVMw2S2LZsz89jW7IGuBNpaHup03Vjb1HBZ26vRvwt7+SMNlZVbiWrQpyqNLL1eZfF7kBgBOloa6TadvUTUlF+zzvcvj27ibpXg5VoUqVSMKkk6SnWylinLnWzmX8gNICdb6FuqtPjKdvUlBrKklv7FvfyJ60U6mjaMqVFyuJXMoPCethKWx9CWEBogSL2wrW8lGtTlTk1la3P2NbGRwAAAAAAAAAAAAAAAAAAAAAAAAAAAAAAAAAAAAAAAAAAAAAAAAAAABgAb64vZUZW11OXKXWtpQlGpFJJbYuHs70nnf/PZoEsGys7qlOjya5bjBScqdWK1nSk96ceeDxtS25/KXY2PEzlNVtG1oyi4fpa2YrONurskns/NgNGWjo1uLqZqq6tJ6saD1m1LdnOEmtV/NdpG4Mp/2hbZ36+3uZ0de+so2OLeUqbg1RdajBuVPWbk2nNqWo2nueTlJ1Fb3LlbVXNU5ZhU1cZ2b8P5oDd6PvastOe1Um1x9WGNZ41VrpLG7Cwu4zrioaPvG+OUeWTVXidXWUU/ZT1v1N3f2nM0rypCtx8ZYq6znrYW95y8btuWZLTSlehUlUpVXGc23N4TUsvO1NYe983OwNxbX9KcbGlTjcONO8puNWso4Sb2wTjs34ePge6VOT0+0k8qs5NdCxnPZ/U01/pa4udXjqrkovMUkoqL6Uo42/HeSZcJr5qKdw/ZaedWOXjdl42/MDbxuZ0rXS06cnGXKmlJb1rVMPD5nhsiU601oapOnKWu7hKtLWetq6uzbvxnV72aZ6QrOFWDm9WtPXqLC9qWc53bNu3Zg+2Gka1tJyoVHBtYe5pr4p7GBuKFSU9DydVuWrdQVFyef2dZRb5sa359BM05eVVpylFVJKMatCKSbxiTjrbPjrM52/0pXuXF1qjlq/hWElHsSwjxX0hWqV+UTnmtrRlr4S2xxjYljZhcwHS0ruo+EGrxk9XjJR1dZ4woPZjdjZnt2mC4lKnou4dBuP8A9bNVnF4ajtwvgvwd/aaGOkKyuOUqf6bWctfC3vZuxjc+g92WlrihOU6VVxlN5nsTUufamsc77wNzRrVZaDqynKTSrw4uTbzjMdz6FLP5nzTlbMNFqpOXFzoUuMzJ4kvZ1s9OxmqutNXNaEoVaznCTTcWopbN2MLYvggtKXMKHJ3OSozi8QlFP2Xnc2s437mBsuFdzcR0lKKnUjjU4mMW1swvwpfHJkubqtDQ8PanGdS7mqm9Sf420+dbVtNdQ4R3tOmqca8tVLEcxi2l8G1kh1b6rOkqU5uUFN1MPH4nnLzve98/OBt9IVJT0NaSk3KSrzim3l49vZn5LuNAZ53lSVGNByzShJyjHC2N73nfzvvMAAAAAAAAAAAAAAAAAAAAAAAAAAAAAAAAAAAAAAAAAAAAAAAAAAAAAAAAAGand1I0p0ozap1GnOOFtxtXx7jCAAAAAAAAAADAA6CroyCt5cZGFPU4h8ZCM8JTlFNucnqy2SzsWFgxVLGTuOL5HGnCE5qLkquJKMZPDaeZvEcrV2vsZpXN4Sy8Lcs7OkOb9na/Z/Dt3dnQBvq1hCL140VKpydVFR1JxTfGuDlqZ1sKKzjPx3GaraQk4ynSxOFpScaOrKWMznrPUTUmlnc3s1tu45zXlnW1nrLanl57/m+8Kcsp6zytzztXz+YG5qUqNNSkrdNuvShq1VOOqpU9aSUdbK27st7GhXhbwlU1qKjTo3fEtqUtZwaqJt5bzJaiksY6Nxpcvpe15+fSG85zl52vbv8A/mX3gTdI2it1GjLDrZlKck+bdBLm2pOfZOJBMlzXlVqSqTxrSeXhYXYl0LcvgjGAAAAAAAAAAAAAAAAAAAAAAAAAAAAAAAAAAAAAAAAAAAAAAAAABZXojYdQ/q1PMPRGw6h/VqeYLFagsr0RsOof1anmHojYdQ/q1PMCK1BZXojYdQ/q1PMPRGw6h/VqeYEVqCyvRGw6h/VqeYeiNh1D+rU8wIrUFleiNh1D+rU8w9EbDqH9Wp5gRWoLK9EbDqH9Wp5h6I2HUP6tTzAitQWV6I2HUP6tTzD0RsOof1anmBFagsr0RsOof1anmHojYdQ/q1PMCK1BZXojYdQ/q1PMPRGw6h/VqeYEVqCyvRGw6h/VqeYeiNh1D+rU8wIrUFleiNh1D+rU8w9EbDqH9Wp5gRWoLK9EbDqH9Wp5h6I2HUP6tTzAitQWV6I2HUP6tTzD0RsOof1anmBFagsr0RsOof1anmHojYdQ/q1PMCK1BZXojYdQ/q1PMPRGw6h/VqeYEVqCyvRGw6h/VqeYeiNh1D+rU8wIrUFleiNh1D+rU8w9EbDqH9Wp5gRWoLK9EbDqH9Wp5h6I2HUP6tTzAitQWV6I2HUP6tTzD0RsOof1anmBFagsr0RsOof1anmHojYdQ/q1PMCK1BZXojYdQ/q1PMPRGw6h/VqeYEVqCyvRGw6h/VqeYeiNh1D+rU8wIrUFleiNh1D+rU8w9EbDqH9Wp5gRWoLK9EbDqH9Wp5h6I2HUP6tTzAitQWV6I2HUP6tTzD0RsOof1anmBFagsr0RsOof1anmHojYdQ/q1PMCK1BZXojYdQ/q1PMPRGw6h/VqeYEVqCyvRGw6h/VqeYeiNh1D+rU8wIrUFleiNh1D+rU8w9EbDqH9Wp5gRWoLK9EbDqH9Wp5h6I2HUP6tTzAjdgAigAAAAAAAAAAAAAAAAAAAAAAAAAAAAAAAAAAAAAAAAAAAAAAAAAAAAAAAAAAAAAAAAAAAAAAAAAAAAACtPWFedXb+GfmHrCvOrt/DPzAWWCtPWFedXb+GfmHrCvOrt/DPzAWWCtPWFedXb+GfmHrCvOrt/DPzAWWCtPWFedXb+GfmHrCvOrt/DPzAWWCtPWFedXb+GfmHrCvOrt/DPzAWWCtPWFedXb+GfmHrCvOrt/DPzAWWCtPWFedXb+GfmHrCvOrt/DPzAWWCtPWFedXb+GfmHrCvOrt/DPzAWWCtPWFedXb+GfmHrCvOrt/DPzAWWCtPWFedXb+GfmHrCvOrt/DPzAWWCtPWFedXb+GfmHrCvOrt/DPzAWWCtPWFedXb+GfmHrCvOrt/DPzAWWCtPWFedXb+GfmHrCvOrt/DPzAWWCtPWFedXb+GfmHrCvOrt/DPzAWWCtPWFedXb+GfmHrCvOrt/DPzAWWCtPWFedXb+GfmHrCvOrt/DPzAWWCtPWFedXb+GfmHrCvOrt/DPzAWWCtPWFedXb+GfmHrCvOrt/DPzAWWCtPWFedXb+GfmHrCvOrt/DPzAWWCtPWFedXb+GfmHrCvOrt/DPzAWWCtPWFedXb+GfmHrCvOrt/DPzAWWCtPWFedXb+GfmHrCvOrt/DPzAWWCtPWFedXb+GfmHrCvOrt/DPzAWWCtPWFedXb+GfmHrCvOrt/DPzAWWCtPWFedXb+GfmHrCvOrt/DPzAWWCtPWFedXb+GfmHrCvOrt/DPzAWWCtPWFedXb+GfmHrCvOrt/DPzAWWCtPWFedXb+GfmHrCvOrt/DPzAWWCtPWFedXb+GfmHrCvOrt/DPzAWWCtPWFedXb+GfmHrCvOrt/DPzAcmAAAAAAAAAAAAAAAAAAAAAAAAAAAAAAAAAAAAAAAAAAAAAAAAAAAAAAAAAAAAAAAAAAAAAAAAAAAAAAAAAAAAAAAAAAAAAAAAAAAAAAAAAAAAAAAAAAAAAAAAAAAAAAAAAAAAAAAAAAAAAAAAAAAAAAAAAAAAAAAAAAAAAAAAAAAAAAAAAAAAAAAAAAAAAAAAAAAAAAAAAAAAAAAAAAAAAAAAAAAAAAAAAAAAAAAAAAAAAAAD/9k=\n"
                },
                "metadata": {}
              }
            ]
          }
        },
        "46d89c091e9442adbe7db94468284fe8": {
          "model_module": "@jupyter-widgets/output",
          "model_name": "OutputModel",
          "model_module_version": "1.0.0",
          "state": {
            "_dom_classes": [],
            "_model_module": "@jupyter-widgets/output",
            "_model_module_version": "1.0.0",
            "_model_name": "OutputModel",
            "_view_count": null,
            "_view_module": "@jupyter-widgets/output",
            "_view_module_version": "1.0.0",
            "_view_name": "OutputView",
            "layout": "IPY_MODEL_c9e56da51f3143d5a34dd271ae579760",
            "msg_id": "",
            "outputs": [
              {
                "output_type": "stream",
                "name": "stdout",
                "text": [
                  "Video available at https://www.bilibili.com/video/BV11L411H7pr\n"
                ]
              },
              {
                "output_type": "display_data",
                "data": {
                  "text/plain": "<__main__.BiliVideo at 0x7f2ee5547590>",
                  "text/html": "\n        <iframe\n            width=\"854\"\n            height=\"480\"\n            src=\"https://player.bilibili.com/player.html?bvid=BV11L411H7pr&page=1?fs=1\"\n            frameborder=\"0\"\n            allowfullscreen\n        ></iframe>\n        "
                },
                "metadata": {}
              }
            ]
          }
        },
        "3c4c85b5e6ba4378bb44f6d8520fdfa6": {
          "model_module": "@jupyter-widgets/base",
          "model_name": "LayoutModel",
          "model_module_version": "1.2.0",
          "state": {
            "_model_module": "@jupyter-widgets/base",
            "_model_module_version": "1.2.0",
            "_model_name": "LayoutModel",
            "_view_count": null,
            "_view_module": "@jupyter-widgets/base",
            "_view_module_version": "1.2.0",
            "_view_name": "LayoutView",
            "align_content": null,
            "align_items": null,
            "align_self": null,
            "border": null,
            "bottom": null,
            "display": null,
            "flex": null,
            "flex_flow": null,
            "grid_area": null,
            "grid_auto_columns": null,
            "grid_auto_flow": null,
            "grid_auto_rows": null,
            "grid_column": null,
            "grid_gap": null,
            "grid_row": null,
            "grid_template_areas": null,
            "grid_template_columns": null,
            "grid_template_rows": null,
            "height": null,
            "justify_content": null,
            "justify_items": null,
            "left": null,
            "margin": null,
            "max_height": null,
            "max_width": null,
            "min_height": null,
            "min_width": null,
            "object_fit": null,
            "object_position": null,
            "order": null,
            "overflow": null,
            "overflow_x": null,
            "overflow_y": null,
            "padding": null,
            "right": null,
            "top": null,
            "visibility": null,
            "width": null
          }
        },
        "0c96c154290f41dda4f50fb12be2250e": {
          "model_module": "@jupyter-widgets/base",
          "model_name": "LayoutModel",
          "model_module_version": "1.2.0",
          "state": {
            "_model_module": "@jupyter-widgets/base",
            "_model_module_version": "1.2.0",
            "_model_name": "LayoutModel",
            "_view_count": null,
            "_view_module": "@jupyter-widgets/base",
            "_view_module_version": "1.2.0",
            "_view_name": "LayoutView",
            "align_content": null,
            "align_items": null,
            "align_self": null,
            "border": null,
            "bottom": null,
            "display": null,
            "flex": null,
            "flex_flow": null,
            "grid_area": null,
            "grid_auto_columns": null,
            "grid_auto_flow": null,
            "grid_auto_rows": null,
            "grid_column": null,
            "grid_gap": null,
            "grid_row": null,
            "grid_template_areas": null,
            "grid_template_columns": null,
            "grid_template_rows": null,
            "height": null,
            "justify_content": null,
            "justify_items": null,
            "left": null,
            "margin": null,
            "max_height": null,
            "max_width": null,
            "min_height": null,
            "min_width": null,
            "object_fit": null,
            "object_position": null,
            "order": null,
            "overflow": null,
            "overflow_x": null,
            "overflow_y": null,
            "padding": null,
            "right": null,
            "top": null,
            "visibility": null,
            "width": null
          }
        },
        "c9e56da51f3143d5a34dd271ae579760": {
          "model_module": "@jupyter-widgets/base",
          "model_name": "LayoutModel",
          "model_module_version": "1.2.0",
          "state": {
            "_model_module": "@jupyter-widgets/base",
            "_model_module_version": "1.2.0",
            "_model_name": "LayoutModel",
            "_view_count": null,
            "_view_module": "@jupyter-widgets/base",
            "_view_module_version": "1.2.0",
            "_view_name": "LayoutView",
            "align_content": null,
            "align_items": null,
            "align_self": null,
            "border": null,
            "bottom": null,
            "display": null,
            "flex": null,
            "flex_flow": null,
            "grid_area": null,
            "grid_auto_columns": null,
            "grid_auto_flow": null,
            "grid_auto_rows": null,
            "grid_column": null,
            "grid_gap": null,
            "grid_row": null,
            "grid_template_areas": null,
            "grid_template_columns": null,
            "grid_template_rows": null,
            "height": null,
            "justify_content": null,
            "justify_items": null,
            "left": null,
            "margin": null,
            "max_height": null,
            "max_width": null,
            "min_height": null,
            "min_width": null,
            "object_fit": null,
            "object_position": null,
            "order": null,
            "overflow": null,
            "overflow_x": null,
            "overflow_y": null,
            "padding": null,
            "right": null,
            "top": null,
            "visibility": null,
            "width": null
          }
        },
        "630316e2084b4bedb54a9b0172343389": {
          "model_module": "@jupyter-widgets/controls",
          "model_name": "TabModel",
          "model_module_version": "1.5.0",
          "state": {
            "_dom_classes": [],
            "_model_module": "@jupyter-widgets/controls",
            "_model_module_version": "1.5.0",
            "_model_name": "TabModel",
            "_titles": {
              "0": "Youtube",
              "1": "Bilibili"
            },
            "_view_count": null,
            "_view_module": "@jupyter-widgets/controls",
            "_view_module_version": "1.5.0",
            "_view_name": "TabView",
            "box_style": "",
            "children": [
              "IPY_MODEL_3fdb6fd4c89b4cfea2a7a82948c50af0",
              "IPY_MODEL_f55d142181ed4211813e8119651f94b9"
            ],
            "layout": "IPY_MODEL_0662cca4f6594dd5ad61483af9bf3861",
            "selected_index": 0
          }
        },
        "3fdb6fd4c89b4cfea2a7a82948c50af0": {
          "model_module": "@jupyter-widgets/output",
          "model_name": "OutputModel",
          "model_module_version": "1.0.0",
          "state": {
            "_dom_classes": [],
            "_model_module": "@jupyter-widgets/output",
            "_model_module_version": "1.0.0",
            "_model_name": "OutputModel",
            "_view_count": null,
            "_view_module": "@jupyter-widgets/output",
            "_view_module_version": "1.0.0",
            "_view_name": "OutputView",
            "layout": "IPY_MODEL_f3fdd50e3d60483da1fc4d6bb21b155e",
            "msg_id": "",
            "outputs": [
              {
                "output_type": "stream",
                "name": "stdout",
                "text": [
                  "Video available at https://youtube.com/watch?v=7nUjFG3N04I\n"
                ]
              },
              {
                "output_type": "display_data",
                "data": {
                  "text/plain": "<IPython.lib.display.YouTubeVideo at 0x7f2eebd5de10>",
                  "text/html": "\n        <iframe\n            width=\"854\"\n            height=\"480\"\n            src=\"https://www.youtube.com/embed/7nUjFG3N04I?fs=1&rel=0\"\n            frameborder=\"0\"\n            allowfullscreen\n        ></iframe>\n        ",
                  "image/jpeg": "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\n"
                },
                "metadata": {}
              }
            ]
          }
        },
        "f55d142181ed4211813e8119651f94b9": {
          "model_module": "@jupyter-widgets/output",
          "model_name": "OutputModel",
          "model_module_version": "1.0.0",
          "state": {
            "_dom_classes": [],
            "_model_module": "@jupyter-widgets/output",
            "_model_module_version": "1.0.0",
            "_model_name": "OutputModel",
            "_view_count": null,
            "_view_module": "@jupyter-widgets/output",
            "_view_module_version": "1.0.0",
            "_view_name": "OutputView",
            "layout": "IPY_MODEL_aace6fc42bdf44058ece7a401794a222",
            "msg_id": "",
            "outputs": [
              {
                "output_type": "stream",
                "name": "stdout",
                "text": [
                  "Video available at https://www.bilibili.com/video/BV1Uo4y1D7Nj\n"
                ]
              },
              {
                "output_type": "display_data",
                "data": {
                  "text/plain": "<__main__.BiliVideo at 0x7f2ee54f7d90>",
                  "text/html": "\n        <iframe\n            width=\"854\"\n            height=\"480\"\n            src=\"https://player.bilibili.com/player.html?bvid=BV1Uo4y1D7Nj&page=1?fs=1\"\n            frameborder=\"0\"\n            allowfullscreen\n        ></iframe>\n        "
                },
                "metadata": {}
              }
            ]
          }
        },
        "0662cca4f6594dd5ad61483af9bf3861": {
          "model_module": "@jupyter-widgets/base",
          "model_name": "LayoutModel",
          "model_module_version": "1.2.0",
          "state": {
            "_model_module": "@jupyter-widgets/base",
            "_model_module_version": "1.2.0",
            "_model_name": "LayoutModel",
            "_view_count": null,
            "_view_module": "@jupyter-widgets/base",
            "_view_module_version": "1.2.0",
            "_view_name": "LayoutView",
            "align_content": null,
            "align_items": null,
            "align_self": null,
            "border": null,
            "bottom": null,
            "display": null,
            "flex": null,
            "flex_flow": null,
            "grid_area": null,
            "grid_auto_columns": null,
            "grid_auto_flow": null,
            "grid_auto_rows": null,
            "grid_column": null,
            "grid_gap": null,
            "grid_row": null,
            "grid_template_areas": null,
            "grid_template_columns": null,
            "grid_template_rows": null,
            "height": null,
            "justify_content": null,
            "justify_items": null,
            "left": null,
            "margin": null,
            "max_height": null,
            "max_width": null,
            "min_height": null,
            "min_width": null,
            "object_fit": null,
            "object_position": null,
            "order": null,
            "overflow": null,
            "overflow_x": null,
            "overflow_y": null,
            "padding": null,
            "right": null,
            "top": null,
            "visibility": null,
            "width": null
          }
        },
        "f3fdd50e3d60483da1fc4d6bb21b155e": {
          "model_module": "@jupyter-widgets/base",
          "model_name": "LayoutModel",
          "model_module_version": "1.2.0",
          "state": {
            "_model_module": "@jupyter-widgets/base",
            "_model_module_version": "1.2.0",
            "_model_name": "LayoutModel",
            "_view_count": null,
            "_view_module": "@jupyter-widgets/base",
            "_view_module_version": "1.2.0",
            "_view_name": "LayoutView",
            "align_content": null,
            "align_items": null,
            "align_self": null,
            "border": null,
            "bottom": null,
            "display": null,
            "flex": null,
            "flex_flow": null,
            "grid_area": null,
            "grid_auto_columns": null,
            "grid_auto_flow": null,
            "grid_auto_rows": null,
            "grid_column": null,
            "grid_gap": null,
            "grid_row": null,
            "grid_template_areas": null,
            "grid_template_columns": null,
            "grid_template_rows": null,
            "height": null,
            "justify_content": null,
            "justify_items": null,
            "left": null,
            "margin": null,
            "max_height": null,
            "max_width": null,
            "min_height": null,
            "min_width": null,
            "object_fit": null,
            "object_position": null,
            "order": null,
            "overflow": null,
            "overflow_x": null,
            "overflow_y": null,
            "padding": null,
            "right": null,
            "top": null,
            "visibility": null,
            "width": null
          }
        },
        "aace6fc42bdf44058ece7a401794a222": {
          "model_module": "@jupyter-widgets/base",
          "model_name": "LayoutModel",
          "model_module_version": "1.2.0",
          "state": {
            "_model_module": "@jupyter-widgets/base",
            "_model_module_version": "1.2.0",
            "_model_name": "LayoutModel",
            "_view_count": null,
            "_view_module": "@jupyter-widgets/base",
            "_view_module_version": "1.2.0",
            "_view_name": "LayoutView",
            "align_content": null,
            "align_items": null,
            "align_self": null,
            "border": null,
            "bottom": null,
            "display": null,
            "flex": null,
            "flex_flow": null,
            "grid_area": null,
            "grid_auto_columns": null,
            "grid_auto_flow": null,
            "grid_auto_rows": null,
            "grid_column": null,
            "grid_gap": null,
            "grid_row": null,
            "grid_template_areas": null,
            "grid_template_columns": null,
            "grid_template_rows": null,
            "height": null,
            "justify_content": null,
            "justify_items": null,
            "left": null,
            "margin": null,
            "max_height": null,
            "max_width": null,
            "min_height": null,
            "min_width": null,
            "object_fit": null,
            "object_position": null,
            "order": null,
            "overflow": null,
            "overflow_x": null,
            "overflow_y": null,
            "padding": null,
            "right": null,
            "top": null,
            "visibility": null,
            "width": null
          }
        },
        "52f9e6df01614fd6b04a5579fa0a679c": {
          "model_module": "@jupyter-widgets/controls",
          "model_name": "TabModel",
          "model_module_version": "1.5.0",
          "state": {
            "_dom_classes": [],
            "_model_module": "@jupyter-widgets/controls",
            "_model_module_version": "1.5.0",
            "_model_name": "TabModel",
            "_titles": {
              "0": "Youtube",
              "1": "Bilibili"
            },
            "_view_count": null,
            "_view_module": "@jupyter-widgets/controls",
            "_view_module_version": "1.5.0",
            "_view_name": "TabView",
            "box_style": "",
            "children": [
              "IPY_MODEL_08cf01faf0cc4cdea49eca37d56718d9",
              "IPY_MODEL_9f5693c1ad754717ba509d47fd741808"
            ],
            "layout": "IPY_MODEL_c61d13636ecf42e38f20d27032987b08",
            "selected_index": 0
          }
        },
        "08cf01faf0cc4cdea49eca37d56718d9": {
          "model_module": "@jupyter-widgets/output",
          "model_name": "OutputModel",
          "model_module_version": "1.0.0",
          "state": {
            "_dom_classes": [],
            "_model_module": "@jupyter-widgets/output",
            "_model_module_version": "1.0.0",
            "_model_name": "OutputModel",
            "_view_count": null,
            "_view_module": "@jupyter-widgets/output",
            "_view_module_version": "1.0.0",
            "_view_name": "OutputView",
            "layout": "IPY_MODEL_1f1e36b5d94149d4934fec115956c2b9",
            "msg_id": "",
            "outputs": [
              {
                "output_type": "stream",
                "name": "stdout",
                "text": [
                  "Video available at https://youtube.com/watch?v=asZoedN31VE\n"
                ]
              },
              {
                "output_type": "display_data",
                "data": {
                  "text/plain": "<IPython.lib.display.YouTubeVideo at 0x7f2eebd5d610>",
                  "text/html": "\n        <iframe\n            width=\"854\"\n            height=\"480\"\n            src=\"https://www.youtube.com/embed/asZoedN31VE?fs=1&rel=0\"\n            frameborder=\"0\"\n            allowfullscreen\n        ></iframe>\n        ",
                  "image/jpeg": "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\n"
                },
                "metadata": {}
              }
            ]
          }
        },
        "9f5693c1ad754717ba509d47fd741808": {
          "model_module": "@jupyter-widgets/output",
          "model_name": "OutputModel",
          "model_module_version": "1.0.0",
          "state": {
            "_dom_classes": [],
            "_model_module": "@jupyter-widgets/output",
            "_model_module_version": "1.0.0",
            "_model_name": "OutputModel",
            "_view_count": null,
            "_view_module": "@jupyter-widgets/output",
            "_view_module_version": "1.0.0",
            "_view_name": "OutputView",
            "layout": "IPY_MODEL_dba33e464bf544a0b9a36cac272cea78",
            "msg_id": "",
            "outputs": [
              {
                "output_type": "stream",
                "name": "stdout",
                "text": [
                  "Video available at https://www.bilibili.com/video/BV1KU4y1X7bx\n"
                ]
              },
              {
                "output_type": "display_data",
                "data": {
                  "text/plain": "<__main__.BiliVideo at 0x7f2eebd5d350>",
                  "text/html": "\n        <iframe\n            width=\"854\"\n            height=\"480\"\n            src=\"https://player.bilibili.com/player.html?bvid=BV1KU4y1X7bx&page=1?fs=1\"\n            frameborder=\"0\"\n            allowfullscreen\n        ></iframe>\n        "
                },
                "metadata": {}
              }
            ]
          }
        },
        "c61d13636ecf42e38f20d27032987b08": {
          "model_module": "@jupyter-widgets/base",
          "model_name": "LayoutModel",
          "model_module_version": "1.2.0",
          "state": {
            "_model_module": "@jupyter-widgets/base",
            "_model_module_version": "1.2.0",
            "_model_name": "LayoutModel",
            "_view_count": null,
            "_view_module": "@jupyter-widgets/base",
            "_view_module_version": "1.2.0",
            "_view_name": "LayoutView",
            "align_content": null,
            "align_items": null,
            "align_self": null,
            "border": null,
            "bottom": null,
            "display": null,
            "flex": null,
            "flex_flow": null,
            "grid_area": null,
            "grid_auto_columns": null,
            "grid_auto_flow": null,
            "grid_auto_rows": null,
            "grid_column": null,
            "grid_gap": null,
            "grid_row": null,
            "grid_template_areas": null,
            "grid_template_columns": null,
            "grid_template_rows": null,
            "height": null,
            "justify_content": null,
            "justify_items": null,
            "left": null,
            "margin": null,
            "max_height": null,
            "max_width": null,
            "min_height": null,
            "min_width": null,
            "object_fit": null,
            "object_position": null,
            "order": null,
            "overflow": null,
            "overflow_x": null,
            "overflow_y": null,
            "padding": null,
            "right": null,
            "top": null,
            "visibility": null,
            "width": null
          }
        },
        "1f1e36b5d94149d4934fec115956c2b9": {
          "model_module": "@jupyter-widgets/base",
          "model_name": "LayoutModel",
          "model_module_version": "1.2.0",
          "state": {
            "_model_module": "@jupyter-widgets/base",
            "_model_module_version": "1.2.0",
            "_model_name": "LayoutModel",
            "_view_count": null,
            "_view_module": "@jupyter-widgets/base",
            "_view_module_version": "1.2.0",
            "_view_name": "LayoutView",
            "align_content": null,
            "align_items": null,
            "align_self": null,
            "border": null,
            "bottom": null,
            "display": null,
            "flex": null,
            "flex_flow": null,
            "grid_area": null,
            "grid_auto_columns": null,
            "grid_auto_flow": null,
            "grid_auto_rows": null,
            "grid_column": null,
            "grid_gap": null,
            "grid_row": null,
            "grid_template_areas": null,
            "grid_template_columns": null,
            "grid_template_rows": null,
            "height": null,
            "justify_content": null,
            "justify_items": null,
            "left": null,
            "margin": null,
            "max_height": null,
            "max_width": null,
            "min_height": null,
            "min_width": null,
            "object_fit": null,
            "object_position": null,
            "order": null,
            "overflow": null,
            "overflow_x": null,
            "overflow_y": null,
            "padding": null,
            "right": null,
            "top": null,
            "visibility": null,
            "width": null
          }
        },
        "dba33e464bf544a0b9a36cac272cea78": {
          "model_module": "@jupyter-widgets/base",
          "model_name": "LayoutModel",
          "model_module_version": "1.2.0",
          "state": {
            "_model_module": "@jupyter-widgets/base",
            "_model_module_version": "1.2.0",
            "_model_name": "LayoutModel",
            "_view_count": null,
            "_view_module": "@jupyter-widgets/base",
            "_view_module_version": "1.2.0",
            "_view_name": "LayoutView",
            "align_content": null,
            "align_items": null,
            "align_self": null,
            "border": null,
            "bottom": null,
            "display": null,
            "flex": null,
            "flex_flow": null,
            "grid_area": null,
            "grid_auto_columns": null,
            "grid_auto_flow": null,
            "grid_auto_rows": null,
            "grid_column": null,
            "grid_gap": null,
            "grid_row": null,
            "grid_template_areas": null,
            "grid_template_columns": null,
            "grid_template_rows": null,
            "height": null,
            "justify_content": null,
            "justify_items": null,
            "left": null,
            "margin": null,
            "max_height": null,
            "max_width": null,
            "min_height": null,
            "min_width": null,
            "object_fit": null,
            "object_position": null,
            "order": null,
            "overflow": null,
            "overflow_x": null,
            "overflow_y": null,
            "padding": null,
            "right": null,
            "top": null,
            "visibility": null,
            "width": null
          }
        }
      }
    }
  },
  "nbformat": 4,
  "nbformat_minor": 0
}