{
  "cells": [
    {
      "cell_type": "markdown",
      "metadata": {
        "id": "view-in-github",
        "colab_type": "text"
      },
      "source": [
        "<a href=\"https://colab.research.google.com/github/NeuromatchAcademy/course-content-dl/blob/fixes/tutorials/W2D4_GenerativeModels/W2D4_BonusLecture.ipynb\" target=\"_parent\"><img src=\"https://colab.research.google.com/assets/colab-badge.svg\" alt=\"Open In Colab\"/></a>"
      ]
    },
    {
      "cell_type": "markdown",
      "metadata": {
        "execution": {},
        "id": "6kUKxN01gE-T"
      },
      "source": [
        "# Bonus Lecture: Geoffrey Hinton"
      ]
    },
    {
      "cell_type": "markdown",
      "metadata": {
        "execution": {},
        "id": "LMtsvfwBgE-W"
      },
      "source": [
        "<p align='center'><img src='https://github.com/NeuromatchAcademy/widgets/blob/master/sponsors.png?raw=True'/></p>"
      ]
    },
    {
      "cell_type": "code",
      "execution_count": 1,
      "metadata": {
        "cellView": "form",
        "execution": {},
        "id": "GgpGokHzgE-W",
        "outputId": "b9af357b-4f6f-4beb-c241-f8fbd36c795e",
        "colab": {
          "base_uri": "https://localhost:8080/",
          "height": 581,
          "referenced_widgets": [
            "379d15b628ec4b17a648051d310f3818",
            "b596a2d706ed4f428756e0fa785e19de",
            "93ed7ecefb6040338dc8d6db6a2cc4d1",
            "786096f1f60248a08539282ed32ee023",
            "eb377fa81d60456099c54f7bb9ad5eb5",
            "c3cc57887ec8480caef1ebdfeb1f4524"
          ]
        }
      },
      "outputs": [
        {
          "output_type": "display_data",
          "data": {
            "text/plain": [
              "Tab(children=(Output(), Output()), _titles={'0': 'Youtube', '1': 'Bilibili'})"
            ],
            "application/vnd.jupyter.widget-view+json": {
              "version_major": 2,
              "version_minor": 0,
              "model_id": "379d15b628ec4b17a648051d310f3818"
            }
          },
          "metadata": {}
        }
      ],
      "source": [
        "# @title Video: Distillation and the brain, Geoffrey Hinton\n",
        "\n",
        "from ipywidgets import widgets\n",
        "out2 = widgets.Output()\n",
        "with out2:\n",
        "  from IPython.display import IFrame\n",
        "  class BiliVideo(IFrame):\n",
        "    def __init__(self, id, page=1, width=400, height=300, **kwargs):\n",
        "      self.id=id\n",
        "      src = \"https://player.bilibili.com/player.html?bvid={0}&page={1}\".format(id, page)\n",
        "      super(BiliVideo, self).__init__(src, width, height, **kwargs)\n",
        "\n",
        "  video = BiliVideo(id=f\"BV1KU4y1X7bx\", width=854, height=480, fs=1)\n",
        "  print(\"Video available at https://www.bilibili.com/video/{0}\".format(video.id))\n",
        "  display(video)\n",
        "\n",
        "out1 = widgets.Output()\n",
        "with out1:\n",
        "  from IPython.display import YouTubeVideo\n",
        "  video = YouTubeVideo(id=f\"asZoedN31VE\", width=854, height=480, fs=1, rel=0)\n",
        "  print(\"Video available at https://youtube.com/watch?v=\" + video.id)\n",
        "  display(video)\n",
        "\n",
        "out = widgets.Tab([out1, out2])\n",
        "out.set_title(0, 'Youtube')\n",
        "out.set_title(1, 'Bilibili')\n",
        "\n",
        "display(out)"
      ]
    },
    {
      "cell_type": "code",
      "execution_count": 2,
      "metadata": {
        "cellView": "form",
        "execution": {},
        "id": "S0euEu8bgE-Y",
        "outputId": "13414e7a-cdf5-4616-9d38-4f804a0c2998",
        "colab": {
          "base_uri": "https://localhost:8080/",
          "height": 501
        }
      },
      "outputs": [
        {
          "output_type": "execute_result",
          "data": {
            "text/plain": [
              "<IPython.lib.display.IFrame at 0x7f8741977bd0>"
            ],
            "text/html": [
              "\n",
              "        <iframe\n",
              "            width=\"854\"\n",
              "            height=\"480\"\n",
              "            src=\"https://mfr.ca-1.osf.io/render?url=https://osf.io/download/gx84r/?direct%26mode=render\"\n",
              "            frameborder=\"0\"\n",
              "            allowfullscreen\n",
              "        ></iframe>\n",
              "        "
            ]
          },
          "metadata": {},
          "execution_count": 2
        }
      ],
      "source": [
        "# @title Slides\n",
        "from IPython.display import IFrame\n",
        "IFrame(src=\"https://mfr.ca-1.osf.io/render?url=https://osf.io/download/gx84r/?direct%26mode=render\", width=854, height=480)"
      ]
    },
    {
      "cell_type": "markdown",
      "metadata": {
        "execution": {},
        "id": "6Txo3opNgE-Y"
      },
      "source": [
        "These are the slides for the video in this bonus lecture. If you want to locally dowload the slides, click [here](https://osf.io/download/gx84r/)."
      ]
    }
  ],
  "metadata": {
    "colab": {
      "collapsed_sections": [],
      "name": "W2D4_BonusLecture",
      "provenance": [],
      "toc_visible": true,
      "include_colab_link": true
    },
    "kernel": {
      "display_name": "Python 3",
      "language": "python",
      "name": "python3"
    },
    "kernelspec": {
      "display_name": "Python 3",
      "name": "python3"
    },
    "language_info": {
      "name": "python"
    },
    "widgets": {
      "application/vnd.jupyter.widget-state+json": {
        "379d15b628ec4b17a648051d310f3818": {
          "model_module": "@jupyter-widgets/controls",
          "model_name": "TabModel",
          "model_module_version": "1.5.0",
          "state": {
            "_dom_classes": [],
            "_model_module": "@jupyter-widgets/controls",
            "_model_module_version": "1.5.0",
            "_model_name": "TabModel",
            "_titles": {
              "0": "Youtube",
              "1": "Bilibili"
            },
            "_view_count": null,
            "_view_module": "@jupyter-widgets/controls",
            "_view_module_version": "1.5.0",
            "_view_name": "TabView",
            "box_style": "",
            "children": [
              "IPY_MODEL_b596a2d706ed4f428756e0fa785e19de",
              "IPY_MODEL_93ed7ecefb6040338dc8d6db6a2cc4d1"
            ],
            "layout": "IPY_MODEL_786096f1f60248a08539282ed32ee023",
            "selected_index": 0
          }
        },
        "b596a2d706ed4f428756e0fa785e19de": {
          "model_module": "@jupyter-widgets/output",
          "model_name": "OutputModel",
          "model_module_version": "1.0.0",
          "state": {
            "_dom_classes": [],
            "_model_module": "@jupyter-widgets/output",
            "_model_module_version": "1.0.0",
            "_model_name": "OutputModel",
            "_view_count": null,
            "_view_module": "@jupyter-widgets/output",
            "_view_module_version": "1.0.0",
            "_view_name": "OutputView",
            "layout": "IPY_MODEL_eb377fa81d60456099c54f7bb9ad5eb5",
            "msg_id": "",
            "outputs": [
              {
                "output_type": "stream",
                "name": "stdout",
                "text": [
                  "Video available at https://youtube.com/watch?v=asZoedN31VE\n"
                ]
              },
              {
                "output_type": "display_data",
                "data": {
                  "text/plain": "<IPython.lib.display.YouTubeVideo at 0x7f8740b25c10>",
                  "text/html": "\n        <iframe\n            width=\"854\"\n            height=\"480\"\n            src=\"https://www.youtube.com/embed/asZoedN31VE?fs=1&rel=0\"\n            frameborder=\"0\"\n            allowfullscreen\n        ></iframe>\n        ",
                  "image/jpeg": "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\n"
                },
                "metadata": {}
              }
            ]
          }
        },
        "93ed7ecefb6040338dc8d6db6a2cc4d1": {
          "model_module": "@jupyter-widgets/output",
          "model_name": "OutputModel",
          "model_module_version": "1.0.0",
          "state": {
            "_dom_classes": [],
            "_model_module": "@jupyter-widgets/output",
            "_model_module_version": "1.0.0",
            "_model_name": "OutputModel",
            "_view_count": null,
            "_view_module": "@jupyter-widgets/output",
            "_view_module_version": "1.0.0",
            "_view_name": "OutputView",
            "layout": "IPY_MODEL_c3cc57887ec8480caef1ebdfeb1f4524",
            "msg_id": "",
            "outputs": [
              {
                "output_type": "stream",
                "name": "stdout",
                "text": [
                  "Video available at https://www.bilibili.com/video/BV1KU4y1X7bx\n"
                ]
              },
              {
                "output_type": "display_data",
                "data": {
                  "text/plain": "<__main__.BiliVideo at 0x7f8740b256d0>",
                  "text/html": "\n        <iframe\n            width=\"854\"\n            height=\"480\"\n            src=\"https://player.bilibili.com/player.html?bvid=BV1KU4y1X7bx&page=1?fs=1\"\n            frameborder=\"0\"\n            allowfullscreen\n        ></iframe>\n        "
                },
                "metadata": {}
              }
            ]
          }
        },
        "786096f1f60248a08539282ed32ee023": {
          "model_module": "@jupyter-widgets/base",
          "model_name": "LayoutModel",
          "model_module_version": "1.2.0",
          "state": {
            "_model_module": "@jupyter-widgets/base",
            "_model_module_version": "1.2.0",
            "_model_name": "LayoutModel",
            "_view_count": null,
            "_view_module": "@jupyter-widgets/base",
            "_view_module_version": "1.2.0",
            "_view_name": "LayoutView",
            "align_content": null,
            "align_items": null,
            "align_self": null,
            "border": null,
            "bottom": null,
            "display": null,
            "flex": null,
            "flex_flow": null,
            "grid_area": null,
            "grid_auto_columns": null,
            "grid_auto_flow": null,
            "grid_auto_rows": null,
            "grid_column": null,
            "grid_gap": null,
            "grid_row": null,
            "grid_template_areas": null,
            "grid_template_columns": null,
            "grid_template_rows": null,
            "height": null,
            "justify_content": null,
            "justify_items": null,
            "left": null,
            "margin": null,
            "max_height": null,
            "max_width": null,
            "min_height": null,
            "min_width": null,
            "object_fit": null,
            "object_position": null,
            "order": null,
            "overflow": null,
            "overflow_x": null,
            "overflow_y": null,
            "padding": null,
            "right": null,
            "top": null,
            "visibility": null,
            "width": null
          }
        },
        "eb377fa81d60456099c54f7bb9ad5eb5": {
          "model_module": "@jupyter-widgets/base",
          "model_name": "LayoutModel",
          "model_module_version": "1.2.0",
          "state": {
            "_model_module": "@jupyter-widgets/base",
            "_model_module_version": "1.2.0",
            "_model_name": "LayoutModel",
            "_view_count": null,
            "_view_module": "@jupyter-widgets/base",
            "_view_module_version": "1.2.0",
            "_view_name": "LayoutView",
            "align_content": null,
            "align_items": null,
            "align_self": null,
            "border": null,
            "bottom": null,
            "display": null,
            "flex": null,
            "flex_flow": null,
            "grid_area": null,
            "grid_auto_columns": null,
            "grid_auto_flow": null,
            "grid_auto_rows": null,
            "grid_column": null,
            "grid_gap": null,
            "grid_row": null,
            "grid_template_areas": null,
            "grid_template_columns": null,
            "grid_template_rows": null,
            "height": null,
            "justify_content": null,
            "justify_items": null,
            "left": null,
            "margin": null,
            "max_height": null,
            "max_width": null,
            "min_height": null,
            "min_width": null,
            "object_fit": null,
            "object_position": null,
            "order": null,
            "overflow": null,
            "overflow_x": null,
            "overflow_y": null,
            "padding": null,
            "right": null,
            "top": null,
            "visibility": null,
            "width": null
          }
        },
        "c3cc57887ec8480caef1ebdfeb1f4524": {
          "model_module": "@jupyter-widgets/base",
          "model_name": "LayoutModel",
          "model_module_version": "1.2.0",
          "state": {
            "_model_module": "@jupyter-widgets/base",
            "_model_module_version": "1.2.0",
            "_model_name": "LayoutModel",
            "_view_count": null,
            "_view_module": "@jupyter-widgets/base",
            "_view_module_version": "1.2.0",
            "_view_name": "LayoutView",
            "align_content": null,
            "align_items": null,
            "align_self": null,
            "border": null,
            "bottom": null,
            "display": null,
            "flex": null,
            "flex_flow": null,
            "grid_area": null,
            "grid_auto_columns": null,
            "grid_auto_flow": null,
            "grid_auto_rows": null,
            "grid_column": null,
            "grid_gap": null,
            "grid_row": null,
            "grid_template_areas": null,
            "grid_template_columns": null,
            "grid_template_rows": null,
            "height": null,
            "justify_content": null,
            "justify_items": null,
            "left": null,
            "margin": null,
            "max_height": null,
            "max_width": null,
            "min_height": null,
            "min_width": null,
            "object_fit": null,
            "object_position": null,
            "order": null,
            "overflow": null,
            "overflow_x": null,
            "overflow_y": null,
            "padding": null,
            "right": null,
            "top": null,
            "visibility": null,
            "width": null
          }
        }
      }
    }
  },
  "nbformat": 4,
  "nbformat_minor": 0
}