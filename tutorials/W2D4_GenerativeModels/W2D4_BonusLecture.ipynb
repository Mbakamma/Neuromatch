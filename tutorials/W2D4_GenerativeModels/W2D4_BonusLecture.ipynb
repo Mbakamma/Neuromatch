{
  "nbformat": 4,
  "nbformat_minor": 0,
  "metadata": {
    "colab": {
      "name": "W2D4_BonusLecture.ipynb",
      "provenance": [],
      "authorship_tag": "ABX9TyNSZkEn94T4EUUVdoMtSGoG",
      "include_colab_link": true
    },
    "kernelspec": {
      "name": "python3",
      "display_name": "Python 3"
    },
    "language_info": {
      "name": "python"
    },
    "widgets": {
      "application/vnd.jupyter.widget-state+json": {
        "48495b3531ec41dcbad4f97149cf7fd5": {
          "model_module": "@jupyter-widgets/controls",
          "model_name": "TabModel",
          "model_module_version": "1.5.0",
          "state": {
            "_dom_classes": [],
            "_model_module": "@jupyter-widgets/controls",
            "_model_module_version": "1.5.0",
            "_model_name": "TabModel",
            "_titles": {
              "0": "Youtube",
              "1": "Bilibili"
            },
            "_view_count": null,
            "_view_module": "@jupyter-widgets/controls",
            "_view_module_version": "1.5.0",
            "_view_name": "TabView",
            "box_style": "",
            "children": [
              "IPY_MODEL_a0ad9690ae5a472a980a3a63a07fccd3",
              "IPY_MODEL_a467f656219748c3be2e154ad8f9f634"
            ],
            "layout": "IPY_MODEL_c4f25e53486a4e4da14a7e28d7f23024",
            "selected_index": 0
          }
        },
        "a0ad9690ae5a472a980a3a63a07fccd3": {
          "model_module": "@jupyter-widgets/output",
          "model_name": "OutputModel",
          "model_module_version": "1.0.0",
          "state": {
            "_dom_classes": [],
            "_model_module": "@jupyter-widgets/output",
            "_model_module_version": "1.0.0",
            "_model_name": "OutputModel",
            "_view_count": null,
            "_view_module": "@jupyter-widgets/output",
            "_view_module_version": "1.0.0",
            "_view_name": "OutputView",
            "layout": "IPY_MODEL_ea44a2d0d2e74e24b8a60b1bea002b7c",
            "msg_id": "",
            "outputs": [
              {
                "output_type": "stream",
                "name": "stdout",
                "text": [
                  "Video available at https://youtube.com/watch?v=asZoedN31VE\n"
                ]
              },
              {
                "output_type": "display_data",
                "data": {
                  "text/plain": "<IPython.lib.display.YouTubeVideo at 0x7f7641421fd0>",
                  "text/html": "\n        <iframe\n            width=\"854\"\n            height=\"480\"\n            src=\"https://www.youtube.com/embed/asZoedN31VE?fs=1&rel=0\"\n            frameborder=\"0\"\n            allowfullscreen\n        ></iframe>\n        ",
                  "image/jpeg": "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\n"
                },
                "metadata": {}
              }
            ]
          }
        },
        "a467f656219748c3be2e154ad8f9f634": {
          "model_module": "@jupyter-widgets/output",
          "model_name": "OutputModel",
          "model_module_version": "1.0.0",
          "state": {
            "_dom_classes": [],
            "_model_module": "@jupyter-widgets/output",
            "_model_module_version": "1.0.0",
            "_model_name": "OutputModel",
            "_view_count": null,
            "_view_module": "@jupyter-widgets/output",
            "_view_module_version": "1.0.0",
            "_view_name": "OutputView",
            "layout": "IPY_MODEL_5c08f57522544bc88ea0d557ec9f8898",
            "msg_id": "",
            "outputs": [
              {
                "output_type": "stream",
                "name": "stdout",
                "text": [
                  "Video available at https://www.bilibili.com/video/BV1KU4y1X7bx\n"
                ]
              },
              {
                "output_type": "display_data",
                "data": {
                  "text/plain": "<__main__.BiliVideo at 0x7f7641421ed0>",
                  "text/html": "\n        <iframe\n            width=\"854\"\n            height=\"480\"\n            src=\"https://player.bilibili.com/player.html?bvid=BV1KU4y1X7bx&page=1?fs=1\"\n            frameborder=\"0\"\n            allowfullscreen\n        ></iframe>\n        "
                },
                "metadata": {}
              }
            ]
          }
        },
        "c4f25e53486a4e4da14a7e28d7f23024": {
          "model_module": "@jupyter-widgets/base",
          "model_name": "LayoutModel",
          "model_module_version": "1.2.0",
          "state": {
            "_model_module": "@jupyter-widgets/base",
            "_model_module_version": "1.2.0",
            "_model_name": "LayoutModel",
            "_view_count": null,
            "_view_module": "@jupyter-widgets/base",
            "_view_module_version": "1.2.0",
            "_view_name": "LayoutView",
            "align_content": null,
            "align_items": null,
            "align_self": null,
            "border": null,
            "bottom": null,
            "display": null,
            "flex": null,
            "flex_flow": null,
            "grid_area": null,
            "grid_auto_columns": null,
            "grid_auto_flow": null,
            "grid_auto_rows": null,
            "grid_column": null,
            "grid_gap": null,
            "grid_row": null,
            "grid_template_areas": null,
            "grid_template_columns": null,
            "grid_template_rows": null,
            "height": null,
            "justify_content": null,
            "justify_items": null,
            "left": null,
            "margin": null,
            "max_height": null,
            "max_width": null,
            "min_height": null,
            "min_width": null,
            "object_fit": null,
            "object_position": null,
            "order": null,
            "overflow": null,
            "overflow_x": null,
            "overflow_y": null,
            "padding": null,
            "right": null,
            "top": null,
            "visibility": null,
            "width": null
          }
        },
        "ea44a2d0d2e74e24b8a60b1bea002b7c": {
          "model_module": "@jupyter-widgets/base",
          "model_name": "LayoutModel",
          "model_module_version": "1.2.0",
          "state": {
            "_model_module": "@jupyter-widgets/base",
            "_model_module_version": "1.2.0",
            "_model_name": "LayoutModel",
            "_view_count": null,
            "_view_module": "@jupyter-widgets/base",
            "_view_module_version": "1.2.0",
            "_view_name": "LayoutView",
            "align_content": null,
            "align_items": null,
            "align_self": null,
            "border": null,
            "bottom": null,
            "display": null,
            "flex": null,
            "flex_flow": null,
            "grid_area": null,
            "grid_auto_columns": null,
            "grid_auto_flow": null,
            "grid_auto_rows": null,
            "grid_column": null,
            "grid_gap": null,
            "grid_row": null,
            "grid_template_areas": null,
            "grid_template_columns": null,
            "grid_template_rows": null,
            "height": null,
            "justify_content": null,
            "justify_items": null,
            "left": null,
            "margin": null,
            "max_height": null,
            "max_width": null,
            "min_height": null,
            "min_width": null,
            "object_fit": null,
            "object_position": null,
            "order": null,
            "overflow": null,
            "overflow_x": null,
            "overflow_y": null,
            "padding": null,
            "right": null,
            "top": null,
            "visibility": null,
            "width": null
          }
        },
        "5c08f57522544bc88ea0d557ec9f8898": {
          "model_module": "@jupyter-widgets/base",
          "model_name": "LayoutModel",
          "model_module_version": "1.2.0",
          "state": {
            "_model_module": "@jupyter-widgets/base",
            "_model_module_version": "1.2.0",
            "_model_name": "LayoutModel",
            "_view_count": null,
            "_view_module": "@jupyter-widgets/base",
            "_view_module_version": "1.2.0",
            "_view_name": "LayoutView",
            "align_content": null,
            "align_items": null,
            "align_self": null,
            "border": null,
            "bottom": null,
            "display": null,
            "flex": null,
            "flex_flow": null,
            "grid_area": null,
            "grid_auto_columns": null,
            "grid_auto_flow": null,
            "grid_auto_rows": null,
            "grid_column": null,
            "grid_gap": null,
            "grid_row": null,
            "grid_template_areas": null,
            "grid_template_columns": null,
            "grid_template_rows": null,
            "height": null,
            "justify_content": null,
            "justify_items": null,
            "left": null,
            "margin": null,
            "max_height": null,
            "max_width": null,
            "min_height": null,
            "min_width": null,
            "object_fit": null,
            "object_position": null,
            "order": null,
            "overflow": null,
            "overflow_x": null,
            "overflow_y": null,
            "padding": null,
            "right": null,
            "top": null,
            "visibility": null,
            "width": null
          }
        }
      }
    }
  },
  "cells": [
    {
      "cell_type": "markdown",
      "metadata": {
        "id": "view-in-github",
        "colab_type": "text"
      },
      "source": [
        "<a href=\"https://colab.research.google.com/github/NeuromatchAcademy/course-content-dl/blob/outro_w2d4/tutorials/W2D4_GenerativeModels/W2D4_BonusLecture.ipynb\" target=\"_parent\"><img src=\"https://colab.research.google.com/assets/colab-badge.svg\" alt=\"Open In Colab\"/></a>"
      ]
    },
    {
      "cell_type": "markdown",
      "metadata": {
        "execution": {},
        "id": "61yjiacir9Zd"
      },
      "source": [
        "## Bonus Lecture"
      ]
    },
    {
      "cell_type": "markdown",
      "metadata": {
        "execution": {},
        "id": "fuNoxfgar9Zf"
      },
      "source": [
        "<p align='center'><img src='https://github.com/NeuromatchAcademy/widgets/blob/master/sponsors.png?raw=True'/></p>"
      ]
    },
    {
      "cell_type": "code",
      "execution_count": 1,
      "metadata": {
        "cellView": "form",
        "execution": {},
        "id": "6ex0XwVmr9Zh",
        "colab": {
          "base_uri": "https://localhost:8080/",
          "height": 581,
          "referenced_widgets": [
            "48495b3531ec41dcbad4f97149cf7fd5",
            "a0ad9690ae5a472a980a3a63a07fccd3",
            "a467f656219748c3be2e154ad8f9f634",
            "c4f25e53486a4e4da14a7e28d7f23024",
            "ea44a2d0d2e74e24b8a60b1bea002b7c",
            "5c08f57522544bc88ea0d557ec9f8898"
          ]
        },
        "outputId": "f180b143-77a3-44c8-9ff1-c14b44aa9074"
      },
      "outputs": [
        {
          "output_type": "display_data",
          "data": {
            "text/plain": [
              "Tab(children=(Output(), Output()), _titles={'0': 'Youtube', '1': 'Bilibili'})"
            ],
            "application/vnd.jupyter.widget-view+json": {
              "version_major": 2,
              "version_minor": 0,
              "model_id": "48495b3531ec41dcbad4f97149cf7fd5"
            }
          },
          "metadata": {}
        }
      ],
      "source": [
        "# @title Video\n",
        "from ipywidgets import widgets\n",
        "out2 = widgets.Output()\n",
        "with out2:\n",
        "  from IPython.display import IFrame\n",
        "  class BiliVideo(IFrame):\n",
        "    def __init__(self, id, page=1, width=400, height=300, **kwargs):\n",
        "      self.id=id\n",
        "      src = \"https://player.bilibili.com/player.html?bvid={0}&page={1}\".format(id, page)\n",
        "      super(BiliVideo, self).__init__(src, width, height, **kwargs)\n",
        "\n",
        "  video = BiliVideo(id=f\"BV1KU4y1X7bx\", width=854, height=480, fs=1)\n",
        "  print(\"Video available at https://www.bilibili.com/video/{0}\".format(video.id))\n",
        "  display(video)\n",
        "\n",
        "out1 = widgets.Output()\n",
        "with out1:\n",
        "  from IPython.display import YouTubeVideo\n",
        "  video = YouTubeVideo(id=f\"asZoedN31VE\", width=854, height=480, fs=1, rel=0)\n",
        "  print(\"Video available at https://youtube.com/watch?v=\" + video.id)\n",
        "  display(video)\n",
        "\n",
        "out = widgets.Tab([out1, out2])\n",
        "out.set_title(0, 'Youtube')\n",
        "out.set_title(1, 'Bilibili')\n",
        "\n",
        "display(out)"
      ]
    },
    {
      "cell_type": "markdown",
      "metadata": {
        "execution": {},
        "id": "yF8t1Is9r9Zk"
      },
      "source": [
        "## Slides"
      ]
    },
    {
      "cell_type": "code",
      "execution_count": 2,
      "metadata": {
        "cellView": "form",
        "execution": {},
        "id": "bOAzktkXr9Zl",
        "colab": {
          "base_uri": "https://localhost:8080/",
          "height": 501
        },
        "outputId": "3feeac37-9678-4e85-a40e-e56136910f07"
      },
      "outputs": [
        {
          "output_type": "execute_result",
          "data": {
            "text/plain": [
              "<IPython.lib.display.IFrame at 0x7f76414216d0>"
            ],
            "text/html": [
              "\n",
              "        <iframe\n",
              "            width=\"854\"\n",
              "            height=\"480\"\n",
              "            src=\"\"\n",
              "            frameborder=\"0\"\n",
              "            allowfullscreen\n",
              "        ></iframe>\n",
              "        "
            ]
          },
          "metadata": {},
          "execution_count": 2
        }
      ],
      "source": [
        "# @markdown\n",
        "from IPython.display import IFrame\n",
        "IFrame(src=f\"\", width=854, height=480)"
      ]
    }
  ]
}