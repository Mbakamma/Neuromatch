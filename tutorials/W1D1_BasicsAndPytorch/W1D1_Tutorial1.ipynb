{
 "cells": [
  {
   "cell_type": "markdown",
   "metadata": {
    "colab_type": "text",
    "id": "view-in-github"
   },
   "source": [
    "<a href=\"https://colab.research.google.com/github/NeuromatchAcademy/course-content-dl/blob/main/tutorials/W1D1_BasicsAndPytorch/W1D1_Tutorial1.ipynb\" target=\"_parent\"><img src=\"https://colab.research.google.com/assets/colab-badge.svg\" alt=\"Open In Colab\"/></a>"
   ]
  },
  {
   "cell_type": "markdown",
   "metadata": {},
   "source": [
    "# Tutorial 1: PyTorch\n",
    "**Week 1, Day 1: Basics and PyTorch**\n",
    "\n",
    "**By Neuromatch Academy**\n",
    "\n",
    "\n",
    "__Content creators:__ Shubh Pachchigar, Vladimir Haltakov, Matthew Sargent, Konrad Kording\n",
    "\n",
    "__Content reviewers:__ Kelson Shilling-Scrivo, Deepak Raya\n",
    "\n",
    "__Content editors:__ Anoop Kulkarni\n",
    "\n",
    "__Production editors:__ Arush Tagade, Spiros Chavlis"
   ]
  },
  {
   "cell_type": "markdown",
   "metadata": {},
   "source": [
    "**Our 2021 Sponsors, including Presenting Sponsor Facebook Reality Labs**\n",
    "\n",
    "<p align='center'><img src='https://github.com/NeuromatchAcademy/widgets/blob/master/sponsors.png?raw=True'/></p>"
   ]
  },
  {
   "cell_type": "markdown",
   "metadata": {},
   "source": [
    "---\n",
    "# Tutorial Objectives\n",
    "\n",
    "Then have a few specific objectives for this tutorial:\n",
    "* Learn about PyTorch and tensors\n",
    "* Tensor Manipulations\n",
    "* Data Loading\n",
    "* GPUs and Cuda Tensors\n",
    "* Train NaiveNet\n",
    "* Get to know your pod\n",
    "* Start thinking about the course as a whole"
   ]
  },
  {
   "cell_type": "code",
   "execution_count": null,
   "metadata": {
    "cellView": "form",
    "colab": {
     "base_uri": "https://localhost:8080/",
     "height": 591
    },
    "outputId": "c8856954-8a8b-442a-84d3-e9f6dac64aee"
   },
   "outputs": [],
   "source": [
    "\n",
    "#@markdown Tutorial slides\n",
    "# you should link the slides for all tutorial videos here (we will store pdfs on osf)\n",
    "\n",
    "from IPython.display import HTML\n",
    "HTML('<iframe src=\"https://docs.google.com/presentation/d/1x_619dh5wCJbPiG3Ix2TFLavWstWYC1JFtAeMGmmUBI/embed?start=false&loop=false&delayms=3000\" frameborder=\"0\" width=\"960\" height=\"569\" allowfullscreen=\"true\" mozallowfullscreen=\"true\" webkitallowfullscreen=\"true\"></iframe>')"
   ]
  },
  {
   "cell_type": "markdown",
   "metadata": {},
   "source": [
    "---\n",
    "# Setup"
   ]
  },
  {
   "cell_type": "markdown",
   "metadata": {},
   "source": [
    "Throughout your Neuromatch tutorials, most (probably all!) notebooks contain setup cells. These cells will import the required Python packages (e.g., PyTorch, NumPy); set global or environment variables, and load in helper functions for things like plotting.\n",
    "\n",
    "Be sure to run all of the cells in the setup section. Feel free to expand them and have a look at what you are loading in, but you should be able to fulfill the learning objectives of every tutorial without having to look at these cells.\n",
    "\n",
    "If you start building your own projects built on this code base we highly recommend looking at them in more detail."
   ]
  },
  {
   "cell_type": "code",
   "execution_count": null,
   "metadata": {
    "cellView": "form"
   },
   "outputs": [],
   "source": [
    "#@title Install dependencies\n",
    "!pip install pandas --quiet\n",
    "!pip install -U scikit-learn --quiet"
   ]
  },
  {
   "cell_type": "code",
   "execution_count": null,
   "metadata": {},
   "outputs": [],
   "source": [
    "# Imports\n",
    "import time\n",
    "import torch\n",
    "import random\n",
    "import numpy as np\n",
    "import pandas as pd\n",
    "import matplotlib.pyplot as plt\n",
    "\n",
    "from torch import nn\n",
    "from torchvision import datasets\n",
    "from torchvision.transforms import ToTensor\n",
    "from torch.utils.data import DataLoader"
   ]
  },
  {
   "cell_type": "code",
   "execution_count": null,
   "metadata": {
    "cellView": "form"
   },
   "outputs": [],
   "source": [
    "#@title Figure Settings\n",
    "import ipywidgets as widgets\n",
    "%matplotlib inline\n",
    "%config InlineBackend.figure_format = 'retina'\n",
    "plt.style.use(\"https://raw.githubusercontent.com/NeuromatchAcademy/content-creation/main/nma.mplstyle\")"
   ]
  },
  {
   "cell_type": "code",
   "execution_count": null,
   "metadata": {
    "cellView": "form"
   },
   "outputs": [],
   "source": [
    "#@title Helper Functions\n",
    "def checkExercise1(A: torch.Tensor, B: torch.Tensor,\n",
    "                   C:torch.Tensor, D:torch.Tensor):\n",
    "  errors = []\n",
    "  # TODO better errors\n",
    "  if not torch.equal(A, torch.ones(20, 21)):\n",
    "    errors.append(\"A is not a 20 by 21 tensor of ones \")\n",
    "  if not np.array_equal(B.numpy(), np.vander([1, 2, 3], 4)):\n",
    "    errors.append(\"B is not a tensor containing the elements of Z \")\n",
    "  if C.shape != (20, 21):\n",
    "    errors.append(\"C is not the correct shape \")\n",
    "  if not torch.equal(D, torch.arange(4, 41, step=2)):\n",
    "    errors.append(\"D does not contain the correct elements\")\n",
    "\n",
    "  if errors == []:\n",
    "    print(\"All correct!\")\n",
    "  else:\n",
    "    print(errors)\n",
    "\n",
    "\n",
    "def timeFun(f, iterations):\n",
    "  iterations = iterations\n",
    "  t_total = 0\n",
    "  for _ in range(iterations):\n",
    "    start = time.time()\n",
    "    f()\n",
    "    end = time.time()\n",
    "    t_total += end - start\n",
    "  print(f\"time taken for {iterations} iterations of {f.__name__}: {t_total}\")"
   ]
  },
  {
   "cell_type": "markdown",
   "metadata": {},
   "source": [
    "**Scratch Code Cells**\n",
    "\n",
    "If you want to quickly try out something or take a look at the data you can use scratch code cells. They allow you to run Python code, but will not mess up the structure of your notebook.\n",
    "\n",
    "To open a new scratch cell go to *Insert* → *Scratch code cell*."
   ]
  },
  {
   "cell_type": "markdown",
   "metadata": {},
   "source": [
    "# Section 1: Welcome to Neuromatch Deep learning course"
   ]
  },
  {
   "cell_type": "code",
   "execution_count": null,
   "metadata": {
    "cellView": "form",
    "colab": {
     "base_uri": "https://localhost:8080/",
     "height": 581,
     "referenced_widgets": [
      "75d9d24662c945f18f4b5bb1bb0f3fc4",
      "b777bfc8860a49cfae5b20572f7cab41",
      "dd3428bce16e4902bd1d62ac2e3afd28",
      "774cc35a74ee455bad2f0bb2c1a6cd33",
      "fa8a6e72170544459424235f08923ba6",
      "906d9c601ed1485a8ab80a7839f1fa43"
     ]
    },
    "outputId": "fc854964-7fbe-4c1f-fb46-861289560eaa"
   },
   "outputs": [],
   "source": [
    "#@title Video 1: Welcome and History\n",
    "from ipywidgets import widgets\n",
    "\n",
    "out2 = widgets.Output()\n",
    "with out2:\n",
    "  from IPython.display import IFrame\n",
    "  class BiliVideo(IFrame):\n",
    "    def __init__(self, id, page=1, width=400, height=300, **kwargs):\n",
    "      self.id=id\n",
    "      src = \"https://player.bilibili.com/player.html?bvid={0}&page={1}\".format(id, page)\n",
    "      super(BiliVideo, self).__init__(src, width, height, **kwargs)\n",
    "\n",
    "  video = BiliVideo(id=f\"\", width=854, height=480, fs=1)\n",
    "  print(\"Video available at https://www.bilibili.com/video/{0}\".format(video.id))\n",
    "  display(video)\n",
    "\n",
    "out1 = widgets.Output()\n",
    "with out1:\n",
    "  from IPython.display import YouTubeVideo\n",
    "  video = YouTubeVideo(id=f\"ca21SNqt78I\", width=854, height=480, fs=1, rel=0)\n",
    "  print(\"Video available at https://youtube.com/watch?v=\" + video.id)\n",
    "  display(video)\n",
    "\n",
    "out = widgets.Tab([out1, out2])\n",
    "out.set_title(0, 'Youtube')\n",
    "out.set_title(1, 'Bilibili')\n",
    "\n",
    "display(out)"
   ]
  },
  {
   "cell_type": "markdown",
   "metadata": {},
   "source": [
    "*This will be an intensive 3 week adventure. We will all learn Deep Learning. In a group. Groups need standards. Read our \n",
    "[Code of Conduct](https://docs.google.com/document/d/1eHKIkaNbAlbx_92tLQelXnicKXEcvFzlyzzeWjEtifM/edit?usp=sharing).\n"
   ]
  },
  {
   "cell_type": "markdown",
   "metadata": {},
   "source": [
    "**Describe what you hope to get out of this course in about 100 words.**"
   ]
  },
  {
   "cell_type": "code",
   "execution_count": null,
   "metadata": {
    "cellView": "form",
    "colab": {
     "base_uri": "https://localhost:8080/",
     "height": 581,
     "referenced_widgets": [
      "0271e6bca9ea4e859169ac22c44eb43d",
      "e754c9ba29dc44e3bb3adc4d5453f5d7",
      "aaa9a46c83f14da28d71431f3241bdad",
      "a8a5a3c07f124f78958df925d0423bdc",
      "e20c3c792a36457290444acd472506bb",
      "e9ac76063987433e8fdc1875a5b8dc90"
     ]
    },
    "outputId": "b21c09da-0372-4ba3-ace1-fb4f499b0d86"
   },
   "outputs": [],
   "source": [
    "#@title Video 2: Syllabus\n",
    "from ipywidgets import widgets\n",
    "\n",
    "out2 = widgets.Output()\n",
    "with out2:\n",
    "  from IPython.display import IFrame\n",
    "  class BiliVideo(IFrame):\n",
    "    def __init__(self, id, page=1, width=400, height=300, **kwargs):\n",
    "      self.id=id\n",
    "      src = \"https://player.bilibili.com/player.html?bvid={0}&page={1}\".format(id, page)\n",
    "      super(BiliVideo, self).__init__(src, width, height, **kwargs)\n",
    "\n",
    "  video = BiliVideo(id=f\"\", width=854, height=480, fs=1)\n",
    "  print(\"Video available at https://www.bilibili.com/video/{0}\".format(video.id))\n",
    "  display(video)\n",
    "\n",
    "out1 = widgets.Output()\n",
    "with out1:\n",
    "  from IPython.display import YouTubeVideo\n",
    "  video = YouTubeVideo(id=f\"cDvAqG_hAvQ\", width=854, height=480, fs=1, rel=0)\n",
    "  print(\"Video available at https://youtube.com/watch?v=\" + video.id)\n",
    "  display(video)\n",
    "\n",
    "out = widgets.Tab([out1, out2])\n",
    "out.set_title(0, 'Youtube')\n",
    "out.set_title(1, 'Bilibili')\n",
    "\n",
    "display(out)"
   ]
  },
  {
   "cell_type": "markdown",
   "metadata": {},
   "source": [
    "Meet our lecturers:\n",
    "\n",
    "Week 1: the building blocks\n",
    "*   [Konrad Kording](https://kordinglab.com)\n",
    "*   [Andrew Saxe](https://www.saxelab.org/)\n",
    "*   [Surya Ganguli](https://ganguli-gang.stanford.edu/)\n",
    "*   [Ioannis Mitliagkas](http://mitliagkas.github.io/)\n",
    "*   [Lyle Ungar](https://www.cis.upenn.edu/~ungar/)\n",
    "\n",
    "Week 2: making things work\n",
    "* [Alona Fyshe](https://webdocs.cs.ualberta.ca/~alona/)\n",
    "* [Alexander Ecker](https://eckerlab.org/)\n",
    "* [James Evans](https://sociology.uchicago.edu/directory/james-evans)\n",
    "* [He He](https://hhexiy.github.io/)\n",
    "* [Vikash Gilja](https://tnel.ucsd.edu/bio) and [Akash Srivastava](https://akashgit.github.io/)\n",
    "\n",
    "Week 3: more magic\n",
    "* [Tim Lillicrap](https://contrastiveconvergence.net/~timothylillicrap/index.php) and [Blake Richards](https://www.mcgill.ca/neuro/blake-richards-phd)\n",
    "* [Jane Wang](http://www.janexwang.com/) and [Feryal Behbahani](https://feryal.github.io/)\n",
    "* [Tim Lillicrap](https://contrastiveconvergence.net/~timothylillicrap/index.php) and [Blake Richards](https://www.mcgill.ca/neuro/blake-richards-phd)\n",
    "* [Josh Vogelstein](https://jovo.me/) and [Vincenzo Lamonaco](https://www.vincenzolomonaco.com/)\n",
    "\n",
    "Now, go to the visualization of ICLR papers. Read a few abstracts. Look at the various clusters. Where do you see yourself in this map?\n"
   ]
  },
  {
   "cell_type": "markdown",
   "metadata": {},
   "source": [
    "# Section 2: The Basics of PyTorch"
   ]
  },
  {
   "cell_type": "markdown",
   "metadata": {},
   "source": [
    "PyTorch is a Python-based scientific computing package targeted at two sets of\n",
    "audiences:\n",
    "\n",
    "-  A replacement for NumPy to use the power of GPUs\n",
    "-  A deep learning platform that provides significant flexibility\n",
    "   and speed\n",
    "\n",
    "At its core, PyTorch provides a few key features:\n",
    "\n",
    "- A multidimensional [Tensor](https://pytorch.org/docs/stable/tensors.html) object, similar to [NumPy Array](https://numpy.org/doc/stable/reference/generated/numpy.ndarray.html) but with GPU acceleration.\n",
    "- An optimized **autograd** engine for automatically computing derivatives.\n",
    "- A clean, modular API for building and deploying **deep learning models**.\n",
    "\n",
    "You can find more information about PyTorch in the appendix."
   ]
  },
  {
   "cell_type": "markdown",
   "metadata": {},
   "source": [
    "##Section 2.1: Creating Tensors\n"
   ]
  },
  {
   "cell_type": "code",
   "execution_count": null,
   "metadata": {
    "cellView": "form",
    "colab": {
     "base_uri": "https://localhost:8080/",
     "height": 581,
     "referenced_widgets": [
      "5d436ca4bc3d4a858fae56e6d9105767",
      "b053141579c1470da98a78a97a2fa948",
      "99bbe66d0cbd4cc39a327ee49a09d13b",
      "4970337b7376458f8f4dd881a8156dfa",
      "53eabcf03f574b7084fca81463656a5c",
      "92ec5f2dd9374accbe32eda989cd4eb4"
     ]
    },
    "outputId": "ba31eee4-82c0-423e-838a-2af9f06c89d9"
   },
   "outputs": [],
   "source": [
    "#@title Video 3: Making Tensors\n",
    "from ipywidgets import widgets\n",
    "\n",
    "out2 = widgets.Output()\n",
    "with out2:\n",
    "  from IPython.display import IFrame\n",
    "  class BiliVideo(IFrame):\n",
    "    def __init__(self, id, page=1, width=400, height=300, **kwargs):\n",
    "      self.id=id\n",
    "      src = \"https://player.bilibili.com/player.html?bvid={0}&page={1}\".format(id, page)\n",
    "      super(BiliVideo, self).__init__(src, width, height, **kwargs)\n",
    "\n",
    "  video = BiliVideo(id=f\"\", width=854, height=480, fs=1)\n",
    "  print(\"Video available at https://www.bilibili.com/video/{0}\".format(video.id))\n",
    "  display(video)\n",
    "\n",
    "out1 = widgets.Output()\n",
    "with out1:\n",
    "  from IPython.display import YouTubeVideo\n",
    "  video = YouTubeVideo(id=f\"jGKd_4tPGrw\", width=854, height=480, fs=1, rel=0)\n",
    "  print(\"Video available at https://youtube.com/watch?v=\" + video.id)\n",
    "  display(video)\n",
    "\n",
    "out = widgets.Tab([out1, out2])\n",
    "out.set_title(0, 'Youtube')\n",
    "out.set_title(1, 'Bilibili')\n",
    "\n",
    "display(out)"
   ]
  },
  {
   "cell_type": "markdown",
   "metadata": {},
   "source": [
    "There are various ways of creating tensors."
   ]
  },
  {
   "cell_type": "markdown",
   "metadata": {},
   "source": [
    "**Construct tensors directly:**\n",
    "\n",
    "---\n",
    "\n"
   ]
  },
  {
   "cell_type": "code",
   "execution_count": null,
   "metadata": {
    "colab": {
     "base_uri": "https://localhost:8080/"
    },
    "outputId": "1f968b1e-7b1f-4761-a0df-32fa33b52711"
   },
   "outputs": [],
   "source": [
    "# we can construct a tensor directly from some common python iterables,\n",
    "# such as list and tuple nested iterables can also be handled as long as the\n",
    "# dimensions make sense\n",
    "\n",
    "# tensor from a list\n",
    "a = torch.tensor([0,1,2])\n",
    "\n",
    "#tensor from a tuple of tuples\n",
    "b = ((1.0, 1.1), (1.2, 1.3))\n",
    "b = torch.tensor(b)\n",
    "\n",
    "# tensor from a numpy array\n",
    "c = np.ones([2, 3])\n",
    "c = torch.tensor(c)\n",
    "print(\"Tensor a:\", a)\n",
    "print(\"Tensor b:\", b)\n",
    "print(\"Tensor c:\", c)"
   ]
  },
  {
   "cell_type": "markdown",
   "metadata": {},
   "source": [
    "**Some common tensor constructors:**\n",
    "\n",
    "---"
   ]
  },
  {
   "cell_type": "code",
   "execution_count": null,
   "metadata": {
    "colab": {
     "base_uri": "https://localhost:8080/"
    },
    "outputId": "b498b553-4a99-4e9d-c4a5-7da0a4c42fbc"
   },
   "outputs": [],
   "source": [
    "# the numerical arguments we pass to these constructors\n",
    "# determine the shape of the output tensor\n",
    "\n",
    "x = torch.ones(5, 3)\n",
    "y = torch.zeros(2)\n",
    "z = torch.empty(1, 1,5)\n",
    "print(\"Tensor x:\", x)\n",
    "print(\"Tensor y:\", y)\n",
    "print(\"Tensor z:\", z)"
   ]
  },
  {
   "cell_type": "markdown",
   "metadata": {},
   "source": [
    "Notice that ```.empty()``` does not return zeros, but seemingly random small numbers. Unlike ```.zeros()```, which initialises the elements of the tensor with zeros, ```.empty()``` just allocates the memory. It is hence faster if you are looking to just create a tensor."
   ]
  },
  {
   "cell_type": "markdown",
   "metadata": {},
   "source": [
    "**Creating random tensors and tensors like other tensors:**\n",
    "\n",
    "---"
   ]
  },
  {
   "cell_type": "code",
   "execution_count": null,
   "metadata": {
    "colab": {
     "base_uri": "https://localhost:8080/"
    },
    "outputId": "f21de903-278d-4360-a421-ca300d7554d1"
   },
   "outputs": [],
   "source": [
    "# there are also constructors for random numbers\n",
    "\n",
    "# uniform distribution\n",
    "a = torch.rand(1, 3)\n",
    "\n",
    "# normal distribution\n",
    "b = torch.randn(3, 4)\n",
    "\n",
    "# there are also constructors that allow us to construct\n",
    "# a tensor according to the above constructors, but with\n",
    "# dimensions equal to another tensor\n",
    "\n",
    "c = torch.zeros_like(a)\n",
    "d = torch.rand_like(c)\n",
    "\n",
    "print(\"Tensor a: \", a)\n",
    "print(\"Tensor b: \", b)\n",
    "print(\"Tensor c: \", c)\n",
    "print(\"Tensor d: \", d)"
   ]
  },
  {
   "cell_type": "markdown",
   "metadata": {},
   "source": [
    "*Reproducibility*: \n",
    "\n",
    "- PyTorch random number generator: You can use `torch.manual_seed()` to seed the RNG for all devices (both CPU and CUDA)\n",
    "\n",
    "```python\n",
    "import torch\n",
    "torch.manual_seed(0)\n",
    "```\n",
    "- For custom operators, you might need to set python seed as well:\n",
    "\n",
    "```python\n",
    "import random\n",
    "random.seed(0)\n",
    "```\n",
    "\n",
    "- Random number generators in other libraries\n",
    "\n",
    "```python\n",
    "import numpy as np\n",
    "np.random.seed(0)\n",
    "```\n"
   ]
  },
  {
   "cell_type": "markdown",
   "metadata": {},
   "source": [
    "Here, we define for you a function called `set_seed` that does the job for you!"
   ]
  },
  {
   "cell_type": "code",
   "execution_count": null,
   "metadata": {},
   "outputs": [],
   "source": [
    "def set_seed(seed=None, seed_torch=True):\n",
    "  \"\"\"\n",
    "  Function that controls randomness. NumPy and random modules must be imported.\n",
    "\n",
    "  Args:\n",
    "    seed : Integer\n",
    "      A non-negative integer that defines the random state. Default is `None`.\n",
    "    seed_torch : Boolean\n",
    "      If `True` sets the random seed for pytorch tensors, so pytorch module\n",
    "      must be imported. Default is `False`.\n",
    "\n",
    "  Returns:\n",
    "    Nothing.\n",
    "  \"\"\"\n",
    "  if seed is None:\n",
    "    seed = np.random.choice(2 ** 32)\n",
    "  random.seed(seed)\n",
    "  np.random.seed(seed)\n",
    "  if seed_torch:\n",
    "    torch.manual_seed(seed)\n",
    "    torch.cuda.manual_seed_all(seed)\n",
    "    torch.cuda.manual_seed(seed)\n",
    "    torch.backends.cudnn.benchmark = False\n",
    "    torch.backends.cudnn.deterministic = True\n",
    "\n",
    "  print(f'Random seed {seed} has been set.')"
   ]
  },
  {
   "cell_type": "markdown",
   "metadata": {},
   "source": [
    "Now, let's use the `set_seed` function in the previous example. Execute the celll multiple times to verify that the numbers printed are always the same."
   ]
  },
  {
   "cell_type": "code",
   "execution_count": null,
   "metadata": {},
   "outputs": [],
   "source": [
    "def simplefun(seed=True, my_seed=None):\n",
    "  if seed:\n",
    "    set_seed(seed=my_seed)\n",
    "\n",
    "  # uniform distribution\n",
    "  a = torch.rand(1, 3)\n",
    "  # normal distribution\n",
    "  b = torch.randn(3, 4)\n",
    "\n",
    "  print(\"Tensor a: \", a)\n",
    "  print(\"Tensor b: \", b)"
   ]
  },
  {
   "cell_type": "code",
   "execution_count": null,
   "metadata": {
    "colab": {
     "base_uri": "https://localhost:8080/"
    },
    "outputId": "26ded98c-a582-4c0e-f877-0c880431ca45"
   },
   "outputs": [],
   "source": [
    "simplefun(seed=True, my_seed=0)  # Turn `seed` to `False` or change `my_seed`"
   ]
  },
  {
   "cell_type": "markdown",
   "metadata": {},
   "source": [
    "**Numpy-like number ranges:**\n",
    "---\n",
    "The ```.arange()``` and ```.linspace()``` behave how you would expect them to if you are familar with numpy."
   ]
  },
  {
   "cell_type": "code",
   "execution_count": null,
   "metadata": {
    "colab": {
     "base_uri": "https://localhost:8080/"
    },
    "outputId": "fe82899a-aaa2-4da6-86db-0a47256c6d91"
   },
   "outputs": [],
   "source": [
    "a = torch.arange(0, 10, step=1)\n",
    "b = np.arange(0, 10, step=1)\n",
    "\n",
    "c = torch.linspace(0, 5, steps=11)\n",
    "d = np.linspace(0, 5, num=11)\n",
    "\n",
    "print(f\"Tensor a: {a}\\n\")\n",
    "print(f\"Numpy array b: {b}\\n\")\n",
    "print(f\"Tensor c: {c}\\n\")\n",
    "print(f\"Numpy array d: {d}\\n\")"
   ]
  },
  {
   "cell_type": "markdown",
   "metadata": {},
   "source": [
    "\n",
    "### Coding Exercise 2.1: Creating Tensors\n",
    "\n",
    "Below you will find some incomplete code. Fill in the missing code to construct the specified tensors.\n",
    "\n",
    "We want the tensors: \n",
    "\n",
    "$A:$ 20 by 21 tensor consisting of ones\n",
    "\n",
    "$B:$ a tensor with elements equal to the elements of numpy array $Z$\n",
    "\n",
    "$C:$ a tensor with the same number of elements as $A$ but with values $\n",
    "\\sim U(0,1)$\n",
    "\n",
    "$D:$ a 1D tensor containing the even numbers between 4 and 40 inclusive.\n"
   ]
  },
  {
   "cell_type": "code",
   "execution_count": null,
   "metadata": {},
   "outputs": [],
   "source": [
    "def tensor_creation(Z):\n",
    "  \"\"\"A function that creates various tensors.\n",
    "\n",
    "  Args:\n",
    "    Z (numpy.ndarray): An array of shape\n",
    "\n",
    "  Returns:\n",
    "    A : 20 by 21 tensor consisting of ones\n",
    "    B : a tensor with elements equal to the elements of numpy array  Z\n",
    "    C : a tensor with the same number of elements as A but with values ∼U(0,1)\n",
    "    D : a 1D tensor containing the even numbers between 4 and 40 inclusive.\n",
    "  \"\"\"\n",
    "  #################################################\n",
    "  ## TODO for students: fill in the missing code\n",
    "  ## from the first expression\n",
    "  raise NotImplementedError(\"Student exercise: say what they should have done\")\n",
    "  #################################################\n",
    "  A = ...\n",
    "  B = ...\n",
    "  C = ...\n",
    "  D = ...\n",
    "\n",
    "  return A, B, C, D\n",
    "\n",
    "\n",
    "# numpy array to copy later\n",
    "Z = np.vander([1, 2, 3], 4)\n",
    "\n",
    "# Uncomment below to check your function!\n",
    "# A, B, C, D = tensor_creation(Z)\n",
    "# checkExercise1(A, B, C, D)"
   ]
  },
  {
   "cell_type": "code",
   "execution_count": null,
   "metadata": {
    "colab": {
     "base_uri": "https://localhost:8080/"
    },
    "outputId": "4ee99e24-a12a-4f17-f149-4f4f272403f1"
   },
   "outputs": [],
   "source": [
    "#to_remove solution\n",
    "def tensor_creation(Z):\n",
    "  \"\"\"A function that creates various tensors.\n",
    "\n",
    "  Args:\n",
    "    Z (numpy.ndarray): An array of shape\n",
    "\n",
    "  Returns:\n",
    "    A : 20 by 21 tensor consisting of ones\n",
    "    B : a tensor with elements equal to the elements of numpy array  Z\n",
    "    C : a tensor with the same number of elements as A but with values ∼U(0,1)\n",
    "    D : a 1D tensor containing the even numbers between 4 and 40 inclusive.\n",
    "  \"\"\"\n",
    "\n",
    "  A = torch.ones(20, 21)\n",
    "  B = torch.tensor(Z)\n",
    "  C = torch.rand_like(A)\n",
    "  D = torch.arange(4, 41, step=2)\n",
    "\n",
    "  return A, B, C, D\n",
    "\n",
    "\n",
    "# numpy array to copy later\n",
    "Z = np.vander([1, 2, 3], 4)\n",
    "\n",
    "# Uncomment below to check your function!\n",
    "A, B, C, D = tensor_creation(Z)\n",
    "checkExercise1(A, B, C, D)"
   ]
  },
  {
   "cell_type": "markdown",
   "metadata": {},
   "source": [
    "```\n",
    "All correct!\n",
    "```"
   ]
  },
  {
   "cell_type": "markdown",
   "metadata": {},
   "source": [
    "## Section 2.2: Operations in PyTorch\n",
    "\n",
    "**Tensor-Tensor operations**\n",
    "\n",
    "We can perform operations on tensors using methods under ```torch.``` \n",
    "\n"
   ]
  },
  {
   "cell_type": "code",
   "execution_count": null,
   "metadata": {
    "cellView": "form",
    "colab": {
     "base_uri": "https://localhost:8080/",
     "height": 581,
     "referenced_widgets": [
      "45519b88843346179f283bf18a3d85ba",
      "4980468f65754e29b909de5e421916cf",
      "c9d160ae7f7b4943b04dc0fe4a72ff70",
      "92b92abc7a4b4395ab10196d85722c45",
      "e399a82fb5fc4408a9215102e99fd582",
      "139d49ed3f49478ea78203643b03ab9d"
     ]
    },
    "outputId": "dcfa24e9-52e0-4560-a724-d2cbfdafc49c"
   },
   "outputs": [],
   "source": [
    "#@title Video 4: Tensor Operators\n",
    "from ipywidgets import widgets\n",
    "\n",
    "out2 = widgets.Output()\n",
    "with out2:\n",
    "  from IPython.display import IFrame\n",
    "  class BiliVideo(IFrame):\n",
    "    def __init__(self, id, page=1, width=400, height=300, **kwargs):\n",
    "      self.id=id\n",
    "      src = \"https://player.bilibili.com/player.html?bvid={0}&page={1}\".format(id, page)\n",
    "      super(BiliVideo, self).__init__(src, width, height, **kwargs)\n",
    "\n",
    "  video = BiliVideo(id=f\"\", width=854, height=480, fs=1)\n",
    "  print(\"Video available at https://www.bilibili.com/video/{0}\".format(video.id))\n",
    "  display(video)\n",
    "\n",
    "out1 = widgets.Output()\n",
    "with out1:\n",
    "  from IPython.display import YouTubeVideo\n",
    "  video = YouTubeVideo(id=f\"R1R8VoYXBVA\", width=854, height=480, fs=1, rel=0)\n",
    "  print(\"Video available at https://youtube.com/watch?v=\" + video.id)\n",
    "  display(video)\n",
    "\n",
    "out = widgets.Tab([out1, out2])\n",
    "out.set_title(0, 'Youtube')\n",
    "out.set_title(1, 'Bilibili')\n",
    "\n",
    "display(out)"
   ]
  },
  {
   "cell_type": "markdown",
   "metadata": {},
   "source": [
    "**Tensor-Tensor operations**\n",
    "\n",
    "We can perform operations on tensors using methods under ```torch.``` "
   ]
  },
  {
   "cell_type": "code",
   "execution_count": null,
   "metadata": {
    "colab": {
     "base_uri": "https://localhost:8080/"
    },
    "outputId": "3be1f398-10b4-4d04-a768-f2c6960b71cf"
   },
   "outputs": [],
   "source": [
    "a = torch.ones(5, 3)\n",
    "b = torch.rand(5, 3)\n",
    "c = torch.empty(5, 3)\n",
    "d = torch.empty(5, 3)\n",
    "\n",
    "torch.add(a, b, out=c)\n",
    "torch.multiply(a, b, out=d)\n",
    "print(c)\n",
    "print(d)"
   ]
  },
  {
   "cell_type": "markdown",
   "metadata": {},
   "source": [
    "However, in PyTorch most common Python operators are overridden.\n",
    "The common standard arithmetic operators (+, -, *, /, and **) have all been lifted to elementwise operations"
   ]
  },
  {
   "cell_type": "code",
   "execution_count": null,
   "metadata": {
    "colab": {
     "base_uri": "https://localhost:8080/"
    },
    "outputId": "6e981046-fb92-496e-aceb-f54db35eddc3"
   },
   "outputs": [],
   "source": [
    "x = torch.tensor([1.0, 2, 4, 8])\n",
    "y = torch.tensor([2, 2, 2, 2])\n",
    "x + y, x - y, x * y, x / y, x**y  # The ** operator is exponentiation"
   ]
  },
  {
   "cell_type": "markdown",
   "metadata": {},
   "source": [
    "**Tensor Methods**"
   ]
  },
  {
   "cell_type": "markdown",
   "metadata": {},
   "source": [
    "Tensors also have a number of common arithmetic operations built in. A full list of **all** methods can be found  in the appendix (there are a lot!) \n",
    "\n",
    "All of these operations should have similar syntax to their numpy equivalents.(Feel free to skip if you already know this!)"
   ]
  },
  {
   "cell_type": "code",
   "execution_count": null,
   "metadata": {
    "colab": {
     "base_uri": "https://localhost:8080/"
    },
    "outputId": "1f4f01b6-61b3-4e24-e8c6-9699af0bf4c2"
   },
   "outputs": [],
   "source": [
    "x = torch.rand(3, 3)\n",
    "print(x)\n",
    "print(\"\\n\")\n",
    "# sum() - note the axis is the axis you move across when summing\n",
    "print(f\"Sum of every element of x: {x.sum()}\")\n",
    "print(f\"Sum of the columns of x: {x.sum(axis=0)}\")\n",
    "print(f\"Sum of the rows of x: {x.sum(axis=1)}\")\n",
    "print(\"\\n\")\n",
    "\n",
    "print(f\"Mean value of all elements of x {x.mean()}\")\n",
    "print(f\"Mean values of the columns of x {x.mean(axis=0)}\")\n",
    "print(f\"Mean values of the rows of x {x.mean(axis=1)}\")"
   ]
  },
  {
   "cell_type": "markdown",
   "metadata": {},
   "source": [
    "**Matrix Operations**\n",
    "\n",
    "The ```@``` symbol is overridden to represent matrix multiplication. You can also use ```torch.matmul()``` to multiply tensors. For dot multiplication, you can use ```.torch.dot()```, or manipulate the axes of your tensors and do matrix multiplication (we will cover that in the next section). \n",
    "\n",
    "Transposes of 2D tensors are obtained using ```torch.t()``` or ```Tensor.t```. Note the lack of brackets for ```Tensor.t``` - it is an attribute, not a method."
   ]
  },
  {
   "cell_type": "markdown",
   "metadata": {},
   "source": [
    "### Coding Exercise 2.2 : Simple tensor operations\n",
    "\n",
    "Below are two expressions involving operations on matrices. \n",
    "\n",
    "$$ \\textbf{A} = \n",
    "\\begin{bmatrix}2 &4 \\\\5 & 7 \n",
    "\\end{bmatrix} \n",
    "\\begin{bmatrix} 1 &1 \\\\2 & 3\n",
    "\\end{bmatrix} \n",
    " + \n",
    "\\begin{bmatrix}10 & 10  \\\\ 12 & 1 \n",
    "\\end{bmatrix} \n",
    "$$\n",
    "\n",
    "\n",
    "and\n",
    "\n",
    "\n",
    "$$ b = \n",
    "\\begin{bmatrix} 3 \\\\ 5 \\\\ 7\n",
    "\\end{bmatrix} \\cdot \n",
    "\\begin{bmatrix} 2 \\\\ 4 \\\\ 8\n",
    "\\end{bmatrix}\n",
    "$$\n",
    "\n",
    "The code block below that computes these expressions using PyTorch is incomplete - fill in the missing lines.\n",
    "\n"
   ]
  },
  {
   "cell_type": "code",
   "execution_count": null,
   "metadata": {},
   "outputs": [],
   "source": [
    "# Computing expression 1:\n",
    "def simple_operations(a1):\n",
    "  ################################################\n",
    "  ## TODO for students: create the a2 and a3 matrices\n",
    "  ## from the first expression\n",
    "  raise NotImplementedError(\"Student exercise: fill in the missing code to complete the operation\")\n",
    "  ################################################\n",
    "  a2 = ...\n",
    "  a3 = ...\n",
    "\n",
    "  answer = ...\n",
    "  return answer\n",
    "\n",
    "\n",
    "# init our tensors\n",
    "a1 = torch.tensor([[2, 4], [5, 7]])\n",
    "# A = simple_operations(a1)\n",
    "# print(A)"
   ]
  },
  {
   "cell_type": "code",
   "execution_count": null,
   "metadata": {
    "colab": {
     "base_uri": "https://localhost:8080/"
    },
    "outputId": "5a0d5287-4307-41f8-fd52-2bc311c36b09"
   },
   "outputs": [],
   "source": [
    "#to_remove solution\n",
    "# Computing expression 1:\n",
    "def simple_operations(a1):\n",
    "\n",
    "  a2 = torch.tensor([[1, 1], [2, 3]])\n",
    "  a3 = torch.tensor([[10, 10],[12, 1]])\n",
    "\n",
    "  answer = a1 @ a2 + a3\n",
    "  return answer\n",
    "\n",
    "\n",
    "# init our tensors\n",
    "a1 = torch.tensor([[2, 4], [5, 7]])\n",
    "## Uncomment below to test your function\n",
    "A = simple_operations(a1)\n",
    "print(A)"
   ]
  },
  {
   "cell_type": "markdown",
   "metadata": {},
   "source": [
    "```\n",
    "tensor([[20, 24],\n",
    "        [31, 27]])\n",
    "```"
   ]
  },
  {
   "cell_type": "code",
   "execution_count": null,
   "metadata": {},
   "outputs": [],
   "source": [
    "# Computing expression 2:\n",
    "def dot_product():\n",
    "  ###############################################\n",
    "  ## TODO for students: create the b1 and b2 matrices\n",
    "  ## from the second expression\n",
    "  raise NotImplementedError(\"Student exercise: fill in the missing code to complete the operation\")\n",
    "  ###############################################\n",
    "  b1 = ...\n",
    "  b2 = ...\n",
    "  product = ...\n",
    "  return product\n",
    "\n",
    "\n",
    "## Uncomment below to test your function\n",
    "# b = dot_product()\n",
    "# print(b)"
   ]
  },
  {
   "cell_type": "code",
   "execution_count": null,
   "metadata": {
    "colab": {
     "base_uri": "https://localhost:8080/"
    },
    "outputId": "12f55437-fb0c-4c47-c241-faf66f234d00"
   },
   "outputs": [],
   "source": [
    "#to_remove solution\n",
    "# Computing expression 2:\n",
    "def dot_product():\n",
    "\n",
    "  b1 = torch.tensor([3, 5, 7])\n",
    "  b2 = torch.tensor([2, 4, 8])\n",
    "  product = torch.dot(b1, b2)\n",
    "  return product\n",
    "\n",
    "\n",
    "## Uncomment below to test your function\n",
    "b = dot_product()\n",
    "print(b)"
   ]
  },
  {
   "cell_type": "markdown",
   "metadata": {},
   "source": [
    "```\n",
    "tensor(82)\n",
    "```"
   ]
  },
  {
   "cell_type": "markdown",
   "metadata": {},
   "source": [
    "## Section 2.3 Manipulating Tensors in Pytorch\n",
    "\n"
   ]
  },
  {
   "cell_type": "code",
   "execution_count": null,
   "metadata": {
    "cellView": "form",
    "colab": {
     "base_uri": "https://localhost:8080/",
     "height": 581,
     "referenced_widgets": [
      "2d0305befdcf4196bcb3e902642341a4",
      "d5f82696c33447ad905239943519b13f",
      "abc3050127474029a39152f61855e76c",
      "72c3ebf2515e49879d0d9bc9289c239e",
      "50e8d9f64fec4e2a82d32a7fcc6a8147",
      "0a6c77e1fa3d48bfb5c3b40e87c7dc9c"
     ]
    },
    "outputId": "644835dc-7df3-448c-a4cd-aa88eb61e991"
   },
   "outputs": [],
   "source": [
    "#@title Video 5: Tensor Indexing\n",
    "from ipywidgets import widgets\n",
    "\n",
    "out2 = widgets.Output()\n",
    "with out2:\n",
    "  from IPython.display import IFrame\n",
    "  class BiliVideo(IFrame):\n",
    "    def __init__(self, id, page=1, width=400, height=300, **kwargs):\n",
    "      self.id=id\n",
    "      src = \"https://player.bilibili.com/player.html?bvid={0}&page={1}\".format(id, page)\n",
    "      super(BiliVideo, self).__init__(src, width, height, **kwargs)\n",
    "\n",
    "  video = BiliVideo(id=f\"\", width=854, height=480, fs=1)\n",
    "  print(\"Video available at https://www.bilibili.com/video/{0}\".format(video.id))\n",
    "  display(video)\n",
    "\n",
    "out1 = widgets.Output()\n",
    "with out1:\n",
    "  from IPython.display import YouTubeVideo\n",
    "  video = YouTubeVideo(id=f\"0d0KSJ3lJbg\", width=854, height=480, fs=1, rel=0)\n",
    "  print(\"Video available at https://youtube.com/watch?v=\" + video.id)\n",
    "  display(video)\n",
    "\n",
    "out = widgets.Tab([out1, out2])\n",
    "out.set_title(0, 'Youtube')\n",
    "out.set_title(1, 'Bilibili')\n",
    "\n",
    "display(out)"
   ]
  },
  {
   "cell_type": "markdown",
   "metadata": {},
   "source": [
    "**Indexing**\n",
    "\n",
    "Just as in numpy, elements in a tensor can be accessed by index. As in any numpy array, the first element has index 0 and ranges are specified to include the first but before the last element. We can access elements according to their relative position to the end of the list by using negative indices.\n",
    "\n",
    "For example, [-1] selects the last element; [1:3] selects the second and the third elements, and [:-2] will select all elements excluding the last and second-to-last elements."
   ]
  },
  {
   "cell_type": "code",
   "execution_count": null,
   "metadata": {
    "colab": {
     "base_uri": "https://localhost:8080/"
    },
    "outputId": "e0678fb9-ff95-4f67-d630-ca9a0d21a641"
   },
   "outputs": [],
   "source": [
    "x = torch.arange(0, 10)\n",
    "print(x)\n",
    "print(x[-1])\n",
    "print(x[1:3])\n",
    "print(x[:-2])"
   ]
  },
  {
   "cell_type": "markdown",
   "metadata": {},
   "source": [
    "When we have multidimensional tensors, indexing rules work the same way as numpy."
   ]
  },
  {
   "cell_type": "code",
   "execution_count": null,
   "metadata": {
    "colab": {
     "base_uri": "https://localhost:8080/"
    },
    "outputId": "2f92dee1-c6d6-43be-bdfe-9157adce9ee9"
   },
   "outputs": [],
   "source": [
    "# make a 5D tensor\n",
    "x = torch.rand(1, 2, 3, 4, 5)\n",
    "\n",
    "print(f\" shape of x[0]:{x[0].shape}\")\n",
    "print(f\" shape of x[0][0]:{x[0][0].shape}\")\n",
    "print(f\" shape of x[0][0][0]:{x[0][0][0].shape}\")"
   ]
  },
  {
   "cell_type": "markdown",
   "metadata": {},
   "source": [
    "**Flatten and reshape**\n",
    "\n",
    "There are various methods for reshaping tensors. It is common to have to express 2D data in 1D format. Similarly, it is also common to have to reshape a 1D tensor into a 2D tensor. We can achieve this with the ```.flatten()``` and ```.reshape()``` methods."
   ]
  },
  {
   "cell_type": "code",
   "execution_count": null,
   "metadata": {
    "colab": {
     "base_uri": "https://localhost:8080/"
    },
    "outputId": "ca28b9e5-1d7c-446d-872d-25ae6b9fd06c"
   },
   "outputs": [],
   "source": [
    "z = torch.arange(12).reshape(6, 2)\n",
    "print(f\"Original z: \\n {z}\")\n",
    "\n",
    "# 2D -> 1D\n",
    "z = z.flatten()\n",
    "print(f\"Flattened z: \\n {z}\")\n",
    "\n",
    "# and back to 2D\n",
    "z = z.reshape(3, 4)\n",
    "print(f\"Reshaped (3x4) z: \\n {z}\")"
   ]
  },
  {
   "cell_type": "markdown",
   "metadata": {},
   "source": [
    "You will also see the ```.view()``` methods used a lot to reshape tensors. There is a subtle difference between ```.view()``` and ```.reshape()```, though for now we will just use ```.reshape()```. The documentation can be found in the appendix."
   ]
  },
  {
   "cell_type": "markdown",
   "metadata": {},
   "source": [
    "**Squeezing tensors**\n",
    "\n",
    "When processing batches of data, you will quite often be left with singleton dimensions. e.g. [1,10] or [256, 1, 3]. This dimension can quite easilly mess up your matrix operations if you don't plan on it being there...\n",
    "\n",
    "In order to compress tensors along their singleton dimensions we can use the ```.squeeze()``` method. We can use the ```.unsqueeze()``` method to do the opposite. \n"
   ]
  },
  {
   "cell_type": "code",
   "execution_count": null,
   "metadata": {
    "colab": {
     "base_uri": "https://localhost:8080/"
    },
    "outputId": "e866674d-c1f8-43e2-d31b-2666f34776e0"
   },
   "outputs": [],
   "source": [
    "x = torch.randn(1, 10)\n",
    "# printing the zeroth element of the tensor will not give us the first number!\n",
    "\n",
    "print(x.shape)\n",
    "print(f\"x[0]: {x[0]}\")"
   ]
  },
  {
   "cell_type": "markdown",
   "metadata": {},
   "source": [
    " Because of that pesky singleton dimension, x[0] gave us the first row instead!\n",
    "\n"
   ]
  },
  {
   "cell_type": "code",
   "execution_count": null,
   "metadata": {
    "colab": {
     "base_uri": "https://localhost:8080/"
    },
    "outputId": "0fd1f965-9db0-4a64-d281-99f8c7b96095"
   },
   "outputs": [],
   "source": [
    "# lets get rid of that singleton dimension and see what happens now\n",
    "x = x.squeeze(0)\n",
    "print(x.shape)\n",
    "print(f\"x[0]: {x[0]}\")"
   ]
  },
  {
   "cell_type": "code",
   "execution_count": null,
   "metadata": {
    "colab": {
     "base_uri": "https://localhost:8080/"
    },
    "outputId": "577eb278-14ec-4de1-a02d-e848f45b590e"
   },
   "outputs": [],
   "source": [
    "# adding singleton dimensions works a similar way, and is often used when tensors\n",
    "# being added need same number of dimensions\n",
    "\n",
    "y = torch.randn(5, 5)\n",
    "print(f\"shape of y: {y.shape}\")\n",
    "\n",
    "# lets insert a singleton dimension\n",
    "y = y.unsqueeze(1)\n",
    "print(f\"shape of y: {y.shape}\")"
   ]
  },
  {
   "cell_type": "markdown",
   "metadata": {},
   "source": [
    "**Permutation**\n",
    "Sometimes our dimensions will be in the wrong order! For example, we may be dealing with RGB images with dim [3x48x64], but our pipeline expects the colour dimension to be the last dimension i.e. [48x64x3]. To get around this we can use ```.permute()```\n"
   ]
  },
  {
   "cell_type": "code",
   "execution_count": null,
   "metadata": {
    "colab": {
     "base_uri": "https://localhost:8080/"
    },
    "outputId": "ef7d5ab0-1c0d-4242-e00c-a8ab77c1da91"
   },
   "outputs": [],
   "source": [
    "# `x` has dimensions [color,image_height,image_width]\n",
    "x = torch.rand(3, 48, 64)\n",
    "\n",
    "# we want to permute our tensor to be [ image_height , image_width , color ]\n",
    "x = x.permute(1, 2, 0)\n",
    "# permute(1,2,0) means:\n",
    "# the 0th dim of my new tensor = the 1st dim of my old tensor\n",
    "# the 1st dim of my new tensor = the 2nd\n",
    "# the 2nd dim of my new tensor = the 0th\n",
    "print(x.shape)"
   ]
  },
  {
   "cell_type": "markdown",
   "metadata": {},
   "source": [
    "**Concatenation**"
   ]
  },
  {
   "cell_type": "markdown",
   "metadata": {},
   "source": [
    "In this example, we concatenate two matrices along rows (axis 0, the first element of the shape) vs. columns (axis 1, the second element of the shape). We can see that the first output tensor’s axis-0 length ( 6 ) is the sum of the two input tensors’ axis-0 lengths ( 3+3 ); while the second output tensor’s axis-1 length ( 8 ) is the sum of the two input tensors’ axis-1 lengths ( 4+4 )."
   ]
  },
  {
   "cell_type": "code",
   "execution_count": null,
   "metadata": {
    "colab": {
     "base_uri": "https://localhost:8080/"
    },
    "outputId": "d8691855-99a9-40f9-af61-82a2b341b6ea"
   },
   "outputs": [],
   "source": [
    "# Create two tensors of the same shape\n",
    "x = torch.arange(12, dtype=torch.float32).reshape((3, 4))\n",
    "y = torch.tensor([[2.0, 1, 4, 3], [1, 2, 3, 4], [4, 3, 2, 1]])\n",
    "\n",
    "\n",
    "#concatenate them along rows\n",
    "cat_rows = torch.cat((x, y), dim=0)\n",
    "\n",
    "# concatenate along columns\n",
    "cat_cols = torch.cat((x, y), dim=1)\n",
    "\n",
    "# printing outputs\n",
    "print('Concatenated by rows: shape{} \\n {}'.format(list(cat_rows.shape), cat_rows))\n",
    "print('\\n Concatenated by colums: shape{}  \\n {}'.format(list(cat_cols.shape), cat_cols))"
   ]
  },
  {
   "cell_type": "markdown",
   "metadata": {},
   "source": [
    "**Conversion to Other Python Objects**\n",
    "\n",
    "Converting to a NumPy tensor, or vice versa, is easy. The converted result does not share memory. This minor inconvenience is actually quite important: when you perform operations on the CPU or on GPUs, you do not want to halt computation, waiting to see whether the NumPy package of Python might want to be doing something else with the same chunk of memory.\n",
    "\n",
    "When converting to a numpy array, the information being tracked by the tensor will be lost i.e. the computational graph. This will be covered in detail when you are introduced to autograd tomorrow! "
   ]
  },
  {
   "cell_type": "code",
   "execution_count": null,
   "metadata": {
    "colab": {
     "base_uri": "https://localhost:8080/"
    },
    "outputId": "de4fa7e4-0f1b-4cea-a551-f90cc85ada62"
   },
   "outputs": [],
   "source": [
    "x = torch.randn(5)\n",
    "print(f\"x: {x}  |  x type:  {x.type()}\")\n",
    "\n",
    "y = x.numpy()\n",
    "print(f\"y: {y}  |  y type:  {type(y)}\")\n",
    "\n",
    "z = torch.tensor(y)\n",
    "print(f\"z: {z}  |  z type:  {z.type()}\")"
   ]
  },
  {
   "cell_type": "markdown",
   "metadata": {},
   "source": [
    "To convert a size-1 tensor to a Python scalar, we can invoke the item function or Python’s built-in functions."
   ]
  },
  {
   "cell_type": "code",
   "execution_count": null,
   "metadata": {
    "colab": {
     "base_uri": "https://localhost:8080/"
    },
    "outputId": "1031c60a-7715-4056-8079-75740faa4b40"
   },
   "outputs": [],
   "source": [
    "a = torch.tensor([3.5])\n",
    "a, a.item(), float(a), int(a)"
   ]
  },
  {
   "cell_type": "markdown",
   "metadata": {},
   "source": [
    "### Coding Exercise 2.3: Manipulating Tensors\n",
    "Using a combination of the methods discussed above, complete the functions below."
   ]
  },
  {
   "cell_type": "markdown",
   "metadata": {},
   "source": [
    "**Function A** \n",
    "\n",
    "This function takes in two 2D tensors $A$ and $B$ and returns the column sum of A multiplied by the sum of all the elmements of $B$ i.e. a scalar. e.g:\n",
    "\n",
    " $ A = \\begin{bmatrix}\n",
    "1 & 1 \\\\\n",
    "1 & 1 \n",
    "\\end{bmatrix}$  $ B = \\begin{bmatrix}\n",
    "1 & 2 & 3\\\\\n",
    "1 & 2 & 3 \n",
    "\\end{bmatrix}$\n",
    "$ Out = 12 *  \\begin{bmatrix}\n",
    "2 & 2\\\\\n",
    "\\end{bmatrix} = \\begin{bmatrix}\n",
    "24 & 24\\\\\n",
    "\\end{bmatrix}$\n",
    "\n",
    "**Function B** \n",
    "\n",
    "This function takes in a square matrix $C$ and returns a 2D tensor consisting of a flattened $C$ with the index of each element appended to this tensor in the row dimension. e.g:\n",
    "\n",
    " $ C = \\begin{bmatrix}\n",
    "2 & 3 \\\\\n",
    "-1 & 10 \n",
    "\\end{bmatrix}$\n",
    " $ Out = \\begin{bmatrix}\n",
    "0 & 2 \\\\\n",
    "1 & 3 \\\\\n",
    "2 & -1 \\\\\n",
    "3 & 10\n",
    "\\end{bmatrix}$\n",
    "\n",
    "**Hint:** pay close attention to singleton dimensions\n",
    "\n",
    "**Function C (maybe cut this depending on time constraints)**\n",
    "\n",
    "This function takes in two 2D tensors $D$ and $E$. If the dimensions allow it, this function returns the elementwise sum of $E$ reshaped into the dimensions of $D$, and $D$; else this function returns a 1D tensor that is the concatenation of the two tensors. e.g.\n",
    "\n",
    " $ D = \\begin{bmatrix}\n",
    "1 & -1 \\\\\n",
    "-1 & 3 \n",
    "\\end{bmatrix}$\n",
    " $ E = \\begin{bmatrix}\n",
    "2 & 3 & 0 & 2 \\\\\n",
    "\\end{bmatrix}$\n",
    " $ Out = \\begin{bmatrix}\n",
    "3 & 2 \\\\\n",
    "-1 & 5 \n",
    "\\end{bmatrix}$\n",
    "\n",
    " $ D = \\begin{bmatrix}\n",
    "1 & -1 \\\\\n",
    "-1 & 3 \n",
    "\\end{bmatrix}$\n",
    " $ E = \\begin{bmatrix}\n",
    "2 & 3 & 0  \\\\\n",
    "\\end{bmatrix}$\n",
    " $ Out = \\begin{bmatrix}\n",
    "1 & -1 & -1 & 3  & 2 & 3 & 0  \n",
    "\\end{bmatrix}$\n",
    "\n",
    "**Hint:** ```torch.numel()``` is an easy way of finding the number of elements in a tensor\n"
   ]
  },
  {
   "cell_type": "code",
   "execution_count": null,
   "metadata": {},
   "outputs": [],
   "source": [
    "def functionA(A: torch.Tensor, B: torch.Tensor) -> torch.Tensor:\n",
    "  ################################################\n",
    "  ## TODO for students: complete functionA\n",
    "  raise NotImplementedError(\"Student exercise: complete function A\")\n",
    "  ################################################\n",
    "  # TODO multiplication the sum of the tensors\n",
    "  output = ...\n",
    "  return output\n",
    "\n",
    "\n",
    "def functionB(C: torch.Tensor) -> torch.Tensor:\n",
    "  ################################################\n",
    "  ## TODO for students: complete functionB\n",
    "  raise NotImplementedError(\"Student exercise: complete function B\")\n",
    "  ################################################\n",
    "  # TODO flatten the tensor  C\n",
    "  C = ...\n",
    "  # TODO create the idx tensor to be concatenated to C\n",
    "  idx_tensor = ...\n",
    "  # TODO concatenate the two tensors\n",
    "  output = ...\n",
    "\n",
    "  return output\n",
    "\n",
    "\n",
    "def functionC(D: torch.Tensor, E: torch.Tensor) -> torch.Tensor:\n",
    "  ################################################\n",
    "  ## TODO for students: complete functionB\n",
    "  raise NotImplementedError(\"Student exercise: complete function C\")\n",
    "  ################################################\n",
    "  # TODO check we can reshape E into the shape of D\n",
    "  if ...:\n",
    "    # TODO reshape E into the shape of D\n",
    "    E = ...\n",
    "    # TODO sum the two tensors\n",
    "    output = ...\n",
    "  else:\n",
    "    # TODO flatten both tensors\n",
    "    D = ...\n",
    "    E = ...\n",
    "    # TODO concatenate the two tensors in the correct dimension\n",
    "    output = ...\n",
    "\n",
    "  return output\n",
    "\n",
    "\n",
    "## Implement the functions above and then uncomment the following lines to test your code\n",
    "# print(functionA(torch.tensor([[1, 1], [1, 1]]), torch.tensor([[1, 2, 3], [1, 2, 3]])))\n",
    "# print(functionB(torch.tensor([[2, 3], [-1, 10]])))\n",
    "# print(functionC(torch.tensor([[1, -1], [-1, 3]]), torch.tensor([[2, 3, 0, 2]])))\n",
    "# print(functionC(torch.tensor([[1, -1], [-1, 3]]), torch.tensor([[2, 3, 0]])))"
   ]
  },
  {
   "cell_type": "code",
   "execution_count": null,
   "metadata": {
    "colab": {
     "base_uri": "https://localhost:8080/"
    },
    "outputId": "cc6355dd-e829-41f0-89a1-2b27fb73ee98"
   },
   "outputs": [],
   "source": [
    "#to_remove solution\n",
    "def functionA(A: torch.Tensor, B: torch.Tensor) -> torch.Tensor:\n",
    "\n",
    "  # TODO multiplication the sum of the tensors\n",
    "  output = A.sum(axis=0) * B.sum()\n",
    "  return output\n",
    "\n",
    "\n",
    "def functionB(C: torch.Tensor) -> torch.Tensor:\n",
    "\n",
    "  # TODO flatten the tensor  C\n",
    "  C = C.flatten()\n",
    "  # TODO create the idx tensor to be concatenated to C\n",
    "  idx_tensor = torch.arange(0, len(C))\n",
    "  # TODO concatenate the two tensors\n",
    "  output = torch.cat([idx_tensor.unsqueeze(0), C.unsqueeze(0)], axis=1)\n",
    "\n",
    "  output = torch.zeros(1)\n",
    "  return output\n",
    "\n",
    "\n",
    "def functionC(D: torch.Tensor, E: torch.Tensor) -> torch.Tensor:\n",
    "\n",
    "  # TODO check we can reshape E into the shape of D\n",
    "  if torch.numel(D) == torch.numel(E):\n",
    "    # TODO reshape E into the shape of D\n",
    "    E = E.reshape(D.shape)\n",
    "    # TODO sum the two tensors\n",
    "    output = D + E\n",
    "  else:\n",
    "    # TODO flatten both tensors\n",
    "    D = D.reshape(1, -1)\n",
    "    E = E.reshape(1, -1)\n",
    "    # TODO concatenate the two tensors in the correct dimension\n",
    "    output = torch.cat([D, E], axis=1)\n",
    "\n",
    "  return output\n",
    "\n",
    "\n",
    "## Implement the functions above and then uncomment the following lines to test your code\n",
    "print(functionA(torch.tensor([[1, 1], [1, 1]]), torch.tensor([[1, 2, 3], [1, 2, 3]])))\n",
    "print(functionB(torch.tensor([[2, 3], [-1, 10]])))\n",
    "print(functionC(torch.tensor([[1, -1], [-1, 3]]), torch.tensor([[2, 3, 0, 2]])))\n",
    "print(functionC(torch.tensor([[1, -1], [-1, 3]]), torch.tensor([[2, 3, 0]])))"
   ]
  },
  {
   "cell_type": "markdown",
   "metadata": {},
   "source": [
    "```\n",
    "tensor([24, 24])\n",
    "tensor([0.])\n",
    "tensor([[ 3,  2],\n",
    "        [-1,  5]])\n",
    "tensor([[ 1, -1, -1,  3,  2,  3,  0]])\n",
    "```"
   ]
  },
  {
   "cell_type": "markdown",
   "metadata": {},
   "source": [
    "## Section 2.4: GPUs \n"
   ]
  },
  {
   "cell_type": "code",
   "execution_count": null,
   "metadata": {
    "cellView": "form",
    "colab": {
     "base_uri": "https://localhost:8080/",
     "height": 581,
     "referenced_widgets": [
      "ee6013caf1cd4b08880947a157084d02",
      "9afbbb1190b4495aa2e7c88aff8f6977",
      "ac997374e60a4093a32811aa04c0c030",
      "bb737cc3cf644fc9be8386f5177096f6",
      "3556dfb08ad144fca5a6b093aa169588",
      "a4ef9df0a770496e95e7bca5212a5002"
     ]
    },
    "outputId": "88cd2d71-9acc-42b2-aef5-7be09f18e561"
   },
   "outputs": [],
   "source": [
    "#@title Video 6: GPU vs CPU\n",
    "from ipywidgets import widgets\n",
    "\n",
    "out2 = widgets.Output()\n",
    "with out2:\n",
    "  from IPython.display import IFrame\n",
    "  class BiliVideo(IFrame):\n",
    "    def __init__(self, id, page=1, width=400, height=300, **kwargs):\n",
    "      self.id=id\n",
    "      src = \"https://player.bilibili.com/player.html?bvid={0}&page={1}\".format(id, page)\n",
    "      super(BiliVideo, self).__init__(src, width, height, **kwargs)\n",
    "\n",
    "  video = BiliVideo(id=f\"\", width=854, height=480, fs=1)\n",
    "  print(\"Video available at https://www.bilibili.com/video/{0}\".format(video.id))\n",
    "  display(video)\n",
    "\n",
    "out1 = widgets.Output()\n",
    "with out1:\n",
    "  from IPython.display import YouTubeVideo\n",
    "  video = YouTubeVideo(id=f\"9Mc9GFUtILY\", width=854, height=480, fs=1, rel=0)\n",
    "  print(\"Video available at https://youtube.com/watch?v=\" + video.id)\n",
    "  display(video)\n",
    "\n",
    "out = widgets.Tab([out1, out2])\n",
    "out.set_title(0, 'Youtube')\n",
    "out.set_title(1, 'Bilibili')\n",
    "\n",
    "display(out)"
   ]
  },
  {
   "cell_type": "markdown",
   "metadata": {},
   "source": [
    "\n",
    "By default, when we create a tensor it will *not* live on the GPU! "
   ]
  },
  {
   "cell_type": "code",
   "execution_count": null,
   "metadata": {
    "colab": {
     "base_uri": "https://localhost:8080/"
    },
    "outputId": "c608f925-34aa-4f93-8255-5d3ee8e377ce"
   },
   "outputs": [],
   "source": [
    "x = torch.randn(10)\n",
    "print(x.device)"
   ]
  },
  {
   "cell_type": "markdown",
   "metadata": {},
   "source": [
    "When using Colab notebooks by default will note have access to a GPU. In order to start using GPUs we need to request one. We can do this by going to the runtime tab at the top of the page. \n",
    "\n",
    "By following Runtime -> Change runtime type and selecting \"GPU\" from the Hardware Accelerator dropdown list, we can start playing with sending tensors to GPUs.\n",
    "\n",
    "Once you have done this your runtime will restart and you will need to rerun the first setup cell to reimport PyTorch. Then proceed to the next cell.\n",
    "\n",
    "(For more information on the GPU usage policy you can view in the appendix)"
   ]
  },
  {
   "cell_type": "markdown",
   "metadata": {},
   "source": [
    "**Now we have a GPU**\n"
   ]
  },
  {
   "cell_type": "markdown",
   "metadata": {},
   "source": [
    "The cell below should return True."
   ]
  },
  {
   "cell_type": "code",
   "execution_count": null,
   "metadata": {
    "colab": {
     "base_uri": "https://localhost:8080/"
    },
    "outputId": "fce9946c-8c4a-40e0-a2d9-600ff9fe84fb"
   },
   "outputs": [],
   "source": [
    "print(torch.cuda.is_available())"
   ]
  },
  {
   "cell_type": "markdown",
   "metadata": {},
   "source": [
    "CUDA is an API developed by Nvidia for interfacing with GPUs. PyTorch provides us with a layer of abstraction, and allows us to launch CUDA kernels using pure Python. *NOTE I am assuming that GPU stuff might be covered in more detail on another day but there could be a bit more detail here.*\n",
    "\n",
    "In short, we get the power of parallising our tensor computations on GPUs, whilst only writing (relatively) simple Python!\n",
    "\n",
    "Let's make some CUDA tensors!"
   ]
  },
  {
   "cell_type": "code",
   "execution_count": null,
   "metadata": {},
   "outputs": [],
   "source": [
    "def set_device():\n",
    "  device = \"cuda\" if torch.cuda.is_available() else \"cpu\"\n",
    "  if device != \"cuda\":\n",
    "    print(\"WARNING: For this notebook to perform best, \"\n",
    "        \"if possible, in the menu under `Runtime` -> \"\n",
    "        \"`Change runtime type.`  select `GPU` \")\n",
    "  else:\n",
    "    print(\"GPU is enabled in this notebook.\")\n",
    "\n",
    "  return device"
   ]
  },
  {
   "cell_type": "code",
   "execution_count": null,
   "metadata": {
    "colab": {
     "base_uri": "https://localhost:8080/"
    },
    "outputId": "fd0b6262-1163-43a4-d389-ade03d02c6e0"
   },
   "outputs": [],
   "source": [
    "# common device agnostic way of writing code that can run on cpu OR gpu\n",
    "# that we provide for you in each of the tutorials\n",
    "device = set_device()\n",
    "\n",
    "# we can specify a device when we first create our tensor\n",
    "x = torch.randn(2, 2, device=device)\n",
    "print(x.dtype)\n",
    "print(x.device)\n",
    "\n",
    "# we can also use the .to() method to change the device a tensor lives on\n",
    "y = torch.randn(2,2)\n",
    "print(f\"y before calling to() |  device: {y.device} | dtype: {y.type()}\")\n",
    "\n",
    "y = y.to(device)\n",
    "print(f\"y after calling to() |  device: {y.device} | dtype: {y.type()}\")"
   ]
  },
  {
   "cell_type": "markdown",
   "metadata": {},
   "source": [
    "**Operations between cpu tensors and cuda tensors**\n",
    "\n",
    "Note that the type of the tensor changed after calling ```.to()```. What happens if we try and perform operations on tensors on devices?\n",
    "\n",
    "\n"
   ]
  },
  {
   "cell_type": "code",
   "execution_count": null,
   "metadata": {},
   "outputs": [],
   "source": [
    "x = torch.tensor([0, 1, 2], device=\"cuda\")\n",
    "y = torch.tensor([3, 4, 5], device=\"cpu\")\n",
    "\n",
    "# Uncomment the following line and run this cell\n",
    "# z = x + y"
   ]
  },
  {
   "cell_type": "markdown",
   "metadata": {},
   "source": [
    "We cannot combine cuda tensors and cpu tensors in this fashion. If we want to compute an operation that combines tensors on different devices, we need to move them first! We can use the ```.to()``` method as before, or the ```.cpu()``` and ```.cuda()``` methods.\n",
    "\n",
    "Genrally in this course all Deep learning is done on the GPU and any computation is done on the CPU, so sometimes we have to pass things back and forth so you'll see us call\n",
    "\n",
    "\n",
    "\n",
    " "
   ]
  },
  {
   "cell_type": "code",
   "execution_count": null,
   "metadata": {
    "colab": {
     "base_uri": "https://localhost:8080/"
    },
    "outputId": "b5b18469-7ffc-4162-cd45-41da8f0703a9"
   },
   "outputs": [],
   "source": [
    "x = torch.tensor([0, 1, 2], device=\"cuda\")\n",
    "y = torch.tensor([3, 4, 5], device=\"cpu\")\n",
    "z = torch.tensor([6, 7, 8], device=\"cuda\")\n",
    "\n",
    "# moving to cpu\n",
    "x = x.cpu()\n",
    "print(x + y)\n",
    "\n",
    "# moving to gpu\n",
    "y = y.cuda()\n",
    "print(y + z)"
   ]
  },
  {
   "cell_type": "markdown",
   "metadata": {},
   "source": [
    "### Coding Exercise 2.4: Just how much faster are GPUs?\n",
    "\n",
    "Below is a simple function. Complete the second function, such that it is performs the same operations as the first function, but entirely on the GPU."
   ]
  },
  {
   "cell_type": "code",
   "execution_count": null,
   "metadata": {
    "colab": {
     "base_uri": "https://localhost:8080/"
    },
    "outputId": "b1385bcb-a3a5-4ff9-f83a-37b795f82fc6"
   },
   "outputs": [],
   "source": [
    "def simpleFun():\n",
    "  x = torch.rand(10000, 10000)\n",
    "  y = torch.rand_like(x)\n",
    "  z = 2*torch.ones(10000, 10000)\n",
    "\n",
    "  x = x * y\n",
    "  x = x @ z\n",
    "\n",
    "\n",
    "print(simpleFun())"
   ]
  },
  {
   "cell_type": "code",
   "execution_count": null,
   "metadata": {},
   "outputs": [],
   "source": [
    "def simpleFunGPU():\n",
    "  ###############################################\n",
    "  ## TODO for students: recreate the above function, but\n",
    "  ## ensure all computation happens  on the GPU\n",
    "  raise NotImplementedError(\"Student exercise: fill in the missing code to create the tensors\")\n",
    "  ###############################################\n",
    "  x = ...\n",
    "  y = ...\n",
    "  z = ...\n",
    "\n",
    "  x = ...\n",
    "  y = ...\n",
    "\n",
    "\n",
    "## Implement the function above and uncomment the following lines to test your code\n",
    "# timeFun(simpleFun, iterations=1)\n",
    "# timeFun(simpleFunGPU, iterations=1)"
   ]
  },
  {
   "cell_type": "code",
   "execution_count": null,
   "metadata": {
    "colab": {
     "base_uri": "https://localhost:8080/"
    },
    "outputId": "373ad9de-7850-48c3-b541-2517fb44e49a"
   },
   "outputs": [],
   "source": [
    "#to_remove solution\n",
    "def simpleFunGPU():\n",
    "\n",
    "  x = torch.rand(10000, 10000).to(\"cuda\")\n",
    "  y = torch.rand_like(x).to(\"cuda\")\n",
    "  z = 2*torch.ones(10000, 10000).to(\"cuda\")\n",
    "\n",
    "  x = x * y\n",
    "  x = x @ z\n",
    "\n",
    "\n",
    "## Implement the function above and uncomment the following lines to test your code\n",
    "timeFun(simpleFun, iterations=1)\n",
    "timeFun(simpleFunGPU, iterations=1)"
   ]
  },
  {
   "cell_type": "markdown",
   "metadata": {},
   "source": [
    "## Section 2.5: Datasets and Dataloaders\n",
    "\n"
   ]
  },
  {
   "cell_type": "code",
   "execution_count": null,
   "metadata": {
    "cellView": "form",
    "colab": {
     "base_uri": "https://localhost:8080/",
     "height": 581,
     "referenced_widgets": [
      "436553e237524d8ab6884eb3b098fd2a",
      "38338a948eef4b2ea56988955ed027aa",
      "496bb8620d054386a4ae9aaf17c849b7",
      "dc26a9087a1d4b9682d447625b1946a7",
      "9b00bc6a7556495eb853db417045e4d3",
      "c9d6b57446ea486495f2b444de730b04"
     ]
    },
    "outputId": "559d9c85-8469-4fbf-c5a7-ab0f43eb13f6"
   },
   "outputs": [],
   "source": [
    "#@title Video 7: Getting Data\n",
    "from ipywidgets import widgets\n",
    "\n",
    "out2 = widgets.Output()\n",
    "with out2:\n",
    "  from IPython.display import IFrame\n",
    "  class BiliVideo(IFrame):\n",
    "    def __init__(self, id, page=1, width=400, height=300, **kwargs):\n",
    "      self.id=id\n",
    "      src = \"https://player.bilibili.com/player.html?bvid={0}&page={1}\".format(id, page)\n",
    "      super(BiliVideo, self).__init__(src, width, height, **kwargs)\n",
    "\n",
    "  video = BiliVideo(id=f\"\", width=854, height=480, fs=1)\n",
    "  print(\"Video available at https://www.bilibili.com/video/{0}\".format(video.id))\n",
    "  display(video)\n",
    "\n",
    "out1 = widgets.Output()\n",
    "with out1:\n",
    "  from IPython.display import YouTubeVideo\n",
    "  video = YouTubeVideo(id=f\"LSkjPM1gFu0\", width=854, height=480, fs=1, rel=0)\n",
    "  print(\"Video available at https://youtube.com/watch?v=\" + video.id)\n",
    "  display(video)\n",
    "\n",
    "out = widgets.Tab([out1, out2])\n",
    "out.set_title(0, 'Youtube')\n",
    "out.set_title(1, 'Bilibili')\n",
    "\n",
    "display(out)"
   ]
  },
  {
   "cell_type": "markdown",
   "metadata": {},
   "source": [
    "When training neural network models you will be working with large amounts of data. Fortunately, PyTorch offers some great tools that help you organize and manipulate your data samples.\n"
   ]
  },
  {
   "cell_type": "code",
   "execution_count": null,
   "metadata": {},
   "outputs": [],
   "source": [
    "# Import dataset and dataloaders related packages\n",
    "from torchvision import datasets\n",
    "from torchvision.transforms import ToTensor\n",
    "from torch.utils.data import DataLoader\n",
    "from torchvision.transforms import Compose, Grayscale"
   ]
  },
  {
   "cell_type": "markdown",
   "metadata": {},
   "source": [
    "**Datasets**\n",
    "\n",
    "The `torchvision` package gives you easy access to many of the publicly available datasets. Let's load the [CIFAR10](https://www.cs.toronto.edu/~kriz/cifar.html) dataset, which contains color images of 10 different classes, like vehicles and animals.\n",
    "\n",
    "Creating an object of type `datasets.CIFAR10` will automatically download and load all images from the dataset. The resulting data structure can be treated as a list containing data samples and their corresponding labels."
   ]
  },
  {
   "cell_type": "code",
   "execution_count": null,
   "metadata": {
    "colab": {
     "base_uri": "https://localhost:8080/"
    },
    "outputId": "e90d42be-6cbf-464e-f981-44b345e34ee6"
   },
   "outputs": [],
   "source": [
    "# Download and load the images from the CIFAR10 dataset\n",
    "cifar10_data = datasets.CIFAR10(\n",
    "    root=\"data\",            # path where the images will be stored\n",
    "    download=True,          # all images should be downloaded\n",
    "    transform=ToTensor()    # transform the images to tensors\n",
    "    )\n",
    "\n",
    "# Print the number of samples in the loaded dataset\n",
    "print(f\"Number of samples:{len(cifar10_data)}\")\n",
    "print(f\"Class names:{cifar10_data.classes}\")"
   ]
  },
  {
   "cell_type": "markdown",
   "metadata": {},
   "source": [
    "We have 50000 samples loaded. Now let's take a look at one of them in detail. Each sample consists of an image and its corresponding label."
   ]
  },
  {
   "cell_type": "code",
   "execution_count": null,
   "metadata": {
    "colab": {
     "base_uri": "https://localhost:8080/"
    },
    "outputId": "3dbed2d9-b2e6-49e4-934f-184d3a85c7ed"
   },
   "outputs": [],
   "source": [
    "# Choose a random sample\n",
    "random.seed(2021)\n",
    "image, label = cifar10_data[random.randint(0, len(cifar10_data))]\n",
    "print('Label:', cifar10_data.classes[label])\n",
    "print('Image size:', image.shape)"
   ]
  },
  {
   "cell_type": "markdown",
   "metadata": {},
   "source": [
    "Color images are modeled as 3 dimensional tensors. The first dimension corresponds to the channels (C) of the image (in this case we have RGB images). The second dimensions is the height (H) of the image and the third is the width (W). We can denote this image format as C × H × W.\n",
    "\n",
    "### Coding Exercise 2.5: Display an image from the dataset\n",
    "\n",
    "Let's try to display the image using `matplotlib`. The code below will not work, because `imshow` expects to have the image in a different format - H × W × C.\n",
    "\n",
    "You need to reorder the dimensions of the tensor using the `permute` method of the tensor."
   ]
  },
  {
   "cell_type": "code",
   "execution_count": null,
   "metadata": {},
   "outputs": [],
   "source": [
    "# TODO: Uncomment the following line to see the error that arises from the current image format\n",
    "# plt.imshow(image)\n",
    "\n",
    "# TODO: Comment the above line and fix this code by reordering the tensor dimensions\n",
    "# plt.imshow(image.permute(...))"
   ]
  },
  {
   "cell_type": "code",
   "execution_count": null,
   "metadata": {
    "colab": {
     "base_uri": "https://localhost:8080/",
     "height": 447
    },
    "outputId": "c5532b4f-a30a-4c90-f889-54225a88b941"
   },
   "outputs": [],
   "source": [
    "#to_remove solution\n",
    "\n",
    "# TODO: Uncomment the following line to see the error that arises from the current image format\n",
    "# plt.imshow(image)\n",
    "\n",
    "# TODO: Comment the above line and fix this code by reordering the tensor dimensions\n",
    "plt.imshow(image.permute(1, 2, 0))"
   ]
  },
  {
   "cell_type": "code",
   "execution_count": null,
   "metadata": {
    "cellView": "form",
    "colab": {
     "base_uri": "https://localhost:8080/",
     "height": 581,
     "referenced_widgets": [
      "afd7ed34158f40b9b10d1f58342b3e54",
      "3ad270f93c37413db356a36c44a401a3",
      "7797db129ec643be9350548139f59b96",
      "09880371ab2e46a8b2240e1035b7d9fb",
      "93e5ccc6e8e24d01851d7e1dfc0c7c9b",
      "f1f773d6d3ea4cf5b185430efd3e11df"
     ]
    },
    "outputId": "91f62921-0a05-477f-c80a-b3f6e03395bb"
   },
   "outputs": [],
   "source": [
    "#@title Video 8: Train and Test\n",
    "from ipywidgets import widgets\n",
    "\n",
    "out2 = widgets.Output()\n",
    "with out2:\n",
    "  from IPython.display import IFrame\n",
    "  class BiliVideo(IFrame):\n",
    "    def __init__(self, id, page=1, width=400, height=300, **kwargs):\n",
    "      self.id=id\n",
    "      src = \"https://player.bilibili.com/player.html?bvid={0}&page={1}\".format(id, page)\n",
    "      super(BiliVideo, self).__init__(src, width, height, **kwargs)\n",
    "\n",
    "  video = BiliVideo(id=f\"\", width=854, height=480, fs=1)\n",
    "  print(\"Video available at https://www.bilibili.com/video/{0}\".format(video.id))\n",
    "  display(video)\n",
    "\n",
    "out1 = widgets.Output()\n",
    "with out1:\n",
    "  from IPython.display import YouTubeVideo\n",
    "  video = YouTubeVideo(id=f\"JokSIuPs-ys\", width=854, height=480, fs=1, rel=0)\n",
    "  print(\"Video available at https://youtube.com/watch?v=\" + video.id)\n",
    "  display(video)\n",
    "\n",
    "out = widgets.Tab([out1, out2])\n",
    "out.set_title(0, 'Youtube')\n",
    "out.set_title(1, 'Bilibili')\n",
    "\n",
    "display(out)"
   ]
  },
  {
   "cell_type": "markdown",
   "metadata": {},
   "source": [
    "**Training and Test Datasets**\n",
    "\n",
    "When loading a dataset, you can specify if you want to load the training or the test samples using the `train` argument. We can load the training and test datasets separately. For simplicity, today we will not use both datasets separately, but this topic will be adressed in the next days."
   ]
  },
  {
   "cell_type": "code",
   "execution_count": null,
   "metadata": {
    "colab": {
     "base_uri": "https://localhost:8080/"
    },
    "outputId": "b0a408b8-3478-4340-9d71-d11540e1e01c"
   },
   "outputs": [],
   "source": [
    "# Load the training samples\n",
    "training_data = datasets.CIFAR10(\n",
    "    root=\"data\",\n",
    "    train=True,\n",
    "    download=True,\n",
    "    transform=ToTensor()\n",
    "    )\n",
    "\n",
    "# Load the test samples\n",
    "test_data = datasets.CIFAR10(\n",
    "    root=\"data\",\n",
    "    train=False,\n",
    "    download=True,\n",
    "    transform=ToTensor()\n",
    "    )"
   ]
  },
  {
   "cell_type": "code",
   "execution_count": null,
   "metadata": {
    "cellView": "form",
    "colab": {
     "base_uri": "https://localhost:8080/",
     "height": 581,
     "referenced_widgets": [
      "141a39fb2702490bbcc6a0f8d11105f3",
      "53d68d116a4f45c5b930e315eda2e2d2",
      "105d88040cb34f75a3f229b07e826750",
      "31c2b2a762bf44b4a1302030bca0f8e9",
      "9182241f907e4cbcb0b8f811b26c8fce",
      "022dfeb755be480699ab0bf9e4f79130"
     ]
    },
    "outputId": "146e84c9-ee38-47c9-8fa1-ac9707b36bbc"
   },
   "outputs": [],
   "source": [
    "#@title Video 9: Data Augmentation - Transformations\n",
    "from ipywidgets import widgets\n",
    "\n",
    "out2 = widgets.Output()\n",
    "with out2:\n",
    "  from IPython.display import IFrame\n",
    "  class BiliVideo(IFrame):\n",
    "    def __init__(self, id, page=1, width=400, height=300, **kwargs):\n",
    "      self.id=id\n",
    "      src = \"https://player.bilibili.com/player.html?bvid={0}&page={1}\".format(id, page)\n",
    "      super(BiliVideo, self).__init__(src, width, height, **kwargs)\n",
    "\n",
    "  video = BiliVideo(id=f\"\", width=854, height=480, fs=1)\n",
    "  print(\"Video available at https://www.bilibili.com/video/{0}\".format(video.id))\n",
    "  display(video)\n",
    "\n",
    "out1 = widgets.Output()\n",
    "with out1:\n",
    "  from IPython.display import YouTubeVideo\n",
    "  video = YouTubeVideo(id=f\"sjegA9OBUPw\", width=854, height=480, fs=1, rel=0)\n",
    "  print(\"Video available at https://youtube.com/watch?v=\" + video.id)\n",
    "  display(video)\n",
    "\n",
    "out = widgets.Tab([out1, out2])\n",
    "out.set_title(0, 'Youtube')\n",
    "out.set_title(1, 'Bilibili')\n",
    "\n",
    "display(out)"
   ]
  },
  {
   "cell_type": "markdown",
   "metadata": {},
   "source": [
    "**Dataloader**\n",
    "\n",
    "Another important concept is the `Dataloader`. It is a wrapper around the `Dataset` that splits it into minibatches (important for training the neural network) and makes the data iterable. The `shuffle` argument is used to shuffle the order of the samples across the minibatches.\n"
   ]
  },
  {
   "cell_type": "code",
   "execution_count": null,
   "metadata": {},
   "outputs": [],
   "source": [
    "# Create dataloaders with\n",
    "train_dataloader = DataLoader(training_data, batch_size=64, shuffle=True)\n",
    "test_dataloader = DataLoader(test_data, batch_size=64, shuffle=True)"
   ]
  },
  {
   "cell_type": "markdown",
   "metadata": {},
   "source": [
    "*Reproducibility:* DataLoader will reseed workers following Randomness in multi-process data loading algorithm. Use `worker_init_fn()` and a `generator` to preserve reproducibility:\n",
    "\n",
    "\n",
    "```python\n",
    "def seed_worker(worker_id):\n",
    "    worker_seed = torch.initial_seed() % 2**32\n",
    "    numpy.random.seed(worker_seed)\n",
    "    random.seed(worker_seed)\n",
    "\n",
    "\n",
    "g = torch.Generator()\n",
    "g.manual_seed(0)\n",
    "\n",
    "DataLoader(\n",
    "    train_dataset,\n",
    "    batch_size=batch_size,\n",
    "    num_workers=num_workers,\n",
    "    worker_init_fn=seed_worker,\n",
    "    generator=g\n",
    "    )\n",
    "```"
   ]
  },
  {
   "cell_type": "markdown",
   "metadata": {},
   "source": [
    "We can now query the next batch from the data loader and inspect it. For this we need to convert the dataloader object to a Python iterator using the function `iter` and then we can query the next batch using the function `next`.\n",
    "\n",
    "We can now see that we have a 4D tensor. This is because we have a 64 images in the batch (B) and each image has 3 dimensions: channels (C), height (H) and width (W). So, the size of the 4D tensor is B × C × H × W."
   ]
  },
  {
   "cell_type": "code",
   "execution_count": null,
   "metadata": {
    "colab": {
     "base_uri": "https://localhost:8080/",
     "height": 465
    },
    "outputId": "2d7ca089-2d04-41f9-fd98-98e32093f7a9"
   },
   "outputs": [],
   "source": [
    "# Load the next batch\n",
    "batch_images, batch_labels = next(iter(train_dataloader))\n",
    "print('Batch size:', batch_images.shape)\n",
    "\n",
    "# Display the first image from the batch\n",
    "plt.imshow(batch_images[0].permute(1, 2, 0))"
   ]
  },
  {
   "cell_type": "markdown",
   "metadata": {},
   "source": [
    "**Transformations**\n",
    "\n",
    "Another useful feature when loading a dataset is applying transformations on the data - color conversions, normalization, cropping, rotation etc. There are many predefined transformations in the `torchvision.transforms` package and you can also combine them using the `Compose` transform. Checkout the [pytorch documentation](https://pytorch.org/vision/stable/transforms.html) for details.\n",
    "\n",
    "### Coding Exercise 2.6: Load the CIFAR10 dataset as grayscale images\n",
    "\n",
    "The goal of this excercise is to load the images from the CIFAR10 dataset as grayscale images. "
   ]
  },
  {
   "cell_type": "code",
   "execution_count": null,
   "metadata": {
    "colab": {
     "base_uri": "https://localhost:8080/"
    },
    "outputId": "c8617985-d11b-4f5e-874b-b273ea772e9a"
   },
   "outputs": [],
   "source": [
    "\n",
    "def my_data_load():\n",
    "  ###############################################\n",
    "  ## TODO for students: recreate the above function, but\n",
    "  ## ensure all computation happens  on the GPU\n",
    "  raise NotImplementedError(\"Student exercise: fill in the missing code to load the data\")\n",
    "  ###############################################\n",
    "  ## TODO Load the CIFAR10 data using a transform that converts the images to grayscale tensors\n",
    "  data = datasets.CIFAR10(...,\n",
    "                          transform=...)\n",
    "  # Display a random grayscale image\n",
    "  image, label = data[random.randint(0, len(data))]\n",
    "  plt.imshow(image.squeeze(), cmap=\"gray\")\n",
    "\n",
    "\n",
    "set_seed(seed=2021)\n",
    "## After implementing the above code, uncomment the following lines to test your code\n",
    "# my_data_load()"
   ]
  },
  {
   "cell_type": "code",
   "execution_count": null,
   "metadata": {
    "colab": {
     "base_uri": "https://localhost:8080/",
     "height": 465
    },
    "outputId": "2b0da83a-e065-4000-bf8c-887792fc63e2"
   },
   "outputs": [],
   "source": [
    "#to_remove solution\n",
    "def my_data_load():\n",
    "\n",
    "  ## TODO Load the CIFAR10 data using a transform that converts the images to grayscale tensors\n",
    "  data = datasets.CIFAR10(root=\"data\", download=True,\n",
    "                          transform=Compose([ToTensor(), Grayscale()]))\n",
    "  # Display a random grayscale image\n",
    "  image, label = data[random.randint(0, len(data))]\n",
    "  plt.imshow(image.squeeze(), cmap=\"gray\")\n",
    "\n",
    "\n",
    "set_seed(seed=2021)\n",
    "## After implementing the above code, uncomment the following lines to test your code\n",
    "my_data_load()"
   ]
  },
  {
   "cell_type": "markdown",
   "metadata": {},
   "source": [
    "#Section 3:  Neural Networks\n",
    "\n",
    "Now it's time for you to create your first neural network using PyTorch. This section will walk you through the process of:\n",
    "- Creating a simple neural network model\n",
    "- Training the network\n",
    "- Visualizing the results of the network\n",
    "- Tweeking the network\n",
    "\n"
   ]
  },
  {
   "cell_type": "code",
   "execution_count": null,
   "metadata": {
    "cellView": "form",
    "colab": {
     "base_uri": "https://localhost:8080/",
     "height": 581,
     "referenced_widgets": [
      "524d257bcfe6480cb35b5e59639e53ed",
      "97dd07ed66a5463cbfacea9b6a6d90b7",
      "cf9c852be2ce495693410d2f6166e512",
      "ea7363c18f0a44e8be033523258f6b79",
      "1b92405be8154df1bfd91996823eddd0",
      "0b7a371a653847a7968fead45e85474a"
     ]
    },
    "outputId": "f707fc86-753f-4384-8a7c-523c9901b738"
   },
   "outputs": [],
   "source": [
    "#@title Video 10: CSV Files\n",
    "from ipywidgets import widgets\n",
    "\n",
    "out2 = widgets.Output()\n",
    "with out2:\n",
    "  from IPython.display import IFrame\n",
    "  class BiliVideo(IFrame):\n",
    "    def __init__(self, id, page=1, width=400, height=300, **kwargs):\n",
    "      self.id=id\n",
    "      src = \"https://player.bilibili.com/player.html?bvid={0}&page={1}\".format(id, page)\n",
    "      super(BiliVideo, self).__init__(src, width, height, **kwargs)\n",
    "\n",
    "  video = BiliVideo(id=f\"\", width=854, height=480, fs=1)\n",
    "  print(\"Video available at https://www.bilibili.com/video/{0}\".format(video.id))\n",
    "  display(video)\n",
    "\n",
    "out1 = widgets.Output()\n",
    "with out1:\n",
    "  from IPython.display import YouTubeVideo\n",
    "  video = YouTubeVideo(id=f\"JrC_UAJWYKU\", width=854, height=480, fs=1, rel=0)\n",
    "  print(\"Video available at https://youtube.com/watch?v=\" + video.id)\n",
    "  display(video)\n",
    "\n",
    "out = widgets.Tab([out1, out2])\n",
    "out.set_title(0, 'Youtube')\n",
    "out.set_title(1, 'Bilibili')\n",
    "\n",
    "display(out)"
   ]
  },
  {
   "cell_type": "markdown",
   "metadata": {},
   "source": [
    "## Section 3.1: Data Loading\n",
    "\n",
    "First we need some sample data to train our network on. You can use the function below to generate an example dataset consisting of 2D points along two interleaving half circles. The data will be stored in a file called `sample_data.csv`. You can inspect the file directly in Colab by going to Files on the left side and opening the CSV file."
   ]
  },
  {
   "cell_type": "code",
   "execution_count": null,
   "metadata": {
    "cellView": "form"
   },
   "outputs": [],
   "source": [
    "#@title Generate sample data\n",
    "from sklearn.datasets import make_moons\n",
    "\n",
    "# Create a dataset of 256 points with a little noise\n",
    "X, y = make_moons(256, noise=0.1)\n",
    "\n",
    "# Store the data as a Pandas data frame and save it to a CSV file\n",
    "df = pd.DataFrame(dict(x0=X[:,0], x1=X[:,1], y=y))\n",
    "df.to_csv('sample_data.csv')"
   ]
  },
  {
   "cell_type": "markdown",
   "metadata": {},
   "source": [
    "Now we can load the data from the CSV file using the Pandas library. Pandas provides many functions for reading files in varios formats. When loading data from a CSV file, we can reference the columns directly by their names."
   ]
  },
  {
   "cell_type": "code",
   "execution_count": null,
   "metadata": {
    "colab": {
     "base_uri": "https://localhost:8080/",
     "height": 483
    },
    "outputId": "379a7489-77c4-416d-804a-7614b122e02c"
   },
   "outputs": [],
   "source": [
    "# Load the data from the CSV file in a Pandas DataFrame\n",
    "data = pd.read_csv(\"sample_data.csv\")\n",
    "\n",
    "# Create a 2D numpy array from the x0 and x1 columns\n",
    "X_orig = data[[\"x0\", \"x1\"]].to_numpy()\n",
    "\n",
    "# Create a 1D numpy array from the y column\n",
    "y_orig = data[\"y\"].to_numpy()\n",
    "\n",
    "# Print the sizes of the generated 2D points X and the corresponding labels Y\n",
    "print(f\"Size X:{X_orig.shape}\")\n",
    "print(f\"Size y:{y_orig.shape}\")\n",
    "\n",
    "# Visualize the dataset. The color of the points is determined by the labels `y_orig`.\n",
    "plt.scatter(X_orig[:, 0], X_orig[:, 1], s=40, c=y_orig)"
   ]
  },
  {
   "cell_type": "markdown",
   "metadata": {},
   "source": [
    "**Prepare Data for PyTorch**\n",
    "\n",
    "Now let's prepare the data in a format suitable for PyTorch - convert everything into tensors."
   ]
  },
  {
   "cell_type": "code",
   "execution_count": null,
   "metadata": {
    "colab": {
     "base_uri": "https://localhost:8080/"
    },
    "outputId": "4bf817a2-029c-447a-e6fd-a28c7c1f10d6"
   },
   "outputs": [],
   "source": [
    "# Initialize the device variable\n",
    "device = set_device()\n",
    "\n",
    "# Convert the 2D points to a float32 tensor\n",
    "X = torch.tensor(X_orig, dtype=torch.float32)\n",
    "\n",
    "# Upload the tensor to the device\n",
    "X = X.to(device)\n",
    "\n",
    "print(f\"Size X:{X.shape}\")\n",
    "\n",
    "# Convert the labels to a long interger tensor\n",
    "y = torch.from_numpy(y_orig).type(torch.LongTensor)\n",
    "# Upload the tensor to the device\n",
    "y = y.to(device)\n",
    "\n",
    "print(f\"Size y:{y.shape}\")"
   ]
  },
  {
   "cell_type": "code",
   "execution_count": null,
   "metadata": {
    "cellView": "form",
    "colab": {
     "base_uri": "https://localhost:8080/",
     "height": 581,
     "referenced_widgets": [
      "7814ecb6e52a4b50a2e10b91aff17647",
      "ce2408ee957b49909b8cedafe090d9bb",
      "e99deba7b42049209b13688daf975041",
      "10511684903d45deae98c7376a11ef53",
      "fb36bbc48dfa4c09a46ebd158fe9b636",
      "fbda69267193483584c2df6336f1aa74"
     ]
    },
    "outputId": "da4eede2-4b27-48d9-d193-3ae2ed7cc318"
   },
   "outputs": [],
   "source": [
    "#@title Video 11: Generating the Neural Network\n",
    "from ipywidgets import widgets\n",
    "\n",
    "out2 = widgets.Output()\n",
    "with out2:\n",
    "  from IPython.display import IFrame\n",
    "  class BiliVideo(IFrame):\n",
    "    def __init__(self, id, page=1, width=400, height=300, **kwargs):\n",
    "      self.id=id\n",
    "      src = \"https://player.bilibili.com/player.html?bvid={0}&page={1}\".format(id, page)\n",
    "      super(BiliVideo, self).__init__(src, width, height, **kwargs)\n",
    "\n",
    "  video = BiliVideo(id=f\"\", width=854, height=480, fs=1)\n",
    "  print(\"Video available at https://www.bilibili.com/video/{0}\".format(video.id))\n",
    "  display(video)\n",
    "\n",
    "out1 = widgets.Output()\n",
    "with out1:\n",
    "  from IPython.display import YouTubeVideo\n",
    "  video = YouTubeVideo(id=f\"PwSzRohUvck\", width=854, height=480, fs=1, rel=0)\n",
    "  print(\"Video available at https://youtube.com/watch?v=\" + video.id)\n",
    "  display(video)\n",
    "\n",
    "out = widgets.Tab([out1, out2])\n",
    "out.set_title(0, 'Youtube')\n",
    "out.set_title(1, 'Bilibili')\n",
    "\n",
    "display(out)"
   ]
  },
  {
   "cell_type": "markdown",
   "metadata": {},
   "source": [
    "##Section 3.2: Create a Simple Neural Network\n",
    "\n",
    "For this example we want to have a simple neural network consisting of 3 layers:\n",
    "- 1 input layer of size 2 (our points have 2 coordinates)\n",
    "- 1 hidden layer of size 16 (you can play with different numbers here)\n",
    "- 1 output layer of size 2 (we want the have the scores for the two classes)\n",
    "\n",
    "During the course you will deal with differend kinds of neural networks. On Day 2 we will focus on linear networks, but you will work with some more complicated architectures in the next days. The example here is meant to demonstrate the process of creating and training a neural network end-to-end.\n",
    "\n",
    "**Programing the Network**\n",
    "\n",
    "PyTorch provides a base class for all neural network modules called [`nn.Module`](https://pytorch.org/docs/stable/generated/torch.nn.Module.html). You need to inherit from `nn.Module` and implement some important methods:\n",
    "\n",
    "#### `__init__`\n",
    "\n",
    "In the `__init__` method you need to define the structure of your network. Here you will specify what layers will the network consist of, what activation functions will be used etc.\n",
    "\n",
    "#### `forward`\n",
    "\n",
    "All neural network modules need to implement the `forward` method. It specifies the computations the network needs to do when data is passed through it.\n",
    "\n",
    "#### `predict`\n",
    "\n",
    "This is not an obligatory method of a neural network module, but it is a good practice if you want to quickly get the most likely label from the network. It calls the `forward` method and chooses the label with the highest score.\n",
    "\n",
    "#### `train`\n",
    "\n",
    "This is also not an obligatory method, but it is a good practice to have. The method will be used to train the network parameters and will be implemented later in the notebook.\n",
    "\n",
    "\n",
    "> Note that you can use the `__call__` method of a module directly and it will invoke the `forward` method: `net()` does the same as `net.forward()`."
   ]
  },
  {
   "cell_type": "code",
   "execution_count": null,
   "metadata": {},
   "outputs": [],
   "source": [
    "# Inherit from nn.Module - the base class for neural network modules provided by Pytorch\n",
    "class NaiveNet(nn.Module):\n",
    "\n",
    "  # Define the structure of your network\n",
    "  def __init__(self):\n",
    "    super(NaiveNet, self).__init__()\n",
    "\n",
    "    # The network is defined as a sequence of operations\n",
    "    self.layers = nn.Sequential(\n",
    "        nn.Linear(2, 16),  # Transformation from the input to the hidden layer\n",
    "        nn.ReLU(),         # Activation function (ReLU)\n",
    "        nn.Linear(16, 2),  # Transformation from the hidden to the output layer\n",
    "    )\n",
    "\n",
    "  # Specify the computations performed on the data\n",
    "  def forward(self, x):\n",
    "    # Pass the data through the layers\n",
    "    return self.layers(x)\n",
    "\n",
    "  # Choose the most likely label predicted by the network\n",
    "  def predict(self, x):\n",
    "    # Pass the data through the networks\n",
    "    output = self.forward(x)\n",
    "\n",
    "    # Choose the label with the highest score\n",
    "    return torch.argmax(output, 1)\n",
    "\n",
    "  # Train the neural network (will be implemented later)\n",
    "  def train(self, X, y):\n",
    "    pass"
   ]
  },
  {
   "cell_type": "markdown",
   "metadata": {},
   "source": [
    "**Check that your network works**\n",
    "\n",
    "Create an instance of your model and visualize it"
   ]
  },
  {
   "cell_type": "code",
   "execution_count": null,
   "metadata": {
    "colab": {
     "base_uri": "https://localhost:8080/"
    },
    "outputId": "1b244aa7-f959-4882-b566-a3397bcd0ef4"
   },
   "outputs": [],
   "source": [
    "# Create new NaiveNet and transfer it to the device\n",
    "model = NaiveNet().to(device)\n",
    "\n",
    "# Print the structure of the network\n",
    "print(model)"
   ]
  },
  {
   "cell_type": "markdown",
   "metadata": {},
   "source": [
    "### Coding Exercise 3.1: Classify some samples\n",
    "\n",
    "Now let's pass some of the points of our dataset through the network and see if it works. You should not expect the network to actually classify the points correctly, because it has not been trained yet. \n",
    "\n",
    "The goal here is just to get some experience with the data structures that are passed to the forward and predict methods and their results."
   ]
  },
  {
   "cell_type": "code",
   "execution_count": null,
   "metadata": {},
   "outputs": [],
   "source": [
    "# X_samples = ...\n",
    "# print(\"Sample input:\", X_samples)\n",
    "\n",
    "## Do a forward pass of the network\n",
    "# output = ...\n",
    "# print(\"Network output:\", output)\n",
    "\n",
    "## Predict the label of each point\n",
    "# y_predicted = ...\n",
    "# print(\"Predicted labels:\", y_predicted)"
   ]
  },
  {
   "cell_type": "code",
   "execution_count": null,
   "metadata": {
    "colab": {
     "base_uri": "https://localhost:8080/"
    },
    "outputId": "5619dd6f-5a09-427a-ddf2-4120f009ed61"
   },
   "outputs": [],
   "source": [
    "#to_remove solution\n",
    "X_samples = X[0:5]\n",
    "print(\"Sample input:\", X_samples)\n",
    "\n",
    "# Do a forward pass of the network\n",
    "output = model.forward(X_samples)\n",
    "print(\"Network output:\", output)\n",
    "\n",
    "# Predict the label of each point\n",
    "y_predicted = model.predict(X_samples)\n",
    "print(\"Predicted labels:\", y_predicted)"
   ]
  },
  {
   "cell_type": "markdown",
   "metadata": {},
   "source": [
    "```\n",
    "Sample input: tensor([[ 0.9066,  0.5052],\n",
    "        [-0.2024,  1.1226],\n",
    "        [ 1.0685,  0.2809],\n",
    "        [ 0.6720,  0.5097],\n",
    "        [ 0.8548,  0.5122]], device='cuda:0')\n",
    "Network output: tensor([[-0.3032, -0.5563],\n",
    "        [-0.1419, -0.3195],\n",
    "        [-0.2879, -0.6030],\n",
    "        [-0.2665, -0.4831],\n",
    "        [-0.2973, -0.5369]], device='cuda:0', grad_fn=<AddmmBackward>)\n",
    "Predicted labels: tensor([0, 0, 0, 0, 0], device='cuda:0')\n",
    "```"
   ]
  },
  {
   "cell_type": "markdown",
   "metadata": {},
   "source": [
    "## Section 3.3: Train Your Neural Network\n",
    "\n"
   ]
  },
  {
   "cell_type": "code",
   "execution_count": null,
   "metadata": {
    "cellView": "form",
    "colab": {
     "base_uri": "https://localhost:8080/",
     "height": 581,
     "referenced_widgets": [
      "9e55559c15104f1d8db76ed64e64ae0c",
      "f47ee95f6969471294cd49ba9798da4c",
      "bf0e271e76f64b7f912737e21ed8481e",
      "bb13bc951a644898945d9fbb2bd13d96",
      "ee41db7ee4164425855a97db205200aa",
      "6a7f9b27fc084235a15e3b929ea661e9"
     ]
    },
    "outputId": "7e4589e4-a8a2-4cca-dbca-80e23d9bccea"
   },
   "outputs": [],
   "source": [
    "#@title Video 12: Train the Network\n",
    "from ipywidgets import widgets\n",
    "\n",
    "out2 = widgets.Output()\n",
    "with out2:\n",
    "  from IPython.display import IFrame\n",
    "  class BiliVideo(IFrame):\n",
    "    def __init__(self, id, page=1, width=400, height=300, **kwargs):\n",
    "      self.id=id\n",
    "      src = \"https://player.bilibili.com/player.html?bvid={0}&page={1}\".format(id, page)\n",
    "      super(BiliVideo, self).__init__(src, width, height, **kwargs)\n",
    "\n",
    "  video = BiliVideo(id=f\"\", width=854, height=480, fs=1)\n",
    "  print(\"Video available at https://www.bilibili.com/video/{0}\".format(video.id))\n",
    "  display(video)\n",
    "\n",
    "out1 = widgets.Output()\n",
    "with out1:\n",
    "  from IPython.display import YouTubeVideo\n",
    "  video = YouTubeVideo(id=f\"4MIqnE4XPaA\", width=854, height=480, fs=1, rel=0)\n",
    "  print(\"Video available at https://youtube.com/watch?v=\" + video.id)\n",
    "  display(video)\n",
    "\n",
    "out = widgets.Tab([out1, out2])\n",
    "out.set_title(0, 'Youtube')\n",
    "out.set_title(1, 'Bilibili')\n",
    "\n",
    "display(out)"
   ]
  },
  {
   "cell_type": "markdown",
   "metadata": {},
   "source": [
    "Now it is time to train your network on your dataset. Don't worry if you don't fully understand everything yet - we wil cover training in much more details in the next days. For now, the goal is just to see your network in action!\n",
    "\n",
    "You will usually implement the `train` method directly when implementing your class `NaiveNet`. Here, we will implement it as a function outside of the class in order to have it in a ceparate cell."
   ]
  },
  {
   "cell_type": "code",
   "execution_count": null,
   "metadata": {
    "cellView": "form"
   },
   "outputs": [],
   "source": [
    "#@title Helper function to plot the decision boundary\n",
    "\n",
    "# Code adapted from this notebook: https://jonchar.net/notebooks/Artificial-Neural-Network-with-Keras/\n",
    "\n",
    "from pathlib import Path\n",
    "\n",
    "def plot_decision_boundary(model, X, y, device):\n",
    "  # Transfer the data to the CPU\n",
    "  X = X.cpu().numpy()\n",
    "  y = y.cpu().numpy()\n",
    "\n",
    "  # Check if the frames folder exists and create it if needed\n",
    "  frames_path = Path(\"frames\")\n",
    "  if not frames_path.exists():\n",
    "    frames_path.mkdir()\n",
    "\n",
    "  # Set min and max values and give it some padding\n",
    "  x_min, x_max = X[:, 0].min() - .5, X[:, 0].max() + .5\n",
    "  y_min, y_max = X[:, 1].min() - .5, X[:, 1].max() + .5\n",
    "  h = 0.01\n",
    "\n",
    "  # Generate a grid of points with distance h between them\n",
    "  xx, yy = np.meshgrid(np.arange(x_min, x_max, h), np.arange(y_min, y_max, h))\n",
    "\n",
    "  # Predict the function value for the whole gid\n",
    "  grid_points = np.c_[xx.ravel(), yy.ravel()]\n",
    "  grid_points = torch.from_numpy(grid_points).type(torch.FloatTensor)\n",
    "  Z = model.predict(grid_points.to(device)).cpu().numpy()\n",
    "  Z = Z.reshape(xx.shape)\n",
    "\n",
    "  # Plot the contour and training examples\n",
    "  plt.contourf(xx, yy, Z, cmap=plt.cm.Spectral)\n",
    "  plt.scatter(X[:, 0], X[:, 1], c=y, cmap=plt.cm.binary)"
   ]
  },
  {
   "cell_type": "code",
   "execution_count": null,
   "metadata": {
    "colab": {
     "base_uri": "https://localhost:8080/",
     "height": 691
    },
    "outputId": "32a20515-ec26-46fa-b0c7-e41bc89b3ac1"
   },
   "outputs": [],
   "source": [
    "# Implement the train function given a training dataset X and correcsponding labels y\n",
    "def train(model, X, y):\n",
    "  # The Cross Entropy Loss is suitable for classification problems\n",
    "  loss_function = nn.CrossEntropyLoss()\n",
    "\n",
    "  # Create an optimizer (Stochastic Gradient Descent) that will be used to train the network\n",
    "  learning_rate = 1e-2\n",
    "  optimizer = torch.optim.SGD(model.parameters(), lr=learning_rate)\n",
    "\n",
    "  # Number of epochs\n",
    "  epochs = 15000\n",
    "\n",
    "  # List of losses for visualization\n",
    "  losses = []\n",
    "\n",
    "  for i in range(epochs):\n",
    "    # Pass the data through the network and compute the loss\n",
    "    # We'll use the whole dataset during the training instead of using batches\n",
    "    # in to order to keep the code simple for now.\n",
    "    y_logits = model.forward(X)\n",
    "    loss = loss_function(y_logits, y)\n",
    "\n",
    "    # Clear the previous gradients and compute the new ones\n",
    "    optimizer.zero_grad()\n",
    "    loss.backward()\n",
    "\n",
    "    # Adapt the weights of the network\n",
    "    optimizer.step()\n",
    "\n",
    "    # Store the loss\n",
    "    losses.append(loss.item())\n",
    "\n",
    "    # Print the results at every 1000th epoch\n",
    "    if i % 1000 == 0:\n",
    "      print(f\"Epoch {i} loss is {loss.item()}\")\n",
    "\n",
    "      plot_decision_boundary(model, X, y, device)\n",
    "      plt.savefig('frames/{:05d}.png'.format(i))\n",
    "\n",
    "  return losses\n",
    "\n",
    "\n",
    "# Create a new network instance a train it\n",
    "model = NaiveNet().to(device)\n",
    "losses = train(model, X, y)"
   ]
  },
  {
   "cell_type": "markdown",
   "metadata": {},
   "source": [
    "**Plot the loss during training**\n",
    "\n",
    "Plot the loss during the training to see how it reduces and converges."
   ]
  },
  {
   "cell_type": "code",
   "execution_count": null,
   "metadata": {
    "colab": {
     "base_uri": "https://localhost:8080/",
     "height": 447
    },
    "outputId": "055139cb-0b0d-4b17-dc01-3a89e7bf9dd3"
   },
   "outputs": [],
   "source": [
    "plt.plot(np.linspace(1, len(losses), len(losses)), losses)\n",
    "plt.xlabel(\"Epoch\")\n",
    "plt.ylabel(\"Loss\")"
   ]
  },
  {
   "cell_type": "code",
   "execution_count": null,
   "metadata": {
    "cellView": "form",
    "colab": {
     "base_uri": "https://localhost:8080/",
     "height": 449
    },
    "outputId": "8cf94742-18a7-4865-b8b2-34d693002f0b"
   },
   "outputs": [],
   "source": [
    "#@title Visualize the training process\n",
    "#@markdown ### Execute this cell!\n",
    "!pip install imageio --quiet\n",
    "!pip install pathlib --quiet\n",
    "\n",
    "import imageio\n",
    "from IPython.core.interactiveshell import InteractiveShell\n",
    "from IPython.display import Image, display\n",
    "from pathlib import Path\n",
    "\n",
    "InteractiveShell.ast_node_interactivity = \"all\"\n",
    "\n",
    "# Make a list with all images\n",
    "images = []\n",
    "for i in range(10):\n",
    "  filename = \"frames/0\"+str(i)+\"000.png\"\n",
    "  images.append(imageio.imread(filename))\n",
    "# Save the gif\n",
    "imageio.mimsave('frames/movie.gif', images)\n",
    "gifPath = Path(\"frames/movie.gif\")\n",
    "with open(gifPath,'rb') as f:\n",
    "  display(Image(data=f.read(), format='png'))"
   ]
  },
  {
   "cell_type": "code",
   "execution_count": null,
   "metadata": {
    "cellView": "form",
    "colab": {
     "base_uri": "https://localhost:8080/",
     "height": 581,
     "referenced_widgets": [
      "80099f3e77c242ef8bc8c407e043b9d7",
      "0647690c6b804fe4bb39ed2c1b69cb1c",
      "dc782e8bf76948d7a4f10df29cdfe91f",
      "c81d031281624efdba486f41d1cd1d64",
      "12b52b16cdb9482b8cdacef0871daebb",
      "9ca163b4b1b94a15bc4704b366aab070"
     ]
    },
    "outputId": "ceedd2f4-a728-47b7-c701-1b872766e29f"
   },
   "outputs": [],
   "source": [
    "#@title Video 13: Play with it\n",
    "from ipywidgets import widgets\n",
    "\n",
    "out2 = widgets.Output()\n",
    "with out2:\n",
    "  from IPython.display import IFrame\n",
    "  class BiliVideo(IFrame):\n",
    "    def __init__(self, id, page=1, width=400, height=300, **kwargs):\n",
    "      self.id=id\n",
    "      src = \"https://player.bilibili.com/player.html?bvid={0}&page={1}\".format(id, page)\n",
    "      super(BiliVideo, self).__init__(src, width, height, **kwargs)\n",
    "\n",
    "  video = BiliVideo(id=f\"\", width=854, height=480, fs=1)\n",
    "  print(\"Video available at https://www.bilibili.com/video/{0}\".format(video.id))\n",
    "  display(video)\n",
    "\n",
    "out1 = widgets.Output()\n",
    "with out1:\n",
    "  from IPython.display import YouTubeVideo\n",
    "  video = YouTubeVideo(id=f\"_GGkapdOdSY\", width=854, height=480, fs=1, rel=0)\n",
    "  print(\"Video available at https://youtube.com/watch?v=\" + video.id)\n",
    "  display(video)\n",
    "\n",
    "out = widgets.Tab([out1, out2])\n",
    "out.set_title(0, 'Youtube')\n",
    "out.set_title(1, 'Bilibili')\n",
    "\n",
    "display(out)"
   ]
  },
  {
   "cell_type": "markdown",
   "metadata": {},
   "source": [
    "### Exercise 3.2: Tweak your Network\n",
    "\n",
    "You can now play around with the network a little bit to get a feeling of what different parameters are doing. Here are some ideas what you could try:\n",
    "- Increase or decrease the number of epochs for training\n",
    "- Increase or decrease the size of the hidden layer\n",
    "- Add one additional hidden layer\n",
    "\n",
    "Can you get the network to better fit the data?"
   ]
  },
  {
   "cell_type": "code",
   "execution_count": null,
   "metadata": {
    "cellView": "form",
    "colab": {
     "base_uri": "https://localhost:8080/",
     "height": 581,
     "referenced_widgets": [
      "c2a35cfaff0a4cd0a0c3377afa290521",
      "4c2ef97dde8a437e8c5add9ea38418ae",
      "a2520d98d54548639125cfa850768a5b",
      "d1477a027f6b4da28369e5e226ec7edc",
      "db1e6153865b4e5d92b96b18a85b4ed9",
      "300d80d0790e493e84f9c3a29d6dd8a9"
     ]
    },
    "outputId": "c6478f88-6098-4572-c0e8-8ea181c6ac77"
   },
   "outputs": [],
   "source": [
    "#@title Video 14: XOR Widget\n",
    "from ipywidgets import widgets\n",
    "\n",
    "out2 = widgets.Output()\n",
    "with out2:\n",
    "  from IPython.display import IFrame\n",
    "  class BiliVideo(IFrame):\n",
    "    def __init__(self, id, page=1, width=400, height=300, **kwargs):\n",
    "      self.id=id\n",
    "      src = \"https://player.bilibili.com/player.html?bvid={0}&page={1}\".format(id, page)\n",
    "      super(BiliVideo, self).__init__(src, width, height, **kwargs)\n",
    "\n",
    "  video = BiliVideo(id=f\"\", width=854, height=480, fs=1)\n",
    "  print(\"Video available at https://www.bilibili.com/video/{0}\".format(video.id))\n",
    "  display(video)\n",
    "\n",
    "out1 = widgets.Output()\n",
    "with out1:\n",
    "  from IPython.display import YouTubeVideo\n",
    "  video = YouTubeVideo(id=f\"cnu7pyRx_u0\", width=854, height=480, fs=1, rel=0)\n",
    "  print(\"Video available at https://youtube.com/watch?v=\" + video.id)\n",
    "  display(video)\n",
    "\n",
    "out = widgets.Tab([out1, out2])\n",
    "out.set_title(0, 'Youtube')\n",
    "out.set_title(1, 'Bilibili')\n",
    "\n",
    "display(out)"
   ]
  },
  {
   "cell_type": "markdown",
   "metadata": {},
   "source": [
    "### Interactive Demo: Solving XOR\n",
    "\n",
    "Here we use an open source and famous visualization widget developed by Tensorflow team available [here](https://github.com/tensorflow/playground).\n",
    "* Play with the widget and observe that you can not solve the continuous XOR dataset.\n",
    "* Now add one hidden layer with three units, play with the widget, and set weights by hand to solve this dataset perfectly.\n",
    "\n",
    "For the second part, you should set the weights by clicking on the connections and either type the value or use the up and down keys to change it by one increment. You could also do the same for the biases by clicking on the tiny square to each neuron's bottom left.\n",
    "Even though there are infinitely many solutions, a neat solution when $f(x)$ is ReLU is: \n",
    "\n",
    "\\begin{equation}\n",
    "  y = f(x_1)+f(x_2)-f(x_1+x_2)\n",
    "\\end{equation}\n",
    "\n",
    "Try to set the weights and biases to implement this function after you played enough :)"
   ]
  },
  {
   "cell_type": "code",
   "execution_count": null,
   "metadata": {
    "cellView": "form",
    "colab": {
     "base_uri": "https://localhost:8080/",
     "height": 686
    },
    "outputId": "38e6caa5-c330-4968-b23d-f0ba0fd808bd"
   },
   "outputs": [],
   "source": [
    "#@markdown ###Play with the parameters to solve XOR\n",
    "from IPython.display import HTML\n",
    "HTML('<iframe width=\"1020\" height=\"660\" src=\"https://playground.arashash.com/#activation=relu&batchSize=10&dataset=xor&regDataset=reg-plane&learningRate=0.03&regularizationRate=0&noise=0&networkShape=&seed=0.91390&showTestData=false&discretize=false&percTrainData=90&x=true&y=true&xTimesY=false&xSquared=false&ySquared=false&cosX=false&sinX=false&cosY=false&sinY=false&collectStats=false&problem=classification&initZero=false&hideText=false\" allowfullscreen></iframe>')"
   ]
  },
  {
   "cell_type": "code",
   "execution_count": null,
   "metadata": {
    "cellView": "form",
    "colab": {
     "base_uri": "https://localhost:8080/"
    },
    "outputId": "63bd7621-9e75-401d-ca57-d2ef4fe93494"
   },
   "outputs": [],
   "source": [
    "#@markdown Do you think we can solve the discrete XOR (only 4 possibilities) with only 2 hidden units?\n",
    "w1_min_xor = 'No' #@param ['Select', 'Yes', 'No']\n",
    "if w1_min_xor == 'No':\n",
    "  print(\"Correct!\")\n",
    "else:\n",
    "  print(\"How about giving it another try?\")"
   ]
  },
  {
   "cell_type": "markdown",
   "metadata": {},
   "source": [
    "---\n",
    "#Section 4: Ethics\n",
    "\n",
    "Let us watch the coded bias movie together and discuss"
   ]
  },
  {
   "cell_type": "code",
   "execution_count": null,
   "metadata": {
    "cellView": "form",
    "colab": {
     "base_uri": "https://localhost:8080/",
     "height": 581,
     "referenced_widgets": [
      "14347b35f5ea493abdb6d17658492c44",
      "672cac5b68c542158e7142c3f8786ed2",
      "ba72878214de4e2ca48eaaf5a5397b18",
      "8930cc8be8044936993600ba6572eca8",
      "9a931292d98a42289c457680534685f9",
      "8a2ca64dd5f2461792b7ec785567eb6c"
     ]
    },
    "outputId": "d2832c93-187a-4525-9403-40fd743685df"
   },
   "outputs": [],
   "source": [
    "#@title Video 15: Ethics\n",
    "from ipywidgets import widgets\n",
    "\n",
    "out2 = widgets.Output()\n",
    "with out2:\n",
    "  from IPython.display import IFrame\n",
    "  class BiliVideo(IFrame):\n",
    "    def __init__(self, id, page=1, width=400, height=300, **kwargs):\n",
    "      self.id=id\n",
    "      src = \"https://player.bilibili.com/player.html?bvid={0}&page={1}\".format(id, page)\n",
    "      super(BiliVideo, self).__init__(src, width, height, **kwargs)\n",
    "\n",
    "  video = BiliVideo(id=f\"\", width=854, height=480, fs=1)\n",
    "  print(\"Video available at https://www.bilibili.com/video/{0}\".format(video.id))\n",
    "  display(video)\n",
    "\n",
    "out1 = widgets.Output()\n",
    "with out1:\n",
    "  from IPython.display import YouTubeVideo\n",
    "  video = YouTubeVideo(id=f\"Kt6JLi3rUFU\", width=854, height=480, fs=1, rel=0)\n",
    "  print(\"Video available at https://youtube.com/watch?v=\" + video.id)\n",
    "  display(video)\n",
    "\n",
    "out = widgets.Tab([out1, out2])\n",
    "out.set_title(0, 'Youtube')\n",
    "out.set_title(1, 'Bilibili')\n",
    "\n",
    "display(out)"
   ]
  },
  {
   "cell_type": "markdown",
   "metadata": {},
   "source": [
    "---\n",
    "# Bonus"
   ]
  },
  {
   "cell_type": "code",
   "execution_count": null,
   "metadata": {
    "cellView": "form",
    "colab": {
     "base_uri": "https://localhost:8080/",
     "height": 581,
     "referenced_widgets": [
      "3cec8d2dd38742a5814a55a0cc9bd21e",
      "bb86c80fe5b6415c8d95e06bf008a7c8",
      "3dbd49dc52c8478886f07d583753b44d",
      "5f7fbcac46dc4bc2a3ca169190cf97b3",
      "e9c04573065542ba98db5a470e634502",
      "a824fa804c1043829e23f91e845003fe"
     ]
    },
    "outputId": "89cd221f-2dcb-4c66-f427-015d71bda00a"
   },
   "outputs": [],
   "source": [
    "#@title Video 16: Be a group\n",
    "from ipywidgets import widgets\n",
    "\n",
    "out2 = widgets.Output()\n",
    "with out2:\n",
    "  from IPython.display import IFrame\n",
    "  class BiliVideo(IFrame):\n",
    "    def __init__(self, id, page=1, width=400, height=300, **kwargs):\n",
    "      self.id=id\n",
    "      src = \"https://player.bilibili.com/player.html?bvid={0}&page={1}\".format(id, page)\n",
    "      super(BiliVideo, self).__init__(src, width, height, **kwargs)\n",
    "\n",
    "  video = BiliVideo(id=f\"\", width=854, height=480, fs=1)\n",
    "  print(\"Video available at https://www.bilibili.com/video/{0}\".format(video.id))\n",
    "  display(video)\n",
    "\n",
    "out1 = widgets.Output()\n",
    "with out1:\n",
    "  from IPython.display import YouTubeVideo\n",
    "  video = YouTubeVideo(id=f\"Sfp6--d_H1A\", width=854, height=480, fs=1, rel=0)\n",
    "  print(\"Video available at https://youtube.com/watch?v=\" + video.id)\n",
    "  display(video)\n",
    "\n",
    "out = widgets.Tab([out1, out2])\n",
    "out.set_title(0, 'Youtube')\n",
    "out.set_title(1, 'Bilibili')\n",
    "\n",
    "display(out)"
   ]
  },
  {
   "cell_type": "code",
   "execution_count": null,
   "metadata": {
    "cellView": "form",
    "colab": {
     "base_uri": "https://localhost:8080/",
     "height": 581,
     "referenced_widgets": [
      "437cc0d192f84effaa19f954ab0511f8",
      "fed45e9cd1354cbba2ce14cc3f8f42fc",
      "84e2a0f6e8194f5487c94de33377dfc5",
      "0ce0a83bc5b246688d0b6bfe35672fe0",
      "17f073db12c24d51a61767d90c3fff9b",
      "7c27f42ef7e343e899196381e00406f5"
     ]
    },
    "outputId": "3aaf1b8f-d463-4af3-986b-d31c673a736c"
   },
   "outputs": [],
   "source": [
    "#@title Video 17: It's a wrap!\n",
    "from ipywidgets import widgets\n",
    "\n",
    "out2 = widgets.Output()\n",
    "with out2:\n",
    "  from IPython.display import IFrame\n",
    "  class BiliVideo(IFrame):\n",
    "    def __init__(self, id, page=1, width=400, height=300, **kwargs):\n",
    "      self.id=id\n",
    "      src = \"https://player.bilibili.com/player.html?bvid={0}&page={1}\".format(id, page)\n",
    "      super(BiliVideo, self).__init__(src, width, height, **kwargs)\n",
    "\n",
    "  video = BiliVideo(id=f\"\", width=854, height=480, fs=1)\n",
    "  print(\"Video available at https://www.bilibili.com/video/{0}\".format(video.id))\n",
    "  display(video)\n",
    "\n",
    "out1 = widgets.Output()\n",
    "with out1:\n",
    "  from IPython.display import YouTubeVideo\n",
    "  video = YouTubeVideo(id=f\"JwTn7ej2dq8\", width=854, height=480, fs=1, rel=0)\n",
    "  print(\"Video available at https://youtube.com/watch?v=\" + video.id)\n",
    "  display(video)\n",
    "\n",
    "out = widgets.Tab([out1, out2])\n",
    "out.set_title(0, 'Youtube')\n",
    "out.set_title(1, 'Bilibili')\n",
    "\n",
    "display(out)"
   ]
  },
  {
   "cell_type": "markdown",
   "metadata": {},
   "source": [
    "---\n",
    "#Appendix\n",
    "\n",
    "## Official PyTorch resources:\n",
    "### Tutorials\n",
    "https://pytorch.org/tutorials/\n",
    "\n",
    "### Documentation\n",
    "\n",
    " https://pytorch.org/docs/stable/tensors.html (tensor methods)\n",
    "\n",
    " https://pytorch.org/docs/stable/tensors.html#torch.Tensor.view  (The view method in particular)\n",
    "\n",
    " https://pytorch.org/vision/stable/datasets.html (pre-loaded image datasets)\n",
    "\n",
    " ## Google Colab Resources:\n",
    " https://research.google.com/colaboratory/faq.html (FAQ including guidance on GPU usage)\n",
    "\n",
    " ## Books for reference \n",
    "\n",
    " https://www.deeplearningbook.org/ (Deep Learning by Ian Goodfellow, Yoshua Bengio and Aaron Courville)\n",
    "\n",
    " "
   ]
  }
 ],
 "metadata": {
  "accelerator": "GPU",
  "colab": {
   "collapsed_sections": [],
   "include_colab_link": true,
   "name": "W1D1_Tutorial1",
   "provenance": [],
   "toc_visible": true
  },
  "kernel": {
   "display_name": "Python 3",
   "language": "python",
   "name": "python3"
  },
  "kernelspec": {
   "display_name": "Python 3",
   "name": "python3"
  },
  "language_info": {
   "name": "python"
  }
 },
 "nbformat": 4,
 "nbformat_minor": 0
}
