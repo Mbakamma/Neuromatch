{
  "cells": [
    {
      "cell_type": "markdown",
      "metadata": {
        "id": "view-in-github",
        "colab_type": "text"
      },
      "source": [
        "<a href=\"https://colab.research.google.com/github/NeuromatchAcademy/course-content-dl/blob/W1D1-fix/tutorials/W1D1_BasicsAndPytorch/W1D1_Tutorial1.ipynb\" target=\"_parent\"><img src=\"https://colab.research.google.com/assets/colab-badge.svg\" alt=\"Open In Colab\"/></a>"
      ]
    },
    {
      "cell_type": "markdown",
      "metadata": {
        "execution": {},
        "id": "yTCC2vYMHrXI"
      },
      "source": [
        "# Tutorial 1: PyTorch\n",
        "**Week 1, Day 1: Basics and PyTorch**\n",
        "\n",
        "**By Neuromatch Academy**\n",
        "\n",
        "\n",
        "__Content creators:__ Shubh Pachchigar, Vladimir Haltakov, Matthew Sargent, Konrad Kording\n",
        "\n",
        "__Content reviewers:__ Deepak Raya, Siwei Bai, Kelson Shilling-Scrivo\n",
        "\n",
        "__Content editors:__ Anoop Kulkarni, Spiros Chavlis\n",
        "\n",
        "__Production editors:__ Arush Tagade, Spiros Chavlis"
      ]
    },
    {
      "cell_type": "markdown",
      "metadata": {
        "execution": {},
        "id": "fB3KHF6IHrXM"
      },
      "source": [
        "<p align='center'><img src='https://github.com/NeuromatchAcademy/widgets/blob/master/sponsors.png?raw=True'/></p>"
      ]
    },
    {
      "cell_type": "markdown",
      "metadata": {
        "execution": {},
        "id": "O20kH8gqHrXM"
      },
      "source": [
        "---\n",
        "# Tutorial Objectives\n",
        "\n",
        "Then have a few specific objectives for this tutorial:\n",
        "* Learn about PyTorch and tensors\n",
        "* Tensor Manipulations\n",
        "* Data Loading\n",
        "* GPUs and Cuda Tensors\n",
        "* Train NaiveNet\n",
        "* Get to know your pod\n",
        "* Start thinking about the course as a whole"
      ]
    },
    {
      "cell_type": "code",
      "execution_count": null,
      "metadata": {
        "cellView": "form",
        "execution": {},
        "id": "02k_ZVAqHrXM"
      },
      "outputs": [],
      "source": [
        "# @title Tutorial slides\n",
        "\n",
        "from IPython.display import IFrame\n",
        "IFrame(src=f\"https://mfr.ca-1.osf.io/render?url=https://osf.io/wcjrv/?direct%26mode=render%26action=download%26mode=render\", width=854, height=480)"
      ]
    },
    {
      "cell_type": "markdown",
      "metadata": {
        "execution": {},
        "id": "NNDGgVH_HrXN"
      },
      "source": [
        "These are the slides for all videos in this tutorial. If you want to locally dowload the slides, click [here](https://osf.io/wcjrv/download).\n"
      ]
    },
    {
      "cell_type": "markdown",
      "metadata": {
        "execution": {},
        "id": "60AKJwY4HrXO"
      },
      "source": [
        "---\n",
        "# Setup"
      ]
    },
    {
      "cell_type": "markdown",
      "metadata": {
        "execution": {},
        "id": "fUVmd1jwHrXO"
      },
      "source": [
        "Throughout your Neuromatch tutorials, most (probably all!) notebooks contain setup cells. These cells will import the required Python packages (e.g., PyTorch, NumPy); set global or environment variables, and load in helper functions for things like plotting. In some tutorials, you will notice that we install some dependencies even if they are preinstalled on Google Colab or Kaggle. This happens because we have added automation to our repository through [GitHub Actions](https://docs.github.com/en/actions/learn-github-actions/introduction-to-github-actions).\n",
        "\n",
        "Be sure to run all of the cells in the setup section. Feel free to expand them and have a look at what you are loading in, but you should be able to fulfill the learning objectives of every tutorial without having to look at these cells.\n",
        "\n",
        "If you start building your own projects built on this code base we highly recommend looking at them in more detail."
      ]
    },
    {
      "cell_type": "code",
      "execution_count": null,
      "metadata": {
        "cellView": "form",
        "execution": {},
        "id": "8aiSECNyHrXP"
      },
      "outputs": [],
      "source": [
        "# @title Install dependencies\n",
        "!pip install pandas --quiet\n",
        "!pip install git+https://github.com/NeuromatchAcademy/evaltools --quiet\n",
        "\n",
        "from evaltools.airtable import AirtableForm\n",
        "atform = AirtableForm('appn7VdPRseSoMXEG','W1D1_T1','https://portal.neuromatchacademy.org/api/redirect/to/f2da6480-069c-49b9-a37b-8750f9d6f359')"
      ]
    },
    {
      "cell_type": "code",
      "execution_count": null,
      "metadata": {
        "execution": {},
        "id": "hf_wfptlHrXP"
      },
      "outputs": [],
      "source": [
        "# Imports\n",
        "import time\n",
        "import random\n",
        "import numpy as np\n",
        "import pandas as pd\n",
        "import matplotlib.pyplot as plt\n",
        "\n",
        "# PyTorch libraries\n",
        "import torch\n",
        "from torch import nn\n",
        "from torchvision import datasets\n",
        "from torch.utils.data import DataLoader\n",
        "from torchvision.transforms import ToTensor"
      ]
    },
    {
      "cell_type": "code",
      "execution_count": null,
      "metadata": {
        "cellView": "form",
        "execution": {},
        "id": "mFTgrq0VHrXQ"
      },
      "outputs": [],
      "source": [
        "# @title Figure Settings\n",
        "import ipywidgets as widgets\n",
        "%config InlineBackend.figure_format = 'retina'\n",
        "plt.style.use(\"https://raw.githubusercontent.com/NeuromatchAcademy/content-creation/main/nma.mplstyle\")"
      ]
    },
    {
      "cell_type": "code",
      "execution_count": null,
      "metadata": {
        "cellView": "form",
        "execution": {},
        "id": "baVk8_2OHrXQ"
      },
      "outputs": [],
      "source": [
        "# @title Helper Functions\n",
        "\n",
        "def checkExercise1(A, B, C, D):\n",
        "  \"\"\"\n",
        "  Helper function for checking Exercise 1.\n",
        "\n",
        "  Args:\n",
        "    A: torch.Tensor\n",
        "      Torch Tensor of shape (20, 21) consisting of ones.\n",
        "    B: torch.Tensor\n",
        "      Torch Tensor of size([3,4])\n",
        "    C: torch.Tensor\n",
        "      Torch Tensor of size([20,21])\n",
        "    D: torch.Tensor\n",
        "      Torch Tensor of size([19])\n",
        "\n",
        "  Returns:\n",
        "    Nothing.\n",
        "  \"\"\"\n",
        "  assert torch.equal(A.to(int),torch.ones(20, 21).to(int)), \"Got: {A} \\n Expected: {torch.ones(20, 21)} (shape: {torch.ones(20, 21).shape})\"\n",
        "  assert np.array_equal(B.numpy(),np.vander([1, 2, 3], 4)), \"Got: {B} \\n Expected: {np.vander([1, 2, 3], 4)} (shape: {np.vander([1, 2, 3], 4).shape})\"\n",
        "  assert C.shape == (20, 21), \"Got: {C} \\n Expected (shape: {(20, 21)})\"\n",
        "  assert torch.equal(D, torch.arange(4, 41, step=2)), \"Got {D} \\n Expected: {torch.arange(4, 41, step=2)} (shape: {torch.arange(4, 41, step=2).shape})\"\n",
        "  print(\"All correct\")\n",
        "\n",
        "def timeFun(f, dim, iterations, device='cpu'):\n",
        "  \"\"\"\n",
        "  Helper function to calculate amount of time taken per instance on CPU/GPU\n",
        "\n",
        "  Args:\n",
        "    f: BufferedReader IO instance\n",
        "      Function name for which to calculate computational time complexity\n",
        "    dim: Integer\n",
        "      Number of dimensions in instance in question\n",
        "    iterations: Integer\n",
        "      Number of iterations for instance in question\n",
        "    device: String\n",
        "      Device on which respective computation is to be run\n",
        "\n",
        "  Returns:\n",
        "    Nothing\n",
        "  \"\"\"\n",
        "  iterations = iterations\n",
        "  t_total = 0\n",
        "  for _ in range(iterations):\n",
        "    start = time.time()\n",
        "    f(dim, device)\n",
        "    end = time.time()\n",
        "    t_total += end - start\n",
        "\n",
        "  if device == 'cpu':\n",
        "    print(f\"time taken for {iterations} iterations of {f.__name__}({dim}, {device}): {t_total:.5f}\")\n",
        "  else:\n",
        "    print(f\"time taken for {iterations} iterations of {f.__name__}({dim}, {device}): {t_total:.5f}\")"
      ]
    },
    {
      "cell_type": "markdown",
      "metadata": {
        "execution": {},
        "id": "lVbTIlpGHrXR"
      },
      "source": [
        "**Important note: Colab users**\n",
        "\n",
        "*Scratch Code Cells*\n",
        "\n",
        "If you want to quickly try out something or take a look at the data, you can use scratch code cells. They allow you to run Python code, but will not mess up the structure of your notebook.\n",
        "\n",
        "To open a new scratch cell go to *Insert* → *Scratch code cell*."
      ]
    },
    {
      "cell_type": "markdown",
      "metadata": {
        "execution": {},
        "id": "4TUsY8zoHrXR"
      },
      "source": [
        "# Section 1: Welcome to Neuromatch Deep learning course\n",
        "\n",
        "*Time estimate: ~25mins*"
      ]
    },
    {
      "cell_type": "code",
      "execution_count": null,
      "metadata": {
        "cellView": "form",
        "execution": {},
        "id": "iqHON9aTHrXS"
      },
      "outputs": [],
      "source": [
        "# @title Video 1: Welcome and History\n",
        "from ipywidgets import widgets\n",
        "\n",
        "out2 = widgets.Output()\n",
        "with out2:\n",
        "  from IPython.display import IFrame\n",
        "  class BiliVideo(IFrame):\n",
        "    def __init__(self, id, page=1, width=400, height=300, **kwargs):\n",
        "      self.id=id\n",
        "      src = \"https://player.bilibili.com/player.html?bvid={0}&page={1}\".format(id, page)\n",
        "      super(BiliVideo, self).__init__(src, width, height, **kwargs)\n",
        "\n",
        "  video = BiliVideo(id=f\"BV1Av411n7oL\", width=854, height=480, fs=1)\n",
        "  print(\"Video available at https://www.bilibili.com/video/{0}\".format(video.id))\n",
        "  display(video)\n",
        "\n",
        "out1 = widgets.Output()\n",
        "with out1:\n",
        "  from IPython.display import YouTubeVideo\n",
        "  video = YouTubeVideo(id=f\"ca21SNqt78I\", width=854, height=480, fs=1, rel=0)\n",
        "  print(\"Video available at https://youtube.com/watch?v=\" + video.id)\n",
        "  display(video)\n",
        "\n",
        "out = widgets.Tab([out1, out2])\n",
        "out.set_title(0, 'Youtube')\n",
        "out.set_title(1, 'Bilibili')\n",
        "\n",
        "# add timing\n",
        "atform.add_event('Video 1: Welcome and History')\n",
        "\n",
        "display(out)"
      ]
    },
    {
      "cell_type": "markdown",
      "metadata": {
        "execution": {},
        "id": "TxXiC5QpHrXS"
      },
      "source": [
        "This will be an intensive 3 week adventure. We will all learn Deep Learning (DL) in a group. Groups need standards. Read our \n",
        "[Code of Conduct](https://docs.google.com/document/d/1eHKIkaNbAlbx_92tLQelXnicKXEcvFzlyzzeWjEtifM/edit?usp=sharing).\n"
      ]
    },
    {
      "cell_type": "code",
      "execution_count": null,
      "metadata": {
        "cellView": "form",
        "execution": {},
        "id": "H-T0lO4fHrXS"
      },
      "outputs": [],
      "source": [
        "# @title Video 2: Why DL is cool\n",
        "from ipywidgets import widgets\n",
        "\n",
        "out2 = widgets.Output()\n",
        "with out2:\n",
        "  from IPython.display import IFrame\n",
        "  class BiliVideo(IFrame):\n",
        "    def __init__(self, id, page=1, width=400, height=300, **kwargs):\n",
        "      self.id=id\n",
        "      src = \"https://player.bilibili.com/player.html?bvid={0}&page={1}\".format(id, page)\n",
        "      super(BiliVideo, self).__init__(src, width, height, **kwargs)\n",
        "\n",
        "  video = BiliVideo(id=f\"BV1gf4y1j7UZ\", width=854, height=480, fs=1)\n",
        "  print(\"Video available at https://www.bilibili.com/video/{0}\".format(video.id))\n",
        "  display(video)\n",
        "\n",
        "out1 = widgets.Output()\n",
        "with out1:\n",
        "  from IPython.display import YouTubeVideo\n",
        "  video = YouTubeVideo(id=f\"l-K6495BN-4\", width=854, height=480, fs=1, rel=0)\n",
        "  print(\"Video available at https://youtube.com/watch?v=\" + video.id)\n",
        "  display(video)\n",
        "\n",
        "out = widgets.Tab([out1, out2])\n",
        "out.set_title(0, 'Youtube')\n",
        "out.set_title(1, 'Bilibili')\n",
        "\n",
        "# add timing to airtable\n",
        "atform.add_event('Video 2: Why DL is cool')\n",
        "\n",
        "display(out)"
      ]
    },
    {
      "cell_type": "markdown",
      "metadata": {
        "execution": {},
        "id": "q3DsZuSDHrXT"
      },
      "source": [
        "**Discuss with your pod: What do you hope to get out of this course? [in about 100 words]**"
      ]
    },
    {
      "cell_type": "markdown",
      "metadata": {
        "execution": {},
        "id": "jO1nQWWNHrXT"
      },
      "source": [
        "---\n",
        "# Section 2: The Basics of PyTorch\n",
        "\n",
        "*Time estimate: ~2 hours 05 mins*"
      ]
    },
    {
      "cell_type": "markdown",
      "metadata": {
        "execution": {},
        "id": "s1maRB8eHrXT"
      },
      "source": [
        "PyTorch is a Python-based scientific computing package targeted at two sets of\n",
        "audiences:\n",
        "\n",
        "-  A replacement for NumPy optimized for the power of GPUs\n",
        "-  A deep learning platform that provides significant flexibility\n",
        "   and speed\n",
        "\n",
        "At its core, PyTorch provides a few key features:\n",
        "\n",
        "- A multidimensional [Tensor](https://pytorch.org/docs/stable/tensors.html) object, similar to [NumPy Array](https://numpy.org/doc/stable/reference/generated/numpy.ndarray.html) but with GPU acceleration.\n",
        "- An optimized **autograd** engine for automatically computing derivatives.\n",
        "- A clean, modular API for building and deploying **deep learning models**.\n",
        "\n",
        "You can find more information about PyTorch in the Appendix."
      ]
    },
    {
      "cell_type": "markdown",
      "metadata": {
        "execution": {},
        "id": "rB6vyyWJHrXT"
      },
      "source": [
        "## Section 2.1: Creating Tensors\n"
      ]
    },
    {
      "cell_type": "code",
      "execution_count": null,
      "metadata": {
        "cellView": "form",
        "execution": {},
        "id": "MSuZTcP4HrXT"
      },
      "outputs": [],
      "source": [
        "# @title Video 3: Making Tensors\n",
        "from ipywidgets import widgets\n",
        "\n",
        "out2 = widgets.Output()\n",
        "with out2:\n",
        "  from IPython.display import IFrame\n",
        "  class BiliVideo(IFrame):\n",
        "    def __init__(self, id, page=1, width=400, height=300, **kwargs):\n",
        "      self.id=id\n",
        "      src = \"https://player.bilibili.com/player.html?bvid={0}&page={1}\".format(id, page)\n",
        "      super(BiliVideo, self).__init__(src, width, height, **kwargs)\n",
        "\n",
        "  video = BiliVideo(id=f\"BV1Rw411d7Uy\", width=854, height=480, fs=1)\n",
        "  print(\"Video available at https://www.bilibili.com/video/{0}\".format(video.id))\n",
        "  display(video)\n",
        "\n",
        "out1 = widgets.Output()\n",
        "with out1:\n",
        "  from IPython.display import YouTubeVideo\n",
        "  video = YouTubeVideo(id=f\"jGKd_4tPGrw\", width=854, height=480, fs=1, rel=0)\n",
        "  print(\"Video available at https://youtube.com/watch?v=\" + video.id)\n",
        "  display(video)\n",
        "\n",
        "out = widgets.Tab([out1, out2])\n",
        "out.set_title(0, 'Youtube')\n",
        "out.set_title(1, 'Bilibili')\n",
        "\n",
        "# add timing to airtable\n",
        "atform.add_event('Video 3: Making Tensors')\n",
        "\n",
        "display(out)"
      ]
    },
    {
      "cell_type": "markdown",
      "metadata": {
        "execution": {},
        "id": "0TtB4gA6HrXT"
      },
      "source": [
        "There are various ways of creating tensors, and when doing any real deep learning project, we will usually have to do so."
      ]
    },
    {
      "cell_type": "markdown",
      "metadata": {
        "execution": {},
        "id": "B18uIYz_HrXU"
      },
      "source": [
        "**Construct tensors directly:**\n",
        "\n",
        "---\n",
        "\n"
      ]
    },
    {
      "cell_type": "code",
      "execution_count": null,
      "metadata": {
        "execution": {},
        "id": "8io0b1tPHrXU"
      },
      "outputs": [],
      "source": [
        "# We can construct a tensor directly from some common python iterables,\n",
        "# such as list and tuple nested iterables can also be handled as long as the\n",
        "# dimensions are compatible\n",
        "\n",
        "# tensor from a list\n",
        "a = torch.tensor([0, 1, 2])\n",
        "\n",
        "#tensor from a tuple of tuples\n",
        "b = ((1.0, 1.1), (1.2, 1.3))\n",
        "b = torch.tensor(b)\n",
        "\n",
        "# tensor from a numpy array\n",
        "c = np.ones([2, 3])\n",
        "c = torch.tensor(c)\n",
        "\n",
        "print(f\"Tensor a: {a}\")\n",
        "print(f\"Tensor b: {b}\")\n",
        "print(f\"Tensor c: {c}\")"
      ]
    },
    {
      "cell_type": "markdown",
      "metadata": {
        "execution": {},
        "id": "Iw8FWBapHrXU"
      },
      "source": [
        "**Some common tensor constructors:**\n",
        "\n",
        "---"
      ]
    },
    {
      "cell_type": "code",
      "execution_count": null,
      "metadata": {
        "execution": {},
        "id": "Mt97B15eHrXU"
      },
      "outputs": [],
      "source": [
        "# The numerical arguments we pass to these constructors\n",
        "# determine the shape of the output tensor\n",
        "\n",
        "x = torch.ones(5, 3)\n",
        "y = torch.zeros(2)\n",
        "z = torch.empty(1, 1, 5)\n",
        "print(f\"Tensor x: {x}\")\n",
        "print(f\"Tensor y: {y}\")\n",
        "print(f\"Tensor z: {z}\")"
      ]
    },
    {
      "cell_type": "markdown",
      "metadata": {
        "execution": {},
        "id": "rX0RrrffHrXU"
      },
      "source": [
        "Notice that `.empty()` does not return zeros, but seemingly random numbers. Unlike `.zeros()`, which initialises the elements of the tensor with zeros, `.empty()` just allocates the memory. It is hence a bit faster if you are looking to just create a tensor."
      ]
    },
    {
      "cell_type": "markdown",
      "metadata": {
        "execution": {},
        "id": "nT4dAg64HrXU"
      },
      "source": [
        "**Creating random tensors and tensors like other tensors:**\n",
        "\n",
        "---"
      ]
    },
    {
      "cell_type": "code",
      "execution_count": null,
      "metadata": {
        "execution": {},
        "id": "mLTUb2FLHrXV"
      },
      "outputs": [],
      "source": [
        "# There are also constructors for random numbers\n",
        "\n",
        "# Uniform distribution\n",
        "a = torch.rand(1, 3)\n",
        "\n",
        "# Normal distribution\n",
        "b = torch.randn(3, 4)\n",
        "\n",
        "# There are also constructors that allow us to construct\n",
        "# a tensor according to the above constructors, but with\n",
        "# dimensions equal to another tensor.\n",
        "\n",
        "c = torch.zeros_like(a)\n",
        "d = torch.rand_like(c)\n",
        "\n",
        "print(f\"Tensor a: {a}\")\n",
        "print(f\"Tensor b: {b}\")\n",
        "print(f\"Tensor c: {c}\")\n",
        "print(f\"Tensor d: {d}\")"
      ]
    },
    {
      "cell_type": "markdown",
      "metadata": {
        "execution": {},
        "id": "mSBS6bOFHrXV"
      },
      "source": [
        "*Reproducibility*: \n",
        "\n",
        "- PyTorch Random Number Generator (RNG): You can use `torch.manual_seed()` to seed the RNG for all devices (both CPU and GPU):\n",
        "\n",
        "```python\n",
        "import torch\n",
        "torch.manual_seed(0)\n",
        "```\n",
        "- For custom operators, you might need to set python seed as well:\n",
        "\n",
        "```python\n",
        "import random\n",
        "random.seed(0)\n",
        "```\n",
        "\n",
        "- Random number generators in other libraries (e.g., NumPy):\n",
        "\n",
        "```python\n",
        "import numpy as np\n",
        "np.random.seed(0)\n",
        "```"
      ]
    },
    {
      "cell_type": "markdown",
      "metadata": {
        "execution": {},
        "id": "FgEPoqkoHrXV"
      },
      "source": [
        "Here, we define for you a function called `set_seed` that does the job for you!"
      ]
    },
    {
      "cell_type": "code",
      "execution_count": null,
      "metadata": {
        "execution": {},
        "id": "JCHN2nPrHrXV"
      },
      "outputs": [],
      "source": [
        "def set_seed(seed=None, seed_torch=True):\n",
        "  \"\"\"\n",
        "  Function that controls randomness. NumPy and random modules must be imported.\n",
        "\n",
        "  Args:\n",
        "    seed : Integer\n",
        "      A non-negative integer that defines the random state. Default is `None`.\n",
        "    seed_torch : Boolean\n",
        "      If `True` sets the random seed for pytorch tensors, so pytorch module\n",
        "      must be imported. Default is `True`.\n",
        "\n",
        "  Returns:\n",
        "    Nothing.\n",
        "  \"\"\"\n",
        "  if seed is None:\n",
        "    seed = np.random.choice(2 ** 32)\n",
        "  random.seed(seed)\n",
        "  np.random.seed(seed)\n",
        "  if seed_torch:\n",
        "    torch.manual_seed(seed)\n",
        "    torch.cuda.manual_seed_all(seed)\n",
        "    torch.cuda.manual_seed(seed)\n",
        "    torch.backends.cudnn.benchmark = False\n",
        "    torch.backends.cudnn.deterministic = True\n",
        "\n",
        "  print(f'Random seed {seed} has been set.')"
      ]
    },
    {
      "cell_type": "markdown",
      "metadata": {
        "execution": {},
        "id": "zjX5Q8vgHrXV"
      },
      "source": [
        "Now, let's use the `set_seed` function in the previous example. Execute the cell multiple times to verify that the numbers printed are always the same."
      ]
    },
    {
      "cell_type": "code",
      "execution_count": null,
      "metadata": {
        "execution": {},
        "id": "KOHJxCGEHrXV"
      },
      "outputs": [],
      "source": [
        "def simplefun(seed=True, my_seed=None):\n",
        "  \"\"\"\n",
        "  Helper function to verify effectiveness of set_seed attribute\n",
        "\n",
        "  Args:\n",
        "    seed: Boolean\n",
        "      Specifies if seed value is provided or not\n",
        "    my_seed: Integer\n",
        "      Initializes seed to specified value\n",
        "\n",
        "  Returns:\n",
        "    Nothing\n",
        "  \"\"\"\n",
        "  if seed:\n",
        "    set_seed(seed=my_seed)\n",
        "\n",
        "  # uniform distribution\n",
        "  a = torch.rand(1, 3)\n",
        "  # normal distribution\n",
        "  b = torch.randn(3, 4)\n",
        "\n",
        "  print(\"Tensor a: \", a)\n",
        "  print(\"Tensor b: \", b)"
      ]
    },
    {
      "cell_type": "code",
      "execution_count": null,
      "metadata": {
        "execution": {},
        "id": "7o8uHlZSHrXW"
      },
      "outputs": [],
      "source": [
        "simplefun(seed=True, my_seed=0)  # Turn `seed` to `False` or change `my_seed`"
      ]
    },
    {
      "cell_type": "markdown",
      "metadata": {
        "execution": {},
        "id": "I6-u7qWMHrXW"
      },
      "source": [
        "**Numpy-like number ranges:**\n",
        "---\n",
        "The ```.arange()``` and ```.linspace()``` behave how you would expect them to if you are familar with numpy."
      ]
    },
    {
      "cell_type": "code",
      "execution_count": null,
      "metadata": {
        "execution": {},
        "id": "u3wij0YUHrXW"
      },
      "outputs": [],
      "source": [
        "a = torch.arange(0, 10, step=1)\n",
        "b = np.arange(0, 10, step=1)\n",
        "\n",
        "c = torch.linspace(0, 5, steps=11)\n",
        "d = np.linspace(0, 5, num=11)\n",
        "\n",
        "print(f\"Tensor a: {a}\\n\")\n",
        "print(f\"Numpy array b: {b}\\n\")\n",
        "print(f\"Tensor c: {c}\\n\")\n",
        "print(f\"Numpy array d: {d}\\n\")"
      ]
    },
    {
      "cell_type": "markdown",
      "metadata": {
        "execution": {},
        "id": "TBHNhMd6HrXW"
      },
      "source": [
        "### Coding Exercise 2.1: Creating Tensors\n",
        "\n",
        "Below you will find some incomplete code. Fill in the missing code to construct the specified tensors.\n",
        "\n",
        "We want the tensors: \n",
        "\n",
        "$A:$ 20 by 21 tensor consisting of ones\n",
        "\n",
        "$B:$ a tensor with elements equal to the elements of numpy array $Z$\n",
        "\n",
        "$C:$ a tensor with the same number of elements as $A$ but with values $\n",
        "\\sim \\mathcal{U}(0,1)^\\dagger$\n",
        "\n",
        "$D:$ a 1D tensor containing the even numbers between 4 and 40 inclusive.\n",
        "\n",
        "<br>\n",
        "\n",
        "$^\\dagger$: $\\mathcal{U(\\alpha, \\beta)}$ denotes the [uniform distribution](https://en.wikipedia.org/wiki/Continuous_uniform_distribution) from $\\alpha$ to $\\beta$, with $\\alpha, \\beta \\in \\mathbb{R}$.\n"
      ]
    },
    {
      "cell_type": "code",
      "execution_count": null,
      "metadata": {
        "execution": {},
        "id": "99APT0bvHrXW"
      },
      "outputs": [],
      "source": [
        "def tensor_creation(Z):\n",
        "  \"\"\"\n",
        "  A function that creates various tensors.\n",
        "\n",
        "  Args:\n",
        "    Z: numpy.ndarray\n",
        "      An array of shape (3,4)\n",
        "\n",
        "  Returns:\n",
        "    A : Tensor\n",
        "      20 by 21 tensor consisting of ones\n",
        "    B : Tensor\n",
        "      A tensor with elements equal to the elements of numpy array Z\n",
        "    C : Tensor\n",
        "      A tensor with the same number of elements as A but with values ∼U(0,1)\n",
        "    D : Tensor\n",
        "      A 1D tensor containing the even numbers between 4 and 40 inclusive.\n",
        "  \"\"\"\n",
        "  #################################################\n",
        "  ## TODO for students: fill in the missing code\n",
        "  ## from the first expression\n",
        "  raise NotImplementedError(\"Student exercise: say what they should have done\")\n",
        "  #################################################\n",
        "  A = ...\n",
        "  B = ...\n",
        "  C = ...\n",
        "  D = ...\n",
        "\n",
        "  return A, B, C, D\n",
        "\n",
        "\n",
        "# add timing to airtable\n",
        "atform.add_event('Coding Exercise 2.1: Creating Tensors')\n",
        "\n",
        "\n",
        "\n",
        "# numpy array to copy later\n",
        "Z = np.vander([1, 2, 3], 4)\n",
        "\n",
        "# Uncomment below to check your function!\n",
        "# A, B, C, D = tensor_creation(Z)\n",
        "# checkExercise1(A, B, C, D)"
      ]
    },
    {
      "cell_type": "code",
      "execution_count": null,
      "metadata": {
        "execution": {},
        "id": "XWXpYuXWHrXX"
      },
      "outputs": [],
      "source": [
        "# to_remove solution\n",
        "def tensor_creation(Z):\n",
        "  \"\"\"\n",
        "  A function that creates various tensors.\n",
        "\n",
        "  Args:\n",
        "    Z: numpy.ndarray\n",
        "      An array of shape (3,4)\n",
        "\n",
        "  Returns:\n",
        "    A : Tensor\n",
        "      20 by 21 tensor consisting of ones\n",
        "    B : Tensor\n",
        "      A tensor with elements equal to the elements of numpy array  Z\n",
        "    C : Tensor\n",
        "      A tensor with the same number of elements as A but with values ∼U(0,1)\n",
        "    D : Tensor\n",
        "      A 1D tensor containing the even numbers between 4 and 40 inclusive.\n",
        "  \"\"\"\n",
        "\n",
        "  A = torch.ones(20, 21)\n",
        "  B = torch.tensor(Z)\n",
        "  C = torch.rand_like(A)\n",
        "  D = torch.arange(4, 41, step=2)\n",
        "\n",
        "  return A, B, C, D\n",
        "\n",
        "# add timing to airtable\n",
        "atform.add_event('Coding Exercise 2.1: Creating Tensors')\n",
        "\n",
        "# numpy array to copy later\n",
        "Z = np.vander([1, 2, 3], 4)\n",
        "\n",
        "# Uncomment below to check your function!\n",
        "A, B, C, D = tensor_creation(Z)\n",
        "checkExercise1(A, B, C, D)"
      ]
    },
    {
      "cell_type": "markdown",
      "metadata": {
        "execution": {},
        "id": "tPVIKhwOHrXX"
      },
      "source": [
        "```\n",
        "All correct!\n",
        "```"
      ]
    },
    {
      "cell_type": "markdown",
      "metadata": {
        "execution": {},
        "id": "dn-FHO3iHrXX"
      },
      "source": [
        "## Section 2.2: Operations in PyTorch\n",
        "\n",
        "**Tensor-Tensor operations**\n",
        "\n",
        "We can perform operations on tensors using methods under `torch.`"
      ]
    },
    {
      "cell_type": "code",
      "execution_count": null,
      "metadata": {
        "cellView": "form",
        "execution": {},
        "id": "F3kvJCBXHrXX"
      },
      "outputs": [],
      "source": [
        "# @title Video 4: Tensor Operators\n",
        "from ipywidgets import widgets\n",
        "\n",
        "out2 = widgets.Output()\n",
        "with out2:\n",
        "  from IPython.display import IFrame\n",
        "  class BiliVideo(IFrame):\n",
        "    def __init__(self, id, page=1, width=400, height=300, **kwargs):\n",
        "      self.id=id\n",
        "      src = \"https://player.bilibili.com/player.html?bvid={0}&page={1}\".format(id, page)\n",
        "      super(BiliVideo, self).__init__(src, width, height, **kwargs)\n",
        "\n",
        "  video = BiliVideo(id=f\"BV1G44y127As\", width=854, height=480, fs=1)\n",
        "  print(\"Video available at https://www.bilibili.com/video/{0}\".format(video.id))\n",
        "  display(video)\n",
        "\n",
        "out1 = widgets.Output()\n",
        "with out1:\n",
        "  from IPython.display import YouTubeVideo\n",
        "  video = YouTubeVideo(id=f\"R1R8VoYXBVA\", width=854, height=480, fs=1, rel=0)\n",
        "  print(\"Video available at https://youtube.com/watch?v=\" + video.id)\n",
        "  display(video)\n",
        "\n",
        "out = widgets.Tab([out1, out2])\n",
        "out.set_title(0, 'Youtube')\n",
        "out.set_title(1, 'Bilibili')\n",
        "\n",
        "# add timing to airtable\n",
        "atform.add_event('Video 4: Tensor Operators')\n",
        "\n",
        "display(out)"
      ]
    },
    {
      "cell_type": "markdown",
      "metadata": {
        "execution": {},
        "id": "p27vCP3lHrXX"
      },
      "source": [
        "**Tensor-Tensor operations**\n",
        "\n",
        "We can perform operations on tensors using methods under `torch.`."
      ]
    },
    {
      "cell_type": "code",
      "execution_count": null,
      "metadata": {
        "execution": {},
        "id": "pcLzQS3jHrXX"
      },
      "outputs": [],
      "source": [
        "a = torch.ones(5, 3)\n",
        "b = torch.rand(5, 3)\n",
        "c = torch.empty(5, 3)\n",
        "d = torch.empty(5, 3)\n",
        "\n",
        "# this only works if c and d already exist\n",
        "torch.add(a, b, out=c)\n",
        "\n",
        "# Pointwise Multiplication of a and b\n",
        "torch.multiply(a, b, out=d)\n",
        "\n",
        "print(c)\n",
        "print(d)"
      ]
    },
    {
      "cell_type": "markdown",
      "metadata": {
        "execution": {},
        "id": "gHYnzRxjHrXX"
      },
      "source": [
        "However, in PyTorch, most common Python operators are overridden.\n",
        "The common standard arithmetic operators ($+$, $-$, $*$, $/$, and $**$) have all been lifted to elementwise operations"
      ]
    },
    {
      "cell_type": "code",
      "execution_count": null,
      "metadata": {
        "execution": {},
        "id": "eUkngMtlHrXY"
      },
      "outputs": [],
      "source": [
        "x = torch.tensor([1, 2, 4, 8])\n",
        "y = torch.tensor([1, 2, 3, 4])\n",
        "x + y, x - y, x * y, x / y, x**y  # The `**` is the exponentiation operator"
      ]
    },
    {
      "cell_type": "markdown",
      "metadata": {
        "execution": {},
        "id": "RsK2BlSqHrXY"
      },
      "source": [
        "**Tensor Methods**"
      ]
    },
    {
      "cell_type": "markdown",
      "metadata": {
        "execution": {},
        "id": "1G7ZLZF9HrXY"
      },
      "source": [
        "Tensors also have a number of common arithmetic operations built in. A full list of **all** methods can be found  in the appendix (there are a lot!) \n",
        "\n",
        "All of these operations should have similar syntax to their numpy equivalents (feel free to skip if you already know this!)."
      ]
    },
    {
      "cell_type": "code",
      "execution_count": null,
      "metadata": {
        "execution": {},
        "id": "v5ldhopEHrXY"
      },
      "outputs": [],
      "source": [
        "x = torch.rand(3, 3)\n",
        "print(x)\n",
        "print(\"\\n\")\n",
        "# sum() - note the axis is the axis you move across when summing\n",
        "print(f\"Sum of every element of x: {x.sum()}\")\n",
        "print(f\"Sum of the columns of x: {x.sum(axis=0)}\")\n",
        "print(f\"Sum of the rows of x: {x.sum(axis=1)}\")\n",
        "print(\"\\n\")\n",
        "\n",
        "print(f\"Mean value of all elements of x {x.mean()}\")\n",
        "print(f\"Mean values of the columns of x {x.mean(axis=0)}\")\n",
        "print(f\"Mean values of the rows of x {x.mean(axis=1)}\")"
      ]
    },
    {
      "cell_type": "markdown",
      "metadata": {
        "execution": {},
        "id": "3zatm9wPHrXY"
      },
      "source": [
        "**Matrix Operations**\n",
        "\n",
        "The `@` symbol is overridden to represent matrix multiplication. You can also use `torch.matmul()` to multiply tensors. For dot multiplication, you can use `torch.dot()`, or manipulate the axes of your tensors and do matrix multiplication (we will cover that in the next section). \n",
        "\n",
        "Transposes of 2D tensors are obtained using `torch.t()` or `Tensor.T`. Note the lack of brackets for `Tensor.T` - it is an attribute, not a method.\n",
        "\n"
      ]
    },
    {
      "cell_type": "markdown",
      "metadata": {
        "execution": {},
        "id": "xXDFwLXhHrXY"
      },
      "source": [
        "### Coding Exercise 2.2 : Simple tensor operations\n",
        "\n",
        "Below are two expressions involving operations on matrices. \n",
        "\n",
        "\\begin{equation}\n",
        "\\textbf{A} = \n",
        "\\begin{bmatrix}2 &4 \\\\5 & 7 \n",
        "\\end{bmatrix} \n",
        "\\begin{bmatrix} 1 &1 \\\\2 & 3\n",
        "\\end{bmatrix} \n",
        "+ \n",
        "\\begin{bmatrix}10 & 10  \\\\ 12 & 1 \n",
        "\\end{bmatrix} \n",
        "\\end{equation}\n",
        "\n",
        "\n",
        "and\n",
        "\n",
        "\n",
        "\\begin{equation}\n",
        "b = \n",
        "\\begin{bmatrix} 3 \\\\ 5 \\\\ 7\n",
        "\\end{bmatrix} \\cdot \n",
        "\\begin{bmatrix} 2 \\\\ 4 \\\\ 8\n",
        "\\end{bmatrix}\n",
        "\\end{equation}\n",
        "\n",
        "The code block below that computes these expressions using PyTorch is incomplete - fill in the missing lines."
      ]
    },
    {
      "cell_type": "code",
      "execution_count": null,
      "metadata": {
        "execution": {},
        "id": "yG7M7y5NHrXY"
      },
      "outputs": [],
      "source": [
        "def simple_operations(a1: torch.Tensor, a2: torch.Tensor, a3: torch.Tensor):\n",
        "  \"\"\"\n",
        "  Helper function to demonstrate simple operations\n",
        "  i.e., Multiplication of tensor a1 with tensor a2 and then add it with tensor a3\n",
        "\n",
        "  Args:\n",
        "    a1: Torch tensor\n",
        "      Tensor of size ([2,2])\n",
        "    a2: Torch tensor\n",
        "      Tensor of size ([2,2])\n",
        "    a3: Torch tensor\n",
        "      Tensor of size ([2,2])\n",
        "\n",
        "  Returns:\n",
        "    answer: Torch tensor\n",
        "      Tensor of size ([2,2]) resulting from a1 multiplied with a2, added with a3\n",
        "  \"\"\"\n",
        "  ################################################\n",
        "  ## TODO for students:  complete the first computation using the argument matricies\n",
        "  raise NotImplementedError(\"Student exercise: fill in the missing code to complete the operation\")\n",
        "  ################################################\n",
        "  #\n",
        "  answer = ...\n",
        "  return answer\n",
        "\n",
        "# add timing to airtable\n",
        "atform.add_event('Coding Exercise 2.2 : Simple tensor operations-simple_operations')\n",
        "\n",
        "# Computing expression 1:\n",
        "\n",
        "# init our tensors\n",
        "a1 = torch.tensor([[2, 4], [5, 7]])\n",
        "a2 = torch.tensor([[1, 1], [2, 3]])\n",
        "a3 = torch.tensor([[10, 10], [12, 1]])\n",
        "## uncomment to test your function\n",
        "# A = simple_operations(a1, a2, a3)\n",
        "# print(A)"
      ]
    },
    {
      "cell_type": "code",
      "execution_count": null,
      "metadata": {
        "execution": {},
        "id": "ZJq2egkvHrXY"
      },
      "outputs": [],
      "source": [
        "# to_remove solution\n",
        "def simple_operations(a1: torch.Tensor, a2: torch.Tensor, a3: torch.Tensor):\n",
        "  \"\"\"\n",
        "  Helper function to demonstrate simple operations\n",
        "  i.e., Multiplication of tensor a1 with tensor a2 and then add it with tensor a3\n",
        "\n",
        "  Args:\n",
        "    a1: Torch tensor\n",
        "      Tensor of size ([2,2])\n",
        "    a2: Torch tensor\n",
        "      Tensor of size ([2,2])\n",
        "    a3: Torch tensor\n",
        "      Tensor of size ([2,2])\n",
        "\n",
        "  Returns:\n",
        "    answer: Torch tensor\n",
        "      Tensor of size ([2,2]) resulting from a1 multiplied with a2, added with a3\n",
        "  \"\"\"\n",
        "  answer = a1 @ a2 + a3\n",
        "  return answer\n",
        "\n",
        "# add timing to airtable\n",
        "atform.add_event('Coding Exercise 2.2 : Simple tensor operations-simple_operations')\n",
        "\n",
        "\n",
        "# Computing expression 1:\n",
        "\n",
        "# init our tensors\n",
        "a1 = torch.tensor([[2, 4], [5, 7]])\n",
        "a2 = torch.tensor([[1, 1], [2, 3]])\n",
        "a3 = torch.tensor([[10, 10], [12, 1]])\n",
        "## uncomment to test your function\n",
        "A = simple_operations(a1, a2, a3)\n",
        "print(A)"
      ]
    },
    {
      "cell_type": "markdown",
      "metadata": {
        "execution": {},
        "id": "pdZxf-s8HrXZ"
      },
      "source": [
        "```\n",
        "tensor([[20, 24],\n",
        "        [31, 27]])\n",
        "```"
      ]
    },
    {
      "cell_type": "code",
      "execution_count": null,
      "metadata": {
        "execution": {},
        "id": "H6wZ9x5ZHrXZ"
      },
      "outputs": [],
      "source": [
        "def dot_product(b1: torch.Tensor, b2: torch.Tensor):\n",
        "  ###############################################\n",
        "  ## TODO for students:  complete the first computation using the argument matricies\n",
        "  raise NotImplementedError(\"Student exercise: fill in the missing code to complete the operation\")\n",
        "  ###############################################\n",
        "  \"\"\"\n",
        "  Helper function to demonstrate dot product operation\n",
        "  Dot product is an algebraic operation that takes two equal-length sequences\n",
        "  (usually coordinate vectors), and returns a single number.\n",
        "  Geometrically, it is the product of the Euclidean magnitudes of the\n",
        "  two vectors and the cosine of the angle between them.\n",
        "\n",
        "  Args:\n",
        "    b1: Torch tensor\n",
        "      Tensor of size ([3])\n",
        "    b2: Torch tensor\n",
        "      Tensor of size ([3])\n",
        "\n",
        "  Returns:\n",
        "    product: Tensor\n",
        "      Tensor of size ([1]) resulting from b1 scalar multiplied with b2\n",
        "  \"\"\"\n",
        "  # Use torch.dot() to compute the dot product of two tensors\n",
        "  product = ...\n",
        "  return product\n",
        "\n",
        "# add timing to airtable\n",
        "atform.add_event('Coding Exercise 2.2 : Simple tensor operations-dot_product')\n",
        "\n",
        "\n",
        "# Computing expression 2:\n",
        "b1 = torch.tensor([3, 5, 7])\n",
        "b2 = torch.tensor([2, 4, 8])\n",
        "## Uncomment to test your function\n",
        "# b = dot_product(b1, b2)\n",
        "# print(b)"
      ]
    },
    {
      "cell_type": "code",
      "execution_count": null,
      "metadata": {
        "execution": {},
        "id": "kMNO8EJtHrXZ"
      },
      "outputs": [],
      "source": [
        "# to_remove solution\n",
        "def dot_product(b1: torch.Tensor, b2: torch.Tensor):\n",
        "  \"\"\"\n",
        "  Helper function to demonstrate dot product operation\n",
        "  Dot product is an algebraic operation that takes two equal-length sequences\n",
        "  (usually coordinate vectors), and returns a single number.\n",
        "  Geometrically, it is the product of the Euclidean magnitudes of the\n",
        "  two vectors and the cosine of the angle between them.\n",
        "\n",
        "  Args:\n",
        "    b1: Torch tensor\n",
        "      Tensor of size ([3])\n",
        "    b2: Torch tensor\n",
        "      Tensor of size ([3])\n",
        "\n",
        "  Returns:\n",
        "    product: Tensor\n",
        "      Tensor of size ([1]) resulting from b1 scalar multiplied with b2\n",
        "  \"\"\"\n",
        "  # Use torch.dot() to compute the dot product of two tensors\n",
        "  product = torch.dot(b1, b2)\n",
        "  return product\n",
        "\n",
        "# add timing to airtable\n",
        "atform.add_event('Coding Exercise 2.2 : Simple tensor operations-dot_product')\n",
        "\n",
        "\n",
        "# Computing expression 2:\n",
        "b1 = torch.tensor([3, 5, 7])\n",
        "b2 = torch.tensor([2, 4, 8])\n",
        "## Uncomment to test your function\n",
        "b = dot_product(b1, b2)\n",
        "print(b)"
      ]
    },
    {
      "cell_type": "markdown",
      "metadata": {
        "execution": {},
        "id": "mwH1WHkTHrXZ"
      },
      "source": [
        "```\n",
        "tensor(82)\n",
        "```"
      ]
    },
    {
      "cell_type": "markdown",
      "metadata": {
        "execution": {},
        "id": "rIHkcsbsHrXZ"
      },
      "source": [
        "## Section 2.3 Manipulating Tensors in Pytorch"
      ]
    },
    {
      "cell_type": "code",
      "execution_count": null,
      "metadata": {
        "cellView": "form",
        "execution": {},
        "id": "_w-Ms0NLHrXa"
      },
      "outputs": [],
      "source": [
        "# @title Video 5: Tensor Indexing\n",
        "from ipywidgets import widgets\n",
        "\n",
        "out2 = widgets.Output()\n",
        "with out2:\n",
        "  from IPython.display import IFrame\n",
        "  class BiliVideo(IFrame):\n",
        "    def __init__(self, id, page=1, width=400, height=300, **kwargs):\n",
        "      self.id=id\n",
        "      src = \"https://player.bilibili.com/player.html?bvid={0}&page={1}\".format(id, page)\n",
        "      super(BiliVideo, self).__init__(src, width, height, **kwargs)\n",
        "\n",
        "  video = BiliVideo(id=f\"BV1BM4y1K7pD\", width=854, height=480, fs=1)\n",
        "  print(\"Video available at https://www.bilibili.com/video/{0}\".format(video.id))\n",
        "  display(video)\n",
        "\n",
        "out1 = widgets.Output()\n",
        "with out1:\n",
        "  from IPython.display import YouTubeVideo\n",
        "  video = YouTubeVideo(id=f\"0d0KSJ3lJbg\", width=854, height=480, fs=1, rel=0)\n",
        "  print(\"Video available at https://youtube.com/watch?v=\" + video.id)\n",
        "  display(video)\n",
        "\n",
        "out = widgets.Tab([out1, out2])\n",
        "out.set_title(0, 'Youtube')\n",
        "out.set_title(1, 'Bilibili')\n",
        "\n",
        "# add timing to airtable\n",
        "atform.add_event('Video 5: Tensor Indexing')\n",
        "\n",
        "display(out)"
      ]
    },
    {
      "cell_type": "markdown",
      "metadata": {
        "execution": {},
        "id": "NTWrv_tzHrXa"
      },
      "source": [
        "**Indexing**\n",
        "\n",
        "Just as in numpy, elements in a tensor can be accessed by index. As in any numpy array, the first element has index 0 and ranges are specified to include the first to last_element-1. We can access elements according to their relative position to the end of the list by using negative indices. Indexing is also referred to as slicing.\n",
        "\n",
        "For example, `[-1]` selects the last element; `[1:3]` selects the second and the third elements, and `[:-2]` will select all elements excluding the last and second-to-last elements."
      ]
    },
    {
      "cell_type": "code",
      "execution_count": null,
      "metadata": {
        "execution": {},
        "id": "xH1vJOWpHrXa"
      },
      "outputs": [],
      "source": [
        "x = torch.arange(0, 10)\n",
        "print(x)\n",
        "print(x[-1])\n",
        "print(x[1:3])\n",
        "print(x[:-2])"
      ]
    },
    {
      "cell_type": "markdown",
      "metadata": {
        "execution": {},
        "id": "Dn5Z5sf4HrXa"
      },
      "source": [
        "When we have multidimensional tensors, indexing rules work the same way as NumPy."
      ]
    },
    {
      "cell_type": "code",
      "execution_count": null,
      "metadata": {
        "execution": {},
        "id": "W16Jlnj1HrXa"
      },
      "outputs": [],
      "source": [
        "# make a 5D tensor\n",
        "x = torch.rand(1, 2, 3, 4, 5)\n",
        "\n",
        "print(f\" shape of x[0]:{x[0].shape}\")\n",
        "print(f\" shape of x[0][0]:{x[0][0].shape}\")\n",
        "print(f\" shape of x[0][0][0]:{x[0][0][0].shape}\")"
      ]
    },
    {
      "cell_type": "markdown",
      "metadata": {
        "execution": {},
        "id": "gLMxlgKpHrXa"
      },
      "source": [
        "**Flatten and reshape**\n",
        "\n",
        "There are various methods for reshaping tensors. It is common to have to express 2D data in 1D format. Similarly, it is also common to have to reshape a 1D tensor into a 2D tensor. We can achieve this with the `.flatten()` and `.reshape()` methods."
      ]
    },
    {
      "cell_type": "code",
      "execution_count": null,
      "metadata": {
        "execution": {},
        "id": "jKa7WlhoHrXa"
      },
      "outputs": [],
      "source": [
        "z = torch.arange(12).reshape(6, 2)\n",
        "print(f\"Original z: \\n {z}\")\n",
        "\n",
        "# 2D -> 1D\n",
        "z = z.flatten()\n",
        "print(f\"Flattened z: \\n {z}\")\n",
        "\n",
        "# and back to 2D\n",
        "z = z.reshape(3, 4)\n",
        "print(f\"Reshaped (3x4) z: \\n {z}\")"
      ]
    },
    {
      "cell_type": "markdown",
      "metadata": {
        "execution": {},
        "id": "iN1q3wrMHrXc"
      },
      "source": [
        "You will also see the `.view()` methods used a lot to reshape tensors. There is a subtle difference between `.view()` and `.reshape()`, though for now we will just use `.reshape()`. The documentation can be found in the Appendix."
      ]
    },
    {
      "cell_type": "markdown",
      "metadata": {
        "execution": {},
        "id": "lfXEHZonHrXc"
      },
      "source": [
        "**Squeezing tensors**\n",
        "\n",
        "When processing batches of data, you will quite often be left with singleton dimensions. E.g., `[1,10]` or `[256, 1, 3]`. This dimension can quite easily mess up your matrix operations if you don't plan on it being there...\n",
        "\n",
        "In order to compress tensors along their singleton dimensions we can use the `.squeeze()` method. We can use the `.unsqueeze()` method to do the opposite."
      ]
    },
    {
      "cell_type": "code",
      "execution_count": null,
      "metadata": {
        "execution": {},
        "id": "4JBiJ9_pHrXd"
      },
      "outputs": [],
      "source": [
        "x = torch.randn(1, 10)\n",
        "# printing the zeroth element of the tensor will not give us the first number!\n",
        "\n",
        "print(x.shape)\n",
        "print(f\"x[0]: {x[0]}\")"
      ]
    },
    {
      "cell_type": "markdown",
      "metadata": {
        "execution": {},
        "id": "7GRLEqw7HrXd"
      },
      "source": [
        "Because of that pesky singleton dimension, `x[0]` gave us the first row instead!"
      ]
    },
    {
      "cell_type": "code",
      "execution_count": null,
      "metadata": {
        "execution": {},
        "id": "itGJuv-5HrXd"
      },
      "outputs": [],
      "source": [
        "# Let's get rid of that singleton dimension and see what happens now\n",
        "x = x.squeeze(0)\n",
        "print(x.shape)\n",
        "print(f\"x[0]: {x[0]}\")"
      ]
    },
    {
      "cell_type": "code",
      "execution_count": null,
      "metadata": {
        "execution": {},
        "id": "xBsiOS3PHrXd"
      },
      "outputs": [],
      "source": [
        "# Adding singleton dimensions works a similar way, and is often used when tensors\n",
        "# being added need same number of dimensions\n",
        "\n",
        "y = torch.randn(5, 5)\n",
        "print(f\"Shape of y: {y.shape}\")\n",
        "\n",
        "# lets insert a singleton dimension\n",
        "y = y.unsqueeze(1)\n",
        "print(f\"Shape of y: {y.shape}\")"
      ]
    },
    {
      "cell_type": "markdown",
      "metadata": {
        "execution": {},
        "id": "4hw0oIoMHrXd"
      },
      "source": [
        "**Permutation**\n",
        "\n",
        "Sometimes our dimensions will be in the wrong order! For example, we may be dealing with RGB images with dim $[3\\times48\\times64]$, but our pipeline expects the colour dimension to be the last dimension, i.e., $[48\\times64\\times3]$. To get around this we can use the `.permute()` method."
      ]
    },
    {
      "cell_type": "code",
      "execution_count": null,
      "metadata": {
        "execution": {},
        "id": "QuNhcJWjHrXd"
      },
      "outputs": [],
      "source": [
        "# `x` has dimensions [color,image_height,image_width]\n",
        "x = torch.rand(3, 48, 64)\n",
        "\n",
        "# We want to permute our tensor to be [ image_height , image_width , color ]\n",
        "x = x.permute(1, 2, 0)\n",
        "# permute(1,2,0) means:\n",
        "# The 0th dim of my new tensor = the 1st dim of my old tensor\n",
        "# The 1st dim of my new tensor = the 2nd\n",
        "# The 2nd dim of my new tensor = the 0th\n",
        "print(x.shape)"
      ]
    },
    {
      "cell_type": "markdown",
      "metadata": {
        "execution": {},
        "id": "BMnXzZBlHrXd"
      },
      "source": [
        "You may also see `.transpose()` used. This works in a similar way as permute, but can only swap two dimensions at once."
      ]
    },
    {
      "cell_type": "markdown",
      "metadata": {
        "execution": {},
        "id": "S1gB42FRHrXd"
      },
      "source": [
        "**Concatenation**"
      ]
    },
    {
      "cell_type": "markdown",
      "metadata": {
        "execution": {},
        "id": "uFI1LbL1HrXd"
      },
      "source": [
        "In this example, we concatenate two matrices along rows (axis 0, the first element of the shape) vs. columns (axis 1, the second element of the shape). We can see that the first output tensor’s axis-0 length (`6`) is the sum of the two input tensors’ axis-0 lengths (`3+3`); while the second output tensor’s axis-1 length (`8`) is the sum of the two input tensors’ axis-1 lengths (`4+4`)."
      ]
    },
    {
      "cell_type": "code",
      "execution_count": null,
      "metadata": {
        "execution": {},
        "id": "1jVd30FiHrXd"
      },
      "outputs": [],
      "source": [
        "# Create two tensors of the same shape\n",
        "x = torch.arange(12, dtype=torch.float32).reshape((3, 4))\n",
        "y = torch.tensor([[2.0, 1, 4, 3], [1, 2, 3, 4], [4, 3, 2, 1]])\n",
        "\n",
        "\n",
        "# Concatenate along rows\n",
        "cat_rows = torch.cat((x, y), dim=0)\n",
        "\n",
        "# Concatenate along columns\n",
        "cat_cols = torch.cat((x, y), dim=1)\n",
        "\n",
        "# Printing outputs\n",
        "print('Concatenated by rows: shape{} \\n {}'.format(list(cat_rows.shape), cat_rows))\n",
        "print('\\n Concatenated by colums: shape{}  \\n {}'.format(list(cat_cols.shape), cat_cols))"
      ]
    },
    {
      "cell_type": "markdown",
      "metadata": {
        "execution": {},
        "id": "o-WNzLMRHrXe"
      },
      "source": [
        "**Conversion to Other Python Objects**\n",
        "\n",
        "Converting a tensor to a numpy.ndarray, or vice versa, is easy, and the converted result does not share memory. This minor inconvenience is quite important: when you perform operations on the CPU or GPUs, you do not want to halt computation, waiting to see whether the NumPy package of Python might want to be doing something else with the same chunk of memory.\n",
        "\n",
        "When converting to a NumPy array, the information being tracked by the tensor will be lost, i.e., the computational graph. This will be covered in detail when you are introduced to autograd tomorrow!"
      ]
    },
    {
      "cell_type": "code",
      "execution_count": null,
      "metadata": {
        "execution": {},
        "id": "kNEvoZ-PHrXe"
      },
      "outputs": [],
      "source": [
        "x = torch.randn(5)\n",
        "print(f\"x: {x}  |  x type:  {x.type()}\")\n",
        "\n",
        "y = x.numpy()\n",
        "print(f\"y: {y}  |  y type:  {type(y)}\")\n",
        "\n",
        "z = torch.tensor(y)\n",
        "print(f\"z: {z}  |  z type:  {z.type()}\")"
      ]
    },
    {
      "cell_type": "markdown",
      "metadata": {
        "execution": {},
        "id": "scMdFtb6HrXe"
      },
      "source": [
        "To convert a size-1 tensor to a Python scalar, we can invoke the item function or Python’s built-in functions."
      ]
    },
    {
      "cell_type": "code",
      "execution_count": null,
      "metadata": {
        "execution": {},
        "id": "Fyc-AhX7HrXe"
      },
      "outputs": [],
      "source": [
        "a = torch.tensor([3.5])\n",
        "a, a.item(), float(a), int(a)"
      ]
    },
    {
      "cell_type": "markdown",
      "metadata": {
        "execution": {},
        "id": "nSk3r6fPHrXe"
      },
      "source": [
        "### Coding Exercise 2.3: Manipulating Tensors\n",
        "Using a combination of the methods discussed above, complete the functions below."
      ]
    },
    {
      "cell_type": "markdown",
      "metadata": {
        "execution": {},
        "id": "07NpysLaHrXe"
      },
      "source": [
        "**Function A** \n",
        "\n",
        "This function takes in two 2D tensors $A$ and $B$ and returns the column sum of A multiplied by the sum of all the elmements of $B$, i.e., a scalar, e.g.,\n",
        "\n",
        "\\begin{equation}\n",
        "  \\text{If }\n",
        "  A = \\begin{bmatrix}\n",
        "  1 & 1 \\\\\n",
        "  1 & 1\n",
        "  \\end{bmatrix}\n",
        "  \\text{and }\n",
        "  B = \\begin{bmatrix}\n",
        "  1 & 2 & 3 \\\\\n",
        "  1 & 2 & 3\n",
        "  \\end{bmatrix}\n",
        "  \\text{ then }\n",
        "  Out =  \\begin{bmatrix}\n",
        "  2 & 2\n",
        "  \\end{bmatrix} \\cdot 12 = \\begin{bmatrix}\n",
        "  24 & 24\n",
        "  \\end{bmatrix}\n",
        "\\end{equation}\n",
        "\n",
        "**Function B** \n",
        "\n",
        "This function takes in a square matrix $C$ and returns a 2D tensor consisting of a flattened $C$ with the index of each element appended to this tensor in the row dimension, e.g.,\n",
        "\n",
        "\\begin{equation}\n",
        "  \\text{If }\n",
        "  C = \\begin{bmatrix}\n",
        "  2 & 3 \\\\\n",
        "  -1 & 10\n",
        "  \\end{bmatrix}\n",
        "  \\text{ then }\n",
        "  Out = \\begin{bmatrix}\n",
        "  0 & 2 \\\\\n",
        "  1 & 3 \\\\\n",
        "  2 & -1 \\\\\n",
        "  3 & 10\n",
        "  \\end{bmatrix}\n",
        "\\end{equation}\n",
        "\n",
        "**Hint:** Pay close attention to singleton dimensions.\n",
        "\n",
        "**Function C**\n",
        "\n",
        "This function takes in two 2D tensors $D$ and $E$. If the dimensions allow it, this function returns the elementwise sum of $D$-shaped $E$, and $D$; else this function returns a 1D tensor that is the concatenation of the two tensors, e.g.,\n",
        "\n",
        "\\begin{equation}\n",
        "  \\text{If }\n",
        "  D = \\begin{bmatrix}\n",
        "  1 & -1 \\\\\n",
        "  -1 & 3\n",
        "  \\end{bmatrix}\n",
        "  \\text{and } \n",
        "  E = \\begin{bmatrix}\n",
        "  2 & 3 & 0 & 2 \\\\\n",
        "  \\end{bmatrix}\n",
        "  \\text{ then } \n",
        "  Out = \\begin{bmatrix}\n",
        "  3 & 2 \\\\\n",
        "  -1 & 5\n",
        "  \\end{bmatrix}\n",
        "\\end{equation}\n",
        "\n",
        "<br>\n",
        "\n",
        "\\begin{equation}\n",
        "  \\text{If }\n",
        "  D = \\begin{bmatrix}\n",
        "  1 & -1 \\\\\n",
        "  -1 & 3\n",
        "  \\end{bmatrix}\n",
        "  \\text{and }\n",
        "  E = \\begin{bmatrix}\n",
        "  2 & 3 & 0  \\\\\n",
        "  \\end{bmatrix}\n",
        "  \\text{ then }\n",
        "  Out = \\begin{bmatrix}\n",
        "  1 & -1 & -1 & 3  & 2 & 3 & 0  \n",
        "  \\end{bmatrix}\n",
        "\\end{equation}\n",
        "\n",
        "<br>\n",
        "\n",
        "**Hint:** `torch.numel()` is an easy way of finding the number of elements in a tensor."
      ]
    },
    {
      "cell_type": "code",
      "execution_count": null,
      "metadata": {
        "execution": {},
        "id": "pL-SUMhaHrXe"
      },
      "outputs": [],
      "source": [
        "def functionA(my_tensor1, my_tensor2):\n",
        "  \"\"\"\n",
        "  This function takes in two 2D tensors `my_tensor1` and `my_tensor2`\n",
        "  and returns the column sum of\n",
        "  `my_tensor1` multiplied by the sum of all the elmements of `my_tensor2`,\n",
        "  i.e., a scalar.\n",
        "\n",
        "  Args:\n",
        "    my_tensor1: torch.Tensor\n",
        "    my_tensor2: torch.Tensor\n",
        "\n",
        "  Retuns:\n",
        "    output: torch.Tensor\n",
        "      The multiplication of the column sum of `my_tensor1` by the sum of\n",
        "      `my_tensor2`.\n",
        "  \"\"\"\n",
        "  ################################################\n",
        "  ## TODO for students: complete functionA\n",
        "  raise NotImplementedError(\"Student exercise: complete function A\")\n",
        "  ################################################\n",
        "  # TODO multiplication the sum of the tensors\n",
        "  output = ...\n",
        "\n",
        "  return output\n",
        "\n",
        "\n",
        "def functionB(my_tensor):\n",
        "  \"\"\"\n",
        "  This function takes in a square matrix `my_tensor` and returns a 2D tensor\n",
        "  consisting of a flattened `my_tensor` with the index of each element\n",
        "  appended to this tensor in the row dimension.\n",
        "\n",
        "  Args:\n",
        "    my_tensor: torch.Tensor\n",
        "\n",
        "  Returns:\n",
        "    output: torch.Tensor\n",
        "      Concatenated tensor.\n",
        "  \"\"\"\n",
        "  ################################################\n",
        "  ## TODO for students: complete functionB\n",
        "  raise NotImplementedError(\"Student exercise: complete function B\")\n",
        "  ################################################\n",
        "  # TODO flatten the tensor `my_tensor`\n",
        "  my_tensor = ...\n",
        "  # TODO create the idx tensor to be concatenated to `my_tensor`\n",
        "  idx_tensor = ...\n",
        "  # TODO concatenate the two tensors\n",
        "  output = ...\n",
        "\n",
        "  return output\n",
        "\n",
        "\n",
        "def functionC(my_tensor1, my_tensor2):\n",
        "  \"\"\"\n",
        "  This function takes in two 2D tensors `my_tensor1` and `my_tensor2`.\n",
        "  If the dimensions allow it, it returns the\n",
        "  elementwise sum of `my_tensor1`-shaped `my_tensor2`, and `my_tensor2`;\n",
        "  else this function returns a 1D tensor that is the concatenation of the\n",
        "  two tensors.\n",
        "\n",
        "  Args:\n",
        "    my_tensor1: torch.Tensor\n",
        "    my_tensor2: torch.Tensor\n",
        "\n",
        "  Returns:\n",
        "    output: torch.Tensor\n",
        "      Concatenated tensor.\n",
        "  \"\"\"\n",
        "  ################################################\n",
        "  ## TODO for students: complete functionB\n",
        "  raise NotImplementedError(\"Student exercise: complete function C\")\n",
        "  ################################################\n",
        "  # TODO check we can reshape `my_tensor2` into the shape of `my_tensor1`\n",
        "  if ...:\n",
        "    # TODO reshape `my_tensor2` into the shape of `my_tensor1`\n",
        "    my_tensor2 = ...\n",
        "    # TODO sum the two tensors\n",
        "    output = ...\n",
        "  else:\n",
        "    # TODO flatten both tensors\n",
        "    my_tensor1 = ...\n",
        "    my_tensor2 = ...\n",
        "    # TODO concatenate the two tensors in the correct dimension\n",
        "    output = ...\n",
        "\n",
        "  return output\n",
        "\n",
        "# add timing to airtable\n",
        "atform.add_event('Coding Exercise 2.3: Manipulating Tensors')\n",
        "\n",
        "\n",
        "\n",
        "## Implement the functions above and then uncomment the following lines to test your code\n",
        "# print(functionA(torch.tensor([[1, 1], [1, 1]]), torch.tensor([[1, 2, 3], [1, 2, 3]])))\n",
        "# print(functionB(torch.tensor([[2, 3], [-1, 10]])))\n",
        "# print(functionC(torch.tensor([[1, -1], [-1, 3]]), torch.tensor([[2, 3, 0, 2]])))\n",
        "# print(functionC(torch.tensor([[1, -1], [-1, 3]]), torch.tensor([[2, 3, 0]])))"
      ]
    },
    {
      "cell_type": "code",
      "execution_count": null,
      "metadata": {
        "execution": {},
        "id": "kzDTBhuLHrXe"
      },
      "outputs": [],
      "source": [
        "# to_remove solution\n",
        "def functionA(my_tensor1, my_tensor2):\n",
        "  \"\"\"\n",
        "  This function takes in two 2D tensors `my_tensor1` and `my_tensor2`\n",
        "  and returns the column sum of\n",
        "  `my_tensor1` multiplied by the sum of all the elmements of `my_tensor2`,\n",
        "  i.e., a scalar.\n",
        "\n",
        "  Args:\n",
        "    my_tensor1: torch.Tensor\n",
        "    my_tensor2: torch.Tensor\n",
        "\n",
        "  Returns:\n",
        "    output: torch.Tensor\n",
        "      The multiplication of the column sum of `my_tensor1` by the sum of\n",
        "      `my_tensor2`.\n",
        "  \"\"\"\n",
        "  # TODO multiplication the sum of the tensors\n",
        "  output = my_tensor1.sum(axis=0) * my_tensor2.sum()\n",
        "\n",
        "  return output\n",
        "\n",
        "\n",
        "def functionB(my_tensor):\n",
        "  \"\"\"\n",
        "  This function takes in a square matrix `my_tensor` and returns a 2D tensor\n",
        "  consisting of a flattened `my_tensor` with the index of each element\n",
        "  appended to this tensor in the row dimension.\n",
        "\n",
        "  Args:\n",
        "    my_tensor: torch.Tensor\n",
        "\n",
        "  Returns:\n",
        "    output: torch.Tensor\n",
        "      Concatenated tensor.\n",
        "  \"\"\"\n",
        "  # TODO flatten the tensor `my_tensor`\n",
        "  my_tensor = my_tensor.flatten()\n",
        "  # TODO create the idx tensor to be concatenated to `my_tensor`\n",
        "  idx_tensor = torch.arange(0, len(my_tensor))\n",
        "  # TODO concatenate the two tensors\n",
        "  output = torch.cat([idx_tensor.unsqueeze(1), my_tensor.unsqueeze(1)], axis=1)\n",
        "\n",
        "  return output\n",
        "\n",
        "\n",
        "def functionC(my_tensor1, my_tensor2):\n",
        "  \"\"\"\n",
        "  This function takes in two 2D tensors `my_tensor1` and `my_tensor2`.\n",
        "  If the dimensions allow it, it returns the\n",
        "  elementwise sum of `my_tensor1`-shaped `my_tensor2`, and `my_tensor2`;\n",
        "  else this function returns a 1D tensor that is the concatenation of the\n",
        "  two tensors.\n",
        "\n",
        "  Args:\n",
        "    my_tensor1: torch.Tensor\n",
        "    my_tensor2: torch.Tensor\n",
        "\n",
        "  Returns:\n",
        "    output: torch.Tensor\n",
        "      Concatenated tensor.\n",
        "  \"\"\"\n",
        "  # TODO check we can reshape `my_tensor2` into the shape of `my_tensor1`\n",
        "  if torch.numel(my_tensor1) == torch.numel(my_tensor2):\n",
        "    # TODO reshape `my_tensor2` into the shape of `my_tensor1`\n",
        "    my_tensor2 = my_tensor2.reshape(my_tensor1.shape)\n",
        "    # TODO sum the two tensors\n",
        "    output = my_tensor1 + my_tensor2\n",
        "  else:\n",
        "    # TODO flatten both tensors\n",
        "    my_tensor1 = my_tensor1.reshape(1, -1)\n",
        "    my_tensor2 = my_tensor2.reshape(1, -1)\n",
        "    # TODO concatenate the two tensors in the correct dimension\n",
        "    output = torch.cat([my_tensor1, my_tensor2], axis=1).squeeze()\n",
        "\n",
        "  return output\n",
        "\n",
        "# add timing to airtable\n",
        "atform.add_event('Coding Exercise 2.3: Manipulating Tensors')\n",
        "\n",
        "\n",
        "## Implement the functions above and then uncomment the following lines to test your code\n",
        "print(functionA(torch.tensor([[1, 1], [1, 1]]), torch.tensor([[1, 2, 3], [1, 2, 3]])))\n",
        "print(functionB(torch.tensor([[2, 3], [-1, 10]])))\n",
        "print(functionC(torch.tensor([[1, -1], [-1, 3]]), torch.tensor([[2, 3, 0, 2]])))\n",
        "print(functionC(torch.tensor([[1, -1], [-1, 3]]), torch.tensor([[2, 3, 0]])))"
      ]
    },
    {
      "cell_type": "markdown",
      "metadata": {
        "execution": {},
        "id": "ck7P1PzlHrXf"
      },
      "source": [
        "```\n",
        "tensor([24, 24])\n",
        "tensor([[ 0,  2],\n",
        "        [ 1,  3],\n",
        "        [ 2, -1],\n",
        "        [ 3, 10]])\n",
        "tensor([[ 3,  2],\n",
        "        [-1,  5]])\n",
        "tensor([ 1, -1, -1,  3,  2,  3,  0])\n",
        "```"
      ]
    },
    {
      "cell_type": "markdown",
      "metadata": {
        "execution": {},
        "id": "XP-cwIMDHrXf"
      },
      "source": [
        "## Section 2.4: GPUs"
      ]
    },
    {
      "cell_type": "code",
      "execution_count": null,
      "metadata": {
        "cellView": "form",
        "execution": {},
        "id": "y8GDRtNMHrXf"
      },
      "outputs": [],
      "source": [
        "# @title Video 6: GPU vs CPU\n",
        "from ipywidgets import widgets\n",
        "\n",
        "out2 = widgets.Output()\n",
        "with out2:\n",
        "  from IPython.display import IFrame\n",
        "  class BiliVideo(IFrame):\n",
        "    def __init__(self, id, page=1, width=400, height=300, **kwargs):\n",
        "      self.id=id\n",
        "      src = \"https://player.bilibili.com/player.html?bvid={0}&page={1}\".format(id, page)\n",
        "      super(BiliVideo, self).__init__(src, width, height, **kwargs)\n",
        "\n",
        "  video = BiliVideo(id=f\"BV1nM4y1K7qx\", width=854, height=480, fs=1)\n",
        "  print(\"Video available at https://www.bilibili.com/video/{0}\".format(video.id))\n",
        "  display(video)\n",
        "\n",
        "out1 = widgets.Output()\n",
        "with out1:\n",
        "  from IPython.display import YouTubeVideo\n",
        "  video = YouTubeVideo(id=f\"9Mc9GFUtILY\", width=854, height=480, fs=1, rel=0)\n",
        "  print(\"Video available at https://youtube.com/watch?v=\" + video.id)\n",
        "  display(video)\n",
        "\n",
        "out = widgets.Tab([out1, out2])\n",
        "out.set_title(0, 'Youtube')\n",
        "out.set_title(1, 'Bilibili')\n",
        "\n",
        "# add timing to airtable\n",
        "atform.add_event('Video 6: GPU vs CPU')\n",
        "\n",
        "display(out)"
      ]
    },
    {
      "cell_type": "markdown",
      "metadata": {
        "execution": {},
        "id": "cC_2snwdHrXf"
      },
      "source": [
        "\n",
        "By default, when we create a tensor it will *not* live on the GPU! "
      ]
    },
    {
      "cell_type": "code",
      "execution_count": null,
      "metadata": {
        "execution": {},
        "id": "irhTKxeZHrXf"
      },
      "outputs": [],
      "source": [
        "x = torch.randn(10)\n",
        "print(x.device)"
      ]
    },
    {
      "cell_type": "markdown",
      "metadata": {
        "execution": {},
        "id": "ESiHkX9fHrXf"
      },
      "source": [
        "When using Colab notebooks, by default, will not have access to a GPU. In order to start using GPUs we need to request one. We can do this by going to the runtime tab at the top of the page. \n",
        "\n",
        "By following *Runtime* → *Change runtime type* and selecting **GPU** from the *Hardware Accelerator* dropdown list, we can start playing with sending tensors to GPUs.\n",
        "\n",
        "Once you have done this your runtime will restart and you will need to rerun the first setup cell to reimport PyTorch. Then proceed to the next cell.\n",
        "\n",
        "For more information on the GPU usage policy you can view in the Appendix."
      ]
    },
    {
      "cell_type": "markdown",
      "metadata": {
        "execution": {},
        "id": "8IFHoKtCHrXf"
      },
      "source": [
        "**Now we have a GPU.**\n"
      ]
    },
    {
      "cell_type": "markdown",
      "metadata": {
        "execution": {},
        "id": "A63Ovc-UHrXf"
      },
      "source": [
        "The cell below should return `True`."
      ]
    },
    {
      "cell_type": "code",
      "execution_count": null,
      "metadata": {
        "execution": {},
        "id": "sWngabv9HrXf"
      },
      "outputs": [],
      "source": [
        "print(torch.cuda.is_available())"
      ]
    },
    {
      "cell_type": "markdown",
      "metadata": {
        "execution": {},
        "id": "ijBJdrd1HrXg"
      },
      "source": [
        "[CUDA](https://developer.nvidia.com/cuda-toolkit) is an API developed by Nvidia for interfacing with GPUs. PyTorch provides us with a layer of abstraction, and allows us to launch CUDA kernels using pure Python.\n",
        "\n",
        "In short, we get the power of parallelizing our tensor computations on GPUs, whilst only writing (relatively) simple Python!\n",
        "\n",
        "Here, we define the function `set_device`, which returns the device use in the notebook, i.e., `cpu` or `cuda`. Unless otherwise specified, we use this function on top of every tutorial, and we store the device variable such as\n",
        "\n",
        "```python\n",
        "DEVICE = set_device()\n",
        "```\n",
        "\n",
        "Let's define the function using the PyTorch package `torch.cuda`, which is lazily initialized, so we can always import it, and use `is_available()` to determine if our system supports CUDA."
      ]
    },
    {
      "cell_type": "code",
      "execution_count": null,
      "metadata": {
        "execution": {},
        "id": "OlsZ2dvsHrXg"
      },
      "outputs": [],
      "source": [
        "def set_device():\n",
        "  \"\"\"\n",
        "  Set the device. CUDA if available, CPU otherwise\n",
        "\n",
        "  Args:\n",
        "    None\n",
        "\n",
        "  Returns:\n",
        "    Nothing\n",
        "  \"\"\"\n",
        "  device = \"cuda\" if torch.cuda.is_available() else \"cpu\"\n",
        "  if device != \"cuda\":\n",
        "    print(\"GPU is not enabled in this notebook. \\n\"\n",
        "          \"If you want to enable it, in the menu under `Runtime` -> \\n\"\n",
        "          \"`Hardware accelerator.` and select `GPU` from the dropdown menu\")\n",
        "  else:\n",
        "    print(\"GPU is enabled in this notebook. \\n\"\n",
        "          \"If you want to disable it, in the menu under `Runtime` -> \\n\"\n",
        "          \"`Hardware accelerator.` and select `None` from the dropdown menu\")\n",
        "\n",
        "  return device"
      ]
    },
    {
      "cell_type": "markdown",
      "metadata": {
        "execution": {},
        "id": "kRT5JeNzHrXg"
      },
      "source": [
        "Let's make some CUDA tensors!"
      ]
    },
    {
      "cell_type": "code",
      "execution_count": null,
      "metadata": {
        "execution": {},
        "id": "-O6EvbHzHrXg"
      },
      "outputs": [],
      "source": [
        "# common device agnostic way of writing code that can run on cpu OR gpu\n",
        "# that we provide for you in each of the tutorials\n",
        "DEVICE = set_device()\n",
        "\n",
        "# we can specify a device when we first create our tensor\n",
        "x = torch.randn(2, 2, device=DEVICE)\n",
        "print(x.dtype)\n",
        "print(x.device)\n",
        "\n",
        "# we can also use the .to() method to change the device a tensor lives on\n",
        "y = torch.randn(2, 2)\n",
        "print(f\"y before calling to() | device: {y.device} | dtype: {y.type()}\")\n",
        "\n",
        "y = y.to(DEVICE)\n",
        "print(f\"y after calling to() | device: {y.device} | dtype: {y.type()}\")"
      ]
    },
    {
      "cell_type": "markdown",
      "metadata": {
        "execution": {},
        "id": "WTsIiyNmHrXg"
      },
      "source": [
        "**Operations between cpu tensors and cuda tensors**\n",
        "\n",
        "Note that the type of the tensor changed after calling `.to()`. What happens if we try and perform operations on tensors on devices?"
      ]
    },
    {
      "cell_type": "code",
      "execution_count": null,
      "metadata": {
        "execution": {},
        "id": "Flfjqb3eHrXg"
      },
      "outputs": [],
      "source": [
        "x = torch.tensor([0, 1, 2], device=DEVICE)\n",
        "y = torch.tensor([3, 4, 5], device=\"cpu\")\n",
        "\n",
        "## Uncomment the following line and run this cell\n",
        "# z = x + y"
      ]
    },
    {
      "cell_type": "markdown",
      "metadata": {
        "execution": {},
        "id": "5ElSrkiDHrXg"
      },
      "source": [
        "We cannot combine CUDA tensors and CPU tensors in this fashion. If we want to compute an operation that combines tensors on different devices, we need to move them first! We can use the `.to()` method as before, or the `.cpu()` and `.cuda()` methods. Note that using the `.cuda()` will throw an error, if CUDA is not enabled in your machine.\n",
        "\n",
        "Generally, in this course, all Deep Learning is done on the GPU, and any computation is done on the CPU, so sometimes we have to pass things back and forth, so you'll see us call."
      ]
    },
    {
      "cell_type": "code",
      "execution_count": null,
      "metadata": {
        "execution": {},
        "id": "r_Ej6hmOHrXg"
      },
      "outputs": [],
      "source": [
        "x = torch.tensor([0, 1, 2], device=DEVICE)\n",
        "y = torch.tensor([3, 4, 5], device=\"cpu\")\n",
        "z = torch.tensor([6, 7, 8], device=DEVICE)\n",
        "\n",
        "# moving to cpu\n",
        "x = x.to(\"cpu\")  # alternatively, you can use x = x.cpu()\n",
        "print(x + y)\n",
        "\n",
        "# moving to gpu\n",
        "y = y.to(DEVICE)  # alternatively, you can use y = y.cuda()\n",
        "print(y + z)"
      ]
    },
    {
      "cell_type": "markdown",
      "metadata": {
        "execution": {},
        "id": "IXi0EQIIHrXh"
      },
      "source": [
        "### Coding Exercise 2.4: Just how much faster are GPUs?\n",
        "\n",
        "Below is a simple function `simpleFun`. Complete this function, such that it performs the operations:\n",
        "\n",
        "- Elementwise multiplication\n",
        "\n",
        "- Matrix multiplication\n",
        "\n",
        "The operations should be able to perfomed on either the CPU or GPU specified by the parameter `device`. We will use the helper function `timeFun(f, dim, iterations, device)`."
      ]
    },
    {
      "cell_type": "code",
      "execution_count": null,
      "metadata": {
        "execution": {},
        "id": "ETauA_ACHrXh"
      },
      "outputs": [],
      "source": [
        "dim = 10000\n",
        "iterations = 1"
      ]
    },
    {
      "cell_type": "code",
      "execution_count": null,
      "metadata": {
        "execution": {},
        "id": "mzJ9XyxnHrXh"
      },
      "outputs": [],
      "source": [
        "def simpleFun(dim, device):\n",
        "  \"\"\"\n",
        "  Helper function to check device-compatiblity with computations\n",
        "\n",
        "  Args:\n",
        "    dim: Integer\n",
        "    device: String\n",
        "      \"cpu\" or \"cuda\"\n",
        "\n",
        "  Returns:\n",
        "    Nothing.\n",
        "  \"\"\"\n",
        "  ###############################################\n",
        "  ## TODO for students: recreate the function, but\n",
        "  ## ensure all computations happens on the `device`\n",
        "  raise NotImplementedError(\"Student exercise: fill in the missing code to create the tensors\")\n",
        "  ###############################################\n",
        "  # 2D tensor filled with uniform random numbers in [0,1), dim x dim\n",
        "  x = ...\n",
        "  # 2D tensor filled with uniform random numbers in [0,1), dim x dim\n",
        "  y = ...\n",
        "  # 2D tensor filled with the scalar value 2, dim x dim\n",
        "  z = ...\n",
        "\n",
        "  # elementwise multiplication of x and y\n",
        "  a = ...\n",
        "  # matrix multiplication of x and z\n",
        "  b = ...\n",
        "\n",
        "  del x\n",
        "  del y\n",
        "  del z\n",
        "  del a\n",
        "  del b\n",
        "\n",
        "\n",
        "## TODO: Implement the function above and uncomment the following lines to test your code\n",
        "# timeFun(f=simpleFun, dim=dim, iterations=iterations)\n",
        "# timeFun(f=simpleFun, dim=dim, iterations=iterations, device=DEVICE)"
      ]
    },
    {
      "cell_type": "code",
      "execution_count": null,
      "metadata": {
        "execution": {},
        "id": "lagi3uSlHrXh"
      },
      "outputs": [],
      "source": [
        "# to_remove solution\n",
        "def simpleFun(dim, device):\n",
        "  \"\"\"\n",
        "  Helper function to check device-compatiblity with computations\n",
        "\n",
        "  Args:\n",
        "    dim: Integer\n",
        "    device: String\n",
        "      \"cpu\" or \"cuda\"\n",
        "\n",
        "  Returns:\n",
        "    Nothing.\n",
        "  \"\"\"\n",
        "  # 2D tensor filled with uniform random numbers in [0,1), dim x dim\n",
        "  x = torch.rand(dim, dim).to(device)\n",
        "  # 2D tensor filled with uniform random numbers in [0,1), dim x dim\n",
        "  y = torch.rand_like(x).to(device)\n",
        "  # 2D tensor filled with the scalar value 2, dim x dim\n",
        "  z = 2*torch.ones(dim, dim).to(device)\n",
        "\n",
        "  # elementwise multiplication of x and y\n",
        "  a = x * y\n",
        "  # matrix multiplication of x and z\n",
        "  b = x @ z\n",
        "\n",
        "  del x\n",
        "  del y\n",
        "  del z\n",
        "  del a\n",
        "  del b\n",
        "\n",
        "\n",
        "## TODO: Implement the function above and uncomment the following lines to test your code\n",
        "timeFun(f=simpleFun, dim=dim, iterations=iterations)\n",
        "timeFun(f=simpleFun, dim=dim, iterations=iterations, device=DEVICE)"
      ]
    },
    {
      "cell_type": "markdown",
      "metadata": {
        "execution": {},
        "id": "4fsKFHcQHrXh"
      },
      "source": [
        "Sample output (depends on your hardware)\n",
        "\n",
        "```\n",
        "time taken for 1 iterations of simpleFun(10000, cpu): 23.74070\n",
        "time taken for 1 iterations of simpleFun(10000, cuda): 0.87535\n",
        "```"
      ]
    },
    {
      "cell_type": "markdown",
      "metadata": {
        "execution": {},
        "id": "SZtVQVHJHrXh"
      },
      "source": [
        "**Discuss!**\n",
        "\n",
        "Try and reduce the dimensions of the tensors and increase the iterations. You can get to a point where the cpu only function is faster than the GPU function. Why might this be?"
      ]
    },
    {
      "cell_type": "code",
      "execution_count": null,
      "metadata": {
        "execution": {},
        "id": "kBNWC_iCHrXh"
      },
      "outputs": [],
      "source": [
        "# to_remove explanation\n",
        "\n",
        "\"\"\"\n",
        "The main difference between CPU and GPU architecture is that a\n",
        "- CPU is designed to handle a wide-range of tasks quickly\n",
        "(as measured by CPU clock speed), but are limited in the concurrency of tasks\n",
        "that can be running.\n",
        "- A GPU is designed to quickly render high-resolution images and video concurrently.\n",
        "\n",
        "In general, CPU is significantly faster when handling several different types of system\n",
        "operations (random access memory, mid-range computational operations,\n",
        "managing an operating system, I/O operations).\n",
        "\"\"\";"
      ]
    },
    {
      "cell_type": "markdown",
      "metadata": {
        "execution": {},
        "id": "-T_SLnm6HrXh"
      },
      "source": [
        "## Section 2.5: Datasets and Dataloaders"
      ]
    },
    {
      "cell_type": "code",
      "execution_count": null,
      "metadata": {
        "cellView": "form",
        "execution": {},
        "id": "mIwBI1Y4HrXi"
      },
      "outputs": [],
      "source": [
        "# @title Video 7: Getting Data\n",
        "from ipywidgets import widgets\n",
        "\n",
        "out2 = widgets.Output()\n",
        "with out2:\n",
        "  from IPython.display import IFrame\n",
        "  class BiliVideo(IFrame):\n",
        "    def __init__(self, id, page=1, width=400, height=300, **kwargs):\n",
        "      self.id=id\n",
        "      src = \"https://player.bilibili.com/player.html?bvid={0}&page={1}\".format(id, page)\n",
        "      super(BiliVideo, self).__init__(src, width, height, **kwargs)\n",
        "\n",
        "  video = BiliVideo(id=f\"BV1744y127SQ\", width=854, height=480, fs=1)\n",
        "  print(\"Video available at https://www.bilibili.com/video/{0}\".format(video.id))\n",
        "  display(video)\n",
        "\n",
        "out1 = widgets.Output()\n",
        "with out1:\n",
        "  from IPython.display import YouTubeVideo\n",
        "  video = YouTubeVideo(id=f\"LSkjPM1gFu0\", width=854, height=480, fs=1, rel=0)\n",
        "  print(\"Video available at https://youtube.com/watch?v=\" + video.id)\n",
        "  display(video)\n",
        "\n",
        "out = widgets.Tab([out1, out2])\n",
        "out.set_title(0, 'Youtube')\n",
        "out.set_title(1, 'Bilibili')\n",
        "\n",
        "# add timing to airtable\n",
        "atform.add_event('Video 7: Getting Data')\n",
        "\n",
        "display(out)"
      ]
    },
    {
      "cell_type": "markdown",
      "metadata": {
        "execution": {},
        "id": "oJV0JFH4HrXi"
      },
      "source": [
        "When training neural network models you will be working with large amounts of data. Fortunately, PyTorch offers some great tools that help you organize and manipulate your data samples."
      ]
    },
    {
      "cell_type": "code",
      "execution_count": null,
      "metadata": {
        "execution": {},
        "id": "6-kUGIhoHrXi"
      },
      "outputs": [],
      "source": [
        "# Import dataset and dataloaders related packages\n",
        "from torchvision import datasets\n",
        "from torchvision.transforms import ToTensor\n",
        "from torch.utils.data import DataLoader\n",
        "from torchvision.transforms import Compose, Grayscale"
      ]
    },
    {
      "cell_type": "markdown",
      "metadata": {
        "execution": {},
        "id": "HzzcyChGHrXi"
      },
      "source": [
        "**Datasets**\n",
        "\n",
        "The `torchvision` package gives you easy access to many of the publicly available datasets. Let's load the [CIFAR10](https://www.cs.toronto.edu/~kriz/cifar.html) dataset, which contains color images of 10 different classes, like vehicles and animals.\n",
        "\n",
        "Creating an object of type `datasets.CIFAR10` will automatically download and load all images from the dataset. The resulting data structure can be treated as a list containing data samples and their corresponding labels."
      ]
    },
    {
      "cell_type": "code",
      "execution_count": null,
      "metadata": {
        "execution": {},
        "id": "ZYPYTgQsHrXi"
      },
      "outputs": [],
      "source": [
        "# Download and load the images from the CIFAR10 dataset\n",
        "cifar10_data = datasets.CIFAR10(\n",
        "    root=\"data\",  # path where the images will be stored\n",
        "    download=True,  # all images should be downloaded\n",
        "    transform=ToTensor()  # transform the images to tensors\n",
        "    )\n",
        "\n",
        "# Print the number of samples in the loaded dataset\n",
        "print(f\"Number of samples: {len(cifar10_data)}\")\n",
        "print(f\"Class names: {cifar10_data.classes}\")"
      ]
    },
    {
      "cell_type": "markdown",
      "metadata": {
        "execution": {},
        "id": "NoPQR_q-HrXi"
      },
      "source": [
        "We have 50,000 samples loaded. Now, let's take a look at one of them in detail. Each sample consists of an image and its corresponding label."
      ]
    },
    {
      "cell_type": "code",
      "execution_count": null,
      "metadata": {
        "execution": {},
        "id": "bQRJwG-qHrXi"
      },
      "outputs": [],
      "source": [
        "# Choose a random sample\n",
        "random.seed(2021)\n",
        "image, label = cifar10_data[random.randint(0, len(cifar10_data))]\n",
        "print(f\"Label: {cifar10_data.classes[label]}\")\n",
        "print(f\"Image size: {image.shape}\")"
      ]
    },
    {
      "cell_type": "markdown",
      "metadata": {
        "execution": {},
        "id": "7Q1MyZKlHrXi"
      },
      "source": [
        "Color images are modeled as 3 dimensional tensors. The first dimension corresponds to the channels ($\\text{C}$) of the image (in this case we have RGB images). The second dimensions is the height ($\\text{H}$) of the image and the third is the width ($\\text{W}$). We can denote this image format as $\\text{C} \\times \\text{H} \\times \\text{W}$."
      ]
    },
    {
      "cell_type": "markdown",
      "metadata": {
        "execution": {},
        "id": "CdUu3wg8HrXi"
      },
      "source": [
        "### Coding Exercise 2.5: Display an image from the dataset\n",
        "\n",
        "Let's try to display the image using `matplotlib`. The code below will not work, because `imshow` expects to have the image in a different format, i.e., $\\text{C} \\times \\text{H} \\times \\text{W}$.\n",
        "\n",
        "You need to reorder the dimensions of the tensor using the `permute` method of the tensor. PyTorch `torch.permute(*dims)` rearranges the original tensor according to the desired ordering and returns a new multidimensional rotated tensor. The size of the returned tensor remains the same as that of the original.\n",
        "\n",
        "**Code hint:**\n",
        "\n",
        "```python\n",
        "# create a tensor of size 2 x 4\n",
        "input_var = torch.randn(2, 4)\n",
        "# print its size and the tensor\n",
        "print(input_var.size())\n",
        "print(input_var)\n",
        "\n",
        "# dimensions permuted\n",
        "input_var = input_var.permute(1, 0)\n",
        "# print its size and the permuted tensor\n",
        "print(input_var.size())\n",
        "print(input_var)\n",
        "```"
      ]
    },
    {
      "cell_type": "code",
      "execution_count": null,
      "metadata": {
        "execution": {},
        "id": "up2KvOgOHrXj"
      },
      "outputs": [],
      "source": [
        "# TODO: Uncomment the following line to see the error that arises from the current image format\n",
        "# plt.imshow(image)\n",
        "\n",
        "# TODO: Comment the above line and fix this code by reordering the tensor dimensions\n",
        "# plt.imshow(image.permute(...))\n",
        "# plt.show()"
      ]
    },
    {
      "cell_type": "code",
      "execution_count": null,
      "metadata": {
        "execution": {},
        "id": "IDoUmLGrHrXj"
      },
      "outputs": [],
      "source": [
        "# to_remove solution\n",
        "\n",
        "# TODO: Uncomment the following line to see the error that arises from the current image format\n",
        "# plt.imshow(image)\n",
        "\n",
        "# TODO: Comment the above line and fix this code by reordering the tensor dimensions\n",
        "plt.imshow(image.permute(1, 2, 0))\n",
        "plt.show()"
      ]
    },
    {
      "cell_type": "code",
      "execution_count": null,
      "metadata": {
        "cellView": "form",
        "execution": {},
        "id": "bxuYKQ6SHrXj"
      },
      "outputs": [],
      "source": [
        "#@title Video 8: Train and Test\n",
        "from ipywidgets import widgets\n",
        "\n",
        "out2 = widgets.Output()\n",
        "with out2:\n",
        "  from IPython.display import IFrame\n",
        "  class BiliVideo(IFrame):\n",
        "    def __init__(self, id, page=1, width=400, height=300, **kwargs):\n",
        "      self.id=id\n",
        "      src = \"https://player.bilibili.com/player.html?bvid={0}&page={1}\".format(id, page)\n",
        "      super(BiliVideo, self).__init__(src, width, height, **kwargs)\n",
        "\n",
        "  video = BiliVideo(id=f\"BV1rV411H7s5\", width=854, height=480, fs=1)\n",
        "  print(\"Video available at https://www.bilibili.com/video/{0}\".format(video.id))\n",
        "  display(video)\n",
        "\n",
        "out1 = widgets.Output()\n",
        "with out1:\n",
        "  from IPython.display import YouTubeVideo\n",
        "  video = YouTubeVideo(id=f\"JokSIuPs-ys\", width=854, height=480, fs=1, rel=0)\n",
        "  print(\"Video available at https://youtube.com/watch?v=\" + video.id)\n",
        "  display(video)\n",
        "\n",
        "out = widgets.Tab([out1, out2])\n",
        "out.set_title(0, 'Youtube')\n",
        "out.set_title(1, 'Bilibili')\n",
        "\n",
        "# add timing to airtable\n",
        "atform.add_event('Video 8: Train and Test')\n",
        "\n",
        "display(out)"
      ]
    },
    {
      "cell_type": "markdown",
      "metadata": {
        "execution": {},
        "id": "IHWXZPX7HrXj"
      },
      "source": [
        "**Training and Test Datasets**\n",
        "\n",
        "When loading a dataset, you can specify if you want to load the training or the test samples using the `train` argument. We can load the training and test datasets separately. For simplicity, today we will not use both datasets separately, but this topic will be adressed in the next days."
      ]
    },
    {
      "cell_type": "code",
      "execution_count": null,
      "metadata": {
        "execution": {},
        "id": "Mat5ShDeHrXj"
      },
      "outputs": [],
      "source": [
        "# Load the training samples\n",
        "training_data = datasets.CIFAR10(\n",
        "    root=\"data\",\n",
        "    train=True,\n",
        "    download=True,\n",
        "    transform=ToTensor()\n",
        "    )\n",
        "\n",
        "# Load the test samples\n",
        "test_data = datasets.CIFAR10(\n",
        "    root=\"data\",\n",
        "    train=False,\n",
        "    download=True,\n",
        "    transform=ToTensor()\n",
        "    )"
      ]
    },
    {
      "cell_type": "code",
      "execution_count": null,
      "metadata": {
        "cellView": "form",
        "execution": {},
        "id": "L2zn1piYHrXj"
      },
      "outputs": [],
      "source": [
        "# @title Video 9: Data Augmentation - Transformations\n",
        "from ipywidgets import widgets\n",
        "\n",
        "out2 = widgets.Output()\n",
        "with out2:\n",
        "  from IPython.display import IFrame\n",
        "  class BiliVideo(IFrame):\n",
        "    def __init__(self, id, page=1, width=400, height=300, **kwargs):\n",
        "      self.id=id\n",
        "      src = \"https://player.bilibili.com/player.html?bvid={0}&page={1}\".format(id, page)\n",
        "      super(BiliVideo, self).__init__(src, width, height, **kwargs)\n",
        "\n",
        "  video = BiliVideo(id=f\"BV19B4y1N77t\", width=854, height=480, fs=1)\n",
        "  print(\"Video available at https://www.bilibili.com/video/{0}\".format(video.id))\n",
        "  display(video)\n",
        "\n",
        "out1 = widgets.Output()\n",
        "with out1:\n",
        "  from IPython.display import YouTubeVideo\n",
        "  video = YouTubeVideo(id=f\"sjegA9OBUPw\", width=854, height=480, fs=1, rel=0)\n",
        "  print(\"Video available at https://youtube.com/watch?v=\" + video.id)\n",
        "  display(video)\n",
        "\n",
        "out = widgets.Tab([out1, out2])\n",
        "out.set_title(0, 'Youtube')\n",
        "out.set_title(1, 'Bilibili')\n",
        "\n",
        "# add timing to airtable\n",
        "atform.add_event('Video 9: Data Augmentation - Transformations')\n",
        "\n",
        "display(out)"
      ]
    },
    {
      "cell_type": "markdown",
      "metadata": {
        "execution": {},
        "id": "iU6teBgxHrXk"
      },
      "source": [
        "**Dataloader**\n",
        "\n",
        "Another important concept is the `Dataloader`. It is a wrapper around the `Dataset` that splits it into minibatches (important for training the neural network) and makes the data iterable. The `shuffle` argument is used to shuffle the order of the samples across the minibatches."
      ]
    },
    {
      "cell_type": "code",
      "execution_count": null,
      "metadata": {
        "execution": {},
        "id": "gneJAKVvHrXk"
      },
      "outputs": [],
      "source": [
        "# Create dataloaders with\n",
        "train_dataloader = DataLoader(training_data, batch_size=64, shuffle=True)\n",
        "test_dataloader = DataLoader(test_data, batch_size=64, shuffle=True)"
      ]
    },
    {
      "cell_type": "markdown",
      "metadata": {
        "execution": {},
        "id": "fDuzRp4gHrXk"
      },
      "source": [
        "*Reproducibility:* DataLoader will reseed workers following Randomness in multi-process data loading algorithm. Use `worker_init_fn()` and a `generator` to preserve reproducibility:\n",
        "\n",
        "\n",
        "```python\n",
        "def seed_worker(worker_id):\n",
        "  worker_seed = torch.initial_seed() % 2**32\n",
        "  numpy.random.seed(worker_seed)\n",
        "  random.seed(worker_seed)\n",
        "\n",
        "\n",
        "g_seed = torch.Generator()\n",
        "g_seed.manual_seed(my_seed)\n",
        "\n",
        "DataLoader(\n",
        "    train_dataset,\n",
        "    batch_size=batch_size,\n",
        "    num_workers=num_workers,\n",
        "    worker_init_fn=seed_worker,\n",
        "    generator=g_seed\n",
        "    )\n",
        "```"
      ]
    },
    {
      "cell_type": "markdown",
      "metadata": {
        "execution": {},
        "id": "mtfwr8nuHrXk"
      },
      "source": [
        "**Important:** For the `seed_worker` to have an effect, `num_workers` should be 2 or more."
      ]
    },
    {
      "cell_type": "markdown",
      "metadata": {
        "execution": {},
        "id": "3n0gj9wWHrXk"
      },
      "source": [
        "We can now query the next batch from the data loader and inspect it. For this we need to convert the dataloader object to a Python iterator using the function `iter` and then we can query the next batch using the function `next`.\n",
        "\n",
        "We can now see that we have a 4D tensor. This is because we have a 64 images in the batch ($B$) and each image has 3 dimensions: channels ($C$), height ($H$) and width ($W$). So, the size of the 4D tensor is $B \\times C \\times H \\times W$."
      ]
    },
    {
      "cell_type": "code",
      "execution_count": null,
      "metadata": {
        "execution": {},
        "id": "tCrdTf3vHrXk"
      },
      "outputs": [],
      "source": [
        "# Load the next batch\n",
        "batch_images, batch_labels = next(iter(train_dataloader))\n",
        "print('Batch size:', batch_images.shape)\n",
        "\n",
        "# Display the first image from the batch\n",
        "plt.imshow(batch_images[0].permute(1, 2, 0))\n",
        "plt.show()"
      ]
    },
    {
      "cell_type": "markdown",
      "metadata": {
        "execution": {},
        "id": "GeWTNTdUHrXk"
      },
      "source": [
        "**Transformations**\n",
        "\n",
        "Another useful feature when loading a dataset is applying transformations on the data - color conversions, normalization, cropping, rotation etc. There are many predefined transformations in the `torchvision.transforms` package and you can also combine them using the `Compose` transform. Checkout the [pytorch documentation](https://pytorch.org/vision/stable/transforms.html) for details."
      ]
    },
    {
      "cell_type": "markdown",
      "metadata": {
        "execution": {},
        "id": "jstJ-hTVHrXk"
      },
      "source": [
        "### Coding Exercise 2.6: Load the CIFAR10 dataset as grayscale images\n",
        "\n",
        "The goal of this excercise is to load the images from the CIFAR10 dataset as grayscale images. Note that we rerun the `set_seed` function to ensure reproducibility."
      ]
    },
    {
      "cell_type": "code",
      "execution_count": null,
      "metadata": {
        "execution": {},
        "id": "8I78FrJRHrXl"
      },
      "outputs": [],
      "source": [
        "def my_data_load():\n",
        "  \"\"\"\n",
        "  Function to load CIFAR10 data as grayscale images\n",
        "\n",
        "  Args:\n",
        "    None\n",
        "\n",
        "  Returns:\n",
        "    data: DataFrame\n",
        "      CIFAR10 loaded Dataframe of shape (3309, 14)\n",
        "  \"\"\"\n",
        "  ###############################################\n",
        "  ## TODO for students: load the CIFAR10 data,\n",
        "  ## but as grayscale images and not as RGB colored.\n",
        "  raise NotImplementedError(\"Student exercise: fill in the missing code to load the data\")\n",
        "  ###############################################\n",
        "  ## TODO Load the CIFAR10 data using a transform that converts the images to grayscale tensors\n",
        "  data = datasets.CIFAR10(...,\n",
        "                          transform=...)\n",
        "  # Display a random grayscale image\n",
        "  image, label = data[random.randint(0, len(data))]\n",
        "  plt.imshow(image.squeeze(), cmap=\"gray\")\n",
        "  plt.show()\n",
        "\n",
        "  return data\n",
        "\n",
        "\n",
        "set_seed(seed=2021)\n",
        "## After implementing the above code, uncomment the following lines to test your code\n",
        "# data = my_data_load()"
      ]
    },
    {
      "cell_type": "code",
      "execution_count": null,
      "metadata": {
        "execution": {},
        "id": "i4L_ZK3SHrXl"
      },
      "outputs": [],
      "source": [
        "# to_remove solution\n",
        "def my_data_load():\n",
        "  \"\"\"\n",
        "  Function to load CIFAR10 data as grayscale images\n",
        "\n",
        "  Args:\n",
        "    None\n",
        "\n",
        "  Returns:\n",
        "    data: DataFrame\n",
        "      CIFAR10 loaded Dataframe of shape (3309, 14)\n",
        "  \"\"\"\n",
        "  ## TODO Load the CIFAR10 data using a transform that converts the images to grayscale tensors\n",
        "  data = datasets.CIFAR10(root=\"data\", download=True,\n",
        "                          transform=Compose([ToTensor(), Grayscale()]))\n",
        "  # Display a random grayscale image\n",
        "  image, label = data[random.randint(0, len(data))]\n",
        "  plt.imshow(image.squeeze(), cmap=\"gray\")\n",
        "  plt.show()\n",
        "\n",
        "  return data\n",
        "\n",
        "\n",
        "set_seed(seed=2021)\n",
        "## After implementing the above code, uncomment the following lines to test your code\n",
        "data = my_data_load()"
      ]
    },
    {
      "cell_type": "markdown",
      "metadata": {
        "execution": {},
        "id": "txRjl6qyHrXl"
      },
      "source": [
        "---\n",
        "# Section 3: Neural Networks\n",
        "\n",
        "*Time estimate: ~1 hour 30 mins (excluding video)*"
      ]
    },
    {
      "cell_type": "markdown",
      "metadata": {
        "execution": {},
        "id": "Hm2QEbk8HrXl"
      },
      "source": [
        "Now it's time for you to create your first neural network using PyTorch. This section will walk you through the process of:\n",
        "\n",
        "- Creating a simple neural network model\n",
        "- Training the network\n",
        "- Visualizing the results of the network\n",
        "- Tweaking the network"
      ]
    },
    {
      "cell_type": "code",
      "execution_count": null,
      "metadata": {
        "cellView": "form",
        "execution": {},
        "id": "GFP3tBNGHrXl"
      },
      "outputs": [],
      "source": [
        "# @title Video 10: CSV Files\n",
        "from ipywidgets import widgets\n",
        "\n",
        "out2 = widgets.Output()\n",
        "with out2:\n",
        "  from IPython.display import IFrame\n",
        "  class BiliVideo(IFrame):\n",
        "    def __init__(self, id, page=1, width=400, height=300, **kwargs):\n",
        "      self.id=id\n",
        "      src = \"https://player.bilibili.com/player.html?bvid={0}&page={1}\".format(id, page)\n",
        "      super(BiliVideo, self).__init__(src, width, height, **kwargs)\n",
        "\n",
        "  video = BiliVideo(id=f\"BV1xy4y1T7kv\", width=854, height=480, fs=1)\n",
        "  print(\"Video available at https://www.bilibili.com/video/{0}\".format(video.id))\n",
        "  display(video)\n",
        "\n",
        "out1 = widgets.Output()\n",
        "with out1:\n",
        "  from IPython.display import YouTubeVideo\n",
        "  video = YouTubeVideo(id=f\"JrC_UAJWYKU\", width=854, height=480, fs=1, rel=0)\n",
        "  print(\"Video available at https://youtube.com/watch?v=\" + video.id)\n",
        "  display(video)\n",
        "\n",
        "out = widgets.Tab([out1, out2])\n",
        "out.set_title(0, 'Youtube')\n",
        "out.set_title(1, 'Bilibili')\n",
        "\n",
        "# add timing to airtable\n",
        "atform.add_event('Video 10: CSV Files')\n",
        "\n",
        "display(out)"
      ]
    },
    {
      "cell_type": "markdown",
      "metadata": {
        "execution": {},
        "id": "j7ZstlpXHrXl"
      },
      "source": [
        "## Section 3.1: Data Loading\n",
        "\n",
        "First we need some sample data to train our network on. You can use the function below to generate an example dataset consisting of 2D points along two interleaving half circles. The data will be stored in a file called `sample_data.csv`. You can inspect the file directly in Colab by going to Files on the left side and opening the CSV file."
      ]
    },
    {
      "cell_type": "code",
      "execution_count": null,
      "metadata": {
        "cellView": "form",
        "execution": {},
        "id": "iR3LeyyvHrXm"
      },
      "outputs": [],
      "source": [
        "# @title Generate sample data\n",
        "# @markdown we used `scikit-learn` module\n",
        "from sklearn.datasets import make_moons\n",
        "\n",
        "# Create a dataset of 256 points with a little noise\n",
        "X, y = make_moons(256, noise=0.1)\n",
        "\n",
        "# Store the data as a Pandas data frame and save it to a CSV file\n",
        "df = pd.DataFrame(dict(x0=X[:,0], x1=X[:,1], y=y))\n",
        "df.to_csv('sample_data.csv')"
      ]
    },
    {
      "cell_type": "markdown",
      "metadata": {
        "execution": {},
        "id": "NaDMhzsRHrXm"
      },
      "source": [
        "Now we can load the data from the CSV file using the Pandas library. Pandas provides many functions for reading files in various formats. When loading data from a CSV file, we can reference the columns directly by their names."
      ]
    },
    {
      "cell_type": "code",
      "execution_count": null,
      "metadata": {
        "execution": {},
        "id": "4kSy5wRuHrXm"
      },
      "outputs": [],
      "source": [
        "# Load the data from the CSV file in a Pandas DataFrame\n",
        "data = pd.read_csv(\"sample_data.csv\")\n",
        "\n",
        "# Create a 2D numpy array from the x0 and x1 columns\n",
        "X_orig = data[[\"x0\", \"x1\"]].to_numpy()\n",
        "\n",
        "# Create a 1D numpy array from the y column\n",
        "y_orig = data[\"y\"].to_numpy()\n",
        "\n",
        "# Print the sizes of the generated 2D points X and the corresponding labels Y\n",
        "print(f\"Size X:{X_orig.shape}\")\n",
        "print(f\"Size y:{y_orig.shape}\")\n",
        "\n",
        "# Visualize the dataset. The color of the points is determined by the labels `y_orig`.\n",
        "plt.scatter(X_orig[:, 0], X_orig[:, 1], s=40, c=y_orig)\n",
        "plt.show()"
      ]
    },
    {
      "cell_type": "markdown",
      "metadata": {
        "execution": {},
        "id": "PvkH747mHrXm"
      },
      "source": [
        "**Prepare Data for PyTorch**\n",
        "\n",
        "Now let's prepare the data in a format suitable for PyTorch - convert everything into tensors."
      ]
    },
    {
      "cell_type": "code",
      "execution_count": null,
      "metadata": {
        "execution": {},
        "id": "Vzi8LPuXHrXm"
      },
      "outputs": [],
      "source": [
        "# Initialize the device variable\n",
        "DEVICE = set_device()\n",
        "\n",
        "# Convert the 2D points to a float32 tensor\n",
        "X = torch.tensor(X_orig, dtype=torch.float32)\n",
        "\n",
        "# Upload the tensor to the device\n",
        "X = X.to(DEVICE)\n",
        "\n",
        "print(f\"Size X:{X.shape}\")\n",
        "\n",
        "# Convert the labels to a long interger tensor\n",
        "y = torch.from_numpy(y_orig).type(torch.LongTensor)\n",
        "\n",
        "# Upload the tensor to the device\n",
        "y = y.to(DEVICE)\n",
        "\n",
        "print(f\"Size y:{y.shape}\")"
      ]
    },
    {
      "cell_type": "markdown",
      "metadata": {
        "execution": {},
        "id": "IOsfTVNjHrXm"
      },
      "source": [
        "## Section 3.2: Create a Simple Neural Network"
      ]
    },
    {
      "cell_type": "code",
      "execution_count": null,
      "metadata": {
        "cellView": "form",
        "execution": {},
        "id": "qYQWAi11HrXm"
      },
      "outputs": [],
      "source": [
        "# @title Video 11: Generating the Neural Network\n",
        "from ipywidgets import widgets\n",
        "\n",
        "out2 = widgets.Output()\n",
        "with out2:\n",
        "  from IPython.display import IFrame\n",
        "  class BiliVideo(IFrame):\n",
        "    def __init__(self, id, page=1, width=400, height=300, **kwargs):\n",
        "      self.id=id\n",
        "      src = \"https://player.bilibili.com/player.html?bvid={0}&page={1}\".format(id, page)\n",
        "      super(BiliVideo, self).__init__(src, width, height, **kwargs)\n",
        "\n",
        "  video = BiliVideo(id=f\"BV1fK4y1M74a\", width=854, height=480, fs=1)\n",
        "  print(\"Video available at https://www.bilibili.com/video/{0}\".format(video.id))\n",
        "  display(video)\n",
        "\n",
        "out1 = widgets.Output()\n",
        "with out1:\n",
        "  from IPython.display import YouTubeVideo\n",
        "  video = YouTubeVideo(id=f\"PwSzRohUvck\", width=854, height=480, fs=1, rel=0)\n",
        "  print(\"Video available at https://youtube.com/watch?v=\" + video.id)\n",
        "  display(video)\n",
        "\n",
        "out = widgets.Tab([out1, out2])\n",
        "out.set_title(0, 'Youtube')\n",
        "out.set_title(1, 'Bilibili')\n",
        "\n",
        "# add timing to airtable\n",
        "atform.add_event('Video 11: Generating the Neural Network')\n",
        "\n",
        "display(out)"
      ]
    },
    {
      "cell_type": "markdown",
      "metadata": {
        "execution": {},
        "id": "M4WxTF19HrXm"
      },
      "source": [
        "For this example we want to have a simple neural network consisting of 3 layers:\n",
        "\n",
        "- 1 input layer of size 2 (our points have 2 coordinates)\n",
        "- 1 hidden layer of size 16 (you can play with different numbers here)\n",
        "- 1 output layer of size 2 (we want the have the scores for the two classes)\n",
        "\n",
        "During the course you will deal with differend kinds of neural networks. On Day 2, we will focus on linear networks, but you will work with some more complicated architectures in the next days. The example here is meant to demonstrate the process of creating and training a neural network end-to-end.\n",
        "\n",
        "**Programing the Network**\n",
        "\n",
        "PyTorch provides a base class for all neural network modules called [`nn.Module`](https://pytorch.org/docs/stable/generated/torch.nn.Module.html). You need to inherit from `nn.Module` and implement some important methods:\n",
        "\n",
        "* `__init__`\n",
        "\n",
        "  In the `__init__` method you need to define the structure of your network. Here you will specify what layers will the network consist of, what activation functions will be used etc.\n",
        "\n",
        "* `forward`\n",
        "\n",
        "  All neural network modules need to implement the `forward` method. It specifies the computations the network needs to do when data is passed through it.\n",
        "\n",
        "* `predict`\n",
        "\n",
        "  This is not an obligatory method of a neural network module, but it is a good practice if you want to quickly get the most likely label from the network. It calls the `forward` method and chooses the label with the highest score.\n",
        "\n",
        "* `train`\n",
        "\n",
        "  This is also not an obligatory method, but it is a good practice to have. The method will be used to train the network parameters and will be implemented later in the notebook.\n",
        "\n",
        "<br>\n",
        "\n",
        "**Note:** You can use the `__call__` method of a module directly and it will invoke the `forward` method: `net()` does the same as `net.forward()`."
      ]
    },
    {
      "cell_type": "code",
      "execution_count": null,
      "metadata": {
        "execution": {},
        "id": "MNTjsJftHrXn"
      },
      "outputs": [],
      "source": [
        "# Inherit from nn.Module - the base class for neural network modules provided by Pytorch\n",
        "class NaiveNet(nn.Module):\n",
        "  \"\"\"\n",
        "  NaiveNet architecture\n",
        "  Structure is as follows:\n",
        "  Linear Layer (2, 16) -> ReLU activation -> Linear Layer (16, 2)\n",
        "  \"\"\"\n",
        "  # Define the structure of your network\n",
        "  def __init__(self):\n",
        "    \"\"\"\n",
        "    Defines the NaiveNet structure by initialising following attributes\n",
        "    nn.Linear (2, 16):  Transformation from the input to the hidden layer\n",
        "    nn.ReLU: Activation function (ReLU) is a non-linearity which is widely used because it reduces computation.\n",
        "             The function returns 0 if it receives any negative input, but for any positive value x, it returns that value back.\n",
        "    nn.Linear (16, 2): Transformation from the hidden to the output layer\n",
        "\n",
        "    Args:\n",
        "      None\n",
        "\n",
        "    Returns:\n",
        "      Nothing\n",
        "    \"\"\"\n",
        "    super(NaiveNet, self).__init__()\n",
        "\n",
        "    # The network is defined as a sequence of operations\n",
        "    self.layers = nn.Sequential(\n",
        "        nn.Linear(2, 16),\n",
        "        nn.ReLU(),\n",
        "        nn.Linear(16, 2),\n",
        "    )\n",
        "\n",
        "  # Specify the computations performed on the data\n",
        "  def forward(self, x):\n",
        "    \"\"\"\n",
        "    Defines the forward pass through the above defined structure\n",
        "\n",
        "    Args:\n",
        "      x: torch.Tensor\n",
        "        Input tensor of size ([3])\n",
        "\n",
        "    Returns:\n",
        "      layers: nn.module\n",
        "        Initialised Layers in order to re-use the same layer for each forward pass of data you make.\n",
        "    \"\"\"\n",
        "    # Pass the data through the layers\n",
        "    return self.layers(x)\n",
        "\n",
        "  # Choose the most likely label predicted by the network\n",
        "  def predict(self, x):\n",
        "    \"\"\"\n",
        "    Performs the prediction task of the network\n",
        "\n",
        "    Args:\n",
        "      x: torch.Tensor\n",
        "        Input tensor of size ([3])\n",
        "\n",
        "    Returns:\n",
        "      Most likely class i.e., Label with the highest score\n",
        "    \"\"\"\n",
        "    # Pass the data through the networks\n",
        "    output = self.forward(x)\n",
        "\n",
        "    # Choose the label with the highest score\n",
        "    return torch.argmax(output, 1)\n",
        "\n",
        "  # Train the neural network (will be implemented later)\n",
        "  def train(self, X, y):\n",
        "    \"\"\"\n",
        "    Training the Neural Network\n",
        "\n",
        "    Args:\n",
        "      X: torch.Tensor\n",
        "        Input data\n",
        "      y: torch.Tensor\n",
        "        Class Labels/Targets\n",
        "\n",
        "    Returns:\n",
        "      Nothing\n",
        "    \"\"\"\n",
        "    pass"
      ]
    },
    {
      "cell_type": "markdown",
      "metadata": {
        "execution": {},
        "id": "2y7Rf5_FHrXn"
      },
      "source": [
        "**Check that your network works**\n",
        "\n",
        "Create an instance of your model and visualize it."
      ]
    },
    {
      "cell_type": "code",
      "execution_count": null,
      "metadata": {
        "execution": {},
        "id": "wcqz1akRHrXn"
      },
      "outputs": [],
      "source": [
        "# Create new NaiveNet and transfer it to the device\n",
        "model = NaiveNet().to(DEVICE)\n",
        "\n",
        "# Print the structure of the network\n",
        "print(model)"
      ]
    },
    {
      "cell_type": "markdown",
      "metadata": {
        "execution": {},
        "id": "iiBF6NZGHrXn"
      },
      "source": [
        "### Coding Exercise 3.2: Classify some samples\n",
        "\n",
        "Now, let's pass some of the points of our dataset through the network and see if it works. You should not expect the network to actually classify the points correctly, because it has not been trained yet. \n",
        "\n",
        "The goal here is just to get some experience with the data structures that are passed to the forward and predict methods and their results."
      ]
    },
    {
      "cell_type": "code",
      "execution_count": null,
      "metadata": {
        "execution": {},
        "id": "EhTWYW8kHrXn"
      },
      "outputs": [],
      "source": [
        "## Get the samples\n",
        "# X_samples = ...\n",
        "# print(\"Sample input:\\n\", X_samples)\n",
        "\n",
        "## Do a forward pass of the network\n",
        "# output = ...\n",
        "# print(\"\\nNetwork output:\\n\", output)\n",
        "\n",
        "## Predict the label of each point\n",
        "# y_predicted = ...\n",
        "# print(\"\\nPredicted labels:\\n\", y_predicted)"
      ]
    },
    {
      "cell_type": "code",
      "execution_count": null,
      "metadata": {
        "execution": {},
        "id": "3eHL5R3sHrXn"
      },
      "outputs": [],
      "source": [
        "# to_remove solution\n",
        "## Get the samples\n",
        "X_samples = X[0:5]\n",
        "print(\"Sample input:\\n\", X_samples)\n",
        "\n",
        "## Do a forward pass of the network\n",
        "output = model.forward(X_samples)\n",
        "print(\"\\nNetwork output:\\n\", output)\n",
        "\n",
        "## Predict the label of each point\n",
        "y_predicted = model.predict(X_samples)\n",
        "print(\"\\nPredicted labels:\\n\", y_predicted)"
      ]
    },
    {
      "cell_type": "markdown",
      "metadata": {
        "execution": {},
        "id": "6Vt74J_MHrXo"
      },
      "source": [
        "```\n",
        "Sample input:\n",
        " tensor([[ 0.9066,  0.5052],\n",
        "        [-0.2024,  1.1226],\n",
        "        [ 1.0685,  0.2809],\n",
        "        [ 0.6720,  0.5097],\n",
        "        [ 0.8548,  0.5122]], device='cuda:0')\n",
        "\n",
        "Network output:\n",
        " tensor([[ 0.1543, -0.8018],\n",
        "        [ 2.2077, -2.9859],\n",
        "        [-0.5745, -0.0195],\n",
        "        [ 0.1924, -0.8367],\n",
        "        [ 0.1818, -0.8301]], device='cuda:0', grad_fn=<AddmmBackward>)\n",
        "\n",
        "Predicted labels:\n",
        " tensor([0, 0, 1, 0, 0], device='cuda:0')\n",
        "```"
      ]
    },
    {
      "cell_type": "markdown",
      "metadata": {
        "execution": {},
        "id": "kqIHueukHrXo"
      },
      "source": [
        "## Section 3.3: Train Your Neural Network"
      ]
    },
    {
      "cell_type": "code",
      "execution_count": null,
      "metadata": {
        "cellView": "form",
        "execution": {},
        "id": "0liJVZlSHrXo"
      },
      "outputs": [],
      "source": [
        "# @title Video 12: Train the Network\n",
        "from ipywidgets import widgets\n",
        "\n",
        "out2 = widgets.Output()\n",
        "with out2:\n",
        "  from IPython.display import IFrame\n",
        "  class BiliVideo(IFrame):\n",
        "    def __init__(self, id, page=1, width=400, height=300, **kwargs):\n",
        "      self.id=id\n",
        "      src = \"https://player.bilibili.com/player.html?bvid={0}&page={1}\".format(id, page)\n",
        "      super(BiliVideo, self).__init__(src, width, height, **kwargs)\n",
        "\n",
        "  video = BiliVideo(id=f\"BV1v54y1n7CS\", width=854, height=480, fs=1)\n",
        "  print(\"Video available at https://www.bilibili.com/video/{0}\".format(video.id))\n",
        "  display(video)\n",
        "\n",
        "out1 = widgets.Output()\n",
        "with out1:\n",
        "  from IPython.display import YouTubeVideo\n",
        "  video = YouTubeVideo(id=f\"4MIqnE4XPaA\", width=854, height=480, fs=1, rel=0)\n",
        "  print(\"Video available at https://youtube.com/watch?v=\" + video.id)\n",
        "  display(video)\n",
        "\n",
        "out = widgets.Tab([out1, out2])\n",
        "out.set_title(0, 'Youtube')\n",
        "out.set_title(1, 'Bilibili')\n",
        "\n",
        "# add timing to airtable\n",
        "atform.add_event('Video 12: Train the Network')\n",
        "\n",
        "display(out)"
      ]
    },
    {
      "cell_type": "markdown",
      "metadata": {
        "execution": {},
        "id": "BfvcIE1_HrXo"
      },
      "source": [
        "Now it is time to train your network on your dataset. Don't worry if you don't fully understand everything yet - we will cover training in much more details in the next days. For now, the goal is just to see your network in action!\n",
        "\n",
        "You will usually implement the `train` method directly when implementing your class `NaiveNet`. Here, we will implement it as a function outside of the class in order to have it in a separate cell."
      ]
    },
    {
      "cell_type": "code",
      "execution_count": null,
      "metadata": {
        "cellView": "form",
        "execution": {},
        "id": "_ywfq6teHrXo"
      },
      "outputs": [],
      "source": [
        "# @title Helper function to plot the decision boundary\n",
        "\n",
        "# Code adapted from this notebook: https://jonchar.net/notebooks/Artificial-Neural-Network-with-Keras/\n",
        "\n",
        "from pathlib import Path\n",
        "\n",
        "def plot_decision_boundary(model, X, y, device):\n",
        "  \"\"\"\n",
        "  Helper function to plot decision boundary\n",
        "\n",
        "  Args:\n",
        "    model: nn.module\n",
        "      NaiveNet instance\n",
        "    X: torch.tensor\n",
        "      Input CIFAR10 data\n",
        "    y: torch.tensor\n",
        "      Class Labels/Targets\n",
        "    device: String\n",
        "      \"cpu\" or \"cuda\"\n",
        "\n",
        "  Returns:\n",
        "    Nothing\n",
        "  \"\"\"\n",
        "  # Transfer the data to the CPU\n",
        "  X = X.cpu().numpy()\n",
        "  y = y.cpu().numpy()\n",
        "\n",
        "  # Check if the frames folder exists and create it if needed\n",
        "  frames_path = Path(\"frames\")\n",
        "  if not frames_path.exists():\n",
        "    frames_path.mkdir()\n",
        "\n",
        "  # Set min and max values and give it some padding\n",
        "  x_min, x_max = X[:, 0].min() - .5, X[:, 0].max() + .5\n",
        "  y_min, y_max = X[:, 1].min() - .5, X[:, 1].max() + .5\n",
        "  h = 0.01\n",
        "\n",
        "  # Generate a grid of points with distance h between them\n",
        "  xx, yy = np.meshgrid(np.arange(x_min, x_max, h), np.arange(y_min, y_max, h))\n",
        "\n",
        "  # Predict the function value for the whole gid\n",
        "  grid_points = np.c_[xx.ravel(), yy.ravel()]\n",
        "  grid_points = torch.from_numpy(grid_points).type(torch.FloatTensor)\n",
        "  Z = model.predict(grid_points.to(device)).cpu().numpy()\n",
        "  Z = Z.reshape(xx.shape)\n",
        "\n",
        "  # Plot the contour and training examples\n",
        "  plt.contourf(xx, yy, Z, cmap=plt.cm.Spectral)\n",
        "  plt.scatter(X[:, 0], X[:, 1], c=y, cmap=plt.cm.binary)"
      ]
    },
    {
      "cell_type": "code",
      "execution_count": null,
      "metadata": {
        "execution": {},
        "id": "W_f4yLPMHrXo"
      },
      "outputs": [],
      "source": [
        "# Implement the train function given a training dataset X and correcsponding labels y\n",
        "def train(model, X, y):\n",
        "  \"\"\"\n",
        "    Training the Neural Network\n",
        "\n",
        "    Args:\n",
        "      X: torch.Tensor\n",
        "        Input data\n",
        "      y: torch.Tensor\n",
        "        Class Labels/Targets\n",
        "\n",
        "    Returns:\n",
        "      losses: Float\n",
        "        Cross Entropy Loss; Cross-entropy builds upon the idea of entropy\n",
        "        from information theory and calculates the number of bits required\n",
        "        to represent or transmit an average event from one distribution\n",
        "        compared to another distribution.\n",
        "    \"\"\"\n",
        "  # The Cross Entropy Loss is suitable for classification problems\n",
        "  loss_function = nn.CrossEntropyLoss()\n",
        "\n",
        "  # Create an optimizer (Stochastic Gradient Descent) that will be used to train the network\n",
        "  learning_rate = 1e-2\n",
        "  optimizer = torch.optim.SGD(model.parameters(), lr=learning_rate)\n",
        "\n",
        "  # Number of epochs\n",
        "  epochs = 15000\n",
        "\n",
        "  # List of losses for visualization\n",
        "  losses = []\n",
        "\n",
        "  for i in range(epochs):\n",
        "    # Pass the data through the network and compute the loss\n",
        "    # We'll use the whole dataset during the training instead of using batches\n",
        "    # in to order to keep the code simple for now.\n",
        "    y_logits = model.forward(X)\n",
        "    loss = loss_function(y_logits, y)\n",
        "\n",
        "    # Clear the previous gradients and compute the new ones\n",
        "    optimizer.zero_grad()\n",
        "    loss.backward()\n",
        "\n",
        "    # Adapt the weights of the network\n",
        "    optimizer.step()\n",
        "\n",
        "    # Store the loss\n",
        "    losses.append(loss.item())\n",
        "\n",
        "    # Print the results at every 1000th epoch\n",
        "    if i % 1000 == 0:\n",
        "      print(f\"Epoch {i} loss is {loss.item()}\")\n",
        "\n",
        "      plot_decision_boundary(model, X, y, DEVICE)\n",
        "      plt.savefig('frames/{:05d}.png'.format(i))\n",
        "\n",
        "  return losses\n",
        "\n",
        "\n",
        "# Create a new network instance a train it\n",
        "model = NaiveNet().to(DEVICE)\n",
        "losses = train(model, X, y)"
      ]
    },
    {
      "cell_type": "markdown",
      "metadata": {
        "execution": {},
        "id": "ypKKx87eHrXo"
      },
      "source": [
        "**Plot the loss during training**\n",
        "\n",
        "Plot the loss during the training to see how it reduces and converges."
      ]
    },
    {
      "cell_type": "code",
      "execution_count": null,
      "metadata": {
        "execution": {},
        "id": "9aB5vFsaHrXp"
      },
      "outputs": [],
      "source": [
        "plt.plot(np.linspace(1, len(losses), len(losses)), losses)\n",
        "plt.xlabel(\"Epoch\")\n",
        "plt.ylabel(\"Loss\")"
      ]
    },
    {
      "cell_type": "code",
      "execution_count": null,
      "metadata": {
        "cellView": "form",
        "execution": {},
        "id": "_gFjt_1yHrXp"
      },
      "outputs": [],
      "source": [
        "# @title Visualize the training process\n",
        "# @markdown Execute this cell!\n",
        "!pip install imageio --quiet\n",
        "!pip install pathlib --quiet\n",
        "\n",
        "import imageio\n",
        "from IPython.core.interactiveshell import InteractiveShell\n",
        "from IPython.display import Image, display\n",
        "from pathlib import Path\n",
        "\n",
        "InteractiveShell.ast_node_interactivity = \"all\"\n",
        "\n",
        "# Make a list with all images\n",
        "images = []\n",
        "for i in range(10):\n",
        "  filename = Path(\"frames/0\"+str(i)+\"000.png\")\n",
        "  images.append(imageio.imread(filename))\n",
        "# Save the gif\n",
        "imageio.mimsave('frames/movie.gif', images)\n",
        "gifPath = Path(\"frames/movie.gif\")\n",
        "with open(gifPath,'rb') as f:\n",
        "  display(Image(data=f.read(), format='png'))"
      ]
    },
    {
      "cell_type": "code",
      "execution_count": null,
      "metadata": {
        "cellView": "form",
        "execution": {},
        "id": "G2BTuPNPHrXp"
      },
      "outputs": [],
      "source": [
        "# @title Video 13: Play with it\n",
        "from ipywidgets import widgets\n",
        "\n",
        "out2 = widgets.Output()\n",
        "with out2:\n",
        "  from IPython.display import IFrame\n",
        "  class BiliVideo(IFrame):\n",
        "    def __init__(self, id, page=1, width=400, height=300, **kwargs):\n",
        "      self.id=id\n",
        "      src = \"https://player.bilibili.com/player.html?bvid={0}&page={1}\".format(id, page)\n",
        "      super(BiliVideo, self).__init__(src, width, height, **kwargs)\n",
        "\n",
        "  video = BiliVideo(id=f\"BV1Cq4y1W7BH\", width=854, height=480, fs=1)\n",
        "  print(\"Video available at https://www.bilibili.com/video/{0}\".format(video.id))\n",
        "  display(video)\n",
        "\n",
        "out1 = widgets.Output()\n",
        "with out1:\n",
        "  from IPython.display import YouTubeVideo\n",
        "  video = YouTubeVideo(id=f\"_GGkapdOdSY\", width=854, height=480, fs=1, rel=0)\n",
        "  print(\"Video available at https://youtube.com/watch?v=\" + video.id)\n",
        "  display(video)\n",
        "\n",
        "out = widgets.Tab([out1, out2])\n",
        "out.set_title(0, 'Youtube')\n",
        "out.set_title(1, 'Bilibili')\n",
        "\n",
        "# add timing to airtable\n",
        "atform.add_event('Video 13: Play with it')\n",
        "\n",
        "display(out)"
      ]
    },
    {
      "cell_type": "markdown",
      "metadata": {
        "execution": {},
        "id": "UsWRairgHrXp"
      },
      "source": [
        "### Exercise 3.3: Tweak your Network\n",
        "\n",
        "You can now play around with the network a little bit to get a feeling of what different parameters are doing. Here are some ideas what you could try:\n",
        "\n",
        "- Increase or decrease the number of epochs for training\n",
        "- Increase or decrease the size of the hidden layer\n",
        "- Add one additional hidden layer\n",
        "\n",
        "Can you get the network to better fit the data?"
      ]
    },
    {
      "cell_type": "code",
      "execution_count": null,
      "metadata": {
        "execution": {},
        "id": "SIwl3Ha7HrXp"
      },
      "outputs": [],
      "source": [
        "# to_remove explanation\n",
        "\n",
        "\"\"\"\n",
        "Typically:\n",
        "1. Training for longer number of epochs tends to increase performance (but early stopping also works in some cases).\n",
        "2. Increased size of hidden layers aka width increases capacity leading to double descent.\n",
        "3. Increasing number of hidden layers aka depth typically makes the network more expressive (but networks that're very deep overfit).\n",
        "\"\"\";"
      ]
    },
    {
      "cell_type": "code",
      "execution_count": null,
      "metadata": {
        "cellView": "form",
        "execution": {},
        "id": "pfy7Oz86HrXp"
      },
      "outputs": [],
      "source": [
        "# @title Video 14: XOR Widget\n",
        "from ipywidgets import widgets\n",
        "\n",
        "out2 = widgets.Output()\n",
        "with out2:\n",
        "  from IPython.display import IFrame\n",
        "  class BiliVideo(IFrame):\n",
        "    def __init__(self, id, page=1, width=400, height=300, **kwargs):\n",
        "      self.id=id\n",
        "      src = \"https://player.bilibili.com/player.html?bvid={0}&page={1}\".format(id, page)\n",
        "      super(BiliVideo, self).__init__(src, width, height, **kwargs)\n",
        "\n",
        "  video = BiliVideo(id=f\"BV1mB4y1N7QS\", width=854, height=480, fs=1)\n",
        "  print(\"Video available at https://www.bilibili.com/video/{0}\".format(video.id))\n",
        "  display(video)\n",
        "\n",
        "out1 = widgets.Output()\n",
        "with out1:\n",
        "  from IPython.display import YouTubeVideo\n",
        "  video = YouTubeVideo(id=f\"oTr1nE2rCWg\", width=854, height=480, fs=1, rel=0)\n",
        "  print(\"Video available at https://youtube.com/watch?v=\" + video.id)\n",
        "  display(video)\n",
        "\n",
        "out = widgets.Tab([out1, out2])\n",
        "out.set_title(0, 'Youtube')\n",
        "out.set_title(1, 'Bilibili')\n",
        "\n",
        "# add timing to airtable\n",
        "atform.add_event('Video 14: XOR Widget')\n",
        "\n",
        "display(out)"
      ]
    },
    {
      "cell_type": "markdown",
      "metadata": {
        "execution": {},
        "id": "4wg5BYOwHrXp"
      },
      "source": [
        "Exclusive OR (XOR) logical operation gives a true (`1`) output when the number of true inputs is odd. That is, a true output result if one, and only one, of the inputs to the gate is true. If both inputs are false (`0`) or both are true or false output results. Mathematically speaking, XOR represents the inequality function, i.e., the output is true if the inputs are not alike; otherwise, the output is false.\n",
        "\n",
        "In case of two inputs ($X$ and $Y$) the following truth table is applied:\n",
        "\n",
        "\\begin{matrix}\n",
        "  X & Y & \\text{XOR}\\\\\n",
        "  \\hline\n",
        "  0 & 0 & 0\\\\\n",
        "  0 & 1 & 1\\\\\n",
        "  1 & 0 & 1\\\\\n",
        "  1 & 1 & 0\n",
        "\\end{matrix}\n",
        "\n",
        "Here, with `0`, we denote `False`, and with `1` we denote `True` in boolean terms."
      ]
    },
    {
      "cell_type": "markdown",
      "metadata": {
        "execution": {},
        "id": "RAz6abx5HrXp"
      },
      "source": [
        "### Interactive Demo 3.3: Solving XOR\n",
        "\n",
        "Here we use an open source and famous visualization widget developed by Tensorflow team available [here](https://github.com/tensorflow/playground).\n",
        "* Play with the widget and observe if you can solve the continuous XOR dataset.\n",
        "* Now add one hidden layer with three units, play with the widget, and set weights by hand to solve this dataset perfectly.\n",
        "\n",
        "For the second part, you should set the weights by clicking on the connections and either type the value or use the up and down keys to change it by one increment. You could also do the same for the biases by clicking on the tiny square to each neuron's bottom left.\n",
        "Even though there are infinitely many solutions, a neat solution when $f(x)$ is ReLU is: \n",
        "\n",
        "\\begin{equation}\n",
        "  y = f(x_1)+f(x_2)-f(x_1+x_2)\n",
        "\\end{equation}\n",
        "\n",
        "Try to set the weights and biases to implement this function after you played enough :)"
      ]
    },
    {
      "cell_type": "code",
      "execution_count": null,
      "metadata": {
        "cellView": "form",
        "execution": {},
        "id": "N5pWvUFhHrXq"
      },
      "outputs": [],
      "source": [
        "# @markdown Play with the parameters to solve XOR\n",
        "from IPython.display import IFrame\n",
        "IFrame(\"https://playground.arashash.com/#activation=relu&batchSize=10&dataset=xor&regDataset=reg-plane&learningRate=0.03&regularizationRate=0&noise=0&networkShape=&seed=0.91390&showTestData=false&discretize=false&percTrainData=90&x=true&y=true&xTimesY=false&xSquared=false&ySquared=false&cosX=false&sinX=false&cosY=false&sinY=false&collectStats=false&problem=classification&initZero=false&hideText=false\", width=1020, height=660)"
      ]
    },
    {
      "cell_type": "code",
      "execution_count": null,
      "metadata": {
        "cellView": "form",
        "execution": {},
        "id": "PqOLetnZHrXq"
      },
      "outputs": [],
      "source": [
        "# @markdown Do you think we can solve the discrete XOR (only 4 possibilities) with only 2 hidden units?\n",
        "w1_min_xor = 'Yes' #@param ['Select', 'Yes', 'No']\n",
        "if w1_min_xor == 'Yes':\n",
        "  print(\"Awesome. Indeed, yes. We take the two points for which the output should be 1 and dedicate one of the hidden units to each of them. Each of theses  ReLU functions are diagonal and tuned so that only for one of those two points the output is 1. In the end, we add these two together. And voila - discrete xor.\")\n",
        "else:\n",
        "  print(\"How about giving it another try?\")"
      ]
    },
    {
      "cell_type": "markdown",
      "metadata": {
        "execution": {},
        "id": "ySVsZYHqHrXq"
      },
      "source": [
        "---\n",
        "# Section 4: Ethics And Course Info"
      ]
    },
    {
      "cell_type": "code",
      "execution_count": 82,
      "metadata": {
        "cellView": "form",
        "execution": {},
        "id": "f36AOpJaHrXq"
      },
      "outputs": [],
      "source": [
        "# @title Video 15: Ethics\n",
        "from ipywidgets import widgets\n",
        "\n",
        "out2 = widgets.Output()\n",
        "with out2:\n",
        "  from IPython.display import IFrame\n",
        "  class BiliVideo(IFrame):\n",
        "    def __init__(self, id, page=1, width=400, height=300, **kwargs):\n",
        "      self.id=id\n",
        "      src = \"https://player.bilibili.com/player.html?bvid={0}&page={1}\".format(id, page)\n",
        "      super(BiliVideo, self).__init__(src, width, height, **kwargs)\n",
        "\n",
        "  video = BiliVideo(id=f\"BV1Hw41197oB\", width=854, height=480, fs=1)\n",
        "  print(\"Video available at https://www.bilibili.com/video/{0}\".format(video.id))\n",
        "  display(video)\n",
        "\n",
        "out1 = widgets.Output()\n",
        "with out1:\n",
        "  from IPython.display import YouTubeVideo\n",
        "  video = YouTubeVideo(id=f\"Kt6JLi3rUFU\", width=854, height=480, fs=1, rel=0)\n",
        "  print(\"Video available at https://youtube.com/watch?v=\" + video.id)\n",
        "  display(video)\n",
        "\n",
        "out = widgets.Tab([out1, out2])\n",
        "out.set_title(0, 'Youtube')\n",
        "out.set_title(1, 'Bilibili')\n",
        "\n",
        "display(out)"
      ]
    },
    {
      "cell_type": "code",
      "execution_count": 83,
      "metadata": {
        "cellView": "form",
        "execution": {},
        "id": "YRxJ4OqnHrXq",
        "outputId": "8ea89ee1-ecd1-4c30-e9b8-2f7631a1cda4",
        "colab": {
          "base_uri": "https://localhost:8080/",
          "height": 519,
          "referenced_widgets": [
            "2092ad6619a848779b324c73812c5e81",
            "aad234264c16441e8da4058f45f93277",
            "a0b3313d64034c1aade3a42dc67563be",
            "5180eb01140a45e88cfdcfc4c486bd58"
          ]
        }
      },
      "outputs": [
        {
          "output_type": "stream",
          "name": "stdout",
          "text": [
            "Video available at https://www.bilibili.com/video/BV1j44y1272h\n"
          ]
        },
        {
          "output_type": "display_data",
          "data": {
            "text/plain": [
              "<__main__.BiliVideo at 0x7f134f1e2c50>"
            ],
            "text/html": [
              "\n",
              "        <iframe\n",
              "            width=\"854\"\n",
              "            height=\"480\"\n",
              "            src=\"https://player.bilibili.com/player.html?bvid=BV1j44y1272h&page=1?fs=1\"\n",
              "            frameborder=\"0\"\n",
              "            allowfullscreen\n",
              "        ></iframe>\n",
              "        "
            ]
          },
          "metadata": {}
        },
        {
          "output_type": "display_data",
          "data": {
            "text/plain": [
              "Tab(children=(Output(), Output()), _titles={'0': 'Youtube', '1': 'Bilibili'})"
            ],
            "application/vnd.jupyter.widget-view+json": {
              "version_major": 2,
              "version_minor": 0,
              "model_id": "2092ad6619a848779b324c73812c5e81"
            }
          },
          "metadata": {}
        }
      ],
      "source": [
        "# @title Video 16: Be a group\n",
        "from ipywidgets import widgets\n",
        "\n",
        "out2 = widgets.Output()\n",
        "with out2:\n",
        "  from IPython.display import IFrame\n",
        "  class BiliVideo(IFrame):\n",
        "    def __init__(self, id, page=1, width=400, height=300, **kwargs):\n",
        "      self.id=id\n",
        "      src = \"https://player.bilibili.com/player.html?bvid={0}&page={1}\".format(id, page)\n",
        "      super(BiliVideo, self).__init__(src, width, height, **kwargs)\n",
        "\n",
        "  video = BiliVideo(id=f\"BV1j44y1272h\", width=854, height=480, fs=1)\n",
        "  print(\"Video available at https://www.bilibili.com/video/{0}\".format(video.id))\n",
        "  display(video)\n",
        "\n",
        "out1 = widgets.Output()\n",
        "with out1:\n",
        "  from IPython.display import YouTubeVideo\n",
        "  video = YouTubeVideo(id=f\"Sfp6--d_H1A\", width=854, height=480, fs=1, rel=0)\n",
        "  print(\"Video available at https://youtube.com/watch?v=\" + video.id)\n",
        "  display(video)\n",
        "\n",
        "out = widgets.Tab([out1, out2])\n",
        "out.set_title(0, 'Youtube')\n",
        "out.set_title(1, 'Bilibili')\n",
        "\n",
        "display(out)"
      ]
    },
    {
      "cell_type": "code",
      "execution_count": 84,
      "metadata": {
        "cellView": "form",
        "execution": {},
        "id": "jeI8y-hCHrXq",
        "outputId": "54aba905-f89d-45f4-fc9f-c4240aa1481f",
        "colab": {
          "base_uri": "https://localhost:8080/",
          "height": 519,
          "referenced_widgets": [
            "2e413a59d47941c184093982f19510e8",
            "aa08fc72ccb44f8fb6dae1511c16c645",
            "c738e2b515914fe2ae6eb4642a2eb87c",
            "65532d96c1cb44ff817d0667827d201a"
          ]
        }
      },
      "outputs": [
        {
          "output_type": "stream",
          "name": "stdout",
          "text": [
            "Video available at https://www.bilibili.com/video/BV1iB4y1N7uQ\n"
          ]
        },
        {
          "output_type": "display_data",
          "data": {
            "text/plain": [
              "<__main__.BiliVideo at 0x7f11958a39d0>"
            ],
            "text/html": [
              "\n",
              "        <iframe\n",
              "            width=\"854\"\n",
              "            height=\"480\"\n",
              "            src=\"https://player.bilibili.com/player.html?bvid=BV1iB4y1N7uQ&page=1?fs=1\"\n",
              "            frameborder=\"0\"\n",
              "            allowfullscreen\n",
              "        ></iframe>\n",
              "        "
            ]
          },
          "metadata": {}
        },
        {
          "output_type": "display_data",
          "data": {
            "text/plain": [
              "Tab(children=(Output(), Output()), _titles={'0': 'Youtube', '1': 'Bilibili'})"
            ],
            "application/vnd.jupyter.widget-view+json": {
              "version_major": 2,
              "version_minor": 0,
              "model_id": "2e413a59d47941c184093982f19510e8"
            }
          },
          "metadata": {}
        }
      ],
      "source": [
        "# @title Video 17: Syllabus\n",
        "from ipywidgets import widgets\n",
        "\n",
        "out2 = widgets.Output()\n",
        "with out2:\n",
        "  from IPython.display import IFrame\n",
        "  class BiliVideo(IFrame):\n",
        "    def __init__(self, id, page=1, width=400, height=300, **kwargs):\n",
        "      self.id=id\n",
        "      src = \"https://player.bilibili.com/player.html?bvid={0}&page={1}\".format(id, page)\n",
        "      super(BiliVideo, self).__init__(src, width, height, **kwargs)\n",
        "\n",
        "  video = BiliVideo(id=f\"BV1iB4y1N7uQ\", width=854, height=480, fs=1)\n",
        "  print(\"Video available at https://www.bilibili.com/video/{0}\".format(video.id))\n",
        "  display(video)\n",
        "\n",
        "out1 = widgets.Output()\n",
        "with out1:\n",
        "  from IPython.display import YouTubeVideo\n",
        "  video = YouTubeVideo(id=f\"cDvAqG_hAvQ\", width=854, height=480, fs=1, rel=0)\n",
        "  print(\"Video available at https://youtube.com/watch?v=\" + video.id)\n",
        "  display(video)\n",
        "\n",
        "out = widgets.Tab([out1, out2])\n",
        "out.set_title(0, 'Youtube')\n",
        "out.set_title(1, 'Bilibili')\n",
        "\n",
        "display(out)"
      ]
    },
    {
      "cell_type": "markdown",
      "metadata": {
        "execution": {},
        "id": "rWl04_4yHrXq"
      },
      "source": [
        "## Meet our lecturers\n",
        "\n",
        "### Week 1: the building blocks\n",
        "* [Konrad Kording](https://kordinglab.com)\n",
        "* [Andrew Saxe](https://www.saxelab.org/)\n",
        "* [Surya Ganguli](https://ganguli-gang.stanford.edu/)\n",
        "* [Ioannis Mitliagkas](http://mitliagkas.github.io/)\n",
        "* [Lyle Ungar](https://www.cis.upenn.edu/~ungar/)\n",
        "\n",
        "### Week 2: making things work\n",
        "* [Alona Fyshe](https://webdocs.cs.ualberta.ca/~alona/)\n",
        "* [Alexander Ecker](https://eckerlab.org/)\n",
        "* [James Evans](https://sociology.uchicago.edu/directory/james-evans)\n",
        "* [He He](https://hhexiy.github.io/)\n",
        "* [Vikash Gilja](https://tnel.ucsd.edu/bio) and [Akash Srivastava](https://akashgit.github.io/)\n",
        "\n",
        "### Week 3: more magic\n",
        "* [Tim Lillicrap](https://contrastiveconvergence.net/~timothylillicrap/index.php) and [Blake Richards](https://www.mcgill.ca/neuro/blake-richards-phd)\n",
        "* [Jane Wang](http://www.janexwang.com/) and [Feryal Behbahani](https://feryal.github.io/)\n",
        "* [Tim Lillicrap](https://contrastiveconvergence.net/~timothylillicrap/index.php) and [Blake Richards](https://www.mcgill.ca/neuro/blake-richards-phd)\n",
        "* [Josh Vogelstein](https://jovo.me/) and [Vincenzo Lamonaco](https://www.vincenzolomonaco.com/)"
      ]
    },
    {
      "cell_type": "markdown",
      "metadata": {
        "execution": {},
        "id": "lah_aZEYHrXq"
      },
      "source": [
        "Now, go to the [visualization of ICLR papers](https://iclr.cc/virtual/2021/paper_vis.html). Read a few abstracts. Look at the various clusters. Where do you see yourself in this map?"
      ]
    },
    {
      "cell_type": "markdown",
      "metadata": {
        "execution": {},
        "id": "oyGqg4AvHrXr"
      },
      "source": [
        "---\n",
        "# Submit to Airtable"
      ]
    },
    {
      "cell_type": "code",
      "execution_count": 85,
      "metadata": {
        "cellView": "form",
        "execution": {},
        "id": "osjMyPxeHrXr",
        "outputId": "7d016100-8806-4c2e-92c8-5da280ec7a4a",
        "colab": {
          "base_uri": "https://localhost:8080/",
          "height": 519,
          "referenced_widgets": [
            "e42accc4fca1475f93c0dd0d736a559c",
            "fb938fe3b9424cacaceb79683810b40e",
            "5d9da93fc32347f1b78d35ddd2877c7a",
            "9dd083c3e16c4286a7e359ddadcfe97c"
          ]
        }
      },
      "outputs": [
        {
          "output_type": "stream",
          "name": "stdout",
          "text": [
            "Video available at https://www.bilibili.com/video/BV1e44y127ti\n"
          ]
        },
        {
          "output_type": "display_data",
          "data": {
            "text/plain": [
              "<__main__.BiliVideo at 0x7f1195872c50>"
            ],
            "text/html": [
              "\n",
              "        <iframe\n",
              "            width=\"854\"\n",
              "            height=\"480\"\n",
              "            src=\"https://player.bilibili.com/player.html?bvid=BV1e44y127ti&page=1?fs=1\"\n",
              "            frameborder=\"0\"\n",
              "            allowfullscreen\n",
              "        ></iframe>\n",
              "        "
            ]
          },
          "metadata": {}
        },
        {
          "output_type": "display_data",
          "data": {
            "text/plain": [
              "Tab(children=(Output(), Output()), _titles={'0': 'Youtube', '1': 'Bilibili'})"
            ],
            "application/vnd.jupyter.widget-view+json": {
              "version_major": 2,
              "version_minor": 0,
              "model_id": "e42accc4fca1475f93c0dd0d736a559c"
            }
          },
          "metadata": {}
        }
      ],
      "source": [
        "# @title Video 18: Submission info\n",
        "from ipywidgets import widgets\n",
        "\n",
        "out2 = widgets.Output()\n",
        "with out2:\n",
        "  from IPython.display import IFrame\n",
        "  class BiliVideo(IFrame):\n",
        "    def __init__(self, id, page=1, width=400, height=300, **kwargs):\n",
        "      self.id=id\n",
        "      src = \"https://player.bilibili.com/player.html?bvid={0}&page={1}\".format(id, page)\n",
        "      super(BiliVideo, self).__init__(src, width, height, **kwargs)\n",
        "\n",
        "  video = BiliVideo(id=f\"BV1e44y127ti\", width=854, height=480, fs=1)\n",
        "  print(\"Video available at https://www.bilibili.com/video/{0}\".format(video.id))\n",
        "  display(video)\n",
        "\n",
        "out1 = widgets.Output()\n",
        "with out1:\n",
        "  from IPython.display import YouTubeVideo\n",
        "  video = YouTubeVideo(id=f\"JwTn7ej2dq8\", width=854, height=480, fs=1, rel=0)\n",
        "  print(\"Video available at https://youtube.com/watch?v=\" + video.id)\n",
        "  display(video)\n",
        "\n",
        "out = widgets.Tab([out1, out2])\n",
        "out.set_title(0, 'Youtube')\n",
        "out.set_title(1, 'Bilibili')\n",
        "\n",
        "display(out)"
      ]
    },
    {
      "cell_type": "markdown",
      "metadata": {
        "execution": {},
        "id": "vrzZ2zPHHrXr"
      },
      "source": [
        "This is Darryl, the Deep Learning Dapper Lion, and he's here to teach you about content submission to airtable.\n",
        "<br>\n",
        "<img src=\"https://raw.githubusercontent.com/NeuromatchAcademy/course-content-dl/main/tutorials/static/DapperLion.png\" alt=\"Darryl\"> \n",
        "<br><br>\n",
        "At the end of each tutorial there will be an <b>Airtable Submission Cell</b>. Run the cell to generate the airtable submission button and click on it to submit your information to airtable.\n",
        "<br><br>\n",
        "if it is the last tutorial of the day your button will look like this and take you to the end of day survey: \n",
        "<br>\n",
        "<img src=\"https://raw.githubusercontent.com/NeuromatchAcademy/course-content-dl/main/tutorials/static/SurveyButton.png?raw=1\" alt=\"Survey Button\">\n",
        "\n",
        "Otherwise it look like this: \n",
        "<br>\n",
        "\n",
        "<img src=\"https://raw.githubusercontent.com/NeuromatchAcademy/course-content-dl/main/tutorials/static/AirtableSubmissionButton.png?raw=1\" alt=\"Submission Button\"> \n",
        "<br><br>\n",
        "\n",
        "It is critical that you push the submit button for every tutorial you run. **Even if you don't finish the tutorial, still submit!**\n",
        "Submitting is the only way we can verify that you attempted each tutorial, which is critical for us to be able to track your progress."
      ]
    },
    {
      "cell_type": "markdown",
      "metadata": {
        "execution": {},
        "id": "-S1UcsQDHrXr"
      },
      "source": [
        "### TL;DR: Basic tutorial workflow\n",
        "\n",
        "1. Work through the tutorial, answering **Think!** questions and **Coding Exercises**.\n",
        "\n",
        "2. At the end of each tutorial, (even if the tutorial is incomplete) run the airtable submission code cell.\n",
        "\n",
        "3. Push the *Submission* button.\n",
        "\n",
        "4. If the last tutorial of the day, *Submission* button will also take you to the end of the day survey on a new page. Complete that and submit."
      ]
    },
    {
      "cell_type": "markdown",
      "metadata": {
        "execution": {},
        "id": "KMqgAU7MHrXr"
      },
      "source": [
        "### Submission FAQs: \n",
        "\n",
        "1. What if I want to change my answers to previous discussion questions? \n",
        "> You are free to change and resubmit any of the answers and Think! questions as many times as you like. However, **please only run the airtable submission code and click on the link once you are ready to submit**.\n",
        "\n",
        "2. Okay, but what if I submitted my airtable anyway and really want to resubmit?\n",
        "> After making changes, you can re-run the airtable submission cell code cell. This will result in a second submission from you for our database. But, this will make Darryl sad as it will be more work for him to clean up the data later. \n",
        "\n",
        "3. HELP! I accidentally ran the code to generate the airtable submission button before I was ready to submit! what do I do?\n",
        "> If you run the code to generate the link, anything that happens afterwards will not be captured. Complete the tutorial and make sure to re-run the airtable submission again when you are finished before pressing the submission button. \n",
        "\n",
        "4. What if I want to work on this on my own later, should I wait to submit until I'm finished?\n",
        ">  Please submit wherever you are at the end of the day. It's great that you want to keep working on this, but it's important to see the places where we tried things that didn't quite work out, so we can fix them for next year.  \n",
        "\n",
        "Finally, we try to keep the airtable code as hidden as possible, but if you ever see any calls to `atform`  such as `atform.add_event()` in the coding exercises, just know that is for saving airtable information only. **It will not affect the code that is being run around it in any way**, so please do not modify, comment out, or worry about any of those lines of code.\n",
        "<br><br><br>\n",
        "\n",
        "Now, lets try submitting today's course to Airtable by running the next cell and clicking the button when it appears. "
      ]
    },
    {
      "cell_type": "code",
      "execution_count": 86,
      "metadata": {
        "cellView": "form",
        "execution": {},
        "id": "fAXAdz7mHrXr",
        "outputId": "360ab304-ef02-448a-85d4-e2a46dbad495",
        "colab": {
          "base_uri": "https://localhost:8080/",
          "height": 158
        }
      },
      "outputs": [
        {
          "output_type": "execute_result",
          "data": {
            "text/plain": [
              "<IPython.core.display.HTML object>"
            ],
            "text/html": [
              "\n",
              "  <div>\n",
              "    <a href= \"https://portal.neuromatchacademy.org/api/redirect/to/f2da6480-069c-49b9-a37b-8750f9d6f359?data=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%3D%3D\" target=\"_blank\">\n",
              "    <img src=\"https://github.com/NeuromatchAcademy/course-content-dl/blob/main/tutorials/static/SurveyButton.png?raw=1\"\n",
              "  alt=\"button link to survey\" style=\"width:410px\"></a>\n",
              "    </div>"
            ]
          },
          "metadata": {},
          "execution_count": 86
        }
      ],
      "source": [
        "# @title Airtable Submission Link\n",
        "from IPython import display as IPyDisplay\n",
        "IPyDisplay.HTML(\n",
        "    f\"\"\"\n",
        "  <div>\n",
        "    <a href= \"{atform.url()}\" target=\"_blank\">\n",
        "    <img src=\"https://github.com/NeuromatchAcademy/course-content-dl/blob/main/tutorials/static/SurveyButton.png?raw=1\"\n",
        "  alt=\"button link to survey\" style=\"width:410px\"></a>\n",
        "    </div>\"\"\" )"
      ]
    },
    {
      "cell_type": "markdown",
      "metadata": {
        "execution": {},
        "id": "OWdV3rnAHrXr"
      },
      "source": [
        "---\n",
        "# Bonus - 60 years of Machine Learning Research in one Plot\n",
        "\n",
        "By [Hendrik Strobelt](http://hendrik.strobelt.com) (MIT-IBM Watson AI Lab) with support from Benjamin Hoover.\n",
        "\n",
        "In this notebook we visualize a subset* of 3,300 articles retreived from the AllenAI [S2ORC dataset](https://github.com/allenai/s2orc). We represent each paper by a position that is output of a dimensionality reduction method applied to a vector representation of each paper. The vector representation is the output of a neural network.\n",
        "\n",
        "**Note:** The selection is very biased on the keywords and methodology we used to filter. Please see the details section to learn about what we did. "
      ]
    },
    {
      "cell_type": "code",
      "execution_count": null,
      "metadata": {
        "cellView": "form",
        "execution": {},
        "id": "LMK_j1bOHrXr"
      },
      "outputs": [],
      "source": [
        "# @title Install and Import `altair` and `vega_datasets`.\n",
        "!pip install altair vega_datasets --quiet\n",
        "\n",
        "import altair as alt  # altair is defining data visualizations\n",
        "\n",
        "# Source data files\n",
        "# Position data file maps ID to x,y positions\n",
        "# original link: http://gltr.io/temp/ml_regexv1_cs_ma_citation+_99perc.pos_umap_cosine_100_d0.1.json\n",
        "POS_FILE = 'https://osf.io/qyrfn/download'\n",
        "# original link: http://gltr.io/temp/ml_regexv1_cs_ma_citation+_99perc_clean.csv\n",
        "# Metadata file maps ID to title, abstract, author,....\n",
        "META_FILE = 'https://osf.io/vfdu6/download'\n",
        "\n",
        "# data loading and wrangling\n",
        "def load_data():\n",
        "  \"\"\"\n",
        "  Loading the data\n",
        "\n",
        "  Args:\n",
        "    None\n",
        "\n",
        "  Returns:\n",
        "    Merged read dataFrame combining id and paper_id;\n",
        "  \"\"\"\n",
        "  positions = pd.read_json(POS_FILE)\n",
        "  positions[['x', 'y']] = positions['pos'].to_list()\n",
        "  meta = pd.read_csv(META_FILE)\n",
        "  return positions.merge(meta, left_on='id', right_on='paper_id')\n",
        "\n",
        "\n",
        "# load data\n",
        "data = load_data()"
      ]
    },
    {
      "cell_type": "code",
      "execution_count": null,
      "metadata": {
        "cellView": "form",
        "execution": {},
        "id": "SRBYEtVZHrXs"
      },
      "outputs": [],
      "source": [
        "# @title Define Visualization using ALtair\n",
        "YEAR_PERIOD = \"quinquennial\"  # @param\n",
        "selection = alt.selection_multi(fields=[YEAR_PERIOD], bind='legend')\n",
        "data[YEAR_PERIOD] = (data[\"year\"] / 5.0).apply(np.floor) * 5\n",
        "chart = alt.Chart(data[[\"x\", \"y\", \"authors\", \"title\", YEAR_PERIOD, \"citation_count\"]], width=800,\n",
        "                  height=800).mark_circle(radius=2, opacity=0.2).encode(\n",
        "    alt.Color(YEAR_PERIOD+':O',\n",
        "              scale=alt.Scale(scheme='viridis', reverse=False, clamp=True, domain=list(range(1955,2020,5))),\n",
        "              # legend=alt.Legend(title='Total Records')\n",
        "              ),\n",
        "    alt.Size('citation_count',\n",
        "              scale=alt.Scale(type=\"pow\", exponent=1, range=[15, 300])\n",
        "              ),\n",
        "       alt.X('x:Q',\n",
        "        scale=alt.Scale(zero=False), axis=alt.Axis(labels=False)\n",
        "    ),\n",
        "       alt.Y('y:Q',\n",
        "        scale=alt.Scale(zero=False), axis=alt.Axis(labels=False)\n",
        "    ),\n",
        "    tooltip=['title', 'authors'],\n",
        "    # size='citation_count',\n",
        "    # color=\"decade:O\",\n",
        "    opacity=alt.condition(selection, alt.value(.8), alt.value(0.2)),\n",
        "\n",
        ").add_selection(\n",
        "    selection\n",
        ").interactive()"
      ]
    },
    {
      "cell_type": "markdown",
      "metadata": {
        "execution": {},
        "id": "ZDN0RW6pHrXs"
      },
      "source": [
        "Lets look at the Visualization. Each dot represents one paper. Close dots mean that the respective papers are closer related than distant ones. The color indicates the 5-year period of when the paper was published. The dot size indicates the citation count (within S2ORC corpus) as of July 2020. \n",
        "\n",
        "The view is **interactive** and allows for three main interactions. Try them and play around:\n",
        "1. Hover over a dot to see a tooltip (title, author)\n",
        "2. Select a year in the legend (right) to filter dots\n",
        "3. Zoom in/out with scroll -- double click resets view"
      ]
    },
    {
      "cell_type": "code",
      "execution_count": null,
      "metadata": {
        "execution": {},
        "id": "gbX5wEUeHrXs"
      },
      "outputs": [],
      "source": [
        "chart"
      ]
    },
    {
      "cell_type": "markdown",
      "metadata": {
        "execution": {},
        "id": "HYYXIO-PHrXs"
      },
      "source": [
        "## Questions\n",
        "\n",
        "By playing around, can you find some answers to the following questions?\n",
        "\n",
        "1. Can you find topical clusters? What cluster might occur because of a filtering error?\n",
        "2. Can you see a temporal trend in the data and clusters?\n",
        "3. Can you determine when deep learning methods started booming ?\n",
        "4. Can you find the key papers that where written before the DL \"winter\" that define milestones for a cluster? (tip: look for large dots of different color)"
      ]
    },
    {
      "cell_type": "code",
      "execution_count": null,
      "metadata": {
        "execution": {},
        "id": "mUIGbNT9HrXs"
      },
      "outputs": [],
      "source": [
        "# to_remove explanation\n",
        "\n",
        "\"\"\"\n",
        "1. As specified below, the data is already filtered for topics such as Computer Science/Mathematics.\n",
        "Filtering errors could occur if keywords in a paper are incorrectly tagged or if cases don't match etc.\n",
        "\n",
        "2. To look for temporal trends in the data/clusters, observe the color transitions in the above\n",
        "visualization. We see that a lot more papers were published in diversified topics,\n",
        "as we transitioned out of AI Winters.\n",
        "\n",
        "3. Based on the color of the clusters, we can infer that deep learning methods\n",
        "boomed between the 2010 and 2015 period.\n",
        "\n",
        "4. After filtering around the mid 1900's, hovering on the larger dots show\n",
        "the key papers before the DL winters.\n",
        "For instance, \"Neural networks and physical systems with emergent\n",
        "collective computational abilities\" by John J Hopfield (1980's)\n",
        "\"\"\";"
      ]
    },
    {
      "cell_type": "markdown",
      "metadata": {
        "execution": {},
        "id": "cwDjo--7HrXs"
      },
      "source": [
        "## Methods\n",
        "\n",
        "Here is what we did:\n",
        "1. Filtering of all papers who fullfilled the criterria:\n",
        "  - are categorized as `Computer Science` or `Mathematics` \n",
        "  - one of the following keywords appearing in title or abstract: `\"machine learning|artificial intelligence|neural network|(machine|computer) vision|perceptron|network architecture| RNN | CNN | LSTM | BLEU | MNIST | CIFAR |reinforcement learning|gradient descent| Imagenet \"`\n",
        "2. Per year, remove all papers that are below the 99 percentile of citation count in that year\n",
        "3. Embed each paper by using abstract + title in SPECTER model\n",
        "4. Project based on embedding using UMAP\n",
        "5. Visualize using Altair"
      ]
    },
    {
      "cell_type": "markdown",
      "metadata": {
        "execution": {},
        "id": "K5W7So3kHrXs"
      },
      "source": [
        "### Find Authors"
      ]
    },
    {
      "cell_type": "code",
      "execution_count": null,
      "metadata": {
        "cellView": "form",
        "execution": {},
        "id": "ZiiPVHbpHrXs"
      },
      "outputs": [],
      "source": [
        "# @title Edit the `AUTHOR_FILTER` variable to full text search for authors.\n",
        "\n",
        "AUTHOR_FILTER = \"Rush \"  # @param space at the end means \"word border\"\n",
        "\n",
        "### Don't ignore case when searching...\n",
        "FLAGS = 0\n",
        "### uncomment do ignore case\n",
        "# FLAGS = re.IGNORECASE\n",
        "\n",
        "## --- FILTER CODE.. make it your own ---\n",
        "data['issel'] = data['authors'].str.contains(AUTHOR_FILTER, na=False, flags=FLAGS, )\n",
        "if data['issel'].mean()<0.0000000001:\n",
        "  print('No match found')\n",
        "\n",
        "## --- FROM HERE ON VIS CODE ---\n",
        "alt.Chart(data[[\"x\", \"y\", \"authors\", \"title\", YEAR_PERIOD, \"citation_count\", \"issel\"]], width=800,\n",
        "                  height=800) \\\n",
        "    .mark_circle(stroke=\"black\", strokeOpacity=1).encode(\n",
        "    alt.Color(YEAR_PERIOD+':O',\n",
        "              scale=alt.Scale(scheme='viridis', reverse=False),\n",
        "              # legend=alt.Legend(title='Total Records')\n",
        "              ),\n",
        "    alt.Size('citation_count',\n",
        "              scale=alt.Scale(type=\"pow\", exponent=1, range=[15, 300])\n",
        "              ),\n",
        "    alt.StrokeWidth('issel:Q', scale=alt.Scale(type=\"linear\", domain=[0,1], range=[0, 2]), legend=None),\n",
        "\n",
        "    alt.Opacity('issel:Q', scale=alt.Scale(type=\"linear\", domain=[0,1], range=[.2, 1]), legend=None),\n",
        "    alt.X('x:Q',\n",
        "        scale=alt.Scale(zero=False), axis=alt.Axis(labels=False)\n",
        "    ),\n",
        "    alt.Y('y:Q',\n",
        "        scale=alt.Scale(zero=False), axis=alt.Axis(labels=False)\n",
        "    ),\n",
        "    tooltip=['title', 'authors'],\n",
        ").interactive()"
      ]
    },
    {
      "cell_type": "markdown",
      "metadata": {
        "execution": {},
        "id": "lq9t_MTEHrXs"
      },
      "source": [
        "---\n",
        "# Appendix\n",
        "\n",
        "## Official PyTorch resources:\n",
        "\n",
        "### Tutorials\n",
        "- [https://pytorch.org/tutorials/](https://pytorch.org/tutorials/)\n",
        "\n",
        "### Documentation\n",
        "- [https://pytorch.org/docs/stable/tensors.html](https://pytorch.org/docs/stable/tensors.html) (tensor methods)\n",
        "\n",
        "- [https://pytorch.org/docs/stable/generated/torch.Tensor.view.html#torch.Tensor.view](https://pytorch.org/docs/stable/generated/torch.Tensor.view.html#torch.Tensor.view) (The view method in particular)\n",
        "\n",
        "- [https://pytorch.org/vision/stable/datasets.html](https://pytorch.org/vision/stable/datasets.html) (pre-loaded image datasets)\n",
        "\n",
        "## Google Colab Resources:\n",
        "- [https://research.google.com/colaboratory/faq.html](https://research.google.com/colaboratory/faq.html) (FAQ including guidance on GPU usage)\n",
        "\n",
        "## Books for reference:\n",
        "- [https://www.deeplearningbook.org/](https://www.deeplearningbook.org/) (Deep Learning by Ian Goodfellow, Yoshua Bengio and Aaron Courville)"
      ]
    }
  ],
  "metadata": {
    "accelerator": "GPU",
    "colab": {
      "collapsed_sections": [],
      "name": "W1D1_Tutorial1",
      "provenance": [],
      "toc_visible": true,
      "include_colab_link": true
    },
    "kernel": {
      "display_name": "Python 3",
      "language": "python",
      "name": "python3"
    },
    "kernelspec": {
      "display_name": "Python 3",
      "name": "python3"
    },
    "language_info": {
      "codemirror_mode": {
        "name": "ipython",
        "version": 3
      },
      "file_extension": ".py",
      "mimetype": "text/x-python",
      "name": "python",
      "nbconvert_exporter": "python",
      "pygments_lexer": "ipython3",
      "version": "3.7.11"
    },
    "widgets": {
      "application/vnd.jupyter.widget-state+json": {
        "2092ad6619a848779b324c73812c5e81": {
          "model_module": "@jupyter-widgets/controls",
          "model_name": "TabModel",
          "model_module_version": "1.5.0",
          "state": {
            "_dom_classes": [],
            "_model_module": "@jupyter-widgets/controls",
            "_model_module_version": "1.5.0",
            "_model_name": "TabModel",
            "_titles": {
              "0": "Youtube",
              "1": "Bilibili"
            },
            "_view_count": null,
            "_view_module": "@jupyter-widgets/controls",
            "_view_module_version": "1.5.0",
            "_view_name": "TabView",
            "box_style": "",
            "children": [
              "IPY_MODEL_aad234264c16441e8da4058f45f93277",
              "IPY_MODEL_a0b3313d64034c1aade3a42dc67563be"
            ],
            "layout": "IPY_MODEL_5180eb01140a45e88cfdcfc4c486bd58",
            "selected_index": 0
          }
        },
        "aad234264c16441e8da4058f45f93277": {
          "model_module": "@jupyter-widgets/output",
          "model_name": "OutputModel",
          "model_module_version": "1.0.0",
          "state": {
            "_dom_classes": [],
            "_model_module": "@jupyter-widgets/output",
            "_model_module_version": "1.0.0",
            "_model_name": "OutputModel",
            "_view_count": null,
            "_view_module": "@jupyter-widgets/output",
            "_view_module_version": "1.0.0",
            "_view_name": "OutputView",
            "layout": "IPY_MODEL_582422c6a1a04e218f562cb7e6b64179",
            "msg_id": "",
            "outputs": [
              {
                "output_type": "stream",
                "name": "stdout",
                "text": [
                  "Video available at https://youtube.com/watch?v=Sfp6--d_H1A\n"
                ]
              },
              {
                "output_type": "display_data",
                "data": {
                  "text/plain": "<IPython.lib.display.YouTubeVideo at 0x7f12895c9c90>",
                  "text/html": "\n        <iframe\n            width=\"854\"\n            height=\"480\"\n            src=\"https://www.youtube.com/embed/Sfp6--d_H1A?fs=1&rel=0\"\n            frameborder=\"0\"\n            allowfullscreen\n        ></iframe>\n        ",
                  "image/jpeg": "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\n"
                },
                "metadata": {}
              }
            ]
          }
        },
        "5180eb01140a45e88cfdcfc4c486bd58": {
          "model_module": "@jupyter-widgets/base",
          "model_name": "LayoutModel",
          "model_module_version": "1.2.0",
          "state": {
            "_model_module": "@jupyter-widgets/base",
            "_model_module_version": "1.2.0",
            "_model_name": "LayoutModel",
            "_view_count": null,
            "_view_module": "@jupyter-widgets/base",
            "_view_module_version": "1.2.0",
            "_view_name": "LayoutView",
            "align_content": null,
            "align_items": null,
            "align_self": null,
            "border": null,
            "bottom": null,
            "display": null,
            "flex": null,
            "flex_flow": null,
            "grid_area": null,
            "grid_auto_columns": null,
            "grid_auto_flow": null,
            "grid_auto_rows": null,
            "grid_column": null,
            "grid_gap": null,
            "grid_row": null,
            "grid_template_areas": null,
            "grid_template_columns": null,
            "grid_template_rows": null,
            "height": null,
            "justify_content": null,
            "justify_items": null,
            "left": null,
            "margin": null,
            "max_height": null,
            "max_width": null,
            "min_height": null,
            "min_width": null,
            "object_fit": null,
            "object_position": null,
            "order": null,
            "overflow": null,
            "overflow_x": null,
            "overflow_y": null,
            "padding": null,
            "right": null,
            "top": null,
            "visibility": null,
            "width": null
          }
        },
        "2e413a59d47941c184093982f19510e8": {
          "model_module": "@jupyter-widgets/controls",
          "model_name": "TabModel",
          "model_module_version": "1.5.0",
          "state": {
            "_dom_classes": [],
            "_model_module": "@jupyter-widgets/controls",
            "_model_module_version": "1.5.0",
            "_model_name": "TabModel",
            "_titles": {
              "0": "Youtube",
              "1": "Bilibili"
            },
            "_view_count": null,
            "_view_module": "@jupyter-widgets/controls",
            "_view_module_version": "1.5.0",
            "_view_name": "TabView",
            "box_style": "",
            "children": [
              "IPY_MODEL_aa08fc72ccb44f8fb6dae1511c16c645",
              "IPY_MODEL_c738e2b515914fe2ae6eb4642a2eb87c"
            ],
            "layout": "IPY_MODEL_65532d96c1cb44ff817d0667827d201a",
            "selected_index": 0
          }
        },
        "aa08fc72ccb44f8fb6dae1511c16c645": {
          "model_module": "@jupyter-widgets/output",
          "model_name": "OutputModel",
          "model_module_version": "1.0.0",
          "state": {
            "_dom_classes": [],
            "_model_module": "@jupyter-widgets/output",
            "_model_module_version": "1.0.0",
            "_model_name": "OutputModel",
            "_view_count": null,
            "_view_module": "@jupyter-widgets/output",
            "_view_module_version": "1.0.0",
            "_view_name": "OutputView",
            "layout": "IPY_MODEL_44d7da5887dd49e0b0b4bbc7afa86d6e",
            "msg_id": "",
            "outputs": [
              {
                "output_type": "stream",
                "name": "stdout",
                "text": [
                  "Video available at https://youtube.com/watch?v=cDvAqG_hAvQ\n"
                ]
              },
              {
                "output_type": "display_data",
                "data": {
                  "text/plain": "<IPython.lib.display.YouTubeVideo at 0x7f11958a3550>",
                  "text/html": "\n        <iframe\n            width=\"854\"\n            height=\"480\"\n            src=\"https://www.youtube.com/embed/cDvAqG_hAvQ?fs=1&rel=0\"\n            frameborder=\"0\"\n            allowfullscreen\n        ></iframe>\n        ",
                  "image/jpeg": "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\n"
                },
                "metadata": {}
              }
            ]
          }
        },
        "65532d96c1cb44ff817d0667827d201a": {
          "model_module": "@jupyter-widgets/base",
          "model_name": "LayoutModel",
          "model_module_version": "1.2.0",
          "state": {
            "_model_module": "@jupyter-widgets/base",
            "_model_module_version": "1.2.0",
            "_model_name": "LayoutModel",
            "_view_count": null,
            "_view_module": "@jupyter-widgets/base",
            "_view_module_version": "1.2.0",
            "_view_name": "LayoutView",
            "align_content": null,
            "align_items": null,
            "align_self": null,
            "border": null,
            "bottom": null,
            "display": null,
            "flex": null,
            "flex_flow": null,
            "grid_area": null,
            "grid_auto_columns": null,
            "grid_auto_flow": null,
            "grid_auto_rows": null,
            "grid_column": null,
            "grid_gap": null,
            "grid_row": null,
            "grid_template_areas": null,
            "grid_template_columns": null,
            "grid_template_rows": null,
            "height": null,
            "justify_content": null,
            "justify_items": null,
            "left": null,
            "margin": null,
            "max_height": null,
            "max_width": null,
            "min_height": null,
            "min_width": null,
            "object_fit": null,
            "object_position": null,
            "order": null,
            "overflow": null,
            "overflow_x": null,
            "overflow_y": null,
            "padding": null,
            "right": null,
            "top": null,
            "visibility": null,
            "width": null
          }
        },
        "e42accc4fca1475f93c0dd0d736a559c": {
          "model_module": "@jupyter-widgets/controls",
          "model_name": "TabModel",
          "model_module_version": "1.5.0",
          "state": {
            "_dom_classes": [],
            "_model_module": "@jupyter-widgets/controls",
            "_model_module_version": "1.5.0",
            "_model_name": "TabModel",
            "_titles": {
              "0": "Youtube",
              "1": "Bilibili"
            },
            "_view_count": null,
            "_view_module": "@jupyter-widgets/controls",
            "_view_module_version": "1.5.0",
            "_view_name": "TabView",
            "box_style": "",
            "children": [
              "IPY_MODEL_fb938fe3b9424cacaceb79683810b40e",
              "IPY_MODEL_5d9da93fc32347f1b78d35ddd2877c7a"
            ],
            "layout": "IPY_MODEL_9dd083c3e16c4286a7e359ddadcfe97c",
            "selected_index": 0
          }
        },
        "fb938fe3b9424cacaceb79683810b40e": {
          "model_module": "@jupyter-widgets/output",
          "model_name": "OutputModel",
          "model_module_version": "1.0.0",
          "state": {
            "_dom_classes": [],
            "_model_module": "@jupyter-widgets/output",
            "_model_module_version": "1.0.0",
            "_model_name": "OutputModel",
            "_view_count": null,
            "_view_module": "@jupyter-widgets/output",
            "_view_module_version": "1.0.0",
            "_view_name": "OutputView",
            "layout": "IPY_MODEL_0846d332d1164effaed28ab855918b3f",
            "msg_id": "",
            "outputs": [
              {
                "output_type": "stream",
                "name": "stdout",
                "text": [
                  "Video available at https://youtube.com/watch?v=JwTn7ej2dq8\n"
                ]
              },
              {
                "output_type": "display_data",
                "data": {
                  "text/plain": "<IPython.lib.display.YouTubeVideo at 0x7f1195872090>",
                  "text/html": "\n        <iframe\n            width=\"854\"\n            height=\"480\"\n            src=\"https://www.youtube.com/embed/JwTn7ej2dq8?fs=1&rel=0\"\n            frameborder=\"0\"\n            allowfullscreen\n        ></iframe>\n        ",
                  "image/jpeg": "/9j/4AAQSkZJRgABAQAAAQABAAD/2wCEABALDBoYFhsaGRodHRoeISAlIiEhIjYnJyUnLigxMDgtMSs1Q1BCNjlLOTAtUGFHS1NWW1xbMkFlbWRabFBZW1cBERISGRYZMBobMFc3NzdXXldXV1dXWldXV2NXY1ldYVdXXVdXV1dXWF1XV11XXVdXV1dXV11XV1dXV1dXV1ddV//AABEIAWgB4AMBIgACEQEDEQH/xAAbAAEAAgMBAQAAAAAAAAAAAAAAAQQCAwUGB//EAEIQAAIBAgMEBwYFAwQBAgcAAAABAgMRBBIhExQxUQUiQVNhktEXMnGBkdIGFlKhsSNCkxVicsGC8PEHJENzorLh/8QAFwEBAQEBAAAAAAAAAAAAAAAAAAECA//EACIRAQACAgIBBAMAAAAAAAAAAAABEQIhEkExAyJxgbHB8P/aAAwDAQACEQMRAD8A+fgAAAAAAAAAAAAAAAAAAAAAAAAAAAAAAAAAAAAAAAAAAAAAAAAAAAAAAAAAAAAAAAAAAAAAAAAAAAAAAAAAAAAAAAAAAAAAAAAAAAAAAAAAAAAAAAAAAAAAAAAAAAAAAAAAAAAAAAAAAAAAAAAAAAAAAAAAAAAAAAA9f7OMb3uG80/tHs4xve4bzT+0DyAPX+zjG97hvNP7R7OMb3uG80/tA8gD1/s4xve4bzT+0ezjG97hvNP7QPIA9f7OMb3uG80/tHs4xve4bzT+0DyAPX+zjG97hvNP7R7OMb3uG80/tA8gD1/s4xve4bzT+0ezjG97hvNP7QPIA9f7OMb3uG80/tHs4xve4bzT+0DyAPX+zjG97hvNP7R7OMb3uG80/tA8gD1/s4xve4bzT+0ezjG97hvNP7QPIA9f7OMb3uG80/tHs4xve4bzT+0DyAPX+zjG97hvNP7R7OMb3uG80/tA8gD1/s4xve4bzT+0ezjG97hvNP7QPIA9f7OMb3uG80/tHs4xve4bzT+0DyAPX+zjG97hvNP7R7OMb3uG80/tA8gD1/s4xve4bzT+0ezjG97hvNP7QPIA9f7OMb3uG80/tHs4xve4bzT+0DyAPX+zjG97hvNP7R7OMb3uG80/tA8gD1/s4xve4bzT+0ezjG97hvNP7QPIA9f7OMb3uG80/tHs4xve4bzT+0DyAPX+zjG97hvNP7R7OMb3uG80/tA8gD1/s4xve4bzT+0ezjG97hvNP7QPIA9fL/4dYxJva4bT/dL7Sv8AkXFd5Q80vtA8wD0/5FxXeUPNL7R+RcV3lDzS+0LTzAPTfkbFd5Q80vtH5HxXeUPNL7QU8yD0v5IxXeUPNL7SPyViu8oeaX2gp5sHo/yZif10fNL7TF/g7E/ro+aX2gp54Hff4RxH66Pml9pi/wAKYj9dL6v0BThA7b/DFf8AXS+r9DB/huv+qn9X6ApxwdZ/h6t+qn9X6EPoGr+qn9X6ApygdJ9CVV/dD6v0MJdE1F/dD6v0CPuAAAAwq1YwV5yjFXSvJ2V3wWoqVIwV5SUVdK7dld6JAZgwq1YwV5yjFXSvJ2V32amYAEACQQAJBAAkAwlUimk2k5OyTfF8lzAzBAAkEGMakW3FSTcbZknqr812AZgwqVIxTlKSjFcW3ZL5mQEgGFWrGEXKcoxiuLk7JfFsDMGFKpGcVKElKLV1KLumvBoyAkEACQQAJAIAkAgCQQYxqRbklJNxdpJPVO19eWgGYMZ1IxV5NJXS1dtX2EgSCABIIAEgADCr7svg/wCDkKZ16vuy+DOSoBqDORmM1AnIFarkXN2QhwA0tmEmb3AwcQqu2a5FlwNcohFSVzVItygapRIKkkaZFuUTTOIFSSNUkWpxNMkBWkihi5ZZLkzpyRQ6Sp3p3/TqEfWQAVlz+nMJt8JWpr3nBuP/ACjqv3SOR0jN4/D4WlB2dWnOs2uxwhZf/nJfQ9McXoPoieHrVpTacPdopP3YOcp2fzl+xJdMMqj4aK+J3x9HRXCp/XmuShHg/wDyf7G+n0lXr5qlGeHhTUpKMal3Kpldr3TWVNp20Y6H6InQxNepNpw1jRSeqhKbm0+WrX0NNLomdDNCOFw9eDlJwnJqMkm28srxd7X4rsJtqePh1+jsYsRRhVStmumuNpJtNX7dUzDDYuU8TiKTSy0lSs1xeZNu5vwlLJTjHLCLS1UFaKfbb5nOqUcRSxVWrSpwqwrRp+9UyOMoprk7rVFc9TbXX6ZnCjXqZYXp4h0U3fLGN0s0vhctYKvVtKVSpQq0sraqUk1a3Za8k1a+t/kaMJhcTSpVurSnVnXnPK21GUZW0vZ2f1MMH0XJ4iVV0aeHhKlKEoQlfaNtauySVkn46jbU1UsIdJ4ipT3iDw6g1mjRk3nlHsvO9k2uyzOxhMRGtShVh7s4qS+DVzh4foupRgqW6YWtl0jVk0rrsc45W725cTv0oKMVFJJJLSKsl8EITOunIx2PrRqyhCthKcl7lOo25z0+Ky3+DI/1BVl0fV2cP6079ZXcP6cn1Xz04ihgq1J4iGxp1Y1qkpqcpWupdk1bs7LfsRhei6sKWAg8t8O71Nf9ko6c9Wiba9tNtDGYmrVrQgqUYUqjhmldt9VNKyfN8f27Sv8Ah+WIVGvKTpTtUr5VrHrqbveTbtH5aHQ6Owsqc8TKVrVKznGz7MsVr80zn/6XXdDFYZqMY1JVZQqKXHPLNlcbadqYLjx8FHpioqlO9XC1oTqRpyVFvNTcr2d8zurrkiKO3eMxqoOnHrUm5VE5f2cFFNfW/wBTZiMJXrbtehSp7GrTk+veyXFRsuH0M1QxNLE4irTp06kKrp2i55ZdWFr3s1x7Aa6VekcbOrgcVCrFRrUZQjPL7rvKLUlfsaZexfSE9tu9F04yUFOc6mqim7JKKau3Z9uhVqdE1p4bE58m8YiUZNJ9WKi0lG/bZLibsf0ZLeN4hSpVs0FCdOpZcG7SjJp668Bs9v8AfSx0djpTqVKNXI6lNRlmp+7OMr2aWtndPS7KX4mjVlLCxg6eSVeCtOLd52k1ez1jpwL/AEZh3HNKVCjRbeip6u3+52Q6Uwk6ssO4W/p14zld26qUlp9UXpImIyaJ4qvKq8PQVKMqUIOrUlFuKclpGMU18eJrl0tVhRxSqRgsRhoOWl8k04txklxS0el+w218NWpYmdehGNSNWMVUhKWRqUdFJOzXDiivPoutUpYydTIq+Ip5FGLvGEVFqKzW11bbdu0ixxdHo6pWnHPWVOKkouMY3bWna3x7OHDxK+NxldYqFCiqfWpSm5Tv1bSS4Ljx4afE6GHg404RfFRin8kVJ4SbxsK2mRUZweuuZzi+HwRWIq1GhjMbVVaEd3jUoTcZSak4z0TVo36ujWt2bn0pOWDo14ujS2ii5SqytCF18s2vZdG/AYOdOeKlK1qtXNGz7MkVr80c+n0VWp0cC1GE54ZNSpuVk7xteLtxXZcm2/bKx0b0nOdSdKcqNS1NVIVKXuyi21Zq7s01zKkelcY8EsZagoqnnlC0m5JcbSv1fhZlzD4KrvdSvKnCEZ0VC0ZXbkpN3lpysYU+jKi6L3Xq7XYShx0zNNcRs9v4WqePlvSpSSUKlJVKT7Xb3ovx1iycBjJVqteyWypz2cX2ykl1teSenyZS/EEZU8NSqwaVejKGz/3Sl1HH53/Y6PRmD2FCnSvdxXWfOT1k/m2yszEVbmdIbx/qOHUJU1Fwq5VKMnp1M17Pjy5GOF3h4rHKg6Uf6tO8qictdlHRRTX1uXOksPW3ihXpQjPZxqRlGUsuk7a3s+RtwGEnTr4qcrZatSEo2fYoRjr80RrlHH6/bnVOkZVMHCpUpU3NYiFOUWrxzKrlzR/lFqpi8RPE1qFFUoqnGm8803bNfTKmr8Oat4lddE1d2dPq5t62vHTLtc/1sX8PhZxxeIqu2SpGko663jmvdfNDZPHanDpmccNWnUhGValV2OWGkZzbSja/BPMiMXjMZh4QlU3eanUpQeVSWTNJJ8X1uPHT4Mit0XJ0cUpzjTc8Rtqc29ItZMt/nH9yv0vVxM4UYVYUoXxFCyhNzc2pp6Kysla/aFiMZnS3W6RqyxVShTqUKTp5bKqm5VLq942krLs7dTrUXJwjnSU7LMou6T8H2nN6Ro1ajlGWFoV6b9xynZrTtTT7e1FvovDSo4elSnLNKEUm/wD37CsTVLYAKwxqe6/gznqJ0J8H8GUkFhCiTlMgGmGUhxNgYVpcTBxN7RpqyUU2+CQHPx/SEKHvavkjnT6dhf3U18dTOr0U8RUc6kmovgkUcZ0JCCbjKV/HVGpywx1LEY+plFw62GxtOt7r17U+JnKJ42hWlSxELvTMtVp2nrq1XkZmuli/EsZo0TaMajbNE0RpnNGmSMotiSCK8kaKsLpp8GizJGqSA+lAArCASAIBIAgEgCCQAIBIAgEgCASAIJAAgEgCASAIBIAgEgCASAIBIAr1MFSnUjVlTjKpDSMmrtfA3kgCASABBIAwq04zi4yipRas01dNeKKuG6Kw9KWenRhGSVk0tUuS5F0BblAJAQAAGM+D+DKSLs/dfwZQTDUNguY3MgoQwGRUMrY1/wBKf/F/wWGzRiouUGlx+NhdFXp5yeMxOzbUppptKMIJWVk1e+vacjG43FRppzaac8t2ute1/h2np8Zh1OOryvg5J2/g8z03fLGEZwlTi9IprQ53c278eOLmRm5Tjd360b3VuMkv+z2UzyFO+1pqLbblG3xuevmbhwmNtMjTM3TZpmwMc1iHK4sZOJUapGqSN0kapID6OACsAAAAAAAAAAAAAAAAAAAAAAAAAAAAAAAAAAAAAAAAAAAAAAAAAAAAADGp7r+DOamdGp7svgzmRYahsTMrmu5NyNNlyGzG5DZRLZg2GzBsg5eOpqUsrSceR5npmk49XLBJcMvZ4Ho+lU5JuLtJcGeNx0p5mm7u+pyjy7zlUOn+G8Op1JVWtIK0f+T7fp/J18RUszl/h3EwhRnFySlnvZvjojfia12dHCWyVcwdUqSqCE+YRdgzY2Vo1F2GW0KM5GuRDmYuQH0gAFYAAAAAAAAAAAAAAAAAAAAAAAAAAAAAAAAAAAAAAAAAAAAAAAAAAAAAGFX3ZfBnJTOxJXVuZo3Knyf1YWJUEybl7c4cn9WTukOT+oW1G5VxvSNKhG9WajfguLfwR2N0hyf1OXifwpg603OpCpKT4vaz9QW87i/xhDhRptvnPRfRHGf4ir7aNSUsyi/c4Rtw4f8AZ7X8lYDup/5Z+o/JWA7qf+WfqDk4q6So4iN6c0pfok7SXy9Dj43De9OTSXiz2L/BPR/dS/yz9R+R+ju5l/kn6mONOk+pfmHzPEVlZxjrfi+wxo4ypDhJ25PVH078kdH9zL/LP1H5I6P7mX+WfqbpymbfO6fSj/vV/FehejUTV09Ge2/JHR/cy/yT9TbS/B+BgrRpyt/9yXqSi3h1M2Rqnt/yrg+7l/kl6k/lbB93L/JL1FLbxaqByPa/ljCd3L/JL1H5Zwndy88vUFuwACshrp14TbUZxk1xSadviaOlE3Rla7V4ZkuLhmWa3/jcqvFR2kNjGjPqzyZHeSSjfsWibSXzA6gOLGrOpTl/UupUpuXWi3e3YktOTTLGKs8DK021s75k1rbx4AdJSV2rq64+AORVbW8VIVZdSNNpqzUrR4vTW5lUxNTazSmouM4qMXJJNacU1d3u9V/0B1QVOkKrjkipOLk3rmUVor2baf7FXDVp1XTi6sknTqtuNrtxmop3ty5AdUHHjjZ5aU5VNHTpNxjKKldvjla1T8PkZTxs4Slml1aEm6rtxhJ9X6J3/wDEDrA48sRVTUZzyPZxnfNGPWbd/eWqjoreOpt2lV7VuqoOFOD7MilKLu7tXtcDpgp9HVs6mm5NxaTvJSWqvpJLX5lHC1MsIQ2zjF1a6lJtXTU3aN7aX1YHaGZXtdX428CnhZyqUZXk3rNRmrXlFcJcijgIZ1Ry1ZL/AOWWsWm+K0vbsA7QOLHG1Jxg5TUL0ac080Yptq7eq1S008S/jK0o0YtyUG3TU5LVRTau1f8AlgWwcrenGTtWzQjVpRzNrRNaq68bEVMbJuWWfUdZxzJpWSpxaSk9NXcDrCUkldtJeJyZ4ipki3Vja9ThUipSStZ3as2tU1p2GE6nWqzU5XlToSUZW4NvW1v/AFcDsg5VTFSUpPa2qKqoqlprHMlw46x1v6GcKk7xntJO9ecMumXLmkrcL9iA6QOd0diG55ZVM8nFyvGSlB2aV1ZXjx4P97GNfFVI1JwUvce1enGlZafXN9AOmDkPFVHkvJxjUU5xeZR0v1Vdr9OtvQtvESjhXUm7tQbzQafwafDx5AXBmV7XV+Rx1iKn9SG1j1dk03Nf3ZrxU7acORjPFSzU5U1KclCum5WbVpwTenvW7LcQO0Sa6DThFqWdNK0v1eOhsAAAAAAAAAAAAAAAAAAAAAAAAAAAAAAAAAAAAAAIIUUr2SV+JjVp5lZSlHxjx/c5eGxjhCm5Tc51FJ/1JKMUou3FLxQHXUUr6LXiFFJWtocrEY+Ti5QbitjVduNpRlFXv29p0K9bI6atfPPL8OrJ3/YDYorkicqveyuu0o1ukMv9qXXlHNKVorLbi7O1zZja0o0VKPFyp8HznFWv8wLTinxVxYpPHSTcZU1tM0YpKV07q6d7K2id9OwmOPtJRqRytSyys7pdVyTvbg0n8wLeVaaLThpwJsVMNjto4LI05Kbab1ilbj8boxlipRqVIpZm5wjCN7K7hd3fLRsC44p8UmTYpb9K6js1tM+RrN1b5HJO9uFvAiGOlLLGNNbRuomnLqpQaTea3Nq2naBejFLRKy8CHBa6LXjpxK9PFuVGVTI7xdRZb9sJNcfkapdJRvNKLdlHK76TcraLzR+oF4hRS4JFCji5p9aKcHWnDNm1XWaWluHzJo4yclGMI55Wcm5yy2WZpapcXZ9nYBecVpotOBLOdLGVIyqtxvCE4J3lZxTjHgra6vmi3ia7hljGOac3aKbstFdtvlZAZRoRTk7e9a67NPAzyq1rKxVeKqZlCNOLqZc0k52ildpWdtb2fYap9JvK5Qp3UaaqSvKzSu01wevVfgBfcE1aysuyxLiuSKM8fKOZSp9ZOlZKXFTllV3bR6EvHSTcJU1tbxSipXi817PNbTg76dgF3Kr3trzFik8dJPK6a2mdQtm6usXJNStw05GL6SsknGKqZpRs52istrvNbxXZ2gXlFLglrxJsUYY+U8qhBOUlU4ytFZHFcbO6ebTQYfGTqVYdVKEqbk9dU725AXXFNWaTRJSlipxrVU1HZwpwkrys7ty46eH7eJpn0k8rvaDhOlmad1llLm0mu3sA6WRWtZW5WJSKEuktINRS2maUM8sqcFbrPR2vdaeJD6T0g1GKUs13OWWN1K1lKzTfLhoB0EiSCQAAAAAAAAAAAAAAAAAAAAAAAAAAAAAAAAAAAAAAVdxiowUXKLhfLJPVJ8Vro18SxOainKTSS1bfBFar0hSjFSzXWaMdOKba4r53AyqYKElaWZ9Rwu3rZtN/wZ4igqiV204vNFxeqeq/hsPFU1PJnWbTTxfZ8TaBWWCSVozqRu221K7d+N73Nm7Q2cadurHLZX/S01/CNwAr1cHCTk3dNuLunZpx4NGEuj4ShKEs0szUpSb6zat2r4dhbAGmGGjGpOol1ppJ68vAxqYOEsz1TbjK6dmmlZNfIsACtTwcI2fWclLPmb1csuW7+RrxGD4OmuspTd8+VrNq9bPTwLoAr4HDunTUXq7zb1vrKTla748TCHR1KKppJ2pyco69r58//wCLkWwBo3WNra6Tz8f7r3MHgY9XK5waTV4vVpu9n8/oWgBXlg4NTTvabi5a8kkv4RnXoKaV204u8ZJ2adrafJs2gCrLBJ2eeopJNZlLrNN3s/8A1p2WG408sopNRlTVNpP+1X9WWgBTxeCzp5dJN0ru9tITzaePEncIWldzcpOLzt9ZOPC1uFvXmWwBWhgoqzvKUs2dyb1crZdfl2CWCi9U5RlmclJPVNqz+XgyyANMcOlKMrycoqSTbvpJpv8AhGNPBxjKEouSyJrjo03ez+ZYAFatgozlKTcutFRaT0dm2n8U2yNxjduTlJtwbbfFwd1w0LQAq7jDTK5QacnFxfu5uKV9LPkTVwalHK51LWal1veT53/6sWQBCVtCQAAAAAAAAAAAAAAAAAAAAAAAAAAAAAAAAAAAAAACvjsO6lNxTs7xkuzWMlK37FWWEm4uWVKpmpOzqOV1CWa17advYXq1WMIuU3aK4v8AY1wxtKSbU1o4p8027LTxYGuhTqQlJKMHCU3JyzNNX1atbX434Fmm5OKzJKVtUndJ+D0MgBIIAEg0b3Tu1mWma/y4/Q2QqxldJp2tf5q6AzBAAkERkmk07p8GgBIIAEggASAYTqxim20rK78EBmCABIIInNRTlJ2SV2/ADIEACQCAJBAAkEACQY05qUVKLvFq6fNEgSCCQAAAAAAAAAAAAAAAAAAAAAAAAAAAAAAAAAAAp9KRbotR45qdtL//AFI9hoxWFkv6k5Z5udCPVjZKKqp8LvmdIAcmg6jqrNJqptJXTc3eN3pltltltr/2YUZSc75pxco1cy68nB20unpdeFvA7QA4qqT2clHM0pU801KbTi+Nr6p87djLvR17T6145urrJ201tKWrRdIA40KUoU8qz2e9XTcn2u3EudHxalUumtKX/wCiLwA5FOUs0dam32rzJ5suTM76e7ly8H8O25NGq5KjTbqZs1RVPeWmWfGX0t8jqkgczB5lgUqV9oqbSTvdTy8NfE0zk7T2EqrjsZuWZybU9Mts2ql710vDwOwSBysVXc3PZynltQs0muNXW3y4lnHRcaNo57JwUmm3LJmWbXjwv4lwgDj7W0puEqjpxlQerk7Jt3462JrVpyzNOWzdbVvNHq7NW1Wqjm5fwdWNNKTkl1pWu+duH8mYHGnm2cW6nVzTypuok1ppnWumtr3vftsRUupVJpVIzlQpNJyle93dcrrT6+J2gByasnnnrU2+0WRJyy5bq2nu2te7fj4EqErqd6mbeJL3nbJmatl4WsdUgDl0YSjsJ3qOUp1FJOTaccs2lZ6LVR1K0ak8s3FzvKhUk0nNuM9LLrcJK74W+B3SQOVWVS2IlFzzKcVFXdlDJTcsqXb73DW/AwSbhO1S0LwtZzkr3d+txSatez0+Z2ABSw05vDycItTSmo3k5XavZpy1a+JUw0JzTUakk3B3vKbefSzebg78V23OwAOPUq1ZwdW04xcoRcdVaK956arrO112ImEZSyLPLI6rXVlPSOzd1merVzrkAc6nKe22N5WhJ1HK/GD92N/+V/lEyxjW2SqOahk6mVyScru98vba1k/EuU6MYuUktZO7bbf89ngbAPPzlJUIJZ4yhh4uOs03Kz0SWl1Zcbl2cp7bY3labjUzX4QXvRv8UvlPwOkYRoxU5TSeaVk223ouxcvkBmSAAAAAAAAAAAAAAAAAAAAAAAAAAAAAAAAAAAAAAAAAAAAAAAAAAAAAAAAAAAAAAAAAAAAAAAAAAAAAAAAAAAAAAAAAAAAAAAAAAAAAAAAAAAAAAAAAAAAAAAAAAAAAAAAAAAAAAAAAAAAAAAAAAAAAAAAAAAAAAAAAAAAAAAAAAAAAAAAAAAAAAAAAAAAAAAAAAAAAAAAAAAAAAAAAAAAAAAAAAAAAAAAAAAAAAAAAAAAAAAAAAAAAAAAAAAAAAAAAAAAAAAAAAAAAAAAABq3iHMbxDmUTnPpemq1Si006Ws2+EYZVLN9ZJW4gd/eIcxvEOZw/9YoXis0k5NKzpzVm5KPW06urXG3FELpjDvK87Smm4uUJRTSTd7tf7WB3d4hzG8Q5nAfTFNUqlW01CnOMXmi4vrZdbNXSWb9jKn0tSajmvBzipJNN2i75XJpWjmS0TYHd3iHMbxDmeerdO0YpOOaV03rCUUkoSnq2tLqPDjZp2Nr6XoLMs0rxdrKnN3ebLaOnWd3bS4Hc3iHMbxDmcb/UKdqLipyjWdotQen/ACvrFfEq4np2nTnKEoSzR2israuMVJL/AMk9PgwPR7xDmN4hzOC+m8Mk71NYuzWVt314K2q6stVyZtw3SFOrKcYu7je9tdOx6c+xcWB2d4hzG8Q5nEo9IKWHnXySio7S8XbN1G0/4Nf+sQjm20ZUnFQla2e8ZKTTvG/6ZceQHf3iHMbxDmcinjqc21FuTSk2lF36ryvs58OfYTgcUq1KNRRcc1+q+Ks2tbfADrbxDmN4hzKIAvbxDmN4hzKIAvbxDmN4hzKIAvbxDmN4hzKIAvbxDmN4hzKIAvbxDmN4hzKIAvbxDmcvGfifDUak6clVbhlzONNyirq61RuPE9KdIVIdJ1sMpWo4nZQmtNG4pKV3ydviFiu3qX+McIkpNV7O9nspWduTLnR/T1DESlGG0jKCi2pwcdHwevwPCUqOJqVZYKrUgoYVSqTV1ZR0vlfa9e3hc6P4R6Tq4vE4mrVeuSmor9Mc0rR8bX4iphZ49Pc7xDmN4hzKIDK9vEOY3iHMogC9vEOY3iHMogC9vEOY3iHMogC9vEOY3iHMogC9vEOY3iHMogC9vEOY3iHMogC9vEOY3iHMogC9vEOY3iHMogC9vEOY3iHMogC9vEOY3iHMogC9vEOY3iHMogC9vEOY3iHMolTE4icJ2Sjayet7+/GL/ZgdneIcxvEOZx8JiZTeuXWKkrcY3bVn46fyWgMtm+RUq9FUpylKVO7k25O71vDI768MqWnDRdp0yQOXHoiklbZt8NXKTbakpptt3fWS48jF9DUW4t0vdiorV2ypNJNX10lLjzOsAOZT6Lpxg4KDcXKMnmlKTbjazu3f+1fQwXQ1G6ezel9M0ratvhezs27cr6WOsAOTU6Goyd5U2+rltmla2Rw4XtfK2r8RX6IhONlFxd21JXum5KV1rzR1gBQweD2NKFOOZqKtd8X4s11eiqU5ucqScpOm29dXB3j9DpgDkvoai01s3ZyzaTkrS11jr1eL4W4m6l0fCE3OMLSlxab1+PP/AKOgAObHo2CzpRllqRalHM8urk27djbk/wBjT/odHLldJtX4ucnJ6OPvN3tZtWv2nYAHNwvRypTqzSblUkm+GiUUkl8kbaOFVOKjCNoq9l8W2/3bLoArbN8hs3yLIArbN8hs3yLIArbN8hs3yLIArbN8hs3yLIArbN8hs3yLIArbN8hs3yLIArbN8jw/4l/DOMxGMqVaVJShJQs3OK4RS4Nn0EAfP8V+HcXPBU6aoS3i6VWTnDLKEL5Fe/YmvKuSL34O6DxOFnWdenlU1BK0k72b5fE9kAK2zfIbN8iyAK2zfIbN8iyAK2zfIbN8iyAK2zfIbN8iyAK2zfIbN8iyAK2zfIbN8iyAK2zfIbN8iyAK2zfIbN8iyAK2zfIbN8iyAK2zfIbN8iyAK2zfIbN8iyAK2zfIbN8iyAK2zfIh0n+ktACpGja9o2vq7LiZbN8iyAAAAAAAAAAAAAAAAAAAAAAAAAAAAAAAAAAAAAAAAAAAAAAAAAAAAAAAAAAAAAAAAAAAAAAAAAAAAAAAAANO90u9p+deo3ul3tPzr1PhwA+473S72n516je6Xe0/OvU+HAD7jvdLvafnXqN7pd7T869T4cAPuO90u9p+deo3ul3tPzr1PhwA+473S72n516je6Xe0/OvU+HAD7jvdLvafnXqN7pd7T869T4cAPuO90u9p+deo3ul3tPzr1PhwA+473S72n516je6Xe0/OvU+HAD7jvdLvafnXqN7pd7T869T4cAPuO90u9p+deo3ul3tPzr1PhwA+473S72n516je6Xe0/OvU+HAD7jvdLvafnXqN7pd7T869T4cAPuO90u9p+deo3ul3tPzr1PhwA+473S72n516je6Xe0/OvU+HAD7jvdLvafnXqN7pd7T869T4cAPuO90u9p+deo3ul3tPzr1PhwA+473S72n516je6Xe0/OvU+HAD7jvdLvafnXqN7pd7T869T4cAPuO90u9p+deo3ul3tPzr1PhwA+473S72n516je6Xe0/OvU+HAD7jvdLvafnXqN7pd7T869T4cAPuO90u9p+deo3ul3tPzr1PhwA+473S72n516je6Xe0/OvU+HAD7jvdLvafnXqN7pd7T869T4cAPuO90u9p+deo3ul3tPzr1PhwA+473S72n516je6Xe0/OvU+HAD7jvdLvafnXqN7pd7T869T4cAPuO90u9p+deo3ul3tPzr1PhwA+473S72n516je6Xe0/OvU+HAD7jvdLvafnXqN7pd7T869T4cAAAAAAAAAAAAAAAAAAAAAAAAAAAAAAAAAAAAAAAAAAAAAAAAAAAAAAAAAAAAAAAAAAAAAAAAAAAAAAAAAAAAAAAAAAAAAAAAAAAAAAAAAAAAAAAAAAAAAAAAAAAAAAAAAAAAAAAAAAAAAAAAAAAAAAAAAAAAAAAAAAAAAAAAAAAAAAAAAAAAAAAAAAAAAAAAAAAAAAAAAAAAAAAAAAAAAAAAAAAAAAAAAAAAAAAAAAAAAAAAAP/Z\n"
                },
                "metadata": {}
              }
            ]
          }
        },
        "9dd083c3e16c4286a7e359ddadcfe97c": {
          "model_module": "@jupyter-widgets/base",
          "model_name": "LayoutModel",
          "model_module_version": "1.2.0",
          "state": {
            "_model_module": "@jupyter-widgets/base",
            "_model_module_version": "1.2.0",
            "_model_name": "LayoutModel",
            "_view_count": null,
            "_view_module": "@jupyter-widgets/base",
            "_view_module_version": "1.2.0",
            "_view_name": "LayoutView",
            "align_content": null,
            "align_items": null,
            "align_self": null,
            "border": null,
            "bottom": null,
            "display": null,
            "flex": null,
            "flex_flow": null,
            "grid_area": null,
            "grid_auto_columns": null,
            "grid_auto_flow": null,
            "grid_auto_rows": null,
            "grid_column": null,
            "grid_gap": null,
            "grid_row": null,
            "grid_template_areas": null,
            "grid_template_columns": null,
            "grid_template_rows": null,
            "height": null,
            "justify_content": null,
            "justify_items": null,
            "left": null,
            "margin": null,
            "max_height": null,
            "max_width": null,
            "min_height": null,
            "min_width": null,
            "object_fit": null,
            "object_position": null,
            "order": null,
            "overflow": null,
            "overflow_x": null,
            "overflow_y": null,
            "padding": null,
            "right": null,
            "top": null,
            "visibility": null,
            "width": null
          }
        }
      }
    }
  },
  "nbformat": 4,
  "nbformat_minor": 0
}