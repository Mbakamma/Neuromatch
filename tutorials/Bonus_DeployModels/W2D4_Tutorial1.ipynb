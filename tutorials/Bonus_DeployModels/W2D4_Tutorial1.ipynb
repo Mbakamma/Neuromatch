{
  "cells": [
    {
      "cell_type": "markdown",
      "metadata": {
        "id": "view-in-github",
        "colab_type": "text"
      },
      "source": [
        "<a href=\"https://colab.research.google.com/github/NeuromatchAcademy/course-content-dl/blob/fixes/tutorials/Bonus_DeployModels/W2D4_Tutorial1.ipynb\" target=\"_parent\"><img src=\"https://colab.research.google.com/assets/colab-badge.svg\" alt=\"Open In Colab\"/></a>"
      ]
    },
    {
      "cell_type": "markdown",
      "metadata": {
        "execution": {},
        "id": "zrGQ_Recu8eH"
      },
      "source": [
        "# Bonus Tutorial: Deploying Neural Networks on the Web\n",
        "\n",
        "**By Neuromatch Academy**\n",
        "\n",
        "\n",
        "__Content creators:__ Sam Ray, Vladimir Haltakov, Konrad Kording\n",
        "\n",
        "__Production editors:__ Spiros Chavlis"
      ]
    },
    {
      "cell_type": "markdown",
      "metadata": {
        "execution": {},
        "id": "RsYKXveIu8eL"
      },
      "source": [
        "---\n",
        "# Tutorial Objectives\n",
        "\n",
        "In this tutorial, you will learn the basics of how to deploy your deep learning models as web applications using some modern frameworks and libraries. In this tutorial, you will learn to:\n",
        "\n",
        " - Serve web pages with Flask\n",
        " - Apply the MVVM design pattern to write maintainable code\n",
        " - Create an interactive UI for your service\n",
        " - Deploy your deep learning models as a REST API\n",
        " - Deploying your application on Heroku"
      ]
    },
    {
      "cell_type": "code",
      "execution_count": 1,
      "metadata": {
        "cellView": "form",
        "execution": {},
        "id": "Uomi0hZlu8eL",
        "outputId": "6eca012c-cd54-47ff-d044-1762e01966ce",
        "colab": {
          "base_uri": "https://localhost:8080/",
          "height": 520
        }
      },
      "outputs": [
        {
          "output_type": "stream",
          "name": "stdout",
          "text": [
            "If you want to download the slides: https://osf.io/download/p6wty/\n"
          ]
        },
        {
          "output_type": "execute_result",
          "data": {
            "text/plain": [
              "<IPython.lib.display.IFrame at 0x7f686ee499f0>"
            ],
            "text/html": [
              "\n",
              "        <iframe\n",
              "            width=\"854\"\n",
              "            height=\"480\"\n",
              "            src=\"https://mfr.ca-1.osf.io/render?url=https://osf.io/p6wty/?direct%26mode=render%26action=download%26mode=render\"\n",
              "            frameborder=\"0\"\n",
              "            allowfullscreen\n",
              "            \n",
              "        ></iframe>\n",
              "        "
            ]
          },
          "metadata": {},
          "execution_count": 1
        }
      ],
      "source": [
        "# @title Tutorial slides\n",
        "from IPython.display import IFrame\n",
        "link_id = \"p6wty\"\n",
        "print(f\"If you want to download the slides: https://osf.io/download/{link_id}/\")\n",
        "IFrame(src=f\"https://mfr.ca-1.osf.io/render?url=https://osf.io/{link_id}/?direct%26mode=render%26action=download%26mode=render\", width=854, height=480)"
      ]
    },
    {
      "cell_type": "markdown",
      "metadata": {
        "execution": {},
        "id": "HiT_HpfGu8eM"
      },
      "source": [
        "---\n",
        "# Setup\n",
        "\n",
        "Run the following cells to install and include important dependencies."
      ]
    },
    {
      "cell_type": "code",
      "execution_count": 2,
      "metadata": {
        "cellView": "form",
        "execution": {},
        "id": "AVFxKfz5u8eN",
        "outputId": "e9de532c-78cb-44bf-bd9d-a6759ca8362d",
        "colab": {
          "base_uri": "https://localhost:8080/"
        }
      },
      "outputs": [
        {
          "output_type": "stream",
          "name": "stdout",
          "text": [
            "\u001b[2K     \u001b[90m━━━━━━━━━━━━━━━━━━━━━━━━━━━━━━━━━━━━━━━\u001b[0m \u001b[32m103.2/103.2 kB\u001b[0m \u001b[31m3.7 MB/s\u001b[0m eta \u001b[36m0:00:00\u001b[0m\n",
            "\u001b[2K     \u001b[90m━━━━━━━━━━━━━━━━━━━━━━━━━━━━━━━━━━━━━━━━\u001b[0m \u001b[32m4.0/4.0 MB\u001b[0m \u001b[31m22.8 MB/s\u001b[0m eta \u001b[36m0:00:00\u001b[0m\n",
            "\u001b[?25h  Preparing metadata (setup.py) ... \u001b[?25l\u001b[?25hdone\n",
            "\u001b[2K     \u001b[90m━━━━━━━━━━━━━━━━━━━━━━━━━━━━━━━━━━━━━━\u001b[0m \u001b[32m681.2/681.2 kB\u001b[0m \u001b[31m29.8 MB/s\u001b[0m eta \u001b[36m0:00:00\u001b[0m\n",
            "\u001b[?25h  Preparing metadata (setup.py) ... \u001b[?25l\u001b[?25hdone\n",
            "\u001b[2K     \u001b[90m━━━━━━━━━━━━━━━━━━━━━━━━━━━━━━━━━━━━━━━━\u001b[0m \u001b[32m52.8/52.8 kB\u001b[0m \u001b[31m3.6 MB/s\u001b[0m eta \u001b[36m0:00:00\u001b[0m\n",
            "\u001b[?25h  Building wheel for flasgger (setup.py) ... \u001b[?25l\u001b[?25hdone\n",
            "  Building wheel for pyngrok (setup.py) ... \u001b[?25l\u001b[?25hdone\n"
          ]
        }
      ],
      "source": [
        "# @title Install dependencies\n",
        "!pip install --upgrade jupyter-client --quiet\n",
        "!pip install Flask-RESTful flasgger pyngrok --quiet"
      ]
    },
    {
      "cell_type": "code",
      "execution_count": 3,
      "metadata": {
        "cellView": "form",
        "execution": {},
        "id": "jjwWmoyOu8eN"
      },
      "outputs": [],
      "source": [
        "# @title Modified functions from the flask-ngrok package which doesn't work with the latest version of ngrok\n",
        "import time\n",
        "import json\n",
        "import atexit\n",
        "import requests\n",
        "import subprocess\n",
        "from threading import Timer\n",
        "\n",
        "\n",
        "def _run_ngrok(port):\n",
        "  ngrok = subprocess.Popen([\"ngrok\", 'http', str(port)])\n",
        "  atexit.register(ngrok.terminate)\n",
        "  localhost_url = \"http://localhost:4040/api/tunnels\"  # Url with tunnel details\n",
        "  time.sleep(1)\n",
        "  tunnel_url = requests.get(localhost_url).text  # Get the tunnel information\n",
        "  j = json.loads(tunnel_url)\n",
        "\n",
        "  tunnel_url = j['tunnels'][0]['public_url']  # Do the parsing of the get\n",
        "  return tunnel_url\n",
        "\n",
        "\n",
        "def start_ngrok(port):\n",
        "  ngrok_address = _run_ngrok(port)\n",
        "  print(f\" * Running on {ngrok_address}\")\n",
        "  print(f\" * Traffic stats available on http://127.0.0.1:4040\")\n",
        "\n",
        "def run_with_ngrok(app):\n",
        "  \"\"\"\n",
        "  The provided Flask app will be securely exposed to the public internet\n",
        "  via ngrok when run, and the its ngrok address will be printed to stdout\n",
        "  :param app: a Flask application object\n",
        "  :return: None\n",
        "  \"\"\"\n",
        "  old_run = app.run\n",
        "\n",
        "  def new_run(*args, **kwargs):\n",
        "    port = kwargs.get('port', 5000)\n",
        "    thread = Timer(1, start_ngrok, args=(port,))\n",
        "    thread.setDaemon(True)\n",
        "    thread.start()\n",
        "    old_run(*args, **kwargs)\n",
        "  app.run = new_run"
      ]
    },
    {
      "cell_type": "code",
      "execution_count": 4,
      "metadata": {
        "execution": {},
        "id": "XZ8K19V1u8eN"
      },
      "outputs": [],
      "source": [
        "# Imports\n",
        "import io\n",
        "import platform\n",
        "from PIL import Image\n",
        "from urllib.request import urlopen\n",
        "\n",
        "import flasgger\n",
        "from flask_restful import Api\n",
        "from flask_restful import Resource, fields, marshal\n",
        "from flask import Flask, render_template_string, request, redirect\n",
        "\n",
        "import torch\n",
        "from torchvision import models\n",
        "import torchvision.transforms as transforms"
      ]
    },
    {
      "cell_type": "markdown",
      "metadata": {
        "execution": {},
        "id": "kr6VDwMfu8eO"
      },
      "source": [
        "## Setup ngrok\n",
        "\n",
        "In order to be able to access the web app running in the notebook, we need to use a service called `ngrok`. Since recently, `ngrok` requires the user to register for a free account and setup an authentication token. Follow the steps below to set it up.\n",
        "\n",
        "1. Go to [https://ngrok.com/](https://ngrok.com/) and create a free account. Do not forget to verify your e-mail address right after!\n",
        "2. Go to [https://dashboard.ngrok.com/get-started/your-authtoken](https://dashboard.ngrok.com/get-started/your-authtoken) and copy your authtoken.\n",
        "3. Paste it in the cell below by replacing `YOUR_NGROK_AUTHTOKEN`, uncomment the last line and run it.\n",
        "\n",
        "You should see this output:\n",
        "\n",
        "```python\n",
        "Authtoken saved to configuration file: /root/.ngrok2/ngrok.yml\n",
        "```"
      ]
    },
    {
      "cell_type": "code",
      "execution_count": 5,
      "metadata": {
        "execution": {},
        "id": "FtyfBzT-u8eO"
      },
      "outputs": [],
      "source": [
        "# Paste your ngrok authtoken below and run the cell\n",
        "\n",
        "## Uncomment the line below\n",
        "# !ngrok authtoken YOUR_NGROK_AUTHTOKEN"
      ]
    },
    {
      "cell_type": "markdown",
      "metadata": {
        "execution": {},
        "id": "RgI8U7MIu8eO"
      },
      "source": [
        "**Note:** If you want to delete at some point your account, visit this page [here](https://dashboard.ngrok.com/user/settings) and at the bottom of the page click on `Delete User`."
      ]
    },
    {
      "cell_type": "markdown",
      "metadata": {
        "execution": {},
        "id": "onp-MeFLu8eP"
      },
      "source": [
        "---\n",
        "# Section 1: Introduction"
      ]
    },
    {
      "cell_type": "code",
      "execution_count": 6,
      "metadata": {
        "cellView": "form",
        "execution": {},
        "id": "8CT7Zu8ku8eP",
        "outputId": "894e6de0-cb57-4bfa-d4c1-7e1e828266f5",
        "colab": {
          "base_uri": "https://localhost:8080/",
          "height": 581,
          "referenced_widgets": [
            "58cfc69145f14b759b644b6b07fa6d55",
            "8edf030cedc144e9bb9ab752d42bee94",
            "cba0ce95fcbb4420bbd20fae1c039f1d",
            "779bb7705b0148dbbe4e101c1db56957",
            "5e89e2a7c4b14100895858197caa31af",
            "a6c1fcf5d025437186a3949ce375ce95"
          ]
        }
      },
      "outputs": [
        {
          "output_type": "display_data",
          "data": {
            "text/plain": [
              "Tab(children=(Output(), Output()), _titles={'0': 'Youtube', '1': 'Bilibili'})"
            ],
            "application/vnd.jupyter.widget-view+json": {
              "version_major": 2,
              "version_minor": 0,
              "model_id": "58cfc69145f14b759b644b6b07fa6d55"
            }
          },
          "metadata": {}
        }
      ],
      "source": [
        "# @title Video 1: Deploying Neural Networks on the Web\n",
        "from ipywidgets import widgets\n",
        "from IPython.display import YouTubeVideo\n",
        "from IPython.display import IFrame\n",
        "from IPython.display import display\n",
        "\n",
        "\n",
        "class PlayVideo(IFrame):\n",
        "  def __init__(self, id, source, page=1, width=400, height=300, **kwargs):\n",
        "    self.id = id\n",
        "    if source == 'Bilibili':\n",
        "      src = f'https://player.bilibili.com/player.html?bvid={id}&page={page}'\n",
        "    elif source == 'Osf':\n",
        "      src = f'https://mfr.ca-1.osf.io/render?url=https://osf.io/download/{id}/?direct%26mode=render'\n",
        "    super(PlayVideo, self).__init__(src, width, height, **kwargs)\n",
        "\n",
        "\n",
        "def display_videos(video_ids, W=400, H=300, fs=1):\n",
        "  tab_contents = []\n",
        "  for i, video_id in enumerate(video_ids):\n",
        "    out = widgets.Output()\n",
        "    with out:\n",
        "      if video_ids[i][0] == 'Youtube':\n",
        "        video = YouTubeVideo(id=video_ids[i][1], width=W,\n",
        "                             height=H, fs=fs, rel=0)\n",
        "        print(f'Video available at https://youtube.com/watch?v={video.id}')\n",
        "      else:\n",
        "        video = PlayVideo(id=video_ids[i][1], source=video_ids[i][0], width=W,\n",
        "                          height=H, fs=fs, autoplay=False)\n",
        "        if video_ids[i][0] == 'Bilibili':\n",
        "          print(f'Video available at https://www.bilibili.com/video/{video.id}')\n",
        "        elif video_ids[i][0] == 'Osf':\n",
        "          print(f'Video available at https://osf.io/{video.id}')\n",
        "      display(video)\n",
        "    tab_contents.append(out)\n",
        "  return tab_contents\n",
        "\n",
        "\n",
        "video_ids = [('Youtube', 'yQtPGtz4jDI'), ('Bilibili', 'BV1754y1E7Qf')]\n",
        "tab_contents = display_videos(video_ids, W=854, H=480)\n",
        "tabs = widgets.Tab()\n",
        "tabs.children = tab_contents\n",
        "for i in range(len(tab_contents)):\n",
        "  tabs.set_title(i, video_ids[i][0])\n",
        "display(tabs)"
      ]
    },
    {
      "cell_type": "markdown",
      "metadata": {
        "execution": {},
        "id": "zNEiJyMku8eP"
      },
      "source": [
        "We will start by building a simple web application in Flask, which we'll keep extending throughout the tutorial. In the end, you will have a web app where you can upload an image and have it classified automatically by a neural network model."
      ]
    },
    {
      "cell_type": "markdown",
      "metadata": {
        "execution": {},
        "id": "RXg1ZYnZu8eP"
      },
      "source": [
        "---\n",
        "# Section 2: Flask"
      ]
    },
    {
      "cell_type": "markdown",
      "metadata": {
        "execution": {},
        "id": "CXBLLbRgu8eP"
      },
      "source": [
        "Flask is a web application micro-framework built with Python. Flask is popular because it's lightweight, easy to use, scalable, and has tons of great extensions. Nowadays, Flask is used for many different applications like web applications, REST APIs, socket-based services, and by companies like LinkedIn or Pinterest.\n",
        "\n",
        "In this section, you will learn to create simple Flask websites."
      ]
    },
    {
      "cell_type": "markdown",
      "metadata": {
        "execution": {},
        "id": "YtpMrgABu8eP"
      },
      "source": [
        "## Section 2.1: Your First Flask App\n"
      ]
    },
    {
      "cell_type": "code",
      "execution_count": 7,
      "metadata": {
        "cellView": "form",
        "execution": {},
        "id": "wqlCREoxu8eP",
        "outputId": "9ea33e16-bf62-46dd-aab8-92a1361f06a6",
        "colab": {
          "base_uri": "https://localhost:8080/",
          "height": 581,
          "referenced_widgets": [
            "637eb65e65d046f6b717a0d7451651da",
            "00aa21566af64c8d96fdf16545460707",
            "f498773b45134dd2a16f3324b90f596c",
            "0484c4bdcb784324be7f4fb3c01331b3",
            "183c060616e644b4a1d71ecec71780bf",
            "f74843c2f8d94d0b93f7fb3bb72b9169"
          ]
        }
      },
      "outputs": [
        {
          "output_type": "display_data",
          "data": {
            "text/plain": [
              "Tab(children=(Output(), Output()), _titles={'0': 'Youtube', '1': 'Bilibili'})"
            ],
            "application/vnd.jupyter.widget-view+json": {
              "version_major": 2,
              "version_minor": 0,
              "model_id": "637eb65e65d046f6b717a0d7451651da"
            }
          },
          "metadata": {}
        }
      ],
      "source": [
        "# @title Video 2: Flask\n",
        "from ipywidgets import widgets\n",
        "from IPython.display import YouTubeVideo\n",
        "from IPython.display import IFrame\n",
        "from IPython.display import display\n",
        "\n",
        "\n",
        "class PlayVideo(IFrame):\n",
        "  def __init__(self, id, source, page=1, width=400, height=300, **kwargs):\n",
        "    self.id = id\n",
        "    if source == 'Bilibili':\n",
        "      src = f'https://player.bilibili.com/player.html?bvid={id}&page={page}'\n",
        "    elif source == 'Osf':\n",
        "      src = f'https://mfr.ca-1.osf.io/render?url=https://osf.io/download/{id}/?direct%26mode=render'\n",
        "    super(PlayVideo, self).__init__(src, width, height, **kwargs)\n",
        "\n",
        "\n",
        "def display_videos(video_ids, W=400, H=300, fs=1):\n",
        "  tab_contents = []\n",
        "  for i, video_id in enumerate(video_ids):\n",
        "    out = widgets.Output()\n",
        "    with out:\n",
        "      if video_ids[i][0] == 'Youtube':\n",
        "        video = YouTubeVideo(id=video_ids[i][1], width=W,\n",
        "                             height=H, fs=fs, rel=0)\n",
        "        print(f'Video available at https://youtube.com/watch?v={video.id}')\n",
        "      else:\n",
        "        video = PlayVideo(id=video_ids[i][1], source=video_ids[i][0], width=W,\n",
        "                          height=H, fs=fs, autoplay=False)\n",
        "        if video_ids[i][0] == 'Bilibili':\n",
        "          print(f'Video available at https://www.bilibili.com/video/{video.id}')\n",
        "        elif video_ids[i][0] == 'Osf':\n",
        "          print(f'Video available at https://osf.io/{video.id}')\n",
        "      display(video)\n",
        "    tab_contents.append(out)\n",
        "  return tab_contents\n",
        "\n",
        "\n",
        "video_ids = [('Youtube', 'uVqu-9IBIRg'), ('Bilibili', 'BV1sA411P7Rq')]\n",
        "tab_contents = display_videos(video_ids, W=854, H=480)\n",
        "tabs = widgets.Tab()\n",
        "tabs.children = tab_contents\n",
        "for i in range(len(tab_contents)):\n",
        "  tabs.set_title(i, video_ids[i][0])\n",
        "display(tabs)"
      ]
    },
    {
      "cell_type": "markdown",
      "metadata": {
        "execution": {},
        "id": "pixVOZqhu8eQ"
      },
      "source": [
        "Creating a minimal Flask app is very simple. You need to create a `Flask` object and define the handler for the root URL returning the HTML response. You need to provide the applications module or package, but we can use `__name__` as a convenient shortcut.\n",
        "\n",
        "We need one small trick because the app will be running in a notebook. If you just run the app, it will be accessible at `http://127.0.0.1:5000`. The problem is that this is a local address to the server where the notebook is running, so you can't access it. This is where `ngrok` helps - it creates a tunnel from the notebook server to the outside world. Make sure you use the ngrok URL when testing your app.\n",
        "\n",
        "Uncommenting the `app.run()` command below, you will see this output:\n",
        "\n",
        "```\n",
        " * Serving Flask app \"__main__\" (lazy loading)\n",
        " * Environment: production\n",
        "   WARNING: This is a development server. Do not use it in a production deployment.\n",
        "   Use a production WSGI server instead.\n",
        " * Debug mode: off\n",
        " * Running on http://127.0.0.1:5000/ (Press CTRL+C to quit)\n",
        " * Running on https://XXX-XX-XX-XXX-XXX.ngrok.io\n",
        " * Traffic stats available on http://127.0.0.1:4040\n",
        "```\n",
        "\n",
        "The URL you have to visit is: `https://XXX-XX-XX-XXX-XXX.ngrok.io`\n",
        "\n",
        "<br>\n",
        "\n",
        "> **Note:** the call to `app.run()` will not return on its own. Make sure to stop the running cell when you want to move to the next one. You can do this by either clicking on the cell run/stop button or through _settings>Interrupt runtime_ or Ctrl+M+I.\n",
        "\n",
        "> **Warning:** if the \"visit site\" option is not working, check the URL. `ngrok` redirects some links from `https` to `http`, so you have to manually make the change!"
      ]
    },
    {
      "cell_type": "code",
      "execution_count": 8,
      "metadata": {
        "execution": {},
        "id": "I_U8twDKu8eQ"
      },
      "outputs": [],
      "source": [
        "# Create a Flask app object\n",
        "app = Flask(__name__)\n",
        "\n",
        "# Define a function to be called when the user accesses the root URL (/)\n",
        "# Handler\n",
        "@app.route(\"/\")\n",
        "def home():\n",
        "  # Return a very simple HTML response\n",
        "  return \"<h1>Welcome to Neuromatch</h1>\"\n",
        "\n",
        "\n",
        "# You need ngrok to expose the Flask app outside of the notebook\n",
        "run_with_ngrok(app)\n",
        "\n",
        "## Uncomment below to run the app\n",
        "# app.run()"
      ]
    },
    {
      "cell_type": "markdown",
      "metadata": {
        "execution": {},
        "id": "KPfk83onu8eQ"
      },
      "source": [
        "## Section 2.2: Using Jinja2 Templates"
      ]
    },
    {
      "cell_type": "code",
      "execution_count": 9,
      "metadata": {
        "cellView": "form",
        "execution": {},
        "id": "9PDCosTdu8eQ",
        "outputId": "c588e0b8-fb1c-4c84-ca94-0cbbe09197fa",
        "colab": {
          "base_uri": "https://localhost:8080/",
          "height": 581,
          "referenced_widgets": [
            "5ffd145215eb4effb3e153906ab58c04",
            "1a6447d78f414dc1a2e7c2eefb0d6d50",
            "8c8bb9482504460e861ee558d486a7fe",
            "b6c36e731c29430cb907f38124abeb4c",
            "2812b6631638451dbeab57c3b9a1600d",
            "7017999a79594699a6474435c7440c36"
          ]
        }
      },
      "outputs": [
        {
          "output_type": "display_data",
          "data": {
            "text/plain": [
              "Tab(children=(Output(), Output()), _titles={'0': 'Youtube', '1': 'Bilibili'})"
            ],
            "application/vnd.jupyter.widget-view+json": {
              "version_major": 2,
              "version_minor": 0,
              "model_id": "5ffd145215eb4effb3e153906ab58c04"
            }
          },
          "metadata": {}
        }
      ],
      "source": [
        "# @title Video 3: Jinja Templates\n",
        "from ipywidgets import widgets\n",
        "from IPython.display import YouTubeVideo\n",
        "from IPython.display import IFrame\n",
        "from IPython.display import display\n",
        "\n",
        "\n",
        "class PlayVideo(IFrame):\n",
        "  def __init__(self, id, source, page=1, width=400, height=300, **kwargs):\n",
        "    self.id = id\n",
        "    if source == 'Bilibili':\n",
        "      src = f'https://player.bilibili.com/player.html?bvid={id}&page={page}'\n",
        "    elif source == 'Osf':\n",
        "      src = f'https://mfr.ca-1.osf.io/render?url=https://osf.io/download/{id}/?direct%26mode=render'\n",
        "    super(PlayVideo, self).__init__(src, width, height, **kwargs)\n",
        "\n",
        "\n",
        "def display_videos(video_ids, W=400, H=300, fs=1):\n",
        "  tab_contents = []\n",
        "  for i, video_id in enumerate(video_ids):\n",
        "    out = widgets.Output()\n",
        "    with out:\n",
        "      if video_ids[i][0] == 'Youtube':\n",
        "        video = YouTubeVideo(id=video_ids[i][1], width=W,\n",
        "                             height=H, fs=fs, rel=0)\n",
        "        print(f'Video available at https://youtube.com/watch?v={video.id}')\n",
        "      else:\n",
        "        video = PlayVideo(id=video_ids[i][1], source=video_ids[i][0], width=W,\n",
        "                          height=H, fs=fs, autoplay=False)\n",
        "        if video_ids[i][0] == 'Bilibili':\n",
        "          print(f'Video available at https://www.bilibili.com/video/{video.id}')\n",
        "        elif video_ids[i][0] == 'Osf':\n",
        "          print(f'Video available at https://osf.io/{video.id}')\n",
        "      display(video)\n",
        "    tab_contents.append(out)\n",
        "  return tab_contents\n",
        "\n",
        "\n",
        "video_ids = [('Youtube', 'u25FfNIAKsg'), ('Bilibili', 'BV1Mb4y167eg')]\n",
        "tab_contents = display_videos(video_ids, W=854, H=480)\n",
        "tabs = widgets.Tab()\n",
        "tabs.children = tab_contents\n",
        "for i in range(len(tab_contents)):\n",
        "  tabs.set_title(i, video_ids[i][0])\n",
        "display(tabs)"
      ]
    },
    {
      "cell_type": "markdown",
      "metadata": {
        "execution": {},
        "id": "KWtfwNjqu8eQ"
      },
      "source": [
        "The default template engine used by Flask is Jinja2. Jinja2 offers features that help you write clean and reusable templates such as inheritance, humanizing, and formatting data (there's an extension for this), dividing components into sub-modules, etc.\n",
        "\n",
        "In this section, we are going to add Jinja2 templates to the app. WIth Jinja2 you can use variables and control flow commands, like ifs and loops in your HTML code. Then you can pass data from your Python code to the template when it is rendered.\n",
        "\n",
        "Let's first define the template of a simple web page showing some platform properties. We are going to loop over the `platform` dictionary containing property keys and their corresponding values:\n",
        "```\n",
        "{% for key, value in platform.items() %}\n",
        "```\n",
        "One row of the HTML table is created for every element of the dictionary. You can display the content of the variables like that: `{{ value }}`"
      ]
    },
    {
      "cell_type": "code",
      "execution_count": 10,
      "metadata": {
        "execution": {},
        "id": "RSr6FOedu8eR"
      },
      "outputs": [],
      "source": [
        "# Jinja2 HTML template\n",
        "template_str = '''\n",
        "<html lang=\"en\">\n",
        "    <body>\n",
        "        <div style=\"width: 50%; margin: 100px auto\">\n",
        "            <h1>Platform Info</h1>\n",
        "            <table>\n",
        "                <tr style=\"width:\">\n",
        "                    <th style=\"width: 200px\">Property</th>\n",
        "                    <th>Value</th>\n",
        "                </tr>\n",
        "\n",
        "                {% for key, value in platform.items() %}\n",
        "                <tr>\n",
        "                    <td style=\"width: 200px\">{{ key }}</td>\n",
        "                    <td>{{ value }}</td>\n",
        "                </tr>\n",
        "                {% endfor %}\n",
        "\n",
        "            </table>\n",
        "        </div>\n",
        "    </body>\n",
        "</html>\n",
        "'''"
      ]
    },
    {
      "cell_type": "markdown",
      "metadata": {
        "execution": {},
        "id": "otus3WAku8eR"
      },
      "source": [
        "You can then render the template passing the platform properties that you can retrieve using the `platform` package."
      ]
    },
    {
      "cell_type": "code",
      "execution_count": 11,
      "metadata": {
        "execution": {},
        "id": "Psvxc2LMu8eR"
      },
      "outputs": [],
      "source": [
        "app = Flask(__name__)\n",
        "\n",
        "@app.route(\"/\")\n",
        "def home():\n",
        "  # Get the platform properties as a dict\n",
        "  properties = platform.uname()._asdict()\n",
        "\n",
        "  # Render the Jinja2 template\n",
        "  return render_template_string(template_str, platform=properties)\n",
        "\n",
        "\n",
        "run_with_ngrok(app)\n",
        "\n",
        "## Uncomment below to run the app\n",
        "# app.run()"
      ]
    },
    {
      "cell_type": "markdown",
      "metadata": {
        "execution": {},
        "id": "BBqSxSfFu8eR"
      },
      "source": [
        "## Section 2.3: Apply the MVVM Design Pattern"
      ]
    },
    {
      "cell_type": "code",
      "execution_count": 12,
      "metadata": {
        "cellView": "form",
        "execution": {},
        "id": "zwu3Nmzau8eR",
        "outputId": "7bc55727-1923-4847-d19d-cffcdb8f59f3",
        "colab": {
          "base_uri": "https://localhost:8080/",
          "height": 581,
          "referenced_widgets": [
            "74ec7c2e588448daa669f72d991a4e8f",
            "541726252e0140df85aabd39e10e8cd9",
            "f38a03a0c4e240f4b14dc87ecfc4d48c",
            "451b84ca5e6742ea9f077cfc660ac9cc",
            "60d4cb793431445191d71ccbe86d2398",
            "6bfc161076dd4e7fa517b305aa9a1c8b"
          ]
        }
      },
      "outputs": [
        {
          "output_type": "display_data",
          "data": {
            "text/plain": [
              "Tab(children=(Output(), Output()), _titles={'0': 'Youtube', '1': 'Bilibili'})"
            ],
            "application/vnd.jupyter.widget-view+json": {
              "version_major": 2,
              "version_minor": 0,
              "model_id": "74ec7c2e588448daa669f72d991a4e8f"
            }
          },
          "metadata": {}
        }
      ],
      "source": [
        "# @title Video 4: Using the MVVM Design Pattern\n",
        "from ipywidgets import widgets\n",
        "from IPython.display import YouTubeVideo\n",
        "from IPython.display import IFrame\n",
        "from IPython.display import display\n",
        "\n",
        "\n",
        "class PlayVideo(IFrame):\n",
        "  def __init__(self, id, source, page=1, width=400, height=300, **kwargs):\n",
        "    self.id = id\n",
        "    if source == 'Bilibili':\n",
        "      src = f'https://player.bilibili.com/player.html?bvid={id}&page={page}'\n",
        "    elif source == 'Osf':\n",
        "      src = f'https://mfr.ca-1.osf.io/render?url=https://osf.io/download/{id}/?direct%26mode=render'\n",
        "    super(PlayVideo, self).__init__(src, width, height, **kwargs)\n",
        "\n",
        "\n",
        "def display_videos(video_ids, W=400, H=300, fs=1):\n",
        "  tab_contents = []\n",
        "  for i, video_id in enumerate(video_ids):\n",
        "    out = widgets.Output()\n",
        "    with out:\n",
        "      if video_ids[i][0] == 'Youtube':\n",
        "        video = YouTubeVideo(id=video_ids[i][1], width=W,\n",
        "                             height=H, fs=fs, rel=0)\n",
        "        print(f'Video available at https://youtube.com/watch?v={video.id}')\n",
        "      else:\n",
        "        video = PlayVideo(id=video_ids[i][1], source=video_ids[i][0], width=W,\n",
        "                          height=H, fs=fs, autoplay=False)\n",
        "        if video_ids[i][0] == 'Bilibili':\n",
        "          print(f'Video available at https://www.bilibili.com/video/{video.id}')\n",
        "        elif video_ids[i][0] == 'Osf':\n",
        "          print(f'Video available at https://osf.io/{video.id}')\n",
        "      display(video)\n",
        "    tab_contents.append(out)\n",
        "  return tab_contents\n",
        "\n",
        "\n",
        "video_ids = [('Youtube', '13bFN4L6c9I'), ('Bilibili', 'BV1YA411P766')]\n",
        "tab_contents = display_videos(video_ids, W=854, H=480)\n",
        "tabs = widgets.Tab()\n",
        "tabs.children = tab_contents\n",
        "for i in range(len(tab_contents)):\n",
        "  tabs.set_title(i, video_ids[i][0])\n",
        "display(tabs)"
      ]
    },
    {
      "cell_type": "markdown",
      "metadata": {
        "execution": {},
        "id": "9Hktjb8Gu8eR"
      },
      "source": [
        "Design patterns provide a way of writing reusable, adaptable, and extendable code. Design patterns are not libraries, but rather a set of best practices to follow when designing your software.\n",
        "\n",
        "Model View View-Model (MVVM) is a powerful design pattern commonly used in web applications (and other GUI applications).\n",
        "* **View** - this is that part of your code the user interacts with (the web page)\n",
        "* **Model** - this is the representation of the data that you want to interact with.\n",
        "* **View-Model** - this is the part that handles the application state and that transforms the data from the Model to a representation suitable for display and back.\n",
        "\n",
        "<img src=\"https://raw.githubusercontent.com/NeuromatchAcademy/course-content-dl/main/tutorials/W2D4_GenerativeModels/static/deploy.png\">"
      ]
    },
    {
      "cell_type": "markdown",
      "metadata": {
        "execution": {},
        "id": "DZtN-P_Fu8eR"
      },
      "source": [
        "Let's implement the MVVM pattern in Flask. You will first create classes for each of the 3 parts of the MVVM pattern used to display information about 2D points."
      ]
    },
    {
      "cell_type": "code",
      "execution_count": 13,
      "metadata": {
        "execution": {},
        "id": "HQKOx_OHu8eR"
      },
      "outputs": [],
      "source": [
        "class PointModel:\n",
        "  \"\"\"\n",
        "  Simple point Model storing a 2D point\n",
        "  \"\"\"\n",
        "\n",
        "  # Initialize a 2D point\n",
        "  def __init__(self, x, y):\n",
        "    self.x = x\n",
        "    self.y = y\n",
        "\n",
        "\n",
        "class PointView(Resource):\n",
        "  \"\"\"\n",
        "  Simple View displaying the information about a 2D point\n",
        "  \"\"\"\n",
        "\n",
        "  def get(self):\n",
        "    point = PointViewModel.get_sample_data()\n",
        "    return f\"Point: (x={point.x}, y={point.y})\"\n",
        "\n",
        "\n",
        "class PointViewModel:\n",
        "  \"\"\"\n",
        "  ViewModel - Simple ViewModel retrieving the data and passing it to the view\n",
        "  \"\"\"\n",
        "\n",
        "  # Create some sample data\n",
        "  @classmethod\n",
        "  def get_sample_data(cls):\n",
        "    return PointModel(2, 5)\n",
        "\n",
        "  # Register a handler for \"/\" in the API calling the PointView\n",
        "  def setup(self, api):\n",
        "    api.add_resource(PointView, '/')"
      ]
    },
    {
      "cell_type": "markdown",
      "metadata": {
        "execution": {},
        "id": "Xejs75OHu8eS"
      },
      "source": [
        "You can now create your Flask app and use the `Api` object where you can register your ViewModel."
      ]
    },
    {
      "cell_type": "code",
      "execution_count": 14,
      "metadata": {
        "execution": {},
        "id": "e8oLTf4xu8eS"
      },
      "outputs": [],
      "source": [
        "# Create a Flask app\n",
        "app = Flask(__name__)\n",
        "\n",
        "# Create an Api object where different ViewModels can be registered\n",
        "api = Api(app)\n",
        "\n",
        "# Create a PointViewModel and register it to the API\n",
        "pvm = PointViewModel()\n",
        "pvm.setup(api)\n",
        "\n",
        "# Run with ngrok\n",
        "run_with_ngrok(app)\n",
        "\n",
        "## Uncomment below to run the app\n",
        "# app.run()"
      ]
    },
    {
      "cell_type": "markdown",
      "metadata": {
        "execution": {},
        "id": "LNpaSECwu8eS"
      },
      "source": [
        "## Section 2.4: Creating a REST API\n"
      ]
    },
    {
      "cell_type": "code",
      "execution_count": 15,
      "metadata": {
        "cellView": "form",
        "execution": {},
        "id": "MaHiG8uzu8eS",
        "outputId": "4791484c-bb4a-41ca-db28-03fb7c26f148",
        "colab": {
          "base_uri": "https://localhost:8080/",
          "height": 581,
          "referenced_widgets": [
            "4298e1c89fc04312853a87a65a307a5d",
            "e018d004217a4f43b7f5689f798a6dea",
            "73f7041f18a8475f9ab9e3bb3a8f9667",
            "eb150f66028d4728bd548fedf9d615dd",
            "44d15233a1fe4e2ebb7806dceaa1b7c6",
            "c14f6f24373c466f9b51627ac76746d1"
          ]
        }
      },
      "outputs": [
        {
          "output_type": "display_data",
          "data": {
            "text/plain": [
              "Tab(children=(Output(), Output()), _titles={'0': 'Youtube', '1': 'Bilibili'})"
            ],
            "application/vnd.jupyter.widget-view+json": {
              "version_major": 2,
              "version_minor": 0,
              "model_id": "4298e1c89fc04312853a87a65a307a5d"
            }
          },
          "metadata": {}
        }
      ],
      "source": [
        "# @title Video 5: REST API\n",
        "from ipywidgets import widgets\n",
        "from IPython.display import YouTubeVideo\n",
        "from IPython.display import IFrame\n",
        "from IPython.display import display\n",
        "\n",
        "\n",
        "class PlayVideo(IFrame):\n",
        "  def __init__(self, id, source, page=1, width=400, height=300, **kwargs):\n",
        "    self.id = id\n",
        "    if source == 'Bilibili':\n",
        "      src = f'https://player.bilibili.com/player.html?bvid={id}&page={page}'\n",
        "    elif source == 'Osf':\n",
        "      src = f'https://mfr.ca-1.osf.io/render?url=https://osf.io/download/{id}/?direct%26mode=render'\n",
        "    super(PlayVideo, self).__init__(src, width, height, **kwargs)\n",
        "\n",
        "\n",
        "def display_videos(video_ids, W=400, H=300, fs=1):\n",
        "  tab_contents = []\n",
        "  for i, video_id in enumerate(video_ids):\n",
        "    out = widgets.Output()\n",
        "    with out:\n",
        "      if video_ids[i][0] == 'Youtube':\n",
        "        video = YouTubeVideo(id=video_ids[i][1], width=W,\n",
        "                             height=H, fs=fs, rel=0)\n",
        "        print(f'Video available at https://youtube.com/watch?v={video.id}')\n",
        "      else:\n",
        "        video = PlayVideo(id=video_ids[i][1], source=video_ids[i][0], width=W,\n",
        "                          height=H, fs=fs, autoplay=False)\n",
        "        if video_ids[i][0] == 'Bilibili':\n",
        "          print(f'Video available at https://www.bilibili.com/video/{video.id}')\n",
        "        elif video_ids[i][0] == 'Osf':\n",
        "          print(f'Video available at https://osf.io/{video.id}')\n",
        "      display(video)\n",
        "    tab_contents.append(out)\n",
        "  return tab_contents\n",
        "\n",
        "\n",
        "video_ids = [('Youtube', 'cIjaEE6tKpk'), ('Bilibili', 'BV1A64y1z74c')]\n",
        "tab_contents = display_videos(video_ids, W=854, H=480)\n",
        "tabs = widgets.Tab()\n",
        "tabs.children = tab_contents\n",
        "for i in range(len(tab_contents)):\n",
        "  tabs.set_title(i, video_ids[i][0])\n",
        "display(tabs)"
      ]
    },
    {
      "cell_type": "markdown",
      "metadata": {
        "execution": {},
        "id": "bMJvXHRIu8eS"
      },
      "source": [
        "REST (Representational State Transfer) is a set of rules according to which APIs are designed to enable your service to interact with other services. If HTML pages are interfaces designed for humans, you can think about REST APIs as interfaces made for computers.\n",
        "\n",
        "A common way to implement a REST API is for your application to respond to certain requests by returning a JSON string containing the required data.\n",
        "\n",
        "Let's now create a new View and ViewModel that will provide the platform properties in JSON format."
      ]
    },
    {
      "cell_type": "code",
      "execution_count": 16,
      "metadata": {
        "execution": {},
        "id": "ipYjMCuKu8eS"
      },
      "outputs": [],
      "source": [
        "class PlatformView(Resource):\n",
        "  \"\"\"\n",
        "  New view displaying some Platform Properties\n",
        "  \"\"\"\n",
        "\n",
        "  def get(self):\n",
        "    \"\"\"\n",
        "      This examples uses PlatformView Resource\n",
        "      It works also with swag_from, schemas and spec_dict\n",
        "      ---\n",
        "      responses:\n",
        "        200:\n",
        "          description: A single Machine item\n",
        "          schema:\n",
        "            id: Machine\n",
        "            properties:\n",
        "              machine:\n",
        "                type: string\n",
        "                description: The type of the processor\n",
        "                default: None\n",
        "              node:\n",
        "                type: string\n",
        "                description: The name of the current virtual machine\n",
        "                default: None\n",
        "              processor:\n",
        "                type: string\n",
        "                description: The type of the processor arch\n",
        "                default: None\n",
        "              system:\n",
        "                type: string\n",
        "                description: The name of the user\n",
        "                default: None\n",
        "      \"\"\"\n",
        "\n",
        "    # Specification of the returned data\n",
        "    resource_fields = {\n",
        "        'system': fields.String,\n",
        "        'machine': fields.String,\n",
        "        'processor': fields.String,\n",
        "        'node': fields.String\n",
        "    }\n",
        "\n",
        "    # Serialize the data according to the specification\n",
        "    return marshal(platform.uname()._asdict(), resource_fields)\n",
        "\n",
        "\n",
        "class PlatformViewModel:\n",
        "  \"\"\"\n",
        "  A simple ViewModel that displays the PlatformView at /platform\n",
        "  \"\"\"\n",
        "\n",
        "  def setup(self, api):\n",
        "    api.add_resource(PlatformView, '/platform')"
      ]
    },
    {
      "cell_type": "markdown",
      "metadata": {
        "execution": {},
        "id": "zkvhfVKHu8eS"
      },
      "source": [
        "Note the documentation in the `get` method. We can use the `flasgger` package to automatically create documentation of your REST API. You can access it at `/apidocs`."
      ]
    },
    {
      "cell_type": "code",
      "execution_count": 17,
      "metadata": {
        "execution": {},
        "id": "-psQtmwzu8eS"
      },
      "outputs": [],
      "source": [
        "# Create the Flask app and register the ViewModel\n",
        "app = Flask(__name__)\n",
        "api = Api(app)\n",
        "pvm = PlatformViewModel()\n",
        "pvm.setup(api)\n",
        "\n",
        "# Redirect / to /platform for convenience\n",
        "@app.route('/')\n",
        "def redirect_platform():\n",
        "  return redirect(\"/platform\", code=302)\n",
        "\n",
        "\n",
        "# Register Swagger to create API documentation at /apidocs\n",
        "swg = flasgger.Swagger(app)\n",
        "\n",
        "# Run the app\n",
        "run_with_ngrok(app)\n",
        "\n",
        "## Uncomment below to run the app\n",
        "# app.run()"
      ]
    },
    {
      "cell_type": "markdown",
      "metadata": {
        "execution": {},
        "id": "uZG_rrmzu8eT"
      },
      "source": [
        "---\n",
        "# Section 3: Vue.js"
      ]
    },
    {
      "cell_type": "code",
      "execution_count": 18,
      "metadata": {
        "cellView": "form",
        "execution": {},
        "id": "VzT8Bujcu8eW",
        "outputId": "5a17637e-ea90-4f3d-ddc2-d7f7e2711507",
        "colab": {
          "base_uri": "https://localhost:8080/",
          "height": 581,
          "referenced_widgets": [
            "608dbf7423d2406995650f21509c7d9b",
            "ea6eeee4d3724e3ea102a69012979002",
            "442a756e28f442e8b8f90d93ecf25b23",
            "75eab6c0923245dcb2b8fcd60e984f54",
            "d290601deecb45abbf5d4848ef02dd55",
            "816c85b2514c4fdfb947891e487f4efc"
          ]
        }
      },
      "outputs": [
        {
          "output_type": "display_data",
          "data": {
            "text/plain": [
              "Tab(children=(Output(), Output()), _titles={'0': 'Youtube', '1': 'Bilibili'})"
            ],
            "application/vnd.jupyter.widget-view+json": {
              "version_major": 2,
              "version_minor": 0,
              "model_id": "608dbf7423d2406995650f21509c7d9b"
            }
          },
          "metadata": {}
        }
      ],
      "source": [
        "# @title Video 6: Vue.js\n",
        "from ipywidgets import widgets\n",
        "from IPython.display import YouTubeVideo\n",
        "from IPython.display import IFrame\n",
        "from IPython.display import display\n",
        "\n",
        "\n",
        "class PlayVideo(IFrame):\n",
        "  def __init__(self, id, source, page=1, width=400, height=300, **kwargs):\n",
        "    self.id = id\n",
        "    if source == 'Bilibili':\n",
        "      src = f'https://player.bilibili.com/player.html?bvid={id}&page={page}'\n",
        "    elif source == 'Osf':\n",
        "      src = f'https://mfr.ca-1.osf.io/render?url=https://osf.io/download/{id}/?direct%26mode=render'\n",
        "    super(PlayVideo, self).__init__(src, width, height, **kwargs)\n",
        "\n",
        "\n",
        "def display_videos(video_ids, W=400, H=300, fs=1):\n",
        "  tab_contents = []\n",
        "  for i, video_id in enumerate(video_ids):\n",
        "    out = widgets.Output()\n",
        "    with out:\n",
        "      if video_ids[i][0] == 'Youtube':\n",
        "        video = YouTubeVideo(id=video_ids[i][1], width=W,\n",
        "                             height=H, fs=fs, rel=0)\n",
        "        print(f'Video available at https://youtube.com/watch?v={video.id}')\n",
        "      else:\n",
        "        video = PlayVideo(id=video_ids[i][1], source=video_ids[i][0], width=W,\n",
        "                          height=H, fs=fs, autoplay=False)\n",
        "        if video_ids[i][0] == 'Bilibili':\n",
        "          print(f'Video available at https://www.bilibili.com/video/{video.id}')\n",
        "        elif video_ids[i][0] == 'Osf':\n",
        "          print(f'Video available at https://osf.io/{video.id}')\n",
        "      display(video)\n",
        "    tab_contents.append(out)\n",
        "  return tab_contents\n",
        "\n",
        "\n",
        "video_ids = [('Youtube', 'PD6l9pkjw-c'), ('Bilibili', 'BV1Yv411K7GS')]\n",
        "tab_contents = display_videos(video_ids, W=854, H=480)\n",
        "tabs = widgets.Tab()\n",
        "tabs.children = tab_contents\n",
        "for i in range(len(tab_contents)):\n",
        "  tabs.set_title(i, video_ids[i][0])\n",
        "display(tabs)"
      ]
    },
    {
      "cell_type": "markdown",
      "metadata": {
        "execution": {},
        "id": "zN-YqHcru8eW"
      },
      "source": [
        "We already talked about the MVVM pattern and implemented it using a back end framework - Flask. Applying the same pattern on the front end can also be beneficial when creating dynamic applications.\n",
        "\n",
        "Vue.js is a great front end library that implements the MVVM design pattern. It is widely used for creating user interfaces and single-page applications.\n",
        "\n",
        "In this section, you will learn how to implement a simple Vue.js front end that fetches data from the platform REST API we created in the previous section."
      ]
    },
    {
      "cell_type": "markdown",
      "metadata": {
        "execution": {},
        "id": "aUppT-ogu8eX"
      },
      "source": [
        "## Section 3.1: Defining the Vue Template\n",
        "\n",
        "We define our HTML template similarly to Jinja. The big difference is that the Vue template is rendered dynamically after the page is loaded, while the Jinja templates are rendered in the backend before the page is served.\n",
        "\n",
        "Using variables is very similar to Jinja, but now you also have some JavaScript code handling the state of the application and the binding to the data. You can use the `axois` package to fetch data from our platform REST API, when Vue is initialized (mounted)."
      ]
    },
    {
      "cell_type": "code",
      "execution_count": 19,
      "metadata": {
        "execution": {},
        "id": "GBX4i0jEu8eX"
      },
      "outputs": [],
      "source": [
        "vue_template = \"\"\"\n",
        "<html>\n",
        "    <head>\n",
        "        <script src=\"https://cdn.jsdelivr.net/npm/vue/dist/vue.js\"></script>\n",
        "        <script src=\"https://cdnjs.cloudflare.com/ajax/libs/axios/0.21.1/axios.min.js\"></script>\n",
        "    </head>\n",
        "    <body>\n",
        "\n",
        "        <div id=\"app\">\n",
        "            <ul>\n",
        "                <li><strong>System:    </strong>{{ platform.system }}</li>\n",
        "                <li><strong>Machine:   </strong>{{ platform.machine }}</li>\n",
        "                <li><strong>Processor: </strong>{{ platform.processor }}</li>\n",
        "                <li><strong>Node:      </strong>{{ platform.node }}</li>\n",
        "            </ul>\n",
        "        </div>\n",
        "\n",
        "        <script >\n",
        "            var app = new Vue({\n",
        "                el: '#app',\n",
        "                data() {\n",
        "                    return {\n",
        "                        platform: null\n",
        "                    }\n",
        "                },\n",
        "                mounted () {\n",
        "                    axios.get('/platform')\n",
        "                      .then(response => (this.platform = response.data))\n",
        "                }\n",
        "            });\n",
        "        </script>\n",
        "\n",
        "    </body>\n",
        "</html>\n",
        "\"\"\""
      ]
    },
    {
      "cell_type": "markdown",
      "metadata": {
        "execution": {},
        "id": "fk64xR6Mu8eX"
      },
      "source": [
        "## Section 3.2: Serving the Vue.js App\n",
        "\n",
        "You can now again run your Flask app and serve the Vue template from the root URL. We are still using Flask to implement our logic on the backend and provide the platform REST API.\n",
        "\n",
        "This way of doing things may seem more complicated, but it has the advantage that it is dynamic. In the next section, we will add some dynamic functionality."
      ]
    },
    {
      "cell_type": "code",
      "execution_count": 20,
      "metadata": {
        "execution": {},
        "id": "Tq5n00Twu8eX"
      },
      "outputs": [],
      "source": [
        "# Create the Flask app with the previously defined platform API\n",
        "app = Flask(__name__)\n",
        "api = Api(app)\n",
        "# Serve the Platform REST API\n",
        "pvm = PlatformViewModel()\n",
        "pvm.setup(api)\n",
        "swg = flasgger.Swagger(app)\n",
        "\n",
        "# Serve the Vue template page at /\n",
        "@app.route(\"/\")\n",
        "def home():\n",
        "  return vue_template\n",
        "\n",
        "\n",
        "# Run the app\n",
        "run_with_ngrok(app)\n",
        "\n",
        "## Uncomment below to run the app\n",
        "# app.run()"
      ]
    },
    {
      "cell_type": "markdown",
      "metadata": {
        "execution": {},
        "id": "kHFJNk2Du8eX"
      },
      "source": [
        "---\n",
        "# Section 4: Model Presentation"
      ]
    },
    {
      "cell_type": "code",
      "execution_count": 21,
      "metadata": {
        "cellView": "form",
        "execution": {},
        "id": "8yeQBS2Su8eX",
        "outputId": "36e9dc83-0876-4053-a703-7bf269d2a503",
        "colab": {
          "base_uri": "https://localhost:8080/",
          "height": 581,
          "referenced_widgets": [
            "e9c5a393abcf414d8c7da0157cb5ffc0",
            "1e6a9b14a000415390f0dfe51d15eaf8",
            "f86ced71da044e6c9824d5cdb7ad69a0",
            "552933dc1e05450aa2b223d21f172927",
            "351164437bb24e96a9ebf3730e59d04f",
            "bf2ac203f6564cc9b415f1679bdeea03"
          ]
        }
      },
      "outputs": [
        {
          "output_type": "display_data",
          "data": {
            "text/plain": [
              "Tab(children=(Output(), Output()), _titles={'0': 'Youtube', '1': 'Bilibili'})"
            ],
            "application/vnd.jupyter.widget-view+json": {
              "version_major": 2,
              "version_minor": 0,
              "model_id": "e9c5a393abcf414d8c7da0157cb5ffc0"
            }
          },
          "metadata": {}
        }
      ],
      "source": [
        "# @title Video 7: Deploying a PyTorch model\n",
        "from ipywidgets import widgets\n",
        "from IPython.display import YouTubeVideo\n",
        "from IPython.display import IFrame\n",
        "from IPython.display import display\n",
        "\n",
        "\n",
        "class PlayVideo(IFrame):\n",
        "  def __init__(self, id, source, page=1, width=400, height=300, **kwargs):\n",
        "    self.id = id\n",
        "    if source == 'Bilibili':\n",
        "      src = f'https://player.bilibili.com/player.html?bvid={id}&page={page}'\n",
        "    elif source == 'Osf':\n",
        "      src = f'https://mfr.ca-1.osf.io/render?url=https://osf.io/download/{id}/?direct%26mode=render'\n",
        "    super(PlayVideo, self).__init__(src, width, height, **kwargs)\n",
        "\n",
        "\n",
        "def display_videos(video_ids, W=400, H=300, fs=1):\n",
        "  tab_contents = []\n",
        "  for i, video_id in enumerate(video_ids):\n",
        "    out = widgets.Output()\n",
        "    with out:\n",
        "      if video_ids[i][0] == 'Youtube':\n",
        "        video = YouTubeVideo(id=video_ids[i][1], width=W,\n",
        "                             height=H, fs=fs, rel=0)\n",
        "        print(f'Video available at https://youtube.com/watch?v={video.id}')\n",
        "      else:\n",
        "        video = PlayVideo(id=video_ids[i][1], source=video_ids[i][0], width=W,\n",
        "                          height=H, fs=fs, autoplay=False)\n",
        "        if video_ids[i][0] == 'Bilibili':\n",
        "          print(f'Video available at https://www.bilibili.com/video/{video.id}')\n",
        "        elif video_ids[i][0] == 'Osf':\n",
        "          print(f'Video available at https://osf.io/{video.id}')\n",
        "      display(video)\n",
        "    tab_contents.append(out)\n",
        "  return tab_contents\n",
        "\n",
        "\n",
        "video_ids = [('Youtube', '6UCLk37XWDs'), ('Bilibili', 'BV1Zb4y1z7aT')]\n",
        "tab_contents = display_videos(video_ids, W=854, H=480)\n",
        "tabs = widgets.Tab()\n",
        "tabs.children = tab_contents\n",
        "for i in range(len(tab_contents)):\n",
        "  tabs.set_title(i, video_ids[i][0])\n",
        "display(tabs)"
      ]
    },
    {
      "cell_type": "markdown",
      "metadata": {
        "execution": {},
        "id": "vtrLJlkVu8eX"
      },
      "source": [
        "Now (finally) we have all the tools we need to deploy our neural network! We are going to use a pre-trained DenseNet mode. In the first step, we are going to create an API entry point that accepts an image as input and classifies it. After that, we will create a dynamic UI for easier interaction."
      ]
    },
    {
      "cell_type": "markdown",
      "metadata": {
        "execution": {},
        "id": "mc0XQRsHu8eY"
      },
      "source": [
        "## Section 4.1: Image Classification API"
      ]
    },
    {
      "cell_type": "code",
      "execution_count": 22,
      "metadata": {
        "cellView": "form",
        "execution": {},
        "id": "Ik1gSRgDu8eY",
        "outputId": "545fe475-0b81-420d-c9c5-28f8eb0dd316",
        "colab": {
          "base_uri": "https://localhost:8080/",
          "height": 581,
          "referenced_widgets": [
            "8356598d6ffe4a3d91ec04f41acf7223",
            "57f9a6a5884643bf862973613cefcdd9",
            "3525a84e71634b0f8f84ae2591069e06",
            "6d1dd60da6da466b93d82be9aa6b4ff0",
            "5d8b1d86b510428c92cf984d58f18c44",
            "b9dafbd7f73648e89bb14c16e8748eb3"
          ]
        }
      },
      "outputs": [
        {
          "output_type": "display_data",
          "data": {
            "text/plain": [
              "Tab(children=(Output(), Output()), _titles={'0': 'Youtube', '1': 'Bilibili'})"
            ],
            "application/vnd.jupyter.widget-view+json": {
              "version_major": 2,
              "version_minor": 0,
              "model_id": "8356598d6ffe4a3d91ec04f41acf7223"
            }
          },
          "metadata": {}
        }
      ],
      "source": [
        "# @title Video 8: Classification with a Pre-trained Model\n",
        "from ipywidgets import widgets\n",
        "from IPython.display import YouTubeVideo\n",
        "from IPython.display import IFrame\n",
        "from IPython.display import display\n",
        "\n",
        "\n",
        "class PlayVideo(IFrame):\n",
        "  def __init__(self, id, source, page=1, width=400, height=300, **kwargs):\n",
        "    self.id = id\n",
        "    if source == 'Bilibili':\n",
        "      src = f'https://player.bilibili.com/player.html?bvid={id}&page={page}'\n",
        "    elif source == 'Osf':\n",
        "      src = f'https://mfr.ca-1.osf.io/render?url=https://osf.io/download/{id}/?direct%26mode=render'\n",
        "    super(PlayVideo, self).__init__(src, width, height, **kwargs)\n",
        "\n",
        "\n",
        "def display_videos(video_ids, W=400, H=300, fs=1):\n",
        "  tab_contents = []\n",
        "  for i, video_id in enumerate(video_ids):\n",
        "    out = widgets.Output()\n",
        "    with out:\n",
        "      if video_ids[i][0] == 'Youtube':\n",
        "        video = YouTubeVideo(id=video_ids[i][1], width=W,\n",
        "                             height=H, fs=fs, rel=0)\n",
        "        print(f'Video available at https://youtube.com/watch?v={video.id}')\n",
        "      else:\n",
        "        video = PlayVideo(id=video_ids[i][1], source=video_ids[i][0], width=W,\n",
        "                          height=H, fs=fs, autoplay=False)\n",
        "        if video_ids[i][0] == 'Bilibili':\n",
        "          print(f'Video available at https://www.bilibili.com/video/{video.id}')\n",
        "        elif video_ids[i][0] == 'Osf':\n",
        "          print(f'Video available at https://osf.io/{video.id}')\n",
        "      display(video)\n",
        "    tab_contents.append(out)\n",
        "  return tab_contents\n",
        "\n",
        "\n",
        "video_ids = [('Youtube', 'UGByJ-_0whk'), ('Bilibili', 'BV1Dq4y1n7ks')]\n",
        "tab_contents = display_videos(video_ids, W=854, H=480)\n",
        "tabs = widgets.Tab()\n",
        "tabs.children = tab_contents\n",
        "for i in range(len(tab_contents)):\n",
        "  tabs.set_title(i, video_ids[i][0])\n",
        "display(tabs)"
      ]
    },
    {
      "cell_type": "markdown",
      "metadata": {
        "execution": {},
        "id": "7SLAxTPZu8eY"
      },
      "source": [
        "First, we need to load a pre-trained DenseNet trained on ImageNet. You can use `torchvision.models` to quickly get a pre-trained model for many popular neural network architectures."
      ]
    },
    {
      "cell_type": "code",
      "execution_count": 23,
      "metadata": {
        "execution": {},
        "id": "bWVv_tWLu8eY",
        "outputId": "db776765-c50d-45d4-acc7-eaeaea43648c",
        "colab": {
          "base_uri": "https://localhost:8080/"
        }
      },
      "outputs": [
        {
          "output_type": "stream",
          "name": "stderr",
          "text": [
            "/usr/local/lib/python3.10/dist-packages/torchvision/models/_utils.py:208: UserWarning: The parameter 'pretrained' is deprecated since 0.13 and may be removed in the future, please use 'weights' instead.\n",
            "  warnings.warn(\n",
            "/usr/local/lib/python3.10/dist-packages/torchvision/models/_utils.py:223: UserWarning: Arguments other than a weight enum or `None` for 'weights' are deprecated since 0.13 and may be removed in the future. The current behavior is equivalent to passing `weights=DenseNet121_Weights.IMAGENET1K_V1`. You can also use `weights=DenseNet121_Weights.DEFAULT` to get the most up-to-date weights.\n",
            "  warnings.warn(msg)\n",
            "Downloading: \"https://download.pytorch.org/models/densenet121-a639ec97.pth\" to /root/.cache/torch/hub/checkpoints/densenet121-a639ec97.pth\n",
            "100%|██████████| 30.8M/30.8M [00:00<00:00, 116MB/s] \n"
          ]
        }
      ],
      "source": [
        "# Load a pre-trainied DenseNet model from torchvision.models\n",
        "model = models.densenet121(pretrained=True)\n",
        "\n",
        "# Switch the model to evaluation mode\n",
        "model.eval()\n",
        "\n",
        "# Load the class labels from a file\n",
        "class_labels_url = \"https://raw.githubusercontent.com/pytorch/hub/master/imagenet_classes.txt\"\n",
        "class_labels = urlopen(class_labels_url).read().decode(\"utf-8\").split(\"\\n\")\n",
        "\n",
        "# Define the transformation of the input image\n",
        "transform = transforms.Compose([\n",
        "    transforms.Resize(256),\n",
        "    transforms.CenterCrop(224),\n",
        "    transforms.ToTensor(),\n",
        "    transforms.Normalize(mean=[0.485, 0.456, 0.406], std=[0.229, 0.224, 0.225]),\n",
        "])"
      ]
    },
    {
      "cell_type": "markdown",
      "metadata": {
        "execution": {},
        "id": "bphexdgEu8eY"
      },
      "source": [
        "Define a function to predict the most likely class using the model. Note that we need to pass a batch of images to the model. Since we have only 1, we can just use `unsqueeze(0)` to add an additional dimension."
      ]
    },
    {
      "cell_type": "code",
      "execution_count": 24,
      "metadata": {
        "execution": {},
        "id": "K_9Np40Iu8eY"
      },
      "outputs": [],
      "source": [
        "def predict(model, transform, image, class_labels):\n",
        "  # Transform the image and convert it to a tensor\n",
        "  image_tensor = transform(image).unsqueeze(0)\n",
        "\n",
        "  # Pass the image through the model\n",
        "  with torch.no_grad():\n",
        "    output = model(image_tensor)\n",
        "\n",
        "  # Select the class with the higherst probability and look up the name\n",
        "  class_id = torch.argmax(output).item()\n",
        "  class_name = class_labels[class_id]\n",
        "\n",
        "  # Return the class name\n",
        "  return class_name"
      ]
    },
    {
      "cell_type": "markdown",
      "metadata": {
        "execution": {},
        "id": "_1oE4NAju8eY"
      },
      "source": [
        "Let's test the `predict` function using an image of a [dog](https://unsplash.com/photos/2l0CWTpcChI/download?force=true&w=640)."
      ]
    },
    {
      "cell_type": "code",
      "execution_count": 25,
      "metadata": {
        "execution": {},
        "id": "76lGAnXWu8eZ",
        "outputId": "8a04a494-61a9-48b9-fd66-464fbbe24fd7",
        "colab": {
          "base_uri": "https://localhost:8080/",
          "height": 395
        }
      },
      "outputs": [
        {
          "output_type": "display_data",
          "data": {
            "text/plain": [
              "<PIL.JpegImagePlugin.JpegImageFile image mode=RGB size=480x360 at 0x7F67A8694EB0>"
            ],
            "image/png": "[encoded data removed]"
          },
          "metadata": {}
        },
        {
          "output_type": "display_data",
          "data": {
            "text/plain": [
              "'English foxhound'"
            ],
            "application/vnd.google.colaboratory.intrinsic+json": {
              "type": "string"
            }
          },
          "metadata": {}
        }
      ],
      "source": [
        "# Load and display the image\n",
        "dog_image = Image.open(io.BytesIO(urlopen(\"https://unsplash.com/photos/2l0CWTpcChI/download?force=true&w=480\").read()))\n",
        "display(dog_image)\n",
        "\n",
        "# Classify the image\n",
        "display(predict(model, transform, dog_image, class_labels))"
      ]
    },
    {
      "cell_type": "markdown",
      "metadata": {
        "execution": {},
        "id": "7_q6n9ETu8eZ"
      },
      "source": [
        "## Section 4.2: Create a Dynamic Application"
      ]
    },
    {
      "cell_type": "code",
      "execution_count": 26,
      "metadata": {
        "cellView": "form",
        "execution": {},
        "id": "RKLDjCSDu8eZ",
        "outputId": "0fd71767-9313-4c74-ee55-a0e0372a8f1c",
        "colab": {
          "base_uri": "https://localhost:8080/",
          "height": 581,
          "referenced_widgets": [
            "5901571ea6d442f19cf3028b0e84d698",
            "ad45e4e32de143fc83da0a9e977e07f3",
            "e5af80d6c45c4cb6b32e72b10f14a59f",
            "784680192c9c4f6dbab50af1ad1e0c83",
            "e210b03349404bd888024c06a3c45e11",
            "2d9329e6f9df4ec4bb2b01c74d15a12c"
          ]
        }
      },
      "outputs": [
        {
          "output_type": "display_data",
          "data": {
            "text/plain": [
              "Tab(children=(Output(), Output()), _titles={'0': 'Youtube', '1': 'Bilibili'})"
            ],
            "application/vnd.jupyter.widget-view+json": {
              "version_major": 2,
              "version_minor": 0,
              "model_id": "5901571ea6d442f19cf3028b0e84d698"
            }
          },
          "metadata": {}
        }
      ],
      "source": [
        "# @title Video 9: Create a Dynamic Application\n",
        "from ipywidgets import widgets\n",
        "from IPython.display import YouTubeVideo\n",
        "from IPython.display import IFrame\n",
        "from IPython.display import display\n",
        "\n",
        "\n",
        "class PlayVideo(IFrame):\n",
        "  def __init__(self, id, source, page=1, width=400, height=300, **kwargs):\n",
        "    self.id = id\n",
        "    if source == 'Bilibili':\n",
        "      src = f'https://player.bilibili.com/player.html?bvid={id}&page={page}'\n",
        "    elif source == 'Osf':\n",
        "      src = f'https://mfr.ca-1.osf.io/render?url=https://osf.io/download/{id}/?direct%26mode=render'\n",
        "    super(PlayVideo, self).__init__(src, width, height, **kwargs)\n",
        "\n",
        "\n",
        "def display_videos(video_ids, W=400, H=300, fs=1):\n",
        "  tab_contents = []\n",
        "  for i, video_id in enumerate(video_ids):\n",
        "    out = widgets.Output()\n",
        "    with out:\n",
        "      if video_ids[i][0] == 'Youtube':\n",
        "        video = YouTubeVideo(id=video_ids[i][1], width=W,\n",
        "                             height=H, fs=fs, rel=0)\n",
        "        print(f'Video available at https://youtube.com/watch?v={video.id}')\n",
        "      else:\n",
        "        video = PlayVideo(id=video_ids[i][1], source=video_ids[i][0], width=W,\n",
        "                          height=H, fs=fs, autoplay=False)\n",
        "        if video_ids[i][0] == 'Bilibili':\n",
        "          print(f'Video available at https://www.bilibili.com/video/{video.id}')\n",
        "        elif video_ids[i][0] == 'Osf':\n",
        "          print(f'Video available at https://osf.io/{video.id}')\n",
        "      display(video)\n",
        "    tab_contents.append(out)\n",
        "  return tab_contents\n",
        "\n",
        "\n",
        "video_ids = [('Youtube', 'DJsK2bc9wuk'), ('Bilibili', 'BV1Vy4y1L7V9')]\n",
        "tab_contents = display_videos(video_ids, W=854, H=480)\n",
        "tabs = widgets.Tab()\n",
        "tabs.children = tab_contents\n",
        "for i in range(len(tab_contents)):\n",
        "  tabs.set_title(i, video_ids[i][0])\n",
        "display(tabs)"
      ]
    },
    {
      "cell_type": "markdown",
      "metadata": {
        "execution": {},
        "id": "0NyKnWDKu8eZ"
      },
      "source": [
        "We will now create a Flask app that receives an image at `/predict` and passes it through the model. We will also implement an interactive UI to upload the image and call the API.\n",
        "\n",
        "The UI consists of a file upload field, a classify button, and an image displaying the uploaded file."
      ]
    },
    {
      "cell_type": "code",
      "execution_count": 27,
      "metadata": {
        "execution": {},
        "id": "SCGObdHnu8eZ"
      },
      "outputs": [],
      "source": [
        "index_template = \"\"\"\n",
        "<html>\n",
        "    <head>\n",
        "        <!-- Load vue.js and axois.js -->\n",
        "        <script src=\"https://cdn.jsdelivr.net/npm/vue/dist/vue.js\"></script>\n",
        "        <script src=\"https://cdnjs.cloudflare.com/ajax/libs/axios/0.21.1/axios.min.js\"></script>\n",
        "    </head>\n",
        "    <body>\n",
        "        <!-- The APP UI -->\n",
        "        <div id=\"app\" style=\"width: 50%; margin: 200px auto\">\n",
        "            <form id=\"imageForm\" enctype=\"multipart/form-data\" method=\"POST\" style=\"text-align: center; display: block\">\n",
        "                <label for=\"imageFile\">Select image to classify:</label\n",
        "                ><input id=\"imageFile\" name=\"file\" type=\"file\" style=\"margin-left: 10px\" />\n",
        "\n",
        "                <img v-if=\"image\" :src=\"image\" style=\"width: 250px; display: block; margin: 50px auto 10px\" />\n",
        "                <div v-if=\"prediction\" style=\"font-size: 32px; font-weight: bold; text-align: center\">\n",
        "                    {{ prediction }}\n",
        "                </div>\n",
        "                <input v-if=\"image\" type=\"submit\" value=\"Classify Image\" style=\"margin: 20px 20px\" />\n",
        "            </form>\n",
        "        </div>\n",
        "\n",
        "        <script>\n",
        "            <!-- The Vue application -->\n",
        "            var app = new Vue({\n",
        "                el: \"#app\",\n",
        "                data() {\n",
        "                    return {\n",
        "                        image: null,\n",
        "                        prediction: null,\n",
        "                    };\n",
        "                },\n",
        "            });\n",
        "\n",
        "            <!-- Calling the predict API when the form is submitted -->\n",
        "            document.getElementById(\"imageForm\").addEventListener(\"submit\", (e) => {\n",
        "                axios\n",
        "                    .post(\"/predict\", new FormData(document.getElementById(\"imageForm\")), {\n",
        "                        headers: {\n",
        "                            \"Content-Type\": \"multipart/form-data\",\n",
        "                        },\n",
        "                    })\n",
        "                    .then((response) => (app.prediction = response.data));\n",
        "\n",
        "                e.preventDefault();\n",
        "            });\n",
        "\n",
        "            <!-- Display the selected image -->\n",
        "            document.getElementById(\"imageFile\").addEventListener(\"change\", (e) => {\n",
        "                const [file] = document.getElementById(\"imageFile\").files;\n",
        "                if (file) {\n",
        "                    app.image = URL.createObjectURL(file);\n",
        "                }\n",
        "            });\n",
        "        </script>\n",
        "    </body>\n",
        "</html>\n",
        "\"\"\""
      ]
    },
    {
      "cell_type": "markdown",
      "metadata": {
        "execution": {},
        "id": "Lm8BIO1Ou8ea"
      },
      "source": [
        "The application has two entry points:\n",
        "\n",
        "* `/` - serve the Vue template with the interactive UI\n",
        "* `/predict` - a REST API classifying the image received as input"
      ]
    },
    {
      "cell_type": "code",
      "execution_count": 28,
      "metadata": {
        "execution": {},
        "id": "UA0GJmMPu8ea"
      },
      "outputs": [],
      "source": [
        "app = Flask(__name__)\n",
        "\n",
        "# Serve the Vue template with the interactive UI\n",
        "@app.route(\"/\")\n",
        "def home():\n",
        "  return index_template\n",
        "\n",
        "\n",
        "# Classification API\n",
        "@app.route(\"/predict\", methods=['POST'])\n",
        "def predict_api():\n",
        "  # Fetch the image from the request and convert it to a Pillow image\n",
        "  image_file = request.files['file']\n",
        "  image_bytes = image_file.read()\n",
        "  image = Image.open(io.BytesIO(image_bytes))\n",
        "\n",
        "  # Predict the class from the image\n",
        "  class_name = predict(model, transform, image, class_labels)\n",
        "\n",
        "  # Return the result\n",
        "  return class_name\n",
        "\n",
        "\n",
        "# Run the app\n",
        "run_with_ngrok(app)\n",
        "\n",
        "## Uncomment below to run the app\n",
        "# app.run()"
      ]
    },
    {
      "cell_type": "markdown",
      "metadata": {
        "execution": {},
        "id": "BtwWMGtqu8ea"
      },
      "source": [
        "---\n",
        "# Section 5: Deploy a Flask app on Heroku"
      ]
    },
    {
      "cell_type": "code",
      "execution_count": 29,
      "metadata": {
        "cellView": "form",
        "execution": {},
        "id": "S5sFhBBju8ea",
        "outputId": "b8b9cb04-7079-44c1-97e0-378711ba881d",
        "colab": {
          "base_uri": "https://localhost:8080/",
          "height": 581,
          "referenced_widgets": [
            "09a19c2d71224380b249b26c6872196c",
            "c6f23085380849d4b0f8c33d1c2d4043",
            "5d5ae25ff9f0438cbf22e614c63ac75d",
            "8705f6afe6e948a29ab8f9f70c00f420",
            "e14f692243574f8cba33cfc98d105822",
            "24b35aad89c8478cae84d453e2034745"
          ]
        }
      },
      "outputs": [
        {
          "output_type": "display_data",
          "data": {
            "text/plain": [
              "Tab(children=(Output(), Output()), _titles={'0': 'Youtube', '1': 'Bilibili'})"
            ],
            "application/vnd.jupyter.widget-view+json": {
              "version_major": 2,
              "version_minor": 0,
              "model_id": "09a19c2d71224380b249b26c6872196c"
            }
          },
          "metadata": {}
        }
      ],
      "source": [
        "# @title Video 10: Deploy on Heroku\n",
        "from ipywidgets import widgets\n",
        "from IPython.display import YouTubeVideo\n",
        "from IPython.display import IFrame\n",
        "from IPython.display import display\n",
        "\n",
        "\n",
        "class PlayVideo(IFrame):\n",
        "  def __init__(self, id, source, page=1, width=400, height=300, **kwargs):\n",
        "    self.id = id\n",
        "    if source == 'Bilibili':\n",
        "      src = f'https://player.bilibili.com/player.html?bvid={id}&page={page}'\n",
        "    elif source == 'Osf':\n",
        "      src = f'https://mfr.ca-1.osf.io/render?url=https://osf.io/download/{id}/?direct%26mode=render'\n",
        "    super(PlayVideo, self).__init__(src, width, height, **kwargs)\n",
        "\n",
        "\n",
        "def display_videos(video_ids, W=400, H=300, fs=1):\n",
        "  tab_contents = []\n",
        "  for i, video_id in enumerate(video_ids):\n",
        "    out = widgets.Output()\n",
        "    with out:\n",
        "      if video_ids[i][0] == 'Youtube':\n",
        "        video = YouTubeVideo(id=video_ids[i][1], width=W,\n",
        "                             height=H, fs=fs, rel=0)\n",
        "        print(f'Video available at https://youtube.com/watch?v={video.id}')\n",
        "      else:\n",
        "        video = PlayVideo(id=video_ids[i][1], source=video_ids[i][0], width=W,\n",
        "                          height=H, fs=fs, autoplay=False)\n",
        "        if video_ids[i][0] == 'Bilibili':\n",
        "          print(f'Video available at https://www.bilibili.com/video/{video.id}')\n",
        "        elif video_ids[i][0] == 'Osf':\n",
        "          print(f'Video available at https://osf.io/{video.id}')\n",
        "      display(video)\n",
        "    tab_contents.append(out)\n",
        "  return tab_contents\n",
        "\n",
        "\n",
        "video_ids = [('Youtube', 'kaf6z-tAxCY'), ('Bilibili', 'BV1oo4y1S77Z')]\n",
        "tab_contents = display_videos(video_ids, W=854, H=480)\n",
        "tabs = widgets.Tab()\n",
        "tabs.children = tab_contents\n",
        "for i in range(len(tab_contents)):\n",
        "  tabs.set_title(i, video_ids[i][0])\n",
        "display(tabs)"
      ]
    },
    {
      "cell_type": "markdown",
      "metadata": {
        "execution": {},
        "id": "mabdfJ9Hu8ea"
      },
      "source": [
        "Now you are going to deploy your application as a real web server outside of the notebook. We are going to use Heroku for this. Heroku is a PaaS (Platform-as-a-Service) that offers pre-configured environments so you can deploy an application easily and quickly. They also offer a free tier which is enough for deploying simple apps.\n",
        "\n",
        "But first, you need to test your application locally."
      ]
    },
    {
      "cell_type": "markdown",
      "metadata": {
        "execution": {},
        "id": "CimnJe3yu8eb"
      },
      "source": [
        "## Section 5.1: Preparing Your Environment\n"
      ]
    },
    {
      "cell_type": "code",
      "execution_count": 30,
      "metadata": {
        "cellView": "form",
        "execution": {},
        "id": "RJjtsZg-u8eb",
        "outputId": "529de31d-cb9a-4e91-b0c3-5ff57fd24f96",
        "colab": {
          "base_uri": "https://localhost:8080/",
          "height": 581,
          "referenced_widgets": [
            "a48e1cc4ce784764bc04abfdc4f433dd",
            "5b4b6a43aa3742c3becd2b6fe4f17343",
            "0604e01571db4873811cfd176edadcd9",
            "e63d64faf0d94082b47a817edf947aad",
            "0ed27c827c794ade85365e4d7ec70904",
            "6de92e188a874c2abf531a141ea453de"
          ]
        }
      },
      "outputs": [
        {
          "output_type": "display_data",
          "data": {
            "text/plain": [
              "Tab(children=(Output(), Output()), _titles={'0': 'Youtube', '1': 'Bilibili'})"
            ],
            "application/vnd.jupyter.widget-view+json": {
              "version_major": 2,
              "version_minor": 0,
              "model_id": "a48e1cc4ce784764bc04abfdc4f433dd"
            }
          },
          "metadata": {}
        }
      ],
      "source": [
        "# @title Video 11: Prepare Python Environment\n",
        "from ipywidgets import widgets\n",
        "from IPython.display import YouTubeVideo\n",
        "from IPython.display import IFrame\n",
        "from IPython.display import display\n",
        "\n",
        "\n",
        "class PlayVideo(IFrame):\n",
        "  def __init__(self, id, source, page=1, width=400, height=300, **kwargs):\n",
        "    self.id = id\n",
        "    if source == 'Bilibili':\n",
        "      src = f'https://player.bilibili.com/player.html?bvid={id}&page={page}'\n",
        "    elif source == 'Osf':\n",
        "      src = f'https://mfr.ca-1.osf.io/render?url=https://osf.io/download/{id}/?direct%26mode=render'\n",
        "    super(PlayVideo, self).__init__(src, width, height, **kwargs)\n",
        "\n",
        "\n",
        "def display_videos(video_ids, W=400, H=300, fs=1):\n",
        "  tab_contents = []\n",
        "  for i, video_id in enumerate(video_ids):\n",
        "    out = widgets.Output()\n",
        "    with out:\n",
        "      if video_ids[i][0] == 'Youtube':\n",
        "        video = YouTubeVideo(id=video_ids[i][1], width=W,\n",
        "                             height=H, fs=fs, rel=0)\n",
        "        print(f'Video available at https://youtube.com/watch?v={video.id}')\n",
        "      else:\n",
        "        video = PlayVideo(id=video_ids[i][1], source=video_ids[i][0], width=W,\n",
        "                          height=H, fs=fs, autoplay=False)\n",
        "        if video_ids[i][0] == 'Bilibili':\n",
        "          print(f'Video available at https://www.bilibili.com/video/{video.id}')\n",
        "        elif video_ids[i][0] == 'Osf':\n",
        "          print(f'Video available at https://osf.io/{video.id}')\n",
        "      display(video)\n",
        "    tab_contents.append(out)\n",
        "  return tab_contents\n",
        "\n",
        "\n",
        "video_ids = [('Youtube', 'IMd_sRm4fJM'), ('Bilibili', 'BV1bv411K7dP')]\n",
        "tab_contents = display_videos(video_ids, W=854, H=480)\n",
        "tabs = widgets.Tab()\n",
        "tabs.children = tab_contents\n",
        "for i in range(len(tab_contents)):\n",
        "  tabs.set_title(i, video_ids[i][0])\n",
        "display(tabs)"
      ]
    },
    {
      "cell_type": "markdown",
      "metadata": {
        "execution": {},
        "id": "7jsKMb8Ju8eb"
      },
      "source": [
        "You need to do all the steps from here on on your own machine and not in the notebook. You need to make sure that you have Python 3 installed and some code editor (for example VS Code). You will also be using the terminal a lot in this section.\n",
        "\n",
        "First, you need to prepare your Python environment and install all required dependencies. You should first create an empty folder where you will store your application and do the following steps.\n",
        "\n",
        "**1. Create a new virtual environment**\n",
        "\n",
        "Run the following code in the terminal to create a new Python virtual environment:\n",
        "```\n",
        "python -m venv .venv\n",
        "```\n",
        "\n",
        "**2. Activate the virtual environment**\n",
        "\n",
        "Now, you need to activate the environment, which is a bit different on Linux/macOS and Windows.\n",
        "\n",
        "For Linux and macOS:\n",
        "```\n",
        "source .venv/bin/activate\n",
        "```\n",
        "\n",
        "For Windows:\n",
        "```\n",
        ".venv\\Scripts\\activate.bat\n",
        "```\n",
        "\n",
        "\n",
        "**3. Install dependencies**\n",
        "\n",
        "You need to install some packages that you will need using `pip`:\n",
        "```\n",
        "pip install flask Pillow gunicorn\n",
        "```\n",
        "\n",
        "> Note: the package `gunicorn` is a web server that is needed later when your code runs on Heroku.\n",
        "\n",
        "\n",
        "**4. Install PyTorch**\n",
        "\n",
        "Depending on your system, there are different ways to install `torch` and `torchvision`. Refer to the [Installation page](https://pytorch.org/get-started/locally/) for the exact command. We recommend using `pip`.\n",
        "\n",
        "On macOS and Windows for example this is straightforward:\n",
        "```\n",
        "pip install torch torchvision\n",
        "```\n",
        "\n",
        "> Note: avoid installing `torchaudio` since it is not needed, but may cause problems with the package size when deploying on Heroku later.\n"
      ]
    },
    {
      "cell_type": "markdown",
      "metadata": {
        "execution": {},
        "id": "pPcRpZvYu8eb"
      },
      "source": [
        "## Section 5.2: Create Your Application"
      ]
    },
    {
      "cell_type": "code",
      "execution_count": 31,
      "metadata": {
        "cellView": "form",
        "execution": {},
        "id": "t-54cAmEu8eb",
        "outputId": "ea5390f8-4ca2-4d9a-e6f4-fa8826aa208f",
        "colab": {
          "base_uri": "https://localhost:8080/",
          "height": 581,
          "referenced_widgets": [
            "19371231fe554069afd707dd87c88501",
            "880c4ece4b0b405cad2b3fcd7efbedb4",
            "8b1af821a01f4be1a002ae5efe164cd0",
            "a0ba18fe46b74652a6ace839a732fbea",
            "5c6397846b7a4623825076cc81e8401f",
            "5f108d60dbd249f3a9e761e239276265"
          ]
        }
      },
      "outputs": [
        {
          "output_type": "display_data",
          "data": {
            "text/plain": [
              "Tab(children=(Output(), Output()), _titles={'0': 'Youtube', '1': 'Bilibili'})"
            ],
            "application/vnd.jupyter.widget-view+json": {
              "version_major": 2,
              "version_minor": 0,
              "model_id": "19371231fe554069afd707dd87c88501"
            }
          },
          "metadata": {}
        }
      ],
      "source": [
        "# @title Video 12: Creating a Local Application\n",
        "from ipywidgets import widgets\n",
        "from IPython.display import YouTubeVideo\n",
        "from IPython.display import IFrame\n",
        "from IPython.display import display\n",
        "\n",
        "\n",
        "class PlayVideo(IFrame):\n",
        "  def __init__(self, id, source, page=1, width=400, height=300, **kwargs):\n",
        "    self.id = id\n",
        "    if source == 'Bilibili':\n",
        "      src = f'https://player.bilibili.com/player.html?bvid={id}&page={page}'\n",
        "    elif source == 'Osf':\n",
        "      src = f'https://mfr.ca-1.osf.io/render?url=https://osf.io/download/{id}/?direct%26mode=render'\n",
        "    super(PlayVideo, self).__init__(src, width, height, **kwargs)\n",
        "\n",
        "\n",
        "def display_videos(video_ids, W=400, H=300, fs=1):\n",
        "  tab_contents = []\n",
        "  for i, video_id in enumerate(video_ids):\n",
        "    out = widgets.Output()\n",
        "    with out:\n",
        "      if video_ids[i][0] == 'Youtube':\n",
        "        video = YouTubeVideo(id=video_ids[i][1], width=W,\n",
        "                             height=H, fs=fs, rel=0)\n",
        "        print(f'Video available at https://youtube.com/watch?v={video.id}')\n",
        "      else:\n",
        "        video = PlayVideo(id=video_ids[i][1], source=video_ids[i][0], width=W,\n",
        "                          height=H, fs=fs, autoplay=False)\n",
        "        if video_ids[i][0] == 'Bilibili':\n",
        "          print(f'Video available at https://www.bilibili.com/video/{video.id}')\n",
        "        elif video_ids[i][0] == 'Osf':\n",
        "          print(f'Video available at https://osf.io/{video.id}')\n",
        "      display(video)\n",
        "    tab_contents.append(out)\n",
        "  return tab_contents\n",
        "\n",
        "\n",
        "video_ids = [('Youtube', 'fF1fmIXz5NQ'), ('Bilibili', 'BV1bM4y157xK')]\n",
        "tab_contents = display_videos(video_ids, W=854, H=480)\n",
        "tabs = widgets.Tab()\n",
        "tabs.children = tab_contents\n",
        "for i in range(len(tab_contents)):\n",
        "  tabs.set_title(i, video_ids[i][0])\n",
        "display(tabs)"
      ]
    },
    {
      "cell_type": "markdown",
      "metadata": {
        "execution": {},
        "id": "Gh-jNJy0u8ec"
      },
      "source": [
        "You are now ready to create the files needed for your application. For now, you need just 2 files.\n",
        "\n",
        "**`app.py`**\n",
        "\n",
        "This is the main file of your application. Inside, you will put the code for running your PyTorch model as well as the code of your Flask application.\n",
        "\n",
        "\n",
        "```python\n",
        "import os\n",
        "import io\n",
        "import torch\n",
        "from urllib.request import urlopen\n",
        "from PIL import Image\n",
        "from torchvision import models\n",
        "import torchvision.transforms as transforms\n",
        "from flask import Flask, request, send_from_directory\n",
        "\n",
        "# Load a pre-trainied DenseNet model from torchvision.models\n",
        "model = models.densenet121(pretrained=True)\n",
        "model.eval()\n",
        "\n",
        "# Load the class labels from a file\n",
        "class_labels_url = (\n",
        "    \"https://raw.githubusercontent.com/pytorch/hub/master/imagenet_classes.txt\"\n",
        ")\n",
        "class_labels = urlopen(class_labels_url).read().decode(\"utf-8\").split(\"\\n\")\n",
        "\n",
        "# Define the transofrmation of the input image\n",
        "transform = transforms.Compose([\n",
        "    transforms.Resize(256),\n",
        "    transforms.CenterCrop(224),\n",
        "    transforms.ToTensor(),\n",
        "    transforms.Normalize(mean=[0.485, 0.456, 0.406], std=[0.229, 0.224, 0.225]),\n",
        "])\n",
        "\n",
        "def predict(model, transform, image, class_labels):\n",
        "  # Transform the image and convert it to a tensor\n",
        "  image_tensor = transform(image).unsqueeze(0)\n",
        "\n",
        "  # Pass the image through the model\n",
        "  with torch.no_grad():\n",
        "      output = model(image_tensor)\n",
        "\n",
        "  # Select the class with the higherst probability\n",
        "  class_id = torch.argmax(output).item()\n",
        "  class_name = class_labels[class_id]\n",
        "  return class_name\n",
        "\n",
        "\n",
        "app = Flask(__name__)\n",
        "\n",
        "@app.route(\"/\")\n",
        "def home():\n",
        "  return send_from_directory(\"static\", \"index.html\")\n",
        "\n",
        "\n",
        "@app.route(\"/predict\", methods=[\"POST\"])\n",
        "def predict_api():\n",
        "  # Fetch the image from the request and convert it\n",
        "  image_file = request.files[\"file\"]\n",
        "  image_bytes = image_file.read()\n",
        "  image = Image.open(io.BytesIO(image_bytes))\n",
        "\n",
        "  # Predict the class from the image\n",
        "  class_name = predict(model, transform, image, class_labels)\n",
        "\n",
        "  # Write result as JSON\n",
        "  return class_name\n",
        "\n",
        "\n",
        "# Run the app\n",
        "if __name__ == \"__main__\":\n",
        "  app.run(debug=False, threaded=True, port=os.getenv(\"PORT\", 5000))\n",
        "```"
      ]
    },
    {
      "cell_type": "markdown",
      "metadata": {
        "execution": {},
        "id": "H-TS0MA6u8ec"
      },
      "source": [
        "**static/index.html**\n",
        "\n",
        "This file should contain the HTML code of your Vue template - exactly as it is.\n",
        "\n",
        "```html\n",
        "<html>\n",
        "    <head>\n",
        "        <!-- Load vue.js and axois.js -->\n",
        "        <script src=\"https://cdn.jsdelivr.net/npm/vue/dist/vue.js\"></script>\n",
        "        <script src=\"https://cdnjs.cloudflare.com/ajax/libs/axios/0.21.1/axios.min.js\"></script>\n",
        "    </head>\n",
        "    <body>\n",
        "        <!-- The APP UI -->\n",
        "        <div id=\"app\" style=\"width: 50%; margin: 200px auto\">\n",
        "            <form id=\"imageForm\" enctype=\"multipart/form-data\" method=\"POST\" style=\"text-align: center; display: block\">\n",
        "                <label for=\"imageFile\">Select image to classify:</label\n",
        "                ><input id=\"imageFile\" name=\"file\" type=\"file\" style=\"margin-left: 10px\" />\n",
        "\n",
        "                <img v-if=\"image\" :src=\"image\" style=\"width: 250px; display: block; margin: 50px auto 10px\" />\n",
        "                <div v-if=\"prediction\" style=\"font-size: 32px; font-weight: bold; text-align: center\">\n",
        "                    {{ prediction }}\n",
        "                </div>\n",
        "                <input v-if=\"image\" type=\"submit\" value=\"Classify Image\" style=\"margin: 20px 20px\" />\n",
        "            </form>\n",
        "        </div>\n",
        "\n",
        "        <script>\n",
        "            <!-- The Vue application -->\n",
        "            var app = new Vue({\n",
        "                el: \"#app\",\n",
        "                data() {\n",
        "                    return {\n",
        "                        image: null,\n",
        "                        prediction: null,\n",
        "                    };\n",
        "                },\n",
        "            });\n",
        "\n",
        "            <!-- Calling the predict API when the form is submitted -->\n",
        "            document.getElementById(\"imageForm\").addEventListener(\"submit\", (e) => {\n",
        "                axios\n",
        "                    .post(\"/predict\", new FormData(document.getElementById(\"imageForm\")), {\n",
        "                        headers: {\n",
        "                            \"Content-Type\": \"multipart/form-data\",\n",
        "                        },\n",
        "                    })\n",
        "                    .then((response) => (app.prediction = response.data));\n",
        "\n",
        "                e.preventDefault();\n",
        "            });\n",
        "\n",
        "            <!-- Display the selected image -->\n",
        "            document.getElementById(\"imageFile\").addEventListener(\"change\", (e) => {\n",
        "                const [file] = document.getElementById(\"imageFile\").files;\n",
        "                if (file) {\n",
        "                    app.image = URL.createObjectURL(file);\n",
        "                }\n",
        "            });\n",
        "        </script>\n",
        "    </body>\n",
        "</html>\n",
        "```"
      ]
    },
    {
      "cell_type": "markdown",
      "metadata": {
        "execution": {},
        "id": "g0HWGh5nu8ec"
      },
      "source": [
        "## Section 5.3: Testing Your Application Locally"
      ]
    },
    {
      "cell_type": "markdown",
      "metadata": {
        "execution": {},
        "id": "5ADhQCHIu8ec"
      },
      "source": [
        "You are now ready to test your application. Once you have your environment set up correctly and your application files created you can just start it:\n",
        "```\n",
        "python app.py\n",
        "```\n",
        "\n",
        "You can now access your application at http://127.0.0.1:5000. No `ngrok` needed anymore!"
      ]
    },
    {
      "cell_type": "markdown",
      "metadata": {
        "execution": {},
        "id": "eI8IjiI6u8ec"
      },
      "source": [
        "## Section 5.4: Preparing for Deployment on Heroku"
      ]
    },
    {
      "cell_type": "code",
      "execution_count": 32,
      "metadata": {
        "cellView": "form",
        "execution": {},
        "id": "h70hcBTju8ec",
        "outputId": "075ff697-88ff-4f6d-ba3a-820f9f73807f",
        "colab": {
          "base_uri": "https://localhost:8080/",
          "height": 581,
          "referenced_widgets": [
            "62837da2214047e7b819bcc90d6daa1c",
            "6d586198a53a49659f1aa97011b5cd18",
            "8b3e1c2db9a5444487e5805d38d7f750",
            "7f1ef30c861143edb52bfa6f8ef93e6f",
            "57700d48de374a06af112c10a09db40e",
            "acd3ca711bf14baeba40d21f569b4dc8"
          ]
        }
      },
      "outputs": [
        {
          "output_type": "display_data",
          "data": {
            "text/plain": [
              "Tab(children=(Output(), Output()), _titles={'0': 'Youtube', '1': 'Bilibili'})"
            ],
            "application/vnd.jupyter.widget-view+json": {
              "version_major": 2,
              "version_minor": 0,
              "model_id": "62837da2214047e7b819bcc90d6daa1c"
            }
          },
          "metadata": {}
        }
      ],
      "source": [
        "# @title Video 13: Preparing for Heroku\n",
        "from ipywidgets import widgets\n",
        "from IPython.display import YouTubeVideo\n",
        "from IPython.display import IFrame\n",
        "from IPython.display import display\n",
        "\n",
        "\n",
        "class PlayVideo(IFrame):\n",
        "  def __init__(self, id, source, page=1, width=400, height=300, **kwargs):\n",
        "    self.id = id\n",
        "    if source == 'Bilibili':\n",
        "      src = f'https://player.bilibili.com/player.html?bvid={id}&page={page}'\n",
        "    elif source == 'Osf':\n",
        "      src = f'https://mfr.ca-1.osf.io/render?url=https://osf.io/download/{id}/?direct%26mode=render'\n",
        "    super(PlayVideo, self).__init__(src, width, height, **kwargs)\n",
        "\n",
        "\n",
        "def display_videos(video_ids, W=400, H=300, fs=1):\n",
        "  tab_contents = []\n",
        "  for i, video_id in enumerate(video_ids):\n",
        "    out = widgets.Output()\n",
        "    with out:\n",
        "      if video_ids[i][0] == 'Youtube':\n",
        "        video = YouTubeVideo(id=video_ids[i][1], width=W,\n",
        "                             height=H, fs=fs, rel=0)\n",
        "        print(f'Video available at https://youtube.com/watch?v={video.id}')\n",
        "      else:\n",
        "        video = PlayVideo(id=video_ids[i][1], source=video_ids[i][0], width=W,\n",
        "                          height=H, fs=fs, autoplay=False)\n",
        "        if video_ids[i][0] == 'Bilibili':\n",
        "          print(f'Video available at https://www.bilibili.com/video/{video.id}')\n",
        "        elif video_ids[i][0] == 'Osf':\n",
        "          print(f'Video available at https://osf.io/{video.id}')\n",
        "      display(video)\n",
        "    tab_contents.append(out)\n",
        "  return tab_contents\n",
        "\n",
        "\n",
        "video_ids = [('Youtube', 'L2W0C7nMttI'), ('Bilibili', 'BV1Nq4y1Q71H')]\n",
        "tab_contents = display_videos(video_ids, W=854, H=480)\n",
        "tabs = widgets.Tab()\n",
        "tabs.children = tab_contents\n",
        "for i in range(len(tab_contents)):\n",
        "  tabs.set_title(i, video_ids[i][0])\n",
        "display(tabs)"
      ]
    },
    {
      "cell_type": "markdown",
      "metadata": {
        "execution": {},
        "id": "CjT0jTfOu8ed"
      },
      "source": [
        "Before we can deploy on Heroku there are a couple of things we need to prepare.\n",
        "\n",
        "**Create `Procfile`**\n",
        "\n",
        "Every application running on Heroku needs a `Procfile` where you need to specify how the app should be run. In our case, it is quite easy, because we can use `gunicorn` as a web server. Create a file named `Procfile` in the root folder of your application and put the following code inside:\n",
        "```\n",
        "web: gunicorn app:app\n",
        "```\n",
        "\n",
        "**Create `requirements.txt`**\n",
        "\n",
        "We also need to tell Heroku which Python packages need to be installed. Heroku uses the standard way of defining Python dependencies - a `requirements.txt` file. You can create it with the following command:\n",
        "```\n",
        "pip freeze > requirements.txt\n",
        "```\n",
        "\n",
        "**Fix the `torch` version**\n",
        "\n",
        "Now, this should be enough in theory, but we need one small change. The problem is that by default `torch` comes with both the CPU and GPU code, which creates a package that exceeds the maximum size limit on the Heroku free tier. Therefore we need to make sure that we only specify the CPU version of `torch`.\n",
        "\n",
        "You need to open the `requirements.txt` file and modify it as follows:\n",
        "1. Add the following line in the beginning, telling Heroku where to look for the packages `-f https://download.pytorch.org/whl/torch_stable.html\n",
        "`\n",
        "2. Find the line defining the torch dependency and change it to `torch==1.9.0+cpu`\n",
        "3. Do the same with `torchvision` by changing it to `torchvision==0.10.0+cpu\n",
        "`"
      ]
    },
    {
      "cell_type": "markdown",
      "metadata": {
        "execution": {},
        "id": "464Jlw-Ru8ed"
      },
      "source": [
        "## Section 5.5: Deploying on Heroku"
      ]
    },
    {
      "cell_type": "code",
      "execution_count": 33,
      "metadata": {
        "cellView": "form",
        "execution": {},
        "id": "_aF-x5MZu8ed",
        "outputId": "b094611d-8632-454b-a34a-d279ffeb0282",
        "colab": {
          "base_uri": "https://localhost:8080/",
          "height": 581,
          "referenced_widgets": [
            "bc6d67046b3949748c83d43d89e0c708",
            "91b13c774a7b4f90b0bd6ae2b072335f",
            "170977b6e65444308e45d737344e03b3",
            "e6e60e1083784a9f8c7632bcbf6f5109",
            "5bad3e1b84f549a9934ba8d1af00ff6c",
            "74988500e04448519dd5e3036ae4af7c"
          ]
        }
      },
      "outputs": [
        {
          "output_type": "display_data",
          "data": {
            "text/plain": [
              "Tab(children=(Output(), Output()), _titles={'0': 'Youtube', '1': 'Bilibili'})"
            ],
            "application/vnd.jupyter.widget-view+json": {
              "version_major": 2,
              "version_minor": 0,
              "model_id": "bc6d67046b3949748c83d43d89e0c708"
            }
          },
          "metadata": {}
        }
      ],
      "source": [
        "# @title Video 14: Deploying on Heroku\n",
        "from ipywidgets import widgets\n",
        "from IPython.display import YouTubeVideo\n",
        "from IPython.display import IFrame\n",
        "from IPython.display import display\n",
        "\n",
        "\n",
        "class PlayVideo(IFrame):\n",
        "  def __init__(self, id, source, page=1, width=400, height=300, **kwargs):\n",
        "    self.id = id\n",
        "    if source == 'Bilibili':\n",
        "      src = f'https://player.bilibili.com/player.html?bvid={id}&page={page}'\n",
        "    elif source == 'Osf':\n",
        "      src = f'https://mfr.ca-1.osf.io/render?url=https://osf.io/download/{id}/?direct%26mode=render'\n",
        "    super(PlayVideo, self).__init__(src, width, height, **kwargs)\n",
        "\n",
        "\n",
        "def display_videos(video_ids, W=400, H=300, fs=1):\n",
        "  tab_contents = []\n",
        "  for i, video_id in enumerate(video_ids):\n",
        "    out = widgets.Output()\n",
        "    with out:\n",
        "      if video_ids[i][0] == 'Youtube':\n",
        "        video = YouTubeVideo(id=video_ids[i][1], width=W,\n",
        "                             height=H, fs=fs, rel=0)\n",
        "        print(f'Video available at https://youtube.com/watch?v={video.id}')\n",
        "      else:\n",
        "        video = PlayVideo(id=video_ids[i][1], source=video_ids[i][0], width=W,\n",
        "                          height=H, fs=fs, autoplay=False)\n",
        "        if video_ids[i][0] == 'Bilibili':\n",
        "          print(f'Video available at https://www.bilibili.com/video/{video.id}')\n",
        "        elif video_ids[i][0] == 'Osf':\n",
        "          print(f'Video available at https://osf.io/{video.id}')\n",
        "      display(video)\n",
        "    tab_contents.append(out)\n",
        "  return tab_contents\n",
        "\n",
        "\n",
        "video_ids = [('Youtube', 'Ni9YKotZUQk'), ('Bilibili', 'BV1P64y1z7cU')]\n",
        "tab_contents = display_videos(video_ids, W=854, H=480)\n",
        "tabs = widgets.Tab()\n",
        "tabs.children = tab_contents\n",
        "for i in range(len(tab_contents)):\n",
        "  tabs.set_title(i, video_ids[i][0])\n",
        "display(tabs)"
      ]
    },
    {
      "cell_type": "markdown",
      "metadata": {
        "execution": {},
        "id": "xdyoF1N1u8ed"
      },
      "source": [
        "You are now finally ready to deploy to Heroku! There are just a couple of steps needed.\n",
        "\n",
        "**1. Create a Heroku account**\n",
        "\n",
        "Create a free account on Heroku at https://www.heroku.com/\n",
        "\n",
        "\n",
        "**2. Install the Heroku CLI**\n",
        "\n",
        "Use [this guide](https://devcenter.heroku.com/articles/heroku-cli) to install the Heroku CLI for your system. After installation, you should be able to run the `heroku` command in your terminal.\n",
        "\n",
        "**3. Login to Heroku**\n",
        "\n",
        "Run the following command in the terminal and log in:\n",
        "```\n",
        "heroku login\n",
        "```\n",
        "\n",
        "**4. Create a new Heroku App**\n",
        "\n",
        "Run the following command to create a new application. When choosing the application name, you need to make sure that it doesn't exist yet. It may be a good idea to add your name to it (I chose `vladimir-classifier-app`).\n",
        "```\n",
        "heroku create <application name>\n",
        "```\n",
        "\n",
        "**5. Initialize a Git repository**\n",
        "\n",
        "The deployment on Heroku is done using `git`. If you don't have it installed already, check [this guide](https://git-scm.com/book/en/v2/Getting-Started-Installing-Git). You need to initialize a new repository, commit your files and push it to Heroku:\n",
        "\n",
        "```\n",
        "git init\n",
        "git add app.py Procfile requirements.txt static\n",
        "git commit -m \"Initial commit\"\n",
        "heroku git:remote -a <application name>\n",
        "git push heroku master\n",
        "```\n",
        "\n",
        "Your application will now be packaged and uploaded to Heroku. This may take a couple of minutes, but when done you will be able to access your application at https://&lt;application name>.herokuapp.com.\n",
        "\n",
        "You can also go to your dashboard and see your application there: https://dashboard.heroku.com/apps."
      ]
    },
    {
      "cell_type": "markdown",
      "metadata": {
        "execution": {},
        "id": "QDXPMpj1u8ed"
      },
      "source": [
        "---\n",
        "# Summary"
      ]
    },
    {
      "cell_type": "code",
      "execution_count": 34,
      "metadata": {
        "cellView": "form",
        "execution": {},
        "id": "jYthSsh9u8ed",
        "outputId": "4d2f76e5-1153-44e3-88b9-ed729efaa88b",
        "colab": {
          "base_uri": "https://localhost:8080/",
          "height": 581,
          "referenced_widgets": [
            "89244a98cd344205ba053397cc943112",
            "cf1f30c6f9d3415ea5d1b978c87dbd28",
            "c133c8703cd942c2bc5e93299a273d19",
            "4c433ebfb6924b19b06c0a8f0d55b089",
            "5c249b14a6f947eab03194cf775a69e3",
            "929ff051d86941feb7ca80cc890f1ac1"
          ]
        }
      },
      "outputs": [
        {
          "output_type": "display_data",
          "data": {
            "text/plain": [
              "Tab(children=(Output(), Output()), _titles={'0': 'Youtube', '1': 'Bilibili'})"
            ],
            "application/vnd.jupyter.widget-view+json": {
              "version_major": 2,
              "version_minor": 0,
              "model_id": "89244a98cd344205ba053397cc943112"
            }
          },
          "metadata": {}
        }
      ],
      "source": [
        "# @title Video 15: Summary\n",
        "from ipywidgets import widgets\n",
        "from IPython.display import YouTubeVideo\n",
        "from IPython.display import IFrame\n",
        "from IPython.display import display\n",
        "\n",
        "\n",
        "class PlayVideo(IFrame):\n",
        "  def __init__(self, id, source, page=1, width=400, height=300, **kwargs):\n",
        "    self.id = id\n",
        "    if source == 'Bilibili':\n",
        "      src = f'https://player.bilibili.com/player.html?bvid={id}&page={page}'\n",
        "    elif source == 'Osf':\n",
        "      src = f'https://mfr.ca-1.osf.io/render?url=https://osf.io/download/{id}/?direct%26mode=render'\n",
        "    super(PlayVideo, self).__init__(src, width, height, **kwargs)\n",
        "\n",
        "\n",
        "def display_videos(video_ids, W=400, H=300, fs=1):\n",
        "  tab_contents = []\n",
        "  for i, video_id in enumerate(video_ids):\n",
        "    out = widgets.Output()\n",
        "    with out:\n",
        "      if video_ids[i][0] == 'Youtube':\n",
        "        video = YouTubeVideo(id=video_ids[i][1], width=W,\n",
        "                             height=H, fs=fs, rel=0)\n",
        "        print(f'Video available at https://youtube.com/watch?v={video.id}')\n",
        "      else:\n",
        "        video = PlayVideo(id=video_ids[i][1], source=video_ids[i][0], width=W,\n",
        "                          height=H, fs=fs, autoplay=False)\n",
        "        if video_ids[i][0] == 'Bilibili':\n",
        "          print(f'Video available at https://www.bilibili.com/video/{video.id}')\n",
        "        elif video_ids[i][0] == 'Osf':\n",
        "          print(f'Video available at https://osf.io/{video.id}')\n",
        "      display(video)\n",
        "    tab_contents.append(out)\n",
        "  return tab_contents\n",
        "\n",
        "\n",
        "video_ids = [('Youtube', 'pDLdNOuUtKk'), ('Bilibili', 'BV1Qg411L7RM')]\n",
        "tab_contents = display_videos(video_ids, W=854, H=480)\n",
        "tabs = widgets.Tab()\n",
        "tabs.children = tab_contents\n",
        "for i in range(len(tab_contents)):\n",
        "  tabs.set_title(i, video_ids[i][0])\n",
        "display(tabs)"
      ]
    },
    {
      "cell_type": "markdown",
      "metadata": {
        "execution": {},
        "id": "Z54CYh34u8ed"
      },
      "source": [
        "In this tutorial you learned the basics of some modern tools for creating dynamic web applications and REST APIs. You also learned how you can deploy your neural network model as a web app.\n",
        "\n",
        "You can now build on top of that and create more sophisticated and awesome applications and make them available to millions of people!"
      ]
    }
  ],
  "metadata": {
    "colab": {
      "name": "W2D4_Tutorial4",
      "provenance": [],
      "toc_visible": true,
      "include_colab_link": true
    },
    "kernel": {
      "display_name": "Python 3",
      "language": "python",
      "name": "python3"
    },
    "kernelspec": {
      "display_name": "Python 3",
      "name": "python3"
    },
    "language_info": {
      "codemirror_mode": {
        "name": "ipython",
        "version": 3
      },
      "file_extension": ".py",
      "mimetype": "text/x-python",
      "name": "python",
      "nbconvert_exporter": "python",
      "pygments_lexer": "ipython3",
      "version": "3.7.13"
    },
    "widgets": {
      "application/vnd.jupyter.widget-state+json": {
        "58cfc69145f14b759b644b6b07fa6d55": {
          "model_module": "@jupyter-widgets/controls",
          "model_name": "TabModel",
          "model_module_version": "1.5.0",
          "state": {
            "_dom_classes": [],
            "_model_module": "@jupyter-widgets/controls",
            "_model_module_version": "1.5.0",
            "_model_name": "TabModel",
            "_titles": {
              "0": "Youtube",
              "1": "Bilibili"
            },
            "_view_count": null,
            "_view_module": "@jupyter-widgets/controls",
            "_view_module_version": "1.5.0",
            "_view_name": "TabView",
            "box_style": "",
            "children": [
              "IPY_MODEL_8edf030cedc144e9bb9ab752d42bee94",
              "IPY_MODEL_cba0ce95fcbb4420bbd20fae1c039f1d"
            ],
            "layout": "IPY_MODEL_779bb7705b0148dbbe4e101c1db56957",
            "selected_index": 0
          }
        },
        "8edf030cedc144e9bb9ab752d42bee94": {
          "model_module": "@jupyter-widgets/output",
          "model_name": "OutputModel",
          "model_module_version": "1.0.0",
          "state": {
            "_dom_classes": [],
            "_model_module": "@jupyter-widgets/output",
            "_model_module_version": "1.0.0",
            "_model_name": "OutputModel",
            "_view_count": null,
            "_view_module": "@jupyter-widgets/output",
            "_view_module_version": "1.0.0",
            "_view_name": "OutputView",
            "layout": "IPY_MODEL_5e89e2a7c4b14100895858197caa31af",
            "msg_id": "",
            "outputs": [
              {
                "output_type": "stream",
                "name": "stdout",
                "text": [
                  "Video available at https://youtube.com/watch?v=yQtPGtz4jDI\n"
                ]
              },
              {
                "output_type": "display_data",
                "data": {
                  "text/plain": "<IPython.lib.display.YouTubeVideo at 0x7f67a894e440>",
                  "text/html": "\n        <iframe\n            width=\"854\"\n            height=\"480\"\n            src=\"https://www.youtube.com/embed/yQtPGtz4jDI?fs=1&rel=0\"\n            frameborder=\"0\"\n            allowfullscreen\n            \n        ></iframe>\n        ",
                  "image/jpeg": "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\n"
                },
                "metadata": {}
              }
            ]
          }
        },
        "cba0ce95fcbb4420bbd20fae1c039f1d": {
          "model_module": "@jupyter-widgets/output",
          "model_name": "OutputModel",
          "model_module_version": "1.0.0",
          "state": {
            "_dom_classes": [],
            "_model_module": "@jupyter-widgets/output",
            "_model_module_version": "1.0.0",
            "_model_name": "OutputModel",
            "_view_count": null,
            "_view_module": "@jupyter-widgets/output",
            "_view_module_version": "1.0.0",
            "_view_name": "OutputView",
            "layout": "IPY_MODEL_a6c1fcf5d025437186a3949ce375ce95",
            "msg_id": "",
            "outputs": [
              {
                "output_type": "stream",
                "name": "stdout",
                "text": [
                  "Video available at https://www.bilibili.com/video/BV1754y1E7Qf\n"
                ]
              },
              {
                "output_type": "display_data",
                "data": {
                  "text/plain": "<__main__.PlayVideo at 0x7f67a8812c20>",
                  "text/html": "\n        <iframe\n            width=\"854\"\n            height=\"480\"\n            src=\"https://player.bilibili.com/player.html?bvid=BV1754y1E7Qf&page=1?fs=1&autoplay=False\"\n            frameborder=\"0\"\n            allowfullscreen\n            \n        ></iframe>\n        "
                },
                "metadata": {}
              }
            ]
          }
        },
        "779bb7705b0148dbbe4e101c1db56957": {
          "model_module": "@jupyter-widgets/base",
          "model_name": "LayoutModel",
          "model_module_version": "1.2.0",
          "state": {
            "_model_module": "@jupyter-widgets/base",
            "_model_module_version": "1.2.0",
            "_model_name": "LayoutModel",
            "_view_count": null,
            "_view_module": "@jupyter-widgets/base",
            "_view_module_version": "1.2.0",
            "_view_name": "LayoutView",
            "align_content": null,
            "align_items": null,
            "align_self": null,
            "border": null,
            "bottom": null,
            "display": null,
            "flex": null,
            "flex_flow": null,
            "grid_area": null,
            "grid_auto_columns": null,
            "grid_auto_flow": null,
            "grid_auto_rows": null,
            "grid_column": null,
            "grid_gap": null,
            "grid_row": null,
            "grid_template_areas": null,
            "grid_template_columns": null,
            "grid_template_rows": null,
            "height": null,
            "justify_content": null,
            "justify_items": null,
            "left": null,
            "margin": null,
            "max_height": null,
            "max_width": null,
            "min_height": null,
            "min_width": null,
            "object_fit": null,
            "object_position": null,
            "order": null,
            "overflow": null,
            "overflow_x": null,
            "overflow_y": null,
            "padding": null,
            "right": null,
            "top": null,
            "visibility": null,
            "width": null
          }
        },
        "5e89e2a7c4b14100895858197caa31af": {
          "model_module": "@jupyter-widgets/base",
          "model_name": "LayoutModel",
          "model_module_version": "1.2.0",
          "state": {
            "_model_module": "@jupyter-widgets/base",
            "_model_module_version": "1.2.0",
            "_model_name": "LayoutModel",
            "_view_count": null,
            "_view_module": "@jupyter-widgets/base",
            "_view_module_version": "1.2.0",
            "_view_name": "LayoutView",
            "align_content": null,
            "align_items": null,
            "align_self": null,
            "border": null,
            "bottom": null,
            "display": null,
            "flex": null,
            "flex_flow": null,
            "grid_area": null,
            "grid_auto_columns": null,
            "grid_auto_flow": null,
            "grid_auto_rows": null,
            "grid_column": null,
            "grid_gap": null,
            "grid_row": null,
            "grid_template_areas": null,
            "grid_template_columns": null,
            "grid_template_rows": null,
            "height": null,
            "justify_content": null,
            "justify_items": null,
            "left": null,
            "margin": null,
            "max_height": null,
            "max_width": null,
            "min_height": null,
            "min_width": null,
            "object_fit": null,
            "object_position": null,
            "order": null,
            "overflow": null,
            "overflow_x": null,
            "overflow_y": null,
            "padding": null,
            "right": null,
            "top": null,
            "visibility": null,
            "width": null
          }
        },
        "a6c1fcf5d025437186a3949ce375ce95": {
          "model_module": "@jupyter-widgets/base",
          "model_name": "LayoutModel",
          "model_module_version": "1.2.0",
          "state": {
            "_model_module": "@jupyter-widgets/base",
            "_model_module_version": "1.2.0",
            "_model_name": "LayoutModel",
            "_view_count": null,
            "_view_module": "@jupyter-widgets/base",
            "_view_module_version": "1.2.0",
            "_view_name": "LayoutView",
            "align_content": null,
            "align_items": null,
            "align_self": null,
            "border": null,
            "bottom": null,
            "display": null,
            "flex": null,
            "flex_flow": null,
            "grid_area": null,
            "grid_auto_columns": null,
            "grid_auto_flow": null,
            "grid_auto_rows": null,
            "grid_column": null,
            "grid_gap": null,
            "grid_row": null,
            "grid_template_areas": null,
            "grid_template_columns": null,
            "grid_template_rows": null,
            "height": null,
            "justify_content": null,
            "justify_items": null,
            "left": null,
            "margin": null,
            "max_height": null,
            "max_width": null,
            "min_height": null,
            "min_width": null,
            "object_fit": null,
            "object_position": null,
            "order": null,
            "overflow": null,
            "overflow_x": null,
            "overflow_y": null,
            "padding": null,
            "right": null,
            "top": null,
            "visibility": null,
            "width": null
          }
        },
        "637eb65e65d046f6b717a0d7451651da": {
          "model_module": "@jupyter-widgets/controls",
          "model_name": "TabModel",
          "model_module_version": "1.5.0",
          "state": {
            "_dom_classes": [],
            "_model_module": "@jupyter-widgets/controls",
            "_model_module_version": "1.5.0",
            "_model_name": "TabModel",
            "_titles": {
              "0": "Youtube",
              "1": "Bilibili"
            },
            "_view_count": null,
            "_view_module": "@jupyter-widgets/controls",
            "_view_module_version": "1.5.0",
            "_view_name": "TabView",
            "box_style": "",
            "children": [
              "IPY_MODEL_00aa21566af64c8d96fdf16545460707",
              "IPY_MODEL_f498773b45134dd2a16f3324b90f596c"
            ],
            "layout": "IPY_MODEL_0484c4bdcb784324be7f4fb3c01331b3",
            "selected_index": 0
          }
        },
        "00aa21566af64c8d96fdf16545460707": {
          "model_module": "@jupyter-widgets/output",
          "model_name": "OutputModel",
          "model_module_version": "1.0.0",
          "state": {
            "_dom_classes": [],
            "_model_module": "@jupyter-widgets/output",
            "_model_module_version": "1.0.0",
            "_model_name": "OutputModel",
            "_view_count": null,
            "_view_module": "@jupyter-widgets/output",
            "_view_module_version": "1.0.0",
            "_view_name": "OutputView",
            "layout": "IPY_MODEL_183c060616e644b4a1d71ecec71780bf",
            "msg_id": "",
            "outputs": [
              {
                "output_type": "stream",
                "name": "stdout",
                "text": [
                  "Video available at https://youtube.com/watch?v=uVqu-9IBIRg\n"
                ]
              },
              {
                "output_type": "display_data",
                "data": {
                  "text/plain": "<IPython.lib.display.YouTubeVideo at 0x7f67a8813ca0>",
                  "text/html": "\n        <iframe\n            width=\"854\"\n            height=\"480\"\n            src=\"https://www.youtube.com/embed/uVqu-9IBIRg?fs=1&rel=0\"\n            frameborder=\"0\"\n            allowfullscreen\n            \n        ></iframe>\n        ",
                  "image/jpeg": "/9j/4AAQSkZJRgABAQAAAQABAAD/2wCEABALDBoYFhsaGRodHRsfIiglIiIhITElJygtLisxMjcuLSs1QlFCNDlLOS0tRWJFS1NWW11bNUVlbWRYbFBZYFcBERISGRYZLRsaL1c+Nz9YV1dXXVhXV1dYV1ddX1dbV1dXV1dXV1dXV2NXY1dXV1dXV2NXV11kV1dbXVdYXVdkV//AABEIAWgB4AMBIgACEQEDEQH/xAAbAAEAAQUBAAAAAAAAAAAAAAAABQIDBAYHAf/EAEkQAAIBAgMDCgQCBwcCBAcAAAABAgMRBBIhBRMxFiJBUVNhcZGT0QYyUoEUoRUjQnKSorEkMzRDweHwB4JEc9LxNmJjg6Oywv/EABgBAQEBAQEAAAAAAAAAAAAAAAABAgME/8QAIREBAAMAAgEEAwAAAAAAAAAAAAECEQMhEhMxUWFBQsH/2gAMAwEAAhEDEQA/AOfgAAAAAAAAAAAAAAAAAAAAAAAAAAAAAAAAAAAAAAAAAAAAAAAAAAAAAAAAAAAAAAAAAAAAAAAAAAAAAAAAAAAAAAAAAAAAAAAAAAAAAAAAAAAAAAAAAAAAAAAAAAAAAAAAAAAAAAAAAAAAAAAAAAAAAAAAAAAAAAAAAAAAAAAAAAAAAAAAAAAAAAAAAAAAAAAAAAAAAAAAAAAAAAAAAAAAAAAAAAAAAAAAAAAAAAAAAAAAAAAA63yF2d2MvUl7jkLs7sZepL3A5IDrfIXZ3Yy9SXuOQuzuxl6kvcDkgOt8hdndjL1Je45C7O7GXqS9wOSA63yF2d2MvUl7jkLs7sZepL3A5IDrfIXZ3Yy9SXuOQuzuxl6kvcDkgOt8hdndjL1Je45C7O7GXqS9wOSA63yF2d2MvUl7jkLs7sZepL3A5IDrfIXZ3Yy9SXuOQuzuxl6kvcDkgOt8hdndjL1Je45C7O7GXqS9wOSA63yF2d2MvUl7jkLs7sZepL3A5IDrfIXZ3Yy9SXuOQuzuxl6kvcDkgOt8hdndjL1Je45C7O7GXqS9wOSA63yF2d2MvUl7jkLs7sZepL3A5IDrfIXZ3Yy9SXuOQuzuxl6kvcDkgOt8hdndjL1Je45C7O7GXqS9wOSA63yF2d2MvUl7jkLs7sZepL3A5IDrfIXZ3Yy9SXuOQuzuxl6kvcDkgOt8hdndjL1Je45C7O7GXqS9wOSA63yF2d2MvUl7jkLs7sZepL3A5IDrfIXZ3Yy9SXuOQuzuxl6kvcDkgOt8hdndjL1Je45C7O7GXqS9wOSA63yF2d2MvUl7mNtL4MwFOhUnGlLNGN1+sl7gctBta2Ph+z/ml7nv6Gw/Z/zS9yauNTBtv6Gw/Z/zS9z1bGw3ZfzS9xpjUQbgtiYbsv5pe5Uth4bsv5pe40xpoNzWw8L2X80vc9WwsL2X88vcaY0sG6/oHC9l/PL3H6BwvZfzy9xpjSgbr+gsL2X88vcfoLC9l/PL3Go0oG6foLC9l/PL3H6Bw3ZfzS9xo0sG6foDDdl/NL3KK2wsOlfdfzS9xo6cACgC1icRClTlUm7Qirydm7LwRE8rsB2//wCOf/pJMxDVaWt7RqbBh0tp0Z1Y0ozvUlBVEsr1i+m9rGYVJiY9wAx8bjKeHpurVllhG13Zvi7LRa8WEiN6hkAphNSSkuDV19yoAAAAAAAAAAAAAAAAAAAAAAAAAAAAAAAAAAAAAAAAAAABg7a/wtb91mcYW2f8LW/dYGjIqPEj1I5tB6j1RKlEo8RWgolSiEC08XTXGcfMh9q46bqOlF2itHbi2WaGAqy/y5Wf2CxEy2KnWjNXjJS8HcuEFHZOIpc+MfJ6kps/E72GvzLRjVmsx7smxUonqRUgy8UC5GmexRehEqPIUi3j6NqbZnU4lGPjelLwA2QAGhG/EX+BxH/lsgNiLaH4WluaWEdPLzXNSzWu+OptWMw0a1KdKd8s1Z242PMDhI0KUKUL5YKyvqzMxsu1eSK0zPygc1tsxcrK2Fu7cFrqReJ2lWdGpiKWIxjyyeWbpRjRfOtayv5tG2y2ZTeJ/EvM55N3a/Ny+BgL4WoKEqSqYhUpf5e95i1vove5JiXSvJTrfphbTxeLqQwlSKrbidKM6v4ZJ1MzV9L9HD8zEx+MVXZOJSrVKrjOCaqxUZw50ebK3HVPX2J+vsClNUrVK9OVKmqcZ06jjLKuh9H5FK+HcP8Ah6lD9Y1VkpVJuV5yad7uTGSRyUjPqf6itj7SqY3ExhGo6NGjCLycJ1dFr+7w4dDXXpthG4jYtGdSjVvOFSikoyg0nZdD01XHzZJFiJj3ceS1bTHiAA05gAAAAAAAAAAAAAAAAAAAAAAAAAAAAAAAAAAAAAAABhbY/wALV/dM0xNqr+z1f3QNKUCqMC+qZVkMKsKBWoF3Ke5QLeUpqPLGT6k3+RfylnFWVKo5cMrv5AaxstauUuN9WzZcFVjKyUk/A1vAwlaLir9xIpuNWm+DurpKy8jFo16KTielioLRy/J/1MF01DEStwqRU/8AQuVcNU3ueErLqtdeRVXpc+k3xyzTt4x9yVzWuTZhUVRKUitI6PKuQRkwRYpoyIFF6B5io3py8D2JVVV4PwKicABQAAAAAAAAAAAAAAAAAAAAAAAAAAAAAAAAAAAAAAAAAAAAAAAAAAAAADF2l/cVP3TKMfH/ANzPwA1hQPcheUT3IYVYynli84njQFpox8ZSz0px607GWykK1nZ3NbXeX6qzVIuMsrXT9y5tWGSupfXFX+2n9LFmlG87q1nwT1RmXas7DYMNV6HJy73by0KsRbTr1/O3sYdKnks9LvjbReRfld6mYjtu9shSi5FFKRXE6PKuQMiBYgjIggLsEXGuaymCLltGaRLgAoAAAAAAAAAAAAAAAAAAAAAAAAAAAAAAAAAAAAAAAAAAAAAAAAAAAAABj49/qZ+BkGLtNf2ep+6Bq9bG5ZNJJrrKf0k/pXmYlRc5lLOetMt7Sf0LzLUtpy+leZjSLag5OyLAyZbUl9MfzPY46pxyR7uJ7RwHS9SqVK8l/wA4HavH8sTb4RGNnUnUzT8ElwRapKUZXTJeFC8o3V4z0+6LtfZ6i01/W5L0ztqlt6W8FCctZPQlZxcYK61ve3guHkjG2dJTc1xytLw04/8AOoym7yS6k/Y3xU68k5L/AKrdSHVp1MwassRH5ckl3Kz8rme3eCLTXSanjiXOLSiHtesnbmprrierb1frh/CSlXDwqK04p9F7arwZrmJoSpTcJcV+fecbU8W4tqRW3sR9Uf4UTGwdo1K7qKo07JNWSXX/ALGppkz8N1stWd+mD/Jow06AADSAAAAFFWrGEXKclGK4tuyX3ArBaoYmnUvu5xnbjlknbxsXL/mB6CmE1JJxaafBrVFQAAAACnMr5bq9r26bdYFQAAAFMqkU0m0nJ2V3xdm9Psm/sBUCmE1JKUWnFq6ad00+lMqAAo3kbpZld3sr8bcbFYAAAAUuaTSbSb4K+r8CoAAW99DPkzLPa+W+tvD7PyAuAAAAAAAAApjJO9mnZ2duh9RUAAAAAAAAALGMpOdKcY8WrIvgDU57AxDbdofxFL+H8R1Q/iNuBnxhdadL4dxL6IfxGRhNgV4LnKN7/UbSDVekntALZNXqj5lH6GrX4R8zYgdPUlnxhrX6Cqu6ajlevzcH1j9D4jLlai/+78zZQSbzKxGNa2dsStTjPMo5pyb0l0Wsv9TIWy6vVHzJ0CLzEYTXZ1AR2TVStaPHrKVsetd6Rs+/gzYQX1JTxhr8dk1k+Ef4ukxtq/DtWtFOKjnjwu+K6jaQSbzPUkVxoPJLF9VP+P8A2MjBfDWLpzu1Dg185uwOeNAAKBDbZjjnVp/hWsltfl43/av0Wtw7yZAHhibVhKVCSim5ZoWsr/tx1sZh42lxdgI7EYWpHNX3mapFKyiskXGLbcWru902tX1FlQc5UK8961Kq5JJztCLi1C8Vw4K/i09CUq04zWWaUk+h6p/YrAicPh6kI0HHeKTzqSbllXNk1ePBaqOvuUU95ZZN/n3ct7vM3zZdMt9M2b6NLfYmU7gDBwtKUKkNajUqTc80pSWZONuPB6y4f6FnExr7ycYZ8qe+i+h2Vt1fvav4MlTy4EPPfNU5T3ihPPJpZ7xbayRahzlaP2ve/QeuDzQdV1pLdtZoRqJ/NdJ5edexLtpK70R6BgZqqwiclKVTIrr9rxeXptrp9jBcpxjJOVXJvKVnaom03zkszcvtcnDyUFK10nZpq/WukCGnOStZ11RdaKV3PO1klmSvz7Xt+dugrpQm502lUdONeThnUsyjuJJt5tbZm7X6/AlpQTtdJ2d1fofWvMqAhcPny0t/+I/uaWXJn+a3OzZf2r2+bT8yuW8de/6xfrMrj+stk4XvfJZ6PRXXXclwBCYenVhDLSVRTTr/AD5sub9nWXFcO7j3nlXeZKm5/EX3FTNnz3z25uXN+1e/y6fkTgAw6FJwrSSdRwcE3mk5LNd8L8NOhGNVo1HOpK9Vfr4KNpSSyOMFKy4W1lr0EoegRKhWjLLDPpUqZczbVt3zbt8VmfSeJN0rQ/Eqo93ncs/1xva+nX8ulu4lwBE4qDjKon+I0itzu3N626WtG7/Xpa3eU1cPUW8kt4pylQTcZStbPHPZcLWv9rku3biAIfFqoptQ3qyZFC28lmWl23fL1p5rvTwLk6E3JO9bWs07Tklks+jgl3/mSl1a91bjcAQ841UoRe93alVT1m5fPzLuPOay318CqUK9oJSqSVVODlzouCzXUtdU8jkrvVtRJc8AiFv3FynvElKEJqN03GKeacUtdZPo1stD2MJycYxdZUnW0u5KWXdyvdvnKOa3H7dBLgCKpRqxrc5SVHeytlvdvSzl05ePD76cJUAAAAAAAAAAAAAAAAAAAAAAAAAAAAAAAAAAAABDbZr4yFWmsNDNBrXRO7vwl1K1tSZAHhh7W/uJfvQfXwnEzTwDAxNfPOg6XOtUlfm//SqW1fDW2piQryapJ1KkpThPeRlGyUsjdrW016P6k2WKWEhCWZJ3SsrycrLqjd6fYCJq06ioqClUanhJtq3CUVCyVlp8zVukvVKlW6p0ZtqpFShNq6jlvmTfU2oL/ufUS4AhpYqrKManOjTnN6SvBxio2Sbytq7Td/BCVStlUo2nNUq7g0r3accqu0v9L2Jk8krpp8HxAgsZVcoVIQqVKkXhqjakv2uaupa6vTo6kXsfTmlVjnqSio05XduOd5uC6knbuJKjhYQbcU7tWvKTk7dV23ZdxeAtUasZXUZZstr/AHSa/JkbhK9aVSOaSUs0s8G3w10UcunRZ3163clVFK9klfV9/Rr5IqAhKOJqy4TlHNRm3fnuEllteKirNXen5aFccVOMJVLtxpSTnaWeLg1raVk9PmfhbpJgt1qEaiSmrq97XaT8bcV3PQDGhGc8NJzzKU1KVumKfCPilZeNzDp1tIKVWcKW6i4SitZTu8yenFWjZd749EyAMCpWqrCRnJONXLBzstVqs2nhcs18TKUqmSpaCdOzaai/mus9nZcNdSVAENLFVGqesowaneUpZbtSsueo8LarRXRIYOs3GMZyTqZczsnqr2T1S/ojJKcqveyvwv02/wCMCN381iLZnO8mlFO1ua7KUHH5br5k+LRRTxMlRct5VlV3d5wsllk2r/svLa769L6MlwBDRnOTytucY1aTi75lrxtKyutDyGIqSktZWkqilBu7jZOyayrK9P8A34k0AIGE5bmMISnO+HlvIuPy2hp0aO+lun7FdWtWUpRUlBqMN1dtJ81a5VF5uddNX4Lo4ubAHh6AAAAAAACB+Ldq1MHh1Wpyhxy5ZNJyb4ON072429tZurUUIuUmkkrtt2/NnJ/ifb0doV6b3ahGmmkr55Su+nLbyv8AcDpGy9u4bFSyUaueagpyWWUdHbXVd5JnN8Bgd9SjBUsRRqwjLdTjTjh3JvhBzlJylHi/PuJ74ee1KN6WJVOpCH7c5yU7WvfPZqSQG1AiNl/EmFxc5U6VT9ZG94tWvra6fBrwJcC1icRClTlUqPLCCvJ8bL7EZH4pwD/8VS+7sS5y34gwVKG3YU4wiqc6tFuFubznG+nU9fMDfH8UYBf+KpedymPxVgHJRWJg22kklLi/sZ0tl4Z8cPRf/wBuPsQu1vhKlUrYeth4U6U6VWEppLLGUE03ol82gEvtXa1DB095Xnli3ZaNtvqSRFfDvxXHaGIq04UnCEIqSlJ85621S4ebJ/EUIVYShUipQkrNNXTOff8ATaGXF4qP0xt5SA6KAAAAAAACO2ztuhgYKdeTWa6ioxbcmur/AHI/4Y+J/wBI1K6VLdwp5ct5Xbvfj1cCaxmHhVpThUipRlFppq64Gif9LfnxfhT/AKyA6EAAAAAAAAQ22cfiqVWnGhRzxa1eVu7vwuvl0tr39xMgDwwdt2/DTva14XzcPnjx7jPAGuwlTzVnT3Eo7uN9ylkvn/bWqza6d1zKrY2SlP8AXZZqrGKpWj8rnFXs1md073vbXuJgx54SEpXlmfOUrOby3XB2vboTtwvqBa2hWcXTWfdQk3mqaaWWivLRX631W6TGqYvnJPE5Ke7Uo1LQ/WO8k9WrOyUdFa+YlQBDTxddwnPO6coUKVRxyq2aWe6d1e3NWmjLtWtVhOVPet8+klJxjdKbaa0VujqJUARUKtWMo3qyklWdNpxjqrPjZcfC3gKO0XJUY7yLm3NVErXVoz4ro1SJUAQNfE1FQvKpn3mEq1GpRjZSjGHBJcOe9HcvOrOFTEONRtwcJ7t5dYZVmsrX4Xt3pEwW61JTi4yvZ6OzafmtQLOCrSnCVR6wk26aS/YWiffe1/uiJe06ihOSqJ3w1WqleMnBxy2uklb5ndO/DjxJ+MUkklZLRIARWJxFWk6iVRy5kJXlFcxOeWUkklold634FWz5J4ms41d6t1S5/N+qrpzUkSh4BFzq1XNNVWk67p2UY2Ss+tXvp/sUSxc8sIOq1JzqreNwhdQlazbi1ms+CWtnwsTAAh6OJq1Yp71w/s8anNjHWTcutPTQq/G1ebC/PrxhKm7fLdLP/Cucr8c1iWLW4jvN5q5Wsrt2Sdr2XReyAxdp4iUHTSeSMm807xVtNFeWiv39XeY08bVUIOElUk8+iSleC/zHl6VpouPR3S56BCTxMoTqyhWdR7mlKKeVpptpzSSV7LXTr8LVfjKmSTjVUlnoxUrwlJZ6ii1zVazT06ePcTJ4BE1q9SG8jvlzakVmnkjJpwvlTy5b361w07yl4yTW8hdvdPnSinLSok5c3ikrvTRkwegQ8sZJZ1Tr72P6r9ZaLyuVRRavFJPR3txX3RXXrVIZ475c2cOdPLF2abyp5ct7rpXd3koAMfAVt5SjK8nxV5Wu7Nq/N0fDitGZIAAAAa78bQ/skZyi50qc1KpBX5yytRvbilNxbXUjUdm7fhCpSnhsG95Km6VW01SpzaV7qysn09D1OkY/CqvQq0pcKkJRf3VjkuzsHusVhqdejF553tUqZYS4xtKVn+0npZ9QG6bJw+0MRGE54qGHw8kpQjRUZzknrrKSeuur116DK2vgKVGinVVfESd7ylUnJLKs2ZwvlXy9R7gcRTjH8RVlTpUaUnCnCK5sFbp0TT18rdZn7WxMJU61DM1OeHnJWtbK1lum9NG15gZ9TDU5SUpU4SlF3jJxTa8H0F0tYWqqlKE1wlGMvNXLoA5h8XVlT27TnK9oSoydld2Vnojp5zT4m/8AiCj/AOZh/wCsQNlrfHODgruNf0mv62Mj4Q2jVxeHq1qkm1KvPdppLLDS0dOrUnJxUk00mno09UzA2HsmOCoulCWaLnKS0tZSei+y6QJE55/06/x2M/d//s6Gc7/6d/47F/uv/wDcDoNWrGEZTm1GMU3JvRJLi2a3S+LJYqpOns/DutkV5VKkt3Dut0699jY60IyhKM0nBpqSlwatrfuNfwm2sDRcqOBoyrNO8o4andX63PRfe4GPsr4uqzx34LFYbc1W7JxldJ2urrqa6U+o2w5tVr1KvxDQlVoujLNDmSabso6NtaHSQNYXxLXxNerS2fQhVVJ2nVqTyxvrwS1fBlNP4kxdHF0cPjcLCmq0ssakJ3jd8Lfe2neQGI2PtHZNepWwd6lGTu1FZtL6KcOOl3qvyJbYvxnh8ZOnRxVGMKuZZG0pQzrha+sZX4f1A3Cp8r8Gc+/6W/Pi/Cn/AFkdBqfK/BnJ/gzHYqk8RDB0N9VqRjZt2jC19XfTp60BuO3fiqvgq0acsJGam3u8ta8pJPS8ct09f/cz9k7Uxlecd7gHQptNucqybXVzLJmtfAePpzxVdYq7x0pO06nzNLjBJ/K1Z6Lo8DfgPQAAAAAhts7Xq4erThTo51JXvrq72yq3T7kyAPDC2w2sPK3XDpt+3Hp6DOKZRTVmk11MCMjUdOEmo04ylKEVu5urdt9ObKl5+zLGVmmlZyjUlF2y52lFPROVunXUkdxCzWSNnxWVWfieSw8HHK4RcepxVvICKntKSzThaV6eHalZpc+c03lcrLh1rvZfWKrfLZJ54xUpKL4p3vGMnqrd3Ekci6lqrcOjqPIUoxVoxiktbJJIDGx7mlStPLz4pu3Ex/x1TWeaFt9ut1bnWz5b3vxtzuFreZJTgpK0kmupq6PN1HNmyxzcM1tfMDC2jXdOpCSTllp1ZZV+00ouxZjj6sYylKzju3NStHjpayU3eLv1q1uOukrbp6SiFGEb2jFZuNklfx6wI2WOrJzhpmUqKTlFf5k8ruoy14daK62JqxVZqUbUnFWyfNzYt3d9OLM+FGEVaMYpdSSXAqcVroteOnEDFx8pKVDLPKnUs+/myf8AoYmErVIqDzJxliK0MrWtt5U/av1ry0JWcFJWkk11NXGVdS43+/WBER2nUspKzjOlUnC8UvlSadlJu2vB/lwMzDVqm9jGcoyUqefSOWzul1vTUyY0IJtqEU3xslrfrK8q42XUBFONJ1cS6s8uWUbPO4OK3cHo76dJRSxk401Od826Vm07u87RbjdK7ur8OPQSzpRbzOMb9dlfzLccMs8pycpOStaVrJcbJJf1uBhRxdW8oXipKpCN3FcJK+qUuPke/i6mbducE964Z3HoUFJK17ZtbfYkIUoxVoxikuhJIoxGHVSOW7jd3dknfxTTT8gMGnjakpRhngs06i3iWjyW0Sv8zu/4WZeArupTvKzalKN48JZW1deRVSwkIwyNZk2281ndvpfQXkrKy0QHoAAAAAAAAAAAAAc2+PdnSo1N7Bc3O6kWv2c3zL+JJ+M/LpJg7Y2csTQlTds3GLkrq/U11NNp9z6wNG2LiKFedPEVqtOpJQy1qU5SUm/llNJvLO8Em0vp4XN32djsJXS/DzpzyJxWVfKla6XdpH8jmMLbOx8JVqW8pK6cJxTa6HHXS6fB8GrPhIzNnbSjg8bVq0YwqU3rBVL0pRU3rGP7Kt5PSwHQtj1041KS40JuDXVH5ofytL7MkCLrU4w/tlGKzyisyTtvF0RfRfV2l0ddrmdhcTCtBTg7p9as01o010NPRpgVV6ypwlOV7RV3li5P7Jas5ftipiK+1Fi4YTEOnCdNxTpSTahbu6bM6oAI7Zm2IYltRpV6bSu1VpSh+fC/3JEADF2hjY4ek6k4zkl0Qi5Sb6kkc6+EcTWweLqVauExO7qxabjSk3F5k+rVHTy3WrRhHNOSjHRXbstXZfmBC/E1GrjNmTWGUs01GSi04Skk7uNnqvA174Q2xPCUPw08DinUzt3p0uN/qva1v6G7rG0n/mR0zdP0vLLyej7yx+lKe9yucFBwTjPPxedxcbdzsvF2A0bbMcbDalLGvBVH8uWEXneitaTjez/5qbth8RiauEqTnR3FZxlkgpqbWnNbdkk79Be2ljlQpylzXJK6i3a+q9y5PG0ouSdSCceN3w1t/VpfcDV9lfFlanTVPH4TEqpHTeRpNqXe1pr4XI7HYCW09o0auHw1SjSi4urWqQ3eazvdLpdlbr6+BvU8ZSj81SK1tq7a3S/q15os0dowySlVcKdp1I6y0tCTje78E31XAp2xtFYai5uFSbd1GNODk27Pq4LvNC+CK9XA1Ku+wuKyVIxWaNGTs434r7nQ/wAfRzSjvYZo3usyurK7v4LXwKYbToSaUa1Nt2slJa34efR1gal8X/DsquXaGCU41UoylBJxm7aqSXFSXSv9eOVsL4tqzhGGKwmJ3nDPTpNxl3tdD8PyNle0KCvetTVmk7yXGTaXm019me08dSlKMYzUnOLlG2qaTs9eHEDIAAAAACH2xt38LVhT3TnmV2726bWWmr/2Jg8cU+KWnAAYe1pNUJOLad4LR5XrOK4rgZpRVpRnFxnFSi+Kaun9gMC8qFOc8klbLdTrSqZlfhG7dpa6dbsgsdOcaeXKpVM0lHK5NRi0tdVqrq+uj0szLp4OlH5aUI6p6RS1XB/mz2WFpvjTi9W+C4vi/uBHy2nUdJ1IxgstBVmnd3+bmrh9PH8iutj6sHOLUG1uHHilarUcLPwtx/IzlhqeVxyRyuORrKrZfpt1avQt4rBwqpppauF3ZXahPMovrV7+bAxK2KqKe7k1mjOi80LxTjOTVmrv6X09KK8NjqlRxkocyTatlknFa6uXB8NVbS/TYy4YWnFWjCKV1LRLiuD8QsLTUs6pxzXbvZXu+L8QMXC4qrO8ZZY1LKWVwkra663an4ru01PNrSd6CSqNSqtONOeSUlu5u17rpSfHoMmOCopNKlBJ2usqto7pfZl6UE2m0m4u6bXB2auvs2vuBF0p1abjmzKMpzcIznmkoqne0mm785N8XxPKuOrbu94Jzw86sWk+a4qOmr1+fjpw6SUlTjK10na9rrhdW/oebiGnMjpFxWi0i7XXhotO4DBljKuZwjlcowjKTySeZyvorPmrm8dfDQ9qY+cVUm4JRpwUnF3zXcb2b4K3XqZMsFSaSdKDSVksq0T4rwLu7jrzVrx04+IGF+JrpStBTdk01FwXzJNWk9bLXjra2hRHFVJToqM4/wB5KNRbuUXpBys03daf6PgZawVJJxVKFna6yro4eRV+Ep2S3cbKWZaLR9fiBaxmInGUYU7ZmnJ3i5aK3U11+PczEW0qk4OcFBJYenWtK7+ZTeXRr6eP5EjVoQm05wjJq9rq/HiI4emk0oRScVBpJfKr2j4K707wI3H4ypKjinTcYKlTfXnbdNSumnpbMuvVdBm46bW7s2r1YJ26r8CurgqU9Z0oS0trFPTq8CutRhUWWcYyXG0ldAYuPxDpyTXRSqytd2vHLa6+5YxmKqRhUUnFfq1NOF01zkmu/wAdPAzo4SklZU4JWasoq1na/nZeRXKjCXGMXpbVdHUBgPaUnFSjFLPU3cU03KNk23OK16NI96110q/F1ebDLFTlNxUpRai0o5rqN736LX6G7mZPDwlmzQi81s10tbcL+BS8JSy5N3DLe9rK1+vx7wI+nXqbyOaV/wBbVTSbs7Qulbq7i/g8ZUlKkpqFqtJ1FlT5rWTS7evz93AyoYanG2WEVa7VopWurP8AIqjRisrUUsqyx04LTRdS0XkgLgAAAAAAAAAAidu7Gjiqclli27XjJtKVuGq1jJdEu+zTWhzbbU8ThakaE8RUnGCzRjNNSjpw1umujRuLOvmPjMDSrpKrBSs7xfTF9cXxT8AOWbI+IZ4etKcatW0pK0G1Km0+KlBu64q0k/Y32lQdVrGYGsoSqqMqlKfOpz00zJO8ZcFddXAwsf8AA+Hq3a49d8svBtc1r/tv3kJifgfE0044eUlGXzLeKztw+nrfG4G4vbcKUlDFRdCX1O8qT/dqWt52fcZssdRVN1d7DdxV3PMnFLxNHhsTalFR3c6cNLNU4uK6FqoxcZdOrXSRlX4c2nKtnWGo34XUKKg11uLSTffYDoex9rQxlOVWlCpGmpOMZTjbPbpjrwJA57h/hbak3HNXp4aMeG6ll4//ACwsiUwPwhiYpqrtGvbNe1NtPxzNvj4eYG3FFalGcJQmrxkmmutMqLOLw6q0pU22lJWuv+fkBirZWHVOcf2alnJud9Y251303V2+l6suS2fTbSbfy5XG6SlG99Ulwv1WLL2NByzPK3mnJpwTjecFHRdC5qfe7nuD2RGlUU87m0ornLg1BQvHqul536wPNp0acqtOMnNSrJ0nkklpllPnJ/uuzXWXqWAox3lrONVyzRbVm56y79W27d5anspOtvc/Co6lnFPV03Tavxy2d7FlbAgqMKWa0Y0nSdopXTtzl1T5q1/2AyVs2jenZvNSUop5szabTlmve7bSd+N+korbOoRU3ObirVMzc0llqNOSfUrrjxXWU4LZ1q06ko5Wqs5Qskm8ySu2nqu52/JHuJ2Oqs6spVH+spzp2UVopqK+7WRcfYDyjs5Z6s6jWR1M9K0laN6Sp34aO2ZcWtSups+jHKpVGruko3kk26TzRS01el/sXsZgt9SVNyy9doqzVmrd3G+j6PEVcCpKheXOoyUk7Xu8koarwk/vYCzR2fSjDKnKEVNSSbS1hO68VfrK4YGnC8oTaa3ivmVv1kszv/3amNPYUJKzcWv161gnbfSzPyZ7U2HGX7WVZoytGNotqDg8yT1TT/JASdOLUUm3JpJNvi+8rKacFGKiuCSS6OBUAAAAAAAAAAAAAAAAAAAAAAAAAAAAAAAAAAAAAAAAAAAAAAAAAAAAAADw9AAAAAAAAAAAAAAAAAAAAAAAAAAAAAAAAAAAAAAAAAAAAAAAAAAAAAAAAAAAAAAAAAAAAAAAAAAAAAAAAAAAAAAAAAAAAAAAAAAAAAAAAAEdvZfU/MtSx0VdurFJSUXeaVpO1ovv1WneVkfX2TGdd1czSa1hbRzyygp+KjJr7LqAko1pNJqTafBp8Smnis98tTNbjaV/+cGQ0thNuT33FJWcNHllBpTSfOXMatppJns9gp08m8fytLm8G4ySaV+hyv8AYCZ37zZc7zWva+tuuxTLFpXvUSs0neXBy4J+N1bxI5bHjm+bmZs2S2nzOVuPDU9xOyY1KkpuUlKU6UtG7LduLs43s75eLWlwJGeJy2zTy3va8rcNWezxDjbNO12kru12+C8SEfw+nTnCVW+ZS/y1a7jlzNXte9n0fYqq7Cc3NutKOdp3pxyNWldWd+haJ9CAm97Lrfmeb2X1PzIZbD1k97a8bLLDK01GKVtXzU4qSj0PpJHC0N3TjC7k1xk+Mm9W34ttgZG9l9T8xvZfU/MpAFW9l9T8xvZfU/MpAFW9l9T8xvZfU/MpAFW9l9T8xvZfU/MpAFW9l9T8xvZfU/MpAFW9l9T8xvZfU/MpAFW9l9T8xvZfU/MpAFW9l9T8xvZfU/MpAFW9l9T8xvZfU/MpAFW9l9T8yxisbOFrOXW3ZysrpcFx4/16i6R20N9vKe7jG2ZZ7yak4RtK8UulNWtfW7XSB5tCviMlqVRzcubaU1G6le+XKrqSUXZ3XTxa0kaVabim53vqmrpWfDpfQYUaEk701kk/mllUYyvre129Lt267mZCCilFcEkl4IC5vZfU/Mb2X1PzKQBVvZfU/Mb2X1PzKQBVvZfU/Mb2X1PzKQBVvZfU/Mb2X1PzKQBVvZfU/Mb2X1PzKQBVvZfU/Mb2X1PzKQBVvZfU/Mb2X1PzKQBVvZfU/Mb2X1PzKQBVvZfU/Mb2X1PzKQBVvZfU/Mb2X1PzKQBVvZfU/Mb2X1PzKQBVvZfU/Mb2X1PzKQBVvZfU/Mb2X1PzKQBRQxu8vllLR2ev/Oou72X1PzLFPDqMnLVtq2vQrt2X3bLoGWAAAAAAAAAAAAAAAAAAAAAAAAAAAAAAAAAAAAAAAAAAAAAAAAAAAAAAAAAAAAAAAAAAAAAAAAAAAAAAAADXuW2z+1l6cvYcttn9tL05ewGwg17lts/tpenL2HLbZ/bS9OXsBsINe5bbP7aXpy9hy22f20vTl7AbCDXuW2z+2l6cvYcttn9tL05ewGwg17lts/tpenL2HLbZ/bS9OXsBsINe5bbP7aXpy9hy22f20vTl7AbCDXuW2z+2l6cvYcttn9tL05ewGwg17lts/tpenL2HLbZ/bS9OXsBsINe5bbP7aXpy9hy22f20vTl7AbCDXuW2z+2l6cvYcttn9tL05ewGwg17lts/tpenL2HLbZ/bS9OXsBsINe5bbP7aXpy9hy22f20vTl7AbCDXuW2z+2l6cvYcttn9tL05ewGwg17lts/tpenL2HLbZ/bS9OXsBsINe5bbP7aXpy9hy22f20vTl7AbCDXuW2z+2l6cvYcttn9tL05ewGwg17lts/tpenL2HLbZ/bS9OXsBsINe5bbP7aXpy9hy22f20vTl7AbCDXuW2z+2l6cvYcttn9tL05ewGwg17lts/tpenL2HLbZ/bS9OXsBsINe5bbP7aXpy9hy22f20vTl7AbCDXuW2z+2l6cvYcttn9tL05ewGwg17lts/tpenL2HLbZ/bS9OXsBsINe5bbP7aXpy9hy22f20vTl7AbCDXuW2z+2l6cvYcttn9tL05ewGwg17lts/tpenL2HLbZ/bS9OXsBsINe5bbP7aXpy9hy22f20vTl7AbCDXuW2z+2l6cvYcttn9tL05ewGwg17lts/tpenL2HLbZ/bS9OXsBsINe5bbP7aXpy9hy22f20vTl7AcpAAAAAAAAAAAAAAAAAAAAAAAAAAAAAAAAAAAAAAAAAAAAAAAAAAAAAAAAAAAAAAAAAAAAAAAAAAAAAAAAAAAAAAAAAAAAAAAAAAAAAAAAAAAAAAAAAAAAAAAAAAAAAAAAAAAAAAAAAAAAAAAAAAAAAAAAAAAAAAAAAAAAAAAAAAAAAAAAAAAAAAAAAAAAAAAAAAAAAAAAAAAAAAAAAAAAAAAAAAAAAAAAAAAAAAAAAAAAAAAAAAAAAAAAAAAAAAAAAAAAAAAAAAAAAAAAAAAAAAAAAAAAAAAAAAAAAAAAAAAAAAAAAAAAAAAAAAAAAAAB/9k=\n"
                },
                "metadata": {}
              }
            ]
          }
        },
        "f498773b45134dd2a16f3324b90f596c": {
          "model_module": "@jupyter-widgets/output",
          "model_name": "OutputModel",
          "model_module_version": "1.0.0",
          "state": {
            "_dom_classes": [],
            "_model_module": "@jupyter-widgets/output",
            "_model_module_version": "1.0.0",
            "_model_name": "OutputModel",
            "_view_count": null,
            "_view_module": "@jupyter-widgets/output",
            "_view_module_version": "1.0.0",
            "_view_name": "OutputView",
            "layout": "IPY_MODEL_f74843c2f8d94d0b93f7fb3bb72b9169",
            "msg_id": "",
            "outputs": [
              {
                "output_type": "stream",
                "name": "stdout",
                "text": [
                  "Video available at https://www.bilibili.com/video/BV1sA411P7Rq\n"
                ]
              },
              {
                "output_type": "display_data",
                "data": {
                  "text/plain": "<__main__.PlayVideo at 0x7f67a8813940>",
                  "text/html": "\n        <iframe\n            width=\"854\"\n            height=\"480\"\n            src=\"https://player.bilibili.com/player.html?bvid=BV1sA411P7Rq&page=1?fs=1&autoplay=False\"\n            frameborder=\"0\"\n            allowfullscreen\n            \n        ></iframe>\n        "
                },
                "metadata": {}
              }
            ]
          }
        },
        "0484c4bdcb784324be7f4fb3c01331b3": {
          "model_module": "@jupyter-widgets/base",
          "model_name": "LayoutModel",
          "model_module_version": "1.2.0",
          "state": {
            "_model_module": "@jupyter-widgets/base",
            "_model_module_version": "1.2.0",
            "_model_name": "LayoutModel",
            "_view_count": null,
            "_view_module": "@jupyter-widgets/base",
            "_view_module_version": "1.2.0",
            "_view_name": "LayoutView",
            "align_content": null,
            "align_items": null,
            "align_self": null,
            "border": null,
            "bottom": null,
            "display": null,
            "flex": null,
            "flex_flow": null,
            "grid_area": null,
            "grid_auto_columns": null,
            "grid_auto_flow": null,
            "grid_auto_rows": null,
            "grid_column": null,
            "grid_gap": null,
            "grid_row": null,
            "grid_template_areas": null,
            "grid_template_columns": null,
            "grid_template_rows": null,
            "height": null,
            "justify_content": null,
            "justify_items": null,
            "left": null,
            "margin": null,
            "max_height": null,
            "max_width": null,
            "min_height": null,
            "min_width": null,
            "object_fit": null,
            "object_position": null,
            "order": null,
            "overflow": null,
            "overflow_x": null,
            "overflow_y": null,
            "padding": null,
            "right": null,
            "top": null,
            "visibility": null,
            "width": null
          }
        },
        "183c060616e644b4a1d71ecec71780bf": {
          "model_module": "@jupyter-widgets/base",
          "model_name": "LayoutModel",
          "model_module_version": "1.2.0",
          "state": {
            "_model_module": "@jupyter-widgets/base",
            "_model_module_version": "1.2.0",
            "_model_name": "LayoutModel",
            "_view_count": null,
            "_view_module": "@jupyter-widgets/base",
            "_view_module_version": "1.2.0",
            "_view_name": "LayoutView",
            "align_content": null,
            "align_items": null,
            "align_self": null,
            "border": null,
            "bottom": null,
            "display": null,
            "flex": null,
            "flex_flow": null,
            "grid_area": null,
            "grid_auto_columns": null,
            "grid_auto_flow": null,
            "grid_auto_rows": null,
            "grid_column": null,
            "grid_gap": null,
            "grid_row": null,
            "grid_template_areas": null,
            "grid_template_columns": null,
            "grid_template_rows": null,
            "height": null,
            "justify_content": null,
            "justify_items": null,
            "left": null,
            "margin": null,
            "max_height": null,
            "max_width": null,
            "min_height": null,
            "min_width": null,
            "object_fit": null,
            "object_position": null,
            "order": null,
            "overflow": null,
            "overflow_x": null,
            "overflow_y": null,
            "padding": null,
            "right": null,
            "top": null,
            "visibility": null,
            "width": null
          }
        },
        "f74843c2f8d94d0b93f7fb3bb72b9169": {
          "model_module": "@jupyter-widgets/base",
          "model_name": "LayoutModel",
          "model_module_version": "1.2.0",
          "state": {
            "_model_module": "@jupyter-widgets/base",
            "_model_module_version": "1.2.0",
            "_model_name": "LayoutModel",
            "_view_count": null,
            "_view_module": "@jupyter-widgets/base",
            "_view_module_version": "1.2.0",
            "_view_name": "LayoutView",
            "align_content": null,
            "align_items": null,
            "align_self": null,
            "border": null,
            "bottom": null,
            "display": null,
            "flex": null,
            "flex_flow": null,
            "grid_area": null,
            "grid_auto_columns": null,
            "grid_auto_flow": null,
            "grid_auto_rows": null,
            "grid_column": null,
            "grid_gap": null,
            "grid_row": null,
            "grid_template_areas": null,
            "grid_template_columns": null,
            "grid_template_rows": null,
            "height": null,
            "justify_content": null,
            "justify_items": null,
            "left": null,
            "margin": null,
            "max_height": null,
            "max_width": null,
            "min_height": null,
            "min_width": null,
            "object_fit": null,
            "object_position": null,
            "order": null,
            "overflow": null,
            "overflow_x": null,
            "overflow_y": null,
            "padding": null,
            "right": null,
            "top": null,
            "visibility": null,
            "width": null
          }
        },
        "5ffd145215eb4effb3e153906ab58c04": {
          "model_module": "@jupyter-widgets/controls",
          "model_name": "TabModel",
          "model_module_version": "1.5.0",
          "state": {
            "_dom_classes": [],
            "_model_module": "@jupyter-widgets/controls",
            "_model_module_version": "1.5.0",
            "_model_name": "TabModel",
            "_titles": {
              "0": "Youtube",
              "1": "Bilibili"
            },
            "_view_count": null,
            "_view_module": "@jupyter-widgets/controls",
            "_view_module_version": "1.5.0",
            "_view_name": "TabView",
            "box_style": "",
            "children": [
              "IPY_MODEL_1a6447d78f414dc1a2e7c2eefb0d6d50",
              "IPY_MODEL_8c8bb9482504460e861ee558d486a7fe"
            ],
            "layout": "IPY_MODEL_b6c36e731c29430cb907f38124abeb4c",
            "selected_index": 0
          }
        },
        "1a6447d78f414dc1a2e7c2eefb0d6d50": {
          "model_module": "@jupyter-widgets/output",
          "model_name": "OutputModel",
          "model_module_version": "1.0.0",
          "state": {
            "_dom_classes": [],
            "_model_module": "@jupyter-widgets/output",
            "_model_module_version": "1.0.0",
            "_model_name": "OutputModel",
            "_view_count": null,
            "_view_module": "@jupyter-widgets/output",
            "_view_module_version": "1.0.0",
            "_view_name": "OutputView",
            "layout": "IPY_MODEL_2812b6631638451dbeab57c3b9a1600d",
            "msg_id": "",
            "outputs": [
              {
                "output_type": "stream",
                "name": "stdout",
                "text": [
                  "Video available at https://youtube.com/watch?v=u25FfNIAKsg\n"
                ]
              },
              {
                "output_type": "display_data",
                "data": {
                  "text/plain": "<IPython.lib.display.YouTubeVideo at 0x7f67a886c790>",
                  "text/html": "\n        <iframe\n            width=\"854\"\n            height=\"480\"\n            src=\"https://www.youtube.com/embed/u25FfNIAKsg?fs=1&rel=0\"\n            frameborder=\"0\"\n            allowfullscreen\n            \n        ></iframe>\n        ",
                  "image/jpeg": "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\n"
                },
                "metadata": {}
              }
            ]
          }
        },
        "8c8bb9482504460e861ee558d486a7fe": {
          "model_module": "@jupyter-widgets/output",
          "model_name": "OutputModel",
          "model_module_version": "1.0.0",
          "state": {
            "_dom_classes": [],
            "_model_module": "@jupyter-widgets/output",
            "_model_module_version": "1.0.0",
            "_model_name": "OutputModel",
            "_view_count": null,
            "_view_module": "@jupyter-widgets/output",
            "_view_module_version": "1.0.0",
            "_view_name": "OutputView",
            "layout": "IPY_MODEL_7017999a79594699a6474435c7440c36",
            "msg_id": "",
            "outputs": [
              {
                "output_type": "stream",
                "name": "stdout",
                "text": [
                  "Video available at https://www.bilibili.com/video/BV1Mb4y167eg\n"
                ]
              },
              {
                "output_type": "display_data",
                "data": {
                  "text/plain": "<__main__.PlayVideo at 0x7f67a886c6a0>",
                  "text/html": "\n        <iframe\n            width=\"854\"\n            height=\"480\"\n            src=\"https://player.bilibili.com/player.html?bvid=BV1Mb4y167eg&page=1?fs=1&autoplay=False\"\n            frameborder=\"0\"\n            allowfullscreen\n            \n        ></iframe>\n        "
                },
                "metadata": {}
              }
            ]
          }
        },
        "b6c36e731c29430cb907f38124abeb4c": {
          "model_module": "@jupyter-widgets/base",
          "model_name": "LayoutModel",
          "model_module_version": "1.2.0",
          "state": {
            "_model_module": "@jupyter-widgets/base",
            "_model_module_version": "1.2.0",
            "_model_name": "LayoutModel",
            "_view_count": null,
            "_view_module": "@jupyter-widgets/base",
            "_view_module_version": "1.2.0",
            "_view_name": "LayoutView",
            "align_content": null,
            "align_items": null,
            "align_self": null,
            "border": null,
            "bottom": null,
            "display": null,
            "flex": null,
            "flex_flow": null,
            "grid_area": null,
            "grid_auto_columns": null,
            "grid_auto_flow": null,
            "grid_auto_rows": null,
            "grid_column": null,
            "grid_gap": null,
            "grid_row": null,
            "grid_template_areas": null,
            "grid_template_columns": null,
            "grid_template_rows": null,
            "height": null,
            "justify_content": null,
            "justify_items": null,
            "left": null,
            "margin": null,
            "max_height": null,
            "max_width": null,
            "min_height": null,
            "min_width": null,
            "object_fit": null,
            "object_position": null,
            "order": null,
            "overflow": null,
            "overflow_x": null,
            "overflow_y": null,
            "padding": null,
            "right": null,
            "top": null,
            "visibility": null,
            "width": null
          }
        },
        "2812b6631638451dbeab57c3b9a1600d": {
          "model_module": "@jupyter-widgets/base",
          "model_name": "LayoutModel",
          "model_module_version": "1.2.0",
          "state": {
            "_model_module": "@jupyter-widgets/base",
            "_model_module_version": "1.2.0",
            "_model_name": "LayoutModel",
            "_view_count": null,
            "_view_module": "@jupyter-widgets/base",
            "_view_module_version": "1.2.0",
            "_view_name": "LayoutView",
            "align_content": null,
            "align_items": null,
            "align_self": null,
            "border": null,
            "bottom": null,
            "display": null,
            "flex": null,
            "flex_flow": null,
            "grid_area": null,
            "grid_auto_columns": null,
            "grid_auto_flow": null,
            "grid_auto_rows": null,
            "grid_column": null,
            "grid_gap": null,
            "grid_row": null,
            "grid_template_areas": null,
            "grid_template_columns": null,
            "grid_template_rows": null,
            "height": null,
            "justify_content": null,
            "justify_items": null,
            "left": null,
            "margin": null,
            "max_height": null,
            "max_width": null,
            "min_height": null,
            "min_width": null,
            "object_fit": null,
            "object_position": null,
            "order": null,
            "overflow": null,
            "overflow_x": null,
            "overflow_y": null,
            "padding": null,
            "right": null,
            "top": null,
            "visibility": null,
            "width": null
          }
        },
        "7017999a79594699a6474435c7440c36": {
          "model_module": "@jupyter-widgets/base",
          "model_name": "LayoutModel",
          "model_module_version": "1.2.0",
          "state": {
            "_model_module": "@jupyter-widgets/base",
            "_model_module_version": "1.2.0",
            "_model_name": "LayoutModel",
            "_view_count": null,
            "_view_module": "@jupyter-widgets/base",
            "_view_module_version": "1.2.0",
            "_view_name": "LayoutView",
            "align_content": null,
            "align_items": null,
            "align_self": null,
            "border": null,
            "bottom": null,
            "display": null,
            "flex": null,
            "flex_flow": null,
            "grid_area": null,
            "grid_auto_columns": null,
            "grid_auto_flow": null,
            "grid_auto_rows": null,
            "grid_column": null,
            "grid_gap": null,
            "grid_row": null,
            "grid_template_areas": null,
            "grid_template_columns": null,
            "grid_template_rows": null,
            "height": null,
            "justify_content": null,
            "justify_items": null,
            "left": null,
            "margin": null,
            "max_height": null,
            "max_width": null,
            "min_height": null,
            "min_width": null,
            "object_fit": null,
            "object_position": null,
            "order": null,
            "overflow": null,
            "overflow_x": null,
            "overflow_y": null,
            "padding": null,
            "right": null,
            "top": null,
            "visibility": null,
            "width": null
          }
        },
        "74ec7c2e588448daa669f72d991a4e8f": {
          "model_module": "@jupyter-widgets/controls",
          "model_name": "TabModel",
          "model_module_version": "1.5.0",
          "state": {
            "_dom_classes": [],
            "_model_module": "@jupyter-widgets/controls",
            "_model_module_version": "1.5.0",
            "_model_name": "TabModel",
            "_titles": {
              "0": "Youtube",
              "1": "Bilibili"
            },
            "_view_count": null,
            "_view_module": "@jupyter-widgets/controls",
            "_view_module_version": "1.5.0",
            "_view_name": "TabView",
            "box_style": "",
            "children": [
              "IPY_MODEL_541726252e0140df85aabd39e10e8cd9",
              "IPY_MODEL_f38a03a0c4e240f4b14dc87ecfc4d48c"
            ],
            "layout": "IPY_MODEL_451b84ca5e6742ea9f077cfc660ac9cc",
            "selected_index": 0
          }
        },
        "541726252e0140df85aabd39e10e8cd9": {
          "model_module": "@jupyter-widgets/output",
          "model_name": "OutputModel",
          "model_module_version": "1.0.0",
          "state": {
            "_dom_classes": [],
            "_model_module": "@jupyter-widgets/output",
            "_model_module_version": "1.0.0",
            "_model_name": "OutputModel",
            "_view_count": null,
            "_view_module": "@jupyter-widgets/output",
            "_view_module_version": "1.0.0",
            "_view_name": "OutputView",
            "layout": "IPY_MODEL_60d4cb793431445191d71ccbe86d2398",
            "msg_id": "",
            "outputs": [
              {
                "output_type": "stream",
                "name": "stdout",
                "text": [
                  "Video available at https://youtube.com/watch?v=13bFN4L6c9I\n"
                ]
              },
              {
                "output_type": "display_data",
                "data": {
                  "text/plain": "<IPython.lib.display.YouTubeVideo at 0x7f67a894df30>",
                  "text/html": "\n        <iframe\n            width=\"854\"\n            height=\"480\"\n            src=\"https://www.youtube.com/embed/13bFN4L6c9I?fs=1&rel=0\"\n            frameborder=\"0\"\n            allowfullscreen\n            \n        ></iframe>\n        ",
                  "image/jpeg": "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\n"
                },
                "metadata": {}
              }
            ]
          }
        },
        "f38a03a0c4e240f4b14dc87ecfc4d48c": {
          "model_module": "@jupyter-widgets/output",
          "model_name": "OutputModel",
          "model_module_version": "1.0.0",
          "state": {
            "_dom_classes": [],
            "_model_module": "@jupyter-widgets/output",
            "_model_module_version": "1.0.0",
            "_model_name": "OutputModel",
            "_view_count": null,
            "_view_module": "@jupyter-widgets/output",
            "_view_module_version": "1.0.0",
            "_view_name": "OutputView",
            "layout": "IPY_MODEL_6bfc161076dd4e7fa517b305aa9a1c8b",
            "msg_id": "",
            "outputs": [
              {
                "output_type": "stream",
                "name": "stdout",
                "text": [
                  "Video available at https://www.bilibili.com/video/BV1YA411P766\n"
                ]
              },
              {
                "output_type": "display_data",
                "data": {
                  "text/plain": "<__main__.PlayVideo at 0x7f67a894df60>",
                  "text/html": "\n        <iframe\n            width=\"854\"\n            height=\"480\"\n            src=\"https://player.bilibili.com/player.html?bvid=BV1YA411P766&page=1?fs=1&autoplay=False\"\n            frameborder=\"0\"\n            allowfullscreen\n            \n        ></iframe>\n        "
                },
                "metadata": {}
              }
            ]
          }
        },
        "451b84ca5e6742ea9f077cfc660ac9cc": {
          "model_module": "@jupyter-widgets/base",
          "model_name": "LayoutModel",
          "model_module_version": "1.2.0",
          "state": {
            "_model_module": "@jupyter-widgets/base",
            "_model_module_version": "1.2.0",
            "_model_name": "LayoutModel",
            "_view_count": null,
            "_view_module": "@jupyter-widgets/base",
            "_view_module_version": "1.2.0",
            "_view_name": "LayoutView",
            "align_content": null,
            "align_items": null,
            "align_self": null,
            "border": null,
            "bottom": null,
            "display": null,
            "flex": null,
            "flex_flow": null,
            "grid_area": null,
            "grid_auto_columns": null,
            "grid_auto_flow": null,
            "grid_auto_rows": null,
            "grid_column": null,
            "grid_gap": null,
            "grid_row": null,
            "grid_template_areas": null,
            "grid_template_columns": null,
            "grid_template_rows": null,
            "height": null,
            "justify_content": null,
            "justify_items": null,
            "left": null,
            "margin": null,
            "max_height": null,
            "max_width": null,
            "min_height": null,
            "min_width": null,
            "object_fit": null,
            "object_position": null,
            "order": null,
            "overflow": null,
            "overflow_x": null,
            "overflow_y": null,
            "padding": null,
            "right": null,
            "top": null,
            "visibility": null,
            "width": null
          }
        },
        "60d4cb793431445191d71ccbe86d2398": {
          "model_module": "@jupyter-widgets/base",
          "model_name": "LayoutModel",
          "model_module_version": "1.2.0",
          "state": {
            "_model_module": "@jupyter-widgets/base",
            "_model_module_version": "1.2.0",
            "_model_name": "LayoutModel",
            "_view_count": null,
            "_view_module": "@jupyter-widgets/base",
            "_view_module_version": "1.2.0",
            "_view_name": "LayoutView",
            "align_content": null,
            "align_items": null,
            "align_self": null,
            "border": null,
            "bottom": null,
            "display": null,
            "flex": null,
            "flex_flow": null,
            "grid_area": null,
            "grid_auto_columns": null,
            "grid_auto_flow": null,
            "grid_auto_rows": null,
            "grid_column": null,
            "grid_gap": null,
            "grid_row": null,
            "grid_template_areas": null,
            "grid_template_columns": null,
            "grid_template_rows": null,
            "height": null,
            "justify_content": null,
            "justify_items": null,
            "left": null,
            "margin": null,
            "max_height": null,
            "max_width": null,
            "min_height": null,
            "min_width": null,
            "object_fit": null,
            "object_position": null,
            "order": null,
            "overflow": null,
            "overflow_x": null,
            "overflow_y": null,
            "padding": null,
            "right": null,
            "top": null,
            "visibility": null,
            "width": null
          }
        },
        "6bfc161076dd4e7fa517b305aa9a1c8b": {
          "model_module": "@jupyter-widgets/base",
          "model_name": "LayoutModel",
          "model_module_version": "1.2.0",
          "state": {
            "_model_module": "@jupyter-widgets/base",
            "_model_module_version": "1.2.0",
            "_model_name": "LayoutModel",
            "_view_count": null,
            "_view_module": "@jupyter-widgets/base",
            "_view_module_version": "1.2.0",
            "_view_name": "LayoutView",
            "align_content": null,
            "align_items": null,
            "align_self": null,
            "border": null,
            "bottom": null,
            "display": null,
            "flex": null,
            "flex_flow": null,
            "grid_area": null,
            "grid_auto_columns": null,
            "grid_auto_flow": null,
            "grid_auto_rows": null,
            "grid_column": null,
            "grid_gap": null,
            "grid_row": null,
            "grid_template_areas": null,
            "grid_template_columns": null,
            "grid_template_rows": null,
            "height": null,
            "justify_content": null,
            "justify_items": null,
            "left": null,
            "margin": null,
            "max_height": null,
            "max_width": null,
            "min_height": null,
            "min_width": null,
            "object_fit": null,
            "object_position": null,
            "order": null,
            "overflow": null,
            "overflow_x": null,
            "overflow_y": null,
            "padding": null,
            "right": null,
            "top": null,
            "visibility": null,
            "width": null
          }
        },
        "4298e1c89fc04312853a87a65a307a5d": {
          "model_module": "@jupyter-widgets/controls",
          "model_name": "TabModel",
          "model_module_version": "1.5.0",
          "state": {
            "_dom_classes": [],
            "_model_module": "@jupyter-widgets/controls",
            "_model_module_version": "1.5.0",
            "_model_name": "TabModel",
            "_titles": {
              "0": "Youtube",
              "1": "Bilibili"
            },
            "_view_count": null,
            "_view_module": "@jupyter-widgets/controls",
            "_view_module_version": "1.5.0",
            "_view_name": "TabView",
            "box_style": "",
            "children": [
              "IPY_MODEL_e018d004217a4f43b7f5689f798a6dea",
              "IPY_MODEL_73f7041f18a8475f9ab9e3bb3a8f9667"
            ],
            "layout": "IPY_MODEL_eb150f66028d4728bd548fedf9d615dd",
            "selected_index": 0
          }
        },
        "e018d004217a4f43b7f5689f798a6dea": {
          "model_module": "@jupyter-widgets/output",
          "model_name": "OutputModel",
          "model_module_version": "1.0.0",
          "state": {
            "_dom_classes": [],
            "_model_module": "@jupyter-widgets/output",
            "_model_module_version": "1.0.0",
            "_model_name": "OutputModel",
            "_view_count": null,
            "_view_module": "@jupyter-widgets/output",
            "_view_module_version": "1.0.0",
            "_view_name": "OutputView",
            "layout": "IPY_MODEL_44d15233a1fe4e2ebb7806dceaa1b7c6",
            "msg_id": "",
            "outputs": [
              {
                "output_type": "stream",
                "name": "stdout",
                "text": [
                  "Video available at https://youtube.com/watch?v=cIjaEE6tKpk\n"
                ]
              },
              {
                "output_type": "display_data",
                "data": {
                  "text/plain": "<IPython.lib.display.YouTubeVideo at 0x7f67a886fd00>",
                  "text/html": "\n        <iframe\n            width=\"854\"\n            height=\"480\"\n            src=\"https://www.youtube.com/embed/cIjaEE6tKpk?fs=1&rel=0\"\n            frameborder=\"0\"\n            allowfullscreen\n            \n        ></iframe>\n        ",
                  "image/jpeg": "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\n"
                },
                "metadata": {}
              }
            ]
          }
        },
        "73f7041f18a8475f9ab9e3bb3a8f9667": {
          "model_module": "@jupyter-widgets/output",
          "model_name": "OutputModel",
          "model_module_version": "1.0.0",
          "state": {
            "_dom_classes": [],
            "_model_module": "@jupyter-widgets/output",
            "_model_module_version": "1.0.0",
            "_model_name": "OutputModel",
            "_view_count": null,
            "_view_module": "@jupyter-widgets/output",
            "_view_module_version": "1.0.0",
            "_view_name": "OutputView",
            "layout": "IPY_MODEL_c14f6f24373c466f9b51627ac76746d1",
            "msg_id": "",
            "outputs": [
              {
                "output_type": "stream",
                "name": "stdout",
                "text": [
                  "Video available at https://www.bilibili.com/video/BV1A64y1z74c\n"
                ]
              },
              {
                "output_type": "display_data",
                "data": {
                  "text/plain": "<__main__.PlayVideo at 0x7f67a886ffd0>",
                  "text/html": "\n        <iframe\n            width=\"854\"\n            height=\"480\"\n            src=\"https://player.bilibili.com/player.html?bvid=BV1A64y1z74c&page=1?fs=1&autoplay=False\"\n            frameborder=\"0\"\n            allowfullscreen\n            \n        ></iframe>\n        "
                },
                "metadata": {}
              }
            ]
          }
        },
        "eb150f66028d4728bd548fedf9d615dd": {
          "model_module": "@jupyter-widgets/base",
          "model_name": "LayoutModel",
          "model_module_version": "1.2.0",
          "state": {
            "_model_module": "@jupyter-widgets/base",
            "_model_module_version": "1.2.0",
            "_model_name": "LayoutModel",
            "_view_count": null,
            "_view_module": "@jupyter-widgets/base",
            "_view_module_version": "1.2.0",
            "_view_name": "LayoutView",
            "align_content": null,
            "align_items": null,
            "align_self": null,
            "border": null,
            "bottom": null,
            "display": null,
            "flex": null,
            "flex_flow": null,
            "grid_area": null,
            "grid_auto_columns": null,
            "grid_auto_flow": null,
            "grid_auto_rows": null,
            "grid_column": null,
            "grid_gap": null,
            "grid_row": null,
            "grid_template_areas": null,
            "grid_template_columns": null,
            "grid_template_rows": null,
            "height": null,
            "justify_content": null,
            "justify_items": null,
            "left": null,
            "margin": null,
            "max_height": null,
            "max_width": null,
            "min_height": null,
            "min_width": null,
            "object_fit": null,
            "object_position": null,
            "order": null,
            "overflow": null,
            "overflow_x": null,
            "overflow_y": null,
            "padding": null,
            "right": null,
            "top": null,
            "visibility": null,
            "width": null
          }
        },
        "44d15233a1fe4e2ebb7806dceaa1b7c6": {
          "model_module": "@jupyter-widgets/base",
          "model_name": "LayoutModel",
          "model_module_version": "1.2.0",
          "state": {
            "_model_module": "@jupyter-widgets/base",
            "_model_module_version": "1.2.0",
            "_model_name": "LayoutModel",
            "_view_count": null,
            "_view_module": "@jupyter-widgets/base",
            "_view_module_version": "1.2.0",
            "_view_name": "LayoutView",
            "align_content": null,
            "align_items": null,
            "align_self": null,
            "border": null,
            "bottom": null,
            "display": null,
            "flex": null,
            "flex_flow": null,
            "grid_area": null,
            "grid_auto_columns": null,
            "grid_auto_flow": null,
            "grid_auto_rows": null,
            "grid_column": null,
            "grid_gap": null,
            "grid_row": null,
            "grid_template_areas": null,
            "grid_template_columns": null,
            "grid_template_rows": null,
            "height": null,
            "justify_content": null,
            "justify_items": null,
            "left": null,
            "margin": null,
            "max_height": null,
            "max_width": null,
            "min_height": null,
            "min_width": null,
            "object_fit": null,
            "object_position": null,
            "order": null,
            "overflow": null,
            "overflow_x": null,
            "overflow_y": null,
            "padding": null,
            "right": null,
            "top": null,
            "visibility": null,
            "width": null
          }
        },
        "c14f6f24373c466f9b51627ac76746d1": {
          "model_module": "@jupyter-widgets/base",
          "model_name": "LayoutModel",
          "model_module_version": "1.2.0",
          "state": {
            "_model_module": "@jupyter-widgets/base",
            "_model_module_version": "1.2.0",
            "_model_name": "LayoutModel",
            "_view_count": null,
            "_view_module": "@jupyter-widgets/base",
            "_view_module_version": "1.2.0",
            "_view_name": "LayoutView",
            "align_content": null,
            "align_items": null,
            "align_self": null,
            "border": null,
            "bottom": null,
            "display": null,
            "flex": null,
            "flex_flow": null,
            "grid_area": null,
            "grid_auto_columns": null,
            "grid_auto_flow": null,
            "grid_auto_rows": null,
            "grid_column": null,
            "grid_gap": null,
            "grid_row": null,
            "grid_template_areas": null,
            "grid_template_columns": null,
            "grid_template_rows": null,
            "height": null,
            "justify_content": null,
            "justify_items": null,
            "left": null,
            "margin": null,
            "max_height": null,
            "max_width": null,
            "min_height": null,
            "min_width": null,
            "object_fit": null,
            "object_position": null,
            "order": null,
            "overflow": null,
            "overflow_x": null,
            "overflow_y": null,
            "padding": null,
            "right": null,
            "top": null,
            "visibility": null,
            "width": null
          }
        },
        "608dbf7423d2406995650f21509c7d9b": {
          "model_module": "@jupyter-widgets/controls",
          "model_name": "TabModel",
          "model_module_version": "1.5.0",
          "state": {
            "_dom_classes": [],
            "_model_module": "@jupyter-widgets/controls",
            "_model_module_version": "1.5.0",
            "_model_name": "TabModel",
            "_titles": {
              "0": "Youtube",
              "1": "Bilibili"
            },
            "_view_count": null,
            "_view_module": "@jupyter-widgets/controls",
            "_view_module_version": "1.5.0",
            "_view_name": "TabView",
            "box_style": "",
            "children": [
              "IPY_MODEL_ea6eeee4d3724e3ea102a69012979002",
              "IPY_MODEL_442a756e28f442e8b8f90d93ecf25b23"
            ],
            "layout": "IPY_MODEL_75eab6c0923245dcb2b8fcd60e984f54",
            "selected_index": 0
          }
        },
        "ea6eeee4d3724e3ea102a69012979002": {
          "model_module": "@jupyter-widgets/output",
          "model_name": "OutputModel",
          "model_module_version": "1.0.0",
          "state": {
            "_dom_classes": [],
            "_model_module": "@jupyter-widgets/output",
            "_model_module_version": "1.0.0",
            "_model_name": "OutputModel",
            "_view_count": null,
            "_view_module": "@jupyter-widgets/output",
            "_view_module_version": "1.0.0",
            "_view_name": "OutputView",
            "layout": "IPY_MODEL_d290601deecb45abbf5d4848ef02dd55",
            "msg_id": "",
            "outputs": [
              {
                "output_type": "stream",
                "name": "stdout",
                "text": [
                  "Video available at https://youtube.com/watch?v=PD6l9pkjw-c\n"
                ]
              },
              {
                "output_type": "display_data",
                "data": {
                  "text/plain": "<IPython.lib.display.YouTubeVideo at 0x7f67a8694520>",
                  "text/html": "\n        <iframe\n            width=\"854\"\n            height=\"480\"\n            src=\"https://www.youtube.com/embed/PD6l9pkjw-c?fs=1&rel=0\"\n            frameborder=\"0\"\n            allowfullscreen\n            \n        ></iframe>\n        ",
                  "image/jpeg": "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\n"
                },
                "metadata": {}
              }
            ]
          }
        },
        "442a756e28f442e8b8f90d93ecf25b23": {
          "model_module": "@jupyter-widgets/output",
          "model_name": "OutputModel",
          "model_module_version": "1.0.0",
          "state": {
            "_dom_classes": [],
            "_model_module": "@jupyter-widgets/output",
            "_model_module_version": "1.0.0",
            "_model_name": "OutputModel",
            "_view_count": null,
            "_view_module": "@jupyter-widgets/output",
            "_view_module_version": "1.0.0",
            "_view_name": "OutputView",
            "layout": "IPY_MODEL_816c85b2514c4fdfb947891e487f4efc",
            "msg_id": "",
            "outputs": [
              {
                "output_type": "stream",
                "name": "stdout",
                "text": [
                  "Video available at https://www.bilibili.com/video/BV1Yv411K7GS\n"
                ]
              },
              {
                "output_type": "display_data",
                "data": {
                  "text/plain": "<__main__.PlayVideo at 0x7f67a8694460>",
                  "text/html": "\n        <iframe\n            width=\"854\"\n            height=\"480\"\n            src=\"https://player.bilibili.com/player.html?bvid=BV1Yv411K7GS&page=1?fs=1&autoplay=False\"\n            frameborder=\"0\"\n            allowfullscreen\n            \n        ></iframe>\n        "
                },
                "metadata": {}
              }
            ]
          }
        },
        "75eab6c0923245dcb2b8fcd60e984f54": {
          "model_module": "@jupyter-widgets/base",
          "model_name": "LayoutModel",
          "model_module_version": "1.2.0",
          "state": {
            "_model_module": "@jupyter-widgets/base",
            "_model_module_version": "1.2.0",
            "_model_name": "LayoutModel",
            "_view_count": null,
            "_view_module": "@jupyter-widgets/base",
            "_view_module_version": "1.2.0",
            "_view_name": "LayoutView",
            "align_content": null,
            "align_items": null,
            "align_self": null,
            "border": null,
            "bottom": null,
            "display": null,
            "flex": null,
            "flex_flow": null,
            "grid_area": null,
            "grid_auto_columns": null,
            "grid_auto_flow": null,
            "grid_auto_rows": null,
            "grid_column": null,
            "grid_gap": null,
            "grid_row": null,
            "grid_template_areas": null,
            "grid_template_columns": null,
            "grid_template_rows": null,
            "height": null,
            "justify_content": null,
            "justify_items": null,
            "left": null,
            "margin": null,
            "max_height": null,
            "max_width": null,
            "min_height": null,
            "min_width": null,
            "object_fit": null,
            "object_position": null,
            "order": null,
            "overflow": null,
            "overflow_x": null,
            "overflow_y": null,
            "padding": null,
            "right": null,
            "top": null,
            "visibility": null,
            "width": null
          }
        },
        "d290601deecb45abbf5d4848ef02dd55": {
          "model_module": "@jupyter-widgets/base",
          "model_name": "LayoutModel",
          "model_module_version": "1.2.0",
          "state": {
            "_model_module": "@jupyter-widgets/base",
            "_model_module_version": "1.2.0",
            "_model_name": "LayoutModel",
            "_view_count": null,
            "_view_module": "@jupyter-widgets/base",
            "_view_module_version": "1.2.0",
            "_view_name": "LayoutView",
            "align_content": null,
            "align_items": null,
            "align_self": null,
            "border": null,
            "bottom": null,
            "display": null,
            "flex": null,
            "flex_flow": null,
            "grid_area": null,
            "grid_auto_columns": null,
            "grid_auto_flow": null,
            "grid_auto_rows": null,
            "grid_column": null,
            "grid_gap": null,
            "grid_row": null,
            "grid_template_areas": null,
            "grid_template_columns": null,
            "grid_template_rows": null,
            "height": null,
            "justify_content": null,
            "justify_items": null,
            "left": null,
            "margin": null,
            "max_height": null,
            "max_width": null,
            "min_height": null,
            "min_width": null,
            "object_fit": null,
            "object_position": null,
            "order": null,
            "overflow": null,
            "overflow_x": null,
            "overflow_y": null,
            "padding": null,
            "right": null,
            "top": null,
            "visibility": null,
            "width": null
          }
        },
        "816c85b2514c4fdfb947891e487f4efc": {
          "model_module": "@jupyter-widgets/base",
          "model_name": "LayoutModel",
          "model_module_version": "1.2.0",
          "state": {
            "_model_module": "@jupyter-widgets/base",
            "_model_module_version": "1.2.0",
            "_model_name": "LayoutModel",
            "_view_count": null,
            "_view_module": "@jupyter-widgets/base",
            "_view_module_version": "1.2.0",
            "_view_name": "LayoutView",
            "align_content": null,
            "align_items": null,
            "align_self": null,
            "border": null,
            "bottom": null,
            "display": null,
            "flex": null,
            "flex_flow": null,
            "grid_area": null,
            "grid_auto_columns": null,
            "grid_auto_flow": null,
            "grid_auto_rows": null,
            "grid_column": null,
            "grid_gap": null,
            "grid_row": null,
            "grid_template_areas": null,
            "grid_template_columns": null,
            "grid_template_rows": null,
            "height": null,
            "justify_content": null,
            "justify_items": null,
            "left": null,
            "margin": null,
            "max_height": null,
            "max_width": null,
            "min_height": null,
            "min_width": null,
            "object_fit": null,
            "object_position": null,
            "order": null,
            "overflow": null,
            "overflow_x": null,
            "overflow_y": null,
            "padding": null,
            "right": null,
            "top": null,
            "visibility": null,
            "width": null
          }
        },
        "e9c5a393abcf414d8c7da0157cb5ffc0": {
          "model_module": "@jupyter-widgets/controls",
          "model_name": "TabModel",
          "model_module_version": "1.5.0",
          "state": {
            "_dom_classes": [],
            "_model_module": "@jupyter-widgets/controls",
            "_model_module_version": "1.5.0",
            "_model_name": "TabModel",
            "_titles": {
              "0": "Youtube",
              "1": "Bilibili"
            },
            "_view_count": null,
            "_view_module": "@jupyter-widgets/controls",
            "_view_module_version": "1.5.0",
            "_view_name": "TabView",
            "box_style": "",
            "children": [
              "IPY_MODEL_1e6a9b14a000415390f0dfe51d15eaf8",
              "IPY_MODEL_f86ced71da044e6c9824d5cdb7ad69a0"
            ],
            "layout": "IPY_MODEL_552933dc1e05450aa2b223d21f172927",
            "selected_index": 0
          }
        },
        "1e6a9b14a000415390f0dfe51d15eaf8": {
          "model_module": "@jupyter-widgets/output",
          "model_name": "OutputModel",
          "model_module_version": "1.0.0",
          "state": {
            "_dom_classes": [],
            "_model_module": "@jupyter-widgets/output",
            "_model_module_version": "1.0.0",
            "_model_name": "OutputModel",
            "_view_count": null,
            "_view_module": "@jupyter-widgets/output",
            "_view_module_version": "1.0.0",
            "_view_name": "OutputView",
            "layout": "IPY_MODEL_351164437bb24e96a9ebf3730e59d04f",
            "msg_id": "",
            "outputs": [
              {
                "output_type": "stream",
                "name": "stdout",
                "text": [
                  "Video available at https://youtube.com/watch?v=6UCLk37XWDs\n"
                ]
              },
              {
                "output_type": "display_data",
                "data": {
                  "text/plain": "<IPython.lib.display.YouTubeVideo at 0x7f67a86bf9d0>",
                  "text/html": "\n        <iframe\n            width=\"854\"\n            height=\"480\"\n            src=\"https://www.youtube.com/embed/6UCLk37XWDs?fs=1&rel=0\"\n            frameborder=\"0\"\n            allowfullscreen\n            \n        ></iframe>\n        ",
                  "image/jpeg": "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\n"
                },
                "metadata": {}
              }
            ]
          }
        },
        "f86ced71da044e6c9824d5cdb7ad69a0": {
          "model_module": "@jupyter-widgets/output",
          "model_name": "OutputModel",
          "model_module_version": "1.0.0",
          "state": {
            "_dom_classes": [],
            "_model_module": "@jupyter-widgets/output",
            "_model_module_version": "1.0.0",
            "_model_name": "OutputModel",
            "_view_count": null,
            "_view_module": "@jupyter-widgets/output",
            "_view_module_version": "1.0.0",
            "_view_name": "OutputView",
            "layout": "IPY_MODEL_bf2ac203f6564cc9b415f1679bdeea03",
            "msg_id": "",
            "outputs": [
              {
                "output_type": "stream",
                "name": "stdout",
                "text": [
                  "Video available at https://www.bilibili.com/video/BV1Zb4y1z7aT\n"
                ]
              },
              {
                "output_type": "display_data",
                "data": {
                  "text/plain": "<__main__.PlayVideo at 0x7f67a86bf910>",
                  "text/html": "\n        <iframe\n            width=\"854\"\n            height=\"480\"\n            src=\"https://player.bilibili.com/player.html?bvid=BV1Zb4y1z7aT&page=1?fs=1&autoplay=False\"\n            frameborder=\"0\"\n            allowfullscreen\n            \n        ></iframe>\n        "
                },
                "metadata": {}
              }
            ]
          }
        },
        "552933dc1e05450aa2b223d21f172927": {
          "model_module": "@jupyter-widgets/base",
          "model_name": "LayoutModel",
          "model_module_version": "1.2.0",
          "state": {
            "_model_module": "@jupyter-widgets/base",
            "_model_module_version": "1.2.0",
            "_model_name": "LayoutModel",
            "_view_count": null,
            "_view_module": "@jupyter-widgets/base",
            "_view_module_version": "1.2.0",
            "_view_name": "LayoutView",
            "align_content": null,
            "align_items": null,
            "align_self": null,
            "border": null,
            "bottom": null,
            "display": null,
            "flex": null,
            "flex_flow": null,
            "grid_area": null,
            "grid_auto_columns": null,
            "grid_auto_flow": null,
            "grid_auto_rows": null,
            "grid_column": null,
            "grid_gap": null,
            "grid_row": null,
            "grid_template_areas": null,
            "grid_template_columns": null,
            "grid_template_rows": null,
            "height": null,
            "justify_content": null,
            "justify_items": null,
            "left": null,
            "margin": null,
            "max_height": null,
            "max_width": null,
            "min_height": null,
            "min_width": null,
            "object_fit": null,
            "object_position": null,
            "order": null,
            "overflow": null,
            "overflow_x": null,
            "overflow_y": null,
            "padding": null,
            "right": null,
            "top": null,
            "visibility": null,
            "width": null
          }
        },
        "351164437bb24e96a9ebf3730e59d04f": {
          "model_module": "@jupyter-widgets/base",
          "model_name": "LayoutModel",
          "model_module_version": "1.2.0",
          "state": {
            "_model_module": "@jupyter-widgets/base",
            "_model_module_version": "1.2.0",
            "_model_name": "LayoutModel",
            "_view_count": null,
            "_view_module": "@jupyter-widgets/base",
            "_view_module_version": "1.2.0",
            "_view_name": "LayoutView",
            "align_content": null,
            "align_items": null,
            "align_self": null,
            "border": null,
            "bottom": null,
            "display": null,
            "flex": null,
            "flex_flow": null,
            "grid_area": null,
            "grid_auto_columns": null,
            "grid_auto_flow": null,
            "grid_auto_rows": null,
            "grid_column": null,
            "grid_gap": null,
            "grid_row": null,
            "grid_template_areas": null,
            "grid_template_columns": null,
            "grid_template_rows": null,
            "height": null,
            "justify_content": null,
            "justify_items": null,
            "left": null,
            "margin": null,
            "max_height": null,
            "max_width": null,
            "min_height": null,
            "min_width": null,
            "object_fit": null,
            "object_position": null,
            "order": null,
            "overflow": null,
            "overflow_x": null,
            "overflow_y": null,
            "padding": null,
            "right": null,
            "top": null,
            "visibility": null,
            "width": null
          }
        },
        "bf2ac203f6564cc9b415f1679bdeea03": {
          "model_module": "@jupyter-widgets/base",
          "model_name": "LayoutModel",
          "model_module_version": "1.2.0",
          "state": {
            "_model_module": "@jupyter-widgets/base",
            "_model_module_version": "1.2.0",
            "_model_name": "LayoutModel",
            "_view_count": null,
            "_view_module": "@jupyter-widgets/base",
            "_view_module_version": "1.2.0",
            "_view_name": "LayoutView",
            "align_content": null,
            "align_items": null,
            "align_self": null,
            "border": null,
            "bottom": null,
            "display": null,
            "flex": null,
            "flex_flow": null,
            "grid_area": null,
            "grid_auto_columns": null,
            "grid_auto_flow": null,
            "grid_auto_rows": null,
            "grid_column": null,
            "grid_gap": null,
            "grid_row": null,
            "grid_template_areas": null,
            "grid_template_columns": null,
            "grid_template_rows": null,
            "height": null,
            "justify_content": null,
            "justify_items": null,
            "left": null,
            "margin": null,
            "max_height": null,
            "max_width": null,
            "min_height": null,
            "min_width": null,
            "object_fit": null,
            "object_position": null,
            "order": null,
            "overflow": null,
            "overflow_x": null,
            "overflow_y": null,
            "padding": null,
            "right": null,
            "top": null,
            "visibility": null,
            "width": null
          }
        },
        "8356598d6ffe4a3d91ec04f41acf7223": {
          "model_module": "@jupyter-widgets/controls",
          "model_name": "TabModel",
          "model_module_version": "1.5.0",
          "state": {
            "_dom_classes": [],
            "_model_module": "@jupyter-widgets/controls",
            "_model_module_version": "1.5.0",
            "_model_name": "TabModel",
            "_titles": {
              "0": "Youtube",
              "1": "Bilibili"
            },
            "_view_count": null,
            "_view_module": "@jupyter-widgets/controls",
            "_view_module_version": "1.5.0",
            "_view_name": "TabView",
            "box_style": "",
            "children": [
              "IPY_MODEL_57f9a6a5884643bf862973613cefcdd9",
              "IPY_MODEL_3525a84e71634b0f8f84ae2591069e06"
            ],
            "layout": "IPY_MODEL_6d1dd60da6da466b93d82be9aa6b4ff0",
            "selected_index": 0
          }
        },
        "57f9a6a5884643bf862973613cefcdd9": {
          "model_module": "@jupyter-widgets/output",
          "model_name": "OutputModel",
          "model_module_version": "1.0.0",
          "state": {
            "_dom_classes": [],
            "_model_module": "@jupyter-widgets/output",
            "_model_module_version": "1.0.0",
            "_model_name": "OutputModel",
            "_view_count": null,
            "_view_module": "@jupyter-widgets/output",
            "_view_module_version": "1.0.0",
            "_view_name": "OutputView",
            "layout": "IPY_MODEL_5d8b1d86b510428c92cf984d58f18c44",
            "msg_id": "",
            "outputs": [
              {
                "output_type": "stream",
                "name": "stdout",
                "text": [
                  "Video available at https://youtube.com/watch?v=UGByJ-_0whk\n"
                ]
              },
              {
                "output_type": "display_data",
                "data": {
                  "text/plain": "<IPython.lib.display.YouTubeVideo at 0x7f67a886c2b0>",
                  "text/html": "\n        <iframe\n            width=\"854\"\n            height=\"480\"\n            src=\"https://www.youtube.com/embed/UGByJ-_0whk?fs=1&rel=0\"\n            frameborder=\"0\"\n            allowfullscreen\n            \n        ></iframe>\n        ",
                  "image/jpeg": "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\n"
                },
                "metadata": {}
              }
            ]
          }
        },
        "3525a84e71634b0f8f84ae2591069e06": {
          "model_module": "@jupyter-widgets/output",
          "model_name": "OutputModel",
          "model_module_version": "1.0.0",
          "state": {
            "_dom_classes": [],
            "_model_module": "@jupyter-widgets/output",
            "_model_module_version": "1.0.0",
            "_model_name": "OutputModel",
            "_view_count": null,
            "_view_module": "@jupyter-widgets/output",
            "_view_module_version": "1.0.0",
            "_view_name": "OutputView",
            "layout": "IPY_MODEL_b9dafbd7f73648e89bb14c16e8748eb3",
            "msg_id": "",
            "outputs": [
              {
                "output_type": "stream",
                "name": "stdout",
                "text": [
                  "Video available at https://www.bilibili.com/video/BV1Dq4y1n7ks\n"
                ]
              },
              {
                "output_type": "display_data",
                "data": {
                  "text/plain": "<__main__.PlayVideo at 0x7f67a886edd0>",
                  "text/html": "\n        <iframe\n            width=\"854\"\n            height=\"480\"\n            src=\"https://player.bilibili.com/player.html?bvid=BV1Dq4y1n7ks&page=1?fs=1&autoplay=False\"\n            frameborder=\"0\"\n            allowfullscreen\n            \n        ></iframe>\n        "
                },
                "metadata": {}
              }
            ]
          }
        },
        "6d1dd60da6da466b93d82be9aa6b4ff0": {
          "model_module": "@jupyter-widgets/base",
          "model_name": "LayoutModel",
          "model_module_version": "1.2.0",
          "state": {
            "_model_module": "@jupyter-widgets/base",
            "_model_module_version": "1.2.0",
            "_model_name": "LayoutModel",
            "_view_count": null,
            "_view_module": "@jupyter-widgets/base",
            "_view_module_version": "1.2.0",
            "_view_name": "LayoutView",
            "align_content": null,
            "align_items": null,
            "align_self": null,
            "border": null,
            "bottom": null,
            "display": null,
            "flex": null,
            "flex_flow": null,
            "grid_area": null,
            "grid_auto_columns": null,
            "grid_auto_flow": null,
            "grid_auto_rows": null,
            "grid_column": null,
            "grid_gap": null,
            "grid_row": null,
            "grid_template_areas": null,
            "grid_template_columns": null,
            "grid_template_rows": null,
            "height": null,
            "justify_content": null,
            "justify_items": null,
            "left": null,
            "margin": null,
            "max_height": null,
            "max_width": null,
            "min_height": null,
            "min_width": null,
            "object_fit": null,
            "object_position": null,
            "order": null,
            "overflow": null,
            "overflow_x": null,
            "overflow_y": null,
            "padding": null,
            "right": null,
            "top": null,
            "visibility": null,
            "width": null
          }
        },
        "5d8b1d86b510428c92cf984d58f18c44": {
          "model_module": "@jupyter-widgets/base",
          "model_name": "LayoutModel",
          "model_module_version": "1.2.0",
          "state": {
            "_model_module": "@jupyter-widgets/base",
            "_model_module_version": "1.2.0",
            "_model_name": "LayoutModel",
            "_view_count": null,
            "_view_module": "@jupyter-widgets/base",
            "_view_module_version": "1.2.0",
            "_view_name": "LayoutView",
            "align_content": null,
            "align_items": null,
            "align_self": null,
            "border": null,
            "bottom": null,
            "display": null,
            "flex": null,
            "flex_flow": null,
            "grid_area": null,
            "grid_auto_columns": null,
            "grid_auto_flow": null,
            "grid_auto_rows": null,
            "grid_column": null,
            "grid_gap": null,
            "grid_row": null,
            "grid_template_areas": null,
            "grid_template_columns": null,
            "grid_template_rows": null,
            "height": null,
            "justify_content": null,
            "justify_items": null,
            "left": null,
            "margin": null,
            "max_height": null,
            "max_width": null,
            "min_height": null,
            "min_width": null,
            "object_fit": null,
            "object_position": null,
            "order": null,
            "overflow": null,
            "overflow_x": null,
            "overflow_y": null,
            "padding": null,
            "right": null,
            "top": null,
            "visibility": null,
            "width": null
          }
        },
        "b9dafbd7f73648e89bb14c16e8748eb3": {
          "model_module": "@jupyter-widgets/base",
          "model_name": "LayoutModel",
          "model_module_version": "1.2.0",
          "state": {
            "_model_module": "@jupyter-widgets/base",
            "_model_module_version": "1.2.0",
            "_model_name": "LayoutModel",
            "_view_count": null,
            "_view_module": "@jupyter-widgets/base",
            "_view_module_version": "1.2.0",
            "_view_name": "LayoutView",
            "align_content": null,
            "align_items": null,
            "align_self": null,
            "border": null,
            "bottom": null,
            "display": null,
            "flex": null,
            "flex_flow": null,
            "grid_area": null,
            "grid_auto_columns": null,
            "grid_auto_flow": null,
            "grid_auto_rows": null,
            "grid_column": null,
            "grid_gap": null,
            "grid_row": null,
            "grid_template_areas": null,
            "grid_template_columns": null,
            "grid_template_rows": null,
            "height": null,
            "justify_content": null,
            "justify_items": null,
            "left": null,
            "margin": null,
            "max_height": null,
            "max_width": null,
            "min_height": null,
            "min_width": null,
            "object_fit": null,
            "object_position": null,
            "order": null,
            "overflow": null,
            "overflow_x": null,
            "overflow_y": null,
            "padding": null,
            "right": null,
            "top": null,
            "visibility": null,
            "width": null
          }
        },
        "5901571ea6d442f19cf3028b0e84d698": {
          "model_module": "@jupyter-widgets/controls",
          "model_name": "TabModel",
          "model_module_version": "1.5.0",
          "state": {
            "_dom_classes": [],
            "_model_module": "@jupyter-widgets/controls",
            "_model_module_version": "1.5.0",
            "_model_name": "TabModel",
            "_titles": {
              "0": "Youtube",
              "1": "Bilibili"
            },
            "_view_count": null,
            "_view_module": "@jupyter-widgets/controls",
            "_view_module_version": "1.5.0",
            "_view_name": "TabView",
            "box_style": "",
            "children": [
              "IPY_MODEL_ad45e4e32de143fc83da0a9e977e07f3",
              "IPY_MODEL_e5af80d6c45c4cb6b32e72b10f14a59f"
            ],
            "layout": "IPY_MODEL_784680192c9c4f6dbab50af1ad1e0c83",
            "selected_index": 0
          }
        },
        "ad45e4e32de143fc83da0a9e977e07f3": {
          "model_module": "@jupyter-widgets/output",
          "model_name": "OutputModel",
          "model_module_version": "1.0.0",
          "state": {
            "_dom_classes": [],
            "_model_module": "@jupyter-widgets/output",
            "_model_module_version": "1.0.0",
            "_model_name": "OutputModel",
            "_view_count": null,
            "_view_module": "@jupyter-widgets/output",
            "_view_module_version": "1.0.0",
            "_view_name": "OutputView",
            "layout": "IPY_MODEL_e210b03349404bd888024c06a3c45e11",
            "msg_id": "",
            "outputs": [
              {
                "output_type": "stream",
                "name": "stdout",
                "text": [
                  "Video available at https://youtube.com/watch?v=DJsK2bc9wuk\n"
                ]
              },
              {
                "output_type": "display_data",
                "data": {
                  "text/plain": "<IPython.lib.display.YouTubeVideo at 0x7f67a862f2e0>",
                  "text/html": "\n        <iframe\n            width=\"854\"\n            height=\"480\"\n            src=\"https://www.youtube.com/embed/DJsK2bc9wuk?fs=1&rel=0\"\n            frameborder=\"0\"\n            allowfullscreen\n            \n        ></iframe>\n        ",
                  "image/jpeg": "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\n"
                },
                "metadata": {}
              }
            ]
          }
        },
        "e5af80d6c45c4cb6b32e72b10f14a59f": {
          "model_module": "@jupyter-widgets/output",
          "model_name": "OutputModel",
          "model_module_version": "1.0.0",
          "state": {
            "_dom_classes": [],
            "_model_module": "@jupyter-widgets/output",
            "_model_module_version": "1.0.0",
            "_model_name": "OutputModel",
            "_view_count": null,
            "_view_module": "@jupyter-widgets/output",
            "_view_module_version": "1.0.0",
            "_view_name": "OutputView",
            "layout": "IPY_MODEL_2d9329e6f9df4ec4bb2b01c74d15a12c",
            "msg_id": "",
            "outputs": [
              {
                "output_type": "stream",
                "name": "stdout",
                "text": [
                  "Video available at https://www.bilibili.com/video/BV1Vy4y1L7V9\n"
                ]
              },
              {
                "output_type": "display_data",
                "data": {
                  "text/plain": "<__main__.PlayVideo at 0x7f67a862dbd0>",
                  "text/html": "\n        <iframe\n            width=\"854\"\n            height=\"480\"\n            src=\"https://player.bilibili.com/player.html?bvid=BV1Vy4y1L7V9&page=1?fs=1&autoplay=False\"\n            frameborder=\"0\"\n            allowfullscreen\n            \n        ></iframe>\n        "
                },
                "metadata": {}
              }
            ]
          }
        },
        "784680192c9c4f6dbab50af1ad1e0c83": {
          "model_module": "@jupyter-widgets/base",
          "model_name": "LayoutModel",
          "model_module_version": "1.2.0",
          "state": {
            "_model_module": "@jupyter-widgets/base",
            "_model_module_version": "1.2.0",
            "_model_name": "LayoutModel",
            "_view_count": null,
            "_view_module": "@jupyter-widgets/base",
            "_view_module_version": "1.2.0",
            "_view_name": "LayoutView",
            "align_content": null,
            "align_items": null,
            "align_self": null,
            "border": null,
            "bottom": null,
            "display": null,
            "flex": null,
            "flex_flow": null,
            "grid_area": null,
            "grid_auto_columns": null,
            "grid_auto_flow": null,
            "grid_auto_rows": null,
            "grid_column": null,
            "grid_gap": null,
            "grid_row": null,
            "grid_template_areas": null,
            "grid_template_columns": null,
            "grid_template_rows": null,
            "height": null,
            "justify_content": null,
            "justify_items": null,
            "left": null,
            "margin": null,
            "max_height": null,
            "max_width": null,
            "min_height": null,
            "min_width": null,
            "object_fit": null,
            "object_position": null,
            "order": null,
            "overflow": null,
            "overflow_x": null,
            "overflow_y": null,
            "padding": null,
            "right": null,
            "top": null,
            "visibility": null,
            "width": null
          }
        },
        "e210b03349404bd888024c06a3c45e11": {
          "model_module": "@jupyter-widgets/base",
          "model_name": "LayoutModel",
          "model_module_version": "1.2.0",
          "state": {
            "_model_module": "@jupyter-widgets/base",
            "_model_module_version": "1.2.0",
            "_model_name": "LayoutModel",
            "_view_count": null,
            "_view_module": "@jupyter-widgets/base",
            "_view_module_version": "1.2.0",
            "_view_name": "LayoutView",
            "align_content": null,
            "align_items": null,
            "align_self": null,
            "border": null,
            "bottom": null,
            "display": null,
            "flex": null,
            "flex_flow": null,
            "grid_area": null,
            "grid_auto_columns": null,
            "grid_auto_flow": null,
            "grid_auto_rows": null,
            "grid_column": null,
            "grid_gap": null,
            "grid_row": null,
            "grid_template_areas": null,
            "grid_template_columns": null,
            "grid_template_rows": null,
            "height": null,
            "justify_content": null,
            "justify_items": null,
            "left": null,
            "margin": null,
            "max_height": null,
            "max_width": null,
            "min_height": null,
            "min_width": null,
            "object_fit": null,
            "object_position": null,
            "order": null,
            "overflow": null,
            "overflow_x": null,
            "overflow_y": null,
            "padding": null,
            "right": null,
            "top": null,
            "visibility": null,
            "width": null
          }
        },
        "2d9329e6f9df4ec4bb2b01c74d15a12c": {
          "model_module": "@jupyter-widgets/base",
          "model_name": "LayoutModel",
          "model_module_version": "1.2.0",
          "state": {
            "_model_module": "@jupyter-widgets/base",
            "_model_module_version": "1.2.0",
            "_model_name": "LayoutModel",
            "_view_count": null,
            "_view_module": "@jupyter-widgets/base",
            "_view_module_version": "1.2.0",
            "_view_name": "LayoutView",
            "align_content": null,
            "align_items": null,
            "align_self": null,
            "border": null,
            "bottom": null,
            "display": null,
            "flex": null,
            "flex_flow": null,
            "grid_area": null,
            "grid_auto_columns": null,
            "grid_auto_flow": null,
            "grid_auto_rows": null,
            "grid_column": null,
            "grid_gap": null,
            "grid_row": null,
            "grid_template_areas": null,
            "grid_template_columns": null,
            "grid_template_rows": null,
            "height": null,
            "justify_content": null,
            "justify_items": null,
            "left": null,
            "margin": null,
            "max_height": null,
            "max_width": null,
            "min_height": null,
            "min_width": null,
            "object_fit": null,
            "object_position": null,
            "order": null,
            "overflow": null,
            "overflow_x": null,
            "overflow_y": null,
            "padding": null,
            "right": null,
            "top": null,
            "visibility": null,
            "width": null
          }
        },
        "09a19c2d71224380b249b26c6872196c": {
          "model_module": "@jupyter-widgets/controls",
          "model_name": "TabModel",
          "model_module_version": "1.5.0",
          "state": {
            "_dom_classes": [],
            "_model_module": "@jupyter-widgets/controls",
            "_model_module_version": "1.5.0",
            "_model_name": "TabModel",
            "_titles": {
              "0": "Youtube",
              "1": "Bilibili"
            },
            "_view_count": null,
            "_view_module": "@jupyter-widgets/controls",
            "_view_module_version": "1.5.0",
            "_view_name": "TabView",
            "box_style": "",
            "children": [
              "IPY_MODEL_c6f23085380849d4b0f8c33d1c2d4043",
              "IPY_MODEL_5d5ae25ff9f0438cbf22e614c63ac75d"
            ],
            "layout": "IPY_MODEL_8705f6afe6e948a29ab8f9f70c00f420",
            "selected_index": 0
          }
        },
        "c6f23085380849d4b0f8c33d1c2d4043": {
          "model_module": "@jupyter-widgets/output",
          "model_name": "OutputModel",
          "model_module_version": "1.0.0",
          "state": {
            "_dom_classes": [],
            "_model_module": "@jupyter-widgets/output",
            "_model_module_version": "1.0.0",
            "_model_name": "OutputModel",
            "_view_count": null,
            "_view_module": "@jupyter-widgets/output",
            "_view_module_version": "1.0.0",
            "_view_name": "OutputView",
            "layout": "IPY_MODEL_e14f692243574f8cba33cfc98d105822",
            "msg_id": "",
            "outputs": [
              {
                "output_type": "stream",
                "name": "stdout",
                "text": [
                  "Video available at https://youtube.com/watch?v=kaf6z-tAxCY\n"
                ]
              },
              {
                "output_type": "display_data",
                "data": {
                  "text/plain": "<IPython.lib.display.YouTubeVideo at 0x7f67a8648e20>",
                  "text/html": "\n        <iframe\n            width=\"854\"\n            height=\"480\"\n            src=\"https://www.youtube.com/embed/kaf6z-tAxCY?fs=1&rel=0\"\n            frameborder=\"0\"\n            allowfullscreen\n            \n        ></iframe>\n        ",
                  "image/jpeg": "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\n"
                },
                "metadata": {}
              }
            ]
          }
        },
        "5d5ae25ff9f0438cbf22e614c63ac75d": {
          "model_module": "@jupyter-widgets/output",
          "model_name": "OutputModel",
          "model_module_version": "1.0.0",
          "state": {
            "_dom_classes": [],
            "_model_module": "@jupyter-widgets/output",
            "_model_module_version": "1.0.0",
            "_model_name": "OutputModel",
            "_view_count": null,
            "_view_module": "@jupyter-widgets/output",
            "_view_module_version": "1.0.0",
            "_view_name": "OutputView",
            "layout": "IPY_MODEL_24b35aad89c8478cae84d453e2034745",
            "msg_id": "",
            "outputs": [
              {
                "output_type": "stream",
                "name": "stdout",
                "text": [
                  "Video available at https://www.bilibili.com/video/BV1oo4y1S77Z\n"
                ]
              },
              {
                "output_type": "display_data",
                "data": {
                  "text/plain": "<__main__.PlayVideo at 0x7f67a8649b40>",
                  "text/html": "\n        <iframe\n            width=\"854\"\n            height=\"480\"\n            src=\"https://player.bilibili.com/player.html?bvid=BV1oo4y1S77Z&page=1?fs=1&autoplay=False\"\n            frameborder=\"0\"\n            allowfullscreen\n            \n        ></iframe>\n        "
                },
                "metadata": {}
              }
            ]
          }
        },
        "8705f6afe6e948a29ab8f9f70c00f420": {
          "model_module": "@jupyter-widgets/base",
          "model_name": "LayoutModel",
          "model_module_version": "1.2.0",
          "state": {
            "_model_module": "@jupyter-widgets/base",
            "_model_module_version": "1.2.0",
            "_model_name": "LayoutModel",
            "_view_count": null,
            "_view_module": "@jupyter-widgets/base",
            "_view_module_version": "1.2.0",
            "_view_name": "LayoutView",
            "align_content": null,
            "align_items": null,
            "align_self": null,
            "border": null,
            "bottom": null,
            "display": null,
            "flex": null,
            "flex_flow": null,
            "grid_area": null,
            "grid_auto_columns": null,
            "grid_auto_flow": null,
            "grid_auto_rows": null,
            "grid_column": null,
            "grid_gap": null,
            "grid_row": null,
            "grid_template_areas": null,
            "grid_template_columns": null,
            "grid_template_rows": null,
            "height": null,
            "justify_content": null,
            "justify_items": null,
            "left": null,
            "margin": null,
            "max_height": null,
            "max_width": null,
            "min_height": null,
            "min_width": null,
            "object_fit": null,
            "object_position": null,
            "order": null,
            "overflow": null,
            "overflow_x": null,
            "overflow_y": null,
            "padding": null,
            "right": null,
            "top": null,
            "visibility": null,
            "width": null
          }
        },
        "e14f692243574f8cba33cfc98d105822": {
          "model_module": "@jupyter-widgets/base",
          "model_name": "LayoutModel",
          "model_module_version": "1.2.0",
          "state": {
            "_model_module": "@jupyter-widgets/base",
            "_model_module_version": "1.2.0",
            "_model_name": "LayoutModel",
            "_view_count": null,
            "_view_module": "@jupyter-widgets/base",
            "_view_module_version": "1.2.0",
            "_view_name": "LayoutView",
            "align_content": null,
            "align_items": null,
            "align_self": null,
            "border": null,
            "bottom": null,
            "display": null,
            "flex": null,
            "flex_flow": null,
            "grid_area": null,
            "grid_auto_columns": null,
            "grid_auto_flow": null,
            "grid_auto_rows": null,
            "grid_column": null,
            "grid_gap": null,
            "grid_row": null,
            "grid_template_areas": null,
            "grid_template_columns": null,
            "grid_template_rows": null,
            "height": null,
            "justify_content": null,
            "justify_items": null,
            "left": null,
            "margin": null,
            "max_height": null,
            "max_width": null,
            "min_height": null,
            "min_width": null,
            "object_fit": null,
            "object_position": null,
            "order": null,
            "overflow": null,
            "overflow_x": null,
            "overflow_y": null,
            "padding": null,
            "right": null,
            "top": null,
            "visibility": null,
            "width": null
          }
        },
        "24b35aad89c8478cae84d453e2034745": {
          "model_module": "@jupyter-widgets/base",
          "model_name": "LayoutModel",
          "model_module_version": "1.2.0",
          "state": {
            "_model_module": "@jupyter-widgets/base",
            "_model_module_version": "1.2.0",
            "_model_name": "LayoutModel",
            "_view_count": null,
            "_view_module": "@jupyter-widgets/base",
            "_view_module_version": "1.2.0",
            "_view_name": "LayoutView",
            "align_content": null,
            "align_items": null,
            "align_self": null,
            "border": null,
            "bottom": null,
            "display": null,
            "flex": null,
            "flex_flow": null,
            "grid_area": null,
            "grid_auto_columns": null,
            "grid_auto_flow": null,
            "grid_auto_rows": null,
            "grid_column": null,
            "grid_gap": null,
            "grid_row": null,
            "grid_template_areas": null,
            "grid_template_columns": null,
            "grid_template_rows": null,
            "height": null,
            "justify_content": null,
            "justify_items": null,
            "left": null,
            "margin": null,
            "max_height": null,
            "max_width": null,
            "min_height": null,
            "min_width": null,
            "object_fit": null,
            "object_position": null,
            "order": null,
            "overflow": null,
            "overflow_x": null,
            "overflow_y": null,
            "padding": null,
            "right": null,
            "top": null,
            "visibility": null,
            "width": null
          }
        },
        "a48e1cc4ce784764bc04abfdc4f433dd": {
          "model_module": "@jupyter-widgets/controls",
          "model_name": "TabModel",
          "model_module_version": "1.5.0",
          "state": {
            "_dom_classes": [],
            "_model_module": "@jupyter-widgets/controls",
            "_model_module_version": "1.5.0",
            "_model_name": "TabModel",
            "_titles": {
              "0": "Youtube",
              "1": "Bilibili"
            },
            "_view_count": null,
            "_view_module": "@jupyter-widgets/controls",
            "_view_module_version": "1.5.0",
            "_view_name": "TabView",
            "box_style": "",
            "children": [
              "IPY_MODEL_5b4b6a43aa3742c3becd2b6fe4f17343",
              "IPY_MODEL_0604e01571db4873811cfd176edadcd9"
            ],
            "layout": "IPY_MODEL_e63d64faf0d94082b47a817edf947aad",
            "selected_index": 0
          }
        },
        "5b4b6a43aa3742c3becd2b6fe4f17343": {
          "model_module": "@jupyter-widgets/output",
          "model_name": "OutputModel",
          "model_module_version": "1.0.0",
          "state": {
            "_dom_classes": [],
            "_model_module": "@jupyter-widgets/output",
            "_model_module_version": "1.0.0",
            "_model_name": "OutputModel",
            "_view_count": null,
            "_view_module": "@jupyter-widgets/output",
            "_view_module_version": "1.0.0",
            "_view_name": "OutputView",
            "layout": "IPY_MODEL_0ed27c827c794ade85365e4d7ec70904",
            "msg_id": "",
            "outputs": [
              {
                "output_type": "stream",
                "name": "stdout",
                "text": [
                  "Video available at https://youtube.com/watch?v=IMd_sRm4fJM\n"
                ]
              },
              {
                "output_type": "display_data",
                "data": {
                  "text/plain": "<IPython.lib.display.YouTubeVideo at 0x7f67a86428c0>",
                  "text/html": "\n        <iframe\n            width=\"854\"\n            height=\"480\"\n            src=\"https://www.youtube.com/embed/IMd_sRm4fJM?fs=1&rel=0\"\n            frameborder=\"0\"\n            allowfullscreen\n            \n        ></iframe>\n        ",
                  "image/jpeg": "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\n"
                },
                "metadata": {}
              }
            ]
          }
        },
        "0604e01571db4873811cfd176edadcd9": {
          "model_module": "@jupyter-widgets/output",
          "model_name": "OutputModel",
          "model_module_version": "1.0.0",
          "state": {
            "_dom_classes": [],
            "_model_module": "@jupyter-widgets/output",
            "_model_module_version": "1.0.0",
            "_model_name": "OutputModel",
            "_view_count": null,
            "_view_module": "@jupyter-widgets/output",
            "_view_module_version": "1.0.0",
            "_view_name": "OutputView",
            "layout": "IPY_MODEL_6de92e188a874c2abf531a141ea453de",
            "msg_id": "",
            "outputs": [
              {
                "output_type": "stream",
                "name": "stdout",
                "text": [
                  "Video available at https://www.bilibili.com/video/BV1bv411K7dP\n"
                ]
              },
              {
                "output_type": "display_data",
                "data": {
                  "text/plain": "<__main__.PlayVideo at 0x7f67a86428f0>",
                  "text/html": "\n        <iframe\n            width=\"854\"\n            height=\"480\"\n            src=\"https://player.bilibili.com/player.html?bvid=BV1bv411K7dP&page=1?fs=1&autoplay=False\"\n            frameborder=\"0\"\n            allowfullscreen\n            \n        ></iframe>\n        "
                },
                "metadata": {}
              }
            ]
          }
        },
        "e63d64faf0d94082b47a817edf947aad": {
          "model_module": "@jupyter-widgets/base",
          "model_name": "LayoutModel",
          "model_module_version": "1.2.0",
          "state": {
            "_model_module": "@jupyter-widgets/base",
            "_model_module_version": "1.2.0",
            "_model_name": "LayoutModel",
            "_view_count": null,
            "_view_module": "@jupyter-widgets/base",
            "_view_module_version": "1.2.0",
            "_view_name": "LayoutView",
            "align_content": null,
            "align_items": null,
            "align_self": null,
            "border": null,
            "bottom": null,
            "display": null,
            "flex": null,
            "flex_flow": null,
            "grid_area": null,
            "grid_auto_columns": null,
            "grid_auto_flow": null,
            "grid_auto_rows": null,
            "grid_column": null,
            "grid_gap": null,
            "grid_row": null,
            "grid_template_areas": null,
            "grid_template_columns": null,
            "grid_template_rows": null,
            "height": null,
            "justify_content": null,
            "justify_items": null,
            "left": null,
            "margin": null,
            "max_height": null,
            "max_width": null,
            "min_height": null,
            "min_width": null,
            "object_fit": null,
            "object_position": null,
            "order": null,
            "overflow": null,
            "overflow_x": null,
            "overflow_y": null,
            "padding": null,
            "right": null,
            "top": null,
            "visibility": null,
            "width": null
          }
        },
        "0ed27c827c794ade85365e4d7ec70904": {
          "model_module": "@jupyter-widgets/base",
          "model_name": "LayoutModel",
          "model_module_version": "1.2.0",
          "state": {
            "_model_module": "@jupyter-widgets/base",
            "_model_module_version": "1.2.0",
            "_model_name": "LayoutModel",
            "_view_count": null,
            "_view_module": "@jupyter-widgets/base",
            "_view_module_version": "1.2.0",
            "_view_name": "LayoutView",
            "align_content": null,
            "align_items": null,
            "align_self": null,
            "border": null,
            "bottom": null,
            "display": null,
            "flex": null,
            "flex_flow": null,
            "grid_area": null,
            "grid_auto_columns": null,
            "grid_auto_flow": null,
            "grid_auto_rows": null,
            "grid_column": null,
            "grid_gap": null,
            "grid_row": null,
            "grid_template_areas": null,
            "grid_template_columns": null,
            "grid_template_rows": null,
            "height": null,
            "justify_content": null,
            "justify_items": null,
            "left": null,
            "margin": null,
            "max_height": null,
            "max_width": null,
            "min_height": null,
            "min_width": null,
            "object_fit": null,
            "object_position": null,
            "order": null,
            "overflow": null,
            "overflow_x": null,
            "overflow_y": null,
            "padding": null,
            "right": null,
            "top": null,
            "visibility": null,
            "width": null
          }
        },
        "6de92e188a874c2abf531a141ea453de": {
          "model_module": "@jupyter-widgets/base",
          "model_name": "LayoutModel",
          "model_module_version": "1.2.0",
          "state": {
            "_model_module": "@jupyter-widgets/base",
            "_model_module_version": "1.2.0",
            "_model_name": "LayoutModel",
            "_view_count": null,
            "_view_module": "@jupyter-widgets/base",
            "_view_module_version": "1.2.0",
            "_view_name": "LayoutView",
            "align_content": null,
            "align_items": null,
            "align_self": null,
            "border": null,
            "bottom": null,
            "display": null,
            "flex": null,
            "flex_flow": null,
            "grid_area": null,
            "grid_auto_columns": null,
            "grid_auto_flow": null,
            "grid_auto_rows": null,
            "grid_column": null,
            "grid_gap": null,
            "grid_row": null,
            "grid_template_areas": null,
            "grid_template_columns": null,
            "grid_template_rows": null,
            "height": null,
            "justify_content": null,
            "justify_items": null,
            "left": null,
            "margin": null,
            "max_height": null,
            "max_width": null,
            "min_height": null,
            "min_width": null,
            "object_fit": null,
            "object_position": null,
            "order": null,
            "overflow": null,
            "overflow_x": null,
            "overflow_y": null,
            "padding": null,
            "right": null,
            "top": null,
            "visibility": null,
            "width": null
          }
        },
        "19371231fe554069afd707dd87c88501": {
          "model_module": "@jupyter-widgets/controls",
          "model_name": "TabModel",
          "model_module_version": "1.5.0",
          "state": {
            "_dom_classes": [],
            "_model_module": "@jupyter-widgets/controls",
            "_model_module_version": "1.5.0",
            "_model_name": "TabModel",
            "_titles": {
              "0": "Youtube",
              "1": "Bilibili"
            },
            "_view_count": null,
            "_view_module": "@jupyter-widgets/controls",
            "_view_module_version": "1.5.0",
            "_view_name": "TabView",
            "box_style": "",
            "children": [
              "IPY_MODEL_880c4ece4b0b405cad2b3fcd7efbedb4",
              "IPY_MODEL_8b1af821a01f4be1a002ae5efe164cd0"
            ],
            "layout": "IPY_MODEL_a0ba18fe46b74652a6ace839a732fbea",
            "selected_index": 0
          }
        },
        "880c4ece4b0b405cad2b3fcd7efbedb4": {
          "model_module": "@jupyter-widgets/output",
          "model_name": "OutputModel",
          "model_module_version": "1.0.0",
          "state": {
            "_dom_classes": [],
            "_model_module": "@jupyter-widgets/output",
            "_model_module_version": "1.0.0",
            "_model_name": "OutputModel",
            "_view_count": null,
            "_view_module": "@jupyter-widgets/output",
            "_view_module_version": "1.0.0",
            "_view_name": "OutputView",
            "layout": "IPY_MODEL_5c6397846b7a4623825076cc81e8401f",
            "msg_id": "",
            "outputs": [
              {
                "output_type": "stream",
                "name": "stdout",
                "text": [
                  "Video available at https://youtube.com/watch?v=fF1fmIXz5NQ\n"
                ]
              },
              {
                "output_type": "display_data",
                "data": {
                  "text/plain": "<IPython.lib.display.YouTubeVideo at 0x7f67a8609300>",
                  "text/html": "\n        <iframe\n            width=\"854\"\n            height=\"480\"\n            src=\"https://www.youtube.com/embed/fF1fmIXz5NQ?fs=1&rel=0\"\n            frameborder=\"0\"\n            allowfullscreen\n            \n        ></iframe>\n        ",
                  "image/jpeg": "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\n"
                },
                "metadata": {}
              }
            ]
          }
        },
        "8b1af821a01f4be1a002ae5efe164cd0": {
          "model_module": "@jupyter-widgets/output",
          "model_name": "OutputModel",
          "model_module_version": "1.0.0",
          "state": {
            "_dom_classes": [],
            "_model_module": "@jupyter-widgets/output",
            "_model_module_version": "1.0.0",
            "_model_name": "OutputModel",
            "_view_count": null,
            "_view_module": "@jupyter-widgets/output",
            "_view_module_version": "1.0.0",
            "_view_name": "OutputView",
            "layout": "IPY_MODEL_5f108d60dbd249f3a9e761e239276265",
            "msg_id": "",
            "outputs": [
              {
                "output_type": "stream",
                "name": "stdout",
                "text": [
                  "Video available at https://www.bilibili.com/video/BV1bM4y157xK\n"
                ]
              },
              {
                "output_type": "display_data",
                "data": {
                  "text/plain": "<__main__.PlayVideo at 0x7f67a8609d80>",
                  "text/html": "\n        <iframe\n            width=\"854\"\n            height=\"480\"\n            src=\"https://player.bilibili.com/player.html?bvid=BV1bM4y157xK&page=1?fs=1&autoplay=False\"\n            frameborder=\"0\"\n            allowfullscreen\n            \n        ></iframe>\n        "
                },
                "metadata": {}
              }
            ]
          }
        },
        "a0ba18fe46b74652a6ace839a732fbea": {
          "model_module": "@jupyter-widgets/base",
          "model_name": "LayoutModel",
          "model_module_version": "1.2.0",
          "state": {
            "_model_module": "@jupyter-widgets/base",
            "_model_module_version": "1.2.0",
            "_model_name": "LayoutModel",
            "_view_count": null,
            "_view_module": "@jupyter-widgets/base",
            "_view_module_version": "1.2.0",
            "_view_name": "LayoutView",
            "align_content": null,
            "align_items": null,
            "align_self": null,
            "border": null,
            "bottom": null,
            "display": null,
            "flex": null,
            "flex_flow": null,
            "grid_area": null,
            "grid_auto_columns": null,
            "grid_auto_flow": null,
            "grid_auto_rows": null,
            "grid_column": null,
            "grid_gap": null,
            "grid_row": null,
            "grid_template_areas": null,
            "grid_template_columns": null,
            "grid_template_rows": null,
            "height": null,
            "justify_content": null,
            "justify_items": null,
            "left": null,
            "margin": null,
            "max_height": null,
            "max_width": null,
            "min_height": null,
            "min_width": null,
            "object_fit": null,
            "object_position": null,
            "order": null,
            "overflow": null,
            "overflow_x": null,
            "overflow_y": null,
            "padding": null,
            "right": null,
            "top": null,
            "visibility": null,
            "width": null
          }
        },
        "5c6397846b7a4623825076cc81e8401f": {
          "model_module": "@jupyter-widgets/base",
          "model_name": "LayoutModel",
          "model_module_version": "1.2.0",
          "state": {
            "_model_module": "@jupyter-widgets/base",
            "_model_module_version": "1.2.0",
            "_model_name": "LayoutModel",
            "_view_count": null,
            "_view_module": "@jupyter-widgets/base",
            "_view_module_version": "1.2.0",
            "_view_name": "LayoutView",
            "align_content": null,
            "align_items": null,
            "align_self": null,
            "border": null,
            "bottom": null,
            "display": null,
            "flex": null,
            "flex_flow": null,
            "grid_area": null,
            "grid_auto_columns": null,
            "grid_auto_flow": null,
            "grid_auto_rows": null,
            "grid_column": null,
            "grid_gap": null,
            "grid_row": null,
            "grid_template_areas": null,
            "grid_template_columns": null,
            "grid_template_rows": null,
            "height": null,
            "justify_content": null,
            "justify_items": null,
            "left": null,
            "margin": null,
            "max_height": null,
            "max_width": null,
            "min_height": null,
            "min_width": null,
            "object_fit": null,
            "object_position": null,
            "order": null,
            "overflow": null,
            "overflow_x": null,
            "overflow_y": null,
            "padding": null,
            "right": null,
            "top": null,
            "visibility": null,
            "width": null
          }
        },
        "5f108d60dbd249f3a9e761e239276265": {
          "model_module": "@jupyter-widgets/base",
          "model_name": "LayoutModel",
          "model_module_version": "1.2.0",
          "state": {
            "_model_module": "@jupyter-widgets/base",
            "_model_module_version": "1.2.0",
            "_model_name": "LayoutModel",
            "_view_count": null,
            "_view_module": "@jupyter-widgets/base",
            "_view_module_version": "1.2.0",
            "_view_name": "LayoutView",
            "align_content": null,
            "align_items": null,
            "align_self": null,
            "border": null,
            "bottom": null,
            "display": null,
            "flex": null,
            "flex_flow": null,
            "grid_area": null,
            "grid_auto_columns": null,
            "grid_auto_flow": null,
            "grid_auto_rows": null,
            "grid_column": null,
            "grid_gap": null,
            "grid_row": null,
            "grid_template_areas": null,
            "grid_template_columns": null,
            "grid_template_rows": null,
            "height": null,
            "justify_content": null,
            "justify_items": null,
            "left": null,
            "margin": null,
            "max_height": null,
            "max_width": null,
            "min_height": null,
            "min_width": null,
            "object_fit": null,
            "object_position": null,
            "order": null,
            "overflow": null,
            "overflow_x": null,
            "overflow_y": null,
            "padding": null,
            "right": null,
            "top": null,
            "visibility": null,
            "width": null
          }
        },
        "62837da2214047e7b819bcc90d6daa1c": {
          "model_module": "@jupyter-widgets/controls",
          "model_name": "TabModel",
          "model_module_version": "1.5.0",
          "state": {
            "_dom_classes": [],
            "_model_module": "@jupyter-widgets/controls",
            "_model_module_version": "1.5.0",
            "_model_name": "TabModel",
            "_titles": {
              "0": "Youtube",
              "1": "Bilibili"
            },
            "_view_count": null,
            "_view_module": "@jupyter-widgets/controls",
            "_view_module_version": "1.5.0",
            "_view_name": "TabView",
            "box_style": "",
            "children": [
              "IPY_MODEL_6d586198a53a49659f1aa97011b5cd18",
              "IPY_MODEL_8b3e1c2db9a5444487e5805d38d7f750"
            ],
            "layout": "IPY_MODEL_7f1ef30c861143edb52bfa6f8ef93e6f",
            "selected_index": 0
          }
        },
        "6d586198a53a49659f1aa97011b5cd18": {
          "model_module": "@jupyter-widgets/output",
          "model_name": "OutputModel",
          "model_module_version": "1.0.0",
          "state": {
            "_dom_classes": [],
            "_model_module": "@jupyter-widgets/output",
            "_model_module_version": "1.0.0",
            "_model_name": "OutputModel",
            "_view_count": null,
            "_view_module": "@jupyter-widgets/output",
            "_view_module_version": "1.0.0",
            "_view_name": "OutputView",
            "layout": "IPY_MODEL_57700d48de374a06af112c10a09db40e",
            "msg_id": "",
            "outputs": [
              {
                "output_type": "stream",
                "name": "stdout",
                "text": [
                  "Video available at https://youtube.com/watch?v=L2W0C7nMttI\n"
                ]
              },
              {
                "output_type": "display_data",
                "data": {
                  "text/plain": "<IPython.lib.display.YouTubeVideo at 0x7f67a86424a0>",
                  "text/html": "\n        <iframe\n            width=\"854\"\n            height=\"480\"\n            src=\"https://www.youtube.com/embed/L2W0C7nMttI?fs=1&rel=0\"\n            frameborder=\"0\"\n            allowfullscreen\n            \n        ></iframe>\n        ",
                  "image/jpeg": "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\n"
                },
                "metadata": {}
              }
            ]
          }
        },
        "8b3e1c2db9a5444487e5805d38d7f750": {
          "model_module": "@jupyter-widgets/output",
          "model_name": "OutputModel",
          "model_module_version": "1.0.0",
          "state": {
            "_dom_classes": [],
            "_model_module": "@jupyter-widgets/output",
            "_model_module_version": "1.0.0",
            "_model_name": "OutputModel",
            "_view_count": null,
            "_view_module": "@jupyter-widgets/output",
            "_view_module_version": "1.0.0",
            "_view_name": "OutputView",
            "layout": "IPY_MODEL_acd3ca711bf14baeba40d21f569b4dc8",
            "msg_id": "",
            "outputs": [
              {
                "output_type": "stream",
                "name": "stdout",
                "text": [
                  "Video available at https://www.bilibili.com/video/BV1Nq4y1Q71H\n"
                ]
              },
              {
                "output_type": "display_data",
                "data": {
                  "text/plain": "<__main__.PlayVideo at 0x7f67a86428c0>",
                  "text/html": "\n        <iframe\n            width=\"854\"\n            height=\"480\"\n            src=\"https://player.bilibili.com/player.html?bvid=BV1Nq4y1Q71H&page=1?fs=1&autoplay=False\"\n            frameborder=\"0\"\n            allowfullscreen\n            \n        ></iframe>\n        "
                },
                "metadata": {}
              }
            ]
          }
        },
        "7f1ef30c861143edb52bfa6f8ef93e6f": {
          "model_module": "@jupyter-widgets/base",
          "model_name": "LayoutModel",
          "model_module_version": "1.2.0",
          "state": {
            "_model_module": "@jupyter-widgets/base",
            "_model_module_version": "1.2.0",
            "_model_name": "LayoutModel",
            "_view_count": null,
            "_view_module": "@jupyter-widgets/base",
            "_view_module_version": "1.2.0",
            "_view_name": "LayoutView",
            "align_content": null,
            "align_items": null,
            "align_self": null,
            "border": null,
            "bottom": null,
            "display": null,
            "flex": null,
            "flex_flow": null,
            "grid_area": null,
            "grid_auto_columns": null,
            "grid_auto_flow": null,
            "grid_auto_rows": null,
            "grid_column": null,
            "grid_gap": null,
            "grid_row": null,
            "grid_template_areas": null,
            "grid_template_columns": null,
            "grid_template_rows": null,
            "height": null,
            "justify_content": null,
            "justify_items": null,
            "left": null,
            "margin": null,
            "max_height": null,
            "max_width": null,
            "min_height": null,
            "min_width": null,
            "object_fit": null,
            "object_position": null,
            "order": null,
            "overflow": null,
            "overflow_x": null,
            "overflow_y": null,
            "padding": null,
            "right": null,
            "top": null,
            "visibility": null,
            "width": null
          }
        },
        "57700d48de374a06af112c10a09db40e": {
          "model_module": "@jupyter-widgets/base",
          "model_name": "LayoutModel",
          "model_module_version": "1.2.0",
          "state": {
            "_model_module": "@jupyter-widgets/base",
            "_model_module_version": "1.2.0",
            "_model_name": "LayoutModel",
            "_view_count": null,
            "_view_module": "@jupyter-widgets/base",
            "_view_module_version": "1.2.0",
            "_view_name": "LayoutView",
            "align_content": null,
            "align_items": null,
            "align_self": null,
            "border": null,
            "bottom": null,
            "display": null,
            "flex": null,
            "flex_flow": null,
            "grid_area": null,
            "grid_auto_columns": null,
            "grid_auto_flow": null,
            "grid_auto_rows": null,
            "grid_column": null,
            "grid_gap": null,
            "grid_row": null,
            "grid_template_areas": null,
            "grid_template_columns": null,
            "grid_template_rows": null,
            "height": null,
            "justify_content": null,
            "justify_items": null,
            "left": null,
            "margin": null,
            "max_height": null,
            "max_width": null,
            "min_height": null,
            "min_width": null,
            "object_fit": null,
            "object_position": null,
            "order": null,
            "overflow": null,
            "overflow_x": null,
            "overflow_y": null,
            "padding": null,
            "right": null,
            "top": null,
            "visibility": null,
            "width": null
          }
        },
        "acd3ca711bf14baeba40d21f569b4dc8": {
          "model_module": "@jupyter-widgets/base",
          "model_name": "LayoutModel",
          "model_module_version": "1.2.0",
          "state": {
            "_model_module": "@jupyter-widgets/base",
            "_model_module_version": "1.2.0",
            "_model_name": "LayoutModel",
            "_view_count": null,
            "_view_module": "@jupyter-widgets/base",
            "_view_module_version": "1.2.0",
            "_view_name": "LayoutView",
            "align_content": null,
            "align_items": null,
            "align_self": null,
            "border": null,
            "bottom": null,
            "display": null,
            "flex": null,
            "flex_flow": null,
            "grid_area": null,
            "grid_auto_columns": null,
            "grid_auto_flow": null,
            "grid_auto_rows": null,
            "grid_column": null,
            "grid_gap": null,
            "grid_row": null,
            "grid_template_areas": null,
            "grid_template_columns": null,
            "grid_template_rows": null,
            "height": null,
            "justify_content": null,
            "justify_items": null,
            "left": null,
            "margin": null,
            "max_height": null,
            "max_width": null,
            "min_height": null,
            "min_width": null,
            "object_fit": null,
            "object_position": null,
            "order": null,
            "overflow": null,
            "overflow_x": null,
            "overflow_y": null,
            "padding": null,
            "right": null,
            "top": null,
            "visibility": null,
            "width": null
          }
        },
        "bc6d67046b3949748c83d43d89e0c708": {
          "model_module": "@jupyter-widgets/controls",
          "model_name": "TabModel",
          "model_module_version": "1.5.0",
          "state": {
            "_dom_classes": [],
            "_model_module": "@jupyter-widgets/controls",
            "_model_module_version": "1.5.0",
            "_model_name": "TabModel",
            "_titles": {
              "0": "Youtube",
              "1": "Bilibili"
            },
            "_view_count": null,
            "_view_module": "@jupyter-widgets/controls",
            "_view_module_version": "1.5.0",
            "_view_name": "TabView",
            "box_style": "",
            "children": [
              "IPY_MODEL_91b13c774a7b4f90b0bd6ae2b072335f",
              "IPY_MODEL_170977b6e65444308e45d737344e03b3"
            ],
            "layout": "IPY_MODEL_e6e60e1083784a9f8c7632bcbf6f5109",
            "selected_index": 0
          }
        },
        "91b13c774a7b4f90b0bd6ae2b072335f": {
          "model_module": "@jupyter-widgets/output",
          "model_name": "OutputModel",
          "model_module_version": "1.0.0",
          "state": {
            "_dom_classes": [],
            "_model_module": "@jupyter-widgets/output",
            "_model_module_version": "1.0.0",
            "_model_name": "OutputModel",
            "_view_count": null,
            "_view_module": "@jupyter-widgets/output",
            "_view_module_version": "1.0.0",
            "_view_name": "OutputView",
            "layout": "IPY_MODEL_5bad3e1b84f549a9934ba8d1af00ff6c",
            "msg_id": "",
            "outputs": [
              {
                "output_type": "stream",
                "name": "stdout",
                "text": [
                  "Video available at https://youtube.com/watch?v=Ni9YKotZUQk\n"
                ]
              },
              {
                "output_type": "display_data",
                "data": {
                  "text/plain": "<IPython.lib.display.YouTubeVideo at 0x7f67a86bd930>",
                  "text/html": "\n        <iframe\n            width=\"854\"\n            height=\"480\"\n            src=\"https://www.youtube.com/embed/Ni9YKotZUQk?fs=1&rel=0\"\n            frameborder=\"0\"\n            allowfullscreen\n            \n        ></iframe>\n        ",
                  "image/jpeg": "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\n"
                },
                "metadata": {}
              }
            ]
          }
        },
        "170977b6e65444308e45d737344e03b3": {
          "model_module": "@jupyter-widgets/output",
          "model_name": "OutputModel",
          "model_module_version": "1.0.0",
          "state": {
            "_dom_classes": [],
            "_model_module": "@jupyter-widgets/output",
            "_model_module_version": "1.0.0",
            "_model_name": "OutputModel",
            "_view_count": null,
            "_view_module": "@jupyter-widgets/output",
            "_view_module_version": "1.0.0",
            "_view_name": "OutputView",
            "layout": "IPY_MODEL_74988500e04448519dd5e3036ae4af7c",
            "msg_id": "",
            "outputs": [
              {
                "output_type": "stream",
                "name": "stdout",
                "text": [
                  "Video available at https://www.bilibili.com/video/BV1P64y1z7cU\n"
                ]
              },
              {
                "output_type": "display_data",
                "data": {
                  "text/plain": "<__main__.PlayVideo at 0x7f67a86bd7b0>",
                  "text/html": "\n        <iframe\n            width=\"854\"\n            height=\"480\"\n            src=\"https://player.bilibili.com/player.html?bvid=BV1P64y1z7cU&page=1?fs=1&autoplay=False\"\n            frameborder=\"0\"\n            allowfullscreen\n            \n        ></iframe>\n        "
                },
                "metadata": {}
              }
            ]
          }
        },
        "e6e60e1083784a9f8c7632bcbf6f5109": {
          "model_module": "@jupyter-widgets/base",
          "model_name": "LayoutModel",
          "model_module_version": "1.2.0",
          "state": {
            "_model_module": "@jupyter-widgets/base",
            "_model_module_version": "1.2.0",
            "_model_name": "LayoutModel",
            "_view_count": null,
            "_view_module": "@jupyter-widgets/base",
            "_view_module_version": "1.2.0",
            "_view_name": "LayoutView",
            "align_content": null,
            "align_items": null,
            "align_self": null,
            "border": null,
            "bottom": null,
            "display": null,
            "flex": null,
            "flex_flow": null,
            "grid_area": null,
            "grid_auto_columns": null,
            "grid_auto_flow": null,
            "grid_auto_rows": null,
            "grid_column": null,
            "grid_gap": null,
            "grid_row": null,
            "grid_template_areas": null,
            "grid_template_columns": null,
            "grid_template_rows": null,
            "height": null,
            "justify_content": null,
            "justify_items": null,
            "left": null,
            "margin": null,
            "max_height": null,
            "max_width": null,
            "min_height": null,
            "min_width": null,
            "object_fit": null,
            "object_position": null,
            "order": null,
            "overflow": null,
            "overflow_x": null,
            "overflow_y": null,
            "padding": null,
            "right": null,
            "top": null,
            "visibility": null,
            "width": null
          }
        },
        "5bad3e1b84f549a9934ba8d1af00ff6c": {
          "model_module": "@jupyter-widgets/base",
          "model_name": "LayoutModel",
          "model_module_version": "1.2.0",
          "state": {
            "_model_module": "@jupyter-widgets/base",
            "_model_module_version": "1.2.0",
            "_model_name": "LayoutModel",
            "_view_count": null,
            "_view_module": "@jupyter-widgets/base",
            "_view_module_version": "1.2.0",
            "_view_name": "LayoutView",
            "align_content": null,
            "align_items": null,
            "align_self": null,
            "border": null,
            "bottom": null,
            "display": null,
            "flex": null,
            "flex_flow": null,
            "grid_area": null,
            "grid_auto_columns": null,
            "grid_auto_flow": null,
            "grid_auto_rows": null,
            "grid_column": null,
            "grid_gap": null,
            "grid_row": null,
            "grid_template_areas": null,
            "grid_template_columns": null,
            "grid_template_rows": null,
            "height": null,
            "justify_content": null,
            "justify_items": null,
            "left": null,
            "margin": null,
            "max_height": null,
            "max_width": null,
            "min_height": null,
            "min_width": null,
            "object_fit": null,
            "object_position": null,
            "order": null,
            "overflow": null,
            "overflow_x": null,
            "overflow_y": null,
            "padding": null,
            "right": null,
            "top": null,
            "visibility": null,
            "width": null
          }
        },
        "74988500e04448519dd5e3036ae4af7c": {
          "model_module": "@jupyter-widgets/base",
          "model_name": "LayoutModel",
          "model_module_version": "1.2.0",
          "state": {
            "_model_module": "@jupyter-widgets/base",
            "_model_module_version": "1.2.0",
            "_model_name": "LayoutModel",
            "_view_count": null,
            "_view_module": "@jupyter-widgets/base",
            "_view_module_version": "1.2.0",
            "_view_name": "LayoutView",
            "align_content": null,
            "align_items": null,
            "align_self": null,
            "border": null,
            "bottom": null,
            "display": null,
            "flex": null,
            "flex_flow": null,
            "grid_area": null,
            "grid_auto_columns": null,
            "grid_auto_flow": null,
            "grid_auto_rows": null,
            "grid_column": null,
            "grid_gap": null,
            "grid_row": null,
            "grid_template_areas": null,
            "grid_template_columns": null,
            "grid_template_rows": null,
            "height": null,
            "justify_content": null,
            "justify_items": null,
            "left": null,
            "margin": null,
            "max_height": null,
            "max_width": null,
            "min_height": null,
            "min_width": null,
            "object_fit": null,
            "object_position": null,
            "order": null,
            "overflow": null,
            "overflow_x": null,
            "overflow_y": null,
            "padding": null,
            "right": null,
            "top": null,
            "visibility": null,
            "width": null
          }
        },
        "89244a98cd344205ba053397cc943112": {
          "model_module": "@jupyter-widgets/controls",
          "model_name": "TabModel",
          "model_module_version": "1.5.0",
          "state": {
            "_dom_classes": [],
            "_model_module": "@jupyter-widgets/controls",
            "_model_module_version": "1.5.0",
            "_model_name": "TabModel",
            "_titles": {
              "0": "Youtube",
              "1": "Bilibili"
            },
            "_view_count": null,
            "_view_module": "@jupyter-widgets/controls",
            "_view_module_version": "1.5.0",
            "_view_name": "TabView",
            "box_style": "",
            "children": [
              "IPY_MODEL_cf1f30c6f9d3415ea5d1b978c87dbd28",
              "IPY_MODEL_c133c8703cd942c2bc5e93299a273d19"
            ],
            "layout": "IPY_MODEL_4c433ebfb6924b19b06c0a8f0d55b089",
            "selected_index": 0
          }
        },
        "cf1f30c6f9d3415ea5d1b978c87dbd28": {
          "model_module": "@jupyter-widgets/output",
          "model_name": "OutputModel",
          "model_module_version": "1.0.0",
          "state": {
            "_dom_classes": [],
            "_model_module": "@jupyter-widgets/output",
            "_model_module_version": "1.0.0",
            "_model_name": "OutputModel",
            "_view_count": null,
            "_view_module": "@jupyter-widgets/output",
            "_view_module_version": "1.0.0",
            "_view_name": "OutputView",
            "layout": "IPY_MODEL_5c249b14a6f947eab03194cf775a69e3",
            "msg_id": "",
            "outputs": [
              {
                "output_type": "stream",
                "name": "stdout",
                "text": [
                  "Video available at https://youtube.com/watch?v=pDLdNOuUtKk\n"
                ]
              },
              {
                "output_type": "display_data",
                "data": {
                  "text/plain": "<IPython.lib.display.YouTubeVideo at 0x7f67a862e380>",
                  "text/html": "\n        <iframe\n            width=\"854\"\n            height=\"480\"\n            src=\"https://www.youtube.com/embed/pDLdNOuUtKk?fs=1&rel=0\"\n            frameborder=\"0\"\n            allowfullscreen\n            \n        ></iframe>\n        ",
                  "image/jpeg": "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\n"
                },
                "metadata": {}
              }
            ]
          }
        },
        "c133c8703cd942c2bc5e93299a273d19": {
          "model_module": "@jupyter-widgets/output",
          "model_name": "OutputModel",
          "model_module_version": "1.0.0",
          "state": {
            "_dom_classes": [],
            "_model_module": "@jupyter-widgets/output",
            "_model_module_version": "1.0.0",
            "_model_name": "OutputModel",
            "_view_count": null,
            "_view_module": "@jupyter-widgets/output",
            "_view_module_version": "1.0.0",
            "_view_name": "OutputView",
            "layout": "IPY_MODEL_929ff051d86941feb7ca80cc890f1ac1",
            "msg_id": "",
            "outputs": [
              {
                "output_type": "stream",
                "name": "stdout",
                "text": [
                  "Video available at https://www.bilibili.com/video/BV1Qg411L7RM\n"
                ]
              },
              {
                "output_type": "display_data",
                "data": {
                  "text/plain": "<__main__.PlayVideo at 0x7f67a865d600>",
                  "text/html": "\n        <iframe\n            width=\"854\"\n            height=\"480\"\n            src=\"https://player.bilibili.com/player.html?bvid=BV1Qg411L7RM&page=1?fs=1&autoplay=False\"\n            frameborder=\"0\"\n            allowfullscreen\n            \n        ></iframe>\n        "
                },
                "metadata": {}
              }
            ]
          }
        },
        "4c433ebfb6924b19b06c0a8f0d55b089": {
          "model_module": "@jupyter-widgets/base",
          "model_name": "LayoutModel",
          "model_module_version": "1.2.0",
          "state": {
            "_model_module": "@jupyter-widgets/base",
            "_model_module_version": "1.2.0",
            "_model_name": "LayoutModel",
            "_view_count": null,
            "_view_module": "@jupyter-widgets/base",
            "_view_module_version": "1.2.0",
            "_view_name": "LayoutView",
            "align_content": null,
            "align_items": null,
            "align_self": null,
            "border": null,
            "bottom": null,
            "display": null,
            "flex": null,
            "flex_flow": null,
            "grid_area": null,
            "grid_auto_columns": null,
            "grid_auto_flow": null,
            "grid_auto_rows": null,
            "grid_column": null,
            "grid_gap": null,
            "grid_row": null,
            "grid_template_areas": null,
            "grid_template_columns": null,
            "grid_template_rows": null,
            "height": null,
            "justify_content": null,
            "justify_items": null,
            "left": null,
            "margin": null,
            "max_height": null,
            "max_width": null,
            "min_height": null,
            "min_width": null,
            "object_fit": null,
            "object_position": null,
            "order": null,
            "overflow": null,
            "overflow_x": null,
            "overflow_y": null,
            "padding": null,
            "right": null,
            "top": null,
            "visibility": null,
            "width": null
          }
        },
        "5c249b14a6f947eab03194cf775a69e3": {
          "model_module": "@jupyter-widgets/base",
          "model_name": "LayoutModel",
          "model_module_version": "1.2.0",
          "state": {
            "_model_module": "@jupyter-widgets/base",
            "_model_module_version": "1.2.0",
            "_model_name": "LayoutModel",
            "_view_count": null,
            "_view_module": "@jupyter-widgets/base",
            "_view_module_version": "1.2.0",
            "_view_name": "LayoutView",
            "align_content": null,
            "align_items": null,
            "align_self": null,
            "border": null,
            "bottom": null,
            "display": null,
            "flex": null,
            "flex_flow": null,
            "grid_area": null,
            "grid_auto_columns": null,
            "grid_auto_flow": null,
            "grid_auto_rows": null,
            "grid_column": null,
            "grid_gap": null,
            "grid_row": null,
            "grid_template_areas": null,
            "grid_template_columns": null,
            "grid_template_rows": null,
            "height": null,
            "justify_content": null,
            "justify_items": null,
            "left": null,
            "margin": null,
            "max_height": null,
            "max_width": null,
            "min_height": null,
            "min_width": null,
            "object_fit": null,
            "object_position": null,
            "order": null,
            "overflow": null,
            "overflow_x": null,
            "overflow_y": null,
            "padding": null,
            "right": null,
            "top": null,
            "visibility": null,
            "width": null
          }
        },
        "929ff051d86941feb7ca80cc890f1ac1": {
          "model_module": "@jupyter-widgets/base",
          "model_name": "LayoutModel",
          "model_module_version": "1.2.0",
          "state": {
            "_model_module": "@jupyter-widgets/base",
            "_model_module_version": "1.2.0",
            "_model_name": "LayoutModel",
            "_view_count": null,
            "_view_module": "@jupyter-widgets/base",
            "_view_module_version": "1.2.0",
            "_view_name": "LayoutView",
            "align_content": null,
            "align_items": null,
            "align_self": null,
            "border": null,
            "bottom": null,
            "display": null,
            "flex": null,
            "flex_flow": null,
            "grid_area": null,
            "grid_auto_columns": null,
            "grid_auto_flow": null,
            "grid_auto_rows": null,
            "grid_column": null,
            "grid_gap": null,
            "grid_row": null,
            "grid_template_areas": null,
            "grid_template_columns": null,
            "grid_template_rows": null,
            "height": null,
            "justify_content": null,
            "justify_items": null,
            "left": null,
            "margin": null,
            "max_height": null,
            "max_width": null,
            "min_height": null,
            "min_width": null,
            "object_fit": null,
            "object_position": null,
            "order": null,
            "overflow": null,
            "overflow_x": null,
            "overflow_y": null,
            "padding": null,
            "right": null,
            "top": null,
            "visibility": null,
            "width": null
          }
        }
      }
    }
  },
  "nbformat": 4,
  "nbformat_minor": 0
}