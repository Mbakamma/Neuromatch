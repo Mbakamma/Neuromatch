{
  "nbformat": 4,
  "nbformat_minor": 0,
  "metadata": {
    "colab": {
      "name": "DL-Thinking-1.ipynb",
      "provenance": [],
      "collapsed_sections": [],
      "toc_visible": true,
      "include_colab_link": true
    },
    "kernelspec": {
      "name": "python3",
      "display_name": "Python 3"
    },
    "language_info": {
      "name": "python"
    },
    "widgets": {
      "application/vnd.jupyter.widget-state+json": {
        "f610e31317e14733ad04b2bed5edf104": {
          "model_module": "@jupyter-widgets/controls",
          "model_name": "TabModel",
          "model_module_version": "1.5.0",
          "state": {
            "_dom_classes": [],
            "_model_module": "@jupyter-widgets/controls",
            "_model_module_version": "1.5.0",
            "_model_name": "TabModel",
            "_titles": {
              "0": "Youtube",
              "1": "Bilibili"
            },
            "_view_count": null,
            "_view_module": "@jupyter-widgets/controls",
            "_view_module_version": "1.5.0",
            "_view_name": "TabView",
            "box_style": "",
            "children": [
              "IPY_MODEL_5b512c4442854ecfb5ce39922e8d2d68",
              "IPY_MODEL_dabc79a05042449d937e7ff18ff5c4e8"
            ],
            "layout": "IPY_MODEL_37ca05b8bf0b4fa09dd5cd7ea0684813",
            "selected_index": 0
          }
        },
        "5b512c4442854ecfb5ce39922e8d2d68": {
          "model_module": "@jupyter-widgets/output",
          "model_name": "OutputModel",
          "model_module_version": "1.0.0",
          "state": {
            "_dom_classes": [],
            "_model_module": "@jupyter-widgets/output",
            "_model_module_version": "1.0.0",
            "_model_name": "OutputModel",
            "_view_count": null,
            "_view_module": "@jupyter-widgets/output",
            "_view_module_version": "1.0.0",
            "_view_name": "OutputView",
            "layout": "IPY_MODEL_cb9dcec7bcca49d79df07345a88237b4",
            "msg_id": "",
            "outputs": [
              {
                "output_type": "stream",
                "name": "stdout",
                "text": [
                  "Video available at https://youtube.com/watch?v=iEqd0MY5pxI\n"
                ]
              },
              {
                "output_type": "display_data",
                "data": {
                  "text/plain": "<IPython.lib.display.YouTubeVideo at 0x7f717307d310>",
                  "text/html": "\n        <iframe\n            width=\"854\"\n            height=\"480\"\n            src=\"https://www.youtube.com/embed/iEqd0MY5pxI?fs=1&rel=0\"\n            frameborder=\"0\"\n            allowfullscreen\n        ></iframe>\n        ",
                  "image/jpeg": "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\n"
                },
                "metadata": {}
              }
            ]
          }
        },
        "dabc79a05042449d937e7ff18ff5c4e8": {
          "model_module": "@jupyter-widgets/output",
          "model_name": "OutputModel",
          "model_module_version": "1.0.0",
          "state": {
            "_dom_classes": [],
            "_model_module": "@jupyter-widgets/output",
            "_model_module_version": "1.0.0",
            "_model_name": "OutputModel",
            "_view_count": null,
            "_view_module": "@jupyter-widgets/output",
            "_view_module_version": "1.0.0",
            "_view_name": "OutputView",
            "layout": "IPY_MODEL_9350de4ebc434bb2855ef34100e8eb9a",
            "msg_id": "",
            "outputs": [
              {
                "output_type": "stream",
                "name": "stdout",
                "text": [
                  "Video available at https://www.bilibili.com/video/\n"
                ]
              },
              {
                "output_type": "display_data",
                "data": {
                  "text/plain": "<__main__.BiliVideo at 0x7f71705d4d50>",
                  "text/html": "\n        <iframe\n            width=\"854\"\n            height=\"480\"\n            src=\"https://player.bilibili.com/player.html?bvid=&page=1?fs=1\"\n            frameborder=\"0\"\n            allowfullscreen\n        ></iframe>\n        "
                },
                "metadata": {}
              }
            ]
          }
        },
        "37ca05b8bf0b4fa09dd5cd7ea0684813": {
          "model_module": "@jupyter-widgets/base",
          "model_name": "LayoutModel",
          "model_module_version": "1.2.0",
          "state": {
            "_model_module": "@jupyter-widgets/base",
            "_model_module_version": "1.2.0",
            "_model_name": "LayoutModel",
            "_view_count": null,
            "_view_module": "@jupyter-widgets/base",
            "_view_module_version": "1.2.0",
            "_view_name": "LayoutView",
            "align_content": null,
            "align_items": null,
            "align_self": null,
            "border": null,
            "bottom": null,
            "display": null,
            "flex": null,
            "flex_flow": null,
            "grid_area": null,
            "grid_auto_columns": null,
            "grid_auto_flow": null,
            "grid_auto_rows": null,
            "grid_column": null,
            "grid_gap": null,
            "grid_row": null,
            "grid_template_areas": null,
            "grid_template_columns": null,
            "grid_template_rows": null,
            "height": null,
            "justify_content": null,
            "justify_items": null,
            "left": null,
            "margin": null,
            "max_height": null,
            "max_width": null,
            "min_height": null,
            "min_width": null,
            "object_fit": null,
            "object_position": null,
            "order": null,
            "overflow": null,
            "overflow_x": null,
            "overflow_y": null,
            "padding": null,
            "right": null,
            "top": null,
            "visibility": null,
            "width": null
          }
        },
        "cb9dcec7bcca49d79df07345a88237b4": {
          "model_module": "@jupyter-widgets/base",
          "model_name": "LayoutModel",
          "model_module_version": "1.2.0",
          "state": {
            "_model_module": "@jupyter-widgets/base",
            "_model_module_version": "1.2.0",
            "_model_name": "LayoutModel",
            "_view_count": null,
            "_view_module": "@jupyter-widgets/base",
            "_view_module_version": "1.2.0",
            "_view_name": "LayoutView",
            "align_content": null,
            "align_items": null,
            "align_self": null,
            "border": null,
            "bottom": null,
            "display": null,
            "flex": null,
            "flex_flow": null,
            "grid_area": null,
            "grid_auto_columns": null,
            "grid_auto_flow": null,
            "grid_auto_rows": null,
            "grid_column": null,
            "grid_gap": null,
            "grid_row": null,
            "grid_template_areas": null,
            "grid_template_columns": null,
            "grid_template_rows": null,
            "height": null,
            "justify_content": null,
            "justify_items": null,
            "left": null,
            "margin": null,
            "max_height": null,
            "max_width": null,
            "min_height": null,
            "min_width": null,
            "object_fit": null,
            "object_position": null,
            "order": null,
            "overflow": null,
            "overflow_x": null,
            "overflow_y": null,
            "padding": null,
            "right": null,
            "top": null,
            "visibility": null,
            "width": null
          }
        },
        "9350de4ebc434bb2855ef34100e8eb9a": {
          "model_module": "@jupyter-widgets/base",
          "model_name": "LayoutModel",
          "model_module_version": "1.2.0",
          "state": {
            "_model_module": "@jupyter-widgets/base",
            "_model_module_version": "1.2.0",
            "_model_name": "LayoutModel",
            "_view_count": null,
            "_view_module": "@jupyter-widgets/base",
            "_view_module_version": "1.2.0",
            "_view_name": "LayoutView",
            "align_content": null,
            "align_items": null,
            "align_self": null,
            "border": null,
            "bottom": null,
            "display": null,
            "flex": null,
            "flex_flow": null,
            "grid_area": null,
            "grid_auto_columns": null,
            "grid_auto_flow": null,
            "grid_auto_rows": null,
            "grid_column": null,
            "grid_gap": null,
            "grid_row": null,
            "grid_template_areas": null,
            "grid_template_columns": null,
            "grid_template_rows": null,
            "height": null,
            "justify_content": null,
            "justify_items": null,
            "left": null,
            "margin": null,
            "max_height": null,
            "max_width": null,
            "min_height": null,
            "min_width": null,
            "object_fit": null,
            "object_position": null,
            "order": null,
            "overflow": null,
            "overflow_x": null,
            "overflow_y": null,
            "padding": null,
            "right": null,
            "top": null,
            "visibility": null,
            "width": null
          }
        },
        "bcb8758e2cb44b429338d7c694eb1d73": {
          "model_module": "@jupyter-widgets/controls",
          "model_name": "TabModel",
          "model_module_version": "1.5.0",
          "state": {
            "_dom_classes": [],
            "_model_module": "@jupyter-widgets/controls",
            "_model_module_version": "1.5.0",
            "_model_name": "TabModel",
            "_titles": {
              "0": "Youtube",
              "1": "Bilibili"
            },
            "_view_count": null,
            "_view_module": "@jupyter-widgets/controls",
            "_view_module_version": "1.5.0",
            "_view_name": "TabView",
            "box_style": "",
            "children": [
              "IPY_MODEL_7147ed2001f040bbb9e3c3b908bac939",
              "IPY_MODEL_f7adf763c068457785dc543f8c25cd43"
            ],
            "layout": "IPY_MODEL_b9593194ae744286ad70c591b14139f0",
            "selected_index": 0
          }
        },
        "7147ed2001f040bbb9e3c3b908bac939": {
          "model_module": "@jupyter-widgets/output",
          "model_name": "OutputModel",
          "model_module_version": "1.0.0",
          "state": {
            "_dom_classes": [],
            "_model_module": "@jupyter-widgets/output",
            "_model_module_version": "1.0.0",
            "_model_name": "OutputModel",
            "_view_count": null,
            "_view_module": "@jupyter-widgets/output",
            "_view_module_version": "1.0.0",
            "_view_name": "OutputView",
            "layout": "IPY_MODEL_6fda578c482642949424eecda7b4f12c",
            "msg_id": "",
            "outputs": [
              {
                "output_type": "stream",
                "name": "stdout",
                "text": [
                  "Video available at https://youtube.com/watch?v=CC4gMRrE31g\n"
                ]
              },
              {
                "output_type": "display_data",
                "data": {
                  "text/plain": "<IPython.lib.display.YouTubeVideo at 0x7f716d343710>",
                  "text/html": "\n        <iframe\n            width=\"854\"\n            height=\"480\"\n            src=\"https://www.youtube.com/embed/CC4gMRrE31g?fs=1&rel=0\"\n            frameborder=\"0\"\n            allowfullscreen\n        ></iframe>\n        ",
                  "image/jpeg": "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\n"
                },
                "metadata": {}
              }
            ]
          }
        },
        "f7adf763c068457785dc543f8c25cd43": {
          "model_module": "@jupyter-widgets/output",
          "model_name": "OutputModel",
          "model_module_version": "1.0.0",
          "state": {
            "_dom_classes": [],
            "_model_module": "@jupyter-widgets/output",
            "_model_module_version": "1.0.0",
            "_model_name": "OutputModel",
            "_view_count": null,
            "_view_module": "@jupyter-widgets/output",
            "_view_module_version": "1.0.0",
            "_view_name": "OutputView",
            "layout": "IPY_MODEL_a9236e23fd5c4a3fbdd5c537a0e1263a",
            "msg_id": "",
            "outputs": [
              {
                "output_type": "stream",
                "name": "stdout",
                "text": [
                  "Video available at https://www.bilibili.com/video/\n"
                ]
              },
              {
                "output_type": "display_data",
                "data": {
                  "text/plain": "<__main__.BiliVideo at 0x7f716d3436d0>",
                  "text/html": "\n        <iframe\n            width=\"854\"\n            height=\"480\"\n            src=\"https://player.bilibili.com/player.html?bvid=&page=1?fs=1\"\n            frameborder=\"0\"\n            allowfullscreen\n        ></iframe>\n        "
                },
                "metadata": {}
              }
            ]
          }
        },
        "b9593194ae744286ad70c591b14139f0": {
          "model_module": "@jupyter-widgets/base",
          "model_name": "LayoutModel",
          "model_module_version": "1.2.0",
          "state": {
            "_model_module": "@jupyter-widgets/base",
            "_model_module_version": "1.2.0",
            "_model_name": "LayoutModel",
            "_view_count": null,
            "_view_module": "@jupyter-widgets/base",
            "_view_module_version": "1.2.0",
            "_view_name": "LayoutView",
            "align_content": null,
            "align_items": null,
            "align_self": null,
            "border": null,
            "bottom": null,
            "display": null,
            "flex": null,
            "flex_flow": null,
            "grid_area": null,
            "grid_auto_columns": null,
            "grid_auto_flow": null,
            "grid_auto_rows": null,
            "grid_column": null,
            "grid_gap": null,
            "grid_row": null,
            "grid_template_areas": null,
            "grid_template_columns": null,
            "grid_template_rows": null,
            "height": null,
            "justify_content": null,
            "justify_items": null,
            "left": null,
            "margin": null,
            "max_height": null,
            "max_width": null,
            "min_height": null,
            "min_width": null,
            "object_fit": null,
            "object_position": null,
            "order": null,
            "overflow": null,
            "overflow_x": null,
            "overflow_y": null,
            "padding": null,
            "right": null,
            "top": null,
            "visibility": null,
            "width": null
          }
        },
        "6fda578c482642949424eecda7b4f12c": {
          "model_module": "@jupyter-widgets/base",
          "model_name": "LayoutModel",
          "model_module_version": "1.2.0",
          "state": {
            "_model_module": "@jupyter-widgets/base",
            "_model_module_version": "1.2.0",
            "_model_name": "LayoutModel",
            "_view_count": null,
            "_view_module": "@jupyter-widgets/base",
            "_view_module_version": "1.2.0",
            "_view_name": "LayoutView",
            "align_content": null,
            "align_items": null,
            "align_self": null,
            "border": null,
            "bottom": null,
            "display": null,
            "flex": null,
            "flex_flow": null,
            "grid_area": null,
            "grid_auto_columns": null,
            "grid_auto_flow": null,
            "grid_auto_rows": null,
            "grid_column": null,
            "grid_gap": null,
            "grid_row": null,
            "grid_template_areas": null,
            "grid_template_columns": null,
            "grid_template_rows": null,
            "height": null,
            "justify_content": null,
            "justify_items": null,
            "left": null,
            "margin": null,
            "max_height": null,
            "max_width": null,
            "min_height": null,
            "min_width": null,
            "object_fit": null,
            "object_position": null,
            "order": null,
            "overflow": null,
            "overflow_x": null,
            "overflow_y": null,
            "padding": null,
            "right": null,
            "top": null,
            "visibility": null,
            "width": null
          }
        },
        "a9236e23fd5c4a3fbdd5c537a0e1263a": {
          "model_module": "@jupyter-widgets/base",
          "model_name": "LayoutModel",
          "model_module_version": "1.2.0",
          "state": {
            "_model_module": "@jupyter-widgets/base",
            "_model_module_version": "1.2.0",
            "_model_name": "LayoutModel",
            "_view_count": null,
            "_view_module": "@jupyter-widgets/base",
            "_view_module_version": "1.2.0",
            "_view_name": "LayoutView",
            "align_content": null,
            "align_items": null,
            "align_self": null,
            "border": null,
            "bottom": null,
            "display": null,
            "flex": null,
            "flex_flow": null,
            "grid_area": null,
            "grid_auto_columns": null,
            "grid_auto_flow": null,
            "grid_auto_rows": null,
            "grid_column": null,
            "grid_gap": null,
            "grid_row": null,
            "grid_template_areas": null,
            "grid_template_columns": null,
            "grid_template_rows": null,
            "height": null,
            "justify_content": null,
            "justify_items": null,
            "left": null,
            "margin": null,
            "max_height": null,
            "max_width": null,
            "min_height": null,
            "min_width": null,
            "object_fit": null,
            "object_position": null,
            "order": null,
            "overflow": null,
            "overflow_x": null,
            "overflow_y": null,
            "padding": null,
            "right": null,
            "top": null,
            "visibility": null,
            "width": null
          }
        },
        "2d7859a2aef34fc78c2e263b63d5acab": {
          "model_module": "@jupyter-widgets/controls",
          "model_name": "TabModel",
          "model_module_version": "1.5.0",
          "state": {
            "_dom_classes": [],
            "_model_module": "@jupyter-widgets/controls",
            "_model_module_version": "1.5.0",
            "_model_name": "TabModel",
            "_titles": {
              "0": "Youtube",
              "1": "Bilibili"
            },
            "_view_count": null,
            "_view_module": "@jupyter-widgets/controls",
            "_view_module_version": "1.5.0",
            "_view_name": "TabView",
            "box_style": "",
            "children": [
              "IPY_MODEL_0ba7bc6b6faf4161a3bd6a982407db01",
              "IPY_MODEL_046662d076fc4546a5ce94fafce1a531"
            ],
            "layout": "IPY_MODEL_fe0d1ea967ec4708a86840c83098de93",
            "selected_index": 0
          }
        },
        "0ba7bc6b6faf4161a3bd6a982407db01": {
          "model_module": "@jupyter-widgets/output",
          "model_name": "OutputModel",
          "model_module_version": "1.0.0",
          "state": {
            "_dom_classes": [],
            "_model_module": "@jupyter-widgets/output",
            "_model_module_version": "1.0.0",
            "_model_name": "OutputModel",
            "_view_count": null,
            "_view_module": "@jupyter-widgets/output",
            "_view_module_version": "1.0.0",
            "_view_name": "OutputView",
            "layout": "IPY_MODEL_45773dd186304fb39e01f80886ead1d7",
            "msg_id": "",
            "outputs": [
              {
                "output_type": "stream",
                "name": "stdout",
                "text": [
                  "Video available at https://youtube.com/watch?v=\n"
                ]
              },
              {
                "output_type": "display_data",
                "data": {
                  "text/plain": "<IPython.lib.display.YouTubeVideo at 0x7f716d35f710>",
                  "text/html": "\n        <iframe\n            width=\"854\"\n            height=\"480\"\n            src=\"https://www.youtube.com/embed/?fs=1&rel=0\"\n            frameborder=\"0\"\n            allowfullscreen\n        ></iframe>\n        "
                },
                "metadata": {}
              }
            ]
          }
        },
        "046662d076fc4546a5ce94fafce1a531": {
          "model_module": "@jupyter-widgets/output",
          "model_name": "OutputModel",
          "model_module_version": "1.0.0",
          "state": {
            "_dom_classes": [],
            "_model_module": "@jupyter-widgets/output",
            "_model_module_version": "1.0.0",
            "_model_name": "OutputModel",
            "_view_count": null,
            "_view_module": "@jupyter-widgets/output",
            "_view_module_version": "1.0.0",
            "_view_name": "OutputView",
            "layout": "IPY_MODEL_0d21f257d35143b6ba8fa1d6f89f03d6",
            "msg_id": "",
            "outputs": [
              {
                "output_type": "stream",
                "name": "stdout",
                "text": [
                  "Video available at https://www.bilibili.com/video/\n"
                ]
              },
              {
                "output_type": "display_data",
                "data": {
                  "text/plain": "<__main__.BiliVideo at 0x7f716d35f650>",
                  "text/html": "\n        <iframe\n            width=\"854\"\n            height=\"480\"\n            src=\"https://player.bilibili.com/player.html?bvid=&page=1?fs=1\"\n            frameborder=\"0\"\n            allowfullscreen\n        ></iframe>\n        "
                },
                "metadata": {}
              }
            ]
          }
        },
        "fe0d1ea967ec4708a86840c83098de93": {
          "model_module": "@jupyter-widgets/base",
          "model_name": "LayoutModel",
          "model_module_version": "1.2.0",
          "state": {
            "_model_module": "@jupyter-widgets/base",
            "_model_module_version": "1.2.0",
            "_model_name": "LayoutModel",
            "_view_count": null,
            "_view_module": "@jupyter-widgets/base",
            "_view_module_version": "1.2.0",
            "_view_name": "LayoutView",
            "align_content": null,
            "align_items": null,
            "align_self": null,
            "border": null,
            "bottom": null,
            "display": null,
            "flex": null,
            "flex_flow": null,
            "grid_area": null,
            "grid_auto_columns": null,
            "grid_auto_flow": null,
            "grid_auto_rows": null,
            "grid_column": null,
            "grid_gap": null,
            "grid_row": null,
            "grid_template_areas": null,
            "grid_template_columns": null,
            "grid_template_rows": null,
            "height": null,
            "justify_content": null,
            "justify_items": null,
            "left": null,
            "margin": null,
            "max_height": null,
            "max_width": null,
            "min_height": null,
            "min_width": null,
            "object_fit": null,
            "object_position": null,
            "order": null,
            "overflow": null,
            "overflow_x": null,
            "overflow_y": null,
            "padding": null,
            "right": null,
            "top": null,
            "visibility": null,
            "width": null
          }
        },
        "45773dd186304fb39e01f80886ead1d7": {
          "model_module": "@jupyter-widgets/base",
          "model_name": "LayoutModel",
          "model_module_version": "1.2.0",
          "state": {
            "_model_module": "@jupyter-widgets/base",
            "_model_module_version": "1.2.0",
            "_model_name": "LayoutModel",
            "_view_count": null,
            "_view_module": "@jupyter-widgets/base",
            "_view_module_version": "1.2.0",
            "_view_name": "LayoutView",
            "align_content": null,
            "align_items": null,
            "align_self": null,
            "border": null,
            "bottom": null,
            "display": null,
            "flex": null,
            "flex_flow": null,
            "grid_area": null,
            "grid_auto_columns": null,
            "grid_auto_flow": null,
            "grid_auto_rows": null,
            "grid_column": null,
            "grid_gap": null,
            "grid_row": null,
            "grid_template_areas": null,
            "grid_template_columns": null,
            "grid_template_rows": null,
            "height": null,
            "justify_content": null,
            "justify_items": null,
            "left": null,
            "margin": null,
            "max_height": null,
            "max_width": null,
            "min_height": null,
            "min_width": null,
            "object_fit": null,
            "object_position": null,
            "order": null,
            "overflow": null,
            "overflow_x": null,
            "overflow_y": null,
            "padding": null,
            "right": null,
            "top": null,
            "visibility": null,
            "width": null
          }
        },
        "0d21f257d35143b6ba8fa1d6f89f03d6": {
          "model_module": "@jupyter-widgets/base",
          "model_name": "LayoutModel",
          "model_module_version": "1.2.0",
          "state": {
            "_model_module": "@jupyter-widgets/base",
            "_model_module_version": "1.2.0",
            "_model_name": "LayoutModel",
            "_view_count": null,
            "_view_module": "@jupyter-widgets/base",
            "_view_module_version": "1.2.0",
            "_view_name": "LayoutView",
            "align_content": null,
            "align_items": null,
            "align_self": null,
            "border": null,
            "bottom": null,
            "display": null,
            "flex": null,
            "flex_flow": null,
            "grid_area": null,
            "grid_auto_columns": null,
            "grid_auto_flow": null,
            "grid_auto_rows": null,
            "grid_column": null,
            "grid_gap": null,
            "grid_row": null,
            "grid_template_areas": null,
            "grid_template_columns": null,
            "grid_template_rows": null,
            "height": null,
            "justify_content": null,
            "justify_items": null,
            "left": null,
            "margin": null,
            "max_height": null,
            "max_width": null,
            "min_height": null,
            "min_width": null,
            "object_fit": null,
            "object_position": null,
            "order": null,
            "overflow": null,
            "overflow_x": null,
            "overflow_y": null,
            "padding": null,
            "right": null,
            "top": null,
            "visibility": null,
            "width": null
          }
        },
        "727e3d9c6bac47cb91f19b95b16d2d2d": {
          "model_module": "@jupyter-widgets/controls",
          "model_name": "TabModel",
          "model_module_version": "1.5.0",
          "state": {
            "_dom_classes": [],
            "_model_module": "@jupyter-widgets/controls",
            "_model_module_version": "1.5.0",
            "_model_name": "TabModel",
            "_titles": {
              "0": "Youtube",
              "1": "Bilibili"
            },
            "_view_count": null,
            "_view_module": "@jupyter-widgets/controls",
            "_view_module_version": "1.5.0",
            "_view_name": "TabView",
            "box_style": "",
            "children": [
              "IPY_MODEL_075e0c4338e44a39a0329b887dae6b62",
              "IPY_MODEL_8b389910e6a14223a46b327455690a58"
            ],
            "layout": "IPY_MODEL_a2015c2d7a7c4b528af8ec2777497599",
            "selected_index": 0
          }
        },
        "075e0c4338e44a39a0329b887dae6b62": {
          "model_module": "@jupyter-widgets/output",
          "model_name": "OutputModel",
          "model_module_version": "1.0.0",
          "state": {
            "_dom_classes": [],
            "_model_module": "@jupyter-widgets/output",
            "_model_module_version": "1.0.0",
            "_model_name": "OutputModel",
            "_view_count": null,
            "_view_module": "@jupyter-widgets/output",
            "_view_module_version": "1.0.0",
            "_view_name": "OutputView",
            "layout": "IPY_MODEL_03f69b55eb1c4f6aa733d3c8f0e57b49",
            "msg_id": "",
            "outputs": [
              {
                "output_type": "stream",
                "name": "stdout",
                "text": [
                  "Video available at https://youtube.com/watch?v=\n"
                ]
              },
              {
                "output_type": "display_data",
                "data": {
                  "text/plain": "<IPython.lib.display.YouTubeVideo at 0x7f716d367b90>",
                  "text/html": "\n        <iframe\n            width=\"854\"\n            height=\"480\"\n            src=\"https://www.youtube.com/embed/?fs=1&rel=0\"\n            frameborder=\"0\"\n            allowfullscreen\n        ></iframe>\n        "
                },
                "metadata": {}
              }
            ]
          }
        },
        "8b389910e6a14223a46b327455690a58": {
          "model_module": "@jupyter-widgets/output",
          "model_name": "OutputModel",
          "model_module_version": "1.0.0",
          "state": {
            "_dom_classes": [],
            "_model_module": "@jupyter-widgets/output",
            "_model_module_version": "1.0.0",
            "_model_name": "OutputModel",
            "_view_count": null,
            "_view_module": "@jupyter-widgets/output",
            "_view_module_version": "1.0.0",
            "_view_name": "OutputView",
            "layout": "IPY_MODEL_28c512b04f8946299e95c5939f33bf46",
            "msg_id": "",
            "outputs": [
              {
                "output_type": "stream",
                "name": "stdout",
                "text": [
                  "Video available at https://www.bilibili.com/video/BV1Pq4y1p7em\n"
                ]
              },
              {
                "output_type": "display_data",
                "data": {
                  "text/plain": "<__main__.BiliVideo at 0x7f716d367590>",
                  "text/html": "\n        <iframe\n            width=\"854\"\n            height=\"480\"\n            src=\"https://player.bilibili.com/player.html?bvid=BV1Pq4y1p7em&page=1?fs=1\"\n            frameborder=\"0\"\n            allowfullscreen\n        ></iframe>\n        "
                },
                "metadata": {}
              }
            ]
          }
        },
        "a2015c2d7a7c4b528af8ec2777497599": {
          "model_module": "@jupyter-widgets/base",
          "model_name": "LayoutModel",
          "model_module_version": "1.2.0",
          "state": {
            "_model_module": "@jupyter-widgets/base",
            "_model_module_version": "1.2.0",
            "_model_name": "LayoutModel",
            "_view_count": null,
            "_view_module": "@jupyter-widgets/base",
            "_view_module_version": "1.2.0",
            "_view_name": "LayoutView",
            "align_content": null,
            "align_items": null,
            "align_self": null,
            "border": null,
            "bottom": null,
            "display": null,
            "flex": null,
            "flex_flow": null,
            "grid_area": null,
            "grid_auto_columns": null,
            "grid_auto_flow": null,
            "grid_auto_rows": null,
            "grid_column": null,
            "grid_gap": null,
            "grid_row": null,
            "grid_template_areas": null,
            "grid_template_columns": null,
            "grid_template_rows": null,
            "height": null,
            "justify_content": null,
            "justify_items": null,
            "left": null,
            "margin": null,
            "max_height": null,
            "max_width": null,
            "min_height": null,
            "min_width": null,
            "object_fit": null,
            "object_position": null,
            "order": null,
            "overflow": null,
            "overflow_x": null,
            "overflow_y": null,
            "padding": null,
            "right": null,
            "top": null,
            "visibility": null,
            "width": null
          }
        },
        "03f69b55eb1c4f6aa733d3c8f0e57b49": {
          "model_module": "@jupyter-widgets/base",
          "model_name": "LayoutModel",
          "model_module_version": "1.2.0",
          "state": {
            "_model_module": "@jupyter-widgets/base",
            "_model_module_version": "1.2.0",
            "_model_name": "LayoutModel",
            "_view_count": null,
            "_view_module": "@jupyter-widgets/base",
            "_view_module_version": "1.2.0",
            "_view_name": "LayoutView",
            "align_content": null,
            "align_items": null,
            "align_self": null,
            "border": null,
            "bottom": null,
            "display": null,
            "flex": null,
            "flex_flow": null,
            "grid_area": null,
            "grid_auto_columns": null,
            "grid_auto_flow": null,
            "grid_auto_rows": null,
            "grid_column": null,
            "grid_gap": null,
            "grid_row": null,
            "grid_template_areas": null,
            "grid_template_columns": null,
            "grid_template_rows": null,
            "height": null,
            "justify_content": null,
            "justify_items": null,
            "left": null,
            "margin": null,
            "max_height": null,
            "max_width": null,
            "min_height": null,
            "min_width": null,
            "object_fit": null,
            "object_position": null,
            "order": null,
            "overflow": null,
            "overflow_x": null,
            "overflow_y": null,
            "padding": null,
            "right": null,
            "top": null,
            "visibility": null,
            "width": null
          }
        },
        "28c512b04f8946299e95c5939f33bf46": {
          "model_module": "@jupyter-widgets/base",
          "model_name": "LayoutModel",
          "model_module_version": "1.2.0",
          "state": {
            "_model_module": "@jupyter-widgets/base",
            "_model_module_version": "1.2.0",
            "_model_name": "LayoutModel",
            "_view_count": null,
            "_view_module": "@jupyter-widgets/base",
            "_view_module_version": "1.2.0",
            "_view_name": "LayoutView",
            "align_content": null,
            "align_items": null,
            "align_self": null,
            "border": null,
            "bottom": null,
            "display": null,
            "flex": null,
            "flex_flow": null,
            "grid_area": null,
            "grid_auto_columns": null,
            "grid_auto_flow": null,
            "grid_auto_rows": null,
            "grid_column": null,
            "grid_gap": null,
            "grid_row": null,
            "grid_template_areas": null,
            "grid_template_columns": null,
            "grid_template_rows": null,
            "height": null,
            "justify_content": null,
            "justify_items": null,
            "left": null,
            "margin": null,
            "max_height": null,
            "max_width": null,
            "min_height": null,
            "min_width": null,
            "object_fit": null,
            "object_position": null,
            "order": null,
            "overflow": null,
            "overflow_x": null,
            "overflow_y": null,
            "padding": null,
            "right": null,
            "top": null,
            "visibility": null,
            "width": null
          }
        },
        "a5b7d7021cf744e69586ababa9b97f94": {
          "model_module": "@jupyter-widgets/controls",
          "model_name": "TabModel",
          "model_module_version": "1.5.0",
          "state": {
            "_dom_classes": [],
            "_model_module": "@jupyter-widgets/controls",
            "_model_module_version": "1.5.0",
            "_model_name": "TabModel",
            "_titles": {
              "0": "Youtube",
              "1": "Bilibili"
            },
            "_view_count": null,
            "_view_module": "@jupyter-widgets/controls",
            "_view_module_version": "1.5.0",
            "_view_name": "TabView",
            "box_style": "",
            "children": [
              "IPY_MODEL_b45c2b6a19b440459f7bf88babc3ebd6",
              "IPY_MODEL_3dc1c798b5a2487daf25e224a8cd3c9e"
            ],
            "layout": "IPY_MODEL_9fa73fc9263347d3b39d6c8e9a214386",
            "selected_index": 0
          }
        },
        "b45c2b6a19b440459f7bf88babc3ebd6": {
          "model_module": "@jupyter-widgets/output",
          "model_name": "OutputModel",
          "model_module_version": "1.0.0",
          "state": {
            "_dom_classes": [],
            "_model_module": "@jupyter-widgets/output",
            "_model_module_version": "1.0.0",
            "_model_name": "OutputModel",
            "_view_count": null,
            "_view_module": "@jupyter-widgets/output",
            "_view_module_version": "1.0.0",
            "_view_name": "OutputView",
            "layout": "IPY_MODEL_2d3d875421b84743862460365e84d91b",
            "msg_id": "",
            "outputs": [
              {
                "output_type": "stream",
                "name": "stdout",
                "text": [
                  "Video available at https://youtube.com/watch?v=b2N2OJ2u4AM\n"
                ]
              },
              {
                "output_type": "display_data",
                "data": {
                  "text/plain": "<IPython.lib.display.YouTubeVideo at 0x7f71705eba50>",
                  "text/html": "\n        <iframe\n            width=\"854\"\n            height=\"480\"\n            src=\"https://www.youtube.com/embed/b2N2OJ2u4AM?fs=1&rel=0\"\n            frameborder=\"0\"\n            allowfullscreen\n        ></iframe>\n        ",
                  "image/jpeg": "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\n"
                },
                "metadata": {}
              }
            ]
          }
        },
        "3dc1c798b5a2487daf25e224a8cd3c9e": {
          "model_module": "@jupyter-widgets/output",
          "model_name": "OutputModel",
          "model_module_version": "1.0.0",
          "state": {
            "_dom_classes": [],
            "_model_module": "@jupyter-widgets/output",
            "_model_module_version": "1.0.0",
            "_model_name": "OutputModel",
            "_view_count": null,
            "_view_module": "@jupyter-widgets/output",
            "_view_module_version": "1.0.0",
            "_view_name": "OutputView",
            "layout": "IPY_MODEL_d249910405fe450391e7889c432ac4d8",
            "msg_id": "",
            "outputs": [
              {
                "output_type": "stream",
                "name": "stdout",
                "text": [
                  "Video available at https://www.bilibili.com/video/\n"
                ]
              },
              {
                "output_type": "display_data",
                "data": {
                  "text/plain": "<__main__.BiliVideo at 0x7f716d35b910>",
                  "text/html": "\n        <iframe\n            width=\"854\"\n            height=\"480\"\n            src=\"https://player.bilibili.com/player.html?bvid=&page=1?fs=1\"\n            frameborder=\"0\"\n            allowfullscreen\n        ></iframe>\n        "
                },
                "metadata": {}
              }
            ]
          }
        },
        "9fa73fc9263347d3b39d6c8e9a214386": {
          "model_module": "@jupyter-widgets/base",
          "model_name": "LayoutModel",
          "model_module_version": "1.2.0",
          "state": {
            "_model_module": "@jupyter-widgets/base",
            "_model_module_version": "1.2.0",
            "_model_name": "LayoutModel",
            "_view_count": null,
            "_view_module": "@jupyter-widgets/base",
            "_view_module_version": "1.2.0",
            "_view_name": "LayoutView",
            "align_content": null,
            "align_items": null,
            "align_self": null,
            "border": null,
            "bottom": null,
            "display": null,
            "flex": null,
            "flex_flow": null,
            "grid_area": null,
            "grid_auto_columns": null,
            "grid_auto_flow": null,
            "grid_auto_rows": null,
            "grid_column": null,
            "grid_gap": null,
            "grid_row": null,
            "grid_template_areas": null,
            "grid_template_columns": null,
            "grid_template_rows": null,
            "height": null,
            "justify_content": null,
            "justify_items": null,
            "left": null,
            "margin": null,
            "max_height": null,
            "max_width": null,
            "min_height": null,
            "min_width": null,
            "object_fit": null,
            "object_position": null,
            "order": null,
            "overflow": null,
            "overflow_x": null,
            "overflow_y": null,
            "padding": null,
            "right": null,
            "top": null,
            "visibility": null,
            "width": null
          }
        },
        "2d3d875421b84743862460365e84d91b": {
          "model_module": "@jupyter-widgets/base",
          "model_name": "LayoutModel",
          "model_module_version": "1.2.0",
          "state": {
            "_model_module": "@jupyter-widgets/base",
            "_model_module_version": "1.2.0",
            "_model_name": "LayoutModel",
            "_view_count": null,
            "_view_module": "@jupyter-widgets/base",
            "_view_module_version": "1.2.0",
            "_view_name": "LayoutView",
            "align_content": null,
            "align_items": null,
            "align_self": null,
            "border": null,
            "bottom": null,
            "display": null,
            "flex": null,
            "flex_flow": null,
            "grid_area": null,
            "grid_auto_columns": null,
            "grid_auto_flow": null,
            "grid_auto_rows": null,
            "grid_column": null,
            "grid_gap": null,
            "grid_row": null,
            "grid_template_areas": null,
            "grid_template_columns": null,
            "grid_template_rows": null,
            "height": null,
            "justify_content": null,
            "justify_items": null,
            "left": null,
            "margin": null,
            "max_height": null,
            "max_width": null,
            "min_height": null,
            "min_width": null,
            "object_fit": null,
            "object_position": null,
            "order": null,
            "overflow": null,
            "overflow_x": null,
            "overflow_y": null,
            "padding": null,
            "right": null,
            "top": null,
            "visibility": null,
            "width": null
          }
        },
        "d249910405fe450391e7889c432ac4d8": {
          "model_module": "@jupyter-widgets/base",
          "model_name": "LayoutModel",
          "model_module_version": "1.2.0",
          "state": {
            "_model_module": "@jupyter-widgets/base",
            "_model_module_version": "1.2.0",
            "_model_name": "LayoutModel",
            "_view_count": null,
            "_view_module": "@jupyter-widgets/base",
            "_view_module_version": "1.2.0",
            "_view_name": "LayoutView",
            "align_content": null,
            "align_items": null,
            "align_self": null,
            "border": null,
            "bottom": null,
            "display": null,
            "flex": null,
            "flex_flow": null,
            "grid_area": null,
            "grid_auto_columns": null,
            "grid_auto_flow": null,
            "grid_auto_rows": null,
            "grid_column": null,
            "grid_gap": null,
            "grid_row": null,
            "grid_template_areas": null,
            "grid_template_columns": null,
            "grid_template_rows": null,
            "height": null,
            "justify_content": null,
            "justify_items": null,
            "left": null,
            "margin": null,
            "max_height": null,
            "max_width": null,
            "min_height": null,
            "min_width": null,
            "object_fit": null,
            "object_position": null,
            "order": null,
            "overflow": null,
            "overflow_x": null,
            "overflow_y": null,
            "padding": null,
            "right": null,
            "top": null,
            "visibility": null,
            "width": null
          }
        },
        "a2131a45d84e47c79c42a6d22ea07285": {
          "model_module": "@jupyter-widgets/controls",
          "model_name": "TabModel",
          "model_module_version": "1.5.0",
          "state": {
            "_dom_classes": [],
            "_model_module": "@jupyter-widgets/controls",
            "_model_module_version": "1.5.0",
            "_model_name": "TabModel",
            "_titles": {
              "0": "Youtube",
              "1": "Bilibili"
            },
            "_view_count": null,
            "_view_module": "@jupyter-widgets/controls",
            "_view_module_version": "1.5.0",
            "_view_name": "TabView",
            "box_style": "",
            "children": [
              "IPY_MODEL_d6c97bba612c4e3bba5fb6776037f40d",
              "IPY_MODEL_d1aef9fd3400481a858d67ad69bed90f"
            ],
            "layout": "IPY_MODEL_98ed28462e554b9f943e49037da9cea3",
            "selected_index": 0
          }
        },
        "d6c97bba612c4e3bba5fb6776037f40d": {
          "model_module": "@jupyter-widgets/output",
          "model_name": "OutputModel",
          "model_module_version": "1.0.0",
          "state": {
            "_dom_classes": [],
            "_model_module": "@jupyter-widgets/output",
            "_model_module_version": "1.0.0",
            "_model_name": "OutputModel",
            "_view_count": null,
            "_view_module": "@jupyter-widgets/output",
            "_view_module_version": "1.0.0",
            "_view_name": "OutputView",
            "layout": "IPY_MODEL_076d75ca9b444e928cf5ecb2ac7ddc85",
            "msg_id": "",
            "outputs": [
              {
                "output_type": "stream",
                "name": "stdout",
                "text": [
                  "Video available at https://youtube.com/watch?v=Reh-gNiOwkQ\n"
                ]
              },
              {
                "output_type": "display_data",
                "data": {
                  "text/plain": "<IPython.lib.display.YouTubeVideo at 0x7f71705d4bd0>",
                  "text/html": "\n        <iframe\n            width=\"854\"\n            height=\"480\"\n            src=\"https://www.youtube.com/embed/Reh-gNiOwkQ?fs=1&rel=0\"\n            frameborder=\"0\"\n            allowfullscreen\n        ></iframe>\n        ",
                  "image/jpeg": "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\n"
                },
                "metadata": {}
              }
            ]
          }
        },
        "d1aef9fd3400481a858d67ad69bed90f": {
          "model_module": "@jupyter-widgets/output",
          "model_name": "OutputModel",
          "model_module_version": "1.0.0",
          "state": {
            "_dom_classes": [],
            "_model_module": "@jupyter-widgets/output",
            "_model_module_version": "1.0.0",
            "_model_name": "OutputModel",
            "_view_count": null,
            "_view_module": "@jupyter-widgets/output",
            "_view_module_version": "1.0.0",
            "_view_name": "OutputView",
            "layout": "IPY_MODEL_13c36199662a4dba9a2ba60d524d8044",
            "msg_id": "",
            "outputs": [
              {
                "output_type": "stream",
                "name": "stdout",
                "text": [
                  "Video available at https://www.bilibili.com/video/\n"
                ]
              },
              {
                "output_type": "display_data",
                "data": {
                  "text/plain": "<__main__.BiliVideo at 0x7f71714537d0>",
                  "text/html": "\n        <iframe\n            width=\"854\"\n            height=\"480\"\n            src=\"https://player.bilibili.com/player.html?bvid=&page=1?fs=1\"\n            frameborder=\"0\"\n            allowfullscreen\n        ></iframe>\n        "
                },
                "metadata": {}
              }
            ]
          }
        },
        "98ed28462e554b9f943e49037da9cea3": {
          "model_module": "@jupyter-widgets/base",
          "model_name": "LayoutModel",
          "model_module_version": "1.2.0",
          "state": {
            "_model_module": "@jupyter-widgets/base",
            "_model_module_version": "1.2.0",
            "_model_name": "LayoutModel",
            "_view_count": null,
            "_view_module": "@jupyter-widgets/base",
            "_view_module_version": "1.2.0",
            "_view_name": "LayoutView",
            "align_content": null,
            "align_items": null,
            "align_self": null,
            "border": null,
            "bottom": null,
            "display": null,
            "flex": null,
            "flex_flow": null,
            "grid_area": null,
            "grid_auto_columns": null,
            "grid_auto_flow": null,
            "grid_auto_rows": null,
            "grid_column": null,
            "grid_gap": null,
            "grid_row": null,
            "grid_template_areas": null,
            "grid_template_columns": null,
            "grid_template_rows": null,
            "height": null,
            "justify_content": null,
            "justify_items": null,
            "left": null,
            "margin": null,
            "max_height": null,
            "max_width": null,
            "min_height": null,
            "min_width": null,
            "object_fit": null,
            "object_position": null,
            "order": null,
            "overflow": null,
            "overflow_x": null,
            "overflow_y": null,
            "padding": null,
            "right": null,
            "top": null,
            "visibility": null,
            "width": null
          }
        },
        "076d75ca9b444e928cf5ecb2ac7ddc85": {
          "model_module": "@jupyter-widgets/base",
          "model_name": "LayoutModel",
          "model_module_version": "1.2.0",
          "state": {
            "_model_module": "@jupyter-widgets/base",
            "_model_module_version": "1.2.0",
            "_model_name": "LayoutModel",
            "_view_count": null,
            "_view_module": "@jupyter-widgets/base",
            "_view_module_version": "1.2.0",
            "_view_name": "LayoutView",
            "align_content": null,
            "align_items": null,
            "align_self": null,
            "border": null,
            "bottom": null,
            "display": null,
            "flex": null,
            "flex_flow": null,
            "grid_area": null,
            "grid_auto_columns": null,
            "grid_auto_flow": null,
            "grid_auto_rows": null,
            "grid_column": null,
            "grid_gap": null,
            "grid_row": null,
            "grid_template_areas": null,
            "grid_template_columns": null,
            "grid_template_rows": null,
            "height": null,
            "justify_content": null,
            "justify_items": null,
            "left": null,
            "margin": null,
            "max_height": null,
            "max_width": null,
            "min_height": null,
            "min_width": null,
            "object_fit": null,
            "object_position": null,
            "order": null,
            "overflow": null,
            "overflow_x": null,
            "overflow_y": null,
            "padding": null,
            "right": null,
            "top": null,
            "visibility": null,
            "width": null
          }
        },
        "13c36199662a4dba9a2ba60d524d8044": {
          "model_module": "@jupyter-widgets/base",
          "model_name": "LayoutModel",
          "model_module_version": "1.2.0",
          "state": {
            "_model_module": "@jupyter-widgets/base",
            "_model_module_version": "1.2.0",
            "_model_name": "LayoutModel",
            "_view_count": null,
            "_view_module": "@jupyter-widgets/base",
            "_view_module_version": "1.2.0",
            "_view_name": "LayoutView",
            "align_content": null,
            "align_items": null,
            "align_self": null,
            "border": null,
            "bottom": null,
            "display": null,
            "flex": null,
            "flex_flow": null,
            "grid_area": null,
            "grid_auto_columns": null,
            "grid_auto_flow": null,
            "grid_auto_rows": null,
            "grid_column": null,
            "grid_gap": null,
            "grid_row": null,
            "grid_template_areas": null,
            "grid_template_columns": null,
            "grid_template_rows": null,
            "height": null,
            "justify_content": null,
            "justify_items": null,
            "left": null,
            "margin": null,
            "max_height": null,
            "max_width": null,
            "min_height": null,
            "min_width": null,
            "object_fit": null,
            "object_position": null,
            "order": null,
            "overflow": null,
            "overflow_x": null,
            "overflow_y": null,
            "padding": null,
            "right": null,
            "top": null,
            "visibility": null,
            "width": null
          }
        },
        "e250e98aa81b4da096ff513be38f507e": {
          "model_module": "@jupyter-widgets/controls",
          "model_name": "TabModel",
          "model_module_version": "1.5.0",
          "state": {
            "_dom_classes": [],
            "_model_module": "@jupyter-widgets/controls",
            "_model_module_version": "1.5.0",
            "_model_name": "TabModel",
            "_titles": {
              "0": "Youtube",
              "1": "Bilibili"
            },
            "_view_count": null,
            "_view_module": "@jupyter-widgets/controls",
            "_view_module_version": "1.5.0",
            "_view_name": "TabView",
            "box_style": "",
            "children": [
              "IPY_MODEL_f1a019c4cf3b4b4e8c470a35beedd8e2",
              "IPY_MODEL_12713f0782ab497e9f5e3a2aea6010a0"
            ],
            "layout": "IPY_MODEL_c3bc6234c93c4fc5948235ff36f55fbe",
            "selected_index": 0
          }
        },
        "f1a019c4cf3b4b4e8c470a35beedd8e2": {
          "model_module": "@jupyter-widgets/output",
          "model_name": "OutputModel",
          "model_module_version": "1.0.0",
          "state": {
            "_dom_classes": [],
            "_model_module": "@jupyter-widgets/output",
            "_model_module_version": "1.0.0",
            "_model_name": "OutputModel",
            "_view_count": null,
            "_view_module": "@jupyter-widgets/output",
            "_view_module_version": "1.0.0",
            "_view_name": "OutputView",
            "layout": "IPY_MODEL_7931f3af16504cefa2fa558360d0b1db",
            "msg_id": "",
            "outputs": [
              {
                "output_type": "stream",
                "name": "stdout",
                "text": [
                  "Video available at https://youtube.com/watch?v=QBKAFRaC8SY\n"
                ]
              },
              {
                "output_type": "display_data",
                "data": {
                  "text/plain": "<IPython.lib.display.YouTubeVideo at 0x7f716d343d50>",
                  "text/html": "\n        <iframe\n            width=\"854\"\n            height=\"480\"\n            src=\"https://www.youtube.com/embed/QBKAFRaC8SY?fs=1&rel=0\"\n            frameborder=\"0\"\n            allowfullscreen\n        ></iframe>\n        ",
                  "image/jpeg": "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\n"
                },
                "metadata": {}
              }
            ]
          }
        },
        "12713f0782ab497e9f5e3a2aea6010a0": {
          "model_module": "@jupyter-widgets/output",
          "model_name": "OutputModel",
          "model_module_version": "1.0.0",
          "state": {
            "_dom_classes": [],
            "_model_module": "@jupyter-widgets/output",
            "_model_module_version": "1.0.0",
            "_model_name": "OutputModel",
            "_view_count": null,
            "_view_module": "@jupyter-widgets/output",
            "_view_module_version": "1.0.0",
            "_view_name": "OutputView",
            "layout": "IPY_MODEL_48fc60af590f4695a761cee3cab076dc",
            "msg_id": "",
            "outputs": [
              {
                "output_type": "stream",
                "name": "stdout",
                "text": [
                  "Video available at https://www.bilibili.com/video/\n"
                ]
              },
              {
                "output_type": "display_data",
                "data": {
                  "text/plain": "<__main__.BiliVideo at 0x7f716d3435d0>",
                  "text/html": "\n        <iframe\n            width=\"854\"\n            height=\"480\"\n            src=\"https://player.bilibili.com/player.html?bvid=&page=1?fs=1\"\n            frameborder=\"0\"\n            allowfullscreen\n        ></iframe>\n        "
                },
                "metadata": {}
              }
            ]
          }
        },
        "c3bc6234c93c4fc5948235ff36f55fbe": {
          "model_module": "@jupyter-widgets/base",
          "model_name": "LayoutModel",
          "model_module_version": "1.2.0",
          "state": {
            "_model_module": "@jupyter-widgets/base",
            "_model_module_version": "1.2.0",
            "_model_name": "LayoutModel",
            "_view_count": null,
            "_view_module": "@jupyter-widgets/base",
            "_view_module_version": "1.2.0",
            "_view_name": "LayoutView",
            "align_content": null,
            "align_items": null,
            "align_self": null,
            "border": null,
            "bottom": null,
            "display": null,
            "flex": null,
            "flex_flow": null,
            "grid_area": null,
            "grid_auto_columns": null,
            "grid_auto_flow": null,
            "grid_auto_rows": null,
            "grid_column": null,
            "grid_gap": null,
            "grid_row": null,
            "grid_template_areas": null,
            "grid_template_columns": null,
            "grid_template_rows": null,
            "height": null,
            "justify_content": null,
            "justify_items": null,
            "left": null,
            "margin": null,
            "max_height": null,
            "max_width": null,
            "min_height": null,
            "min_width": null,
            "object_fit": null,
            "object_position": null,
            "order": null,
            "overflow": null,
            "overflow_x": null,
            "overflow_y": null,
            "padding": null,
            "right": null,
            "top": null,
            "visibility": null,
            "width": null
          }
        },
        "7931f3af16504cefa2fa558360d0b1db": {
          "model_module": "@jupyter-widgets/base",
          "model_name": "LayoutModel",
          "model_module_version": "1.2.0",
          "state": {
            "_model_module": "@jupyter-widgets/base",
            "_model_module_version": "1.2.0",
            "_model_name": "LayoutModel",
            "_view_count": null,
            "_view_module": "@jupyter-widgets/base",
            "_view_module_version": "1.2.0",
            "_view_name": "LayoutView",
            "align_content": null,
            "align_items": null,
            "align_self": null,
            "border": null,
            "bottom": null,
            "display": null,
            "flex": null,
            "flex_flow": null,
            "grid_area": null,
            "grid_auto_columns": null,
            "grid_auto_flow": null,
            "grid_auto_rows": null,
            "grid_column": null,
            "grid_gap": null,
            "grid_row": null,
            "grid_template_areas": null,
            "grid_template_columns": null,
            "grid_template_rows": null,
            "height": null,
            "justify_content": null,
            "justify_items": null,
            "left": null,
            "margin": null,
            "max_height": null,
            "max_width": null,
            "min_height": null,
            "min_width": null,
            "object_fit": null,
            "object_position": null,
            "order": null,
            "overflow": null,
            "overflow_x": null,
            "overflow_y": null,
            "padding": null,
            "right": null,
            "top": null,
            "visibility": null,
            "width": null
          }
        },
        "48fc60af590f4695a761cee3cab076dc": {
          "model_module": "@jupyter-widgets/base",
          "model_name": "LayoutModel",
          "model_module_version": "1.2.0",
          "state": {
            "_model_module": "@jupyter-widgets/base",
            "_model_module_version": "1.2.0",
            "_model_name": "LayoutModel",
            "_view_count": null,
            "_view_module": "@jupyter-widgets/base",
            "_view_module_version": "1.2.0",
            "_view_name": "LayoutView",
            "align_content": null,
            "align_items": null,
            "align_self": null,
            "border": null,
            "bottom": null,
            "display": null,
            "flex": null,
            "flex_flow": null,
            "grid_area": null,
            "grid_auto_columns": null,
            "grid_auto_flow": null,
            "grid_auto_rows": null,
            "grid_column": null,
            "grid_gap": null,
            "grid_row": null,
            "grid_template_areas": null,
            "grid_template_columns": null,
            "grid_template_rows": null,
            "height": null,
            "justify_content": null,
            "justify_items": null,
            "left": null,
            "margin": null,
            "max_height": null,
            "max_width": null,
            "min_height": null,
            "min_width": null,
            "object_fit": null,
            "object_position": null,
            "order": null,
            "overflow": null,
            "overflow_x": null,
            "overflow_y": null,
            "padding": null,
            "right": null,
            "top": null,
            "visibility": null,
            "width": null
          }
        },
        "7821b5d2d52d4e45a2093a98ae4492fb": {
          "model_module": "@jupyter-widgets/controls",
          "model_name": "TabModel",
          "model_module_version": "1.5.0",
          "state": {
            "_dom_classes": [],
            "_model_module": "@jupyter-widgets/controls",
            "_model_module_version": "1.5.0",
            "_model_name": "TabModel",
            "_titles": {
              "0": "Youtube",
              "1": "Bilibili"
            },
            "_view_count": null,
            "_view_module": "@jupyter-widgets/controls",
            "_view_module_version": "1.5.0",
            "_view_name": "TabView",
            "box_style": "",
            "children": [
              "IPY_MODEL_4fff745693b2427b8c56634a9592b447",
              "IPY_MODEL_9ad1cf85b9554552bd6f4f231aa0ad8e"
            ],
            "layout": "IPY_MODEL_c96171274111408a889e733a0a1f9e2d",
            "selected_index": 0
          }
        },
        "4fff745693b2427b8c56634a9592b447": {
          "model_module": "@jupyter-widgets/output",
          "model_name": "OutputModel",
          "model_module_version": "1.0.0",
          "state": {
            "_dom_classes": [],
            "_model_module": "@jupyter-widgets/output",
            "_model_module_version": "1.0.0",
            "_model_name": "OutputModel",
            "_view_count": null,
            "_view_module": "@jupyter-widgets/output",
            "_view_module_version": "1.0.0",
            "_view_name": "OutputView",
            "layout": "IPY_MODEL_af189a99f80541d195620e03a35a933c",
            "msg_id": "",
            "outputs": [
              {
                "output_type": "stream",
                "name": "stdout",
                "text": [
                  "Video available at https://youtube.com/watch?v=tF0iYBAnyrI\n"
                ]
              },
              {
                "output_type": "display_data",
                "data": {
                  "text/plain": "<IPython.lib.display.YouTubeVideo at 0x7f71705eb450>",
                  "text/html": "\n        <iframe\n            width=\"854\"\n            height=\"480\"\n            src=\"https://www.youtube.com/embed/tF0iYBAnyrI?fs=1&rel=0\"\n            frameborder=\"0\"\n            allowfullscreen\n        ></iframe>\n        ",
                  "image/jpeg": "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\n"
                },
                "metadata": {}
              }
            ]
          }
        },
        "9ad1cf85b9554552bd6f4f231aa0ad8e": {
          "model_module": "@jupyter-widgets/output",
          "model_name": "OutputModel",
          "model_module_version": "1.0.0",
          "state": {
            "_dom_classes": [],
            "_model_module": "@jupyter-widgets/output",
            "_model_module_version": "1.0.0",
            "_model_name": "OutputModel",
            "_view_count": null,
            "_view_module": "@jupyter-widgets/output",
            "_view_module_version": "1.0.0",
            "_view_name": "OutputView",
            "layout": "IPY_MODEL_61147126fa5647c19cfcceec600e94fa",
            "msg_id": "",
            "outputs": [
              {
                "output_type": "stream",
                "name": "stdout",
                "text": [
                  "Video available at https://www.bilibili.com/video/\n"
                ]
              },
              {
                "output_type": "display_data",
                "data": {
                  "text/plain": "<__main__.BiliVideo at 0x7f716ced4dd0>",
                  "text/html": "\n        <iframe\n            width=\"854\"\n            height=\"480\"\n            src=\"https://player.bilibili.com/player.html?bvid=&page=1?fs=1\"\n            frameborder=\"0\"\n            allowfullscreen\n        ></iframe>\n        "
                },
                "metadata": {}
              }
            ]
          }
        },
        "c96171274111408a889e733a0a1f9e2d": {
          "model_module": "@jupyter-widgets/base",
          "model_name": "LayoutModel",
          "model_module_version": "1.2.0",
          "state": {
            "_model_module": "@jupyter-widgets/base",
            "_model_module_version": "1.2.0",
            "_model_name": "LayoutModel",
            "_view_count": null,
            "_view_module": "@jupyter-widgets/base",
            "_view_module_version": "1.2.0",
            "_view_name": "LayoutView",
            "align_content": null,
            "align_items": null,
            "align_self": null,
            "border": null,
            "bottom": null,
            "display": null,
            "flex": null,
            "flex_flow": null,
            "grid_area": null,
            "grid_auto_columns": null,
            "grid_auto_flow": null,
            "grid_auto_rows": null,
            "grid_column": null,
            "grid_gap": null,
            "grid_row": null,
            "grid_template_areas": null,
            "grid_template_columns": null,
            "grid_template_rows": null,
            "height": null,
            "justify_content": null,
            "justify_items": null,
            "left": null,
            "margin": null,
            "max_height": null,
            "max_width": null,
            "min_height": null,
            "min_width": null,
            "object_fit": null,
            "object_position": null,
            "order": null,
            "overflow": null,
            "overflow_x": null,
            "overflow_y": null,
            "padding": null,
            "right": null,
            "top": null,
            "visibility": null,
            "width": null
          }
        },
        "af189a99f80541d195620e03a35a933c": {
          "model_module": "@jupyter-widgets/base",
          "model_name": "LayoutModel",
          "model_module_version": "1.2.0",
          "state": {
            "_model_module": "@jupyter-widgets/base",
            "_model_module_version": "1.2.0",
            "_model_name": "LayoutModel",
            "_view_count": null,
            "_view_module": "@jupyter-widgets/base",
            "_view_module_version": "1.2.0",
            "_view_name": "LayoutView",
            "align_content": null,
            "align_items": null,
            "align_self": null,
            "border": null,
            "bottom": null,
            "display": null,
            "flex": null,
            "flex_flow": null,
            "grid_area": null,
            "grid_auto_columns": null,
            "grid_auto_flow": null,
            "grid_auto_rows": null,
            "grid_column": null,
            "grid_gap": null,
            "grid_row": null,
            "grid_template_areas": null,
            "grid_template_columns": null,
            "grid_template_rows": null,
            "height": null,
            "justify_content": null,
            "justify_items": null,
            "left": null,
            "margin": null,
            "max_height": null,
            "max_width": null,
            "min_height": null,
            "min_width": null,
            "object_fit": null,
            "object_position": null,
            "order": null,
            "overflow": null,
            "overflow_x": null,
            "overflow_y": null,
            "padding": null,
            "right": null,
            "top": null,
            "visibility": null,
            "width": null
          }
        },
        "61147126fa5647c19cfcceec600e94fa": {
          "model_module": "@jupyter-widgets/base",
          "model_name": "LayoutModel",
          "model_module_version": "1.2.0",
          "state": {
            "_model_module": "@jupyter-widgets/base",
            "_model_module_version": "1.2.0",
            "_model_name": "LayoutModel",
            "_view_count": null,
            "_view_module": "@jupyter-widgets/base",
            "_view_module_version": "1.2.0",
            "_view_name": "LayoutView",
            "align_content": null,
            "align_items": null,
            "align_self": null,
            "border": null,
            "bottom": null,
            "display": null,
            "flex": null,
            "flex_flow": null,
            "grid_area": null,
            "grid_auto_columns": null,
            "grid_auto_flow": null,
            "grid_auto_rows": null,
            "grid_column": null,
            "grid_gap": null,
            "grid_row": null,
            "grid_template_areas": null,
            "grid_template_columns": null,
            "grid_template_rows": null,
            "height": null,
            "justify_content": null,
            "justify_items": null,
            "left": null,
            "margin": null,
            "max_height": null,
            "max_width": null,
            "min_height": null,
            "min_width": null,
            "object_fit": null,
            "object_position": null,
            "order": null,
            "overflow": null,
            "overflow_x": null,
            "overflow_y": null,
            "padding": null,
            "right": null,
            "top": null,
            "visibility": null,
            "width": null
          }
        },
        "0827612f1139435087abe3e9ac1abff0": {
          "model_module": "@jupyter-widgets/controls",
          "model_name": "TabModel",
          "model_module_version": "1.5.0",
          "state": {
            "_dom_classes": [],
            "_model_module": "@jupyter-widgets/controls",
            "_model_module_version": "1.5.0",
            "_model_name": "TabModel",
            "_titles": {
              "0": "Youtube",
              "1": "Bilibili"
            },
            "_view_count": null,
            "_view_module": "@jupyter-widgets/controls",
            "_view_module_version": "1.5.0",
            "_view_name": "TabView",
            "box_style": "",
            "children": [
              "IPY_MODEL_eceba6cab41c4aba964c6370c11fe532",
              "IPY_MODEL_57ec2979ed17476691275ac44174436c"
            ],
            "layout": "IPY_MODEL_e76ae9bc750a4e58a5403395f0983444",
            "selected_index": 0
          }
        },
        "eceba6cab41c4aba964c6370c11fe532": {
          "model_module": "@jupyter-widgets/output",
          "model_name": "OutputModel",
          "model_module_version": "1.0.0",
          "state": {
            "_dom_classes": [],
            "_model_module": "@jupyter-widgets/output",
            "_model_module_version": "1.0.0",
            "_model_name": "OutputModel",
            "_view_count": null,
            "_view_module": "@jupyter-widgets/output",
            "_view_module_version": "1.0.0",
            "_view_name": "OutputView",
            "layout": "IPY_MODEL_8a93b56ae181471a920659c1bbd9c67b",
            "msg_id": "",
            "outputs": [
              {
                "output_type": "stream",
                "name": "stdout",
                "text": [
                  "Video available at https://youtube.com/watch?v=JrzicfOxqP0\n"
                ]
              },
              {
                "output_type": "display_data",
                "data": {
                  "text/plain": "<IPython.lib.display.YouTubeVideo at 0x7f717264ee50>",
                  "text/html": "\n        <iframe\n            width=\"854\"\n            height=\"480\"\n            src=\"https://www.youtube.com/embed/JrzicfOxqP0?fs=1&rel=0\"\n            frameborder=\"0\"\n            allowfullscreen\n        ></iframe>\n        ",
                  "image/jpeg": "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\n"
                },
                "metadata": {}
              }
            ]
          }
        },
        "57ec2979ed17476691275ac44174436c": {
          "model_module": "@jupyter-widgets/output",
          "model_name": "OutputModel",
          "model_module_version": "1.0.0",
          "state": {
            "_dom_classes": [],
            "_model_module": "@jupyter-widgets/output",
            "_model_module_version": "1.0.0",
            "_model_name": "OutputModel",
            "_view_count": null,
            "_view_module": "@jupyter-widgets/output",
            "_view_module_version": "1.0.0",
            "_view_name": "OutputView",
            "layout": "IPY_MODEL_3a3447c6d9cd49769a7b676499aee2b9",
            "msg_id": "",
            "outputs": [
              {
                "output_type": "stream",
                "name": "stdout",
                "text": [
                  "Video available at https://www.bilibili.com/video/\n"
                ]
              },
              {
                "output_type": "display_data",
                "data": {
                  "text/plain": "<__main__.BiliVideo at 0x7f716d367590>",
                  "text/html": "\n        <iframe\n            width=\"854\"\n            height=\"480\"\n            src=\"https://player.bilibili.com/player.html?bvid=&page=1?fs=1\"\n            frameborder=\"0\"\n            allowfullscreen\n        ></iframe>\n        "
                },
                "metadata": {}
              }
            ]
          }
        },
        "e76ae9bc750a4e58a5403395f0983444": {
          "model_module": "@jupyter-widgets/base",
          "model_name": "LayoutModel",
          "model_module_version": "1.2.0",
          "state": {
            "_model_module": "@jupyter-widgets/base",
            "_model_module_version": "1.2.0",
            "_model_name": "LayoutModel",
            "_view_count": null,
            "_view_module": "@jupyter-widgets/base",
            "_view_module_version": "1.2.0",
            "_view_name": "LayoutView",
            "align_content": null,
            "align_items": null,
            "align_self": null,
            "border": null,
            "bottom": null,
            "display": null,
            "flex": null,
            "flex_flow": null,
            "grid_area": null,
            "grid_auto_columns": null,
            "grid_auto_flow": null,
            "grid_auto_rows": null,
            "grid_column": null,
            "grid_gap": null,
            "grid_row": null,
            "grid_template_areas": null,
            "grid_template_columns": null,
            "grid_template_rows": null,
            "height": null,
            "justify_content": null,
            "justify_items": null,
            "left": null,
            "margin": null,
            "max_height": null,
            "max_width": null,
            "min_height": null,
            "min_width": null,
            "object_fit": null,
            "object_position": null,
            "order": null,
            "overflow": null,
            "overflow_x": null,
            "overflow_y": null,
            "padding": null,
            "right": null,
            "top": null,
            "visibility": null,
            "width": null
          }
        },
        "8a93b56ae181471a920659c1bbd9c67b": {
          "model_module": "@jupyter-widgets/base",
          "model_name": "LayoutModel",
          "model_module_version": "1.2.0",
          "state": {
            "_model_module": "@jupyter-widgets/base",
            "_model_module_version": "1.2.0",
            "_model_name": "LayoutModel",
            "_view_count": null,
            "_view_module": "@jupyter-widgets/base",
            "_view_module_version": "1.2.0",
            "_view_name": "LayoutView",
            "align_content": null,
            "align_items": null,
            "align_self": null,
            "border": null,
            "bottom": null,
            "display": null,
            "flex": null,
            "flex_flow": null,
            "grid_area": null,
            "grid_auto_columns": null,
            "grid_auto_flow": null,
            "grid_auto_rows": null,
            "grid_column": null,
            "grid_gap": null,
            "grid_row": null,
            "grid_template_areas": null,
            "grid_template_columns": null,
            "grid_template_rows": null,
            "height": null,
            "justify_content": null,
            "justify_items": null,
            "left": null,
            "margin": null,
            "max_height": null,
            "max_width": null,
            "min_height": null,
            "min_width": null,
            "object_fit": null,
            "object_position": null,
            "order": null,
            "overflow": null,
            "overflow_x": null,
            "overflow_y": null,
            "padding": null,
            "right": null,
            "top": null,
            "visibility": null,
            "width": null
          }
        },
        "3a3447c6d9cd49769a7b676499aee2b9": {
          "model_module": "@jupyter-widgets/base",
          "model_name": "LayoutModel",
          "model_module_version": "1.2.0",
          "state": {
            "_model_module": "@jupyter-widgets/base",
            "_model_module_version": "1.2.0",
            "_model_name": "LayoutModel",
            "_view_count": null,
            "_view_module": "@jupyter-widgets/base",
            "_view_module_version": "1.2.0",
            "_view_name": "LayoutView",
            "align_content": null,
            "align_items": null,
            "align_self": null,
            "border": null,
            "bottom": null,
            "display": null,
            "flex": null,
            "flex_flow": null,
            "grid_area": null,
            "grid_auto_columns": null,
            "grid_auto_flow": null,
            "grid_auto_rows": null,
            "grid_column": null,
            "grid_gap": null,
            "grid_row": null,
            "grid_template_areas": null,
            "grid_template_columns": null,
            "grid_template_rows": null,
            "height": null,
            "justify_content": null,
            "justify_items": null,
            "left": null,
            "margin": null,
            "max_height": null,
            "max_width": null,
            "min_height": null,
            "min_width": null,
            "object_fit": null,
            "object_position": null,
            "order": null,
            "overflow": null,
            "overflow_x": null,
            "overflow_y": null,
            "padding": null,
            "right": null,
            "top": null,
            "visibility": null,
            "width": null
          }
        },
        "eb882fd9e59d44398501d5a1ccc3db9a": {
          "model_module": "@jupyter-widgets/controls",
          "model_name": "TabModel",
          "model_module_version": "1.5.0",
          "state": {
            "_dom_classes": [],
            "_model_module": "@jupyter-widgets/controls",
            "_model_module_version": "1.5.0",
            "_model_name": "TabModel",
            "_titles": {
              "0": "Youtube",
              "1": "Bilibili"
            },
            "_view_count": null,
            "_view_module": "@jupyter-widgets/controls",
            "_view_module_version": "1.5.0",
            "_view_name": "TabView",
            "box_style": "",
            "children": [
              "IPY_MODEL_bd9a3da337314969a728afc22bdb317e",
              "IPY_MODEL_d56b90b5bfd647599a97fead5a43caa7"
            ],
            "layout": "IPY_MODEL_398a4f45f4ea42cb9bf0209a59a5fa29",
            "selected_index": 0
          }
        },
        "bd9a3da337314969a728afc22bdb317e": {
          "model_module": "@jupyter-widgets/output",
          "model_name": "OutputModel",
          "model_module_version": "1.0.0",
          "state": {
            "_dom_classes": [],
            "_model_module": "@jupyter-widgets/output",
            "_model_module_version": "1.0.0",
            "_model_name": "OutputModel",
            "_view_count": null,
            "_view_module": "@jupyter-widgets/output",
            "_view_module_version": "1.0.0",
            "_view_name": "OutputView",
            "layout": "IPY_MODEL_97a74c733dc94c70a79fbe9c4026d278",
            "msg_id": "",
            "outputs": [
              {
                "output_type": "stream",
                "name": "stdout",
                "text": [
                  "Video available at https://youtube.com/watch?v=mVk1W7x6Nps\n"
                ]
              },
              {
                "output_type": "display_data",
                "data": {
                  "text/plain": "<IPython.lib.display.YouTubeVideo at 0x7f716ceea190>",
                  "text/html": "\n        <iframe\n            width=\"854\"\n            height=\"480\"\n            src=\"https://www.youtube.com/embed/mVk1W7x6Nps?fs=1&rel=0\"\n            frameborder=\"0\"\n            allowfullscreen\n        ></iframe>\n        ",
                  "image/jpeg": "/9j/4AAQSkZJRgABAQAAAQABAAD/2wCEABALDBkYFhsaGRodHRsfIigmIiIiIiUtJyglLzUxMC4oLS02PFBFNT1LOS4yRWFFS1NWW1xbMkFlbWRYbFBZW1cBERISGRYZLRsbMFc9Nz1XV1dXV1dXV1dXV1dXV1dXV1ddV1dXV1dXV1dXV1dXV1dXV1dXV1dXV1dXV1dXV2RXXf/AABEIAWgB4AMBIgACEQEDEQH/xAAbAAEAAgMBAQAAAAAAAAAAAAAAAQQCAwUGB//EAEYQAAIBAgMCCQkFBgUEAwAAAAABAgMRBBIhBTETF0FRU2FxkZIGIjJSVIGx0dIUFSOToTRicnPB4RYzQkOigrLC8CQ18f/EABgBAQEBAQEAAAAAAAAAAAAAAAACAQME/8QAIREBAQEBAAMAAgIDAAAAAAAAAAERAhIhMQMiQVETMmH/2gAMAwEAAhEDEQA/APn4AAAAAAAAAAAAAAAAAAAAAAAAAAAAAAAAAAAAAAAAAAAAAAAAAAAAAAAAAAAAAAAAAAAAAAAAAAAAAAAAAAAAAAAAAAAAAAAAAAAAAAAAAAAAAAAAAAAAAAAAAAAAAAAAAAAAAAAAAAAAAAAAAAAAAAAAAAAAAAAAAAAAAAAAAAAAAAAAAAAAAAAAAAAAAAAAAAAAAAAAAAAAAAAAAAAAAAAABsw9F1JxhG15OyvuA1g6tTYFeO9w738ijUwkouza/UmdS/G2WNANvAPqI4B9RWsawbOBfUTGg3yr9QNQLUMBOTSTjq0uXl9x1JeSWJSbz0tOuX0mWyNk1wQX/uete1o95mtiVv3e8bDHNB0/uKt+53v5D7irc8O9/IbGY5gOl9x1ueHe/kT9xVvWh3v5DYY5gOl9yVfWh3v5D7kq+tDvfyGj2/Fth/aKvdEcW2H9oq90T2wNHieLbD+0Ve6I4tsP7RV7onsMVh1Vg4OU4p21hJxlpro1qcLZ+DvVxTlXxUlQqpRXD1LWUITs9ddW94HM4tsP7RV7oji2w/tFXuiduW1eGw0Kzp1qVOc6GSSlFSlnlHS2vm6pO+9XsWJ7Um6talSw86kqMkpPNCMdYxlo29/nburkA85xbYf2ir3RHFth/aKvdE7k9o8NPATpucY1K01KL0d406l4SXVKO7nRultdtTnToVKlGm5KU4uN24u0skb3kk0+22lwPO8W2H9oq90RxbYf2ir3RO9LaVV42jCnByoToyndOFpK9O1TnslJ6ctzdt2rKFGDjJxfD0E2m1o6kU12NaAeb4tsP7RV7oji2w/tFXuielrbTlwk6dGhOs6duEalCKUmr5VmesrNPm1Wpj98xlGi6MJVJVs2WLajbJ6ea+5p6W1dwPOcW2H9oq90RxbYf2ir3RPTVtpuEKeajNVak+DjTcoays3fNe1rRb5+q5Zwtac089KVOSdrNxafXFrk7bAeQ4tsP7RV7oji2w/tFXuie2AHieLbD+0Ve6I4tsP7RV7ontgB4ni2w/tFXuiOLbD+0Ve6J7YAeJ4tsP7RV7oji2w/tFXuie2AHieLbD+0Ve6I4tsP7RV7ontgB4ni2w/tFXuiOLbD+0Ve6J7YAeJ4tsP7RV7oji2w/tFXuie2AHieLbD+0Ve6I4tsP7RV7ontgB4ni2w/tFXuiOLbD+0Ve6J7YAeJ4tsP7RV7oji2w/tFXuie2AHieLbD+0Ve6I4tsP7RV7ontgB4ni2w/tFXuiOLbD+0Ve6J7YAeJ4tsP7RV7oji2w/tFXuie2AHieLbD+0Ve6I4tsP7RV7ontgB4ni2w/tFXuiV9oeQtHC0KuIhXquVKEppNRs3FXPfHM8pP/r8X/Jn8GB8mliqkt8mammzPI1yE5JcxGRVtJU9X2mSw/WGpZn2mfnrQr0nWLwjto9THD0ryS53YtQp1W9I3NdCLUuu/wCpuRmvaUdj4R0IOLtVVnfruXMRT9I4mAqV3KCa0zJbus9Hj5RhGeZ2uR+XjOfS/wAfX7e3nYYS+tmb44LqZbpYyjzu3YzoUHCcVKLTXUc75T7FzK432HqZi8F+6z0PBowlTJ8m+Lz0sG+Y5FVVFKSzPRvkR7SeHOFisParNdbN66shzztRHB3S0M1gOo6+Ew/4cH+6vgXKeEvzF6jHXAB1QHNwuCnCWMbt+NUzQ15ODjHXm1TOkQBx5bNqfYMLQ04Sl9mza6fhuDlZ/wDSzVh61aGLxzp0VVXC09M6i0+Cp86tb9epndMYUoxcmopOTvJpK7aVk3z6JL3AcbC7Jqw+yuTi5Qr1a1Wz0TqRqXUb77OaRqpbKnRU6f2eNZZpuE+FcVaTbSmuS17XSd7HoCQOVUwc6eJw86VKLpwpSpOKklkTdNpq+9JQZv2vhZVqUYwtdVaU3d8kJxk/0ReAHJjSxGHq13SpRrQrT4ReeouM7KLUrrVeanda6vQ0fdcoYenTqYenifPnUqeck41Jycr08y3LM1e6e47oA4VHAVY4Z06lGNeDqtqlUqZnCnbzUpyTzST11el7X0LexsLUpKrmThTlJOnTc3NwVlfXku9bJtI6QAAAAAAAAAAAAAAAAAAAAAAAAAAAAAAAAAAAAAABzfKP/wCvxf8AJn/2s6RzvKD9hxP8qfwYHyu1uXUzp3bSb5TBoyp712olthKi7+kmbOBu9611NMEuU2pabwlYheO5l7ZOxOGpRq8Ja7emW+5tb79RzoJc52Nk7ZpUaEKbjNyTeqStq2+frNlHVcI0uChdvLeTdud83uOVXnisXUzU3FJPe9O5F77TCtVhZNJ2i79v9ynhNpUcO6kZTvGE5RUkm00na90rFddWc+jjmXrK6OD2JUUb1KqbtyJmUYSw9WLzXi9+nIaf8Twf+XTqSXrZWlbfzX5eYxeKqV72pWUXbNm03J7rJ8pHPfVudfHXvjmT9XoZ2voTZGyplesdz1XYa8pzxmsJJHFxkfxZe74I7mRHHx8LVZddie56Vxfa/grcFDsLKlFIrbPj+FH3/Fm5ouT0m/XYAB1QAAAAAAB5Tyr2zWjVWEw0sknHNUqcsU9yXM2CTXqJVYp2ckn1tGVz5PLyenPzp1JSk+V6t+9l/ZO1cVs6aVSbq4XdKL1cVzxvutzbiZ1Ku8dT6+lAiMk0mtzJKQAAAAAAAAAAAAaamIUW1aTsruy5NfkBuBCd1dcpIAAAAAAAAAAAAAAAAAAAAAAAAAo7ahmwmIjz05L9C8VNqfs1b+CXwMo+cvZmm8r1MKoPV7jsORzsVHMzlzXSxSpcGnrd+4uU6mH5Yv8A5FZ0cqNcppOxeox1F9mtfK/+XzOVBWy9pbhFW3mCoLzRpi7syp+NT/jj8UdTaeBhTxFZRhDzrzTfI5b9La6rnONs7StT/jj8Uek23lyZ3JRak4rXVp83Y7PvHd/VXH+yvhcsow4JTjkpxg24rVR3b+XeX8PDM1FNtyd29zvbf3L9Dl4KEpJJ1aza7Ev0R0MJWjCpeclGMb6tpLXrOU916OvUej4KCSXMiODgaLkXO+PJrbKknuZxdq07VV/Cvizq3KGMyutBz9Gzvv6yPyc+lcX2z2Yvwuxs3zRowNrTS3ZnbsN8yuZ6jOr7dUA04qq4U5zSbcYtpJXu+wpjcDiw2niHFy4G+W+mSScneok1rp6EXy+l2Eyx2IUpSilUgoqyVOcc0vxHeN/4YrlA7IKGCxNWpNqSWSK9LLJZ221dXei06y+APGbSjGWMrzWqutexJfG57M8rjMJKlWefdNycX1Xv/Ujv46fj+q2HxMJJ30sUMZKFaMklpZ8q+Bcm4Juzv3/Iwp0FlSh5zeit8DlHevZYJWo0096hH4I3lfAUnCjThLfGKT7TdOTS0TfUrf1PQ8jIq4+Tyxim1mlZtb7Wb07re82cLLopd8PmUsXXm6kIujKMb3ztwtfLPzbJ3/8A0RlYfZqfRw8KH2an0cPCjaacZVcKUpK11bV7lqk5PqS19x1c0/ZqfRw8KH2an0cPCjm4jaU6d2pwq04wqOUktVlyWemjs5a25Ow2YXaFSVSEJpedOdmk7OMVLTqaaXufaYL32an0cPCiacFTnGUEo3kk7KyaemvebDCo7ZbK/nw0/wCpCk+uoUMS3nqWnGPmR3q/rdaNtbE1I5ctCc7ySdpU1ZcstXyGnFL8Sp+Hn8yOvm/vc7Obqu0vQj2IzNdKSyx1W5GaYEkXV7X15iTlYbDW2hiKmeTvSpLLpltedu6z8TA6oAAAAAAAAAAAAAAAAAAAAAU9rfstb+XL4FwobenlwWJlzUpv9GKPESloU3UWYpT2iyrUxDd3c5SLtdycVKJxMZUs9DD7bUSsmVpybepUiVmGLajYmjjJLsRURsT5CpDVuWPndOCUHGzT3u65TVHFS4aNWq5VGnrd3bT05e01E2Kxmu5Q2jK64LERyc0rKSXWmdKttmjQptRmqlVp2Sd9XyyZ49xMo6EeEX/krp7P2ziMOkqdR5V/plrHu5PdY9HgPLGEmo14ZP3o3a963r9TxVxex0cn1tO6utU9xS2gvR9/9Dn+SGPVbDZJaypaf9L9H+q9x33Fcy7ieudmK5uXVDZ/+pdn9S0zbkjzLuRDhHmXcOZkw6u3XSIJAAAAACG0tXoBJx/KJeZTa35n8C3itpQpwlNXqZVe0ddO04lXacsVa8FGMZOyvdvmd+zX3k9+ov8AH7rjfbKdnnvCS9JNbzo+TbU8RB2tG0nG/wAe42VKUXvim+S6NdOpOlJVKaTktye7XSxy8o7WWzHsAcrZ+2VUp56kcmrV1dp2dr9S0OjQrwqQU6cozi90ou6fvPRleZsKmP3U/wCP/wAZFswqU1KLjJXTMFEG/wCwx9efevkPsS9efevkX5OfjVdJE2N/2JevPvXyH2JevPvXyHlG+NaDGW+H8cfimWfsS9efevkZUsJGMs15Sa3Xe7sQvROVg5uMqRVSperk/DjpeGvpc6OkVa1Opmk4qLUopaya1V+p85C2+l6EexE5VzIQjaKXMkjIDHIinRT+11rP/bpb+2oXilR/a6/8uj8agFvNzru1JTvuJIcUwJBjZ89+0Znyr+oGQMc65yQJAAGqnXjKLknonJPTli2n8DKjVU4RnH0ZJNdjMaUWk+2XxZlRVoRT32QazAAYAAAAABS21hpVsJiKUFec6coxV7atWRdAHy1+RW0Ojh+ZEleRW0Lf5cPzIn1EgzB8u/wXtHkp0/zIj/BW0OWnD8yJ9RAwfLn5FbQ6OH5kTH/BW0ejh+ZE+pg2eh82wnkbi4xm6tCM5WSglVSV+Vvq+Zuh5D123mWVXVrSi0lZZt+r1ul+p9EBusx87j5C1m3dtLS3oXu20768is+vUPyGr20bvpp5mmm5+dyf1PogGmPnn+Baya866v52kPR03ed/F3LQpVPInHJ2hCMo8jc4p913/wCo+oAaY8N5L+T2NwtdyqwioSg07Ti9bpr+vees4CfN+qLoMMUuAnzfqhwEub9S6A0AAAAADl+UGCqYjDypU36V1JXSuubvOoAORsrAVaeHpwqJZ4xyy1utNPgUo7ErUqjVNRdN6xu9V+6+zkZ6Q875Tbfnh3Ghh45sRNXvpaC52uc3u+U9nP6302PZdZ8i8RpqbGxEotJxjflvqly+88pUW1ZvO61W/VUt+idjr+TflRXjWjhsbrneWFR2TUuSMraO/OcfDm/K63vr+Y9DLZ0lQdOEUrQcYK/VZFDyU2Ti8J5lV2p2l5qkmrt6Nc3KemB3vVsyuMmAAJaAAAAAAAAAAAAABSo/tdf+XR+NQulKj+11/wCXR+NQC6AAPN+U1arKpGjGtKlTy3k4O0m22kr70tP1MPJmrWhXlQlWlWpZW05vNKMk1pm3ta/oWfKOkouNS13JWel91rO3vNfkzTUpTqcsdFpa9+X9Dnt8nXJ4O/KolvZhCrTlJxVnJJNq3IzOU7f6W+yxjCq3JrJJWS1drPqWpbk0udGrGUbpxu4y3rXlRYp2UUo7luMIV27/AIc1Z21UdeveZuolFyl5qW+/IIx4ivgeGjKvXq1lXd2rTklF30jFLRW3Hq9h1qlTCUZVXebj5z57Nq/vscHaaq+e6NpU280He1m9d3Krne2ViKUqMIU5eilGz0d0k936k87tdOsyL4ALQAAAAAAAAAAAAAAAAAAAAAAAAAAAAAABhVqKCu720Wivq3ZfEDMFV4+mk3d2W92e/fbtsYvaEb2s2ny6/ufWjNjNi4CssfSzKObV2tpz2t8SybrQ8Zj6De1K05J+jBRfVZXPZnA2zHg69Ob9Gby++39ie/iuPrGGIpOEtUlFavT+h5fa9NTrU5U/SdSFt2/Mt/MehxcYuE1FPc09ChRoxq18NCDV3q3bkjq/gcp9dr8e2JIEpJb2l2nd50lbF13HLGNs0ru73JK131713m7hoetHvRRxFeE60VGcZOMZqSTTs7wdnzGz6y/E8NV9aPg/uTw1X1o+D+5iaq9dQy6NuTtGKtduzfLpuTfuLyI2t/DVfWj4P7jhqvrR8H9yl95U8zi8yksmjjZ+e1FdzavzXXOjPCY2nWUXC9pRzaq2l7WfM7oZDatcNV9aPg/uZ4fETc8s7O6bTStu5Grs1E0f82H/AFfAyyYS3XQOdi1F1J3pudoKzsnb0uc6Jz8VJqdTz4x8xaNfxdZDou0vRj2IzMKXoR7EZgClR/a6/wDLo/GoXSlR/a6/8uj8agF0r41VXD8FxU80fS3Zb+d77G7Ou3s1F3yK3aBxcZgKqnOo5Zo2vq5Nq29JJa+4nDbKqxqKeZJWe6T1vznZUfeZE+M3VeVzFXZyrqkliMjqLe4bmuR9pZJBSQoYrCVJVqdSMtISvZt2s009PeXwBya2ypPLwclTi358b3SX7mmj/Q14nY8pcCoKEY05uXpO92rXvbfqdoG6AAMAAAAAAAAAAAAAAAAAAAAAAAAAAAAAANdakpxyu9rp6dTT/obABX+x0/V/V9+/f17yY4OmrWjud9736P8A8V3G8GZGY0RwtNWtG1t1m+e/v1NxJEpJK7dka1Jzdv4ZVcNKLdneLi1vTvozKjtalVrzoU3ecEm3bSz5nynFc50a0qeKnKWaTlTqN+a03utuTW4Xm56JZrmzxGIpKUKtKc3d2nTu1JdZu8kV/wDLnUq+a3TfBxb9FXV12ncqrzXblODjaVKEVKpZpP0eWXUkceb79R2vue3tw0nvVzzWFq18Hs+deo25+dUySbtHM9IdR0tkbbhiVBZZQqOGZxa05L2fvO9mOM9ujwcfVXciliqcY1YNRSvGd7JK+sN50Cti6DlllG2aN1Z7mna66tyE+svxXNVegp5dXFxd4yVrp2a5U1ubWpv4Gr6sfH/YcBV9WPj/ALF7EZVKWzabtfM2pRkm5a3j19fMZYfA06UnKN7uEYPXRqOidue3L1It8BV9WPj/ALDgKvqx8f8AYbDKxIjBSqQTvy7m1ydRnwFX1Y+P+xsw+Hkp552Vk0knffvbf/vKZbMbJdbI4SCmqiTzJNJuUno9+l7chXxT8+p+G5eZHXzf3udl852La4Sd6jheCsvN19LnTIWuUk8sdXuXMZ5et/oRS9GPYjMDHL297KdCK+11tP8AbpfGoXilR/a6/wDLo/GoBdAAAAAAAAAAAHB2n5WYbD1XScalSUXaeSN1DtfyOtgsZTxFNVaM1OEtzXwAsAAAAAAAAAAAAAAAAAAAAAAAAAAAAAAAAAAAAABR2rRU4RT5JX/QvEGWbMbLleWUOCx+GmtM2aD61yfqdutVo1s1KUeEs2nHLezXwLuVcyOftfbVDBxvVl5zvlitZP3FS5JP6Zfd1xtoYWrhJxeHjOcJp+ZrLJItbPwMKEYVatKdStNJubV3Fvk13WPO1fL7EcK3CnT4Pki737bnofJ/yro4qMIVJRp4h6ZNUm+TK3vKvfr/AL/bJEeUmIzYGraM46x9JW/1IbApRVWDXR/I9E0nvVwopciI69yT+lS5qQAGAAAAAAAAAAAAAAUqP7XX/l0vjULpSo/tdf8Al0vjUAugAACCM193ewMiGyMvOwopcgDOjGlWjPNlv5ryu6a16r7+1GwhgeYxWHjTlWjG1p1JOWm7M73fedDyWwio4OKW6UpyXY3oc/amEhWlN1nKjUas1F2U4rdr/q92up1tiKrGlknFRhGyp6WllXOiZLKu3ZHSABSAAAAAAAAAAAAAAAAAAAAAAAAAAAAAAAAAAiUktW0u0CQQiQIPAbcwc8VtWpCp6EIxtb1d6T/U+gHB2hhIyxM5L0pRV9/Ju3Nc5PV9K5+uTPyfw6j/AJS/qeS2zgeAneKaV+TkPb11OMIQctHKzetuzf8A1OPtXBRvGMtW3qkmt2u67OcuV1s2PcbLqOeGoylLM5U4tvndlqWjCikoxSVlZWXMZnZwDCrUjCLlJ2SMypj/APb/AI//ABkBP21epPuXzH21epP/AI/M0AvxR5Vv+2r1J/8AH5j7avUn/wAfmV0yR4w8q3/bV6k/+PzMqWLjKSjZxb3Jrf2Pd7isYy3w/jj8ULyeTplSvVmpSUZQSjFPzotu7v8AvLmLZzsXFOpUvSz/AIcdbQ09LnZC1+Duk+dIyMKXoR7EZgClR/a6/wDLpfGoXSjSkli638ql8agF4xcvexq+r4kpARl59TIAAAABBJAGrLGbalGLySVrpPWyd/1Jw9nGMlFJySbsiKNJxlUbm5Kck0rLzdErde4nDUnCnGDlmcUk5WSv7kGtoADAAAAAAAAAAAAAAAAAAAAAAAAAAAAAAKuPwrqxSUsts3PvcWk9OZu/uLQDZccWvs+tFSabqNybte1757N7t11z7l7s/uuq23KcXutv38j7Un1+464MxX+SuVV2ZUadqrtfRa7rO+uuuaTfuXadSKskSBib1aHD8ocT9nlTrNebaUW+vRx+DO22cnaFejiafBpqpGWja3aX3MdfDn64tV05wU8zcvSUsz067FfZGJji8dRXpZFOUr7tE0v1dzCv5OV4xcKdZOnzSTuZ7No/d8o1FHMtVK2935Tn6dbtmPcETi2rJuPWrf1KWzNq08SpZMycJZZKS3Pt3MvnVxaeBl0s+6H0lPF0JqpTk605RzWyNQy3yz87SN7+86RVx0G4xaTeWV2lvtZrTvv7jYy/Gg04yk50pRja7to9z1TcX1Nae8y4aPP8SeGjzo6Obl4jZ1Sbc6cIUpKFRRSejcsmkraa5Xu3aM2YXAVKdSMrrLnnKSu9G1JRa9zV11dp0OGjzojho86M9DYYVFfLq158NVb1lzkcNHnRMHnnFRu7STbs7JLXf7hSLVXDTla1epGzTdlT1XM7x3FfGTiqlS9XJ+HHS8NfS50dIpYiU1Oplimskd8ret1M5uqxSbyx05FymevURS9CPYjMDHK+V92hUoL/AOXW/l0vjUN+JxEaUHOe5ci1bb0SS5W3oVKOzs7lVrp8JO3mxlJKEVfLDR62u7vlbfJYDogp/dlH1ZfmVPmPuyj6svzKnzAuAp/dlH1ZfmVPmPuyj6svzKnzAuAp/dlH1ZfmVPmPuyj6svzKnzAuAp/dlH1ZfmVPmPuyj6svzKnzAuAp/dlH1ZfmVPmPuyj6svzKnzAuAp/dlH1ZfmVPmPuyj6svzKnzAtt21eiJKNTZNGUXG0tU16c3v7WbNnbPp4alGlSTUI7rycn3sC0AAAAAAAAAAAAAAAAAAAAAAAAAAAAAAAAAAMZq6PO1dn1cLUc6MHUoybeRelBvflXKuo9G0RKN1vaNl/ijhUNo0qkZPNly+kpKzXaimqdbFq1GChTf+7Pm/didfH7Bo4io5yc4tqzytK/boW3go2ik5xUUklF2VluN8eJ7ntvlb6adl7PhhqcacNy3t723vbLzZqo4dQb86T/idzVisXStOm61OE7apyV1flaumZbvtnxuo4iE7OElJOOZNbmue5tOZRxWFoym/tNJcJK6i5wVr8i15ZNvtkXsRWyJPK5NtJJWvd9rSMG0EEgAAAAAA01MPGTbbkm1Z2bWmvzNwAhKysuQ14jEQpQc6klGCtdvcru39TaVNo4OlXpqNZXpqUZNXaTa3J8+ttOwDXhqbrTjXqRaS/yYNWcU9M8lySa7k7b2y+YU5RcU4tONtLbrdRmAAAAAAAAAAAAAiUklduyAkGMJqSvFpp8q3GQAEM14etwkc2Vx1aadrpptPc2uQDaAAAAAAAAAAAAAAAAAAAAAAAAAAAAAAAAAAAAAAAAcjbOEqRlHF4dXrUlaUelpb5Q7eVdfadc5m0K8nPgnSqypWvNxjdT/AHN+7n593OBbpzp4ijGVs1OpFO0o74tX1TIxMbcElyTiv0ZWr7VnGPmYTETlyLLGKv1tvRFnEXtSva+eN7br2YGFGpJ1mm3bz9OzJb4s0UcRUlHM21wlVwitLRjGUtVbW7jH4Fl4WWaUozSbzW829r5fp/UlYRKlCnFvzMuVvfePK+3l7WBjVxUs8qcIPPlum7WV7pNq97XRrzVIUnOUs1pprW/maJp6Lrfab44OmpSlGNpO93d9b+Mn3siOGbpU4TlfLlzPlll1+KX6gbataMLXvrzRb+CJpzUldXt1pr4mZhVUnFqMssuR2vb3Ac6hiKko5pNrharhFaWjGLlqra6xiWKuLeeVONOUpKN9HFaPMlvfK4szWESpQpxf+Xlyt77rn7eXtZMcJTi3KMbSd9bvrf8A5PvYFWnGdGlGUpubzU09bqzywevbeXaZJzm5xU0n51nJZkmp6O11uN0MM3TpwnK+XK5P1nHVa9qTMKmEklNxyzbu1FtpXzZldr/1gbqMFSpRT/0rVxi/hq/1ZnTrRluvpzxkvijDB0nTpQi9Glz3/Wy+BvApYOrKU5ptu17fmVF8Eu40YXEVJwpSlJ/j1G1u82FpSSVudRS97LCwclny1Mrly5b2vOUvhKxs+yxUKcY6cFbJ1WWW3c2veBqq4qcpTpU4NTUdJvLljdSyt688d2u9ddsVOpCnGcpKX4qWjunCcssdbciku7rNrwUVGfBrLKSdnd6Pke8zdC8acZO6i031uO7Xt19wGVWvGDs7+6Mn8EZwmpK6vbrTXxMjXXhKUWoyyN8tr9ugHPwuIqShSlKT/HqNrd5sLSkkrc6SXvZYqYmUpTpQhJSUfSvFJXUst+XfHkT9Je7Y8LFRpxjpwTWTqsstu5tGP2KMYy4NZZNOzu9Haye//wBQGpyqU6UpueZKUZJ3veGiffq+1kSlOVWpBSW6dsyvFNKk02uWzbLMqDlTjBvRZc3XbW3va+Jqq4R5pzWWTalaMrpXeS12v4OblAzw8OCpJSae9txT1cm23bV6tjCYtVE991KS9GS0UmuVE4Ki6dNRaSd23Z3V223rZc/MbadNRVlzt+9tt/qwK0NowcopJ2lOUIvnlFtPTfbSWv7r6r7MF6Mv5lT/ALmSsJTTTUdU3JavRu97dt2RgvRl/Mqf9zAsAAAAAAAAAAAAAAAAAAAAAAAAAAAAAAAAAAAAAAAAAADRhZScW5qzzS59ydk+42VaUZrLOMZLmkk13MyJAgkAAAAAAAAAAAAAAAAAAAAAAAAAAAAAAAhq+jMadOMIqMIqMVuSSS7jMAAAAAAAAAAAAAAAAAAAAAAAAAAABzDDhoXtmje9rXV72va3PbXsMjkVtjzdatWhVyyqqUVo/NThGN4vepXgtVvXYmB2DCFWMm1GUW1vSabWrWvvTXuZy/umo4y/Fadnlip1MsbyTcb3u00mr71mdrGulsSaavV8zM24xc0tXWdr3v8A7sfAB2wcfA4SvDEpzcpRUdZuTtJ5YJJLM+VSe5b374WyKrvnrNpttpOS1yzV9LW1lF219HewOu5K6V1d3aV9Wlv0967yI1Yu1pRd02rNapb2udarvOfhNmzhiFVnNSsprfK7zZOfRWy20NEdj1PMTqRUaaUI5cybhwkJyzO+jtDLpzsDtA4Mtn4hVYKEpNJem5PLFWqWjbPd+lHk5N/NcwGzp05xlOo5ZVKyzS0csvYnulyf6gL9WrGEXKcoxit7k0l3sQqxlbLKLurqzTuuddRSrbLiqWSilH8aNXznJpyU1N99jDC7OqUqqmpU3fPnSTSWaSl5q93vd2Bc+2UszhwtPMt8c8br3XNqmszjdZkk2r6pO9nb3PuZQxezeEnVldLhIUo8t1knKTd1zqVjR9z1L61pOF35uafo3rNK9+ThIeDsA6sqsVq5RWqjvXpOyS7dVp1mZx6eyasZOTr3vKm+XTK6blbnzZGnfq6ytitlV4UVGnOdSWVJ+fJefkceEbc099ny9gHoQYxVkuwkCQQAJBAAkEACQQAJBAAkq43EOCSipc7cVdqN0tFyvX9Hv3OycvalWqqlPg6bazJTedRvBWm5Ryu7tazVtb2s7ga9pKq4KNGUZuWn4k75oyvmi4JW3Rdn2o6tFtxTzZr6ppW0eq0KEabzfgrLJ34R8HJQldXTvJ6pZm7K+r1tqdGEFGKitySS7EBkCABIIAEggASCABIIAEggASCABIIAEggASCABIIAEggASCABIIAFuwsSAIsLIkARZCyJAEWQsiQBFkLIkARZCyJAEWQsiQBFkLIkARZCyJAEWQsiQBFkLIkARZCyJAEWQsiQBFkLIkARZDKuZEgCLCxIAiwsSAIsLEgCLCxIAiwsSAIsLEgCLCxIAiwsSAIsLEgCLCxIAiwsSAIsLEgCLCxIAiwsSAIsLEgAD5pxhYzo8P4Z/WOMLGdHh/DP6wPpYPmnGFjOjw/hn9Y4wsZ0eH8M/rA+lg+acYWM6PD+Gf1jjCxnR4fwz+sD6WD5pxhYzo8P4Z/WOMLGdHh/DP6wPpYPmnGFjOjw/hn9Y4wsZ0eH8M/rA+lg+acYWM6PD+Gf1jjCxnR4fwz+sD6WD5pxhYzo8P4Z/WOMLGdHh/DP6wPpYPmnGFjOjw/hn9Y4wsZ0eH8M/rA+lg+acYWM6PD+Gf1jjCxnR4fwz+sD6WD5pxhYzo8P4Z/WOMLGdHh/DP6wPpYPmnGFjOjw/hn9Y4wsZ0eH8M/rA+lg+acYWM6PD+Gf1jjCxnR4fwz+sD6WD5pxhYzo8P4Z/WOMLGdHh/DP6wPpYPmnGFjOjw/hn9Y4wsZ0eH8M/rA+lg+acYWM6PD+Gf1jjCxnR4fwz+sD6WD5pxhYzo8P4Z/WOMLGdHh/DP6wPpYPmnGFjOjw/hn9Y4wsZ0eH8M/rA+lg+acYWM6PD+Gf1jjCxnR4fwz+sD6WD5pxhYzo8P4Z/WOMLGdHh/DP6wPpYPmnGFjOjw/hn9Y4wsZ0eH8M/rA+lg+acYWM6PD+Gf1jjCxnR4fwz+sD6WD5pxhYzo8P4Z/WOMLGdHh/DP6wPpYPmnGFjOjw/hn9Y4wsZ0eH8M/rA+lg+acYWM6PD+Gf1jjCxnR4fwz+sD6WD5pxhYzo8P4Z/WOMLGdHh/DP6wPpYPmnGFjOjw/hn9Y4wsZ0eH8M/rA+lg+acYWM6PD+Gf1jjCxnR4fwz+sD6WD5pxhYzo8P4Z/WOMLGdHh/DP6wPpYPmnGFjOjw/hn9Y4wsZ0eH8M/rA+lg+acYWM6PD+Gf1jjCxnR4fwz+sDyYAAAAAAAAAAAAAAAAAAAAAAAAAAAAAAAAAAAAAAAAAAAAAAAAAAAAAAAAAAAAAAAAAAAAAAAAAAAAAAAAAAAAAAAAAAAAAAAAAAAAAAAAAAAAAAAAAAAAAAAAAAAAAAAAAAAAAAAAAAAAAAAAAAAAAAAAAAAAAAAAAAAAAAAAAAAAAAAAAAAAAAAAAAAAAAAAAAAAAAAAAAAAAAAAAAAAAAAAAAAAAAAAAAAAAAAAAAAAAAAP/2Q==\n"
                },
                "metadata": {}
              }
            ]
          }
        },
        "d56b90b5bfd647599a97fead5a43caa7": {
          "model_module": "@jupyter-widgets/output",
          "model_name": "OutputModel",
          "model_module_version": "1.0.0",
          "state": {
            "_dom_classes": [],
            "_model_module": "@jupyter-widgets/output",
            "_model_module_version": "1.0.0",
            "_model_name": "OutputModel",
            "_view_count": null,
            "_view_module": "@jupyter-widgets/output",
            "_view_module_version": "1.0.0",
            "_view_name": "OutputView",
            "layout": "IPY_MODEL_bb42da9e39b240e2b8bbfdebe5944202",
            "msg_id": "",
            "outputs": [
              {
                "output_type": "stream",
                "name": "stdout",
                "text": [
                  "Video available at https://www.bilibili.com/video/\n"
                ]
              },
              {
                "output_type": "display_data",
                "data": {
                  "text/plain": "<__main__.BiliVideo at 0x7f716ceea9d0>",
                  "text/html": "\n        <iframe\n            width=\"854\"\n            height=\"480\"\n            src=\"https://player.bilibili.com/player.html?bvid=&page=1?fs=1\"\n            frameborder=\"0\"\n            allowfullscreen\n        ></iframe>\n        "
                },
                "metadata": {}
              }
            ]
          }
        },
        "398a4f45f4ea42cb9bf0209a59a5fa29": {
          "model_module": "@jupyter-widgets/base",
          "model_name": "LayoutModel",
          "model_module_version": "1.2.0",
          "state": {
            "_model_module": "@jupyter-widgets/base",
            "_model_module_version": "1.2.0",
            "_model_name": "LayoutModel",
            "_view_count": null,
            "_view_module": "@jupyter-widgets/base",
            "_view_module_version": "1.2.0",
            "_view_name": "LayoutView",
            "align_content": null,
            "align_items": null,
            "align_self": null,
            "border": null,
            "bottom": null,
            "display": null,
            "flex": null,
            "flex_flow": null,
            "grid_area": null,
            "grid_auto_columns": null,
            "grid_auto_flow": null,
            "grid_auto_rows": null,
            "grid_column": null,
            "grid_gap": null,
            "grid_row": null,
            "grid_template_areas": null,
            "grid_template_columns": null,
            "grid_template_rows": null,
            "height": null,
            "justify_content": null,
            "justify_items": null,
            "left": null,
            "margin": null,
            "max_height": null,
            "max_width": null,
            "min_height": null,
            "min_width": null,
            "object_fit": null,
            "object_position": null,
            "order": null,
            "overflow": null,
            "overflow_x": null,
            "overflow_y": null,
            "padding": null,
            "right": null,
            "top": null,
            "visibility": null,
            "width": null
          }
        },
        "97a74c733dc94c70a79fbe9c4026d278": {
          "model_module": "@jupyter-widgets/base",
          "model_name": "LayoutModel",
          "model_module_version": "1.2.0",
          "state": {
            "_model_module": "@jupyter-widgets/base",
            "_model_module_version": "1.2.0",
            "_model_name": "LayoutModel",
            "_view_count": null,
            "_view_module": "@jupyter-widgets/base",
            "_view_module_version": "1.2.0",
            "_view_name": "LayoutView",
            "align_content": null,
            "align_items": null,
            "align_self": null,
            "border": null,
            "bottom": null,
            "display": null,
            "flex": null,
            "flex_flow": null,
            "grid_area": null,
            "grid_auto_columns": null,
            "grid_auto_flow": null,
            "grid_auto_rows": null,
            "grid_column": null,
            "grid_gap": null,
            "grid_row": null,
            "grid_template_areas": null,
            "grid_template_columns": null,
            "grid_template_rows": null,
            "height": null,
            "justify_content": null,
            "justify_items": null,
            "left": null,
            "margin": null,
            "max_height": null,
            "max_width": null,
            "min_height": null,
            "min_width": null,
            "object_fit": null,
            "object_position": null,
            "order": null,
            "overflow": null,
            "overflow_x": null,
            "overflow_y": null,
            "padding": null,
            "right": null,
            "top": null,
            "visibility": null,
            "width": null
          }
        },
        "bb42da9e39b240e2b8bbfdebe5944202": {
          "model_module": "@jupyter-widgets/base",
          "model_name": "LayoutModel",
          "model_module_version": "1.2.0",
          "state": {
            "_model_module": "@jupyter-widgets/base",
            "_model_module_version": "1.2.0",
            "_model_name": "LayoutModel",
            "_view_count": null,
            "_view_module": "@jupyter-widgets/base",
            "_view_module_version": "1.2.0",
            "_view_name": "LayoutView",
            "align_content": null,
            "align_items": null,
            "align_self": null,
            "border": null,
            "bottom": null,
            "display": null,
            "flex": null,
            "flex_flow": null,
            "grid_area": null,
            "grid_auto_columns": null,
            "grid_auto_flow": null,
            "grid_auto_rows": null,
            "grid_column": null,
            "grid_gap": null,
            "grid_row": null,
            "grid_template_areas": null,
            "grid_template_columns": null,
            "grid_template_rows": null,
            "height": null,
            "justify_content": null,
            "justify_items": null,
            "left": null,
            "margin": null,
            "max_height": null,
            "max_width": null,
            "min_height": null,
            "min_width": null,
            "object_fit": null,
            "object_position": null,
            "order": null,
            "overflow": null,
            "overflow_x": null,
            "overflow_y": null,
            "padding": null,
            "right": null,
            "top": null,
            "visibility": null,
            "width": null
          }
        }
      }
    }
  },
  "cells": [
    {
      "cell_type": "markdown",
      "metadata": {
        "id": "view-in-github",
        "colab_type": "text"
      },
      "source": [
        "<a href=\"https://colab.research.google.com/github/NeuromatchAcademy/course-content-dl/blob/thinking_updates/tutorials/W2D2_CNNsAndDLthinking/W2D2_Tutorial2.ipynb\" target=\"_parent\"><img src=\"https://colab.research.google.com/assets/colab-badge.svg\" alt=\"Open In Colab\"/></a>"
      ]
    },
    {
      "cell_type": "markdown",
      "source": [
        "# Tutorial 2: Deep Learning Thinking 1: Cost Functions\n",
        "\n",
        "**Week 2, Day 2**\n",
        "\n",
        "**By Neuromatch Academy**\n",
        "\n",
        "\n",
        "__Content creators:__ Konrad Kording, Lyle ungar, Ashish Sahoo \n",
        " \n",
        "__Content reviewers:__ Kelson Shilling-Scrivo\n",
        "\n",
        "__Content editors:__ Kelson Shilling-Scrivo\n",
        "\n",
        "__Production editors:__ Spiros Chavlis "
      ],
      "metadata": {
        "id": "qRpv4bR90pi8"
      }
    },
    {
      "cell_type": "markdown",
      "source": [
        "---\n",
        "# Tutorial Objectives\n",
        "\n",
        "In this tutorial, you will practice thinking like a deep learning practitioner and determine how to design cost functions for different scenarios. \n",
        "\n",
        "By the end of this tutorial, you will be better able to:\n",
        "\n",
        "* Appreciate the importance of cost function engineering\n",
        "* Translate domain knowledge into cost functions\n",
        "* Ask questions about DL systems and customer needs"
      ],
      "metadata": {
        "id": "VCl4tSyQuxEs"
      }
    },
    {
      "cell_type": "code",
      "source": [
        "# @title Tutorial slides\n",
        "\n",
        "# @title insert tutorial slide link\n",
        "from IPython.display import IFrame\n",
        "IFrame(src=\"https://mfr.ca-1.osf.io/render?url=https://osf.io/szcjn/?direct%26mode=render%26action=download%26mode=render\", width=854, height=480)"
      ],
      "metadata": {
        "id": "DXf2qvaQz8gD",
        "cellView": "form",
        "colab": {
          "base_uri": "https://localhost:8080/",
          "height": 502
        },
        "outputId": "ae284ba6-c93e-4605-8309-a179ab31def6"
      },
      "execution_count": 1,
      "outputs": [
        {
          "output_type": "execute_result",
          "data": {
            "text/plain": [
              "<IPython.lib.display.IFrame at 0x7f71731d9b90>"
            ],
            "text/html": [
              "\n",
              "        <iframe\n",
              "            width=\"854\"\n",
              "            height=\"480\"\n",
              "            src=\"https://mfr.ca-1.osf.io/render?url=https://osf.io/szcjn/?direct%26mode=render%26action=download%26mode=render\"\n",
              "            frameborder=\"0\"\n",
              "            allowfullscreen\n",
              "        ></iframe>\n",
              "        "
            ]
          },
          "metadata": {},
          "execution_count": 1
        }
      ]
    },
    {
      "cell_type": "markdown",
      "source": [
        "These are the slides for all videos in this tutorial. If you want to download locally the slides, click [here](https://osf.io/szcjn/download)."
      ],
      "metadata": {
        "id": "ZHvYIBCPoJR-"
      }
    },
    {
      "cell_type": "markdown",
      "source": [
        "---\n",
        "# Section 1: Intro to Deep Learning Thinking\n",
        "\n",
        "\n",
        "\n",
        "\n",
        "\n",
        "\n",
        "\n"
      ],
      "metadata": {
        "id": "mRzPjfNP2sb_"
      }
    },
    {
      "cell_type": "code",
      "source": [
        "# @title Video 1: Intro to Deep Learning Thinking\n",
        "from ipywidgets import widgets\n",
        "\n",
        "out2 = widgets.Output()\n",
        "with out2:\n",
        "  from IPython.display import IFrame\n",
        "  class BiliVideo(IFrame):\n",
        "    def __init__(self, id, page=1, width=400, height=300, **kwargs):\n",
        "      self.id=id\n",
        "      src = \"https://player.bilibili.com/player.html?bvid={0}&page={1}\".format(id, page)\n",
        "      super(BiliVideo, self).__init__(src, width, height, **kwargs)\n",
        "\n",
        "  video = BiliVideo(id=f\"\", width=854, height=480, fs=1)\n",
        "  print(\"Video available at https://www.bilibili.com/video/{0}\".format(video.id))\n",
        "  display(video)\n",
        "\n",
        "out1 = widgets.Output()\n",
        "with out1:\n",
        "  from IPython.display import YouTubeVideo\n",
        "  video = YouTubeVideo(id=f\"iEqd0MY5pxI\", width=854, height=480, fs=1, rel=0)\n",
        "  print(\"Video available at https://youtube.com/watch?v=\" + video.id)\n",
        "  display(video)\n",
        "\n",
        "out = widgets.Tab([out1, out2])\n",
        "out.set_title(0, 'Youtube')\n",
        "out.set_title(1, 'Bilibili')\n",
        "\n",
        "display(out)"
      ],
      "metadata": {
        "colab": {
          "base_uri": "https://localhost:8080/",
          "height": 581,
          "referenced_widgets": [
            "f610e31317e14733ad04b2bed5edf104",
            "5b512c4442854ecfb5ce39922e8d2d68",
            "dabc79a05042449d937e7ff18ff5c4e8",
            "37ca05b8bf0b4fa09dd5cd7ea0684813",
            "cb9dcec7bcca49d79df07345a88237b4",
            "9350de4ebc434bb2855ef34100e8eb9a"
          ]
        },
        "cellView": "form",
        "id": "0jSPPTmi1zWr",
        "outputId": "9e07c759-0fee-4f5f-94c3-149d0f84aa3d"
      },
      "execution_count": 2,
      "outputs": [
        {
          "output_type": "display_data",
          "data": {
            "text/plain": [
              "Tab(children=(Output(), Output()), _titles={'0': 'Youtube', '1': 'Bilibili'})"
            ],
            "application/vnd.jupyter.widget-view+json": {
              "version_major": 2,
              "version_minor": 0,
              "model_id": "f610e31317e14733ad04b2bed5edf104"
            }
          },
          "metadata": {}
        }
      ]
    },
    {
      "cell_type": "markdown",
      "source": [
        "This tutorial is a bit different from others - there will be no coding! Instead you will watch a series of vignettes about various scenarios where you want to use a neural network. This tutorial will focus on cost functions, a tutorial you will see later in the course will be similar but focused on designing architectures. \n",
        "\n",
        "Each section below will start with a vignette where either Lyle or Konrad is trying to figure out how to set up a neural network for a specific problem. Try to think of questions you want to ask them as you watch, then pay attention to what questions Lyle and Konrad are asking. Were they what you would have asked? How do their questions help quickly clarify the situation?\n",
        "\n",
        "\n",
        "You will work together as a group to try to come up with cost functions for each example, with hints available along the way. This may be difficult - deep learning in the real world often is! So try your best but don't get discouraged if you don't reach the solution - you'll learn a lot from the process of trying to.\n",
        "\n",
        "You have already seen cost functions (sometimes also called objective functions or loss functions) for deep neural networks - you need one to perform gradient descent and train a neural network.  It turns out what cost function you choose to minimize is incredibly important - it is how you define success of your network after all, so you want to define success in a good way! And cost functions are not one size fits all - you need to carefully choose cost functions according to what you want your neural network to do - as you will seen in the following scenarios.\n",
        "\n",
        "\n"
      ],
      "metadata": {
        "id": "1PKO6Lam_Cnf"
      }
    },
    {
      "cell_type": "markdown",
      "source": [
        "---\n",
        "# Section 2: Cost function for neurons\n"
      ],
      "metadata": {
        "id": "hRbRunJR5GsB"
      }
    },
    {
      "cell_type": "code",
      "source": [
        "# @title Video 2: Spiking Neuron Predictions Vignette\n",
        "from ipywidgets import widgets\n",
        "\n",
        "out2 = widgets.Output()\n",
        "with out2:\n",
        "  from IPython.display import IFrame\n",
        "  class BiliVideo(IFrame):\n",
        "    def __init__(self, id, page=1, width=400, height=300, **kwargs):\n",
        "      self.id=id\n",
        "      src = \"https://player.bilibili.com/player.html?bvid={0}&page={1}\".format(id, page)\n",
        "      super(BiliVideo, self).__init__(src, width, height, **kwargs)\n",
        "\n",
        "  video = BiliVideo(id=f\"\", width=854, height=480, fs=1)\n",
        "  print(\"Video available at https://www.bilibili.com/video/{0}\".format(video.id))\n",
        "  display(video)\n",
        "\n",
        "out1 = widgets.Output()\n",
        "with out1:\n",
        "  from IPython.display import YouTubeVideo\n",
        "  video = YouTubeVideo(id=f\"CC4gMRrE31g\", width=854, height=480, fs=1, rel=0)\n",
        "  print(\"Video available at https://youtube.com/watch?v=\" + video.id)\n",
        "  display(video)\n",
        "\n",
        "out = widgets.Tab([out1, out2])\n",
        "out.set_title(0, 'Youtube')\n",
        "out.set_title(1, 'Bilibili')\n",
        "\n",
        "display(out)"
      ],
      "metadata": {
        "colab": {
          "base_uri": "https://localhost:8080/",
          "height": 581,
          "referenced_widgets": [
            "bcb8758e2cb44b429338d7c694eb1d73",
            "7147ed2001f040bbb9e3c3b908bac939",
            "f7adf763c068457785dc543f8c25cd43",
            "b9593194ae744286ad70c591b14139f0",
            "6fda578c482642949424eecda7b4f12c",
            "a9236e23fd5c4a3fbdd5c537a0e1263a"
          ]
        },
        "cellView": "form",
        "id": "7OuLEQ_Pzn4c",
        "outputId": "591bc936-4c77-47ae-c053-dccf41643bbf"
      },
      "execution_count": 3,
      "outputs": [
        {
          "output_type": "display_data",
          "data": {
            "text/plain": [
              "Tab(children=(Output(), Output()), _titles={'0': 'Youtube', '1': 'Bilibili'})"
            ],
            "application/vnd.jupyter.widget-view+json": {
              "version_major": 2,
              "version_minor": 0,
              "model_id": "bcb8758e2cb44b429338d7c694eb1d73"
            }
          },
          "metadata": {}
        }
      ]
    },
    {
      "cell_type": "code",
      "source": [
        "# @title Video 3: Spiking Neuron Predictions Set-up\n",
        "from ipywidgets import widgets\n",
        "\n",
        "out2 = widgets.Output()\n",
        "with out2:\n",
        "  from IPython.display import IFrame\n",
        "  class BiliVideo(IFrame):\n",
        "    def __init__(self, id, page=1, width=400, height=300, **kwargs):\n",
        "      self.id=id\n",
        "      src = \"https://player.bilibili.com/player.html?bvid={0}&page={1}\".format(id, page)\n",
        "      super(BiliVideo, self).__init__(src, width, height, **kwargs)\n",
        "\n",
        "  video = BiliVideo(id=f\"\", width=854, height=480, fs=1)\n",
        "  print(\"Video available at https://www.bilibili.com/video/{0}\".format(video.id))\n",
        "  display(video)\n",
        "\n",
        "out1 = widgets.Output()\n",
        "with out1:\n",
        "  from IPython.display import YouTubeVideo\n",
        "  video = YouTubeVideo(id=f\"\", width=854, height=480, fs=1, rel=0)\n",
        "  print(\"Video available at https://youtube.com/watch?v=\" + video.id)\n",
        "  display(video)\n",
        "\n",
        "out = widgets.Tab([out1, out2])\n",
        "out.set_title(0, 'Youtube')\n",
        "out.set_title(1, 'Bilibili')\n",
        "\n",
        "display(out)"
      ],
      "metadata": {
        "colab": {
          "base_uri": "https://localhost:8080/",
          "height": 581,
          "referenced_widgets": [
            "2d7859a2aef34fc78c2e263b63d5acab",
            "0ba7bc6b6faf4161a3bd6a982407db01",
            "046662d076fc4546a5ce94fafce1a531",
            "fe0d1ea967ec4708a86840c83098de93",
            "45773dd186304fb39e01f80886ead1d7",
            "0d21f257d35143b6ba8fa1d6f89f03d6"
          ]
        },
        "cellView": "form",
        "id": "jNqxbmVMzvcG",
        "outputId": "bf42bd06-5b46-4d04-e3e0-85bfb7f81a99"
      },
      "execution_count": 4,
      "outputs": [
        {
          "output_type": "display_data",
          "data": {
            "text/plain": [
              "Tab(children=(Output(), Output()), _titles={'0': 'Youtube', '1': 'Bilibili'})"
            ],
            "application/vnd.jupyter.widget-view+json": {
              "version_major": 2,
              "version_minor": 0,
              "model_id": "2d7859a2aef34fc78c2e263b63d5acab"
            }
          },
          "metadata": {}
        }
      ]
    },
    {
      "cell_type": "markdown",
      "source": [
        "Konrad, a neuroscientist, wants to predict what neurons in someone's motor cortex are doing while they are riding a motorcycle. \n",
        "\n",
        "Upon discussion with Lyle, it emerges that we have data on 12 parameters of motorcycle riding, including acceleration, angle, braking, degrees of leaning. These inputs are fairly smooth over time, the angle of the motorcycle typically does not change much in 100 ms for example.\n",
        "\n",
        "We also have recorded data on the timing of spikes of $N$ neurons in motor cortex. The underlying firing rate is smooth but every millisecond spikes are random and independent. This means we can assume that the number of spikes in a short interval can be modeled using a Poisson distribution with an underlying firing rate for that interval $\\lambda$. \n",
        "\n",
        "For neuron $i$, the probability of seeing $k_{i}$ spikes in some interval given an underlying firing rate $\\lambda_{i}$ is:\n",
        "\n",
        "\\begin{equation}\n",
        "\\mathcal{f(k_{i}:λ_{i})} = \\mathcal{Pr(X=k_{i})} = \\frac {\\lambda_{i}^{k_{i}}e^{-\\lambda_{i}}}{k_{i}!}\n",
        "\\end{equation}\n",
        "\n",
        "So this poisson distribution may be relevant if we want to, in a way, have a good model for the spiking of neurons."
      ],
      "metadata": {
        "id": "jIFFSshf5tWQ"
      }
    },
    {
      "cell_type": "markdown",
      "source": [
        "## Think! 1: Designing a cost function to predict neural activities\n",
        "\n",
        "Given everything you know, how would you design a cost function for a neural network that Konrad is training to predict neural activity given the motorcycle riding parameters? Remember that we are predicting the activity of all $N$ neurons, not just one. Try to write out an equation!\n",
        "\n",
        "\n",
        "Please discuss as a group. If you get stuck, you can uncover the hints below one at a time. Please spend some time discussing before uncovering the next hint though! You are being real deep learning scientists now and the answers won't be easy\n"
      ],
      "metadata": {
        "id": "J8NoZAbKFzGj"
      }
    },
    {
      "cell_type": "markdown",
      "source": [
        "<details>\n",
        "<summary> <font color='green'>Click here for hint 1 </font></summary>\n",
        "\n",
        "You get time-stamps for the spikes. You will want to do binning into 50 ms bins. You get $k_{i, t}$ for every neuron $i$ and time bin $t$, the spike count for that neuron in that time bin.  What will the neural network predict?"
      ],
      "metadata": {
        "id": "mnPHTj1IJECU"
      }
    },
    {
      "cell_type": "markdown",
      "source": [
        "<details>\n",
        "<summary> <font color='green'>Click here for hint 2 </font></summary>\n",
        "\n",
        "For each bin you can use your neural network model to predict an estimate of $\\lambda_{i,t}$, the number of spikes for neuron $i$ expected at that time bin $t$. The network should get as input the relevant aspects of the motorcycle riding at the relevant times (and potentially of the previous times).  "
      ],
      "metadata": {
        "id": "9slGMqn-FzJM"
      }
    },
    {
      "cell_type": "markdown",
      "source": [
        "<details>\n",
        "<summary> <font color='green'>Click here for hint 3 </font></summary>\n",
        "\n",
        "You need an equation relating $\\lambda_{i,t}$ (the model prediction) with $k_{i, t}$ (your data) where changing $\\lambda_{i,t}$  to minimize or maximize the number resulting from this equation results in better predictions.  What do we already know about the relationship between $\\lambda_{i,t}$ and $k_{i, t}$ that helps us here?\n",
        "\n",
        "Once you have that, how do you extend to incorporate all neurons and time bins?"
      ],
      "metadata": {
        "id": "X4YKORznOVOE"
      }
    },
    {
      "cell_type": "markdown",
      "source": [
        "<details>\n",
        "<summary> <font color='green'>Click here for hint 4 </font></summary>\n",
        "\n",
        "We can treat the bins independently as the spikes are random and independent every millisecond. "
      ],
      "metadata": {
        "id": "3uxshuSqFzL-"
      }
    },
    {
      "cell_type": "markdown",
      "source": [
        "<details>\n",
        "<summary> <font color='green'>Click here for the solution </font></summary>\n",
        "\n",
        "\n",
        "First, we will convert our spike timing data to the number of spikes per time bin for time bins of size 50 ms. This gives us $k_{i,t}$ for every neuron $i$ and time bin $t$.\n",
        "\n",
        "We are assuming a Poisson distribution for our spiking. That means that we get the probability of seeing spike count $k_{i, t}$  given underlying firing rate $\\lambda_{i, t}$ using this equation:\n",
        "\n",
        "\n",
        "\\begin{equation}\n",
        "\\mathcal{f(k_{i,t}:\\lambda_{i,t})} = \\mathcal{Pr}(X=k_{i,t}) = \\frac {\\lambda_{i,t}^{k_{i,t}}e^{-\\lambda_{i,t}}}{k_{i,t}!}\n",
        "\\end{equation}\n",
        "\n",
        "That seems a pretty good thing to optimize to make our predictions as good as possible! We want a high probability of seeing the actual spike count we recorded given the neural network prediction of the underlying firing rate. \n",
        "\n",
        "We will make this negative later so we have an equation that we want to minimize rather than maximize, so we can use all our normal tricks for minimization (instead of maximization). First though, let's scale up to include all our neurons and time bins. \n",
        "\n",
        "We can treat each time bin as independent because, while the underlying probability of firing changes slowly, every milisecond spiking is random and independent. From probability, we know that we can compute the probability of a set of independent events (all the spike counts) by multiplying the probabilities of each event. So the probability of seeing all of our data given the neural network predictions is all of our probabilities of $k_{i,t}$ multiplied together:\n",
        "\n",
        "\\begin{align}\n",
        "\\mathcal{Pr}(\\text{all_data}) &= \\prod_{i=1}^{N}\\prod_{t=1}^\\top \\mathcal{Pr}(X=k_{i,t})\\\\\n",
        "&= \\prod_{i=1}^{N}\\prod_{t=1}^\\top \\frac {\\lambda_{i,t}^{k_{i,t}}e^{-\\lambda_{i,t}}}{k_{i,t}!}\n",
        "\\end{align}\n",
        "\n",
        "This is also known as our likelihood!\n",
        "\n",
        "We usually use the log likelihood instead of the likelihood when minimizing or maximizing for numerical computation reasons. W We can convert the above equation to log likelihood:\n",
        "\n",
        "\\begin{align}\n",
        "\\text{log likelihood} &= \\sum_{i=1}^N\\sum_{t=1}^\\top \\text{log}(\\mathcal{Pr}(X=k_{i,t}) \\\\\n",
        "&= \\sum_{i=1}^N\\sum_{t=1}^\\top k_{i,t} \\text{log}(\\lambda_{i,t}) - \\lambda_{i,t} - \\text{log}(k_{i,t}!)\n",
        "\\end{align}\n",
        "\n",
        "And last but not least, we want to make it negative so we can minimize instead of maximize:\n",
        "\n",
        "\\begin{equation}\n",
        "\\text{negative log likelihood} \n",
        "= \\sum_{i=1}^N\\sum_{t=1}^\\top - k_{i,t} \\text{log}(\\lambda_{i,t}) + \\lambda_{i,t} + \\text{log}(k_{i,t}!)\n",
        "\\end{equation}"
      ],
      "metadata": {
        "id": "B2ZU7vjyJi1B"
      }
    },
    {
      "cell_type": "code",
      "source": [
        "# @title Video 3: Spiking Neurons Wrap-up\n",
        "from ipywidgets import widgets\n",
        "\n",
        "out2 = widgets.Output()\n",
        "with out2:\n",
        "  from IPython.display import IFrame\n",
        "  class BiliVideo(IFrame):\n",
        "    def __init__(self, id, page=1, width=400, height=300, **kwargs):\n",
        "      self.id=id\n",
        "      src = \"https://player.bilibili.com/player.html?bvid={0}&page={1}\".format(id, page)\n",
        "      super(BiliVideo, self).__init__(src, width, height, **kwargs)\n",
        "\n",
        "  video = BiliVideo(id=f\"BV1Pq4y1p7em\", width=854, height=480, fs=1)\n",
        "  print(\"Video available at https://www.bilibili.com/video/{0}\".format(video.id))\n",
        "  display(video)\n",
        "\n",
        "out1 = widgets.Output()\n",
        "with out1:\n",
        "  from IPython.display import YouTubeVideo\n",
        "  video = YouTubeVideo(id=f\"\", width=854, height=480, fs=1, rel=0)\n",
        "  print(\"Video available at https://youtube.com/watch?v=\" + video.id)\n",
        "  display(video)\n",
        "\n",
        "out = widgets.Tab([out1, out2])\n",
        "out.set_title(0, 'Youtube')\n",
        "out.set_title(1, 'Bilibili')\n",
        "\n",
        "\n",
        "display(out)"
      ],
      "metadata": {
        "colab": {
          "base_uri": "https://localhost:8080/",
          "height": 581,
          "referenced_widgets": [
            "727e3d9c6bac47cb91f19b95b16d2d2d",
            "075e0c4338e44a39a0329b887dae6b62",
            "8b389910e6a14223a46b327455690a58",
            "a2015c2d7a7c4b528af8ec2777497599",
            "03f69b55eb1c4f6aa733d3c8f0e57b49",
            "28c512b04f8946299e95c5939f33bf46"
          ]
        },
        "cellView": "form",
        "id": "HvJA3wSU0rLI",
        "outputId": "610c78cd-2406-4f0f-c052-b43871a8dbd1"
      },
      "execution_count": 5,
      "outputs": [
        {
          "output_type": "display_data",
          "data": {
            "text/plain": [
              "Tab(children=(Output(), Output()), _titles={'0': 'Youtube', '1': 'Bilibili'})"
            ],
            "application/vnd.jupyter.widget-view+json": {
              "version_major": 2,
              "version_minor": 0,
              "model_id": "727e3d9c6bac47cb91f19b95b16d2d2d"
            }
          },
          "metadata": {}
        }
      ]
    },
    {
      "cell_type": "markdown",
      "source": [
        "Check out the papers mentioned in the above video:\n",
        "\n",
        "- [Fast inference in generalized linear models via expected log likelihood](https://link.springer.com/article/10.1007/s10827-013-0466-4)\n",
        "\n",
        "- [Machine Learning for Neural Decoding](https://www.eneuro.org/content/7/4/ENEURO.0506-19.2020)"
      ],
      "metadata": {
        "id": "4otikSOW7XqY"
      }
    },
    {
      "cell_type": "markdown",
      "source": [
        "## (Bonus) Think!: Non-Poisson neurons\n",
        "\n",
        "If you have time discuss the following. The spiking distributions don't seem quite Poisson.  Find a good replacement for your cost function."
      ],
      "metadata": {
        "id": "xfgMmH5eauMS"
      }
    },
    {
      "cell_type": "markdown",
      "source": [
        "---\n",
        "# Section 3: How can an ANN know its uncertainty"
      ],
      "metadata": {
        "id": "_lqhw4EC8Tfk"
      }
    },
    {
      "cell_type": "code",
      "source": [
        "# @title Video 4: ANN Uncertainty Vignette\n",
        "from ipywidgets import widgets\n",
        "\n",
        "out2 = widgets.Output()\n",
        "with out2:\n",
        "  from IPython.display import IFrame\n",
        "  class BiliVideo(IFrame):\n",
        "    def __init__(self, id, page=1, width=400, height=300, **kwargs):\n",
        "      self.id=id\n",
        "      src = \"https://player.bilibili.com/player.html?bvid={0}&page={1}\".format(id, page)\n",
        "      super(BiliVideo, self).__init__(src, width, height, **kwargs)\n",
        "\n",
        "  video = BiliVideo(id=f\"\", width=854, height=480, fs=1)\n",
        "  print(\"Video available at https://www.bilibili.com/video/{0}\".format(video.id))\n",
        "  display(video)\n",
        "\n",
        "out1 = widgets.Output()\n",
        "with out1:\n",
        "  from IPython.display import YouTubeVideo\n",
        "  video = YouTubeVideo(id=f\"b2N2OJ2u4AM\", width=854, height=480, fs=1, rel=0)\n",
        "  print(\"Video available at https://youtube.com/watch?v=\" + video.id)\n",
        "  display(video)\n",
        "\n",
        "out = widgets.Tab([out1, out2])\n",
        "out.set_title(0, 'Youtube')\n",
        "out.set_title(1, 'Bilibili')\n",
        "\n",
        "\n",
        "display(out)"
      ],
      "metadata": {
        "colab": {
          "base_uri": "https://localhost:8080/",
          "height": 581,
          "referenced_widgets": [
            "a5b7d7021cf744e69586ababa9b97f94",
            "b45c2b6a19b440459f7bf88babc3ebd6",
            "3dc1c798b5a2487daf25e224a8cd3c9e",
            "9fa73fc9263347d3b39d6c8e9a214386",
            "2d3d875421b84743862460365e84d91b",
            "d249910405fe450391e7889c432ac4d8"
          ]
        },
        "cellView": "form",
        "id": "URM3qnbQ02ja",
        "outputId": "e70e02cc-61a1-4267-f0c5-a3dda4aade2f"
      },
      "execution_count": 6,
      "outputs": [
        {
          "output_type": "display_data",
          "data": {
            "text/plain": [
              "Tab(children=(Output(), Output()), _titles={'0': 'Youtube', '1': 'Bilibili'})"
            ],
            "application/vnd.jupyter.widget-view+json": {
              "version_major": 2,
              "version_minor": 0,
              "model_id": "a5b7d7021cf744e69586ababa9b97f94"
            }
          },
          "metadata": {}
        }
      ]
    },
    {
      "cell_type": "code",
      "source": [
        "# @title Video 5: ANN Uncertainty Set-up\n",
        "from ipywidgets import widgets\n",
        "\n",
        "out2 = widgets.Output()\n",
        "with out2:\n",
        "  from IPython.display import IFrame\n",
        "  class BiliVideo(IFrame):\n",
        "    def __init__(self, id, page=1, width=400, height=300, **kwargs):\n",
        "      self.id=id\n",
        "      src = \"https://player.bilibili.com/player.html?bvid={0}&page={1}\".format(id, page)\n",
        "      super(BiliVideo, self).__init__(src, width, height, **kwargs)\n",
        "\n",
        "  video = BiliVideo(id=f\"\", width=854, height=480, fs=1)\n",
        "  print(\"Video available at https://www.bilibili.com/video/{0}\".format(video.id))\n",
        "  display(video)\n",
        "\n",
        "out1 = widgets.Output()\n",
        "with out1:\n",
        "  from IPython.display import YouTubeVideo\n",
        "  video = YouTubeVideo(id=f\"Reh-gNiOwkQ\", width=854, height=480, fs=1, rel=0)\n",
        "  print(\"Video available at https://youtube.com/watch?v=\" + video.id)\n",
        "  display(video)\n",
        "\n",
        "out = widgets.Tab([out1, out2])\n",
        "out.set_title(0, 'Youtube')\n",
        "out.set_title(1, 'Bilibili')\n",
        "\n",
        "\n",
        "display(out)"
      ],
      "metadata": {
        "colab": {
          "base_uri": "https://localhost:8080/",
          "height": 581,
          "referenced_widgets": [
            "a2131a45d84e47c79c42a6d22ea07285",
            "d6c97bba612c4e3bba5fb6776037f40d",
            "d1aef9fd3400481a858d67ad69bed90f",
            "98ed28462e554b9f943e49037da9cea3",
            "076d75ca9b444e928cf5ecb2ac7ddc85",
            "13c36199662a4dba9a2ba60d524d8044"
          ]
        },
        "cellView": "form",
        "id": "DmH7dz3a1EJG",
        "outputId": "6c85f452-e8d9-49f3-8984-ece994d643e1"
      },
      "execution_count": 7,
      "outputs": [
        {
          "output_type": "display_data",
          "data": {
            "text/plain": [
              "Tab(children=(Output(), Output()), _titles={'0': 'Youtube', '1': 'Bilibili'})"
            ],
            "application/vnd.jupyter.widget-view+json": {
              "version_major": 2,
              "version_minor": 0,
              "model_id": "a2131a45d84e47c79c42a6d22ea07285"
            }
          },
          "metadata": {}
        }
      ]
    },
    {
      "cell_type": "markdown",
      "source": [
        "Lyle wants to build an artificial neural network that has a measure of its own uncertainty about it's predictions. He wants the neural network to give a prediction/estimate and an uncertainty, or standard deviation, measurement on it.  \n",
        "\n",
        "Let's say Lyle wants to estimate the location of an atom in a chemical molecule based on various inputs. He wants to have the estimate of the location and an estimate of the variance. We don't train neural networks on one data point at a time though - he wants a cost function that takes in N data points (input and atom location pairings).\n",
        "\n",
        "We think we may be able to use a Gaussian distribution to help Lyle here:\n",
        "\n",
        "\\begin{equation}\n",
        "g(x) = \\frac{1}{\\sigma\\sqrt{2\\pi}} \\text{exp} \\left( -\\frac{1}{2}\\frac{(x-\\mu)^2}{\\sigma^2} \\right)\n",
        "\\end{equation}"
      ],
      "metadata": {
        "id": "4bkkO0hm8gIg"
      }
    },
    {
      "cell_type": "markdown",
      "source": [
        "## Think! 2: Designing a cost function so we measure uncertainty\n",
        "\n",
        "Given everything you know, how would you design a cost function for a neural network that Lyle is training so that he can get the estimate and the uncertainty of the estimate? Try to write out an equation!\n",
        "\n",
        "Please discuss as a group. If you get stuck, you can uncover the hints below one at a time. Please spend some time discussing before uncovering the next hint, though! You are being real deep learning scientists now, and the answers won't be easy."
      ],
      "metadata": {
        "id": "lLtOfU0ooXRn"
      }
    },
    {
      "cell_type": "markdown",
      "source": [
        "<details>\n",
        "<summary> <font color='green'>Click here for hint 1 </font></summary>\n",
        "\n",
        "Look at the Gaussian equation. What is the true location? Where is there the estimate of location? Where is there the uncertainty? \n",
        "\n",
        "What do you want the neural network to predict for one data point (recorded location) given the inputs?"
      ],
      "metadata": {
        "id": "OMjirzkwonUr"
      }
    },
    {
      "cell_type": "markdown",
      "source": [
        "<details>\n",
        "<summary> <font color='green'>Click here for hint 2 </font></summary>\n",
        "\n",
        "What did you learn from working through Section 2 that you can use here?"
      ],
      "metadata": {
        "id": "QcQTswEqo_t7"
      }
    },
    {
      "cell_type": "markdown",
      "source": [
        "<details>\n",
        "<summary> <font color='green'>Click here for hint 3 </font></summary>\n",
        "\n",
        "In section 2, you learned that you want to go from probabilities to negative log likelihoods to form cost functions."
      ],
      "metadata": {
        "id": "2kckqJWapVcA"
      }
    },
    {
      "cell_type": "markdown",
      "source": [
        "<details>\n",
        "<summary> <font color='green'>Click here for the solution </font></summary>\n",
        "\n",
        "For a given set of inputs, we want the neural network to predict the location of the atom and the uncertainty of that estimate. Standard deviation is a great measure of uncertainty so we can predict the mean and standard deviation of the location (instead of just the mean as is more common).\n",
        "\n",
        "So how do we a design a cost function that involves the mean and standard deviation?  We can assume a Gaussian distribution over the location. The neural network can predict the mean of that Gaussian (that's the estimate of the location) and the standard deviation of that Gaussian (that's the uncertainty measure) for a given set of inputs.\n",
        "\n",
        "Now that we've got that figured out, we can take a very similar approach to what we did in Section 2 with spiking neurons. For a given data point $i$, the neural network predicts the mean ($\\mu_i$) and standard deviation ($\\sigma_i$) of the location given the inputs. We can then compute the probability of seeing the actual recorded location ($x_i$) given these predictions:\n",
        "\n",
        "\\begin{equation}\n",
        "g(x) = \\frac{1}{\\sigma\\sqrt{2\\pi}} \\text{exp}\\left( -\\frac{1}{2}\\frac{(x_i-\\mu_i)^2}{\\sigma_i^2} \\right)\n",
        "\\end{equation}\n",
        "\n",
        "The location of the atom is independent in each data point so we can get the overall likelihood by multiplying the probabilities for the individual data points.\n",
        "\\begin{equation}\n",
        "\\text{likelihood} = \\prod_{i=1}^N\\frac{1}{\\sigma\\sqrt{2\\pi}} \\text{exp}\\left( -\\frac{1}{2}\\frac{(x_i-\\mu_i)^2}{\\sigma_i^2} \\right)\n",
        "\\end{equation}\n",
        "\n",
        "\n",
        "And, as before, we want to take the log of this for numerical reasons and convert to negative log likelihood:\n",
        "\n",
        "\\begin{equation}\n",
        "\\text{negative log likelihood} = \\sum_{i=1}^N \\text{log} \\left( \\frac{1}{\\sigma\\sqrt{2\\pi}} \\text{exp}\\left( -\\frac{1}{2}\\frac{(x_i-\\mu_i)^2}{\\sigma_i^2} \\right) \\right) \n",
        "\\end{equation}\n",
        "\n",
        "Changing the parameters of the neural network so it predicts $\\mu_i$ and $\\sigma_i$ that minimize this equation will give us (hopefully fairly accurate) predictions of the location and the network uncertainty about the location!"
      ],
      "metadata": {
        "id": "rvwkItRyo8lJ"
      }
    },
    {
      "cell_type": "code",
      "source": [
        "# @title Video 6: ANN Uncertainty Wrap-up\n",
        "from ipywidgets import widgets\n",
        "\n",
        "out2 = widgets.Output()\n",
        "with out2:\n",
        "  from IPython.display import IFrame\n",
        "  class BiliVideo(IFrame):\n",
        "    def __init__(self, id, page=1, width=400, height=300, **kwargs):\n",
        "      self.id=id\n",
        "      src = \"https://player.bilibili.com/player.html?bvid={0}&page={1}\".format(id, page)\n",
        "      super(BiliVideo, self).__init__(src, width, height, **kwargs)\n",
        "\n",
        "  video = BiliVideo(id=f\"\", width=854, height=480, fs=1)\n",
        "  print(\"Video available at https://www.bilibili.com/video/{0}\".format(video.id))\n",
        "  display(video)\n",
        "\n",
        "out1 = widgets.Output()\n",
        "with out1:\n",
        "  from IPython.display import YouTubeVideo\n",
        "  video = YouTubeVideo(id=f\"QBKAFRaC8SY\", width=854, height=480, fs=1, rel=0)\n",
        "  print(\"Video available at https://youtube.com/watch?v=\" + video.id)\n",
        "  display(video)\n",
        "\n",
        "out = widgets.Tab([out1, out2])\n",
        "out.set_title(0, 'Youtube')\n",
        "out.set_title(1, 'Bilibili')\n",
        "\n",
        "\n",
        "display(out)"
      ],
      "metadata": {
        "colab": {
          "base_uri": "https://localhost:8080/",
          "height": 581,
          "referenced_widgets": [
            "e250e98aa81b4da096ff513be38f507e",
            "f1a019c4cf3b4b4e8c470a35beedd8e2",
            "12713f0782ab497e9f5e3a2aea6010a0",
            "c3bc6234c93c4fc5948235ff36f55fbe",
            "7931f3af16504cefa2fa558360d0b1db",
            "48fc60af590f4695a761cee3cab076dc"
          ]
        },
        "cellView": "form",
        "id": "GBpzYce-1JV6",
        "outputId": "c095acfe-c1bc-423d-b2d2-0e575350e8e4"
      },
      "execution_count": 8,
      "outputs": [
        {
          "output_type": "display_data",
          "data": {
            "text/plain": [
              "Tab(children=(Output(), Output()), _titles={'0': 'Youtube', '1': 'Bilibili'})"
            ],
            "application/vnd.jupyter.widget-view+json": {
              "version_major": 2,
              "version_minor": 0,
              "model_id": "e250e98aa81b4da096ff513be38f507e"
            }
          },
          "metadata": {}
        }
      ]
    },
    {
      "cell_type": "markdown",
      "source": [
        "Check out the papers mentioned in the above video:\n",
        "\n",
        "- [Rapid prediction of NMR spectral properties with quantified uncertainty](https://jcheminf.biomedcentral.com/articles/10.1186/s13321-019-0374-3)\n",
        "\n",
        "- [Deep imitation learning for molecular inverse problems](https://papers.nips.cc/paper/2019/file/b0bef4c9a6e50d43880191492d4fc827-Paper.pdf)"
      ],
      "metadata": {
        "id": "6BDe3qy11a6T"
      }
    },
    {
      "cell_type": "markdown",
      "source": [
        "## (Bonus) Think!: Negative standard deviations\n",
        "\n",
        "If the standard deviation is negative, the negative log-likelihood will fail as you'd take the log of a negative number. What should we do to ensure we don't run into this while training our neural network?"
      ],
      "metadata": {
        "id": "3agElfQduXfI"
      }
    },
    {
      "cell_type": "markdown",
      "source": [
        "---\n",
        "# Section 4: Embedding faces"
      ],
      "metadata": {
        "id": "kHqEux2b9QGg"
      }
    },
    {
      "cell_type": "code",
      "source": [
        "# @title Video 7: Embedding Faces Vignette\n",
        "from ipywidgets import widgets\n",
        "\n",
        "out2 = widgets.Output()\n",
        "with out2:\n",
        "  from IPython.display import IFrame\n",
        "  class BiliVideo(IFrame):\n",
        "    def __init__(self, id, page=1, width=400, height=300, **kwargs):\n",
        "      self.id=id\n",
        "      src = \"https://player.bilibili.com/player.html?bvid={0}&page={1}\".format(id, page)\n",
        "      super(BiliVideo, self).__init__(src, width, height, **kwargs)\n",
        "\n",
        "  video = BiliVideo(id=f\"\", width=854, height=480, fs=1)\n",
        "  print(\"Video available at https://www.bilibili.com/video/{0}\".format(video.id))\n",
        "  display(video)\n",
        "\n",
        "out1 = widgets.Output()\n",
        "with out1:\n",
        "  from IPython.display import YouTubeVideo\n",
        "  video = YouTubeVideo(id=f\"tF0iYBAnyrI\", width=854, height=480, fs=1, rel=0)\n",
        "  print(\"Video available at https://youtube.com/watch?v=\" + video.id)\n",
        "  display(video)\n",
        "\n",
        "out = widgets.Tab([out1, out2])\n",
        "out.set_title(0, 'Youtube')\n",
        "out.set_title(1, 'Bilibili')\n",
        "\n",
        "\n",
        "display(out)"
      ],
      "metadata": {
        "colab": {
          "base_uri": "https://localhost:8080/",
          "height": 581,
          "referenced_widgets": [
            "7821b5d2d52d4e45a2093a98ae4492fb",
            "4fff745693b2427b8c56634a9592b447",
            "9ad1cf85b9554552bd6f4f231aa0ad8e",
            "c96171274111408a889e733a0a1f9e2d",
            "af189a99f80541d195620e03a35a933c",
            "61147126fa5647c19cfcceec600e94fa"
          ]
        },
        "cellView": "form",
        "id": "6aGXh4NXQp5E",
        "outputId": "8ff609c5-4227-4800-cdaf-faeac8bcaae5"
      },
      "execution_count": 9,
      "outputs": [
        {
          "output_type": "display_data",
          "data": {
            "text/plain": [
              "Tab(children=(Output(), Output()), _titles={'0': 'Youtube', '1': 'Bilibili'})"
            ],
            "application/vnd.jupyter.widget-view+json": {
              "version_major": 2,
              "version_minor": 0,
              "model_id": "7821b5d2d52d4e45a2093a98ae4492fb"
            }
          },
          "metadata": {}
        }
      ]
    },
    {
      "cell_type": "code",
      "source": [
        "# @title Video 8: Embedding Faces Set-up\n",
        "from ipywidgets import widgets\n",
        "\n",
        "out2 = widgets.Output()\n",
        "with out2:\n",
        "  from IPython.display import IFrame\n",
        "  class BiliVideo(IFrame):\n",
        "    def __init__(self, id, page=1, width=400, height=300, **kwargs):\n",
        "      self.id=id\n",
        "      src = \"https://player.bilibili.com/player.html?bvid={0}&page={1}\".format(id, page)\n",
        "      super(BiliVideo, self).__init__(src, width, height, **kwargs)\n",
        "\n",
        "  video = BiliVideo(id=f\"\", width=854, height=480, fs=1)\n",
        "  print(\"Video available at https://www.bilibili.com/video/{0}\".format(video.id))\n",
        "  display(video)\n",
        "\n",
        "out1 = widgets.Output()\n",
        "with out1:\n",
        "  from IPython.display import YouTubeVideo\n",
        "  video = YouTubeVideo(id=f\"JrzicfOxqP0\", width=854, height=480, fs=1, rel=0)\n",
        "  print(\"Video available at https://youtube.com/watch?v=\" + video.id)\n",
        "  display(video)\n",
        "\n",
        "out = widgets.Tab([out1, out2])\n",
        "out.set_title(0, 'Youtube')\n",
        "out.set_title(1, 'Bilibili')\n",
        "\n",
        "\n",
        "display(out)"
      ],
      "metadata": {
        "colab": {
          "base_uri": "https://localhost:8080/",
          "height": 581,
          "referenced_widgets": [
            "0827612f1139435087abe3e9ac1abff0",
            "eceba6cab41c4aba964c6370c11fe532",
            "57ec2979ed17476691275ac44174436c",
            "e76ae9bc750a4e58a5403395f0983444",
            "8a93b56ae181471a920659c1bbd9c67b",
            "3a3447c6d9cd49769a7b676499aee2b9"
          ]
        },
        "cellView": "form",
        "id": "kNxB5WMxQ0zc",
        "outputId": "d9c587d4-e220-43a6-ba43-0b809e29c1a3"
      },
      "execution_count": 10,
      "outputs": [
        {
          "output_type": "display_data",
          "data": {
            "text/plain": [
              "Tab(children=(Output(), Output()), _titles={'0': 'Youtube', '1': 'Bilibili'})"
            ],
            "application/vnd.jupyter.widget-view+json": {
              "version_major": 2,
              "version_minor": 0,
              "model_id": "0827612f1139435087abe3e9ac1abff0"
            }
          },
          "metadata": {}
        }
      ]
    },
    {
      "cell_type": "markdown",
      "source": [
        "Konrad needs help recognizing faces. He wants to build a network that embeds photos of faces so that photos of the same person are nearby in the embedding space and photos of different people are far in the embedding space. We can't just use pixel space because the pixels will be very different between a photo of someone straight on vs. from their side! \n",
        "\n",
        "We will use a neural network to go from the pixels of each image to an embedding space. Let's say you have a convolutional neural network with m units in the last layer. If you feed a face photo $i$ through the CNN, the activities of the units in the last layer form an $m$ dimensional vector $\\bar{y}_i$ - this is an embedding of that face photo in $m$ dimensional space. \n",
        "\n",
        "We think we might be able to incorporate Euclidean distance to help us here. The Euclidean distance between two vectors is:\n",
        "\n",
        "\\begin{equation}\n",
        "d(\\bar{y}_i, \\bar{y}_j) = \\sqrt{\\sum_{c=1}^m(\\bar{y}_{i_c} - \\bar{y}_{j_c})^2}\n",
        "\\end{equation}\n",
        "\n",
        "<br>\n",
        "\n",
        "**Note:** a minor remark here, there is an indexing error in the video where it says $i$ instead of $j$."
      ],
      "metadata": {
        "id": "HUfytnG5Ta3o"
      }
    },
    {
      "cell_type": "markdown",
      "source": [
        "## Think! 3: Designing a cost function for face embedding\n",
        "\n",
        "Given everything you know, how would you design a cost function for a neural network that Konrad is training so that he can get a helpful embedding of faces? Try to write out an equation!\n",
        "\n",
        "Please discuss as a group. If you get stuck, you can uncover the hints below one at a time. Please spend some time discussing before uncovering the next hint, though! You are being real deep learning scientists now, and the answers won't be easy."
      ],
      "metadata": {
        "id": "awlFYwRnRVB4"
      }
    },
    {
      "cell_type": "markdown",
      "source": [
        "<details>\n",
        "<summary> <font color='green'>Click here for hint 1 </font></summary>\n",
        "\n",
        "How do we want to deal with the same faces? Can we just build a cost function based on similar faces? What would happen?"
      ],
      "metadata": {
        "id": "YQ4b3shhTaXB"
      }
    },
    {
      "cell_type": "markdown",
      "source": [
        "<details>\n",
        "<summary> <font color='green'>Click here for hint 2 </font></summary>\n",
        "\n",
        "You need to also include different faces. How do you want to deal with different faces? "
      ],
      "metadata": {
        "id": "ioVIuhmRW7T_"
      }
    },
    {
      "cell_type": "markdown",
      "source": [
        "<details>\n",
        "<summary> <font color='green'>Click here for hint 3 </font></summary>\n",
        "\n",
        "Similar faces should have low Euclidean distance between their embeddings. Different faces should have high Euclidean distance between their embeddings. Can we phrase this with 3 faces?"
      ],
      "metadata": {
        "id": "1qVUEsokYBtQ"
      }
    },
    {
      "cell_type": "markdown",
      "source": [
        "<details>\n",
        "<summary> <font color='green'>Click here for the solution </font></summary>\n",
        "\n",
        "We want the same faces to have similar embeddings. Let's say we have one photo of Lyle $a$ and another photo of Lyle $p$. We want the embeddings of those photos to be very similar: we want the Euclidean distance between $\\bar{y}_a$ and $\\bar{y}_p$ (the activitys of the last layer of the CNN when photo $a$ and $p$ are fed through) to be small. \n",
        "\n",
        "So one possible cost function is:\n",
        "\n",
        "\\begin{equation}\n",
        "\\text{Cost function} = d(\\bar{y}_a, \\bar{y}_p)\n",
        "\\end{equation}\n",
        "\n",
        "Imagine if we just feed in pairs of the same face and minimize that though. There would be no motivation to ever have different embeddings, we would be only minimizing the distance between embeddings. If the CNN was smart, it would just have the same embedding for every single photo - then the cost function would equal 0!\n",
        "\n",
        "This is clearly not what we want. We want to motivate the CNN to have similar embeddings only when the faces are the same. This means we need to also train it to maximize distance when the faces are different.\n",
        "\n",
        "We could choose another two photos of different people and maximize that distance but then there's no relation to the embeddings we've already established of the two photos of Lyle.  Instead, we will add one more photo to the mix: a photo of Konrad $n$. We want the distance of this photo to be far from our original photos of Lyle $a$ and $p$.  So we want the distance between $a$ and $p$ to be small and the distance between $a$ and $n$ for example to be large:\n",
        "\n",
        "\\begin{equation}\n",
        "\\text{Cost function} = d(\\bar{y}_a, \\bar{y}_p) - d(\\bar{y}_a, \\bar{y}_n)\n",
        "\\end{equation}\n",
        "\n",
        "We could compare $n$ to both $a$ and $p$:\n",
        "\\begin{equation}\n",
        "\\text{Cost function} = d(\\bar{y}_a, \\bar{y}_p) - d(\\bar{y}_a, \\bar{y}_n) - d(\\bar{y}_p, \\bar{y}_n)\n",
        "\\end{equation}\n",
        "\n",
        "But then the cost function is a bit unbalanced, there are two dissimiliarty terms and they might dominate (so achieving the similarity is less important). So let's go with just including one dissimilarity term.\n",
        "\n",
        "This is an established cost function - triplet loss! We chose the subscripts $a$, $p$, and $n$ for a reason: we have an anchor image, a positive image (the same person's face as the anchor) and a negative image (a different person's face as the anchor). We can then sum over N data points where each data point is a set of three images: \n",
        "\n",
        "\\begin{equation}\n",
        "\\text{Cost function} = \\sum_{i=1}^N [d(\\bar{y}_{a, i}, \\bar{y}_{p, i}) - d(\\bar{y}_{a, i}, \\bar{y}_{n, i})]\n",
        "\\end{equation}\n",
        "\n",
        "There's one little addition in triplet loss. Instead of just using the above cost function, researchers add a constant $\\alpha$ and then make the cost function 0 if it becomes negative. Why do you think they do this?\n",
        "\n",
        "\\begin{equation}\n",
        "\\text{Cost function} = \\text{max} \\left( \\sum_{i=1}^N \\left[ d(\\bar{y}_{a, i}, \\bar{y}_{p, i}) - d(\\bar{y}_{a, i}, \\bar{y}_{n, i}) + \\alpha \\right], 0 \\right)\n",
        "\\end{equation}"
      ],
      "metadata": {
        "id": "Sj8D9m0NYLlx"
      }
    },
    {
      "cell_type": "code",
      "source": [
        "# @title Video 9: Embedding Faces Wrap-up\n",
        "from ipywidgets import widgets\n",
        "\n",
        "out2 = widgets.Output()\n",
        "with out2:\n",
        "  from IPython.display import IFrame\n",
        "  class BiliVideo(IFrame):\n",
        "    def __init__(self, id, page=1, width=400, height=300, **kwargs):\n",
        "      self.id=id\n",
        "      src = \"https://player.bilibili.com/player.html?bvid={0}&page={1}\".format(id, page)\n",
        "      super(BiliVideo, self).__init__(src, width, height, **kwargs)\n",
        "\n",
        "  video = BiliVideo(id=f\"\", width=854, height=480, fs=1)\n",
        "  print(\"Video available at https://www.bilibili.com/video/{0}\".format(video.id))\n",
        "  display(video)\n",
        "\n",
        "out1 = widgets.Output()\n",
        "with out1:\n",
        "  from IPython.display import YouTubeVideo\n",
        "  video = YouTubeVideo(id=f\"mVk1W7x6Nps\", width=854, height=480, fs=1, rel=0)\n",
        "  print(\"Video available at https://youtube.com/watch?v=\" + video.id)\n",
        "  display(video)\n",
        "\n",
        "out = widgets.Tab([out1, out2])\n",
        "out.set_title(0, 'Youtube')\n",
        "out.set_title(1, 'Bilibili')\n",
        "\n",
        "\n",
        "display(out)"
      ],
      "metadata": {
        "cellView": "form",
        "colab": {
          "base_uri": "https://localhost:8080/",
          "height": 581,
          "referenced_widgets": [
            "eb882fd9e59d44398501d5a1ccc3db9a",
            "bd9a3da337314969a728afc22bdb317e",
            "d56b90b5bfd647599a97fead5a43caa7",
            "398a4f45f4ea42cb9bf0209a59a5fa29",
            "97a74c733dc94c70a79fbe9c4026d278",
            "bb42da9e39b240e2b8bbfdebe5944202"
          ]
        },
        "id": "Ch6pJy4tRMIW",
        "outputId": "143cef8b-61d6-471f-b534-2a1750a17a9c"
      },
      "execution_count": 11,
      "outputs": [
        {
          "output_type": "display_data",
          "data": {
            "text/plain": [
              "Tab(children=(Output(), Output()), _titles={'0': 'Youtube', '1': 'Bilibili'})"
            ],
            "application/vnd.jupyter.widget-view+json": {
              "version_major": 2,
              "version_minor": 0,
              "model_id": "eb882fd9e59d44398501d5a1ccc3db9a"
            }
          },
          "metadata": {}
        }
      ]
    },
    {
      "cell_type": "markdown",
      "source": [
        "Check out the papers mentioned in the above video:\n",
        "\n",
        "- [Large Scale Online Learning of Image Similarity Through Ranking](https://www.jmlr.org/papers/volume11/chechik10a/chechik10a.pdf)\n"
      ],
      "metadata": {
        "id": "wgKV0_4WU5Su"
      }
    },
    {
      "cell_type": "markdown",
      "source": [
        "---\n",
        "# Summary\n",
        "\n",
        "Today we have seen a range of different cost functions. So we want to dwell a bit on what we want people to take away from these exercises. We have seen several cost functions:\n",
        "\n",
        "* Log Poisson likelihood for neurons\n",
        "* Uncertainty as a modeled entity\n",
        "* Face embeddings\n",
        "\n",
        "What we saw in all these cases is that these cost functions emerge from insights into the problem domain. We saw how one needs to, in a way, pull these insights out of the domain experts. And how, at the same time, the cost functions come from computational insights. Coming up with the proper cost functions requires listening to what domain experts say and probing the things they may mean but not say."
      ],
      "metadata": {
        "id": "9nE6ipb4wHRY"
      }
    }
  ]
}