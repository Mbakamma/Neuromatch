{
  "cells": [
    {
      "cell_type": "markdown",
      "metadata": {
        "id": "view-in-github",
        "colab_type": "text"
      },
      "source": [
        "<a href=\"https://colab.research.google.com/github/NeuromatchAcademy/course-content-dl/blob/updates/tutorials/W3D1_TimeSeriesAndNaturalLanguageProcessing/W3D1_Tutorial1.ipynb\" target=\"_parent\"><img src=\"https://colab.research.google.com/assets/colab-badge.svg\" alt=\"Open In Colab\"/></a>"
      ]
    },
    {
      "cell_type": "markdown",
      "metadata": {
        "execution": {},
        "id": "jVcNXpPbU_nP"
      },
      "source": [
        "# Tutorial 1: Introduction to processing time series\n",
        "\n",
        "**Week 2, Day 5: Time Series And Natural Language Processing**\n",
        "\n",
        "**By Neuromatch Academy**\n",
        "\n",
        "__Content creators:__ Lyle Ungar, Kelson Shilling-Scrivo, Alish Dipani\n",
        "\n",
        "__Content reviewers:__ Kelson Shilling-Scrivo\n",
        "\n",
        "__Content editors:__ Gagana B, Spiros Chavlis, Kelson Shilling-Scrivo\n",
        "\n",
        "__Production editors:__ Gagana B, Spiros Chavlis\n",
        "\n",
        "<br>\n",
        "\n",
        "_Based on Content from: Anushree Hede, Pooja Consul, Ann-Katrin Reuel_"
      ]
    },
    {
      "cell_type": "markdown",
      "metadata": {
        "execution": {},
        "id": "JwIU5vCrU_nQ"
      },
      "source": [
        "<p align='center'><img src='https://github.com/NeuromatchAcademy/widgets/blob/master/sponsors.png?raw=True'/></p>"
      ]
    },
    {
      "cell_type": "markdown",
      "metadata": {
        "execution": {},
        "id": "kNkyAC74U_nQ"
      },
      "source": [
        "----\n",
        "# Tutorial objectives\n",
        "\n",
        "Before we begin exploring how Recurrent Neural Networks (RNNs) excel at modeling sequences, we will explore other ways we can model sequences, encode text, and make meaningful measurements using such encodings and embeddings."
      ]
    },
    {
      "cell_type": "code",
      "execution_count": 1,
      "metadata": {
        "cellView": "form",
        "execution": {},
        "id": "umosxUWHU_nR",
        "outputId": "a36f27f9-d426-4c85-a208-4c3057cff0c2",
        "colab": {
          "base_uri": "https://localhost:8080/",
          "height": 503
        }
      },
      "outputs": [
        {
          "output_type": "execute_result",
          "data": {
            "text/plain": [
              "<IPython.lib.display.IFrame at 0x7f56a294e770>"
            ],
            "text/html": [
              "\n",
              "        <iframe\n",
              "            width=\"854\"\n",
              "            height=\"480\"\n",
              "            src=\"https://mfr.ca-1.osf.io/render?url=https://osf.io/n263c/?direct%26mode=render%26action=download%26mode=render\"\n",
              "            frameborder=\"0\"\n",
              "            allowfullscreen\n",
              "            \n",
              "        ></iframe>\n",
              "        "
            ]
          },
          "metadata": {},
          "execution_count": 1
        }
      ],
      "source": [
        "# @title Tutorial slides\n",
        "\n",
        "from IPython.display import IFrame\n",
        "IFrame(src=\"https://mfr.ca-1.osf.io/render?url=https://osf.io/n263c/?direct%26mode=render%26action=download%26mode=render\", width=854, height=480)"
      ]
    },
    {
      "cell_type": "markdown",
      "metadata": {
        "execution": {},
        "id": "sh_irZU2U_nR"
      },
      "source": [
        "These are the slides for the videos in this tutorial. If you want to locally download the slides, click [here](https://osf.io/n263c/download)."
      ]
    },
    {
      "cell_type": "markdown",
      "metadata": {
        "execution": {},
        "id": "MNGgYMlCU_nR"
      },
      "source": [
        "---\n",
        "# Setup"
      ]
    },
    {
      "cell_type": "code",
      "execution_count": 2,
      "metadata": {
        "cellView": "form",
        "execution": {},
        "id": "X--beXpVU_nS",
        "outputId": "07368237-21b5-4903-d15b-c75d746b8b2b",
        "colab": {
          "base_uri": "https://localhost:8080/"
        }
      },
      "outputs": [
        {
          "output_type": "stream",
          "name": "stdout",
          "text": [
            "\u001b[2K     \u001b[90m━━━━━━━━━━━━━━━━━━━━━━━━━━━━━━━━━━━━━━━\u001b[0m \u001b[32m174.1/174.1 kB\u001b[0m \u001b[31m5.1 MB/s\u001b[0m eta \u001b[36m0:00:00\u001b[0m\n",
            "\u001b[2K     \u001b[90m━━━━━━━━━━━━━━━━━━━━━━━━━━━━━━━━━━━━━━━━\u001b[0m \u001b[32m3.0/3.0 MB\u001b[0m \u001b[31m34.0 MB/s\u001b[0m eta \u001b[36m0:00:00\u001b[0m\n",
            "\u001b[?25h"
          ]
        }
      ],
      "source": [
        "# @title Install dependencies\n",
        "\n",
        "# @markdown There may be *errors* and/or *warnings* reported during the installation. However, they are to be ignored.\n",
        "!pip install --upgrade gensim --quiet\n",
        "!pip install nltk --quiet\n",
        "!pip install python-Levenshtein --quiet\n",
        "!pip install portalocker>=2.0.0 --quiet"
      ]
    },
    {
      "cell_type": "code",
      "execution_count": 3,
      "metadata": {
        "cellView": "form",
        "execution": {},
        "id": "1YFCd9BrU_nS",
        "outputId": "5dcc7eb8-cfd8-4ec7-d0cf-a456acb43468",
        "colab": {
          "base_uri": "https://localhost:8080/"
        }
      },
      "outputs": [
        {
          "output_type": "stream",
          "name": "stdout",
          "text": [
            "Downloading Started...\n",
            "Downloading Completed.\n",
            "Extracting all the files now...\n",
            "Done!\n",
            "  Preparing metadata (setup.py) ... \u001b[?25l\u001b[?25hdone\n",
            "  Building wheel for fasttext (setup.py) ... \u001b[?25l\u001b[?25hdone\n"
          ]
        }
      ],
      "source": [
        "# @title Install fastText\n",
        "# @markdown If you want to see the original code, go to [GitHub repo](https://github.com/facebookresearch/fastText.git).\n",
        "\n",
        "# !pip install git+https://github.com/facebookresearch/fastText.git --quiet\n",
        "\n",
        "import os, zipfile, requests\n",
        "\n",
        "url = \"https://osf.io/vkuz7/download\"\n",
        "fname = \"fastText-main.zip\"\n",
        "\n",
        "print('Downloading Started...')\n",
        "# Downloading the file by sending the request to the URL\n",
        "r = requests.get(url, stream=True)\n",
        "\n",
        "# Writing the file to the local file system\n",
        "with open(fname, 'wb') as f:\n",
        "  f.write(r.content)\n",
        "print('Downloading Completed.')\n",
        "\n",
        "# opening the zip file in READ mode\n",
        "with zipfile.ZipFile(fname, 'r') as zipObj:\n",
        "  # extracting all the files\n",
        "  print('Extracting all the files now...')\n",
        "  zipObj.extractall()\n",
        "  print('Done!')\n",
        "  os.remove(fname)\n",
        "\n",
        "# Install the package\n",
        "!pip install fastText-main/ --quiet"
      ]
    },
    {
      "cell_type": "code",
      "execution_count": 4,
      "metadata": {
        "execution": {},
        "id": "HcTr6L-fU_nS"
      },
      "outputs": [],
      "source": [
        "# Imports\n",
        "import time\n",
        "import nltk\n",
        "import fasttext\n",
        "\n",
        "import numpy as np\n",
        "import matplotlib.pyplot as plt\n",
        "\n",
        "from nltk.corpus import brown\n",
        "from nltk.tokenize import word_tokenize\n",
        "from gensim.models import Word2Vec\n",
        "\n",
        "import torch.nn as nn\n",
        "from torch.nn import functional as F\n",
        "\n",
        "from torchtext import datasets\n",
        "from collections import Counter\n",
        "from torchtext.vocab import vocab as Vocab\n",
        "from torch.utils.data import DataLoader\n",
        "from torch.nn.utils.rnn import pad_sequence\n",
        "from torchtext.datasets import IMDB, AG_NEWS\n",
        "from torchtext.data.utils import get_tokenizer\n",
        "from torchtext.vocab import build_vocab_from_iterator\n",
        "from torch.utils.data.dataset import random_split\n",
        "from torchtext.data.functional import to_map_style_dataset\n",
        "\n",
        "from torchtext.vocab import FastText"
      ]
    },
    {
      "cell_type": "code",
      "execution_count": 5,
      "metadata": {
        "cellView": "form",
        "execution": {},
        "id": "YQQ2QtVbU_nS"
      },
      "outputs": [],
      "source": [
        "# @title Figure Settings\n",
        "import ipywidgets as widgets\n",
        "%matplotlib inline\n",
        "%config InlineBackend.figure_format = 'retina'\n",
        "plt.style.use(\"https://raw.githubusercontent.com/NeuromatchAcademy/content-creation/main/nma.mplstyle\")"
      ]
    },
    {
      "cell_type": "code",
      "execution_count": 6,
      "metadata": {
        "cellView": "form",
        "execution": {},
        "id": "SL9YTQJyU_nT",
        "outputId": "61581b58-393f-4bc5-cce8-20b5b1664a27",
        "colab": {
          "base_uri": "https://localhost:8080/"
        }
      },
      "outputs": [
        {
          "output_type": "stream",
          "name": "stderr",
          "text": [
            "[nltk_data] Downloading package punkt to /root/nltk_data...\n",
            "[nltk_data]   Unzipping tokenizers/punkt.zip.\n",
            "[nltk_data] Downloading package brown to /root/nltk_data...\n",
            "[nltk_data]   Unzipping corpora/brown.zip.\n"
          ]
        },
        {
          "output_type": "execute_result",
          "data": {
            "text/plain": [
              "True"
            ]
          },
          "metadata": {},
          "execution_count": 6
        }
      ],
      "source": [
        "# @title  Load Dataset from `nltk`\n",
        "# No critical warnings, so we suppress it\n",
        "import warnings\n",
        "warnings.simplefilter(\"ignore\")\n",
        "\n",
        "nltk.download('punkt')\n",
        "nltk.download('brown')"
      ]
    },
    {
      "cell_type": "code",
      "execution_count": 7,
      "metadata": {
        "cellView": "form",
        "execution": {},
        "id": "mu7OessjU_nT"
      },
      "outputs": [],
      "source": [
        "# @title Helper functions\n",
        "import requests\n",
        "\n",
        "\n",
        "def download_file_from_google_drive(id, destination):\n",
        "  URL = \"https://docs.google.com/uc?export=download\"\n",
        "  session = requests.Session()\n",
        "  response = session.get(URL, params={'id': id}, stream=True)\n",
        "  token = get_confirm_token(response)\n",
        "\n",
        "  if token:\n",
        "    params = {'id': id, 'confirm': token}\n",
        "    response = session.get(URL, params=params, stream=True)\n",
        "\n",
        "  save_response_content(response, destination)\n",
        "\n",
        "\n",
        "def get_confirm_token(response):\n",
        "  for key, value in response.cookies.items():\n",
        "    if key.startswith('download_warning'):\n",
        "      return value\n",
        "\n",
        "  return None\n",
        "\n",
        "\n",
        "def save_response_content(response, destination):\n",
        "  CHUNK_SIZE = 32768\n",
        "  with open(destination, \"wb\") as f:\n",
        "    for chunk in response.iter_content(CHUNK_SIZE):\n",
        "      if chunk:  # filter out keep-alive new chunks\n",
        "        f.write(chunk)"
      ]
    },
    {
      "cell_type": "code",
      "execution_count": 8,
      "metadata": {
        "cellView": "form",
        "execution": {},
        "id": "KFvMDzvZU_nT"
      },
      "outputs": [],
      "source": [
        "# @title Set random seed\n",
        "\n",
        "# @markdown Executing `set_seed(seed=seed)` you are setting the seed\n",
        "\n",
        "# For DL its critical to set the random seed so that students can have a\n",
        "# baseline to compare their results to expected results.\n",
        "# Read more here: https://pytorch.org/docs/stable/notes/randomness.html\n",
        "\n",
        "# Call `set_seed` function in the exercises to ensure reproducibility.\n",
        "import random\n",
        "import torch\n",
        "\n",
        "def set_seed(seed=None, seed_torch=True):\n",
        "  \"\"\"\n",
        "  Function that controls randomness.\n",
        "  NumPy and random modules must be imported.\n",
        "\n",
        "  Args:\n",
        "    seed : Integer\n",
        "      A non-negative integer that defines the random state. Default is `None`.\n",
        "    seed_torch : Boolean\n",
        "      If `True` sets the random seed for pytorch tensors, so pytorch module\n",
        "      must be imported. Default is `True`.\n",
        "\n",
        "  Returns:\n",
        "    Nothing.\n",
        "  \"\"\"\n",
        "  if seed is None:\n",
        "    seed = np.random.choice(2 ** 32)\n",
        "  random.seed(seed)\n",
        "  np.random.seed(seed)\n",
        "  if seed_torch:\n",
        "    torch.manual_seed(seed)\n",
        "    torch.cuda.manual_seed_all(seed)\n",
        "    torch.cuda.manual_seed(seed)\n",
        "    torch.backends.cudnn.benchmark = False\n",
        "    torch.backends.cudnn.deterministic = True\n",
        "\n",
        "  print(f'Random seed {seed} has been set.')\n",
        "\n",
        "# In case that `DataLoader` is used\n",
        "def seed_worker(worker_id):\n",
        "  \"\"\"\n",
        "  DataLoader will reseed workers following randomness in\n",
        "  multi-process data loading algorithm.\n",
        "\n",
        "  Args:\n",
        "    worker_id: integer\n",
        "      ID of subprocess to seed. 0 means that\n",
        "      the data will be loaded in the main process\n",
        "      Refer: https://pytorch.org/docs/stable/data.html#data-loading-randomness for more details\n",
        "\n",
        "  Returns:\n",
        "    Nothing\n",
        "  \"\"\"\n",
        "  worker_seed = torch.initial_seed() % 2**32\n",
        "  np.random.seed(worker_seed)\n",
        "  random.seed(worker_seed)"
      ]
    },
    {
      "cell_type": "code",
      "execution_count": 9,
      "metadata": {
        "cellView": "form",
        "execution": {},
        "id": "RqfeqSy_U_nT"
      },
      "outputs": [],
      "source": [
        "# @title Set device (GPU or CPU). Execute `set_device()`\n",
        "\n",
        "# Inform the user if the notebook uses GPU or CPU.\n",
        "\n",
        "def set_device():\n",
        "  \"\"\"\n",
        "  Set the device. CUDA if available, CPU otherwise\n",
        "\n",
        "  Args:\n",
        "    None\n",
        "\n",
        "  Returns:\n",
        "    Nothing\n",
        "  \"\"\"\n",
        "  device = \"cuda\" if torch.cuda.is_available() else \"cpu\"\n",
        "  if device != \"cuda\":\n",
        "    print(\"WARNING: For this notebook to perform best, \"\n",
        "        \"if possible, in the menu under `Runtime` -> \"\n",
        "        \"`Change runtime type.`  select `GPU` \")\n",
        "  else:\n",
        "    print(\"GPU is enabled in this notebook.\")\n",
        "\n",
        "  return device"
      ]
    },
    {
      "cell_type": "code",
      "execution_count": 10,
      "metadata": {
        "execution": {},
        "id": "OdRc9vK_U_nT",
        "outputId": "9f032b70-0383-4a4d-ffeb-b59d7b0d525f",
        "colab": {
          "base_uri": "https://localhost:8080/"
        }
      },
      "outputs": [
        {
          "output_type": "stream",
          "name": "stdout",
          "text": [
            "GPU is enabled in this notebook.\n",
            "Random seed 2021 has been set.\n"
          ]
        }
      ],
      "source": [
        "DEVICE = set_device()\n",
        "SEED = 2021\n",
        "set_seed(seed=SEED)"
      ]
    },
    {
      "cell_type": "markdown",
      "metadata": {
        "execution": {},
        "id": "Jkr5TxN6U_nU"
      },
      "source": [
        "---\n",
        "# Section 1: Intro: What time series are there?\n",
        "\n",
        "*Time estimate: 20 mins*"
      ]
    },
    {
      "cell_type": "code",
      "execution_count": null,
      "metadata": {
        "cellView": "form",
        "execution": {},
        "id": "F5biQCPBU_nU"
      },
      "outputs": [],
      "source": [
        "# @title Video 1: Time Series and NLP\n",
        "from ipywidgets import widgets\n",
        "from IPython.display import YouTubeVideo\n",
        "from IPython.display import IFrame\n",
        "from IPython.display import display\n",
        "\n",
        "\n",
        "class PlayVideo(IFrame):\n",
        "  def __init__(self, id, source, page=1, width=400, height=300, **kwargs):\n",
        "    self.id = id\n",
        "    if source == 'Bilibili':\n",
        "      src = f'https://player.bilibili.com/player.html?bvid={id}&page={page}'\n",
        "    elif source == 'Osf':\n",
        "      src = f'https://mfr.ca-1.osf.io/render?url=https://osf.io/download/{id}/?direct%26mode=render'\n",
        "    super(PlayVideo, self).__init__(src, width, height, **kwargs)\n",
        "\n",
        "\n",
        "def display_videos(video_ids, W=400, H=300, fs=1):\n",
        "  tab_contents = []\n",
        "  for i, video_id in enumerate(video_ids):\n",
        "    out = widgets.Output()\n",
        "    with out:\n",
        "      if video_ids[i][0] == 'Youtube':\n",
        "        video = YouTubeVideo(id=video_ids[i][1], width=W,\n",
        "                             height=H, fs=fs, rel=0)\n",
        "        print(f'Video available at https://youtube.com/watch?v={video.id}')\n",
        "      else:\n",
        "        video = PlayVideo(id=video_ids[i][1], source=video_ids[i][0], width=W,\n",
        "                          height=H, fs=fs, autoplay=False)\n",
        "        if video_ids[i][0] == 'Bilibili':\n",
        "          print(f'Video available at https://www.bilibili.com/video/{video.id}')\n",
        "        elif video_ids[i][0] == 'Osf':\n",
        "          print(f'Video available at https://osf.io/{video.id}')  \n",
        "      display(video)\n",
        "    tab_contents.append(out)\n",
        "  return tab_contents\n",
        "\n",
        "\n",
        "video_ids = [('Youtube', 'W4RTRXt7pO0'), ('Bilibili', 'BV1E94y117Nf')]\n",
        "tab_contents = display_videos(video_ids, W=854, H=480)\n",
        "tabs = widgets.Tab()\n",
        "tabs.children = tab_contents\n",
        "for i in range(len(tab_contents)):\n",
        "  tabs.set_title(i, video_ids[i][0])\n",
        "display(tabs)"
      ]
    },
    {
      "cell_type": "code",
      "execution_count": null,
      "metadata": {
        "cellView": "form",
        "execution": {},
        "id": "aTppmfOvU_nU"
      },
      "outputs": [],
      "source": [
        "# @title Video 2: What is NLP?\n",
        "from ipywidgets import widgets\n",
        "from IPython.display import YouTubeVideo\n",
        "from IPython.display import IFrame\n",
        "from IPython.display import display\n",
        "\n",
        "\n",
        "class PlayVideo(IFrame):\n",
        "  def __init__(self, id, source, page=1, width=400, height=300, **kwargs):\n",
        "    self.id = id\n",
        "    if source == 'Bilibili':\n",
        "      src = f'https://player.bilibili.com/player.html?bvid={id}&page={page}'\n",
        "    elif source == 'Osf':\n",
        "      src = f'https://mfr.ca-1.osf.io/render?url=https://osf.io/download/{id}/?direct%26mode=render'\n",
        "    super(PlayVideo, self).__init__(src, width, height, **kwargs)\n",
        "\n",
        "\n",
        "def display_videos(video_ids, W=400, H=300, fs=1):\n",
        "  tab_contents = []\n",
        "  for i, video_id in enumerate(video_ids):\n",
        "    out = widgets.Output()\n",
        "    with out:\n",
        "      if video_ids[i][0] == 'Youtube':\n",
        "        video = YouTubeVideo(id=video_ids[i][1], width=W,\n",
        "                             height=H, fs=fs, rel=0)\n",
        "        print(f'Video available at https://youtube.com/watch?v={video.id}')\n",
        "      else:\n",
        "        video = PlayVideo(id=video_ids[i][1], source=video_ids[i][0], width=W,\n",
        "                          height=H, fs=fs, autoplay=False)\n",
        "        if video_ids[i][0] == 'Bilibili':\n",
        "          print(f'Video available at https://www.bilibili.com/video/{video.id}')\n",
        "        elif video_ids[i][0] == 'Osf':\n",
        "          print(f'Video available at https://osf.io/{video.id}')  \n",
        "      display(video)\n",
        "    tab_contents.append(out)\n",
        "  return tab_contents\n",
        "\n",
        "\n",
        "video_ids = [('Youtube', 'Q-PGZyaBQVk'), ('Bilibili', 'BV18v4y1M7GF')]\n",
        "tab_contents = display_videos(video_ids, W=854, H=480)\n",
        "tabs = widgets.Tab()\n",
        "tabs.children = tab_contents\n",
        "for i in range(len(tab_contents)):\n",
        "  tabs.set_title(i, video_ids[i][0])\n",
        "display(tabs)"
      ]
    },
    {
      "cell_type": "markdown",
      "metadata": {
        "execution": {},
        "id": "cX0T_up7U_nU"
      },
      "source": [
        "---\n",
        "# Section 2: Embeddings\n",
        "\n",
        "*Time estimate: 50 mins*"
      ]
    },
    {
      "cell_type": "code",
      "execution_count": null,
      "metadata": {
        "cellView": "form",
        "execution": {},
        "id": "NUAyCi9lU_nU"
      },
      "outputs": [],
      "source": [
        "# @title Video 3: Embeddings Rule!\n",
        "from ipywidgets import widgets\n",
        "from IPython.display import YouTubeVideo\n",
        "from IPython.display import IFrame\n",
        "from IPython.display import display\n",
        "\n",
        "\n",
        "class PlayVideo(IFrame):\n",
        "  def __init__(self, id, source, page=1, width=400, height=300, **kwargs):\n",
        "    self.id = id\n",
        "    if source == 'Bilibili':\n",
        "      src = f'https://player.bilibili.com/player.html?bvid={id}&page={page}'\n",
        "    elif source == 'Osf':\n",
        "      src = f'https://mfr.ca-1.osf.io/render?url=https://osf.io/download/{id}/?direct%26mode=render'\n",
        "    super(PlayVideo, self).__init__(src, width, height, **kwargs)\n",
        "\n",
        "\n",
        "def display_videos(video_ids, W=400, H=300, fs=1):\n",
        "  tab_contents = []\n",
        "  for i, video_id in enumerate(video_ids):\n",
        "    out = widgets.Output()\n",
        "    with out:\n",
        "      if video_ids[i][0] == 'Youtube':\n",
        "        video = YouTubeVideo(id=video_ids[i][1], width=W,\n",
        "                             height=H, fs=fs, rel=0)\n",
        "        print(f'Video available at https://youtube.com/watch?v={video.id}')\n",
        "      else:\n",
        "        video = PlayVideo(id=video_ids[i][1], source=video_ids[i][0], width=W,\n",
        "                          height=H, fs=fs, autoplay=False)\n",
        "        if video_ids[i][0] == 'Bilibili':\n",
        "          print(f'Video available at https://www.bilibili.com/video/{video.id}')\n",
        "        elif video_ids[i][0] == 'Osf':\n",
        "          print(f'Video available at https://osf.io/{video.id}')  \n",
        "      display(video)\n",
        "    tab_contents.append(out)\n",
        "  return tab_contents\n",
        "\n",
        "\n",
        "video_ids = [('Youtube', '7ijjjFpcOwI'), ('Bilibili', 'BV1KN4y1G7sL')]\n",
        "tab_contents = display_videos(video_ids, W=854, H=480)\n",
        "tabs = widgets.Tab()\n",
        "tabs.children = tab_contents\n",
        "for i in range(len(tab_contents)):\n",
        "  tabs.set_title(i, video_ids[i][0])\n",
        "display(tabs)"
      ]
    },
    {
      "cell_type": "markdown",
      "metadata": {
        "execution": {},
        "id": "03rmKDPYU_nU"
      },
      "source": [
        "## Section 2.1: Introduction\n",
        "\n",
        "[Word2vec](https://rare-technologies.com/word2vec-tutorial/) is a group of related models used to produce word embeddings. These models are shallow, two-layer neural networks trained to reconstruct linguistic contexts of words. Word2vec takes as its input a large corpus of text and produces a vector space, with each unique word in the corpus being assigned a corresponding vector in the space."
      ]
    },
    {
      "cell_type": "markdown",
      "metadata": {
        "execution": {},
        "id": "KtuGiSwcU_nV"
      },
      "source": [
        "### Creating Word Embeddings\n",
        "\n",
        "We will create embeddings for a subset of categories in [Brown corpus](https://www1.essex.ac.uk/linguistics/external/clmt/w3c/corpus_ling/content/corpora/list/private/brown/brown.html). To achieve this task we will use [gensim](https://radimrehurek.com/gensim/) library to create word2vec embeddings. Gensim’s word2vec expects a sequence of sentences as its input. Each sentence is a list of words.\n",
        "\n",
        "Calling Word2Vec(sentences, `iter=1`) will run two passes over the sentences iterator (generally, `iter+1` passes). The first pass collects words and their frequencies to build an internal dictionary tree structure. The second and subsequent passes train the neural model. \n",
        "Word2vec accepts several parameters that affect both training speed and quality.\n",
        "\n",
        "One of them is for pruning the internal dictionary. Words that appear only once or twice in a billion-word corpus are probably uninteresting typos and garbage. In addition, there are not enough data to make any meaningful training on those words, so it’s best to ignore them:\n",
        "\n",
        "```python\n",
        "model = Word2Vec(sentences, min_count=10)  # default value is 5\n",
        "```\n",
        "\n",
        "A reasonable value for `min_count` is bewteen 0-100, depending on the size of your dataset.\n",
        "\n",
        "Another parameter is the `size` of the NN layers, which correspond to the “degrees” of freedom the training algorithm has:\n",
        "\n",
        "```python\n",
        "model = Word2Vec(sentences, size=200)  # default value is 100\n",
        "```\n",
        "\n",
        "Bigger `size` values require more training data but can lead to better (more accurate) models. Reasonable values are in the tens to hundreds.\n",
        "\n",
        "The last of the major parameters (full list [here](https://radimrehurek.com/gensim/models/word2vec.html#gensim.models.word2vec.Word2Vec)) is for training parallelization, to speed up training:\n",
        "\n",
        "```python\n",
        "model = Word2Vec(sentences, workers=4)  # default = 1 worker = no parallelization\n",
        "```"
      ]
    },
    {
      "cell_type": "code",
      "execution_count": null,
      "metadata": {
        "execution": {},
        "id": "H34-ZdqPU_nV"
      },
      "outputs": [],
      "source": [
        "# Categories used for the Brown corpus\n",
        "category = ['editorial', 'fiction', 'government', 'mystery', 'news', 'religion',\n",
        "            'reviews', 'romance', 'science_fiction']"
      ]
    },
    {
      "cell_type": "code",
      "execution_count": null,
      "metadata": {
        "cellView": "form",
        "execution": {},
        "id": "p7_P2QJXU_nV"
      },
      "outputs": [],
      "source": [
        "# @markdown Word2Vec model\n",
        "\n",
        "def create_word2vec_model(category='news', size=50, sg=1, min_count=5):\n",
        "  sentences = brown.sents(categories=category)\n",
        "  model = Word2Vec(sentences, vector_size=size,\n",
        "                   sg=sg, min_count=min_count)\n",
        "  return model\n",
        "\n",
        "\n",
        "def model_dictionary(model):\n",
        "  print(w2vmodel.wv)\n",
        "  words = list(w2vmodel.wv)\n",
        "  return words\n",
        "\n",
        "\n",
        "def get_embedding(word, model):\n",
        "  if word in w2vmodel.wv:\n",
        "    return model.wv[word]\n",
        "  else:\n",
        "    return None"
      ]
    },
    {
      "cell_type": "markdown",
      "metadata": {
        "execution": {},
        "id": "ArTNd-wPU_nV"
      },
      "source": [
        "The cell will take 30-45 seconds to run."
      ]
    },
    {
      "cell_type": "code",
      "execution_count": null,
      "metadata": {
        "execution": {},
        "id": "UiDvW5NvU_nV"
      },
      "outputs": [],
      "source": [
        "# Create a word2vec model based on categories from Brown corpus\n",
        "w2vmodel = create_word2vec_model(category)"
      ]
    },
    {
      "cell_type": "markdown",
      "metadata": {
        "execution": {},
        "id": "DUCsbM9HU_nV"
      },
      "source": [
        "You can get the embedding vector for a word in the dictionary."
      ]
    },
    {
      "cell_type": "code",
      "execution_count": null,
      "metadata": {
        "execution": {},
        "id": "OmDeEcFnU_nV"
      },
      "outputs": [],
      "source": [
        "# get word list from Brown corpus\n",
        "brown_wordlist = list(brown.words(categories=category))\n",
        "# generate a random word\n",
        "random_word = random.sample(brown_wordlist, 1)[0]\n",
        "# get embedding of the random word\n",
        "random_word_embedding = get_embedding(random_word, w2vmodel)\n",
        "print(f'Embedding of \"{random_word}\" is {random_word_embedding}')"
      ]
    },
    {
      "cell_type": "markdown",
      "metadata": {
        "execution": {},
        "id": "O6l1RaG7U_nW"
      },
      "source": [
        "### Visualizing Word Embeddings\n",
        "\n",
        "We can now obtain the word embeddings for any word in the dictionary using word2vec. Let's visualize these embeddings to get an intuition of what these embeddings mean. The word embeddings obtained from the word2vec model are in high dimensional space, and we will use tSNE to pick the two features that capture the most variance in the embeddings to represent them in a 2D space.\n",
        "\n",
        "For each word in `keys`, we pick the top 10 similar words (using cosine similarity) and plot them.\n",
        "\n",
        "Before you run the code, spend some time to think:\n",
        "\n",
        "- What should be the arrangement of similar words?\n",
        "- What should be the arrangement of the critical clusters with respect to each other?"
      ]
    },
    {
      "cell_type": "code",
      "execution_count": null,
      "metadata": {
        "execution": {},
        "id": "-G1-50xSU_nW"
      },
      "outputs": [],
      "source": [
        "keys = ['voters', 'magic', 'love', 'God', 'evidence', 'administration', 'governments']"
      ]
    },
    {
      "cell_type": "code",
      "execution_count": null,
      "metadata": {
        "cellView": "form",
        "execution": {},
        "id": "5NmsG6LVU_nW"
      },
      "outputs": [],
      "source": [
        "# @markdown ### Cluster embeddings related functions\n",
        "\n",
        "# @markdown **Note:** We import [sklearn.manifold.TSNE](https://scikit-learn.org/stable/modules/generated/sklearn.manifold.TSNE.html)\n",
        "from sklearn.manifold import TSNE\n",
        "import matplotlib.cm as cm\n",
        "\n",
        "def get_cluster_embeddings(keys):\n",
        "  embedding_clusters = []\n",
        "  word_clusters = []\n",
        "\n",
        "  # find closest words and add them to cluster\n",
        "  for word in keys:\n",
        "    embeddings = []\n",
        "    words = []\n",
        "    if not word in w2vmodel.wv:\n",
        "      print(f'The word {word} is not in the dictionary')\n",
        "      continue\n",
        "\n",
        "    for similar_word, _ in w2vmodel.wv.most_similar(word, topn=10):\n",
        "      words.append(similar_word)\n",
        "      embeddings.append(w2vmodel.wv[similar_word])\n",
        "    embeddings.append(get_embedding(word, w2vmodel))\n",
        "    words.append(word)\n",
        "    embedding_clusters.append(embeddings)\n",
        "    word_clusters.append(words)\n",
        "\n",
        "  # get embeddings for the words in clusers\n",
        "  embedding_clusters = np.array(embedding_clusters)\n",
        "  n, m, k = embedding_clusters.shape\n",
        "  tsne_model_en_2d = TSNE(perplexity=10, n_components=2, init='pca', n_iter=3500, random_state=32)\n",
        "  embeddings_en_2d = np.array(tsne_model_en_2d.fit_transform(embedding_clusters.reshape(n * m, k))).reshape(n, m, 2)\n",
        "  return embeddings_en_2d, word_clusters\n",
        "\n",
        "\n",
        "def tsne_plot_similar_words(title, labels, embedding_clusters,\n",
        "                            word_clusters, opacity, filename=None):\n",
        "  plt.figure(figsize=(16, 9))\n",
        "  colors = cm.rainbow(np.linspace(0, 1, len(labels)))\n",
        "  for label, embeddings, words, color in zip(labels, embedding_clusters, word_clusters, colors):\n",
        "    x = embeddings[:, 0]\n",
        "    y = embeddings[:, 1]\n",
        "    plt.scatter(x, y, color=color, alpha=opacity, label=label)\n",
        "    # Plot the cluster centroids\n",
        "    plt.plot(np.mean(x), np.mean(y), 'x', color=color, markersize=16)\n",
        "    for i, word in enumerate(words):\n",
        "      size = 10 if i < 10 else 14\n",
        "      plt.annotate(word, alpha=0.5, xy=(x[i], y[i]), xytext=(5, 2),\n",
        "                    textcoords='offset points',\n",
        "                    ha='right', va='bottom', size=size)\n",
        "  plt.legend()\n",
        "  plt.title(title)\n",
        "  plt.grid(True)\n",
        "  if filename:\n",
        "    plt.savefig(filename, format='png', dpi=150, bbox_inches='tight')\n",
        "  plt.show()"
      ]
    },
    {
      "cell_type": "code",
      "execution_count": null,
      "metadata": {
        "execution": {},
        "id": "YjfN_YR9U_nW"
      },
      "outputs": [],
      "source": [
        "# Get closest words to the keys and get clusters of these words\n",
        "embeddings_en_2d, word_clusters = get_cluster_embeddings(keys)\n",
        "# tSNE plot of similar words to keys\n",
        "tsne_plot_similar_words(title='Similar words from Brown Corpus',\n",
        "                        labels=keys,\n",
        "                        embedding_clusters=embeddings_en_2d,\n",
        "                        word_clusters=word_clusters,\n",
        "                        opacity=0.7,\n",
        "                        filename='similar_words.png')"
      ]
    },
    {
      "cell_type": "markdown",
      "metadata": {
        "execution": {},
        "id": "TjSqEQSxU_nW"
      },
      "source": [
        "### Think! 2.1\n",
        "\n",
        "1. What does having higher similarity between two word embeddings mean?\n",
        "2. Why are cluster centroids (represented with X in the plot) close to some keys (represented with larger fonts) but farther from others?"
      ]
    },
    {
      "cell_type": "code",
      "execution_count": null,
      "metadata": {
        "execution": {},
        "id": "Z70z_fOPU_nW"
      },
      "outputs": [],
      "source": [
        "# to_remove explanation\n",
        "\n",
        "\"\"\"\n",
        "1. Cosine similarity is a metric used to measure how similar the documents\n",
        "   are, irrespective of their size. Mathematically, it calculates the cosine of the angle\n",
        "   between two vectors projected in a multi-dimensional space, i.e., when plotted\n",
        "   on a multi-dimensional space. Word embedding is a word representation in\n",
        "   a vector space. Thus, the cosine similarity captures the orientation (the angle) of\n",
        "   the words, irrespective of their magnitude. Thus, high cosine similarity\n",
        "   implies that the words in the latent space share a similar context.\n",
        "\n",
        "2. The words in the key closer to the centroid mean that the words strongly\n",
        "   co-occur in the same context as the key,\n",
        "   i.e., the correlation/representativeness between the keys closely clustered\n",
        "   with the centroid is higher than the correlation in the more diversified clusters.\n",
        "\"\"\";"
      ]
    },
    {
      "cell_type": "markdown",
      "metadata": {
        "execution": {},
        "id": "-JEMJaCSU_nW"
      },
      "source": [
        "## Section 2.2: Embedding exploration"
      ]
    },
    {
      "cell_type": "code",
      "execution_count": null,
      "metadata": {
        "cellView": "form",
        "execution": {},
        "id": "TFq-iA1iU_nW"
      },
      "outputs": [],
      "source": [
        "# @title Video 4: Embeddings rule!\n",
        "from ipywidgets import widgets\n",
        "from IPython.display import YouTubeVideo\n",
        "from IPython.display import IFrame\n",
        "from IPython.display import display\n",
        "\n",
        "\n",
        "class PlayVideo(IFrame):\n",
        "  def __init__(self, id, source, page=1, width=400, height=300, **kwargs):\n",
        "    self.id = id\n",
        "    if source == 'Bilibili':\n",
        "      src = f'https://player.bilibili.com/player.html?bvid={id}&page={page}'\n",
        "    elif source == 'Osf':\n",
        "      src = f'https://mfr.ca-1.osf.io/render?url=https://osf.io/download/{id}/?direct%26mode=render'\n",
        "    super(PlayVideo, self).__init__(src, width, height, **kwargs)\n",
        "\n",
        "\n",
        "def display_videos(video_ids, W=400, H=300, fs=1):\n",
        "  tab_contents = []\n",
        "  for i, video_id in enumerate(video_ids):\n",
        "    out = widgets.Output()\n",
        "    with out:\n",
        "      if video_ids[i][0] == 'Youtube':\n",
        "        video = YouTubeVideo(id=video_ids[i][1], width=W,\n",
        "                             height=H, fs=fs, rel=0)\n",
        "        print(f'Video available at https://youtube.com/watch?v={video.id}')\n",
        "      else:\n",
        "        video = PlayVideo(id=video_ids[i][1], source=video_ids[i][0], width=W,\n",
        "                          height=H, fs=fs, autoplay=False)\n",
        "        if video_ids[i][0] == 'Bilibili':\n",
        "          print(f'Video available at https://www.bilibili.com/video/{video.id}')\n",
        "        elif video_ids[i][0] == 'Osf':\n",
        "          print(f'Video available at https://osf.io/{video.id}')  \n",
        "      display(video)\n",
        "    tab_contents.append(out)\n",
        "  return tab_contents\n",
        "\n",
        "\n",
        "video_ids = [('Youtube', 'GLreyXm4rg8'), ('Bilibili', 'BV1ov4y1M7bQ')]\n",
        "tab_contents = display_videos(video_ids, W=854, H=480)\n",
        "tabs = widgets.Tab()\n",
        "tabs.children = tab_contents\n",
        "for i in range(len(tab_contents)):\n",
        "  tabs.set_title(i, video_ids[i][0])\n",
        "display(tabs)"
      ]
    },
    {
      "cell_type": "code",
      "execution_count": null,
      "metadata": {
        "cellView": "form",
        "execution": {},
        "id": "w9v-yF2HU_nX"
      },
      "outputs": [],
      "source": [
        "# @title Video 5: Distributional Similarity\n",
        "from ipywidgets import widgets\n",
        "from IPython.display import YouTubeVideo\n",
        "from IPython.display import IFrame\n",
        "from IPython.display import display\n",
        "\n",
        "\n",
        "class PlayVideo(IFrame):\n",
        "  def __init__(self, id, source, page=1, width=400, height=300, **kwargs):\n",
        "    self.id = id\n",
        "    if source == 'Bilibili':\n",
        "      src = f'https://player.bilibili.com/player.html?bvid={id}&page={page}'\n",
        "    elif source == 'Osf':\n",
        "      src = f'https://mfr.ca-1.osf.io/render?url=https://osf.io/download/{id}/?direct%26mode=render'\n",
        "    super(PlayVideo, self).__init__(src, width, height, **kwargs)\n",
        "\n",
        "\n",
        "def display_videos(video_ids, W=400, H=300, fs=1):\n",
        "  tab_contents = []\n",
        "  for i, video_id in enumerate(video_ids):\n",
        "    out = widgets.Output()\n",
        "    with out:\n",
        "      if video_ids[i][0] == 'Youtube':\n",
        "        video = YouTubeVideo(id=video_ids[i][1], width=W,\n",
        "                             height=H, fs=fs, rel=0)\n",
        "        print(f'Video available at https://youtube.com/watch?v={video.id}')\n",
        "      else:\n",
        "        video = PlayVideo(id=video_ids[i][1], source=video_ids[i][0], width=W,\n",
        "                          height=H, fs=fs, autoplay=False)\n",
        "        if video_ids[i][0] == 'Bilibili':\n",
        "          print(f'Video available at https://www.bilibili.com/video/{video.id}')\n",
        "        elif video_ids[i][0] == 'Osf':\n",
        "          print(f'Video available at https://osf.io/{video.id}')  \n",
        "      display(video)\n",
        "    tab_contents.append(out)\n",
        "  return tab_contents\n",
        "\n",
        "\n",
        "video_ids = [('Youtube', '0vTuEIAnrII'), ('Bilibili', 'BV1sa411W7ks')]\n",
        "tab_contents = display_videos(video_ids, W=854, H=480)\n",
        "tabs = widgets.Tab()\n",
        "tabs.children = tab_contents\n",
        "for i in range(len(tab_contents)):\n",
        "  tabs.set_title(i, video_ids[i][0])\n",
        "display(tabs)"
      ]
    },
    {
      "cell_type": "markdown",
      "metadata": {
        "execution": {},
        "id": "LSK7N72-U_nX"
      },
      "source": [
        "Words or subword units such as morphemes are the basic units we use to express meaning in language. The technique of mapping words to vectors of real numbers is known as word embedding.\n",
        "\n",
        "In this section, we will use pretrained fastText embeddings, a context-oblivious embedding similar to word2vec."
      ]
    },
    {
      "cell_type": "markdown",
      "metadata": {
        "execution": {},
        "id": "fIXPdgVPU_nX"
      },
      "source": [
        "### Embedding Manipulation\n",
        "\n",
        "Let's use the [FastText](https://fasttext.cc/) library to manipulate the embeddings. First, find the embedding for the word \"King\""
      ]
    },
    {
      "cell_type": "code",
      "execution_count": null,
      "metadata": {
        "cellView": "form",
        "execution": {},
        "id": "Na5O7WZcU_nl"
      },
      "outputs": [],
      "source": [
        "# @markdown ### Download FastText English Embeddings of dimension 100\n",
        "# @markdown This will take 1-2 minutes to run\n",
        "\n",
        "import os, zipfile, requests\n",
        "\n",
        "url = \"https://osf.io/2frqg/download\"\n",
        "fname = \"cc.en.100.bin.gz\"\n",
        "\n",
        "print('Downloading Started...')\n",
        "# Downloading the file by sending the request to the URL\n",
        "r = requests.get(url, stream=True)\n",
        "\n",
        "# Writing the file to the local file system\n",
        "with open(fname, 'wb') as f:\n",
        "  f.write(r.content)\n",
        "print('Downloading Completed.')\n",
        "\n",
        "# opening the zip file in READ mode\n",
        "with zipfile.ZipFile(fname, 'r') as zipObj:\n",
        "  # extracting all the files\n",
        "  print('Extracting all the files now...')\n",
        "  zipObj.extractall()\n",
        "  print('Done!')\n",
        "  os.remove(fname)"
      ]
    },
    {
      "cell_type": "code",
      "execution_count": null,
      "metadata": {
        "execution": {},
        "id": "CNaajX1CU_nl"
      },
      "outputs": [],
      "source": [
        "# Load 100 dimension FastText Vectors using FastText library\n",
        "ft_en_vectors = fasttext.load_model('cc.en.100.bin')\n",
        "print(f\"Length of the embedding is: {len(ft_en_vectors.get_word_vector('king'))}\")\n",
        "print(f\"\\nEmbedding for the word King is:\\n {ft_en_vectors.get_word_vector('king')}\")"
      ]
    },
    {
      "cell_type": "markdown",
      "metadata": {
        "execution": {},
        "id": "oQYbOPvSU_nm"
      },
      "source": [
        "Cosine similarity is used for similarities between words. Similarity is a scalar between 0 and 1. Higher scalar value corresponds to higher similarity.\n",
        "\n",
        "Now find the 10 most similar words to \"king\"."
      ]
    },
    {
      "cell_type": "code",
      "execution_count": null,
      "metadata": {
        "execution": {},
        "id": "DKG48elZU_nm"
      },
      "outputs": [],
      "source": [
        "ft_en_vectors.get_nearest_neighbors(\"king\", 10)  # Most similar by key"
      ]
    },
    {
      "cell_type": "markdown",
      "metadata": {
        "execution": {},
        "id": "XHAxi663U_nm"
      },
      "source": [
        "### Word Similarity\n",
        "\n",
        "More on similarity between words. Let's check how similar different pairs of word are."
      ]
    },
    {
      "cell_type": "code",
      "execution_count": null,
      "metadata": {
        "execution": {},
        "id": "40OWwhdxU_nm"
      },
      "outputs": [],
      "source": [
        "def cosine_similarity(vec_a, vec_b):\n",
        "  \"\"\"Compute cosine similarity between vec_a and vec_b\"\"\"\n",
        "  return np.dot(vec_a, vec_b) / (np.linalg.norm(vec_a) * np.linalg.norm(vec_b))\n",
        "\n",
        "\n",
        "def getSimilarity(word1, word2):\n",
        "  v1 = ft_en_vectors.get_word_vector(word1)\n",
        "  v2 = ft_en_vectors.get_word_vector(word2)\n",
        "  return cosine_similarity(v1, v2)\n",
        "\n",
        "\n",
        "print(f\"Similarity between the words King and Queen: {getSimilarity('king', 'queen')}\")\n",
        "print(f\"Similarity between the words King and Knight: {getSimilarity('king', 'knight')}\")\n",
        "print(f\"Similarity between the words King and Rock: {getSimilarity('king', 'rock')}\")\n",
        "print(f\"Similarity between the words King and Twenty: {getSimilarity('king', 'twenty')}\")\n",
        "\n",
        "print(f\"\\nSimilarity between the words Dog and Cat: {getSimilarity('dog', 'cat')}\")\n",
        "print(f\"Similarity between the words Ascending and Descending: {getSimilarity('ascending', 'descending')}\")\n",
        "print(f\"Similarity between the words Victory and Defeat: {getSimilarity('victory', 'defeat')}\")\n",
        "print(f\"Similarity between the words Less and More: {getSimilarity('less', 'more')}\")\n",
        "print(f\"Similarity between the words True and False: {getSimilarity('true', 'false')}\")"
      ]
    },
    {
      "cell_type": "code",
      "execution_count": null,
      "metadata": {
        "cellView": "form",
        "execution": {},
        "id": "CWsCNbQoU_nm"
      },
      "outputs": [],
      "source": [
        "# @title Interactive Demo 2.2.1\n",
        "\n",
        "# @markdown Check similarity between words\n",
        "\n",
        "word1 = 'King'  # @param \\ {type:\"string\"}\n",
        "word2 = 'Frog'  # @param \\ {type:\"string\"}\n",
        "word_similarity = getSimilarity(word1, word2)\n",
        "print(f'Similarity between {word1} and {word2}: {word_similarity}')"
      ]
    },
    {
      "cell_type": "markdown",
      "metadata": {
        "execution": {},
        "id": "hEO4HVX5U_nm"
      },
      "source": [
        "Using embeddings, we can find the words that appear in similar contexts. But, what happens if the word has several different meanings? "
      ]
    },
    {
      "cell_type": "markdown",
      "metadata": {
        "execution": {},
        "id": "PjWSoEejU_nm"
      },
      "source": [
        "### Homonym Similarity\n",
        "\n",
        "Homonyms are words that have the same spelling or pronunciation but different meanings depending on the context. Let's explore how these words are embedded and their similarity in different contexts."
      ]
    },
    {
      "cell_type": "code",
      "execution_count": null,
      "metadata": {
        "execution": {},
        "id": "IjMm3ahMU_nn"
      },
      "outputs": [],
      "source": [
        "#######################     Words with multiple meanings     ##########################\n",
        "print(f\"Similarity between the words Cricket and Insect: {getSimilarity('cricket', 'insect')}\")\n",
        "print(f\"Similarity between the words Cricket and Sport: {getSimilarity('cricket', 'sport')}\")"
      ]
    },
    {
      "cell_type": "code",
      "execution_count": null,
      "metadata": {
        "cellView": "form",
        "execution": {},
        "id": "0dOG5UDUU_nn"
      },
      "outputs": [],
      "source": [
        "# @title Interactive Demo 2.2.2\n",
        "\n",
        "# @markdown Explore homonyms \\\\\n",
        "\n",
        "# @markdown examples - minute (time/small), pie (graph/food)\n",
        "\n",
        "word = 'minute'  # @param \\ {type:\"string\"}\n",
        "context_word_1 = 'time'  # @param \\ {type:\"string\"}\n",
        "context_word_2 = 'small'  # @param \\ {type:\"string\"}\n",
        "word_similarity_1 = getSimilarity(word, context_word_1)\n",
        "word_similarity_2 = getSimilarity(word, context_word_2)\n",
        "print(f'Similarity between {word} and {context_word_1}: {word_similarity_1}')\n",
        "print(f'Similarity between {word} and {context_word_2}: {word_similarity_2}')"
      ]
    },
    {
      "cell_type": "markdown",
      "metadata": {
        "execution": {},
        "id": "wlWS_kCoU_nn"
      },
      "source": [
        "### Word Analogies"
      ]
    },
    {
      "cell_type": "markdown",
      "metadata": {
        "execution": {},
        "id": "G4ldz4-qU_nn"
      },
      "source": [
        "Embeddings can be used to find word analogies.\n",
        "Let's try it:\n",
        "1.   Man : Woman  ::  King : _____\n",
        "2.  Germany: Berlin :: France : _____\n",
        "3.  Leaf : Tree  ::  Petal : _____\n",
        "\n",
        "\n",
        "\n"
      ]
    },
    {
      "cell_type": "code",
      "execution_count": null,
      "metadata": {
        "execution": {},
        "id": "oT657qrIU_nn"
      },
      "outputs": [],
      "source": [
        "## Use get_analogies() funnction.\n",
        "# The words have to be in the order Positive, negative,  Positve\n",
        "\n",
        "# Man : Woman  ::  King : _____\n",
        "# Positive=(woman, king), Negative=(man)\n",
        "print(ft_en_vectors.get_analogies(\"woman\", \"man\", \"king\", 1))\n",
        "\n",
        "# Germany: Berlin :: France : ______\n",
        "# Positive=(berlin, frannce), Negative=(germany)\n",
        "print(ft_en_vectors.get_analogies(\"berlin\", \"germany\", \"france\", 1))\n",
        "\n",
        "# Leaf : Tree  ::  Petal : _____\n",
        "# Positive=(tree, petal), Negative=(leaf)\n",
        "print(ft_en_vectors.get_analogies(\"tree\", \"leaf\", \"petal\", 1))"
      ]
    },
    {
      "cell_type": "markdown",
      "metadata": {
        "execution": {},
        "id": "VvzEi-kZU_nn"
      },
      "source": [
        "But, does it always work?\n",
        "\n",
        "\n",
        "1.   Poverty : Wealth  :: Sickness : _____\n",
        "2.   train : board :: horse : _____"
      ]
    },
    {
      "cell_type": "code",
      "execution_count": null,
      "metadata": {
        "execution": {},
        "id": "3JVV7nlLU_nn"
      },
      "outputs": [],
      "source": [
        "# Poverty : Wealth  :: Sickness : _____\n",
        "print(ft_en_vectors.get_analogies(\"wealth\", \"poverty\", \"sickness\", 1))\n",
        "\n",
        "# train : board :: horse : _____\n",
        "print(ft_en_vectors.get_analogies(\"board\", \"train\", \"horse\", 1))"
      ]
    },
    {
      "cell_type": "markdown",
      "metadata": {
        "execution": {},
        "id": "NfCgr__nU_no"
      },
      "source": [
        "## Section 2.3: Neural Net with word embeddings"
      ]
    },
    {
      "cell_type": "code",
      "execution_count": null,
      "metadata": {
        "cellView": "form",
        "execution": {},
        "id": "ej_9o-fXU_no"
      },
      "outputs": [],
      "source": [
        "# @title Video 6: Using Embeddings\n",
        "from ipywidgets import widgets\n",
        "from IPython.display import YouTubeVideo\n",
        "from IPython.display import IFrame\n",
        "from IPython.display import display\n",
        "\n",
        "\n",
        "class PlayVideo(IFrame):\n",
        "  def __init__(self, id, source, page=1, width=400, height=300, **kwargs):\n",
        "    self.id = id\n",
        "    if source == 'Bilibili':\n",
        "      src = f'https://player.bilibili.com/player.html?bvid={id}&page={page}'\n",
        "    elif source == 'Osf':\n",
        "      src = f'https://mfr.ca-1.osf.io/render?url=https://osf.io/download/{id}/?direct%26mode=render'\n",
        "    super(PlayVideo, self).__init__(src, width, height, **kwargs)\n",
        "\n",
        "\n",
        "def display_videos(video_ids, W=400, H=300, fs=1):\n",
        "  tab_contents = []\n",
        "  for i, video_id in enumerate(video_ids):\n",
        "    out = widgets.Output()\n",
        "    with out:\n",
        "      if video_ids[i][0] == 'Youtube':\n",
        "        video = YouTubeVideo(id=video_ids[i][1], width=W,\n",
        "                             height=H, fs=fs, rel=0)\n",
        "        print(f'Video available at https://youtube.com/watch?v={video.id}')\n",
        "      else:\n",
        "        video = PlayVideo(id=video_ids[i][1], source=video_ids[i][0], width=W,\n",
        "                          height=H, fs=fs, autoplay=False)\n",
        "        if video_ids[i][0] == 'Bilibili':\n",
        "          print(f'Video available at https://www.bilibili.com/video/{video.id}')\n",
        "        elif video_ids[i][0] == 'Osf':\n",
        "          print(f'Video available at https://osf.io/{video.id}')  \n",
        "      display(video)\n",
        "    tab_contents.append(out)\n",
        "  return tab_contents\n",
        "\n",
        "\n",
        "video_ids = [('Youtube', '9ujUgNoPeF0'), ('Bilibili', 'BV1cU4y1Q7Fh')]\n",
        "tab_contents = display_videos(video_ids, W=854, H=480)\n",
        "tabs = widgets.Tab()\n",
        "tabs.children = tab_contents\n",
        "for i in range(len(tab_contents)):\n",
        "  tabs.set_title(i, video_ids[i][0])\n",
        "display(tabs)"
      ]
    },
    {
      "cell_type": "markdown",
      "metadata": {
        "execution": {},
        "id": "KvGmjUehU_no"
      },
      "source": [
        "Training context-oblivious word embeddings is relatively cheap, but most people still use pre-trained word embeddings. After we cover context-sensitive word embeddings, we'll see how to \"fine tune\" embeddings (adjust them to the task at hand).\n",
        "\n",
        "Let's use the pretrained FastText embeddings to train a neural network on the IMDB dataset.\n",
        "\n",
        "The data consists of reviews and sentiments attached to it, and it is a binary classification task."
      ]
    },
    {
      "cell_type": "markdown",
      "metadata": {
        "execution": {},
        "id": "ykU6PsFlU_no"
      },
      "source": [
        "###  Coding Exercise 1: Simple feed forward net\n",
        "\n",
        "Define a vanilla neural network with linear layers. Then average the word embeddings to get an embedding for the entire review. The neural net will have one hidden layer of size 128."
      ]
    },
    {
      "cell_type": "code",
      "execution_count": null,
      "metadata": {
        "execution": {},
        "id": "8s5EUJ1fU_no"
      },
      "outputs": [],
      "source": [
        "class NeuralNet(nn.Module):\n",
        "  \"\"\" A vanilla neural network. \"\"\"\n",
        "  def __init__(self, batch_size, output_size, hidden_size, vocab_size,\n",
        "               embedding_length, word_embeddings):\n",
        "    \"\"\"\n",
        "    Constructs a vanilla Neural Network Instance.\n",
        "\n",
        "    Args:\n",
        "      batch_size: Integer\n",
        "        Specifies probability of dropout hyperparameter\n",
        "      output_size: Integer\n",
        "        Specifies the size of output vector\n",
        "      hidden_size: Integer\n",
        "        Specifies the size of hidden layer\n",
        "      vocab_size: Integer\n",
        "        Specifies the size of the vocabulary\n",
        "        i.e. the number of tokens in the vocabulary\n",
        "      embedding_length: Integer\n",
        "        Specifies the size of the embedding vector\n",
        "      word_embeddings\n",
        "        Specifies the weights to create embeddings from\n",
        "        voabulary.\n",
        "\n",
        "    Returns:\n",
        "      Nothing\n",
        "    \"\"\"\n",
        "    super(NeuralNet, self).__init__()\n",
        "\n",
        "    self.batch_size = batch_size\n",
        "    self.output_size = output_size\n",
        "    self.hidden_size = hidden_size\n",
        "    self.vocab_size = vocab_size\n",
        "    self.embedding_length = embedding_length\n",
        "\n",
        "    self.word_embeddings = nn.Embedding(vocab_size, embedding_length)\n",
        "    self.word_embeddings.weight = nn.Parameter(word_embeddings, requires_grad=False)\n",
        "    self.fc1 = nn.Linear(embedding_length, hidden_size)\n",
        "    self.fc2 = nn.Linear(hidden_size, output_size)\n",
        "\n",
        "  def forward(self, inputs):\n",
        "    \"\"\"\n",
        "    Compute the final labels by taking tokens as input.\n",
        "\n",
        "    Args:\n",
        "      inputs: Tensor\n",
        "        Tensor of tokens in the text\n",
        "\n",
        "    Returns:\n",
        "      out: Tensor\n",
        "        Final prediction Tensor\n",
        "    \"\"\"\n",
        "    input = self.word_embeddings(inputs)  # convert text to embeddings\n",
        "    #################################################\n",
        "    # Implement a vanilla neural network\n",
        "    raise NotImplementedError(\"Neural Net `forward`\")\n",
        "    #################################################\n",
        "    # Average the word embedddings in a sentence\n",
        "    # Use torch.nn.functional.avg_pool2d to compute the averages\n",
        "    pooled = F.avg_pool2d(..., (input.shape[1], 1)).squeeze(1)\n",
        "    # Pass the embeddings through the neural net\n",
        "    # Use ReLU as the non-linearity\n",
        "    x = ...\n",
        "    x = ...\n",
        "    x = ...\n",
        "    output = F.log_softmax(x, dim=1)\n",
        "    return output"
      ]
    },
    {
      "cell_type": "code",
      "execution_count": 15,
      "metadata": {
        "execution": {},
        "id": "6sAQ3u3rU_no"
      },
      "outputs": [],
      "source": [
        "# to_remove solution\n",
        "class NeuralNet(nn.Module):\n",
        "  \"\"\" A vanilla neural network. \"\"\"\n",
        "  def __init__(self, output_size, hidden_size, vocab_size, embedding_length):\n",
        "    \"\"\"\n",
        "    Constructs a vanilla Neural Network Instance.\n",
        "\n",
        "    Args:\n",
        "      batch_size: Integer\n",
        "        Specifies probability of dropout hyperparameter\n",
        "      output_size: Integer\n",
        "        Specifies the size of output vector\n",
        "      hidden_size: Integer\n",
        "        Specifies the size of hidden layer\n",
        "      vocab_size: Integer\n",
        "        Specifies the size of the vocabulary\n",
        "        i.e. the number of tokens in the vocabulary\n",
        "      embedding_length: Integer\n",
        "        Specifies the size of the embedding vector\n",
        "      word_embeddings\n",
        "        Specifies the weights to create embeddings from\n",
        "        voabulary.\n",
        "\n",
        "    Returns:\n",
        "      Nothing\n",
        "    \"\"\"\n",
        "    super(NeuralNet, self).__init__()\n",
        "\n",
        "    self.output_size = output_size\n",
        "    self.hidden_size = hidden_size\n",
        "    self.vocab_size = vocab_size\n",
        "    self.embedding_length = embedding_length\n",
        "\n",
        "    self.word_embeddings = nn.EmbeddingBag(vocab_size, embedding_length, sparse=False)\n",
        "    self.fc1 = nn.Linear(embedding_length, hidden_size)\n",
        "    self.fc2 = nn.Linear(hidden_size, output_size)\n",
        "    self.init_weights()\n",
        "\n",
        "  def init_weights(self):\n",
        "      initrange = 0.5\n",
        "      self.word_embeddings.weight.data.uniform_(-initrange, initrange)\n",
        "      self.fc1.weight.data.uniform_(-initrange, initrange)\n",
        "      self.fc1.bias.data.zero_()\n",
        "      self.fc2.weight.data.uniform_(-initrange, initrange)\n",
        "      self.fc2.bias.data.zero_()\n",
        "\n",
        "  def forward(self, inputs, offsets):\n",
        "    \"\"\"\n",
        "    Compute the final labels by taking tokens as input.\n",
        "\n",
        "    Args:\n",
        "      inputs: Tensor\n",
        "        Tensor of tokens in the text\n",
        "\n",
        "    Returns:\n",
        "      out: Tensor\n",
        "        Final prediction Tensor\n",
        "    \"\"\"\n",
        "    embedded = self.word_embeddings(inputs, offsets)  # convert text to embeddings\n",
        "    # Average the word embedddings in a sentence\n",
        "    # Use torch.nn.functional.avg_pool2d to compute the averages\n",
        "    # pooled = F.avg_pool2d(input, (input.shape[1], 1)).squeeze(1)\n",
        "    # Pass the embeddings through the neural net\n",
        "    # Use ReLU as the non-linearity\n",
        "    x = self.fc1(embedded)\n",
        "    x = F.relu(x)\n",
        "    x = self.fc2(x)\n",
        "    output = F.log_softmax(x, dim=1)\n",
        "    return output"
      ]
    },
    {
      "cell_type": "code",
      "execution_count": 12,
      "metadata": {
        "cellView": "code",
        "execution": {},
        "id": "nnRsDXO_U_np"
      },
      "outputs": [],
      "source": [
        "# @markdown ### Helper functions\n",
        "\n",
        "# @markdown - `train(model, device, train_iter, valid_iter, epochs, learning_rate)`\n",
        "\n",
        "# @markdown - `test(model,  device, test_iter)`\n",
        "\n",
        "# @markdown - `load_dataset(emb_vectors, seed, batch_size=32)`\n",
        "\n",
        "# @markdown - `plot_train_val(x, train, val, train_label, val_label, title)`\n",
        "\n",
        "\n",
        "# Training\n",
        "import time\n",
        "\n",
        "def train(dataloader):\n",
        "  model.train()\n",
        "  total_acc, total_count = 0, 0\n",
        "  running_loss = 0\n",
        "  log_interval = 500\n",
        "  start_time = time.time()\n",
        "\n",
        "  for idx, (label, text, offsets) in enumerate(dataloader):\n",
        "    optimizer.zero_grad()\n",
        "    predicted_label = model(text, offsets)\n",
        "    loss = criterion(predicted_label, label)\n",
        "    loss.backward()\n",
        "    torch.nn.utils.clip_grad_norm_(model.parameters(), 0.1)\n",
        "    optimizer.step()\n",
        "    total_acc += (predicted_label.argmax(1) == label).sum().item()\n",
        "    total_count += label.size(0)\n",
        "    if idx % log_interval == 0 and idx > 0:\n",
        "      elapsed = time.time() - start_time\n",
        "      print(f'| epoch {epoch:3d} | {idx:5d}/{len(dataloader):5d} batches '\n",
        "            f'| accuracy {total_acc/total_count:8.3f}')\n",
        "\n",
        "      start_time = time.time()\n",
        "\n",
        "    running_loss += loss.item()\n",
        "  return total_acc/total_count, loss\n",
        "\n",
        "\n",
        "def evaluate(dataloader):\n",
        "  model.eval()\n",
        "  total_acc, total_count = 0, 0\n",
        "  running_loss = 0\n",
        "\n",
        "  with torch.no_grad():\n",
        "    for idx, (label, text, offsets) in enumerate(dataloader):\n",
        "      predicted_label = model(text, offsets)\n",
        "      loss = criterion(predicted_label, label)\n",
        "      total_acc += (predicted_label.argmax(1) == label).sum().item()\n",
        "      total_count += label.size(0)\n",
        "      running_loss += loss\n",
        "  return total_acc/total_count, loss\n",
        "\n",
        "\n",
        "def load_dataset(train_iter, device='cpu', seed=0, batch_size=32, valid_split=0.7):\n",
        "\n",
        "  # Prepare data processing pipelines\n",
        "  tokenizer = get_tokenizer('basic_english')\n",
        "\n",
        "  def yield_tokens(data_iter):\n",
        "      for _, text in data_iter:\n",
        "          yield tokenizer(text)\n",
        "\n",
        "  # Create a vocabulary block\n",
        "  vocab = build_vocab_from_iterator(yield_tokens(train_iter), specials=[\"<unk>\"])\n",
        "  vocab.set_default_index(vocab[\"<unk>\"])\n",
        "\n",
        "  # Prepare the text processing pipeline with the tokenizer and vocabulary\n",
        "  text_pipeline = lambda x: vocab(tokenizer(x))\n",
        "  label_pipeline = lambda x: int(x) - 1\n",
        "\n",
        "  def collate_batch(batch):\n",
        "      label_list, text_list, offsets = [], [], [0]\n",
        "      for (_label, _text) in batch:\n",
        "          label_list.append(label_pipeline(_label))\n",
        "          processed_text = torch.tensor(text_pipeline(_text), dtype=torch.int64)\n",
        "          text_list.append(processed_text)\n",
        "          offsets.append(processed_text.size(0))\n",
        "      label_list = torch.tensor(label_list, dtype=torch.int64)\n",
        "      offsets = torch.tensor(offsets[:-1]).cumsum(dim=0)\n",
        "      text_list = torch.cat(text_list)\n",
        "      return label_list.to(device), text_list.to(device), offsets.to(device)\n",
        "\n",
        "  # Generate data batch and iterator and split the data\n",
        "  train_iter, test_iter = AG_NEWS()\n",
        "  train_dataset = to_map_style_dataset(train_iter)\n",
        "  test_dataset = to_map_style_dataset(test_iter)\n",
        "  num_train = int(len(train_dataset) * valid_split)\n",
        "  num_valid = len(train_dataset) - num_train\n",
        "  generator = torch.Generator().manual_seed(seed)\n",
        "  split_train_, split_valid_ = random_split(train_dataset, [num_train, num_valid], generator=generator)\n",
        "\n",
        "  train_dataloader = DataLoader(split_train_, batch_size=batch_size,\n",
        "                                shuffle=True, collate_fn=collate_batch)\n",
        "  valid_dataloader = DataLoader(split_valid_, batch_size=batch_size,\n",
        "                                shuffle=True, collate_fn=collate_batch)\n",
        "  test_dataloader = DataLoader(test_dataset, batch_size=batch_size,\n",
        "                               shuffle=True, collate_fn=collate_batch)\n",
        "  \n",
        "  return vocab, train_dataloader, valid_dataloader, test_dataloader\n",
        "\n",
        "\n",
        "# Plotting\n",
        "def plot_train_val(x, train, val, train_label, val_label, title, ylabel):\n",
        "  plt.plot(x, train, label=train_label)\n",
        "  plt.plot(x, val, label=val_label)\n",
        "  plt.legend()\n",
        "  plt.xlabel('epoch')\n",
        "  plt.ylabel(ylabel)\n",
        "  plt.title(title)\n",
        "  plt.show()\n",
        "\n",
        "\n",
        "# Dataset\n",
        "def tokenize(sentences):\n",
        "  # Tokenize the sentence\n",
        "  # from nltk.tokenize library use word_tokenize\n",
        "  token = word_tokenize(sentences)\n",
        "  return token"
      ]
    },
    {
      "cell_type": "code",
      "execution_count": 13,
      "metadata": {
        "execution": {},
        "id": "TZaGJMYCU_np"
      },
      "outputs": [],
      "source": [
        "# @markdown ### Download embeddings and load the dataset\n",
        "\n",
        "# @markdown This will load 300 dim FastText embeddings.\n",
        "\n",
        "# @markdown It will take around 3-4 minutes.\n",
        "\n",
        "# embedding_fasttext = FastText('simple')\n",
        "\n",
        "# load the training data\n",
        "train_iter = iter(AG_NEWS(split='train'))\n",
        "VOCAB, train_data, valid_data, test_data = load_dataset(train_iter, device=DEVICE, seed=SEED, batch_size=32, valid_split=0.7)"
      ]
    },
    {
      "cell_type": "code",
      "source": [
        "num_class = len(set([label for (label, text) in train_iter]))\n",
        "vocab_size = len(VOCAB)\n",
        "hidden_size = 128\n",
        "embedding_length = 300\n",
        "model = NeuralNet(num_class, hidden_size, vocab_size, embedding_length).to(DEVICE)"
      ],
      "metadata": {
        "id": "uFi76Fdk0xb7"
      },
      "execution_count": 16,
      "outputs": []
    },
    {
      "cell_type": "code",
      "source": [
        "# Hyperparameters\n",
        "EPOCHS = 2  # epoch\n",
        "LR = 5  # learning rate\n",
        "BATCH_SIZE = 64  # batch size for training\n",
        "\n",
        "criterion = torch.nn.CrossEntropyLoss()\n",
        "optimizer = torch.optim.SGD(model.parameters(), lr=LR)\n",
        "scheduler = torch.optim.lr_scheduler.StepLR(optimizer, 1.0, gamma=0.1)\n",
        "total_accu = None\n",
        "\n",
        "train_loss, validation_loss = [], []\n",
        "train_acc, validation_acc = [], []\n",
        "\n",
        "for epoch in range(1, EPOCHS + 1):\n",
        "    epoch_start_time = time.time()\n",
        "    accu_train, loss_train = train(train_data)\n",
        "    accu_val, loss_val = evaluate(valid_data)\n",
        "    train_loss.append(loss_train)\n",
        "    validation_loss.append(loss_val)\n",
        "    train_acc.append(acc_train)\n",
        "    validation_acc.append(acc_val)\n",
        "    \n",
        "    if total_accu is not None and total_accu > accu_val:\n",
        "      scheduler.step()\n",
        "    else:\n",
        "       total_accu = accu_val\n",
        "    print('-' * 59)\n",
        "    print('| end of epoch {:3d} | time: {:5.2f}s | '\n",
        "          'valid accuracy {:8.3f} '.format(epoch,\n",
        "                                           time.time() - epoch_start_time,\n",
        "                                           accu_val))\n",
        "    print('-' * 59)"
      ],
      "metadata": {
        "id": "d61QJBy7-Dh8",
        "outputId": "2d261299-00d8-437a-b905-5006e8c94d67",
        "colab": {
          "base_uri": "https://localhost:8080/",
          "height": 453
        }
      },
      "execution_count": 17,
      "outputs": [
        {
          "output_type": "error",
          "ename": "RuntimeError",
          "evalue": "ignored",
          "traceback": [
            "\u001b[0;31m---------------------------------------------------------------------------\u001b[0m",
            "\u001b[0;31mRuntimeError\u001b[0m                              Traceback (most recent call last)",
            "\u001b[0;32m<ipython-input-17-9d69031546ed>\u001b[0m in \u001b[0;36m<cell line: 12>\u001b[0;34m()\u001b[0m\n\u001b[1;32m     12\u001b[0m \u001b[0;32mfor\u001b[0m \u001b[0mepoch\u001b[0m \u001b[0;32min\u001b[0m \u001b[0mrange\u001b[0m\u001b[0;34m(\u001b[0m\u001b[0;36m1\u001b[0m\u001b[0;34m,\u001b[0m \u001b[0mEPOCHS\u001b[0m \u001b[0;34m+\u001b[0m \u001b[0;36m1\u001b[0m\u001b[0;34m)\u001b[0m\u001b[0;34m:\u001b[0m\u001b[0;34m\u001b[0m\u001b[0;34m\u001b[0m\u001b[0m\n\u001b[1;32m     13\u001b[0m     \u001b[0mepoch_start_time\u001b[0m \u001b[0;34m=\u001b[0m \u001b[0mtime\u001b[0m\u001b[0;34m.\u001b[0m\u001b[0mtime\u001b[0m\u001b[0;34m(\u001b[0m\u001b[0;34m)\u001b[0m\u001b[0;34m\u001b[0m\u001b[0;34m\u001b[0m\u001b[0m\n\u001b[0;32m---> 14\u001b[0;31m     \u001b[0maccu_train\u001b[0m\u001b[0;34m,\u001b[0m \u001b[0mloss_train\u001b[0m \u001b[0;34m=\u001b[0m \u001b[0mtrain\u001b[0m\u001b[0;34m(\u001b[0m\u001b[0mtrain_data\u001b[0m\u001b[0;34m)\u001b[0m\u001b[0;34m\u001b[0m\u001b[0;34m\u001b[0m\u001b[0m\n\u001b[0m\u001b[1;32m     15\u001b[0m     \u001b[0maccu_val\u001b[0m\u001b[0;34m,\u001b[0m \u001b[0mloss_val\u001b[0m \u001b[0;34m=\u001b[0m \u001b[0mevaluate\u001b[0m\u001b[0;34m(\u001b[0m\u001b[0mvalid_data\u001b[0m\u001b[0;34m)\u001b[0m\u001b[0;34m\u001b[0m\u001b[0;34m\u001b[0m\u001b[0m\n\u001b[1;32m     16\u001b[0m     \u001b[0;32mif\u001b[0m \u001b[0mtotal_accu\u001b[0m \u001b[0;32mis\u001b[0m \u001b[0;32mnot\u001b[0m \u001b[0;32mNone\u001b[0m \u001b[0;32mand\u001b[0m \u001b[0mtotal_accu\u001b[0m \u001b[0;34m>\u001b[0m \u001b[0maccu_val\u001b[0m\u001b[0;34m:\u001b[0m\u001b[0;34m\u001b[0m\u001b[0;34m\u001b[0m\u001b[0m\n",
            "\u001b[0;32m<ipython-input-12-a13fbbac8ec4>\u001b[0m in \u001b[0;36mtrain\u001b[0;34m(dataloader)\u001b[0m\n\u001b[1;32m     24\u001b[0m     \u001b[0mpredicted_label\u001b[0m \u001b[0;34m=\u001b[0m \u001b[0mmodel\u001b[0m\u001b[0;34m(\u001b[0m\u001b[0mtext\u001b[0m\u001b[0;34m,\u001b[0m \u001b[0moffsets\u001b[0m\u001b[0;34m)\u001b[0m\u001b[0;34m\u001b[0m\u001b[0;34m\u001b[0m\u001b[0m\n\u001b[1;32m     25\u001b[0m     \u001b[0mloss\u001b[0m \u001b[0;34m=\u001b[0m \u001b[0mcriterion\u001b[0m\u001b[0;34m(\u001b[0m\u001b[0mpredicted_label\u001b[0m\u001b[0;34m,\u001b[0m \u001b[0mlabel\u001b[0m\u001b[0;34m)\u001b[0m\u001b[0;34m\u001b[0m\u001b[0;34m\u001b[0m\u001b[0m\n\u001b[0;32m---> 26\u001b[0;31m     \u001b[0mloss\u001b[0m\u001b[0;34m.\u001b[0m\u001b[0mbackward\u001b[0m\u001b[0;34m(\u001b[0m\u001b[0;34m)\u001b[0m\u001b[0;34m\u001b[0m\u001b[0;34m\u001b[0m\u001b[0m\n\u001b[0m\u001b[1;32m     27\u001b[0m     \u001b[0mtorch\u001b[0m\u001b[0;34m.\u001b[0m\u001b[0mnn\u001b[0m\u001b[0;34m.\u001b[0m\u001b[0mutils\u001b[0m\u001b[0;34m.\u001b[0m\u001b[0mclip_grad_norm_\u001b[0m\u001b[0;34m(\u001b[0m\u001b[0mmodel\u001b[0m\u001b[0;34m.\u001b[0m\u001b[0mparameters\u001b[0m\u001b[0;34m(\u001b[0m\u001b[0;34m)\u001b[0m\u001b[0;34m,\u001b[0m \u001b[0;36m0.1\u001b[0m\u001b[0;34m)\u001b[0m\u001b[0;34m\u001b[0m\u001b[0;34m\u001b[0m\u001b[0m\n\u001b[1;32m     28\u001b[0m     \u001b[0moptimizer\u001b[0m\u001b[0;34m.\u001b[0m\u001b[0mstep\u001b[0m\u001b[0;34m(\u001b[0m\u001b[0;34m)\u001b[0m\u001b[0;34m\u001b[0m\u001b[0;34m\u001b[0m\u001b[0m\n",
            "\u001b[0;32m/usr/local/lib/python3.10/dist-packages/torch/_tensor.py\u001b[0m in \u001b[0;36mbackward\u001b[0;34m(self, gradient, retain_graph, create_graph, inputs)\u001b[0m\n\u001b[1;32m    485\u001b[0m                 \u001b[0minputs\u001b[0m\u001b[0;34m=\u001b[0m\u001b[0minputs\u001b[0m\u001b[0;34m,\u001b[0m\u001b[0;34m\u001b[0m\u001b[0;34m\u001b[0m\u001b[0m\n\u001b[1;32m    486\u001b[0m             )\n\u001b[0;32m--> 487\u001b[0;31m         torch.autograd.backward(\n\u001b[0m\u001b[1;32m    488\u001b[0m             \u001b[0mself\u001b[0m\u001b[0;34m,\u001b[0m \u001b[0mgradient\u001b[0m\u001b[0;34m,\u001b[0m \u001b[0mretain_graph\u001b[0m\u001b[0;34m,\u001b[0m \u001b[0mcreate_graph\u001b[0m\u001b[0;34m,\u001b[0m \u001b[0minputs\u001b[0m\u001b[0;34m=\u001b[0m\u001b[0minputs\u001b[0m\u001b[0;34m\u001b[0m\u001b[0;34m\u001b[0m\u001b[0m\n\u001b[1;32m    489\u001b[0m         )\n",
            "\u001b[0;32m/usr/local/lib/python3.10/dist-packages/torch/autograd/__init__.py\u001b[0m in \u001b[0;36mbackward\u001b[0;34m(tensors, grad_tensors, retain_graph, create_graph, grad_variables, inputs)\u001b[0m\n\u001b[1;32m    198\u001b[0m     \u001b[0;31m# some Python versions print out the first line of a multi-line function\u001b[0m\u001b[0;34m\u001b[0m\u001b[0;34m\u001b[0m\u001b[0m\n\u001b[1;32m    199\u001b[0m     \u001b[0;31m# calls in the traceback and some print out the last line\u001b[0m\u001b[0;34m\u001b[0m\u001b[0;34m\u001b[0m\u001b[0m\n\u001b[0;32m--> 200\u001b[0;31m     Variable._execution_engine.run_backward(  # Calls into the C++ engine to run the backward pass\n\u001b[0m\u001b[1;32m    201\u001b[0m         \u001b[0mtensors\u001b[0m\u001b[0;34m,\u001b[0m \u001b[0mgrad_tensors_\u001b[0m\u001b[0;34m,\u001b[0m \u001b[0mretain_graph\u001b[0m\u001b[0;34m,\u001b[0m \u001b[0mcreate_graph\u001b[0m\u001b[0;34m,\u001b[0m \u001b[0minputs\u001b[0m\u001b[0;34m,\u001b[0m\u001b[0;34m\u001b[0m\u001b[0;34m\u001b[0m\u001b[0m\n\u001b[1;32m    202\u001b[0m         allow_unreachable=True, accumulate_grad=True)  # Calls into the C++ engine to run the backward pass\n",
            "\u001b[0;31mRuntimeError\u001b[0m: CUDA error: device-side assert triggered\nCUDA kernel errors might be asynchronously reported at some other API call, so the stacktrace below might be incorrect.\nFor debugging consider passing CUDA_LAUNCH_BLOCKING=1.\nCompile with `TORCH_USE_CUDA_DSA` to enable device-side assertions.\n"
          ]
        }
      ]
    },
    {
      "cell_type": "code",
      "source": [
        "print('Checking the results of test dataset.')\n",
        "accu_test, loss_test = evaluate(test_data)\n",
        "print('test accuracy {:8.3f}'.format(accu_test))"
      ],
      "metadata": {
        "id": "ghVATD4e-Y1v"
      },
      "execution_count": null,
      "outputs": []
    },
    {
      "cell_type": "code",
      "execution_count": null,
      "metadata": {
        "execution": {},
        "id": "pnU5vUc9U_np"
      },
      "outputs": [],
      "source": [
        "plot_train_val(np.arange(0, epochs), nn_train_acc, nn_validation_acc,\n",
        "               'training_accuracy', 'validation_accuracy',\n",
        "               'Neural Net on IMDB text classification', 'accuracy')\n",
        "plot_train_val(np.arange(0, epochs), nn_train_loss, nn_validation_loss,\n",
        "               'training_loss', 'validation_loss',\n",
        "               'Neural Net on IMDB text classification', 'loss')"
      ]
    },
    {
      "cell_type": "markdown",
      "metadata": {
        "execution": {},
        "id": "KPNfQTtsU_np"
      },
      "source": [
        "---\n",
        "# Summary\n",
        "\n",
        "In this tutorial, we introduced how to process time series by taking language as an example. To process time series, we should convert them into embeddings.\n",
        "\n",
        "We can first tokenize the words for text and then create either context-oblivious or context-dependent embeddings.\n",
        "\n",
        "Finally, we saw how these word embeddings could be processed for applications such as text classification."
      ]
    },
    {
      "cell_type": "markdown",
      "metadata": {
        "execution": {},
        "id": "jGDtUmEBU_np"
      },
      "source": [
        "If you want to learn about **Multilingual Embeddings** see the Bonus tutorial on [colab](https://colab.research.google.com/github/NeuromatchAcademy/course-content-dl/blob/main/tutorials/W3D1_TimeSeriesAndNaturalLanguageProcessing/W3D1_Tutorial3.ipynb) or [kaggle](https://kaggle.com/kernels/welcome?src=https://raw.githubusercontent.com/NeuromatchAcademy/course-content-dl/main/tutorials/W3D1_TimeSeriesAndNaturalLanguageProcessing/W3D1_Tutorial3.ipynb). But first, we suggest completing the tutorial 2!"
      ]
    }
  ],
  "metadata": {
    "accelerator": "GPU",
    "colab": {
      "name": "W3D1_Tutorial1",
      "provenance": [],
      "toc_visible": true,
      "include_colab_link": true
    },
    "gpuClass": "standard",
    "kernel": {
      "display_name": "Python 3",
      "language": "python",
      "name": "python3"
    },
    "kernelspec": {
      "display_name": "Python 3",
      "name": "python3"
    },
    "language_info": {
      "name": "python"
    }
  },
  "nbformat": 4,
  "nbformat_minor": 0
}