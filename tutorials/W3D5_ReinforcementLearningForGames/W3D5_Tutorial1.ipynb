{
  "cells": [
    {
      "cell_type": "markdown",
      "metadata": {
        "id": "view-in-github",
        "colab_type": "text"
      },
      "source": [
        "<a href=\"https://colab.research.google.com/github/NeuromatchAcademy/course-content-dl/blob/bonus_w3d5/tutorials/W3D5_ReinforcementLearningForGames/W3D5_Tutorial1.ipynb\" target=\"_parent\"><img src=\"https://colab.research.google.com/assets/colab-badge.svg\" alt=\"Open In Colab\"/></a>"
      ]
    },
    {
      "cell_type": "markdown",
      "metadata": {
        "execution": {},
        "id": "zXm2ZGA0Wy8P"
      },
      "source": [
        "# Tutorial 1: Learn to play games with RL\n",
        "\n",
        "**Week 3, Day 5: Reinforcement Learning for Games**\n",
        "\n",
        "**By Neuromatch Academy**\n",
        "\n",
        "__Content creators:__ Mandana Samiei, Raymond Chua, Tim Lilicrap, Blake Richards\n",
        "\n",
        "__Content reviewers:__ Arush Tagade, Lily Cheng, Melvin Selim Atay, Kelson Shilling-Scrivo\n",
        "\n",
        "__Content editors:__ Melvin Selim Atay, Spiros Chavlis\n",
        "\n",
        "__Production editors:__ Namrata Bafna, Gagana B, Spiros Chavlis"
      ]
    },
    {
      "cell_type": "markdown",
      "metadata": {
        "execution": {},
        "id": "xbG6tX64Wy8a"
      },
      "source": [
        "**Our 2022 Sponsors, including Presenting Sponsor Facebook Reality Labs**\n",
        "\n",
        "<p align='center'><img src='https://github.com/NeuromatchAcademy/widgets/blob/master/sponsors.png?raw=True'/></p>"
      ]
    },
    {
      "cell_type": "markdown",
      "metadata": {
        "execution": {},
        "id": "qQ5g6aE8Wy8f"
      },
      "source": [
        "---\n",
        "# Tutorial Objectives\n",
        "\n",
        "In this tutorial, you will learn how to implement a game loop and improve the performance of a random player. \n",
        "\n",
        "The specific objectives for this tutorial:\n",
        "*   Understand the format of two-players games\n",
        "*   Learn about value network and policy network\n",
        "\n",
        "In the Bonus sections you will learn about Monte Carlo Tree Search (MCTS) and compare its performance to policy-based and value-based players."
      ]
    },
    {
      "cell_type": "code",
      "execution_count": 1,
      "metadata": {
        "cellView": "form",
        "execution": {},
        "colab": {
          "base_uri": "https://localhost:8080/",
          "height": 501
        },
        "id": "auf2n2AqWy8j",
        "outputId": "6df6fe67-ad72-4225-a124-1dfbeca2ddf2"
      },
      "outputs": [
        {
          "output_type": "execute_result",
          "data": {
            "text/plain": [
              "<IPython.lib.display.IFrame at 0x7f298c657cd0>"
            ],
            "text/html": [
              "\n",
              "        <iframe\n",
              "            width=\"854\"\n",
              "            height=\"480\"\n",
              "            src=\"https://mfr.ca-1.osf.io/render?url=https://osf.io/3zn9w/?direct%26mode=render%26action=download%26mode=render\"\n",
              "            frameborder=\"0\"\n",
              "            allowfullscreen\n",
              "        ></iframe>\n",
              "        "
            ]
          },
          "metadata": {},
          "execution_count": 1
        }
      ],
      "source": [
        "# @title Tutorial slides\n",
        "\n",
        "from IPython.display import IFrame\n",
        "IFrame(src=f\"https://mfr.ca-1.osf.io/render?url=https://osf.io/3zn9w/?direct%26mode=render%26action=download%26mode=render\", width=854, height=480)"
      ]
    },
    {
      "cell_type": "markdown",
      "metadata": {
        "execution": {},
        "id": "cVlywmgLWy8n"
      },
      "source": [
        "These are the slides for the videos in the tutorial. If you want to locally download the slides, click [here](https://osf.io/3zn9w/download)."
      ]
    },
    {
      "cell_type": "markdown",
      "metadata": {
        "execution": {},
        "id": "YqVfuq7RWy8q"
      },
      "source": [
        "---\n",
        "# Setup"
      ]
    },
    {
      "cell_type": "code",
      "execution_count": 2,
      "metadata": {
        "cellView": "form",
        "execution": {},
        "id": "uVfASzoFWy8t"
      },
      "outputs": [],
      "source": [
        "# @title Install dependencies\n",
        "!pip install coloredlogs --quiet\n",
        "\n",
        "!pip install git+https://github.com/NeuromatchAcademy/evaltools --quiet\n",
        "from evaltools.airtable import AirtableForm\n",
        "\n",
        "# generate airtable form\n",
        "atform = AirtableForm('appn7VdPRseSoMXEG','W3D3_T1','https://portal.neuromatchacademy.org/api/redirect/to/2baacd95-3fb5-4399-bf95-bbe5de255d2b')"
      ]
    },
    {
      "cell_type": "code",
      "execution_count": 3,
      "metadata": {
        "execution": {},
        "id": "dwB4CJXJWy8x"
      },
      "outputs": [],
      "source": [
        "# Imports\n",
        "import os\n",
        "import math\n",
        "import time\n",
        "import torch\n",
        "import random\n",
        "import logging\n",
        "import coloredlogs\n",
        "\n",
        "import numpy as np\n",
        "\n",
        "import torch.nn as nn\n",
        "import torch.optim as optim\n",
        "import torch.nn.functional as F\n",
        "\n",
        "from tqdm.notebook import tqdm\n",
        "from pickle import Unpickler\n",
        "\n",
        "log = logging.getLogger(__name__)\n",
        "coloredlogs.install(level='INFO')  # Change this to DEBUG to see more info."
      ]
    },
    {
      "cell_type": "code",
      "execution_count": 4,
      "metadata": {
        "cellView": "form",
        "execution": {},
        "id": "K1LPKp9BWy83"
      },
      "outputs": [],
      "source": [
        "# @title Set random seed\n",
        "\n",
        "# @markdown Executing `set_seed(seed=seed)` you are setting the seed\n",
        "\n",
        "# For DL its critical to set the random seed so that students can have a\n",
        "# baseline to compare their results to expected results.\n",
        "# Read more here: https://pytorch.org/docs/stable/notes/randomness.html\n",
        "\n",
        "# Call `set_seed` function in the exercises to ensure reproducibility.\n",
        "import random\n",
        "import torch\n",
        "\n",
        "def set_seed(seed=None, seed_torch=True):\n",
        "  \"\"\"\n",
        "  Function that controls randomness. NumPy and random modules must be imported.\n",
        "\n",
        "  Args:\n",
        "    seed : Integer\n",
        "      A non-negative integer that defines the random state. Default is `None`.\n",
        "    seed_torch : Boolean\n",
        "      If `True` sets the random seed for pytorch tensors, so pytorch module\n",
        "      must be imported. Default is `True`.\n",
        "\n",
        "  Returns:\n",
        "    Nothing.\n",
        "  \"\"\"\n",
        "  if seed is None:\n",
        "    seed = np.random.choice(2 ** 32)\n",
        "  random.seed(seed)\n",
        "  np.random.seed(seed)\n",
        "  if seed_torch:\n",
        "    torch.manual_seed(seed)\n",
        "    torch.cuda.manual_seed_all(seed)\n",
        "    torch.cuda.manual_seed(seed)\n",
        "    torch.backends.cudnn.benchmark = False\n",
        "    torch.backends.cudnn.deterministic = True\n",
        "\n",
        "  print(f'Random seed {seed} has been set.')\n",
        "\n",
        "\n",
        "# In case that `DataLoader` is used\n",
        "def seed_worker(worker_id):\n",
        "  \"\"\"\n",
        "  DataLoader will reseed workers following randomness in\n",
        "  multi-process data loading algorithm.\n",
        "\n",
        "  Args:\n",
        "    worker_id: integer\n",
        "      ID of subprocess to seed. 0 means that\n",
        "      the data will be loaded in the main process\n",
        "      Refer: https://pytorch.org/docs/stable/data.html#data-loading-randomness for more details\n",
        "\n",
        "  Returns:\n",
        "    Nothing\n",
        "  \"\"\"\n",
        "  worker_seed = torch.initial_seed() % 2**32\n",
        "  np.random.seed(worker_seed)\n",
        "  random.seed(worker_seed)"
      ]
    },
    {
      "cell_type": "code",
      "execution_count": 5,
      "metadata": {
        "cellView": "form",
        "execution": {},
        "id": "tjgkQHGLWy9A"
      },
      "outputs": [],
      "source": [
        "# @title Set device (GPU or CPU). Execute `set_device()`\n",
        "# especially if torch modules used.\n",
        "\n",
        "# Inform the user if the notebook uses GPU or CPU.\n",
        "\n",
        "def set_device():\n",
        "  \"\"\"\n",
        "  Set the device. CUDA if available, CPU otherwise\n",
        "\n",
        "  Args:\n",
        "    None\n",
        "\n",
        "  Returns:\n",
        "    Nothing\n",
        "  \"\"\"\n",
        "  device = \"cuda\" if torch.cuda.is_available() else \"cpu\"\n",
        "  if device != \"cuda\":\n",
        "    print(\"WARNING: For this notebook to perform best, \"\n",
        "        \"if possible, in the menu under `Runtime` -> \"\n",
        "        \"`Change runtime type.`  select `GPU` \")\n",
        "  else:\n",
        "    print(\"GPU is enabled in this notebook.\")\n",
        "\n",
        "  return device"
      ]
    },
    {
      "cell_type": "code",
      "execution_count": 6,
      "metadata": {
        "execution": {},
        "colab": {
          "base_uri": "https://localhost:8080/"
        },
        "id": "qZsdrOerWy9D",
        "outputId": "43586a09-eae1-4ada-dafd-668f676d257d"
      },
      "outputs": [
        {
          "output_type": "stream",
          "name": "stdout",
          "text": [
            "Random seed 2021 has been set.\n",
            "GPU is enabled in this notebook.\n"
          ]
        }
      ],
      "source": [
        "SEED = 2021\n",
        "set_seed(seed=SEED)\n",
        "DEVICE = set_device()"
      ]
    },
    {
      "cell_type": "code",
      "execution_count": 7,
      "metadata": {
        "cellView": "form",
        "execution": {},
        "colab": {
          "base_uri": "https://localhost:8080/"
        },
        "id": "uTfiFtsmWy9F",
        "outputId": "5e2ed389-ba86-40f3-8592-aaec239ef41e"
      },
      "outputs": [
        {
          "output_type": "stream",
          "name": "stdout",
          "text": [
            "Redownloading and unzipping the file... Please wait.\n",
            "Download completed.\n",
            "Add the nma_rl_games in the path and import the modules.\n"
          ]
        }
      ],
      "source": [
        "# @title Download the modules\n",
        "\n",
        "# @markdown Run this cell!\n",
        "\n",
        "# @markdown Download from OSF. Original repo: https://github.com/raymondchua/nma_rl_games.git\n",
        "\n",
        "import os, io, sys, shutil, zipfile\n",
        "from urllib.request import urlopen\n",
        "\n",
        "# download from github repo directly\n",
        "#!git clone git://github.com/raymondchua/nma_rl_games.git --quiet\n",
        "REPO_PATH = 'nma_rl_games'\n",
        "\n",
        "if os.path.exists(REPO_PATH):\n",
        "  download_string = \"Redownloading\"\n",
        "  shutil.rmtree(REPO_PATH)\n",
        "else:\n",
        "  download_string = \"Downloading\"\n",
        "\n",
        "zipurl = 'https://osf.io/kf4p9/download'\n",
        "print(f\"{download_string} and unzipping the file... Please wait.\")\n",
        "with urlopen(zipurl) as zipresp:\n",
        "  with zipfile.ZipFile(io.BytesIO(zipresp.read())) as zfile:\n",
        "    zfile.extractall()\n",
        "print(\"Download completed.\")\n",
        "\n",
        "print(f\"Add the {REPO_PATH} in the path and import the modules.\")\n",
        "# add the repo in the path\n",
        "sys.path.append('nma_rl_games/alpha-zero')\n",
        "\n",
        "# @markdown Import modules designed for use in this notebook\n",
        "import Arena\n",
        "\n",
        "from utils import *\n",
        "from Game import Game\n",
        "from MCTS import MCTS\n",
        "from NeuralNet import NeuralNet\n",
        "\n",
        "from othello.OthelloPlayers import *\n",
        "from othello.OthelloLogic import Board\n",
        "from othello.OthelloGame import OthelloGame\n",
        "from othello.pytorch.NNet import NNetWrapper as NNet"
      ]
    },
    {
      "cell_type": "markdown",
      "metadata": {
        "execution": {},
        "id": "HGHqiAi7Wy9I"
      },
      "source": [
        "The hyperparameters used throughout the notebook."
      ]
    },
    {
      "cell_type": "code",
      "execution_count": 8,
      "metadata": {
        "execution": {},
        "id": "RA3RatV6Wy9K"
      },
      "outputs": [],
      "source": [
        "args = dotdict({\n",
        "    'numIters': 1,            # In training, number of iterations = 1000 and num of episodes = 100\n",
        "    'numEps': 1,              # Number of complete self-play games to simulate during a new iteration.\n",
        "    'tempThreshold': 15,      # To control exploration and exploitation\n",
        "    'updateThreshold': 0.6,   # During arena playoff, new neural net will be accepted if threshold or more of games are won.\n",
        "    'maxlenOfQueue': 200,     # Number of game examples to train the neural networks.\n",
        "    'numMCTSSims': 15,        # Number of games moves for MCTS to simulate.\n",
        "    'arenaCompare': 10,       # Number of games to play during arena play to determine if new net will be accepted.\n",
        "    'cpuct': 1,\n",
        "    'maxDepth':5,             # Maximum number of rollouts\n",
        "    'numMCsims': 5,           # Number of monte carlo simulations\n",
        "    'mc_topk': 3,             # Top k actions for monte carlo rollout\n",
        "\n",
        "    'checkpoint': './temp/',\n",
        "    'load_model': False,\n",
        "    'load_folder_file': ('/dev/models/8x100x50','best.pth.tar'),\n",
        "    'numItersForTrainExamplesHistory': 20,\n",
        "\n",
        "    # Define neural network arguments\n",
        "    'lr': 0.001,               # lr: Learning Rate\n",
        "    'dropout': 0.3,\n",
        "    'epochs': 10,\n",
        "    'batch_size': 64,\n",
        "    'device': DEVICE,\n",
        "    'num_channels': 512,\n",
        "})"
      ]
    },
    {
      "cell_type": "markdown",
      "metadata": {
        "execution": {},
        "id": "9Sci1lehWy9L"
      },
      "source": [
        "---\n",
        "# Section 0: Introduction"
      ]
    },
    {
      "cell_type": "code",
      "execution_count": 9,
      "metadata": {
        "cellView": "form",
        "execution": {},
        "colab": {
          "base_uri": "https://localhost:8080/",
          "height": 581,
          "referenced_widgets": [
            "a1082b1e90bb4963a4ed75e4d06d196c",
            "2773bb52d9c5446e9fb8e5197d186fe0",
            "36397e847ed64bd1a8bec784e2f79586",
            "33109f5aa65347fba7f642443e562e2e",
            "86ff3f44041b4faa81c3df2344792b58",
            "63b499d815604e6ab422b3b6e85b43fc"
          ]
        },
        "id": "AYlsqL0yWy9N",
        "outputId": "7b82d18f-50de-4087-8f95-bdb12164d501"
      },
      "outputs": [
        {
          "output_type": "display_data",
          "data": {
            "text/plain": [
              "Tab(children=(Output(), Output()), _titles={'0': 'Youtube', '1': 'Bilibili'})"
            ],
            "application/vnd.jupyter.widget-view+json": {
              "version_major": 2,
              "version_minor": 0,
              "model_id": "a1082b1e90bb4963a4ed75e4d06d196c"
            }
          },
          "metadata": {}
        }
      ],
      "source": [
        "# @title Video 0: Introduction\n",
        "from ipywidgets import widgets\n",
        "\n",
        "out2 = widgets.Output()\n",
        "with out2:\n",
        "  from IPython.display import IFrame\n",
        "  class BiliVideo(IFrame):\n",
        "    def __init__(self, id, page=1, width=400, height=300, **kwargs):\n",
        "      self.id=id\n",
        "      src = \"https://player.bilibili.com/player.html?bvid={0}&page={1}\".format(id, page)\n",
        "      super(BiliVideo, self).__init__(src, width, height, **kwargs)\n",
        "\n",
        "  video = BiliVideo(id=f\"BV1Yh411B7EP\", width=854, height=480, fs=1)\n",
        "  print(\"Video available at https://www.bilibili.com/video/{0}\".format(video.id))\n",
        "  display(video)\n",
        "\n",
        "out1 = widgets.Output()\n",
        "with out1:\n",
        "  from IPython.display import YouTubeVideo\n",
        "  video = YouTubeVideo(id=f\"5kQ-xGbjlJo\", width=854, height=480, fs=1, rel=0)\n",
        "  print(\"Video available at https://youtube.com/watch?v=\" + video.id)\n",
        "  display(video)\n",
        "\n",
        "out = widgets.Tab([out1, out2])\n",
        "out.set_title(0, 'Youtube')\n",
        "out.set_title(1, 'Bilibili')\n",
        "\n",
        "# add event to airtable\n",
        "atform.add_event('Video 0: Introduction')\n",
        "\n",
        "display(out)"
      ]
    },
    {
      "cell_type": "markdown",
      "metadata": {
        "execution": {},
        "id": "woXt1syLWy9P"
      },
      "source": [
        "---\n",
        "# Section 1: Create a game/agent loop for RL\n",
        "\n",
        "*Time estimate: ~15mins*"
      ]
    },
    {
      "cell_type": "code",
      "execution_count": 10,
      "metadata": {
        "cellView": "form",
        "execution": {},
        "colab": {
          "base_uri": "https://localhost:8080/",
          "height": 581,
          "referenced_widgets": [
            "231cd0ed0bab4c38817945e4615fb9ab",
            "ad55a898ce744b9ebe8cc86e8b084bc8",
            "53c1bc635b6c4a1bbeea9be336416cf0",
            "5754a9a7e63647f89fd6f4e1af20f012",
            "0f10f84561bc4cb8b9a511ea002b9c3f",
            "f0bcd7c69c684125af9d2bb0c00b04ba"
          ]
        },
        "id": "GTcCTRVHWy9Q",
        "outputId": "26b7ee9f-33a5-4217-c8ed-c6deba92d5d1"
      },
      "outputs": [
        {
          "output_type": "display_data",
          "data": {
            "text/plain": [
              "Tab(children=(Output(), Output()), _titles={'0': 'Youtube', '1': 'Bilibili'})"
            ],
            "application/vnd.jupyter.widget-view+json": {
              "version_major": 2,
              "version_minor": 0,
              "model_id": "231cd0ed0bab4c38817945e4615fb9ab"
            }
          },
          "metadata": {}
        }
      ],
      "source": [
        "# @title Video 1: A game loop for RL\n",
        "from ipywidgets import widgets\n",
        "\n",
        "out2 = widgets.Output()\n",
        "with out2:\n",
        "  from IPython.display import IFrame\n",
        "  class BiliVideo(IFrame):\n",
        "    def __init__(self, id, page=1, width=400, height=300, **kwargs):\n",
        "      self.id=id\n",
        "      src = \"https://player.bilibili.com/player.html?bvid={0}&page={1}\".format(id, page)\n",
        "      super(BiliVideo, self).__init__(src, width, height, **kwargs)\n",
        "\n",
        "  video = BiliVideo(id=f\"BV1Wy4y1V7bt\", width=854, height=480, fs=1)\n",
        "  print(\"Video available at https://www.bilibili.com/video/{0}\".format(video.id))\n",
        "  display(video)\n",
        "\n",
        "out1 = widgets.Output()\n",
        "with out1:\n",
        "  from IPython.display import YouTubeVideo\n",
        "  video = YouTubeVideo(id=f\"aH2Hs8f6KrQ\", width=854, height=480, fs=1, rel=0)\n",
        "  print(\"Video available at https://youtube.com/watch?v=\" + video.id)\n",
        "  display(video)\n",
        "\n",
        "out = widgets.Tab([out1, out2])\n",
        "out.set_title(0, 'Youtube')\n",
        "out.set_title(1, 'Bilibili')\n",
        "\n",
        "# add event to airtable\n",
        "atform.add_event('Video 1: A game loop for RL')\n",
        "\n",
        "display(out)"
      ]
    },
    {
      "cell_type": "markdown",
      "metadata": {
        "execution": {},
        "id": "a2oQCkYlWy9R"
      },
      "source": [
        "### Introduction to OthelloGame\n",
        "\n",
        "**Game Components**: \n",
        "1. A square 8x8 board (you could use a chess board)\n",
        "2. 64 discs coloured black on one side and white on the opposite side.\n",
        "\n",
        "**Setup**:\n",
        "The board will start with 2 black discs and 2 white discs at the centre of the board. They are arranged with black forming a North-East to South-West direction. White is forming a North-West to South-East direction. The goal is to get the majority of colour discs on the board at the end of the game.\n",
        "\n",
        "**Strategy**:\n",
        "Two players ~ each player gets 32 discs and black always starts the game. Then the game alternates between white and black until:\n",
        "\n",
        "    - One player can not make a valid move to outflank the opponent.\n",
        "    - Both players have no valid moves.\n",
        "\n",
        "When a player has no valid moves, he pass his turn and the opponent continues.\n",
        "A player can not voluntarily forfeit his turn.\n",
        "When both players can not make a valid move the game ends.\n",
        "\n",
        "You can play Othello online: https://www.eothello.com/ if you like!"
      ]
    },
    {
      "cell_type": "markdown",
      "metadata": {
        "execution": {},
        "id": "APxQptbWWy9S"
      },
      "source": [
        "\n",
        "***Goal***: How to setup a game environment with multiple players for reinforcement learning experiments.\n",
        "\n",
        "***Exercise***: \n",
        "\n",
        "*   Build an agent that plays random moves\n",
        "*   Connect with connect 4 game\n",
        "*   Generate games including wins and losses"
      ]
    },
    {
      "cell_type": "code",
      "execution_count": 11,
      "metadata": {
        "execution": {},
        "id": "NQFIjeYeWy9T"
      },
      "outputs": [],
      "source": [
        "class OthelloGame(Game):\n",
        "  \"\"\"\n",
        "  Instantiate Othello Game\n",
        "  \"\"\"\n",
        "  square_content = {\n",
        "      -1: \"X\",\n",
        "      +0: \"-\",\n",
        "      +1: \"O\"\n",
        "      }\n",
        "\n",
        "  @staticmethod\n",
        "  def getSquarePiece(piece):\n",
        "    return OthelloGame.square_content[piece]\n",
        "\n",
        "  def __init__(self, n):\n",
        "    self.n = n\n",
        "\n",
        "  def getInitBoard(self):\n",
        "    # Return initial board (numpy board)\n",
        "    b = Board(self.n)\n",
        "    return np.array(b.pieces)\n",
        "\n",
        "  def getBoardSize(self):\n",
        "    # (a,b) tuple\n",
        "    return (self.n, self.n)\n",
        "\n",
        "  def getActionSize(self):\n",
        "    # Return number of actions, n is the board size and +1 is for no-op action\n",
        "    return self.n*self.n + 1\n",
        "\n",
        "  def getCanonicalForm(self, board, player):\n",
        "    # Return state if player==1, else return -state if player==-1\n",
        "    return player*board\n",
        "\n",
        "  def stringRepresentation(self, board):\n",
        "    return board.tobytes()\n",
        "\n",
        "  def stringRepresentationReadable(self, board):\n",
        "    board_s = \"\".join(self.square_content[square] for row in board for square in row)\n",
        "    return board_s\n",
        "\n",
        "  def getScore(self, board, player):\n",
        "    b = Board(self.n)\n",
        "    b.pieces = np.copy(board)\n",
        "    return b.countDiff(player)\n",
        "\n",
        "  @staticmethod\n",
        "  def display(board):\n",
        "    n = board.shape[0]\n",
        "    print(\"   \", end=\"\")\n",
        "    for y in range(n):\n",
        "      print(y, end=\" \")\n",
        "    print(\"\")\n",
        "    print(\"-----------------------\")\n",
        "    for y in range(n):\n",
        "      print(y, \"|\", end=\"\")    # Print the row\n",
        "      for x in range(n):\n",
        "        piece = board[y][x]    # Get the piece to print\n",
        "        print(OthelloGame.square_content[piece], end=\" \")\n",
        "      print(\"|\")\n",
        "    print(\"-----------------------\")\n",
        "\n",
        "  def getNextState(self, board, player, action):\n",
        "    \"\"\"\n",
        "    Helper function to make valid move\n",
        "    If player takes action on board, return next (board,player)\n",
        "    and action must be a valid move\n",
        "\n",
        "    Args:\n",
        "      board: np.ndarray\n",
        "        Board of size n x n [6x6 in this case]\n",
        "      player: Integer\n",
        "        ID of current player\n",
        "      action: np.ndarray\n",
        "        Space of actions\n",
        "\n",
        "    Returns:\n",
        "      (board,player) tuple signifying next state\n",
        "    \"\"\"\n",
        "    if action == self.n*self.n:\n",
        "      return (board, -player)\n",
        "    b = Board(self.n)\n",
        "    b.pieces = np.copy(board)\n",
        "    move = (int(action/self.n), action%self.n)\n",
        "    b.execute_move(move, player)\n",
        "    return (b.pieces, -player)\n",
        "\n",
        "  def getValidMoves(self, board, player):\n",
        "    \"\"\"\n",
        "    Helper function to make valid move\n",
        "    If player takes action on board, return next (board,player)\n",
        "    and action must be a valid move\n",
        "\n",
        "    Args:\n",
        "      board: np.ndarray\n",
        "        Board of size n x n [6x6 in this case]\n",
        "      player: Integer\n",
        "        ID of current player\n",
        "      action: np.ndarray\n",
        "        Space of action\n",
        "\n",
        "    Returns:\n",
        "      valids: np.ndarray\n",
        "        Returns a fixed size binary vector\n",
        "    \"\"\"\n",
        "    valids = [0]*self.getActionSize()\n",
        "    b = Board(self.n)\n",
        "    b.pieces = np.copy(board)\n",
        "    legalMoves =  b.get_legal_moves(player)\n",
        "    if len(legalMoves)==0:\n",
        "      valids[-1]=1\n",
        "      return np.array(valids)\n",
        "    for x, y in legalMoves:\n",
        "      valids[self.n*x+y]=1\n",
        "    return np.array(valids)\n",
        "\n",
        "  def getGameEnded(self, board, player):\n",
        "    \"\"\"\n",
        "    Helper function to signify if game has ended\n",
        "\n",
        "    Args:\n",
        "      board: np.ndarray\n",
        "        Board of size n x n [6x6 in this case]\n",
        "      player: Integer\n",
        "        ID of current player\n",
        "\n",
        "    Returns:\n",
        "      0 if not ended, 1 if player 1 won, -1 if player 1 lost\n",
        "    \"\"\"\n",
        "    b = Board(self.n)\n",
        "    b.pieces = np.copy(board)\n",
        "    if b.has_legal_moves(player):\n",
        "      return 0\n",
        "    if b.has_legal_moves(-player):\n",
        "      return 0\n",
        "    if b.countDiff(player) > 0:\n",
        "      return 1\n",
        "    return -1\n",
        "\n",
        "  def getSymmetries(self, board, pi):\n",
        "    \"\"\"\n",
        "    Get mirror/rotational configurations of board\n",
        "\n",
        "    Args:\n",
        "      board: np.ndarray\n",
        "        Board of size n x n [6x6 in this case]\n",
        "      pi: np.ndarray\n",
        "        Dimension of board\n",
        "\n",
        "    Returns:\n",
        "      l: list\n",
        "        90 degree of board, 90 degree of pi_board\n",
        "    \"\"\"\n",
        "    assert(len(pi) == self.n**2+1)  # 1 for pass\n",
        "    pi_board = np.reshape(pi[:-1], (self.n, self.n))\n",
        "    l = []\n",
        "\n",
        "    for i in range(1, 5):\n",
        "      for j in [True, False]:\n",
        "        newB = np.rot90(board, i)\n",
        "        newPi = np.rot90(pi_board, i)\n",
        "        if j:\n",
        "          newB = np.fliplr(newB)\n",
        "          newPi = np.fliplr(newPi)\n",
        "        l += [(newB, list(newPi.ravel()) + [pi[-1]])]\n",
        "    return l"
      ]
    },
    {
      "cell_type": "markdown",
      "metadata": {
        "execution": {},
        "id": "fH-SZyZ8Wy9W"
      },
      "source": [
        "## Section 1.1: Create a random player"
      ]
    },
    {
      "cell_type": "markdown",
      "metadata": {
        "execution": {},
        "id": "pMBRWG4PWy9X"
      },
      "source": [
        "### Coding Exercise 1.1: Implement a random player"
      ]
    },
    {
      "cell_type": "markdown",
      "metadata": {
        "execution": {},
        "id": "aQtc9Mj5Wy9Y"
      },
      "source": [
        "```python\n",
        "class RandomPlayer():\n",
        "  \"\"\"\n",
        "  Simulates Random Player\n",
        "  \"\"\"\n",
        "\n",
        "  def __init__(self, game):\n",
        "    self.game = game\n",
        "\n",
        "  def play(self, board):\n",
        "    \"\"\"\n",
        "    Simulates game play\n",
        "\n",
        "    Args:\n",
        "      board: np.ndarray\n",
        "        Board of size n x n [6x6 in this case]\n",
        "\n",
        "    Returns:\n",
        "      a: int\n",
        "        Randomly chosen move\n",
        "    \"\"\"\n",
        "    #################################################\n",
        "    ## TODO for students: ##\n",
        "    ## 1. Please compute the valid moves using getValidMoves(). ##\n",
        "    ## 2. Compute the probability over actions.##\n",
        "    ## 3. Pick a random action based on the probability computed above.##\n",
        "    # Fill out function and remove ##\n",
        "    raise NotImplementedError(\"Implement the random player\")\n",
        "    #################################################\n",
        "\n",
        "    valids = ...\n",
        "    prob = ...\n",
        "    a = ...\n",
        "\n",
        "    return a\n",
        "\n",
        "\n",
        "# Add event to airtable\n",
        "atform.add_event('Coding Exercise 1.1: Implement a random player')\n",
        "\n",
        "```"
      ]
    },
    {
      "cell_type": "code",
      "execution_count": 12,
      "metadata": {
        "execution": {},
        "id": "qgisZCRzWy9a"
      },
      "outputs": [],
      "source": [
        "# to_remove solution\n",
        "class RandomPlayer():\n",
        "  \"\"\"\n",
        "  Simulates Random Player\n",
        "  \"\"\"\n",
        "\n",
        "  def __init__(self, game):\n",
        "    self.game = game\n",
        "\n",
        "  def play(self, board):\n",
        "    \"\"\"\n",
        "    Simulates game play\n",
        "\n",
        "    Args:\n",
        "      board: np.ndarray\n",
        "        Board of size n x n [6x6 in this case]\n",
        "\n",
        "    Returns:\n",
        "      a: int\n",
        "        Randomly chosen move\n",
        "    \"\"\"\n",
        "    valids = self.game.getValidMoves(board, 1)\n",
        "    prob = valids/valids.sum()\n",
        "    a = np.random.choice(self.game.getActionSize(), p=prob)\n",
        "\n",
        "    return a\n",
        "\n",
        "\n",
        "# Add event to airtable\n",
        "atform.add_event('Coding Exercise 1.1: Implement a random player')"
      ]
    },
    {
      "cell_type": "markdown",
      "metadata": {
        "execution": {},
        "id": "DiiU2bCkWy9b"
      },
      "source": [
        "## Section 1.2. Initiate the game board\n"
      ]
    },
    {
      "cell_type": "code",
      "execution_count": 13,
      "metadata": {
        "execution": {},
        "colab": {
          "base_uri": "https://localhost:8080/"
        },
        "id": "59VAE5nWWy9c",
        "outputId": "83cce249-5d0a-42f2-f4bf-e912064175fc"
      },
      "outputs": [
        {
          "output_type": "stream",
          "name": "stdout",
          "text": [
            "Random seed 2021 has been set.\n",
            "   0 1 2 3 4 5 \n",
            "-----------------------\n",
            "0 |- - - - - - |\n",
            "1 |- - - - - - |\n",
            "2 |- - X O - - |\n",
            "3 |- - O X - - |\n",
            "4 |- - - - - - |\n",
            "5 |- - - - - - |\n",
            "-----------------------\n"
          ]
        }
      ],
      "source": [
        "# Display the board\n",
        "set_seed(seed=SEED)\n",
        "game = OthelloGame(6)\n",
        "board = game.getInitBoard()\n",
        "game.display(board)"
      ]
    },
    {
      "cell_type": "code",
      "execution_count": 14,
      "metadata": {
        "execution": {},
        "colab": {
          "base_uri": "https://localhost:8080/"
        },
        "id": "qfzQI2CqWy9c",
        "outputId": "f0a4b156-63b7-44ca-fa76-5d37e1ca63ae"
      },
      "outputs": [
        {
          "output_type": "stream",
          "name": "stdout",
          "text": [
            "Board size = (6, 6)\n",
            "Action size = 37\n"
          ]
        }
      ],
      "source": [
        "# Observe the game board size\n",
        "print(f'Board size = {game.getBoardSize()}')\n",
        "\n",
        "# Observe the action size\n",
        "print(f'Action size = {game.getActionSize()}')"
      ]
    },
    {
      "cell_type": "markdown",
      "metadata": {
        "execution": {},
        "id": "HIFPdVUtWy9d"
      },
      "source": [
        "## Section 1.3. Create two random agents to play against each other"
      ]
    },
    {
      "cell_type": "code",
      "execution_count": 15,
      "metadata": {
        "execution": {},
        "colab": {
          "base_uri": "https://localhost:8080/"
        },
        "id": "v3Wole25Wy9e",
        "outputId": "57e4737c-708c-4451-fba0-080e7277edf2"
      },
      "outputs": [
        {
          "output_type": "stream",
          "name": "stdout",
          "text": [
            "Random seed 2021 has been set.\n"
          ]
        },
        {
          "output_type": "stream",
          "name": "stderr",
          "text": [
            "Arena.playGames (1): 100%|██████████| 10/10 [00:00<00:00, 28.16it/s]\n",
            "Arena.playGames (2): 100%|██████████| 10/10 [00:00<00:00, 30.42it/s]"
          ]
        },
        {
          "output_type": "stream",
          "name": "stdout",
          "text": [
            "\n",
            "\n",
            "(11, 9, 0)\n"
          ]
        },
        {
          "output_type": "stream",
          "name": "stderr",
          "text": [
            "\n"
          ]
        }
      ],
      "source": [
        "# Define the random player\n",
        "player1 = RandomPlayer(game).play  # Player 1 is a random player\n",
        "player2 = RandomPlayer(game).play  # Player 2 is a random player\n",
        "\n",
        "# Define number of games\n",
        "num_games = 20\n",
        "\n",
        "# Start the competition\n",
        "set_seed(seed=SEED)\n",
        "arena = Arena.Arena(player1, player2 , game, display=None)  # To see the steps of the competition set \"display=OthelloGame.display\"\n",
        "result = arena.playGames(num_games, verbose=False)  # return  ( number of games won by player1, num of games won by player2, num of games won by nobody)\n",
        "print(f\"\\n\\n{result}\")"
      ]
    },
    {
      "cell_type": "markdown",
      "metadata": {
        "execution": {},
        "id": "dcsr1fdRWy9f"
      },
      "source": [
        "```\n",
        "(11, 9, 0)\n",
        "```"
      ]
    },
    {
      "cell_type": "markdown",
      "metadata": {
        "execution": {},
        "id": "hcaRNzaBWy9f"
      },
      "source": [
        "## Section 1.4. Compute win rate for the random player (player 1)"
      ]
    },
    {
      "cell_type": "code",
      "execution_count": 16,
      "metadata": {
        "execution": {},
        "colab": {
          "base_uri": "https://localhost:8080/"
        },
        "id": "YBYdWZWvWy9g",
        "outputId": "5d76c2fb-e8f7-400b-c8d9-8370db5b9e7b"
      },
      "outputs": [
        {
          "output_type": "stream",
          "name": "stdout",
          "text": [
            "Number of games won by player1 = 11, Number of games won by player2 = 9 out of 20 games\n",
            "\n",
            "Win rate for player1 over 20 games: 55.0%\n"
          ]
        }
      ],
      "source": [
        "print(f\"Number of games won by player1 = {result[0]}, \"\n",
        "      f\"Number of games won by player2 = {result[1]} out of {num_games} games\")\n",
        "win_rate_player1 = result[0]/num_games\n",
        "print(f\"\\nWin rate for player1 over 20 games: {round(win_rate_player1*100, 1)}%\")"
      ]
    },
    {
      "cell_type": "markdown",
      "metadata": {
        "execution": {},
        "id": "8aOmBA_zWy9h"
      },
      "source": [
        "```\n",
        "Number of games won by player1 = 11, Number of games won by player2 = 9 out of 20 games\n",
        "\n",
        "Win rate for player1 over 20 games: 55.0%\n",
        "```"
      ]
    },
    {
      "cell_type": "markdown",
      "metadata": {
        "execution": {},
        "id": "VBmp7VZKWy9i"
      },
      "source": [
        "---\n",
        "# Section 2: Train a value function from expert game data\n",
        "\n",
        "*Time estimate: ~25mins*\n",
        "\n"
      ]
    },
    {
      "cell_type": "markdown",
      "metadata": {
        "execution": {},
        "id": "Bj6PUVAPWy9i"
      },
      "source": [
        "**Goal:** Learn how to train a value function from a dataset of games played by an expert.\n",
        "\n",
        "**Exercise:** \n",
        "\n",
        "* Load a dataset of expert generated games.\n",
        "* Train a network to minimize MSE for win/loss predictions given board states sampled throughout the game. This will be done on a very small number of games. We will provide a network trained on a larger dataset."
      ]
    },
    {
      "cell_type": "code",
      "execution_count": 17,
      "metadata": {
        "cellView": "form",
        "execution": {},
        "colab": {
          "base_uri": "https://localhost:8080/",
          "height": 581,
          "referenced_widgets": [
            "8d3904d2ff824ff5a454d2ec0a80cebf",
            "037fd1f271354c9cb2f39427a0ac18b4",
            "fdccf17ed0b441f6a36455002a008999",
            "5fc6ed71cfd8471bbfbaf6b65e8f4843",
            "d3c2d87a718e46f1b9cc7e4b9125a350",
            "4687e8b9d5bf431abed83d0805aeaa7f"
          ]
        },
        "id": "MhW2F3l9Wy9j",
        "outputId": "f891fc19-b4b7-4c54-f7c1-bb4b9a6e4e72"
      },
      "outputs": [
        {
          "output_type": "display_data",
          "data": {
            "text/plain": [
              "Tab(children=(Output(), Output()), _titles={'0': 'Youtube', '1': 'Bilibili'})"
            ],
            "application/vnd.jupyter.widget-view+json": {
              "version_major": 2,
              "version_minor": 0,
              "model_id": "8d3904d2ff824ff5a454d2ec0a80cebf"
            }
          },
          "metadata": {}
        }
      ],
      "source": [
        "# @title Video 2: Train a value function\n",
        "from ipywidgets import widgets\n",
        "\n",
        "out2 = widgets.Output()\n",
        "with out2:\n",
        "  from IPython.display import IFrame\n",
        "  class BiliVideo(IFrame):\n",
        "    def __init__(self, id, page=1, width=400, height=300, **kwargs):\n",
        "      self.id=id\n",
        "      src = \"https://player.bilibili.com/player.html?bvid={0}&page={1}\".format(id, page)\n",
        "      super(BiliVideo, self).__init__(src, width, height, **kwargs)\n",
        "\n",
        "  video = BiliVideo(id=f\"BV1pg411j7f7\", width=854, height=480, fs=1)\n",
        "  print(\"Video available at https://www.bilibili.com/video/{0}\".format(video.id))\n",
        "  display(video)\n",
        "\n",
        "out1 = widgets.Output()\n",
        "with out1:\n",
        "  from IPython.display import YouTubeVideo\n",
        "  video = YouTubeVideo(id=f\"f9lZq0WQJFg\", width=854, height=480, fs=1, rel=0)\n",
        "  print(\"Video available at https://youtube.com/watch?v=\" + video.id)\n",
        "  display(video)\n",
        "\n",
        "out = widgets.Tab([out1, out2])\n",
        "out.set_title(0, 'Youtube')\n",
        "out.set_title(1, 'Bilibili')\n",
        "\n",
        "# add event to airtable\n",
        "atform.add_event('Video 2: Train a value function')\n",
        "\n",
        "display(out)"
      ]
    },
    {
      "cell_type": "markdown",
      "metadata": {
        "execution": {},
        "id": "4f9ESqzKWy9j"
      },
      "source": [
        "## Section 2.1. Load expert data"
      ]
    },
    {
      "cell_type": "code",
      "execution_count": 18,
      "metadata": {
        "execution": {},
        "id": "7UB9VCBVWy9k"
      },
      "outputs": [],
      "source": [
        "def loadTrainExamples(folder, filename):\n",
        "  \"\"\"\n",
        "  Helper function to load Training examples\n",
        "\n",
        "  Args:\n",
        "    folder: string\n",
        "      Path specifying training examples\n",
        "    filename: string\n",
        "      File name of training examples\n",
        "\n",
        "  Returns:\n",
        "    trainExamplesHistory: list\n",
        "      Returns examples based on the model were already collected (loaded)\n",
        "  \"\"\"\n",
        "  trainExamplesHistory = []\n",
        "  modelFile = os.path.join(folder, filename)\n",
        "  examplesFile = modelFile + \".examples\"\n",
        "  if not os.path.isfile(examplesFile):\n",
        "    print(f'File \"{examplesFile}\" with trainExamples not found!')\n",
        "    r = input(\"Continue? [y|n]\")\n",
        "    if r != \"y\":\n",
        "      sys.exit()\n",
        "  else:\n",
        "    print(\"File with train examples found. Loading it...\")\n",
        "    with open(examplesFile, \"rb\") as f:\n",
        "      trainExamplesHistory = Unpickler(f).load()\n",
        "    print('Loading done!')\n",
        "    return trainExamplesHistory"
      ]
    },
    {
      "cell_type": "code",
      "execution_count": 19,
      "metadata": {
        "execution": {},
        "colab": {
          "base_uri": "https://localhost:8080/"
        },
        "id": "TVLqhcniWy9l",
        "outputId": "790f170c-ca91-4316-848e-5091df0892e6"
      },
      "outputs": [
        {
          "output_type": "stream",
          "name": "stdout",
          "text": [
            "File with train examples found. Loading it...\n",
            "Loading done!\n"
          ]
        }
      ],
      "source": [
        "path = \"nma_rl_games/alpha-zero/pretrained_models/data/\"\n",
        "loaded_games = loadTrainExamples(folder=path, filename='checkpoint_1.pth.tar')"
      ]
    },
    {
      "cell_type": "markdown",
      "metadata": {
        "execution": {},
        "id": "fu0MRVxyWy9l"
      },
      "source": [
        "## Section 2.2. Define the Neural Network Architecture for Othello\n"
      ]
    },
    {
      "cell_type": "markdown",
      "metadata": {
        "execution": {},
        "id": "V_8fWnIUWy9l"
      },
      "source": [
        "### Coding Exercise 2.2: Implement the NN `OthelloNNet` for Othello"
      ]
    },
    {
      "cell_type": "markdown",
      "metadata": {
        "execution": {},
        "id": "fHxlDBKUWy9m"
      },
      "source": [
        "```python\n",
        "class OthelloNNet(nn.Module):\n",
        "  \"\"\"\n",
        "  Instantiate Othello Neural Net with following configuration\n",
        "  nn.Conv2d(1, args.num_channels, 3, stride=1, padding=1) # Convolutional Layer 1\n",
        "  nn.Conv2d(args.num_channels, args.num_channels, 3, stride=1, padding=1) # Convolutional Layer 2\n",
        "  nn.Conv2d(args.num_channels, args.num_channels, 3, stride=1) # Convolutional Layer 3\n",
        "  nn.Conv2d(args.num_channels, args.num_channels, 3, stride=1) # Convolutional Layer 4\n",
        "  nn.BatchNorm2d(args.num_channels) X 4\n",
        "  nn.Linear(args.num_channels * (self.board_x - 4) * (self.board_y - 4), 1024) # Fully-connected Layer 1\n",
        "  nn.Linear(1024, 512) # Fully-connected Layer 2\n",
        "  nn.Linear(512, self.action_size) # Fully-connected Layer 3\n",
        "  nn.Linear(512, 1) # Fully-connected Layer 4\n",
        "  \"\"\"\n",
        "\n",
        "  def __init__(self, game, args):\n",
        "    \"\"\"\n",
        "    Initialise game parameters\n",
        "\n",
        "    Args:\n",
        "      game: OthelloGame instance\n",
        "        Instance of the OthelloGame class above;\n",
        "      args: dictionary\n",
        "        Instantiates number of iterations and episodes, controls temperature threshold, queue length,\n",
        "        arena, checkpointing, and neural network parameters:\n",
        "        learning-rate: 0.001, dropout: 0.3, epochs: 10, batch_size: 64,\n",
        "        num_channels: 512\n",
        "\n",
        "    Returns:\n",
        "      Nothing\n",
        "    \"\"\"\n",
        "    self.board_x, self.board_y = game.getBoardSize()\n",
        "    self.action_size = game.getActionSize()\n",
        "    self.args = args\n",
        "\n",
        "    super(OthelloNNet, self).__init__()\n",
        "    self.conv1 = nn.Conv2d(1, args.num_channels, 3, stride=1, padding=1)\n",
        "    self.conv2 = nn.Conv2d(args.num_channels, args.num_channels, 3, stride=1,\n",
        "                           padding=1)\n",
        "    self.conv3 = nn.Conv2d(args.num_channels, args.num_channels, 3, stride=1)\n",
        "    self.conv4 = nn.Conv2d(args.num_channels, args.num_channels, 3, stride=1)\n",
        "\n",
        "    self.bn1 = nn.BatchNorm2d(args.num_channels)\n",
        "    self.bn2 = nn.BatchNorm2d(args.num_channels)\n",
        "    self.bn3 = nn.BatchNorm2d(args.num_channels)\n",
        "    self.bn4 = nn.BatchNorm2d(args.num_channels)\n",
        "\n",
        "    self.fc1 = nn.Linear(args.num_channels * (self.board_x - 4) * (self.board_y - 4), 1024)\n",
        "    self.fc_bn1 = nn.BatchNorm1d(1024)\n",
        "\n",
        "    self.fc2 = nn.Linear(1024, 512)\n",
        "    self.fc_bn2 = nn.BatchNorm1d(512)\n",
        "\n",
        "    self.fc3 = nn.Linear(512, self.action_size)\n",
        "\n",
        "    self.fc4 = nn.Linear(512, 1)\n",
        "\n",
        "  def forward(self, s):\n",
        "    \"\"\"\n",
        "    Controls forward pass of OthelloNNet\n",
        "\n",
        "    Args:\n",
        "      s: np.ndarray\n",
        "        Array of size (batch_size x board_x x board_y)\n",
        "\n",
        "    Returns:\n",
        "      Probability distribution over actions at the current state and the value of the current state.\n",
        "    \"\"\"\n",
        "    s = s.view(-1, 1, self.board_x, self.board_y)                # batch_size x 1 x board_x x board_y\n",
        "    s = F.relu(self.bn1(self.conv1(s)))                          # batch_size x num_channels x board_x x board_y\n",
        "    s = F.relu(self.bn2(self.conv2(s)))                          # batch_size x num_channels x board_x x board_y\n",
        "    s = F.relu(self.bn3(self.conv3(s)))                          # batch_size x num_channels x (board_x-2) x (board_y-2)\n",
        "    s = F.relu(self.bn4(self.conv4(s)))                          # batch_size x num_channels x (board_x-4) x (board_y-4)\n",
        "    s = s.view(-1, self.args.num_channels * (self.board_x - 4) * (self.board_y - 4))\n",
        "\n",
        "    s = F.dropout(F.relu(self.fc_bn1(self.fc1(s))), p=self.args.dropout, training=self.training)  # batch_size x 1024\n",
        "    s = F.dropout(F.relu(self.fc_bn2(self.fc2(s))), p=self.args.dropout, training=self.training)  # batch_size x 512\n",
        "\n",
        "    pi = self.fc3(s)  # batch_size x action_size\n",
        "    v = self.fc4(s)   # batch_size x 1\n",
        "    #################################################\n",
        "    ## TODO for students: Please compute a probability distribution over 'pi' using log softmax (for numerical stability)\n",
        "    # Fill out function and remove\n",
        "    raise NotImplementedError(\"Calculate the probability distribution and the value\")\n",
        "    #################################################\n",
        "    # Returns probability distribution over actions at the current state and the value of the current state.\n",
        "    return ..., ...\n",
        "\n",
        "# Add event to airtable\n",
        "atform.add_event('Coding Exercise 2.2: Implement the NN OthelloNNet for Othello')\n",
        "\n",
        "```"
      ]
    },
    {
      "cell_type": "code",
      "execution_count": 20,
      "metadata": {
        "execution": {},
        "id": "JaY4U5AVWy9m"
      },
      "outputs": [],
      "source": [
        "# to_remove solution\n",
        "class OthelloNNet(nn.Module):\n",
        "  \"\"\"\n",
        "  Instantiate Othello Neural Net with following configuration\n",
        "  nn.Conv2d(1, args.num_channels, 3, stride=1, padding=1) # Convolutional Layer 1\n",
        "  nn.Conv2d(args.num_channels, args.num_channels, 3, stride=1, padding=1) # Convolutional Layer 2\n",
        "  nn.Conv2d(args.num_channels, args.num_channels, 3, stride=1) # Convolutional Layer 3\n",
        "  nn.Conv2d(args.num_channels, args.num_channels, 3, stride=1) # Convolutional Layer 4\n",
        "  nn.BatchNorm2d(args.num_channels) X 4\n",
        "  nn.Linear(args.num_channels * (self.board_x - 4) * (self.board_y - 4), 1024) # Fully-connected Layer 1\n",
        "  nn.Linear(1024, 512) # Fully-connected Layer 2\n",
        "  nn.Linear(512, self.action_size) # Fully-connected Layer 3\n",
        "  nn.Linear(512, 1) # Fully-connected Layer 4\n",
        "  \"\"\"\n",
        "\n",
        "  def __init__(self, game, args):\n",
        "    \"\"\"\n",
        "    Initialise game parameters\n",
        "\n",
        "    Args:\n",
        "      game: OthelloGame instance\n",
        "        Instance of the OthelloGame class above;\n",
        "      args: dictionary\n",
        "        Instantiates number of iterations and episodes, controls temperature threshold, queue length,\n",
        "        arena, checkpointing, and neural network parameters:\n",
        "        learning-rate: 0.001, dropout: 0.3, epochs: 10, batch_size: 64,\n",
        "        num_channels: 512\n",
        "\n",
        "    Returns:\n",
        "      Nothing\n",
        "    \"\"\"\n",
        "    self.board_x, self.board_y = game.getBoardSize()\n",
        "    self.action_size = game.getActionSize()\n",
        "    self.args = args\n",
        "\n",
        "    super(OthelloNNet, self).__init__()\n",
        "    self.conv1 = nn.Conv2d(1, args.num_channels, 3, stride=1, padding=1)\n",
        "    self.conv2 = nn.Conv2d(args.num_channels, args.num_channels, 3, stride=1,\n",
        "                           padding=1)\n",
        "    self.conv3 = nn.Conv2d(args.num_channels, args.num_channels, 3, stride=1)\n",
        "    self.conv4 = nn.Conv2d(args.num_channels, args.num_channels, 3, stride=1)\n",
        "\n",
        "    self.bn1 = nn.BatchNorm2d(args.num_channels)\n",
        "    self.bn2 = nn.BatchNorm2d(args.num_channels)\n",
        "    self.bn3 = nn.BatchNorm2d(args.num_channels)\n",
        "    self.bn4 = nn.BatchNorm2d(args.num_channels)\n",
        "\n",
        "    self.fc1 = nn.Linear(args.num_channels * (self.board_x - 4) * (self.board_y - 4), 1024)\n",
        "    self.fc_bn1 = nn.BatchNorm1d(1024)\n",
        "\n",
        "    self.fc2 = nn.Linear(1024, 512)\n",
        "    self.fc_bn2 = nn.BatchNorm1d(512)\n",
        "\n",
        "    self.fc3 = nn.Linear(512, self.action_size)\n",
        "\n",
        "    self.fc4 = nn.Linear(512, 1)\n",
        "\n",
        "  def forward(self, s):\n",
        "    \"\"\"\n",
        "    Controls forward pass of OthelloNNet\n",
        "\n",
        "    Args:\n",
        "      s: np.ndarray\n",
        "        Array of size (batch_size x board_x x board_y)\n",
        "\n",
        "    Returns:\n",
        "      Probability distribution over actions at the current state and the value of the current state.\n",
        "    \"\"\"\n",
        "    s = s.view(-1, 1, self.board_x, self.board_y)                # batch_size x 1 x board_x x board_y\n",
        "    s = F.relu(self.bn1(self.conv1(s)))                          # batch_size x num_channels x board_x x board_y\n",
        "    s = F.relu(self.bn2(self.conv2(s)))                          # batch_size x num_channels x board_x x board_y\n",
        "    s = F.relu(self.bn3(self.conv3(s)))                          # batch_size x num_channels x (board_x-2) x (board_y-2)\n",
        "    s = F.relu(self.bn4(self.conv4(s)))                          # batch_size x num_channels x (board_x-4) x (board_y-4)\n",
        "    s = s.view(-1, self.args.num_channels * (self.board_x - 4) * (self.board_y - 4))\n",
        "\n",
        "    s = F.dropout(F.relu(self.fc_bn1(self.fc1(s))), p=self.args.dropout, training=self.training)  # batch_size x 1024\n",
        "    s = F.dropout(F.relu(self.fc_bn2(self.fc2(s))), p=self.args.dropout, training=self.training)  # batch_size x 512\n",
        "\n",
        "    pi = self.fc3(s)  # batch_size x action_size\n",
        "    v = self.fc4(s)   # batch_size x 1\n",
        "\n",
        "    # Returns probability distribution over actions at the current state and the value of the current state.\n",
        "    return F.log_softmax(pi, dim=1), torch.tanh(v)\n",
        "\n",
        "# Add event to airtable\n",
        "atform.add_event('Coding Exercise 2.2: Implement the NN OthelloNNet for Othello')"
      ]
    },
    {
      "cell_type": "markdown",
      "metadata": {
        "execution": {},
        "id": "5XgWwcQrWy9n"
      },
      "source": [
        "## Section 2.3. Define the Value network\n",
        " During training, the ground truth will be uploaded from the **MCTS simulations** available at `checkpoint_x.path.tar.examples`."
      ]
    },
    {
      "cell_type": "markdown",
      "metadata": {
        "execution": {},
        "id": "dGC8rYgBWy9o"
      },
      "source": [
        "### Coding Exercise 2.3: Implement the `ValueNetwork`"
      ]
    },
    {
      "cell_type": "markdown",
      "metadata": {
        "execution": {},
        "id": "Q2aW09fNWy9p"
      },
      "source": [
        "```python\n",
        "class ValueNetwork(NeuralNet):\n",
        "  \"\"\"\n",
        "  Initiates the Value Network\n",
        "  \"\"\"\n",
        "\n",
        "  def __init__(self, game):\n",
        "    \"\"\"\n",
        "    Initialise network parameters\n",
        "\n",
        "    Args:\n",
        "      game: OthelloGame instance\n",
        "        Instance of the OthelloGame class above;\n",
        "\n",
        "    Returns:\n",
        "      Nothing\n",
        "    \"\"\"\n",
        "    self.nnet = OthelloNNet(game, args)\n",
        "    self.board_x, self.board_y = game.getBoardSize()\n",
        "    self.action_size = game.getActionSize()\n",
        "    self.nnet.to(args.device)\n",
        "\n",
        "  def train(self, games):\n",
        "    \"\"\"\n",
        "    Function to train value network\n",
        "\n",
        "    Args:\n",
        "      games: list\n",
        "        List of examples with each example is of form (board, pi, v)\n",
        "\n",
        "    Returns:\n",
        "      Nothing\n",
        "    \"\"\"\n",
        "    optimizer = optim.Adam(self.nnet.parameters())\n",
        "    for examples in games:\n",
        "      for epoch in range(args.epochs):\n",
        "        print('EPOCH ::: ' + str(epoch + 1))\n",
        "        self.nnet.train()\n",
        "        v_losses = []   # To store the losses per epoch\n",
        "        batch_count = int(len(examples) / args.batch_size)  # len(examples)=200, batch-size=64, batch_count=3\n",
        "        t = tqdm(range(batch_count), desc='Training Value Network')\n",
        "        for _ in t:\n",
        "          sample_ids = np.random.randint(len(examples), size=args.batch_size)  # Read the ground truth information from MCTS simulation using the loaded examples\n",
        "          boards, pis, vs = list(zip(*[examples[i] for i in sample_ids]))  # Length of boards, pis, vis = 64\n",
        "          boards = torch.FloatTensor(np.array(boards).astype(np.float64))\n",
        "          target_vs = torch.FloatTensor(np.array(vs).astype(np.float64))\n",
        "\n",
        "          # Predict\n",
        "          # To run on GPU if available\n",
        "          boards, target_vs = boards.contiguous().to(args.device), target_vs.contiguous().to(args.device)\n",
        "\n",
        "          #################################################\n",
        "          ## TODO for students:\n",
        "          ## 1. Compute the value predicted by OthelloNNet() ##\n",
        "          ## 2. First implement the loss_v() function below and then use it to update the value loss. ##\n",
        "          # Fill out function and remove\n",
        "          raise NotImplementedError(\"Compute the output\")\n",
        "          #################################################\n",
        "          # Compute output\n",
        "          _, out_v = ...\n",
        "          l_v = ...  # Total loss\n",
        "\n",
        "          # Record loss\n",
        "          v_losses.append(l_v.item())\n",
        "          t.set_postfix(Loss_v=l_v.item())\n",
        "\n",
        "          # Compute gradient and do SGD step\n",
        "          optimizer.zero_grad()\n",
        "          l_v.backward()\n",
        "          optimizer.step()\n",
        "\n",
        "  def predict(self, board):\n",
        "    \"\"\"\n",
        "    Function to perform prediction\n",
        "\n",
        "    Args:\n",
        "      board: np.ndarray\n",
        "        Board of size n x n [6x6 in this case]\n",
        "\n",
        "    Returns:\n",
        "      v: OthelloNet instance\n",
        "        Data of the OthelloNet class instance above;\n",
        "    \"\"\"\n",
        "    # Timing\n",
        "    start = time.time()\n",
        "\n",
        "    # Preparing input\n",
        "    board = torch.FloatTensor(board.astype(np.float64))\n",
        "    board = board.contiguous().to(args.device)\n",
        "    board = board.view(1, self.board_x, self.board_y)\n",
        "    self.nnet.eval()\n",
        "    with torch.no_grad():\n",
        "        _, v = self.nnet(board)\n",
        "    return v.data.cpu().numpy()[0]\n",
        "\n",
        "  def loss_v(self, targets, outputs):\n",
        "    \"\"\"\n",
        "    Calculates Mean squared error\n",
        "\n",
        "    Args:\n",
        "      targets: np.ndarray\n",
        "        Ground Truth variables corresponding to input\n",
        "      outputs: np.ndarray\n",
        "        Predictions of Network\n",
        "\n",
        "    Returns:\n",
        "      MSE Loss calculated as: square of the difference between your model's predictions\n",
        "      and the ground truth and average across the whole dataset\n",
        "    \"\"\"\n",
        "    #################################################\n",
        "    ## TODO for students: Please compute Mean squared error and return as output. ##\n",
        "    # Fill out function and remove\n",
        "    raise NotImplementedError(\"Calculate the loss\")\n",
        "    #################################################\n",
        "    # Mean squared error (MSE)\n",
        "    return ...\n",
        "\n",
        "  def save_checkpoint(self, folder='checkpoint', filename='checkpoint.pth.tar'):\n",
        "    \"\"\"\n",
        "    Code Checkpointing\n",
        "\n",
        "    Args:\n",
        "      folder: string\n",
        "        Path specifying training examples\n",
        "      filename: string\n",
        "        File name of training examples\n",
        "\n",
        "    Returns:\n",
        "      Nothing\n",
        "    \"\"\"\n",
        "    filepath = os.path.join(folder, filename)\n",
        "    if not os.path.exists(folder):\n",
        "      print(\"Checkpoint Directory does not exist! Making directory {}\".format(folder))\n",
        "      os.mkdir(folder)\n",
        "    else:\n",
        "      print(\"Checkpoint Directory exists! \")\n",
        "    torch.save({'state_dict': self.nnet.state_dict(),}, filepath)\n",
        "    print(\"Model saved! \")\n",
        "\n",
        "  def load_checkpoint(self, folder='checkpoint', filename='checkpoint.pth.tar'):\n",
        "    \"\"\"\n",
        "    Load code checkpoint\n",
        "\n",
        "    Args:\n",
        "      folder: string\n",
        "        Path specifying training examples\n",
        "      filename: string\n",
        "        File name of training examples\n",
        "\n",
        "    Returns:\n",
        "      Nothing\n",
        "    \"\"\"\n",
        "    # https://github.com/pytorch/examples/blob/master/imagenet/main.py#L98\n",
        "    filepath = os.path.join(folder, filename)\n",
        "    if not os.path.exists(filepath):\n",
        "      raise (\"No model in path {}\".format(filepath))\n",
        "\n",
        "    checkpoint = torch.load(filepath, map_location=args.device)\n",
        "    self.nnet.load_state_dict(checkpoint['state_dict'])\n",
        "\n",
        "# Add event to airtable\n",
        "atform.add_event('Coding Exercise 2.3: Implement the ValueNetwork')\n",
        "\n",
        "```"
      ]
    },
    {
      "cell_type": "code",
      "execution_count": 21,
      "metadata": {
        "execution": {},
        "id": "_T3kv0qTWy9q"
      },
      "outputs": [],
      "source": [
        "# to_remove solution\n",
        "class ValueNetwork(NeuralNet):\n",
        "  \"\"\"\n",
        "  Initiates the Value Network\n",
        "  \"\"\"\n",
        "\n",
        "  def __init__(self, game):\n",
        "    \"\"\"\n",
        "    Initialise network parameters\n",
        "\n",
        "    Args:\n",
        "      game: OthelloGame instance\n",
        "        Instance of the OthelloGame class above;\n",
        "\n",
        "    Returns:\n",
        "      Nothing\n",
        "    \"\"\"\n",
        "    self.nnet = OthelloNNet(game, args)\n",
        "    self.board_x, self.board_y = game.getBoardSize()\n",
        "    self.action_size = game.getActionSize()\n",
        "    self.nnet.to(args.device)\n",
        "\n",
        "  def train(self, games):\n",
        "    \"\"\"\n",
        "    Function to train value network\n",
        "\n",
        "    Args:\n",
        "      games: list\n",
        "        List of examples with each example is of form (board, pi, v)\n",
        "\n",
        "    Returns:\n",
        "      Nothing\n",
        "    \"\"\"\n",
        "    optimizer = optim.Adam(self.nnet.parameters())\n",
        "    for examples in games:\n",
        "      for epoch in range(args.epochs):\n",
        "        print('EPOCH ::: ' + str(epoch + 1))\n",
        "        self.nnet.train()\n",
        "        v_losses = []   # To store the losses per epoch\n",
        "        batch_count = int(len(examples) / args.batch_size)  # len(examples)=200, batch-size=64, batch_count=3\n",
        "        t = tqdm(range(batch_count), desc='Training Value Network')\n",
        "        for _ in t:\n",
        "          sample_ids = np.random.randint(len(examples), size=args.batch_size)  # Read the ground truth information from MCTS simulation using the loaded examples\n",
        "          boards, pis, vs = list(zip(*[examples[i] for i in sample_ids]))  # Length of boards, pis, vis = 64\n",
        "          boards = torch.FloatTensor(np.array(boards).astype(np.float64))\n",
        "          target_vs = torch.FloatTensor(np.array(vs).astype(np.float64))\n",
        "\n",
        "          # Predict\n",
        "          # To run on GPU if available\n",
        "          boards, target_vs = boards.contiguous().to(args.device), target_vs.contiguous().to(args.device)\n",
        "\n",
        "          # Compute output\n",
        "          _, out_v = self.nnet(boards)\n",
        "          l_v = self.loss_v(target_vs, out_v)  # Total loss\n",
        "\n",
        "          # Record loss\n",
        "          v_losses.append(l_v.item())\n",
        "          t.set_postfix(Loss_v=l_v.item())\n",
        "\n",
        "          # Compute gradient and do SGD step\n",
        "          optimizer.zero_grad()\n",
        "          l_v.backward()\n",
        "          optimizer.step()\n",
        "\n",
        "  def predict(self, board):\n",
        "    \"\"\"\n",
        "    Function to perform prediction\n",
        "\n",
        "    Args:\n",
        "      board: np.ndarray\n",
        "        Board of size n x n [6x6 in this case]\n",
        "\n",
        "    Returns:\n",
        "      v: OthelloNet instance\n",
        "        Data of the OthelloNet class instance above;\n",
        "    \"\"\"\n",
        "    # Timing\n",
        "    start = time.time()\n",
        "\n",
        "    # Preparing input\n",
        "    board = torch.FloatTensor(board.astype(np.float64))\n",
        "    board = board.contiguous().to(args.device)\n",
        "    board = board.view(1, self.board_x, self.board_y)\n",
        "    self.nnet.eval()\n",
        "    with torch.no_grad():\n",
        "        _, v = self.nnet(board)\n",
        "    return v.data.cpu().numpy()[0]\n",
        "\n",
        "  def loss_v(self, targets, outputs):\n",
        "    \"\"\"\n",
        "    Calculates Mean squared error\n",
        "\n",
        "    Args:\n",
        "      targets: np.ndarray\n",
        "        Ground Truth variables corresponding to input\n",
        "      outputs: np.ndarray\n",
        "        Predictions of Network\n",
        "\n",
        "    Returns:\n",
        "      MSE Loss calculated as: square of the difference between your model's predictions\n",
        "      and the ground truth and average across the whole dataset\n",
        "    \"\"\"\n",
        "    # Mean squared error (MSE)\n",
        "    return torch.sum((targets - outputs.view(-1)) ** 2) / targets.size()[0]\n",
        "\n",
        "  def save_checkpoint(self, folder='checkpoint', filename='checkpoint.pth.tar'):\n",
        "    \"\"\"\n",
        "    Code Checkpointing\n",
        "\n",
        "    Args:\n",
        "      folder: string\n",
        "        Path specifying training examples\n",
        "      filename: string\n",
        "        File name of training examples\n",
        "\n",
        "    Returns:\n",
        "      Nothing\n",
        "    \"\"\"\n",
        "    filepath = os.path.join(folder, filename)\n",
        "    if not os.path.exists(folder):\n",
        "      print(\"Checkpoint Directory does not exist! Making directory {}\".format(folder))\n",
        "      os.mkdir(folder)\n",
        "    else:\n",
        "      print(\"Checkpoint Directory exists! \")\n",
        "    torch.save({'state_dict': self.nnet.state_dict(),}, filepath)\n",
        "    print(\"Model saved! \")\n",
        "\n",
        "  def load_checkpoint(self, folder='checkpoint', filename='checkpoint.pth.tar'):\n",
        "    \"\"\"\n",
        "    Load code checkpoint\n",
        "\n",
        "    Args:\n",
        "      folder: string\n",
        "        Path specifying training examples\n",
        "      filename: string\n",
        "        File name of training examples\n",
        "\n",
        "    Returns:\n",
        "      Nothing\n",
        "    \"\"\"\n",
        "    # https://github.com/pytorch/examples/blob/master/imagenet/main.py#L98\n",
        "    filepath = os.path.join(folder, filename)\n",
        "    if not os.path.exists(filepath):\n",
        "      raise (\"No model in path {}\".format(filepath))\n",
        "\n",
        "    checkpoint = torch.load(filepath, map_location=args.device)\n",
        "    self.nnet.load_state_dict(checkpoint['state_dict'])\n",
        "\n",
        "# Add event to airtable\n",
        "atform.add_event('Coding Exercise 2.3: Implement the ValueNetwork')"
      ]
    },
    {
      "cell_type": "markdown",
      "metadata": {
        "execution": {},
        "id": "wxLEV0ylWy9s"
      },
      "source": [
        "## Section 2.4. Train the value network and observe the MSE loss progress\n",
        "\n",
        "**Important:** Run this cell ONLY if you do not have access to the pretrained models in the `rl_for_games` repository."
      ]
    },
    {
      "cell_type": "code",
      "execution_count": 22,
      "metadata": {
        "execution": {},
        "id": "huvV5DvvWy9s"
      },
      "outputs": [],
      "source": [
        "if not os.listdir('nma_rl_games/alpha-zero/pretrained_models/models/'):\n",
        "  set_seed(seed=SEED)\n",
        "  game = OthelloGame(6)\n",
        "  vnet = ValueNetwork(game)\n",
        "  vnet.train(loaded_games)"
      ]
    },
    {
      "cell_type": "markdown",
      "metadata": {
        "execution": {},
        "id": "5Em1XfcgWy9t"
      },
      "source": [
        "---\n",
        "# Section 3: Use a trained value network to play games\n",
        "\n",
        "*Time estimate: ~25mins*\n"
      ]
    },
    {
      "cell_type": "markdown",
      "metadata": {
        "execution": {},
        "id": "jWQgpZgEWy9t"
      },
      "source": [
        "**Goal**: Learn how to use a value function in order to make a player that works better than a random player.\n",
        "\n",
        "**Exercise:**\n",
        "* Sample random valid moves and use the value function to rank them\n",
        "* Choose the best move as the action and play it\n",
        "Show that doing so beats the random player\n",
        "\n",
        "**Hint:** You might need to change the sign of the value based on the player."
      ]
    },
    {
      "cell_type": "code",
      "execution_count": 23,
      "metadata": {
        "cellView": "form",
        "execution": {},
        "colab": {
          "base_uri": "https://localhost:8080/",
          "height": 581,
          "referenced_widgets": [
            "864a83496b4045bca6c4a067f0115b1a",
            "2cdfd73414914d42b6c106f5f059cc2c",
            "5276e2a05f37428ca3186a68c34a1da5",
            "f6caa706f2b84eb99b39f455cbba189a",
            "ccb12e70f950440db9fef4fd2d420c95",
            "204224f87c244963981c22bbc311fa9d"
          ]
        },
        "id": "wcarQFQnWy9t",
        "outputId": "0728ab5a-b4f1-47e7-e88c-62e2877c1f15"
      },
      "outputs": [
        {
          "output_type": "display_data",
          "data": {
            "text/plain": [
              "Tab(children=(Output(), Output()), _titles={'0': 'Youtube', '1': 'Bilibili'})"
            ],
            "application/vnd.jupyter.widget-view+json": {
              "version_major": 2,
              "version_minor": 0,
              "model_id": "864a83496b4045bca6c4a067f0115b1a"
            }
          },
          "metadata": {}
        }
      ],
      "source": [
        "# @title Video 3: Play games using a value function\n",
        "from ipywidgets import widgets\n",
        "\n",
        "out2 = widgets.Output()\n",
        "with out2:\n",
        "  from IPython.display import IFrame\n",
        "  class BiliVideo(IFrame):\n",
        "    def __init__(self, id, page=1, width=400, height=300, **kwargs):\n",
        "      self.id=id\n",
        "      src = \"https://player.bilibili.com/player.html?bvid={0}&page={1}\".format(id, page)\n",
        "      super(BiliVideo, self).__init__(src, width, height, **kwargs)\n",
        "\n",
        "  video = BiliVideo(id=f\"BV1Ug411j7ig\", width=854, height=480, fs=1)\n",
        "  print(\"Video available at https://www.bilibili.com/video/{0}\".format(video.id))\n",
        "  display(video)\n",
        "\n",
        "out1 = widgets.Output()\n",
        "with out1:\n",
        "  from IPython.display import YouTubeVideo\n",
        "  video = YouTubeVideo(id=f\"tvmzVHPBKKs\", width=854, height=480, fs=1, rel=0)\n",
        "  print(\"Video available at https://youtube.com/watch?v=\" + video.id)\n",
        "  display(video)\n",
        "\n",
        "out = widgets.Tab([out1, out2])\n",
        "out.set_title(0, 'Youtube')\n",
        "out.set_title(1, 'Bilibili')\n",
        "\n",
        "# add event to airtable\n",
        "atform.add_event('Video 3: Play games using a value function')\n",
        "\n",
        "display(out)"
      ]
    },
    {
      "cell_type": "markdown",
      "metadata": {
        "execution": {},
        "id": "edRmkC0BWy9u"
      },
      "source": [
        "## Coding Exercise 3: Value-based player"
      ]
    },
    {
      "cell_type": "code",
      "execution_count": 24,
      "metadata": {
        "execution": {},
        "colab": {
          "base_uri": "https://localhost:8080/"
        },
        "id": "MEEIR6TvWy9v",
        "outputId": "71d19a78-d333-4afb-a0c5-fc645026f1f8"
      },
      "outputs": [
        {
          "output_type": "stream",
          "name": "stdout",
          "text": [
            "Random seed 2021 has been set.\n"
          ]
        }
      ],
      "source": [
        "model_save_name = 'ValueNetwork.pth.tar'\n",
        "path = \"nma_rl_games/alpha-zero/pretrained_models/models/\"\n",
        "set_seed(seed=SEED)\n",
        "game = OthelloGame(6)\n",
        "vnet = ValueNetwork(game)\n",
        "vnet.load_checkpoint(folder=path, filename=model_save_name)"
      ]
    },
    {
      "cell_type": "markdown",
      "metadata": {
        "execution": {},
        "id": "PbJoQKGPWy9w"
      },
      "source": [
        "```python\n",
        "class ValueBasedPlayer():\n",
        "  \"\"\"\n",
        "  Simulate Value Based Player\n",
        "  \"\"\"\n",
        "\n",
        "  def __init__(self, game, vnet):\n",
        "    \"\"\"\n",
        "    Initialise value based player parameters\n",
        "\n",
        "    Args:\n",
        "      game: OthelloGame instance\n",
        "        Instance of the OthelloGame class above;\n",
        "      vnet: Value Network instance\n",
        "        Instance of the Value Network class above;\n",
        "\n",
        "    Returns:\n",
        "      Nothing\n",
        "    \"\"\"\n",
        "    self.game = game\n",
        "    self.vnet = vnet\n",
        "\n",
        "  def play(self, board):\n",
        "    \"\"\"\n",
        "    Simulate game play\n",
        "\n",
        "    Args:\n",
        "      board: np.ndarray\n",
        "        Board of size n x n [6x6 in this case]\n",
        "\n",
        "    Returns:\n",
        "      candidates: List\n",
        "        Collection of tuples describing action and values of future predicted states\n",
        "    \"\"\"\n",
        "    valids = self.game.getValidMoves(board, 1)\n",
        "    candidates = []\n",
        "    max_num_actions = 4\n",
        "    va = np.where(valids)[0]\n",
        "    va_list = va.tolist()\n",
        "    random.shuffle(va_list)\n",
        "    #################################################\n",
        "    ## TODO for students: In the first part, please return the next board state using getNextState(), then predict\n",
        "    ## the value of next state using value network, and finally add the value and action as a tuple to the candidate list.\n",
        "    ## Note that you need to reverse the sign of the value. In zero-sum games the players flip every turn. In detail, we train\n",
        "    ## a value function to think about the game from one player's (either black or white) perspective. In order to use the same\n",
        "    ## value function to estimate how good the position is for the other player, we need to take the negative of the output of\n",
        "    ## the function. E.g., if the value function is trained for white's perspective and says that white is likely to win the game\n",
        "    ## from the current state with an output of 0.75, this similarly means that it would suggest that black is very unlikely (-0.75)\n",
        "    ## to win the game from the current state.##\n",
        "    # Fill out function and remove\n",
        "    raise NotImplementedError(\"Implement the value-based player\")\n",
        "    #################################################\n",
        "    for a in va_list:\n",
        "      # Return next board state using getNextState() function\n",
        "      nextBoard, _ = ...\n",
        "      # Predict the value of next state using value network\n",
        "      value = ...\n",
        "      # Add the value and the action as a tuple to the candidate lists, note that you might need to change the sign of the value based on the player\n",
        "      candidates += ...\n",
        "\n",
        "      if len(candidates) == max_num_actions:\n",
        "        break\n",
        "\n",
        "    candidates.sort()\n",
        "\n",
        "    return candidates[0][1]\n",
        "\n",
        "\n",
        "# Add event to airtable\n",
        "atform.add_event('Coding Exercise 3: Value-based player')\n",
        "\n",
        "# Playing games between a value-based player and a random player\n",
        "set_seed(seed=SEED)\n",
        "num_games = 20\n",
        "player1 = ValueBasedPlayer(game, vnet).play\n",
        "player2 = RandomPlayer(game).play\n",
        "arena = Arena.Arena(player1, player2, game, display=OthelloGame.display)\n",
        "## Uncomment the code below to check your code!\n",
        "# result = arena.playGames(num_games, verbose=False)\n",
        "# print(f\"\\n\\n{result}\")\n",
        "\n",
        "```"
      ]
    },
    {
      "cell_type": "code",
      "execution_count": 25,
      "metadata": {
        "execution": {},
        "colab": {
          "base_uri": "https://localhost:8080/"
        },
        "id": "4FJq1UkcWy9y",
        "outputId": "0b9d0772-298f-4979-a697-77e5d28bd2a8"
      },
      "outputs": [
        {
          "output_type": "stream",
          "name": "stdout",
          "text": [
            "Random seed 2021 has been set.\n"
          ]
        },
        {
          "output_type": "stream",
          "name": "stderr",
          "text": [
            "Arena.playGames (1): 100%|██████████| 10/10 [00:01<00:00,  7.08it/s]\n",
            "Arena.playGames (2): 100%|██████████| 10/10 [00:01<00:00,  8.06it/s]"
          ]
        },
        {
          "output_type": "stream",
          "name": "stdout",
          "text": [
            "\n",
            "\n",
            "(14, 6, 0)\n"
          ]
        },
        {
          "output_type": "stream",
          "name": "stderr",
          "text": [
            "\n"
          ]
        }
      ],
      "source": [
        "# to_remove solution\n",
        "class ValueBasedPlayer():\n",
        "  \"\"\"\n",
        "  Simulate Value Based Player\n",
        "  \"\"\"\n",
        "\n",
        "  def __init__(self, game, vnet):\n",
        "    \"\"\"\n",
        "    Initialise value based player parameters\n",
        "\n",
        "    Args:\n",
        "      game: OthelloGame instance\n",
        "        Instance of the OthelloGame class above;\n",
        "      vnet: Value Network instance\n",
        "        Instance of the Value Network class above;\n",
        "\n",
        "    Returns:\n",
        "      Nothing\n",
        "    \"\"\"\n",
        "    self.game = game\n",
        "    self.vnet = vnet\n",
        "\n",
        "  def play(self, board):\n",
        "    \"\"\"\n",
        "    Simulate game play\n",
        "\n",
        "    Args:\n",
        "      board: np.ndarray\n",
        "        Board of size n x n [6x6 in this case]\n",
        "\n",
        "    Returns:\n",
        "      candidates: List\n",
        "        Collection of tuples describing action and values of future predicted states\n",
        "    \"\"\"\n",
        "    valids = self.game.getValidMoves(board, 1)\n",
        "    candidates = []\n",
        "    max_num_actions = 4\n",
        "    va = np.where(valids)[0]\n",
        "    va_list = va.tolist()\n",
        "    random.shuffle(va_list)\n",
        "    for a in va_list:\n",
        "      # Return next board state using getNextState() function\n",
        "      nextBoard, _ = self.game.getNextState(board, 1, a)\n",
        "      # Predict the value of next state using value network\n",
        "      value = self.vnet.predict(nextBoard)\n",
        "      # Add the value and the action as a tuple to the candidate lists, note that you might need to change the sign of the value based on the player\n",
        "      candidates += [(-value, a)]\n",
        "\n",
        "      if len(candidates) == max_num_actions:\n",
        "        break\n",
        "\n",
        "    candidates.sort()\n",
        "\n",
        "    return candidates[0][1]\n",
        "\n",
        "\n",
        "# Add event to airtable\n",
        "atform.add_event('Coding Exercise 3: Value-based player')\n",
        "\n",
        "# Playing games between a value-based player and a random player\n",
        "set_seed(seed=SEED)\n",
        "num_games = 20\n",
        "player1 = ValueBasedPlayer(game, vnet).play\n",
        "player2 = RandomPlayer(game).play\n",
        "arena = Arena.Arena(player1, player2, game, display=OthelloGame.display)\n",
        "## Uncomment the code below to check your code!\n",
        "result = arena.playGames(num_games, verbose=False)\n",
        "print(f\"\\n\\n{result}\")"
      ]
    },
    {
      "cell_type": "markdown",
      "metadata": {
        "execution": {},
        "id": "EZjszEysWy9z"
      },
      "source": [
        "```\n",
        "(14, 6, 0)\n",
        "```"
      ]
    },
    {
      "cell_type": "markdown",
      "metadata": {
        "execution": {},
        "id": "RHuvgfxZWy9z"
      },
      "source": [
        "**Result of pitting a value-based player against a random player**"
      ]
    },
    {
      "cell_type": "code",
      "execution_count": 26,
      "metadata": {
        "execution": {},
        "colab": {
          "base_uri": "https://localhost:8080/"
        },
        "id": "rcUE11aJWy9z",
        "outputId": "dc154af1-fa2a-4d9f-86d1-b25f4066f81a"
      },
      "outputs": [
        {
          "output_type": "stream",
          "name": "stdout",
          "text": [
            "Number of games won by player1 = 14, Number of games won by player2 = 6, out of 20 games\n",
            "\n",
            "Win rate for player1 over 20 games: 70.0%\n"
          ]
        }
      ],
      "source": [
        "print(f\"Number of games won by player1 = {result[0]}, \"\n",
        "      f\"Number of games won by player2 = {result[1]}, out of {num_games} games\")\n",
        "win_rate_player1 = result[0]/num_games # result[0] is the number of times that player 1 wins\n",
        "print(f\"\\nWin rate for player1 over {num_games} games: {round(win_rate_player1*100, 1)}%\")"
      ]
    },
    {
      "cell_type": "markdown",
      "metadata": {
        "execution": {},
        "id": "McDUVgrJWy9z"
      },
      "source": [
        "```\n",
        "Number of games won by player1 = 14, Number of games won by player2 = 6, out of 20 games\n",
        "\n",
        "Win rate for player1 over 20 games: 70.0%\n",
        "```"
      ]
    },
    {
      "cell_type": "markdown",
      "metadata": {
        "execution": {},
        "id": "T8j1KDiRWy9z"
      },
      "source": [
        "---\n",
        "# Section 4: Train a policy network from expert game data\n",
        "\n",
        "*Time estimate: ~20mins*"
      ]
    },
    {
      "cell_type": "markdown",
      "metadata": {
        "execution": {},
        "id": "9ylIkkM8Wy90"
      },
      "source": [
        "**Goal**: How to train a policy network via supervised learning / behavioural cloning.\n",
        "\n",
        "**Exercise**:\n",
        "* Train a network to predict the next move in an expert dataset by maximizing the log likelihood of the next action."
      ]
    },
    {
      "cell_type": "code",
      "execution_count": 27,
      "metadata": {
        "cellView": "form",
        "execution": {},
        "colab": {
          "base_uri": "https://localhost:8080/",
          "height": 581,
          "referenced_widgets": [
            "5b9b4498558745f5a251f04f92332532",
            "1313231c67b64ed2bc184c2d607cc128",
            "15bb4a0610fa4fbba7dd5c1d49a97656",
            "6cb16e5ba66b46579c0cf4f49c0438e6",
            "3b8d78f089404f53b26a6390dacdb5bd",
            "6044b317599c4ef0bb6789ea4323c8fb"
          ]
        },
        "id": "Iz1YWQhnWy90",
        "outputId": "4cd5647a-0008-4e03-fa8d-678b350285c6"
      },
      "outputs": [
        {
          "output_type": "display_data",
          "data": {
            "text/plain": [
              "Tab(children=(Output(), Output()), _titles={'0': 'Youtube', '1': 'Bilibili'})"
            ],
            "application/vnd.jupyter.widget-view+json": {
              "version_major": 2,
              "version_minor": 0,
              "model_id": "5b9b4498558745f5a251f04f92332532"
            }
          },
          "metadata": {}
        }
      ],
      "source": [
        "# @title Video 4: Train a policy network\n",
        "from ipywidgets import widgets\n",
        "\n",
        "out2 = widgets.Output()\n",
        "with out2:\n",
        "  from IPython.display import IFrame\n",
        "  class BiliVideo(IFrame):\n",
        "    def __init__(self, id, page=1, width=400, height=300, **kwargs):\n",
        "      self.id=id\n",
        "      src = \"https://player.bilibili.com/player.html?bvid={0}&page={1}\".format(id, page)\n",
        "      super(BiliVideo, self).__init__(src, width, height, **kwargs)\n",
        "\n",
        "  video = BiliVideo(id=f\"BV1hQ4y127GJ\", width=854, height=480, fs=1)\n",
        "  print(\"Video available at https://www.bilibili.com/video/{0}\".format(video.id))\n",
        "  display(video)\n",
        "\n",
        "out1 = widgets.Output()\n",
        "with out1:\n",
        "  from IPython.display import YouTubeVideo\n",
        "  video = YouTubeVideo(id=f\"vj9gKNJ19D8\", width=854, height=480, fs=1, rel=0)\n",
        "  print(\"Video available at https://youtube.com/watch?v=\" + video.id)\n",
        "  display(video)\n",
        "\n",
        "out = widgets.Tab([out1, out2])\n",
        "out.set_title(0, 'Youtube')\n",
        "out.set_title(1, 'Bilibili')\n",
        "\n",
        "# add event to airtable\n",
        "atform.add_event('Video 4: Train a policy network')\n",
        "\n",
        "display(out)"
      ]
    },
    {
      "cell_type": "markdown",
      "metadata": {
        "execution": {},
        "id": "nR_kJUJpWy92"
      },
      "source": [
        "## Coding Exercise 4: Implement `PolicyNetwork`"
      ]
    },
    {
      "cell_type": "markdown",
      "metadata": {
        "execution": {},
        "id": "QkY9d7lPWy92"
      },
      "source": [
        "```python\n",
        "class PolicyNetwork(NeuralNet):\n",
        "  \"\"\"\n",
        "  Initialise Policy Network\n",
        "  \"\"\"\n",
        "\n",
        "  def __init__(self, game):\n",
        "    \"\"\"\n",
        "    Initalise policy network paramaters\n",
        "\n",
        "    Args:\n",
        "      game: OthelloGame instance\n",
        "        Instance of the OthelloGame class above;\n",
        "\n",
        "    Returns:\n",
        "      Nothing\n",
        "    \"\"\"\n",
        "    self.nnet = OthelloNNet(game, args)\n",
        "    self.board_x, self.board_y = game.getBoardSize()\n",
        "    self.action_size = game.getActionSize()\n",
        "    self.nnet.to(args.device)\n",
        "\n",
        "  def train(self, games):\n",
        "    \"\"\"\n",
        "    Function for Policy Network Training\n",
        "\n",
        "    Args:\n",
        "      games: list\n",
        "        List of examples where each example is of form (board, pi, v)\n",
        "\n",
        "    Return:\n",
        "      Nothing\n",
        "    \"\"\"\n",
        "    optimizer = optim.Adam(self.nnet.parameters())\n",
        "\n",
        "    for examples in games:\n",
        "      for epoch in range(args.epochs):\n",
        "        print('EPOCH ::: ' + str(epoch + 1))\n",
        "        self.nnet.train()\n",
        "        pi_losses = []\n",
        "\n",
        "        batch_count = int(len(examples) / args.batch_size)\n",
        "\n",
        "        t = tqdm(range(batch_count), desc='Training Policy Network')\n",
        "        for _ in t:\n",
        "          sample_ids = np.random.randint(len(examples), size=args.batch_size)\n",
        "          boards, pis, _ = list(zip(*[examples[i] for i in sample_ids]))\n",
        "          boards = torch.FloatTensor(np.array(boards).astype(np.float64))\n",
        "          target_pis = torch.FloatTensor(np.array(pis))\n",
        "\n",
        "          # Predict\n",
        "          boards, target_pis = boards.contiguous().to(args.device), target_pis.contiguous().to(args.device)\n",
        "\n",
        "          #################################################\n",
        "          ## TODO for students: ##\n",
        "          ## 1. Compute the policy (pi) predicted by OthelloNNet() ##\n",
        "          ## 2. Implement the loss_pi() function below and then use it to update the policy loss. ##\n",
        "          # Fill out function and remove\n",
        "          raise NotImplementedError(\"Compute the output\")\n",
        "          #################################################\n",
        "          # Compute output\n",
        "          out_pi, _ = ...\n",
        "          l_pi = ...\n",
        "\n",
        "          # Record loss\n",
        "          pi_losses.append(l_pi.item())\n",
        "          t.set_postfix(Loss_pi=l_pi.item())\n",
        "\n",
        "          # Compute gradient and do SGD step\n",
        "          optimizer.zero_grad()\n",
        "          l_pi.backward()\n",
        "          optimizer.step()\n",
        "\n",
        "  def predict(self, board):\n",
        "    \"\"\"\n",
        "    Function to perform prediction\n",
        "\n",
        "    Args:\n",
        "      board: np.ndarray\n",
        "        Board of size n x n [6x6 in this case]\n",
        "\n",
        "    Returns:\n",
        "      Data from the OthelloNet class instance above;\n",
        "    \"\"\"\n",
        "    # Timing\n",
        "    start = time.time()\n",
        "\n",
        "    # Preparing input\n",
        "    board = torch.FloatTensor(board.astype(np.float64))\n",
        "    board = board.contiguous().to(args.device)\n",
        "    board = board.view(1, self.board_x, self.board_y)\n",
        "    self.nnet.eval()\n",
        "    with torch.no_grad():\n",
        "      pi,_ = self.nnet(board)\n",
        "    return torch.exp(pi).data.cpu().numpy()[0]\n",
        "\n",
        "  def loss_pi(self, targets, outputs):\n",
        "    \"\"\"\n",
        "    Calculates Negative Log Likelihood(NLL) of Targets\n",
        "\n",
        "    Args:\n",
        "      targets: np.ndarray\n",
        "        Ground Truth variables corresponding to input\n",
        "      outputs: np.ndarray\n",
        "        Predictions of Network\n",
        "\n",
        "    Returns:\n",
        "      Negative Log Likelihood calculated as: When training a model, we aspire to find the minima of a\n",
        "      loss function given a set of parameters (in a neural network, these are the weights and biases).\n",
        "      Sum the loss function to all the correct classes. So, whenever the network assigns high confidence at\n",
        "      the correct class, the NLL is low, but when the network assigns low confidence at the correct class,\n",
        "      the NLL is high.\n",
        "    \"\"\"\n",
        "    #################################################\n",
        "    ## TODO for students: To implement the loss function, please compute and return the negative log likelihood of targets.\n",
        "    ## For more information, here is a reference that connects the expression to the neg-log-prob: https://gombru.github.io/2018/05/23/cross_entropy_loss/\n",
        "    # Fill out function and remove\n",
        "    raise NotImplementedError(\"Compute the loss\")\n",
        "    #################################################\n",
        "    return ...\n",
        "\n",
        "  def save_checkpoint(self, folder='checkpoint', filename='checkpoint.pth.tar'):\n",
        "    \"\"\"\n",
        "    Code Checkpointing\n",
        "\n",
        "    Args:\n",
        "      folder: string\n",
        "        Path specifying training examples\n",
        "      filename: string\n",
        "        File name of training examples\n",
        "\n",
        "    Returns:\n",
        "      Nothing\n",
        "    \"\"\"\n",
        "    filepath = os.path.join(folder, filename)\n",
        "    if not os.path.exists(folder):\n",
        "      print(\"Checkpoint Directory does not exist! Making directory {}\".format(folder))\n",
        "      os.mkdir(folder)\n",
        "    else:\n",
        "      print(\"Checkpoint Directory exists! \")\n",
        "    torch.save({'state_dict': self.nnet.state_dict(),}, filepath)\n",
        "    print(\"Model saved! \")\n",
        "\n",
        "  def load_checkpoint(self, folder='checkpoint', filename='checkpoint.pth.tar'):\n",
        "    \"\"\"\n",
        "    Load code checkpoint\n",
        "\n",
        "    Args:\n",
        "      folder: string\n",
        "        Path specifying training examples\n",
        "      filename: string\n",
        "        File name of training examples\n",
        "\n",
        "    Returns:\n",
        "      Nothing\n",
        "    \"\"\"\n",
        "    # https://github.com/pytorch/examples/blob/master/imagenet/main.py#L98\n",
        "    filepath = os.path.join(folder, filename)\n",
        "    if not os.path.exists(filepath):\n",
        "      raise (\"No model in path {}\".format(filepath))\n",
        "    checkpoint = torch.load(filepath, map_location=args.device)\n",
        "    self.nnet.load_state_dict(checkpoint['state_dict'])\n",
        "\n",
        "\n",
        "# Add event to airtable\n",
        "atform.add_event('Coding Exercise 4: Implement PolicyNetwork')\n",
        "\n",
        "```"
      ]
    },
    {
      "cell_type": "code",
      "execution_count": 28,
      "metadata": {
        "execution": {},
        "id": "JDbjUCXLWy93"
      },
      "outputs": [],
      "source": [
        "# to_remove solution\n",
        "class PolicyNetwork(NeuralNet):\n",
        "  \"\"\"\n",
        "  Initialise Policy Network\n",
        "  \"\"\"\n",
        "\n",
        "  def __init__(self, game):\n",
        "    \"\"\"\n",
        "    Initalise policy network paramaters\n",
        "\n",
        "    Args:\n",
        "      game: OthelloGame instance\n",
        "        Instance of the OthelloGame class above;\n",
        "\n",
        "    Returns:\n",
        "      Nothing\n",
        "    \"\"\"\n",
        "    self.nnet = OthelloNNet(game, args)\n",
        "    self.board_x, self.board_y = game.getBoardSize()\n",
        "    self.action_size = game.getActionSize()\n",
        "    self.nnet.to(args.device)\n",
        "\n",
        "  def train(self, games):\n",
        "    \"\"\"\n",
        "    Function for Policy Network Training\n",
        "\n",
        "    Args:\n",
        "      games: list\n",
        "        List of examples where each example is of form (board, pi, v)\n",
        "\n",
        "    Return:\n",
        "      Nothing\n",
        "    \"\"\"\n",
        "    optimizer = optim.Adam(self.nnet.parameters())\n",
        "\n",
        "    for examples in games:\n",
        "      for epoch in range(args.epochs):\n",
        "        print('EPOCH ::: ' + str(epoch + 1))\n",
        "        self.nnet.train()\n",
        "        pi_losses = []\n",
        "\n",
        "        batch_count = int(len(examples) / args.batch_size)\n",
        "\n",
        "        t = tqdm(range(batch_count), desc='Training Policy Network')\n",
        "        for _ in t:\n",
        "          sample_ids = np.random.randint(len(examples), size=args.batch_size)\n",
        "          boards, pis, _ = list(zip(*[examples[i] for i in sample_ids]))\n",
        "          boards = torch.FloatTensor(np.array(boards).astype(np.float64))\n",
        "          target_pis = torch.FloatTensor(np.array(pis))\n",
        "\n",
        "          # Predict\n",
        "          boards, target_pis = boards.contiguous().to(args.device), target_pis.contiguous().to(args.device)\n",
        "\n",
        "          # Compute output\n",
        "          out_pi, _ = self.nnet(boards)\n",
        "          l_pi = self.loss_pi(target_pis, out_pi)\n",
        "\n",
        "          # Record loss\n",
        "          pi_losses.append(l_pi.item())\n",
        "          t.set_postfix(Loss_pi=l_pi.item())\n",
        "\n",
        "          # Compute gradient and do SGD step\n",
        "          optimizer.zero_grad()\n",
        "          l_pi.backward()\n",
        "          optimizer.step()\n",
        "\n",
        "  def predict(self, board):\n",
        "    \"\"\"\n",
        "    Function to perform prediction\n",
        "\n",
        "    Args:\n",
        "      board: np.ndarray\n",
        "        Board of size n x n [6x6 in this case]\n",
        "\n",
        "    Returns:\n",
        "      Data from the OthelloNet class instance above;\n",
        "    \"\"\"\n",
        "    # Timing\n",
        "    start = time.time()\n",
        "\n",
        "    # Preparing input\n",
        "    board = torch.FloatTensor(board.astype(np.float64))\n",
        "    board = board.contiguous().to(args.device)\n",
        "    board = board.view(1, self.board_x, self.board_y)\n",
        "    self.nnet.eval()\n",
        "    with torch.no_grad():\n",
        "      pi,_ = self.nnet(board)\n",
        "    return torch.exp(pi).data.cpu().numpy()[0]\n",
        "\n",
        "  def loss_pi(self, targets, outputs):\n",
        "    \"\"\"\n",
        "    Calculates Negative Log Likelihood(NLL) of Targets\n",
        "\n",
        "    Args:\n",
        "      targets: np.ndarray\n",
        "        Ground Truth variables corresponding to input\n",
        "      outputs: np.ndarray\n",
        "        Predictions of Network\n",
        "\n",
        "    Returns:\n",
        "      Negative Log Likelihood calculated as: When training a model, we aspire to find the minima of a\n",
        "      loss function given a set of parameters (in a neural network, these are the weights and biases).\n",
        "      Sum the loss function to all the correct classes. So, whenever the network assigns high confidence at\n",
        "      the correct class, the NLL is low, but when the network assigns low confidence at the correct class,\n",
        "      the NLL is high.\n",
        "    \"\"\"\n",
        "    ## To implement the loss function, please compute and return the negative log likelihood of targets.\n",
        "    ## For more information, here is a reference that connects the expression to the neg-log-prob: https://gombru.github.io/2018/05/23/cross_entropy_loss/\n",
        "    return -torch.sum(targets * outputs) / targets.size()[0]\n",
        "\n",
        "  def save_checkpoint(self, folder='checkpoint', filename='checkpoint.pth.tar'):\n",
        "    \"\"\"\n",
        "    Code Checkpointing\n",
        "\n",
        "    Args:\n",
        "      folder: string\n",
        "        Path specifying training examples\n",
        "      filename: string\n",
        "        File name of training examples\n",
        "\n",
        "    Returns:\n",
        "      Nothing\n",
        "    \"\"\"\n",
        "    filepath = os.path.join(folder, filename)\n",
        "    if not os.path.exists(folder):\n",
        "      print(\"Checkpoint Directory does not exist! Making directory {}\".format(folder))\n",
        "      os.mkdir(folder)\n",
        "    else:\n",
        "      print(\"Checkpoint Directory exists! \")\n",
        "    torch.save({'state_dict': self.nnet.state_dict(),}, filepath)\n",
        "    print(\"Model saved! \")\n",
        "\n",
        "  def load_checkpoint(self, folder='checkpoint', filename='checkpoint.pth.tar'):\n",
        "    \"\"\"\n",
        "    Load code checkpoint\n",
        "\n",
        "    Args:\n",
        "      folder: string\n",
        "        Path specifying training examples\n",
        "      filename: string\n",
        "        File name of training examples\n",
        "\n",
        "    Returns:\n",
        "      Nothing\n",
        "    \"\"\"\n",
        "    # https://github.com/pytorch/examples/blob/master/imagenet/main.py#L98\n",
        "    filepath = os.path.join(folder, filename)\n",
        "    if not os.path.exists(filepath):\n",
        "      raise (\"No model in path {}\".format(filepath))\n",
        "\n",
        "    checkpoint = torch.load(filepath, map_location=args.device)\n",
        "    self.nnet.load_state_dict(checkpoint['state_dict'])\n",
        "\n",
        "\n",
        "# Add event to airtable\n",
        "atform.add_event('Coding Exercise 4: Implement PolicyNetwork')"
      ]
    },
    {
      "cell_type": "markdown",
      "metadata": {
        "execution": {},
        "id": "OXeC_foqWy95"
      },
      "source": [
        "### Train the policy network\n",
        "\n",
        "**Important:** Only run this cell if you do not have access to the pretrained models in the `rl_for_games` repository."
      ]
    },
    {
      "cell_type": "code",
      "execution_count": 29,
      "metadata": {
        "execution": {},
        "id": "W3xz1pRyWy95"
      },
      "outputs": [],
      "source": [
        "if not os.listdir('nma_rl_games/alpha-zero/pretrained_models/models/'):\n",
        "  set_seed(seed=SEED)\n",
        "  game = OthelloGame(6)\n",
        "  pnet = PolicyNetwork(game)\n",
        "  pnet.train(loaded_games)"
      ]
    },
    {
      "cell_type": "markdown",
      "metadata": {
        "execution": {},
        "id": "jC1mF94SWy96"
      },
      "source": [
        "---\n",
        "# Section 5: Use a trained policy network to play games\n",
        "\n",
        "Time estimate: ~20mins\n"
      ]
    },
    {
      "cell_type": "markdown",
      "metadata": {
        "execution": {},
        "id": "FcuMgSIjWy96"
      },
      "source": [
        "**Goal**: How to use a policy network to play games.\n",
        "\n",
        "**Exercise:** \n",
        "* Use the policy network to give probabilities for the next move.\n",
        "* Build a player that takes the move given the maximum probability by the network.\n",
        "* Compare this to another player that samples moves according to the probability distribution output by the network."
      ]
    },
    {
      "cell_type": "code",
      "execution_count": 30,
      "metadata": {
        "cellView": "form",
        "execution": {},
        "colab": {
          "base_uri": "https://localhost:8080/",
          "height": 581,
          "referenced_widgets": [
            "3bcb961ff4074049b9583fc5e8dde521",
            "34f03a345ccc434a8607268f71672238",
            "2b2ef28b67e54cff83cc0affd0ce46b3",
            "65852d38052f4fbdb62270916f22a9ae",
            "9290da11811a48e7b1506b5990540171",
            "4a42740fe91944bb9e6e97a6793eda50"
          ]
        },
        "id": "RcsmOFPhWy96",
        "outputId": "338d0913-c986-40d8-c2ea-cce4d3eeb4ae"
      },
      "outputs": [
        {
          "output_type": "display_data",
          "data": {
            "text/plain": [
              "Tab(children=(Output(), Output()), _titles={'0': 'Youtube', '1': 'Bilibili'})"
            ],
            "application/vnd.jupyter.widget-view+json": {
              "version_major": 2,
              "version_minor": 0,
              "model_id": "3bcb961ff4074049b9583fc5e8dde521"
            }
          },
          "metadata": {}
        }
      ],
      "source": [
        "# @title Video 5: Play games using a policy network\n",
        "from ipywidgets import widgets\n",
        "\n",
        "out2 = widgets.Output()\n",
        "with out2:\n",
        "  from IPython.display import IFrame\n",
        "  class BiliVideo(IFrame):\n",
        "    def __init__(self, id, page=1, width=400, height=300, **kwargs):\n",
        "      self.id=id\n",
        "      src = \"https://player.bilibili.com/player.html?bvid={0}&page={1}\".format(id, page)\n",
        "      super(BiliVideo, self).__init__(src, width, height, **kwargs)\n",
        "\n",
        "  video = BiliVideo(id=f\"BV1aq4y1S7o4\", width=854, height=480, fs=1)\n",
        "  print(\"Video available at https://www.bilibili.com/video/{0}\".format(video.id))\n",
        "  display(video)\n",
        "\n",
        "out1 = widgets.Output()\n",
        "with out1:\n",
        "  from IPython.display import YouTubeVideo\n",
        "  video = YouTubeVideo(id=f\"yHtVqT2Nstk\", width=854, height=480, fs=1, rel=0)\n",
        "  print(\"Video available at https://youtube.com/watch?v=\" + video.id)\n",
        "  display(video)\n",
        "\n",
        "out = widgets.Tab([out1, out2])\n",
        "out.set_title(0, 'Youtube')\n",
        "out.set_title(1, 'Bilibili')\n",
        "\n",
        "# add event to airtable\n",
        "atform.add_event('Video 5: Play games using a policy network')\n",
        "\n",
        "display(out)"
      ]
    },
    {
      "cell_type": "markdown",
      "metadata": {
        "execution": {},
        "id": "bZNL2FdWWy96"
      },
      "source": [
        "## Coding Exercise 5: Implement the `PolicyBasedPlayer`"
      ]
    },
    {
      "cell_type": "code",
      "execution_count": 31,
      "metadata": {
        "execution": {},
        "colab": {
          "base_uri": "https://localhost:8080/"
        },
        "id": "Zf7iP9FgWy97",
        "outputId": "00ec2517-2846-474b-84e3-d30ae77421aa"
      },
      "outputs": [
        {
          "output_type": "stream",
          "name": "stdout",
          "text": [
            "Random seed 2021 has been set.\n"
          ]
        }
      ],
      "source": [
        "model_save_name = 'PolicyNetwork.pth.tar'\n",
        "path = \"nma_rl_games/alpha-zero/pretrained_models/models/\"\n",
        "set_seed(seed=SEED)\n",
        "game = OthelloGame(6)\n",
        "pnet = PolicyNetwork(game)\n",
        "pnet.load_checkpoint(folder=path, filename=model_save_name)"
      ]
    },
    {
      "cell_type": "markdown",
      "metadata": {
        "execution": {},
        "id": "gvGPHQRPWy97"
      },
      "source": [
        "```python\n",
        "class PolicyBasedPlayer():\n",
        "  \"\"\"\n",
        "  Simulate Policy Based Player\n",
        "  \"\"\"\n",
        "\n",
        "  def __init__(self, game, pnet, greedy=True):\n",
        "    \"\"\"\n",
        "    Initialize Policy based player parameters\n",
        "\n",
        "    Args:\n",
        "      game: OthelloGame instance\n",
        "        Instance of the OthelloGame class above;\n",
        "      pnet: Policy Network instance\n",
        "        Instance of the Policy Network class above\n",
        "      greedy: Boolean\n",
        "        If true, implement greedy approach\n",
        "        Else, implement random sample policy based player\n",
        "\n",
        "    Returns:\n",
        "      Nothing\n",
        "    \"\"\"\n",
        "    self.game = game\n",
        "    self.pnet = pnet\n",
        "    self.greedy = greedy\n",
        "\n",
        "  def play(self, board):\n",
        "    \"\"\"\n",
        "    Simulate game play\n",
        "\n",
        "    Args:\n",
        "      board: np.ndarray\n",
        "        Board of size n x n [6x6 in this case]\n",
        "\n",
        "    Returns:\n",
        "      a: np.ndarray\n",
        "        If greedy, implement greedy policy player\n",
        "        Else, implement random sample policy based player\n",
        "    \"\"\"\n",
        "    valids = self.game.getValidMoves(board, 1)\n",
        "    #################################################\n",
        "    ## TODO for students:  ##\n",
        "    ## 1. Compute the action probabilities using policy network pnet()\n",
        "    ## 2. Mask invalid moves using valids variable and the action probabilites computed above.\n",
        "    ## 3. Compute the sum over valid actions and store them in sum_vap.\n",
        "    # Fill out function and remove\n",
        "    raise NotImplementedError(\"Define the play\")\n",
        "    #################################################\n",
        "    action_probs = ...\n",
        "    vap = ...  # Masking invalid moves\n",
        "    sum_vap = ...\n",
        "\n",
        "    if sum_vap > 0:\n",
        "      vap /= sum_vap  # Renormalize\n",
        "    else:\n",
        "      # If all valid moves were masked we make all valid moves equally probable\n",
        "      print(\"All valid moves were masked, doing a workaround.\")\n",
        "      vap = vap + valids\n",
        "      vap /= np.sum(vap)\n",
        "\n",
        "    if self.greedy:\n",
        "      # Greedy policy player\n",
        "      a = np.where(vap == np.max(vap))[0][0]\n",
        "    else:\n",
        "      # Sample-based policy player\n",
        "      a = np.random.choice(self.game.getActionSize(), p=vap)\n",
        "\n",
        "    return a\n",
        "\n",
        "\n",
        "# Add event to airtable\n",
        "atform.add_event('Coding Exercise 5: Implement the PolicyBasedPlayer')\n",
        "\n",
        "# Playing games\n",
        "set_seed(seed=SEED)\n",
        "num_games = 20\n",
        "player1 = PolicyBasedPlayer(game, pnet, greedy=True).play\n",
        "player2 = RandomPlayer(game).play\n",
        "arena = Arena.Arena(player1, player2, game, display=OthelloGame.display)\n",
        "## Uncomment below to test!\n",
        "# result = arena.playGames(num_games, verbose=False)\n",
        "# print(f\"\\n\\n{result}\")\n",
        "# win_rate_player1 = result[0] / num_games\n",
        "# print(f\"\\nWin rate for player1 over {num_games} games: {round(win_rate_player1*100, 1)}%\")\n",
        "\n",
        "```"
      ]
    },
    {
      "cell_type": "code",
      "execution_count": 32,
      "metadata": {
        "execution": {},
        "colab": {
          "base_uri": "https://localhost:8080/"
        },
        "id": "xR4a9Zp2Wy97",
        "outputId": "a202d861-9fe4-489f-9509-1f8441448353"
      },
      "outputs": [
        {
          "output_type": "stream",
          "name": "stdout",
          "text": [
            "Random seed 2021 has been set.\n"
          ]
        },
        {
          "output_type": "stream",
          "name": "stderr",
          "text": [
            "Arena.playGames (1): 100%|██████████| 10/10 [00:00<00:00, 17.80it/s]\n",
            "Arena.playGames (2): 100%|██████████| 10/10 [00:00<00:00, 17.48it/s]"
          ]
        },
        {
          "output_type": "stream",
          "name": "stdout",
          "text": [
            "\n",
            "\n",
            "(16, 4, 0)\n",
            "\n",
            "Win rate for player1 over 20 games: 80.0%\n"
          ]
        },
        {
          "output_type": "stream",
          "name": "stderr",
          "text": [
            "\n"
          ]
        }
      ],
      "source": [
        "# to_remove solution\n",
        "class PolicyBasedPlayer():\n",
        "  \"\"\"\n",
        "  Simulate Policy Based Player\n",
        "  \"\"\"\n",
        "\n",
        "  def __init__(self, game, pnet, greedy=True):\n",
        "    \"\"\"\n",
        "    Initialize Policy based player parameters\n",
        "\n",
        "    Args:\n",
        "      game: OthelloGame instance\n",
        "        Instance of the OthelloGame class above;\n",
        "      pnet: Policy Network instance\n",
        "        Instance of the Policy Network class above\n",
        "      greedy: Boolean\n",
        "        If true, implement greedy approach\n",
        "        Else, implement random sample policy based player\n",
        "\n",
        "    Returns:\n",
        "      Nothing\n",
        "    \"\"\"\n",
        "    self.game = game\n",
        "    self.pnet = pnet\n",
        "    self.greedy = greedy\n",
        "\n",
        "  def play(self, board):\n",
        "    \"\"\"\n",
        "    Simulate game play\n",
        "\n",
        "    Args:\n",
        "      board: np.ndarray\n",
        "        Board of size n x n [6x6 in this case]\n",
        "\n",
        "    Returns:\n",
        "      a: np.ndarray\n",
        "        If greedy, implement greedy policy player\n",
        "        Else, implement random sample policy based player\n",
        "    \"\"\"\n",
        "    valids = self.game.getValidMoves(board, 1)\n",
        "    action_probs = self.pnet.predict(board)\n",
        "    vap = action_probs*valids  # Masking invalid moves\n",
        "    sum_vap = np.sum(vap)\n",
        "\n",
        "    if sum_vap > 0:\n",
        "      vap /= sum_vap  # Renormalize\n",
        "    else:\n",
        "      # If all valid moves were masked we make all valid moves equally probable\n",
        "      print(\"All valid moves were masked, doing a workaround.\")\n",
        "      vap = vap + valids\n",
        "      vap /= np.sum(vap)\n",
        "\n",
        "    if self.greedy:\n",
        "      # Greedy policy player\n",
        "      a = np.where(vap == np.max(vap))[0][0]\n",
        "    else:\n",
        "      # Sample-based policy player\n",
        "      a = np.random.choice(self.game.getActionSize(), p=vap)\n",
        "\n",
        "    return a\n",
        "\n",
        "\n",
        "# Add event to airtable\n",
        "atform.add_event('Coding Exercise 5: Implement the PolicyBasedPlayer')\n",
        "\n",
        "# Playing games\n",
        "set_seed(seed=SEED)\n",
        "num_games = 20\n",
        "player1 = PolicyBasedPlayer(game, pnet, greedy=True).play\n",
        "player2 = RandomPlayer(game).play\n",
        "arena = Arena.Arena(player1, player2, game, display=OthelloGame.display)\n",
        "## Uncomment below to test!\n",
        "result = arena.playGames(num_games, verbose=False)\n",
        "print(f\"\\n\\n{result}\")\n",
        "win_rate_player1 = result[0] / num_games\n",
        "print(f\"\\nWin rate for player1 over {num_games} games: {round(win_rate_player1*100, 1)}%\")"
      ]
    },
    {
      "cell_type": "code",
      "execution_count": 33,
      "metadata": {
        "execution": {},
        "colab": {
          "base_uri": "https://localhost:8080/"
        },
        "id": "eMq1Ce3KWy98",
        "outputId": "179180e7-5461-4705-c354-e36a47efbcdb"
      },
      "outputs": [
        {
          "output_type": "stream",
          "name": "stdout",
          "text": [
            "Random seed 2021 has been set.\n"
          ]
        }
      ],
      "source": [
        "model_save_name = 'PolicyNetwork.pth.tar'\n",
        "path = \"nma_rl_games/alpha-zero/pretrained_models/models/\"\n",
        "set_seed(seed=SEED)\n",
        "game = OthelloGame(6)\n",
        "pnet = PolicyNetwork(game)\n",
        "pnet.load_checkpoint(folder=path, filename=model_save_name)"
      ]
    },
    {
      "cell_type": "markdown",
      "metadata": {
        "execution": {},
        "id": "IefTn0raWy98"
      },
      "source": [
        "```\n",
        " Win rate for player1 over 20 games: 80.0%\n",
        "```"
      ]
    },
    {
      "cell_type": "markdown",
      "metadata": {
        "execution": {},
        "id": "EmdBK22ZWy99"
      },
      "source": [
        "### Comparing a policy based player versus a random player\n",
        "\n",
        "There's often randomness in the results as we are running the players for a low number of games (only 20 games due compute + time costs). So, when students are running the cells they might not get the expected result. To better measure the strength of players you can run more games!"
      ]
    },
    {
      "cell_type": "code",
      "execution_count": 34,
      "metadata": {
        "execution": {},
        "colab": {
          "base_uri": "https://localhost:8080/"
        },
        "id": "ovpqjZQ3Wy9-",
        "outputId": "5ca426b5-98a5-40fd-a66a-9b241fb68806"
      },
      "outputs": [
        {
          "output_type": "stream",
          "name": "stdout",
          "text": [
            "Random seed 2021 has been set.\n"
          ]
        },
        {
          "output_type": "stream",
          "name": "stderr",
          "text": [
            "Arena.playGames (1): 100%|██████████| 10/10 [00:00<00:00, 16.60it/s]\n",
            "Arena.playGames (2): 100%|██████████| 10/10 [00:00<00:00, 16.82it/s]"
          ]
        },
        {
          "output_type": "stream",
          "name": "stdout",
          "text": [
            "\n",
            "\n",
            "(19, 1, 0)\n"
          ]
        },
        {
          "output_type": "stream",
          "name": "stderr",
          "text": [
            "\n"
          ]
        }
      ],
      "source": [
        "set_seed(seed=SEED)\n",
        "num_games = 20\n",
        "game = OthelloGame(6)\n",
        "player1 = PolicyBasedPlayer(game, pnet, greedy=False).play\n",
        "player2 = RandomPlayer(game).play\n",
        "arena = Arena.Arena(player1, player2, game, display=OthelloGame.display)\n",
        "result = arena.playGames(num_games, verbose=False)\n",
        "print(f\"\\n\\n{result}\")"
      ]
    },
    {
      "cell_type": "code",
      "execution_count": 35,
      "metadata": {
        "execution": {},
        "colab": {
          "base_uri": "https://localhost:8080/"
        },
        "id": "_YeQhD_SWy9-",
        "outputId": "a9044617-189c-4d98-952a-3c5d7b5587ce"
      },
      "outputs": [
        {
          "output_type": "stream",
          "name": "stdout",
          "text": [
            "Win rate for player1 over 20 games: 95.0%\n"
          ]
        }
      ],
      "source": [
        "win_rate_player1 = result[0]/num_games\n",
        "print(f\"Win rate for player1 over {num_games} games: {round(win_rate_player1*100, 1)}%\")"
      ]
    },
    {
      "cell_type": "markdown",
      "metadata": {
        "execution": {},
        "id": "N0tBYuWdWy9_"
      },
      "source": [
        "```\n",
        "Win rate for player1 over 20 games: 95.0%\n",
        "```"
      ]
    },
    {
      "cell_type": "markdown",
      "metadata": {
        "execution": {},
        "id": "Pf9dl-c_Wy9_"
      },
      "source": [
        "### Compare greedy policy based player versus value based player "
      ]
    },
    {
      "cell_type": "code",
      "execution_count": 36,
      "metadata": {
        "execution": {},
        "colab": {
          "base_uri": "https://localhost:8080/"
        },
        "id": "xaygZ4YJWy9_",
        "outputId": "f986ed4d-3441-40a1-b937-fc43617b5eed"
      },
      "outputs": [
        {
          "output_type": "stream",
          "name": "stdout",
          "text": [
            "Random seed 2021 has been set.\n"
          ]
        },
        {
          "output_type": "stream",
          "name": "stderr",
          "text": [
            "Arena.playGames (1): 100%|██████████| 10/10 [00:01<00:00,  6.26it/s]\n",
            "Arena.playGames (2): 100%|██████████| 10/10 [00:02<00:00,  3.78it/s]"
          ]
        },
        {
          "output_type": "stream",
          "name": "stdout",
          "text": [
            "\n",
            "\n",
            "(11, 9, 0)\n"
          ]
        },
        {
          "output_type": "stream",
          "name": "stderr",
          "text": [
            "\n"
          ]
        }
      ],
      "source": [
        "set_seed(seed=SEED)\n",
        "num_games = 20\n",
        "game = OthelloGame(6)\n",
        "player1 = PolicyBasedPlayer(game, pnet).play\n",
        "player2 = ValueBasedPlayer(game, vnet).play\n",
        "arena = Arena.Arena(player1, player2, game, display=OthelloGame.display)\n",
        "result = arena.playGames(num_games, verbose=False)\n",
        "print(f\"\\n\\n{result}\")"
      ]
    },
    {
      "cell_type": "code",
      "execution_count": 37,
      "metadata": {
        "execution": {},
        "colab": {
          "base_uri": "https://localhost:8080/"
        },
        "id": "cAR2aYJLWy-A",
        "outputId": "1f8a6e60-956d-41e8-deae-d05afca372af"
      },
      "outputs": [
        {
          "output_type": "stream",
          "name": "stdout",
          "text": [
            "Win rate for player 1 over 20 games: 55.0%\n"
          ]
        }
      ],
      "source": [
        "win_rate_player1 = result[0]/num_games\n",
        "print(f\"Win rate for player 1 over {num_games} games: {round(win_rate_player1*100, 1)}%\")"
      ]
    },
    {
      "cell_type": "markdown",
      "metadata": {
        "execution": {},
        "id": "cz3q41R1Wy-A"
      },
      "source": [
        "```\n",
        "Win rate for player 1 over 20 games: 55.0%\n",
        "```"
      ]
    },
    {
      "cell_type": "markdown",
      "metadata": {
        "execution": {},
        "id": "b4U26M0vWy-A"
      },
      "source": [
        "### Compare greedy policy based player versus sample-based policy player "
      ]
    },
    {
      "cell_type": "code",
      "execution_count": 38,
      "metadata": {
        "execution": {},
        "colab": {
          "base_uri": "https://localhost:8080/"
        },
        "id": "QGVDk1wfWy-B",
        "outputId": "99d0f831-0756-409e-854e-8df5009938af"
      },
      "outputs": [
        {
          "output_type": "stream",
          "name": "stdout",
          "text": [
            "Random seed 2021 has been set.\n"
          ]
        },
        {
          "output_type": "stream",
          "name": "stderr",
          "text": [
            "Arena.playGames (1): 100%|██████████| 10/10 [00:01<00:00,  5.99it/s]\n",
            "Arena.playGames (2): 100%|██████████| 10/10 [00:01<00:00,  5.65it/s]"
          ]
        },
        {
          "output_type": "stream",
          "name": "stdout",
          "text": [
            "\n",
            "\n",
            "(10, 10, 0)\n"
          ]
        },
        {
          "output_type": "stream",
          "name": "stderr",
          "text": [
            "\n"
          ]
        }
      ],
      "source": [
        "set_seed(seed=SEED)\n",
        "num_games = 20\n",
        "game = OthelloGame(6)\n",
        "player1 = PolicyBasedPlayer(game, pnet).play # greedy player\n",
        "player2 = PolicyBasedPlayer(game, pnet, greedy=False).play # sample-based player\n",
        "arena = Arena.Arena(player1, player2, game, display=OthelloGame.display)\n",
        "result = arena.playGames(num_games, verbose=False)\n",
        "print(f\"\\n\\n{result}\")"
      ]
    },
    {
      "cell_type": "code",
      "execution_count": 39,
      "metadata": {
        "execution": {},
        "colab": {
          "base_uri": "https://localhost:8080/"
        },
        "id": "Ca2FKRUIWy-B",
        "outputId": "eb62c368-c593-4aa5-bc9b-96b529125a73"
      },
      "outputs": [
        {
          "output_type": "stream",
          "name": "stdout",
          "text": [
            "Win rate for player 1 over 20 games: 50.0%\n"
          ]
        }
      ],
      "source": [
        "win_rate_player1 = result[0]/num_games\n",
        "print(f\"Win rate for player 1 over {num_games} games: {round(win_rate_player1*100, 1)}%\")"
      ]
    },
    {
      "cell_type": "markdown",
      "metadata": {
        "execution": {},
        "id": "qfRiCHb9Wy-B"
      },
      "source": [
        "```\n",
        " Win rate for player 1 over 20 games: 50.0%\n",
        "```"
      ]
    },
    {
      "cell_type": "markdown",
      "metadata": {
        "execution": {},
        "id": "wZ2yUdoLWy-C"
      },
      "source": [
        "---\n",
        "# Section 6: Plan using Monte Carlo Rollouts\n",
        "\n",
        "*Time estimate: ~15mins*\n",
        "\n"
      ]
    },
    {
      "cell_type": "markdown",
      "metadata": {
        "execution": {},
        "id": "_9IqxyqbWy-C"
      },
      "source": [
        "**Goal**: Teach the students the core idea behind using simulated rollouts to understand the future and value actions.\n",
        "\n",
        "**Exercise**:\n",
        "* Build a loop to run Monte Carlo simulations using the policy network.\n",
        "* Use this to obtain better estimates of the value of moves."
      ]
    },
    {
      "cell_type": "code",
      "execution_count": 40,
      "metadata": {
        "cellView": "form",
        "execution": {},
        "colab": {
          "base_uri": "https://localhost:8080/",
          "height": 581,
          "referenced_widgets": [
            "b887b62c543b4bf9b18a539cbc59897d",
            "f79016300f45444faf6015075dc84a90",
            "28da2b9d9abf4919b2e7252d3c1fd5d3",
            "44b92167fe0e4d929c881ebbce114206",
            "140196df75f14e45a17cfa7537377354",
            "fbe21e9ebec24e899fd8a08593f8d324"
          ]
        },
        "id": "h_ETQ_ywWy-C",
        "outputId": "1ec568fb-03cb-48ee-ad5f-5b365cf23618"
      },
      "outputs": [
        {
          "output_type": "display_data",
          "data": {
            "text/plain": [
              "Tab(children=(Output(), Output()), _titles={'0': 'Youtube', '1': 'Bilibili'})"
            ],
            "application/vnd.jupyter.widget-view+json": {
              "version_major": 2,
              "version_minor": 0,
              "model_id": "b887b62c543b4bf9b18a539cbc59897d"
            }
          },
          "metadata": {}
        }
      ],
      "source": [
        "# @title Video 6: Play using Monte-Carlo rollouts\n",
        "from ipywidgets import widgets\n",
        "\n",
        "out2 = widgets.Output()\n",
        "with out2:\n",
        "  from IPython.display import IFrame\n",
        "  class BiliVideo(IFrame):\n",
        "    def __init__(self, id, page=1, width=400, height=300, **kwargs):\n",
        "      self.id=id\n",
        "      src = \"https://player.bilibili.com/player.html?bvid={0}&page={1}\".format(id, page)\n",
        "      super(BiliVideo, self).__init__(src, width, height, **kwargs)\n",
        "\n",
        "  video = BiliVideo(id=f\"BV1Rb4y1U7BW\", width=854, height=480, fs=1)\n",
        "  print(\"Video available at https://www.bilibili.com/video/{0}\".format(video.id))\n",
        "  display(video)\n",
        "\n",
        "out1 = widgets.Output()\n",
        "with out1:\n",
        "  from IPython.display import YouTubeVideo\n",
        "  video = YouTubeVideo(id=f\"DtCWDIlSo18\", width=854, height=480, fs=1, rel=0)\n",
        "  print(\"Video available at https://youtube.com/watch?v=\" + video.id)\n",
        "  display(video)\n",
        "\n",
        "out = widgets.Tab([out1, out2])\n",
        "out.set_title(0, 'Youtube')\n",
        "out.set_title(1, 'Bilibili')\n",
        "\n",
        "# add event to airtable\n",
        "atform.add_event('Video 6: Play using Monte-Carlo rollouts')\n",
        "\n",
        "display(out)"
      ]
    },
    {
      "cell_type": "markdown",
      "metadata": {
        "execution": {},
        "id": "98riCc-3Wy-C"
      },
      "source": [
        "## Coding Exercise 6: `MonteCarlo`"
      ]
    },
    {
      "cell_type": "markdown",
      "metadata": {
        "execution": {},
        "id": "1cAi7-IJWy-D"
      },
      "source": [
        "```python\n",
        "class MonteCarlo():\n",
        "  \"\"\"\n",
        "  Implementation of Monte Carlo Algorithm\n",
        "  \"\"\"\n",
        "\n",
        "  def __init__(self, game, nnet, args):\n",
        "    \"\"\"\n",
        "    Initialize Monte Carlo Parameters\n",
        "\n",
        "    Args:\n",
        "      game: OthelloGame instance\n",
        "        Instance of the OthelloGame class above;\n",
        "      nnet: OthelloNet instance\n",
        "        Instance of the OthelloNNet class above;\n",
        "      args: dictionary\n",
        "        Instantiates number of iterations and episodes, controls temperature threshold, queue length,\n",
        "        arena, checkpointing, and neural network parameters:\n",
        "        learning-rate: 0.001, dropout: 0.3, epochs: 10, batch_size: 64,\n",
        "        num_channels: 512\n",
        "\n",
        "    Returns:\n",
        "      Nothing\n",
        "    \"\"\"\n",
        "    self.game = game\n",
        "    self.nnet = nnet\n",
        "    self.args = args\n",
        "\n",
        "    self.Ps = {}  # Stores initial policy (returned by neural net)\n",
        "    self.Es = {}  # Stores game.getGameEnded ended for board s\n",
        "\n",
        "  # Call this rollout\n",
        "  def simulate(self, canonicalBoard):\n",
        "    \"\"\"\n",
        "    Helper function to simulate one Monte Carlo rollout\n",
        "\n",
        "    Args:\n",
        "      canonicalBoard: np.ndarray\n",
        "        Canonical Board of size n x n [6x6 in this case]\n",
        "\n",
        "    Returns:\n",
        "      temp_v:\n",
        "        Terminal State\n",
        "    \"\"\"\n",
        "    s = self.game.stringRepresentation(canonicalBoard)\n",
        "    init_start_state = s\n",
        "    temp_v = 0\n",
        "    isfirstAction = None\n",
        "\n",
        "    for i in range(self.args.maxDepth): # maxDepth\n",
        "\n",
        "      if s not in self.Es:\n",
        "        self.Es[s] = self.game.getGameEnded(canonicalBoard, 1)\n",
        "      if self.Es[s] != 0:\n",
        "        # Terminal state\n",
        "        temp_v= -self.Es[s]\n",
        "        break\n",
        "\n",
        "      self.Ps[s], v = self.nnet.predict(canonicalBoard)\n",
        "      valids = self.game.getValidMoves(canonicalBoard, 1)\n",
        "      self.Ps[s] = self.Ps[s] * valids  # Masking invalid moves\n",
        "      sum_Ps_s = np.sum(self.Ps[s])\n",
        "\n",
        "      if sum_Ps_s > 0:\n",
        "        self.Ps[s] /= sum_Ps_s  # Renormalize\n",
        "      else:\n",
        "        # If all valid moves were masked make all valid moves equally probable\n",
        "        # NB! All valid moves may be masked if either your NNet architecture is insufficient or you've get overfitting or something else.\n",
        "        # If you have got dozens or hundreds of these messages you should pay attention to your NNet and/or training process.\n",
        "        log.error(\"All valid moves were masked, doing a workaround.\")\n",
        "        self.Ps[s] = self.Ps[s] + valids\n",
        "        self.Ps[s] /= np.sum(self.Ps[s])\n",
        "\n",
        "      #################################################\n",
        "      ## TODO for students: Take a random action.\n",
        "      ## 1. Take the random action.\n",
        "      ## 2. Find the next state and the next player from the environment.\n",
        "      ## 3. Get the canonical form of the next state.\n",
        "      # Fill out function and remove\n",
        "      raise NotImplementedError(\"Take the action, find the next state\")\n",
        "      #################################################\n",
        "      a = ...\n",
        "      next_s, next_player = self.game.getNextState(..., ..., ...)\n",
        "      next_s = self.game.getCanonicalForm(..., ...)\n",
        "\n",
        "      s = self.game.stringRepresentation(next_s)\n",
        "      temp_v = v\n",
        "\n",
        "    return temp_v\n",
        "\n",
        "\n",
        "# Add event to airtable\n",
        "atform.add_event('Coding Exercise 6: MonteCarlo')\n",
        "\n",
        "```"
      ]
    },
    {
      "cell_type": "code",
      "execution_count": 41,
      "metadata": {
        "execution": {},
        "id": "5GI6ERvhWy-D"
      },
      "outputs": [],
      "source": [
        "# to_remove solution\n",
        "class MonteCarlo():\n",
        "  \"\"\"\n",
        "  Implementation of Monte Carlo Algorithm\n",
        "  \"\"\"\n",
        "\n",
        "  def __init__(self, game, nnet, args):\n",
        "    \"\"\"\n",
        "    Initialize Monte Carlo Parameters\n",
        "\n",
        "    Args:\n",
        "      game: OthelloGame instance\n",
        "        Instance of the OthelloGame class above;\n",
        "      nnet: OthelloNet instance\n",
        "        Instance of the OthelloNNet class above;\n",
        "      args: dictionary\n",
        "        Instantiates number of iterations and episodes, controls temperature threshold, queue length,\n",
        "        arena, checkpointing, and neural network parameters:\n",
        "        learning-rate: 0.001, dropout: 0.3, epochs: 10, batch_size: 64,\n",
        "        num_channels: 512\n",
        "\n",
        "    Returns:\n",
        "      Nothing\n",
        "    \"\"\"\n",
        "    self.game = game\n",
        "    self.nnet = nnet\n",
        "    self.args = args\n",
        "\n",
        "    self.Ps = {}  # Stores initial policy (returned by neural net)\n",
        "    self.Es = {}  # Stores game.getGameEnded ended for board s\n",
        "\n",
        "  # Call this rollout\n",
        "  def simulate(self, canonicalBoard):\n",
        "    \"\"\"\n",
        "    Helper function to simulate one Monte Carlo rollout\n",
        "\n",
        "    Args:\n",
        "      canonicalBoard: np.ndarray\n",
        "        Canonical Board of size n x n [6x6 in this case]\n",
        "\n",
        "    Returns:\n",
        "      temp_v:\n",
        "        Terminal State\n",
        "    \"\"\"\n",
        "    s = self.game.stringRepresentation(canonicalBoard)\n",
        "    init_start_state = s\n",
        "    temp_v = 0\n",
        "    isfirstAction = None\n",
        "\n",
        "    for i in range(self.args.maxDepth): # maxDepth\n",
        "\n",
        "      if s not in self.Es:\n",
        "        self.Es[s] = self.game.getGameEnded(canonicalBoard, 1)\n",
        "      if self.Es[s] != 0:\n",
        "        # Terminal state\n",
        "        temp_v= -self.Es[s]\n",
        "        break\n",
        "\n",
        "      self.Ps[s], v = self.nnet.predict(canonicalBoard)\n",
        "      valids = self.game.getValidMoves(canonicalBoard, 1)\n",
        "      self.Ps[s] = self.Ps[s] * valids  # Masking invalid moves\n",
        "      sum_Ps_s = np.sum(self.Ps[s])\n",
        "\n",
        "      if sum_Ps_s > 0:\n",
        "        self.Ps[s] /= sum_Ps_s  # Renormalize\n",
        "      else:\n",
        "        # If all valid moves were masked make all valid moves equally probable\n",
        "        # NB! All valid moves may be masked if either your NNet architecture is insufficient or you've get overfitting or something else.\n",
        "        # If you have got dozens or hundreds of these messages you should pay attention to your NNet and/or training process.\n",
        "        log.error(\"All valid moves were masked, doing a workaround.\")\n",
        "        self.Ps[s] = self.Ps[s] + valids\n",
        "        self.Ps[s] /= np.sum(self.Ps[s])\n",
        "\n",
        "      # Take a random action\n",
        "      a = np.random.choice(self.game.getActionSize(), p=self.Ps[s])\n",
        "      # Find the next state and the next player\n",
        "      next_s, next_player = self.game.getNextState(canonicalBoard, 1, a)\n",
        "      next_s = self.game.getCanonicalForm(next_s, next_player)\n",
        "\n",
        "      s = self.game.stringRepresentation(next_s)\n",
        "      temp_v = v\n",
        "\n",
        "    return temp_v\n",
        "\n",
        "\n",
        "# Add event to airtable\n",
        "atform.add_event('Coding Exercise 6: MonteCarlo')"
      ]
    },
    {
      "cell_type": "markdown",
      "metadata": {
        "execution": {},
        "id": "xvfi8fHzWy-E"
      },
      "source": [
        "---\n",
        "# Section 7: Use Monte Carlo simulations to play games\n",
        "\n",
        "*Time estimate: ~20mins*"
      ]
    },
    {
      "cell_type": "markdown",
      "metadata": {
        "execution": {},
        "id": "CWazWDQLWy-F"
      },
      "source": [
        "**Goal:** Teach students how to use simple Monte Carlo planning to play games."
      ]
    },
    {
      "cell_type": "code",
      "execution_count": 42,
      "metadata": {
        "cellView": "form",
        "execution": {},
        "colab": {
          "base_uri": "https://localhost:8080/",
          "height": 581,
          "referenced_widgets": [
            "d695d52a10444c5e93ba0f08ed76b571",
            "42ab2d1ff7464bb18c0a033f3e374dc0",
            "849d88501ba24bafb666a07401aef8c0",
            "37fde40fc1aa4f5095eb1c10e5c6604e",
            "7fcc3c7991a747829b980e18533a718e",
            "4717d11d101b4c8aaae27b451a93e961"
          ]
        },
        "id": "Q6H3Id80Wy-G",
        "outputId": "968a5ffc-cd3b-4f1c-b106-b007b6defa64"
      },
      "outputs": [
        {
          "output_type": "display_data",
          "data": {
            "text/plain": [
              "Tab(children=(Output(), Output()), _titles={'0': 'Youtube', '1': 'Bilibili'})"
            ],
            "application/vnd.jupyter.widget-view+json": {
              "version_major": 2,
              "version_minor": 0,
              "model_id": "d695d52a10444c5e93ba0f08ed76b571"
            }
          },
          "metadata": {}
        }
      ],
      "source": [
        "# @title Video 7: Play with planning\n",
        "from ipywidgets import widgets\n",
        "\n",
        "out2 = widgets.Output()\n",
        "with out2:\n",
        "  from IPython.display import IFrame\n",
        "  class BiliVideo(IFrame):\n",
        "    def __init__(self, id, page=1, width=400, height=300, **kwargs):\n",
        "      self.id=id\n",
        "      src = \"https://player.bilibili.com/player.html?bvid={0}&page={1}\".format(id, page)\n",
        "      super(BiliVideo, self).__init__(src, width, height, **kwargs)\n",
        "\n",
        "  video = BiliVideo(id=f\"BV1bh411B7S4\", width=854, height=480, fs=1)\n",
        "  print(\"Video available at https://www.bilibili.com/video/{0}\".format(video.id))\n",
        "  display(video)\n",
        "\n",
        "out1 = widgets.Output()\n",
        "with out1:\n",
        "  from IPython.display import YouTubeVideo\n",
        "  video = YouTubeVideo(id=f\"plmFzAy3H5s\", width=854, height=480, fs=1, rel=0)\n",
        "  print(\"Video available at https://youtube.com/watch?v=\" + video.id)\n",
        "  display(video)\n",
        "\n",
        "out = widgets.Tab([out1, out2])\n",
        "out.set_title(0, 'Youtube')\n",
        "out.set_title(1, 'Bilibili')\n",
        "\n",
        "# add event to airtable\n",
        "atform.add_event('Video 7: Play with planning')\n",
        "\n",
        "display(out)"
      ]
    },
    {
      "cell_type": "markdown",
      "metadata": {
        "execution": {},
        "id": "J0l9y11uWy-H"
      },
      "source": [
        "## Coding Exercise 7: Monte-Carlo simulations\n",
        "\n",
        "* Incorporate Monte Carlo simulations into an agent.\n",
        "* Run the resulting player versus the random, value-based, and policy-based players."
      ]
    },
    {
      "cell_type": "code",
      "execution_count": 43,
      "metadata": {
        "execution": {},
        "id": "ei0ROnlZWy-I"
      },
      "outputs": [],
      "source": [
        "# Load MC model from the repository\n",
        "mc_model_save_name = 'MC.pth.tar'\n",
        "path = \"nma_rl_games/alpha-zero/pretrained_models/models/\""
      ]
    },
    {
      "cell_type": "markdown",
      "metadata": {
        "execution": {},
        "id": "lILPdlQ1Wy-I"
      },
      "source": [
        "```python\n",
        "class MonteCarloBasedPlayer():\n",
        "  \"\"\"\n",
        "  Simulate Player based on Monte Carlo Algorithm\n",
        "  \"\"\"\n",
        "\n",
        "  def __init__(self, game, nnet, args):\n",
        "    \"\"\"\n",
        "    Initialize Monte Carlo Parameters\n",
        "\n",
        "    Args:\n",
        "      game: OthelloGame instance\n",
        "        Instance of the OthelloGame class above;\n",
        "      nnet: OthelloNet instance\n",
        "        Instance of the OthelloNNet class above;\n",
        "      args: dictionary\n",
        "        Instantiates number of iterations and episodes, controls temperature threshold, queue length,\n",
        "        arena, checkpointing, and neural network parameters:\n",
        "        learning-rate: 0.001, dropout: 0.3, epochs: 10, batch_size: 64,\n",
        "        num_channels: 512\n",
        "\n",
        "    Returns:\n",
        "      Nothing\n",
        "    \"\"\"\n",
        "    self.game = game\n",
        "    self.nnet = nnet\n",
        "    self.args = args\n",
        "    #################################################\n",
        "    ## TODO for students: Instantiate the Monte Carlo class.\n",
        "    # Fill out function and remove\n",
        "    raise NotImplementedError(\"Use Monte Carlo!\")\n",
        "    #################################################\n",
        "    self.mc = ...\n",
        "    self.K = self.args.mc_topk\n",
        "\n",
        "  def play(self, canonicalBoard):\n",
        "    \"\"\"\n",
        "    Simulate Play on Canonical Board\n",
        "\n",
        "    Args:\n",
        "      canonicalBoard: np.ndarray\n",
        "        Canonical Board of size n x n [6x6 in this case]\n",
        "\n",
        "    Returns:\n",
        "      best_action: tuple\n",
        "        (avg_value, action) i.e., Average value associated with corresponding action\n",
        "        i.e., Action with the highest topK probability\n",
        "    \"\"\"\n",
        "    self.qsa = []\n",
        "    s = self.game.stringRepresentation(canonicalBoard)\n",
        "    Ps, v = self.nnet.predict(canonicalBoard)\n",
        "    valids = self.game.getValidMoves(canonicalBoard, 1)\n",
        "    Ps = Ps * valids  # Masking invalid moves\n",
        "    sum_Ps_s = np.sum(Ps)\n",
        "\n",
        "    if sum_Ps_s > 0:\n",
        "      Ps /= sum_Ps_s  # Renormalize\n",
        "    else:\n",
        "      # If all valid moves were masked make all valid moves equally probable\n",
        "      # NB! All valid moves may be masked if either your NNet architecture is insufficient or you've get overfitting or something else.\n",
        "      # If you have got dozens or hundreds of these messages you should pay attention to your NNet and/or training process.\n",
        "      log = logging.getLogger(__name__)\n",
        "      log.error(\"All valid moves were masked, doing a workaround.\")\n",
        "      Ps = Ps + valids\n",
        "      Ps /= np.sum(Ps)\n",
        "\n",
        "    num_valid_actions = np.shape(np.nonzero(Ps))[1]\n",
        "\n",
        "    if num_valid_actions < self.K:\n",
        "      top_k_actions = np.argpartition(Ps,-num_valid_actions)[-num_valid_actions:]\n",
        "    else:\n",
        "      top_k_actions = np.argpartition(Ps,-self.K)[-self.K:]  # To get actions that belongs to top k prob\n",
        "    #################################################\n",
        "    ## TODO for students:\n",
        "    ## 1. For each action in the top-k actions\n",
        "    ## 2. Get the next state using getNextState() function. You can find the implementation of this function in Section 1 in OthelloGame() class.\n",
        "    ## 3. Get the canonical form of the getNextState().\n",
        "    # Fill out function and remove\n",
        "    raise NotImplementedError(\"Loop for the top actions\")\n",
        "    #################################################\n",
        "    for action in ...:\n",
        "      next_s, next_player = self.game.getNextState(..., ..., ...)\n",
        "      next_s = self.game.getCanonicalForm(..., ...)\n",
        "\n",
        "      values = []\n",
        "\n",
        "      # Do some rollouts\n",
        "      for rollout in range(self.args.numMCsims):\n",
        "        value = self.mc.simulate(canonicalBoard)\n",
        "        values.append(value)\n",
        "\n",
        "      # Average out values\n",
        "      avg_value = np.mean(values)\n",
        "      self.qsa.append((avg_value, action))\n",
        "\n",
        "    self.qsa.sort(key=lambda a: a[0])\n",
        "    self.qsa.reverse()\n",
        "    best_action = self.qsa[0][1]\n",
        "    return best_action\n",
        "\n",
        "  def getActionProb(self, canonicalBoard, temp=1):\n",
        "    \"\"\"\n",
        "    Helper function to get probabilities associated with each action\n",
        "\n",
        "    Args:\n",
        "      canonicalBoard: np.ndarray\n",
        "        Canonical Board of size n x n [6x6 in this case]\n",
        "      temp: Integer\n",
        "        Signifies if game is in terminal state\n",
        "\n",
        "    Returns:\n",
        "      action_probs: List\n",
        "        Probability associated with corresponding action\n",
        "    \"\"\"\n",
        "    if self.game.getGameEnded(canonicalBoard, 1) != 0:\n",
        "      return np.zeros((self.game.getActionSize()))\n",
        "\n",
        "    else:\n",
        "      action_probs = np.zeros((self.game.getActionSize()))\n",
        "      best_action = self.play(canonicalBoard)\n",
        "      action_probs[best_action] = 1\n",
        "\n",
        "    return action_probs\n",
        "\n",
        "\n",
        "# Add event to airtable\n",
        "atform.add_event('Coding Exercise 7: MonteCarlo siumulations')\n",
        "\n",
        "set_seed(seed=SEED)\n",
        "game = OthelloGame(6)\n",
        "# Run the resulting player versus the random player\n",
        "rp = RandomPlayer(game).play\n",
        "num_games = 20  # Feel free to change this number\n",
        "\n",
        "n1 = NNet(game)  # nNet players\n",
        "n1.load_checkpoint(folder=path, filename=mc_model_save_name)\n",
        "args1 = dotdict({'numMCsims': 10, 'maxRollouts':5, 'maxDepth':5, 'mc_topk': 3})\n",
        "\n",
        "## Uncomment below to check Monte Carlo agent!\n",
        "# print('\\n******MC player versus random player******')\n",
        "# mc1 = MonteCarloBasedPlayer(game, n1, args1)\n",
        "# n1p = lambda x: np.argmax(mc1.getActionProb(x))\n",
        "# arena = Arena.Arena(n1p, rp, game, display=OthelloGame.display)\n",
        "# MC_result = arena.playGames(num_games, verbose=False)\n",
        "# print(f\"\\n\\n{MC_result}\")\n",
        "# print(f\"\\nNumber of games won by player1 = {MC_result[0]}, \"\n",
        "#       f\"number of games won by player2 = {MC_result[1]}, out of {num_games} games\")\n",
        "# win_rate_player1 = MC_result[0]/num_games\n",
        "# print(f\"\\nWin rate for player1 over {num_games} games: {round(win_rate_player1*100, 1)}%\")\n",
        "\n",
        "```"
      ]
    },
    {
      "cell_type": "code",
      "execution_count": 44,
      "metadata": {
        "execution": {},
        "colab": {
          "base_uri": "https://localhost:8080/"
        },
        "id": "7ZbKyKOOWy-J",
        "outputId": "576c67e4-e78b-4279-f873-36fa16c7082c"
      },
      "outputs": [
        {
          "output_type": "stream",
          "name": "stdout",
          "text": [
            "Random seed 2021 has been set.\n",
            "\n",
            "******MC player versus random player******\n"
          ]
        },
        {
          "output_type": "stream",
          "name": "stderr",
          "text": [
            "Arena.playGames (1): 100%|██████████| 10/10 [00:46<00:00,  4.62s/it]\n",
            "Arena.playGames (2): 100%|██████████| 10/10 [00:44<00:00,  4.48s/it]"
          ]
        },
        {
          "output_type": "stream",
          "name": "stdout",
          "text": [
            "\n",
            "\n",
            "(11, 9, 0)\n",
            "\n",
            "Number of games won by player1 = 11, number of games won by player2 = 9, out of 20 games\n",
            "\n",
            "Win rate for player1 over 20 games: 55.0%\n"
          ]
        },
        {
          "output_type": "stream",
          "name": "stderr",
          "text": [
            "\n"
          ]
        }
      ],
      "source": [
        "# to_remove solution\n",
        "class MonteCarloBasedPlayer():\n",
        "  \"\"\"\n",
        "  Simulate Player based on Monte Carlo Algorithm\n",
        "  \"\"\"\n",
        "\n",
        "  def __init__(self, game, nnet, args):\n",
        "    \"\"\"\n",
        "    Initialize Monte Carlo Parameters\n",
        "\n",
        "    Args:\n",
        "      game: OthelloGame instance\n",
        "        Instance of the OthelloGame class above;\n",
        "      nnet: OthelloNet instance\n",
        "        Instance of the OthelloNNet class above;\n",
        "      args: dictionary\n",
        "        Instantiates number of iterations and episodes, controls temperature threshold, queue length,\n",
        "        arena, checkpointing, and neural network parameters:\n",
        "        learning-rate: 0.001, dropout: 0.3, epochs: 10, batch_size: 64,\n",
        "        num_channels: 512\n",
        "\n",
        "    Returns:\n",
        "      Nothing\n",
        "    \"\"\"\n",
        "    self.game = game\n",
        "    self.nnet = nnet\n",
        "    self.args = args\n",
        "    self.mc = MonteCarlo(game, nnet, args)\n",
        "    self.K = self.args.mc_topk\n",
        "\n",
        "  def play(self, canonicalBoard):\n",
        "    \"\"\"\n",
        "    Simulate Play on Canonical Board\n",
        "\n",
        "    Args:\n",
        "      canonicalBoard: np.ndarray\n",
        "        Canonical Board of size n x n [6x6 in this case]\n",
        "\n",
        "    Returns:\n",
        "      best_action: tuple\n",
        "        (avg_value, action) i.e., Average value associated with corresponding action\n",
        "        i.e., Action with the highest topK probability\n",
        "    \"\"\"\n",
        "    self.qsa = []\n",
        "    s = self.game.stringRepresentation(canonicalBoard)\n",
        "    Ps, v = self.nnet.predict(canonicalBoard)\n",
        "    valids = self.game.getValidMoves(canonicalBoard, 1)\n",
        "    Ps = Ps * valids  # Masking invalid moves\n",
        "    sum_Ps_s = np.sum(Ps)\n",
        "\n",
        "    if sum_Ps_s > 0:\n",
        "      Ps /= sum_Ps_s  # Renormalize\n",
        "    else:\n",
        "      # If all valid moves were masked make all valid moves equally probable\n",
        "      # NB! All valid moves may be masked if either your NNet architecture is insufficient or you've get overfitting or something else.\n",
        "      # If you have got dozens or hundreds of these messages you should pay attention to your NNet and/or training process.\n",
        "      log = logging.getLogger(__name__)\n",
        "      log.error(\"All valid moves were masked, doing a workaround.\")\n",
        "      Ps = Ps + valids\n",
        "      Ps /= np.sum(Ps)\n",
        "\n",
        "    num_valid_actions = np.shape(np.nonzero(Ps))[1]\n",
        "\n",
        "    if num_valid_actions < self.K:\n",
        "      top_k_actions = np.argpartition(Ps,-num_valid_actions)[-num_valid_actions:]\n",
        "    else:\n",
        "      top_k_actions = np.argpartition(Ps,-self.K)[-self.K:]  # To get actions that belongs to top k prob\n",
        "\n",
        "    for action in top_k_actions:\n",
        "      next_s, next_player = self.game.getNextState(canonicalBoard, 1, action)\n",
        "      next_s = self.game.getCanonicalForm(next_s, next_player)\n",
        "\n",
        "      values = []\n",
        "\n",
        "      # Do some rollouts\n",
        "      for rollout in range(self.args.numMCsims):\n",
        "        value = self.mc.simulate(canonicalBoard)\n",
        "        values.append(value)\n",
        "\n",
        "      # Average out values\n",
        "      avg_value = np.mean(values)\n",
        "      self.qsa.append((avg_value, action))\n",
        "\n",
        "    self.qsa.sort(key=lambda a: a[0])\n",
        "    self.qsa.reverse()\n",
        "    best_action = self.qsa[0][1]\n",
        "    return best_action\n",
        "\n",
        "  def getActionProb(self, canonicalBoard, temp=1):\n",
        "    \"\"\"\n",
        "    Helper function to get probabilities associated with each action\n",
        "\n",
        "    Args:\n",
        "      canonicalBoard: np.ndarray\n",
        "        Canonical Board of size n x n [6x6 in this case]\n",
        "      temp: Integer\n",
        "        Signifies if game is in terminal state\n",
        "\n",
        "    Returns:\n",
        "      action_probs: List\n",
        "        Probability associated with corresponding action\n",
        "    \"\"\"\n",
        "    if self.game.getGameEnded(canonicalBoard, 1) != 0:\n",
        "      return np.zeros((self.game.getActionSize()))\n",
        "\n",
        "    else:\n",
        "      action_probs = np.zeros((self.game.getActionSize()))\n",
        "      best_action = self.play(canonicalBoard)\n",
        "      action_probs[best_action] = 1\n",
        "\n",
        "    return action_probs\n",
        "\n",
        "\n",
        "# Add event to airtable\n",
        "atform.add_event('Coding Exercise 7: MonteCarlo siumulations')\n",
        "\n",
        "set_seed(seed=SEED)\n",
        "game = OthelloGame(6)\n",
        "# Run the resulting player versus the random player\n",
        "rp = RandomPlayer(game).play\n",
        "num_games = 20  # Feel free to change this number\n",
        "\n",
        "n1 = NNet(game)  # nNet players\n",
        "n1.load_checkpoint(folder=path, filename=mc_model_save_name)\n",
        "args1 = dotdict({'numMCsims': 10, 'maxRollouts':5, 'maxDepth':5, 'mc_topk': 3})\n",
        "\n",
        "## Uncomment below to check Monte Carlo agent!\n",
        "print('\\n******MC player versus random player******')\n",
        "mc1 = MonteCarloBasedPlayer(game, n1, args1)\n",
        "n1p = lambda x: np.argmax(mc1.getActionProb(x))\n",
        "arena = Arena.Arena(n1p, rp, game, display=OthelloGame.display)\n",
        "MC_result = arena.playGames(num_games, verbose=False)\n",
        "print(f\"\\n\\n{MC_result}\")\n",
        "print(f\"\\nNumber of games won by player1 = {MC_result[0]}, \"\n",
        "      f\"number of games won by player2 = {MC_result[1]}, out of {num_games} games\")\n",
        "win_rate_player1 = MC_result[0]/num_games\n",
        "print(f\"\\nWin rate for player1 over {num_games} games: {round(win_rate_player1*100, 1)}%\")"
      ]
    },
    {
      "cell_type": "markdown",
      "metadata": {
        "execution": {},
        "id": "G26EunThWy-J"
      },
      "source": [
        "```\n",
        "Number of games won by player1 = 11, number of games won by player2 = 9, out of 20 games\n",
        "\n",
        "Win rate for player1 over 20 games: 55.0%\n",
        "```"
      ]
    },
    {
      "cell_type": "markdown",
      "metadata": {
        "execution": {},
        "id": "nROR_ttFWy-J"
      },
      "source": [
        "### Monte-Carlo player against Value-based player"
      ]
    },
    {
      "cell_type": "code",
      "execution_count": 45,
      "metadata": {
        "execution": {},
        "colab": {
          "base_uri": "https://localhost:8080/"
        },
        "id": "-gWKppIxWy-K",
        "outputId": "f80faa73-9f8c-4989-f292-42c0b9de30fb"
      },
      "outputs": [
        {
          "output_type": "stream",
          "name": "stdout",
          "text": [
            "\n",
            "******MC player versus value-based player******\n",
            "Random seed 2021 has been set.\n"
          ]
        },
        {
          "output_type": "stream",
          "name": "stderr",
          "text": [
            "Arena.playGames (1): 100%|██████████| 10/10 [00:45<00:00,  4.51s/it]\n",
            "Arena.playGames (2): 100%|██████████| 10/10 [00:44<00:00,  4.42s/it]"
          ]
        },
        {
          "output_type": "stream",
          "name": "stdout",
          "text": [
            "\n",
            "\n",
            "(10, 10, 0)\n",
            "\n",
            "Number of games won by player1 = 10, number of games won by player2 = 10, out of 20 games\n",
            "\n",
            "Win rate for player1 over 20 games: 50.0%\n"
          ]
        },
        {
          "output_type": "stream",
          "name": "stderr",
          "text": [
            "\n"
          ]
        }
      ],
      "source": [
        "print('\\n******MC player versus value-based player******')\n",
        "set_seed(seed=SEED)\n",
        "vp = ValueBasedPlayer(game, vnet).play # Value-based player\n",
        "arena = Arena.Arena(n1p, vp, game, display=OthelloGame.display)\n",
        "MC_result = arena.playGames(num_games, verbose=False)\n",
        "print(f\"\\n\\n{MC_result}\")\n",
        "print(f\"\\nNumber of games won by player1 = {MC_result[0]}, \"\n",
        "      f\"number of games won by player2 = {MC_result[1]}, out of {num_games} games\")\n",
        "win_rate_player1 = MC_result[0]/num_games\n",
        "print(f\"\\nWin rate for player1 over {num_games} games: {round(win_rate_player1*100, 1)}%\")"
      ]
    },
    {
      "cell_type": "markdown",
      "metadata": {
        "execution": {},
        "id": "AeuYUPu7Wy-K"
      },
      "source": [
        "```\n",
        "Number of games won by player1 = 10, number of games won by player2 = 10, out of 20 games\n",
        "\n",
        "Win rate for player1 over 20 games: 50.0%\n",
        "```"
      ]
    },
    {
      "cell_type": "markdown",
      "metadata": {
        "execution": {},
        "id": "bVNvI-UhWy-K"
      },
      "source": [
        "### Monte-Carlo player against Policy-based player"
      ]
    },
    {
      "cell_type": "code",
      "execution_count": 46,
      "metadata": {
        "execution": {},
        "colab": {
          "base_uri": "https://localhost:8080/"
        },
        "id": "bV4QaLuFWy-K",
        "outputId": "4670c7f4-92fb-4103-c54b-ade625e1e413"
      },
      "outputs": [
        {
          "output_type": "stream",
          "name": "stdout",
          "text": [
            "\n",
            "******MC player versus policy-based player******\n",
            "Random seed 2021 has been set.\n"
          ]
        },
        {
          "output_type": "stream",
          "name": "stderr",
          "text": [
            "Arena.playGames (1): 100%|██████████| 10/10 [00:45<00:00,  4.56s/it]\n",
            "Arena.playGames (2): 100%|██████████| 10/10 [00:42<00:00,  4.22s/it]"
          ]
        },
        {
          "output_type": "stream",
          "name": "stdout",
          "text": [
            "\n",
            "\n",
            "(10, 10, 0)\n",
            "\n",
            "Number of games won by player1 = 10, number of games won by player2 = 10, out of 20 games\n",
            "\n",
            "Win rate for player1 over 20 games: 50.0%\n"
          ]
        },
        {
          "output_type": "stream",
          "name": "stderr",
          "text": [
            "\n"
          ]
        }
      ],
      "source": [
        "print('\\n******MC player versus policy-based player******')\n",
        "set_seed(seed=SEED)\n",
        "pp = PolicyBasedPlayer(game, pnet).play # Policy player\n",
        "arena = Arena.Arena(n1p, pp, game, display=OthelloGame.display)\n",
        "MC_result = arena.playGames(num_games, verbose=False)\n",
        "print(f\"\\n\\n{MC_result}\")\n",
        "print(f\"\\nNumber of games won by player1 = {MC_result[0]}, \"\n",
        "      f\"number of games won by player2 = {MC_result[1]}, out of {num_games} games\")\n",
        "win_rate_player1 = MC_result[0]/num_games\n",
        "print(f\"\\nWin rate for player1 over {num_games} games: {round(win_rate_player1*100, 1)}%\")"
      ]
    },
    {
      "cell_type": "markdown",
      "metadata": {
        "execution": {},
        "id": "4hAoVQBTWy-K"
      },
      "source": [
        "```\n",
        "Number of games won by player1 = 10, number of games won by player2 = 10, out of 20 games\n",
        "\n",
        "Win rate for player1 over 20 games: 50.0%\n",
        "```"
      ]
    },
    {
      "cell_type": "markdown",
      "metadata": {
        "execution": {},
        "id": "BgHAJ-mWWy-K"
      },
      "source": [
        "---\n",
        "# Section 8: Ethical aspects\n",
        "\n",
        "*Time estimate: ~5mins*"
      ]
    },
    {
      "cell_type": "code",
      "execution_count": 47,
      "metadata": {
        "cellView": "form",
        "execution": {},
        "colab": {
          "base_uri": "https://localhost:8080/",
          "height": 581,
          "referenced_widgets": [
            "0f599edddf1d4511a4becdbad69e92e2",
            "d73a25daeb2a480da5b7a6fbb687d6de",
            "16a9f21b55cf446eafdf4f53b8079f3a",
            "3cecd34149204ed59a6a882ed438676c",
            "467a108fc8134d76b2fbeafee95c1ce4",
            "02e1ba9669b94ec28664dc7497d96072"
          ]
        },
        "id": "xtlo6Dz_Wy-L",
        "outputId": "b4519eaf-9c20-47ad-81f5-e5272425631a"
      },
      "outputs": [
        {
          "output_type": "display_data",
          "data": {
            "text/plain": [
              "Tab(children=(Output(), Output()), _titles={'0': 'Youtube', '1': 'Bilibili'})"
            ],
            "application/vnd.jupyter.widget-view+json": {
              "version_major": 2,
              "version_minor": 0,
              "model_id": "0f599edddf1d4511a4becdbad69e92e2"
            }
          },
          "metadata": {}
        }
      ],
      "source": [
        "# @title Video 8: Unstoppable opponents\n",
        "from ipywidgets import widgets\n",
        "\n",
        "out2 = widgets.Output()\n",
        "with out2:\n",
        "  from IPython.display import IFrame\n",
        "  class BiliVideo(IFrame):\n",
        "    def __init__(self, id, page=1, width=400, height=300, **kwargs):\n",
        "      self.id=id\n",
        "      src = \"https://player.bilibili.com/player.html?bvid={0}&page={1}\".format(id, page)\n",
        "      super(BiliVideo, self).__init__(src, width, height, **kwargs)\n",
        "\n",
        "  video = BiliVideo(id=f\"BV1WA411w7mw\", width=854, height=480, fs=1)\n",
        "  print(\"Video available at https://www.bilibili.com/video/{0}\".format(video.id))\n",
        "  display(video)\n",
        "\n",
        "out1 = widgets.Output()\n",
        "with out1:\n",
        "  from IPython.display import YouTubeVideo\n",
        "  video = YouTubeVideo(id=f\"q7181lvoNpM\", width=854, height=480, fs=1, rel=0)\n",
        "  print(\"Video available at https://youtube.com/watch?v=\" + video.id)\n",
        "  display(video)\n",
        "\n",
        "out = widgets.Tab([out1, out2])\n",
        "out.set_title(0, 'Youtube')\n",
        "out.set_title(1, 'Bilibili')\n",
        "\n",
        "# add event to airtable\n",
        "atform.add_event('Video 8: Unstoppable opponents')\n",
        "\n",
        "display(out)"
      ]
    },
    {
      "cell_type": "markdown",
      "metadata": {
        "execution": {},
        "id": "S6qN_px9Wy-L"
      },
      "source": [
        "---\n",
        "# Summary\n",
        "\n",
        "In this tutorial, you have learned how to implement a game loop and improve the performance of a random player. More specifically, you are now able to understand the format of two-players games. We learned about value-based and policy-based players, and we compared them with the MCTS method."
      ]
    },
    {
      "cell_type": "code",
      "execution_count": 48,
      "metadata": {
        "cellView": "form",
        "execution": {},
        "colab": {
          "base_uri": "https://localhost:8080/",
          "height": 581,
          "referenced_widgets": [
            "68e12a45c58a421e819618b77dd645d1",
            "bcdb99a65fa04afe8aa2037fe670e4d0",
            "baf1797bd94248928b3cdbabd01bced6",
            "e3de711265b64a958e3175ef9b79c0ce",
            "6c37228007714334bc17949d3cfcc9a8",
            "e610bdadb129403da3719b6b4d6c4230"
          ]
        },
        "id": "ILQa2ZUzWy-L",
        "outputId": "700fdc27-a177-43dd-a9a8-e39d4b43abd1"
      },
      "outputs": [
        {
          "output_type": "display_data",
          "data": {
            "text/plain": [
              "Tab(children=(Output(), Output()), _titles={'0': 'Youtube', '1': 'Bilibili'})"
            ],
            "application/vnd.jupyter.widget-view+json": {
              "version_major": 2,
              "version_minor": 0,
              "model_id": "68e12a45c58a421e819618b77dd645d1"
            }
          },
          "metadata": {}
        }
      ],
      "source": [
        "# @title Video 9: Outro\n",
        "from ipywidgets import widgets\n",
        "\n",
        "out2 = widgets.Output()\n",
        "with out2:\n",
        "  from IPython.display import IFrame\n",
        "  class BiliVideo(IFrame):\n",
        "    def __init__(self, id, page=1, width=400, height=300, **kwargs):\n",
        "      self.id=id\n",
        "      src = \"https://player.bilibili.com/player.html?bvid={0}&page={1}\".format(id, page)\n",
        "      super(BiliVideo, self).__init__(src, width, height, **kwargs)\n",
        "\n",
        "  video = BiliVideo(id=f\"BV1a64y1s7Sh\", width=854, height=480, fs=1)\n",
        "  print(\"Video available at https://www.bilibili.com/video/{0}\".format(video.id))\n",
        "  display(video)\n",
        "\n",
        "out1 = widgets.Output()\n",
        "with out1:\n",
        "  from IPython.display import YouTubeVideo\n",
        "  video = YouTubeVideo(id=f\"uQ26iIUzmtw\", width=854, height=480, fs=1, rel=0)\n",
        "  print(\"Video available at https://youtube.com/watch?v=\" + video.id)\n",
        "  display(video)\n",
        "\n",
        "out = widgets.Tab([out1, out2])\n",
        "out.set_title(0, 'Youtube')\n",
        "out.set_title(1, 'Bilibili')\n",
        "\n",
        "# add event to airtable\n",
        "atform.add_event('Video 9: Outro')\n",
        "\n",
        "display(out)"
      ]
    },
    {
      "cell_type": "code",
      "execution_count": 49,
      "metadata": {
        "cellView": "form",
        "execution": {},
        "colab": {
          "base_uri": "https://localhost:8080/",
          "height": 158
        },
        "id": "HFH7CH14Wy-L",
        "outputId": "19448c05-7b5c-4f57-95f8-8415d3f1c158"
      },
      "outputs": [
        {
          "output_type": "execute_result",
          "data": {
            "text/plain": [
              "<IPython.core.display.HTML object>"
            ],
            "text/html": [
              "\n",
              " <div>\n",
              "   <a href= \"https://portal.neuromatchacademy.org/api/redirect/to/2baacd95-3fb5-4399-bf95-bbe5de255d2b?data=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%3D\" target=\"_blank\">\n",
              "   <img src=\"https://github.com/NeuromatchAcademy/course-content-dl/blob/main/tutorials/static/SurveyButton.png?raw=1\"\n",
              " alt=\"button link end of day Survey\" style=\"width:410px\"></a>\n",
              "   </div>"
            ]
          },
          "metadata": {},
          "execution_count": 49
        }
      ],
      "source": [
        "# @title Airtable Submission Link\n",
        "from IPython import display as IPydisplay\n",
        "IPydisplay.HTML(\n",
        "   f\"\"\"\n",
        " <div>\n",
        "   <a href= \"{atform.url()}\" target=\"_blank\">\n",
        "   <img src=\"https://github.com/NeuromatchAcademy/course-content-dl/blob/main/tutorials/static/SurveyButton.png?raw=1\"\n",
        " alt=\"button link end of day Survey\" style=\"width:410px\"></a>\n",
        "   </div>\"\"\" )"
      ]
    },
    {
      "cell_type": "markdown",
      "metadata": {
        "execution": {},
        "id": "gJrrWgO1Wy-L"
      },
      "source": [
        "---\n",
        "# Bonus 1: Plan using Monte Carlo Tree Search (MCTS)\n",
        "\n",
        "*Time estimate: ~30mins"
      ]
    },
    {
      "cell_type": "markdown",
      "metadata": {
        "execution": {},
        "id": "G_phkYbBWy-M"
      },
      "source": [
        "**Goal:** Teach students to understand the core ideas behind Monte Carlo Tree Search (MCTS)."
      ]
    },
    {
      "cell_type": "code",
      "execution_count": 50,
      "metadata": {
        "cellView": "form",
        "execution": {},
        "colab": {
          "base_uri": "https://localhost:8080/",
          "height": 581,
          "referenced_widgets": [
            "94ac8701fae148f8933714b8d0ef7f79",
            "a579f14d61864e849ae790bd777653a1",
            "bd1515ee10274d588476d2e0693e2ccd",
            "cea7fad32b7449898f880f48438f765e",
            "81bfea071b324981abe725c269a27ec2",
            "f2c5cd5376fb48c69b453d20a928c1fb"
          ]
        },
        "id": "4MSXKFhjWy-M",
        "outputId": "8128b33c-9d56-4190-d3ab-4830a601da1c"
      },
      "outputs": [
        {
          "output_type": "display_data",
          "data": {
            "text/plain": [
              "Tab(children=(Output(), Output()), _titles={'0': 'Youtube', '1': 'Bilibili'})"
            ],
            "application/vnd.jupyter.widget-view+json": {
              "version_major": 2,
              "version_minor": 0,
              "model_id": "94ac8701fae148f8933714b8d0ef7f79"
            }
          },
          "metadata": {}
        }
      ],
      "source": [
        "# @title Video 10: Plan with MCTS\n",
        "from ipywidgets import widgets\n",
        "\n",
        "out2 = widgets.Output()\n",
        "with out2:\n",
        "  from IPython.display import IFrame\n",
        "  class BiliVideo(IFrame):\n",
        "    def __init__(self, id, page=1, width=400, height=300, **kwargs):\n",
        "      self.id=id\n",
        "      src = \"https://player.bilibili.com/player.html?bvid={0}&page={1}\".format(id, page)\n",
        "      super(BiliVideo, self).__init__(src, width, height, **kwargs)\n",
        "\n",
        "  video = BiliVideo(id=f\"BV1yQ4y127Sr\", width=854, height=480, fs=1)\n",
        "  print(\"Video available at https://www.bilibili.com/video/{0}\".format(video.id))\n",
        "  display(video)\n",
        "\n",
        "out1 = widgets.Output()\n",
        "with out1:\n",
        "  from IPython.display import YouTubeVideo\n",
        "  video = YouTubeVideo(id=f\"Hhw6Ed0Zmco\", width=854, height=480, fs=1, rel=0)\n",
        "  print(\"Video available at https://youtube.com/watch?v=\" + video.id)\n",
        "  display(video)\n",
        "\n",
        "out = widgets.Tab([out1, out2])\n",
        "out.set_title(0, 'Youtube')\n",
        "out.set_title(1, 'Bilibili')\n",
        "\n",
        "# add event to airtable\n",
        "atform.add_event('Video 10: Plan with MCTS')\n",
        "\n",
        "display(out)"
      ]
    },
    {
      "cell_type": "markdown",
      "metadata": {
        "execution": {},
        "id": "IfAhfAmgWy-M"
      },
      "source": [
        "## Bonus Coding Exercise 1: MCTS planner\n",
        "\n",
        "* Plug together pre-built Selection, Expansion & Backpropagation code to complete an MCTS planner.\n",
        "* Deploy the MCTS planner to understand an interesting position, producing value estimates and action counts."
      ]
    },
    {
      "cell_type": "markdown",
      "metadata": {
        "execution": {},
        "id": "LuyuPdvGWy-N"
      },
      "source": [
        "```python\n",
        "class MCTS():\n",
        "  \"\"\"\n",
        "  This class handles MCTS (Monte Carlo Tree Search).\n",
        "  \"\"\"\n",
        "\n",
        "  def __init__(self, game, nnet, args):\n",
        "    \"\"\"\n",
        "    Initialize parameters of MCTS\n",
        "\n",
        "    Args:\n",
        "      game: OthelloGame instance\n",
        "        Instance of the OthelloGame class above;\n",
        "      nnet: OthelloNet instance\n",
        "        Instance of the OthelloNNet class above;\n",
        "      args: dictionary\n",
        "        Instantiates number of iterations and episodes, controls temperature threshold, queue length,\n",
        "        arena, checkpointing, and neural network parameters:\n",
        "        learning-rate: 0.001, dropout: 0.3, epochs: 10, batch_size: 64,\n",
        "        num_channels: 512\n",
        "\n",
        "    Returns:\n",
        "      Nothing\n",
        "    \"\"\"\n",
        "    self.game = game\n",
        "    self.nnet = nnet\n",
        "    self.args = args\n",
        "    self.Qsa = {}    # Stores Q values for s,a (as defined in the paper)\n",
        "    self.Nsa = {}    # Stores #times edge s,a was visited\n",
        "    self.Ns = {}     # Stores #times board s was visited\n",
        "    self.Ps = {}     # Stores initial policy (returned by neural net)\n",
        "    self.Es = {}     # Stores game.getGameEnded ended for board s\n",
        "    self.Vs = {}     # Stores game.getValidMoves for board s\n",
        "\n",
        "  def search(self, canonicalBoard):\n",
        "    \"\"\"\n",
        "    This function performs one iteration of MCTS. It is recursively called\n",
        "    till a leaf node is found. The action chosen at each node is one that\n",
        "    has the maximum upper confidence bound as in the paper.\n",
        "    Once a leaf node is found, the neural network is called to return an\n",
        "    initial policy P and a value v for the state. This value is propagated\n",
        "    up the search path. In case the leaf node is a terminal state, the\n",
        "    outcome is propagated up the search path. The values of Ns, Nsa, Qsa are\n",
        "    updated.\n",
        "    NOTE: the return values are the negative of the value of the current\n",
        "    state. This is done since v is in [-1,1] and if v is the value of a\n",
        "    state for the current player, then its value is -v for the other player.\n",
        "\n",
        "    Args:\n",
        "      canonicalBoard: np.ndarray\n",
        "        Canonical Board of size n x n [6x6 in this case]\n",
        "\n",
        "    Returns:\n",
        "        v: Float\n",
        "          The negative of the value of the current canonicalBoard\n",
        "    \"\"\"\n",
        "    s = self.game.stringRepresentation(canonicalBoard)\n",
        "\n",
        "    if s not in self.Es:\n",
        "      self.Es[s] = self.game.getGameEnded(canonicalBoard, 1)\n",
        "    if self.Es[s] != 0:\n",
        "      # Terminal node\n",
        "      return -self.Es[s]\n",
        "\n",
        "    if s not in self.Ps:\n",
        "      # Leaf node\n",
        "      self.Ps[s], v = self.nnet.predict(canonicalBoard)\n",
        "      valids = self.game.getValidMoves(canonicalBoard, 1)\n",
        "      self.Ps[s] = self.Ps[s] * valids  # Masking invalid moves\n",
        "      sum_Ps_s = np.sum(self.Ps[s])\n",
        "      if sum_Ps_s > 0:\n",
        "        self.Ps[s] /= sum_Ps_s  # Renormalize\n",
        "      else:\n",
        "        # If all valid moves were masked make all valid moves equally probable\n",
        "        # NB! All valid moves may be masked if either your NNet architecture is insufficient or you've get overfitting or something else.\n",
        "        # If you have got dozens or hundreds of these messages you should pay attention to your NNet and/or training process.\n",
        "        log = logging.getLogger(__name__)\n",
        "        log.error(\"All valid moves were masked, doing a workaround.\")\n",
        "        self.Ps[s] = self.Ps[s] + valids\n",
        "        self.Ps[s] /= np.sum(self.Ps[s])\n",
        "\n",
        "      self.Vs[s] = valids\n",
        "      self.Ns[s] = 0\n",
        "\n",
        "      return -v\n",
        "\n",
        "    valids = self.Vs[s]\n",
        "    cur_best = -float('inf')\n",
        "    best_act = -1\n",
        "\n",
        "    #################################################\n",
        "    ## TODO for students:\n",
        "    ## Implement the highest upper confidence bound depending whether we observed the state-action pair which is stored in self.Qsa[(s, a)]. You can find the formula in the slide 52 in video 8 above.\n",
        "    # Fill out function and remove\n",
        "    raise NotImplementedError(\"Complete the for loop\")\n",
        "    #################################################\n",
        "    # Pick the action with the highest upper confidence bound\n",
        "    for a in range(self.game.getActionSize()):\n",
        "      if valids[a]:\n",
        "        if (s, a) in self.Qsa:\n",
        "          u = ... + ... * ... * math.sqrt(...) / (1 + ...)\n",
        "        else:\n",
        "          u = ... * ... * math.sqrt(... + 1e-8)\n",
        "\n",
        "        if u > cur_best:\n",
        "          cur_best = u\n",
        "          best_act = a\n",
        "\n",
        "    a = best_act\n",
        "    next_s, next_player = self.game.getNextState(canonicalBoard, 1, a)\n",
        "    next_s = self.game.getCanonicalForm(next_s, next_player)\n",
        "\n",
        "    v = self.search(next_s)\n",
        "\n",
        "    if (s, a) in self.Qsa:\n",
        "      self.Qsa[(s, a)] = (self.Nsa[(s, a)] * self.Qsa[(s, a)] + v) / (self.Nsa[(s, a)] + 1)\n",
        "      self.Nsa[(s, a)] += 1\n",
        "\n",
        "    else:\n",
        "      self.Qsa[(s, a)] = v\n",
        "      self.Nsa[(s, a)] = 1\n",
        "\n",
        "    self.Ns[s] += 1\n",
        "    return -v\n",
        "\n",
        "  def getNsa(self):\n",
        "    return self.Nsa\n",
        "\n",
        "```"
      ]
    },
    {
      "cell_type": "code",
      "execution_count": 51,
      "metadata": {
        "execution": {},
        "id": "HeUSYz9bWy-N"
      },
      "outputs": [],
      "source": [
        "# to_remove solution\n",
        "class MCTS():\n",
        "  \"\"\"\n",
        "  This class handles MCTS (Monte Carlo Tree Search).\n",
        "  \"\"\"\n",
        "\n",
        "  def __init__(self, game, nnet, args):\n",
        "    \"\"\"\n",
        "    Initialize parameters of MCTS\n",
        "\n",
        "    Args:\n",
        "      game: OthelloGame instance\n",
        "        Instance of the OthelloGame class above;\n",
        "      nnet: OthelloNet instance\n",
        "        Instance of the OthelloNNet class above;\n",
        "      args: dictionary\n",
        "        Instantiates number of iterations and episodes, controls temperature threshold, queue length,\n",
        "        arena, checkpointing, and neural network parameters:\n",
        "        learning-rate: 0.001, dropout: 0.3, epochs: 10, batch_size: 64,\n",
        "        num_channels: 512\n",
        "\n",
        "    Returns:\n",
        "      Nothing\n",
        "    \"\"\"\n",
        "    self.game = game\n",
        "    self.nnet = nnet\n",
        "    self.args = args\n",
        "    self.Qsa = {}    # Stores Q values for s,a (as defined in the paper)\n",
        "    self.Nsa = {}    # Stores #times edge s,a was visited\n",
        "    self.Ns = {}     # Stores #times board s was visited\n",
        "    self.Ps = {}     # Stores initial policy (returned by neural net)\n",
        "    self.Es = {}     # Stores game.getGameEnded ended for board s\n",
        "    self.Vs = {}     # Stores game.getValidMoves for board s\n",
        "\n",
        "  def search(self, canonicalBoard):\n",
        "    \"\"\"\n",
        "    This function performs one iteration of MCTS. It is recursively called\n",
        "    till a leaf node is found. The action chosen at each node is one that\n",
        "    has the maximum upper confidence bound as in the paper.\n",
        "    Once a leaf node is found, the neural network is called to return an\n",
        "    initial policy P and a value v for the state. This value is propagated\n",
        "    up the search path. In case the leaf node is a terminal state, the\n",
        "    outcome is propagated up the search path. The values of Ns, Nsa, Qsa are\n",
        "    updated.\n",
        "    NOTE: the return values are the negative of the value of the current\n",
        "    state. This is done since v is in [-1,1] and if v is the value of a\n",
        "    state for the current player, then its value is -v for the other player.\n",
        "\n",
        "    Args:\n",
        "      canonicalBoard: np.ndarray\n",
        "        Canonical Board of size n x n [6x6 in this case]\n",
        "\n",
        "    Returns:\n",
        "        v: Float\n",
        "          The negative of the value of the current canonicalBoard\n",
        "    \"\"\"\n",
        "    s = self.game.stringRepresentation(canonicalBoard)\n",
        "\n",
        "    if s not in self.Es:\n",
        "      self.Es[s] = self.game.getGameEnded(canonicalBoard, 1)\n",
        "    if self.Es[s] != 0:\n",
        "      # Terminal node\n",
        "      return -self.Es[s]\n",
        "\n",
        "    if s not in self.Ps:\n",
        "      # Leaf node\n",
        "      self.Ps[s], v = self.nnet.predict(canonicalBoard)\n",
        "      valids = self.game.getValidMoves(canonicalBoard, 1)\n",
        "      self.Ps[s] = self.Ps[s] * valids  # Masking invalid moves\n",
        "      sum_Ps_s = np.sum(self.Ps[s])\n",
        "      if sum_Ps_s > 0:\n",
        "        self.Ps[s] /= sum_Ps_s  # Renormalize\n",
        "      else:\n",
        "        # If all valid moves were masked make all valid moves equally probable\n",
        "        # NB! All valid moves may be masked if either your NNet architecture is insufficient or you've get overfitting or something else.\n",
        "        # If you have got dozens or hundreds of these messages you should pay attention to your NNet and/or training process.\n",
        "        log = logging.getLogger(__name__)\n",
        "        log.error(\"All valid moves were masked, doing a workaround.\")\n",
        "        self.Ps[s] = self.Ps[s] + valids\n",
        "        self.Ps[s] /= np.sum(self.Ps[s])\n",
        "\n",
        "      self.Vs[s] = valids\n",
        "      self.Ns[s] = 0\n",
        "\n",
        "      return -v\n",
        "\n",
        "    valids = self.Vs[s]\n",
        "    cur_best = -float('inf')\n",
        "    best_act = -1\n",
        "\n",
        "    # Pick the action with the highest upper confidence bound\n",
        "    for a in range(self.game.getActionSize()):\n",
        "      if valids[a]:\n",
        "        if (s, a) in self.Qsa:\n",
        "          u = self.Qsa[(s, a)] + self.args.cpuct * self.Ps[s][a] * math.sqrt(self.Ns[s]) / (1 + self.Nsa[(s, a)])\n",
        "        else:\n",
        "          u = self.args.cpuct * self.Ps[s][a] * math.sqrt(self.Ns[s] + 1e-8)\n",
        "\n",
        "        if u > cur_best:\n",
        "          cur_best = u\n",
        "          best_act = a\n",
        "\n",
        "    a = best_act\n",
        "    next_s, next_player = self.game.getNextState(canonicalBoard, 1, a)\n",
        "    next_s = self.game.getCanonicalForm(next_s, next_player)\n",
        "\n",
        "    v = self.search(next_s)\n",
        "\n",
        "    if (s, a) in self.Qsa:\n",
        "      self.Qsa[(s, a)] = (self.Nsa[(s, a)] * self.Qsa[(s, a)] + v) / (self.Nsa[(s, a)] + 1)\n",
        "      self.Nsa[(s, a)] += 1\n",
        "\n",
        "    else:\n",
        "      self.Qsa[(s, a)] = v\n",
        "      self.Nsa[(s, a)] = 1\n",
        "\n",
        "    self.Ns[s] += 1\n",
        "    return -v\n",
        "\n",
        "  def getNsa(self):\n",
        "    return self.Nsa"
      ]
    },
    {
      "cell_type": "markdown",
      "metadata": {
        "execution": {},
        "id": "Asd49N1oWy-O"
      },
      "source": [
        "---\n",
        "# Bonus 2: Use MCTS to play games\n",
        "\n",
        "*Time estimate: ~10mins*\n"
      ]
    },
    {
      "cell_type": "markdown",
      "metadata": {
        "execution": {},
        "id": "IX44hDECWy-P"
      },
      "source": [
        "**Goal:** Teach the students how to use the results of MCTS to play games.\n",
        "\n",
        "**Exercise:** \n",
        "* Plug the MCTS planner into an agent.\n",
        "* Play games against other agents.\n",
        "* Explore the contributions of prior network, value function, number of simulations/time to play and explore/exploit parameters."
      ]
    },
    {
      "cell_type": "code",
      "execution_count": 52,
      "metadata": {
        "cellView": "form",
        "execution": {},
        "colab": {
          "base_uri": "https://localhost:8080/",
          "height": 581,
          "referenced_widgets": [
            "476a80e1d2f54cfc892f9a5999ae58b3",
            "8025525717084ec9aa1f519fd6bf7ba9",
            "5984bd901c804e6c9061d3d2e36e28dc",
            "2407625e47764f8ea72a827e16670992",
            "a5b68a1d4a66474e90e9c96b8ff25f6b",
            "6f9618e2972544f4945dbc20b82252ae"
          ]
        },
        "id": "3D95EyBaWy-P",
        "outputId": "e8b115aa-e54e-4015-c98a-3380145e0426"
      },
      "outputs": [
        {
          "output_type": "display_data",
          "data": {
            "text/plain": [
              "Tab(children=(Output(), Output()), _titles={'0': 'Youtube', '1': 'Bilibili'})"
            ],
            "application/vnd.jupyter.widget-view+json": {
              "version_major": 2,
              "version_minor": 0,
              "model_id": "476a80e1d2f54cfc892f9a5999ae58b3"
            }
          },
          "metadata": {}
        }
      ],
      "source": [
        "# @title Video 11: Play with MCTS\n",
        "from ipywidgets import widgets\n",
        "\n",
        "out2 = widgets.Output()\n",
        "with out2:\n",
        "  from IPython.display import IFrame\n",
        "  class BiliVideo(IFrame):\n",
        "    def __init__(self, id, page=1, width=400, height=300, **kwargs):\n",
        "      self.id=id\n",
        "      src = \"https://player.bilibili.com/player.html?bvid={0}&page={1}\".format(id, page)\n",
        "      super(BiliVideo, self).__init__(src, width, height, **kwargs)\n",
        "\n",
        "  video = BiliVideo(id=f\"BV13q4y1H7H6\", width=854, height=480, fs=1)\n",
        "  print(\"Video available at https://www.bilibili.com/video/{0}\".format(video.id))\n",
        "  display(video)\n",
        "\n",
        "out1 = widgets.Output()\n",
        "with out1:\n",
        "  from IPython.display import YouTubeVideo\n",
        "  video = YouTubeVideo(id=f\"1BRXb-igKAU\", width=854, height=480, fs=1, rel=0)\n",
        "  print(\"Video available at https://youtube.com/watch?v=\" + video.id)\n",
        "  display(video)\n",
        "\n",
        "out = widgets.Tab([out1, out2])\n",
        "out.set_title(0, 'Youtube')\n",
        "out.set_title(1, 'Bilibili')\n",
        "\n",
        "# add event to airtable\n",
        "atform.add_event('Video 11: Play with MCTS')\n",
        "\n",
        "display(out)"
      ]
    },
    {
      "cell_type": "markdown",
      "metadata": {
        "execution": {},
        "id": "I-CtMRwQWy-P"
      },
      "source": [
        "## Bonus Coding Exercise 2: Agent that uses an MCTS planner\n",
        "\n",
        "* Plug the MCTS planner into an agent.\n",
        "* Play games against other agents.\n",
        "* Explore the contributions of prior network, value function, number of simulations/time to play and explore/exploit parameters."
      ]
    },
    {
      "cell_type": "code",
      "execution_count": 53,
      "metadata": {
        "execution": {},
        "id": "DsP5kp5yWy-Q"
      },
      "outputs": [],
      "source": [
        "# Load MCTS model from the repository\n",
        "mcts_model_save_name = 'MCTS.pth.tar'\n",
        "path = \"nma_rl_games/alpha-zero/pretrained_models/models/\""
      ]
    },
    {
      "cell_type": "markdown",
      "metadata": {
        "execution": {},
        "id": "Fqp4PGrLWy-Q"
      },
      "source": [
        "```python\n",
        "class MonteCarloTreeSearchBasedPlayer():\n",
        "  \"\"\"\n",
        "  Simulate Player based on MCTS\n",
        "  \"\"\"\n",
        "\n",
        "  def __init__(self, game, nnet, args):\n",
        "    \"\"\"\n",
        "    Initialize parameters of MCTS\n",
        "\n",
        "    Args:\n",
        "      game: OthelloGame instance\n",
        "        Instance of the OthelloGame class above;\n",
        "      nnet: OthelloNet instance\n",
        "        Instance of the OthelloNNet class above;\n",
        "      args: dictionary\n",
        "        Instantiates number of iterations and episodes, controls temperature threshold, queue length,\n",
        "        arena, checkpointing, and neural network parameters:\n",
        "        learning-rate: 0.001, dropout: 0.3, epochs: 10, batch_size: 64,\n",
        "        num_channels: 512\n",
        "\n",
        "    Returns:\n",
        "      Nothing\n",
        "    \"\"\"\n",
        "    self.game = game\n",
        "    self.nnet = nnet\n",
        "    self.args = args\n",
        "    self.mcts = MCTS(game, nnet, args)\n",
        "\n",
        "  def play(self, canonicalBoard, temp=1):\n",
        "    \"\"\"\n",
        "    Simulate Play on Canonical Board\n",
        "\n",
        "    Args:\n",
        "      canonicalBoard: np.ndarray\n",
        "        Canonical Board of size n x n [6x6 in this case]\n",
        "      temp: Integer\n",
        "        Signifies if game is in terminal state\n",
        "\n",
        "    Returns:\n",
        "      List of probabilities for all actions if temp is 0\n",
        "      Best action based on max probability otherwise\n",
        "    \"\"\"\n",
        "    for i in range(self.args.numMCTSSims):\n",
        "\n",
        "      #################################################\n",
        "      ## TODO for students:\n",
        "      #  Run MCTS search function.\n",
        "      #  Fill out function and remove\n",
        "      raise NotImplementedError(\"Plug the planner\")\n",
        "      #################################################\n",
        "      ...\n",
        "\n",
        "    s = self.game.stringRepresentation(canonicalBoard)\n",
        "    #################################################\n",
        "    ## TODO for students:\n",
        "    #  Call the Nsa function from MCTS class and store it in the self.Nsa\n",
        "    #  Fill out function and remove\n",
        "    raise NotImplementedError(\"Compute Nsa (number of times edge s,a was visited)\")\n",
        "    #################################################\n",
        "    self.Nsa = ...\n",
        "    self.counts = [self.Nsa[(s, a)] if (s, a) in self.Nsa else 0 for a in range(self.game.getActionSize())]\n",
        "\n",
        "    if temp == 0:\n",
        "      bestAs = np.array(np.argwhere(self.counts == np.max(self.counts))).flatten()\n",
        "      bestA = np.random.choice(bestAs)\n",
        "      probs = [0] * len(self.counts)\n",
        "      probs[bestA] = 1\n",
        "      return probs\n",
        "\n",
        "    self.counts = [x ** (1. / temp) for x in self.counts]\n",
        "    self.counts_sum = float(sum(self.counts))\n",
        "    probs = [x / self.counts_sum for x in self.counts]\n",
        "    return np.argmax(probs)\n",
        "\n",
        "  def getActionProb(self, canonicalBoard, temp=1):\n",
        "    \"\"\"\n",
        "    Helper function to get probabilities associated with each action\n",
        "\n",
        "    Args:\n",
        "      canonicalBoard: np.ndarray\n",
        "        Canonical Board of size n x n [6x6 in this case]\n",
        "      temp: Integer\n",
        "        Signifies if game is in terminal state\n",
        "\n",
        "    Returns:\n",
        "      action_probs: List\n",
        "        Probability associated with corresponding action\n",
        "    \"\"\"\n",
        "    action_probs = np.zeros((self.game.getActionSize()))\n",
        "    best_action = self.play(canonicalBoard)\n",
        "    action_probs[best_action] = 1\n",
        "\n",
        "    return action_probs\n",
        "\n",
        "set_seed(seed=SEED)\n",
        "game = OthelloGame(6)\n",
        "rp = RandomPlayer(game).play  # All players\n",
        "num_games = 20  # Games\n",
        "n1 = NNet(game)  # nnet players\n",
        "n1.load_checkpoint(folder=path, filename=mcts_model_save_name)\n",
        "args1 = dotdict({'numMCTSSims': 50, 'cpuct':1.0})\n",
        "\n",
        "## Uncomment below to check your agent!\n",
        "# print('\\n******MCTS player versus random player******')\n",
        "# mcts1 = MonteCarloTreeSearchBasedPlayer(game, n1, args1)\n",
        "# n1p = lambda x: np.argmax(mcts1.getActionProb(x, temp=0))\n",
        "# arena = Arena.Arena(n1p, rp, game, display=OthelloGame.display)\n",
        "# MCTS_result = arena.playGames(num_games, verbose=False)\n",
        "# print(f\"\\n\\n{MCTS_result}\")\n",
        "# print(f\"\\nNumber of games won by player1 = {MCTS_result[0]}, \"\n",
        "#       f\"number of games won by player2 = {MCTS_result[1]}, out of {num_games} games\")\n",
        "# win_rate_player1 = MCTS_result[0]/num_games\n",
        "# print(f\"\\nWin rate for player1 over {num_games} games: {round(win_rate_player1*100, 1)}%\")\n",
        "\n",
        "```"
      ]
    },
    {
      "cell_type": "code",
      "execution_count": 54,
      "metadata": {
        "execution": {},
        "colab": {
          "base_uri": "https://localhost:8080/"
        },
        "id": "od9wow60Wy-Q",
        "outputId": "6ff7911c-830f-487b-85c2-b878564ee87a"
      },
      "outputs": [
        {
          "output_type": "stream",
          "name": "stdout",
          "text": [
            "Random seed 2021 has been set.\n",
            "\n",
            "******MCTS player versus random player******\n"
          ]
        },
        {
          "output_type": "stream",
          "name": "stderr",
          "text": [
            "Arena.playGames (1): 100%|██████████| 10/10 [00:15<00:00,  1.54s/it]\n",
            "Arena.playGames (2): 100%|██████████| 10/10 [00:15<00:00,  1.51s/it]"
          ]
        },
        {
          "output_type": "stream",
          "name": "stdout",
          "text": [
            "\n",
            "\n",
            "(19, 1, 0)\n",
            "\n",
            "Number of games won by player1 = 19, number of games won by player2 = 1, out of 20 games\n",
            "\n",
            "Win rate for player1 over 20 games: 95.0%\n"
          ]
        },
        {
          "output_type": "stream",
          "name": "stderr",
          "text": [
            "\n"
          ]
        }
      ],
      "source": [
        "# to_remove solution\n",
        "class MonteCarloTreeSearchBasedPlayer():\n",
        "  \"\"\"\n",
        "  Simulate Player based on MCTS\n",
        "  \"\"\"\n",
        "\n",
        "  def __init__(self, game, nnet, args):\n",
        "    \"\"\"\n",
        "    Initialize parameters of MCTS\n",
        "\n",
        "    Args:\n",
        "      game: OthelloGame instance\n",
        "        Instance of the OthelloGame class above;\n",
        "      nnet: OthelloNet instance\n",
        "        Instance of the OthelloNNet class above;\n",
        "      args: dictionary\n",
        "        Instantiates number of iterations and episodes, controls temperature threshold, queue length,\n",
        "        arena, checkpointing, and neural network parameters:\n",
        "        learning-rate: 0.001, dropout: 0.3, epochs: 10, batch_size: 64,\n",
        "        num_channels: 512\n",
        "\n",
        "    Returns:\n",
        "      Nothing\n",
        "    \"\"\"\n",
        "    self.game = game\n",
        "    self.nnet = nnet\n",
        "    self.args = args\n",
        "    self.mcts = MCTS(game, nnet, args)\n",
        "\n",
        "  def play(self, canonicalBoard, temp=1):\n",
        "    \"\"\"\n",
        "    Simulate Play on Canonical Board\n",
        "\n",
        "    Args:\n",
        "      canonicalBoard: np.ndarray\n",
        "        Canonical Board of size n x n [6x6 in this case]\n",
        "      temp: Integer\n",
        "        Signifies if game is in terminal state\n",
        "\n",
        "    Returns:\n",
        "      List of probabilities for all actions if temp is 0\n",
        "      Best action based on max probability otherwise\n",
        "    \"\"\"\n",
        "    for i in range(self.args.numMCTSSims):\n",
        "      self.mcts.search(canonicalBoard)\n",
        "\n",
        "    s = self.game.stringRepresentation(canonicalBoard)\n",
        "    self.Nsa = self.mcts.getNsa()\n",
        "    self.counts = [self.Nsa[(s, a)] if (s, a) in self.Nsa else 0 for a in range(self.game.getActionSize())]\n",
        "\n",
        "    if temp == 0:\n",
        "      bestAs = np.array(np.argwhere(self.counts == np.max(self.counts))).flatten()\n",
        "      bestA = np.random.choice(bestAs)\n",
        "      probs = [0] * len(self.counts)\n",
        "      probs[bestA] = 1\n",
        "      return probs\n",
        "\n",
        "    self.counts = [x ** (1. / temp) for x in self.counts]\n",
        "    self.counts_sum = float(sum(self.counts))\n",
        "    probs = [x / self.counts_sum for x in self.counts]\n",
        "    return np.argmax(probs)\n",
        "\n",
        "  def getActionProb(self, canonicalBoard, temp=1):\n",
        "    \"\"\"\n",
        "    Helper function to get probabilities associated with each action\n",
        "\n",
        "    Args:\n",
        "      canonicalBoard: np.ndarray\n",
        "        Canonical Board of size n x n [6x6 in this case]\n",
        "      temp: Integer\n",
        "        Signifies if game is in terminal state\n",
        "\n",
        "    Returns:\n",
        "      action_probs: List\n",
        "        Probability associated with corresponding action\n",
        "    \"\"\"\n",
        "    action_probs = np.zeros((self.game.getActionSize()))\n",
        "    best_action = self.play(canonicalBoard)\n",
        "    action_probs[best_action] = 1\n",
        "\n",
        "    return action_probs\n",
        "\n",
        "set_seed(seed=SEED)\n",
        "game = OthelloGame(6)\n",
        "rp = RandomPlayer(game).play  # All players\n",
        "num_games = 20  # Games\n",
        "n1 = NNet(game)  # nnet players\n",
        "n1.load_checkpoint(folder=path, filename=mcts_model_save_name)\n",
        "args1 = dotdict({'numMCTSSims': 50, 'cpuct':1.0})\n",
        "\n",
        "## Uncomment below to check your agent!\n",
        "print('\\n******MCTS player versus random player******')\n",
        "mcts1 = MonteCarloTreeSearchBasedPlayer(game, n1, args1)\n",
        "n1p = lambda x: np.argmax(mcts1.getActionProb(x, temp=0))\n",
        "arena = Arena.Arena(n1p, rp, game, display=OthelloGame.display)\n",
        "MCTS_result = arena.playGames(num_games, verbose=False)\n",
        "print(f\"\\n\\n{MCTS_result}\")\n",
        "print(f\"\\nNumber of games won by player1 = {MCTS_result[0]}, \"\n",
        "      f\"number of games won by player2 = {MCTS_result[1]}, out of {num_games} games\")\n",
        "win_rate_player1 = MCTS_result[0]/num_games\n",
        "print(f\"\\nWin rate for player1 over {num_games} games: {round(win_rate_player1*100, 1)}%\")"
      ]
    },
    {
      "cell_type": "markdown",
      "metadata": {
        "execution": {},
        "id": "TH9Afy-bWy-R"
      },
      "source": [
        "```\n",
        "Number of games won by player1 = 19, num of games won by player2 = 1, out of 20 games\n",
        "\n",
        "Win rate for player1 over 20 games: 95.0%\n",
        "```"
      ]
    },
    {
      "cell_type": "markdown",
      "metadata": {
        "execution": {},
        "id": "2dEcVQcnWy-R"
      },
      "source": [
        "### MCTS player against Value-based player"
      ]
    },
    {
      "cell_type": "code",
      "execution_count": 55,
      "metadata": {
        "execution": {},
        "colab": {
          "base_uri": "https://localhost:8080/"
        },
        "id": "1Z5iN4cBWy-R",
        "outputId": "b96520fd-3a14-40d5-a905-3fd160c7acd5"
      },
      "outputs": [
        {
          "output_type": "stream",
          "name": "stdout",
          "text": [
            "\n",
            "******MCTS player versus value-based player******\n",
            "Random seed 2021 has been set.\n"
          ]
        },
        {
          "output_type": "stream",
          "name": "stderr",
          "text": [
            "Arena.playGames (1): 100%|██████████| 10/10 [00:17<00:00,  1.79s/it]\n",
            "Arena.playGames (2): 100%|██████████| 10/10 [00:17<00:00,  1.74s/it]"
          ]
        },
        {
          "output_type": "stream",
          "name": "stdout",
          "text": [
            "\n",
            "\n",
            "(14, 6, 0)\n",
            "\n",
            "Number of games won by player1 = 14, number of games won by player2 = 6, out of 20 games\n",
            "\n",
            "Win rate for player1 over 20 games: 70.0%\n"
          ]
        },
        {
          "output_type": "stream",
          "name": "stderr",
          "text": [
            "\n"
          ]
        }
      ],
      "source": [
        "print('\\n******MCTS player versus value-based player******')\n",
        "set_seed(seed=SEED)\n",
        "vp = ValueBasedPlayer(game, vnet).play  # Value-based player\n",
        "arena = Arena.Arena(n1p, vp, game, display=OthelloGame.display)\n",
        "MC_result = arena.playGames(num_games, verbose=False)\n",
        "print(f\"\\n\\n{MC_result}\")\n",
        "print(f\"\\nNumber of games won by player1 = {MC_result[0]}, \"\n",
        "      f\"number of games won by player2 = {MC_result[1]}, out of {num_games} games\")\n",
        "win_rate_player1 = MC_result[0]/num_games\n",
        "print(f\"\\nWin rate for player1 over {num_games} games: {round(win_rate_player1*100, 1)}%\")"
      ]
    },
    {
      "cell_type": "markdown",
      "metadata": {
        "execution": {},
        "id": "zc-LBSirWy-R"
      },
      "source": [
        "```\n",
        "Number of games won by player1 = 14, number of games won by player2 = 6, out of 20 games\n",
        "\n",
        "Win rate for player1 over 20 games: 70.0%\n",
        "```"
      ]
    },
    {
      "cell_type": "markdown",
      "metadata": {
        "execution": {},
        "id": "cdAfJtM1Wy-S"
      },
      "source": [
        "### MCTS player against Policy-based player"
      ]
    },
    {
      "cell_type": "code",
      "execution_count": 56,
      "metadata": {
        "execution": {},
        "colab": {
          "base_uri": "https://localhost:8080/"
        },
        "id": "x9cdP3TnWy-S",
        "outputId": "8cf5c662-31f4-4a89-a53e-c2b5f73bb310"
      },
      "outputs": [
        {
          "output_type": "stream",
          "name": "stdout",
          "text": [
            "\n",
            "******MCTS player versus policy-based player******\n",
            "Random seed 2021 has been set.\n"
          ]
        },
        {
          "output_type": "stream",
          "name": "stderr",
          "text": [
            "Arena.playGames (1): 100%|██████████| 10/10 [00:17<00:00,  1.75s/it]\n",
            "Arena.playGames (2): 100%|██████████| 10/10 [00:15<00:00,  1.55s/it]"
          ]
        },
        {
          "output_type": "stream",
          "name": "stdout",
          "text": [
            "\n",
            "\n",
            "(20, 0, 0)\n",
            "\n",
            "Number of games won by player1 = 20, number of games won by player2 = 0, out of 20 games\n",
            "\n",
            "Win rate for player1 over 20 games: 100.0%\n"
          ]
        },
        {
          "output_type": "stream",
          "name": "stderr",
          "text": [
            "\n"
          ]
        }
      ],
      "source": [
        "print('\\n******MCTS player versus policy-based player******')\n",
        "set_seed(seed=SEED)\n",
        "pp = PolicyBasedPlayer(game, pnet).play  # Policy-based player\n",
        "arena = Arena.Arena(n1p, pp, game, display=OthelloGame.display)\n",
        "MC_result = arena.playGames(num_games, verbose=False)\n",
        "print(f\"\\n\\n{MC_result}\")\n",
        "print(f\"\\nNumber of games won by player1 = {MC_result[0]}, \"\n",
        "      f\"number of games won by player2 = {MC_result[1]}, out of {num_games} games\")\n",
        "win_rate_player1 = MC_result[0]/num_games\n",
        "print(f\"\\nWin rate for player1 over {num_games} games: {round(win_rate_player1*100, 1)}%\")"
      ]
    },
    {
      "cell_type": "markdown",
      "metadata": {
        "execution": {},
        "id": "cUip1HLcWy-S"
      },
      "source": [
        "```\n",
        "Number of games won by player1 = 20, number of games won by player2 = 0, out of 20 games\n",
        "\n",
        "Win rate for player1 over 20 games: 100.0%\n",
        "```"
      ]
    }
  ],
  "metadata": {
    "accelerator": "GPU",
    "colab": {
      "collapsed_sections": [],
      "name": "W3D5_Tutorial1",
      "provenance": [],
      "toc_visible": true,
      "include_colab_link": true
    },
    "kernel": {
      "display_name": "Python 3",
      "language": "python",
      "name": "python3"
    },
    "kernelspec": {
      "display_name": "Python 3",
      "name": "python3"
    },
    "language_info": {
      "name": "python"
    },
    "widgets": {
      "application/vnd.jupyter.widget-state+json": {
        "a1082b1e90bb4963a4ed75e4d06d196c": {
          "model_module": "@jupyter-widgets/controls",
          "model_name": "TabModel",
          "model_module_version": "1.5.0",
          "state": {
            "_dom_classes": [],
            "_model_module": "@jupyter-widgets/controls",
            "_model_module_version": "1.5.0",
            "_model_name": "TabModel",
            "_titles": {
              "0": "Youtube",
              "1": "Bilibili"
            },
            "_view_count": null,
            "_view_module": "@jupyter-widgets/controls",
            "_view_module_version": "1.5.0",
            "_view_name": "TabView",
            "box_style": "",
            "children": [
              "IPY_MODEL_2773bb52d9c5446e9fb8e5197d186fe0",
              "IPY_MODEL_36397e847ed64bd1a8bec784e2f79586"
            ],
            "layout": "IPY_MODEL_33109f5aa65347fba7f642443e562e2e",
            "selected_index": 0
          }
        },
        "2773bb52d9c5446e9fb8e5197d186fe0": {
          "model_module": "@jupyter-widgets/output",
          "model_name": "OutputModel",
          "model_module_version": "1.0.0",
          "state": {
            "_dom_classes": [],
            "_model_module": "@jupyter-widgets/output",
            "_model_module_version": "1.0.0",
            "_model_name": "OutputModel",
            "_view_count": null,
            "_view_module": "@jupyter-widgets/output",
            "_view_module_version": "1.0.0",
            "_view_name": "OutputView",
            "layout": "IPY_MODEL_86ff3f44041b4faa81c3df2344792b58",
            "msg_id": "",
            "outputs": [
              {
                "output_type": "stream",
                "name": "stdout",
                "text": [
                  "Video available at https://youtube.com/watch?v=5kQ-xGbjlJo\n"
                ]
              },
              {
                "output_type": "display_data",
                "data": {
                  "text/plain": "<IPython.lib.display.YouTubeVideo at 0x7f297990bd90>",
                  "text/html": "\n        <iframe\n            width=\"854\"\n            height=\"480\"\n            src=\"https://www.youtube.com/embed/5kQ-xGbjlJo?fs=1&rel=0\"\n            frameborder=\"0\"\n            allowfullscreen\n        ></iframe>\n        ",
                  "image/jpeg": "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\n"
                },
                "metadata": {}
              }
            ]
          }
        },
        "36397e847ed64bd1a8bec784e2f79586": {
          "model_module": "@jupyter-widgets/output",
          "model_name": "OutputModel",
          "model_module_version": "1.0.0",
          "state": {
            "_dom_classes": [],
            "_model_module": "@jupyter-widgets/output",
            "_model_module_version": "1.0.0",
            "_model_name": "OutputModel",
            "_view_count": null,
            "_view_module": "@jupyter-widgets/output",
            "_view_module_version": "1.0.0",
            "_view_name": "OutputView",
            "layout": "IPY_MODEL_63b499d815604e6ab422b3b6e85b43fc",
            "msg_id": "",
            "outputs": [
              {
                "output_type": "stream",
                "name": "stdout",
                "text": [
                  "Video available at https://www.bilibili.com/video/BV1Yh411B7EP\n"
                ]
              },
              {
                "output_type": "display_data",
                "data": {
                  "text/plain": "<__main__.BiliVideo at 0x7f28b69604d0>",
                  "text/html": "\n        <iframe\n            width=\"854\"\n            height=\"480\"\n            src=\"https://player.bilibili.com/player.html?bvid=BV1Yh411B7EP&page=1?fs=1\"\n            frameborder=\"0\"\n            allowfullscreen\n        ></iframe>\n        "
                },
                "metadata": {}
              }
            ]
          }
        },
        "33109f5aa65347fba7f642443e562e2e": {
          "model_module": "@jupyter-widgets/base",
          "model_name": "LayoutModel",
          "model_module_version": "1.2.0",
          "state": {
            "_model_module": "@jupyter-widgets/base",
            "_model_module_version": "1.2.0",
            "_model_name": "LayoutModel",
            "_view_count": null,
            "_view_module": "@jupyter-widgets/base",
            "_view_module_version": "1.2.0",
            "_view_name": "LayoutView",
            "align_content": null,
            "align_items": null,
            "align_self": null,
            "border": null,
            "bottom": null,
            "display": null,
            "flex": null,
            "flex_flow": null,
            "grid_area": null,
            "grid_auto_columns": null,
            "grid_auto_flow": null,
            "grid_auto_rows": null,
            "grid_column": null,
            "grid_gap": null,
            "grid_row": null,
            "grid_template_areas": null,
            "grid_template_columns": null,
            "grid_template_rows": null,
            "height": null,
            "justify_content": null,
            "justify_items": null,
            "left": null,
            "margin": null,
            "max_height": null,
            "max_width": null,
            "min_height": null,
            "min_width": null,
            "object_fit": null,
            "object_position": null,
            "order": null,
            "overflow": null,
            "overflow_x": null,
            "overflow_y": null,
            "padding": null,
            "right": null,
            "top": null,
            "visibility": null,
            "width": null
          }
        },
        "86ff3f44041b4faa81c3df2344792b58": {
          "model_module": "@jupyter-widgets/base",
          "model_name": "LayoutModel",
          "model_module_version": "1.2.0",
          "state": {
            "_model_module": "@jupyter-widgets/base",
            "_model_module_version": "1.2.0",
            "_model_name": "LayoutModel",
            "_view_count": null,
            "_view_module": "@jupyter-widgets/base",
            "_view_module_version": "1.2.0",
            "_view_name": "LayoutView",
            "align_content": null,
            "align_items": null,
            "align_self": null,
            "border": null,
            "bottom": null,
            "display": null,
            "flex": null,
            "flex_flow": null,
            "grid_area": null,
            "grid_auto_columns": null,
            "grid_auto_flow": null,
            "grid_auto_rows": null,
            "grid_column": null,
            "grid_gap": null,
            "grid_row": null,
            "grid_template_areas": null,
            "grid_template_columns": null,
            "grid_template_rows": null,
            "height": null,
            "justify_content": null,
            "justify_items": null,
            "left": null,
            "margin": null,
            "max_height": null,
            "max_width": null,
            "min_height": null,
            "min_width": null,
            "object_fit": null,
            "object_position": null,
            "order": null,
            "overflow": null,
            "overflow_x": null,
            "overflow_y": null,
            "padding": null,
            "right": null,
            "top": null,
            "visibility": null,
            "width": null
          }
        },
        "63b499d815604e6ab422b3b6e85b43fc": {
          "model_module": "@jupyter-widgets/base",
          "model_name": "LayoutModel",
          "model_module_version": "1.2.0",
          "state": {
            "_model_module": "@jupyter-widgets/base",
            "_model_module_version": "1.2.0",
            "_model_name": "LayoutModel",
            "_view_count": null,
            "_view_module": "@jupyter-widgets/base",
            "_view_module_version": "1.2.0",
            "_view_name": "LayoutView",
            "align_content": null,
            "align_items": null,
            "align_self": null,
            "border": null,
            "bottom": null,
            "display": null,
            "flex": null,
            "flex_flow": null,
            "grid_area": null,
            "grid_auto_columns": null,
            "grid_auto_flow": null,
            "grid_auto_rows": null,
            "grid_column": null,
            "grid_gap": null,
            "grid_row": null,
            "grid_template_areas": null,
            "grid_template_columns": null,
            "grid_template_rows": null,
            "height": null,
            "justify_content": null,
            "justify_items": null,
            "left": null,
            "margin": null,
            "max_height": null,
            "max_width": null,
            "min_height": null,
            "min_width": null,
            "object_fit": null,
            "object_position": null,
            "order": null,
            "overflow": null,
            "overflow_x": null,
            "overflow_y": null,
            "padding": null,
            "right": null,
            "top": null,
            "visibility": null,
            "width": null
          }
        },
        "231cd0ed0bab4c38817945e4615fb9ab": {
          "model_module": "@jupyter-widgets/controls",
          "model_name": "TabModel",
          "model_module_version": "1.5.0",
          "state": {
            "_dom_classes": [],
            "_model_module": "@jupyter-widgets/controls",
            "_model_module_version": "1.5.0",
            "_model_name": "TabModel",
            "_titles": {
              "0": "Youtube",
              "1": "Bilibili"
            },
            "_view_count": null,
            "_view_module": "@jupyter-widgets/controls",
            "_view_module_version": "1.5.0",
            "_view_name": "TabView",
            "box_style": "",
            "children": [
              "IPY_MODEL_ad55a898ce744b9ebe8cc86e8b084bc8",
              "IPY_MODEL_53c1bc635b6c4a1bbeea9be336416cf0"
            ],
            "layout": "IPY_MODEL_5754a9a7e63647f89fd6f4e1af20f012",
            "selected_index": 0
          }
        },
        "ad55a898ce744b9ebe8cc86e8b084bc8": {
          "model_module": "@jupyter-widgets/output",
          "model_name": "OutputModel",
          "model_module_version": "1.0.0",
          "state": {
            "_dom_classes": [],
            "_model_module": "@jupyter-widgets/output",
            "_model_module_version": "1.0.0",
            "_model_name": "OutputModel",
            "_view_count": null,
            "_view_module": "@jupyter-widgets/output",
            "_view_module_version": "1.0.0",
            "_view_name": "OutputView",
            "layout": "IPY_MODEL_0f10f84561bc4cb8b9a511ea002b9c3f",
            "msg_id": "",
            "outputs": [
              {
                "output_type": "stream",
                "name": "stdout",
                "text": [
                  "Video available at https://youtube.com/watch?v=aH2Hs8f6KrQ\n"
                ]
              },
              {
                "output_type": "display_data",
                "data": {
                  "text/plain": "<IPython.lib.display.YouTubeVideo at 0x7f29760836d0>",
                  "text/html": "\n        <iframe\n            width=\"854\"\n            height=\"480\"\n            src=\"https://www.youtube.com/embed/aH2Hs8f6KrQ?fs=1&rel=0\"\n            frameborder=\"0\"\n            allowfullscreen\n        ></iframe>\n        ",
                  "image/jpeg": "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\n"
                },
                "metadata": {}
              }
            ]
          }
        },
        "53c1bc635b6c4a1bbeea9be336416cf0": {
          "model_module": "@jupyter-widgets/output",
          "model_name": "OutputModel",
          "model_module_version": "1.0.0",
          "state": {
            "_dom_classes": [],
            "_model_module": "@jupyter-widgets/output",
            "_model_module_version": "1.0.0",
            "_model_name": "OutputModel",
            "_view_count": null,
            "_view_module": "@jupyter-widgets/output",
            "_view_module_version": "1.0.0",
            "_view_name": "OutputView",
            "layout": "IPY_MODEL_f0bcd7c69c684125af9d2bb0c00b04ba",
            "msg_id": "",
            "outputs": [
              {
                "output_type": "stream",
                "name": "stdout",
                "text": [
                  "Video available at https://www.bilibili.com/video/BV1Wy4y1V7bt\n"
                ]
              },
              {
                "output_type": "display_data",
                "data": {
                  "text/plain": "<__main__.BiliVideo at 0x7f28b3e24f90>",
                  "text/html": "\n        <iframe\n            width=\"854\"\n            height=\"480\"\n            src=\"https://player.bilibili.com/player.html?bvid=BV1Wy4y1V7bt&page=1?fs=1\"\n            frameborder=\"0\"\n            allowfullscreen\n        ></iframe>\n        "
                },
                "metadata": {}
              }
            ]
          }
        },
        "5754a9a7e63647f89fd6f4e1af20f012": {
          "model_module": "@jupyter-widgets/base",
          "model_name": "LayoutModel",
          "model_module_version": "1.2.0",
          "state": {
            "_model_module": "@jupyter-widgets/base",
            "_model_module_version": "1.2.0",
            "_model_name": "LayoutModel",
            "_view_count": null,
            "_view_module": "@jupyter-widgets/base",
            "_view_module_version": "1.2.0",
            "_view_name": "LayoutView",
            "align_content": null,
            "align_items": null,
            "align_self": null,
            "border": null,
            "bottom": null,
            "display": null,
            "flex": null,
            "flex_flow": null,
            "grid_area": null,
            "grid_auto_columns": null,
            "grid_auto_flow": null,
            "grid_auto_rows": null,
            "grid_column": null,
            "grid_gap": null,
            "grid_row": null,
            "grid_template_areas": null,
            "grid_template_columns": null,
            "grid_template_rows": null,
            "height": null,
            "justify_content": null,
            "justify_items": null,
            "left": null,
            "margin": null,
            "max_height": null,
            "max_width": null,
            "min_height": null,
            "min_width": null,
            "object_fit": null,
            "object_position": null,
            "order": null,
            "overflow": null,
            "overflow_x": null,
            "overflow_y": null,
            "padding": null,
            "right": null,
            "top": null,
            "visibility": null,
            "width": null
          }
        },
        "0f10f84561bc4cb8b9a511ea002b9c3f": {
          "model_module": "@jupyter-widgets/base",
          "model_name": "LayoutModel",
          "model_module_version": "1.2.0",
          "state": {
            "_model_module": "@jupyter-widgets/base",
            "_model_module_version": "1.2.0",
            "_model_name": "LayoutModel",
            "_view_count": null,
            "_view_module": "@jupyter-widgets/base",
            "_view_module_version": "1.2.0",
            "_view_name": "LayoutView",
            "align_content": null,
            "align_items": null,
            "align_self": null,
            "border": null,
            "bottom": null,
            "display": null,
            "flex": null,
            "flex_flow": null,
            "grid_area": null,
            "grid_auto_columns": null,
            "grid_auto_flow": null,
            "grid_auto_rows": null,
            "grid_column": null,
            "grid_gap": null,
            "grid_row": null,
            "grid_template_areas": null,
            "grid_template_columns": null,
            "grid_template_rows": null,
            "height": null,
            "justify_content": null,
            "justify_items": null,
            "left": null,
            "margin": null,
            "max_height": null,
            "max_width": null,
            "min_height": null,
            "min_width": null,
            "object_fit": null,
            "object_position": null,
            "order": null,
            "overflow": null,
            "overflow_x": null,
            "overflow_y": null,
            "padding": null,
            "right": null,
            "top": null,
            "visibility": null,
            "width": null
          }
        },
        "f0bcd7c69c684125af9d2bb0c00b04ba": {
          "model_module": "@jupyter-widgets/base",
          "model_name": "LayoutModel",
          "model_module_version": "1.2.0",
          "state": {
            "_model_module": "@jupyter-widgets/base",
            "_model_module_version": "1.2.0",
            "_model_name": "LayoutModel",
            "_view_count": null,
            "_view_module": "@jupyter-widgets/base",
            "_view_module_version": "1.2.0",
            "_view_name": "LayoutView",
            "align_content": null,
            "align_items": null,
            "align_self": null,
            "border": null,
            "bottom": null,
            "display": null,
            "flex": null,
            "flex_flow": null,
            "grid_area": null,
            "grid_auto_columns": null,
            "grid_auto_flow": null,
            "grid_auto_rows": null,
            "grid_column": null,
            "grid_gap": null,
            "grid_row": null,
            "grid_template_areas": null,
            "grid_template_columns": null,
            "grid_template_rows": null,
            "height": null,
            "justify_content": null,
            "justify_items": null,
            "left": null,
            "margin": null,
            "max_height": null,
            "max_width": null,
            "min_height": null,
            "min_width": null,
            "object_fit": null,
            "object_position": null,
            "order": null,
            "overflow": null,
            "overflow_x": null,
            "overflow_y": null,
            "padding": null,
            "right": null,
            "top": null,
            "visibility": null,
            "width": null
          }
        },
        "8d3904d2ff824ff5a454d2ec0a80cebf": {
          "model_module": "@jupyter-widgets/controls",
          "model_name": "TabModel",
          "model_module_version": "1.5.0",
          "state": {
            "_dom_classes": [],
            "_model_module": "@jupyter-widgets/controls",
            "_model_module_version": "1.5.0",
            "_model_name": "TabModel",
            "_titles": {
              "0": "Youtube",
              "1": "Bilibili"
            },
            "_view_count": null,
            "_view_module": "@jupyter-widgets/controls",
            "_view_module_version": "1.5.0",
            "_view_name": "TabView",
            "box_style": "",
            "children": [
              "IPY_MODEL_037fd1f271354c9cb2f39427a0ac18b4",
              "IPY_MODEL_fdccf17ed0b441f6a36455002a008999"
            ],
            "layout": "IPY_MODEL_5fc6ed71cfd8471bbfbaf6b65e8f4843",
            "selected_index": 0
          }
        },
        "037fd1f271354c9cb2f39427a0ac18b4": {
          "model_module": "@jupyter-widgets/output",
          "model_name": "OutputModel",
          "model_module_version": "1.0.0",
          "state": {
            "_dom_classes": [],
            "_model_module": "@jupyter-widgets/output",
            "_model_module_version": "1.0.0",
            "_model_name": "OutputModel",
            "_view_count": null,
            "_view_module": "@jupyter-widgets/output",
            "_view_module_version": "1.0.0",
            "_view_name": "OutputView",
            "layout": "IPY_MODEL_d3c2d87a718e46f1b9cc7e4b9125a350",
            "msg_id": "",
            "outputs": [
              {
                "output_type": "stream",
                "name": "stdout",
                "text": [
                  "Video available at https://youtube.com/watch?v=f9lZq0WQJFg\n"
                ]
              },
              {
                "output_type": "display_data",
                "data": {
                  "text/plain": "<IPython.lib.display.YouTubeVideo at 0x7f28b3de7d90>",
                  "text/html": "\n        <iframe\n            width=\"854\"\n            height=\"480\"\n            src=\"https://www.youtube.com/embed/f9lZq0WQJFg?fs=1&rel=0\"\n            frameborder=\"0\"\n            allowfullscreen\n        ></iframe>\n        ",
                  "image/jpeg": "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\n"
                },
                "metadata": {}
              }
            ]
          }
        },
        "fdccf17ed0b441f6a36455002a008999": {
          "model_module": "@jupyter-widgets/output",
          "model_name": "OutputModel",
          "model_module_version": "1.0.0",
          "state": {
            "_dom_classes": [],
            "_model_module": "@jupyter-widgets/output",
            "_model_module_version": "1.0.0",
            "_model_name": "OutputModel",
            "_view_count": null,
            "_view_module": "@jupyter-widgets/output",
            "_view_module_version": "1.0.0",
            "_view_name": "OutputView",
            "layout": "IPY_MODEL_4687e8b9d5bf431abed83d0805aeaa7f",
            "msg_id": "",
            "outputs": [
              {
                "output_type": "stream",
                "name": "stdout",
                "text": [
                  "Video available at https://www.bilibili.com/video/BV1pg411j7f7\n"
                ]
              },
              {
                "output_type": "display_data",
                "data": {
                  "text/plain": "<__main__.BiliVideo at 0x7f28b3de7fd0>",
                  "text/html": "\n        <iframe\n            width=\"854\"\n            height=\"480\"\n            src=\"https://player.bilibili.com/player.html?bvid=BV1pg411j7f7&page=1?fs=1\"\n            frameborder=\"0\"\n            allowfullscreen\n        ></iframe>\n        "
                },
                "metadata": {}
              }
            ]
          }
        },
        "5fc6ed71cfd8471bbfbaf6b65e8f4843": {
          "model_module": "@jupyter-widgets/base",
          "model_name": "LayoutModel",
          "model_module_version": "1.2.0",
          "state": {
            "_model_module": "@jupyter-widgets/base",
            "_model_module_version": "1.2.0",
            "_model_name": "LayoutModel",
            "_view_count": null,
            "_view_module": "@jupyter-widgets/base",
            "_view_module_version": "1.2.0",
            "_view_name": "LayoutView",
            "align_content": null,
            "align_items": null,
            "align_self": null,
            "border": null,
            "bottom": null,
            "display": null,
            "flex": null,
            "flex_flow": null,
            "grid_area": null,
            "grid_auto_columns": null,
            "grid_auto_flow": null,
            "grid_auto_rows": null,
            "grid_column": null,
            "grid_gap": null,
            "grid_row": null,
            "grid_template_areas": null,
            "grid_template_columns": null,
            "grid_template_rows": null,
            "height": null,
            "justify_content": null,
            "justify_items": null,
            "left": null,
            "margin": null,
            "max_height": null,
            "max_width": null,
            "min_height": null,
            "min_width": null,
            "object_fit": null,
            "object_position": null,
            "order": null,
            "overflow": null,
            "overflow_x": null,
            "overflow_y": null,
            "padding": null,
            "right": null,
            "top": null,
            "visibility": null,
            "width": null
          }
        },
        "d3c2d87a718e46f1b9cc7e4b9125a350": {
          "model_module": "@jupyter-widgets/base",
          "model_name": "LayoutModel",
          "model_module_version": "1.2.0",
          "state": {
            "_model_module": "@jupyter-widgets/base",
            "_model_module_version": "1.2.0",
            "_model_name": "LayoutModel",
            "_view_count": null,
            "_view_module": "@jupyter-widgets/base",
            "_view_module_version": "1.2.0",
            "_view_name": "LayoutView",
            "align_content": null,
            "align_items": null,
            "align_self": null,
            "border": null,
            "bottom": null,
            "display": null,
            "flex": null,
            "flex_flow": null,
            "grid_area": null,
            "grid_auto_columns": null,
            "grid_auto_flow": null,
            "grid_auto_rows": null,
            "grid_column": null,
            "grid_gap": null,
            "grid_row": null,
            "grid_template_areas": null,
            "grid_template_columns": null,
            "grid_template_rows": null,
            "height": null,
            "justify_content": null,
            "justify_items": null,
            "left": null,
            "margin": null,
            "max_height": null,
            "max_width": null,
            "min_height": null,
            "min_width": null,
            "object_fit": null,
            "object_position": null,
            "order": null,
            "overflow": null,
            "overflow_x": null,
            "overflow_y": null,
            "padding": null,
            "right": null,
            "top": null,
            "visibility": null,
            "width": null
          }
        },
        "4687e8b9d5bf431abed83d0805aeaa7f": {
          "model_module": "@jupyter-widgets/base",
          "model_name": "LayoutModel",
          "model_module_version": "1.2.0",
          "state": {
            "_model_module": "@jupyter-widgets/base",
            "_model_module_version": "1.2.0",
            "_model_name": "LayoutModel",
            "_view_count": null,
            "_view_module": "@jupyter-widgets/base",
            "_view_module_version": "1.2.0",
            "_view_name": "LayoutView",
            "align_content": null,
            "align_items": null,
            "align_self": null,
            "border": null,
            "bottom": null,
            "display": null,
            "flex": null,
            "flex_flow": null,
            "grid_area": null,
            "grid_auto_columns": null,
            "grid_auto_flow": null,
            "grid_auto_rows": null,
            "grid_column": null,
            "grid_gap": null,
            "grid_row": null,
            "grid_template_areas": null,
            "grid_template_columns": null,
            "grid_template_rows": null,
            "height": null,
            "justify_content": null,
            "justify_items": null,
            "left": null,
            "margin": null,
            "max_height": null,
            "max_width": null,
            "min_height": null,
            "min_width": null,
            "object_fit": null,
            "object_position": null,
            "order": null,
            "overflow": null,
            "overflow_x": null,
            "overflow_y": null,
            "padding": null,
            "right": null,
            "top": null,
            "visibility": null,
            "width": null
          }
        },
        "864a83496b4045bca6c4a067f0115b1a": {
          "model_module": "@jupyter-widgets/controls",
          "model_name": "TabModel",
          "model_module_version": "1.5.0",
          "state": {
            "_dom_classes": [],
            "_model_module": "@jupyter-widgets/controls",
            "_model_module_version": "1.5.0",
            "_model_name": "TabModel",
            "_titles": {
              "0": "Youtube",
              "1": "Bilibili"
            },
            "_view_count": null,
            "_view_module": "@jupyter-widgets/controls",
            "_view_module_version": "1.5.0",
            "_view_name": "TabView",
            "box_style": "",
            "children": [
              "IPY_MODEL_2cdfd73414914d42b6c106f5f059cc2c",
              "IPY_MODEL_5276e2a05f37428ca3186a68c34a1da5"
            ],
            "layout": "IPY_MODEL_f6caa706f2b84eb99b39f455cbba189a",
            "selected_index": 0
          }
        },
        "2cdfd73414914d42b6c106f5f059cc2c": {
          "model_module": "@jupyter-widgets/output",
          "model_name": "OutputModel",
          "model_module_version": "1.0.0",
          "state": {
            "_dom_classes": [],
            "_model_module": "@jupyter-widgets/output",
            "_model_module_version": "1.0.0",
            "_model_name": "OutputModel",
            "_view_count": null,
            "_view_module": "@jupyter-widgets/output",
            "_view_module_version": "1.0.0",
            "_view_name": "OutputView",
            "layout": "IPY_MODEL_ccb12e70f950440db9fef4fd2d420c95",
            "msg_id": "",
            "outputs": [
              {
                "output_type": "stream",
                "name": "stdout",
                "text": [
                  "Video available at https://youtube.com/watch?v=tvmzVHPBKKs\n"
                ]
              },
              {
                "output_type": "display_data",
                "data": {
                  "text/plain": "<IPython.lib.display.YouTubeVideo at 0x7f289f720050>",
                  "text/html": "\n        <iframe\n            width=\"854\"\n            height=\"480\"\n            src=\"https://www.youtube.com/embed/tvmzVHPBKKs?fs=1&rel=0\"\n            frameborder=\"0\"\n            allowfullscreen\n        ></iframe>\n        ",
                  "image/jpeg": "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\n"
                },
                "metadata": {}
              }
            ]
          }
        },
        "5276e2a05f37428ca3186a68c34a1da5": {
          "model_module": "@jupyter-widgets/output",
          "model_name": "OutputModel",
          "model_module_version": "1.0.0",
          "state": {
            "_dom_classes": [],
            "_model_module": "@jupyter-widgets/output",
            "_model_module_version": "1.0.0",
            "_model_name": "OutputModel",
            "_view_count": null,
            "_view_module": "@jupyter-widgets/output",
            "_view_module_version": "1.0.0",
            "_view_name": "OutputView",
            "layout": "IPY_MODEL_204224f87c244963981c22bbc311fa9d",
            "msg_id": "",
            "outputs": [
              {
                "output_type": "stream",
                "name": "stdout",
                "text": [
                  "Video available at https://www.bilibili.com/video/BV1Ug411j7ig\n"
                ]
              },
              {
                "output_type": "display_data",
                "data": {
                  "text/plain": "<__main__.BiliVideo at 0x7f28b3dc7fd0>",
                  "text/html": "\n        <iframe\n            width=\"854\"\n            height=\"480\"\n            src=\"https://player.bilibili.com/player.html?bvid=BV1Ug411j7ig&page=1?fs=1\"\n            frameborder=\"0\"\n            allowfullscreen\n        ></iframe>\n        "
                },
                "metadata": {}
              }
            ]
          }
        },
        "f6caa706f2b84eb99b39f455cbba189a": {
          "model_module": "@jupyter-widgets/base",
          "model_name": "LayoutModel",
          "model_module_version": "1.2.0",
          "state": {
            "_model_module": "@jupyter-widgets/base",
            "_model_module_version": "1.2.0",
            "_model_name": "LayoutModel",
            "_view_count": null,
            "_view_module": "@jupyter-widgets/base",
            "_view_module_version": "1.2.0",
            "_view_name": "LayoutView",
            "align_content": null,
            "align_items": null,
            "align_self": null,
            "border": null,
            "bottom": null,
            "display": null,
            "flex": null,
            "flex_flow": null,
            "grid_area": null,
            "grid_auto_columns": null,
            "grid_auto_flow": null,
            "grid_auto_rows": null,
            "grid_column": null,
            "grid_gap": null,
            "grid_row": null,
            "grid_template_areas": null,
            "grid_template_columns": null,
            "grid_template_rows": null,
            "height": null,
            "justify_content": null,
            "justify_items": null,
            "left": null,
            "margin": null,
            "max_height": null,
            "max_width": null,
            "min_height": null,
            "min_width": null,
            "object_fit": null,
            "object_position": null,
            "order": null,
            "overflow": null,
            "overflow_x": null,
            "overflow_y": null,
            "padding": null,
            "right": null,
            "top": null,
            "visibility": null,
            "width": null
          }
        },
        "ccb12e70f950440db9fef4fd2d420c95": {
          "model_module": "@jupyter-widgets/base",
          "model_name": "LayoutModel",
          "model_module_version": "1.2.0",
          "state": {
            "_model_module": "@jupyter-widgets/base",
            "_model_module_version": "1.2.0",
            "_model_name": "LayoutModel",
            "_view_count": null,
            "_view_module": "@jupyter-widgets/base",
            "_view_module_version": "1.2.0",
            "_view_name": "LayoutView",
            "align_content": null,
            "align_items": null,
            "align_self": null,
            "border": null,
            "bottom": null,
            "display": null,
            "flex": null,
            "flex_flow": null,
            "grid_area": null,
            "grid_auto_columns": null,
            "grid_auto_flow": null,
            "grid_auto_rows": null,
            "grid_column": null,
            "grid_gap": null,
            "grid_row": null,
            "grid_template_areas": null,
            "grid_template_columns": null,
            "grid_template_rows": null,
            "height": null,
            "justify_content": null,
            "justify_items": null,
            "left": null,
            "margin": null,
            "max_height": null,
            "max_width": null,
            "min_height": null,
            "min_width": null,
            "object_fit": null,
            "object_position": null,
            "order": null,
            "overflow": null,
            "overflow_x": null,
            "overflow_y": null,
            "padding": null,
            "right": null,
            "top": null,
            "visibility": null,
            "width": null
          }
        },
        "204224f87c244963981c22bbc311fa9d": {
          "model_module": "@jupyter-widgets/base",
          "model_name": "LayoutModel",
          "model_module_version": "1.2.0",
          "state": {
            "_model_module": "@jupyter-widgets/base",
            "_model_module_version": "1.2.0",
            "_model_name": "LayoutModel",
            "_view_count": null,
            "_view_module": "@jupyter-widgets/base",
            "_view_module_version": "1.2.0",
            "_view_name": "LayoutView",
            "align_content": null,
            "align_items": null,
            "align_self": null,
            "border": null,
            "bottom": null,
            "display": null,
            "flex": null,
            "flex_flow": null,
            "grid_area": null,
            "grid_auto_columns": null,
            "grid_auto_flow": null,
            "grid_auto_rows": null,
            "grid_column": null,
            "grid_gap": null,
            "grid_row": null,
            "grid_template_areas": null,
            "grid_template_columns": null,
            "grid_template_rows": null,
            "height": null,
            "justify_content": null,
            "justify_items": null,
            "left": null,
            "margin": null,
            "max_height": null,
            "max_width": null,
            "min_height": null,
            "min_width": null,
            "object_fit": null,
            "object_position": null,
            "order": null,
            "overflow": null,
            "overflow_x": null,
            "overflow_y": null,
            "padding": null,
            "right": null,
            "top": null,
            "visibility": null,
            "width": null
          }
        },
        "5b9b4498558745f5a251f04f92332532": {
          "model_module": "@jupyter-widgets/controls",
          "model_name": "TabModel",
          "model_module_version": "1.5.0",
          "state": {
            "_dom_classes": [],
            "_model_module": "@jupyter-widgets/controls",
            "_model_module_version": "1.5.0",
            "_model_name": "TabModel",
            "_titles": {
              "0": "Youtube",
              "1": "Bilibili"
            },
            "_view_count": null,
            "_view_module": "@jupyter-widgets/controls",
            "_view_module_version": "1.5.0",
            "_view_name": "TabView",
            "box_style": "",
            "children": [
              "IPY_MODEL_1313231c67b64ed2bc184c2d607cc128",
              "IPY_MODEL_15bb4a0610fa4fbba7dd5c1d49a97656"
            ],
            "layout": "IPY_MODEL_6cb16e5ba66b46579c0cf4f49c0438e6",
            "selected_index": 0
          }
        },
        "1313231c67b64ed2bc184c2d607cc128": {
          "model_module": "@jupyter-widgets/output",
          "model_name": "OutputModel",
          "model_module_version": "1.0.0",
          "state": {
            "_dom_classes": [],
            "_model_module": "@jupyter-widgets/output",
            "_model_module_version": "1.0.0",
            "_model_name": "OutputModel",
            "_view_count": null,
            "_view_module": "@jupyter-widgets/output",
            "_view_module_version": "1.0.0",
            "_view_name": "OutputView",
            "layout": "IPY_MODEL_3b8d78f089404f53b26a6390dacdb5bd",
            "msg_id": "",
            "outputs": [
              {
                "output_type": "stream",
                "name": "stdout",
                "text": [
                  "Video available at https://youtube.com/watch?v=vj9gKNJ19D8\n"
                ]
              },
              {
                "output_type": "display_data",
                "data": {
                  "text/plain": "<IPython.lib.display.YouTubeVideo at 0x7f288d124cd0>",
                  "text/html": "\n        <iframe\n            width=\"854\"\n            height=\"480\"\n            src=\"https://www.youtube.com/embed/vj9gKNJ19D8?fs=1&rel=0\"\n            frameborder=\"0\"\n            allowfullscreen\n        ></iframe>\n        ",
                  "image/jpeg": "/9j/4AAQSkZJRgABAQAAAQABAAD/2wCEABALDBoYFhsaGRoeHRwfIy0mIiIiIzEvJyktNS83MC4yMi00QlBFNThLOTEvSGFFS1NWW11bNkFlbWVYbFBZW1cBERISGBYZLxobLVc3NzZXV1dXV1dXV1dXV1dXV1tXV1dXV1ddV1djV15XV1dXV1dXV1ddV1dXV1dXV1dXV1dkV//AABEIAWgB4AMBIgACEQEDEQH/xAAbAAEAAQUBAAAAAAAAAAAAAAAAAwIEBQYHAf/EAEoQAAIBAgMDCQYEAgcFCAMAAAABAgMRBBIhBRMxFyJBUVNhcZLSFDKBkaHRBiNSk0KxFRZicsHh8DM0c7KzJEN0goOiw/E2VGP/xAAYAQEBAQEBAAAAAAAAAAAAAAAAAQIDBP/EAB4RAQEBAQADAQEBAQAAAAAAAAABEQIDITFBIlES/9oADAMBAAIRAxEAPwDn4AAAAAAAAAAAAAAAAAAAAAAAAAAAAAAAAAAAAAAAAAAAAAAAAAAAAAAAAAAAAAAAAAAAAAAAAAAAAAAAAAAAAAAAAAAAAAAAAAAAAAAAAAAAAAAAAAAAAAAAAAAAAAAAAAAAAAAAAAAAAAAAAAAAAAAAAAAAAAAAANv5Ocb2uH80/QOTnG9rh/NP0AagDb+TjG9rh/NP0Dk4xva4fzT9AGoA2/k4xva4fzT9A5OMb2uH80/QBqANv5OMb2uH80/QOTjG9rh/NP0AagDb+TjG9rh/NP0Dk4xva4fzT9AGoA2/k4xva4fzT9A5OMb2uH80/QBqANv5OMb2uH80/QOTjG9rh/NP0AagDb+TjG9rh/NP0Dk4xva4fzT9AGoA2/k4xva4fzT9A5OMb2uH80/QBqANv5OMb2uH80/QOTjG9rh/NP0AagDb+TjG9rh/NP0Dk4xva4fzT9AGoA2/k4xva4fzT9A5OMb2uH80/QBqANv5OMb2uH80/QOTjG9rh/NP0AagDb+TjG9rh/NP0Dk4xva4fzT9AGoA2/k4xva4fzT9A5Ocb2uH80/QBqAJo4aTSd1qe+yy60BACf2WXWh7LLrQEAJ/ZZdaHssutAQAn9ll1oeyy60BACf2WXWh7LLrQEAJ/ZZdaHssutAQAn9ll1oeyy60BACZ4WXWjPU/wTipU94qlG1k/elfX/yhLZGtg2SP4JxTV95R80vSVf1HxXaUPNL0k1Wsg2f+omL7Sh5pekq/qFi+0oeaXpGwasDaf6hYvtKHml6Sl/gXF9pQ80vSNg1gGy/1JxXaUfNL0lL/AAViV/HR80vSNg1wGXr/AIenTlllXoJ/3pekmh+FK8ldVKLXWpS9JRggZ5/hLEfrpfOXpPP6p4j9dL5y9JNgwQM7/VPEfrpfOXpH9VMR+ul85ekbB2EA9KAAAAAAAAAAAAAAAAAAAAAAAAAAAAAAAAAAAHh6eAcRp+7HwRUU0vdj4IqDIAAAAAAAAAAAAAAADyXBnTsHJeytP9Ct8kcxfA6Vs6rGFNVKjShCCevXZf6+JZXPyXImTyUXK97cbrgVwlcwM9qxqVJZ2kpyur8OGnHp0K6G2KdTPCFTJJcG1f4pdJjv8a8fr7frZKcblzCkatsjEbvEVKmIqqU2ssVmSVtHdRuzZqWPoyV95FW43aVvmc7LrrqV0S3q0j17Wwv/AOxS86I5bYwr0WIpSfQlNNkvNhq3nGxjNq7QjQj1yfBGQrV7mo7aq55Xvq2/glokdeOd+s9Vjq1R1G5TWl2inBbTnRulbLfgyDEZn12XcWTk2dLiTW77P2jCvG8dJLiuouWzUdhzkq8EnZu68V1G2nKtvU9V4h8SOo7IqjIyrdAAdWQAAAAAAAAAAAAAAAAAAAAAAAAAAAAAAAAAADw9PAOI0vdj4IqKaXux8EVBkAAAAAAAAAAAAAAAB4+ButXZrr0k4TtpG6bduGj0NKfA33Czy05cItwSs/dldfRmufbn5PjT6+GlG146yjfvRThm2rpuOmrTtfr6Tacfi6eFgqThvKk45czfWrK9+BpbUkrdWj7v9WZjqSJOrZ8ZHalFTmlF2cfdqZnafDSL6++5KsHKlSqym4puDsk7t97ZjMLQm6kZKKm1dqN3rZN2Mv8AhrBw2lUnGqlTcIpqVO6fV03VyXr9dZN9MVhquqKKE08RT/4kf+Y6jtaqqOE3KzVKk45IWV5Saj028Cy2ZN1o1o1su9pVMt4qytZf5mb5Y1OP1TN3T1t3mrUtn1ZYlwmrrM9U/wDVjaq0XDouT06EKazwV21xb4nTm+ixHu4QgoqKSS4WLOrgaMnd0438CPGY2UG22v7tuPxKZ45RjFyTTlwRnp34kQPZ9KNaMoxSaT/w1LyTJtnYCeInndoxtbTV8TL1Nh0XFxcp3txUrP4GYx3f69NN2nibONqllq2o8XboLrZ85ulBz962viWG3NjU8O4KlOXG6zSb8S72fjozkoZZO/SujxJsYdCAB1QAAAAAAAAAAAAAAAAAAAAAAAAAAAAAAAAAAA8PTwDiNL3Y+CKiml7sfBFQZAAAAAAAAAAAAAAAAeM6DsmpCosr50ZU0mvhqc/ZuWATpUo5W05LR62V2a5+uXl+MdWjRVSo8Q3ZT0ceLa/yRjNv4fI4VKbtGeijfjZcV8y723CVScIUoKN5PTVX8bltV2fKLhm60murqsydemed2MLSryg1OM2pRatxv4m8/hfGU1FunQ3Smk3LNfNJaPwXUvE1h7EnJtOrTUY8G3bv+xlNnypUKcKcKkZyb1cbON78e+3ec+psx6Z6bFtHFN18L/en/wAjLfZeJTxOLtwcoSXlszGzxNR1KNWUlKklJp2tLhltbp6yzltRRm500oucdPhwJz4rZpfJlxs20ceqVNzacrdC4suMHUcqEJOLg5K+V8Vc0WttCc1GUpPV6m7066nQpzjqsiXyR1nH/MOetqOs43V1fr7kR4mdKbi1ZpLpXAtcRSck5qbv0JWt8jBbVxe4hKEX+ZPR24JPp8TFeiXPaxxW3q8qk8lapGnmeWMZNK3wJMP+IK1C06c2p8LvXTpWpiEk+7wJFhla7ba7jePPayWL/ElaqlmSbXB2/wABT/EUs0ZSheS00dl8jFTyLgm/FkTJeYa78AAAAAAAAAAAAAAAAAAAAAAAAAAAAAAAAAAAAAHh6eAcRpe7HwRUU0vdj4IqDIAAAAAAAAAAAAAAADyXBm/Ymm3Gk1O1OEY2il3K7v13uaDLgbtjNo06NGKnO8ssdOnhob5n1z8n5GM2zVnCpCpC7u9bK7V7aspx+NjNwpSlpFXelm3xUb9DLHae060Y3p5Y9TSvK3j0ENLEZpOE4K0bNyd7vhe/iTq58S8/qSvjZVlSgoR/MlaMXxtwzX/10me2v7Pg8PTyxTqNZYdWi4vrX8y3qQpSnvo5YQj/AApKKl/iRbXlnUKkoR50oxpu93l0b8HqzUv3/XK+7Ix+08RJwim+da78TE575O5FxtGq3JsgpR/mWu8+LiatCEV1ts2X8K1pVadbDu9oxzqS+Vv5GsTfA2v8GUG6OIktG3GN/BNsl+NcT+mG2vtDdN0otupF68Ul9zCYiUpJOTbcm5P+S/kbH+IsCt5Go9E1acvD/IwNbnO9rLgl1LoM8zZrp3cuLSKLulMjyHkXqaxz1RXw7z2im76qxLh9nTk1mWVfUzex6SqNp9CuZf2NLqRixrXQAARQAAAAAAAAAAAAAAAAAAAAAAAAAAAAAAAAAADw9PAOI0vdj4IqKaXux8EVBkAAAAAAAAAAAAAAAAHTfp6wAKoza4Nq/Uz2dWUvelJ+LbKAUVSqSdryk7cLt6DeSta7te9r9JSAD146hAACWniqkVljUqRj1Rm0vkmRAKrnWnJWlOTXU5NlAAA8suo9ARVCpKPuycfBtfyPZVpvjOT8ZNlAA7aACNAAAAAAAAAPGa3jaeLpV8LSWOm1WlKLe6p3WWDl1dwGygssFPJLcVK7rVcue7ik8t7L3VbiR7Q2vClTxDi7zorVZZNKTjmje3Rw16AMiDHYbbFKWFWIqSyRSWZyi4rM0tEnq9XpbiVYPbFGtPdxcoztdRqQlCTXWlJK68AL49LGO16Equ5jO9TM4uKi3ZrjfTRd70IsLtOEcKq1atGacpRzRg1d5nFRUdW3pbvsBkzws8DtWjXlKEHJTiruE4ShKz6bSSdu8j2DiZ1sNGdR5pOU1eyWim0uHcgMgDG7c2juKTUFPezWWm1CUlmbsr2Vu+3TYj2TtJ161Zc/JG0YZqbim4rnttpWeZ2t/ZAywNc2jtatLEUtxJRoRxEKM3ZPeSk+ck3wUVpddLfUbIAAAAAAAAAPD08A4jS92Pgioppe7HwRUGQBsz8dgU1alKWIlX3anLdUs0KeZXipLi/gBgAX62NXdHe2j7jqZM63mRcZKHGxPhdhTlKjmlB06lSEJOnNSlHNwuujpAxIJ8ZhXS1vFqTnls03aMnHVdHAmxOAaxNShTd8jfOk0kklduT6EkBZAu1s+Tko56VnHNGefmSV7OztrZ30toVrZNW9nkT3m6Sc1dy00XWucnfqAsQT4nCSpRjJyhKMr2cJXV1a6ffqi6xWyZRb3cozS3fNUlnTmla8fF2+QGOBez2XUSbTpzSzXcJqVnFZnHxtd99mUVtn1YJuSSShGb16Ju0fjx07mBagvlsyThRlGcHvIyk1e2RRbTcn1afPQhng5RqQg5QtOzjNSvBpu17+KfyAtwXuJ2bKm6n5lNxhUdNSzpZmrXsn3NX6tT2ezJwzOTTSpymnB3XNaTTvbrXzQFiC7xezp0VJydN5Z5JKMruMtXZ/J/IphgZypOqnBpJtxzc6ydm7f6dgq2BdYbZ86sVJSpxTnkjnnlvKydl80VR2XVa/hUnmapuVpyy3zWj8H8nYCzBkZbLbUN3eTlu+LSXPpbx3fdr8EW88DJRzRlTqLNGP5cs2sr5fnZgWwK61JwnKDteLadndXWj1KAAAAAADtoACgAAAAAAABhdsf77s7/iVP+lIzRS0roDC4nFU6G01KrONOM8PaMpOybU7tXfTYtadaNb+lpU3mjKCytLj+TbTrRsk6cZe9FPxVxZLoA1mtiac8NgK0ZqpRoTg62XXL+XZNpfpbT7i5x2LpYnFYOOHnGrOnU3kpQd1CGVp3a4XulYzkKcYq0YpLqSFOnGOkYqPgrAYvYKWbGPp9pnf5IxOExcqWAwyjPdQniKkalWyeRbyprroruyu+s2xKx44K1rK3VbQDX8NJPalJKvv0sPU1eW658NHKNk/8PiXn4X/ANzj/fqf9SRlI04xtZJW4WR6lbhoBru2sRWVe6dLJhoOvZqV7tOEE7PVu87eBd4TA4mGBlSVSEK0k3GaT0lLWTfW7tmWyrqR6BqG0sLiaFLB074dQjiKahlU/evo5NvXXj0m20s2WOe2ayzW4X6bdxU0nxAHoAAAAAAAB4engHEaXurwRUU0vdXgioMhmsP+JJwySdGnKtCOWNVuSdlwzRTtK3eYUuqmzq0Y5nDTmuylFytK2V5U72d10AXa25NU0t1Deqk6Kra5lTfRl4X7y5qfimpJp7qOk4VPfk1eHBJPSKfUiwobIqyqRpvJHM3FvPFqMkruLs9JacPsy3lgqqUpOGkYRnJpppRlondcfgFeYquqiVqcYS5zlJXvJyk3d36r2L2W2PznWhRUKkr52qkucpK0kv0+K4EC2VXu1k1Tas5RTbSu1FX5zXcKWzpuDnLmrdSqw1Tckrfw3ul3hEq2tK89JuM4qNnWm5KzvdTeviuAq7YnKrGo4RvGs6trvi8unhzUWrwdTebrL+Za+W6vwvbxt0cSqngpuk6tnldsvCzvLJ16a9wEdSu5Uo07K0ZSlfp51vSXK2pNTnOKSlPdPwdPK4v/ANqLfEYWdJJzSs72cZRktOKvFvVEk9n1U1FxWZ/w54uS5ubVXuuar6gTLaeVw3dKMIqpvJRzN5nZq2vCNnJW72UYraU6tN05Ja1HUbXHW9o+CcpfMjo4CrOKlGKyuLldyillUsrbbemp7/RtbNKLillsm5Tioty1jaTdndcLAV0No5IQg6akoxnB3b50JvM1pwd9U11IixGKzuGWKhGmrQim3bVyd2+LbbZUtm1mr5OmSs5RTbhfOlFu7tZijs+pOGaMW3LLkStzs0nHr01T+QEs9qN1IzjTjHLWda121meW616Ob9T2rtaUo5VHTJOHOm5PnuLer6sv1LdYKbk0sjSWZy3kMiV7Xc72Wulr3JKOy60p5XFRtNQblKK1etld85210v8AUCnE451N7eKW9q7126HztPDnP5Ey2rLc7rL/AN26V87y2ve+Thm7yFYP8zEQzf7GM3e3HLJR+tzyps+rG14r3lFpSi3GT4KST5vxsBNhcbTp0IxlTVSUazqJNtJc2CXDjrF6Hq2tK6nKEZVo5stS7Vszb1jwdnKVvEiWza2ayjF81zupwccqeVvNe2j0ep49nVVDO4rLaMtJRbyytaWW97ar5gSw2rKKilCNo5NHfVRpOlZ+MWyTA4+nSlUnGCgslo07ym5TveMsz4ZZJP4dNyGWyq15ZY3Sc0ryipSyNqVo3u2rPhcjez6qhvMqyqKm+dHMou1pON7pO66ALYE0KN6U6jdsrjGPe3dv5JP6EIAAAAAFdtAAVj9o1cVF3oQoygo3eeck79ySfQWuyNpYqvTpV6lOhToTjmuqksyTWmjVvqZXEf7Of91/yNYn/wDji/8ADr/ADaVVjzudHm+9qtPHqKaGJp1E3TnCaXHLJO3yMTtWjSoUadGnQpydarGCjLSLlq803xlwfHiW9GhKltPD3hSg50aqk6ScVJJwtePdfrfEDM4TEylDNVjGm88opZ1JO0mo6rpfUS08TTnJxjUhKUeKUk2vFdBqkoKWz4RfB4+z8HiWZTGYSlSxuBdKnGDcqkHlSV45G7O3egM2RUsVSnJxhUhKS4qMk2vFIt9tYmNHC1qk4Z4qDvG9r30tfo48TC4rBzozwUpUsPBqvGKdFOLinF3j/aT/AMOAGzt21IfaqWZR3kM0leKzK7XcukY7/Y1f7kv5M17D7Pwr2PGcoQX/AGdSdTTMpKPHNxumvpYDZalWME5TkoxXFt2XzKYVozjmhKMo9Di7r5o17Dp18Tgo4pX/AOy7yMJe66t1mbXS0rfNlxTpwpbSlCilGM8O5VYx0ipKSUJW6G05eNgLrAbTqVqGEqqnH8/3+elkVm9E/e1S0L6tiadO28qQhfhmklfwuaxs7/dti/3v/imX2x8LTrVMXOvCNStvpQamk8sF7kUnwTjr33YGdjNN2TV0r2vrYZ1fLdZrXtfW3XYweMpU8JVwuIpJRpL8idnooSfMd+pS/wCZk2wlvZVsY/8Av5Wp/wDChpH5u8viBlpVIri0unV9XEooYiFRXpzjNcLxkmvoYnauHhVx+DjUipRy1nZ8HpHiukh3e5x2L3EFFvCxmoxVk5pzSdl08AM28VTU926kM/6MyzfLiW+J2pTp16VCTWaopO91aOW3Hxvp4GAwGCnWwMbYfDyVSGZ1XWe8zcXNvJpJPv0sXdbBp4vZ6rwpzqulU3jypqUoxhrrx1vbxA2BVItNpppXu78LcTx1YqObMsvXfTXhqa1ipOjVxOEjo8VOEqf/AKmla3goyl8SmEVKVHZ17qliHKS//jD8yn8OdCPwYGyV8TTp23lSEL8M0kr/ADK5TSV20l1t6a8DCbLw1OvXxs68Y1Ksazhaavlp5U4JJ8E7t99zFVor2HFUotuhDGQhSs3pHPTuovqUnJLqA2THbR3c6EYZZbytupa+7zZS6OnRfMvXUimotq74K+r+BgNvUlh1glQorTEq0I2V3u5rV/zZJ+HkpTrTra4xSy1U/wCCPGKh/Ya1T6ekDOA9PAOI0vdj4IqKaXurwRUEC/W02pznGNpSjSS14OnkafffJ9SwLvFbNq0o53FunljLP0WlFNacbXdr8LoC7ntn8yE1GdlNzlBzVtU1aNo6WzOzdyPDbW3caUN3mhTlK6ctZwebLBu3Rnl8yKlsqs6lOE4ShvHlTa4O17NdD7nqRvZ9ZSjF02pSjmSbVrLi73toBcU9qK8J1KbnUpzlOm1KyvKWfnK2qUtdGuo8o7WnTqRqRVpxobpPR2d75rNfQtp4OrGSjKnJScsiVuMtNPHVfNEn9G1XJRhByeRSelkr6LV6cfmBRUxX5yrU47uV1Oyd0pcW13N62Lqe1lnm40oqD3ahTveMY05KWXvTd/mWfslTNGOSWaUnBK2rkrXVuvVfMqjgKzUGqbtNXi9EmrXvd9HeBNtDaG+hCNp82U5XnLM3mtpwWisTra6/K5kpZHrnmm8rg4OMZWulZ9N+CLKrgpwhKU+a4zjBxfHnRck79Vl9T2jgKs4xmoPJJpZujja9uLV+kC8pY+jupU3CSgqWSKz3lJuqpt5stk+PRbQ9htqycMko01kUFGSzJRWXVuLTuuOngWktm1vzHGEpRhKUXJLjldm0uL+HAp9grZFN05KDyvN3S4O3GzvxCJKm0puVGeuelOc7t3vmlms/5d5JPaicqloOMJOlkjGbWSNPglLr7+shlsytz2qcpRi5LNa18ralZPXS3DoKPYK273m7lktmv/Z67cbd4VfLbXOlzZWlBRlLNHeNqTkpOWWzetuHAje1Iyf5kJzUaiqQ59mtErSdtVaMeCXAxoAuoY1qpXmlrVU1/dzSUvjaxe1duOU1PLJ89TnByTg2tdFlvx11bsYgAZGvtTNDJacvy5QzTnmk804zu3ZcMtiP+kNXzeNGFLj+lx1+OX6lkAMjPat6sKmT3ZVpWvx3jb+lyaWJo7mpNuLrVKMKdoylxWRXccqUdIavM1ppxMQAJZ1b04QSsk3J98nZX+SS+ZEAEAAAAAHbQAGnkoppp8HoWz2fR3Hs+RbnLlya2t1F0AIMVhadaDhVipRdtH1rg0+h95FQ2XRpzjUjDnxTSnKTlKz4q7fcXgAtf6Oo5FDIsqnvEtffzZr+bUlqYeE5wnKN5U23B9Tas/oSgCirSjOMoTipRkrNNXTT4plnT2Nh45GoXyNOGaUnla4ZbvRdxfgCLFQcqU4ri4tL4oxOA/D1BUaO+pRdSMIZ1d5XJJauN7N6cbGbAFtjMDSrxUasFJJ3j0NPrTWqfgeYPZ9KhGSpQUczvJ6tyfe3qy6AFrDZ9GMaUYwSVF3prXm6NafBsjxeyMPWnnqU7ztZyTcW11OzV14l8AMPtjBznh/Y6FGKp1I5HO6UacbrhHi3bhbpMpRoxpwjCCtGKUUupLREgAinh4SqQqON5wTUX1X4/wAkFh4Ko6uX8xxUXL+yndL5tkoAx09hYWUpSdJc53lG7UJPrcL2fyJsbs2jXyb2GbJ7rTaa67NF2AIJ4OnKpCq4J1KaahLpSfELB01WdZQW9ccjl05b3sTgCxxmyaFeWepTvO1sybi2upuLV13Mlez6O6VHdxVONmoJWSs7rh3q5cgCKth4VHBzjdwlmj3Ss1f5NlLwlN1VWyreKOXN05ep9aJwB4D08A4jS91eCKiml7q8EVBkMm9pU05VIQnvZU40+c04JRUU3ZK79xaGMAGYltmO9VSMZJOpvJwtTSvaWilGKctZPVlrhMdGFOnBxd4QnFTWVuLlJSzRUtL2TX/mZYgKyr2ys9WWR6qLp6rmTjT3ebRa6Xduu3URvH050lRqQnkyU1eDWbNBSXTo01J+BjgBmI7Ypyqxq1Kc7wrOpFRkrNNQVpNrisi16bvgW1HHRU6bcXzKCpJqzcWr8+KenTw72WAAyGP2gqsXFRau6bu7fwU3Dguu9yl4ulJUpShPeUlGKs1kajK6b0unbS3xLEBGWW1abqRqyhPeU5TdO0llalKUlm0vo5Phx7iCGPim3ketCnS4/pcHf45PqWAAydTasZVoVMj5sq8rX7Vya+V/oT76juqlWUlvZ0I0ssZp3ayR9211pG7vou+5hQFVVMuZ5b5b6ZuNu+3SUgBAAAAAFAAEAAAAAAAAdtAAaAAAAAAA8A8jJO9mnbR9zPTE5pb2cYycc2Js2rXtuU+nwFGrUTpt1ZSvXnSadrOKzWvpx0WoGVUk+DT8D0w2HnadKcptfkzdlbW0lwVv9WI51pyhOLnJqeHnP3oyelrcErXvr0dQGdBiHWlmhTU5ZVSUlJSinJ3d9XxtZad+pPjHKWBm5tKW6u3Fqz06O5gX6krtXV1xXSemJqReas41ZJxowaatq1ns3oU1cVUlOfOccsIuNpRS1V3JqXFX0+AGYBZ4+vOFDMtJc1Nq3Nu0pO70062W2/qRhUee2XK4XlGUnLXmu3Q9O/VgZUGJWJnJUs1V03OpJTWnNtF8zVdy16ePSil4uppBTcob2UFUvFNpRTSzcOLav/Z6wMweSmla7Su7K74vqMZCpVk6cHUaTnNXTi5OKjezaVr3uvgR0aXO9/M44m9pNaaPw1dwMyAAB4egAAeAenh6eAcRpe6vBFRTS91eCKgyAAAAAoAAAACAACgACAACgAAAAIAAKAAAAAAACAACu2gAKAAAAAB4egCnKupcb/EZF1Ljfh09ZUAKN3HTmrThpw8BGlFcIpeCRWAI3QhZLJGy4KysitroPQBRGnFKyikrW0XQJUou14xduF0tPArAHjRTGlFKyjFJa6JcSsAQ1cNGcoya91t20s7px169GVulHLlyrL1W0+RWAKYwSskkrcLLgebuN75Vfje2unArAAAAAAAAAA8PTwDiNL3V4IqKaXurwRUEAAAAAAAAAAAAAAAAAAAAAAAAAAAAAAAAAAAAAHbQAFAAAAAAAAAAAAAAAAAAAAAAAAAAAAPAPQAAAAA8PTwDiNL3V4IqKaXurwRUGQAAAAFAAAAAAABAABQAAAAAAAAAAAAEAAFAAAAAR20ABoAAAAAAAAAAAAAAAAAAAAAAAAAAA8PQAAAAAADw9PAOI0vdXgioppe7HwRUGQAAAAAAAAAAAAAAAAAAAAAAAAAAAAAAAAAAAAB20Fjv59Y38+v6BpfAsd/P9X0Q38+v6AXwLHfz6/oN/Pr+gF8Cx38+v6Dfz6/oBfAsd/Pr+g38+v6AXwLHfz6/oN/Pr+gF8Cx38/1fRDfz/V9AL4Fjv5/q+iG/n+r6AXwLHfz/AFfQb+f6voBfAsd/P9X0G/n+r6AXwLHfz/V9Bv5/q+gF8Cx38/1fQb+f6voBfAsd/P8AV9Bv5/q+gF8Cx38/1fQb+f6voBfHhZb+f6voi2xG0pRkoKSzP9TSS6vFuz07mByam+avBFV0dAxVRU6lOHs1OWacYylChGKi1q9ZKzi7pXXDXW5lIYSk0s1CinbVbuLt8bBMcruhdHVvZKPY0f24/YeyUexo/tx+wMcpuhdHVvZKPY0f24/YeyUexo/tx+wMcpuhdHVvZKPY0f24/YeyUexo/tx+wMcpuhdHVvZKPY0f24/YeyUexo/tx+wMcpuhdHVvZKPY0f24/YeyUexo/tx+wMcpuhdHVvZKPY0f24/YeyUexo/tx+wMcpuhdHVvZKPY0f24/YeyUexo/tx+wMcpuhdHVvZKPY0f24/YeyUexo/tx+wMcpuhdHVvZKPY0f24/YeyUexo/tx+wMcpuhdHVvZKPY0f24/YeyUexo/tx+wMcpuhdHVvZKPY0f24/YeyUexo/tx+wMcpuhdHVvZKPY0f24/YeyUexo/tx+wMcpuhdHVvZKPY0f24/YeyUexo/tx+wMcpuhc6t7JR7Gj+3H7HjwdFq25pftx+wMTSV0119Rg6VLEU4XjvJTz1fflKVo57U9G/0mybtDdoK17f41XzRur+9GndpKc1dRvrdKD7sxDmx7zS1UleSjkvD/Y3y8defdGz7pDdIDCYbFVqrxEXa1NOKcf4pPVW10cVZPvIM+ImqNoVY2hFTumnmTjm6ddL6mxbqPUN0gNcwdTFxyRnGdmlduLk28lPR681Xz69a+ceKx+MpU87gnlouc3kslLJKXX0SUVa/SbPuojdR6gMLTnip0KmXLGrmtTlUg0nHTVxT0/iXwRb4uliXjFKOfdflptSdl77nzODTtFPqumbFukN1EDAQdeeAjH82FdRhGTkuc3pna69L6nlKtjHPK42jms5OHuq8lo83OvFRd+t/BbBuojdRA1/F+0LE3jGpJZoZMsmoKH8d7aXvf3ui1iNYvHShJqnlkrtXh/Zuo8V/Fpf/wCzZN1EbqIGA9oxiqRjki45pJyyOzSk0uF7c2z7y82XVqzpXrRtNNrha/elxS48f8zJ7qI3SAgBPuojdRAgBPuojdRAgBPuojdRAgBPuojdRAgBPuojdRAgBPuojdRAgMLisZTeJVK28c7yWWObWKacU+CaaT+ZsO6RFPB05NuSvdJWb00d1p13/wAAMNKnJS3bbqSlCym2s0b5VLRcFaKd+vxMuySnhacL5YqN3d2Vrle6QEAJ90hukBACfdIbpAQAn3SG6QEAJ90hukBACfdIbpAQAn3SG6QEAJ90hukBACfdIbpAQAn3SG6QEAJ90hukBACfdIbpAQAn3SG6QEAJ90hukBAeFxukN0gKzw9PAPQAAAAAAAAAAAAAAAAAAAAAAAAAAAAAAAAAAAAAAAAAAAAAAAAAAAAAAAAAAAAAAAAAAAAAAAAAAAAA8Oa8oWM7PD+WfqHKFjOzw/ln6gOlg5pyhYzs8P5Z+ocoWM7PD+WfqA6WDmnKFjOzw/ln6hyhYzs8P5Z+oDpYOacoWM7PD+WfqHKFjOzw/ln6gOlg5pyhYzs8P5Z+ocoWM7PD+WfqA6WDmnKFjOzw/ln6hyhYzs8P5Z+oDpYOacoWM7PD+WfqHKFjOzw/ln6gOlg5pyhYzs8P5Z+ocoWM7PD+WfqA6WDmnKFjOzw/ln6hyhYzs8P5Z+oDpYOacoWM7PD+WfqHKFjOzw/ln6gOlg5pyhYzs8P5Z+ocoWM7PD+WfqA6WDmnKFjOzw/ln6hyhYzs8P5Z+oDpYOacoWM7PD+WfqHKFjOzw/ln6gOlg5pyhYzs8P5Z+ocoWM7PD+WfqA6WDmnKFjOzw/ln6hyhYzs8P5Z+oDpYOacoWM7PD+WfqHKFjOzw/ln6gOlg5pyhYzs8P5Z+ocoWM7PD+WfqA6WDmnKFjOzw/ln6hyhYzs8P5Z+oDpYOacoWM7PD+WfqHKFjOzw/ln6gOlg5pyhYzs8P5Z+ocoWM7PD+WfqA6WDmnKFjOzw/ln6hyhYzs8P5Z+oDpYOacoWM7PD+WfqHKFjOzw/ln6gOlg5pyhYzs8P5Z+ocoWM7PD+WfqA6WDmnKFjOzw/ln6hyhYzs8P5Z+oDpYOacoWM7PD+WfqHKFjOzw/ln6gOlg5pyhYzs8P5Z+ocoWM7PD+WfqA6WDmnKFjOzw/ln6hyhYzs8P5Z+oDpYOacoWM7PD+WfqHKFjOzw/ln6gOlg5pyhYzs8P5Z+ocoWM7PD+WfqA6WDmnKFjOzw/ln6hyhYzs8P5Z+oDUwAAAAAAAAAAAAAAAAAAAAAAAAAAAAAAAAAAAAAAAAAAAAAAAAAAAAAAAAAAAAAAAAAAAAAAAAAAAAAAAAAAAAAAAAAAAAAAAAAAAAAAAAAAAAAAAAAAAAAAAAAAAAAAAAAAAAAAAAAAAAAAAAAAAAAAAAAAAAAAAAAAAAAAAAAAAAAAAAAAAAAAAAAAAAAAAAAAAAAAAAAAAAAAAAAAAAAAAAAAAAAAAAAAAAAAAAAAAAAAAf/2Q==\n"
                },
                "metadata": {}
              }
            ]
          }
        },
        "15bb4a0610fa4fbba7dd5c1d49a97656": {
          "model_module": "@jupyter-widgets/output",
          "model_name": "OutputModel",
          "model_module_version": "1.0.0",
          "state": {
            "_dom_classes": [],
            "_model_module": "@jupyter-widgets/output",
            "_model_module_version": "1.0.0",
            "_model_name": "OutputModel",
            "_view_count": null,
            "_view_module": "@jupyter-widgets/output",
            "_view_module_version": "1.0.0",
            "_view_name": "OutputView",
            "layout": "IPY_MODEL_6044b317599c4ef0bb6789ea4323c8fb",
            "msg_id": "",
            "outputs": [
              {
                "output_type": "stream",
                "name": "stdout",
                "text": [
                  "Video available at https://www.bilibili.com/video/BV1hQ4y127GJ\n"
                ]
              },
              {
                "output_type": "display_data",
                "data": {
                  "text/plain": "<__main__.BiliVideo at 0x7f28b3e07710>",
                  "text/html": "\n        <iframe\n            width=\"854\"\n            height=\"480\"\n            src=\"https://player.bilibili.com/player.html?bvid=BV1hQ4y127GJ&page=1?fs=1\"\n            frameborder=\"0\"\n            allowfullscreen\n        ></iframe>\n        "
                },
                "metadata": {}
              }
            ]
          }
        },
        "6cb16e5ba66b46579c0cf4f49c0438e6": {
          "model_module": "@jupyter-widgets/base",
          "model_name": "LayoutModel",
          "model_module_version": "1.2.0",
          "state": {
            "_model_module": "@jupyter-widgets/base",
            "_model_module_version": "1.2.0",
            "_model_name": "LayoutModel",
            "_view_count": null,
            "_view_module": "@jupyter-widgets/base",
            "_view_module_version": "1.2.0",
            "_view_name": "LayoutView",
            "align_content": null,
            "align_items": null,
            "align_self": null,
            "border": null,
            "bottom": null,
            "display": null,
            "flex": null,
            "flex_flow": null,
            "grid_area": null,
            "grid_auto_columns": null,
            "grid_auto_flow": null,
            "grid_auto_rows": null,
            "grid_column": null,
            "grid_gap": null,
            "grid_row": null,
            "grid_template_areas": null,
            "grid_template_columns": null,
            "grid_template_rows": null,
            "height": null,
            "justify_content": null,
            "justify_items": null,
            "left": null,
            "margin": null,
            "max_height": null,
            "max_width": null,
            "min_height": null,
            "min_width": null,
            "object_fit": null,
            "object_position": null,
            "order": null,
            "overflow": null,
            "overflow_x": null,
            "overflow_y": null,
            "padding": null,
            "right": null,
            "top": null,
            "visibility": null,
            "width": null
          }
        },
        "3b8d78f089404f53b26a6390dacdb5bd": {
          "model_module": "@jupyter-widgets/base",
          "model_name": "LayoutModel",
          "model_module_version": "1.2.0",
          "state": {
            "_model_module": "@jupyter-widgets/base",
            "_model_module_version": "1.2.0",
            "_model_name": "LayoutModel",
            "_view_count": null,
            "_view_module": "@jupyter-widgets/base",
            "_view_module_version": "1.2.0",
            "_view_name": "LayoutView",
            "align_content": null,
            "align_items": null,
            "align_self": null,
            "border": null,
            "bottom": null,
            "display": null,
            "flex": null,
            "flex_flow": null,
            "grid_area": null,
            "grid_auto_columns": null,
            "grid_auto_flow": null,
            "grid_auto_rows": null,
            "grid_column": null,
            "grid_gap": null,
            "grid_row": null,
            "grid_template_areas": null,
            "grid_template_columns": null,
            "grid_template_rows": null,
            "height": null,
            "justify_content": null,
            "justify_items": null,
            "left": null,
            "margin": null,
            "max_height": null,
            "max_width": null,
            "min_height": null,
            "min_width": null,
            "object_fit": null,
            "object_position": null,
            "order": null,
            "overflow": null,
            "overflow_x": null,
            "overflow_y": null,
            "padding": null,
            "right": null,
            "top": null,
            "visibility": null,
            "width": null
          }
        },
        "6044b317599c4ef0bb6789ea4323c8fb": {
          "model_module": "@jupyter-widgets/base",
          "model_name": "LayoutModel",
          "model_module_version": "1.2.0",
          "state": {
            "_model_module": "@jupyter-widgets/base",
            "_model_module_version": "1.2.0",
            "_model_name": "LayoutModel",
            "_view_count": null,
            "_view_module": "@jupyter-widgets/base",
            "_view_module_version": "1.2.0",
            "_view_name": "LayoutView",
            "align_content": null,
            "align_items": null,
            "align_self": null,
            "border": null,
            "bottom": null,
            "display": null,
            "flex": null,
            "flex_flow": null,
            "grid_area": null,
            "grid_auto_columns": null,
            "grid_auto_flow": null,
            "grid_auto_rows": null,
            "grid_column": null,
            "grid_gap": null,
            "grid_row": null,
            "grid_template_areas": null,
            "grid_template_columns": null,
            "grid_template_rows": null,
            "height": null,
            "justify_content": null,
            "justify_items": null,
            "left": null,
            "margin": null,
            "max_height": null,
            "max_width": null,
            "min_height": null,
            "min_width": null,
            "object_fit": null,
            "object_position": null,
            "order": null,
            "overflow": null,
            "overflow_x": null,
            "overflow_y": null,
            "padding": null,
            "right": null,
            "top": null,
            "visibility": null,
            "width": null
          }
        },
        "3bcb961ff4074049b9583fc5e8dde521": {
          "model_module": "@jupyter-widgets/controls",
          "model_name": "TabModel",
          "model_module_version": "1.5.0",
          "state": {
            "_dom_classes": [],
            "_model_module": "@jupyter-widgets/controls",
            "_model_module_version": "1.5.0",
            "_model_name": "TabModel",
            "_titles": {
              "0": "Youtube",
              "1": "Bilibili"
            },
            "_view_count": null,
            "_view_module": "@jupyter-widgets/controls",
            "_view_module_version": "1.5.0",
            "_view_name": "TabView",
            "box_style": "",
            "children": [
              "IPY_MODEL_34f03a345ccc434a8607268f71672238",
              "IPY_MODEL_2b2ef28b67e54cff83cc0affd0ce46b3"
            ],
            "layout": "IPY_MODEL_65852d38052f4fbdb62270916f22a9ae",
            "selected_index": 0
          }
        },
        "34f03a345ccc434a8607268f71672238": {
          "model_module": "@jupyter-widgets/output",
          "model_name": "OutputModel",
          "model_module_version": "1.0.0",
          "state": {
            "_dom_classes": [],
            "_model_module": "@jupyter-widgets/output",
            "_model_module_version": "1.0.0",
            "_model_name": "OutputModel",
            "_view_count": null,
            "_view_module": "@jupyter-widgets/output",
            "_view_module_version": "1.0.0",
            "_view_name": "OutputView",
            "layout": "IPY_MODEL_9290da11811a48e7b1506b5990540171",
            "msg_id": "",
            "outputs": [
              {
                "output_type": "stream",
                "name": "stdout",
                "text": [
                  "Video available at https://youtube.com/watch?v=yHtVqT2Nstk\n"
                ]
              },
              {
                "output_type": "display_data",
                "data": {
                  "text/plain": "<IPython.lib.display.YouTubeVideo at 0x7f28b3dd8fd0>",
                  "text/html": "\n        <iframe\n            width=\"854\"\n            height=\"480\"\n            src=\"https://www.youtube.com/embed/yHtVqT2Nstk?fs=1&rel=0\"\n            frameborder=\"0\"\n            allowfullscreen\n        ></iframe>\n        ",
                  "image/jpeg": "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\n"
                },
                "metadata": {}
              }
            ]
          }
        },
        "2b2ef28b67e54cff83cc0affd0ce46b3": {
          "model_module": "@jupyter-widgets/output",
          "model_name": "OutputModel",
          "model_module_version": "1.0.0",
          "state": {
            "_dom_classes": [],
            "_model_module": "@jupyter-widgets/output",
            "_model_module_version": "1.0.0",
            "_model_name": "OutputModel",
            "_view_count": null,
            "_view_module": "@jupyter-widgets/output",
            "_view_module_version": "1.0.0",
            "_view_name": "OutputView",
            "layout": "IPY_MODEL_4a42740fe91944bb9e6e97a6793eda50",
            "msg_id": "",
            "outputs": [
              {
                "output_type": "stream",
                "name": "stdout",
                "text": [
                  "Video available at https://www.bilibili.com/video/BV1aq4y1S7o4\n"
                ]
              },
              {
                "output_type": "display_data",
                "data": {
                  "text/plain": "<__main__.BiliVideo at 0x7f28b3dd8610>",
                  "text/html": "\n        <iframe\n            width=\"854\"\n            height=\"480\"\n            src=\"https://player.bilibili.com/player.html?bvid=BV1aq4y1S7o4&page=1?fs=1\"\n            frameborder=\"0\"\n            allowfullscreen\n        ></iframe>\n        "
                },
                "metadata": {}
              }
            ]
          }
        },
        "65852d38052f4fbdb62270916f22a9ae": {
          "model_module": "@jupyter-widgets/base",
          "model_name": "LayoutModel",
          "model_module_version": "1.2.0",
          "state": {
            "_model_module": "@jupyter-widgets/base",
            "_model_module_version": "1.2.0",
            "_model_name": "LayoutModel",
            "_view_count": null,
            "_view_module": "@jupyter-widgets/base",
            "_view_module_version": "1.2.0",
            "_view_name": "LayoutView",
            "align_content": null,
            "align_items": null,
            "align_self": null,
            "border": null,
            "bottom": null,
            "display": null,
            "flex": null,
            "flex_flow": null,
            "grid_area": null,
            "grid_auto_columns": null,
            "grid_auto_flow": null,
            "grid_auto_rows": null,
            "grid_column": null,
            "grid_gap": null,
            "grid_row": null,
            "grid_template_areas": null,
            "grid_template_columns": null,
            "grid_template_rows": null,
            "height": null,
            "justify_content": null,
            "justify_items": null,
            "left": null,
            "margin": null,
            "max_height": null,
            "max_width": null,
            "min_height": null,
            "min_width": null,
            "object_fit": null,
            "object_position": null,
            "order": null,
            "overflow": null,
            "overflow_x": null,
            "overflow_y": null,
            "padding": null,
            "right": null,
            "top": null,
            "visibility": null,
            "width": null
          }
        },
        "9290da11811a48e7b1506b5990540171": {
          "model_module": "@jupyter-widgets/base",
          "model_name": "LayoutModel",
          "model_module_version": "1.2.0",
          "state": {
            "_model_module": "@jupyter-widgets/base",
            "_model_module_version": "1.2.0",
            "_model_name": "LayoutModel",
            "_view_count": null,
            "_view_module": "@jupyter-widgets/base",
            "_view_module_version": "1.2.0",
            "_view_name": "LayoutView",
            "align_content": null,
            "align_items": null,
            "align_self": null,
            "border": null,
            "bottom": null,
            "display": null,
            "flex": null,
            "flex_flow": null,
            "grid_area": null,
            "grid_auto_columns": null,
            "grid_auto_flow": null,
            "grid_auto_rows": null,
            "grid_column": null,
            "grid_gap": null,
            "grid_row": null,
            "grid_template_areas": null,
            "grid_template_columns": null,
            "grid_template_rows": null,
            "height": null,
            "justify_content": null,
            "justify_items": null,
            "left": null,
            "margin": null,
            "max_height": null,
            "max_width": null,
            "min_height": null,
            "min_width": null,
            "object_fit": null,
            "object_position": null,
            "order": null,
            "overflow": null,
            "overflow_x": null,
            "overflow_y": null,
            "padding": null,
            "right": null,
            "top": null,
            "visibility": null,
            "width": null
          }
        },
        "4a42740fe91944bb9e6e97a6793eda50": {
          "model_module": "@jupyter-widgets/base",
          "model_name": "LayoutModel",
          "model_module_version": "1.2.0",
          "state": {
            "_model_module": "@jupyter-widgets/base",
            "_model_module_version": "1.2.0",
            "_model_name": "LayoutModel",
            "_view_count": null,
            "_view_module": "@jupyter-widgets/base",
            "_view_module_version": "1.2.0",
            "_view_name": "LayoutView",
            "align_content": null,
            "align_items": null,
            "align_self": null,
            "border": null,
            "bottom": null,
            "display": null,
            "flex": null,
            "flex_flow": null,
            "grid_area": null,
            "grid_auto_columns": null,
            "grid_auto_flow": null,
            "grid_auto_rows": null,
            "grid_column": null,
            "grid_gap": null,
            "grid_row": null,
            "grid_template_areas": null,
            "grid_template_columns": null,
            "grid_template_rows": null,
            "height": null,
            "justify_content": null,
            "justify_items": null,
            "left": null,
            "margin": null,
            "max_height": null,
            "max_width": null,
            "min_height": null,
            "min_width": null,
            "object_fit": null,
            "object_position": null,
            "order": null,
            "overflow": null,
            "overflow_x": null,
            "overflow_y": null,
            "padding": null,
            "right": null,
            "top": null,
            "visibility": null,
            "width": null
          }
        },
        "b887b62c543b4bf9b18a539cbc59897d": {
          "model_module": "@jupyter-widgets/controls",
          "model_name": "TabModel",
          "model_module_version": "1.5.0",
          "state": {
            "_dom_classes": [],
            "_model_module": "@jupyter-widgets/controls",
            "_model_module_version": "1.5.0",
            "_model_name": "TabModel",
            "_titles": {
              "0": "Youtube",
              "1": "Bilibili"
            },
            "_view_count": null,
            "_view_module": "@jupyter-widgets/controls",
            "_view_module_version": "1.5.0",
            "_view_name": "TabView",
            "box_style": "",
            "children": [
              "IPY_MODEL_f79016300f45444faf6015075dc84a90",
              "IPY_MODEL_28da2b9d9abf4919b2e7252d3c1fd5d3"
            ],
            "layout": "IPY_MODEL_44b92167fe0e4d929c881ebbce114206",
            "selected_index": 0
          }
        },
        "f79016300f45444faf6015075dc84a90": {
          "model_module": "@jupyter-widgets/output",
          "model_name": "OutputModel",
          "model_module_version": "1.0.0",
          "state": {
            "_dom_classes": [],
            "_model_module": "@jupyter-widgets/output",
            "_model_module_version": "1.0.0",
            "_model_name": "OutputModel",
            "_view_count": null,
            "_view_module": "@jupyter-widgets/output",
            "_view_module_version": "1.0.0",
            "_view_name": "OutputView",
            "layout": "IPY_MODEL_140196df75f14e45a17cfa7537377354",
            "msg_id": "",
            "outputs": [
              {
                "output_type": "stream",
                "name": "stdout",
                "text": [
                  "Video available at https://youtube.com/watch?v=DtCWDIlSo18\n"
                ]
              },
              {
                "output_type": "display_data",
                "data": {
                  "text/plain": "<IPython.lib.display.YouTubeVideo at 0x7f28b3250150>",
                  "text/html": "\n        <iframe\n            width=\"854\"\n            height=\"480\"\n            src=\"https://www.youtube.com/embed/DtCWDIlSo18?fs=1&rel=0\"\n            frameborder=\"0\"\n            allowfullscreen\n        ></iframe>\n        ",
                  "image/jpeg": "/9j/4AAQSkZJRgABAQAAAQABAAD/2wCEABALDBoYFhoaGRoeHRsfIC0mIyIgJDEnKSczLi0xMC02MjE2P1BCNjhLOSstRWFFS1NWW1xbMkdlbWRYbFBZW1cBERISGRYZLRsbL1c/NTZXV1dXV1hXV15XV1dXV1dXV1dXV1dXXFdXV1dXV1dXV1dXV1dXV1dXV1dXXVdXV1dXV//AABEIAWgB4AMBIgACEQEDEQH/xAAbAAEAAQUBAAAAAAAAAAAAAAAABAIDBQYHAf/EAEkQAAIBAgMECAUCAwUECAcAAAABAgMRBBIhBRMxURciQVNhcZLSFDJSgZEG0SNCoRUzYrHBFnJ08CQ0c4Kys+HxBzVDg5Oiw//EABgBAQEBAQEAAAAAAAAAAAAAAAACAQME/8QAHhEBAQEBAQEAAgMAAAAAAAAAAAERAiESAzETQUL/2gAMAwEAAhEDEQA/AOfgAAAAAAAAAAAAAAAAAAAAAAAAAAAAAAAAAAAAAAAAAAAAAAAAAAAAAAAAAAAAAAAAAAAAAAAAAAAAAAAAAAAAAAAAAAAAAAAAAAAAAAAAAAAAAAAAAAAAAAAAAAAAAAAAAAAAAAAAAAAAAAAAAAAAAAAAAAAAAAAA2/o4xve4f1T9g6OMb3uH9U/YBqANv6OMb3uH9U/YOjjG97h/VP2AagDb+jjG97h/VP2Do4xve4f1T9gGoA2/o4xve4f1T9g6OMb3uH9U/YBqANv6OMb3uH9U/YOjjG97h/VP2AagDb+jjG97h/VP2Do4xve4f1T9gGoA2/o4xve4f1T9g6OMb3uH9U/YBqANv6OMb3uH9U/YOjjG97h/VP2AagDb+jjG97h/VP2Do4xve4f1T9gGoA2/o4xve4f1T9g6OMb3uH9U/YBqANv6OMb3uH9U/YOjjG97h/VP2AagDb+jjG97h/VP2Do4xve4f1T9gGoA2/o4xve4f1T9g6OMb3uH9U/YBqANv6OMb3uH9U/YOjjG97h/VP2AagDb+jjG97h/VP2HvRxje9w/qn7ANPBejhpNJ3Wp78LLmgLAL/wsuaHwsuaAsAv/AAsuaHwsuaAsAv8AwsuaHwsuaAsAv/Cy5ofCy5oCwC/8LLmh8LLmgLAL/wALLmh8LLmgLAL/AMLLmh8LLmgLAL/wsuaK6OBnOcIJxvKSir3tduy7PECKDav9gMX3lD1S9p7/ALAYvvKHql7TNg1QG19H2M7zD+qXtPej3Gd5h/VP2jYNTBtj/wDh9jO8w/ql7Sl/oHF95Q9UvaNg1UG0P9CYvvKHql7Tx/oXFd5Q9UvaNg1gGyP9E4rvKPql7Tz/AGLxP10fVL2jYNcBsX+xuJ+uj6pe08/2OxP10fVL2jYOvAA0AAAAAAAAAAAAAAAAAAAAAAAAAAAAAAAAAAAAAHEKXyx8kVFNL5Y+SKgkAAAAAAAAAAAAAAAAAAAkbP8A+sUP+2p/+NEcvYJ2r0XyqQf/AOyA6oqizWL8VcxCrrPKo5Kz0u7JcSrG7XeHi2qUp6NqStlT/wAWtyOp743jc9ZqMC4oEPZFepUoRlVcc716vC3Z/QnoiTarVDgY3aeLjQjeT8ktW/JGUeiuc527tNurNtPNqlfgvL+hfP4/U3rFzH/qSpndrwXJWbJOxf1BGrJUqk+s+DkrX8DUaqnO0mnaxFeZc0y7I2a6rItMxGwttRq0FvZWqQ0lo9eTJsto0V/9SK89DnY1fZSW6eLpzdo1IyfJNNlwxrZwAdUgAAAAAAAAAAAAAAAAAAAAAAAAAAAAAAAAAAAADiFL5Y+SKiml8sfJFQSAAAAAAAAAAAAAAAAAAAVU/mXmiku4WGarTj9U4r8tICXVxdVpU3JuN20krLhyRk8BtGo4qDSaUHrKTf8ATgRP1BgKdCdFKWe+bMuPC37kH47JeyVnFprhdXWl+zgtTMy+uf1vvLIr9R4unVnB1ITSfVmuCt/u2TMjX/U+LWGpy3lnKTWZRXWVuJg9mY5KTdR0oU4tZIyvJK7/AJeMrczJ0sJWxtSmpRz0HNfxMPZ5b6a34LXtSGyOnv8ASul+osTJPNWbVuGljOS2LRioym3UnZXvw4EXaX6Ww2GpxlKtVyyllbeXS6fgSMRjacIUutJxcVlm1bN2cOZv3NyN55v7qt0YJWUUkvAwn6j2c5U1OlC8lyXYT8VjZRScVdPg1qSKEm49a/3OdeuSXxpey8PiIUalam8qclHjq7Pl9y5DF4x9tT8I2fG4dRoqMLq8rWX5v/mYl4OteTsnfhml+xmuffMi/sWdSTW9bbz6XVv5JGebMHsmnJVErxbz8Iu9uq+w2NYCtJaQf30NjnWwgA6JAAAAAAAAAAAAAAAAAAAAAAAAAAAAAAAAAAAAAHEKXyx8kVFNL5Y+SKgkAAAAAAAAAAAAAAAAAAArou04vlJP+pQV0FecFzkl/UDJ1Nm1HCpNwd07xlxvdcEzD/EwV2k3d8H5L/1M1T2vJVGpXnCLtlTtaz7DCYyOec6mkVKeluCTb42MuOXNtvqXQpxxcdxThau5Jw1spaPMv9bnR/0vhXhcFTpTkpSV27O6Tbbsn4HJY1HvIta2atbq3tZLhrfTzOi7MxEaEIwbUY8pSd09NFfXh4eL4nP8k8ejlksTlrY6UZ3lGnThKMczy5m5K7XBkPY8I1Nn04z1dNyjftVpMjU8TnxmIlTle9GnZx1/mmebArZadenJpZasrvzSf+pnPNnrfqfpJxE6UYwjFp2WiZcjwMZi8LKbzxcZKLaWjflwZfoR3a1k3fnz8EX1Ho461cxcads9VpRj2vgjHf2rs6D1lBv/AAwb/wBDLQV4u/M1D9RRpLEZYRirLrZdNXr2fYce+J/NP9Nlwv6wwVL5KdST8IqK/wAybR/WkJNN08kL9ZuV3bysc5WGXGMvs/3KZupFONnry1Ovy82u5AAloAAAAAAAAAAAAAAAAAAAAAAAAAAAAAAAAAAAAA4hS+WPkioppfLHyRUEgAAAAAAAAAAAAAAAAAAFzD/3kP8AeX+ZbLmG/vKfb14/5o0ZjZez6T/mW8bdn+Sr4aG8r08sZJpataX1v+Go/ktUYbipUSqRnOXy00tV56uxajQxFZ7uMZLLJyqODSzLm79unbzFklyuE2W3UpZYVKdKhhaUpuSSm9bW7XZdi14kuUsRBynVlGnold3stb9r1drkX9NUf+lVarSb+WMYu6XD8vw8y1t/FV6+Il1ZbqHyLmlxfje/4N+Z87jf5Or1mq4Ylxr1a1GO7pyy8V81tOqlzb4nlSvGOaENHJyWngrNvnqRKtWW5pwbeZuMmvpSayr7WKKMlvdNcit5s6cTI2++svVrTpUqVRN2nHLNeMf8tGv6l6ji6E3mjVvbsm0pIxc6+a8ZOylbXk+x/wDPMx9fDJtpqzXEdc6rju8th2l+oIUqVqTU6jdk1ql58+JqUpSlJyk25N3bZJxGHyKMPpV35y1f9Mq+xYSJnMi+vyXoi2SqMiPbQqozKS7YADi6AAAAAAAAKZxTTT4NWNYxmxqMcdhKUXWVOpGq5rf1dcqjl1zacWbSYnHUJy2hgpqLcIQrKUktFmULX87MC9gZ06VWWEpxklThGd5Scr55S7ZNv+VkPa21prDY10YSz0LxcrpZf4ann17FdacT3EVJUMfOq6NWdOrRhBSpwc7SjKbs0tVpJa8CMsNWqYfat6M4TrOW7hK13ejGK1WnFW48QJ8trOnh6c6lGe9qSUIUouMpTdr8U7JWTbb4Irw+1Jb6NGvRlRnNN0+spRnbVpNfzJa2INZ1KkcJiqdGq3h5NTpTjkm4yhlk4qXFq/3sy45zxeJw8o0qlOlQlKcpVYuDlJxcVGMXr/M23w0AkYLazr1JQhQqZIVJ051G0opwbWnbK7XZwuW9mY1/A4edKnWrOaWVTkpT1u7zm7K2nHyLmwKE6cK6nFxbxNaSv2pzbT8mjEUsJVhgdnxqU6rpU/8ArFKCeb5XlvFayipWul/UDN4HaUp1p0KtGVGrGKmk5KUZRbtdNePFMtfpebls/DOTbbhq27t6sjbNw6WO3lOlVhR+HypzTSvnTsoy1j5WXO3aS/03RnTwOHhUi4zjCzi9GtWBa2/Xq5YUKcLuvJQzKeV21lNLl1Iy15tEShtOrDD4zGSp2i1KVO87q0Fkircm03f/ABHm1cFiJ161SnVrpwppUbKGXPUdml1b5UlFt8dXqtSe9ipYGphFVnKMqbhFzt1Vlsl1UtFbz8QMJSWDiovEYqu8S2s+IU6igp9sVJfw0k9LcOxm4Gs18VVngpYNYKqqzpbqyglRWmXMp8Mq48zYMHRdOlTpt5nCEYt87JK4F4AAAAAAAAAAcQpfLHyRUU0vlj5IqCQAAAAAAAAAAAAAAAAAAAAAWnDQuRrzXCcl5SaLYAuQxFSN8tSavxtJq5S6knxk3ZW4lINMeub5v8hNrg7eR4APXN83+T1zb4tv7lIA9cm+LbPAAAAA7aADFAAAAGvYZYrE1sXlxk6UaVd04xjTpyVlGL4uN/5gNhBrM9rYiOHrxlOLrUMTSpOpGKSmpzhrld0naTTMzjNq0aM1CTnKdr5adOVRpc2op2XmBNBB/tbD/DrEbxbltLNZ6Nyy2a4rV2d+BRQ23h6lWNKMpKU75M1OcYztq8smkpfYDIgt160acJTm7RhFyk+Nkldlqrj6UKKrylam1FqVn/M0o6ce1ASQQcXtajRqbuWeU7ZnGnTnUaXY3lTtw7Smrjoy+GlTrRUKtSyvBvP1ZPKvpej48gMgDHVtuYeEpwzSlOEssowpznJaJ6qKelmteBd/tWh8MsTvY7hq+fs5cON76W430AmAxtHbmHnKEM04znLLGM6c4Slo3opJaaPXgSdo1ZQw9acXaUacmnyai2gJIMJ+ldpVK9BxryzV4WcnZLNGcVODsrLg7f8AdZG2XtetX2lUjmXwrpz3cbLV05wg5Xtfjm7QNkBjK+38NTlOLnJ5Haco05yhB8pSSsvzoSMVtKjRVN1KiiqjtB8VLRy4rwX3Algx2H23QqOpGLmpU4Z5QlSnGWXmotXfDsLWw9tLE0pyl1XCU73hKEVFSkou8tL2WuungBlgY2htzD1JRjGU1ndoSlTnGE32ZZtJO/ZrqZIAAAAAA4hS+WPkioppfLHyRUEgAAAAAAAAAAAAAAAAAAAAAAAAAAAAAAAAAAAADtoACgAADWNnbMjXr4+Tq14WxTVqVWUF8kOKXbrxNmCQGA2xgKWGwOSlHKnXpSbbbcm60Ltt6tlWKxcpYytTqYp4WFOEXC2ROpe+aV5p3SelkZ1oplTjK2aKdtVdXsBqDkpbOxLupJ7QWqVk/wCPDW3iZzbf97gP+K//AJVDK5VyQaAi7Vg5YXERirydKaSXa3F2Ncx21sPU2VTpwrQnNxo9SLvJWnC+ZL5fubcUKnFXtFK/HTj5gYPaMqMMTOUMdHC13COeNTLkmlfK7Ste13rFln4yeIhsyrNJSliZfKmoyShVSkk9bSSTXmbFOnGXzRTtwurlTQGJ2Kv4+P8A+JX/AJVMw0VlwWHquLlSo4+pOokr2iqlVZrdqTaf2NvSLOKpTlTapTVKd01LKpLjdprk+HYwMJtHaVCviMAqNSNVrE3bg8yX8OejktE/DjoZba3/AFTEf9jP/wALItLZtaVWlUxFWm1SblCFKm4RzNOOaV5NvRuy04mVA07EqtRw+CxGGV518LDDO3Y5RW6l9nf8mQwuEjQ2jh6MNFDASivtUhqbDYW7e0DW9i7Uw2GwSo4icKdWkpRq05vryld3ajxlm4pq97lrB4edOnseFROMlVm8r4xTp1HFPxSaX2NndOLak4ptcHbVFTQGKq//ADWj/wALU/8AMpmGhLfbMxeHpSUq8atVypxac7Ku21l46q68bm3WPFBJtpK74u2rA1mtiKWKpRp/2jTaqOKjCNOO8TunHq3umnbs0t2G0FCpxTclFZnxdtfyVAegAAAAOIUvlj5IqKaXyx8kVBIAzcsPs9OdLD0qVHczoQkqlTDyq76Uk3JupG2Vp+KsBpoM+thUtz81Z1HhniN5ZblWv1Xpe+nG/El0tgUqdSi7tzhiaMKsJyjNPPZtNKKs/u1ZhrVQS9oUoRkssakW5TvnSUHabS3duKS0fieuC+CUrLN8RJXtrbdwdr8tWGIYMrW2ZSjBJVL1nThNLN8znlaio5dFaXzZuK8dLktlUbq055YzqwqJSUnenSc9G4Rs7qz4rkwMMDIxwtF04O1RTqUa1RdeLUd26uVNZbyuqdm9ON/A92ZTpuCcoOU/i8PFO6taWe6atqnl11105ahjQZmGzqNaV4uUIqpWjJSknfdwU1ltHq3va1nZK+pCxWGpqdJUqiamlfrZlF5nH5rK67eHNdgEMGT+CpOrVpqNZbneOV5Jue7XBdXqt8f5rLmJ4OiqMq9quXcxqRhmjmu6rp6yy6x0unb9wMYDKbQ2dSoxnFVL1YKH818+a1+rlWVa3TzO6XieUsJB4eFWak1GlUm4wyxlK1WMF1rPTrXbd7JaWAxgM5WwFFx3r6kI0qCyuag7zg3eUsj+njbVvs4Fulsqk5ODqN55VFRlmtmVON75cj7dHeUfADDgm4Ld/DYidSEpKMqVsrUWr7y/Wadlw7ORPlsajTk95Uai627V5KLissJarK80uvbLp8r56BgwZarhaUqcI2lnWEnUU4tKLyTqvWNru6jxuuzkXquzaO+jGWd7zEKisjjBRvCk81stm7z4aXAwYMphcNTioZozlUnhKtXNdZF/DqWWW19MvG/zdhiwAAAAADtoACgAAeHp4ABB2ptJYdQjGDq1qry06adnJpXbbfCK7WTjCbSmqO0cLWqO1KVOdJSfCM5OMo3fZdJoC58Xj6bjKrh6U6baTVCcnOF9L2kkpLysZOviKdO28nCF+GaSV/yMTiadKOepOMI3SvJ2V3ojDzhv8XiMlDDt0ssJzrLNKV45rL6Y2ktf6AZtzSSbas+DvxvwIeJ2goVcPCOWSq1JQbT+XLCUvz1bGuRhm2ZTpyVorHKCipPqpYi1k1rotEzLY7DU6VfZ0KUIwiq8+rFJL+5qdiAy1bE06ds84QvwzSSv5XLhgdjYSlXli516cKlbfzhLeRUnGKdoRSfCOWz8bl39Lv8AgVYRbdGniKkKLvfqJ6JPtSeZLwQGWnWhG+aUVZXd2lZc/I8rYiFNJ1JxgnwcpJf5mGr4KlW2q97BTSwkWoyV433k+K4P7nuBw9Otjca68YzqU5RhCM0nlpuCayp8E25agT9rY54fC1K8Up5UmlfR3aXH7hY5/GvD5VZUFUzX1u5uNrfY1zEJQwe1aVL+4p1UqaTuotqDnFckpN6dlzK1pSW06rgryWBWVc3vJWAy7xNNTyOpBT+nMs344lbmk0m1d8FfV24mubMwGEqbLjUqxhLPS3lWq7OWe15Szcbp38rHmDqznU2POt/eSoVbt8W3CD/NtQNjlVir3klZXd3wXPyIuzdpU8TRVWOid7ptXjZta24cCG4RntSrGSjJPCQUk0mv7yejRj9mbMjW2TCEN3TnOSbco3jPLVbUZpWzJ2t9wNkoYinUTdOcZpcXGSf+RdMJs+pkxap1sLSpVpUnlqUWpRnGLjmXBNWbT1X3M2B4AAPQAAAAHEKXyx8kVFNL5Y+SKgkL1PF1YwdONWpGm+MIzkou/HROxZJ3wMM1RSqZVCnRm5NXtvN1e65LeP8AAEZYmpu91vJ7q993meT08CuWPruydes1GzV6ktLcLa6W7ORNngIR3rheUNy5Rk3CabVWnG8ZQejtLg9VfxK3smlKpKEKlT+HXlTm5RWqjGcm4pPjam1Z80BiqlWcklKcpKN7KTbtd3dr8LvUroYurTTVOrVppu7UJyim+dk+JXjKNONKlVpObVTPpO11kcVxWj4kuWBpxeanLeQ3dXrtxlFuNGU1oneD04S17ewCA8TUdPdupN0/ocnl9PA9qYurO2arUlb6pyfFWfb2ptfcyMtnYeOZOdZuEqUZWUbPexclbla3bx8C1PZajUp03N3k66bt3TktPPL/AFAx6nLTrS0TS1eid7peDu7rtu+ZVSrzhfJOcL2vlk43tqr242MpQ2bTqThmbhGUcPFNOEVmnShKXzPV3d7LnxWl/I7NpTjSScoyVKpOq24pPJUcdMzSWtlr2a6sDFxrTTTU5JqWZWk1Z814+IrVp1HmqTlOXC8m5P8AqTqmCoRjUqOpKVOKhpTcJSUp59JSTcdN2343XArxGChLHyorqU9dYrglSz8L+HPtAgyxlZuDdao3D5G5y6v+7rp9impXnNycpzk5WzOUm81uF78bE7D4ClUdKKlUU66k6V1G0VGUorPzbcHe3BW4klbPhUjBJKDfw7ckrtJ4adSdubbjfxYGJliajgoOpNwXCDk3FcrK9keU8RUg4uNScXG+Vxk1a/G1uFyZ8DTnS3tOU8m7qO00r3puF9Vo01UWvmXfgqMcO5TlJSaoSUrXUFVjJy07bWf4XiBAjjKyk5qtVU2rOWeWZrk3e9hDF1YpqNWolJ3aU5K7fFvXVsu7Rw0KTi4uTpyvaWaE1Kz1cXF25aPVEzaOCw1KdabdWNKFSNNRhZyu45m7vst2cW+VgMZQxFSm706k4P8AwSceHDh5v8lVLF1YZnCrUi5fM4zks3nZ6vV/kYzDujWqUm03Cbjddtna5ZAq3kvql8uXi+DvdeWr08WVOvO6eed08yeZ3T01XjotfBci2ALscVUUN2qlRQ16im1HXjpe2paAAAAAAAO2gAKAAB4enh6B4UV6EKsHCpGM4SVnGSun9is9AxmG/T+EpTjOFFZo/LmcpZf91SbUfsX6+y6NSpvJQeeyTcZShmS4KWVrMvO5MAESGzKEaapqmlBT3iirpKWbNf8AOpeq4eE5QlKN5U25QfJtOL/o2XQBAxmxsPXnnqU7ztZuMpRckuyWVrMvBkyjSjTjGEIqMYqyilZJeBWeAW/h4b11cv8AEcVDN/hTbt+WyPjdlUK8lKpC80rKUZShK3LNFp28CaAIi2bQVD4dUoqja2RaLjfs8S78NDe73L/EyZM3+G97fll4AY2psHCSm5uiruWZq7UJPm4Xyt+LRIx2z6WIio1YZlF3i03FxfNNNNEoARMLs2jRlmp01GTjlb1u1e+rfF3fF6lqGw8Ko1IqkstR3lFtuN027pN2jq29LGQAEPB7Lo0JOVODztWcpSlOVuV5NtLwJgAHh6eAD0AAAABxCl8sfJFRTS+WPkioJCS9oV8ihvZ5Ukkr/S04/hpW5W0IxOjs685xz/LClK9uO9dPTj2b3728QLNXHVZ3zVG7xy9iVm1J6LTik/sKWMnGpncpP+JvHaTi3LXW61T1eviS3sqLby1nlhOpCo5U7Zd3Bzk4pSeZWT5ftchsuFSnSlTlLLu5znJxSk7VciWVztfVfzcFfjoBE2jtB192mmowTSzSzPrO7u7Jdi0SXAt1cfWnbNUk7Jr1RyyvzbTau9dSTW2ZGnGcpVlZShGNop3c4uXWtLq2yu9r+Fy9/ZdKEqinOo4qjUnCahHLJxtrFqbUlrz8wMbLEzd25PVxb8XBWj+Ey7HaVdKSVWSUnJvXi5fN+e0lU9jOUYde0nKlGcZRj1d60k9JN6X4SUb9hRDZ0JLPGrLdrebxunZrdRjJ5Vmea+dJXa8QI1LH1ofLUkvl5aZFljbk0la61EMdVjlSqSWVtx8HK+b7O7uuGrK8bSpQVBwcnGVLNKTjaX97Ui+rmtdKKVr2dvEyFXZuHzzpqc4/9NlQhLJmfYkms3BN8eL5ctGNjtCspymqklKSUXws0uCtw08tC28VUdR1XNuo73k+LurP+mhOjsaW7UpTyycJSStHL1XJWcnJO7yu3VfFfanZuHp1Kc8395KrSpRbjdR3mfX5lr1eT4eOmCLTxtWFN041JKDv1U+fG3K/bbieLF1NLTksri1Z2s4LLBryWiJeCwEJLNUnJR/jxSjG7vSpZ0/mXPh4W7bq1LAWv1+GHVfhzcVl4/4uPgBS9o13NVN7LMk4p6WSfFW4Wd+R49o17ylvZ3kkm76vL8v47GTXsZZ6yVSUo0qm6clCKbl1r2UprqpR43vrw7TG4mju6k4NqWWTV4u6du1eAHuIxNSq06knK3Dgkr8dFoXY7SrqTkqsszSTemuX5b82ufEigD1ttttttu7b1bPAAAAAAAAAAAAA7aAAoKFVjZPMrPg76O/CxWYGdOTlUoRWtGU60fN2lT+15TX/AHQM26sb5c0c2ml9db20+z/BWYSD3qjWjJpVcQsrVr5YxcVa/k39yupiakc0M8mliMmZuKkk6amld6LV2v8AbiBlz0xLqVW6cN40pVnG6cXLLupSs9LXzL8WPJYiq51LSalCplUXKKjbS109etz8dAMueN2V3okRNoYh0VCpfqKVprwadvvmyr7kKWIq5Z0pyvOnTnOo7KzvHqK3K8n/APjAy29j9S7Fx58PyVNq9r6sxMn1/wD7lAlY2bVSnb6aj/CQE08MVT3jcU61TrUM7fV46cNNFr/ReN7OJx1R0XOM3GUMPGo9YpXabVk1rw5rw1Azh4mtdeHExGMxMl8VJ1nTdKPUira9RNPVa3k2vtzK51p55JTy3q043SV7Omm+KAyp4Yp15xz0s8pPf5IttLTdqdnKz8ey/At0pSnLDudR9WtUje8dbKVru2vC3/qBmVJPVO68D0xFCtKTpwlU3cWqjvGyzNTate3YtfG/me4atUrOlF1JJOFR3jZOeWajGXDtTvpzAyoMfmlUwLcpPM6Tu1a7sn/mWKtaSgowqS6lHO5Zorje38vWayvkgMspK7V1dcVyKjCyxU1Uk9YxnGlnqK1oXT7H46X4K92V1cTVc62WVpQlljFyio8FbNfV5r8fHQDLAjYys4OlrZOolLycZf62IcsRObqZKiaVdxspKLaVOLai7Pg23/qBkZ4inGShKcVKXCLkk35IumLcFXhTirKNVNzlLLvJZbaaaX8V2LTimZQAAAOIUvlj5IqKaXyx8kVBISv7SrZVHMrWivkhdqDTgnK13bKrXfYRQBIhjqsXdTs87qcF80lZvh2ptW4FT2jVvHWNlFxUVTgo5W7tZbZWr66riRQBelipu6uknOM7KMUrxTjGySsrJvRaFz+0at004LSSsqcFF50lK8VGzvZcV2LkRQBLW0qytaaunB3yRzN07ZLu15WsuJbpYypC2WVrOTtZNXmlGV01qmklZ6FgAXcTiJVcudp5Y5UlFRSV27JRSXGT/JdqbQqykpOSuqm9uoxXX062i1ei8yKAJDxlTJkbi1ra8ItrNrLLJq8U23wfa+Zbp15wVoyt1oz0+qF8r+2Z/ktgCXLadZuLzR6rk0lTgo3mss7xUbO60d0eS2jVcHDNHK4ZH1IJ5b3Uc1r2v2XIoAkRx1RSqSvGTqyzTUoRkpO7d8sk1e7fZ2stVK0pJJ20beiS1k7vgtf9OwoAAAAAAAAAAAAAAAAAHbQAFB5ZXvbV9p6AKVFWSsrLh4BwTTTSafHTj5lQAojTikkkklwSXDyDpxbUnFOS4O2q+5WAPGk+OoyrXRa8T0AU5FyX/twPWlyPQBTlXJcLFMqMHa8YuysrpaIuACJisCqreaclFqzilHg9Gk7XV1yf4JORcl+CoAUSpxaacU0+KavcOlG1sqsne1u0rAFEqUWrOKa5NaFVlxtqegDxJJWS0KNxDTqR04aLTyLgApyLXRaqz0PHSi2pOKbXB21XkVgCmcFJNSSafFNXRTKjBrK4Ra5NK34LgApyrTRacPAqAAAADiFL5Y+SKiml8sfJFQSAAAAAAAAAAAAAAAAAAAAAAAAAAAAAAAAAAAAAO2gAKAAAAAAAAAAAAAAAAAAAAAAAAAAAAAAAAAAAAAHEKXyx8kVFNL5Y+SKgkAAAAAAAAAAAAAAAAAAAAAAAAAAAAAAAAAAAAAdtAAUAAAAAAAAAAAAAAAAAAAAAAAAAAAAAAAAAAAAAOIUvlj5IqKaXyx8kVBIAAAAAAAAAAAAAAAAAAAAAAAAAAAAAAAAAAAAA7aCBv5cxv5cwpOBB38uY38uYE4EHfy5jfy5gTgQd/LmN/LmBOBB38uY38uYE4EHfy5jfy5gTgQd/LmN/LmBOBB38uY38uYE4EHfy5jfy5gTgQd/LmN/LmBOBB38uY38uYE4EHfy5jfy5gTgQd/LmN/LmBOBB38uY38uYE49IG/lzI+L2k6dlmV32ydopc2/8l2/loOS05LKtVwRVnXNHRdpYqrRjpTVR3yy3dJRyptvMnK6dop3X30MpTV11qdNO70ST0vprZdgZjk2dc0M65o63lj9MPSv2GWP0w9K/YGOSZ1zQzrmjreWP0w9K/YZY/TD0r9gY5JnXNDOuaOt5Y/TD0r9hlj9MPSv2Bjkmdc0M65o63lj9MPSv2GWP0w9K/YGOSZ1zQzrmjreWP0w9K/YZY/TD0r9gY5JnXNDOuaOt5Y/TD0r9hlj9MPSv2Bjkmdc0M65o63lj9MPSv2GWP0w9K/YGOSZ1zQzrmjreWP0w9K/YZY/TD0r9gY5JnXNDOuaOt5Y/TD0r9hlj9MPSv2Bjkmdc0M65o63lj9MPSv2GWP0w9K/YGOSZ1zQzrmjreWP0w9K/YZY/TD0r9gY5JnXNDOuaOt5Y/TD0r9hlj9MPSv2Bjkmdc0M65o63lj9MPSv2GWP0w9K/YGOSZ1zQzrmjreWP0w9K/Y9yx+mHpX7Axj9qYSVSeHyuolvLVMlSUOrllxytfzZSLF4xPLFZY5nq45nq6zvdu+lqfqNi3a5DdLkGtar1sdKM0ouDyX6sVp1Yvqu+sm8yt/y/KmJxWHjOpLWmpVJWmtWt9HLFO/GUJSsuaSNm3SG6QGGlOtF4WU4yk8st6qa0zNRtpfgncx9ali8srKpfLKyzP6Ktu2/Fw7eRtO6Q3SAwcauKc0rNfxWpdRWUEqmXK763tDXszfZQnj8dZJwy1JKbhHLmbtCDSfDTNJpv/wBzad0hukBAtW31NqUFRyvPGzzZuyz4W/58sDgKGMpxi6irP+5bipym31nvL5paO2jitLc+zbd0hukBg9pLEOdKpRzWjTnJw4dbqqOZXV3Zz0el0XNn1MTKo96rU1HRuKTl15JX10eVRdvHs4GY3SG6QGr4d4und7urKeT+JKU245s6V4Ru1ls5NZVwWqb0Lyq46WXRR0Sl1E/5ajb4840/UbFukN0gNdeIxzdTqRilFZVZv6OFk+c+fZpprlsLKUqUHOLjNxTkna6dteBM3SG6QFgF/dIbpAWAX90hukBYBf3SG6QFgF/dIbpAWAX90hukBYBf3SG6QFgw+0MZTjXhTkt5vmqbSjnScczafK6nYz+6Raq4KnP5o5k4uDTbs1K17rg+CAw8lKG7upVJSi7RqNZoSytJJJv6mm9bLtMnThljGPGyS/BfhhacW3GCi5O7aVr+fMr3SAsAv7pDdICwC/ukN0gLAL+6Q3SAsAv7pDdICwC/ukN0gLAL+6Q3SAsAv7pDdICwC/ukN0gLAL+6Q3SAsAv7pDdICwC/ukN0gLAL+6Q3SAsAv7pDdICwC/ukN0gKzw9PAPQAAAAAAAAAAAAAAAAAAAAAAAAAAAAAAAAAAAAAAAAAAAAAAAAAAAAAAAAAAAAAAAAAAAAAAAAAAPD0ADw5r0hYzu8P6Z+4dIWM7vD+mfuA6WDmnSFjO7w/pn7h0hYzu8P6Z+4DpYOadIWM7vD+mfuHSFjO7w/pn7gOlg5p0hYzu8P6Z+4dIWM7vD+mfuA6WDmnSFjO7w/pn7h0hYzu8P6Z+4DpYOadIWM7vD+mfuHSFjO7w/pn7gOlg5p0hYzu8P6Z+4dIWM7vD+mfuA6WDmnSFjO7w/pn7h0hYzu8P6Z+4DpYOadIWM7vD+mfuHSFjO7w/pn7gOlg5p0hYzu8P6Z+4dIWM7vD+mfuA6WDmnSFjO7w/pn7h0hYzu8P6Z+4DpYOadIWM7vD+mfuHSFjO7w/pn7gOlg5p0hYzu8P6Z+4dIWM7vD+mfuA6WDmnSFjO7w/pn7h0hYzu8P6Z+4DpYOadIWM7vD+mfuHSFjO7w/pn7gOlg5p0hYzu8P6Z+4dIWM7vD+mfuA6WDmnSFjO7w/pn7h0hYzu8P6Z+4DpYOadIWM7vD+mfuHSFjO7w/pn7gOlg5p0hYzu8P6Z+4dIWM7vD+mfuA6WDmnSFjO7w/pn7h0hYzu8P6Z+4DpYOadIWM7vD+mfuHSFjO7w/pn7gOlg5p0hYzu8P6Z+4dIWM7vD+mfuA6WDmnSFjO7w/pn7h0hYzu8P6Z+4DpYOadIWM7vD+mfuHSFjO7w/pn7gOlg5p0hYzu8P6Z+4dIWM7vD+mfuA6WDmnSFjO7w/pn7h0hYzu8P6Z+4DpYOadIWM7vD+mfuHSFjO7w/pn7gOlg5p0hYzu8P6Z+4dIWM7vD+mfuA6WDmnSFjO7w/pn7h0hYzu8P6Z+4DpYOadIWM7vD+mfuHSFjO7w/pn7gNTAAAAAAAAAAAAAAAAAAAAAAAAAAAAAAAAAAAAAAAAAAAAAAAAAAAAAAAAAAAAAAAAAAAAAAAAAAAAAAAAAAAAAAAAAAAAAAAAAAAAAAAAAAAAAAAAAAAAAAAAAAAAAAAAAAAAAAAAAAAAAAAAAAAAAAAAAAAAAAAAAAAAAAAAAAAAAAAAAAAAAAAAAAAAAAAAAAAAAAAAAAAAAAAAAAAAAAAAAAAAAAAAAAAAAAAAAAAAAAAB/9k=\n"
                },
                "metadata": {}
              }
            ]
          }
        },
        "28da2b9d9abf4919b2e7252d3c1fd5d3": {
          "model_module": "@jupyter-widgets/output",
          "model_name": "OutputModel",
          "model_module_version": "1.0.0",
          "state": {
            "_dom_classes": [],
            "_model_module": "@jupyter-widgets/output",
            "_model_module_version": "1.0.0",
            "_model_name": "OutputModel",
            "_view_count": null,
            "_view_module": "@jupyter-widgets/output",
            "_view_module_version": "1.0.0",
            "_view_name": "OutputView",
            "layout": "IPY_MODEL_fbe21e9ebec24e899fd8a08593f8d324",
            "msg_id": "",
            "outputs": [
              {
                "output_type": "stream",
                "name": "stdout",
                "text": [
                  "Video available at https://www.bilibili.com/video/BV1Rb4y1U7BW\n"
                ]
              },
              {
                "output_type": "display_data",
                "data": {
                  "text/plain": "<__main__.BiliVideo at 0x7f28b3ddc7d0>",
                  "text/html": "\n        <iframe\n            width=\"854\"\n            height=\"480\"\n            src=\"https://player.bilibili.com/player.html?bvid=BV1Rb4y1U7BW&page=1?fs=1\"\n            frameborder=\"0\"\n            allowfullscreen\n        ></iframe>\n        "
                },
                "metadata": {}
              }
            ]
          }
        },
        "44b92167fe0e4d929c881ebbce114206": {
          "model_module": "@jupyter-widgets/base",
          "model_name": "LayoutModel",
          "model_module_version": "1.2.0",
          "state": {
            "_model_module": "@jupyter-widgets/base",
            "_model_module_version": "1.2.0",
            "_model_name": "LayoutModel",
            "_view_count": null,
            "_view_module": "@jupyter-widgets/base",
            "_view_module_version": "1.2.0",
            "_view_name": "LayoutView",
            "align_content": null,
            "align_items": null,
            "align_self": null,
            "border": null,
            "bottom": null,
            "display": null,
            "flex": null,
            "flex_flow": null,
            "grid_area": null,
            "grid_auto_columns": null,
            "grid_auto_flow": null,
            "grid_auto_rows": null,
            "grid_column": null,
            "grid_gap": null,
            "grid_row": null,
            "grid_template_areas": null,
            "grid_template_columns": null,
            "grid_template_rows": null,
            "height": null,
            "justify_content": null,
            "justify_items": null,
            "left": null,
            "margin": null,
            "max_height": null,
            "max_width": null,
            "min_height": null,
            "min_width": null,
            "object_fit": null,
            "object_position": null,
            "order": null,
            "overflow": null,
            "overflow_x": null,
            "overflow_y": null,
            "padding": null,
            "right": null,
            "top": null,
            "visibility": null,
            "width": null
          }
        },
        "140196df75f14e45a17cfa7537377354": {
          "model_module": "@jupyter-widgets/base",
          "model_name": "LayoutModel",
          "model_module_version": "1.2.0",
          "state": {
            "_model_module": "@jupyter-widgets/base",
            "_model_module_version": "1.2.0",
            "_model_name": "LayoutModel",
            "_view_count": null,
            "_view_module": "@jupyter-widgets/base",
            "_view_module_version": "1.2.0",
            "_view_name": "LayoutView",
            "align_content": null,
            "align_items": null,
            "align_self": null,
            "border": null,
            "bottom": null,
            "display": null,
            "flex": null,
            "flex_flow": null,
            "grid_area": null,
            "grid_auto_columns": null,
            "grid_auto_flow": null,
            "grid_auto_rows": null,
            "grid_column": null,
            "grid_gap": null,
            "grid_row": null,
            "grid_template_areas": null,
            "grid_template_columns": null,
            "grid_template_rows": null,
            "height": null,
            "justify_content": null,
            "justify_items": null,
            "left": null,
            "margin": null,
            "max_height": null,
            "max_width": null,
            "min_height": null,
            "min_width": null,
            "object_fit": null,
            "object_position": null,
            "order": null,
            "overflow": null,
            "overflow_x": null,
            "overflow_y": null,
            "padding": null,
            "right": null,
            "top": null,
            "visibility": null,
            "width": null
          }
        },
        "fbe21e9ebec24e899fd8a08593f8d324": {
          "model_module": "@jupyter-widgets/base",
          "model_name": "LayoutModel",
          "model_module_version": "1.2.0",
          "state": {
            "_model_module": "@jupyter-widgets/base",
            "_model_module_version": "1.2.0",
            "_model_name": "LayoutModel",
            "_view_count": null,
            "_view_module": "@jupyter-widgets/base",
            "_view_module_version": "1.2.0",
            "_view_name": "LayoutView",
            "align_content": null,
            "align_items": null,
            "align_self": null,
            "border": null,
            "bottom": null,
            "display": null,
            "flex": null,
            "flex_flow": null,
            "grid_area": null,
            "grid_auto_columns": null,
            "grid_auto_flow": null,
            "grid_auto_rows": null,
            "grid_column": null,
            "grid_gap": null,
            "grid_row": null,
            "grid_template_areas": null,
            "grid_template_columns": null,
            "grid_template_rows": null,
            "height": null,
            "justify_content": null,
            "justify_items": null,
            "left": null,
            "margin": null,
            "max_height": null,
            "max_width": null,
            "min_height": null,
            "min_width": null,
            "object_fit": null,
            "object_position": null,
            "order": null,
            "overflow": null,
            "overflow_x": null,
            "overflow_y": null,
            "padding": null,
            "right": null,
            "top": null,
            "visibility": null,
            "width": null
          }
        },
        "d695d52a10444c5e93ba0f08ed76b571": {
          "model_module": "@jupyter-widgets/controls",
          "model_name": "TabModel",
          "model_module_version": "1.5.0",
          "state": {
            "_dom_classes": [],
            "_model_module": "@jupyter-widgets/controls",
            "_model_module_version": "1.5.0",
            "_model_name": "TabModel",
            "_titles": {
              "0": "Youtube",
              "1": "Bilibili"
            },
            "_view_count": null,
            "_view_module": "@jupyter-widgets/controls",
            "_view_module_version": "1.5.0",
            "_view_name": "TabView",
            "box_style": "",
            "children": [
              "IPY_MODEL_42ab2d1ff7464bb18c0a033f3e374dc0",
              "IPY_MODEL_849d88501ba24bafb666a07401aef8c0"
            ],
            "layout": "IPY_MODEL_37fde40fc1aa4f5095eb1c10e5c6604e",
            "selected_index": 0
          }
        },
        "42ab2d1ff7464bb18c0a033f3e374dc0": {
          "model_module": "@jupyter-widgets/output",
          "model_name": "OutputModel",
          "model_module_version": "1.0.0",
          "state": {
            "_dom_classes": [],
            "_model_module": "@jupyter-widgets/output",
            "_model_module_version": "1.0.0",
            "_model_name": "OutputModel",
            "_view_count": null,
            "_view_module": "@jupyter-widgets/output",
            "_view_module_version": "1.0.0",
            "_view_name": "OutputView",
            "layout": "IPY_MODEL_7fcc3c7991a747829b980e18533a718e",
            "msg_id": "",
            "outputs": [
              {
                "output_type": "stream",
                "name": "stdout",
                "text": [
                  "Video available at https://youtube.com/watch?v=plmFzAy3H5s\n"
                ]
              },
              {
                "output_type": "display_data",
                "data": {
                  "text/plain": "<IPython.lib.display.YouTubeVideo at 0x7f28b3279490>",
                  "text/html": "\n        <iframe\n            width=\"854\"\n            height=\"480\"\n            src=\"https://www.youtube.com/embed/plmFzAy3H5s?fs=1&rel=0\"\n            frameborder=\"0\"\n            allowfullscreen\n        ></iframe>\n        ",
                  "image/jpeg": "/9j/4AAQSkZJRgABAQAAAQABAAD/2wCEABALDBkYFhoaGRocHRwfHyYiIiAiITEtKCkqMTM1PC8nNis6PVBCODhLPS4wRWFHS1NWW11ePkVlbWRYbFBZW1cBERISGRYYLRsaLVc2ODhXV1dXWFdXV1dXV1dXV1dXV1dXV1dXV1dXV1dXV1dXV1dXV11XV11XV1dXV1dXV1dXV//AABEIAWgB4AMBIgACEQEDEQH/xAAbAAEAAQUBAAAAAAAAAAAAAAAABQIDBAYHAf/EAEYQAAIBAwIBCgQEAwYDBwUAAAABAgMEERIhMQUTFyJBUVNxktIUMmGBBhVUkSNSoRZCcoKxwTPR8DRiY3N0srMkQ6LD8f/EABgBAQEBAQEAAAAAAAAAAAAAAAACAQME/8QAHREBAQEAAgMBAQAAAAAAAAAAAAERAiEDEjFBE//aAAwDAQACEQMRAD8A5+AAAAAAAAAAAAAAAAAAAAAAAAAAAAAAAAAAAAAAAAAAAAAAAAAAAAAAAAAAAAAAAAAAAAAAAAAAAAAAAAAAAAAAAAAAAAAAAAAAAAAAAAAAAAAAAAAAAAAAAAAAAAAAAAAAAAAAAAAAAAAAAAAAAAAAAAAAAAAAAADb+ji98W29U/YOji98W29U/YBqANv6OL3xbb1T9g6OL3xbb1T9gGoA2/o4vfFtvVP2Do4vfFtvVP2AagDb+ji98W29U/YOji98W29U/YBqANv6OL3xbb1T9g6OL3xbb1T9gGoA2/o4vfFtvVP2Do4vfFtvVP2AagDb+ji98W29U/YOji98W29U/YBqANv6OL3xbb1T9g6OL3xbb1T9gGoA2/o4vfFtvVP2Do4vfFtvVP2AagDb+ji98W29U/YOji98W29U/YBqANv6OL3xbb1T9g6OL3xbb1T9gGoA2/o4vfFtvVP2Do4vfFtvVP2AagDb+ji98W29U/YOji98W29U/YBqANv6OL3xbb1T9g6OL3xbb1T9gGoA2/o4vfFtvVP2Do4vfFtvVP2AagC9G2k0nlbnvwsu9AWAX/hZd6Hwsu9AWAX/AIWXeh8LLvQFgF/4WXeh8LLvQFgF/wCFl3ofCy70BYBf+Fl3ofCy70BYBf8AhZd6Hwsu9AWAX/hZd6Hwsu9AWAX/AIWXeiuhYTqVIU045nOMFlvGZNJdn1AxQbJL8FXSk4upQynj5pe08X4Kun/9yh6pe0zY3GuA2X+w914lD1S9p7/Ye78Sh6pe0bGY1kGyv8D3XiUPVL2nj/BV14lD1S9o2GNbBsT/AAZdfz0PVL2lL/B9z/PR9UvaNjca+Cff4Ruf56Pql7Sn+ylx/PR/eXtGwxBAnP7K3H89L95e0L8K3H89L95e0bDHYwAawAAAAAAAAAAAAAAAAAAAAAAAAAAAAAAAAAAAAAcQp/LHyRUU0vlj5IqCQAAAAAAAAAAAAAAAAAADJ5M/7Vbf+fS/96MYv2Mmq9FrdqrBpfVSWAOjXCfPVO5Nt/TcopST4GJfXMKM0tfWaeuTa3k+z/rvPLe4ipOmpJzSzpz/ALnPk3hytSkStRIqwvKtStLXFQpxS24tt9urh3k7QgpLK3OfK46xjSgWp7ElOgQHLl1zUcReG+3uHG7cbVm/5ShS2bzLsj2kG/xBUcsJQ8nlGHXmuOW2+18SOupLU8cO3/ZHb1Rrdre5jUjqR62abyNynzNVJvqPZm1wuYzeI5+8Wv8AVE2NXWz2L3LbCnhmDeAAdUAAAAAAAAAAAAAAAAAAAAAAAAAAAAAAAAAAAAADiFL5Y+SKiml8sfJFQSAAAAAAAAAAAAAAAAAAAXbSLdWkls3Ugl5trBaL1k8V6L7qsOH+JASvKNrVhUlGo23jLae+/wBV2kVRryUm0+sm1nGf6M2nlO9iqlStJat8KPDLSW+H/oapXrZnN4xqlqSXc+H+pzsZL0zLm4qy0OnUnrWM7pQeyxFLg5fTBfrSuaVpVlOpUWqUcLXvx3e3BEbTtpyafz6ctR1PfCzjH1JP8PWcbxynUbpyp6cOHb3fNldhuz6uTekUrybi/wCJJ7fzM2HkCxqXdttL5W03J9uWSX4iu/lhQpQc6adWTcI6VHTJY88okuRnCNJuOFzijPC4Za3wT/Tfx04+LL3US/wxunOa27iPv/w3q+SePsbfWm8EZcXEFtqWTNr0zx8cc3uaLpVJQfGLwbL+H31ct5zv/RFnlPknXcQqRy03ma+i4kxybY5m2tMYt9n/AC7CrXC8LF+TIy7vZxqJR0v5cR7W2/8ATGWbBdcnUZU5RVVuWnfTJZX/ACNOuqatrmGhycYrGHu8diMlibMdcPQDq5gAAAAAAAAAAAAAAAAAAAAAAAAAAAAAAAAAAAADiFP5Y+SKiml8sfJFQSAAAAAAAAAAAAAAAAAAAXbT/jUv/Mh/qi0XLZ4qU3/348fNAbV+JZU3WTeH1MySxxxjfHa1j9jW+UOblTU4dVppKKe/3/YleVIVKlJycktfZn6r9kR9SyjGjnLklvqz/TBF+pQ2qUd+smnt5rt/c3D8P3mqnjRTgnwUE1vjfZ+X/WCDq8n0VqqPnMdii1xMy3qOCio0nGOnO8sN5W2WhZsdJZErcVP49fOWuYgtuO7mZn4ekp0KUXh/w9P3X/8ADWne6KtV09VRSjFZk84e+yzx3fAq5Oq3NF0pzquMYT1uHbjLymvrkeq5z7bbO1raKuqax/c24f8AMxoWU5Rj1kori0uJk3fKOKcnBqWrDXk1sYdrerSoN9aWdsEPbMq1cVo05KWG1HfC4s0m7vJzk3qlhtvGp4WTcak81F5mq8q0Kca7jFYWFw7yuH1y886YtC+qUt6c5QfBuLxt3Hr5RquSnrepcGeuzkllLUvpx/YxpP7HTHl130Hh6GAAAAAAAAAAAAAAAAAAAAAAAAAAAAAAAAAAAAADiFL5Y+SKiml8sfJFQSAAAAAAAAAAAAAAAAAAAXrJJ16Ke6dSCflqRZKqc3GUZLjFqS81ujRs3Le2aeVGGOL4RIN1sxiouM4xe+2NT8hXv3VWmpl5eZT4y8l2GKoU46XFzyk1uljf7k2H4yfgaiq0ozby3qbzltdy7DO5frVJyjThiMUt9+L4pfZYMT8wajhNyk8ZlKK/okyxcVo1ObWHFKWZOPFrvWe3GRN+Jy6z7G1mrSdzlZjtGPbFfQxHzk1NwjKWJNywm8R733IlVy1aRpzpU6NZU2lhNxb273kxOSOVIW8K8XGcucaxjGMLPHf6my47+vHrtJ8hXEfhoQqtaZa1F90otNr7qSx5MuVZwgv4fWk+GEa27r+E6WOrmMl9JLUv6qX9EXbPlGdNaW2452+hN4r8flzqpLndLUnxyseedka5VlzlWcuxyePLsM24vHUqKWMRjlxXfLGzf3wY1NJG8ZifJ5Par9N7Hla3hU47PvRVVnSSjzfOZx1tSSWfphvbzLSqFuTtJ6AS0AAAAAAAAAAAAAAAAAAAAAAAAAAAAAAAAAAAAAcQp/LHyRUU0vlj5IqCQAAAAAAAAAAAAAAAAAAAAAAAAAAAAAAAAAAAAB20Hh6FAAAAAAAAABrfKdO8o1LdRv6mK1dU3/BpdVOMnt1foBsgMCyk6U1Qq3Eq1WSlUi5QUeosJ/KkuLX13KrrlSlT55NtypRjKUVCUmtWdOyW/B8OAGaCK5L5ahVs43FVqGIRdRuMoxTws41cVvs1ku2nLVvWqKnGU4zkm4xqU5wckuLjqSz9gJAGC+V7fnXR1t1VNQcFGTabSeXhbLDW/AotuUYRoVKtWtGUY1Zx1KDjjEmlDHFvO23ECRBg2fK1GtUdOLnGoo6tFSnKEnHvSklleRRyLczq06rqS1ONxWgtkurGbUVt9EBIgjuW+U1a0ZS0zlNxapqMJSTnwim0mlltLfiYdhyhOvUq0o1KyUaUYKo6Dj/Fw3Ob1RST3j1Xjt2AnQaxyxC9t6cdF/UnVqTjTpwdGlhyk+3q8Est+RssE0km8tLd9/1AqAAAAAAAAAAHEKXyx8kVFNP5Y+SKgkAAAAAAAAAAAAAAAAAAAAAAAAAAAAAAAAAAAAAdsPQAoAAAAAAAAIbl/wD4vJ//AKuP/smTJ40BC8oXNOhyjb1K0404O3qwU5vEdWqDxl7ZwmWrC5hWvb+VN6ouhRSkuEv+Jun2r6onpwUliSTXc1k9S+gGo0riFTkuxlCUakLeVvKvGD1OMYrfMVvs8PH0M3lS/o3U7SlbVIVqquKdTNOWrRCLzOUmuCxth8cmwRglnCSy8vC7e88hTjHOmKWeOFgCL5GS+K5Qfbz8P/igRlO7nRspuElBSvqsJ1cJ83F1ZZnh7dy32Wcm04GlYxhYA1qE4/mNnGN07jEK+7cG47Q2zBJfXGMmf+HP+FX/APV3H/ySJWFOMUkopJcMI9SAgOW61X4iEdVJU6UZXUtUW8KCwtW/8zbX+AzeQaFaFBc9o1TbqNRTypTblJNt74zj7Elhb7HoEHbv4rlGdTjStE6UO51pLrv/ACrEfuybCWAB6AAAAAAAAAAOIU/lj5IqKaXyx8kVBIAzcrfk9OdK3pUqHMzoQkqlS3lU52Uk9UnUj8rXmsAaaCfXIVLmd5VnUdrK553C5lYz1HtnO3HPEy6XIFGnUovMnOFzQhVhOUZp68NppRWH92sBrVQZfKFKEZLTGrFuVTU5JKDxNpaO9JbP6nrgvglLC1fEzWcb40QeM924YwwStbk2lGCSqZrOlTnFa/mc9OIqOnZdb5tXFfXa5LkqhlYnPTGdanUSkpPNOm57Nwjh5WHxXcwIYEjG1ounB4qqVSjXqrrxajzbqaY405llU8N7cc/Q8s40vh5urCUv49KK0SUZLMamd2nttw8gI8EwuSaaqwoydRyq1KsIzTSjHRJxy44er5cvdYTQociqrGDhN5rRpyop43+Xns7f3W3+zAhwZ9nGi3dPTKcI0akqb1JPCksSe3HD/wBSu5sKcFWguc10adObm5LRLU4LCjjK+fbd5x+wRoJCz5PjUdsm5fxp1YvGNtCT22+pdtOTKdZUVTk8ylSjUlrWYOa3XNuKfHaLTae3eBFAzL+hShGEqU023JSjr14xjD1aI972xtj6mZSsKTnDm25x60ZScotqXNzliVKUE4vMXj5ltxysgQ4JOVrbxpTm41pOnTt5ySqRSlzsU3FdR4xnjv8A7l98lUY1adKXPSdS5q0FKLS0qEopSa0vL62WsrZMCFBNOwpSpxqTcVGFCjlKSgpSm59Zy0y26vdvlbkXd0owqzjCWuKe0u9f8+wCyAAAAAAADtoACgAAR/LV/O3oqdOMZSlUhTSk2lmUkstrzMStypd27hK6oUealOMJTpVW3ByeE3GUVlZa4D8WJu2gotKXxFDDayk9aw8dp7U5IuKzgrq6jOlGSm6dOjo1OLysvU9srgBm2d86le5pOKSoyhFPPHVBS/3L9O5pzk4wqQlJcUpJtfY1+tcxoy5YqThrinTzHONWaUFjPYt+PYUXlnOjOxlKlbU5K5hFOinFxTTThw6ya8uHDuDZ4TUlmLTXDZ5EZp5w08PDw+3uNdr3n5fVu44zGrH4ihHvqNqMqa85OD/zMl+SLH4e2p0m8ySzOX803vKX3bYGXGpFrKaaWd09tuJ46kUlJyWnbfO2/Dc1m6bp1bqyW3xVSEqf+GrtWx5aJy+4p9adDk7wbiUpL/waeJ0/t16a+zAmLjlTmadzUqwUY0W9OJpuaUc8Ox8Vh9x7X5SSnaqGmUa1RwbzwxCUuz/DghLylGVtyzqinpqTlHKzhqjDDXc/qZfKVlSb5Opc3FU5VnmCWIv+FPOUu/t7wJujcU6mdE4zxs9Mk8fsVykorLaS72yF+Gp0uVKPNwjDXbVdWlJJ6ZQxlLuyyv8AFuPgamp4XOUcvOMLnYZeewCUhcU5ScIzg5R4xUk2vNGPa3rqXFzScUlRdPDzx1RyRfL9lQo0qFSjThTrQr0lRcEotuUkpR24pxcso8q3MaNXlapOLlGMKTcU8Nrm+GezzAnKdzTlJxjUhKS4xUk2vse1LinHLlOEdOM5kljPDJrN9Zzoxs5ujbU2rmiouisOClJJxzjrJptPh5Gda2dKpyjeyqU4zcVR06llLMHlpPt+oE1zsdKlqjpfCWVjfhuUwuKcpOCnByXGKksrzRqdxRjHk67pRWmEb9RjFbKKdWGyxw4vgSfKdlRo17CVKlCElc6Mxik9LpzytvJAStG5k5VtcYwjTliMtaepYTy1/d44wy4rinr5vXDX/LqWr9uJrHKX/ZeWv8f/AOqmZnLVhRowtZU6UISjdUMSS63WmlLMuLzl5zxAm61xCnjXOMM7LVJLP7lcZp5w08bPD4EHZ29Ktf3rrRjOpB04wjNJ6abgnlJ98nLLK/w7SpwqX0aWFCNykknssU4bLuxwx2cAJsAAAABxCl8sfJFRTS+WPkioJC9Tu6sYOnGrVjB8YRnJReePVTwWSfnY0XzNZQiqdGjTdxHhqk6cZQf+eUtL8mBCq5qc3zXOT5vOeb1PR6eBXK/rvCdes1HDWaktmuDW+2OzuJKvyXS+IdNylF1rmtTpKEVpglUcY6u3j2Lgt/oYzsKXN5cqmv4dXDwo6cZSce9vD2YGDUqzkkpSlJRzhOTeMvLxnhl7ldC7q001Tq1aaby1CpKKb78J8SVu+S6CqV5JyjShVVJR104vOMt5nJZS7uL+mDDsbeHPVk9NVUadWcUvlqOHB7buP97Z7pAYruajp826k3T/AJNT0+nge1LutP5qtWWO+cnxWH29qbRk0MXMlqp04RipSlOlGMFhJbPfSsZW+M79uxXdcn06SqSc5tLmebS0vPOQlJamnjbTxXH6dgR6nLbrS2TS3eyecpfR5eV25feeKTxjLxlPGdsrg8d+7/cma/JdL4jm3KUXWuK1OkoRWiKjUcY6u3GexcFuR1nRpyp1alRzUaag8Qxl6nji9l57gW43NVRnFVKijNtzWt4k3xclndv6lMas1pxOS0504k+rnjjuzl57yWlyZDSorLTrZ1tKMlTdFVN8vCwnvv38eBbr8nUacZ1JTqSpqnTmlBxbeqUo41cOMc5x9gI2jWnTeqEpQeGsxbTw+Kyj2VxUcFTdSbhHhBybivKPBEouSaSrKlKdTM7idCDjGONlDEnl/wDibpfv32Xa0uYjWqOSjGjSk400stylUXF9vVW/9AMKldVYJxhVqQi3lqM2k334TErmo4xg6lRxjjTFzbjHHDCzhYJN8k0oVo0qlSp/EuJUYOCWyTitUs9vXWy8/oYVnTpOFy6ik3Cjqhp7Hris/wD5f6/QCxXuKlRp1Kk5tcHOTlj9yqd3Vlp1Var0/LmcnjbG2+223kZd3YU4KvGM5upQ085lLS8yUXp7VhyXHisvY9tLClNW6lOoqlw5RhhJxi1LCb7WuHDgBHupJppylhpJrL3S+VP6Ls7jIfKVbm1TVSaWZuTU5Jzc8Z1PO/D+rM6HJ1ObpuWYQdG3WU4xTnOOX83F7N4XHvXbYqcmKKlLXmEFVU33VIS0qH3cqf2k+4DDp3NSDUoVKkWo6U4zaen+XZ8PoW5Sbbbbbby23lt97Z4AAAAAAAAAO2HoAUAACzc20KsVGpHUlKMkvrF5T/cvAAY/wVLNXMIvnsc5ndS2xuvLYx6XIttHTiDeiSlDVOUtLXDTlvC+i2JAAQ91Z1Lm7oupSUaNvNzjJyTdSWOrhLglxee1ImAALE7SnKrCrKCdSCajLtSfERtKarOsoLnZRUHPtcVvgvgDH+CpYqrQmqzbqJ8JZSTz9kkWrfkqhSjTjCDxTk5wzOUmm1jOW2+DwZoAtSt4OpGq49eMXFS7k8Nr+iMPl20nXtpU4JOTnSeG+yNSMn/RMkTwDAociWtOoqkKSUo/Lu2of4Yt4j9kjJ+DpZqvQm6qSqZ3UklhJrhw2L4AjqfIdtHTim2oSjKGqcpaXHhpy3p8kZlO3hGc6kY4nU06n36dkXQBiy5OouE4OC0zqc5Jb7zynq/dIu1reFRwc45cJa4/SWGs/s2XQBi1OT6Mo1oygnGs81Fl9bZL/RIuV7aFRRU46lGUZr6Si8p/Zl4AQnK9o51VJ2SuEo4jOFVQmu+MsuPV+78i/wAhWEqEKrnGEJVamvm4fLCKioxgnhZ2iiUPAPQAAAAHEKfyx8kVFNL5Y+SKgkLkribTTk8NQTXeobRX27C2Z9Xk6MVUjzknVp04VJQ5vq9Zw6qlqy2ucXYBZhyjXjrxVmtcpSlvxlL5n9G+3Ba+In/M/k5v/J/L5ElPkVJxXO7aqkJtxjmLhBze0ZvuxhtNdxanyZBr+HVlKTpQrRjKmopxlNQw3qeJZfdjHaBZXKdxqcudllpJ8N8cMrG7XfxMeFWUZqcZSU08qSb1Z7895J1uRVCSTrKOKnNyclFLt60evusrHW08VnG+MC9tuano6/BPrxUXv27Npr6pgVz5TuJSUnVk2k0uGMPitPDft23Lda6qVM65uWdL3/7qaj+ybRZAGTHlCuteKs1rcpS34uXzP6N9uOIs76dGNRU9nNRWruw88ODyYwAyPjq2rVzk9WtzznfU1hv9tvLYpq3dSaalNtNJNdmE20sdybZZAF93lVyU9ctSnzifapbdbz6sf2KHXm4aHJ6cKOnswm2l9nJ/uWwBJWXLNSk3Lrym6nOZ5xpOS7ZRxvw7Gs8HlGDRrzptuEmm4uLe26fFP9kWwBfqXtWcFTlUk4LGIt93DPfjszwLseU6saMKUJOCipp4fHU8vy442MMAZFO+rR+WpJbRXZwj8vk12Pij2d7J0XS361TnaknLOuW+Nuzi+/L8kYwAAAAAAAAAAADtoACgAAAAAAAAAAUVKkYRcpSUYri28Jfcop3VOUXKNSEop4bUk1nuyWOV88w8Yzrp4zw+eJi3dtPrVZqCb5uGmGXn+Inlt4z9Nu/vAlwRE7qfOKUZS08+qWlyj34a04zjtTzn7FVGpU/hzdST1V5wccLTpUppLh2YW4EoemBdR/8AqaD1NbT22w+G3DtMe2uJNW8+dcp1JYnT2wtnqSWMrS1j/UCXPG0uLwYN/XnTnFJ7VIuEfpUysP8AZt/5TEndVJReZf8ADlSpy2W8+cSk8P6Ya/xATRTCakspp7tbPtWzX7kZKrUSdTnJbXKp6dtOlzUccM8GZXJ0NMJLKeatV7PPGcn/ALgZYAAAAAeHp4B6AAAAA4hS+WPkioppfLHyRUEhIy5U/gOmlPXKEIOTcdlFxaw1BSfyrGZPC+xHADLnylWlxklvKTxCEcuUXGTeFu2m0WfiZ4xq25tUuC+RS1KP7rOeJaAGTO/qykpScHLOW+ahmTw1mT09bi/myU1ruc1iTjjEVhQiklHOEsLqrrPhxzuWAAAAAAAAAAAAAAAAAAAAAAAAAAAAAAAdsPTw9CgAAAAAAAAAAeNJ8dw1niegCjmo51aY6u/G/wC57pXcuOfv3lQAplBPGUnh5WVwfeeKnFSclFKT4vG7+5WAPGk8bcDzSu5cc8O3vKgBTpXcuOfv3nqSXBY7T0AAAAAAA8PQAAAAAAcQp/LHyRUU0/lj5IqCQAAAAAAAAAAAAAAAAAAAAAAAAAAAAAAAAAAAAB20ABQAAAAAAAAAAAAAAAAAAAAAAAAAAAAAAAAAAAAA4hS+WPkioppfLHyRUEgAAAAAAAAAAAAAAAAAAAAAAAAAAAAAAAAAAAADtoPD0KAAAAAAAAAAAAAAAAAAAAAAAAAAAAAAAAAAAAAHEKXyx8kVFNP5Y+SKgkAAAAAAAAAAAAAAAAAAAAAAAAAAAAAAAAAAAAAdsBGsx6N/QqNKFalNvZKM03wb7H3Jv7MKTQI7BS5xTSbSbeEs8Xu8f0f7ASYI7Ba+Ip4T1wxJZT1Lfy7+KAlgRcKsZZ0yjLHHDzj/AKwysCRBHFmtc06bip1IQcvlUpJN+WeIEuCMhOMk2mmk2nh9qeGvszylUjOKlCSlF8HF5T+4EoCJr3FOmk6k4QTeFqkll9yyXAJIEdg8AkgRoAkgRoAkgRoAkgRoAkgRoAkgRoAkj0jCzdVXCHVWZN4ivrx/ok39gOdw/D96opfC1uC/unv9n739LW9Judao3RlOM5qe+eck4uLhqaapxW+64dq7zI5Hp1I0kqrjrWVKMIpR1Zbcl35yn/sgzGifkF7+lrekfkF7+lrek6SAY5t+QXv6Wt6R+QXv6Wt6TpIBjm35Be/pa3pH5Be/pa3pOkgGObfkF7+lrekfkF7+lrek6SAY5t+QXv6Wt6R+QXv6Wt6TpIBjm35Be/pa3pH5Be/pa3pOkgGObfkF7+lrekfkF7+lrek6SAY5t+QXv6Wt6R+QXv6Wt6TpIBjm35Be/pa3pH5Be/pa3pOkgGObfkF7+lrekfkF7+lrek6SAY5t+QXv6Wt6R+QXv6Wt6TpIBjm39n739LW9I/IL39LW9J0kAxzb8gvf0tb0j8gvf0tb0nSQDHNvyC9/S1vSP7P3v6Wt6TpIBgRNxyTUlTlGFRQbqVp5WV88ZpLbuck/sbAA1rsuR5pvRVeG5Nxc54a1qSi3nKWFJbd/aW4cgy1RcpqW8HJ5ll6Y1I4znh11vx234mzACB5Lsq1Os3UnOUIQjGOX803GKqT48OosZ7ZSLdPkqrzNKlKcMU46VjO+8Xlr/KbEANeXJNRYxUTSlnQ3JJ/N2p9mpP8A6yJclVdVNxrNaajnLrPf+Jqx27aVpxsvM2EAa9yTydVjQlGtOSdSlCLUZtyjJRalLU2+s89m2yPL7kR1I04xqy0wouk9Ty5puDak+5qLTxh7mxACHt7KcYVqcnBwnKrKOM568m8Pyz2GCuRKqWmNZpaFFNSlnGhR0YzhLKcs8cs2YAQfKHJs5tOlKMcUnS6ybwm08p/bDT4lmXJFZ1HJ13penKTaylKD4Lg8RkuL+bs4GxADWJch1tKjG4kl1crXLdpTTep5x80Xw/u+TUhY2dSlUqylUc4zxhN5a++F+2/2WxLgDFBlADFBlADFBlADFBlADFBlADFBlADFMDlirUhSzSgnNYcHKSUdTelReXnL1NL/AFJkNfQDXacG4J6ZRrYSi4wk3HThOLnJpN5UlnKyntniSlvBxj1sapNyljhl9i8lhfYzgBigygBigygBigygBigygBigygBigygBigygBigygBigygBigygBigygBigygBigygBigygB6eHp4B6AAAAAAAAAAAAAAAAAAAAAAAAAAAAAAAAAAAAAAAAAAAAAAAAAAAAAAAAAAAAAAAAAAAAAAAAAAAAAHhzXpCvPDt/TP3jpCvPDt/TP3gdLBzTpCvPDt/TP3jpCvPDt/TP3gdLBzTpCvPDt/TP3jpCvPDt/TP3gdLBzTpCvPDt/TP3jpCvPDt/TP3gdLBzTpCvPDt/TP3jpCvPDt/TP3gdLBzTpCvPDt/TP3jpCvPDt/TP3gdLBzTpCvPDt/TP3jpCvPDt/TP3gdLBzTpCvPDt/TP3jpCvPDt/TP3gdLBzTpCvPDt/TP3jpCvPDt/TP3gdLBzTpCvPDt/TP3jpCvPDt/TP3gdLBzTpCvPDt/TP3jpCvPDt/TP3gdLBzTpCvPDt/TP3jpCvPDt/TP3gdLBzTpCvPDt/TP3jpCvPDt/TP3gdLBzTpCvPDt/TP3jpCvPDt/TP3gdLBzTpCvPDt/TP3jpCvPDt/TP3gdLBzTpCvPDt/TP3jpCvPDt/TP3gdLBzTpCvPDt/TP3jpCvPDt/TP3gdLBzTpCvPDt/TP3jpCvPDt/TP3gdLBzTpCvPDt/TP3jpCvPDt/TP3gdLBzTpCvPDt/TP3jpCvPDt/TP3gdLBzTpCvPDt/TP3jpCvPDt/TP3gdLBzTpCvPDt/TP3jpCvPDt/TP3gdLBzTpCvPDt/TP3jpCvPDt/TP3gdLBzTpCvPDt/TP3jpCvPDt/TP3gdLBzTpCvPDt/TP3jpCvPDt/TP3gdLBzTpCvPDt/TP3jpCvPDt/TP3gdLBzTpCvPDt/TP3jpCvPDt/TP3gdLBzTpCvPDt/TP3jpCvPDt/TP3gdLBzTpCvPDt/TP3jpCvPDt/TP3gdLBzTpCvPDt/TP3jpCvPDt/TP3gamAAAAAAAAAAAAAAAAAAAAAAAAAAAAAAAAAAAAAAAAAAAAAAAAAAAAAAAAAAAAAAAAAAAAAAAAAAAAAAAAAAAAAAAAAAAAAAAAAAAAAAAAAAAAAAAAAAAAAAAAAAAAAAAAAAAAAAAAAAAAAAAAAAAAAAAAAAAAAAAAAAAAAAAAAAAAAAAAAAAAAAAAAAAAAAAAAAAAAAAAAAAAAAAAAAAAAAAAAAAAAAAAAAAAAAAAAAAAAAAD/2Q==\n"
                },
                "metadata": {}
              }
            ]
          }
        },
        "849d88501ba24bafb666a07401aef8c0": {
          "model_module": "@jupyter-widgets/output",
          "model_name": "OutputModel",
          "model_module_version": "1.0.0",
          "state": {
            "_dom_classes": [],
            "_model_module": "@jupyter-widgets/output",
            "_model_module_version": "1.0.0",
            "_model_name": "OutputModel",
            "_view_count": null,
            "_view_module": "@jupyter-widgets/output",
            "_view_module_version": "1.0.0",
            "_view_name": "OutputView",
            "layout": "IPY_MODEL_4717d11d101b4c8aaae27b451a93e961",
            "msg_id": "",
            "outputs": [
              {
                "output_type": "stream",
                "name": "stdout",
                "text": [
                  "Video available at https://www.bilibili.com/video/BV1bh411B7S4\n"
                ]
              },
              {
                "output_type": "display_data",
                "data": {
                  "text/plain": "<__main__.BiliVideo at 0x7f28b3279d90>",
                  "text/html": "\n        <iframe\n            width=\"854\"\n            height=\"480\"\n            src=\"https://player.bilibili.com/player.html?bvid=BV1bh411B7S4&page=1?fs=1\"\n            frameborder=\"0\"\n            allowfullscreen\n        ></iframe>\n        "
                },
                "metadata": {}
              }
            ]
          }
        },
        "37fde40fc1aa4f5095eb1c10e5c6604e": {
          "model_module": "@jupyter-widgets/base",
          "model_name": "LayoutModel",
          "model_module_version": "1.2.0",
          "state": {
            "_model_module": "@jupyter-widgets/base",
            "_model_module_version": "1.2.0",
            "_model_name": "LayoutModel",
            "_view_count": null,
            "_view_module": "@jupyter-widgets/base",
            "_view_module_version": "1.2.0",
            "_view_name": "LayoutView",
            "align_content": null,
            "align_items": null,
            "align_self": null,
            "border": null,
            "bottom": null,
            "display": null,
            "flex": null,
            "flex_flow": null,
            "grid_area": null,
            "grid_auto_columns": null,
            "grid_auto_flow": null,
            "grid_auto_rows": null,
            "grid_column": null,
            "grid_gap": null,
            "grid_row": null,
            "grid_template_areas": null,
            "grid_template_columns": null,
            "grid_template_rows": null,
            "height": null,
            "justify_content": null,
            "justify_items": null,
            "left": null,
            "margin": null,
            "max_height": null,
            "max_width": null,
            "min_height": null,
            "min_width": null,
            "object_fit": null,
            "object_position": null,
            "order": null,
            "overflow": null,
            "overflow_x": null,
            "overflow_y": null,
            "padding": null,
            "right": null,
            "top": null,
            "visibility": null,
            "width": null
          }
        },
        "7fcc3c7991a747829b980e18533a718e": {
          "model_module": "@jupyter-widgets/base",
          "model_name": "LayoutModel",
          "model_module_version": "1.2.0",
          "state": {
            "_model_module": "@jupyter-widgets/base",
            "_model_module_version": "1.2.0",
            "_model_name": "LayoutModel",
            "_view_count": null,
            "_view_module": "@jupyter-widgets/base",
            "_view_module_version": "1.2.0",
            "_view_name": "LayoutView",
            "align_content": null,
            "align_items": null,
            "align_self": null,
            "border": null,
            "bottom": null,
            "display": null,
            "flex": null,
            "flex_flow": null,
            "grid_area": null,
            "grid_auto_columns": null,
            "grid_auto_flow": null,
            "grid_auto_rows": null,
            "grid_column": null,
            "grid_gap": null,
            "grid_row": null,
            "grid_template_areas": null,
            "grid_template_columns": null,
            "grid_template_rows": null,
            "height": null,
            "justify_content": null,
            "justify_items": null,
            "left": null,
            "margin": null,
            "max_height": null,
            "max_width": null,
            "min_height": null,
            "min_width": null,
            "object_fit": null,
            "object_position": null,
            "order": null,
            "overflow": null,
            "overflow_x": null,
            "overflow_y": null,
            "padding": null,
            "right": null,
            "top": null,
            "visibility": null,
            "width": null
          }
        },
        "4717d11d101b4c8aaae27b451a93e961": {
          "model_module": "@jupyter-widgets/base",
          "model_name": "LayoutModel",
          "model_module_version": "1.2.0",
          "state": {
            "_model_module": "@jupyter-widgets/base",
            "_model_module_version": "1.2.0",
            "_model_name": "LayoutModel",
            "_view_count": null,
            "_view_module": "@jupyter-widgets/base",
            "_view_module_version": "1.2.0",
            "_view_name": "LayoutView",
            "align_content": null,
            "align_items": null,
            "align_self": null,
            "border": null,
            "bottom": null,
            "display": null,
            "flex": null,
            "flex_flow": null,
            "grid_area": null,
            "grid_auto_columns": null,
            "grid_auto_flow": null,
            "grid_auto_rows": null,
            "grid_column": null,
            "grid_gap": null,
            "grid_row": null,
            "grid_template_areas": null,
            "grid_template_columns": null,
            "grid_template_rows": null,
            "height": null,
            "justify_content": null,
            "justify_items": null,
            "left": null,
            "margin": null,
            "max_height": null,
            "max_width": null,
            "min_height": null,
            "min_width": null,
            "object_fit": null,
            "object_position": null,
            "order": null,
            "overflow": null,
            "overflow_x": null,
            "overflow_y": null,
            "padding": null,
            "right": null,
            "top": null,
            "visibility": null,
            "width": null
          }
        },
        "0f599edddf1d4511a4becdbad69e92e2": {
          "model_module": "@jupyter-widgets/controls",
          "model_name": "TabModel",
          "model_module_version": "1.5.0",
          "state": {
            "_dom_classes": [],
            "_model_module": "@jupyter-widgets/controls",
            "_model_module_version": "1.5.0",
            "_model_name": "TabModel",
            "_titles": {
              "0": "Youtube",
              "1": "Bilibili"
            },
            "_view_count": null,
            "_view_module": "@jupyter-widgets/controls",
            "_view_module_version": "1.5.0",
            "_view_name": "TabView",
            "box_style": "",
            "children": [
              "IPY_MODEL_d73a25daeb2a480da5b7a6fbb687d6de",
              "IPY_MODEL_16a9f21b55cf446eafdf4f53b8079f3a"
            ],
            "layout": "IPY_MODEL_3cecd34149204ed59a6a882ed438676c",
            "selected_index": 0
          }
        },
        "d73a25daeb2a480da5b7a6fbb687d6de": {
          "model_module": "@jupyter-widgets/output",
          "model_name": "OutputModel",
          "model_module_version": "1.0.0",
          "state": {
            "_dom_classes": [],
            "_model_module": "@jupyter-widgets/output",
            "_model_module_version": "1.0.0",
            "_model_name": "OutputModel",
            "_view_count": null,
            "_view_module": "@jupyter-widgets/output",
            "_view_module_version": "1.0.0",
            "_view_name": "OutputView",
            "layout": "IPY_MODEL_467a108fc8134d76b2fbeafee95c1ce4",
            "msg_id": "",
            "outputs": [
              {
                "output_type": "stream",
                "name": "stdout",
                "text": [
                  "Video available at https://youtube.com/watch?v=q7181lvoNpM\n"
                ]
              },
              {
                "output_type": "display_data",
                "data": {
                  "text/plain": "<IPython.lib.display.YouTubeVideo at 0x7f289f720210>",
                  "text/html": "\n        <iframe\n            width=\"854\"\n            height=\"480\"\n            src=\"https://www.youtube.com/embed/q7181lvoNpM?fs=1&rel=0\"\n            frameborder=\"0\"\n            allowfullscreen\n        ></iframe>\n        ",
                  "image/jpeg": "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\n"
                },
                "metadata": {}
              }
            ]
          }
        },
        "16a9f21b55cf446eafdf4f53b8079f3a": {
          "model_module": "@jupyter-widgets/output",
          "model_name": "OutputModel",
          "model_module_version": "1.0.0",
          "state": {
            "_dom_classes": [],
            "_model_module": "@jupyter-widgets/output",
            "_model_module_version": "1.0.0",
            "_model_name": "OutputModel",
            "_view_count": null,
            "_view_module": "@jupyter-widgets/output",
            "_view_module_version": "1.0.0",
            "_view_name": "OutputView",
            "layout": "IPY_MODEL_02e1ba9669b94ec28664dc7497d96072",
            "msg_id": "",
            "outputs": [
              {
                "output_type": "stream",
                "name": "stdout",
                "text": [
                  "Video available at https://www.bilibili.com/video/BV1WA411w7mw\n"
                ]
              },
              {
                "output_type": "display_data",
                "data": {
                  "text/plain": "<__main__.BiliVideo at 0x7f28b3dd8e50>",
                  "text/html": "\n        <iframe\n            width=\"854\"\n            height=\"480\"\n            src=\"https://player.bilibili.com/player.html?bvid=BV1WA411w7mw&page=1?fs=1\"\n            frameborder=\"0\"\n            allowfullscreen\n        ></iframe>\n        "
                },
                "metadata": {}
              }
            ]
          }
        },
        "3cecd34149204ed59a6a882ed438676c": {
          "model_module": "@jupyter-widgets/base",
          "model_name": "LayoutModel",
          "model_module_version": "1.2.0",
          "state": {
            "_model_module": "@jupyter-widgets/base",
            "_model_module_version": "1.2.0",
            "_model_name": "LayoutModel",
            "_view_count": null,
            "_view_module": "@jupyter-widgets/base",
            "_view_module_version": "1.2.0",
            "_view_name": "LayoutView",
            "align_content": null,
            "align_items": null,
            "align_self": null,
            "border": null,
            "bottom": null,
            "display": null,
            "flex": null,
            "flex_flow": null,
            "grid_area": null,
            "grid_auto_columns": null,
            "grid_auto_flow": null,
            "grid_auto_rows": null,
            "grid_column": null,
            "grid_gap": null,
            "grid_row": null,
            "grid_template_areas": null,
            "grid_template_columns": null,
            "grid_template_rows": null,
            "height": null,
            "justify_content": null,
            "justify_items": null,
            "left": null,
            "margin": null,
            "max_height": null,
            "max_width": null,
            "min_height": null,
            "min_width": null,
            "object_fit": null,
            "object_position": null,
            "order": null,
            "overflow": null,
            "overflow_x": null,
            "overflow_y": null,
            "padding": null,
            "right": null,
            "top": null,
            "visibility": null,
            "width": null
          }
        },
        "467a108fc8134d76b2fbeafee95c1ce4": {
          "model_module": "@jupyter-widgets/base",
          "model_name": "LayoutModel",
          "model_module_version": "1.2.0",
          "state": {
            "_model_module": "@jupyter-widgets/base",
            "_model_module_version": "1.2.0",
            "_model_name": "LayoutModel",
            "_view_count": null,
            "_view_module": "@jupyter-widgets/base",
            "_view_module_version": "1.2.0",
            "_view_name": "LayoutView",
            "align_content": null,
            "align_items": null,
            "align_self": null,
            "border": null,
            "bottom": null,
            "display": null,
            "flex": null,
            "flex_flow": null,
            "grid_area": null,
            "grid_auto_columns": null,
            "grid_auto_flow": null,
            "grid_auto_rows": null,
            "grid_column": null,
            "grid_gap": null,
            "grid_row": null,
            "grid_template_areas": null,
            "grid_template_columns": null,
            "grid_template_rows": null,
            "height": null,
            "justify_content": null,
            "justify_items": null,
            "left": null,
            "margin": null,
            "max_height": null,
            "max_width": null,
            "min_height": null,
            "min_width": null,
            "object_fit": null,
            "object_position": null,
            "order": null,
            "overflow": null,
            "overflow_x": null,
            "overflow_y": null,
            "padding": null,
            "right": null,
            "top": null,
            "visibility": null,
            "width": null
          }
        },
        "02e1ba9669b94ec28664dc7497d96072": {
          "model_module": "@jupyter-widgets/base",
          "model_name": "LayoutModel",
          "model_module_version": "1.2.0",
          "state": {
            "_model_module": "@jupyter-widgets/base",
            "_model_module_version": "1.2.0",
            "_model_name": "LayoutModel",
            "_view_count": null,
            "_view_module": "@jupyter-widgets/base",
            "_view_module_version": "1.2.0",
            "_view_name": "LayoutView",
            "align_content": null,
            "align_items": null,
            "align_self": null,
            "border": null,
            "bottom": null,
            "display": null,
            "flex": null,
            "flex_flow": null,
            "grid_area": null,
            "grid_auto_columns": null,
            "grid_auto_flow": null,
            "grid_auto_rows": null,
            "grid_column": null,
            "grid_gap": null,
            "grid_row": null,
            "grid_template_areas": null,
            "grid_template_columns": null,
            "grid_template_rows": null,
            "height": null,
            "justify_content": null,
            "justify_items": null,
            "left": null,
            "margin": null,
            "max_height": null,
            "max_width": null,
            "min_height": null,
            "min_width": null,
            "object_fit": null,
            "object_position": null,
            "order": null,
            "overflow": null,
            "overflow_x": null,
            "overflow_y": null,
            "padding": null,
            "right": null,
            "top": null,
            "visibility": null,
            "width": null
          }
        },
        "68e12a45c58a421e819618b77dd645d1": {
          "model_module": "@jupyter-widgets/controls",
          "model_name": "TabModel",
          "model_module_version": "1.5.0",
          "state": {
            "_dom_classes": [],
            "_model_module": "@jupyter-widgets/controls",
            "_model_module_version": "1.5.0",
            "_model_name": "TabModel",
            "_titles": {
              "0": "Youtube",
              "1": "Bilibili"
            },
            "_view_count": null,
            "_view_module": "@jupyter-widgets/controls",
            "_view_module_version": "1.5.0",
            "_view_name": "TabView",
            "box_style": "",
            "children": [
              "IPY_MODEL_bcdb99a65fa04afe8aa2037fe670e4d0",
              "IPY_MODEL_baf1797bd94248928b3cdbabd01bced6"
            ],
            "layout": "IPY_MODEL_e3de711265b64a958e3175ef9b79c0ce",
            "selected_index": 0
          }
        },
        "bcdb99a65fa04afe8aa2037fe670e4d0": {
          "model_module": "@jupyter-widgets/output",
          "model_name": "OutputModel",
          "model_module_version": "1.0.0",
          "state": {
            "_dom_classes": [],
            "_model_module": "@jupyter-widgets/output",
            "_model_module_version": "1.0.0",
            "_model_name": "OutputModel",
            "_view_count": null,
            "_view_module": "@jupyter-widgets/output",
            "_view_module_version": "1.0.0",
            "_view_name": "OutputView",
            "layout": "IPY_MODEL_6c37228007714334bc17949d3cfcc9a8",
            "msg_id": "",
            "outputs": [
              {
                "output_type": "stream",
                "name": "stdout",
                "text": [
                  "Video available at https://youtube.com/watch?v=uQ26iIUzmtw\n"
                ]
              },
              {
                "output_type": "display_data",
                "data": {
                  "text/plain": "<IPython.lib.display.YouTubeVideo at 0x7f297991e3d0>",
                  "text/html": "\n        <iframe\n            width=\"854\"\n            height=\"480\"\n            src=\"https://www.youtube.com/embed/uQ26iIUzmtw?fs=1&rel=0\"\n            frameborder=\"0\"\n            allowfullscreen\n        ></iframe>\n        ",
                  "image/jpeg": "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\n"
                },
                "metadata": {}
              }
            ]
          }
        },
        "baf1797bd94248928b3cdbabd01bced6": {
          "model_module": "@jupyter-widgets/output",
          "model_name": "OutputModel",
          "model_module_version": "1.0.0",
          "state": {
            "_dom_classes": [],
            "_model_module": "@jupyter-widgets/output",
            "_model_module_version": "1.0.0",
            "_model_name": "OutputModel",
            "_view_count": null,
            "_view_module": "@jupyter-widgets/output",
            "_view_module_version": "1.0.0",
            "_view_name": "OutputView",
            "layout": "IPY_MODEL_e610bdadb129403da3719b6b4d6c4230",
            "msg_id": "",
            "outputs": [
              {
                "output_type": "stream",
                "name": "stdout",
                "text": [
                  "Video available at https://www.bilibili.com/video/BV1a64y1s7Sh\n"
                ]
              },
              {
                "output_type": "display_data",
                "data": {
                  "text/plain": "<__main__.BiliVideo at 0x7f28b2ec8910>",
                  "text/html": "\n        <iframe\n            width=\"854\"\n            height=\"480\"\n            src=\"https://player.bilibili.com/player.html?bvid=BV1a64y1s7Sh&page=1?fs=1\"\n            frameborder=\"0\"\n            allowfullscreen\n        ></iframe>\n        "
                },
                "metadata": {}
              }
            ]
          }
        },
        "e3de711265b64a958e3175ef9b79c0ce": {
          "model_module": "@jupyter-widgets/base",
          "model_name": "LayoutModel",
          "model_module_version": "1.2.0",
          "state": {
            "_model_module": "@jupyter-widgets/base",
            "_model_module_version": "1.2.0",
            "_model_name": "LayoutModel",
            "_view_count": null,
            "_view_module": "@jupyter-widgets/base",
            "_view_module_version": "1.2.0",
            "_view_name": "LayoutView",
            "align_content": null,
            "align_items": null,
            "align_self": null,
            "border": null,
            "bottom": null,
            "display": null,
            "flex": null,
            "flex_flow": null,
            "grid_area": null,
            "grid_auto_columns": null,
            "grid_auto_flow": null,
            "grid_auto_rows": null,
            "grid_column": null,
            "grid_gap": null,
            "grid_row": null,
            "grid_template_areas": null,
            "grid_template_columns": null,
            "grid_template_rows": null,
            "height": null,
            "justify_content": null,
            "justify_items": null,
            "left": null,
            "margin": null,
            "max_height": null,
            "max_width": null,
            "min_height": null,
            "min_width": null,
            "object_fit": null,
            "object_position": null,
            "order": null,
            "overflow": null,
            "overflow_x": null,
            "overflow_y": null,
            "padding": null,
            "right": null,
            "top": null,
            "visibility": null,
            "width": null
          }
        },
        "6c37228007714334bc17949d3cfcc9a8": {
          "model_module": "@jupyter-widgets/base",
          "model_name": "LayoutModel",
          "model_module_version": "1.2.0",
          "state": {
            "_model_module": "@jupyter-widgets/base",
            "_model_module_version": "1.2.0",
            "_model_name": "LayoutModel",
            "_view_count": null,
            "_view_module": "@jupyter-widgets/base",
            "_view_module_version": "1.2.0",
            "_view_name": "LayoutView",
            "align_content": null,
            "align_items": null,
            "align_self": null,
            "border": null,
            "bottom": null,
            "display": null,
            "flex": null,
            "flex_flow": null,
            "grid_area": null,
            "grid_auto_columns": null,
            "grid_auto_flow": null,
            "grid_auto_rows": null,
            "grid_column": null,
            "grid_gap": null,
            "grid_row": null,
            "grid_template_areas": null,
            "grid_template_columns": null,
            "grid_template_rows": null,
            "height": null,
            "justify_content": null,
            "justify_items": null,
            "left": null,
            "margin": null,
            "max_height": null,
            "max_width": null,
            "min_height": null,
            "min_width": null,
            "object_fit": null,
            "object_position": null,
            "order": null,
            "overflow": null,
            "overflow_x": null,
            "overflow_y": null,
            "padding": null,
            "right": null,
            "top": null,
            "visibility": null,
            "width": null
          }
        },
        "e610bdadb129403da3719b6b4d6c4230": {
          "model_module": "@jupyter-widgets/base",
          "model_name": "LayoutModel",
          "model_module_version": "1.2.0",
          "state": {
            "_model_module": "@jupyter-widgets/base",
            "_model_module_version": "1.2.0",
            "_model_name": "LayoutModel",
            "_view_count": null,
            "_view_module": "@jupyter-widgets/base",
            "_view_module_version": "1.2.0",
            "_view_name": "LayoutView",
            "align_content": null,
            "align_items": null,
            "align_self": null,
            "border": null,
            "bottom": null,
            "display": null,
            "flex": null,
            "flex_flow": null,
            "grid_area": null,
            "grid_auto_columns": null,
            "grid_auto_flow": null,
            "grid_auto_rows": null,
            "grid_column": null,
            "grid_gap": null,
            "grid_row": null,
            "grid_template_areas": null,
            "grid_template_columns": null,
            "grid_template_rows": null,
            "height": null,
            "justify_content": null,
            "justify_items": null,
            "left": null,
            "margin": null,
            "max_height": null,
            "max_width": null,
            "min_height": null,
            "min_width": null,
            "object_fit": null,
            "object_position": null,
            "order": null,
            "overflow": null,
            "overflow_x": null,
            "overflow_y": null,
            "padding": null,
            "right": null,
            "top": null,
            "visibility": null,
            "width": null
          }
        },
        "94ac8701fae148f8933714b8d0ef7f79": {
          "model_module": "@jupyter-widgets/controls",
          "model_name": "TabModel",
          "model_module_version": "1.5.0",
          "state": {
            "_dom_classes": [],
            "_model_module": "@jupyter-widgets/controls",
            "_model_module_version": "1.5.0",
            "_model_name": "TabModel",
            "_titles": {
              "0": "Youtube",
              "1": "Bilibili"
            },
            "_view_count": null,
            "_view_module": "@jupyter-widgets/controls",
            "_view_module_version": "1.5.0",
            "_view_name": "TabView",
            "box_style": "",
            "children": [
              "IPY_MODEL_a579f14d61864e849ae790bd777653a1",
              "IPY_MODEL_bd1515ee10274d588476d2e0693e2ccd"
            ],
            "layout": "IPY_MODEL_cea7fad32b7449898f880f48438f765e",
            "selected_index": 0
          }
        },
        "a579f14d61864e849ae790bd777653a1": {
          "model_module": "@jupyter-widgets/output",
          "model_name": "OutputModel",
          "model_module_version": "1.0.0",
          "state": {
            "_dom_classes": [],
            "_model_module": "@jupyter-widgets/output",
            "_model_module_version": "1.0.0",
            "_model_name": "OutputModel",
            "_view_count": null,
            "_view_module": "@jupyter-widgets/output",
            "_view_module_version": "1.0.0",
            "_view_name": "OutputView",
            "layout": "IPY_MODEL_81bfea071b324981abe725c269a27ec2",
            "msg_id": "",
            "outputs": [
              {
                "output_type": "stream",
                "name": "stdout",
                "text": [
                  "Video available at https://youtube.com/watch?v=Hhw6Ed0Zmco\n"
                ]
              },
              {
                "output_type": "display_data",
                "data": {
                  "text/plain": "<IPython.lib.display.YouTubeVideo at 0x7f28b104a590>",
                  "text/html": "\n        <iframe\n            width=\"854\"\n            height=\"480\"\n            src=\"https://www.youtube.com/embed/Hhw6Ed0Zmco?fs=1&rel=0\"\n            frameborder=\"0\"\n            allowfullscreen\n        ></iframe>\n        ",
                  "image/jpeg": "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\n"
                },
                "metadata": {}
              }
            ]
          }
        },
        "bd1515ee10274d588476d2e0693e2ccd": {
          "model_module": "@jupyter-widgets/output",
          "model_name": "OutputModel",
          "model_module_version": "1.0.0",
          "state": {
            "_dom_classes": [],
            "_model_module": "@jupyter-widgets/output",
            "_model_module_version": "1.0.0",
            "_model_name": "OutputModel",
            "_view_count": null,
            "_view_module": "@jupyter-widgets/output",
            "_view_module_version": "1.0.0",
            "_view_name": "OutputView",
            "layout": "IPY_MODEL_f2c5cd5376fb48c69b453d20a928c1fb",
            "msg_id": "",
            "outputs": [
              {
                "output_type": "stream",
                "name": "stdout",
                "text": [
                  "Video available at https://www.bilibili.com/video/BV1yQ4y127Sr\n"
                ]
              },
              {
                "output_type": "display_data",
                "data": {
                  "text/plain": "<__main__.BiliVideo at 0x7f28b104a350>",
                  "text/html": "\n        <iframe\n            width=\"854\"\n            height=\"480\"\n            src=\"https://player.bilibili.com/player.html?bvid=BV1yQ4y127Sr&page=1?fs=1\"\n            frameborder=\"0\"\n            allowfullscreen\n        ></iframe>\n        "
                },
                "metadata": {}
              }
            ]
          }
        },
        "cea7fad32b7449898f880f48438f765e": {
          "model_module": "@jupyter-widgets/base",
          "model_name": "LayoutModel",
          "model_module_version": "1.2.0",
          "state": {
            "_model_module": "@jupyter-widgets/base",
            "_model_module_version": "1.2.0",
            "_model_name": "LayoutModel",
            "_view_count": null,
            "_view_module": "@jupyter-widgets/base",
            "_view_module_version": "1.2.0",
            "_view_name": "LayoutView",
            "align_content": null,
            "align_items": null,
            "align_self": null,
            "border": null,
            "bottom": null,
            "display": null,
            "flex": null,
            "flex_flow": null,
            "grid_area": null,
            "grid_auto_columns": null,
            "grid_auto_flow": null,
            "grid_auto_rows": null,
            "grid_column": null,
            "grid_gap": null,
            "grid_row": null,
            "grid_template_areas": null,
            "grid_template_columns": null,
            "grid_template_rows": null,
            "height": null,
            "justify_content": null,
            "justify_items": null,
            "left": null,
            "margin": null,
            "max_height": null,
            "max_width": null,
            "min_height": null,
            "min_width": null,
            "object_fit": null,
            "object_position": null,
            "order": null,
            "overflow": null,
            "overflow_x": null,
            "overflow_y": null,
            "padding": null,
            "right": null,
            "top": null,
            "visibility": null,
            "width": null
          }
        },
        "81bfea071b324981abe725c269a27ec2": {
          "model_module": "@jupyter-widgets/base",
          "model_name": "LayoutModel",
          "model_module_version": "1.2.0",
          "state": {
            "_model_module": "@jupyter-widgets/base",
            "_model_module_version": "1.2.0",
            "_model_name": "LayoutModel",
            "_view_count": null,
            "_view_module": "@jupyter-widgets/base",
            "_view_module_version": "1.2.0",
            "_view_name": "LayoutView",
            "align_content": null,
            "align_items": null,
            "align_self": null,
            "border": null,
            "bottom": null,
            "display": null,
            "flex": null,
            "flex_flow": null,
            "grid_area": null,
            "grid_auto_columns": null,
            "grid_auto_flow": null,
            "grid_auto_rows": null,
            "grid_column": null,
            "grid_gap": null,
            "grid_row": null,
            "grid_template_areas": null,
            "grid_template_columns": null,
            "grid_template_rows": null,
            "height": null,
            "justify_content": null,
            "justify_items": null,
            "left": null,
            "margin": null,
            "max_height": null,
            "max_width": null,
            "min_height": null,
            "min_width": null,
            "object_fit": null,
            "object_position": null,
            "order": null,
            "overflow": null,
            "overflow_x": null,
            "overflow_y": null,
            "padding": null,
            "right": null,
            "top": null,
            "visibility": null,
            "width": null
          }
        },
        "f2c5cd5376fb48c69b453d20a928c1fb": {
          "model_module": "@jupyter-widgets/base",
          "model_name": "LayoutModel",
          "model_module_version": "1.2.0",
          "state": {
            "_model_module": "@jupyter-widgets/base",
            "_model_module_version": "1.2.0",
            "_model_name": "LayoutModel",
            "_view_count": null,
            "_view_module": "@jupyter-widgets/base",
            "_view_module_version": "1.2.0",
            "_view_name": "LayoutView",
            "align_content": null,
            "align_items": null,
            "align_self": null,
            "border": null,
            "bottom": null,
            "display": null,
            "flex": null,
            "flex_flow": null,
            "grid_area": null,
            "grid_auto_columns": null,
            "grid_auto_flow": null,
            "grid_auto_rows": null,
            "grid_column": null,
            "grid_gap": null,
            "grid_row": null,
            "grid_template_areas": null,
            "grid_template_columns": null,
            "grid_template_rows": null,
            "height": null,
            "justify_content": null,
            "justify_items": null,
            "left": null,
            "margin": null,
            "max_height": null,
            "max_width": null,
            "min_height": null,
            "min_width": null,
            "object_fit": null,
            "object_position": null,
            "order": null,
            "overflow": null,
            "overflow_x": null,
            "overflow_y": null,
            "padding": null,
            "right": null,
            "top": null,
            "visibility": null,
            "width": null
          }
        },
        "476a80e1d2f54cfc892f9a5999ae58b3": {
          "model_module": "@jupyter-widgets/controls",
          "model_name": "TabModel",
          "model_module_version": "1.5.0",
          "state": {
            "_dom_classes": [],
            "_model_module": "@jupyter-widgets/controls",
            "_model_module_version": "1.5.0",
            "_model_name": "TabModel",
            "_titles": {
              "0": "Youtube",
              "1": "Bilibili"
            },
            "_view_count": null,
            "_view_module": "@jupyter-widgets/controls",
            "_view_module_version": "1.5.0",
            "_view_name": "TabView",
            "box_style": "",
            "children": [
              "IPY_MODEL_8025525717084ec9aa1f519fd6bf7ba9",
              "IPY_MODEL_5984bd901c804e6c9061d3d2e36e28dc"
            ],
            "layout": "IPY_MODEL_2407625e47764f8ea72a827e16670992",
            "selected_index": 0
          }
        },
        "8025525717084ec9aa1f519fd6bf7ba9": {
          "model_module": "@jupyter-widgets/output",
          "model_name": "OutputModel",
          "model_module_version": "1.0.0",
          "state": {
            "_dom_classes": [],
            "_model_module": "@jupyter-widgets/output",
            "_model_module_version": "1.0.0",
            "_model_name": "OutputModel",
            "_view_count": null,
            "_view_module": "@jupyter-widgets/output",
            "_view_module_version": "1.0.0",
            "_view_name": "OutputView",
            "layout": "IPY_MODEL_a5b68a1d4a66474e90e9c96b8ff25f6b",
            "msg_id": "",
            "outputs": [
              {
                "output_type": "stream",
                "name": "stdout",
                "text": [
                  "Video available at https://youtube.com/watch?v=1BRXb-igKAU\n"
                ]
              },
              {
                "output_type": "display_data",
                "data": {
                  "text/plain": "<IPython.lib.display.YouTubeVideo at 0x7f28b2fefe50>",
                  "text/html": "\n        <iframe\n            width=\"854\"\n            height=\"480\"\n            src=\"https://www.youtube.com/embed/1BRXb-igKAU?fs=1&rel=0\"\n            frameborder=\"0\"\n            allowfullscreen\n        ></iframe>\n        ",
                  "image/jpeg": "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\n"
                },
                "metadata": {}
              }
            ]
          }
        },
        "5984bd901c804e6c9061d3d2e36e28dc": {
          "model_module": "@jupyter-widgets/output",
          "model_name": "OutputModel",
          "model_module_version": "1.0.0",
          "state": {
            "_dom_classes": [],
            "_model_module": "@jupyter-widgets/output",
            "_model_module_version": "1.0.0",
            "_model_name": "OutputModel",
            "_view_count": null,
            "_view_module": "@jupyter-widgets/output",
            "_view_module_version": "1.0.0",
            "_view_name": "OutputView",
            "layout": "IPY_MODEL_6f9618e2972544f4945dbc20b82252ae",
            "msg_id": "",
            "outputs": [
              {
                "output_type": "stream",
                "name": "stdout",
                "text": [
                  "Video available at https://www.bilibili.com/video/BV13q4y1H7H6\n"
                ]
              },
              {
                "output_type": "display_data",
                "data": {
                  "text/plain": "<__main__.BiliVideo at 0x7f28b104a950>",
                  "text/html": "\n        <iframe\n            width=\"854\"\n            height=\"480\"\n            src=\"https://player.bilibili.com/player.html?bvid=BV13q4y1H7H6&page=1?fs=1\"\n            frameborder=\"0\"\n            allowfullscreen\n        ></iframe>\n        "
                },
                "metadata": {}
              }
            ]
          }
        },
        "2407625e47764f8ea72a827e16670992": {
          "model_module": "@jupyter-widgets/base",
          "model_name": "LayoutModel",
          "model_module_version": "1.2.0",
          "state": {
            "_model_module": "@jupyter-widgets/base",
            "_model_module_version": "1.2.0",
            "_model_name": "LayoutModel",
            "_view_count": null,
            "_view_module": "@jupyter-widgets/base",
            "_view_module_version": "1.2.0",
            "_view_name": "LayoutView",
            "align_content": null,
            "align_items": null,
            "align_self": null,
            "border": null,
            "bottom": null,
            "display": null,
            "flex": null,
            "flex_flow": null,
            "grid_area": null,
            "grid_auto_columns": null,
            "grid_auto_flow": null,
            "grid_auto_rows": null,
            "grid_column": null,
            "grid_gap": null,
            "grid_row": null,
            "grid_template_areas": null,
            "grid_template_columns": null,
            "grid_template_rows": null,
            "height": null,
            "justify_content": null,
            "justify_items": null,
            "left": null,
            "margin": null,
            "max_height": null,
            "max_width": null,
            "min_height": null,
            "min_width": null,
            "object_fit": null,
            "object_position": null,
            "order": null,
            "overflow": null,
            "overflow_x": null,
            "overflow_y": null,
            "padding": null,
            "right": null,
            "top": null,
            "visibility": null,
            "width": null
          }
        },
        "a5b68a1d4a66474e90e9c96b8ff25f6b": {
          "model_module": "@jupyter-widgets/base",
          "model_name": "LayoutModel",
          "model_module_version": "1.2.0",
          "state": {
            "_model_module": "@jupyter-widgets/base",
            "_model_module_version": "1.2.0",
            "_model_name": "LayoutModel",
            "_view_count": null,
            "_view_module": "@jupyter-widgets/base",
            "_view_module_version": "1.2.0",
            "_view_name": "LayoutView",
            "align_content": null,
            "align_items": null,
            "align_self": null,
            "border": null,
            "bottom": null,
            "display": null,
            "flex": null,
            "flex_flow": null,
            "grid_area": null,
            "grid_auto_columns": null,
            "grid_auto_flow": null,
            "grid_auto_rows": null,
            "grid_column": null,
            "grid_gap": null,
            "grid_row": null,
            "grid_template_areas": null,
            "grid_template_columns": null,
            "grid_template_rows": null,
            "height": null,
            "justify_content": null,
            "justify_items": null,
            "left": null,
            "margin": null,
            "max_height": null,
            "max_width": null,
            "min_height": null,
            "min_width": null,
            "object_fit": null,
            "object_position": null,
            "order": null,
            "overflow": null,
            "overflow_x": null,
            "overflow_y": null,
            "padding": null,
            "right": null,
            "top": null,
            "visibility": null,
            "width": null
          }
        },
        "6f9618e2972544f4945dbc20b82252ae": {
          "model_module": "@jupyter-widgets/base",
          "model_name": "LayoutModel",
          "model_module_version": "1.2.0",
          "state": {
            "_model_module": "@jupyter-widgets/base",
            "_model_module_version": "1.2.0",
            "_model_name": "LayoutModel",
            "_view_count": null,
            "_view_module": "@jupyter-widgets/base",
            "_view_module_version": "1.2.0",
            "_view_name": "LayoutView",
            "align_content": null,
            "align_items": null,
            "align_self": null,
            "border": null,
            "bottom": null,
            "display": null,
            "flex": null,
            "flex_flow": null,
            "grid_area": null,
            "grid_auto_columns": null,
            "grid_auto_flow": null,
            "grid_auto_rows": null,
            "grid_column": null,
            "grid_gap": null,
            "grid_row": null,
            "grid_template_areas": null,
            "grid_template_columns": null,
            "grid_template_rows": null,
            "height": null,
            "justify_content": null,
            "justify_items": null,
            "left": null,
            "margin": null,
            "max_height": null,
            "max_width": null,
            "min_height": null,
            "min_width": null,
            "object_fit": null,
            "object_position": null,
            "order": null,
            "overflow": null,
            "overflow_x": null,
            "overflow_y": null,
            "padding": null,
            "right": null,
            "top": null,
            "visibility": null,
            "width": null
          }
        }
      }
    }
  },
  "nbformat": 4,
  "nbformat_minor": 0
}