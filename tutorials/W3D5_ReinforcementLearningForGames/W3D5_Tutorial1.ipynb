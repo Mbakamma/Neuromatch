{
  "cells": [
    {
      "cell_type": "markdown",
      "metadata": {
        "id": "view-in-github",
        "colab_type": "text"
      },
      "source": [
        "<a href=\"https://colab.research.google.com/github/NeuromatchAcademy/course-content-dl/blob/updates/tutorials/W3D5_ReinforcementLearningForGames/W3D5_Tutorial1.ipynb\" target=\"_parent\"><img src=\"https://colab.research.google.com/assets/colab-badge.svg\" alt=\"Open In Colab\"/></a>"
      ]
    },
    {
      "cell_type": "markdown",
      "metadata": {
        "execution": {},
        "id": "7whfC3Gs91Yn"
      },
      "source": [
        "# Tutorial 1: Deep Learning Thinking 3\n",
        "\n",
        "**Week 3, Day 5: Deep Learning Thinking 3 & Reinforcement Learning for Games**\n",
        "\n",
        "**By Neuromatch Academy**\n",
        "\n",
        "\n",
        "__Content creators:__ Konrad Kording, Lyle Ungar\n",
        " \n",
        "__Content reviewers:__ Ella Batty\n",
        "\n",
        "__Content editors:__ Ella Batty\n",
        "\n",
        "__Production editors:__ Ella Batty"
      ]
    },
    {
      "cell_type": "markdown",
      "metadata": {
        "execution": {},
        "id": "0YGYRj0d91Yp"
      },
      "source": [
        "<p align='center'><img src='https://github.com/NeuromatchAcademy/widgets/blob/master/sponsors.png?raw=True'/></p>"
      ]
    },
    {
      "cell_type": "markdown",
      "metadata": {
        "execution": {},
        "id": "jtaM0TrY91Yq"
      },
      "source": [
        "---\n",
        "# Tutorial Objectives\n",
        "\n"
      ]
    },
    {
      "cell_type": "markdown",
      "metadata": {
        "execution": {},
        "id": "28Id4qZk91Yq"
      },
      "source": [
        "---\n",
        "# Section 1: Intro to Deep Learning Thinking 3\n",
        "\n",
        "*Time estimate: ~3 mins*"
      ]
    },
    {
      "cell_type": "code",
      "execution_count": 1,
      "metadata": {
        "cellView": "form",
        "execution": {},
        "id": "51KpHMgC91Yq",
        "outputId": "ed28c17a-aa92-478f-b044-c95b89f8d1d4",
        "colab": {
          "base_uri": "https://localhost:8080/",
          "height": 582,
          "referenced_widgets": [
            "0cfd12abd09741b59922c06592c8008e",
            "b250ab138cac490e9c16cbd72af107ca",
            "05a183d8cfde40f5b2e6c89a513ebc43",
            "d7845b4465e94d2184bc40a403ae5c7a"
          ]
        }
      },
      "outputs": [
        {
          "output_type": "display_data",
          "data": {
            "text/plain": [
              "Tab(children=(Output(),), _titles={'0': 'Youtube'})"
            ],
            "application/vnd.jupyter.widget-view+json": {
              "version_major": 2,
              "version_minor": 0,
              "model_id": "0cfd12abd09741b59922c06592c8008e"
            }
          },
          "metadata": {}
        }
      ],
      "source": [
        "# @title Video 1: Intro to DL Thinking 3\n",
        "from ipywidgets import widgets\n",
        "from IPython.display import YouTubeVideo\n",
        "from IPython.display import IFrame\n",
        "from IPython.display import display\n",
        "\n",
        "\n",
        "class PlayVideo(IFrame):\n",
        "  def __init__(self, id, source, page=1, width=400, height=300, **kwargs):\n",
        "    self.id = id\n",
        "    if source == 'Bilibili':\n",
        "      src = f'https://player.bilibili.com/player.html?bvid={id}&page={page}'\n",
        "    elif source == 'Osf':\n",
        "      src = f'https://mfr.ca-1.osf.io/render?url=https://osf.io/download/{id}/?direct%26mode=render'\n",
        "    super(PlayVideo, self).__init__(src, width, height, **kwargs)\n",
        "\n",
        "\n",
        "def display_videos(video_ids, W=400, H=300, fs=1):\n",
        "  tab_contents = []\n",
        "  for i, video_id in enumerate(video_ids):\n",
        "    out = widgets.Output()\n",
        "    with out:\n",
        "      if video_ids[i][0] == 'Youtube':\n",
        "        video = YouTubeVideo(id=video_ids[i][1], width=W,\n",
        "                             height=H, fs=fs, rel=0)\n",
        "        print(f'Video available at https://youtube.com/watch?v={video.id}')\n",
        "      else:\n",
        "        video = PlayVideo(id=video_ids[i][1], source=video_ids[i][0], width=W,\n",
        "                          height=H, fs=fs, autoplay=False)\n",
        "        if video_ids[i][0] == 'Bilibili':\n",
        "          print(f'Video available at https://www.bilibili.com/video/{video.id}')\n",
        "        elif video_ids[i][0] == 'Osf':\n",
        "          print(f'Video available at https://osf.io/{video.id}')\n",
        "      display(video)\n",
        "    tab_contents.append(out)\n",
        "  return tab_contents\n",
        "\n",
        "\n",
        "video_ids = [('Youtube', 'rURUYJUKJQY')]\n",
        "tab_contents = display_videos(video_ids, W=854, H=480)\n",
        "tabs = widgets.Tab()\n",
        "tabs.children = tab_contents\n",
        "for i in range(len(tab_contents)):\n",
        "  tabs.set_title(i, video_ids[i][0])\n",
        "display(tabs)"
      ]
    },
    {
      "cell_type": "markdown",
      "metadata": {
        "execution": {},
        "id": "1wButYFd91Ys"
      },
      "source": [
        "This tutorial is the third installment of our deep learning thinking series. Like the others, there will be no coding! Instead, you will watch a series of vignettes about various scenarios where you want to use a neural network. \n",
        "\n",
        "\n",
        "Each section below will start with a vignette where either Lyle or Konrad is trying to figure out how to set up a neural network for a specific problem. Try to think of questions you want to ask them as you watch, then pay attention to what questions Lyle and Konrad are asking. Were they what you would have asked? How do their questions help quickly clarify the situation?"
      ]
    },
    {
      "cell_type": "markdown",
      "metadata": {
        "execution": {},
        "id": "XMuMFoSo91Ys"
      },
      "source": [
        "---\n",
        "# Section 2: The Future\n",
        "\n",
        "*Time estimate: ~15 mins*"
      ]
    },
    {
      "cell_type": "code",
      "execution_count": 2,
      "metadata": {
        "cellView": "form",
        "execution": {},
        "id": "VCh4zek591Ys",
        "outputId": "83b4d74d-fc1f-45a4-ec6e-4439848286f3",
        "colab": {
          "base_uri": "https://localhost:8080/",
          "height": 582,
          "referenced_widgets": [
            "d08efa198dc04ca595f7faf5de717101",
            "d2dc6fd4acd64f238e12641cb6588e82",
            "1dc6655e41cd4e8fb87cf1b84e8dcbde",
            "1a5b413fec54454b8869367d5c31ca1d"
          ]
        }
      },
      "outputs": [
        {
          "output_type": "display_data",
          "data": {
            "text/plain": [
              "Tab(children=(Output(),), _titles={'0': 'Youtube'})"
            ],
            "application/vnd.jupyter.widget-view+json": {
              "version_major": 2,
              "version_minor": 0,
              "model_id": "d08efa198dc04ca595f7faf5de717101"
            }
          },
          "metadata": {}
        }
      ],
      "source": [
        "# @title Video 2: The Future\n",
        "from ipywidgets import widgets\n",
        "from IPython.display import YouTubeVideo\n",
        "from IPython.display import IFrame\n",
        "from IPython.display import display\n",
        "\n",
        "\n",
        "class PlayVideo(IFrame):\n",
        "  def __init__(self, id, source, page=1, width=400, height=300, **kwargs):\n",
        "    self.id = id\n",
        "    if source == 'Bilibili':\n",
        "      src = f'https://player.bilibili.com/player.html?bvid={id}&page={page}'\n",
        "    elif source == 'Osf':\n",
        "      src = f'https://mfr.ca-1.osf.io/render?url=https://osf.io/download/{id}/?direct%26mode=render'\n",
        "    super(PlayVideo, self).__init__(src, width, height, **kwargs)\n",
        "\n",
        "\n",
        "def display_videos(video_ids, W=400, H=300, fs=1):\n",
        "  tab_contents = []\n",
        "  for i, video_id in enumerate(video_ids):\n",
        "    out = widgets.Output()\n",
        "    with out:\n",
        "      if video_ids[i][0] == 'Youtube':\n",
        "        video = YouTubeVideo(id=video_ids[i][1], width=W,\n",
        "                             height=H, fs=fs, rel=0)\n",
        "        print(f'Video available at https://youtube.com/watch?v={video.id}')\n",
        "      else:\n",
        "        video = PlayVideo(id=video_ids[i][1], source=video_ids[i][0], width=W,\n",
        "                          height=H, fs=fs, autoplay=False)\n",
        "        if video_ids[i][0] == 'Bilibili':\n",
        "          print(f'Video available at https://www.bilibili.com/video/{video.id}')\n",
        "        elif video_ids[i][0] == 'Osf':\n",
        "          print(f'Video available at https://osf.io/{video.id}')\n",
        "      display(video)\n",
        "    tab_contents.append(out)\n",
        "  return tab_contents\n",
        "\n",
        "\n",
        "video_ids = [('Youtube', 'fqdbgkimsxo')]\n",
        "tab_contents = display_videos(video_ids, W=854, H=480)\n",
        "tabs = widgets.Tab()\n",
        "tabs.children = tab_contents\n",
        "for i in range(len(tab_contents)):\n",
        "  tabs.set_title(i, video_ids[i][0])\n",
        "display(tabs)"
      ]
    },
    {
      "cell_type": "markdown",
      "metadata": {
        "execution": {},
        "id": "nFnHC71b91Yt"
      },
      "source": [
        "## Think! 1: The Future\n",
        "\n",
        "Things change over time! How might we address this problem in machine learning? \n",
        "\n",
        "Please discuss as a group. If you get stuck, you can uncover the hints below one at a time to help guide your discussion. Please spend some time discussing before uncovering the next hint though!"
      ]
    },
    {
      "cell_type": "markdown",
      "metadata": {
        "execution": {},
        "id": "sXODqLhK91Yt"
      },
      "source": [
        "<details>\n",
        "<summary> <font color='green'>Click here for hint 1 </font></summary>\n",
        "\n",
        "Can you think of a scenario in your life where data is i.i.d? \n",
        "\n",
        "Let's use an example. Konrad hears questions x about a topic during a class he's teaching, and tries to learn answers y to each of them. Will the questions next year be the same as the questions this year? \n",
        "\n",
        "Once we know that the questions next year will be different, what should Konrad do to be ready for the questions next year?\n",
        "\n",
        "More generally, why does it matter that the future is different from the past? How does that relate to i.i.d.?\n"
      ]
    },
    {
      "cell_type": "markdown",
      "metadata": {
        "execution": {},
        "id": "MZx_ugY391Yt"
      },
      "source": [
        "<details>\n",
        "<summary> <font color='green'>Click here for hint 2 </font></summary>\n",
        "\n",
        "So the future will have a different distribution p(X) than the past. It will also have a different distribution of good answers p(Y). After all, deep learning is evolving. And training in deep learning is also evolving. What could be a good model, in the context of deep learning, of p(X)? How could it be built into a deep learning system? Would it even be necessary to build it in? What about p(Y)? Would that need to be built in? Arguably, DL is about how to find p(Y|X). Why do we need to care about X changing? Why about Y changing?\n",
        "\n",
        "In this context, let us talk about curiosity. If p(X) and p(Y) are both changing, what would we want to learn about? We probably want to focus on things that will still be true in the future. What are the things that are true today and will be true in the future? Which things change?\n"
      ]
    },
    {
      "cell_type": "markdown",
      "metadata": {
        "execution": {},
        "id": "opazCVPt91Yt"
      },
      "source": [
        "<details>\n",
        "<summary> <font color='green'>Click here for hint 3 </font></summary>\n",
        "\n",
        "The objects in a room change. Their affordances do not, you will be able to sit on a chair tomorrow. The causal relations in the world do not change. For example, fire will still burn wood in the future. Their constituents do not change. For example, mammals still consist of blood, flesh, and bones. Other things change all the time. Who is in this room? Who am I talking with? There are also things that do change that I do not care about, e.g. somewhere far away there is a causal system I do not understand. So we do not just want to have good models in the future, we want to have good models to answer the kinds of questions we will actually be asked.\n"
      ]
    },
    {
      "cell_type": "markdown",
      "metadata": {
        "execution": {},
        "id": "JJPjCiku91Yu"
      },
      "source": [
        "<details>\n",
        "<summary> <font color='green'>Click here for solution  </font></summary>\n",
        "\n",
        "Here is a paper talking about these phenomena: https://arxiv.org/abs/2201.07372.\n",
        "\n",
        "The paper above is worth a full read! In brief, it outlines an argument that most AI focuses on *retrospective learning*, where it uses past experiences to learn and make predictions in the future, assuming the future mimics the past. The authors argue that true intelligence is *prospective learning*, where AI learns for an uncertain future by updating internal models to be useful for future novel tasks. They articulate four revelant factors that jointly define prospective learning: \"**Continual learning** enables intelligences to remember those aspects of the past which\n",
        "it believes will be most useful in the future. Prospective **constraints** (including biases and priors) facilitate the\n",
        "intelligence finding general solutions that will be applicable to future problems. **Curiosity** motivates taking actions\n",
        "that inform future decision making, including in previously unmet situations. **Causal estimation** enables learning\n",
        "the structure of relations that guide choosing actions for specific outcomes, even when the specific action-outcome\n",
        "contingencies have never been observed before.\" \n"
      ]
    },
    {
      "cell_type": "markdown",
      "metadata": {
        "execution": {},
        "id": "w3rjEK2-91Yu"
      },
      "source": [
        "---\n",
        "# Section 3: In-context Learning\n",
        "\n",
        "*Time estimate: ~15 mins*"
      ]
    },
    {
      "cell_type": "code",
      "execution_count": 3,
      "metadata": {
        "cellView": "form",
        "execution": {},
        "id": "EYjH6J6F91Yu",
        "outputId": "d55e9014-b561-487f-bb0e-b7d6611d7518",
        "colab": {
          "base_uri": "https://localhost:8080/",
          "height": 582,
          "referenced_widgets": [
            "69d4d00f01274c979393d4691f7f8946",
            "519081a8599640f5884b3f82d9921751",
            "e5c26a24037d4b5ab3caf229d2456a0f",
            "2155aff209824df18417d66a3832b612"
          ]
        }
      },
      "outputs": [
        {
          "output_type": "display_data",
          "data": {
            "text/plain": [
              "Tab(children=(Output(),), _titles={'0': 'Youtube'})"
            ],
            "application/vnd.jupyter.widget-view+json": {
              "version_major": 2,
              "version_minor": 0,
              "model_id": "69d4d00f01274c979393d4691f7f8946"
            }
          },
          "metadata": {}
        }
      ],
      "source": [
        "# @title Video 3: In-context Learning Vignette\n",
        "from ipywidgets import widgets\n",
        "from IPython.display import YouTubeVideo\n",
        "from IPython.display import IFrame\n",
        "from IPython.display import display\n",
        "\n",
        "\n",
        "class PlayVideo(IFrame):\n",
        "  def __init__(self, id, source, page=1, width=400, height=300, **kwargs):\n",
        "    self.id = id\n",
        "    if source == 'Bilibili':\n",
        "      src = f'https://player.bilibili.com/player.html?bvid={id}&page={page}'\n",
        "    elif source == 'Osf':\n",
        "      src = f'https://mfr.ca-1.osf.io/render?url=https://osf.io/download/{id}/?direct%26mode=render'\n",
        "    super(PlayVideo, self).__init__(src, width, height, **kwargs)\n",
        "\n",
        "\n",
        "def display_videos(video_ids, W=400, H=300, fs=1):\n",
        "  tab_contents = []\n",
        "  for i, video_id in enumerate(video_ids):\n",
        "    out = widgets.Output()\n",
        "    with out:\n",
        "      if video_ids[i][0] == 'Youtube':\n",
        "        video = YouTubeVideo(id=video_ids[i][1], width=W,\n",
        "                             height=H, fs=fs, rel=0)\n",
        "        print(f'Video available at https://youtube.com/watch?v={video.id}')\n",
        "      else:\n",
        "        video = PlayVideo(id=video_ids[i][1], source=video_ids[i][0], width=W,\n",
        "                          height=H, fs=fs, autoplay=False)\n",
        "        if video_ids[i][0] == 'Bilibili':\n",
        "          print(f'Video available at https://www.bilibili.com/video/{video.id}')\n",
        "        elif video_ids[i][0] == 'Osf':\n",
        "          print(f'Video available at https://osf.io/{video.id}')\n",
        "      display(video)\n",
        "    tab_contents.append(out)\n",
        "  return tab_contents\n",
        "\n",
        "\n",
        "video_ids = [('Youtube', 'V5n41NHMbZI')]\n",
        "tab_contents = display_videos(video_ids, W=854, H=480)\n",
        "tabs = widgets.Tab()\n",
        "tabs.children = tab_contents\n",
        "for i in range(len(tab_contents)):\n",
        "  tabs.set_title(i, video_ids[i][0])\n",
        "display(tabs)"
      ]
    },
    {
      "cell_type": "markdown",
      "metadata": {
        "execution": {},
        "id": "8Evib-_G91Yu"
      },
      "source": [
        "## Think! 2: In-context Learning \n",
        "\n",
        "Please discuss as a group. If you get stuck, you can uncover the hints below one at a time to guide your discussion. Please spend some time discussing before uncovering the next hint though! "
      ]
    },
    {
      "cell_type": "markdown",
      "metadata": {
        "execution": {},
        "id": "hPRWryCM91Yv"
      },
      "source": [
        "<details>\n",
        "<summary> <font color='green'>Click here for hint 1 </font></summary>\n",
        "\n",
        "What is in context learning? The context is basically the words that LLMs have in their context right now. To predicts what is next we, arguably, solve a machine learning problem. How would you write this as an equation?\n",
        "\n",
        "Try if you can get chatGPT to solve in-context learning problems.\n"
      ]
    },
    {
      "cell_type": "markdown",
      "metadata": {
        "execution": {},
        "id": "q3ELMrT-91Yv"
      },
      "source": [
        "<details>\n",
        "<summary> <font color='green'>Click here for hint 2 </font></summary>\n",
        "\n",
        "Let us talk about the nature of the problem. How to we train systems and how may that relate to how we do in-context learning? \n",
        "\n",
        "Meta-learning is defined as a system that learns how to learn. Is in-context learning a version of meta-learning?\n"
      ]
    },
    {
      "cell_type": "markdown",
      "metadata": {
        "execution": {},
        "id": "p-GqHH4d91Yv"
      },
      "source": [
        "<details>\n",
        "<summary> <font color='green'>Click here for hint 3 </font></summary>\n",
        "\n",
        "How could the transformer architecture be helpful for solving in-context learning problems? DL does do gradient descent. Do you think there is gradient descent learning in-context?\n"
      ]
    },
    {
      "cell_type": "markdown",
      "metadata": {
        "execution": {},
        "id": "kh1NY-Nb91Yv"
      },
      "source": [
        "<details>\n",
        "<summary> <font color='green'>Click here for solution  </font></summary>\n",
        "\n",
        "Here are two papers about these topics:\n",
        "https://arxiv.org/abs/2211.15661 \n",
        "https://arxiv.org/abs/2212.10559v2\n",
        "\n"
      ]
    },
    {
      "cell_type": "markdown",
      "metadata": {
        "execution": {},
        "id": "k8AtJpWH91Yv"
      },
      "source": [
        "---\n",
        "# Section 4: Memories\n",
        "\n",
        "\n",
        "*Time estimate: ~15 mins*"
      ]
    },
    {
      "cell_type": "code",
      "execution_count": 4,
      "metadata": {
        "cellView": "form",
        "execution": {},
        "id": "fGF-xBRS91Yv",
        "outputId": "7c93c94f-d66e-45e2-f59a-01543a580ef1",
        "colab": {
          "base_uri": "https://localhost:8080/",
          "height": 582,
          "referenced_widgets": [
            "c4558e64b1a4419c9e378c9bb7d3f630",
            "d9302d5c591d40a686c88efe428870de",
            "058fb9439fda4d4ea17dae2e59ddb965",
            "535001955acc4350ac7128e274e46d07",
            "c0a25d317a8846e08e677abde5369cb3",
            "ea28105a6ce24943a5250f33c66af6a2"
          ]
        }
      },
      "outputs": [
        {
          "output_type": "display_data",
          "data": {
            "text/plain": [
              "Tab(children=(Output(), Output()), _titles={'0': 'Youtube', '1': 'Bilibili'})"
            ],
            "application/vnd.jupyter.widget-view+json": {
              "version_major": 2,
              "version_minor": 0,
              "model_id": "c4558e64b1a4419c9e378c9bb7d3f630"
            }
          },
          "metadata": {}
        }
      ],
      "source": [
        "# @title Video 4: Memories Vignette\n",
        "from ipywidgets import widgets\n",
        "from IPython.display import YouTubeVideo\n",
        "from IPython.display import IFrame\n",
        "from IPython.display import display\n",
        "\n",
        "\n",
        "class PlayVideo(IFrame):\n",
        "  def __init__(self, id, source, page=1, width=400, height=300, **kwargs):\n",
        "    self.id = id\n",
        "    if source == 'Bilibili':\n",
        "      src = f'https://player.bilibili.com/player.html?bvid={id}&page={page}'\n",
        "    elif source == 'Osf':\n",
        "      src = f'https://mfr.ca-1.osf.io/render?url=https://osf.io/download/{id}/?direct%26mode=render'\n",
        "    super(PlayVideo, self).__init__(src, width, height, **kwargs)\n",
        "\n",
        "\n",
        "def display_videos(video_ids, W=400, H=300, fs=1):\n",
        "  tab_contents = []\n",
        "  for i, video_id in enumerate(video_ids):\n",
        "    out = widgets.Output()\n",
        "    with out:\n",
        "      if video_ids[i][0] == 'Youtube':\n",
        "        video = YouTubeVideo(id=video_ids[i][1], width=W,\n",
        "                             height=H, fs=fs, rel=0)\n",
        "        print(f'Video available at https://youtube.com/watch?v={video.id}')\n",
        "      else:\n",
        "        video = PlayVideo(id=video_ids[i][1], source=video_ids[i][0], width=W,\n",
        "                          height=H, fs=fs, autoplay=False)\n",
        "        if video_ids[i][0] == 'Bilibili':\n",
        "          print(f'Video available at https://www.bilibili.com/video/{video.id}')\n",
        "        elif video_ids[i][0] == 'Osf':\n",
        "          print(f'Video available at https://osf.io/{video.id}')\n",
        "      display(video)\n",
        "    tab_contents.append(out)\n",
        "  return tab_contents\n",
        "\n",
        "\n",
        "video_ids = [('Youtube', 'Sr2T9VZlNJY'), ('Bilibili', '')]\n",
        "tab_contents = display_videos(video_ids, W=854, H=480)\n",
        "tabs = widgets.Tab()\n",
        "tabs.children = tab_contents\n",
        "for i in range(len(tab_contents)):\n",
        "  tabs.set_title(i, video_ids[i][0])\n",
        "display(tabs)"
      ]
    },
    {
      "cell_type": "markdown",
      "metadata": {
        "execution": {},
        "id": "s_naIIkB91Yw"
      },
      "source": [
        "## Think! 3: Memories\n",
        "\n",
        "Please discuss as a group. If you get stuck, you can uncover the hints below one at a time. Please spend some time discussing before uncovering the next hint, though! You are being real deep learning scientists now, and the answers won’t be easy.\n",
        "\n"
      ]
    },
    {
      "cell_type": "markdown",
      "metadata": {
        "execution": {},
        "id": "YJHwwyX_91Yw"
      },
      "source": [
        "<details>\n",
        "<summary> <font color='green'>Click here for hint 1 </font></summary>\n",
        "\n",
        "How would you define episodic memory?\n",
        "\n",
        "How would you define procedural memory?\n",
        "\n",
        "How would you define semantic memory?\n"
      ]
    },
    {
      "cell_type": "markdown",
      "metadata": {
        "execution": {},
        "id": "10nr5blz91Yw"
      },
      "source": [
        "<details>\n",
        "<summary> <font color='green'>Click here for hint 2 </font></summary>\n",
        "\n",
        "The main interesting thing here is episodic memory. For example, you and your best friend may both know that it is a fact that you had dinner together yesterday night. How would you build episodic memory into a deep learning systems? Can you gradient descent into an episodic memory?\n",
        "\n"
      ]
    },
    {
      "cell_type": "markdown",
      "metadata": {
        "execution": {},
        "id": "VcoHCAH491Yw"
      },
      "source": [
        "<details>\n",
        "<summary> <font color='green'>Click here for hint 3 </font></summary>\n",
        "\n",
        "Episodic memory is after all something about absolute truth. So it is not entirely clear how it relates to gradient descent. It is easy to see how we may use gradient descent for reading though. So what if you instead just had a big blackboard. What would you write on it? When/how would you erase it?"
      ]
    },
    {
      "cell_type": "markdown",
      "metadata": {
        "execution": {},
        "id": "KLPllBlz91Yw"
      },
      "source": [
        "<details>\n",
        "<summary> <font color='green'>Click here for solution </font></summary>\n",
        "\n",
        "Here are a few fun papers. https://arxiv.org/abs/1410.5401, https://arxiv.org/abs/1805.07603, https://arxiv.org/abs/1703.03129"
      ]
    },
    {
      "cell_type": "markdown",
      "metadata": {
        "execution": {},
        "id": "ex7TRG9f91Yx"
      },
      "source": [
        "---\n",
        "# Section 5: Multiple Information Sources\n",
        "\n",
        "\n",
        "*Time estimate: ~15 mins*"
      ]
    },
    {
      "cell_type": "code",
      "execution_count": 5,
      "metadata": {
        "cellView": "form",
        "execution": {},
        "id": "mnBLZ_wJ91Yx",
        "outputId": "79919dfc-157c-4c0e-aace-0dfceced5c6b",
        "colab": {
          "base_uri": "https://localhost:8080/",
          "height": 582,
          "referenced_widgets": [
            "02cf349b0e0245209d53998cc3f418bb",
            "5c35a038177d477e80ed8b928ffad48c",
            "3b29d00a96814f30b4c6048dcfae6d29",
            "9187f5f39e3c46f0a710b2cd20d8d09e"
          ]
        }
      },
      "outputs": [
        {
          "output_type": "display_data",
          "data": {
            "text/plain": [
              "Tab(children=(Output(),), _titles={'0': 'Youtube'})"
            ],
            "application/vnd.jupyter.widget-view+json": {
              "version_major": 2,
              "version_minor": 0,
              "model_id": "02cf349b0e0245209d53998cc3f418bb"
            }
          },
          "metadata": {}
        }
      ],
      "source": [
        "# @title Video 5: Multiple Information Sources Vignette\n",
        "from ipywidgets import widgets\n",
        "from IPython.display import YouTubeVideo\n",
        "from IPython.display import IFrame\n",
        "from IPython.display import display\n",
        "\n",
        "\n",
        "class PlayVideo(IFrame):\n",
        "  def __init__(self, id, source, page=1, width=400, height=300, **kwargs):\n",
        "    self.id = id\n",
        "    if source == 'Bilibili':\n",
        "      src = f'https://player.bilibili.com/player.html?bvid={id}&page={page}'\n",
        "    elif source == 'Osf':\n",
        "      src = f'https://mfr.ca-1.osf.io/render?url=https://osf.io/download/{id}/?direct%26mode=render'\n",
        "    super(PlayVideo, self).__init__(src, width, height, **kwargs)\n",
        "\n",
        "\n",
        "def display_videos(video_ids, W=400, H=300, fs=1):\n",
        "  tab_contents = []\n",
        "  for i, video_id in enumerate(video_ids):\n",
        "    out = widgets.Output()\n",
        "    with out:\n",
        "      if video_ids[i][0] == 'Youtube':\n",
        "        video = YouTubeVideo(id=video_ids[i][1], width=W,\n",
        "                             height=H, fs=fs, rel=0)\n",
        "        print(f'Video available at https://youtube.com/watch?v={video.id}')\n",
        "      else:\n",
        "        video = PlayVideo(id=video_ids[i][1], source=video_ids[i][0], width=W,\n",
        "                          height=H, fs=fs, autoplay=False)\n",
        "        if video_ids[i][0] == 'Bilibili':\n",
        "          print(f'Video available at https://www.bilibili.com/video/{video.id}')\n",
        "        elif video_ids[i][0] == 'Osf':\n",
        "          print(f'Video available at https://osf.io/{video.id}')\n",
        "      display(video)\n",
        "    tab_contents.append(out)\n",
        "  return tab_contents\n",
        "\n",
        "\n",
        "video_ids = [('Youtube', 'v76xc1jzaPU')]\n",
        "tab_contents = display_videos(video_ids, W=854, H=480)\n",
        "tabs = widgets.Tab()\n",
        "tabs.children = tab_contents\n",
        "for i in range(len(tab_contents)):\n",
        "  tabs.set_title(i, video_ids[i][0])\n",
        "display(tabs)"
      ]
    },
    {
      "cell_type": "markdown",
      "metadata": {
        "execution": {},
        "id": "JPhaW5Xi91Yx"
      },
      "source": [
        "## Think! 4: Multiple Information Sources\n",
        "\n",
        "Please discuss as a group. If you get stuck, you can uncover the hints below one at a time. Please spend some time discussing before uncovering the next hint, though! You are being real deep learning scientists now, and the answers won’t be easy."
      ]
    },
    {
      "cell_type": "markdown",
      "metadata": {
        "execution": {},
        "id": "JGCMS7_Y91Yx"
      },
      "source": [
        "<details>\n",
        "<summary> <font color='green'>Click here for hint 1 </font></summary>\n",
        "\n",
        "Think of a few tasks. If you wanted to solve them, which webpages would you use? How would you combine them? How could you allow a DL system to do the same thing?\n"
      ]
    },
    {
      "cell_type": "markdown",
      "metadata": {
        "execution": {},
        "id": "wSqSsghW91Yx"
      },
      "source": [
        "<details>\n",
        "<summary> <font color='green'>Click here for hint 2 </font></summary>\n",
        "\n",
        "If you have multiple sources of information, how synergistic are they? How could you incorporate information from multiple sources? Could there be ways of summarizing the things you could get out of a given model?"
      ]
    },
    {
      "cell_type": "markdown",
      "metadata": {
        "execution": {},
        "id": "voH1V7ze91Yx"
      },
      "source": [
        "<details>\n",
        "<summary> <font color='green'>Click here for hint 3 </font></summary>\n",
        "\n",
        "English language and querying can be a way of interacting with such services. Think about webpages as something that you can ask questions to.\n"
      ]
    },
    {
      "cell_type": "markdown",
      "metadata": {
        "execution": {},
        "id": "QucifkMr91Yy"
      },
      "source": [
        "<details>\n",
        "<summary> <font color='green'>Click here for solution </font></summary>\n",
        "\n",
        "Here are a list of recent relevant projects\n",
        "https://github.com/Significant-Gravitas/Auto-GPT\n",
        "https://arxiv.org/abs/2302.14045, https://ai.googleblog.com/2023/03/palm-e-embodied-multimodal-language.html"
      ]
    },
    {
      "cell_type": "markdown",
      "metadata": {
        "execution": {},
        "id": "jWOcFwD291Yy"
      },
      "source": [
        "---\n",
        "# Section 6: Language for Robotics\n",
        "\n",
        "\n",
        "*Time estimate: ~15 mins*"
      ]
    },
    {
      "cell_type": "code",
      "execution_count": 6,
      "metadata": {
        "cellView": "form",
        "execution": {},
        "id": "jzv7PN2l91Yy",
        "outputId": "877f91da-764c-4f83-ed1f-3529babb2974",
        "colab": {
          "base_uri": "https://localhost:8080/",
          "height": 582,
          "referenced_widgets": [
            "93a8612961f74328bde2d4c85a156837",
            "88f75a847933438d94c00e83aa9095aa",
            "572392b21bc049f6bf712c41ffc1fd80",
            "054f355be576413e8b0c55e76c612bf7"
          ]
        }
      },
      "outputs": [
        {
          "output_type": "display_data",
          "data": {
            "text/plain": [
              "Tab(children=(Output(),), _titles={'0': 'Youtube'})"
            ],
            "application/vnd.jupyter.widget-view+json": {
              "version_major": 2,
              "version_minor": 0,
              "model_id": "93a8612961f74328bde2d4c85a156837"
            }
          },
          "metadata": {}
        }
      ],
      "source": [
        "# @title Video 6: Language for Robotics Vignette\n",
        "from ipywidgets import widgets\n",
        "from IPython.display import YouTubeVideo\n",
        "from IPython.display import IFrame\n",
        "from IPython.display import display\n",
        "\n",
        "\n",
        "class PlayVideo(IFrame):\n",
        "  def __init__(self, id, source, page=1, width=400, height=300, **kwargs):\n",
        "    self.id = id\n",
        "    if source == 'Bilibili':\n",
        "      src = f'https://player.bilibili.com/player.html?bvid={id}&page={page}'\n",
        "    elif source == 'Osf':\n",
        "      src = f'https://mfr.ca-1.osf.io/render?url=https://osf.io/download/{id}/?direct%26mode=render'\n",
        "    super(PlayVideo, self).__init__(src, width, height, **kwargs)\n",
        "\n",
        "\n",
        "def display_videos(video_ids, W=400, H=300, fs=1):\n",
        "  tab_contents = []\n",
        "  for i, video_id in enumerate(video_ids):\n",
        "    out = widgets.Output()\n",
        "    with out:\n",
        "      if video_ids[i][0] == 'Youtube':\n",
        "        video = YouTubeVideo(id=video_ids[i][1], width=W,\n",
        "                             height=H, fs=fs, rel=0)\n",
        "        print(f'Video available at https://youtube.com/watch?v={video.id}')\n",
        "      else:\n",
        "        video = PlayVideo(id=video_ids[i][1], source=video_ids[i][0], width=W,\n",
        "                          height=H, fs=fs, autoplay=False)\n",
        "        if video_ids[i][0] == 'Bilibili':\n",
        "          print(f'Video available at https://www.bilibili.com/video/{video.id}')\n",
        "        elif video_ids[i][0] == 'Osf':\n",
        "          print(f'Video available at https://osf.io/{video.id}')\n",
        "      display(video)\n",
        "    tab_contents.append(out)\n",
        "  return tab_contents\n",
        "\n",
        "\n",
        "video_ids = [('Youtube', 'By7oLXsCh0w')]\n",
        "tab_contents = display_videos(video_ids, W=854, H=480)\n",
        "tabs = widgets.Tab()\n",
        "tabs.children = tab_contents\n",
        "for i in range(len(tab_contents)):\n",
        "  tabs.set_title(i, video_ids[i][0])\n",
        "display(tabs)"
      ]
    },
    {
      "cell_type": "markdown",
      "metadata": {
        "execution": {},
        "id": "pLdn9Hkl91Yy"
      },
      "source": [
        "## Think! 5: Language for Robotics "
      ]
    },
    {
      "cell_type": "markdown",
      "metadata": {
        "execution": {},
        "id": "cxCsiaiL91Yy"
      },
      "source": [
        "<details>\n",
        "<summary> <font color='green'>Click here for hint 1 </font></summary>\n",
        "\n",
        "Think about a robotics problem, e.g. emptying the dishwasher. Is there a way of dividing it into subproblems? How many of them? How complex are they? \n"
      ]
    },
    {
      "cell_type": "markdown",
      "metadata": {
        "execution": {},
        "id": "Msmkb_ZT91Yy"
      },
      "source": [
        "<details>\n",
        "<summary> <font color='green'>Click here for hint 2 </font></summary>\n",
        "\n",
        "If you look at the subproblems, how complex are they? What could be a good way of describing each subproblem? If a robot controlling AI system would have such a description, how useful would that be?"
      ]
    },
    {
      "cell_type": "markdown",
      "metadata": {
        "execution": {},
        "id": "FxauEGc891Y5"
      },
      "source": [
        "<details>\n",
        "<summary> <font color='green'>Click here for hint 3 </font></summary>\n",
        "\n",
        "If we were to use a large language model to interact with the RL systems, how useful would that be? Why is language so useful for this task?"
      ]
    },
    {
      "cell_type": "markdown",
      "metadata": {
        "execution": {},
        "id": "QkcB_8YK91Y5"
      },
      "source": [
        "<details>\n",
        "<summary> <font color='green'>Click here for solution </font></summary>\n",
        "\n",
        "Have a look at this great collection of papers\n",
        "https://github.com/GT-RIPL/Awesome-LLM-Robotics\n"
      ]
    },
    {
      "cell_type": "markdown",
      "metadata": {
        "execution": {},
        "id": "LHPAJc4_91Y5"
      },
      "source": [
        "---\n",
        "# Summary\n",
        "\n",
        "*Time estimate: ~2 mins*\n",
        "\n",
        "\n",
        "\n"
      ]
    }
  ],
  "metadata": {
    "colab": {
      "name": "W3D5_Tutorial1",
      "provenance": [],
      "toc_visible": true,
      "include_colab_link": true
    },
    "kernel": {
      "display_name": "Python 3",
      "language": "python",
      "name": "python3"
    },
    "kernelspec": {
      "display_name": "Python 3",
      "name": "python3"
    },
    "language_info": {
      "name": "python"
    },
    "widgets": {
      "application/vnd.jupyter.widget-state+json": {
        "0cfd12abd09741b59922c06592c8008e": {
          "model_module": "@jupyter-widgets/controls",
          "model_name": "TabModel",
          "model_module_version": "1.5.0",
          "state": {
            "_dom_classes": [],
            "_model_module": "@jupyter-widgets/controls",
            "_model_module_version": "1.5.0",
            "_model_name": "TabModel",
            "_titles": {
              "0": "Youtube"
            },
            "_view_count": null,
            "_view_module": "@jupyter-widgets/controls",
            "_view_module_version": "1.5.0",
            "_view_name": "TabView",
            "box_style": "",
            "children": [
              "IPY_MODEL_b250ab138cac490e9c16cbd72af107ca"
            ],
            "layout": "IPY_MODEL_05a183d8cfde40f5b2e6c89a513ebc43",
            "selected_index": 0
          }
        },
        "b250ab138cac490e9c16cbd72af107ca": {
          "model_module": "@jupyter-widgets/output",
          "model_name": "OutputModel",
          "model_module_version": "1.0.0",
          "state": {
            "_dom_classes": [],
            "_model_module": "@jupyter-widgets/output",
            "_model_module_version": "1.0.0",
            "_model_name": "OutputModel",
            "_view_count": null,
            "_view_module": "@jupyter-widgets/output",
            "_view_module_version": "1.0.0",
            "_view_name": "OutputView",
            "layout": "IPY_MODEL_d7845b4465e94d2184bc40a403ae5c7a",
            "msg_id": "",
            "outputs": [
              {
                "output_type": "stream",
                "name": "stdout",
                "text": [
                  "Video available at https://youtube.com/watch?v=rURUYJUKJQY\n"
                ]
              },
              {
                "output_type": "display_data",
                "data": {
                  "text/plain": "<IPython.lib.display.YouTubeVideo at 0x7f428a694e20>",
                  "text/html": "\n        <iframe\n            width=\"854\"\n            height=\"480\"\n            src=\"https://www.youtube.com/embed/rURUYJUKJQY?fs=1&rel=0\"\n            frameborder=\"0\"\n            allowfullscreen\n            \n        ></iframe>\n        ",
                  "image/jpeg": "/9j/4AAQSkZJRgABAQAAAQABAAD/2wCEABALDBoYFhwaGRodHRwfJCcmJCIiIisnMSkzMC4yMDkvMy01R1FCNzpNOS4tR2FFS1NWW1xbMkFlbWRYbFBZW1cBERISFxYYLRsbLVc2NEBjV1dXV1dXV1dXY1dXV1djV1dXV1dXV1dXWldXV1dXV11XV1dXV1dXV1dXV1dXXVdXV//AABEIAWgB4AMBIgACEQEDEQH/xAAbAAEAAgMBAQAAAAAAAAAAAAAAAgMBBAUGB//EAEMQAAIBAgMECAQEBAQFBAMAAAABAgMRBBIhBRMxURYiQVJTkZPRMmFxgQYUobEVQpLBIzNi8HJzguHxNIOyszVDY//EABcBAQEBAQAAAAAAAAAAAAAAAAACAQP/xAAdEQEBAQADAAMBAAAAAAAAAAAAARECEiExUWFB/9oADAMBAAIRAxEAPwD5+AAAAAAAAAAAAAAAAAAAAAAAAAAAAAAAAAAAAAAAAAAAAAAAAAAAAAAAAAAAAAAAAAAAAAAAAAAAAAAAAAAAAAAAAAAAAAAAAAAAAAAAAAAAAAAAAAAAAAAAAAAAAAAAAAAAAAAAAAAAAAAAAAAAAAAAAAAAAAAE3BZFLMrttZdbr5gQAAAAAAAAAAAAAAAAAAAAAAAAAAAAAAAAAAAAAAAAAAAAAAAAAAAAAAAAAAAAAAAAAAAAAAAAAAAAAAAB9c6DbO8GXqT9x0G2d4MvUn7nowB5zoNs7wZepP3HQbZ3gy9SfuejAHnOg2zvBl6k/cdBtneDL1J+56MAec6DbO8GXqT9x0G2d4MvUn7nowB5zoNs7wZepP3HQbZ3gy9SfuejAHnOg2zvBl6k/cdBtneDL1J+56MAec6DbO8GXqT9x0G2d4MvUn7nowB5zoNs7wZepP3HQbZ3gy9SfuejAHnOg2zvBl6k/cdBtneDL1J+56MAec6DbO8GXqT9x0G2d4MvUn7nowB5zoNs7wZepP3HQbZ3gy9SfuejAHnOg2zvBl6k/cdBtneDL1J+56MAec6DbO8GXqT9x0G2d4MvUn7nowB5zoNs7wZepP3HQbZ3gy9SfuejAHnOg2zvBl6k/cdBtneDL1J+56MAec6DbO8GXqT9x0G2d4MvUn7nowB5zoNs7wZepP3HQbZ3gy9SfuejAHnOg2zvBl6k/cdBtneDL1J+56MAec6DbO8GXqT9x0G2d4MvUn7nowB5zoNs7wZepP3HQbZ3gy9SfuejAHnOg2zvBl6k/cdBtneDL1J+56MAec6DbO8GXqT9x0G2d4MvUn7nowB5zoNs7wZepP3HQbZ3gy9SfuejAHnOg2zvBl6k/cdBtneDL1J+56MAeYf4J2ff/JfqT9zHQrZ/gv1J+56GXFgDz3QrZ/gv1J+46FbP8F+pP3PQgDz3QrZ/gv1J+46FbP8ABfqT9z0IA890K2f4L9SfuOhWz/BfqT9z0IA890K2f4L9SfuOhWz/AAX6k/c9CAPPdCtn+C/Un7mehWz/AAX6k/c9AALwAAAAAAAAAAAAAAAAAAAAAAAAAAAAAAAAAAAAAAAAAAAAAAAAAAAAAAAAAAAAAAAUS4sGZcWYAAAAAAAAAAAAAALwABq7Uxn5fDVa2XNu4OWW9r27LllXF04JupUhBJJvNJKyfa7mj+KP/wAdiv8AlS/Yqp0YT2lJyjGTjhqdrpO15zA69OpGcVKElKL1TTun9GVV8bRp33lWnCzSeaajq9Ute00vw/FRp1oxSUViKySXBdd6GpTrYaGNxjrulF/4dnUstN2rpN6fVfQDuSqxVryis3C7Wul9OeibKquOowpqpOtTjTla03OKi78m9DzWHoxnSwUXG9GWLqunGS03eWq46PstwXKxt4xuntBuUqFOLoxVF1Y3jo5Z1F3ST+G/NW5Ad9VoPLaUet8Oq63bpzKsZid3CTjkc1FyUZTUL2+b4L5nDWDaws61GpTqunWdekqUbRVtJwjq/i6/3kU42axGCx+MWsZ0pU6X/BBPX7ycn9EgPSYjF06MVKtUhTT7ZyUV5snvY2TzRtKyTurO/C3O5xp1KUMfOWJcI3pQVGVRpRt1s6Tel72b+VuRzpSjHDyqR6uFWOpTpvhFQzwzSXKOfO/+wHq86zZbrM1e19bc7fdFVHG0akpQp1ac5R+KMZptfVLgciriaNbaCUailFYWspSg72vOnwa7SnZleNOrhqMZ4bEwacac6cUp00ovVpNq2lm1bVrQDrbWx0qEIOEFOU6kKaUpZVeTtduz/Yo/ilalKKxVCNOE5KKqU6m8im9EpXUWrvS+q+hH8S1Ywp0JTkoxjiKLbbsklLi2a219o0sXSeGw041qlVxT3bzKCzJucpLRWS05uwHaxOLpUUnVqQppuyzyUb/S5ZKpFRzOSUUr3bsrc7nnqs5Qx+I3lShByjDduvFu8FFXUXmS+LNdfNfI18RR3eHwrVWlLDKvKTlke6impZLq/wACk1bWy6vYgPS0MXSqQz06kJw160ZKS0+aMQxtGU92qtN1LXyKacrc7cbHFhFSniKka+Hm9xKM40Y2v2xcnmeq63madWrhns/D06O7/Mf4O7jG2dTvFt24rS7bfZcD0u0cVuMPVrWzbuEp2va+VN2v9i2hUzwjK1s0U7fVXNL8Q/8AoMX/AMir/wDBlWA2vh506dOliKMqrglGKqRbvl5Ab352lvN1vae945M6zf08RicbRo23tWnTzaLPNRv9L8TyuEip4KNGdfC0qmikpQe9jVvx+K7nm1vbX6HTr1lLF1ozlh6ThCCvUgm6qabvdtdVNtWXbcDtzrQjbNKKvdq7SvZXf6FVTHUYRzSrU4xsnmc4pWlwd/n2HndnUoVKWy4zSlG1Syeq0i7aPlZHSw2Hpy2jiW4RbjSoJXSdk3U4cuAHQq4mzpZMko1JWvnS0yt3j3uHBfUVMfRg0pVqcXJuKTnFXa4pfP5HncCkqeBS0SxmISXJLfpJfIthh6csDtCThBtzxV20r6OVtfkB6DE4qnSjmq1IU48LzkorzZKnVjK+WSlbjZp2ur/s0/ucBVacMXRqYpxUHhoKlKpbKpXbmrvRSayfZGx+HnTdTGulbdutFxyqy/yqeq+QE9r7SxOGUpxoUp0k4RTdZxk8zUfhyPtfMsqY+vShGVajTi5VadNKFRyVpySvdxXC/Ar/ABT/AOjl/wAyh/8AdAz+I4RlSpRkk4vEUE0+29RaAb9HGUqmbdVKdRx0ajNOz5O3AjQxkXShOo6cHKOZrOmlztLtSvxOfVpxhtKGWKjfC1b2Vr2nTt5Xfmc7ZdKM/wCEqcVJLDVGk1fVKlqB3MVtOEcNKvScKsVa2WSaeqXFX5m3OrGLSbSlK+VN2btyPM7QShDaagkuvReVaK7jT8rm7s68MVVWKt+ZnG9OSfVdPuQvwyviuL0f0Dp0MYnShOo6cHKOZreKS+dpdqXMsoYmnVhnpzhOHejJSXmjzeyqUZx2UpxUksPNpNX1UaepnaFHq7RjCPVz0XOMFxjaGeyXa4pgego46jU/y61OeuXqzi9eNtO2yehsHnMTiMJUxGB/LypSaq8adnaO6qaNrh9HyPRgAAAAAAAAAABRLiwZlxZgDT2hOrFR3UoRd9c6uczEbRxFOLbrUG12KL9yX4pg3Ckl3n+xxaLp2ScLvmznZd+V/wA+Gy/xDirtLd2/4H7mI/iLFX1VO3yi/czDHU1/+tfoWSxaqrLGC56fLV/oXn659r9Ohg9qVJXdTJFW0+pTW2piFJ5XBx7Or/e5xXhazqZk/itpy/2jp4OjUjKKks0XxN67PKnvyl9nib2vif8AR/T/ANyP8ZxPKH9L9zp7pcjCwqlx0+xxnKu1kcqH4gxDnkShf/h/7nqFwPM/loxxiXY2uzmrHpi+Ft1lmNgAFpYavxFjIAJGrSwMY1K031t64uzXDLFR/sbQANIxOCkrSSa5NXMgAkYyq1rK3IyAIzgpK0kmuTVzLSta2nIyAIxglayStwshGnFNtRSb4tLiSAGJRT4pP6iMUuCS+hkARnTjLSSTXzVyVuwACqph4unKmkoqSa0XC6twMYXDRpQhHRuEIxzW1dlYuABoiqcVwivIkAI7uObNZZudtfMSgm02k2uDa4EgBhRXJaGbAAYyrkhZcjIA1Mbhqs3F06qhZWcZU1OL+drp3+42fgtyp3m5zqSzzm0ld2S4Lgkkkl8jbAGGr8TLQAGLBRXJacDIAxlXJamWlyAAxlXJaEK9NyhJRk4Sa+KKV189dCwAc2lsybqwqVqqnu25QjCmqazNOOaWru7N8lqdIAAAAAAAAAAAAKZcWYEuLAHI/EMHKFOyvrL9jzqpNSV0exxcU0rq+pz8TCEYN2WiOPK+47cZOryT0/lRdhsXKnJyjGF8skk721VjYr2nLTLxtoamMr0aDanNXXFLVm6nI2IOvOcVGtFRcdUlZ9nDk/M6uxoVE1LeSmkv5m7Xvq9deH7nm8FtCNV5oqyjK13b+56GttBYWlvWlLNNK10r3V+z6D1dk6uzWqyloyveVL8XY5eE/FGHqtJxnC+l3Zr/AH9ju7pdhfVw1xsbdVozv2Rfkz0RzMdRjmjfRWl59h01wRnGZa23ZGwAC2MSmla7Su7K/PkRdaKv1l1XZ68G7aPzXmVY+m5UpZVeStKP1i8y/VGhTw83OF4O1VqrO6+Fxbkk/nrBf9AHXBzdnKpmWdzzZXnTU7N6cG+qtb/CRxUpKcm3VUt5TUbOWXK5QXZpxzcdQOoDlRjUlUavUhm3ifx2j3Xd9X56W+4nKtOKm1OKckpQWa6ik+yOus+1cVYDqg1KVOcqDWd5nfK3mTWul76+fFGqqk6kY1ZbxU5y1jHNdJRaXw66yu7r5dgHVBzKdSpG2ZVWnGoo6Sb+Lq5rcHl7X9y+cJypUVeabcc9m0/hd7vjxA3CKmm7JpuyfHsfb+hzbTdZf5iTnKMlepbLllZ3vl1ai9LNX48Sijhpbq6VWMo4eKWs4vOs+nz17OAHbBzWqjrO7mnmjl0m45bK606ve46/obGFhJUpNubk83xN83ay7NLAbQOXkqQhpvZOVOOa8puzuk3zTs27K17DDwqOSi3UyKo9eurrIn262zX4v5AdQHMUJKMHN1src89nPNx6vw6pfT5EcldqMU5rOmsz/kyybi383FpP6AdUGlSlVlQqTScakszjGX8ulor9E/uarm03u3Xsowk1LPfSazWT14X4AdcHLrTqScmlUVN1OU07ZFayXWtmvw9zE1Uju3epNrhG1SN+tpdrttZdbjbs1A6edXSurvRa8bEjkxp1I5lTU1LPVfWzNaxbjq9LXsZtNpqnvstoZs+a988eF/lmvbTgB1QcutTnHMlKplVTqr/EldZFpmj1kr311R0aDbhFtOLaV03drThcCYAAAAAAAAAAAAAAAAAAAAAAAAAAxlXIZVyMgDjfiLGSoQg4QhJttWlPJ5aO7+R5nEbcrVISW4pJW1e/TtxfZH/S/wDxqe6r4anUSVSnCaXDNFSt5mvLZGFfHDUH9aUPYm8ZbqpyuY+Z1qdeU006cU3pardcL8i/Y+xKlWvvqqhOMZXavmzcf2dj6I9iYN8cLh3/AO1D2L6ODpU1lhSpwS7IxSX6G4S++vjeNoTo4qtTh1P8SUYxtft6q8mjtVtgY2VKFSdRVMsX/hrRx07FwZ9GnsrDSnnlh6Lne+Z04t353txLo4amm2oQTfFqKGGx8ZhJpx+39z6Z+H8U62GWt5R0f9v9/I6MtjYRu7wuHb460oexsUcLSp/5dOEP+GKX7FIxq1sK6ltUrfc3lBcjNlyMmY0AAAAACt4eDlncI5udtSwAAABicVJNNXT4oRikkkrJaJIyAAAAAAAAAAAAAAAYyq97K9rXMgAAAAAAAAAAAAAAAAAAAAAAAAAAAAAAAAAAAAAAAAAAAAAAAAAAAAAAhVg5KylKPzja/wCqZz8FiKm7ha9Wcqcaks8lFK64Ky7WmdM15YKm4xjlsorKrNrTlpxXyYGtTx7k+os2eUcik8qSdPO7uz+ZbRxE9zOclmlGU+qn2Rk9Fz0RdPCU3/LbVPRtNNKys1w000JQoqEHGnZcWr3er1u+eoGvLHXllpxUrtRTcrJvLmfZwSt92ZpY3M8rjZ2m3rezg0rLmtTNHAwjSjTtdR1TV4u+t2rcOL8yTwVNqKyvq3StJrjq7663fG4FdbESdOlOC1m4aX59l7GI4ycmoKEd5ed05PKsrS42v/MuzmbW5jaMbaRtb5W4EJ4SEuxrVu6k09eOq1A1XtRKN8j4Rdr9mubyyy8lzLK+KluKtSCV4KeW745bq/mmXrC004vKurFxj8k7afohHDwVPdqKyZcuX5cLAa88bKKk8icaaW8eb5KTyq2tk1yLMRVnGpTjFRyyzZrvXRdmhl4Km7Npu1lrKWtuGbXrfctqUYycW+MXdWbX7Ac6njqm6jnWsqSmpRkrv4U7pqy+Jc+02FjJZksiyucoJ5tbxUne1uHV5l35SnZLLpGOVceGmn6LyJbiGmnCTkvq73f6sDW2ZjHWhF8bRjmlzk0m9PvxIVce80opK3XUZJt6xTfardj4Nm5Tw8INOKtaKj9lwX2Ifk6d75e1u13brXvZcFe78wNdY6UVFTgs0opxtK93eMbPRW1lHnxfInHGSU1TnBKWZLSV1ZqTTvZd1qxZHBU0mst01l1benJX4L6D8lTtaz4qV80s1125r3/UCqni5yrRioxUHvb663hNRvw+f6/LWGJxNVSqJZbRdHLrr1ppNPTt1NmGEhFxaVnHM1q/5nd353fMlPDQlLM1q8va/wCV3WnDRgassfJdVwWfM42TbWkVK90r8JLsMT2jJRclT+GDnJOTXBtO2mvDTgbc8LCV7rVvNdNp3ta91w0Vg8NBppq6ccru3quV/uBjD1pSc4yiouLS0d07pPkuZcRjBJtpay4/sSAAAAAAAAAAAAAAAAAAAAAAAAAAAAAAAAAAAAAAAAAAAAAAAAAAxKSSbeiWrKMPjITp531FezU7K3K/1uvMDYBT+ap5c+8hlvbNmVr8rmaWIjKCneybaV/rl/VgWgrqYiEb5pxVnZ3aWvGxnextfNG1s17rhz+gEwUYnFRp5b8ZyUYq6V/Mfm6aUXKUYZldKUo+4F4I7yPeWjS49rtZfqvMg8VTSb3kLJ2bzLR8gLQU1cVThFNzjqrrVdb6cyW+ioKcmoxsndu3ECwEIVYytlkne7Vne9uRCni6cpuEZJyUVLR9jvb9v1QFwKPzcEm5SUEpON5NLVE3iIJpOcby4K61vyAsBXTrQk2oyjJrik07FdDGQqSlGLXVll4rV2u7IDYBVPFU48akFfnJfT+wniacZZZTipWvZtJgWg16ONhOKkmsjip5m1ZJ89dOBP8ANU8ubeQyt2vmVr8gLQVfmqfV/wASHW+HrLX6cyOJxUaa1TekpWXKKu3+y+6AvBqxxuqU6c4XTcb5XeyvZNN625itjctONRU5Si0no46XtzfzA2gUyr5abnKElb+XRv8AQYbEqpwTWkXrykrp/uvswLgAAAAAAAAAAAAAAAAAAAAAAAAAAAAAAAAAAAAAAAAABRjaDqU3BPLmspP/AE31t9Vp9zWlgJ5n18yk6cnmsneEk/5Ulqlb7I6AA0XhJxqOpHK3nbUW2lZxiuNnZ9Xl2mfy+XDShN953gm7Xk2mlxurryN0Ac+jhqiVOraLq9Zzi20ryt22eqSS+hB4CooSjFweenKLu2srbk9FZ3XWt2cDpgCmrRcnTtbqSu/6Wv7nMr0Z0oSilnc6WT4ZPhmtZpWd83B2OyANB4SpmkupllOnO93dZciatb/Rxv2iWBmo08rWaDm7ZnFPM32pcftzN8Ac78lOKeRQ68MrUpPqu8ndO2qvJ6acEX1cPJwp5bOVNp2fB2TXH73+yNoAaEMLUjNVFkcm53jdpLNl4O2vw8le7JYLCzpON8rW6pwbTfGGbgrcHm/Q3QBo/lZxnvI5ZO9TRtpWk073s9ery7SFPBTg4ZWlZRUpJtXSd2slmratLW6+x0QBqYPDzhJ3soWsoqTl28VddVfLX9CMsNNSUo5W1UlKzbWklbjZ6m6AOdHZ8slSLcbzpOHbxbm/LrIvpUZwnKyg4Tlmbbd1ola1teHG6/Q2gBzIbPnu4puF4QpxWrae7lfXTS+n0+ZbDCTdRVJZU8+ZxTbX+W4cbK715fsbwA535GorZMqleXWzNaOblZxtaWj+XaWY6hKclb+anUp35OSTTfy6r/Q3QBpfl6k8u8yRUE7KLcrtxcbttKys3pYwsPVdDdSUFaMYpqTd7W46K3A3gBiaumuaNPA0JQk7/wAtOnTvzcU22vl1l+pugAAAAAAAAAAAAAAAAAAAAAAAAAAAAAAAAAAAAAAAAAAAATNfH1ZQpSyJub6sUub0Xv8AY59KUqSdKMZ0lmpuF8rdpSjGVrNrjd/9QHYBy3XnGThOrKMFNreNRv8ADFpN2txb1t2WJ0KjhhHJXveeui4zeuq058AOiGcqjXqSajvHbe5c0csrx3Wbja3HtsRr1XOlWUqjz5al6Vl1bNpaWvwtrfW4HXBzpuaqZHJyWeDTajdXUr20+Rq0cRONKlHe2WTWTlFdZaOLbi9Vy4+QHbBz6daTqZalXdy6mWMbWldK7V1d63XysU4XE5FBSqXWWqnmt8SkrR0XGzegHWByo4itu5TzNtQp6WX8yWaXC+mrDxE8l1WhlzLrZ466O6zZbLWz4c0B1TCknpdGlWqZ6NJ9a05U75rJ2bXG2mrsvuaUd24SUEvzG9nlyrrJ7x6t9itxv2AdpyS7UFJPg0zQwdSm89KTg5OpUeR27zfAs2TTjHD07RUW4RvZWvp2gbaktdVpxMnGpuhVlPJkhCNOcbKycr2vK3JW0vzv9erhpN04OXxOKb+tgLAAAAAAAAAAAAAAAAAAAAAAAAAAAAAAAAAAAAAAAAAAAAAAAAAAAAAAAAAAAAAAAAAAAAAAAARqU1JWkrokAAAAEalNSi4yV09GuZIAAAAAAAAAAAAAAAAAAAAAAAAAAAAAAAAAAAAAAAAAAAAAAAAAAAAAAAAACjGVnCClG188FrylOMX+jMYnGRptRavJpu14rRfOTS7SeIoKpDK21qndcU001+qK3g72bqTzK6zdW9nbThbs5AVwxkqspKmtMtOcZvg1Ju+l78Ey3C4tVb5U0l2tx/ZO6fyZOFBKedN3cVFrSztez+urI0sKozc80pStbW2ive2i1+9wKVj7Rk5QatNwXWgr2+rMQ2inLg2pQg4R/mbk53X2UftqWvBLNmUpJ5nJWtpdWdrrtIrZtNJcbqMYqV9VlbaafPX7gIbQhKagr6ycU7rVq99L37H2dn0JV8YoOSyykorNNq3VWvN68G7K/wCxKlhVCV1KVrt5dLXer7L8W+0xXwcZtvNJZllkk1aS10fm+FgNSpjaueUYxdt5GCdovjFSb+L5/wC+BdjcZKm5KMb2pTnm0teNuy9+0u/Kxu3rrNT+6io+VkMRhI1Hq5Lqyg7W1UrX/ZAVy2hGObPGUWsujy65m0ra24p8SyhiozjKS/lbTWjtpfitODRirhIybbvdqKunwyttNebLIUbRcW3K97t27forAa1TaUYwjNwklJOVm4J2Wt7X1+iE8blm+2MZSTtHWypqemuvEnUwEZK2aSWTdu1tY/dfsS/JxzOSck22+Pa4qP7JATw1dVI5krL6xd/vFstKcPh1DM7tuTu27a6W7EkXAAAAAAAAAAAAAAAAAAAAAAAAAAAAAAAAAAAAAAAAAAAAAAAAAAAAAAAAAAAAAAAAAAAAAAAAAAAAAAAAAAAAAAAAAAAAAAAAAAAAAAAAAAAAAAAAAAAAAAAAAAAAAAAAAAAAAAAAAAV7+HeQ38e8gLAV7+PeQ38e8gLAV7+PeQ38e8gLAV7+PeQ38e8gLAV7+PeQ38e8gLAV7+PeQ38e8gLAV7+PeQ38e8gLAV7+PeQ38e8gLAV7+PeQ38e8gLAV7+PeQ38e8gLAV7+PeQ38e8gLAV7+PeQ38e8gLAV7+PeQ38e8gLAV7+PeQ38e8gLAV7+PeQ38e8gLAU1MXTim5TSSTb+i4slv480BYCvfx5ob+PNAWAr38eaG/jzQFgK9/Hmhv480BYCvfx5ob+PNAWAr38eaG/jzQFgK9/Hmhv480BYCvfx5ob+PNAWAr38eaG/jzQFgK9/Hmhv480BYCvfx5ob+PNAWAr38eaG/jzQFgK9/Hmhv480BYCvfx5ob+PNAWAr38eaG/jzQGgav8Rpb2VLN14vrK3wrKpXb7FaS1+ZuZHyZz6+wqdSdSbU1KrdTs0rxcFDLw4aJ/JgWraNCylv6Vmm088bNR4ta8F2ldPa+HknLewjFfzSlFJ9aUdLv/RL62MPYkWpKUqkpT4zeW98ykpaK104x7LacDFLYUIyU71JSu5XbWrbqN3sudWf6AbMMXSlPdxqwc7XyqSbtxvbjwa8yMto0Em3XpJJ5W3OOj4248bJmvg9jypVoyjJ7uKajBq+rjGN7/SP/AI7UNgwTbvVbfa2u7OPLXSpLV68ANmOOpOtuYzjKpZycU07JZePL4kVx2pRtBuaipwc05dVWTjHVvhrJDDbIjSqKpF1HZSSi7WWbK5dl9XFPVlUdgwTWtVqOXIm1aCU41Mq04XjHjd2QGwsfQbilWpXks0VnjqtdVzWj8mSp42jNxUatOTlfKlNPNbjbnY0Z7BbqJxnKNO7cl2t2mrp9nx8fl9zaweyo0ZZo53KzV3bty30SXdQGHtOju3UjLPFT3fVTbzXUbW+rRLD4+nVlli3ms204tNWeVpp8Hcni8AqsMnWh1ozTgkmnGSknqmuK5FNLY+ScZxqVlJXzaxee8szzXXPlYBV2pThOcJKayJOTcdEm2k78m0/Ik9p0Fq61NRsmpOcbO+bg7/6JeX1JVtmxnKcnmvOMIu1uEJOS7OcmUx2HTVTedfNmcuK4t1Xy/wD7T/QC17QpXtmV8yja6Td3FXV3quvHX5mP4nh8uff0ct7Zt5G17Xte/LUpp7Apxk5R3ibdNy1Wu7cXG+nZl7O8/larEfh+9JQpSlBqCp5pa9VQcP2ev9gOqmZEaTSSs9EZyPkwMAzkfJjI+TAwDOR8mMj5MDAM5HyYyPkwMAzkfJjI+TAwDOR8mMj5MDBpbQnLSMbW0bTllzXkko3+7+rsu1m9kfJnN2lg8ROpTdOWXLK+kL3irPK27pNySs7AamIoRrrd0JOk4yV93FQyu8s132puK0XNPVM6+Gtki1e0lm1k5PXXizXngZ1HHMmlC9pZ25O6s9Ekr8VfX5G8qbWiQGAZyPkxkfJgYBnI+TGR8mBgGcj5MZHyYGAZyPkxkfJgYBnI+TGR8mBgGcj5MZHyYGAZyPkxkfJgYBnI+TGR8mBgGcj5MZHyYGAZyPkxkfJgYBnI+TGR8mBgGcj5MZHyYGAZyPkxkfJgUUqzlOcXFLLbVO/G+j0VnZJ2+aLiFLCqF8sWru748eJZkfJgbQAAAADBkAAAAAAAAAAAAAAAAAAAAAAAAAAAAAAAAAAAAAAAAAAAAAAAAAAAAAAAAAAAAAAAAAAAAAAAAAACG8j3l5obyPeXmgJghvY95eaG9j3l5oCYIb2PeXmhvY95eaAmCG9j3l5ob2PeXmgJghvY95eaG9j3l5oCYIb2PeXmhvY95eaAmCG9j3l5ob2PeXmgJghvY95eaG9j3l5oCYIb2PeXmhvY95eaAmCG9j3l5ob2PeXmgJghvY95eaG9j3l5oCYIb2PeXmhvY95eaAmCG9j3l5obyPeXmgJghvI95eaG8j3l5oCYIbyPeXmhvI95eaAmCG8j3l5obyPeXmgJghvI95eaG8j3l5oCYIbyPeXmhvI95eaAmCG8j3l5obyPeXmgJghvI95eaG8j3l5oCYIbyPeXmhvI95eaAmCG8j3l5obyPeXmgJghvI95eaG8j3l5oCYIbyPeXmhvI95eaAmCG8j3l5obyPeXmgJghvI95eaG8j3l5oCYIbyPeXmhvI95eaAmCG8j3l5obyPeXmgJghvI95eaG8j3l5oCYIbyPeXmhvI95eaA+LfwvEeDU/pZj+F4jwan9LPZfxPD+NT/AKkTePoZc2/o/TeRv5XNHiv4XiPBqf0sfwvEeDU/pZ7L+J4fxqf9SH8Uw/jU/wCpAeN/heI8Gp/SyNXZ9aEXKVKaS4txZ7T+KYfxqf8AUiFbaWHcJLfU3eLVsy5AeFABgAAAAAAAAAAAAAAAAAAAAAAAAAAAAAAAAAAAAAAAAAAAAAAAAAAAAAAAAAAAAAAAAAAAAAAAAAAAAAAAAAAAAAAAAAAAAAAAAAAAAAAAAAAAAAAAAAAAAAAAAAAAAAAAAAAAAAAAAAAAAAAAAAAAAAAAAAAAAAAAAAAAAAAAAAAAAAAAAAAAAAAAAAAAAAAAAAAAAAAAAAAAAAAAAAAAAAAAAAAAAAAAAAAAAAP/2Q==\n"
                },
                "metadata": {}
              }
            ]
          }
        },
        "05a183d8cfde40f5b2e6c89a513ebc43": {
          "model_module": "@jupyter-widgets/base",
          "model_name": "LayoutModel",
          "model_module_version": "1.2.0",
          "state": {
            "_model_module": "@jupyter-widgets/base",
            "_model_module_version": "1.2.0",
            "_model_name": "LayoutModel",
            "_view_count": null,
            "_view_module": "@jupyter-widgets/base",
            "_view_module_version": "1.2.0",
            "_view_name": "LayoutView",
            "align_content": null,
            "align_items": null,
            "align_self": null,
            "border": null,
            "bottom": null,
            "display": null,
            "flex": null,
            "flex_flow": null,
            "grid_area": null,
            "grid_auto_columns": null,
            "grid_auto_flow": null,
            "grid_auto_rows": null,
            "grid_column": null,
            "grid_gap": null,
            "grid_row": null,
            "grid_template_areas": null,
            "grid_template_columns": null,
            "grid_template_rows": null,
            "height": null,
            "justify_content": null,
            "justify_items": null,
            "left": null,
            "margin": null,
            "max_height": null,
            "max_width": null,
            "min_height": null,
            "min_width": null,
            "object_fit": null,
            "object_position": null,
            "order": null,
            "overflow": null,
            "overflow_x": null,
            "overflow_y": null,
            "padding": null,
            "right": null,
            "top": null,
            "visibility": null,
            "width": null
          }
        },
        "d7845b4465e94d2184bc40a403ae5c7a": {
          "model_module": "@jupyter-widgets/base",
          "model_name": "LayoutModel",
          "model_module_version": "1.2.0",
          "state": {
            "_model_module": "@jupyter-widgets/base",
            "_model_module_version": "1.2.0",
            "_model_name": "LayoutModel",
            "_view_count": null,
            "_view_module": "@jupyter-widgets/base",
            "_view_module_version": "1.2.0",
            "_view_name": "LayoutView",
            "align_content": null,
            "align_items": null,
            "align_self": null,
            "border": null,
            "bottom": null,
            "display": null,
            "flex": null,
            "flex_flow": null,
            "grid_area": null,
            "grid_auto_columns": null,
            "grid_auto_flow": null,
            "grid_auto_rows": null,
            "grid_column": null,
            "grid_gap": null,
            "grid_row": null,
            "grid_template_areas": null,
            "grid_template_columns": null,
            "grid_template_rows": null,
            "height": null,
            "justify_content": null,
            "justify_items": null,
            "left": null,
            "margin": null,
            "max_height": null,
            "max_width": null,
            "min_height": null,
            "min_width": null,
            "object_fit": null,
            "object_position": null,
            "order": null,
            "overflow": null,
            "overflow_x": null,
            "overflow_y": null,
            "padding": null,
            "right": null,
            "top": null,
            "visibility": null,
            "width": null
          }
        },
        "d08efa198dc04ca595f7faf5de717101": {
          "model_module": "@jupyter-widgets/controls",
          "model_name": "TabModel",
          "model_module_version": "1.5.0",
          "state": {
            "_dom_classes": [],
            "_model_module": "@jupyter-widgets/controls",
            "_model_module_version": "1.5.0",
            "_model_name": "TabModel",
            "_titles": {
              "0": "Youtube"
            },
            "_view_count": null,
            "_view_module": "@jupyter-widgets/controls",
            "_view_module_version": "1.5.0",
            "_view_name": "TabView",
            "box_style": "",
            "children": [
              "IPY_MODEL_d2dc6fd4acd64f238e12641cb6588e82"
            ],
            "layout": "IPY_MODEL_1dc6655e41cd4e8fb87cf1b84e8dcbde",
            "selected_index": 0
          }
        },
        "d2dc6fd4acd64f238e12641cb6588e82": {
          "model_module": "@jupyter-widgets/output",
          "model_name": "OutputModel",
          "model_module_version": "1.0.0",
          "state": {
            "_dom_classes": [],
            "_model_module": "@jupyter-widgets/output",
            "_model_module_version": "1.0.0",
            "_model_name": "OutputModel",
            "_view_count": null,
            "_view_module": "@jupyter-widgets/output",
            "_view_module_version": "1.0.0",
            "_view_name": "OutputView",
            "layout": "IPY_MODEL_1a5b413fec54454b8869367d5c31ca1d",
            "msg_id": "",
            "outputs": [
              {
                "output_type": "stream",
                "name": "stdout",
                "text": [
                  "Video available at https://youtube.com/watch?v=fqdbgkimsxo\n"
                ]
              },
              {
                "output_type": "display_data",
                "data": {
                  "text/plain": "<IPython.lib.display.YouTubeVideo at 0x7f428a695c60>",
                  "text/html": "\n        <iframe\n            width=\"854\"\n            height=\"480\"\n            src=\"https://www.youtube.com/embed/fqdbgkimsxo?fs=1&rel=0\"\n            frameborder=\"0\"\n            allowfullscreen\n            \n        ></iframe>\n        ",
                  "image/jpeg": "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\n"
                },
                "metadata": {}
              }
            ]
          }
        },
        "1dc6655e41cd4e8fb87cf1b84e8dcbde": {
          "model_module": "@jupyter-widgets/base",
          "model_name": "LayoutModel",
          "model_module_version": "1.2.0",
          "state": {
            "_model_module": "@jupyter-widgets/base",
            "_model_module_version": "1.2.0",
            "_model_name": "LayoutModel",
            "_view_count": null,
            "_view_module": "@jupyter-widgets/base",
            "_view_module_version": "1.2.0",
            "_view_name": "LayoutView",
            "align_content": null,
            "align_items": null,
            "align_self": null,
            "border": null,
            "bottom": null,
            "display": null,
            "flex": null,
            "flex_flow": null,
            "grid_area": null,
            "grid_auto_columns": null,
            "grid_auto_flow": null,
            "grid_auto_rows": null,
            "grid_column": null,
            "grid_gap": null,
            "grid_row": null,
            "grid_template_areas": null,
            "grid_template_columns": null,
            "grid_template_rows": null,
            "height": null,
            "justify_content": null,
            "justify_items": null,
            "left": null,
            "margin": null,
            "max_height": null,
            "max_width": null,
            "min_height": null,
            "min_width": null,
            "object_fit": null,
            "object_position": null,
            "order": null,
            "overflow": null,
            "overflow_x": null,
            "overflow_y": null,
            "padding": null,
            "right": null,
            "top": null,
            "visibility": null,
            "width": null
          }
        },
        "1a5b413fec54454b8869367d5c31ca1d": {
          "model_module": "@jupyter-widgets/base",
          "model_name": "LayoutModel",
          "model_module_version": "1.2.0",
          "state": {
            "_model_module": "@jupyter-widgets/base",
            "_model_module_version": "1.2.0",
            "_model_name": "LayoutModel",
            "_view_count": null,
            "_view_module": "@jupyter-widgets/base",
            "_view_module_version": "1.2.0",
            "_view_name": "LayoutView",
            "align_content": null,
            "align_items": null,
            "align_self": null,
            "border": null,
            "bottom": null,
            "display": null,
            "flex": null,
            "flex_flow": null,
            "grid_area": null,
            "grid_auto_columns": null,
            "grid_auto_flow": null,
            "grid_auto_rows": null,
            "grid_column": null,
            "grid_gap": null,
            "grid_row": null,
            "grid_template_areas": null,
            "grid_template_columns": null,
            "grid_template_rows": null,
            "height": null,
            "justify_content": null,
            "justify_items": null,
            "left": null,
            "margin": null,
            "max_height": null,
            "max_width": null,
            "min_height": null,
            "min_width": null,
            "object_fit": null,
            "object_position": null,
            "order": null,
            "overflow": null,
            "overflow_x": null,
            "overflow_y": null,
            "padding": null,
            "right": null,
            "top": null,
            "visibility": null,
            "width": null
          }
        },
        "69d4d00f01274c979393d4691f7f8946": {
          "model_module": "@jupyter-widgets/controls",
          "model_name": "TabModel",
          "model_module_version": "1.5.0",
          "state": {
            "_dom_classes": [],
            "_model_module": "@jupyter-widgets/controls",
            "_model_module_version": "1.5.0",
            "_model_name": "TabModel",
            "_titles": {
              "0": "Youtube"
            },
            "_view_count": null,
            "_view_module": "@jupyter-widgets/controls",
            "_view_module_version": "1.5.0",
            "_view_name": "TabView",
            "box_style": "",
            "children": [
              "IPY_MODEL_519081a8599640f5884b3f82d9921751"
            ],
            "layout": "IPY_MODEL_e5c26a24037d4b5ab3caf229d2456a0f",
            "selected_index": 0
          }
        },
        "519081a8599640f5884b3f82d9921751": {
          "model_module": "@jupyter-widgets/output",
          "model_name": "OutputModel",
          "model_module_version": "1.0.0",
          "state": {
            "_dom_classes": [],
            "_model_module": "@jupyter-widgets/output",
            "_model_module_version": "1.0.0",
            "_model_name": "OutputModel",
            "_view_count": null,
            "_view_module": "@jupyter-widgets/output",
            "_view_module_version": "1.0.0",
            "_view_name": "OutputView",
            "layout": "IPY_MODEL_2155aff209824df18417d66a3832b612",
            "msg_id": "",
            "outputs": [
              {
                "output_type": "stream",
                "name": "stdout",
                "text": [
                  "Video available at https://youtube.com/watch?v=V5n41NHMbZI\n"
                ]
              },
              {
                "output_type": "display_data",
                "data": {
                  "text/plain": "<IPython.lib.display.YouTubeVideo at 0x7f42883a3550>",
                  "text/html": "\n        <iframe\n            width=\"854\"\n            height=\"480\"\n            src=\"https://www.youtube.com/embed/V5n41NHMbZI?fs=1&rel=0\"\n            frameborder=\"0\"\n            allowfullscreen\n            \n        ></iframe>\n        ",
                  "image/jpeg": "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\n"
                },
                "metadata": {}
              }
            ]
          }
        },
        "e5c26a24037d4b5ab3caf229d2456a0f": {
          "model_module": "@jupyter-widgets/base",
          "model_name": "LayoutModel",
          "model_module_version": "1.2.0",
          "state": {
            "_model_module": "@jupyter-widgets/base",
            "_model_module_version": "1.2.0",
            "_model_name": "LayoutModel",
            "_view_count": null,
            "_view_module": "@jupyter-widgets/base",
            "_view_module_version": "1.2.0",
            "_view_name": "LayoutView",
            "align_content": null,
            "align_items": null,
            "align_self": null,
            "border": null,
            "bottom": null,
            "display": null,
            "flex": null,
            "flex_flow": null,
            "grid_area": null,
            "grid_auto_columns": null,
            "grid_auto_flow": null,
            "grid_auto_rows": null,
            "grid_column": null,
            "grid_gap": null,
            "grid_row": null,
            "grid_template_areas": null,
            "grid_template_columns": null,
            "grid_template_rows": null,
            "height": null,
            "justify_content": null,
            "justify_items": null,
            "left": null,
            "margin": null,
            "max_height": null,
            "max_width": null,
            "min_height": null,
            "min_width": null,
            "object_fit": null,
            "object_position": null,
            "order": null,
            "overflow": null,
            "overflow_x": null,
            "overflow_y": null,
            "padding": null,
            "right": null,
            "top": null,
            "visibility": null,
            "width": null
          }
        },
        "2155aff209824df18417d66a3832b612": {
          "model_module": "@jupyter-widgets/base",
          "model_name": "LayoutModel",
          "model_module_version": "1.2.0",
          "state": {
            "_model_module": "@jupyter-widgets/base",
            "_model_module_version": "1.2.0",
            "_model_name": "LayoutModel",
            "_view_count": null,
            "_view_module": "@jupyter-widgets/base",
            "_view_module_version": "1.2.0",
            "_view_name": "LayoutView",
            "align_content": null,
            "align_items": null,
            "align_self": null,
            "border": null,
            "bottom": null,
            "display": null,
            "flex": null,
            "flex_flow": null,
            "grid_area": null,
            "grid_auto_columns": null,
            "grid_auto_flow": null,
            "grid_auto_rows": null,
            "grid_column": null,
            "grid_gap": null,
            "grid_row": null,
            "grid_template_areas": null,
            "grid_template_columns": null,
            "grid_template_rows": null,
            "height": null,
            "justify_content": null,
            "justify_items": null,
            "left": null,
            "margin": null,
            "max_height": null,
            "max_width": null,
            "min_height": null,
            "min_width": null,
            "object_fit": null,
            "object_position": null,
            "order": null,
            "overflow": null,
            "overflow_x": null,
            "overflow_y": null,
            "padding": null,
            "right": null,
            "top": null,
            "visibility": null,
            "width": null
          }
        },
        "c4558e64b1a4419c9e378c9bb7d3f630": {
          "model_module": "@jupyter-widgets/controls",
          "model_name": "TabModel",
          "model_module_version": "1.5.0",
          "state": {
            "_dom_classes": [],
            "_model_module": "@jupyter-widgets/controls",
            "_model_module_version": "1.5.0",
            "_model_name": "TabModel",
            "_titles": {
              "0": "Youtube",
              "1": "Bilibili"
            },
            "_view_count": null,
            "_view_module": "@jupyter-widgets/controls",
            "_view_module_version": "1.5.0",
            "_view_name": "TabView",
            "box_style": "",
            "children": [
              "IPY_MODEL_d9302d5c591d40a686c88efe428870de",
              "IPY_MODEL_058fb9439fda4d4ea17dae2e59ddb965"
            ],
            "layout": "IPY_MODEL_535001955acc4350ac7128e274e46d07",
            "selected_index": 0
          }
        },
        "d9302d5c591d40a686c88efe428870de": {
          "model_module": "@jupyter-widgets/output",
          "model_name": "OutputModel",
          "model_module_version": "1.0.0",
          "state": {
            "_dom_classes": [],
            "_model_module": "@jupyter-widgets/output",
            "_model_module_version": "1.0.0",
            "_model_name": "OutputModel",
            "_view_count": null,
            "_view_module": "@jupyter-widgets/output",
            "_view_module_version": "1.0.0",
            "_view_name": "OutputView",
            "layout": "IPY_MODEL_c0a25d317a8846e08e677abde5369cb3",
            "msg_id": "",
            "outputs": [
              {
                "output_type": "stream",
                "name": "stdout",
                "text": [
                  "Video available at https://youtube.com/watch?v=Sr2T9VZlNJY\n"
                ]
              },
              {
                "output_type": "display_data",
                "data": {
                  "text/plain": "<IPython.lib.display.YouTubeVideo at 0x7f428834bcd0>",
                  "text/html": "\n        <iframe\n            width=\"854\"\n            height=\"480\"\n            src=\"https://www.youtube.com/embed/Sr2T9VZlNJY?fs=1&rel=0\"\n            frameborder=\"0\"\n            allowfullscreen\n            \n        ></iframe>\n        ",
                  "image/jpeg": "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\n"
                },
                "metadata": {}
              }
            ]
          }
        },
        "058fb9439fda4d4ea17dae2e59ddb965": {
          "model_module": "@jupyter-widgets/output",
          "model_name": "OutputModel",
          "model_module_version": "1.0.0",
          "state": {
            "_dom_classes": [],
            "_model_module": "@jupyter-widgets/output",
            "_model_module_version": "1.0.0",
            "_model_name": "OutputModel",
            "_view_count": null,
            "_view_module": "@jupyter-widgets/output",
            "_view_module_version": "1.0.0",
            "_view_name": "OutputView",
            "layout": "IPY_MODEL_ea28105a6ce24943a5250f33c66af6a2",
            "msg_id": "",
            "outputs": [
              {
                "output_type": "stream",
                "name": "stdout",
                "text": [
                  "Video available at https://www.bilibili.com/video/\n"
                ]
              },
              {
                "output_type": "display_data",
                "data": {
                  "text/plain": "<__main__.PlayVideo at 0x7f428834b460>",
                  "text/html": "\n        <iframe\n            width=\"854\"\n            height=\"480\"\n            src=\"https://player.bilibili.com/player.html?bvid=&page=1?fs=1&autoplay=False\"\n            frameborder=\"0\"\n            allowfullscreen\n            \n        ></iframe>\n        "
                },
                "metadata": {}
              }
            ]
          }
        },
        "535001955acc4350ac7128e274e46d07": {
          "model_module": "@jupyter-widgets/base",
          "model_name": "LayoutModel",
          "model_module_version": "1.2.0",
          "state": {
            "_model_module": "@jupyter-widgets/base",
            "_model_module_version": "1.2.0",
            "_model_name": "LayoutModel",
            "_view_count": null,
            "_view_module": "@jupyter-widgets/base",
            "_view_module_version": "1.2.0",
            "_view_name": "LayoutView",
            "align_content": null,
            "align_items": null,
            "align_self": null,
            "border": null,
            "bottom": null,
            "display": null,
            "flex": null,
            "flex_flow": null,
            "grid_area": null,
            "grid_auto_columns": null,
            "grid_auto_flow": null,
            "grid_auto_rows": null,
            "grid_column": null,
            "grid_gap": null,
            "grid_row": null,
            "grid_template_areas": null,
            "grid_template_columns": null,
            "grid_template_rows": null,
            "height": null,
            "justify_content": null,
            "justify_items": null,
            "left": null,
            "margin": null,
            "max_height": null,
            "max_width": null,
            "min_height": null,
            "min_width": null,
            "object_fit": null,
            "object_position": null,
            "order": null,
            "overflow": null,
            "overflow_x": null,
            "overflow_y": null,
            "padding": null,
            "right": null,
            "top": null,
            "visibility": null,
            "width": null
          }
        },
        "c0a25d317a8846e08e677abde5369cb3": {
          "model_module": "@jupyter-widgets/base",
          "model_name": "LayoutModel",
          "model_module_version": "1.2.0",
          "state": {
            "_model_module": "@jupyter-widgets/base",
            "_model_module_version": "1.2.0",
            "_model_name": "LayoutModel",
            "_view_count": null,
            "_view_module": "@jupyter-widgets/base",
            "_view_module_version": "1.2.0",
            "_view_name": "LayoutView",
            "align_content": null,
            "align_items": null,
            "align_self": null,
            "border": null,
            "bottom": null,
            "display": null,
            "flex": null,
            "flex_flow": null,
            "grid_area": null,
            "grid_auto_columns": null,
            "grid_auto_flow": null,
            "grid_auto_rows": null,
            "grid_column": null,
            "grid_gap": null,
            "grid_row": null,
            "grid_template_areas": null,
            "grid_template_columns": null,
            "grid_template_rows": null,
            "height": null,
            "justify_content": null,
            "justify_items": null,
            "left": null,
            "margin": null,
            "max_height": null,
            "max_width": null,
            "min_height": null,
            "min_width": null,
            "object_fit": null,
            "object_position": null,
            "order": null,
            "overflow": null,
            "overflow_x": null,
            "overflow_y": null,
            "padding": null,
            "right": null,
            "top": null,
            "visibility": null,
            "width": null
          }
        },
        "ea28105a6ce24943a5250f33c66af6a2": {
          "model_module": "@jupyter-widgets/base",
          "model_name": "LayoutModel",
          "model_module_version": "1.2.0",
          "state": {
            "_model_module": "@jupyter-widgets/base",
            "_model_module_version": "1.2.0",
            "_model_name": "LayoutModel",
            "_view_count": null,
            "_view_module": "@jupyter-widgets/base",
            "_view_module_version": "1.2.0",
            "_view_name": "LayoutView",
            "align_content": null,
            "align_items": null,
            "align_self": null,
            "border": null,
            "bottom": null,
            "display": null,
            "flex": null,
            "flex_flow": null,
            "grid_area": null,
            "grid_auto_columns": null,
            "grid_auto_flow": null,
            "grid_auto_rows": null,
            "grid_column": null,
            "grid_gap": null,
            "grid_row": null,
            "grid_template_areas": null,
            "grid_template_columns": null,
            "grid_template_rows": null,
            "height": null,
            "justify_content": null,
            "justify_items": null,
            "left": null,
            "margin": null,
            "max_height": null,
            "max_width": null,
            "min_height": null,
            "min_width": null,
            "object_fit": null,
            "object_position": null,
            "order": null,
            "overflow": null,
            "overflow_x": null,
            "overflow_y": null,
            "padding": null,
            "right": null,
            "top": null,
            "visibility": null,
            "width": null
          }
        },
        "02cf349b0e0245209d53998cc3f418bb": {
          "model_module": "@jupyter-widgets/controls",
          "model_name": "TabModel",
          "model_module_version": "1.5.0",
          "state": {
            "_dom_classes": [],
            "_model_module": "@jupyter-widgets/controls",
            "_model_module_version": "1.5.0",
            "_model_name": "TabModel",
            "_titles": {
              "0": "Youtube"
            },
            "_view_count": null,
            "_view_module": "@jupyter-widgets/controls",
            "_view_module_version": "1.5.0",
            "_view_name": "TabView",
            "box_style": "",
            "children": [
              "IPY_MODEL_5c35a038177d477e80ed8b928ffad48c"
            ],
            "layout": "IPY_MODEL_3b29d00a96814f30b4c6048dcfae6d29",
            "selected_index": 0
          }
        },
        "5c35a038177d477e80ed8b928ffad48c": {
          "model_module": "@jupyter-widgets/output",
          "model_name": "OutputModel",
          "model_module_version": "1.0.0",
          "state": {
            "_dom_classes": [],
            "_model_module": "@jupyter-widgets/output",
            "_model_module_version": "1.0.0",
            "_model_name": "OutputModel",
            "_view_count": null,
            "_view_module": "@jupyter-widgets/output",
            "_view_module_version": "1.0.0",
            "_view_name": "OutputView",
            "layout": "IPY_MODEL_9187f5f39e3c46f0a710b2cd20d8d09e",
            "msg_id": "",
            "outputs": [
              {
                "output_type": "stream",
                "name": "stdout",
                "text": [
                  "Video available at https://youtube.com/watch?v=v76xc1jzaPU\n"
                ]
              },
              {
                "output_type": "display_data",
                "data": {
                  "text/plain": "<IPython.lib.display.YouTubeVideo at 0x7f42883a0100>",
                  "text/html": "\n        <iframe\n            width=\"854\"\n            height=\"480\"\n            src=\"https://www.youtube.com/embed/v76xc1jzaPU?fs=1&rel=0\"\n            frameborder=\"0\"\n            allowfullscreen\n            \n        ></iframe>\n        ",
                  "image/jpeg": "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\n"
                },
                "metadata": {}
              }
            ]
          }
        },
        "3b29d00a96814f30b4c6048dcfae6d29": {
          "model_module": "@jupyter-widgets/base",
          "model_name": "LayoutModel",
          "model_module_version": "1.2.0",
          "state": {
            "_model_module": "@jupyter-widgets/base",
            "_model_module_version": "1.2.0",
            "_model_name": "LayoutModel",
            "_view_count": null,
            "_view_module": "@jupyter-widgets/base",
            "_view_module_version": "1.2.0",
            "_view_name": "LayoutView",
            "align_content": null,
            "align_items": null,
            "align_self": null,
            "border": null,
            "bottom": null,
            "display": null,
            "flex": null,
            "flex_flow": null,
            "grid_area": null,
            "grid_auto_columns": null,
            "grid_auto_flow": null,
            "grid_auto_rows": null,
            "grid_column": null,
            "grid_gap": null,
            "grid_row": null,
            "grid_template_areas": null,
            "grid_template_columns": null,
            "grid_template_rows": null,
            "height": null,
            "justify_content": null,
            "justify_items": null,
            "left": null,
            "margin": null,
            "max_height": null,
            "max_width": null,
            "min_height": null,
            "min_width": null,
            "object_fit": null,
            "object_position": null,
            "order": null,
            "overflow": null,
            "overflow_x": null,
            "overflow_y": null,
            "padding": null,
            "right": null,
            "top": null,
            "visibility": null,
            "width": null
          }
        },
        "9187f5f39e3c46f0a710b2cd20d8d09e": {
          "model_module": "@jupyter-widgets/base",
          "model_name": "LayoutModel",
          "model_module_version": "1.2.0",
          "state": {
            "_model_module": "@jupyter-widgets/base",
            "_model_module_version": "1.2.0",
            "_model_name": "LayoutModel",
            "_view_count": null,
            "_view_module": "@jupyter-widgets/base",
            "_view_module_version": "1.2.0",
            "_view_name": "LayoutView",
            "align_content": null,
            "align_items": null,
            "align_self": null,
            "border": null,
            "bottom": null,
            "display": null,
            "flex": null,
            "flex_flow": null,
            "grid_area": null,
            "grid_auto_columns": null,
            "grid_auto_flow": null,
            "grid_auto_rows": null,
            "grid_column": null,
            "grid_gap": null,
            "grid_row": null,
            "grid_template_areas": null,
            "grid_template_columns": null,
            "grid_template_rows": null,
            "height": null,
            "justify_content": null,
            "justify_items": null,
            "left": null,
            "margin": null,
            "max_height": null,
            "max_width": null,
            "min_height": null,
            "min_width": null,
            "object_fit": null,
            "object_position": null,
            "order": null,
            "overflow": null,
            "overflow_x": null,
            "overflow_y": null,
            "padding": null,
            "right": null,
            "top": null,
            "visibility": null,
            "width": null
          }
        },
        "93a8612961f74328bde2d4c85a156837": {
          "model_module": "@jupyter-widgets/controls",
          "model_name": "TabModel",
          "model_module_version": "1.5.0",
          "state": {
            "_dom_classes": [],
            "_model_module": "@jupyter-widgets/controls",
            "_model_module_version": "1.5.0",
            "_model_name": "TabModel",
            "_titles": {
              "0": "Youtube"
            },
            "_view_count": null,
            "_view_module": "@jupyter-widgets/controls",
            "_view_module_version": "1.5.0",
            "_view_name": "TabView",
            "box_style": "",
            "children": [
              "IPY_MODEL_88f75a847933438d94c00e83aa9095aa"
            ],
            "layout": "IPY_MODEL_572392b21bc049f6bf712c41ffc1fd80",
            "selected_index": 0
          }
        },
        "88f75a847933438d94c00e83aa9095aa": {
          "model_module": "@jupyter-widgets/output",
          "model_name": "OutputModel",
          "model_module_version": "1.0.0",
          "state": {
            "_dom_classes": [],
            "_model_module": "@jupyter-widgets/output",
            "_model_module_version": "1.0.0",
            "_model_name": "OutputModel",
            "_view_count": null,
            "_view_module": "@jupyter-widgets/output",
            "_view_module_version": "1.0.0",
            "_view_name": "OutputView",
            "layout": "IPY_MODEL_054f355be576413e8b0c55e76c612bf7",
            "msg_id": "",
            "outputs": [
              {
                "output_type": "stream",
                "name": "stdout",
                "text": [
                  "Video available at https://youtube.com/watch?v=By7oLXsCh0w\n"
                ]
              },
              {
                "output_type": "display_data",
                "data": {
                  "text/plain": "<IPython.lib.display.YouTubeVideo at 0x7f428a6975b0>",
                  "text/html": "\n        <iframe\n            width=\"854\"\n            height=\"480\"\n            src=\"https://www.youtube.com/embed/By7oLXsCh0w?fs=1&rel=0\"\n            frameborder=\"0\"\n            allowfullscreen\n            \n        ></iframe>\n        ",
                  "image/jpeg": "/9j/4AAQSkZJRgABAQAAAQABAAD/2wCEABALDBoYFhsaGRoeHRsfIiUlIiIiICUnJSclLicyMC0nLS01PVBCNThLOS0tRWFFS1NWW11bNUFlbWRYbFBZW1cBERISGRYZLRobLVc2LTZXV1dXV1dXV1dXV1dXV1dXV1dXV1dXV1dXV1dXV1dXV1dXV1dXV1dXV1dXV1dXV1dXV//AABEIAWgB4AMBIgACEQEDEQH/xAAbAAABBQEBAAAAAAAAAAAAAAAAAQIDBAUGB//EAEkQAAEDAgMDBgsECQQCAQUAAAEAAhEDIQQSMUFRcQUiYYGRsQYTMlJTcpKh0dLwFELB4QcWFyMzQ2KCshWiwvFjk3MkVGSj4v/EABoBAQADAQEBAAAAAAAAAAAAAAABAgMEBQb/xAAnEQEBAAICAgMAAQMFAAAAAAAAAQIRAxIhMQQTQVEFImEUIzJCcf/aAAwDAQACEQMRAD8A8/QhCAQhCAQhCAQhCAQhCAQhCAQhCAQhCAQhCAQhCAQhCAQhCAQhCAQhCAQhCAQhCAQhCAQhCAQhCAQhCAQhCAQhCAQhCAQhCAQhCAQhCAQhCAQhCAQhCAQhCAQhCAQhCAQhCAQhCAQhCAQhCAQhCAQhCAQhCAQhCAQhCAQhCAQhCAQhCAQhCAQhCAQhCAQhCAQhCAQhCAQhCAQhCAQhCAQhCAQhCAQhCAQhCAQhCAQhCAQhCAQug/VDE+fS9p3yo/VDEefR9p3yqvfH+Vutc+hdB+p+J8+j7TvlR+p+J8+j7TvlTvj/ACda59C6Gn4HYlz2tD6MuMDnP3T5vQrR/R/jPSYf2n/KpllRZY5RC6d/gPiW+VWww4veP+KY3wLrkwK+FJ6KjvlTaHNoXV/s/wAX6XD3/rf8iYPAPFEAiph7xHOfeTA+6pHLoXVN8AMWcv7zD86Y5z9Bt8n6lOqfo/xTRLq2GA9ep8iDk0LrB+j3FkSK2GI9d/yJR+j3Gelw/tVPkQckhdaf0eYz0uH9t/yI/Z5jPS4f2qnyIOSQuu/Z3jPS4f2qnyI/Z3jPS4f2qnyIORQut/Z5jPSYf2n/ACJD+j3Gelw/tP8AkQcmhdZ+z3Gelw/tv+RA/R9jPSYf2n/ImxyaF1n7PsZ6TD+0/wCRJ+z/ABnpMP7T/lUbg5RC6s+AGL9Jh/af8qQ+AOL9JQ9p/wAqbHKoXU/qDi/SUPaf8qD4BYsfzKHtP+VNwcshdSPAPFn+ZQ9qp8ic39H+MP8AMw/tP+VNjlELrD+j3Gekw/tP+RNPgBi/SYf2n/Kp2OVQuoqeAeLa0uNShAE2dUP/AAUx/R1jPS4f2qnyKNjkULrf2d4z0uH9qp8iP2d4z0mH9qp8ibHJIXVVvADFsialC5izn7p83oUL/AnFCOfR9p/yqTenNoW/W8EMQxpcX0YG5zvlUdDwXr1CQH0rby7o/p6UV7RiIXQHwQxHn0fad8qQ+COI8+j7TvlRO4wELoW+B+IJAFSjcx5T/lU36i4r0lD2n/Ko3DbmELpKfgTinNBFSjf+p/ypT4E4oGPGUfaf8qbS5pC6UeBGK9JQ9t3yo/UfFefRHFz/AJVOxzSF0o8CMV6Sh7T/AJUO8CMUP5lD2n/KmxzSF0f6lYrz6Pa/5Ug8DcQf5lD2n/Kg51C6T9ScV59H2nfKj9ScV59H2n/Kg5tC6UeBGK9JQ9p/yqWj4A4t5gVKHW5/yoOVQuw/ZxjfS4f26nyJD+jnG+lw/t1PkQcghdd+zrGelw/tVPkQ39HWMP8ANw/t1PkQ26dCRKFxOoqEkprqgQSYY/v6XrH/ABK23LCwzpq0/W/AraqVMsc0kHUiIF4E3nbsW/H6Y5+1WrzPG7CQXNO+G6cRGm5U8Q97SQ4tdzgAHAgDmggA7SYd7lfyUK/OGR5FswNxE7RfeojgY8mo+BsNSr+Do9yuoQUaZcW84OzQGC880OuDzd9zuVtgdmgkZ2ixgaHaD+H5Kv4uofvG1wC9p76c+9IHVmvzPcwiIBDHWveSDwvEW2K20aXRTjY0TrAiVBiDEAktkxbU200T24h+uVpGwtfM9oHeipWLhBpuE7w1w7A6U2jSq7D3YWkhoiANLX4qRlKpLZfuzcZvaNN1x1ppnNPjX+QWHO1wAMWeLAEz0ptTFubzWmnVcZy5bTbQwSBeL2CbNJajKpbkOUg2cZIltpgcJ2q3Se4tGYDMdY0HQqhqVWDRoY2IcSTmtoY0k7T71ba6QDpN9xUGjvGCSNydmTIShvT70SVp3oSJ0oG5byUkEILkigKOKaHcdJSwIQoNmZ96ITupAt0KdAyoqMkdiciEEcb/AM08HpBTHmATqd0FRuqDpHaEVSuekUYM9PWpWNRMplcfu3+q7uV5yq1x+7eP6XdytFE7MQlSIlXx+jPW/wCJVCqNPratDHaM9b/i5UKuxWjPJRx38N3QFR5MHO6hJ6h8FexYmm4TsVLk6Q6NmUK0Y32vOSX6OtJUN0hJ2LO1pIfTPOb6w71pkWWVSdzhxHetVBVw38NvX3pagdNje+78UYXyAlqTIgT2o0hGNJ+72XSRJkEtJCQtjUEJwM/e+ClYZjAi/THxQ4m5gdqSw2t7vgjLMyCgA++hFt6JB1g8QjgSEgAjYVMDjl/6KARvKYWjcTwKUPHSOKISAK5gDz1RDpNoV3AHnqyK0khSkppCqGOMDqSNdoAEjzaNqcLIq5oIQELjdhrlGWKcBIWypDMJ/Gp+t+BWxicOakQGgictSTnYd7RH4rJoMAq0z/UFvtW3H6ZZ+1HxYIAIGVgY0tacxIabmBeNLa6qWjSlgmRrEzMSYBnbEKXEMcSXDYLC063ImwMT7lUr03lsNDwLOgvk8y4Ezq4xtiAd60ZrLafSnZVDQL87s0jOA5oOyLFvZlPElWCoSiFAAy206xoepQco0nupFrGCoTsLyw8QRtmLSOKtFKEGbhalQUqYe6owjMHOcw5rHmi8i46XaC5JQ/FmTnyEtBlpac8ZcxdrAm2zUQtSyaQpGXSxDS3yKYIAa5zGic4eG1IA3T2yp8C5tQZpecjoBzVWzYESwm1joQrbqDXagHXo1gnuHYm08O0OLpJcQASYGnAAbT2qBMHJoqAuLbzroY7UwjngDaD7iPin7UDyUrSmShSEqVMomNrR1kgfinyq2Ke1oGcwJBmCQMpBkkaDpNlKBdQD7SzTMJFj0bNfcnErKr1BDWOLBNHm5yBDgYdB2OvHEcVcovsYmAbTqBAMHhMdSlCyEKhqXmCA9riHAjRhgRtBvKKFQ+JHOhzslvMzwLTxkbDwsgvByjbiGvIDYcCJN9BcDrkHsKhxD3Nkg+SM3GNQer3qDk7kz7O+pke4seZyGIDt4tOzeg0HGQQmNM96VSNRFI2mNymYmRpsTmPGkiVKDqo5rh0HuTweaOASOFjwSUzzG+qO5AqEiFCUOO8lvrf8XKhW2K/jfJb63/EqhXOnX+Cn8Vqri2zTdwPcVm4CM4jd81vctPEAeLdwPcVmYMRUbPmn/ko2z0u1EyU6qmgqjQrPKHEd+i2NixgRIMbltT0KyFTDeR1nvRWMRYnXRGF8n+496Su6CDJFzoi8MaQBIJF9gTs584brib8SE0PJHlSP6pKde1mnsHuEKVxJi4aT0H4FGskgjb9WQB/Seo/9oME2zNgbDuHUiCeNmIJ/BITpGU+74J2sDNfpBukyW+6esBA3IZJy9NkAnpH1CVzTqWO6k0VJMAkKUHtOmivcnnnhUQY3FXcDZ4srRWtUpHGAlSOG5QsrvdcQOjp1UtQ6WTH0yBbcg84C6KOcSpE5cbsACIShCBrP4lP12963WrEaOfT9dvettq24/THP2kcAqdKtOZxNraDQ3JHUInrV1UGubVbOQb/KgF8XaSNYuDK0ZrKjz88tjRodO+SR+HvTMJSLQ4nMJNg50ka7iQLk6bIUOLdUFVvi/KLDrGSAdHbfvbEStprjA2qs3F1Gia9LLGrqbjUaONg4dh4qzSqte0OYQ5p0IMj3IAmNya6rEyRbVPIumZJP5KAvjACBNzp1f9qSVXcznNMGxd0bFMAgQi4O6U+EhGkjS4TgpCQkT4SQghrzAEOymcxb5Xx36X704aW0TnGBoTwEprSHCRoejdbTYiTHUxJILhOsEifz6dUlmARYbNt+8lSwoCOeH+U2ItctuZIG2bAxfmjqAOaBkYBFhmMWjZAKipUIDWuaAGgNYRUcTA2aDd7k5lKahe2o4iIy80gGSSNJGzbsUVTDnzZJ8aARENzPDg656AbbQiEzsOCIJcbQSXuMg6i5i8KRhdeDm6CL9oH4Ku7xjXP5ucZpaBYxlAi9tJ2iSE9mJGbyHgA+UWuA2ERxJi+0IirjSD0HcU7KoRiGEN5zcrtCTBcSdnSPxCmBgwdNh/AqUEfUAtqbW6CYlSbLqOGuLrTFj3x7x2qM0nCzXkW1IzG2mvX7ulSJ2ZRuB3aT1bU6h/CZ6re5MoZ5OYiNkTKdhv4VP1G9yUOQgoVRFjPIHELOrbOv8FoYzyP7m96o1dnX+Cn8RVOt5LgNoPcVm4J37xo6PitSt5J4FZGDHPZc7Rr0/moUaLxG1NKWps4pQydiqkxtty2QVkZRGi15RO1bCHmnoc7vSVzBaSYFp1ujD6O9ZyWvs061ZfFEJ2FpHUE/LEQ0HgSe4ppZuaOqT+KUtAg5XfXUi5ppjXK4df5ILtzjp9aFDYGjnD64pxcSfL2bZ3X3oG7rifroSQdwJnYfzSmbeQfd8EhaYMtEzsd+ZRAjocIRnNucetJlvo4Iz7JPWEDmnfB6oVzA+WOKpDZoreC8scVaK1spLwlQSiTHjbMKBjRAveZiVLWdAvYSmYemQ0G0lFXPpQneLO5GUrjdRqVLCIQIPKZ67P8AILbasT77PXZ/mFuNW/H6Zch6r4jDMqEFwJLdIcRFwdnS0HqVlMctGSvToZTZ7yCSYcQYm+sT70x38dnqVP8AJisFV3t/et9R3exQlMqVXDhjs7AY2hnlt6W7xvZcbQJsbgPSlFtSiUDKjsodaow6ObAMcND1dikZUa/Qydo0I4g3CZVowS6nEm7mnyX9PQ7p7ZtDRkqi4nKYIcOc127oP/YQStILhGkO72p5nYPeqwoEOHPcWwbEk7Rode0lR4vGeJ2yToCPfw+t6i3RJu+FkPi5sJI95ukGKZvHvWDUxLnmSSU5lQhZXk/h0Th/l0TXA3BlLCx6FYq/RxM2KtjnKrlw2elh+hsTY2Gp4KKgzIxrd27YL2nbx2wpKhOU5bnq/GyZTcXCXDLc2m9uG1aMFfFtrOFQNIA8W4NtcuIOl7EQL6XKY17qboLLPyc5oAbmlrYyzMwddzdkCbTHy5zYIgCCYvJOnYO1V24iBDi7MBeQAJgTBgCJPVfcpTslKuKp51PKcrXCSC4TNj5pEaJPHRULBm0BmZHDnbbjTeFH/qAzBoZULiHnKGGbaC9pjbMT1Kw/xbmjNlLSJGYW2Ea8QiEbsQxnlPnbEkmOAvHUntxI1FxBJ8oWEbI1ul+zttEggyCDcGSbTxPUYTTQiwsMrGjfDXadYMILdJ8gwW3ub7SJvbpCC4AiTMmLaC0z7lWo0XNcBJILS2QBAAIy9eXX8k51JwAzc5sNYb7yAXe/3dKIWGNgX1JJPWbe6AnkWVJtUsjPAmXOO6Ce0wBA6CpPGuEHpNmkEZZs4mNI+twWMoJaSLg2mJH1Cfh/4VP1G9yqNxjXFgEgy2xBBuLzusR1q1hTNGn6o7lIeUIQoEON/h/3M/yCo1divYz+GeLP8wqVQadafitV6rSQQsPBuAc0Ro50zsPNv2FbxNly9bFZXVATGrR0fUqZNqNitiqYMTJ3Deq1XGHVpbEXEAkHZqsEYvnTmAG2+0ptOpLXXzTMwdFeYwdA3HmOeQIGo2iFfp8pkxMSuYY/MIi+zpnQ8FcGIytaTcgbOoq/WVS7dNhjLToZJNulFebQJv0rOwPKEkX1iZnZZaVbTfdZZTTXC7ROtPNP11IBAg3CHZRIki8e9LMRzj2fmqNyipP3j1ymueT5Jb2dHBO2eUOsfkjhlJ6ggjPBp6/gUagktv0JSzc0dRn8Upp6ksd9dSBmboIgIDptJ3J3aLIaZsHbdoKIAO6J4K1hTzhpqqzeIPUp8NOYaaqYitxIQlSFSIa4zc08fgnUzLWjoQ0y6Z/6H0VGyplaIvJgcEVNzQEmYfQKQ6IJseCjSyLGNGQmBruWYQtXFn92epZaw5J5aYXwb99nrs/yC3GrD2t9dn+QW40q/H6VzSJjk8FNctGZhCifZzXZXGzgYi0xe56NimQUSgFRsbuIc3vRLXxBBgg2IOifVzBrsgBdBygmATslQNdUBayo3POrwObcm0RsEax0blAmbRAmLDdsUNahJzNOV4ETsI3OG0d2zam1qrRSqOYwZ2tJylpaQb6iJixSYesHuIhzYAMFxzTJmb+r03QPp15gOGV3mzNpALhvbcX7YXMco4vPVc7ptw2LosRyeyoSZcHNEAjLa3SDe+uq5CoVTNrxJ6eKUv2lZZegVSstOiVt065V2hWlc7Tq3F1o4avv+veFPVbs6bDVJCnKysFiekEf2/MtNjpErXFy8uPnYm8dEpru4yE4jbt+vikIWjE1wzCNQoKtEObHkkA5SPu2iQOFutTkFNDVCETqRIcC90nQzEW6OklI2lkyWkBzjqSGl2kToBcdanLUNRJWOdDrAmTlE7NkqZVXsJbzmgnNaLwLibi9tkKXO4Ec2WQ2IEG/RsGn0Lg9jg5sxEjQpG1Gw2DIJLQRcWB+CRmJbF5abSCNJBOzgUytjGtsDmPRu3zxgdYUCZrmlwGpBHcSO5SYUfumjcIUTZzC44QZ039e5T4YcwcT3lWAhSZEwoIcX/DPFv8AkFRqCdkq9iv4burvCpVBZFay+WMSKdB5BaHZTlmLmLakLiq1YuFpB6V1HhFhpaH5zE6QIk7jqsP7ITNk3oxm2O55h3QYnerPJ1YkkEaiT9fWitvwhOoEcE/DYKHSLXlO7T66s4bCuDmlukS07YOw9iu4rAkXG3LI4K5gmNa0nbaFoUwHC4lTMz6pphcm0iHAc7pJGq6SrZoknjF1Wa3K4xoNkXVqs60yr5zwwwv9yIvgkZj1ylE2kgjh8QkaZ1IJ22/JLxj3BYunZC49HYEE3s0HrPxTsvQD1/mmlv8AQTwQNywJymej/pEC55wSZduU9v5JZBJ1HYiBn/qd9daM5kc7tCJmIJ7ERpf3IFjS4ngPgpaLTI0mVE09IU1DyhprvUxWtvLZNeeadikBUNcgC8wSO1AAXMCGgR2KLCX0FplSFsUjwKkoNhoHQpRryqbEhcII6FQ/1qj/AOT/ANVT4IHLlDzn/wDqq/Ko3FtVcxf8N3Ussqy/lKlVYQxxJ6WPHeFVlY8ntpiDq31m94W2CsMnvHetoFW40ZnVapaCcstAkkET2KJ1WS2abmlzsty0HySZ5pM6e9SvGZrhvBHaEytSLg3nFpaZkROhBF+K0USAIjpVWphXOa1hqPDQ+SQ8hxbchpdrrG3QK064I0tqiEdKqDTa+TlLQ4TrBEpC5tVsBxGYAyLGJ6exQYdlZsNJDmANBI5pgNIOUC4+7Eknyr6KOhg6gY3LVIIbTiSD5JJc0wNDMbSgsGnTYA0kS8hvO+9YnLbS2awsLp5ZLpjQQL7yPgipRLvFkkZmOLpDbSWOboT/AFe5UvslcUmtFaXjNmdLwCSItJJtreb9UBcrVW0muqOPMaJPUuExFdj5dTuL83Qwuur4CrWa+nUqwxwHk30DbQRIEh15JuuBxFJ9Oo1oADgYJO+YIlUybcekwdP5pHFRPcWO371OAHC3YqNS0XXutGkLSCsp1XJsuldyjWYJhuXgFJt1GDJG2x0v0gfit3DNhq4ihyu57CbWAGoAJc5vwXVYOtXZT/eZHPkeSDMECANAT0zCviy5L4aSaU3x7ZLS4ZmgZtguJ7gewoq1IzAAlwE6H6J6FdgY5wc/IQeYQTu0lpJ47N43Jar8gzEEjoE9fBMDG1AyoAWmQ6xInXXfYnXepKslpDTlO+J7r9hlANdIBG0T1JQFTNPPTEQw2eC2RcibnUTJnbBKnD33BaIBsQ65EiLEbpnh0qBZNIOaWkSCEtFoDRGhk2EXNyoBznkObeOa4MMjX71/wRg6T2yHPzDZIvoL6752KBaI1TRTEEQL621RKWUEVHDtY6QLmfeZ+uiFXxNZzWgAxd/+RVybjj+BWdjtnrP/AMypF/CYj93TEEy0X6lLTqh4lu8jrCpUWnxbcrstrdCt0GZWmTMklSim4n+G7gqVTTrV3Efw3+qe5U3i3WlRVPG0PGU3N2kW47CudLYErq2NzGGiSuWq8172O1YSHHZMnRUvpfi8ZISFLRhZ9blJgtKR/KLWtzaqmq69x0FMK9QcWhcU7lmsfJAaOm57ArlXG4kUi91aANWikG23yZlW0pbHZ06ZqAuywB97fw3pvjQ5pFi5sAg7NysYeuatNgjKA0GBvgKhgw57C9zecTlMDcT8StLnuac+HHJbUg6Q3t6OKdl/p7CUopnzXf8AQ4dCbl2FrvqejpVFyuYPNPb+SMoAmD9dSYQGnQ7e5DnCNon63oHE6kSISCpJ8p311oLwZIc7Xf8AmnGpP3nafhxUoMFSbZ+3ila8aZh2fkgOnRwn1UA/1Nn1fyQLPqzwUtAS4SAoQRfyZ4KRjoOxTFa3miwUOKbOQf1fgUlPGNMC4MaR70tV48YwbRqpC19Gt3n3KYKF96rRuBPb/wBKVzo4nRByhpJPFKVIuXbfRgbCeChAROiONltLDqmxW4teNnmeClTQlWrM4ISBLF+jciCpC4D3lAeM2W8xOhiOOnUgi8/X1ZAETHbr9SmCiBMSLAWO7TvTiAANwj4Ic3pgoG5fx71yHhS1ra5yi7mgu6Tv7IXW16zabS57oA+oXB8sYzx1V79JNhuGgCplWvHP1mvYSASpqZiExzrcU9l4VG0XaTG1bGIUlXDtpNBa1rTAFgCeMlUqNQtdbYkxmPMjMObtIme+Eg2eRahqvLHPcHFoNzIBBnr/ADXQYnIxhGg0kk6nXpNgTvsVy/ILGurMcwy3MIO2DsK6/E0WwHBrc+ZkHKJ8sbVpiy5DXVgWBzaXjQA0iILjI1ANtDvnVSU7uMta05RDhcwSbGQIiBbpUVenma9uUOljDlLi0eU7bs/JPpOPMJBEsOpk2LYk7TqrMUrHZmztvPEWI7VGXFp50FpMAi0bgR+PuUeZxbVABBDzHSLExEm8kTFlE/EVScjqRAfGVwM5YI8vcZIjr3XkWyLoaQQCDIIBBG0FK4SY3qpgmRQpeLPNyMhpvbKNDs944IL7SnBygpvB3gjUHUfW8WUkKtEiISBKoDdoVDH0S9thPOf/AJFaH5d6bSHNPrO/yKkZ1CvUa1rfEuMCPKatWjOW9uiZTQE4K0Rs3Efw3+q7uVGqJCvV/If6ru5UH6KKKj63i7+MyNm5lcrSwYf9p8efG1qT2wXElpa77wbpfgtfwjpg4VxIByuaRJiOcBY9az6dAvpsex2SoKcT5Yc2fJdpO/oWuHD247nPwmWrGRX5PbO48AAmYfk5zs7mXNN1hvLYJU+IdUkguaPVb8SVewDxQyiZ3md653VMVb9xAqNcATqCQCOIOh925WxWFemaTAXufzZA5rRtJdppsCOUqNOrldSEkTNrRuTeTcQWvDDIlNp06/Bu5jo2NPcnvA8XednFVOSahLndkK9Vs03I6Qoimd0q8079OjYPySEt2Fw7PipQ4+e7Tp2daaahj+I73/FSzN0+87660ofH33fXWnZz5596aXGPLPvQBJuc7iOn/tBJOj9m7oQX/wBXuQHdI7OPQgS9ocJ9Xs2JBMatn1fyT772zO78k2elvZ+SBt9paeA/JPPUk6xPWjrHYpQu0oytLrxEHcrNKu1wB155BJ3hVKXki6jD/wD6Qg6ye3Mq4ljSFUeMdFzYBTtbtOqy+T2kMkG5V5rnb5V9qsBNKemrmdRE1OQgirHmO4FbqwMTZjvVPct4LbjZZnhKE0JwWrM4JyZKcCoQchVKuNaLNufcqVfFPdYm24WUMc+bHFar8qU6c5pncIJ61jYzwkdP7toaOkST2plajOxZ1fDDgVHtj/qLfRMZyk+qZc4ncNg4BY9V8nVWqlMjVVapA2LO46r0eLmmeP8AlEXBStqBrZkXt1qAulRinmIsTHSpi1q6XTZhFhqVNR5Oq1iMwAG+QR1qNlAuIIOU7NvUup5I5OyjM92a1oHxVpFcs5Jur/I3JjKDPJBdsMXhaFWS0xrBjjs96riuW8NympVwegrXWnFj8rHOke0OcWuALXtcCDcEA2B4hxS1hGU7nDafvS3/AJI8XIyyWw0tBGsGwI6bBROo1A0gVC+QRzoBEmzpA2e9Q32lpDyulzu+PwSkSZ2DTjpPeOspYAFkKUjaoMNzIZoJIb1HyeO3gehTJmUEuBEgwfw/4hQH1Wgt3H7u8FND3NLWu50i5EC/b0HsTPFFskOJ1gON2zuN/eDxhSUyBZxIM3LoEniLdQUUT03AiR9dCVxSZAd870Gdo6x8FASdOITqI5rvWKTMNh2jquloaP8AXPcFMCwmYgkU3EagEhSIIkRvUoRUn5qU72nuVJzoEpvI2KD21KeXKaZLeMKpys6MJVI9Ge6Ek34KysXjRis1KmOYSJcdTfYOKstwRoMEsOUWNjYEXJ3aqj4L0C92cODcsbJudO5dDyk4nD1G5zZrhawJjh+O0rtzy+r/AG8fX6zv+XIco4Y0qxkGNeoqoC15OUGRsNiuu5SwjatHM4huVshx0FpM9C5Z4EAgA7ivOvi6d3Hl2m13D06gpy3LOwTeUjKL21GGoQ43c6BAFtFFgs0ytagyWku29yhdoclWAd5xlTcr4t1OkXNyy25DhII3dBUWGqi0aBUPCbEgUA3a4+4XUROOMuXklHwjaXAOaG2uQPyVunyzQdbOAdktC4ujU8o9CSkd6u7L8bjv475mKpu0qM93wT5PnN9n8lw1OqFMzEnWSDsgkIpfg431XaZulvsj4JZ0gtmPNHwXMYblao03dmA1n8Vs4LlIVSAAAdlk05+T4meE37XC7c5s8PySaTJbPD8k8NMfd7E6DtLewfBHGjH9s8PyQB6vZ+Sly9I7PyTgzh2IjaSkLDRVazIJYDzXEO69vvurtOnZQYmmfGN6AmKcq1MNTa1jYGzcpC0blDSedDopi4DVTfCJXNIQkXM6QU1KU1BFiz+7f6p7lvArAxn8J/qnuW6CtuNnmcXJc3SmBKStWR+aRYrM5YxbqYDWuuRfTRX6jiBzRJ+pXN8o4jPUJ6hwVay5LqBmMeBmN27SNiuNrtcA6RfdosqnVNN06sd5QT2OFGoGz+5q3adx3K0jzs2m5s6KtVohWKNSHBj9HWa4aTuRXZlN1OmPbTLq0FQr4OdQt59KL7Ew0gnVfHlsu45r/T3TIghXsNyY5paWiRtdIB7CtpmHadR+HcrAw4CfW3/1+eMMbh6ZjmNmBJiexaFIQNyr02AKy1XmEjl5vk58vtFiQdRqqza/PE6bTu47ldeyQsio6KjhtPi2jrdf3BTYpj5bmHrS4jcI65spys3AeVULTq8xOlhHwVyrUyAF7jBMWgDQmd+gO1Z16vxst4f+JUgUVOTOYQNnOLp3m+xSgBHQCUjmA6j3n62JyEDRT4+04/inhvSe13xQClQIKY3AcJHcUob0n3DuSoUJNLRIJE7s14M2IJuE/C/f9f8A4NTTBjRPw/3/AFv+DUQkWXW5Xy1nMy2aYJm60K9dtNuZxgLl8SKdavUe1zml0RpaAB+CpndTw048d3yvcmOAxtYA2ecw4OaPxafem8ptnCVRt8U7uVPD8qNonxdQHxxDgIF7AwZ3SE/H8qtZhg6xc/mgbL6ngArYZasq147ctYsfwWxbabjnMCBsJEg2061scoct4emzK396/dfL1lcka+UQ2w3CwUDqpWnNy98+08OvD+n4+87tZ5U5UfWjMTfRujQOgJ+CbmomDcO90LLeZfwU+GxRpOnUGxC52+WM62YzwvAvarH2lzmASbbN6h8ex4lpTDWazUwjkbGHxeRsk2CweUsea9SfuizR0KLFY0vsLN71VBUyN+PHXmpWu5pQX2TBojYpdEqVr7cbJ4qKuD3p7DJRbHJbY7Z1n8Ffw9ZzXAzfesllTU71coPUx0YXcdFW8IKlOk1zaDapFnc4gjcYAMqr+uFb/wCyHtP+VQYarBG3oOhW20YXKCW0mzsIaFbTyvmcHS9sfVZf6319mEH+/wCCX9b8Tswjf961AMH/AOD/AGpZwn/g/wBijTgZjPDHFafZqfsv+Ka/wrxhdIoUx/Y74rWD8L/+P2MSithv/wAfsYmhmu8LcaRajTH9rvio2+E+O9Gz2PzWv9pw++h2MR9qw++h2MTRoJEhq0vTU/bae5N8dS9Kz/ce4Ln1XRuHJCmHFUNtUezU+VNOMo+kPsP+CdabhmNP7t3A9y3m6Bc9XxFJzSA59wR5BV4ctsj+HVPAD4rTDwpldtLMlBWYeWm7KNb2W/FH+sHZQqdcBabZL+LqllJ7hqGmOMLlK2sLYq8pve0tOHIDgQSX6DfGVYtY3UMOVPh4dzDtURYCHYd5yzemTsds6k6lTztlphwU76QrtyvGWoNCrx5+V1ULcQ44VxNqlNwLhuc0393cVs1DnYx/nALEqtdkrMcP32Qj/wCQDQ+sBPELV5Kq5sOzbACtGfLrruJXCBGxR5VK4ymPVtMNnNUoKiYpIUq04GFYYVVkSATEp2HxINV1M7PqVW5yOjj+JyZ49pPCysrlMBtQP6ARxEx7ytUmL6rH5adzWgaOJM7hr2zKtVOP2s8m1GhoINpEnZrB7lonG0h/Np/+xnxWZgaYbTptIsTJHRGnYtP7IzzQs8nofEynmEOOo+mZ1Ge5MPKNEfzJ/tee4KUYdvmhKKLdwUO3av8A6pRjVxP/AMdX5U4cpUv/ACHhTd+KsCmNwTsgTRtXHKFPzap/s+JR9ubspVj/AGs+ZWQE6E0jasMb/wCGr/s+ZL9qPoX9bgrEJYTSdq7cQ/ZR7an/APKuU7A7JMm+lgPwTQEVGZmubMSCJ4hDbn+V+Uw5+WQaf3TvMXVFlFsZ6QhwvHnDaOKgrOAmnUAtIIO8KzgqENDqRJjVpPdPcube67ZJJqM/lI+Mr0a1NhdlADyOgyLcCVV5fOV1GmPusnt/6Wlg2/vHEeSXSBuvosXwhfOKdGwNHu/NXjXh/wCShKaSglNfopdmWRtPad6cUN0QiknjRhagNT4QpV6whSBCVA4aJEqRFjZStdZNckYdnSjK3VWGqzRfdUwVPTdGiOrCtOhVkwr1N+bMNwB69CsakemOla2DeGidh94Vo15Me+Fh8JIT3CCRuSJt8/Zq6MyohOKQpsNhJCckTY6Ucn0/MCX7DT80ditQhW0zVxg2eaOxL9mZ5o7FMiFAiFFu4JRSG5SQjKgZkG5GUJ+VGVEaQYoRTf6p7lzREldRiWTTeP6T3Lmst7KtYcptPMwggStOhVbUsQWuVWiJEaOCs0wVeODkT4nD52SPLZdp4KngH5W1ANC4OA3BwmOq46lq0CsWo3xdatubAHEkke4q7nxu5YutqoLpKr0qkqdqnaukzVMNFA0qDlDEljIbq63Uot1GnDx3kzmM/UddlR9Rrohsw0yrHJ4lz3nUmOoWTcCx4awOuCCZ3KyxoaA1tsxtulc0v926+l5OPrw3DCfi4wrF5YgVmsiwBeeswB1lq1W83UjtCoco5KlRpzWaLwNTO9dFzmngcPxea3XWp6UjJO4zxIJWpSOYSsujWB2bPwhX8A4lhmdbFO0yjpw4M+DkmOX6nhEJ0olQ7NGwlhLKJQ0ISwiUoQ0AlhIlQKAlSIlQOT8IsNGIdIs8Bw7IPvCr4DCuaBDyL24K/wCED81cjzWgfj+Kp4XMB0LC+3Xh6NxGJFJrnu643yuVxT3VHuedXEnoWny9WmpkGjR71jOUu3DDWOyB0pSoQbqUKTHLYLwNqVhkSq1cGVZpnmhSjDO3Oz+Dk1xTlEXXhGmV0eFLQoF8kEADUkqILT5EPOqNDA4ltp0BB17CU9KZ2zHcRDBTo8dhhU32K6wveAMrmhwBESAL6Wi+g16VzGNEVanrHvUTKX0z4s87f7lZyjbqnlRnVSnOrDSFI2odgUTCFM0hHRhdpGuJ1WlQq2A3LNB3KxT1ukdWFb9UAjMN11Cm4WpOukRqnvbBhWrzPmcPTLtPVNKalJSKHEEiJSSg7WEQhCbV0RCEibNFQkQm0hCREqNo0Sr5LuB7lzOWdi6SpJaQNSD3Li8Zi8Yx5a6mylGn3zG+ZhNseTjufprBu2L8VYpkrnaOLxTtaoHBjPgtfBsqHyq1Q9VMf8VMzkYX4PJk16JKxOU3f/UVL2lpPHKFvYejaS9/+z5Vy2IqmpVe87SezQe5aTOWOTP4mfDd5fq1TrAK0yos6m1Ws2UXVbnMU8fxc+W/2xa8cAs/GVnOcIEnYAm1MQNgWnyTWpFtwJG8BYZclyez8b4eHB591aJ8XSBNrAKkyq4uJaZBNwdCFa5QpGrlgwASfdCjoYNrdpKvjhac3zOLiusr5JVY6qSGiDGsx79Vk4euKphhzN847fqy6GkzJVadhsVyvJQ8XLfNJHZZWywmLm4PmZc2V14jpsLRiCTK2SVi4SpIWu02HBMbttnjJ5OSSglNlXUOlEpsoBUh8pQmylQOSpgKUFA9KmgpmIqZKb3bmkoRzPKjw7EVCNJjsEfgpcM2aY4qiTeTtV3Cnmrn911yajjcdVzVHne496qOct/G8igkmm6D5rtO1YmKwlSmYc08dQrR13llnhRqPupqFSR0qSnyZWq06tVreZSaHOJ4gQN5vPAKi1W05JyXHJcqaFFA81VxUOilpvEQmm+PJLns+o47FUzGVbKqFqM+fe4uMNlaw2KNMODYlwiYuL7FTp6JxdCiuiXePlpVeU5pNYGBrhPOAEidYOv1winicQ6o7M4yYAmI0CrU6skp5Ua0jHV8w0qMqQqMqVMktF4Vht1WoNutHk/DB9QAnm6n4KK248vHk7DYZ7zDGknoW/guQ9tV3U34q5hmta0NaAB0K7RWXfyteS/iTC8nUG/yweN1Dy3gWhgqU2wG2cBu2FX6anLA5pa7QiCr41x8lyvuuNTCp8XQNKo5h2HtGwqByu5zSUSmlJKDuUJEIgIQkRJSUkpJSKASiUhSSgUlYPhDTktdthbizeWKcsJ3KKnH252iYK1sLiB/V1GFkxdWKdaNFjXVGw7HGCATffCzTTaFEcSon1lMtVywxy9xYNQN0VWrWLlE56lw9MuKmTZuSagpUS4rTpclkXzR1KXD0GtGt1PG5y6MOOfryPlfOuN68ZzJaLXhT03DcQoAT9FStW88PGzzud3fa4GghcS5/wC9quZcOqPI4FxK7Gg+65HkqlLWE7gsuWvS/p2Pm10GBpnILrZpnmhZOGmFp0TzR9bVlxvW5Z4iSUiEi2YFQkQgfKWUwJUDgnBMSygdKp8sOig7pIHvn8FblU+V74d/RlP+4KL6J7c05ytYapZZtSonUsTCwkda1iXQVQ8Sa9VtIGJPOO5u0qStiBElYf8AqTg92UkSe5XkUyr0VtakykKQDRTDcuUxGWIK8s5SwniK9SnqGnmne3YexatPGuOriqfKzc4FTaLHhs+ulXZRmyiU1ChbaQVikD0xCJ71apusm1ZPBQAwpm1rXUabTkmU1UbTdWQZCgA0KmASrcW4CkDZToT2BQ367PpthXMG7ndiqNIWryPg/GvmCGjyunoU2yRvNSN3k0EtzHqWpTEKKkyBCsNhcvusMrImY5WWOlVA9O8YtIwyQ8q4am4tc4X0lZVTkwHyXRxutflLnUHHdBWNRxRB1stYwsVK2CqM+7I3i6qldPSqZhITMRgqdQXaJ3ixVtKbaqEJCqLEQkQgEkoKQonREiVIiAq+Mp5qZCnSFQOMxAgkKIOKmxVUPe8jTMVWdUhZ6dEy3DnPQHqsXElT0KZOxWmKmXJMfNqalTLitKi3KLC+9U280WUtPEObsWuOGnm/I+V2msGjTcVYa87geAhVKVZjgJMfHcrDQG6zHQtnj5RO1x6txU9OFXm0tIcFIMMTclWU0i5YxX2ek541iBxJge8rH5LFgFb5R/e4fEDXxTaY/wD2Bx/xCr8ktlc/LXu/B4+uO/5bdIQFdonmDpv2qno3qVynZoHQFXjdvMklISkSLZzllKmygnT39n/SgPBSymSiVIfKJTJSZlKEsqLFU/GU3smMwIHHYjMkzKBxGLlji1wggwR0qm6vG1dhynyNTxLs2YsfoSBIPEb1EzkGhSpvhud+R0OfeDB0GgWfVv8AZHJVXkt6FnPbdaVYLPqhIi3ZGPhTBwcCDtEKmSnNqKyFQ2KE+t5RUagKhIhAqEiEDg5TMrb1AlAUL452eltrwdFM1ip02ldNyR4PPfD60sbsbo48dwUWyOvj5d+1fkrkp1Z25g1P4BdZh8M2m0NaIAUtKiGANaAANAFLC58suzS5GAJ7WoSFymRjlT5hR1KsBRVHlZmKxhGivIptsNqh7HNO0Ee5c816aMc+94lRtctIpWxydUkkLVpNWZyVQgZt/ctujTWmLDOnppSpCslyIQhEkTSlJSFEkQhIoQFHWMMdwPcnlQ4moGsM7QRG9FbdRxtACKmbzjxTQwSrmIo5XZxo7v2qAsaSrdXF9+WPqowxwOZpV6jiWPs5oa7sBUNOkpfs86hXkcvJn29pDTGzepKTFXZSc3bZWaZV4xtWQxpEFOBIGuYe9NpObtKstqMGhCswyMYATLZDvrVXaFVzdRIVd2LpjUqGvyoxoJEngJRWY23wlp4MlmMbsqN5vW10d6ocjNkAqF+KxLHtxBAY0AxTMkkEfejTYY6Fd5Gp5Wi1lzcllfSfFwyxxnaNNzLQrRKgFyFKrcfpflvkspJSSiVdkWUSm5kmZSHyklNzJpegkzJj6obqQOJhYHKHLhnLSMDa7aeCx313EySSelUuem2PDb5rsHY6kNajPaCT/UKPpWe0FxbqpTDUUfYv9E/l2/2+l6RntBH2ykf5jPaC4c1U3xpTuj6Z/KSswgXBWfVKu+OdvKa6u46meKjafrZjkxX3gHVo7I7lA+i07I4Sp2r9dU3pitVMPAtJU/JnI1bFOhjYbte6Q0de0ptW41nIW/ivBDFsu1rao/od+BhY2IwtSkctRjmHc4Ed6bRcbEKE6FJh8K+qYpsc87mglEaQrW5I5Hq4m7RDNrzp1b1s8j+CkQ/E9TAf8j+AXVU6QaAGgADQDQLPLk16b4cX7WbybyFRw8EDO/znbOA2LUhKSon1QsvN9ujxPSQlRuqKu+qVEaqtMVLktGomOrQs/E8o06Y5zgFkv5YFSRTMcdSryM9tTHcoRYarLNSdVXzoL1ZVPmVvAMa5/OMNGvT0LND05lW6lFdxhKlPYRAWgxzToVw+HxBG1XaeNcNqtM2Vw26WUhShpOl0ObGpaOLgs1yJCoqmJpt/mNJJAAaZMlSSpSJSISFQApEJEAsXFVnOec1otC2SVS5RpBzCT5Q0O1GXLhcpqM1r2+Q7Q3CjxHJwN2FYmI5Q5+Ug2H4qxguV3Zg1rXvO5rST2BaY15ufBnvciw5lRmxOFd/mla9ChWeAXUiz1iB7tVN9hI1gdRVtxGPx+W/9WEcQ7cUoqu81bowLTt7ApW4Ng2E9adpGk+FzX8YdNrj91XaWDbq53vWmKbB90dpUVTGU2bWzuAEp3Wn9NzvuyK7KdHNlABO3o4q4zAtMOsQLgbOKiHKDj5NInpdATRyk1jiIa05SXAGdtj0E37FW57dnD8HDi83zUXLTBLG7Sfcp8MAGiFl06xxNQ1D5I5jem/OPcOpbdFogCLLC+3f+JKUE3Klc3cR2qlixlywkp1C3bdXxy0peKZeVtzSNQmEqShXmx1+tUlVhJ5rTwie5ay7YZ8XVHKSVOzBVHbI4/kp28mb3dlvip2xUC5Y/hFiyyk1gtnmT0DYusZgGDUd5Ugw1MXyid8AdyramWS7eX0qL3+Sx7vVaT3KalyZiXaUKvWxw7wvTsg3JQ0bh2LPq3+95qORcUf5Lu1o7yh3IOL2UD7dP5l6YEjtCp6o+2vMXchYv0B9ul8ya7kXFehPtMPcV6G5MITR9ledv5LxI1oVI6GE9ygqYao3yqb2+s0jvXpRpjcFLSa3QgJpP2PKkFi9UrYCjUHPY13rAO71j8o8j4RgaRTaHTYAQLdAgKKtjybumJyP4PNcA+vfbk0H9x28F0TfFsimwCQLMbsHAaKhmL3FrDAHlEdwU9Ss1lOLB2rIF82yyy3tvrS+CQLqRsOG9UWmpVgvimDfKILuE6D3qwwhu1SgP5OoOMuo0id5pt+CccO0CGgAdAhSNqJxcFOld6Uc2UwlqVAAlrwsblDlmjRsXS7cLlRMVrkuvrE9ChfXa25IXMYrwgqPkMZHErNqVa1U88yN029yv1ZW10mN8IKLJAdmO4XWFiuX6j7NGUdpVduEbodeiVMOTQfuO7QO8q8kUvas6pVLzJJJ6VdwThl0vvhWGcmbvfB94KWphXNFh2Ivjx+N7HjEnjFXzozoptZD06mbqs16npIirrHqUPVVpUgKhDS5V5QxD6gy4Z7S2Q6HtOyYMdEHrG9UvtFcAufQeGgOJOZsc2ZE77GyxavLVVwA8kAzAqVdZmbvKY7lesWFhccpBBGepBBMn721W0pt0Jq12PA+zPJa4TDmnpA4xB6xvWy7lyqIjBvdMRD2kSbxP1qFwv+sVoguJEz5dTWZnyt6s0vCSsx4eGtzCYl1Yi/QXwmjb0kOkA70Ergh4a4kCPF0bf0v+ZH664r0dH2X/ADKulu0d5KaSuE/XXE+jo+y/5kfrpifMo+y/5k0do7kuVbEnmlccfDLE+ZR9l/zJlTwuxDhdlL2XfMnUli+eQmvcXvLiTsFgB0lXuR6FDCVS8CHZS3UnUie5c47wlrn7tPsd8VUqcq1Haxfj8UkrXth+PShy1Q2uASnlfDa+NaOtea0uU8mlGiTvIcT/AJK5S8JqjLihh56WO+ZTo+yO3fylQN2OzHoHxhQ1ca93kmkwf1OzHsHxXKHwwrHWhhvYd8yT9bKv/wBthf8A1u+ZNJ+3F0bnNPl1y7oaICfTexv8Om49JELmh4YVxpQw4/sf8yX9csR6Kh7L/mTVT9uLpn+MdqQ0bhb3rFrtcXVGjmguAMbgAAO2VQqeFtd2tKh7L/mVV/L9UuByUxBmAHRPTdNVH2YuowtQMhg0aAAugwxlgK82PLtXOH5WTwMd6s0/CvEtEBtOODvmVOlW+3F6DWbmb07FFhMHUdDo/udYdQ1K4uj4b4ln8ug71mvMf7lYH6QsYP5WHnflqT/mrTFnebXjF6BQ5Pa3WTxsOoBW2sAXmv7RcZ6PD+zU+dH7RMZ6LD+zU+dX0xtt9vTELzP9omM9Fh/ZqfOj9omM9Fh/ZqfOiunpiTKvNP2iYz0WH9mp86P2iYz0eH9mp86I09LRmXmX7QsZ6PD+y/50ftBxnosP7NT50Tp6YXJSZBXmg/SJjPRYb2KnzoP6RcYf5WH9mp86D0EhNheefr/i/R0PZf8AMk/X7F+joey/5lGlnokJCvPP19xfo6Hsv+ZB8PMX6Oh7L/mUaHoYqQsbl2qS9oGuUAcSSuSPhzij/Loey/5lBW8LsQ9wcadGQInK/wCZRZbGmGUl26U1hSaA2595O9T4WmLOeB4y8mSYnYFxTfCGsKgqZaZIEAEOjjE6pz/CSuZEMgzoHD3yqdK1+7F2lTlWnSeGEnW5Fw3irJrA3Dxdec/6q/zKc74dPerB8Iatop0mxuD/AMXK8xZ5cm3efbcvldouPcocXytTpszuqNA4kz0BcUPCSuPu0+x3xTX+EFUzzKYJ1gOvxEwVPVTvWhyj4RPqgtpyxh1d94/BYwMmyjxGMzmfFsaduXMAeqYHUmfaDEAAJpeckWS4N4oDidTA3BUxVPQnCudwTSe8aeHHmwBv+CvMyi5v0m6wxjnjY33/ABSt5QeDMNPEH4po+yOiY+dkDp+ClELnf9Xqbmdh+KUctVdzOw/FNJ+zFvvwzXjnNBVKvyQD5BLeg3CoN5frDYzsPxT/ANYq3mUux3xTRc8KjfSdTMPEdOwqamVBV5aqPEOp0yD0O+KrDGuGgb7/AIppnbPxrtKmasQcoP3N7D8U9vKtQbG9h+KaRuKKEIVlAhCEAhCEAhCEAhCEAhCEAhCEAhCEAhCEAhCEAhCEAhCEAhCEAhCEAhCEAhCEAhCEAhCEAhCEAhCEAhCEAhCEAhCEAhCEAhCEAhCEAhCEAhCEAhCEAhCEAhCEAhCEAhCEAhCEAhCEAhCEAhCEAhCEAhCEAhCEAhCEAhCEAhCEAhCEAhCEAhCEAhCEAhCEAhCEAhCEAhCEAhCEAhCEAhCEAhCEAhCEAhCEAhCEAhCEAhCEAhCEAhCEAhCEAhCEAhCEAhCEAhCEAhCEAhCEAhCEAhCEAhCEAhCEAhCEAhCEAhCEAhCEAhCEAhCEAhCEAhCEAhCEAhCEAhCEAhCEAhCEAhCEAhCEAhCEAhCEH//Z\n"
                },
                "metadata": {}
              }
            ]
          }
        },
        "572392b21bc049f6bf712c41ffc1fd80": {
          "model_module": "@jupyter-widgets/base",
          "model_name": "LayoutModel",
          "model_module_version": "1.2.0",
          "state": {
            "_model_module": "@jupyter-widgets/base",
            "_model_module_version": "1.2.0",
            "_model_name": "LayoutModel",
            "_view_count": null,
            "_view_module": "@jupyter-widgets/base",
            "_view_module_version": "1.2.0",
            "_view_name": "LayoutView",
            "align_content": null,
            "align_items": null,
            "align_self": null,
            "border": null,
            "bottom": null,
            "display": null,
            "flex": null,
            "flex_flow": null,
            "grid_area": null,
            "grid_auto_columns": null,
            "grid_auto_flow": null,
            "grid_auto_rows": null,
            "grid_column": null,
            "grid_gap": null,
            "grid_row": null,
            "grid_template_areas": null,
            "grid_template_columns": null,
            "grid_template_rows": null,
            "height": null,
            "justify_content": null,
            "justify_items": null,
            "left": null,
            "margin": null,
            "max_height": null,
            "max_width": null,
            "min_height": null,
            "min_width": null,
            "object_fit": null,
            "object_position": null,
            "order": null,
            "overflow": null,
            "overflow_x": null,
            "overflow_y": null,
            "padding": null,
            "right": null,
            "top": null,
            "visibility": null,
            "width": null
          }
        },
        "054f355be576413e8b0c55e76c612bf7": {
          "model_module": "@jupyter-widgets/base",
          "model_name": "LayoutModel",
          "model_module_version": "1.2.0",
          "state": {
            "_model_module": "@jupyter-widgets/base",
            "_model_module_version": "1.2.0",
            "_model_name": "LayoutModel",
            "_view_count": null,
            "_view_module": "@jupyter-widgets/base",
            "_view_module_version": "1.2.0",
            "_view_name": "LayoutView",
            "align_content": null,
            "align_items": null,
            "align_self": null,
            "border": null,
            "bottom": null,
            "display": null,
            "flex": null,
            "flex_flow": null,
            "grid_area": null,
            "grid_auto_columns": null,
            "grid_auto_flow": null,
            "grid_auto_rows": null,
            "grid_column": null,
            "grid_gap": null,
            "grid_row": null,
            "grid_template_areas": null,
            "grid_template_columns": null,
            "grid_template_rows": null,
            "height": null,
            "justify_content": null,
            "justify_items": null,
            "left": null,
            "margin": null,
            "max_height": null,
            "max_width": null,
            "min_height": null,
            "min_width": null,
            "object_fit": null,
            "object_position": null,
            "order": null,
            "overflow": null,
            "overflow_x": null,
            "overflow_y": null,
            "padding": null,
            "right": null,
            "top": null,
            "visibility": null,
            "width": null
          }
        }
      }
    }
  },
  "nbformat": 4,
  "nbformat_minor": 0
}