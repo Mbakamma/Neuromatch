{
  "cells": [
    {
      "cell_type": "markdown",
      "metadata": {
        "id": "view-in-github",
        "colab_type": "text"
      },
      "source": [
        "<a href=\"https://colab.research.google.com/github/NeuromatchAcademy/course-content-dl/blob/W3D5_updates/tutorials/W3D5_ReinforcementLearningForGames/W3D5_Tutorial1.ipynb\" target=\"_parent\"><img src=\"https://colab.research.google.com/assets/colab-badge.svg\" alt=\"Open In Colab\"/></a>"
      ]
    },
    {
      "cell_type": "markdown",
      "metadata": {
        "execution": {},
        "id": "zvCiV7zzI68w"
      },
      "source": [
        "# Tutorial 1: Deep Learning Thinking 3\n",
        "\n",
        "**Week 3, Day 5: Deep Learning Thinking 3 & Reinforcement Learning for Games**\n",
        "\n",
        "**By Neuromatch Academy**\n",
        "\n",
        "\n",
        "__Content creators:__ Konrad Kording, Lyle ungar\n",
        " \n",
        "__Content reviewers:__ \n",
        "\n",
        "__Content editors:__ \n",
        "\n",
        "__Production editors:__ "
      ]
    },
    {
      "cell_type": "markdown",
      "metadata": {
        "execution": {},
        "id": "sBa2ga2tI680"
      },
      "source": [
        "<p align='center'><img src='https://github.com/NeuromatchAcademy/widgets/blob/master/sponsors.png?raw=True'/></p>"
      ]
    },
    {
      "cell_type": "markdown",
      "metadata": {
        "execution": {},
        "id": "_iviO5BeI681"
      },
      "source": [
        "---\n",
        "# Tutorial Objectives\n",
        "\n"
      ]
    },
    {
      "cell_type": "markdown",
      "metadata": {
        "execution": {},
        "id": "T_HpaTJ2I683"
      },
      "source": [
        "---\n",
        "# Section 1: Intro to Deep Learning Thinking 3\n",
        "\n",
        "*Time estimate: ~3 mins*"
      ]
    },
    {
      "cell_type": "code",
      "execution_count": null,
      "metadata": {
        "cellView": "form",
        "execution": {},
        "id": "kfe363QRI684",
        "colab": {
          "base_uri": "https://localhost:8080/",
          "height": 580,
          "referenced_widgets": [
            "20580443f9c446ba883754cd6860b3d8",
            "b2bc3f5d9d534e81aba9dea89236e83d",
            "17cf4a2ff46e4ab48e5d415a62181327",
            "dc37e50615df48189793a8146636170f",
            "fd0caf52629642349a3a6bf9cdb38448",
            "177d84c977484ec198ab863e2eef0a44"
          ]
        },
        "outputId": "8d0daabe-c85f-419b-d0b1-3d151cf198b8"
      },
      "outputs": [
        {
          "output_type": "display_data",
          "data": {
            "text/plain": [
              "Tab(children=(Output(), Output()), _titles={'0': 'Youtube', '1': 'Bilibili'})"
            ],
            "application/vnd.jupyter.widget-view+json": {
              "version_major": 2,
              "version_minor": 0,
              "model_id": "20580443f9c446ba883754cd6860b3d8"
            }
          },
          "metadata": {}
        }
      ],
      "source": [
        "# @title Video 1: Intro to DL Thinking 3\n",
        "from ipywidgets import widgets\n",
        "from IPython.display import YouTubeVideo\n",
        "from IPython.display import IFrame\n",
        "from IPython.display import display\n",
        "\n",
        "\n",
        "class PlayVideo(IFrame):\n",
        "  def __init__(self, id, source, page=1, width=400, height=300, **kwargs):\n",
        "    self.id = id\n",
        "    if source == 'Bilibili':\n",
        "      src = f'https://player.bilibili.com/player.html?bvid={id}&page={page}'\n",
        "    elif source == 'Osf':\n",
        "      src = f'https://mfr.ca-1.osf.io/render?url=https://osf.io/download/{id}/?direct%26mode=render'\n",
        "    super(PlayVideo, self).__init__(src, width, height, **kwargs)\n",
        "\n",
        "\n",
        "def display_videos(video_ids, W=400, H=300, fs=1):\n",
        "  tab_contents = []\n",
        "  for i, video_id in enumerate(video_ids):\n",
        "    out = widgets.Output()\n",
        "    with out:\n",
        "      if video_ids[i][0] == 'Youtube':\n",
        "        video = YouTubeVideo(id=video_ids[i][1], width=W,\n",
        "                             height=H, fs=fs, rel=0)\n",
        "        print(f'Video available at https://youtube.com/watch?v={video.id}')\n",
        "      else:\n",
        "        video = PlayVideo(id=video_ids[i][1], source=video_ids[i][0], width=W,\n",
        "                          height=H, fs=fs, autoplay=False)\n",
        "        if video_ids[i][0] == 'Bilibili':\n",
        "          print(f'Video available at https://www.bilibili.com/video/{video.id}')\n",
        "        elif video_ids[i][0] == 'Osf':\n",
        "          print(f'Video available at https://osf.io/{video.id}')\n",
        "      display(video)\n",
        "    tab_contents.append(out)\n",
        "  return tab_contents\n",
        "\n",
        "\n",
        "video_ids = [('Youtube', 'rURUYJUKJQY'), ('Bilibili', '')]\n",
        "tab_contents = display_videos(video_ids, W=854, H=480)\n",
        "tabs = widgets.Tab()\n",
        "tabs.children = tab_contents\n",
        "for i in range(len(tab_contents)):\n",
        "  tabs.set_title(i, video_ids[i][0])\n",
        "display(tabs)"
      ]
    },
    {
      "cell_type": "markdown",
      "metadata": {
        "execution": {},
        "id": "zkHTV8VXI684"
      },
      "source": [
        "This tutorial is the third installment of our deep learning thinking series. Like the others, there will be no coding! Instead, you will watch a series of vignettes about various scenarios where you want to use a neural network. \n",
        "\n",
        "\n",
        "Each section below will start with a vignette where either Lyle or Konrad is trying to figure out how to set up a neural network for a specific problem. Try to think of questions you want to ask them as you watch, then pay attention to what questions Lyle and Konrad are asking. Were they what you would have asked? How do their questions help quickly clarify the situation?"
      ]
    },
    {
      "cell_type": "markdown",
      "source": [
        "---\n",
        "# Section 2: The Future\n",
        "\n",
        "*Time estimate: ~15 mins*"
      ],
      "metadata": {
        "id": "foPtRYVzXFCX"
      }
    },
    {
      "cell_type": "code",
      "source": [
        "# @title Video 2: The Future\n",
        "from ipywidgets import widgets\n",
        "from IPython.display import YouTubeVideo\n",
        "from IPython.display import IFrame\n",
        "from IPython.display import display\n",
        "\n",
        "\n",
        "class PlayVideo(IFrame):\n",
        "  def __init__(self, id, source, page=1, width=400, height=300, **kwargs):\n",
        "    self.id = id\n",
        "    if source == 'Bilibili':\n",
        "      src = f'https://player.bilibili.com/player.html?bvid={id}&page={page}'\n",
        "    elif source == 'Osf':\n",
        "      src = f'https://mfr.ca-1.osf.io/render?url=https://osf.io/download/{id}/?direct%26mode=render'\n",
        "    super(PlayVideo, self).__init__(src, width, height, **kwargs)\n",
        "\n",
        "\n",
        "def display_videos(video_ids, W=400, H=300, fs=1):\n",
        "  tab_contents = []\n",
        "  for i, video_id in enumerate(video_ids):\n",
        "    out = widgets.Output()\n",
        "    with out:\n",
        "      if video_ids[i][0] == 'Youtube':\n",
        "        video = YouTubeVideo(id=video_ids[i][1], width=W,\n",
        "                             height=H, fs=fs, rel=0)\n",
        "        print(f'Video available at https://youtube.com/watch?v={video.id}')\n",
        "      else:\n",
        "        video = PlayVideo(id=video_ids[i][1], source=video_ids[i][0], width=W,\n",
        "                          height=H, fs=fs, autoplay=False)\n",
        "        if video_ids[i][0] == 'Bilibili':\n",
        "          print(f'Video available at https://www.bilibili.com/video/{video.id}')\n",
        "        elif video_ids[i][0] == 'Osf':\n",
        "          print(f'Video available at https://osf.io/{video.id}')\n",
        "      display(video)\n",
        "    tab_contents.append(out)\n",
        "  return tab_contents\n",
        "\n",
        "\n",
        "video_ids = [('Youtube', 'fqdbgkimsxo'), ('Bilibili', '')]\n",
        "tab_contents = display_videos(video_ids, W=854, H=480)\n",
        "tabs = widgets.Tab()\n",
        "tabs.children = tab_contents\n",
        "for i in range(len(tab_contents)):\n",
        "  tabs.set_title(i, video_ids[i][0])\n",
        "display(tabs)"
      ],
      "metadata": {
        "colab": {
          "base_uri": "https://localhost:8080/",
          "height": 580,
          "referenced_widgets": [
            "ed4d58ee39214b9f9543fa3de9cdf391",
            "b66d5425134a473db24d21f8db64cad8",
            "a51e3738e98a49498384c1523c509470",
            "979a062ebadb4199860aaeddafb9c9d8",
            "9d05f9018e814d10b688f2e21b9a9445",
            "1f62a49cba89413d8e8259483ccb3633"
          ]
        },
        "cellView": "form",
        "id": "nHAQPDJ5XOPx",
        "outputId": "47d98be7-ab0c-4764-a589-08431cc47ad0"
      },
      "execution_count": null,
      "outputs": [
        {
          "output_type": "display_data",
          "data": {
            "text/plain": [
              "Tab(children=(Output(), Output()), _titles={'0': 'Youtube', '1': 'Bilibili'})"
            ],
            "application/vnd.jupyter.widget-view+json": {
              "version_major": 2,
              "version_minor": 0,
              "model_id": "ed4d58ee39214b9f9543fa3de9cdf391"
            }
          },
          "metadata": {}
        }
      ]
    },
    {
      "cell_type": "markdown",
      "source": [
        "## Think! 1: The Future\n",
        "\n",
        "Things change over time! How might we address this problem in machine learning? \n",
        "\n",
        "Please discuss as a group. If you get stuck, you can uncover the hints below one at a time to help guide your discussion. Please spend some time discussing before uncovering the next hint though!"
      ],
      "metadata": {
        "id": "kC1iXIi9XRXb"
      }
    },
    {
      "cell_type": "markdown",
      "source": [
        "<details>\n",
        "<summary> <font color='green'>Click here for hint 1 </font></summary>\n",
        "\n",
        "Can you think of a scenario in your life where data is i.i.d? \n",
        "\n",
        "Let's use an example. Konrad hears questions x about a topic during a class he's teaching, and tries to learn answers y to each of them. Will the questions next year be the same as the questions this year? \n",
        "\n",
        "Once we know that the questions next year will be different, what should Konrad do to be ready for the questions next year?\n",
        "\n",
        "More generally, why does it matter that the future is different from the past? How does that relate to i.i.d.?\n"
      ],
      "metadata": {
        "id": "53_lsUgRXVSN"
      }
    },
    {
      "cell_type": "markdown",
      "source": [
        "<details>\n",
        "<summary> <font color='green'>Click here for hint 2 </font></summary>\n",
        "\n",
        "So the future will have a different distribution p(X) than the past. It will also have a different distribution of good answers p(Y). After all, deep learning is evolving. And training in deep learning is also evolving. What could be a good model, in the context of deep learning, of p(X)? How could it be built into a deep learning system? Would it even be necessary to build it in? What about p(Y)? Would that need to be built in? Arguably, DL is about how to find p(Y|X). Why do we need to care about X changing? Why about Y changing?\n",
        "\n",
        "In this context, let us talk about curiosity. If p(X) and p(Y) are both changing, what would we want to learn about? We probably want to focus on things that will still be true in the future. What are the things that are true today and will be true in the future? Which things change?\n"
      ],
      "metadata": {
        "id": "mlnqB1EWXXrR"
      }
    },
    {
      "cell_type": "markdown",
      "source": [
        "<details>\n",
        "<summary> <font color='green'>Click here for hint 3 </font></summary>\n",
        "\n",
        "The objects in a room change. Their affordances do not, you will be able to sit on a chair tomorrow. The causal relations in the world do not change. For example, fire will still burn wood in the future. Their constituents do not change. For example, mammals still consist of blood, flesh, and bones. Other things change all the time. Who is in this room? Who am I talking with? There are also things that do change that I do not care about, e.g. somewhere far away there is a causal system I do not understand. So we do not just want to have good models in the future, we want to have good models to answer the kinds of questions we will actually be asked.\n"
      ],
      "metadata": {
        "id": "b3-2ivzjXZet"
      }
    },
    {
      "cell_type": "markdown",
      "source": [
        "<details>\n",
        "<summary> <font color='green'>Click here for solution  </font></summary>\n",
        "\n",
        "Here is a paper talking about these phenomena: https://arxiv.org/abs/2201.07372.\n",
        "\n",
        "The paper above is worth a full read! In brief, it outlines an argument that most AI focuses on *retrospective learning*, where it uses past experiences to learn and make predictions in the future, assuming the future mimics the past. The authors argue that true intelligence is *prospective learning*, where AI learns for an uncertain future by updating internal models to be useful for future novel tasks. They articulate four revelant factors that jointly define prospective learning: \"**Continual learning** enables intelligences to remember those aspects of the past which\n",
        "it believes will be most useful in the future. Prospective **constraints** (including biases and priors) facilitate the\n",
        "intelligence finding general solutions that will be applicable to future problems. **Curiosity** motivates taking actions\n",
        "that inform future decision making, including in previously unmet situations. **Causal estimation** enables learning\n",
        "the structure of relations that guide choosing actions for specific outcomes, even when the specific action-outcome\n",
        "contingencies have never been observed before.\" \n"
      ],
      "metadata": {
        "id": "6wiKIk35XfP-"
      }
    },
    {
      "cell_type": "markdown",
      "metadata": {
        "execution": {},
        "id": "deRFz3kTI685"
      },
      "source": [
        "---\n",
        "# Section 3: In-context Learning\n",
        "\n",
        "*Time estimate: ~15 mins*"
      ]
    },
    {
      "cell_type": "code",
      "execution_count": null,
      "metadata": {
        "cellView": "form",
        "execution": {},
        "id": "X7DVFMgKI685",
        "colab": {
          "base_uri": "https://localhost:8080/",
          "height": 580,
          "referenced_widgets": [
            "077559f039bf4a43a4c033142e2919ec",
            "0943d7cd7401466cb389e201497d2389",
            "738b918cda9e460f973791ac75888080",
            "75843a288bd548f3aa1b0be2021968f0",
            "e2d126f7471d478194d6306f75b4a080",
            "3e5552699b9b4ef49ab54048e41697e7"
          ]
        },
        "outputId": "b31f50dc-01b5-43c2-e1c1-4af954cad47d"
      },
      "outputs": [
        {
          "output_type": "display_data",
          "data": {
            "text/plain": [
              "Tab(children=(Output(), Output()), _titles={'0': 'Youtube', '1': 'Bilibili'})"
            ],
            "application/vnd.jupyter.widget-view+json": {
              "version_major": 2,
              "version_minor": 0,
              "model_id": "077559f039bf4a43a4c033142e2919ec"
            }
          },
          "metadata": {}
        }
      ],
      "source": [
        "# @title Video 3: In-context Learning Vignette\n",
        "from ipywidgets import widgets\n",
        "from IPython.display import YouTubeVideo\n",
        "from IPython.display import IFrame\n",
        "from IPython.display import display\n",
        "\n",
        "\n",
        "class PlayVideo(IFrame):\n",
        "  def __init__(self, id, source, page=1, width=400, height=300, **kwargs):\n",
        "    self.id = id\n",
        "    if source == 'Bilibili':\n",
        "      src = f'https://player.bilibili.com/player.html?bvid={id}&page={page}'\n",
        "    elif source == 'Osf':\n",
        "      src = f'https://mfr.ca-1.osf.io/render?url=https://osf.io/download/{id}/?direct%26mode=render'\n",
        "    super(PlayVideo, self).__init__(src, width, height, **kwargs)\n",
        "\n",
        "\n",
        "def display_videos(video_ids, W=400, H=300, fs=1):\n",
        "  tab_contents = []\n",
        "  for i, video_id in enumerate(video_ids):\n",
        "    out = widgets.Output()\n",
        "    with out:\n",
        "      if video_ids[i][0] == 'Youtube':\n",
        "        video = YouTubeVideo(id=video_ids[i][1], width=W,\n",
        "                             height=H, fs=fs, rel=0)\n",
        "        print(f'Video available at https://youtube.com/watch?v={video.id}')\n",
        "      else:\n",
        "        video = PlayVideo(id=video_ids[i][1], source=video_ids[i][0], width=W,\n",
        "                          height=H, fs=fs, autoplay=False)\n",
        "        if video_ids[i][0] == 'Bilibili':\n",
        "          print(f'Video available at https://www.bilibili.com/video/{video.id}')\n",
        "        elif video_ids[i][0] == 'Osf':\n",
        "          print(f'Video available at https://osf.io/{video.id}')\n",
        "      display(video)\n",
        "    tab_contents.append(out)\n",
        "  return tab_contents\n",
        "\n",
        "\n",
        "video_ids = [('Youtube', 'V5n41NHMbZI'), ('Bilibili', '')]\n",
        "tab_contents = display_videos(video_ids, W=854, H=480)\n",
        "tabs = widgets.Tab()\n",
        "tabs.children = tab_contents\n",
        "for i in range(len(tab_contents)):\n",
        "  tabs.set_title(i, video_ids[i][0])\n",
        "display(tabs)"
      ]
    },
    {
      "cell_type": "markdown",
      "metadata": {
        "execution": {},
        "id": "PffCD95dI686"
      },
      "source": [
        "## Think! 2: In-context Learning \n",
        "\n",
        "Please discuss as a group. If you get stuck, you can uncover the hints below one at a time to guide your discussion. Please spend some time discussing before uncovering the next hint though! "
      ]
    },
    {
      "cell_type": "markdown",
      "metadata": {
        "execution": {},
        "id": "KvrVLsYqI686"
      },
      "source": [
        "<details>\n",
        "<summary> <font color='green'>Click here for hint 1 </font></summary>\n",
        "\n",
        "What is in context learning? The context is basically the words that LLMs have in their context right now. To predicts what is next we, arguably, solve a machine learning problem. How would you write this as an equation?\n",
        "\n",
        "Try if you can get chatGPT to solve in-context learning problems.\n"
      ]
    },
    {
      "cell_type": "markdown",
      "metadata": {
        "execution": {},
        "id": "7NxFacUZI686"
      },
      "source": [
        "<details>\n",
        "<summary> <font color='green'>Click here for hint 2 </font></summary>\n",
        "\n",
        "Let us talk about the nature of the problem. How to we train systems and how may that relate to how we do in-context learning? \n",
        "\n",
        "Meta-learning is defined as a system that learns how to learn. Is in-context learning a version of meta-learning?\n"
      ]
    },
    {
      "cell_type": "markdown",
      "metadata": {
        "execution": {},
        "id": "14yYNjEKI686"
      },
      "source": [
        "<details>\n",
        "<summary> <font color='green'>Click here for hint 3 </font></summary>\n",
        "\n",
        "How could the transformer architecture be helpful for solving in-context learning problems? DL does do gradient descent. Do you think there is gradient descent learning in-context?\n"
      ]
    },
    {
      "cell_type": "markdown",
      "metadata": {
        "execution": {},
        "id": "U8_gk1eRI687"
      },
      "source": [
        "<details>\n",
        "<summary> <font color='green'>Click here for solution  </font></summary>\n",
        "\n",
        "Here are two papers about these topics:\n",
        "https://arxiv.org/abs/2211.15661 \n",
        "https://arxiv.org/abs/2212.10559v2\n",
        "\n"
      ]
    },
    {
      "cell_type": "markdown",
      "metadata": {
        "execution": {},
        "id": "WQGq7wsCI68-"
      },
      "source": [
        "---\n",
        "# Section 4: Memories\n",
        "\n",
        "\n",
        "*Time estimate: ~15 mins*"
      ]
    },
    {
      "cell_type": "code",
      "execution_count": null,
      "metadata": {
        "cellView": "form",
        "execution": {},
        "id": "ioOYt6bqI68-",
        "colab": {
          "base_uri": "https://localhost:8080/",
          "height": 580,
          "referenced_widgets": [
            "1882e72a999048ea8dde9d1adfae3ef9",
            "3d66f152969646a38476b77c0e3caacf",
            "fa1436ed47ae4b4c8ea95178686140cf",
            "4619f1f6c1d640dcb1469a7029d7c783",
            "cb2d2ec41ad948b9820c460862a287c9",
            "a92ec070471d42f9b84a04a8bf6130e5"
          ]
        },
        "outputId": "268faef8-3d58-4e16-facc-c32ee1552e35"
      },
      "outputs": [
        {
          "output_type": "display_data",
          "data": {
            "text/plain": [
              "Tab(children=(Output(), Output()), _titles={'0': 'Youtube', '1': 'Bilibili'})"
            ],
            "application/vnd.jupyter.widget-view+json": {
              "version_major": 2,
              "version_minor": 0,
              "model_id": "1882e72a999048ea8dde9d1adfae3ef9"
            }
          },
          "metadata": {}
        }
      ],
      "source": [
        "# @title Video 4: Memories Vignette \n",
        "from ipywidgets import widgets\n",
        "from IPython.display import YouTubeVideo\n",
        "from IPython.display import IFrame\n",
        "from IPython.display import display\n",
        "\n",
        "\n",
        "class PlayVideo(IFrame):\n",
        "  def __init__(self, id, source, page=1, width=400, height=300, **kwargs):\n",
        "    self.id = id\n",
        "    if source == 'Bilibili':\n",
        "      src = f'https://player.bilibili.com/player.html?bvid={id}&page={page}'\n",
        "    elif source == 'Osf':\n",
        "      src = f'https://mfr.ca-1.osf.io/render?url=https://osf.io/download/{id}/?direct%26mode=render'\n",
        "    super(PlayVideo, self).__init__(src, width, height, **kwargs)\n",
        "\n",
        "\n",
        "def display_videos(video_ids, W=400, H=300, fs=1):\n",
        "  tab_contents = []\n",
        "  for i, video_id in enumerate(video_ids):\n",
        "    out = widgets.Output()\n",
        "    with out:\n",
        "      if video_ids[i][0] == 'Youtube':\n",
        "        video = YouTubeVideo(id=video_ids[i][1], width=W,\n",
        "                             height=H, fs=fs, rel=0)\n",
        "        print(f'Video available at https://youtube.com/watch?v={video.id}')\n",
        "      else:\n",
        "        video = PlayVideo(id=video_ids[i][1], source=video_ids[i][0], width=W,\n",
        "                          height=H, fs=fs, autoplay=False)\n",
        "        if video_ids[i][0] == 'Bilibili':\n",
        "          print(f'Video available at https://www.bilibili.com/video/{video.id}')\n",
        "        elif video_ids[i][0] == 'Osf':\n",
        "          print(f'Video available at https://osf.io/{video.id}')\n",
        "      display(video)\n",
        "    tab_contents.append(out)\n",
        "  return tab_contents\n",
        "\n",
        "\n",
        "video_ids = [('Youtube', 'Sr2T9VZlNJY'), ('Bilibili', '')]\n",
        "tab_contents = display_videos(video_ids, W=854, H=480)\n",
        "tabs = widgets.Tab()\n",
        "tabs.children = tab_contents\n",
        "for i in range(len(tab_contents)):\n",
        "  tabs.set_title(i, video_ids[i][0])\n",
        "display(tabs)"
      ]
    },
    {
      "cell_type": "markdown",
      "metadata": {
        "execution": {},
        "id": "yV02ZxjzI68_"
      },
      "source": [
        "## Think! 3: Memories\n",
        "\n",
        "Please discuss as a group. If you get stuck, you can uncover the hints below one at a time. Please spend some time discussing before uncovering the next hint, though! You are being real deep learning scientists now, and the answers won’t be easy.\n",
        "\n"
      ]
    },
    {
      "cell_type": "markdown",
      "metadata": {
        "execution": {},
        "id": "79JEnAzSI69P"
      },
      "source": [
        "<details>\n",
        "<summary> <font color='green'>Click here for hint 1 </font></summary>\n",
        "\n",
        "How would you define episodic memory?\n",
        "\n",
        "How would you define procedural memory?\n",
        "\n",
        "How would you define semantic memory?\n"
      ]
    },
    {
      "cell_type": "markdown",
      "metadata": {
        "execution": {},
        "id": "O-dTiLPII69P"
      },
      "source": [
        "<details>\n",
        "<summary> <font color='green'>Click here for hint 2 </font></summary>\n",
        "\n",
        "The main interesting thing here is episodic memory. For example, you and your best friend may both know that it is a fact that you had dinner together yesterday night. How would you build episodic memory into a deep learning systems? Can you gradient descent into an episodic memory?\n",
        "\n"
      ]
    },
    {
      "cell_type": "markdown",
      "metadata": {
        "execution": {},
        "id": "EoqV3LbOI69P"
      },
      "source": [
        "<details>\n",
        "<summary> <font color='green'>Click here for hint 3 </font></summary>\n",
        "\n",
        "Episodic memory is after all something about absolute truth. So it is not entirely clear how it relates to gradient descent. It is easy to see how we may use gradient descent for reading though. So what if you instead just had a big blackboard. What would you write on it? When/how would you erase it?"
      ]
    },
    {
      "cell_type": "markdown",
      "metadata": {
        "execution": {},
        "id": "R3eyMp52I69P"
      },
      "source": [
        "<details>\n",
        "<summary> <font color='green'>Click here for solution </font></summary>\n",
        "\n",
        "Here are a few fun papers. https://arxiv.org/abs/1410.5401, https://arxiv.org/abs/1805.07603, https://arxiv.org/abs/1703.03129"
      ]
    },
    {
      "cell_type": "markdown",
      "source": [
        "---\n",
        "# Section 5: Multiple Information Sources\n",
        "\n",
        "\n",
        "*Time estimate: ~15 mins*"
      ],
      "metadata": {
        "id": "UhRWkVvGV2dW"
      }
    },
    {
      "cell_type": "code",
      "source": [
        "# @title Video 5: Multiple Information Sources Vignette \n",
        "from ipywidgets import widgets\n",
        "from IPython.display import YouTubeVideo\n",
        "from IPython.display import IFrame\n",
        "from IPython.display import display\n",
        "\n",
        "\n",
        "class PlayVideo(IFrame):\n",
        "  def __init__(self, id, source, page=1, width=400, height=300, **kwargs):\n",
        "    self.id = id\n",
        "    if source == 'Bilibili':\n",
        "      src = f'https://player.bilibili.com/player.html?bvid={id}&page={page}'\n",
        "    elif source == 'Osf':\n",
        "      src = f'https://mfr.ca-1.osf.io/render?url=https://osf.io/download/{id}/?direct%26mode=render'\n",
        "    super(PlayVideo, self).__init__(src, width, height, **kwargs)\n",
        "\n",
        "\n",
        "def display_videos(video_ids, W=400, H=300, fs=1):\n",
        "  tab_contents = []\n",
        "  for i, video_id in enumerate(video_ids):\n",
        "    out = widgets.Output()\n",
        "    with out:\n",
        "      if video_ids[i][0] == 'Youtube':\n",
        "        video = YouTubeVideo(id=video_ids[i][1], width=W,\n",
        "                             height=H, fs=fs, rel=0)\n",
        "        print(f'Video available at https://youtube.com/watch?v={video.id}')\n",
        "      else:\n",
        "        video = PlayVideo(id=video_ids[i][1], source=video_ids[i][0], width=W,\n",
        "                          height=H, fs=fs, autoplay=False)\n",
        "        if video_ids[i][0] == 'Bilibili':\n",
        "          print(f'Video available at https://www.bilibili.com/video/{video.id}')\n",
        "        elif video_ids[i][0] == 'Osf':\n",
        "          print(f'Video available at https://osf.io/{video.id}')\n",
        "      display(video)\n",
        "    tab_contents.append(out)\n",
        "  return tab_contents\n",
        "\n",
        "\n",
        "video_ids = [('Youtube', 'v76xc1jzaPU'), ('Bilibili', '')]\n",
        "tab_contents = display_videos(video_ids, W=854, H=480)\n",
        "tabs = widgets.Tab()\n",
        "tabs.children = tab_contents\n",
        "for i in range(len(tab_contents)):\n",
        "  tabs.set_title(i, video_ids[i][0])\n",
        "display(tabs)"
      ],
      "metadata": {
        "colab": {
          "base_uri": "https://localhost:8080/",
          "height": 580,
          "referenced_widgets": [
            "1f6844dee87a4eba8b190028b216bc4c",
            "5756336384124a6194dcaff2eb028ffb",
            "d53f8bd18f014d389f7dc1bfb722e9d5",
            "e6b9e8325ff146628da48ccebe008ba9",
            "343d391850944771b4a44cbaec5f45eb",
            "04d31ae87951428f8cec1ad7c19be3fd"
          ]
        },
        "cellView": "form",
        "id": "xAWt5T9jV9Lw",
        "outputId": "6ebabf6c-bf72-41cd-9f48-f824b062614c"
      },
      "execution_count": null,
      "outputs": [
        {
          "output_type": "display_data",
          "data": {
            "text/plain": [
              "Tab(children=(Output(), Output()), _titles={'0': 'Youtube', '1': 'Bilibili'})"
            ],
            "application/vnd.jupyter.widget-view+json": {
              "version_major": 2,
              "version_minor": 0,
              "model_id": "1f6844dee87a4eba8b190028b216bc4c"
            }
          },
          "metadata": {}
        }
      ]
    },
    {
      "cell_type": "markdown",
      "source": [
        "## Think! 4: Multiple Information Sources\n",
        "\n",
        "Please discuss as a group. If you get stuck, you can uncover the hints below one at a time. Please spend some time discussing before uncovering the next hint, though! You are being real deep learning scientists now, and the answers won’t be easy."
      ],
      "metadata": {
        "id": "_nyl2SoBV_gH"
      }
    },
    {
      "cell_type": "markdown",
      "source": [
        "<details>\n",
        "<summary> <font color='green'>Click here for hint 1 </font></summary>\n",
        "\n",
        "Think of a few tasks. If you wanted to solve them, which webpages would you use? How would you combine them? How could you allow a DL system to do the same thing?\n"
      ],
      "metadata": {
        "id": "gDM4KMuhWB_L"
      }
    },
    {
      "cell_type": "markdown",
      "source": [
        "<details>\n",
        "<summary> <font color='green'>Click here for hint 2 </font></summary>\n",
        "\n",
        "If you have multiple sources of information, how synergistic are they? How could you incorporate information from multiple sources? Could there be ways of summarizing the things you could get out of a given model?"
      ],
      "metadata": {
        "id": "SLdn9z-iWDd0"
      }
    },
    {
      "cell_type": "markdown",
      "source": [
        "<details>\n",
        "<summary> <font color='green'>Click here for hint 3 </font></summary>\n",
        "\n",
        "English language and querying can be a way of interacting with such services. Think about webpages as something that you can ask questions to.\n"
      ],
      "metadata": {
        "id": "59S1QipgWFbD"
      }
    },
    {
      "cell_type": "markdown",
      "source": [
        "<details>\n",
        "<summary> <font color='green'>Click here for solution </font></summary>\n",
        "\n",
        "Here are a list of recent relevant projects\n",
        "https://github.com/Significant-Gravitas/Auto-GPT\n",
        "https://arxiv.org/abs/2302.14045, https://ai.googleblog.com/2023/03/palm-e-embodied-multimodal-language.html"
      ],
      "metadata": {
        "id": "01gbt9crWHL-"
      }
    },
    {
      "cell_type": "markdown",
      "source": [
        "---\n",
        "# Section 6: Language for Robotics\n",
        "\n",
        "\n",
        "*Time estimate: ~15 mins*"
      ],
      "metadata": {
        "id": "QA7qXRaBWloc"
      }
    },
    {
      "cell_type": "code",
      "source": [
        "# @title Video 6: Language for Robotics Vignette \n",
        "from ipywidgets import widgets\n",
        "from IPython.display import YouTubeVideo\n",
        "from IPython.display import IFrame\n",
        "from IPython.display import display\n",
        "\n",
        "\n",
        "class PlayVideo(IFrame):\n",
        "  def __init__(self, id, source, page=1, width=400, height=300, **kwargs):\n",
        "    self.id = id\n",
        "    if source == 'Bilibili':\n",
        "      src = f'https://player.bilibili.com/player.html?bvid={id}&page={page}'\n",
        "    elif source == 'Osf':\n",
        "      src = f'https://mfr.ca-1.osf.io/render?url=https://osf.io/download/{id}/?direct%26mode=render'\n",
        "    super(PlayVideo, self).__init__(src, width, height, **kwargs)\n",
        "\n",
        "\n",
        "def display_videos(video_ids, W=400, H=300, fs=1):\n",
        "  tab_contents = []\n",
        "  for i, video_id in enumerate(video_ids):\n",
        "    out = widgets.Output()\n",
        "    with out:\n",
        "      if video_ids[i][0] == 'Youtube':\n",
        "        video = YouTubeVideo(id=video_ids[i][1], width=W,\n",
        "                             height=H, fs=fs, rel=0)\n",
        "        print(f'Video available at https://youtube.com/watch?v={video.id}')\n",
        "      else:\n",
        "        video = PlayVideo(id=video_ids[i][1], source=video_ids[i][0], width=W,\n",
        "                          height=H, fs=fs, autoplay=False)\n",
        "        if video_ids[i][0] == 'Bilibili':\n",
        "          print(f'Video available at https://www.bilibili.com/video/{video.id}')\n",
        "        elif video_ids[i][0] == 'Osf':\n",
        "          print(f'Video available at https://osf.io/{video.id}')\n",
        "      display(video)\n",
        "    tab_contents.append(out)\n",
        "  return tab_contents\n",
        "\n",
        "\n",
        "video_ids = [('Youtube', 'By7oLXsCh0w'), ('Bilibili', '')]\n",
        "tab_contents = display_videos(video_ids, W=854, H=480)\n",
        "tabs = widgets.Tab()\n",
        "tabs.children = tab_contents\n",
        "for i in range(len(tab_contents)):\n",
        "  tabs.set_title(i, video_ids[i][0])\n",
        "display(tabs)"
      ],
      "metadata": {
        "colab": {
          "base_uri": "https://localhost:8080/",
          "height": 580,
          "referenced_widgets": [
            "f899461b6acf43feb123682055844e2e",
            "cdd454165d464a3b8cd26dce6f501667",
            "475d4fa5e6f14d529238154db7228d75",
            "df9304d4b7634781b0becd580bb5da2c",
            "034c85e7983e4f91a0c3d7ea1da83821",
            "c3ad81419cee443fa7e3f549ea0909e9"
          ]
        },
        "cellView": "form",
        "id": "gBow1huFWr70",
        "outputId": "f844a625-6153-4d6e-82a5-4e2c1e949be7"
      },
      "execution_count": null,
      "outputs": [
        {
          "output_type": "display_data",
          "data": {
            "text/plain": [
              "Tab(children=(Output(), Output()), _titles={'0': 'Youtube', '1': 'Bilibili'})"
            ],
            "application/vnd.jupyter.widget-view+json": {
              "version_major": 2,
              "version_minor": 0,
              "model_id": "f899461b6acf43feb123682055844e2e"
            }
          },
          "metadata": {}
        }
      ]
    },
    {
      "cell_type": "markdown",
      "source": [
        "## Think! 5: Language for Robotics "
      ],
      "metadata": {
        "id": "8cjuL_ocWtv2"
      }
    },
    {
      "cell_type": "markdown",
      "source": [
        "<details>\n",
        "<summary> <font color='green'>Click here for hint 1 </font></summary>\n",
        "\n",
        "Think about a robotics problem, e.g. emptying the dishwasher. Is there a way of dividing it into subproblems? How many of them? How complex are they? \n"
      ],
      "metadata": {
        "id": "UUk0yMCIWu9P"
      }
    },
    {
      "cell_type": "markdown",
      "source": [
        "<details>\n",
        "<summary> <font color='green'>Click here for hint 2 </font></summary>\n",
        "\n",
        "If you look at the subproblems, how complex are they? What could be a good way of describing each subproblem? If a robot controlling AI system would have such a description, how useful would that be?"
      ],
      "metadata": {
        "id": "xfpTABfYWy3R"
      }
    },
    {
      "cell_type": "markdown",
      "source": [
        "<details>\n",
        "<summary> <font color='green'>Click here for hint 3 </font></summary>\n",
        "\n",
        "If we were to use a large language model to interact with the RL systems, how useful would that be? Why is language so useful for this task?"
      ],
      "metadata": {
        "id": "_7Gjae0rW2Cx"
      }
    },
    {
      "cell_type": "markdown",
      "source": [
        "<details>\n",
        "<summary> <font color='green'>Click here for solution </font></summary>\n",
        "\n",
        "Have a look at this great collection of papers\n",
        "https://github.com/GT-RIPL/Awesome-LLM-Robotics\n"
      ],
      "metadata": {
        "id": "XA62r1Y0W6vv"
      }
    },
    {
      "cell_type": "markdown",
      "metadata": {
        "execution": {},
        "id": "t61yAsdVI69Q"
      },
      "source": [
        "---\n",
        "# Summary\n",
        "\n",
        "*Time estimate: ~2 mins*\n",
        "\n",
        "\n",
        "\n"
      ]
    }
  ],
  "metadata": {
    "colab": {
      "provenance": [],
      "toc_visible": true,
      "include_colab_link": true
    },
    "kernel": {
      "display_name": "Python 3",
      "language": "python",
      "name": "python3"
    },
    "kernelspec": {
      "display_name": "Python 3",
      "name": "python3"
    },
    "language_info": {
      "name": "python"
    },
    "widgets": {
      "application/vnd.jupyter.widget-state+json": {
        "20580443f9c446ba883754cd6860b3d8": {
          "model_module": "@jupyter-widgets/controls",
          "model_name": "TabModel",
          "model_module_version": "1.5.0",
          "state": {
            "_dom_classes": [],
            "_model_module": "@jupyter-widgets/controls",
            "_model_module_version": "1.5.0",
            "_model_name": "TabModel",
            "_titles": {
              "0": "Youtube",
              "1": "Bilibili"
            },
            "_view_count": null,
            "_view_module": "@jupyter-widgets/controls",
            "_view_module_version": "1.5.0",
            "_view_name": "TabView",
            "box_style": "",
            "children": [
              "IPY_MODEL_b2bc3f5d9d534e81aba9dea89236e83d",
              "IPY_MODEL_17cf4a2ff46e4ab48e5d415a62181327"
            ],
            "layout": "IPY_MODEL_dc37e50615df48189793a8146636170f",
            "selected_index": 0
          }
        },
        "b2bc3f5d9d534e81aba9dea89236e83d": {
          "model_module": "@jupyter-widgets/output",
          "model_name": "OutputModel",
          "model_module_version": "1.0.0",
          "state": {
            "_dom_classes": [],
            "_model_module": "@jupyter-widgets/output",
            "_model_module_version": "1.0.0",
            "_model_name": "OutputModel",
            "_view_count": null,
            "_view_module": "@jupyter-widgets/output",
            "_view_module_version": "1.0.0",
            "_view_name": "OutputView",
            "layout": "IPY_MODEL_fd0caf52629642349a3a6bf9cdb38448",
            "msg_id": "",
            "outputs": [
              {
                "output_type": "stream",
                "name": "stdout",
                "text": [
                  "Video available at https://youtube.com/watch?v=rURUYJUKJQY\n"
                ]
              },
              {
                "output_type": "display_data",
                "data": {
                  "text/plain": "<IPython.lib.display.YouTubeVideo at 0x7f5d14327850>",
                  "text/html": "\n        <iframe\n            width=\"854\"\n            height=\"480\"\n            src=\"https://www.youtube.com/embed/rURUYJUKJQY?fs=1&rel=0\"\n            frameborder=\"0\"\n            allowfullscreen\n            \n        ></iframe>\n        ",
                  "image/jpeg": "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\n"
                },
                "metadata": {}
              }
            ]
          }
        },
        "17cf4a2ff46e4ab48e5d415a62181327": {
          "model_module": "@jupyter-widgets/output",
          "model_name": "OutputModel",
          "model_module_version": "1.0.0",
          "state": {
            "_dom_classes": [],
            "_model_module": "@jupyter-widgets/output",
            "_model_module_version": "1.0.0",
            "_model_name": "OutputModel",
            "_view_count": null,
            "_view_module": "@jupyter-widgets/output",
            "_view_module_version": "1.0.0",
            "_view_name": "OutputView",
            "layout": "IPY_MODEL_177d84c977484ec198ab863e2eef0a44",
            "msg_id": "",
            "outputs": [
              {
                "output_type": "stream",
                "name": "stdout",
                "text": [
                  "Video available at https://www.bilibili.com/video/\n"
                ]
              },
              {
                "output_type": "display_data",
                "data": {
                  "text/plain": "<__main__.PlayVideo at 0x7f5d14327760>",
                  "text/html": "\n        <iframe\n            width=\"854\"\n            height=\"480\"\n            src=\"https://player.bilibili.com/player.html?bvid=&page=1?fs=1&autoplay=False\"\n            frameborder=\"0\"\n            allowfullscreen\n            \n        ></iframe>\n        "
                },
                "metadata": {}
              }
            ]
          }
        },
        "dc37e50615df48189793a8146636170f": {
          "model_module": "@jupyter-widgets/base",
          "model_name": "LayoutModel",
          "model_module_version": "1.2.0",
          "state": {
            "_model_module": "@jupyter-widgets/base",
            "_model_module_version": "1.2.0",
            "_model_name": "LayoutModel",
            "_view_count": null,
            "_view_module": "@jupyter-widgets/base",
            "_view_module_version": "1.2.0",
            "_view_name": "LayoutView",
            "align_content": null,
            "align_items": null,
            "align_self": null,
            "border": null,
            "bottom": null,
            "display": null,
            "flex": null,
            "flex_flow": null,
            "grid_area": null,
            "grid_auto_columns": null,
            "grid_auto_flow": null,
            "grid_auto_rows": null,
            "grid_column": null,
            "grid_gap": null,
            "grid_row": null,
            "grid_template_areas": null,
            "grid_template_columns": null,
            "grid_template_rows": null,
            "height": null,
            "justify_content": null,
            "justify_items": null,
            "left": null,
            "margin": null,
            "max_height": null,
            "max_width": null,
            "min_height": null,
            "min_width": null,
            "object_fit": null,
            "object_position": null,
            "order": null,
            "overflow": null,
            "overflow_x": null,
            "overflow_y": null,
            "padding": null,
            "right": null,
            "top": null,
            "visibility": null,
            "width": null
          }
        },
        "fd0caf52629642349a3a6bf9cdb38448": {
          "model_module": "@jupyter-widgets/base",
          "model_name": "LayoutModel",
          "model_module_version": "1.2.0",
          "state": {
            "_model_module": "@jupyter-widgets/base",
            "_model_module_version": "1.2.0",
            "_model_name": "LayoutModel",
            "_view_count": null,
            "_view_module": "@jupyter-widgets/base",
            "_view_module_version": "1.2.0",
            "_view_name": "LayoutView",
            "align_content": null,
            "align_items": null,
            "align_self": null,
            "border": null,
            "bottom": null,
            "display": null,
            "flex": null,
            "flex_flow": null,
            "grid_area": null,
            "grid_auto_columns": null,
            "grid_auto_flow": null,
            "grid_auto_rows": null,
            "grid_column": null,
            "grid_gap": null,
            "grid_row": null,
            "grid_template_areas": null,
            "grid_template_columns": null,
            "grid_template_rows": null,
            "height": null,
            "justify_content": null,
            "justify_items": null,
            "left": null,
            "margin": null,
            "max_height": null,
            "max_width": null,
            "min_height": null,
            "min_width": null,
            "object_fit": null,
            "object_position": null,
            "order": null,
            "overflow": null,
            "overflow_x": null,
            "overflow_y": null,
            "padding": null,
            "right": null,
            "top": null,
            "visibility": null,
            "width": null
          }
        },
        "177d84c977484ec198ab863e2eef0a44": {
          "model_module": "@jupyter-widgets/base",
          "model_name": "LayoutModel",
          "model_module_version": "1.2.0",
          "state": {
            "_model_module": "@jupyter-widgets/base",
            "_model_module_version": "1.2.0",
            "_model_name": "LayoutModel",
            "_view_count": null,
            "_view_module": "@jupyter-widgets/base",
            "_view_module_version": "1.2.0",
            "_view_name": "LayoutView",
            "align_content": null,
            "align_items": null,
            "align_self": null,
            "border": null,
            "bottom": null,
            "display": null,
            "flex": null,
            "flex_flow": null,
            "grid_area": null,
            "grid_auto_columns": null,
            "grid_auto_flow": null,
            "grid_auto_rows": null,
            "grid_column": null,
            "grid_gap": null,
            "grid_row": null,
            "grid_template_areas": null,
            "grid_template_columns": null,
            "grid_template_rows": null,
            "height": null,
            "justify_content": null,
            "justify_items": null,
            "left": null,
            "margin": null,
            "max_height": null,
            "max_width": null,
            "min_height": null,
            "min_width": null,
            "object_fit": null,
            "object_position": null,
            "order": null,
            "overflow": null,
            "overflow_x": null,
            "overflow_y": null,
            "padding": null,
            "right": null,
            "top": null,
            "visibility": null,
            "width": null
          }
        },
        "ed4d58ee39214b9f9543fa3de9cdf391": {
          "model_module": "@jupyter-widgets/controls",
          "model_name": "TabModel",
          "model_module_version": "1.5.0",
          "state": {
            "_dom_classes": [],
            "_model_module": "@jupyter-widgets/controls",
            "_model_module_version": "1.5.0",
            "_model_name": "TabModel",
            "_titles": {
              "0": "Youtube",
              "1": "Bilibili"
            },
            "_view_count": null,
            "_view_module": "@jupyter-widgets/controls",
            "_view_module_version": "1.5.0",
            "_view_name": "TabView",
            "box_style": "",
            "children": [
              "IPY_MODEL_b66d5425134a473db24d21f8db64cad8",
              "IPY_MODEL_a51e3738e98a49498384c1523c509470"
            ],
            "layout": "IPY_MODEL_979a062ebadb4199860aaeddafb9c9d8",
            "selected_index": 0
          }
        },
        "b66d5425134a473db24d21f8db64cad8": {
          "model_module": "@jupyter-widgets/output",
          "model_name": "OutputModel",
          "model_module_version": "1.0.0",
          "state": {
            "_dom_classes": [],
            "_model_module": "@jupyter-widgets/output",
            "_model_module_version": "1.0.0",
            "_model_name": "OutputModel",
            "_view_count": null,
            "_view_module": "@jupyter-widgets/output",
            "_view_module_version": "1.0.0",
            "_view_name": "OutputView",
            "layout": "IPY_MODEL_9d05f9018e814d10b688f2e21b9a9445",
            "msg_id": "",
            "outputs": [
              {
                "output_type": "stream",
                "name": "stdout",
                "text": [
                  "Video available at https://youtube.com/watch?v=fqdbgkimsxo\n"
                ]
              },
              {
                "output_type": "display_data",
                "data": {
                  "text/plain": "<IPython.lib.display.YouTubeVideo at 0x7f5d14380dc0>",
                  "text/html": "\n        <iframe\n            width=\"854\"\n            height=\"480\"\n            src=\"https://www.youtube.com/embed/fqdbgkimsxo?fs=1&rel=0\"\n            frameborder=\"0\"\n            allowfullscreen\n            \n        ></iframe>\n        "
                },
                "metadata": {}
              }
            ]
          }
        },
        "a51e3738e98a49498384c1523c509470": {
          "model_module": "@jupyter-widgets/output",
          "model_name": "OutputModel",
          "model_module_version": "1.0.0",
          "state": {
            "_dom_classes": [],
            "_model_module": "@jupyter-widgets/output",
            "_model_module_version": "1.0.0",
            "_model_name": "OutputModel",
            "_view_count": null,
            "_view_module": "@jupyter-widgets/output",
            "_view_module_version": "1.0.0",
            "_view_name": "OutputView",
            "layout": "IPY_MODEL_1f62a49cba89413d8e8259483ccb3633",
            "msg_id": "",
            "outputs": [
              {
                "output_type": "stream",
                "name": "stdout",
                "text": [
                  "Video available at https://www.bilibili.com/video/\n"
                ]
              },
              {
                "output_type": "display_data",
                "data": {
                  "text/plain": "<__main__.PlayVideo at 0x7f5d14381e10>",
                  "text/html": "\n        <iframe\n            width=\"854\"\n            height=\"480\"\n            src=\"https://player.bilibili.com/player.html?bvid=&page=1?fs=1&autoplay=False\"\n            frameborder=\"0\"\n            allowfullscreen\n            \n        ></iframe>\n        "
                },
                "metadata": {}
              }
            ]
          }
        },
        "979a062ebadb4199860aaeddafb9c9d8": {
          "model_module": "@jupyter-widgets/base",
          "model_name": "LayoutModel",
          "model_module_version": "1.2.0",
          "state": {
            "_model_module": "@jupyter-widgets/base",
            "_model_module_version": "1.2.0",
            "_model_name": "LayoutModel",
            "_view_count": null,
            "_view_module": "@jupyter-widgets/base",
            "_view_module_version": "1.2.0",
            "_view_name": "LayoutView",
            "align_content": null,
            "align_items": null,
            "align_self": null,
            "border": null,
            "bottom": null,
            "display": null,
            "flex": null,
            "flex_flow": null,
            "grid_area": null,
            "grid_auto_columns": null,
            "grid_auto_flow": null,
            "grid_auto_rows": null,
            "grid_column": null,
            "grid_gap": null,
            "grid_row": null,
            "grid_template_areas": null,
            "grid_template_columns": null,
            "grid_template_rows": null,
            "height": null,
            "justify_content": null,
            "justify_items": null,
            "left": null,
            "margin": null,
            "max_height": null,
            "max_width": null,
            "min_height": null,
            "min_width": null,
            "object_fit": null,
            "object_position": null,
            "order": null,
            "overflow": null,
            "overflow_x": null,
            "overflow_y": null,
            "padding": null,
            "right": null,
            "top": null,
            "visibility": null,
            "width": null
          }
        },
        "9d05f9018e814d10b688f2e21b9a9445": {
          "model_module": "@jupyter-widgets/base",
          "model_name": "LayoutModel",
          "model_module_version": "1.2.0",
          "state": {
            "_model_module": "@jupyter-widgets/base",
            "_model_module_version": "1.2.0",
            "_model_name": "LayoutModel",
            "_view_count": null,
            "_view_module": "@jupyter-widgets/base",
            "_view_module_version": "1.2.0",
            "_view_name": "LayoutView",
            "align_content": null,
            "align_items": null,
            "align_self": null,
            "border": null,
            "bottom": null,
            "display": null,
            "flex": null,
            "flex_flow": null,
            "grid_area": null,
            "grid_auto_columns": null,
            "grid_auto_flow": null,
            "grid_auto_rows": null,
            "grid_column": null,
            "grid_gap": null,
            "grid_row": null,
            "grid_template_areas": null,
            "grid_template_columns": null,
            "grid_template_rows": null,
            "height": null,
            "justify_content": null,
            "justify_items": null,
            "left": null,
            "margin": null,
            "max_height": null,
            "max_width": null,
            "min_height": null,
            "min_width": null,
            "object_fit": null,
            "object_position": null,
            "order": null,
            "overflow": null,
            "overflow_x": null,
            "overflow_y": null,
            "padding": null,
            "right": null,
            "top": null,
            "visibility": null,
            "width": null
          }
        },
        "1f62a49cba89413d8e8259483ccb3633": {
          "model_module": "@jupyter-widgets/base",
          "model_name": "LayoutModel",
          "model_module_version": "1.2.0",
          "state": {
            "_model_module": "@jupyter-widgets/base",
            "_model_module_version": "1.2.0",
            "_model_name": "LayoutModel",
            "_view_count": null,
            "_view_module": "@jupyter-widgets/base",
            "_view_module_version": "1.2.0",
            "_view_name": "LayoutView",
            "align_content": null,
            "align_items": null,
            "align_self": null,
            "border": null,
            "bottom": null,
            "display": null,
            "flex": null,
            "flex_flow": null,
            "grid_area": null,
            "grid_auto_columns": null,
            "grid_auto_flow": null,
            "grid_auto_rows": null,
            "grid_column": null,
            "grid_gap": null,
            "grid_row": null,
            "grid_template_areas": null,
            "grid_template_columns": null,
            "grid_template_rows": null,
            "height": null,
            "justify_content": null,
            "justify_items": null,
            "left": null,
            "margin": null,
            "max_height": null,
            "max_width": null,
            "min_height": null,
            "min_width": null,
            "object_fit": null,
            "object_position": null,
            "order": null,
            "overflow": null,
            "overflow_x": null,
            "overflow_y": null,
            "padding": null,
            "right": null,
            "top": null,
            "visibility": null,
            "width": null
          }
        },
        "077559f039bf4a43a4c033142e2919ec": {
          "model_module": "@jupyter-widgets/controls",
          "model_name": "TabModel",
          "model_module_version": "1.5.0",
          "state": {
            "_dom_classes": [],
            "_model_module": "@jupyter-widgets/controls",
            "_model_module_version": "1.5.0",
            "_model_name": "TabModel",
            "_titles": {
              "0": "Youtube",
              "1": "Bilibili"
            },
            "_view_count": null,
            "_view_module": "@jupyter-widgets/controls",
            "_view_module_version": "1.5.0",
            "_view_name": "TabView",
            "box_style": "",
            "children": [
              "IPY_MODEL_0943d7cd7401466cb389e201497d2389",
              "IPY_MODEL_738b918cda9e460f973791ac75888080"
            ],
            "layout": "IPY_MODEL_75843a288bd548f3aa1b0be2021968f0",
            "selected_index": 0
          }
        },
        "0943d7cd7401466cb389e201497d2389": {
          "model_module": "@jupyter-widgets/output",
          "model_name": "OutputModel",
          "model_module_version": "1.0.0",
          "state": {
            "_dom_classes": [],
            "_model_module": "@jupyter-widgets/output",
            "_model_module_version": "1.0.0",
            "_model_name": "OutputModel",
            "_view_count": null,
            "_view_module": "@jupyter-widgets/output",
            "_view_module_version": "1.0.0",
            "_view_name": "OutputView",
            "layout": "IPY_MODEL_e2d126f7471d478194d6306f75b4a080",
            "msg_id": "",
            "outputs": [
              {
                "output_type": "stream",
                "name": "stdout",
                "text": [
                  "Video available at https://youtube.com/watch?v=V5n41NHMbZI\n"
                ]
              },
              {
                "output_type": "display_data",
                "data": {
                  "text/plain": "<IPython.lib.display.YouTubeVideo at 0x7f5d1466c790>",
                  "text/html": "\n        <iframe\n            width=\"854\"\n            height=\"480\"\n            src=\"https://www.youtube.com/embed/V5n41NHMbZI?fs=1&rel=0\"\n            frameborder=\"0\"\n            allowfullscreen\n            \n        ></iframe>\n        "
                },
                "metadata": {}
              }
            ]
          }
        },
        "738b918cda9e460f973791ac75888080": {
          "model_module": "@jupyter-widgets/output",
          "model_name": "OutputModel",
          "model_module_version": "1.0.0",
          "state": {
            "_dom_classes": [],
            "_model_module": "@jupyter-widgets/output",
            "_model_module_version": "1.0.0",
            "_model_name": "OutputModel",
            "_view_count": null,
            "_view_module": "@jupyter-widgets/output",
            "_view_module_version": "1.0.0",
            "_view_name": "OutputView",
            "layout": "IPY_MODEL_3e5552699b9b4ef49ab54048e41697e7",
            "msg_id": "",
            "outputs": [
              {
                "output_type": "stream",
                "name": "stdout",
                "text": [
                  "Video available at https://www.bilibili.com/video/\n"
                ]
              },
              {
                "output_type": "display_data",
                "data": {
                  "text/plain": "<__main__.PlayVideo at 0x7f5d1466f820>",
                  "text/html": "\n        <iframe\n            width=\"854\"\n            height=\"480\"\n            src=\"https://player.bilibili.com/player.html?bvid=&page=1?fs=1&autoplay=False\"\n            frameborder=\"0\"\n            allowfullscreen\n            \n        ></iframe>\n        "
                },
                "metadata": {}
              }
            ]
          }
        },
        "75843a288bd548f3aa1b0be2021968f0": {
          "model_module": "@jupyter-widgets/base",
          "model_name": "LayoutModel",
          "model_module_version": "1.2.0",
          "state": {
            "_model_module": "@jupyter-widgets/base",
            "_model_module_version": "1.2.0",
            "_model_name": "LayoutModel",
            "_view_count": null,
            "_view_module": "@jupyter-widgets/base",
            "_view_module_version": "1.2.0",
            "_view_name": "LayoutView",
            "align_content": null,
            "align_items": null,
            "align_self": null,
            "border": null,
            "bottom": null,
            "display": null,
            "flex": null,
            "flex_flow": null,
            "grid_area": null,
            "grid_auto_columns": null,
            "grid_auto_flow": null,
            "grid_auto_rows": null,
            "grid_column": null,
            "grid_gap": null,
            "grid_row": null,
            "grid_template_areas": null,
            "grid_template_columns": null,
            "grid_template_rows": null,
            "height": null,
            "justify_content": null,
            "justify_items": null,
            "left": null,
            "margin": null,
            "max_height": null,
            "max_width": null,
            "min_height": null,
            "min_width": null,
            "object_fit": null,
            "object_position": null,
            "order": null,
            "overflow": null,
            "overflow_x": null,
            "overflow_y": null,
            "padding": null,
            "right": null,
            "top": null,
            "visibility": null,
            "width": null
          }
        },
        "e2d126f7471d478194d6306f75b4a080": {
          "model_module": "@jupyter-widgets/base",
          "model_name": "LayoutModel",
          "model_module_version": "1.2.0",
          "state": {
            "_model_module": "@jupyter-widgets/base",
            "_model_module_version": "1.2.0",
            "_model_name": "LayoutModel",
            "_view_count": null,
            "_view_module": "@jupyter-widgets/base",
            "_view_module_version": "1.2.0",
            "_view_name": "LayoutView",
            "align_content": null,
            "align_items": null,
            "align_self": null,
            "border": null,
            "bottom": null,
            "display": null,
            "flex": null,
            "flex_flow": null,
            "grid_area": null,
            "grid_auto_columns": null,
            "grid_auto_flow": null,
            "grid_auto_rows": null,
            "grid_column": null,
            "grid_gap": null,
            "grid_row": null,
            "grid_template_areas": null,
            "grid_template_columns": null,
            "grid_template_rows": null,
            "height": null,
            "justify_content": null,
            "justify_items": null,
            "left": null,
            "margin": null,
            "max_height": null,
            "max_width": null,
            "min_height": null,
            "min_width": null,
            "object_fit": null,
            "object_position": null,
            "order": null,
            "overflow": null,
            "overflow_x": null,
            "overflow_y": null,
            "padding": null,
            "right": null,
            "top": null,
            "visibility": null,
            "width": null
          }
        },
        "3e5552699b9b4ef49ab54048e41697e7": {
          "model_module": "@jupyter-widgets/base",
          "model_name": "LayoutModel",
          "model_module_version": "1.2.0",
          "state": {
            "_model_module": "@jupyter-widgets/base",
            "_model_module_version": "1.2.0",
            "_model_name": "LayoutModel",
            "_view_count": null,
            "_view_module": "@jupyter-widgets/base",
            "_view_module_version": "1.2.0",
            "_view_name": "LayoutView",
            "align_content": null,
            "align_items": null,
            "align_self": null,
            "border": null,
            "bottom": null,
            "display": null,
            "flex": null,
            "flex_flow": null,
            "grid_area": null,
            "grid_auto_columns": null,
            "grid_auto_flow": null,
            "grid_auto_rows": null,
            "grid_column": null,
            "grid_gap": null,
            "grid_row": null,
            "grid_template_areas": null,
            "grid_template_columns": null,
            "grid_template_rows": null,
            "height": null,
            "justify_content": null,
            "justify_items": null,
            "left": null,
            "margin": null,
            "max_height": null,
            "max_width": null,
            "min_height": null,
            "min_width": null,
            "object_fit": null,
            "object_position": null,
            "order": null,
            "overflow": null,
            "overflow_x": null,
            "overflow_y": null,
            "padding": null,
            "right": null,
            "top": null,
            "visibility": null,
            "width": null
          }
        },
        "1882e72a999048ea8dde9d1adfae3ef9": {
          "model_module": "@jupyter-widgets/controls",
          "model_name": "TabModel",
          "model_module_version": "1.5.0",
          "state": {
            "_dom_classes": [],
            "_model_module": "@jupyter-widgets/controls",
            "_model_module_version": "1.5.0",
            "_model_name": "TabModel",
            "_titles": {
              "0": "Youtube",
              "1": "Bilibili"
            },
            "_view_count": null,
            "_view_module": "@jupyter-widgets/controls",
            "_view_module_version": "1.5.0",
            "_view_name": "TabView",
            "box_style": "",
            "children": [
              "IPY_MODEL_3d66f152969646a38476b77c0e3caacf",
              "IPY_MODEL_fa1436ed47ae4b4c8ea95178686140cf"
            ],
            "layout": "IPY_MODEL_4619f1f6c1d640dcb1469a7029d7c783",
            "selected_index": 0
          }
        },
        "3d66f152969646a38476b77c0e3caacf": {
          "model_module": "@jupyter-widgets/output",
          "model_name": "OutputModel",
          "model_module_version": "1.0.0",
          "state": {
            "_dom_classes": [],
            "_model_module": "@jupyter-widgets/output",
            "_model_module_version": "1.0.0",
            "_model_name": "OutputModel",
            "_view_count": null,
            "_view_module": "@jupyter-widgets/output",
            "_view_module_version": "1.0.0",
            "_view_name": "OutputView",
            "layout": "IPY_MODEL_cb2d2ec41ad948b9820c460862a287c9",
            "msg_id": "",
            "outputs": [
              {
                "output_type": "stream",
                "name": "stdout",
                "text": [
                  "Video available at https://youtube.com/watch?v=Sr2T9VZlNJY\n"
                ]
              },
              {
                "output_type": "display_data",
                "data": {
                  "text/plain": "<IPython.lib.display.YouTubeVideo at 0x7f5d143816f0>",
                  "text/html": "\n        <iframe\n            width=\"854\"\n            height=\"480\"\n            src=\"https://www.youtube.com/embed/Sr2T9VZlNJY?fs=1&rel=0\"\n            frameborder=\"0\"\n            allowfullscreen\n            \n        ></iframe>\n        ",
                  "image/jpeg": "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\n"
                },
                "metadata": {}
              }
            ]
          }
        },
        "fa1436ed47ae4b4c8ea95178686140cf": {
          "model_module": "@jupyter-widgets/output",
          "model_name": "OutputModel",
          "model_module_version": "1.0.0",
          "state": {
            "_dom_classes": [],
            "_model_module": "@jupyter-widgets/output",
            "_model_module_version": "1.0.0",
            "_model_name": "OutputModel",
            "_view_count": null,
            "_view_module": "@jupyter-widgets/output",
            "_view_module_version": "1.0.0",
            "_view_name": "OutputView",
            "layout": "IPY_MODEL_a92ec070471d42f9b84a04a8bf6130e5",
            "msg_id": "",
            "outputs": [
              {
                "output_type": "stream",
                "name": "stdout",
                "text": [
                  "Video available at https://www.bilibili.com/video/\n"
                ]
              },
              {
                "output_type": "display_data",
                "data": {
                  "text/plain": "<__main__.PlayVideo at 0x7f5d14383f70>",
                  "text/html": "\n        <iframe\n            width=\"854\"\n            height=\"480\"\n            src=\"https://player.bilibili.com/player.html?bvid=&page=1?fs=1&autoplay=False\"\n            frameborder=\"0\"\n            allowfullscreen\n            \n        ></iframe>\n        "
                },
                "metadata": {}
              }
            ]
          }
        },
        "4619f1f6c1d640dcb1469a7029d7c783": {
          "model_module": "@jupyter-widgets/base",
          "model_name": "LayoutModel",
          "model_module_version": "1.2.0",
          "state": {
            "_model_module": "@jupyter-widgets/base",
            "_model_module_version": "1.2.0",
            "_model_name": "LayoutModel",
            "_view_count": null,
            "_view_module": "@jupyter-widgets/base",
            "_view_module_version": "1.2.0",
            "_view_name": "LayoutView",
            "align_content": null,
            "align_items": null,
            "align_self": null,
            "border": null,
            "bottom": null,
            "display": null,
            "flex": null,
            "flex_flow": null,
            "grid_area": null,
            "grid_auto_columns": null,
            "grid_auto_flow": null,
            "grid_auto_rows": null,
            "grid_column": null,
            "grid_gap": null,
            "grid_row": null,
            "grid_template_areas": null,
            "grid_template_columns": null,
            "grid_template_rows": null,
            "height": null,
            "justify_content": null,
            "justify_items": null,
            "left": null,
            "margin": null,
            "max_height": null,
            "max_width": null,
            "min_height": null,
            "min_width": null,
            "object_fit": null,
            "object_position": null,
            "order": null,
            "overflow": null,
            "overflow_x": null,
            "overflow_y": null,
            "padding": null,
            "right": null,
            "top": null,
            "visibility": null,
            "width": null
          }
        },
        "cb2d2ec41ad948b9820c460862a287c9": {
          "model_module": "@jupyter-widgets/base",
          "model_name": "LayoutModel",
          "model_module_version": "1.2.0",
          "state": {
            "_model_module": "@jupyter-widgets/base",
            "_model_module_version": "1.2.0",
            "_model_name": "LayoutModel",
            "_view_count": null,
            "_view_module": "@jupyter-widgets/base",
            "_view_module_version": "1.2.0",
            "_view_name": "LayoutView",
            "align_content": null,
            "align_items": null,
            "align_self": null,
            "border": null,
            "bottom": null,
            "display": null,
            "flex": null,
            "flex_flow": null,
            "grid_area": null,
            "grid_auto_columns": null,
            "grid_auto_flow": null,
            "grid_auto_rows": null,
            "grid_column": null,
            "grid_gap": null,
            "grid_row": null,
            "grid_template_areas": null,
            "grid_template_columns": null,
            "grid_template_rows": null,
            "height": null,
            "justify_content": null,
            "justify_items": null,
            "left": null,
            "margin": null,
            "max_height": null,
            "max_width": null,
            "min_height": null,
            "min_width": null,
            "object_fit": null,
            "object_position": null,
            "order": null,
            "overflow": null,
            "overflow_x": null,
            "overflow_y": null,
            "padding": null,
            "right": null,
            "top": null,
            "visibility": null,
            "width": null
          }
        },
        "a92ec070471d42f9b84a04a8bf6130e5": {
          "model_module": "@jupyter-widgets/base",
          "model_name": "LayoutModel",
          "model_module_version": "1.2.0",
          "state": {
            "_model_module": "@jupyter-widgets/base",
            "_model_module_version": "1.2.0",
            "_model_name": "LayoutModel",
            "_view_count": null,
            "_view_module": "@jupyter-widgets/base",
            "_view_module_version": "1.2.0",
            "_view_name": "LayoutView",
            "align_content": null,
            "align_items": null,
            "align_self": null,
            "border": null,
            "bottom": null,
            "display": null,
            "flex": null,
            "flex_flow": null,
            "grid_area": null,
            "grid_auto_columns": null,
            "grid_auto_flow": null,
            "grid_auto_rows": null,
            "grid_column": null,
            "grid_gap": null,
            "grid_row": null,
            "grid_template_areas": null,
            "grid_template_columns": null,
            "grid_template_rows": null,
            "height": null,
            "justify_content": null,
            "justify_items": null,
            "left": null,
            "margin": null,
            "max_height": null,
            "max_width": null,
            "min_height": null,
            "min_width": null,
            "object_fit": null,
            "object_position": null,
            "order": null,
            "overflow": null,
            "overflow_x": null,
            "overflow_y": null,
            "padding": null,
            "right": null,
            "top": null,
            "visibility": null,
            "width": null
          }
        },
        "1f6844dee87a4eba8b190028b216bc4c": {
          "model_module": "@jupyter-widgets/controls",
          "model_name": "TabModel",
          "model_module_version": "1.5.0",
          "state": {
            "_dom_classes": [],
            "_model_module": "@jupyter-widgets/controls",
            "_model_module_version": "1.5.0",
            "_model_name": "TabModel",
            "_titles": {
              "0": "Youtube",
              "1": "Bilibili"
            },
            "_view_count": null,
            "_view_module": "@jupyter-widgets/controls",
            "_view_module_version": "1.5.0",
            "_view_name": "TabView",
            "box_style": "",
            "children": [
              "IPY_MODEL_5756336384124a6194dcaff2eb028ffb",
              "IPY_MODEL_d53f8bd18f014d389f7dc1bfb722e9d5"
            ],
            "layout": "IPY_MODEL_e6b9e8325ff146628da48ccebe008ba9",
            "selected_index": 0
          }
        },
        "5756336384124a6194dcaff2eb028ffb": {
          "model_module": "@jupyter-widgets/output",
          "model_name": "OutputModel",
          "model_module_version": "1.0.0",
          "state": {
            "_dom_classes": [],
            "_model_module": "@jupyter-widgets/output",
            "_model_module_version": "1.0.0",
            "_model_name": "OutputModel",
            "_view_count": null,
            "_view_module": "@jupyter-widgets/output",
            "_view_module_version": "1.0.0",
            "_view_name": "OutputView",
            "layout": "IPY_MODEL_343d391850944771b4a44cbaec5f45eb",
            "msg_id": "",
            "outputs": [
              {
                "output_type": "stream",
                "name": "stdout",
                "text": [
                  "Video available at https://youtube.com/watch?v=v76xc1jzaPU\n"
                ]
              },
              {
                "output_type": "display_data",
                "data": {
                  "text/plain": "<IPython.lib.display.YouTubeVideo at 0x7f5d1466c670>",
                  "text/html": "\n        <iframe\n            width=\"854\"\n            height=\"480\"\n            src=\"https://www.youtube.com/embed/v76xc1jzaPU?fs=1&rel=0\"\n            frameborder=\"0\"\n            allowfullscreen\n            \n        ></iframe>\n        ",
                  "image/jpeg": "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\n"
                },
                "metadata": {}
              }
            ]
          }
        },
        "d53f8bd18f014d389f7dc1bfb722e9d5": {
          "model_module": "@jupyter-widgets/output",
          "model_name": "OutputModel",
          "model_module_version": "1.0.0",
          "state": {
            "_dom_classes": [],
            "_model_module": "@jupyter-widgets/output",
            "_model_module_version": "1.0.0",
            "_model_name": "OutputModel",
            "_view_count": null,
            "_view_module": "@jupyter-widgets/output",
            "_view_module_version": "1.0.0",
            "_view_name": "OutputView",
            "layout": "IPY_MODEL_04d31ae87951428f8cec1ad7c19be3fd",
            "msg_id": "",
            "outputs": [
              {
                "output_type": "stream",
                "name": "stdout",
                "text": [
                  "Video available at https://www.bilibili.com/video/\n"
                ]
              },
              {
                "output_type": "display_data",
                "data": {
                  "text/plain": "<__main__.PlayVideo at 0x7f5d1466cac0>",
                  "text/html": "\n        <iframe\n            width=\"854\"\n            height=\"480\"\n            src=\"https://player.bilibili.com/player.html?bvid=&page=1?fs=1&autoplay=False\"\n            frameborder=\"0\"\n            allowfullscreen\n            \n        ></iframe>\n        "
                },
                "metadata": {}
              }
            ]
          }
        },
        "e6b9e8325ff146628da48ccebe008ba9": {
          "model_module": "@jupyter-widgets/base",
          "model_name": "LayoutModel",
          "model_module_version": "1.2.0",
          "state": {
            "_model_module": "@jupyter-widgets/base",
            "_model_module_version": "1.2.0",
            "_model_name": "LayoutModel",
            "_view_count": null,
            "_view_module": "@jupyter-widgets/base",
            "_view_module_version": "1.2.0",
            "_view_name": "LayoutView",
            "align_content": null,
            "align_items": null,
            "align_self": null,
            "border": null,
            "bottom": null,
            "display": null,
            "flex": null,
            "flex_flow": null,
            "grid_area": null,
            "grid_auto_columns": null,
            "grid_auto_flow": null,
            "grid_auto_rows": null,
            "grid_column": null,
            "grid_gap": null,
            "grid_row": null,
            "grid_template_areas": null,
            "grid_template_columns": null,
            "grid_template_rows": null,
            "height": null,
            "justify_content": null,
            "justify_items": null,
            "left": null,
            "margin": null,
            "max_height": null,
            "max_width": null,
            "min_height": null,
            "min_width": null,
            "object_fit": null,
            "object_position": null,
            "order": null,
            "overflow": null,
            "overflow_x": null,
            "overflow_y": null,
            "padding": null,
            "right": null,
            "top": null,
            "visibility": null,
            "width": null
          }
        },
        "343d391850944771b4a44cbaec5f45eb": {
          "model_module": "@jupyter-widgets/base",
          "model_name": "LayoutModel",
          "model_module_version": "1.2.0",
          "state": {
            "_model_module": "@jupyter-widgets/base",
            "_model_module_version": "1.2.0",
            "_model_name": "LayoutModel",
            "_view_count": null,
            "_view_module": "@jupyter-widgets/base",
            "_view_module_version": "1.2.0",
            "_view_name": "LayoutView",
            "align_content": null,
            "align_items": null,
            "align_self": null,
            "border": null,
            "bottom": null,
            "display": null,
            "flex": null,
            "flex_flow": null,
            "grid_area": null,
            "grid_auto_columns": null,
            "grid_auto_flow": null,
            "grid_auto_rows": null,
            "grid_column": null,
            "grid_gap": null,
            "grid_row": null,
            "grid_template_areas": null,
            "grid_template_columns": null,
            "grid_template_rows": null,
            "height": null,
            "justify_content": null,
            "justify_items": null,
            "left": null,
            "margin": null,
            "max_height": null,
            "max_width": null,
            "min_height": null,
            "min_width": null,
            "object_fit": null,
            "object_position": null,
            "order": null,
            "overflow": null,
            "overflow_x": null,
            "overflow_y": null,
            "padding": null,
            "right": null,
            "top": null,
            "visibility": null,
            "width": null
          }
        },
        "04d31ae87951428f8cec1ad7c19be3fd": {
          "model_module": "@jupyter-widgets/base",
          "model_name": "LayoutModel",
          "model_module_version": "1.2.0",
          "state": {
            "_model_module": "@jupyter-widgets/base",
            "_model_module_version": "1.2.0",
            "_model_name": "LayoutModel",
            "_view_count": null,
            "_view_module": "@jupyter-widgets/base",
            "_view_module_version": "1.2.0",
            "_view_name": "LayoutView",
            "align_content": null,
            "align_items": null,
            "align_self": null,
            "border": null,
            "bottom": null,
            "display": null,
            "flex": null,
            "flex_flow": null,
            "grid_area": null,
            "grid_auto_columns": null,
            "grid_auto_flow": null,
            "grid_auto_rows": null,
            "grid_column": null,
            "grid_gap": null,
            "grid_row": null,
            "grid_template_areas": null,
            "grid_template_columns": null,
            "grid_template_rows": null,
            "height": null,
            "justify_content": null,
            "justify_items": null,
            "left": null,
            "margin": null,
            "max_height": null,
            "max_width": null,
            "min_height": null,
            "min_width": null,
            "object_fit": null,
            "object_position": null,
            "order": null,
            "overflow": null,
            "overflow_x": null,
            "overflow_y": null,
            "padding": null,
            "right": null,
            "top": null,
            "visibility": null,
            "width": null
          }
        },
        "f899461b6acf43feb123682055844e2e": {
          "model_module": "@jupyter-widgets/controls",
          "model_name": "TabModel",
          "model_module_version": "1.5.0",
          "state": {
            "_dom_classes": [],
            "_model_module": "@jupyter-widgets/controls",
            "_model_module_version": "1.5.0",
            "_model_name": "TabModel",
            "_titles": {
              "0": "Youtube",
              "1": "Bilibili"
            },
            "_view_count": null,
            "_view_module": "@jupyter-widgets/controls",
            "_view_module_version": "1.5.0",
            "_view_name": "TabView",
            "box_style": "",
            "children": [
              "IPY_MODEL_cdd454165d464a3b8cd26dce6f501667",
              "IPY_MODEL_475d4fa5e6f14d529238154db7228d75"
            ],
            "layout": "IPY_MODEL_df9304d4b7634781b0becd580bb5da2c",
            "selected_index": 0
          }
        },
        "cdd454165d464a3b8cd26dce6f501667": {
          "model_module": "@jupyter-widgets/output",
          "model_name": "OutputModel",
          "model_module_version": "1.0.0",
          "state": {
            "_dom_classes": [],
            "_model_module": "@jupyter-widgets/output",
            "_model_module_version": "1.0.0",
            "_model_name": "OutputModel",
            "_view_count": null,
            "_view_module": "@jupyter-widgets/output",
            "_view_module_version": "1.0.0",
            "_view_name": "OutputView",
            "layout": "IPY_MODEL_034c85e7983e4f91a0c3d7ea1da83821",
            "msg_id": "",
            "outputs": [
              {
                "output_type": "stream",
                "name": "stdout",
                "text": [
                  "Video available at https://youtube.com/watch?v=By7oLXsCh0w\n"
                ]
              },
              {
                "output_type": "display_data",
                "data": {
                  "text/plain": "<IPython.lib.display.YouTubeVideo at 0x7f5d14382d40>",
                  "text/html": "\n        <iframe\n            width=\"854\"\n            height=\"480\"\n            src=\"https://www.youtube.com/embed/By7oLXsCh0w?fs=1&rel=0\"\n            frameborder=\"0\"\n            allowfullscreen\n            \n        ></iframe>\n        ",
                  "image/jpeg": "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\n"
                },
                "metadata": {}
              }
            ]
          }
        },
        "475d4fa5e6f14d529238154db7228d75": {
          "model_module": "@jupyter-widgets/output",
          "model_name": "OutputModel",
          "model_module_version": "1.0.0",
          "state": {
            "_dom_classes": [],
            "_model_module": "@jupyter-widgets/output",
            "_model_module_version": "1.0.0",
            "_model_name": "OutputModel",
            "_view_count": null,
            "_view_module": "@jupyter-widgets/output",
            "_view_module_version": "1.0.0",
            "_view_name": "OutputView",
            "layout": "IPY_MODEL_c3ad81419cee443fa7e3f549ea0909e9",
            "msg_id": "",
            "outputs": [
              {
                "output_type": "stream",
                "name": "stdout",
                "text": [
                  "Video available at https://www.bilibili.com/video/\n"
                ]
              },
              {
                "output_type": "display_data",
                "data": {
                  "text/plain": "<__main__.PlayVideo at 0x7f5d14382d70>",
                  "text/html": "\n        <iframe\n            width=\"854\"\n            height=\"480\"\n            src=\"https://player.bilibili.com/player.html?bvid=&page=1?fs=1&autoplay=False\"\n            frameborder=\"0\"\n            allowfullscreen\n            \n        ></iframe>\n        "
                },
                "metadata": {}
              }
            ]
          }
        },
        "df9304d4b7634781b0becd580bb5da2c": {
          "model_module": "@jupyter-widgets/base",
          "model_name": "LayoutModel",
          "model_module_version": "1.2.0",
          "state": {
            "_model_module": "@jupyter-widgets/base",
            "_model_module_version": "1.2.0",
            "_model_name": "LayoutModel",
            "_view_count": null,
            "_view_module": "@jupyter-widgets/base",
            "_view_module_version": "1.2.0",
            "_view_name": "LayoutView",
            "align_content": null,
            "align_items": null,
            "align_self": null,
            "border": null,
            "bottom": null,
            "display": null,
            "flex": null,
            "flex_flow": null,
            "grid_area": null,
            "grid_auto_columns": null,
            "grid_auto_flow": null,
            "grid_auto_rows": null,
            "grid_column": null,
            "grid_gap": null,
            "grid_row": null,
            "grid_template_areas": null,
            "grid_template_columns": null,
            "grid_template_rows": null,
            "height": null,
            "justify_content": null,
            "justify_items": null,
            "left": null,
            "margin": null,
            "max_height": null,
            "max_width": null,
            "min_height": null,
            "min_width": null,
            "object_fit": null,
            "object_position": null,
            "order": null,
            "overflow": null,
            "overflow_x": null,
            "overflow_y": null,
            "padding": null,
            "right": null,
            "top": null,
            "visibility": null,
            "width": null
          }
        },
        "034c85e7983e4f91a0c3d7ea1da83821": {
          "model_module": "@jupyter-widgets/base",
          "model_name": "LayoutModel",
          "model_module_version": "1.2.0",
          "state": {
            "_model_module": "@jupyter-widgets/base",
            "_model_module_version": "1.2.0",
            "_model_name": "LayoutModel",
            "_view_count": null,
            "_view_module": "@jupyter-widgets/base",
            "_view_module_version": "1.2.0",
            "_view_name": "LayoutView",
            "align_content": null,
            "align_items": null,
            "align_self": null,
            "border": null,
            "bottom": null,
            "display": null,
            "flex": null,
            "flex_flow": null,
            "grid_area": null,
            "grid_auto_columns": null,
            "grid_auto_flow": null,
            "grid_auto_rows": null,
            "grid_column": null,
            "grid_gap": null,
            "grid_row": null,
            "grid_template_areas": null,
            "grid_template_columns": null,
            "grid_template_rows": null,
            "height": null,
            "justify_content": null,
            "justify_items": null,
            "left": null,
            "margin": null,
            "max_height": null,
            "max_width": null,
            "min_height": null,
            "min_width": null,
            "object_fit": null,
            "object_position": null,
            "order": null,
            "overflow": null,
            "overflow_x": null,
            "overflow_y": null,
            "padding": null,
            "right": null,
            "top": null,
            "visibility": null,
            "width": null
          }
        },
        "c3ad81419cee443fa7e3f549ea0909e9": {
          "model_module": "@jupyter-widgets/base",
          "model_name": "LayoutModel",
          "model_module_version": "1.2.0",
          "state": {
            "_model_module": "@jupyter-widgets/base",
            "_model_module_version": "1.2.0",
            "_model_name": "LayoutModel",
            "_view_count": null,
            "_view_module": "@jupyter-widgets/base",
            "_view_module_version": "1.2.0",
            "_view_name": "LayoutView",
            "align_content": null,
            "align_items": null,
            "align_self": null,
            "border": null,
            "bottom": null,
            "display": null,
            "flex": null,
            "flex_flow": null,
            "grid_area": null,
            "grid_auto_columns": null,
            "grid_auto_flow": null,
            "grid_auto_rows": null,
            "grid_column": null,
            "grid_gap": null,
            "grid_row": null,
            "grid_template_areas": null,
            "grid_template_columns": null,
            "grid_template_rows": null,
            "height": null,
            "justify_content": null,
            "justify_items": null,
            "left": null,
            "margin": null,
            "max_height": null,
            "max_width": null,
            "min_height": null,
            "min_width": null,
            "object_fit": null,
            "object_position": null,
            "order": null,
            "overflow": null,
            "overflow_x": null,
            "overflow_y": null,
            "padding": null,
            "right": null,
            "top": null,
            "visibility": null,
            "width": null
          }
        }
      }
    }
  },
  "nbformat": 4,
  "nbformat_minor": 0
}