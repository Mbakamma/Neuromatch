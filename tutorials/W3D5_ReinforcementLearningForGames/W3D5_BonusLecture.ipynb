{
  "nbformat": 4,
  "nbformat_minor": 0,
  "metadata": {
    "colab": {
      "name": "W3D5_BonusLecture.ipynb",
      "provenance": [],
      "authorship_tag": "ABX9TyNvpWuPAvlsTMUdUN+gUDLl",
      "include_colab_link": true
    },
    "kernelspec": {
      "name": "python3",
      "display_name": "Python 3"
    },
    "language_info": {
      "name": "python"
    },
    "widgets": {
      "application/vnd.jupyter.widget-state+json": {
        "244d9564ade24e748055c4b27bd3492c": {
          "model_module": "@jupyter-widgets/controls",
          "model_name": "TabModel",
          "model_module_version": "1.5.0",
          "state": {
            "_dom_classes": [],
            "_model_module": "@jupyter-widgets/controls",
            "_model_module_version": "1.5.0",
            "_model_name": "TabModel",
            "_titles": {
              "0": "Youtube",
              "1": "Bilibili"
            },
            "_view_count": null,
            "_view_module": "@jupyter-widgets/controls",
            "_view_module_version": "1.5.0",
            "_view_name": "TabView",
            "box_style": "",
            "children": [
              "IPY_MODEL_1016dc66299e4d1393407e18f707b98e",
              "IPY_MODEL_3598fc1df2f647bab3a00f2474c323f0"
            ],
            "layout": "IPY_MODEL_561a1d16f0774c1d8b975620af40fa38",
            "selected_index": 0
          }
        },
        "1016dc66299e4d1393407e18f707b98e": {
          "model_module": "@jupyter-widgets/output",
          "model_name": "OutputModel",
          "model_module_version": "1.0.0",
          "state": {
            "_dom_classes": [],
            "_model_module": "@jupyter-widgets/output",
            "_model_module_version": "1.0.0",
            "_model_name": "OutputModel",
            "_view_count": null,
            "_view_module": "@jupyter-widgets/output",
            "_view_module_version": "1.0.0",
            "_view_name": "OutputView",
            "layout": "IPY_MODEL_5566a6a038e64c99a89e7531b59244e8",
            "msg_id": "",
            "outputs": [
              {
                "output_type": "stream",
                "name": "stdout",
                "text": [
                  "Video available at https://youtube.com/watch?v=w-hpuoIVTq4\n"
                ]
              },
              {
                "output_type": "display_data",
                "data": {
                  "text/plain": "<IPython.lib.display.YouTubeVideo at 0x7f62effeef90>",
                  "text/html": "\n        <iframe\n            width=\"854\"\n            height=\"480\"\n            src=\"https://www.youtube.com/embed/w-hpuoIVTq4?fs=1&rel=0\"\n            frameborder=\"0\"\n            allowfullscreen\n        ></iframe>\n        ",
                  "image/jpeg": "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\n"
                },
                "metadata": {}
              }
            ]
          }
        },
        "3598fc1df2f647bab3a00f2474c323f0": {
          "model_module": "@jupyter-widgets/output",
          "model_name": "OutputModel",
          "model_module_version": "1.0.0",
          "state": {
            "_dom_classes": [],
            "_model_module": "@jupyter-widgets/output",
            "_model_module_version": "1.0.0",
            "_model_name": "OutputModel",
            "_view_count": null,
            "_view_module": "@jupyter-widgets/output",
            "_view_module_version": "1.0.0",
            "_view_name": "OutputView",
            "layout": "IPY_MODEL_76a78183222644d2acf35198fa45eb1e",
            "msg_id": "",
            "outputs": [
              {
                "output_type": "stream",
                "name": "stdout",
                "text": [
                  "Video available at https://www.bilibili.com/video/BV12M4y1N7Ah\n"
                ]
              },
              {
                "output_type": "display_data",
                "data": {
                  "text/plain": "<__main__.BiliVideo at 0x7f62effeee50>",
                  "text/html": "\n        <iframe\n            width=\"854\"\n            height=\"480\"\n            src=\"https://player.bilibili.com/player.html?bvid=BV12M4y1N7Ah&page=1?fs=1\"\n            frameborder=\"0\"\n            allowfullscreen\n        ></iframe>\n        "
                },
                "metadata": {}
              }
            ]
          }
        },
        "561a1d16f0774c1d8b975620af40fa38": {
          "model_module": "@jupyter-widgets/base",
          "model_name": "LayoutModel",
          "model_module_version": "1.2.0",
          "state": {
            "_model_module": "@jupyter-widgets/base",
            "_model_module_version": "1.2.0",
            "_model_name": "LayoutModel",
            "_view_count": null,
            "_view_module": "@jupyter-widgets/base",
            "_view_module_version": "1.2.0",
            "_view_name": "LayoutView",
            "align_content": null,
            "align_items": null,
            "align_self": null,
            "border": null,
            "bottom": null,
            "display": null,
            "flex": null,
            "flex_flow": null,
            "grid_area": null,
            "grid_auto_columns": null,
            "grid_auto_flow": null,
            "grid_auto_rows": null,
            "grid_column": null,
            "grid_gap": null,
            "grid_row": null,
            "grid_template_areas": null,
            "grid_template_columns": null,
            "grid_template_rows": null,
            "height": null,
            "justify_content": null,
            "justify_items": null,
            "left": null,
            "margin": null,
            "max_height": null,
            "max_width": null,
            "min_height": null,
            "min_width": null,
            "object_fit": null,
            "object_position": null,
            "order": null,
            "overflow": null,
            "overflow_x": null,
            "overflow_y": null,
            "padding": null,
            "right": null,
            "top": null,
            "visibility": null,
            "width": null
          }
        },
        "5566a6a038e64c99a89e7531b59244e8": {
          "model_module": "@jupyter-widgets/base",
          "model_name": "LayoutModel",
          "model_module_version": "1.2.0",
          "state": {
            "_model_module": "@jupyter-widgets/base",
            "_model_module_version": "1.2.0",
            "_model_name": "LayoutModel",
            "_view_count": null,
            "_view_module": "@jupyter-widgets/base",
            "_view_module_version": "1.2.0",
            "_view_name": "LayoutView",
            "align_content": null,
            "align_items": null,
            "align_self": null,
            "border": null,
            "bottom": null,
            "display": null,
            "flex": null,
            "flex_flow": null,
            "grid_area": null,
            "grid_auto_columns": null,
            "grid_auto_flow": null,
            "grid_auto_rows": null,
            "grid_column": null,
            "grid_gap": null,
            "grid_row": null,
            "grid_template_areas": null,
            "grid_template_columns": null,
            "grid_template_rows": null,
            "height": null,
            "justify_content": null,
            "justify_items": null,
            "left": null,
            "margin": null,
            "max_height": null,
            "max_width": null,
            "min_height": null,
            "min_width": null,
            "object_fit": null,
            "object_position": null,
            "order": null,
            "overflow": null,
            "overflow_x": null,
            "overflow_y": null,
            "padding": null,
            "right": null,
            "top": null,
            "visibility": null,
            "width": null
          }
        },
        "76a78183222644d2acf35198fa45eb1e": {
          "model_module": "@jupyter-widgets/base",
          "model_name": "LayoutModel",
          "model_module_version": "1.2.0",
          "state": {
            "_model_module": "@jupyter-widgets/base",
            "_model_module_version": "1.2.0",
            "_model_name": "LayoutModel",
            "_view_count": null,
            "_view_module": "@jupyter-widgets/base",
            "_view_module_version": "1.2.0",
            "_view_name": "LayoutView",
            "align_content": null,
            "align_items": null,
            "align_self": null,
            "border": null,
            "bottom": null,
            "display": null,
            "flex": null,
            "flex_flow": null,
            "grid_area": null,
            "grid_auto_columns": null,
            "grid_auto_flow": null,
            "grid_auto_rows": null,
            "grid_column": null,
            "grid_gap": null,
            "grid_row": null,
            "grid_template_areas": null,
            "grid_template_columns": null,
            "grid_template_rows": null,
            "height": null,
            "justify_content": null,
            "justify_items": null,
            "left": null,
            "margin": null,
            "max_height": null,
            "max_width": null,
            "min_height": null,
            "min_width": null,
            "object_fit": null,
            "object_position": null,
            "order": null,
            "overflow": null,
            "overflow_x": null,
            "overflow_y": null,
            "padding": null,
            "right": null,
            "top": null,
            "visibility": null,
            "width": null
          }
        }
      }
    }
  },
  "cells": [
    {
      "cell_type": "markdown",
      "metadata": {
        "id": "view-in-github",
        "colab_type": "text"
      },
      "source": [
        "<a href=\"https://colab.research.google.com/github/NeuromatchAcademy/course-content-dl/blob/outro_w3d5/tutorials/W3D5_ReinforcementLearningForGames/W3D5_BonusLecture.ipynb\" target=\"_parent\"><img src=\"https://colab.research.google.com/assets/colab-badge.svg\" alt=\"Open In Colab\"/></a>"
      ]
    },
    {
      "cell_type": "markdown",
      "metadata": {
        "execution": {},
        "id": "61yjiacir9Zd"
      },
      "source": [
        "## Bonus Lecture"
      ]
    },
    {
      "cell_type": "markdown",
      "metadata": {
        "execution": {},
        "id": "fuNoxfgar9Zf"
      },
      "source": [
        "<p align='center'><img src='https://github.com/NeuromatchAcademy/widgets/blob/master/sponsors.png?raw=True'/></p>"
      ]
    },
    {
      "cell_type": "code",
      "execution_count": 1,
      "metadata": {
        "cellView": "form",
        "execution": {},
        "id": "6ex0XwVmr9Zh",
        "colab": {
          "base_uri": "https://localhost:8080/",
          "height": 581,
          "referenced_widgets": [
            "244d9564ade24e748055c4b27bd3492c",
            "1016dc66299e4d1393407e18f707b98e",
            "3598fc1df2f647bab3a00f2474c323f0",
            "561a1d16f0774c1d8b975620af40fa38",
            "5566a6a038e64c99a89e7531b59244e8",
            "76a78183222644d2acf35198fa45eb1e"
          ]
        },
        "outputId": "2d2048b0-ef56-4e16-a49c-2cddab40f796"
      },
      "outputs": [
        {
          "output_type": "display_data",
          "data": {
            "text/plain": [
              "Tab(children=(Output(), Output()), _titles={'0': 'Youtube', '1': 'Bilibili'})"
            ],
            "application/vnd.jupyter.widget-view+json": {
              "version_major": 2,
              "version_minor": 0,
              "model_id": "244d9564ade24e748055c4b27bd3492c"
            }
          },
          "metadata": {}
        }
      ],
      "source": [
        "# @title Video\n",
        "from ipywidgets import widgets\n",
        "out2 = widgets.Output()\n",
        "with out2:\n",
        "  from IPython.display import IFrame\n",
        "  class BiliVideo(IFrame):\n",
        "    def __init__(self, id, page=1, width=400, height=300, **kwargs):\n",
        "      self.id=id\n",
        "      src = \"https://player.bilibili.com/player.html?bvid={0}&page={1}\".format(id, page)\n",
        "      super(BiliVideo, self).__init__(src, width, height, **kwargs)\n",
        "\n",
        "  video = BiliVideo(id=f\"BV12M4y1N7Ah\", width=854, height=480, fs=1)\n",
        "  print(\"Video available at https://www.bilibili.com/video/{0}\".format(video.id))\n",
        "  display(video)\n",
        "\n",
        "out1 = widgets.Output()\n",
        "with out1:\n",
        "  from IPython.display import YouTubeVideo\n",
        "  video = YouTubeVideo(id=f\"w-hpuoIVTq4\", width=854, height=480, fs=1, rel=0)\n",
        "  print(\"Video available at https://youtube.com/watch?v=\" + video.id)\n",
        "  display(video)\n",
        "\n",
        "out = widgets.Tab([out1, out2])\n",
        "out.set_title(0, 'Youtube')\n",
        "out.set_title(1, 'Bilibili')\n",
        "\n",
        "display(out)"
      ]
    },
    {
      "cell_type": "markdown",
      "metadata": {
        "execution": {},
        "id": "yF8t1Is9r9Zk"
      },
      "source": [
        "## Slides"
      ]
    },
    {
      "cell_type": "code",
      "execution_count": 2,
      "metadata": {
        "cellView": "form",
        "execution": {},
        "id": "bOAzktkXr9Zl",
        "colab": {
          "base_uri": "https://localhost:8080/",
          "height": 501
        },
        "outputId": "6c0e8be8-cea6-4c97-c78d-fb94b6d41772"
      },
      "outputs": [
        {
          "output_type": "execute_result",
          "data": {
            "text/plain": [
              "<IPython.lib.display.IFrame at 0x7f62effee490>"
            ],
            "text/html": [
              "\n",
              "        <iframe\n",
              "            width=\"854\"\n",
              "            height=\"480\"\n",
              "            src=\"\"\n",
              "            frameborder=\"0\"\n",
              "            allowfullscreen\n",
              "        ></iframe>\n",
              "        "
            ]
          },
          "metadata": {},
          "execution_count": 2
        }
      ],
      "source": [
        "# @markdown\n",
        "from IPython.display import IFrame\n",
        "IFrame(src=f\"\", width=854, height=480)"
      ]
    }
  ]
}