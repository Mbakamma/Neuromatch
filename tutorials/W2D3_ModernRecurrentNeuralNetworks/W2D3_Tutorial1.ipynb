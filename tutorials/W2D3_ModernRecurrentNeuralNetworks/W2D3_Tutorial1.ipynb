{
  "nbformat": 4,
  "nbformat_minor": 0,
  "metadata": {
    "colab": {
      "name": " W2D3_Tutorial1.ipynb",
      "provenance": [],
      "collapsed_sections": [
        "fP0QFihrsrGS",
        "kuoVYFKBtvU6",
        "-WkoBS0LuAK9",
        "7ECoxlc0uY0Y",
        "30R9lGTapUt3",
        "OsNBxEe5zYCz",
        "oI0xy9E8zYC3",
        "EYUqaNE8zYC5",
        "g4p1DgypCXjO",
        "o72iuoypppbq",
        "c92VC8DYvPY1",
        "UjAyx16xvccJ"
      ],
      "toc_visible": true,
      "machine_shape": "hm",
      "include_colab_link": true
    },
    "kernelspec": {
      "display_name": "Python 3",
      "name": "python3"
    },
    "language_info": {
      "name": "python"
    }
  },
  "cells": [
    {
      "cell_type": "markdown",
      "metadata": {
        "id": "view-in-github",
        "colab_type": "text"
      },
      "source": [
        "<a href=\"https://colab.research.google.com/github/NeuromatchAcademy/course-content-dl/blob/w2d3_t1_initial/tutorials/W2D3_ModernRecurrentNeuralNetworks/W2D3_Tutorial1.ipynb\" target=\"_parent\"><img src=\"https://colab.research.google.com/assets/colab-badge.svg\" alt=\"Open In Colab\"/></a>"
      ]
    },
    {
      "cell_type": "markdown",
      "metadata": {
        "id": "z_FNWVNHwEUc"
      },
      "source": [
        "# Neuromatch Academy: Week 2, Day 3, Tutorial 1\n",
        "# Modern RNNs\n",
        "\n",
        "__Content creators:__ James Evans, Bhargav Srinivasa Desikan, Anis Zahedifard\n",
        "\n",
        "__Content reviewers:__ XXXXX, XXXXXX\n",
        "\n",
        "__Content editors:__ XXXXX\n",
        "\n",
        "__Production editors:__ Roberto Guidotti, Spiros Chavlis, XXXXXX\n",
        "\n",
        "\n"
      ]
    },
    {
      "cell_type": "code",
      "metadata": {
        "id": "u4B9IKfvZ6yn"
      },
      "source": [
        "# This is a place holder notebook. DO NOT USE.\n",
        "\n",
        "import numpy as np"
      ],
      "execution_count": 1,
      "outputs": []
    },
    {
      "cell_type": "code",
      "metadata": {
        "id": "8fxAgn-pbfwE",
        "outputId": "fb941ab8-3f12-4ea8-9117-a486bd4acd82",
        "colab": {
          "base_uri": "https://localhost:8080/"
        }
      },
      "source": [
        "for i in range(10):\n",
        "  print(f'Power of 2: {i**2}')"
      ],
      "execution_count": 2,
      "outputs": [
        {
          "output_type": "stream",
          "text": [
            "Power of 2: 0\n",
            "Power of 2: 1\n",
            "Power of 2: 4\n",
            "Power of 2: 9\n",
            "Power of 2: 16\n",
            "Power of 2: 25\n",
            "Power of 2: 36\n",
            "Power of 2: 49\n",
            "Power of 2: 64\n",
            "Power of 2: 81\n"
          ],
          "name": "stdout"
        }
      ]
    },
    {
      "cell_type": "code",
      "metadata": {
        "id": "Vwx7tJOIbnM8"
      },
      "source": [
        "def myfunc(counter):\n",
        "  for i in range(counter):\n",
        "    raise NotImplementedError\n",
        "    j = ...\n",
        "    print(f'Power of 2: {j}')\n",
        "\n",
        "\n",
        "## Uncomment to check your function\n",
        "# myfunc(15)"
      ],
      "execution_count": 3,
      "outputs": []
    },
    {
      "cell_type": "code",
      "metadata": {
        "id": "Ab62hOWhbsk-",
        "outputId": "6635dac1-d088-4799-bf9f-cde203a3ce20",
        "colab": {
          "base_uri": "https://localhost:8080/"
        }
      },
      "source": [
        "#to_remove solution\n",
        "def myfunc(counter):\n",
        "  for i in range(counter):\n",
        "    j = i ** 3\n",
        "    print(f'Power of 2: {j}')\n",
        "\n",
        "\n",
        "myfunc(15)"
      ],
      "execution_count": 4,
      "outputs": [
        {
          "output_type": "stream",
          "text": [
            "Power of 2: 0\n",
            "Power of 2: 1\n",
            "Power of 2: 8\n",
            "Power of 2: 27\n",
            "Power of 2: 64\n",
            "Power of 2: 125\n",
            "Power of 2: 216\n",
            "Power of 2: 343\n",
            "Power of 2: 512\n",
            "Power of 2: 729\n",
            "Power of 2: 1000\n",
            "Power of 2: 1331\n",
            "Power of 2: 1728\n",
            "Power of 2: 2197\n",
            "Power of 2: 2744\n"
          ],
          "name": "stdout"
        }
      ]
    }
  ]
}