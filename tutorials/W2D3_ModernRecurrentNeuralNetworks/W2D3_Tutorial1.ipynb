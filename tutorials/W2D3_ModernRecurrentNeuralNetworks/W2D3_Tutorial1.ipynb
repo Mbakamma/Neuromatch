{
  "nbformat": 4,
  "nbformat_minor": 0,
  "metadata": {
    "colab": {
      "name": " W2D3_Tutorial1.ipynb",
      "provenance": [],
      "collapsed_sections": [
        "fP0QFihrsrGS",
        "kuoVYFKBtvU6",
        "-WkoBS0LuAK9",
        "7ECoxlc0uY0Y",
        "30R9lGTapUt3",
        "OsNBxEe5zYCz",
        "oI0xy9E8zYC3",
        "EYUqaNE8zYC5",
        "g4p1DgypCXjO",
        "o72iuoypppbq",
        "c92VC8DYvPY1",
        "UjAyx16xvccJ"
      ],
      "toc_visible": true,
      "machine_shape": "hm",
      "include_colab_link": true
    },
    "kernelspec": {
      "display_name": "Python 3",
      "name": "python3"
    },
    "language_info": {
      "name": "python"
    }
  },
  "cells": [
    {
      "cell_type": "markdown",
      "metadata": {
        "id": "view-in-github",
        "colab_type": "text"
      },
      "source": [
        "<a href=\"https://colab.research.google.com/github/NeuromatchAcademy/course-content-dl/blob/w2d3_t1_initial/tutorials/W2D3_ModernRecurrentNeuralNetworks/W2D3_Tutorial1.ipynb\" target=\"_parent\"><img src=\"https://colab.research.google.com/assets/colab-badge.svg\" alt=\"Open In Colab\"/></a>"
      ]
    },
    {
      "cell_type": "markdown",
      "metadata": {
        "id": "z_FNWVNHwEUc"
      },
      "source": [
        "# Neuromatch Academy: Week 2, Day 3, Tutorial 1\n",
        "# Modern RNNs\n",
        "\n",
        "__Content creators:__ James Evans, Bhargav Srinivasa Desikan, Anis Zahedifard\n",
        "\n",
        "__Content reviewers:__ XXXXX, XXXXXX\n",
        "\n",
        "__Content editors:__ XXXXX\n",
        "\n",
        "__Production editors:__ Roberto Guidotti, Spiros Chavlis, XXXXXX\n",
        "\n",
        "\n"
      ]
    },
    {
      "cell_type": "code",
      "metadata": {
        "id": "u4B9IKfvZ6yn"
      },
      "source": [
        "# This is a place holder notebook. DO NOT USE."
      ],
      "execution_count": 1,
      "outputs": []
    }
  ]
}