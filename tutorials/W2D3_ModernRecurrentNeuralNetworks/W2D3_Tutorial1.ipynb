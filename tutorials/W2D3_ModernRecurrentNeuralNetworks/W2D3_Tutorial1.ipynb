{
  "nbformat": 4,
  "nbformat_minor": 0,
  "metadata": {
    "accelerator": "GPU",
    "colab": {
      "name": "W2D3_Tutorial1",
      "provenance": [],
      "collapsed_sections": [],
      "toc_visible": true,
      "machine_shape": "hm",
      "include_colab_link": true
    },
    "kernel": {
      "display_name": "Python 3",
      "language": "python",
      "name": "python3"
    },
    "kernelspec": {
      "display_name": "Python 3",
      "name": "python3"
    },
    "language_info": {
      "name": "python"
    },
    "widgets": {
      "application/vnd.jupyter.widget-state+json": {
        "45cb8ac972bd4a30bbb83a9516616f0a": {
          "model_module": "@jupyter-widgets/controls",
          "model_name": "TabModel",
          "state": {
            "_view_name": "TabView",
            "_dom_classes": [],
            "_titles": {
              "0": "Youtube",
              "1": "Bilibili"
            },
            "_model_name": "TabModel",
            "_view_module": "@jupyter-widgets/controls",
            "selected_index": 0,
            "_model_module_version": "1.5.0",
            "_view_count": null,
            "_view_module_version": "1.5.0",
            "box_style": "",
            "layout": "IPY_MODEL_ded4847a6f40417996a60703fd2c7851",
            "_model_module": "@jupyter-widgets/controls",
            "children": [
              "IPY_MODEL_afe40ab232604607b0e8bfe030045326",
              "IPY_MODEL_8d1f07e1357e4628b7f45d1eaf103bf6"
            ]
          }
        },
        "ded4847a6f40417996a60703fd2c7851": {
          "model_module": "@jupyter-widgets/base",
          "model_name": "LayoutModel",
          "state": {
            "_view_name": "LayoutView",
            "grid_template_rows": null,
            "right": null,
            "justify_content": null,
            "_view_module": "@jupyter-widgets/base",
            "overflow": null,
            "_model_module_version": "1.2.0",
            "_view_count": null,
            "flex_flow": null,
            "width": null,
            "min_width": null,
            "border": null,
            "align_items": null,
            "bottom": null,
            "_model_module": "@jupyter-widgets/base",
            "top": null,
            "grid_column": null,
            "overflow_y": null,
            "overflow_x": null,
            "grid_auto_flow": null,
            "grid_area": null,
            "grid_template_columns": null,
            "flex": null,
            "_model_name": "LayoutModel",
            "justify_items": null,
            "grid_row": null,
            "max_height": null,
            "align_content": null,
            "visibility": null,
            "align_self": null,
            "height": null,
            "min_height": null,
            "padding": null,
            "grid_auto_rows": null,
            "grid_gap": null,
            "max_width": null,
            "order": null,
            "_view_module_version": "1.2.0",
            "grid_template_areas": null,
            "object_position": null,
            "object_fit": null,
            "grid_auto_columns": null,
            "margin": null,
            "display": null,
            "left": null
          }
        },
        "afe40ab232604607b0e8bfe030045326": {
          "model_module": "@jupyter-widgets/output",
          "model_name": "OutputModel",
          "state": {
            "_view_name": "OutputView",
            "msg_id": "",
            "_dom_classes": [],
            "_model_name": "OutputModel",
            "outputs": [
              {
                "output_type": "stream",
                "metadata": {
                  "tags": []
                },
                "text": "Video available at https://youtube.com/watch?v=ApkE7UFaJAQ\n",
                "stream": "stdout"
              },
              {
                "output_type": "display_data",
                "metadata": {
                  "tags": []
                },
                "text/html": "\n        <iframe\n            width=\"854\"\n            height=\"480\"\n            src=\"https://www.youtube.com/embed/ApkE7UFaJAQ?fs=1&rel=0\"\n            frameborder=\"0\"\n            allowfullscreen\n        ></iframe>\n        ",
                "text/plain": "<IPython.lib.display.YouTubeVideo at 0x7f0470bcf450>",
                "image/jpeg": "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\n"
              }
            ],
            "_view_module": "@jupyter-widgets/output",
            "_model_module_version": "1.0.0",
            "_view_count": null,
            "_view_module_version": "1.0.0",
            "layout": "IPY_MODEL_5ac18be33fb94927b05e3a719c2b19e9",
            "_model_module": "@jupyter-widgets/output"
          }
        },
        "8d1f07e1357e4628b7f45d1eaf103bf6": {
          "model_module": "@jupyter-widgets/output",
          "model_name": "OutputModel",
          "state": {
            "_view_name": "OutputView",
            "msg_id": "",
            "_dom_classes": [],
            "_model_name": "OutputModel",
            "outputs": [
              {
                "output_type": "stream",
                "metadata": {
                  "tags": []
                },
                "text": "Video available at https://www.bilibili.com/video/BV1jg411774B\n",
                "stream": "stdout"
              },
              {
                "output_type": "display_data",
                "metadata": {
                  "tags": []
                },
                "text/html": "\n        <iframe\n            width=\"854\"\n            height=\"480\"\n            src=\"https://player.bilibili.com/player.html?bvid=BV1jg411774B&page=1?fs=1\"\n            frameborder=\"0\"\n            allowfullscreen\n        ></iframe>\n        ",
                "text/plain": "<__main__.BiliVideo at 0x7f04704635d0>"
              }
            ],
            "_view_module": "@jupyter-widgets/output",
            "_model_module_version": "1.0.0",
            "_view_count": null,
            "_view_module_version": "1.0.0",
            "layout": "IPY_MODEL_80885572162448f2864ab5b99cd30e7b",
            "_model_module": "@jupyter-widgets/output"
          }
        },
        "5ac18be33fb94927b05e3a719c2b19e9": {
          "model_module": "@jupyter-widgets/base",
          "model_name": "LayoutModel",
          "state": {
            "_view_name": "LayoutView",
            "grid_template_rows": null,
            "right": null,
            "justify_content": null,
            "_view_module": "@jupyter-widgets/base",
            "overflow": null,
            "_model_module_version": "1.2.0",
            "_view_count": null,
            "flex_flow": null,
            "width": null,
            "min_width": null,
            "border": null,
            "align_items": null,
            "bottom": null,
            "_model_module": "@jupyter-widgets/base",
            "top": null,
            "grid_column": null,
            "overflow_y": null,
            "overflow_x": null,
            "grid_auto_flow": null,
            "grid_area": null,
            "grid_template_columns": null,
            "flex": null,
            "_model_name": "LayoutModel",
            "justify_items": null,
            "grid_row": null,
            "max_height": null,
            "align_content": null,
            "visibility": null,
            "align_self": null,
            "height": null,
            "min_height": null,
            "padding": null,
            "grid_auto_rows": null,
            "grid_gap": null,
            "max_width": null,
            "order": null,
            "_view_module_version": "1.2.0",
            "grid_template_areas": null,
            "object_position": null,
            "object_fit": null,
            "grid_auto_columns": null,
            "margin": null,
            "display": null,
            "left": null
          }
        },
        "80885572162448f2864ab5b99cd30e7b": {
          "model_module": "@jupyter-widgets/base",
          "model_name": "LayoutModel",
          "state": {
            "_view_name": "LayoutView",
            "grid_template_rows": null,
            "right": null,
            "justify_content": null,
            "_view_module": "@jupyter-widgets/base",
            "overflow": null,
            "_model_module_version": "1.2.0",
            "_view_count": null,
            "flex_flow": null,
            "width": null,
            "min_width": null,
            "border": null,
            "align_items": null,
            "bottom": null,
            "_model_module": "@jupyter-widgets/base",
            "top": null,
            "grid_column": null,
            "overflow_y": null,
            "overflow_x": null,
            "grid_auto_flow": null,
            "grid_area": null,
            "grid_template_columns": null,
            "flex": null,
            "_model_name": "LayoutModel",
            "justify_items": null,
            "grid_row": null,
            "max_height": null,
            "align_content": null,
            "visibility": null,
            "align_self": null,
            "height": null,
            "min_height": null,
            "padding": null,
            "grid_auto_rows": null,
            "grid_gap": null,
            "max_width": null,
            "order": null,
            "_view_module_version": "1.2.0",
            "grid_template_areas": null,
            "object_position": null,
            "object_fit": null,
            "grid_auto_columns": null,
            "margin": null,
            "display": null,
            "left": null
          }
        },
        "638c899c9d594b859fd1edccf7ccdef2": {
          "model_module": "@jupyter-widgets/controls",
          "model_name": "HBoxModel",
          "state": {
            "_view_name": "HBoxView",
            "_dom_classes": [],
            "_model_name": "HBoxModel",
            "_view_module": "@jupyter-widgets/controls",
            "_model_module_version": "1.5.0",
            "_view_count": null,
            "_view_module_version": "1.5.0",
            "box_style": "",
            "layout": "IPY_MODEL_ccadfb47a7e34d63b962ad99150e1955",
            "_model_module": "@jupyter-widgets/controls",
            "children": [
              "IPY_MODEL_29c9d6c0b2394b39b8ff6e25c2259ead",
              "IPY_MODEL_d050ad5b9da14286995190b3d0c092d4"
            ]
          }
        },
        "ccadfb47a7e34d63b962ad99150e1955": {
          "model_module": "@jupyter-widgets/base",
          "model_name": "LayoutModel",
          "state": {
            "_view_name": "LayoutView",
            "grid_template_rows": null,
            "right": null,
            "justify_content": null,
            "_view_module": "@jupyter-widgets/base",
            "overflow": null,
            "_model_module_version": "1.2.0",
            "_view_count": null,
            "flex_flow": null,
            "width": null,
            "min_width": null,
            "border": null,
            "align_items": null,
            "bottom": null,
            "_model_module": "@jupyter-widgets/base",
            "top": null,
            "grid_column": null,
            "overflow_y": null,
            "overflow_x": null,
            "grid_auto_flow": null,
            "grid_area": null,
            "grid_template_columns": null,
            "flex": null,
            "_model_name": "LayoutModel",
            "justify_items": null,
            "grid_row": null,
            "max_height": null,
            "align_content": null,
            "visibility": null,
            "align_self": null,
            "height": null,
            "min_height": null,
            "padding": null,
            "grid_auto_rows": null,
            "grid_gap": null,
            "max_width": null,
            "order": null,
            "_view_module_version": "1.2.0",
            "grid_template_areas": null,
            "object_position": null,
            "object_fit": null,
            "grid_auto_columns": null,
            "margin": null,
            "display": null,
            "left": null
          }
        },
        "29c9d6c0b2394b39b8ff6e25c2259ead": {
          "model_module": "@jupyter-widgets/controls",
          "model_name": "FloatProgressModel",
          "state": {
            "_view_name": "ProgressView",
            "style": "IPY_MODEL_e28588748e924724b67e4b604a98ca66",
            "_dom_classes": [],
            "description": "",
            "_model_name": "FloatProgressModel",
            "bar_style": "success",
            "max": 1,
            "_view_module": "@jupyter-widgets/controls",
            "_model_module_version": "1.5.0",
            "value": 1,
            "_view_count": null,
            "_view_module_version": "1.5.0",
            "orientation": "horizontal",
            "min": 0,
            "description_tooltip": null,
            "_model_module": "@jupyter-widgets/controls",
            "layout": "IPY_MODEL_28aac34203fa468dacab7c9b7fbe3a8a"
          }
        },
        "d050ad5b9da14286995190b3d0c092d4": {
          "model_module": "@jupyter-widgets/controls",
          "model_name": "HTMLModel",
          "state": {
            "_view_name": "HTMLView",
            "style": "IPY_MODEL_2b8c3a4c1c2c44eb8a60dd9aa12225eb",
            "_dom_classes": [],
            "description": "",
            "_model_name": "HTMLModel",
            "placeholder": "​",
            "_view_module": "@jupyter-widgets/controls",
            "_model_module_version": "1.5.0",
            "value": " 335760/? [00:53&lt;00:00, 6333.96it/s]",
            "_view_count": null,
            "_view_module_version": "1.5.0",
            "description_tooltip": null,
            "_model_module": "@jupyter-widgets/controls",
            "layout": "IPY_MODEL_d7648d14b129436faae88356f029f798"
          }
        },
        "e28588748e924724b67e4b604a98ca66": {
          "model_module": "@jupyter-widgets/controls",
          "model_name": "ProgressStyleModel",
          "state": {
            "_view_name": "StyleView",
            "_model_name": "ProgressStyleModel",
            "description_width": "initial",
            "_view_module": "@jupyter-widgets/base",
            "_model_module_version": "1.5.0",
            "_view_count": null,
            "_view_module_version": "1.2.0",
            "bar_color": null,
            "_model_module": "@jupyter-widgets/controls"
          }
        },
        "28aac34203fa468dacab7c9b7fbe3a8a": {
          "model_module": "@jupyter-widgets/base",
          "model_name": "LayoutModel",
          "state": {
            "_view_name": "LayoutView",
            "grid_template_rows": null,
            "right": null,
            "justify_content": null,
            "_view_module": "@jupyter-widgets/base",
            "overflow": null,
            "_model_module_version": "1.2.0",
            "_view_count": null,
            "flex_flow": null,
            "width": null,
            "min_width": null,
            "border": null,
            "align_items": null,
            "bottom": null,
            "_model_module": "@jupyter-widgets/base",
            "top": null,
            "grid_column": null,
            "overflow_y": null,
            "overflow_x": null,
            "grid_auto_flow": null,
            "grid_area": null,
            "grid_template_columns": null,
            "flex": null,
            "_model_name": "LayoutModel",
            "justify_items": null,
            "grid_row": null,
            "max_height": null,
            "align_content": null,
            "visibility": null,
            "align_self": null,
            "height": null,
            "min_height": null,
            "padding": null,
            "grid_auto_rows": null,
            "grid_gap": null,
            "max_width": null,
            "order": null,
            "_view_module_version": "1.2.0",
            "grid_template_areas": null,
            "object_position": null,
            "object_fit": null,
            "grid_auto_columns": null,
            "margin": null,
            "display": null,
            "left": null
          }
        },
        "2b8c3a4c1c2c44eb8a60dd9aa12225eb": {
          "model_module": "@jupyter-widgets/controls",
          "model_name": "DescriptionStyleModel",
          "state": {
            "_view_name": "StyleView",
            "_model_name": "DescriptionStyleModel",
            "description_width": "",
            "_view_module": "@jupyter-widgets/base",
            "_model_module_version": "1.5.0",
            "_view_count": null,
            "_view_module_version": "1.2.0",
            "_model_module": "@jupyter-widgets/controls"
          }
        },
        "d7648d14b129436faae88356f029f798": {
          "model_module": "@jupyter-widgets/base",
          "model_name": "LayoutModel",
          "state": {
            "_view_name": "LayoutView",
            "grid_template_rows": null,
            "right": null,
            "justify_content": null,
            "_view_module": "@jupyter-widgets/base",
            "overflow": null,
            "_model_module_version": "1.2.0",
            "_view_count": null,
            "flex_flow": null,
            "width": null,
            "min_width": null,
            "border": null,
            "align_items": null,
            "bottom": null,
            "_model_module": "@jupyter-widgets/base",
            "top": null,
            "grid_column": null,
            "overflow_y": null,
            "overflow_x": null,
            "grid_auto_flow": null,
            "grid_area": null,
            "grid_template_columns": null,
            "flex": null,
            "_model_name": "LayoutModel",
            "justify_items": null,
            "grid_row": null,
            "max_height": null,
            "align_content": null,
            "visibility": null,
            "align_self": null,
            "height": null,
            "min_height": null,
            "padding": null,
            "grid_auto_rows": null,
            "grid_gap": null,
            "max_width": null,
            "order": null,
            "_view_module_version": "1.2.0",
            "grid_template_areas": null,
            "object_position": null,
            "object_fit": null,
            "grid_auto_columns": null,
            "margin": null,
            "display": null,
            "left": null
          }
        },
        "84f7cd32e83141b88ee1a93bdce8cfb5": {
          "model_module": "@jupyter-widgets/controls",
          "model_name": "HBoxModel",
          "state": {
            "_view_name": "HBoxView",
            "_dom_classes": [],
            "_model_name": "HBoxModel",
            "_view_module": "@jupyter-widgets/controls",
            "_model_module_version": "1.5.0",
            "_view_count": null,
            "_view_module_version": "1.5.0",
            "box_style": "",
            "layout": "IPY_MODEL_85856481922749fb9a855f0b1495c753",
            "_model_module": "@jupyter-widgets/controls",
            "children": [
              "IPY_MODEL_1683c4a5d4b24bb4a6cc37157c0d271a",
              "IPY_MODEL_514082143390402e8f01c63193c480cb"
            ]
          }
        },
        "85856481922749fb9a855f0b1495c753": {
          "model_module": "@jupyter-widgets/base",
          "model_name": "LayoutModel",
          "state": {
            "_view_name": "LayoutView",
            "grid_template_rows": null,
            "right": null,
            "justify_content": null,
            "_view_module": "@jupyter-widgets/base",
            "overflow": null,
            "_model_module_version": "1.2.0",
            "_view_count": null,
            "flex_flow": null,
            "width": null,
            "min_width": null,
            "border": null,
            "align_items": null,
            "bottom": null,
            "_model_module": "@jupyter-widgets/base",
            "top": null,
            "grid_column": null,
            "overflow_y": null,
            "overflow_x": null,
            "grid_auto_flow": null,
            "grid_area": null,
            "grid_template_columns": null,
            "flex": null,
            "_model_name": "LayoutModel",
            "justify_items": null,
            "grid_row": null,
            "max_height": null,
            "align_content": null,
            "visibility": null,
            "align_self": null,
            "height": null,
            "min_height": null,
            "padding": null,
            "grid_auto_rows": null,
            "grid_gap": null,
            "max_width": null,
            "order": null,
            "_view_module_version": "1.2.0",
            "grid_template_areas": null,
            "object_position": null,
            "object_fit": null,
            "grid_auto_columns": null,
            "margin": null,
            "display": null,
            "left": null
          }
        },
        "1683c4a5d4b24bb4a6cc37157c0d271a": {
          "model_module": "@jupyter-widgets/controls",
          "model_name": "FloatProgressModel",
          "state": {
            "_view_name": "ProgressView",
            "style": "IPY_MODEL_cfe617797f634d5a811176925939408d",
            "_dom_classes": [],
            "description": "",
            "_model_name": "FloatProgressModel",
            "bar_style": "success",
            "max": 1,
            "_view_module": "@jupyter-widgets/controls",
            "_model_module_version": "1.5.0",
            "value": 1,
            "_view_count": null,
            "_view_module_version": "1.5.0",
            "orientation": "horizontal",
            "min": 0,
            "description_tooltip": null,
            "_model_module": "@jupyter-widgets/controls",
            "layout": "IPY_MODEL_b5e145469ef248a18a7f0b01ceb1144b"
          }
        },
        "514082143390402e8f01c63193c480cb": {
          "model_module": "@jupyter-widgets/controls",
          "model_name": "HTMLModel",
          "state": {
            "_view_name": "HTMLView",
            "style": "IPY_MODEL_077967ef43ca4bed87176684b772bab7",
            "_dom_classes": [],
            "description": "",
            "_model_name": "HTMLModel",
            "placeholder": "​",
            "_view_module": "@jupyter-widgets/controls",
            "_model_module_version": "1.5.0",
            "value": " 285380/? [00:44&lt;00:00, 6472.05it/s]",
            "_view_count": null,
            "_view_module_version": "1.5.0",
            "description_tooltip": null,
            "_model_module": "@jupyter-widgets/controls",
            "layout": "IPY_MODEL_c6c613f1f9ba417b965e1e69e4b783f0"
          }
        },
        "cfe617797f634d5a811176925939408d": {
          "model_module": "@jupyter-widgets/controls",
          "model_name": "ProgressStyleModel",
          "state": {
            "_view_name": "StyleView",
            "_model_name": "ProgressStyleModel",
            "description_width": "initial",
            "_view_module": "@jupyter-widgets/base",
            "_model_module_version": "1.5.0",
            "_view_count": null,
            "_view_module_version": "1.2.0",
            "bar_color": null,
            "_model_module": "@jupyter-widgets/controls"
          }
        },
        "b5e145469ef248a18a7f0b01ceb1144b": {
          "model_module": "@jupyter-widgets/base",
          "model_name": "LayoutModel",
          "state": {
            "_view_name": "LayoutView",
            "grid_template_rows": null,
            "right": null,
            "justify_content": null,
            "_view_module": "@jupyter-widgets/base",
            "overflow": null,
            "_model_module_version": "1.2.0",
            "_view_count": null,
            "flex_flow": null,
            "width": null,
            "min_width": null,
            "border": null,
            "align_items": null,
            "bottom": null,
            "_model_module": "@jupyter-widgets/base",
            "top": null,
            "grid_column": null,
            "overflow_y": null,
            "overflow_x": null,
            "grid_auto_flow": null,
            "grid_area": null,
            "grid_template_columns": null,
            "flex": null,
            "_model_name": "LayoutModel",
            "justify_items": null,
            "grid_row": null,
            "max_height": null,
            "align_content": null,
            "visibility": null,
            "align_self": null,
            "height": null,
            "min_height": null,
            "padding": null,
            "grid_auto_rows": null,
            "grid_gap": null,
            "max_width": null,
            "order": null,
            "_view_module_version": "1.2.0",
            "grid_template_areas": null,
            "object_position": null,
            "object_fit": null,
            "grid_auto_columns": null,
            "margin": null,
            "display": null,
            "left": null
          }
        },
        "077967ef43ca4bed87176684b772bab7": {
          "model_module": "@jupyter-widgets/controls",
          "model_name": "DescriptionStyleModel",
          "state": {
            "_view_name": "StyleView",
            "_model_name": "DescriptionStyleModel",
            "description_width": "",
            "_view_module": "@jupyter-widgets/base",
            "_model_module_version": "1.5.0",
            "_view_count": null,
            "_view_module_version": "1.2.0",
            "_model_module": "@jupyter-widgets/controls"
          }
        },
        "c6c613f1f9ba417b965e1e69e4b783f0": {
          "model_module": "@jupyter-widgets/base",
          "model_name": "LayoutModel",
          "state": {
            "_view_name": "LayoutView",
            "grid_template_rows": null,
            "right": null,
            "justify_content": null,
            "_view_module": "@jupyter-widgets/base",
            "overflow": null,
            "_model_module_version": "1.2.0",
            "_view_count": null,
            "flex_flow": null,
            "width": null,
            "min_width": null,
            "border": null,
            "align_items": null,
            "bottom": null,
            "_model_module": "@jupyter-widgets/base",
            "top": null,
            "grid_column": null,
            "overflow_y": null,
            "overflow_x": null,
            "grid_auto_flow": null,
            "grid_area": null,
            "grid_template_columns": null,
            "flex": null,
            "_model_name": "LayoutModel",
            "justify_items": null,
            "grid_row": null,
            "max_height": null,
            "align_content": null,
            "visibility": null,
            "align_self": null,
            "height": null,
            "min_height": null,
            "padding": null,
            "grid_auto_rows": null,
            "grid_gap": null,
            "max_width": null,
            "order": null,
            "_view_module_version": "1.2.0",
            "grid_template_areas": null,
            "object_position": null,
            "object_fit": null,
            "grid_auto_columns": null,
            "margin": null,
            "display": null,
            "left": null
          }
        },
        "0cc851d9f2d346a5acfb3863a0dbd259": {
          "model_module": "@jupyter-widgets/controls",
          "model_name": "HBoxModel",
          "state": {
            "_view_name": "HBoxView",
            "_dom_classes": [],
            "_model_name": "HBoxModel",
            "_view_module": "@jupyter-widgets/controls",
            "_model_module_version": "1.5.0",
            "_view_count": null,
            "_view_module_version": "1.5.0",
            "box_style": "",
            "layout": "IPY_MODEL_701f6e63754947d8b61d1fcf49cd881e",
            "_model_module": "@jupyter-widgets/controls",
            "children": [
              "IPY_MODEL_a4919b833db046b6a9f25295e85391c6",
              "IPY_MODEL_e465a5748aa24f5894d0a73fc11d036b"
            ]
          }
        },
        "701f6e63754947d8b61d1fcf49cd881e": {
          "model_module": "@jupyter-widgets/base",
          "model_name": "LayoutModel",
          "state": {
            "_view_name": "LayoutView",
            "grid_template_rows": null,
            "right": null,
            "justify_content": null,
            "_view_module": "@jupyter-widgets/base",
            "overflow": null,
            "_model_module_version": "1.2.0",
            "_view_count": null,
            "flex_flow": null,
            "width": null,
            "min_width": null,
            "border": null,
            "align_items": null,
            "bottom": null,
            "_model_module": "@jupyter-widgets/base",
            "top": null,
            "grid_column": null,
            "overflow_y": null,
            "overflow_x": null,
            "grid_auto_flow": null,
            "grid_area": null,
            "grid_template_columns": null,
            "flex": null,
            "_model_name": "LayoutModel",
            "justify_items": null,
            "grid_row": null,
            "max_height": null,
            "align_content": null,
            "visibility": null,
            "align_self": null,
            "height": null,
            "min_height": null,
            "padding": null,
            "grid_auto_rows": null,
            "grid_gap": null,
            "max_width": null,
            "order": null,
            "_view_module_version": "1.2.0",
            "grid_template_areas": null,
            "object_position": null,
            "object_fit": null,
            "grid_auto_columns": null,
            "margin": null,
            "display": null,
            "left": null
          }
        },
        "a4919b833db046b6a9f25295e85391c6": {
          "model_module": "@jupyter-widgets/controls",
          "model_name": "FloatProgressModel",
          "state": {
            "_view_name": "ProgressView",
            "style": "IPY_MODEL_39d83952e41040e19e03782f82f3a095",
            "_dom_classes": [],
            "description": "",
            "_model_name": "FloatProgressModel",
            "bar_style": "success",
            "max": 1,
            "_view_module": "@jupyter-widgets/controls",
            "_model_module_version": "1.5.0",
            "value": 1,
            "_view_count": null,
            "_view_module_version": "1.5.0",
            "orientation": "horizontal",
            "min": 0,
            "description_tooltip": null,
            "_model_module": "@jupyter-widgets/controls",
            "layout": "IPY_MODEL_ccf4125be9494bdf9e19c8edc2ec1836"
          }
        },
        "e465a5748aa24f5894d0a73fc11d036b": {
          "model_module": "@jupyter-widgets/controls",
          "model_name": "HTMLModel",
          "state": {
            "_view_name": "HTMLView",
            "style": "IPY_MODEL_010f3464324644299c07aad4b6bf0f1d",
            "_dom_classes": [],
            "description": "",
            "_model_name": "HTMLModel",
            "placeholder": "​",
            "_view_module": "@jupyter-widgets/controls",
            "_model_module_version": "1.5.0",
            "value": " 335760/? [00:36&lt;00:00, 9145.15it/s]",
            "_view_count": null,
            "_view_module_version": "1.5.0",
            "description_tooltip": null,
            "_model_module": "@jupyter-widgets/controls",
            "layout": "IPY_MODEL_1bd3ec4f298d4663b92977c09eebf8fe"
          }
        },
        "39d83952e41040e19e03782f82f3a095": {
          "model_module": "@jupyter-widgets/controls",
          "model_name": "ProgressStyleModel",
          "state": {
            "_view_name": "StyleView",
            "_model_name": "ProgressStyleModel",
            "description_width": "initial",
            "_view_module": "@jupyter-widgets/base",
            "_model_module_version": "1.5.0",
            "_view_count": null,
            "_view_module_version": "1.2.0",
            "bar_color": null,
            "_model_module": "@jupyter-widgets/controls"
          }
        },
        "ccf4125be9494bdf9e19c8edc2ec1836": {
          "model_module": "@jupyter-widgets/base",
          "model_name": "LayoutModel",
          "state": {
            "_view_name": "LayoutView",
            "grid_template_rows": null,
            "right": null,
            "justify_content": null,
            "_view_module": "@jupyter-widgets/base",
            "overflow": null,
            "_model_module_version": "1.2.0",
            "_view_count": null,
            "flex_flow": null,
            "width": null,
            "min_width": null,
            "border": null,
            "align_items": null,
            "bottom": null,
            "_model_module": "@jupyter-widgets/base",
            "top": null,
            "grid_column": null,
            "overflow_y": null,
            "overflow_x": null,
            "grid_auto_flow": null,
            "grid_area": null,
            "grid_template_columns": null,
            "flex": null,
            "_model_name": "LayoutModel",
            "justify_items": null,
            "grid_row": null,
            "max_height": null,
            "align_content": null,
            "visibility": null,
            "align_self": null,
            "height": null,
            "min_height": null,
            "padding": null,
            "grid_auto_rows": null,
            "grid_gap": null,
            "max_width": null,
            "order": null,
            "_view_module_version": "1.2.0",
            "grid_template_areas": null,
            "object_position": null,
            "object_fit": null,
            "grid_auto_columns": null,
            "margin": null,
            "display": null,
            "left": null
          }
        },
        "010f3464324644299c07aad4b6bf0f1d": {
          "model_module": "@jupyter-widgets/controls",
          "model_name": "DescriptionStyleModel",
          "state": {
            "_view_name": "StyleView",
            "_model_name": "DescriptionStyleModel",
            "description_width": "",
            "_view_module": "@jupyter-widgets/base",
            "_model_module_version": "1.5.0",
            "_view_count": null,
            "_view_module_version": "1.2.0",
            "_model_module": "@jupyter-widgets/controls"
          }
        },
        "1bd3ec4f298d4663b92977c09eebf8fe": {
          "model_module": "@jupyter-widgets/base",
          "model_name": "LayoutModel",
          "state": {
            "_view_name": "LayoutView",
            "grid_template_rows": null,
            "right": null,
            "justify_content": null,
            "_view_module": "@jupyter-widgets/base",
            "overflow": null,
            "_model_module_version": "1.2.0",
            "_view_count": null,
            "flex_flow": null,
            "width": null,
            "min_width": null,
            "border": null,
            "align_items": null,
            "bottom": null,
            "_model_module": "@jupyter-widgets/base",
            "top": null,
            "grid_column": null,
            "overflow_y": null,
            "overflow_x": null,
            "grid_auto_flow": null,
            "grid_area": null,
            "grid_template_columns": null,
            "flex": null,
            "_model_name": "LayoutModel",
            "justify_items": null,
            "grid_row": null,
            "max_height": null,
            "align_content": null,
            "visibility": null,
            "align_self": null,
            "height": null,
            "min_height": null,
            "padding": null,
            "grid_auto_rows": null,
            "grid_gap": null,
            "max_width": null,
            "order": null,
            "_view_module_version": "1.2.0",
            "grid_template_areas": null,
            "object_position": null,
            "object_fit": null,
            "grid_auto_columns": null,
            "margin": null,
            "display": null,
            "left": null
          }
        },
        "5976a1f74727427796cfa5ad3a904199": {
          "model_module": "@jupyter-widgets/controls",
          "model_name": "TabModel",
          "state": {
            "_view_name": "TabView",
            "_dom_classes": [],
            "_titles": {
              "0": "Youtube",
              "1": "Bilibili"
            },
            "_model_name": "TabModel",
            "_view_module": "@jupyter-widgets/controls",
            "selected_index": 0,
            "_model_module_version": "1.5.0",
            "_view_count": null,
            "_view_module_version": "1.5.0",
            "box_style": "",
            "layout": "IPY_MODEL_436c12f4fe0b4235baf69bc986fe63cc",
            "_model_module": "@jupyter-widgets/controls",
            "children": [
              "IPY_MODEL_4221d075197842c3aed118df5a90d9fe",
              "IPY_MODEL_c31c06df195b4a05a5f35702f9fd7ac1"
            ]
          }
        },
        "436c12f4fe0b4235baf69bc986fe63cc": {
          "model_module": "@jupyter-widgets/base",
          "model_name": "LayoutModel",
          "state": {
            "_view_name": "LayoutView",
            "grid_template_rows": null,
            "right": null,
            "justify_content": null,
            "_view_module": "@jupyter-widgets/base",
            "overflow": null,
            "_model_module_version": "1.2.0",
            "_view_count": null,
            "flex_flow": null,
            "width": null,
            "min_width": null,
            "border": null,
            "align_items": null,
            "bottom": null,
            "_model_module": "@jupyter-widgets/base",
            "top": null,
            "grid_column": null,
            "overflow_y": null,
            "overflow_x": null,
            "grid_auto_flow": null,
            "grid_area": null,
            "grid_template_columns": null,
            "flex": null,
            "_model_name": "LayoutModel",
            "justify_items": null,
            "grid_row": null,
            "max_height": null,
            "align_content": null,
            "visibility": null,
            "align_self": null,
            "height": null,
            "min_height": null,
            "padding": null,
            "grid_auto_rows": null,
            "grid_gap": null,
            "max_width": null,
            "order": null,
            "_view_module_version": "1.2.0",
            "grid_template_areas": null,
            "object_position": null,
            "object_fit": null,
            "grid_auto_columns": null,
            "margin": null,
            "display": null,
            "left": null
          }
        },
        "4221d075197842c3aed118df5a90d9fe": {
          "model_module": "@jupyter-widgets/output",
          "model_name": "OutputModel",
          "state": {
            "_view_name": "OutputView",
            "msg_id": "",
            "_dom_classes": [],
            "_model_name": "OutputModel",
            "outputs": [
              {
                "output_type": "stream",
                "metadata": {
                  "tags": []
                },
                "text": "Video available at https://youtube.com/watch?v=kweySXAZ1os\n",
                "stream": "stdout"
              },
              {
                "output_type": "display_data",
                "metadata": {
                  "tags": []
                },
                "text/html": "\n        <iframe\n            width=\"854\"\n            height=\"480\"\n            src=\"https://www.youtube.com/embed/kweySXAZ1os?fs=1&rel=0\"\n            frameborder=\"0\"\n            allowfullscreen\n        ></iframe>\n        ",
                "text/plain": "<IPython.lib.display.YouTubeVideo at 0x7f0460b14410>",
                "image/jpeg": "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\n"
              }
            ],
            "_view_module": "@jupyter-widgets/output",
            "_model_module_version": "1.0.0",
            "_view_count": null,
            "_view_module_version": "1.0.0",
            "layout": "IPY_MODEL_73ae63554a2e4b3db3fdaaadeed05188",
            "_model_module": "@jupyter-widgets/output"
          }
        },
        "c31c06df195b4a05a5f35702f9fd7ac1": {
          "model_module": "@jupyter-widgets/output",
          "model_name": "OutputModel",
          "state": {
            "_view_name": "OutputView",
            "msg_id": "",
            "_dom_classes": [],
            "_model_name": "OutputModel",
            "outputs": [
              {
                "output_type": "stream",
                "metadata": {
                  "tags": []
                },
                "text": "Video available at https://www.bilibili.com/video/BV1oM4y1P7Mn\n",
                "stream": "stdout"
              },
              {
                "output_type": "display_data",
                "metadata": {
                  "tags": []
                },
                "text/html": "\n        <iframe\n            width=\"854\"\n            height=\"480\"\n            src=\"https://player.bilibili.com/player.html?bvid=BV1oM4y1P7Mn&page=1?fs=1\"\n            frameborder=\"0\"\n            allowfullscreen\n        ></iframe>\n        ",
                "text/plain": "<__main__.BiliVideo at 0x7f0460b131d0>"
              }
            ],
            "_view_module": "@jupyter-widgets/output",
            "_model_module_version": "1.0.0",
            "_view_count": null,
            "_view_module_version": "1.0.0",
            "layout": "IPY_MODEL_171209b14882401fa4614e01e7d0c753",
            "_model_module": "@jupyter-widgets/output"
          }
        },
        "73ae63554a2e4b3db3fdaaadeed05188": {
          "model_module": "@jupyter-widgets/base",
          "model_name": "LayoutModel",
          "state": {
            "_view_name": "LayoutView",
            "grid_template_rows": null,
            "right": null,
            "justify_content": null,
            "_view_module": "@jupyter-widgets/base",
            "overflow": null,
            "_model_module_version": "1.2.0",
            "_view_count": null,
            "flex_flow": null,
            "width": null,
            "min_width": null,
            "border": null,
            "align_items": null,
            "bottom": null,
            "_model_module": "@jupyter-widgets/base",
            "top": null,
            "grid_column": null,
            "overflow_y": null,
            "overflow_x": null,
            "grid_auto_flow": null,
            "grid_area": null,
            "grid_template_columns": null,
            "flex": null,
            "_model_name": "LayoutModel",
            "justify_items": null,
            "grid_row": null,
            "max_height": null,
            "align_content": null,
            "visibility": null,
            "align_self": null,
            "height": null,
            "min_height": null,
            "padding": null,
            "grid_auto_rows": null,
            "grid_gap": null,
            "max_width": null,
            "order": null,
            "_view_module_version": "1.2.0",
            "grid_template_areas": null,
            "object_position": null,
            "object_fit": null,
            "grid_auto_columns": null,
            "margin": null,
            "display": null,
            "left": null
          }
        },
        "171209b14882401fa4614e01e7d0c753": {
          "model_module": "@jupyter-widgets/base",
          "model_name": "LayoutModel",
          "state": {
            "_view_name": "LayoutView",
            "grid_template_rows": null,
            "right": null,
            "justify_content": null,
            "_view_module": "@jupyter-widgets/base",
            "overflow": null,
            "_model_module_version": "1.2.0",
            "_view_count": null,
            "flex_flow": null,
            "width": null,
            "min_width": null,
            "border": null,
            "align_items": null,
            "bottom": null,
            "_model_module": "@jupyter-widgets/base",
            "top": null,
            "grid_column": null,
            "overflow_y": null,
            "overflow_x": null,
            "grid_auto_flow": null,
            "grid_area": null,
            "grid_template_columns": null,
            "flex": null,
            "_model_name": "LayoutModel",
            "justify_items": null,
            "grid_row": null,
            "max_height": null,
            "align_content": null,
            "visibility": null,
            "align_self": null,
            "height": null,
            "min_height": null,
            "padding": null,
            "grid_auto_rows": null,
            "grid_gap": null,
            "max_width": null,
            "order": null,
            "_view_module_version": "1.2.0",
            "grid_template_areas": null,
            "object_position": null,
            "object_fit": null,
            "grid_auto_columns": null,
            "margin": null,
            "display": null,
            "left": null
          }
        },
        "2eb8be6ab88a49b889db82b1690adfb2": {
          "model_module": "@jupyter-widgets/controls",
          "model_name": "TabModel",
          "state": {
            "_view_name": "TabView",
            "_dom_classes": [],
            "_titles": {
              "0": "Youtube",
              "1": "Bilibili"
            },
            "_model_name": "TabModel",
            "_view_module": "@jupyter-widgets/controls",
            "selected_index": 0,
            "_model_module_version": "1.5.0",
            "_view_count": null,
            "_view_module_version": "1.5.0",
            "box_style": "",
            "layout": "IPY_MODEL_a14e75898b754a46b6ab6930239c5878",
            "_model_module": "@jupyter-widgets/controls",
            "children": [
              "IPY_MODEL_4ef81e9031bd4fe98ba5852e7b5aa41a",
              "IPY_MODEL_3a823e11bb8e406a97427eb3a5e0b986"
            ]
          }
        },
        "a14e75898b754a46b6ab6930239c5878": {
          "model_module": "@jupyter-widgets/base",
          "model_name": "LayoutModel",
          "state": {
            "_view_name": "LayoutView",
            "grid_template_rows": null,
            "right": null,
            "justify_content": null,
            "_view_module": "@jupyter-widgets/base",
            "overflow": null,
            "_model_module_version": "1.2.0",
            "_view_count": null,
            "flex_flow": null,
            "width": null,
            "min_width": null,
            "border": null,
            "align_items": null,
            "bottom": null,
            "_model_module": "@jupyter-widgets/base",
            "top": null,
            "grid_column": null,
            "overflow_y": null,
            "overflow_x": null,
            "grid_auto_flow": null,
            "grid_area": null,
            "grid_template_columns": null,
            "flex": null,
            "_model_name": "LayoutModel",
            "justify_items": null,
            "grid_row": null,
            "max_height": null,
            "align_content": null,
            "visibility": null,
            "align_self": null,
            "height": null,
            "min_height": null,
            "padding": null,
            "grid_auto_rows": null,
            "grid_gap": null,
            "max_width": null,
            "order": null,
            "_view_module_version": "1.2.0",
            "grid_template_areas": null,
            "object_position": null,
            "object_fit": null,
            "grid_auto_columns": null,
            "margin": null,
            "display": null,
            "left": null
          }
        },
        "4ef81e9031bd4fe98ba5852e7b5aa41a": {
          "model_module": "@jupyter-widgets/output",
          "model_name": "OutputModel",
          "state": {
            "_view_name": "OutputView",
            "msg_id": "",
            "_dom_classes": [],
            "_model_name": "OutputModel",
            "outputs": [
              {
                "output_type": "stream",
                "metadata": {
                  "tags": []
                },
                "text": "Video available at https://youtube.com/watch?v=Y45KIAOw4OY\n",
                "stream": "stdout"
              },
              {
                "output_type": "display_data",
                "metadata": {
                  "tags": []
                },
                "text/html": "\n        <iframe\n            width=\"854\"\n            height=\"480\"\n            src=\"https://www.youtube.com/embed/Y45KIAOw4OY?fs=1&rel=0\"\n            frameborder=\"0\"\n            allowfullscreen\n        ></iframe>\n        ",
                "text/plain": "<IPython.lib.display.YouTubeVideo at 0x7f0470457910>",
                "image/jpeg": "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\n"
              }
            ],
            "_view_module": "@jupyter-widgets/output",
            "_model_module_version": "1.0.0",
            "_view_count": null,
            "_view_module_version": "1.0.0",
            "layout": "IPY_MODEL_16d41dfe976748498c3437bfe8d4cee4",
            "_model_module": "@jupyter-widgets/output"
          }
        },
        "3a823e11bb8e406a97427eb3a5e0b986": {
          "model_module": "@jupyter-widgets/output",
          "model_name": "OutputModel",
          "state": {
            "_view_name": "OutputView",
            "msg_id": "",
            "_dom_classes": [],
            "_model_name": "OutputModel",
            "outputs": [
              {
                "output_type": "stream",
                "metadata": {
                  "tags": []
                },
                "text": "Video available at https://www.bilibili.com/video/BV15w411R7SW\n",
                "stream": "stdout"
              },
              {
                "output_type": "display_data",
                "metadata": {
                  "tags": []
                },
                "text/html": "\n        <iframe\n            width=\"854\"\n            height=\"480\"\n            src=\"https://player.bilibili.com/player.html?bvid=BV15w411R7SW&page=1?fs=1\"\n            frameborder=\"0\"\n            allowfullscreen\n        ></iframe>\n        ",
                "text/plain": "<__main__.BiliVideo at 0x7f0460653a90>"
              }
            ],
            "_view_module": "@jupyter-widgets/output",
            "_model_module_version": "1.0.0",
            "_view_count": null,
            "_view_module_version": "1.0.0",
            "layout": "IPY_MODEL_7cc442822eb14cf1a1c7f69d0ea639dc",
            "_model_module": "@jupyter-widgets/output"
          }
        },
        "16d41dfe976748498c3437bfe8d4cee4": {
          "model_module": "@jupyter-widgets/base",
          "model_name": "LayoutModel",
          "state": {
            "_view_name": "LayoutView",
            "grid_template_rows": null,
            "right": null,
            "justify_content": null,
            "_view_module": "@jupyter-widgets/base",
            "overflow": null,
            "_model_module_version": "1.2.0",
            "_view_count": null,
            "flex_flow": null,
            "width": null,
            "min_width": null,
            "border": null,
            "align_items": null,
            "bottom": null,
            "_model_module": "@jupyter-widgets/base",
            "top": null,
            "grid_column": null,
            "overflow_y": null,
            "overflow_x": null,
            "grid_auto_flow": null,
            "grid_area": null,
            "grid_template_columns": null,
            "flex": null,
            "_model_name": "LayoutModel",
            "justify_items": null,
            "grid_row": null,
            "max_height": null,
            "align_content": null,
            "visibility": null,
            "align_self": null,
            "height": null,
            "min_height": null,
            "padding": null,
            "grid_auto_rows": null,
            "grid_gap": null,
            "max_width": null,
            "order": null,
            "_view_module_version": "1.2.0",
            "grid_template_areas": null,
            "object_position": null,
            "object_fit": null,
            "grid_auto_columns": null,
            "margin": null,
            "display": null,
            "left": null
          }
        },
        "7cc442822eb14cf1a1c7f69d0ea639dc": {
          "model_module": "@jupyter-widgets/base",
          "model_name": "LayoutModel",
          "state": {
            "_view_name": "LayoutView",
            "grid_template_rows": null,
            "right": null,
            "justify_content": null,
            "_view_module": "@jupyter-widgets/base",
            "overflow": null,
            "_model_module_version": "1.2.0",
            "_view_count": null,
            "flex_flow": null,
            "width": null,
            "min_width": null,
            "border": null,
            "align_items": null,
            "bottom": null,
            "_model_module": "@jupyter-widgets/base",
            "top": null,
            "grid_column": null,
            "overflow_y": null,
            "overflow_x": null,
            "grid_auto_flow": null,
            "grid_area": null,
            "grid_template_columns": null,
            "flex": null,
            "_model_name": "LayoutModel",
            "justify_items": null,
            "grid_row": null,
            "max_height": null,
            "align_content": null,
            "visibility": null,
            "align_self": null,
            "height": null,
            "min_height": null,
            "padding": null,
            "grid_auto_rows": null,
            "grid_gap": null,
            "max_width": null,
            "order": null,
            "_view_module_version": "1.2.0",
            "grid_template_areas": null,
            "object_position": null,
            "object_fit": null,
            "grid_auto_columns": null,
            "margin": null,
            "display": null,
            "left": null
          }
        }
      }
    }
  },
  "cells": [
    {
      "cell_type": "markdown",
      "metadata": {
        "id": "view-in-github",
        "colab_type": "text"
      },
      "source": [
        "<a href=\"https://colab.research.google.com/github/NeuromatchAcademy/course-content-dl/blob/tutorial_fixes/tutorials/W2D3_ModernRecurrentNeuralNetworks/W2D3_Tutorial1.ipynb\" target=\"_parent\"><img src=\"https://colab.research.google.com/assets/colab-badge.svg\" alt=\"Open In Colab\"/></a>"
      ]
    },
    {
      "cell_type": "markdown",
      "metadata": {
        "execution": {},
        "id": "Ash7CgxU1ylo"
      },
      "source": [
        "# Tutorial 1: Modeling sequencies and encoding text\n",
        "**Week 2, Day 3: Modern RNNs**\n",
        "\n",
        "**By Neuromatch Academy**\n",
        "\n",
        "__Content creators:__ Bhargav Srinivasa Desikan, Anis Zahedifard, James Evans\n",
        "\n",
        "__Content reviewers:__ Lily Cheng, Melvin Selim Atay, Ezekiel Williams\n",
        "\n",
        "__Content editors:__ Nina Kudryashova, Spiros Chavlis\n",
        "\n",
        "__Production editors:__ Roberto Guidotti, Spiros Chavlis\n"
      ]
    },
    {
      "cell_type": "markdown",
      "metadata": {
        "execution": {},
        "id": "o65EJOek1ylr"
      },
      "source": [
        "**Our 2021 Sponsors, including Presenting Sponsor Facebook Reality Labs**\n",
        "\n",
        "<p align='center'><img src='https://github.com/NeuromatchAcademy/widgets/blob/master/sponsors.png?raw=True'/></p>"
      ]
    },
    {
      "cell_type": "markdown",
      "metadata": {
        "execution": {},
        "id": "e85nI8Vi1ylr"
      },
      "source": [
        "----\n",
        "# Tutorial objectives\n",
        "\n",
        "Before we begin with exploring how RNNs excel at modelling sequences, we will explore some of the other ways we can model sequences, encode text, and make meaningful measurements using such encodings and embeddings. "
      ]
    },
    {
      "cell_type": "code",
      "metadata": {
        "cellView": "form",
        "execution": {},
        "id": "ygv9LmiZ1yls",
        "colab": {
          "base_uri": "https://localhost:8080/",
          "height": 500
        },
        "outputId": "5edaaca6-b6eb-4828-d24c-aa6c61a377d5"
      },
      "source": [
        "# @title Tutorial slides\n",
        "\n",
        "# @markdown These are the slides for the videos in this tutorial\n",
        "from IPython.display import IFrame\n",
        "IFrame(src=f\"https://mfr.ca-1.osf.io/render?url=https://osf.io/n263c/?direct%26mode=render%26action=download%26mode=render\", width=854, height=480)"
      ],
      "execution_count": 1,
      "outputs": [
        {
          "output_type": "execute_result",
          "data": {
            "text/html": [
              "\n",
              "        <iframe\n",
              "            width=\"854\"\n",
              "            height=\"480\"\n",
              "            src=\"https://mfr.ca-1.osf.io/render?url=https://osf.io/n263c/?direct%26mode=render%26action=download%26mode=render\"\n",
              "            frameborder=\"0\"\n",
              "            allowfullscreen\n",
              "        ></iframe>\n",
              "        "
            ],
            "text/plain": [
              "<IPython.lib.display.IFrame at 0x7f04e64a22d0>"
            ]
          },
          "metadata": {
            "tags": []
          },
          "execution_count": 1
        }
      ]
    },
    {
      "cell_type": "markdown",
      "metadata": {
        "execution": {},
        "id": "Kx7B5atT1yls"
      },
      "source": [
        "---\n",
        "## Setup"
      ]
    },
    {
      "cell_type": "code",
      "metadata": {
        "execution": {},
        "id": "CPdbz2-D1ylt",
        "cellView": "form"
      },
      "source": [
        "# @title Install dependencies\n",
        "from IPython.display import clear_output\n",
        "!pip install torchtext==0.4.0 --quiet\n",
        "!pip install --upgrade gensim --quiet\n",
        "!pip install unidecode --quiet\n",
        "!pip install hmmlearn --quiet\n",
        "!pip install fasttext --quiet\n",
        "!pip install nltk --quiet\n",
        "!pip install pandas --quiet\n",
        "!pip install python-Levenshtein --quiet\n",
        "clear_output()"
      ],
      "execution_count": 2,
      "outputs": []
    },
    {
      "cell_type": "code",
      "metadata": {
        "execution": {},
        "id": "0W7OsDFU1ylt"
      },
      "source": [
        "# Imports\n",
        "import os\n",
        "import time\n",
        "import nltk\n",
        "import torch\n",
        "import pickle\n",
        "import zipfile\n",
        "import fasttext\n",
        "import requests\n",
        "import urllib.request\n",
        "\n",
        "import numpy as np\n",
        "import pandas as pd\n",
        "import torch.nn as nn\n",
        "from torch.nn import functional as F\n",
        "\n",
        "import matplotlib.cm as cm\n",
        "import matplotlib.pyplot as plt\n",
        "from tqdm import tqdm_notebook as tqdm\n",
        "\n",
        "from hmmlearn import hmm\n",
        "from gensim.models import Word2Vec\n",
        "from scipy.sparse import dok_matrix\n",
        "\n",
        "from torchtext import data, datasets\n",
        "from torchtext.vocab import FastText\n",
        "\n",
        "from nltk import FreqDist\n",
        "from nltk.corpus import brown\n",
        "from nltk.tokenize import word_tokenize\n",
        "\n",
        "from sklearn.manifold import TSNE\n",
        "from sklearn.preprocessing import LabelEncoder"
      ],
      "execution_count": 3,
      "outputs": []
    },
    {
      "cell_type": "code",
      "metadata": {
        "cellView": "form",
        "execution": {},
        "id": "_HpcFfGq1ylu"
      },
      "source": [
        "# @title Figure Settings\n",
        "import ipywidgets as widgets\n",
        "%config InlineBackend.figure_format = 'retina'\n",
        "plt.style.use(\"https://raw.githubusercontent.com/NeuromatchAcademy/content-creation/main/nma.mplstyle\")"
      ],
      "execution_count": 4,
      "outputs": []
    },
    {
      "cell_type": "code",
      "metadata": {
        "execution": {},
        "id": "Oe6fbrCZ1ylu",
        "colab": {
          "base_uri": "https://localhost:8080/"
        },
        "cellView": "form",
        "outputId": "05225774-f726-43ac-eb03-455a2cd53b55"
      },
      "source": [
        "# @title  Load Dataset from `nltk`\n",
        "# no critical warnings, so we supress it\n",
        "import warnings\n",
        "warnings.simplefilter(\"ignore\")\n",
        "\n",
        "nltk.download('punkt')\n",
        "nltk.download('averaged_perceptron_tagger')\n",
        "nltk.download('brown')\n",
        "nltk.download('webtext')"
      ],
      "execution_count": 5,
      "outputs": [
        {
          "output_type": "stream",
          "text": [
            "[nltk_data] Downloading package punkt to /root/nltk_data...\n",
            "[nltk_data]   Unzipping tokenizers/punkt.zip.\n",
            "[nltk_data] Downloading package averaged_perceptron_tagger to\n",
            "[nltk_data]     /root/nltk_data...\n",
            "[nltk_data]   Unzipping taggers/averaged_perceptron_tagger.zip.\n",
            "[nltk_data] Downloading package brown to /root/nltk_data...\n",
            "[nltk_data]   Unzipping corpora/brown.zip.\n",
            "[nltk_data] Downloading package webtext to /root/nltk_data...\n",
            "[nltk_data]   Unzipping corpora/webtext.zip.\n"
          ],
          "name": "stdout"
        },
        {
          "output_type": "execute_result",
          "data": {
            "text/plain": [
              "True"
            ]
          },
          "metadata": {
            "tags": []
          },
          "execution_count": 5
        }
      ]
    },
    {
      "cell_type": "code",
      "metadata": {
        "cellView": "form",
        "execution": {},
        "id": "B01PaWXt1ylv"
      },
      "source": [
        "# @title Helper functions\n",
        "def cosine_similarity(vec_a, vec_b):\n",
        "    \"\"\"Compute cosine similarity between vec_a and vec_b\"\"\"\n",
        "    return np.dot(vec_a, vec_b) / (np.linalg.norm(vec_a) * np.linalg.norm(vec_b))\n",
        "\n",
        "\n",
        "def tokenize(sentences):\n",
        "  #Tokenize the sentence\n",
        "  #from nltk.tokenize library use word_tokenize\n",
        "  token = word_tokenize(sentences)\n",
        "\n",
        "  return token\n",
        "\n",
        "\n",
        "def plot_train_val(x, train, val, train_label, val_label, title, y_label,\n",
        "                   color):\n",
        "  plt.plot(x, train, label=train_label, color=color)\n",
        "  plt.plot(x, val, label=val_label, color=color, linestyle='--')\n",
        "  plt.legend(loc='lower right')\n",
        "  plt.xlabel('epoch')\n",
        "  plt.ylabel(y_label)\n",
        "  plt.title(title)\n",
        "\n",
        "\n",
        "def load_dataset(emb_vectors, sentence_length=50, seed=522):\n",
        "  TEXT = data.Field(sequential=True,\n",
        "                    tokenize=tokenize,\n",
        "                    lower=True,\n",
        "                    include_lengths=True,\n",
        "                    batch_first=True,\n",
        "                    fix_length=sentence_length)\n",
        "  LABEL = data.LabelField(dtype=torch.float)\n",
        "\n",
        "  train_data, test_data = datasets.IMDB.splits(TEXT, LABEL)\n",
        "\n",
        "  TEXT.build_vocab(train_data, vectors=emb_vectors)\n",
        "  LABEL.build_vocab(train_data)\n",
        "\n",
        "  train_data, valid_data = train_data.split(split_ratio=0.7,\n",
        "                                            random_state=random.seed(seed))\n",
        "  train_iter, valid_iter, test_iter = data.BucketIterator.splits((train_data,\n",
        "                                                                  valid_data,\n",
        "                                                                  test_data),\n",
        "                                                                  batch_size=32,\n",
        "                                                                  sort_key=lambda x: len(x.text),\n",
        "                                                                  repeat=False,\n",
        "                                                                  shuffle=True)\n",
        "  vocab_size = len(TEXT.vocab)\n",
        "\n",
        "  print(f'Data are loaded. sentence length: {sentence_length} '\n",
        "        f'seed: {seed}')\n",
        "\n",
        "  return TEXT, vocab_size, train_iter, valid_iter, test_iter\n",
        "\n",
        "\n",
        "def download_file_from_google_drive(id, destination):\n",
        "  URL = \"https://docs.google.com/uc?export=download\"\n",
        "\n",
        "  session = requests.Session()\n",
        "\n",
        "  response = session.get(URL, params={ 'id': id }, stream=True)\n",
        "  token = get_confirm_token(response)\n",
        "\n",
        "  if token:\n",
        "    params = { 'id': id, 'confirm': token }\n",
        "    response = session.get(URL, params=params, stream=True)\n",
        "\n",
        "  save_response_content(response, destination)\n",
        "\n",
        "\n",
        "def get_confirm_token(response):\n",
        "  for key, value in response.cookies.items():\n",
        "    if key.startswith('download_warning'):\n",
        "      return value\n",
        "\n",
        "  return None\n",
        "\n",
        "\n",
        "def save_response_content(response, destination):\n",
        "  CHUNK_SIZE = 32768\n",
        "\n",
        "  with open(destination, \"wb\") as f:\n",
        "    for chunk in response.iter_content(CHUNK_SIZE):\n",
        "      if chunk: # filter out keep-alive new chunks\n",
        "        f.write(chunk)"
      ],
      "execution_count": 6,
      "outputs": []
    },
    {
      "cell_type": "code",
      "metadata": {
        "cellView": "form",
        "execution": {},
        "id": "rSTbYh0d1ylv"
      },
      "source": [
        "# @title Set random seed\n",
        "\n",
        "# @markdown Executing `set_seed(seed=seed)` you are setting the seed\n",
        "\n",
        "# for DL its critical to set the random seed so that students can have a\n",
        "# baseline to compare their results to expected results.\n",
        "# Read more here: https://pytorch.org/docs/stable/notes/randomness.html\n",
        "\n",
        "# Call `set_seed` function in the exercises to ensure reproducibility.\n",
        "import random\n",
        "import torch\n",
        "\n",
        "def set_seed(seed=None, seed_torch=True):\n",
        "  if seed is None:\n",
        "    seed = np.random.choice(2 ** 32)\n",
        "  random.seed(seed)\n",
        "  np.random.seed(seed)\n",
        "  if seed_torch:\n",
        "    torch.manual_seed(seed)\n",
        "    torch.cuda.manual_seed_all(seed)\n",
        "    torch.cuda.manual_seed(seed)\n",
        "    torch.backends.cudnn.benchmark = False\n",
        "    torch.backends.cudnn.deterministic = True\n",
        "\n",
        "  print(f'Random seed {seed} has been set.')\n",
        "\n",
        "# In case that `DataLoader` is used\n",
        "def seed_worker(worker_id):\n",
        "  worker_seed = torch.initial_seed() % 2**32\n",
        "  np.random.seed(worker_seed)\n",
        "  random.seed(worker_seed)"
      ],
      "execution_count": 7,
      "outputs": []
    },
    {
      "cell_type": "code",
      "metadata": {
        "cellView": "form",
        "execution": {},
        "id": "augWQGPP1ylw"
      },
      "source": [
        "# @title Set device (GPU or CPU). Execute `set_device()`\n",
        "\n",
        "# inform the user if the notebook uses GPU or CPU.\n",
        "\n",
        "def set_device():\n",
        "  device = \"cuda\" if torch.cuda.is_available() else \"cpu\"\n",
        "  if device != \"cuda\":\n",
        "    print(\"WARNING: For this notebook to perform best, \"\n",
        "        \"if possible, in the menu under `Runtime` -> \"\n",
        "        \"`Change runtime type.`  select `GPU` \")\n",
        "  else:\n",
        "    print(\"GPU is enabled in this notebook.\")\n",
        "\n",
        "  return device"
      ],
      "execution_count": 8,
      "outputs": []
    },
    {
      "cell_type": "code",
      "metadata": {
        "execution": {},
        "id": "1rmgAREy1ylx",
        "colab": {
          "base_uri": "https://localhost:8080/"
        },
        "outputId": "055c8e74-6b37-4b45-9a7e-429ab20efeea"
      },
      "source": [
        "DEVICE = set_device()\n",
        "SEED = 2021\n",
        "set_seed(seed=SEED)"
      ],
      "execution_count": 9,
      "outputs": [
        {
          "output_type": "stream",
          "text": [
            "GPU is enabled in this notebook.\n",
            "Random seed 2021 has been set.\n"
          ],
          "name": "stdout"
        }
      ]
    },
    {
      "cell_type": "markdown",
      "metadata": {
        "execution": {},
        "id": "E9PPNDX11ylx"
      },
      "source": [
        "---\n",
        "# Section 1: Sequences, Markov Chains & HMMs"
      ]
    },
    {
      "cell_type": "code",
      "metadata": {
        "cellView": "form",
        "execution": {},
        "id": "DxBPh-wx1ylx",
        "colab": {
          "base_uri": "https://localhost:8080/",
          "height": 579,
          "referenced_widgets": [
            "45cb8ac972bd4a30bbb83a9516616f0a",
            "ded4847a6f40417996a60703fd2c7851",
            "afe40ab232604607b0e8bfe030045326",
            "8d1f07e1357e4628b7f45d1eaf103bf6",
            "5ac18be33fb94927b05e3a719c2b19e9",
            "80885572162448f2864ab5b99cd30e7b"
          ]
        },
        "outputId": "a52b6752-8aa2-47e0-db00-9255d4b6fcc1"
      },
      "source": [
        "# @title Video 1: Sequences & Markov Processes\n",
        "from ipywidgets import widgets\n",
        "\n",
        "out2 = widgets.Output()\n",
        "with out2:\n",
        "  from IPython.display import IFrame\n",
        "  class BiliVideo(IFrame):\n",
        "      def __init__(self, id, page=1, width=400, height=300, **kwargs):\n",
        "          self.id=id\n",
        "          src = \"https://player.bilibili.com/player.html?bvid={0}&page={1}\".format(id, page)\n",
        "          super(BiliVideo, self).__init__(src, width, height, **kwargs)\n",
        "\n",
        "  video = BiliVideo(id=f\"BV1jg411774B\", width=854, height=480, fs=1)\n",
        "  print(\"Video available at https://www.bilibili.com/video/{0}\".format(video.id))\n",
        "  display(video)\n",
        "\n",
        "out1 = widgets.Output()\n",
        "with out1:\n",
        "  from IPython.display import YouTubeVideo\n",
        "  video = YouTubeVideo(id=f\"ApkE7UFaJAQ\", width=854, height=480, fs=1, rel=0)\n",
        "  print(\"Video available at https://youtube.com/watch?v=\" + video.id)\n",
        "  display(video)\n",
        "\n",
        "out = widgets.Tab([out1, out2])\n",
        "out.set_title(0, 'Youtube')\n",
        "out.set_title(1, 'Bilibili')\n",
        "\n",
        "display(out)"
      ],
      "execution_count": 10,
      "outputs": [
        {
          "output_type": "display_data",
          "data": {
            "application/vnd.jupyter.widget-view+json": {
              "model_id": "45cb8ac972bd4a30bbb83a9516616f0a",
              "version_minor": 0,
              "version_major": 2
            },
            "text/plain": [
              "Tab(children=(Output(), Output()), _titles={'0': 'Youtube', '1': 'Bilibili'})"
            ]
          },
          "metadata": {
            "tags": []
          }
        }
      ]
    },
    {
      "cell_type": "markdown",
      "metadata": {
        "execution": {},
        "id": "0J8PODCR1yly"
      },
      "source": [
        "\n",
        "\n",
        "In this notebook we will be exploring the world of sequences - thinking of what kind of data can be thought of as sequences, and how these sequences can be represented as Markov Chains and Hidden Markov Models. These ideas and methods were an important part of natural language processing and language modelling, and serve as a useful way to ground ourselves before we dive into neural network methods."
      ]
    },
    {
      "cell_type": "markdown",
      "metadata": {
        "execution": {},
        "id": "wVokOI1a1ylz"
      },
      "source": [
        "\n",
        "## Why is this relevant? How are these sequences related to modern recurrent neural networks?\n",
        "\n",
        "Like we mentioned before, the notion of modelling sequences of data - in this particular case, **language**, is an ideal place to start. RNNs themselves were constructed keeping in mind sequences, and the ability to temporally model sequences is what inspired RNNs (and the family of LSTM, GRUs - we will see this in the next notebook).\n",
        "\n",
        "Markov models and hidden markov models serve as an introduction to these concepts because they were some of the earliest ways to think about sequences. They do not capture a lot of the complexity that RNNs excel at, but are an useful way of thinking of sequences, probabilities, and how we can use these concepts to perform  tasks such as text generation, or classification - tasks that RNNs excel at today. \n",
        "\n",
        "Think of this section as an introduction to thinking with sequences and text data, and as a historical introduction to the world of modelling sequential data. "
      ]
    },
    {
      "cell_type": "markdown",
      "metadata": {
        "execution": {},
        "id": "KSKWWQwD1ylz"
      },
      "source": [
        "## Section 1.1: What data are sequences?\n",
        "\n",
        "Native Sequences:\n",
        "\n",
        "- Temporally occurring events (e.g., history, stock prices)\n",
        "- Temporally processed events (e.g., communication)\n",
        "- Topologically connected components (e.g., polymers, peptides)\n",
        "\n",
        "Synthetic Sequences: \n",
        "\n",
        "- Anything processed as a sequence (e.g., scanned pixels in an image)\n",
        "\n",
        "Sequences can be represented as a Markov Process - since this notion of sequential data is intrinsically linked to RNNs, it is a good place for us to start, and natural language (text!) will be our sequence of choice. \n",
        "\n",
        "We will be using the Brown corpus which comes loaded with NLTK, and using the entire corpus - this requires a lot of RAM for some of the methods, so we recommend using a smaller subset of categories if you do not have enough RAM.\n",
        "\n",
        "We will be using some of the code from this [tutorial](https://www.kdnuggets.com/2019/11/markov-chains-train-text-generation.html) and this [Jupyter notebook](https://github.com/StrikingLoo/ASOIAF-Markov/blob/master/ASOIAF.ipynb)\n",
        "\n",
        "The first few cells of code all involve set-up; some of this code will be hidden because they are not necessary to understand the ideas of markov models, but the way data is setup can be vital to the way the model performs (something in common with neural network models!).\n",
        "\n",
        "Let us start with loading our corpus.\n",
        "\n"
      ]
    },
    {
      "cell_type": "code",
      "metadata": {
        "execution": {},
        "id": "iY57_AP91yl0"
      },
      "source": [
        "category = ['editorial', 'fiction', 'government', 'news', 'religion']\n",
        "sentences = brown.sents(categories=category)"
      ],
      "execution_count": 11,
      "outputs": []
    },
    {
      "cell_type": "markdown",
      "metadata": {
        "execution": {},
        "id": "CYTmHJEj1yl0"
      },
      "source": [
        "Now that we have our sentences, let us look at some statistics to get an idea of what we are dealing with."
      ]
    },
    {
      "cell_type": "code",
      "metadata": {
        "execution": {},
        "id": "bvDuLYtF1yl0"
      },
      "source": [
        "lengths = [len(sentence) for sentence in sentences]\n",
        "lengths = pd.Series(lengths)"
      ],
      "execution_count": 12,
      "outputs": []
    },
    {
      "cell_type": "markdown",
      "metadata": {
        "execution": {},
        "id": "TWv4IGBf1yl0"
      },
      "source": [
        "Find the 80-th percentile: the minimal length of such a sentence, which is longer than at least 80% of sentences in the *Brown corpus*."
      ]
    },
    {
      "cell_type": "code",
      "metadata": {
        "execution": {},
        "id": "40izTRMu1yl1",
        "colab": {
          "base_uri": "https://localhost:8080/"
        },
        "outputId": "1b3a01e5-c1c0-4886-905c-63bee2f0cfbe"
      },
      "source": [
        "lengths.quantile(.8)"
      ],
      "execution_count": 13,
      "outputs": [
        {
          "output_type": "execute_result",
          "data": {
            "text/plain": [
              "30.0"
            ]
          },
          "metadata": {
            "tags": []
          },
          "execution_count": 13
        }
      ]
    },
    {
      "cell_type": "code",
      "metadata": {
        "execution": {},
        "id": "vyxffdxp1yl1",
        "colab": {
          "base_uri": "https://localhost:8080/"
        },
        "outputId": "919fcfb5-567e-412e-99d7-d19379b777ae"
      },
      "source": [
        "lengths.describe()"
      ],
      "execution_count": 14,
      "outputs": [
        {
          "output_type": "execute_result",
          "data": {
            "text/plain": [
              "count    16617.000000\n",
              "mean        20.470723\n",
              "std         13.656809\n",
              "min          1.000000\n",
              "25%         10.000000\n",
              "50%         18.000000\n",
              "75%         28.000000\n",
              "max        180.000000\n",
              "dtype: float64"
            ]
          },
          "metadata": {
            "tags": []
          },
          "execution_count": 14
        }
      ]
    },
    {
      "cell_type": "code",
      "metadata": {
        "execution": {},
        "id": "ky145SBw1yl1",
        "colab": {
          "base_uri": "https://localhost:8080/"
        },
        "outputId": "83809ea7-07ba-4dce-aa16-fe462b2d95ed"
      },
      "source": [
        "sentences[0:2]"
      ],
      "execution_count": 15,
      "outputs": [
        {
          "output_type": "execute_result",
          "data": {
            "text/plain": [
              "[['The',\n",
              "  'Fulton',\n",
              "  'County',\n",
              "  'Grand',\n",
              "  'Jury',\n",
              "  'said',\n",
              "  'Friday',\n",
              "  'an',\n",
              "  'investigation',\n",
              "  'of',\n",
              "  \"Atlanta's\",\n",
              "  'recent',\n",
              "  'primary',\n",
              "  'election',\n",
              "  'produced',\n",
              "  '``',\n",
              "  'no',\n",
              "  'evidence',\n",
              "  \"''\",\n",
              "  'that',\n",
              "  'any',\n",
              "  'irregularities',\n",
              "  'took',\n",
              "  'place',\n",
              "  '.'],\n",
              " ['The',\n",
              "  'jury',\n",
              "  'further',\n",
              "  'said',\n",
              "  'in',\n",
              "  'term-end',\n",
              "  'presentments',\n",
              "  'that',\n",
              "  'the',\n",
              "  'City',\n",
              "  'Executive',\n",
              "  'Committee',\n",
              "  ',',\n",
              "  'which',\n",
              "  'had',\n",
              "  'over-all',\n",
              "  'charge',\n",
              "  'of',\n",
              "  'the',\n",
              "  'election',\n",
              "  ',',\n",
              "  '``',\n",
              "  'deserves',\n",
              "  'the',\n",
              "  'praise',\n",
              "  'and',\n",
              "  'thanks',\n",
              "  'of',\n",
              "  'the',\n",
              "  'City',\n",
              "  'of',\n",
              "  'Atlanta',\n",
              "  \"''\",\n",
              "  'for',\n",
              "  'the',\n",
              "  'manner',\n",
              "  'in',\n",
              "  'which',\n",
              "  'the',\n",
              "  'election',\n",
              "  'was',\n",
              "  'conducted',\n",
              "  '.']]"
            ]
          },
          "metadata": {
            "tags": []
          },
          "execution_count": 15
        }
      ]
    },
    {
      "cell_type": "markdown",
      "metadata": {
        "execution": {},
        "id": "NgaADwD21yl1"
      },
      "source": [
        "This gives us an idea of what our dataset looks like, along with some average lengths. This kind of quick data exploration can be very useful - we know how long different sequences are, and how we might want to collect these words."
      ]
    },
    {
      "cell_type": "markdown",
      "metadata": {
        "execution": {},
        "id": "JdGYdQW71yl1"
      },
      "source": [
        "Since we will be modelling words as sequences in sentences, let us first collect all the words in our corpus."
      ]
    },
    {
      "cell_type": "code",
      "metadata": {
        "execution": {},
        "id": "DzF8s2md1yl2"
      },
      "source": [
        "corpus_words = []\n",
        "for sentence in sentences:\n",
        "  for word in sentence:\n",
        "    if \"''\" not in word and \"``\" not in word:\n",
        "      corpus_words.append(word)"
      ],
      "execution_count": 16,
      "outputs": []
    },
    {
      "cell_type": "code",
      "metadata": {
        "execution": {},
        "id": "RKQccoFt1yl3",
        "colab": {
          "base_uri": "https://localhost:8080/"
        },
        "outputId": "b92f610c-5039-4221-97fe-5782df111c81"
      },
      "source": [
        "print(f\"Corpus length: {len(corpus_words)}\")"
      ],
      "execution_count": 17,
      "outputs": [
        {
          "output_type": "stream",
          "text": [
            "Corpus length: 335766\n"
          ],
          "name": "stdout"
        }
      ]
    },
    {
      "cell_type": "code",
      "metadata": {
        "execution": {},
        "id": "Zh8jxC2I1yl4",
        "colab": {
          "base_uri": "https://localhost:8080/"
        },
        "outputId": "1cdcf9a7-6a66-48c0-8256-68fd5224212c"
      },
      "source": [
        "corpus_words[0:20]"
      ],
      "execution_count": 18,
      "outputs": [
        {
          "output_type": "execute_result",
          "data": {
            "text/plain": [
              "['The',\n",
              " 'Fulton',\n",
              " 'County',\n",
              " 'Grand',\n",
              " 'Jury',\n",
              " 'said',\n",
              " 'Friday',\n",
              " 'an',\n",
              " 'investigation',\n",
              " 'of',\n",
              " \"Atlanta's\",\n",
              " 'recent',\n",
              " 'primary',\n",
              " 'election',\n",
              " 'produced',\n",
              " 'no',\n",
              " 'evidence',\n",
              " 'that',\n",
              " 'any',\n",
              " 'irregularities']"
            ]
          },
          "metadata": {
            "tags": []
          },
          "execution_count": 18
        }
      ]
    },
    {
      "cell_type": "markdown",
      "metadata": {
        "execution": {},
        "id": "RmSpo99S1yl4"
      },
      "source": [
        "We'll now get distinct (unique) words and create a matrix to represent all these words. This is necessary because we will be using this matrix to look at the probability of the words in sequences."
      ]
    },
    {
      "cell_type": "code",
      "metadata": {
        "cellView": "form",
        "execution": {},
        "id": "IReHAJY61yl4"
      },
      "source": [
        "# @title Creating Matrices and Distinct Words\n",
        "distinct_words = list(set(corpus_words))\n",
        "word_idx_dict = {word: i for i, word in enumerate(distinct_words)}\n",
        "distinct_words_count = len(list(set(corpus_words)))\n",
        "next_word_matrix = np.zeros([distinct_words_count, distinct_words_count])"
      ],
      "execution_count": 19,
      "outputs": []
    },
    {
      "cell_type": "code",
      "metadata": {
        "execution": {},
        "id": "TaxPcJXk1yl4",
        "colab": {
          "base_uri": "https://localhost:8080/"
        },
        "outputId": "beb55004-f997-41b9-853d-921cfc558ab7"
      },
      "source": [
        "print(\"Number of distinct words: \" + str(distinct_words_count))"
      ],
      "execution_count": 20,
      "outputs": [
        {
          "output_type": "stream",
          "text": [
            "Number of distinct words: 27485\n"
          ],
          "name": "stdout"
        }
      ]
    },
    {
      "cell_type": "markdown",
      "metadata": {
        "execution": {},
        "id": "Iu7hHnUu1yl5"
      },
      "source": [
        "In the following lines of code we are populating the matrix that tracks the next word in a sentence."
      ]
    },
    {
      "cell_type": "code",
      "metadata": {
        "cellView": "form",
        "execution": {},
        "id": "Bu_H5m-F1yl5"
      },
      "source": [
        "# @title Populating Matric that tracks next word\n",
        "for i, word in enumerate(corpus_words[:-1]):\n",
        "  first_word_idx = word_idx_dict[word]\n",
        "  next_word_idx = word_idx_dict[corpus_words[i+1]]\n",
        "  next_word_matrix[first_word_idx][next_word_idx] +=1"
      ],
      "execution_count": 21,
      "outputs": []
    },
    {
      "cell_type": "markdown",
      "metadata": {
        "execution": {},
        "id": "3sKYl_LG1yl5"
      },
      "source": [
        "Now we have the information ready to construct a markov chain. The next word matrix is crucial in this, as it allows us to go from one word in the sequence to the next. We will soon see how this is used."
      ]
    },
    {
      "cell_type": "markdown",
      "metadata": {
        "execution": {},
        "id": "GiyKcg9B1yl5"
      },
      "source": [
        "## Section 1.2: What is a Markov Chain or Model?\n",
        "\n",
        "A Markov Chain (or Model) is a:\n",
        "- stochastic model describing a sequence of possible events\n",
        "- the probability of each event depends only on the state attained in the previous event.\n",
        "- a countably infinite sequence, in which the chain moves state at discrete time steps, gives a discrete-time Markov chain (DTMC) [vs. a continuous-time process or CTMC].\n",
        "- The classic formal language model is a Markov Model\n",
        "\n",
        "*Helpful explanations from [eric mjl's tutorial](https://ericmjl.github.io/essays-on-data-science/machine-learning/markov-models/#non-autoregressive-homoskedastic-emissions)*!\n",
        "\n",
        "\n",
        "\n",
        "The simplest Markov models assume that we have a _system_ that contains a finite set of states,\n",
        "and that the _system_ transitions between these states with some probability at each time step $t$,\n",
        "thus generating a sequence of states over time.\n",
        "Let's call these states $S$, where\n",
        "\n",
        "\\begin{equation}\n",
        "S = \\{s_1, s_2, ..., s_n\\}\n",
        "\\end{equation}\n",
        "\n",
        "To keep things simple, let's start with three states:\n",
        "\n",
        "\\begin{equation}\n",
        "S = \\{s_1, s_2, s_3\\}\n",
        "\\end{equation}\n",
        "\n",
        "A Markov model generates a sequence of states, with one possible realization being:\n",
        "\n",
        "\\begin{equation}\n",
        "\\{s_1, s_1, s_1, s_3, s_3, s_3, s_2, s_2, s_3, s_3, s_3, s_3, s_1, ...\\}\n",
        "\\end{equation}\n",
        "\n",
        "And generically, we represent it as a sequence of states $x_t, x_{t+1}... x_{t+n}$. (We have chosen a different symbol to not confuse the \"generic\" state with the specific realization. Graphically, a plain and simple Markov model looks like the following:\n",
        "\n",
        "<center><img src=\"https://raw.githubusercontent.com/NeuromatchAcademy/course-content-dl/main/tutorials/W2D3_ModernRecurrentNeuralNetworks/static/cell_chain.png\" width=\"500\"/></center>"
      ]
    },
    {
      "cell_type": "markdown",
      "metadata": {
        "execution": {},
        "id": "_gOsTCNJ1yl5"
      },
      "source": [
        "### Modelling transitions between states\n",
        "\n",
        "To know how a system transitions between states, we now need a **transition matrix**.\n",
        "\n",
        "The transition matrix describes the probability of transitioning from one state to another (The probability of staying in the same state is semantically equivalent to transitioning to the same state).\n",
        "\n",
        "By convention, transition matrix rows correspond to the state at time $t$,\n",
        "while columns correspond to state at time $t+1$.\n",
        "Hence, row probabilities sum to one, because the probability of transitioning to the next state depends on only the current state, and all possible states are known and enumerated.\n",
        "\n",
        "Let's call the transition matrix $P_{transition}$:\n",
        "\n",
        "\\begin{equation}\n",
        "P_{transition} = \n",
        "  \\begin{pmatrix}\n",
        "  p_{11} & p_{12} & p_{13} \\\\\n",
        "  p_{21} & p_{22} & p_{23} \\\\\n",
        "  p_{31} & p_{32} & p_{33} \\\\\n",
        "  \\end{pmatrix}\n",
        "\\end{equation}\n",
        "\n",
        "Using the transition matrix, we can express different behaviors of the system. For example:\n",
        "1. by assigning larger probability mass to the diagonals, we can express that the system likes to stay in the current state;\n",
        "2. by assigning larger probability mass to the off-diagonal, we can express that the system likes to transition out of its current state.\n",
        "\n",
        "In our case, this matrix is created by measuring how often one word appeared after another."
      ]
    },
    {
      "cell_type": "code",
      "metadata": {
        "cellView": "form",
        "execution": {},
        "id": "G0b5wlRM1yl6"
      },
      "source": [
        "# @title Function for most likely word\n",
        "def most_likely_word_after(word):\n",
        "  # we check for the word most likely to occur using the matrix\n",
        "  most_likely = next_word_matrix[word_idx_dict[word]].argmax()\n",
        "  return distinct_words[most_likely]"
      ],
      "execution_count": 22,
      "outputs": []
    },
    {
      "cell_type": "markdown",
      "metadata": {
        "execution": {},
        "id": "ZaCwj1yT1yl6"
      },
      "source": [
        "Using our most likely word function, we can begin to create chains of words and create sequences. In the code below we create a naive chain that simply choses the most likely word."
      ]
    },
    {
      "cell_type": "code",
      "metadata": {
        "cellView": "form",
        "execution": {},
        "id": "myu_9EJ21yl6"
      },
      "source": [
        "# @title Function for building Naive Chain\n",
        "def naive_chain(word, length=15):\n",
        "  current_word = word\n",
        "  sentence = word\n",
        "  # we now build a naive chain by picking up the most likely word\n",
        "  for _ in range(length):\n",
        "    sentence += ' '\n",
        "    next_word = most_likely_word_after(current_word)\n",
        "    sentence += next_word\n",
        "    current_word = next_word\n",
        "  return sentence"
      ],
      "execution_count": 23,
      "outputs": []
    },
    {
      "cell_type": "markdown",
      "metadata": {
        "execution": {},
        "id": "hUWKFgSX1yl6"
      },
      "source": [
        "Let us now use this naive chain to see what comes up, using some simple words."
      ]
    },
    {
      "cell_type": "code",
      "metadata": {
        "execution": {},
        "id": "h3oZxtAC1yl6",
        "colab": {
          "base_uri": "https://localhost:8080/"
        },
        "outputId": "b68c2cd3-0466-4632-c535-31218eaf8400"
      },
      "source": [
        "print(naive_chain('the'))\n",
        "print(naive_chain('I'))\n",
        "print(naive_chain('What'))\n",
        "print(naive_chain('park'))"
      ],
      "execution_count": 24,
      "outputs": [
        {
          "output_type": "stream",
          "text": [
            "the United States , and the United States , and the United States , and the\n",
            "I have been a new members of the United States , and the United States ,\n",
            "What is a new members of the United States , and the United States , and\n",
            "park . The new members of the United States , and the United States , and\n"
          ],
          "name": "stdout"
        }
      ]
    },
    {
      "cell_type": "markdown",
      "metadata": {
        "execution": {},
        "id": "DIrKs9tH1yl7"
      },
      "source": [
        "We notice that after the word `the`, `United States` comes up each time. All the other sequencies starting from other words also end up at `the` quite often. Since we use a *deterministic* markov chain model, its next state only depends on the previous one. Therefore, once the sequence comes to `the`, it inevitably continues the sequence with the `United States`."
      ]
    },
    {
      "cell_type": "markdown",
      "metadata": {
        "execution": {},
        "id": "pKEBHSCs1yl7"
      },
      "source": [
        "We can now be a little more sophisticated, and return words in a sequence using a *weighted choice*, which randomly selects the next word from a set of words with some probability (weight)."
      ]
    },
    {
      "cell_type": "code",
      "metadata": {
        "cellView": "form",
        "execution": {},
        "id": "lJYJywTd1yl7"
      },
      "source": [
        "# @title Function for weighted choice\n",
        "def weighted_choice(objects, weights):\n",
        "  \"\"\"\n",
        "  Returns randomly an element from the sequence of 'objects',\n",
        "      the likelihood of the objects is weighted according\n",
        "      to the sequence of 'weights', i.e. percentages.\n",
        "  \"\"\"\n",
        "\n",
        "  weights = np.array(weights, dtype=np.float64)\n",
        "  sum_of_weights = weights.sum()\n",
        "  # standardization:\n",
        "  np.multiply(weights, 1 / sum_of_weights)\n",
        "  weights = weights.cumsum()\n",
        "  x = random.random()\n",
        "  for i in range(len(weights)):\n",
        "    if x < weights[i]:\n",
        "      return objects[i]"
      ],
      "execution_count": 25,
      "outputs": []
    },
    {
      "cell_type": "code",
      "metadata": {
        "cellView": "form",
        "execution": {},
        "id": "MyFdW73u1yl7"
      },
      "source": [
        "# @title Function for sampling next word with weights\n",
        "def sample_next_word_after(word, alpha=0):\n",
        "  next_word_vector = next_word_matrix[word_idx_dict[word]] + alpha\n",
        "  likelihoods = next_word_vector/next_word_vector.sum()\n",
        "  return weighted_choice(distinct_words, likelihoods)"
      ],
      "execution_count": 26,
      "outputs": []
    },
    {
      "cell_type": "code",
      "metadata": {
        "execution": {},
        "id": "pbWasltt1yl7",
        "colab": {
          "base_uri": "https://localhost:8080/",
          "height": 35
        },
        "outputId": "37b8168f-d704-4898-9536-6009aa5f426d"
      },
      "source": [
        "sample_next_word_after('The')"
      ],
      "execution_count": 27,
      "outputs": [
        {
          "output_type": "execute_result",
          "data": {
            "application/vnd.google.colaboratory.intrinsic+json": {
              "type": "string"
            },
            "text/plain": [
              "'Cumbancheros'"
            ]
          },
          "metadata": {
            "tags": []
          },
          "execution_count": 27
        }
      ]
    },
    {
      "cell_type": "code",
      "metadata": {
        "execution": {},
        "id": "WG6F0k-w1yl7",
        "colab": {
          "base_uri": "https://localhost:8080/",
          "height": 35
        },
        "outputId": "d5fee23b-a87a-4f4d-e92a-d4ac45336a1d"
      },
      "source": [
        "sample_next_word_after('The')"
      ],
      "execution_count": 28,
      "outputs": [
        {
          "output_type": "execute_result",
          "data": {
            "application/vnd.google.colaboratory.intrinsic+json": {
              "type": "string"
            },
            "text/plain": [
              "'opening'"
            ]
          },
          "metadata": {
            "tags": []
          },
          "execution_count": 28
        }
      ]
    },
    {
      "cell_type": "markdown",
      "metadata": {
        "execution": {},
        "id": "EvgpDZGw1yl8"
      },
      "source": [
        "There! We don't see the same word twice, because of the added randomisation (i.e., stochasticity). Our algorithm calculates how likely it is to find a certain word after a given word (`The` in this case) in the corpus, and then generates 1 sample of the next word with a matching probability. \n",
        "\n",
        "In this example, we generated only one next word. Now, using this function, we'll build a chain."
      ]
    },
    {
      "cell_type": "code",
      "metadata": {
        "cellView": "form",
        "execution": {},
        "id": "CLFeo5tK1yl8"
      },
      "source": [
        "# @title Function for a stochastic chain using weighted choice\n",
        "def stochastic_chain(word, length=15):\n",
        "  current_word = word\n",
        "  sentence = word\n",
        "\n",
        "  for _ in range(length):\n",
        "    sentence += ' '\n",
        "    next_word = sample_next_word_after(current_word)\n",
        "    sentence += next_word\n",
        "    current_word = next_word\n",
        "\n",
        "  return sentence"
      ],
      "execution_count": 29,
      "outputs": []
    },
    {
      "cell_type": "code",
      "metadata": {
        "execution": {},
        "id": "bvvhPNyl1yl8",
        "colab": {
          "base_uri": "https://localhost:8080/",
          "height": 35
        },
        "outputId": "02f1f965-5e43-4cdf-eab1-d3e68530f533"
      },
      "source": [
        "stochastic_chain('Hospital')"
      ],
      "execution_count": 30,
      "outputs": [
        {
          "output_type": "execute_result",
          "data": {
            "application/vnd.google.colaboratory.intrinsic+json": {
              "type": "string"
            },
            "text/plain": [
              "'Hospital . I am a few of the United Nations which is at an explosive device'"
            ]
          },
          "metadata": {
            "tags": []
          },
          "execution_count": 30
        }
      ]
    },
    {
      "cell_type": "markdown",
      "metadata": {
        "execution": {},
        "id": "vm7sYLry1yl8"
      },
      "source": [
        "Neat - we can create stochastic chains for a single word. For a more effective language model, we would want to model sets of words - in the following cells, we create sets of words to predict a chain after a sequence."
      ]
    },
    {
      "cell_type": "code",
      "metadata": {
        "execution": {},
        "id": "IkDjNC9x1yl8"
      },
      "source": [
        "k = 3"
      ],
      "execution_count": 31,
      "outputs": []
    },
    {
      "cell_type": "code",
      "metadata": {
        "execution": {},
        "id": "NXDzjDf61yl8",
        "colab": {
          "base_uri": "https://localhost:8080/",
          "height": 66,
          "referenced_widgets": [
            "638c899c9d594b859fd1edccf7ccdef2",
            "ccadfb47a7e34d63b962ad99150e1955",
            "29c9d6c0b2394b39b8ff6e25c2259ead",
            "d050ad5b9da14286995190b3d0c092d4",
            "e28588748e924724b67e4b604a98ca66",
            "28aac34203fa468dacab7c9b7fbe3a8a",
            "2b8c3a4c1c2c44eb8a60dd9aa12225eb",
            "d7648d14b129436faae88356f029f798"
          ]
        },
        "cellView": "form",
        "outputId": "84d8bbc8-058b-432c-a07a-2cad0186ceb7"
      },
      "source": [
        "def sequences_matrices(k=3):\n",
        "  # @title Code to build sets of words for more realistic sequences\n",
        "  sets_of_k_words = [' '.join(corpus_words[i:i+k]) for i, _ in enumerate(corpus_words[:-k])]\n",
        "  sets_count = len(list(set(sets_of_k_words)))\n",
        "  next_after_k_words_matrix = dok_matrix((sets_count, len(distinct_words)))\n",
        "  distinct_sets_of_k_words = list(set(sets_of_k_words))\n",
        "  k_words_idx_dict = {word: i for i, word in enumerate(distinct_sets_of_k_words)}\n",
        "  distinct_k_words_count = len(list(set(sets_of_k_words)))\n",
        "  for i, word in tqdm(enumerate(sets_of_k_words[:-k])):\n",
        "    word_sequence_idx = k_words_idx_dict[word]\n",
        "    next_word_idx = word_idx_dict[corpus_words[i+k]]\n",
        "    next_after_k_words_matrix[word_sequence_idx, next_word_idx] += 1\n",
        "  return k_words_idx_dict,distinct_sets_of_k_words,next_after_k_words_matrix\n",
        "\n",
        "k_words_idx_dict, distinct_sets_of_k_words, next_after_k_words_matrix = sequences_matrices(k=k)"
      ],
      "execution_count": 32,
      "outputs": [
        {
          "output_type": "display_data",
          "data": {
            "application/vnd.jupyter.widget-view+json": {
              "model_id": "638c899c9d594b859fd1edccf7ccdef2",
              "version_minor": 0,
              "version_major": 2
            },
            "text/plain": [
              "HBox(children=(FloatProgress(value=1.0, bar_style='info', max=1.0), HTML(value='')))"
            ]
          },
          "metadata": {
            "tags": []
          }
        },
        {
          "output_type": "stream",
          "text": [
            "\n"
          ],
          "name": "stdout"
        }
      ]
    },
    {
      "cell_type": "markdown",
      "metadata": {
        "execution": {},
        "id": "V7Kv_bSK1yl9"
      },
      "source": [
        "Let's have a look at what that bit of code did."
      ]
    },
    {
      "cell_type": "code",
      "metadata": {
        "execution": {},
        "id": "y0DO5bRp1yl9",
        "colab": {
          "base_uri": "https://localhost:8080/"
        },
        "outputId": "da31d4b2-1c75-47f3-f147-43fbeebb84ca"
      },
      "source": [
        "distinct_sets_of_k_words[:10]"
      ],
      "execution_count": 33,
      "outputs": [
        {
          "output_type": "execute_result",
          "data": {
            "text/plain": [
              "['he should now',\n",
              " \"Division's promotional effort\",\n",
              " 'faculty in terms',\n",
              " 'about my clothes',\n",
              " 'to deal effectively',\n",
              " 'that people will',\n",
              " 'funds from commercial',\n",
              " 'cleared up widespread',\n",
              " 'fifty dollars .',\n",
              " 'direct and axiomatic']"
            ]
          },
          "metadata": {
            "tags": []
          },
          "execution_count": 33
        }
      ]
    },
    {
      "cell_type": "markdown",
      "metadata": {
        "execution": {},
        "id": "_v1vW2OD1yl9"
      },
      "source": [
        "Great! Now we are going to create a transition matrix for the sets of words."
      ]
    },
    {
      "cell_type": "code",
      "metadata": {
        "cellView": "form",
        "execution": {},
        "id": "mOljz28R1yl9",
        "colab": {
          "base_uri": "https://localhost:8080/",
          "height": 66,
          "referenced_widgets": [
            "84f7cd32e83141b88ee1a93bdce8cfb5",
            "85856481922749fb9a855f0b1495c753",
            "1683c4a5d4b24bb4a6cc37157c0d271a",
            "514082143390402e8f01c63193c480cb",
            "cfe617797f634d5a811176925939408d",
            "b5e145469ef248a18a7f0b01ceb1144b",
            "077967ef43ca4bed87176684b772bab7",
            "c6c613f1f9ba417b965e1e69e4b783f0"
          ]
        },
        "outputId": "010b09d8-a5d8-443b-e452-ac963190d329"
      },
      "source": [
        "# @title Code to populate matrix of sets of words\n",
        "for i, word in tqdm(enumerate(distinct_sets_of_k_words[:-k])):\n",
        "  word_sequence_idx = k_words_idx_dict[word]\n",
        "  next_word_idx = word_idx_dict[corpus_words[i+k]]\n",
        "  next_after_k_words_matrix[word_sequence_idx, next_word_idx] += 1"
      ],
      "execution_count": 34,
      "outputs": [
        {
          "output_type": "display_data",
          "data": {
            "application/vnd.jupyter.widget-view+json": {
              "model_id": "84f7cd32e83141b88ee1a93bdce8cfb5",
              "version_minor": 0,
              "version_major": 2
            },
            "text/plain": [
              "HBox(children=(FloatProgress(value=1.0, bar_style='info', max=1.0), HTML(value='')))"
            ]
          },
          "metadata": {
            "tags": []
          }
        },
        {
          "output_type": "stream",
          "text": [
            "\n"
          ],
          "name": "stdout"
        }
      ]
    },
    {
      "cell_type": "markdown",
      "metadata": {
        "execution": {},
        "id": "-59t0KOD1yl9"
      },
      "source": [
        "We now have what we need to build a stochastic chain over a `K` set of words."
      ]
    },
    {
      "cell_type": "code",
      "metadata": {
        "cellView": "form",
        "execution": {},
        "id": "D-W6WI0i1yl9"
      },
      "source": [
        "# @title Function for stochastic Chain for sets of words\n",
        "def stochastic_chain_sequence(words, chain_length=15, k=2):\n",
        "  current_words = words.split(' ')\n",
        "  if len(current_words) != k:\n",
        "    raise ValueError(f'wrong number of words, expected {k}')\n",
        "  sentence = words\n",
        "\n",
        "  # pre-calculate seq embedding + transition matrix for a given k\n",
        "  matrices = sequences_matrices(k=k)\n",
        "\n",
        "  for _ in range(chain_length):\n",
        "    sentence += ' '\n",
        "    next_word = sample_next_word_after_sequence(matrices,' '.join(current_words))\n",
        "    sentence += next_word\n",
        "    current_words = current_words[1:]+[next_word]\n",
        "  return sentence"
      ],
      "execution_count": 35,
      "outputs": []
    },
    {
      "cell_type": "code",
      "metadata": {
        "cellView": "form",
        "execution": {},
        "id": "U-2gU6Uf1yl-"
      },
      "source": [
        "# @title Function to sample next word after sequence\n",
        "def sample_next_word_after_sequence(matrices, word_sequence, alpha=0):\n",
        "  # unpack a tuple of matrices\n",
        "  k_words_idx_dict,distinct_sets_of_k_words, next_after_k_words_matrix = matrices\n",
        "\n",
        "  next_word_vector = next_after_k_words_matrix[k_words_idx_dict[word_sequence]] + alpha\n",
        "  likelihoods = next_word_vector/next_word_vector.sum()\n",
        "  return weighted_choice(distinct_words, likelihoods.toarray())"
      ],
      "execution_count": 36,
      "outputs": []
    },
    {
      "cell_type": "code",
      "metadata": {
        "execution": {},
        "id": "VPURuzky1yl-",
        "colab": {
          "base_uri": "https://localhost:8080/",
          "height": 83,
          "referenced_widgets": [
            "0cc851d9f2d346a5acfb3863a0dbd259",
            "701f6e63754947d8b61d1fcf49cd881e",
            "a4919b833db046b6a9f25295e85391c6",
            "e465a5748aa24f5894d0a73fc11d036b",
            "39d83952e41040e19e03782f82f3a095",
            "ccf4125be9494bdf9e19c8edc2ec1836",
            "010f3464324644299c07aad4b6bf0f1d",
            "1bd3ec4f298d4663b92977c09eebf8fe"
          ]
        },
        "outputId": "20d77430-13cd-49ff-df15-fa1210a93b49"
      },
      "source": [
        "stochastic_chain_sequence('Judges under the', chain_length=3, k=3)"
      ],
      "execution_count": 37,
      "outputs": [
        {
          "output_type": "display_data",
          "data": {
            "application/vnd.jupyter.widget-view+json": {
              "model_id": "0cc851d9f2d346a5acfb3863a0dbd259",
              "version_minor": 0,
              "version_major": 2
            },
            "text/plain": [
              "HBox(children=(FloatProgress(value=1.0, bar_style='info', max=1.0), HTML(value='')))"
            ]
          },
          "metadata": {
            "tags": []
          }
        },
        {
          "output_type": "stream",
          "text": [
            "\n"
          ],
          "name": "stdout"
        },
        {
          "output_type": "execute_result",
          "data": {
            "application/vnd.google.colaboratory.intrinsic+json": {
              "type": "string"
            },
            "text/plain": [
              "'Judges under the jurisdiction of the'"
            ]
          },
          "metadata": {
            "tags": []
          },
          "execution_count": 37
        }
      ]
    },
    {
      "cell_type": "markdown",
      "metadata": {
        "execution": {},
        "id": "bozlZ9rm1yl-"
      },
      "source": [
        "Great! This sentence was created using two of the techniques we recently saw - creating sets of words, and using a weighted average stochastic chain. Both of these methods contributed in making it a more meaningful sequence of words. Some of these notions are also captured by Recurrent Neural Networks!"
      ]
    },
    {
      "cell_type": "markdown",
      "metadata": {
        "execution": {},
        "id": "EU76QWLO1yl-"
      },
      "source": [
        "### Think! 1.2: How does changing parameters the sentences generated?\n",
        "\n",
        "Try and use a set of words but using a naive chain, and try a stochastic chain with a low value of k (i.e., 2), and a higher value (i.e., 5). How do these different configurations change the quality of the sequences produced? Below you have sample code to try these out.\n",
        "\n",
        "```python\n",
        "stochastic_chain_sequence(..., chain_length=..., k=...)\n",
        "```"
      ]
    },
    {
      "cell_type": "markdown",
      "metadata": {
        "execution": {},
        "id": "5HIQ4PmA1yl-"
      },
      "source": [
        "You should be able to use these matrices and the previous functions to be able to create the necessary configurations."
      ]
    },
    {
      "cell_type": "markdown",
      "metadata": {
        "execution": {},
        "id": "qA7vmtlW1yl-"
      },
      "source": [
        "## Section 1.3: What is a Hidden Markov Model?\n",
        "\n",
        "A 1960s advance (by Leonard Baum and colleagues): Hidden Markov Models are:\n",
        "- a Markov model in which the system modeled is assumed to be a Markov process/chain with unobservable (\"hidden\") states. \n",
        "- HMM assumes there is another surrogate process whose behavior \"depends\" on the state--you learn about the state by observing the surrogate process. \n",
        "- HMMs have successfully been applied in fields where the goal is to recover a data sequence not immediately observable (but other data that depend on the sequence are).\n",
        "- The first dominant application: Speech and text processing (1970s)\n",
        "\n",
        "In this sub-section we will use the python library [hmmlearn](https://hmmlearn.readthedocs.io/en/latest/tutorial.html#training-hmm-parameters-and-inferring-the-hidden-states), which is part of the *scikit-learn* ecosystem. [nlg-with-hmmlearn](https://github.com/mfilej/nlg-with-hmmlearn) offers useful code snippets to adapt ```hmmlearn``` for text data. Because we are using a package that offers many out of the box implementations for HMMs, we don't have to worry about the states, transition matrices, "
      ]
    },
    {
      "cell_type": "code",
      "metadata": {
        "execution": {},
        "id": "DSavfi1p1yl_"
      },
      "source": [
        "# load the data\n",
        "sentences = brown.sents(categories=category)\n",
        "words = [word.lower() for sentence in sentences for word in sentence]\n",
        "lengths = [len(sentence) for sentence in sentences]\n",
        "alphabet = set(words)\n",
        "\n",
        "# Encode words\n",
        "le = LabelEncoder()\n",
        "_ = le.fit(list(alphabet))\n",
        "\n",
        "# Find word freqeuncies\n",
        "seq = le.transform(words)\n",
        "features = np.fromiter(seq, np.int64)\n",
        "features = np.atleast_2d(features).T\n",
        "fd = FreqDist(seq)"
      ],
      "execution_count": 38,
      "outputs": []
    },
    {
      "cell_type": "markdown",
      "metadata": {
        "execution": {},
        "id": "QMx5qMEN1yl_"
      },
      "source": [
        "Now that we have our data setup, we can create our model. We use a multinomial HMM with 8 states, and can either do a random initialisation or use word frequences. We recommend trying both options!"
      ]
    },
    {
      "cell_type": "code",
      "metadata": {
        "execution": {},
        "id": "HkzaAJzp1yl_",
        "cellView": "form"
      },
      "source": [
        "# @title Function to create default Multinomial HMM model\n",
        "def get_model(num_states):\n",
        "  print(\"Initial parameter estimation using built-in method\")\n",
        "  model = hmm.MultinomialHMM(n_components=num_states, init_params='ste')\n",
        "  return model"
      ],
      "execution_count": 39,
      "outputs": []
    },
    {
      "cell_type": "code",
      "metadata": {
        "cellView": "form",
        "execution": {},
        "id": "bf-kw5YJ1yl_",
        "colab": {
          "base_uri": "https://localhost:8080/"
        },
        "outputId": "326d1015-72e5-4be4-a7c1-3078399ecab1"
      },
      "source": [
        "# @title Function to create default Multinomial HMM model information of relative frequencies of words\n",
        "def frequencies(num_states):\n",
        "  print(\"Initial parameter estimation using relative frequencies\")\n",
        "\n",
        "  frequencies = np.fromiter((fd.freq(i) for i in range(len(alphabet))),\n",
        "                            dtype=np.float64)\n",
        "  emission_prob = np.stack([frequencies]*num_states)\n",
        "\n",
        "  model = hmm.MultinomialHMM(n_components=num_states, init_params='st')\n",
        "  model.emissionprob_ = emission_prob\n",
        "  return model\n",
        "\n",
        "\n",
        "print(frequencies(2))"
      ],
      "execution_count": 40,
      "outputs": [
        {
          "output_type": "stream",
          "text": [
            "Initial parameter estimation using relative frequencies\n",
            "MultinomialHMM(algorithm='viterbi', init_params='st', n_components=2, n_iter=10,\n",
            "               params='ste', random_state=None, startprob_prior=1.0, tol=0.01,\n",
            "               transmat_prior=1.0, verbose=False)\n"
          ],
          "name": "stdout"
        }
      ]
    },
    {
      "cell_type": "markdown",
      "metadata": {
        "execution": {},
        "id": "G3iTMKPC1yl_"
      },
      "source": [
        "**Note**:\n",
        "\n",
        "The following lines of code are commented out because they take a long time (~17 mins for default Brown corpus categories). \n",
        "\n",
        "If you do not have that time, you can download the default model to try to generate text. You have to uncomment the appropriate lines.\n",
        "\n",
        "**Note:** Either you may want to uncomment Line 11 or Line 14, not both, as the output variable `model` will be overwritten."
      ]
    },
    {
      "cell_type": "code",
      "metadata": {
        "execution": {},
        "id": "hgMWNMWn1yl_"
      },
      "source": [
        "## Fitting a default multinomial HMM. This is lengthy (~17 mins)\n",
        "def run_model(features, length, num_states):\n",
        "  model = get_model(num_states)\n",
        "  model = model.fit(features, lengths)\n",
        "\n",
        "  return model\n",
        "\n",
        "\n",
        "num_states = 8\n",
        "## Uncomment, if you have time!\n",
        "# model = run_model(features, lengths, num_states)\n",
        "\n",
        "## Another way to get a model is to use default frequencies when initialising the model\n",
        "# model = frequencies(num_states)"
      ],
      "execution_count": 41,
      "outputs": []
    },
    {
      "cell_type": "markdown",
      "metadata": {
        "execution": {},
        "id": "MwRKFFmO1ymA"
      },
      "source": [
        "Alternatively, you could use a saved model. Here is a [link](https://drive.google.com/file/d/1IymcmcO48V6q3x-6dhf7-OU5NByo5W2F/view?usp=sharing) to the default model, which you can download and then upload into Colab."
      ]
    },
    {
      "cell_type": "code",
      "metadata": {
        "execution": {},
        "id": "wtkVywxn1ymA",
        "cellView": "form"
      },
      "source": [
        "# @markdown Execute this cell to download the saved model.\n",
        "## code to load the saved model\n",
        "url = \"https://osf.io/5k6cs/download\"\n",
        "urllib.request.urlretrieve(url, 'model_w2d3_t1.pkl')\n",
        "with open(\"model_w2d3_t1.pkl\", \"rb\") as file:\n",
        "  model = pickle.load(file)"
      ],
      "execution_count": 42,
      "outputs": []
    },
    {
      "cell_type": "code",
      "metadata": {
        "cellView": "form",
        "execution": {},
        "id": "qMASmgEP1ymA"
      },
      "source": [
        "# @title Function to generate words given a hmm model\n",
        "def generate_text(model, num_lines = 5, random_len=15):\n",
        "  for _i in range(num_lines):\n",
        "    set_seed(_i)\n",
        "    symbols, _states = model.sample(random_len)\n",
        "\n",
        "    output = le.inverse_transform(np.squeeze(symbols))\n",
        "    for word in output:\n",
        "      print(word, end=\" \")\n",
        "    print()"
      ],
      "execution_count": 43,
      "outputs": []
    },
    {
      "cell_type": "code",
      "metadata": {
        "execution": {},
        "id": "pi9f0vlX1ymA",
        "colab": {
          "base_uri": "https://localhost:8080/"
        },
        "outputId": "e10eade3-1201-4d16-89d3-e1a96c1642f0"
      },
      "source": [
        "generate_text(model, num_lines=2, random_len=20)"
      ],
      "execution_count": 44,
      "outputs": [
        {
          "output_type": "stream",
          "text": [
            "Random seed 0 has been set.\n",
            "until 15 manner on of of a in broaden of four and a his expressed he no the . building \n",
            "Random seed 1 has been set.\n",
            "to of more of service aide issue the take two a they and find heroism had to only smu the \n"
          ],
          "name": "stdout"
        }
      ]
    },
    {
      "cell_type": "markdown",
      "metadata": {
        "execution": {},
        "id": "JcBMxPVg1ymA"
      },
      "source": [
        "We see that a hidden markov model also does well in generating text. We encourage you to try out different initialisations and hyperparameters to see how the model does."
      ]
    },
    {
      "cell_type": "markdown",
      "metadata": {
        "execution": {},
        "id": "SnP-EtBH1ymA"
      },
      "source": [
        "### Exercise 1.3: Transition probabilities \n",
        "\n",
        "\n",
        "We have seen how we can use sequences of text to form probability chains, as well as how we can use out of the box models to generate text. In this exercise, you will be using your own data to generate sequences using ```hmmlearn``` or any other implementation of a markov model. Explore the transition probabilities in your corpus and generate sentences. For example, one such exploration can be - how does using a model with the word frequencies incorporated in compare to using a default model?\n",
        "\n",
        "Perform any one such comparison or exploration, and generate 3 sentences or 50 words using your model. You should be able to use all the existing functions defined for this exercise."
      ]
    },
    {
      "cell_type": "code",
      "metadata": {
        "execution": {},
        "id": "FIz1WcrB1ymB"
      },
      "source": [
        "# load your own dataset and create a model using the frequencies based HMM model!"
      ],
      "execution_count": 45,
      "outputs": []
    },
    {
      "cell_type": "markdown",
      "metadata": {
        "execution": {},
        "id": "cL0JsvZ_1ymB"
      },
      "source": [
        "### Useful links for Markov Models and HMM:\n",
        "\n",
        "Here are some useful links if you wish to explore this topic further.\n",
        "\n",
        "- [Markov Chain Text](https://towardsdatascience.com/simulating-text-with-markov-chains-in-python-1a27e6d13fc6)\n",
        "\n",
        "- [Python QuantEcon: Finite Markov Chains with Finance](https://python.quantecon.org/finite_markov.html)\n",
        "\n",
        "- [Markov Models from the ground up, with python](https://ericmjl.github.io/essays-on-data-science/machine-learning/markov-models/)\n",
        "\n",
        "- [GenTex](https://github.com/nareshkumar66675/GenTex)\n",
        "\n",
        "- [HMM learn](https://hmmlearn.readthedocs.io/en/latest/tutorial.html)"
      ]
    },
    {
      "cell_type": "markdown",
      "metadata": {
        "execution": {},
        "id": "oM3TMI3H1ymB"
      },
      "source": [
        "---\n",
        "# Section 2: Word Embeddings\n"
      ]
    },
    {
      "cell_type": "code",
      "metadata": {
        "cellView": "form",
        "execution": {},
        "id": "C9b3_mJQ1ymD",
        "colab": {
          "base_uri": "https://localhost:8080/",
          "height": 579,
          "referenced_widgets": [
            "5976a1f74727427796cfa5ad3a904199",
            "436c12f4fe0b4235baf69bc986fe63cc",
            "4221d075197842c3aed118df5a90d9fe",
            "c31c06df195b4a05a5f35702f9fd7ac1",
            "73ae63554a2e4b3db3fdaaadeed05188",
            "171209b14882401fa4614e01e7d0c753"
          ]
        },
        "outputId": "306ecf4d-bc17-43a8-d542-ef2df77290ed"
      },
      "source": [
        "# @title Video 2: Textual Dimension Reduction\n",
        "from ipywidgets import widgets\n",
        "\n",
        "out2 = widgets.Output()\n",
        "with out2:\n",
        "  from IPython.display import IFrame\n",
        "  class BiliVideo(IFrame):\n",
        "    def __init__(self, id, page=1, width=400, height=300, **kwargs):\n",
        "      self.id=id\n",
        "      src = \"https://player.bilibili.com/player.html?bvid={0}&page={1}\".format(id, page)\n",
        "      super(BiliVideo, self).__init__(src, width, height, **kwargs)\n",
        "\n",
        "  video = BiliVideo(id=f\"BV1oM4y1P7Mn\", width=854, height=480, fs=1)\n",
        "  print(\"Video available at https://www.bilibili.com/video/{0}\".format(video.id))\n",
        "  display(video)\n",
        "\n",
        "out1 = widgets.Output()\n",
        "with out1:\n",
        "  from IPython.display import YouTubeVideo\n",
        "  video = YouTubeVideo(id=f\"kweySXAZ1os\", width=854, height=480, fs=1, rel=0)\n",
        "  print(\"Video available at https://youtube.com/watch?v=\" + video.id)\n",
        "  display(video)\n",
        "\n",
        "out = widgets.Tab([out1, out2])\n",
        "out.set_title(0, 'Youtube')\n",
        "out.set_title(1, 'Bilibili')\n",
        "\n",
        "display(out)"
      ],
      "execution_count": 46,
      "outputs": [
        {
          "output_type": "display_data",
          "data": {
            "application/vnd.jupyter.widget-view+json": {
              "model_id": "5976a1f74727427796cfa5ad3a904199",
              "version_minor": 0,
              "version_major": 2
            },
            "text/plain": [
              "Tab(children=(Output(), Output()), _titles={'0': 'Youtube', '1': 'Bilibili'})"
            ]
          },
          "metadata": {
            "tags": []
          }
        }
      ]
    },
    {
      "cell_type": "markdown",
      "metadata": {
        "execution": {},
        "id": "29AP_vFE1ymE"
      },
      "source": [
        "\n",
        "Words or subword units such as morphemes are the basic units that we use to express meaning  in language. The technique of mapping words to vectors of real numbers is known as word embedding. \n",
        "\n",
        "Word2vec is based on theories of distributional semantics - words that appear around each other are more likely to mean similar things than words that do not appear around each other. Keeping this in mind, our job is to create a high dimensional space where these semantic relations are preserved. The innovation in word2vec is the realisation that we can use unlabelled, running text in sentences as inputs for a supervised learning algorithm--as a self-supervision task. It is supervised because we use the words in a sentence to serve as positive and negative examples. Let’s break this down:\n",
        "\n",
        "... \"use the kitchen knife to chop the vegetables\"…\n",
        "\n",
        "**C1   C2   C3   T   C4   C5   C6   C7**\n",
        "\n",
        "Here, the target word is knife, and the context words are the ones in its immediate (6-word) window. \n",
        "The first word2vec method we’ll see is called skipgram, where the task is to assign a probability for how likely it is that the context window appears around the target word. In the training process, positive examples are samples of words and their context words, and negative examples are created by sampling from pairs of words that do not appear nearby one another. \n",
        "\n",
        "This method of implementing word2vec is called skipgram with negative sampling. So while the algorithm tries to better learn which context words are likely to appear around a target word, it ends up pushing the embedded representations for every word so that they are located optimally (e.g., with minimal semantic distortion). In this process of adjusting embedding values, the algorithm brings semantically similar words close together in the resulting high dimensional space, and dissimilar words far away. \n",
        "\n",
        "Another word2vec training method, Continuous Bag of Words (CBOW), works in a similar fashion, and tries to predict the target word, given context. This is converse of skipgram, which tries to predict the context, given the target word. Skip-gram represents rare words and phrases well, often requiring more data for stable representations, while CBOW is several times faster to train than the skip-gram, but with slightly better accuracy for the frequent words in its prediction task. The popular gensim implementation of word2vec has both the methods included.  "
      ]
    },
    {
      "cell_type": "markdown",
      "metadata": {
        "execution": {},
        "id": "MM33RmkV1ymE"
      },
      "source": [
        "## Section 2.1: Creating Word Embeddings\n",
        "\n",
        "We will create embeddings for a subset of categories in [Brown corpus](https://www1.essex.ac.uk/linguistics/external/clmt/w3c/corpus_ling/content/corpora/list/private/brown/brown.html).  In order to achieve this task we will use [gensim](https://radimrehurek.com/gensim/) library to create word2vec embeddings. Gensim’s word2vec expects a sequence of sentences as its input. Each sentence is a list of words.\n",
        "Calling `Word2Vec(sentences, iter=1)` will run two passes over the sentences iterator (or, in general iter+1 passes). The first pass collects words and their frequencies to build an internal dictionary tree structure. The second and subsequent passes train the neural model. \n",
        "`Word2vec` accepts several parameters that affect both training speed and quality.\n",
        "\n",
        "One of them is for pruning the internal dictionary. Words that appear only once or twice in a billion-word corpus are probably uninteresting typos and garbage. In addition, there’s not enough data to make any meaningful training on those words, so it’s best to ignore them:\n",
        "\n",
        "`model = Word2Vec(sentences, min_count=10)  # default value is 5`\n",
        "\n",
        "\n",
        "A reasonable value for min_count is between 0-100, depending on the size of your dataset.\n",
        "\n",
        "Another parameter is the size of the NN layers, which correspond to the “degrees” of freedom the training algorithm has:\n",
        "\n",
        "`model = Word2Vec(sentences, size=200)  # default value is 100`\n",
        "\n",
        "\n",
        "Bigger size values require more training data, but can lead to better (more accurate) models. Reasonable values are in the tens to hundreds.\n",
        "\n",
        "The last of the major parameters (full list [here](https://radimrehurek.com/gensim/models/word2vec.html#gensim.models.word2vec.Word2Vec)) is for training parallelization, to speed up training:\n",
        "\n",
        "`model = Word2Vec(sentences, workers=4) # default = 1 worker = no parallelization`"
      ]
    },
    {
      "cell_type": "code",
      "metadata": {
        "execution": {},
        "id": "rXzXuezx1ymE"
      },
      "source": [
        "category = ['editorial', 'fiction', 'government', 'mystery', 'news', 'religion',\n",
        "            'reviews', 'romance', 'science_fiction']"
      ],
      "execution_count": 47,
      "outputs": []
    },
    {
      "cell_type": "code",
      "metadata": {
        "execution": {},
        "id": "sxREHnkC1ymF"
      },
      "source": [
        "def create_word2vec_model(category='news', size=50, sg=1, min_count=5):\n",
        "  try:\n",
        "    sentences = brown.sents(categories=category)\n",
        "    model = Word2Vec(sentences, vector_size=size, sg=sg, min_count=min_count)\n",
        "\n",
        "  except (AttributeError, TypeError):\n",
        "      raise AssertionError('Input variable \"category\" should be a string or list,'\n",
        "      '\"size\", \"sg\", \"min_count\" should be integers')\n",
        "\n",
        "  return model\n",
        "\n",
        "def model_dictionary(model):\n",
        "  words = list(model.wv.key_to_index)\n",
        "  return words\n",
        "\n",
        "def get_embedding(word, model):\n",
        "  if word in model.wv.key_to_index:\n",
        "    return model.wv[word]\n",
        "  else:\n",
        "    return None"
      ],
      "execution_count": 48,
      "outputs": []
    },
    {
      "cell_type": "code",
      "metadata": {
        "execution": {},
        "id": "yyXBNUHt1ymF"
      },
      "source": [
        "all_categories = brown.categories()"
      ],
      "execution_count": 49,
      "outputs": []
    },
    {
      "cell_type": "code",
      "metadata": {
        "execution": {},
        "id": "lt_BJ3u21ymF",
        "colab": {
          "base_uri": "https://localhost:8080/"
        },
        "outputId": "009eb1e1-7ecd-4672-ce8d-0450294487c8"
      },
      "source": [
        "all_categories"
      ],
      "execution_count": 50,
      "outputs": [
        {
          "output_type": "execute_result",
          "data": {
            "text/plain": [
              "['adventure',\n",
              " 'belles_lettres',\n",
              " 'editorial',\n",
              " 'fiction',\n",
              " 'government',\n",
              " 'hobbies',\n",
              " 'humor',\n",
              " 'learned',\n",
              " 'lore',\n",
              " 'mystery',\n",
              " 'news',\n",
              " 'religion',\n",
              " 'reviews',\n",
              " 'romance',\n",
              " 'science_fiction']"
            ]
          },
          "metadata": {
            "tags": []
          },
          "execution_count": 50
        }
      ]
    },
    {
      "cell_type": "code",
      "metadata": {
        "execution": {},
        "id": "bW_Px0GH1ymF"
      },
      "source": [
        "w2vmodel = create_word2vec_model(all_categories)"
      ],
      "execution_count": 51,
      "outputs": []
    },
    {
      "cell_type": "code",
      "metadata": {
        "execution": {},
        "id": "CP1B42FF1ymG",
        "colab": {
          "base_uri": "https://localhost:8080/"
        },
        "outputId": "3c285462-f2b9-420e-97d9-8efa5eb0fda3"
      },
      "source": [
        "print(model_dictionary(w2vmodel))"
      ],
      "execution_count": 52,
      "outputs": [
        {
          "output_type": "stream",
          "text": [
            "['the', ',', '.', 'of', 'and', 'to', 'a', 'in', 'that', 'is', 'was', 'for', '``', \"''\", 'The', 'with', 'it', 'as', 'he', 'his', 'on', 'be', ';', 'I', 'by', 'had', 'at', '?', 'not', 'are', 'from', 'or', 'this', 'have', 'an', 'which', '--', 'were', 'but', 'He', 'her', 'one', 'they', 'you', 'all', 'would', 'him', 'their', 'been', ')', '(', 'has', 'will', 'who', 'more', 'out', 'It', 'we', 'she', 'said', 'there', 'up', 'In', ':', 'than', 'them', 'into', 'no', 'its', 'about', 'so', 'when', 'can', 'only', 'other', '!', 'could', 'time', 'if', 'what', 'some', 'But', 'A', 'two', 'any', 'may', 'do', 'first', 'like', 'these', 'over', 'such', 'This', 'me', 'my', 'man', 'our', 'made', 'new', 'most', 'now', 'then', 'must', 'also', 'Af', 'did', 'even', 'back', 'before', 'years', 'through', 'And', 'many', 'She', 'much', 'way', 'down', 'your', 'should', 'There', 'where', 'They', 'Mr.', 'after', 'because', 'people', 'too', 'little', 'those', 'very', 'own', 'make', 'good', 'each', 'well', 'work', 'just', 'men', 'If', 'still', 'see', 'get', 'between', 'long', 'being', 'world', 'know', 'same', 'We', 'life', 'us', 'might', 'never', 'year', 'under', 'For', 'both', 'last', 'off', 'how', 'day', 'came', 'against', 'used', 'great', 'here', 'go', 'himself', 'right', 'come', 'When', 'few', 'take', 'New', 'another', 'American', 'old', 'use', 'while', 'around', 'three', 'As', 'state', 'without', 'found', 'again', 'Mrs.', 'His', 'place', '1', 'home', 'You', 'small', 'thought', 'went', 'say', 'upon', 'What', 'left', 'got', 'number', 'part', 'course', 'United', 'high', 'since', 'during', 'away', 'always', 'fact', '2', 'does', 'States', 'every', 'until', 'water', 'think', 'less', 'enough', 'To', 'took', 'put', 'head', 'something', 'One', 'hand', 'school', 'once', 'told', 'far', 'At', 'set', 'almost', 'better', 'public', 'house', 'end', 'night', 'called', 'find', 'knew', 'system', \"didn't\", 'going', 'eyes', \"don't\", 'asked', 'however', 'group', 'toward', 'give', 'days', 'though', 'point', 'possible', 'program', 'given', 'face', 'per', 'present', 'side', 'looked', 'room', 'important', 'look', 'order', 'business', 'next', 'things', 'John', 'become', 'young', 'No', 'nothing', 'That', 'felt', 'later', 'social', 'Then', 'case', 'rather', 'large', 'need', 'form', 'saw', 'often', 'On', 'These', 'least', 'children', 'along', 'best', 'second', 'several', 'seemed', 'early', 'ever', 'Of', 'thing', 'want', 'power', 'four', 'mind', 'interest', 'within', 'turned', 'light', 'area', \"'\", 'done', 'big', 'among', 'problem', 'members', 'country', 'began', 'door', 'family', 'general', 'sense', 'development', 'kind', 'whole', 'different', 'matter', 'open', 'war', 'itself', 'certain', 'help', 'York', 'God', 'human', 'others', 'let', 'name', 'means', '3', 'action', 'example', 'hands', 'gave', 'yet', 'feet', 'line', 'taken', 'law', 'With', 'past', 'seen', 'All', 'above', 'across', 'local', 'either', 'experience', 'government', 'show', 'quite', 'car', 'themselves', 'words', 'Now', \"I'm\", 'body', 'history', 'really', 'anything', 'times', 'death', 'period', 'State', 'half', 'word', 'together', 'city', 'held', 'money', 'information', 'whether', 'cannot', 'having', 'already', 'week', 'President', 'shall', 'white', 'political', 'brought', 'making', 'seems', 'real', 'question', 'whose', 'keep', 'ago', 'moment', 'today', 'After', 'tell', 'known', 'service', 'became', 'behind', 'field', 'result', 'free', 'five', 'why', 'available', 'problems', 'heard', 'sure', 'reason', 'study', 'position', 'change', 'probably', 'job', 'boy', 'areas', 'individual', 'special', 'Miss', 'So', 'close', 'seem', 'major', 'wife', 'wanted', 'turn', 'am', 'full', 'church', 'cost', 'necessary', 'policy', 'voice', 'economic', 'clear', 'company', 'air', 'woman', 'true', 'front', 'able', 'feel', 'age', 'future', 'perhaps', 'community', 'office', 'provide', 'love', 'effect', 'national', 'level', 'stood', 'Some', 'girl', 'How', 'child', 'rate', 'total', 'control', 'common', 'morning', 'short', '4', 'Washington', 'run', 'following', 'students', 'million', 'By', 'sound', 'evidence', 'town', 'force', 'value', 'mean', 'hard', 'believe', 'top', 'land', 'leave', 'surface', 'although', 'An', 'play', 'type', 'situation', 'plan', 'six', 'military', 'process', 'various', 'English', 'party', 'started', 'increase', 'lines', 'says', 'strong', 'further', 'music', 'America', 'minutes', 'idea', 'longer', 'Dr.', 'personal', 'society', 'House', 'tax', 'alone', 'mother', 'near', 'schools', 'outside', 'gone', 'usually', 'months', 'General', 'center', 'needed', 'Not', 'West', 'private', 'expected', 'kept', 'nature', 'values', 'Even', 'living', 'century', 'pressure', 'basis', 'ground', 'art', 'view', 'women', \"I'll\", 'wrote', 'required', 'greater', 'South', 'call', 'moved', 'modern', 'cut', 'conditions', 'complete', 'road', 'particular', 'return', 'support', 'attention', 'book', 'soon', 'else', 'education', 'live', 'material', 'late', \"couldn't\", 'lost', 'Since', 'stage', 'hours', 'single', 'followed', 'amount', '1960', 'costs', 'except', 'added', 'third', 'space', 'hundred', 'coming', 'However', 'board', 'dark', 'including', 'fire', 'tried', 'person', 'heart', 'miles', 'pay', 'reached', 'developed', 'move', 'feeling', 'act', 'recent', 'makes', 'read', 'shown', 'Thus', 'figure', 'simply', 'dead', 'hope', 'class', 'Department', 'St.', 'equipment', 'From', 'National', 'received', 'taking', 'basic', '&', 'doing', 'college', 'looking', 'trying', 'everything', 'sometimes', 'Why', 'inside', 'hold', 'picture', 'cold', 'sort', 'industry', 'U.S.', 'data', 'rest', 'spirit', \"It's\", 'low', 'father', 'terms', 'difficult', 'care', 'War', 'walked', 'nor', 'beginning', 'subject', 'states', 'getting', 'religious', 'passed', 'My', 'floor', 'beyond', 'bring', 'especially', 'black', 'therefore', 'cent', 'simple', 'range', 'England', 'property', 'paper', 'report', 'written', 'needs', '10', 'natural', 'Secretary', 'hear', 'final', \"can't\", 'Her', 'higher', 'growth', 'likely', 'talk', 'meeting', 'considered', 'Congress', 'friends', 'sat', 'answer', 'entire', 'fine', 'ten', 'forces', 'countries', 'story', 'difference', 'working', \"wasn't\", 'table', 'William', 'cases', 'building', 'hair', 'involved', 'meet', 'similar', 'Government', 'training', 'happened', 'street', 'thus', 'hour', 'effort', 'purpose', 'stand', 'Christian', 'issue', 'paid', 'North', 'sent', 'knowledge', 'earlier', 'points', 'market', 'Here', 'whom', 'ready', 'particularly', \"it's\", '5', 'decided', 'results', 'statement', 'increased', 'addition', 'showed', 'East', 'start', 'thinking', 'production', 'Kennedy', 'Well', 'letter', 'son', 'due', 'wall', 'weeks', 'French', 'moral', 'bad', 'girls', 'methods', 'size', 'reading', 'programs', 'ideas', 'stock', 'directly', 'color', 'understand', 'method', 'population', 'fall', 'Yet', 'Island', 'appeared', 'normal', 'lay', 'concerned', 'strength', 'foreign', 'food', 'police', 'Federal', 'City', 'deal', '1961', 'nearly', 'trade', 'record', 'questions', 'merely', 'continued', 'comes', 'peace', 'member', 'research', 'using', 'ran', 'influence', 'section', 'direction', 'During', 'summer', 'boys', 'below', 'husband', 'finally', 'trouble', 'literature', 'physical', 'opened', 'suddenly', 'month', 'led', 'list', 'step', 'temperature', 'stopped', 'cause', 'met', 'piece', 'instead', 'George', 'chance', 'try', 'services', 'Soviet', 'worked', 'effective', 'evening', 'anyone', 'former', 'myself', 'wrong', 'provided', 'theory', 'actually', 'average', 'forms', 'ways', 'bed', 'defense', 'changes', 'lead', 'placed', \"I've\", 'groups', 'Church', 'sales', \"wouldn't\", 'efforts', 'president', 'degree', 'herself', 'friend', 'systems', 'manner', 'University', 'movement', 'lot', 'carried', 'meaning', 'truth', 'aid', 'wide', 'somewhat', 'Although', 'respect', 'fear', 'plant', 'series', 'throughout', 'treatment', 'direct', 'performance', 'game', 'beautiful', 'larger', 'works', 'red', 'approach', 'easy', 'reaction', 'Just', 'couple', 'numbers', 'C', 'While', 'charge', 'described', 'court', 'opportunity', 'remember', 'J.', 'indeed', 'decision', 'determined', 'served', 'First', 'eye', 'running', 'freedom', 'labor', 'generally', 'window', 'understanding', 'reported', 'clearly', 'Each', 'trial', 'hot', 'Europe', 'nation', 'medical', 'Aj', 'British', 'lower', 'S.', 'immediately', 'international', 'certainly', 'character', 'account', 'persons', 'image', 'nations', 'appear', 'feed', 'ask', 'fiscal', 'based', 'earth', 'responsibility', 'learned', 'Act', 'activity', 'steps', 'obtained', 'returned', 'volume', 'forward', 'audience', 'technical', 'arms', \"man's\", 'length', 'planning', 'ones', 'industrial', '6', 'types', 'gives', 'blood', 'function', 'saying', 'doubt', 'serious', 'test', 'straight', '15', 'lived', 'corner', 'quality', 'farm', 'plane', '30', 'latter', 'federal', 'hit', 'Such', 'according', 'Another', 'square', 'Brown', 'include', 'White', 'pattern', 'writing', 'horse', 'Our', 'extent', 'completely', 'choice', 'organization', 'A.', 'stop', 'Court', 'May', 'letters', 'moving', 'activities', 'nuclear', 'born', 'student', 'design', 'specific', 'progress', 'parts', 'cars', 'recently', 'wish', 'Oh', 'shot', 'pool', 'Southern', 'visit', 'lack', 'established', 'distance', 'firm', 'main', 'importance', 'effects', 'indicated', 'slowly', 'plans', 'expect', 'Their', 'Negro', 'principle', 'spring', 'hall', 'neither', 'stress', 'heavy', 'speak', 'stay', 'additional', 'operation', 'existence', 'cities', 'attitude', 'easily', 'remained', 'leaders', 'designed', 'ahead', 'consider', 'applied', '8', 'note', 'central', 'language', 'growing', 'science', 'write', 'reach', 'radio', 'afternoon', 'season', 'Many', 'continue', 'Rhode', 'closed', \"I'd\", 'covered', 'Do', 'Most', 'interested', 'spent', 'becomes', 'College', 'role', 'apparently', 'waiting', 'press', 'Union', \"won't\", 'analysis', 'faith', 'elements', 'serve', 'suggested', 'mouth', 'played', 'World', 'attack', 'Western', 'staff', 'administration', '1959', 'limited', 'reasons', 'scene', 'original', 'date', \"Don't\", 'B', 'prepared', 'factors', 'sun', 'Only', 'married', 'teeth', 'professional', 'rise', 'Sunday', 'bit', 'religion', 'exactly', 'built', 'current', 'Two', 'deep', 'raised', 'dropped', 'ball', 'James', 'demand', 'playing', 'price', 'meant', 'Thomas', 'rates', 'figures', 'race', 'filled', 'hardly', 'sides', 'talking', 'pretty', 'places', 'daily', 'gun', 'events', 'June', 'knows', \"hadn't\", 'machine', 'related', 'Is', 'Chicago', 'Street', 'entered', 'facilities', 'techniques', 'concern', 'claim', 'style', 'March', 'fight', 'income', 'blue', \"That's\", 'supply', 'caught', 'dollars', 'officer', 'Christ', '12', 'energy', 'glass', 'standing', 'Charles', 'actual', 'status', 'usual', 'institutions', 'walk', 'popular', 'studies', 'products', 'attempt', 'trees', 'behavior', 'share', 'thousand', 'changed', '7', 'opinion', 'accepted', 'included', 'unit', 'materials', 'gas', 'considerable', 'seven', 'film', 'green', 'shows', 'remain', 'relations', 'drive', 'older', 'station', \"you're\", 'primary', 'eight', 'Perhaps', 'Old', 'Americans', 'C.', 'standard', 'successful', 'giving', 'practice', 'highly', 'Communist', 'books', '20', 'fell', 'marriage', 'middle', 'none', 'thin', 'obvious', 'proper', 'Jack', 'tradition', 'sitting', 'determine', 'pieces', 'poor', 'Let', 'Mike', 'worth', 'objective', 'arm', '1958', 'sign', 'structure', 'happy', 'radiation', 'project', 'dinner', 'weight', 'produced', 'kitchen', 'funds', 'entirely', 'caused', 'follow', 'heat', 'complex', 'source', 'purposes', 'balance', 'university', \"that's\", 'cattle', 'news', 'condition', 'London', 'annual', 'leadership', 'construction', 'goes', 'mass', 'regard', 'Yes', 'famous', 'noted', 'discussion', 'health', 'Or', 'develop', 'announced', 'Committee', 'unless', 'equal', 'management', 'principal', 'River', 'names', 'carry', \"isn't\", 'whatever', 'Mary', 'measure', 'clothes', 'laws', 'pain', 'oil', 'enemy', 'units', 'Where', 'quickly', 'obviously', 'Both', 'possibility', 'spoke', 'relationship', 'doctor', 'break', 'allowed', 'takes', 'pass', 'companies', 'finished', 'E.', 'Association', 'facts', 'inches', 'Lord', 'died', 'patient', 'touch', 'success', 'failure', 'German', 'require', 'loss', 'cover', 'marked', 'concept', 'records', 'frequently', 'build', \"doesn't\", 'More', 'Once', 'published', 'County', 'assistance', 'greatest', 'Corps', 'remains', 'stated', 'aware', 'previous', 'relatively', 'significant', 'appears', 'Catholic', 'carefully', 'base', 'variety', 'stations', 'clay', 'shape', 'bridge', 'W.', 'distribution', 'product', 'prevent', 'sight', 'learn', 'authority', 'Henry', 'hotel', 'capacity', 'interests', 'Robert', 'collection', 'offered', 'remembered', 'dance', 'sources', 'churches', 'opening', 'requirements', 'impossible', 'poetry', 'presented', '25', 'produce', 'active', 'instance', 'begin', 'broad', 'ship', 'circumstances', 'chief', 'named', 'proposed', 'slightly', 'fixed', 'trip', 'watched', 'operating', 'team', 'Germany', 'scientific', 'created', 'interesting', 'jazz', 'houses', 'provides', 'immediate', 'officers', 'cells', 'parents', 'financial', 'event', 'philosophy', 'sex', 'essential', 'key', 'agreed', 'recognized', 'fully', 'committee', 'explained', 'sea', 'bottom', 'subjects', 'capital', 'campaign', 'workers', 'indicate', 'leaving', 'yesterday', 'manager', 'agreement', 'musical', 'Russian', 'features', 'lives', 'speed', 'spread', 'operations', 'offer', 'forced', 'expression', 'desire', 'term', 'regular', 'drink', 'apartment', 'mentioned', 'studied', 'Sam', 'session', 'atmosphere', 'add', 'enter', 'teacher', 'reports', 'opposite', 'reality', 'fast', 'maximum', 'differences', 'union', 'Its', 'neck', 'picked', '-', 'citizens', 'someone', 'battle', 'bill', '100', 'laid', 'crisis', 'bright', 'secret', 'Providence', 'edge', 'poems', 'looks', 'river', 'district', 'traditional', 'smaller', 'anode', 'reduced', 'train', 'believed', 'favor', 'winter', 'director', 'strange', 'Club', 'editor', 'Commission', 'Council', 'watch', 'procedure', 'literary', 'beside', 'bottle', 'School', 'classes', 'index', 'formed', 'economy', 'B.', 'buildings', 'follows', 'fresh', 'response', 'rules', 'receive', 'separate', 'address', 'difficulty', 'France', 'file', 'treated', 'Red', 'memory', 'removed', 'killed', 'stayed', 'hearing', 'justice', 'presence', 'permit', 'vote', 'Jr.', 'Virginia', 'hospital', \"he'd\", 'Other', 'coffee', 'expressed', 'pointed', 'tone', 'Jewish', 'quiet', 'observed', 'ability', 'check', 'fit', 'seeing', 'security', 'failed', 'November', 'Berlin', 'watching', 'De', 'Army', 'nine', 'hell', 'discovered', 'contrast', 'faculty', 'twenty', 'knife', 'frame', 'selected', 'advantage', 'gain', 'Louis', 'wait', 'pulled', 'youth', 'everyone', 'Morgan', 'resources', 'official', 'Russia', 'store', 'murder', 'Because', 'Company', 'election', 'personnel', 'individuals', 'Jones', 'planned', 'assumed', 'standards', 'T', 'positive', 'familiar', 'detail', 'proved', 'accept', 'smiled', 'increasing', 'forth', 'items', 'Richard', 'chosen', 'legal', 'region', 'factor', 'writer', 'broke', 'brother', 'H.', 'faces', 'bar', 'responsible', 'dog', 'allow', 'Also', 'send', 'Rome', 'Mercer', 'San', 'round', 'sharp', 'platform', 'solid', 'corporation', 'evil', 'brief', 'carrying', 'county', 'daughter', 'April', 'Service', 'rose', 'wants', 'buy', 'levels', 'increases', 'suppose', 'otherwise', 'fields', 'realize', 'realized', 'seek', 'walls', 'shelter', 'nice', 'rich', 'leader', 'waited', 'rights', 'constant', 'Texas', 'vocational', 'die', 'club', 'willing', 'boat', 'ordered', 'Board', 'won', 'Before', 'Monday', 'rule', 'characteristic', 'completed', 'Democratic', 'Khrushchev', 'historical', 'connection', 'minimum', 'animal', 'poet', 'danger', 'settled', 'flow', 'Those', 'dust', 'calls', 'principles', 'lips', 'drawn', 'horses', 'foot', 'sweet', 'writers', 'fair', 'compared', 'maybe', 'statements', 'wine', 'largely', 'answered', 'career', 'yourself', 'appropriate', 'Paris', 'actions', 'thick', 'excellent', 'powers', 'legs', 'beauty', 'asking', 'occurred', 'Saturday', 'plus', 'Moreover', 'camp', 'dogs', 'ordinary', 'ends', 'potential', 'Du', 'significance', 'background', 'unity', 'dress', 'ourselves', 'helped', 'policies', 'July', 'upper', 'issues', 'flat', 'practical', 'Hanover', 'independent', 'phase', 'dry', 'substantial', 'fingers', 'rain', 'relief', 'box', 'reference', 'initial', 'impact', 'signs', 'quick', 'block', 'intellectual', 'directed', 'division', 'chair', 'despite', 'ought', 'twice', 'emotional', 'declared', 'telephone', 'weather', 'membership', 'sections', \"He's\", 'Though', 'projects', 'D.', 'brown', 'plays', 'wore', 'educational', 'imagination', 'California', 'search', 'adequate', 'Maybe', 'rapidly', 'electronic', 'claims', 'employees', 'politics', 'gets', 'supposed', 'hung', 'estimated', 'sit', 'measured', 'Phil', 'Peace', 'leading', 'Bill', 'fashion', 'desk', 'beat', 'stands', 'warm', 'communication', 'matters', 'empty', 'gray', 'object', 'clean', 'objects', 'protection', 'families', 'wonder', 'Day', 'Laos', 'reasonable', 'capable', 'bodies', 'aircraft', 'application', 'teachers', 'discussed', 'grew', 'site', 'approximately', 'cell', 'happen', 'yards', 'drew', 'fighting', 'King', 'fifty', 'belief', 'birth', 'argument', 'Tom', 'China', 'aspects', 'located', 'spiritual', 'jury', 'message', 'Parker', 'ancient', 'broken', 'jobs', 'grow', 'explain', 'Jesus', 'universe', 'primarily', 'closely', 'holding', 'contemporary', 'typical', 'model', 'sleep', \"one's\", 'dominant', 'newspaper', 'arrived', 'assignment', 'unusual', 'relation', 'mission', 'recognize', 'passing', 'December', 'struggle', 'honor', 'turning', 'M.', '9', 'greatly', 'powerful', 'reduce', 'cutting', 'billion', 'highest', 'kill', 'towards', 'assume', 'dramatic', 'achieved', 'north', 'benefit', 'resolution', '11', 'fellow', 'drove', 'Wilson', 'sufficient', 'affairs', 'pictures', 'portion', 'agencies', 'wind', 'narrow', 'friendly', 'Greek', 'properties', 'Boston', 'weapons', 'procedures', 'homes', 'post', 'department', '50', 'liberal', 'U.', 'Are', 'master', 'escape', 'prices', 'soft', 'starting', 'European', 'showing', 'conference', 'Sir', 'teaching', 'R.', 'page', 'speech', 'rising', 'column', 'stared', 'learning', 'machinery', 'refused', 'commercial', \"he's\", 'sets', 'everybody', 'experiment', 'goal', 'extreme', 'onto', 'vast', 'experiments', 'location', 'traffic', 'contained', 'careful', 'closer', 'feelings', 'Finally', 'pleasure', 'join', 'nose', 'dream', 'save', 'Who', 'Friday', 'fourth', \"you'll\", 'maintain', 'domestic', 'existing', 'sensitive', 'Under', 'F.', 'Bible', 'exchange', 'Sometimes', 'exist', 'score', 'task', 'shoulder', 'conclusion', 'heavily', 'finds', 'eat', 'ended', 'contract', 'struck', 'headed', 'equally', 'organizations', 'Negroes', 'south', 'tomorrow', 'Central', 'ideal', 'novel', 'rifle', 'maintenance', 'ultimate', 'setting', 'concerning', 'formula', 'technique', 'cool', \"You're\", 'India', 'tests', 'emphasis', 'circle', 'understood', 'metal', 'exercise', 'useful', 'safe', 'sexual', 'busy', 'lie', 'smile', 'stories', 'wondered', 'District', 'Nations', 'possibly', 'neighborhood', 'liked', 'command', 'parties', 'establish', 'Tuesday', 'slow', 'Roman', 'judgment', 'duty', 'occasion', 'Dallas', 'uses', 'courses', 'lose', 'etc.', 'Administration', 'talked', 'army', 'roof', 'plants', 'appeal', 'alive', 'streets', 'shook', 'details', 'fairly', 'Three', 'enjoyed', 'goods', 'associated', 'taste', 'songs', 'aside', 'guests', 'pale', 'appearance', 'drop', 'combination', 'somehow', 'apparent', 'Lewis', 'Fig.', 'keeping', 'fat', 'continuing', 'unique', 'contact', 'Section', 'Every', 'processes', 'requires', 'Senate', 'baby', 'painting', 'Congo', 'charged', 'permitted', 'Great', 'budget', 'causes', 'majority', 'achievement', 'chemical', 'electric', 'Man', 'solution', 'song', 'September', 'shop', 'loved', 'becoming', 'Chinese', 'truly', 'tree', 'signal', 'entrance', \"There's\", 'culture', 'sky', 'wage', 'avoid', 'tension', 'headquarters', 'bought', 'academic', 'apply', 'represented', 'repeated', '14', 'entitled', 'providing', 'Palmer', 'officials', 'organized', 'spite', 'advance', 'thirty', 'surprised', 'intensity', 'minds', 'competition', 'informed', 'Among', 'evident', 'spot', 'demands', 'begins', 'device', 'extended', 'Your', 'yes', 'scale', 'artist', 'regarded', 'afraid', 'Joseph', 'win', 'Britain', 'critical', 'replied', 'soldiers', 'truck', 'theme', 'perfect', \"she'd\", 'previously', 'credit', 'hat', 'mine', 'runs', 'Like', 'firms', 'wished', 'Martin', '18', 'Joe', 'kid', 'travel', 'identity', 'vision', 'joined', 'confidence', 'conducted', 'notice', 'sought', 'item', 'naturally', 'hole', 'wheel', 'rock', '16', 'components', 'dictionary', 'text', 'double', 'vital', 'rooms', 'unable', 'notes', 'pure', 'supported', 'improved', 'L.', 'bank', 'symbol', 'positions', 'Republican', 'attend', 'motion', 'Smith', 'roads', 'victory', 'seat', 'trained', 'worry', 'grounds', 'sample', 'Jews', 'divided', 'minute', 'games', 'prove', 'negative', 'conduct', 'bear', 'Nothing', 'flowers', 'suggest', 'absence', 'imagine', 'create', 'January', 'Japanese', 'properly', 'spend', 'orders', 'sin', 'inner', 'granted', 'assigned', 'leg', 'draw', 'depth', 'wonderful', \"there's\", 'percent', 'largest', 'disease', 'generation', 'description', 'motor', 'chest', 'experienced', 'experiences', 'windows', 'tall', 'beneath', 'loose', 'risk', 'huge', 'pushed', 'p.m.', 'No.', 'Hudson', 'guess', 'Alfred', 'bedroom', 'yellow', 'U.N.', 'decisions', 'baseball', 'phone', 'soil', 'Indian', 'content', 'sounds', 'flesh', 'establishment', 'element', 'widely', 'vehicles', 'title', 'forget', 'acting', 'pick', 'dozen', 'payment', 'wagon', 'troops', 'introduced', 'grass', 'machines', 'bitter', 'crowd', 'August', 'centers', 'driving', 'developing', 'Los', 'plenty', 'laughed', 'waves', 'wild', 'conflict', 'nodded', 'situations', 'David', 'achieve', 'Protestant', 'snow', 'thoughts', 'handle', 'Still', 'necessarily', 'Arthur', 'animals', 'wet', 'stages', 'approval', 'slight', 'Table', 'putting', 'angle', 'characteristics', 'begun', 'agree', 'governments', 'views', 'raise', 'telling', 'correct', 'abroad', 'stream', 'shoulders', 'breakfast', 'October', 'wood', 'advanced', 'mark', 'Philadelphia', 'conversation', 'uniform', 'conviction', 'Have', 'extremely', 'Latin', 'housing', 'breath', 'expense', 'interpretation', 'Eisenhower', 'practices', 'elections', 'remove', 'easier', 'D', 'Did', 'detailed', 'mention', 'brilliant', 'extra', 'Massachusetts', 'proud', 'devoted', 'noticed', 'Warren', 'pull', 'pair', 'rear', 'faced', 'surprise', 'issued', 'desired', 'walking', 'advice', 'taught', 'silent', 'papers', 'millions', 'fill', 'publication', 'About', 'sick', 'convinced', 'cultural', 'employed', 'consideration', 'firmly', 'colors', 'childhood', 'minor', 'request', 'trust', 'depends', 'incident', 'television', 'hopes', 'moon', 'conventional', 'operator', 'tendency', 'Therefore', '13', 'towns', 'administrative', 'wooden', 'tiny', 'west', 'Co.', 'maintained', 'measurements', 'finding', 'opportunities', 'measures', 'operate', 'park', 'acceptance', 'impressive', 'tired', 'suit', 'Hearst', 'attitudes', 'Charlie', 'moments', 'valley', 'agency', 'gold', 'driver', 'remarks', 'knowing', 'speaking', 'formal', 'leaves', 'cry', 'swung', 'creative', 'estate', 'lady', 'chain', 'destroy', '24', 'advertising', 'chairman', 'comparison', 'choose', 'worse', 'efficiency', 'quietly', 'rolled', 'passage', '1957', 'female', 'de', 'fifteen', 'poem', 'hoped', 'Moscow', 'limit', 'plain', 'shooting', 'liquid', 'detective', 'soul', 'internal', 'P', 'denied', 'patterns', 'Angeles', 'integration', 'payments', 'fundamental', 'testimony', 'version', 'village', 'mere', 'examples', 'concentration', 'Black', '21', 'engine', 'somewhere', 'deny', 'burning', 'library', 'Fort', 'tragedy', 'drinking', 'dear', 'unknown', 'vacation', '23', 'aspect', 'Lincoln', 'boats', 'skin', 'railroad', 'Cuba', 'garden', 'screen', 'bonds', 'stone', 'sold', 'apart', 'silence', 'personality', 'practically', 'Italian', 'periods', 'remarkable', 'expenses', 'lights', 'Q', 'welfare', 'creation', 'conscious', 'partly', 'rural', 'League', 'congregation', 'wearing', 'hero', 'decade', '1954', 'anger', 'resistance', 'threw', 'minister', 'numerous', 'review', 'Wright', 'nobody', 'movements', '60', 'Mantle', 'contrary', 'difficulties', 'equivalent', 'strike', 'association', 'Blue', 'Civil', 'percentage', 'missile', 'centuries', 'till', 'models', 'fears', 'recommended', 'seriously', 'Junior', 'identified', 'humor', 'blind', 'independence', 'Park', 'losses', 'birds', 'artery', 'pink', 'trend', 'fiction', 'stairs', 'wave', 'executive', 'Georgia', 'article', 'interior', 'precisely', 'functions', '22', 'concrete', 'Frank', 'engaged', 'provision', 'Africa', 'opposition', 'intended', 'welcome', 'Hall', 'courts', 'Watson', 'sports', 'somebody', 'contain', 'civil', 'ride', 'please', 'medium', 'cast', 'February', 'feels', 'depend', 'impression', 'target', 'containing', 'load', 'shut', 'shares', 'referred', 'sorry', 'promised', 'curve', 'governor', 'Alexander', 'Edward', 'preparation', 'honest', 'Society', 'encourage', 'Institute', 'twelve', 'diameter', 'Pennsylvania', 'luck', 'panels', 'curious', 'promise', 'adopted', 'safety', 'fought', 'meat', 'native', 'bills', 'precision', 'supplies', 'expansion', 'sheet', 'weakness', 'includes', 'See', 'Medical', 'Big', 'Lucy', 'amounts', 'milk', 'employment', 'intelligence', 'Hans', 'climbed', 'Asia', 'sum', 'arranged', 'mounted', 'expensive', 'thickness', 'suffering', 'cup', 'boards', 'lies', 'accomplished', 'path', 'cross', 'captain', 'relative', 'admitted', 'sale', 'instrument', 'offers', 'band', 'calling', 'taxes', 'thousands', 'mold', 'slaves', 'burden', 'opinions', 'considerably', 'qualities', 'pounds', 'elsewhere', 'charges', 'shoes', 'Manchester', 'answers', 'Instead', 'terrible', 'legislation', 'singing', 'odd', 'Five', 'agent', 'valuable', 'approached', 'Adam', 'dangerous', 'environment', 'confusion', 'lovely', 'resulting', 'comfort', 'Mama', 'Hotel', 'interference', 'fun', 'explanation', 'occur', 'recognition', 'drama', 'lawyer', 'expenditures', 'bond', 'grown', 'Little', 'reader', 'nearby', 'Motors', 'P.', 'coat', 'artists', 'violence', 'ice', 'saved', 'lifted', 'confused', 'insisted', 'rapid', 'contribute', 'Any', 'eventually', 'driven', 'separated', 'readily', 'collected', 'count', 'essentially', 'fired', \"you've\", 'consists', 'darkness', 'Him', 'Indeed', 'believes', 'gradually', 'purchase', 'warning', 'emotions', 'oxygen', 'investigation', 'riding', 'flight', 'Lake', 'warfare', 'revolution', 'Class', 'i.e.', 'Again', 'dollar', 'automobile', 'concerns', 'Figure', 'enjoy', 'guy', 'washing', 'recorded', 'Nevertheless', 'smooth', 'raw', 'suffered', 'exists', 'spirits', 'fund', 'origin', 'obtain', 'varied', 'bag', 'catch', 'crossed', \"ain't\", 'reactions', 'angry', 'shore', 'Without', 'tend', 'mile', 'excess', 'increasingly', 'reflected', 'dirt', 'east', 'wisdom', 'identification', 'Place', 'seeking', 'wages', 'snake', 'pilot', 'porch', 'cloth', 'Adams', 'particles', 'bound', 'appointed', 'La', 'liquor', 'brain', 'foods', 'heads', 'weapon', 'sufficiently', 'possibilities', 'touched', 'helping', 'hate', 'acres', 'pace', 'mail', 'G.', 'Anne', 'switch', 'arts', 'Linda', 'pocket', 'replaced', 'author', 'Time', 'distinct', 'core', 'Rachel', 'listed', 'editorial', 'continues', 'extensive', 'ease', 'involves', 'Carl', 'describe', 'ships', 'Defense', 'salary', 'varying', 'distinction', 'comment', 'residential', 'Captain', 'hundreds', 'Kate', 'dealing', 'insurance', \"Let's\", 'mental', 'errors', 'constantly', 'continuous', 'loan', \"'em\", 'wire', 'remaining', 'tour', 'favorite', 'Francisco', 'Henrietta', 'urban', 'match', 'developments', 'holds', 'distinguished', 'tissue', 'storage', 'teach', 'visited', 'Will', 'communities', 'volumes', 'dancing', 'Besides', 'salt', 'opposed', 'psychological', 'democratic', 'reduction', 'pleased', 'shift', 'brush', 'Division', 'spending', 'Office', '17', 'proposal', 'Come', 'bread', 'Illinois', 'manufacturers', 'limits', 'universal', 'neighbors', 'Commerce', 'pride', 'shouted', 'long-range', 'Last', 'stepped', 'shared', 'focus', 'atoms', 'liberty', 'ring', 'threat', 'removal', 'demanded', 'younger', 'guns', 'Walter', 'sell', 'prominent', 'smoke', 'finger', 'writes', 'virtually', 'Gross', 'talent', 'permanent', 'Later', 'societies', 'Bob', 'arc', 'thrown', 'Democrats', 'notion', 'burned', 'cooling', 'painted', 'composed', 'discover', 'indicates', 'marine', 'shear', 'throw', 'skill', 'steady', 'rough', 'Papa', 'prior', 'joy', 'throat', '40', 'forest', 'Atlantic', 'prison', 'marketing', 'Winston', 'rare', 'Uncle', 'Does', 'Orleans', 'display', 'seed', 'changing', 'existed', 'investment', 'missed', 'brings', 'fed', 'representative', 'everywhere', 'orchestra', 'happens', 'parallel', 'rode', 'afford', 'exception', 'provisions', 'rarely', 'anybody', 'objectives', \"o'clock\", 'downtown', 'transportation', 'award', 'allotment', 'represents', 'Good', 'revealed', 'attractive', 'surely', 'Communists', 'TV', 'express', 'derived', 'visual', 'automatic', 'inch', 'assured', 'regarding', 'trials', 'recall', 'Rayburn', 'anxiety', 'bars', 'offices', 'electrical', 'striking', 'Judge', 'Long', 'colleges', 'Attorney', 'Justice', 'necessity', 'muscle', 'languages', 'secretary', 'deeply', 'Life', 'participation', 'Lawrence', 'stranger', 'defined', 'funny', 'musicians', 'Mississippi', 'sake', 'legislative', 'glance', 'intense', 'Avenue', 'engineering', 'destroyed', 'considering', 'customers', 'Air', 'determination', 'communism', 'combined', 'Several', 'contributed', 'Out', 'comparable', 'controlled', 'lots', 'Education', 'dependent', 'reaching', 'gained', 'turns', 'Constitution', 'selection', 'agents', 'tables', 'voices', 'judge', 'represent', 'theater', 'transfer', \"father's\", 'holes', 'Actually', 'mostly', 'handed', 'contains', 'nineteenth', 'copy', 'studying', 'International', 'assumption', 'bringing', 'Today', 'sudden', 'primitive', 'Within', 'candidates', 'institution', 'Robinson', 'engineer', 'leaned', 'soldier', 'Japan', 'Pike', 'Thompson', 'external', 'Bay', 'mankind', '31', 'brothers', 'tool', 'Cousin', 'relationships', 'decide', 'Treasury', 'criticism', 'knees', 'Research', 'goals', 'Despite', 'eleven', 'thoroughly', 'guidance', 'flying', 'steel', 'scheduled', 'satisfactory', 'Governor', 'atomic', \"What's\", 'Was', 'Ohio', '200', \"God's\", \"We'll\", 'sharply', 'doctrine', 'corresponding', 'hill', 'hydrogen', 'Paul', 'fail', 'ages', 'anyway', 'strongly', 'listening', 'Roberts', 'chapter', 'illusion', 'sleeping', 'comfortable', 'enormous', 'anywhere', \"they're\", 'Would', 'authorized', 'forever', 'drawing', 'Chief', 'innocent', 'species', 'stronger', 'Much', 'conscience', 'serving', 'skills', 'distant', 'atom', 'stomach', 'deeper', 'admit', 'Holmes', 'organic', 'ears', 'pressures', 'briefly', 'track', 'iron', 'tremendous', 'improvement', 'newspapers', 'E', 'devices', 'handsome', 'finish', 'Roy', 'Public', 'civilization', 'tested', 'reply', 'destruction', 'magic', 'assure', 'Susan', 'constructed', 'swimming', 'male', 'approved', 'Center', 'handling', 'blocks', 'forgotten', 'regional', 'profession', 'hills', 'Senator', 'R', 'delivered', 'arrangements', 'belong', 'improve', 'resulted', 'noise', 'formation', 'furniture', 'thyroid', 'questionnaire', 'foam', 'edges', 'stick', 'chose', 'comedy', 'acts', 'fool', 'prime', 'restaurant', 'signed', 'Furthermore', 'Times', 'Journal', 'attempts', 'Jackson', 'mystery', 'accompanied', 'host', 'peoples', 'intention', 'cooperation', 'contribution', 'moves', 'crew', 'equipped', 'authorities', 'Spanish', 'specifically', 'effectively', 'managed', 'occupied', 'mixed', 'High', 'instant', 'supplied', 'completion', 'definite', 'observations', 'kinds', 'error', 'cleaning', 'feature', 'images', 'Peter', 'symbols', 'maturity', 'staining', 'random', 'seeds', \"year's\", 'desirable', 'edition', 'release', 'People', 'substantially', 'Jim', 'plot', 'variable', 'waters', 'Hardy', 'license', 'severe', 'attended', 'districts', 'stored', 'beings', 'dressed', 'accounts', 'push', 'aim', 'Nor', 'coating', 'mood', 'schedule', 'spoken', 'Maris', 'hurt', 'characters', 'ratio', 'Chapter', 'affected', 'glad', 'guide', 'serves', 'recreation', 'Stanley', 'Matsuo', 'Jane', 'Atlanta', 'bombs', 'Hospital', 'Republic', 'jumped', 'outstanding', 'wear', 'worried', 'over-all', 'sees', 'doors', 'calculated', 'grade', 'automatically', 'experts', 'Conference', 'personally', 'output', 'guard', 'outlook', 'Look', 'technology', 'Pope', 'probability', 'yield', 'sequence', 'installed', 'Pont', 'sympathetic', 'eggs', 'claimed', 'tough', 'classic', 'regions', 'waste', 'accurate', 'grant', 'producing', 'prepare', 'patients', 'satisfied', 'inevitably', 'pleasant', 'readers', 'consequences', 'concert', 'Clark', 'agricultural', 'conclusions', 'phenomenon', 'paint', 'tongue', 'visiting', 'dirty', \"we're\", 'sounded', \"haven't\", 'Wednesday', 'accuracy', 'mad', '1962', 'disappeared', 'symbolic', 'challenge', 'consumer', 'Part', 'western', 'visible', 'nationalism', 'binomial', 'scholarship', 'Hill', 'dignity', 'lying', 'tells', 'tools', 'washed', 'sacred', 'coast', 'definition', 'myth', 'owned', 'stores', 'affect', 'mistake', 'Harvard', 'presumably', 'patent', 'multiple', 'tonight', 'emotion', 'exposed', 'filling', 'Earth', 'estimate', 'frequent', 'urged', 'swept', 'height', 'reasonably', 'Lee', 'self', 'tied', 'performed', 'mountains', 'bus', 'owners', 'illustrated', 'sister', 'axis', 'sending', 'isolated', 'Sept.', 'Samuel', 'sad', 'visitors', 'candidate', 'camera', 'calm', 'sir', 'drunk', 'row', 'normally', 'blame', 'meets', 'worship', 'tends', 'latest', 'Johnson', 'clerk', 'Can', 'clouds', 'alternative', 'dispute', 'decades', \"today's\", 'guest', 'raising', 'thereby', 'lists', 'paintings', 'processing', 'vary', 'realistic', 'logical', 'Canada', 'Harry', 'Baker', 'extension', 'bigger', 'retired', 'Neither', 'openly', 'preserve', 'Italy', 'bent', 'protect', 'stretched', 'pencil', 'Four', 'smell', 'context', \"mother's\", 'reception', 'desegregation', 'mechanical', 'suggestion', 'genuine', 'sympathy', 'listen', 'guilt', 'discovery', 'Catholics', 'benefits', 'cash', 'findings', 'gate', 'tragic', 'worst', 'survive', 'Andy', 'badly', 'unlike', 'Prokofieff', 'Jess', 'blow', 'scheme', 'massive', 'involving', 'demonstrated', 'grave', 'vehicle', 'sentence', 'inevitable', 'examine', 'folk', 'fewer', 'determining', 'affair', 'cards', 'equation', 'Supreme', 'leads', 'fallen', 'Never', 'Be', 'wash', 'suitable', 'alert', 'parked', 'Early', 'hunting', 'advised', 'healthy', 'phrase', 'beach', 'bone', 'knee', 'neutral', 'route', 'attempted', 'chlorine', 'seldom', 'Thursday', 'arrangement', 'routine', 'succeeded', 'presents', 'sugar', 'quantity', 'emergency', 'missing', 'performances', 'Take', 'bomb', 'admission', 'owner', 'favorable', 'branches', 'dying', 'namely', 'wise', 'roles', 'yard', 'filed', 'jacket', 'Too', 'connected', 'experimental', 'rejected', 'Poland', 'damage', 'Player', 'crime', 'tears', 'slipped', 'strictly', 'accident', 'suffer', 'cooking', 'Mark', 'proof', 'hurry', 'courage', 'stems', 'occasional', 'weak', 'forty', 'returning', 'e.g.', 'adjustment', 'fruit', 'covers', 'crowded', 'Holy', 'financing', 'awareness', 'interview', '26', 'Second', 'kids', 'reporters', 'occasionally', 'efficient', 'presentation', 'magazine', 'household', 'collective', 'duties', 'partner', 'F', 'burst', 'Indians', 'violent', \"world's\", 'fly', 'promote', 'Lady', 'joint', 'Pat', 'lunch', 'chicken', 'Next', 'initiative', 'Harold', 'bride', '19', 'instructions', 'artistic', 'testing', 'covering', 'reflection', 'regardless', 'remote', 'gathered', 'effectiveness', 'circles', 'beer', 'conception', 'currently', 'grace', 'simultaneously', 'island', 'Square', \"child's\", 'ocean', 'Chandler', 'variation', 'crazy', 'concluded', 'remarked', 'Howard', 'gift', 'smiling', 'Scotty', 'Castro', 'Williams', 'elected', 'gesture', 'Gorton', 'inadequate', 'measurement', 'highway', 'receiving', '**zg', \"nation's\", 'shouting', 'locking', 'knocked', 'slavery', 'nevertheless', 'perfectly', 'corn', 'ending', 'ceiling', 'pages', 'poets', 'elaborate', 'emission', 'allowing', 'Dave', 'tossed', 'thermal', 'N', 'stuff', 'mature', 'fish', 'density', 'considerations', 'whereas', 'columns', 'discussions', 'poetic', 'Field', 'involve', 'armed', 'decline', 'returns', 'composer', 'ruled', 'dancer', 'Via', 'Had', 'saline', 'survey', \"aren't\", 'remark', 'counties', 'winning', 'Poet', 'Russians', 'barely', 'successfully', 'mud', 'Navy', 'so-called', 'fallout', 'senior', 'nights', 'excitement', 'respectively', 'quarter', 'frequencies', 'muscles', 'chamber', 'panel', 'strain', 'Kansas', 'long-term', 'printed', 'Communism', 'Pacific', 'gently', 'identical', 'spots', 'wedding', 'precise', 'Christianity', 'depending', '1952', 'naked', 'tape', 'skywave', 'invariably', 'facing', 'checked', 'parking', 'secondary', 'Prince', 'counter', 'Curt', 'enterprise', 'protected', 'transition', 'worker', 'temporary', 'reducing', 'excessive', 'widespread', 'Alex', 'Force', 'softly', 'piano', 'blanket', 'expert', 'historian', 'campus', 'eating', 'impressed', 'meal', 'farther', 'dates', 'conservative', 'heading', 'Sharpe', 'Franklin', 'occurrence', 'listened', 'Something', 'shock', 'confronted', 'tube', 'encountered', 'lumber', 'troubled', 'suspect', 'letting', 'selling', 'Mayor', 'Miriam', 'starts', 'Eddie', 'concentrated', 'absolute', 'ranging', 'romantic', 'Louisiana', 'crucial', 'complicated', 'sponsored', 'Dartmouth', 'reveal', 'matching', 'Over', 'Shakespeare', 'cuts', 'net', 'Van', 'stable', 'divine', 'network', 'whenever', 'Through', \"You'll\", 'Business', 'Rector', 'surprising', 'Johnny', 'Labor', 'skilled', 'abstract', 'Get', 'supper', 'substance', 'stem', 'scientists', 'instances', 'universities', 'survival', 'slave', 'competitive', 'falling', 'preceding', 'films', 'Professor', 'Woodruff', 'articles', 'fence', 'football', 'et', 'flux', 'extraordinary', 'virtue', 'superior', 'basement', 'markets', 'roll', 'movies', 'suspended', 'beef', 'mixture', 'consequence', 'Felix', 'lightly', 'Sen.', 'secure', 'grand', 'trips', 'sciences', 'transferred', 'trail', 'fishing', 'buying', 'Carleton', 'perform', 'Armed', 'Sherman', 'loans', 'entertainment', 'sewage', 'grinned', 'argued', 'utility', 'guilty', 'suggests', 'suburban', 'morality', 'Republicans', 'Brannon', 'hence', 'creating', 'shadow', 'replace', 'shots', 'According', 'Hence', 'furnish', 'Juniors', 'glasses', 'Assembly', 'era', 'recording', 'exciting', 'divorce', 'ethical', 'dancers', 'residence', 'modest', 'poured', 'delight', 'junior', 'signals', 'ear', 'dealers', 'constitute', 'comments', 'proportion', 'argue', 'fate', 'pressed', 'ignored', 'mainly', 'Bank', 'Others', 'O.', 'lesson', 'unconscious', 'movie', 'tasks', 'asleep', 'Industrial', 'barn', 'threatened', 'Ann', 'helpful', 'p', 'Morse', 'colored', 'extend', 'shorts', 'radical', 'cotton', 'Albert', 'purely', 'helps', 'strip', 'magnitude', 'Mickey', 'reminded', 'Brooklyn', 'evaluation', 'hoping', 'scenes', 'measuring', 'missiles', 'sang', 'consciousness', 'controls', 'bronchial', 'split', 'Until', 'deliberately', 'commonly', 'citizen', 'fabrics', 'colony', 'voting', 'mechanism', 'wound', 'locked', 'plastics', 'Harris', 'laugh', 'discuss', 'offering', 'anxious', 'calendar', \"They're\", 'happening', 'Hal', 'demonstrate', 'representing', 'meetings', 'Roosevelt', 'specified', 'ballet', 'Yankees', 'structures', 'extending', 'introduction', '1955', 'southern', 'examined', 'newly', 'sand', 'coal', 'surfaces', 'Oct.', 'debate', 'cure', 'Santa', 'encouraged', 'libraries', 'satisfaction', 'peculiar', 'consistent', \"you'd\", 'profit', 'tight', 'warmth', 'sovereign', 'plastic', 'jurisdiction', 'pot', 'verse', 'defeat', 'polynomial', 'quarters', 'electronics', 'fourteen', 'talents', 'root', 'committed', 'industries', 'drugs', 'sensitivity', 'closing', 'optimal', 'lighted', 'Suppose', 'branch', 'contributions', 'unions', 'African', 'absent', 'Whether', 'solutions', 'electron', 'propaganda', 'classical', 'dimensions', '1956', 'apparatus', 'gay', 'vigorous', 'bench', 'graduate', 'questioned', 'innocence', 'expanding', 'sovereignty', 'Irish', 'pound', 'Ramey', 'studio', \"let's\", 'carbon', 'fled', 'N.', 'false', 'silver', 'tons', 'cow', 'arise', 'losing', 'rendered', 'enthusiasm', 'marks', 'witness', 'encounter', 'bare', 'hated', 'paused', 'Nobody', 'Interior', 'shapes', 'Beach', 'clarity', 'sacrifice', 'laughing', 'minimal', 'powder', 'upstairs', 'refer', 'associations', 'finance', 'profound', 'Christmas', 'seconds', 'Fred', 'examination', 'exclusive', 'discipline', 'Legislature', 'shade', 'proposals', 'flew', 'responses', 'consisting', 'engineers', 'friendship', 'horizon', 'representatives', 'V', 'gentle', 'prefer', 'surplus', 'merit', 'tea', 'holder', 'Marshall', 'samples', 'Germans', 'sing', 'scope', 'formerly', 'T.', 'operated', 'Dan', 'delicate', 'shoot', 'prevented', 'municipal', 'recovery', 'subsequent', 'dining', 'a.m.', 'combat', 'pulmonary', 'observation', 'maintaining', 'voted', 'damn', 'Coast', 'gathering', 'Myra', 'utterly', 'requirement', 'fees', 'exact', 'professor', 'limitations', 'clinical', 'applying', 'Dean', 'advantages', 'commission', 'acquire', 'insist', 'Shayne', 'council', 'prestige', 'distributed', 'outer', 'Clayton', 'salvation', 'ecumenical', 'opera', 'Davis', 'regulations', 'passes', 'permits', 'imagined', 'absolutely', 'maid', 'scattered', 'rushed', 'Delaware', 'veteran', 'Newport', 'reputation', 'pistol', 'occurs', 'mirror', 'Jefferson', 'drying', 'ladies', 'mighty', 'territory', 'Greenwich', 'Revolution', 'Men', 'slept', 'mountain', 'Forces', 'marriages', 'golf', 'doctors', 'weekend', 'diplomatic', 'Cady', 'Julia', 'grain', 'upward', 'Hughes', 'thanks', 'Obviously', 'reserved', 'dull', 'pursuant', 'perception', 'fiber', 'permission', 'passion', 'restrictions', 'bullet', 'corps', 'pointing', 'released', 'lively', 'critics', 'butter', 'unhappy', 'Jew', 'dreams', 'delightful', 'velocity', 'Science', 'Certainly', 'Palfrey', 'handled', 'staring', 'humanity', 'submarine', 'frightened', 'appreciate', 'compare', 'altogether', 'preferred', 'storm', 'paying', 'frames', 'Almost', 'tangent', 'Johnnie', 'Pathology', 'customer', 'victim', 'phenomena', 'reform', 'Bureau', 'Virgin', 'Young', 'overcome', 'invited', 'reserve', \"Kennedy's\", 'journey', 'mysterious', 'Mitchell', '1953', 'perspective', 'presently', 'cellar', 'identify', 'belt', 'builder', 'marginal', 'eternal', 'Colonel', 'anti-trust', 'inherent', 'reorganization', 'ranch', 'Middle', 'acquired', 'instruction', '27', 'gyro', 'injury', \"She's\", 'fellowship', 'justify', 'sophisticated', 'appointment', 'recalled', 'concepts', 'Greg', 'placing', 'Billy', 'disturbed', 'meals', 'legend', 'farmers', 'outcome', 'magnificent', 'Coolidge', 'climate', 'Eileen', 'stockholders', 'suspicion', \"we'll\", 'Patchen', 'vice', 'approaching', 'eager', 'gross', 'Arlene', 'disaster', 'funeral', 'enemies', \"We're\", 'royal', 'Forest', 'shopping', 'Zen', 'ours', 'Make', 'revenues', 'ill', 'attorney', 'variables', 'conceived', 'emerged', 'electricity', 'stained', 'aesthetic', 'shirt', 'quoted', 'threatening', 'cents', 'desperate', 'lacking', 'Helva', 'textile', 'Sarah', 'Agreement', 'frozen', 'literally', 'Ekstrohm', 'cried', 'card', 'judgments', 'establishing', 'trembling', 'controversy', 'Southerners', 'dried', 'publicly', 'players', 'sheets', 'stars', 'O', 'abandoned', 'painful', 'Probably', 'intelligent', 'volunteers', 'aboard', 'magazines', 'attacked', 'Eugene', 'Bang-Jensen', 'feeding', 'peaceful', 'continually', 'flexible', 'wars', 'SBA', 'scholars', 'Pittsburgh', 'exhibit', 'medicine', 'torn', 'traders', 'productive', 'exceptions', 'directions', 'rational', 'promptly', 'inspired', 'proceeded', 'golden', 'reflect', 'responsibilities', 'Speaker', 'Whatever', 'assist', 'observe', 'switches', 'Valley', 'gentleman', 'disk', 'Village', 'mothers', 'cloud', 'D.C.', 'generous', 'breaking', 'roughly', 'shelters', 'surrounding', 'eliminate', 'reaches', 'composition', 'destructive', 'subtle', 'Mother', \"O'Banion\", 'ritual', 'dawn', 'attached', 'sessions', 'landing', 'glanced', 'builders', 'oral', 'prevention', 'gear', 'Nick', 'laboratory', 'allowances', 'besides', 'entry', 'temperatures', 'Art', 'stretch', 'Use', 'intervals', 'communications', 'transformed', 'publicity', 'settlement', 'lonely', 'grateful', 'Son', 'Aug.', 'Carolina', 'demonstration', 'Nixon', 'bath', 'worthy', 'dilemma', 'component', 'Tim', 'attracted', '300', 'NATO', 'prospect', 'supporting', 'partially', 'bearing', 'suits', 'Wally', 'Tilghman', 'Houston', 'delayed', 'frontier', 'vivid', 'king', 'Owen', 'harm', 'hanging', 'approaches', 'vein', 'Director', 'bird', 'designs', 'charm', 'Alec', 'departments', 'repeat', 'fist', 'beard', 'Barton', 'shortly', 'instruments', 'mobile', 'accused', 'recommend', 'Title', '70', 'adult', 'aimed', 'parade', 'sitter', 'drill', 'contracts', 'commander', 'Broadway', 'expressing', 'Social', 'assembled', 'cycle', 'wishes', 'seized', 'Sure', 'pupils', 'specimen', 'Development', 'insure', 'rice', 'wines', 'exclusively', 'Economic', 'accomplish', 'continuity', 'woods', 'magnetic', 'Blanche', 'accurately', 'operational', 'nearest', 'announcement', 'retirement', 'Portland', 'Mexican', 'yours', 'faint', 'noon', 'tubes', 'nervous', 'probable', 'impressions', 'drivers', 'scarcely', 'absorbed', 'entering', 'fog', 'constitutional', \"they'd\", 'theological', 'arrive', 'speaker', 'march', 'rigid', 'wildly', 'hang', 'automobiles', 'viewed', 'tail', 'wings', 'interpreted', 'applications', 'firing', 'recommendation', 'prayer', 'cook', 'managers', 'chances', 'Independence', 'Mason', 'racial', 'promotion', 'functional', 'Further', 'Northern', 'access', 'peas', 'promising', 'backed', 'allies', 'critic', 'wherever', 'conductor', 'Small', 'detergent', 'realization', 'honored', 'wholly', 'nowhere', 'vague', 'Six', 'Puerto', 'Theresa', 'cited', 'Moore', 'cocktail', 'neighboring', 'Post', 'planes', 'hired', 'qualified', 'desires', 'contacts', 'correspondence', 'tended', 'phases', 'diffusion', 'Very', 'actor', 'consisted', 'Premier', 'contest', 'subjected', 'prospects', 'enthusiastic', 'chin', 'excuse', 'freight', 'dealer', 'categories', 'full-time', 'philosophical', 'tribute', \"You've\", 'Ford', 'slid', 'Jersey', 'Arts', 'heating', 'lawyers', 'Everything', 'dive', 'habit', 'lengths', 'cigarette', 'channels', 'cleared', 'refrigerator', 'registration', 'mathematical', 'unexpected', 'heaven', 'enable', 'factory', 'Casey', 'Hollywood', \"Brown's\", 'widow', 'hungry', 'beliefs', 'meaningful', 'discrimination', 'continuously', 'civilian', 'bore', 'Cook', 'furnished', 'imitation', 'twenty-five', 'sink', 'realism', 'exposure', 'dedicated', 'Jean', 'musician', 'empirical', 'Tennessee', 'compete', 'Suddenly', 'thinks', 'lands', 'arrival', 'Spencer', 'Quiney', 'norms', 'fortune', '29', \"He'd\", 'occupation', 'harder', 'jump', 'luncheon', 'relieved', 'Westminster', \"President's\", 'Soon', 'rocks', 'radar', 'weekly', 'suggestions', 'Onset', 'belly', 'genius', 'excited', 'anti-Semitism', 'pond', 'plug', 'Fogg', 'outdoor', 'incredible', 'coverage', 'grades', 'treat', 'generations', 'astronomy', 'controlling', 'killing', 'snakes', 'colleagues', 'regime', 'Presidential', 'Tell', 'fibers', 'historic', 'wounded', 'terror', 'falls', 'charming', 'noble', 'Gen.', 'northern', 'narrative', 'stressed', 'depression', 'bases', 'trace', 'hurried', 'saddle', 'Madison', 'barrel', 'part-time', 'midnight', 'giant', 'manufacturer', 'curiosity', 'System', 'stupid', 'leather', 'Foreign', 'Pete', 'folklore', 'justified', 'code', 'pack', 'assistant', 'stuck', 'league', 'whispered', 'Maggie', 'Symphony', 'explicit', 'lock', 'Ruth', 'settle', 'category', 'Daily', 'assumptions', 'estimates', 'wake', 'exercises', 'Douglas', 'adjusted', 'employee', 'authors', 'Press', 'cheap', 'substrate', 'Father', 'attempting', 'governmental', 'resumed', 'Testament', 'zero', 'trading', 'protest', 'Palace', 'Maryland', 'Should', 'reflects', 'degrees', 'searching', 'uneasy', 'novels', 'plaster', 'Law', 'overseas', 'cat', 'Anglo-Saxon', 'formulas', 'voluntary', 'appreciation', 'targets', 'casual', 'foams', 'dressing', 'drinks', 'chairs', 'reliable', 'uncertain', 'altered', 'troubles', 'mess', 'sharing', 'manufacturing', 'rank', 'adding', 'destiny', 'bridges', 'Spirit', 'adults', 'tractor', 'servants', 'Green', 'honey', 'bombers', 'Vienna', 'Victor', 'economical', 'worn', 'freely', 'exploration', 'deck', '0', 'amateur', 'Sandburg', 'thrust', 'implications', 'sighed', 'sticks', 'pressing', 'sentiment', 'souls', 'herd', \"she's\", 'hide', 'ward', 'successes', 'metropolitan', 'whisky', 'aids', 'Music', 'Article', 'laughter', 'carries', 'unfortunate', 'grows', 'melting', 'joke', 'conspiracy', 'valid', 'urethane', 'relevant', 'biggest', 'sphere', 'fault', 'convention', 'ambiguous', 'attending', 'traveled', 'tie', 'trucks', 'occasions', 'preparing', 'participate', 'Don', 'Affairs', 'surrender', 'registered', 'dealt', 'convenient', 'Student', 'expects', 'Bobbie', 'autumn', 'lift', 'displacement', 'frequency', 'bother', 'retained', 'possessed', \"shouldn't\", 'totally', 'resist', 'tip', 'obligations', 'plates', \"we'd\", 'posts', 'happiness', 'Rev.', 'steadily', 'Meanwhile', 'alienation', 'triumph', 'middle-class', 'respects', 'structural', 'assessment', 'democracy', 'anticipated', 'frank', 'rifles', 'earliest', 'Baltimore', 'pulling', 'Ralph', 'Deegan', 'select', 'belongs', 'spare', 'planets', 'capabilities', 'loaded', 'panic', 'Royal', 'yelled', 'eliminated', 'S', 'insects', 'suited', 'temple', 'intentions', 'ownership', 'describes', 'gang', 'complained', 'Miller', 'insight', 'fifth', 'Miami', 'engagement', 'sampling', 'evidently', 'Alaska', 'Elaine', 'warned', \"America's\", 'regularly', 'Century', 'oxidation', 'factories', \"B'dikkat\", 'boating', 'ideological', 'strategy', 'killer', 'Russ', 'hen', 'Marshal', 'Utopia', 'defend', 'investigations', 'tale', 'wheels', 'milligrams', 'charter', 'Johnston', 'Program', 'availability', 'certainty', 'Vermont', 'accepting', 'questioning', 'desperately', 'H', 'Home', 'behalf', 'Hoag', 'drawings', 'craft', 'urgent', 'concerts', 'backward', 'spectacular', 'pause', 'Wait', 'painter', 'shining', 'Morris', 'originally', 'Above', 'planetary', 'Consider', 'delay', 'luxury', 'rang', 'fluid', 'fortunate', 'shame', 'envelope', 'preliminary', 'nuts', 'Faulkner', 'particle', 'possession', 'neat', 'Joyce', 'protein', 'occurring', 'Apparently', 'hesitated', \"John's\", \"weren't\", 'Detroit', 'Which', 'balanced', 'linear', '1948', 'Being', 'characterized', 'Cromwell', 'miss', \"children's\", 'dances', 'classification', 'moderate', 'Steele', 'pertinent', 'Police', 'thank', 'persuaded', 'Shu', 'Lo', 'chiefly', 'cope', 'farmer', 'Ben', 'Taylor', 'Book', 'forming', 'Everyone', 'Warwick', 'teams', 'stern', \"patient's\", 'crack', 'Di', 'Queen', 'doubtful', 'rent', 'definitely', 'Nation', 'stiff', 'Wall', 'moreover', 'planet', 'assembly', 'reveals', 'Bobby', 'Reverend', 'recommendations', 'skirt', 'profits', 'mode', 'harmony', 'saving', 'addresses', 'statistics', 'smart', 'Go', 'Rock', 'stumbled', 'Capitol', 'Keith', 'rhythm', 'unlikely', '28', 'Podger', 'passengers', 'seated', 'Rico', 'Aristotle', \"We've\", 'computed', 'garage', 'inclined', 'lowered', 'heels', 'keeps', 'Could', 'corporations', 'pile', 'thorough', 'submitted', 'Mills', 'dishes', 'mutual', 'Penny', 'Kay', 'races', 'hits', 'obliged', 'substitute', 'bid', 'Completion', 'mate', 'arbitrary', 'Eastern', 'Party', 'Report', 'relatives', 'respond', 'despair', 'Note', 'governing', 'intimate', 'regiment', 'liberals', '34', 'meanings', 'racing', 'launched', 'mines', 'hearts', 'Philip', 'roots', 'Nov.', 'complement', 'hypothalamic', 'dynamic', 'Missouri', 'suspected', 'cabin', 'Hell', 'dare', 'Francis', 'Bridget', '1950', 'traditions', 'Michigan', 'loyalty', 'seventeen', 'Katanga', 'respectable', 'habits', 'Belgians', 'masses', 'crises', 'educated', 'Having', 'soap', 'ugly', 'displays', 'Maude', 'enjoyment', 'prospective', 'Vernon', 'conferences', 'Wagner', 'fans', 'Poor', 'replacement', 'Plato', 'struggling', 'enforced', 'anticipation', 'Allen', 'trends', 'Orchestra', 'intervention', 'motives', 'listeners', 'landscape', 'guided', 'orderly', 'lean', 'Major', 'distinctive', 'cream', 'crossing', 'temporarily', 'binding', 'ranks', \"hasn't\", 'Family', 'invention', 'figured', 'conditioned', '/', 'refund', 'indirect', 'Skyros', 'physiological', 'conversion', 'worries', 'cheek', 'flash', 'devil', 'grants', 'El', 'punishment', 'Opera', 'Corporation', 'forgive', 'breathing', 'converted', 'speeches', 'dedication', 'repair', 'Laura', 'guys', 'revolutionary', 'Spring', 'illness', 'fraction', 'monthly', 'banks', 'warrant', 'inventory', 'leaped', 'puts', '1949', 'merger', 'Freddy', 'Alabama', 'Pip', 'Upon', 'disposal', 'nerves', 'confirmed', 'probabilities', 'decent', 'votes', 'rehabilitation', 'pursue', 'lucky', 'Pa', 'Oedipus', '1946', 'package', 'patience', 'quarrel', 'impulse', 'crop', 'displayed', 'sidewalk', 'consequently', 'grains', 'expanded', 'grip', 'creatures', 'newer', 'melody', 'savage', 'encouraging', 'Often', 'wealth', 'relating', 'Michelangelo', 'shadows', 'negotiations', 'passages', 'pipe', 'patrol', 'alike', \"Christ's\", 'Dolores', 'input', 'attain', 'Heaven', 'solve', 'amazing', 'colorful', 'Notte', 'promises', 'similarly', 'sauce', 'sweat', 'clock', 'procurement', 'residents', 'queen', 'solely', 'lungs', 'Jan.', 'Fund', 'Volume', 'Swift', 'wit', 'gentlemen', 'naval', 'brushed', 'bowl', 'clothing', \"company's\", 'wondering', 'B.C.', 'Florida', 'brave', 'tent', 'Arnold', 'emphasize', 'crawled', 'greeted', 'Point', 'auto', 'sixth', 'grabbed', 'injured', 'fitted', 'transformation', 'Outside', 'heroic', 'vacuum', 'exhibition', 'urge', 'acceptable', 'motel', 'criminal', 'attacks', 'commodities', 'define', 'Feb.', 'Cathy', 'beam', 'Manhattan', 'Donald', 'Borden', 'crash', 'receives', 'Inc.', 'strongest', 'screw', 'pitch', 'pitcher', 'endless', 'suitcase', 'secrets', '1951', 'competent', 'blonde', 'Abel', 'diet', 'shaking', 'tire', 'taxpayers', 'bold', 'manage', 'helpless', 'fascinating', '75', 'accordance', 'responded', 'precious', 'peered', 'adjustments', \"city's\", 'suite', 'minority', 'slide', 'purchased', 'authentic', 'inspection', 'convictions', 'smelled', 'plate', 'surrounded', 'numerical', 'murderer', 'ultimately', 'cottage', 'pupil', 'whip', 'assessors', 'boots', 'theatre', 'trap', 'sailing', 'lighting', 'toes', 'Land', 'verbal', 'distinguish', 'addressed', 'bet', 'allows', 'dominated', 'rises', 'guards', 'lobby', 'Paula', 'demanding', 'explains', 'decisive', 'witnesses', 'affects', 'notable', 'register', 'retail', 'Seven', 'reporter', 'depths', 'stroke', 'bones', 'hotels', 'remainder', 'cholesterol', 'foil', 'bundle', 'respective', 'ignore', 'fractions', 'Killpath', 'Letch', 'Road', 'arrest', 'overwhelming', 'hatred', 'scared', 'Lane', 'motive', 'applies', 'happily', 'Shore', 'lacked', 'submarines', 'fever', 'reactivity', 'salesmen', 'curves', 'tactics', 'jet', 'theirs', 'devotion', 'rid', 'Throughout', 'vector', 'startled', 'Third', 'vertex', 'united', 'Allied', 'consistently', 'Doc', 'gardens', 'broader', 'bend', 'midst', 'Means', 'nude', 'mercy', 'winds', 'bullets', 'rush', \"state's\", 'optical', 'venture', 'packed', 'petitioner', 'Salem', 'companion', 'Rather', 'tsunami', 'startling', 'lid', 'hidden', 'tales', 'males', 'swing', 'glued', 'supervision', 'earnings', 'insistence', 'Gun', 'clubs', 'Vincent', 'dim', 'fatal', 'essay', 'ruling', 'dated', 'Form', 'loves', 'solved', 'hypothalamus', 'stake', 'intermediate', 'lesser', 'produces', 'canvas', 'compromise', 'lb.', 'Haney', 'therapist', 'whereby', '1927', 'ladder', 'discharge', 'prisoners', 'label', 'Memorial', 'ambition', 'Mobile', 'foundation', 'civic', 'timber', 'cancer', 'poverty', 'assurance', 'Accordingly', 'slope', 'drank', 'dreamed', 'combinations', 'architect', 'condemned', 'strategic', 'spell', 'Rourke', 'slip', 'revenue', 'imposed', 'specialists', 'bay', 'exceed', 'realm', 'stresses', 'Mars', 'politicians', 'neatly', 'tangible', 'preserved', 'savings', 'variations', 'victims', 'Calif.', 'Unfortunately', 'Gov.', 'Foundation', \"State's\", 'tetrachloride', 'individually', 'assert', 'awake', 'Frederick', 'nest', 'Mexico', 'sketches', 'Pamela', 'mechanics', 'Chairman', 'Wisconsin', 'harbor', 'sheep', 'achievements', 'rolling', 'wiped', 'avoided', 'Stadium', 'Cuban', 'likes', 'loud', 'twisted', 'Rousseau', 'improvements', 'patents', 'aroused', 'indication', 'filing', 'enforcement', 'sera', 'champion', 'arrested', 'immortality', 'physics', 'attract', 'fantastic', 'rubbed', 'pronounced', 'policeman', 'representation', 'partnership', 'brass', 'adolescence', 'dairy', 'observers', 'Beyond', 'monument', '1945', 'religions', 'parlor', 'Modern', 'ratios', 'Sergeant', 'ceremony', 'officially', 'Said', 'effluent', 'servant', 'marry', 'privilege', 'humble', 'nonspecific', 'Saxon', 'autonomy', 'roared', 'proceedings', 'comprehensive', 'Academy', 'mechanisms', 'founded', 'Harbor', 'Dick', 'pioneer', 'resting', 'drops', 'stolen', 'earned', 'commerce', 'aged', 'congregations', 'relax', 'predicted', 'deadly', 'shipping', 'sons', 'ranged', 'applicable', 'specialized', 'Kowalski', 'terribly', 'Room', 'jungle', 'systematic', 'escaped', 'drift', 'physically', 'earnest', 'subjective', 'iodine', 'Stephen', 'Remember', 'instantly', 'hospitals', 'flower', 'gallery', 'bathroom', 'investigated', 'businesses', 'marble', 'attributed', 'consistency', '50%', 'sung', \"doctor's\", 'cooperative', 'manufacture', 'objection', 'favored', 'corporate', 'tooth', 'disposed', 'kicked', 'livestock', 'crops', 'interrupted', 'Griffith', 'wildlife', 'ridiculous', 'deliver', '400', 'designer', 'slender', 'buried', 'phrases', \"Can't\", 'supreme', 'splendid', 'snapped', 'Islands', 'emphasized', 'submit', 'styles', 'directors', 'plainly', 'folks', 'informal', 'repeatedly', 'brick', '35', 'defended', 'gather', 'exceptional', 'classroom', 'supplement', 'gains', 'makers', 'priority', 'coach', 'Oxford', 'Yankee', 'tensions', 'overhead', 'lamp', 'Upton', 'judges', 'Helion', 'lap', 'Austin', 'abrupt', 'workshop', 'string', 'player', 'spectacle', 'epic', 'bargaining', 'underground', 'camps', 'Tokyo', 'strikes', 'acted', 'grams', 'sank', 'circuit', 'causing', 'Cobb', 'Columbia', 'bat', 'locations', 'assignments', 'tournament', 'naive', 'theology', 'bunk', 'interval', 'straightened', '80', 'tray', 'invitation', 'emerge', 'Barco', 'theories', 'brightness', 'proportions', 'talks', 'glory', 'Harvey', 'Religion', 'cosmic', 'voters', 'Stevie', 'puzzled', 'Arkansas', 'refers', 'shrugged', 'competence', 'eighteenth', 'fats', 'Langford', \"men's\", 'Grand', 'costumes', 'Kitti', 'mustard', 'Jazz', 'boss', 'Tommy', 'proceed', 'hostile', 'sixty', 'affection', 'basically', 'simpler', 'Meredith', 'mathematics', 'Week', 'speaks', 'Andrei', 'rugged', 'Ah', 'Few', 'lip', 'technological', 'Madden', 'aluminum', 'Organization', 'exercised', 'Keys', 'faster', 'consumption', 'compelled', 'daytime', 'succession', 'Southeast', 'differ', 'commented', 'blowing', 'birthday', 'sixteen', 'corners', 'announce', 'arose', 'History', 'movable', 'denial', 'Ernie', 'drug', 'shifted', 'situated', 'prize', 'theoretical', 'Stevens', 'toast', 'remarkably', 'faded', 'vicious', 'transport', 'neglected', 'captured', 'Lizzie', 'Banks', 'cooled', 'Fire', 'Rob', 'stocks', 'sensed', 'abruptly', 'convenience', 'ammunition', 'inquiry', 'praise', 'Golden', 'shorter', 'destroying', 'sums', 'K.', 'admired', 'shocked', 'seal', 'associate', 'Community', 'Cleveland', 'Hank', 'Pierre', 'artificial', 'brains', 'accelerometer', 'and/or', 'codes', 'motions', 'Giffen', 'interaction', 'basket', 'prevailing', 'Health', 'hunger', 'pays', 'collar', 'pushing', 'chaos', 'delivery', 'Keep', 'tanks', 'screaming', 'screamed', 'Lalaurie', 'substances', 'Fortunately', 'assign', 'Angie', 'Milton', 'holy', 'chart', 'designated', 'copies', 'sport', 'Geneva', 'Listen', 'flood', 'customs', 'separation', 'advances', 'circular', 'Baptist', 'hay', 'flowing', 'Seventh', 'squeezed', 'Usually', 'renewed', 'print', 'alternatives', 'Lao', 'departure', 'preaching', 'desert', 'corridor', 'interviews', 'declined', 'expecting', 'infinite', 'Ballet', 'Gulf', 'bears', 'formidable', 'reporting', 'crystal', 'checks', 'accompanying', 'entries', 'guitar', 'diplomacy', 'defensive', 'acceleration', 'cracked', 'Show', 'Far', 'cap', 'barriers', 'balls', 'flame', 'Horn', 'editors', 'scientist', 'intersection', 'Benson', 'murmured', 'acquisition', 'obscure', 'undertaken', 'compensation', 'undoubtedly', 'Lieutenant', 'rests', 'followers', 'violation', 'pastor', 'stretching', 'milling', 'Ma', 'reverse', 'shifts', 'present-day', 'loyal', 'enjoying', 'staying', 'supernatural', 'females', 'beloved', 'stall', 'Yeah', 'brand', 'indifference', 'transom', 'holiday', 'medieval', 'Otherwise', 'merchants', 'throwing', 'pockets', 'resentment', 'surprisingly', 'mistaken', 'hypothesis', 'campaigns', 'crown', 'wing', 'stripped', 'illustrate', 'progressive', 'molecular', 'historians', 'neighborhoods', 'Connecticut', 'chorus', 'uncle', 'lest', 'seasons', 'wagons', 'absurd', 'eighth', 'logic', 'aggressive', 'fan', 'visits', 'forgot', 'notions', 'implied', 'resolved', 'formulation', 'Security', 'dome', 'distances', 'counted', 'Raymond', 'Standard', 'cats', 'awful', 'anniversary', 'cops', 'consulted', 'Nadine', 'lit', \"They'll\", 'performing', 'capture', 'anonymous', 'Fulton', 'awards', 'quote', 'Dec.', 'persuade', 'god', 'Please', 'well-known', 'inquiries', 'gin', 'Special', 'sunlight', 'Frankie', 'rested', 'suicide', 'bureau', 'Hamilton', 'via', \"woman's\", 'friction', 'consist', 'v.', 'Carroll', 'intuition', 'jail', 'underlying', 'vaguely', 'Ada', 'Burma', 'sole', 'socialism', 'formally', 'vitality', 'popularity', 'BOD', 'awarded', 'explosive', 'belonged', 'Krim', 'Christians', 'Trevelyan', 'slowed', 'Love', 'loudly', 'Moreland', 'shaped', 'describing', 'Simms', 'kingdom', 'chip', 'bitterness', 'Anniston', 'erected', 'plantation', 'spontaneous', \"husband's\", 'TSH', 'useless', 'voyage', 'photograph', 'grasp', 'Cape', 'amendment', 'fuel', 'possess', 'palm', 'comparative', 'heroes', 'asks', 'candle', 'engines', 'preservation', 'muttered', 'damned', 'shops', 'injustice', 'import', 'Mission', 'Scott', 'flexibility', 'flag', 'instructed', 'Declaration', 'resume', 'bleeding', \"boy's\", 'Walker', 'Right', 'Anthony', 'Henri', 'mailed', 'youngsters', 'broadcast', 'ideals', '500', 'tracing', 'Mae', 'confession', 'confident', 'weary', \"he'll\", 'heated', 'asserted', 'secants', 'spreading', 'orange', 'reflecting', 'translated', 'detectives', 'keys', 'installations', 'Code', 'inquired', 'crouched', 'Free', 'Stein', 'allocation', 'I.', 'inserted', 'orientation', 'ticket', 'wanting', 'horror', 'qualifications', 'shell', \"Hudson's\", 'synthesis', 'priest', 'operand', 'contents', 'orbit', 'Willis', 'secular', 'fences', 'inability', 'Dickens', 'lessons', 'severely', 'pitching', 'overnight', 'matched', 'tap', 'wives', 'cylinder', 'gambling', 'Denver', 'satisfy', 'referring', 'delighted', 'chores', 'buffer', 'traveling', 'slammed', 'mistakes', 'uncertainty', 'Nelson', 'forehead', 'conformity', 'beautifully', 'adjust', 'earn', 'legislators', 'kiss', 'persistent', 'implies', 'unto', 'telephoned', 'collect', 'finest', 'trim', 'portrait', 'Me', 'fame', 'refuse', 'sketch', 'breed', 'Handley', 'legitimate', 'sites', 'trails', 'spotted', 'Payne', 'costly', 'rage', 'proposition', 'cockpit', 'selective', 'humorous', 'philosopher', 'improving', 'taxi', 'fee', 'Gray', 'influenced', 'raises', 'sins', 'museum', 'consent', 'draft', 'gown', 'hitting', 'Someone', '1910', 'graph', 'stride', 'financed', 'liver', 'gotten', 'partners', 'analytic', 'payroll', 'Hawaii', 'curriculum', 'Byron', 'outfit', \"o'\", 'Viet', 'aims', 'rows', 'disastrous', 'loop', 'Hammarskjold', 'lined', 'alien', 'clearing', 'bass', 'pen', 'statue', 'opens', 'mortgage', 'flavor', 'fires', 'tile', 'silently', 'metaphysical', 'confined', 'confirm', 'squad', 'thyroglobulin', 'bunks', 'abuse', 'camping', 'minimize', 'respiratory', 'odd-lot', 'angular', 'successor', 'Brooks', 'notably', 'discussing', 'Up', 'operators', 'bounced', 'Trial', 'farms', 'compounds', 'readings', 'closet', 'illustration', 'alarm', 'thee', 'span', 'rail', 'graduates', 'chemistry', 'documents', 'excluding', 'ambitious', 'apartments', 'pottery', 'devised', 'jar', 'lover', 'ivory', 'Following', 'translation', 'Stuart', 'shake', 'foolish', 'Mount', 'Occasionally', 'Clay', 'leveling', 'Asked', 'abandon', 'hers', 'messages', 'dangers', 'bulk', 'deserves', 'Styka', 'thereof', 'occupy', 'obligation', 'spun', 'cavalry', 'unnecessary', 'Claire', 'commit', 'diseases', 'stating', 'viewpoint', 'Gavin', 'Power', 'Way', 'None', 'Revenue', 'switched', 'imaginary', 'correlation', 'vertical', 'M', 'conclude', 'isolation', '42', 'fringe', 'twist', 'Greece', 'bitterly', 'Cranston', 'serum', 'expectations', 'piled', 'link', 'compatible', 'Already', 'employers', 'clover', 'spray', 'endurance', 'appearing', 'translate', 'whites', 'priests', 'conjunction', 'photographs', 'anyhow', 'bunch', 'weighed', 'Geometric', 'titles', 'cowboy', 'strengthen', 'sober', 'justification', 'dusty', 'claiming', 'Nicolas', 'requiring', 'hiding', 'Back', 'fitting', 'Hanford', 'downward', 'cherished', 'Museum', 'audiences', 'nurse', 'inherited', 'allowance', 'star', 'morale', 'ample', 'gonna', 'suburbs', 'wasted', 'adequately', 'Ray', 'circulation', 'fancy', 'Montgomery', '1/2', 'optimum', 'Military', 'Superior', 'ruined', 'disturbing', 'halfway', 'Rose', 'maintains', 'jaw', 'voltage', 'Fifth', 'opium', 'waved', 'infectious', 'geographical', 'quest', 'insights', 'glimpse', 'Similarly', 'goodness', 'indirectly', 'steam', 'thereafter', 'differently', 'reads', 'capita', 'Sec.', 'Gilborn', 'ate', 'Line', 'simplicity', 'commitments', 'elementary', 'Temple', 'lyrics', 'preceded', \"what's\", 'tore', 'deals', 'Sea', 'stove', 'landed', 'disappointment', 'sentimental', 'staged', 'Vice', 'contours', '1944', 'segregated', 'Havana', 'joining', 'self-help', 'clue', 'Continental', 'governed', 'blast', 'crying', 'attraction', 'guerrillas', 'Englishman', 'daylight', 'pursuit', 'Common', 'forbidden', 'divisions', 'thru', 'disappointed', 'Berger', 'client', 'tense', 'cracking', 'Marine', 'stature', 'tourist', 'Northwest', 'feasible', 'essence', 'farming', 'missions', 'Amy', 'specialist', 'seemingly', 'restricted', 'miracle', 'cease', 'Waddell', 'ambitions', 'Sloan', \"women's\", 'dragged', 'trick', 'practicing', 'verdict', 'purchases', '1940', 'anchor', 'Ryan', 'optimism', 'Thank', 'agreements', 'Stevenson', 'penetration', 'ninth', 'crude', 'sturdy', 'needle', 'indicating', 'trains', 'Juanita', 'tightly', 'ties', 'battens', 'dug', 'decrease', 'deliberate', 'novelist', 'Roger', 'stimulus', 'stirring', 'nut', 'Bridge', 'Ulyate', 'Dutch', 'dimension', 'glorious', 'vanished', 'Ten', 'substituted', 'commanded', 'unemployment', 'Naturally', 'Selden', 'tract', 'burn', 'Cambridge', 'glow', 'muscular', 'afterward', 'exhibits', 'pools', 'sustained', 'textiles', 'networks', 'differential', 'discouraged', 'intensive', 'whiskey', 'Local', 'intend', 'imports', 'stirred', 'rope', 'soils', \"Department's\", 'touching', 'palace', 'vs.', 'batting', 'reward', 'devote', 'virtues', 'parks', 'explosion', 'Powell', 'assault', 'kissed', 'catcher', 'meaningless', 'dropping', 'Al', 'battery', 'reasoning', 'Norman', 'memories', 'Jerry', 'excellence', 'realities', 'nineteenth-century', 'tentative', 'preventive', \"Drug's\", 'biological', 'boost', 'validity', 'gradual', 'transmission', '1912', 'fluids', 'plunged', 'constructive', 'shower', 'Steinberg', 'onion', 'ham', 'ashamed', 'bottles', 'potato', 'Morton', 'contributing', 'deserted', 'Elizabeth', 'Carla', 'kick', 'Dandy', \"wife's\", 'Oriental', 'ballistic', 'razor', 'wider', 'Aegean', 'dish', 'dragging', 'p.', 'printing', 'distinctions', 'defeated', 'productivity', 'sweep', 'shipments', \"Pont's\", 'oppose', 'Homeric', 'Stalin', 'apt', 'potatoes', 'prolonged', 'Katie', 'collage', 'sights', 'Determine', 'shortage', 'distress', 'heavier', 'comparatively', 'tones', 'bees', 'Laboratory', 'accustomed', 'domination', 'Buck', 'opponent', 'fabric', \"Fromm's\", 'alter', 'Eugenia', 'explanations', 'Dark', 'linked', 'senses', 'invasion', 'sheriff', 'Somehow', 'judged', 'coalition', 'texture', 'hire', 'onset', 'commonplace', \"Hardy's\", 'sponsor', 'guessed', 'Fromm', 'Congressman', 'misery', 'peak', 'denominations', 'refusal', 'railroads', 'considers', 'clever', 'heritage', 'alongside', 'exhausted', 'sooner', 'continuation', 'doorway', 'employes', 'Internal', 'Socialist', \"country's\", 'cared', 'cafe', 'Minister', 'Anything', 'Festival', 'pill', 'writings', 'lung', 'owed', 'operates', 'optimistic', 'Chamber', 'vegetables', 'packing', 'doubts', 'Burton', 'juvenile', 'tappet', 'flashed', 'remind', 'actors', 'reactionary', 'knock', 'competing', 'arranging', 'vessel', 'Blackman', 'dissolved', 'horrible', 'creature', 'parent', 'swinging', 'damp', 'originated', 'termed', 'Israel', 'cubic', 'react', 'silly', 'Biblical', 'proves', 'pin', 'petition', 'personalities', 'picnic', 'committees', 'Radio', 'Madame', \"they'll\", 'unpleasant', 'mentally', 'freezing', 'smashed', 'scored', 'lecture', 'qualify', 'helium', 'burns', 'drain', 'Lublin', 'physician', 'straw', 'arguments', 'arteries', 'Library', 'indispensable', 'sociology', 'socially', 'eighteen', \"Russia's\", 'literal', 'proportional', 'carved', 'wrapped', 'selections', 'nearer', 'eligible', 'driveway', 'bow', 'coupled', 'convicted', 'upset', 'survived', 'readiness', 'Marty', 'strips', '10,000', 'superiority', 'fails', 'cleaned', 'Between', 'centered', 'molding', 'loses', 'leap', 'threshold', 'deemed', 'fruits', 'producers', 'wax', 'fighters', 'dismissed', 'Diane', 'odor', 'province', 'drag', 'entertain', 'Model', 'highways', 'Emory', 'supports', 'succeed', 'appearances', 'careers', 'penetrating', 'lemon', 'valued', 'Fourth', 'commands', 'folded', 'one-third', 'bubbles', 'rescue', 'revolver', 'determines', 'Daniel', 'Speaking', 'width', 'Dominican', 'retreat', 'Churches', 'hats', 'expedition', 'rounded', 'oldest', 'flung', 'debut', 'celebrated', 'fury', 'attach', 'Eve', 'vulnerable', 'realtors', 'conceive', 'sweater', 'hastily', 'Swiss', 'influences', 'pit', 'Advisory', 'proceeds', 'boxes', \"Plato's\", 'combine', 'thoughtfully', 'seats', 'dislike', 'complaint', 'expressions', 'candy', 'ceremonies', 'mild', 'Command', 'Garryowen', 'scrutiny', 'connections', 'swiftly', 'reluctant', 'boundaries', 'Belgian', 'administered', 'achieving', 'heater', 'counsel', 'ignorance', 'policemen', 'Greville', 'coordination', 'Yalta', 'prescribed', 'stare', 'Amen', 'adventure', 'beaches', 'flights', 'sincere', 'capability', 'attic', 'Picasso', 'unfortunately', 'swore', 'generator', 'paths', \"He'll\", 'pie', 'Welch', 'criticized', 'AP', 'soup', 'feared', 'pine', 'pan', 'analyzed', 'Theodore', 'dared', 'threats', 'honors', 'python', 'usage', 'Behind', 'fix', 'delegates', 'woke', 'touches', 'preparations', 'intact', 'Nassau', 'bothered', 'cruel', 'lion', 'executed', 'short-term', 'Song', 'True', '15th', 'projected', 'border', 'pairs', 'Beverly', 'marching', 'climax', 'momentum', '45', 'Water', 'illuminated', 'backs', 'toll', 'fork', 'cups', 'Eichmann', 'upright', 'Kent', 'pursued', 'cop', 'Okay', 'husbands', 'conjugates', 'chill', 'sizable', 'picking', 'administrator', 'borrowed', 'organize', 'Angels', 'Jessica', 'pickup', 'vigor', 'grim', 'statistical', 'tobacco', 'Beowulf', 'Edythe', 'Aunt', 'spectra', 'Start', 'Kentucky', 'blank', 'relaxed', 'Harlem', 'Renaissance', 'favorably', 'amended', 'prone', 'clung', 'uncomfortable', 'daughters', 'arises', 'Confederate', 'deviation', 'contempt', 'treats', 'Joan', 'painfully', 'indications', 'Jay', 'shallow', 'rancher', 'Export-Import', 'protective', 'accommodate', 'Shall', \"industry's\", 'ruin', 'annually', 'scenery', 'reforms', 'purchasing', 'profitable', 'eliminating', 'solitary', 'nails', 'bathing', 'colonial', 'Additional', 'bell', 'nursing', 'clearer', 'seventh', 'tickets', \"Jess's\", 'coordinated', 'bark', 'immense', 'aqueous', 'paragraphs', 'disapproval', '$1', 'summary', 'uniforms', 'heap', 'caution', 'intent', 'singular', 'counts', \"Khrushchev's\", '1947', 'publications', 'Ages', 'proteins', 'drums', 'pro', 'speeds', 'appealing', 'resonance', 'engage', 'Garth', 'employer', 'sensation', 'armies', 'Recently', 'evenings', 'pains', 'sustain', 'spectrum', 'yarn', 'Representatives', 'emerging', 'decomposition', 'pianist', 'fig.', 'manners', 'producer', 'organs', 'superb', 'breeze', 'draws', 'amusing', 'encouragement', 'rupees', 'V.', 'Alice', 'Control', 'penalty', 'Bari', 'bored', 'horn', 'alliance', 'Iliad', 'Egypt', 'passenger', 'frightening', 'locate', 'Protestants', 'Theater', 'Columbus', 'approve', 'framed', 'habitat', 'diagonalizable', 'applause', 'remembering', 'trustees', 'structured', 'conditioning', 'symptoms', 'significantly', 'sensible', 'participating', 'foundations', 'gradient', 'feathers', 'answering', 'instinct', 'discretion', 'disclosed', 'revised', 'irrelevant', 'professors', 'failing', 'fastened', \"town's\", 'Check', 'judicial', 'polished', 'monopoly', 'loving', 'enterprises', 'shells', 'shoe', 'Hodges', 'celebration', 'Planning', 'merits', 'transit', 'odds', 'lawn', 'cannery', 'restored', 'hopeless', 'gum', 'Irenaeus', \"people's\", 'apprentice', \"day's\", 'affixed', 'oils', 'rivers', 'cafeteria', 'countless', 'dwelling', 'smallest', 'Utopian', 'mileage', 'cousin', 'beaten', 'Space', 'eagerly', 'Put', 'strings', 'files', 'Below', 'superintendent', 'Gallery', 'arrow', 'Commissioner', 'lever', 'restrained', 'preferably', 'Tory', 'collecting', 'imply', 'solids', 'insert', 'dean', 'supplying', 'Nam', 'references', 'fictional', 'Ed', 'permanently', 'modified', 'Greene', 'ordering', 'Light', 'classified', 'tumbled', 'dumb', 'singers', 'Malraux', 'abilities', 'fits', 'blade', 'familiarity', 'averaged', 'Empire', 'conducting', 'relieve', 'pint', 'Nazi', 'Rep.', 'invitations', '65', 'monk', \"we've\", 'explaining', 'adopt', 'prayers', 'disposition', 'fists', 'bull', 'clarify', 'investigators', 'lend', 'Naval', 'moonlight', 'Telegraph', 'cluster', 'associates', 'remedy', 'separately', 'flames', 'gaining', 'understandable', 'Using', 'brutality', 'monstrous', 'involvement', 'statewide', 'port', 'miserable', 'Bishop', 'swift', 'Assistant', 'nighttime', 'cone', 'congressional', 'dictatorship', 'Birmingham', 'gates', 'acid', 'Word', 'Turning', 'utter', 'lowest', 'prose', 'Children', 'monitoring', 'depreciation', 'Oklahoma', 'pepper', 'derive', 'Truman', 'romance', 'reviewed', 'dough', 'Minnesota', 'Packard', 'suspicious', 'colt', 'Rod', 'rental', 'athletic', 'casually', 'lasting', 'static', 'hormone', 'debt', 'Springs', 'plasma', 'par', 'owns', 'businessmen', 'rebellion', 'cows', 'Sox', 'imaginative', 'defending', 'hut', 'frieze', 'taxed', 'Comedie', 'Glendora', 'Helen', 'steep', 'implicit', 'fellows', 'appeals', 'impersonal', 'paramagnetic', 'sentences', 'Lucille', 'ideology', 'commitment', 'behave', 'statutory', 'behaved', 'Doctor', 'sinister', '800', 'pole', 'curled', 'Ireland', 'correctly', 'treasurer', 'ethics', 'economics', 'observer', 'Thayer', 'assets', 'Figures', 'handy', 'pending', 'barbecue', 'sells', 'waving', 'publishing', 'Garibaldi', 'accelerated', 'handful', 'walks', 'nuclei', 'manifold', 'streetcar', 'witnessed', 'gifted', 'Generally', 'Ambassador', 'roar', 'collapsed', 'stimulation', 'abundance', 'integral', 'curb', 'solar', 'McClellan', 'safely', '1900', 'Scotland', 'A.L.A.M.', 'stopping', 'breakdown', 'N.Y.', 'G', 'Copernicus', 'twentieth', 'Women', 'unaware', 'Ave.', 'litigation', 'maps', 'rely', 'sprang', 'Along', 'Somewhere', 'subsection', 'opposing', 'couples', 'omitted', 'Garden', 'satisfying', 'Piepsam', 'lantern', 'tries', 'carpet', 'undertake', 'mutually', 'abstraction', 'portable', 'leveled', 'liberalism', 'fond', 'Order', 'brooding', 'Jeep', 'assuming', 'proclaim', 'null', 'exerted', 'exaggerated', 'grin', 'beating', 'Building', 'spur', 'Sally', 'rounds', 'Arlen', 'programing', 'ethnic', 'Hart', 'tissues', 'evaluate', 'equilibrium', 'insane', 'rug', 'solidarity', 'typically', 'charcoal', 'Colorado', 'ton', 'crimes', 'treaty', 'restless', 'invented', 'forcing', 'Whenever', 'modernization', 'nursery', 'enters', 'autistic', 'outset', 'expand', 'biography', 'psychology', 'tips', 'convey', 'linguist', 'Dad', 'Death', 'champagne', 'Gardens', 'spokesman', 'beams', 'Democrat', 'Hand', 'rockets', 'Prairie', 'Night', 'doses', 'missionary', 'cruelty', 'protested', 'neighbor', 'Guard', 'Lester', 'Food', 'squares', 'fusion', 'defects', 'guaranteed', 'experimentation', 'tumor', 'enabling', 'Unless', 'radically', 'elderly', 'Forests', 'manpower', 'Members', 'Products', 'resemblance', 'perceive', 'rubber', 'conditioner', 'undue', 'sincerity', 'planners', '32', 'Yale', 'phosphor', 'repetition', 'belonging', 'Methodist', 'differed', 'acute', 'Somebody', 'begged', 'creates', 'stability', 'progressed', 'ace', 'Ludie', 'objections', 'lectures', 'casework', 'objected', 'dot', 'Hope', 'cake', 'scores', 'earnestly', 'underwater', 'Indiana', 'mix', 'Lou', 'customary', 'complexity', 'politician', 'toilet', 'invariant', 'GOP', 'unfair', 'placement', 'Argiento', 'sector', 'blockade', 'patch', 'screwed', 'posture', '$600', 'cereal', 'forgiveness', 'shattered', 'elegant', 'decay', \"officer's\", 'Athabascan', 'WTV', 'incomplete', 'matches', 'deepest', 'gloom', 'vigorously', 'appealed', 'afternoons', 'therapeutic', 'contradiction', 'selecting', 'Hino', 'sue', 'communicate', 'analogy', 'Kohnstamm-positive', 'Kohnstamm', 'scream', 'X', 'compulsivity', 'document', 'corruption', 'sealed', 'roleplaying', 'cheeks', 'visitor', 'participated', 'Lafayette', 'tempted', 'computer', 'thread', 'execution', 'tub', 'meanwhile', 'lagoon', 'Ill.', 'Mays', 'quit', 'vocal', 'embrace', 'propose', 'likewise', 'ultraviolet', 'praised', 'consumed', 'influential', 'Hills', 'drainage', 'compass', 'Oersted', 'detection', 'deputies', 'receiver', 'inhabitants', 'antenna', 'erect', \"night's\", 'Graham', 'graduated', 'promoting', 'bacterial', 'surviving', 'A.M.', 'infantry', 'remembers', 'standpoint', 'media', 'diverse', 'Open', 'Low', \"Pip's\", 'boundary', 'necessities', 'sheer', 'suburb', 'ego', 'adapted', 'Inquirer', 'slightest', 'absorb', \"She'd\", 'induced', 'suggesting', 'Anderson', 'Tribune', 'Artists', 'lieutenant', 'clergy', 'explore', 'world-wide', 'independently', 'Ask', 'Market', 'realizing', 'whisper', 'compounded', 'Richardson', 'demographic', 'Cut', 'presumed', 'youngest', 'Persians', 'tilted', 'Winchester', 'swallowed', 'unstructured', 'Anyone', 'tourists', 'eaten', 'pray', 'Chris', 'Charter', 'tank', 'spokesmen', 'coincide', 'trailers', \"Foundation's\", 'deduct', 'cooler', 'lately', 'bastards', 'Income', 'prayed', 'Richmond', 'amid', 'Sansom', 'affirm', 'aspirations', 'blocked', 'performers', 'Monsieur', 'lens', 'inning', 'tennis', 'ridge', 'prosperity', 'harsh', 'solemn', 'gaze', 'employ', 'Switzerland', 'Rockefeller', 'strokes', 'Station', 'Hunter', 'downstairs', 'nilpotent', 'stereotype', 'crashed', 'mare', 'adventures', 'intersections', 'anti-slavery', 'McFeeley', 'Andrus', 'manned', 'gossip', 'leaning', 'exclaimed', 'blew', 'suspension', 'sisters', 'combustion', 'dolls', 'decides', 'pro-Western', 'magical', 'fulfillment', '2:36', 'purse', 'unlocked', 'ironic', 'hymen', 'meadow', 'equality', 'partisan', 'enacted', 'Electric', 'perceived', 'Garry', 'trot', 'welcomed', 'processed', 'Purdew', 'cane', 'Recent', 'intellectuals', 'fearful', 'Churchill', 'Friends', 'expended', 'buddy', 'dental', 'limp', 'cm.', 'Meltzer', '$500', 'festival', 'detected', 'joints', 'Data', 'fountain', 'Bryan', 'controversial', 'two-thirds', 'weep', 'farewell', 'luminous', 'yielded', 'entertaining', \"Women's\", 'Federation', 'unwed', 'believing', 'interpretations', 'choices', 'islands', 'unlimited', 'secant', 'Country', 'restaurants', 'halted', 'challenging', 'cumulative', 'fantasy', 'whipped', 'Brassnose', 'insect', 'Fine', 'acknowledged', 'installation', 'egg', 'wrinkled', 'functioning', 'legislature', '1943', 'Max', 'staggered', 'durable', 'dialogue', 'Grant', 'carryover', 'chapters', 'incest', 'passions', 'enabled', 'fleet', 'hairs', 'Tri-State', 'sizes', 'honestly', 'pension', 'bubble', 'purity', 'vessels', 'discount', 'seeming', 'beds', 'Better', 'landlord', 'Gabriel', 'kicking', 'diversity', 'refrigeration', 'blues', 'parochial', 'initiated', 'Korea', 'leaf', 'porous', \"Lord's\", 'Drive', 'virus', 'Cappy', 'overall', 'incentive', 'defenses', 'stones', 'inventories', 'Delphine', 'Andrew', 'extends', 'Farm', 'Southwest', 'Feathertop', 'stereo', 'pleading', 'pretending', 'Wayne', 'heights', 'liquidation', 'temptation', 'Try', 'cigarettes', 'Hetman', 'louder', 'deficit', 'Mexicans', 'baptized', '1913', 'cm', \"Steele's\", 'stubborn', 'elevator', 'cab', 'Guam', 'Yang', 'Seeing', 'focused', 'snap', 'foremost', 'idle', 'insoluble', 'distinctly', 'correspondent', 'terminate', 'statute', 'supposedly', 'quaint', 'incorporated', 'state-owned', 'absorption', 'contended', 'irony', 'blindness', 'resident', 'Ptolemaic', 'maker', 'Cooper', 'acknowledge', 'attendant', 'boil', 'urgency', 'Dwight', '20th', 'painters', 'dice', 'lighter', '104', 'alcohol', 'calculation', 'agriculture', 'composite', 'spectators', 'breaks', 'adolescent', 'episode', 'bastard', '$100', 'Bulletin', 'smoothly', 'adjacent', 'hardened', 'maids', \"Trevelyan's\", 'layer', 'terminal', 'map', 'blades', 'copper', 'arriving', 'Future', 'molded', 'loosely', 'Atlas', 'cabinet', 'Everybody', 'crossroads', 'floors', 'sweeping', 'neon', 'gods', 'newest', 'compact', 'diagnosis', 'transferor', 'mythological', 'hollow', 'masters', 'theatrical', 'formulaic', '1.5', 'undergoing', 'unadjusted', 'evidenced', 'hopeful', 'furiously', 'Harmony', 'Benjamin', 'Monroe', 'infrared', 'grab', 'individualism', 'tappets', 'traced', 'everyday', 'swollen', 'Selkirk', 'requested', 'opponents', 'passionate', 'convert', 'territorial', 'Taking', 'shelf', 'Lumumba', 'Metropolitan', 'raced', 'chewing', 'ignorant', 'wealthy', 'grandfather', 'resolve', 'lime', 'sunset', 'consciously', 'dentist', 'villages', 'collaboration', 'Beethoven', 'transparent', 'nomination', 'rebels', 'Russell', 'populated', 'elite', 'youthful', 'evolution', 'stockade', 'ceased', 'lasted', \"Roberts'\", 'coatings', 'Turkish', '7th', 'retention', 'aloud', 'resultant', 'Masters', 'Grandma', 'tower', 'sunny', 'Age', 'Mass.', 'Parliament', 'dependence', 'Joel', 'icy', 'deserved', 'Trujillo', 'recalls', 'sorts', 'reacted', 'murders', 'Soviets', 'boot', 'antigen', 'counting', 'Nazis', 'doubtless', 'Pentagon', 'babies', 'acquainted', 'credited', 'ordinarily', 'turmoil', 'co-operation', 'ominous', 'wires', 'lyric', 'cavity', 'mercenaries', 'composers', 'strengthening', 'jerked', 'resort', 'sadly', 'antibody', 'guerrilla', 'vocabulary', 'effected', 'deserve', \"kid's\", 'dialysis', 'lightning', 'Emperor', 'accordingly', 'gauge', 'Torrio', 'nerve', 'trigger', 'crest', 'adjoining', 'News', 'nineteen', 'teen-agers', 'advisers', 'daring', 'phony', 'impulses', 'interviewed', 'Has', 'ballot', 'initially', 'Half', 'antique', 'violently', 'Hot', 'Essex', 'Inside', 'noting', 'circumstance', 'speakers', 'giants', 'chickens', 'couch', 'Charlotte', 'globe', 'Discovery', 'thunder', 'pity', 'Herbert', 'instituted', 'anaconda', 'stray', 'ribbon', 'fashionable', 'promoted', 'settlers', 'salesman', 'indictment', 'gripped', 'Shelley', 'Congolese', 'borders', 'Pearson', 'proven', 'eccentric', 'satisfactorily', '38', 'capitalism', 'embarrassing', 'evaluated', 'deficiency', 'Hesperus', 'weights', 'towels', 'muffled', \"Scotty's\", 'render', 'sodium', 'frighten', 'tear', 'Chapel', 'breast', 'beg', 'injuries', 'airplane', 'counterparts', 'bursting', 'Earl', 'happier', 'infancy', 'sexes', 'furnace', '1920', 'trailer', 'sixties', 'construct', 'constitution', 'Korean', 'presidential', 'curse', 'ribs', 'Bar', 'squeeze', 'juice', 'restraint', 'bits', 'Hillsboro', 'enzymes', 'marking', 'proprietor', 'Column', 'custom', 'ninety', 'Exchange', 'crawl', 'requests', 'purple', 'concentrate', 'electoral', 'sprawled', 'deciding', 'commercially', 'Fall', 'twenty-four', 'unusually', '$1,000', 'Vince', 'Knight', 'Boys', 'rabbit', 'threaten', 'successive', 'fixing', 'accumulation', 'rejects', '1941', 'limiting', 'Reserve', 'tender', 'Main', 'Pohl', 'towering', 'loading', 'civilized', 'fluorescence', 'compartment', 'drastic', 'enclosed', 'colonel', 'Timothy', 'comprise', 'retain', 'disappear', 'snatched', 'rubbing', 'commissioners', 'emotionally', 'passive', \"Jack's\", 'gifts', 'Hey', 'honeymoon', 'rotation', 'exert', 'Railroad', 'buys', 'debts', 'formulated', 'Progress', 'Consequently', 'shaken', 'Dillon', 'Australia', 'forthcoming', 'conclusive', 'Hogan', 'Herald', 'Moon', 'consultant', 'Edwin', 'angles', 'wonderfully', 'calendars', 'liking', 'choosing', 'cylindrical', 'invested', 'settling', 'necessitated', 'revealing', 'dreaming', 'respected', 'warn', 'duration', 'natives', 'mills', 'noticeable', 'divide', 'Tony', 'Jastrow', 'investigate', 'consult', 'acrylic', 'recover', 'moist', 'locating', 'Szold', 'Kremlin', 'planted', 'dose', 'Throat', 'grasped', 'rejection', 'chronic', 'arched', 'grill', 'declares', 'entities', 'enlisted', 'meats', 'lane', 'shades', 'poorly', 'apprehension', 'fur', 'Anglican', 'pavement', 'Introduction', 'taxpayer', 'intelligible', 'comfortably', 'constitutes', 'lodge', 'foregoing', 'Heights', 'deaf', 'Dylan', 'formulations', 'keen', 'contrasts', 'cemetery', 'treatments', '90', 'bloom', 'bronze', 'spinning', 'indifferent', 'flies', 'Jimmy', 'historically', 'Midwest', 'McBride', 'deductions', 'metaphysics', 'frowning', 'mineral', 'conceivable', 'Looking', 'plow', 'yearly', 'gasoline', 'nucleus', 'eloquent', 'bankers', 'lake', 'crept', 'blond', 'script', 'revelation', 'shaft', 'floating', 'cheaper', 'Phillips', 'energies', 'founding', 'pose', 'Oregon', 'complain', 'endured', 'statesman', 'disguised', 'minerals', 'tracks', 'frantic', 'tires', 'orthodox', 'Brumidi', 'Got', 'memorable', 'streams', 'dies', 'therapy', 'pituitary', 'Ross', 'Barnett', 'discrepancy', 'hazard', 'nearing', 'mg.', 'develops', 'Similar', 'criticisms', 'Quint', 'Protestantism', 'L', 'inspect', 'Albany', 'epidemic', 'Agriculture', \"individual's\", 'Moritz', 'observing', 'wired', 'approximate', 'framework', 'posted', 'Dill', 'Presbyterian', 'Taliesin', \"Eisenhower's\", 'appreciated', 'Cubism', 'gap', 'surgeon', 'adopting', 'merchant', 'contrasting', 'portions', 'Sixties', 'twisting', 'awkward', 'amazed', 'motivation', 'trusted', 'partial', 'usefulness', 'shifting', 'tin', 'aerator', 'smiles', 'Services', 'thereto', 'specify', 'theaters', 'Willie', 'integrated', 'investors', 'eventual', 'teaches', 'infant', 'autonomic', 'housed', 'energetic', 'regretted', 'manufactured', 'Ever', 'conceded', 'Hiroshima', 'fulfilled', 'thoughtful', 'Stone', 'childish', 'Information', '1942', 'contraction', 'frustration', 'array', 'Piazza', 'transfers', 'preserves', \"Shakespeare's\", 'Spelman', 'spaces', 'sliding', 'Sons', 'peasants', 'photographic', 'McKinley', 'nod', 'coincidence', 'specimens', 'arising', 'criteria', 'lousy', 'veterans', 'dots', 'wart', 'assistants', 'symbolized', 'entertained', 'explored', 'Maria', 'summit', 'quantities', 'continent', 'Crombie', 'Mahzeer', 'electrons', 'cohesive', 'sanction', 'faithful', 'butt', 'ml', 'pollen', 'rendering', 'Reef', 'carriage', 'temper', 'privacy', 'fatigue', 'mist', 'plowing', 'climb', 'rival', 'meters', 'squarely', 'rebel', 'psychologists', 'Birds', 'incidents', 'narrator', 'actively', 'frankly', 'unified', 'organ', 'delegation', 'coexistence', 'sculpture', 'Easter', 'Less', '41', 'spit', 'gymnastics', 'neglect', 'interpret', 'grimly', 'unexpectedly', 'swim', 'tropical', 'UN', 'Plymouth', 'leisure', '1000', 'nominal', 'premium', 'politically', 'postwar', 'afforded', 'graduation', 'congruence', 'scholar', 'unprecedented', 'scratching', 'distorted', 'rhythms', 'journalism', 'expectation', 'lengthy', 'Venus', 'secured', 'constituted', '250', 'agrees', 'hardest', 'Viola', 'Porter', 'appropriated', 'tomb', 'Michael', 'anticipate', 'Hong', 'Eight', 'posse', 'varies', 'Kong', 'equitable', 'Kehl', 'Vivian', 'rider', 'strained', 'Hampshire', 'airport', 'Rev', 'mounting', 'Claude', 'log', '1,000', 'nigger', 'flush', 'outline', 'architecture', 'Master', 'titled', 'doubled', 'shed', 'barbed', 'cooperate', 'dominance', 'bands', 'undergraduate', 'appetite', 'attributes', 'Trustees', 'cult', 'silk', 'Corp.', 'Maxwell', 'sleeve', 'Mahayana', 'curtain', \"earth's\", 'analyses', 'uniformity', 'finite', 'carriers', 'convincing', 'aided', 'disliked', 'testified', 'surveys', 'rocking', 'locally', 'Town', 'trivial', 'Cross', 'Either', 'cultures', 'rotating', 'timing', 'detached', 'tribes', 'facility', 'proclamation', 'quo', 'possessions', 'microorganisms', 'obtainable', 'outcomes', 'nailed', 'preacher', 'adverse', 'Orioles', 'U', 'perfection', 'dimensional', 'eastern', 'disciplined', 'Winslow', 'laying', 'repaired', 'blankets', 'oriented', 'Polish', 'Side', 'generated', 'beneficial', 'confess', 'treating', 'foreigners', 'schoolhouse', 'ghetto', 'slice', 'sigh', 'compound', '1930', 'vacant', 'waist', 'depressed', 'vapor', 'persisted', 'Pedersen', 'rally', 'urging', 'nitrogen', 'distributions', 'strenuous', 'Lilly', 'blessing', 'Governments', 'risen', 'puzzle', 'la', 'zone', 'halt', 'Gordon', 'descending', 'outward', 'wholesome', \"brother's\", 'insulation', 'screens', 'thermometer', 'button', 'fathers', 'comrades', 'utilize', 'deputy', 'Evans', 'Sturley', 'managerial', 'professionals', 'tasted', 'exceeds', 'instrumental', 'deficiencies', 'tremble', '17th', 'solidly', \"latter's\", 'spark', 'fleeing', 'projections', 'refrain', 'summoned', 'unite', 'Give', 'afterwards', 'vain', 'Fosdick', 'refusing', 'mice', 'expenditure', 'ration', 'poison', 'descent', 'glowing', 'Must', 'enjoys', '57', 'Prize', 'Except', 'deceased', 'greatness', 'plotted', 'mg/l', 'ranges', 'burial', 'duly', 'ripe', 'Adjusted', 'Herman', 'Drexel', 'tents', 'recruit', 'departing', \"We'd\", 'Best', 'A.D.', 'subsequently', 'Littlepage', 'Eleanor', 'Tax', 'merge', 'eighty', 'rake', 'reject', 'hysterical', 'economically', 'contributes', \"girl's\", 'diagram', 'sixteenth', \"bull's-eye\", 'ardent', 'compiled', 'Ramsey', 'Thanks', 'Authority', 'Margaret', 'drastically', 'VA', 'technicians', 'tide', 'coordinate', 'disabled', 'recordings', 'hip', \"Alex's\", 'Pathet', 'Skorich', 'elevated', 'mining', 'dash', 'warmed', 'cursed', 'luggage', 'assessing', 'waiter', 'feminine', 'Hawksley', 'secede', 'principally', 'Odyssey', 'akin', 'founder', 'indebted', 'Asian', 'vice-president', 'hesitate', 'specificity', 'declaring', 'hemisphere', 'vengeance', 'admire', 'Boris', 'editorials', 'avoiding', 'kennings', 'missionaries', 'Sweden', 'pasture', 'perfume', 'segment', 'slim', 'Telephone', 'deposited', 'Stacy', 'mount', 'creep', 'advocate', 'crushed', 'Eyes', 'Simmons', 'alternate', 'insists', 'theft', 'channel', 'slashed', 'lunar', 'radioactive', 'swelling', 'blooming', 'Huff', 'Lauren', 'gm.', 'rushing', 'forecast', 'philosophic', 'prostitution', 'indignant', 'intricate', 'mob', 'prediction', 'negligible', 'Hebrew', 'Depot', 'masterpiece', 'Howe', 'transducer', 'turnpikes', 'Slim', 'muddy', 'cigar', 'entity', 'Cold', 'saloon', 'rustling', 'freed', '36', 'defendants', 'synthetic', \"Isn't\", 'Riverside', 'imperative', 'subsistence', 'preoccupied', 'misleading', 'descriptions', 'Apart', 'brace', 'acreage', 'sermon', 'climbing', 'advisory', 'Stock', 'Autocoder', 'megatons', \"Papa's\", 'Persian', \"Government's\", 'representations', 'Newman', 'misfortune', 'buttons', 'dialect', 'legends', 'educator', 'paste', 'Cavalry', 'waking', 'Sun', 'sings', 'oily', 'utilized', 'clues', 'disagreement', 'coats', 'marital', 'privileges', 'psychologist', 'dozens', 'topics', 'disturb', 'muzzle', 'summers', 'bounds', 'coin', 'Rusk', '85', 'youths', 'framing', 'nickname', 'void', 'impatient', 'hull', 'drilling', 'marines', 'harvest', 'text-form', 'politely', 'cathode', 'robbed', 'albumin', \"Chicago's\", 'Certain', 'magnification', 'layers', 'misunderstanding', 'disturbance', 'catastrophe', 'Dumont', 'lease', 'Pratt', 'assuring', 'earthy', 'paragraph', 'shy', 'fertility', 'acquiring', 'simplest', 'huddled', 'journalist', 'applicants', '1859', 'devoting', 'poised', 'Bright', 'sectors', 'darling', \"Johnson's\", 'Northeast', 'Pops', 'loads', 'prejudice', 'Brandt', 'arch', 'Figs.', 'hardware', 'allotted', 'Trig', 'confronting', 'strict', 'hideous', 'anchored', 'imagery', 'meantime', 'streak', 'pump', 'scar', 'consecutive', '1935', 'Isaac', 'sailed', 'handicapped', 'honesty', 'fragments', 'Romans', 'non-violent', 'genuinely', 'conscientious', 'integrity', 'adjusting', 'obstacle', 'criterion', 'arguing', 'screws', 'privileged', 'implication', '1937', 'Cap', 'diminished', 'patches', 'Foster', 'holster', 'admiration', 'mm.', 'bee', 'archaeology', 'Stop', 'Industry', 'underdeveloped', 'phonologic', 'unfamiliar', 'singled', 'Plains', 'calmly', 'accumulated', 'reservoir', 'semester', 'pleasing', 'Polaris', 'seas', 'Jet', 'tenure', 'reinforce', 'inorganic', 'spreads', 'commute', 'embodiment', 'Tar', 'Hub', 'occurrences', 'likelihood', 'incapable', 'typewriter', 'Steichen', 'decency', 'mortal', 'negotiate', 'allied', 'clients', 'mates', 'relevance', 'nowadays', 'accomplishments', 'theorem', 'mastery', 'learns', 'container', 'Review', 'denying', 'anionic', 'ads', 'paced', 'harness', 'vagina', 'adoption', 'Fla.', 'accuse', 'commercials', 'neurotic', 'argues', 'polynomials', 'danced', 'thirty-five', 'acre', 'schedules', 'elephants', 'doll', 'Goldberg', 'analyze', 'disarmament', 'Lucien', 'mixing', 'combining', 'ad', 'tyranny', 'privately', 'cement', 'Concord', 'Meeker', 'patriotic', 'alleged', 'Magnum', 'museums', 'logically', 'pious', 'identities', 'veto', 'Herr', 'lifetime', '48', 'willingness', 'ingenious', 'stole', \"King's\", 'compilation', 'prints', 'conversations', 'Leonard', \"Who's\", '72', 'parish', 'coarse', 'vegetable', 'uniquely', 'keelson', 'listener', 'Quite', 'bearded', 'margin', 'owe', 'longing', 'gigantic', 'airplanes', 'Larkin', 'Majdanek', 'Emma', 'grief', 'wheeled', 'sociological', 'bags', 'overt', 'constituents', 'sergeant', 'marijuana', 'compulsive', 'three-dimensional', 'licked', 'saint', 'bite', 'impatience', 'sensations', 'consulting', 'elemental', \"Mary's\", 'recognizes', 'admirable', 'accounting', 'abandonment', \"Here's\", 'chains', 'communion', 'Lloyd', 'Carmer', 'nationally', 'bloc', 'immigrants', 'Calhoun', 'guiding', 'amazement', 'Brodie', 'angels', 'detect', 'champions', 'bush', 'undesirable', \"Greg's\", 'chase', 'segments', 'Todman', 'Gazette', 'Aside', 'drum', 'compositions', 'boiled', 'crowds', 'employing', 'limitation', 'raid', '1917', 'scars', 'violin', 'mornings', 'Ken', 'costume', 'Richards', 'Fair', 'doomed', 'Conrad', 'Freeman', 'unanimously', 'segregation', 'Paso', 'AIA', 'Clearly', 'patronage', 'differs', 'rides', 'curiously', 'strode', 'favorites', 'Petitioner', 'completing', 'paints', 'tremendously', 'Route', '71', 'clergyman', 'thumb', 'rolls', 'scanned', 'tops', 'Blues', 'commuter', 'intensely', 'Fellowship', 'Appendix', 'holidays', 'Del', 'Bake', 'retrieved', 'Ernest', 'Ellen', 'conform', 'Whereas', 'aggression', 'symphony', 'Theatre', 'dreadful', 'Warsaw', 'extensively', 'Training', 'diagnostic', 'tunnel', 'awfully', 'cultivated', 'frustrated', 'fake', 'oh', 'Brenner', 'wipe', 'northwest', \"Man's\", 'Hansen', 'launch', 'preventing', 'southeast', 'melodies', 'Staff', 'swear', 'exports', 'judging', 'Istiqlal', 'poultry', 'oxen', 'sail', 'favors', 'feeds', 'fragile', 'pork', 'railway', 'Scottish', 'monks', 'Montero', 'interim', 'restrain', 'wool', 'conjugate', 'Barbara', 'nonsense', 'viscosity', 'no.', 'dimly', 'dramatically', 'specialization', 'token', 'jaws', 'witty', 'ye', 'waterfront', 'bolt', 'Julie', 'pleasantly', 'generals', 'Parents', 'adds', 'linguists', 'undergone', 'restrict', 'militia', 'boredom', 'introduce', 'enduring', 'rhythmic', 'reunion', 'Chester', 'bronchioles', 'bleak', 'Phoenix', 'Ball', 'reckless', 'involution', 'spat', 'Av.', 'murdered', 'motivated', 'guarding', 'Pa.', 'impurities', 'ions', 'stiffly', 'dusk', 'Eromonga', 'Wyoming', 'skies', 'thirteen', 'Grosse', 'ditch', 'distal', 'cooked', 'Blatz', 'occupants', \"governor's\", 'Minneapolis', 'exhibited', 'Oscar', 'corrected', 'derives', 'chairmen', 'eyebrows', 'Hengesbach', 'Randolph', 'Schaffner', 'slower', 'Roebuck', 'duck', 'arrange', 'Gran', 'apportionment', 'Larry', 'delivering', 'Pastern', 'picket', 'f{t}', 'hard-surface', 'sponsors', 'designing', 'sped', 'aerated', 'Shea', 'outright', 'potent', 'proportionate', 'tearing', 'Partisan', 'generators', 'Jupiter', 'Living', \"it'll\", \"other's\", 'businessman', 'averages', 'Marvin', 'spy', 'whirling', 'escort', 'grammatical', 'antibodies', 'chapel', 'dissatisfaction', 'Elec', 'Gonzales', 'sewing', 'humans', 'menace', 'alveolar', 'Rankin', \"It'll\", 'tackle', 'attacking', 'biwa', \"Georgia's\", 'handkerchief', 'heel', 'half-man', 'handles', 'dinners', 'Garson', 'Skeletal', 'deposit', 'Interstate', 'Bears', 'Jubal', 'doubted', 'Bernard', 'ringing', 'Year', 'PBS', 'DEAE-cellulose', 'Trade', 'Shaw', 'Gene', '46', 'End', 'Executive', 'morphophonemics', 'bushes', 'Dogtown', 'discharged', 'drifting', 'resigned', 'Bermuda', 'Hague', 'steeple', 'Jenkins', 'irradiation', 'Giants', 'challenged', 'Credit', 'competitors', 'Moses', 'suds', 'Hohlbein', 'Savannah', 'coins', 'Kayabashi', 'collaborated', 'sore', 'majestic', 'skiff', 'AM', 'Wagner-Peyser', 'Douglass', 'reared', 'dumped', 'regulus', 'Holden', 'flooded', 'Sidney', 'fulfill', 'discharges', 'Esther', 'Cincinnati', 'al', 'Prevot', '1924', 'Profile', 'Freedom', \"else's\", 'palatability', 'Students', 'Kohnstamm-negative', 'Angel', 'taxation', 'subsystems', 'tastes', 'Braque', 'Christiana', 'Byrd', 'finishing', 'Muller', 'figs.', 'clerical', 'depended', 'Docherty', 'Partlow', 'vases', 'stillness', 'draped', 'provinces', 'graceful', 'interfere', 'elder', 'awoke', 'cave', 'hint', 'Mountains', 'sullen', 'slug', 'colleague', 'labeled', 'B-52', 'grease', 'Maine', 'positively', 'Higher', 'cheerful', 'Turnpike', 'Girl', 'departed', 'Eden', 'Australian', 'fox', 'earthquake', 'Into', \"O'Banion's\", \"Island's\", 'lazy', 'resisted', 'chromatic', 'occupational', 'flashes', 'ambassador', '1925', 'guts', 'Barnes', 'plea', 'homely', 'wilderness', 'groupings', 'exploited', \"Peter's\", 'admissible', 'Fiat', 'Plan', 'enables', 'abundant', 'stains', 'nicely', 'precipitated', 'Philharmonic', 'searched', 'Acting', 'anxiously', 'presenting', 'prosecution', 'voluntarily', 'recovered', 'illegal', 'seam', 'bounded', 'prohibition', 'hazards', 'brilliantly', 'ills', 'proudly', 'empire', 'spared', 'orthodontist', 'industrialized', 'pour', 'seams', 'projection', 'Shortly', 'proportionately', 'cheese', 'hastened', 'resource', 'marched', 'settings', 'classics', 'municipalities', 'vitally', '1/4', 'Frankfurter', 'await', 'quack', 'zinc', 'anecdote', 'locker', 'blown', '1933', 'tortured', \"Gavin's\", 'wheat', 'simplify', 'Walton', 'antagonism', 'radius', 'stretches', 'brood', \"Palfrey's\", 'retire', 'skillful', 'consumers', 'cites', '2:35', 'sterile', 'embassy', 'Thor', '150', 'advertised', 'gospel', 'simplified', 'circled', 'emerges', 'denoted', 'attainment', 'paradox', 'equations', 'knit', 'guarantee', 'earning', 'unconsciously', 'geometry', 'constants', 'begging', 'preoccupation', 'Kirby', 'indignation', 'computing', 'illustrations', 'tune', 'soaking', 'calculations', 'Minor', 'destined', 'addressing', 'seeks', 'mask', 'Salter', 'roast', 'extremes', 'amused', 'twentieth-century', 'Harriet', 'Always', 'reins', 'elegance', \"Wright's\", 'picturesque', '10-year', '100,000', 'surveyed', 'Fighting', 'Indies', 'unquestionably', 'resin', 'attractions', 'sticky', 'Precious', 'cautious', 'Dulles', 'Duke', 'ally', 'rack', 'numbered', 'traditionally', 'spontaneously', 'choke', 'timely', 'smoked', 'scrambled', 'elders', 'closest', 'bouncing', 'Unlike', 'stepping', 'manifestations', 'resembles', 'discourage', 'vastly', 'heavens', 'atmospheric', 'angel', 'irresponsible', 'toe', 'tailored', 'cork', 'proceeding', 'assigning', 'Indonesia', 'scratch', 'viewing', 'Battle', '40,000', 'gland', 'institutional', 'Publications', 'defining', 'verses', 'etcetera', 'ensemble', 'plumbing', 'winding', 'salad', 'pineapple', 'offset', 'efficacy', 'theologians', 'hierarchy', 'extracted', 'Freud', 'looming', 'clause', 'wishful', 'currents', 'tenants', 'advancement', 'dazzling', 'Forbes', 'broadening', 'campers', 'quantitative', 'guides', 'Arizona', '47', 'manifest', 'dictates', 'beginnings', 'Ritter', 'borrow', 'ghost', 'Sundays', 'Congressional', 'regret', 'specially', 'inspiration', 'versus', 'anatomical', 'heartily', 'prevents', 'well-being', 'assessed', 'impose', 'trades', 'discoveries', 'immensely', 'similarity', '0.5', 'swayed', 'breathed', 'watercolor', 'utilization', 'gram', 'shaved', 'pants', 'agony', '0.1', 'additions', 'barrier', 'augmented', 'sweetheart', 'anatomy', 'persistence', 'Say', 'annoyance', 'destination', 'versions', 'butyrate', 'cellulose', 'counterpart', 'unification', 'marvelous', 'soloist', 'hillside', 'preference', 'gravel', 'commissions', 'pouring', 'restore', 'subordinates', 'forecasting', 'unchanged', 'comparing', 'summarized', 'Against', 'unimportant', 'rocky', 'caring', 'quill', 'pigment', 'Bronx', 'conflicts', 'creativity', 'intercourse', 'bin', 'Deal', 'grotesque', 'persuasion', 'conveyed', 'gracious', 'fighter', 'induce', 'conventions', 'satire', 'Mass', 'troop', 'commanding', \"How's\", 'Anyway', 'replies', 'overcast', 'conservatism', 'horizontal', 'ft.', '18th', 'blessed', 'sometime', 'conceptions', 'attendance', 'drifted', 'withdrew', 'indulge', 'supplementary', 'Left', 'ministers', 'untouched', 'tolerant', 'ratings', 'invite', 'engendered', 'filter', 'cousins', 'cage', \"son's\", 'enchanting', 'linguistic', 'indicators', 'publishers', 'sensory', 'mortar', 'irregular', 'reviewing', 'Claims', 'precedent', 'weird', 'Merchant', 'malaise', 'Rules', 'Coombs', 'gratitude', 'nightmare', 'Ferry', 'superbly', 'beans', 'dresses', 'Kingdom', 'yell', 'illumination', 'avocado', 'polls', 'Cotton', 'mill', 'Preparation', 'Presently', 'consolidation', 'employs', 'Factory', 'Unit', 'existential', 'spectator', 'latent', 'editions', 'Cadillac', 'protests', 'echo', '3,000', 'evils', 'melted', 'dual', 'improves', 'ingredients', 'pamphlets', 'retains', 'reconnaissance', 'formulate', 'snapping', 'proclaimed', 'export', 'weighing', 'battered', 'domain', 'eminent', 'nagging', 'Gentile', 'Luis', 'puzzling', 'philosophers', 'therein', 'spacious', 'Foods', 'miscellaneous', 'boiling', 'sorrow', 'vividly', 'Classes', 'declining', 'Wisman', 'Kirov', 'compressed', 'Cologne', 'molecules', '$10,000', 'revisions', 'Eventually', 'narrowed', 'Headquarters', 'Add', 'elimination', 'generalized', 'reviews', 'perceptions', 'Fathers', 'wrist', 'reservations', 'denominational', 'grunted', 'ragged', 'pathological', 'symbolize', 'glaze', 'permitting', 'monkey', \"Mann's\", 'Buddhism', 'contention', 'chocolate', 'scholastic', 'catching', 'appalling', 'reportedly', 'mimesis', 'filly', 'virgin', 'purified', 'resumption', 'obedience', 'convertible', 'Hungarian', 'breasts', 'suggestive', 'one-half', 'postponed', 'Housing', 'Shann', 'rated', 'spatial', 'histories', 'facets', 'P.M.', 'Toynbee', 'accord', 'accent', 'bulky', 'workable', 'thesis', 'notices', 'questionable', 'warming', 'Falls', 'Boulevard', 'Youth', 'honorable', 'hardship', 'monetary', 'topic', 'thigh', 'tougher', 'patrons', 'seventeenth', 'obtaining', 'smells', 'systematically', 'shores', 'pulls', 'surge', 'deadlock', 'Germanic', 'enrolled', 'lessened', 'Group', 'Texans', 'steering', 'exploit', 'poll', 'adaptation', 'timed', 'tours', 'hints', 'counseling', 'averaging', 'centralized', '2%', 'invasions', 'rails', 'vent', 'developmental', 'ordinance', 'pulse', 'sewer', 'nephew', 'enormously', 'trifle', 'Push-Pull', 'Fiedler', 'outlet', 'warnings', 'conceivably', 'pansies', 'roaring', 'introducing', 'halfback', \"Faulkner's\", 'Drill', 'forests', 'badness', 'glove', 'Voltaire', 'Han', 'inward', 'worldly', 'steer', 'condensed', 'orbits', 'wept', 'rating', 'Rice', 'miniature', 'plywood', 'Relations', 'furnishings', 'metallic', 'deduction', 'vitamins', 'Norton', 'Kearton', 'pelts', 'K', 'moisture', 'redcoats', 'hauled', 'Bienville', 'concentrations', '55', 'incurred', 'shivering', 'swallow', 'Da', 'Schweitzer', 'dread', 'haste', 'yielding', 'Band', 'dig', 'Othon', 'balloon', 'dense', 'Star', 'disclose', 'pennant', 'Meek', 'Rogers', 'carefree', 'Milwaukee', 'acquaintance', 'homer', 'peering', 'Super-Set', 'wounds', 'irregularities', 'examinations', 'coupling', 'compelling', 'spindle', 'Von', 'concealed', 'removing', 'Gradually', 'veil', 'Doaty', 'Yin', 'Near', 'saloons', 'plots', 'Draft', 'Rhodes', 'upside', 'kills', 'ancestry', 'pathetic', 'Works', 'evolved', 'recreational', 'sailors', 'selfish', 'Robards', 'technically', 'corrupt', 'imported', 'skinny', 'Buzz', 'Papa-san', 'relates', 'scrap', 'diagrams', \"Rayburn's\", 'chooses', 'reciprocal', 'Gratt', 'symbolism', 'trio', 'jumping', 'chef', 'CD', 'Atomic', 'Buddha', 'fitness', '24-hr.', 'stamp', 'Gibson', 'exploded', 'periodic', 'yourselves', 'Pirates', '1931', 'crystals', 'focal', 'footsteps', 'umbrella', 'Dead', 'Marx', 'qualification', 'shaping', 'flu', 'mock', \"Barco's\", 'resemble', 'directional', 'withheld', 'accompaniment', 'neutralist', 'overly', 'apportioned', 'interdependent', 'equals', 'Connally', 'perilous', 'expose', 'Jacques', 'bacteria', 'revolt', 'ultrasonic', 'workbench', 'distilled', 'attained', 'Inspector', 'everlasting', 'strains', 'wins', 'Seminary', 'heed', 'dependable', 'palms', 'Guy', 'Guideposts', 'residue', 'Investigation', 'Leaving', 'analyzing', 'Catholicism', 'Babe', 'mentioning', 'Orthodox', 'irresistible', 'spirited', 'tolerance', 'shield', 'interpreter', 'festivities', 'sympathies', 'discontent', 'accelerometers', 'pumping', 'setup', 'debris', 'Angelo', 'differentiation', 'pH', 'ensure', 'accidental', 'Ryusenji', 'gaiety', 'foamed', 'census', 'Hamrick', 'insistent', 'avoidance', 'post-war', 'reminder', '**yf', 'Citizens', 'Walnut', 'shelves', 'cardinal', 'restorative', 'cynical', 'repel', 'Thornburg', 'scenic', 'Friend', 'oysters', 'knitted', 'inescapable', 'anguish', 'realistically', 'Confrontation', 'jokes', 'sophistication', 'compulsion', 'wicked', 'deeds', 'accidents', 'veranda', 'baroque', 'traces', 'distaste', 'downright', 'McCormick', 'generously', 'cares', 'deprived', 'microscope', 'Constantine', 'Newark', 'sticking', \"Helva's\", 'polish', 'singer', 'agreeable', 'Nogol', 'niece', 'Whoever', 'Carnegie', 'Cruz', 'Dance', 'Showmanship', 'solemnly', 'quirt', 'apple', 'Holland', 'wrath', 'Macklin', 'unpaid', 'themes', 'Wendell', 'outgoing', 'stool', 'characterization', 'possesses', 'architects', 'dashed', 'surroundings', \"enemy's\", 'disadvantages', 'glancing', 'Surely', 'horns', '1921', 'witches', 'dispelled', 'non', 'metropolis', 'calcium', 'FBI', 'slack', 'consultation', 'relied', 'profoundly', 'Beauclerk', 'Stravinsky', '600', 'expresses', 'centimeters', 'supplements', 'canvases', 'ash', 'penetrated', 'kindly', 'inclination', 'flair', 'Matson', 'gracefully', 'charts', 'Studies', 'creeping', 'satellite', 'peer', 'emancipation', 'weeping', 'dwell', 'mingled', 'foreseen', 'motif', '2-56', 'Chien', 'Really', \"poet's\", 'Memphis', 'chuck', 'belts', 'peers', 'resent', 'haunting', 'barrels', 'cliff', 'Lolotte', 'stumbling', 'faulty', 'reminds', 'thrusting', 'skipped', 'observes', 'rocked', 'dock', \"Didn't\", 'interlocking', 'lone', 'logs', 'pills', 'Pretty', \"1/4''\", \"1/2''\", 'Hitler', 'scholarly', 'boast', 'shoved', 'bosom', 'deer', 'jig', 'Jed', 'planking', 'cooks', 'relish', 'snarled', 'Controller', \"they've\", 'descended', 'yeah', 'muttering', 'SAC', 'Artie', 'mahogany', 'offense', 'accusing', 'Liberal', 'Emerson', 'poles', \"1920's\", 'interruption', 'peaks', 'urges', 'Unitarian', 'Lucia', 'slapped', 'cushion', 'minus', 'half-hour', 'springs', 'pitched', 'curtains', 'perpetual', 'mounts', 'accommodations', 'winked', 'Need', 'rust', 'contented', 'Snow', 'absurdity', 'exterior', 'Scots', 'chuckled', 'compost', 'testify', 'radiant', 'Brandon', 'assemble', 'clamped', 'Saviour', 'comic', 'prominently', 'spaced', 'potentialities', 'Strange', 'stag', 'Faith', 'franks', 'echoes', 'buns', 'rousing', 'Chase', 'someday', 'Englishmen', 'Universe', 'feeble', 'tactical', '1861', 'inviting', 'elect', 'one-shot', \"Ruth's\", 'coals', 'analogous', 'importantly', 'excluded', 'courtyard', 'seriousness', \"Curt's\", 'Mosque', 'Across', 'frankfurter', 'impassioned', 'authenticity', 'unsuccessful', 'lotion', 'architectural', \"who'd\", 'trunk', 'obey', 'adherence', 'Fifteen', 'resented', 'Sonata', 'tangle', 'Piano', 'Creator', 'mortality', 'impatiently', 'Op.', 'clutching', 'mobility', 'spiral', 'decorations', 'preached', 'exceedingly', 'vinegar', 'enforce', 'ecclesiastical', 'embarrassment', 'hypothetical', 'bounce', 'Hugh', 'irrational', 'zeal', 'aperture', 'brethren', 'triumphantly', 'N.C.', 'negotiating', 'Embassy', 'clicked', 'knuckles', 'pregnant', 'Sullivan', 'automotive', 'conflicting', 'Camp', 'encounters', 'duplication', 'resembled', 'capillary', 'restriction', 'Garland', 'survivors', 'alibi', 'regulation', 'Proof', 'sorbed', 'exaggerate', 'actives', 'boycott', 'Rights', 'caliber', 'grips', 'delegate', \"goin'\", '**yc', 'confrontation', 'decreased', 'Barker', 'uncommon', 'Presidents', 'co-optation', 'unhappily', 'Charley', 'headlights', 'pillow', 'arcs', 'drawer', 'discarded', 'toys', 'revision', 'contests', 'civilizational', 'cameras', 'lower-class', 'Palazzo', 'benches', 'outsiders', 'blows', 'monotonous', 'staircase', 'wreath', 'aide', 'parameters', 'Expressway', 'simultaneous', 'kinetic', 'diminishing', 'mound', 'telegraph', 'grandmother', 'Victoria', 'paramount', 'engagements', 'radish', 'Traffic', 'athlete', 'Help', 'peril', 'Oak', 'Examiner', 'Lodge', 'dominate', 'conspicuously', 'ADC', 'Frenchman', 'boldly', 'mouse', 'stiffened', 'pet', '1938', 'concede', 'Airport', 'confided', 'illiterate', 'applicant', 'homogeneous', 'boom', 'subdivision', 'bias', 'vines', 'sandwich', 'weaker', 'detectable', 'honoring', 'Mel', 'interlobular', 'strikingly', 'denomination', 'declaration', 'willow', 'micrometeorite', 'requesting', 'scraped', 'endure', 'meteorites', 'staffs', 'Highway', 'blunt', 'southward', 'artillery', '1922', '1914', 'Clarence', 'iodide', 'Lt.', 'taxing', 'afflicted', 'notorious', 'miracles', 'authoritative', 'peripheral', 'bumblebees', 'instructor', 'raged', 'Ivy', 'auditorium', 'Considering', 'Southerner', 'basketball', 'Technology', 'gait', 'knot', 'confront', '1040', 'preach', 'hunt', 'undergo', 'parliamentary', \"Mercer's\", 'Peterson', 'traded', 'sixty-one', \"Hetman's\", 'Tech', 'whereof', 'accompany', 'ankle', 'predispositions', 'unsatisfactory', 'shotgun', 'claimant', 'multiplicity', 'Oil', 'slaughter', '100%', 'Weston', 'trailed', 'Sioux', 'appliances', 'diamond', 'thieves', 'efficiently', 'Rural', 'dividends', 'taut', 'deed', 'precarious', 'collections', 'Price', 'Buffalo', 'appropriations', 'decoration', \"Garibaldi's\", \"Malraux's\", 'serene', 'hips', 'archaeological', 'retreated', 'fresco', 'haunted', 'science-fiction', \"Krim's\", 'bomber', 'Doctrine', 'farmhouse', 'dystopias', 'sanctuary', 'aerial', 'abolish', 'stupidity', 'Sales', '1896', 'prompt', 'Strasbourg', 'cleaner', 'traps', 'cleaners', \"They've\", 'surveying', 'congressmen', 'Athens', 'ruins', 'O.K.', 'newt', 'charging', \"week's\", 'Mamma', 'Copernican', 'crawling', 'termination', 'Judy', 'Manager', 'comforting', 'dismal', 'knelt', 'entails', 'Budapest', 'practiced', 'betrayed', 'allotments', 'foliage', 'recipe', 'baked', '99', 'Agency', 'Sheldon', 'Pollock', 'Murray', 'Le', 'wandered', 'freshman', \"who's\", 'Kern', 'potters', 'Francesca', 'chambers', 'disappearance', 'sunrise', 'strangers', 'leagues', 'agrarian', 'decreases', 'appraisal', 'cyclist', 'Achievement', 'Poetics', 'wardrobe', 'proprietorship', 'germanium', 'Noel', 'martyr', 'Strong', 'designers', 'ontological', 'utopian', 'republic', 'Grace', 'declare', 'tax-free', 'Ptolemy', 'pad', 'supporters', 'steak', 'immediacy', 'ceramic', 'rooted', 'reconstruction', 'isolate', 'prosperous', 'decorative', 'notify', 'varieties', 'undermine', 'Danish', 'flour', 'X-ray', 'exceptionally', 'mating', 'Results', 'Chancellor', 'fort', 'statesmen', 'Industries', 'restoration', 'predictable', 'struggled', 'releases', 'Bottom', 'presses', 'Ruanda-Urundi', 'repairs', 'stimulating', 'impartial', 'unstable', 'bankruptcy', 'divorced', 'peculiarly', 'crisp', 'Presidency', 'Hoover', 'slump', 'frowned', '4th', 'brighter', 'Series', 'slab', 'vacations', 'investigating', 'Dorset', 'rulers', 'consonantal', 'guarantees', 'devise', 'aunt', 'Burns', 'spends', 'panting', 'blindly', 'sleeves', 'humidity', 'C-plane', 'domes', 'clocks', 'telegram', 'rot', 'momentous', 'infection', 'bloody', 'undergraduates', 'Wolfe', 'worthwhile', 'precaution', 'complaints', 'renewal', 'melancholy', '$2', 'Remove', 'astonishing', 'reassurance', 'sentenced', 'financially', 'Jenny', 'Meeting', 'flashlight', 'populations', 'youngster', 'sprung', 'stacked', '1963', 'lb', 'respondents', 'respondent', 'thou', 'overboard', 'carrier', \"You'd\", 'jammed', 'smoking', '19th', 'La.', 'rigidly', 'extruded', 'guessing', 'predict', 'wreck', 'mayor', 'busily', 'social-class', '180', 'fabrication', 'foe', 'essays', 'tactual', 'revival', 'establishments', 'public-limit', 'territories', 'counters', 'intonation', 'contracted', 'blend', 'recommending', 'Vecchio', 'two-story', 'Barney', 'straightforward', 'junk', 'phonemic', 'creek', 'calf', 'Hemphill', 'revive', 'stunned', 'Swadesh', 'usable', 'actuality', 'wonders', 'ambiguity', 'Imagine', 'discernible', 'scholarships', 'turtle', 'toss', 'kilometer', 'Pam', 'hearings', 'messenger', 'borne', 'toll-road', 'speculative', 'slumped', 'hostess', 'frantically', 'pig', 'Production', 'mouths', 'grinding', 'Wales', 'lovers', 'mourning', 'Port', 'embarrassed', 'coldly', 'celestial', 'sucking', 'broaden', 'orthodontic', 'Basic', 'catalogue', 'scrub', 'electrostatic', 'quacks', 'utilizing', 'tumors', 'Vocational', 'replacing', 'clarified', 'secrecy', 'bluff', 'premises', 'thyroxine', 'Deep', 'companions', '$300', 'modes', 'slum', 'succeeds', '1908', 'aborigines', 'bless', 'provincial', 'transmitted', '350', 'withdraw', 'Juet', 'inhibit', 'indicator', 'recruits', 'volunteer', 'unnatural', 'featured', 'propagation', 'mg', 'championship', 'sanctions', 'eased', 'advise', 'Mo.', 'hose', 'barred', 'prairie', 'crimson', 'conquest', 'westward', 'thief', \"party's\", 'Issue', 'Theorem', 'erotic', 'patiently', 'monuments', 'Victorian', 'Pulley', \"years'\", '2,000', 'terrain', 'militant', 'bloat', 'Twice', 'backing', 'articulate', 'forceful', 'Perry', 'Julian', 'buffalo', 'slips', 'deaths', 'bites', 'repeating', \"Navy's\", 'se', 'paradoxically', 'dispatch', 'fundamentally', 'granting', 'bacon', 'reversed', 'nominated', 'Prime', 'parasympathetic', 'assumes', '$50', 'avenue', 'recipient', 'enactment', 'constructing', 'trailing', 'Y.', 'half-mile', '110', 'pricing', 'Burke', 'radios', 'Same', 'stops', 'donated', 'Award', '37', 'statues', '$10', 'occupying', 'prevailed', 'enlarge', 'proposes', 'Tex.', 'collectors', 'wholesale', 'watered', 'merchandising', 'assertion', 'Questions', 'Happy', 'assisted', 'doubling', 'coping', 'confessed', 'legislator', 'issuance', 'retarded', 'ban', 'deterrent', 'teamsters', 'Welfare', 'Karns', 'Golf', 'retiring', 'waged', '8,000', 'Incidentally', 'lending', 'forum', 'fraud', 'resignation', 'dismissal', 'mails', 'Reno', 'probation', 'carcass', 'pleaded', 'Ted', 'exotic', 'switching', 'ankles', 'insult', 'Delta', 'Olympic', 'fruitful', 'credits', 'preserving', 'petitions', 'congenial', 'Orange', 'admitting', 'repay', 'Whipple', 'agreeing', 'expedient', 'Case', 'Grove', 'bowed', 'hailed', 'organizing', \"car's\", 'charity', 'Signal', 'awaited', 'overwhelmingly', 'Patricia', 'gubernatorial', 'solo', 'Deputy', 'grocery', 'norm', 'tragedies', 'con', 'Steel', 'statutes', 'Ala.', 'slums', 'bang', 'levy', 'brisk', 'enact', 'victories', 'Prior', 'troublesome', 'floated', 'contractual', 'violate', 'Question', 'crushing', 'Treaty', 'scandals', 'fare', 'labor-management', 'Martinelli', 'infield', 'Paradise', 'facto', 'cease-fire', 'Representative', 'Buckley', 'pitchers', 'Sr.', '$5', 'dwellings', '1923', 'dividing', 'utilities', 'certificate', 'distressing', '24th', 'cooperating', '9th', 'relaxation', 'enlarged', 'Maurice', 'Gorboduc', 'Nine', 'uncovered', 'lambs', 'provocative', 'inference', 'intensification', 'breathe', 'confines', 'distributor', 'vanity', 'economies', 'triggered', 'Caribbean', \"Company's\", 'examining', 'sanitation', 'builds', 'accreditation', 'Recreation', 'Thanksgiving', 'salami', 'unbroken', 'incidence', 'diarrhea', 'lessening', 'misplaced', 'anarchy', 'mercury', 'Italians', 'mouthpiece', 'submerged', \"Oersted's\", 'chatter', 'banished', 'dealings', 'voltaic', '1819', 'links', 'magnetism', 'sipping', 'Electrical', 'Present', 'consultants', 'Automobile', 'rosy', 'Success', 'nickel', 'charting', 'Things', 'impaired', 'relate', 'rehearsed', 'gazed', 'crashing', 'invisible', 'deja', 'vue', 'surged', 'concurrent', 'nutrition', 'Mediterranean', 'uniformed', 'wiser', 'twenty-one', 'wandering', 'squat', 'repeal', 'Approximately', 'discriminating', 'multiplying', 'liability', 'styrene', 'dominates', 'acetate', 'openings', 'wary', 'plight', 'stud', 'hopelessly', 'unload', 'clinging', 'Follow', 'calculating', 'Horse', 'experimentally', 'wiry', 'curved', 'molds', 'envy', 'grudge', 'bending', 'echoed', 'grey', 'warmly', 'strand', 'Hold', 'Shadow', 'heretofore', 'glue', 'retaining', 'flooring', 'U.S.S.R.', 'axes', 'Competition', 'rag', 'drained', 'shrill', 'frankfurters', 'Score', 'gravely', 'predominantly', 'landmarks', 'formations', 'sunshine', 'Hardly', 'Sophia', 'diamonds', 'woven', 'old-fashioned', 'heir', 'chilled', 'knives', 'Years', 'endlessly', 'stranded', 'obscured', 'Body', 'breadth', 'postcard', \"farmer's\", 'sands', 'underneath', 'Key', 'Animals', 'slopes', 'skeptical', 'high-pitched', 'beset', 'fashioned', 'Problems', 'pinched', 'consensus', 'transform', 'moods', 'Dag', 'recognizable', 'symptomatic', 'Juan', 'innovation', 'hereby', 'penetrate', 'immigration', 'rigorous', 'Batista', 'gatherings', 'elephant', 'protesting', 'Tammany', 'brutal', 'dripping', 'Ellis', 'pipes', 'countryside', 'Joint', 'dunes', \"Washington's\", 'sighted', 'hurricane', 'Montpelier', 'blamed', 'Operation', 'biology', 'riot', 'wasteful', 'cosmetics', 'Cattle', 'ranchers', 'choked', 'generosity', 'accomplishment', 'cancel', 'regulated', 'reluctantly', 'stir', 'deliberations', 'discontinued', 'faintly', 'cracks', 'bruised', 'spin', \"1930's\", 'temperament', 'typing', 'salaries', 'Winter', 'brandy', 'evaluating', 'bucket', 'aeration', 'govern', 'inform', 'evoked', 'abuses', 'defective', 'attributable', 'Hanoverian', 'provoked', 'disputes', 'conveniently', 'Giles', 'Religious', 'pony', 'prevails', 'concessions', 'trapped', 'congregational', 'recruitment', 'nonetheless', 'summed', 'displeased', 'listing', 'Rooney', 'harmonies', 'peasant', 'tails', 'Menshikov', 'Kyoto', 'vulgar', 'Imperial', '7:30', 'uphold', 'strive', 'instinctively', 'callous', 'preferences', 'Corso', 'Nikita', 'haze', 'solving', 'pretend', 'postulated', 'sculptures', 'polar', 'deterministic', 'self-certainty', 'infringement', 'conceal', 'procedural', 'greet', 'royalty', 'withholding', 'Dei', 'facade', 'denounced', 'scraping', 'Somers', 'twins', 'revenge', 'barge', 'bargain', 'headlines', 'gaudy', 'exhaust', 'elastic', 'tapped', 'intuitive', 'Blood', 'Adlai', 'odors', 'socks', 'irons', 'rented', \"ladies'\", 'fierce', \"Wasn't\", 'skins', 'beatnik', 'disorder', 'Shaefer', 'commenced', 'gadgets', 'Tshombe', 'colonies', 'vaginal', 'indefinite', '25,000', 'orgasm', 'ruthless', 'Diana', 'commencing', 'ancestor', 'Harrington', 'Jelke', 'reign', 'lure', 'Conant', 'unavailable', 'kidding', 'regards', 'earthquakes', 'inferior', 'Mister', 'flatly', 'platoon', 'ambush', 'Study', \"Year's\", 'barefoot', 'Lexington', 'appreciably', 'fronts', 'erupted', 'Gore', 'graduating', 'bathed', 'exemption', 'rusty', 'Goulding', 'rattling', 'ascertain', 'chore', 'broadened', 'condemnation', 'incredibly', 'backgrounds', 'paces', 'fragmentary', 'cabins', 'twenty-three', 'Snelling', 'annoyed', 'Starting', 'laundering', \"Sherman's\", 'disappointing', 'lore', 'collector', 'analyst', 'ledger', 'Nashville', 'incidentally', 'bureaucracy', 'maneuvers', 'Napoleon', 'suspicions', 'calories', 'Molotov', 'spoilage', 'concentrates', 'powdered', 'inventor', 'publisher', 'coronary', 'prey', 'Twentieth', 'strangely', 'ugliness', 'portraits', 'fostered', 'fatty', 'morally', 'beast', 'liberties', 'discourse', 'traveler', 'illusions', 'edited', 'reproduce', 'experimenting', 'communicating', 'McCarthy', 'hotter', 'Nice', 'mansion', 'mint', 'Swedish', 'Suite', 'broadcasts', 'weekends', 'lakes', 'Clerfayt', 'origins', '$200', 'correspond', 'exclude', 'popularly', 'implying', 'utmost', 'unmistakable', 'mapping', 'plentiful', 'thy', 'persists', 'reassuring', 'sympathize', 'yearning', 'lord', 'dominion', 'disobedience', 'generalizations', 'insufficient', 'concentrating', 'Taiwan', 'Mao', 'emptied', 'starvation', 'motionless', 'superstition', 'filthy', \"Bultmann's\", 'unavoidable', 'flock', 'despise', 'cycles', 'emergencies', 'rags', 'gestures', 'Whitehead', 'arrives', 'inhuman', 'Tibet', 'undertook', 'defy', 'flattered', \"Charles'\", 'oven', 'chord', 'Jen', 'Elizabethan', 'equivalents', 'superficial', 'blaze', 'overcomes', 'stamped', 'inexperienced', 'Together', 'raining', 'exuberant', 'Going', 'careless', 'myriad', 'battles', 'Victory', 'ballad', 'generate', 'novelties', 'tonal', 'whipping', 'symphonic', 'Kennan', 'revolutions', 'concluding', 'negotiated', \"author's\", 'mildly', 'noteworthy', 'endowed', 'Yorker', 'scratched', 'numbering', 'talented', 'torso', 'ballads', 'linger', 'digging', 'sensibility', 'idiom', 'large-scale', 'Ferguson', 'chronological', 'dignified', 'strides', 'Sponsor', 'assimilation', \"artist's\", 'Gloucester', 'mysteries', 'galaxies', 'hopefully', 'rays', 'tunes', 'gases', 'enclosure', 'responds', 'depart', 'Brahms', 'fortified', 'trusts', 'Spain', 'mores', 'tricks', 'lyrical', '1929', 'raucous', 'expressive', 'invent', 'topped', 'newcomer', 'wink', 'irritation', 'recorder', 'reinforced', 'conclusively', 'magnificently', 'Call', 'hesitation', 'bony', 'sincerely', 'Magazine', 'Pauling', 'intake', 'alteration', 'performer', 'tapered', 'Quartet', 'Congregational', 'comprehension', 'cite', 'fidelity', 'multiplied', 'easiest', 'discomfort', 'pacing', 'Scriptures', 'Finals', 'sensing', 'fishermen', 'recalling', 'nostalgia', 'IBM', 'oval', 'photography', 'tan', 'Large', 'phosphate', 'fifties', 'blossoms', 'reputable', 'narrower', 'acids', 'discs', 'terrifying', 'vulnerability', 'Titan', 'Turn', 'cerebral', 'disorders', 'crowned', 'airborne', 'brushing', 'brushes', 'motors', 'locks', 'terrified', 'Direct', '2:37', 'depicted', 'immature', 'antelope', 'coloring', 'Dear', 'shortened', 'Physical', 'hunch', 'tallyho', 'courtesy', 'enlightened', 'Heat', 'ink', 'cured', 'cruising', 'tablespoons', 'trotted', 'masculine', 'confinement', 'Hoot', 'prisoner', 'Sing', 'Manufacturers', 'nomenclature', 'Ring', 'sloping', \"1/8''\", 'unwilling', 'postpone', 'lifting', 'hysteria', 'fascinated', 'illustrates', 'cylinders', 'piston', 'participates', 'CDC', 'sprinkling', 'glaring', 'thighs', 'emperor', 'Supper', 'preparatory', 'premise', 'hymn', 'inactive', 'sentiments', 'install', 'exploding', 'exclusion', 'Schuylkill', 'polite', 'Jerusalem', 'alley', 'subway', 'reservation', 'prohibited', 'immunity', 'Membership', 'stimulated', 'contemplate', 'refuge', 'offspring', 'embodied', 'credo', 'corpse', 'factual', 'alarmed', 'spiritually', 'ministry', 'joys', 'amusement', 'Karl', 'hanged', 'dubious', 'diversion', 'graveyard', 'departures', 'sixty-five', 'prevail', 'terraces', 'symmetry', 'packaging', 'manipulation', 'monastic', 'beckoned', 'abolition', 'commend', 'desperation', 'hears', 'mailing', 'Marina', 'visions', 'Undoubtedly', 'skiing', 'distortion', 'wisely', 'straining', 'Bench', 'elbows', 'generating', 'Hopkins', 'precautions', 'Engineering', 'unrelated', 'Real', 'restrictive', 'securing', \"client's\", 'Twenty', 'blizzard', 'snows', 'swell', 'certified', 'burdens', 'self-determination', 'obeyed', 'disagree', 'futility', 'approximation', 'patriot', 'Celtic', 'proxy', 'tart', 'streaming', 'bolted', 'suppression', 'Fe', 'wearily', 'polyether', 'threads', 'Meynell', 'photocathode', 'roses', 'slippers', 'surrendered', 'chic', 'Rhine', 'rocket', 'darkened', 'persecution', 'managing', 'grinning', 'executives', 'shout', 'errand', 'ballroom', 'jointly', 'Carnival', \"Shelley's\", 'maximization', 'speck', 'choking', 'Seems', 'Saxons', 'overlooked', 'exit', 'Work', 'apron', 'Expectations', 'Princeton', 'hammer', 'spraying', 'elbow', 'Define', 'quarry', 'DIOCS', 'ponds', \"Hitler's\", 'algae', 'conservation', 'forgetting', 'Boy', 'Tessie', 'Annapolis', 'protozoa', 'stalked', 'damaged', 'middle-aged', 'pilots', 'Mines', 'clutched', 'Nicholas', 'Succession', 'terrestrial', 'experiencing', 'yields', '10%', 'Farmers', 'tractors', 'Va.', 'Kahler', 'Nearly', 'receipts', 'hawk', 'motels', 'discrete', 'lump', 'Molesworth', 'taxable', 'groped', 'spherical', 'softened', 'sporting', 'signing', 'speculate', 'bum', 'stack', 'hallway', 'Duclos', 'entirety', 'Rebel', 'attendants', \"1960's\", 'Rabbi', 'taller', 'Greater', 'invites', 'peaked', 'Troop', 'Col.', 'goddamn', 'bluntly', 'chimney', 'dessert', 'trousers', 'upturn', 'Heard', 'bundles', '40%', 'Shop', 'securities', 'Read', 'Carter', 'Lilian', 'eyed', 'lace', 'writ', 'awaken', 'Olgivanna', 'dystopian', 'inefficient', 'Flannagan', 'subdued', 'sporadic', 'integrate', 'centrifuged', 'Evanston', 'hebephrenic', 'chromatography', 'aerosol', 'semantic', 'lookup', 'meteoritic', 'photochemical', 'CTA', 'syllables', 'queens', 'declarative', 'soiled', 'mentions', 'surface-active', 'cursing', '5,000', 'arena', 'symmetric', 'pensions', 'posed', 'parameter', 'Yokuts', 'hr', 'beebread', 'Mussorgsky', 'marksman', 'vectors', 'dilution', 'offensive', 'Vientiane', 'confirmation', 'Murphy', 'gall', 'Seattle', 'subspace', 'Fidel', 'cf.', 'announcing', 'twin', 'Brandywine', 'Lemma', 'denotes', 'obstacles', 'Summary', 'affiliated', 'quadric', 'Funeral', 'equate', 'supportive', 'regression', 'Anna', 'Andrena', 'narcotics', 'verbs', 'Darling', 'wallpaper', 'pathology', 'oak', 'hereunto', 'Plantations', '69', 'terrace', 'follow-up', 'aggregate', \"More's\", '33', 'garbage', 'Interest', 'flatness', 'fiery', 'Costaggini', 'valuation', 'totaled', 'Fletcher', 'Kitty', 'Oliver', 'alterations', 'Hawk', 'hunted', \"Patchen's\", 'Simpkins', 'afloat', 'Vermejo', 'Illustration', 'reactor', 'consequent', 'Gibbs', 'indices', 'bidding', 'bottoms', 'fastest', 'directing', 'restraints', '203', 'referrals', 'reproduced', 'Burnside', 'trustee', 'Yugoslav', 'collision', 'diaphragm', 'bulb', 'currency', 'Beatrice', 'resistors', 'potentially', 'bail', 'booked', 'positivist', 'Aaron', 'Canadian', 'simulated', 'cortex', 'buses', 'warriors', 'Colonial', 'shrewd', \"Today's\", 'slick', 'punished', '1105', 'monotony', 'longed', 'Slowly', 'diffraction', 'Frankfurt', 'Palestine', 'exalted', 'arches', 'refugee', 'hinted', 'wrinkles', 'Woman', 'grove', 'eyelids', \"Russell's\", 'Leave', 'Willings', 'Everywhere', 'dispersed', 'Nobel', 'aborigine', 'boulder', 'n', 'Mullins', 'configuration', 'faults', \"Meeker's\", 'Solid', 'defiance', 'patted', 'Heiser', 'phones', 'injection', 'execute', \"an'\", '1832', 'embassies', \"Mike's\", 'Hez', 'Wells', 'Register', 'bestowed', 'Venice', 'Oso', 'Homer', 'buckskin', 'Summers', 'Leo', 'ambiguities', 'organisms', 'Hamm', 'excitedly', 'perceptual', 'continents', 'awaiting', 'smoothed', 'combines', 'oats', 'Digby', 'Macneff', 'gapt', 'accessories', 'quivering', 'Days', 'exchanged', 'Siddo', 'wretched', 'urbanization', 'epithets', 'Pakistan', 'fifteenth', 'Donovan', 'hoofs', 'cautiously', 'comprised', 'Paxton', \"Nick's\", 'Gibby', 'Geely', 'accruing', 'frail', 'redhead', 'slacks', 'recession', 'imposing', 'Down', 'Benington', \"club's\", 'Base', 'trumpet', 'portrayal', 'Mousie', 'rendezvous', 'Shylock', 'sampled', 'dugout', 'restraining', 'Cardinal', 'Fudo', 'activation', 'Marcus', 'cough', 'collapse', 'seasonal', 'edged', 'subsidiary', 'knight', 'hugging', 'Catatonia', 'glare', \"York's\", 'Kodyke', 'cheer', 'pursuing', 'Sabella', 'screeching', 'squall', 'Regulation', '1815', 'seizure', 'Berry', 'totalitarian', 'bloomed', 'frivolous', 'overheard', 'Hawthorne', \"Schnabel's\", 'divides', 'Gyp', 'Ridge', \"N'\", 'initiation', 'oppression', 'thinner', 'Souvanna', 'all-out', 'ancestors', '7-1', 'zing', 'Sources', 'questionnaires', 'observance', 'maladjustment', 'Rossoff', 'manifested', 'thaw', 'tanned', 'all-Negro', 'Gansevoort', 'Count', 'pear', 'schizophrenic', 'Manuel', 'Hernandez', 'Orvis', 'slapping', 'shipped', 'compliance', 'Appeals', 'Granny', 'pegboard', 'agitation', 'Handler', 'Pearl', 'sportsmen', 'assures', 'Matilda', 'stint', 'brute', 'modify', 'noises', 'Shafer', \"Welch's\", 'Pels', 'relinquish', 'Aid', 'canyon', 'suspense', 'treason', 'sponge', 'sax', 'magnified', 'pessimistic', 'attacker', 'Doolin', \"bull's-eyes\", 'pansy', 'workmanship', 'exercising', 'elaborately', 'Weider', 'bodybuilder', 'contemporaries', 'refined', 'referral', 'concerto', 'Gladdy', 'gleaming', 'inexplicable', 'airfields', 'invalid', 'Tolley', 'compute', 'vowel', 'Set', 'arm-elevation', 'B-70', 'album', 'mandatory', 'writhing', \"Spencer's\", 'morphophonemic', 'orthography', \"Doaty's\", 'pleasures', 'Gunny', 'sensual', 'Conservation', 'dissatisfied', 'Des', 'freeze', 'candidacy', 'china', 'witnessing', 'inhabited', 'contemplation', 'commissioner', 'manure', 'f-plane', \"mind's\", 'boxcar', 'Alma', 'diluted', 'susceptible', 'handicap', 'Schnabel', 'inscribed', 'tolerated', 'steamed', 'demons', 'operetta', 'disseminated', 'GNP', 'descriptive', 'educators', 'single-valued', 'Text', 'Prieur', 'portray', 'materialism', 'tangents', 'mulch', '74', 'Around', 'propulsion', 'cliche', 'bells', 'Katharine', 'humming', 'Sixth', 'aligned', 'Schwarzkopf', 'Coughlin', 'smug', 'fingerprint', \"They'd\", 'redcoat', 'demythologization', 'darted', 'Think', 'universally', 'potency', \"Black's\", 'outlets', 'underworld', 'musket', 'characterize', 'Jake', 'Bonner', 'fucken', 'extract', 'bothering', 'sneaked', 'depicting', 'fold', 'throttle', 'bitch', 'Westfield', 'billions', 'decreasing', 'longest', \"Killpath's\", 'Roots', 'yelling', 'sleepy', 'licensed', 'merchandise', 'Bong', 'Continent', 'Hello', 'modernity', 'solace', 'dripped', 'Hirey', 'attaining', 'inspiring', 'routes', \"baby's\", 'winking', 'flushed', 'Gap', 'Mountain', 'Upper', 'Thelma', 'Dakota', 'lbs.', 'creaked', 'marinas', 'outboard', 'originate', 'mast', \"Remarque's\", 'grounded', 'treacherous', 'restoring', 'terminology', 'saturated', 'scarce', 'molecule', 'ingredient', 'okay', 'snoring', 'slowing', 'Mollie', 'Perrin', 'deposits', 'arterial', 'Jarrodsville', 'Roberta', 'Scientists', 'flopped', 'crutches', 'bartender', 'unbearable', 'fille', 'Says', 'distribute', 'Mose', 'Fritzie', 'blushed', 'absently', 'clergymen', 'identifies', 'Phedre', 'hostility', 'partition', 'interdependence', 'paradigm', \"Thomas's\", 'forefinger', 'unconcerned', 'bulletin', 'tightened', 'DA', 'whatsoever', 'pastoral', 'rebut', 'evangelism', 'workings', 'DC', 'dipper', 'Kid', 'sinned', 'sword', 'amorphous', 'Rangoni', 'willed', 'Powers', 'frightful', 'Nineteen', 'annihilation', 'distinguishing', 'deduced', 'Rodgers', \"Brumidi's\", 'indefinitely', 'Presumably', 'delivers', 'mainland', 'elicited', 'Simultaneously', 'cathedral', 'Highlands', 'affectionate', 'charted', 'pre-war', 'plank', 'loneliness', 'pounding', 'Shell', 'Practically', 'portrayed', 'whereupon', 'blot', 'propriety', 'intensifiers', 'distrust', 'R-stage', 'suppress', 'responding', 'insisting', 'gyro-stabilized', 'rotor', 'gorgeous', 'amplifier', 'Nellie', 'grandeur', 'appoint', 'broadcasting', 'immortal', 'similitude', 'Negro-appeal', 'intensifier', 'foaming', 'shoving', 'clear-cut', 'Munich', 'continuance', 'forty-five', 'Narragansett', 'ailments', 'sweetly', 'Thou', 'concessionaires', 'Olga', 'surveillance', 'Test', 'Norberg', 'radiopasteurization', 'anew', 'Hesiometer', 'peeling', 'astonished', 'canons', 'garment', 'accepts', 'nation-state', 'firmer', 'Arp', 'forties', 'journal', 'tenuous', 'reversible', \"captain's\", 'affirmed', 'psychoanalytic', 'neurosis', 'comparisons', 'blurred', 'sensibilities', 'convict', 'betrayal', \"Eichmann's\", 'coasts', 'overcoming', 'strangled', 'adolescents', \"family's\", '1939', 'originality', 'reflective', 'J', 'contour', 'rat', 'straighten', 'dissolve', 'Multiply', 'calmed', 'axe', 'huts', 'ox', 'Leyte', 'ridden', 'trooper', 'organism', 'glowed', 'noisy', 'amplitude', 'gravity', 'Osaka', 'insolence', 'methodically', 'Capone', 'Saint', 'Amendment', 'definitions', 'indecent', 'myths', 'patriotism', 'drunken', 'Bellows', 'dodge', 'pretense', 'attorneys', 'trader', 'Examples', 'prompted', 'barley', 'Reich', 'flashing', 'metals', 'Burlington', 'complexion', 'whole-wheat', 'wastes', 'erosion', 'sandy', 'bizarre', '28th', 'momentary', 'Adoniram', 'cries', 'clambered', 'bellowed', 'chattering', 'decks', 'cargo', 'laden', 'psyche', 'Immediately', 'Whig', 'Tories', 'nodding', 'pretentious', 'anthropology', 'Cost', \"Hearst's\", 'brow', 'stairway', 'Manley', \"Bang-Jensen's\", \"Copernicus'\", 'scout', 'quackery', \"Ptolemy's\", 'kidney', 'epicycles', 'velocities', 'luxurious', 'Bey', 'astronomical', 'hid', 'prostitute', 'rabbi', 'submitting', 'sexually', 'Calderone', 'Kenneth', 'Jo', 'posterior', 'membrane', 'Huxley', 'Wexler', 'projecting', 'Travel', 'unhappiness', 'urgently', 'precinct', 'broadly', 'legendary', 'exclamation', 'Spade', 'verified', 'shaded', 'Della', 'piazza', 'renaissance', 'adjunct', 'blinked', 'interchange', 'disregard', 'glistening', 'explicitly', 'transcends', 'polarization', 'elementary-school', 'sniffed', 'vaults', 'attribute', 'lounge', 'Erikson', 'delinquent', 'Whigs', 'fuzzy', 'illustrative', 'testament', 'sidewise', 'whining', 'oddly', 'ponies', 'graves', 'starving', 'Agnese', 'whirled', 'uneasily', \"Court's\", 'internally', 'outbursts', 'Bourbons', 'socialist', 'feudal', 'complicity', 'reflections', 'abstractions', 'Nara', 'Masu', 'licensing', 'thinkers', 'Money', 'countenance', 'barren', 'oath', 'confidential', \"Wisman's\", 'Perier', 'engages', 'characteristically', 'rebuilding', 'Schwartz', 'sucked', 'sequences', 'robbers', 'construed', 'Antonio', 'misunderstood', 'slit', 'Emancipation', \"William's\", 'planter', 'Hays', 'Burgundy', 'practicable', 'churchyard', 'soaked', 'highroad', 'causal', 'merry', 'Heidenstam', 'healing', 'Parthenon', \"parents'\", 'patrolman', 'weakening', 'antiseptic', 'wrists', 'traversed', 'entrepreneur', \"life's\", 'Sherlock', 'Cultural', 'informs', 'newspaperman', 'pretended', '300,000', 'sofa', 'unreal', 'travelers', 'defenders', \"'im\", 'small-town', 'unwanted', 'environmental', 'Collins', 'clad', 'syntax', 'Newton', 'Chapman', 'impelled', 'strays', 'Brazil', 'reconstruct', 'Seeds', 'Beckett', 'Waiting', 'corresponds', 'buzzing', 'dialectic', 'liberated', 'drafting', 'Operating', '1888', 'queer', 'scent', \"master's\", 'veiled', '$5,000', 'recurring', 'gunfire', 'tapping', 'Construction', 'Radiation', 'spear', 'tenor', 'spoiled', 'tablespoon', 'Contrary', 'rupee', 'groundwave', 'Vandiver', 'gloves', 'flares', 'yarns', 'rinse', 'emeralds', 'digital', 'manometer', '1895', 'Fountain', 'interfacial', 'Canyon', 'Zion', 'filtering', 'uneven', 'Pictures', 'Forge', 'authorizations', 'stain', 'greasy', 'users', 'cling', 'piling', 'buggy', 'drowned', 'Publication', 'conspicuous', 'thirty-four', 'calibration', 'Haven', 'Liberty', 'wander', 'Experiments', 'dusting', 'spectral', 'courteous', 'expandable', 'cottages', 'Linden', 'thermometers', 'clamps', '**yl', 'Needless', 'Run', 'sew', 'spoon', 'coil', 'Measurements', 'birthplace', 'polymerization', 'revolving', 'liquids', 'pleura', 'pleural', 'anastomoses', 'subtraction', 'File', 'progresses', 'Tables', 'slot', 'spacing', 'right-hand', 'arrows', 'ossification', 'connecting', 'levers', 'iodinated', 'notches', 'fibrosis', 'Microscopically', 'cord', 'Dowex-2-chloride', 'unduly', 'pseudophloem', 'Designers', 'horizons', 'tedious', 'NS', 'Engineers', 'compression', 'rpm', 'micelle', 'septa', 'Substances', 'pigs', 'strewn', 'sensors', 'intersect', 'meteorite', 'fried', 'pinch', 'minced', 'shave', 'porter', 'fragrance', 'Creek', 'Neutral', 'impetus', '1905', 'cocked', 'compares', 'carbine', 'agglutinin', 'cartridge', 'Deerstalker', 'Hi', 'larvae', 'boa', 'constrictor', 'Adios', 'annoying', 'Forensic', 'Hellenic', 'periodically', 'divan', 'denies', 'Suvorov', 'inhibition', 'Acropolis', 'shattering', 'assassin', 'severed', \"Aristotle's\", 'headaches', \"Morgan's\", 'Frequently', 'riflemen', 'ketosis', 'reproduction', 'enzyme', 'forty-four', 'one-fourth', 'abortion', '$2,000', '700', 'reduces', 'intercept', 'Drug', 'web', '13th', 'salts', 'comb', 'diction', 'place-name', 'firearms', \"Milton's\", 'carpenter', 'scaffold', 'packages', 'Officials', 'exhibiting', 'papal', 'quicker', 'sprayed', 'Venetian', 'adhesive', 'interplay', 'Lowell', 'low-cost', 'tubing', 'supplier', 'Ministry', 'lays', '$20', 'secretaries', 'remedies', \"Thomas'\", \"public's\", 'sundown', 'whistled', \"SAAMI's\", 'coordinates', 'jug', 'Poetry', 'intends', 'Rexroth', 'epoch', 'appointments', 'outraged', 'twenties', \"Prokofieff's\", 'Lauro', 'frontage', 'Bosis', 'swam', 'Contact', 'desolate', 'Geological', 'Offices', 'Cooperatives', 'condensation', 'BTU', 'focusing', 'Fixed', 'thermostat', 'filtered', 'upkeep', 'out-of-state', 'ducts', 'Symposium', 'pins', \"pool's\", 'centum', 'compose', 'profile', 'endorse', 'sunk', 'supplemented', 'Copenhagen', 'stimulate', 'educate', 'infiltration', 'veins', 'Macbeth', 'outlines', 'rotated', 'amplified', 'Shakespearean', 'Blake', 'replaces', 'compulsory', 'x-ray', 'staggering', 'streaks', 'bailiff', 'Stratford', 'clumsy', 'newborn', \"Earth's\", 'spontaneity', 'Breasted', 'expeditions', 'Trees', 'bewildered', 'loom', 'commodity', 'moderately', 'Turkey', 'deadline', 'pry', 'Border', 'aisle', 'dapper', 'Alliance', 'reliance', 'preferable', 'aiding', 'withdrawal', 'Multnomah', 'succeeding', 'unprepared', 'le', 'Individual', 'uranium', 'enrollment', 'discovering', 'successors', 'desegregated', 'tentatively', 'treasures', 'prizes', 'first-class', 'smothered', 'lad', 'Lacking', 'flattened', 'investments', 'folly', 'turnpike', 'coincided', 'gripping', 'dramas', 'classify', 'flourished', 'Grasslands', 'zoo', 'roam', 'recognizing', 'wartime', 'repression', 'chanted', 'schemes', 'DeKalb', 'stance', 'retaliation', 'governors', 'resolutions', 'insured', 'budgeting', 'abandoning', 'geographically', 'understands', 'ever-present', 'apologetically', 'margins', 'outspoken', 'Elder', 'Fitzgerald', '1919', 'Beaverton', 'laymen', 'invoked', 'engaging', 'rationale', 'upheld', 'defendant', 'Aircraft', 'Nebraska', 'declines', 'esprit', \"A's\", 'well-informed', 'strengthened', 'episodes', 'Initially', 'throws', 'secretly', 'probe', 'weakened', 'debates', 'toughness', 'negotiation', 'announcements', 'heightened', 'disgusted', 'doubles', 'Ancient', 'pastors', 'advocating', 'guise', 'paired', 'aching', 'specifications', 'Farrell', 'photographers', \"Miller's\", 'Terry', 'grumble', 'drives', 'separating', 'downhill', 'contemptuous', 'rivalry', 'visibly', '120', 'putt', 'Augusta', 'disbelief', 'presiding', 'perennial', 'Humphrey', 'bodily', 'Colmer', 'noses', 'mountainous', 'upwards', 'invaded', 'presidents', 'banner', 'savages', 'fortunes', 'RCA', 'Records', 'inexpensive', 'presentations', 'interviewing', 'sculptor', 'manifestation', 'vantage', 'glands', 'experimented', 'shaving', 'toothbrush', 'throats', 'textures', 'airy', 'teachings', 'righteousness', 'Version', 'cohesion', 'gazing', 'academy', 'congressman', '1883', 'foes', 'bust', 'Specific', 'pasted', '1865', 'complexes', 'seller', 'Short', 'hardy', 'flowering', 'cordial', 'refreshing', 'inquire', 'Toward', 'omitting', 'laborer', 'packaged', 'cutters', 'riders', 'Voice', 'persist', 'angrily', 'costing', 'inception', 'canoe', 'accelerating', 'sack', \"government's\", 'devoid', 'wears', 'goat', 'fleeting', 'temptations', 'helper', 'subscribers', 'predecessors', 'mandate', 'futile', 'blossom', 'inaction', 'man-made', 'signature', 'floods', '1936', 'contractor', 'Nowhere', 'strife', 'refugees', 'outlined', 'sits', 'Survey', 'Udall', 'shoreline', 'keel', 'predicting', 'automation', 'breach', 'anti-Communist', 'Regardless', 'chancellor', 'assess', 'documented', '95', 'maze', 'stealing', 'canning', 'poise', 'forgiven', 'thinker', 'artificially', 'Iron', 'subordinate', 'unorthodox', 'Plans', 'clouded', 'assembling', 'fabulous', 'Reports', 'notch', 'versa', 'finances', 'out-of-town', 'heavenly', 'manhood', 'alternately', 'ambivalent', 'jam', 'Desegregation', 'towel', 'thanked', 'relic', 'feather', 'sadness', 'earthly', 'commotion', 'Confederacy', 'paneling', 'fireplace', 'storms', 'Jenks', 'Patrolman', '1934', 'pardon', 'Stewart', '$800', 'wavelengths', 'detecting', 'revived', 'navy', 'reactors', 'adviser', 'manuscript', 'wrapping', 'passport', 'patterned', 'hunter', 'Dreadnought', \"Britain's\", 'Various', 'abide', 'NBC', 'Elmer', 'finale', 'laborers', 'manual', \"Mantle's\", 'Johns', 'Prosecutor', 'Mile', '68', 'weaknesses', 'crippling', 'Indianapolis', 'Louisville', 'congestion', 'Turner', 'Pierce', 'Chuck', 'scratches', 'ripped', 'Wilmington', 'Wallace', 'tagged', 'arrears', 'bruises', 'creed', 'Teaching', 'Utah', 'tax-exempt', 'reflexes', 'Siberia', 'makeshift', 'Vietnamese', 'narrowly', 'northeast', 'Liston', 'Werner', 'ambulance', 'Abbey', 'feat', \"She'll\", 'athletics', 'morals', 'promotional', 'canceled', 'hooked', 'Honolulu', \"summer's\", 'buffet', 'Arms', 'idol', 'Cancer', 'Alvin', \"Palmer's\", 'possessing', 'spelled', 'flowed', 'sensational', 'Crystal', 'super', 'Dame', 'Notre', 'inscription', 'healed', 'runaway', 'bats', 'Danny', 'slogan', 'bayonet', 'blazing', 'Harcourt', '$150', 'assaulted', '$20,000', 'robbery', 'Wiley', 'ashes', 'Auditorium', 'attends', 'Katherine', 'Sutherland', 'fraternity', 'Meyer', 'totals', 'doings', 'hospitality', 'Marie', 'Alpha', 'ants', 'accidentally', 'marvel', 'stadium', 'cookies', 'winner', 'Marr', 'Trophy', 'gala', '1926', 'grandchildren', 'caps', 'Stay', 'Stengel', 'residing', 'assisting', 'Pasadena', 'Browning', 'impeccable', 'pilgrimage', 'Getting', 'Bird', 'needles', 'linen', 'Robbins', 'Dunn', 'coconut', 'Hawaiian', 'ramp', 'vicinity', 'someplace', 'attire', 'Fresh', 'colts', 'tucked', 'snack', 'softening', 'outdoors', 'Heritage', 'sprinkle', \"Sunday's\", 'puppet', 'lamps', 'Yuri', 'Whitey', 'fore', 'windshield', 'wiping', 'gallons', 'popped', 'pitches', 'Channel', 'tease', 'boasted', 'senseless', 'auspices', 'Episcopal', 'manipulate', '86', 'assemblies', 'shortstop', 'lecturer', 'Workshop', 'productions', 'Lauderdale', 'props', 'workout', 'relegated', 'rookie', 'circus', 'Mostly', 'Forsythe', 'dividend', 'creator', 'Coach', 'ghastly', 'Quaker', 'm.p.h.', 'Allies', 'pollution', 'wrecked', 'plague', 'Convention', 'Kelsey', 'Buchheister', 'Sciences', 'opener', 'imprisonment', 'Riders', 'interfering', 'sinking', 'rescued', 'ashore', 'contributors', 'Workers', 'rings', 'wallet', 'lamb', 'assessments', 'ribbons', 'Nevada', 'Caesar', 'workmen', 'Leavitt', 'weaken', 'Greer', 'Butcher', 'Waters', 'Football', 'percentages', 'figuring', 'depletion', 'Toronto', '25%', '5%', 'borrowing', 'examiner', 'conversions', 'touchdown', 'debentures', 'liable', 'cautioned', 'pessimism', 'Janice', 'banquet', 'bearings', 'Moss', 'Gin', '56', 'Bonn', 'meter', \"France's\", '6th', 'rub', 'stunning', 'lacks', \"Where's\", 'booking', 'wrongs', 'demonstrates', 'splendor', 'vibrant', 'Lenin', 'imperial', 'Phase', 'subtly', 'paralysis', 'forthright', 'jackets', 'intimately', 'Guardian', 'Hough', 'Different', 'Writing', 'hymns', 'revulsion', 'continuum', 'adaptations', 'alienated', 'singly', 'Bates', 'unpopular', 'Especially', 'coffin', 'economist', 'spine', 'herds', 'excerpt', 'practitioners', 'atop', 'explode', 'ambassadors', 'proposing', 'grenades', 'poignant', 'brightly', 'spotlight', 'fairness', 'publicized', 'Eighth', 'scandal', 'soprano', 'gangs', 'disc', 'grudgingly', 'biting', 'saga', 'lash', 'casts', 'castle', 'uniformly', \"leader's\", 'evoke', 'Ethics', \"Church's\", 'virtuous', 'Emergency', 'indicative', 'Archbishop', 'volley', 'tingling', 'closes', 'abdomen', 'progressively', 'subjectively', \"yesterday's\", 'induction', 'alas', 'recourse', 'Abraham', 'idly', 'exceeding', 'non-Catholic', 'robe', 'glittering', 'hypocrisy', 'fascination', 'participants', 'communicative', 'complied', 'petty', 'twenty-two', 'frenzy', 'contend', 'superimposed', 'chords', 'slipping', 'Berman', 'Glenn', 'dreary', 'Armstrong', 'recital', 'juicy', 'Thurber', 'lapse', 'ecstasy', 'Hero', 'clip', 'operative', 'Active', 'auxiliary', 'twists', 'satellites', '$60', 'meticulously', 'mediocre', 'Ordinary', 'platforms', 'cock', 'Carey', 'buddies', 'Supply', 'probing', 'syndicate', 'Mando', 'huh', 'planks', 'Maintenance', 'brows', 'Orders', 'Burr', 'kindness', 'tribal', 'SMU', 'mastered', 'converse', 'supervise', 'Ronnie', 'Herford', 'allusions', 'monacle', 'showered', 'whoever', 'asserts', '77', 'Crisis', 'salesmanship', 'operatic', 'Page', 'Hayes', \"Sloan's\", 'shadowing', 'Sheriff', 'chronology', 'inflation', 'Clubs', 'Caravan', 'superseded', 'glared', 'hairy', 'palette', 'complaining', 'squared', 'transactions', 'Baer', \"lady's\", 'Rebels', 'differentiated', 'sophomore', 'Loan', 'Blenheim', 'tattered', 'Grey', 'Investors', 'circulating', 'Letters', 'romantics', 'mergers', 'buyers', 'proximity', 'indecision', 'make-up', '1834', 'legacy', 'extraction', 'Gentile-Jewish', 'swirled', 'Emmett', 'piping', 'banister', 'brandishing', 'fruitless', 'devastating', 'telephones', 'entitle', 'thrusts', 'theologian', 'Trinity', 'Leesona', 'Eh', 'rotary', 'garages', 'Registry', 'cabinets', 'Remarks', 'self-sustaining', 'Sydney', 'richness', '3rd', 'Bud', 'Printed', 'Were', 'Rider', 'one-story', 'ghosts', 'Elman', 'pennies', 'dozed', 'disfigured', 'ghettos', 'Budd', 'celebrating', \"months'\", 'truthfully', 'excellently', 'out-of-doors', 'Gone', 'furs', 'Analysis', 'installment', 'reproducible', '1928', 'Arnolphe', 'speedy', 'interstellar', 'AFL-CIO', 'shutter', 'Rite', 'atmospheres', 'Larson', '$4', 'Seigner', 'Fifty', 'teenagers', 'mammalian', 'sensuality', 'morphological', 'Regions', 'baton', 'Sue', 'Millie', 'Pilgrims', 'Islanders', 'Pageant', 'eighty-sixth', 'buff', 'quarterly', 'Held', 'skepticism', 'Advocate', 'Reed', 'zest', 'Kemble', 'inject', 'grapes', 'rude', 'tangled', 'ratification', 'Round', 'Alpert', 'nasty', 'clerks', 'arbiter', \"Edward's\", 'thankful', 'Machine', 'Wild', 'periphery', \"horse's\", 'hurtling', 'kitchens', 'maneuver', 'airfield', 'Gosson', 'Thy', 'skimmed', 'exceeded', 'bequest', 'hemorrhage', 'Barber', 'Lappenberg', 'astonishingly', 'CTCA', 'Merchants', 'reserves', \"Childhood's\", \"Wells's\", 'banter', '1625', \"Lewis's\", 'Gantry', 'S.K.', 'interstate', 'adventurous', 'unseen', 'hys', 'Bancroft', 'mee', 'heroine', 'ther', 'yow', 'monei', 'estates', 'Apollo', 'gaunt', 'brigadier', 'immaculate', 'Audubon', 'pas', 'handing', 'selects', 'Ltd.', 'sparse', 'offenses', 'communes', 'hostilities', 'transitions', 'rounding', 'Cunningham', 'evolve', 'abused', 'Ching', 'intensities', 'serial', 'refinements', 'tapestry', 'coaches', 'choreographer', 'insofar', 'individualized', 'deference', 'ignores', 'ever-changing', '15%', 'astonishment', 'invaluable', 'Changes', 'option', 'plead', 'Personally', 'Petersburg', 'Byzantine', 'expired', 'Godot', 'merging', 'drugged', 'silhouettes', 'cunning', 'centrally', 'spire', 'enchanted', 'Md.', 'pots', 'tubs', 'Nathan', 'Las', 'Vegas', 'garments', 'Parks', 'enhanced', 'Drs.', 'negation', 'boarding', 'psychoanalysis', 'balcony', 'tame', 'mystique', 'Lipton', 'kneel', 'tweed', 'volatile', 'humility', 'sharpened', 'slides', 'puppets', 'Founding', 'authorize', 'staccato', 'continual', 'Cafe', 'stuffed', 'Nature', \"Governor's\", 'Late', 'elapsed', 'glinting', 'homeland', 'coincides', 'retailers', 'librarian', 'workshops', 'claimants', 'format', 'therefrom', \"South's\", 'vows', 'disrupted', 'unreconstructed', 'wrecking', \"Army's\", 'scornful', \"states'\", 'fundamentals', 'exploitation', 'Guest', 'capitalist', 'Knox', 'obnoxious', 'self-consciousness', 'nondescript', 'SR', 'cheerfully', 'avant-garde', 'fortress', 'senate', 'tying', 'alcoves', 'meager', 'upstream', 'relentless', 'lugged', 'enterprising', 'fella', 'decorator', 'planting', 'Flying', 'bivouac', 'Kings', 'self-conscious', 'Plus', 'displaying', 'swooped', 'thickened', 'batch', 'dissent', 'senators', 'fragment', 'guarded', 'Concerto', 'Jacoby', 'hatching', 'transaction', 'irritated', 'cradle', 'Lyford', 'particulars', 'habitual', 'Pendleton', '63', 'donor', 'Jason', 'Flemish', 'Ninth', 'sentry', 'enforcing', 'kerosene', 'diurnal', 'wasting', 'imposition', 'overrun', 'fisherman', 'Grigorss', 'uncanny', 'whistling', 'contends', 'thrill', 'Reactionary', 'Treatment', 'prefers', 'Civilization', 'Ga.', 'receding', 'capacities', \"Joe's\", 'indulged', 'tact', 'roofs', 'adamant', 'maternal', 'slate', 'mattered', 'Constable', 'warrants', 'pads', 'Sadie', 'renting', 'unwillingness', 'saturation', 'Dietrich', 'mustache', '20%', \"Harper's\", 'monster', '1915', 'approximated', 'resultants', 'sojourn', 'logging', 'economists', 'distinguishes', 'Lyttleton', 'Scotch', 'deserts', 'Thinking', 'humiliation', 'Design', 'tiles', 'happenings', 'procession', 'Glen', 'coherent', 'illuminating', 'acquiescence', 'grouped', 'noblest', 'Cox', '1916', 'lawns', 'enroll', \"Thompson's\", 'sculptured', 'scepticism', 'Senators', 'interrelated', 'Parkhouse', 'intellect', 'authorizing', 'pedestal', 'nostalgic', 'slashing', 'catastrophes', 'schooling', 'disguise', 'downed', 'Called', 'advent', 'bout', \"Gabriel's\", 'competently', 'inheritance', 'powders', 'aberrant', 'commuting', 'Activities', \"moment's\", 'stimuli', 'actress', \"corporation's\", 'princess', 'Kerr', 'lets', 'hides', 'spitting', 'fervent', 'hamburger', 'Self', 'Morocco', 'Chicken', 'endeavors', 'measurable', 'Salt', 'seasoned', 'canned', 'Moriarty', 'crowding', \"Watson's\", 'gradients', 'cochannel', 'Wives', 'lavender', 'sparkling', 'Branch', 'hoarse', 'Moll', 'gasped', 'whispering', 'mumbled', 'Dodgers', 'satin', 'revivals', 'greatcoat', 'Mutton', 'Kappa', 'countrymen', 'drizzle', 'Shirley', 'Bern', 'Favre', 'flared', \"Woman's\", 'Thrift', 'Damn', 'Christopher', 'populous', \"That'll\", 'Couperin', 'Slater', 'Boyd', 'screeched', 'gasps', 'franchise', 'impinging', 'stockings', 'touring', 'knocking', 'scrawled', 'asset', 'Stowey', 'Salvation', 'shovel', 'froze', 'crib', 'smoothness', 'gulf', 'mat', 'steaming', 'chat', 'Meadow', 'implementation', 'informally', 'parole', \"mustn't\", 'striped', 'joyous', 'parted', 'overcoat', 'suitcases', 'Grabski', 'braced', 'scented', 'foster', 'shuddered', 'Baseball', 'Violet', 'Criticality', 'laundry', 'cu.', 'Simpson', 'shriek', 'baritone', 'three-year', 'accelerator', 'irradiated', 'proficient', 'radiosterilization', 'sterilization', 'ionizing', 'Currency', 'Properties', 'lay-offs', 'solvent', 'gallium', 'tektites', 'Eagles', 'hydrolysis', 'cliches', 'metabolite', 'chuckle', 'Cardinals', 'Arundel', 'discrepancies', 'Commissioners', 'tracts', 'template', 'embroidered', 'Drew', 'blackness', 'Monte', 'yanked', 'trembled', 'Jerome', 'dingy', 'Lynn', 'Louise', 'concertos', 'administrators', 'Rex', 'Seward', 'hosts', 'Musical', 'sweaty', 'coupler', 'phoned', 'belligerent', 'biscuits', 'sprawling', 'rococo', 'servo', 'torquer', 'torque', 'gyros', 'fringed', 'optimality', 'shakes', 'edging', 'Leona', 'down-to-earth', 'teens', 'kissing', \"Kitty's\", 'Teachers', 'cheekbones', 'downstream', 'metaphor', 'jagged', \"Throat's\", 'Manu', 'bleached', 'Hettie', 'Grafin', '130', 'Yugoslavia', 'Sante', 'DiMaggio', 'prescribe', 'glamorous', 'Nate', 'Burnsides', 'Arbuckle', 'gully', 'impeded', \"bride's\", 'Conchita', 'Maguire', 'Kruger', 'limbs', 'citation', 'vaudeville', 'Pompeii', 'Kizzie', 'utterance', '96', 'Bend', 'Kafka', 'Ruling', 'Hemus', 'Richert', 'Zenith', 'A-Z', 'furrow', 'rains', 'Acala', 'puny', 'twelfth', 'Tuxapoka', 'Thom', 'justly', 'John-and-Linda', 'complications', 'Hartweger', 'Walitzee', 'Askington', 'clutch', 'Reuveni', 'co-operative', \"Roosevelt's\", 'artistically', 'Diego', 'sunburn', 'Adelia', 'flicked', \"Indian's\", 'bale', 'kittens', 'mink', 'lush', 'plunge', 'Dolce', 'Vita', 'overalls', 'clapping', 'plowed', 'dynamite', 'Loop', 'melodic', 'profess', 'Emile', 'virtual', \"Garth's\", 'technician', 'genial', 'tournaments', 'dived', 'Beginning', 'sponsorship', 'lurched', 'Guests', \"driver's\", 'Bradford', 'Carruthers', 'Writers', 'Homicide', 'Brian', \"Mahzeer's\", \"Montero's\", 'Ariz.', 'Aricaras', 'Fiske', 'incidental', 'half-breed', 'Molly', 'dromozoa', 'Florence', 'Earthmen', 'fairway', 'Towne', 'Martian', 'en', 'grok', 'admirably', 'fumbled', 'Anta', \"Alec's\", 'slogans', 'plumb', 'Gary', 'Jaguar', 'Silence', 'scoop', \"Poet's\", 'Calenda', 'Needham', 'Doris', 'Flower', 'DUF', 'Councilman', 'dispatched', 'bleachers', 'hatch', 'Turk', 'Human', 'catkins', 'pussy', 'Twins', 'Region', 'COAHR', 'eve', 'min', 'pledged', 'donors', 'Rh', 'ABO', 'uptown', 'electrophoresis', 'ulcer', 'inert', 'Survivors', 'otter', 'BW', 'intentional', 'Biological', 'microns', 'Nancy', 'inverse', 'sundry', 'basin', 'Slate', 'Psithyrus', 'rattlesnakes', 'Appeal', 'precincts', \"Castro's\", 'neutrophils', 'marrow', 'anemia', 'uptake', 'antithyroid', \"University's\", 'di-iodotyrosine', 'percussive', 'potassium', 'epiphysis', 'Milk', 'conforms', \"Smith's\", 'pictorial', 'signatures', 'Onsets', 'Chart', 'exempt', 'unanimous', 'shunts', 'Rall', 'artery-pulmonary', \"president's\", 'NE', 'hilum', 'pop', 'Leon', 'micrometeorites', 'Poynting-Robertson', 'inversely', '353', 'Fellows', 'constancy', 'one-', '111', 'Example', 'refinement', 'Sections', 'flaming', 'Webster', 'needing', 'suffrage', 'decrees', 'pinpoint', 'Patterson', 'Unifil', 'widened', 'shielding', 'Method', \"Moliere's\", 'Financial', 'backlog', 'Huntley', 'unofficial', 'Detective', 'hereinafter', 'culminates', 'Temperature', 'conductivity', 'Patrol', 'Uniconer', 'flask', 'ant', 'Pyrex', 'quantum', 'Ronald', 'interfaces', 'latch', 'accounted', 'lobes', 'Tucker', 'bunched', 'ion', 'disability', 'dipole', 'coordinator', 'curvature', 'Alumni', 'deformation', 'unfolding', 'elasticity', '30,000', 'Experimental', 'electrode', 'graphite', 'mm', 'reflector', 'Sloanaker', '20,000', 'Devey', 'retailing', 'mucosa', 'Legion', 'tribunal', 'sub', 'shreds', 'warrior', 'commanders', 'Marsden', \"clerk's\", 'Athletic', 'drugstore', 'masonry', 'whereabouts', 'Beautiful', 'dismounted', 'blackout', 'haunches', 'Baby', 'Clifford', 'priorities', 'Catskill', 'delicacy', 'marshal', 'widowed', 'plaintiff', '76', 'communist', \"Secretary's\", 'Xydis', 'timid', \"mayor's\", 'AWOC', 'Hartsfield', 'Cubist', 'relaxing', 'Poems', 'applaud', 'Index', 'two-digit', 'compiler', 'EQU', 'tread', 'shouts', '$15', 'attentive', 'soles', 'Gertrude', 'Tones', 'worrying', 'identifiable', 'lenses', 'Mityukh', 'gasping', 'barrage', 'Pimen', 'Capt.', 'Pozzatti', \"university's\", 'purposely', 'irritable', 'Dodge', 'Grady', 'amounted', 'Analytical', \"Respondents'\", \"artists'\", 'conjugated', 'triumphant', 'AIMO', 'subgroups', 'rebuild', 'Nagrin', 'helplessness', 'reassured', 'Sterling', 'pertains', \"C'\", 'Mt.', 'l', 'Elliott', 'Spahn', 'Cornell', 'Scale', 't', 'fumes', 'anymore', \"D'\", '**ya', 'Funds', 'Given', 'truce', 'neocortex', 'Delhi', 'verify', 'obscurity', 'Cubans', 'accents', 'I.Q.', 'Fifties', 'criminals', 'Gehrig', 'hunter-killer', 'loadings', 'clattered', 'U.N.F.P.', 'Balafrej', 'long-run', 'aberrations', 'nail', '53', 'racket', 'Pelham', 'aiming', 'phonology', 'mindful', 'peddler', 'Sandman', 'modifier', 'premiere', 'W-region', 'boarded', '30th', 'Herb', 'ensued', 'arresting', 'transposed', 'receptionist', 'Stickney', 'shapeless', 'Gas', 'scoring', 'comprehend', 'Estimate', 'housekeeping', 'rip', 'chines', 'safeguard', 'one-inch', 'permissive', 'Hotei', 'postal', 'Letter', 'Occasional', 'suffused', 'marker', 'bids', 'candles', 'cans', 'endeavor', 'affiliations', 'lids', 'allegations', 'Creek-Turn', 'craters', 'holocaust', 'butchery', 'beaming', 'disciples', 'diplomat', 'arouse', 'girlish', 'installing', 'deceived', 'drains', 'Jonathan', 'navigation', 'intellectually', 'piers', '1793', '1810', 'aloof', 'rod', 'ridicule', 'prophecy', 'reminding', 'lent', 'Commonwealth', 'Deer', 'Salisbury', 'Available', 'Newburyport', 'Almighty', 'reversing', 'Feed', 'Cunard', 'slippery', 'securely', 'radial', 'bishops', 'inspector', 'timbers', 'pope', 'surprises', 'chunks', 'Makes', 'predecessor', 'subsided', 'midday', 'carriages', 'mischief', 'wrap', 'bedside', 'invaders', 'hopped', 'attachment', 'photo', 'expanse', 'chilly', 'hum', 'neutralism', 'peacefully', 'all-white', 'apples', 'pies', 'nuisance', 'walnuts', 'freeways', 'roasted', 'freeway', 'dormant', 'allocated', 'Thant', 'ripple', 'tilt', 'peninsula', 'primacy', 'signaling', 'avenues', 'self-contained', 'sauces', 'chili', 'popping', \"Aren't\", 'breathless', 'cartoons', 'forbids', 'sausages', 'Simple', 'unworthy', 'believers', 'unbreakable', 'hibachi', 'suffers', 'begotten', 'Istanbul', 'correspondents', 'hammock', 'towers', 'pillars', 'obelisk', 'caressing', 'Hippodrome', 'plastered', 'bazaar', 'harshly', 'Turks', 'Bosphorus', 'disappearing', 'salvage', 'Swing', 'roadway', '1868', 'lodging', 'Frontier', 'sane', 'surveyor', 'boyhood', 'persuading', 'Horace', 'receivers', 'sonar', 'Nugent', 'Barnard', 'viable', 'Leader', 'murderers', 'computation', 'collects', 'invade', 'microscopic', 'laboratories', 'sidewalks', 'inconsistent', 'attrition', 'abiding', 'Algerian', 'unwelcome', 'athletes', 'connotation', 'burnt', 'easel', 'oyster', 'unwittingly', 'bosses', 'Area', 'valleys', 'portrays', 'calves', 'milligram', 'infections', 'totaling', 'Unity', 'eternity', 'Aureomycin', 'severity', 'scours', 'Simply', 'glamour', 'polarity', 'divisive', 'Eastwick', 'fuse', 'faction', 'esteem', 'faculties', '39', 'reckon', 'institute', 'shortcomings', 'disorganized', 'fertile', \"host's\", 'regulars', 'envied', 'washes', 'temporal', 'Faget', 'freer', 'penance', 'Sargent', 'animated', 'Shriver', 'latitude', 'stagnant', 'adherents', 'enjoined', \"Berger's\", 'zoning', 'tiger', 'trunks', 'pertaining', 'conditioners', 'dictated', 'colder', 'preposterous', 'Channing', \"another's\", 'screening', 'bankrupt', 'carving', 'Grafton', 'haven', 'retreating', 'Philippi', 'clash', 'refreshed', 'reluctance', 'regulatory', 'laissez-faire', \"Hammarskjold's\", 'shabby', 'homogeneity', 'uncompromising', 'novelty', 'sting', 'provisional', 'fluent', 'haul', 'fission', 'captive', 'inhibited', 'mistress', 'sprouting', 'dismay', 'genetic', 'commendable', '$5000', 'checking', 'affinity', 'encroachment', 'caves', 'would-be', 'apprehensions', 'Oslo', 'indelible', 'hazardous', 'posterity', 'accelerate', 'unequivocally', 'consuming', 'Ephesians', '2-year-old', 'beauties', 'substitutes', 'Clean', 'uncertainties', 'Leg', 'glances', 'affords', 'defines', 'wry', 'fading', 'interfaith', 'affecting', 'occasioned', 'carts', 'authoritarian', 'gotta', 'barbell', 'Operations', 'ready-made', 'bravado', 'Courts', 'prominence', 'foresight', 'developer', 'Beth', 'astounding', 'brotherhood', 'instantaneous', 'encourages', 'confuse', 'depressing', 'dietary', 'Reply', 'symptom', 'perfected', 'baths', 'committing', 'corruptible', 'ideally', 'bordering', 'unscrupulous', 'stealth', 'Nuclear', 'vibration', 'enrich', 'vitamin', 'Welcome', 'appreciable', 'Nehru', 'provocation', 'nutrients', 'Noting', 'Secretariat', 'refrigerated', 'pulp', 'avocados', 'buds', 'voiced', \"Lincoln's\", 'justifiably', 'amen', 'Words', 'warts', 'Veterans', 'denounce', 'certify', 'terrific', 'diplomats', 'cypress', 'swamp', 'professed', 'agenda', 'professions', 'stumps', 'equity', 'contingencies', 'Princess', 'Discussion', 'minimized', 'Realtors', 'respectability', 'stricken', 'Lower', 'oneself', 'ambivalence', \"anyone's\", 'self-evident', 'post-attack', 'lessen', 'clothed', 'cafes', 'incur', 'External', 'discouraging', 'counterpoint', 'worlds', 'arithmetic', 'SEATO', 'impractical', 'initiate', 'exasperation', 'sympathetically', 'inaugural', 'Ceylon', 'Top', 'doctrines', 'suffocating', 'pro-Communist', 'Cairo', 'insuring', 'prevalent', 'expelled', 'repelled', 'neutralized', 'fearless', 'risks', 'comply', 'greedy', 'Bertha', 'proprietors', 'imputed', 'Walt', 'inaccurate', 'lowering', 'generalize', 'escalation', 'threatens', 'equated', 'obsolete', 'Rich', 'Martha', 'Faber', 'revered', 'do-it-yourself', \"Stalin's\", 'fine-looking', 'psalmist', 'warlike', 'thrived', 'Caper', 'enlist', 'Fury', 'Dale', 'wailing', 'axle', 'irregularly', 'Carvey', 'thence', 'organizational', 'boring', 'Communese', 'multiplication', \"'round\", 'triangular', 'excerpts', 'accessible', 'Cabinet', 'unfavorable', 'baffled', 'Demon', '6,000', 'scabbard', '30%', 'misdeeds', 'medicines', 'Watch', 'hamper', \"Richard's\", 'orchards', 'duplicate', 'creaking', 'adapt', 'Colt', 'hunters', 'ingenuity', 'Rouge', 'incoming', 'brakes', 'single-shot', 'cartridges', 'recoil', 'Magnums', 'edible', 'Remington', 'scales', 'Baton', 'buck', 'flows', 'mania', 'traits', 'imitate', 'underside', 'slots', 'Miss.', 'congratulations', 'harmonious', 'Aids', 'tendencies', 'reverence', 'monumental', 'Dog', 'proving', 'vanish', 'Divinity', 'faithfully', 'archaic', 'Directions', 'contestants', 'activated', 'uttered', 'bishop', 'ascribed', 'embark', 'Curzon', 'elongated', 'Wine', 'pumps', 'Universal', 'sandals', 'priceless', 'padded', 'dip', 'Judging', 'kitten', 'Number', 'despotism', 'spacers', 'drilled', 'left-hand', 'intercontinental', \"12''\", 'injecting', 'modifications', 'widths', 'succumbed', '1821', 'Evening', 'Classical', 'dynasty', 'glitter', 'pets', \"water's\", 'headache', 'divergent', 'wherein', 'horsepower', 'paved', 'fullest', 'Train', 'fills', 'arbitrarily', 'woodwork', 'craftsmanship', 'symbolically', 'misgivings', 'confronts', 'wits', 'journals', 'poker', 'Tobacco', 'injunctions', 'necessitate', 'sickness', 'coolness', 'Fran', 'interfered', 'generates', 'academically', 'President-elect', 'ancestral', 'beards', 'exaggeration', \"People's\", 'chaotic', 'directs', 'seize', 'transports', 'Inauguration', 'Scientific', 'Educational', 'spans', 'siege', 'blackened', 'Election', 'shutters', 'thumping', 'rattle', 'mechanic', 'proverb', 'capsule', 'Koreans', 'supremacy', 'ax', 'linking', 'chopping', 'cropped', 'surround', 'tenant', 'shrine', 'debated', 'Ideas', 'appointees', 'apologized', 'Minutemen', 'furious', 'glycerine', 'rig', 'humane', 'Folklore', 'Pp.', 'one-tenth', 'chilling', 'allowable', 'dispose', 'inscrutable', 'liquidated', '1776', 'steeped', 'monopolies', 'decisively', 'backwoods', 'machinist', 'reputed', 'shudder', 'acutely', 'Coe', 'analysts', 'hasty', 'appestat', 'obsession', 'whichever', 'rationalize', 'Assemblies', 'awed', 'ass', 'stereotyped', 'insecurity', 'Parsons', 'shaky', 'bogey', 'Rebs', 'stationed', 'Yank', 'two-year', 'figurative', 'thicker', 'unmistakably', '1844', 'Lucian', 'butts', 'aggressiveness', 'Alan', 'immoral', 'Cicero', 'lethal', 'Rule', 'abreast', 'oppressed', 'graphic', 'battlefield', 'hurling', 'lukewarm', 'leaked', 'smelling', 'troopers', 'Custer', 'swivel', 'recipients', 'phalanx', 'verbally', 'obsessed', 'anti-party', 'lingering', 'Medicine', 'clarification', 'editing', 'catastrophic', 'proliferation', 'buckle', 'midway', \"O'Connor\", '1909', 'waiters', 'bulwark', 'factions', 'punch', 'Penn', 'plagued', 'age-old', 'denoting', 'OK', 'Join', 'buzz', 'skillfully', 'Corinthian', 'aft', 'Columns', 'poking', 'Americana', 'Texan', 'Hanch', 'escaping', 'Off', 'O.E.C.D.', 'Regional', 'Brevard', 'crippled', 'Concerts', 'Palm', 'welcoming', 'Hail', 'tag', 'self-discipline', 'groping', 'liaison', 'completes', 'Hartman', 'Standing', 'uneasiness', 'overweight', 'commentary', 'gaily', 'Philosophy', 'espionage', 'triple', 'runners', 'soloists', 'Mail', 'indoors', '16th', 'tuition', 'harmless', 'harassed', 'unfriendly', 'upper-middle-class', 'fins', 'Staten', 'frigid', 'motifs', 'outreach', 'exploring', 'briskly', 'cart', 'austere', 'advantageous', 'registers', 'self-examination', 'Historically', 'Northerners', 'Breeding', \"Nation's\", 'Portago', 'constituent', 'salutary', 'minorities', 'formulae', 'Oriole', 'sacrifices', 'hosses', 'peanut', 'Fisher', 'achieves', 'stony', 'fibrous', 'locust', 'nourished', 'sparks', 'lieu', 'hiring', 'soybeans', 'consolidated', 'tenacity', 'intangible', 'hardships', 'rhetoric', 'definitive', 'Fleet', \"Morse's\", 'inquest', 'unloaded', 'corral', \"givin'\", 'resorted', 'trolley', 'limb', 'shone', 'Europeans', 'kidneys', 'exchanges', 'aimless', 'inn', 'Likewise', 'tariff', 'tuberculosis', 'scant', 'southpaw', 'intimated', 'Lillian', 'ducked', 'mystical', 'Ideally', 'stamping', 'Heywood', 'adversary', 'thickly', 'fetch', 'existent', 'insignificant', 'Loveless', 'second-rate', 'sway', 'hoss', 'transported', 'vices', 'chemically', 'Caution', 'cross-section', 'Barth', 'ventured', 'bombing', 'psychiatric', 'frontiers', 'linguistics', 'firemen', 'unmarried', 'perverse', 'programming', 'cute', 'nephews', 'seating', 'contemplated', 'extensions', 'liberation', 'Luther', 'lofty', 'layout', 'shrink', 'handwriting', 'bricks', 'high-priced', 'coolly', 'unloading', 'Mainland', 'unitized', 'Lumber', 'budgets', 'psychiatrists', 'psychotherapy', 'flags', 'overthrow', 'conferred', 'perpetuate', 'mortgages', '29th', 'Greeks', \"sheriff's\", 'wakeful', 'steal', 'richly', 'high-school', 'rape', 'dismiss', 'beacon', 'Beardens', 'drab', 'silenced', 'Seaman', 'paradise', 'Vesole', 'raids', 'Crosby', 'distracted', 'vile', 'poisonous', 'all-important', 'stew', 'menu', 'stressing', 'richest', 'cherish', 'Daer', 'librarians', 'migration', 'undeniable', 'peeled', 'undertaking', 'strengthens', 'UPI', 'alleviate', 'checkbook', 'removes', 'relying', 'vending', 'uninterrupted', 'shortsighted', 'refuses', 'pedestrian', 'extant', 'demonstrating', 'politeness', 'beverage', 'qualitative', 'Technical', 'extravagant', 'enhance', 'Increased', 'Reynolds', 'Capital', 'clusters', 'primeval', 'isolating', \"Jefferson's\", 'comforts', '260', 'entrenched', 'entail', 'opaque', '1965', 'Full', 'shielded', 'stays', 'polyester', 'periodicals', 'chipping', 'saves', 'bookkeeping', 'Schools', 're-enter', 'Story', 'fireworks', 'bugs', 'gallon', 'shocks', 'richer', 'Oakwood', 'evaluations', 'fuller', 'badge', 'Formosa', 'turbine', 'fights', 'needy', 'tenth', 'escorted', 'orator', 'abstention', 'scan', 'brother-in-law', 'ripples', 'greeting', 'hail', 'nationwide', 'locality', 'weeds', 'Rotary', 'week-end', 'intrinsic', 'Cod', 'Z', 'empirically', 'inquiring', 'Conversely', 'evacuation', 'witch', 'experimenter', 'glimpsed', 'sly', 'disrupt', 'forecasts', 'appliance', 'Susie', 'suck', 'prosecuted', 'Stephens', 'prescription', 'twirling', 'disinterested', 'corpses', 'legally', 'Cerv', '160', 'Kingston', 'crystalline', 'Forks', 'awe', 'sworn', 'patched', 'spurred', \"ship's\", 'Pole', '43', 'fund-raising', 'flourish', 'landscapes', 'corpus', 'clenched', 'ballplayer', 'murky', 'volunteered', 'Arabic', 'materially', 'vowed', 'Final', 'Czechoslovakia', 'Circuit', 'greetings', 'recollection', 'catharsis', 'chloride', 'Ernst', '2000', 'siding', 'licenses', 'motivations', 'Kasavubu', 'Patrice', 'Find', 'fragmentation', 'serenity', 'hazy', 'Mayer', 'meadows', 'one-man', 'engulfed', '23d', 'safer', 'manifestly', 'Waco', 'intimidation', 'livelihood', 'Englander', 'Barre', 'owes', 'misuse', 'labored', 'northward', 'variously', 'Finding', 'adhered', 'Inter-American', 'forestall', 'needless', 'Reama', 'geography', 'disintegration', 'classrooms', 'evokes', 'evasive', 'lied', 'Liberals', 'decorated', 'designate', 'gamblers', 'gushed', 'Farouk', 'Egyptian', 'quarreling', 'innumerable', 'unrest', 'Private', 'ironing', 'Mutual', 'Insurance', 'bump', 'censorship', 'Devil', 'compassion', 'facilitate', 'anterior', 'physicians', 'caresses', 'fearing', '1845']\n"
          ],
          "name": "stdout"
        }
      ]
    },
    {
      "cell_type": "code",
      "metadata": {
        "execution": {},
        "id": "sXGTXwzT1ymG",
        "colab": {
          "base_uri": "https://localhost:8080/"
        },
        "outputId": "47fa2017-719f-43eb-a523-09f09ed4ed54"
      },
      "source": [
        "print(get_embedding('weather', w2vmodel))"
      ],
      "execution_count": 53,
      "outputs": [
        {
          "output_type": "stream",
          "text": [
            "[-0.03226228  0.24707751 -0.20200595 -0.0470491  -0.14649376 -0.35658416\n",
            "  0.30655202  0.07553425 -0.24389288 -0.09179831 -0.09305717 -0.10685477\n",
            "  0.29011214  0.02802561 -0.29779062  0.08985829 -0.2406772   0.25012434\n",
            " -0.30493554 -0.47124925  0.14497706  0.40872303  0.5188436  -0.12960564\n",
            " -0.01458865  0.06956316  0.16521801  0.25493723 -0.3281916   0.1268305\n",
            " -0.29887775 -0.29652596  0.16318215 -0.18394712 -0.01341544 -0.22363296\n",
            "  0.32253337  0.15823433  0.02819354 -0.03643237  0.09615438  0.17984383\n",
            " -0.17549254  0.17790198  0.45565787  0.38981143  0.16422755 -0.24490604\n",
            "  0.31869635  0.04945456]\n"
          ],
          "name": "stdout"
        }
      ]
    },
    {
      "cell_type": "markdown",
      "metadata": {
        "execution": {},
        "id": "Qm_eqdGQ1ymG"
      },
      "source": [
        "## Section 2.2: Visualizing Word Embedding\n",
        "\n",
        "We can now obtain the word embeddings for any word in the dictionary using word2vec. Let's visualize these embeddings to get an inuition of what these embeddings mean. The word embeddings obtained from word2vec model are in high dimensional space. We will use `tSNE` (t-distributed stochastic neighbor embedding), a statistical method for dimensionality deduction that allow us to visualize high-dimensional data in a 2D or 3D space. Here, we will use `tSNE` from [`scikit-learn`] module(https://scikit-learn.org/stable/modules/generated/sklearn.manifold.TSNE.html) (if you are not familiar with this method, think about `PCA`) to project our high dimensional embeddings in the 2D space.\n",
        "\n",
        "\n",
        "For each word in `keys`, we pick the top 10 similar words (using cosine similarity) and plot them.  \n",
        "\n",
        " What should be the arrangement of similar words?\n",
        " What should be arrangement of the key clusters with respect to each other?\n",
        " "
      ]
    },
    {
      "cell_type": "code",
      "metadata": {
        "execution": {},
        "id": "xhunZNne1ymG"
      },
      "source": [
        "keys = ['voters', 'magic', 'love', 'God', 'evidence', 'administration', 'governments']"
      ],
      "execution_count": 54,
      "outputs": []
    },
    {
      "cell_type": "code",
      "metadata": {
        "execution": {},
        "id": "a8USN1y71ymG"
      },
      "source": [
        "def get_cluster_embeddings(keys):\n",
        "  embedding_clusters = []\n",
        "  word_clusters = []\n",
        "\n",
        "  # find closest words and add them to cluster\n",
        "  for word in keys:\n",
        "    embeddings = []\n",
        "    words = []\n",
        "    if not word in w2vmodel.wv.key_to_index:\n",
        "      print('The word ', word, 'is not in the dictionary')\n",
        "      continue\n",
        "\n",
        "    for similar_word, _ in w2vmodel.wv.most_similar(word, topn=10):\n",
        "      words.append(similar_word)\n",
        "      embeddings.append(w2vmodel.wv[similar_word])\n",
        "    embedding_clusters.append(embeddings)\n",
        "    word_clusters.append(words)\n",
        "\n",
        "  # get embeddings for the words in clusers\n",
        "  embedding_clusters = np.array(embedding_clusters)\n",
        "  n, m, k = embedding_clusters.shape\n",
        "  tsne_model_en_2d = TSNE(perplexity=10, n_components=2, init='pca', n_iter=3500, random_state=32)\n",
        "  embeddings_en_2d = np.array(tsne_model_en_2d.fit_transform(embedding_clusters.reshape(n * m, k))).reshape(n, m, 2)\n",
        "\n",
        "  return embeddings_en_2d, word_clusters"
      ],
      "execution_count": 55,
      "outputs": []
    },
    {
      "cell_type": "code",
      "metadata": {
        "execution": {},
        "id": "geNrDHx81ymG"
      },
      "source": [
        "def tsne_plot_similar_words(title, labels, embedding_clusters,\n",
        "                            word_clusters, a, filename=None):\n",
        "  plt.figure(figsize=(16, 9))\n",
        "  colors = cm.rainbow(np.linspace(0, 1, len(labels)))\n",
        "  for label, embeddings, words, color in zip(labels, embedding_clusters, word_clusters, colors):\n",
        "    x = embeddings[:, 0]\n",
        "    y = embeddings[:, 1]\n",
        "    plt.scatter(x, y, color=color, alpha=a, label=label)\n",
        "    for i, word in enumerate(words):\n",
        "      plt.annotate(word,\n",
        "                   alpha=0.5,\n",
        "                   xy=(x[i], y[i]),\n",
        "                   xytext=(5, 2),\n",
        "                   textcoords='offset points',\n",
        "                   ha='right',\n",
        "                   va='bottom',\n",
        "                   size=10)\n",
        "  plt.legend(loc=\"lower left\")\n",
        "  plt.title(title)\n",
        "  plt.grid(True)\n",
        "  if filename:\n",
        "    plt.savefig(filename, format='png', dpi=150, bbox_inches='tight')\n",
        "  plt.show()"
      ],
      "execution_count": 56,
      "outputs": []
    },
    {
      "cell_type": "code",
      "metadata": {
        "execution": {},
        "id": "yD9CLQo01ymH",
        "colab": {
          "base_uri": "https://localhost:8080/",
          "height": 646
        },
        "outputId": "b139c82e-ce01-4d17-ed00-46682d6ea145"
      },
      "source": [
        "embeddings_en_2d, word_clusters = get_cluster_embeddings(keys)\n",
        "tsne_plot_similar_words('Similar words from Brown Corpus', keys, embeddings_en_2d, word_clusters, 0.7)"
      ],
      "execution_count": 57,
      "outputs": [
        {
          "output_type": "display_data",
          "data": {
            "image/png": "[encoded data removed]",
            "text/plain": [
              "<Figure size 1152x648 with 1 Axes>"
            ]
          },
          "metadata": {
            "tags": [],
            "image/png": {
              "width": 1133,
              "height": 629
            },
            "needs_background": "light"
          }
        }
      ]
    },
    {
      "cell_type": "markdown",
      "metadata": {
        "execution": {},
        "id": "b3C0Uzpt1ymH"
      },
      "source": [
        "## Section 2.3: Exploring meaning with word embeddings\n",
        "\n",
        "While word2vec was the method that started it all, research has since boomed, and we now have more sophisticated ways to represent words. One such method is FastText, developed at Facebook AI research, which breaks words into sub-words: such a technique also allows us to create embedding representations for unseen words. In this section, we will explore how semantics and meaning are captured using embedidngs, after downloading a pre-trained FastText model. Downloading pre-trained models is a way for us to plug in word embeddings and explore them without training them ourselves."
      ]
    },
    {
      "cell_type": "code",
      "metadata": {
        "execution": {},
        "id": "BeVVHU4G1ymH",
        "cellView": "form",
        "outputId": "1b55e437-afa5-4b08-ebb3-f0c4cf159a7b",
        "colab": {
          "base_uri": "https://localhost:8080/"
        }
      },
      "source": [
        "# @title Download FastText English Embeddings of dimension 100\n",
        "\n",
        "fname = 'cc.en.100.bin.zip'\n",
        "download_str = \"Downloading\"\n",
        "if os.path.exists(fname):\n",
        "  download_str = \"Redownloading\"\n",
        "  !rm -rf $fname\n",
        "\n",
        "from io import BytesIO\n",
        "from urllib.request import urlopen\n",
        "from zipfile import ZipFile\n",
        "\n",
        "zipurl = 'https://osf.io/w9sr7/download'\n",
        "print(f\"{download_str} and unzipping the file... Please wait.\")\n",
        "with urlopen(zipurl) as zipresp:\n",
        "  with ZipFile(BytesIO(zipresp.read())) as zfile:\n",
        "    zfile.extractall('.')\n",
        "print(\"Download completed!\")\n",
        "\n",
        "os.listdir('.')"
      ],
      "execution_count": 58,
      "outputs": [
        {
          "output_type": "stream",
          "text": [
            "Downloading and unzipping the file... Please wait.\n",
            "Download completed!\n"
          ],
          "name": "stdout"
        },
        {
          "output_type": "execute_result",
          "data": {
            "text/plain": [
              "['.config', 'model_w2d3_t1.pkl', 'cc.en.100.bin', 'sample_data']"
            ]
          },
          "metadata": {
            "tags": []
          },
          "execution_count": 58
        }
      ]
    },
    {
      "cell_type": "code",
      "metadata": {
        "execution": {},
        "id": "aUC8fDb41ymH",
        "colab": {
          "base_uri": "https://localhost:8080/"
        },
        "outputId": "9bed53e6-fbeb-4520-a4a9-ef56c69c7acc"
      },
      "source": [
        "# Load 100 dimension FastText Vectors using FastText library\n",
        "ft_en_vectors = fasttext.load_model('cc.en.100.bin')"
      ],
      "execution_count": 59,
      "outputs": [
        {
          "output_type": "stream",
          "text": [
            "Warning : `load_model` does not return WordVectorModel or SupervisedModel any more, but a `FastText` object which is very similar.\n"
          ],
          "name": "stderr"
        }
      ]
    },
    {
      "cell_type": "code",
      "metadata": {
        "execution": {},
        "id": "eJKSsM9e1ymI",
        "colab": {
          "base_uri": "https://localhost:8080/"
        },
        "outputId": "ae395277-ecd0-4ae5-81a4-534a5f6a9f02"
      },
      "source": [
        "print(f\"Length of the embedding is: {len(ft_en_vectors.get_word_vector('king'))}\")\n",
        "print(f\"Embedding for the word King is: {ft_en_vectors.get_word_vector('king')}\")"
      ],
      "execution_count": 60,
      "outputs": [
        {
          "output_type": "stream",
          "text": [
            "Length of the embedding is: 100\n",
            "Embedding for the word King is: [-0.04045481 -0.10617249 -0.27222311  0.06879666  0.16408321  0.00276707\n",
            "  0.27080125 -0.05805573 -0.31865698  0.03748008 -0.00254088  0.13805169\n",
            " -0.00182498 -0.08973497  0.00319015 -0.19619396 -0.09858181 -0.10103802\n",
            " -0.08279888  0.0082208   0.13119364 -0.15956607  0.17203182  0.0315701\n",
            " -0.25064597  0.06182072  0.03929246  0.05157393  0.03543638  0.13660161\n",
            "  0.05473648  0.06072914 -0.04709269  0.17394426 -0.02101276 -0.11402624\n",
            " -0.24489872 -0.08576579 -0.00322696 -0.04509873 -0.00614253 -0.05772085\n",
            " -0.073414   -0.06718913 -0.06057961  0.10963406  0.1245006  -0.04819863\n",
            "  0.11408057  0.11081408  0.06752145 -0.01689911 -0.01186301 -0.11716368\n",
            " -0.01287614  0.10639337 -0.04243141  0.01057278 -0.0230855  -0.04930984\n",
            "  0.04717607  0.03696446  0.0015999  -0.02193867 -0.01331578  0.11102925\n",
            "  0.1686794   0.05814958 -0.00296521 -0.04252011 -0.00352389  0.06267346\n",
            " -0.07747819 -0.08959802 -0.02445797 -0.08913022  0.13422231  0.1258949\n",
            " -0.01296814  0.0531218  -0.00541025 -0.16908626  0.06323182 -0.11510128\n",
            " -0.08352032 -0.07224389  0.01023453  0.08263734 -0.03859017 -0.00798539\n",
            " -0.01498295  0.05448429  0.02708506  0.00549948  0.14634523 -0.12550676\n",
            "  0.04641578 -0.10164826  0.05370862  0.01217492]\n"
          ],
          "name": "stdout"
        }
      ]
    },
    {
      "cell_type": "markdown",
      "metadata": {
        "execution": {},
        "id": "EMSRepWw1ymI"
      },
      "source": [
        "Cosine similarity is used for similarities between words. Similarity is a scalar between 0 and 1."
      ]
    },
    {
      "cell_type": "markdown",
      "metadata": {
        "execution": {},
        "id": "OdPnLWWU1ymI"
      },
      "source": [
        "Now find the 10 most similar words to \"King\""
      ]
    },
    {
      "cell_type": "code",
      "metadata": {
        "execution": {},
        "id": "3rdKpiKL1ymI",
        "colab": {
          "base_uri": "https://localhost:8080/"
        },
        "outputId": "256f436f-dc2d-497c-809b-ce23ab09833a"
      },
      "source": [
        "ft_en_vectors.get_nearest_neighbors(\"king\", 10)  # Most similar by key"
      ],
      "execution_count": 61,
      "outputs": [
        {
          "output_type": "execute_result",
          "data": {
            "text/plain": [
              "[(0.8168574571609497, 'prince'),\n",
              " (0.796097457408905, 'emperor'),\n",
              " (0.7907207608222961, 'kings'),\n",
              " (0.7655220627784729, 'lord'),\n",
              " (0.7435404062271118, 'king-'),\n",
              " (0.7394551634788513, 'chieftain'),\n",
              " (0.7307553291320801, 'tyrant'),\n",
              " (0.7226710319519043, 'conqueror'),\n",
              " (0.719561755657196, 'kingly'),\n",
              " (0.718187689781189, 'queen')]"
            ]
          },
          "metadata": {
            "tags": []
          },
          "execution_count": 61
        }
      ]
    },
    {
      "cell_type": "markdown",
      "metadata": {
        "execution": {},
        "id": "qq2Ors5M1ymI"
      },
      "source": [
        "### Word Similarity"
      ]
    },
    {
      "cell_type": "code",
      "metadata": {
        "cellView": "form",
        "execution": {},
        "id": "ZV7a-BBo1ymI",
        "colab": {
          "base_uri": "https://localhost:8080/",
          "height": 579,
          "referenced_widgets": [
            "2eb8be6ab88a49b889db82b1690adfb2",
            "a14e75898b754a46b6ab6930239c5878",
            "4ef81e9031bd4fe98ba5852e7b5aa41a",
            "3a823e11bb8e406a97427eb3a5e0b986",
            "16d41dfe976748498c3437bfe8d4cee4",
            "7cc442822eb14cf1a1c7f69d0ea639dc"
          ]
        },
        "outputId": "ff562f23-8037-48c4-bc19-c8d349091224"
      },
      "source": [
        "# @title Video 3: Semantic Measurements\n",
        "from ipywidgets import widgets\n",
        "\n",
        "out2 = widgets.Output()\n",
        "with out2:\n",
        "  from IPython.display import IFrame\n",
        "  class BiliVideo(IFrame):\n",
        "    def __init__(self, id, page=1, width=400, height=300, **kwargs):\n",
        "      self.id=id\n",
        "      src = \"https://player.bilibili.com/player.html?bvid={0}&page={1}\".format(id, page)\n",
        "      super(BiliVideo, self).__init__(src, width, height, **kwargs)\n",
        "\n",
        "  video = BiliVideo(id=f\"BV15w411R7SW\", width=854, height=480, fs=1)\n",
        "  print(\"Video available at https://www.bilibili.com/video/{0}\".format(video.id))\n",
        "  display(video)\n",
        "\n",
        "out1 = widgets.Output()\n",
        "with out1:\n",
        "  from IPython.display import YouTubeVideo\n",
        "  video = YouTubeVideo(id=f\"Y45KIAOw4OY\", width=854, height=480, fs=1, rel=0)\n",
        "  print(\"Video available at https://youtube.com/watch?v=\" + video.id)\n",
        "  display(video)\n",
        "\n",
        "out = widgets.Tab([out1, out2])\n",
        "out.set_title(0, 'Youtube')\n",
        "out.set_title(1, 'Bilibili')\n",
        "\n",
        "display(out)"
      ],
      "execution_count": 62,
      "outputs": [
        {
          "output_type": "display_data",
          "data": {
            "application/vnd.jupyter.widget-view+json": {
              "model_id": "2eb8be6ab88a49b889db82b1690adfb2",
              "version_minor": 0,
              "version_major": 2
            },
            "text/plain": [
              "Tab(children=(Output(), Output()), _titles={'0': 'Youtube', '1': 'Bilibili'})"
            ]
          },
          "metadata": {
            "tags": []
          }
        }
      ]
    },
    {
      "cell_type": "markdown",
      "metadata": {
        "execution": {},
        "id": "d2wtQtjN1ymJ"
      },
      "source": [
        "More on similarity between words. Let's check how similar different pairs of word are. Feel free to play around.\n",
        "\n"
      ]
    },
    {
      "cell_type": "code",
      "metadata": {
        "execution": {},
        "id": "gWRzsPyi1ymJ",
        "colab": {
          "base_uri": "https://localhost:8080/"
        },
        "outputId": "a9bf7995-84e3-4925-8ea9-fd5d9c7e692d"
      },
      "source": [
        "def getSimilarity(word1, word2):\n",
        "  v1 = ft_en_vectors.get_word_vector(word1)\n",
        "  v2 = ft_en_vectors.get_word_vector(word2)\n",
        "  return cosine_similarity(v1, v2)\n",
        "\n",
        "print(\"Similarity between the words King and Queen: \", getSimilarity(\"king\", \"queen\"))\n",
        "print(\"Similarity between the words King and Knight: \", getSimilarity(\"king\", \"knight\"))\n",
        "print(\"Similarity between the words King and Rock: \", getSimilarity(\"king\", \"rock\"))\n",
        "print(\"Similarity between the words King and Twenty: \", getSimilarity(\"king\", \"twenty\"))\n",
        "\n",
        "## Try the same for two more pairs\n",
        "# print(\"Similarity between the words ___ and ___: \", getSimilarity(...))\n",
        "# print(\"Similarity between the words ___ and ___: \", getSimilarity(...))\n",
        "\n",
        "# print(\"Similarity between the words ___ and ___: \", getSimilarity(...))\n",
        "# print(\"Similarity between the words ___ and ___: \", getSimilarity(...))"
      ],
      "execution_count": 63,
      "outputs": [
        {
          "output_type": "stream",
          "text": [
            "Similarity between the words King and Queen:  0.71818775\n",
            "Similarity between the words King and Knight:  0.6881009\n",
            "Similarity between the words King and Rock:  0.28928387\n",
            "Similarity between the words King and Twenty:  0.19655468\n"
          ],
          "name": "stdout"
        }
      ]
    },
    {
      "cell_type": "markdown",
      "metadata": {
        "execution": {},
        "id": "pQQTkN4E1ymJ"
      },
      "source": [
        "### Homonym Words$^\\dagger$\n",
        "\n",
        "Find the similarity for homonym words with their different meanings. The first one has been implemented for you.\n",
        "\n",
        "\n",
        "$^\\dagger$: Two or more words having the same spelling or pronunciation but different meanings and origins are called *homonyms*. E.g., "
      ]
    },
    {
      "cell_type": "code",
      "metadata": {
        "execution": {},
        "id": "VrTfLREe1ymJ",
        "colab": {
          "base_uri": "https://localhost:8080/"
        },
        "outputId": "cafaba26-3a92-43ea-e307-d3b60a212f2c"
      },
      "source": [
        "#######################     Words with multiple meanings     ##########################\n",
        "print(\"Similarity between the words Cricket and Insect: \", getSimilarity(\"cricket\", \"insect\"))\n",
        "print(\"Similarity between the words Cricket and Sport: \", getSimilarity(\"cricket\", \"sport\"))\n",
        "\n",
        "## Try the same for two more pairs\n",
        "# print(\"Similarity between the words ___ and ___: \", getSimilarity(...))\n",
        "# print(\"Similarity between the words ___ and ___: \", getSimilarity(...))\n",
        "\n",
        "# print(\"Similarity between the words ___ and ___: \", getSimilarity(...))\n",
        "# print(\"Similarity between the words ___ and ___: \", getSimilarity(...))"
      ],
      "execution_count": 64,
      "outputs": [
        {
          "output_type": "stream",
          "text": [
            "Similarity between the words Cricket and Insect:  0.40722153\n",
            "Similarity between the words Cricket and Sport:  0.58123744\n"
          ],
          "name": "stdout"
        }
      ]
    },
    {
      "cell_type": "markdown",
      "metadata": {
        "execution": {},
        "id": "C48EAbEC1ymJ"
      },
      "source": [
        "### Word Analogies\n",
        "\n",
        "Embeddings can be used to find word analogies.\n",
        "Let's try it:\n",
        "1.   Man : Woman  ::  King : _____\n",
        "2.  Germany: Berlin :: France : ______\n",
        "3.  Leaf : Tree  ::  Petal : _____"
      ]
    },
    {
      "cell_type": "code",
      "metadata": {
        "execution": {},
        "id": "IoUX0tyd1ymK",
        "colab": {
          "base_uri": "https://localhost:8080/"
        },
        "outputId": "ee27e83a-5d9d-4040-e9e0-721abe272e1f"
      },
      "source": [
        "## Use get_analogies() funnction. The words have to be in the order Positive, negative,  Positve\n",
        "\n",
        "# Man : Woman  ::  King : _____\n",
        "# Positive=(woman, king), Negative=(man)\n",
        "print(ft_en_vectors.get_analogies(\"woman\", \"man\", \"king\",1))\n",
        "\n",
        "# Germany: Berlin :: France : ______\n",
        "# Positive=(berlin, frannce), Negative=(germany)\n",
        "print(ft_en_vectors.get_analogies(\"berlin\", \"germany\", \"france\",1))\n",
        "\n",
        "# Leaf : Tree  ::  Petal : _____\n",
        "# Positive=(tree, petal), Negative=(leaf)\n",
        "print(ft_en_vectors.get_analogies(\"tree\", \"leaf\", \"petal\",1))\n",
        "\n",
        "# Hammer : Nail  ::  Comb : _____\n",
        "# Positive=(nail, comb), Negative=(hammer)\n",
        "print(ft_en_vectors.get_analogies(\"nail\", \"hammer\", \"comb\",1))"
      ],
      "execution_count": 65,
      "outputs": [
        {
          "output_type": "stream",
          "text": [
            "[(0.8162637948989868, 'queen')]\n",
            "[(0.8568049669265747, 'paris')]\n",
            "[(0.7037209272384644, 'flower')]\n",
            "[(0.6908746361732483, 'hair')]\n"
          ],
          "name": "stdout"
        }
      ]
    },
    {
      "cell_type": "markdown",
      "metadata": {
        "execution": {},
        "id": "DBJuIJqA1ymK"
      },
      "source": [
        "But, does it always work?\n",
        "\n",
        "\n",
        "1.   Poverty : Wealth  :: Sickness : _____\n",
        "2.   train : board :: horse : _____"
      ]
    },
    {
      "cell_type": "code",
      "metadata": {
        "execution": {},
        "id": "YLUSbs1e1ymK",
        "colab": {
          "base_uri": "https://localhost:8080/"
        },
        "outputId": "0133640c-d5dd-485c-bf82-6d971a717cb7"
      },
      "source": [
        "# Poverty : Wealth  :: Sickness : _____\n",
        "print(ft_en_vectors.get_analogies(\"wealth\", \"poverty\", \"sickness\",1))\n",
        "\n",
        "# train : board :: horse : _____\n",
        "print(ft_en_vectors.get_analogies(\"board\", \"train\", \"horse\",1))"
      ],
      "execution_count": 66,
      "outputs": [
        {
          "output_type": "stream",
          "text": [
            "[(0.615874171257019, 'affliction')]\n",
            "[(0.5437814593315125, 'bull')]\n"
          ],
          "name": "stdout"
        }
      ]
    },
    {
      "cell_type": "markdown",
      "metadata": {
        "execution": {},
        "id": "WZ4BfR5y1ymK"
      },
      "source": [
        "---\n",
        "# Section 3: Neural Net with word embeddings"
      ]
    },
    {
      "cell_type": "markdown",
      "metadata": {
        "execution": {},
        "id": "OefnVM9i1ymK"
      },
      "source": [
        "Let's use the pretrained FastText embeddings to train a neural network on the IMDB dataset. \n",
        "\n",
        "To recap, the data consists of reviews and sentiments attached to it. It is a binary classification task. As a simple preview of the upcoming neural networks, we are going to introduce neural net with word embeddings. We'll see detailed networks in the next tutorial.\n",
        "\n",
        "\n"
      ]
    },
    {
      "cell_type": "markdown",
      "metadata": {
        "execution": {},
        "id": "NKJUXSBB1ymL"
      },
      "source": [
        "## Coding Exercise 3.1: Simple Feed Forward Net"
      ]
    },
    {
      "cell_type": "markdown",
      "metadata": {
        "execution": {},
        "id": "r4wJIn361ymL"
      },
      "source": [
        "This will load 300 dim FastText embeddings. It will take around 2-3 minutes."
      ]
    },
    {
      "cell_type": "markdown",
      "metadata": {
        "execution": {},
        "id": "AOg6xPn01ymL"
      },
      "source": [
        "Define a vanilla neural network with linear layers. Then average the word embeddings to get an embedding for the entire review.\n",
        "The neural net will have one hidden layer of size 128."
      ]
    },
    {
      "cell_type": "code",
      "metadata": {
        "execution": {},
        "id": "jxLmKJ8c1ymL",
        "cellView": "form",
        "outputId": "86b62907-d7f4-43bf-cba9-982fe85aca78",
        "colab": {
          "base_uri": "https://localhost:8080/"
        }
      },
      "source": [
        "# @title Download embeddings and clear old variables to clean memory.\n",
        "# @markdown #### Execute this cell!\n",
        "if 'ft_en_vectors' in locals():\n",
        "  del ft_en_vectors\n",
        "if 'w2vmodel' in locals():\n",
        "  del w2vmodel\n",
        "\n",
        "embedding_fasttext = FastText('simple')"
      ],
      "execution_count": 67,
      "outputs": [
        {
          "output_type": "stream",
          "text": [
            ".vector_cache/wiki.simple.vec: 293MB [00:08, 36.5MB/s]                           \n",
            "  0%|          | 0/111051 [00:00<?, ?it/s]Skipping token b'111051' with 1-dimensional vector [b'300']; likely a header\n",
            "100%|█████████▉| 110882/111051 [00:11<00:00, 10634.99it/s]"
          ],
          "name": "stderr"
        }
      ]
    },
    {
      "cell_type": "code",
      "metadata": {
        "execution": {},
        "id": "lb8Wk7Zv1ymL",
        "colab": {
          "base_uri": "https://localhost:8080/"
        },
        "cellView": "form",
        "outputId": "ddf3e69b-2952-4b71-a239-d4f3853b3000"
      },
      "source": [
        "# @markdown Load the Dataset\n",
        "TEXT, vocab_size, train_iter, valid_iter, test_iter = load_dataset(embedding_fasttext, seed=SEED)"
      ],
      "execution_count": 68,
      "outputs": [
        {
          "output_type": "stream",
          "text": [
            "\n",
            "aclImdb_v1.tar.gz:   0%|          | 0.00/84.1M [00:00<?, ?B/s]\u001b[A\n",
            "aclImdb_v1.tar.gz:   0%|          | 360k/84.1M [00:00<00:24, 3.46MB/s]\u001b[A"
          ],
          "name": "stderr"
        },
        {
          "output_type": "stream",
          "text": [
            "downloading aclImdb_v1.tar.gz\n"
          ],
          "name": "stdout"
        },
        {
          "output_type": "stream",
          "text": [
            "\n",
            "aclImdb_v1.tar.gz:   6%|▌         | 4.95M/84.1M [00:00<00:16, 4.79MB/s]\u001b[A\n",
            "aclImdb_v1.tar.gz:  18%|█▊        | 15.3M/84.1M [00:00<00:10, 6.72MB/s]\u001b[A\n",
            "aclImdb_v1.tar.gz:  31%|███▏      | 26.3M/84.1M [00:00<00:06, 9.35MB/s]\u001b[A\n",
            "aclImdb_v1.tar.gz:  44%|████▍     | 37.3M/84.1M [00:00<00:03, 12.9MB/s]\u001b[A\n",
            "aclImdb_v1.tar.gz:  58%|█████▊    | 48.7M/84.1M [00:00<00:02, 17.5MB/s]\u001b[A\n",
            "aclImdb_v1.tar.gz:  71%|███████   | 59.7M/84.1M [00:00<00:01, 23.5MB/s]\u001b[A\n",
            "aclImdb_v1.tar.gz:  82%|████████▏ | 69.0M/84.1M [00:00<00:00, 29.9MB/s]\u001b[A\n",
            "aclImdb_v1.tar.gz: 100%|██████████| 84.1M/84.1M [00:00<00:00, 87.3MB/s]\n",
            "100%|█████████▉| 110882/111051 [00:29<00:00, 10634.99it/s]"
          ],
          "name": "stderr"
        },
        {
          "output_type": "stream",
          "text": [
            "Data are loaded. sentence length: 50 seed: 2021\n"
          ],
          "name": "stdout"
        }
      ]
    },
    {
      "cell_type": "code",
      "metadata": {
        "execution": {},
        "id": "c1Tpa67W1ymL"
      },
      "source": [
        "class NeuralNet(nn.Module):\n",
        "  def __init__(self, output_size, hidden_size, vocab_size, embedding_length,\n",
        "               word_embeddings):\n",
        "    super(NeuralNet, self).__init__()\n",
        "\n",
        "    self.word_embeddings = nn.Embedding(vocab_size, embedding_length)\n",
        "    self.word_embeddings.weight = nn.Parameter(word_embeddings,\n",
        "                                               requires_grad=False)\n",
        "    self.fc1 = nn.Linear(embedding_length, hidden_size)\n",
        "    self.fc2 = nn.Linear(hidden_size, output_size)\n",
        "\n",
        "\n",
        "  def forward(self, inputs):\n",
        "\n",
        "    input = self.word_embeddings(inputs)  # convert text to embeddings\n",
        "    ####################################################################\n",
        "    # Fill in missing code below (...)\n",
        "    raise NotImplementedError(\"Fill in the Neural Net\")\n",
        "    ####################################################################\n",
        "    # Average the word embeddings in a sentence\n",
        "    # Use torch.nn.functional.avg_pool2d to compute the averages\n",
        "    pooled = ...\n",
        "\n",
        "    # Pass the embeddings through the neural net\n",
        "    # A fully-connected layer\n",
        "    x = ...\n",
        "    # ReLU activation\n",
        "    x = ...\n",
        "    # Another fully-connected layer\n",
        "    x = ...\n",
        "    output = F.log_softmax(x, dim=1)\n",
        "\n",
        "    return output\n",
        "\n",
        "\n",
        "# Uncomment to check your code\n",
        "# nn_model = NeuralNet(2, 128, 100, 300, TEXT.vocab.vectors)\n",
        "# print(nn_model)"
      ],
      "execution_count": 69,
      "outputs": []
    },
    {
      "cell_type": "code",
      "metadata": {
        "execution": {},
        "id": "IlSz2wSA1ymM",
        "colab": {
          "base_uri": "https://localhost:8080/"
        },
        "outputId": "81456e89-895a-409b-c1af-0cf8dad33939"
      },
      "source": [
        "# to_remove solution\n",
        "class NeuralNet(nn.Module):\n",
        "  def __init__(self, output_size, hidden_size, vocab_size, embedding_length,\n",
        "               word_embeddings):\n",
        "    super(NeuralNet, self).__init__()\n",
        "\n",
        "    self.word_embeddings = nn.Embedding(vocab_size, embedding_length)\n",
        "    self.word_embeddings.weight = nn.Parameter(word_embeddings,\n",
        "                                               requires_grad=False)\n",
        "    self.fc1 = nn.Linear(embedding_length, hidden_size)\n",
        "    self.fc2 = nn.Linear(hidden_size, output_size)\n",
        "\n",
        "\n",
        "  def forward(self, inputs):\n",
        "\n",
        "    input = self.word_embeddings(inputs)  # convert text to embeddings\n",
        "    # Average the word embeddings in a sentence\n",
        "    # Use torch.nn.functional.avg_pool2d to compute the averages\n",
        "    pooled = F.avg_pool2d(input, (input.shape[1], 1)).squeeze(1)\n",
        "\n",
        "    # Pass the embeddings through the neural net\n",
        "    # A fully-connected layer\n",
        "    x = self.fc1(pooled)\n",
        "\n",
        "    # ReLU activation\n",
        "    x = F.relu(x)\n",
        "    # Another fully-connected layer\n",
        "    x = self.fc2(x)\n",
        "    output = F.log_softmax(x, dim=1)\n",
        "\n",
        "    return output\n",
        "\n",
        "\n",
        "# Uncomment to check your code\n",
        "nn_model = NeuralNet(2, 128, 100, 300, TEXT.vocab.vectors)\n",
        "print(nn_model)"
      ],
      "execution_count": 70,
      "outputs": [
        {
          "output_type": "stream",
          "text": [
            "NeuralNet(\n",
            "  (word_embeddings): Embedding(100, 300)\n",
            "  (fc1): Linear(in_features=300, out_features=128, bias=True)\n",
            "  (fc2): Linear(in_features=128, out_features=2, bias=True)\n",
            ")\n"
          ],
          "name": "stdout"
        }
      ]
    },
    {
      "cell_type": "markdown",
      "metadata": {
        "execution": {},
        "id": "S1h7rLEA1ymM"
      },
      "source": [
        "```\n",
        "NeuralNet(\n",
        "  (word_embeddings): Embedding(100, 300)\n",
        "  (fc1): Linear(in_features=300, out_features=128, bias=True)\n",
        "  (fc2): Linear(in_features=128, out_features=2, bias=True)\n",
        ")\n",
        "```"
      ]
    },
    {
      "cell_type": "code",
      "metadata": {
        "cellView": "form",
        "execution": {},
        "id": "NZQf5RDm1ymM"
      },
      "source": [
        "# @title Training and Testing Functions\n",
        "\n",
        "# @markdown #### `train(model, device, train_iter, valid_iter, epochs, learning_rate)`\n",
        "# @markdown #### `test(model, device, test_iter)`\n",
        "\n",
        "def train(model, device, train_iter, valid_iter, epochs, learning_rate):\n",
        "  criterion = nn.CrossEntropyLoss()\n",
        "  optimizer = torch.optim.Adam(model.parameters(), lr=learning_rate)\n",
        "\n",
        "  train_loss, validation_loss = [], []\n",
        "  train_acc, validation_acc = [], []\n",
        "\n",
        "  for epoch in range(epochs):\n",
        "    # train\n",
        "    model.train()\n",
        "    running_loss = 0.\n",
        "    correct, total = 0, 0\n",
        "    steps = 0\n",
        "\n",
        "    for idx, batch in enumerate(train_iter):\n",
        "      text = batch.text[0]\n",
        "      target = batch.label\n",
        "      target = torch.autograd.Variable(target).long()\n",
        "      text, target = text.to(device), target.to(device)\n",
        "\n",
        "      # add micro for coding training loop\n",
        "      optimizer.zero_grad()\n",
        "      output = model(text)\n",
        "      loss = criterion(output, target)\n",
        "      loss.backward()\n",
        "      optimizer.step()\n",
        "      steps += 1\n",
        "      running_loss += loss.item()\n",
        "\n",
        "      # get accuracy\n",
        "      _, predicted = torch.max(output, 1)\n",
        "      total += target.size(0)\n",
        "      correct += (predicted == target).sum().item()\n",
        "    train_loss.append(running_loss/len(train_iter))\n",
        "    train_acc.append(correct/total)\n",
        "\n",
        "    print(f'Epoch: {epoch + 1}, '\n",
        "          f'Training Loss: {running_loss/len(train_iter):.4f}, '\n",
        "          f'Training Accuracy: {100*correct/total: .2f}%')\n",
        "\n",
        "    # evaluate on validation data\n",
        "    model.eval()\n",
        "    running_loss = 0.\n",
        "    correct, total = 0, 0\n",
        "\n",
        "    with torch.no_grad():\n",
        "      for idx, batch in enumerate(valid_iter):\n",
        "        text = batch.text[0]\n",
        "        target = batch.label\n",
        "        target = torch.autograd.Variable(target).long()\n",
        "        text, target = text.to(device), target.to(device)\n",
        "\n",
        "        optimizer.zero_grad()\n",
        "        output = model(text)\n",
        "\n",
        "        loss = criterion(output, target)\n",
        "        running_loss += loss.item()\n",
        "\n",
        "        # get accuracy\n",
        "        _, predicted = torch.max(output, 1)\n",
        "        total += target.size(0)\n",
        "        correct += (predicted == target).sum().item()\n",
        "\n",
        "    validation_loss.append(running_loss/len(valid_iter))\n",
        "    validation_acc.append(correct/total)\n",
        "\n",
        "    print (f'Validation Loss: {running_loss/len(valid_iter):.4f}, '\n",
        "           f'Validation Accuracy: {100*correct/total: .2f}%')\n",
        "\n",
        "  return train_loss, train_acc, validation_loss, validation_acc\n",
        "\n",
        "\n",
        "def test(model, device, test_iter):\n",
        "  model.eval()\n",
        "  correct = 0\n",
        "  total = 0\n",
        "  with torch.no_grad():\n",
        "    for idx, batch in enumerate(test_iter):\n",
        "      text = batch.text[0]\n",
        "      target = batch.label\n",
        "      target = torch.autograd.Variable(target).long()\n",
        "      text, target = text.to(device), target.to(device)\n",
        "\n",
        "      outputs = model(text)\n",
        "      _, predicted = torch.max(outputs, 1)\n",
        "      total += target.size(0)\n",
        "      correct += (predicted == target).sum().item()\n",
        "\n",
        "    acc = 100 * correct / total\n",
        "    return acc"
      ],
      "execution_count": 71,
      "outputs": []
    },
    {
      "cell_type": "code",
      "metadata": {
        "execution": {},
        "id": "LKw1xczw1ymM",
        "colab": {
          "base_uri": "https://localhost:8080/"
        },
        "outputId": "d1cfb4e6-44bd-4261-fbde-f944f26019ea"
      },
      "source": [
        "# Model hyperparameters\n",
        "learning_rate = 0.0003\n",
        "output_size = 2\n",
        "hidden_size = 128\n",
        "embedding_length = 300\n",
        "epochs = 15\n",
        "word_embeddings = TEXT.vocab.vectors\n",
        "vocab_size = len(TEXT.vocab)\n",
        "\n",
        "# Model set-up\n",
        "nn_model = NeuralNet(output_size,\n",
        "                     hidden_size,\n",
        "                     vocab_size,\n",
        "                     embedding_length,\n",
        "                     word_embeddings)\n",
        "nn_model.to(DEVICE)\n",
        "nn_start_time = time.time()\n",
        "set_seed(522)\n",
        "nn_train_loss, nn_train_acc, nn_validation_loss, nn_validation_acc = train(nn_model,\n",
        "                                                                           DEVICE,\n",
        "                                                                           train_iter,\n",
        "                                                                           valid_iter,\n",
        "                                                                           epochs,\n",
        "                                                                           learning_rate)\n",
        "print(f\"--- Time taken to train = {(time.time() - nn_start_time)} seconds ---\")\n",
        "test_accuracy = test(nn_model, DEVICE, test_iter)\n",
        "print(f'\\n\\nTest Accuracy: {test_accuracy}%')"
      ],
      "execution_count": 72,
      "outputs": [
        {
          "output_type": "stream",
          "text": [
            "Random seed 522 has been set.\n",
            "Epoch: 1, Training Loss: 0.6678, Training Accuracy:  59.94%\n",
            "Validation Loss: 0.6443, Validation Accuracy:  63.67%\n",
            "Epoch: 2, Training Loss: 0.6293, Training Accuracy:  65.22%\n",
            "Validation Loss: 0.6131, Validation Accuracy:  66.89%\n",
            "Epoch: 3, Training Loss: 0.6054, Training Accuracy:  67.99%\n",
            "Validation Loss: 0.5965, Validation Accuracy:  67.84%\n",
            "Epoch: 4, Training Loss: 0.5928, Training Accuracy:  68.77%\n",
            "Validation Loss: 0.5882, Validation Accuracy:  69.23%\n",
            "Epoch: 5, Training Loss: 0.5873, Training Accuracy:  69.24%\n",
            "Validation Loss: 0.5849, Validation Accuracy:  68.79%\n",
            "Epoch: 6, Training Loss: 0.5820, Training Accuracy:  69.43%\n",
            "Validation Loss: 0.5779, Validation Accuracy:  69.37%\n",
            "Epoch: 7, Training Loss: 0.5785, Training Accuracy:  69.89%\n",
            "Validation Loss: 0.5755, Validation Accuracy:  70.03%\n",
            "Epoch: 8, Training Loss: 0.5754, Training Accuracy:  69.87%\n",
            "Validation Loss: 0.5807, Validation Accuracy:  69.47%\n",
            "Epoch: 9, Training Loss: 0.5749, Training Accuracy:  69.94%\n",
            "Validation Loss: 0.5731, Validation Accuracy:  69.80%\n",
            "Epoch: 10, Training Loss: 0.5724, Training Accuracy:  70.12%\n",
            "Validation Loss: 0.5724, Validation Accuracy:  70.44%\n",
            "Epoch: 11, Training Loss: 0.5712, Training Accuracy:  70.20%\n",
            "Validation Loss: 0.5711, Validation Accuracy:  70.03%\n",
            "Epoch: 12, Training Loss: 0.5688, Training Accuracy:  70.47%\n",
            "Validation Loss: 0.5708, Validation Accuracy:  69.59%\n",
            "Epoch: 13, Training Loss: 0.5680, Training Accuracy:  70.31%\n",
            "Validation Loss: 0.5707, Validation Accuracy:  70.80%\n",
            "Epoch: 14, Training Loss: 0.5668, Training Accuracy:  70.44%\n",
            "Validation Loss: 0.5685, Validation Accuracy:  70.00%\n",
            "Epoch: 15, Training Loss: 0.5647, Training Accuracy:  70.73%\n",
            "Validation Loss: 0.5680, Validation Accuracy:  70.75%\n",
            "--- Time taken to train = 20.015989780426025 seconds ---\n",
            "\n",
            "\n",
            "Test Accuracy: 69.74%\n"
          ],
          "name": "stdout"
        }
      ]
    },
    {
      "cell_type": "code",
      "metadata": {
        "execution": {},
        "id": "xUR7Tsw71ymN",
        "colab": {
          "base_uri": "https://localhost:8080/",
          "height": 430
        },
        "outputId": "eb7f96df-a105-4d2a-cc6e-e0a303666ff9"
      },
      "source": [
        "# Plot accuracy curves\n",
        "plt.figure()\n",
        "plt.subplot(211)\n",
        "plot_train_val(np.arange(0, epochs), nn_train_acc, nn_validation_acc,\n",
        "               'train accuracy', 'val accuracy',\n",
        "               'Neural Net on IMDB text classification', 'accuracy',\n",
        "               color='C0')\n",
        "plt.legend(loc='upper left')\n",
        "plt.subplot(212)\n",
        "plot_train_val(np.arange(0, epochs), nn_train_loss,\n",
        "               nn_validation_loss,\n",
        "               'train loss', 'val loss',\n",
        "               '',\n",
        "               'loss [a.u.]',\n",
        "               color='C0')\n",
        "plt.legend(loc='upper left')\n",
        "plt.show()"
      ],
      "execution_count": 73,
      "outputs": [
        {
          "output_type": "display_data",
          "data": {
            "image/png": "[encoded data removed]",
            "text/plain": [
              "<Figure size 576x432 with 2 Axes>"
            ]
          },
          "metadata": {
            "tags": [],
            "image/png": {
              "width": 558,
              "height": 413
            },
            "needs_background": "light"
          }
        }
      ]
    },
    {
      "cell_type": "markdown",
      "metadata": {
        "execution": {},
        "id": "MdAcDPgP1ymN"
      },
      "source": [
        "---\n",
        "# Summary\n",
        "\n",
        "In this tutorial, we explored two different concepts linked to sequences, and text in particular, that will be the conceptual foundation for Recurrent Neural Networks.\n",
        "\n",
        "The first concept was that of sequences and probabilities. We saw how we can model language as sequences of text, and use this analogy to generate text. Such a setup is also used to classify text or identify parts of speech. We can either build chains manually using simple python and numerical computation, or use a package such as ```hmmlearn``` that allows us to train models a lot easier. These notions of sequences and probabilities (i.e, creating language models!) are key to the internals of a recurrent neural network as well. \n",
        "\n",
        "The second concept is that of word embeddings, now a mainstay of natural language processing. By using a neural network to predict context of words, these neural networks learn internal representions of words that are a decent approximation of semantic meaning (i.e embeddings!). We saw how these embeddings can be visualised, as well as how they capture meaning. We finally saw how they can be integrated into neural networks to better classify text documents."
      ]
    }
  ]
}