{
  "nbformat": 4,
  "nbformat_minor": 0,
  "metadata": {
    "colab": {
      "name": "Untitled0.ipynb",
      "provenance": [],
      "toc_visible": true,
      "authorship_tag": "ABX9TyPlH4pBDhIz3LARY+VLQixM",
      "include_colab_link": true
    },
    "kernelspec": {
      "name": "python3",
      "display_name": "Python 3"
    },
    "language_info": {
      "name": "python"
    }
  },
  "cells": [
    {
      "cell_type": "markdown",
      "metadata": {
        "id": "view-in-github",
        "colab_type": "text"
      },
      "source": [
        "<a href=\"https://colab.research.google.com/github/NeuromatchAcademy/course-content-dl/blob/w2d3_t2_videos/tutorials/W2D3_ModernRecurrentNeuralNetworks/W2D3_Tutorial1.ipynb\" target=\"_parent\"><img src=\"https://colab.research.google.com/assets/colab-badge.svg\" alt=\"Open In Colab\"/></a>"
      ]
    },
    {
      "cell_type": "markdown",
      "metadata": {
        "id": "XWj-5b3NYzIo"
      },
      "source": [
        "# Neuromatch Academy: Week XX, Day YY, Tutorial ZZ  \n",
        "# Tutorial place holder\n",
        "\n",
        "__Content creators:__ Name Sirname, Name Sirname\n",
        "\n",
        "__Content reviewers:__ Name Sirname, Name Sirname\n",
        "\n",
        "__Content editors:__ Name Sirname, Name Sirname"
      ]
    },
    {
      "cell_type": "code",
      "metadata": {
        "id": "CDm_VrxkYv2z"
      },
      "source": [
        "import numpy as np  "
      ],
      "execution_count": 1,
      "outputs": []
    }
  ]
}