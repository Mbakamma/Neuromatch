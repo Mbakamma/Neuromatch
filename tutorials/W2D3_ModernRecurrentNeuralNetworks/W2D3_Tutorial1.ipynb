{
  "nbformat": 4,
  "nbformat_minor": 0,
  "metadata": {
    "colab": {
      "name": "W2D3_Tutorial1",
      "provenance": [],
      "collapsed_sections": [
        "7ECoxlc0uY0Y",
        "oI0xy9E8zYC3",
        "EYUqaNE8zYC5"
      ],
      "toc_visible": true,
      "machine_shape": "hm",
      "include_colab_link": true
    },
    "kernel": {
      "display_name": "Python 3",
      "language": "python",
      "name": "python3"
    },
    "kernelspec": {
      "display_name": "Python 3",
      "name": "python3"
    },
    "language_info": {
      "name": "python"
    },
    "widgets": {
      "application/vnd.jupyter.widget-state+json": {
        "0e65ec843aa24fcd89a6e577f9266ae1": {
          "model_module": "@jupyter-widgets/controls",
          "model_name": "HBoxModel",
          "state": {
            "_view_name": "HBoxView",
            "_dom_classes": [],
            "_model_name": "HBoxModel",
            "_view_module": "@jupyter-widgets/controls",
            "_model_module_version": "1.5.0",
            "_view_count": null,
            "_view_module_version": "1.5.0",
            "box_style": "",
            "layout": "IPY_MODEL_565e9735515d45fbb2de3bfcf0d154b0",
            "_model_module": "@jupyter-widgets/controls",
            "children": [
              "IPY_MODEL_edd3a1e7f4c944c98866b6864f93cb86",
              "IPY_MODEL_647da6e6455b41dfa207bbe19aa434e4"
            ]
          }
        },
        "565e9735515d45fbb2de3bfcf0d154b0": {
          "model_module": "@jupyter-widgets/base",
          "model_name": "LayoutModel",
          "state": {
            "_view_name": "LayoutView",
            "grid_template_rows": null,
            "right": null,
            "justify_content": null,
            "_view_module": "@jupyter-widgets/base",
            "overflow": null,
            "_model_module_version": "1.2.0",
            "_view_count": null,
            "flex_flow": null,
            "width": null,
            "min_width": null,
            "border": null,
            "align_items": null,
            "bottom": null,
            "_model_module": "@jupyter-widgets/base",
            "top": null,
            "grid_column": null,
            "overflow_y": null,
            "overflow_x": null,
            "grid_auto_flow": null,
            "grid_area": null,
            "grid_template_columns": null,
            "flex": null,
            "_model_name": "LayoutModel",
            "justify_items": null,
            "grid_row": null,
            "max_height": null,
            "align_content": null,
            "visibility": null,
            "align_self": null,
            "height": null,
            "min_height": null,
            "padding": null,
            "grid_auto_rows": null,
            "grid_gap": null,
            "max_width": null,
            "order": null,
            "_view_module_version": "1.2.0",
            "grid_template_areas": null,
            "object_position": null,
            "object_fit": null,
            "grid_auto_columns": null,
            "margin": null,
            "display": null,
            "left": null
          }
        },
        "edd3a1e7f4c944c98866b6864f93cb86": {
          "model_module": "@jupyter-widgets/controls",
          "model_name": "FloatProgressModel",
          "state": {
            "_view_name": "ProgressView",
            "style": "IPY_MODEL_d4d0cb411a6948d0a81c10446aba2fcd",
            "_dom_classes": [],
            "description": "100%",
            "_model_name": "FloatProgressModel",
            "bar_style": "success",
            "max": 612423,
            "_view_module": "@jupyter-widgets/controls",
            "_model_module_version": "1.5.0",
            "value": 612423,
            "_view_count": null,
            "_view_module_version": "1.5.0",
            "orientation": "horizontal",
            "min": 0,
            "description_tooltip": null,
            "_model_module": "@jupyter-widgets/controls",
            "layout": "IPY_MODEL_1dc3ee4863ae470d83dadbf573e45084"
          }
        },
        "647da6e6455b41dfa207bbe19aa434e4": {
          "model_module": "@jupyter-widgets/controls",
          "model_name": "HTMLModel",
          "state": {
            "_view_name": "HTMLView",
            "style": "IPY_MODEL_20be1b2381324516a9e178e0a41f6205",
            "_dom_classes": [],
            "description": "",
            "_model_name": "HTMLModel",
            "placeholder": "​",
            "_view_module": "@jupyter-widgets/controls",
            "_model_module_version": "1.5.0",
            "value": " 612423/612423 [00:20&lt;00:00, 30480.83it/s]",
            "_view_count": null,
            "_view_module_version": "1.5.0",
            "description_tooltip": null,
            "_model_module": "@jupyter-widgets/controls",
            "layout": "IPY_MODEL_5dda9d032c5e4f1d8a9e88561cfac96d"
          }
        },
        "d4d0cb411a6948d0a81c10446aba2fcd": {
          "model_module": "@jupyter-widgets/controls",
          "model_name": "ProgressStyleModel",
          "state": {
            "_view_name": "StyleView",
            "_model_name": "ProgressStyleModel",
            "description_width": "initial",
            "_view_module": "@jupyter-widgets/base",
            "_model_module_version": "1.5.0",
            "_view_count": null,
            "_view_module_version": "1.2.0",
            "bar_color": null,
            "_model_module": "@jupyter-widgets/controls"
          }
        },
        "1dc3ee4863ae470d83dadbf573e45084": {
          "model_module": "@jupyter-widgets/base",
          "model_name": "LayoutModel",
          "state": {
            "_view_name": "LayoutView",
            "grid_template_rows": null,
            "right": null,
            "justify_content": null,
            "_view_module": "@jupyter-widgets/base",
            "overflow": null,
            "_model_module_version": "1.2.0",
            "_view_count": null,
            "flex_flow": null,
            "width": null,
            "min_width": null,
            "border": null,
            "align_items": null,
            "bottom": null,
            "_model_module": "@jupyter-widgets/base",
            "top": null,
            "grid_column": null,
            "overflow_y": null,
            "overflow_x": null,
            "grid_auto_flow": null,
            "grid_area": null,
            "grid_template_columns": null,
            "flex": null,
            "_model_name": "LayoutModel",
            "justify_items": null,
            "grid_row": null,
            "max_height": null,
            "align_content": null,
            "visibility": null,
            "align_self": null,
            "height": null,
            "min_height": null,
            "padding": null,
            "grid_auto_rows": null,
            "grid_gap": null,
            "max_width": null,
            "order": null,
            "_view_module_version": "1.2.0",
            "grid_template_areas": null,
            "object_position": null,
            "object_fit": null,
            "grid_auto_columns": null,
            "margin": null,
            "display": null,
            "left": null
          }
        },
        "20be1b2381324516a9e178e0a41f6205": {
          "model_module": "@jupyter-widgets/controls",
          "model_name": "DescriptionStyleModel",
          "state": {
            "_view_name": "StyleView",
            "_model_name": "DescriptionStyleModel",
            "description_width": "",
            "_view_module": "@jupyter-widgets/base",
            "_model_module_version": "1.5.0",
            "_view_count": null,
            "_view_module_version": "1.2.0",
            "_model_module": "@jupyter-widgets/controls"
          }
        },
        "5dda9d032c5e4f1d8a9e88561cfac96d": {
          "model_module": "@jupyter-widgets/base",
          "model_name": "LayoutModel",
          "state": {
            "_view_name": "LayoutView",
            "grid_template_rows": null,
            "right": null,
            "justify_content": null,
            "_view_module": "@jupyter-widgets/base",
            "overflow": null,
            "_model_module_version": "1.2.0",
            "_view_count": null,
            "flex_flow": null,
            "width": null,
            "min_width": null,
            "border": null,
            "align_items": null,
            "bottom": null,
            "_model_module": "@jupyter-widgets/base",
            "top": null,
            "grid_column": null,
            "overflow_y": null,
            "overflow_x": null,
            "grid_auto_flow": null,
            "grid_area": null,
            "grid_template_columns": null,
            "flex": null,
            "_model_name": "LayoutModel",
            "justify_items": null,
            "grid_row": null,
            "max_height": null,
            "align_content": null,
            "visibility": null,
            "align_self": null,
            "height": null,
            "min_height": null,
            "padding": null,
            "grid_auto_rows": null,
            "grid_gap": null,
            "max_width": null,
            "order": null,
            "_view_module_version": "1.2.0",
            "grid_template_areas": null,
            "object_position": null,
            "object_fit": null,
            "grid_auto_columns": null,
            "margin": null,
            "display": null,
            "left": null
          }
        }
      }
    }
  },
  "cells": [
    {
      "cell_type": "markdown",
      "metadata": {
        "id": "view-in-github",
        "colab_type": "text"
      },
      "source": [
        "<a href=\"https://colab.research.google.com/github/NeuromatchAcademy/course-content-dl/blob/w2d3_update_t1/tutorials/W2D3_ModernRecurrentNeuralNetworks/W2D3_Tutorial1.ipynb\" target=\"_parent\"><img src=\"https://colab.research.google.com/assets/colab-badge.svg\" alt=\"Open In Colab\"/></a>"
      ]
    },
    {
      "cell_type": "markdown",
      "metadata": {
        "id": "RLB_T85fHYAG"
      },
      "source": [
        "# Neuromatch Academy: Week 2, Day 3, Tutorial 1\n",
        "# Modern RNNs\n",
        "\n",
        "__Content creators:__ James Evans, Bhargav Srinivasa Desikan, Anis Zahedifard\n",
        "\n",
        "__Content reviewers:__ Lily Cheng, Melvin Selim Atay\n",
        "\n",
        "__Production editors:__ Roberto Guidotti, Spiros Chavlis\n"
      ]
    },
    {
      "cell_type": "markdown",
      "metadata": {
        "id": "vu5aCDmEHYAG"
      },
      "source": [
        "----\n",
        "# Tutorial objectives\n",
        "\n",
        "Before we begin with exploring how RNNs excel at modelling sequences, we will explore some of the other ways we can model sequences, encode text, and make meaningful measurements using such encodings and embeddings. "
      ]
    },
    {
      "cell_type": "code",
      "metadata": {
        "cellView": "form",
        "colab": {
          "base_uri": "https://localhost:8080/",
          "height": 518
        },
        "id": "5ZOCME47HYAG",
        "outputId": "9f9d4b2c-7337-4263-ee1f-de721eb4f06b"
      },
      "source": [
        "#@title Video 1: Introduction\n",
        "# Insert the ID of the corresponding youtube video\n",
        "from IPython.display import YouTubeVideo\n",
        "video = YouTubeVideo(id=\"EdnZ4tS4kK0\", width=854, height=480, fs=1)\n",
        "print(\"Video available at https://youtu.be/\" + video.id)\n",
        "video"
      ],
      "execution_count": 1,
      "outputs": [
        {
          "output_type": "stream",
          "text": [
            "Video available at https://youtu.be/EdnZ4tS4kK0\n"
          ],
          "name": "stdout"
        },
        {
          "output_type": "execute_result",
          "data": {
            "text/html": [
              "\n",
              "        <iframe\n",
              "            width=\"854\"\n",
              "            height=\"480\"\n",
              "            src=\"https://www.youtube.com/embed/EdnZ4tS4kK0?fs=1\"\n",
              "            frameborder=\"0\"\n",
              "            allowfullscreen\n",
              "        ></iframe>\n",
              "        "
            ],
            "text/plain": [
              "<IPython.lib.display.YouTubeVideo at 0x7fad02ed7fd0>"
            ],
            "image/jpeg": "[encoded data removed]"
          },
          "metadata": {
            "tags": []
          },
          "execution_count": 1
        }
      ]
    },
    {
      "cell_type": "markdown",
      "metadata": {
        "id": "hvA9LCgtHYAH"
      },
      "source": [
        "---\n",
        "## Setup"
      ]
    },
    {
      "cell_type": "code",
      "metadata": {
        "colab": {
          "base_uri": "https://localhost:8080/"
        },
        "id": "1QdQmZedHYAH",
        "outputId": "3a80a287-810c-4db2-a54e-5d7910bb8663"
      },
      "source": [
        "# Install packages\n",
        "!pip install torchtext==0.4.0\n",
        "!pip install --upgrade gensim --quiet\n",
        "!pip install unidecode --quiet\n",
        "!pip install d2l --quiet\n",
        "!pip install hmmlearn --quiet\n",
        "!pip install fasttext --quiet\n",
        "\n",
        "# Imports\n",
        "import os\n",
        "\n",
        "import time\n",
        "import nltk\n",
        "import torch\n",
        "import random\n",
        "import string\n",
        "import zipfile\n",
        "import fasttext\n",
        "import requests\n",
        "\n",
        "import numpy as np\n",
        "import pandas as pd\n",
        "import torch.nn as nn\n",
        "import matplotlib.cm as cm\n",
        "import matplotlib.pyplot as plt\n",
        "\n",
        "from IPython.display import Image\n",
        "from tqdm import tqdm_notebook as tqdm\n",
        "\n",
        "from hmmlearn import hmm\n",
        "from nltk import FreqDist\n",
        "from nltk.corpus import brown\n",
        "from d2l import torch as d2l\n",
        "from gensim.models import Word2Vec\n",
        "from scipy.sparse import dok_matrix\n",
        "from torchtext import data, datasets\n",
        "from torch.nn import functional as F\n",
        "from torchtext.vocab import FastText\n",
        "from nltk.tokenize import word_tokenize\n",
        "\n",
        "from sklearn.manifold import TSNE\n",
        "from sklearn.preprocessing import LabelEncoder\n",
        "from sklearn.metrics.pairwise import cosine_similarity\n",
        "\n",
        "from IPython.display import YouTubeVideo\n",
        "\n",
        "# no critical warnings, so we supress it\n",
        "import warnings\n",
        "warnings.simplefilter(\"ignore\")\n",
        "\n",
        "nltk.download('punkt')\n",
        "nltk.download('averaged_perceptron_tagger')\n",
        "nltk.download('brown')\n",
        "nltk.download('webtext')\n",
        "\n",
        "device = torch.device('cuda' if torch.cuda.is_available() else 'cpu')"
      ],
      "execution_count": 2,
      "outputs": [
        {
          "output_type": "stream",
          "text": [
            "Collecting torchtext==0.4.0\n",
            "\u001b[?25l  Downloading https://files.pythonhosted.org/packages/43/94/929d6bd236a4fb5c435982a7eb9730b78dcd8659acf328fd2ef9de85f483/torchtext-0.4.0-py3-none-any.whl (53kB)\n",
            "\r\u001b[K     |██████▏                         | 10kB 20.2MB/s eta 0:00:01\r\u001b[K     |████████████▍                   | 20kB 27.9MB/s eta 0:00:01\r\u001b[K     |██████████████████▌             | 30kB 34.1MB/s eta 0:00:01\r\u001b[K     |████████████████████████▊       | 40kB 39.1MB/s eta 0:00:01\r\u001b[K     |██████████████████████████████▉ | 51kB 18.7MB/s eta 0:00:01\r\u001b[K     |████████████████████████████████| 61kB 4.8MB/s \n",
            "\u001b[?25hRequirement already satisfied: torch in /usr/local/lib/python3.7/dist-packages (from torchtext==0.4.0) (1.9.0+cu102)\n",
            "Requirement already satisfied: numpy in /usr/local/lib/python3.7/dist-packages (from torchtext==0.4.0) (1.19.5)\n",
            "Requirement already satisfied: tqdm in /usr/local/lib/python3.7/dist-packages (from torchtext==0.4.0) (4.41.1)\n",
            "Requirement already satisfied: six in /usr/local/lib/python3.7/dist-packages (from torchtext==0.4.0) (1.15.0)\n",
            "Requirement already satisfied: requests in /usr/local/lib/python3.7/dist-packages (from torchtext==0.4.0) (2.23.0)\n",
            "Requirement already satisfied: typing-extensions in /usr/local/lib/python3.7/dist-packages (from torch->torchtext==0.4.0) (3.7.4.3)\n",
            "Requirement already satisfied: urllib3!=1.25.0,!=1.25.1,<1.26,>=1.21.1 in /usr/local/lib/python3.7/dist-packages (from requests->torchtext==0.4.0) (1.24.3)\n",
            "Requirement already satisfied: idna<3,>=2.5 in /usr/local/lib/python3.7/dist-packages (from requests->torchtext==0.4.0) (2.10)\n",
            "Requirement already satisfied: certifi>=2017.4.17 in /usr/local/lib/python3.7/dist-packages (from requests->torchtext==0.4.0) (2021.5.30)\n",
            "Requirement already satisfied: chardet<4,>=3.0.2 in /usr/local/lib/python3.7/dist-packages (from requests->torchtext==0.4.0) (3.0.4)\n",
            "Installing collected packages: torchtext\n",
            "  Found existing installation: torchtext 0.10.0\n",
            "    Uninstalling torchtext-0.10.0:\n",
            "      Successfully uninstalled torchtext-0.10.0\n",
            "Successfully installed torchtext-0.4.0\n",
            "\u001b[K     |████████████████████████████████| 23.9MB 1.4MB/s \n",
            "\u001b[K     |████████████████████████████████| 245kB 10.4MB/s \n",
            "\u001b[K     |████████████████████████████████| 92kB 6.5MB/s \n",
            "\u001b[K     |████████████████████████████████| 378kB 13.3MB/s \n",
            "\u001b[K     |████████████████████████████████| 71kB 4.8MB/s \n",
            "\u001b[?25h  Building wheel for fasttext (setup.py) ... \u001b[?25l\u001b[?25hdone\n"
          ],
          "name": "stdout"
        },
        {
          "output_type": "stream",
          "text": [
            "/usr/local/lib/python3.7/dist-packages/gensim/similarities/__init__.py:15: UserWarning: The gensim.similarities.levenshtein submodule is disabled, because the optional Levenshtein package <https://pypi.org/project/python-Levenshtein/> is unavailable. Install Levenhstein (e.g. `pip install python-Levenshtein`) to suppress this warning.\n",
            "  warnings.warn(msg)\n"
          ],
          "name": "stderr"
        },
        {
          "output_type": "stream",
          "text": [
            "[nltk_data] Downloading package punkt to /root/nltk_data...\n",
            "[nltk_data]   Unzipping tokenizers/punkt.zip.\n",
            "[nltk_data] Downloading package averaged_perceptron_tagger to\n",
            "[nltk_data]     /root/nltk_data...\n",
            "[nltk_data]   Unzipping taggers/averaged_perceptron_tagger.zip.\n",
            "[nltk_data] Downloading package brown to /root/nltk_data...\n",
            "[nltk_data]   Unzipping corpora/brown.zip.\n",
            "[nltk_data] Downloading package webtext to /root/nltk_data...\n",
            "[nltk_data]   Unzipping corpora/webtext.zip.\n"
          ],
          "name": "stdout"
        }
      ]
    },
    {
      "cell_type": "code",
      "metadata": {
        "cellView": "form",
        "id": "qF8lHuNmHYAI"
      },
      "source": [
        "# @title Figure Settings\n",
        "import ipywidgets as widgets\n",
        "%matplotlib inline\n",
        "fig_w, fig_h = (8, 6)\n",
        "plt.rcParams.update({'figure.figsize': (fig_w, fig_h)})\n",
        "%config InlineBackend.figure_format = 'retina'\n",
        "SMALL_SIZE = 12\n",
        "\n",
        "plt.style.use(\"https://raw.githubusercontent.com/NeuromatchAcademy/\"\n",
        "              \"course-content/master/nma.mplstyle\")"
      ],
      "execution_count": 3,
      "outputs": []
    },
    {
      "cell_type": "code",
      "metadata": {
        "cellView": "form",
        "id": "jBRXj4R1HYAJ"
      },
      "source": [
        "# @title Helper functions\n",
        "def cosine_similarity(vec_a, vec_b):\n",
        "    \"\"\"Compute cosine similarity between vec_a and vec_b\"\"\"\n",
        "    return np.dot(vec_a, vec_b) / (np.linalg.norm(vec_a) * np.linalg.norm(vec_b))\n",
        "\n",
        "\n",
        "def tokenize(sentences):\n",
        "  #Tokenize the sentence\n",
        "  #from nltk.tokenize library use word_tokenize\n",
        "  token = word_tokenize(sentences)\n",
        "\n",
        "  return token\n",
        "\n",
        "\n",
        "def plot_train_val(x, train, val, train_label, val_label, title):\n",
        "  plt.plot(x, train, label=train_label)\n",
        "  plt.plot(x, val, label=val_label)\n",
        "  plt.legend(loc='lower right')\n",
        "  plt.xlabel('epoch')\n",
        "  plt.title(title)\n",
        "  plt.show()\n",
        "\n",
        "\n",
        "#@title Load Data\n",
        "\n",
        "def load_dataset(emb_vectors, sentence_length=50, seed=522):\n",
        "  TEXT = data.Field(sequential=True,\n",
        "                    tokenize=tokenize,\n",
        "                    lower=True,\n",
        "                    include_lengths=True,\n",
        "                    batch_first=True,\n",
        "                    fix_length=sentence_length)\n",
        "  LABEL = data.LabelField(dtype=torch.float)\n",
        "\n",
        "  train_data, test_data = datasets.IMDB.splits(TEXT, LABEL)\n",
        "\n",
        "  TEXT.build_vocab(train_data, vectors=emb_vectors)\n",
        "  LABEL.build_vocab(train_data)\n",
        "\n",
        "  train_data, valid_data = train_data.split(split_ratio=0.7,\n",
        "                                            random_state=random.seed(seed))\n",
        "  train_iter, valid_iter, test_iter = data.BucketIterator.splits((train_data,\n",
        "                                                                  valid_data,\n",
        "                                                                  test_data),\n",
        "                                                                 batch_size=32,\n",
        "                                                                 sort_key=lambda x: len(x.text),\n",
        "                                                                 repeat=False,\n",
        "                                                                 shuffle=True)\n",
        "  vocab_size = len(TEXT.vocab)\n",
        "\n",
        "  return TEXT, vocab_size, train_iter, valid_iter, test_iter\n",
        "\n",
        "\n",
        "def download_file_from_google_drive(id, destination):\n",
        "  URL = \"https://docs.google.com/uc?export=download\"\n",
        "\n",
        "  session = requests.Session()\n",
        "\n",
        "  response = session.get(URL, params={ 'id': id }, stream=True)\n",
        "  token = get_confirm_token(response)\n",
        "\n",
        "  if token:\n",
        "    params = { 'id': id, 'confirm': token }\n",
        "    response = session.get(URL, params=params, stream=True)\n",
        "\n",
        "  save_response_content(response, destination)\n",
        "\n",
        "\n",
        "def get_confirm_token(response):\n",
        "  for key, value in response.cookies.items():\n",
        "    if key.startswith('download_warning'):\n",
        "      return value\n",
        "\n",
        "  return None\n",
        "\n",
        "\n",
        "def save_response_content(response, destination):\n",
        "  CHUNK_SIZE = 32768\n",
        "\n",
        "  with open(destination, \"wb\") as f:\n",
        "    for chunk in response.iter_content(CHUNK_SIZE):\n",
        "      if chunk: # filter out keep-alive new chunks\n",
        "        f.write(chunk)"
      ],
      "execution_count": 4,
      "outputs": []
    },
    {
      "cell_type": "code",
      "metadata": {
        "cellView": "form",
        "id": "rI5F5I-mHYAK"
      },
      "source": [
        "# @title Set random seed\n",
        "\n",
        "def set_seed(seed):\n",
        "  random.seed(seed)\n",
        "  torch.manual_seed(seed)\n",
        "  torch.cuda.manual_seed_all(seed)\n",
        "  torch.cuda.manual_seed(seed)\n",
        "  np.random.seed(seed)\n",
        "  torch.backends.cudnn.deterministic = True\n",
        "  torch.backends.cudnn.benchmark = False\n",
        "\n",
        "\n",
        "def seed_worker(worker_id):\n",
        "  worker_seed = torch.initial_seed() % 2**32\n",
        "  np.random.seed(worker_seed)\n",
        "  random.seed(worker_seed)\n",
        "\n",
        "\n",
        "set_seed(522)"
      ],
      "execution_count": 5,
      "outputs": []
    },
    {
      "cell_type": "markdown",
      "metadata": {
        "id": "ZmDSTTAxHYAK"
      },
      "source": [
        "---\n",
        "# Section 1: Sequences, Markov Chains & HMMs"
      ]
    },
    {
      "cell_type": "code",
      "metadata": {
        "cellView": "form",
        "colab": {
          "base_uri": "https://localhost:8080/",
          "height": 518
        },
        "id": "9vStUJ-IHYAL",
        "outputId": "f65735bc-5713-479c-c700-e49f4119cb9b"
      },
      "source": [
        "#@title Video 2: Sequences & Markov Processes\n",
        "# Insert the ID of the corresponding youtube video\n",
        "from IPython.display import YouTubeVideo\n",
        "video = YouTubeVideo(id=\"LrNVfGiyNws\", width=854, height=480, fs=1)\n",
        "print(\"Video available at https://youtu.be/\" + video.id)\n",
        "video"
      ],
      "execution_count": 6,
      "outputs": [
        {
          "output_type": "stream",
          "text": [
            "Video available at https://youtu.be/LrNVfGiyNws\n"
          ],
          "name": "stdout"
        },
        {
          "output_type": "execute_result",
          "data": {
            "text/html": [
              "\n",
              "        <iframe\n",
              "            width=\"854\"\n",
              "            height=\"480\"\n",
              "            src=\"https://www.youtube.com/embed/LrNVfGiyNws?fs=1\"\n",
              "            frameborder=\"0\"\n",
              "            allowfullscreen\n",
              "        ></iframe>\n",
              "        "
            ],
            "text/plain": [
              "<IPython.lib.display.YouTubeVideo at 0x7fac84640910>"
            ],
            "image/jpeg": "[encoded data removed]"
          },
          "metadata": {
            "tags": []
          },
          "execution_count": 6
        }
      ]
    },
    {
      "cell_type": "markdown",
      "metadata": {
        "id": "xzc7xzfZHYAL"
      },
      "source": [
        "In this notebook we will be exploring the world of sequences - thinking of what kind of data can be thought of as sequences, and how these sequences can be represented as Markov Chains and Hidden Markov Models. These ideas and methods were an important part of natural language processing and language modelling, and serve as a useful way to ground ourselves before we dive into neural network methods."
      ]
    },
    {
      "cell_type": "markdown",
      "metadata": {
        "id": "pIlBlrU_HYAL"
      },
      "source": [
        "## Section 1.1: What data are sequences?\n",
        "\n",
        "Native Sequences:\n",
        "\n",
        "- Temporally occurring events (e.g., history, stock prices)\n",
        "- Temporally processed events (e.g., communication)\n",
        "- Topologically connected components (e.g., polymers, peptides)\n",
        "\n",
        "Synthetic Sequences: \n",
        "\n",
        "- Anything processed as a sequence (e.g., scanned pixels in an image)\n",
        "\n",
        "Sequences can be represented as a Markov Process - since this notion of sequential data is intrinsically linked to RNNs, it is a good place for us to start, and natural language (text!) will be our sequence of choice. \n",
        "\n",
        "We will be using the Brown corpus which comes loaded with NLTK, and using the entire corpus - this requires a lot of RAM for some of the methods, so we recommend using a smaller subset of categories if you do not have enough RAM.\n",
        "\n",
        "We will be using some of the code from this [tutorial](https://www.kdnuggets.com/2019/11/markov-chains-train-text-generation.html) and this [Jupyter notebook](https://github.com/StrikingLoo/ASOIAF-Markov/blob/master/ASOIAF.ipynb)."
      ]
    },
    {
      "cell_type": "code",
      "metadata": {
        "id": "I9z3bzRuHYAM"
      },
      "source": [
        "category = ['editorial', 'fiction', 'government', 'news', 'religion']\n",
        "sentences = brown.sents(categories=category)"
      ],
      "execution_count": 7,
      "outputs": []
    },
    {
      "cell_type": "markdown",
      "metadata": {
        "id": "kb3p6pKhHYAM"
      },
      "source": [
        "Now that we have our sentences, let us look at some statistics to get an idea of what we are dealing with."
      ]
    },
    {
      "cell_type": "code",
      "metadata": {
        "id": "orkXuw3tHYAM"
      },
      "source": [
        "lengths = [len(sentence) for sentence in sentences]\n",
        "lengths = pd.Series(lengths)"
      ],
      "execution_count": 8,
      "outputs": []
    },
    {
      "cell_type": "code",
      "metadata": {
        "colab": {
          "base_uri": "https://localhost:8080/"
        },
        "id": "2m87Wr_cHYAM",
        "outputId": "e11a499c-5225-4bd4-df82-0a84856ea7db"
      },
      "source": [
        "lengths.quantile(.8)"
      ],
      "execution_count": 9,
      "outputs": [
        {
          "output_type": "execute_result",
          "data": {
            "text/plain": [
              "30.0"
            ]
          },
          "metadata": {
            "tags": []
          },
          "execution_count": 9
        }
      ]
    },
    {
      "cell_type": "code",
      "metadata": {
        "colab": {
          "base_uri": "https://localhost:8080/"
        },
        "id": "T8v99u28HYAN",
        "outputId": "a5bc2fb1-4dca-440e-c6c2-55fc37575857"
      },
      "source": [
        "lengths.describe()\n",
        "# 14228 our of 18k"
      ],
      "execution_count": 10,
      "outputs": [
        {
          "output_type": "execute_result",
          "data": {
            "text/plain": [
              "count    16617.000000\n",
              "mean        20.470723\n",
              "std         13.656809\n",
              "min          1.000000\n",
              "25%         10.000000\n",
              "50%         18.000000\n",
              "75%         28.000000\n",
              "max        180.000000\n",
              "dtype: float64"
            ]
          },
          "metadata": {
            "tags": []
          },
          "execution_count": 10
        }
      ]
    },
    {
      "cell_type": "code",
      "metadata": {
        "colab": {
          "base_uri": "https://localhost:8080/"
        },
        "id": "Wpbn5ZRQHYAN",
        "outputId": "ccc6de2c-054f-4e96-9b2b-5a50a6e71dea"
      },
      "source": [
        "sentences[0:2]"
      ],
      "execution_count": 11,
      "outputs": [
        {
          "output_type": "execute_result",
          "data": {
            "text/plain": [
              "[['The',\n",
              "  'Fulton',\n",
              "  'County',\n",
              "  'Grand',\n",
              "  'Jury',\n",
              "  'said',\n",
              "  'Friday',\n",
              "  'an',\n",
              "  'investigation',\n",
              "  'of',\n",
              "  \"Atlanta's\",\n",
              "  'recent',\n",
              "  'primary',\n",
              "  'election',\n",
              "  'produced',\n",
              "  '``',\n",
              "  'no',\n",
              "  'evidence',\n",
              "  \"''\",\n",
              "  'that',\n",
              "  'any',\n",
              "  'irregularities',\n",
              "  'took',\n",
              "  'place',\n",
              "  '.'],\n",
              " ['The',\n",
              "  'jury',\n",
              "  'further',\n",
              "  'said',\n",
              "  'in',\n",
              "  'term-end',\n",
              "  'presentments',\n",
              "  'that',\n",
              "  'the',\n",
              "  'City',\n",
              "  'Executive',\n",
              "  'Committee',\n",
              "  ',',\n",
              "  'which',\n",
              "  'had',\n",
              "  'over-all',\n",
              "  'charge',\n",
              "  'of',\n",
              "  'the',\n",
              "  'election',\n",
              "  ',',\n",
              "  '``',\n",
              "  'deserves',\n",
              "  'the',\n",
              "  'praise',\n",
              "  'and',\n",
              "  'thanks',\n",
              "  'of',\n",
              "  'the',\n",
              "  'City',\n",
              "  'of',\n",
              "  'Atlanta',\n",
              "  \"''\",\n",
              "  'for',\n",
              "  'the',\n",
              "  'manner',\n",
              "  'in',\n",
              "  'which',\n",
              "  'the',\n",
              "  'election',\n",
              "  'was',\n",
              "  'conducted',\n",
              "  '.']]"
            ]
          },
          "metadata": {
            "tags": []
          },
          "execution_count": 11
        }
      ]
    },
    {
      "cell_type": "markdown",
      "metadata": {
        "id": "27Gc2XLiHYAN"
      },
      "source": [
        "Since we will be modelling words as sequences in sentences, let us first collect all the words in our corpus."
      ]
    },
    {
      "cell_type": "code",
      "metadata": {
        "id": "H1dgKhbwHYAN"
      },
      "source": [
        "corpus_words = []\n",
        "for sentence in sentences:\n",
        "  for word in sentence:\n",
        "    if \"''\" not in word and \"``\" not in word:\n",
        "      corpus_words.append(word)"
      ],
      "execution_count": 12,
      "outputs": []
    },
    {
      "cell_type": "code",
      "metadata": {
        "colab": {
          "base_uri": "https://localhost:8080/"
        },
        "id": "NaZz4w1ZHYAN",
        "outputId": "5b988d32-af18-4a61-e735-7c0b9682f501"
      },
      "source": [
        "print(\"Corpus length: \"+ str(len(corpus_words)))"
      ],
      "execution_count": 13,
      "outputs": [
        {
          "output_type": "stream",
          "text": [
            "Corpus length: 335766\n"
          ],
          "name": "stdout"
        }
      ]
    },
    {
      "cell_type": "code",
      "metadata": {
        "colab": {
          "base_uri": "https://localhost:8080/"
        },
        "id": "aDK9NnqDHYAO",
        "outputId": "22968bcc-824f-4107-f8f5-7af9e81c14b7"
      },
      "source": [
        "corpus_words[0:20]"
      ],
      "execution_count": 14,
      "outputs": [
        {
          "output_type": "execute_result",
          "data": {
            "text/plain": [
              "['The',\n",
              " 'Fulton',\n",
              " 'County',\n",
              " 'Grand',\n",
              " 'Jury',\n",
              " 'said',\n",
              " 'Friday',\n",
              " 'an',\n",
              " 'investigation',\n",
              " 'of',\n",
              " \"Atlanta's\",\n",
              " 'recent',\n",
              " 'primary',\n",
              " 'election',\n",
              " 'produced',\n",
              " 'no',\n",
              " 'evidence',\n",
              " 'that',\n",
              " 'any',\n",
              " 'irregularities']"
            ]
          },
          "metadata": {
            "tags": []
          },
          "execution_count": 14
        }
      ]
    },
    {
      "cell_type": "markdown",
      "metadata": {
        "id": "wKW2dM20HYAO"
      },
      "source": [
        "We'll now get distinct words and create a matrix to represent all these words - this is necessary because we will be using this matrix to look at the probability of the words in sequences."
      ]
    },
    {
      "cell_type": "code",
      "metadata": {
        "id": "uDejHfAiHYAO"
      },
      "source": [
        "distinct_words = list(set(corpus_words))\n",
        "word_idx_dict = {word: i for i, word in enumerate(distinct_words)}\n",
        "distinct_words_count = len(list(set(corpus_words)))"
      ],
      "execution_count": 15,
      "outputs": []
    },
    {
      "cell_type": "code",
      "metadata": {
        "colab": {
          "base_uri": "https://localhost:8080/"
        },
        "id": "ofoTmAyoHYAO",
        "outputId": "c4e8d78f-0f97-4ac3-c1f9-788773b6bbb9"
      },
      "source": [
        "print(\"Number of distinct words: \" + str(distinct_words_count))"
      ],
      "execution_count": 16,
      "outputs": [
        {
          "output_type": "stream",
          "text": [
            "Number of distinct words: 27485\n"
          ],
          "name": "stdout"
        }
      ]
    },
    {
      "cell_type": "code",
      "metadata": {
        "id": "jmA2PzqfHYAO"
      },
      "source": [
        "next_word_matrix = np.zeros([distinct_words_count, distinct_words_count])"
      ],
      "execution_count": 17,
      "outputs": []
    },
    {
      "cell_type": "code",
      "metadata": {
        "colab": {
          "base_uri": "https://localhost:8080/"
        },
        "id": "1uZCFpdqHYAO",
        "outputId": "c6dffeed-1452-4217-9ba6-4a65fbf120d1"
      },
      "source": [
        "word_idx_dict"
      ],
      "execution_count": 18,
      "outputs": [
        {
          "output_type": "execute_result",
          "data": {
            "text/plain": [
              "{'gig': 0,\n",
              " 'mitigate': 1,\n",
              " 'discounts': 2,\n",
              " 'pars': 3,\n",
              " '175': 4,\n",
              " 'versus': 5,\n",
              " 'tightening': 6,\n",
              " 'determine': 7,\n",
              " 'grand-slam': 8,\n",
              " 'starts': 9,\n",
              " 'premium': 10,\n",
              " '3-10': 11,\n",
              " 'demonstrations': 12,\n",
              " 'surprisingly': 13,\n",
              " 'throat': 14,\n",
              " 'Sons': 15,\n",
              " 'circumstance': 16,\n",
              " 'rupee': 17,\n",
              " 'Forum': 18,\n",
              " 'Sherman': 19,\n",
              " 'involves': 20,\n",
              " 'rulers': 21,\n",
              " 'model': 22,\n",
              " 'Hopkins': 23,\n",
              " 'declared': 24,\n",
              " '800': 25,\n",
              " 'anti-Catholic': 26,\n",
              " 'residence': 27,\n",
              " '412-413': 28,\n",
              " 'marred': 29,\n",
              " 'honoree': 30,\n",
              " 'axis': 31,\n",
              " 'pretends': 32,\n",
              " 'barrage': 33,\n",
              " 'Poverty': 34,\n",
              " 'Philippine': 35,\n",
              " 'cliffhanging': 36,\n",
              " 'gladness': 37,\n",
              " '2-over-par': 38,\n",
              " 'windup': 39,\n",
              " 'low': 40,\n",
              " 'expire': 41,\n",
              " 'disarm': 42,\n",
              " 'divided': 43,\n",
              " 'million': 44,\n",
              " 'radiate': 45,\n",
              " 'Jonathan': 46,\n",
              " 'patched': 47,\n",
              " 'submitted': 48,\n",
              " 'worker': 49,\n",
              " 'substitutionary': 50,\n",
              " 'assisted': 51,\n",
              " 'questioned': 52,\n",
              " 'inane': 53,\n",
              " 'They': 54,\n",
              " 'candlewick': 55,\n",
              " 'democracy': 56,\n",
              " 'stapling': 57,\n",
              " 'hasten': 58,\n",
              " 'acts': 59,\n",
              " 'goods': 60,\n",
              " 'Abe': 61,\n",
              " 'grovel': 62,\n",
              " 'mostly': 63,\n",
              " 'shattered': 64,\n",
              " 'dispossession': 65,\n",
              " 'triumphs': 66,\n",
              " 'cozier': 67,\n",
              " 'devils': 68,\n",
              " 'justitia': 69,\n",
              " 'alive': 70,\n",
              " 'Moluccas': 71,\n",
              " 'Miami': 72,\n",
              " 'abduction': 73,\n",
              " '26-28': 74,\n",
              " 'morale': 75,\n",
              " 'systematic': 76,\n",
              " 'criminal': 77,\n",
              " 'cutback': 78,\n",
              " 'lions': 79,\n",
              " 'Romulo': 80,\n",
              " 'schooling': 81,\n",
              " \"valley's\": 82,\n",
              " 'Armide': 83,\n",
              " 'conspirators': 84,\n",
              " 'skies': 85,\n",
              " 'therein': 86,\n",
              " 'investigative': 87,\n",
              " 'sets': 88,\n",
              " 'stein': 89,\n",
              " 'cohorts': 90,\n",
              " 'ICBM': 91,\n",
              " 'spit': 92,\n",
              " '605': 93,\n",
              " 'truth-revealing': 94,\n",
              " 'anti-party': 95,\n",
              " 'proves': 96,\n",
              " 'Foods': 97,\n",
              " \"hen's\": 98,\n",
              " 'offer': 99,\n",
              " 'boats': 100,\n",
              " 'officer': 101,\n",
              " 'accompaniment': 102,\n",
              " 'outmoded': 103,\n",
              " 'numbers': 104,\n",
              " 'Hit': 105,\n",
              " '1859-1929': 106,\n",
              " 'trust': 107,\n",
              " 'geographic': 108,\n",
              " 'Shore': 109,\n",
              " 'securely': 110,\n",
              " 'Agencies': 111,\n",
              " 'courtly': 112,\n",
              " 'fixture': 113,\n",
              " 'Emmert': 114,\n",
              " 'Simmonsville': 115,\n",
              " 'infuriating': 116,\n",
              " 'assembling': 117,\n",
              " 'Cyrus': 118,\n",
              " 'Patrice': 119,\n",
              " 'homely': 120,\n",
              " '1958-60': 121,\n",
              " 'grandmothers': 122,\n",
              " 'sledding': 123,\n",
              " 'carving': 124,\n",
              " 'whiz': 125,\n",
              " 'Aunt': 126,\n",
              " 'urbanized': 127,\n",
              " 'clambered': 128,\n",
              " 'Poor': 129,\n",
              " 'tiring': 130,\n",
              " 'failing': 131,\n",
              " 'indicted': 132,\n",
              " 'popping': 133,\n",
              " 'encourages': 134,\n",
              " 'descendants': 135,\n",
              " 'pursuing': 136,\n",
              " 'Broncos': 137,\n",
              " 'acquiring': 138,\n",
              " 'Godwin': 139,\n",
              " 'Comptroller': 140,\n",
              " 'Bartol': 141,\n",
              " 'Nursing': 142,\n",
              " 'certifies': 143,\n",
              " 'nonviolent': 144,\n",
              " '21st': 145,\n",
              " 'appear': 146,\n",
              " 'Bells': 147,\n",
              " 'brink': 148,\n",
              " 'bodice': 149,\n",
              " 'rodent': 150,\n",
              " 'ah': 151,\n",
              " \"Gladden's\": 152,\n",
              " 'strives': 153,\n",
              " 'Downtown': 154,\n",
              " 'complexity': 155,\n",
              " 'emerge': 156,\n",
              " 'Clyde': 157,\n",
              " 'faults': 158,\n",
              " \"ladies'\": 159,\n",
              " 'snarling': 160,\n",
              " '91': 161,\n",
              " 'underprivileged': 162,\n",
              " 'Successful': 163,\n",
              " 'denting': 164,\n",
              " 'Hutchins': 165,\n",
              " 'seats': 166,\n",
              " 'anti-Castro': 167,\n",
              " 'sycophantically': 168,\n",
              " '1991': 169,\n",
              " 'insight': 170,\n",
              " 'Moravian': 171,\n",
              " 'Ainsworth': 172,\n",
              " 'Nilsson': 173,\n",
              " 'Braves': 174,\n",
              " 'carriage': 175,\n",
              " 'kits': 176,\n",
              " 'pesticides': 177,\n",
              " 'certainly': 178,\n",
              " 'section': 179,\n",
              " 'leads': 180,\n",
              " 'rake': 181,\n",
              " 'countenance': 182,\n",
              " 'spice': 183,\n",
              " '$28,700,000': 184,\n",
              " 'Lindy': 185,\n",
              " 'Intelligence': 186,\n",
              " 'discussing': 187,\n",
              " '5-run': 188,\n",
              " 'tastes': 189,\n",
              " 'infinitely': 190,\n",
              " 'daring': 191,\n",
              " 'nation-states': 192,\n",
              " 'sincerity': 193,\n",
              " 'radicalism': 194,\n",
              " 'huzzahs': 195,\n",
              " '260-member': 196,\n",
              " 'caps': 197,\n",
              " 'Roommates': 198,\n",
              " 'acute': 199,\n",
              " 'Masque': 200,\n",
              " 'Hitting': 201,\n",
              " 'Afro-Cuban': 202,\n",
              " \"Johnson's\": 203,\n",
              " 'pulling': 204,\n",
              " \"Charles's\": 205,\n",
              " 'Nashville': 206,\n",
              " '4': 207,\n",
              " 'melee': 208,\n",
              " 'coldly': 209,\n",
              " 'canker': 210,\n",
              " 'Prison': 211,\n",
              " 'O.K.': 212,\n",
              " '$3,675': 213,\n",
              " 'liabilities': 214,\n",
              " '3:57': 215,\n",
              " 'adoption': 216,\n",
              " 'Goldberg': 217,\n",
              " 'Spikes': 218,\n",
              " 'nonfiction': 219,\n",
              " 'magic-practicing': 220,\n",
              " 'Speedup': 221,\n",
              " 'evidently': 222,\n",
              " 'Diversification': 223,\n",
              " '949': 224,\n",
              " 'Failure': 225,\n",
              " 'velocity': 226,\n",
              " 'passport': 227,\n",
              " 'Stamford': 228,\n",
              " 'citrus': 229,\n",
              " '16-page': 230,\n",
              " 'seeking': 231,\n",
              " 'superstition': 232,\n",
              " '$12.1': 233,\n",
              " 'Sarkees': 234,\n",
              " 'V-1': 235,\n",
              " 'Diagnosis': 236,\n",
              " 'insolent': 237,\n",
              " 'tender': 238,\n",
              " 'bridle': 239,\n",
              " 'Smythe': 240,\n",
              " 'our': 241,\n",
              " 'milestone': 242,\n",
              " 'ass': 243,\n",
              " 'Congresswoman': 244,\n",
              " 'ardor': 245,\n",
              " 'decided': 246,\n",
              " 'heroin': 247,\n",
              " 'defenders': 248,\n",
              " 'licenses': 249,\n",
              " 'forecasters': 250,\n",
              " 'conscripted': 251,\n",
              " 'alluring': 252,\n",
              " 'elaborately': 253,\n",
              " 'remanding': 254,\n",
              " 'rivalry': 255,\n",
              " 'Classical': 256,\n",
              " 'tray': 257,\n",
              " 'changing': 258,\n",
              " 'comparison': 259,\n",
              " 'well-prepared': 260,\n",
              " 'Publishing': 261,\n",
              " 'Kans.': 262,\n",
              " 'joiners': 263,\n",
              " 'Daniel': 264,\n",
              " 'elevator': 265,\n",
              " 'rises': 266,\n",
              " 'Mathewson': 267,\n",
              " 'Catt': 268,\n",
              " 'wish': 269,\n",
              " 'investigators': 270,\n",
              " 'Chinese-inspired': 271,\n",
              " '81,000': 272,\n",
              " 'gallant': 273,\n",
              " 'technical': 274,\n",
              " 'wasting': 275,\n",
              " 'budgetary': 276,\n",
              " 'activity': 277,\n",
              " 'Bessie': 278,\n",
              " 'Electric': 279,\n",
              " 'Reps.': 280,\n",
              " 'golf': 281,\n",
              " '51st': 282,\n",
              " 'drafting': 283,\n",
              " 'analyses': 284,\n",
              " 'refreshments': 285,\n",
              " 'Nebraska': 286,\n",
              " 'petrified': 287,\n",
              " 'holocaust': 288,\n",
              " 'strengthen': 289,\n",
              " 'piece': 290,\n",
              " 'Response': 291,\n",
              " 'protection': 292,\n",
              " 'obviously': 293,\n",
              " 'Corporate': 294,\n",
              " 'draughty': 295,\n",
              " 'Ray': 296,\n",
              " 'Can': 297,\n",
              " 'devastation': 298,\n",
              " 'Article': 299,\n",
              " 'Devil': 300,\n",
              " 'Secesh': 301,\n",
              " 'Plan': 302,\n",
              " 'accurately': 303,\n",
              " 'Subject': 304,\n",
              " 'outgoing': 305,\n",
              " 'Wellesley': 306,\n",
              " 'ministries': 307,\n",
              " \"Brooks's\": 308,\n",
              " 'drinks': 309,\n",
              " 'Harmful': 310,\n",
              " 'Buy': 311,\n",
              " 'attend': 312,\n",
              " '6': 313,\n",
              " 'bonus': 314,\n",
              " '8%': 315,\n",
              " 'dead-end': 316,\n",
              " 'understates': 317,\n",
              " 'Toward': 318,\n",
              " 'underwriters': 319,\n",
              " 'sleeping': 320,\n",
              " 'Criticism': 321,\n",
              " 'celebrants': 322,\n",
              " 'Gibbs': 323,\n",
              " 'Descent': 324,\n",
              " 'self-insurance': 325,\n",
              " 'Northeast': 326,\n",
              " 'bigots': 327,\n",
              " 'Grant': 328,\n",
              " 'confidently': 329,\n",
              " 'directive': 330,\n",
              " 'prevailing': 331,\n",
              " 'barring': 332,\n",
              " 'Kader': 333,\n",
              " 'outsmarted': 334,\n",
              " 'conceptuality': 335,\n",
              " 'Burial': 336,\n",
              " 'Develop': 337,\n",
              " 'connected': 338,\n",
              " 'eyebrow': 339,\n",
              " 'high-level': 340,\n",
              " 'Past': 341,\n",
              " 'contrasting': 342,\n",
              " 'Clearly': 343,\n",
              " 'idle': 344,\n",
              " 'munitions': 345,\n",
              " \"High's\": 346,\n",
              " 'inventions': 347,\n",
              " 'endurable': 348,\n",
              " '11-year-old': 349,\n",
              " 'Liaison': 350,\n",
              " 'potatoes': 351,\n",
              " 'Foundation': 352,\n",
              " 'Apologia': 353,\n",
              " 'injury': 354,\n",
              " 'Castro-held': 355,\n",
              " 'crows': 356,\n",
              " 'dampen': 357,\n",
              " 'Patty': 358,\n",
              " 'Sabbath': 359,\n",
              " 'attractions': 360,\n",
              " 'depravity': 361,\n",
              " 'Legislators': 362,\n",
              " 'mea': 363,\n",
              " 'asses': 364,\n",
              " 'board': 365,\n",
              " 'ahead': 366,\n",
              " 'adaptation': 367,\n",
              " 'fiend': 368,\n",
              " 'Dicks': 369,\n",
              " \"system's\": 370,\n",
              " 'sulky': 371,\n",
              " 'submissions': 372,\n",
              " '60': 373,\n",
              " 'steady': 374,\n",
              " 'Industries': 375,\n",
              " 'pumped': 376,\n",
              " 'pinched': 377,\n",
              " \"didn't\": 378,\n",
              " 'high-ceilinged': 379,\n",
              " 'R': 380,\n",
              " 'Starts': 381,\n",
              " 'lustrous': 382,\n",
              " 'nightmare': 383,\n",
              " 'effecting': 384,\n",
              " 'Unsuccessful': 385,\n",
              " 'discussions': 386,\n",
              " 'trustfully': 387,\n",
              " 'captured': 388,\n",
              " 'scattered': 389,\n",
              " '3.5': 390,\n",
              " 'construct': 391,\n",
              " 'wheels': 392,\n",
              " 'revolving': 393,\n",
              " 'permit': 394,\n",
              " 'deluge': 395,\n",
              " 'reclaimed': 396,\n",
              " 'brace': 397,\n",
              " 'uncertainties': 398,\n",
              " 'organizational': 399,\n",
              " 'emphasizes': 400,\n",
              " 'remarked': 401,\n",
              " 'positive': 402,\n",
              " 'conducted': 403,\n",
              " 'application': 404,\n",
              " 'lease': 405,\n",
              " 'Spirits': 406,\n",
              " 'Jawaharlal': 407,\n",
              " 'Formby': 408,\n",
              " 'emphatically': 409,\n",
              " 'manipulation': 410,\n",
              " 'hall': 411,\n",
              " \"Committee's\": 412,\n",
              " 'accomplishing': 413,\n",
              " 'bait': 414,\n",
              " 'ward': 415,\n",
              " '11%': 416,\n",
              " 'salutation': 417,\n",
              " 'London-based': 418,\n",
              " 'Minerals': 419,\n",
              " 'prohibition': 420,\n",
              " 'equalizers': 421,\n",
              " 'long-time': 422,\n",
              " 'veers': 423,\n",
              " 'Corneilus': 424,\n",
              " 'ethos': 425,\n",
              " 'revolt': 426,\n",
              " 'feather': 427,\n",
              " 'rattles': 428,\n",
              " 'rose': 429,\n",
              " 'bench': 430,\n",
              " 'Sheldon': 431,\n",
              " 'cornfield': 432,\n",
              " 'substantive': 433,\n",
              " 'Welfare': 434,\n",
              " 'Karol': 435,\n",
              " 'Bluebird': 436,\n",
              " 'shabbily': 437,\n",
              " 'trestle': 438,\n",
              " 'prone': 439,\n",
              " 'strings': 440,\n",
              " 'plainly': 441,\n",
              " 'Today': 442,\n",
              " 'Prosperity': 443,\n",
              " 'lined': 444,\n",
              " 'reportedly': 445,\n",
              " 'vitals': 446,\n",
              " 'public-opinion': 447,\n",
              " 'created': 448,\n",
              " 'ship': 449,\n",
              " 'acknowledgment': 450,\n",
              " 'Grounds': 451,\n",
              " 'Dining': 452,\n",
              " 'experiment': 453,\n",
              " 'alarm': 454,\n",
              " 'hog': 455,\n",
              " 'saturation': 456,\n",
              " '5th': 457,\n",
              " 'statuary': 458,\n",
              " 'RCA': 459,\n",
              " 'broadcasting': 460,\n",
              " 'apparently': 461,\n",
              " 'calmed': 462,\n",
              " 'glanced': 463,\n",
              " 'haggard': 464,\n",
              " 'double-breasted': 465,\n",
              " 'enact': 466,\n",
              " 'bravery': 467,\n",
              " 'Sacred': 468,\n",
              " 'Toni': 469,\n",
              " 'bricklayers': 470,\n",
              " 'restore': 471,\n",
              " 'sacrifice': 472,\n",
              " 'blackness': 473,\n",
              " 'forced': 474,\n",
              " 'aide': 475,\n",
              " 'g-p': 476,\n",
              " 'rodents': 477,\n",
              " 'endanger': 478,\n",
              " 'lack': 479,\n",
              " '145-pound': 480,\n",
              " 'berry': 481,\n",
              " 'English-speaking': 482,\n",
              " 'dwindling': 483,\n",
              " 'trailing': 484,\n",
              " 'automation': 485,\n",
              " \"Williams'\": 486,\n",
              " 'tomb': 487,\n",
              " 'ominously': 488,\n",
              " 'LaSalle': 489,\n",
              " 'exhumations': 490,\n",
              " 'offensive': 491,\n",
              " 'Duane': 492,\n",
              " 'meaningful': 493,\n",
              " 'gardens': 494,\n",
              " 'enjoyed': 495,\n",
              " 'Neal': 496,\n",
              " 'rage': 497,\n",
              " 'constructed': 498,\n",
              " 'arduous': 499,\n",
              " 'experimentally': 500,\n",
              " 'doubtless': 501,\n",
              " 'shows': 502,\n",
              " 'teenage': 503,\n",
              " 'exposed': 504,\n",
              " 'cursed': 505,\n",
              " 'worsted': 506,\n",
              " 'airport': 507,\n",
              " 'deducted': 508,\n",
              " 'tiny': 509,\n",
              " \"Sihanouk's\": 510,\n",
              " 'deplores': 511,\n",
              " 'glimpsed': 512,\n",
              " 'dependence': 513,\n",
              " 'destroyers': 514,\n",
              " 'torrent': 515,\n",
              " 'attrition': 516,\n",
              " 'histochemical': 517,\n",
              " 'seeming': 518,\n",
              " 'happiness': 519,\n",
              " 'Brooks': 520,\n",
              " 'Berra': 521,\n",
              " \"guide's\": 522,\n",
              " 'Canal': 523,\n",
              " 'peaceable': 524,\n",
              " 'augmented': 525,\n",
              " 'gospel': 526,\n",
              " 'become': 527,\n",
              " 'non-Christians': 528,\n",
              " 'Donnell': 529,\n",
              " 'police': 530,\n",
              " 'aided': 531,\n",
              " 'checked': 532,\n",
              " 'uncombable': 533,\n",
              " 'Beronio': 534,\n",
              " 'railhead': 535,\n",
              " 'assessed': 536,\n",
              " 'sympathetically': 537,\n",
              " '48': 538,\n",
              " 'infantry': 539,\n",
              " 'pains': 540,\n",
              " 'Connie': 541,\n",
              " 'Kelly': 542,\n",
              " 'Valley': 543,\n",
              " 'affiliations': 544,\n",
              " 'revenge': 545,\n",
              " '1:48': 546,\n",
              " 'Methods': 547,\n",
              " 'Dickens': 548,\n",
              " 'Majdanek': 549,\n",
              " 'Antoine': 550,\n",
              " '5835': 551,\n",
              " 'wholly-owned': 552,\n",
              " 'Isodine': 553,\n",
              " 'forte-pianos': 554,\n",
              " 'Elmer': 555,\n",
              " 'Malenkov': 556,\n",
              " 'invigoration': 557,\n",
              " 'discharging': 558,\n",
              " 'Equal': 559,\n",
              " 'shorter': 560,\n",
              " 'loser': 561,\n",
              " 'Hoffa': 562,\n",
              " 'horse': 563,\n",
              " 'Adair': 564,\n",
              " 'addicted': 565,\n",
              " 'irritability': 566,\n",
              " 'Mikoyan': 567,\n",
              " '$20,447,000': 568,\n",
              " 'Parsons': 569,\n",
              " 'limitations': 570,\n",
              " \"Dalton's\": 571,\n",
              " 'expiration': 572,\n",
              " 'Ada': 573,\n",
              " 'Attilio': 574,\n",
              " 'validity': 575,\n",
              " 'Forgive': 576,\n",
              " 'Campbell': 577,\n",
              " 'Workshop': 578,\n",
              " '200': 579,\n",
              " 'Ward': 580,\n",
              " 'Oakland': 581,\n",
              " 'generalizations': 582,\n",
              " 'Test': 583,\n",
              " 'Vermouth': 584,\n",
              " 'draperies': 585,\n",
              " 'pleasure': 586,\n",
              " 'influx': 587,\n",
              " 'neoliberal': 588,\n",
              " 'unadjusted': 589,\n",
              " 'correctly': 590,\n",
              " 'unimaginable': 591,\n",
              " 'meter': 592,\n",
              " 'damages': 593,\n",
              " 'ex-marine': 594,\n",
              " 'superficially': 595,\n",
              " 'lavender': 596,\n",
              " 'odyssey': 597,\n",
              " '1,119': 598,\n",
              " 'caught': 599,\n",
              " 'Trohan': 600,\n",
              " 'Reed': 601,\n",
              " 'multi-product': 602,\n",
              " 'circuit': 603,\n",
              " 'repose': 604,\n",
              " 'sped': 605,\n",
              " 'embracing': 606,\n",
              " 'Fisk': 607,\n",
              " 'approach': 608,\n",
              " 'even-handed': 609,\n",
              " 'frontiers': 610,\n",
              " 'Pilots': 611,\n",
              " 'pledged': 612,\n",
              " 'fault': 613,\n",
              " 'manager': 614,\n",
              " 'grunt': 615,\n",
              " 'erred': 616,\n",
              " 'claims': 617,\n",
              " 'Crusade': 618,\n",
              " 'automobile': 619,\n",
              " 'foreign-aid': 620,\n",
              " 'waist-length': 621,\n",
              " 'Alliance': 622,\n",
              " 'Christi': 623,\n",
              " 'Liss': 624,\n",
              " 'Andrew': 625,\n",
              " 'Hack': 626,\n",
              " 'sashayed': 627,\n",
              " 'fool': 628,\n",
              " '$37': 629,\n",
              " 'blood': 630,\n",
              " 'discovering': 631,\n",
              " 'skirmish': 632,\n",
              " 'referendum': 633,\n",
              " 'sticks': 634,\n",
              " \"'30s\": 635,\n",
              " 'Hancock': 636,\n",
              " 'itch': 637,\n",
              " 'missed': 638,\n",
              " 'Tax-free': 639,\n",
              " 'insured': 640,\n",
              " 'applaud': 641,\n",
              " '750': 642,\n",
              " 'Boonton': 643,\n",
              " 'manpower': 644,\n",
              " 'Cris': 645,\n",
              " 'Milwaukee': 646,\n",
              " 'glimpse': 647,\n",
              " 'noticing': 648,\n",
              " 'upstairs': 649,\n",
              " '24th': 650,\n",
              " 'sawed-off': 651,\n",
              " 'frustrations': 652,\n",
              " 'promptly': 653,\n",
              " '?': 654,\n",
              " '70,000,000': 655,\n",
              " \"secretaries'\": 656,\n",
              " 'Continent': 657,\n",
              " 'fun-loving': 658,\n",
              " 'Scotchgard': 659,\n",
              " 'performed': 660,\n",
              " 'Jossy': 661,\n",
              " 'curves': 662,\n",
              " 'compromise': 663,\n",
              " 'reunited': 664,\n",
              " 'rekindling': 665,\n",
              " 'humorous': 666,\n",
              " 'recent': 667,\n",
              " 'Temperature': 668,\n",
              " 'submarine-ball': 669,\n",
              " 'chairmanship': 670,\n",
              " 'claimants': 671,\n",
              " 'person': 672,\n",
              " 'naturalized': 673,\n",
              " 'Loving': 674,\n",
              " 'flouted': 675,\n",
              " 'home': 676,\n",
              " 'Whisky': 677,\n",
              " 'olive': 678,\n",
              " 'Thank': 679,\n",
              " 'otherwise': 680,\n",
              " 'cautioned': 681,\n",
              " 'beguiled': 682,\n",
              " 'dot': 683,\n",
              " 'boil': 684,\n",
              " 'wider': 685,\n",
              " '3:20': 686,\n",
              " 'floating': 687,\n",
              " 'Testifies': 688,\n",
              " 'dispute': 689,\n",
              " 'drumlin': 690,\n",
              " 'plain': 691,\n",
              " 'treasurer': 692,\n",
              " 'habit': 693,\n",
              " 'kisses': 694,\n",
              " 'tilted': 695,\n",
              " 'Kepler': 696,\n",
              " 'glance': 697,\n",
              " 'wage': 698,\n",
              " 'Han': 699,\n",
              " 'birthday': 700,\n",
              " 'Roosevelt': 701,\n",
              " 'quarter-mile': 702,\n",
              " 'woods': 703,\n",
              " 'Source': 704,\n",
              " '$2.50': 705,\n",
              " 'intern': 706,\n",
              " '1693': 707,\n",
              " 'Nationalism': 708,\n",
              " 'disappointed': 709,\n",
              " 'Olivet': 710,\n",
              " 'done': 711,\n",
              " 'new': 712,\n",
              " 'gifts': 713,\n",
              " 'painters': 714,\n",
              " 'Misses': 715,\n",
              " 'Beecher': 716,\n",
              " 'sinuous': 717,\n",
              " 'bodes': 718,\n",
              " 'sowbelly': 719,\n",
              " 'co-signers': 720,\n",
              " 'fortune': 721,\n",
              " 'Don': 722,\n",
              " 'Mmes.': 723,\n",
              " 'ribs': 724,\n",
              " 'more': 725,\n",
              " 'determined': 726,\n",
              " 'patio': 727,\n",
              " 'compares': 728,\n",
              " 'rowdy': 729,\n",
              " 'smiling': 730,\n",
              " 'grandma': 731,\n",
              " 'cans': 732,\n",
              " 'eluded': 733,\n",
              " 'physiological': 734,\n",
              " 'defensive': 735,\n",
              " \"steelmakers'\": 736,\n",
              " '61': 737,\n",
              " 'disability': 738,\n",
              " 'Edition': 739,\n",
              " 'Chance': 740,\n",
              " 'steelmaker': 741,\n",
              " 'dispatch': 742,\n",
              " 'rich': 743,\n",
              " 'Each': 744,\n",
              " 'wryly': 745,\n",
              " 'share': 746,\n",
              " 'heartening': 747,\n",
              " 'imperiled': 748,\n",
              " 'settlers': 749,\n",
              " 'bundle': 750,\n",
              " 'German': 751,\n",
              " 'knocking': 752,\n",
              " 'secrets': 753,\n",
              " 'Fire': 754,\n",
              " 'rituals': 755,\n",
              " 'slid': 756,\n",
              " 'Educate': 757,\n",
              " 'vexed': 758,\n",
              " 'proselytizing': 759,\n",
              " 'Associated': 760,\n",
              " 'absurdity': 761,\n",
              " 'scrawled': 762,\n",
              " 'harmony': 763,\n",
              " 'Dams': 764,\n",
              " 'films': 765,\n",
              " 'Cott': 766,\n",
              " 'debts': 767,\n",
              " 'Twenty-second': 768,\n",
              " 'area-wide': 769,\n",
              " 'dirt': 770,\n",
              " 'maintaining': 771,\n",
              " 'hallways': 772,\n",
              " 'waved': 773,\n",
              " 'supplied': 774,\n",
              " 'delivered': 775,\n",
              " 'undemocratic': 776,\n",
              " 'Beale': 777,\n",
              " 'Essentially': 778,\n",
              " 'tenth': 779,\n",
              " 'henceforth': 780,\n",
              " \"months'\": 781,\n",
              " 'publishers': 782,\n",
              " 'mythology': 783,\n",
              " 'Minh': 784,\n",
              " 'Gannett': 785,\n",
              " 'stuffed': 786,\n",
              " 'Marlene': 787,\n",
              " 'Ct.': 788,\n",
              " 'guitar': 789,\n",
              " 'creatures': 790,\n",
              " 'chose': 791,\n",
              " 'functionary': 792,\n",
              " 'representative': 793,\n",
              " 'appoint': 794,\n",
              " 'yon': 795,\n",
              " 'SH': 796,\n",
              " 'professors': 797,\n",
              " 'Select': 798,\n",
              " 'superceded': 799,\n",
              " 'linen': 800,\n",
              " 'stars': 801,\n",
              " 'prisoners': 802,\n",
              " 'assessments': 803,\n",
              " \"owners'\": 804,\n",
              " 'raw': 805,\n",
              " 'hospitality': 806,\n",
              " 'arising': 807,\n",
              " '22-12': 808,\n",
              " 'door-fronted': 809,\n",
              " 'Written': 810,\n",
              " 'Socola': 811,\n",
              " 'substantiation': 812,\n",
              " 'arm': 813,\n",
              " 'eat': 814,\n",
              " 'inactivity': 815,\n",
              " 'Ring': 816,\n",
              " 'supper': 817,\n",
              " 'convincing': 818,\n",
              " 'nicer': 819,\n",
              " 'softwood': 820,\n",
              " 'villains': 821,\n",
              " 'veils': 822,\n",
              " 'National': 823,\n",
              " 'goose': 824,\n",
              " 'bet': 825,\n",
              " 'Hodosh': 826,\n",
              " 'projects': 827,\n",
              " 'abound': 828,\n",
              " 'Replacing': 829,\n",
              " 'summitry': 830,\n",
              " 'slugging': 831,\n",
              " 'expelled': 832,\n",
              " 'mothers-in-law': 833,\n",
              " 'Pact': 834,\n",
              " 'Coronado': 835,\n",
              " \"Martha's\": 836,\n",
              " 'R-Warren': 837,\n",
              " 'finger-paint': 838,\n",
              " 'cable': 839,\n",
              " 'heredity': 840,\n",
              " 'Kathleen': 841,\n",
              " 'straightened': 842,\n",
              " 'morphological': 843,\n",
              " 'Rescue': 844,\n",
              " 'McKinley': 845,\n",
              " 'erupts': 846,\n",
              " 'authorized': 847,\n",
              " 'highly': 848,\n",
              " 'allowing': 849,\n",
              " 'tear-soaked': 850,\n",
              " 'Behan': 851,\n",
              " 'dweller': 852,\n",
              " 'Iron': 853,\n",
              " 'definition': 854,\n",
              " 'Ringel': 855,\n",
              " 'Gardens': 856,\n",
              " 'Professor': 857,\n",
              " 'extracted': 858,\n",
              " 'Chewing': 859,\n",
              " 'Thirty-five': 860,\n",
              " 'Vieth': 861,\n",
              " 'talked': 862,\n",
              " 'discontinue': 863,\n",
              " 'disclose': 864,\n",
              " 'uncomfortable': 865,\n",
              " 'was': 866,\n",
              " '1843': 867,\n",
              " 'cars': 868,\n",
              " 'arrangement': 869,\n",
              " 'pigeons': 870,\n",
              " 'billion': 871,\n",
              " 'potentiality': 872,\n",
              " 'chat': 873,\n",
              " 'Hey': 874,\n",
              " 'extraterrestrial': 875,\n",
              " 'discontinuance': 876,\n",
              " '4-1/2%': 877,\n",
              " '$94': 878,\n",
              " 'Protestants': 879,\n",
              " '8-b-2': 880,\n",
              " 'music': 881,\n",
              " 'biological': 882,\n",
              " 'prayer-requests': 883,\n",
              " 'weaken': 884,\n",
              " 'Grady': 885,\n",
              " 'Unless': 886,\n",
              " 'Know': 887,\n",
              " 'sforzando': 888,\n",
              " 'burr': 889,\n",
              " 'myriad': 890,\n",
              " 'authoritatively': 891,\n",
              " 'balance': 892,\n",
              " 'cranky': 893,\n",
              " 'situs': 894,\n",
              " 'getting': 895,\n",
              " 'Mo.': 896,\n",
              " 'undimmed': 897,\n",
              " 'Actual': 898,\n",
              " 'Thurman': 899,\n",
              " 'non-exempt': 900,\n",
              " 'roast': 901,\n",
              " 'Thieves': 902,\n",
              " 'subscribers': 903,\n",
              " 'deterrence': 904,\n",
              " 'petition': 905,\n",
              " 'Uncle': 906,\n",
              " 'invariable': 907,\n",
              " 'journals': 908,\n",
              " 'imagnation': 909,\n",
              " 'realize': 910,\n",
              " 'givenness': 911,\n",
              " 'Heaven': 912,\n",
              " 'embarrassing': 913,\n",
              " 'Strange': 914,\n",
              " 'Milties': 915,\n",
              " 'beware': 916,\n",
              " 'Inauguration': 917,\n",
              " \"horse's\": 918,\n",
              " 'Thornton': 919,\n",
              " 'deductibility': 920,\n",
              " 'side': 921,\n",
              " 'Baptist': 922,\n",
              " 'coning': 923,\n",
              " 'instant': 924,\n",
              " 'Gino': 925,\n",
              " 'associations': 926,\n",
              " 'cerebrated': 927,\n",
              " 'leeway': 928,\n",
              " 'dehumanised': 929,\n",
              " 'establishments': 930,\n",
              " 'Abbe': 931,\n",
              " 'rug': 932,\n",
              " 'surround': 933,\n",
              " 'Prior': 934,\n",
              " '72nd': 935,\n",
              " 'seeped': 936,\n",
              " 'Daughter': 937,\n",
              " 'inwardly': 938,\n",
              " 'Lover': 939,\n",
              " \"Hollywood's\": 940,\n",
              " 'experts': 941,\n",
              " 'successor': 942,\n",
              " 'Bassis': 943,\n",
              " 'frothier': 944,\n",
              " 'Tanganika': 945,\n",
              " 'Burbank': 946,\n",
              " 'Payson': 947,\n",
              " 'attach': 948,\n",
              " 'gray': 949,\n",
              " 'Couve': 950,\n",
              " '1952': 951,\n",
              " '15-1': 952,\n",
              " 'U.S.C.': 953,\n",
              " 'perpetual': 954,\n",
              " 'diagram': 955,\n",
              " 'capacitor': 956,\n",
              " 'manuscript': 957,\n",
              " 'Benington': 958,\n",
              " \"bulletin'd\": 959,\n",
              " 'preoccupations': 960,\n",
              " 'chance': 961,\n",
              " 'spotlights': 962,\n",
              " 'Never': 963,\n",
              " 'limits': 964,\n",
              " 'inconsequential': 965,\n",
              " '6.2': 966,\n",
              " \"She'll\": 967,\n",
              " 'blouses': 968,\n",
              " 'bubble': 969,\n",
              " 'Elder': 970,\n",
              " 'tribulation': 971,\n",
              " 'Worrell': 972,\n",
              " 'conveyed': 973,\n",
              " 'compressed': 974,\n",
              " 'true': 975,\n",
              " 'Incumbent': 976,\n",
              " 'Leesona-Holt': 977,\n",
              " 'volume': 978,\n",
              " 'drive-in': 979,\n",
              " 'Long-range': 980,\n",
              " 'authorities': 981,\n",
              " 'elegant': 982,\n",
              " 'moneys': 983,\n",
              " 'additional': 984,\n",
              " 'purloined': 985,\n",
              " 'broke': 986,\n",
              " 'counts': 987,\n",
              " 'worried': 988,\n",
              " 'AEC': 989,\n",
              " 'neatly': 990,\n",
              " 'setup': 991,\n",
              " 'Employees': 992,\n",
              " \"university's\": 993,\n",
              " 'boxer': 994,\n",
              " 'jackets': 995,\n",
              " 'competent': 996,\n",
              " 'Divide': 997,\n",
              " 'gals': 998,\n",
              " 'Lee': 999,\n",
              " ...}"
            ]
          },
          "metadata": {
            "tags": []
          },
          "execution_count": 18
        }
      ]
    },
    {
      "cell_type": "markdown",
      "metadata": {
        "id": "IYSwfUJvHYAO"
      },
      "source": [
        "In the following lines of code we are populating the matrix that tracks the next word in a sentence."
      ]
    },
    {
      "cell_type": "code",
      "metadata": {
        "id": "z05WtkvlHYAP"
      },
      "source": [
        "for i, word in enumerate(corpus_words[:-1]):\n",
        "  first_word_idx = word_idx_dict[word]\n",
        "  next_word_idx = word_idx_dict[corpus_words[i+1]]\n",
        "  next_word_matrix[first_word_idx][next_word_idx] +=1"
      ],
      "execution_count": 19,
      "outputs": []
    },
    {
      "cell_type": "markdown",
      "metadata": {
        "id": "RjFwgME0HYAP"
      },
      "source": [
        "## Section 1.2: What is a Markov Chain or Model?\n",
        "\n",
        "A Markov Chain (or Model) is a:\n",
        "- stochastic model describing a sequence of possible events\n",
        "- the probability of each event depends only on the state attained in the previous event.\n",
        "- a countably infinite sequence, in which the chain moves state at discrete time steps, gives a discrete-time Markov chain (DTMC) [vs. a continuous-time process or CTMC].\n",
        "- The classic formal language model is a Markov Model\n",
        "\n",
        "*Helpful explanations from [eric mjl's tutorial](https://ericmjl.github.io/essays-on-data-science/machine-learning/markov-models/#non-autoregressive-homoskedastic-emissions)*!\n",
        "\n",
        "\n",
        "\n",
        "The simplest Markov models assume that we have a _system_ that contains a finite set of states,\n",
        "and that the _system_ transitions between these states with some probability at each time step $t$,\n",
        "thus generating a sequence of states over time.\n",
        "Let's call these states $S$, where\n",
        "\n",
        "$$S = \\{s_1, s_2, ..., s_n\\}$$\n",
        "\n",
        "To keep things simple, let's start with three states:\n",
        "\n",
        "$$S = \\{s_1, s_2, s_3\\}$$\n",
        "\n",
        "A Markov model generates a sequence of states, with one possible realization being:\n",
        "\n",
        "$$\\{s_1, s_1, s_1, s_3, s_3, s_3, s_2, s_2, s_3, s_3, s_3, s_3, s_1, ...\\}$$\n",
        "\n",
        "And generically, we represent it as a sequence of states $x_t, x_{t+1}... x_{t+n}$. (We have chosen a different symbol to not confuse the \"generic\" state with the specific realization. Graphically, a plain and simple Markov model looks like the following:\n",
        "\n",
        "\n"
      ]
    },
    {
      "cell_type": "markdown",
      "metadata": {
        "id": "Asp7SP8-HYAP"
      },
      "source": [
        "![Screenshot 2021-06-16 at 10.24.31 PM.png](data:image/png;base64,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)"
      ]
    },
    {
      "cell_type": "markdown",
      "metadata": {
        "id": "qM9NVMZgHYAS"
      },
      "source": [
        "### Modelling transitions between states\n",
        "\n",
        "To know how a system transitions between states, we now need a **transition matrix**.\n",
        "The transition matrix describes the probability of transitioning from one state to another.\n",
        "(The probability of staying in the same state is semantically equivalent to transitioning to the same state.) \n",
        "\n",
        "By convention, transition matrix rows correspond to the state at time $t$,\n",
        "while columns correspond to state at time $t+1$.\n",
        "Hence, row probabilities sum to one,\n",
        "because the probability of transitioning to the next state depends on only the current state,\n",
        "and all possible states are known and enumerated.\n",
        "\n",
        "Let's call the transition matrix $P_{transition}$.\n",
        "The symbol etymology, which usually gets swept under the rug in mathematically-oriented papers, are as follows: \n",
        "\n",
        "- $transition$ doesn't refer to time but simply indicates that it is for transitioning states, \n",
        "- $P$ is used because it is a probability matrix.\n",
        "\n",
        "$$ P_{transition} = \n",
        "\\begin{pmatrix}\n",
        "    p_{11} & p_{12} & p_{13}\\\\\n",
        "    p_{21} & p_{22} & p_{23}\\\\\n",
        "    p_{31} & p_{32} & p_{33}\\\\\n",
        "\\end{pmatrix}\n",
        "$$\n",
        "\n",
        "Using the transition matrix, we can express that the system likes to stay in the state that it enters into,\n",
        "by assigning larger probability mass to the diagonals.\n",
        "Alternatively, we can express that the system likes to transition out of states that it enters into,\n",
        "by assigning larger probability mass to the off-diagonal.\n",
        "\n",
        "In our case, this matrix is created by seeing which words appear after each other."
      ]
    },
    {
      "cell_type": "code",
      "metadata": {
        "id": "NCa46ae2HYAT"
      },
      "source": [
        "def most_likely_word_after(aWord):\n",
        "  most_likely = next_word_matrix[word_idx_dict[aWord]].argmax()\n",
        "  return distinct_words[most_likely]"
      ],
      "execution_count": 20,
      "outputs": []
    },
    {
      "cell_type": "markdown",
      "metadata": {
        "id": "Xy8pxHWYHYAT"
      },
      "source": [
        "Using our most likely word function, we can begin to create chains of words and create sequences. In the code below we create a naive chain that simply choses the most likely word."
      ]
    },
    {
      "cell_type": "code",
      "metadata": {
        "id": "1t8Dsmo3HYAT"
      },
      "source": [
        "def naive_chain(word, length=15):\n",
        "  current_word = word\n",
        "  sentence = word\n",
        "\n",
        "  for _ in range(length):\n",
        "    sentence += ' '\n",
        "    next_word = most_likely_word_after(current_word)\n",
        "    sentence += next_word\n",
        "    current_word = next_word\n",
        "  return sentence"
      ],
      "execution_count": 21,
      "outputs": []
    },
    {
      "cell_type": "code",
      "metadata": {
        "colab": {
          "base_uri": "https://localhost:8080/"
        },
        "id": "5s0Ub1aEHYAU",
        "outputId": "ea42daad-34c7-4014-92ab-2244c943b4e1"
      },
      "source": [
        "print(naive_chain('the'))\n",
        "print(naive_chain('I'))\n",
        "print(naive_chain('What'))\n",
        "print(naive_chain('Park'))"
      ],
      "execution_count": 22,
      "outputs": [
        {
          "output_type": "stream",
          "text": [
            "the United States , and the United States , and the United States , and the\n",
            "I have been a new members of the United States , and the United States ,\n",
            "What is a new members of the United States , and the United States , and\n",
            "Park , and the United States , and the United States , and the United States\n"
          ],
          "name": "stdout"
        }
      ]
    },
    {
      "cell_type": "markdown",
      "metadata": {
        "id": "qwGuG9ywHYAU"
      },
      "source": [
        "We can now be a little more sophisticated, and return words in a sequence using a weighted choice."
      ]
    },
    {
      "cell_type": "code",
      "metadata": {
        "id": "6ZaMw8UCHYAU"
      },
      "source": [
        "def weighted_choice(objects, weights):\n",
        "  \"\"\"\n",
        "  Returns randomly an element from the sequence of 'objects',\n",
        "      the likelihood of the objects is weighted according\n",
        "      to the sequence of 'weights', i.e. percentages.\n",
        "  \"\"\"\n",
        "\n",
        "  weights = np.array(weights, dtype=np.float64)\n",
        "  sum_of_weights = weights.sum()\n",
        "  # standardization:\n",
        "  np.multiply(weights, 1 / sum_of_weights, weights)\n",
        "  weights = weights.cumsum()\n",
        "  x = random.random()\n",
        "  for i in range(len(weights)):\n",
        "    if x < weights[i]:\n",
        "      return objects[i]"
      ],
      "execution_count": 23,
      "outputs": []
    },
    {
      "cell_type": "code",
      "metadata": {
        "id": "FXRa0K12HYAU"
      },
      "source": [
        "def sample_next_word_after(word, alpha=0):\n",
        "  next_word_vector = next_word_matrix[word_idx_dict[word]] + alpha\n",
        "  likelihoods = next_word_vector/next_word_vector.sum()\n",
        "  return weighted_choice(distinct_words, likelihoods)"
      ],
      "execution_count": 24,
      "outputs": []
    },
    {
      "cell_type": "code",
      "metadata": {
        "colab": {
          "base_uri": "https://localhost:8080/",
          "height": 35
        },
        "id": "FKNwGzxYHYAU",
        "outputId": "f8789480-ab99-4c00-d897-0da13105eade"
      },
      "source": [
        "sample_next_word_after('the')"
      ],
      "execution_count": 25,
      "outputs": [
        {
          "output_type": "execute_result",
          "data": {
            "application/vnd.google.colaboratory.intrinsic+json": {
              "type": "string"
            },
            "text/plain": [
              "'Kowalski'"
            ]
          },
          "metadata": {
            "tags": []
          },
          "execution_count": 25
        }
      ]
    },
    {
      "cell_type": "code",
      "metadata": {
        "id": "fstswIi9HYAU"
      },
      "source": [
        "def stochastic_chain(word, length=15):\n",
        "  current_word = word\n",
        "  sentence = word\n",
        "\n",
        "  for _ in range(length):\n",
        "    sentence += ' '\n",
        "    next_word = sample_next_word_after(current_word)\n",
        "    sentence += next_word\n",
        "    current_word = next_word\n",
        "\n",
        "  return sentence"
      ],
      "execution_count": 26,
      "outputs": []
    },
    {
      "cell_type": "code",
      "metadata": {
        "colab": {
          "base_uri": "https://localhost:8080/",
          "height": 35
        },
        "id": "85c9qW6VHYAU",
        "outputId": "ea43eb34-6be6-4555-e6df-444f0edb9025"
      },
      "source": [
        "stochastic_chain('Hospital')"
      ],
      "execution_count": 27,
      "outputs": [
        {
          "output_type": "execute_result",
          "data": {
            "application/vnd.google.colaboratory.intrinsic+json": {
              "type": "string"
            },
            "text/plain": [
              "'Hospital , subversives . Today , a special safety citation and nonmetallic mines are vigorous but'"
            ]
          },
          "metadata": {
            "tags": []
          },
          "execution_count": 27
        }
      ]
    },
    {
      "cell_type": "markdown",
      "metadata": {
        "id": "yr_S4GfhHYAV"
      },
      "source": [
        "Neat - we can create stochastic chains for a single word. For a more effective language model, we would want to model sets of words - in the following cells, we create sets of words to predict a chain after a sequence."
      ]
    },
    {
      "cell_type": "code",
      "metadata": {
        "colab": {
          "base_uri": "https://localhost:8080/"
        },
        "id": "ououd9zBHYAV",
        "outputId": "9535e6ab-23a9-4084-c1b3-acf4cba81740"
      },
      "source": [
        "k = 3\n",
        "sets_of_k_words = [' '.join(corpus_words[i:i+k]) for i, _ in enumerate(corpus_words[:-k])]\n",
        "print([len(list(set(sets_of_k_words))), len(sets_of_k_words)])"
      ],
      "execution_count": 28,
      "outputs": [
        {
          "output_type": "stream",
          "text": [
            "[285383, 335763]\n"
          ],
          "name": "stdout"
        }
      ]
    },
    {
      "cell_type": "code",
      "metadata": {
        "colab": {
          "base_uri": "https://localhost:8080/"
        },
        "id": "6ith7BMhHYAV",
        "outputId": "894a5e1d-da0b-4ab1-d48f-53975f5d2115"
      },
      "source": [
        "sets_count = len(list(set(sets_of_k_words)))\n",
        "next_after_k_words_matrix = dok_matrix((sets_count, len(distinct_words)))\n",
        "print(next_after_k_words_matrix.shape)"
      ],
      "execution_count": 29,
      "outputs": [
        {
          "output_type": "stream",
          "text": [
            "(285383, 27485)\n"
          ],
          "name": "stdout"
        }
      ]
    },
    {
      "cell_type": "code",
      "metadata": {
        "colab": {
          "base_uri": "https://localhost:8080/"
        },
        "id": "8dq894T0HYAV",
        "outputId": "8dbd1436-0b58-4311-c2fc-465726131277"
      },
      "source": [
        "distinct_sets_of_k_words = list(set(sets_of_k_words))\n",
        "k_words_idx_dict = {word: i for i, word in enumerate(distinct_sets_of_k_words)}\n",
        "distinct_k_words_count = len(list(set(sets_of_k_words)))\n",
        "print(len(sets_of_k_words))"
      ],
      "execution_count": 30,
      "outputs": [
        {
          "output_type": "stream",
          "text": [
            "335763\n"
          ],
          "name": "stdout"
        }
      ]
    },
    {
      "cell_type": "code",
      "metadata": {
        "colab": {
          "base_uri": "https://localhost:8080/"
        },
        "id": "9ib3ZHBeHYAV",
        "outputId": "590c2292-de68-412d-a129-1f22f89f0025"
      },
      "source": [
        "for i, word in enumerate(sets_of_k_words[:-k]):\n",
        "  if i % 50000 == 0:\n",
        "    print(i)\n",
        "  word_sequence_idx = k_words_idx_dict[word]\n",
        "  next_word_idx = word_idx_dict[corpus_words[i+k]]\n",
        "  next_after_k_words_matrix[word_sequence_idx, next_word_idx] += 1"
      ],
      "execution_count": 31,
      "outputs": [
        {
          "output_type": "stream",
          "text": [
            "0\n",
            "50000\n",
            "100000\n",
            "150000\n",
            "200000\n",
            "250000\n",
            "300000\n"
          ],
          "name": "stdout"
        }
      ]
    },
    {
      "cell_type": "code",
      "metadata": {
        "id": "titBzDAiHYAV"
      },
      "source": [
        "def stochastic_chain(words, chain_length=15, words_length=2):\n",
        "  current_words = words.split(' ')\n",
        "  if len(current_words) != words_length:\n",
        "    raise ValueError(f'wrong number of words, expected {words_length}')\n",
        "  sentence = words\n",
        "\n",
        "  for _ in range(chain_length):\n",
        "    sentence += ' '\n",
        "    next_word = sample_next_word_after_sequence(' '.join(current_words))\n",
        "    sentence += next_word\n",
        "    current_words = current_words[1:]+[next_word]\n",
        "  return sentence"
      ],
      "execution_count": 32,
      "outputs": []
    },
    {
      "cell_type": "code",
      "metadata": {
        "id": "qHYn2DE0HYAV"
      },
      "source": [
        "def sample_next_word_after_sequence(word_sequence, alpha = 0):\n",
        "  next_word_vector = next_after_k_words_matrix[k_words_idx_dict[word_sequence]] + alpha\n",
        "  likelihoods = next_word_vector/next_word_vector.sum()\n",
        "  return weighted_choice(distinct_words, likelihoods.toarray())"
      ],
      "execution_count": 33,
      "outputs": []
    },
    {
      "cell_type": "code",
      "metadata": {
        "colab": {
          "base_uri": "https://localhost:8080/"
        },
        "id": "KdoUAxN0HYAW",
        "outputId": "e14e9a5a-1d12-4235-a0c3-269f8b091a87"
      },
      "source": [
        "k_words_idx_dict"
      ],
      "execution_count": 34,
      "outputs": [
        {
          "output_type": "execute_result",
          "data": {
            "text/plain": [
              "{'world peace ,': 0,\n",
              " 'memorized . 10': 1,\n",
              " 'Ross Barnett .': 2,\n",
              " 'of the reality': 3,\n",
              " 'cash box into': 4,\n",
              " 'The Taoists were': 5,\n",
              " 'a half times': 6,\n",
              " 'crusade for Christian': 7,\n",
              " 'area , with': 8,\n",
              " 'look which always': 9,\n",
              " 'speak to them': 10,\n",
              " 'further reading during': 11,\n",
              " 'membership preparation in': 12,\n",
              " 'irreconcilable . Through': 13,\n",
              " 'the achievement of': 14,\n",
              " 'than theirs ,': 15,\n",
              " '-- all pulling': 16,\n",
              " 'very well all': 17,\n",
              " 'making inroads in': 18,\n",
              " 'of the transport': 19,\n",
              " 'two textile machinery': 20,\n",
              " 'the teakettle .': 21,\n",
              " 'that smiles today': 22,\n",
              " \"Day Adventists' world\": 23,\n",
              " 'Although it looked': 24,\n",
              " '. Watch people': 25,\n",
              " 'of uniform size': 26,\n",
              " 'thrill to the': 27,\n",
              " 'sue for recovery': 28,\n",
              " ', self-contained ,': 29,\n",
              " \"football's hall of\": 30,\n",
              " 'a friend :': 31,\n",
              " 'given to improvement': 32,\n",
              " 'grey eyes ,': 33,\n",
              " 'for Mitchell .': 34,\n",
              " 'A crowd of': 35,\n",
              " 'even in death': 36,\n",
              " 'with Mr. Willcox': 37,\n",
              " 'I as their': 38,\n",
              " 'point since 1934': 39,\n",
              " 'for membership churches': 40,\n",
              " 'period of several': 41,\n",
              " 'performing well in': 42,\n",
              " 'off by tax': 43,\n",
              " 'more time to': 44,\n",
              " '. All we': 45,\n",
              " 'to rebut the': 46,\n",
              " 'the most provocative': 47,\n",
              " 'it over my': 48,\n",
              " 'charge overseas .': 49,\n",
              " '450 feet into': 50,\n",
              " 'bills . A135': 51,\n",
              " 'listen , with': 52,\n",
              " 'craftsmen . Other': 53,\n",
              " 'contribution to safety': 54,\n",
              " 'mouth open .': 55,\n",
              " ', the firm': 56,\n",
              " 'Commission is moving': 57,\n",
              " '70 types of': 58,\n",
              " 'snoring on his': 59,\n",
              " 'knew them .': 60,\n",
              " 'The long crisis': 61,\n",
              " 'at the zoo': 62,\n",
              " 'the railroads ,': 63,\n",
              " 'destroyed innocent people': 64,\n",
              " 'Cancer Associations .': 65,\n",
              " 'gin machinery all': 66,\n",
              " 'start in the': 67,\n",
              " 'Providence and other': 68,\n",
              " '-- perhaps even': 69,\n",
              " 'allow the Protestant': 70,\n",
              " 'Notre Dame :': 71,\n",
              " 'sacrifice . There': 72,\n",
              " 'meat after 6': 73,\n",
              " '. Player then': 74,\n",
              " 'as possible ;': 75,\n",
              " 'men a few': 76,\n",
              " 'a wide range': 77,\n",
              " 'Start on rapid': 78,\n",
              " 'Nkrumah , who': 79,\n",
              " 'the Atlanta Bar': 80,\n",
              " 'He was only': 81,\n",
              " 'Player then had': 82,\n",
              " 'to this unusual': 83,\n",
              " 'reality which can': 84,\n",
              " 'giving any systematic': 85,\n",
              " 'I had one': 86,\n",
              " 'men than these': 87,\n",
              " 'reminders over the': 88,\n",
              " 'the mite-box .': 89,\n",
              " 'challenged by the': 90,\n",
              " '. We sympathize': 91,\n",
              " 'ideology if not': 92,\n",
              " 'above-mentioned matters and': 93,\n",
              " '2.1 Af .': 94,\n",
              " ', Kan. ,': 95,\n",
              " 'he attacked the': 96,\n",
              " 'not respond with': 97,\n",
              " 'frankly partisan ,': 98,\n",
              " 'adopted by the': 99,\n",
              " 'point at which': 100,\n",
              " 'alternative but that': 101,\n",
              " ', a musket': 102,\n",
              " ', no !': 103,\n",
              " 'child hanging on': 104,\n",
              " 'developing nations will': 105,\n",
              " 'about , the': 106,\n",
              " 'measured with optimum': 107,\n",
              " '1955 season because': 108,\n",
              " 'Air Force life': 109,\n",
              " 'property values in': 110,\n",
              " 'shooting still continuing': 111,\n",
              " 'be forced to': 112,\n",
              " ', wormy chestnut': 113,\n",
              " 'symbol of the': 114,\n",
              " 'grant to the': 115,\n",
              " 'what cost ,': 116,\n",
              " 'similar to the': 117,\n",
              " 'The American Institute': 118,\n",
              " 'to the future': 119,\n",
              " ', said Gore': 120,\n",
              " '. The Clinico-pathologic': 121,\n",
              " 'least some of': 122,\n",
              " 'Molotov had really': 123,\n",
              " 'will choose his': 124,\n",
              " 'fire , windstorm': 125,\n",
              " 'injury , suffered': 126,\n",
              " '; ; at': 127,\n",
              " 'To assist the': 128,\n",
              " 'Origen , to': 129,\n",
              " ', fully expecting': 130,\n",
              " 'evidence of Western': 131,\n",
              " 'earlier than usual': 132,\n",
              " 'the Assembly to': 133,\n",
              " 'elaborate for almost': 134,\n",
              " 'Secretary Douglas Dillon': 135,\n",
              " 'sit secure while': 136,\n",
              " 'a collection of': 137,\n",
              " 'methods are insensitive': 138,\n",
              " 'certain other deductions': 139,\n",
              " 'night was to': 140,\n",
              " 'which would order': 141,\n",
              " 'the men come': 142,\n",
              " 'administered by a': 143,\n",
              " 'felt something indefinable': 144,\n",
              " 'in his wide-cut': 145,\n",
              " 'he could give': 146,\n",
              " 'providing that Congress': 147,\n",
              " 'general pattern of': 148,\n",
              " 'faculty member has': 149,\n",
              " 'will find themselves': 150,\n",
              " ', Karns told': 151,\n",
              " 'Sportsman Freddie Wacker': 152,\n",
              " ', commented Argiento': 153,\n",
              " 'chair out on': 154,\n",
              " 'Willie Mays ,': 155,\n",
              " 'nationalisms , age-old': 156,\n",
              " 'lady , and': 157,\n",
              " 'and minimum State': 158,\n",
              " 'prayers Shall win': 159,\n",
              " 'to abolish slavery': 160,\n",
              " 'for state employees': 161,\n",
              " 'justify the armaments': 162,\n",
              " 'past continue to': 163,\n",
              " 'toward its center': 164,\n",
              " 'squeeze all the': 165,\n",
              " 'the youngsters were': 166,\n",
              " 'church and how': 167,\n",
              " 'to his gentle': 168,\n",
              " 'company is reviewing': 169,\n",
              " 'Regions , and': 170,\n",
              " 'practical significance .': 171,\n",
              " 'love that photograph': 172,\n",
              " 'Augusta , only': 173,\n",
              " 'are met ,': 174,\n",
              " 'worst-marked channels ,': 175,\n",
              " 'under which all': 176,\n",
              " 'Monday , and': 177,\n",
              " 'looks that way': 178,\n",
              " 'been equally varied': 179,\n",
              " 'enjoyed lemonade and': 180,\n",
              " 'possessed more power': 181,\n",
              " 'its own activity': 182,\n",
              " 'management and other': 183,\n",
              " 'Providence , as': 184,\n",
              " 'notice of surplus': 185,\n",
              " 'me . That': 186,\n",
              " 'how many fans': 187,\n",
              " 'Sunday to clear': 188,\n",
              " 'the wire and': 189,\n",
              " 'and Mark were': 190,\n",
              " 'concierge said .': 191,\n",
              " 'consequences before or': 192,\n",
              " 'country , at': 193,\n",
              " \"cream , I'm\": 194,\n",
              " 'the rolling stock': 195,\n",
              " 'not because the': 196,\n",
              " 'Guardian , states': 197,\n",
              " 'political groups will': 198,\n",
              " 'The schoolboy .': 199,\n",
              " 'been arguing whether': 200,\n",
              " 'have jointly issued': 201,\n",
              " 'to enact a': 202,\n",
              " 'the covers making': 203,\n",
              " 'private enterprise .': 204,\n",
              " \"not . They've\": 205,\n",
              " 'recounting some of': 206,\n",
              " 'have to remain': 207,\n",
              " 'anywhere in the': 208,\n",
              " 'themselves and between': 209,\n",
              " 'not out of': 210,\n",
              " 'operations that the': 211,\n",
              " 'meant by spirit': 212,\n",
              " 'offers the best': 213,\n",
              " 'of these channels': 214,\n",
              " '. This figure': 215,\n",
              " 'library systems financed': 216,\n",
              " 'frightful to contemplate': 217,\n",
              " 'years in hard': 218,\n",
              " 'Boston . Pensive': 219,\n",
              " 'sighed heavily .': 220,\n",
              " 'as cerebral palsy': 221,\n",
              " 'Except for sophomore': 222,\n",
              " 'way Mother wanted': 223,\n",
              " 'and clarification ;': 224,\n",
              " '28 , 1961': 225,\n",
              " 'are as fast': 226,\n",
              " 'Sec. 8 .': 227,\n",
              " 'higher productivity .': 228,\n",
              " 'and personal circumstances': 229,\n",
              " 'States attorney ,': 230,\n",
              " 'do we let': 231,\n",
              " 'States , it': 232,\n",
              " 'grade . I': 233,\n",
              " 'should not oppose': 234,\n",
              " 'wanted to secede': 235,\n",
              " 'cool -- you': 236,\n",
              " 'then somebody is': 237,\n",
              " 'arrangement will be': 238,\n",
              " 'lives in Wellsville': 239,\n",
              " '. In it': 240,\n",
              " 'been lifted out': 241,\n",
              " 'the U.N. eject': 242,\n",
              " 'Mrs. Joan Monroe': 243,\n",
              " 'and was restrained': 244,\n",
              " 'is intensifying its': 245,\n",
              " 'be mechanical .': 246,\n",
              " 'for a quarter-century': 247,\n",
              " 'little effort spice': 248,\n",
              " 'Pilgrims bowed their': 249,\n",
              " 'the Commission notice': 250,\n",
              " 'walking Bob Allison': 251,\n",
              " 'laugh which always': 252,\n",
              " \"the registrants' field\": 253,\n",
              " 'Communist attacks on': 254,\n",
              " 'through mutual agreement': 255,\n",
              " 'snow plan here': 256,\n",
              " 'to have some': 257,\n",
              " 'is carrying out': 258,\n",
              " 'playing like that': 259,\n",
              " 'more vile language': 260,\n",
              " 'that under the': 261,\n",
              " 'come down on': 262,\n",
              " 'is even some': 263,\n",
              " 'he would take': 264,\n",
              " 'trip people were': 265,\n",
              " 'citizens while abroad': 266,\n",
              " 'club existed before': 267,\n",
              " 'occupation license on': 268,\n",
              " 'Jawaharlal Nehru and': 269,\n",
              " ', and aware': 270,\n",
              " 'and demanded water': 271,\n",
              " 'I had to': 272,\n",
              " 'the publishing field': 273,\n",
              " 'The Americans ,': 274,\n",
              " 'Stephen Mana ,': 275,\n",
              " 'be purchased for': 276,\n",
              " 'School Committee is': 277,\n",
              " 'address here that': 278,\n",
              " 'This responsibility included': 279,\n",
              " ', had headquarter': 280,\n",
              " 'and letters in': 281,\n",
              " 'among the student': 282,\n",
              " 'and culturally indispensable': 283,\n",
              " 'Surgery ( NATO': 284,\n",
              " 'Miss Barbara Williams': 285,\n",
              " 'that which is': 286,\n",
              " '. Stacked heels': 287,\n",
              " 'veil would trade': 288,\n",
              " 'required at the': 289,\n",
              " 'Weld ( 1803-1895': 290,\n",
              " 'immediate action because': 291,\n",
              " 'trained so rigorously': 292,\n",
              " 'he was the': 293,\n",
              " 'committee that ,': 294,\n",
              " 'increased license fee': 295,\n",
              " 'did , perhaps': 296,\n",
              " 'condition of neglect': 297,\n",
              " 'be little doubt': 298,\n",
              " 'lack of belief': 299,\n",
              " 'the very motives': 300,\n",
              " ', and always': 301,\n",
              " 'company will vary': 302,\n",
              " 'a Saturday ,': 303,\n",
              " 'this dynamic process': 304,\n",
              " 'mineralized or chemically': 305,\n",
              " 'Following each instruction': 306,\n",
              " 'booked on and': 307,\n",
              " 'to finance the': 308,\n",
              " 'sure what effect': 309,\n",
              " 'Peace Corps volunteers': 310,\n",
              " 'upon his arrival': 311,\n",
              " 'remarks in SR': 312,\n",
              " 'the Congress ,': 313,\n",
              " 'too difficult .': 314,\n",
              " 'on the property': 315,\n",
              " 'one-fourth of all': 316,\n",
              " 'teachers up the': 317,\n",
              " 'the wainscoted wall': 318,\n",
              " 'they arrived .': 319,\n",
              " 'nearest them .': 320,\n",
              " 'Commerce , Okla.': 321,\n",
              " 'computing allotments .': 322,\n",
              " 'to analyze it': 323,\n",
              " 'provide for simple': 324,\n",
              " 'report but on': 325,\n",
              " '. William ,': 326,\n",
              " 'dumped him off': 327,\n",
              " 'can any longer': 328,\n",
              " 'dramatic , broad-scale': 329,\n",
              " 'could , repeatedly': 330,\n",
              " 'more good than': 331,\n",
              " 'Presidential appointees are': 332,\n",
              " ', broth ,': 333,\n",
              " 'airport to express': 334,\n",
              " ', in order': 335,\n",
              " 'place himself ,': 336,\n",
              " 'tears in his': 337,\n",
              " 'declaring May 22nd': 338,\n",
              " 'real authority .': 339,\n",
              " 'the bonds of': 340,\n",
              " \"she jabbed deceit's\": 341,\n",
              " \"16 . Palmer's\": 342,\n",
              " 'now . If': 343,\n",
              " 'moral cooperation when': 344,\n",
              " 'on sales or': 345,\n",
              " ', particularly Negro': 346,\n",
              " 'pokes a tentative': 347,\n",
              " 'Forests . In': 348,\n",
              " 'your feelings against': 349,\n",
              " ', it determined': 350,\n",
              " 'North Central states': 351,\n",
              " 'Thus , the': 352,\n",
              " 'SWC high .': 353,\n",
              " 'excitement in musical': 354,\n",
              " 'important than the': 355,\n",
              " 'those groups in': 356,\n",
              " 'tried to live': 357,\n",
              " 'for peace and': 358,\n",
              " 'the Communist authorities': 359,\n",
              " 'a second Schiele': 360,\n",
              " 'phases of forest': 361,\n",
              " 'The statement did': 362,\n",
              " 'a high standard': 363,\n",
              " 'shaken up in': 364,\n",
              " 'the Code ,': 365,\n",
              " 'sales tax was': 366,\n",
              " 'benefit to all': 367,\n",
              " 'sweet wet nigger': 368,\n",
              " 'perfect God and': 369,\n",
              " 'desire of India': 370,\n",
              " 'any great detail': 371,\n",
              " 'constitutional incumbents .': 372,\n",
              " '( including water': 373,\n",
              " 'lose our export': 374,\n",
              " 'frames , escaping': 375,\n",
              " 'Angelico . The': 376,\n",
              " 'also complained that': 377,\n",
              " 'to go and': 378,\n",
              " 'bolted through the': 379,\n",
              " '. Then March': 380,\n",
              " 'perhaps because the': 381,\n",
              " 'project above the': 382,\n",
              " 'vacation trips up': 383,\n",
              " 'Joseph Simmons was': 384,\n",
              " 'knowledge merely for': 385,\n",
              " 'think it would': 386,\n",
              " 'traditional theology have': 387,\n",
              " 'Judge Parsons leaned': 388,\n",
              " 'candidates . The': 389,\n",
              " 'rider . The': 390,\n",
              " 'The authority of': 391,\n",
              " 'independent of his': 392,\n",
              " 'still spattered with': 393,\n",
              " '. To get': 394,\n",
              " 'TASS from Moscow': 395,\n",
              " 'our everlasting shame': 396,\n",
              " 'large enough to': 397,\n",
              " 'Devey as General': 398,\n",
              " 'big U.S. market': 399,\n",
              " 'Mr. Levitt who': 400,\n",
              " ', I would': 401,\n",
              " 'holed out at': 402,\n",
              " 'principle . So': 403,\n",
              " 'state income tax': 404,\n",
              " 'circulating in Dallas': 405,\n",
              " 'need for their': 406,\n",
              " 'however , we': 407,\n",
              " 'all-American summer safari': 408,\n",
              " 'This is all': 409,\n",
              " 'exaggeration to say': 410,\n",
              " 'is that progress': 411,\n",
              " 'regarded us as': 412,\n",
              " 'third man to': 413,\n",
              " 'often mistook it': 414,\n",
              " 'on Dec. 7': 415,\n",
              " 'General of the': 416,\n",
              " 'of Investigation as': 417,\n",
              " 'Him . Calmly': 418,\n",
              " 'E. Sweazey writes': 419,\n",
              " 'not resent it': 420,\n",
              " 'on our political': 421,\n",
              " 'information may be': 422,\n",
              " 'and without a': 423,\n",
              " 'nature and by': 424,\n",
              " 'have been upheld': 425,\n",
              " 'this British common': 426,\n",
              " 'him was Mrs.': 427,\n",
              " 'groggy . Did': 428,\n",
              " 'air of revulsion': 429,\n",
              " 'be closed during': 430,\n",
              " 'throughout outstate Missouri': 431,\n",
              " 'undertaken pursuant to': 432,\n",
              " 'squarely . If': 433,\n",
              " 'the operations of': 434,\n",
              " 'from commercial sponsors': 435,\n",
              " 'still are --': 436,\n",
              " 'if Communist countries': 437,\n",
              " 'a pro-neutralist position': 438,\n",
              " 'headed by Sen.': 439,\n",
              " 'bonds Meanwhile ,': 440,\n",
              " 'in monsoon-shrouded ,': 441,\n",
              " 'nation , or': 442,\n",
              " 'for its support': 443,\n",
              " 'down off the': 444,\n",
              " 'the people moved': 445,\n",
              " 'should be replaced': 446,\n",
              " 'characterize the common': 447,\n",
              " 'relations with nations': 448,\n",
              " 'as a last': 449,\n",
              " \"Lowell's concept and\": 450,\n",
              " 'just as we': 451,\n",
              " 'be operational about': 452,\n",
              " 'fighting the French': 453,\n",
              " 'preceding the French': 454,\n",
              " 'expenses incurred by': 455,\n",
              " 'they gave me': 456,\n",
              " 'be permanent ?': 457,\n",
              " 'countries he visited': 458,\n",
              " 'of april 29th': 459,\n",
              " 'whole wide horizon': 460,\n",
              " 'has not met': 461,\n",
              " 'added to that': 462,\n",
              " 'properties on which': 463,\n",
              " ', from rudimentary': 464,\n",
              " 'their development activities': 465,\n",
              " 'selected the best': 466,\n",
              " 'dared once more': 467,\n",
              " 'is Communism not': 468,\n",
              " \"Madonna's slender legs\": 469,\n",
              " 'to devotion to': 470,\n",
              " \"secretaries' theme ,\": 471,\n",
              " 'Thynne , he': 472,\n",
              " 'in speaking of': 473,\n",
              " 'responsibilities and specific': 474,\n",
              " 'social studies ,': 475,\n",
              " 'University in Grahamstown': 476,\n",
              " 'than teach where': 477,\n",
              " 'will see God': 478,\n",
              " 'The younger Thomas': 479,\n",
              " 'and taffy tan': 480,\n",
              " 'hearing was set': 481,\n",
              " 'about what would': 482,\n",
              " 'the state .': 483,\n",
              " 'or by solemnly': 484,\n",
              " 'Russians , we': 485,\n",
              " 'record . If': 486,\n",
              " 'safe assumption that': 487,\n",
              " 'into the sand': 488,\n",
              " 'was increased reason': 489,\n",
              " 'resignation as rector': 490,\n",
              " 'been working in': 491,\n",
              " 'the simple magic': 492,\n",
              " 'the modern Western': 493,\n",
              " 'between Cadillacs .': 494,\n",
              " \"heroes . Maris's\": 495,\n",
              " ', Mrs. William': 496,\n",
              " 'If some future': 497,\n",
              " 'parking is banned': 498,\n",
              " 'Net result is': 499,\n",
              " 'seemed to advance': 500,\n",
              " 'a few ,': 501,\n",
              " 'gnawing of your': 502,\n",
              " 'you . Good': 503,\n",
              " 'seas of grass': 504,\n",
              " 'as altogether the': 505,\n",
              " 'perception by pure': 506,\n",
              " 'believe them .': 507,\n",
              " 'to 41 underwriters': 508,\n",
              " 'clear about forgiveness': 509,\n",
              " 'Beaumont Navigation District': 510,\n",
              " '. Nine new': 511,\n",
              " 'the stock was': 512,\n",
              " 'Godkin Lectures is': 513,\n",
              " '? Our faculty': 514,\n",
              " 'now raised serious': 515,\n",
              " 'a 155-yarder .': 516,\n",
              " 'and finally in': 517,\n",
              " 'cult of the': 518,\n",
              " 'just a big': 519,\n",
              " 'support their own': 520,\n",
              " ', we were': 521,\n",
              " 'proved itself the': 522,\n",
              " 'members at the': 523,\n",
              " 'lawyers dug into': 524,\n",
              " 'stock to have': 525,\n",
              " \"That's why I\": 526,\n",
              " 'and his only': 527,\n",
              " \"said . 'nother\": 528,\n",
              " 'wall as if': 529,\n",
              " 'incredibly diversified ,': 530,\n",
              " 'in such festive': 531,\n",
              " 'victim of a': 532,\n",
              " 'read a bit': 533,\n",
              " 'miffed if the': 534,\n",
              " 'a balance between': 535,\n",
              " \"seems college isn't\": 536,\n",
              " 'back here at': 537,\n",
              " 'with ritual observance': 538,\n",
              " 'a regional basis': 539,\n",
              " 'had let some': 540,\n",
              " 'was nice .': 541,\n",
              " 'held a Boy': 542,\n",
              " '. Higher toll': 543,\n",
              " 'of fifty million': 544,\n",
              " 'Council meeting .': 545,\n",
              " 'of unity ,': 546,\n",
              " 'and a throbbing': 547,\n",
              " 'me last time': 548,\n",
              " 'nine Turkish girls': 549,\n",
              " '? Alone with': 550,\n",
              " 'at , and': 551,\n",
              " 'treatment of the': 552,\n",
              " 'his own demise': 553,\n",
              " 'its sting is': 554,\n",
              " 'fear and that': 555,\n",
              " 'have looked .': 556,\n",
              " 'causes of family': 557,\n",
              " 'know any secret': 558,\n",
              " 'homes . This': 559,\n",
              " 'and lemon are': 560,\n",
              " 'vocal groups )': 561,\n",
              " 'whether the U.S.': 562,\n",
              " 'and black frame': 563,\n",
              " 'further support for': 564,\n",
              " ', street crowds': 565,\n",
              " 'congress of Zionists': 566,\n",
              " 'the power of': 567,\n",
              " 'darkness the banisters': 568,\n",
              " 'the field for': 569,\n",
              " 'with reporters yesterday': 570,\n",
              " 'bog Washington in': 571,\n",
              " '23 , of': 572,\n",
              " 'Four persons died': 573,\n",
              " '. My approval': 574,\n",
              " 'to be employed': 575,\n",
              " 'license . (': 576,\n",
              " \"Orioles' last two\": 577,\n",
              " 'McAlester and William': 578,\n",
              " 'amount at about': 579,\n",
              " 'and anarchy is': 580,\n",
              " 'gradually swung from': 581,\n",
              " '-- people who': 582,\n",
              " 'entombed millions of': 583,\n",
              " '; the darbuka': 584,\n",
              " 'sharp and abrupt': 585,\n",
              " 'which is not': 586,\n",
              " ', an independent': 587,\n",
              " 'first year as': 588,\n",
              " 'promotion , the': 589,\n",
              " 'became particularly interested': 590,\n",
              " 'following the sermon': 591,\n",
              " 'of their service': 592,\n",
              " 'reach a verdict': 593,\n",
              " 'side on the': 594,\n",
              " 'turns When East': 595,\n",
              " 'his client as': 596,\n",
              " 'burn his books': 597,\n",
              " 'twisting , narrow': 598,\n",
              " 'talking exclusively of': 599,\n",
              " 'to meeting their': 600,\n",
              " 'himself had decided': 601,\n",
              " '. Prior to': 602,\n",
              " 'Another debutante ,': 603,\n",
              " 'up big business': 604,\n",
              " 'future would lie': 605,\n",
              " 'subjects , finding': 606,\n",
              " 'the arts .': 607,\n",
              " 'the institution by': 608,\n",
              " 'of us fanning': 609,\n",
              " 'not yet firmly': 610,\n",
              " '1960 issue marked': 611,\n",
              " 'for San Franciscans': 612,\n",
              " 'and produced a': 613,\n",
              " ', have links': 614,\n",
              " 'of fires while': 615,\n",
              " 'to members of': 616,\n",
              " 'our most gentle': 617,\n",
              " 'by the NCTA': 618,\n",
              " 'fact , to': 619,\n",
              " 'by the college': 620,\n",
              " \"listing the parent's\": 621,\n",
              " 'Wall -- much': 622,\n",
              " 'reached expectations .': 623,\n",
              " 'independent types of': 624,\n",
              " 'to Cromwell in': 625,\n",
              " 'music surged up': 626,\n",
              " \"Kate's baby and\": 627,\n",
              " 'exploit the advantage': 628,\n",
              " ', they shared': 629,\n",
              " 'giving up and': 630,\n",
              " 'such that in': 631,\n",
              " 'news that the': 632,\n",
              " 'As the 87th': 633,\n",
              " 'a wide acquaintance': 634,\n",
              " 'items in the': 635,\n",
              " 'beyond the farm': 636,\n",
              " 'of a strong': 637,\n",
              " 'financed for agreed': 638,\n",
              " 'the hundred things': 639,\n",
              " 'and domestic commerce': 640,\n",
              " 'rows of barbed': 641,\n",
              " 'Fairless Hills .': 642,\n",
              " 'Mr. Bolker heads': 643,\n",
              " 'can be noted': 644,\n",
              " 'metal content as': 645,\n",
              " 'the 4-year college': 646,\n",
              " 'beneficiaries of this': 647,\n",
              " 'The city was': 648,\n",
              " 'the 9 ,': 649,\n",
              " 'is senseless ,': 650,\n",
              " 'Taiwan stress the': 651,\n",
              " ', I sat': 652,\n",
              " '. Day after': 653,\n",
              " 'Agency to establish': 654,\n",
              " 'housing starts .': 655,\n",
              " 'position status of': 656,\n",
              " 'Austin . Cox': 657,\n",
              " 'astronomy , herpetology': 658,\n",
              " 'group of normal': 659,\n",
              " 'world of reality': 660,\n",
              " '. -- Beckworth': 661,\n",
              " 'guilt by accident': 662,\n",
              " 'Narragansett Gray Iron': 663,\n",
              " 'sheets and wrote': 664,\n",
              " 'Grove ( special': 665,\n",
              " 'the house creaking': 666,\n",
              " ', palms up': 667,\n",
              " 'however , has': 668,\n",
              " 'at 100% ,': 669,\n",
              " 'by offering the': 670,\n",
              " 'instinctual political sense': 671,\n",
              " 'the land across': 672,\n",
              " 'David Thompson was': 673,\n",
              " 'months , no': 674,\n",
              " 'for she might': 675,\n",
              " 'main present !': 676,\n",
              " 'to assure the': 677,\n",
              " 'people about how': 678,\n",
              " 'respect thereto ;': 679,\n",
              " 'or a single': 680,\n",
              " 'governing , and': 681,\n",
              " 'campus Chicago ,': 682,\n",
              " 'poultry judging ,': 683,\n",
              " 'with a pleasant': 684,\n",
              " 'moment when Mary': 685,\n",
              " 'citizens will find': 686,\n",
              " 'is so persuasive': 687,\n",
              " 'a $17,000 mortgage': 688,\n",
              " \". We'll work\": 689,\n",
              " 'dinner sponsored by': 690,\n",
              " 'the campaigning to': 691,\n",
              " 'films to show': 692,\n",
              " '30% annually ,': 693,\n",
              " ', Camelot came': 694,\n",
              " 'the river from': 695,\n",
              " 'warm air systems': 696,\n",
              " 'and to Mrs.': 697,\n",
              " 'He was fatherly': 698,\n",
              " 'cleat , and': 699,\n",
              " 'be started if': 700,\n",
              " '-- George Kerr': 701,\n",
              " 'its inception long': 702,\n",
              " 'Merchant Marine is': 703,\n",
              " 'Street and South': 704,\n",
              " 'Hebrews 14 .': 705,\n",
              " 'of security ,': 706,\n",
              " 'ways of talking': 707,\n",
              " 'desegregation . Even': 708,\n",
              " 'nigger pussy !': 709,\n",
              " 'years . Sandman': 710,\n",
              " 'East Detroit .': 711,\n",
              " 'believe we should': 712,\n",
              " 'baseball might be': 713,\n",
              " 'least some things': 714,\n",
              " 'memorable speeches and': 715,\n",
              " 'bitter tears to': 716,\n",
              " 'residence nor a': 717,\n",
              " 'also the concern': 718,\n",
              " 'enjoyed planning anything': 719,\n",
              " 'In the small': 720,\n",
              " 'he expects to': 721,\n",
              " \"Kowalski's sister-in-law ,\": 722,\n",
              " '. After looking': 723,\n",
              " 'federal funds granted': 724,\n",
              " 'was listed on': 725,\n",
              " 'President to reconsider': 726,\n",
              " 'we are wont': 727,\n",
              " 'shame , we': 728,\n",
              " '-- prone to': 729,\n",
              " 'Walker , 22': 730,\n",
              " 'us wrong .': 731,\n",
              " 'the sovereignty and': 732,\n",
              " 'three months to': 733,\n",
              " 'than the lengthened': 734,\n",
              " 'decision to the': 735,\n",
              " 'if we wish': 736,\n",
              " 'Island Hospital .': 737,\n",
              " 'with admiration or': 738,\n",
              " 'issue will go': 739,\n",
              " 'would send the': 740,\n",
              " 'and audible cluck': 741,\n",
              " 'imagination of a': 742,\n",
              " 'The Emergency Medical': 743,\n",
              " 'and cracked now': 744,\n",
              " \"in Connecticut's new\": 745,\n",
              " 'Zen owes more': 746,\n",
              " 'stood very still': 747,\n",
              " 'require structure ,': 748,\n",
              " ', more ready': 749,\n",
              " 'automatically as it': 750,\n",
              " 'careful in paying': 751,\n",
              " 'strip of muscle': 752,\n",
              " 'drink while you': 753,\n",
              " '-- split .': 754,\n",
              " ', Nicholas Marsicano': 755,\n",
              " 'more road games': 756,\n",
              " ', would promise': 757,\n",
              " 'savage wounds that': 758,\n",
              " 'We congratulate the': 759,\n",
              " 'Katangan outbreaks imperiled': 760,\n",
              " 'directly the one': 761,\n",
              " 'Mrs. D. Ellwood': 762,\n",
              " 'the Sermon on': 763,\n",
              " ', was his': 764,\n",
              " 'seen this expressed': 765,\n",
              " 'matching mirror .': 766,\n",
              " 'Honey , by': 767,\n",
              " 'never end .': 768,\n",
              " \"the valley's dark\": 769,\n",
              " 'purity of morals': 770,\n",
              " 'within the sixty-day': 771,\n",
              " 'Auburn ( N.Y.': 772,\n",
              " 'now proposes to': 773,\n",
              " 'catechism questions to': 774,\n",
              " 'again grinding out': 775,\n",
              " 'that they may': 776,\n",
              " 'Van Gogh ,': 777,\n",
              " 'Very well ,': 778,\n",
              " 'all levels of': 779,\n",
              " 'among them Melville': 780,\n",
              " 'entered the taxi': 781,\n",
              " 'in being reminded': 782,\n",
              " 'things Rector requested': 783,\n",
              " 'and turned the': 784,\n",
              " 'individuals make their': 785,\n",
              " 'and the plate': 786,\n",
              " 'it is nearly': 787,\n",
              " 'D. Ellwood Williams': 788,\n",
              " 'Governors Conference on': 789,\n",
              " 'and keep telling': 790,\n",
              " 'are governed by': 791,\n",
              " 'a different idea': 792,\n",
              " 'have a change': 793,\n",
              " 'Algol , the': 794,\n",
              " 'shocking eagerness ,': 795,\n",
              " 'of allowances for': 796,\n",
              " 'the meeting :': 797,\n",
              " 'before checks are': 798,\n",
              " 'lordly poet was': 799,\n",
              " 'to helium film': 800,\n",
              " 'Electric are in': 801,\n",
              " 'potential candidates .': 802,\n",
              " 'past . It': 803,\n",
              " 'have been carried': 804,\n",
              " 'office on Wednesday': 805,\n",
              " 'an Arhat ,': 806,\n",
              " 'We have witnessed': 807,\n",
              " '17 passes .': 808,\n",
              " 'Dolce Vita has': 809,\n",
              " 'and other records': 810,\n",
              " 'the troubles will': 811,\n",
              " 'discussed . No': 812,\n",
              " 'these clear channels': 813,\n",
              " 'could use two': 814,\n",
              " 'the putt .': 815,\n",
              " 'important on the': 816,\n",
              " 'were insufficiently outspoken': 817,\n",
              " 'in a neighborhood': 818,\n",
              " \". He won't\": 819,\n",
              " 'to the role': 820,\n",
              " 'We now have': 821,\n",
              " 'horse thief ,': 822,\n",
              " 'of the value': 823,\n",
              " 'the ineptness of': 824,\n",
              " 'of this distinction': 825,\n",
              " 'into some kind': 826,\n",
              " 'dental schools ,': 827,\n",
              " \"at St. Michael's\": 828,\n",
              " 'these ill effects': 829,\n",
              " 'circumstances unhesitatingly .': 830,\n",
              " 'Where will you': 831,\n",
              " 'magenta , pink': 832,\n",
              " '1961 session Monday': 833,\n",
              " 'years , and': 834,\n",
              " 'be in perfect': 835,\n",
              " ', protected by': 836,\n",
              " 'nice . All': 837,\n",
              " 'associates here for': 838,\n",
              " 'neither Danish nor': 839,\n",
              " 'for an outstanding': 840,\n",
              " 'textile production machinery': 841,\n",
              " ', thus keeping': 842,\n",
              " 'only their bodies': 843,\n",
              " 'are engaged in': 844,\n",
              " 'withdrawing their forces': 845,\n",
              " ', Boulder ,': 846,\n",
              " 'of that degree': 847,\n",
              " 'the helm ,': 848,\n",
              " ', a segregationist': 849,\n",
              " 'speech does not': 850,\n",
              " 'the advisability of': 851,\n",
              " 'tooth for me': 852,\n",
              " 'door in the': 853,\n",
              " 'if for a': 854,\n",
              " '. Premier Khrushchev': 855,\n",
              " 'and Norm Mullendore': 856,\n",
              " 'line in Massachusetts': 857,\n",
              " 'are frightening whether': 858,\n",
              " ', the Post': 859,\n",
              " '1581 ) .': 860,\n",
              " 'time authorization for': 861,\n",
              " 'an inferior man': 862,\n",
              " 'Hoxa . These': 863,\n",
              " 'who had been': 864,\n",
              " 'The means of': 865,\n",
              " 'party or personality': 866,\n",
              " 'was still ahead': 867,\n",
              " 'faith reveals God': 868,\n",
              " \"The U.N.'s '\": 869,\n",
              " 'Brown also invented': 870,\n",
              " 'had picked up': 871,\n",
              " 'several dozen lunchroom': 872,\n",
              " 'the prices that': 873,\n",
              " 'course , examine': 874,\n",
              " 'lid . Oddly': 875,\n",
              " 'there could not': 876,\n",
              " 'seeing you fresh': 877,\n",
              " 'indeed , many': 878,\n",
              " 'E. Robertsons ,': 879,\n",
              " 'Turnkey , the': 880,\n",
              " 'compatible with use': 881,\n",
              " 'the Billikens after': 882,\n",
              " 'yardage in 1959': 883,\n",
              " 'Chapter 6 Bong': 884,\n",
              " 'procedure constituted intimidation': 885,\n",
              " 'we have already': 886,\n",
              " 'the membership we': 887,\n",
              " \", Player's game\": 888,\n",
              " \"architect's sketch of\": 889,\n",
              " 'of generating power': 890,\n",
              " 'to the tax': 891,\n",
              " 'knowledge to the': 892,\n",
              " 'time for independence': 893,\n",
              " 'high and semi-heights': 894,\n",
              " 'first bombs on': 895,\n",
              " ', congratulate the': 896,\n",
              " 'are edited out': 897,\n",
              " 'lines of farm': 898,\n",
              " 'theories run ,': 899,\n",
              " 'At the very': 900,\n",
              " 'those watching the': 901,\n",
              " 'deputies of the': 902,\n",
              " 'such as filing': 903,\n",
              " 'index drilling ,': 904,\n",
              " 'participation in worship': 905,\n",
              " 'beat it out': 906,\n",
              " 'Austin C. Smith': 907,\n",
              " 'sound of the': 908,\n",
              " 'the unadjusted allotment': 909,\n",
              " 'given in Blois': 910,\n",
              " 'it , fully': 911,\n",
              " 'his pari-mutuel tickets': 912,\n",
              " '1961 , in': 913,\n",
              " 'apartment , hesitated': 914,\n",
              " '. Bicycle gear-sets': 915,\n",
              " 'learning the difficulties': 916,\n",
              " 'in the federal': 917,\n",
              " 'of the leadership': 918,\n",
              " '. At State': 919,\n",
              " 'from the ball': 920,\n",
              " '. He loathed': 921,\n",
              " 'to field and': 922,\n",
              " 'the collective life': 923,\n",
              " '. The statutes': 924,\n",
              " 'of advantages concerning': 925,\n",
              " 'the guests made': 926,\n",
              " 'an irreversible step': 927,\n",
              " 'taken by Congress': 928,\n",
              " 'day or night': 929,\n",
              " 'group to play': 930,\n",
              " 'boaters and waxed': 931,\n",
              " 'the Kennedy legislative': 932,\n",
              " 'a new phase': 933,\n",
              " ', anti-Communist OAS': 934,\n",
              " 'of the earthly': 935,\n",
              " 'must be planned': 936,\n",
              " 'stayed to visit': 937,\n",
              " 'School , which': 938,\n",
              " 'her uncle ,': 939,\n",
              " 'what he termed': 940,\n",
              " 'hell each second': 941,\n",
              " '. Steps should': 942,\n",
              " 'of the annual': 943,\n",
              " 'too . If': 944,\n",
              " 'States defense The': 945,\n",
              " 'not mean to': 946,\n",
              " 'though the existence': 947,\n",
              " 'and ways are': 948,\n",
              " 'symbol of security': 949,\n",
              " 'office also maintains': 950,\n",
              " '. By limiting': 951,\n",
              " 'a 70 ;': 952,\n",
              " 'problematical . The': 953,\n",
              " \", his father's\": 954,\n",
              " 'magnitude of this': 955,\n",
              " 'the thought of': 956,\n",
              " 'and fifty million': 957,\n",
              " 'me , Let': 958,\n",
              " 'lies in greater': 959,\n",
              " 'were especially fine': 960,\n",
              " 'temporary price may': 961,\n",
              " 'the programs Sam': 962,\n",
              " 'buy 400 shares': 963,\n",
              " 'from what might': 964,\n",
              " 'during her junior': 965,\n",
              " '-- but nothing': 966,\n",
              " 'up tensions that': 967,\n",
              " 'foodstuffs . At': 968,\n",
              " 'stunned already .': 969,\n",
              " 'around the tent': 970,\n",
              " 'justice . That': 971,\n",
              " 'in magic manipulation': 972,\n",
              " \"he didn't move\": 973,\n",
              " 'easier . But': 974,\n",
              " 'Lili ) .': 975,\n",
              " 'at the least': 976,\n",
              " '( published by': 977,\n",
              " 'share fully this': 978,\n",
              " '8 per cent': 979,\n",
              " 'below 1959 .': 980,\n",
              " 'year totaled nine': 981,\n",
              " 'Harvard Divinity School': 982,\n",
              " 'the cult would': 983,\n",
              " 'The president who': 984,\n",
              " 'was the forerunner': 985,\n",
              " 'also defeat the': 986,\n",
              " 'same pattern for': 987,\n",
              " 'necessity change .': 988,\n",
              " 'a full partnership': 989,\n",
              " 'D. Stetson .': 990,\n",
              " 'had other advice': 991,\n",
              " 'experience of the': 992,\n",
              " 'of God does': 993,\n",
              " 'advance to whatever': 994,\n",
              " 'been filed during': 995,\n",
              " 'was disclosed Tuesday': 996,\n",
              " 'for the Commission': 997,\n",
              " 'the American military': 998,\n",
              " 'rule , that': 999,\n",
              " ...}"
            ]
          },
          "metadata": {
            "tags": []
          },
          "execution_count": 34
        }
      ]
    },
    {
      "cell_type": "code",
      "metadata": {
        "colab": {
          "base_uri": "https://localhost:8080/",
          "height": 35
        },
        "id": "fBrv7AG_HYAW",
        "outputId": "b1cd208b-2469-4bf6-cc46-79b2142a7132"
      },
      "source": [
        "stochastic_chain('Judges under the', words_length=3)"
      ],
      "execution_count": 35,
      "outputs": [
        {
          "output_type": "execute_result",
          "data": {
            "application/vnd.google.colaboratory.intrinsic+json": {
              "type": "string"
            },
            "text/plain": [
              "'Judges under the jurisdiction of the United States throughout the world . By analogy , the church also'"
            ]
          },
          "metadata": {
            "tags": []
          },
          "execution_count": 35
        }
      ]
    },
    {
      "cell_type": "code",
      "metadata": {
        "colab": {
          "base_uri": "https://localhost:8080/"
        },
        "id": "AHFVsk4PHYAW",
        "outputId": "4924182c-c7e7-4a8d-b95f-28f748b0b20a"
      },
      "source": [
        "distinct_sets_of_k_words[:10]"
      ],
      "execution_count": 36,
      "outputs": [
        {
          "output_type": "execute_result",
          "data": {
            "text/plain": [
              "['world peace ,',\n",
              " 'memorized . 10',\n",
              " 'Ross Barnett .',\n",
              " 'of the reality',\n",
              " 'cash box into',\n",
              " 'The Taoists were',\n",
              " 'a half times',\n",
              " 'crusade for Christian',\n",
              " 'area , with',\n",
              " 'look which always']"
            ]
          },
          "metadata": {
            "tags": []
          },
          "execution_count": 36
        }
      ]
    },
    {
      "cell_type": "markdown",
      "metadata": {
        "id": "YJTJrPfeHYAW"
      },
      "source": [
        "\n",
        "\n",
        "## Section 1.3: What is a Hidden Markov Model?\n",
        "\n",
        "A 1960s advance (by Leonard Baum and colleagues): Hidden Markov Models are:\n",
        "- a Markov model in which the system modeled is assumed to be a Markov process/chain with unobservable (\"hidden\") states. \n",
        "- HMM assumes there is another surrogate process whose behavior \"depends\" on the state--you learn about the state by observing the surrogate process. \n",
        "- HMMs have successfully been applied in fields where the goal is to recover a data sequence not immediately observable (but other data that depend on the sequence are).\n",
        "- The first dominant application: Speech and text processing (1970s)\n",
        "\n",
        "In this sub-section we will use the python library [hmmlearn](https://hmmlearn.readthedocs.io/en/latest/tutorial.html#training-hmm-parameters-and-inferring-the-hidden-states), which is part of the *scikit-learn* ecosystem. [nlg-with-hmmlearn](https://github.com/mfilej/nlg-with-hmmlearn) offers useful code snippets to adapt ```hmmlearn``` for text data. Because we are using a package that offers many out of the box implementations for HMMs, we don't have to worry about the states, transition matrices, "
      ]
    },
    {
      "cell_type": "code",
      "metadata": {
        "id": "0opXupU7HYAW"
      },
      "source": [
        "sentences = brown.sents(categories=category)\n",
        "words = [word.lower() for sentence in sentences for word in sentence]\n",
        "lengths = [len(sentence) for sentence in sentences]\n",
        "alphabet = set(words)"
      ],
      "execution_count": 37,
      "outputs": []
    },
    {
      "cell_type": "code",
      "metadata": {
        "id": "3Tf9qSGsHYAW"
      },
      "source": [
        "le = LabelEncoder()\n",
        "_ = le.fit(list(alphabet))"
      ],
      "execution_count": 38,
      "outputs": []
    },
    {
      "cell_type": "code",
      "metadata": {
        "id": "NwoONppVHYAW"
      },
      "source": [
        "seq = le.transform(words)\n",
        "features = np.fromiter(seq, np.int64)\n",
        "features = np.atleast_2d(features).T\n",
        "fd = FreqDist(seq)"
      ],
      "execution_count": 39,
      "outputs": []
    },
    {
      "cell_type": "markdown",
      "metadata": {
        "id": "SjUxtaqKHYAW"
      },
      "source": [
        "Now that we have our data setup, we can create our model. We use a multinomial HMM with 8 states, and can either do a random initialisation or use word frequences. We recommend trying both options!"
      ]
    },
    {
      "cell_type": "code",
      "metadata": {
        "id": "2KBATPmjHYAX"
      },
      "source": [
        "def get_model(num_states):\n",
        "  print(\"Initial parameter estimation using built-in method\")\n",
        "  model = hmm.MultinomialHMM(n_components=num_states, init_params='ste')\n",
        "  return model"
      ],
      "execution_count": 40,
      "outputs": []
    },
    {
      "cell_type": "code",
      "metadata": {
        "colab": {
          "base_uri": "https://localhost:8080/"
        },
        "id": "k2Ydwwm_HYAX",
        "outputId": "764c6ce6-0399-4125-fae2-a23b471d457e"
      },
      "source": [
        "# we haven't run this code, but it returns a model that is initialised with information of relative frequencies of words\n",
        "def frequencies(num_states):\n",
        "  print(\"Initial parameter estimation using relative frequencies\")\n",
        "\n",
        "  frequencies = np.fromiter((fd.freq(i) for i in range(len(alphabet))),\n",
        "                            dtype=np.float64)\n",
        "  emission_prob = np.stack([frequencies]*num_states)\n",
        "\n",
        "  model = hmm.MultinomialHMM(n_components=num_states, init_params='st')\n",
        "  model.emissionprob_ = emission_prob\n",
        "  return model\n",
        "\n",
        "\n",
        "print(frequencies(2))"
      ],
      "execution_count": 41,
      "outputs": [
        {
          "output_type": "stream",
          "text": [
            "Initial parameter estimation using relative frequencies\n",
            "MultinomialHMM(algorithm='viterbi', init_params='st', n_components=2, n_iter=10,\n",
            "               params='ste', random_state=None, startprob_prior=1.0, tol=0.01,\n",
            "               transmat_prior=1.0, verbose=False)\n"
          ],
          "name": "stdout"
        }
      ]
    },
    {
      "cell_type": "code",
      "metadata": {
        "colab": {
          "base_uri": "https://localhost:8080/"
        },
        "id": "nDiaEY_9HYAX",
        "outputId": "e72bf8d2-420a-456a-c3f5-47e62cc6bbc4"
      },
      "source": [
        "## This is lenghty (~17 mins)\n",
        "num_states = 8\n",
        "model = get_model(num_states)\n",
        "# the line below is commented out, but is an alternate way to initialise a model\n",
        "# model = frequencies(num_states)\n",
        "model = model.fit(features, lengths)"
      ],
      "execution_count": 42,
      "outputs": [
        {
          "output_type": "stream",
          "text": [
            "Initial parameter estimation using built-in method\n"
          ],
          "name": "stdout"
        }
      ]
    },
    {
      "cell_type": "code",
      "metadata": {
        "colab": {
          "base_uri": "https://localhost:8080/"
        },
        "id": "eOEmo7_gHYAX",
        "outputId": "6ff2ca04-4077-4f36-a533-135f297ec205"
      },
      "source": [
        "num_lines = 5\n",
        "for _i in range(num_lines):\n",
        "  random_len = 15\n",
        "  set_seed(_i)\n",
        "  symbols, _states = model.sample(random_len)\n",
        "\n",
        "  output = le.inverse_transform(np.squeeze(symbols))\n",
        "  for word in output:\n",
        "    print(word, end=\" \")\n",
        "  print()"
      ],
      "execution_count": 43,
      "outputs": [
        {
          "output_type": "stream",
          "text": [
            "some miniature of to had incurred uniforms ; the the the sky painter was had \n",
            "rd. do . december its organization this program lest and who realtors to , this \n",
            ", her coosa of by many john than healthy , , . of : dequindre \n",
            "simply kenny to blood-bought inquirer is christ more negro had receipts ? state-owned at up \n",
            "lyon some at '' half all with of he was was the . again given \n"
          ],
          "name": "stdout"
        }
      ]
    },
    {
      "cell_type": "markdown",
      "metadata": {
        "id": "dhNtXZISHYAX"
      },
      "source": [
        "### Useful links for Markov Models and HMM:\n",
        "\n",
        "[Markov Chain Text](https://towardsdatascience.com/simulating-text-with-markov-chains-in-python-1a27e6d13fc6)\n",
        "\n",
        "[Python QuantEcon: Finite Markov Chains with Finance](https://python.quantecon.org/finite_markov.html)\n",
        "\n",
        "[Markov Models from the ground up, with python](https://ericmjl.github.io/essays-on-data-science/machine-learning/markov-models/)\n",
        "\n",
        "[GenTex](https://github.com/nareshkumar66675/GenTex)\n",
        "\n",
        "[HMM learn](https://hmmlearn.readthedocs.io/en/latest/tutorial.html)"
      ]
    },
    {
      "cell_type": "markdown",
      "metadata": {
        "id": "GGQ0xBuPHYAX"
      },
      "source": [
        "## Think! 1: Transition probabilities \n",
        "\n",
        "***WAXER NOTE: Don't know where to put it***\n",
        "\n",
        "We have seen how we can use sequences of text to form probability chains, as well as how we can use out of the box models to generate text. In this exercise, you will be using your own data to generate sequences using ```hmmlearn``` or any other implementation of a markov model. Explore the transition probabilities in your corpus and generate sentences. For example, one such exploration can be - how does using a model with the word frequencies incorporated in compare to using a default model?\n",
        "\n",
        "Perform any one such comparison or exploration, and generate 3 sentences or 50 words using your model."
      ]
    },
    {
      "cell_type": "markdown",
      "metadata": {
        "id": "a8oAggvFHYAX"
      },
      "source": [
        "---\n",
        "# Section 2: Word Embeddings\n"
      ]
    },
    {
      "cell_type": "code",
      "metadata": {
        "cellView": "form",
        "colab": {
          "base_uri": "https://localhost:8080/",
          "height": 518
        },
        "id": "mpqq0jyXHYAY",
        "outputId": "49a6e491-770b-4fe2-fbda-7457321b656f"
      },
      "source": [
        "#@title Video 3: Textual Dimension Reduction\n",
        "# Insert the ID of the corresponding youtube video\n",
        "from IPython.display import YouTubeVideo\n",
        "video = YouTubeVideo(id=\"P_I2Ram6Tac\", width=854, height=480, fs=1)\n",
        "print(\"Video available at https://youtu.be/\" + video.id)\n",
        "video"
      ],
      "execution_count": 44,
      "outputs": [
        {
          "output_type": "stream",
          "text": [
            "Video available at https://youtu.be/P_I2Ram6Tac\n"
          ],
          "name": "stdout"
        },
        {
          "output_type": "execute_result",
          "data": {
            "text/html": [
              "\n",
              "        <iframe\n",
              "            width=\"854\"\n",
              "            height=\"480\"\n",
              "            src=\"https://www.youtube.com/embed/P_I2Ram6Tac?fs=1\"\n",
              "            frameborder=\"0\"\n",
              "            allowfullscreen\n",
              "        ></iframe>\n",
              "        "
            ],
            "text/plain": [
              "<IPython.lib.display.YouTubeVideo at 0x7fac7d9946d0>"
            ],
            "image/jpeg": "[encoded data removed]"
          },
          "metadata": {
            "tags": []
          },
          "execution_count": 44
        }
      ]
    },
    {
      "cell_type": "markdown",
      "metadata": {
        "id": "gRIRqrhRHYAY"
      },
      "source": [
        "\n",
        "Words or subword units such as morphemes are the basic units that we use to express meaning  in language. The technique of mapping words to vectors of real numbers is known as word embedding. \n",
        "\n",
        "Last week, we saw that one-hot word vectors cannot accurately express the similarity between different words. The cosine similarity between the one-hot vectors of any two different words is zero.\n",
        "\n",
        "This week, we will be using pretrained fastText embeddings, a context-oblivious embedding similar to word2vec. "
      ]
    },
    {
      "cell_type": "code",
      "metadata": {
        "cellView": "form",
        "colab": {
          "base_uri": "https://localhost:8080/"
        },
        "id": "ziSMDduNHYAY",
        "outputId": "9d4d6161-f225-484b-c097-63aeeeb43ba5"
      },
      "source": [
        "#@title Download FastText English Embeddings of dimension 100\n",
        "\n",
        "# 1d2fzekxTgDIA9LEYskPXT1sfccgAGmUF\n",
        "# file_id = '11qRoFOUiGnvM04ERcN_6Qn6O_dJ2KPLk'\n",
        "# destination = 'cc.en.100.bin.zip'\n",
        "# download_file_from_google_drive(file_id, destination)\n",
        "!wget -O cc.en.100.bin.gz https://osf.io/2frqg/download\n",
        "\n",
        "os.listdir('.')\n",
        "with zipfile.ZipFile('cc.en.100.bin.gz', 'r') as zip_ref:\n",
        "  zip_ref.extractall('.')"
      ],
      "execution_count": 45,
      "outputs": [
        {
          "output_type": "stream",
          "text": [
            "--2021-06-23 14:15:35--  https://osf.io/2frqg/download\n",
            "Resolving osf.io (osf.io)... 35.190.84.173\n",
            "Connecting to osf.io (osf.io)|35.190.84.173|:443... connected.\n",
            "HTTP request sent, awaiting response... 302 FOUND\n",
            "Location: https://files.osf.io/v1/resources/6aws8/providers/osfstorage/605ca633fbc4980091403080?action=download&direct&version=1 [following]\n",
            "--2021-06-23 14:15:37--  https://files.osf.io/v1/resources/6aws8/providers/osfstorage/605ca633fbc4980091403080?action=download&direct&version=1\n",
            "Resolving files.osf.io (files.osf.io)... 35.186.214.196\n",
            "Connecting to files.osf.io (files.osf.io)|35.186.214.196|:443... connected.\n",
            "HTTP request sent, awaiting response... 200 OK\n",
            "Length: 1512369270 (1.4G) [application/octet-stream]\n",
            "Saving to: ‘cc.en.100.bin.gz’\n",
            "\n",
            "cc.en.100.bin.gz    100%[===================>]   1.41G  37.4MB/s    in 39s     \n",
            "\n",
            "2021-06-23 14:16:17 (37.2 MB/s) - ‘cc.en.100.bin.gz’ saved [1512369270/1512369270]\n",
            "\n"
          ],
          "name": "stdout"
        }
      ]
    },
    {
      "cell_type": "code",
      "metadata": {
        "colab": {
          "base_uri": "https://localhost:8080/"
        },
        "id": "gWN0PEEZHYAY",
        "outputId": "9a66c47e-c7cc-4eb8-874a-c6cd5ab8d685"
      },
      "source": [
        "#####Load 100 dimension FastText Vectors using FastText library\n",
        "ft_en_vectors = fasttext.load_model('cc.en.100.bin')"
      ],
      "execution_count": 46,
      "outputs": [
        {
          "output_type": "stream",
          "text": [
            "Warning : `load_model` does not return WordVectorModel or SupervisedModel any more, but a `FastText` object which is very similar.\n"
          ],
          "name": "stderr"
        }
      ]
    },
    {
      "cell_type": "code",
      "metadata": {
        "colab": {
          "base_uri": "https://localhost:8080/"
        },
        "id": "1iT_6A6BHYAY",
        "outputId": "a395873a-9ac3-4253-928c-7c9cfc1bedb1"
      },
      "source": [
        "print(\"Length of the embedding is: \", len(ft_en_vectors.get_word_vector('king')))\n",
        "print(\"Embedding for the word King is: \", ft_en_vectors.get_word_vector('king'))"
      ],
      "execution_count": 47,
      "outputs": [
        {
          "output_type": "stream",
          "text": [
            "Length of the embedding is:  100\n",
            "Embedding for the word King is:  [-0.04045481 -0.10617249 -0.27222311  0.06879666  0.16408321  0.00276707\n",
            "  0.27080125 -0.05805573 -0.31865698  0.03748008 -0.00254088  0.13805169\n",
            " -0.00182498 -0.08973497  0.00319015 -0.19619396 -0.09858181 -0.10103802\n",
            " -0.08279888  0.0082208   0.13119364 -0.15956607  0.17203182  0.0315701\n",
            " -0.25064597  0.06182072  0.03929246  0.05157393  0.03543638  0.13660161\n",
            "  0.05473648  0.06072914 -0.04709269  0.17394426 -0.02101276 -0.11402624\n",
            " -0.24489872 -0.08576579 -0.00322696 -0.04509873 -0.00614253 -0.05772085\n",
            " -0.073414   -0.06718913 -0.06057961  0.10963406  0.1245006  -0.04819863\n",
            "  0.11408057  0.11081408  0.06752145 -0.01689911 -0.01186301 -0.11716368\n",
            " -0.01287614  0.10639337 -0.04243141  0.01057278 -0.0230855  -0.04930984\n",
            "  0.04717607  0.03696446  0.0015999  -0.02193867 -0.01331578  0.11102925\n",
            "  0.1686794   0.05814958 -0.00296521 -0.04252011 -0.00352389  0.06267346\n",
            " -0.07747819 -0.08959802 -0.02445797 -0.08913022  0.13422231  0.1258949\n",
            " -0.01296814  0.0531218  -0.00541025 -0.16908626  0.06323182 -0.11510128\n",
            " -0.08352032 -0.07224389  0.01023453  0.08263734 -0.03859017 -0.00798539\n",
            " -0.01498295  0.05448429  0.02708506  0.00549948  0.14634523 -0.12550676\n",
            "  0.04641578 -0.10164826  0.05370862  0.01217492]\n"
          ],
          "name": "stdout"
        }
      ]
    },
    {
      "cell_type": "markdown",
      "metadata": {
        "id": "AwQxdEQaHYAY"
      },
      "source": [
        "Cosine similarity is used for similarities between words. Similarity is a scalar between 0 and 1."
      ]
    },
    {
      "cell_type": "markdown",
      "metadata": {
        "id": "abwl8FnIHYAY"
      },
      "source": [
        "Now find the 10 most similar words to \"King\""
      ]
    },
    {
      "cell_type": "code",
      "metadata": {
        "colab": {
          "base_uri": "https://localhost:8080/"
        },
        "id": "BWLTK2TEHYAY",
        "outputId": "d61e00ad-5b0a-4341-f72f-ee4b2d226e15"
      },
      "source": [
        "ft_en_vectors.get_nearest_neighbors(\"king\", 10)  # Most similar by key"
      ],
      "execution_count": 48,
      "outputs": [
        {
          "output_type": "execute_result",
          "data": {
            "text/plain": [
              "[(0.8168574571609497, 'prince'),\n",
              " (0.796097457408905, 'emperor'),\n",
              " (0.7907207608222961, 'kings'),\n",
              " (0.7655220627784729, 'lord'),\n",
              " (0.7435404062271118, 'king-'),\n",
              " (0.7394551634788513, 'chieftain'),\n",
              " (0.7307553291320801, 'tyrant'),\n",
              " (0.7226710319519043, 'conqueror'),\n",
              " (0.719561755657196, 'kingly'),\n",
              " (0.718187689781189, 'queen')]"
            ]
          },
          "metadata": {
            "tags": []
          },
          "execution_count": 48
        }
      ]
    },
    {
      "cell_type": "markdown",
      "metadata": {
        "id": "aH-BNSZkHYAZ"
      },
      "source": [
        "### Word Similarity"
      ]
    },
    {
      "cell_type": "code",
      "metadata": {
        "cellView": "form",
        "colab": {
          "base_uri": "https://localhost:8080/",
          "height": 518
        },
        "id": "GLz40bv-HYAZ",
        "outputId": "5c5504d5-7dfd-4be7-a0ff-24e28dd255c7"
      },
      "source": [
        "#@title Video 4: Semantic Measurements\n",
        "# Insert the ID of the corresponding youtube video\n",
        "from IPython.display import YouTubeVideo\n",
        "video = YouTubeVideo(id=\"djxZMSm7h2k\", width=854, height=480, fs=1)\n",
        "print(\"Video available at https://youtu.be/\" + video.id)\n",
        "video"
      ],
      "execution_count": 49,
      "outputs": [
        {
          "output_type": "stream",
          "text": [
            "Video available at https://youtu.be/djxZMSm7h2k\n"
          ],
          "name": "stdout"
        },
        {
          "output_type": "execute_result",
          "data": {
            "text/html": [
              "\n",
              "        <iframe\n",
              "            width=\"854\"\n",
              "            height=\"480\"\n",
              "            src=\"https://www.youtube.com/embed/djxZMSm7h2k?fs=1\"\n",
              "            frameborder=\"0\"\n",
              "            allowfullscreen\n",
              "        ></iframe>\n",
              "        "
            ],
            "text/plain": [
              "<IPython.lib.display.YouTubeVideo at 0x7fac7da1af50>"
            ],
            "image/jpeg": "[encoded data removed]"
          },
          "metadata": {
            "tags": []
          },
          "execution_count": 49
        }
      ]
    },
    {
      "cell_type": "markdown",
      "metadata": {
        "id": "RxnWVIlPHYAZ"
      },
      "source": [
        "More on similarity between words. Let's check how similar different pairs of word are. Feel free to play around.\n",
        "\n"
      ]
    },
    {
      "cell_type": "code",
      "metadata": {
        "colab": {
          "base_uri": "https://localhost:8080/"
        },
        "id": "n_2l7uQfHYAZ",
        "outputId": "189c5174-6575-472b-b90d-9ba612d03ddb"
      },
      "source": [
        "def getSimilarity(word1, word2):\n",
        "  v1 = ft_en_vectors.get_word_vector(word1)\n",
        "  v2 = ft_en_vectors.get_word_vector(word2)\n",
        "  return cosine_similarity(v1, v2)\n",
        "\n",
        "print(\"Similarity between the words King and Queen: \", getSimilarity(\"king\", \"queen\"))\n",
        "print(\"Similarity between the words King and Knight: \", getSimilarity(\"king\", \"knight\"))\n",
        "print(\"Similarity between the words King and Rock: \", getSimilarity(\"king\", \"rock\"))\n",
        "print(\"Similarity between the words King and Twenty: \", getSimilarity(\"king\", \"twenty\"))\n",
        "\n",
        "## Try the same for two more pairs\n",
        "# print(\"Similarity between the words ___ and ___: \", getSimilarity(...))\n",
        "# print(\"Similarity between the words ___ and ___: \", getSimilarity(...))\n",
        "\n",
        "# print(\"Similarity between the words ___ and ___: \", getSimilarity(...))\n",
        "# print(\"Similarity between the words ___ and ___: \", getSimilarity(...))"
      ],
      "execution_count": 50,
      "outputs": [
        {
          "output_type": "stream",
          "text": [
            "Similarity between the words King and Queen:  0.71818775\n",
            "Similarity between the words King and Knight:  0.6881009\n",
            "Similarity between the words King and Rock:  0.28928387\n",
            "Similarity between the words King and Twenty:  0.19655468\n"
          ],
          "name": "stdout"
        }
      ]
    },
    {
      "cell_type": "markdown",
      "metadata": {
        "id": "ichT5RiPHYAZ"
      },
      "source": [
        "### Homonym Words"
      ]
    },
    {
      "cell_type": "markdown",
      "metadata": {
        "id": "8x5MMGH3HYAZ"
      },
      "source": [
        "Find the similarity for homonyms with their different meanings. The first one has been implemented for you."
      ]
    },
    {
      "cell_type": "code",
      "metadata": {
        "colab": {
          "base_uri": "https://localhost:8080/"
        },
        "id": "-txcvY3JHYAZ",
        "outputId": "b6bbc55e-2aa9-4b3b-a2e9-283ae4018619"
      },
      "source": [
        "#######################     Words with multiple meanings     ##########################\n",
        "print(\"Similarity between the words Cricket and Insect: \", getSimilarity(\"cricket\", \"insect\"))\n",
        "print(\"Similarity between the words Cricket and Sport: \", getSimilarity(\"cricket\", \"sport\"))\n",
        "\n",
        "## Try the same for two more pairs\n",
        "# print(\"Similarity between the words ___ and ___: \", getSimilarity(...))\n",
        "# print(\"Similarity between the words ___ and ___: \", getSimilarity(...))\n",
        "\n",
        "# print(\"Similarity between the words ___ and ___: \", getSimilarity(...))\n",
        "# print(\"Similarity between the words ___ and ___: \", getSimilarity(...))"
      ],
      "execution_count": 51,
      "outputs": [
        {
          "output_type": "stream",
          "text": [
            "Similarity between the words Cricket and Insect:  0.40722153\n",
            "Similarity between the words Cricket and Sport:  0.58123744\n"
          ],
          "name": "stdout"
        }
      ]
    },
    {
      "cell_type": "markdown",
      "metadata": {
        "id": "c0SpMTr7HYAa"
      },
      "source": [
        "### Word Analogies"
      ]
    },
    {
      "cell_type": "markdown",
      "metadata": {
        "id": "4BA66C1AHYAa"
      },
      "source": [
        "Embeddings can be used to find word analogies.\n",
        "Let's try it:\n",
        "1.   Man : Woman  ::  King : _____\n",
        "2.  Germany: Berlin :: France : ______\n",
        "3.  Leaf : Tree  ::  Petal : _____\n",
        "\n",
        "\n",
        "\n"
      ]
    },
    {
      "cell_type": "code",
      "metadata": {
        "colab": {
          "base_uri": "https://localhost:8080/"
        },
        "id": "BzO97ba_HYAa",
        "outputId": "3e9b4df6-e241-4c85-cc81-e50bbbf20dbc"
      },
      "source": [
        "## Use get_analogies() funnction. The words have to be in the order Positive, negative,  Positve\n",
        "\n",
        "# Man : Woman  ::  King : _____\n",
        "# Positive=(woman, king), Negative=(man)\n",
        "print(ft_en_vectors.get_analogies(\"woman\", \"man\", \"king\",1))\n",
        "\n",
        "# Germany: Berlin :: France : ______\n",
        "# Positive=(berlin, frannce), Negative=(germany)\n",
        "print(ft_en_vectors.get_analogies(\"berlin\", \"germany\", \"france\",1))\n",
        "\n",
        "# Leaf : Tree  ::  Petal : _____\n",
        "# Positive=(tree, petal), Negative=(leaf)\n",
        "print(ft_en_vectors.get_analogies(\"tree\", \"leaf\", \"petal\",1))\n",
        "\n",
        "# Hammer : Nail  ::  Comb : _____\n",
        "# Positive=(nail, comb), Negative=(hammer)\n",
        "print(ft_en_vectors.get_analogies(\"nail\", \"hammer\", \"comb\",1))"
      ],
      "execution_count": 52,
      "outputs": [
        {
          "output_type": "stream",
          "text": [
            "[(0.8162637948989868, 'queen')]\n",
            "[(0.8568049669265747, 'paris')]\n",
            "[(0.7037209272384644, 'flower')]\n",
            "[(0.6908746361732483, 'hair')]\n"
          ],
          "name": "stdout"
        }
      ]
    },
    {
      "cell_type": "markdown",
      "metadata": {
        "id": "YdIZDcCpHYAa"
      },
      "source": [
        "But, does it always work?\n",
        "\n",
        "\n",
        "1.   Poverty : Wealth  :: Sickness : _____\n",
        "2.   train : board :: horse : _____"
      ]
    },
    {
      "cell_type": "code",
      "metadata": {
        "colab": {
          "base_uri": "https://localhost:8080/"
        },
        "id": "QhIMV38uHYAa",
        "outputId": "986b9dbd-f96b-44ab-f7aa-143c9d29f33e"
      },
      "source": [
        "# Poverty : Wealth  :: Sickness : _____\n",
        "print(ft_en_vectors.get_analogies(\"wealth\", \"poverty\", \"sickness\",1))\n",
        "\n",
        "# train : board :: horse : _____\n",
        "print(ft_en_vectors.get_analogies(\"board\", \"train\", \"horse\",1))"
      ],
      "execution_count": 53,
      "outputs": [
        {
          "output_type": "stream",
          "text": [
            "[(0.615874171257019, 'affliction')]\n",
            "[(0.5437814593315125, 'bull')]\n"
          ],
          "name": "stdout"
        }
      ]
    },
    {
      "cell_type": "markdown",
      "metadata": {
        "id": "-Z3mpbTLHYAa"
      },
      "source": [
        "###Section 2.1: Multilingual Embeddings\n",
        "\n",
        "Traditionally, word embeddings have been lnaguage-specific, with embeddings for each language trained separately and existing in entirely different vector spaces. But, what if we wanted to compare words in one language to another language? Say, we want to create a text classifier with a corpus consisting of English and Spanish words. \n",
        "\n",
        "We use the multilingual word embeddings provided in fastText. More information can be found [here](https://engineering.fb.com/2018/01/24/ml-applications/under-the-hood-multilingual-embeddings/).\n",
        "\n",
        "#### Training multilingual embeddings\n",
        "We first train separate embeddings for each language using fastText and a combination of data from Facebook and Wikipedia. Then, we find a dictionary of common words between the two languages. The dictionaries are automatically induced from parallel data - datasets that consist of a pair of sentences in two different languages that have the same meaning. \n",
        "\n",
        "Then, we find a matrix that projects the embeddings into a common space between the given languages. The matrix is designed to minimize the distance between a word $x_i$ and its projection $y_i$. If our dictionary consists of pairs $(x_i, y_i)$, our projector $M$ would be: \n",
        "\n",
        "$$M = \\text{argmin}_W\\sum_i ||x_i - Wy_ii||^2$$\n",
        "\n",
        "Also, the projector matrix $W$ is constrained to e orthogonal so that original distances between word embedding vectors are preserved. Multilingual models are trained by using our multilingual word embeddings as the base representations in DeepText and “freezing” them, or leaving them unchanged during the training process. \n",
        "\n",
        "\n",
        "After going through this, try to replicate the above exercises but in different languages! \n"
      ]
    },
    {
      "cell_type": "code",
      "metadata": {
        "cellView": "form",
        "colab": {
          "base_uri": "https://localhost:8080/"
        },
        "id": "W8i4ooqpHYAa",
        "outputId": "22ebbb9a-e5fc-44bd-e97d-b25a21c1baa0"
      },
      "source": [
        "#@title Download FastText French Embeddings of dimension 100\n",
        "\n",
        "!wget -O cc.fr.100.bin.gz https://osf.io/6tqvp/download\n",
        "\n",
        "with zipfile.ZipFile('cc.fr.100.bin.gz', 'r') as zip_ref:\n",
        "    zip_ref.extractall('.')"
      ],
      "execution_count": 54,
      "outputs": [
        {
          "output_type": "stream",
          "text": [
            "--2021-06-23 14:16:58--  https://osf.io/6tqvp/download\n",
            "Resolving osf.io (osf.io)... 35.190.84.173\n",
            "Connecting to osf.io (osf.io)|35.190.84.173|:443... connected.\n",
            "HTTP request sent, awaiting response... 302 FOUND\n",
            "Location: https://files.osf.io/v1/resources/6aws8/providers/osfstorage/605ca6421a175b009644f2c1?action=download&direct&version=1 [following]\n",
            "--2021-06-23 14:16:59--  https://files.osf.io/v1/resources/6aws8/providers/osfstorage/605ca6421a175b009644f2c1?action=download&direct&version=1\n",
            "Resolving files.osf.io (files.osf.io)... 35.186.214.196\n",
            "Connecting to files.osf.io (files.osf.io)|35.186.214.196|:443... connected.\n",
            "HTTP request sent, awaiting response... 200 OK\n",
            "Length: 1509233727 (1.4G) [application/octet-stream]\n",
            "Saving to: ‘cc.fr.100.bin.gz’\n",
            "\n",
            "cc.fr.100.bin.gz    100%[===================>]   1.41G  36.8MB/s    in 39s     \n",
            "\n",
            "2021-06-23 14:17:38 (37.1 MB/s) - ‘cc.fr.100.bin.gz’ saved [1509233727/1509233727]\n",
            "\n"
          ],
          "name": "stdout"
        }
      ]
    },
    {
      "cell_type": "code",
      "metadata": {
        "colab": {
          "base_uri": "https://localhost:8080/"
        },
        "id": "ZbgRCXeLHYAb",
        "outputId": "3ce3d46c-7eab-4d70-9dab-c453f0350d7a"
      },
      "source": [
        "#####Load 100 dimension FastText Vectors using FastText library\n",
        "french = fasttext.load_model('cc.fr.100.bin')"
      ],
      "execution_count": 55,
      "outputs": [
        {
          "output_type": "stream",
          "text": [
            "Warning : `load_model` does not return WordVectorModel or SupervisedModel any more, but a `FastText` object which is very similar.\n"
          ],
          "name": "stderr"
        }
      ]
    },
    {
      "cell_type": "markdown",
      "metadata": {
        "id": "5bk3Xz7DHYAb"
      },
      "source": [
        "First, we take a look at the cosine similarity between different languages without projecting them into the same vector space. As you can see, the same words seem to be close to $0$ cosine similarity in different languages - so neither similar nor dissimilar. "
      ]
    },
    {
      "cell_type": "code",
      "metadata": {
        "colab": {
          "base_uri": "https://localhost:8080/"
        },
        "id": "AloEcaz2HYAb",
        "outputId": "7c254ce6-03d2-4554-d52e-65676b348b46"
      },
      "source": [
        "hello = ft_en_vectors.get_word_vector('hello')\n",
        "hi = ft_en_vectors.get_word_vector('hi')\n",
        "bonjour = french.get_word_vector('bonjour')\n",
        "\n",
        "print(\"Cosine Similarity between HI and HELLO: {}\".format(cosine_similarity(hello, hi)))\n",
        "print(\"Cosine Similarity between BONJOUR and HELLO: {}\".format(cosine_similarity(hello, bonjour)))"
      ],
      "execution_count": 56,
      "outputs": [
        {
          "output_type": "stream",
          "text": [
            "Cosine Similarity between HI and HELLO: 0.7028388977050781\n",
            "Cosine Similarity between BONJOUR and HELLO: 0.20523205399513245\n"
          ],
          "name": "stdout"
        }
      ]
    },
    {
      "cell_type": "code",
      "metadata": {
        "colab": {
          "base_uri": "https://localhost:8080/"
        },
        "id": "BDVoHiNzHYAb",
        "outputId": "55022fa3-c6fe-4284-9d6e-7458a7b449c0"
      },
      "source": [
        "cat = ft_en_vectors.get_word_vector('cat')\n",
        "chatte = french.get_word_vector('chatte')\n",
        "chat = french.get_word_vector('chat')\n",
        "\n",
        "print(\"Cosine Similarity between cat and chatte: {}\".format(cosine_similarity(cat, chatte)))\n",
        "print(\"Cosine Similarity between cat and chat: {}\".format(cosine_similarity(cat, chat)))\n",
        "print(\"Cosine Similarity between chatte and chat: {}\".format(cosine_similarity(chatte, chat)))"
      ],
      "execution_count": 57,
      "outputs": [
        {
          "output_type": "stream",
          "text": [
            "Cosine Similarity between cat and chatte: -0.013087842613458633\n",
            "Cosine Similarity between cat and chat: -0.02490561455488205\n",
            "Cosine Similarity between chatte and chat: 0.6003134250640869\n"
          ],
          "name": "stdout"
        }
      ]
    },
    {
      "cell_type": "markdown",
      "metadata": {
        "id": "ZbyIjvJTHYAb"
      },
      "source": [
        "First, let's define a list of words that are in common between English and French. We'll be using this to make our training matrices. "
      ]
    },
    {
      "cell_type": "code",
      "metadata": {
        "id": "VGFw0FPYHYAb"
      },
      "source": [
        "en_words = set(ft_en_vectors.words)\n",
        "fr_words = set(french.words)\n",
        "overlap = list(en_words & fr_words)\n",
        "bilingual_dictionary = [(entry, entry) for entry in overlap]"
      ],
      "execution_count": 58,
      "outputs": []
    },
    {
      "cell_type": "markdown",
      "metadata": {
        "id": "31IUy9fbHYAb"
      },
      "source": [
        "We define a few functions to make our lives a bit easier: `make_training_matrices` takes in the source words, target language words, and the set of common words. It then creates a matrix of all the word embeddings of all common words between the languages (in each language). These are our training matrices. \n",
        "\n",
        "The function `learn_transformation` then takes in these matrices, normalizes them, and then performs SVD, which aligns the source language to the target and returns a transformation matrix. "
      ]
    },
    {
      "cell_type": "code",
      "metadata": {
        "id": "UMIKLi6dHYAb"
      },
      "source": [
        "def make_training_matrices(source_dictionary, target_dictionary, bilingual_dictionary):\n",
        "  source_matrix = []\n",
        "  target_matrix = []\n",
        "\n",
        "  for (source, target) in tqdm(bilingual_dictionary):\n",
        "    source_matrix.append(source_dictionary.get_word_vector(source))\n",
        "    target_matrix.append(target_dictionary.get_word_vector(target))\n",
        "\n",
        "  return np.array(source_matrix), np.array(target_matrix)\n",
        "\n",
        "\n",
        "# from https://stackoverflow.com/questions/21030391/how-to-normalize-array-numpy\n",
        "def normalized(a, axis=-1, order=2):\n",
        "    \"\"\"Utility function to normalize the rows of a numpy array.\"\"\"\n",
        "    l2 = np.atleast_1d(np.linalg.norm(a, order, axis))\n",
        "    l2[l2==0] = 1\n",
        "    return a / np.expand_dims(l2, axis)\n",
        "\n",
        "\n",
        "def learn_transformation(source_matrix, target_matrix, normalize_vectors=True):\n",
        "  \"\"\"\n",
        "  Source and target matrices are numpy arrays, shape\n",
        "  (dictionary_length, embedding_dimension). These contain paired\n",
        "  word vectors from the bilingual dictionary.\n",
        "  \"\"\"\n",
        "  # optionally normalize the training vectors\n",
        "  if normalize_vectors:\n",
        "      source_matrix = normalized(source_matrix)\n",
        "      target_matrix = normalized(target_matrix)\n",
        "\n",
        "  # perform the SVD\n",
        "  product = np.matmul(source_matrix.transpose(), target_matrix)\n",
        "  U, s, V = np.linalg.svd(product)\n",
        "\n",
        "  # return orthogonal transformation which aligns source language to the target\n",
        "  return np.matmul(U, V)"
      ],
      "execution_count": 59,
      "outputs": []
    },
    {
      "cell_type": "markdown",
      "metadata": {
        "id": "dOp2xFhGHYAc"
      },
      "source": [
        "Now, we just have to put it all together! "
      ]
    },
    {
      "cell_type": "code",
      "metadata": {
        "colab": {
          "base_uri": "https://localhost:8080/",
          "height": 66,
          "referenced_widgets": [
            "0e65ec843aa24fcd89a6e577f9266ae1",
            "565e9735515d45fbb2de3bfcf0d154b0",
            "edd3a1e7f4c944c98866b6864f93cb86",
            "647da6e6455b41dfa207bbe19aa434e4",
            "d4d0cb411a6948d0a81c10446aba2fcd",
            "1dc3ee4863ae470d83dadbf573e45084",
            "20be1b2381324516a9e178e0a41f6205",
            "5dda9d032c5e4f1d8a9e88561cfac96d"
          ]
        },
        "id": "CKhsukwXHYAc",
        "outputId": "12500fc4-1f82-4689-ea4b-f350de349242"
      },
      "source": [
        "source_training_matrix, target_training_matrix = make_training_matrices(ft_en_vectors, french, bilingual_dictionary)"
      ],
      "execution_count": 60,
      "outputs": [
        {
          "output_type": "display_data",
          "data": {
            "application/vnd.jupyter.widget-view+json": {
              "model_id": "0e65ec843aa24fcd89a6e577f9266ae1",
              "version_minor": 0,
              "version_major": 2
            },
            "text/plain": [
              "HBox(children=(FloatProgress(value=0.0, max=612423.0), HTML(value='')))"
            ]
          },
          "metadata": {
            "tags": []
          }
        },
        {
          "output_type": "stream",
          "text": [
            "\n"
          ],
          "name": "stdout"
        }
      ]
    },
    {
      "cell_type": "code",
      "metadata": {
        "id": "UucqnNXaHYAc"
      },
      "source": [
        "transform = learn_transformation(source_training_matrix, target_training_matrix)"
      ],
      "execution_count": 61,
      "outputs": []
    },
    {
      "cell_type": "markdown",
      "metadata": {
        "id": "8hOSJYZsHYAc"
      },
      "source": [
        "Let's run the same examples as above, but this time, whenever we use French words, matrix multiply the embedding by the transpose of the transform matrix. That works a lot better! "
      ]
    },
    {
      "cell_type": "code",
      "metadata": {
        "colab": {
          "base_uri": "https://localhost:8080/"
        },
        "id": "8r7xmDZxHYAc",
        "outputId": "0982c2fb-d7be-4fb2-db6a-15818b17e374"
      },
      "source": [
        "hello = ft_en_vectors.get_word_vector('hello')\n",
        "hi = ft_en_vectors.get_word_vector('hi')\n",
        "bonjour = np.matmul(french.get_word_vector('bonjour'), transform.T)\n",
        "\n",
        "print(\"Cosine Similarity between HI and HELLO: {}\".format(cosine_similarity(hello, hi)))\n",
        "print(\"Cosine Similarity between BONJOUR and HELLO: {}\".format(cosine_similarity(hello, bonjour)))"
      ],
      "execution_count": 62,
      "outputs": [
        {
          "output_type": "stream",
          "text": [
            "Cosine Similarity between HI and HELLO: 0.7028388977050781\n",
            "Cosine Similarity between BONJOUR and HELLO: 0.5818607807159424\n"
          ],
          "name": "stdout"
        }
      ]
    },
    {
      "cell_type": "code",
      "metadata": {
        "colab": {
          "base_uri": "https://localhost:8080/"
        },
        "id": "ITnauzNtHYAc",
        "outputId": "5ed22d4f-947b-4d10-972c-e4393b6f8396"
      },
      "source": [
        "cat = ft_en_vectors.get_word_vector('cat')\n",
        "chatte = np.matmul(french.get_word_vector('chatte'), transform.T)\n",
        "chat = np.matmul(french.get_word_vector('chat'), transform.T)\n",
        "\n",
        "print(\"Cosine Similarity between cat and chatte: {}\".format(cosine_similarity(cat, chatte)))\n",
        "print(\"Cosine Similarity between cat and chat: {}\".format(cosine_similarity(cat, chat)))\n",
        "print(\"Cosine Similarity between chatte and chat: {}\".format(cosine_similarity(chatte, chat)))"
      ],
      "execution_count": 63,
      "outputs": [
        {
          "output_type": "stream",
          "text": [
            "Cosine Similarity between cat and chatte: 0.4327274560928345\n",
            "Cosine Similarity between cat and chat: 0.6866634488105774\n",
            "Cosine Similarity between chatte and chat: 0.6003133654594421\n"
          ],
          "name": "stdout"
        }
      ]
    },
    {
      "cell_type": "code",
      "metadata": {
        "cellView": "form",
        "colab": {
          "base_uri": "https://localhost:8080/"
        },
        "id": "wOe3TywQHYAc",
        "outputId": "d63b863f-61b6-4872-bc7c-5a7d87005eeb"
      },
      "source": [
        "# @markdown Clean Up of Previous Files (MUST RUN THIS CELL)\n",
        "!rm cc.en.100.bin.zip\n",
        "!rm cc.fr.100.bin.gz\n",
        "!rm cc.en.100.bin\n",
        "!rm cc.fr.100.bin"
      ],
      "execution_count": 64,
      "outputs": [
        {
          "output_type": "stream",
          "text": [
            "rm: cannot remove 'cc.en.100.bin.zip': No such file or directory\n"
          ],
          "name": "stdout"
        }
      ]
    },
    {
      "cell_type": "markdown",
      "metadata": {
        "id": "C7v2jzIOHYAd"
      },
      "source": [
        "## Section 2.2: Creating Word Embeddings\n",
        "\n",
        "We will create embeddings for a subset of categories in [Brown corpus](https://www1.essex.ac.uk/linguistics/external/clmt/w3c/corpus_ling/content/corpora/list/private/brown/brown.html).  In order to achieve this task we will use [gensim](https://radimrehurek.com/gensim/) library to create word2vec embeddings. Gensim’s word2vec expects a sequence of sentences as its input. Each sentence is a list of words.\n",
        "Calling `Word2Vec(sentences, iter=1)` will run two passes over the sentences iterator (or, in general iter+1 passes). The first pass collects words and their frequencies to build an internal dictionary tree structure. The second and subsequent passes train the neural model. \n",
        "`Word2vec` accepts several parameters that affect both training speed and quality.\n",
        "\n",
        "One of them is for pruning the internal dictionary. Words that appear only once or twice in a billion-word corpus are probably uninteresting typos and garbage. In addition, there’s not enough data to make any meaningful training on those words, so it’s best to ignore them:\n",
        "\n",
        "`model = Word2Vec(sentences, min_count=10)  # default value is 5`\n",
        "\n",
        "\n",
        "A reasonable value for min_count is between 0-100, depending on the size of your dataset.\n",
        "\n",
        "Another parameter is the size of the NN layers, which correspond to the “degrees” of freedom the training algorithm has:\n",
        "\n",
        "`model = Word2Vec(sentences, size=200)  # default value is 100`\n",
        "\n",
        "\n",
        "Bigger size values require more training data, but can lead to better (more accurate) models. Reasonable values are in the tens to hundreds.\n",
        "\n",
        "The last of the major parameters (full list [here](https://radimrehurek.com/gensim/models/word2vec.html#gensim.models.word2vec.Word2Vec)) is for training parallelization, to speed up training:\n",
        "\n",
        "`model = Word2Vec(sentences, workers=4) # default = 1 worker = no parallelization`"
      ]
    },
    {
      "cell_type": "code",
      "metadata": {
        "id": "RUCiff4SHYAd"
      },
      "source": [
        "category = ['editorial', 'fiction', 'government', 'mystery', 'news', 'religion',\n",
        "            'reviews', 'romance', 'science_fiction']"
      ],
      "execution_count": 65,
      "outputs": []
    },
    {
      "cell_type": "code",
      "metadata": {
        "id": "tIEDRgJNHYAd"
      },
      "source": [
        "def create_word2vec_model(category='news', size=50, sg=1, min_count=5):\n",
        "  try:\n",
        "    sentences = brown.sents(categories=category)\n",
        "    model = Word2Vec(sentences, vector_size=size, sg=sg, min_count=min_count)\n",
        "\n",
        "  except (AttributeError, TypeError):\n",
        "      raise AssertionError('Input variable \"category\" should be a string or list,'\n",
        "      '\"size\", \"sg\", \"min_count\" should be integers')\n",
        "\n",
        "  return model\n",
        "\n",
        "def model_dictionary(model):\n",
        "  words = list(w2vmodel.wv.key_to_index)\n",
        "  return words\n",
        "\n",
        "def get_embedding(word, model):\n",
        "  if word in w2vmodel.wv.key_to_index:\n",
        "    return model.wv[word]\n",
        "  else:\n",
        "    return None"
      ],
      "execution_count": 66,
      "outputs": []
    },
    {
      "cell_type": "code",
      "metadata": {
        "id": "07woldvYHYAd"
      },
      "source": [
        "all_categories = brown.categories()"
      ],
      "execution_count": 67,
      "outputs": []
    },
    {
      "cell_type": "code",
      "metadata": {
        "colab": {
          "base_uri": "https://localhost:8080/"
        },
        "id": "5kpyH0FIHYAd",
        "outputId": "d7716c07-b961-4756-8b23-cfc1609988d8"
      },
      "source": [
        "all_categories"
      ],
      "execution_count": 68,
      "outputs": [
        {
          "output_type": "execute_result",
          "data": {
            "text/plain": [
              "['adventure',\n",
              " 'belles_lettres',\n",
              " 'editorial',\n",
              " 'fiction',\n",
              " 'government',\n",
              " 'hobbies',\n",
              " 'humor',\n",
              " 'learned',\n",
              " 'lore',\n",
              " 'mystery',\n",
              " 'news',\n",
              " 'religion',\n",
              " 'reviews',\n",
              " 'romance',\n",
              " 'science_fiction']"
            ]
          },
          "metadata": {
            "tags": []
          },
          "execution_count": 68
        }
      ]
    },
    {
      "cell_type": "code",
      "metadata": {
        "id": "vE5EaeE8HYAd"
      },
      "source": [
        "w2vmodel = create_word2vec_model(all_categories)"
      ],
      "execution_count": 69,
      "outputs": []
    },
    {
      "cell_type": "code",
      "metadata": {
        "colab": {
          "base_uri": "https://localhost:8080/"
        },
        "id": "Hqonp7L7HYAd",
        "outputId": "6c65b10f-60c8-4571-ddf6-2d1c7aea64f8"
      },
      "source": [
        "print(model_dictionary(w2vmodel))"
      ],
      "execution_count": 70,
      "outputs": [
        {
          "output_type": "stream",
          "text": [
            "['the', ',', '.', 'of', 'and', 'to', 'a', 'in', 'that', 'is', 'was', 'for', '``', \"''\", 'The', 'with', 'it', 'as', 'he', 'his', 'on', 'be', ';', 'I', 'by', 'had', 'at', '?', 'not', 'are', 'from', 'or', 'this', 'have', 'an', 'which', '--', 'were', 'but', 'He', 'her', 'one', 'they', 'you', 'all', 'would', 'him', 'their', 'been', ')', '(', 'has', 'will', 'who', 'more', 'out', 'It', 'we', 'she', 'said', 'there', 'up', 'In', ':', 'than', 'them', 'into', 'no', 'its', 'about', 'so', 'when', 'can', 'only', 'other', '!', 'could', 'time', 'if', 'what', 'some', 'But', 'A', 'two', 'any', 'may', 'do', 'first', 'like', 'these', 'over', 'such', 'This', 'me', 'my', 'man', 'our', 'made', 'new', 'most', 'now', 'then', 'must', 'also', 'Af', 'did', 'even', 'back', 'before', 'years', 'through', 'And', 'many', 'She', 'much', 'way', 'down', 'your', 'should', 'There', 'where', 'They', 'Mr.', 'after', 'because', 'people', 'too', 'little', 'those', 'very', 'own', 'make', 'good', 'each', 'well', 'work', 'just', 'men', 'If', 'still', 'see', 'get', 'between', 'long', 'being', 'world', 'know', 'same', 'We', 'life', 'us', 'might', 'never', 'year', 'under', 'For', 'both', 'last', 'off', 'how', 'day', 'came', 'against', 'used', 'great', 'here', 'go', 'himself', 'right', 'come', 'When', 'few', 'take', 'New', 'another', 'American', 'old', 'use', 'while', 'around', 'three', 'As', 'state', 'without', 'found', 'again', 'Mrs.', 'His', 'place', '1', 'home', 'You', 'small', 'thought', 'went', 'say', 'upon', 'What', 'left', 'got', 'number', 'part', 'course', 'United', 'high', 'since', 'during', 'away', 'always', 'fact', '2', 'does', 'States', 'every', 'until', 'water', 'think', 'less', 'enough', 'To', 'took', 'put', 'head', 'something', 'One', 'hand', 'school', 'once', 'told', 'far', 'At', 'set', 'almost', 'better', 'public', 'house', 'end', 'night', 'called', 'find', 'knew', 'system', \"didn't\", 'going', 'eyes', \"don't\", 'asked', 'however', 'group', 'toward', 'give', 'days', 'though', 'point', 'possible', 'program', 'given', 'face', 'per', 'present', 'side', 'looked', 'room', 'important', 'look', 'order', 'business', 'next', 'things', 'John', 'become', 'young', 'No', 'nothing', 'That', 'felt', 'later', 'social', 'Then', 'case', 'rather', 'large', 'need', 'form', 'saw', 'often', 'On', 'These', 'least', 'children', 'along', 'best', 'second', 'several', 'seemed', 'early', 'ever', 'Of', 'thing', 'want', 'power', 'four', 'mind', 'interest', 'within', 'turned', 'light', 'area', \"'\", 'done', 'big', 'among', 'problem', 'members', 'country', 'began', 'door', 'family', 'general', 'sense', 'development', 'kind', 'whole', 'different', 'matter', 'open', 'war', 'itself', 'certain', 'help', 'York', 'God', 'human', 'others', 'let', 'name', 'means', '3', 'action', 'example', 'hands', 'gave', 'yet', 'feet', 'line', 'taken', 'law', 'With', 'past', 'seen', 'All', 'above', 'across', 'local', 'either', 'experience', 'government', 'show', 'quite', 'car', 'themselves', 'words', 'Now', \"I'm\", 'body', 'history', 'really', 'anything', 'times', 'death', 'period', 'State', 'half', 'word', 'together', 'city', 'held', 'money', 'information', 'whether', 'cannot', 'having', 'already', 'week', 'President', 'shall', 'white', 'political', 'brought', 'making', 'seems', 'real', 'question', 'whose', 'keep', 'ago', 'moment', 'today', 'After', 'tell', 'known', 'service', 'became', 'behind', 'field', 'result', 'free', 'five', 'why', 'available', 'problems', 'heard', 'sure', 'reason', 'study', 'position', 'change', 'probably', 'job', 'boy', 'areas', 'individual', 'special', 'Miss', 'So', 'close', 'seem', 'major', 'wife', 'wanted', 'turn', 'am', 'full', 'church', 'cost', 'necessary', 'policy', 'voice', 'economic', 'clear', 'company', 'air', 'woman', 'true', 'front', 'able', 'feel', 'age', 'future', 'perhaps', 'community', 'office', 'provide', 'love', 'effect', 'national', 'level', 'stood', 'Some', 'girl', 'How', 'child', 'rate', 'total', 'control', 'common', 'morning', 'short', '4', 'Washington', 'run', 'following', 'students', 'million', 'By', 'sound', 'evidence', 'town', 'force', 'value', 'mean', 'hard', 'believe', 'top', 'land', 'leave', 'surface', 'although', 'An', 'play', 'type', 'situation', 'plan', 'six', 'military', 'process', 'various', 'English', 'party', 'started', 'increase', 'lines', 'says', 'strong', 'further', 'music', 'America', 'minutes', 'idea', 'longer', 'Dr.', 'personal', 'society', 'House', 'tax', 'alone', 'mother', 'near', 'schools', 'outside', 'gone', 'usually', 'months', 'General', 'center', 'needed', 'Not', 'West', 'private', 'expected', 'kept', 'nature', 'values', 'Even', 'living', 'century', 'pressure', 'basis', 'ground', 'art', 'view', 'women', \"I'll\", 'wrote', 'required', 'greater', 'South', 'call', 'moved', 'modern', 'cut', 'conditions', 'complete', 'road', 'particular', 'return', 'support', 'attention', 'book', 'soon', 'else', 'education', 'live', 'material', 'late', \"couldn't\", 'lost', 'Since', 'stage', 'hours', 'single', 'followed', 'amount', '1960', 'costs', 'except', 'added', 'third', 'space', 'hundred', 'coming', 'However', 'board', 'dark', 'including', 'fire', 'tried', 'person', 'heart', 'miles', 'pay', 'reached', 'developed', 'move', 'feeling', 'act', 'recent', 'makes', 'read', 'shown', 'Thus', 'figure', 'simply', 'dead', 'hope', 'class', 'Department', 'St.', 'equipment', 'From', 'National', 'received', 'taking', 'basic', '&', 'doing', 'college', 'looking', 'trying', 'everything', 'sometimes', 'Why', 'inside', 'hold', 'picture', 'cold', 'sort', 'industry', 'U.S.', 'data', 'rest', 'spirit', \"It's\", 'low', 'father', 'terms', 'difficult', 'care', 'War', 'walked', 'nor', 'beginning', 'subject', 'states', 'getting', 'religious', 'passed', 'My', 'floor', 'beyond', 'bring', 'especially', 'black', 'therefore', 'cent', 'simple', 'range', 'England', 'property', 'paper', 'report', 'written', 'needs', '10', 'natural', 'Secretary', 'hear', 'final', \"can't\", 'Her', 'higher', 'growth', 'likely', 'talk', 'meeting', 'considered', 'Congress', 'friends', 'sat', 'answer', 'entire', 'fine', 'ten', 'forces', 'countries', 'story', 'difference', 'working', \"wasn't\", 'table', 'William', 'cases', 'building', 'hair', 'involved', 'meet', 'similar', 'Government', 'training', 'happened', 'street', 'thus', 'hour', 'effort', 'purpose', 'stand', 'Christian', 'issue', 'paid', 'North', 'sent', 'knowledge', 'earlier', 'points', 'market', 'Here', 'whom', 'ready', 'particularly', \"it's\", '5', 'decided', 'results', 'statement', 'increased', 'addition', 'showed', 'East', 'start', 'thinking', 'production', 'Kennedy', 'Well', 'letter', 'son', 'due', 'wall', 'weeks', 'French', 'moral', 'bad', 'girls', 'methods', 'size', 'reading', 'programs', 'ideas', 'stock', 'directly', 'color', 'understand', 'method', 'population', 'fall', 'Yet', 'Island', 'appeared', 'normal', 'lay', 'concerned', 'strength', 'foreign', 'food', 'police', 'Federal', 'City', 'deal', '1961', 'nearly', 'trade', 'record', 'questions', 'merely', 'continued', 'comes', 'peace', 'member', 'research', 'using', 'ran', 'influence', 'section', 'direction', 'During', 'summer', 'boys', 'below', 'husband', 'finally', 'trouble', 'literature', 'physical', 'opened', 'suddenly', 'month', 'led', 'list', 'step', 'temperature', 'stopped', 'cause', 'met', 'piece', 'instead', 'George', 'chance', 'try', 'services', 'Soviet', 'worked', 'effective', 'evening', 'anyone', 'former', 'myself', 'wrong', 'provided', 'theory', 'actually', 'average', 'forms', 'ways', 'bed', 'defense', 'changes', 'lead', 'placed', \"I've\", 'groups', 'Church', 'sales', \"wouldn't\", 'efforts', 'president', 'degree', 'herself', 'friend', 'systems', 'manner', 'University', 'movement', 'lot', 'carried', 'meaning', 'truth', 'aid', 'wide', 'somewhat', 'Although', 'respect', 'fear', 'plant', 'series', 'throughout', 'treatment', 'direct', 'performance', 'game', 'beautiful', 'larger', 'works', 'red', 'approach', 'easy', 'reaction', 'Just', 'couple', 'numbers', 'C', 'While', 'charge', 'described', 'court', 'opportunity', 'remember', 'J.', 'indeed', 'decision', 'determined', 'served', 'First', 'eye', 'running', 'freedom', 'labor', 'generally', 'window', 'understanding', 'reported', 'clearly', 'Each', 'trial', 'hot', 'Europe', 'nation', 'medical', 'Aj', 'British', 'lower', 'S.', 'immediately', 'international', 'certainly', 'character', 'account', 'persons', 'image', 'nations', 'appear', 'feed', 'ask', 'fiscal', 'based', 'earth', 'responsibility', 'learned', 'Act', 'activity', 'steps', 'obtained', 'returned', 'volume', 'forward', 'audience', 'technical', 'arms', \"man's\", 'length', 'planning', 'ones', 'industrial', '6', 'types', 'gives', 'blood', 'function', 'saying', 'doubt', 'serious', 'test', 'straight', '15', 'lived', 'corner', 'quality', 'farm', 'plane', '30', 'latter', 'federal', 'hit', 'Such', 'according', 'Another', 'square', 'Brown', 'include', 'White', 'pattern', 'writing', 'horse', 'Our', 'extent', 'completely', 'choice', 'organization', 'A.', 'stop', 'Court', 'May', 'letters', 'moving', 'activities', 'nuclear', 'born', 'student', 'design', 'specific', 'progress', 'parts', 'cars', 'recently', 'wish', 'Oh', 'shot', 'pool', 'Southern', 'visit', 'lack', 'established', 'distance', 'firm', 'main', 'importance', 'effects', 'indicated', 'slowly', 'plans', 'expect', 'Their', 'Negro', 'principle', 'spring', 'hall', 'neither', 'stress', 'heavy', 'speak', 'stay', 'additional', 'operation', 'existence', 'cities', 'attitude', 'easily', 'remained', 'leaders', 'designed', 'ahead', 'consider', 'applied', '8', 'note', 'central', 'language', 'growing', 'science', 'write', 'reach', 'radio', 'afternoon', 'season', 'Many', 'continue', 'Rhode', 'closed', \"I'd\", 'covered', 'Do', 'Most', 'interested', 'spent', 'becomes', 'College', 'role', 'apparently', 'waiting', 'press', 'Union', \"won't\", 'analysis', 'faith', 'elements', 'serve', 'suggested', 'mouth', 'played', 'World', 'attack', 'Western', 'staff', 'administration', '1959', 'limited', 'reasons', 'scene', 'original', 'date', \"Don't\", 'B', 'prepared', 'factors', 'sun', 'Only', 'married', 'teeth', 'professional', 'rise', 'Sunday', 'bit', 'religion', 'exactly', 'built', 'current', 'Two', 'deep', 'raised', 'dropped', 'ball', 'James', 'demand', 'playing', 'price', 'meant', 'Thomas', 'rates', 'figures', 'race', 'filled', 'hardly', 'sides', 'talking', 'pretty', 'places', 'daily', 'gun', 'events', 'June', 'knows', \"hadn't\", 'machine', 'related', 'Is', 'Chicago', 'Street', 'entered', 'facilities', 'techniques', 'concern', 'claim', 'style', 'March', 'fight', 'income', 'blue', \"That's\", 'supply', 'caught', 'dollars', 'officer', 'Christ', '12', 'energy', 'glass', 'standing', 'Charles', 'actual', 'status', 'usual', 'institutions', 'walk', 'popular', 'studies', 'products', 'attempt', 'trees', 'behavior', 'share', 'thousand', 'changed', '7', 'opinion', 'accepted', 'included', 'unit', 'materials', 'gas', 'considerable', 'seven', 'film', 'green', 'shows', 'remain', 'relations', 'drive', 'older', 'station', \"you're\", 'primary', 'eight', 'Perhaps', 'Old', 'Americans', 'C.', 'standard', 'successful', 'giving', 'practice', 'highly', 'Communist', 'books', '20', 'fell', 'marriage', 'middle', 'none', 'thin', 'obvious', 'proper', 'Jack', 'tradition', 'sitting', 'determine', 'pieces', 'poor', 'Let', 'Mike', 'worth', 'objective', 'arm', '1958', 'sign', 'structure', 'happy', 'radiation', 'project', 'dinner', 'weight', 'produced', 'kitchen', 'funds', 'entirely', 'caused', 'follow', 'heat', 'complex', 'source', 'purposes', 'balance', 'university', \"that's\", 'cattle', 'news', 'condition', 'London', 'annual', 'leadership', 'construction', 'goes', 'mass', 'regard', 'Yes', 'famous', 'noted', 'discussion', 'health', 'Or', 'develop', 'announced', 'Committee', 'unless', 'equal', 'management', 'principal', 'River', 'names', 'carry', \"isn't\", 'whatever', 'Mary', 'measure', 'clothes', 'laws', 'pain', 'oil', 'enemy', 'units', 'Where', 'quickly', 'obviously', 'Both', 'possibility', 'spoke', 'relationship', 'doctor', 'break', 'allowed', 'takes', 'pass', 'companies', 'finished', 'E.', 'Association', 'facts', 'inches', 'Lord', 'died', 'patient', 'touch', 'success', 'failure', 'German', 'require', 'loss', 'cover', 'marked', 'concept', 'records', 'frequently', 'build', \"doesn't\", 'More', 'Once', 'published', 'County', 'assistance', 'greatest', 'Corps', 'remains', 'stated', 'aware', 'previous', 'relatively', 'significant', 'appears', 'Catholic', 'carefully', 'base', 'variety', 'stations', 'clay', 'shape', 'bridge', 'W.', 'distribution', 'product', 'prevent', 'sight', 'learn', 'authority', 'Henry', 'hotel', 'capacity', 'interests', 'Robert', 'collection', 'offered', 'remembered', 'dance', 'sources', 'churches', 'opening', 'requirements', 'impossible', 'poetry', 'presented', '25', 'produce', 'active', 'instance', 'begin', 'broad', 'ship', 'circumstances', 'chief', 'named', 'proposed', 'slightly', 'fixed', 'trip', 'watched', 'operating', 'team', 'Germany', 'scientific', 'created', 'interesting', 'jazz', 'houses', 'provides', 'immediate', 'officers', 'cells', 'parents', 'financial', 'event', 'philosophy', 'sex', 'essential', 'key', 'agreed', 'recognized', 'fully', 'committee', 'explained', 'sea', 'bottom', 'subjects', 'capital', 'campaign', 'workers', 'indicate', 'leaving', 'yesterday', 'manager', 'agreement', 'musical', 'Russian', 'features', 'lives', 'speed', 'spread', 'operations', 'offer', 'forced', 'expression', 'desire', 'term', 'regular', 'drink', 'apartment', 'mentioned', 'studied', 'Sam', 'session', 'atmosphere', 'add', 'enter', 'teacher', 'reports', 'opposite', 'reality', 'fast', 'maximum', 'differences', 'union', 'Its', 'neck', 'picked', '-', 'citizens', 'someone', 'battle', 'bill', '100', 'laid', 'crisis', 'bright', 'secret', 'Providence', 'edge', 'poems', 'looks', 'river', 'district', 'traditional', 'smaller', 'anode', 'reduced', 'train', 'believed', 'favor', 'winter', 'director', 'strange', 'Club', 'editor', 'Commission', 'Council', 'watch', 'procedure', 'literary', 'beside', 'bottle', 'School', 'classes', 'index', 'formed', 'economy', 'B.', 'buildings', 'follows', 'fresh', 'response', 'rules', 'receive', 'separate', 'address', 'difficulty', 'France', 'file', 'treated', 'Red', 'memory', 'removed', 'killed', 'stayed', 'hearing', 'justice', 'presence', 'permit', 'vote', 'Jr.', 'Virginia', 'hospital', \"he'd\", 'Other', 'coffee', 'expressed', 'pointed', 'tone', 'Jewish', 'quiet', 'observed', 'ability', 'check', 'fit', 'seeing', 'security', 'failed', 'November', 'Berlin', 'watching', 'De', 'Army', 'nine', 'hell', 'discovered', 'contrast', 'faculty', 'twenty', 'knife', 'frame', 'selected', 'advantage', 'gain', 'Louis', 'wait', 'pulled', 'youth', 'everyone', 'Morgan', 'resources', 'official', 'Russia', 'store', 'murder', 'Because', 'Company', 'election', 'personnel', 'individuals', 'Jones', 'planned', 'assumed', 'standards', 'T', 'positive', 'familiar', 'detail', 'proved', 'accept', 'smiled', 'increasing', 'forth', 'items', 'Richard', 'chosen', 'legal', 'region', 'factor', 'writer', 'broke', 'brother', 'H.', 'faces', 'bar', 'responsible', 'dog', 'allow', 'Also', 'send', 'Rome', 'Mercer', 'San', 'round', 'sharp', 'platform', 'solid', 'corporation', 'evil', 'brief', 'carrying', 'county', 'daughter', 'April', 'Service', 'rose', 'wants', 'buy', 'levels', 'increases', 'suppose', 'otherwise', 'fields', 'realize', 'realized', 'seek', 'walls', 'shelter', 'nice', 'rich', 'leader', 'waited', 'rights', 'constant', 'Texas', 'vocational', 'die', 'club', 'willing', 'boat', 'ordered', 'Board', 'won', 'Before', 'Monday', 'rule', 'characteristic', 'completed', 'Democratic', 'Khrushchev', 'historical', 'connection', 'minimum', 'animal', 'poet', 'danger', 'settled', 'flow', 'Those', 'dust', 'calls', 'principles', 'lips', 'drawn', 'horses', 'foot', 'sweet', 'writers', 'fair', 'compared', 'maybe', 'statements', 'wine', 'largely', 'answered', 'career', 'yourself', 'appropriate', 'Paris', 'actions', 'thick', 'excellent', 'powers', 'legs', 'beauty', 'asking', 'occurred', 'Saturday', 'plus', 'Moreover', 'camp', 'dogs', 'ordinary', 'ends', 'potential', 'Du', 'significance', 'background', 'unity', 'dress', 'ourselves', 'helped', 'policies', 'July', 'upper', 'issues', 'flat', 'practical', 'Hanover', 'independent', 'phase', 'dry', 'substantial', 'fingers', 'rain', 'relief', 'box', 'reference', 'initial', 'impact', 'signs', 'quick', 'block', 'intellectual', 'directed', 'division', 'chair', 'despite', 'ought', 'twice', 'emotional', 'declared', 'telephone', 'weather', 'membership', 'sections', \"He's\", 'Though', 'projects', 'D.', 'brown', 'plays', 'wore', 'educational', 'imagination', 'California', 'search', 'adequate', 'Maybe', 'rapidly', 'electronic', 'claims', 'employees', 'politics', 'gets', 'supposed', 'hung', 'estimated', 'sit', 'measured', 'Phil', 'Peace', 'leading', 'Bill', 'fashion', 'desk', 'beat', 'stands', 'warm', 'communication', 'matters', 'empty', 'gray', 'object', 'clean', 'objects', 'protection', 'families', 'wonder', 'Day', 'Laos', 'reasonable', 'capable', 'bodies', 'aircraft', 'application', 'teachers', 'discussed', 'grew', 'site', 'approximately', 'cell', 'happen', 'yards', 'drew', 'fighting', 'King', 'fifty', 'belief', 'birth', 'argument', 'Tom', 'China', 'aspects', 'located', 'spiritual', 'jury', 'message', 'Parker', 'ancient', 'broken', 'jobs', 'grow', 'explain', 'Jesus', 'universe', 'primarily', 'closely', 'holding', 'contemporary', 'typical', 'model', 'sleep', \"one's\", 'dominant', 'newspaper', 'arrived', 'assignment', 'unusual', 'relation', 'mission', 'recognize', 'passing', 'December', 'struggle', 'honor', 'turning', 'M.', '9', 'greatly', 'powerful', 'reduce', 'cutting', 'billion', 'highest', 'kill', 'towards', 'assume', 'dramatic', 'achieved', 'north', 'benefit', 'resolution', '11', 'fellow', 'drove', 'Wilson', 'sufficient', 'affairs', 'pictures', 'portion', 'agencies', 'wind', 'narrow', 'friendly', 'Greek', 'properties', 'Boston', 'weapons', 'procedures', 'homes', 'post', 'department', '50', 'liberal', 'U.', 'Are', 'master', 'escape', 'prices', 'soft', 'starting', 'European', 'showing', 'conference', 'Sir', 'teaching', 'R.', 'page', 'speech', 'rising', 'column', 'stared', 'learning', 'machinery', 'refused', 'commercial', \"he's\", 'sets', 'everybody', 'experiment', 'goal', 'extreme', 'onto', 'vast', 'experiments', 'location', 'traffic', 'contained', 'careful', 'closer', 'feelings', 'Finally', 'pleasure', 'join', 'nose', 'dream', 'save', 'Who', 'Friday', 'fourth', \"you'll\", 'maintain', 'domestic', 'existing', 'sensitive', 'Under', 'F.', 'Bible', 'exchange', 'Sometimes', 'exist', 'score', 'task', 'shoulder', 'conclusion', 'heavily', 'finds', 'eat', 'ended', 'contract', 'struck', 'headed', 'equally', 'organizations', 'Negroes', 'south', 'tomorrow', 'Central', 'ideal', 'novel', 'rifle', 'maintenance', 'ultimate', 'setting', 'concerning', 'formula', 'technique', 'cool', \"You're\", 'India', 'tests', 'emphasis', 'circle', 'understood', 'metal', 'exercise', 'useful', 'safe', 'sexual', 'busy', 'lie', 'smile', 'stories', 'wondered', 'District', 'Nations', 'possibly', 'neighborhood', 'liked', 'command', 'parties', 'establish', 'Tuesday', 'slow', 'Roman', 'judgment', 'duty', 'occasion', 'Dallas', 'uses', 'courses', 'lose', 'etc.', 'Administration', 'talked', 'army', 'roof', 'plants', 'appeal', 'alive', 'streets', 'shook', 'details', 'fairly', 'Three', 'enjoyed', 'goods', 'associated', 'taste', 'songs', 'aside', 'guests', 'pale', 'appearance', 'drop', 'combination', 'somehow', 'apparent', 'Lewis', 'Fig.', 'keeping', 'fat', 'continuing', 'unique', 'contact', 'Section', 'Every', 'processes', 'requires', 'Senate', 'baby', 'painting', 'Congo', 'charged', 'permitted', 'Great', 'budget', 'causes', 'majority', 'achievement', 'chemical', 'electric', 'Man', 'solution', 'song', 'September', 'shop', 'loved', 'becoming', 'Chinese', 'truly', 'tree', 'signal', 'entrance', \"There's\", 'culture', 'sky', 'wage', 'avoid', 'tension', 'headquarters', 'bought', 'academic', 'apply', 'represented', 'repeated', '14', 'entitled', 'providing', 'Palmer', 'officials', 'organized', 'spite', 'advance', 'thirty', 'surprised', 'intensity', 'minds', 'competition', 'informed', 'Among', 'evident', 'spot', 'demands', 'begins', 'device', 'extended', 'Your', 'yes', 'scale', 'artist', 'regarded', 'afraid', 'Joseph', 'win', 'Britain', 'critical', 'replied', 'soldiers', 'truck', 'theme', 'perfect', \"she'd\", 'previously', 'credit', 'hat', 'mine', 'runs', 'Like', 'firms', 'wished', 'Martin', '18', 'Joe', 'kid', 'travel', 'identity', 'vision', 'joined', 'confidence', 'conducted', 'notice', 'sought', 'item', 'naturally', 'hole', 'wheel', 'rock', '16', 'components', 'dictionary', 'text', 'double', 'vital', 'rooms', 'unable', 'notes', 'pure', 'supported', 'improved', 'L.', 'bank', 'symbol', 'positions', 'Republican', 'attend', 'motion', 'Smith', 'roads', 'victory', 'seat', 'trained', 'worry', 'grounds', 'sample', 'Jews', 'divided', 'minute', 'games', 'prove', 'negative', 'conduct', 'bear', 'Nothing', 'flowers', 'suggest', 'absence', 'imagine', 'create', 'January', 'Japanese', 'properly', 'spend', 'orders', 'sin', 'inner', 'granted', 'assigned', 'leg', 'draw', 'depth', 'wonderful', \"there's\", 'percent', 'largest', 'disease', 'generation', 'description', 'motor', 'chest', 'experienced', 'experiences', 'windows', 'tall', 'beneath', 'loose', 'risk', 'huge', 'pushed', 'p.m.', 'No.', 'Hudson', 'guess', 'Alfred', 'bedroom', 'yellow', 'U.N.', 'decisions', 'baseball', 'phone', 'soil', 'Indian', 'content', 'sounds', 'flesh', 'establishment', 'element', 'widely', 'vehicles', 'title', 'forget', 'acting', 'pick', 'dozen', 'payment', 'wagon', 'troops', 'introduced', 'grass', 'machines', 'bitter', 'crowd', 'August', 'centers', 'driving', 'developing', 'Los', 'plenty', 'laughed', 'waves', 'wild', 'conflict', 'nodded', 'situations', 'David', 'achieve', 'Protestant', 'snow', 'thoughts', 'handle', 'Still', 'necessarily', 'Arthur', 'animals', 'wet', 'stages', 'approval', 'slight', 'Table', 'putting', 'angle', 'characteristics', 'begun', 'agree', 'governments', 'views', 'raise', 'telling', 'correct', 'abroad', 'stream', 'shoulders', 'breakfast', 'October', 'wood', 'advanced', 'mark', 'Philadelphia', 'conversation', 'uniform', 'conviction', 'Have', 'extremely', 'Latin', 'housing', 'breath', 'expense', 'interpretation', 'Eisenhower', 'practices', 'elections', 'remove', 'easier', 'D', 'Did', 'detailed', 'mention', 'brilliant', 'extra', 'Massachusetts', 'proud', 'devoted', 'noticed', 'Warren', 'pull', 'pair', 'rear', 'faced', 'surprise', 'issued', 'desired', 'walking', 'advice', 'taught', 'silent', 'papers', 'millions', 'fill', 'publication', 'About', 'sick', 'convinced', 'cultural', 'employed', 'consideration', 'firmly', 'colors', 'childhood', 'minor', 'request', 'trust', 'depends', 'incident', 'television', 'hopes', 'moon', 'conventional', 'operator', 'tendency', 'Therefore', '13', 'towns', 'administrative', 'wooden', 'tiny', 'west', 'Co.', 'maintained', 'measurements', 'finding', 'opportunities', 'measures', 'operate', 'park', 'acceptance', 'impressive', 'tired', 'suit', 'Hearst', 'attitudes', 'Charlie', 'moments', 'valley', 'agency', 'gold', 'driver', 'remarks', 'knowing', 'speaking', 'formal', 'leaves', 'cry', 'swung', 'creative', 'estate', 'lady', 'chain', 'destroy', '24', 'advertising', 'chairman', 'comparison', 'choose', 'worse', 'efficiency', 'quietly', 'rolled', 'passage', '1957', 'female', 'de', 'fifteen', 'poem', 'hoped', 'Moscow', 'limit', 'plain', 'shooting', 'liquid', 'detective', 'soul', 'internal', 'P', 'denied', 'patterns', 'Angeles', 'integration', 'payments', 'fundamental', 'testimony', 'version', 'village', 'mere', 'examples', 'concentration', 'Black', '21', 'engine', 'somewhere', 'deny', 'burning', 'library', 'Fort', 'tragedy', 'drinking', 'dear', 'unknown', 'vacation', '23', 'aspect', 'Lincoln', 'boats', 'skin', 'railroad', 'Cuba', 'garden', 'screen', 'bonds', 'stone', 'sold', 'apart', 'silence', 'personality', 'practically', 'Italian', 'periods', 'remarkable', 'expenses', 'lights', 'Q', 'welfare', 'creation', 'conscious', 'partly', 'rural', 'League', 'congregation', 'wearing', 'hero', 'decade', '1954', 'anger', 'resistance', 'threw', 'minister', 'numerous', 'review', 'Wright', 'nobody', 'movements', '60', 'Mantle', 'contrary', 'difficulties', 'equivalent', 'strike', 'association', 'Blue', 'Civil', 'percentage', 'missile', 'centuries', 'till', 'models', 'fears', 'recommended', 'seriously', 'Junior', 'identified', 'humor', 'blind', 'independence', 'Park', 'losses', 'birds', 'artery', 'pink', 'trend', 'fiction', 'stairs', 'wave', 'executive', 'Georgia', 'article', 'interior', 'precisely', 'functions', '22', 'concrete', 'Frank', 'engaged', 'provision', 'Africa', 'opposition', 'intended', 'welcome', 'Hall', 'courts', 'Watson', 'sports', 'somebody', 'contain', 'civil', 'ride', 'please', 'medium', 'cast', 'February', 'feels', 'depend', 'impression', 'target', 'containing', 'load', 'shut', 'shares', 'referred', 'sorry', 'promised', 'curve', 'governor', 'Alexander', 'Edward', 'preparation', 'honest', 'Society', 'encourage', 'Institute', 'twelve', 'diameter', 'Pennsylvania', 'luck', 'panels', 'curious', 'promise', 'adopted', 'safety', 'fought', 'meat', 'native', 'bills', 'precision', 'supplies', 'expansion', 'sheet', 'weakness', 'includes', 'See', 'Medical', 'Big', 'Lucy', 'amounts', 'milk', 'employment', 'intelligence', 'Hans', 'climbed', 'Asia', 'sum', 'arranged', 'mounted', 'expensive', 'thickness', 'suffering', 'cup', 'boards', 'lies', 'accomplished', 'path', 'cross', 'captain', 'relative', 'admitted', 'sale', 'instrument', 'offers', 'band', 'calling', 'taxes', 'thousands', 'mold', 'slaves', 'burden', 'opinions', 'considerably', 'qualities', 'pounds', 'elsewhere', 'charges', 'shoes', 'Manchester', 'answers', 'Instead', 'terrible', 'legislation', 'singing', 'odd', 'Five', 'agent', 'valuable', 'approached', 'Adam', 'dangerous', 'environment', 'confusion', 'lovely', 'resulting', 'comfort', 'Mama', 'Hotel', 'interference', 'fun', 'explanation', 'occur', 'recognition', 'drama', 'lawyer', 'expenditures', 'bond', 'grown', 'Little', 'reader', 'nearby', 'Motors', 'P.', 'coat', 'artists', 'violence', 'ice', 'saved', 'lifted', 'confused', 'insisted', 'rapid', 'contribute', 'Any', 'eventually', 'driven', 'separated', 'readily', 'collected', 'count', 'essentially', 'fired', \"you've\", 'consists', 'darkness', 'Him', 'Indeed', 'believes', 'gradually', 'purchase', 'warning', 'emotions', 'oxygen', 'investigation', 'riding', 'flight', 'Lake', 'warfare', 'revolution', 'Class', 'i.e.', 'Again', 'dollar', 'automobile', 'concerns', 'Figure', 'enjoy', 'guy', 'washing', 'recorded', 'Nevertheless', 'smooth', 'raw', 'suffered', 'exists', 'spirits', 'fund', 'origin', 'obtain', 'varied', 'bag', 'catch', 'crossed', \"ain't\", 'reactions', 'angry', 'shore', 'Without', 'tend', 'mile', 'excess', 'increasingly', 'reflected', 'dirt', 'east', 'wisdom', 'identification', 'Place', 'seeking', 'wages', 'snake', 'pilot', 'porch', 'cloth', 'Adams', 'particles', 'bound', 'appointed', 'La', 'liquor', 'brain', 'foods', 'heads', 'weapon', 'sufficiently', 'possibilities', 'touched', 'helping', 'hate', 'acres', 'pace', 'mail', 'G.', 'Anne', 'switch', 'arts', 'Linda', 'pocket', 'replaced', 'author', 'Time', 'distinct', 'core', 'Rachel', 'listed', 'editorial', 'continues', 'extensive', 'ease', 'involves', 'Carl', 'describe', 'ships', 'Defense', 'salary', 'varying', 'distinction', 'comment', 'residential', 'Captain', 'hundreds', 'Kate', 'dealing', 'insurance', \"Let's\", 'mental', 'errors', 'constantly', 'continuous', 'loan', \"'em\", 'wire', 'remaining', 'tour', 'favorite', 'Francisco', 'Henrietta', 'urban', 'match', 'developments', 'holds', 'distinguished', 'tissue', 'storage', 'teach', 'visited', 'Will', 'communities', 'volumes', 'dancing', 'Besides', 'salt', 'opposed', 'psychological', 'democratic', 'reduction', 'pleased', 'shift', 'brush', 'Division', 'spending', 'Office', '17', 'proposal', 'Come', 'bread', 'Illinois', 'manufacturers', 'limits', 'universal', 'neighbors', 'Commerce', 'pride', 'shouted', 'long-range', 'Last', 'stepped', 'shared', 'focus', 'atoms', 'liberty', 'ring', 'threat', 'removal', 'demanded', 'younger', 'guns', 'Walter', 'sell', 'prominent', 'smoke', 'finger', 'writes', 'virtually', 'Gross', 'talent', 'permanent', 'Later', 'societies', 'Bob', 'arc', 'thrown', 'Democrats', 'notion', 'burned', 'cooling', 'painted', 'composed', 'discover', 'indicates', 'marine', 'shear', 'throw', 'skill', 'steady', 'rough', 'Papa', 'prior', 'joy', 'throat', '40', 'forest', 'Atlantic', 'prison', 'marketing', 'Winston', 'rare', 'Uncle', 'Does', 'Orleans', 'display', 'seed', 'changing', 'existed', 'investment', 'missed', 'brings', 'fed', 'representative', 'everywhere', 'orchestra', 'happens', 'parallel', 'rode', 'afford', 'exception', 'provisions', 'rarely', 'anybody', 'objectives', \"o'clock\", 'downtown', 'transportation', 'award', 'allotment', 'represents', 'Good', 'revealed', 'attractive', 'surely', 'Communists', 'TV', 'express', 'derived', 'visual', 'automatic', 'inch', 'assured', 'regarding', 'trials', 'recall', 'Rayburn', 'anxiety', 'bars', 'offices', 'electrical', 'striking', 'Judge', 'Long', 'colleges', 'Attorney', 'Justice', 'necessity', 'muscle', 'languages', 'secretary', 'deeply', 'Life', 'participation', 'Lawrence', 'stranger', 'defined', 'funny', 'musicians', 'Mississippi', 'sake', 'legislative', 'glance', 'intense', 'Avenue', 'engineering', 'destroyed', 'considering', 'customers', 'Air', 'determination', 'communism', 'combined', 'Several', 'contributed', 'Out', 'comparable', 'controlled', 'lots', 'Education', 'dependent', 'reaching', 'gained', 'turns', 'Constitution', 'selection', 'agents', 'tables', 'voices', 'judge', 'represent', 'theater', 'transfer', \"father's\", 'holes', 'Actually', 'mostly', 'handed', 'contains', 'nineteenth', 'copy', 'studying', 'International', 'assumption', 'bringing', 'Today', 'sudden', 'primitive', 'Within', 'candidates', 'institution', 'Robinson', 'engineer', 'leaned', 'soldier', 'Japan', 'Pike', 'Thompson', 'external', 'Bay', 'mankind', '31', 'brothers', 'tool', 'Cousin', 'relationships', 'decide', 'Treasury', 'criticism', 'knees', 'Research', 'goals', 'Despite', 'eleven', 'thoroughly', 'guidance', 'flying', 'steel', 'scheduled', 'satisfactory', 'Governor', 'atomic', \"What's\", 'Was', 'Ohio', '200', \"God's\", \"We'll\", 'sharply', 'doctrine', 'corresponding', 'hill', 'hydrogen', 'Paul', 'fail', 'ages', 'anyway', 'strongly', 'listening', 'Roberts', 'chapter', 'illusion', 'sleeping', 'comfortable', 'enormous', 'anywhere', \"they're\", 'Would', 'authorized', 'forever', 'drawing', 'Chief', 'innocent', 'species', 'stronger', 'Much', 'conscience', 'serving', 'skills', 'distant', 'atom', 'stomach', 'deeper', 'admit', 'Holmes', 'organic', 'ears', 'pressures', 'briefly', 'track', 'iron', 'tremendous', 'improvement', 'newspapers', 'E', 'devices', 'handsome', 'finish', 'Roy', 'Public', 'civilization', 'tested', 'reply', 'destruction', 'magic', 'assure', 'Susan', 'constructed', 'swimming', 'male', 'approved', 'Center', 'handling', 'blocks', 'forgotten', 'regional', 'profession', 'hills', 'Senator', 'R', 'delivered', 'arrangements', 'belong', 'improve', 'resulted', 'noise', 'formation', 'furniture', 'thyroid', 'questionnaire', 'foam', 'edges', 'stick', 'chose', 'comedy', 'acts', 'fool', 'prime', 'restaurant', 'signed', 'Furthermore', 'Times', 'Journal', 'attempts', 'Jackson', 'mystery', 'accompanied', 'host', 'peoples', 'intention', 'cooperation', 'contribution', 'moves', 'crew', 'equipped', 'authorities', 'Spanish', 'specifically', 'effectively', 'managed', 'occupied', 'mixed', 'High', 'instant', 'supplied', 'completion', 'definite', 'observations', 'kinds', 'error', 'cleaning', 'feature', 'images', 'Peter', 'symbols', 'maturity', 'staining', 'random', 'seeds', \"year's\", 'desirable', 'edition', 'release', 'People', 'substantially', 'Jim', 'plot', 'variable', 'waters', 'Hardy', 'license', 'severe', 'attended', 'districts', 'stored', 'beings', 'dressed', 'accounts', 'push', 'aim', 'Nor', 'coating', 'mood', 'schedule', 'spoken', 'Maris', 'hurt', 'characters', 'ratio', 'Chapter', 'affected', 'glad', 'guide', 'serves', 'recreation', 'Stanley', 'Matsuo', 'Jane', 'Atlanta', 'bombs', 'Hospital', 'Republic', 'jumped', 'outstanding', 'wear', 'worried', 'over-all', 'sees', 'doors', 'calculated', 'grade', 'automatically', 'experts', 'Conference', 'personally', 'output', 'guard', 'outlook', 'Look', 'technology', 'Pope', 'probability', 'yield', 'sequence', 'installed', 'Pont', 'sympathetic', 'eggs', 'claimed', 'tough', 'classic', 'regions', 'waste', 'accurate', 'grant', 'producing', 'prepare', 'patients', 'satisfied', 'inevitably', 'pleasant', 'readers', 'consequences', 'concert', 'Clark', 'agricultural', 'conclusions', 'phenomenon', 'paint', 'tongue', 'visiting', 'dirty', \"we're\", 'sounded', \"haven't\", 'Wednesday', 'accuracy', 'mad', '1962', 'disappeared', 'symbolic', 'challenge', 'consumer', 'Part', 'western', 'visible', 'nationalism', 'binomial', 'scholarship', 'Hill', 'dignity', 'lying', 'tells', 'tools', 'washed', 'sacred', 'coast', 'definition', 'myth', 'owned', 'stores', 'affect', 'mistake', 'Harvard', 'presumably', 'patent', 'multiple', 'tonight', 'emotion', 'exposed', 'filling', 'Earth', 'estimate', 'frequent', 'urged', 'swept', 'height', 'reasonably', 'Lee', 'self', 'tied', 'performed', 'mountains', 'bus', 'owners', 'illustrated', 'sister', 'axis', 'sending', 'isolated', 'Sept.', 'Samuel', 'sad', 'visitors', 'candidate', 'camera', 'calm', 'sir', 'drunk', 'row', 'normally', 'blame', 'meets', 'worship', 'tends', 'latest', 'Johnson', 'clerk', 'Can', 'clouds', 'alternative', 'dispute', 'decades', \"today's\", 'guest', 'raising', 'thereby', 'lists', 'paintings', 'processing', 'vary', 'realistic', 'logical', 'Canada', 'Harry', 'Baker', 'extension', 'bigger', 'retired', 'Neither', 'openly', 'preserve', 'Italy', 'bent', 'protect', 'stretched', 'pencil', 'Four', 'smell', 'context', \"mother's\", 'reception', 'desegregation', 'mechanical', 'suggestion', 'genuine', 'sympathy', 'listen', 'guilt', 'discovery', 'Catholics', 'benefits', 'cash', 'findings', 'gate', 'tragic', 'worst', 'survive', 'Andy', 'badly', 'unlike', 'Prokofieff', 'Jess', 'blow', 'scheme', 'massive', 'involving', 'demonstrated', 'grave', 'vehicle', 'sentence', 'inevitable', 'examine', 'folk', 'fewer', 'determining', 'affair', 'cards', 'equation', 'Supreme', 'leads', 'fallen', 'Never', 'Be', 'wash', 'suitable', 'alert', 'parked', 'Early', 'hunting', 'advised', 'healthy', 'phrase', 'beach', 'bone', 'knee', 'neutral', 'route', 'attempted', 'chlorine', 'seldom', 'Thursday', 'arrangement', 'routine', 'succeeded', 'presents', 'sugar', 'quantity', 'emergency', 'missing', 'performances', 'Take', 'bomb', 'admission', 'owner', 'favorable', 'branches', 'dying', 'namely', 'wise', 'roles', 'yard', 'filed', 'jacket', 'Too', 'connected', 'experimental', 'rejected', 'Poland', 'damage', 'Player', 'crime', 'tears', 'slipped', 'strictly', 'accident', 'suffer', 'cooking', 'Mark', 'proof', 'hurry', 'courage', 'stems', 'occasional', 'weak', 'forty', 'returning', 'e.g.', 'adjustment', 'fruit', 'covers', 'crowded', 'Holy', 'financing', 'awareness', 'interview', '26', 'Second', 'kids', 'reporters', 'occasionally', 'efficient', 'presentation', 'magazine', 'household', 'collective', 'duties', 'partner', 'F', 'burst', 'Indians', 'violent', \"world's\", 'fly', 'promote', 'Lady', 'joint', 'Pat', 'lunch', 'chicken', 'Next', 'initiative', 'Harold', 'bride', '19', 'instructions', 'artistic', 'testing', 'covering', 'reflection', 'regardless', 'remote', 'gathered', 'effectiveness', 'circles', 'beer', 'conception', 'currently', 'grace', 'simultaneously', 'island', 'Square', \"child's\", 'ocean', 'Chandler', 'variation', 'crazy', 'concluded', 'remarked', 'Howard', 'gift', 'smiling', 'Scotty', 'Castro', 'Williams', 'elected', 'gesture', 'Gorton', 'inadequate', 'measurement', 'highway', 'receiving', '**zg', \"nation's\", 'shouting', 'locking', 'knocked', 'slavery', 'nevertheless', 'perfectly', 'corn', 'ending', 'ceiling', 'pages', 'poets', 'elaborate', 'emission', 'allowing', 'Dave', 'tossed', 'thermal', 'N', 'stuff', 'mature', 'fish', 'density', 'considerations', 'whereas', 'columns', 'discussions', 'poetic', 'Field', 'involve', 'armed', 'decline', 'returns', 'composer', 'ruled', 'dancer', 'Via', 'Had', 'saline', 'survey', \"aren't\", 'remark', 'counties', 'winning', 'Poet', 'Russians', 'barely', 'successfully', 'mud', 'Navy', 'so-called', 'fallout', 'senior', 'nights', 'excitement', 'respectively', 'quarter', 'frequencies', 'muscles', 'chamber', 'panel', 'strain', 'Kansas', 'long-term', 'printed', 'Communism', 'Pacific', 'gently', 'identical', 'spots', 'wedding', 'precise', 'Christianity', 'depending', '1952', 'naked', 'tape', 'skywave', 'invariably', 'facing', 'checked', 'parking', 'secondary', 'Prince', 'counter', 'Curt', 'enterprise', 'protected', 'transition', 'worker', 'temporary', 'reducing', 'excessive', 'widespread', 'Alex', 'Force', 'softly', 'piano', 'blanket', 'expert', 'historian', 'campus', 'eating', 'impressed', 'meal', 'farther', 'dates', 'conservative', 'heading', 'Sharpe', 'Franklin', 'occurrence', 'listened', 'Something', 'shock', 'confronted', 'tube', 'encountered', 'lumber', 'troubled', 'suspect', 'letting', 'selling', 'Mayor', 'Miriam', 'starts', 'Eddie', 'concentrated', 'absolute', 'ranging', 'romantic', 'Louisiana', 'crucial', 'complicated', 'sponsored', 'Dartmouth', 'reveal', 'matching', 'Over', 'Shakespeare', 'cuts', 'net', 'Van', 'stable', 'divine', 'network', 'whenever', 'Through', \"You'll\", 'Business', 'Rector', 'surprising', 'Johnny', 'Labor', 'skilled', 'abstract', 'Get', 'supper', 'substance', 'stem', 'scientists', 'instances', 'universities', 'survival', 'slave', 'competitive', 'falling', 'preceding', 'films', 'Professor', 'Woodruff', 'articles', 'fence', 'football', 'et', 'flux', 'extraordinary', 'virtue', 'superior', 'basement', 'markets', 'roll', 'movies', 'suspended', 'beef', 'mixture', 'consequence', 'Felix', 'lightly', 'Sen.', 'secure', 'grand', 'trips', 'sciences', 'transferred', 'trail', 'fishing', 'buying', 'Carleton', 'perform', 'Armed', 'Sherman', 'loans', 'entertainment', 'sewage', 'grinned', 'argued', 'utility', 'guilty', 'suggests', 'suburban', 'morality', 'Republicans', 'Brannon', 'hence', 'creating', 'shadow', 'replace', 'shots', 'According', 'Hence', 'furnish', 'Juniors', 'glasses', 'Assembly', 'era', 'recording', 'exciting', 'divorce', 'ethical', 'dancers', 'residence', 'modest', 'poured', 'delight', 'junior', 'signals', 'ear', 'dealers', 'constitute', 'comments', 'proportion', 'argue', 'fate', 'pressed', 'ignored', 'mainly', 'Bank', 'Others', 'O.', 'lesson', 'unconscious', 'movie', 'tasks', 'asleep', 'Industrial', 'barn', 'threatened', 'Ann', 'helpful', 'p', 'Morse', 'colored', 'extend', 'shorts', 'radical', 'cotton', 'Albert', 'purely', 'helps', 'strip', 'magnitude', 'Mickey', 'reminded', 'Brooklyn', 'evaluation', 'hoping', 'scenes', 'measuring', 'missiles', 'sang', 'consciousness', 'controls', 'bronchial', 'split', 'Until', 'deliberately', 'commonly', 'citizen', 'fabrics', 'colony', 'voting', 'mechanism', 'wound', 'locked', 'plastics', 'Harris', 'laugh', 'discuss', 'offering', 'anxious', 'calendar', \"They're\", 'happening', 'Hal', 'demonstrate', 'representing', 'meetings', 'Roosevelt', 'specified', 'ballet', 'Yankees', 'structures', 'extending', 'introduction', '1955', 'southern', 'examined', 'newly', 'sand', 'coal', 'surfaces', 'Oct.', 'debate', 'cure', 'Santa', 'encouraged', 'libraries', 'satisfaction', 'peculiar', 'consistent', \"you'd\", 'profit', 'tight', 'warmth', 'sovereign', 'plastic', 'jurisdiction', 'pot', 'verse', 'defeat', 'polynomial', 'quarters', 'electronics', 'fourteen', 'talents', 'root', 'committed', 'industries', 'drugs', 'sensitivity', 'closing', 'optimal', 'lighted', 'Suppose', 'branch', 'contributions', 'unions', 'African', 'absent', 'Whether', 'solutions', 'electron', 'propaganda', 'classical', 'dimensions', '1956', 'apparatus', 'gay', 'vigorous', 'bench', 'graduate', 'questioned', 'innocence', 'expanding', 'sovereignty', 'Irish', 'pound', 'Ramey', 'studio', \"let's\", 'carbon', 'fled', 'N.', 'false', 'silver', 'tons', 'cow', 'arise', 'losing', 'rendered', 'enthusiasm', 'marks', 'witness', 'encounter', 'bare', 'hated', 'paused', 'Nobody', 'Interior', 'shapes', 'Beach', 'clarity', 'sacrifice', 'laughing', 'minimal', 'powder', 'upstairs', 'refer', 'associations', 'finance', 'profound', 'Christmas', 'seconds', 'Fred', 'examination', 'exclusive', 'discipline', 'Legislature', 'shade', 'proposals', 'flew', 'responses', 'consisting', 'engineers', 'friendship', 'horizon', 'representatives', 'V', 'gentle', 'prefer', 'surplus', 'merit', 'tea', 'holder', 'Marshall', 'samples', 'Germans', 'sing', 'scope', 'formerly', 'T.', 'operated', 'Dan', 'delicate', 'shoot', 'prevented', 'municipal', 'recovery', 'subsequent', 'dining', 'a.m.', 'combat', 'pulmonary', 'observation', 'maintaining', 'voted', 'damn', 'Coast', 'gathering', 'Myra', 'utterly', 'requirement', 'fees', 'exact', 'professor', 'limitations', 'clinical', 'applying', 'Dean', 'advantages', 'commission', 'acquire', 'insist', 'Shayne', 'council', 'prestige', 'distributed', 'outer', 'Clayton', 'salvation', 'ecumenical', 'opera', 'Davis', 'regulations', 'passes', 'permits', 'imagined', 'absolutely', 'maid', 'scattered', 'rushed', 'Delaware', 'veteran', 'Newport', 'reputation', 'pistol', 'occurs', 'mirror', 'Jefferson', 'drying', 'ladies', 'mighty', 'territory', 'Greenwich', 'Revolution', 'Men', 'slept', 'mountain', 'Forces', 'marriages', 'golf', 'doctors', 'weekend', 'diplomatic', 'Cady', 'Julia', 'grain', 'upward', 'Hughes', 'thanks', 'Obviously', 'reserved', 'dull', 'pursuant', 'perception', 'fiber', 'permission', 'passion', 'restrictions', 'bullet', 'corps', 'pointing', 'released', 'lively', 'critics', 'butter', 'unhappy', 'Jew', 'dreams', 'delightful', 'velocity', 'Science', 'Certainly', 'Palfrey', 'handled', 'staring', 'humanity', 'submarine', 'frightened', 'appreciate', 'compare', 'altogether', 'preferred', 'storm', 'paying', 'frames', 'Almost', 'tangent', 'Johnnie', 'Pathology', 'customer', 'victim', 'phenomena', 'reform', 'Bureau', 'Virgin', 'Young', 'overcome', 'invited', 'reserve', \"Kennedy's\", 'journey', 'mysterious', 'Mitchell', '1953', 'perspective', 'presently', 'cellar', 'identify', 'belt', 'builder', 'marginal', 'eternal', 'Colonel', 'anti-trust', 'inherent', 'reorganization', 'ranch', 'Middle', 'acquired', 'instruction', '27', 'gyro', 'injury', \"She's\", 'fellowship', 'justify', 'sophisticated', 'appointment', 'recalled', 'concepts', 'Greg', 'placing', 'Billy', 'disturbed', 'meals', 'legend', 'farmers', 'outcome', 'magnificent', 'Coolidge', 'climate', 'Eileen', 'stockholders', 'suspicion', \"we'll\", 'Patchen', 'vice', 'approaching', 'eager', 'gross', 'Arlene', 'disaster', 'funeral', 'enemies', \"We're\", 'royal', 'Forest', 'shopping', 'Zen', 'ours', 'Make', 'revenues', 'ill', 'attorney', 'variables', 'conceived', 'emerged', 'electricity', 'stained', 'aesthetic', 'shirt', 'quoted', 'threatening', 'cents', 'desperate', 'lacking', 'Helva', 'textile', 'Sarah', 'Agreement', 'frozen', 'literally', 'Ekstrohm', 'cried', 'card', 'judgments', 'establishing', 'trembling', 'controversy', 'Southerners', 'dried', 'publicly', 'players', 'sheets', 'stars', 'O', 'abandoned', 'painful', 'Probably', 'intelligent', 'volunteers', 'aboard', 'magazines', 'attacked', 'Eugene', 'Bang-Jensen', 'feeding', 'peaceful', 'continually', 'flexible', 'wars', 'SBA', 'scholars', 'Pittsburgh', 'exhibit', 'medicine', 'torn', 'traders', 'productive', 'exceptions', 'directions', 'rational', 'promptly', 'inspired', 'proceeded', 'golden', 'reflect', 'responsibilities', 'Speaker', 'Whatever', 'assist', 'observe', 'switches', 'Valley', 'gentleman', 'disk', 'Village', 'mothers', 'cloud', 'D.C.', 'generous', 'breaking', 'roughly', 'shelters', 'surrounding', 'eliminate', 'reaches', 'composition', 'destructive', 'subtle', 'Mother', \"O'Banion\", 'ritual', 'dawn', 'attached', 'sessions', 'landing', 'glanced', 'builders', 'oral', 'prevention', 'gear', 'Nick', 'laboratory', 'allowances', 'besides', 'entry', 'temperatures', 'Art', 'stretch', 'Use', 'intervals', 'communications', 'transformed', 'publicity', 'settlement', 'lonely', 'grateful', 'Son', 'Aug.', 'Carolina', 'demonstration', 'Nixon', 'bath', 'worthy', 'dilemma', 'component', 'Tim', 'attracted', '300', 'NATO', 'prospect', 'supporting', 'partially', 'bearing', 'suits', 'Wally', 'Tilghman', 'Houston', 'delayed', 'frontier', 'vivid', 'king', 'Owen', 'harm', 'hanging', 'approaches', 'vein', 'Director', 'bird', 'designs', 'charm', 'Alec', 'departments', 'repeat', 'fist', 'beard', 'Barton', 'shortly', 'instruments', 'mobile', 'accused', 'recommend', 'Title', '70', 'adult', 'aimed', 'parade', 'sitter', 'drill', 'contracts', 'commander', 'Broadway', 'expressing', 'Social', 'assembled', 'cycle', 'wishes', 'seized', 'Sure', 'pupils', 'specimen', 'Development', 'insure', 'rice', 'wines', 'exclusively', 'Economic', 'accomplish', 'continuity', 'woods', 'magnetic', 'Blanche', 'accurately', 'operational', 'nearest', 'announcement', 'retirement', 'Portland', 'Mexican', 'yours', 'faint', 'noon', 'tubes', 'nervous', 'probable', 'impressions', 'drivers', 'scarcely', 'absorbed', 'entering', 'fog', 'constitutional', \"they'd\", 'theological', 'arrive', 'speaker', 'march', 'rigid', 'wildly', 'hang', 'automobiles', 'viewed', 'tail', 'wings', 'interpreted', 'applications', 'firing', 'recommendation', 'prayer', 'cook', 'managers', 'chances', 'Independence', 'Mason', 'racial', 'promotion', 'functional', 'Further', 'Northern', 'access', 'peas', 'promising', 'backed', 'allies', 'critic', 'wherever', 'conductor', 'Small', 'detergent', 'realization', 'honored', 'wholly', 'nowhere', 'vague', 'Six', 'Puerto', 'Theresa', 'cited', 'Moore', 'cocktail', 'neighboring', 'Post', 'planes', 'hired', 'qualified', 'desires', 'contacts', 'correspondence', 'tended', 'phases', 'diffusion', 'Very', 'actor', 'consisted', 'Premier', 'contest', 'subjected', 'prospects', 'enthusiastic', 'chin', 'excuse', 'freight', 'dealer', 'categories', 'full-time', 'philosophical', 'tribute', \"You've\", 'Ford', 'slid', 'Jersey', 'Arts', 'heating', 'lawyers', 'Everything', 'dive', 'habit', 'lengths', 'cigarette', 'channels', 'cleared', 'refrigerator', 'registration', 'mathematical', 'unexpected', 'heaven', 'enable', 'factory', 'Casey', 'Hollywood', \"Brown's\", 'widow', 'hungry', 'beliefs', 'meaningful', 'discrimination', 'continuously', 'civilian', 'bore', 'Cook', 'furnished', 'imitation', 'twenty-five', 'sink', 'realism', 'exposure', 'dedicated', 'Jean', 'musician', 'empirical', 'Tennessee', 'compete', 'Suddenly', 'thinks', 'lands', 'arrival', 'Spencer', 'Quiney', 'norms', 'fortune', '29', \"He'd\", 'occupation', 'harder', 'jump', 'luncheon', 'relieved', 'Westminster', \"President's\", 'Soon', 'rocks', 'radar', 'weekly', 'suggestions', 'Onset', 'belly', 'genius', 'excited', 'anti-Semitism', 'pond', 'plug', 'Fogg', 'outdoor', 'incredible', 'coverage', 'grades', 'treat', 'generations', 'astronomy', 'controlling', 'killing', 'snakes', 'colleagues', 'regime', 'Presidential', 'Tell', 'fibers', 'historic', 'wounded', 'terror', 'falls', 'charming', 'noble', 'Gen.', 'northern', 'narrative', 'stressed', 'depression', 'bases', 'trace', 'hurried', 'saddle', 'Madison', 'barrel', 'part-time', 'midnight', 'giant', 'manufacturer', 'curiosity', 'System', 'stupid', 'leather', 'Foreign', 'Pete', 'folklore', 'justified', 'code', 'pack', 'assistant', 'stuck', 'league', 'whispered', 'Maggie', 'Symphony', 'explicit', 'lock', 'Ruth', 'settle', 'category', 'Daily', 'assumptions', 'estimates', 'wake', 'exercises', 'Douglas', 'adjusted', 'employee', 'authors', 'Press', 'cheap', 'substrate', 'Father', 'attempting', 'governmental', 'resumed', 'Testament', 'zero', 'trading', 'protest', 'Palace', 'Maryland', 'Should', 'reflects', 'degrees', 'searching', 'uneasy', 'novels', 'plaster', 'Law', 'overseas', 'cat', 'Anglo-Saxon', 'formulas', 'voluntary', 'appreciation', 'targets', 'casual', 'foams', 'dressing', 'drinks', 'chairs', 'reliable', 'uncertain', 'altered', 'troubles', 'mess', 'sharing', 'manufacturing', 'rank', 'adding', 'destiny', 'bridges', 'Spirit', 'adults', 'tractor', 'servants', 'Green', 'honey', 'bombers', 'Vienna', 'Victor', 'economical', 'worn', 'freely', 'exploration', 'deck', '0', 'amateur', 'Sandburg', 'thrust', 'implications', 'sighed', 'sticks', 'pressing', 'sentiment', 'souls', 'herd', \"she's\", 'hide', 'ward', 'successes', 'metropolitan', 'whisky', 'aids', 'Music', 'Article', 'laughter', 'carries', 'unfortunate', 'grows', 'melting', 'joke', 'conspiracy', 'valid', 'urethane', 'relevant', 'biggest', 'sphere', 'fault', 'convention', 'ambiguous', 'attending', 'traveled', 'tie', 'trucks', 'occasions', 'preparing', 'participate', 'Don', 'Affairs', 'surrender', 'registered', 'dealt', 'convenient', 'Student', 'expects', 'Bobbie', 'autumn', 'lift', 'displacement', 'frequency', 'bother', 'retained', 'possessed', \"shouldn't\", 'totally', 'resist', 'tip', 'obligations', 'plates', \"we'd\", 'posts', 'happiness', 'Rev.', 'steadily', 'Meanwhile', 'alienation', 'triumph', 'middle-class', 'respects', 'structural', 'assessment', 'democracy', 'anticipated', 'frank', 'rifles', 'earliest', 'Baltimore', 'pulling', 'Ralph', 'Deegan', 'select', 'belongs', 'spare', 'planets', 'capabilities', 'loaded', 'panic', 'Royal', 'yelled', 'eliminated', 'S', 'insects', 'suited', 'temple', 'intentions', 'ownership', 'describes', 'gang', 'complained', 'Miller', 'insight', 'fifth', 'Miami', 'engagement', 'sampling', 'evidently', 'Alaska', 'Elaine', 'warned', \"America's\", 'regularly', 'Century', 'oxidation', 'factories', \"B'dikkat\", 'boating', 'ideological', 'strategy', 'killer', 'Russ', 'hen', 'Marshal', 'Utopia', 'defend', 'investigations', 'tale', 'wheels', 'milligrams', 'charter', 'Johnston', 'Program', 'availability', 'certainty', 'Vermont', 'accepting', 'questioning', 'desperately', 'H', 'Home', 'behalf', 'Hoag', 'drawings', 'craft', 'urgent', 'concerts', 'backward', 'spectacular', 'pause', 'Wait', 'painter', 'shining', 'Morris', 'originally', 'Above', 'planetary', 'Consider', 'delay', 'luxury', 'rang', 'fluid', 'fortunate', 'shame', 'envelope', 'preliminary', 'nuts', 'Faulkner', 'particle', 'possession', 'neat', 'Joyce', 'protein', 'occurring', 'Apparently', 'hesitated', \"John's\", \"weren't\", 'Detroit', 'Which', 'balanced', 'linear', '1948', 'Being', 'characterized', 'Cromwell', 'miss', \"children's\", 'dances', 'classification', 'moderate', 'Steele', 'pertinent', 'Police', 'thank', 'persuaded', 'Shu', 'Lo', 'chiefly', 'cope', 'farmer', 'Ben', 'Taylor', 'Book', 'forming', 'Everyone', 'Warwick', 'teams', 'stern', \"patient's\", 'crack', 'Di', 'Queen', 'doubtful', 'rent', 'definitely', 'Nation', 'stiff', 'Wall', 'moreover', 'planet', 'assembly', 'reveals', 'Bobby', 'Reverend', 'recommendations', 'skirt', 'profits', 'mode', 'harmony', 'saving', 'addresses', 'statistics', 'smart', 'Go', 'Rock', 'stumbled', 'Capitol', 'Keith', 'rhythm', 'unlikely', '28', 'Podger', 'passengers', 'seated', 'Rico', 'Aristotle', \"We've\", 'computed', 'garage', 'inclined', 'lowered', 'heels', 'keeps', 'Could', 'corporations', 'pile', 'thorough', 'submitted', 'Mills', 'dishes', 'mutual', 'Penny', 'Kay', 'races', 'hits', 'obliged', 'substitute', 'bid', 'Completion', 'mate', 'arbitrary', 'Eastern', 'Party', 'Report', 'relatives', 'respond', 'despair', 'Note', 'governing', 'intimate', 'regiment', 'liberals', '34', 'meanings', 'racing', 'launched', 'mines', 'hearts', 'Philip', 'roots', 'Nov.', 'complement', 'hypothalamic', 'dynamic', 'Missouri', 'suspected', 'cabin', 'Hell', 'dare', 'Francis', 'Bridget', '1950', 'traditions', 'Michigan', 'loyalty', 'seventeen', 'Katanga', 'respectable', 'habits', 'Belgians', 'masses', 'crises', 'educated', 'Having', 'soap', 'ugly', 'displays', 'Maude', 'enjoyment', 'prospective', 'Vernon', 'conferences', 'Wagner', 'fans', 'Poor', 'replacement', 'Plato', 'struggling', 'enforced', 'anticipation', 'Allen', 'trends', 'Orchestra', 'intervention', 'motives', 'listeners', 'landscape', 'guided', 'orderly', 'lean', 'Major', 'distinctive', 'cream', 'crossing', 'temporarily', 'binding', 'ranks', \"hasn't\", 'Family', 'invention', 'figured', 'conditioned', '/', 'refund', 'indirect', 'Skyros', 'physiological', 'conversion', 'worries', 'cheek', 'flash', 'devil', 'grants', 'El', 'punishment', 'Opera', 'Corporation', 'forgive', 'breathing', 'converted', 'speeches', 'dedication', 'repair', 'Laura', 'guys', 'revolutionary', 'Spring', 'illness', 'fraction', 'monthly', 'banks', 'warrant', 'inventory', 'leaped', 'puts', '1949', 'merger', 'Freddy', 'Alabama', 'Pip', 'Upon', 'disposal', 'nerves', 'confirmed', 'probabilities', 'decent', 'votes', 'rehabilitation', 'pursue', 'lucky', 'Pa', 'Oedipus', '1946', 'package', 'patience', 'quarrel', 'impulse', 'crop', 'displayed', 'sidewalk', 'consequently', 'grains', 'expanded', 'grip', 'creatures', 'newer', 'melody', 'savage', 'encouraging', 'Often', 'wealth', 'relating', 'Michelangelo', 'shadows', 'negotiations', 'passages', 'pipe', 'patrol', 'alike', \"Christ's\", 'Dolores', 'input', 'attain', 'Heaven', 'solve', 'amazing', 'colorful', 'Notte', 'promises', 'similarly', 'sauce', 'sweat', 'clock', 'procurement', 'residents', 'queen', 'solely', 'lungs', 'Jan.', 'Fund', 'Volume', 'Swift', 'wit', 'gentlemen', 'naval', 'brushed', 'bowl', 'clothing', \"company's\", 'wondering', 'B.C.', 'Florida', 'brave', 'tent', 'Arnold', 'emphasize', 'crawled', 'greeted', 'Point', 'auto', 'sixth', 'grabbed', 'injured', 'fitted', 'transformation', 'Outside', 'heroic', 'vacuum', 'exhibition', 'urge', 'acceptable', 'motel', 'criminal', 'attacks', 'commodities', 'define', 'Feb.', 'Cathy', 'beam', 'Manhattan', 'Donald', 'Borden', 'crash', 'receives', 'Inc.', 'strongest', 'screw', 'pitch', 'pitcher', 'endless', 'suitcase', 'secrets', '1951', 'competent', 'blonde', 'Abel', 'diet', 'shaking', 'tire', 'taxpayers', 'bold', 'manage', 'helpless', 'fascinating', '75', 'accordance', 'responded', 'precious', 'peered', 'adjustments', \"city's\", 'suite', 'minority', 'slide', 'purchased', 'authentic', 'inspection', 'convictions', 'smelled', 'plate', 'surrounded', 'numerical', 'murderer', 'ultimately', 'cottage', 'pupil', 'whip', 'assessors', 'boots', 'theatre', 'trap', 'sailing', 'lighting', 'toes', 'Land', 'verbal', 'distinguish', 'addressed', 'bet', 'allows', 'dominated', 'rises', 'guards', 'lobby', 'Paula', 'demanding', 'explains', 'decisive', 'witnesses', 'affects', 'notable', 'register', 'retail', 'Seven', 'reporter', 'depths', 'stroke', 'bones', 'hotels', 'remainder', 'cholesterol', 'foil', 'bundle', 'respective', 'ignore', 'fractions', 'Killpath', 'Letch', 'Road', 'arrest', 'overwhelming', 'hatred', 'scared', 'Lane', 'motive', 'applies', 'happily', 'Shore', 'lacked', 'submarines', 'fever', 'reactivity', 'salesmen', 'curves', 'tactics', 'jet', 'theirs', 'devotion', 'rid', 'Throughout', 'vector', 'startled', 'Third', 'vertex', 'united', 'Allied', 'consistently', 'Doc', 'gardens', 'broader', 'bend', 'midst', 'Means', 'nude', 'mercy', 'winds', 'bullets', 'rush', \"state's\", 'optical', 'venture', 'packed', 'petitioner', 'Salem', 'companion', 'Rather', 'tsunami', 'startling', 'lid', 'hidden', 'tales', 'males', 'swing', 'glued', 'supervision', 'earnings', 'insistence', 'Gun', 'clubs', 'Vincent', 'dim', 'fatal', 'essay', 'ruling', 'dated', 'Form', 'loves', 'solved', 'hypothalamus', 'stake', 'intermediate', 'lesser', 'produces', 'canvas', 'compromise', 'lb.', 'Haney', 'therapist', 'whereby', '1927', 'ladder', 'discharge', 'prisoners', 'label', 'Memorial', 'ambition', 'Mobile', 'foundation', 'civic', 'timber', 'cancer', 'poverty', 'assurance', 'Accordingly', 'slope', 'drank', 'dreamed', 'combinations', 'architect', 'condemned', 'strategic', 'spell', 'Rourke', 'slip', 'revenue', 'imposed', 'specialists', 'bay', 'exceed', 'realm', 'stresses', 'Mars', 'politicians', 'neatly', 'tangible', 'preserved', 'savings', 'variations', 'victims', 'Calif.', 'Unfortunately', 'Gov.', 'Foundation', \"State's\", 'tetrachloride', 'individually', 'assert', 'awake', 'Frederick', 'nest', 'Mexico', 'sketches', 'Pamela', 'mechanics', 'Chairman', 'Wisconsin', 'harbor', 'sheep', 'achievements', 'rolling', 'wiped', 'avoided', 'Stadium', 'Cuban', 'likes', 'loud', 'twisted', 'Rousseau', 'improvements', 'patents', 'aroused', 'indication', 'filing', 'enforcement', 'sera', 'champion', 'arrested', 'immortality', 'physics', 'attract', 'fantastic', 'rubbed', 'pronounced', 'policeman', 'representation', 'partnership', 'brass', 'adolescence', 'dairy', 'observers', 'Beyond', 'monument', '1945', 'religions', 'parlor', 'Modern', 'ratios', 'Sergeant', 'ceremony', 'officially', 'Said', 'effluent', 'servant', 'marry', 'privilege', 'humble', 'nonspecific', 'Saxon', 'autonomy', 'roared', 'proceedings', 'comprehensive', 'Academy', 'mechanisms', 'founded', 'Harbor', 'Dick', 'pioneer', 'resting', 'drops', 'stolen', 'earned', 'commerce', 'aged', 'congregations', 'relax', 'predicted', 'deadly', 'shipping', 'sons', 'ranged', 'applicable', 'specialized', 'Kowalski', 'terribly', 'Room', 'jungle', 'systematic', 'escaped', 'drift', 'physically', 'earnest', 'subjective', 'iodine', 'Stephen', 'Remember', 'instantly', 'hospitals', 'flower', 'gallery', 'bathroom', 'investigated', 'businesses', 'marble', 'attributed', 'consistency', '50%', 'sung', \"doctor's\", 'cooperative', 'manufacture', 'objection', 'favored', 'corporate', 'tooth', 'disposed', 'kicked', 'livestock', 'crops', 'interrupted', 'Griffith', 'wildlife', 'ridiculous', 'deliver', '400', 'designer', 'slender', 'buried', 'phrases', \"Can't\", 'supreme', 'splendid', 'snapped', 'Islands', 'emphasized', 'submit', 'styles', 'directors', 'plainly', 'folks', 'informal', 'repeatedly', 'brick', '35', 'defended', 'gather', 'exceptional', 'classroom', 'supplement', 'gains', 'makers', 'priority', 'coach', 'Oxford', 'Yankee', 'tensions', 'overhead', 'lamp', 'Upton', 'judges', 'Helion', 'lap', 'Austin', 'abrupt', 'workshop', 'string', 'player', 'spectacle', 'epic', 'bargaining', 'underground', 'camps', 'Tokyo', 'strikes', 'acted', 'grams', 'sank', 'circuit', 'causing', 'Cobb', 'Columbia', 'bat', 'locations', 'assignments', 'tournament', 'naive', 'theology', 'bunk', 'interval', 'straightened', '80', 'tray', 'invitation', 'emerge', 'Barco', 'theories', 'brightness', 'proportions', 'talks', 'glory', 'Harvey', 'Religion', 'cosmic', 'voters', 'Stevie', 'puzzled', 'Arkansas', 'refers', 'shrugged', 'competence', 'eighteenth', 'fats', 'Langford', \"men's\", 'Grand', 'costumes', 'Kitti', 'mustard', 'Jazz', 'boss', 'Tommy', 'proceed', 'hostile', 'sixty', 'affection', 'basically', 'simpler', 'Meredith', 'mathematics', 'Week', 'speaks', 'Andrei', 'rugged', 'Ah', 'Few', 'lip', 'technological', 'Madden', 'aluminum', 'Organization', 'exercised', 'Keys', 'faster', 'consumption', 'compelled', 'daytime', 'succession', 'Southeast', 'differ', 'commented', 'blowing', 'birthday', 'sixteen', 'corners', 'announce', 'arose', 'History', 'movable', 'denial', 'Ernie', 'drug', 'shifted', 'situated', 'prize', 'theoretical', 'Stevens', 'toast', 'remarkably', 'faded', 'vicious', 'transport', 'neglected', 'captured', 'Lizzie', 'Banks', 'cooled', 'Fire', 'Rob', 'stocks', 'sensed', 'abruptly', 'convenience', 'ammunition', 'inquiry', 'praise', 'Golden', 'shorter', 'destroying', 'sums', 'K.', 'admired', 'shocked', 'seal', 'associate', 'Community', 'Cleveland', 'Hank', 'Pierre', 'artificial', 'brains', 'accelerometer', 'and/or', 'codes', 'motions', 'Giffen', 'interaction', 'basket', 'prevailing', 'Health', 'hunger', 'pays', 'collar', 'pushing', 'chaos', 'delivery', 'Keep', 'tanks', 'screaming', 'screamed', 'Lalaurie', 'substances', 'Fortunately', 'assign', 'Angie', 'Milton', 'holy', 'chart', 'designated', 'copies', 'sport', 'Geneva', 'Listen', 'flood', 'customs', 'separation', 'advances', 'circular', 'Baptist', 'hay', 'flowing', 'Seventh', 'squeezed', 'Usually', 'renewed', 'print', 'alternatives', 'Lao', 'departure', 'preaching', 'desert', 'corridor', 'interviews', 'declined', 'expecting', 'infinite', 'Ballet', 'Gulf', 'bears', 'formidable', 'reporting', 'crystal', 'checks', 'accompanying', 'entries', 'guitar', 'diplomacy', 'defensive', 'acceleration', 'cracked', 'Show', 'Far', 'cap', 'barriers', 'balls', 'flame', 'Horn', 'editors', 'scientist', 'intersection', 'Benson', 'murmured', 'acquisition', 'obscure', 'undertaken', 'compensation', 'undoubtedly', 'Lieutenant', 'rests', 'followers', 'violation', 'pastor', 'stretching', 'milling', 'Ma', 'reverse', 'shifts', 'present-day', 'loyal', 'enjoying', 'staying', 'supernatural', 'females', 'beloved', 'stall', 'Yeah', 'brand', 'indifference', 'transom', 'holiday', 'medieval', 'Otherwise', 'merchants', 'throwing', 'pockets', 'resentment', 'surprisingly', 'mistaken', 'hypothesis', 'campaigns', 'crown', 'wing', 'stripped', 'illustrate', 'progressive', 'molecular', 'historians', 'neighborhoods', 'Connecticut', 'chorus', 'uncle', 'lest', 'seasons', 'wagons', 'absurd', 'eighth', 'logic', 'aggressive', 'fan', 'visits', 'forgot', 'notions', 'implied', 'resolved', 'formulation', 'Security', 'dome', 'distances', 'counted', 'Raymond', 'Standard', 'cats', 'awful', 'anniversary', 'cops', 'consulted', 'Nadine', 'lit', \"They'll\", 'performing', 'capture', 'anonymous', 'Fulton', 'awards', 'quote', 'Dec.', 'persuade', 'god', 'Please', 'well-known', 'inquiries', 'gin', 'Special', 'sunlight', 'Frankie', 'rested', 'suicide', 'bureau', 'Hamilton', 'via', \"woman's\", 'friction', 'consist', 'v.', 'Carroll', 'intuition', 'jail', 'underlying', 'vaguely', 'Ada', 'Burma', 'sole', 'socialism', 'formally', 'vitality', 'popularity', 'BOD', 'awarded', 'explosive', 'belonged', 'Krim', 'Christians', 'Trevelyan', 'slowed', 'Love', 'loudly', 'Moreland', 'shaped', 'describing', 'Simms', 'kingdom', 'chip', 'bitterness', 'Anniston', 'erected', 'plantation', 'spontaneous', \"husband's\", 'TSH', 'useless', 'voyage', 'photograph', 'grasp', 'Cape', 'amendment', 'fuel', 'possess', 'palm', 'comparative', 'heroes', 'asks', 'candle', 'engines', 'preservation', 'muttered', 'damned', 'shops', 'injustice', 'import', 'Mission', 'Scott', 'flexibility', 'flag', 'instructed', 'Declaration', 'resume', 'bleeding', \"boy's\", 'Walker', 'Right', 'Anthony', 'Henri', 'mailed', 'youngsters', 'broadcast', 'ideals', '500', 'tracing', 'Mae', 'confession', 'confident', 'weary', \"he'll\", 'heated', 'asserted', 'secants', 'spreading', 'orange', 'reflecting', 'translated', 'detectives', 'keys', 'installations', 'Code', 'inquired', 'crouched', 'Free', 'Stein', 'allocation', 'I.', 'inserted', 'orientation', 'ticket', 'wanting', 'horror', 'qualifications', 'shell', \"Hudson's\", 'synthesis', 'priest', 'operand', 'contents', 'orbit', 'Willis', 'secular', 'fences', 'inability', 'Dickens', 'lessons', 'severely', 'pitching', 'overnight', 'matched', 'tap', 'wives', 'cylinder', 'gambling', 'Denver', 'satisfy', 'referring', 'delighted', 'chores', 'buffer', 'traveling', 'slammed', 'mistakes', 'uncertainty', 'Nelson', 'forehead', 'conformity', 'beautifully', 'adjust', 'earn', 'legislators', 'kiss', 'persistent', 'implies', 'unto', 'telephoned', 'collect', 'finest', 'trim', 'portrait', 'Me', 'fame', 'refuse', 'sketch', 'breed', 'Handley', 'legitimate', 'sites', 'trails', 'spotted', 'Payne', 'costly', 'rage', 'proposition', 'cockpit', 'selective', 'humorous', 'philosopher', 'improving', 'taxi', 'fee', 'Gray', 'influenced', 'raises', 'sins', 'museum', 'consent', 'draft', 'gown', 'hitting', 'Someone', '1910', 'graph', 'stride', 'financed', 'liver', 'gotten', 'partners', 'analytic', 'payroll', 'Hawaii', 'curriculum', 'Byron', 'outfit', \"o'\", 'Viet', 'aims', 'rows', 'disastrous', 'loop', 'Hammarskjold', 'lined', 'alien', 'clearing', 'bass', 'pen', 'statue', 'opens', 'mortgage', 'flavor', 'fires', 'tile', 'silently', 'metaphysical', 'confined', 'confirm', 'squad', 'thyroglobulin', 'bunks', 'abuse', 'camping', 'minimize', 'respiratory', 'odd-lot', 'angular', 'successor', 'Brooks', 'notably', 'discussing', 'Up', 'operators', 'bounced', 'Trial', 'farms', 'compounds', 'readings', 'closet', 'illustration', 'alarm', 'thee', 'span', 'rail', 'graduates', 'chemistry', 'documents', 'excluding', 'ambitious', 'apartments', 'pottery', 'devised', 'jar', 'lover', 'ivory', 'Following', 'translation', 'Stuart', 'shake', 'foolish', 'Mount', 'Occasionally', 'Clay', 'leveling', 'Asked', 'abandon', 'hers', 'messages', 'dangers', 'bulk', 'deserves', 'Styka', 'thereof', 'occupy', 'obligation', 'spun', 'cavalry', 'unnecessary', 'Claire', 'commit', 'diseases', 'stating', 'viewpoint', 'Gavin', 'Power', 'Way', 'None', 'Revenue', 'switched', 'imaginary', 'correlation', 'vertical', 'M', 'conclude', 'isolation', '42', 'fringe', 'twist', 'Greece', 'bitterly', 'Cranston', 'serum', 'expectations', 'piled', 'link', 'compatible', 'Already', 'employers', 'clover', 'spray', 'endurance', 'appearing', 'translate', 'whites', 'priests', 'conjunction', 'photographs', 'anyhow', 'bunch', 'weighed', 'Geometric', 'titles', 'cowboy', 'strengthen', 'sober', 'justification', 'dusty', 'claiming', 'Nicolas', 'requiring', 'hiding', 'Back', 'fitting', 'Hanford', 'downward', 'cherished', 'Museum', 'audiences', 'nurse', 'inherited', 'allowance', 'star', 'morale', 'ample', 'gonna', 'suburbs', 'wasted', 'adequately', 'Ray', 'circulation', 'fancy', 'Montgomery', '1/2', 'optimum', 'Military', 'Superior', 'ruined', 'disturbing', 'halfway', 'Rose', 'maintains', 'jaw', 'voltage', 'Fifth', 'opium', 'waved', 'infectious', 'geographical', 'quest', 'insights', 'glimpse', 'Similarly', 'goodness', 'indirectly', 'steam', 'thereafter', 'differently', 'reads', 'capita', 'Sec.', 'Gilborn', 'ate', 'Line', 'simplicity', 'commitments', 'elementary', 'Temple', 'lyrics', 'preceded', \"what's\", 'tore', 'deals', 'Sea', 'stove', 'landed', 'disappointment', 'sentimental', 'staged', 'Vice', 'contours', '1944', 'segregated', 'Havana', 'joining', 'self-help', 'clue', 'Continental', 'governed', 'blast', 'crying', 'attraction', 'guerrillas', 'Englishman', 'daylight', 'pursuit', 'Common', 'forbidden', 'divisions', 'thru', 'disappointed', 'Berger', 'client', 'tense', 'cracking', 'Marine', 'stature', 'tourist', 'Northwest', 'feasible', 'essence', 'farming', 'missions', 'Amy', 'specialist', 'seemingly', 'restricted', 'miracle', 'cease', 'Waddell', 'ambitions', 'Sloan', \"women's\", 'dragged', 'trick', 'practicing', 'verdict', 'purchases', '1940', 'anchor', 'Ryan', 'optimism', 'Thank', 'agreements', 'Stevenson', 'penetration', 'ninth', 'crude', 'sturdy', 'needle', 'indicating', 'trains', 'Juanita', 'tightly', 'ties', 'battens', 'dug', 'decrease', 'deliberate', 'novelist', 'Roger', 'stimulus', 'stirring', 'nut', 'Bridge', 'Ulyate', 'Dutch', 'dimension', 'glorious', 'vanished', 'Ten', 'substituted', 'commanded', 'unemployment', 'Naturally', 'Selden', 'tract', 'burn', 'Cambridge', 'glow', 'muscular', 'afterward', 'exhibits', 'pools', 'sustained', 'textiles', 'networks', 'differential', 'discouraged', 'intensive', 'whiskey', 'Local', 'intend', 'imports', 'stirred', 'rope', 'soils', \"Department's\", 'touching', 'palace', 'vs.', 'batting', 'reward', 'devote', 'virtues', 'parks', 'explosion', 'Powell', 'assault', 'kissed', 'catcher', 'meaningless', 'dropping', 'Al', 'battery', 'reasoning', 'Norman', 'memories', 'Jerry', 'excellence', 'realities', 'nineteenth-century', 'tentative', 'preventive', \"Drug's\", 'biological', 'boost', 'validity', 'gradual', 'transmission', '1912', 'fluids', 'plunged', 'constructive', 'shower', 'Steinberg', 'onion', 'ham', 'ashamed', 'bottles', 'potato', 'Morton', 'contributing', 'deserted', 'Elizabeth', 'Carla', 'kick', 'Dandy', \"wife's\", 'Oriental', 'ballistic', 'razor', 'wider', 'Aegean', 'dish', 'dragging', 'p.', 'printing', 'distinctions', 'defeated', 'productivity', 'sweep', 'shipments', \"Pont's\", 'oppose', 'Homeric', 'Stalin', 'apt', 'potatoes', 'prolonged', 'Katie', 'collage', 'sights', 'Determine', 'shortage', 'distress', 'heavier', 'comparatively', 'tones', 'bees', 'Laboratory', 'accustomed', 'domination', 'Buck', 'opponent', 'fabric', \"Fromm's\", 'alter', 'Eugenia', 'explanations', 'Dark', 'linked', 'senses', 'invasion', 'sheriff', 'Somehow', 'judged', 'coalition', 'texture', 'hire', 'onset', 'commonplace', \"Hardy's\", 'sponsor', 'guessed', 'Fromm', 'Congressman', 'misery', 'peak', 'denominations', 'refusal', 'railroads', 'considers', 'clever', 'heritage', 'alongside', 'exhausted', 'sooner', 'continuation', 'doorway', 'employes', 'Internal', 'Socialist', \"country's\", 'cared', 'cafe', 'Minister', 'Anything', 'Festival', 'pill', 'writings', 'lung', 'owed', 'operates', 'optimistic', 'Chamber', 'vegetables', 'packing', 'doubts', 'Burton', 'juvenile', 'tappet', 'flashed', 'remind', 'actors', 'reactionary', 'knock', 'competing', 'arranging', 'vessel', 'Blackman', 'dissolved', 'horrible', 'creature', 'parent', 'swinging', 'damp', 'originated', 'termed', 'Israel', 'cubic', 'react', 'silly', 'Biblical', 'proves', 'pin', 'petition', 'personalities', 'picnic', 'committees', 'Radio', 'Madame', \"they'll\", 'unpleasant', 'mentally', 'freezing', 'smashed', 'scored', 'lecture', 'qualify', 'helium', 'burns', 'drain', 'Lublin', 'physician', 'straw', 'arguments', 'arteries', 'Library', 'indispensable', 'sociology', 'socially', 'eighteen', \"Russia's\", 'literal', 'proportional', 'carved', 'wrapped', 'selections', 'nearer', 'eligible', 'driveway', 'bow', 'coupled', 'convicted', 'upset', 'survived', 'readiness', 'Marty', 'strips', '10,000', 'superiority', 'fails', 'cleaned', 'Between', 'centered', 'molding', 'loses', 'leap', 'threshold', 'deemed', 'fruits', 'producers', 'wax', 'fighters', 'dismissed', 'Diane', 'odor', 'province', 'drag', 'entertain', 'Model', 'highways', 'Emory', 'supports', 'succeed', 'appearances', 'careers', 'penetrating', 'lemon', 'valued', 'Fourth', 'commands', 'folded', 'one-third', 'bubbles', 'rescue', 'revolver', 'determines', 'Daniel', 'Speaking', 'width', 'Dominican', 'retreat', 'Churches', 'hats', 'expedition', 'rounded', 'oldest', 'flung', 'debut', 'celebrated', 'fury', 'attach', 'Eve', 'vulnerable', 'realtors', 'conceive', 'sweater', 'hastily', 'Swiss', 'influences', 'pit', 'Advisory', 'proceeds', 'boxes', \"Plato's\", 'combine', 'thoughtfully', 'seats', 'dislike', 'complaint', 'expressions', 'candy', 'ceremonies', 'mild', 'Command', 'Garryowen', 'scrutiny', 'connections', 'swiftly', 'reluctant', 'boundaries', 'Belgian', 'administered', 'achieving', 'heater', 'counsel', 'ignorance', 'policemen', 'Greville', 'coordination', 'Yalta', 'prescribed', 'stare', 'Amen', 'adventure', 'beaches', 'flights', 'sincere', 'capability', 'attic', 'Picasso', 'unfortunately', 'swore', 'generator', 'paths', \"He'll\", 'pie', 'Welch', 'criticized', 'AP', 'soup', 'feared', 'pine', 'pan', 'analyzed', 'Theodore', 'dared', 'threats', 'honors', 'python', 'usage', 'Behind', 'fix', 'delegates', 'woke', 'touches', 'preparations', 'intact', 'Nassau', 'bothered', 'cruel', 'lion', 'executed', 'short-term', 'Song', 'True', '15th', 'projected', 'border', 'pairs', 'Beverly', 'marching', 'climax', 'momentum', '45', 'Water', 'illuminated', 'backs', 'toll', 'fork', 'cups', 'Eichmann', 'upright', 'Kent', 'pursued', 'cop', 'Okay', 'husbands', 'conjugates', 'chill', 'sizable', 'picking', 'administrator', 'borrowed', 'organize', 'Angels', 'Jessica', 'pickup', 'vigor', 'grim', 'statistical', 'tobacco', 'Beowulf', 'Edythe', 'Aunt', 'spectra', 'Start', 'Kentucky', 'blank', 'relaxed', 'Harlem', 'Renaissance', 'favorably', 'amended', 'prone', 'clung', 'uncomfortable', 'daughters', 'arises', 'Confederate', 'deviation', 'contempt', 'treats', 'Joan', 'painfully', 'indications', 'Jay', 'shallow', 'rancher', 'Export-Import', 'protective', 'accommodate', 'Shall', \"industry's\", 'ruin', 'annually', 'scenery', 'reforms', 'purchasing', 'profitable', 'eliminating', 'solitary', 'nails', 'bathing', 'colonial', 'Additional', 'bell', 'nursing', 'clearer', 'seventh', 'tickets', \"Jess's\", 'coordinated', 'bark', 'immense', 'aqueous', 'paragraphs', 'disapproval', '$1', 'summary', 'uniforms', 'heap', 'caution', 'intent', 'singular', 'counts', \"Khrushchev's\", '1947', 'publications', 'Ages', 'proteins', 'drums', 'pro', 'speeds', 'appealing', 'resonance', 'engage', 'Garth', 'employer', 'sensation', 'armies', 'Recently', 'evenings', 'pains', 'sustain', 'spectrum', 'yarn', 'Representatives', 'emerging', 'decomposition', 'pianist', 'fig.', 'manners', 'producer', 'organs', 'superb', 'breeze', 'draws', 'amusing', 'encouragement', 'rupees', 'V.', 'Alice', 'Control', 'penalty', 'Bari', 'bored', 'horn', 'alliance', 'Iliad', 'Egypt', 'passenger', 'frightening', 'locate', 'Protestants', 'Theater', 'Columbus', 'approve', 'framed', 'habitat', 'diagonalizable', 'applause', 'remembering', 'trustees', 'structured', 'conditioning', 'symptoms', 'significantly', 'sensible', 'participating', 'foundations', 'gradient', 'feathers', 'answering', 'instinct', 'discretion', 'disclosed', 'revised', 'irrelevant', 'professors', 'failing', 'fastened', \"town's\", 'Check', 'judicial', 'polished', 'monopoly', 'loving', 'enterprises', 'shells', 'shoe', 'Hodges', 'celebration', 'Planning', 'merits', 'transit', 'odds', 'lawn', 'cannery', 'restored', 'hopeless', 'gum', 'Irenaeus', \"people's\", 'apprentice', \"day's\", 'affixed', 'oils', 'rivers', 'cafeteria', 'countless', 'dwelling', 'smallest', 'Utopian', 'mileage', 'cousin', 'beaten', 'Space', 'eagerly', 'Put', 'strings', 'files', 'Below', 'superintendent', 'Gallery', 'arrow', 'Commissioner', 'lever', 'restrained', 'preferably', 'Tory', 'collecting', 'imply', 'solids', 'insert', 'dean', 'supplying', 'Nam', 'references', 'fictional', 'Ed', 'permanently', 'modified', 'Greene', 'ordering', 'Light', 'classified', 'tumbled', 'dumb', 'singers', 'Malraux', 'abilities', 'fits', 'blade', 'familiarity', 'averaged', 'Empire', 'conducting', 'relieve', 'pint', 'Nazi', 'Rep.', 'invitations', '65', 'monk', \"we've\", 'explaining', 'adopt', 'prayers', 'disposition', 'fists', 'bull', 'clarify', 'investigators', 'lend', 'Naval', 'moonlight', 'Telegraph', 'cluster', 'associates', 'remedy', 'separately', 'flames', 'gaining', 'understandable', 'Using', 'brutality', 'monstrous', 'involvement', 'statewide', 'port', 'miserable', 'Bishop', 'swift', 'Assistant', 'nighttime', 'cone', 'congressional', 'dictatorship', 'Birmingham', 'gates', 'acid', 'Word', 'Turning', 'utter', 'lowest', 'prose', 'Children', 'monitoring', 'depreciation', 'Oklahoma', 'pepper', 'derive', 'Truman', 'romance', 'reviewed', 'dough', 'Minnesota', 'Packard', 'suspicious', 'colt', 'Rod', 'rental', 'athletic', 'casually', 'lasting', 'static', 'hormone', 'debt', 'Springs', 'plasma', 'par', 'owns', 'businessmen', 'rebellion', 'cows', 'Sox', 'imaginative', 'defending', 'hut', 'frieze', 'taxed', 'Comedie', 'Glendora', 'Helen', 'steep', 'implicit', 'fellows', 'appeals', 'impersonal', 'paramagnetic', 'sentences', 'Lucille', 'ideology', 'commitment', 'behave', 'statutory', 'behaved', 'Doctor', 'sinister', '800', 'pole', 'curled', 'Ireland', 'correctly', 'treasurer', 'ethics', 'economics', 'observer', 'Thayer', 'assets', 'Figures', 'handy', 'pending', 'barbecue', 'sells', 'waving', 'publishing', 'Garibaldi', 'accelerated', 'handful', 'walks', 'nuclei', 'manifold', 'streetcar', 'witnessed', 'gifted', 'Generally', 'Ambassador', 'roar', 'collapsed', 'stimulation', 'abundance', 'integral', 'curb', 'solar', 'McClellan', 'safely', '1900', 'Scotland', 'A.L.A.M.', 'stopping', 'breakdown', 'N.Y.', 'G', 'Copernicus', 'twentieth', 'Women', 'unaware', 'Ave.', 'litigation', 'maps', 'rely', 'sprang', 'Along', 'Somewhere', 'subsection', 'opposing', 'couples', 'omitted', 'Garden', 'satisfying', 'Piepsam', 'lantern', 'tries', 'carpet', 'undertake', 'mutually', 'abstraction', 'portable', 'leveled', 'liberalism', 'fond', 'Order', 'brooding', 'Jeep', 'assuming', 'proclaim', 'null', 'exerted', 'exaggerated', 'grin', 'beating', 'Building', 'spur', 'Sally', 'rounds', 'Arlen', 'programing', 'ethnic', 'Hart', 'tissues', 'evaluate', 'equilibrium', 'insane', 'rug', 'solidarity', 'typically', 'charcoal', 'Colorado', 'ton', 'crimes', 'treaty', 'restless', 'invented', 'forcing', 'Whenever', 'modernization', 'nursery', 'enters', 'autistic', 'outset', 'expand', 'biography', 'psychology', 'tips', 'convey', 'linguist', 'Dad', 'Death', 'champagne', 'Gardens', 'spokesman', 'beams', 'Democrat', 'Hand', 'rockets', 'Prairie', 'Night', 'doses', 'missionary', 'cruelty', 'protested', 'neighbor', 'Guard', 'Lester', 'Food', 'squares', 'fusion', 'defects', 'guaranteed', 'experimentation', 'tumor', 'enabling', 'Unless', 'radically', 'elderly', 'Forests', 'manpower', 'Members', 'Products', 'resemblance', 'perceive', 'rubber', 'conditioner', 'undue', 'sincerity', 'planners', '32', 'Yale', 'phosphor', 'repetition', 'belonging', 'Methodist', 'differed', 'acute', 'Somebody', 'begged', 'creates', 'stability', 'progressed', 'ace', 'Ludie', 'objections', 'lectures', 'casework', 'objected', 'dot', 'Hope', 'cake', 'scores', 'earnestly', 'underwater', 'Indiana', 'mix', 'Lou', 'customary', 'complexity', 'politician', 'toilet', 'invariant', 'GOP', 'unfair', 'placement', 'Argiento', 'sector', 'blockade', 'patch', 'screwed', 'posture', '$600', 'cereal', 'forgiveness', 'shattered', 'elegant', 'decay', \"officer's\", 'Athabascan', 'WTV', 'incomplete', 'matches', 'deepest', 'gloom', 'vigorously', 'appealed', 'afternoons', 'therapeutic', 'contradiction', 'selecting', 'Hino', 'sue', 'communicate', 'analogy', 'Kohnstamm-positive', 'Kohnstamm', 'scream', 'X', 'compulsivity', 'document', 'corruption', 'sealed', 'roleplaying', 'cheeks', 'visitor', 'participated', 'Lafayette', 'tempted', 'computer', 'thread', 'execution', 'tub', 'meanwhile', 'lagoon', 'Ill.', 'Mays', 'quit', 'vocal', 'embrace', 'propose', 'likewise', 'ultraviolet', 'praised', 'consumed', 'influential', 'Hills', 'drainage', 'compass', 'Oersted', 'detection', 'deputies', 'receiver', 'inhabitants', 'antenna', 'erect', \"night's\", 'Graham', 'graduated', 'promoting', 'bacterial', 'surviving', 'A.M.', 'infantry', 'remembers', 'standpoint', 'media', 'diverse', 'Open', 'Low', \"Pip's\", 'boundary', 'necessities', 'sheer', 'suburb', 'ego', 'adapted', 'Inquirer', 'slightest', 'absorb', \"She'd\", 'induced', 'suggesting', 'Anderson', 'Tribune', 'Artists', 'lieutenant', 'clergy', 'explore', 'world-wide', 'independently', 'Ask', 'Market', 'realizing', 'whisper', 'compounded', 'Richardson', 'demographic', 'Cut', 'presumed', 'youngest', 'Persians', 'tilted', 'Winchester', 'swallowed', 'unstructured', 'Anyone', 'tourists', 'eaten', 'pray', 'Chris', 'Charter', 'tank', 'spokesmen', 'coincide', 'trailers', \"Foundation's\", 'deduct', 'cooler', 'lately', 'bastards', 'Income', 'prayed', 'Richmond', 'amid', 'Sansom', 'affirm', 'aspirations', 'blocked', 'performers', 'Monsieur', 'lens', 'inning', 'tennis', 'ridge', 'prosperity', 'harsh', 'solemn', 'gaze', 'employ', 'Switzerland', 'Rockefeller', 'strokes', 'Station', 'Hunter', 'downstairs', 'nilpotent', 'stereotype', 'crashed', 'mare', 'adventures', 'intersections', 'anti-slavery', 'McFeeley', 'Andrus', 'manned', 'gossip', 'leaning', 'exclaimed', 'blew', 'suspension', 'sisters', 'combustion', 'dolls', 'decides', 'pro-Western', 'magical', 'fulfillment', '2:36', 'purse', 'unlocked', 'ironic', 'hymen', 'meadow', 'equality', 'partisan', 'enacted', 'Electric', 'perceived', 'Garry', 'trot', 'welcomed', 'processed', 'Purdew', 'cane', 'Recent', 'intellectuals', 'fearful', 'Churchill', 'Friends', 'expended', 'buddy', 'dental', 'limp', 'cm.', 'Meltzer', '$500', 'festival', 'detected', 'joints', 'Data', 'fountain', 'Bryan', 'controversial', 'two-thirds', 'weep', 'farewell', 'luminous', 'yielded', 'entertaining', \"Women's\", 'Federation', 'unwed', 'believing', 'interpretations', 'choices', 'islands', 'unlimited', 'secant', 'Country', 'restaurants', 'halted', 'challenging', 'cumulative', 'fantasy', 'whipped', 'Brassnose', 'insect', 'Fine', 'acknowledged', 'installation', 'egg', 'wrinkled', 'functioning', 'legislature', '1943', 'Max', 'staggered', 'durable', 'dialogue', 'Grant', 'carryover', 'chapters', 'incest', 'passions', 'enabled', 'fleet', 'hairs', 'Tri-State', 'sizes', 'honestly', 'pension', 'bubble', 'purity', 'vessels', 'discount', 'seeming', 'beds', 'Better', 'landlord', 'Gabriel', 'kicking', 'diversity', 'refrigeration', 'blues', 'parochial', 'initiated', 'Korea', 'leaf', 'porous', \"Lord's\", 'Drive', 'virus', 'Cappy', 'overall', 'incentive', 'defenses', 'stones', 'inventories', 'Delphine', 'Andrew', 'extends', 'Farm', 'Southwest', 'Feathertop', 'stereo', 'pleading', 'pretending', 'Wayne', 'heights', 'liquidation', 'temptation', 'Try', 'cigarettes', 'Hetman', 'louder', 'deficit', 'Mexicans', 'baptized', '1913', 'cm', \"Steele's\", 'stubborn', 'elevator', 'cab', 'Guam', 'Yang', 'Seeing', 'focused', 'snap', 'foremost', 'idle', 'insoluble', 'distinctly', 'correspondent', 'terminate', 'statute', 'supposedly', 'quaint', 'incorporated', 'state-owned', 'absorption', 'contended', 'irony', 'blindness', 'resident', 'Ptolemaic', 'maker', 'Cooper', 'acknowledge', 'attendant', 'boil', 'urgency', 'Dwight', '20th', 'painters', 'dice', 'lighter', '104', 'alcohol', 'calculation', 'agriculture', 'composite', 'spectators', 'breaks', 'adolescent', 'episode', 'bastard', '$100', 'Bulletin', 'smoothly', 'adjacent', 'hardened', 'maids', \"Trevelyan's\", 'layer', 'terminal', 'map', 'blades', 'copper', 'arriving', 'Future', 'molded', 'loosely', 'Atlas', 'cabinet', 'Everybody', 'crossroads', 'floors', 'sweeping', 'neon', 'gods', 'newest', 'compact', 'diagnosis', 'transferor', 'mythological', 'hollow', 'masters', 'theatrical', 'formulaic', '1.5', 'undergoing', 'unadjusted', 'evidenced', 'hopeful', 'furiously', 'Harmony', 'Benjamin', 'Monroe', 'infrared', 'grab', 'individualism', 'tappets', 'traced', 'everyday', 'swollen', 'Selkirk', 'requested', 'opponents', 'passionate', 'convert', 'territorial', 'Taking', 'shelf', 'Lumumba', 'Metropolitan', 'raced', 'chewing', 'ignorant', 'wealthy', 'grandfather', 'resolve', 'lime', 'sunset', 'consciously', 'dentist', 'villages', 'collaboration', 'Beethoven', 'transparent', 'nomination', 'rebels', 'Russell', 'populated', 'elite', 'youthful', 'evolution', 'stockade', 'ceased', 'lasted', \"Roberts'\", 'coatings', 'Turkish', '7th', 'retention', 'aloud', 'resultant', 'Masters', 'Grandma', 'tower', 'sunny', 'Age', 'Mass.', 'Parliament', 'dependence', 'Joel', 'icy', 'deserved', 'Trujillo', 'recalls', 'sorts', 'reacted', 'murders', 'Soviets', 'boot', 'antigen', 'counting', 'Nazis', 'doubtless', 'Pentagon', 'babies', 'acquainted', 'credited', 'ordinarily', 'turmoil', 'co-operation', 'ominous', 'wires', 'lyric', 'cavity', 'mercenaries', 'composers', 'strengthening', 'jerked', 'resort', 'sadly', 'antibody', 'guerrilla', 'vocabulary', 'effected', 'deserve', \"kid's\", 'dialysis', 'lightning', 'Emperor', 'accordingly', 'gauge', 'Torrio', 'nerve', 'trigger', 'crest', 'adjoining', 'News', 'nineteen', 'teen-agers', 'advisers', 'daring', 'phony', 'impulses', 'interviewed', 'Has', 'ballot', 'initially', 'Half', 'antique', 'violently', 'Hot', 'Essex', 'Inside', 'noting', 'circumstance', 'speakers', 'giants', 'chickens', 'couch', 'Charlotte', 'globe', 'Discovery', 'thunder', 'pity', 'Herbert', 'instituted', 'anaconda', 'stray', 'ribbon', 'fashionable', 'promoted', 'settlers', 'salesman', 'indictment', 'gripped', 'Shelley', 'Congolese', 'borders', 'Pearson', 'proven', 'eccentric', 'satisfactorily', '38', 'capitalism', 'embarrassing', 'evaluated', 'deficiency', 'Hesperus', 'weights', 'towels', 'muffled', \"Scotty's\", 'render', 'sodium', 'frighten', 'tear', 'Chapel', 'breast', 'beg', 'injuries', 'airplane', 'counterparts', 'bursting', 'Earl', 'happier', 'infancy', 'sexes', 'furnace', '1920', 'trailer', 'sixties', 'construct', 'constitution', 'Korean', 'presidential', 'curse', 'ribs', 'Bar', 'squeeze', 'juice', 'restraint', 'bits', 'Hillsboro', 'enzymes', 'marking', 'proprietor', 'Column', 'custom', 'ninety', 'Exchange', 'crawl', 'requests', 'purple', 'concentrate', 'electoral', 'sprawled', 'deciding', 'commercially', 'Fall', 'twenty-four', 'unusually', '$1,000', 'Vince', 'Knight', 'Boys', 'rabbit', 'threaten', 'successive', 'fixing', 'accumulation', 'rejects', '1941', 'limiting', 'Reserve', 'tender', 'Main', 'Pohl', 'towering', 'loading', 'civilized', 'fluorescence', 'compartment', 'drastic', 'enclosed', 'colonel', 'Timothy', 'comprise', 'retain', 'disappear', 'snatched', 'rubbing', 'commissioners', 'emotionally', 'passive', \"Jack's\", 'gifts', 'Hey', 'honeymoon', 'rotation', 'exert', 'Railroad', 'buys', 'debts', 'formulated', 'Progress', 'Consequently', 'shaken', 'Dillon', 'Australia', 'forthcoming', 'conclusive', 'Hogan', 'Herald', 'Moon', 'consultant', 'Edwin', 'angles', 'wonderfully', 'calendars', 'liking', 'choosing', 'cylindrical', 'invested', 'settling', 'necessitated', 'revealing', 'dreaming', 'respected', 'warn', 'duration', 'natives', 'mills', 'noticeable', 'divide', 'Tony', 'Jastrow', 'investigate', 'consult', 'acrylic', 'recover', 'moist', 'locating', 'Szold', 'Kremlin', 'planted', 'dose', 'Throat', 'grasped', 'rejection', 'chronic', 'arched', 'grill', 'declares', 'entities', 'enlisted', 'meats', 'lane', 'shades', 'poorly', 'apprehension', 'fur', 'Anglican', 'pavement', 'Introduction', 'taxpayer', 'intelligible', 'comfortably', 'constitutes', 'lodge', 'foregoing', 'Heights', 'deaf', 'Dylan', 'formulations', 'keen', 'contrasts', 'cemetery', 'treatments', '90', 'bloom', 'bronze', 'spinning', 'indifferent', 'flies', 'Jimmy', 'historically', 'Midwest', 'McBride', 'deductions', 'metaphysics', 'frowning', 'mineral', 'conceivable', 'Looking', 'plow', 'yearly', 'gasoline', 'nucleus', 'eloquent', 'bankers', 'lake', 'crept', 'blond', 'script', 'revelation', 'shaft', 'floating', 'cheaper', 'Phillips', 'energies', 'founding', 'pose', 'Oregon', 'complain', 'endured', 'statesman', 'disguised', 'minerals', 'tracks', 'frantic', 'tires', 'orthodox', 'Brumidi', 'Got', 'memorable', 'streams', 'dies', 'therapy', 'pituitary', 'Ross', 'Barnett', 'discrepancy', 'hazard', 'nearing', 'mg.', 'develops', 'Similar', 'criticisms', 'Quint', 'Protestantism', 'L', 'inspect', 'Albany', 'epidemic', 'Agriculture', \"individual's\", 'Moritz', 'observing', 'wired', 'approximate', 'framework', 'posted', 'Dill', 'Presbyterian', 'Taliesin', \"Eisenhower's\", 'appreciated', 'Cubism', 'gap', 'surgeon', 'adopting', 'merchant', 'contrasting', 'portions', 'Sixties', 'twisting', 'awkward', 'amazed', 'motivation', 'trusted', 'partial', 'usefulness', 'shifting', 'tin', 'aerator', 'smiles', 'Services', 'thereto', 'specify', 'theaters', 'Willie', 'integrated', 'investors', 'eventual', 'teaches', 'infant', 'autonomic', 'housed', 'energetic', 'regretted', 'manufactured', 'Ever', 'conceded', 'Hiroshima', 'fulfilled', 'thoughtful', 'Stone', 'childish', 'Information', '1942', 'contraction', 'frustration', 'array', 'Piazza', 'transfers', 'preserves', \"Shakespeare's\", 'Spelman', 'spaces', 'sliding', 'Sons', 'peasants', 'photographic', 'McKinley', 'nod', 'coincidence', 'specimens', 'arising', 'criteria', 'lousy', 'veterans', 'dots', 'wart', 'assistants', 'symbolized', 'entertained', 'explored', 'Maria', 'summit', 'quantities', 'continent', 'Crombie', 'Mahzeer', 'electrons', 'cohesive', 'sanction', 'faithful', 'butt', 'ml', 'pollen', 'rendering', 'Reef', 'carriage', 'temper', 'privacy', 'fatigue', 'mist', 'plowing', 'climb', 'rival', 'meters', 'squarely', 'rebel', 'psychologists', 'Birds', 'incidents', 'narrator', 'actively', 'frankly', 'unified', 'organ', 'delegation', 'coexistence', 'sculpture', 'Easter', 'Less', '41', 'spit', 'gymnastics', 'neglect', 'interpret', 'grimly', 'unexpectedly', 'swim', 'tropical', 'UN', 'Plymouth', 'leisure', '1000', 'nominal', 'premium', 'politically', 'postwar', 'afforded', 'graduation', 'congruence', 'scholar', 'unprecedented', 'scratching', 'distorted', 'rhythms', 'journalism', 'expectation', 'lengthy', 'Venus', 'secured', 'constituted', '250', 'agrees', 'hardest', 'Viola', 'Porter', 'appropriated', 'tomb', 'Michael', 'anticipate', 'Hong', 'Eight', 'posse', 'varies', 'Kong', 'equitable', 'Kehl', 'Vivian', 'rider', 'strained', 'Hampshire', 'airport', 'Rev', 'mounting', 'Claude', 'log', '1,000', 'nigger', 'flush', 'outline', 'architecture', 'Master', 'titled', 'doubled', 'shed', 'barbed', 'cooperate', 'dominance', 'bands', 'undergraduate', 'appetite', 'attributes', 'Trustees', 'cult', 'silk', 'Corp.', 'Maxwell', 'sleeve', 'Mahayana', 'curtain', \"earth's\", 'analyses', 'uniformity', 'finite', 'carriers', 'convincing', 'aided', 'disliked', 'testified', 'surveys', 'rocking', 'locally', 'Town', 'trivial', 'Cross', 'Either', 'cultures', 'rotating', 'timing', 'detached', 'tribes', 'facility', 'proclamation', 'quo', 'possessions', 'microorganisms', 'obtainable', 'outcomes', 'nailed', 'preacher', 'adverse', 'Orioles', 'U', 'perfection', 'dimensional', 'eastern', 'disciplined', 'Winslow', 'laying', 'repaired', 'blankets', 'oriented', 'Polish', 'Side', 'generated', 'beneficial', 'confess', 'treating', 'foreigners', 'schoolhouse', 'ghetto', 'slice', 'sigh', 'compound', '1930', 'vacant', 'waist', 'depressed', 'vapor', 'persisted', 'Pedersen', 'rally', 'urging', 'nitrogen', 'distributions', 'strenuous', 'Lilly', 'blessing', 'Governments', 'risen', 'puzzle', 'la', 'zone', 'halt', 'Gordon', 'descending', 'outward', 'wholesome', \"brother's\", 'insulation', 'screens', 'thermometer', 'button', 'fathers', 'comrades', 'utilize', 'deputy', 'Evans', 'Sturley', 'managerial', 'professionals', 'tasted', 'exceeds', 'instrumental', 'deficiencies', 'tremble', '17th', 'solidly', \"latter's\", 'spark', 'fleeing', 'projections', 'refrain', 'summoned', 'unite', 'Give', 'afterwards', 'vain', 'Fosdick', 'refusing', 'mice', 'expenditure', 'ration', 'poison', 'descent', 'glowing', 'Must', 'enjoys', '57', 'Prize', 'Except', 'deceased', 'greatness', 'plotted', 'mg/l', 'ranges', 'burial', 'duly', 'ripe', 'Adjusted', 'Herman', 'Drexel', 'tents', 'recruit', 'departing', \"We'd\", 'Best', 'A.D.', 'subsequently', 'Littlepage', 'Eleanor', 'Tax', 'merge', 'eighty', 'rake', 'reject', 'hysterical', 'economically', 'contributes', \"girl's\", 'diagram', 'sixteenth', \"bull's-eye\", 'ardent', 'compiled', 'Ramsey', 'Thanks', 'Authority', 'Margaret', 'drastically', 'VA', 'technicians', 'tide', 'coordinate', 'disabled', 'recordings', 'hip', \"Alex's\", 'Pathet', 'Skorich', 'elevated', 'mining', 'dash', 'warmed', 'cursed', 'luggage', 'assessing', 'waiter', 'feminine', 'Hawksley', 'secede', 'principally', 'Odyssey', 'akin', 'founder', 'indebted', 'Asian', 'vice-president', 'hesitate', 'specificity', 'declaring', 'hemisphere', 'vengeance', 'admire', 'Boris', 'editorials', 'avoiding', 'kennings', 'missionaries', 'Sweden', 'pasture', 'perfume', 'segment', 'slim', 'Telephone', 'deposited', 'Stacy', 'mount', 'creep', 'advocate', 'crushed', 'Eyes', 'Simmons', 'alternate', 'insists', 'theft', 'channel', 'slashed', 'lunar', 'radioactive', 'swelling', 'blooming', 'Huff', 'Lauren', 'gm.', 'rushing', 'forecast', 'philosophic', 'prostitution', 'indignant', 'intricate', 'mob', 'prediction', 'negligible', 'Hebrew', 'Depot', 'masterpiece', 'Howe', 'transducer', 'turnpikes', 'Slim', 'muddy', 'cigar', 'entity', 'Cold', 'saloon', 'rustling', 'freed', '36', 'defendants', 'synthetic', \"Isn't\", 'Riverside', 'imperative', 'subsistence', 'preoccupied', 'misleading', 'descriptions', 'Apart', 'brace', 'acreage', 'sermon', 'climbing', 'advisory', 'Stock', 'Autocoder', 'megatons', \"Papa's\", 'Persian', \"Government's\", 'representations', 'Newman', 'misfortune', 'buttons', 'dialect', 'legends', 'educator', 'paste', 'Cavalry', 'waking', 'Sun', 'sings', 'oily', 'utilized', 'clues', 'disagreement', 'coats', 'marital', 'privileges', 'psychologist', 'dozens', 'topics', 'disturb', 'muzzle', 'summers', 'bounds', 'coin', 'Rusk', '85', 'youths', 'framing', 'nickname', 'void', 'impatient', 'hull', 'drilling', 'marines', 'harvest', 'text-form', 'politely', 'cathode', 'robbed', 'albumin', \"Chicago's\", 'Certain', 'magnification', 'layers', 'misunderstanding', 'disturbance', 'catastrophe', 'Dumont', 'lease', 'Pratt', 'assuring', 'earthy', 'paragraph', 'shy', 'fertility', 'acquiring', 'simplest', 'huddled', 'journalist', 'applicants', '1859', 'devoting', 'poised', 'Bright', 'sectors', 'darling', \"Johnson's\", 'Northeast', 'Pops', 'loads', 'prejudice', 'Brandt', 'arch', 'Figs.', 'hardware', 'allotted', 'Trig', 'confronting', 'strict', 'hideous', 'anchored', 'imagery', 'meantime', 'streak', 'pump', 'scar', 'consecutive', '1935', 'Isaac', 'sailed', 'handicapped', 'honesty', 'fragments', 'Romans', 'non-violent', 'genuinely', 'conscientious', 'integrity', 'adjusting', 'obstacle', 'criterion', 'arguing', 'screws', 'privileged', 'implication', '1937', 'Cap', 'diminished', 'patches', 'Foster', 'holster', 'admiration', 'mm.', 'bee', 'archaeology', 'Stop', 'Industry', 'underdeveloped', 'phonologic', 'unfamiliar', 'singled', 'Plains', 'calmly', 'accumulated', 'reservoir', 'semester', 'pleasing', 'Polaris', 'seas', 'Jet', 'tenure', 'reinforce', 'inorganic', 'spreads', 'commute', 'embodiment', 'Tar', 'Hub', 'occurrences', 'likelihood', 'incapable', 'typewriter', 'Steichen', 'decency', 'mortal', 'negotiate', 'allied', 'clients', 'mates', 'relevance', 'nowadays', 'accomplishments', 'theorem', 'mastery', 'learns', 'container', 'Review', 'denying', 'anionic', 'ads', 'paced', 'harness', 'vagina', 'adoption', 'Fla.', 'accuse', 'commercials', 'neurotic', 'argues', 'polynomials', 'danced', 'thirty-five', 'acre', 'schedules', 'elephants', 'doll', 'Goldberg', 'analyze', 'disarmament', 'Lucien', 'mixing', 'combining', 'ad', 'tyranny', 'privately', 'cement', 'Concord', 'Meeker', 'patriotic', 'alleged', 'Magnum', 'museums', 'logically', 'pious', 'identities', 'veto', 'Herr', 'lifetime', '48', 'willingness', 'ingenious', 'stole', \"King's\", 'compilation', 'prints', 'conversations', 'Leonard', \"Who's\", '72', 'parish', 'coarse', 'vegetable', 'uniquely', 'keelson', 'listener', 'Quite', 'bearded', 'margin', 'owe', 'longing', 'gigantic', 'airplanes', 'Larkin', 'Majdanek', 'Emma', 'grief', 'wheeled', 'sociological', 'bags', 'overt', 'constituents', 'sergeant', 'marijuana', 'compulsive', 'three-dimensional', 'licked', 'saint', 'bite', 'impatience', 'sensations', 'consulting', 'elemental', \"Mary's\", 'recognizes', 'admirable', 'accounting', 'abandonment', \"Here's\", 'chains', 'communion', 'Lloyd', 'Carmer', 'nationally', 'bloc', 'immigrants', 'Calhoun', 'guiding', 'amazement', 'Brodie', 'angels', 'detect', 'champions', 'bush', 'undesirable', \"Greg's\", 'chase', 'segments', 'Todman', 'Gazette', 'Aside', 'drum', 'compositions', 'boiled', 'crowds', 'employing', 'limitation', 'raid', '1917', 'scars', 'violin', 'mornings', 'Ken', 'costume', 'Richards', 'Fair', 'doomed', 'Conrad', 'Freeman', 'unanimously', 'segregation', 'Paso', 'AIA', 'Clearly', 'patronage', 'differs', 'rides', 'curiously', 'strode', 'favorites', 'Petitioner', 'completing', 'paints', 'tremendously', 'Route', '71', 'clergyman', 'thumb', 'rolls', 'scanned', 'tops', 'Blues', 'commuter', 'intensely', 'Fellowship', 'Appendix', 'holidays', 'Del', 'Bake', 'retrieved', 'Ernest', 'Ellen', 'conform', 'Whereas', 'aggression', 'symphony', 'Theatre', 'dreadful', 'Warsaw', 'extensively', 'Training', 'diagnostic', 'tunnel', 'awfully', 'cultivated', 'frustrated', 'fake', 'oh', 'Brenner', 'wipe', 'northwest', \"Man's\", 'Hansen', 'launch', 'preventing', 'southeast', 'melodies', 'Staff', 'swear', 'exports', 'judging', 'Istiqlal', 'poultry', 'oxen', 'sail', 'favors', 'feeds', 'fragile', 'pork', 'railway', 'Scottish', 'monks', 'Montero', 'interim', 'restrain', 'wool', 'conjugate', 'Barbara', 'nonsense', 'viscosity', 'no.', 'dimly', 'dramatically', 'specialization', 'token', 'jaws', 'witty', 'ye', 'waterfront', 'bolt', 'Julie', 'pleasantly', 'generals', 'Parents', 'adds', 'linguists', 'undergone', 'restrict', 'militia', 'boredom', 'introduce', 'enduring', 'rhythmic', 'reunion', 'Chester', 'bronchioles', 'bleak', 'Phoenix', 'Ball', 'reckless', 'involution', 'spat', 'Av.', 'murdered', 'motivated', 'guarding', 'Pa.', 'impurities', 'ions', 'stiffly', 'dusk', 'Eromonga', 'Wyoming', 'skies', 'thirteen', 'Grosse', 'ditch', 'distal', 'cooked', 'Blatz', 'occupants', \"governor's\", 'Minneapolis', 'exhibited', 'Oscar', 'corrected', 'derives', 'chairmen', 'eyebrows', 'Hengesbach', 'Randolph', 'Schaffner', 'slower', 'Roebuck', 'duck', 'arrange', 'Gran', 'apportionment', 'Larry', 'delivering', 'Pastern', 'picket', 'f{t}', 'hard-surface', 'sponsors', 'designing', 'sped', 'aerated', 'Shea', 'outright', 'potent', 'proportionate', 'tearing', 'Partisan', 'generators', 'Jupiter', 'Living', \"it'll\", \"other's\", 'businessman', 'averages', 'Marvin', 'spy', 'whirling', 'escort', 'grammatical', 'antibodies', 'chapel', 'dissatisfaction', 'Elec', 'Gonzales', 'sewing', 'humans', 'menace', 'alveolar', 'Rankin', \"It'll\", 'tackle', 'attacking', 'biwa', \"Georgia's\", 'handkerchief', 'heel', 'half-man', 'handles', 'dinners', 'Garson', 'Skeletal', 'deposit', 'Interstate', 'Bears', 'Jubal', 'doubted', 'Bernard', 'ringing', 'Year', 'PBS', 'DEAE-cellulose', 'Trade', 'Shaw', 'Gene', '46', 'End', 'Executive', 'morphophonemics', 'bushes', 'Dogtown', 'discharged', 'drifting', 'resigned', 'Bermuda', 'Hague', 'steeple', 'Jenkins', 'irradiation', 'Giants', 'challenged', 'Credit', 'competitors', 'Moses', 'suds', 'Hohlbein', 'Savannah', 'coins', 'Kayabashi', 'collaborated', 'sore', 'majestic', 'skiff', 'AM', 'Wagner-Peyser', 'Douglass', 'reared', 'dumped', 'regulus', 'Holden', 'flooded', 'Sidney', 'fulfill', 'discharges', 'Esther', 'Cincinnati', 'al', 'Prevot', '1924', 'Profile', 'Freedom', \"else's\", 'palatability', 'Students', 'Kohnstamm-negative', 'Angel', 'taxation', 'subsystems', 'tastes', 'Braque', 'Christiana', 'Byrd', 'finishing', 'Muller', 'figs.', 'clerical', 'depended', 'Docherty', 'Partlow', 'vases', 'stillness', 'draped', 'provinces', 'graceful', 'interfere', 'elder', 'awoke', 'cave', 'hint', 'Mountains', 'sullen', 'slug', 'colleague', 'labeled', 'B-52', 'grease', 'Maine', 'positively', 'Higher', 'cheerful', 'Turnpike', 'Girl', 'departed', 'Eden', 'Australian', 'fox', 'earthquake', 'Into', \"O'Banion's\", \"Island's\", 'lazy', 'resisted', 'chromatic', 'occupational', 'flashes', 'ambassador', '1925', 'guts', 'Barnes', 'plea', 'homely', 'wilderness', 'groupings', 'exploited', \"Peter's\", 'admissible', 'Fiat', 'Plan', 'enables', 'abundant', 'stains', 'nicely', 'precipitated', 'Philharmonic', 'searched', 'Acting', 'anxiously', 'presenting', 'prosecution', 'voluntarily', 'recovered', 'illegal', 'seam', 'bounded', 'prohibition', 'hazards', 'brilliantly', 'ills', 'proudly', 'empire', 'spared', 'orthodontist', 'industrialized', 'pour', 'seams', 'projection', 'Shortly', 'proportionately', 'cheese', 'hastened', 'resource', 'marched', 'settings', 'classics', 'municipalities', 'vitally', '1/4', 'Frankfurter', 'await', 'quack', 'zinc', 'anecdote', 'locker', 'blown', '1933', 'tortured', \"Gavin's\", 'wheat', 'simplify', 'Walton', 'antagonism', 'radius', 'stretches', 'brood', \"Palfrey's\", 'retire', 'skillful', 'consumers', 'cites', '2:35', 'sterile', 'embassy', 'Thor', '150', 'advertised', 'gospel', 'simplified', 'circled', 'emerges', 'denoted', 'attainment', 'paradox', 'equations', 'knit', 'guarantee', 'earning', 'unconsciously', 'geometry', 'constants', 'begging', 'preoccupation', 'Kirby', 'indignation', 'computing', 'illustrations', 'tune', 'soaking', 'calculations', 'Minor', 'destined', 'addressing', 'seeks', 'mask', 'Salter', 'roast', 'extremes', 'amused', 'twentieth-century', 'Harriet', 'Always', 'reins', 'elegance', \"Wright's\", 'picturesque', '10-year', '100,000', 'surveyed', 'Fighting', 'Indies', 'unquestionably', 'resin', 'attractions', 'sticky', 'Precious', 'cautious', 'Dulles', 'Duke', 'ally', 'rack', 'numbered', 'traditionally', 'spontaneously', 'choke', 'timely', 'smoked', 'scrambled', 'elders', 'closest', 'bouncing', 'Unlike', 'stepping', 'manifestations', 'resembles', 'discourage', 'vastly', 'heavens', 'atmospheric', 'angel', 'irresponsible', 'toe', 'tailored', 'cork', 'proceeding', 'assigning', 'Indonesia', 'scratch', 'viewing', 'Battle', '40,000', 'gland', 'institutional', 'Publications', 'defining', 'verses', 'etcetera', 'ensemble', 'plumbing', 'winding', 'salad', 'pineapple', 'offset', 'efficacy', 'theologians', 'hierarchy', 'extracted', 'Freud', 'looming', 'clause', 'wishful', 'currents', 'tenants', 'advancement', 'dazzling', 'Forbes', 'broadening', 'campers', 'quantitative', 'guides', 'Arizona', '47', 'manifest', 'dictates', 'beginnings', 'Ritter', 'borrow', 'ghost', 'Sundays', 'Congressional', 'regret', 'specially', 'inspiration', 'versus', 'anatomical', 'heartily', 'prevents', 'well-being', 'assessed', 'impose', 'trades', 'discoveries', 'immensely', 'similarity', '0.5', 'swayed', 'breathed', 'watercolor', 'utilization', 'gram', 'shaved', 'pants', 'agony', '0.1', 'additions', 'barrier', 'augmented', 'sweetheart', 'anatomy', 'persistence', 'Say', 'annoyance', 'destination', 'versions', 'butyrate', 'cellulose', 'counterpart', 'unification', 'marvelous', 'soloist', 'hillside', 'preference', 'gravel', 'commissions', 'pouring', 'restore', 'subordinates', 'forecasting', 'unchanged', 'comparing', 'summarized', 'Against', 'unimportant', 'rocky', 'caring', 'quill', 'pigment', 'Bronx', 'conflicts', 'creativity', 'intercourse', 'bin', 'Deal', 'grotesque', 'persuasion', 'conveyed', 'gracious', 'fighter', 'induce', 'conventions', 'satire', 'Mass', 'troop', 'commanding', \"How's\", 'Anyway', 'replies', 'overcast', 'conservatism', 'horizontal', 'ft.', '18th', 'blessed', 'sometime', 'conceptions', 'attendance', 'drifted', 'withdrew', 'indulge', 'supplementary', 'Left', 'ministers', 'untouched', 'tolerant', 'ratings', 'invite', 'engendered', 'filter', 'cousins', 'cage', \"son's\", 'enchanting', 'linguistic', 'indicators', 'publishers', 'sensory', 'mortar', 'irregular', 'reviewing', 'Claims', 'precedent', 'weird', 'Merchant', 'malaise', 'Rules', 'Coombs', 'gratitude', 'nightmare', 'Ferry', 'superbly', 'beans', 'dresses', 'Kingdom', 'yell', 'illumination', 'avocado', 'polls', 'Cotton', 'mill', 'Preparation', 'Presently', 'consolidation', 'employs', 'Factory', 'Unit', 'existential', 'spectator', 'latent', 'editions', 'Cadillac', 'protests', 'echo', '3,000', 'evils', 'melted', 'dual', 'improves', 'ingredients', 'pamphlets', 'retains', 'reconnaissance', 'formulate', 'snapping', 'proclaimed', 'export', 'weighing', 'battered', 'domain', 'eminent', 'nagging', 'Gentile', 'Luis', 'puzzling', 'philosophers', 'therein', 'spacious', 'Foods', 'miscellaneous', 'boiling', 'sorrow', 'vividly', 'Classes', 'declining', 'Wisman', 'Kirov', 'compressed', 'Cologne', 'molecules', '$10,000', 'revisions', 'Eventually', 'narrowed', 'Headquarters', 'Add', 'elimination', 'generalized', 'reviews', 'perceptions', 'Fathers', 'wrist', 'reservations', 'denominational', 'grunted', 'ragged', 'pathological', 'symbolize', 'glaze', 'permitting', 'monkey', \"Mann's\", 'Buddhism', 'contention', 'chocolate', 'scholastic', 'catching', 'appalling', 'reportedly', 'mimesis', 'filly', 'virgin', 'purified', 'resumption', 'obedience', 'convertible', 'Hungarian', 'breasts', 'suggestive', 'one-half', 'postponed', 'Housing', 'Shann', 'rated', 'spatial', 'histories', 'facets', 'P.M.', 'Toynbee', 'accord', 'accent', 'bulky', 'workable', 'thesis', 'notices', 'questionable', 'warming', 'Falls', 'Boulevard', 'Youth', 'honorable', 'hardship', 'monetary', 'topic', 'thigh', 'tougher', 'patrons', 'seventeenth', 'obtaining', 'smells', 'systematically', 'shores', 'pulls', 'surge', 'deadlock', 'Germanic', 'enrolled', 'lessened', 'Group', 'Texans', 'steering', 'exploit', 'poll', 'adaptation', 'timed', 'tours', 'hints', 'counseling', 'averaging', 'centralized', '2%', 'invasions', 'rails', 'vent', 'developmental', 'ordinance', 'pulse', 'sewer', 'nephew', 'enormously', 'trifle', 'Push-Pull', 'Fiedler', 'outlet', 'warnings', 'conceivably', 'pansies', 'roaring', 'introducing', 'halfback', \"Faulkner's\", 'Drill', 'forests', 'badness', 'glove', 'Voltaire', 'Han', 'inward', 'worldly', 'steer', 'condensed', 'orbits', 'wept', 'rating', 'Rice', 'miniature', 'plywood', 'Relations', 'furnishings', 'metallic', 'deduction', 'vitamins', 'Norton', 'Kearton', 'pelts', 'K', 'moisture', 'redcoats', 'hauled', 'Bienville', 'concentrations', '55', 'incurred', 'shivering', 'swallow', 'Da', 'Schweitzer', 'dread', 'haste', 'yielding', 'Band', 'dig', 'Othon', 'balloon', 'dense', 'Star', 'disclose', 'pennant', 'Meek', 'Rogers', 'carefree', 'Milwaukee', 'acquaintance', 'homer', 'peering', 'Super-Set', 'wounds', 'irregularities', 'examinations', 'coupling', 'compelling', 'spindle', 'Von', 'concealed', 'removing', 'Gradually', 'veil', 'Doaty', 'Yin', 'Near', 'saloons', 'plots', 'Draft', 'Rhodes', 'upside', 'kills', 'ancestry', 'pathetic', 'Works', 'evolved', 'recreational', 'sailors', 'selfish', 'Robards', 'technically', 'corrupt', 'imported', 'skinny', 'Buzz', 'Papa-san', 'relates', 'scrap', 'diagrams', \"Rayburn's\", 'chooses', 'reciprocal', 'Gratt', 'symbolism', 'trio', 'jumping', 'chef', 'CD', 'Atomic', 'Buddha', 'fitness', '24-hr.', 'stamp', 'Gibson', 'exploded', 'periodic', 'yourselves', 'Pirates', '1931', 'crystals', 'focal', 'footsteps', 'umbrella', 'Dead', 'Marx', 'qualification', 'shaping', 'flu', 'mock', \"Barco's\", 'resemble', 'directional', 'withheld', 'accompaniment', 'neutralist', 'overly', 'apportioned', 'interdependent', 'equals', 'Connally', 'perilous', 'expose', 'Jacques', 'bacteria', 'revolt', 'ultrasonic', 'workbench', 'distilled', 'attained', 'Inspector', 'everlasting', 'strains', 'wins', 'Seminary', 'heed', 'dependable', 'palms', 'Guy', 'Guideposts', 'residue', 'Investigation', 'Leaving', 'analyzing', 'Catholicism', 'Babe', 'mentioning', 'Orthodox', 'irresistible', 'spirited', 'tolerance', 'shield', 'interpreter', 'festivities', 'sympathies', 'discontent', 'accelerometers', 'pumping', 'setup', 'debris', 'Angelo', 'differentiation', 'pH', 'ensure', 'accidental', 'Ryusenji', 'gaiety', 'foamed', 'census', 'Hamrick', 'insistent', 'avoidance', 'post-war', 'reminder', '**yf', 'Citizens', 'Walnut', 'shelves', 'cardinal', 'restorative', 'cynical', 'repel', 'Thornburg', 'scenic', 'Friend', 'oysters', 'knitted', 'inescapable', 'anguish', 'realistically', 'Confrontation', 'jokes', 'sophistication', 'compulsion', 'wicked', 'deeds', 'accidents', 'veranda', 'baroque', 'traces', 'distaste', 'downright', 'McCormick', 'generously', 'cares', 'deprived', 'microscope', 'Constantine', 'Newark', 'sticking', \"Helva's\", 'polish', 'singer', 'agreeable', 'Nogol', 'niece', 'Whoever', 'Carnegie', 'Cruz', 'Dance', 'Showmanship', 'solemnly', 'quirt', 'apple', 'Holland', 'wrath', 'Macklin', 'unpaid', 'themes', 'Wendell', 'outgoing', 'stool', 'characterization', 'possesses', 'architects', 'dashed', 'surroundings', \"enemy's\", 'disadvantages', 'glancing', 'Surely', 'horns', '1921', 'witches', 'dispelled', 'non', 'metropolis', 'calcium', 'FBI', 'slack', 'consultation', 'relied', 'profoundly', 'Beauclerk', 'Stravinsky', '600', 'expresses', 'centimeters', 'supplements', 'canvases', 'ash', 'penetrated', 'kindly', 'inclination', 'flair', 'Matson', 'gracefully', 'charts', 'Studies', 'creeping', 'satellite', 'peer', 'emancipation', 'weeping', 'dwell', 'mingled', 'foreseen', 'motif', '2-56', 'Chien', 'Really', \"poet's\", 'Memphis', 'chuck', 'belts', 'peers', 'resent', 'haunting', 'barrels', 'cliff', 'Lolotte', 'stumbling', 'faulty', 'reminds', 'thrusting', 'skipped', 'observes', 'rocked', 'dock', \"Didn't\", 'interlocking', 'lone', 'logs', 'pills', 'Pretty', \"1/4''\", \"1/2''\", 'Hitler', 'scholarly', 'boast', 'shoved', 'bosom', 'deer', 'jig', 'Jed', 'planking', 'cooks', 'relish', 'snarled', 'Controller', \"they've\", 'descended', 'yeah', 'muttering', 'SAC', 'Artie', 'mahogany', 'offense', 'accusing', 'Liberal', 'Emerson', 'poles', \"1920's\", 'interruption', 'peaks', 'urges', 'Unitarian', 'Lucia', 'slapped', 'cushion', 'minus', 'half-hour', 'springs', 'pitched', 'curtains', 'perpetual', 'mounts', 'accommodations', 'winked', 'Need', 'rust', 'contented', 'Snow', 'absurdity', 'exterior', 'Scots', 'chuckled', 'compost', 'testify', 'radiant', 'Brandon', 'assemble', 'clamped', 'Saviour', 'comic', 'prominently', 'spaced', 'potentialities', 'Strange', 'stag', 'Faith', 'franks', 'echoes', 'buns', 'rousing', 'Chase', 'someday', 'Englishmen', 'Universe', 'feeble', 'tactical', '1861', 'inviting', 'elect', 'one-shot', \"Ruth's\", 'coals', 'analogous', 'importantly', 'excluded', 'courtyard', 'seriousness', \"Curt's\", 'Mosque', 'Across', 'frankfurter', 'impassioned', 'authenticity', 'unsuccessful', 'lotion', 'architectural', \"who'd\", 'trunk', 'obey', 'adherence', 'Fifteen', 'resented', 'Sonata', 'tangle', 'Piano', 'Creator', 'mortality', 'impatiently', 'Op.', 'clutching', 'mobility', 'spiral', 'decorations', 'preached', 'exceedingly', 'vinegar', 'enforce', 'ecclesiastical', 'embarrassment', 'hypothetical', 'bounce', 'Hugh', 'irrational', 'zeal', 'aperture', 'brethren', 'triumphantly', 'N.C.', 'negotiating', 'Embassy', 'clicked', 'knuckles', 'pregnant', 'Sullivan', 'automotive', 'conflicting', 'Camp', 'encounters', 'duplication', 'resembled', 'capillary', 'restriction', 'Garland', 'survivors', 'alibi', 'regulation', 'Proof', 'sorbed', 'exaggerate', 'actives', 'boycott', 'Rights', 'caliber', 'grips', 'delegate', \"goin'\", '**yc', 'confrontation', 'decreased', 'Barker', 'uncommon', 'Presidents', 'co-optation', 'unhappily', 'Charley', 'headlights', 'pillow', 'arcs', 'drawer', 'discarded', 'toys', 'revision', 'contests', 'civilizational', 'cameras', 'lower-class', 'Palazzo', 'benches', 'outsiders', 'blows', 'monotonous', 'staircase', 'wreath', 'aide', 'parameters', 'Expressway', 'simultaneous', 'kinetic', 'diminishing', 'mound', 'telegraph', 'grandmother', 'Victoria', 'paramount', 'engagements', 'radish', 'Traffic', 'athlete', 'Help', 'peril', 'Oak', 'Examiner', 'Lodge', 'dominate', 'conspicuously', 'ADC', 'Frenchman', 'boldly', 'mouse', 'stiffened', 'pet', '1938', 'concede', 'Airport', 'confided', 'illiterate', 'applicant', 'homogeneous', 'boom', 'subdivision', 'bias', 'vines', 'sandwich', 'weaker', 'detectable', 'honoring', 'Mel', 'interlobular', 'strikingly', 'denomination', 'declaration', 'willow', 'micrometeorite', 'requesting', 'scraped', 'endure', 'meteorites', 'staffs', 'Highway', 'blunt', 'southward', 'artillery', '1922', '1914', 'Clarence', 'iodide', 'Lt.', 'taxing', 'afflicted', 'notorious', 'miracles', 'authoritative', 'peripheral', 'bumblebees', 'instructor', 'raged', 'Ivy', 'auditorium', 'Considering', 'Southerner', 'basketball', 'Technology', 'gait', 'knot', 'confront', '1040', 'preach', 'hunt', 'undergo', 'parliamentary', \"Mercer's\", 'Peterson', 'traded', 'sixty-one', \"Hetman's\", 'Tech', 'whereof', 'accompany', 'ankle', 'predispositions', 'unsatisfactory', 'shotgun', 'claimant', 'multiplicity', 'Oil', 'slaughter', '100%', 'Weston', 'trailed', 'Sioux', 'appliances', 'diamond', 'thieves', 'efficiently', 'Rural', 'dividends', 'taut', 'deed', 'precarious', 'collections', 'Price', 'Buffalo', 'appropriations', 'decoration', \"Garibaldi's\", \"Malraux's\", 'serene', 'hips', 'archaeological', 'retreated', 'fresco', 'haunted', 'science-fiction', \"Krim's\", 'bomber', 'Doctrine', 'farmhouse', 'dystopias', 'sanctuary', 'aerial', 'abolish', 'stupidity', 'Sales', '1896', 'prompt', 'Strasbourg', 'cleaner', 'traps', 'cleaners', \"They've\", 'surveying', 'congressmen', 'Athens', 'ruins', 'O.K.', 'newt', 'charging', \"week's\", 'Mamma', 'Copernican', 'crawling', 'termination', 'Judy', 'Manager', 'comforting', 'dismal', 'knelt', 'entails', 'Budapest', 'practiced', 'betrayed', 'allotments', 'foliage', 'recipe', 'baked', '99', 'Agency', 'Sheldon', 'Pollock', 'Murray', 'Le', 'wandered', 'freshman', \"who's\", 'Kern', 'potters', 'Francesca', 'chambers', 'disappearance', 'sunrise', 'strangers', 'leagues', 'agrarian', 'decreases', 'appraisal', 'cyclist', 'Achievement', 'Poetics', 'wardrobe', 'proprietorship', 'germanium', 'Noel', 'martyr', 'Strong', 'designers', 'ontological', 'utopian', 'republic', 'Grace', 'declare', 'tax-free', 'Ptolemy', 'pad', 'supporters', 'steak', 'immediacy', 'ceramic', 'rooted', 'reconstruction', 'isolate', 'prosperous', 'decorative', 'notify', 'varieties', 'undermine', 'Danish', 'flour', 'X-ray', 'exceptionally', 'mating', 'Results', 'Chancellor', 'fort', 'statesmen', 'Industries', 'restoration', 'predictable', 'struggled', 'releases', 'Bottom', 'presses', 'Ruanda-Urundi', 'repairs', 'stimulating', 'impartial', 'unstable', 'bankruptcy', 'divorced', 'peculiarly', 'crisp', 'Presidency', 'Hoover', 'slump', 'frowned', '4th', 'brighter', 'Series', 'slab', 'vacations', 'investigating', 'Dorset', 'rulers', 'consonantal', 'guarantees', 'devise', 'aunt', 'Burns', 'spends', 'panting', 'blindly', 'sleeves', 'humidity', 'C-plane', 'domes', 'clocks', 'telegram', 'rot', 'momentous', 'infection', 'bloody', 'undergraduates', 'Wolfe', 'worthwhile', 'precaution', 'complaints', 'renewal', 'melancholy', '$2', 'Remove', 'astonishing', 'reassurance', 'sentenced', 'financially', 'Jenny', 'Meeting', 'flashlight', 'populations', 'youngster', 'sprung', 'stacked', '1963', 'lb', 'respondents', 'respondent', 'thou', 'overboard', 'carrier', \"You'd\", 'jammed', 'smoking', '19th', 'La.', 'rigidly', 'extruded', 'guessing', 'predict', 'wreck', 'mayor', 'busily', 'social-class', '180', 'fabrication', 'foe', 'essays', 'tactual', 'revival', 'establishments', 'public-limit', 'territories', 'counters', 'intonation', 'contracted', 'blend', 'recommending', 'Vecchio', 'two-story', 'Barney', 'straightforward', 'junk', 'phonemic', 'creek', 'calf', 'Hemphill', 'revive', 'stunned', 'Swadesh', 'usable', 'actuality', 'wonders', 'ambiguity', 'Imagine', 'discernible', 'scholarships', 'turtle', 'toss', 'kilometer', 'Pam', 'hearings', 'messenger', 'borne', 'toll-road', 'speculative', 'slumped', 'hostess', 'frantically', 'pig', 'Production', 'mouths', 'grinding', 'Wales', 'lovers', 'mourning', 'Port', 'embarrassed', 'coldly', 'celestial', 'sucking', 'broaden', 'orthodontic', 'Basic', 'catalogue', 'scrub', 'electrostatic', 'quacks', 'utilizing', 'tumors', 'Vocational', 'replacing', 'clarified', 'secrecy', 'bluff', 'premises', 'thyroxine', 'Deep', 'companions', '$300', 'modes', 'slum', 'succeeds', '1908', 'aborigines', 'bless', 'provincial', 'transmitted', '350', 'withdraw', 'Juet', 'inhibit', 'indicator', 'recruits', 'volunteer', 'unnatural', 'featured', 'propagation', 'mg', 'championship', 'sanctions', 'eased', 'advise', 'Mo.', 'hose', 'barred', 'prairie', 'crimson', 'conquest', 'westward', 'thief', \"party's\", 'Issue', 'Theorem', 'erotic', 'patiently', 'monuments', 'Victorian', 'Pulley', \"years'\", '2,000', 'terrain', 'militant', 'bloat', 'Twice', 'backing', 'articulate', 'forceful', 'Perry', 'Julian', 'buffalo', 'slips', 'deaths', 'bites', 'repeating', \"Navy's\", 'se', 'paradoxically', 'dispatch', 'fundamentally', 'granting', 'bacon', 'reversed', 'nominated', 'Prime', 'parasympathetic', 'assumes', '$50', 'avenue', 'recipient', 'enactment', 'constructing', 'trailing', 'Y.', 'half-mile', '110', 'pricing', 'Burke', 'radios', 'Same', 'stops', 'donated', 'Award', '37', 'statues', '$10', 'occupying', 'prevailed', 'enlarge', 'proposes', 'Tex.', 'collectors', 'wholesale', 'watered', 'merchandising', 'assertion', 'Questions', 'Happy', 'assisted', 'doubling', 'coping', 'confessed', 'legislator', 'issuance', 'retarded', 'ban', 'deterrent', 'teamsters', 'Welfare', 'Karns', 'Golf', 'retiring', 'waged', '8,000', 'Incidentally', 'lending', 'forum', 'fraud', 'resignation', 'dismissal', 'mails', 'Reno', 'probation', 'carcass', 'pleaded', 'Ted', 'exotic', 'switching', 'ankles', 'insult', 'Delta', 'Olympic', 'fruitful', 'credits', 'preserving', 'petitions', 'congenial', 'Orange', 'admitting', 'repay', 'Whipple', 'agreeing', 'expedient', 'Case', 'Grove', 'bowed', 'hailed', 'organizing', \"car's\", 'charity', 'Signal', 'awaited', 'overwhelmingly', 'Patricia', 'gubernatorial', 'solo', 'Deputy', 'grocery', 'norm', 'tragedies', 'con', 'Steel', 'statutes', 'Ala.', 'slums', 'bang', 'levy', 'brisk', 'enact', 'victories', 'Prior', 'troublesome', 'floated', 'contractual', 'violate', 'Question', 'crushing', 'Treaty', 'scandals', 'fare', 'labor-management', 'Martinelli', 'infield', 'Paradise', 'facto', 'cease-fire', 'Representative', 'Buckley', 'pitchers', 'Sr.', '$5', 'dwellings', '1923', 'dividing', 'utilities', 'certificate', 'distressing', '24th', 'cooperating', '9th', 'relaxation', 'enlarged', 'Maurice', 'Gorboduc', 'Nine', 'uncovered', 'lambs', 'provocative', 'inference', 'intensification', 'breathe', 'confines', 'distributor', 'vanity', 'economies', 'triggered', 'Caribbean', \"Company's\", 'examining', 'sanitation', 'builds', 'accreditation', 'Recreation', 'Thanksgiving', 'salami', 'unbroken', 'incidence', 'diarrhea', 'lessening', 'misplaced', 'anarchy', 'mercury', 'Italians', 'mouthpiece', 'submerged', \"Oersted's\", 'chatter', 'banished', 'dealings', 'voltaic', '1819', 'links', 'magnetism', 'sipping', 'Electrical', 'Present', 'consultants', 'Automobile', 'rosy', 'Success', 'nickel', 'charting', 'Things', 'impaired', 'relate', 'rehearsed', 'gazed', 'crashing', 'invisible', 'deja', 'vue', 'surged', 'concurrent', 'nutrition', 'Mediterranean', 'uniformed', 'wiser', 'twenty-one', 'wandering', 'squat', 'repeal', 'Approximately', 'discriminating', 'multiplying', 'liability', 'styrene', 'dominates', 'acetate', 'openings', 'wary', 'plight', 'stud', 'hopelessly', 'unload', 'clinging', 'Follow', 'calculating', 'Horse', 'experimentally', 'wiry', 'curved', 'molds', 'envy', 'grudge', 'bending', 'echoed', 'grey', 'warmly', 'strand', 'Hold', 'Shadow', 'heretofore', 'glue', 'retaining', 'flooring', 'U.S.S.R.', 'axes', 'Competition', 'rag', 'drained', 'shrill', 'frankfurters', 'Score', 'gravely', 'predominantly', 'landmarks', 'formations', 'sunshine', 'Hardly', 'Sophia', 'diamonds', 'woven', 'old-fashioned', 'heir', 'chilled', 'knives', 'Years', 'endlessly', 'stranded', 'obscured', 'Body', 'breadth', 'postcard', \"farmer's\", 'sands', 'underneath', 'Key', 'Animals', 'slopes', 'skeptical', 'high-pitched', 'beset', 'fashioned', 'Problems', 'pinched', 'consensus', 'transform', 'moods', 'Dag', 'recognizable', 'symptomatic', 'Juan', 'innovation', 'hereby', 'penetrate', 'immigration', 'rigorous', 'Batista', 'gatherings', 'elephant', 'protesting', 'Tammany', 'brutal', 'dripping', 'Ellis', 'pipes', 'countryside', 'Joint', 'dunes', \"Washington's\", 'sighted', 'hurricane', 'Montpelier', 'blamed', 'Operation', 'biology', 'riot', 'wasteful', 'cosmetics', 'Cattle', 'ranchers', 'choked', 'generosity', 'accomplishment', 'cancel', 'regulated', 'reluctantly', 'stir', 'deliberations', 'discontinued', 'faintly', 'cracks', 'bruised', 'spin', \"1930's\", 'temperament', 'typing', 'salaries', 'Winter', 'brandy', 'evaluating', 'bucket', 'aeration', 'govern', 'inform', 'evoked', 'abuses', 'defective', 'attributable', 'Hanoverian', 'provoked', 'disputes', 'conveniently', 'Giles', 'Religious', 'pony', 'prevails', 'concessions', 'trapped', 'congregational', 'recruitment', 'nonetheless', 'summed', 'displeased', 'listing', 'Rooney', 'harmonies', 'peasant', 'tails', 'Menshikov', 'Kyoto', 'vulgar', 'Imperial', '7:30', 'uphold', 'strive', 'instinctively', 'callous', 'preferences', 'Corso', 'Nikita', 'haze', 'solving', 'pretend', 'postulated', 'sculptures', 'polar', 'deterministic', 'self-certainty', 'infringement', 'conceal', 'procedural', 'greet', 'royalty', 'withholding', 'Dei', 'facade', 'denounced', 'scraping', 'Somers', 'twins', 'revenge', 'barge', 'bargain', 'headlines', 'gaudy', 'exhaust', 'elastic', 'tapped', 'intuitive', 'Blood', 'Adlai', 'odors', 'socks', 'irons', 'rented', \"ladies'\", 'fierce', \"Wasn't\", 'skins', 'beatnik', 'disorder', 'Shaefer', 'commenced', 'gadgets', 'Tshombe', 'colonies', 'vaginal', 'indefinite', '25,000', 'orgasm', 'ruthless', 'Diana', 'commencing', 'ancestor', 'Harrington', 'Jelke', 'reign', 'lure', 'Conant', 'unavailable', 'kidding', 'regards', 'earthquakes', 'inferior', 'Mister', 'flatly', 'platoon', 'ambush', 'Study', \"Year's\", 'barefoot', 'Lexington', 'appreciably', 'fronts', 'erupted', 'Gore', 'graduating', 'bathed', 'exemption', 'rusty', 'Goulding', 'rattling', 'ascertain', 'chore', 'broadened', 'condemnation', 'incredibly', 'backgrounds', 'paces', 'fragmentary', 'cabins', 'twenty-three', 'Snelling', 'annoyed', 'Starting', 'laundering', \"Sherman's\", 'disappointing', 'lore', 'collector', 'analyst', 'ledger', 'Nashville', 'incidentally', 'bureaucracy', 'maneuvers', 'Napoleon', 'suspicions', 'calories', 'Molotov', 'spoilage', 'concentrates', 'powdered', 'inventor', 'publisher', 'coronary', 'prey', 'Twentieth', 'strangely', 'ugliness', 'portraits', 'fostered', 'fatty', 'morally', 'beast', 'liberties', 'discourse', 'traveler', 'illusions', 'edited', 'reproduce', 'experimenting', 'communicating', 'McCarthy', 'hotter', 'Nice', 'mansion', 'mint', 'Swedish', 'Suite', 'broadcasts', 'weekends', 'lakes', 'Clerfayt', 'origins', '$200', 'correspond', 'exclude', 'popularly', 'implying', 'utmost', 'unmistakable', 'mapping', 'plentiful', 'thy', 'persists', 'reassuring', 'sympathize', 'yearning', 'lord', 'dominion', 'disobedience', 'generalizations', 'insufficient', 'concentrating', 'Taiwan', 'Mao', 'emptied', 'starvation', 'motionless', 'superstition', 'filthy', \"Bultmann's\", 'unavoidable', 'flock', 'despise', 'cycles', 'emergencies', 'rags', 'gestures', 'Whitehead', 'arrives', 'inhuman', 'Tibet', 'undertook', 'defy', 'flattered', \"Charles'\", 'oven', 'chord', 'Jen', 'Elizabethan', 'equivalents', 'superficial', 'blaze', 'overcomes', 'stamped', 'inexperienced', 'Together', 'raining', 'exuberant', 'Going', 'careless', 'myriad', 'battles', 'Victory', 'ballad', 'generate', 'novelties', 'tonal', 'whipping', 'symphonic', 'Kennan', 'revolutions', 'concluding', 'negotiated', \"author's\", 'mildly', 'noteworthy', 'endowed', 'Yorker', 'scratched', 'numbering', 'talented', 'torso', 'ballads', 'linger', 'digging', 'sensibility', 'idiom', 'large-scale', 'Ferguson', 'chronological', 'dignified', 'strides', 'Sponsor', 'assimilation', \"artist's\", 'Gloucester', 'mysteries', 'galaxies', 'hopefully', 'rays', 'tunes', 'gases', 'enclosure', 'responds', 'depart', 'Brahms', 'fortified', 'trusts', 'Spain', 'mores', 'tricks', 'lyrical', '1929', 'raucous', 'expressive', 'invent', 'topped', 'newcomer', 'wink', 'irritation', 'recorder', 'reinforced', 'conclusively', 'magnificently', 'Call', 'hesitation', 'bony', 'sincerely', 'Magazine', 'Pauling', 'intake', 'alteration', 'performer', 'tapered', 'Quartet', 'Congregational', 'comprehension', 'cite', 'fidelity', 'multiplied', 'easiest', 'discomfort', 'pacing', 'Scriptures', 'Finals', 'sensing', 'fishermen', 'recalling', 'nostalgia', 'IBM', 'oval', 'photography', 'tan', 'Large', 'phosphate', 'fifties', 'blossoms', 'reputable', 'narrower', 'acids', 'discs', 'terrifying', 'vulnerability', 'Titan', 'Turn', 'cerebral', 'disorders', 'crowned', 'airborne', 'brushing', 'brushes', 'motors', 'locks', 'terrified', 'Direct', '2:37', 'depicted', 'immature', 'antelope', 'coloring', 'Dear', 'shortened', 'Physical', 'hunch', 'tallyho', 'courtesy', 'enlightened', 'Heat', 'ink', 'cured', 'cruising', 'tablespoons', 'trotted', 'masculine', 'confinement', 'Hoot', 'prisoner', 'Sing', 'Manufacturers', 'nomenclature', 'Ring', 'sloping', \"1/8''\", 'unwilling', 'postpone', 'lifting', 'hysteria', 'fascinated', 'illustrates', 'cylinders', 'piston', 'participates', 'CDC', 'sprinkling', 'glaring', 'thighs', 'emperor', 'Supper', 'preparatory', 'premise', 'hymn', 'inactive', 'sentiments', 'install', 'exploding', 'exclusion', 'Schuylkill', 'polite', 'Jerusalem', 'alley', 'subway', 'reservation', 'prohibited', 'immunity', 'Membership', 'stimulated', 'contemplate', 'refuge', 'offspring', 'embodied', 'credo', 'corpse', 'factual', 'alarmed', 'spiritually', 'ministry', 'joys', 'amusement', 'Karl', 'hanged', 'dubious', 'diversion', 'graveyard', 'departures', 'sixty-five', 'prevail', 'terraces', 'symmetry', 'packaging', 'manipulation', 'monastic', 'beckoned', 'abolition', 'commend', 'desperation', 'hears', 'mailing', 'Marina', 'visions', 'Undoubtedly', 'skiing', 'distortion', 'wisely', 'straining', 'Bench', 'elbows', 'generating', 'Hopkins', 'precautions', 'Engineering', 'unrelated', 'Real', 'restrictive', 'securing', \"client's\", 'Twenty', 'blizzard', 'snows', 'swell', 'certified', 'burdens', 'self-determination', 'obeyed', 'disagree', 'futility', 'approximation', 'patriot', 'Celtic', 'proxy', 'tart', 'streaming', 'bolted', 'suppression', 'Fe', 'wearily', 'polyether', 'threads', 'Meynell', 'photocathode', 'roses', 'slippers', 'surrendered', 'chic', 'Rhine', 'rocket', 'darkened', 'persecution', 'managing', 'grinning', 'executives', 'shout', 'errand', 'ballroom', 'jointly', 'Carnival', \"Shelley's\", 'maximization', 'speck', 'choking', 'Seems', 'Saxons', 'overlooked', 'exit', 'Work', 'apron', 'Expectations', 'Princeton', 'hammer', 'spraying', 'elbow', 'Define', 'quarry', 'DIOCS', 'ponds', \"Hitler's\", 'algae', 'conservation', 'forgetting', 'Boy', 'Tessie', 'Annapolis', 'protozoa', 'stalked', 'damaged', 'middle-aged', 'pilots', 'Mines', 'clutched', 'Nicholas', 'Succession', 'terrestrial', 'experiencing', 'yields', '10%', 'Farmers', 'tractors', 'Va.', 'Kahler', 'Nearly', 'receipts', 'hawk', 'motels', 'discrete', 'lump', 'Molesworth', 'taxable', 'groped', 'spherical', 'softened', 'sporting', 'signing', 'speculate', 'bum', 'stack', 'hallway', 'Duclos', 'entirety', 'Rebel', 'attendants', \"1960's\", 'Rabbi', 'taller', 'Greater', 'invites', 'peaked', 'Troop', 'Col.', 'goddamn', 'bluntly', 'chimney', 'dessert', 'trousers', 'upturn', 'Heard', 'bundles', '40%', 'Shop', 'securities', 'Read', 'Carter', 'Lilian', 'eyed', 'lace', 'writ', 'awaken', 'Olgivanna', 'dystopian', 'inefficient', 'Flannagan', 'subdued', 'sporadic', 'integrate', 'centrifuged', 'Evanston', 'hebephrenic', 'chromatography', 'aerosol', 'semantic', 'lookup', 'meteoritic', 'photochemical', 'CTA', 'syllables', 'queens', 'declarative', 'soiled', 'mentions', 'surface-active', 'cursing', '5,000', 'arena', 'symmetric', 'pensions', 'posed', 'parameter', 'Yokuts', 'hr', 'beebread', 'Mussorgsky', 'marksman', 'vectors', 'dilution', 'offensive', 'Vientiane', 'confirmation', 'Murphy', 'gall', 'Seattle', 'subspace', 'Fidel', 'cf.', 'announcing', 'twin', 'Brandywine', 'Lemma', 'denotes', 'obstacles', 'Summary', 'affiliated', 'quadric', 'Funeral', 'equate', 'supportive', 'regression', 'Anna', 'Andrena', 'narcotics', 'verbs', 'Darling', 'wallpaper', 'pathology', 'oak', 'hereunto', 'Plantations', '69', 'terrace', 'follow-up', 'aggregate', \"More's\", '33', 'garbage', 'Interest', 'flatness', 'fiery', 'Costaggini', 'valuation', 'totaled', 'Fletcher', 'Kitty', 'Oliver', 'alterations', 'Hawk', 'hunted', \"Patchen's\", 'Simpkins', 'afloat', 'Vermejo', 'Illustration', 'reactor', 'consequent', 'Gibbs', 'indices', 'bidding', 'bottoms', 'fastest', 'directing', 'restraints', '203', 'referrals', 'reproduced', 'Burnside', 'trustee', 'Yugoslav', 'collision', 'diaphragm', 'bulb', 'currency', 'Beatrice', 'resistors', 'potentially', 'bail', 'booked', 'positivist', 'Aaron', 'Canadian', 'simulated', 'cortex', 'buses', 'warriors', 'Colonial', 'shrewd', \"Today's\", 'slick', 'punished', '1105', 'monotony', 'longed', 'Slowly', 'diffraction', 'Frankfurt', 'Palestine', 'exalted', 'arches', 'refugee', 'hinted', 'wrinkles', 'Woman', 'grove', 'eyelids', \"Russell's\", 'Leave', 'Willings', 'Everywhere', 'dispersed', 'Nobel', 'aborigine', 'boulder', 'n', 'Mullins', 'configuration', 'faults', \"Meeker's\", 'Solid', 'defiance', 'patted', 'Heiser', 'phones', 'injection', 'execute', \"an'\", '1832', 'embassies', \"Mike's\", 'Hez', 'Wells', 'Register', 'bestowed', 'Venice', 'Oso', 'Homer', 'buckskin', 'Summers', 'Leo', 'ambiguities', 'organisms', 'Hamm', 'excitedly', 'perceptual', 'continents', 'awaiting', 'smoothed', 'combines', 'oats', 'Digby', 'Macneff', 'gapt', 'accessories', 'quivering', 'Days', 'exchanged', 'Siddo', 'wretched', 'urbanization', 'epithets', 'Pakistan', 'fifteenth', 'Donovan', 'hoofs', 'cautiously', 'comprised', 'Paxton', \"Nick's\", 'Gibby', 'Geely', 'accruing', 'frail', 'redhead', 'slacks', 'recession', 'imposing', 'Down', 'Benington', \"club's\", 'Base', 'trumpet', 'portrayal', 'Mousie', 'rendezvous', 'Shylock', 'sampled', 'dugout', 'restraining', 'Cardinal', 'Fudo', 'activation', 'Marcus', 'cough', 'collapse', 'seasonal', 'edged', 'subsidiary', 'knight', 'hugging', 'Catatonia', 'glare', \"York's\", 'Kodyke', 'cheer', 'pursuing', 'Sabella', 'screeching', 'squall', 'Regulation', '1815', 'seizure', 'Berry', 'totalitarian', 'bloomed', 'frivolous', 'overheard', 'Hawthorne', \"Schnabel's\", 'divides', 'Gyp', 'Ridge', \"N'\", 'initiation', 'oppression', 'thinner', 'Souvanna', 'all-out', 'ancestors', '7-1', 'zing', 'Sources', 'questionnaires', 'observance', 'maladjustment', 'Rossoff', 'manifested', 'thaw', 'tanned', 'all-Negro', 'Gansevoort', 'Count', 'pear', 'schizophrenic', 'Manuel', 'Hernandez', 'Orvis', 'slapping', 'shipped', 'compliance', 'Appeals', 'Granny', 'pegboard', 'agitation', 'Handler', 'Pearl', 'sportsmen', 'assures', 'Matilda', 'stint', 'brute', 'modify', 'noises', 'Shafer', \"Welch's\", 'Pels', 'relinquish', 'Aid', 'canyon', 'suspense', 'treason', 'sponge', 'sax', 'magnified', 'pessimistic', 'attacker', 'Doolin', \"bull's-eyes\", 'pansy', 'workmanship', 'exercising', 'elaborately', 'Weider', 'bodybuilder', 'contemporaries', 'refined', 'referral', 'concerto', 'Gladdy', 'gleaming', 'inexplicable', 'airfields', 'invalid', 'Tolley', 'compute', 'vowel', 'Set', 'arm-elevation', 'B-70', 'album', 'mandatory', 'writhing', \"Spencer's\", 'morphophonemic', 'orthography', \"Doaty's\", 'pleasures', 'Gunny', 'sensual', 'Conservation', 'dissatisfied', 'Des', 'freeze', 'candidacy', 'china', 'witnessing', 'inhabited', 'contemplation', 'commissioner', 'manure', 'f-plane', \"mind's\", 'boxcar', 'Alma', 'diluted', 'susceptible', 'handicap', 'Schnabel', 'inscribed', 'tolerated', 'steamed', 'demons', 'operetta', 'disseminated', 'GNP', 'descriptive', 'educators', 'single-valued', 'Text', 'Prieur', 'portray', 'materialism', 'tangents', 'mulch', '74', 'Around', 'propulsion', 'cliche', 'bells', 'Katharine', 'humming', 'Sixth', 'aligned', 'Schwarzkopf', 'Coughlin', 'smug', 'fingerprint', \"They'd\", 'redcoat', 'demythologization', 'darted', 'Think', 'universally', 'potency', \"Black's\", 'outlets', 'underworld', 'musket', 'characterize', 'Jake', 'Bonner', 'fucken', 'extract', 'bothering', 'sneaked', 'depicting', 'fold', 'throttle', 'bitch', 'Westfield', 'billions', 'decreasing', 'longest', \"Killpath's\", 'Roots', 'yelling', 'sleepy', 'licensed', 'merchandise', 'Bong', 'Continent', 'Hello', 'modernity', 'solace', 'dripped', 'Hirey', 'attaining', 'inspiring', 'routes', \"baby's\", 'winking', 'flushed', 'Gap', 'Mountain', 'Upper', 'Thelma', 'Dakota', 'lbs.', 'creaked', 'marinas', 'outboard', 'originate', 'mast', \"Remarque's\", 'grounded', 'treacherous', 'restoring', 'terminology', 'saturated', 'scarce', 'molecule', 'ingredient', 'okay', 'snoring', 'slowing', 'Mollie', 'Perrin', 'deposits', 'arterial', 'Jarrodsville', 'Roberta', 'Scientists', 'flopped', 'crutches', 'bartender', 'unbearable', 'fille', 'Says', 'distribute', 'Mose', 'Fritzie', 'blushed', 'absently', 'clergymen', 'identifies', 'Phedre', 'hostility', 'partition', 'interdependence', 'paradigm', \"Thomas's\", 'forefinger', 'unconcerned', 'bulletin', 'tightened', 'DA', 'whatsoever', 'pastoral', 'rebut', 'evangelism', 'workings', 'DC', 'dipper', 'Kid', 'sinned', 'sword', 'amorphous', 'Rangoni', 'willed', 'Powers', 'frightful', 'Nineteen', 'annihilation', 'distinguishing', 'deduced', 'Rodgers', \"Brumidi's\", 'indefinitely', 'Presumably', 'delivers', 'mainland', 'elicited', 'Simultaneously', 'cathedral', 'Highlands', 'affectionate', 'charted', 'pre-war', 'plank', 'loneliness', 'pounding', 'Shell', 'Practically', 'portrayed', 'whereupon', 'blot', 'propriety', 'intensifiers', 'distrust', 'R-stage', 'suppress', 'responding', 'insisting', 'gyro-stabilized', 'rotor', 'gorgeous', 'amplifier', 'Nellie', 'grandeur', 'appoint', 'broadcasting', 'immortal', 'similitude', 'Negro-appeal', 'intensifier', 'foaming', 'shoving', 'clear-cut', 'Munich', 'continuance', 'forty-five', 'Narragansett', 'ailments', 'sweetly', 'Thou', 'concessionaires', 'Olga', 'surveillance', 'Test', 'Norberg', 'radiopasteurization', 'anew', 'Hesiometer', 'peeling', 'astonished', 'canons', 'garment', 'accepts', 'nation-state', 'firmer', 'Arp', 'forties', 'journal', 'tenuous', 'reversible', \"captain's\", 'affirmed', 'psychoanalytic', 'neurosis', 'comparisons', 'blurred', 'sensibilities', 'convict', 'betrayal', \"Eichmann's\", 'coasts', 'overcoming', 'strangled', 'adolescents', \"family's\", '1939', 'originality', 'reflective', 'J', 'contour', 'rat', 'straighten', 'dissolve', 'Multiply', 'calmed', 'axe', 'huts', 'ox', 'Leyte', 'ridden', 'trooper', 'organism', 'glowed', 'noisy', 'amplitude', 'gravity', 'Osaka', 'insolence', 'methodically', 'Capone', 'Saint', 'Amendment', 'definitions', 'indecent', 'myths', 'patriotism', 'drunken', 'Bellows', 'dodge', 'pretense', 'attorneys', 'trader', 'Examples', 'prompted', 'barley', 'Reich', 'flashing', 'metals', 'Burlington', 'complexion', 'whole-wheat', 'wastes', 'erosion', 'sandy', 'bizarre', '28th', 'momentary', 'Adoniram', 'cries', 'clambered', 'bellowed', 'chattering', 'decks', 'cargo', 'laden', 'psyche', 'Immediately', 'Whig', 'Tories', 'nodding', 'pretentious', 'anthropology', 'Cost', \"Hearst's\", 'brow', 'stairway', 'Manley', \"Bang-Jensen's\", \"Copernicus'\", 'scout', 'quackery', \"Ptolemy's\", 'kidney', 'epicycles', 'velocities', 'luxurious', 'Bey', 'astronomical', 'hid', 'prostitute', 'rabbi', 'submitting', 'sexually', 'Calderone', 'Kenneth', 'Jo', 'posterior', 'membrane', 'Huxley', 'Wexler', 'projecting', 'Travel', 'unhappiness', 'urgently', 'precinct', 'broadly', 'legendary', 'exclamation', 'Spade', 'verified', 'shaded', 'Della', 'piazza', 'renaissance', 'adjunct', 'blinked', 'interchange', 'disregard', 'glistening', 'explicitly', 'transcends', 'polarization', 'elementary-school', 'sniffed', 'vaults', 'attribute', 'lounge', 'Erikson', 'delinquent', 'Whigs', 'fuzzy', 'illustrative', 'testament', 'sidewise', 'whining', 'oddly', 'ponies', 'graves', 'starving', 'Agnese', 'whirled', 'uneasily', \"Court's\", 'internally', 'outbursts', 'Bourbons', 'socialist', 'feudal', 'complicity', 'reflections', 'abstractions', 'Nara', 'Masu', 'licensing', 'thinkers', 'Money', 'countenance', 'barren', 'oath', 'confidential', \"Wisman's\", 'Perier', 'engages', 'characteristically', 'rebuilding', 'Schwartz', 'sucked', 'sequences', 'robbers', 'construed', 'Antonio', 'misunderstood', 'slit', 'Emancipation', \"William's\", 'planter', 'Hays', 'Burgundy', 'practicable', 'churchyard', 'soaked', 'highroad', 'causal', 'merry', 'Heidenstam', 'healing', 'Parthenon', \"parents'\", 'patrolman', 'weakening', 'antiseptic', 'wrists', 'traversed', 'entrepreneur', \"life's\", 'Sherlock', 'Cultural', 'informs', 'newspaperman', 'pretended', '300,000', 'sofa', 'unreal', 'travelers', 'defenders', \"'im\", 'small-town', 'unwanted', 'environmental', 'Collins', 'clad', 'syntax', 'Newton', 'Chapman', 'impelled', 'strays', 'Brazil', 'reconstruct', 'Seeds', 'Beckett', 'Waiting', 'corresponds', 'buzzing', 'dialectic', 'liberated', 'drafting', 'Operating', '1888', 'queer', 'scent', \"master's\", 'veiled', '$5,000', 'recurring', 'gunfire', 'tapping', 'Construction', 'Radiation', 'spear', 'tenor', 'spoiled', 'tablespoon', 'Contrary', 'rupee', 'groundwave', 'Vandiver', 'gloves', 'flares', 'yarns', 'rinse', 'emeralds', 'digital', 'manometer', '1895', 'Fountain', 'interfacial', 'Canyon', 'Zion', 'filtering', 'uneven', 'Pictures', 'Forge', 'authorizations', 'stain', 'greasy', 'users', 'cling', 'piling', 'buggy', 'drowned', 'Publication', 'conspicuous', 'thirty-four', 'calibration', 'Haven', 'Liberty', 'wander', 'Experiments', 'dusting', 'spectral', 'courteous', 'expandable', 'cottages', 'Linden', 'thermometers', 'clamps', '**yl', 'Needless', 'Run', 'sew', 'spoon', 'coil', 'Measurements', 'birthplace', 'polymerization', 'revolving', 'liquids', 'pleura', 'pleural', 'anastomoses', 'subtraction', 'File', 'progresses', 'Tables', 'slot', 'spacing', 'right-hand', 'arrows', 'ossification', 'connecting', 'levers', 'iodinated', 'notches', 'fibrosis', 'Microscopically', 'cord', 'Dowex-2-chloride', 'unduly', 'pseudophloem', 'Designers', 'horizons', 'tedious', 'NS', 'Engineers', 'compression', 'rpm', 'micelle', 'septa', 'Substances', 'pigs', 'strewn', 'sensors', 'intersect', 'meteorite', 'fried', 'pinch', 'minced', 'shave', 'porter', 'fragrance', 'Creek', 'Neutral', 'impetus', '1905', 'cocked', 'compares', 'carbine', 'agglutinin', 'cartridge', 'Deerstalker', 'Hi', 'larvae', 'boa', 'constrictor', 'Adios', 'annoying', 'Forensic', 'Hellenic', 'periodically', 'divan', 'denies', 'Suvorov', 'inhibition', 'Acropolis', 'shattering', 'assassin', 'severed', \"Aristotle's\", 'headaches', \"Morgan's\", 'Frequently', 'riflemen', 'ketosis', 'reproduction', 'enzyme', 'forty-four', 'one-fourth', 'abortion', '$2,000', '700', 'reduces', 'intercept', 'Drug', 'web', '13th', 'salts', 'comb', 'diction', 'place-name', 'firearms', \"Milton's\", 'carpenter', 'scaffold', 'packages', 'Officials', 'exhibiting', 'papal', 'quicker', 'sprayed', 'Venetian', 'adhesive', 'interplay', 'Lowell', 'low-cost', 'tubing', 'supplier', 'Ministry', 'lays', '$20', 'secretaries', 'remedies', \"Thomas'\", \"public's\", 'sundown', 'whistled', \"SAAMI's\", 'coordinates', 'jug', 'Poetry', 'intends', 'Rexroth', 'epoch', 'appointments', 'outraged', 'twenties', \"Prokofieff's\", 'Lauro', 'frontage', 'Bosis', 'swam', 'Contact', 'desolate', 'Geological', 'Offices', 'Cooperatives', 'condensation', 'BTU', 'focusing', 'Fixed', 'thermostat', 'filtered', 'upkeep', 'out-of-state', 'ducts', 'Symposium', 'pins', \"pool's\", 'centum', 'compose', 'profile', 'endorse', 'sunk', 'supplemented', 'Copenhagen', 'stimulate', 'educate', 'infiltration', 'veins', 'Macbeth', 'outlines', 'rotated', 'amplified', 'Shakespearean', 'Blake', 'replaces', 'compulsory', 'x-ray', 'staggering', 'streaks', 'bailiff', 'Stratford', 'clumsy', 'newborn', \"Earth's\", 'spontaneity', 'Breasted', 'expeditions', 'Trees', 'bewildered', 'loom', 'commodity', 'moderately', 'Turkey', 'deadline', 'pry', 'Border', 'aisle', 'dapper', 'Alliance', 'reliance', 'preferable', 'aiding', 'withdrawal', 'Multnomah', 'succeeding', 'unprepared', 'le', 'Individual', 'uranium', 'enrollment', 'discovering', 'successors', 'desegregated', 'tentatively', 'treasures', 'prizes', 'first-class', 'smothered', 'lad', 'Lacking', 'flattened', 'investments', 'folly', 'turnpike', 'coincided', 'gripping', 'dramas', 'classify', 'flourished', 'Grasslands', 'zoo', 'roam', 'recognizing', 'wartime', 'repression', 'chanted', 'schemes', 'DeKalb', 'stance', 'retaliation', 'governors', 'resolutions', 'insured', 'budgeting', 'abandoning', 'geographically', 'understands', 'ever-present', 'apologetically', 'margins', 'outspoken', 'Elder', 'Fitzgerald', '1919', 'Beaverton', 'laymen', 'invoked', 'engaging', 'rationale', 'upheld', 'defendant', 'Aircraft', 'Nebraska', 'declines', 'esprit', \"A's\", 'well-informed', 'strengthened', 'episodes', 'Initially', 'throws', 'secretly', 'probe', 'weakened', 'debates', 'toughness', 'negotiation', 'announcements', 'heightened', 'disgusted', 'doubles', 'Ancient', 'pastors', 'advocating', 'guise', 'paired', 'aching', 'specifications', 'Farrell', 'photographers', \"Miller's\", 'Terry', 'grumble', 'drives', 'separating', 'downhill', 'contemptuous', 'rivalry', 'visibly', '120', 'putt', 'Augusta', 'disbelief', 'presiding', 'perennial', 'Humphrey', 'bodily', 'Colmer', 'noses', 'mountainous', 'upwards', 'invaded', 'presidents', 'banner', 'savages', 'fortunes', 'RCA', 'Records', 'inexpensive', 'presentations', 'interviewing', 'sculptor', 'manifestation', 'vantage', 'glands', 'experimented', 'shaving', 'toothbrush', 'throats', 'textures', 'airy', 'teachings', 'righteousness', 'Version', 'cohesion', 'gazing', 'academy', 'congressman', '1883', 'foes', 'bust', 'Specific', 'pasted', '1865', 'complexes', 'seller', 'Short', 'hardy', 'flowering', 'cordial', 'refreshing', 'inquire', 'Toward', 'omitting', 'laborer', 'packaged', 'cutters', 'riders', 'Voice', 'persist', 'angrily', 'costing', 'inception', 'canoe', 'accelerating', 'sack', \"government's\", 'devoid', 'wears', 'goat', 'fleeting', 'temptations', 'helper', 'subscribers', 'predecessors', 'mandate', 'futile', 'blossom', 'inaction', 'man-made', 'signature', 'floods', '1936', 'contractor', 'Nowhere', 'strife', 'refugees', 'outlined', 'sits', 'Survey', 'Udall', 'shoreline', 'keel', 'predicting', 'automation', 'breach', 'anti-Communist', 'Regardless', 'chancellor', 'assess', 'documented', '95', 'maze', 'stealing', 'canning', 'poise', 'forgiven', 'thinker', 'artificially', 'Iron', 'subordinate', 'unorthodox', 'Plans', 'clouded', 'assembling', 'fabulous', 'Reports', 'notch', 'versa', 'finances', 'out-of-town', 'heavenly', 'manhood', 'alternately', 'ambivalent', 'jam', 'Desegregation', 'towel', 'thanked', 'relic', 'feather', 'sadness', 'earthly', 'commotion', 'Confederacy', 'paneling', 'fireplace', 'storms', 'Jenks', 'Patrolman', '1934', 'pardon', 'Stewart', '$800', 'wavelengths', 'detecting', 'revived', 'navy', 'reactors', 'adviser', 'manuscript', 'wrapping', 'passport', 'patterned', 'hunter', 'Dreadnought', \"Britain's\", 'Various', 'abide', 'NBC', 'Elmer', 'finale', 'laborers', 'manual', \"Mantle's\", 'Johns', 'Prosecutor', 'Mile', '68', 'weaknesses', 'crippling', 'Indianapolis', 'Louisville', 'congestion', 'Turner', 'Pierce', 'Chuck', 'scratches', 'ripped', 'Wilmington', 'Wallace', 'tagged', 'arrears', 'bruises', 'creed', 'Teaching', 'Utah', 'tax-exempt', 'reflexes', 'Siberia', 'makeshift', 'Vietnamese', 'narrowly', 'northeast', 'Liston', 'Werner', 'ambulance', 'Abbey', 'feat', \"She'll\", 'athletics', 'morals', 'promotional', 'canceled', 'hooked', 'Honolulu', \"summer's\", 'buffet', 'Arms', 'idol', 'Cancer', 'Alvin', \"Palmer's\", 'possessing', 'spelled', 'flowed', 'sensational', 'Crystal', 'super', 'Dame', 'Notre', 'inscription', 'healed', 'runaway', 'bats', 'Danny', 'slogan', 'bayonet', 'blazing', 'Harcourt', '$150', 'assaulted', '$20,000', 'robbery', 'Wiley', 'ashes', 'Auditorium', 'attends', 'Katherine', 'Sutherland', 'fraternity', 'Meyer', 'totals', 'doings', 'hospitality', 'Marie', 'Alpha', 'ants', 'accidentally', 'marvel', 'stadium', 'cookies', 'winner', 'Marr', 'Trophy', 'gala', '1926', 'grandchildren', 'caps', 'Stay', 'Stengel', 'residing', 'assisting', 'Pasadena', 'Browning', 'impeccable', 'pilgrimage', 'Getting', 'Bird', 'needles', 'linen', 'Robbins', 'Dunn', 'coconut', 'Hawaiian', 'ramp', 'vicinity', 'someplace', 'attire', 'Fresh', 'colts', 'tucked', 'snack', 'softening', 'outdoors', 'Heritage', 'sprinkle', \"Sunday's\", 'puppet', 'lamps', 'Yuri', 'Whitey', 'fore', 'windshield', 'wiping', 'gallons', 'popped', 'pitches', 'Channel', 'tease', 'boasted', 'senseless', 'auspices', 'Episcopal', 'manipulate', '86', 'assemblies', 'shortstop', 'lecturer', 'Workshop', 'productions', 'Lauderdale', 'props', 'workout', 'relegated', 'rookie', 'circus', 'Mostly', 'Forsythe', 'dividend', 'creator', 'Coach', 'ghastly', 'Quaker', 'm.p.h.', 'Allies', 'pollution', 'wrecked', 'plague', 'Convention', 'Kelsey', 'Buchheister', 'Sciences', 'opener', 'imprisonment', 'Riders', 'interfering', 'sinking', 'rescued', 'ashore', 'contributors', 'Workers', 'rings', 'wallet', 'lamb', 'assessments', 'ribbons', 'Nevada', 'Caesar', 'workmen', 'Leavitt', 'weaken', 'Greer', 'Butcher', 'Waters', 'Football', 'percentages', 'figuring', 'depletion', 'Toronto', '25%', '5%', 'borrowing', 'examiner', 'conversions', 'touchdown', 'debentures', 'liable', 'cautioned', 'pessimism', 'Janice', 'banquet', 'bearings', 'Moss', 'Gin', '56', 'Bonn', 'meter', \"France's\", '6th', 'rub', 'stunning', 'lacks', \"Where's\", 'booking', 'wrongs', 'demonstrates', 'splendor', 'vibrant', 'Lenin', 'imperial', 'Phase', 'subtly', 'paralysis', 'forthright', 'jackets', 'intimately', 'Guardian', 'Hough', 'Different', 'Writing', 'hymns', 'revulsion', 'continuum', 'adaptations', 'alienated', 'singly', 'Bates', 'unpopular', 'Especially', 'coffin', 'economist', 'spine', 'herds', 'excerpt', 'practitioners', 'atop', 'explode', 'ambassadors', 'proposing', 'grenades', 'poignant', 'brightly', 'spotlight', 'fairness', 'publicized', 'Eighth', 'scandal', 'soprano', 'gangs', 'disc', 'grudgingly', 'biting', 'saga', 'lash', 'casts', 'castle', 'uniformly', \"leader's\", 'evoke', 'Ethics', \"Church's\", 'virtuous', 'Emergency', 'indicative', 'Archbishop', 'volley', 'tingling', 'closes', 'abdomen', 'progressively', 'subjectively', \"yesterday's\", 'induction', 'alas', 'recourse', 'Abraham', 'idly', 'exceeding', 'non-Catholic', 'robe', 'glittering', 'hypocrisy', 'fascination', 'participants', 'communicative', 'complied', 'petty', 'twenty-two', 'frenzy', 'contend', 'superimposed', 'chords', 'slipping', 'Berman', 'Glenn', 'dreary', 'Armstrong', 'recital', 'juicy', 'Thurber', 'lapse', 'ecstasy', 'Hero', 'clip', 'operative', 'Active', 'auxiliary', 'twists', 'satellites', '$60', 'meticulously', 'mediocre', 'Ordinary', 'platforms', 'cock', 'Carey', 'buddies', 'Supply', 'probing', 'syndicate', 'Mando', 'huh', 'planks', 'Maintenance', 'brows', 'Orders', 'Burr', 'kindness', 'tribal', 'SMU', 'mastered', 'converse', 'supervise', 'Ronnie', 'Herford', 'allusions', 'monacle', 'showered', 'whoever', 'asserts', '77', 'Crisis', 'salesmanship', 'operatic', 'Page', 'Hayes', \"Sloan's\", 'shadowing', 'Sheriff', 'chronology', 'inflation', 'Clubs', 'Caravan', 'superseded', 'glared', 'hairy', 'palette', 'complaining', 'squared', 'transactions', 'Baer', \"lady's\", 'Rebels', 'differentiated', 'sophomore', 'Loan', 'Blenheim', 'tattered', 'Grey', 'Investors', 'circulating', 'Letters', 'romantics', 'mergers', 'buyers', 'proximity', 'indecision', 'make-up', '1834', 'legacy', 'extraction', 'Gentile-Jewish', 'swirled', 'Emmett', 'piping', 'banister', 'brandishing', 'fruitless', 'devastating', 'telephones', 'entitle', 'thrusts', 'theologian', 'Trinity', 'Leesona', 'Eh', 'rotary', 'garages', 'Registry', 'cabinets', 'Remarks', 'self-sustaining', 'Sydney', 'richness', '3rd', 'Bud', 'Printed', 'Were', 'Rider', 'one-story', 'ghosts', 'Elman', 'pennies', 'dozed', 'disfigured', 'ghettos', 'Budd', 'celebrating', \"months'\", 'truthfully', 'excellently', 'out-of-doors', 'Gone', 'furs', 'Analysis', 'installment', 'reproducible', '1928', 'Arnolphe', 'speedy', 'interstellar', 'AFL-CIO', 'shutter', 'Rite', 'atmospheres', 'Larson', '$4', 'Seigner', 'Fifty', 'teenagers', 'mammalian', 'sensuality', 'morphological', 'Regions', 'baton', 'Sue', 'Millie', 'Pilgrims', 'Islanders', 'Pageant', 'eighty-sixth', 'buff', 'quarterly', 'Held', 'skepticism', 'Advocate', 'Reed', 'zest', 'Kemble', 'inject', 'grapes', 'rude', 'tangled', 'ratification', 'Round', 'Alpert', 'nasty', 'clerks', 'arbiter', \"Edward's\", 'thankful', 'Machine', 'Wild', 'periphery', \"horse's\", 'hurtling', 'kitchens', 'maneuver', 'airfield', 'Gosson', 'Thy', 'skimmed', 'exceeded', 'bequest', 'hemorrhage', 'Barber', 'Lappenberg', 'astonishingly', 'CTCA', 'Merchants', 'reserves', \"Childhood's\", \"Wells's\", 'banter', '1625', \"Lewis's\", 'Gantry', 'S.K.', 'interstate', 'adventurous', 'unseen', 'hys', 'Bancroft', 'mee', 'heroine', 'ther', 'yow', 'monei', 'estates', 'Apollo', 'gaunt', 'brigadier', 'immaculate', 'Audubon', 'pas', 'handing', 'selects', 'Ltd.', 'sparse', 'offenses', 'communes', 'hostilities', 'transitions', 'rounding', 'Cunningham', 'evolve', 'abused', 'Ching', 'intensities', 'serial', 'refinements', 'tapestry', 'coaches', 'choreographer', 'insofar', 'individualized', 'deference', 'ignores', 'ever-changing', '15%', 'astonishment', 'invaluable', 'Changes', 'option', 'plead', 'Personally', 'Petersburg', 'Byzantine', 'expired', 'Godot', 'merging', 'drugged', 'silhouettes', 'cunning', 'centrally', 'spire', 'enchanted', 'Md.', 'pots', 'tubs', 'Nathan', 'Las', 'Vegas', 'garments', 'Parks', 'enhanced', 'Drs.', 'negation', 'boarding', 'psychoanalysis', 'balcony', 'tame', 'mystique', 'Lipton', 'kneel', 'tweed', 'volatile', 'humility', 'sharpened', 'slides', 'puppets', 'Founding', 'authorize', 'staccato', 'continual', 'Cafe', 'stuffed', 'Nature', \"Governor's\", 'Late', 'elapsed', 'glinting', 'homeland', 'coincides', 'retailers', 'librarian', 'workshops', 'claimants', 'format', 'therefrom', \"South's\", 'vows', 'disrupted', 'unreconstructed', 'wrecking', \"Army's\", 'scornful', \"states'\", 'fundamentals', 'exploitation', 'Guest', 'capitalist', 'Knox', 'obnoxious', 'self-consciousness', 'nondescript', 'SR', 'cheerfully', 'avant-garde', 'fortress', 'senate', 'tying', 'alcoves', 'meager', 'upstream', 'relentless', 'lugged', 'enterprising', 'fella', 'decorator', 'planting', 'Flying', 'bivouac', 'Kings', 'self-conscious', 'Plus', 'displaying', 'swooped', 'thickened', 'batch', 'dissent', 'senators', 'fragment', 'guarded', 'Concerto', 'Jacoby', 'hatching', 'transaction', 'irritated', 'cradle', 'Lyford', 'particulars', 'habitual', 'Pendleton', '63', 'donor', 'Jason', 'Flemish', 'Ninth', 'sentry', 'enforcing', 'kerosene', 'diurnal', 'wasting', 'imposition', 'overrun', 'fisherman', 'Grigorss', 'uncanny', 'whistling', 'contends', 'thrill', 'Reactionary', 'Treatment', 'prefers', 'Civilization', 'Ga.', 'receding', 'capacities', \"Joe's\", 'indulged', 'tact', 'roofs', 'adamant', 'maternal', 'slate', 'mattered', 'Constable', 'warrants', 'pads', 'Sadie', 'renting', 'unwillingness', 'saturation', 'Dietrich', 'mustache', '20%', \"Harper's\", 'monster', '1915', 'approximated', 'resultants', 'sojourn', 'logging', 'economists', 'distinguishes', 'Lyttleton', 'Scotch', 'deserts', 'Thinking', 'humiliation', 'Design', 'tiles', 'happenings', 'procession', 'Glen', 'coherent', 'illuminating', 'acquiescence', 'grouped', 'noblest', 'Cox', '1916', 'lawns', 'enroll', \"Thompson's\", 'sculptured', 'scepticism', 'Senators', 'interrelated', 'Parkhouse', 'intellect', 'authorizing', 'pedestal', 'nostalgic', 'slashing', 'catastrophes', 'schooling', 'disguise', 'downed', 'Called', 'advent', 'bout', \"Gabriel's\", 'competently', 'inheritance', 'powders', 'aberrant', 'commuting', 'Activities', \"moment's\", 'stimuli', 'actress', \"corporation's\", 'princess', 'Kerr', 'lets', 'hides', 'spitting', 'fervent', 'hamburger', 'Self', 'Morocco', 'Chicken', 'endeavors', 'measurable', 'Salt', 'seasoned', 'canned', 'Moriarty', 'crowding', \"Watson's\", 'gradients', 'cochannel', 'Wives', 'lavender', 'sparkling', 'Branch', 'hoarse', 'Moll', 'gasped', 'whispering', 'mumbled', 'Dodgers', 'satin', 'revivals', 'greatcoat', 'Mutton', 'Kappa', 'countrymen', 'drizzle', 'Shirley', 'Bern', 'Favre', 'flared', \"Woman's\", 'Thrift', 'Damn', 'Christopher', 'populous', \"That'll\", 'Couperin', 'Slater', 'Boyd', 'screeched', 'gasps', 'franchise', 'impinging', 'stockings', 'touring', 'knocking', 'scrawled', 'asset', 'Stowey', 'Salvation', 'shovel', 'froze', 'crib', 'smoothness', 'gulf', 'mat', 'steaming', 'chat', 'Meadow', 'implementation', 'informally', 'parole', \"mustn't\", 'striped', 'joyous', 'parted', 'overcoat', 'suitcases', 'Grabski', 'braced', 'scented', 'foster', 'shuddered', 'Baseball', 'Violet', 'Criticality', 'laundry', 'cu.', 'Simpson', 'shriek', 'baritone', 'three-year', 'accelerator', 'irradiated', 'proficient', 'radiosterilization', 'sterilization', 'ionizing', 'Currency', 'Properties', 'lay-offs', 'solvent', 'gallium', 'tektites', 'Eagles', 'hydrolysis', 'cliches', 'metabolite', 'chuckle', 'Cardinals', 'Arundel', 'discrepancies', 'Commissioners', 'tracts', 'template', 'embroidered', 'Drew', 'blackness', 'Monte', 'yanked', 'trembled', 'Jerome', 'dingy', 'Lynn', 'Louise', 'concertos', 'administrators', 'Rex', 'Seward', 'hosts', 'Musical', 'sweaty', 'coupler', 'phoned', 'belligerent', 'biscuits', 'sprawling', 'rococo', 'servo', 'torquer', 'torque', 'gyros', 'fringed', 'optimality', 'shakes', 'edging', 'Leona', 'down-to-earth', 'teens', 'kissing', \"Kitty's\", 'Teachers', 'cheekbones', 'downstream', 'metaphor', 'jagged', \"Throat's\", 'Manu', 'bleached', 'Hettie', 'Grafin', '130', 'Yugoslavia', 'Sante', 'DiMaggio', 'prescribe', 'glamorous', 'Nate', 'Burnsides', 'Arbuckle', 'gully', 'impeded', \"bride's\", 'Conchita', 'Maguire', 'Kruger', 'limbs', 'citation', 'vaudeville', 'Pompeii', 'Kizzie', 'utterance', '96', 'Bend', 'Kafka', 'Ruling', 'Hemus', 'Richert', 'Zenith', 'A-Z', 'furrow', 'rains', 'Acala', 'puny', 'twelfth', 'Tuxapoka', 'Thom', 'justly', 'John-and-Linda', 'complications', 'Hartweger', 'Walitzee', 'Askington', 'clutch', 'Reuveni', 'co-operative', \"Roosevelt's\", 'artistically', 'Diego', 'sunburn', 'Adelia', 'flicked', \"Indian's\", 'bale', 'kittens', 'mink', 'lush', 'plunge', 'Dolce', 'Vita', 'overalls', 'clapping', 'plowed', 'dynamite', 'Loop', 'melodic', 'profess', 'Emile', 'virtual', \"Garth's\", 'technician', 'genial', 'tournaments', 'dived', 'Beginning', 'sponsorship', 'lurched', 'Guests', \"driver's\", 'Bradford', 'Carruthers', 'Writers', 'Homicide', 'Brian', \"Mahzeer's\", \"Montero's\", 'Ariz.', 'Aricaras', 'Fiske', 'incidental', 'half-breed', 'Molly', 'dromozoa', 'Florence', 'Earthmen', 'fairway', 'Towne', 'Martian', 'en', 'grok', 'admirably', 'fumbled', 'Anta', \"Alec's\", 'slogans', 'plumb', 'Gary', 'Jaguar', 'Silence', 'scoop', \"Poet's\", 'Calenda', 'Needham', 'Doris', 'Flower', 'DUF', 'Councilman', 'dispatched', 'bleachers', 'hatch', 'Turk', 'Human', 'catkins', 'pussy', 'Twins', 'Region', 'COAHR', 'eve', 'min', 'pledged', 'donors', 'Rh', 'ABO', 'uptown', 'electrophoresis', 'ulcer', 'inert', 'Survivors', 'otter', 'BW', 'intentional', 'Biological', 'microns', 'Nancy', 'inverse', 'sundry', 'basin', 'Slate', 'Psithyrus', 'rattlesnakes', 'Appeal', 'precincts', \"Castro's\", 'neutrophils', 'marrow', 'anemia', 'uptake', 'antithyroid', \"University's\", 'di-iodotyrosine', 'percussive', 'potassium', 'epiphysis', 'Milk', 'conforms', \"Smith's\", 'pictorial', 'signatures', 'Onsets', 'Chart', 'exempt', 'unanimous', 'shunts', 'Rall', 'artery-pulmonary', \"president's\", 'NE', 'hilum', 'pop', 'Leon', 'micrometeorites', 'Poynting-Robertson', 'inversely', '353', 'Fellows', 'constancy', 'one-', '111', 'Example', 'refinement', 'Sections', 'flaming', 'Webster', 'needing', 'suffrage', 'decrees', 'pinpoint', 'Patterson', 'Unifil', 'widened', 'shielding', 'Method', \"Moliere's\", 'Financial', 'backlog', 'Huntley', 'unofficial', 'Detective', 'hereinafter', 'culminates', 'Temperature', 'conductivity', 'Patrol', 'Uniconer', 'flask', 'ant', 'Pyrex', 'quantum', 'Ronald', 'interfaces', 'latch', 'accounted', 'lobes', 'Tucker', 'bunched', 'ion', 'disability', 'dipole', 'coordinator', 'curvature', 'Alumni', 'deformation', 'unfolding', 'elasticity', '30,000', 'Experimental', 'electrode', 'graphite', 'mm', 'reflector', 'Sloanaker', '20,000', 'Devey', 'retailing', 'mucosa', 'Legion', 'tribunal', 'sub', 'shreds', 'warrior', 'commanders', 'Marsden', \"clerk's\", 'Athletic', 'drugstore', 'masonry', 'whereabouts', 'Beautiful', 'dismounted', 'blackout', 'haunches', 'Baby', 'Clifford', 'priorities', 'Catskill', 'delicacy', 'marshal', 'widowed', 'plaintiff', '76', 'communist', \"Secretary's\", 'Xydis', 'timid', \"mayor's\", 'AWOC', 'Hartsfield', 'Cubist', 'relaxing', 'Poems', 'applaud', 'Index', 'two-digit', 'compiler', 'EQU', 'tread', 'shouts', '$15', 'attentive', 'soles', 'Gertrude', 'Tones', 'worrying', 'identifiable', 'lenses', 'Mityukh', 'gasping', 'barrage', 'Pimen', 'Capt.', 'Pozzatti', \"university's\", 'purposely', 'irritable', 'Dodge', 'Grady', 'amounted', 'Analytical', \"Respondents'\", \"artists'\", 'conjugated', 'triumphant', 'AIMO', 'subgroups', 'rebuild', 'Nagrin', 'helplessness', 'reassured', 'Sterling', 'pertains', \"C'\", 'Mt.', 'l', 'Elliott', 'Spahn', 'Cornell', 'Scale', 't', 'fumes', 'anymore', \"D'\", '**ya', 'Funds', 'Given', 'truce', 'neocortex', 'Delhi', 'verify', 'obscurity', 'Cubans', 'accents', 'I.Q.', 'Fifties', 'criminals', 'Gehrig', 'hunter-killer', 'loadings', 'clattered', 'U.N.F.P.', 'Balafrej', 'long-run', 'aberrations', 'nail', '53', 'racket', 'Pelham', 'aiming', 'phonology', 'mindful', 'peddler', 'Sandman', 'modifier', 'premiere', 'W-region', 'boarded', '30th', 'Herb', 'ensued', 'arresting', 'transposed', 'receptionist', 'Stickney', 'shapeless', 'Gas', 'scoring', 'comprehend', 'Estimate', 'housekeeping', 'rip', 'chines', 'safeguard', 'one-inch', 'permissive', 'Hotei', 'postal', 'Letter', 'Occasional', 'suffused', 'marker', 'bids', 'candles', 'cans', 'endeavor', 'affiliations', 'lids', 'allegations', 'Creek-Turn', 'craters', 'holocaust', 'butchery', 'beaming', 'disciples', 'diplomat', 'arouse', 'girlish', 'installing', 'deceived', 'drains', 'Jonathan', 'navigation', 'intellectually', 'piers', '1793', '1810', 'aloof', 'rod', 'ridicule', 'prophecy', 'reminding', 'lent', 'Commonwealth', 'Deer', 'Salisbury', 'Available', 'Newburyport', 'Almighty', 'reversing', 'Feed', 'Cunard', 'slippery', 'securely', 'radial', 'bishops', 'inspector', 'timbers', 'pope', 'surprises', 'chunks', 'Makes', 'predecessor', 'subsided', 'midday', 'carriages', 'mischief', 'wrap', 'bedside', 'invaders', 'hopped', 'attachment', 'photo', 'expanse', 'chilly', 'hum', 'neutralism', 'peacefully', 'all-white', 'apples', 'pies', 'nuisance', 'walnuts', 'freeways', 'roasted', 'freeway', 'dormant', 'allocated', 'Thant', 'ripple', 'tilt', 'peninsula', 'primacy', 'signaling', 'avenues', 'self-contained', 'sauces', 'chili', 'popping', \"Aren't\", 'breathless', 'cartoons', 'forbids', 'sausages', 'Simple', 'unworthy', 'believers', 'unbreakable', 'hibachi', 'suffers', 'begotten', 'Istanbul', 'correspondents', 'hammock', 'towers', 'pillars', 'obelisk', 'caressing', 'Hippodrome', 'plastered', 'bazaar', 'harshly', 'Turks', 'Bosphorus', 'disappearing', 'salvage', 'Swing', 'roadway', '1868', 'lodging', 'Frontier', 'sane', 'surveyor', 'boyhood', 'persuading', 'Horace', 'receivers', 'sonar', 'Nugent', 'Barnard', 'viable', 'Leader', 'murderers', 'computation', 'collects', 'invade', 'microscopic', 'laboratories', 'sidewalks', 'inconsistent', 'attrition', 'abiding', 'Algerian', 'unwelcome', 'athletes', 'connotation', 'burnt', 'easel', 'oyster', 'unwittingly', 'bosses', 'Area', 'valleys', 'portrays', 'calves', 'milligram', 'infections', 'totaling', 'Unity', 'eternity', 'Aureomycin', 'severity', 'scours', 'Simply', 'glamour', 'polarity', 'divisive', 'Eastwick', 'fuse', 'faction', 'esteem', 'faculties', '39', 'reckon', 'institute', 'shortcomings', 'disorganized', 'fertile', \"host's\", 'regulars', 'envied', 'washes', 'temporal', 'Faget', 'freer', 'penance', 'Sargent', 'animated', 'Shriver', 'latitude', 'stagnant', 'adherents', 'enjoined', \"Berger's\", 'zoning', 'tiger', 'trunks', 'pertaining', 'conditioners', 'dictated', 'colder', 'preposterous', 'Channing', \"another's\", 'screening', 'bankrupt', 'carving', 'Grafton', 'haven', 'retreating', 'Philippi', 'clash', 'refreshed', 'reluctance', 'regulatory', 'laissez-faire', \"Hammarskjold's\", 'shabby', 'homogeneity', 'uncompromising', 'novelty', 'sting', 'provisional', 'fluent', 'haul', 'fission', 'captive', 'inhibited', 'mistress', 'sprouting', 'dismay', 'genetic', 'commendable', '$5000', 'checking', 'affinity', 'encroachment', 'caves', 'would-be', 'apprehensions', 'Oslo', 'indelible', 'hazardous', 'posterity', 'accelerate', 'unequivocally', 'consuming', 'Ephesians', '2-year-old', 'beauties', 'substitutes', 'Clean', 'uncertainties', 'Leg', 'glances', 'affords', 'defines', 'wry', 'fading', 'interfaith', 'affecting', 'occasioned', 'carts', 'authoritarian', 'gotta', 'barbell', 'Operations', 'ready-made', 'bravado', 'Courts', 'prominence', 'foresight', 'developer', 'Beth', 'astounding', 'brotherhood', 'instantaneous', 'encourages', 'confuse', 'depressing', 'dietary', 'Reply', 'symptom', 'perfected', 'baths', 'committing', 'corruptible', 'ideally', 'bordering', 'unscrupulous', 'stealth', 'Nuclear', 'vibration', 'enrich', 'vitamin', 'Welcome', 'appreciable', 'Nehru', 'provocation', 'nutrients', 'Noting', 'Secretariat', 'refrigerated', 'pulp', 'avocados', 'buds', 'voiced', \"Lincoln's\", 'justifiably', 'amen', 'Words', 'warts', 'Veterans', 'denounce', 'certify', 'terrific', 'diplomats', 'cypress', 'swamp', 'professed', 'agenda', 'professions', 'stumps', 'equity', 'contingencies', 'Princess', 'Discussion', 'minimized', 'Realtors', 'respectability', 'stricken', 'Lower', 'oneself', 'ambivalence', \"anyone's\", 'self-evident', 'post-attack', 'lessen', 'clothed', 'cafes', 'incur', 'External', 'discouraging', 'counterpoint', 'worlds', 'arithmetic', 'SEATO', 'impractical', 'initiate', 'exasperation', 'sympathetically', 'inaugural', 'Ceylon', 'Top', 'doctrines', 'suffocating', 'pro-Communist', 'Cairo', 'insuring', 'prevalent', 'expelled', 'repelled', 'neutralized', 'fearless', 'risks', 'comply', 'greedy', 'Bertha', 'proprietors', 'imputed', 'Walt', 'inaccurate', 'lowering', 'generalize', 'escalation', 'threatens', 'equated', 'obsolete', 'Rich', 'Martha', 'Faber', 'revered', 'do-it-yourself', \"Stalin's\", 'fine-looking', 'psalmist', 'warlike', 'thrived', 'Caper', 'enlist', 'Fury', 'Dale', 'wailing', 'axle', 'irregularly', 'Carvey', 'thence', 'organizational', 'boring', 'Communese', 'multiplication', \"'round\", 'triangular', 'excerpts', 'accessible', 'Cabinet', 'unfavorable', 'baffled', 'Demon', '6,000', 'scabbard', '30%', 'misdeeds', 'medicines', 'Watch', 'hamper', \"Richard's\", 'orchards', 'duplicate', 'creaking', 'adapt', 'Colt', 'hunters', 'ingenuity', 'Rouge', 'incoming', 'brakes', 'single-shot', 'cartridges', 'recoil', 'Magnums', 'edible', 'Remington', 'scales', 'Baton', 'buck', 'flows', 'mania', 'traits', 'imitate', 'underside', 'slots', 'Miss.', 'congratulations', 'harmonious', 'Aids', 'tendencies', 'reverence', 'monumental', 'Dog', 'proving', 'vanish', 'Divinity', 'faithfully', 'archaic', 'Directions', 'contestants', 'activated', 'uttered', 'bishop', 'ascribed', 'embark', 'Curzon', 'elongated', 'Wine', 'pumps', 'Universal', 'sandals', 'priceless', 'padded', 'dip', 'Judging', 'kitten', 'Number', 'despotism', 'spacers', 'drilled', 'left-hand', 'intercontinental', \"12''\", 'injecting', 'modifications', 'widths', 'succumbed', '1821', 'Evening', 'Classical', 'dynasty', 'glitter', 'pets', \"water's\", 'headache', 'divergent', 'wherein', 'horsepower', 'paved', 'fullest', 'Train', 'fills', 'arbitrarily', 'woodwork', 'craftsmanship', 'symbolically', 'misgivings', 'confronts', 'wits', 'journals', 'poker', 'Tobacco', 'injunctions', 'necessitate', 'sickness', 'coolness', 'Fran', 'interfered', 'generates', 'academically', 'President-elect', 'ancestral', 'beards', 'exaggeration', \"People's\", 'chaotic', 'directs', 'seize', 'transports', 'Inauguration', 'Scientific', 'Educational', 'spans', 'siege', 'blackened', 'Election', 'shutters', 'thumping', 'rattle', 'mechanic', 'proverb', 'capsule', 'Koreans', 'supremacy', 'ax', 'linking', 'chopping', 'cropped', 'surround', 'tenant', 'shrine', 'debated', 'Ideas', 'appointees', 'apologized', 'Minutemen', 'furious', 'glycerine', 'rig', 'humane', 'Folklore', 'Pp.', 'one-tenth', 'chilling', 'allowable', 'dispose', 'inscrutable', 'liquidated', '1776', 'steeped', 'monopolies', 'decisively', 'backwoods', 'machinist', 'reputed', 'shudder', 'acutely', 'Coe', 'analysts', 'hasty', 'appestat', 'obsession', 'whichever', 'rationalize', 'Assemblies', 'awed', 'ass', 'stereotyped', 'insecurity', 'Parsons', 'shaky', 'bogey', 'Rebs', 'stationed', 'Yank', 'two-year', 'figurative', 'thicker', 'unmistakably', '1844', 'Lucian', 'butts', 'aggressiveness', 'Alan', 'immoral', 'Cicero', 'lethal', 'Rule', 'abreast', 'oppressed', 'graphic', 'battlefield', 'hurling', 'lukewarm', 'leaked', 'smelling', 'troopers', 'Custer', 'swivel', 'recipients', 'phalanx', 'verbally', 'obsessed', 'anti-party', 'lingering', 'Medicine', 'clarification', 'editing', 'catastrophic', 'proliferation', 'buckle', 'midway', \"O'Connor\", '1909', 'waiters', 'bulwark', 'factions', 'punch', 'Penn', 'plagued', 'age-old', 'denoting', 'OK', 'Join', 'buzz', 'skillfully', 'Corinthian', 'aft', 'Columns', 'poking', 'Americana', 'Texan', 'Hanch', 'escaping', 'Off', 'O.E.C.D.', 'Regional', 'Brevard', 'crippled', 'Concerts', 'Palm', 'welcoming', 'Hail', 'tag', 'self-discipline', 'groping', 'liaison', 'completes', 'Hartman', 'Standing', 'uneasiness', 'overweight', 'commentary', 'gaily', 'Philosophy', 'espionage', 'triple', 'runners', 'soloists', 'Mail', 'indoors', '16th', 'tuition', 'harmless', 'harassed', 'unfriendly', 'upper-middle-class', 'fins', 'Staten', 'frigid', 'motifs', 'outreach', 'exploring', 'briskly', 'cart', 'austere', 'advantageous', 'registers', 'self-examination', 'Historically', 'Northerners', 'Breeding', \"Nation's\", 'Portago', 'constituent', 'salutary', 'minorities', 'formulae', 'Oriole', 'sacrifices', 'hosses', 'peanut', 'Fisher', 'achieves', 'stony', 'fibrous', 'locust', 'nourished', 'sparks', 'lieu', 'hiring', 'soybeans', 'consolidated', 'tenacity', 'intangible', 'hardships', 'rhetoric', 'definitive', 'Fleet', \"Morse's\", 'inquest', 'unloaded', 'corral', \"givin'\", 'resorted', 'trolley', 'limb', 'shone', 'Europeans', 'kidneys', 'exchanges', 'aimless', 'inn', 'Likewise', 'tariff', 'tuberculosis', 'scant', 'southpaw', 'intimated', 'Lillian', 'ducked', 'mystical', 'Ideally', 'stamping', 'Heywood', 'adversary', 'thickly', 'fetch', 'existent', 'insignificant', 'Loveless', 'second-rate', 'sway', 'hoss', 'transported', 'vices', 'chemically', 'Caution', 'cross-section', 'Barth', 'ventured', 'bombing', 'psychiatric', 'frontiers', 'linguistics', 'firemen', 'unmarried', 'perverse', 'programming', 'cute', 'nephews', 'seating', 'contemplated', 'extensions', 'liberation', 'Luther', 'lofty', 'layout', 'shrink', 'handwriting', 'bricks', 'high-priced', 'coolly', 'unloading', 'Mainland', 'unitized', 'Lumber', 'budgets', 'psychiatrists', 'psychotherapy', 'flags', 'overthrow', 'conferred', 'perpetuate', 'mortgages', '29th', 'Greeks', \"sheriff's\", 'wakeful', 'steal', 'richly', 'high-school', 'rape', 'dismiss', 'beacon', 'Beardens', 'drab', 'silenced', 'Seaman', 'paradise', 'Vesole', 'raids', 'Crosby', 'distracted', 'vile', 'poisonous', 'all-important', 'stew', 'menu', 'stressing', 'richest', 'cherish', 'Daer', 'librarians', 'migration', 'undeniable', 'peeled', 'undertaking', 'strengthens', 'UPI', 'alleviate', 'checkbook', 'removes', 'relying', 'vending', 'uninterrupted', 'shortsighted', 'refuses', 'pedestrian', 'extant', 'demonstrating', 'politeness', 'beverage', 'qualitative', 'Technical', 'extravagant', 'enhance', 'Increased', 'Reynolds', 'Capital', 'clusters', 'primeval', 'isolating', \"Jefferson's\", 'comforts', '260', 'entrenched', 'entail', 'opaque', '1965', 'Full', 'shielded', 'stays', 'polyester', 'periodicals', 'chipping', 'saves', 'bookkeeping', 'Schools', 're-enter', 'Story', 'fireworks', 'bugs', 'gallon', 'shocks', 'richer', 'Oakwood', 'evaluations', 'fuller', 'badge', 'Formosa', 'turbine', 'fights', 'needy', 'tenth', 'escorted', 'orator', 'abstention', 'scan', 'brother-in-law', 'ripples', 'greeting', 'hail', 'nationwide', 'locality', 'weeds', 'Rotary', 'week-end', 'intrinsic', 'Cod', 'Z', 'empirically', 'inquiring', 'Conversely', 'evacuation', 'witch', 'experimenter', 'glimpsed', 'sly', 'disrupt', 'forecasts', 'appliance', 'Susie', 'suck', 'prosecuted', 'Stephens', 'prescription', 'twirling', 'disinterested', 'corpses', 'legally', 'Cerv', '160', 'Kingston', 'crystalline', 'Forks', 'awe', 'sworn', 'patched', 'spurred', \"ship's\", 'Pole', '43', 'fund-raising', 'flourish', 'landscapes', 'corpus', 'clenched', 'ballplayer', 'murky', 'volunteered', 'Arabic', 'materially', 'vowed', 'Final', 'Czechoslovakia', 'Circuit', 'greetings', 'recollection', 'catharsis', 'chloride', 'Ernst', '2000', 'siding', 'licenses', 'motivations', 'Kasavubu', 'Patrice', 'Find', 'fragmentation', 'serenity', 'hazy', 'Mayer', 'meadows', 'one-man', 'engulfed', '23d', 'safer', 'manifestly', 'Waco', 'intimidation', 'livelihood', 'Englander', 'Barre', 'owes', 'misuse', 'labored', 'northward', 'variously', 'Finding', 'adhered', 'Inter-American', 'forestall', 'needless', 'Reama', 'geography', 'disintegration', 'classrooms', 'evokes', 'evasive', 'lied', 'Liberals', 'decorated', 'designate', 'gamblers', 'gushed', 'Farouk', 'Egyptian', 'quarreling', 'innumerable', 'unrest', 'Private', 'ironing', 'Mutual', 'Insurance', 'bump', 'censorship', 'Devil', 'compassion', 'facilitate', 'anterior', 'physicians', 'caresses', 'fearing', '1845']\n"
          ],
          "name": "stdout"
        }
      ]
    },
    {
      "cell_type": "code",
      "metadata": {
        "colab": {
          "base_uri": "https://localhost:8080/"
        },
        "id": "vumIiFG0HYAe",
        "outputId": "52cfceae-62ba-4e38-fa3b-d6bb04a12af8"
      },
      "source": [
        "print(get_embedding('weather', w2vmodel))"
      ],
      "execution_count": 71,
      "outputs": [
        {
          "output_type": "stream",
          "text": [
            "[-0.06151473  0.23835483 -0.23015307 -0.06441894 -0.1448257  -0.35914284\n",
            "  0.32680228  0.0705587  -0.24019703 -0.10843001 -0.0859292  -0.13540994\n",
            "  0.28457886  0.03531958 -0.291357    0.05644765 -0.2680171   0.25465655\n",
            " -0.35093993 -0.4837291   0.1764466   0.40316436  0.54427284 -0.13325305\n",
            " -0.03368726  0.07708641  0.15426771  0.25252235 -0.29950383  0.07863628\n",
            " -0.29660144 -0.29442164  0.16690718 -0.1513691  -0.01564987 -0.23389833\n",
            "  0.3251053   0.1723209   0.03559833 -0.04401367  0.06809956  0.1331483\n",
            " -0.18795799  0.1814605   0.41720417  0.39947623  0.12258974 -0.25030518\n",
            "  0.29709217  0.03277702]\n"
          ],
          "name": "stdout"
        }
      ]
    },
    {
      "cell_type": "markdown",
      "metadata": {
        "id": "V5OhSUEKHYAe"
      },
      "source": [
        "## Section 2.3: Visualizing Word Embedding\n",
        "\n",
        "We can now obtain the word embeddings for any word in the dictionary using word2vec. Let's visualize these embeddings to get an inuition of what these embeddings mean. The word embeddings obtained from word2vec model are in high dimensional space. We will use `PCA` to pick the 2 features that capture the most variance in the embeddings in order to represent them in a 2D space.\n",
        "\n",
        "\n",
        "For each word in `keys`, we pick the top 10 similar words (using cosine similarity) and plot them.  \n",
        "\n",
        " What should be the arrangement of similar words?\n",
        " What should be arrangement of the key clusters with respect to each other?\n",
        " "
      ]
    },
    {
      "cell_type": "code",
      "metadata": {
        "id": "r-SXOGTtHYAe"
      },
      "source": [
        "keys = ['voters', 'magic', 'love', 'God', 'evidence', 'administration', 'governments']"
      ],
      "execution_count": 72,
      "outputs": []
    },
    {
      "cell_type": "code",
      "metadata": {
        "id": "2sZxsNOVHYAe"
      },
      "source": [
        "def get_cluster_embeddings(keys):\n",
        "  embedding_clusters = []\n",
        "  word_clusters = []\n",
        "\n",
        "  # find closest words and add them to cluster\n",
        "  for word in keys:\n",
        "    embeddings = []\n",
        "    words = []\n",
        "    if not word in w2vmodel.wv.key_to_index:\n",
        "      print('The word ', word, 'is not in the dictionary')\n",
        "      continue\n",
        "\n",
        "    for similar_word, _ in w2vmodel.wv.most_similar(word, topn=10):\n",
        "      words.append(similar_word)\n",
        "      embeddings.append(w2vmodel.wv[similar_word])\n",
        "    embedding_clusters.append(embeddings)\n",
        "    word_clusters.append(words)\n",
        "\n",
        "  # get embeddings for the words in clusers\n",
        "  embedding_clusters = np.array(embedding_clusters)\n",
        "  n, m, k = embedding_clusters.shape\n",
        "  tsne_model_en_2d = TSNE(perplexity=10, n_components=2, init='pca', n_iter=3500, random_state=32)\n",
        "  embeddings_en_2d = np.array(tsne_model_en_2d.fit_transform(embedding_clusters.reshape(n * m, k))).reshape(n, m, 2)\n",
        "\n",
        "  return embeddings_en_2d, word_clusters"
      ],
      "execution_count": 73,
      "outputs": []
    },
    {
      "cell_type": "code",
      "metadata": {
        "id": "EielqtyUHYAe"
      },
      "source": [
        "def tsne_plot_similar_words(title, labels, embedding_clusters,\n",
        "                            word_clusters, a, filename=None):\n",
        "  plt.figure(figsize=(16, 9))\n",
        "  colors = cm.rainbow(np.linspace(0, 1, len(labels)))\n",
        "  for label, embeddings, words, color in zip(labels, embedding_clusters, word_clusters, colors):\n",
        "    x = embeddings[:, 0]\n",
        "    y = embeddings[:, 1]\n",
        "    plt.scatter(x, y, color=color, alpha=a, label=label)\n",
        "    for i, word in enumerate(words):\n",
        "      plt.annotate(word,\n",
        "                   alpha=0.5,\n",
        "                   xy=(x[i], y[i]),\n",
        "                   xytext=(5, 2),\n",
        "                   textcoords='offset points',\n",
        "                   ha='right',\n",
        "                   va='bottom',\n",
        "                   size=10)\n",
        "  plt.legend(loc=\"lower left\")\n",
        "  plt.title(title)\n",
        "  plt.grid(True)\n",
        "  if filename:\n",
        "    plt.savefig(filename, format='png', dpi=150, bbox_inches='tight')\n",
        "  plt.show()"
      ],
      "execution_count": 74,
      "outputs": []
    },
    {
      "cell_type": "code",
      "metadata": {
        "colab": {
          "base_uri": "https://localhost:8080/",
          "height": 646
        },
        "id": "Qnu60Gx3HYAe",
        "outputId": "856113b7-ccad-4893-bde9-4f453dfb91dd"
      },
      "source": [
        "embeddings_en_2d, word_clusters = get_cluster_embeddings(keys)\n",
        "tsne_plot_similar_words('Similar words from Brown Corpus', keys, embeddings_en_2d, word_clusters, 0.7)"
      ],
      "execution_count": 75,
      "outputs": [
        {
          "output_type": "display_data",
          "data": {
            "image/png": "[encoded data removed]",
            "text/plain": [
              "<Figure size 1152x648 with 1 Axes>"
            ]
          },
          "metadata": {
            "tags": [],
            "image/png": {
              "width": 1134,
              "height": 629
            },
            "needs_background": "light"
          }
        }
      ]
    },
    {
      "cell_type": "markdown",
      "metadata": {
        "id": "LNXyIytYHYAe"
      },
      "source": [
        "---\n",
        "#Section 3: Neural Net with word embeddings"
      ]
    },
    {
      "cell_type": "markdown",
      "metadata": {
        "id": "l6ygOiENHYAf"
      },
      "source": [
        "Let's use the pretrained FastText embeddings to train a neural network on the IMDB dataset. \n",
        "\n",
        "To recap, the data consists of reviews and sentiments attached to it. It is a binary classification task. As a simple preview of the upcoming neural networks, we are going to introduce neural net with word embeddings. We'll see detailed networks in the next tutorial.\n",
        "\n",
        "\n"
      ]
    },
    {
      "cell_type": "markdown",
      "metadata": {
        "id": "W3DgZIraHYAf"
      },
      "source": [
        "### Exercise 3.1: Simple Feed Forward Net"
      ]
    },
    {
      "cell_type": "markdown",
      "metadata": {
        "id": "CSmRn1jxHYAf"
      },
      "source": [
        "This will load 300 dim FastText embeddings. It will take around 2-3 minutes."
      ]
    },
    {
      "cell_type": "markdown",
      "metadata": {
        "id": "b3v99upZHYAf"
      },
      "source": [
        "Define a vanilla neural network with linear layers. Then average the word embeddings to get an embedding for the entire review.\n",
        "The neural net will have one hidden layer of size 128."
      ]
    },
    {
      "cell_type": "code",
      "metadata": {
        "cellView": "form",
        "colab": {
          "base_uri": "https://localhost:8080/"
        },
        "id": "yqiwai8iHYAf",
        "outputId": "7f6192b8-0e7b-4ddf-9ead-38b91304edc3"
      },
      "source": [
        "#@title Download embeddings\n",
        "embedding_fasttext = FastText('simple')"
      ],
      "execution_count": 76,
      "outputs": [
        {
          "output_type": "stream",
          "text": [
            ".vector_cache/wiki.simple.vec: 293MB [00:26, 11.1MB/s]                           \n",
            "  0%|          | 0/111051 [00:00<?, ?it/s]Skipping token b'111051' with 1-dimensional vector [b'300']; likely a header\n",
            "100%|█████████▉| 111024/111051 [00:11<00:00, 9532.02it/s]"
          ],
          "name": "stderr"
        }
      ]
    },
    {
      "cell_type": "code",
      "metadata": {
        "cellView": "form",
        "colab": {
          "base_uri": "https://localhost:8080/"
        },
        "id": "d9TMePLJHYAf",
        "outputId": "fa150168-32e0-4163-ab9d-17e31d6f815e"
      },
      "source": [
        "#@markdown Load the Dataset\n",
        "TEXT, vocab_size, train_iter, valid_iter, test_iter = load_dataset(embedding_fasttext)"
      ],
      "execution_count": 77,
      "outputs": [
        {
          "output_type": "stream",
          "text": [
            "downloading aclImdb_v1.tar.gz\n"
          ],
          "name": "stdout"
        },
        {
          "output_type": "stream",
          "text": [
            "\n",
            "aclImdb_v1.tar.gz:   0%|          | 0.00/84.1M [00:00<?, ?B/s]\u001b[A\n",
            "aclImdb_v1.tar.gz:   0%|          | 16.4k/84.1M [00:00<12:51, 109kB/s]\u001b[A\n",
            "aclImdb_v1.tar.gz:   0%|          | 49.2k/84.1M [00:00<10:59, 128kB/s]\u001b[A\n",
            "aclImdb_v1.tar.gz:   0%|          | 65.5k/84.1M [00:00<11:39, 120kB/s]\u001b[A\n",
            "aclImdb_v1.tar.gz:   0%|          | 98.3k/84.1M [00:00<10:08, 138kB/s]\u001b[A\n",
            "aclImdb_v1.tar.gz:   0%|          | 164k/84.1M [00:00<08:05, 173kB/s] \u001b[A\n",
            "aclImdb_v1.tar.gz:   0%|          | 279k/84.1M [00:00<06:13, 225kB/s]\u001b[A\n",
            "aclImdb_v1.tar.gz:   1%|          | 442k/84.1M [00:01<04:44, 294kB/s]\u001b[A\n",
            "aclImdb_v1.tar.gz:   1%|          | 803k/84.1M [00:01<03:28, 399kB/s]\u001b[A\n",
            "aclImdb_v1.tar.gz:   1%|▏         | 1.20M/84.1M [00:01<02:35, 534kB/s]\u001b[A\n",
            "aclImdb_v1.tar.gz:   2%|▏         | 1.61M/84.1M [00:01<01:57, 702kB/s]\u001b[A\n",
            "aclImdb_v1.tar.gz:   3%|▎         | 2.38M/84.1M [00:01<01:26, 946kB/s]\u001b[A\n",
            "aclImdb_v1.tar.gz:   4%|▍         | 3.51M/84.1M [00:01<01:02, 1.28MB/s]\u001b[A\n",
            "aclImdb_v1.tar.gz:   6%|▌         | 4.77M/84.1M [00:02<00:46, 1.71MB/s]\u001b[A\n",
            "aclImdb_v1.tar.gz:   7%|▋         | 6.29M/84.1M [00:02<00:34, 2.28MB/s]\u001b[A\n",
            "aclImdb_v1.tar.gz:  10%|▉         | 8.14M/84.1M [00:02<00:25, 3.01MB/s]\u001b[A\n",
            "aclImdb_v1.tar.gz:  12%|█▏        | 10.2M/84.1M [00:02<00:18, 3.92MB/s]\u001b[A\n",
            "aclImdb_v1.tar.gz:  15%|█▍        | 12.3M/84.1M [00:02<00:14, 5.00MB/s]\u001b[A\n",
            "aclImdb_v1.tar.gz:  17%|█▋        | 14.7M/84.1M [00:02<00:11, 6.25MB/s]\u001b[A\n",
            "aclImdb_v1.tar.gz:  20%|██        | 17.2M/84.1M [00:02<00:08, 7.66MB/s]\u001b[A\n",
            "aclImdb_v1.tar.gz:  24%|██▎       | 19.9M/84.1M [00:03<00:06, 9.20MB/s]\u001b[A\n",
            "aclImdb_v1.tar.gz:  27%|██▋       | 22.9M/84.1M [00:03<00:05, 10.9MB/s]\u001b[A\n",
            "aclImdb_v1.tar.gz:  31%|███       | 26.0M/84.1M [00:03<00:04, 12.7MB/s]\u001b[A\n",
            "aclImdb_v1.tar.gz:  35%|███▍      | 29.1M/84.1M [00:03<00:03, 14.3MB/s]\u001b[A\n",
            "aclImdb_v1.tar.gz:  38%|███▊      | 32.3M/84.1M [00:03<00:03, 15.6MB/s]\u001b[A\n",
            "aclImdb_v1.tar.gz:  42%|████▏     | 35.3M/84.1M [00:03<00:03, 15.5MB/s]\u001b[A\n",
            "aclImdb_v1.tar.gz:  45%|████▌     | 38.1M/84.1M [00:04<00:02, 16.0MB/s]\u001b[A\n",
            "aclImdb_v1.tar.gz:  49%|████▉     | 41.3M/84.1M [00:04<00:02, 16.9MB/s]\u001b[A\n",
            "aclImdb_v1.tar.gz:  52%|█████▏    | 44.1M/84.1M [00:04<00:02, 17.2MB/s]\u001b[A\n",
            "aclImdb_v1.tar.gz:  56%|█████▌    | 47.2M/84.1M [00:04<00:02, 17.6MB/s]\u001b[A\n",
            "aclImdb_v1.tar.gz:  60%|█████▉    | 50.3M/84.1M [00:04<00:01, 18.3MB/s]\u001b[A\n",
            "aclImdb_v1.tar.gz:  64%|██████▎   | 53.5M/84.1M [00:04<00:01, 18.8MB/s]\u001b[A\n",
            "aclImdb_v1.tar.gz:  67%|██████▋   | 56.6M/84.1M [00:05<00:01, 18.7MB/s]\u001b[A\n",
            "aclImdb_v1.tar.gz:  71%|███████   | 59.5M/84.1M [00:05<00:01, 18.4MB/s]\u001b[A\n",
            "aclImdb_v1.tar.gz:  74%|███████▍  | 62.5M/84.1M [00:05<00:01, 18.7MB/s]\u001b[A\n",
            "aclImdb_v1.tar.gz:  78%|███████▊  | 65.6M/84.1M [00:05<00:00, 19.1MB/s]\u001b[A\n",
            "aclImdb_v1.tar.gz:  82%|████████▏ | 68.7M/84.1M [00:05<00:00, 18.9MB/s]\u001b[A\n",
            "aclImdb_v1.tar.gz:  85%|████████▌ | 71.5M/84.1M [00:05<00:00, 18.5MB/s]\u001b[A\n",
            "aclImdb_v1.tar.gz:  89%|████████▉ | 74.7M/84.1M [00:05<00:00, 18.9MB/s]\u001b[A\n",
            "aclImdb_v1.tar.gz:  92%|█████████▏| 77.8M/84.1M [00:06<00:00, 19.3MB/s]\u001b[A\n",
            "aclImdb_v1.tar.gz:  96%|█████████▌| 80.7M/84.1M [00:06<00:00, 18.7MB/s]\u001b[A\n",
            "aclImdb_v1.tar.gz: 100%|██████████| 84.1M/84.1M [00:06<00:00, 13.0MB/s]\n",
            "100%|█████████▉| 111024/111051 [00:30<00:00, 9532.02it/s]"
          ],
          "name": "stderr"
        }
      ]
    },
    {
      "cell_type": "code",
      "metadata": {
        "id": "IM-RJpAWHYAf"
      },
      "source": [
        "class NeuralNet(nn.Module):\n",
        "  def __init__(self, batch_size, output_size, hidden_size, vocab_size, embedding_length, word_embeddings):\n",
        "    super(NeuralNet, self).__init__()\n",
        "\n",
        "    self.batch_size = batch_size\n",
        "    self.output_size = output_size\n",
        "    self.hidden_size = hidden_size\n",
        "    self.vocab_size = vocab_size\n",
        "    self.embedding_length = embedding_length\n",
        "\n",
        "    self.word_embeddings = nn.Embedding(vocab_size, embedding_length)\n",
        "    self.word_embeddings.weight = nn.Parameter(word_embeddings, requires_grad=False)\n",
        "    self.fc1 = nn.Linear(embedding_length, hidden_size)\n",
        "    self.fc2 = nn.Linear(hidden_size, output_size)\n",
        "\n",
        "\n",
        "  def forward(self, inputs):\n",
        "\n",
        "    input = self.word_embeddings(inputs)  # convert text to embeddings\n",
        "    ####################################################################\n",
        "    # Fill in missing code below (...)\n",
        "    raise NotImplementedError(\"Fill in the Neural Net\")\n",
        "    ####################################################################\n",
        "    # Average the word embedddings in a sentence\n",
        "    # Use torch.nn.functional.avg_pool2d to compute the averages\n",
        "    pooled = ...\n",
        "\n",
        "    # Pass the embeddings through the neural net\n",
        "    # A fully-connected layer\n",
        "    x = ...\n",
        "    # ReLU activation\n",
        "    x = ...\n",
        "    # Another fully-connected layer\n",
        "    x = ...\n",
        "    output = F.log_softmax(x, dim=1)\n",
        "\n",
        "    return output\n",
        "\n",
        "\n",
        "# Uncomment to check your code\n",
        "# nn_model = NeuralNet(32, 2, 128, 100, 300, TEXT.vocab.vectors)\n",
        "# print(nn_model)"
      ],
      "execution_count": 78,
      "outputs": []
    },
    {
      "cell_type": "code",
      "metadata": {
        "colab": {
          "base_uri": "https://localhost:8080/"
        },
        "id": "Yfz9CjuTHYAg",
        "outputId": "3fdbdadc-2bae-45ac-a0a8-8d703d566066"
      },
      "source": [
        "#to_remove solution\n",
        "class NeuralNet(nn.Module):\n",
        "  def __init__(self, batch_size, output_size, hidden_size, vocab_size, embedding_length, word_embeddings):\n",
        "    super(NeuralNet, self).__init__()\n",
        "\n",
        "    self.batch_size = batch_size\n",
        "    self.output_size = output_size\n",
        "    self.hidden_size = hidden_size\n",
        "    self.vocab_size = vocab_size\n",
        "    self.embedding_length = embedding_length\n",
        "\n",
        "    self.word_embeddings = nn.Embedding(vocab_size, embedding_length)\n",
        "    self.word_embeddings.weight = nn.Parameter(word_embeddings, requires_grad=False)\n",
        "    self.fc1 = nn.Linear(embedding_length, hidden_size)\n",
        "    self.fc2 = nn.Linear(hidden_size, output_size)\n",
        "\n",
        "\n",
        "  def forward(self, inputs):\n",
        "\n",
        "    input = self.word_embeddings(inputs)  # convert text to embeddings\n",
        "    # Average the word embedddings in a sentence\n",
        "    # Use torch.nn.functional.avg_pool2d to compute the averages\n",
        "    pooled = F.avg_pool2d(input, (input.shape[1], 1)).squeeze(1)\n",
        "\n",
        "    # Pass the embeddings through the neural net\n",
        "    # A fully-connected layer\n",
        "    x = self.fc1(pooled)\n",
        "    # ReLU activation\n",
        "    x = F.relu(x)\n",
        "    # Another fully-connected layer\n",
        "    x = self.fc2(x)\n",
        "    output = F.log_softmax(x, dim=1)\n",
        "\n",
        "    return output\n",
        "\n",
        "\n",
        "# Uncomment to check your code\n",
        "nn_model = NeuralNet(32, 2, 128, 100, 300, TEXT.vocab.vectors)\n",
        "print(nn_model)"
      ],
      "execution_count": 79,
      "outputs": [
        {
          "output_type": "stream",
          "text": [
            "NeuralNet(\n",
            "  (word_embeddings): Embedding(100, 300)\n",
            "  (fc1): Linear(in_features=300, out_features=128, bias=True)\n",
            "  (fc2): Linear(in_features=128, out_features=2, bias=True)\n",
            ")\n"
          ],
          "name": "stdout"
        }
      ]
    },
    {
      "cell_type": "code",
      "metadata": {
        "cellView": "form",
        "id": "VFqE3g-8HYAg"
      },
      "source": [
        "# @title Training and Testing Functions\n",
        "\n",
        "def train(model, device, train_iter, valid_iter, epochs, learning_rate):\n",
        "  criterion = nn.CrossEntropyLoss()\n",
        "  optimizer = torch.optim.Adam(model.parameters(), lr=learning_rate)\n",
        "\n",
        "  train_loss, validation_loss = [], []\n",
        "  train_acc, validation_acc = [], []\n",
        "\n",
        "  for epoch in range(epochs):\n",
        "    #train\n",
        "    model.train()\n",
        "    running_loss = 0.\n",
        "    correct, total = 0, 0\n",
        "    steps = 0\n",
        "\n",
        "    for idx, batch in enumerate(train_iter):\n",
        "      text = batch.text[0]\n",
        "      target = batch.label\n",
        "      target = torch.autograd.Variable(target).long()\n",
        "      text, target = text.to(device), target.to(device)\n",
        "\n",
        "      # add micro for coding training loop\n",
        "      optimizer.zero_grad()\n",
        "      output = model(text)\n",
        "      loss = criterion(output, target)\n",
        "      loss.backward()\n",
        "      optimizer.step()\n",
        "      steps += 1\n",
        "      running_loss += loss.item()\n",
        "\n",
        "      # get accuracy\n",
        "      _, predicted = torch.max(output, 1)\n",
        "      total += target.size(0)\n",
        "      correct += (predicted == target).sum().item()\n",
        "    train_loss.append(running_loss/len(train_iter))\n",
        "    train_acc.append(correct/total)\n",
        "\n",
        "    print(f'Epoch: {epoch + 1}, Training Loss: {running_loss/len(train_iter):.4f}, Training Accuracy: {100*correct/total: .2f}%')\n",
        "\n",
        "    # evaluate on validation data\n",
        "    model.eval()\n",
        "    running_loss = 0.\n",
        "    correct, total = 0, 0\n",
        "\n",
        "    with torch.no_grad():\n",
        "      for idx, batch in enumerate(valid_iter):\n",
        "        text = batch.text[0]\n",
        "        target = batch.label\n",
        "        target = torch.autograd.Variable(target).long()\n",
        "        text, target = text.to(device), target.to(device)\n",
        "\n",
        "        optimizer.zero_grad()\n",
        "        output = model(text)\n",
        "\n",
        "        loss = criterion(output, target)\n",
        "        running_loss += loss.item()\n",
        "\n",
        "        # get accuracy\n",
        "        _, predicted = torch.max(output, 1)\n",
        "        total += target.size(0)\n",
        "        correct += (predicted == target).sum().item()\n",
        "\n",
        "    validation_loss.append(running_loss/len(valid_iter))\n",
        "    validation_acc.append(correct/total)\n",
        "\n",
        "    print (f'Validation Loss: {running_loss/len(valid_iter):.4f}, Validation Accuracy: {100*correct/total: .2f}%')\n",
        "\n",
        "  return train_loss, train_acc, validation_loss, validation_acc\n",
        "\n",
        "\n",
        "def test(model,  device, test_iter):\n",
        "  model.eval()\n",
        "  correct = 0\n",
        "  total = 0\n",
        "  with torch.no_grad():\n",
        "    for idx, batch in enumerate(test_iter):\n",
        "      text = batch.text[0]\n",
        "      target = batch.label\n",
        "      target = torch.autograd.Variable(target).long()\n",
        "      text, target = text.to(device), target.to(device)\n",
        "\n",
        "      outputs = model(text)\n",
        "      _, predicted = torch.max(outputs, 1)\n",
        "      total += target.size(0)\n",
        "      correct += (predicted == target).sum().item()\n",
        "\n",
        "    acc = 100 * correct / total\n",
        "    return acc"
      ],
      "execution_count": 80,
      "outputs": []
    },
    {
      "cell_type": "code",
      "metadata": {
        "colab": {
          "base_uri": "https://localhost:8080/"
        },
        "id": "HeYkFAxMHYAg",
        "outputId": "b7bb0282-f53d-4bb9-ca72-0975906646b3"
      },
      "source": [
        "# Model hyperparameters\n",
        "learning_rate = 0.0003\n",
        "batch_size = 32\n",
        "output_size = 2\n",
        "hidden_size = 128\n",
        "embedding_length = 300\n",
        "epochs = 15\n",
        "word_embeddings = TEXT.vocab.vectors\n",
        "vocab_size = len(TEXT.vocab)\n",
        "\n",
        "# Model set-up\n",
        "nn_model = NeuralNet(batch_size,\n",
        "                     output_size,\n",
        "                     hidden_size,\n",
        "                     vocab_size,\n",
        "                     embedding_length,\n",
        "                     word_embeddings)\n",
        "nn_model.to(device)\n",
        "nn_start_time = time.time()\n",
        "set_seed(522)\n",
        "nn_train_loss, nn_train_acc, nn_validation_loss, nn_validation_acc = train(nn_model,\n",
        "                                                                           device,\n",
        "                                                                           train_iter,\n",
        "                                                                           valid_iter,\n",
        "                                                                           epochs,\n",
        "                                                                           learning_rate)\n",
        "print(\"--- Time taken to train = %s seconds ---\" % (time.time() - nn_start_time))\n",
        "test_accuracy = test(nn_model, device, test_iter)\n",
        "print('Test Accuracy: ',  test_accuracy, '%')"
      ],
      "execution_count": 81,
      "outputs": [
        {
          "output_type": "stream",
          "text": [
            "Epoch: 1, Training Loss: 0.6689, Training Accuracy:  59.55%\n",
            "Validation Loss: 0.6369, Validation Accuracy:  65.85%\n",
            "Epoch: 2, Training Loss: 0.6279, Training Accuracy:  65.42%\n",
            "Validation Loss: 0.6043, Validation Accuracy:  68.97%\n",
            "Epoch: 3, Training Loss: 0.6029, Training Accuracy:  67.78%\n",
            "Validation Loss: 0.5903, Validation Accuracy:  69.49%\n",
            "Epoch: 4, Training Loss: 0.5934, Training Accuracy:  68.45%\n",
            "Validation Loss: 0.5822, Validation Accuracy:  69.89%\n",
            "Epoch: 5, Training Loss: 0.5849, Training Accuracy:  69.45%\n",
            "Validation Loss: 0.5820, Validation Accuracy:  69.85%\n",
            "Epoch: 6, Training Loss: 0.5816, Training Accuracy:  69.41%\n",
            "Validation Loss: 0.6101, Validation Accuracy:  66.68%\n",
            "Epoch: 7, Training Loss: 0.5792, Training Accuracy:  69.79%\n",
            "Validation Loss: 0.5747, Validation Accuracy:  70.12%\n",
            "Epoch: 8, Training Loss: 0.5754, Training Accuracy:  69.73%\n",
            "Validation Loss: 0.5747, Validation Accuracy:  70.16%\n",
            "Epoch: 9, Training Loss: 0.5745, Training Accuracy:  69.79%\n",
            "Validation Loss: 0.5730, Validation Accuracy:  70.27%\n",
            "Epoch: 10, Training Loss: 0.5726, Training Accuracy:  69.97%\n",
            "Validation Loss: 0.5709, Validation Accuracy:  70.23%\n",
            "Epoch: 11, Training Loss: 0.5709, Training Accuracy:  70.14%\n",
            "Validation Loss: 0.5705, Validation Accuracy:  70.11%\n",
            "Epoch: 12, Training Loss: 0.5694, Training Accuracy:  70.19%\n",
            "Validation Loss: 0.5701, Validation Accuracy:  70.13%\n",
            "Epoch: 13, Training Loss: 0.5698, Training Accuracy:  70.01%\n",
            "Validation Loss: 0.5690, Validation Accuracy:  70.29%\n",
            "Epoch: 14, Training Loss: 0.5675, Training Accuracy:  70.54%\n",
            "Validation Loss: 0.5683, Validation Accuracy:  70.48%\n",
            "Epoch: 15, Training Loss: 0.5655, Training Accuracy:  70.43%\n",
            "Validation Loss: 0.5699, Validation Accuracy:  69.71%\n",
            "--- Time taken to train = 24.889354944229126 seconds ---\n",
            "Test Accuracy:  69.688 %\n"
          ],
          "name": "stdout"
        }
      ]
    },
    {
      "cell_type": "code",
      "metadata": {
        "colab": {
          "base_uri": "https://localhost:8080/",
          "height": 843
        },
        "id": "9ZkR9ZqlHYAg",
        "outputId": "12322c5e-e43f-423b-87f9-a83d5d086738"
      },
      "source": [
        "plot_train_val(np.arange(0, epochs),\n",
        "               nn_train_acc,\n",
        "               nn_validation_acc,\n",
        "               'training_accuracy',\n",
        "               'validation_accuracy',\n",
        "               'Neural Net on IMDB text classification')\n",
        "\n",
        "plot_train_val(np.arange(0, epochs),\n",
        "               nn_train_loss,\n",
        "               nn_validation_loss,\n",
        "               'training_loss',\n",
        "               'validation_loss',\n",
        "               'Neural Net on IMDB text classification')"
      ],
      "execution_count": 82,
      "outputs": [
        {
          "output_type": "display_data",
          "data": {
            "image/png": "[encoded data removed]",
            "text/plain": [
              "<Figure size 576x432 with 1 Axes>"
            ]
          },
          "metadata": {
            "tags": [],
            "image/png": {
              "width": 558,
              "height": 413
            },
            "needs_background": "light"
          }
        },
        {
          "output_type": "display_data",
          "data": {
            "image/png": "[encoded data removed]",
            "text/plain": [
              "<Figure size 576x432 with 1 Axes>"
            ]
          },
          "metadata": {
            "tags": [],
            "image/png": {
              "width": 558,
              "height": 413
            },
            "needs_background": "light"
          }
        }
      ]
    }
  ]
}