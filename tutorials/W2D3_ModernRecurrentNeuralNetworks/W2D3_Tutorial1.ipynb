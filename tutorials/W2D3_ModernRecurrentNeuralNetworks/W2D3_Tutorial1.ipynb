{
  "cells": [
    {
      "cell_type": "markdown",
      "metadata": {
        "id": "view-in-github",
        "colab_type": "text"
      },
      "source": [
        "<a href=\"https://colab.research.google.com/github/NeuromatchAcademy/course-content-dl/blob/w2d3_fixes/tutorials/W2D3_ModernRecurrentNeuralNetworks/W2D3_Tutorial1.ipynb\" target=\"_parent\"><img src=\"https://colab.research.google.com/assets/colab-badge.svg\" alt=\"Open In Colab\"/></a>"
      ]
    },
    {
      "cell_type": "markdown",
      "metadata": {
        "execution": {},
        "id": "T7Y6gjNwAuv9"
      },
      "source": [
        "# Tutorial 1: Modeling sequencies and encoding text\n",
        "**Week 2, Day 3: Modern RNNs**\n",
        "\n",
        "**By Neuromatch Academy**\n",
        "\n",
        "__Content creators:__ Bhargav Srinivasa Desikan, Anis Zahedifard, James Evans\n",
        "\n",
        "__Content reviewers:__ Lily Cheng, Melvin Selim Atay, Ezekiel Williams, Kelson Shilling-Scrivo\n",
        "\n",
        "__Content editors:__ Nina Kudryashova, Spiros Chavlis\n",
        "\n",
        "__Production editors:__ Roberto Guidotti, Spiros Chavlis\n",
        "\n",
        "__Post-Production team:__ Gagana B, Spiros Chavlis"
      ]
    },
    {
      "cell_type": "markdown",
      "metadata": {
        "execution": {},
        "id": "Htqn4QJrAuwA"
      },
      "source": [
        "**Our 2021 Sponsors, including Presenting Sponsor Facebook Reality Labs**\n",
        "\n",
        "<p align='center'><img src='https://github.com/NeuromatchAcademy/widgets/blob/master/sponsors.png?raw=True'/></p>"
      ]
    },
    {
      "cell_type": "markdown",
      "metadata": {
        "execution": {},
        "id": "motLVg5aAuwA"
      },
      "source": [
        "----\n",
        "# Tutorial objectives\n",
        "\n",
        "Before we begin with exploring how RNNs excel at modelling sequences, we will explore some of the other ways we can model sequences, encode text, and make meaningful measurements using such encodings and embeddings. "
      ]
    },
    {
      "cell_type": "code",
      "execution_count": 1,
      "metadata": {
        "cellView": "form",
        "execution": {},
        "id": "qW75kX8xAuwB",
        "outputId": "70b178d4-4dc2-4b83-f3a4-bcd534af3570",
        "colab": {
          "base_uri": "https://localhost:8080/",
          "height": 501
        }
      },
      "outputs": [
        {
          "output_type": "execute_result",
          "data": {
            "text/html": [
              "\n",
              "        <iframe\n",
              "            width=\"854\"\n",
              "            height=\"480\"\n",
              "            src=\"https://mfr.ca-1.osf.io/render?url=https://osf.io/n263c/?direct%26mode=render%26action=download%26mode=render\"\n",
              "            frameborder=\"0\"\n",
              "            allowfullscreen\n",
              "        ></iframe>\n",
              "        "
            ],
            "text/plain": [
              "<IPython.lib.display.IFrame at 0x7f0691f09dd0>"
            ]
          },
          "metadata": {},
          "execution_count": 1
        }
      ],
      "source": [
        "# @title Tutorial slides\n",
        "\n",
        "from IPython.display import IFrame\n",
        "IFrame(src=f\"https://mfr.ca-1.osf.io/render?url=https://osf.io/n263c/?direct%26mode=render%26action=download%26mode=render\", width=854, height=480)"
      ]
    },
    {
      "cell_type": "markdown",
      "metadata": {
        "execution": {},
        "id": "AT0JP3DPAuwC"
      },
      "source": [
        "These are the slides for the videos in this tutorial. If you want to locally download the slides, click [here](https://osf.io/n263c/download)."
      ]
    },
    {
      "cell_type": "markdown",
      "metadata": {
        "execution": {},
        "id": "BI8ITc_bAuwC"
      },
      "source": [
        "---\n",
        "## Setup"
      ]
    },
    {
      "cell_type": "code",
      "execution_count": 2,
      "metadata": {
        "cellView": "form",
        "execution": {},
        "id": "AyTL-z-TAuwC",
        "outputId": "285a7b09-6473-4fa1-f975-62db990f5f13",
        "colab": {
          "base_uri": "https://localhost:8080/"
        }
      },
      "outputs": [
        {
          "output_type": "stream",
          "name": "stdout",
          "text": [
            "\u001b[K     |████████████████████████████████| 24.1 MB 64.4 MB/s \n",
            "\u001b[K     |████████████████████████████████| 235 kB 12.8 MB/s \n",
            "\u001b[K     |████████████████████████████████| 374 kB 12.5 MB/s \n",
            "\u001b[K     |████████████████████████████████| 68 kB 5.1 MB/s \n",
            "\u001b[?25h  Building wheel for fasttext (setup.py) ... \u001b[?25l\u001b[?25hdone\n",
            "\u001b[K     |████████████████████████████████| 50 kB 4.8 MB/s \n",
            "\u001b[?25h  Building wheel for python-Levenshtein (setup.py) ... \u001b[?25l\u001b[?25hdone\n",
            "  Building wheel for evaltools (setup.py) ... \u001b[?25l\u001b[?25hdone\n"
          ]
        }
      ],
      "source": [
        "# @title Install dependencies\n",
        "\n",
        "# @markdown #### There may be *errors* and/or *warnings* reported during the installation. However, they are to be ignored.\n",
        "!pip install torchtext --quiet\n",
        "!pip install --upgrade gensim --quiet\n",
        "!pip install unidecode --quiet\n",
        "!pip install hmmlearn --quiet\n",
        "!pip install fasttext --quiet\n",
        "!pip install nltk --quiet\n",
        "!pip install pandas --quiet\n",
        "!pip install python-Levenshtein --quiet\n",
        "\n",
        "!pip install git+https://github.com/NeuromatchAcademy/evaltools --quiet\n",
        "from evaltools.airtable import AirtableForm\n",
        "\n",
        "# Generate airtable form\n",
        "atform = AirtableForm('appn7VdPRseSoMXEG','W2D3_T1','https://portal.neuromatchacademy.org/api/redirect/to/9c55f6cb-cdf9-4429-ac1c-ec44fe64c303')"
      ]
    },
    {
      "cell_type": "code",
      "execution_count": 3,
      "metadata": {
        "execution": {},
        "id": "sW0i8pTYAuwD"
      },
      "outputs": [],
      "source": [
        "# Imports\n",
        "import time\n",
        "import fasttext\n",
        "import numpy as np\n",
        "import pandas as pd\n",
        "import matplotlib.cm as cm\n",
        "import matplotlib.pyplot as plt\n",
        "\n",
        "import torch\n",
        "import torch.nn as nn\n",
        "from torch.nn import functional as F\n",
        "\n",
        "from hmmlearn import hmm\n",
        "from scipy.sparse import dok_matrix\n",
        "\n",
        "from torchtext.legacy import data, datasets\n",
        "from torchtext.vocab import FastText\n",
        "\n",
        "import nltk\n",
        "from nltk import FreqDist\n",
        "from nltk.corpus import brown\n",
        "from nltk.tokenize import word_tokenize\n",
        "\n",
        "from gensim.models import Word2Vec\n",
        "\n",
        "from sklearn.manifold import TSNE\n",
        "from sklearn.preprocessing import LabelEncoder\n",
        "\n",
        "from tqdm import tqdm_notebook as tqdm"
      ]
    },
    {
      "cell_type": "code",
      "execution_count": 4,
      "metadata": {
        "cellView": "form",
        "execution": {},
        "id": "rF-gMDdeAuwE"
      },
      "outputs": [],
      "source": [
        "# @title Figure Settings\n",
        "import ipywidgets as widgets\n",
        "%config InlineBackend.figure_format = 'retina'\n",
        "plt.style.use(\"https://raw.githubusercontent.com/NeuromatchAcademy/content-creation/main/nma.mplstyle\")"
      ]
    },
    {
      "cell_type": "code",
      "execution_count": 5,
      "metadata": {
        "cellView": "form",
        "execution": {},
        "id": "nx1_KePCAuwE",
        "outputId": "94ee440e-824c-4a37-9efe-3c89ecdb208f",
        "colab": {
          "base_uri": "https://localhost:8080/"
        }
      },
      "outputs": [
        {
          "output_type": "stream",
          "name": "stdout",
          "text": [
            "[nltk_data] Downloading package punkt to /root/nltk_data...\n",
            "[nltk_data]   Unzipping tokenizers/punkt.zip.\n",
            "[nltk_data] Downloading package averaged_perceptron_tagger to\n",
            "[nltk_data]     /root/nltk_data...\n",
            "[nltk_data]   Unzipping taggers/averaged_perceptron_tagger.zip.\n",
            "[nltk_data] Downloading package brown to /root/nltk_data...\n",
            "[nltk_data]   Unzipping corpora/brown.zip.\n",
            "[nltk_data] Downloading package webtext to /root/nltk_data...\n",
            "[nltk_data]   Unzipping corpora/webtext.zip.\n"
          ]
        },
        {
          "output_type": "execute_result",
          "data": {
            "text/plain": [
              "True"
            ]
          },
          "metadata": {},
          "execution_count": 5
        }
      ],
      "source": [
        "# @title  Load Dataset from `nltk`\n",
        "# No critical warnings, so we suppress it\n",
        "import warnings\n",
        "warnings.simplefilter(\"ignore\")\n",
        "\n",
        "nltk.download('punkt')\n",
        "nltk.download('averaged_perceptron_tagger')\n",
        "nltk.download('brown')\n",
        "nltk.download('webtext')"
      ]
    },
    {
      "cell_type": "code",
      "execution_count": 6,
      "metadata": {
        "cellView": "form",
        "execution": {},
        "id": "FtQ1V32vAuwF"
      },
      "outputs": [],
      "source": [
        "# @title Helper functions\n",
        "\n",
        "import requests\n",
        "\n",
        "def cosine_similarity(vec_a, vec_b):\n",
        "    \"\"\"\n",
        "    Compute cosine similarity between vec_a and vec_b\n",
        "\n",
        "    Args:\n",
        "      vec_a: np.ndarray\n",
        "        Vector #1\n",
        "      vec_b: np.ndarray\n",
        "        Vector #2\n",
        "\n",
        "    Returns:\n",
        "      Cosine similarity between vec_a and vec_b\n",
        "    \"\"\"\n",
        "    return np.dot(vec_a, vec_b) / (np.linalg.norm(vec_a) * np.linalg.norm(vec_b))\n",
        "\n",
        "\n",
        "def tokenize(sentences):\n",
        "  \"\"\"\n",
        "  Tokenize the sentence\n",
        "  ~ from nltk.tokenize library use word_tokenize\n",
        "\n",
        "  Args:\n",
        "    sentences: string\n",
        "      Sentence to be tokenized\n",
        "\n",
        "  Returns:\n",
        "    token: list\n",
        "      List of tokens generated from sentences\n",
        "  \"\"\"\n",
        "  token = word_tokenize(sentences)\n",
        "\n",
        "  return token\n",
        "\n",
        "\n",
        "def plot_train_val(x, train, val, train_label, val_label,\n",
        "                   title, y_label, color):\n",
        "  \"\"\"\n",
        "  Plots training/validation performance per epoch\n",
        "\n",
        "  Args:\n",
        "    x: np.ndarray\n",
        "      Input data\n",
        "    train: list\n",
        "      Training data performance\n",
        "    val: list\n",
        "      Validation data performance\n",
        "    train_label: string\n",
        "      Train Label [specifies training criterion]\n",
        "    color: string\n",
        "      Specifies color of plot\n",
        "    val_label: string\n",
        "      Validation Label [specifies validation criterion]\n",
        "    title: string\n",
        "      Specifies title of plot\n",
        "    y_label: string\n",
        "      Specifies performance criterion\n",
        "\n",
        "  Returns:\n",
        "    Nothing\n",
        "  \"\"\"\n",
        "  plt.plot(x, train, label=train_label, color=color)\n",
        "  plt.plot(x, val, label=val_label, color=color, linestyle='--')\n",
        "  plt.legend(loc='lower right')\n",
        "  plt.xlabel('Epoch')\n",
        "  plt.ylabel(y_label)\n",
        "  plt.title(title)\n",
        "\n",
        "\n",
        "def load_dataset(emb_vectors, sentence_length=50, seed=2021):\n",
        "  \"\"\"\n",
        "  Load dataset\n",
        "\n",
        "  Args:\n",
        "    sentence_length: int\n",
        "      Length of sentence\n",
        "    seed: int\n",
        "      Set seed for reproducibility\n",
        "    emb_vectors: FastText type\n",
        "      Embedding vectors of size 111051\n",
        "\n",
        "  Returns:\n",
        "    TEXT: Field instance\n",
        "      Text\n",
        "    vocab_size: int\n",
        "      Specifies size of TEXT\n",
        "    train_iter: BucketIterator\n",
        "      Training iterator\n",
        "    valid_iter: BucketIterator\n",
        "      Validation iterator\n",
        "    test_iter: BucketIterator\n",
        "      Test iterator\n",
        "  \"\"\"\n",
        "  TEXT = data.Field(sequential=True,\n",
        "                    tokenize=tokenize,\n",
        "                    lower=True,\n",
        "                    include_lengths=True,\n",
        "                    batch_first=True,\n",
        "                    fix_length=sentence_length)\n",
        "  LABEL = data.LabelField(dtype=torch.float)\n",
        "\n",
        "  train_data, test_data = datasets.IMDB.splits(TEXT, LABEL)\n",
        "\n",
        "  TEXT.build_vocab(train_data, vectors=emb_vectors)\n",
        "  LABEL.build_vocab(train_data)\n",
        "\n",
        "  train_data, valid_data = train_data.split(split_ratio=0.7,\n",
        "                                            random_state=random.seed(seed))\n",
        "  train_iter, valid_iter, test_iter = data.BucketIterator.splits((train_data,\n",
        "                                                                  valid_data,\n",
        "                                                                  test_data),\n",
        "                                                                  batch_size=32,\n",
        "                                                                  sort_key=lambda x: len(x.text),\n",
        "                                                                  repeat=False,\n",
        "                                                                  shuffle=True)\n",
        "  vocab_size = len(TEXT.vocab)\n",
        "\n",
        "  print(f'Data are loaded. sentence length: {sentence_length} '\n",
        "        f'seed: {seed}')\n",
        "\n",
        "  return TEXT, vocab_size, train_iter, valid_iter, test_iter"
      ]
    },
    {
      "cell_type": "code",
      "execution_count": 7,
      "metadata": {
        "cellView": "form",
        "execution": {},
        "id": "YP28nnnHAuwF"
      },
      "outputs": [],
      "source": [
        "# @title Set random seed\n",
        "\n",
        "# @markdown Executing `set_seed(seed=seed)` you are setting the seed\n",
        "\n",
        "# For DL its critical to set the random seed so that students can have a\n",
        "# baseline to compare their results to expected results.\n",
        "# Read more here: https://pytorch.org/docs/stable/notes/randomness.html\n",
        "\n",
        "# Call `set_seed` function in the exercises to ensure reproducibility.\n",
        "import random\n",
        "import torch\n",
        "\n",
        "def set_seed(seed=None, seed_torch=True):\n",
        "  \"\"\"\n",
        "  Function that controls randomness.\n",
        "  NumPy and random modules must be imported.\n",
        "\n",
        "  Args:\n",
        "    seed : Integer\n",
        "      A non-negative integer that defines the random state. Default is `None`.\n",
        "    seed_torch : Boolean\n",
        "      If `True` sets the random seed for pytorch tensors, so pytorch module\n",
        "      must be imported. Default is `True`.\n",
        "\n",
        "  Returns:\n",
        "    Nothing.\n",
        "  \"\"\"\n",
        "  if seed is None:\n",
        "    seed = np.random.choice(2 ** 32)\n",
        "  random.seed(seed)\n",
        "  np.random.seed(seed)\n",
        "  if seed_torch:\n",
        "    torch.manual_seed(seed)\n",
        "    torch.cuda.manual_seed_all(seed)\n",
        "    torch.cuda.manual_seed(seed)\n",
        "    torch.backends.cudnn.benchmark = False\n",
        "    torch.backends.cudnn.deterministic = True\n",
        "\n",
        "  print(f'Random seed {seed} has been set.')\n",
        "\n",
        "# In case that `DataLoader` is used\n",
        "def seed_worker(worker_id):\n",
        "  \"\"\"\n",
        "  DataLoader will reseed workers following randomness in\n",
        "  multi-process data loading algorithm.\n",
        "\n",
        "  Args:\n",
        "    worker_id: integer\n",
        "      ID of subprocess to seed. 0 means that\n",
        "      the data will be loaded in the main process\n",
        "      Refer: https://pytorch.org/docs/stable/data.html#data-loading-randomness for more details\n",
        "\n",
        "  Returns:\n",
        "    Nothing\n",
        "  \"\"\"\n",
        "  worker_seed = torch.initial_seed() % 2**32\n",
        "  np.random.seed(worker_seed)\n",
        "  random.seed(worker_seed)"
      ]
    },
    {
      "cell_type": "code",
      "execution_count": 8,
      "metadata": {
        "cellView": "form",
        "execution": {},
        "id": "GAoa1UZKAuwG"
      },
      "outputs": [],
      "source": [
        "# @title Set device (GPU or CPU). Execute `set_device()`\n",
        "\n",
        "# Inform the user if the notebook uses GPU or CPU.\n",
        "\n",
        "def set_device():\n",
        "  \"\"\"\n",
        "  Set the device. CUDA if available, CPU otherwise\n",
        "\n",
        "  Args:\n",
        "    None\n",
        "\n",
        "  Returns:\n",
        "    Nothing\n",
        "  \"\"\"\n",
        "  device = \"cuda\" if torch.cuda.is_available() else \"cpu\"\n",
        "  if device != \"cuda\":\n",
        "    print(\"WARNING: For this notebook to perform best, \"\n",
        "        \"if possible, in the menu under `Runtime` -> \"\n",
        "        \"`Change runtime type.`  select `GPU` \")\n",
        "  else:\n",
        "    print(\"GPU is enabled in this notebook.\")\n",
        "\n",
        "  return device"
      ]
    },
    {
      "cell_type": "code",
      "execution_count": 9,
      "metadata": {
        "execution": {},
        "id": "87CXZfxxAuwG",
        "outputId": "2039bef3-7439-48be-eebd-ddfb0a640556",
        "colab": {
          "base_uri": "https://localhost:8080/"
        }
      },
      "outputs": [
        {
          "output_type": "stream",
          "name": "stdout",
          "text": [
            "GPU is enabled in this notebook.\n",
            "Random seed 2021 has been set.\n"
          ]
        }
      ],
      "source": [
        "DEVICE = set_device()\n",
        "SEED = 2021\n",
        "set_seed(seed=SEED)"
      ]
    },
    {
      "cell_type": "markdown",
      "metadata": {
        "execution": {},
        "id": "Lnxpa7zMAuwH"
      },
      "source": [
        "---\n",
        "# Section 1: Sequences, Markov Chains & HMMs\n",
        "\n",
        "*Time estimate: ~45mins*"
      ]
    },
    {
      "cell_type": "code",
      "execution_count": 10,
      "metadata": {
        "cellView": "form",
        "execution": {},
        "id": "siNnRYaGAuwH",
        "outputId": "199ff79e-3650-401e-eace-fa7a86fd85a5",
        "colab": {
          "base_uri": "https://localhost:8080/",
          "height": 581,
          "referenced_widgets": [
            "80fd7753018b4d1fb4338a1d62f2b22b",
            "bb9cf3bbffff41ce8b7bebec5e6a55f4",
            "8b093fa5f6fc41d7a99ef4cb861dbb40",
            "be440c36a28a482da0d49d934e9c9bcb",
            "0b03ef05efa744fe9c340c7866439a36",
            "9694a0e852354d4c8d95ba316361f20a"
          ]
        }
      },
      "outputs": [
        {
          "output_type": "display_data",
          "data": {
            "application/vnd.jupyter.widget-view+json": {
              "model_id": "80fd7753018b4d1fb4338a1d62f2b22b",
              "version_minor": 0,
              "version_major": 2
            },
            "text/plain": [
              "Tab(children=(Output(), Output()), _titles={'0': 'Youtube', '1': 'Bilibili'})"
            ]
          },
          "metadata": {}
        }
      ],
      "source": [
        "# @title Video 1: Sequences & Markov Processes\n",
        "from ipywidgets import widgets\n",
        "\n",
        "out2 = widgets.Output()\n",
        "with out2:\n",
        "  from IPython.display import IFrame\n",
        "  class BiliVideo(IFrame):\n",
        "    def __init__(self, id, page=1, width=400, height=300, **kwargs):\n",
        "      self.id=id\n",
        "      src = \"https://player.bilibili.com/player.html?bvid={0}&page={1}\".format(id, page)\n",
        "      super(BiliVideo, self).__init__(src, width, height, **kwargs)\n",
        "\n",
        "  video = BiliVideo(id=f\"BV1jg411774B\", width=854, height=480, fs=1)\n",
        "  print(\"Video available at https://www.bilibili.com/video/{0}\".format(video.id))\n",
        "  display(video)\n",
        "\n",
        "out1 = widgets.Output()\n",
        "with out1:\n",
        "  from IPython.display import YouTubeVideo\n",
        "  video = YouTubeVideo(id=f\"ApkE7UFaJAQ\", width=854, height=480, fs=1, rel=0)\n",
        "  print(\"Video available at https://youtube.com/watch?v=\" + video.id)\n",
        "  display(video)\n",
        "\n",
        "out = widgets.Tab([out1, out2])\n",
        "out.set_title(0, 'Youtube')\n",
        "out.set_title(1, 'Bilibili')\n",
        "\n",
        "# Add event to airtable\n",
        "atform.add_event('Video 1: Sequences & Markov Processes')\n",
        "\n",
        "display(out)"
      ]
    },
    {
      "cell_type": "markdown",
      "metadata": {
        "execution": {},
        "id": "3sF5ZNUNAuwH"
      },
      "source": [
        "In this notebook we will be exploring the world of sequences - thinking of what kind of data can be thought of as sequences, and how these sequences can be represented as Markov Chains and Hidden Markov Models. These ideas and methods were an important part of natural language processing and language modelling, and serve as a useful way to ground ourselves before we dive into neural network methods."
      ]
    },
    {
      "cell_type": "markdown",
      "metadata": {
        "execution": {},
        "id": "CfzlkHkBAuwH"
      },
      "source": [
        "## Why is this relevant? How are these sequences related to modern recurrent neural networks?\n",
        "\n",
        "Like we mentioned before, the notion of modelling sequences of data - in this particular case, **language**, is an ideal place to start. RNNs themselves were constructed keeping in mind sequences, and the ability to temporally model sequences is what inspired RNNs (and the family of LSTM, GRUs - we will see this in the next notebook).\n",
        "\n",
        "Markov models and hidden markov models serve as an introduction to these concepts because they were some of the earliest ways to think about sequences. They do not capture a lot of the complexity that RNNs excel at, but are an useful way of thinking of sequences, probabilities, and how we can use these concepts to perform  tasks such as text generation, or classification - tasks that RNNs excel at today. \n",
        "\n",
        "Think of this section as an introduction to thinking with sequences and text data, and as a historical introduction to the world of modelling sequential data. "
      ]
    },
    {
      "cell_type": "markdown",
      "metadata": {
        "execution": {},
        "id": "1EP-kj-CAuwI"
      },
      "source": [
        "## Section 1.1: What data are sequences?\n",
        "\n",
        "Native Sequences:\n",
        "\n",
        "- Temporally occurring events (e.g., history, stock prices)\n",
        "- Temporally processed events (e.g., communication)\n",
        "- Topologically connected components (e.g., polymers, peptides)\n",
        "\n",
        "Synthetic Sequences: \n",
        "\n",
        "- Anything processed as a sequence (e.g., scanned pixels in an image)\n",
        "\n",
        "Sequences can be represented as a Markov Process - since this notion of sequential data is intrinsically linked to RNNs, it is a good place for us to start, and natural language (text!) will be our sequence of choice. \n",
        "\n",
        "We will be using the Brown corpus which comes loaded with NLTK, and using the entire corpus - this requires a lot of RAM for some of the methods, so we recommend using a smaller subset of categories if you do not have enough RAM.\n",
        "\n",
        "We will be using some of the code from this [tutorial](https://www.kdnuggets.com/2019/11/markov-chains-train-text-generation.html) and this [Jupyter notebook](https://github.com/StrikingLoo/ASOIAF-Markov/blob/master/ASOIAF.ipynb)\n",
        "\n",
        "The first few cells of code all involve set-up; some of this code will be hidden because they are not necessary to understand the ideas of markov models, but the way data is setup can be vital to the way the model performs (something in common with neural network models!).\n",
        "\n",
        "Let us start with loading our corpus."
      ]
    },
    {
      "cell_type": "code",
      "execution_count": 11,
      "metadata": {
        "execution": {},
        "id": "M9XDwjX0AuwI"
      },
      "outputs": [],
      "source": [
        "category = ['editorial', 'fiction', 'government', 'news', 'religion']\n",
        "sentences = brown.sents(categories=category)"
      ]
    },
    {
      "cell_type": "markdown",
      "metadata": {
        "execution": {},
        "id": "ZEFKJ24tAuwI"
      },
      "source": [
        "Now that we have our sentences, let us look at some statistics to get an idea of what we are dealing with."
      ]
    },
    {
      "cell_type": "code",
      "execution_count": 12,
      "metadata": {
        "execution": {},
        "id": "ZAwVAqNmAuwI"
      },
      "outputs": [],
      "source": [
        "lengths = [len(sentence) for sentence in sentences]\n",
        "lengths = pd.Series(lengths)"
      ]
    },
    {
      "cell_type": "markdown",
      "metadata": {
        "execution": {},
        "id": "R39VzjbaAuwI"
      },
      "source": [
        "Find the 80-th percentile: the minimal length of such a sentence, which is longer than at least 80% of sentences in the *Brown corpus*."
      ]
    },
    {
      "cell_type": "code",
      "execution_count": 13,
      "metadata": {
        "execution": {},
        "id": "o8IBnxCOAuwJ",
        "outputId": "716b69cf-acf6-4519-e95c-83bf3892cf62",
        "colab": {
          "base_uri": "https://localhost:8080/"
        }
      },
      "outputs": [
        {
          "output_type": "execute_result",
          "data": {
            "text/plain": [
              "30.0"
            ]
          },
          "metadata": {},
          "execution_count": 13
        }
      ],
      "source": [
        "lengths.quantile(.8)"
      ]
    },
    {
      "cell_type": "code",
      "execution_count": 14,
      "metadata": {
        "execution": {},
        "id": "ksMn0zbSAuwJ",
        "outputId": "184a721d-7189-42d6-ae96-702630bfb938",
        "colab": {
          "base_uri": "https://localhost:8080/"
        }
      },
      "outputs": [
        {
          "output_type": "execute_result",
          "data": {
            "text/plain": [
              "count    16617.000000\n",
              "mean        20.470723\n",
              "std         13.656809\n",
              "min          1.000000\n",
              "25%         10.000000\n",
              "50%         18.000000\n",
              "75%         28.000000\n",
              "max        180.000000\n",
              "dtype: float64"
            ]
          },
          "metadata": {},
          "execution_count": 14
        }
      ],
      "source": [
        "lengths.describe()"
      ]
    },
    {
      "cell_type": "code",
      "execution_count": 15,
      "metadata": {
        "execution": {},
        "id": "58ztILvEAuwJ",
        "outputId": "5055f6bb-bdf9-43df-d131-54f53f9adab0",
        "colab": {
          "base_uri": "https://localhost:8080/"
        }
      },
      "outputs": [
        {
          "output_type": "execute_result",
          "data": {
            "text/plain": [
              "[['The',\n",
              "  'Fulton',\n",
              "  'County',\n",
              "  'Grand',\n",
              "  'Jury',\n",
              "  'said',\n",
              "  'Friday',\n",
              "  'an',\n",
              "  'investigation',\n",
              "  'of',\n",
              "  \"Atlanta's\",\n",
              "  'recent',\n",
              "  'primary',\n",
              "  'election',\n",
              "  'produced',\n",
              "  '``',\n",
              "  'no',\n",
              "  'evidence',\n",
              "  \"''\",\n",
              "  'that',\n",
              "  'any',\n",
              "  'irregularities',\n",
              "  'took',\n",
              "  'place',\n",
              "  '.'],\n",
              " ['The',\n",
              "  'jury',\n",
              "  'further',\n",
              "  'said',\n",
              "  'in',\n",
              "  'term-end',\n",
              "  'presentments',\n",
              "  'that',\n",
              "  'the',\n",
              "  'City',\n",
              "  'Executive',\n",
              "  'Committee',\n",
              "  ',',\n",
              "  'which',\n",
              "  'had',\n",
              "  'over-all',\n",
              "  'charge',\n",
              "  'of',\n",
              "  'the',\n",
              "  'election',\n",
              "  ',',\n",
              "  '``',\n",
              "  'deserves',\n",
              "  'the',\n",
              "  'praise',\n",
              "  'and',\n",
              "  'thanks',\n",
              "  'of',\n",
              "  'the',\n",
              "  'City',\n",
              "  'of',\n",
              "  'Atlanta',\n",
              "  \"''\",\n",
              "  'for',\n",
              "  'the',\n",
              "  'manner',\n",
              "  'in',\n",
              "  'which',\n",
              "  'the',\n",
              "  'election',\n",
              "  'was',\n",
              "  'conducted',\n",
              "  '.']]"
            ]
          },
          "metadata": {},
          "execution_count": 15
        }
      ],
      "source": [
        "sentences[0:2]"
      ]
    },
    {
      "cell_type": "markdown",
      "metadata": {
        "execution": {},
        "id": "3T0z2pJIAuwJ"
      },
      "source": [
        "This gives us an idea of what our dataset looks like, along with some average lengths. This kind of quick data exploration can be very useful - we know how long different sequences are, and how we might want to collect these words."
      ]
    },
    {
      "cell_type": "markdown",
      "metadata": {
        "execution": {},
        "id": "64rlvJLNAuwJ"
      },
      "source": [
        "Since we will be modeling words as sequences in sentences, let us first collect all the words in our corpus."
      ]
    },
    {
      "cell_type": "code",
      "execution_count": 16,
      "metadata": {
        "execution": {},
        "id": "pL2HIYT-AuwJ"
      },
      "outputs": [],
      "source": [
        "corpus_words = []\n",
        "for sentence in sentences:\n",
        "  for word in sentence:\n",
        "    if \"''\" not in word and \"``\" not in word:\n",
        "      corpus_words.append(word)"
      ]
    },
    {
      "cell_type": "code",
      "execution_count": 17,
      "metadata": {
        "execution": {},
        "id": "oSi5mBZmAuwJ",
        "outputId": "f437f0af-70f8-4c02-c006-2ef4a2d70990",
        "colab": {
          "base_uri": "https://localhost:8080/"
        }
      },
      "outputs": [
        {
          "output_type": "stream",
          "name": "stdout",
          "text": [
            "Corpus length: 335766\n"
          ]
        }
      ],
      "source": [
        "print(f\"Corpus length: {len(corpus_words)}\")"
      ]
    },
    {
      "cell_type": "code",
      "execution_count": 18,
      "metadata": {
        "execution": {},
        "id": "aR1RfVcTAuwJ",
        "outputId": "c2a224da-e3e8-4be8-b2a6-2a01ca0108c4",
        "colab": {
          "base_uri": "https://localhost:8080/"
        }
      },
      "outputs": [
        {
          "output_type": "execute_result",
          "data": {
            "text/plain": [
              "['The',\n",
              " 'Fulton',\n",
              " 'County',\n",
              " 'Grand',\n",
              " 'Jury',\n",
              " 'said',\n",
              " 'Friday',\n",
              " 'an',\n",
              " 'investigation',\n",
              " 'of',\n",
              " \"Atlanta's\",\n",
              " 'recent',\n",
              " 'primary',\n",
              " 'election',\n",
              " 'produced',\n",
              " 'no',\n",
              " 'evidence',\n",
              " 'that',\n",
              " 'any',\n",
              " 'irregularities']"
            ]
          },
          "metadata": {},
          "execution_count": 18
        }
      ],
      "source": [
        "corpus_words[0:20]"
      ]
    },
    {
      "cell_type": "markdown",
      "metadata": {
        "execution": {},
        "id": "ZpELzjnfAuwK"
      },
      "source": [
        "We'll now get distinct (unique) words and create a matrix to represent all these words. This is necessary because we will be using this matrix to look at the probability of the words in sequences."
      ]
    },
    {
      "cell_type": "code",
      "execution_count": 19,
      "metadata": {
        "cellView": "form",
        "execution": {},
        "id": "T2bDbLPWAuwK"
      },
      "outputs": [],
      "source": [
        "# @title Creating Matrices and Distinct Words\n",
        "distinct_words = list(set(corpus_words))\n",
        "word_idx_dict = {word: i for i, word in enumerate(distinct_words)}\n",
        "distinct_words_count = len(list(set(corpus_words)))\n",
        "next_word_matrix = np.zeros([distinct_words_count, distinct_words_count])"
      ]
    },
    {
      "cell_type": "code",
      "execution_count": 20,
      "metadata": {
        "execution": {},
        "id": "gZ8aYWdnAuwK",
        "outputId": "85467edc-af96-44a7-88e5-fd7ec21972f5",
        "colab": {
          "base_uri": "https://localhost:8080/"
        }
      },
      "outputs": [
        {
          "output_type": "stream",
          "name": "stdout",
          "text": [
            "Number of distinct words: 27485\n"
          ]
        }
      ],
      "source": [
        "print(\"Number of distinct words: \" + str(distinct_words_count))"
      ]
    },
    {
      "cell_type": "markdown",
      "metadata": {
        "execution": {},
        "id": "9S0l_nNJAuwK"
      },
      "source": [
        "In the following lines of code we are populating the matrix that tracks the next word in a sentence."
      ]
    },
    {
      "cell_type": "code",
      "execution_count": 21,
      "metadata": {
        "cellView": "form",
        "execution": {},
        "id": "4peRkDXOAuwK"
      },
      "outputs": [],
      "source": [
        "# @title Populating Matrix that tracks next word\n",
        "for i, word in enumerate(corpus_words[:-1]):\n",
        "  first_word_idx = word_idx_dict[word]\n",
        "  next_word_idx = word_idx_dict[corpus_words[i+1]]\n",
        "  next_word_matrix[first_word_idx][next_word_idx] +=1"
      ]
    },
    {
      "cell_type": "markdown",
      "metadata": {
        "execution": {},
        "id": "bogGuwPkAuwK"
      },
      "source": [
        "Now we have the information ready to construct a markov chain. The next word matrix is crucial in this, as it allows us to go from one word in the sequence to the next. We will soon see how this is used."
      ]
    },
    {
      "cell_type": "markdown",
      "metadata": {
        "execution": {},
        "id": "tI881fldAuwK"
      },
      "source": [
        "## Section 1.2: What is a Markov Chain or Model?\n",
        "\n",
        "A Markov Chain (or Model) is a:\n",
        "- stochastic model describing a sequence of possible events\n",
        "- the probability of each event depends only on the state attained in the previous event.\n",
        "- a countably infinite sequence, in which the chain moves state at discrete time steps, gives a discrete-time Markov chain (DTMC) [vs. a continuous-time process or CTMC].\n",
        "- The classic formal language model is a Markov Model\n",
        "\n",
        "*Helpful explanations from [eric mjl's tutorial](https://ericmjl.github.io/essays-on-data-science/machine-learning/markov-models/#non-autoregressive-homoskedastic-emissions)*!\n",
        "\n",
        "The simplest Markov models assume that we have a _system_ that contains a finite set of states,\n",
        "and that the _system_ transitions between these states with some probability at each time step $t$,\n",
        "thus generating a sequence of states over time.\n",
        "Let's call these states $S$, where\n",
        "\n",
        "\\begin{equation}\n",
        "S = \\{s_1, s_2, ..., s_n\\}\n",
        "\\end{equation}\n",
        "\n",
        "To keep things simple, let's start with three states:\n",
        "\n",
        "\\begin{equation}\n",
        "S = \\{s_1, s_2, s_3\\}\n",
        "\\end{equation}\n",
        "\n",
        "A Markov model generates a sequence of states, with one possible realization being:\n",
        "\n",
        "\\begin{equation}\n",
        "\\{s_1, s_1, s_1, s_3, s_3, s_3, s_2, s_2, s_3, s_3, s_3, s_3, s_1, ...\\}\n",
        "\\end{equation}\n",
        "\n",
        "And generically, we represent it as a sequence of states $x_t, x_{t+1}... x_{t+n}$.(We have chosen a different symbol to not confuse the \"generic\" state with the specific realization.) Graphically, a plain and simple Markov model looks like the following:\n",
        "\n",
        "<center><img src=\"https://raw.githubusercontent.com/NeuromatchAcademy/course-content-dl/main/tutorials/W2D3_ModernRecurrentNeuralNetworks/static/cell_chain.png\" width=\"500\"/></center>"
      ]
    },
    {
      "cell_type": "markdown",
      "metadata": {
        "execution": {},
        "id": "U35OLCiPAuwK"
      },
      "source": [
        "### Modeling transitions between states\n",
        "\n",
        "To know how a system transitions between states, we now need a **transition matrix**.\n",
        "\n",
        "The transition matrix describes the probability of transitioning from one state to another (The probability of staying in the same state is semantically equivalent to transitioning to the same state).\n",
        "\n",
        "By convention, transition matrix rows correspond to the state at time $t$,\n",
        "while columns correspond to state at time $t+1$.\n",
        "Hence, row probabilities sum to one, because the probability of transitioning to the next state depends on only the current state, and all possible states are known and enumerated.\n",
        "\n",
        "Let's call the transition matrix $P_{transition}$:\n",
        "\n",
        "\\begin{equation}\n",
        "P_{transition} = \n",
        "  \\begin{pmatrix}\n",
        "  p_{11} & p_{12} & p_{13} \\\\\n",
        "  p_{21} & p_{22} & p_{23} \\\\\n",
        "  p_{31} & p_{32} & p_{33} \\\\\n",
        "  \\end{pmatrix}\n",
        "\\end{equation}\n",
        "\n",
        "Using the transition matrix, we can express different behaviors of the system. For example:\n",
        "1. by assigning larger probability mass to the diagonals, we can express that the system likes to stay in the current state;\n",
        "2. by assigning larger probability mass to the off-diagonal, we can express that the system likes to transition out of its current state.\n",
        "\n",
        "In our case, this matrix is created by measuring how often one word appeared after another."
      ]
    },
    {
      "cell_type": "code",
      "execution_count": 22,
      "metadata": {
        "cellView": "form",
        "execution": {},
        "id": "8iwj8kPnAuwL"
      },
      "outputs": [],
      "source": [
        "# @title Function for most likely word\n",
        "def most_likely_word_after(word):\n",
        "  # We check for the word most likely\n",
        "  # to occur using the matrix\n",
        "  most_likely = next_word_matrix[word_idx_dict[word]].argmax()\n",
        "  return distinct_words[most_likely]"
      ]
    },
    {
      "cell_type": "markdown",
      "metadata": {
        "execution": {},
        "id": "Z8OJdl0EAuwL"
      },
      "source": [
        "Using our most likely word function, we can begin to create chains of words and create sequences. In the code below we create a naive chain that simply choses the most likely word."
      ]
    },
    {
      "cell_type": "code",
      "execution_count": 23,
      "metadata": {
        "cellView": "form",
        "execution": {},
        "id": "96wIoQoQAuwL"
      },
      "outputs": [],
      "source": [
        "# @title Function for building Naive Chain\n",
        "def naive_chain(word, length=15):\n",
        "  current_word = word\n",
        "  sentence = word\n",
        "  # We now build a naive chain by\n",
        "  # picking up the most likely word\n",
        "  for _ in range(length):\n",
        "    sentence += ' '\n",
        "    next_word = most_likely_word_after(current_word)\n",
        "    sentence += next_word\n",
        "    current_word = next_word\n",
        "  return sentence"
      ]
    },
    {
      "cell_type": "markdown",
      "metadata": {
        "execution": {},
        "id": "Xx-UBtGeAuwL"
      },
      "source": [
        "Let us now use this naive chain to see what comes up, using some simple words."
      ]
    },
    {
      "cell_type": "code",
      "execution_count": 24,
      "metadata": {
        "execution": {},
        "id": "GKoKgiJlAuwL",
        "outputId": "9b76bff1-77ec-4f25-f11f-4bae3484768d",
        "colab": {
          "base_uri": "https://localhost:8080/"
        }
      },
      "outputs": [
        {
          "output_type": "stream",
          "name": "stdout",
          "text": [
            "the United States , and the United States , and the United States , and the\n",
            "I have been a new members of the United States , and the United States ,\n",
            "What is a new members of the United States , and the United States , and\n",
            "park . The new members of the United States , and the United States , and\n"
          ]
        }
      ],
      "source": [
        "print(naive_chain('the'))\n",
        "print(naive_chain('I'))\n",
        "print(naive_chain('What'))\n",
        "print(naive_chain('park'))"
      ]
    },
    {
      "cell_type": "markdown",
      "metadata": {
        "execution": {},
        "id": "6L7W6alJAuwL"
      },
      "source": [
        "We notice that after the word `the`, `United States` comes up each time. All the other sequencies starting from other words also end up at `the` quite often. Since we use a *deterministic* markov chain model, its next state only depends on the previous one. Therefore, once the sequence comes to `the`, it inevitably continues the sequence with the `United States`."
      ]
    },
    {
      "cell_type": "markdown",
      "metadata": {
        "execution": {},
        "id": "4QwA4WizAuwL"
      },
      "source": [
        "We can now be a little more sophisticated, and return words in a sequence using a *weighted choice*, which randomly selects the next word from a set of words with some probability (weight)."
      ]
    },
    {
      "cell_type": "code",
      "execution_count": 25,
      "metadata": {
        "cellView": "form",
        "execution": {},
        "id": "jftW6eBqAuwL"
      },
      "outputs": [],
      "source": [
        "# @title Function for weighted choice\n",
        "def weighted_choice(objects, weights):\n",
        "  \"\"\"\n",
        "  Returns a random element from the sequence of 'objects',\n",
        "  the likelihood of the objects is weighted according\n",
        "  to the sequence of 'weights', i.e. percentages.\n",
        "\n",
        "  Args:\n",
        "    objects: list\n",
        "      Sequence of objects\n",
        "    weights: list\n",
        "      Sequence of weights per object\n",
        "\n",
        "  Returns:\n",
        "    Random element from the sequence of 'objects',\n",
        "    the likelihood of the objects is weighted according\n",
        "    to the sequence of 'weights', i.e. percentages.\n",
        "  \"\"\"\n",
        "\n",
        "  weights = np.array(weights, dtype=np.float64)\n",
        "  sum_of_weights = weights.sum()\n",
        "  # Standardization:\n",
        "  np.multiply(weights, 1 / sum_of_weights)\n",
        "  weights = weights.cumsum()\n",
        "  x = random.random()\n",
        "  for i in range(len(weights)):\n",
        "    if x < weights[i]:\n",
        "      return objects[i]"
      ]
    },
    {
      "cell_type": "code",
      "execution_count": 26,
      "metadata": {
        "cellView": "form",
        "execution": {},
        "id": "I0T2ickvAuwM"
      },
      "outputs": [],
      "source": [
        "# @title Function for sampling next word with weights\n",
        "def sample_next_word_after(word, alpha=0):\n",
        "  \"\"\"\n",
        "  Helper function to sample next word with weights based on present word\n",
        "\n",
        "  Args:\n",
        "    word: string\n",
        "      Current word\n",
        "    alpha: int\n",
        "      Offset\n",
        "\n",
        "  Returns:\n",
        "    Next word\n",
        "  \"\"\"\n",
        "  next_word_vector = next_word_matrix[word_idx_dict[word]] + alpha\n",
        "  likelihoods = next_word_vector/next_word_vector.sum()\n",
        "  return weighted_choice(distinct_words, likelihoods)"
      ]
    },
    {
      "cell_type": "code",
      "execution_count": 27,
      "metadata": {
        "execution": {},
        "id": "tQds3XChAuwM",
        "outputId": "6a2c7962-87d5-4df1-eeea-46f61ee9d6a4",
        "colab": {
          "base_uri": "https://localhost:8080/",
          "height": 35
        }
      },
      "outputs": [
        {
          "output_type": "execute_result",
          "data": {
            "application/vnd.google.colaboratory.intrinsic+json": {
              "type": "string"
            },
            "text/plain": [
              "'replies'"
            ]
          },
          "metadata": {},
          "execution_count": 27
        }
      ],
      "source": [
        "sample_next_word_after('The')"
      ]
    },
    {
      "cell_type": "code",
      "execution_count": 28,
      "metadata": {
        "execution": {},
        "id": "jQe-hfstAuwM",
        "outputId": "0bb99217-806e-4ed2-9e02-de6d031726b4",
        "colab": {
          "base_uri": "https://localhost:8080/",
          "height": 35
        }
      },
      "outputs": [
        {
          "output_type": "execute_result",
          "data": {
            "application/vnd.google.colaboratory.intrinsic+json": {
              "type": "string"
            },
            "text/plain": [
              "'program'"
            ]
          },
          "metadata": {},
          "execution_count": 28
        }
      ],
      "source": [
        "sample_next_word_after('The')"
      ]
    },
    {
      "cell_type": "markdown",
      "metadata": {
        "execution": {},
        "id": "Ifc1jQFkAuwM"
      },
      "source": [
        "There! We don't see the same word twice, because of the added randomisation (i.e., stochasticity). Our algorithm calculates how likely it is to find a certain word after a given word (`The` in this case) in the corpus, and then generates 1 sample of the next word with a matching probability. \n",
        "\n",
        "In this example, we generated only one next word. Now, using this function, we'll build a chain."
      ]
    },
    {
      "cell_type": "code",
      "execution_count": 29,
      "metadata": {
        "cellView": "form",
        "execution": {},
        "id": "gAa3HWZzAuwM"
      },
      "outputs": [],
      "source": [
        "# @title Function for a stochastic chain using weighted choice\n",
        "def stochastic_chain(word, length=15):\n",
        "  \"\"\"\n",
        "  Helper function to build stochastic chain using\n",
        "  weighted choices.\n",
        "\n",
        "  Args:\n",
        "    word: string\n",
        "      Word\n",
        "    length: int\n",
        "      Length of sentence\n",
        "\n",
        "  Returns:\n",
        "    sentence: string\n",
        "      Sentence built using stochastic chain\n",
        "  \"\"\"\n",
        "  current_word = word\n",
        "  sentence = word\n",
        "\n",
        "  for _ in range(length):\n",
        "    sentence += ' '\n",
        "    next_word = sample_next_word_after(current_word)\n",
        "    sentence += next_word\n",
        "    current_word = next_word\n",
        "\n",
        "  return sentence"
      ]
    },
    {
      "cell_type": "code",
      "execution_count": 30,
      "metadata": {
        "execution": {},
        "id": "3HVN-9PZAuwM",
        "outputId": "265151c0-8d3c-41b3-e07e-57962ce793c9",
        "colab": {
          "base_uri": "https://localhost:8080/",
          "height": 35
        }
      },
      "outputs": [
        {
          "output_type": "execute_result",
          "data": {
            "application/vnd.google.colaboratory.intrinsic+json": {
              "type": "string"
            },
            "text/plain": [
              "'Hospital in the switch that single issue : Morning , we were waiting were held for'"
            ]
          },
          "metadata": {},
          "execution_count": 30
        }
      ],
      "source": [
        "stochastic_chain('Hospital')"
      ]
    },
    {
      "cell_type": "markdown",
      "metadata": {
        "execution": {},
        "id": "8F1XwC17AuwM"
      },
      "source": [
        "Neat - we can create stochastic chains for a single word. For a more effective language model, we would want to model sets of words - in the following cells, we create sets of words to predict a chain after a sequence."
      ]
    },
    {
      "cell_type": "code",
      "execution_count": 31,
      "metadata": {
        "execution": {},
        "id": "LDCbwV4jAuwM"
      },
      "outputs": [],
      "source": [
        "k = 3"
      ]
    },
    {
      "cell_type": "code",
      "execution_count": 32,
      "metadata": {
        "cellView": "form",
        "execution": {},
        "id": "ffnWvxDAAuwN",
        "outputId": "4d16fc46-641c-40e2-c4d6-c7c33d7e8c49",
        "colab": {
          "base_uri": "https://localhost:8080/",
          "height": 49,
          "referenced_widgets": [
            "c96ecef6f4b64feda03a991ce639902d",
            "fd7612e9082a4462a24e195d88688856",
            "9e95570c34944338a371b425e6ab5ee4",
            "755da9803277449c8084ef6aef60134a",
            "8459f57d782f4614a579252518a99168",
            "24d64ad40bf240048a9e2aed72ad1f4e",
            "8a2c38d2b7bc476f998ab1a2fea14894",
            "98e9268f9bf84b22b69cc95bd76e8597",
            "eb2bfe16dcda4e85aa62523040cabf7a",
            "0f2b7bb1e88342bbbdb39a2c5a879b47",
            "73133160f54d4c508fa569d842d34a45"
          ]
        }
      },
      "outputs": [
        {
          "output_type": "display_data",
          "data": {
            "application/vnd.jupyter.widget-view+json": {
              "model_id": "c96ecef6f4b64feda03a991ce639902d",
              "version_minor": 0,
              "version_major": 2
            },
            "text/plain": [
              "0it [00:00, ?it/s]"
            ]
          },
          "metadata": {}
        }
      ],
      "source": [
        "def sequences_matrices(k=3):\n",
        "  # @title Code to build sets of words for more realistic sequences\n",
        "  \"\"\"\n",
        "  Code to build sets of words for more realistic sequences\n",
        "\n",
        "  Args:\n",
        "    k: int\n",
        "      Sequence length\n",
        "\n",
        "  Returns:\n",
        "    k_words_idx_dict: dict\n",
        "      Dictionary of words and corresponding indices\n",
        "    distinct_sets_of_k_words: list\n",
        "      Set of k-word sets\n",
        "    next_after_k_words_matrix: list\n",
        "      Transition matrix\n",
        "  \"\"\"\n",
        "  sets_of_k_words = [' '.join(corpus_words[i:i+k]) for i, _ in enumerate(corpus_words[:-k])]\n",
        "  sets_count = len(list(set(sets_of_k_words)))\n",
        "  next_after_k_words_matrix = dok_matrix((sets_count, len(distinct_words)))\n",
        "  distinct_sets_of_k_words = list(set(sets_of_k_words))\n",
        "  k_words_idx_dict = {word: i for i, word in enumerate(distinct_sets_of_k_words)}\n",
        "  distinct_k_words_count = len(list(set(sets_of_k_words)))\n",
        "  for i, word in tqdm(enumerate(sets_of_k_words[:-k])):\n",
        "    word_sequence_idx = k_words_idx_dict[word]\n",
        "    next_word_idx = word_idx_dict[corpus_words[i+k]]\n",
        "    next_after_k_words_matrix[word_sequence_idx, next_word_idx] += 1\n",
        "  return k_words_idx_dict, distinct_sets_of_k_words,next_after_k_words_matrix\n",
        "\n",
        "k_words_idx_dict, distinct_sets_of_k_words, next_after_k_words_matrix = sequences_matrices(k=k)"
      ]
    },
    {
      "cell_type": "markdown",
      "metadata": {
        "execution": {},
        "id": "2I9vaigoAuwN"
      },
      "source": [
        "Let's have a look at what that bit of code did."
      ]
    },
    {
      "cell_type": "code",
      "execution_count": 33,
      "metadata": {
        "execution": {},
        "id": "U91bx2K7AuwN",
        "outputId": "d1f1d626-c78c-47fc-cfd5-ea26b3638673",
        "colab": {
          "base_uri": "https://localhost:8080/"
        }
      },
      "outputs": [
        {
          "output_type": "execute_result",
          "data": {
            "text/plain": [
              "['Remember that He',\n",
              " 'wood that looked',\n",
              " 'processes useful to',\n",
              " 'your disposal .',\n",
              " 'mean an abandonment',\n",
              " 'the rates then',\n",
              " 'still stacked in',\n",
              " 'in that metallic',\n",
              " 'but I requisitioned',\n",
              " 'May the Divine']"
            ]
          },
          "metadata": {},
          "execution_count": 33
        }
      ],
      "source": [
        "distinct_sets_of_k_words[:10]"
      ]
    },
    {
      "cell_type": "markdown",
      "metadata": {
        "execution": {},
        "id": "wUhhE-ZcAuwN"
      },
      "source": [
        "Great! Now we are going to create a transition matrix for the sets of words."
      ]
    },
    {
      "cell_type": "code",
      "execution_count": 34,
      "metadata": {
        "cellView": "form",
        "execution": {},
        "id": "ZJ3Sw_A6AuwN",
        "outputId": "84bd0a14-9e6e-405b-c15b-c698153bd945",
        "colab": {
          "base_uri": "https://localhost:8080/",
          "height": 49,
          "referenced_widgets": [
            "ee2581af8b3f49edabbcdd8ba6e11af6",
            "1177b75aa854425e9c01c92f01cb76d0",
            "b7a55fc73b784f2e84c7da814b2faea1",
            "c04fd1116f244899aae102794cd9ab7e",
            "29d6f729b70e46de9f83aecc96c0ad34",
            "3f01c238fc744672abbe2ec659728193",
            "50cc660d580b4801a1ea121c4bf84495",
            "39958f52bfb7425cb44b7dff786b89e8",
            "4511da7d3a11468da8b3f6d59a1a51aa",
            "30bf33b291e041948f477379d7539314",
            "4500c6f2a6144045aa6f0d0e035a79b6"
          ]
        }
      },
      "outputs": [
        {
          "output_type": "display_data",
          "data": {
            "application/vnd.jupyter.widget-view+json": {
              "model_id": "ee2581af8b3f49edabbcdd8ba6e11af6",
              "version_minor": 0,
              "version_major": 2
            },
            "text/plain": [
              "0it [00:00, ?it/s]"
            ]
          },
          "metadata": {}
        }
      ],
      "source": [
        "# @title Code to populate matrix of sets of words\n",
        "for i, word in tqdm(enumerate(distinct_sets_of_k_words[:-k])):\n",
        "  word_sequence_idx = k_words_idx_dict[word]\n",
        "  next_word_idx = word_idx_dict[corpus_words[i+k]]\n",
        "  next_after_k_words_matrix[word_sequence_idx, next_word_idx] += 1"
      ]
    },
    {
      "cell_type": "markdown",
      "metadata": {
        "execution": {},
        "id": "IL_PxMCtAuwN"
      },
      "source": [
        "We now have what we need to build a stochastic chain over a `K` set of words."
      ]
    },
    {
      "cell_type": "code",
      "execution_count": 35,
      "metadata": {
        "cellView": "form",
        "execution": {},
        "id": "oruq9JaOAuwN"
      },
      "outputs": [],
      "source": [
        "# @title Function for Stochastic Chain for sets of words\n",
        "def stochastic_chain_sequence(words, chain_length=15, k=2):\n",
        "  \"\"\"\n",
        "  Function for stochastic Chain for sets of words\n",
        "\n",
        "  Args:\n",
        "    words: string\n",
        "      Sentence\n",
        "    chain_length: int\n",
        "      Length of stochastic chain [default: 15]\n",
        "    k: int\n",
        "      Sequence length [default: 2]\n",
        "\n",
        "  Returns:\n",
        "    sentence: string\n",
        "      Sentence generated using stochastic chain\n",
        "  \"\"\"\n",
        "  current_words = words.split(' ')\n",
        "  if len(current_words) != k:\n",
        "    raise ValueError(f'Wrong number of words, expected {k}')\n",
        "  sentence = words\n",
        "\n",
        "  # Pre-calculate seq embedding + transition matrix for a given k\n",
        "  matrices = sequences_matrices(k=k)\n",
        "\n",
        "  for _ in range(chain_length):\n",
        "    sentence += ' '\n",
        "    next_word = sample_next_word_after_sequence(matrices,' '.join(current_words))\n",
        "    sentence += next_word\n",
        "    current_words = current_words[1:]+[next_word]\n",
        "  return sentence"
      ]
    },
    {
      "cell_type": "code",
      "execution_count": 36,
      "metadata": {
        "cellView": "form",
        "execution": {},
        "id": "ut3aVhPZAuwN"
      },
      "outputs": [],
      "source": [
        "# @title Function to sample next word in sequence\n",
        "def sample_next_word_after_sequence(matrices,\n",
        "                                    word_sequence,\n",
        "                                    alpha=0):\n",
        "  # Unpack a tuple of matrices\n",
        "  \"\"\"\n",
        "  Function to sample next word in sequence\n",
        "\n",
        "  Args:\n",
        "    matrices: list\n",
        "      Transition matrix\n",
        "    word_sequence: list\n",
        "      Word sequence\n",
        "    alpha: int\n",
        "      Offset\n",
        "\n",
        "  Returns:\n",
        "    Weighted choice of distinct words based on likelihoods\n",
        "  \"\"\"\n",
        "  k_words_idx_dict,distinct_sets_of_k_words, next_after_k_words_matrix = matrices\n",
        "\n",
        "  next_word_vector = next_after_k_words_matrix[k_words_idx_dict[word_sequence]] + alpha\n",
        "  likelihoods = next_word_vector/next_word_vector.sum()\n",
        "  return weighted_choice(distinct_words, likelihoods.toarray())"
      ]
    },
    {
      "cell_type": "code",
      "execution_count": 37,
      "metadata": {
        "execution": {},
        "id": "JV83k_UgAuwO",
        "outputId": "e7448a3c-6875-4188-f4f4-604cb9c402bb",
        "colab": {
          "base_uri": "https://localhost:8080/",
          "height": 67,
          "referenced_widgets": [
            "8c8df9c1a9d84785a6d19c3d18fb269e",
            "ef46f345087844898629a281a3e28c54",
            "99f0b469b6fc40d2bca3d66a9283b2c9",
            "7eb30fbf15d2485a8bf981dfcdcf0075",
            "464cafdf7e064ce692b1118b171622a3",
            "3f91d1b6be7747c29fa12868ec6ab79c",
            "02e2224576ae438581b8dbed349e3d09",
            "a58980782b4d4c549093c883d53a8890",
            "fec5b856eba24bb7801a9e49104ccb95",
            "394d16528ede4eca95a67548c080fb76",
            "446eb21f685a4c5295b3bcbe5d451ff8"
          ]
        }
      },
      "outputs": [
        {
          "output_type": "display_data",
          "data": {
            "application/vnd.jupyter.widget-view+json": {
              "model_id": "8c8df9c1a9d84785a6d19c3d18fb269e",
              "version_minor": 0,
              "version_major": 2
            },
            "text/plain": [
              "0it [00:00, ?it/s]"
            ]
          },
          "metadata": {}
        },
        {
          "output_type": "execute_result",
          "data": {
            "application/vnd.google.colaboratory.intrinsic+json": {
              "type": "string"
            },
            "text/plain": [
              "'Judges under the jurisdiction of the'"
            ]
          },
          "metadata": {},
          "execution_count": 37
        }
      ],
      "source": [
        "stochastic_chain_sequence('Judges under the', chain_length=3, k=3)"
      ]
    },
    {
      "cell_type": "markdown",
      "metadata": {
        "execution": {},
        "id": "yOknbP1mAuwO"
      },
      "source": [
        "Great! This sentence was created using two of the techniques we recently saw - creating sets of words, and using a weighted average stochastic chain. Both of these methods contributed in making it a more meaningful sequence of words. Some of these notions are also captured by Recurrent Neural Networks!"
      ]
    },
    {
      "cell_type": "markdown",
      "metadata": {
        "execution": {},
        "id": "801yvurjAuwO"
      },
      "source": [
        "### Think! 1.2: How does changing parameters affect the generated sentences?\n",
        "\n",
        "Try and use a set of words but using a naive chain, and try a stochastic chain with a low value of k (i.e., 2), and a higher value (i.e., 5). How do these different configurations change the quality of the sequences produced? Below you have sample code to try these out.\n",
        "\n",
        "```python\n",
        "stochastic_chain_sequence(..., chain_length=..., k=...)\n",
        "```\n",
        "\n",
        "You should be able to use these matrices and the previous functions to be able to create the necessary configurations."
      ]
    },
    {
      "cell_type": "code",
      "execution_count": 38,
      "metadata": {
        "cellView": "form",
        "execution": {},
        "id": "dHBQ39LNAuwO",
        "outputId": "f2c35f8e-856b-4b60-8889-315965cfc5b5",
        "colab": {
          "base_uri": "https://localhost:8080/",
          "height": 93,
          "referenced_widgets": [
            "46f3516402a148279cc1feee22ef1f49",
            "cba0c49baebb4210a4dd1da0ccc6a24c",
            "a0328dc3340742afb37122611363af51",
            "590d6748f1014ff49021a4c9a6ba3ece",
            "2fe4f4f9414f470ebd9e82f4e0a643bb",
            "783683d1c55c4bc19797052d2448c25e"
          ]
        }
      },
      "outputs": [
        {
          "output_type": "display_data",
          "data": {
            "application/vnd.jupyter.widget-view+json": {
              "model_id": "46f3516402a148279cc1feee22ef1f49",
              "version_minor": 0,
              "version_major": 2
            },
            "text/plain": [
              "Textarea(value='Type your answer here and click on `Submit!`', placeholder='Type something')"
            ]
          },
          "metadata": {}
        },
        {
          "output_type": "display_data",
          "data": {
            "application/vnd.jupyter.widget-view+json": {
              "model_id": "590d6748f1014ff49021a4c9a6ba3ece",
              "version_minor": 0,
              "version_major": 2
            },
            "text/plain": [
              "Button(description='Submit!', style=ButtonStyle())"
            ]
          },
          "metadata": {}
        }
      ],
      "source": [
        "# @title Student Response\n",
        "from ipywidgets import widgets\n",
        "\n",
        "\n",
        "text=widgets.Textarea(\n",
        "   value='Type your answer here and click on `Submit!`',\n",
        "   placeholder='Type something',\n",
        "   description='',\n",
        "   disabled=False\n",
        ")\n",
        "\n",
        "button = widgets.Button(description=\"Submit!\")\n",
        "\n",
        "display(text,button)\n",
        "\n",
        "def on_button_clicked(b):\n",
        "   atform.add_answer('q1', text.value)\n",
        "   print(\"Submission successful!\")\n",
        "\n",
        "\n",
        "button.on_click(on_button_clicked)"
      ]
    },
    {
      "cell_type": "markdown",
      "metadata": {
        "execution": {},
        "id": "kJLJ-eMeAuwO"
      },
      "source": [
        "## Section 1.3: What is a Hidden Markov Model?\n",
        "\n",
        "A 1960s advance (by Leonard Baum and colleagues): Hidden Markov Models are:\n",
        "- a Markov model in which the system modeled is assumed to be a Markov process/chain with unobservable (\"hidden\") states. \n",
        "- HMM assumes there is another surrogate process whose behavior \"depends\" on the state--you learn about the state by observing the surrogate process. \n",
        "- HMMs have successfully been applied in fields where the goal is to recover a data sequence not immediately observable (but other data that depend on the sequence are).\n",
        "- The first dominant application: Speech and text processing (1970s)\n",
        "\n",
        "In this sub-section we will use the python library [hmmlearn](https://hmmlearn.readthedocs.io/en/latest/tutorial.html#training-hmm-parameters-and-inferring-the-hidden-states), which is part of the *scikit-learn* ecosystem. [nlg-with-hmmlearn](https://github.com/mfilej/nlg-with-hmmlearn) offers useful code snippets to adapt ```hmmlearn``` for text data. Because we are using a package that offers many out of the box implementations for HMMs, we don't have to worry about the states, transition matrices. "
      ]
    },
    {
      "cell_type": "code",
      "execution_count": 39,
      "metadata": {
        "execution": {},
        "id": "VUmc4NHrAuwO"
      },
      "outputs": [],
      "source": [
        "# Load the data\n",
        "sentences = brown.sents(categories=category)\n",
        "words = [word.lower() for sentence in sentences for word in sentence]\n",
        "lengths = [len(sentence) for sentence in sentences]\n",
        "alphabet = set(words)\n",
        "\n",
        "# Encode words\n",
        "le = LabelEncoder()\n",
        "_ = le.fit(list(alphabet))\n",
        "\n",
        "# Find word freqeuncies\n",
        "seq = le.transform(words)\n",
        "features = np.fromiter(seq, np.int64) # Create 1D array\n",
        "features = np.atleast_2d(features).T # View input as at least 2D array\n",
        "fd = FreqDist(seq) # Returns frequency distribution of words."
      ]
    },
    {
      "cell_type": "markdown",
      "metadata": {
        "execution": {},
        "id": "k86ZPi90AuwO"
      },
      "source": [
        "Now that we have our data setup, we can create our model. We use a multinomial HMM with 8 states, and can either do a random initialisation or use word frequences. We recommend trying both options!"
      ]
    },
    {
      "cell_type": "code",
      "execution_count": 40,
      "metadata": {
        "cellView": "form",
        "execution": {},
        "id": "CI1wI-jlAuwO"
      },
      "outputs": [],
      "source": [
        "# @title Function to create Default Multinomial HMM model\n",
        "def get_model(num_states):\n",
        "  \"\"\"\n",
        "  Function to create Default Multinomial HMM model\n",
        "\n",
        "  Args:\n",
        "    num_states: int\n",
        "      Specifies number of states in HMM model\n",
        "\n",
        "  Returns:\n",
        "    model: HMM instance\n",
        "      Default Multinomial HMM model\n",
        "  \"\"\"\n",
        "  print(\"Initial parameter estimation using built-in method\")\n",
        "  model = hmm.MultinomialHMM(n_components=num_states, init_params='ste')\n",
        "  return model"
      ]
    },
    {
      "cell_type": "code",
      "execution_count": 41,
      "metadata": {
        "cellView": "form",
        "execution": {},
        "id": "0XOu1xqmAuwP",
        "outputId": "2559343a-63d4-49a8-f473-2060a1c7e4fd",
        "colab": {
          "base_uri": "https://localhost:8080/"
        }
      },
      "outputs": [
        {
          "output_type": "stream",
          "name": "stdout",
          "text": [
            "Initial parameter estimation using relative frequencies\n",
            "MultinomialHMM(init_params='st', n_components=2)\n"
          ]
        }
      ],
      "source": [
        "# @title Function to create Default Multinomial HMM model information of relative frequencies of words\n",
        "def frequencies(num_states):\n",
        "  \"\"\"\n",
        "  Function to create Default Multinomial HMM\n",
        "  model information of relative frequencies of words\n",
        "\n",
        "  Args:\n",
        "    num_states: int\n",
        "      Specifies number of states in HMM model\n",
        "\n",
        "  Returns:\n",
        "    model: HMM instance\n",
        "      Default Multinomial HMM model\n",
        "      replete with relative frequencies of words\n",
        "      and emission probabilities\n",
        "  \"\"\"\n",
        "  print(\"Initial parameter estimation using relative frequencies\")\n",
        "\n",
        "  frequencies = np.fromiter((fd.freq(i) for i in range(len(alphabet))),\n",
        "                            dtype=np.float64)\n",
        "  emission_prob = np.stack([frequencies]*num_states)\n",
        "\n",
        "  model = hmm.MultinomialHMM(n_components=num_states, init_params='st')\n",
        "  model.emissionprob_ = emission_prob\n",
        "  return model\n",
        "\n",
        "\n",
        "print(frequencies(2))"
      ]
    },
    {
      "cell_type": "markdown",
      "metadata": {
        "execution": {},
        "id": "-MucaGDbAuwP"
      },
      "source": [
        "**Note**:\n",
        "\n",
        "The following lines of code are commented out because they take a long time (~17 mins for default Brown corpus categories). \n",
        "\n",
        "If you do not have that time, you can download the default model to try to generate text. You have to uncomment the appropriate lines.\n",
        "\n",
        "**Note:** Either you may want to uncomment Line 11 or Line 14, not both, as the output variable `model` will be overwritten."
      ]
    },
    {
      "cell_type": "code",
      "execution_count": 42,
      "metadata": {
        "execution": {},
        "id": "gFKjZLkLAuwP"
      },
      "outputs": [],
      "source": [
        "## Fitting a default multinomial HMM. This might take a while to run(~17 mins)\n",
        "def run_model(features, length, num_states):\n",
        "  model = get_model(num_states)\n",
        "  model = model.fit(features, lengths)\n",
        "\n",
        "  return model\n",
        "\n",
        "\n",
        "num_states = 8\n",
        "## Uncomment, if you have time!\n",
        "# model = run_model(features, lengths, num_states)\n",
        "\n",
        "## Another way to get a model is to use default frequencies when initialising the model\n",
        "# model = frequencies(num_states)"
      ]
    },
    {
      "cell_type": "markdown",
      "metadata": {
        "execution": {},
        "id": "qo0j4BuLAuwP"
      },
      "source": [
        "Alternatively, you could use a saved model. Here is a [link](https://drive.google.com/file/d/1IymcmcO48V6q3x-6dhf7-OU5NByo5W2F/view?usp=sharing) to the default model, which you can download and then upload into Colab."
      ]
    },
    {
      "cell_type": "code",
      "execution_count": 43,
      "metadata": {
        "cellView": "form",
        "execution": {},
        "id": "ECv_-qXLAuwP"
      },
      "outputs": [],
      "source": [
        "# @markdown Execute this cell to download the saved model.\n",
        "import pickle\n",
        "\n",
        "url = \"https://osf.io/5k6cs/download\"\n",
        "r = requests.get(url)\n",
        "with open('model_w2d3_t1.pkl', 'wb') as fd:\n",
        "  fd.write(r.content)\n",
        "\n",
        "# Load the pickle file\n",
        "with open(\"model_w2d3_t1.pkl\", \"rb\") as file:\n",
        "  model = pickle.load(file)"
      ]
    },
    {
      "cell_type": "code",
      "execution_count": 44,
      "metadata": {
        "cellView": "form",
        "execution": {},
        "id": "2h7lFzMRAuwP"
      },
      "outputs": [],
      "source": [
        "# @title Function to generate words given HMM model\n",
        "def generate_text(model, num_lines = 5, random_len=15):\n",
        "  \"\"\"\n",
        "  Function to generate words from given HMM model\n",
        "\n",
        "  Args:\n",
        "    model: HMM instance\n",
        "      Multinomial HMM Model\n",
        "    num_lines: int\n",
        "      Specifies number of lines [default: 5]\n",
        "    random_len: int\n",
        "      Specifies random sequence length [default: 15]\n",
        "\n",
        "  Returns:\n",
        "    Nothing\n",
        "  \"\"\"\n",
        "  for _i in range(num_lines):\n",
        "    set_seed(_i)\n",
        "    symbols, _states = model.sample(random_len)\n",
        "\n",
        "    # To scale transformation to original representation\n",
        "    output = le.inverse_transform(np.squeeze(symbols))\n",
        "\n",
        "    for word in output:\n",
        "      print(word, end=\" \")\n",
        "    print()"
      ]
    },
    {
      "cell_type": "code",
      "execution_count": 45,
      "metadata": {
        "execution": {},
        "id": "fXZVEXOzAuwP",
        "outputId": "60fad6ed-e2a9-48db-8428-ffe9bbc18f4e",
        "colab": {
          "base_uri": "https://localhost:8080/"
        }
      },
      "outputs": [
        {
          "output_type": "stream",
          "name": "stdout",
          "text": [
            "Random seed 0 has been set.\n",
            "until 15 manner on of of a in broaden of four and a his expressed he no the . building \n",
            "Random seed 1 has been set.\n",
            "to of more of service aide issue the take two a they and find heroism had to only smu the \n"
          ]
        }
      ],
      "source": [
        "generate_text(model, num_lines=2, random_len=20)"
      ]
    },
    {
      "cell_type": "markdown",
      "metadata": {
        "execution": {},
        "id": "qFicga4pAuwP"
      },
      "source": [
        "We see that a hidden markov model also does well in generating text. We encourage you to try out different initialisations and hyperparameters to see how the model does."
      ]
    },
    {
      "cell_type": "markdown",
      "metadata": {
        "execution": {},
        "id": "3nQylh2bAuwP"
      },
      "source": [
        "### (Bonus) Exercise 1.3: Transition probabilities \n",
        "\n",
        "\n",
        "We have seen how we can use sequences of text to form probability chains, as well as how we can use out of the box models to generate text. In this exercise, you will be using your own data to generate sequences using ```hmmlearn``` or any other implementation of a markov model. Explore the transition probabilities in your corpus and generate sentences. For example, one such exploration can be - How does using a model with the word frequencies compare to a default model?\n",
        "\n",
        "Perform any one such comparison or exploration, and generate 3 sentences or 50 words using your model. You should be able to use all the existing functions defined for this exercise.\n",
        "\n",
        "**Note:** We suggest to do this exercise after the completion of both tutorials."
      ]
    },
    {
      "cell_type": "code",
      "execution_count": 46,
      "metadata": {
        "execution": {},
        "id": "32Usfc0IAuwQ"
      },
      "outputs": [],
      "source": [
        "# load your own dataset and create a model using the frequencies based HMM model!"
      ]
    },
    {
      "cell_type": "markdown",
      "metadata": {
        "execution": {},
        "id": "7-_xALmXAuwQ"
      },
      "source": [
        "### Useful links for Markov Models and HMM:\n",
        "\n",
        "Here are some useful links if you wish to explore this topic further.\n",
        "\n",
        "- [Markov Chain Text](https://towardsdatascience.com/simulating-text-with-markov-chains-in-python-1a27e6d13fc6)\n",
        "\n",
        "- [Python QuantEcon: Finite Markov Chains with Finance](https://python.quantecon.org/finite_markov.html)\n",
        "\n",
        "- [Markov Models from the ground up, with python](https://ericmjl.github.io/essays-on-data-science/machine-learning/markov-models/)\n",
        "\n",
        "- [GenTex](https://github.com/nareshkumar66675/GenTex)\n",
        "\n",
        "- [HMM learn](https://hmmlearn.readthedocs.io/en/latest/tutorial.html)"
      ]
    },
    {
      "cell_type": "markdown",
      "metadata": {
        "execution": {},
        "id": "h4tS54X5AuwQ"
      },
      "source": [
        "---\n",
        "# Section 2: Word Embeddings\n",
        "\n",
        "*Time estimate: ~60mins*"
      ]
    },
    {
      "cell_type": "code",
      "execution_count": 47,
      "metadata": {
        "cellView": "form",
        "execution": {},
        "id": "wM12VAGvAuwQ",
        "outputId": "a2338da8-0057-4d09-e126-da8d075b94db",
        "colab": {
          "base_uri": "https://localhost:8080/",
          "height": 581,
          "referenced_widgets": [
            "f159c5cddfad49c1967c0063da6a453f",
            "a475876998944ababd204171092785c2",
            "ae382b577f044cf2a8978062d229173a",
            "2b09b4b7ceff4cbc8d133a7b29a7b658",
            "f26d11676d24488eb72ae9988df35a35",
            "9340e3949d434cf0aabd205ff84b1500"
          ]
        }
      },
      "outputs": [
        {
          "output_type": "display_data",
          "data": {
            "application/vnd.jupyter.widget-view+json": {
              "model_id": "f159c5cddfad49c1967c0063da6a453f",
              "version_minor": 0,
              "version_major": 2
            },
            "text/plain": [
              "Tab(children=(Output(), Output()), _titles={'0': 'Youtube', '1': 'Bilibili'})"
            ]
          },
          "metadata": {}
        }
      ],
      "source": [
        "# @title Video 2: Textual Dimension Reduction\n",
        "from ipywidgets import widgets\n",
        "\n",
        "out2 = widgets.Output()\n",
        "with out2:\n",
        "  from IPython.display import IFrame\n",
        "  class BiliVideo(IFrame):\n",
        "    def __init__(self, id, page=1, width=400, height=300, **kwargs):\n",
        "      self.id=id\n",
        "      src = \"https://player.bilibili.com/player.html?bvid={0}&page={1}\".format(id, page)\n",
        "      super(BiliVideo, self).__init__(src, width, height, **kwargs)\n",
        "\n",
        "  video = BiliVideo(id=f\"BV1oM4y1P7Mn\", width=854, height=480, fs=1)\n",
        "  print(\"Video available at https://www.bilibili.com/video/{0}\".format(video.id))\n",
        "  display(video)\n",
        "\n",
        "out1 = widgets.Output()\n",
        "with out1:\n",
        "  from IPython.display import YouTubeVideo\n",
        "  video = YouTubeVideo(id=f\"kweySXAZ1os\", width=854, height=480, fs=1, rel=0)\n",
        "  print(\"Video available at https://youtube.com/watch?v=\" + video.id)\n",
        "  display(video)\n",
        "\n",
        "out = widgets.Tab([out1, out2])\n",
        "out.set_title(0, 'Youtube')\n",
        "out.set_title(1, 'Bilibili')\n",
        "\n",
        "# Add event to airtable\n",
        "atform.add_event('Video 2: Textual Dimension Reduction')\n",
        "\n",
        "display(out)"
      ]
    },
    {
      "cell_type": "markdown",
      "metadata": {
        "execution": {},
        "id": "OzdA791pAuwR"
      },
      "source": [
        "Words or subword units such as morphemes are the basic units that we use to express meaning  in language. The technique of mapping words to vectors of real numbers is known as word embedding. \n",
        "\n",
        "Word2vec is based on theories of distributional semantics - words that appear around each other are more likely to mean similar things than words that do not appear around each other. Keeping this in mind, our job is to create a high dimensional space where these semantic relations are preserved. The innovation in word2vec is the realisation that we can use unlabelled, running text in sentences as inputs for a supervised learning algorithm--as a self-supervision task. It is supervised because we use the words in a sentence to serve as positive and negative examples. Let’s break this down:\n",
        "\n",
        "... \"use the kitchen knife to chop the vegetables\"…\n",
        "\n",
        "**C1   C2   C3   T   C4   C5   C6   C7**\n",
        "\n",
        "Here, the target word is knife, and the context words are the ones in its immediate (6-word) window. \n",
        "The first word2vec method we’ll see is called skipgram, where the task is to assign a probability for how likely it is that the context window appears around the target word. In the training process, positive examples are samples of words and their context words, and negative examples are created by sampling from pairs of words that do not appear nearby one another. \n",
        "\n",
        "This method of implementing word2vec is called skipgram with negative sampling. So while the algorithm tries to better learn which context words are likely to appear around a target word, it ends up pushing the embedded representations for every word so that they are located optimally (e.g., with minimal semantic distortion). In this process of adjusting embedding values, the algorithm brings semantically similar words close together in the resulting high dimensional space, and dissimilar words far away. \n",
        "\n",
        "Another word2vec training method, Continuous Bag of Words (CBOW), works in a similar fashion, and tries to predict the target word, given context. This is converse of skipgram, which tries to predict the context, given the target word. Skip-gram represents rare words and phrases well, often requiring more data for stable representations, while CBOW is several times faster to train than the skip-gram, but with slightly better accuracy for the frequent words in its prediction task. The popular gensim implementation of word2vec has both the methods included."
      ]
    },
    {
      "cell_type": "markdown",
      "metadata": {
        "execution": {},
        "id": "tSsTy9HmAuwS"
      },
      "source": [
        "## Section 2.1: Creating Word Embeddings\n",
        "\n",
        "We will create embeddings for a subset of categories in [Brown corpus](https://www1.essex.ac.uk/linguistics/external/clmt/w3c/corpus_ling/content/corpora/list/private/brown/brown.html).  In order to achieve this task we will use [gensim](https://radimrehurek.com/gensim/) library to create word2vec embeddings. Gensim’s word2vec expects a sequence of sentences as its input. Each sentence is a list of words.\n",
        "Calling `Word2Vec(sentences, iter=1)` will run two passes over the sentences iterator (or, in general iter+1 passes). The first pass collects words and their frequencies to build an internal dictionary tree structure. The second and subsequent passes train the neural model. \n",
        "`Word2vec` accepts several parameters that affect both training speed and quality.\n",
        "\n",
        "One of them is for pruning the internal dictionary. Words that appear only once or twice in a billion-word corpus are probably uninteresting typos and garbage. In addition, there’s not enough data to make any meaningful training on those words, so it’s best to ignore them:\n",
        "\n",
        "`model = Word2Vec(sentences, min_count=10)  # default value is 5`\n",
        "\n",
        "\n",
        "A reasonable value for min_count is between 0-100, depending on the size of your dataset.\n",
        "\n",
        "Another parameter is the size of the NN layers, which correspond to the “degrees” of freedom the training algorithm has:\n",
        "\n",
        "`model = Word2Vec(sentences, size=200)  # default value is 100`\n",
        "\n",
        "\n",
        "Bigger size values require more training data, but can lead to better (more accurate) models. Reasonable values are in the tens to hundreds.\n",
        "\n",
        "The last of the major parameters (full list [here](https://radimrehurek.com/gensim/models/word2vec.html#gensim.models.word2vec.Word2Vec)) is for training parallelization, to speed up training:\n",
        "\n",
        "`model = Word2Vec(sentences, workers=4) # default = 1 worker = no parallelization`"
      ]
    },
    {
      "cell_type": "code",
      "execution_count": 48,
      "metadata": {
        "execution": {},
        "id": "U_P_TYuyAuwS"
      },
      "outputs": [],
      "source": [
        "category = ['editorial', 'fiction', 'government', 'mystery', 'news', 'religion',\n",
        "            'reviews', 'romance', 'science_fiction']"
      ]
    },
    {
      "cell_type": "code",
      "execution_count": 49,
      "metadata": {
        "execution": {},
        "id": "17SIzxbkAuwS"
      },
      "outputs": [],
      "source": [
        "def create_word2vec_model(category='news', size=50, sg=1, min_count=5):\n",
        "  \"\"\"\n",
        "  Helper function to create word2vec model\n",
        "\n",
        "  Args:\n",
        "    category: string\n",
        "      Specifies category (editorial/fiction/government/mystery/news/religion/reviews/romance/science_fiction)\n",
        "    size: int\n",
        "      Specifies size [default: 50]\n",
        "    min_count: int\n",
        "      Minimum sentence length [default: 5]\n",
        "    sg: int\n",
        "      Skip gram length\n",
        "\n",
        "  Returns:\n",
        "    model: Word2Vec instance\n",
        "      Word2Vec model\n",
        "  \"\"\"\n",
        "  try:\n",
        "    sentences = brown.sents(categories=category)\n",
        "    model = Word2Vec(sentences, vector_size=size, sg=sg, min_count=min_count)\n",
        "\n",
        "  except (AttributeError, TypeError):\n",
        "      raise AssertionError('Input variable \"category\" should be a string or list,'\n",
        "      '\"size\", \"sg\", \"min_count\" should be integers')\n",
        "\n",
        "  return model\n",
        "\n",
        "def model_dictionary(model):\n",
        "  \"\"\"\n",
        "  Helper function to build model dictionary\n",
        "\n",
        "  Args:\n",
        "    model:  Word2Vec instance\n",
        "      Word2Vec model\n",
        "\n",
        "  Returns:\n",
        "    words: list\n",
        "      Maps word to index position\n",
        "  \"\"\"\n",
        "  words = list(model.wv.key_to_index)\n",
        "  return words\n",
        "\n",
        "def get_embedding(word, model):\n",
        "  \"\"\"\n",
        "  Helper function to get embedding\n",
        "\n",
        "  Args:\n",
        "    model:  Word2Vec instance\n",
        "      Word2Vec model\n",
        "    word: string\n",
        "      Word for which embedding is to be extracted\n",
        "\n",
        "  Returns:\n",
        "    Word-index if word is in model_dictionary\n",
        "    None otherwise\n",
        "  \"\"\"\n",
        "  if word in model.wv.key_to_index:\n",
        "    return model.wv[word]\n",
        "  else:\n",
        "    return None"
      ]
    },
    {
      "cell_type": "code",
      "execution_count": 50,
      "metadata": {
        "execution": {},
        "id": "tn3Qk7sYAuwS"
      },
      "outputs": [],
      "source": [
        "all_categories = brown.categories()"
      ]
    },
    {
      "cell_type": "code",
      "execution_count": 51,
      "metadata": {
        "execution": {},
        "id": "GQWv1ESdAuwS",
        "outputId": "b94afa64-d47b-48d6-fe92-021213d00ed7",
        "colab": {
          "base_uri": "https://localhost:8080/"
        }
      },
      "outputs": [
        {
          "output_type": "execute_result",
          "data": {
            "text/plain": [
              "['adventure',\n",
              " 'belles_lettres',\n",
              " 'editorial',\n",
              " 'fiction',\n",
              " 'government',\n",
              " 'hobbies',\n",
              " 'humor',\n",
              " 'learned',\n",
              " 'lore',\n",
              " 'mystery',\n",
              " 'news',\n",
              " 'religion',\n",
              " 'reviews',\n",
              " 'romance',\n",
              " 'science_fiction']"
            ]
          },
          "metadata": {},
          "execution_count": 51
        }
      ],
      "source": [
        "all_categories"
      ]
    },
    {
      "cell_type": "code",
      "execution_count": 52,
      "metadata": {
        "execution": {},
        "id": "A4Am28_YAuwS"
      },
      "outputs": [],
      "source": [
        "w2vmodel = create_word2vec_model(all_categories)"
      ]
    },
    {
      "cell_type": "code",
      "execution_count": 53,
      "metadata": {
        "execution": {},
        "id": "8Odf205xAuwS",
        "outputId": "48655361-a7d8-47ce-a1fc-28671069dcd2",
        "colab": {
          "base_uri": "https://localhost:8080/"
        }
      },
      "outputs": [
        {
          "output_type": "stream",
          "name": "stdout",
          "text": [
            "['the', ',', '.', 'of', 'and', 'to', 'a', 'in', 'that', 'is', 'was', 'for', '``', \"''\", 'The', 'with', 'it', 'as', 'he', 'his', 'on', 'be', ';', 'I', 'by', 'had', 'at', '?', 'not', 'are', 'from', 'or', 'this', 'have', 'an', 'which', '--', 'were', 'but', 'He', 'her', 'one', 'they', 'you', 'all', 'would', 'him', 'their', 'been', ')', '(', 'has', 'will', 'who', 'more', 'out', 'It', 'we', 'she', 'said', 'there', 'up', 'In', ':', 'than', 'them', 'into', 'no', 'its', 'about', 'so', 'when', 'can', 'only', 'other', '!', 'could', 'time', 'if', 'what', 'some', 'But', 'A', 'two', 'any', 'may', 'do', 'first', 'like', 'these', 'over', 'such', 'This', 'me', 'my', 'man', 'our', 'made', 'new', 'most', 'now', 'then', 'must', 'also', 'Af', 'did', 'even', 'back', 'before', 'years', 'through', 'And', 'many', 'She', 'much', 'way', 'down', 'your', 'should', 'There', 'where', 'They', 'Mr.', 'after', 'because', 'people', 'too', 'little', 'those', 'very', 'own', 'make', 'good', 'each', 'well', 'work', 'just', 'men', 'If', 'still', 'see', 'get', 'between', 'long', 'being', 'world', 'know', 'same', 'We', 'life', 'us', 'might', 'never', 'year', 'under', 'For', 'both', 'last', 'off', 'how', 'day', 'came', 'against', 'used', 'great', 'here', 'go', 'himself', 'right', 'come', 'When', 'few', 'take', 'New', 'another', 'American', 'old', 'use', 'while', 'around', 'three', 'As', 'state', 'without', 'found', 'again', 'Mrs.', 'His', 'place', '1', 'home', 'You', 'small', 'thought', 'went', 'say', 'upon', 'What', 'left', 'got', 'number', 'part', 'course', 'United', 'high', 'since', 'during', 'away', 'always', 'fact', '2', 'does', 'States', 'every', 'until', 'water', 'think', 'less', 'enough', 'To', 'took', 'put', 'head', 'something', 'One', 'hand', 'school', 'once', 'told', 'far', 'At', 'set', 'almost', 'better', 'public', 'house', 'end', 'night', 'called', 'find', 'knew', 'system', \"didn't\", 'going', 'eyes', \"don't\", 'asked', 'however', 'group', 'toward', 'give', 'days', 'though', 'point', 'possible', 'program', 'given', 'face', 'per', 'present', 'side', 'looked', 'room', 'important', 'look', 'order', 'business', 'next', 'things', 'John', 'become', 'young', 'No', 'nothing', 'That', 'felt', 'later', 'social', 'Then', 'case', 'rather', 'large', 'need', 'form', 'saw', 'often', 'On', 'These', 'least', 'children', 'along', 'best', 'second', 'several', 'seemed', 'early', 'ever', 'Of', 'thing', 'want', 'power', 'four', 'mind', 'interest', 'within', 'turned', 'light', 'area', \"'\", 'done', 'big', 'among', 'problem', 'members', 'country', 'began', 'door', 'family', 'general', 'sense', 'development', 'kind', 'whole', 'different', 'matter', 'open', 'war', 'itself', 'certain', 'help', 'York', 'God', 'human', 'others', 'let', 'name', 'means', '3', 'action', 'example', 'hands', 'gave', 'yet', 'feet', 'line', 'taken', 'law', 'With', 'past', 'seen', 'All', 'above', 'across', 'local', 'either', 'experience', 'government', 'show', 'quite', 'car', 'themselves', 'words', 'Now', \"I'm\", 'body', 'history', 'really', 'anything', 'times', 'death', 'period', 'State', 'half', 'word', 'together', 'city', 'held', 'money', 'information', 'whether', 'cannot', 'having', 'already', 'week', 'President', 'shall', 'white', 'political', 'brought', 'making', 'seems', 'real', 'question', 'whose', 'keep', 'ago', 'moment', 'today', 'After', 'tell', 'known', 'service', 'became', 'behind', 'field', 'result', 'free', 'five', 'why', 'available', 'problems', 'heard', 'sure', 'reason', 'study', 'position', 'change', 'probably', 'job', 'boy', 'areas', 'individual', 'special', 'Miss', 'So', 'close', 'seem', 'major', 'wife', 'wanted', 'turn', 'am', 'full', 'church', 'cost', 'necessary', 'policy', 'voice', 'economic', 'clear', 'company', 'air', 'woman', 'true', 'front', 'able', 'feel', 'age', 'future', 'perhaps', 'community', 'office', 'provide', 'love', 'effect', 'national', 'level', 'stood', 'Some', 'girl', 'How', 'child', 'rate', 'total', 'control', 'common', 'morning', 'short', '4', 'Washington', 'run', 'following', 'students', 'million', 'By', 'sound', 'evidence', 'town', 'force', 'value', 'mean', 'hard', 'believe', 'top', 'land', 'leave', 'surface', 'although', 'An', 'play', 'type', 'situation', 'plan', 'six', 'military', 'process', 'various', 'English', 'party', 'started', 'increase', 'lines', 'says', 'strong', 'further', 'music', 'America', 'minutes', 'idea', 'longer', 'Dr.', 'personal', 'society', 'House', 'tax', 'alone', 'mother', 'near', 'schools', 'outside', 'gone', 'usually', 'months', 'General', 'center', 'needed', 'Not', 'West', 'private', 'expected', 'kept', 'nature', 'values', 'Even', 'living', 'century', 'pressure', 'basis', 'ground', 'art', 'view', 'women', \"I'll\", 'wrote', 'required', 'greater', 'South', 'call', 'moved', 'modern', 'cut', 'conditions', 'complete', 'road', 'particular', 'return', 'support', 'attention', 'book', 'soon', 'else', 'education', 'live', 'material', 'late', \"couldn't\", 'lost', 'Since', 'stage', 'hours', 'single', 'followed', 'amount', '1960', 'costs', 'except', 'added', 'third', 'space', 'hundred', 'coming', 'However', 'board', 'dark', 'including', 'fire', 'tried', 'person', 'heart', 'miles', 'pay', 'reached', 'developed', 'move', 'feeling', 'act', 'recent', 'makes', 'read', 'shown', 'Thus', 'figure', 'simply', 'dead', 'hope', 'class', 'Department', 'St.', 'equipment', 'From', 'National', 'received', 'taking', 'basic', '&', 'doing', 'college', 'looking', 'trying', 'everything', 'sometimes', 'Why', 'inside', 'hold', 'picture', 'cold', 'sort', 'industry', 'U.S.', 'data', 'rest', 'spirit', \"It's\", 'low', 'father', 'terms', 'difficult', 'care', 'War', 'walked', 'nor', 'beginning', 'subject', 'states', 'getting', 'religious', 'passed', 'My', 'floor', 'beyond', 'bring', 'especially', 'black', 'therefore', 'cent', 'simple', 'range', 'England', 'property', 'paper', 'report', 'written', 'needs', '10', 'natural', 'Secretary', 'hear', 'final', \"can't\", 'Her', 'higher', 'growth', 'likely', 'talk', 'meeting', 'considered', 'Congress', 'friends', 'sat', 'answer', 'entire', 'fine', 'ten', 'forces', 'countries', 'story', 'difference', 'working', \"wasn't\", 'table', 'William', 'cases', 'building', 'hair', 'involved', 'meet', 'similar', 'Government', 'training', 'happened', 'street', 'thus', 'hour', 'effort', 'purpose', 'stand', 'Christian', 'issue', 'paid', 'North', 'sent', 'knowledge', 'earlier', 'points', 'market', 'Here', 'whom', 'ready', 'particularly', \"it's\", '5', 'decided', 'results', 'statement', 'increased', 'addition', 'showed', 'East', 'start', 'thinking', 'production', 'Kennedy', 'Well', 'letter', 'son', 'due', 'wall', 'weeks', 'French', 'moral', 'bad', 'girls', 'methods', 'size', 'reading', 'programs', 'ideas', 'stock', 'directly', 'color', 'understand', 'method', 'population', 'fall', 'Yet', 'Island', 'appeared', 'normal', 'lay', 'concerned', 'strength', 'foreign', 'food', 'police', 'Federal', 'City', 'deal', '1961', 'nearly', 'trade', 'record', 'questions', 'merely', 'continued', 'comes', 'peace', 'member', 'research', 'using', 'ran', 'influence', 'section', 'direction', 'During', 'summer', 'boys', 'below', 'husband', 'finally', 'trouble', 'literature', 'physical', 'opened', 'suddenly', 'month', 'led', 'list', 'step', 'temperature', 'stopped', 'cause', 'met', 'piece', 'instead', 'George', 'chance', 'try', 'services', 'Soviet', 'worked', 'effective', 'evening', 'anyone', 'former', 'myself', 'wrong', 'provided', 'theory', 'actually', 'average', 'forms', 'ways', 'bed', 'defense', 'changes', 'lead', 'placed', \"I've\", 'groups', 'Church', 'sales', \"wouldn't\", 'efforts', 'president', 'degree', 'herself', 'friend', 'systems', 'manner', 'University', 'movement', 'lot', 'carried', 'meaning', 'truth', 'aid', 'wide', 'somewhat', 'Although', 'respect', 'fear', 'plant', 'series', 'throughout', 'treatment', 'direct', 'performance', 'game', 'beautiful', 'larger', 'works', 'red', 'approach', 'easy', 'reaction', 'Just', 'couple', 'numbers', 'C', 'While', 'charge', 'described', 'court', 'opportunity', 'remember', 'J.', 'indeed', 'decision', 'determined', 'served', 'First', 'eye', 'running', 'freedom', 'labor', 'generally', 'window', 'understanding', 'reported', 'clearly', 'Each', 'trial', 'hot', 'Europe', 'nation', 'medical', 'Aj', 'British', 'lower', 'S.', 'immediately', 'international', 'certainly', 'character', 'account', 'persons', 'image', 'nations', 'appear', 'feed', 'ask', 'fiscal', 'based', 'earth', 'responsibility', 'learned', 'Act', 'activity', 'steps', 'obtained', 'returned', 'volume', 'forward', 'audience', 'technical', 'arms', \"man's\", 'length', 'planning', 'ones', 'industrial', '6', 'types', 'gives', 'blood', 'function', 'saying', 'doubt', 'serious', 'test', 'straight', '15', 'lived', 'corner', 'quality', 'farm', 'plane', '30', 'latter', 'federal', 'hit', 'Such', 'according', 'Another', 'square', 'Brown', 'include', 'White', 'pattern', 'writing', 'horse', 'Our', 'extent', 'completely', 'choice', 'organization', 'A.', 'stop', 'Court', 'May', 'letters', 'moving', 'activities', 'nuclear', 'born', 'student', 'design', 'specific', 'progress', 'parts', 'cars', 'recently', 'wish', 'Oh', 'shot', 'pool', 'Southern', 'visit', 'lack', 'established', 'distance', 'firm', 'main', 'importance', 'effects', 'indicated', 'slowly', 'plans', 'expect', 'Their', 'Negro', 'principle', 'spring', 'hall', 'neither', 'stress', 'heavy', 'speak', 'stay', 'additional', 'operation', 'existence', 'cities', 'attitude', 'easily', 'remained', 'leaders', 'designed', 'ahead', 'consider', 'applied', '8', 'note', 'central', 'language', 'growing', 'science', 'write', 'reach', 'radio', 'afternoon', 'season', 'Many', 'continue', 'Rhode', 'closed', \"I'd\", 'covered', 'Do', 'Most', 'interested', 'spent', 'becomes', 'College', 'role', 'apparently', 'waiting', 'press', 'Union', \"won't\", 'analysis', 'faith', 'elements', 'serve', 'suggested', 'mouth', 'played', 'World', 'attack', 'Western', 'staff', 'administration', '1959', 'limited', 'reasons', 'scene', 'original', 'date', \"Don't\", 'B', 'prepared', 'factors', 'sun', 'Only', 'married', 'teeth', 'professional', 'rise', 'Sunday', 'bit', 'religion', 'exactly', 'built', 'current', 'Two', 'deep', 'raised', 'dropped', 'ball', 'James', 'demand', 'playing', 'price', 'meant', 'Thomas', 'rates', 'figures', 'race', 'filled', 'hardly', 'sides', 'talking', 'pretty', 'places', 'daily', 'gun', 'events', 'June', 'knows', \"hadn't\", 'machine', 'related', 'Is', 'Chicago', 'Street', 'entered', 'facilities', 'techniques', 'concern', 'claim', 'style', 'March', 'fight', 'income', 'blue', \"That's\", 'supply', 'caught', 'dollars', 'officer', 'Christ', '12', 'energy', 'glass', 'standing', 'Charles', 'actual', 'status', 'usual', 'institutions', 'walk', 'popular', 'studies', 'products', 'attempt', 'trees', 'behavior', 'share', 'thousand', 'changed', '7', 'opinion', 'accepted', 'included', 'unit', 'materials', 'gas', 'considerable', 'seven', 'film', 'green', 'shows', 'remain', 'relations', 'drive', 'older', 'station', \"you're\", 'primary', 'eight', 'Perhaps', 'Old', 'Americans', 'C.', 'standard', 'successful', 'giving', 'practice', 'highly', 'Communist', 'books', '20', 'fell', 'marriage', 'middle', 'none', 'thin', 'obvious', 'proper', 'Jack', 'tradition', 'sitting', 'determine', 'pieces', 'poor', 'Let', 'Mike', 'worth', 'objective', 'arm', '1958', 'sign', 'structure', 'happy', 'radiation', 'project', 'dinner', 'weight', 'produced', 'kitchen', 'funds', 'entirely', 'caused', 'follow', 'heat', 'complex', 'source', 'purposes', 'balance', 'university', \"that's\", 'cattle', 'news', 'condition', 'London', 'annual', 'leadership', 'construction', 'goes', 'mass', 'regard', 'Yes', 'famous', 'noted', 'discussion', 'health', 'Or', 'develop', 'announced', 'Committee', 'unless', 'equal', 'management', 'principal', 'River', 'names', 'carry', \"isn't\", 'whatever', 'Mary', 'measure', 'clothes', 'laws', 'pain', 'oil', 'enemy', 'units', 'Where', 'quickly', 'obviously', 'Both', 'possibility', 'spoke', 'relationship', 'doctor', 'break', 'allowed', 'takes', 'pass', 'companies', 'finished', 'E.', 'Association', 'facts', 'inches', 'Lord', 'died', 'patient', 'touch', 'success', 'failure', 'German', 'require', 'loss', 'cover', 'marked', 'concept', 'records', 'frequently', 'build', \"doesn't\", 'More', 'Once', 'published', 'County', 'assistance', 'greatest', 'Corps', 'remains', 'stated', 'aware', 'previous', 'relatively', 'significant', 'appears', 'Catholic', 'carefully', 'base', 'variety', 'stations', 'clay', 'shape', 'bridge', 'W.', 'distribution', 'product', 'prevent', 'sight', 'learn', 'authority', 'Henry', 'hotel', 'capacity', 'interests', 'Robert', 'collection', 'offered', 'remembered', 'dance', 'sources', 'churches', 'opening', 'requirements', 'impossible', 'poetry', 'presented', '25', 'produce', 'active', 'instance', 'begin', 'broad', 'ship', 'circumstances', 'chief', 'named', 'proposed', 'slightly', 'fixed', 'trip', 'watched', 'operating', 'team', 'Germany', 'scientific', 'created', 'interesting', 'jazz', 'houses', 'provides', 'immediate', 'officers', 'cells', 'parents', 'financial', 'event', 'philosophy', 'sex', 'essential', 'key', 'agreed', 'recognized', 'fully', 'committee', 'explained', 'sea', 'bottom', 'subjects', 'capital', 'campaign', 'workers', 'indicate', 'leaving', 'yesterday', 'manager', 'agreement', 'musical', 'Russian', 'features', 'lives', 'speed', 'spread', 'operations', 'offer', 'forced', 'expression', 'desire', 'term', 'regular', 'drink', 'apartment', 'mentioned', 'studied', 'Sam', 'session', 'atmosphere', 'add', 'enter', 'teacher', 'reports', 'opposite', 'reality', 'fast', 'maximum', 'differences', 'union', 'Its', 'neck', 'picked', '-', 'citizens', 'someone', 'battle', 'bill', '100', 'laid', 'crisis', 'bright', 'secret', 'Providence', 'edge', 'poems', 'looks', 'river', 'district', 'traditional', 'smaller', 'anode', 'reduced', 'train', 'believed', 'favor', 'winter', 'director', 'strange', 'Club', 'editor', 'Commission', 'Council', 'watch', 'procedure', 'literary', 'beside', 'bottle', 'School', 'classes', 'index', 'formed', 'economy', 'B.', 'buildings', 'follows', 'fresh', 'response', 'rules', 'receive', 'separate', 'address', 'difficulty', 'France', 'file', 'treated', 'Red', 'memory', 'removed', 'killed', 'stayed', 'hearing', 'justice', 'presence', 'permit', 'vote', 'Jr.', 'Virginia', 'hospital', \"he'd\", 'Other', 'coffee', 'expressed', 'pointed', 'tone', 'Jewish', 'quiet', 'observed', 'ability', 'check', 'fit', 'seeing', 'security', 'failed', 'November', 'Berlin', 'watching', 'De', 'Army', 'nine', 'hell', 'discovered', 'contrast', 'faculty', 'twenty', 'knife', 'frame', 'selected', 'advantage', 'gain', 'Louis', 'wait', 'pulled', 'youth', 'everyone', 'Morgan', 'resources', 'official', 'Russia', 'store', 'murder', 'Because', 'Company', 'election', 'personnel', 'individuals', 'Jones', 'planned', 'assumed', 'standards', 'T', 'positive', 'familiar', 'detail', 'proved', 'accept', 'smiled', 'increasing', 'forth', 'items', 'Richard', 'chosen', 'legal', 'region', 'factor', 'writer', 'broke', 'brother', 'H.', 'faces', 'bar', 'responsible', 'dog', 'allow', 'Also', 'send', 'Rome', 'Mercer', 'San', 'round', 'sharp', 'platform', 'solid', 'corporation', 'evil', 'brief', 'carrying', 'county', 'daughter', 'April', 'Service', 'rose', 'wants', 'buy', 'levels', 'increases', 'suppose', 'otherwise', 'fields', 'realize', 'realized', 'seek', 'walls', 'shelter', 'nice', 'rich', 'leader', 'waited', 'rights', 'constant', 'Texas', 'vocational', 'die', 'club', 'willing', 'boat', 'ordered', 'Board', 'won', 'Before', 'Monday', 'rule', 'characteristic', 'completed', 'Democratic', 'Khrushchev', 'historical', 'connection', 'minimum', 'animal', 'poet', 'danger', 'settled', 'flow', 'Those', 'dust', 'calls', 'principles', 'lips', 'drawn', 'horses', 'foot', 'sweet', 'writers', 'fair', 'compared', 'maybe', 'statements', 'wine', 'largely', 'answered', 'career', 'yourself', 'appropriate', 'Paris', 'actions', 'thick', 'excellent', 'powers', 'legs', 'beauty', 'asking', 'occurred', 'Saturday', 'plus', 'Moreover', 'camp', 'dogs', 'ordinary', 'ends', 'potential', 'Du', 'significance', 'background', 'unity', 'dress', 'ourselves', 'helped', 'policies', 'July', 'upper', 'issues', 'flat', 'practical', 'Hanover', 'independent', 'phase', 'dry', 'substantial', 'fingers', 'rain', 'relief', 'box', 'reference', 'initial', 'impact', 'signs', 'quick', 'block', 'intellectual', 'directed', 'division', 'chair', 'despite', 'ought', 'twice', 'emotional', 'declared', 'telephone', 'weather', 'membership', 'sections', \"He's\", 'Though', 'projects', 'D.', 'brown', 'plays', 'wore', 'educational', 'imagination', 'California', 'search', 'adequate', 'Maybe', 'rapidly', 'electronic', 'claims', 'employees', 'politics', 'gets', 'supposed', 'hung', 'estimated', 'sit', 'measured', 'Phil', 'Peace', 'leading', 'Bill', 'fashion', 'desk', 'beat', 'stands', 'warm', 'communication', 'matters', 'empty', 'gray', 'object', 'clean', 'objects', 'protection', 'families', 'wonder', 'Day', 'Laos', 'reasonable', 'capable', 'bodies', 'aircraft', 'application', 'teachers', 'discussed', 'grew', 'site', 'approximately', 'cell', 'happen', 'yards', 'drew', 'fighting', 'King', 'fifty', 'belief', 'birth', 'argument', 'Tom', 'China', 'aspects', 'located', 'spiritual', 'jury', 'message', 'Parker', 'ancient', 'broken', 'jobs', 'grow', 'explain', 'Jesus', 'universe', 'primarily', 'closely', 'holding', 'contemporary', 'typical', 'model', 'sleep', \"one's\", 'dominant', 'newspaper', 'arrived', 'assignment', 'unusual', 'relation', 'mission', 'recognize', 'passing', 'December', 'struggle', 'honor', 'turning', 'M.', '9', 'greatly', 'powerful', 'reduce', 'cutting', 'billion', 'highest', 'kill', 'towards', 'assume', 'dramatic', 'achieved', 'north', 'benefit', 'resolution', '11', 'fellow', 'drove', 'Wilson', 'sufficient', 'affairs', 'pictures', 'portion', 'agencies', 'wind', 'narrow', 'friendly', 'Greek', 'properties', 'Boston', 'weapons', 'procedures', 'homes', 'post', 'department', '50', 'liberal', 'U.', 'Are', 'master', 'escape', 'prices', 'soft', 'starting', 'European', 'showing', 'conference', 'Sir', 'teaching', 'R.', 'page', 'speech', 'rising', 'column', 'stared', 'learning', 'machinery', 'refused', 'commercial', \"he's\", 'sets', 'everybody', 'experiment', 'goal', 'extreme', 'onto', 'vast', 'experiments', 'location', 'traffic', 'contained', 'careful', 'closer', 'feelings', 'Finally', 'pleasure', 'join', 'nose', 'dream', 'save', 'Who', 'Friday', 'fourth', \"you'll\", 'maintain', 'domestic', 'existing', 'sensitive', 'Under', 'F.', 'Bible', 'exchange', 'Sometimes', 'exist', 'score', 'task', 'shoulder', 'conclusion', 'heavily', 'finds', 'eat', 'ended', 'contract', 'struck', 'headed', 'equally', 'organizations', 'Negroes', 'south', 'tomorrow', 'Central', 'ideal', 'novel', 'rifle', 'maintenance', 'ultimate', 'setting', 'concerning', 'formula', 'technique', 'cool', \"You're\", 'India', 'tests', 'emphasis', 'circle', 'understood', 'metal', 'exercise', 'useful', 'safe', 'sexual', 'busy', 'lie', 'smile', 'stories', 'wondered', 'District', 'Nations', 'possibly', 'neighborhood', 'liked', 'command', 'parties', 'establish', 'Tuesday', 'slow', 'Roman', 'judgment', 'duty', 'occasion', 'Dallas', 'uses', 'courses', 'lose', 'etc.', 'Administration', 'talked', 'army', 'roof', 'plants', 'appeal', 'alive', 'streets', 'shook', 'details', 'fairly', 'Three', 'enjoyed', 'goods', 'associated', 'taste', 'songs', 'aside', 'guests', 'pale', 'appearance', 'drop', 'combination', 'somehow', 'apparent', 'Lewis', 'Fig.', 'keeping', 'fat', 'continuing', 'unique', 'contact', 'Section', 'Every', 'processes', 'requires', 'Senate', 'baby', 'painting', 'Congo', 'charged', 'permitted', 'Great', 'budget', 'causes', 'majority', 'achievement', 'chemical', 'electric', 'Man', 'solution', 'song', 'September', 'shop', 'loved', 'becoming', 'Chinese', 'truly', 'tree', 'signal', 'entrance', \"There's\", 'culture', 'sky', 'wage', 'avoid', 'tension', 'headquarters', 'bought', 'academic', 'apply', 'represented', 'repeated', '14', 'entitled', 'providing', 'Palmer', 'officials', 'organized', 'spite', 'advance', 'thirty', 'surprised', 'intensity', 'minds', 'competition', 'informed', 'Among', 'evident', 'spot', 'demands', 'begins', 'device', 'extended', 'Your', 'yes', 'scale', 'artist', 'regarded', 'afraid', 'Joseph', 'win', 'Britain', 'critical', 'replied', 'soldiers', 'truck', 'theme', 'perfect', \"she'd\", 'previously', 'credit', 'hat', 'mine', 'runs', 'Like', 'firms', 'wished', 'Martin', '18', 'Joe', 'kid', 'travel', 'identity', 'vision', 'joined', 'confidence', 'conducted', 'notice', 'sought', 'item', 'naturally', 'hole', 'wheel', 'rock', '16', 'components', 'dictionary', 'text', 'double', 'vital', 'rooms', 'unable', 'notes', 'pure', 'supported', 'improved', 'L.', 'bank', 'symbol', 'positions', 'Republican', 'attend', 'motion', 'Smith', 'roads', 'victory', 'seat', 'trained', 'worry', 'grounds', 'sample', 'Jews', 'divided', 'minute', 'games', 'prove', 'negative', 'conduct', 'bear', 'Nothing', 'flowers', 'suggest', 'absence', 'imagine', 'create', 'January', 'Japanese', 'properly', 'spend', 'orders', 'sin', 'inner', 'granted', 'assigned', 'leg', 'draw', 'depth', 'wonderful', \"there's\", 'percent', 'largest', 'disease', 'generation', 'description', 'motor', 'chest', 'experienced', 'experiences', 'windows', 'tall', 'beneath', 'loose', 'risk', 'huge', 'pushed', 'p.m.', 'No.', 'Hudson', 'guess', 'Alfred', 'bedroom', 'yellow', 'U.N.', 'decisions', 'baseball', 'phone', 'soil', 'Indian', 'content', 'sounds', 'flesh', 'establishment', 'element', 'widely', 'vehicles', 'title', 'forget', 'acting', 'pick', 'dozen', 'payment', 'wagon', 'troops', 'introduced', 'grass', 'machines', 'bitter', 'crowd', 'August', 'centers', 'driving', 'developing', 'Los', 'plenty', 'laughed', 'waves', 'wild', 'conflict', 'nodded', 'situations', 'David', 'achieve', 'Protestant', 'snow', 'thoughts', 'handle', 'Still', 'necessarily', 'Arthur', 'animals', 'wet', 'stages', 'approval', 'slight', 'Table', 'putting', 'angle', 'characteristics', 'begun', 'agree', 'governments', 'views', 'raise', 'telling', 'correct', 'abroad', 'stream', 'shoulders', 'breakfast', 'October', 'wood', 'advanced', 'mark', 'Philadelphia', 'conversation', 'uniform', 'conviction', 'Have', 'extremely', 'Latin', 'housing', 'breath', 'expense', 'interpretation', 'Eisenhower', 'practices', 'elections', 'remove', 'easier', 'D', 'Did', 'detailed', 'mention', 'brilliant', 'extra', 'Massachusetts', 'proud', 'devoted', 'noticed', 'Warren', 'pull', 'pair', 'rear', 'faced', 'surprise', 'issued', 'desired', 'walking', 'advice', 'taught', 'silent', 'papers', 'millions', 'fill', 'publication', 'About', 'sick', 'convinced', 'cultural', 'employed', 'consideration', 'firmly', 'colors', 'childhood', 'minor', 'request', 'trust', 'depends', 'incident', 'television', 'hopes', 'moon', 'conventional', 'operator', 'tendency', 'Therefore', '13', 'towns', 'administrative', 'wooden', 'tiny', 'west', 'Co.', 'maintained', 'measurements', 'finding', 'opportunities', 'measures', 'operate', 'park', 'acceptance', 'impressive', 'tired', 'suit', 'Hearst', 'attitudes', 'Charlie', 'moments', 'valley', 'agency', 'gold', 'driver', 'remarks', 'knowing', 'speaking', 'formal', 'leaves', 'cry', 'swung', 'creative', 'estate', 'lady', 'chain', 'destroy', '24', 'advertising', 'chairman', 'comparison', 'choose', 'worse', 'efficiency', 'quietly', 'rolled', 'passage', '1957', 'female', 'de', 'fifteen', 'poem', 'hoped', 'Moscow', 'limit', 'plain', 'shooting', 'liquid', 'detective', 'soul', 'internal', 'P', 'denied', 'patterns', 'Angeles', 'integration', 'payments', 'fundamental', 'testimony', 'version', 'village', 'mere', 'examples', 'concentration', 'Black', '21', 'engine', 'somewhere', 'deny', 'burning', 'library', 'Fort', 'tragedy', 'drinking', 'dear', 'unknown', 'vacation', '23', 'aspect', 'Lincoln', 'boats', 'skin', 'railroad', 'Cuba', 'garden', 'screen', 'bonds', 'stone', 'sold', 'apart', 'silence', 'personality', 'practically', 'Italian', 'periods', 'remarkable', 'expenses', 'lights', 'Q', 'welfare', 'creation', 'conscious', 'partly', 'rural', 'League', 'congregation', 'wearing', 'hero', 'decade', '1954', 'anger', 'resistance', 'threw', 'minister', 'numerous', 'review', 'Wright', 'nobody', 'movements', '60', 'Mantle', 'contrary', 'difficulties', 'equivalent', 'strike', 'association', 'Blue', 'Civil', 'percentage', 'missile', 'centuries', 'till', 'models', 'fears', 'recommended', 'seriously', 'Junior', 'identified', 'humor', 'blind', 'independence', 'Park', 'losses', 'birds', 'artery', 'pink', 'trend', 'fiction', 'stairs', 'wave', 'executive', 'Georgia', 'article', 'interior', 'precisely', 'functions', '22', 'concrete', 'Frank', 'engaged', 'provision', 'Africa', 'opposition', 'intended', 'welcome', 'Hall', 'courts', 'Watson', 'sports', 'somebody', 'contain', 'civil', 'ride', 'please', 'medium', 'cast', 'February', 'feels', 'depend', 'impression', 'target', 'containing', 'load', 'shut', 'shares', 'referred', 'sorry', 'promised', 'curve', 'governor', 'Alexander', 'Edward', 'preparation', 'honest', 'Society', 'encourage', 'Institute', 'twelve', 'diameter', 'Pennsylvania', 'luck', 'panels', 'curious', 'promise', 'adopted', 'safety', 'fought', 'meat', 'native', 'bills', 'precision', 'supplies', 'expansion', 'sheet', 'weakness', 'includes', 'See', 'Medical', 'Big', 'Lucy', 'amounts', 'milk', 'employment', 'intelligence', 'Hans', 'climbed', 'Asia', 'sum', 'arranged', 'mounted', 'expensive', 'thickness', 'suffering', 'cup', 'boards', 'lies', 'accomplished', 'path', 'cross', 'captain', 'relative', 'admitted', 'sale', 'instrument', 'offers', 'band', 'calling', 'taxes', 'thousands', 'mold', 'slaves', 'burden', 'opinions', 'considerably', 'qualities', 'pounds', 'elsewhere', 'charges', 'shoes', 'Manchester', 'answers', 'Instead', 'terrible', 'legislation', 'singing', 'odd', 'Five', 'agent', 'valuable', 'approached', 'Adam', 'dangerous', 'environment', 'confusion', 'lovely', 'resulting', 'comfort', 'Mama', 'Hotel', 'interference', 'fun', 'explanation', 'occur', 'recognition', 'drama', 'lawyer', 'expenditures', 'bond', 'grown', 'Little', 'reader', 'nearby', 'Motors', 'P.', 'coat', 'artists', 'violence', 'ice', 'saved', 'lifted', 'confused', 'insisted', 'rapid', 'contribute', 'Any', 'eventually', 'driven', 'separated', 'readily', 'collected', 'count', 'essentially', 'fired', \"you've\", 'consists', 'darkness', 'Him', 'Indeed', 'believes', 'gradually', 'purchase', 'warning', 'emotions', 'oxygen', 'investigation', 'riding', 'flight', 'Lake', 'warfare', 'revolution', 'Class', 'i.e.', 'Again', 'dollar', 'automobile', 'concerns', 'Figure', 'enjoy', 'guy', 'washing', 'recorded', 'Nevertheless', 'smooth', 'raw', 'suffered', 'exists', 'spirits', 'fund', 'origin', 'obtain', 'varied', 'bag', 'catch', 'crossed', \"ain't\", 'reactions', 'angry', 'shore', 'Without', 'tend', 'mile', 'excess', 'increasingly', 'reflected', 'dirt', 'east', 'wisdom', 'identification', 'Place', 'seeking', 'wages', 'snake', 'pilot', 'porch', 'cloth', 'Adams', 'particles', 'bound', 'appointed', 'La', 'liquor', 'brain', 'foods', 'heads', 'weapon', 'sufficiently', 'possibilities', 'touched', 'helping', 'hate', 'acres', 'pace', 'mail', 'G.', 'Anne', 'switch', 'arts', 'Linda', 'pocket', 'replaced', 'author', 'Time', 'distinct', 'core', 'Rachel', 'listed', 'editorial', 'continues', 'extensive', 'ease', 'involves', 'Carl', 'describe', 'ships', 'Defense', 'salary', 'varying', 'distinction', 'comment', 'residential', 'Captain', 'hundreds', 'Kate', 'dealing', 'insurance', \"Let's\", 'mental', 'errors', 'constantly', 'continuous', 'loan', \"'em\", 'wire', 'remaining', 'tour', 'favorite', 'Francisco', 'Henrietta', 'urban', 'match', 'developments', 'holds', 'distinguished', 'tissue', 'storage', 'teach', 'visited', 'Will', 'communities', 'volumes', 'dancing', 'Besides', 'salt', 'opposed', 'psychological', 'democratic', 'reduction', 'pleased', 'shift', 'brush', 'Division', 'spending', 'Office', '17', 'proposal', 'Come', 'bread', 'Illinois', 'manufacturers', 'limits', 'universal', 'neighbors', 'Commerce', 'pride', 'shouted', 'long-range', 'Last', 'stepped', 'shared', 'focus', 'atoms', 'liberty', 'ring', 'threat', 'removal', 'demanded', 'younger', 'guns', 'Walter', 'sell', 'prominent', 'smoke', 'finger', 'writes', 'virtually', 'Gross', 'talent', 'permanent', 'Later', 'societies', 'Bob', 'arc', 'thrown', 'Democrats', 'notion', 'burned', 'cooling', 'painted', 'composed', 'discover', 'indicates', 'marine', 'shear', 'throw', 'skill', 'steady', 'rough', 'Papa', 'prior', 'joy', 'throat', '40', 'forest', 'Atlantic', 'prison', 'marketing', 'Winston', 'rare', 'Uncle', 'Does', 'Orleans', 'display', 'seed', 'changing', 'existed', 'investment', 'missed', 'brings', 'fed', 'representative', 'everywhere', 'orchestra', 'happens', 'parallel', 'rode', 'afford', 'exception', 'provisions', 'rarely', 'anybody', 'objectives', \"o'clock\", 'downtown', 'transportation', 'award', 'allotment', 'represents', 'Good', 'revealed', 'attractive', 'surely', 'Communists', 'TV', 'express', 'derived', 'visual', 'automatic', 'inch', 'assured', 'regarding', 'trials', 'recall', 'Rayburn', 'anxiety', 'bars', 'offices', 'electrical', 'striking', 'Judge', 'Long', 'colleges', 'Attorney', 'Justice', 'necessity', 'muscle', 'languages', 'secretary', 'deeply', 'Life', 'participation', 'Lawrence', 'stranger', 'defined', 'funny', 'musicians', 'Mississippi', 'sake', 'legislative', 'glance', 'intense', 'Avenue', 'engineering', 'destroyed', 'considering', 'customers', 'Air', 'determination', 'communism', 'combined', 'Several', 'contributed', 'Out', 'comparable', 'controlled', 'lots', 'Education', 'dependent', 'reaching', 'gained', 'turns', 'Constitution', 'selection', 'agents', 'tables', 'voices', 'judge', 'represent', 'theater', 'transfer', \"father's\", 'holes', 'Actually', 'mostly', 'handed', 'contains', 'nineteenth', 'copy', 'studying', 'International', 'assumption', 'bringing', 'Today', 'sudden', 'primitive', 'Within', 'candidates', 'institution', 'Robinson', 'engineer', 'leaned', 'soldier', 'Japan', 'Pike', 'Thompson', 'external', 'Bay', 'mankind', '31', 'brothers', 'tool', 'Cousin', 'relationships', 'decide', 'Treasury', 'criticism', 'knees', 'Research', 'goals', 'Despite', 'eleven', 'thoroughly', 'guidance', 'flying', 'steel', 'scheduled', 'satisfactory', 'Governor', 'atomic', \"What's\", 'Was', 'Ohio', '200', \"God's\", \"We'll\", 'sharply', 'doctrine', 'corresponding', 'hill', 'hydrogen', 'Paul', 'fail', 'ages', 'anyway', 'strongly', 'listening', 'Roberts', 'chapter', 'illusion', 'sleeping', 'comfortable', 'enormous', 'anywhere', \"they're\", 'Would', 'authorized', 'forever', 'drawing', 'Chief', 'innocent', 'species', 'stronger', 'Much', 'conscience', 'serving', 'skills', 'distant', 'atom', 'stomach', 'deeper', 'admit', 'Holmes', 'organic', 'ears', 'pressures', 'briefly', 'track', 'iron', 'tremendous', 'improvement', 'newspapers', 'E', 'devices', 'handsome', 'finish', 'Roy', 'Public', 'civilization', 'tested', 'reply', 'destruction', 'magic', 'assure', 'Susan', 'constructed', 'swimming', 'male', 'approved', 'Center', 'handling', 'blocks', 'forgotten', 'regional', 'profession', 'hills', 'Senator', 'R', 'delivered', 'arrangements', 'belong', 'improve', 'resulted', 'noise', 'formation', 'furniture', 'thyroid', 'questionnaire', 'foam', 'edges', 'stick', 'chose', 'comedy', 'acts', 'fool', 'prime', 'restaurant', 'signed', 'Furthermore', 'Times', 'Journal', 'attempts', 'Jackson', 'mystery', 'accompanied', 'host', 'peoples', 'intention', 'cooperation', 'contribution', 'moves', 'crew', 'equipped', 'authorities', 'Spanish', 'specifically', 'effectively', 'managed', 'occupied', 'mixed', 'High', 'instant', 'supplied', 'completion', 'definite', 'observations', 'kinds', 'error', 'cleaning', 'feature', 'images', 'Peter', 'symbols', 'maturity', 'staining', 'random', 'seeds', \"year's\", 'desirable', 'edition', 'release', 'People', 'substantially', 'Jim', 'plot', 'variable', 'waters', 'Hardy', 'license', 'severe', 'attended', 'districts', 'stored', 'beings', 'dressed', 'accounts', 'push', 'aim', 'Nor', 'coating', 'mood', 'schedule', 'spoken', 'Maris', 'hurt', 'characters', 'ratio', 'Chapter', 'affected', 'glad', 'guide', 'serves', 'recreation', 'Stanley', 'Matsuo', 'Jane', 'Atlanta', 'bombs', 'Hospital', 'Republic', 'jumped', 'outstanding', 'wear', 'worried', 'over-all', 'sees', 'doors', 'calculated', 'grade', 'automatically', 'experts', 'Conference', 'personally', 'output', 'guard', 'outlook', 'Look', 'technology', 'Pope', 'probability', 'yield', 'sequence', 'installed', 'Pont', 'sympathetic', 'eggs', 'claimed', 'tough', 'classic', 'regions', 'waste', 'accurate', 'grant', 'producing', 'prepare', 'patients', 'satisfied', 'inevitably', 'pleasant', 'readers', 'consequences', 'concert', 'Clark', 'agricultural', 'conclusions', 'phenomenon', 'paint', 'tongue', 'visiting', 'dirty', \"we're\", 'sounded', \"haven't\", 'Wednesday', 'accuracy', 'mad', '1962', 'disappeared', 'symbolic', 'challenge', 'consumer', 'Part', 'western', 'visible', 'nationalism', 'binomial', 'scholarship', 'Hill', 'dignity', 'lying', 'tells', 'tools', 'washed', 'sacred', 'coast', 'definition', 'myth', 'owned', 'stores', 'affect', 'mistake', 'Harvard', 'presumably', 'patent', 'multiple', 'tonight', 'emotion', 'exposed', 'filling', 'Earth', 'estimate', 'frequent', 'urged', 'swept', 'height', 'reasonably', 'Lee', 'self', 'tied', 'performed', 'mountains', 'bus', 'owners', 'illustrated', 'sister', 'axis', 'sending', 'isolated', 'Sept.', 'Samuel', 'sad', 'visitors', 'candidate', 'camera', 'calm', 'sir', 'drunk', 'row', 'normally', 'blame', 'meets', 'worship', 'tends', 'latest', 'Johnson', 'clerk', 'Can', 'clouds', 'alternative', 'dispute', 'decades', \"today's\", 'guest', 'raising', 'thereby', 'lists', 'paintings', 'processing', 'vary', 'realistic', 'logical', 'Canada', 'Harry', 'Baker', 'extension', 'bigger', 'retired', 'Neither', 'openly', 'preserve', 'Italy', 'bent', 'protect', 'stretched', 'pencil', 'Four', 'smell', 'context', \"mother's\", 'reception', 'desegregation', 'mechanical', 'suggestion', 'genuine', 'sympathy', 'listen', 'guilt', 'discovery', 'Catholics', 'benefits', 'cash', 'findings', 'gate', 'tragic', 'worst', 'survive', 'Andy', 'badly', 'unlike', 'Prokofieff', 'Jess', 'blow', 'scheme', 'massive', 'involving', 'demonstrated', 'grave', 'vehicle', 'sentence', 'inevitable', 'examine', 'folk', 'fewer', 'determining', 'affair', 'cards', 'equation', 'Supreme', 'leads', 'fallen', 'Never', 'Be', 'wash', 'suitable', 'alert', 'parked', 'Early', 'hunting', 'advised', 'healthy', 'phrase', 'beach', 'bone', 'knee', 'neutral', 'route', 'attempted', 'chlorine', 'seldom', 'Thursday', 'arrangement', 'routine', 'succeeded', 'presents', 'sugar', 'quantity', 'emergency', 'missing', 'performances', 'Take', 'bomb', 'admission', 'owner', 'favorable', 'branches', 'dying', 'namely', 'wise', 'roles', 'yard', 'filed', 'jacket', 'Too', 'connected', 'experimental', 'rejected', 'Poland', 'damage', 'Player', 'crime', 'tears', 'slipped', 'strictly', 'accident', 'suffer', 'cooking', 'Mark', 'proof', 'hurry', 'courage', 'stems', 'occasional', 'weak', 'forty', 'returning', 'e.g.', 'adjustment', 'fruit', 'covers', 'crowded', 'Holy', 'financing', 'awareness', 'interview', '26', 'Second', 'kids', 'reporters', 'occasionally', 'efficient', 'presentation', 'magazine', 'household', 'collective', 'duties', 'partner', 'F', 'burst', 'Indians', 'violent', \"world's\", 'fly', 'promote', 'Lady', 'joint', 'Pat', 'lunch', 'chicken', 'Next', 'initiative', 'Harold', 'bride', '19', 'instructions', 'artistic', 'testing', 'covering', 'reflection', 'regardless', 'remote', 'gathered', 'effectiveness', 'circles', 'beer', 'conception', 'currently', 'grace', 'simultaneously', 'island', 'Square', \"child's\", 'ocean', 'Chandler', 'variation', 'crazy', 'concluded', 'remarked', 'Howard', 'gift', 'smiling', 'Scotty', 'Castro', 'Williams', 'elected', 'gesture', 'Gorton', 'inadequate', 'measurement', 'highway', 'receiving', '**zg', \"nation's\", 'shouting', 'locking', 'knocked', 'slavery', 'nevertheless', 'perfectly', 'corn', 'ending', 'ceiling', 'pages', 'poets', 'elaborate', 'emission', 'allowing', 'Dave', 'tossed', 'thermal', 'N', 'stuff', 'mature', 'fish', 'density', 'considerations', 'whereas', 'columns', 'discussions', 'poetic', 'Field', 'involve', 'armed', 'decline', 'returns', 'composer', 'ruled', 'dancer', 'Via', 'Had', 'saline', 'survey', \"aren't\", 'remark', 'counties', 'winning', 'Poet', 'Russians', 'barely', 'successfully', 'mud', 'Navy', 'so-called', 'fallout', 'senior', 'nights', 'excitement', 'respectively', 'quarter', 'frequencies', 'muscles', 'chamber', 'panel', 'strain', 'Kansas', 'long-term', 'printed', 'Communism', 'Pacific', 'gently', 'identical', 'spots', 'wedding', 'precise', 'Christianity', 'depending', '1952', 'naked', 'tape', 'skywave', 'invariably', 'facing', 'checked', 'parking', 'secondary', 'Prince', 'counter', 'Curt', 'enterprise', 'protected', 'transition', 'worker', 'temporary', 'reducing', 'excessive', 'widespread', 'Alex', 'Force', 'softly', 'piano', 'blanket', 'expert', 'historian', 'campus', 'eating', 'impressed', 'meal', 'farther', 'dates', 'conservative', 'heading', 'Sharpe', 'Franklin', 'occurrence', 'listened', 'Something', 'shock', 'confronted', 'tube', 'encountered', 'lumber', 'troubled', 'suspect', 'letting', 'selling', 'Mayor', 'Miriam', 'starts', 'Eddie', 'concentrated', 'absolute', 'ranging', 'romantic', 'Louisiana', 'crucial', 'complicated', 'sponsored', 'Dartmouth', 'reveal', 'matching', 'Over', 'Shakespeare', 'cuts', 'net', 'Van', 'stable', 'divine', 'network', 'whenever', 'Through', \"You'll\", 'Business', 'Rector', 'surprising', 'Johnny', 'Labor', 'skilled', 'abstract', 'Get', 'supper', 'substance', 'stem', 'scientists', 'instances', 'universities', 'survival', 'slave', 'competitive', 'falling', 'preceding', 'films', 'Professor', 'Woodruff', 'articles', 'fence', 'football', 'et', 'flux', 'extraordinary', 'virtue', 'superior', 'basement', 'markets', 'roll', 'movies', 'suspended', 'beef', 'mixture', 'consequence', 'Felix', 'lightly', 'Sen.', 'secure', 'grand', 'trips', 'sciences', 'transferred', 'trail', 'fishing', 'buying', 'Carleton', 'perform', 'Armed', 'Sherman', 'loans', 'entertainment', 'sewage', 'grinned', 'argued', 'utility', 'guilty', 'suggests', 'suburban', 'morality', 'Republicans', 'Brannon', 'hence', 'creating', 'shadow', 'replace', 'shots', 'According', 'Hence', 'furnish', 'Juniors', 'glasses', 'Assembly', 'era', 'recording', 'exciting', 'divorce', 'ethical', 'dancers', 'residence', 'modest', 'poured', 'delight', 'junior', 'signals', 'ear', 'dealers', 'constitute', 'comments', 'proportion', 'argue', 'fate', 'pressed', 'ignored', 'mainly', 'Bank', 'Others', 'O.', 'lesson', 'unconscious', 'movie', 'tasks', 'asleep', 'Industrial', 'barn', 'threatened', 'Ann', 'helpful', 'p', 'Morse', 'colored', 'extend', 'shorts', 'radical', 'cotton', 'Albert', 'purely', 'helps', 'strip', 'magnitude', 'Mickey', 'reminded', 'Brooklyn', 'evaluation', 'hoping', 'scenes', 'measuring', 'missiles', 'sang', 'consciousness', 'controls', 'bronchial', 'split', 'Until', 'deliberately', 'commonly', 'citizen', 'fabrics', 'colony', 'voting', 'mechanism', 'wound', 'locked', 'plastics', 'Harris', 'laugh', 'discuss', 'offering', 'anxious', 'calendar', \"They're\", 'happening', 'Hal', 'demonstrate', 'representing', 'meetings', 'Roosevelt', 'specified', 'ballet', 'Yankees', 'structures', 'extending', 'introduction', '1955', 'southern', 'examined', 'newly', 'sand', 'coal', 'surfaces', 'Oct.', 'debate', 'cure', 'Santa', 'encouraged', 'libraries', 'satisfaction', 'peculiar', 'consistent', \"you'd\", 'profit', 'tight', 'warmth', 'sovereign', 'plastic', 'jurisdiction', 'pot', 'verse', 'defeat', 'polynomial', 'quarters', 'electronics', 'fourteen', 'talents', 'root', 'committed', 'industries', 'drugs', 'sensitivity', 'closing', 'optimal', 'lighted', 'Suppose', 'branch', 'contributions', 'unions', 'African', 'absent', 'Whether', 'solutions', 'electron', 'propaganda', 'classical', 'dimensions', '1956', 'apparatus', 'gay', 'vigorous', 'bench', 'graduate', 'questioned', 'innocence', 'expanding', 'sovereignty', 'Irish', 'pound', 'Ramey', 'studio', \"let's\", 'carbon', 'fled', 'N.', 'false', 'silver', 'tons', 'cow', 'arise', 'losing', 'rendered', 'enthusiasm', 'marks', 'witness', 'encounter', 'bare', 'hated', 'paused', 'Nobody', 'Interior', 'shapes', 'Beach', 'clarity', 'sacrifice', 'laughing', 'minimal', 'powder', 'upstairs', 'refer', 'associations', 'finance', 'profound', 'Christmas', 'seconds', 'Fred', 'examination', 'exclusive', 'discipline', 'Legislature', 'shade', 'proposals', 'flew', 'responses', 'consisting', 'engineers', 'friendship', 'horizon', 'representatives', 'V', 'gentle', 'prefer', 'surplus', 'merit', 'tea', 'holder', 'Marshall', 'samples', 'Germans', 'sing', 'scope', 'formerly', 'T.', 'operated', 'Dan', 'delicate', 'shoot', 'prevented', 'municipal', 'recovery', 'subsequent', 'dining', 'a.m.', 'combat', 'pulmonary', 'observation', 'maintaining', 'voted', 'damn', 'Coast', 'gathering', 'Myra', 'utterly', 'requirement', 'fees', 'exact', 'professor', 'limitations', 'clinical', 'applying', 'Dean', 'advantages', 'commission', 'acquire', 'insist', 'Shayne', 'council', 'prestige', 'distributed', 'outer', 'Clayton', 'salvation', 'ecumenical', 'opera', 'Davis', 'regulations', 'passes', 'permits', 'imagined', 'absolutely', 'maid', 'scattered', 'rushed', 'Delaware', 'veteran', 'Newport', 'reputation', 'pistol', 'occurs', 'mirror', 'Jefferson', 'drying', 'ladies', 'mighty', 'territory', 'Greenwich', 'Revolution', 'Men', 'slept', 'mountain', 'Forces', 'marriages', 'golf', 'doctors', 'weekend', 'diplomatic', 'Cady', 'Julia', 'grain', 'upward', 'Hughes', 'thanks', 'Obviously', 'reserved', 'dull', 'pursuant', 'perception', 'fiber', 'permission', 'passion', 'restrictions', 'bullet', 'corps', 'pointing', 'released', 'lively', 'critics', 'butter', 'unhappy', 'Jew', 'dreams', 'delightful', 'velocity', 'Science', 'Certainly', 'Palfrey', 'handled', 'staring', 'humanity', 'submarine', 'frightened', 'appreciate', 'compare', 'altogether', 'preferred', 'storm', 'paying', 'frames', 'Almost', 'tangent', 'Johnnie', 'Pathology', 'customer', 'victim', 'phenomena', 'reform', 'Bureau', 'Virgin', 'Young', 'overcome', 'invited', 'reserve', \"Kennedy's\", 'journey', 'mysterious', 'Mitchell', '1953', 'perspective', 'presently', 'cellar', 'identify', 'belt', 'builder', 'marginal', 'eternal', 'Colonel', 'anti-trust', 'inherent', 'reorganization', 'ranch', 'Middle', 'acquired', 'instruction', '27', 'gyro', 'injury', \"She's\", 'fellowship', 'justify', 'sophisticated', 'appointment', 'recalled', 'concepts', 'Greg', 'placing', 'Billy', 'disturbed', 'meals', 'legend', 'farmers', 'outcome', 'magnificent', 'Coolidge', 'climate', 'Eileen', 'stockholders', 'suspicion', \"we'll\", 'Patchen', 'vice', 'approaching', 'eager', 'gross', 'Arlene', 'disaster', 'funeral', 'enemies', \"We're\", 'royal', 'Forest', 'shopping', 'Zen', 'ours', 'Make', 'revenues', 'ill', 'attorney', 'variables', 'conceived', 'emerged', 'electricity', 'stained', 'aesthetic', 'shirt', 'quoted', 'threatening', 'cents', 'desperate', 'lacking', 'Helva', 'textile', 'Sarah', 'Agreement', 'frozen', 'literally', 'Ekstrohm', 'cried', 'card', 'judgments', 'establishing', 'trembling', 'controversy', 'Southerners', 'dried', 'publicly', 'players', 'sheets', 'stars', 'O', 'abandoned', 'painful', 'Probably', 'intelligent', 'volunteers', 'aboard', 'magazines', 'attacked', 'Eugene', 'Bang-Jensen', 'feeding', 'peaceful', 'continually', 'flexible', 'wars', 'SBA', 'scholars', 'Pittsburgh', 'exhibit', 'medicine', 'torn', 'traders', 'productive', 'exceptions', 'directions', 'rational', 'promptly', 'inspired', 'proceeded', 'golden', 'reflect', 'responsibilities', 'Speaker', 'Whatever', 'assist', 'observe', 'switches', 'Valley', 'gentleman', 'disk', 'Village', 'mothers', 'cloud', 'D.C.', 'generous', 'breaking', 'roughly', 'shelters', 'surrounding', 'eliminate', 'reaches', 'composition', 'destructive', 'subtle', 'Mother', \"O'Banion\", 'ritual', 'dawn', 'attached', 'sessions', 'landing', 'glanced', 'builders', 'oral', 'prevention', 'gear', 'Nick', 'laboratory', 'allowances', 'besides', 'entry', 'temperatures', 'Art', 'stretch', 'Use', 'intervals', 'communications', 'transformed', 'publicity', 'settlement', 'lonely', 'grateful', 'Son', 'Aug.', 'Carolina', 'demonstration', 'Nixon', 'bath', 'worthy', 'dilemma', 'component', 'Tim', 'attracted', '300', 'NATO', 'prospect', 'supporting', 'partially', 'bearing', 'suits', 'Wally', 'Tilghman', 'Houston', 'delayed', 'frontier', 'vivid', 'king', 'Owen', 'harm', 'hanging', 'approaches', 'vein', 'Director', 'bird', 'designs', 'charm', 'Alec', 'departments', 'repeat', 'fist', 'beard', 'Barton', 'shortly', 'instruments', 'mobile', 'accused', 'recommend', 'Title', '70', 'adult', 'aimed', 'parade', 'sitter', 'drill', 'contracts', 'commander', 'Broadway', 'expressing', 'Social', 'assembled', 'cycle', 'wishes', 'seized', 'Sure', 'pupils', 'specimen', 'Development', 'insure', 'rice', 'wines', 'exclusively', 'Economic', 'accomplish', 'continuity', 'woods', 'magnetic', 'Blanche', 'accurately', 'operational', 'nearest', 'announcement', 'retirement', 'Portland', 'Mexican', 'yours', 'faint', 'noon', 'tubes', 'nervous', 'probable', 'impressions', 'drivers', 'scarcely', 'absorbed', 'entering', 'fog', 'constitutional', \"they'd\", 'theological', 'arrive', 'speaker', 'march', 'rigid', 'wildly', 'hang', 'automobiles', 'viewed', 'tail', 'wings', 'interpreted', 'applications', 'firing', 'recommendation', 'prayer', 'cook', 'managers', 'chances', 'Independence', 'Mason', 'racial', 'promotion', 'functional', 'Further', 'Northern', 'access', 'peas', 'promising', 'backed', 'allies', 'critic', 'wherever', 'conductor', 'Small', 'detergent', 'realization', 'honored', 'wholly', 'nowhere', 'vague', 'Six', 'Puerto', 'Theresa', 'cited', 'Moore', 'cocktail', 'neighboring', 'Post', 'planes', 'hired', 'qualified', 'desires', 'contacts', 'correspondence', 'tended', 'phases', 'diffusion', 'Very', 'actor', 'consisted', 'Premier', 'contest', 'subjected', 'prospects', 'enthusiastic', 'chin', 'excuse', 'freight', 'dealer', 'categories', 'full-time', 'philosophical', 'tribute', \"You've\", 'Ford', 'slid', 'Jersey', 'Arts', 'heating', 'lawyers', 'Everything', 'dive', 'habit', 'lengths', 'cigarette', 'channels', 'cleared', 'refrigerator', 'registration', 'mathematical', 'unexpected', 'heaven', 'enable', 'factory', 'Casey', 'Hollywood', \"Brown's\", 'widow', 'hungry', 'beliefs', 'meaningful', 'discrimination', 'continuously', 'civilian', 'bore', 'Cook', 'furnished', 'imitation', 'twenty-five', 'sink', 'realism', 'exposure', 'dedicated', 'Jean', 'musician', 'empirical', 'Tennessee', 'compete', 'Suddenly', 'thinks', 'lands', 'arrival', 'Spencer', 'Quiney', 'norms', 'fortune', '29', \"He'd\", 'occupation', 'harder', 'jump', 'luncheon', 'relieved', 'Westminster', \"President's\", 'Soon', 'rocks', 'radar', 'weekly', 'suggestions', 'Onset', 'belly', 'genius', 'excited', 'anti-Semitism', 'pond', 'plug', 'Fogg', 'outdoor', 'incredible', 'coverage', 'grades', 'treat', 'generations', 'astronomy', 'controlling', 'killing', 'snakes', 'colleagues', 'regime', 'Presidential', 'Tell', 'fibers', 'historic', 'wounded', 'terror', 'falls', 'charming', 'noble', 'Gen.', 'northern', 'narrative', 'stressed', 'depression', 'bases', 'trace', 'hurried', 'saddle', 'Madison', 'barrel', 'part-time', 'midnight', 'giant', 'manufacturer', 'curiosity', 'System', 'stupid', 'leather', 'Foreign', 'Pete', 'folklore', 'justified', 'code', 'pack', 'assistant', 'stuck', 'league', 'whispered', 'Maggie', 'Symphony', 'explicit', 'lock', 'Ruth', 'settle', 'category', 'Daily', 'assumptions', 'estimates', 'wake', 'exercises', 'Douglas', 'adjusted', 'employee', 'authors', 'Press', 'cheap', 'substrate', 'Father', 'attempting', 'governmental', 'resumed', 'Testament', 'zero', 'trading', 'protest', 'Palace', 'Maryland', 'Should', 'reflects', 'degrees', 'searching', 'uneasy', 'novels', 'plaster', 'Law', 'overseas', 'cat', 'Anglo-Saxon', 'formulas', 'voluntary', 'appreciation', 'targets', 'casual', 'foams', 'dressing', 'drinks', 'chairs', 'reliable', 'uncertain', 'altered', 'troubles', 'mess', 'sharing', 'manufacturing', 'rank', 'adding', 'destiny', 'bridges', 'Spirit', 'adults', 'tractor', 'servants', 'Green', 'honey', 'bombers', 'Vienna', 'Victor', 'economical', 'worn', 'freely', 'exploration', 'deck', '0', 'amateur', 'Sandburg', 'thrust', 'implications', 'sighed', 'sticks', 'pressing', 'sentiment', 'souls', 'herd', \"she's\", 'hide', 'ward', 'successes', 'metropolitan', 'whisky', 'aids', 'Music', 'Article', 'laughter', 'carries', 'unfortunate', 'grows', 'melting', 'joke', 'conspiracy', 'valid', 'urethane', 'relevant', 'biggest', 'sphere', 'fault', 'convention', 'ambiguous', 'attending', 'traveled', 'tie', 'trucks', 'occasions', 'preparing', 'participate', 'Don', 'Affairs', 'surrender', 'registered', 'dealt', 'convenient', 'Student', 'expects', 'Bobbie', 'autumn', 'lift', 'displacement', 'frequency', 'bother', 'retained', 'possessed', \"shouldn't\", 'totally', 'resist', 'tip', 'obligations', 'plates', \"we'd\", 'posts', 'happiness', 'Rev.', 'steadily', 'Meanwhile', 'alienation', 'triumph', 'middle-class', 'respects', 'structural', 'assessment', 'democracy', 'anticipated', 'frank', 'rifles', 'earliest', 'Baltimore', 'pulling', 'Ralph', 'Deegan', 'select', 'belongs', 'spare', 'planets', 'capabilities', 'loaded', 'panic', 'Royal', 'yelled', 'eliminated', 'S', 'insects', 'suited', 'temple', 'intentions', 'ownership', 'describes', 'gang', 'complained', 'Miller', 'insight', 'fifth', 'Miami', 'engagement', 'sampling', 'evidently', 'Alaska', 'Elaine', 'warned', \"America's\", 'regularly', 'Century', 'oxidation', 'factories', \"B'dikkat\", 'boating', 'ideological', 'strategy', 'killer', 'Russ', 'hen', 'Marshal', 'Utopia', 'defend', 'investigations', 'tale', 'wheels', 'milligrams', 'charter', 'Johnston', 'Program', 'availability', 'certainty', 'Vermont', 'accepting', 'questioning', 'desperately', 'H', 'Home', 'behalf', 'Hoag', 'drawings', 'craft', 'urgent', 'concerts', 'backward', 'spectacular', 'pause', 'Wait', 'painter', 'shining', 'Morris', 'originally', 'Above', 'planetary', 'Consider', 'delay', 'luxury', 'rang', 'fluid', 'fortunate', 'shame', 'envelope', 'preliminary', 'nuts', 'Faulkner', 'particle', 'possession', 'neat', 'Joyce', 'protein', 'occurring', 'Apparently', 'hesitated', \"John's\", \"weren't\", 'Detroit', 'Which', 'balanced', 'linear', '1948', 'Being', 'characterized', 'Cromwell', 'miss', \"children's\", 'dances', 'classification', 'moderate', 'Steele', 'pertinent', 'Police', 'thank', 'persuaded', 'Shu', 'Lo', 'chiefly', 'cope', 'farmer', 'Ben', 'Taylor', 'Book', 'forming', 'Everyone', 'Warwick', 'teams', 'stern', \"patient's\", 'crack', 'Di', 'Queen', 'doubtful', 'rent', 'definitely', 'Nation', 'stiff', 'Wall', 'moreover', 'planet', 'assembly', 'reveals', 'Bobby', 'Reverend', 'recommendations', 'skirt', 'profits', 'mode', 'harmony', 'saving', 'addresses', 'statistics', 'smart', 'Go', 'Rock', 'stumbled', 'Capitol', 'Keith', 'rhythm', 'unlikely', '28', 'Podger', 'passengers', 'seated', 'Rico', 'Aristotle', \"We've\", 'computed', 'garage', 'inclined', 'lowered', 'heels', 'keeps', 'Could', 'corporations', 'pile', 'thorough', 'submitted', 'Mills', 'dishes', 'mutual', 'Penny', 'Kay', 'races', 'hits', 'obliged', 'substitute', 'bid', 'Completion', 'mate', 'arbitrary', 'Eastern', 'Party', 'Report', 'relatives', 'respond', 'despair', 'Note', 'governing', 'intimate', 'regiment', 'liberals', '34', 'meanings', 'racing', 'launched', 'mines', 'hearts', 'Philip', 'roots', 'Nov.', 'complement', 'hypothalamic', 'dynamic', 'Missouri', 'suspected', 'cabin', 'Hell', 'dare', 'Francis', 'Bridget', '1950', 'traditions', 'Michigan', 'loyalty', 'seventeen', 'Katanga', 'respectable', 'habits', 'Belgians', 'masses', 'crises', 'educated', 'Having', 'soap', 'ugly', 'displays', 'Maude', 'enjoyment', 'prospective', 'Vernon', 'conferences', 'Wagner', 'fans', 'Poor', 'replacement', 'Plato', 'struggling', 'enforced', 'anticipation', 'Allen', 'trends', 'Orchestra', 'intervention', 'motives', 'listeners', 'landscape', 'guided', 'orderly', 'lean', 'Major', 'distinctive', 'cream', 'crossing', 'temporarily', 'binding', 'ranks', \"hasn't\", 'Family', 'invention', 'figured', 'conditioned', '/', 'refund', 'indirect', 'Skyros', 'physiological', 'conversion', 'worries', 'cheek', 'flash', 'devil', 'grants', 'El', 'punishment', 'Opera', 'Corporation', 'forgive', 'breathing', 'converted', 'speeches', 'dedication', 'repair', 'Laura', 'guys', 'revolutionary', 'Spring', 'illness', 'fraction', 'monthly', 'banks', 'warrant', 'inventory', 'leaped', 'puts', '1949', 'merger', 'Freddy', 'Alabama', 'Pip', 'Upon', 'disposal', 'nerves', 'confirmed', 'probabilities', 'decent', 'votes', 'rehabilitation', 'pursue', 'lucky', 'Pa', 'Oedipus', '1946', 'package', 'patience', 'quarrel', 'impulse', 'crop', 'displayed', 'sidewalk', 'consequently', 'grains', 'expanded', 'grip', 'creatures', 'newer', 'melody', 'savage', 'encouraging', 'Often', 'wealth', 'relating', 'Michelangelo', 'shadows', 'negotiations', 'passages', 'pipe', 'patrol', 'alike', \"Christ's\", 'Dolores', 'input', 'attain', 'Heaven', 'solve', 'amazing', 'colorful', 'Notte', 'promises', 'similarly', 'sauce', 'sweat', 'clock', 'procurement', 'residents', 'queen', 'solely', 'lungs', 'Jan.', 'Fund', 'Volume', 'Swift', 'wit', 'gentlemen', 'naval', 'brushed', 'bowl', 'clothing', \"company's\", 'wondering', 'B.C.', 'Florida', 'brave', 'tent', 'Arnold', 'emphasize', 'crawled', 'greeted', 'Point', 'auto', 'sixth', 'grabbed', 'injured', 'fitted', 'transformation', 'Outside', 'heroic', 'vacuum', 'exhibition', 'urge', 'acceptable', 'motel', 'criminal', 'attacks', 'commodities', 'define', 'Feb.', 'Cathy', 'beam', 'Manhattan', 'Donald', 'Borden', 'crash', 'receives', 'Inc.', 'strongest', 'screw', 'pitch', 'pitcher', 'endless', 'suitcase', 'secrets', '1951', 'competent', 'blonde', 'Abel', 'diet', 'shaking', 'tire', 'taxpayers', 'bold', 'manage', 'helpless', 'fascinating', '75', 'accordance', 'responded', 'precious', 'peered', 'adjustments', \"city's\", 'suite', 'minority', 'slide', 'purchased', 'authentic', 'inspection', 'convictions', 'smelled', 'plate', 'surrounded', 'numerical', 'murderer', 'ultimately', 'cottage', 'pupil', 'whip', 'assessors', 'boots', 'theatre', 'trap', 'sailing', 'lighting', 'toes', 'Land', 'verbal', 'distinguish', 'addressed', 'bet', 'allows', 'dominated', 'rises', 'guards', 'lobby', 'Paula', 'demanding', 'explains', 'decisive', 'witnesses', 'affects', 'notable', 'register', 'retail', 'Seven', 'reporter', 'depths', 'stroke', 'bones', 'hotels', 'remainder', 'cholesterol', 'foil', 'bundle', 'respective', 'ignore', 'fractions', 'Killpath', 'Letch', 'Road', 'arrest', 'overwhelming', 'hatred', 'scared', 'Lane', 'motive', 'applies', 'happily', 'Shore', 'lacked', 'submarines', 'fever', 'reactivity', 'salesmen', 'curves', 'tactics', 'jet', 'theirs', 'devotion', 'rid', 'Throughout', 'vector', 'startled', 'Third', 'vertex', 'united', 'Allied', 'consistently', 'Doc', 'gardens', 'broader', 'bend', 'midst', 'Means', 'nude', 'mercy', 'winds', 'bullets', 'rush', \"state's\", 'optical', 'venture', 'packed', 'petitioner', 'Salem', 'companion', 'Rather', 'tsunami', 'startling', 'lid', 'hidden', 'tales', 'males', 'swing', 'glued', 'supervision', 'earnings', 'insistence', 'Gun', 'clubs', 'Vincent', 'dim', 'fatal', 'essay', 'ruling', 'dated', 'Form', 'loves', 'solved', 'hypothalamus', 'stake', 'intermediate', 'lesser', 'produces', 'canvas', 'compromise', 'lb.', 'Haney', 'therapist', 'whereby', '1927', 'ladder', 'discharge', 'prisoners', 'label', 'Memorial', 'ambition', 'Mobile', 'foundation', 'civic', 'timber', 'cancer', 'poverty', 'assurance', 'Accordingly', 'slope', 'drank', 'dreamed', 'combinations', 'architect', 'condemned', 'strategic', 'spell', 'Rourke', 'slip', 'revenue', 'imposed', 'specialists', 'bay', 'exceed', 'realm', 'stresses', 'Mars', 'politicians', 'neatly', 'tangible', 'preserved', 'savings', 'variations', 'victims', 'Calif.', 'Unfortunately', 'Gov.', 'Foundation', \"State's\", 'tetrachloride', 'individually', 'assert', 'awake', 'Frederick', 'nest', 'Mexico', 'sketches', 'Pamela', 'mechanics', 'Chairman', 'Wisconsin', 'harbor', 'sheep', 'achievements', 'rolling', 'wiped', 'avoided', 'Stadium', 'Cuban', 'likes', 'loud', 'twisted', 'Rousseau', 'improvements', 'patents', 'aroused', 'indication', 'filing', 'enforcement', 'sera', 'champion', 'arrested', 'immortality', 'physics', 'attract', 'fantastic', 'rubbed', 'pronounced', 'policeman', 'representation', 'partnership', 'brass', 'adolescence', 'dairy', 'observers', 'Beyond', 'monument', '1945', 'religions', 'parlor', 'Modern', 'ratios', 'Sergeant', 'ceremony', 'officially', 'Said', 'effluent', 'servant', 'marry', 'privilege', 'humble', 'nonspecific', 'Saxon', 'autonomy', 'roared', 'proceedings', 'comprehensive', 'Academy', 'mechanisms', 'founded', 'Harbor', 'Dick', 'pioneer', 'resting', 'drops', 'stolen', 'earned', 'commerce', 'aged', 'congregations', 'relax', 'predicted', 'deadly', 'shipping', 'sons', 'ranged', 'applicable', 'specialized', 'Kowalski', 'terribly', 'Room', 'jungle', 'systematic', 'escaped', 'drift', 'physically', 'earnest', 'subjective', 'iodine', 'Stephen', 'Remember', 'instantly', 'hospitals', 'flower', 'gallery', 'bathroom', 'investigated', 'businesses', 'marble', 'attributed', 'consistency', '50%', 'sung', \"doctor's\", 'cooperative', 'manufacture', 'objection', 'favored', 'corporate', 'tooth', 'disposed', 'kicked', 'livestock', 'crops', 'interrupted', 'Griffith', 'wildlife', 'ridiculous', 'deliver', '400', 'designer', 'slender', 'buried', 'phrases', \"Can't\", 'supreme', 'splendid', 'snapped', 'Islands', 'emphasized', 'submit', 'styles', 'directors', 'plainly', 'folks', 'informal', 'repeatedly', 'brick', '35', 'defended', 'gather', 'exceptional', 'classroom', 'supplement', 'gains', 'makers', 'priority', 'coach', 'Oxford', 'Yankee', 'tensions', 'overhead', 'lamp', 'Upton', 'judges', 'Helion', 'lap', 'Austin', 'abrupt', 'workshop', 'string', 'player', 'spectacle', 'epic', 'bargaining', 'underground', 'camps', 'Tokyo', 'strikes', 'acted', 'grams', 'sank', 'circuit', 'causing', 'Cobb', 'Columbia', 'bat', 'locations', 'assignments', 'tournament', 'naive', 'theology', 'bunk', 'interval', 'straightened', '80', 'tray', 'invitation', 'emerge', 'Barco', 'theories', 'brightness', 'proportions', 'talks', 'glory', 'Harvey', 'Religion', 'cosmic', 'voters', 'Stevie', 'puzzled', 'Arkansas', 'refers', 'shrugged', 'competence', 'eighteenth', 'fats', 'Langford', \"men's\", 'Grand', 'costumes', 'Kitti', 'mustard', 'Jazz', 'boss', 'Tommy', 'proceed', 'hostile', 'sixty', 'affection', 'basically', 'simpler', 'Meredith', 'mathematics', 'Week', 'speaks', 'Andrei', 'rugged', 'Ah', 'Few', 'lip', 'technological', 'Madden', 'aluminum', 'Organization', 'exercised', 'Keys', 'faster', 'consumption', 'compelled', 'daytime', 'succession', 'Southeast', 'differ', 'commented', 'blowing', 'birthday', 'sixteen', 'corners', 'announce', 'arose', 'History', 'movable', 'denial', 'Ernie', 'drug', 'shifted', 'situated', 'prize', 'theoretical', 'Stevens', 'toast', 'remarkably', 'faded', 'vicious', 'transport', 'neglected', 'captured', 'Lizzie', 'Banks', 'cooled', 'Fire', 'Rob', 'stocks', 'sensed', 'abruptly', 'convenience', 'ammunition', 'inquiry', 'praise', 'Golden', 'shorter', 'destroying', 'sums', 'K.', 'admired', 'shocked', 'seal', 'associate', 'Community', 'Cleveland', 'Hank', 'Pierre', 'artificial', 'brains', 'accelerometer', 'and/or', 'codes', 'motions', 'Giffen', 'interaction', 'basket', 'prevailing', 'Health', 'hunger', 'pays', 'collar', 'pushing', 'chaos', 'delivery', 'Keep', 'tanks', 'screaming', 'screamed', 'Lalaurie', 'substances', 'Fortunately', 'assign', 'Angie', 'Milton', 'holy', 'chart', 'designated', 'copies', 'sport', 'Geneva', 'Listen', 'flood', 'customs', 'separation', 'advances', 'circular', 'Baptist', 'hay', 'flowing', 'Seventh', 'squeezed', 'Usually', 'renewed', 'print', 'alternatives', 'Lao', 'departure', 'preaching', 'desert', 'corridor', 'interviews', 'declined', 'expecting', 'infinite', 'Ballet', 'Gulf', 'bears', 'formidable', 'reporting', 'crystal', 'checks', 'accompanying', 'entries', 'guitar', 'diplomacy', 'defensive', 'acceleration', 'cracked', 'Show', 'Far', 'cap', 'barriers', 'balls', 'flame', 'Horn', 'editors', 'scientist', 'intersection', 'Benson', 'murmured', 'acquisition', 'obscure', 'undertaken', 'compensation', 'undoubtedly', 'Lieutenant', 'rests', 'followers', 'violation', 'pastor', 'stretching', 'milling', 'Ma', 'reverse', 'shifts', 'present-day', 'loyal', 'enjoying', 'staying', 'supernatural', 'females', 'beloved', 'stall', 'Yeah', 'brand', 'indifference', 'transom', 'holiday', 'medieval', 'Otherwise', 'merchants', 'throwing', 'pockets', 'resentment', 'surprisingly', 'mistaken', 'hypothesis', 'campaigns', 'crown', 'wing', 'stripped', 'illustrate', 'progressive', 'molecular', 'historians', 'neighborhoods', 'Connecticut', 'chorus', 'uncle', 'lest', 'seasons', 'wagons', 'absurd', 'eighth', 'logic', 'aggressive', 'fan', 'visits', 'forgot', 'notions', 'implied', 'resolved', 'formulation', 'Security', 'dome', 'distances', 'counted', 'Raymond', 'Standard', 'cats', 'awful', 'anniversary', 'cops', 'consulted', 'Nadine', 'lit', \"They'll\", 'performing', 'capture', 'anonymous', 'Fulton', 'awards', 'quote', 'Dec.', 'persuade', 'god', 'Please', 'well-known', 'inquiries', 'gin', 'Special', 'sunlight', 'Frankie', 'rested', 'suicide', 'bureau', 'Hamilton', 'via', \"woman's\", 'friction', 'consist', 'v.', 'Carroll', 'intuition', 'jail', 'underlying', 'vaguely', 'Ada', 'Burma', 'sole', 'socialism', 'formally', 'vitality', 'popularity', 'BOD', 'awarded', 'explosive', 'belonged', 'Krim', 'Christians', 'Trevelyan', 'slowed', 'Love', 'loudly', 'Moreland', 'shaped', 'describing', 'Simms', 'kingdom', 'chip', 'bitterness', 'Anniston', 'erected', 'plantation', 'spontaneous', \"husband's\", 'TSH', 'useless', 'voyage', 'photograph', 'grasp', 'Cape', 'amendment', 'fuel', 'possess', 'palm', 'comparative', 'heroes', 'asks', 'candle', 'engines', 'preservation', 'muttered', 'damned', 'shops', 'injustice', 'import', 'Mission', 'Scott', 'flexibility', 'flag', 'instructed', 'Declaration', 'resume', 'bleeding', \"boy's\", 'Walker', 'Right', 'Anthony', 'Henri', 'mailed', 'youngsters', 'broadcast', 'ideals', '500', 'tracing', 'Mae', 'confession', 'confident', 'weary', \"he'll\", 'heated', 'asserted', 'secants', 'spreading', 'orange', 'reflecting', 'translated', 'detectives', 'keys', 'installations', 'Code', 'inquired', 'crouched', 'Free', 'Stein', 'allocation', 'I.', 'inserted', 'orientation', 'ticket', 'wanting', 'horror', 'qualifications', 'shell', \"Hudson's\", 'synthesis', 'priest', 'operand', 'contents', 'orbit', 'Willis', 'secular', 'fences', 'inability', 'Dickens', 'lessons', 'severely', 'pitching', 'overnight', 'matched', 'tap', 'wives', 'cylinder', 'gambling', 'Denver', 'satisfy', 'referring', 'delighted', 'chores', 'buffer', 'traveling', 'slammed', 'mistakes', 'uncertainty', 'Nelson', 'forehead', 'conformity', 'beautifully', 'adjust', 'earn', 'legislators', 'kiss', 'persistent', 'implies', 'unto', 'telephoned', 'collect', 'finest', 'trim', 'portrait', 'Me', 'fame', 'refuse', 'sketch', 'breed', 'Handley', 'legitimate', 'sites', 'trails', 'spotted', 'Payne', 'costly', 'rage', 'proposition', 'cockpit', 'selective', 'humorous', 'philosopher', 'improving', 'taxi', 'fee', 'Gray', 'influenced', 'raises', 'sins', 'museum', 'consent', 'draft', 'gown', 'hitting', 'Someone', '1910', 'graph', 'stride', 'financed', 'liver', 'gotten', 'partners', 'analytic', 'payroll', 'Hawaii', 'curriculum', 'Byron', 'outfit', \"o'\", 'Viet', 'aims', 'rows', 'disastrous', 'loop', 'Hammarskjold', 'lined', 'alien', 'clearing', 'bass', 'pen', 'statue', 'opens', 'mortgage', 'flavor', 'fires', 'tile', 'silently', 'metaphysical', 'confined', 'confirm', 'squad', 'thyroglobulin', 'bunks', 'abuse', 'camping', 'minimize', 'respiratory', 'odd-lot', 'angular', 'successor', 'Brooks', 'notably', 'discussing', 'Up', 'operators', 'bounced', 'Trial', 'farms', 'compounds', 'readings', 'closet', 'illustration', 'alarm', 'thee', 'span', 'rail', 'graduates', 'chemistry', 'documents', 'excluding', 'ambitious', 'apartments', 'pottery', 'devised', 'jar', 'lover', 'ivory', 'Following', 'translation', 'Stuart', 'shake', 'foolish', 'Mount', 'Occasionally', 'Clay', 'leveling', 'Asked', 'abandon', 'hers', 'messages', 'dangers', 'bulk', 'deserves', 'Styka', 'thereof', 'occupy', 'obligation', 'spun', 'cavalry', 'unnecessary', 'Claire', 'commit', 'diseases', 'stating', 'viewpoint', 'Gavin', 'Power', 'Way', 'None', 'Revenue', 'switched', 'imaginary', 'correlation', 'vertical', 'M', 'conclude', 'isolation', '42', 'fringe', 'twist', 'Greece', 'bitterly', 'Cranston', 'serum', 'expectations', 'piled', 'link', 'compatible', 'Already', 'employers', 'clover', 'spray', 'endurance', 'appearing', 'translate', 'whites', 'priests', 'conjunction', 'photographs', 'anyhow', 'bunch', 'weighed', 'Geometric', 'titles', 'cowboy', 'strengthen', 'sober', 'justification', 'dusty', 'claiming', 'Nicolas', 'requiring', 'hiding', 'Back', 'fitting', 'Hanford', 'downward', 'cherished', 'Museum', 'audiences', 'nurse', 'inherited', 'allowance', 'star', 'morale', 'ample', 'gonna', 'suburbs', 'wasted', 'adequately', 'Ray', 'circulation', 'fancy', 'Montgomery', '1/2', 'optimum', 'Military', 'Superior', 'ruined', 'disturbing', 'halfway', 'Rose', 'maintains', 'jaw', 'voltage', 'Fifth', 'opium', 'waved', 'infectious', 'geographical', 'quest', 'insights', 'glimpse', 'Similarly', 'goodness', 'indirectly', 'steam', 'thereafter', 'differently', 'reads', 'capita', 'Sec.', 'Gilborn', 'ate', 'Line', 'simplicity', 'commitments', 'elementary', 'Temple', 'lyrics', 'preceded', \"what's\", 'tore', 'deals', 'Sea', 'stove', 'landed', 'disappointment', 'sentimental', 'staged', 'Vice', 'contours', '1944', 'segregated', 'Havana', 'joining', 'self-help', 'clue', 'Continental', 'governed', 'blast', 'crying', 'attraction', 'guerrillas', 'Englishman', 'daylight', 'pursuit', 'Common', 'forbidden', 'divisions', 'thru', 'disappointed', 'Berger', 'client', 'tense', 'cracking', 'Marine', 'stature', 'tourist', 'Northwest', 'feasible', 'essence', 'farming', 'missions', 'Amy', 'specialist', 'seemingly', 'restricted', 'miracle', 'cease', 'Waddell', 'ambitions', 'Sloan', \"women's\", 'dragged', 'trick', 'practicing', 'verdict', 'purchases', '1940', 'anchor', 'Ryan', 'optimism', 'Thank', 'agreements', 'Stevenson', 'penetration', 'ninth', 'crude', 'sturdy', 'needle', 'indicating', 'trains', 'Juanita', 'tightly', 'ties', 'battens', 'dug', 'decrease', 'deliberate', 'novelist', 'Roger', 'stimulus', 'stirring', 'nut', 'Bridge', 'Ulyate', 'Dutch', 'dimension', 'glorious', 'vanished', 'Ten', 'substituted', 'commanded', 'unemployment', 'Naturally', 'Selden', 'tract', 'burn', 'Cambridge', 'glow', 'muscular', 'afterward', 'exhibits', 'pools', 'sustained', 'textiles', 'networks', 'differential', 'discouraged', 'intensive', 'whiskey', 'Local', 'intend', 'imports', 'stirred', 'rope', 'soils', \"Department's\", 'touching', 'palace', 'vs.', 'batting', 'reward', 'devote', 'virtues', 'parks', 'explosion', 'Powell', 'assault', 'kissed', 'catcher', 'meaningless', 'dropping', 'Al', 'battery', 'reasoning', 'Norman', 'memories', 'Jerry', 'excellence', 'realities', 'nineteenth-century', 'tentative', 'preventive', \"Drug's\", 'biological', 'boost', 'validity', 'gradual', 'transmission', '1912', 'fluids', 'plunged', 'constructive', 'shower', 'Steinberg', 'onion', 'ham', 'ashamed', 'bottles', 'potato', 'Morton', 'contributing', 'deserted', 'Elizabeth', 'Carla', 'kick', 'Dandy', \"wife's\", 'Oriental', 'ballistic', 'razor', 'wider', 'Aegean', 'dish', 'dragging', 'p.', 'printing', 'distinctions', 'defeated', 'productivity', 'sweep', 'shipments', \"Pont's\", 'oppose', 'Homeric', 'Stalin', 'apt', 'potatoes', 'prolonged', 'Katie', 'collage', 'sights', 'Determine', 'shortage', 'distress', 'heavier', 'comparatively', 'tones', 'bees', 'Laboratory', 'accustomed', 'domination', 'Buck', 'opponent', 'fabric', \"Fromm's\", 'alter', 'Eugenia', 'explanations', 'Dark', 'linked', 'senses', 'invasion', 'sheriff', 'Somehow', 'judged', 'coalition', 'texture', 'hire', 'onset', 'commonplace', \"Hardy's\", 'sponsor', 'guessed', 'Fromm', 'Congressman', 'misery', 'peak', 'denominations', 'refusal', 'railroads', 'considers', 'clever', 'heritage', 'alongside', 'exhausted', 'sooner', 'continuation', 'doorway', 'employes', 'Internal', 'Socialist', \"country's\", 'cared', 'cafe', 'Minister', 'Anything', 'Festival', 'pill', 'writings', 'lung', 'owed', 'operates', 'optimistic', 'Chamber', 'vegetables', 'packing', 'doubts', 'Burton', 'juvenile', 'tappet', 'flashed', 'remind', 'actors', 'reactionary', 'knock', 'competing', 'arranging', 'vessel', 'Blackman', 'dissolved', 'horrible', 'creature', 'parent', 'swinging', 'damp', 'originated', 'termed', 'Israel', 'cubic', 'react', 'silly', 'Biblical', 'proves', 'pin', 'petition', 'personalities', 'picnic', 'committees', 'Radio', 'Madame', \"they'll\", 'unpleasant', 'mentally', 'freezing', 'smashed', 'scored', 'lecture', 'qualify', 'helium', 'burns', 'drain', 'Lublin', 'physician', 'straw', 'arguments', 'arteries', 'Library', 'indispensable', 'sociology', 'socially', 'eighteen', \"Russia's\", 'literal', 'proportional', 'carved', 'wrapped', 'selections', 'nearer', 'eligible', 'driveway', 'bow', 'coupled', 'convicted', 'upset', 'survived', 'readiness', 'Marty', 'strips', '10,000', 'superiority', 'fails', 'cleaned', 'Between', 'centered', 'molding', 'loses', 'leap', 'threshold', 'deemed', 'fruits', 'producers', 'wax', 'fighters', 'dismissed', 'Diane', 'odor', 'province', 'drag', 'entertain', 'Model', 'highways', 'Emory', 'supports', 'succeed', 'appearances', 'careers', 'penetrating', 'lemon', 'valued', 'Fourth', 'commands', 'folded', 'one-third', 'bubbles', 'rescue', 'revolver', 'determines', 'Daniel', 'Speaking', 'width', 'Dominican', 'retreat', 'Churches', 'hats', 'expedition', 'rounded', 'oldest', 'flung', 'debut', 'celebrated', 'fury', 'attach', 'Eve', 'vulnerable', 'realtors', 'conceive', 'sweater', 'hastily', 'Swiss', 'influences', 'pit', 'Advisory', 'proceeds', 'boxes', \"Plato's\", 'combine', 'thoughtfully', 'seats', 'dislike', 'complaint', 'expressions', 'candy', 'ceremonies', 'mild', 'Command', 'Garryowen', 'scrutiny', 'connections', 'swiftly', 'reluctant', 'boundaries', 'Belgian', 'administered', 'achieving', 'heater', 'counsel', 'ignorance', 'policemen', 'Greville', 'coordination', 'Yalta', 'prescribed', 'stare', 'Amen', 'adventure', 'beaches', 'flights', 'sincere', 'capability', 'attic', 'Picasso', 'unfortunately', 'swore', 'generator', 'paths', \"He'll\", 'pie', 'Welch', 'criticized', 'AP', 'soup', 'feared', 'pine', 'pan', 'analyzed', 'Theodore', 'dared', 'threats', 'honors', 'python', 'usage', 'Behind', 'fix', 'delegates', 'woke', 'touches', 'preparations', 'intact', 'Nassau', 'bothered', 'cruel', 'lion', 'executed', 'short-term', 'Song', 'True', '15th', 'projected', 'border', 'pairs', 'Beverly', 'marching', 'climax', 'momentum', '45', 'Water', 'illuminated', 'backs', 'toll', 'fork', 'cups', 'Eichmann', 'upright', 'Kent', 'pursued', 'cop', 'Okay', 'husbands', 'conjugates', 'chill', 'sizable', 'picking', 'administrator', 'borrowed', 'organize', 'Angels', 'Jessica', 'pickup', 'vigor', 'grim', 'statistical', 'tobacco', 'Beowulf', 'Edythe', 'Aunt', 'spectra', 'Start', 'Kentucky', 'blank', 'relaxed', 'Harlem', 'Renaissance', 'favorably', 'amended', 'prone', 'clung', 'uncomfortable', 'daughters', 'arises', 'Confederate', 'deviation', 'contempt', 'treats', 'Joan', 'painfully', 'indications', 'Jay', 'shallow', 'rancher', 'Export-Import', 'protective', 'accommodate', 'Shall', \"industry's\", 'ruin', 'annually', 'scenery', 'reforms', 'purchasing', 'profitable', 'eliminating', 'solitary', 'nails', 'bathing', 'colonial', 'Additional', 'bell', 'nursing', 'clearer', 'seventh', 'tickets', \"Jess's\", 'coordinated', 'bark', 'immense', 'aqueous', 'paragraphs', 'disapproval', '$1', 'summary', 'uniforms', 'heap', 'caution', 'intent', 'singular', 'counts', \"Khrushchev's\", '1947', 'publications', 'Ages', 'proteins', 'drums', 'pro', 'speeds', 'appealing', 'resonance', 'engage', 'Garth', 'employer', 'sensation', 'armies', 'Recently', 'evenings', 'pains', 'sustain', 'spectrum', 'yarn', 'Representatives', 'emerging', 'decomposition', 'pianist', 'fig.', 'manners', 'producer', 'organs', 'superb', 'breeze', 'draws', 'amusing', 'encouragement', 'rupees', 'V.', 'Alice', 'Control', 'penalty', 'Bari', 'bored', 'horn', 'alliance', 'Iliad', 'Egypt', 'passenger', 'frightening', 'locate', 'Protestants', 'Theater', 'Columbus', 'approve', 'framed', 'habitat', 'diagonalizable', 'applause', 'remembering', 'trustees', 'structured', 'conditioning', 'symptoms', 'significantly', 'sensible', 'participating', 'foundations', 'gradient', 'feathers', 'answering', 'instinct', 'discretion', 'disclosed', 'revised', 'irrelevant', 'professors', 'failing', 'fastened', \"town's\", 'Check', 'judicial', 'polished', 'monopoly', 'loving', 'enterprises', 'shells', 'shoe', 'Hodges', 'celebration', 'Planning', 'merits', 'transit', 'odds', 'lawn', 'cannery', 'restored', 'hopeless', 'gum', 'Irenaeus', \"people's\", 'apprentice', \"day's\", 'affixed', 'oils', 'rivers', 'cafeteria', 'countless', 'dwelling', 'smallest', 'Utopian', 'mileage', 'cousin', 'beaten', 'Space', 'eagerly', 'Put', 'strings', 'files', 'Below', 'superintendent', 'Gallery', 'arrow', 'Commissioner', 'lever', 'restrained', 'preferably', 'Tory', 'collecting', 'imply', 'solids', 'insert', 'dean', 'supplying', 'Nam', 'references', 'fictional', 'Ed', 'permanently', 'modified', 'Greene', 'ordering', 'Light', 'classified', 'tumbled', 'dumb', 'singers', 'Malraux', 'abilities', 'fits', 'blade', 'familiarity', 'averaged', 'Empire', 'conducting', 'relieve', 'pint', 'Nazi', 'Rep.', 'invitations', '65', 'monk', \"we've\", 'explaining', 'adopt', 'prayers', 'disposition', 'fists', 'bull', 'clarify', 'investigators', 'lend', 'Naval', 'moonlight', 'Telegraph', 'cluster', 'associates', 'remedy', 'separately', 'flames', 'gaining', 'understandable', 'Using', 'brutality', 'monstrous', 'involvement', 'statewide', 'port', 'miserable', 'Bishop', 'swift', 'Assistant', 'nighttime', 'cone', 'congressional', 'dictatorship', 'Birmingham', 'gates', 'acid', 'Word', 'Turning', 'utter', 'lowest', 'prose', 'Children', 'monitoring', 'depreciation', 'Oklahoma', 'pepper', 'derive', 'Truman', 'romance', 'reviewed', 'dough', 'Minnesota', 'Packard', 'suspicious', 'colt', 'Rod', 'rental', 'athletic', 'casually', 'lasting', 'static', 'hormone', 'debt', 'Springs', 'plasma', 'par', 'owns', 'businessmen', 'rebellion', 'cows', 'Sox', 'imaginative', 'defending', 'hut', 'frieze', 'taxed', 'Comedie', 'Glendora', 'Helen', 'steep', 'implicit', 'fellows', 'appeals', 'impersonal', 'paramagnetic', 'sentences', 'Lucille', 'ideology', 'commitment', 'behave', 'statutory', 'behaved', 'Doctor', 'sinister', '800', 'pole', 'curled', 'Ireland', 'correctly', 'treasurer', 'ethics', 'economics', 'observer', 'Thayer', 'assets', 'Figures', 'handy', 'pending', 'barbecue', 'sells', 'waving', 'publishing', 'Garibaldi', 'accelerated', 'handful', 'walks', 'nuclei', 'manifold', 'streetcar', 'witnessed', 'gifted', 'Generally', 'Ambassador', 'roar', 'collapsed', 'stimulation', 'abundance', 'integral', 'curb', 'solar', 'McClellan', 'safely', '1900', 'Scotland', 'A.L.A.M.', 'stopping', 'breakdown', 'N.Y.', 'G', 'Copernicus', 'twentieth', 'Women', 'unaware', 'Ave.', 'litigation', 'maps', 'rely', 'sprang', 'Along', 'Somewhere', 'subsection', 'opposing', 'couples', 'omitted', 'Garden', 'satisfying', 'Piepsam', 'lantern', 'tries', 'carpet', 'undertake', 'mutually', 'abstraction', 'portable', 'leveled', 'liberalism', 'fond', 'Order', 'brooding', 'Jeep', 'assuming', 'proclaim', 'null', 'exerted', 'exaggerated', 'grin', 'beating', 'Building', 'spur', 'Sally', 'rounds', 'Arlen', 'programing', 'ethnic', 'Hart', 'tissues', 'evaluate', 'equilibrium', 'insane', 'rug', 'solidarity', 'typically', 'charcoal', 'Colorado', 'ton', 'crimes', 'treaty', 'restless', 'invented', 'forcing', 'Whenever', 'modernization', 'nursery', 'enters', 'autistic', 'outset', 'expand', 'biography', 'psychology', 'tips', 'convey', 'linguist', 'Dad', 'Death', 'champagne', 'Gardens', 'spokesman', 'beams', 'Democrat', 'Hand', 'rockets', 'Prairie', 'Night', 'doses', 'missionary', 'cruelty', 'protested', 'neighbor', 'Guard', 'Lester', 'Food', 'squares', 'fusion', 'defects', 'guaranteed', 'experimentation', 'tumor', 'enabling', 'Unless', 'radically', 'elderly', 'Forests', 'manpower', 'Members', 'Products', 'resemblance', 'perceive', 'rubber', 'conditioner', 'undue', 'sincerity', 'planners', '32', 'Yale', 'phosphor', 'repetition', 'belonging', 'Methodist', 'differed', 'acute', 'Somebody', 'begged', 'creates', 'stability', 'progressed', 'ace', 'Ludie', 'objections', 'lectures', 'casework', 'objected', 'dot', 'Hope', 'cake', 'scores', 'earnestly', 'underwater', 'Indiana', 'mix', 'Lou', 'customary', 'complexity', 'politician', 'toilet', 'invariant', 'GOP', 'unfair', 'placement', 'Argiento', 'sector', 'blockade', 'patch', 'screwed', 'posture', '$600', 'cereal', 'forgiveness', 'shattered', 'elegant', 'decay', \"officer's\", 'Athabascan', 'WTV', 'incomplete', 'matches', 'deepest', 'gloom', 'vigorously', 'appealed', 'afternoons', 'therapeutic', 'contradiction', 'selecting', 'Hino', 'sue', 'communicate', 'analogy', 'Kohnstamm-positive', 'Kohnstamm', 'scream', 'X', 'compulsivity', 'document', 'corruption', 'sealed', 'roleplaying', 'cheeks', 'visitor', 'participated', 'Lafayette', 'tempted', 'computer', 'thread', 'execution', 'tub', 'meanwhile', 'lagoon', 'Ill.', 'Mays', 'quit', 'vocal', 'embrace', 'propose', 'likewise', 'ultraviolet', 'praised', 'consumed', 'influential', 'Hills', 'drainage', 'compass', 'Oersted', 'detection', 'deputies', 'receiver', 'inhabitants', 'antenna', 'erect', \"night's\", 'Graham', 'graduated', 'promoting', 'bacterial', 'surviving', 'A.M.', 'infantry', 'remembers', 'standpoint', 'media', 'diverse', 'Open', 'Low', \"Pip's\", 'boundary', 'necessities', 'sheer', 'suburb', 'ego', 'adapted', 'Inquirer', 'slightest', 'absorb', \"She'd\", 'induced', 'suggesting', 'Anderson', 'Tribune', 'Artists', 'lieutenant', 'clergy', 'explore', 'world-wide', 'independently', 'Ask', 'Market', 'realizing', 'whisper', 'compounded', 'Richardson', 'demographic', 'Cut', 'presumed', 'youngest', 'Persians', 'tilted', 'Winchester', 'swallowed', 'unstructured', 'Anyone', 'tourists', 'eaten', 'pray', 'Chris', 'Charter', 'tank', 'spokesmen', 'coincide', 'trailers', \"Foundation's\", 'deduct', 'cooler', 'lately', 'bastards', 'Income', 'prayed', 'Richmond', 'amid', 'Sansom', 'affirm', 'aspirations', 'blocked', 'performers', 'Monsieur', 'lens', 'inning', 'tennis', 'ridge', 'prosperity', 'harsh', 'solemn', 'gaze', 'employ', 'Switzerland', 'Rockefeller', 'strokes', 'Station', 'Hunter', 'downstairs', 'nilpotent', 'stereotype', 'crashed', 'mare', 'adventures', 'intersections', 'anti-slavery', 'McFeeley', 'Andrus', 'manned', 'gossip', 'leaning', 'exclaimed', 'blew', 'suspension', 'sisters', 'combustion', 'dolls', 'decides', 'pro-Western', 'magical', 'fulfillment', '2:36', 'purse', 'unlocked', 'ironic', 'hymen', 'meadow', 'equality', 'partisan', 'enacted', 'Electric', 'perceived', 'Garry', 'trot', 'welcomed', 'processed', 'Purdew', 'cane', 'Recent', 'intellectuals', 'fearful', 'Churchill', 'Friends', 'expended', 'buddy', 'dental', 'limp', 'cm.', 'Meltzer', '$500', 'festival', 'detected', 'joints', 'Data', 'fountain', 'Bryan', 'controversial', 'two-thirds', 'weep', 'farewell', 'luminous', 'yielded', 'entertaining', \"Women's\", 'Federation', 'unwed', 'believing', 'interpretations', 'choices', 'islands', 'unlimited', 'secant', 'Country', 'restaurants', 'halted', 'challenging', 'cumulative', 'fantasy', 'whipped', 'Brassnose', 'insect', 'Fine', 'acknowledged', 'installation', 'egg', 'wrinkled', 'functioning', 'legislature', '1943', 'Max', 'staggered', 'durable', 'dialogue', 'Grant', 'carryover', 'chapters', 'incest', 'passions', 'enabled', 'fleet', 'hairs', 'Tri-State', 'sizes', 'honestly', 'pension', 'bubble', 'purity', 'vessels', 'discount', 'seeming', 'beds', 'Better', 'landlord', 'Gabriel', 'kicking', 'diversity', 'refrigeration', 'blues', 'parochial', 'initiated', 'Korea', 'leaf', 'porous', \"Lord's\", 'Drive', 'virus', 'Cappy', 'overall', 'incentive', 'defenses', 'stones', 'inventories', 'Delphine', 'Andrew', 'extends', 'Farm', 'Southwest', 'Feathertop', 'stereo', 'pleading', 'pretending', 'Wayne', 'heights', 'liquidation', 'temptation', 'Try', 'cigarettes', 'Hetman', 'louder', 'deficit', 'Mexicans', 'baptized', '1913', 'cm', \"Steele's\", 'stubborn', 'elevator', 'cab', 'Guam', 'Yang', 'Seeing', 'focused', 'snap', 'foremost', 'idle', 'insoluble', 'distinctly', 'correspondent', 'terminate', 'statute', 'supposedly', 'quaint', 'incorporated', 'state-owned', 'absorption', 'contended', 'irony', 'blindness', 'resident', 'Ptolemaic', 'maker', 'Cooper', 'acknowledge', 'attendant', 'boil', 'urgency', 'Dwight', '20th', 'painters', 'dice', 'lighter', '104', 'alcohol', 'calculation', 'agriculture', 'composite', 'spectators', 'breaks', 'adolescent', 'episode', 'bastard', '$100', 'Bulletin', 'smoothly', 'adjacent', 'hardened', 'maids', \"Trevelyan's\", 'layer', 'terminal', 'map', 'blades', 'copper', 'arriving', 'Future', 'molded', 'loosely', 'Atlas', 'cabinet', 'Everybody', 'crossroads', 'floors', 'sweeping', 'neon', 'gods', 'newest', 'compact', 'diagnosis', 'transferor', 'mythological', 'hollow', 'masters', 'theatrical', 'formulaic', '1.5', 'undergoing', 'unadjusted', 'evidenced', 'hopeful', 'furiously', 'Harmony', 'Benjamin', 'Monroe', 'infrared', 'grab', 'individualism', 'tappets', 'traced', 'everyday', 'swollen', 'Selkirk', 'requested', 'opponents', 'passionate', 'convert', 'territorial', 'Taking', 'shelf', 'Lumumba', 'Metropolitan', 'raced', 'chewing', 'ignorant', 'wealthy', 'grandfather', 'resolve', 'lime', 'sunset', 'consciously', 'dentist', 'villages', 'collaboration', 'Beethoven', 'transparent', 'nomination', 'rebels', 'Russell', 'populated', 'elite', 'youthful', 'evolution', 'stockade', 'ceased', 'lasted', \"Roberts'\", 'coatings', 'Turkish', '7th', 'retention', 'aloud', 'resultant', 'Masters', 'Grandma', 'tower', 'sunny', 'Age', 'Mass.', 'Parliament', 'dependence', 'Joel', 'icy', 'deserved', 'Trujillo', 'recalls', 'sorts', 'reacted', 'murders', 'Soviets', 'boot', 'antigen', 'counting', 'Nazis', 'doubtless', 'Pentagon', 'babies', 'acquainted', 'credited', 'ordinarily', 'turmoil', 'co-operation', 'ominous', 'wires', 'lyric', 'cavity', 'mercenaries', 'composers', 'strengthening', 'jerked', 'resort', 'sadly', 'antibody', 'guerrilla', 'vocabulary', 'effected', 'deserve', \"kid's\", 'dialysis', 'lightning', 'Emperor', 'accordingly', 'gauge', 'Torrio', 'nerve', 'trigger', 'crest', 'adjoining', 'News', 'nineteen', 'teen-agers', 'advisers', 'daring', 'phony', 'impulses', 'interviewed', 'Has', 'ballot', 'initially', 'Half', 'antique', 'violently', 'Hot', 'Essex', 'Inside', 'noting', 'circumstance', 'speakers', 'giants', 'chickens', 'couch', 'Charlotte', 'globe', 'Discovery', 'thunder', 'pity', 'Herbert', 'instituted', 'anaconda', 'stray', 'ribbon', 'fashionable', 'promoted', 'settlers', 'salesman', 'indictment', 'gripped', 'Shelley', 'Congolese', 'borders', 'Pearson', 'proven', 'eccentric', 'satisfactorily', '38', 'capitalism', 'embarrassing', 'evaluated', 'deficiency', 'Hesperus', 'weights', 'towels', 'muffled', \"Scotty's\", 'render', 'sodium', 'frighten', 'tear', 'Chapel', 'breast', 'beg', 'injuries', 'airplane', 'counterparts', 'bursting', 'Earl', 'happier', 'infancy', 'sexes', 'furnace', '1920', 'trailer', 'sixties', 'construct', 'constitution', 'Korean', 'presidential', 'curse', 'ribs', 'Bar', 'squeeze', 'juice', 'restraint', 'bits', 'Hillsboro', 'enzymes', 'marking', 'proprietor', 'Column', 'custom', 'ninety', 'Exchange', 'crawl', 'requests', 'purple', 'concentrate', 'electoral', 'sprawled', 'deciding', 'commercially', 'Fall', 'twenty-four', 'unusually', '$1,000', 'Vince', 'Knight', 'Boys', 'rabbit', 'threaten', 'successive', 'fixing', 'accumulation', 'rejects', '1941', 'limiting', 'Reserve', 'tender', 'Main', 'Pohl', 'towering', 'loading', 'civilized', 'fluorescence', 'compartment', 'drastic', 'enclosed', 'colonel', 'Timothy', 'comprise', 'retain', 'disappear', 'snatched', 'rubbing', 'commissioners', 'emotionally', 'passive', \"Jack's\", 'gifts', 'Hey', 'honeymoon', 'rotation', 'exert', 'Railroad', 'buys', 'debts', 'formulated', 'Progress', 'Consequently', 'shaken', 'Dillon', 'Australia', 'forthcoming', 'conclusive', 'Hogan', 'Herald', 'Moon', 'consultant', 'Edwin', 'angles', 'wonderfully', 'calendars', 'liking', 'choosing', 'cylindrical', 'invested', 'settling', 'necessitated', 'revealing', 'dreaming', 'respected', 'warn', 'duration', 'natives', 'mills', 'noticeable', 'divide', 'Tony', 'Jastrow', 'investigate', 'consult', 'acrylic', 'recover', 'moist', 'locating', 'Szold', 'Kremlin', 'planted', 'dose', 'Throat', 'grasped', 'rejection', 'chronic', 'arched', 'grill', 'declares', 'entities', 'enlisted', 'meats', 'lane', 'shades', 'poorly', 'apprehension', 'fur', 'Anglican', 'pavement', 'Introduction', 'taxpayer', 'intelligible', 'comfortably', 'constitutes', 'lodge', 'foregoing', 'Heights', 'deaf', 'Dylan', 'formulations', 'keen', 'contrasts', 'cemetery', 'treatments', '90', 'bloom', 'bronze', 'spinning', 'indifferent', 'flies', 'Jimmy', 'historically', 'Midwest', 'McBride', 'deductions', 'metaphysics', 'frowning', 'mineral', 'conceivable', 'Looking', 'plow', 'yearly', 'gasoline', 'nucleus', 'eloquent', 'bankers', 'lake', 'crept', 'blond', 'script', 'revelation', 'shaft', 'floating', 'cheaper', 'Phillips', 'energies', 'founding', 'pose', 'Oregon', 'complain', 'endured', 'statesman', 'disguised', 'minerals', 'tracks', 'frantic', 'tires', 'orthodox', 'Brumidi', 'Got', 'memorable', 'streams', 'dies', 'therapy', 'pituitary', 'Ross', 'Barnett', 'discrepancy', 'hazard', 'nearing', 'mg.', 'develops', 'Similar', 'criticisms', 'Quint', 'Protestantism', 'L', 'inspect', 'Albany', 'epidemic', 'Agriculture', \"individual's\", 'Moritz', 'observing', 'wired', 'approximate', 'framework', 'posted', 'Dill', 'Presbyterian', 'Taliesin', \"Eisenhower's\", 'appreciated', 'Cubism', 'gap', 'surgeon', 'adopting', 'merchant', 'contrasting', 'portions', 'Sixties', 'twisting', 'awkward', 'amazed', 'motivation', 'trusted', 'partial', 'usefulness', 'shifting', 'tin', 'aerator', 'smiles', 'Services', 'thereto', 'specify', 'theaters', 'Willie', 'integrated', 'investors', 'eventual', 'teaches', 'infant', 'autonomic', 'housed', 'energetic', 'regretted', 'manufactured', 'Ever', 'conceded', 'Hiroshima', 'fulfilled', 'thoughtful', 'Stone', 'childish', 'Information', '1942', 'contraction', 'frustration', 'array', 'Piazza', 'transfers', 'preserves', \"Shakespeare's\", 'Spelman', 'spaces', 'sliding', 'Sons', 'peasants', 'photographic', 'McKinley', 'nod', 'coincidence', 'specimens', 'arising', 'criteria', 'lousy', 'veterans', 'dots', 'wart', 'assistants', 'symbolized', 'entertained', 'explored', 'Maria', 'summit', 'quantities', 'continent', 'Crombie', 'Mahzeer', 'electrons', 'cohesive', 'sanction', 'faithful', 'butt', 'ml', 'pollen', 'rendering', 'Reef', 'carriage', 'temper', 'privacy', 'fatigue', 'mist', 'plowing', 'climb', 'rival', 'meters', 'squarely', 'rebel', 'psychologists', 'Birds', 'incidents', 'narrator', 'actively', 'frankly', 'unified', 'organ', 'delegation', 'coexistence', 'sculpture', 'Easter', 'Less', '41', 'spit', 'gymnastics', 'neglect', 'interpret', 'grimly', 'unexpectedly', 'swim', 'tropical', 'UN', 'Plymouth', 'leisure', '1000', 'nominal', 'premium', 'politically', 'postwar', 'afforded', 'graduation', 'congruence', 'scholar', 'unprecedented', 'scratching', 'distorted', 'rhythms', 'journalism', 'expectation', 'lengthy', 'Venus', 'secured', 'constituted', '250', 'agrees', 'hardest', 'Viola', 'Porter', 'appropriated', 'tomb', 'Michael', 'anticipate', 'Hong', 'Eight', 'posse', 'varies', 'Kong', 'equitable', 'Kehl', 'Vivian', 'rider', 'strained', 'Hampshire', 'airport', 'Rev', 'mounting', 'Claude', 'log', '1,000', 'nigger', 'flush', 'outline', 'architecture', 'Master', 'titled', 'doubled', 'shed', 'barbed', 'cooperate', 'dominance', 'bands', 'undergraduate', 'appetite', 'attributes', 'Trustees', 'cult', 'silk', 'Corp.', 'Maxwell', 'sleeve', 'Mahayana', 'curtain', \"earth's\", 'analyses', 'uniformity', 'finite', 'carriers', 'convincing', 'aided', 'disliked', 'testified', 'surveys', 'rocking', 'locally', 'Town', 'trivial', 'Cross', 'Either', 'cultures', 'rotating', 'timing', 'detached', 'tribes', 'facility', 'proclamation', 'quo', 'possessions', 'microorganisms', 'obtainable', 'outcomes', 'nailed', 'preacher', 'adverse', 'Orioles', 'U', 'perfection', 'dimensional', 'eastern', 'disciplined', 'Winslow', 'laying', 'repaired', 'blankets', 'oriented', 'Polish', 'Side', 'generated', 'beneficial', 'confess', 'treating', 'foreigners', 'schoolhouse', 'ghetto', 'slice', 'sigh', 'compound', '1930', 'vacant', 'waist', 'depressed', 'vapor', 'persisted', 'Pedersen', 'rally', 'urging', 'nitrogen', 'distributions', 'strenuous', 'Lilly', 'blessing', 'Governments', 'risen', 'puzzle', 'la', 'zone', 'halt', 'Gordon', 'descending', 'outward', 'wholesome', \"brother's\", 'insulation', 'screens', 'thermometer', 'button', 'fathers', 'comrades', 'utilize', 'deputy', 'Evans', 'Sturley', 'managerial', 'professionals', 'tasted', 'exceeds', 'instrumental', 'deficiencies', 'tremble', '17th', 'solidly', \"latter's\", 'spark', 'fleeing', 'projections', 'refrain', 'summoned', 'unite', 'Give', 'afterwards', 'vain', 'Fosdick', 'refusing', 'mice', 'expenditure', 'ration', 'poison', 'descent', 'glowing', 'Must', 'enjoys', '57', 'Prize', 'Except', 'deceased', 'greatness', 'plotted', 'mg/l', 'ranges', 'burial', 'duly', 'ripe', 'Adjusted', 'Herman', 'Drexel', 'tents', 'recruit', 'departing', \"We'd\", 'Best', 'A.D.', 'subsequently', 'Littlepage', 'Eleanor', 'Tax', 'merge', 'eighty', 'rake', 'reject', 'hysterical', 'economically', 'contributes', \"girl's\", 'diagram', 'sixteenth', \"bull's-eye\", 'ardent', 'compiled', 'Ramsey', 'Thanks', 'Authority', 'Margaret', 'drastically', 'VA', 'technicians', 'tide', 'coordinate', 'disabled', 'recordings', 'hip', \"Alex's\", 'Pathet', 'Skorich', 'elevated', 'mining', 'dash', 'warmed', 'cursed', 'luggage', 'assessing', 'waiter', 'feminine', 'Hawksley', 'secede', 'principally', 'Odyssey', 'akin', 'founder', 'indebted', 'Asian', 'vice-president', 'hesitate', 'specificity', 'declaring', 'hemisphere', 'vengeance', 'admire', 'Boris', 'editorials', 'avoiding', 'kennings', 'missionaries', 'Sweden', 'pasture', 'perfume', 'segment', 'slim', 'Telephone', 'deposited', 'Stacy', 'mount', 'creep', 'advocate', 'crushed', 'Eyes', 'Simmons', 'alternate', 'insists', 'theft', 'channel', 'slashed', 'lunar', 'radioactive', 'swelling', 'blooming', 'Huff', 'Lauren', 'gm.', 'rushing', 'forecast', 'philosophic', 'prostitution', 'indignant', 'intricate', 'mob', 'prediction', 'negligible', 'Hebrew', 'Depot', 'masterpiece', 'Howe', 'transducer', 'turnpikes', 'Slim', 'muddy', 'cigar', 'entity', 'Cold', 'saloon', 'rustling', 'freed', '36', 'defendants', 'synthetic', \"Isn't\", 'Riverside', 'imperative', 'subsistence', 'preoccupied', 'misleading', 'descriptions', 'Apart', 'brace', 'acreage', 'sermon', 'climbing', 'advisory', 'Stock', 'Autocoder', 'megatons', \"Papa's\", 'Persian', \"Government's\", 'representations', 'Newman', 'misfortune', 'buttons', 'dialect', 'legends', 'educator', 'paste', 'Cavalry', 'waking', 'Sun', 'sings', 'oily', 'utilized', 'clues', 'disagreement', 'coats', 'marital', 'privileges', 'psychologist', 'dozens', 'topics', 'disturb', 'muzzle', 'summers', 'bounds', 'coin', 'Rusk', '85', 'youths', 'framing', 'nickname', 'void', 'impatient', 'hull', 'drilling', 'marines', 'harvest', 'text-form', 'politely', 'cathode', 'robbed', 'albumin', \"Chicago's\", 'Certain', 'magnification', 'layers', 'misunderstanding', 'disturbance', 'catastrophe', 'Dumont', 'lease', 'Pratt', 'assuring', 'earthy', 'paragraph', 'shy', 'fertility', 'acquiring', 'simplest', 'huddled', 'journalist', 'applicants', '1859', 'devoting', 'poised', 'Bright', 'sectors', 'darling', \"Johnson's\", 'Northeast', 'Pops', 'loads', 'prejudice', 'Brandt', 'arch', 'Figs.', 'hardware', 'allotted', 'Trig', 'confronting', 'strict', 'hideous', 'anchored', 'imagery', 'meantime', 'streak', 'pump', 'scar', 'consecutive', '1935', 'Isaac', 'sailed', 'handicapped', 'honesty', 'fragments', 'Romans', 'non-violent', 'genuinely', 'conscientious', 'integrity', 'adjusting', 'obstacle', 'criterion', 'arguing', 'screws', 'privileged', 'implication', '1937', 'Cap', 'diminished', 'patches', 'Foster', 'holster', 'admiration', 'mm.', 'bee', 'archaeology', 'Stop', 'Industry', 'underdeveloped', 'phonologic', 'unfamiliar', 'singled', 'Plains', 'calmly', 'accumulated', 'reservoir', 'semester', 'pleasing', 'Polaris', 'seas', 'Jet', 'tenure', 'reinforce', 'inorganic', 'spreads', 'commute', 'embodiment', 'Tar', 'Hub', 'occurrences', 'likelihood', 'incapable', 'typewriter', 'Steichen', 'decency', 'mortal', 'negotiate', 'allied', 'clients', 'mates', 'relevance', 'nowadays', 'accomplishments', 'theorem', 'mastery', 'learns', 'container', 'Review', 'denying', 'anionic', 'ads', 'paced', 'harness', 'vagina', 'adoption', 'Fla.', 'accuse', 'commercials', 'neurotic', 'argues', 'polynomials', 'danced', 'thirty-five', 'acre', 'schedules', 'elephants', 'doll', 'Goldberg', 'analyze', 'disarmament', 'Lucien', 'mixing', 'combining', 'ad', 'tyranny', 'privately', 'cement', 'Concord', 'Meeker', 'patriotic', 'alleged', 'Magnum', 'museums', 'logically', 'pious', 'identities', 'veto', 'Herr', 'lifetime', '48', 'willingness', 'ingenious', 'stole', \"King's\", 'compilation', 'prints', 'conversations', 'Leonard', \"Who's\", '72', 'parish', 'coarse', 'vegetable', 'uniquely', 'keelson', 'listener', 'Quite', 'bearded', 'margin', 'owe', 'longing', 'gigantic', 'airplanes', 'Larkin', 'Majdanek', 'Emma', 'grief', 'wheeled', 'sociological', 'bags', 'overt', 'constituents', 'sergeant', 'marijuana', 'compulsive', 'three-dimensional', 'licked', 'saint', 'bite', 'impatience', 'sensations', 'consulting', 'elemental', \"Mary's\", 'recognizes', 'admirable', 'accounting', 'abandonment', \"Here's\", 'chains', 'communion', 'Lloyd', 'Carmer', 'nationally', 'bloc', 'immigrants', 'Calhoun', 'guiding', 'amazement', 'Brodie', 'angels', 'detect', 'champions', 'bush', 'undesirable', \"Greg's\", 'chase', 'segments', 'Todman', 'Gazette', 'Aside', 'drum', 'compositions', 'boiled', 'crowds', 'employing', 'limitation', 'raid', '1917', 'scars', 'violin', 'mornings', 'Ken', 'costume', 'Richards', 'Fair', 'doomed', 'Conrad', 'Freeman', 'unanimously', 'segregation', 'Paso', 'AIA', 'Clearly', 'patronage', 'differs', 'rides', 'curiously', 'strode', 'favorites', 'Petitioner', 'completing', 'paints', 'tremendously', 'Route', '71', 'clergyman', 'thumb', 'rolls', 'scanned', 'tops', 'Blues', 'commuter', 'intensely', 'Fellowship', 'Appendix', 'holidays', 'Del', 'Bake', 'retrieved', 'Ernest', 'Ellen', 'conform', 'Whereas', 'aggression', 'symphony', 'Theatre', 'dreadful', 'Warsaw', 'extensively', 'Training', 'diagnostic', 'tunnel', 'awfully', 'cultivated', 'frustrated', 'fake', 'oh', 'Brenner', 'wipe', 'northwest', \"Man's\", 'Hansen', 'launch', 'preventing', 'southeast', 'melodies', 'Staff', 'swear', 'exports', 'judging', 'Istiqlal', 'poultry', 'oxen', 'sail', 'favors', 'feeds', 'fragile', 'pork', 'railway', 'Scottish', 'monks', 'Montero', 'interim', 'restrain', 'wool', 'conjugate', 'Barbara', 'nonsense', 'viscosity', 'no.', 'dimly', 'dramatically', 'specialization', 'token', 'jaws', 'witty', 'ye', 'waterfront', 'bolt', 'Julie', 'pleasantly', 'generals', 'Parents', 'adds', 'linguists', 'undergone', 'restrict', 'militia', 'boredom', 'introduce', 'enduring', 'rhythmic', 'reunion', 'Chester', 'bronchioles', 'bleak', 'Phoenix', 'Ball', 'reckless', 'involution', 'spat', 'Av.', 'murdered', 'motivated', 'guarding', 'Pa.', 'impurities', 'ions', 'stiffly', 'dusk', 'Eromonga', 'Wyoming', 'skies', 'thirteen', 'Grosse', 'ditch', 'distal', 'cooked', 'Blatz', 'occupants', \"governor's\", 'Minneapolis', 'exhibited', 'Oscar', 'corrected', 'derives', 'chairmen', 'eyebrows', 'Hengesbach', 'Randolph', 'Schaffner', 'slower', 'Roebuck', 'duck', 'arrange', 'Gran', 'apportionment', 'Larry', 'delivering', 'Pastern', 'picket', 'f{t}', 'hard-surface', 'sponsors', 'designing', 'sped', 'aerated', 'Shea', 'outright', 'potent', 'proportionate', 'tearing', 'Partisan', 'generators', 'Jupiter', 'Living', \"it'll\", \"other's\", 'businessman', 'averages', 'Marvin', 'spy', 'whirling', 'escort', 'grammatical', 'antibodies', 'chapel', 'dissatisfaction', 'Elec', 'Gonzales', 'sewing', 'humans', 'menace', 'alveolar', 'Rankin', \"It'll\", 'tackle', 'attacking', 'biwa', \"Georgia's\", 'handkerchief', 'heel', 'half-man', 'handles', 'dinners', 'Garson', 'Skeletal', 'deposit', 'Interstate', 'Bears', 'Jubal', 'doubted', 'Bernard', 'ringing', 'Year', 'PBS', 'DEAE-cellulose', 'Trade', 'Shaw', 'Gene', '46', 'End', 'Executive', 'morphophonemics', 'bushes', 'Dogtown', 'discharged', 'drifting', 'resigned', 'Bermuda', 'Hague', 'steeple', 'Jenkins', 'irradiation', 'Giants', 'challenged', 'Credit', 'competitors', 'Moses', 'suds', 'Hohlbein', 'Savannah', 'coins', 'Kayabashi', 'collaborated', 'sore', 'majestic', 'skiff', 'AM', 'Wagner-Peyser', 'Douglass', 'reared', 'dumped', 'regulus', 'Holden', 'flooded', 'Sidney', 'fulfill', 'discharges', 'Esther', 'Cincinnati', 'al', 'Prevot', '1924', 'Profile', 'Freedom', \"else's\", 'palatability', 'Students', 'Kohnstamm-negative', 'Angel', 'taxation', 'subsystems', 'tastes', 'Braque', 'Christiana', 'Byrd', 'finishing', 'Muller', 'figs.', 'clerical', 'depended', 'Docherty', 'Partlow', 'vases', 'stillness', 'draped', 'provinces', 'graceful', 'interfere', 'elder', 'awoke', 'cave', 'hint', 'Mountains', 'sullen', 'slug', 'colleague', 'labeled', 'B-52', 'grease', 'Maine', 'positively', 'Higher', 'cheerful', 'Turnpike', 'Girl', 'departed', 'Eden', 'Australian', 'fox', 'earthquake', 'Into', \"O'Banion's\", \"Island's\", 'lazy', 'resisted', 'chromatic', 'occupational', 'flashes', 'ambassador', '1925', 'guts', 'Barnes', 'plea', 'homely', 'wilderness', 'groupings', 'exploited', \"Peter's\", 'admissible', 'Fiat', 'Plan', 'enables', 'abundant', 'stains', 'nicely', 'precipitated', 'Philharmonic', 'searched', 'Acting', 'anxiously', 'presenting', 'prosecution', 'voluntarily', 'recovered', 'illegal', 'seam', 'bounded', 'prohibition', 'hazards', 'brilliantly', 'ills', 'proudly', 'empire', 'spared', 'orthodontist', 'industrialized', 'pour', 'seams', 'projection', 'Shortly', 'proportionately', 'cheese', 'hastened', 'resource', 'marched', 'settings', 'classics', 'municipalities', 'vitally', '1/4', 'Frankfurter', 'await', 'quack', 'zinc', 'anecdote', 'locker', 'blown', '1933', 'tortured', \"Gavin's\", 'wheat', 'simplify', 'Walton', 'antagonism', 'radius', 'stretches', 'brood', \"Palfrey's\", 'retire', 'skillful', 'consumers', 'cites', '2:35', 'sterile', 'embassy', 'Thor', '150', 'advertised', 'gospel', 'simplified', 'circled', 'emerges', 'denoted', 'attainment', 'paradox', 'equations', 'knit', 'guarantee', 'earning', 'unconsciously', 'geometry', 'constants', 'begging', 'preoccupation', 'Kirby', 'indignation', 'computing', 'illustrations', 'tune', 'soaking', 'calculations', 'Minor', 'destined', 'addressing', 'seeks', 'mask', 'Salter', 'roast', 'extremes', 'amused', 'twentieth-century', 'Harriet', 'Always', 'reins', 'elegance', \"Wright's\", 'picturesque', '10-year', '100,000', 'surveyed', 'Fighting', 'Indies', 'unquestionably', 'resin', 'attractions', 'sticky', 'Precious', 'cautious', 'Dulles', 'Duke', 'ally', 'rack', 'numbered', 'traditionally', 'spontaneously', 'choke', 'timely', 'smoked', 'scrambled', 'elders', 'closest', 'bouncing', 'Unlike', 'stepping', 'manifestations', 'resembles', 'discourage', 'vastly', 'heavens', 'atmospheric', 'angel', 'irresponsible', 'toe', 'tailored', 'cork', 'proceeding', 'assigning', 'Indonesia', 'scratch', 'viewing', 'Battle', '40,000', 'gland', 'institutional', 'Publications', 'defining', 'verses', 'etcetera', 'ensemble', 'plumbing', 'winding', 'salad', 'pineapple', 'offset', 'efficacy', 'theologians', 'hierarchy', 'extracted', 'Freud', 'looming', 'clause', 'wishful', 'currents', 'tenants', 'advancement', 'dazzling', 'Forbes', 'broadening', 'campers', 'quantitative', 'guides', 'Arizona', '47', 'manifest', 'dictates', 'beginnings', 'Ritter', 'borrow', 'ghost', 'Sundays', 'Congressional', 'regret', 'specially', 'inspiration', 'versus', 'anatomical', 'heartily', 'prevents', 'well-being', 'assessed', 'impose', 'trades', 'discoveries', 'immensely', 'similarity', '0.5', 'swayed', 'breathed', 'watercolor', 'utilization', 'gram', 'shaved', 'pants', 'agony', '0.1', 'additions', 'barrier', 'augmented', 'sweetheart', 'anatomy', 'persistence', 'Say', 'annoyance', 'destination', 'versions', 'butyrate', 'cellulose', 'counterpart', 'unification', 'marvelous', 'soloist', 'hillside', 'preference', 'gravel', 'commissions', 'pouring', 'restore', 'subordinates', 'forecasting', 'unchanged', 'comparing', 'summarized', 'Against', 'unimportant', 'rocky', 'caring', 'quill', 'pigment', 'Bronx', 'conflicts', 'creativity', 'intercourse', 'bin', 'Deal', 'grotesque', 'persuasion', 'conveyed', 'gracious', 'fighter', 'induce', 'conventions', 'satire', 'Mass', 'troop', 'commanding', \"How's\", 'Anyway', 'replies', 'overcast', 'conservatism', 'horizontal', 'ft.', '18th', 'blessed', 'sometime', 'conceptions', 'attendance', 'drifted', 'withdrew', 'indulge', 'supplementary', 'Left', 'ministers', 'untouched', 'tolerant', 'ratings', 'invite', 'engendered', 'filter', 'cousins', 'cage', \"son's\", 'enchanting', 'linguistic', 'indicators', 'publishers', 'sensory', 'mortar', 'irregular', 'reviewing', 'Claims', 'precedent', 'weird', 'Merchant', 'malaise', 'Rules', 'Coombs', 'gratitude', 'nightmare', 'Ferry', 'superbly', 'beans', 'dresses', 'Kingdom', 'yell', 'illumination', 'avocado', 'polls', 'Cotton', 'mill', 'Preparation', 'Presently', 'consolidation', 'employs', 'Factory', 'Unit', 'existential', 'spectator', 'latent', 'editions', 'Cadillac', 'protests', 'echo', '3,000', 'evils', 'melted', 'dual', 'improves', 'ingredients', 'pamphlets', 'retains', 'reconnaissance', 'formulate', 'snapping', 'proclaimed', 'export', 'weighing', 'battered', 'domain', 'eminent', 'nagging', 'Gentile', 'Luis', 'puzzling', 'philosophers', 'therein', 'spacious', 'Foods', 'miscellaneous', 'boiling', 'sorrow', 'vividly', 'Classes', 'declining', 'Wisman', 'Kirov', 'compressed', 'Cologne', 'molecules', '$10,000', 'revisions', 'Eventually', 'narrowed', 'Headquarters', 'Add', 'elimination', 'generalized', 'reviews', 'perceptions', 'Fathers', 'wrist', 'reservations', 'denominational', 'grunted', 'ragged', 'pathological', 'symbolize', 'glaze', 'permitting', 'monkey', \"Mann's\", 'Buddhism', 'contention', 'chocolate', 'scholastic', 'catching', 'appalling', 'reportedly', 'mimesis', 'filly', 'virgin', 'purified', 'resumption', 'obedience', 'convertible', 'Hungarian', 'breasts', 'suggestive', 'one-half', 'postponed', 'Housing', 'Shann', 'rated', 'spatial', 'histories', 'facets', 'P.M.', 'Toynbee', 'accord', 'accent', 'bulky', 'workable', 'thesis', 'notices', 'questionable', 'warming', 'Falls', 'Boulevard', 'Youth', 'honorable', 'hardship', 'monetary', 'topic', 'thigh', 'tougher', 'patrons', 'seventeenth', 'obtaining', 'smells', 'systematically', 'shores', 'pulls', 'surge', 'deadlock', 'Germanic', 'enrolled', 'lessened', 'Group', 'Texans', 'steering', 'exploit', 'poll', 'adaptation', 'timed', 'tours', 'hints', 'counseling', 'averaging', 'centralized', '2%', 'invasions', 'rails', 'vent', 'developmental', 'ordinance', 'pulse', 'sewer', 'nephew', 'enormously', 'trifle', 'Push-Pull', 'Fiedler', 'outlet', 'warnings', 'conceivably', 'pansies', 'roaring', 'introducing', 'halfback', \"Faulkner's\", 'Drill', 'forests', 'badness', 'glove', 'Voltaire', 'Han', 'inward', 'worldly', 'steer', 'condensed', 'orbits', 'wept', 'rating', 'Rice', 'miniature', 'plywood', 'Relations', 'furnishings', 'metallic', 'deduction', 'vitamins', 'Norton', 'Kearton', 'pelts', 'K', 'moisture', 'redcoats', 'hauled', 'Bienville', 'concentrations', '55', 'incurred', 'shivering', 'swallow', 'Da', 'Schweitzer', 'dread', 'haste', 'yielding', 'Band', 'dig', 'Othon', 'balloon', 'dense', 'Star', 'disclose', 'pennant', 'Meek', 'Rogers', 'carefree', 'Milwaukee', 'acquaintance', 'homer', 'peering', 'Super-Set', 'wounds', 'irregularities', 'examinations', 'coupling', 'compelling', 'spindle', 'Von', 'concealed', 'removing', 'Gradually', 'veil', 'Doaty', 'Yin', 'Near', 'saloons', 'plots', 'Draft', 'Rhodes', 'upside', 'kills', 'ancestry', 'pathetic', 'Works', 'evolved', 'recreational', 'sailors', 'selfish', 'Robards', 'technically', 'corrupt', 'imported', 'skinny', 'Buzz', 'Papa-san', 'relates', 'scrap', 'diagrams', \"Rayburn's\", 'chooses', 'reciprocal', 'Gratt', 'symbolism', 'trio', 'jumping', 'chef', 'CD', 'Atomic', 'Buddha', 'fitness', '24-hr.', 'stamp', 'Gibson', 'exploded', 'periodic', 'yourselves', 'Pirates', '1931', 'crystals', 'focal', 'footsteps', 'umbrella', 'Dead', 'Marx', 'qualification', 'shaping', 'flu', 'mock', \"Barco's\", 'resemble', 'directional', 'withheld', 'accompaniment', 'neutralist', 'overly', 'apportioned', 'interdependent', 'equals', 'Connally', 'perilous', 'expose', 'Jacques', 'bacteria', 'revolt', 'ultrasonic', 'workbench', 'distilled', 'attained', 'Inspector', 'everlasting', 'strains', 'wins', 'Seminary', 'heed', 'dependable', 'palms', 'Guy', 'Guideposts', 'residue', 'Investigation', 'Leaving', 'analyzing', 'Catholicism', 'Babe', 'mentioning', 'Orthodox', 'irresistible', 'spirited', 'tolerance', 'shield', 'interpreter', 'festivities', 'sympathies', 'discontent', 'accelerometers', 'pumping', 'setup', 'debris', 'Angelo', 'differentiation', 'pH', 'ensure', 'accidental', 'Ryusenji', 'gaiety', 'foamed', 'census', 'Hamrick', 'insistent', 'avoidance', 'post-war', 'reminder', '**yf', 'Citizens', 'Walnut', 'shelves', 'cardinal', 'restorative', 'cynical', 'repel', 'Thornburg', 'scenic', 'Friend', 'oysters', 'knitted', 'inescapable', 'anguish', 'realistically', 'Confrontation', 'jokes', 'sophistication', 'compulsion', 'wicked', 'deeds', 'accidents', 'veranda', 'baroque', 'traces', 'distaste', 'downright', 'McCormick', 'generously', 'cares', 'deprived', 'microscope', 'Constantine', 'Newark', 'sticking', \"Helva's\", 'polish', 'singer', 'agreeable', 'Nogol', 'niece', 'Whoever', 'Carnegie', 'Cruz', 'Dance', 'Showmanship', 'solemnly', 'quirt', 'apple', 'Holland', 'wrath', 'Macklin', 'unpaid', 'themes', 'Wendell', 'outgoing', 'stool', 'characterization', 'possesses', 'architects', 'dashed', 'surroundings', \"enemy's\", 'disadvantages', 'glancing', 'Surely', 'horns', '1921', 'witches', 'dispelled', 'non', 'metropolis', 'calcium', 'FBI', 'slack', 'consultation', 'relied', 'profoundly', 'Beauclerk', 'Stravinsky', '600', 'expresses', 'centimeters', 'supplements', 'canvases', 'ash', 'penetrated', 'kindly', 'inclination', 'flair', 'Matson', 'gracefully', 'charts', 'Studies', 'creeping', 'satellite', 'peer', 'emancipation', 'weeping', 'dwell', 'mingled', 'foreseen', 'motif', '2-56', 'Chien', 'Really', \"poet's\", 'Memphis', 'chuck', 'belts', 'peers', 'resent', 'haunting', 'barrels', 'cliff', 'Lolotte', 'stumbling', 'faulty', 'reminds', 'thrusting', 'skipped', 'observes', 'rocked', 'dock', \"Didn't\", 'interlocking', 'lone', 'logs', 'pills', 'Pretty', \"1/4''\", \"1/2''\", 'Hitler', 'scholarly', 'boast', 'shoved', 'bosom', 'deer', 'jig', 'Jed', 'planking', 'cooks', 'relish', 'snarled', 'Controller', \"they've\", 'descended', 'yeah', 'muttering', 'SAC', 'Artie', 'mahogany', 'offense', 'accusing', 'Liberal', 'Emerson', 'poles', \"1920's\", 'interruption', 'peaks', 'urges', 'Unitarian', 'Lucia', 'slapped', 'cushion', 'minus', 'half-hour', 'springs', 'pitched', 'curtains', 'perpetual', 'mounts', 'accommodations', 'winked', 'Need', 'rust', 'contented', 'Snow', 'absurdity', 'exterior', 'Scots', 'chuckled', 'compost', 'testify', 'radiant', 'Brandon', 'assemble', 'clamped', 'Saviour', 'comic', 'prominently', 'spaced', 'potentialities', 'Strange', 'stag', 'Faith', 'franks', 'echoes', 'buns', 'rousing', 'Chase', 'someday', 'Englishmen', 'Universe', 'feeble', 'tactical', '1861', 'inviting', 'elect', 'one-shot', \"Ruth's\", 'coals', 'analogous', 'importantly', 'excluded', 'courtyard', 'seriousness', \"Curt's\", 'Mosque', 'Across', 'frankfurter', 'impassioned', 'authenticity', 'unsuccessful', 'lotion', 'architectural', \"who'd\", 'trunk', 'obey', 'adherence', 'Fifteen', 'resented', 'Sonata', 'tangle', 'Piano', 'Creator', 'mortality', 'impatiently', 'Op.', 'clutching', 'mobility', 'spiral', 'decorations', 'preached', 'exceedingly', 'vinegar', 'enforce', 'ecclesiastical', 'embarrassment', 'hypothetical', 'bounce', 'Hugh', 'irrational', 'zeal', 'aperture', 'brethren', 'triumphantly', 'N.C.', 'negotiating', 'Embassy', 'clicked', 'knuckles', 'pregnant', 'Sullivan', 'automotive', 'conflicting', 'Camp', 'encounters', 'duplication', 'resembled', 'capillary', 'restriction', 'Garland', 'survivors', 'alibi', 'regulation', 'Proof', 'sorbed', 'exaggerate', 'actives', 'boycott', 'Rights', 'caliber', 'grips', 'delegate', \"goin'\", '**yc', 'confrontation', 'decreased', 'Barker', 'uncommon', 'Presidents', 'co-optation', 'unhappily', 'Charley', 'headlights', 'pillow', 'arcs', 'drawer', 'discarded', 'toys', 'revision', 'contests', 'civilizational', 'cameras', 'lower-class', 'Palazzo', 'benches', 'outsiders', 'blows', 'monotonous', 'staircase', 'wreath', 'aide', 'parameters', 'Expressway', 'simultaneous', 'kinetic', 'diminishing', 'mound', 'telegraph', 'grandmother', 'Victoria', 'paramount', 'engagements', 'radish', 'Traffic', 'athlete', 'Help', 'peril', 'Oak', 'Examiner', 'Lodge', 'dominate', 'conspicuously', 'ADC', 'Frenchman', 'boldly', 'mouse', 'stiffened', 'pet', '1938', 'concede', 'Airport', 'confided', 'illiterate', 'applicant', 'homogeneous', 'boom', 'subdivision', 'bias', 'vines', 'sandwich', 'weaker', 'detectable', 'honoring', 'Mel', 'interlobular', 'strikingly', 'denomination', 'declaration', 'willow', 'micrometeorite', 'requesting', 'scraped', 'endure', 'meteorites', 'staffs', 'Highway', 'blunt', 'southward', 'artillery', '1922', '1914', 'Clarence', 'iodide', 'Lt.', 'taxing', 'afflicted', 'notorious', 'miracles', 'authoritative', 'peripheral', 'bumblebees', 'instructor', 'raged', 'Ivy', 'auditorium', 'Considering', 'Southerner', 'basketball', 'Technology', 'gait', 'knot', 'confront', '1040', 'preach', 'hunt', 'undergo', 'parliamentary', \"Mercer's\", 'Peterson', 'traded', 'sixty-one', \"Hetman's\", 'Tech', 'whereof', 'accompany', 'ankle', 'predispositions', 'unsatisfactory', 'shotgun', 'claimant', 'multiplicity', 'Oil', 'slaughter', '100%', 'Weston', 'trailed', 'Sioux', 'appliances', 'diamond', 'thieves', 'efficiently', 'Rural', 'dividends', 'taut', 'deed', 'precarious', 'collections', 'Price', 'Buffalo', 'appropriations', 'decoration', \"Garibaldi's\", \"Malraux's\", 'serene', 'hips', 'archaeological', 'retreated', 'fresco', 'haunted', 'science-fiction', \"Krim's\", 'bomber', 'Doctrine', 'farmhouse', 'dystopias', 'sanctuary', 'aerial', 'abolish', 'stupidity', 'Sales', '1896', 'prompt', 'Strasbourg', 'cleaner', 'traps', 'cleaners', \"They've\", 'surveying', 'congressmen', 'Athens', 'ruins', 'O.K.', 'newt', 'charging', \"week's\", 'Mamma', 'Copernican', 'crawling', 'termination', 'Judy', 'Manager', 'comforting', 'dismal', 'knelt', 'entails', 'Budapest', 'practiced', 'betrayed', 'allotments', 'foliage', 'recipe', 'baked', '99', 'Agency', 'Sheldon', 'Pollock', 'Murray', 'Le', 'wandered', 'freshman', \"who's\", 'Kern', 'potters', 'Francesca', 'chambers', 'disappearance', 'sunrise', 'strangers', 'leagues', 'agrarian', 'decreases', 'appraisal', 'cyclist', 'Achievement', 'Poetics', 'wardrobe', 'proprietorship', 'germanium', 'Noel', 'martyr', 'Strong', 'designers', 'ontological', 'utopian', 'republic', 'Grace', 'declare', 'tax-free', 'Ptolemy', 'pad', 'supporters', 'steak', 'immediacy', 'ceramic', 'rooted', 'reconstruction', 'isolate', 'prosperous', 'decorative', 'notify', 'varieties', 'undermine', 'Danish', 'flour', 'X-ray', 'exceptionally', 'mating', 'Results', 'Chancellor', 'fort', 'statesmen', 'Industries', 'restoration', 'predictable', 'struggled', 'releases', 'Bottom', 'presses', 'Ruanda-Urundi', 'repairs', 'stimulating', 'impartial', 'unstable', 'bankruptcy', 'divorced', 'peculiarly', 'crisp', 'Presidency', 'Hoover', 'slump', 'frowned', '4th', 'brighter', 'Series', 'slab', 'vacations', 'investigating', 'Dorset', 'rulers', 'consonantal', 'guarantees', 'devise', 'aunt', 'Burns', 'spends', 'panting', 'blindly', 'sleeves', 'humidity', 'C-plane', 'domes', 'clocks', 'telegram', 'rot', 'momentous', 'infection', 'bloody', 'undergraduates', 'Wolfe', 'worthwhile', 'precaution', 'complaints', 'renewal', 'melancholy', '$2', 'Remove', 'astonishing', 'reassurance', 'sentenced', 'financially', 'Jenny', 'Meeting', 'flashlight', 'populations', 'youngster', 'sprung', 'stacked', '1963', 'lb', 'respondents', 'respondent', 'thou', 'overboard', 'carrier', \"You'd\", 'jammed', 'smoking', '19th', 'La.', 'rigidly', 'extruded', 'guessing', 'predict', 'wreck', 'mayor', 'busily', 'social-class', '180', 'fabrication', 'foe', 'essays', 'tactual', 'revival', 'establishments', 'public-limit', 'territories', 'counters', 'intonation', 'contracted', 'blend', 'recommending', 'Vecchio', 'two-story', 'Barney', 'straightforward', 'junk', 'phonemic', 'creek', 'calf', 'Hemphill', 'revive', 'stunned', 'Swadesh', 'usable', 'actuality', 'wonders', 'ambiguity', 'Imagine', 'discernible', 'scholarships', 'turtle', 'toss', 'kilometer', 'Pam', 'hearings', 'messenger', 'borne', 'toll-road', 'speculative', 'slumped', 'hostess', 'frantically', 'pig', 'Production', 'mouths', 'grinding', 'Wales', 'lovers', 'mourning', 'Port', 'embarrassed', 'coldly', 'celestial', 'sucking', 'broaden', 'orthodontic', 'Basic', 'catalogue', 'scrub', 'electrostatic', 'quacks', 'utilizing', 'tumors', 'Vocational', 'replacing', 'clarified', 'secrecy', 'bluff', 'premises', 'thyroxine', 'Deep', 'companions', '$300', 'modes', 'slum', 'succeeds', '1908', 'aborigines', 'bless', 'provincial', 'transmitted', '350', 'withdraw', 'Juet', 'inhibit', 'indicator', 'recruits', 'volunteer', 'unnatural', 'featured', 'propagation', 'mg', 'championship', 'sanctions', 'eased', 'advise', 'Mo.', 'hose', 'barred', 'prairie', 'crimson', 'conquest', 'westward', 'thief', \"party's\", 'Issue', 'Theorem', 'erotic', 'patiently', 'monuments', 'Victorian', 'Pulley', \"years'\", '2,000', 'terrain', 'militant', 'bloat', 'Twice', 'backing', 'articulate', 'forceful', 'Perry', 'Julian', 'buffalo', 'slips', 'deaths', 'bites', 'repeating', \"Navy's\", 'se', 'paradoxically', 'dispatch', 'fundamentally', 'granting', 'bacon', 'reversed', 'nominated', 'Prime', 'parasympathetic', 'assumes', '$50', 'avenue', 'recipient', 'enactment', 'constructing', 'trailing', 'Y.', 'half-mile', '110', 'pricing', 'Burke', 'radios', 'Same', 'stops', 'donated', 'Award', '37', 'statues', '$10', 'occupying', 'prevailed', 'enlarge', 'proposes', 'Tex.', 'collectors', 'wholesale', 'watered', 'merchandising', 'assertion', 'Questions', 'Happy', 'assisted', 'doubling', 'coping', 'confessed', 'legislator', 'issuance', 'retarded', 'ban', 'deterrent', 'teamsters', 'Welfare', 'Karns', 'Golf', 'retiring', 'waged', '8,000', 'Incidentally', 'lending', 'forum', 'fraud', 'resignation', 'dismissal', 'mails', 'Reno', 'probation', 'carcass', 'pleaded', 'Ted', 'exotic', 'switching', 'ankles', 'insult', 'Delta', 'Olympic', 'fruitful', 'credits', 'preserving', 'petitions', 'congenial', 'Orange', 'admitting', 'repay', 'Whipple', 'agreeing', 'expedient', 'Case', 'Grove', 'bowed', 'hailed', 'organizing', \"car's\", 'charity', 'Signal', 'awaited', 'overwhelmingly', 'Patricia', 'gubernatorial', 'solo', 'Deputy', 'grocery', 'norm', 'tragedies', 'con', 'Steel', 'statutes', 'Ala.', 'slums', 'bang', 'levy', 'brisk', 'enact', 'victories', 'Prior', 'troublesome', 'floated', 'contractual', 'violate', 'Question', 'crushing', 'Treaty', 'scandals', 'fare', 'labor-management', 'Martinelli', 'infield', 'Paradise', 'facto', 'cease-fire', 'Representative', 'Buckley', 'pitchers', 'Sr.', '$5', 'dwellings', '1923', 'dividing', 'utilities', 'certificate', 'distressing', '24th', 'cooperating', '9th', 'relaxation', 'enlarged', 'Maurice', 'Gorboduc', 'Nine', 'uncovered', 'lambs', 'provocative', 'inference', 'intensification', 'breathe', 'confines', 'distributor', 'vanity', 'economies', 'triggered', 'Caribbean', \"Company's\", 'examining', 'sanitation', 'builds', 'accreditation', 'Recreation', 'Thanksgiving', 'salami', 'unbroken', 'incidence', 'diarrhea', 'lessening', 'misplaced', 'anarchy', 'mercury', 'Italians', 'mouthpiece', 'submerged', \"Oersted's\", 'chatter', 'banished', 'dealings', 'voltaic', '1819', 'links', 'magnetism', 'sipping', 'Electrical', 'Present', 'consultants', 'Automobile', 'rosy', 'Success', 'nickel', 'charting', 'Things', 'impaired', 'relate', 'rehearsed', 'gazed', 'crashing', 'invisible', 'deja', 'vue', 'surged', 'concurrent', 'nutrition', 'Mediterranean', 'uniformed', 'wiser', 'twenty-one', 'wandering', 'squat', 'repeal', 'Approximately', 'discriminating', 'multiplying', 'liability', 'styrene', 'dominates', 'acetate', 'openings', 'wary', 'plight', 'stud', 'hopelessly', 'unload', 'clinging', 'Follow', 'calculating', 'Horse', 'experimentally', 'wiry', 'curved', 'molds', 'envy', 'grudge', 'bending', 'echoed', 'grey', 'warmly', 'strand', 'Hold', 'Shadow', 'heretofore', 'glue', 'retaining', 'flooring', 'U.S.S.R.', 'axes', 'Competition', 'rag', 'drained', 'shrill', 'frankfurters', 'Score', 'gravely', 'predominantly', 'landmarks', 'formations', 'sunshine', 'Hardly', 'Sophia', 'diamonds', 'woven', 'old-fashioned', 'heir', 'chilled', 'knives', 'Years', 'endlessly', 'stranded', 'obscured', 'Body', 'breadth', 'postcard', \"farmer's\", 'sands', 'underneath', 'Key', 'Animals', 'slopes', 'skeptical', 'high-pitched', 'beset', 'fashioned', 'Problems', 'pinched', 'consensus', 'transform', 'moods', 'Dag', 'recognizable', 'symptomatic', 'Juan', 'innovation', 'hereby', 'penetrate', 'immigration', 'rigorous', 'Batista', 'gatherings', 'elephant', 'protesting', 'Tammany', 'brutal', 'dripping', 'Ellis', 'pipes', 'countryside', 'Joint', 'dunes', \"Washington's\", 'sighted', 'hurricane', 'Montpelier', 'blamed', 'Operation', 'biology', 'riot', 'wasteful', 'cosmetics', 'Cattle', 'ranchers', 'choked', 'generosity', 'accomplishment', 'cancel', 'regulated', 'reluctantly', 'stir', 'deliberations', 'discontinued', 'faintly', 'cracks', 'bruised', 'spin', \"1930's\", 'temperament', 'typing', 'salaries', 'Winter', 'brandy', 'evaluating', 'bucket', 'aeration', 'govern', 'inform', 'evoked', 'abuses', 'defective', 'attributable', 'Hanoverian', 'provoked', 'disputes', 'conveniently', 'Giles', 'Religious', 'pony', 'prevails', 'concessions', 'trapped', 'congregational', 'recruitment', 'nonetheless', 'summed', 'displeased', 'listing', 'Rooney', 'harmonies', 'peasant', 'tails', 'Menshikov', 'Kyoto', 'vulgar', 'Imperial', '7:30', 'uphold', 'strive', 'instinctively', 'callous', 'preferences', 'Corso', 'Nikita', 'haze', 'solving', 'pretend', 'postulated', 'sculptures', 'polar', 'deterministic', 'self-certainty', 'infringement', 'conceal', 'procedural', 'greet', 'royalty', 'withholding', 'Dei', 'facade', 'denounced', 'scraping', 'Somers', 'twins', 'revenge', 'barge', 'bargain', 'headlines', 'gaudy', 'exhaust', 'elastic', 'tapped', 'intuitive', 'Blood', 'Adlai', 'odors', 'socks', 'irons', 'rented', \"ladies'\", 'fierce', \"Wasn't\", 'skins', 'beatnik', 'disorder', 'Shaefer', 'commenced', 'gadgets', 'Tshombe', 'colonies', 'vaginal', 'indefinite', '25,000', 'orgasm', 'ruthless', 'Diana', 'commencing', 'ancestor', 'Harrington', 'Jelke', 'reign', 'lure', 'Conant', 'unavailable', 'kidding', 'regards', 'earthquakes', 'inferior', 'Mister', 'flatly', 'platoon', 'ambush', 'Study', \"Year's\", 'barefoot', 'Lexington', 'appreciably', 'fronts', 'erupted', 'Gore', 'graduating', 'bathed', 'exemption', 'rusty', 'Goulding', 'rattling', 'ascertain', 'chore', 'broadened', 'condemnation', 'incredibly', 'backgrounds', 'paces', 'fragmentary', 'cabins', 'twenty-three', 'Snelling', 'annoyed', 'Starting', 'laundering', \"Sherman's\", 'disappointing', 'lore', 'collector', 'analyst', 'ledger', 'Nashville', 'incidentally', 'bureaucracy', 'maneuvers', 'Napoleon', 'suspicions', 'calories', 'Molotov', 'spoilage', 'concentrates', 'powdered', 'inventor', 'publisher', 'coronary', 'prey', 'Twentieth', 'strangely', 'ugliness', 'portraits', 'fostered', 'fatty', 'morally', 'beast', 'liberties', 'discourse', 'traveler', 'illusions', 'edited', 'reproduce', 'experimenting', 'communicating', 'McCarthy', 'hotter', 'Nice', 'mansion', 'mint', 'Swedish', 'Suite', 'broadcasts', 'weekends', 'lakes', 'Clerfayt', 'origins', '$200', 'correspond', 'exclude', 'popularly', 'implying', 'utmost', 'unmistakable', 'mapping', 'plentiful', 'thy', 'persists', 'reassuring', 'sympathize', 'yearning', 'lord', 'dominion', 'disobedience', 'generalizations', 'insufficient', 'concentrating', 'Taiwan', 'Mao', 'emptied', 'starvation', 'motionless', 'superstition', 'filthy', \"Bultmann's\", 'unavoidable', 'flock', 'despise', 'cycles', 'emergencies', 'rags', 'gestures', 'Whitehead', 'arrives', 'inhuman', 'Tibet', 'undertook', 'defy', 'flattered', \"Charles'\", 'oven', 'chord', 'Jen', 'Elizabethan', 'equivalents', 'superficial', 'blaze', 'overcomes', 'stamped', 'inexperienced', 'Together', 'raining', 'exuberant', 'Going', 'careless', 'myriad', 'battles', 'Victory', 'ballad', 'generate', 'novelties', 'tonal', 'whipping', 'symphonic', 'Kennan', 'revolutions', 'concluding', 'negotiated', \"author's\", 'mildly', 'noteworthy', 'endowed', 'Yorker', 'scratched', 'numbering', 'talented', 'torso', 'ballads', 'linger', 'digging', 'sensibility', 'idiom', 'large-scale', 'Ferguson', 'chronological', 'dignified', 'strides', 'Sponsor', 'assimilation', \"artist's\", 'Gloucester', 'mysteries', 'galaxies', 'hopefully', 'rays', 'tunes', 'gases', 'enclosure', 'responds', 'depart', 'Brahms', 'fortified', 'trusts', 'Spain', 'mores', 'tricks', 'lyrical', '1929', 'raucous', 'expressive', 'invent', 'topped', 'newcomer', 'wink', 'irritation', 'recorder', 'reinforced', 'conclusively', 'magnificently', 'Call', 'hesitation', 'bony', 'sincerely', 'Magazine', 'Pauling', 'intake', 'alteration', 'performer', 'tapered', 'Quartet', 'Congregational', 'comprehension', 'cite', 'fidelity', 'multiplied', 'easiest', 'discomfort', 'pacing', 'Scriptures', 'Finals', 'sensing', 'fishermen', 'recalling', 'nostalgia', 'IBM', 'oval', 'photography', 'tan', 'Large', 'phosphate', 'fifties', 'blossoms', 'reputable', 'narrower', 'acids', 'discs', 'terrifying', 'vulnerability', 'Titan', 'Turn', 'cerebral', 'disorders', 'crowned', 'airborne', 'brushing', 'brushes', 'motors', 'locks', 'terrified', 'Direct', '2:37', 'depicted', 'immature', 'antelope', 'coloring', 'Dear', 'shortened', 'Physical', 'hunch', 'tallyho', 'courtesy', 'enlightened', 'Heat', 'ink', 'cured', 'cruising', 'tablespoons', 'trotted', 'masculine', 'confinement', 'Hoot', 'prisoner', 'Sing', 'Manufacturers', 'nomenclature', 'Ring', 'sloping', \"1/8''\", 'unwilling', 'postpone', 'lifting', 'hysteria', 'fascinated', 'illustrates', 'cylinders', 'piston', 'participates', 'CDC', 'sprinkling', 'glaring', 'thighs', 'emperor', 'Supper', 'preparatory', 'premise', 'hymn', 'inactive', 'sentiments', 'install', 'exploding', 'exclusion', 'Schuylkill', 'polite', 'Jerusalem', 'alley', 'subway', 'reservation', 'prohibited', 'immunity', 'Membership', 'stimulated', 'contemplate', 'refuge', 'offspring', 'embodied', 'credo', 'corpse', 'factual', 'alarmed', 'spiritually', 'ministry', 'joys', 'amusement', 'Karl', 'hanged', 'dubious', 'diversion', 'graveyard', 'departures', 'sixty-five', 'prevail', 'terraces', 'symmetry', 'packaging', 'manipulation', 'monastic', 'beckoned', 'abolition', 'commend', 'desperation', 'hears', 'mailing', 'Marina', 'visions', 'Undoubtedly', 'skiing', 'distortion', 'wisely', 'straining', 'Bench', 'elbows', 'generating', 'Hopkins', 'precautions', 'Engineering', 'unrelated', 'Real', 'restrictive', 'securing', \"client's\", 'Twenty', 'blizzard', 'snows', 'swell', 'certified', 'burdens', 'self-determination', 'obeyed', 'disagree', 'futility', 'approximation', 'patriot', 'Celtic', 'proxy', 'tart', 'streaming', 'bolted', 'suppression', 'Fe', 'wearily', 'polyether', 'threads', 'Meynell', 'photocathode', 'roses', 'slippers', 'surrendered', 'chic', 'Rhine', 'rocket', 'darkened', 'persecution', 'managing', 'grinning', 'executives', 'shout', 'errand', 'ballroom', 'jointly', 'Carnival', \"Shelley's\", 'maximization', 'speck', 'choking', 'Seems', 'Saxons', 'overlooked', 'exit', 'Work', 'apron', 'Expectations', 'Princeton', 'hammer', 'spraying', 'elbow', 'Define', 'quarry', 'DIOCS', 'ponds', \"Hitler's\", 'algae', 'conservation', 'forgetting', 'Boy', 'Tessie', 'Annapolis', 'protozoa', 'stalked', 'damaged', 'middle-aged', 'pilots', 'Mines', 'clutched', 'Nicholas', 'Succession', 'terrestrial', 'experiencing', 'yields', '10%', 'Farmers', 'tractors', 'Va.', 'Kahler', 'Nearly', 'receipts', 'hawk', 'motels', 'discrete', 'lump', 'Molesworth', 'taxable', 'groped', 'spherical', 'softened', 'sporting', 'signing', 'speculate', 'bum', 'stack', 'hallway', 'Duclos', 'entirety', 'Rebel', 'attendants', \"1960's\", 'Rabbi', 'taller', 'Greater', 'invites', 'peaked', 'Troop', 'Col.', 'goddamn', 'bluntly', 'chimney', 'dessert', 'trousers', 'upturn', 'Heard', 'bundles', '40%', 'Shop', 'securities', 'Read', 'Carter', 'Lilian', 'eyed', 'lace', 'writ', 'awaken', 'Olgivanna', 'dystopian', 'inefficient', 'Flannagan', 'subdued', 'sporadic', 'integrate', 'centrifuged', 'Evanston', 'hebephrenic', 'chromatography', 'aerosol', 'semantic', 'lookup', 'meteoritic', 'photochemical', 'CTA', 'syllables', 'queens', 'declarative', 'soiled', 'mentions', 'surface-active', 'cursing', '5,000', 'arena', 'symmetric', 'pensions', 'posed', 'parameter', 'Yokuts', 'hr', 'beebread', 'Mussorgsky', 'marksman', 'vectors', 'dilution', 'offensive', 'Vientiane', 'confirmation', 'Murphy', 'gall', 'Seattle', 'subspace', 'Fidel', 'cf.', 'announcing', 'twin', 'Brandywine', 'Lemma', 'denotes', 'obstacles', 'Summary', 'affiliated', 'quadric', 'Funeral', 'equate', 'supportive', 'regression', 'Anna', 'Andrena', 'narcotics', 'verbs', 'Darling', 'wallpaper', 'pathology', 'oak', 'hereunto', 'Plantations', '69', 'terrace', 'follow-up', 'aggregate', \"More's\", '33', 'garbage', 'Interest', 'flatness', 'fiery', 'Costaggini', 'valuation', 'totaled', 'Fletcher', 'Kitty', 'Oliver', 'alterations', 'Hawk', 'hunted', \"Patchen's\", 'Simpkins', 'afloat', 'Vermejo', 'Illustration', 'reactor', 'consequent', 'Gibbs', 'indices', 'bidding', 'bottoms', 'fastest', 'directing', 'restraints', '203', 'referrals', 'reproduced', 'Burnside', 'trustee', 'Yugoslav', 'collision', 'diaphragm', 'bulb', 'currency', 'Beatrice', 'resistors', 'potentially', 'bail', 'booked', 'positivist', 'Aaron', 'Canadian', 'simulated', 'cortex', 'buses', 'warriors', 'Colonial', 'shrewd', \"Today's\", 'slick', 'punished', '1105', 'monotony', 'longed', 'Slowly', 'diffraction', 'Frankfurt', 'Palestine', 'exalted', 'arches', 'refugee', 'hinted', 'wrinkles', 'Woman', 'grove', 'eyelids', \"Russell's\", 'Leave', 'Willings', 'Everywhere', 'dispersed', 'Nobel', 'aborigine', 'boulder', 'n', 'Mullins', 'configuration', 'faults', \"Meeker's\", 'Solid', 'defiance', 'patted', 'Heiser', 'phones', 'injection', 'execute', \"an'\", '1832', 'embassies', \"Mike's\", 'Hez', 'Wells', 'Register', 'bestowed', 'Venice', 'Oso', 'Homer', 'buckskin', 'Summers', 'Leo', 'ambiguities', 'organisms', 'Hamm', 'excitedly', 'perceptual', 'continents', 'awaiting', 'smoothed', 'combines', 'oats', 'Digby', 'Macneff', 'gapt', 'accessories', 'quivering', 'Days', 'exchanged', 'Siddo', 'wretched', 'urbanization', 'epithets', 'Pakistan', 'fifteenth', 'Donovan', 'hoofs', 'cautiously', 'comprised', 'Paxton', \"Nick's\", 'Gibby', 'Geely', 'accruing', 'frail', 'redhead', 'slacks', 'recession', 'imposing', 'Down', 'Benington', \"club's\", 'Base', 'trumpet', 'portrayal', 'Mousie', 'rendezvous', 'Shylock', 'sampled', 'dugout', 'restraining', 'Cardinal', 'Fudo', 'activation', 'Marcus', 'cough', 'collapse', 'seasonal', 'edged', 'subsidiary', 'knight', 'hugging', 'Catatonia', 'glare', \"York's\", 'Kodyke', 'cheer', 'pursuing', 'Sabella', 'screeching', 'squall', 'Regulation', '1815', 'seizure', 'Berry', 'totalitarian', 'bloomed', 'frivolous', 'overheard', 'Hawthorne', \"Schnabel's\", 'divides', 'Gyp', 'Ridge', \"N'\", 'initiation', 'oppression', 'thinner', 'Souvanna', 'all-out', 'ancestors', '7-1', 'zing', 'Sources', 'questionnaires', 'observance', 'maladjustment', 'Rossoff', 'manifested', 'thaw', 'tanned', 'all-Negro', 'Gansevoort', 'Count', 'pear', 'schizophrenic', 'Manuel', 'Hernandez', 'Orvis', 'slapping', 'shipped', 'compliance', 'Appeals', 'Granny', 'pegboard', 'agitation', 'Handler', 'Pearl', 'sportsmen', 'assures', 'Matilda', 'stint', 'brute', 'modify', 'noises', 'Shafer', \"Welch's\", 'Pels', 'relinquish', 'Aid', 'canyon', 'suspense', 'treason', 'sponge', 'sax', 'magnified', 'pessimistic', 'attacker', 'Doolin', \"bull's-eyes\", 'pansy', 'workmanship', 'exercising', 'elaborately', 'Weider', 'bodybuilder', 'contemporaries', 'refined', 'referral', 'concerto', 'Gladdy', 'gleaming', 'inexplicable', 'airfields', 'invalid', 'Tolley', 'compute', 'vowel', 'Set', 'arm-elevation', 'B-70', 'album', 'mandatory', 'writhing', \"Spencer's\", 'morphophonemic', 'orthography', \"Doaty's\", 'pleasures', 'Gunny', 'sensual', 'Conservation', 'dissatisfied', 'Des', 'freeze', 'candidacy', 'china', 'witnessing', 'inhabited', 'contemplation', 'commissioner', 'manure', 'f-plane', \"mind's\", 'boxcar', 'Alma', 'diluted', 'susceptible', 'handicap', 'Schnabel', 'inscribed', 'tolerated', 'steamed', 'demons', 'operetta', 'disseminated', 'GNP', 'descriptive', 'educators', 'single-valued', 'Text', 'Prieur', 'portray', 'materialism', 'tangents', 'mulch', '74', 'Around', 'propulsion', 'cliche', 'bells', 'Katharine', 'humming', 'Sixth', 'aligned', 'Schwarzkopf', 'Coughlin', 'smug', 'fingerprint', \"They'd\", 'redcoat', 'demythologization', 'darted', 'Think', 'universally', 'potency', \"Black's\", 'outlets', 'underworld', 'musket', 'characterize', 'Jake', 'Bonner', 'fucken', 'extract', 'bothering', 'sneaked', 'depicting', 'fold', 'throttle', 'bitch', 'Westfield', 'billions', 'decreasing', 'longest', \"Killpath's\", 'Roots', 'yelling', 'sleepy', 'licensed', 'merchandise', 'Bong', 'Continent', 'Hello', 'modernity', 'solace', 'dripped', 'Hirey', 'attaining', 'inspiring', 'routes', \"baby's\", 'winking', 'flushed', 'Gap', 'Mountain', 'Upper', 'Thelma', 'Dakota', 'lbs.', 'creaked', 'marinas', 'outboard', 'originate', 'mast', \"Remarque's\", 'grounded', 'treacherous', 'restoring', 'terminology', 'saturated', 'scarce', 'molecule', 'ingredient', 'okay', 'snoring', 'slowing', 'Mollie', 'Perrin', 'deposits', 'arterial', 'Jarrodsville', 'Roberta', 'Scientists', 'flopped', 'crutches', 'bartender', 'unbearable', 'fille', 'Says', 'distribute', 'Mose', 'Fritzie', 'blushed', 'absently', 'clergymen', 'identifies', 'Phedre', 'hostility', 'partition', 'interdependence', 'paradigm', \"Thomas's\", 'forefinger', 'unconcerned', 'bulletin', 'tightened', 'DA', 'whatsoever', 'pastoral', 'rebut', 'evangelism', 'workings', 'DC', 'dipper', 'Kid', 'sinned', 'sword', 'amorphous', 'Rangoni', 'willed', 'Powers', 'frightful', 'Nineteen', 'annihilation', 'distinguishing', 'deduced', 'Rodgers', \"Brumidi's\", 'indefinitely', 'Presumably', 'delivers', 'mainland', 'elicited', 'Simultaneously', 'cathedral', 'Highlands', 'affectionate', 'charted', 'pre-war', 'plank', 'loneliness', 'pounding', 'Shell', 'Practically', 'portrayed', 'whereupon', 'blot', 'propriety', 'intensifiers', 'distrust', 'R-stage', 'suppress', 'responding', 'insisting', 'gyro-stabilized', 'rotor', 'gorgeous', 'amplifier', 'Nellie', 'grandeur', 'appoint', 'broadcasting', 'immortal', 'similitude', 'Negro-appeal', 'intensifier', 'foaming', 'shoving', 'clear-cut', 'Munich', 'continuance', 'forty-five', 'Narragansett', 'ailments', 'sweetly', 'Thou', 'concessionaires', 'Olga', 'surveillance', 'Test', 'Norberg', 'radiopasteurization', 'anew', 'Hesiometer', 'peeling', 'astonished', 'canons', 'garment', 'accepts', 'nation-state', 'firmer', 'Arp', 'forties', 'journal', 'tenuous', 'reversible', \"captain's\", 'affirmed', 'psychoanalytic', 'neurosis', 'comparisons', 'blurred', 'sensibilities', 'convict', 'betrayal', \"Eichmann's\", 'coasts', 'overcoming', 'strangled', 'adolescents', \"family's\", '1939', 'originality', 'reflective', 'J', 'contour', 'rat', 'straighten', 'dissolve', 'Multiply', 'calmed', 'axe', 'huts', 'ox', 'Leyte', 'ridden', 'trooper', 'organism', 'glowed', 'noisy', 'amplitude', 'gravity', 'Osaka', 'insolence', 'methodically', 'Capone', 'Saint', 'Amendment', 'definitions', 'indecent', 'myths', 'patriotism', 'drunken', 'Bellows', 'dodge', 'pretense', 'attorneys', 'trader', 'Examples', 'prompted', 'barley', 'Reich', 'flashing', 'metals', 'Burlington', 'complexion', 'whole-wheat', 'wastes', 'erosion', 'sandy', 'bizarre', '28th', 'momentary', 'Adoniram', 'cries', 'clambered', 'bellowed', 'chattering', 'decks', 'cargo', 'laden', 'psyche', 'Immediately', 'Whig', 'Tories', 'nodding', 'pretentious', 'anthropology', 'Cost', \"Hearst's\", 'brow', 'stairway', 'Manley', \"Bang-Jensen's\", \"Copernicus'\", 'scout', 'quackery', \"Ptolemy's\", 'kidney', 'epicycles', 'velocities', 'luxurious', 'Bey', 'astronomical', 'hid', 'prostitute', 'rabbi', 'submitting', 'sexually', 'Calderone', 'Kenneth', 'Jo', 'posterior', 'membrane', 'Huxley', 'Wexler', 'projecting', 'Travel', 'unhappiness', 'urgently', 'precinct', 'broadly', 'legendary', 'exclamation', 'Spade', 'verified', 'shaded', 'Della', 'piazza', 'renaissance', 'adjunct', 'blinked', 'interchange', 'disregard', 'glistening', 'explicitly', 'transcends', 'polarization', 'elementary-school', 'sniffed', 'vaults', 'attribute', 'lounge', 'Erikson', 'delinquent', 'Whigs', 'fuzzy', 'illustrative', 'testament', 'sidewise', 'whining', 'oddly', 'ponies', 'graves', 'starving', 'Agnese', 'whirled', 'uneasily', \"Court's\", 'internally', 'outbursts', 'Bourbons', 'socialist', 'feudal', 'complicity', 'reflections', 'abstractions', 'Nara', 'Masu', 'licensing', 'thinkers', 'Money', 'countenance', 'barren', 'oath', 'confidential', \"Wisman's\", 'Perier', 'engages', 'characteristically', 'rebuilding', 'Schwartz', 'sucked', 'sequences', 'robbers', 'construed', 'Antonio', 'misunderstood', 'slit', 'Emancipation', \"William's\", 'planter', 'Hays', 'Burgundy', 'practicable', 'churchyard', 'soaked', 'highroad', 'causal', 'merry', 'Heidenstam', 'healing', 'Parthenon', \"parents'\", 'patrolman', 'weakening', 'antiseptic', 'wrists', 'traversed', 'entrepreneur', \"life's\", 'Sherlock', 'Cultural', 'informs', 'newspaperman', 'pretended', '300,000', 'sofa', 'unreal', 'travelers', 'defenders', \"'im\", 'small-town', 'unwanted', 'environmental', 'Collins', 'clad', 'syntax', 'Newton', 'Chapman', 'impelled', 'strays', 'Brazil', 'reconstruct', 'Seeds', 'Beckett', 'Waiting', 'corresponds', 'buzzing', 'dialectic', 'liberated', 'drafting', 'Operating', '1888', 'queer', 'scent', \"master's\", 'veiled', '$5,000', 'recurring', 'gunfire', 'tapping', 'Construction', 'Radiation', 'spear', 'tenor', 'spoiled', 'tablespoon', 'Contrary', 'rupee', 'groundwave', 'Vandiver', 'gloves', 'flares', 'yarns', 'rinse', 'emeralds', 'digital', 'manometer', '1895', 'Fountain', 'interfacial', 'Canyon', 'Zion', 'filtering', 'uneven', 'Pictures', 'Forge', 'authorizations', 'stain', 'greasy', 'users', 'cling', 'piling', 'buggy', 'drowned', 'Publication', 'conspicuous', 'thirty-four', 'calibration', 'Haven', 'Liberty', 'wander', 'Experiments', 'dusting', 'spectral', 'courteous', 'expandable', 'cottages', 'Linden', 'thermometers', 'clamps', '**yl', 'Needless', 'Run', 'sew', 'spoon', 'coil', 'Measurements', 'birthplace', 'polymerization', 'revolving', 'liquids', 'pleura', 'pleural', 'anastomoses', 'subtraction', 'File', 'progresses', 'Tables', 'slot', 'spacing', 'right-hand', 'arrows', 'ossification', 'connecting', 'levers', 'iodinated', 'notches', 'fibrosis', 'Microscopically', 'cord', 'Dowex-2-chloride', 'unduly', 'pseudophloem', 'Designers', 'horizons', 'tedious', 'NS', 'Engineers', 'compression', 'rpm', 'micelle', 'septa', 'Substances', 'pigs', 'strewn', 'sensors', 'intersect', 'meteorite', 'fried', 'pinch', 'minced', 'shave', 'porter', 'fragrance', 'Creek', 'Neutral', 'impetus', '1905', 'cocked', 'compares', 'carbine', 'agglutinin', 'cartridge', 'Deerstalker', 'Hi', 'larvae', 'boa', 'constrictor', 'Adios', 'annoying', 'Forensic', 'Hellenic', 'periodically', 'divan', 'denies', 'Suvorov', 'inhibition', 'Acropolis', 'shattering', 'assassin', 'severed', \"Aristotle's\", 'headaches', \"Morgan's\", 'Frequently', 'riflemen', 'ketosis', 'reproduction', 'enzyme', 'forty-four', 'one-fourth', 'abortion', '$2,000', '700', 'reduces', 'intercept', 'Drug', 'web', '13th', 'salts', 'comb', 'diction', 'place-name', 'firearms', \"Milton's\", 'carpenter', 'scaffold', 'packages', 'Officials', 'exhibiting', 'papal', 'quicker', 'sprayed', 'Venetian', 'adhesive', 'interplay', 'Lowell', 'low-cost', 'tubing', 'supplier', 'Ministry', 'lays', '$20', 'secretaries', 'remedies', \"Thomas'\", \"public's\", 'sundown', 'whistled', \"SAAMI's\", 'coordinates', 'jug', 'Poetry', 'intends', 'Rexroth', 'epoch', 'appointments', 'outraged', 'twenties', \"Prokofieff's\", 'Lauro', 'frontage', 'Bosis', 'swam', 'Contact', 'desolate', 'Geological', 'Offices', 'Cooperatives', 'condensation', 'BTU', 'focusing', 'Fixed', 'thermostat', 'filtered', 'upkeep', 'out-of-state', 'ducts', 'Symposium', 'pins', \"pool's\", 'centum', 'compose', 'profile', 'endorse', 'sunk', 'supplemented', 'Copenhagen', 'stimulate', 'educate', 'infiltration', 'veins', 'Macbeth', 'outlines', 'rotated', 'amplified', 'Shakespearean', 'Blake', 'replaces', 'compulsory', 'x-ray', 'staggering', 'streaks', 'bailiff', 'Stratford', 'clumsy', 'newborn', \"Earth's\", 'spontaneity', 'Breasted', 'expeditions', 'Trees', 'bewildered', 'loom', 'commodity', 'moderately', 'Turkey', 'deadline', 'pry', 'Border', 'aisle', 'dapper', 'Alliance', 'reliance', 'preferable', 'aiding', 'withdrawal', 'Multnomah', 'succeeding', 'unprepared', 'le', 'Individual', 'uranium', 'enrollment', 'discovering', 'successors', 'desegregated', 'tentatively', 'treasures', 'prizes', 'first-class', 'smothered', 'lad', 'Lacking', 'flattened', 'investments', 'folly', 'turnpike', 'coincided', 'gripping', 'dramas', 'classify', 'flourished', 'Grasslands', 'zoo', 'roam', 'recognizing', 'wartime', 'repression', 'chanted', 'schemes', 'DeKalb', 'stance', 'retaliation', 'governors', 'resolutions', 'insured', 'budgeting', 'abandoning', 'geographically', 'understands', 'ever-present', 'apologetically', 'margins', 'outspoken', 'Elder', 'Fitzgerald', '1919', 'Beaverton', 'laymen', 'invoked', 'engaging', 'rationale', 'upheld', 'defendant', 'Aircraft', 'Nebraska', 'declines', 'esprit', \"A's\", 'well-informed', 'strengthened', 'episodes', 'Initially', 'throws', 'secretly', 'probe', 'weakened', 'debates', 'toughness', 'negotiation', 'announcements', 'heightened', 'disgusted', 'doubles', 'Ancient', 'pastors', 'advocating', 'guise', 'paired', 'aching', 'specifications', 'Farrell', 'photographers', \"Miller's\", 'Terry', 'grumble', 'drives', 'separating', 'downhill', 'contemptuous', 'rivalry', 'visibly', '120', 'putt', 'Augusta', 'disbelief', 'presiding', 'perennial', 'Humphrey', 'bodily', 'Colmer', 'noses', 'mountainous', 'upwards', 'invaded', 'presidents', 'banner', 'savages', 'fortunes', 'RCA', 'Records', 'inexpensive', 'presentations', 'interviewing', 'sculptor', 'manifestation', 'vantage', 'glands', 'experimented', 'shaving', 'toothbrush', 'throats', 'textures', 'airy', 'teachings', 'righteousness', 'Version', 'cohesion', 'gazing', 'academy', 'congressman', '1883', 'foes', 'bust', 'Specific', 'pasted', '1865', 'complexes', 'seller', 'Short', 'hardy', 'flowering', 'cordial', 'refreshing', 'inquire', 'Toward', 'omitting', 'laborer', 'packaged', 'cutters', 'riders', 'Voice', 'persist', 'angrily', 'costing', 'inception', 'canoe', 'accelerating', 'sack', \"government's\", 'devoid', 'wears', 'goat', 'fleeting', 'temptations', 'helper', 'subscribers', 'predecessors', 'mandate', 'futile', 'blossom', 'inaction', 'man-made', 'signature', 'floods', '1936', 'contractor', 'Nowhere', 'strife', 'refugees', 'outlined', 'sits', 'Survey', 'Udall', 'shoreline', 'keel', 'predicting', 'automation', 'breach', 'anti-Communist', 'Regardless', 'chancellor', 'assess', 'documented', '95', 'maze', 'stealing', 'canning', 'poise', 'forgiven', 'thinker', 'artificially', 'Iron', 'subordinate', 'unorthodox', 'Plans', 'clouded', 'assembling', 'fabulous', 'Reports', 'notch', 'versa', 'finances', 'out-of-town', 'heavenly', 'manhood', 'alternately', 'ambivalent', 'jam', 'Desegregation', 'towel', 'thanked', 'relic', 'feather', 'sadness', 'earthly', 'commotion', 'Confederacy', 'paneling', 'fireplace', 'storms', 'Jenks', 'Patrolman', '1934', 'pardon', 'Stewart', '$800', 'wavelengths', 'detecting', 'revived', 'navy', 'reactors', 'adviser', 'manuscript', 'wrapping', 'passport', 'patterned', 'hunter', 'Dreadnought', \"Britain's\", 'Various', 'abide', 'NBC', 'Elmer', 'finale', 'laborers', 'manual', \"Mantle's\", 'Johns', 'Prosecutor', 'Mile', '68', 'weaknesses', 'crippling', 'Indianapolis', 'Louisville', 'congestion', 'Turner', 'Pierce', 'Chuck', 'scratches', 'ripped', 'Wilmington', 'Wallace', 'tagged', 'arrears', 'bruises', 'creed', 'Teaching', 'Utah', 'tax-exempt', 'reflexes', 'Siberia', 'makeshift', 'Vietnamese', 'narrowly', 'northeast', 'Liston', 'Werner', 'ambulance', 'Abbey', 'feat', \"She'll\", 'athletics', 'morals', 'promotional', 'canceled', 'hooked', 'Honolulu', \"summer's\", 'buffet', 'Arms', 'idol', 'Cancer', 'Alvin', \"Palmer's\", 'possessing', 'spelled', 'flowed', 'sensational', 'Crystal', 'super', 'Dame', 'Notre', 'inscription', 'healed', 'runaway', 'bats', 'Danny', 'slogan', 'bayonet', 'blazing', 'Harcourt', '$150', 'assaulted', '$20,000', 'robbery', 'Wiley', 'ashes', 'Auditorium', 'attends', 'Katherine', 'Sutherland', 'fraternity', 'Meyer', 'totals', 'doings', 'hospitality', 'Marie', 'Alpha', 'ants', 'accidentally', 'marvel', 'stadium', 'cookies', 'winner', 'Marr', 'Trophy', 'gala', '1926', 'grandchildren', 'caps', 'Stay', 'Stengel', 'residing', 'assisting', 'Pasadena', 'Browning', 'impeccable', 'pilgrimage', 'Getting', 'Bird', 'needles', 'linen', 'Robbins', 'Dunn', 'coconut', 'Hawaiian', 'ramp', 'vicinity', 'someplace', 'attire', 'Fresh', 'colts', 'tucked', 'snack', 'softening', 'outdoors', 'Heritage', 'sprinkle', \"Sunday's\", 'puppet', 'lamps', 'Yuri', 'Whitey', 'fore', 'windshield', 'wiping', 'gallons', 'popped', 'pitches', 'Channel', 'tease', 'boasted', 'senseless', 'auspices', 'Episcopal', 'manipulate', '86', 'assemblies', 'shortstop', 'lecturer', 'Workshop', 'productions', 'Lauderdale', 'props', 'workout', 'relegated', 'rookie', 'circus', 'Mostly', 'Forsythe', 'dividend', 'creator', 'Coach', 'ghastly', 'Quaker', 'm.p.h.', 'Allies', 'pollution', 'wrecked', 'plague', 'Convention', 'Kelsey', 'Buchheister', 'Sciences', 'opener', 'imprisonment', 'Riders', 'interfering', 'sinking', 'rescued', 'ashore', 'contributors', 'Workers', 'rings', 'wallet', 'lamb', 'assessments', 'ribbons', 'Nevada', 'Caesar', 'workmen', 'Leavitt', 'weaken', 'Greer', 'Butcher', 'Waters', 'Football', 'percentages', 'figuring', 'depletion', 'Toronto', '25%', '5%', 'borrowing', 'examiner', 'conversions', 'touchdown', 'debentures', 'liable', 'cautioned', 'pessimism', 'Janice', 'banquet', 'bearings', 'Moss', 'Gin', '56', 'Bonn', 'meter', \"France's\", '6th', 'rub', 'stunning', 'lacks', \"Where's\", 'booking', 'wrongs', 'demonstrates', 'splendor', 'vibrant', 'Lenin', 'imperial', 'Phase', 'subtly', 'paralysis', 'forthright', 'jackets', 'intimately', 'Guardian', 'Hough', 'Different', 'Writing', 'hymns', 'revulsion', 'continuum', 'adaptations', 'alienated', 'singly', 'Bates', 'unpopular', 'Especially', 'coffin', 'economist', 'spine', 'herds', 'excerpt', 'practitioners', 'atop', 'explode', 'ambassadors', 'proposing', 'grenades', 'poignant', 'brightly', 'spotlight', 'fairness', 'publicized', 'Eighth', 'scandal', 'soprano', 'gangs', 'disc', 'grudgingly', 'biting', 'saga', 'lash', 'casts', 'castle', 'uniformly', \"leader's\", 'evoke', 'Ethics', \"Church's\", 'virtuous', 'Emergency', 'indicative', 'Archbishop', 'volley', 'tingling', 'closes', 'abdomen', 'progressively', 'subjectively', \"yesterday's\", 'induction', 'alas', 'recourse', 'Abraham', 'idly', 'exceeding', 'non-Catholic', 'robe', 'glittering', 'hypocrisy', 'fascination', 'participants', 'communicative', 'complied', 'petty', 'twenty-two', 'frenzy', 'contend', 'superimposed', 'chords', 'slipping', 'Berman', 'Glenn', 'dreary', 'Armstrong', 'recital', 'juicy', 'Thurber', 'lapse', 'ecstasy', 'Hero', 'clip', 'operative', 'Active', 'auxiliary', 'twists', 'satellites', '$60', 'meticulously', 'mediocre', 'Ordinary', 'platforms', 'cock', 'Carey', 'buddies', 'Supply', 'probing', 'syndicate', 'Mando', 'huh', 'planks', 'Maintenance', 'brows', 'Orders', 'Burr', 'kindness', 'tribal', 'SMU', 'mastered', 'converse', 'supervise', 'Ronnie', 'Herford', 'allusions', 'monacle', 'showered', 'whoever', 'asserts', '77', 'Crisis', 'salesmanship', 'operatic', 'Page', 'Hayes', \"Sloan's\", 'shadowing', 'Sheriff', 'chronology', 'inflation', 'Clubs', 'Caravan', 'superseded', 'glared', 'hairy', 'palette', 'complaining', 'squared', 'transactions', 'Baer', \"lady's\", 'Rebels', 'differentiated', 'sophomore', 'Loan', 'Blenheim', 'tattered', 'Grey', 'Investors', 'circulating', 'Letters', 'romantics', 'mergers', 'buyers', 'proximity', 'indecision', 'make-up', '1834', 'legacy', 'extraction', 'Gentile-Jewish', 'swirled', 'Emmett', 'piping', 'banister', 'brandishing', 'fruitless', 'devastating', 'telephones', 'entitle', 'thrusts', 'theologian', 'Trinity', 'Leesona', 'Eh', 'rotary', 'garages', 'Registry', 'cabinets', 'Remarks', 'self-sustaining', 'Sydney', 'richness', '3rd', 'Bud', 'Printed', 'Were', 'Rider', 'one-story', 'ghosts', 'Elman', 'pennies', 'dozed', 'disfigured', 'ghettos', 'Budd', 'celebrating', \"months'\", 'truthfully', 'excellently', 'out-of-doors', 'Gone', 'furs', 'Analysis', 'installment', 'reproducible', '1928', 'Arnolphe', 'speedy', 'interstellar', 'AFL-CIO', 'shutter', 'Rite', 'atmospheres', 'Larson', '$4', 'Seigner', 'Fifty', 'teenagers', 'mammalian', 'sensuality', 'morphological', 'Regions', 'baton', 'Sue', 'Millie', 'Pilgrims', 'Islanders', 'Pageant', 'eighty-sixth', 'buff', 'quarterly', 'Held', 'skepticism', 'Advocate', 'Reed', 'zest', 'Kemble', 'inject', 'grapes', 'rude', 'tangled', 'ratification', 'Round', 'Alpert', 'nasty', 'clerks', 'arbiter', \"Edward's\", 'thankful', 'Machine', 'Wild', 'periphery', \"horse's\", 'hurtling', 'kitchens', 'maneuver', 'airfield', 'Gosson', 'Thy', 'skimmed', 'exceeded', 'bequest', 'hemorrhage', 'Barber', 'Lappenberg', 'astonishingly', 'CTCA', 'Merchants', 'reserves', \"Childhood's\", \"Wells's\", 'banter', '1625', \"Lewis's\", 'Gantry', 'S.K.', 'interstate', 'adventurous', 'unseen', 'hys', 'Bancroft', 'mee', 'heroine', 'ther', 'yow', 'monei', 'estates', 'Apollo', 'gaunt', 'brigadier', 'immaculate', 'Audubon', 'pas', 'handing', 'selects', 'Ltd.', 'sparse', 'offenses', 'communes', 'hostilities', 'transitions', 'rounding', 'Cunningham', 'evolve', 'abused', 'Ching', 'intensities', 'serial', 'refinements', 'tapestry', 'coaches', 'choreographer', 'insofar', 'individualized', 'deference', 'ignores', 'ever-changing', '15%', 'astonishment', 'invaluable', 'Changes', 'option', 'plead', 'Personally', 'Petersburg', 'Byzantine', 'expired', 'Godot', 'merging', 'drugged', 'silhouettes', 'cunning', 'centrally', 'spire', 'enchanted', 'Md.', 'pots', 'tubs', 'Nathan', 'Las', 'Vegas', 'garments', 'Parks', 'enhanced', 'Drs.', 'negation', 'boarding', 'psychoanalysis', 'balcony', 'tame', 'mystique', 'Lipton', 'kneel', 'tweed', 'volatile', 'humility', 'sharpened', 'slides', 'puppets', 'Founding', 'authorize', 'staccato', 'continual', 'Cafe', 'stuffed', 'Nature', \"Governor's\", 'Late', 'elapsed', 'glinting', 'homeland', 'coincides', 'retailers', 'librarian', 'workshops', 'claimants', 'format', 'therefrom', \"South's\", 'vows', 'disrupted', 'unreconstructed', 'wrecking', \"Army's\", 'scornful', \"states'\", 'fundamentals', 'exploitation', 'Guest', 'capitalist', 'Knox', 'obnoxious', 'self-consciousness', 'nondescript', 'SR', 'cheerfully', 'avant-garde', 'fortress', 'senate', 'tying', 'alcoves', 'meager', 'upstream', 'relentless', 'lugged', 'enterprising', 'fella', 'decorator', 'planting', 'Flying', 'bivouac', 'Kings', 'self-conscious', 'Plus', 'displaying', 'swooped', 'thickened', 'batch', 'dissent', 'senators', 'fragment', 'guarded', 'Concerto', 'Jacoby', 'hatching', 'transaction', 'irritated', 'cradle', 'Lyford', 'particulars', 'habitual', 'Pendleton', '63', 'donor', 'Jason', 'Flemish', 'Ninth', 'sentry', 'enforcing', 'kerosene', 'diurnal', 'wasting', 'imposition', 'overrun', 'fisherman', 'Grigorss', 'uncanny', 'whistling', 'contends', 'thrill', 'Reactionary', 'Treatment', 'prefers', 'Civilization', 'Ga.', 'receding', 'capacities', \"Joe's\", 'indulged', 'tact', 'roofs', 'adamant', 'maternal', 'slate', 'mattered', 'Constable', 'warrants', 'pads', 'Sadie', 'renting', 'unwillingness', 'saturation', 'Dietrich', 'mustache', '20%', \"Harper's\", 'monster', '1915', 'approximated', 'resultants', 'sojourn', 'logging', 'economists', 'distinguishes', 'Lyttleton', 'Scotch', 'deserts', 'Thinking', 'humiliation', 'Design', 'tiles', 'happenings', 'procession', 'Glen', 'coherent', 'illuminating', 'acquiescence', 'grouped', 'noblest', 'Cox', '1916', 'lawns', 'enroll', \"Thompson's\", 'sculptured', 'scepticism', 'Senators', 'interrelated', 'Parkhouse', 'intellect', 'authorizing', 'pedestal', 'nostalgic', 'slashing', 'catastrophes', 'schooling', 'disguise', 'downed', 'Called', 'advent', 'bout', \"Gabriel's\", 'competently', 'inheritance', 'powders', 'aberrant', 'commuting', 'Activities', \"moment's\", 'stimuli', 'actress', \"corporation's\", 'princess', 'Kerr', 'lets', 'hides', 'spitting', 'fervent', 'hamburger', 'Self', 'Morocco', 'Chicken', 'endeavors', 'measurable', 'Salt', 'seasoned', 'canned', 'Moriarty', 'crowding', \"Watson's\", 'gradients', 'cochannel', 'Wives', 'lavender', 'sparkling', 'Branch', 'hoarse', 'Moll', 'gasped', 'whispering', 'mumbled', 'Dodgers', 'satin', 'revivals', 'greatcoat', 'Mutton', 'Kappa', 'countrymen', 'drizzle', 'Shirley', 'Bern', 'Favre', 'flared', \"Woman's\", 'Thrift', 'Damn', 'Christopher', 'populous', \"That'll\", 'Couperin', 'Slater', 'Boyd', 'screeched', 'gasps', 'franchise', 'impinging', 'stockings', 'touring', 'knocking', 'scrawled', 'asset', 'Stowey', 'Salvation', 'shovel', 'froze', 'crib', 'smoothness', 'gulf', 'mat', 'steaming', 'chat', 'Meadow', 'implementation', 'informally', 'parole', \"mustn't\", 'striped', 'joyous', 'parted', 'overcoat', 'suitcases', 'Grabski', 'braced', 'scented', 'foster', 'shuddered', 'Baseball', 'Violet', 'Criticality', 'laundry', 'cu.', 'Simpson', 'shriek', 'baritone', 'three-year', 'accelerator', 'irradiated', 'proficient', 'radiosterilization', 'sterilization', 'ionizing', 'Currency', 'Properties', 'lay-offs', 'solvent', 'gallium', 'tektites', 'Eagles', 'hydrolysis', 'cliches', 'metabolite', 'chuckle', 'Cardinals', 'Arundel', 'discrepancies', 'Commissioners', 'tracts', 'template', 'embroidered', 'Drew', 'blackness', 'Monte', 'yanked', 'trembled', 'Jerome', 'dingy', 'Lynn', 'Louise', 'concertos', 'administrators', 'Rex', 'Seward', 'hosts', 'Musical', 'sweaty', 'coupler', 'phoned', 'belligerent', 'biscuits', 'sprawling', 'rococo', 'servo', 'torquer', 'torque', 'gyros', 'fringed', 'optimality', 'shakes', 'edging', 'Leona', 'down-to-earth', 'teens', 'kissing', \"Kitty's\", 'Teachers', 'cheekbones', 'downstream', 'metaphor', 'jagged', \"Throat's\", 'Manu', 'bleached', 'Hettie', 'Grafin', '130', 'Yugoslavia', 'Sante', 'DiMaggio', 'prescribe', 'glamorous', 'Nate', 'Burnsides', 'Arbuckle', 'gully', 'impeded', \"bride's\", 'Conchita', 'Maguire', 'Kruger', 'limbs', 'citation', 'vaudeville', 'Pompeii', 'Kizzie', 'utterance', '96', 'Bend', 'Kafka', 'Ruling', 'Hemus', 'Richert', 'Zenith', 'A-Z', 'furrow', 'rains', 'Acala', 'puny', 'twelfth', 'Tuxapoka', 'Thom', 'justly', 'John-and-Linda', 'complications', 'Hartweger', 'Walitzee', 'Askington', 'clutch', 'Reuveni', 'co-operative', \"Roosevelt's\", 'artistically', 'Diego', 'sunburn', 'Adelia', 'flicked', \"Indian's\", 'bale', 'kittens', 'mink', 'lush', 'plunge', 'Dolce', 'Vita', 'overalls', 'clapping', 'plowed', 'dynamite', 'Loop', 'melodic', 'profess', 'Emile', 'virtual', \"Garth's\", 'technician', 'genial', 'tournaments', 'dived', 'Beginning', 'sponsorship', 'lurched', 'Guests', \"driver's\", 'Bradford', 'Carruthers', 'Writers', 'Homicide', 'Brian', \"Mahzeer's\", \"Montero's\", 'Ariz.', 'Aricaras', 'Fiske', 'incidental', 'half-breed', 'Molly', 'dromozoa', 'Florence', 'Earthmen', 'fairway', 'Towne', 'Martian', 'en', 'grok', 'admirably', 'fumbled', 'Anta', \"Alec's\", 'slogans', 'plumb', 'Gary', 'Jaguar', 'Silence', 'scoop', \"Poet's\", 'Calenda', 'Needham', 'Doris', 'Flower', 'DUF', 'Councilman', 'dispatched', 'bleachers', 'hatch', 'Turk', 'Human', 'catkins', 'pussy', 'Twins', 'Region', 'COAHR', 'eve', 'min', 'pledged', 'donors', 'Rh', 'ABO', 'uptown', 'electrophoresis', 'ulcer', 'inert', 'Survivors', 'otter', 'BW', 'intentional', 'Biological', 'microns', 'Nancy', 'inverse', 'sundry', 'basin', 'Slate', 'Psithyrus', 'rattlesnakes', 'Appeal', 'precincts', \"Castro's\", 'neutrophils', 'marrow', 'anemia', 'uptake', 'antithyroid', \"University's\", 'di-iodotyrosine', 'percussive', 'potassium', 'epiphysis', 'Milk', 'conforms', \"Smith's\", 'pictorial', 'signatures', 'Onsets', 'Chart', 'exempt', 'unanimous', 'shunts', 'Rall', 'artery-pulmonary', \"president's\", 'NE', 'hilum', 'pop', 'Leon', 'micrometeorites', 'Poynting-Robertson', 'inversely', '353', 'Fellows', 'constancy', 'one-', '111', 'Example', 'refinement', 'Sections', 'flaming', 'Webster', 'needing', 'suffrage', 'decrees', 'pinpoint', 'Patterson', 'Unifil', 'widened', 'shielding', 'Method', \"Moliere's\", 'Financial', 'backlog', 'Huntley', 'unofficial', 'Detective', 'hereinafter', 'culminates', 'Temperature', 'conductivity', 'Patrol', 'Uniconer', 'flask', 'ant', 'Pyrex', 'quantum', 'Ronald', 'interfaces', 'latch', 'accounted', 'lobes', 'Tucker', 'bunched', 'ion', 'disability', 'dipole', 'coordinator', 'curvature', 'Alumni', 'deformation', 'unfolding', 'elasticity', '30,000', 'Experimental', 'electrode', 'graphite', 'mm', 'reflector', 'Sloanaker', '20,000', 'Devey', 'retailing', 'mucosa', 'Legion', 'tribunal', 'sub', 'shreds', 'warrior', 'commanders', 'Marsden', \"clerk's\", 'Athletic', 'drugstore', 'masonry', 'whereabouts', 'Beautiful', 'dismounted', 'blackout', 'haunches', 'Baby', 'Clifford', 'priorities', 'Catskill', 'delicacy', 'marshal', 'widowed', 'plaintiff', '76', 'communist', \"Secretary's\", 'Xydis', 'timid', \"mayor's\", 'AWOC', 'Hartsfield', 'Cubist', 'relaxing', 'Poems', 'applaud', 'Index', 'two-digit', 'compiler', 'EQU', 'tread', 'shouts', '$15', 'attentive', 'soles', 'Gertrude', 'Tones', 'worrying', 'identifiable', 'lenses', 'Mityukh', 'gasping', 'barrage', 'Pimen', 'Capt.', 'Pozzatti', \"university's\", 'purposely', 'irritable', 'Dodge', 'Grady', 'amounted', 'Analytical', \"Respondents'\", \"artists'\", 'conjugated', 'triumphant', 'AIMO', 'subgroups', 'rebuild', 'Nagrin', 'helplessness', 'reassured', 'Sterling', 'pertains', \"C'\", 'Mt.', 'l', 'Elliott', 'Spahn', 'Cornell', 'Scale', 't', 'fumes', 'anymore', \"D'\", '**ya', 'Funds', 'Given', 'truce', 'neocortex', 'Delhi', 'verify', 'obscurity', 'Cubans', 'accents', 'I.Q.', 'Fifties', 'criminals', 'Gehrig', 'hunter-killer', 'loadings', 'clattered', 'U.N.F.P.', 'Balafrej', 'long-run', 'aberrations', 'nail', '53', 'racket', 'Pelham', 'aiming', 'phonology', 'mindful', 'peddler', 'Sandman', 'modifier', 'premiere', 'W-region', 'boarded', '30th', 'Herb', 'ensued', 'arresting', 'transposed', 'receptionist', 'Stickney', 'shapeless', 'Gas', 'scoring', 'comprehend', 'Estimate', 'housekeeping', 'rip', 'chines', 'safeguard', 'one-inch', 'permissive', 'Hotei', 'postal', 'Letter', 'Occasional', 'suffused', 'marker', 'bids', 'candles', 'cans', 'endeavor', 'affiliations', 'lids', 'allegations', 'Creek-Turn', 'craters', 'holocaust', 'butchery', 'beaming', 'disciples', 'diplomat', 'arouse', 'girlish', 'installing', 'deceived', 'drains', 'Jonathan', 'navigation', 'intellectually', 'piers', '1793', '1810', 'aloof', 'rod', 'ridicule', 'prophecy', 'reminding', 'lent', 'Commonwealth', 'Deer', 'Salisbury', 'Available', 'Newburyport', 'Almighty', 'reversing', 'Feed', 'Cunard', 'slippery', 'securely', 'radial', 'bishops', 'inspector', 'timbers', 'pope', 'surprises', 'chunks', 'Makes', 'predecessor', 'subsided', 'midday', 'carriages', 'mischief', 'wrap', 'bedside', 'invaders', 'hopped', 'attachment', 'photo', 'expanse', 'chilly', 'hum', 'neutralism', 'peacefully', 'all-white', 'apples', 'pies', 'nuisance', 'walnuts', 'freeways', 'roasted', 'freeway', 'dormant', 'allocated', 'Thant', 'ripple', 'tilt', 'peninsula', 'primacy', 'signaling', 'avenues', 'self-contained', 'sauces', 'chili', 'popping', \"Aren't\", 'breathless', 'cartoons', 'forbids', 'sausages', 'Simple', 'unworthy', 'believers', 'unbreakable', 'hibachi', 'suffers', 'begotten', 'Istanbul', 'correspondents', 'hammock', 'towers', 'pillars', 'obelisk', 'caressing', 'Hippodrome', 'plastered', 'bazaar', 'harshly', 'Turks', 'Bosphorus', 'disappearing', 'salvage', 'Swing', 'roadway', '1868', 'lodging', 'Frontier', 'sane', 'surveyor', 'boyhood', 'persuading', 'Horace', 'receivers', 'sonar', 'Nugent', 'Barnard', 'viable', 'Leader', 'murderers', 'computation', 'collects', 'invade', 'microscopic', 'laboratories', 'sidewalks', 'inconsistent', 'attrition', 'abiding', 'Algerian', 'unwelcome', 'athletes', 'connotation', 'burnt', 'easel', 'oyster', 'unwittingly', 'bosses', 'Area', 'valleys', 'portrays', 'calves', 'milligram', 'infections', 'totaling', 'Unity', 'eternity', 'Aureomycin', 'severity', 'scours', 'Simply', 'glamour', 'polarity', 'divisive', 'Eastwick', 'fuse', 'faction', 'esteem', 'faculties', '39', 'reckon', 'institute', 'shortcomings', 'disorganized', 'fertile', \"host's\", 'regulars', 'envied', 'washes', 'temporal', 'Faget', 'freer', 'penance', 'Sargent', 'animated', 'Shriver', 'latitude', 'stagnant', 'adherents', 'enjoined', \"Berger's\", 'zoning', 'tiger', 'trunks', 'pertaining', 'conditioners', 'dictated', 'colder', 'preposterous', 'Channing', \"another's\", 'screening', 'bankrupt', 'carving', 'Grafton', 'haven', 'retreating', 'Philippi', 'clash', 'refreshed', 'reluctance', 'regulatory', 'laissez-faire', \"Hammarskjold's\", 'shabby', 'homogeneity', 'uncompromising', 'novelty', 'sting', 'provisional', 'fluent', 'haul', 'fission', 'captive', 'inhibited', 'mistress', 'sprouting', 'dismay', 'genetic', 'commendable', '$5000', 'checking', 'affinity', 'encroachment', 'caves', 'would-be', 'apprehensions', 'Oslo', 'indelible', 'hazardous', 'posterity', 'accelerate', 'unequivocally', 'consuming', 'Ephesians', '2-year-old', 'beauties', 'substitutes', 'Clean', 'uncertainties', 'Leg', 'glances', 'affords', 'defines', 'wry', 'fading', 'interfaith', 'affecting', 'occasioned', 'carts', 'authoritarian', 'gotta', 'barbell', 'Operations', 'ready-made', 'bravado', 'Courts', 'prominence', 'foresight', 'developer', 'Beth', 'astounding', 'brotherhood', 'instantaneous', 'encourages', 'confuse', 'depressing', 'dietary', 'Reply', 'symptom', 'perfected', 'baths', 'committing', 'corruptible', 'ideally', 'bordering', 'unscrupulous', 'stealth', 'Nuclear', 'vibration', 'enrich', 'vitamin', 'Welcome', 'appreciable', 'Nehru', 'provocation', 'nutrients', 'Noting', 'Secretariat', 'refrigerated', 'pulp', 'avocados', 'buds', 'voiced', \"Lincoln's\", 'justifiably', 'amen', 'Words', 'warts', 'Veterans', 'denounce', 'certify', 'terrific', 'diplomats', 'cypress', 'swamp', 'professed', 'agenda', 'professions', 'stumps', 'equity', 'contingencies', 'Princess', 'Discussion', 'minimized', 'Realtors', 'respectability', 'stricken', 'Lower', 'oneself', 'ambivalence', \"anyone's\", 'self-evident', 'post-attack', 'lessen', 'clothed', 'cafes', 'incur', 'External', 'discouraging', 'counterpoint', 'worlds', 'arithmetic', 'SEATO', 'impractical', 'initiate', 'exasperation', 'sympathetically', 'inaugural', 'Ceylon', 'Top', 'doctrines', 'suffocating', 'pro-Communist', 'Cairo', 'insuring', 'prevalent', 'expelled', 'repelled', 'neutralized', 'fearless', 'risks', 'comply', 'greedy', 'Bertha', 'proprietors', 'imputed', 'Walt', 'inaccurate', 'lowering', 'generalize', 'escalation', 'threatens', 'equated', 'obsolete', 'Rich', 'Martha', 'Faber', 'revered', 'do-it-yourself', \"Stalin's\", 'fine-looking', 'psalmist', 'warlike', 'thrived', 'Caper', 'enlist', 'Fury', 'Dale', 'wailing', 'axle', 'irregularly', 'Carvey', 'thence', 'organizational', 'boring', 'Communese', 'multiplication', \"'round\", 'triangular', 'excerpts', 'accessible', 'Cabinet', 'unfavorable', 'baffled', 'Demon', '6,000', 'scabbard', '30%', 'misdeeds', 'medicines', 'Watch', 'hamper', \"Richard's\", 'orchards', 'duplicate', 'creaking', 'adapt', 'Colt', 'hunters', 'ingenuity', 'Rouge', 'incoming', 'brakes', 'single-shot', 'cartridges', 'recoil', 'Magnums', 'edible', 'Remington', 'scales', 'Baton', 'buck', 'flows', 'mania', 'traits', 'imitate', 'underside', 'slots', 'Miss.', 'congratulations', 'harmonious', 'Aids', 'tendencies', 'reverence', 'monumental', 'Dog', 'proving', 'vanish', 'Divinity', 'faithfully', 'archaic', 'Directions', 'contestants', 'activated', 'uttered', 'bishop', 'ascribed', 'embark', 'Curzon', 'elongated', 'Wine', 'pumps', 'Universal', 'sandals', 'priceless', 'padded', 'dip', 'Judging', 'kitten', 'Number', 'despotism', 'spacers', 'drilled', 'left-hand', 'intercontinental', \"12''\", 'injecting', 'modifications', 'widths', 'succumbed', '1821', 'Evening', 'Classical', 'dynasty', 'glitter', 'pets', \"water's\", 'headache', 'divergent', 'wherein', 'horsepower', 'paved', 'fullest', 'Train', 'fills', 'arbitrarily', 'woodwork', 'craftsmanship', 'symbolically', 'misgivings', 'confronts', 'wits', 'journals', 'poker', 'Tobacco', 'injunctions', 'necessitate', 'sickness', 'coolness', 'Fran', 'interfered', 'generates', 'academically', 'President-elect', 'ancestral', 'beards', 'exaggeration', \"People's\", 'chaotic', 'directs', 'seize', 'transports', 'Inauguration', 'Scientific', 'Educational', 'spans', 'siege', 'blackened', 'Election', 'shutters', 'thumping', 'rattle', 'mechanic', 'proverb', 'capsule', 'Koreans', 'supremacy', 'ax', 'linking', 'chopping', 'cropped', 'surround', 'tenant', 'shrine', 'debated', 'Ideas', 'appointees', 'apologized', 'Minutemen', 'furious', 'glycerine', 'rig', 'humane', 'Folklore', 'Pp.', 'one-tenth', 'chilling', 'allowable', 'dispose', 'inscrutable', 'liquidated', '1776', 'steeped', 'monopolies', 'decisively', 'backwoods', 'machinist', 'reputed', 'shudder', 'acutely', 'Coe', 'analysts', 'hasty', 'appestat', 'obsession', 'whichever', 'rationalize', 'Assemblies', 'awed', 'ass', 'stereotyped', 'insecurity', 'Parsons', 'shaky', 'bogey', 'Rebs', 'stationed', 'Yank', 'two-year', 'figurative', 'thicker', 'unmistakably', '1844', 'Lucian', 'butts', 'aggressiveness', 'Alan', 'immoral', 'Cicero', 'lethal', 'Rule', 'abreast', 'oppressed', 'graphic', 'battlefield', 'hurling', 'lukewarm', 'leaked', 'smelling', 'troopers', 'Custer', 'swivel', 'recipients', 'phalanx', 'verbally', 'obsessed', 'anti-party', 'lingering', 'Medicine', 'clarification', 'editing', 'catastrophic', 'proliferation', 'buckle', 'midway', \"O'Connor\", '1909', 'waiters', 'bulwark', 'factions', 'punch', 'Penn', 'plagued', 'age-old', 'denoting', 'OK', 'Join', 'buzz', 'skillfully', 'Corinthian', 'aft', 'Columns', 'poking', 'Americana', 'Texan', 'Hanch', 'escaping', 'Off', 'O.E.C.D.', 'Regional', 'Brevard', 'crippled', 'Concerts', 'Palm', 'welcoming', 'Hail', 'tag', 'self-discipline', 'groping', 'liaison', 'completes', 'Hartman', 'Standing', 'uneasiness', 'overweight', 'commentary', 'gaily', 'Philosophy', 'espionage', 'triple', 'runners', 'soloists', 'Mail', 'indoors', '16th', 'tuition', 'harmless', 'harassed', 'unfriendly', 'upper-middle-class', 'fins', 'Staten', 'frigid', 'motifs', 'outreach', 'exploring', 'briskly', 'cart', 'austere', 'advantageous', 'registers', 'self-examination', 'Historically', 'Northerners', 'Breeding', \"Nation's\", 'Portago', 'constituent', 'salutary', 'minorities', 'formulae', 'Oriole', 'sacrifices', 'hosses', 'peanut', 'Fisher', 'achieves', 'stony', 'fibrous', 'locust', 'nourished', 'sparks', 'lieu', 'hiring', 'soybeans', 'consolidated', 'tenacity', 'intangible', 'hardships', 'rhetoric', 'definitive', 'Fleet', \"Morse's\", 'inquest', 'unloaded', 'corral', \"givin'\", 'resorted', 'trolley', 'limb', 'shone', 'Europeans', 'kidneys', 'exchanges', 'aimless', 'inn', 'Likewise', 'tariff', 'tuberculosis', 'scant', 'southpaw', 'intimated', 'Lillian', 'ducked', 'mystical', 'Ideally', 'stamping', 'Heywood', 'adversary', 'thickly', 'fetch', 'existent', 'insignificant', 'Loveless', 'second-rate', 'sway', 'hoss', 'transported', 'vices', 'chemically', 'Caution', 'cross-section', 'Barth', 'ventured', 'bombing', 'psychiatric', 'frontiers', 'linguistics', 'firemen', 'unmarried', 'perverse', 'programming', 'cute', 'nephews', 'seating', 'contemplated', 'extensions', 'liberation', 'Luther', 'lofty', 'layout', 'shrink', 'handwriting', 'bricks', 'high-priced', 'coolly', 'unloading', 'Mainland', 'unitized', 'Lumber', 'budgets', 'psychiatrists', 'psychotherapy', 'flags', 'overthrow', 'conferred', 'perpetuate', 'mortgages', '29th', 'Greeks', \"sheriff's\", 'wakeful', 'steal', 'richly', 'high-school', 'rape', 'dismiss', 'beacon', 'Beardens', 'drab', 'silenced', 'Seaman', 'paradise', 'Vesole', 'raids', 'Crosby', 'distracted', 'vile', 'poisonous', 'all-important', 'stew', 'menu', 'stressing', 'richest', 'cherish', 'Daer', 'librarians', 'migration', 'undeniable', 'peeled', 'undertaking', 'strengthens', 'UPI', 'alleviate', 'checkbook', 'removes', 'relying', 'vending', 'uninterrupted', 'shortsighted', 'refuses', 'pedestrian', 'extant', 'demonstrating', 'politeness', 'beverage', 'qualitative', 'Technical', 'extravagant', 'enhance', 'Increased', 'Reynolds', 'Capital', 'clusters', 'primeval', 'isolating', \"Jefferson's\", 'comforts', '260', 'entrenched', 'entail', 'opaque', '1965', 'Full', 'shielded', 'stays', 'polyester', 'periodicals', 'chipping', 'saves', 'bookkeeping', 'Schools', 're-enter', 'Story', 'fireworks', 'bugs', 'gallon', 'shocks', 'richer', 'Oakwood', 'evaluations', 'fuller', 'badge', 'Formosa', 'turbine', 'fights', 'needy', 'tenth', 'escorted', 'orator', 'abstention', 'scan', 'brother-in-law', 'ripples', 'greeting', 'hail', 'nationwide', 'locality', 'weeds', 'Rotary', 'week-end', 'intrinsic', 'Cod', 'Z', 'empirically', 'inquiring', 'Conversely', 'evacuation', 'witch', 'experimenter', 'glimpsed', 'sly', 'disrupt', 'forecasts', 'appliance', 'Susie', 'suck', 'prosecuted', 'Stephens', 'prescription', 'twirling', 'disinterested', 'corpses', 'legally', 'Cerv', '160', 'Kingston', 'crystalline', 'Forks', 'awe', 'sworn', 'patched', 'spurred', \"ship's\", 'Pole', '43', 'fund-raising', 'flourish', 'landscapes', 'corpus', 'clenched', 'ballplayer', 'murky', 'volunteered', 'Arabic', 'materially', 'vowed', 'Final', 'Czechoslovakia', 'Circuit', 'greetings', 'recollection', 'catharsis', 'chloride', 'Ernst', '2000', 'siding', 'licenses', 'motivations', 'Kasavubu', 'Patrice', 'Find', 'fragmentation', 'serenity', 'hazy', 'Mayer', 'meadows', 'one-man', 'engulfed', '23d', 'safer', 'manifestly', 'Waco', 'intimidation', 'livelihood', 'Englander', 'Barre', 'owes', 'misuse', 'labored', 'northward', 'variously', 'Finding', 'adhered', 'Inter-American', 'forestall', 'needless', 'Reama', 'geography', 'disintegration', 'classrooms', 'evokes', 'evasive', 'lied', 'Liberals', 'decorated', 'designate', 'gamblers', 'gushed', 'Farouk', 'Egyptian', 'quarreling', 'innumerable', 'unrest', 'Private', 'ironing', 'Mutual', 'Insurance', 'bump', 'censorship', 'Devil', 'compassion', 'facilitate', 'anterior', 'physicians', 'caresses', 'fearing', '1845']\n"
          ]
        }
      ],
      "source": [
        "print(model_dictionary(w2vmodel))"
      ]
    },
    {
      "cell_type": "code",
      "execution_count": 54,
      "metadata": {
        "execution": {},
        "id": "WF_v0KwQAuwT",
        "outputId": "f579d5c0-0b50-45cb-c4aa-d11e280b3f94",
        "colab": {
          "base_uri": "https://localhost:8080/"
        }
      },
      "outputs": [
        {
          "output_type": "stream",
          "name": "stdout",
          "text": [
            "[-0.05219128  0.2467754  -0.2042953  -0.05208287 -0.12829529 -0.3847382\n",
            "  0.30634132  0.07648539 -0.23153253 -0.11846343 -0.04871023 -0.13309397\n",
            "  0.29112858  0.03347858 -0.27299753  0.07620285 -0.2613232   0.27508897\n",
            " -0.32582533 -0.4522501   0.14923407  0.41431847  0.5302517  -0.08920778\n",
            " -0.03479933  0.08341315  0.18529737  0.2571474  -0.31487215  0.11693326\n",
            " -0.31105998 -0.28475252  0.15475006 -0.17359976 -0.01778622 -0.2164229\n",
            "  0.3287874   0.16899137  0.03353626 -0.04430413  0.08590919  0.15590537\n",
            " -0.21642473  0.18369126  0.4599508   0.38967094  0.15727669 -0.26317793\n",
            "  0.31605554  0.05551816]\n"
          ]
        }
      ],
      "source": [
        "print(get_embedding('weather', w2vmodel))"
      ]
    },
    {
      "cell_type": "markdown",
      "metadata": {
        "execution": {},
        "id": "_uiRtZQ1AuwT"
      },
      "source": [
        "## Section 2.2: Visualizing Word Embedding\n",
        "\n",
        "We can now obtain the word embeddings for any word in the dictionary using word2vec. Let's visualize these embeddings to get an intuition of what these embeddings mean. The word embeddings obtained from word2vec model are in high dimensional space. We will use `tSNE` (t-distributed stochastic neighbor embedding), a statistical method for dimensionality deduction that allow us to visualize high-dimensional data in a 2D or 3D space. Here, we will use `tSNE` from [`scikit-learn`](https://scikit-learn.org/stable/modules/generated/sklearn.manifold.TSNE.html) module to project our high dimensional embeddings in the 2D space (if you are not familiar with this method, think about `PCA`).\n",
        "\n",
        "\n",
        "For each word in `keys`, we pick the top 10 similar words (using cosine similarity) and plot them.  \n",
        "\n",
        " What should be the arrangement of similar words?\n",
        " What should be arrangement of the key clusters with respect to each other?"
      ]
    },
    {
      "cell_type": "code",
      "execution_count": 55,
      "metadata": {
        "execution": {},
        "id": "zf_5fX00AuwT"
      },
      "outputs": [],
      "source": [
        "keys = ['voters', 'magic', 'love', 'God', 'evidence', 'administration', 'governments']"
      ]
    },
    {
      "cell_type": "code",
      "execution_count": 56,
      "metadata": {
        "execution": {},
        "id": "5-qCWevuAuwT"
      },
      "outputs": [],
      "source": [
        "def get_cluster_embeddings(keys):\n",
        "  \"\"\"\n",
        "  Function to cluster embeddings\n",
        "\n",
        "  Args:\n",
        "    keys: list\n",
        "      Keys from model_dictionary\n",
        "\n",
        "  Returns:\n",
        "    word_clusters: list\n",
        "      Word clusters\n",
        "    embedding_clusters: list\n",
        "      Embeddings for words in clusters\n",
        "  \"\"\"\n",
        "  embedding_clusters = []\n",
        "  word_clusters = []\n",
        "\n",
        "  # Find closest words and add them to cluster\n",
        "  for word in keys:\n",
        "    embeddings = []\n",
        "    words = []\n",
        "    if not word in w2vmodel.wv.key_to_index:\n",
        "      print('The word ', word, 'is not in the dictionary')\n",
        "      continue\n",
        "\n",
        "    for similar_word, _ in w2vmodel.wv.most_similar(word, topn=10):\n",
        "      words.append(similar_word)\n",
        "      embeddings.append(w2vmodel.wv[similar_word])\n",
        "    embedding_clusters.append(embeddings)\n",
        "    word_clusters.append(words)\n",
        "\n",
        "  # Get embeddings for the words in clusers\n",
        "  embedding_clusters = np.array(embedding_clusters)\n",
        "  n, m, k = embedding_clusters.shape\n",
        "  tsne_model_en_2d = TSNE(perplexity=10, n_components=2, init='pca', n_iter=3500, random_state=32)\n",
        "  embeddings_en_2d = np.array(tsne_model_en_2d.fit_transform(embedding_clusters.reshape(n * m, k))).reshape(n, m, 2)\n",
        "\n",
        "  return embeddings_en_2d, word_clusters"
      ]
    },
    {
      "cell_type": "code",
      "execution_count": 57,
      "metadata": {
        "execution": {},
        "id": "4CJ8L-Z8AuwT"
      },
      "outputs": [],
      "source": [
        "def tsne_plot_similar_words(title, labels, embedding_clusters,\n",
        "                            word_clusters, a, filename=None):\n",
        "  \"\"\"\n",
        "  Generates tSNE plot for words\n",
        "\n",
        "  Args:\n",
        "    a: int\n",
        "      Offset\n",
        "    filename: string\n",
        "      Filename to save tSNE plot [default: None]\n",
        "    title: string\n",
        "      Specifies title of plot\n",
        "    label: list\n",
        "      List of labels\n",
        "    word_clusters: list\n",
        "      Word clusters\n",
        "    embedding_clusters: list\n",
        "      Embeddings for words in clusters\n",
        "\n",
        "  Returns:\n",
        "    Nothing\n",
        "  \"\"\"\n",
        "  plt.figure(figsize=(16, 9))\n",
        "  colors = cm.rainbow(np.linspace(0, 1, len(labels)))\n",
        "  for label, embeddings, words, color in zip(labels, embedding_clusters, word_clusters, colors):\n",
        "    x = embeddings[:, 0]\n",
        "    y = embeddings[:, 1]\n",
        "    plt.scatter(x, y, color=color, alpha=a, label=label)\n",
        "    for i, word in enumerate(words):\n",
        "      plt.annotate(word,\n",
        "                   alpha=0.5,\n",
        "                   xy=(x[i], y[i]),\n",
        "                   xytext=(5, 2),\n",
        "                   textcoords='offset points',\n",
        "                   ha='right',\n",
        "                   va='bottom',\n",
        "                   size=10)\n",
        "  plt.legend(loc=\"lower left\")\n",
        "  plt.title(title)\n",
        "  plt.grid(True)\n",
        "  if filename:\n",
        "    plt.savefig(filename, format='png', dpi=150, bbox_inches='tight')\n",
        "  plt.show()"
      ]
    },
    {
      "cell_type": "code",
      "execution_count": 58,
      "metadata": {
        "execution": {},
        "id": "MXpwQehDAuwT",
        "outputId": "cf64a7df-773d-4660-cfe8-d81bba856687",
        "colab": {
          "base_uri": "https://localhost:8080/",
          "height": 646
        }
      },
      "outputs": [
        {
          "output_type": "display_data",
          "data": {
            "image/png": "[encoded data removed]",
            "text/plain": [
              "<Figure size 1152x648 with 1 Axes>"
            ]
          },
          "metadata": {
            "image/png": {
              "width": 1134,
              "height": 629
            },
            "needs_background": "light"
          }
        }
      ],
      "source": [
        "embeddings_en_2d, word_clusters = get_cluster_embeddings(keys)\n",
        "tsne_plot_similar_words('Similar words from Brown Corpus', keys, embeddings_en_2d, word_clusters, 0.7)"
      ]
    },
    {
      "cell_type": "markdown",
      "metadata": {
        "execution": {},
        "id": "GTD_rqZDAuwT"
      },
      "source": [
        "## Section 2.3: Exploring meaning with word embeddings\n",
        "\n",
        "While word2vec was the method that started it all, research has since boomed, and we now have more sophisticated ways to represent words. One such method is FastText, developed at Facebook AI research, which breaks words into sub-words: such a technique also allows us to create embedding representations for unseen words. In this section, we will explore how semantics and meaning are captured using embedidngs, after downloading a pre-trained FastText model. Downloading pre-trained models is a way for us to plug in word embeddings and explore them without training them ourselves."
      ]
    },
    {
      "cell_type": "code",
      "execution_count": 59,
      "metadata": {
        "cellView": "form",
        "execution": {},
        "id": "2sLqyRL6AuwT",
        "outputId": "c7d073b1-90df-46ac-df07-0870c4fccbed",
        "colab": {
          "base_uri": "https://localhost:8080/"
        }
      },
      "outputs": [
        {
          "output_type": "stream",
          "name": "stdout",
          "text": [
            "Downloading and unzipping the file... Please wait.\n",
            "Download completed!\n"
          ]
        }
      ],
      "source": [
        "# @title Download FastText English Embeddings of Dimension 100\n",
        "import os, io, zipfile\n",
        "from urllib.request import urlopen\n",
        "\n",
        "zipurl = 'https://osf.io/w9sr7/download'\n",
        "print(f\"Downloading and unzipping the file... Please wait.\")\n",
        "with urlopen(zipurl) as zipresp:\n",
        "  with zipfile.ZipFile(io.BytesIO(zipresp.read())) as zfile:\n",
        "    zfile.extractall('.')\n",
        "print(\"Download completed!\")"
      ]
    },
    {
      "cell_type": "code",
      "execution_count": 60,
      "metadata": {
        "execution": {},
        "id": "PLjvU1guAuwT",
        "outputId": "3c5869ad-27d5-4e0d-ef54-9e4ffc4375b0",
        "colab": {
          "base_uri": "https://localhost:8080/"
        }
      },
      "outputs": [
        {
          "output_type": "stream",
          "name": "stderr",
          "text": [
            "Warning : `load_model` does not return WordVectorModel or SupervisedModel any more, but a `FastText` object which is very similar.\n"
          ]
        }
      ],
      "source": [
        "# Load 100 dimension FastText Vectors using FastText library\n",
        "ft_en_vectors = fasttext.load_model('cc.en.100.bin')"
      ]
    },
    {
      "cell_type": "code",
      "execution_count": 61,
      "metadata": {
        "execution": {},
        "id": "fk77KVWdAuwU",
        "outputId": "49015949-f03d-411a-8113-ab456429dfc6",
        "colab": {
          "base_uri": "https://localhost:8080/"
        }
      },
      "outputs": [
        {
          "output_type": "stream",
          "name": "stdout",
          "text": [
            "Length of the embedding is: 100\n",
            "Embedding for the word King is: [-0.04045481 -0.10617249 -0.27222311  0.06879666  0.16408321  0.00276707\n",
            "  0.27080125 -0.05805573 -0.31865698  0.03748008 -0.00254088  0.13805169\n",
            " -0.00182498 -0.08973497  0.00319015 -0.19619396 -0.09858181 -0.10103802\n",
            " -0.08279888  0.0082208   0.13119364 -0.15956607  0.17203182  0.0315701\n",
            " -0.25064597  0.06182072  0.03929246  0.05157393  0.03543638  0.13660161\n",
            "  0.05473648  0.06072914 -0.04709269  0.17394426 -0.02101276 -0.11402624\n",
            " -0.24489872 -0.08576579 -0.00322696 -0.04509873 -0.00614253 -0.05772085\n",
            " -0.073414   -0.06718913 -0.06057961  0.10963406  0.1245006  -0.04819863\n",
            "  0.11408057  0.11081408  0.06752145 -0.01689911 -0.01186301 -0.11716368\n",
            " -0.01287614  0.10639337 -0.04243141  0.01057278 -0.0230855  -0.04930984\n",
            "  0.04717607  0.03696446  0.0015999  -0.02193867 -0.01331578  0.11102925\n",
            "  0.1686794   0.05814958 -0.00296521 -0.04252011 -0.00352389  0.06267346\n",
            " -0.07747819 -0.08959802 -0.02445797 -0.08913022  0.13422231  0.1258949\n",
            " -0.01296814  0.0531218  -0.00541025 -0.16908626  0.06323182 -0.11510128\n",
            " -0.08352032 -0.07224389  0.01023453  0.08263734 -0.03859017 -0.00798539\n",
            " -0.01498295  0.05448429  0.02708506  0.00549948  0.14634523 -0.12550676\n",
            "  0.04641578 -0.10164826  0.05370862  0.01217492]\n"
          ]
        }
      ],
      "source": [
        "print(f\"Length of the embedding is: {len(ft_en_vectors.get_word_vector('king'))}\")\n",
        "print(f\"Embedding for the word King is: {ft_en_vectors.get_word_vector('king')}\")"
      ]
    },
    {
      "cell_type": "markdown",
      "metadata": {
        "execution": {},
        "id": "i-KNg8BOAuwU"
      },
      "source": [
        "Cosine similarity is used for similarities between words. Similarity is a scalar between 0 and 1."
      ]
    },
    {
      "cell_type": "markdown",
      "metadata": {
        "execution": {},
        "id": "hHwssAf7AuwU"
      },
      "source": [
        "Now find the 10 most similar words to \"King\"."
      ]
    },
    {
      "cell_type": "code",
      "execution_count": 62,
      "metadata": {
        "execution": {},
        "id": "FGPvTTYiAuwU",
        "outputId": "83f80350-6d79-46cf-b946-6e70b754b628",
        "colab": {
          "base_uri": "https://localhost:8080/"
        }
      },
      "outputs": [
        {
          "output_type": "execute_result",
          "data": {
            "text/plain": [
              "[(0.8168574571609497, 'prince'),\n",
              " (0.796097457408905, 'emperor'),\n",
              " (0.7907207608222961, 'kings'),\n",
              " (0.7655220627784729, 'lord'),\n",
              " (0.7435404062271118, 'king-'),\n",
              " (0.7394551634788513, 'chieftain'),\n",
              " (0.7307553291320801, 'tyrant'),\n",
              " (0.7226710319519043, 'conqueror'),\n",
              " (0.719561755657196, 'kingly'),\n",
              " (0.718187689781189, 'queen')]"
            ]
          },
          "metadata": {},
          "execution_count": 62
        }
      ],
      "source": [
        "ft_en_vectors.get_nearest_neighbors(\"king\", 10)  # Most similar by key"
      ]
    },
    {
      "cell_type": "markdown",
      "metadata": {
        "execution": {},
        "id": "5zwrcCwuAuwU"
      },
      "source": [
        "### Word Similarity"
      ]
    },
    {
      "cell_type": "code",
      "execution_count": 63,
      "metadata": {
        "cellView": "form",
        "execution": {},
        "id": "MA2kHlnvAuwU",
        "outputId": "5899354b-8771-44ee-f1d2-30175604e50e",
        "colab": {
          "base_uri": "https://localhost:8080/",
          "height": 581,
          "referenced_widgets": [
            "46517b24bc2c4165b77bd6ca299477f6",
            "0844234376a043b6b0a3842c4642252e",
            "f460257bf90f4f40a6425204c88a4903",
            "dbc6aa2c3e2245b1a0f1953e51e23e0c",
            "c99918179a7640a980b45fc59361c56c",
            "078aedf77f9345088bc501366bdba278"
          ]
        }
      },
      "outputs": [
        {
          "output_type": "display_data",
          "data": {
            "application/vnd.jupyter.widget-view+json": {
              "model_id": "46517b24bc2c4165b77bd6ca299477f6",
              "version_minor": 0,
              "version_major": 2
            },
            "text/plain": [
              "Tab(children=(Output(), Output()), _titles={'0': 'Youtube', '1': 'Bilibili'})"
            ]
          },
          "metadata": {}
        }
      ],
      "source": [
        "# @title Video 3: Semantic Measurements\n",
        "from ipywidgets import widgets\n",
        "\n",
        "out2 = widgets.Output()\n",
        "with out2:\n",
        "  from IPython.display import IFrame\n",
        "  class BiliVideo(IFrame):\n",
        "    def __init__(self, id, page=1, width=400, height=300, **kwargs):\n",
        "      self.id=id\n",
        "      src = \"https://player.bilibili.com/player.html?bvid={0}&page={1}\".format(id, page)\n",
        "      super(BiliVideo, self).__init__(src, width, height, **kwargs)\n",
        "\n",
        "  video = BiliVideo(id=f\"BV15w411R7SW\", width=854, height=480, fs=1)\n",
        "  print(\"Video available at https://www.bilibili.com/video/{0}\".format(video.id))\n",
        "  display(video)\n",
        "\n",
        "out1 = widgets.Output()\n",
        "with out1:\n",
        "  from IPython.display import YouTubeVideo\n",
        "  video = YouTubeVideo(id=f\"Y45KIAOw4OY\", width=854, height=480, fs=1, rel=0)\n",
        "  print(\"Video available at https://youtube.com/watch?v=\" + video.id)\n",
        "  display(video)\n",
        "\n",
        "out = widgets.Tab([out1, out2])\n",
        "out.set_title(0, 'Youtube')\n",
        "out.set_title(1, 'Bilibili')\n",
        "\n",
        "# Add event to airtable\n",
        "atform.add_event('Video 3: Semantic Measurements')\n",
        "\n",
        "display(out)"
      ]
    },
    {
      "cell_type": "markdown",
      "metadata": {
        "execution": {},
        "id": "IJyla7IOAuwU"
      },
      "source": [
        "More on similarity between words. Let's check how similar different pairs of word are. Feel free to play around.\n",
        "\n"
      ]
    },
    {
      "cell_type": "code",
      "execution_count": 64,
      "metadata": {
        "execution": {},
        "id": "v9-2Il2xAuwU",
        "outputId": "15c2c201-67a0-4e9b-9c33-966137f43a74",
        "colab": {
          "base_uri": "https://localhost:8080/"
        }
      },
      "outputs": [
        {
          "output_type": "stream",
          "name": "stdout",
          "text": [
            "Similarity between the words King and Queen:  0.71818775\n",
            "Similarity between the words King and Knight:  0.6881009\n",
            "Similarity between the words King and Rock:  0.28928387\n",
            "Similarity between the words King and Twenty:  0.19655468\n"
          ]
        }
      ],
      "source": [
        "def getSimilarity(word1, word2):\n",
        "  \"\"\"\n",
        "  Defines similarity between set of words\n",
        "\n",
        "  Args:\n",
        "    word1: string\n",
        "      Word 1\n",
        "    word2: string\n",
        "      Word 2\n",
        "\n",
        "  Returns:\n",
        "    Cosine similarity between word1 vector and word2 vector\n",
        "  \"\"\"\n",
        "  v1 = ft_en_vectors.get_word_vector(word1)\n",
        "  v2 = ft_en_vectors.get_word_vector(word2)\n",
        "  return cosine_similarity(v1, v2)\n",
        "\n",
        "print(\"Similarity between the words King and Queen: \", getSimilarity(\"king\", \"queen\"))\n",
        "print(\"Similarity between the words King and Knight: \", getSimilarity(\"king\", \"knight\"))\n",
        "print(\"Similarity between the words King and Rock: \", getSimilarity(\"king\", \"rock\"))\n",
        "print(\"Similarity between the words King and Twenty: \", getSimilarity(\"king\", \"twenty\"))\n",
        "\n",
        "## Try the same for two more pairs\n",
        "# print(\"Similarity between the words ___ and ___: \", getSimilarity(...))\n",
        "# print(\"Similarity between the words ___ and ___: \", getSimilarity(...))\n",
        "\n",
        "# print(\"Similarity between the words ___ and ___: \", getSimilarity(...))\n",
        "# print(\"Similarity between the words ___ and ___: \", getSimilarity(...))"
      ]
    },
    {
      "cell_type": "markdown",
      "metadata": {
        "execution": {},
        "id": "Y9nCc7jTAuwU"
      },
      "source": [
        "### Homonym Words$^\\dagger$\n",
        "\n",
        "Find the similarity for homonym words with their different meanings. The first one has been implemented for you.\n",
        "\n",
        "$^\\dagger$: Two or more words having the same spelling or pronunciation but different meanings and origins are called *homonyms*. E.g.,"
      ]
    },
    {
      "cell_type": "code",
      "execution_count": 65,
      "metadata": {
        "execution": {},
        "id": "3g0wHRMIAuwV",
        "outputId": "46d9086e-dc2a-4db0-8c22-17396aab1052",
        "colab": {
          "base_uri": "https://localhost:8080/"
        }
      },
      "outputs": [
        {
          "output_type": "stream",
          "name": "stdout",
          "text": [
            "Similarity between the words Cricket and Insect:  0.40722153\n",
            "Similarity between the words Cricket and Sport:  0.58123744\n"
          ]
        }
      ],
      "source": [
        "#######################     Words with multiple meanings     ##########################\n",
        "print(\"Similarity between the words Cricket and Insect: \", getSimilarity(\"cricket\", \"insect\"))\n",
        "print(\"Similarity between the words Cricket and Sport: \", getSimilarity(\"cricket\", \"sport\"))\n",
        "\n",
        "## Try the same for two more pairs\n",
        "# print(\"Similarity between the words ___ and ___: \", getSimilarity(...))\n",
        "# print(\"Similarity between the words ___ and ___: \", getSimilarity(...))\n",
        "\n",
        "# print(\"Similarity between the words ___ and ___: \", getSimilarity(...))\n",
        "# print(\"Similarity between the words ___ and ___: \", getSimilarity(...))"
      ]
    },
    {
      "cell_type": "markdown",
      "metadata": {
        "execution": {},
        "id": "zDoN34-NAuwV"
      },
      "source": [
        "### Word Analogies\n",
        "\n",
        "Embeddings can be used to find word analogies.\n",
        "Let's try it:\n",
        "1. Man : Woman  ::  King : _____\n",
        "2. Germany: Berlin :: France : ______\n",
        "3. Leaf : Tree  ::  Petal : _____\n",
        "4. Hammer : Nail  ::  Comb : _____"
      ]
    },
    {
      "cell_type": "code",
      "execution_count": 66,
      "metadata": {
        "execution": {},
        "id": "m5u2UbZiAuwV",
        "outputId": "184a0a0e-0196-4718-b3b2-d116f09b2246",
        "colab": {
          "base_uri": "https://localhost:8080/"
        }
      },
      "outputs": [
        {
          "output_type": "stream",
          "name": "stdout",
          "text": [
            "[(0.8162637948989868, 'queen')]\n",
            "[(0.8568049669265747, 'paris')]\n",
            "[(0.7037209272384644, 'flower')]\n",
            "[(0.6908746361732483, 'hair')]\n"
          ]
        }
      ],
      "source": [
        "## Use get_analogies() funnction. The words have to be in the order Positive, Negative, Positve\n",
        "\n",
        "# Man : Woman  ::  King : _____\n",
        "# Positive=(woman, king), Negative=(man)\n",
        "print(ft_en_vectors.get_analogies(\"woman\", \"man\", \"king\",1))\n",
        "\n",
        "# Germany: Berlin :: France : ______\n",
        "# Positive=(berlin, frannce), Negative=(germany)\n",
        "print(ft_en_vectors.get_analogies(\"berlin\", \"germany\", \"france\",1))\n",
        "\n",
        "# Leaf : Tree  ::  Petal : _____\n",
        "# Positive=(tree, petal), Negative=(leaf)\n",
        "print(ft_en_vectors.get_analogies(\"tree\", \"leaf\", \"petal\",1))\n",
        "\n",
        "# Hammer : Nail  ::  Comb : _____\n",
        "# Positive=(nail, comb), Negative=(hammer)\n",
        "print(ft_en_vectors.get_analogies(\"nail\", \"hammer\", \"comb\",1))"
      ]
    },
    {
      "cell_type": "markdown",
      "metadata": {
        "execution": {},
        "id": "z0zHZxJWAuwV"
      },
      "source": [
        "But, does it always work?\n",
        "\n",
        "\n",
        "1.   Poverty : Wealth  :: Sickness : _____\n",
        "2.   train : board :: horse : _____"
      ]
    },
    {
      "cell_type": "code",
      "execution_count": 67,
      "metadata": {
        "execution": {},
        "id": "6zoPE29dAuwV",
        "outputId": "930b0d8f-cac1-4a16-c98c-3d85c53cad7f",
        "colab": {
          "base_uri": "https://localhost:8080/"
        }
      },
      "outputs": [
        {
          "output_type": "stream",
          "name": "stdout",
          "text": [
            "[(0.615874171257019, 'affliction')]\n",
            "[(0.6799090504646301, 'horses')]\n"
          ]
        }
      ],
      "source": [
        "# Poverty : Wealth  :: Sickness : _____\n",
        "print(ft_en_vectors.get_analogies(\"wealth\", \"poverty\", \"sickness\",1))\n",
        "\n",
        "# train : board :: horse : _____\n",
        "print(ft_en_vectors.get_analogies(\"train\", \"board\", \"horse\",1))"
      ]
    },
    {
      "cell_type": "markdown",
      "metadata": {
        "execution": {},
        "id": "3R3q44YdAuwV"
      },
      "source": [
        "---\n",
        "# Section 3: Neural Net with word embeddings\n",
        "\n",
        "*Time estimate: ~16mins*"
      ]
    },
    {
      "cell_type": "markdown",
      "metadata": {
        "execution": {},
        "id": "yWFRO_BwAuwV"
      },
      "source": [
        "Let's use the pretrained FastText embeddings to train a neural network on the IMDB dataset. \n",
        "\n",
        "To recap, the data consists of reviews and sentiments attached to it. It is a binary classification task. As a simple preview of the upcoming neural networks, we are going to introduce neural net with word embeddings. We'll see detailed networks in the next tutorial.\n",
        "\n",
        "\n"
      ]
    },
    {
      "cell_type": "markdown",
      "metadata": {
        "execution": {},
        "id": "cH-nrv-aAuwV"
      },
      "source": [
        "## Coding Exercise 3.1: Simple Feed Forward Net"
      ]
    },
    {
      "cell_type": "markdown",
      "metadata": {
        "execution": {},
        "id": "vY5IjMH0AuwW"
      },
      "source": [
        "This will load 300 dim FastText embeddings. It will take around 2-3 minutes."
      ]
    },
    {
      "cell_type": "markdown",
      "metadata": {
        "execution": {},
        "id": "x_EyMxgpAuwW"
      },
      "source": [
        "Define a vanilla neural network with linear layers. Then average the word embeddings to get an embedding for the entire review.\n",
        "The neural net will have one hidden layer of size 128."
      ]
    },
    {
      "cell_type": "code",
      "execution_count": 68,
      "metadata": {
        "cellView": "form",
        "execution": {},
        "id": "zl7pm7XNAuwW",
        "outputId": "877a821a-fadd-423a-c331-9430d0e48dd7",
        "colab": {
          "base_uri": "https://localhost:8080/"
        }
      },
      "outputs": [
        {
          "output_type": "stream",
          "name": "stderr",
          "text": [
            ".vector_cache/wiki.simple.vec: 293MB [00:13, 21.7MB/s]                           \n",
            "  0%|          | 0/111051 [00:00<?, ?it/s]Skipping token b'111051' with 1-dimensional vector [b'300']; likely a header\n",
            "100%|██████████| 111051/111051 [00:14<00:00, 7690.71it/s]\n"
          ]
        }
      ],
      "source": [
        "# @title Download embeddings and clear old variables to clean memory.\n",
        "# @markdown #### Execute this cell!\n",
        "if 'ft_en_vectors' in locals():\n",
        "  del ft_en_vectors\n",
        "if 'w2vmodel' in locals():\n",
        "  del w2vmodel\n",
        "\n",
        "embedding_fasttext = FastText('simple')"
      ]
    },
    {
      "cell_type": "code",
      "execution_count": 69,
      "metadata": {
        "cellView": "form",
        "execution": {},
        "id": "A4HLuDF4AuwW",
        "outputId": "502301a6-ea53-446c-8c56-f4e25891e143",
        "colab": {
          "base_uri": "https://localhost:8080/"
        }
      },
      "outputs": [
        {
          "output_type": "stream",
          "name": "stdout",
          "text": [
            "downloading aclImdb_v1.tar.gz\n"
          ]
        },
        {
          "output_type": "stream",
          "name": "stderr",
          "text": [
            "100%|██████████| 84.1M/84.1M [00:08<00:00, 10.0MB/s]\n"
          ]
        },
        {
          "output_type": "stream",
          "name": "stdout",
          "text": [
            "Data are loaded. sentence length: 50 seed: 2021\n"
          ]
        }
      ],
      "source": [
        "# @markdown Load the Dataset\n",
        "TEXT, vocab_size, train_iter, valid_iter, test_iter = load_dataset(embedding_fasttext, seed=SEED)"
      ]
    },
    {
      "cell_type": "code",
      "execution_count": 70,
      "metadata": {
        "execution": {},
        "id": "HFMDEfPnAuwW"
      },
      "outputs": [],
      "source": [
        "class NeuralNet(nn.Module):\n",
        "  \"\"\"\n",
        "  Neural Network with following structure:\n",
        "  nn.Embedding(vocab_size, embedding_length)\n",
        "  + nn.Parameter(word_embeddings, requires_grad=False) # Embedding Layer\n",
        "  nn.Linear(embedding_length, hidden_size) # Fully connected layer #1\n",
        "  nn.Linear(hidden_size, output_size) # Fully connected layer #2\n",
        "  \"\"\"\n",
        "\n",
        "  def __init__(self, output_size, hidden_size, vocab_size, embedding_length,\n",
        "               word_embeddings):\n",
        "    \"\"\"\n",
        "    Initialize parameters of NeuralNet\n",
        "\n",
        "    Args:\n",
        "      output_size: int\n",
        "        Size of final fully connected layer\n",
        "      hidden_size: int\n",
        "        Size of hidden/first fully connected layer\n",
        "      vocab_size: int\n",
        "        Size of vocabulary\n",
        "      embedding_length: int\n",
        "        Length of embedding\n",
        "      word_embeddings: TEXT.vocab.vectors instance\n",
        "        Word Embeddings\n",
        "\n",
        "    Returns:\n",
        "      Nothing\n",
        "    \"\"\"\n",
        "    super(NeuralNet, self).__init__()\n",
        "\n",
        "    self.word_embeddings = nn.Embedding(vocab_size, embedding_length)\n",
        "    self.word_embeddings.weight = nn.Parameter(word_embeddings,\n",
        "                                               requires_grad=False)\n",
        "    self.fc1 = nn.Linear(embedding_length, hidden_size)\n",
        "    self.fc2 = nn.Linear(hidden_size, output_size)\n",
        "\n",
        "\n",
        "  def forward(self, inputs):\n",
        "    \"\"\"\n",
        "    Forward pass of NeuralNet\n",
        "\n",
        "    Args:\n",
        "      Inputs: list\n",
        "        Text\n",
        "\n",
        "    Returns:\n",
        "      output: torch.tensor\n",
        "        Outputs/Predictions\n",
        "    \"\"\"\n",
        "    input = self.word_embeddings(inputs)  # Convert text to embeddings\n",
        "    ####################################################################\n",
        "    # Fill in missing code below (...)\n",
        "    raise NotImplementedError(\"Fill in the Neural Net\")\n",
        "    ####################################################################\n",
        "    # Average the word embeddings in a sentence\n",
        "    # Use torch.nn.functional.avg_pool2d to compute the averages\n",
        "    pooled = ...\n",
        "\n",
        "    # Pass the embeddings through the neural net\n",
        "    # A fully-connected layer\n",
        "    x = ...\n",
        "    # ReLU activation\n",
        "    x = ...\n",
        "    # Another fully-connected layer\n",
        "    x = ...\n",
        "    output = F.log_softmax(x, dim=1)\n",
        "\n",
        "    return output\n",
        "\n",
        "\n",
        "# Add event to airtable\n",
        "atform.add_event('Coding Exercise 3.1: Simple Feed Forward Net')\n",
        "\n",
        "# Uncomment to check your code\n",
        "# nn_model = NeuralNet(2, 128, 100, 300, TEXT.vocab.vectors)\n",
        "# print(nn_model)"
      ]
    },
    {
      "cell_type": "code",
      "execution_count": 71,
      "metadata": {
        "execution": {},
        "id": "geha25lvAuwW",
        "outputId": "cd24ed80-9902-47ec-b255-7b314ce236a6",
        "colab": {
          "base_uri": "https://localhost:8080/"
        }
      },
      "outputs": [
        {
          "output_type": "stream",
          "name": "stdout",
          "text": [
            "NeuralNet(\n",
            "  (word_embeddings): Embedding(100, 300)\n",
            "  (fc1): Linear(in_features=300, out_features=128, bias=True)\n",
            "  (fc2): Linear(in_features=128, out_features=2, bias=True)\n",
            ")\n"
          ]
        }
      ],
      "source": [
        "# to_remove solution\n",
        "class NeuralNet(nn.Module):\n",
        "  \"\"\"\n",
        "  Neural Network with following structure:\n",
        "  nn.Embedding(vocab_size, embedding_length)\n",
        "  + nn.Parameter(word_embeddings, requires_grad=False) # Embedding Layer\n",
        "  nn.Linear(embedding_length, hidden_size) # Fully connected layer #1\n",
        "  nn.Linear(hidden_size, output_size) # Fully connected layer #2\n",
        "  \"\"\"\n",
        "\n",
        "  def __init__(self, output_size, hidden_size, vocab_size, embedding_length,\n",
        "               word_embeddings):\n",
        "    \"\"\"\n",
        "    Initialize parameters of NeuralNet\n",
        "\n",
        "    Args:\n",
        "      output_size: int\n",
        "        Size of final fully connected layer\n",
        "      hidden_size: int\n",
        "        Size of hidden/first fully connected layer\n",
        "      vocab_size: int\n",
        "        Size of vocabulary\n",
        "      embedding_length: int\n",
        "        Length of embedding\n",
        "      word_embeddings: TEXT.vocab.vectors instance\n",
        "        Word Embeddings\n",
        "\n",
        "    Returns:\n",
        "      Nothing\n",
        "    \"\"\"\n",
        "    super(NeuralNet, self).__init__()\n",
        "\n",
        "    self.word_embeddings = nn.Embedding(vocab_size, embedding_length)\n",
        "    self.word_embeddings.weight = nn.Parameter(word_embeddings,\n",
        "                                               requires_grad=False)\n",
        "    self.fc1 = nn.Linear(embedding_length, hidden_size)\n",
        "    self.fc2 = nn.Linear(hidden_size, output_size)\n",
        "\n",
        "\n",
        "  def forward(self, inputs):\n",
        "    \"\"\"\n",
        "    Forward pass of NeuralNet\n",
        "\n",
        "    Args:\n",
        "      Inputs: list\n",
        "        Text\n",
        "\n",
        "    Returns:\n",
        "      output: torch.tensor\n",
        "        Outputs/Predictions\n",
        "    \"\"\"\n",
        "    input = self.word_embeddings(inputs)  # Convert text to embeddings\n",
        "    # Average the word embeddings in a sentence\n",
        "    # Use torch.nn.functional.avg_pool2d to compute the averages\n",
        "    pooled = F.avg_pool2d(input, (input.shape[1], 1)).squeeze(1)\n",
        "\n",
        "    # Pass the embeddings through the neural net\n",
        "    # A fully-connected layer\n",
        "    x = self.fc1(pooled)\n",
        "\n",
        "    # ReLU activation\n",
        "    x = F.relu(x)\n",
        "    # Another fully-connected layer\n",
        "    x = self.fc2(x)\n",
        "    output = F.log_softmax(x, dim=1)\n",
        "\n",
        "    return output\n",
        "\n",
        "\n",
        "# Add event to airtable\n",
        "atform.add_event('Coding Exercise 3.1: Simple Feed Forward Net')\n",
        "\n",
        "# Uncomment to check your code\n",
        "nn_model = NeuralNet(2, 128, 100, 300, TEXT.vocab.vectors)\n",
        "print(nn_model)"
      ]
    },
    {
      "cell_type": "markdown",
      "metadata": {
        "execution": {},
        "id": "bfo3AoRIAuwW"
      },
      "source": [
        "```\n",
        "NeuralNet(\n",
        "  (word_embeddings): Embedding(100, 300)\n",
        "  (fc1): Linear(in_features=300, out_features=128, bias=True)\n",
        "  (fc2): Linear(in_features=128, out_features=2, bias=True)\n",
        ")\n",
        "```"
      ]
    },
    {
      "cell_type": "code",
      "execution_count": 72,
      "metadata": {
        "cellView": "form",
        "execution": {},
        "id": "J74c3689AuwW"
      },
      "outputs": [],
      "source": [
        "# @title Training and Testing Functions\n",
        "\n",
        "# @markdown #### `train(model, device, train_iter, valid_iter, epochs, learning_rate)`\n",
        "# @markdown #### `test(model, device, test_iter)`\n",
        "\n",
        "def train(model, device, train_iter, valid_iter,\n",
        "          epochs, learning_rate):\n",
        "  \"\"\"\n",
        "  Training pass\n",
        "\n",
        "  Args:\n",
        "    model: nn.module\n",
        "      NeuralNet instance\n",
        "    device: string\n",
        "      GPU if available, CPU otherwise\n",
        "    epochs: int\n",
        "      Number of epochs to train model for\n",
        "    learning_rate: float\n",
        "      Learning rate\n",
        "    train_iter: BucketIterator\n",
        "      Training iterator\n",
        "    valid_iter: BucketIterator\n",
        "      Validation iterator\n",
        "\n",
        "  Returns:\n",
        "    train_loss: list\n",
        "      Log of training loss\n",
        "    validation_loss: list\n",
        "      Log of validation loss\n",
        "    train_acc: list\n",
        "      Log of training accuracy\n",
        "    validation_acc: list\n",
        "      Log of validation accuracy\n",
        "  \"\"\"\n",
        "  criterion = nn.CrossEntropyLoss()\n",
        "  optimizer = torch.optim.Adam(model.parameters(), lr=learning_rate)\n",
        "\n",
        "  train_loss, validation_loss = [], []\n",
        "  train_acc, validation_acc = [], []\n",
        "\n",
        "  for epoch in range(epochs):\n",
        "    # train\n",
        "    model.train()\n",
        "    running_loss = 0.\n",
        "    correct, total = 0, 0\n",
        "    steps = 0\n",
        "\n",
        "    for idx, batch in enumerate(train_iter):\n",
        "      text = batch.text[0]\n",
        "      target = batch.label\n",
        "      target = torch.autograd.Variable(target).long()\n",
        "      text, target = text.to(device), target.to(device)\n",
        "\n",
        "      # Add micro for coding training loop\n",
        "      optimizer.zero_grad()\n",
        "      output = model(text)\n",
        "      loss = criterion(output, target)\n",
        "      loss.backward()\n",
        "      optimizer.step()\n",
        "      steps += 1\n",
        "      running_loss += loss.item()\n",
        "\n",
        "      # Get accuracy\n",
        "\n",
        "      # To get predicted values for each row\n",
        "      # across the entire batch\n",
        "      _, predicted = torch.max(output, 1)\n",
        "\n",
        "      total += target.size(0)\n",
        "      correct += (predicted == target).sum().item()\n",
        "    train_loss.append(running_loss/len(train_iter))\n",
        "    train_acc.append(correct/total)\n",
        "\n",
        "    print(f'Epoch: {epoch + 1}, '\n",
        "          f'Training Loss: {running_loss/len(train_iter):.4f}, '\n",
        "          f'Training Accuracy: {100*correct/total: .2f}%')\n",
        "\n",
        "    # Evaluate on validation data\n",
        "    model.eval()\n",
        "    running_loss = 0.\n",
        "    correct, total = 0, 0\n",
        "\n",
        "    with torch.no_grad():\n",
        "      for idx, batch in enumerate(valid_iter):\n",
        "        text = batch.text[0]\n",
        "        target = batch.label\n",
        "        target = torch.autograd.Variable(target).long()\n",
        "        text, target = text.to(device), target.to(device)\n",
        "\n",
        "        optimizer.zero_grad()\n",
        "        output = model(text)\n",
        "\n",
        "        loss = criterion(output, target)\n",
        "        running_loss += loss.item()\n",
        "\n",
        "        # Get accuracy\n",
        "        _, predicted = torch.max(output, 1)\n",
        "        total += target.size(0)\n",
        "        correct += (predicted == target).sum().item()\n",
        "\n",
        "    validation_loss.append(running_loss/len(valid_iter))\n",
        "    validation_acc.append(correct/total)\n",
        "\n",
        "    print (f'Validation Loss: {running_loss/len(valid_iter):.4f}, '\n",
        "           f'Validation Accuracy: {100*correct/total: .2f}%')\n",
        "\n",
        "  return train_loss, train_acc, validation_loss, validation_acc\n",
        "\n",
        "\n",
        "def test(model, device, test_iter):\n",
        "  \"\"\"\n",
        "  Test loop\n",
        "\n",
        "  Args:\n",
        "    model: nn.module\n",
        "      NeuralNet instance\n",
        "    device: string\n",
        "      GPU if available,\n",
        "    test_iter: BucketIterator\n",
        "      Test iterator\n",
        "\n",
        "  Returns:\n",
        "    acc: float\n",
        "      Test Accuracy\n",
        "  \"\"\"\n",
        "  model.eval()\n",
        "  correct = 0\n",
        "  total = 0\n",
        "  with torch.no_grad():\n",
        "    for idx, batch in enumerate(test_iter):\n",
        "      text = batch.text[0]\n",
        "      target = batch.label\n",
        "      target = torch.autograd.Variable(target).long()\n",
        "      text, target = text.to(device), target.to(device)\n",
        "\n",
        "      outputs = model(text)\n",
        "      _, predicted = torch.max(outputs, 1)\n",
        "      total += target.size(0)\n",
        "      correct += (predicted == target).sum().item()\n",
        "\n",
        "    acc = 100 * correct / total\n",
        "    return acc"
      ]
    },
    {
      "cell_type": "code",
      "execution_count": 73,
      "metadata": {
        "execution": {},
        "id": "fvRhXsM3AuwX",
        "outputId": "befdcfed-a297-4d7b-b22a-7cbb5363a407",
        "colab": {
          "base_uri": "https://localhost:8080/"
        }
      },
      "outputs": [
        {
          "output_type": "stream",
          "name": "stdout",
          "text": [
            "Random seed 522 has been set.\n",
            "Epoch: 1, Training Loss: 0.6690, Training Accuracy:  59.77%\n",
            "Validation Loss: 0.6441, Validation Accuracy:  63.81%\n",
            "Epoch: 2, Training Loss: 0.6301, Training Accuracy:  65.15%\n",
            "Validation Loss: 0.6124, Validation Accuracy:  67.87%\n",
            "Epoch: 3, Training Loss: 0.6061, Training Accuracy:  67.43%\n",
            "Validation Loss: 0.5943, Validation Accuracy:  69.17%\n",
            "Epoch: 4, Training Loss: 0.5930, Training Accuracy:  68.84%\n",
            "Validation Loss: 0.5849, Validation Accuracy:  69.97%\n",
            "Epoch: 5, Training Loss: 0.5872, Training Accuracy:  69.18%\n",
            "Validation Loss: 0.5809, Validation Accuracy:  69.91%\n",
            "Epoch: 6, Training Loss: 0.5819, Training Accuracy:  69.45%\n",
            "Validation Loss: 0.5786, Validation Accuracy:  70.08%\n",
            "Epoch: 7, Training Loss: 0.5794, Training Accuracy:  69.68%\n",
            "Validation Loss: 0.5752, Validation Accuracy:  69.88%\n",
            "Epoch: 8, Training Loss: 0.5773, Training Accuracy:  69.95%\n",
            "Validation Loss: 0.5789, Validation Accuracy:  69.99%\n",
            "Epoch: 9, Training Loss: 0.5754, Training Accuracy:  70.23%\n",
            "Validation Loss: 0.5720, Validation Accuracy:  70.43%\n",
            "Epoch: 10, Training Loss: 0.5735, Training Accuracy:  70.30%\n",
            "Validation Loss: 0.5704, Validation Accuracy:  70.20%\n",
            "Epoch: 11, Training Loss: 0.5727, Training Accuracy:  70.14%\n",
            "Validation Loss: 0.5699, Validation Accuracy:  70.36%\n",
            "Epoch: 12, Training Loss: 0.5706, Training Accuracy:  70.09%\n",
            "Validation Loss: 0.5706, Validation Accuracy:  70.23%\n",
            "Epoch: 13, Training Loss: 0.5697, Training Accuracy:  70.16%\n",
            "Validation Loss: 0.5726, Validation Accuracy:  70.45%\n",
            "Epoch: 14, Training Loss: 0.5680, Training Accuracy:  70.43%\n",
            "Validation Loss: 0.5669, Validation Accuracy:  70.47%\n",
            "Epoch: 15, Training Loss: 0.5667, Training Accuracy:  70.58%\n",
            "Validation Loss: 0.5674, Validation Accuracy:  70.17%\n",
            "--- Time taken to train = 26.548675775527954 seconds ---\n",
            "\n",
            "\n",
            "Test Accuracy: 69.552%\n"
          ]
        }
      ],
      "source": [
        "# Model hyperparameters\n",
        "learning_rate = 0.0003\n",
        "output_size = 2\n",
        "hidden_size = 128\n",
        "embedding_length = 300\n",
        "epochs = 15\n",
        "word_embeddings = TEXT.vocab.vectors\n",
        "vocab_size = len(TEXT.vocab)\n",
        "\n",
        "# Model set-up\n",
        "nn_model = NeuralNet(output_size,\n",
        "                     hidden_size,\n",
        "                     vocab_size,\n",
        "                     embedding_length,\n",
        "                     word_embeddings)\n",
        "nn_model.to(DEVICE)\n",
        "nn_start_time = time.time()\n",
        "set_seed(522)\n",
        "nn_train_loss, nn_train_acc, nn_validation_loss, nn_validation_acc = train(nn_model,\n",
        "                                                                           DEVICE,\n",
        "                                                                           train_iter,\n",
        "                                                                           valid_iter,\n",
        "                                                                           epochs,\n",
        "                                                                           learning_rate)\n",
        "print(f\"--- Time taken to train = {(time.time() - nn_start_time)} seconds ---\")\n",
        "test_accuracy = test(nn_model, DEVICE, test_iter)\n",
        "print(f'\\n\\nTest Accuracy: {test_accuracy}%')"
      ]
    },
    {
      "cell_type": "code",
      "execution_count": 74,
      "metadata": {
        "execution": {},
        "id": "Zxyrc_e5AuwX",
        "outputId": "951ca86c-dce3-45a7-c36f-b79aac95cade",
        "colab": {
          "base_uri": "https://localhost:8080/",
          "height": 431
        }
      },
      "outputs": [
        {
          "output_type": "display_data",
          "data": {
            "image/png": "[encoded data removed]",
            "text/plain": [
              "<Figure size 576x432 with 2 Axes>"
            ]
          },
          "metadata": {
            "image/png": {
              "width": 558,
              "height": 414
            },
            "needs_background": "light"
          }
        }
      ],
      "source": [
        "# Plot accuracy curves\n",
        "plt.figure()\n",
        "plt.subplot(211)\n",
        "plot_train_val(np.arange(0, epochs), nn_train_acc, nn_validation_acc,\n",
        "               'train accuracy', 'val accuracy',\n",
        "               'Neural Net on IMDB text classification', 'accuracy',\n",
        "               color='C0')\n",
        "plt.legend(loc='upper left')\n",
        "plt.subplot(212)\n",
        "plot_train_val(np.arange(0, epochs), nn_train_loss,\n",
        "               nn_validation_loss,\n",
        "               'train loss', 'val loss',\n",
        "               '',\n",
        "               'loss [a.u.]',\n",
        "               color='C0')\n",
        "plt.legend(loc='upper left')\n",
        "plt.show()"
      ]
    },
    {
      "cell_type": "markdown",
      "metadata": {
        "execution": {},
        "id": "d6SkCr_0AuwX"
      },
      "source": [
        "---\n",
        "# Summary\n",
        "\n",
        "In this tutorial, we explored two different concepts linked to sequences, and text in particular, that will be the conceptual foundation for Recurrent Neural Networks.\n",
        "\n",
        "The first concept was that of sequences and probabilities. We saw how we can model language as sequences of text, and use this analogy to generate text. Such a setup is also used to classify text or identify parts of speech. We can either build chains manually using simple python and numerical computation, or use a package such as ```hmmlearn``` that allows us to train models a lot easier. These notions of sequences and probabilities (i.e, creating language models!) are key to the internals of a recurrent neural network as well. \n",
        "\n",
        "The second concept is that of word embeddings, now a mainstay of natural language processing. By using a neural network to predict context of words, these neural networks learn internal representions of words that are a decent approximation of semantic meaning (i.e embeddings!). We saw how these embeddings can be visualised, as well as how they capture meaning. We finally saw how they can be integrated into neural networks to better classify text documents."
      ]
    },
    {
      "cell_type": "code",
      "execution_count": 75,
      "metadata": {
        "cellView": "form",
        "execution": {},
        "id": "gcStmOSvAuwX",
        "outputId": "9f7b8093-60f4-4793-ae66-82d2d4298e2e",
        "colab": {
          "base_uri": "https://localhost:8080/",
          "height": 159
        }
      },
      "outputs": [
        {
          "output_type": "execute_result",
          "data": {
            "text/html": [
              "\n",
              " <div>\n",
              "   <a href= \"https://portal.neuromatchacademy.org/api/redirect/to/9c55f6cb-cdf9-4429-ac1c-ec44fe64c303?data=eyJmb3JtX2lkIjogImFwcG43VmRQUnNlU29NWEVHIiwgInRhYmxlX25hbWUiOiAiVzJEM19UMSIsICJhbnN3ZXJzIjoge30sICJldmVudHMiOiBbeyJldmVudCI6ICJpbml0IiwgInRzIjogMTY0Mjc3NDk1OC42NTExMzA0fSwgeyJldmVudCI6ICJWaWRlbyAxOiBTZXF1ZW5jZXMgJiBNYXJrb3YgUHJvY2Vzc2VzIiwgInRzIjogMTY0Mjc3NDk2Ny41Nzk2NTkyfSwgeyJldmVudCI6ICJWaWRlbyAyOiBUZXh0dWFsIERpbWVuc2lvbiBSZWR1Y3Rpb24iLCAidHMiOiAxNjQyNzc1MDEwLjU3NzkyNjJ9LCB7ImV2ZW50IjogIlZpZGVvIDM6IFNlbWFudGljIE1lYXN1cmVtZW50cyIsICJ0cyI6IDE2NDI3NzUxNDguMzg0MDY1fSwgeyJldmVudCI6ICJDb2RpbmcgRXhlcmNpc2UgMy4xOiBTaW1wbGUgRmVlZCBGb3J3YXJkIE5ldCIsICJ0cyI6IDE2NDI3NzUzMjEuMjE3NDAxfSwgeyJldmVudCI6ICJDb2RpbmcgRXhlcmNpc2UgMy4xOiBTaW1wbGUgRmVlZCBGb3J3YXJkIE5ldCIsICJ0cyI6IDE2NDI3NzUzMjEuMjUzNTA0fSwgeyJldmVudCI6ICJ1cmwgZ2VuZXJhdGVkIiwgInRzIjogMTY0Mjc3NTM2Mi4yMjAxOTc3fV19\" target=\"_blank\">\n",
              "   <img src=\"https://github.com/NeuromatchAcademy/course-content-dl/blob/main/tutorials/static/AirtableSubmissionButton.png?raw=1\"\n",
              " alt=\"button link to Airtable\" style=\"width:410px\"></a>\n",
              "   </div>"
            ],
            "text/plain": [
              "<IPython.core.display.HTML object>"
            ]
          },
          "metadata": {},
          "execution_count": 75
        }
      ],
      "source": [
        "# @title Airtable Submission Link\n",
        "from IPython import display as IPydisplay\n",
        "IPydisplay.HTML(\n",
        "   f\"\"\"\n",
        " <div>\n",
        "   <a href= \"{atform.url()}\" target=\"_blank\">\n",
        "   <img src=\"https://github.com/NeuromatchAcademy/course-content-dl/blob/main/tutorials/static/AirtableSubmissionButton.png?raw=1\"\n",
        " alt=\"button link to Airtable\" style=\"width:410px\"></a>\n",
        "   </div>\"\"\" )"
      ]
    }
  ],
  "metadata": {
    "accelerator": "GPU",
    "colab": {
      "collapsed_sections": [],
      "machine_shape": "hm",
      "name": "W2D3_Tutorial1",
      "provenance": [],
      "toc_visible": true,
      "include_colab_link": true
    },
    "kernel": {
      "display_name": "Python 3",
      "language": "python",
      "name": "python3"
    },
    "kernelspec": {
      "display_name": "Python 3",
      "name": "python3"
    },
    "language_info": {
      "name": "python"
    },
    "widgets": {
      "application/vnd.jupyter.widget-state+json": {
        "80fd7753018b4d1fb4338a1d62f2b22b": {
          "model_module": "@jupyter-widgets/controls",
          "model_name": "TabModel",
          "model_module_version": "1.5.0",
          "state": {
            "_view_name": "TabView",
            "_dom_classes": [],
            "_titles": {
              "0": "Youtube",
              "1": "Bilibili"
            },
            "_model_name": "TabModel",
            "_view_module": "@jupyter-widgets/controls",
            "selected_index": 0,
            "_model_module_version": "1.5.0",
            "_view_count": null,
            "_view_module_version": "1.5.0",
            "box_style": "",
            "layout": "IPY_MODEL_bb9cf3bbffff41ce8b7bebec5e6a55f4",
            "_model_module": "@jupyter-widgets/controls",
            "children": [
              "IPY_MODEL_8b093fa5f6fc41d7a99ef4cb861dbb40",
              "IPY_MODEL_be440c36a28a482da0d49d934e9c9bcb"
            ]
          }
        },
        "bb9cf3bbffff41ce8b7bebec5e6a55f4": {
          "model_module": "@jupyter-widgets/base",
          "model_name": "LayoutModel",
          "model_module_version": "1.2.0",
          "state": {
            "_view_name": "LayoutView",
            "grid_template_rows": null,
            "right": null,
            "justify_content": null,
            "_view_module": "@jupyter-widgets/base",
            "overflow": null,
            "_model_module_version": "1.2.0",
            "_view_count": null,
            "flex_flow": null,
            "width": null,
            "min_width": null,
            "border": null,
            "align_items": null,
            "bottom": null,
            "_model_module": "@jupyter-widgets/base",
            "top": null,
            "grid_column": null,
            "overflow_y": null,
            "overflow_x": null,
            "grid_auto_flow": null,
            "grid_area": null,
            "grid_template_columns": null,
            "flex": null,
            "_model_name": "LayoutModel",
            "justify_items": null,
            "grid_row": null,
            "max_height": null,
            "align_content": null,
            "visibility": null,
            "align_self": null,
            "height": null,
            "min_height": null,
            "padding": null,
            "grid_auto_rows": null,
            "grid_gap": null,
            "max_width": null,
            "order": null,
            "_view_module_version": "1.2.0",
            "grid_template_areas": null,
            "object_position": null,
            "object_fit": null,
            "grid_auto_columns": null,
            "margin": null,
            "display": null,
            "left": null
          }
        },
        "8b093fa5f6fc41d7a99ef4cb861dbb40": {
          "model_module": "@jupyter-widgets/output",
          "model_name": "OutputModel",
          "model_module_version": "1.0.0",
          "state": {
            "_view_name": "OutputView",
            "msg_id": "",
            "_dom_classes": [],
            "_model_name": "OutputModel",
            "outputs": [
              {
                "output_type": "stream",
                "name": "stdout",
                "text": [
                  "Video available at https://youtube.com/watch?v=ApkE7UFaJAQ\n"
                ]
              },
              {
                "output_type": "display_data",
                "data": {
                  "text/html": "\n        <iframe\n            width=\"854\"\n            height=\"480\"\n            src=\"https://www.youtube.com/embed/ApkE7UFaJAQ?fs=1&rel=0\"\n            frameborder=\"0\"\n            allowfullscreen\n        ></iframe>\n        ",
                  "text/plain": "<IPython.lib.display.YouTubeVideo at 0x7f05794ba810>",
                  "image/jpeg": "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\n"
                },
                "metadata": {}
              }
            ],
            "_view_module": "@jupyter-widgets/output",
            "_model_module_version": "1.0.0",
            "_view_count": null,
            "_view_module_version": "1.0.0",
            "layout": "IPY_MODEL_0b03ef05efa744fe9c340c7866439a36",
            "_model_module": "@jupyter-widgets/output"
          }
        },
        "be440c36a28a482da0d49d934e9c9bcb": {
          "model_module": "@jupyter-widgets/output",
          "model_name": "OutputModel",
          "model_module_version": "1.0.0",
          "state": {
            "_view_name": "OutputView",
            "msg_id": "",
            "_dom_classes": [],
            "_model_name": "OutputModel",
            "outputs": [
              {
                "output_type": "stream",
                "name": "stdout",
                "text": [
                  "Video available at https://www.bilibili.com/video/BV1jg411774B\n"
                ]
              },
              {
                "output_type": "display_data",
                "data": {
                  "text/html": "\n        <iframe\n            width=\"854\"\n            height=\"480\"\n            src=\"https://player.bilibili.com/player.html?bvid=BV1jg411774B&page=1?fs=1\"\n            frameborder=\"0\"\n            allowfullscreen\n        ></iframe>\n        ",
                  "text/plain": "<__main__.BiliVideo at 0x7f0578b54890>"
                },
                "metadata": {}
              }
            ],
            "_view_module": "@jupyter-widgets/output",
            "_model_module_version": "1.0.0",
            "_view_count": null,
            "_view_module_version": "1.0.0",
            "layout": "IPY_MODEL_9694a0e852354d4c8d95ba316361f20a",
            "_model_module": "@jupyter-widgets/output"
          }
        },
        "0b03ef05efa744fe9c340c7866439a36": {
          "model_module": "@jupyter-widgets/base",
          "model_name": "LayoutModel",
          "model_module_version": "1.2.0",
          "state": {
            "_view_name": "LayoutView",
            "grid_template_rows": null,
            "right": null,
            "justify_content": null,
            "_view_module": "@jupyter-widgets/base",
            "overflow": null,
            "_model_module_version": "1.2.0",
            "_view_count": null,
            "flex_flow": null,
            "width": null,
            "min_width": null,
            "border": null,
            "align_items": null,
            "bottom": null,
            "_model_module": "@jupyter-widgets/base",
            "top": null,
            "grid_column": null,
            "overflow_y": null,
            "overflow_x": null,
            "grid_auto_flow": null,
            "grid_area": null,
            "grid_template_columns": null,
            "flex": null,
            "_model_name": "LayoutModel",
            "justify_items": null,
            "grid_row": null,
            "max_height": null,
            "align_content": null,
            "visibility": null,
            "align_self": null,
            "height": null,
            "min_height": null,
            "padding": null,
            "grid_auto_rows": null,
            "grid_gap": null,
            "max_width": null,
            "order": null,
            "_view_module_version": "1.2.0",
            "grid_template_areas": null,
            "object_position": null,
            "object_fit": null,
            "grid_auto_columns": null,
            "margin": null,
            "display": null,
            "left": null
          }
        },
        "9694a0e852354d4c8d95ba316361f20a": {
          "model_module": "@jupyter-widgets/base",
          "model_name": "LayoutModel",
          "model_module_version": "1.2.0",
          "state": {
            "_view_name": "LayoutView",
            "grid_template_rows": null,
            "right": null,
            "justify_content": null,
            "_view_module": "@jupyter-widgets/base",
            "overflow": null,
            "_model_module_version": "1.2.0",
            "_view_count": null,
            "flex_flow": null,
            "width": null,
            "min_width": null,
            "border": null,
            "align_items": null,
            "bottom": null,
            "_model_module": "@jupyter-widgets/base",
            "top": null,
            "grid_column": null,
            "overflow_y": null,
            "overflow_x": null,
            "grid_auto_flow": null,
            "grid_area": null,
            "grid_template_columns": null,
            "flex": null,
            "_model_name": "LayoutModel",
            "justify_items": null,
            "grid_row": null,
            "max_height": null,
            "align_content": null,
            "visibility": null,
            "align_self": null,
            "height": null,
            "min_height": null,
            "padding": null,
            "grid_auto_rows": null,
            "grid_gap": null,
            "max_width": null,
            "order": null,
            "_view_module_version": "1.2.0",
            "grid_template_areas": null,
            "object_position": null,
            "object_fit": null,
            "grid_auto_columns": null,
            "margin": null,
            "display": null,
            "left": null
          }
        },
        "c96ecef6f4b64feda03a991ce639902d": {
          "model_module": "@jupyter-widgets/controls",
          "model_name": "HBoxModel",
          "model_module_version": "1.5.0",
          "state": {
            "_view_name": "HBoxView",
            "_dom_classes": [],
            "_model_name": "HBoxModel",
            "_view_module": "@jupyter-widgets/controls",
            "_model_module_version": "1.5.0",
            "_view_count": null,
            "_view_module_version": "1.5.0",
            "box_style": "",
            "layout": "IPY_MODEL_fd7612e9082a4462a24e195d88688856",
            "_model_module": "@jupyter-widgets/controls",
            "children": [
              "IPY_MODEL_9e95570c34944338a371b425e6ab5ee4",
              "IPY_MODEL_755da9803277449c8084ef6aef60134a",
              "IPY_MODEL_8459f57d782f4614a579252518a99168"
            ]
          }
        },
        "fd7612e9082a4462a24e195d88688856": {
          "model_module": "@jupyter-widgets/base",
          "model_name": "LayoutModel",
          "model_module_version": "1.2.0",
          "state": {
            "_view_name": "LayoutView",
            "grid_template_rows": null,
            "right": null,
            "justify_content": null,
            "_view_module": "@jupyter-widgets/base",
            "overflow": null,
            "_model_module_version": "1.2.0",
            "_view_count": null,
            "flex_flow": null,
            "width": null,
            "min_width": null,
            "border": null,
            "align_items": null,
            "bottom": null,
            "_model_module": "@jupyter-widgets/base",
            "top": null,
            "grid_column": null,
            "overflow_y": null,
            "overflow_x": null,
            "grid_auto_flow": null,
            "grid_area": null,
            "grid_template_columns": null,
            "flex": null,
            "_model_name": "LayoutModel",
            "justify_items": null,
            "grid_row": null,
            "max_height": null,
            "align_content": null,
            "visibility": null,
            "align_self": null,
            "height": null,
            "min_height": null,
            "padding": null,
            "grid_auto_rows": null,
            "grid_gap": null,
            "max_width": null,
            "order": null,
            "_view_module_version": "1.2.0",
            "grid_template_areas": null,
            "object_position": null,
            "object_fit": null,
            "grid_auto_columns": null,
            "margin": null,
            "display": null,
            "left": null
          }
        },
        "9e95570c34944338a371b425e6ab5ee4": {
          "model_module": "@jupyter-widgets/controls",
          "model_name": "HTMLModel",
          "model_module_version": "1.5.0",
          "state": {
            "_view_name": "HTMLView",
            "style": "IPY_MODEL_24d64ad40bf240048a9e2aed72ad1f4e",
            "_dom_classes": [],
            "description": "",
            "_model_name": "HTMLModel",
            "placeholder": "​",
            "_view_module": "@jupyter-widgets/controls",
            "_model_module_version": "1.5.0",
            "value": "",
            "_view_count": null,
            "_view_module_version": "1.5.0",
            "description_tooltip": null,
            "_model_module": "@jupyter-widgets/controls",
            "layout": "IPY_MODEL_8a2c38d2b7bc476f998ab1a2fea14894"
          }
        },
        "755da9803277449c8084ef6aef60134a": {
          "model_module": "@jupyter-widgets/controls",
          "model_name": "FloatProgressModel",
          "model_module_version": "1.5.0",
          "state": {
            "_view_name": "ProgressView",
            "style": "IPY_MODEL_98e9268f9bf84b22b69cc95bd76e8597",
            "_dom_classes": [],
            "description": "",
            "_model_name": "FloatProgressModel",
            "bar_style": "success",
            "max": 1,
            "_view_module": "@jupyter-widgets/controls",
            "_model_module_version": "1.5.0",
            "value": 1,
            "_view_count": null,
            "_view_module_version": "1.5.0",
            "orientation": "horizontal",
            "min": 0,
            "description_tooltip": null,
            "_model_module": "@jupyter-widgets/controls",
            "layout": "IPY_MODEL_eb2bfe16dcda4e85aa62523040cabf7a"
          }
        },
        "8459f57d782f4614a579252518a99168": {
          "model_module": "@jupyter-widgets/controls",
          "model_name": "HTMLModel",
          "model_module_version": "1.5.0",
          "state": {
            "_view_name": "HTMLView",
            "style": "IPY_MODEL_0f2b7bb1e88342bbbdb39a2c5a879b47",
            "_dom_classes": [],
            "description": "",
            "_model_name": "HTMLModel",
            "placeholder": "​",
            "_view_module": "@jupyter-widgets/controls",
            "_model_module_version": "1.5.0",
            "value": " 335760/? [00:10&lt;00:00, 31646.82it/s]",
            "_view_count": null,
            "_view_module_version": "1.5.0",
            "description_tooltip": null,
            "_model_module": "@jupyter-widgets/controls",
            "layout": "IPY_MODEL_73133160f54d4c508fa569d842d34a45"
          }
        },
        "24d64ad40bf240048a9e2aed72ad1f4e": {
          "model_module": "@jupyter-widgets/controls",
          "model_name": "DescriptionStyleModel",
          "model_module_version": "1.5.0",
          "state": {
            "_view_name": "StyleView",
            "_model_name": "DescriptionStyleModel",
            "description_width": "",
            "_view_module": "@jupyter-widgets/base",
            "_model_module_version": "1.5.0",
            "_view_count": null,
            "_view_module_version": "1.2.0",
            "_model_module": "@jupyter-widgets/controls"
          }
        },
        "8a2c38d2b7bc476f998ab1a2fea14894": {
          "model_module": "@jupyter-widgets/base",
          "model_name": "LayoutModel",
          "model_module_version": "1.2.0",
          "state": {
            "_view_name": "LayoutView",
            "grid_template_rows": null,
            "right": null,
            "justify_content": null,
            "_view_module": "@jupyter-widgets/base",
            "overflow": null,
            "_model_module_version": "1.2.0",
            "_view_count": null,
            "flex_flow": null,
            "width": null,
            "min_width": null,
            "border": null,
            "align_items": null,
            "bottom": null,
            "_model_module": "@jupyter-widgets/base",
            "top": null,
            "grid_column": null,
            "overflow_y": null,
            "overflow_x": null,
            "grid_auto_flow": null,
            "grid_area": null,
            "grid_template_columns": null,
            "flex": null,
            "_model_name": "LayoutModel",
            "justify_items": null,
            "grid_row": null,
            "max_height": null,
            "align_content": null,
            "visibility": null,
            "align_self": null,
            "height": null,
            "min_height": null,
            "padding": null,
            "grid_auto_rows": null,
            "grid_gap": null,
            "max_width": null,
            "order": null,
            "_view_module_version": "1.2.0",
            "grid_template_areas": null,
            "object_position": null,
            "object_fit": null,
            "grid_auto_columns": null,
            "margin": null,
            "display": null,
            "left": null
          }
        },
        "98e9268f9bf84b22b69cc95bd76e8597": {
          "model_module": "@jupyter-widgets/controls",
          "model_name": "ProgressStyleModel",
          "model_module_version": "1.5.0",
          "state": {
            "_view_name": "StyleView",
            "_model_name": "ProgressStyleModel",
            "description_width": "",
            "_view_module": "@jupyter-widgets/base",
            "_model_module_version": "1.5.0",
            "_view_count": null,
            "_view_module_version": "1.2.0",
            "bar_color": null,
            "_model_module": "@jupyter-widgets/controls"
          }
        },
        "eb2bfe16dcda4e85aa62523040cabf7a": {
          "model_module": "@jupyter-widgets/base",
          "model_name": "LayoutModel",
          "model_module_version": "1.2.0",
          "state": {
            "_view_name": "LayoutView",
            "grid_template_rows": null,
            "right": null,
            "justify_content": null,
            "_view_module": "@jupyter-widgets/base",
            "overflow": null,
            "_model_module_version": "1.2.0",
            "_view_count": null,
            "flex_flow": null,
            "width": "20px",
            "min_width": null,
            "border": null,
            "align_items": null,
            "bottom": null,
            "_model_module": "@jupyter-widgets/base",
            "top": null,
            "grid_column": null,
            "overflow_y": null,
            "overflow_x": null,
            "grid_auto_flow": null,
            "grid_area": null,
            "grid_template_columns": null,
            "flex": null,
            "_model_name": "LayoutModel",
            "justify_items": null,
            "grid_row": null,
            "max_height": null,
            "align_content": null,
            "visibility": null,
            "align_self": null,
            "height": null,
            "min_height": null,
            "padding": null,
            "grid_auto_rows": null,
            "grid_gap": null,
            "max_width": null,
            "order": null,
            "_view_module_version": "1.2.0",
            "grid_template_areas": null,
            "object_position": null,
            "object_fit": null,
            "grid_auto_columns": null,
            "margin": null,
            "display": null,
            "left": null
          }
        },
        "0f2b7bb1e88342bbbdb39a2c5a879b47": {
          "model_module": "@jupyter-widgets/controls",
          "model_name": "DescriptionStyleModel",
          "model_module_version": "1.5.0",
          "state": {
            "_view_name": "StyleView",
            "_model_name": "DescriptionStyleModel",
            "description_width": "",
            "_view_module": "@jupyter-widgets/base",
            "_model_module_version": "1.5.0",
            "_view_count": null,
            "_view_module_version": "1.2.0",
            "_model_module": "@jupyter-widgets/controls"
          }
        },
        "73133160f54d4c508fa569d842d34a45": {
          "model_module": "@jupyter-widgets/base",
          "model_name": "LayoutModel",
          "model_module_version": "1.2.0",
          "state": {
            "_view_name": "LayoutView",
            "grid_template_rows": null,
            "right": null,
            "justify_content": null,
            "_view_module": "@jupyter-widgets/base",
            "overflow": null,
            "_model_module_version": "1.2.0",
            "_view_count": null,
            "flex_flow": null,
            "width": null,
            "min_width": null,
            "border": null,
            "align_items": null,
            "bottom": null,
            "_model_module": "@jupyter-widgets/base",
            "top": null,
            "grid_column": null,
            "overflow_y": null,
            "overflow_x": null,
            "grid_auto_flow": null,
            "grid_area": null,
            "grid_template_columns": null,
            "flex": null,
            "_model_name": "LayoutModel",
            "justify_items": null,
            "grid_row": null,
            "max_height": null,
            "align_content": null,
            "visibility": null,
            "align_self": null,
            "height": null,
            "min_height": null,
            "padding": null,
            "grid_auto_rows": null,
            "grid_gap": null,
            "max_width": null,
            "order": null,
            "_view_module_version": "1.2.0",
            "grid_template_areas": null,
            "object_position": null,
            "object_fit": null,
            "grid_auto_columns": null,
            "margin": null,
            "display": null,
            "left": null
          }
        },
        "ee2581af8b3f49edabbcdd8ba6e11af6": {
          "model_module": "@jupyter-widgets/controls",
          "model_name": "HBoxModel",
          "model_module_version": "1.5.0",
          "state": {
            "_view_name": "HBoxView",
            "_dom_classes": [],
            "_model_name": "HBoxModel",
            "_view_module": "@jupyter-widgets/controls",
            "_model_module_version": "1.5.0",
            "_view_count": null,
            "_view_module_version": "1.5.0",
            "box_style": "",
            "layout": "IPY_MODEL_1177b75aa854425e9c01c92f01cb76d0",
            "_model_module": "@jupyter-widgets/controls",
            "children": [
              "IPY_MODEL_b7a55fc73b784f2e84c7da814b2faea1",
              "IPY_MODEL_c04fd1116f244899aae102794cd9ab7e",
              "IPY_MODEL_29d6f729b70e46de9f83aecc96c0ad34"
            ]
          }
        },
        "1177b75aa854425e9c01c92f01cb76d0": {
          "model_module": "@jupyter-widgets/base",
          "model_name": "LayoutModel",
          "model_module_version": "1.2.0",
          "state": {
            "_view_name": "LayoutView",
            "grid_template_rows": null,
            "right": null,
            "justify_content": null,
            "_view_module": "@jupyter-widgets/base",
            "overflow": null,
            "_model_module_version": "1.2.0",
            "_view_count": null,
            "flex_flow": null,
            "width": null,
            "min_width": null,
            "border": null,
            "align_items": null,
            "bottom": null,
            "_model_module": "@jupyter-widgets/base",
            "top": null,
            "grid_column": null,
            "overflow_y": null,
            "overflow_x": null,
            "grid_auto_flow": null,
            "grid_area": null,
            "grid_template_columns": null,
            "flex": null,
            "_model_name": "LayoutModel",
            "justify_items": null,
            "grid_row": null,
            "max_height": null,
            "align_content": null,
            "visibility": null,
            "align_self": null,
            "height": null,
            "min_height": null,
            "padding": null,
            "grid_auto_rows": null,
            "grid_gap": null,
            "max_width": null,
            "order": null,
            "_view_module_version": "1.2.0",
            "grid_template_areas": null,
            "object_position": null,
            "object_fit": null,
            "grid_auto_columns": null,
            "margin": null,
            "display": null,
            "left": null
          }
        },
        "b7a55fc73b784f2e84c7da814b2faea1": {
          "model_module": "@jupyter-widgets/controls",
          "model_name": "HTMLModel",
          "model_module_version": "1.5.0",
          "state": {
            "_view_name": "HTMLView",
            "style": "IPY_MODEL_3f01c238fc744672abbe2ec659728193",
            "_dom_classes": [],
            "description": "",
            "_model_name": "HTMLModel",
            "placeholder": "​",
            "_view_module": "@jupyter-widgets/controls",
            "_model_module_version": "1.5.0",
            "value": "",
            "_view_count": null,
            "_view_module_version": "1.5.0",
            "description_tooltip": null,
            "_model_module": "@jupyter-widgets/controls",
            "layout": "IPY_MODEL_50cc660d580b4801a1ea121c4bf84495"
          }
        },
        "c04fd1116f244899aae102794cd9ab7e": {
          "model_module": "@jupyter-widgets/controls",
          "model_name": "FloatProgressModel",
          "model_module_version": "1.5.0",
          "state": {
            "_view_name": "ProgressView",
            "style": "IPY_MODEL_39958f52bfb7425cb44b7dff786b89e8",
            "_dom_classes": [],
            "description": "",
            "_model_name": "FloatProgressModel",
            "bar_style": "success",
            "max": 1,
            "_view_module": "@jupyter-widgets/controls",
            "_model_module_version": "1.5.0",
            "value": 1,
            "_view_count": null,
            "_view_module_version": "1.5.0",
            "orientation": "horizontal",
            "min": 0,
            "description_tooltip": null,
            "_model_module": "@jupyter-widgets/controls",
            "layout": "IPY_MODEL_4511da7d3a11468da8b3f6d59a1a51aa"
          }
        },
        "29d6f729b70e46de9f83aecc96c0ad34": {
          "model_module": "@jupyter-widgets/controls",
          "model_name": "HTMLModel",
          "model_module_version": "1.5.0",
          "state": {
            "_view_name": "HTMLView",
            "style": "IPY_MODEL_30bf33b291e041948f477379d7539314",
            "_dom_classes": [],
            "description": "",
            "_model_name": "HTMLModel",
            "placeholder": "​",
            "_view_module": "@jupyter-widgets/controls",
            "_model_module_version": "1.5.0",
            "value": " 285380/? [00:09&lt;00:00, 31039.56it/s]",
            "_view_count": null,
            "_view_module_version": "1.5.0",
            "description_tooltip": null,
            "_model_module": "@jupyter-widgets/controls",
            "layout": "IPY_MODEL_4500c6f2a6144045aa6f0d0e035a79b6"
          }
        },
        "3f01c238fc744672abbe2ec659728193": {
          "model_module": "@jupyter-widgets/controls",
          "model_name": "DescriptionStyleModel",
          "model_module_version": "1.5.0",
          "state": {
            "_view_name": "StyleView",
            "_model_name": "DescriptionStyleModel",
            "description_width": "",
            "_view_module": "@jupyter-widgets/base",
            "_model_module_version": "1.5.0",
            "_view_count": null,
            "_view_module_version": "1.2.0",
            "_model_module": "@jupyter-widgets/controls"
          }
        },
        "50cc660d580b4801a1ea121c4bf84495": {
          "model_module": "@jupyter-widgets/base",
          "model_name": "LayoutModel",
          "model_module_version": "1.2.0",
          "state": {
            "_view_name": "LayoutView",
            "grid_template_rows": null,
            "right": null,
            "justify_content": null,
            "_view_module": "@jupyter-widgets/base",
            "overflow": null,
            "_model_module_version": "1.2.0",
            "_view_count": null,
            "flex_flow": null,
            "width": null,
            "min_width": null,
            "border": null,
            "align_items": null,
            "bottom": null,
            "_model_module": "@jupyter-widgets/base",
            "top": null,
            "grid_column": null,
            "overflow_y": null,
            "overflow_x": null,
            "grid_auto_flow": null,
            "grid_area": null,
            "grid_template_columns": null,
            "flex": null,
            "_model_name": "LayoutModel",
            "justify_items": null,
            "grid_row": null,
            "max_height": null,
            "align_content": null,
            "visibility": null,
            "align_self": null,
            "height": null,
            "min_height": null,
            "padding": null,
            "grid_auto_rows": null,
            "grid_gap": null,
            "max_width": null,
            "order": null,
            "_view_module_version": "1.2.0",
            "grid_template_areas": null,
            "object_position": null,
            "object_fit": null,
            "grid_auto_columns": null,
            "margin": null,
            "display": null,
            "left": null
          }
        },
        "39958f52bfb7425cb44b7dff786b89e8": {
          "model_module": "@jupyter-widgets/controls",
          "model_name": "ProgressStyleModel",
          "model_module_version": "1.5.0",
          "state": {
            "_view_name": "StyleView",
            "_model_name": "ProgressStyleModel",
            "description_width": "",
            "_view_module": "@jupyter-widgets/base",
            "_model_module_version": "1.5.0",
            "_view_count": null,
            "_view_module_version": "1.2.0",
            "bar_color": null,
            "_model_module": "@jupyter-widgets/controls"
          }
        },
        "4511da7d3a11468da8b3f6d59a1a51aa": {
          "model_module": "@jupyter-widgets/base",
          "model_name": "LayoutModel",
          "model_module_version": "1.2.0",
          "state": {
            "_view_name": "LayoutView",
            "grid_template_rows": null,
            "right": null,
            "justify_content": null,
            "_view_module": "@jupyter-widgets/base",
            "overflow": null,
            "_model_module_version": "1.2.0",
            "_view_count": null,
            "flex_flow": null,
            "width": "20px",
            "min_width": null,
            "border": null,
            "align_items": null,
            "bottom": null,
            "_model_module": "@jupyter-widgets/base",
            "top": null,
            "grid_column": null,
            "overflow_y": null,
            "overflow_x": null,
            "grid_auto_flow": null,
            "grid_area": null,
            "grid_template_columns": null,
            "flex": null,
            "_model_name": "LayoutModel",
            "justify_items": null,
            "grid_row": null,
            "max_height": null,
            "align_content": null,
            "visibility": null,
            "align_self": null,
            "height": null,
            "min_height": null,
            "padding": null,
            "grid_auto_rows": null,
            "grid_gap": null,
            "max_width": null,
            "order": null,
            "_view_module_version": "1.2.0",
            "grid_template_areas": null,
            "object_position": null,
            "object_fit": null,
            "grid_auto_columns": null,
            "margin": null,
            "display": null,
            "left": null
          }
        },
        "30bf33b291e041948f477379d7539314": {
          "model_module": "@jupyter-widgets/controls",
          "model_name": "DescriptionStyleModel",
          "model_module_version": "1.5.0",
          "state": {
            "_view_name": "StyleView",
            "_model_name": "DescriptionStyleModel",
            "description_width": "",
            "_view_module": "@jupyter-widgets/base",
            "_model_module_version": "1.5.0",
            "_view_count": null,
            "_view_module_version": "1.2.0",
            "_model_module": "@jupyter-widgets/controls"
          }
        },
        "4500c6f2a6144045aa6f0d0e035a79b6": {
          "model_module": "@jupyter-widgets/base",
          "model_name": "LayoutModel",
          "model_module_version": "1.2.0",
          "state": {
            "_view_name": "LayoutView",
            "grid_template_rows": null,
            "right": null,
            "justify_content": null,
            "_view_module": "@jupyter-widgets/base",
            "overflow": null,
            "_model_module_version": "1.2.0",
            "_view_count": null,
            "flex_flow": null,
            "width": null,
            "min_width": null,
            "border": null,
            "align_items": null,
            "bottom": null,
            "_model_module": "@jupyter-widgets/base",
            "top": null,
            "grid_column": null,
            "overflow_y": null,
            "overflow_x": null,
            "grid_auto_flow": null,
            "grid_area": null,
            "grid_template_columns": null,
            "flex": null,
            "_model_name": "LayoutModel",
            "justify_items": null,
            "grid_row": null,
            "max_height": null,
            "align_content": null,
            "visibility": null,
            "align_self": null,
            "height": null,
            "min_height": null,
            "padding": null,
            "grid_auto_rows": null,
            "grid_gap": null,
            "max_width": null,
            "order": null,
            "_view_module_version": "1.2.0",
            "grid_template_areas": null,
            "object_position": null,
            "object_fit": null,
            "grid_auto_columns": null,
            "margin": null,
            "display": null,
            "left": null
          }
        },
        "8c8df9c1a9d84785a6d19c3d18fb269e": {
          "model_module": "@jupyter-widgets/controls",
          "model_name": "HBoxModel",
          "model_module_version": "1.5.0",
          "state": {
            "_view_name": "HBoxView",
            "_dom_classes": [],
            "_model_name": "HBoxModel",
            "_view_module": "@jupyter-widgets/controls",
            "_model_module_version": "1.5.0",
            "_view_count": null,
            "_view_module_version": "1.5.0",
            "box_style": "",
            "layout": "IPY_MODEL_ef46f345087844898629a281a3e28c54",
            "_model_module": "@jupyter-widgets/controls",
            "children": [
              "IPY_MODEL_99f0b469b6fc40d2bca3d66a9283b2c9",
              "IPY_MODEL_7eb30fbf15d2485a8bf981dfcdcf0075",
              "IPY_MODEL_464cafdf7e064ce692b1118b171622a3"
            ]
          }
        },
        "ef46f345087844898629a281a3e28c54": {
          "model_module": "@jupyter-widgets/base",
          "model_name": "LayoutModel",
          "model_module_version": "1.2.0",
          "state": {
            "_view_name": "LayoutView",
            "grid_template_rows": null,
            "right": null,
            "justify_content": null,
            "_view_module": "@jupyter-widgets/base",
            "overflow": null,
            "_model_module_version": "1.2.0",
            "_view_count": null,
            "flex_flow": null,
            "width": null,
            "min_width": null,
            "border": null,
            "align_items": null,
            "bottom": null,
            "_model_module": "@jupyter-widgets/base",
            "top": null,
            "grid_column": null,
            "overflow_y": null,
            "overflow_x": null,
            "grid_auto_flow": null,
            "grid_area": null,
            "grid_template_columns": null,
            "flex": null,
            "_model_name": "LayoutModel",
            "justify_items": null,
            "grid_row": null,
            "max_height": null,
            "align_content": null,
            "visibility": null,
            "align_self": null,
            "height": null,
            "min_height": null,
            "padding": null,
            "grid_auto_rows": null,
            "grid_gap": null,
            "max_width": null,
            "order": null,
            "_view_module_version": "1.2.0",
            "grid_template_areas": null,
            "object_position": null,
            "object_fit": null,
            "grid_auto_columns": null,
            "margin": null,
            "display": null,
            "left": null
          }
        },
        "99f0b469b6fc40d2bca3d66a9283b2c9": {
          "model_module": "@jupyter-widgets/controls",
          "model_name": "HTMLModel",
          "model_module_version": "1.5.0",
          "state": {
            "_view_name": "HTMLView",
            "style": "IPY_MODEL_3f91d1b6be7747c29fa12868ec6ab79c",
            "_dom_classes": [],
            "description": "",
            "_model_name": "HTMLModel",
            "placeholder": "​",
            "_view_module": "@jupyter-widgets/controls",
            "_model_module_version": "1.5.0",
            "value": "",
            "_view_count": null,
            "_view_module_version": "1.5.0",
            "description_tooltip": null,
            "_model_module": "@jupyter-widgets/controls",
            "layout": "IPY_MODEL_02e2224576ae438581b8dbed349e3d09"
          }
        },
        "7eb30fbf15d2485a8bf981dfcdcf0075": {
          "model_module": "@jupyter-widgets/controls",
          "model_name": "FloatProgressModel",
          "model_module_version": "1.5.0",
          "state": {
            "_view_name": "ProgressView",
            "style": "IPY_MODEL_a58980782b4d4c549093c883d53a8890",
            "_dom_classes": [],
            "description": "",
            "_model_name": "FloatProgressModel",
            "bar_style": "success",
            "max": 1,
            "_view_module": "@jupyter-widgets/controls",
            "_model_module_version": "1.5.0",
            "value": 1,
            "_view_count": null,
            "_view_module_version": "1.5.0",
            "orientation": "horizontal",
            "min": 0,
            "description_tooltip": null,
            "_model_module": "@jupyter-widgets/controls",
            "layout": "IPY_MODEL_fec5b856eba24bb7801a9e49104ccb95"
          }
        },
        "464cafdf7e064ce692b1118b171622a3": {
          "model_module": "@jupyter-widgets/controls",
          "model_name": "HTMLModel",
          "model_module_version": "1.5.0",
          "state": {
            "_view_name": "HTMLView",
            "style": "IPY_MODEL_394d16528ede4eca95a67548c080fb76",
            "_dom_classes": [],
            "description": "",
            "_model_name": "HTMLModel",
            "placeholder": "​",
            "_view_module": "@jupyter-widgets/controls",
            "_model_module_version": "1.5.0",
            "value": " 335760/? [00:10&lt;00:00, 32239.16it/s]",
            "_view_count": null,
            "_view_module_version": "1.5.0",
            "description_tooltip": null,
            "_model_module": "@jupyter-widgets/controls",
            "layout": "IPY_MODEL_446eb21f685a4c5295b3bcbe5d451ff8"
          }
        },
        "3f91d1b6be7747c29fa12868ec6ab79c": {
          "model_module": "@jupyter-widgets/controls",
          "model_name": "DescriptionStyleModel",
          "model_module_version": "1.5.0",
          "state": {
            "_view_name": "StyleView",
            "_model_name": "DescriptionStyleModel",
            "description_width": "",
            "_view_module": "@jupyter-widgets/base",
            "_model_module_version": "1.5.0",
            "_view_count": null,
            "_view_module_version": "1.2.0",
            "_model_module": "@jupyter-widgets/controls"
          }
        },
        "02e2224576ae438581b8dbed349e3d09": {
          "model_module": "@jupyter-widgets/base",
          "model_name": "LayoutModel",
          "model_module_version": "1.2.0",
          "state": {
            "_view_name": "LayoutView",
            "grid_template_rows": null,
            "right": null,
            "justify_content": null,
            "_view_module": "@jupyter-widgets/base",
            "overflow": null,
            "_model_module_version": "1.2.0",
            "_view_count": null,
            "flex_flow": null,
            "width": null,
            "min_width": null,
            "border": null,
            "align_items": null,
            "bottom": null,
            "_model_module": "@jupyter-widgets/base",
            "top": null,
            "grid_column": null,
            "overflow_y": null,
            "overflow_x": null,
            "grid_auto_flow": null,
            "grid_area": null,
            "grid_template_columns": null,
            "flex": null,
            "_model_name": "LayoutModel",
            "justify_items": null,
            "grid_row": null,
            "max_height": null,
            "align_content": null,
            "visibility": null,
            "align_self": null,
            "height": null,
            "min_height": null,
            "padding": null,
            "grid_auto_rows": null,
            "grid_gap": null,
            "max_width": null,
            "order": null,
            "_view_module_version": "1.2.0",
            "grid_template_areas": null,
            "object_position": null,
            "object_fit": null,
            "grid_auto_columns": null,
            "margin": null,
            "display": null,
            "left": null
          }
        },
        "a58980782b4d4c549093c883d53a8890": {
          "model_module": "@jupyter-widgets/controls",
          "model_name": "ProgressStyleModel",
          "model_module_version": "1.5.0",
          "state": {
            "_view_name": "StyleView",
            "_model_name": "ProgressStyleModel",
            "description_width": "",
            "_view_module": "@jupyter-widgets/base",
            "_model_module_version": "1.5.0",
            "_view_count": null,
            "_view_module_version": "1.2.0",
            "bar_color": null,
            "_model_module": "@jupyter-widgets/controls"
          }
        },
        "fec5b856eba24bb7801a9e49104ccb95": {
          "model_module": "@jupyter-widgets/base",
          "model_name": "LayoutModel",
          "model_module_version": "1.2.0",
          "state": {
            "_view_name": "LayoutView",
            "grid_template_rows": null,
            "right": null,
            "justify_content": null,
            "_view_module": "@jupyter-widgets/base",
            "overflow": null,
            "_model_module_version": "1.2.0",
            "_view_count": null,
            "flex_flow": null,
            "width": "20px",
            "min_width": null,
            "border": null,
            "align_items": null,
            "bottom": null,
            "_model_module": "@jupyter-widgets/base",
            "top": null,
            "grid_column": null,
            "overflow_y": null,
            "overflow_x": null,
            "grid_auto_flow": null,
            "grid_area": null,
            "grid_template_columns": null,
            "flex": null,
            "_model_name": "LayoutModel",
            "justify_items": null,
            "grid_row": null,
            "max_height": null,
            "align_content": null,
            "visibility": null,
            "align_self": null,
            "height": null,
            "min_height": null,
            "padding": null,
            "grid_auto_rows": null,
            "grid_gap": null,
            "max_width": null,
            "order": null,
            "_view_module_version": "1.2.0",
            "grid_template_areas": null,
            "object_position": null,
            "object_fit": null,
            "grid_auto_columns": null,
            "margin": null,
            "display": null,
            "left": null
          }
        },
        "394d16528ede4eca95a67548c080fb76": {
          "model_module": "@jupyter-widgets/controls",
          "model_name": "DescriptionStyleModel",
          "model_module_version": "1.5.0",
          "state": {
            "_view_name": "StyleView",
            "_model_name": "DescriptionStyleModel",
            "description_width": "",
            "_view_module": "@jupyter-widgets/base",
            "_model_module_version": "1.5.0",
            "_view_count": null,
            "_view_module_version": "1.2.0",
            "_model_module": "@jupyter-widgets/controls"
          }
        },
        "446eb21f685a4c5295b3bcbe5d451ff8": {
          "model_module": "@jupyter-widgets/base",
          "model_name": "LayoutModel",
          "model_module_version": "1.2.0",
          "state": {
            "_view_name": "LayoutView",
            "grid_template_rows": null,
            "right": null,
            "justify_content": null,
            "_view_module": "@jupyter-widgets/base",
            "overflow": null,
            "_model_module_version": "1.2.0",
            "_view_count": null,
            "flex_flow": null,
            "width": null,
            "min_width": null,
            "border": null,
            "align_items": null,
            "bottom": null,
            "_model_module": "@jupyter-widgets/base",
            "top": null,
            "grid_column": null,
            "overflow_y": null,
            "overflow_x": null,
            "grid_auto_flow": null,
            "grid_area": null,
            "grid_template_columns": null,
            "flex": null,
            "_model_name": "LayoutModel",
            "justify_items": null,
            "grid_row": null,
            "max_height": null,
            "align_content": null,
            "visibility": null,
            "align_self": null,
            "height": null,
            "min_height": null,
            "padding": null,
            "grid_auto_rows": null,
            "grid_gap": null,
            "max_width": null,
            "order": null,
            "_view_module_version": "1.2.0",
            "grid_template_areas": null,
            "object_position": null,
            "object_fit": null,
            "grid_auto_columns": null,
            "margin": null,
            "display": null,
            "left": null
          }
        },
        "46f3516402a148279cc1feee22ef1f49": {
          "model_module": "@jupyter-widgets/controls",
          "model_name": "TextareaModel",
          "model_module_version": "1.5.0",
          "state": {
            "_view_name": "TextareaView",
            "style": "IPY_MODEL_cba0c49baebb4210a4dd1da0ccc6a24c",
            "rows": null,
            "_dom_classes": [],
            "description": "",
            "_model_name": "TextareaModel",
            "placeholder": "Type something",
            "_view_module": "@jupyter-widgets/controls",
            "_model_module_version": "1.5.0",
            "value": "Type your answer here and click on `Submit!`",
            "_view_count": null,
            "disabled": false,
            "_view_module_version": "1.5.0",
            "continuous_update": true,
            "description_tooltip": null,
            "_model_module": "@jupyter-widgets/controls",
            "layout": "IPY_MODEL_a0328dc3340742afb37122611363af51"
          }
        },
        "cba0c49baebb4210a4dd1da0ccc6a24c": {
          "model_module": "@jupyter-widgets/controls",
          "model_name": "DescriptionStyleModel",
          "model_module_version": "1.5.0",
          "state": {
            "_view_name": "StyleView",
            "_model_name": "DescriptionStyleModel",
            "description_width": "",
            "_view_module": "@jupyter-widgets/base",
            "_model_module_version": "1.5.0",
            "_view_count": null,
            "_view_module_version": "1.2.0",
            "_model_module": "@jupyter-widgets/controls"
          }
        },
        "a0328dc3340742afb37122611363af51": {
          "model_module": "@jupyter-widgets/base",
          "model_name": "LayoutModel",
          "model_module_version": "1.2.0",
          "state": {
            "_view_name": "LayoutView",
            "grid_template_rows": null,
            "right": null,
            "justify_content": null,
            "_view_module": "@jupyter-widgets/base",
            "overflow": null,
            "_model_module_version": "1.2.0",
            "_view_count": null,
            "flex_flow": null,
            "width": null,
            "min_width": null,
            "border": null,
            "align_items": null,
            "bottom": null,
            "_model_module": "@jupyter-widgets/base",
            "top": null,
            "grid_column": null,
            "overflow_y": null,
            "overflow_x": null,
            "grid_auto_flow": null,
            "grid_area": null,
            "grid_template_columns": null,
            "flex": null,
            "_model_name": "LayoutModel",
            "justify_items": null,
            "grid_row": null,
            "max_height": null,
            "align_content": null,
            "visibility": null,
            "align_self": null,
            "height": null,
            "min_height": null,
            "padding": null,
            "grid_auto_rows": null,
            "grid_gap": null,
            "max_width": null,
            "order": null,
            "_view_module_version": "1.2.0",
            "grid_template_areas": null,
            "object_position": null,
            "object_fit": null,
            "grid_auto_columns": null,
            "margin": null,
            "display": null,
            "left": null
          }
        },
        "590d6748f1014ff49021a4c9a6ba3ece": {
          "model_module": "@jupyter-widgets/controls",
          "model_name": "ButtonModel",
          "model_module_version": "1.5.0",
          "state": {
            "_view_name": "ButtonView",
            "style": "IPY_MODEL_2fe4f4f9414f470ebd9e82f4e0a643bb",
            "_dom_classes": [],
            "description": "Submit!",
            "_model_name": "ButtonModel",
            "button_style": "",
            "_view_module": "@jupyter-widgets/controls",
            "_model_module_version": "1.5.0",
            "tooltip": "",
            "_view_count": null,
            "disabled": false,
            "_view_module_version": "1.5.0",
            "layout": "IPY_MODEL_783683d1c55c4bc19797052d2448c25e",
            "_model_module": "@jupyter-widgets/controls",
            "icon": ""
          }
        },
        "2fe4f4f9414f470ebd9e82f4e0a643bb": {
          "model_module": "@jupyter-widgets/controls",
          "model_name": "ButtonStyleModel",
          "model_module_version": "1.5.0",
          "state": {
            "_view_name": "StyleView",
            "_model_name": "ButtonStyleModel",
            "_view_module": "@jupyter-widgets/base",
            "_model_module_version": "1.5.0",
            "_view_count": null,
            "button_color": null,
            "font_weight": "",
            "_view_module_version": "1.2.0",
            "_model_module": "@jupyter-widgets/controls"
          }
        },
        "783683d1c55c4bc19797052d2448c25e": {
          "model_module": "@jupyter-widgets/base",
          "model_name": "LayoutModel",
          "model_module_version": "1.2.0",
          "state": {
            "_view_name": "LayoutView",
            "grid_template_rows": null,
            "right": null,
            "justify_content": null,
            "_view_module": "@jupyter-widgets/base",
            "overflow": null,
            "_model_module_version": "1.2.0",
            "_view_count": null,
            "flex_flow": null,
            "width": null,
            "min_width": null,
            "border": null,
            "align_items": null,
            "bottom": null,
            "_model_module": "@jupyter-widgets/base",
            "top": null,
            "grid_column": null,
            "overflow_y": null,
            "overflow_x": null,
            "grid_auto_flow": null,
            "grid_area": null,
            "grid_template_columns": null,
            "flex": null,
            "_model_name": "LayoutModel",
            "justify_items": null,
            "grid_row": null,
            "max_height": null,
            "align_content": null,
            "visibility": null,
            "align_self": null,
            "height": null,
            "min_height": null,
            "padding": null,
            "grid_auto_rows": null,
            "grid_gap": null,
            "max_width": null,
            "order": null,
            "_view_module_version": "1.2.0",
            "grid_template_areas": null,
            "object_position": null,
            "object_fit": null,
            "grid_auto_columns": null,
            "margin": null,
            "display": null,
            "left": null
          }
        },
        "f159c5cddfad49c1967c0063da6a453f": {
          "model_module": "@jupyter-widgets/controls",
          "model_name": "TabModel",
          "model_module_version": "1.5.0",
          "state": {
            "_view_name": "TabView",
            "_dom_classes": [],
            "_titles": {
              "0": "Youtube",
              "1": "Bilibili"
            },
            "_model_name": "TabModel",
            "_view_module": "@jupyter-widgets/controls",
            "selected_index": 0,
            "_model_module_version": "1.5.0",
            "_view_count": null,
            "_view_module_version": "1.5.0",
            "box_style": "",
            "layout": "IPY_MODEL_a475876998944ababd204171092785c2",
            "_model_module": "@jupyter-widgets/controls",
            "children": [
              "IPY_MODEL_ae382b577f044cf2a8978062d229173a",
              "IPY_MODEL_2b09b4b7ceff4cbc8d133a7b29a7b658"
            ]
          }
        },
        "a475876998944ababd204171092785c2": {
          "model_module": "@jupyter-widgets/base",
          "model_name": "LayoutModel",
          "model_module_version": "1.2.0",
          "state": {
            "_view_name": "LayoutView",
            "grid_template_rows": null,
            "right": null,
            "justify_content": null,
            "_view_module": "@jupyter-widgets/base",
            "overflow": null,
            "_model_module_version": "1.2.0",
            "_view_count": null,
            "flex_flow": null,
            "width": null,
            "min_width": null,
            "border": null,
            "align_items": null,
            "bottom": null,
            "_model_module": "@jupyter-widgets/base",
            "top": null,
            "grid_column": null,
            "overflow_y": null,
            "overflow_x": null,
            "grid_auto_flow": null,
            "grid_area": null,
            "grid_template_columns": null,
            "flex": null,
            "_model_name": "LayoutModel",
            "justify_items": null,
            "grid_row": null,
            "max_height": null,
            "align_content": null,
            "visibility": null,
            "align_self": null,
            "height": null,
            "min_height": null,
            "padding": null,
            "grid_auto_rows": null,
            "grid_gap": null,
            "max_width": null,
            "order": null,
            "_view_module_version": "1.2.0",
            "grid_template_areas": null,
            "object_position": null,
            "object_fit": null,
            "grid_auto_columns": null,
            "margin": null,
            "display": null,
            "left": null
          }
        },
        "ae382b577f044cf2a8978062d229173a": {
          "model_module": "@jupyter-widgets/output",
          "model_name": "OutputModel",
          "model_module_version": "1.0.0",
          "state": {
            "_view_name": "OutputView",
            "msg_id": "",
            "_dom_classes": [],
            "_model_name": "OutputModel",
            "outputs": [
              {
                "output_type": "stream",
                "name": "stdout",
                "text": [
                  "Video available at https://youtube.com/watch?v=kweySXAZ1os\n"
                ]
              },
              {
                "output_type": "display_data",
                "data": {
                  "text/html": "\n        <iframe\n            width=\"854\"\n            height=\"480\"\n            src=\"https://www.youtube.com/embed/kweySXAZ1os?fs=1&rel=0\"\n            frameborder=\"0\"\n            allowfullscreen\n        ></iframe>\n        ",
                  "text/plain": "<IPython.lib.display.YouTubeVideo at 0x7f055bcbea50>",
                  "image/jpeg": "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\n"
                },
                "metadata": {}
              }
            ],
            "_view_module": "@jupyter-widgets/output",
            "_model_module_version": "1.0.0",
            "_view_count": null,
            "_view_module_version": "1.0.0",
            "layout": "IPY_MODEL_f26d11676d24488eb72ae9988df35a35",
            "_model_module": "@jupyter-widgets/output"
          }
        },
        "2b09b4b7ceff4cbc8d133a7b29a7b658": {
          "model_module": "@jupyter-widgets/output",
          "model_name": "OutputModel",
          "model_module_version": "1.0.0",
          "state": {
            "_view_name": "OutputView",
            "msg_id": "",
            "_dom_classes": [],
            "_model_name": "OutputModel",
            "outputs": [
              {
                "output_type": "stream",
                "name": "stdout",
                "text": [
                  "Video available at https://www.bilibili.com/video/BV1oM4y1P7Mn\n"
                ]
              },
              {
                "output_type": "display_data",
                "data": {
                  "text/html": "\n        <iframe\n            width=\"854\"\n            height=\"480\"\n            src=\"https://player.bilibili.com/player.html?bvid=BV1oM4y1P7Mn&page=1?fs=1\"\n            frameborder=\"0\"\n            allowfullscreen\n        ></iframe>\n        ",
                  "text/plain": "<__main__.BiliVideo at 0x7f055f62e450>"
                },
                "metadata": {}
              }
            ],
            "_view_module": "@jupyter-widgets/output",
            "_model_module_version": "1.0.0",
            "_view_count": null,
            "_view_module_version": "1.0.0",
            "layout": "IPY_MODEL_9340e3949d434cf0aabd205ff84b1500",
            "_model_module": "@jupyter-widgets/output"
          }
        },
        "f26d11676d24488eb72ae9988df35a35": {
          "model_module": "@jupyter-widgets/base",
          "model_name": "LayoutModel",
          "model_module_version": "1.2.0",
          "state": {
            "_view_name": "LayoutView",
            "grid_template_rows": null,
            "right": null,
            "justify_content": null,
            "_view_module": "@jupyter-widgets/base",
            "overflow": null,
            "_model_module_version": "1.2.0",
            "_view_count": null,
            "flex_flow": null,
            "width": null,
            "min_width": null,
            "border": null,
            "align_items": null,
            "bottom": null,
            "_model_module": "@jupyter-widgets/base",
            "top": null,
            "grid_column": null,
            "overflow_y": null,
            "overflow_x": null,
            "grid_auto_flow": null,
            "grid_area": null,
            "grid_template_columns": null,
            "flex": null,
            "_model_name": "LayoutModel",
            "justify_items": null,
            "grid_row": null,
            "max_height": null,
            "align_content": null,
            "visibility": null,
            "align_self": null,
            "height": null,
            "min_height": null,
            "padding": null,
            "grid_auto_rows": null,
            "grid_gap": null,
            "max_width": null,
            "order": null,
            "_view_module_version": "1.2.0",
            "grid_template_areas": null,
            "object_position": null,
            "object_fit": null,
            "grid_auto_columns": null,
            "margin": null,
            "display": null,
            "left": null
          }
        },
        "9340e3949d434cf0aabd205ff84b1500": {
          "model_module": "@jupyter-widgets/base",
          "model_name": "LayoutModel",
          "model_module_version": "1.2.0",
          "state": {
            "_view_name": "LayoutView",
            "grid_template_rows": null,
            "right": null,
            "justify_content": null,
            "_view_module": "@jupyter-widgets/base",
            "overflow": null,
            "_model_module_version": "1.2.0",
            "_view_count": null,
            "flex_flow": null,
            "width": null,
            "min_width": null,
            "border": null,
            "align_items": null,
            "bottom": null,
            "_model_module": "@jupyter-widgets/base",
            "top": null,
            "grid_column": null,
            "overflow_y": null,
            "overflow_x": null,
            "grid_auto_flow": null,
            "grid_area": null,
            "grid_template_columns": null,
            "flex": null,
            "_model_name": "LayoutModel",
            "justify_items": null,
            "grid_row": null,
            "max_height": null,
            "align_content": null,
            "visibility": null,
            "align_self": null,
            "height": null,
            "min_height": null,
            "padding": null,
            "grid_auto_rows": null,
            "grid_gap": null,
            "max_width": null,
            "order": null,
            "_view_module_version": "1.2.0",
            "grid_template_areas": null,
            "object_position": null,
            "object_fit": null,
            "grid_auto_columns": null,
            "margin": null,
            "display": null,
            "left": null
          }
        },
        "46517b24bc2c4165b77bd6ca299477f6": {
          "model_module": "@jupyter-widgets/controls",
          "model_name": "TabModel",
          "model_module_version": "1.5.0",
          "state": {
            "_view_name": "TabView",
            "_dom_classes": [],
            "_titles": {
              "0": "Youtube",
              "1": "Bilibili"
            },
            "_model_name": "TabModel",
            "_view_module": "@jupyter-widgets/controls",
            "selected_index": 0,
            "_model_module_version": "1.5.0",
            "_view_count": null,
            "_view_module_version": "1.5.0",
            "box_style": "",
            "layout": "IPY_MODEL_0844234376a043b6b0a3842c4642252e",
            "_model_module": "@jupyter-widgets/controls",
            "children": [
              "IPY_MODEL_f460257bf90f4f40a6425204c88a4903",
              "IPY_MODEL_dbc6aa2c3e2245b1a0f1953e51e23e0c"
            ]
          }
        },
        "0844234376a043b6b0a3842c4642252e": {
          "model_module": "@jupyter-widgets/base",
          "model_name": "LayoutModel",
          "model_module_version": "1.2.0",
          "state": {
            "_view_name": "LayoutView",
            "grid_template_rows": null,
            "right": null,
            "justify_content": null,
            "_view_module": "@jupyter-widgets/base",
            "overflow": null,
            "_model_module_version": "1.2.0",
            "_view_count": null,
            "flex_flow": null,
            "width": null,
            "min_width": null,
            "border": null,
            "align_items": null,
            "bottom": null,
            "_model_module": "@jupyter-widgets/base",
            "top": null,
            "grid_column": null,
            "overflow_y": null,
            "overflow_x": null,
            "grid_auto_flow": null,
            "grid_area": null,
            "grid_template_columns": null,
            "flex": null,
            "_model_name": "LayoutModel",
            "justify_items": null,
            "grid_row": null,
            "max_height": null,
            "align_content": null,
            "visibility": null,
            "align_self": null,
            "height": null,
            "min_height": null,
            "padding": null,
            "grid_auto_rows": null,
            "grid_gap": null,
            "max_width": null,
            "order": null,
            "_view_module_version": "1.2.0",
            "grid_template_areas": null,
            "object_position": null,
            "object_fit": null,
            "grid_auto_columns": null,
            "margin": null,
            "display": null,
            "left": null
          }
        },
        "f460257bf90f4f40a6425204c88a4903": {
          "model_module": "@jupyter-widgets/output",
          "model_name": "OutputModel",
          "model_module_version": "1.0.0",
          "state": {
            "_view_name": "OutputView",
            "msg_id": "",
            "_dom_classes": [],
            "_model_name": "OutputModel",
            "outputs": [
              {
                "output_type": "stream",
                "name": "stdout",
                "text": [
                  "Video available at https://youtube.com/watch?v=Y45KIAOw4OY\n"
                ]
              },
              {
                "output_type": "display_data",
                "data": {
                  "text/html": "\n        <iframe\n            width=\"854\"\n            height=\"480\"\n            src=\"https://www.youtube.com/embed/Y45KIAOw4OY?fs=1&rel=0\"\n            frameborder=\"0\"\n            allowfullscreen\n        ></iframe>\n        ",
                  "text/plain": "<IPython.lib.display.YouTubeVideo at 0x7f055ef350d0>",
                  "image/jpeg": "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\n"
                },
                "metadata": {}
              }
            ],
            "_view_module": "@jupyter-widgets/output",
            "_model_module_version": "1.0.0",
            "_view_count": null,
            "_view_module_version": "1.0.0",
            "layout": "IPY_MODEL_c99918179a7640a980b45fc59361c56c",
            "_model_module": "@jupyter-widgets/output"
          }
        },
        "dbc6aa2c3e2245b1a0f1953e51e23e0c": {
          "model_module": "@jupyter-widgets/output",
          "model_name": "OutputModel",
          "model_module_version": "1.0.0",
          "state": {
            "_view_name": "OutputView",
            "msg_id": "",
            "_dom_classes": [],
            "_model_name": "OutputModel",
            "outputs": [
              {
                "output_type": "stream",
                "name": "stdout",
                "text": [
                  "Video available at https://www.bilibili.com/video/BV15w411R7SW\n"
                ]
              },
              {
                "output_type": "display_data",
                "data": {
                  "text/html": "\n        <iframe\n            width=\"854\"\n            height=\"480\"\n            src=\"https://player.bilibili.com/player.html?bvid=BV15w411R7SW&page=1?fs=1\"\n            frameborder=\"0\"\n            allowfullscreen\n        ></iframe>\n        ",
                  "text/plain": "<__main__.BiliVideo at 0x7f055f611c90>"
                },
                "metadata": {}
              }
            ],
            "_view_module": "@jupyter-widgets/output",
            "_model_module_version": "1.0.0",
            "_view_count": null,
            "_view_module_version": "1.0.0",
            "layout": "IPY_MODEL_078aedf77f9345088bc501366bdba278",
            "_model_module": "@jupyter-widgets/output"
          }
        },
        "c99918179a7640a980b45fc59361c56c": {
          "model_module": "@jupyter-widgets/base",
          "model_name": "LayoutModel",
          "model_module_version": "1.2.0",
          "state": {
            "_view_name": "LayoutView",
            "grid_template_rows": null,
            "right": null,
            "justify_content": null,
            "_view_module": "@jupyter-widgets/base",
            "overflow": null,
            "_model_module_version": "1.2.0",
            "_view_count": null,
            "flex_flow": null,
            "width": null,
            "min_width": null,
            "border": null,
            "align_items": null,
            "bottom": null,
            "_model_module": "@jupyter-widgets/base",
            "top": null,
            "grid_column": null,
            "overflow_y": null,
            "overflow_x": null,
            "grid_auto_flow": null,
            "grid_area": null,
            "grid_template_columns": null,
            "flex": null,
            "_model_name": "LayoutModel",
            "justify_items": null,
            "grid_row": null,
            "max_height": null,
            "align_content": null,
            "visibility": null,
            "align_self": null,
            "height": null,
            "min_height": null,
            "padding": null,
            "grid_auto_rows": null,
            "grid_gap": null,
            "max_width": null,
            "order": null,
            "_view_module_version": "1.2.0",
            "grid_template_areas": null,
            "object_position": null,
            "object_fit": null,
            "grid_auto_columns": null,
            "margin": null,
            "display": null,
            "left": null
          }
        },
        "078aedf77f9345088bc501366bdba278": {
          "model_module": "@jupyter-widgets/base",
          "model_name": "LayoutModel",
          "model_module_version": "1.2.0",
          "state": {
            "_view_name": "LayoutView",
            "grid_template_rows": null,
            "right": null,
            "justify_content": null,
            "_view_module": "@jupyter-widgets/base",
            "overflow": null,
            "_model_module_version": "1.2.0",
            "_view_count": null,
            "flex_flow": null,
            "width": null,
            "min_width": null,
            "border": null,
            "align_items": null,
            "bottom": null,
            "_model_module": "@jupyter-widgets/base",
            "top": null,
            "grid_column": null,
            "overflow_y": null,
            "overflow_x": null,
            "grid_auto_flow": null,
            "grid_area": null,
            "grid_template_columns": null,
            "flex": null,
            "_model_name": "LayoutModel",
            "justify_items": null,
            "grid_row": null,
            "max_height": null,
            "align_content": null,
            "visibility": null,
            "align_self": null,
            "height": null,
            "min_height": null,
            "padding": null,
            "grid_auto_rows": null,
            "grid_gap": null,
            "max_width": null,
            "order": null,
            "_view_module_version": "1.2.0",
            "grid_template_areas": null,
            "object_position": null,
            "object_fit": null,
            "grid_auto_columns": null,
            "margin": null,
            "display": null,
            "left": null
          }
        }
      }
    }
  },
  "nbformat": 4,
  "nbformat_minor": 0
}