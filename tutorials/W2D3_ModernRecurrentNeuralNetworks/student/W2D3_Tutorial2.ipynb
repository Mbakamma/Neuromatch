{
 "cells": [
  {
   "cell_type": "markdown",
   "metadata": {
    "colab_type": "text",
    "id": "view-in-github"
   },
   "source": [
    "<a href=\"https://colab.research.google.com/github/NeuromatchAcademy/course-content-dl/blob/main/tutorials/W2D3_ModernRecurrentNeuralNetworks/student/W2D3_Tutorial2.ipynb\" target=\"_parent\"><img src=\"https://colab.research.google.com/assets/colab-badge.svg\" alt=\"Open In Colab\"/></a>"
   ]
  },
  {
   "cell_type": "markdown",
   "metadata": {},
   "source": [
    "# Neuromatch Academy: Week 2, Day 3, Tutorial 2\n",
    "# Modern RNNs\n",
    "\n",
    "__Content creators:__ James Evans, Bhargav Srinivasa Desikan, Anis Zahedifard\n",
    "\n",
    "__Content reviewers:__ Lily Cheng, Melvin Selim Atay\n",
    "\n",
    "__Production editors:__ Roberto Guidotti, Spiros Chavlis"
   ]
  },
  {
   "cell_type": "markdown",
   "metadata": {},
   "source": [
    "---\n",
    "# Tutorial objectives\n",
    "\n",
    "In this tutorial you will learn about:\n",
    "1. Modern Recurrent Neural Networks and their use\n",
    "2. Long Short-Term Memory (LSTM), Gated Recurrent Unit (GRU) and the memory cell\n",
    "3. Sequence to Sequence and Encoder-Decoder Networks\n",
    "4. Models of attention for text classification"
   ]
  },
  {
   "cell_type": "markdown",
   "metadata": {},
   "source": [
    "---\n",
    "# Setup\n",
    "\n",
    "We will use the IMDB dataset, which consists of a set of 25,000 highly polar movie reviews for training, and 25,000 for testing. We will use torchtext to download the dataset and prepare it for training, validation and testing. Our goal is to build a model that performs binary classification between positive and negative movie reviews.\n",
    "\n",
    "We use `fix_length` argument to pad sentences of length less than `sentence_length` or truncate sentences of length greater than `sentence_length`. "
   ]
  },
  {
   "cell_type": "code",
   "execution_count": null,
   "metadata": {
    "colab": {
     "base_uri": "https://localhost:8080/"
    },
    "outputId": "63a797a0-3fbe-42c5-80b8-0d4423fb71d3"
   },
   "outputs": [],
   "source": [
    "# Imports\n",
    "!pip install --upgrade gensim --quiet\n",
    "!pip install torchtext==0.4.0 --quiet\n",
    "!pip install unidecode --quiet\n",
    "!pip install d2l --quiet\n",
    "\n",
    "import math\n",
    "import time\n",
    "import nltk\n",
    "import torch\n",
    "import random\n",
    "import collections\n",
    "\n",
    "import numpy as np\n",
    "import torch.nn as nn\n",
    "import matplotlib.pyplot as plt\n",
    "\n",
    "from d2l import torch as d2l\n",
    "from torch.autograd import Variable\n",
    "from torchtext import data, datasets\n",
    "from torch.nn import functional as F\n",
    "from IPython.display import YouTubeVideo\n",
    "\n",
    "nltk.download('punkt')\n",
    "nltk.download('averaged_perceptron_tagger')\n",
    "nltk.download('brown')\n",
    "nltk.download('webtext')\n",
    "\n",
    "device = torch.device('cuda' if torch.cuda.is_available() else 'cpu')"
   ]
  },
  {
   "cell_type": "code",
   "execution_count": null,
   "metadata": {
    "cellView": "form"
   },
   "outputs": [],
   "source": [
    "# @title Figure Settings\n",
    "import ipywidgets as widgets\n",
    "%matplotlib inline\n",
    "fig_w, fig_h = (8, 6)\n",
    "plt.rcParams.update({'figure.figsize': (fig_w, fig_h)})\n",
    "%config InlineBackend.figure_format = 'retina'\n",
    "SMALL_SIZE = 12\n",
    "\n",
    "plt.style.use(\"https://raw.githubusercontent.com/NeuromatchAcademy/\"\n",
    "              \"course-content/master/nma.mplstyle\")\n",
    "\n",
    "# plt.rcParams.update(plt.rcParamsDefault)\n",
    "# plt.rc('font', size=SMALL_SIZE)          # controls default text sizes\n",
    "# plt.rc('axes', titlesize=SMALL_SIZE)     # fontsize of the axes title\n",
    "# plt.rc('axes', labelsize=SMALL_SIZE)    # fontsize of the x and y labels\n",
    "# plt.rc('xtick', labelsize=SMALL_SIZE)    # fontsize of the tick labels\n",
    "# plt.rc('ytick', labelsize=SMALL_SIZE)    # fontsize of the tick labels\n",
    "# plt.rc('legend', fontsize=SMALL_SIZE)    # legend fontsize\n",
    "# plt.rc('figure', titlesize=SMALL_SIZE)  # fontsize of the figure title"
   ]
  },
  {
   "cell_type": "code",
   "execution_count": null,
   "metadata": {
    "cellView": "form"
   },
   "outputs": [],
   "source": [
    "# @title Helper functions\n",
    "\n",
    "# helpers\n",
    "def plot_train_val(x, train, val, train_label, val_label, title):\n",
    "  plt.plot(x, train, label=train_label)\n",
    "  plt.plot(x, val, label=val_label)\n",
    "  plt.legend(loc='lower right')\n",
    "  plt.xlabel('epoch')\n",
    "  plt.title(title)\n",
    "  plt.show()\n",
    "\n",
    "\n",
    "def count_parameters(model):\n",
    "  parameters = sum(p.numel() for p in model.parameters() if p.requires_grad)\n",
    "  return parameters\n",
    "\n",
    "\n",
    "def init_weights(m):\n",
    "  if type(m) in (nn.Linear, nn.Conv1d):\n",
    "    nn.init.xavier_uniform_(m.weight)\n",
    "\n",
    "\n",
    "#  Dataset Loader\n",
    "def load_dataset(sentence_length=50, batch_size=32, seed=522):\n",
    "  TEXT = data.Field(sequential=True, tokenize=nltk.word_tokenize, lower=True,\n",
    "                    include_lengths=True, batch_first=True, fix_length=sentence_length)\n",
    "  LABEL = data.LabelField(dtype=torch.float)\n",
    "\n",
    "  train_data, test_data = datasets.IMDB.splits(TEXT, LABEL)\n",
    "\n",
    "  # If no specific vector embeddings are specified,\n",
    "  # Torchtext initializes random vector embeddings\n",
    "  # which would get updated during training through backpropagation.\n",
    "  TEXT.build_vocab(train_data)\n",
    "  LABEL.build_vocab(train_data)\n",
    "\n",
    "  train_data, valid_data = train_data.split(split_ratio=0.7, random_state=random.seed(seed))\n",
    "  train_iter, valid_iter, test_iter = data.BucketIterator.splits((train_data, valid_data, test_data),\n",
    "                                                                  batch_size=batch_size, sort_key=lambda x: len(x.text),\n",
    "                                                                  repeat=False, shuffle=True)\n",
    "  vocab_size = len(TEXT.vocab)\n",
    "\n",
    "  print(f\"Data loading is completed. Sentence length: {sentence_length}, \"\n",
    "        f\"Batch size: {batch_size}, and seed: {seed}\")\n",
    "\n",
    "  return TEXT, vocab_size, train_iter, valid_iter, test_iter\n",
    "\n",
    "\n",
    "def text_from_dict(arr, dictionary):\n",
    "  text = []\n",
    "  for element in arr:\n",
    "    text.append(dictionary[element])\n",
    "  return text\n",
    "\n",
    "\n",
    "def view_data(TEXT, train_iter):\n",
    "  for idx, batch in enumerate(train_iter):\n",
    "    text = batch.text[0]\n",
    "    target = batch.label\n",
    "\n",
    "    for itr in range(25, 30):\n",
    "      print('Review: ', ' '.join(text_from_dict(text[itr], TEXT.vocab.itos)))\n",
    "      print('Label: ', int(target[itr].item()), '\\n')\n",
    "\n",
    "    print('[0: Negative Review, 1: Positive Review]')\n",
    "    if idx==0:\n",
    "      break\n",
    "\n",
    "\n",
    "# Training function\n",
    "def train(model, device, train_iter, valid_iter, epochs, learning_rate):\n",
    "  criterion = nn.CrossEntropyLoss()\n",
    "  optimizer = torch.optim.Adam(model.parameters(), lr=learning_rate)\n",
    "\n",
    "  train_loss, validation_loss = [], []\n",
    "  train_acc, validation_acc = [], []\n",
    "\n",
    "  for epoch in range(epochs):\n",
    "    #train\n",
    "    model.train()\n",
    "    running_loss = 0.\n",
    "    correct, total = 0, 0\n",
    "    steps = 0\n",
    "\n",
    "    for idx, batch in enumerate(train_iter):\n",
    "      text = batch.text[0]\n",
    "      # print(type(text), text.shape)\n",
    "      target = batch.label\n",
    "      target = torch.autograd.Variable(target).long()\n",
    "      text, target = text.to(device), target.to(device)\n",
    "\n",
    "      # add micro for coding training loop\n",
    "      optimizer.zero_grad()\n",
    "      output = model(text)\n",
    "\n",
    "      loss = criterion(output, target)\n",
    "      loss.backward()\n",
    "      optimizer.step()\n",
    "      steps += 1\n",
    "      running_loss += loss.item()\n",
    "\n",
    "      # get accuracy\n",
    "      _, predicted = torch.max(output, 1)\n",
    "      total += target.size(0)\n",
    "      correct += (predicted == target).sum().item()\n",
    "\n",
    "    train_loss.append(running_loss/len(train_iter))\n",
    "    train_acc.append(correct/total)\n",
    "\n",
    "    print(f'Epoch: {epoch + 1},  Training Loss: {running_loss/len(train_iter):.4f}, Training Accuracy: {100*correct/total: .2f}%')\n",
    "\n",
    "    # evaluate on validation data\n",
    "    model.eval()\n",
    "    running_loss = 0.\n",
    "    correct, total = 0, 0\n",
    "\n",
    "    with torch.no_grad():\n",
    "      for idx, batch in enumerate(valid_iter):\n",
    "        text = batch.text[0]\n",
    "        target = batch.label\n",
    "        target = torch.autograd.Variable(target).long()\n",
    "        text, target = text.to(device), target.to(device)\n",
    "\n",
    "        optimizer.zero_grad()\n",
    "        output = model(text)\n",
    "\n",
    "        loss = criterion(output, target)\n",
    "        running_loss += loss.item()\n",
    "\n",
    "        # get accuracy\n",
    "        _, predicted = torch.max(output, 1)\n",
    "        total += target.size(0)\n",
    "        correct += (predicted == target).sum().item()\n",
    "\n",
    "    validation_loss.append(running_loss/len(valid_iter))\n",
    "    validation_acc.append(correct/total)\n",
    "\n",
    "    print (f'Validation Loss: {running_loss/len(valid_iter):.4f}, Validation Accuracy: {100*correct/total: .2f}%')\n",
    "\n",
    "  return train_loss, train_acc, validation_loss, validation_acc\n",
    "\n",
    "\n",
    "# Testing function\n",
    "def test(model, device, test_iter):\n",
    "  model.eval()\n",
    "  correct = 0\n",
    "  total = 0\n",
    "  with torch.no_grad():\n",
    "    for idx, batch in enumerate(test_iter):\n",
    "      text = batch.text[0]\n",
    "      target = batch.label\n",
    "      target = torch.autograd.Variable(target).long()\n",
    "      text, target = text.to(device), target.to(device)\n",
    "\n",
    "      outputs = model(text)\n",
    "      _, predicted = torch.max(outputs, 1)\n",
    "      total += target.size(0)\n",
    "      correct += (predicted == target).sum().item()\n",
    "\n",
    "    acc = 100 * correct / total\n",
    "    return acc"
   ]
  },
  {
   "cell_type": "code",
   "execution_count": null,
   "metadata": {
    "cellView": "form"
   },
   "outputs": [],
   "source": [
    "# @title Set Seed for reproducibility\n",
    "\n",
    "def set_seed(seed):\n",
    "  random.seed(seed)\n",
    "  torch.manual_seed(seed)\n",
    "  torch.cuda.manual_seed_all(seed)\n",
    "  torch.cuda.manual_seed(seed)\n",
    "  np.random.seed(seed)\n",
    "  torch.backends.cudnn.deterministic = True\n",
    "  torch.backends.cudnn.benchmark = False\n",
    "\n",
    "\n",
    "def seed_worker(worker_id):\n",
    "    worker_seed = torch.initial_seed() % 2**32\n",
    "    np.random.seed(worker_seed)\n",
    "    random.seed(worker_seed)\n",
    "\n",
    "\n",
    "set_seed(522)"
   ]
  },
  {
   "cell_type": "markdown",
   "metadata": {},
   "source": [
    "---\n",
    "# Section 1: Recurrent Neural Networks (RNNs)"
   ]
  },
  {
   "cell_type": "code",
   "execution_count": null,
   "metadata": {
    "cellView": "form",
    "colab": {
     "base_uri": "https://localhost:8080/",
     "height": 518
    },
    "outputId": "83c3adc3-c659-49e6-ceb1-877f0ce24184"
   },
   "outputs": [],
   "source": [
    "#@title Video 1: Recurrent Neural Networks\n",
    "# Insert the ID of the corresponding youtube video\n",
    "from IPython.display import YouTubeVideo\n",
    "video = YouTubeVideo(id=\"guhgasDEWo8\", width=854, height=480, fs=1)\n",
    "print(\"Video available at https://youtu.be/\" + video.id)\n",
    "video"
   ]
  },
  {
   "cell_type": "markdown",
   "metadata": {},
   "source": [
    "Recurrent neural networks, or RNNs , are a family of neural networks for processing sequential data. Just as a convolutional network is specialized for processing a grid of values X such as an image, a recurrent neural network is specialized for processing a sequence of values. RNNs prove useful in many scenarios where other deep learning models are not effective.\n",
    "\n",
    "* Not all problems can be converted into one with fixed length inputs and outputs.\n",
    "\n",
    "\n",
    "* The deep learning models we have seen so far pick samples randomly. This might not be the best strategy for a task of understanding meaning from a piece of text. Words in a text occur in a sequence and therefore cannot be permuted randomly to get the meaning."
   ]
  },
  {
   "cell_type": "markdown",
   "metadata": {},
   "source": [
    "The following provides more data than the video (but can be skipped for now). For more detail, see the sources, the [deep learning book](https://www.deeplearningbook.org/contents/rnn.html), and [d2l.ai](https://d2l.ai/chapter_recurrent-neural-networks/rnn.html)\n",
    "\n",
    "When the recurrent network is trained to perform a task that requires predicting the future from the past, the network typically learns to use a hidden state at time step $t$, $H_t$ as a kind of lossy summary of the task-relevant aspects of the past sequence of inputs up to $t$. This summary is in general necessarily lossy, since it maps an arbitrary length sequence $(X_t, X_{t-1}, X_{t-2}, . . . , X_{2}, X_{1})$ to a ﬁxed length vector $H_t$.\n",
    "\n",
    "\n",
    "\n",
    "We can represent the unfolded recurrence after $t$ steps with a function $G_t$: $$H_t=G_t(X_t, X_{t-1}, X_{t-2}, . . . , X_{2}, X_{1})$$ $$=f(H_{t−1}, X_{t}; \\theta)$$\n",
    "\n",
    "\n",
    "<img width=700 src=\"https://blog.floydhub.com/content/images/2019/04/rnn-2.gif\"> \n",
    "\n",
    "The function $g_t$ takes the whole past sequence $(X_t, X_{t-1}, X_{t-2}, . . . , X_{2}, X_{1})$ as input and produces the current state, but the unfolded recurrent structure allows us to factorize $g_t$ into repeated application of a function f. The unfolding process thus introduces two major advantages:\n",
    "\n",
    "* Regardless of the sequence length, the learned model always has the same input size, because it is speciﬁed in terms of transition from one state to another state, rather than speciﬁed in terms of a variable-length history of states.\n",
    "\n",
    "* It is possible to use the same transition function $f$ with the same parameters at every time step.\n",
    "\n",
    "\n",
    "We will now formally write down the equations of a recurrent unit.\n",
    "\n",
    "\n",
    "Assume that we have a minibatch of inputs $X_t \\in R^{nxd}$ at time step $t$ . In other words, for a minibatch of $n$ sequence examples, each row of $X_t$  corresponds to one example at time step $t$ from the sequence. Next, we denote by $H_t \\in R^{nxh}$ the hidden variable of time step $t$. Unlike the MLP, here we save the hidden variable $H_{t-1}$ from the previous time step and introduce a new weight parameter $W_{hh} \\in R^{hxh}$ to describe how to use the hidden variable of the previous time step in the current time step. Specifically, the calculation of the hidden variable of the current time step is determined by the input of the current time step together with the hidden variable of the previous time step:\n",
    "\n",
    "$$H_t = \\phi(X_t W_{xh} + H_{t-1}W_{hh} + b_h)$$\n",
    "\n",
    "For time step $t$, the output of the output layer is similar to the computation in the MLP:\n",
    "\n",
    "$$O_t = H_t W_{hq} + b_q$$\n",
    " \n",
    "Parameters of the RNN include the weights $W_{xh} \\in R^{dxh}, W_{hh} \\in R^{hxh}$ , and the bias $b_h \\in R^{1xh}$ of the hidden layer, together with the weights $W_{hq} \\in R^{hxq}$ and the bias $b_q \\in R^{1xq}$ of the output layer. It is worth mentioning that even at different time steps, RNNs always use these model parameters. Therefore, the parameterization cost of an RNN does not grow as the number of time steps increases.\n",
    "\n",
    "<img width=700 align=\"center\" src=\"https://d2l.ai/_images/rnn.svg\">"
   ]
  },
  {
   "cell_type": "markdown",
   "metadata": {},
   "source": [
    "## Load and View of the dataset\n",
    "\n",
    "Let us first load the dataset using the helper function `load_data`, which takes three arguments; the `sentence_length`, `batch_size`, and the `seed`. The default values are 50, 32, and 522, respectively. Execute the cell below to load the data."
   ]
  },
  {
   "cell_type": "code",
   "execution_count": null,
   "metadata": {
    "cellView": "form",
    "colab": {
     "base_uri": "https://localhost:8080/"
    },
    "outputId": "eca3e48e-8356-40bc-895d-bd694686cba4"
   },
   "outputs": [],
   "source": [
    "# @markdown Dataset Loading with default params\n",
    "TEXT, vocab_size, train_iter, valid_iter, test_iter = load_dataset()"
   ]
  },
  {
   "cell_type": "markdown",
   "metadata": {},
   "source": [
    "Now, let's view the data!"
   ]
  },
  {
   "cell_type": "code",
   "execution_count": null,
   "metadata": {
    "cellView": "form",
    "colab": {
     "base_uri": "https://localhost:8080/"
    },
    "outputId": "0ff3879d-8005-486e-e965-77c90d530516"
   },
   "outputs": [],
   "source": [
    "#@markdown Visualize dataset\n",
    "view_data(TEXT, train_iter)"
   ]
  },
  {
   "cell_type": "markdown",
   "metadata": {},
   "source": [
    "## Exercise 1.1: Vanilla RNN\n",
    "\n",
    "Now it's your turn to write a Vanilla RNN using PyTorch.\n",
    "\n",
    "* Once again we will use `nn.Embedding`. You are given the `vocab_size` which is the size of the dictionary of embeddings, and the `embed_size` which is the size of each embedding vector.  \n",
    "\n",
    "* Add 2 [RNN](https://pytorch.org/docs/stable/generated/torch.nn.RNN.html) layers. This would mean stacking two RNNs together to form a stacked RNN, with the second RNN taking in outputs of the first RNN and computing the final results.\n",
    "\n",
    "* Determine the size of inputs and outputs to the fully-connected layer."
   ]
  },
  {
   "cell_type": "code",
   "execution_count": null,
   "metadata": {},
   "outputs": [],
   "source": [
    "class VanillaRNN(nn.Module):\n",
    "  def __init__(self, output_size, hidden_size, vocab_size, embed_size):\n",
    "    super(VanillaRNN, self).__init__()\n",
    "\n",
    "    ####################################################################\n",
    "    # Fill in missing code below (...),\n",
    "    # then remove or comment the line below to test your function\n",
    "    raise NotImplementedError(\"Vanilla RNN\")\n",
    "    ####################################################################\n",
    "    self.hidden_size = ...\n",
    "    self.embeddings = ...\n",
    "    self.rnn = ...\n",
    "    self.fc = ...\n",
    "\n",
    "  def forward(self, inputs):\n",
    "    input = self.embeddings(inputs)\n",
    "    input = input.permute(1, 0, 2)\n",
    "    h_0 = Variable(torch.zeros(2, input.size()[1], self.hidden_size).to(device))\n",
    "    output, h_n = self.rnn(input, h_0)\n",
    "    h_n = h_n.permute(1, 0, 2)\n",
    "    h_n = h_n.contiguous().view(h_n.size()[0], h_n.size()[1]*h_n.size()[2])\n",
    "    logits = self.fc(h_n)\n",
    "\n",
    "    return logits\n",
    "\n",
    "\n",
    "# Uncomment to test VanillaRNN class\n",
    "#sampleRNN = VanillaRNN(10, 50, 1000, 300)\n",
    "#print(sampleRNN)"
   ]
  },
  {
   "cell_type": "markdown",
   "metadata": {
    "colab": {
     "base_uri": "https://localhost:8080/"
    },
    "colab_type": "text",
    "outputId": "e7976cb9-278b-4892-e839-0e626e3ef7ed"
   },
   "source": [
    "[*Click for solution*](https://github.com/NeuromatchAcademy/course-content-dl/tree/main//tutorials/W2D3_ModernRecurrentNeuralNetworks/solutions/W2D3_Tutorial2_Solution_1a57d7b3.py)\n",
    "\n"
   ]
  },
  {
   "cell_type": "code",
   "execution_count": null,
   "metadata": {
    "colab": {
     "base_uri": "https://localhost:8080/",
     "height": 855
    },
    "outputId": "ecdf3cd6-a664-44f6-92c5-b99622ac33a1"
   },
   "outputs": [],
   "source": [
    "# Model hyperparamters\n",
    "learning_rate = 0.0002\n",
    "output_size = 2\n",
    "hidden_size = 100  # 50\n",
    "embedding_length = 100\n",
    "epochs = 10\n",
    "\n",
    "# Initialize model, training and testing\n",
    "vanilla_rnn_model = VanillaRNN(output_size,\n",
    "                               hidden_size,\n",
    "                               vocab_size,\n",
    "                               embedding_length)\n",
    "vanilla_rnn_model.to(device)\n",
    "vanilla_rnn_start_time = time.time()\n",
    "set_seed(522)\n",
    "vanilla_train_loss, vanilla_train_acc, vanilla_validation_loss, vanilla_validation_acc = train(vanilla_rnn_model,\n",
    "                                                                                               device,\n",
    "                                                                                               train_iter,\n",
    "                                                                                               valid_iter,\n",
    "                                                                                               epochs,\n",
    "                                                                                               learning_rate)\n",
    "print(\"--- Time taken to train = %s seconds ---\" % (time.time() - vanilla_rnn_start_time))\n",
    "test_accuracy = test(vanilla_rnn_model, device, test_iter)\n",
    "print('Test Accuracy: ',  test_accuracy, '%')\n",
    "\n",
    "# Plot accuracy curves\n",
    "plot_train_val(np.arange(0,epochs), vanilla_train_acc, vanilla_validation_acc,\n",
    "                'training_accuracy', 'validation_accuracy', 'Vanilla RNN on IMDB text classification')\n",
    "\n",
    "# Number of model parameters\n",
    "paramters = count_parameters(vanilla_rnn_model)\n",
    "print('\\n\\nNumber of parameters = ',  paramters)"
   ]
  },
  {
   "cell_type": "markdown",
   "metadata": {},
   "source": [
    "### Input Length\n",
    "\n",
    "Now let's increase the `sentence_length` to see how RNN performs when long reviews are allowed..\n"
   ]
  },
  {
   "cell_type": "code",
   "execution_count": null,
   "metadata": {
    "cellView": "form",
    "colab": {
     "base_uri": "https://localhost:8080/"
    },
    "outputId": "3a7d1896-bd33-4cf8-9161-ccbd7c3546cd"
   },
   "outputs": [],
   "source": [
    "# @markdown Load dataset with `sentence_length=200`\n",
    "TEXT_long, vocab_size_long, train_iter_long, valid_iter_long, test_iter_long = load_dataset(sentence_length=200)"
   ]
  },
  {
   "cell_type": "code",
   "execution_count": null,
   "metadata": {
    "colab": {
     "base_uri": "https://localhost:8080/"
    },
    "outputId": "cd6548c9-6469-4cdd-d7f1-71eb7e8911bc"
   },
   "outputs": [],
   "source": [
    "# Model hyperparamters\n",
    "learning_rate = 0.0002\n",
    "output_size = 2\n",
    "hidden_size = 100\n",
    "embedding_length = 100\n",
    "epochs = 10\n",
    "\n",
    "# Initialize model, training, testing\n",
    "vanilla_rnn_model_long = VanillaRNN(output_size,\n",
    "                                    hidden_size,\n",
    "                                    vocab_size_long,\n",
    "                                    embedding_length)\n",
    "vanilla_rnn_model_long.to(device)\n",
    "vanilla_rnn_start_time_long = time.time()\n",
    "set_seed(522)\n",
    "vanilla_train_loss_long, vanilla_train_acc_long, vanilla_validation_loss_long, vanilla_validation_acc_long = train(vanilla_rnn_model_long,\n",
    "                                                                                                                   device,\n",
    "                                                                                                                   train_iter_long,\n",
    "                                                                                                                   valid_iter_long,\n",
    "                                                                                                                   epochs,\n",
    "                                                                                                                   learning_rate)\n",
    "print(\"--- Time taken to train = %s seconds ---\" % (time.time() - vanilla_rnn_start_time_long))\n",
    "test_accuracy = test(vanilla_rnn_model_long, device, test_iter_long)\n",
    "print('Test Accuracy: ',  test_accuracy, '%')\n",
    "\n",
    "# Number of parameters\n",
    "paramters = count_parameters(vanilla_rnn_model_long)\n",
    "print('Number of parameters = ',  paramters)"
   ]
  },
  {
   "cell_type": "code",
   "execution_count": null,
   "metadata": {
    "colab": {
     "base_uri": "https://localhost:8080/",
     "height": 430
    },
    "outputId": "32b2a2d5-0e69-43bf-c32d-602639eb0a9c"
   },
   "outputs": [],
   "source": [
    "# Compare accuracies of model trained on different sentence lengths\n",
    "x_ticks = np.arange(epochs)\n",
    "plt.plot(x_ticks, vanilla_train_acc,\n",
    "         label='train accuracy, len=50')\n",
    "plt.plot(x_ticks, vanilla_train_acc_long,\n",
    "         label='train accuracy, len=200')\n",
    "\n",
    "plt.plot(x_ticks, vanilla_validation_acc,\n",
    "         label='validation accuracy, len=50')\n",
    "plt.plot(x_ticks, vanilla_validation_acc_long,\n",
    "         label='validation accuracy, len=200')\n",
    "\n",
    "plt.legend(loc='upper left')\n",
    "plt.xlabel('epoch')\n",
    "plt.title(\"Training and Validation Accuracy for Sentence Lengths 50 and 200\")\n",
    "plt.show()"
   ]
  },
  {
   "cell_type": "markdown",
   "metadata": {},
   "source": [
    "## Section 1.1: Architectures"
   ]
  },
  {
   "cell_type": "code",
   "execution_count": null,
   "metadata": {
    "cellView": "form",
    "colab": {
     "base_uri": "https://localhost:8080/",
     "height": 518
    },
    "outputId": "7c613f68-6a3e-4f33-b56c-cc1d60f74cac"
   },
   "outputs": [],
   "source": [
    "#@title Video 2: Bidirectional RNNs\n",
    "# Insert the ID of the corresponding youtube video\n",
    "from IPython.display import YouTubeVideo\n",
    "video = YouTubeVideo(id=\"sTQt0avTSFk\", width=854, height=480, fs=1)\n",
    "print(\"Video available at https://youtu.be/\" + video.id)\n",
    "video"
   ]
  },
  {
   "cell_type": "markdown",
   "metadata": {},
   "source": [
    "RNN models are mostly used in the fields of natural language processing and speech recognition. Below are types of RNNs. Depending on which outputs we use, RNN can be used for variety of tasks. The text classification problem we solved was an instance of the many to one architecture. Write down the applications of other architectures. \n"
   ]
  },
  {
   "cell_type": "markdown",
   "metadata": {},
   "source": [
    "<img width=900 src=\"https://blog.floydhub.com/content/images/2019/04/karpathy.jpeg\">"
   ]
  },
  {
   "cell_type": "markdown",
   "metadata": {},
   "source": [
    "## Section 1.2: Vanishing and Exploding Gradients\n",
    "\n",
    "Problems with RNNs:\n",
    "\n",
    "* *Vanishing gradients*:\n",
    "In a long sequence, the gradients get multiplied by the weight matrix (transpose) at every time step. If there are small values in the weight matrix, the norm of gradients get smaller and smaller exponentially.\n",
    "* *Exploding gradients*:\n",
    "If we have a large weight matrix and the non-linearity in the recurrent layer is not saturating, the gradients will explode. The weights will diverge at the update step. We may have to use a tiny learning rate for the gradient descent to work.\n",
    "One reason to use RNNs is for the advantage of remembering information in the past. However, it could fail to memorize the information long ago in a simple RNN without tricks.\n",
    "\n",
    "An example that has vanishing gradient problem:\n",
    "\n",
    "The input is the characters from a C Program. The system will tell whether it is a syntactically correct program. A syntactically correct program should have a valid number of braces and parentheses. Thus, the network should remember how many open parentheses and braces there are to check, and whether we have closed them all. The network has to store such information in hidden states like a counter. However, because of vanishing gradients, it will fail to preserve such information in a long program."
   ]
  },
  {
   "cell_type": "markdown",
   "metadata": {},
   "source": [
    "---\n",
    "# Section 2: LSTM, GRU and Memory Cell"
   ]
  },
  {
   "cell_type": "code",
   "execution_count": null,
   "metadata": {
    "cellView": "form",
    "colab": {
     "base_uri": "https://localhost:8080/",
     "height": 518
    },
    "outputId": "da1a228c-51fa-4792-f2d3-c3e34ff05ad9"
   },
   "outputs": [],
   "source": [
    "#@title Video 3: LSTM, GRU & The Memory Cells\n",
    "# Insert the ID of the corresponding youtube video\n",
    "from IPython.display import YouTubeVideo\n",
    "video = YouTubeVideo(id=\"NdW2PsbvHdc\", width=854, height=480, fs=1)\n",
    "print(\"Video available at https://youtu.be/\" + video.id)\n",
    "video"
   ]
  },
  {
   "cell_type": "markdown",
   "metadata": {},
   "source": [
    "## Section 2.1: Architecture\n",
    "\n",
    "The core idea behind an LSTM is the cell state $C_t$ that runs along all the LSTM units in a layer, and gets updated along the way. These updates are possible through \"gates\". Gates are made out of a sigmoid neural net layer and a pointwise multiplication operation. \n",
    "\n",
    "Each LSTM unit performs the following distinct steps using the input $x_t$, current cell state $C_t$ and previous hidden state $h_{t-1}$:\n",
    "\n",
    "* Forget Gate: *Should I throw away information from this cell?*\n",
    "$$f_t = \\sigma (W_f . [h_{t-1}, x_t] + b_f)$$ \n",
    "\n",
    "* Input Gate:\n",
    "    * *Should I add new values to this cell?*\n",
    "$$i_t = \\sigma (W_i . [h_{t-1}, x_t] + b_i)$$\n",
    "    * *What new candidate values should I store?*\n",
    "$$\\tilde{C}_t = tanh (W_C . [h_{t-1}, x_t] + b_C)$$ \n",
    "\n",
    "* Update cell state: *Forget things from the past and add new things from the candidates*\n",
    "$$C_t = (f_t * C_{t-1}) + (i_t * \\tilde{C}_t)$$ \n",
    "\n",
    "* Output Gate: \n",
    "    * *What information should I output?*\n",
    "$$o_t = \\sigma (W_o . [h_{t-1}, x_t] + b_o)$$ \n",
    "    * *How much of the cell state should I store in the hidden state?*\n",
    "$$h_t = o_t * tanh(C_t)$$ \n",
    "\n",
    "The architecture can be summarized by the diagram below:\n",
    "![image.png](data:image/png;base64,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)"
   ]
  },
  {
   "cell_type": "markdown",
   "metadata": {},
   "source": [
    "## Exercise 2.2: Implementing LSTM\n",
    "\n",
    "It is now your turn to build an LSTM network in PyTorch. Feel free to refer to the documentation here: https://pytorch.org/docs/stable/generated/torch.nn.LSTM.html#torch.nn.LSTM . \n",
    "\n",
    "* Once again we will use `nn.Embedding`. You are given the `vocab_size` and the `embed_size`.\n",
    "* Add the [`LSTM`](https://pytorch.org/docs/stable/generated/torch.nn.LSTM.html#torch.nn.LSTM) layers. \n",
    "* Define a dropout layer of 0.5. \n",
    "* Determine the size of inputs and outputs to the fully-connected layer.\n",
    "* Pay special attention to the shapes of your inputs and outputs as you write the forward function.\n",
    "\n"
   ]
  },
  {
   "cell_type": "code",
   "execution_count": null,
   "metadata": {},
   "outputs": [],
   "source": [
    "class LSTM(nn.Module):\n",
    "  def __init__(self, layers, output_size, hidden_size, vocab_size, embed_size):\n",
    "    super(LSTM, self).__init__()\n",
    "\n",
    "    self.output_size = output_size\n",
    "    self.hidden_size = hidden_size\n",
    "    self.vocab_size = vocab_size\n",
    "    self.embed_size = embed_size\n",
    "    self.n_layers = layers\n",
    "\n",
    "    ####################################################################\n",
    "    # Fill in missing code below (...),\n",
    "    # then remove or comment the line below to test your function\n",
    "    raise NotImplementedError(\"LSTM Init\")\n",
    "    ####################################################################\n",
    "    self.word_embeddings = ...\n",
    "    self.dropout = ...\n",
    "    self.lstm = ...\n",
    "    self.fc = ...\n",
    "\n",
    "  def forward(self, input_sentences):\n",
    "    \"\"\"Hint: Make sure the shapes of your tensors match the requirement\"\"\"\n",
    "    ####################################################################\n",
    "    # Fill in missing code below (...),\n",
    "    # then remove or comment the line below to test your function\n",
    "    raise NotImplementedError(\"LSTM Forward\")\n",
    "    ####################################################################\n",
    "    # Embeddings\n",
    "    # `input` shape: (`num_steps`, `batch_size`, `num_hiddens`)\n",
    "    input = ...\n",
    "\n",
    "    hidden = (torch.randn(self.n_layers, input.shape[1],\n",
    "                          self.hidden_size).to(device),\n",
    "              torch.randn(self.n_layers, input.shape[1],\n",
    "                          self.hidden_size).to(device))\n",
    "    # Dropout for regularization\n",
    "    input = self.dropout(input)\n",
    "    # LSTM\n",
    "    output, hidden = ...\n",
    "\n",
    "    h_n = hidden[0].permute(1, 0, 2)\n",
    "    h_n = h_n.contiguous().view(h_n.shape[0], -1)\n",
    "\n",
    "    logits = self.fc(h_n)\n",
    "\n",
    "    return logits\n",
    "\n",
    "\n",
    "## Uncomment to run\n",
    "# sampleLSTM = LSTM(3, 10, 100, 1000, 300)\n",
    "# print(sampleLSTM)"
   ]
  },
  {
   "cell_type": "markdown",
   "metadata": {
    "colab": {
     "base_uri": "https://localhost:8080/"
    },
    "colab_type": "text",
    "outputId": "4fb9b748-4226-465e-a5f0-d315b9fdea76"
   },
   "source": [
    "[*Click for solution*](https://github.com/NeuromatchAcademy/course-content-dl/tree/main//tutorials/W2D3_ModernRecurrentNeuralNetworks/solutions/W2D3_Tutorial2_Solution_13c1934e.py)\n",
    "\n"
   ]
  },
  {
   "cell_type": "code",
   "execution_count": null,
   "metadata": {
    "colab": {
     "base_uri": "https://localhost:8080/",
     "height": 804
    },
    "outputId": "8aa12a3e-3215-4baa-9095-2e0325fc9776"
   },
   "outputs": [],
   "source": [
    "# Hyperparameters\n",
    "learning_rate = 0.0003\n",
    "output_size = 2\n",
    "hidden_size = 16\n",
    "embedding_length = 100\n",
    "epochs = 10\n",
    "layers = 2\n",
    "\n",
    "# Model, training, testing\n",
    "lstm_model = LSTM(layers,\n",
    "                  output_size,\n",
    "                  hidden_size,\n",
    "                  vocab_size,\n",
    "                  embedding_length)\n",
    "lstm_model.to(device)\n",
    "set_seed(522)\n",
    "lstm_train_loss, lstm_train_acc, lstm_validation_loss, lstm_validation_acc = train(lstm_model,\n",
    "                                                                                   device,\n",
    "                                                                                   train_iter,\n",
    "                                                                                   valid_iter,\n",
    "                                                                                   epochs,\n",
    "                                                                                   learning_rate)\n",
    "test_accuracy = test(lstm_model, device, test_iter)\n",
    "print('Test Accuracy: ',  test_accuracy, '%\\n')\n",
    "\n",
    "# Plotting accuracy curve\n",
    "plot_train_val(np.arange(0,epochs), lstm_train_acc, lstm_validation_acc,\n",
    "                'training_accuracy',\n",
    "                'validation_accuracy',\n",
    "                'LSTM on IMDB text classification')"
   ]
  },
  {
   "cell_type": "markdown",
   "metadata": {},
   "source": [
    "## Section 2.2: Gated Recurrent Units (GRU)\n",
    "\n",
    "The GRU architecture looks very similar to the LSTM, and is often used as an alternative to the traditional LSTM. It also contains some variations that reduce it's complexity. For example, it combines the forget and input gates into a single “update gate”; it contains a \"hidden state\" but not a \"cell state\". In the next section we will be using GRUs as the choice of recurrent unit in our models, but you can always swap out the GRU for an LSTM later on (make sure that you take care of input and output dimensions in this case). Here is a description of the parts of the GRU:\n",
    "\n",
    "* Reset Gate: *How much of the previous hidden state should I remember?*\n",
    "$$r_t = \\sigma (W_r . [h_{t-1}, x_t])$$\n",
    "\n",
    "* Update Gate: \n",
    "    * *How much of the new state is just a different from the old state?*\n",
    "$$z_t = \\sigma (W_z . [h_{t-1}, x_t])$$\n",
    "    * *What new candidate values should I store?*\n",
    "$$\\tilde{h}_t = tanh (W . [r_t * h_{t-1}, x_t ])$$\n",
    "\n",
    "* Update hidden state: *Deciding how much of the old hidden state to keep and discard*\n",
    "$$h_t = ((1-z_t)*h_{t-1} ) + (z_t * \\tilde{h}_t) $$\n",
    "\n",
    "\n",
    "Here is what the architecture looks like:\n",
    "\n",
    "![image.png](data:image/png;base64,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)"
   ]
  },
  {
   "cell_type": "markdown",
   "metadata": {},
   "source": [
    "\n",
    "## Exercise 2.3: BiLSTM\n",
    "\n",
    "Let's apply the knowledge to write a bi-LSTM using PyTorch.\n",
    "\n",
    "* Use an Embedding layer\n",
    "* Dropout of 0.5\n",
    "* Add 2 LSTM layers\n",
    "* Linear layer "
   ]
  },
  {
   "cell_type": "code",
   "execution_count": null,
   "metadata": {},
   "outputs": [],
   "source": [
    "class biLSTM(nn.Module):\n",
    "  def __init__(self, output_size, hidden_size, vocab_size, embed_size):\n",
    "    super(biLSTM, self).__init__()\n",
    "\n",
    "    self.output_size = output_size\n",
    "    self.hidden_size = hidden_size\n",
    "    self.vocab_size = vocab_size\n",
    "    self.embed_size = embed_size\n",
    "    ####################################################################\n",
    "    # Fill in missing code below (...)\n",
    "    raise NotImplementedError(\"biLSTM\")\n",
    "    ####################################################################\n",
    "    self.word_embeddings = ...\n",
    "    self.dropout = ...\n",
    "    self.bilstm = ...\n",
    "    self.fc = ...\n",
    "\n",
    "  def forward(self, input_sentences):\n",
    "    input = self.word_embeddings(input_sentences).permute(1, 0, 2)\n",
    "    hidden = (torch.randn(4, input.shape[1], self.hidden_size).to(device),\n",
    "              torch.randn(4, input.shape[1], self.hidden_size).to(device))\n",
    "    input = self.dropout(input)\n",
    "\n",
    "    output, hidden = self.bilstm(input, hidden)\n",
    "\n",
    "    h_n = hidden[0].permute(1, 0, 2)\n",
    "    h_n = h_n.contiguous().view(h_n.shape[0], -1)\n",
    "    logits = self.fc(h_n)\n",
    "\n",
    "    return logits\n",
    "\n",
    "\n",
    "# Uncomment to run\n",
    "#sampleBiLSTM = biLSTM(10, 100, 1000, 300)\n",
    "#print(sampleBiLSTM)"
   ]
  },
  {
   "cell_type": "markdown",
   "metadata": {
    "colab": {
     "base_uri": "https://localhost:8080/"
    },
    "colab_type": "text",
    "outputId": "cfc5f994-6bf8-421a-8bb3-41f9d5362359"
   },
   "source": [
    "[*Click for solution*](https://github.com/NeuromatchAcademy/course-content-dl/tree/main//tutorials/W2D3_ModernRecurrentNeuralNetworks/solutions/W2D3_Tutorial2_Solution_f98cf0cd.py)\n",
    "\n"
   ]
  },
  {
   "cell_type": "markdown",
   "metadata": {},
   "source": [
    "---\n",
    "# Section 3: Sequence to Sequence (Seq2Seq) & Encoder/ Decoder Networks"
   ]
  },
  {
   "cell_type": "code",
   "execution_count": null,
   "metadata": {
    "cellView": "form",
    "colab": {
     "base_uri": "https://localhost:8080/",
     "height": 518
    },
    "outputId": "cb5263ad-fa77-428a-962e-e6a678f630b3"
   },
   "outputs": [],
   "source": [
    "#@title Video 4: Seq2Seq & Encoder-Decoder Nets\n",
    "# Insert the ID of the corresponding youtube video\n",
    "from IPython.display import YouTubeVideo\n",
    "video = YouTubeVideo(id=\"D2ovciVEj-M\", width=854, height=480, fs=1)\n",
    "print(\"Video available at https://youtu.be/\" + video.id)\n",
    "video"
   ]
  },
  {
   "cell_type": "markdown",
   "metadata": {},
   "source": [
    "Sources: [d2l.ai on encoders](https://d2l.ai/chapter_recurrent-modern/encoder-decoder.html) ; [d2l.ai on seq2seq](https://d2l.ai/chapter_recurrent-modern/seq2seq.html) ; [Jalammar's blog](https://jalammar.github.io/visualizing-neural-machine-translation-mechanics-of-seq2seq-models-with-attention/ )\n",
    "\n",
    "Sequence-to-sequence models take in a sequence of items (words, characters, etc) as input and produces another sequence of items as output. The most \n",
    "simple seq2seq models are composed of two parts: the encoder, the context (\"state\" in the figure) and the decoder. The encoder and decoder usually consist of recurrent units that we've seen before (RNNs, GRUs or LSTMs). A high-level schematic of the architecture is as follows:\n",
    "\n",
    "![image.png](data:image/png;base64,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)\n",
    "\n",
    "The encoder's recurrent unit processes the input one item at a time. Once the entire sequence is processed, the final hidden state vector produced is known as a context vector. The size of the context vector is defined while setting up the model, and is equal to the number of hidden states used in the encoder RNN. The encoder then passes the context to the decoder. The decoder's recurrent unit uses the context to produce the items for the output sequence one by one.   \n"
   ]
  },
  {
   "cell_type": "markdown",
   "metadata": {},
   "source": [
    "One of the most popular applications of seq2seq models is \"machine translation\": the task of taking in a sentence in one language (the source) and producing its translation in another language (the target); with words in both lanugages being the sequence units. This is a supervised learning task, and requires the dataset to have \"parallel sentences\"; i.e., each sentence in the source language must be labelled with its translation in the target language. \n",
    "\n",
    "[Here is an intuitive visualization for understanding seq2seq models for machine translation from English to French](https://i.imgur.com/HJ6t8up.mp4)\n",
    "\n",
    "Since the vocabulary of an entire language is very large, training such models to give meaningful performance requires significant time and resources. In this section, we will train a seq2seq model to perform machine translation from English to [Pig-Latin](https://en.wikipedia.org/wiki/Pig_Latin). We will modify the task to perform character-level machine translation, so that vocabulary size does not grow exponentially.   \n"
   ]
  },
  {
   "cell_type": "markdown",
   "metadata": {},
   "source": [
    "## Exercise 3.4: Encoder\n",
    "\n",
    "Let us consider a sequence example (batch size: 1).\n",
    "Suppose that\n",
    "the input sequence is $x_1, \\ldots, x_T$, such that $x_t$ is the $t^{\\mathrm{th}}$ token in the input text sequence.\n",
    "At time step $t$, the RNN transforms\n",
    "the input feature vector $\\mathbf{x}_t$ for $x_t$\n",
    "and the hidden state $\\mathbf{h} _{t-1}$ from the previous time step\n",
    "into the current hidden state $\\mathbf{h}_t$.\n",
    "We can use a function $f$ to express the transformation of the RNN's recurrent layer:\n",
    "\n",
    "$$\\mathbf{h}_t = f(\\mathbf{x}_t, \\mathbf{h}_{t-1}). $$\n",
    "\n",
    "In general,\n",
    "the encoder transforms the hidden states at\n",
    "all the time steps\n",
    "into the context variable through a customized function $q$:\n",
    "\n",
    "$$\\mathbf{c} =  q(\\mathbf{h}_1, \\ldots, \\mathbf{h}_T).$$\n",
    "\n",
    "For example, when choosing $q(\\mathbf{h}_1, \\ldots, \\mathbf{h}_T) = \\mathbf{h}_T$ \n",
    "the context variable is just the hidden state $\\mathbf{h}_T$\n",
    "of the input sequence at the final time step.\n",
    "\n",
    "So far we have used a unidirectional RNN\n",
    "to design the encoder,\n",
    "where\n",
    "a hidden state only depends on\n",
    "the input subsequence at and before the time step of the hidden state.\n",
    "We can also construct encoders using bidirectional RNNs. In this case, a hidden state depends on\n",
    "the subsequence before and after the time step (including the input at the current time step), which encodes the information of the entire sequence.\n",
    "\n",
    "\n",
    "Now let us implement the RNN encoder.\n",
    "Note that we use an *embedding layer*\n",
    "to obtain the feature vector for each token in the input sequence.\n",
    "The weight\n",
    "of an embedding layer\n",
    "is a matrix\n",
    "whose number of rows equals to the size of the input vocabulary (`vocab_size`)\n",
    "and number of columns equals to the feature vector's dimension (`embed_size`).\n",
    "For any input token index $i$,\n",
    "the embedding layer\n",
    "fetches the $i^{\\mathrm{th}}$ row (starting from 0) of the weight matrix\n",
    "to return its feature vector.\n",
    "Besides,\n",
    "here we choose a multilayer GRU to\n",
    "implement the encoder.\n"
   ]
  },
  {
   "cell_type": "markdown",
   "metadata": {},
   "source": [
    "The returned variables of recurrent layers\n",
    "have been explained in [????](#cell-id) :numref:`sec_rnn-concise`.\n",
    "Let us still use a concrete example\n",
    "to illustrate the above encoder implementation.\n",
    "Below\n",
    "we instantiate a two-layer GRU encoder\n",
    "whose number of hidden units is 16.\n",
    "Given\n",
    "a minibatch of sequence inputs $X$\n",
    "(batch size: 4, number of time steps: 7),\n",
    "the hidden states of the last layer\n",
    "at all the time steps\n",
    "(`output` return by the encoder's recurrent layers)\n",
    "are a tensor\n",
    "of shape\n",
    "(number of time steps, batch size, number of hidden units).\n"
   ]
  },
  {
   "cell_type": "code",
   "execution_count": null,
   "metadata": {},
   "outputs": [],
   "source": [
    "class Seq2SeqEncoder(d2l.Encoder):\n",
    "  \"\"\"The RNN encoder for sequence to sequence learning.\"\"\"\n",
    "  def __init__(self, vocab_size, embed_size, num_hiddens, num_layers,\n",
    "                dropout=0, **kwargs):\n",
    "    super(Seq2SeqEncoder, self).__init__(**kwargs)\n",
    "    ####################################################################\n",
    "    # Fill in missing code below (...),\n",
    "    # then remove or comment the line below to test your function\n",
    "    raise NotImplementedError(\"Encoder Unit\")\n",
    "    ####################################################################\n",
    "    # Embedding layer\n",
    "    self.embedding = ...\n",
    "    # Here you're going to implement a GRU as the RNN unit\n",
    "    self.rnn = ...\n",
    "\n",
    "  def forward(self, X, *args):\n",
    "    # The output `X` shape: (`batch_size`, `num_steps`, `embed_size`)\n",
    "    X = self.embedding(X)\n",
    "    # In RNN models, the first axis corresponds to time steps\n",
    "    X = X.permute(1, 0, 2)\n",
    "    ####################################################################\n",
    "    # Fill in missing code below (...),\n",
    "    # then remove or comment the line below to test your function\n",
    "    raise NotImplementedError(\"Forward pass\")\n",
    "    ####################################################################\n",
    "    # When state is not mentioned, it defaults to zeros, the output should be a RNN function of X!\n",
    "    output, state = ...\n",
    "    # `output` shape: (`num_steps`, `batch_size`, `num_hiddens`)\n",
    "    # `state` shape: (`num_layers`, `batch_size`, `num_hiddens`)\n",
    "\n",
    "    return output, state\n",
    "\n",
    "\n",
    "X = torch.zeros((4, 7), dtype=torch.long)\n",
    "\n",
    "## uncomment the lines below.\n",
    "# encoder = Seq2SeqEncoder(vocab_size=10, embed_size=8,\n",
    "#                          num_hiddens=16, num_layers=2)\n",
    "# encoder.eval()\n",
    "# output, state = encoder(X)\n",
    "# print(output.shape)\n",
    "# print(state.shape)"
   ]
  },
  {
   "cell_type": "markdown",
   "metadata": {
    "colab": {
     "base_uri": "https://localhost:8080/"
    },
    "colab_type": "text",
    "outputId": "8d81cbcf-b4ba-43f4-f0e9-ee8eb7eb07f8"
   },
   "source": [
    "[*Click for solution*](https://github.com/NeuromatchAcademy/course-content-dl/tree/main//tutorials/W2D3_ModernRecurrentNeuralNetworks/solutions/W2D3_Tutorial2_Solution_faef1ab2.py)\n",
    "\n"
   ]
  },
  {
   "cell_type": "markdown",
   "metadata": {},
   "source": [
    "## Section 3.1: Decoder\n",
    "\n",
    ":label:`sec_seq2seq_decoder`\n",
    "\n",
    "As we just mentioned,\n",
    "the context variable $\\mathbf{c}$ of the encoder's output encodes the entire input sequence $x_1, \\ldots, x_T$. Given the output sequence $y_1, y_2, \\ldots, y_{T'}$ from the training dataset,\n",
    "for each time step $t'$\n",
    "(the symbol differs from the time step $t$ of input sequences or encoders),\n",
    "the probability of the decoder output $y_{t'}$\n",
    "is conditional\n",
    "on the previous output subsequence\n",
    "$y_1, \\ldots, y_{t'-1}$ and\n",
    "the context variable $\\mathbf{c}$, i.e., $P(y_{t'} \\mid y_1, \\ldots, y_{t'-1}, \\mathbf{c})$.\n",
    "\n",
    "To model this conditional probability on sequences,\n",
    "we can use another RNN as the decoder.\n",
    "At any time step $t^\\prime$ on the output sequence,\n",
    "the RNN takes the output $y_{t^\\prime-1}$ from the previous time step\n",
    "and the context variable $\\mathbf{c}$ as its input,\n",
    "then transforms\n",
    "them and\n",
    "the previous hidden state $\\mathbf{s}_{t^\\prime-1}$\n",
    "into the\n",
    "hidden state $\\mathbf{s}_{t^\\prime}$ at the current time step.\n",
    "As a result, we can use a function $g$ to express the transformation of the decoder's hidden layer:\n",
    "\n",
    "$$\\mathbf{s}_{t^\\prime} = g(y_{t^\\prime-1}, \\mathbf{c}, \\mathbf{s}_{t^\\prime-1}).$$\n",
    ":eqlabel:`eq_seq2seq_s_t`\n",
    "\n",
    "After obtaining the hidden state of the decoder,\n",
    "we can use an output layer and the softmax operation to compute the conditional probability distribution\n",
    "$P(y_{t^\\prime} \\mid y_1, \\ldots, y_{t^\\prime-1}, \\mathbf{c})$ for the output at time step $t^\\prime$.\n",
    "\n",
    "Following :numref:`fig_seq2seq`,\n",
    "when implementing the decoder as follows,\n",
    "we directly use the hidden state at the final time step\n",
    "of the encoder\n",
    "to initialize the hidden state of the decoder.\n",
    "This requires that the RNN encoder and the RNN decoder have the same number of layers and hidden units.\n",
    "To further incorporate the encoded input sequence information,\n",
    "the context variable is concatenated\n",
    "with the decoder input at all the time steps.\n",
    "To predict the probability distribution of the output token,\n",
    "a fully-connected layer is used to transform\n",
    "the hidden state at the final layer of the RNN decoder"
   ]
  },
  {
   "cell_type": "code",
   "execution_count": null,
   "metadata": {},
   "outputs": [],
   "source": [
    "class Seq2SeqDecoder(d2l.Decoder):\n",
    "  \"\"\"The RNN decoder for sequence to sequence learning.\"\"\"\n",
    "  def __init__(self, vocab_size, embed_size, num_hiddens, num_layers,\n",
    "                dropout=0, **kwargs):\n",
    "    super(Seq2SeqDecoder, self).__init__(**kwargs)\n",
    "    self.embedding = nn.Embedding(vocab_size, embed_size)\n",
    "    self.rnn = nn.GRU(embed_size + num_hiddens, num_hiddens, num_layers,\n",
    "                      dropout=dropout)\n",
    "    self.dense = nn.Linear(num_hiddens, vocab_size)\n",
    "\n",
    "  def init_state(self, enc_outputs, *args):\n",
    "    return enc_outputs[1]\n",
    "\n",
    "  def forward(self, X, state):\n",
    "    # The output `X` shape: (`num_steps`, `batch_size`, `embed_size`)\n",
    "    X = self.embedding(X).permute(1, 0, 2)\n",
    "    # Broadcast `context` so it has the same `num_steps` as `X`\n",
    "    context = state[-1].repeat(X.shape[0], 1, 1)\n",
    "    X_and_context = torch.cat((X, context), 2)\n",
    "    output, state = self.rnn(X_and_context, state)\n",
    "    output = self.dense(output).permute(1, 0, 2)\n",
    "    # `output` shape: (`batch_size`, `num_steps`, `vocab_size`)\n",
    "    # `state` shape: (`num_layers`, `batch_size`, `num_hiddens`)\n",
    "    return output, state"
   ]
  },
  {
   "cell_type": "markdown",
   "metadata": {},
   "source": [
    "To illustrate the implemented decoder,\n",
    "below we instantiate it with the same hyperparameters from the aforementioned encoder.\n",
    "As we can see, the output shape of the decoder becomes (batch size, number of time steps, vocabulary size),\n",
    "where the last dimension of the tensor stores the predicted token distribution.\n"
   ]
  },
  {
   "cell_type": "code",
   "execution_count": null,
   "metadata": {
    "colab": {
     "base_uri": "https://localhost:8080/"
    },
    "outputId": "8a835237-0b31-4b7e-9853-285f26304686"
   },
   "outputs": [],
   "source": [
    "decoder = Seq2SeqDecoder(vocab_size=10, embed_size=8, num_hiddens=16,\n",
    "                         num_layers=2)\n",
    "#decoder.initialize()\n",
    "state = decoder.init_state(encoder(X))\n",
    "output, state = decoder(X, state)\n",
    "output.shape, len(state), state[0].shape"
   ]
  },
  {
   "cell_type": "markdown",
   "metadata": {},
   "source": [
    "\n",
    "## Section 3.2: Loss Function\n",
    "\n",
    "At each time step, the decoder\n",
    "predicts a probability distribution for the output tokens.\n",
    "Similar to language modeling,\n",
    "we can apply softmax to obtain the distribution\n",
    "and calculate the cross-entropy loss for optimization.\n",
    "Recall :numref:`sec_machine_translation`\n",
    "that the special padding tokens\n",
    "are appended to the end of sequences\n",
    "so sequences of varying lengths\n",
    "can be efficiently loaded\n",
    "in minibatches of the same shape.\n",
    "However,\n",
    "prediction of padding tokens\n",
    "should be excluded from loss calculations.\n",
    "\n",
    "To this end,\n",
    "we can use the following\n",
    "`sequence_mask` function\n",
    "to mask irrelevant entries with zero values\n",
    "so later\n",
    "multiplication of any irrelevant prediction\n",
    "with zero equals to zero.\n",
    "For example,\n",
    "if the valid length of two sequences\n",
    "excluding padding tokens\n",
    "are one and two, respectively,\n",
    "the remaining entries after\n",
    "the first one\n",
    "and the first two entries are cleared to zeros.\n"
   ]
  },
  {
   "cell_type": "code",
   "execution_count": null,
   "metadata": {
    "colab": {
     "base_uri": "https://localhost:8080/"
    },
    "outputId": "c3f2ad32-c206-410d-c23d-4fee23dbcdc9"
   },
   "outputs": [],
   "source": [
    "def sequence_mask(X, valid_len, value=0):\n",
    "  \"\"\"Mask irrelevant entries in sequences.\"\"\"\n",
    "  maxlen = X.size(1)\n",
    "  mask = torch.arange((maxlen), dtype=torch.float32,\n",
    "                      device=X.device)[None, :] < valid_len[:, None]\n",
    "  X[~mask] = value\n",
    "  return X\n",
    "\n",
    "\n",
    "X = torch.tensor([[1, 2, 3], [4, 5, 6]])\n",
    "print(sequence_mask(X, torch.tensor([1, 2])))\n",
    "X = torch.ones(2, 3, 4)\n",
    "print(sequence_mask(X, torch.tensor([1, 2]), value=-1))"
   ]
  },
  {
   "cell_type": "markdown",
   "metadata": {},
   "source": [
    "Now we can extend the softmax cross-entropy loss\n",
    "to allow the masking of irrelevant predictions.\n",
    "Initially,\n",
    "masks for all the predicted tokens are set to one.\n",
    "Once the valid length is given,\n",
    "the mask corresponding to any padding token\n",
    "will be cleared to zero.\n",
    "In the end,\n",
    "the loss for all the tokens\n",
    "will be multipled by the mask to filter out\n",
    "irrelevant predictions of padding tokens in the loss.\n"
   ]
  },
  {
   "cell_type": "code",
   "execution_count": null,
   "metadata": {
    "colab": {
     "base_uri": "https://localhost:8080/"
    },
    "outputId": "8794e37d-ea8c-4bec-8ada-a6497fd7de22"
   },
   "outputs": [],
   "source": [
    "class MaskedSoftmaxCELoss(nn.CrossEntropyLoss):\n",
    "  \"\"\"The softmax cross-entropy loss with masks.\"\"\"\n",
    "\n",
    "  # `pred` shape: (`batch_size`, `num_steps`, `vocab_size`)\n",
    "  # `label` shape: (`batch_size`, `num_steps`)\n",
    "  # `valid_len` shape: (`batch_size`,)\n",
    "\n",
    "  def forward(self, pred, label, valid_len):\n",
    "    weights = torch.ones_like(label)\n",
    "    weights = sequence_mask(weights, valid_len)\n",
    "    self.reduction = 'none'\n",
    "    unweighted_loss = super(MaskedSoftmaxCELoss,\n",
    "                            self).forward(pred.permute(0, 2, 1), label)\n",
    "    weighted_loss = (unweighted_loss * weights).mean(dim=1)\n",
    "\n",
    "    return weighted_loss\n",
    "\n",
    "\n",
    "loss = MaskedSoftmaxCELoss()\n",
    "loss(torch.ones(3, 4, 10),\n",
    "     torch.ones((3, 4), dtype=torch.long),\n",
    "     torch.tensor([4, 2, 0]))"
   ]
  },
  {
   "cell_type": "markdown",
   "metadata": {},
   "source": [
    "In the following training loop,\n",
    "we concatenate the special beginning-of-sequence token\n",
    "and the original output sequence excluding the final token as\n",
    "the input to the decoder.\n",
    "This is called *teacher forcing* because\n",
    "the original output sequence (token labels) is fed into the decoder.\n",
    "Alternatively,\n",
    "we could also feed the *predicted* token\n",
    "from the previous time step\n",
    "as the current input to the decoder."
   ]
  },
  {
   "cell_type": "code",
   "execution_count": null,
   "metadata": {
    "cellView": "form"
   },
   "outputs": [],
   "source": [
    "#@title Training\n",
    "def train_seq2seq(net, data_iter, lr, num_epochs, tgt_vocab, device):\n",
    "  \"\"\"Train a model for sequence to sequence.\"\"\"\n",
    "  def xavier_init_weights(m):\n",
    "    if type(m) == nn.Linear:\n",
    "      nn.init.xavier_uniform_(m.weight)\n",
    "    if type(m) == nn.GRU:\n",
    "      for param in m._flat_weights_names:\n",
    "        if \"weight\" in param:\n",
    "          nn.init.xavier_uniform_(m._parameters[param])\n",
    "\n",
    "\n",
    "  net.apply(xavier_init_weights)\n",
    "  net.to(device)\n",
    "  optimizer = torch.optim.Adam(net.parameters(), lr=lr)\n",
    "  loss = MaskedSoftmaxCELoss()\n",
    "  net.train()\n",
    "  animator = d2l.Animator(xlabel='epoch', ylabel='loss',\n",
    "                          xlim=[10, num_epochs])\n",
    "  for epoch in range(num_epochs):\n",
    "    timer = d2l.Timer()\n",
    "    metric = d2l.Accumulator(2)  # Sum of training loss, no. of tokens\n",
    "    for batch in data_iter:\n",
    "      optimizer.zero_grad()\n",
    "      X, X_valid_len, Y, Y_valid_len = [x.to(device) for x in batch]\n",
    "      bos = torch.tensor([tgt_vocab['<bos>']] * Y.shape[0],\n",
    "                          device=device).reshape(-1, 1)\n",
    "      dec_input = torch.cat([bos, Y[:, :-1]], 1)  # Teacher forcing\n",
    "      Y_hat, _ = net(X, dec_input, X_valid_len)\n",
    "      l = loss(Y_hat, Y, Y_valid_len)\n",
    "      l.sum().backward()  # Make the loss scalar for `backward`\n",
    "      d2l.grad_clipping(net, 1)\n",
    "      num_tokens = Y_valid_len.sum()\n",
    "      optimizer.step()\n",
    "      with torch.no_grad():\n",
    "          metric.add(l.sum(), num_tokens)\n",
    "    if (epoch + 1) % 10 == 0:\n",
    "      animator.add(epoch + 1, (metric[0] / metric[1],))\n",
    "  print(f'loss {metric[0] / metric[1]:.3f}, {metric[1] / timer.stop():.1f} '\n",
    "        f'tokens/sec on {str(device)}')"
   ]
  },
  {
   "cell_type": "markdown",
   "metadata": {},
   "source": [
    "Now we can create and train an RNN encoder-decoder model\n",
    "for sequence to sequence learning on the machine translation dataset.\n"
   ]
  },
  {
   "cell_type": "code",
   "execution_count": null,
   "metadata": {
    "colab": {
     "base_uri": "https://localhost:8080/",
     "height": 254
    },
    "outputId": "78d25216-1f71-47ba-dff8-4ad40a2fc159"
   },
   "outputs": [],
   "source": [
    "embed_size, num_hiddens, num_layers, dropout = 32, 32, 2, 0.1\n",
    "batch_size, num_steps = 64, 10\n",
    "lr, num_epochs, device = 0.005, 300, d2l.try_gpu()\n",
    "\n",
    "train_iter, src_vocab, tgt_vocab = d2l.load_data_nmt(batch_size, num_steps)\n",
    "encoder = Seq2SeqEncoder(len(src_vocab), embed_size, num_hiddens, num_layers,\n",
    "                         dropout)\n",
    "decoder = Seq2SeqDecoder(len(tgt_vocab), embed_size, num_hiddens, num_layers,\n",
    "                         dropout)\n",
    "net = d2l.EncoderDecoder(encoder, decoder)\n",
    "train_seq2seq(net, train_iter, lr, num_epochs, tgt_vocab, device)"
   ]
  },
  {
   "cell_type": "markdown",
   "metadata": {},
   "source": [
    "To predict the output sequence\n",
    "token by token,\n",
    "at each decoder time step\n",
    "the predicted token from the previous\n",
    "time step is fed into the decoder as an input.\n",
    "Similar to training,\n",
    "at the initial time step\n",
    "the beginning-of-sequence (\"&lt;bos&gt;\") token\n",
    "is fed into the decoder.\n",
    "This prediction process\n",
    "is illustrated in :numref:`fig_seq2seq_predict`.\n",
    "When the end-of-sequence (\"&lt;eos&gt;\") token is predicted,\n",
    "the prediction of the output sequence is complete.\n",
    "\n",
    "\n",
    "![Predicting the output sequence token by token using an RNN encoder-decoder.](https://d2l.ai/_images/seq2seq-predict.svg)\n",
    ":label:`fig_seq2seq_predict`"
   ]
  },
  {
   "cell_type": "code",
   "execution_count": null,
   "metadata": {
    "cellView": "form"
   },
   "outputs": [],
   "source": [
    "# @title Prediction\n",
    "def predict_seq2seq(net, src_sentence, src_vocab, tgt_vocab, num_steps,\n",
    "                    device, save_attention_weights=False):\n",
    "  \"\"\"Predict for sequence to sequence.\"\"\"\n",
    "  # Set `net` to eval mode for inference\n",
    "  net.eval()\n",
    "  src_tokens = src_vocab[src_sentence.lower().split(' ')] + [\n",
    "      src_vocab['<eos>']]\n",
    "  enc_valid_len = torch.tensor([len(src_tokens)], device=device)\n",
    "  src_tokens = d2l.truncate_pad(src_tokens, num_steps, src_vocab['<pad>'])\n",
    "  # Add the batch axis\n",
    "  enc_X = torch.unsqueeze(\n",
    "      torch.tensor(src_tokens, dtype=torch.long, device=device), dim=0)\n",
    "  enc_outputs = net.encoder(enc_X, enc_valid_len)\n",
    "  dec_state = net.decoder.init_state(enc_outputs, enc_valid_len)\n",
    "  # Add the batch axis\n",
    "  dec_X = torch.unsqueeze(\n",
    "      torch.tensor([tgt_vocab['<bos>']], dtype=torch.long, device=device),\n",
    "      dim=0)\n",
    "  output_seq, attention_weight_seq = [], []\n",
    "  for _ in range(num_steps):\n",
    "    Y, dec_state = net.decoder(dec_X, dec_state)\n",
    "    # We use the token with the highest prediction likelihood as the input\n",
    "    # of the decoder at the next time step\n",
    "    dec_X = Y.argmax(dim=2)\n",
    "    pred = dec_X.squeeze(dim=0).type(torch.int32).item()\n",
    "    # Save attention weights (to be covered later)\n",
    "    if save_attention_weights:\n",
    "        attention_weight_seq.append(net.decoder.attention_weights)\n",
    "    # Once the end-of-sequence token is predicted, the generation of the\n",
    "    # output sequence is complete\n",
    "    if pred == tgt_vocab['<eos>']:\n",
    "        break\n",
    "    output_seq.append(pred)\n",
    "  return ' '.join(tgt_vocab.to_tokens(output_seq)), attention_weight_seq"
   ]
  },
  {
   "cell_type": "markdown",
   "metadata": {},
   "source": [
    "We can evaluate a predicted sequence\n",
    "by comparing it with the\n",
    "label sequence (the ground-truth).\n",
    "BLEU (Bilingual Evaluation Understudy),\n",
    "though originally proposed for evaluating\n",
    "machine translation results :cite:`Papineni.Roukos.Ward.ea.2002`,\n",
    "has been extensively used in measuring\n",
    "the quality of output sequences for different applications.\n",
    "In principle, for any $n$-grams in the predicted sequence,\n",
    "BLEU evaluates whether this $n$-grams appears\n",
    "in the label sequence.\n",
    "\n",
    "Denote by $p_n$\n",
    "the precision of $n$-grams,\n",
    "which is\n",
    "the ratio of\n",
    "the number of matched $n$-grams in\n",
    "the predicted and label sequences\n",
    "to\n",
    "the number of $n$-grams in the predicted sequence.\n",
    "To explain,\n",
    "given a label sequence $A$, $B$, $C$, $D$, $E$, $F$,\n",
    "and a predicted sequence $A$, $B$, $B$, $C$, $D$,\n",
    "we have $p_1 = 4/5$,  $p_2 = 3/4$, $p_3 = 1/3$, and $p_4 = 0$.\n",
    "Besides,\n",
    "let $\\mathrm{len}_{\\text{label}}$ and $\\mathrm{len}_{\\text{pred}}$\n",
    "be\n",
    "the numbers of tokens in the label sequence and the predicted sequence, respectively.\n",
    "Then, BLEU is defined as\n",
    "\n",
    "$$ \\exp\\left(\\min\\left(0, 1 - \\frac{\\mathrm{len}_{\\text{label}}}{\\mathrm{len}_{\\text{pred}}}\\right)\\right) \\prod_{n=1}^k p_n^{1/2^n},$$\n",
    ":eqlabel:`eq_bleu`\n",
    "\n",
    "where $k$ is the longest $n$-grams for matching.\n",
    "\n",
    "Based on the definition of BLEU in :eqref:`eq_bleu`,\n",
    "whenever the predicted sequence is the same as the label sequence, BLEU is 1.\n",
    "Moreover,\n",
    "since matching longer $n$-grams is more difficult,\n",
    "BLEU assigns a greater weight\n",
    "to a longer $n$-gram precision.\n",
    "Specifically, when $p_n$ is fixed,\n",
    "$p_n^{1/2^n}$ increases as $n$ grows (the original paper uses $p_n^{1/n}$).\n",
    "Furthermore,\n",
    "since\n",
    "predicting shorter sequences\n",
    "tends to obtain a higher $p_n$ value,\n",
    "the coefficient before the multiplication term in :eqref:`eq_bleu`\n",
    "penalizes shorter predicted sequences.\n",
    "For example, when $k=2$,\n",
    "given the label sequence $A$, $B$, $C$, $D$, $E$, $F$ and the predicted sequence $A$, $B$,\n",
    "although $p_1 = p_2 = 1$, the penalty factor $\\exp(1-6/2) \\approx 0.14$ lowers the BLEU.\n",
    "\n",
    "We implement the BLEU measure as follows.\n"
   ]
  },
  {
   "cell_type": "code",
   "execution_count": null,
   "metadata": {
    "cellView": "form"
   },
   "outputs": [],
   "source": [
    "#@title Evaluation of Predicted Sequences\n",
    "def bleu(pred_seq, label_seq, k):\n",
    "  \"\"\"Compute the BLEU.\"\"\"\n",
    "  pred_tokens, label_tokens = pred_seq.split(' '), label_seq.split(' ')\n",
    "  len_pred, len_label = len(pred_tokens), len(label_tokens)\n",
    "  score = math.exp(min(0, 1 - len_label / len_pred))\n",
    "  for n in range(1, k + 1):\n",
    "    num_matches, label_subs = 0, collections.defaultdict(int)\n",
    "    for i in range(len_label - n + 1):\n",
    "      label_subs[''.join(label_tokens[i:i + n])] += 1\n",
    "    for i in range(len_pred - n + 1):\n",
    "      if label_subs[''.join(pred_tokens[i:i + n])] > 0:\n",
    "        num_matches += 1\n",
    "        label_subs[''.join(pred_tokens[i:i + n])] -= 1\n",
    "    score *= math.pow(num_matches / (len_pred - n + 1), math.pow(0.5, n))\n",
    "  return score"
   ]
  },
  {
   "cell_type": "markdown",
   "metadata": {},
   "source": [
    "In the end,\n",
    "we use the trained RNN encoder-decoder\n",
    "to translate a few English sentences into French\n",
    "and compute the BLEU of the results.\n"
   ]
  },
  {
   "cell_type": "code",
   "execution_count": null,
   "metadata": {
    "colab": {
     "base_uri": "https://localhost:8080/"
    },
    "outputId": "d5c59137-337b-4544-8f42-10174810f80b"
   },
   "outputs": [],
   "source": [
    "engs = ['go .', \"i lost .\", 'he\\'s calm .', 'i\\'m home .']\n",
    "# fras = ['va !', 'j\\'ai perdu .', 'il est calme .', 'je suis chez moi .']\n",
    "fras = [ 'je suis chez moi .', 'j\\'ai perdu .','va !', 'il est calme .']\n",
    "for eng, fra in zip(engs, fras):\n",
    "  translation, attention_weight_seq = predict_seq2seq(net,\n",
    "                                                      eng,\n",
    "                                                      src_vocab,\n",
    "                                                      tgt_vocab,\n",
    "                                                      num_steps,\n",
    "                                                      device)\n",
    "  print(f'{eng} => {translation}, bleu {bleu(translation, fra, k=2):.3f}')"
   ]
  },
  {
   "cell_type": "markdown",
   "metadata": {},
   "source": [
    "---\n",
    "# Section 4: Attention\n",
    "\n",
    "\n",
    " "
   ]
  },
  {
   "cell_type": "code",
   "execution_count": null,
   "metadata": {
    "cellView": "form",
    "colab": {
     "base_uri": "https://localhost:8080/",
     "height": 518
    },
    "outputId": "aa4331d2-1ff9-4ea8-9815-eb16bf6725ff"
   },
   "outputs": [],
   "source": [
    "#@title Video 5: Attention mechanisms\n",
    "# Insert the ID of the corresponding youtube video\n",
    "from IPython.display import YouTubeVideo\n",
    "video = YouTubeVideo(id=\"Ou5mUkXTzhA\", width=854, height=480, fs=1)\n",
    "print(\"Video available at https://youtu.be/\" + video.id)\n",
    "video"
   ]
  },
  {
   "cell_type": "markdown",
   "metadata": {},
   "source": [
    "Previously, we designed an encoder-decoder architecture based on two RNNs for sequence to sequence learning. Specifically, the RNN encoder transforms a variable-length sequence into a fixed-shape context variable, then the RNN decoder generates the output (target) sequence token by token based on the generated tokens and the context variable. However, even though not all the input (source) tokens are useful for decoding a certain token, the same context variable that encodes the entire input sequence is still used at each decoding step. It is challenging for the models to deal with long sentences. \n",
    "\n",
    "In [Bahdanau et al., 2014], the authors proposed a technique called attention. When predicting a token, if not all the input tokens are relevant, the model aligns (or attends) only to parts of the input sequence that are relevant to the current prediction. \n"
   ]
  },
  {
   "cell_type": "markdown",
   "metadata": {},
   "source": [
    "In contrast to seq2seq model, the encoder passes a lot more data to the decoder. Instead of passing the last hidden state of the encoding stage, the encoder passes all the hidden states to the decoder. \n",
    "\n",
    "In order to focus on the parts of input relevant to the decoder, look at the set of encoder hidden states it received. Each encoder hidden state is at most associated with a certain word in the input sentence. We can assign each hidden state a score and multiply it with the softmaxed score, thus amplifying hidden states with high scores, and drowning out hidden states with low scores.\n",
    "\n",
    "\n",
    "Reference Links: \\\\\n",
    " https://jalammar.github.io/visualizing-neural-machine-translation-mechanics-of-seq2seq-models-with-attention/ \\\\\n",
    "\n",
    " https://d2l.ai/chapter_attention-mechanisms/attention-cues.html"
   ]
  },
  {
   "cell_type": "code",
   "execution_count": null,
   "metadata": {
    "cellView": "form",
    "colab": {
     "base_uri": "https://localhost:8080/",
     "height": 350
    },
    "outputId": "e1c06d57-1d13-4e5d-f5df-bf70b4ff82a7"
   },
   "outputs": [],
   "source": [
    "# @markdown Media 1: Sequence to Sequence model with Attention\n",
    "\n",
    "url = \"https://jalammar.github.io/images/seq2seq_7.mp4\"\n",
    "from IPython.display import HTML\n",
    "HTML(f\"\"\"<video src={url} width=750 controls/>\"\"\")"
   ]
  },
  {
   "cell_type": "code",
   "execution_count": null,
   "metadata": {
    "cellView": "form",
    "colab": {
     "base_uri": "https://localhost:8080/",
     "height": 347
    },
    "outputId": "336d776b-9d02-416f-bcd3-df8b1ed96121"
   },
   "outputs": [],
   "source": [
    "# @markdown Media 2: Mapping input to output\n",
    "\n",
    "url = \"https://jalammar.github.io/images/seq2seq_9.mp4\"\n",
    "from IPython.display import HTML\n",
    "HTML(f\"\"\"<video src={url} width=750 controls/>\"\"\")"
   ]
  },
  {
   "cell_type": "markdown",
   "metadata": {},
   "source": [
    "## Section 4.1: Queries, Keys, and Values\n",
    "\n",
    "\n",
    "To calculate the attention mechanism we make use of Queries, Keys and Values. But what are Queries, Keys and Values? Query, Value and Key are the transformations of the input vector. \n",
    "\n",
    "In an attention mechanism the context vector is computed as a weighted sum of values, where the weight assigned to each value is computed through an attention score. The score is usually the dot product between the query and key. The scores then go through the softmax function to yield a set of weights whose sum equals 1.\n",
    "\n",
    "The query is from the decoder hidden state whereas the key and value are from the encoder hidden state. \n"
   ]
  },
  {
   "cell_type": "markdown",
   "metadata": {},
   "source": [
    "Take a minute and look at this article. It has detailed graphical explanation on how to calculate attention scores. \n",
    "https://towardsdatascience.com/illustrated-self-attention-2d627e33b20a"
   ]
  },
  {
   "cell_type": "markdown",
   "metadata": {},
   "source": [
    "## Exercise 4.5: Attention for Text Classification\n",
    "\n",
    "Until now, we looked at attention aimed at seq2seq networks. Let’s try implementing attention for the above IMDB sentiment analysis dataset. Previously, using the LSTM, the classification completely depended on the last hidden state. In this exercise, we will compute the attention scores between the last hidden state and output of each sequence. The final attention vector will be the weighted average of the outputs at each sequence, with the weights being the attention scores. Lastly, we will concatenate the attention vector and the last hidden state to get the final output.\n",
    "\n",
    "For simplicity's sake, let's implement attention over an LSTM with 1 layer.\n",
    "\n",
    "\n",
    "*Code reference*: https://github.com/prakashpandey9/Text-Classification-Pytorch/blob/master/main.py\n"
   ]
  },
  {
   "cell_type": "code",
   "execution_count": null,
   "metadata": {},
   "outputs": [],
   "source": [
    "class AttentionModel(torch.nn.Module):\n",
    "  def __init__(self, batch_size, output_size, hidden_size, vocab_size, embedding_length, weights):\n",
    "    super(AttentionModel, self).__init__()\n",
    "\n",
    "    self.batch_size = batch_size\n",
    "    self.output_size = output_size\n",
    "    self.hidden_size = hidden_size\n",
    "    self.vocab_size = vocab_size\n",
    "    self.embedding_length = embedding_length\n",
    "\n",
    "    self.word_embeddings = nn.Embedding(vocab_size, embedding_length)\n",
    "    self.word_embeddings.weights = nn.Parameter(weights, requires_grad=False)\n",
    "    self.lstm = nn.LSTM(embedding_length, hidden_size)\n",
    "    self.fc1 = nn.Linear(2*hidden_size, output_size)\n",
    "\n",
    "  def attention_net(self, lstm_output, final_state):\n",
    "    \"\"\"\n",
    "    lstm_output : shape: (num_seq, batch_size, hidden_size)\n",
    "    final_state : shape: (1, batch_size, hidden_size)\n",
    "    \"\"\"\n",
    "    ####################################################\n",
    "    # Implement the attenion net\n",
    "    # Fill in missing code below (...)\n",
    "    raise NotImplementedError(\"perform the convolution\")\n",
    "    ####################################################\n",
    "    # permute the output to get the shape (batch_size, num_seq, hidden_size)\n",
    "    # Get the attention weights\n",
    "    # use torch.bmm to compute the attention weights between each output and hast hidden state\n",
    "    # pay attention to the tensor shapes, you may have to use squeeze and unsqueeze functions\n",
    "    # softmax the attention weights\n",
    "    # Get the new hidden state, use torch.bmm to get the weighted lstm output\n",
    "    # pay attention to the tensor shapes, you may have to use squeeze and unsqueeze functions\n",
    "    lstm_output = ...\n",
    "    hidden = ...\n",
    "    attn_weights = ...  # expected shape: (batch_size, num_seq)\n",
    "    soft_attn_weights = ...\n",
    "    new_hidden_state = ...\n",
    "\n",
    "    return new_hidden_state\n",
    "\n",
    "  def forward(self, input_sentences):\n",
    "\n",
    "    input = self.word_embeddings(input_sentences)\n",
    "    input = input.permute(1, 0, 2)\n",
    "\n",
    "    h_0 = Variable(torch.zeros(1, input.shape[1], self.hidden_size).cuda())\n",
    "    c_0 = Variable(torch.zeros(1, input.shape[1], self.hidden_size).cuda())\n",
    "\n",
    "    output, (final_hidden_state, final_cell_state) = self.lstm(input, (h_0, c_0))\n",
    "    attn_output = self.attention_net(output, final_hidden_state)\n",
    "    final_output = torch.cat((attn_output, final_hidden_state[0]), 1)\n",
    "    logits = self.fc1(final_output)\n",
    "\n",
    "    return logits\n",
    "\n",
    "\n",
    "# Uncomment to check AttentionModel class\n",
    "# attention_model = AttentionModel(32, 2, 16, 20, 200, TEXT.vocab.vectors)\n",
    "# print(attention_model)"
   ]
  },
  {
   "cell_type": "markdown",
   "metadata": {
    "colab": {
     "base_uri": "https://localhost:8080/"
    },
    "colab_type": "text",
    "outputId": "a5666d01-6757-46de-8571-26c0bc4e425b"
   },
   "source": [
    "[*Click for solution*](https://github.com/NeuromatchAcademy/course-content-dl/tree/main//tutorials/W2D3_ModernRecurrentNeuralNetworks/solutions/W2D3_Tutorial2_Solution_90822110.py)\n",
    "\n"
   ]
  },
  {
   "cell_type": "code",
   "execution_count": null,
   "metadata": {
    "cellView": "form",
    "colab": {
     "base_uri": "https://localhost:8080/"
    },
    "outputId": "6cbd33e2-8664-4b38-cd69-7f0ed5300007"
   },
   "outputs": [],
   "source": [
    "# @markdown Reload dataset using the default params since variables have been overwritten\n",
    "TEXT, vocab_size, train_iter, valid_iter, test_iter = load_dataset()"
   ]
  },
  {
   "cell_type": "code",
   "execution_count": null,
   "metadata": {
    "colab": {
     "base_uri": "https://localhost:8080/"
    },
    "outputId": "7d0165b9-07cd-41c9-91c3-1097890e1883"
   },
   "outputs": [],
   "source": [
    "learning_rate = 0.0001\n",
    "batch_size = 32\n",
    "output_size = 2\n",
    "hidden_size = 16\n",
    "embedding_length = 300\n",
    "epochs = 12\n",
    "\n",
    "word_embeddings = TEXT.vocab.vectors\n",
    "vocab_size = len(TEXT.vocab)\n",
    "\n",
    "attention_model = AttentionModel(batch_size,\n",
    "                                 output_size,\n",
    "                                 hidden_size,\n",
    "                                 vocab_size,\n",
    "                                 embedding_length,\n",
    "                                 word_embeddings)\n",
    "attention_model.to(device)\n",
    "attention_start_time = time.time()\n",
    "set_seed(522)\n",
    "attention_train_loss, attention_train_acc, attention_validation_loss, attention_validation_acc = train(attention_model,\n",
    "                                                                                                       device,\n",
    "                                                                                                       train_iter,\n",
    "                                                                                                       valid_iter,\n",
    "                                                                                                       epochs,\n",
    "                                                                                                       learning_rate)\n",
    "print(\"--- Time taken to train = %s seconds ---\" % (time.time() - attention_start_time))\n",
    "test_accuracy = test(attention_model, device, test_iter)\n",
    "print('Test Accuracy: ',  test_accuracy, '%')"
   ]
  },
  {
   "cell_type": "code",
   "execution_count": null,
   "metadata": {
    "colab": {
     "base_uri": "https://localhost:8080/",
     "height": 1000
    },
    "outputId": "e98c6885-d05e-46d3-f380-c14eff804036"
   },
   "outputs": [],
   "source": [
    "plot_train_val(np.arange(0, epochs),\n",
    "                attention_train_acc,\n",
    "                attention_validation_acc,\n",
    "                'training_accuracy',\n",
    "                'validation_accuracy',\n",
    "                'attention on IMDB text classification')\n",
    "\n",
    "plot_train_val(np.arange(0, epochs),\n",
    "                attention_train_loss,\n",
    "                attention_validation_loss,\n",
    "                'training_loss',\n",
    "                'validation_loss',\n",
    "                'attention on IMDB text classification')"
   ]
  },
  {
   "cell_type": "markdown",
   "metadata": {},
   "source": [
    "---\n",
    "# Summary\n",
    "\n",
    "During this day, we have learned about modern RNNs and their variants. Now let's see some ethical aspects of representation and Generation, and then we will close the tutorials with an overview."
   ]
  },
  {
   "cell_type": "code",
   "execution_count": null,
   "metadata": {
    "cellView": "form",
    "colab": {
     "base_uri": "https://localhost:8080/",
     "height": 518
    },
    "outputId": "7d0017aa-0233-4b56-df66-561e2283a6bf"
   },
   "outputs": [],
   "source": [
    "#@title Video 6: Ethics of Representation and Generation\n",
    "# Insert the ID of the corresponding youtube video\n",
    "from IPython.display import YouTubeVideo\n",
    "video = YouTubeVideo(id=\"zxuwwJmik6c\", width=854, height=480, fs=1)\n",
    "print(\"Video available at https://youtu.be/\" + video.id)\n",
    "video"
   ]
  },
  {
   "cell_type": "code",
   "execution_count": null,
   "metadata": {
    "cellView": "form",
    "colab": {
     "base_uri": "https://localhost:8080/",
     "height": 518
    },
    "outputId": "7e3352fa-4ea5-49ba-9a25-176ab3ab1653"
   },
   "outputs": [],
   "source": [
    "#@title Video 7: Beyond Sequence\n",
    "# Insert the ID of the corresponding youtube video\n",
    "from IPython.display import YouTubeVideo\n",
    "video = YouTubeVideo(id=\"Lqw0ki1ZmiM\", width=854, height=480, fs=1)\n",
    "print(\"Video available at https://youtu.be/\" + video.id)\n",
    "video"
   ]
  }
 ],
 "metadata": {
  "accelerator": "GPU",
  "colab": {
   "collapsed_sections": [],
   "include_colab_link": true,
   "name": "W2D3_Tutorial2",
   "provenance": [],
   "toc_visible": true
  },
  "kernel": {
   "display_name": "Python 3",
   "language": "python",
   "name": "python3"
  },
  "kernelspec": {
   "display_name": "Python 3",
   "name": "python3"
  },
  "language_info": {
   "name": "python"
  }
 },
 "nbformat": 4,
 "nbformat_minor": 0
}
