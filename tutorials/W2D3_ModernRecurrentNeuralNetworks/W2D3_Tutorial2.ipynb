{
  "nbformat": 4,
  "nbformat_minor": 0,
  "metadata": {
    "accelerator": "GPU",
    "colab": {
      "name": "W2D3_Tutorial2",
      "provenance": [],
      "collapsed_sections": [],
      "toc_visible": true,
      "include_colab_link": true
    },
    "kernel": {
      "display_name": "Python 3",
      "language": "python",
      "name": "python3"
    },
    "kernelspec": {
      "display_name": "Python 3",
      "name": "python3"
    },
    "language_info": {
      "name": "python"
    },
    "widgets": {
      "application/vnd.jupyter.widget-state+json": {
        "f97d520944d44845bedfe2df49bbc331": {
          "model_module": "@jupyter-widgets/controls",
          "model_name": "TabModel",
          "model_module_version": "1.5.0",
          "state": {
            "_view_name": "TabView",
            "_dom_classes": [],
            "_titles": {
              "0": "Youtube",
              "1": "Bilibili"
            },
            "_model_name": "TabModel",
            "_view_module": "@jupyter-widgets/controls",
            "selected_index": 0,
            "_model_module_version": "1.5.0",
            "_view_count": null,
            "_view_module_version": "1.5.0",
            "box_style": "",
            "layout": "IPY_MODEL_017da775b2cd4369b97d77d795e0a67b",
            "_model_module": "@jupyter-widgets/controls",
            "children": [
              "IPY_MODEL_64499da294c34cdbaab096c674c8bbfe",
              "IPY_MODEL_6507b5b0474f4267af3d060209eb0400"
            ]
          }
        },
        "017da775b2cd4369b97d77d795e0a67b": {
          "model_module": "@jupyter-widgets/base",
          "model_name": "LayoutModel",
          "model_module_version": "1.2.0",
          "state": {
            "_view_name": "LayoutView",
            "grid_template_rows": null,
            "right": null,
            "justify_content": null,
            "_view_module": "@jupyter-widgets/base",
            "overflow": null,
            "_model_module_version": "1.2.0",
            "_view_count": null,
            "flex_flow": null,
            "width": null,
            "min_width": null,
            "border": null,
            "align_items": null,
            "bottom": null,
            "_model_module": "@jupyter-widgets/base",
            "top": null,
            "grid_column": null,
            "overflow_y": null,
            "overflow_x": null,
            "grid_auto_flow": null,
            "grid_area": null,
            "grid_template_columns": null,
            "flex": null,
            "_model_name": "LayoutModel",
            "justify_items": null,
            "grid_row": null,
            "max_height": null,
            "align_content": null,
            "visibility": null,
            "align_self": null,
            "height": null,
            "min_height": null,
            "padding": null,
            "grid_auto_rows": null,
            "grid_gap": null,
            "max_width": null,
            "order": null,
            "_view_module_version": "1.2.0",
            "grid_template_areas": null,
            "object_position": null,
            "object_fit": null,
            "grid_auto_columns": null,
            "margin": null,
            "display": null,
            "left": null
          }
        },
        "64499da294c34cdbaab096c674c8bbfe": {
          "model_module": "@jupyter-widgets/output",
          "model_name": "OutputModel",
          "model_module_version": "1.0.0",
          "state": {
            "_view_name": "OutputView",
            "msg_id": "",
            "_dom_classes": [],
            "_model_name": "OutputModel",
            "outputs": [
              {
                "output_type": "stream",
                "metadata": {
                  "tags": []
                },
                "text": "Video available at https://youtube.com/watch?v=hIHocwdyY7M\n",
                "stream": "stdout"
              },
              {
                "output_type": "display_data",
                "metadata": {
                  "tags": []
                },
                "text/html": "\n        <iframe\n            width=\"854\"\n            height=\"480\"\n            src=\"https://www.youtube.com/embed/hIHocwdyY7M?fs=1&rel=0\"\n            frameborder=\"0\"\n            allowfullscreen\n        ></iframe>\n        ",
                "text/plain": "<IPython.lib.display.YouTubeVideo at 0x7f6441459e10>",
                "image/jpeg": "/9j/4AAQSkZJRgABAQAAAQABAAD/2wCEABALDBoYFhsaGRoeHRwfIigmIyIgIjEtKyUvMicyMDMuLS01PVBCNThXOS0uRWFFS1NWW1xbMkFlbWRYbFBZW1cBERISGRYZLxsbLVc9Nz1XV1dXV1dXV1ddV1dXV1dXV1dXV1dXV1dXXVdXV1dXV1ddV11XV1dXV1dXV1dXV11XV//AABEIAWgB4AMBIgACEQEDEQH/xAAcAAEAAQUBAQAAAAAAAAAAAAAABAECAwUGBwj/xABKEAABAwICBQgFCQUHAwUAAAABAAIDBBESIQUTMVFTFBdBUpGS0dIiMmFxgQYVI0JUcpOhsTSyweHiFjNic4Kz8DV0wgckJUOi/8QAGQEBAQEBAQEAAAAAAAAAAAAAAAECAwQF/8QAIhEBAQACAgMAAgMBAAAAAAAAAAECEQMSEyFRMUEUIjJh/9oADAMBAAIRAxEAPwDz9ERAREQEREBERAREQEREBERAREQEREBERAREQEREBERAREQEREBERAREQEREBERAREQEREBERAREQEREBERAREQEREBERAREQEREBERAREQEREBERAREQEREBERAREQEREBERAREQEREBERAREQEREBERAREQEREBERAREQEREBERAREQEREBERAREQEREBERAREQEREBF2HNxW8Wn7z/InNxW8Wn7z/ACIOPRdhzcVvFp+8/wAic3FbxafvP8iDj0XYc3FbxafvP8ic3FbxafvP8iDj0XYc3FbxafvP8ic3FbxafvP8iDj0XYc3FbxafvP8ic3FbxafvP8AIg49F2HNxW8Wn7z/ACJzcVvFp+8/yIOPRdhzcVvFp+8/yJzcVvFp+8/yIOPRdhzcVvFp+8/yJzcVvFp+8/yIOPRdhzcVvFp+8/yJzcVvFp+8/wAiDj0XYc3FbxafvP8AInNxW8Wn7z/Ig49F2HNxW8Wn7z/InNxW8Wn7z/Ig49F2HNxW8Wn7z/InNxW8Wn7z/Ig49F2HNxW8Wn7z/InNxW8Wn7z/ACIOPRdhzcVvFp+8/wAic3FbxafvP8iDj0XYc3FbxafvP8ic3FbxafvP8iDj0XYc3FbxafvP8ic3FbxafvP8iDj0XYc3FbxafvP8ic3FbxafvP8AIg49F2HNxW8Wn7z/ACJzcVvFp+8/yIOPRdhzcVvFp+8/yJzcVvFp+8/yIOPRdhzcVvFp+8/yJzcVvFp+8/yIOPRdhzcVvFp+8/yJzcVvFp+8/wAiDj0XYc3FbxafvP8AInNxW8Wn7z/Ig49F2HNxW8Wn7z/InNxW8Wn7z/Ig49F2HNxW8Wn7z/InNxW8Wn7z/Ig49FlqYDFI+N1iWOLTbZcG2SxICIiAiIgIiICIiAiIg+gEREBERAREQEREBERAREQEREBERAREQEREBERAREQEREBERAREQEREBERAREQEREBERAREQEREBERAREQeF6Z/bKn/ADpP3yoamaZ/bKn/ADpP3yoaAiIgKRSxXOYy9qxRNBcAdi6TRWjNdmSQ0bulZyuoslt1Gta1rRkBZWSsxggLoajRcYyDfzUGu0bq2h7dnTfoXOZyt3isjmyLZFUU6rju29s1BXZzEREH0AiIgte4NBJ2AXK1P9qKLjjsPgtlVf3Un3Xfoub+TelaSKjiZLLG14xXDtvrFBvaHS1PUEiGVryMyBt7FNXKySxVOkaZ9IL6vEZZGizbWyBPT09q2VXpSZ1QaaljY97QDI+QkNZfYMsyUG4Ramh0nLrzTVLGslLcTHMJLXjptfMFYW6Uqah8gpI4tXG4tMkriMThtDQEG8RaJ+nJG0c0zocEsJwuY6+Em4zB6RmtjUVRZTOmABIjL7dF8N7IJiLn6jT8jIqR4iDnVA9UHptkB8SFWq0tU01PrKiKPFrWtsxxN2kZn3oN+i0zNJVEUUs1ZEyONoBaGOu43+qfbs7VhOkK8R6808WrtiMYedYG7dtrXt0IN+qLS6Q08I4aeaJmsbM4C3TmDkPbfJYqjStXTlklRDEIXODTgeS5l99xYoN4ZWhwaXDEbkC+ZttyWRcvVuqPnZmBsRdqTgu42LMW05ZG98l06CNVaQihcxsjw0yGzb9Jy8QpK5r5U0onqaOImweZBcdHogj81N+T9e9wfTz/AN/AcLv8Q6HD4W/4UGxpKyOcOMTsQa4tPsI2hSFzXybqWw0tXI82ayeQnsas0ekK98evZTxasjEI3POsI7LXQb9FpKrTwFLBURNDhLI1lnfVve+zpFlL05XupqZ8zWhxbhyOzNwH8UGwRaOv0zKyeOCKJr3yxYm3NrG/T7LAlXzaRqY4omuga6okcWhrScAA+s53Rkg3KjisjMxhxfSBuItt0XtdamTSdXTyRCqjhMcjwzFE512k7Lg7Uj/6y/8A7YfvBBvVGZpCIzOgDxrWi5b02y8QpK42vpJJNIVcsJImgEb2DrejmOxB11TUMiY6R5wtaLk7groZWvY17TdrgCDvBFwtHX6QZU6KmlZ0xm46p6Qr/nLk1DS2aXySMjbGwZYiWjp6Ag3atdK0FrS4Au9UE5npyWkl0nV02GSqii1JIDnRON475AkHaPcoulnT/OVOY2xE4X6rE4gEYc8Vhl7LXQdQi1tBpFz6iogkaGuiwlpB9ZrhtUfQ2m+UzzRloaGG7CD6zcRbf8gg3SLQO+UREc0hjxATGGFrTnIRl8M0n0nW07dbUQRGLLEInEuYD0m+RQb9YKmsjiLBI7DjcGt9pPQtZpPTT4pYGQxiXXtcWZ2zyt8M81B0q+dwouUNY1/Km5MNwRbag6dVWpZpR81SYqdodGw2llccgeq220rHNpKokqJIKVkV4g3G6VxGZzsAP1QbpFr9F1ksmsZPDq3xkC4uWPv0tJWwQEREBERB4Xpn9sqf86T98qGpmmf2yp/zpP3yoaAiIguiPpD3rs6SsdTw5ta42BAa4ZfeI2H2LjGOwkEbQbru6VpfCXsLHh4xHEfZvzzGy3sXPk/Ht045d+lYazWUzp7Rtw39EyDov0E38VEirzURGNzGNLrC+IBvxJ2LLFTNNO4OwguufYCLWy+A7VdR05dARZjWO7T7Dll+a5f1jvZnpydfIQSzLI2Njl8D0hQVN0tO2SZ2E3a30WneB0qEvRHkERFR9AIiIMNV/dP+679FpPkvRxSaPixxMdfFfE0G/pFb5xBuDb2gq2CFkbQ1jQ1o2BosB8EHP0kjtH1YpnkmmmzhJ+o7q3/50e1RnU0Y0jUMnmlh1mF8bmSFgcLZgnpK6eopo5QBIxrwDcBwBz3hKqjimbhlja8DYHC9kGho6em5cxsck80kbXHGZMbGXBFiT7+hXfJipZDFLTyuaySOR9w4gXBNw4X6FvKakjhbhijawbmiyx1WjoJiDLEx5HS5oJQabSlfyugrNWw4GZNf0PsQSR7FlrdKwHRxtI0l8WFrQbuJLbWttW8ZG1rQ1rQGgWAAy7FEj0ZTMc5zYYmuIIJDRsO1Bz7PV0P7/wDwWx+Vo+gh/wA+P9VthSReh9Gz6P1Mh6P3dyungZIAHta4AggOF7EbCg1Xytp3SUMgYLlpDiB0gHNa8x0fJ9dy2oLMN8PKDfZ6uHeupUMaIpsePURYtt8AQaCpiYyDRoja9jDUMIbJ6wuSc7e9bD5YfsR/zI/3gtvNAx+Eva12E4m3F7EdI9qTwskbhka17dtnC4yQaOtmZHpaF0jgxpp3C7jYXxHpXQKPU0cMwGtjZIBsxAGykINFpr9v0f8Aek/dCrp+jexzK2AfSw+sB9dnSD8FuJKdjnNc5rS5l8JIzbfbbcsiDi9Hxun0TWYASXTOcB0n1HW7FKpYqR1OJTW1DQGjE3lBBabZjCulp6aOIFsbGsBNyGiwvvWB+iaZz9YYIy/bcsCDm6yJjdGQPiZIyMTskIksXAXOeXRmpvys0jC+hexkjXufhIDTfIOBJy2DJdC9jS0tcAWkWIIysokWiqZoc1sEYD/WGEZ+9BrCP/lKb/tT+qyaerJGzU8DZdQyXFilyvl9UE5BbjkzMYfgbjAwh1swNwO5UqaWOVuGRjXt3OF0HIaZhhifThtRLPJrmF2OQvDW33bBnb81t4/+sv8A+2H7wWzZoynazViGMMJBLcIsSNhWYU7Meswtx2w4rZ23X3IMi0Wjf+qV33Yv3VvliZTsa9zw1oe62JwGZtsuUHJfKKndSa90Y+gqmlrmjYyToPxz/wCWV+lIv/b6NleXtiY1oe5hILcTG2dcbNi6qeJkjSx7WuadrXC4PwVRC3BgwjBa2G2Vt1tyDl9JU1G2IYqmpnEhAbG2fEX3O4myk6SeyGvoS8hjAx4u47PRtmVt6fRlPE7FHDG128NF1lqaSKYASxteBsDgDZBoPlDPyWdlU3ZJC+I232xMPaolYw6PZSSgZ6h0T7dYtxD/APV11c1LHI0NexrmixAcAQLbEnp45QBIxrwDcBwuL70HMVtGaakoHkEtgka+X2Ysye0rYfKDScJopA2Rr3Stwsa03LicsgFu3NBBBAIO0FRYNF08b8ccMbXbw0XQaTUGOr0XG71mxPB94YFm+V0WMUjLkYqhouNouCMlvH07HPa8taXtvhcRmL7bFJqdj8ONrXYTibcXsd49qDQUP/x9VyYk8nmN4XH6rulpP/OhUrYKSoq5Wuc+nqGAemH4C8WyIzz/AFW/npo5QBIxrwDcYhex3qyr0fDNbWxMfbZiaDZBqfk/UymeeAzcojjDcMvTc7Wk9K36xU9OyJuGNjWN3NFgsqAiIgIiIPC9M/tlT/nSfvlQ1M0z+2VP+dJ++VDQEWWlp3yyMjjGJ7yGtHtK76P5GU8cOF4L5MJxOuRncbANgQeeLqfk4yVkT2Pjc1rjiaXAgHYD/BdPorQ0EErQ2JuYNyRf9fapGkG3wm3Wb7je/wCn6LnyX+rfH/pys0kmszaw55bdippeq1dO++14wC249P6rYTMJkwtANhc3VakksbCxodJJkBb8/cuMvuPTlPVcCi9O0j8l6WQC8Qa63rM9G/w2Lnq75DvAJgkDv8L8j27F6dvG5JFJrqCanfgmjcx1rgHpG8HpUZUfQCIiDTaQ0fA+rgLoY3F5kxEtBxWZlfeoD9KScqawSjVukki1ZLBk1jtjAMW1ozLrZ7MwunLRcG2Y2exWallycLbnabC5QcvQVshggDyGuaYgI7A4Wah5a8G1yXWOf+G3QSckWkJwyMPqP76KB5kLWDVYyQcOVrbAMV8z0rpdU3L0W5ZDLYsNXRNlZguWbLFlri3RmCCPYRZBrIZ3y0FSTMXka9rZGgC4aXAWsLbAoFJNJG4yMmLm62mjIIaQ/GyNpJIG3PK1tnSujoqRsMYjaSRckl20lxJJPxKyNhYBYNaBkbADo2INDoPSU80rNY9pEjXF0Zcy7CCBZoaMQsTY4ic7bFK0ho+B9VAXQxuL8eIloOKzMr71tWxtBJDQCdpAzPvVxaLg2zGxBzTdJz8ocMbWtbJJHqi5mTWh1iG2x4rAO22sdisjrakC7qguww00xGBliZHlrm7PVs333O3oXTapt8WEYrWvbO266apvVGwDZ0DYg5kaXmaxz2ztldae7MI+j1byA6zc8um+3K1lmNZKX6mOqMjccQ1wDC4Yw8ubk3DezWkZfWF7rd0lIyFuFo6SSTa5u4nM/FZGwtAADWgA3AAG3eg5eq0pLrsGuuxz5YixxYD6Mb8w0DEDdozJsb7MwtlX4To6MOfgBbDdxBLdrcn2I9A7DmMiVtjCy5OFtztNhmrsItawtssg5Zjm42sa5sWCoiLjA4GI4muys4ei7IXHtaelSabSEjBA+af0ZY5XHEGNaC3DhANh0Yjmd63wgYG4QxobttYW7FUxNIALRYG4FtiDndFaSkmERlqhG7BB9Hhb9LjiDi61r3xF1rZDCcio1PpJ8FK8cozFMXML8N8eseCBlmR6IsurETbg4RcCwNtg3BUMDOo3p6B07UGgqa2drHvEps6oMQ9RojaL5guHrE2FzcZjJSYq+YUEkt2vkZjAcCHA2Nruw2BI6bbltzG0ggtFjtFsj71VrQAAAABsAQcxWOMzXQGpdNGJKe8gEZvjebsdZuEj1Ts6Re62skrGVoxOa0ajK5A+uti2JoFg1oF72AyvvVstOx/rsa63WAKDn6jS0grAGzDV69kWAlgBDgNjbF5PpXvcD2b8Mek6hsUTnTk66EPLi1lovpGNLhYbLPv6V8x8F0+oZe+Bt8s7Do2LHU0jZIyzNmVg5lgRnfL2ZbNhQaOn0q5shD6kPjDpmh7sIBLWxloJAAvm/Z7VDbpyfDA/XZ/+2D2nA0OMgYXejYudk8m4LQLdNiulpKBkTMPr+liJcBcu35AAfALPqGdRuy2wbN3uQcy/TEzbvbO17zHO8w4W/RljgBszsM73OdjsWz0HUyPMjXyCQNwkOxsc7O9wcADbZAjpzUim0W2OUy43vPpAYiDhDiCcwLnYNpOQUyONrRZrQ0bgLIOZmdG2d8hMch5QBtLKhhxABrduJvSBldp6elHpWoL5CZG//eMBcz0MAdbC0DFfJt8RIz6Ml0xibixYRiHTbPtTVNuThFyLE2zI9qDnZamWMi83pOihxSuay7A+UgkWFrDovcDpurodLObLhfOHRNMzRK7CNZhZG4XIAFwXPGVvVO5dAY29UbLbOjd7lTUssBhbYbBYWHuQc3R6VlL4DJMS17YgWs1e17AfTaRjuSb3abW6MimhKuUR0VOHevFDIDYZRiL0xs6waP8AX7F0ghZcHC24FgbC4G4LEyjaJTLck4cDRlZjciQ2w6SB2BBIVURAREQEREBERAREQEREHhemf2yp/wA6T98qGu8rv/T2olnlkE8QD3ucAQ7K7idywc21Rx4ux3ggyfIDQjg81kgGENtGOnPa63Rl+q7aUXud4CporRhpodWCOjZ7Gho/IBSRTn2bVmiLq7EncFbUMGI4hdrtvipbqdxvmM1BrqKqkBaySNgtkcyfjlkpY1GrnpKeMvJmw4jsIBd7gp2i4oPWicHnYXdPu9igVXyWnkaPpIw/fn4LJF8m6iN4kilYx9vSGZa78liY2X8Oly3NbbWexN1jcegKQ2jkLRiLcXTa9kFC69yQumnJp/lfQNqKCWzQXxNEjTbMWzIH+m68nXu7KYi97G+33WsuAm/9N5i9xZPEGknCCHXAvl0KxHpCIioIiICIiAiIgIiICIiAiIgIiICIiAiIgIiICIiAiIgIiICIiAiIgIiICIiAiIgIiICoqqiAi02l4XuniEbn3ka+N4a8jC0gESWvkQRtHWU7RlU6aLWENALnBuE3u0OIBJ35XQS0UWtikdh1Zta9/Tw/+JuqUcMrSdYbi2Xp4v8AxCCWi1+nC/k7mx48bthYCbEZi9s7Ei2W9aqSCoOJn0rDaIRemcLL2c97n39Ig+jY32DeUG9NbGJdVc4/cbDcCdgPsUi65OKkL3smEcrmvnmlOF5sQwFsYOfTYEe4LGNH1jWDE+oc7DCHASHNzpcTyM9jW5e3pug7BY6idsbC92wbtp3ADfdc5E+oM0UksNTtldJhOQ+qxgaHZgA3v0nP3Vp4ZI4/pxLdlQy5e8ubg1hLbZ9GJtzbo2myDeN0jGXSNuQ6JodIC0+iCL7dh+CrHpCNzo2gm8jC9t2kXaLZ5jLaNu9a2o0fI+uebfQSxM1h3ljnWZ8cWfsFulR9MUs8k75GCQBupjYGGxIMgdI64IytlbZcZoN9PUtjw4r2c4Nv0AnZf3nL3lZVpairM9FK4hoLpCyPCb3IkwtPvuLrdIKoiIKKqIgIiICskeGtLnGwAJJPQAr1hrINbFJHe2Nrm33XFkEdj6iQYm6uNp2Ne0udb22cLH2Zq7BU8SH8J3nVrNItAtKHRv6RhJF/8LgLEK75zh6x7rvBAwVPEh/Cd50wVPEh/Cd50+c4ese67wT5zh6x7rvBBFmrJmOc10sWIBhtqXZ43Fot6eeY+GSlYKniQ/hO86g1UsMlRFI59mxB1jZ1y42ABFrWG33poatjjgDXvkLg5/rsdf1zb6oyQTsFTxIfwnedMFTxIfwnedPnOHrHuu8E+c4ese67wQMFTxIfwnedGzyMe1s2Eh5s17AQL2vYtJNthsb/AME+c4ese67wWN8uvcxrA7A1we55aQMswG32m9vgCgnqqoqoCIiAiIgIiICIiAiIgIiICIiAiIgIiICIiAiIgIiICIqILGwtDnPDQHOticBmbbLlXNaALAADcFW4S4QFVUuEuEBWyxNe0te0OadoIuD8FdcJcIKNYAAAAAMgBsCqlwlwgK2SMOaWuAIIsQdhCuuEuEFGtsAB0KtkuEuEGMwMOH0R6Ju32Hfb4lZEuEugqioqoCIiAiIgKiKheAbEjNBVFa6Ro2kD3lDIALki2+6G1yK0SAi4ItvuqhwOxBy3/qBpF8NKyOLFjkeDdoOQaQf1wroNF1evp4pbFpe0Eg9B6R23Ub5R/sjvvx/7jVs0FUREBUVUQEREBERAVEUSi0gyYvaMnMcWke42B9yaTaYioqooiIgIiICIiAiIgIiICIiAiIgIiICIiAoVQwPmaySxZhJDTsc6+dx02HR7fYpqhVswxCMxawEYs7WyIHT05hBk5BDwY+4PBOQQ8GPuDwUKzPso7zUsz7KO81XVZ7RN5BDwY+4PBOQQ8GPuDwUKzPso7zUsz7KO81NU7RN5BDwY+4PBOQQ8GPuDwUKzPso7zUsz7KO81NU7RFqmaqZ5EDHxgx5YGjN7msw3I2DN3xC2/IIODH3B4KA9kbhZ1I0jcS0jerrM+yjvNTVO0TeQQcGPuDwTkEPBj7g8FCsz7KO81LM+yjvNTVO0TeQQ8GPuDwTkEPBj7g8FCsz7KO81LM+yjvNTVO0TeQQ8GPuDwWGSFkckeqa1jnOsQ0WxNsb3A3ZZ+KwWZ9lHeaslPM1j2gU+DGcNwW7ic+m2RTVXtGxVVRVUUREQEREFFjYxpJIzN8z7lkVkTMIPtJPaiVcWA7QELRuCuRFWho3BWMY1pNunO38VkVgZ6ZdvAH5nxRK1/wAo/wBkd9+P/catotX8o/2R334/9xq2iKIiICj1FbFEQJJGsJ2Yja6kLkvld/fR/cP6reGPa6Y5MuuO3QfO1Nx4+8E+dqbjx94LgUK7+CfXm/kX47752puPH3gnztTcePvBcCieCfT+Rfjvvnan40feC44Vroql8sZ+u73OBOz3KEi3jxTFjPluWnoNBWsnjD2fEdIO4qSuD0VpJ1NJiGbDk5u8ez2ruYJmyMD2G7XC4K83Jh1r1cXJ3n/WRFRVXN1EREBERAREQEREBERAREQEREBERBRQ9ICxjfudhPudl+9hUxYK6MvheB61iW+8Zj8wEiWbiOitY8OaHDYQCPirl3ecREQEREBFDnq3MlbEALvw4PaLnHf3AX+IUxAREQEREBUgGKcf4GE/FxsPya7tVVfo4X1j+s+w9zfR/XF2rOX4awntMVVRVXJ3EREBERBRY4WkA36x/VZFjhcSDfrEfmiftdLI1jS5xDWgXJOwKN84s6GykbxE/wAFSutjgxeprM92LCcN/j+dlMRUT5xZ1JvwX+Cxu0ixrgXCUB1mtGrfmczstuWwUHSdHrxE0ta5okDnB2wgA9HTtGSIhabqdbTuYyOYuLmG2qf0PaT0bgp/zizqTfgv8FD0S6SOQ0rmAMjjDmuB2B0j7NtusB2LcIqH84s6k34L/BZaeqZJfCcxtBBBHvBzCzqFUW5TDh9az8X3LdP+rD+aCYuT+V399H9w/qusXJ/K3++j+4f1XXh/048/+GhVFVF7HhEREBESyAui+SckmJ7dsW33H2LTUNE6eQMb8TuC7mipGwxhjRsXDmzmtPRwYXfZJRUVV5XsEREBFREFUREBFREFUVpeAqawLFzxnq00vRWawJrAp5MPq6XorQ66qtyy/hFUVEVFVREQauAYQ5nUcW/DaPyIWVWVREczib4XtBBAJzFwdnsw9it5Szee47wXWX04ZT2yosXKWbz3HeCcpZvPcd4K7jOqyosXKWbz3HeCcpZvPcd4JuGqyFouDYXGw7lVYuUs3nuO8E5Szee47wTcNVlRYuUs3nuO8E5Szee47wTcNVlRYuUs3nuO8FTlLN57jvBNw1V8sgY1zjsaCewXUyjiLImNO0NF/f0/mtc94kwsbc4nNv6J2A3N7jcCPitusZ1144KqIsOgiIgIiIKKyN175WsSFerIwM7bz29KIrLG17S1wDmnIgi4Ki/NkfWmHunk8ymoioXzazrTfjyeZYG0sZlLMU2Q48m3p+stmozKYCQusegg36c7qzX7Zy3600XyofFQQcoBlMri1g+nkzF7ketuxdq28FFFIxr2PmLXAOB18mYIuPrLX/LDRcU9OHygkxuaG2cQPSe0HLpyW4oqRkETIo74GCzbm9huuVGmP5tZ1pvx5PMstPSsjvhGZ2kkucfe45lZ0QUUGu0VHO4OeMwLKeiFm2m/s5BuKr/ZyDcVuEWu1+s9cfjTf2cg3FP7OQbityidr9OuPxpv7OQbiuWdTF07o2C/pkD4Fegla3R2imxPfIc3OcT7rm63hyXHbnnxTLS/ROjW08YH1jtKnoqrnbt1k16giIooqKqIMFZMI4pJHGwY1zifcLrWaA0kXxNZNiEjWx4nPIu5z24rW2g+zbay2lVTNmjdG8Xa7Ii9rqE7Q7OUNmba+sMjw65udXgGHOzckGyUI6SHCk7WeZTVg5DDwY+4PBBmY64B2XC1tVphsc4hEbnHExuRAzfe1gdtgCTuC2bWgCwFgOgLUM0XIKvXl4BxG5BPpMsQ1mC1hYm9wej2oMRqHuhxhxD5Zi1tvqtEhaLf6Wk+8qVJJhc9xccEceee05ntsPzSPR1g5h9USF8ZBzbiJcR8CT8Csxo2ljmEEhxu65zPvPwXzuTHLtfTcqNo+qJYGvuHNDbl1vSLhf8A4FOUZ1ANYHjr4nXzucNhbcszaaxuC/4uJHYsdMvi7ViqG4DJf0RfOx6DbYsEGlI3SvbjyBaG+ieke5Z6KAxssSDmTl7ST/FZY4cL3uufSt8LCy93DLMJtiua+UGkJoZKpscj8XJ2yQtFsiC/GdmwBo27/atlTVbjHLVNLpI8P0bLj0g0ZvBO837BvU6egjkc5z23c6Mxk/4TtASShjcxkZBDGWs0EgEAWAIG0exdkWUlY2dgu3AJG4mtLhicwgelYHLami5HOis83cx72XPSGuIBPttZYKPRQp3l0di0RBjGm5cLEm2MnZmBbospVBTGKMNJu4lznHe5zi429lygrPI7E1jLBzgSScwALdHScwqambjD8P8AmqVbmYmnWtje29i4jMHaCCcxkOxYeVO+003Z/Wgz6mbjD8P+aaqbij8P+awcqd9ppuz+tOVO+003Z/Wgz6mbjD8P+aambjD8P+awcqd9ppuz+tOVO+003Z/WgjCulEz2Pka1ocWh+EWJwsOYv/jsthqpuMPw/wCagVYErC11RS7QfU6QQev7ApHKnfaabs/rQSNVNxh+H/NNVNxh+H/NR+VO+003Z/WnKnfaabs/rQSNVNxh+H/NU1U3GH4f81g5U77TTdn9acqd9ppuz+tBmD3se1ryHB9wCBYg2JsRfZYFSlBhc18jS6aN7hfC1lgBlmbXJJspyCqIiAiIgIiIKLFGA24JGZJWVWuYDtAPvCJVcQte+SBwOwqmAWtYW3WRrANgA9wQ9qh4OwhWMfd7h0C3b0/wVzYmg3DQD7ArrIe2s+Uf7I778f8AuNWzWs+Uf7I778f+41bNFVREQEREBERAREQUVURAREQEREBERAREQEREBUVUQUREQEVHOAFybDeVGdpGP6pMh/wC/wCez80EpFBdVyn1Y2tG97rnuty/NY3B7vXld7meiPyz/NamNYucT5ZmsF3uDRvcbfqo50iz6jXv+62w7xsFHZTsabhoxdbae05rItTBm8nwdUzO2BjPfd57MgO0rDI3IukleWgXOeEADbk235rMotScThH0Czn9voj4kX9w9q1MYxc6xU0DQC7AGl5vawyHQOz8yVmwDcOxVRdJHG1TANw7EwDcOxVRUUwDcOxMA3DsVVbrB0Z/dz/RBXANw7EwDcOxVDXnY233j/AXVRCelx/0iym4uqsLWjMgAe4K0Fp9VuL3Ny7dizthaM7C+85ntKyKba6owiJ+q1vvz/IeKuFKPrG/uAA/LP8ANZ0UXTA+mAb9G1oeCHNNukZi53dHuK2kEwkY142OF1CV1C/C98fQfTb2+kO2x/1LnnP264X9J6KiqubqIiICIiAqKqwVk+qikktfA1zrb7C6DMqqCzRzSLyl0jztOJwF/wDC0GwH/M1d81w9U993igmIofzXD1T33eKfNcPVPfd4oI/yj/ZHffj/ANxq2i5vSscTJ44sDDG7CXlxedV6WTnZ2s45DZYi+ea2VJTUszMcfpNuRcPdtBselBskUP5sh6p77vFPmyHqnvu8UEtFE+bIeqe+7xWN8WocxzC7A5wa5hcSM8gW32G9tmViUGwREQEREBERAREQEREBEVEFUVFhlrI2Gzni/Vvc9gzQZ1RQ3V5PqRuPtd6I/PP8lidJM7a9rPuC57XZfkr1rNykbFRn18QNseI7mAuPYFENO13r4n/fJI7uz8lkaABYCw3Ba6M3k+LnVrz6kRHtkcB+Quf0VjnSu9aS3sY0D8zc/orkWusYudYuTMvcjEd7yXEe4uvZZURaZEREQWvqYZDI8Nbdr9V6WIANwOu6427Nlr/BbBWSTNb6zgPYTmfcFKsJZAxpcdgz/kFGhaQCXes43d793wFh8FSSQyvDWtcWsN3XGG7vqj0t23sWURuO0ge7P8ytSs2UVpkAyvnuGZ7Asgp29N3e8/wGSyNaBkAAPYr2TqwDEdjT73Zfz/JXCFx2ut90fxKzIpurqMYgb0jF97P9Ve5gLS07CCD7iqoorU0NBM2RjpSDlif6X12tMbbDcWG/vC2yIki7ERFQREQFjnJbaQbWHFl0j6w7L/GyyIpSek9rgQCMwdhVyg6OfYOi6nq/dOzszHwU1cHol2qiIiiIiArJGBzS1wuCCCN4KvRBCYyojGFpZI0bC8lrre2wIJ9uSrjqeHD+I7yqYiCHjqeHD+I7ypjqeHD+I7yqYiCETUcOH8R3lWGhgqIYwzBCbFxvjcNrier7Vs0QQ8dTw4fxHeVMdTw4fxHeVTEQQ8dTw4fxHeVG08j3tdKWgMN2sZci9rXcTt25Cw+OVpiIKKqIgIiICIiAiIgIiIMFVO6MXbG+Q7mW/O5ChOq6h3/1GMfdxHtuAPzUupe4vZG12HEHEu6bC2Qv05hU5GeNL2jwQQSxzvXbUP8AfYDsaQFdGC0WbA9o9jWj+KmckPGl7R4JyQ8aXtHgtdmLhKi43cKXsHimN3Cl7B4qVyQ8aXtHgo+kIXshe6OWTGALZjePYnenji3G7hS9g8Uxu4UvYPFWUMmsc+N0sglZfE0HoxuaHC46cN1npWiUEslmsHFpvlmDY5EJ3p44sxu4UvYPFMbuFL2DxUnkh4svaPBOSHiy9o8E708cRsbuFL2DxVMbuFL2DxUrkh4svaPBOSHiy9o8E708cRsb+iGTsA/irmwTO6GMHtu49gsPzKy2dG9gxl7Xkts61wcJNwQPZsUtO1OkQxo8H15Hv9l8I/8Azb87rJqWxMcY4xcAkBoALjuupKw1UuCNz7Xwgmyy1rTXQ42tzikLjm42GZOZO1X4ncKTsHipIpXH1ppL9OGwHwFtiryQ8WXtHgtdqz0iLidwpOweKYncKTsHipXJDxZe0eCckPFl7R4J3p44i4ncKTsHimJ3Ck7B4qVyQ8WXvDwTkh4svaPBO9PHEXE7hSdg8UxO4UnYPFSuSHiy9o8FQ0h40veHgnenjiNidwpOweKYncKTsHio+jqrWuDJJJGSOxFrb7WjD6WbdhxAj2e262XIzxpe0eCd6eOIuJ3Ck7B4pidwpOweKlcjPGl7R4JyM8aXtHgnenjiLidwpOweKYncKTsHipXIzxpe0eCcjPGl7R4J3p44i4ncKTsHimJ3Ck7B4qVyM8aXtHgnIzxpe0eCd6eOIjC/WxuEUg2tdcC2E/HoIB7VtFDka6LC7WOc0uDS11jtNgQQNtyFMUt21JpVERRVEUDXO6xTXO6xQT0UDXO6xTXO6xQT0UDWu3lNc7rFBPRQNc7rFNc7rFBPRQNc7eU1zt5QT0UDXO6xTXO6xQT0UDWv3lNa/eUE9FA1zusU1zusUE9FA1zusU1zusUE9FA1zusU1zusUE9FA1zusU1zusUE9FA1zusU1zusUEqeAPtmQQbhw2hY+TP48nYzyrDrndYprndYoM3Jn8eTsZ5U5M/jydjPKsOud1imud1igzcmfx5OxnlTkz+PJ2M8qw653WKj1ekTEB6WbtmI2A2Zk7sx2hBnfooOeXule42btawj0SSCBhyPpHtWSKgczFaeT0nFxyZtP+laXSWkqmOIluKQkZ6tuHJ2xzXEnMWOXt6Fs4aiQtu423WdfLoN7IJXJn8eTsZ5U5M/jydjPKsOud1imud1igzcmfx5OxnlTkz+PJ2M8qw653WKa53WKCRHS2cHOe57hsLrZe4AAfFZ1A1zusU1zusUGwVrmgggi4ORB6VB1zusU1zusUGUUjhk2aQAbB6Jt8SLqvJn8eTsZ5Vh1zusU1zusUGbkz+PJ2M8qcmfx5OxnlWHXO6xTXO6xQZuTP48nYzypyZ/Hk7GeVYdc7rFNc7rFBm5M/jydjPKnJn8eTsZ5Vh1zusU1zusUFzqBxe1+vkxNDmjJmwkE/V/whZOTP48nYzyrDrndYprndYoM3Jn8eTsZ5U5M/jydjPKsOud1imud1igzcmfx5OxnlTkz+PJ2M8qw653WKa53WKDNyZ/Hk7GeVOTP48nYzyrDrndYprndYoM7KT0g573PLcxitYHfYAZqStfrndYprndYoNgi1+ud1imud1igsWp0g+cyExRSDVsfZwIs4kNsW32nbkR0Lfapu5NU3cg5aDl7sON8jLWBsxmfpyAuNxtwhh3Z7OhVZJpA4sV2/RCwDGmzsDc8/rYsWWzLYuo1Tdyapu5BzNZHUSU1Pia4vEt33bf0cLwC5rS2/1cslkvVNsI2nAIy4ANAOINLdXZxJF3EOzJ2Wuui1Tdyapu5By8Lq8tBc6QFtz6jPT+kFg7LqE7LbFKpH1dqgOF3C5hMgDWk52b6OdvVzudu1b7VN3Jqm7kHO6UZVGOne1t5o7vc1h9Euw+r7jmo9DDWQtZGMZDXG17EP8ApXYjI45gYLEWXVapu5NU3cg5C2kPSc3WB7hGHktYbEB5IjbsLcWEXOdjt6VLlZWm9pHtJc/JrGWAEd22uDtflnddJqm7k1TdyDmdLUlRKWuY3MQHEMx6RIuGkOFn7bXusMlLVa0lusdG+ZziHGxbaIgG243zG8BdZqm7k1TdyDkYYK6NhAMl2xRBr7Bzj6RLgQcsQva9jkAuhpnOMbC8WeWjEMsjbPYpuqbuTVN3II6KRqm7k1TdyCOikapu5NU3cgjopGqbuTVN3II6KRqm7k1TdyCOikapu5NU3cgjopGqbuTVN3IIy1OlqxsckfoudiIjdZmINuWuub5Wtf8AJb/VN3Kx9MxxBIva42m2YsculBoj6D2W9NxJOqe8FzNtsIGz1sz0BbOniwRsZe+FobffYWUtlOxvqtA92Su1TdyCOikapu5NU3cgjopGqbuTVN3II6KRqm7k1TdyCOikapu5NU3cgjopGqbuTVN3II6KRqm7k1TdyCOikapu5NU3cgjopGqbuTVN3II6KRqm7k1TdyCOikapu5NU3cgjopGqbuTVN3II6KRqm7k1TdyCOikapu5NU3cgjopGqbuTVN3IL0REBERAREQEREBERAREQEREBERAREQEREBERAREQEREBERAREQEREBERAREQEREBERAREQEREBERAREQEREBERAREQEREBERAREQEXmnOHWcOn7r/OnOHWcOn7r/Og9LReac4dZw6fuv86c4dZw6fuv86D0tF5pzh1nDp+6/wA6c4dZw6fuv86D0tF5pzh1nDp+6/zpzh1nDp+6/wA6D0tF5pzh1nDp+6/zpzh1nDp+6/zoPS0XmnOHWcOn7r/OnOHWcOn7r/Og9LReac4dZw6fuv8AOnOHWcOn7r/Og9LReac4dZw6fuv86c4dZw6fuv8AOg9LReac4dZw6fuv86c4dZw6fuv86D0tF5pzh1nDp+6/zpzh1nDp+6/zoPS0XmnOHWcOn7r/ADpzh1nDp+6/zoPS0XmnOHWcOn7r/OnOHWcOn7r/ADoPS0XmnOHWcOn7r/OnOHWcOn7r/Og9LReac4dZw6fuv86c4dZw6fuv86D0tF5pzh1nDp+6/wA6c4dZw6fuv86D0tF5pzh1nDp+6/zpzh1nDp+6/wA6D0tF5pzh1nDp+6/zpzh1nDp+6/zoPS0XmnOHWcOn7r/OnOHWcOn7r/Og9LReac4dZw6fuv8AOnOHWcOn7r/Og9LReac4dZw6fuv86c4dZw6fuv8AOg9LReac4dZw6fuv86c4dZw6fuv86D0tF5pzh1nDp+6/zpzh1nDp+6/zoPS0XmnOHWcOn7r/ADpzh1nDp+6/zoPS0XmnOHWcOn7r/OnOHWcOn7r/ADoPS0XmnOHWcOn7r/OnOHWcOn7r/Og9LReac4dZw6fuv86c4dZw6fuv86D0tF5pzh1nDp+6/wA6c4dZw6fuv86D0tF5pzh1nDp+6/zpzh1nDp+6/wA6D0tF5pzh1nDp+6/zpzh1nDp+6/zoPS0XmnOHWcOn7r/OnOHWcOn7r/Og5JERAREQEREBERAREQEREBERAREQEREBERAREQEREBERAREQEREBERAREQEREBERAREQEREBERAREQEREBERAREQEREBERAREQEREBERAREQEREBERAREQEREBERAREQEREBERAREQEREBERAREQEREBERAREQEREBERAREQEREBERAREQEREBERAREQEREBERAREQEREBERAREQEREBERAREQEREBERAREQEREBERAREQEREBERAREQEREBERAREQEREBERAREQEREBERAREQEREBERAREQEREBERAREQEREH//2Q==\n"
              }
            ],
            "_view_module": "@jupyter-widgets/output",
            "_model_module_version": "1.0.0",
            "_view_count": null,
            "_view_module_version": "1.0.0",
            "layout": "IPY_MODEL_bfd7f5b361d94073b71a52f53595c675",
            "_model_module": "@jupyter-widgets/output"
          }
        },
        "6507b5b0474f4267af3d060209eb0400": {
          "model_module": "@jupyter-widgets/output",
          "model_name": "OutputModel",
          "model_module_version": "1.0.0",
          "state": {
            "_view_name": "OutputView",
            "msg_id": "",
            "_dom_classes": [],
            "_model_name": "OutputModel",
            "outputs": [
              {
                "output_type": "stream",
                "metadata": {
                  "tags": []
                },
                "text": "Video available at https://www.bilibili.com/video/BV1Ng41177az\n",
                "stream": "stdout"
              },
              {
                "output_type": "display_data",
                "metadata": {
                  "tags": []
                },
                "text/html": "\n        <iframe\n            width=\"854\"\n            height=\"480\"\n            src=\"https://player.bilibili.com/player.html?bvid=BV1Ng41177az&page=1?fs=1\"\n            frameborder=\"0\"\n            allowfullscreen\n        ></iframe>\n        ",
                "text/plain": "<__main__.BiliVideo at 0x7f643f902590>"
              }
            ],
            "_view_module": "@jupyter-widgets/output",
            "_model_module_version": "1.0.0",
            "_view_count": null,
            "_view_module_version": "1.0.0",
            "layout": "IPY_MODEL_5bdaba6aa44747579e692e28f3482cc3",
            "_model_module": "@jupyter-widgets/output"
          }
        },
        "bfd7f5b361d94073b71a52f53595c675": {
          "model_module": "@jupyter-widgets/base",
          "model_name": "LayoutModel",
          "model_module_version": "1.2.0",
          "state": {
            "_view_name": "LayoutView",
            "grid_template_rows": null,
            "right": null,
            "justify_content": null,
            "_view_module": "@jupyter-widgets/base",
            "overflow": null,
            "_model_module_version": "1.2.0",
            "_view_count": null,
            "flex_flow": null,
            "width": null,
            "min_width": null,
            "border": null,
            "align_items": null,
            "bottom": null,
            "_model_module": "@jupyter-widgets/base",
            "top": null,
            "grid_column": null,
            "overflow_y": null,
            "overflow_x": null,
            "grid_auto_flow": null,
            "grid_area": null,
            "grid_template_columns": null,
            "flex": null,
            "_model_name": "LayoutModel",
            "justify_items": null,
            "grid_row": null,
            "max_height": null,
            "align_content": null,
            "visibility": null,
            "align_self": null,
            "height": null,
            "min_height": null,
            "padding": null,
            "grid_auto_rows": null,
            "grid_gap": null,
            "max_width": null,
            "order": null,
            "_view_module_version": "1.2.0",
            "grid_template_areas": null,
            "object_position": null,
            "object_fit": null,
            "grid_auto_columns": null,
            "margin": null,
            "display": null,
            "left": null
          }
        },
        "5bdaba6aa44747579e692e28f3482cc3": {
          "model_module": "@jupyter-widgets/base",
          "model_name": "LayoutModel",
          "model_module_version": "1.2.0",
          "state": {
            "_view_name": "LayoutView",
            "grid_template_rows": null,
            "right": null,
            "justify_content": null,
            "_view_module": "@jupyter-widgets/base",
            "overflow": null,
            "_model_module_version": "1.2.0",
            "_view_count": null,
            "flex_flow": null,
            "width": null,
            "min_width": null,
            "border": null,
            "align_items": null,
            "bottom": null,
            "_model_module": "@jupyter-widgets/base",
            "top": null,
            "grid_column": null,
            "overflow_y": null,
            "overflow_x": null,
            "grid_auto_flow": null,
            "grid_area": null,
            "grid_template_columns": null,
            "flex": null,
            "_model_name": "LayoutModel",
            "justify_items": null,
            "grid_row": null,
            "max_height": null,
            "align_content": null,
            "visibility": null,
            "align_self": null,
            "height": null,
            "min_height": null,
            "padding": null,
            "grid_auto_rows": null,
            "grid_gap": null,
            "max_width": null,
            "order": null,
            "_view_module_version": "1.2.0",
            "grid_template_areas": null,
            "object_position": null,
            "object_fit": null,
            "grid_auto_columns": null,
            "margin": null,
            "display": null,
            "left": null
          }
        },
        "26cdca55f9da495c8f2c9b7247adf190": {
          "model_module": "@jupyter-widgets/controls",
          "model_name": "TabModel",
          "model_module_version": "1.5.0",
          "state": {
            "_view_name": "TabView",
            "_dom_classes": [],
            "_titles": {
              "0": "Youtube",
              "1": "Bilibili"
            },
            "_model_name": "TabModel",
            "_view_module": "@jupyter-widgets/controls",
            "selected_index": 0,
            "_model_module_version": "1.5.0",
            "_view_count": null,
            "_view_module_version": "1.5.0",
            "box_style": "",
            "layout": "IPY_MODEL_83f18ee75dc547c998091875e6ace4ff",
            "_model_module": "@jupyter-widgets/controls",
            "children": [
              "IPY_MODEL_a5ab4338575540499113ebdda4cb8844",
              "IPY_MODEL_ee1bc454571741f8ae39e5f730021189"
            ]
          }
        },
        "83f18ee75dc547c998091875e6ace4ff": {
          "model_module": "@jupyter-widgets/base",
          "model_name": "LayoutModel",
          "model_module_version": "1.2.0",
          "state": {
            "_view_name": "LayoutView",
            "grid_template_rows": null,
            "right": null,
            "justify_content": null,
            "_view_module": "@jupyter-widgets/base",
            "overflow": null,
            "_model_module_version": "1.2.0",
            "_view_count": null,
            "flex_flow": null,
            "width": null,
            "min_width": null,
            "border": null,
            "align_items": null,
            "bottom": null,
            "_model_module": "@jupyter-widgets/base",
            "top": null,
            "grid_column": null,
            "overflow_y": null,
            "overflow_x": null,
            "grid_auto_flow": null,
            "grid_area": null,
            "grid_template_columns": null,
            "flex": null,
            "_model_name": "LayoutModel",
            "justify_items": null,
            "grid_row": null,
            "max_height": null,
            "align_content": null,
            "visibility": null,
            "align_self": null,
            "height": null,
            "min_height": null,
            "padding": null,
            "grid_auto_rows": null,
            "grid_gap": null,
            "max_width": null,
            "order": null,
            "_view_module_version": "1.2.0",
            "grid_template_areas": null,
            "object_position": null,
            "object_fit": null,
            "grid_auto_columns": null,
            "margin": null,
            "display": null,
            "left": null
          }
        },
        "a5ab4338575540499113ebdda4cb8844": {
          "model_module": "@jupyter-widgets/output",
          "model_name": "OutputModel",
          "model_module_version": "1.0.0",
          "state": {
            "_view_name": "OutputView",
            "msg_id": "",
            "_dom_classes": [],
            "_model_name": "OutputModel",
            "outputs": [
              {
                "output_type": "stream",
                "metadata": {
                  "tags": []
                },
                "text": "Video available at https://youtube.com/watch?v=TpgJwqB4i1c\n",
                "stream": "stdout"
              },
              {
                "output_type": "display_data",
                "metadata": {
                  "tags": []
                },
                "text/html": "\n        <iframe\n            width=\"854\"\n            height=\"480\"\n            src=\"https://www.youtube.com/embed/TpgJwqB4i1c?fs=1&rel=0\"\n            frameborder=\"0\"\n            allowfullscreen\n        ></iframe>\n        ",
                "text/plain": "<IPython.lib.display.YouTubeVideo at 0x7f63406b4610>",
                "image/jpeg": "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\n"
              }
            ],
            "_view_module": "@jupyter-widgets/output",
            "_model_module_version": "1.0.0",
            "_view_count": null,
            "_view_module_version": "1.0.0",
            "layout": "IPY_MODEL_25c06847f8f441f99c407e380956dbce",
            "_model_module": "@jupyter-widgets/output"
          }
        },
        "ee1bc454571741f8ae39e5f730021189": {
          "model_module": "@jupyter-widgets/output",
          "model_name": "OutputModel",
          "model_module_version": "1.0.0",
          "state": {
            "_view_name": "OutputView",
            "msg_id": "",
            "_dom_classes": [],
            "_model_name": "OutputModel",
            "outputs": [
              {
                "output_type": "stream",
                "metadata": {
                  "tags": []
                },
                "text": "Video available at https://www.bilibili.com/video/BV1X64y1x7BA\n",
                "stream": "stdout"
              },
              {
                "output_type": "display_data",
                "metadata": {
                  "tags": []
                },
                "text/html": "\n        <iframe\n            width=\"854\"\n            height=\"480\"\n            src=\"https://player.bilibili.com/player.html?bvid=BV1X64y1x7BA&page=1?fs=1\"\n            frameborder=\"0\"\n            allowfullscreen\n        ></iframe>\n        ",
                "text/plain": "<__main__.BiliVideo at 0x7f63f0103b10>"
              }
            ],
            "_view_module": "@jupyter-widgets/output",
            "_model_module_version": "1.0.0",
            "_view_count": null,
            "_view_module_version": "1.0.0",
            "layout": "IPY_MODEL_bf450d41125f4e028b48a852a00aabd7",
            "_model_module": "@jupyter-widgets/output"
          }
        },
        "25c06847f8f441f99c407e380956dbce": {
          "model_module": "@jupyter-widgets/base",
          "model_name": "LayoutModel",
          "model_module_version": "1.2.0",
          "state": {
            "_view_name": "LayoutView",
            "grid_template_rows": null,
            "right": null,
            "justify_content": null,
            "_view_module": "@jupyter-widgets/base",
            "overflow": null,
            "_model_module_version": "1.2.0",
            "_view_count": null,
            "flex_flow": null,
            "width": null,
            "min_width": null,
            "border": null,
            "align_items": null,
            "bottom": null,
            "_model_module": "@jupyter-widgets/base",
            "top": null,
            "grid_column": null,
            "overflow_y": null,
            "overflow_x": null,
            "grid_auto_flow": null,
            "grid_area": null,
            "grid_template_columns": null,
            "flex": null,
            "_model_name": "LayoutModel",
            "justify_items": null,
            "grid_row": null,
            "max_height": null,
            "align_content": null,
            "visibility": null,
            "align_self": null,
            "height": null,
            "min_height": null,
            "padding": null,
            "grid_auto_rows": null,
            "grid_gap": null,
            "max_width": null,
            "order": null,
            "_view_module_version": "1.2.0",
            "grid_template_areas": null,
            "object_position": null,
            "object_fit": null,
            "grid_auto_columns": null,
            "margin": null,
            "display": null,
            "left": null
          }
        },
        "bf450d41125f4e028b48a852a00aabd7": {
          "model_module": "@jupyter-widgets/base",
          "model_name": "LayoutModel",
          "model_module_version": "1.2.0",
          "state": {
            "_view_name": "LayoutView",
            "grid_template_rows": null,
            "right": null,
            "justify_content": null,
            "_view_module": "@jupyter-widgets/base",
            "overflow": null,
            "_model_module_version": "1.2.0",
            "_view_count": null,
            "flex_flow": null,
            "width": null,
            "min_width": null,
            "border": null,
            "align_items": null,
            "bottom": null,
            "_model_module": "@jupyter-widgets/base",
            "top": null,
            "grid_column": null,
            "overflow_y": null,
            "overflow_x": null,
            "grid_auto_flow": null,
            "grid_area": null,
            "grid_template_columns": null,
            "flex": null,
            "_model_name": "LayoutModel",
            "justify_items": null,
            "grid_row": null,
            "max_height": null,
            "align_content": null,
            "visibility": null,
            "align_self": null,
            "height": null,
            "min_height": null,
            "padding": null,
            "grid_auto_rows": null,
            "grid_gap": null,
            "max_width": null,
            "order": null,
            "_view_module_version": "1.2.0",
            "grid_template_areas": null,
            "object_position": null,
            "object_fit": null,
            "grid_auto_columns": null,
            "margin": null,
            "display": null,
            "left": null
          }
        },
        "d97fa9e3bb8447caa3da3a1c1ffc37b4": {
          "model_module": "@jupyter-widgets/controls",
          "model_name": "TabModel",
          "model_module_version": "1.5.0",
          "state": {
            "_view_name": "TabView",
            "_dom_classes": [],
            "_titles": {
              "0": "Youtube",
              "1": "Bilibili"
            },
            "_model_name": "TabModel",
            "_view_module": "@jupyter-widgets/controls",
            "selected_index": 0,
            "_model_module_version": "1.5.0",
            "_view_count": null,
            "_view_module_version": "1.5.0",
            "box_style": "",
            "layout": "IPY_MODEL_00a593eb3a264b98874a010928471f70",
            "_model_module": "@jupyter-widgets/controls",
            "children": [
              "IPY_MODEL_c3a2a79ec09144379d4f1c70b49caf4c",
              "IPY_MODEL_85f6fce32f654ed7895706ffc7d9f05c"
            ]
          }
        },
        "00a593eb3a264b98874a010928471f70": {
          "model_module": "@jupyter-widgets/base",
          "model_name": "LayoutModel",
          "model_module_version": "1.2.0",
          "state": {
            "_view_name": "LayoutView",
            "grid_template_rows": null,
            "right": null,
            "justify_content": null,
            "_view_module": "@jupyter-widgets/base",
            "overflow": null,
            "_model_module_version": "1.2.0",
            "_view_count": null,
            "flex_flow": null,
            "width": null,
            "min_width": null,
            "border": null,
            "align_items": null,
            "bottom": null,
            "_model_module": "@jupyter-widgets/base",
            "top": null,
            "grid_column": null,
            "overflow_y": null,
            "overflow_x": null,
            "grid_auto_flow": null,
            "grid_area": null,
            "grid_template_columns": null,
            "flex": null,
            "_model_name": "LayoutModel",
            "justify_items": null,
            "grid_row": null,
            "max_height": null,
            "align_content": null,
            "visibility": null,
            "align_self": null,
            "height": null,
            "min_height": null,
            "padding": null,
            "grid_auto_rows": null,
            "grid_gap": null,
            "max_width": null,
            "order": null,
            "_view_module_version": "1.2.0",
            "grid_template_areas": null,
            "object_position": null,
            "object_fit": null,
            "grid_auto_columns": null,
            "margin": null,
            "display": null,
            "left": null
          }
        },
        "c3a2a79ec09144379d4f1c70b49caf4c": {
          "model_module": "@jupyter-widgets/output",
          "model_name": "OutputModel",
          "model_module_version": "1.0.0",
          "state": {
            "_view_name": "OutputView",
            "msg_id": "",
            "_dom_classes": [],
            "_model_name": "OutputModel",
            "outputs": [
              {
                "output_type": "stream",
                "metadata": {
                  "tags": []
                },
                "text": "Video available at https://youtube.com/watch?v=qC7O-2sXLAU\n",
                "stream": "stdout"
              },
              {
                "output_type": "display_data",
                "metadata": {
                  "tags": []
                },
                "text/html": "\n        <iframe\n            width=\"854\"\n            height=\"480\"\n            src=\"https://www.youtube.com/embed/qC7O-2sXLAU?fs=1&rel=0\"\n            frameborder=\"0\"\n            allowfullscreen\n        ></iframe>\n        ",
                "text/plain": "<IPython.lib.display.YouTubeVideo at 0x7f63f01345d0>",
                "image/jpeg": "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\n"
              }
            ],
            "_view_module": "@jupyter-widgets/output",
            "_model_module_version": "1.0.0",
            "_view_count": null,
            "_view_module_version": "1.0.0",
            "layout": "IPY_MODEL_af7e39a370004ca294d1d5b20197c14c",
            "_model_module": "@jupyter-widgets/output"
          }
        },
        "85f6fce32f654ed7895706ffc7d9f05c": {
          "model_module": "@jupyter-widgets/output",
          "model_name": "OutputModel",
          "model_module_version": "1.0.0",
          "state": {
            "_view_name": "OutputView",
            "msg_id": "",
            "_dom_classes": [],
            "_model_name": "OutputModel",
            "outputs": [
              {
                "output_type": "stream",
                "metadata": {
                  "tags": []
                },
                "text": "Video available at https://www.bilibili.com/video/BV1Zq4y1X7kj\n",
                "stream": "stdout"
              },
              {
                "output_type": "display_data",
                "metadata": {
                  "tags": []
                },
                "text/html": "\n        <iframe\n            width=\"854\"\n            height=\"480\"\n            src=\"https://player.bilibili.com/player.html?bvid=BV1Zq4y1X7kj&page=1?fs=1\"\n            frameborder=\"0\"\n            allowfullscreen\n        ></iframe>\n        ",
                "text/plain": "<__main__.BiliVideo at 0x7f63f0134c50>"
              }
            ],
            "_view_module": "@jupyter-widgets/output",
            "_model_module_version": "1.0.0",
            "_view_count": null,
            "_view_module_version": "1.0.0",
            "layout": "IPY_MODEL_0427eb3bd63244148d1a8993428d0a37",
            "_model_module": "@jupyter-widgets/output"
          }
        },
        "af7e39a370004ca294d1d5b20197c14c": {
          "model_module": "@jupyter-widgets/base",
          "model_name": "LayoutModel",
          "model_module_version": "1.2.0",
          "state": {
            "_view_name": "LayoutView",
            "grid_template_rows": null,
            "right": null,
            "justify_content": null,
            "_view_module": "@jupyter-widgets/base",
            "overflow": null,
            "_model_module_version": "1.2.0",
            "_view_count": null,
            "flex_flow": null,
            "width": null,
            "min_width": null,
            "border": null,
            "align_items": null,
            "bottom": null,
            "_model_module": "@jupyter-widgets/base",
            "top": null,
            "grid_column": null,
            "overflow_y": null,
            "overflow_x": null,
            "grid_auto_flow": null,
            "grid_area": null,
            "grid_template_columns": null,
            "flex": null,
            "_model_name": "LayoutModel",
            "justify_items": null,
            "grid_row": null,
            "max_height": null,
            "align_content": null,
            "visibility": null,
            "align_self": null,
            "height": null,
            "min_height": null,
            "padding": null,
            "grid_auto_rows": null,
            "grid_gap": null,
            "max_width": null,
            "order": null,
            "_view_module_version": "1.2.0",
            "grid_template_areas": null,
            "object_position": null,
            "object_fit": null,
            "grid_auto_columns": null,
            "margin": null,
            "display": null,
            "left": null
          }
        },
        "0427eb3bd63244148d1a8993428d0a37": {
          "model_module": "@jupyter-widgets/base",
          "model_name": "LayoutModel",
          "model_module_version": "1.2.0",
          "state": {
            "_view_name": "LayoutView",
            "grid_template_rows": null,
            "right": null,
            "justify_content": null,
            "_view_module": "@jupyter-widgets/base",
            "overflow": null,
            "_model_module_version": "1.2.0",
            "_view_count": null,
            "flex_flow": null,
            "width": null,
            "min_width": null,
            "border": null,
            "align_items": null,
            "bottom": null,
            "_model_module": "@jupyter-widgets/base",
            "top": null,
            "grid_column": null,
            "overflow_y": null,
            "overflow_x": null,
            "grid_auto_flow": null,
            "grid_area": null,
            "grid_template_columns": null,
            "flex": null,
            "_model_name": "LayoutModel",
            "justify_items": null,
            "grid_row": null,
            "max_height": null,
            "align_content": null,
            "visibility": null,
            "align_self": null,
            "height": null,
            "min_height": null,
            "padding": null,
            "grid_auto_rows": null,
            "grid_gap": null,
            "max_width": null,
            "order": null,
            "_view_module_version": "1.2.0",
            "grid_template_areas": null,
            "object_position": null,
            "object_fit": null,
            "grid_auto_columns": null,
            "margin": null,
            "display": null,
            "left": null
          }
        },
        "26d6f5f56ce745d19feb147070fca714": {
          "model_module": "@jupyter-widgets/controls",
          "model_name": "TabModel",
          "model_module_version": "1.5.0",
          "state": {
            "_view_name": "TabView",
            "_dom_classes": [],
            "_titles": {
              "0": "Youtube",
              "1": "Bilibili"
            },
            "_model_name": "TabModel",
            "_view_module": "@jupyter-widgets/controls",
            "selected_index": 0,
            "_model_module_version": "1.5.0",
            "_view_count": null,
            "_view_module_version": "1.5.0",
            "box_style": "",
            "layout": "IPY_MODEL_5e11be222b07405c8b3194abaeb0e983",
            "_model_module": "@jupyter-widgets/controls",
            "children": [
              "IPY_MODEL_7336cf9f2ad34138979609332c2c7dd8",
              "IPY_MODEL_77e15b93b45a433697fe63e9aa09b146"
            ]
          }
        },
        "5e11be222b07405c8b3194abaeb0e983": {
          "model_module": "@jupyter-widgets/base",
          "model_name": "LayoutModel",
          "model_module_version": "1.2.0",
          "state": {
            "_view_name": "LayoutView",
            "grid_template_rows": null,
            "right": null,
            "justify_content": null,
            "_view_module": "@jupyter-widgets/base",
            "overflow": null,
            "_model_module_version": "1.2.0",
            "_view_count": null,
            "flex_flow": null,
            "width": null,
            "min_width": null,
            "border": null,
            "align_items": null,
            "bottom": null,
            "_model_module": "@jupyter-widgets/base",
            "top": null,
            "grid_column": null,
            "overflow_y": null,
            "overflow_x": null,
            "grid_auto_flow": null,
            "grid_area": null,
            "grid_template_columns": null,
            "flex": null,
            "_model_name": "LayoutModel",
            "justify_items": null,
            "grid_row": null,
            "max_height": null,
            "align_content": null,
            "visibility": null,
            "align_self": null,
            "height": null,
            "min_height": null,
            "padding": null,
            "grid_auto_rows": null,
            "grid_gap": null,
            "max_width": null,
            "order": null,
            "_view_module_version": "1.2.0",
            "grid_template_areas": null,
            "object_position": null,
            "object_fit": null,
            "grid_auto_columns": null,
            "margin": null,
            "display": null,
            "left": null
          }
        },
        "7336cf9f2ad34138979609332c2c7dd8": {
          "model_module": "@jupyter-widgets/output",
          "model_name": "OutputModel",
          "model_module_version": "1.0.0",
          "state": {
            "_view_name": "OutputView",
            "msg_id": "",
            "_dom_classes": [],
            "_model_name": "OutputModel",
            "outputs": [
              {
                "output_type": "stream",
                "metadata": {
                  "tags": []
                },
                "text": "Video available at https://youtube.com/watch?v=q-hf7mnZsXo\n",
                "stream": "stdout"
              },
              {
                "output_type": "display_data",
                "metadata": {
                  "tags": []
                },
                "text/html": "\n        <iframe\n            width=\"854\"\n            height=\"480\"\n            src=\"https://www.youtube.com/embed/q-hf7mnZsXo?fs=1&rel=0\"\n            frameborder=\"0\"\n            allowfullscreen\n        ></iframe>\n        ",
                "text/plain": "<IPython.lib.display.YouTubeVideo at 0x7f6432d81c50>",
                "image/jpeg": "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\n"
              }
            ],
            "_view_module": "@jupyter-widgets/output",
            "_model_module_version": "1.0.0",
            "_view_count": null,
            "_view_module_version": "1.0.0",
            "layout": "IPY_MODEL_4708bc3b14b1438681e613bfad23b061",
            "_model_module": "@jupyter-widgets/output"
          }
        },
        "77e15b93b45a433697fe63e9aa09b146": {
          "model_module": "@jupyter-widgets/output",
          "model_name": "OutputModel",
          "model_module_version": "1.0.0",
          "state": {
            "_view_name": "OutputView",
            "msg_id": "",
            "_dom_classes": [],
            "_model_name": "OutputModel",
            "outputs": [
              {
                "output_type": "stream",
                "metadata": {
                  "tags": []
                },
                "text": "Video available at https://www.bilibili.com/video/BV1WM4y1N7P7\n",
                "stream": "stdout"
              },
              {
                "output_type": "display_data",
                "metadata": {
                  "tags": []
                },
                "text/html": "\n        <iframe\n            width=\"854\"\n            height=\"480\"\n            src=\"https://player.bilibili.com/player.html?bvid=BV1WM4y1N7P7&page=1?fs=1\"\n            frameborder=\"0\"\n            allowfullscreen\n        ></iframe>\n        ",
                "text/plain": "<__main__.BiliVideo at 0x7f633fe08c50>"
              }
            ],
            "_view_module": "@jupyter-widgets/output",
            "_model_module_version": "1.0.0",
            "_view_count": null,
            "_view_module_version": "1.0.0",
            "layout": "IPY_MODEL_e4b3e8fa9a7745b0b66fbbd3e65233dd",
            "_model_module": "@jupyter-widgets/output"
          }
        },
        "4708bc3b14b1438681e613bfad23b061": {
          "model_module": "@jupyter-widgets/base",
          "model_name": "LayoutModel",
          "model_module_version": "1.2.0",
          "state": {
            "_view_name": "LayoutView",
            "grid_template_rows": null,
            "right": null,
            "justify_content": null,
            "_view_module": "@jupyter-widgets/base",
            "overflow": null,
            "_model_module_version": "1.2.0",
            "_view_count": null,
            "flex_flow": null,
            "width": null,
            "min_width": null,
            "border": null,
            "align_items": null,
            "bottom": null,
            "_model_module": "@jupyter-widgets/base",
            "top": null,
            "grid_column": null,
            "overflow_y": null,
            "overflow_x": null,
            "grid_auto_flow": null,
            "grid_area": null,
            "grid_template_columns": null,
            "flex": null,
            "_model_name": "LayoutModel",
            "justify_items": null,
            "grid_row": null,
            "max_height": null,
            "align_content": null,
            "visibility": null,
            "align_self": null,
            "height": null,
            "min_height": null,
            "padding": null,
            "grid_auto_rows": null,
            "grid_gap": null,
            "max_width": null,
            "order": null,
            "_view_module_version": "1.2.0",
            "grid_template_areas": null,
            "object_position": null,
            "object_fit": null,
            "grid_auto_columns": null,
            "margin": null,
            "display": null,
            "left": null
          }
        },
        "e4b3e8fa9a7745b0b66fbbd3e65233dd": {
          "model_module": "@jupyter-widgets/base",
          "model_name": "LayoutModel",
          "model_module_version": "1.2.0",
          "state": {
            "_view_name": "LayoutView",
            "grid_template_rows": null,
            "right": null,
            "justify_content": null,
            "_view_module": "@jupyter-widgets/base",
            "overflow": null,
            "_model_module_version": "1.2.0",
            "_view_count": null,
            "flex_flow": null,
            "width": null,
            "min_width": null,
            "border": null,
            "align_items": null,
            "bottom": null,
            "_model_module": "@jupyter-widgets/base",
            "top": null,
            "grid_column": null,
            "overflow_y": null,
            "overflow_x": null,
            "grid_auto_flow": null,
            "grid_area": null,
            "grid_template_columns": null,
            "flex": null,
            "_model_name": "LayoutModel",
            "justify_items": null,
            "grid_row": null,
            "max_height": null,
            "align_content": null,
            "visibility": null,
            "align_self": null,
            "height": null,
            "min_height": null,
            "padding": null,
            "grid_auto_rows": null,
            "grid_gap": null,
            "max_width": null,
            "order": null,
            "_view_module_version": "1.2.0",
            "grid_template_areas": null,
            "object_position": null,
            "object_fit": null,
            "grid_auto_columns": null,
            "margin": null,
            "display": null,
            "left": null
          }
        },
        "ebf8ac10bb544aa3a2bff44c9fa461bb": {
          "model_module": "@jupyter-widgets/controls",
          "model_name": "TabModel",
          "model_module_version": "1.5.0",
          "state": {
            "_view_name": "TabView",
            "_dom_classes": [],
            "_titles": {
              "0": "Youtube",
              "1": "Bilibili"
            },
            "_model_name": "TabModel",
            "_view_module": "@jupyter-widgets/controls",
            "selected_index": 0,
            "_model_module_version": "1.5.0",
            "_view_count": null,
            "_view_module_version": "1.5.0",
            "box_style": "",
            "layout": "IPY_MODEL_727e36f4a2a34ffaa8e3bd4dee1fa5f6",
            "_model_module": "@jupyter-widgets/controls",
            "children": [
              "IPY_MODEL_d7085fbede1a48dab23db8086204eb19",
              "IPY_MODEL_bcacd2f146d8471d9734b4a5a7391576"
            ]
          }
        },
        "727e36f4a2a34ffaa8e3bd4dee1fa5f6": {
          "model_module": "@jupyter-widgets/base",
          "model_name": "LayoutModel",
          "model_module_version": "1.2.0",
          "state": {
            "_view_name": "LayoutView",
            "grid_template_rows": null,
            "right": null,
            "justify_content": null,
            "_view_module": "@jupyter-widgets/base",
            "overflow": null,
            "_model_module_version": "1.2.0",
            "_view_count": null,
            "flex_flow": null,
            "width": null,
            "min_width": null,
            "border": null,
            "align_items": null,
            "bottom": null,
            "_model_module": "@jupyter-widgets/base",
            "top": null,
            "grid_column": null,
            "overflow_y": null,
            "overflow_x": null,
            "grid_auto_flow": null,
            "grid_area": null,
            "grid_template_columns": null,
            "flex": null,
            "_model_name": "LayoutModel",
            "justify_items": null,
            "grid_row": null,
            "max_height": null,
            "align_content": null,
            "visibility": null,
            "align_self": null,
            "height": null,
            "min_height": null,
            "padding": null,
            "grid_auto_rows": null,
            "grid_gap": null,
            "max_width": null,
            "order": null,
            "_view_module_version": "1.2.0",
            "grid_template_areas": null,
            "object_position": null,
            "object_fit": null,
            "grid_auto_columns": null,
            "margin": null,
            "display": null,
            "left": null
          }
        },
        "d7085fbede1a48dab23db8086204eb19": {
          "model_module": "@jupyter-widgets/output",
          "model_name": "OutputModel",
          "model_module_version": "1.0.0",
          "state": {
            "_view_name": "OutputView",
            "msg_id": "",
            "_dom_classes": [],
            "_model_name": "OutputModel",
            "outputs": [
              {
                "output_type": "stream",
                "metadata": {
                  "tags": []
                },
                "text": "Video available at https://youtube.com/watch?v=2ULMWtaGQrQ\n",
                "stream": "stdout"
              },
              {
                "output_type": "display_data",
                "metadata": {
                  "tags": []
                },
                "text/html": "\n        <iframe\n            width=\"854\"\n            height=\"480\"\n            src=\"https://www.youtube.com/embed/2ULMWtaGQrQ?fs=1&rel=0\"\n            frameborder=\"0\"\n            allowfullscreen\n        ></iframe>\n        ",
                "text/plain": "<IPython.lib.display.YouTubeVideo at 0x7f640c2d5790>",
                "image/jpeg": "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\n"
              }
            ],
            "_view_module": "@jupyter-widgets/output",
            "_model_module_version": "1.0.0",
            "_view_count": null,
            "_view_module_version": "1.0.0",
            "layout": "IPY_MODEL_a67f591486da4d1286481c6a04b89ad2",
            "_model_module": "@jupyter-widgets/output"
          }
        },
        "bcacd2f146d8471d9734b4a5a7391576": {
          "model_module": "@jupyter-widgets/output",
          "model_name": "OutputModel",
          "model_module_version": "1.0.0",
          "state": {
            "_view_name": "OutputView",
            "msg_id": "",
            "_dom_classes": [],
            "_model_name": "OutputModel",
            "outputs": [
              {
                "output_type": "stream",
                "metadata": {
                  "tags": []
                },
                "text": "Video available at https://www.bilibili.com/video/BV1v54y1J7SC\n",
                "stream": "stdout"
              },
              {
                "output_type": "display_data",
                "metadata": {
                  "tags": []
                },
                "text/html": "\n        <iframe\n            width=\"854\"\n            height=\"480\"\n            src=\"https://player.bilibili.com/player.html?bvid=BV1v54y1J7SC&page=1?fs=1\"\n            frameborder=\"0\"\n            allowfullscreen\n        ></iframe>\n        ",
                "text/plain": "<__main__.BiliVideo at 0x7f643662ec10>"
              }
            ],
            "_view_module": "@jupyter-widgets/output",
            "_model_module_version": "1.0.0",
            "_view_count": null,
            "_view_module_version": "1.0.0",
            "layout": "IPY_MODEL_574762c888994a1cafb0b1dc9fb7f8d6",
            "_model_module": "@jupyter-widgets/output"
          }
        },
        "a67f591486da4d1286481c6a04b89ad2": {
          "model_module": "@jupyter-widgets/base",
          "model_name": "LayoutModel",
          "model_module_version": "1.2.0",
          "state": {
            "_view_name": "LayoutView",
            "grid_template_rows": null,
            "right": null,
            "justify_content": null,
            "_view_module": "@jupyter-widgets/base",
            "overflow": null,
            "_model_module_version": "1.2.0",
            "_view_count": null,
            "flex_flow": null,
            "width": null,
            "min_width": null,
            "border": null,
            "align_items": null,
            "bottom": null,
            "_model_module": "@jupyter-widgets/base",
            "top": null,
            "grid_column": null,
            "overflow_y": null,
            "overflow_x": null,
            "grid_auto_flow": null,
            "grid_area": null,
            "grid_template_columns": null,
            "flex": null,
            "_model_name": "LayoutModel",
            "justify_items": null,
            "grid_row": null,
            "max_height": null,
            "align_content": null,
            "visibility": null,
            "align_self": null,
            "height": null,
            "min_height": null,
            "padding": null,
            "grid_auto_rows": null,
            "grid_gap": null,
            "max_width": null,
            "order": null,
            "_view_module_version": "1.2.0",
            "grid_template_areas": null,
            "object_position": null,
            "object_fit": null,
            "grid_auto_columns": null,
            "margin": null,
            "display": null,
            "left": null
          }
        },
        "574762c888994a1cafb0b1dc9fb7f8d6": {
          "model_module": "@jupyter-widgets/base",
          "model_name": "LayoutModel",
          "model_module_version": "1.2.0",
          "state": {
            "_view_name": "LayoutView",
            "grid_template_rows": null,
            "right": null,
            "justify_content": null,
            "_view_module": "@jupyter-widgets/base",
            "overflow": null,
            "_model_module_version": "1.2.0",
            "_view_count": null,
            "flex_flow": null,
            "width": null,
            "min_width": null,
            "border": null,
            "align_items": null,
            "bottom": null,
            "_model_module": "@jupyter-widgets/base",
            "top": null,
            "grid_column": null,
            "overflow_y": null,
            "overflow_x": null,
            "grid_auto_flow": null,
            "grid_area": null,
            "grid_template_columns": null,
            "flex": null,
            "_model_name": "LayoutModel",
            "justify_items": null,
            "grid_row": null,
            "max_height": null,
            "align_content": null,
            "visibility": null,
            "align_self": null,
            "height": null,
            "min_height": null,
            "padding": null,
            "grid_auto_rows": null,
            "grid_gap": null,
            "max_width": null,
            "order": null,
            "_view_module_version": "1.2.0",
            "grid_template_areas": null,
            "object_position": null,
            "object_fit": null,
            "grid_auto_columns": null,
            "margin": null,
            "display": null,
            "left": null
          }
        },
        "db1a69488f4440f197098f4cdfcfb6aa": {
          "model_module": "@jupyter-widgets/controls",
          "model_name": "TabModel",
          "model_module_version": "1.5.0",
          "state": {
            "_view_name": "TabView",
            "_dom_classes": [],
            "_titles": {
              "0": "Youtube",
              "1": "Bilibili"
            },
            "_model_name": "TabModel",
            "_view_module": "@jupyter-widgets/controls",
            "selected_index": 0,
            "_model_module_version": "1.5.0",
            "_view_count": null,
            "_view_module_version": "1.5.0",
            "box_style": "",
            "layout": "IPY_MODEL_8e921c71427145e385fa285e448d8363",
            "_model_module": "@jupyter-widgets/controls",
            "children": [
              "IPY_MODEL_eabf3cb9af08400e9728641ce2e28397",
              "IPY_MODEL_1d71df8f5ce846d88ab0d8ebcbaa05af"
            ]
          }
        },
        "8e921c71427145e385fa285e448d8363": {
          "model_module": "@jupyter-widgets/base",
          "model_name": "LayoutModel",
          "model_module_version": "1.2.0",
          "state": {
            "_view_name": "LayoutView",
            "grid_template_rows": null,
            "right": null,
            "justify_content": null,
            "_view_module": "@jupyter-widgets/base",
            "overflow": null,
            "_model_module_version": "1.2.0",
            "_view_count": null,
            "flex_flow": null,
            "width": null,
            "min_width": null,
            "border": null,
            "align_items": null,
            "bottom": null,
            "_model_module": "@jupyter-widgets/base",
            "top": null,
            "grid_column": null,
            "overflow_y": null,
            "overflow_x": null,
            "grid_auto_flow": null,
            "grid_area": null,
            "grid_template_columns": null,
            "flex": null,
            "_model_name": "LayoutModel",
            "justify_items": null,
            "grid_row": null,
            "max_height": null,
            "align_content": null,
            "visibility": null,
            "align_self": null,
            "height": null,
            "min_height": null,
            "padding": null,
            "grid_auto_rows": null,
            "grid_gap": null,
            "max_width": null,
            "order": null,
            "_view_module_version": "1.2.0",
            "grid_template_areas": null,
            "object_position": null,
            "object_fit": null,
            "grid_auto_columns": null,
            "margin": null,
            "display": null,
            "left": null
          }
        },
        "eabf3cb9af08400e9728641ce2e28397": {
          "model_module": "@jupyter-widgets/output",
          "model_name": "OutputModel",
          "model_module_version": "1.0.0",
          "state": {
            "_view_name": "OutputView",
            "msg_id": "",
            "_dom_classes": [],
            "_model_name": "OutputModel",
            "outputs": [
              {
                "output_type": "stream",
                "metadata": {
                  "tags": []
                },
                "text": "Video available at https://youtube.com/watch?v=lVcpMSJileA\n",
                "stream": "stdout"
              },
              {
                "output_type": "display_data",
                "metadata": {
                  "tags": []
                },
                "text/html": "\n        <iframe\n            width=\"854\"\n            height=\"480\"\n            src=\"https://www.youtube.com/embed/lVcpMSJileA?fs=1&rel=0\"\n            frameborder=\"0\"\n            allowfullscreen\n        ></iframe>\n        ",
                "text/plain": "<IPython.lib.display.YouTubeVideo at 0x7f641c7fde10>",
                "image/jpeg": "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\n"
              }
            ],
            "_view_module": "@jupyter-widgets/output",
            "_model_module_version": "1.0.0",
            "_view_count": null,
            "_view_module_version": "1.0.0",
            "layout": "IPY_MODEL_45a14e5712e54d57b6f316a8dc96ac83",
            "_model_module": "@jupyter-widgets/output"
          }
        },
        "1d71df8f5ce846d88ab0d8ebcbaa05af": {
          "model_module": "@jupyter-widgets/output",
          "model_name": "OutputModel",
          "model_module_version": "1.0.0",
          "state": {
            "_view_name": "OutputView",
            "msg_id": "",
            "_dom_classes": [],
            "_model_name": "OutputModel",
            "outputs": [
              {
                "output_type": "stream",
                "metadata": {
                  "tags": []
                },
                "text": "Video available at https://www.bilibili.com/video/BV1864y1x7Ek\n",
                "stream": "stdout"
              },
              {
                "output_type": "display_data",
                "metadata": {
                  "tags": []
                },
                "text/html": "\n        <iframe\n            width=\"854\"\n            height=\"480\"\n            src=\"https://player.bilibili.com/player.html?bvid=BV1864y1x7Ek&page=1?fs=1\"\n            frameborder=\"0\"\n            allowfullscreen\n        ></iframe>\n        ",
                "text/plain": "<__main__.BiliVideo at 0x7f640ff4f3d0>"
              }
            ],
            "_view_module": "@jupyter-widgets/output",
            "_model_module_version": "1.0.0",
            "_view_count": null,
            "_view_module_version": "1.0.0",
            "layout": "IPY_MODEL_0e179d34bad24107b61f5cf32df12235",
            "_model_module": "@jupyter-widgets/output"
          }
        },
        "45a14e5712e54d57b6f316a8dc96ac83": {
          "model_module": "@jupyter-widgets/base",
          "model_name": "LayoutModel",
          "model_module_version": "1.2.0",
          "state": {
            "_view_name": "LayoutView",
            "grid_template_rows": null,
            "right": null,
            "justify_content": null,
            "_view_module": "@jupyter-widgets/base",
            "overflow": null,
            "_model_module_version": "1.2.0",
            "_view_count": null,
            "flex_flow": null,
            "width": null,
            "min_width": null,
            "border": null,
            "align_items": null,
            "bottom": null,
            "_model_module": "@jupyter-widgets/base",
            "top": null,
            "grid_column": null,
            "overflow_y": null,
            "overflow_x": null,
            "grid_auto_flow": null,
            "grid_area": null,
            "grid_template_columns": null,
            "flex": null,
            "_model_name": "LayoutModel",
            "justify_items": null,
            "grid_row": null,
            "max_height": null,
            "align_content": null,
            "visibility": null,
            "align_self": null,
            "height": null,
            "min_height": null,
            "padding": null,
            "grid_auto_rows": null,
            "grid_gap": null,
            "max_width": null,
            "order": null,
            "_view_module_version": "1.2.0",
            "grid_template_areas": null,
            "object_position": null,
            "object_fit": null,
            "grid_auto_columns": null,
            "margin": null,
            "display": null,
            "left": null
          }
        },
        "0e179d34bad24107b61f5cf32df12235": {
          "model_module": "@jupyter-widgets/base",
          "model_name": "LayoutModel",
          "model_module_version": "1.2.0",
          "state": {
            "_view_name": "LayoutView",
            "grid_template_rows": null,
            "right": null,
            "justify_content": null,
            "_view_module": "@jupyter-widgets/base",
            "overflow": null,
            "_model_module_version": "1.2.0",
            "_view_count": null,
            "flex_flow": null,
            "width": null,
            "min_width": null,
            "border": null,
            "align_items": null,
            "bottom": null,
            "_model_module": "@jupyter-widgets/base",
            "top": null,
            "grid_column": null,
            "overflow_y": null,
            "overflow_x": null,
            "grid_auto_flow": null,
            "grid_area": null,
            "grid_template_columns": null,
            "flex": null,
            "_model_name": "LayoutModel",
            "justify_items": null,
            "grid_row": null,
            "max_height": null,
            "align_content": null,
            "visibility": null,
            "align_self": null,
            "height": null,
            "min_height": null,
            "padding": null,
            "grid_auto_rows": null,
            "grid_gap": null,
            "max_width": null,
            "order": null,
            "_view_module_version": "1.2.0",
            "grid_template_areas": null,
            "object_position": null,
            "object_fit": null,
            "grid_auto_columns": null,
            "margin": null,
            "display": null,
            "left": null
          }
        },
        "c9577a7d6385465f8bbb0d19477db6d8": {
          "model_module": "@jupyter-widgets/controls",
          "model_name": "TabModel",
          "model_module_version": "1.5.0",
          "state": {
            "_view_name": "TabView",
            "_dom_classes": [],
            "_titles": {
              "0": "Youtube",
              "1": "Bilibili"
            },
            "_model_name": "TabModel",
            "_view_module": "@jupyter-widgets/controls",
            "selected_index": 0,
            "_model_module_version": "1.5.0",
            "_view_count": null,
            "_view_module_version": "1.5.0",
            "box_style": "",
            "layout": "IPY_MODEL_1ae51def2fbc4401bf3122960075135a",
            "_model_module": "@jupyter-widgets/controls",
            "children": [
              "IPY_MODEL_17034375844c47e884b993cfecf5e9f0",
              "IPY_MODEL_3c47c36967254e58bb3bdd6434d2683b"
            ]
          }
        },
        "1ae51def2fbc4401bf3122960075135a": {
          "model_module": "@jupyter-widgets/base",
          "model_name": "LayoutModel",
          "model_module_version": "1.2.0",
          "state": {
            "_view_name": "LayoutView",
            "grid_template_rows": null,
            "right": null,
            "justify_content": null,
            "_view_module": "@jupyter-widgets/base",
            "overflow": null,
            "_model_module_version": "1.2.0",
            "_view_count": null,
            "flex_flow": null,
            "width": null,
            "min_width": null,
            "border": null,
            "align_items": null,
            "bottom": null,
            "_model_module": "@jupyter-widgets/base",
            "top": null,
            "grid_column": null,
            "overflow_y": null,
            "overflow_x": null,
            "grid_auto_flow": null,
            "grid_area": null,
            "grid_template_columns": null,
            "flex": null,
            "_model_name": "LayoutModel",
            "justify_items": null,
            "grid_row": null,
            "max_height": null,
            "align_content": null,
            "visibility": null,
            "align_self": null,
            "height": null,
            "min_height": null,
            "padding": null,
            "grid_auto_rows": null,
            "grid_gap": null,
            "max_width": null,
            "order": null,
            "_view_module_version": "1.2.0",
            "grid_template_areas": null,
            "object_position": null,
            "object_fit": null,
            "grid_auto_columns": null,
            "margin": null,
            "display": null,
            "left": null
          }
        },
        "17034375844c47e884b993cfecf5e9f0": {
          "model_module": "@jupyter-widgets/output",
          "model_name": "OutputModel",
          "model_module_version": "1.0.0",
          "state": {
            "_view_name": "OutputView",
            "msg_id": "",
            "_dom_classes": [],
            "_model_name": "OutputModel",
            "outputs": [
              {
                "output_type": "stream",
                "metadata": {
                  "tags": []
                },
                "text": "Video available at https://youtube.com/watch?v=Vt9GhJKcEiM\n",
                "stream": "stdout"
              },
              {
                "output_type": "display_data",
                "metadata": {
                  "tags": []
                },
                "text/html": "\n        <iframe\n            width=\"854\"\n            height=\"480\"\n            src=\"https://www.youtube.com/embed/Vt9GhJKcEiM?fs=1&rel=0\"\n            frameborder=\"0\"\n            allowfullscreen\n        ></iframe>\n        ",
                "text/plain": "<IPython.lib.display.YouTubeVideo at 0x7f643662eb90>",
                "image/jpeg": "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\n"
              }
            ],
            "_view_module": "@jupyter-widgets/output",
            "_model_module_version": "1.0.0",
            "_view_count": null,
            "_view_module_version": "1.0.0",
            "layout": "IPY_MODEL_5e6a17402d2046e49b613e3d55d7c21f",
            "_model_module": "@jupyter-widgets/output"
          }
        },
        "3c47c36967254e58bb3bdd6434d2683b": {
          "model_module": "@jupyter-widgets/output",
          "model_name": "OutputModel",
          "model_module_version": "1.0.0",
          "state": {
            "_view_name": "OutputView",
            "msg_id": "",
            "_dom_classes": [],
            "_model_name": "OutputModel",
            "outputs": [
              {
                "output_type": "stream",
                "metadata": {
                  "tags": []
                },
                "text": "Video available at https://www.bilibili.com/video/BV1Mo4y1S7oK\n",
                "stream": "stdout"
              },
              {
                "output_type": "display_data",
                "metadata": {
                  "tags": []
                },
                "text/html": "\n        <iframe\n            width=\"854\"\n            height=\"480\"\n            src=\"https://player.bilibili.com/player.html?bvid=BV1Mo4y1S7oK&page=1?fs=1\"\n            frameborder=\"0\"\n            allowfullscreen\n        ></iframe>\n        ",
                "text/plain": "<__main__.BiliVideo at 0x7f64133d1f10>"
              }
            ],
            "_view_module": "@jupyter-widgets/output",
            "_model_module_version": "1.0.0",
            "_view_count": null,
            "_view_module_version": "1.0.0",
            "layout": "IPY_MODEL_1f0dda10fe7f4caaa1d0531dff3bff27",
            "_model_module": "@jupyter-widgets/output"
          }
        },
        "5e6a17402d2046e49b613e3d55d7c21f": {
          "model_module": "@jupyter-widgets/base",
          "model_name": "LayoutModel",
          "model_module_version": "1.2.0",
          "state": {
            "_view_name": "LayoutView",
            "grid_template_rows": null,
            "right": null,
            "justify_content": null,
            "_view_module": "@jupyter-widgets/base",
            "overflow": null,
            "_model_module_version": "1.2.0",
            "_view_count": null,
            "flex_flow": null,
            "width": null,
            "min_width": null,
            "border": null,
            "align_items": null,
            "bottom": null,
            "_model_module": "@jupyter-widgets/base",
            "top": null,
            "grid_column": null,
            "overflow_y": null,
            "overflow_x": null,
            "grid_auto_flow": null,
            "grid_area": null,
            "grid_template_columns": null,
            "flex": null,
            "_model_name": "LayoutModel",
            "justify_items": null,
            "grid_row": null,
            "max_height": null,
            "align_content": null,
            "visibility": null,
            "align_self": null,
            "height": null,
            "min_height": null,
            "padding": null,
            "grid_auto_rows": null,
            "grid_gap": null,
            "max_width": null,
            "order": null,
            "_view_module_version": "1.2.0",
            "grid_template_areas": null,
            "object_position": null,
            "object_fit": null,
            "grid_auto_columns": null,
            "margin": null,
            "display": null,
            "left": null
          }
        },
        "1f0dda10fe7f4caaa1d0531dff3bff27": {
          "model_module": "@jupyter-widgets/base",
          "model_name": "LayoutModel",
          "model_module_version": "1.2.0",
          "state": {
            "_view_name": "LayoutView",
            "grid_template_rows": null,
            "right": null,
            "justify_content": null,
            "_view_module": "@jupyter-widgets/base",
            "overflow": null,
            "_model_module_version": "1.2.0",
            "_view_count": null,
            "flex_flow": null,
            "width": null,
            "min_width": null,
            "border": null,
            "align_items": null,
            "bottom": null,
            "_model_module": "@jupyter-widgets/base",
            "top": null,
            "grid_column": null,
            "overflow_y": null,
            "overflow_x": null,
            "grid_auto_flow": null,
            "grid_area": null,
            "grid_template_columns": null,
            "flex": null,
            "_model_name": "LayoutModel",
            "justify_items": null,
            "grid_row": null,
            "max_height": null,
            "align_content": null,
            "visibility": null,
            "align_self": null,
            "height": null,
            "min_height": null,
            "padding": null,
            "grid_auto_rows": null,
            "grid_gap": null,
            "max_width": null,
            "order": null,
            "_view_module_version": "1.2.0",
            "grid_template_areas": null,
            "object_position": null,
            "object_fit": null,
            "grid_auto_columns": null,
            "margin": null,
            "display": null,
            "left": null
          }
        }
      }
    }
  },
  "cells": [
    {
      "cell_type": "markdown",
      "metadata": {
        "id": "view-in-github",
        "colab_type": "text"
      },
      "source": [
        "<a href=\"https://colab.research.google.com/github/NeuromatchAcademy/course-content-dl/blob/kagglefix/tutorials/W2D3_ModernRecurrentNeuralNetworks/W2D3_Tutorial2.ipynb\" target=\"_parent\"><img src=\"https://colab.research.google.com/assets/colab-badge.svg\" alt=\"Open In Colab\"/></a>"
      ]
    },
    {
      "cell_type": "markdown",
      "metadata": {
        "execution": {},
        "id": "_wTulsM_STqG"
      },
      "source": [
        "# Tutorial 2: Modern RNNs and their variants\n",
        "\n",
        "**Week 2, Day 3: Modern RNNs**\n",
        "\n",
        "**By Neuromatch Academy**\n",
        "\n",
        "__Content creators:__ Bhargav Srinivasa Desikan, Anis Zahedifard, James Evans\n",
        "\n",
        "__Content reviewers:__ Lily Cheng, Melvin Selim Atay, Ezekiel Williams, Kelson Shilling-Scrivo\n",
        "\n",
        "__Content editors:__ Gagana B, Spiros Chavlis\n",
        "\n",
        "__Production editors:__ Roberto Guidotti, Spiros Chavlis"
      ]
    },
    {
      "cell_type": "markdown",
      "metadata": {
        "execution": {},
        "id": "OqFLIDrUSTqI"
      },
      "source": [
        "**Our 2021 Sponsors, including Presenting Sponsor Facebook Reality Labs**\n",
        "\n",
        "<p align='center'><img src='https://github.com/NeuromatchAcademy/widgets/blob/master/sponsors.png?raw=True'/></p>"
      ]
    },
    {
      "cell_type": "markdown",
      "metadata": {
        "execution": {},
        "id": "dbS8IFFXSTqI"
      },
      "source": [
        "---\n",
        "# Tutorial objectives\n",
        "\n",
        "In this tutorial you will learn about:\n",
        "1. Modern Recurrent Neural Networks and their use\n",
        "2. Long Short-Term Memory (LSTM), Gated Recurrent Unit (GRU) and the memory cell\n",
        "3. Sequence to Sequence and Encoder-Decoder Networks\n",
        "4. Models of attention for text classification"
      ]
    },
    {
      "cell_type": "code",
      "metadata": {
        "cellView": "form",
        "execution": {},
        "id": "FXU9XZoXSTqI",
        "outputId": "0d4d2da0-1da8-4c63-cb50-44bc0f249912",
        "colab": {
          "base_uri": "https://localhost:8080/",
          "height": 501
        }
      },
      "source": [
        "# @title Tutorial slides\n",
        "\n",
        "# @markdown These are the slides for the videos in this tutorials\n",
        "\n",
        "# @markdown If you want to locally download the slides, click [here](https://osf.io/n23hy/download)\n",
        "from IPython.display import IFrame\n",
        "IFrame(src=f\"https://mfr.ca-1.osf.io/render?url=https://osf.io/n23hy/?direct%26mode=render%26action=download%26mode=render\", width=854, height=480)"
      ],
      "execution_count": 1,
      "outputs": [
        {
          "output_type": "execute_result",
          "data": {
            "text/html": [
              "\n",
              "        <iframe\n",
              "            width=\"854\"\n",
              "            height=\"480\"\n",
              "            src=\"https://mfr.ca-1.osf.io/render?url=https://osf.io/n23hy/?direct%26mode=render%26action=download%26mode=render\"\n",
              "            frameborder=\"0\"\n",
              "            allowfullscreen\n",
              "        ></iframe>\n",
              "        "
            ],
            "text/plain": [
              "<IPython.lib.display.IFrame at 0x7f64b1b7d5d0>"
            ]
          },
          "metadata": {
            "tags": []
          },
          "execution_count": 1
        }
      ]
    },
    {
      "cell_type": "markdown",
      "metadata": {
        "execution": {},
        "id": "dLOeBNIbSTqJ"
      },
      "source": [
        "---\n",
        "# Setup\n",
        "\n",
        "We will use the IMDB dataset, which consists of a set of 25,000 highly polar movie reviews for training, and 25,000 for testing. We will use torchtext to download the dataset and prepare it for training, validation and testing. Our goal is to build a model that performs binary classification between positive and negative movie reviews.\n",
        "\n",
        "We use `fix_length` argument to pad sentences of length less than `sentence_length` or truncate sentences of length greater than `sentence_length`. "
      ]
    },
    {
      "cell_type": "code",
      "metadata": {
        "cellView": "form",
        "execution": {},
        "id": "awGKwfRLSTqJ",
        "outputId": "cbe1c738-7a2f-42fc-de7e-27377ff981de",
        "colab": {
          "base_uri": "https://localhost:8080/"
        }
      },
      "source": [
        "# @title Install dependecies\n",
        "\n",
        "# @markdown There may be `Errors`/`Warnings` reported during the installation. However, they are to be ignored.\n",
        "!pip install --upgrade gensim --quiet\n",
        "!pip install torchtext==0.4.0 --quiet\n",
        "!pip install unidecode --quiet\n",
        "!pip install d2l --quiet\n",
        "!pip install nltk --quiet\n",
        "\n",
        "!pip install git+https://github.com/NeuromatchAcademy/evaltools --quiet\n",
        "from evaltools.airtable import AirtableForm\n",
        "\n",
        "atform = AirtableForm('appn7VdPRseSoMXEG','W2D3_T2','https://portal.neuromatchacademy.org/api/redirect/to/3412a777-eb0e-4312-9254-eec266f0bee4')"
      ],
      "execution_count": 2,
      "outputs": [
        {
          "output_type": "stream",
          "text": [
            "\u001b[K     |████████████████████████████████| 23.9 MB 1.3 MB/s \n",
            "\u001b[K     |████████████████████████████████| 53 kB 1.2 MB/s \n",
            "\u001b[K     |████████████████████████████████| 241 kB 4.0 MB/s \n",
            "\u001b[K     |████████████████████████████████| 83 kB 1.5 MB/s \n",
            "\u001b[?25h  Building wheel for evaltools (setup.py) ... \u001b[?25l\u001b[?25hdone\n"
          ],
          "name": "stdout"
        }
      ]
    },
    {
      "cell_type": "code",
      "metadata": {
        "execution": {},
        "id": "1N6Ug398STqK"
      },
      "source": [
        "# Imports\n",
        "import math\n",
        "import time\n",
        "import nltk\n",
        "import random\n",
        "import collections\n",
        "\n",
        "import numpy as np\n",
        "import matplotlib.pyplot as plt\n",
        "\n",
        "import torch\n",
        "import torch.nn as nn\n",
        "from torch.nn import functional as F\n",
        "\n",
        "from torchtext import data, datasets\n",
        "\n",
        "from d2l import torch as d2l"
      ],
      "execution_count": 3,
      "outputs": []
    },
    {
      "cell_type": "code",
      "metadata": {
        "cellView": "form",
        "execution": {},
        "id": "NHBXSJkLSTqK"
      },
      "source": [
        "# @title Figure Settings\n",
        "import ipywidgets as widgets\n",
        "%config InlineBackend.figure_format = 'retina'\n",
        "plt.style.use(\"https://raw.githubusercontent.com/NeuromatchAcademy/content-creation/main/nma.mplstyle\")"
      ],
      "execution_count": 4,
      "outputs": []
    },
    {
      "cell_type": "code",
      "metadata": {
        "cellView": "form",
        "execution": {},
        "id": "8ofRSkI8STqL",
        "outputId": "792ceb1d-4966-4b13-d9b0-e66d3a75f8e1",
        "colab": {
          "base_uri": "https://localhost:8080/"
        }
      },
      "source": [
        "# @title Download the dataset\n",
        "nltk.download('punkt')\n",
        "nltk.download('averaged_perceptron_tagger')\n",
        "nltk.download('brown')\n",
        "nltk.download('webtext')"
      ],
      "execution_count": 5,
      "outputs": [
        {
          "output_type": "stream",
          "text": [
            "[nltk_data] Downloading package punkt to /root/nltk_data...\n",
            "[nltk_data]   Unzipping tokenizers/punkt.zip.\n",
            "[nltk_data] Downloading package averaged_perceptron_tagger to\n",
            "[nltk_data]     /root/nltk_data...\n",
            "[nltk_data]   Unzipping taggers/averaged_perceptron_tagger.zip.\n",
            "[nltk_data] Downloading package brown to /root/nltk_data...\n",
            "[nltk_data]   Unzipping corpora/brown.zip.\n",
            "[nltk_data] Downloading package webtext to /root/nltk_data...\n",
            "[nltk_data]   Unzipping corpora/webtext.zip.\n"
          ],
          "name": "stdout"
        },
        {
          "output_type": "execute_result",
          "data": {
            "text/plain": [
              "True"
            ]
          },
          "metadata": {
            "tags": []
          },
          "execution_count": 5
        }
      ]
    },
    {
      "cell_type": "code",
      "metadata": {
        "cellView": "form",
        "execution": {},
        "id": "V9_TD0bwSTqL"
      },
      "source": [
        "# @title Helper functions\n",
        "\n",
        "def plot_train_val(x, train, val, train_label,\n",
        "                   val_label, title, y_label,\n",
        "                   color):\n",
        "\n",
        "  plt.plot(x, train, label=train_label, color=color)\n",
        "  plt.plot(x, val, label=val_label, color=color, linestyle='--')\n",
        "  plt.legend(loc='lower right')\n",
        "  plt.xlabel('epoch')\n",
        "  plt.ylabel(y_label)\n",
        "  plt.title(title)\n",
        "\n",
        "\n",
        "def count_parameters(model):\n",
        "  parameters = sum(p.numel() for p in model.parameters() if p.requires_grad)\n",
        "  return parameters\n",
        "\n",
        "\n",
        "def init_weights(m):\n",
        "  if type(m) in (nn.Linear, nn.Conv1d):\n",
        "    nn.init.xavier_uniform_(m.weight)\n",
        "\n",
        "\n",
        "#  Dataset Loader\n",
        "def load_dataset(sentence_length=50, batch_size=32, seed=522):\n",
        "\n",
        "  TEXT = data.Field(sequential=True,\n",
        "                    tokenize=nltk.word_tokenize,\n",
        "                    lower=True,\n",
        "                    include_lengths=True,\n",
        "                    batch_first=True,\n",
        "                    fix_length=sentence_length)\n",
        "  LABEL = data.LabelField(dtype=torch.float)\n",
        "\n",
        "  train_data, test_data = datasets.IMDB.splits(TEXT, LABEL)\n",
        "\n",
        "  # If no specific vector embeddings are specified,\n",
        "  # Torchtext initializes random vector embeddings\n",
        "  # which would get updated during training through backpropagation.\n",
        "  TEXT.build_vocab(train_data)\n",
        "  LABEL.build_vocab(train_data)\n",
        "\n",
        "  train_data, valid_data = train_data.split(split_ratio=0.7,\n",
        "                                            random_state=random.seed(seed))\n",
        "  train_iter, valid_iter, test_iter = data.BucketIterator.splits((train_data, valid_data, test_data),\n",
        "                                                                  batch_size=batch_size, sort_key=lambda x: len(x.text),\n",
        "                                                                  repeat=False, shuffle=True)\n",
        "  vocab_size = len(TEXT.vocab)\n",
        "\n",
        "  print(f\"Data loading is completed. Sentence length: {sentence_length}, \"\n",
        "        f\"Batch size: {batch_size}, and seed: {seed}\")\n",
        "\n",
        "  return TEXT, vocab_size, train_iter, valid_iter, test_iter\n",
        "\n",
        "\n",
        "def text_from_dict(arr, dictionary):\n",
        "  text = []\n",
        "  for element in arr:\n",
        "    text.append(dictionary[element])\n",
        "  return text\n",
        "\n",
        "\n",
        "def view_data(TEXT, train_iter):\n",
        "  for idx, batch in enumerate(train_iter):\n",
        "    text = batch.text[0]\n",
        "    target = batch.label\n",
        "\n",
        "    for itr in range(25, 30):\n",
        "      print('Review: ', ' '.join(text_from_dict(text[itr], TEXT.vocab.itos)))\n",
        "      print('Label: ', int(target[itr].item()), '\\n')\n",
        "\n",
        "    print('[0: Negative Review, 1: Positive Review]')\n",
        "    if idx==0:\n",
        "      break\n",
        "\n",
        "\n",
        "# Training function\n",
        "def train(model, device, train_iter, valid_iter, epochs, learning_rate):\n",
        "  criterion = nn.CrossEntropyLoss()\n",
        "  optimizer = torch.optim.Adam(model.parameters(), lr=learning_rate)\n",
        "\n",
        "  train_loss, validation_loss = [], []\n",
        "  train_acc, validation_acc = [], []\n",
        "\n",
        "  for epoch in range(epochs):\n",
        "    #train\n",
        "    model.train()\n",
        "    running_loss = 0.\n",
        "    correct, total = 0, 0\n",
        "    steps = 0\n",
        "\n",
        "    for idx, batch in enumerate(train_iter):\n",
        "      text = batch.text[0]\n",
        "      # print(type(text), text.shape)\n",
        "      target = batch.label\n",
        "      target = torch.autograd.Variable(target).long()\n",
        "      text, target = text.to(device), target.to(device)\n",
        "\n",
        "      # add micro for coding training loop\n",
        "      optimizer.zero_grad()\n",
        "      output = model(text)\n",
        "\n",
        "      loss = criterion(output, target)\n",
        "      loss.backward()\n",
        "      optimizer.step()\n",
        "      steps += 1\n",
        "      running_loss += loss.item()\n",
        "\n",
        "      # get accuracy\n",
        "      _, predicted = torch.max(output, 1)\n",
        "      total += target.size(0)\n",
        "      correct += (predicted == target).sum().item()\n",
        "\n",
        "    train_loss.append(running_loss/len(train_iter))\n",
        "    train_acc.append(correct/total)\n",
        "\n",
        "    print(f'Epoch: {epoch + 1}, '\n",
        "          f'Training Loss: {running_loss/len(train_iter):.4f}, '\n",
        "          f'Training Accuracy: {100*correct/total: .2f}%')\n",
        "\n",
        "    # evaluate on validation data\n",
        "    model.eval()\n",
        "    running_loss = 0.\n",
        "    correct, total = 0, 0\n",
        "\n",
        "    with torch.no_grad():\n",
        "      for idx, batch in enumerate(valid_iter):\n",
        "        text = batch.text[0]\n",
        "        target = batch.label\n",
        "        target = torch.autograd.Variable(target).long()\n",
        "        text, target = text.to(device), target.to(device)\n",
        "\n",
        "        optimizer.zero_grad()\n",
        "        output = model(text)\n",
        "\n",
        "        loss = criterion(output, target)\n",
        "        running_loss += loss.item()\n",
        "\n",
        "        # get accuracy\n",
        "        _, predicted = torch.max(output, 1)\n",
        "        total += target.size(0)\n",
        "        correct += (predicted == target).sum().item()\n",
        "\n",
        "    validation_loss.append(running_loss/len(valid_iter))\n",
        "    validation_acc.append(correct/total)\n",
        "\n",
        "    print (f'Validation Loss: {running_loss/len(valid_iter):.4f}, '\n",
        "           f'Validation Accuracy: {100*correct/total: .2f}%')\n",
        "\n",
        "  return train_loss, train_acc, validation_loss, validation_acc\n",
        "\n",
        "\n",
        "# Testing function\n",
        "def test(model, device, test_iter):\n",
        "  model.eval()\n",
        "  correct = 0\n",
        "  total = 0\n",
        "  with torch.no_grad():\n",
        "    for idx, batch in enumerate(test_iter):\n",
        "      text = batch.text[0]\n",
        "      target = batch.label\n",
        "      target = torch.autograd.Variable(target).long()\n",
        "      text, target = text.to(device), target.to(device)\n",
        "\n",
        "      outputs = model(text)\n",
        "      _, predicted = torch.max(outputs, 1)\n",
        "      total += target.size(0)\n",
        "      correct += (predicted == target).sum().item()\n",
        "\n",
        "    acc = 100 * correct / total\n",
        "    return acc"
      ],
      "execution_count": 6,
      "outputs": []
    },
    {
      "cell_type": "code",
      "metadata": {
        "cellView": "form",
        "execution": {},
        "id": "8MyS6baZSTqM"
      },
      "source": [
        "# @title Set random seed\n",
        "\n",
        "# @markdown Executing `set_seed(seed=seed)` you are setting the seed\n",
        "\n",
        "# for DL its critical to set the random seed so that students can have a\n",
        "# baseline to compare their results to expected results.\n",
        "# Read more here: https://pytorch.org/docs/stable/notes/randomness.html\n",
        "\n",
        "# Call `set_seed` function in the exercises to ensure reproducibility.\n",
        "import random\n",
        "\n",
        "def set_seed(seed=None, seed_torch=True):\n",
        "  if seed is None:\n",
        "    seed = np.random.choice(2 ** 32)\n",
        "  random.seed(seed)\n",
        "  np.random.seed(seed)\n",
        "  if seed_torch:\n",
        "    torch.manual_seed(seed)\n",
        "    torch.cuda.manual_seed_all(seed)\n",
        "    torch.cuda.manual_seed(seed)\n",
        "    torch.backends.cudnn.benchmark = False\n",
        "    torch.backends.cudnn.deterministic = True\n",
        "\n",
        "  print(f'Random seed {seed} has been set.')\n",
        "\n",
        "# In case that `DataLoader` is used\n",
        "def seed_worker(worker_id):\n",
        "  worker_seed = torch.initial_seed() % 2**32\n",
        "  np.random.seed(worker_seed)\n",
        "  random.seed(worker_seed)"
      ],
      "execution_count": 7,
      "outputs": []
    },
    {
      "cell_type": "code",
      "metadata": {
        "cellView": "form",
        "execution": {},
        "id": "Jd4YYNLaSTqM"
      },
      "source": [
        "# @title Set device (GPU or CPU). Execute `set_device()`\n",
        "# inform the user if the notebook uses GPU or CPU.\n",
        "\n",
        "def set_device():\n",
        "  device = \"cuda\" if torch.cuda.is_available() else \"cpu\"\n",
        "  if device != \"cuda\":\n",
        "    print(\"WARNING: For this notebook to perform best, \"\n",
        "        \"if possible, in the menu under `Runtime` -> \"\n",
        "        \"`Change runtime type.`  select `GPU` \")\n",
        "  else:\n",
        "    print(\"GPU is enabled in this notebook.\")\n",
        "\n",
        "  return device"
      ],
      "execution_count": 8,
      "outputs": []
    },
    {
      "cell_type": "code",
      "metadata": {
        "execution": {},
        "id": "RbGzwKpcSTqN",
        "outputId": "91a6570e-e573-4226-e07f-b517bcf2c008",
        "colab": {
          "base_uri": "https://localhost:8080/"
        }
      },
      "source": [
        "DEVICE = set_device()\n",
        "SEED = 2021\n",
        "set_seed(seed=SEED)"
      ],
      "execution_count": 9,
      "outputs": [
        {
          "output_type": "stream",
          "text": [
            "GPU is enabled in this notebook.\n",
            "Random seed 2021 has been set.\n"
          ],
          "name": "stdout"
        }
      ]
    },
    {
      "cell_type": "markdown",
      "metadata": {
        "execution": {},
        "id": "wQy-6vjBSTqN"
      },
      "source": [
        "---\n",
        "# Section 1: Recurrent Neural Networks (RNNs)\n",
        "\n",
        "*Time estimate: ~27mins*"
      ]
    },
    {
      "cell_type": "code",
      "metadata": {
        "cellView": "form",
        "execution": {},
        "id": "LmrzvkWwSTqN",
        "outputId": "eb1c2348-46cf-4fa9-9a86-b8603b015fe4",
        "colab": {
          "base_uri": "https://localhost:8080/",
          "height": 580,
          "referenced_widgets": [
            "f97d520944d44845bedfe2df49bbc331",
            "017da775b2cd4369b97d77d795e0a67b",
            "64499da294c34cdbaab096c674c8bbfe",
            "6507b5b0474f4267af3d060209eb0400",
            "bfd7f5b361d94073b71a52f53595c675",
            "5bdaba6aa44747579e692e28f3482cc3"
          ]
        }
      },
      "source": [
        "# @title Video 1: Recurrent Neural Networks\n",
        "from ipywidgets import widgets\n",
        "\n",
        "out2 = widgets.Output()\n",
        "with out2:\n",
        "  from IPython.display import IFrame\n",
        "  class BiliVideo(IFrame):\n",
        "    def __init__(self, id, page=1, width=400, height=300, **kwargs):\n",
        "      self.id=id\n",
        "      src = \"https://player.bilibili.com/player.html?bvid={0}&page={1}\".format(id, page)\n",
        "      super(BiliVideo, self).__init__(src, width, height, **kwargs)\n",
        "\n",
        "  video = BiliVideo(id=f\"BV1Ng41177az\", width=854, height=480, fs=1)\n",
        "  print(\"Video available at https://www.bilibili.com/video/{0}\".format(video.id))\n",
        "  display(video)\n",
        "\n",
        "out1 = widgets.Output()\n",
        "with out1:\n",
        "  from IPython.display import YouTubeVideo\n",
        "  video = YouTubeVideo(id=f\"hIHocwdyY7M\", width=854, height=480, fs=1, rel=0)\n",
        "  print(\"Video available at https://youtube.com/watch?v=\" + video.id)\n",
        "  display(video)\n",
        "\n",
        "out = widgets.Tab([out1, out2])\n",
        "out.set_title(0, 'Youtube')\n",
        "out.set_title(1, 'Bilibili')\n",
        "\n",
        "# add event to airtable\n",
        "atform.add_event('Video 1: Recurrent Neural Networks')\n",
        "\n",
        "display(out)"
      ],
      "execution_count": 10,
      "outputs": [
        {
          "output_type": "display_data",
          "data": {
            "application/vnd.jupyter.widget-view+json": {
              "model_id": "f97d520944d44845bedfe2df49bbc331",
              "version_minor": 0,
              "version_major": 2
            },
            "text/plain": [
              "Tab(children=(Output(), Output()), _titles={'0': 'Youtube', '1': 'Bilibili'})"
            ]
          },
          "metadata": {
            "tags": []
          }
        }
      ]
    },
    {
      "cell_type": "markdown",
      "metadata": {
        "execution": {},
        "id": "EdVJ29xfSTqO"
      },
      "source": [
        "Recurrent neural networks, or RNNs , are a family of neural networks for processing sequential data. Just as a convolutional network is specialized for processing a grid of values X such as an image, a recurrent neural network is specialized for processing a sequence of values. RNNs prove useful in many scenarios where other deep learning models are not effective.\n",
        "\n",
        "* Not all problems can be converted into one with fixed length inputs and outputs.\n",
        "\n",
        "\n",
        "* The deep learning models we have seen so far pick samples randomly. This might not be the best strategy for a task of understanding meaning from a piece of text. Words in a text occur in a sequence and therefore cannot be permuted randomly to get the meaning."
      ]
    },
    {
      "cell_type": "markdown",
      "metadata": {
        "execution": {},
        "id": "ZjvYr26HSTqO"
      },
      "source": [
        "The following provides more data than the video (but can be skipped for now). For more detail, see the sources, the [deep learning book](https://www.deeplearningbook.org/contents/rnn.html), and [d2l.ai](https://d2l.ai/chapter_recurrent-neural-networks/rnn.html)\n",
        "\n",
        "When the recurrent network is trained to perform a task that requires predicting the future from the past, the network typically learns to use a hidden state at time step $t$, $H_t$ as a kind of lossy summary of the task-relevant aspects of the past sequence of inputs up to $t$. This summary is in general necessarily lossy, since it maps an arbitrary length sequence $(X_t, X_{t-1}, X_{t-2}, . . . , X_{2}, X_{1})$ to a ﬁxed length vector $H_t$.\n",
        "\n",
        "We can represent the unfolded recurrence after $t$ steps with a function $G_t$:\n",
        "\n",
        "\\begin{align}\n",
        "H_t &= G_t(X_t, X_{t-1}, X_{t-2}, \\dots, X_{2}, X_{1}) \\\\\n",
        "&= f(H_{t−1}, X_{t}; \\theta)\n",
        "\\end{align}\n",
        "\n",
        "where $\\theta$ denotes the model parameters, i.e., weights and biases.\n",
        "\n",
        "<figure>\n",
        "  <img width=700 src=\"https://raw.githubusercontent.com/NeuromatchAcademy/course-content-dl/main/tutorials/W2D3_ModernRecurrentNeuralNetworks/static/rnn-2.gif\">\n",
        "  <figcaption>\n",
        "  Source <a href=\"https://blog.floydhub.com/\">blog.floydhub.com</a>\n",
        "  </figcaption>\n",
        "</figure>\n",
        "\n",
        "The function $g_t$ takes the whole past sequence $(X_t, X_{t-1}, X_{t-2}, . . . , X_{2}, X_{1})$ as input and produces the current state, but the unfolded recurrent structure allows us to factorize $g_t$ into repeated application of a function f. The unfolding process thus introduces two major advantages:\n",
        "\n",
        "* Regardless of the sequence length, the learned model always has the same input size, because it is speciﬁed in terms of transition from one state to another state, rather than speciﬁed in terms of a variable-length history of states.\n",
        "\n",
        "* It is possible to use the same transition function $f$ with the same parameters at every time step.\n",
        "\n",
        "\n",
        "We will now formally write down the equations of a recurrent unit.\n",
        "\n",
        "\n",
        "Assume that we have a minibatch of inputs $X_t \\in R^{nxd}$ at time step $t$ . In other words, for a minibatch of $n$ sequence examples, each row of $X_t$  corresponds to one example at time step $t$ from the sequence. Next, we denote by $H_t \\in R^{nxh}$ the hidden variable of time step $t$. Unlike the MLP, here we save the hidden variable $H_{t-1}$ from the previous time step and introduce a new weight parameter $W_{hh} \\in R^{hxh}$ to describe how to use the hidden variable of the previous time step in the current time step. Specifically, the calculation of the hidden variable of the current time step is determined by the input of the current time step together with the hidden variable of the previous time step:\n",
        "\n",
        "\\begin{equation}\n",
        "H_t = \\phi(X_t W_{xh} + H_{t-1}W_{hh} + b_h)\n",
        "\\end{equation}\n",
        "\n",
        "For time step $t$, the output of the output layer is similar to the computation in the MLP:\n",
        "\n",
        "\\begin{equation}\n",
        "O_t = H_t W_{hq} + b_q\n",
        "\\end{equation}\n",
        " \n",
        "Parameters of the RNN include the weights $W_{xh} \\in R^{d \\times h}, W_{hh} \\in R^{h \\times h}$ , and the bias $b_h \\in R^{1 \\times h}$ of the hidden layer, together with the weights $W_{hq} \\in R^{h \\times  q}$ and the bias $b_q \\in R^{1 \\times q}$ of the output layer. It is worth mentioning that even at different time steps, RNNs always use these model parameters. Therefore, the parameterization cost of an RNN does not grow as the number of time steps increases.\n",
        "\n",
        "<figure>\n",
        "  <img width=700 align=\"center\" src=\"https://raw.githubusercontent.com/NeuromatchAcademy/course-content-dl/main/tutorials/W2D3_ModernRecurrentNeuralNetworks/static/rnn.svg\">\n",
        "  <figcaption>\n",
        "  Source <a href=\"https://d2l.ai/\">d2l.ai</a>\n",
        "  </figcaption>\n",
        "</figure>"
      ]
    },
    {
      "cell_type": "markdown",
      "metadata": {
        "execution": {},
        "id": "e3ZE4bqZSTqO"
      },
      "source": [
        "## Section 1.1: Load and View of the dataset\n",
        "\n",
        "Let us first load the dataset using the helper function `load_data`, which takes three arguments; the `sentence_length`, `batch_size`, and the `seed`. The default values are 50, 32, and 522, respectively. Execute the cell below to load the data."
      ]
    },
    {
      "cell_type": "code",
      "metadata": {
        "cellView": "form",
        "execution": {},
        "id": "FcpkUH4GSTqO",
        "outputId": "c4f99bbe-4058-4855-c7b4-2efc19957082",
        "colab": {
          "base_uri": "https://localhost:8080/"
        }
      },
      "source": [
        "# @markdown Dataset Loading with default params\n",
        "TEXT, vocab_size, train_iter, valid_iter, test_iter = load_dataset(seed=SEED)"
      ],
      "execution_count": 11,
      "outputs": [
        {
          "output_type": "stream",
          "text": [
            "downloading aclImdb_v1.tar.gz\n"
          ],
          "name": "stdout"
        },
        {
          "output_type": "stream",
          "text": [
            "aclImdb_v1.tar.gz: 100%|██████████| 84.1M/84.1M [00:05<00:00, 15.5MB/s]\n"
          ],
          "name": "stderr"
        },
        {
          "output_type": "stream",
          "text": [
            "Data loading is completed. Sentence length: 50, Batch size: 32, and seed: 2021\n"
          ],
          "name": "stdout"
        }
      ]
    },
    {
      "cell_type": "markdown",
      "metadata": {
        "execution": {},
        "id": "c1p_7h31STqO"
      },
      "source": [
        "Now, let's view the data!"
      ]
    },
    {
      "cell_type": "code",
      "metadata": {
        "cellView": "form",
        "execution": {},
        "id": "vWDxpLTBSTqO",
        "outputId": "5c0b6516-c471-4d00-f98e-c49abf6aa488",
        "colab": {
          "base_uri": "https://localhost:8080/"
        }
      },
      "source": [
        "# @markdown Visualize dataset\n",
        "view_data(TEXT, train_iter)"
      ],
      "execution_count": 12,
      "outputs": [
        {
          "output_type": "stream",
          "text": [
            "Review:  bogmeister and others have pretty much nailed this . shore leave is really tos ' first attempt at lightweight sci-fi ( which they would later perfect with the classic trouble with tribbles ) . it gave both the crew of the enterprise and its tv viewers a needed respite from\n",
            "Label:  1 \n",
            "\n",
            "Review:  genteel , softly spoken drama from steven spielberg was his first real venture into this genre . a departure from his normal adventure/fantasy fare , it paved the way for his 1993 success , `` schindler 's list '' . < br / > < br / > based upon\n",
            "Label:  1 \n",
            "\n",
            "Review:  i watched the movie while recovering from major surgery . while i knew it was only a `` b '' film , a space western , i loved it . it may have lacked the flash of high dollar productions it non-the-less held my imagination and provided great escapism .\n",
            "Label:  1 \n",
            "\n",
            "Review:  this movie is a bad attempt to make original fans feel complete . the one thing people have forgotten is the fact that the reason the original won such acclaim , was strictly do to the fact that it was supposed to make you feel incomplete. < br / >\n",
            "Label:  0 \n",
            "\n",
            "Review:  with this cast and budget you will expect more. < br / > < br / > john cusack has made a number movies that border on the strange , yet still work . neither he , his sister , nor sir ben could do anything to save this travesty\n",
            "Label:  0 \n",
            "\n",
            "[0: Negative Review, 1: Positive Review]\n"
          ],
          "name": "stdout"
        }
      ]
    },
    {
      "cell_type": "markdown",
      "metadata": {
        "execution": {},
        "id": "3NzaTu-7STqO"
      },
      "source": [
        "### Coding Exercise 1.1: Vanilla RNN\n",
        "\n",
        "Now it's your turn to write a Vanilla RNN using PyTorch.\n",
        "\n",
        "* Once again we will use `nn.Embedding`. You are given the `vocab_size` which is the size of the dictionary of embeddings, and the `embed_size` which is the size of each embedding vector.  \n",
        "\n",
        "* Add 2 [RNN](https://pytorch.org/docs/stable/generated/torch.nn.RNN.html) layers. This would mean stacking two RNNs together to form a stacked RNN, with the second RNN taking in outputs of the first RNN and computing the final results.\n",
        "\n",
        "* Determine the size of inputs and outputs to the fully-connected layer."
      ]
    },
    {
      "cell_type": "code",
      "metadata": {
        "execution": {},
        "id": "RQam5m4sSTqP"
      },
      "source": [
        "class VanillaRNN(nn.Module):\n",
        "  def __init__(self, layers, output_size, hidden_size, vocab_size, embed_size,\n",
        "               device):\n",
        "    super(VanillaRNN, self).__init__()\n",
        "    self.n_layers= layers\n",
        "    self.hidden_size = hidden_size\n",
        "    self.device = device\n",
        "    ####################################################################\n",
        "    # Fill in missing code below (...),\n",
        "    # then remove or comment the line below to test your function\n",
        "    raise NotImplementedError(\"Define the Vanilla RNN components\")\n",
        "    ####################################################################\n",
        "    # Define the embedding\n",
        "    self.embeddings = ...\n",
        "    # Define the RNN layer\n",
        "    self.rnn = ...\n",
        "    # Define the fully connected layer\n",
        "    self.fc = ...\n",
        "\n",
        "  def forward(self, inputs):\n",
        "    input = self.embeddings(inputs)\n",
        "    input = input.permute(1, 0, 2)\n",
        "    h_0 = torch.zeros(2, input.size()[1], self.hidden_size).to(self.device)\n",
        "    output, h_n = self.rnn(input, h_0)\n",
        "    h_n = h_n.permute(1, 0, 2)\n",
        "    h_n = h_n.contiguous().reshape(h_n.size()[0], h_n.size()[1]*h_n.size()[2])\n",
        "    logits = self.fc(h_n)\n",
        "\n",
        "    return logits\n",
        "\n",
        "\n",
        "# add event to airtable\n",
        "atform.add_event('Coding Exercise 1.1: Vanilla RNN')\n",
        "\n",
        "## Uncomment to test VanillaRNN class\n",
        "# sampleRNN = VanillaRNN(2, 10, 50, 1000, 300, DEVICE)\n",
        "# print(sampleRNN)"
      ],
      "execution_count": 13,
      "outputs": []
    },
    {
      "cell_type": "code",
      "metadata": {
        "execution": {},
        "id": "XEsul86nSTqP",
        "outputId": "8a134df2-50b4-4513-c0ec-eb1ac6ac76c5",
        "colab": {
          "base_uri": "https://localhost:8080/"
        }
      },
      "source": [
        "# to_remove solution\n",
        "class VanillaRNN(nn.Module):\n",
        "  def __init__(self, layers, output_size, hidden_size, vocab_size, embed_size,\n",
        "               device):\n",
        "    super(VanillaRNN, self).__init__()\n",
        "    self.n_layers= layers\n",
        "    self.hidden_size = hidden_size\n",
        "    self.device = device\n",
        "    # Define the embedding\n",
        "    self.embeddings = nn.Embedding(vocab_size, embed_size)\n",
        "    # Define the RNN layer\n",
        "    self.rnn = nn.RNN(embed_size, hidden_size, self.n_layers)\n",
        "    # Define the fully connected layer\n",
        "    self.fc = nn.Linear(self.n_layers *hidden_size, output_size)\n",
        "\n",
        "  def forward(self, inputs):\n",
        "    input = self.embeddings(inputs)\n",
        "    input = input.permute(1, 0, 2)\n",
        "    h_0 = torch.zeros(2, input.size()[1], self.hidden_size).to(self.device)\n",
        "    output, h_n = self.rnn(input, h_0)\n",
        "    h_n = h_n.permute(1, 0, 2)\n",
        "    h_n = h_n.contiguous().reshape(h_n.size()[0], h_n.size()[1]*h_n.size()[2])\n",
        "    logits = self.fc(h_n)\n",
        "\n",
        "    return logits\n",
        "\n",
        "\n",
        "# add event to airtable\n",
        "atform.add_event('Coding Exercise 1.1: Vanilla RNN')\n",
        "\n",
        "## Uncomment to test VanillaRNN class\n",
        "sampleRNN = VanillaRNN(2, 10, 50, 1000, 300, DEVICE)\n",
        "print(sampleRNN)"
      ],
      "execution_count": 14,
      "outputs": [
        {
          "output_type": "stream",
          "text": [
            "VanillaRNN(\n",
            "  (embeddings): Embedding(1000, 300)\n",
            "  (rnn): RNN(300, 50, num_layers=2)\n",
            "  (fc): Linear(in_features=100, out_features=10, bias=True)\n",
            ")\n"
          ],
          "name": "stdout"
        }
      ]
    },
    {
      "cell_type": "markdown",
      "metadata": {
        "execution": {},
        "id": "ieNFCoM_STqP"
      },
      "source": [
        "```\n",
        "VanillaRNN(\n",
        "  (embeddings): Embedding(1000, 300)\n",
        "  (rnn): RNN(300, 50, num_layers=2)\n",
        "  (fc): Linear(in_features=100, out_features=10, bias=True)\n",
        ")\n",
        "```"
      ]
    },
    {
      "cell_type": "markdown",
      "metadata": {
        "execution": {},
        "id": "jofZYmogSTqP"
      },
      "source": [
        "## Section 1.2: Train and test the network"
      ]
    },
    {
      "cell_type": "code",
      "metadata": {
        "execution": {},
        "id": "fdsA738ESTqP",
        "outputId": "3cafc20e-5e8e-4e07-f633-0cd9717c0c32",
        "colab": {
          "base_uri": "https://localhost:8080/",
          "height": 856
        }
      },
      "source": [
        "# Model hyperparamters\n",
        "learning_rate = 0.0002\n",
        "layers = 2\n",
        "output_size = 2\n",
        "hidden_size = 50  # 100\n",
        "embedding_length = 100\n",
        "epochs = 10\n",
        "\n",
        "\n",
        "# Initialize model, training and testing\n",
        "set_seed(SEED)\n",
        "vanilla_rnn_model = VanillaRNN(layers, output_size, hidden_size, vocab_size,\n",
        "                               embedding_length, DEVICE)\n",
        "vanilla_rnn_model.to(DEVICE)\n",
        "vanilla_rnn_start_time = time.time()\n",
        "vanilla_train_loss, vanilla_train_acc, vanilla_validation_loss, vanilla_validation_acc = train(vanilla_rnn_model,\n",
        "                                                                                               DEVICE,\n",
        "                                                                                               train_iter,\n",
        "                                                                                               valid_iter,\n",
        "                                                                                               epochs,\n",
        "                                                                                               learning_rate)\n",
        "print(\"--- Time taken to train = %s seconds ---\" % (time.time() - vanilla_rnn_start_time))\n",
        "test_accuracy = test(vanilla_rnn_model, DEVICE, test_iter)\n",
        "print(f'Test Accuracy: {test_accuracy} with len=50\\n')\n",
        "\n",
        "# Number of model parameters\n",
        "print(f'Number of parameters = {count_parameters(vanilla_rnn_model)}')\n",
        "\n",
        "\n",
        "# Plot accuracy curves\n",
        "plt.figure()\n",
        "plt.subplot(211)\n",
        "plot_train_val(np.arange(0, epochs), vanilla_train_acc, vanilla_validation_acc,\n",
        "               'train accuracy', 'val accuracy',\n",
        "               'Vanilla RNN on IMDB text classification', 'accuracy',\n",
        "               color='C0')\n",
        "plt.legend(loc='upper left')\n",
        "plt.subplot(212)\n",
        "plot_train_val(np.arange(0, epochs), vanilla_train_loss,\n",
        "               vanilla_validation_loss,\n",
        "               'train loss', 'val loss',\n",
        "               'Vanilla RNN on IMDB text classification',\n",
        "               'loss [a.u.]',\n",
        "               color='C0')\n",
        "plt.legend(loc='upper left')\n",
        "plt.show()"
      ],
      "execution_count": 15,
      "outputs": [
        {
          "output_type": "stream",
          "text": [
            "Random seed 2021 has been set.\n",
            "Epoch: 1, Training Loss: 0.6998, Training Accuracy:  50.95%\n",
            "Validation Loss: 0.6963, Validation Accuracy:  50.55%\n",
            "Epoch: 2, Training Loss: 0.6906, Training Accuracy:  53.14%\n",
            "Validation Loss: 0.6956, Validation Accuracy:  51.61%\n",
            "Epoch: 3, Training Loss: 0.6846, Training Accuracy:  55.39%\n",
            "Validation Loss: 0.6973, Validation Accuracy:  51.52%\n",
            "Epoch: 4, Training Loss: 0.6717, Training Accuracy:  58.63%\n",
            "Validation Loss: 0.6737, Validation Accuracy:  59.87%\n",
            "Epoch: 5, Training Loss: 0.6444, Training Accuracy:  62.83%\n",
            "Validation Loss: 0.6739, Validation Accuracy:  60.08%\n",
            "Epoch: 6, Training Loss: 0.6132, Training Accuracy:  66.85%\n",
            "Validation Loss: 0.6576, Validation Accuracy:  63.39%\n",
            "Epoch: 7, Training Loss: 0.5770, Training Accuracy:  70.51%\n",
            "Validation Loss: 0.6480, Validation Accuracy:  65.00%\n",
            "Epoch: 8, Training Loss: 0.5456, Training Accuracy:  73.48%\n",
            "Validation Loss: 0.6473, Validation Accuracy:  66.39%\n",
            "Epoch: 9, Training Loss: 0.5120, Training Accuracy:  75.77%\n",
            "Validation Loss: 0.6585, Validation Accuracy:  66.04%\n",
            "Epoch: 10, Training Loss: 0.4805, Training Accuracy:  77.84%\n",
            "Validation Loss: 0.6586, Validation Accuracy:  66.36%\n",
            "--- Time taken to train = 39.044875383377075 seconds ---\n",
            "Test Accuracy: 66.228 with len=50\n",
            "\n",
            "Number of parameters = 11455102\n"
          ],
          "name": "stdout"
        },
        {
          "output_type": "display_data",
          "data": {
            "image/png": "[encoded data removed]",
            "text/plain": [
              "<Figure size 576x432 with 2 Axes>"
            ]
          },
          "metadata": {
            "tags": [],
            "image/png": {
              "width": 558,
              "height": 414
            },
            "needs_background": "light"
          }
        }
      ]
    },
    {
      "cell_type": "markdown",
      "metadata": {
        "execution": {},
        "id": "FzF1wzzESTqP"
      },
      "source": [
        "### Change the input length\n",
        "\n",
        "Now let's increase the `sentence_length` to see how RNN performs when long reviews are allowed..\n"
      ]
    },
    {
      "cell_type": "code",
      "metadata": {
        "cellView": "form",
        "execution": {},
        "id": "fLwVE7RsSTqP",
        "outputId": "2bfa426d-b453-49ec-8041-821e162fd957",
        "colab": {
          "base_uri": "https://localhost:8080/"
        }
      },
      "source": [
        "# @markdown Load dataset with `sentence_length=200`\n",
        "TEXT_long, vocab_size_long, train_iter_long, valid_iter_long, test_iter_long = load_dataset(sentence_length=200)"
      ],
      "execution_count": 16,
      "outputs": [
        {
          "output_type": "stream",
          "text": [
            "Data loading is completed. Sentence length: 200, Batch size: 32, and seed: 522\n"
          ],
          "name": "stdout"
        }
      ]
    },
    {
      "cell_type": "markdown",
      "metadata": {
        "execution": {},
        "id": "dX04m0M0STqQ"
      },
      "source": [
        "### Re-run the network"
      ]
    },
    {
      "cell_type": "code",
      "metadata": {
        "execution": {},
        "id": "NzIR_FN0STqQ",
        "outputId": "4de65a08-c61b-4c8c-9691-637592dadc6d",
        "colab": {
          "base_uri": "https://localhost:8080/"
        }
      },
      "source": [
        "# Model hyperparamters\n",
        "learning_rate = 0.0002\n",
        "layers = 2\n",
        "output_size = 2\n",
        "hidden_size = 50  # 100\n",
        "embedding_length = 100\n",
        "epochs = 10\n",
        "\n",
        "# Initialize model, training, testing\n",
        "set_seed(SEED)\n",
        "vanilla_rnn_model_long = VanillaRNN(layers, output_size, hidden_size,\n",
        "                                    vocab_size_long, embedding_length, DEVICE)\n",
        "vanilla_rnn_model_long.to(DEVICE)\n",
        "vanilla_rnn_start_time_long = time.time()\n",
        "vanilla_train_loss_long, vanilla_train_acc_long, vanilla_validation_loss_long, vanilla_validation_acc_long = train(vanilla_rnn_model_long,\n",
        "                                                                                                                   DEVICE,\n",
        "                                                                                                                   train_iter_long,\n",
        "                                                                                                                   valid_iter_long,\n",
        "                                                                                                                   epochs,\n",
        "                                                                                                                   learning_rate)\n",
        "print(\"--- Time taken to train = %s seconds ---\" % (time.time() - vanilla_rnn_start_time_long))\n",
        "test_accuracy = test(vanilla_rnn_model_long, DEVICE, test_iter_long)\n",
        "print(f'Test Accuracy: {test_accuracy} with len=200\\n')\n",
        "\n",
        "# Number of parameters\n",
        "print(f'\\nNumber of parameters = {count_parameters(vanilla_rnn_model_long)}')"
      ],
      "execution_count": 17,
      "outputs": [
        {
          "output_type": "stream",
          "text": [
            "Random seed 2021 has been set.\n",
            "Epoch: 1, Training Loss: 0.6993, Training Accuracy:  50.21%\n",
            "Validation Loss: 0.6964, Validation Accuracy:  49.92%\n",
            "Epoch: 2, Training Loss: 0.6925, Training Accuracy:  51.49%\n",
            "Validation Loss: 0.6956, Validation Accuracy:  50.71%\n",
            "Epoch: 3, Training Loss: 0.6894, Training Accuracy:  52.49%\n",
            "Validation Loss: 0.6959, Validation Accuracy:  50.91%\n",
            "Epoch: 4, Training Loss: 0.6852, Training Accuracy:  53.71%\n",
            "Validation Loss: 0.6977, Validation Accuracy:  50.99%\n",
            "Epoch: 5, Training Loss: 0.6792, Training Accuracy:  55.14%\n",
            "Validation Loss: 0.7017, Validation Accuracy:  51.03%\n",
            "Epoch: 6, Training Loss: 0.6716, Training Accuracy:  55.85%\n",
            "Validation Loss: 0.7084, Validation Accuracy:  51.01%\n",
            "Epoch: 7, Training Loss: 0.6613, Training Accuracy:  57.96%\n",
            "Validation Loss: 0.7164, Validation Accuracy:  50.25%\n",
            "Epoch: 8, Training Loss: 0.6496, Training Accuracy:  59.23%\n",
            "Validation Loss: 0.7261, Validation Accuracy:  51.00%\n",
            "Epoch: 9, Training Loss: 0.6358, Training Accuracy:  60.32%\n",
            "Validation Loss: 0.7373, Validation Accuracy:  51.47%\n",
            "Epoch: 10, Training Loss: 0.6214, Training Accuracy:  61.30%\n",
            "Validation Loss: 0.7487, Validation Accuracy:  50.80%\n",
            "--- Time taken to train = 90.25347781181335 seconds ---\n",
            "Test Accuracy: 50.068 with len=200\n",
            "\n",
            "\n",
            "Number of parameters = 11455102\n"
          ],
          "name": "stdout"
        }
      ]
    },
    {
      "cell_type": "code",
      "metadata": {
        "execution": {},
        "id": "oYiMfX0HSTqQ",
        "outputId": "6a124ee4-a671-474e-9a66-5defb405a1d3",
        "colab": {
          "base_uri": "https://localhost:8080/",
          "height": 430
        }
      },
      "source": [
        "# Compare accuracies of model trained on different sentence lengths\n",
        "plot_train_val(np.arange(0, epochs), vanilla_train_acc,\n",
        "               vanilla_validation_acc,\n",
        "               'train accuracy, len=50', 'val accuracy, len=50',\n",
        "               '', 'accuracy',\n",
        "               color='C0')\n",
        "plot_train_val(np.arange(0, epochs), vanilla_train_acc_long,\n",
        "               vanilla_validation_acc_long,\n",
        "               'train accuracy, len=200', 'val accuracy, len=200',\n",
        "               'Training and Validation Accuracy for Sentence Lengths 50 and 200',\n",
        "               'accuracy',\n",
        "               color='C1')\n",
        "plt.legend(loc='upper left')\n",
        "plt.show()"
      ],
      "execution_count": 18,
      "outputs": [
        {
          "output_type": "display_data",
          "data": {
            "image/png": "[encoded data removed]",
            "text/plain": [
              "<Figure size 576x432 with 1 Axes>"
            ]
          },
          "metadata": {
            "tags": [],
            "image/png": {
              "width": 613,
              "height": 413
            },
            "needs_background": "light"
          }
        }
      ]
    },
    {
      "cell_type": "markdown",
      "metadata": {
        "execution": {},
        "id": "JiH-iJrASTqQ"
      },
      "source": [
        "## Section 1.3: Architectures"
      ]
    },
    {
      "cell_type": "code",
      "metadata": {
        "cellView": "form",
        "execution": {},
        "id": "U3WCqpyrSTqQ",
        "outputId": "e011f38e-06ff-466e-95f5-75338bda7d9f",
        "colab": {
          "base_uri": "https://localhost:8080/",
          "height": 580,
          "referenced_widgets": [
            "26cdca55f9da495c8f2c9b7247adf190",
            "83f18ee75dc547c998091875e6ace4ff",
            "a5ab4338575540499113ebdda4cb8844",
            "ee1bc454571741f8ae39e5f730021189",
            "25c06847f8f441f99c407e380956dbce",
            "bf450d41125f4e028b48a852a00aabd7"
          ]
        }
      },
      "source": [
        "# @title Video 2: Bidirectional RNNs\n",
        "from ipywidgets import widgets\n",
        "\n",
        "out2 = widgets.Output()\n",
        "with out2:\n",
        "  from IPython.display import IFrame\n",
        "  class BiliVideo(IFrame):\n",
        "    def __init__(self, id, page=1, width=400, height=300, **kwargs):\n",
        "      self.id=id\n",
        "      src = \"https://player.bilibili.com/player.html?bvid={0}&page={1}\".format(id, page)\n",
        "      super(BiliVideo, self).__init__(src, width, height, **kwargs)\n",
        "\n",
        "  video = BiliVideo(id=f\"BV1X64y1x7BA\", width=854, height=480, fs=1)\n",
        "  print(\"Video available at https://www.bilibili.com/video/{0}\".format(video.id))\n",
        "  display(video)\n",
        "\n",
        "out1 = widgets.Output()\n",
        "with out1:\n",
        "  from IPython.display import YouTubeVideo\n",
        "  video = YouTubeVideo(id=f\"TpgJwqB4i1c\", width=854, height=480, fs=1, rel=0)\n",
        "  print(\"Video available at https://youtube.com/watch?v=\" + video.id)\n",
        "  display(video)\n",
        "\n",
        "out = widgets.Tab([out1, out2])\n",
        "out.set_title(0, 'Youtube')\n",
        "out.set_title(1, 'Bilibili')\n",
        "\n",
        "# add event to airtable\n",
        "atform.add_event('Video 2: Bidirectional RNNs')\n",
        "\n",
        "display(out)"
      ],
      "execution_count": 19,
      "outputs": [
        {
          "output_type": "display_data",
          "data": {
            "application/vnd.jupyter.widget-view+json": {
              "model_id": "26cdca55f9da495c8f2c9b7247adf190",
              "version_minor": 0,
              "version_major": 2
            },
            "text/plain": [
              "Tab(children=(Output(), Output()), _titles={'0': 'Youtube', '1': 'Bilibili'})"
            ]
          },
          "metadata": {
            "tags": []
          }
        }
      ]
    },
    {
      "cell_type": "markdown",
      "metadata": {
        "execution": {},
        "id": "bP1NkfYrSTqQ"
      },
      "source": [
        "RNN models are mostly used in the fields of natural language processing and speech recognition. Below are types of RNNs. Depending on which outputs we use, RNN can be used for variety of tasks. The text classification problem we solved was an instance of the many to one architecture. Write down the applications of other architectures. \n"
      ]
    },
    {
      "cell_type": "markdown",
      "metadata": {
        "execution": {},
        "id": "yFspJOM6STqQ"
      },
      "source": [
        "<figure>\n",
        "  <img width=800 src=\"https://raw.githubusercontent.com/NeuromatchAcademy/course-content-dl/main/tutorials/W2D3_ModernRecurrentNeuralNetworks/static/karpathy.jpeg\">\n",
        "  <figcaption>\n",
        "  Source <a href=\"https://blog.floydhub.com/\">blog.floydhub.com</a>\n",
        "  </figcaption>\n",
        "</figure>"
      ]
    },
    {
      "cell_type": "markdown",
      "metadata": {
        "execution": {},
        "id": "Wcp8yn36STqQ"
      },
      "source": [
        "## Section 1.4: Vanishing and Exploding Gradients\n",
        "\n",
        "For an RNN to learn via backprop through time on a loss calculated at time $T$, $\\mathcal{L}_T$, with respect to an input $t$ time steps in the past, the RNN weights must be updated based on how they contributed to the hidden state at this past time step. This contribution is learned through the term $\\frac{\\partial h_{-t}}{\\partial W}$, in the gradient of the loss, $\\frac{\\partial\\mathcal{L}_T}{\\partial W}$.\n",
        "\n",
        "However, because one has to backpropagate error through $t-1$ hidden states, $\\frac{\\partial h_{-t}}{\\partial W}$ is multiplied by $\\prod_{i=0}^{t-1} \\frac{\\partial{h_i}}{\\partial{h_{i-1}}}$ in the expression for $\\frac{\\partial\\mathcal{L}_T}{\\partial W}$, which are summarized mathematically:\n",
        "\n",
        "\\begin{equation}\n",
        "\\frac{\\partial{\\mathcal{L}_T}}{\\partial{W}} \\propto \\frac{\\partial h_t }{ \\partial W} + \\sum_{k=0}^{t-1} \\left( \\prod_{i=k+1}^{t} \\frac{\\partial{h_i}}{\\partial{h_{i-1}}} \\right) \\frac{\\partial{h_k}}{\\partial{W}}\n",
        "\\end{equation}\n",
        "\n",
        "The product term leads to two common problems during the backpropagation of time-series data:\n",
        "\n",
        "* *Vanishing gradients*, *if* $ \\left| \\left| \\frac{\\partial{h_i}}{\\partial{h_{i-1}}} \\right| \\right|_2 < 1$\n",
        "\n",
        "\n",
        "* *Exploding gradients*, *if* $ \\left| \\left| \\frac{\\partial{h_i}}{\\partial{h_{i-1}}} \\right| \\right|_2 > 1$\n",
        "\n",
        "Given a sufficiently long sequence, the gradients get multiplied by the weight matrix at every time step. If the weight matrix contains very small values, then the norm of gradients will become smaller and smaller exponentially, the so-called **vanishing gradient** problem. On the other hand, if we have a weight matrix with very large values, the gradients will increase exponentially, leading to the **exploding gradients** problem: where the weights diverge at the update step.\n",
        "\n",
        "An example that has the vanishing gradient problem:\n",
        "\n",
        "The input is the characters from a *C* Program. The system will tell whether it is a syntactically correct program. A syntactically correct program should have a valid number of braces and parentheses. Thus, the network should remember how many open parentheses and braces there are to check, and whether we have closed them all. The network has to store such information in hidden states like a counter. However, because of vanishing gradients, it will fail to preserve such information in a long program."
      ]
    },
    {
      "cell_type": "markdown",
      "metadata": {
        "execution": {},
        "id": "EpTflH99STqQ"
      },
      "source": [
        "---\n",
        "# Section 2: LSTM, GRU and Memory Cell\n",
        "\n",
        "*Time estimate: ~28mins*"
      ]
    },
    {
      "cell_type": "code",
      "metadata": {
        "cellView": "form",
        "execution": {},
        "id": "JQNkhzubSTqQ",
        "outputId": "921db58d-e149-47da-ec0b-d7a618316793",
        "colab": {
          "base_uri": "https://localhost:8080/",
          "height": 580,
          "referenced_widgets": [
            "d97fa9e3bb8447caa3da3a1c1ffc37b4",
            "00a593eb3a264b98874a010928471f70",
            "c3a2a79ec09144379d4f1c70b49caf4c",
            "85f6fce32f654ed7895706ffc7d9f05c",
            "af7e39a370004ca294d1d5b20197c14c",
            "0427eb3bd63244148d1a8993428d0a37"
          ]
        }
      },
      "source": [
        "# @title Video 3: LSTM, GRU & The Memory Cells\n",
        "from ipywidgets import widgets\n",
        "\n",
        "out2 = widgets.Output()\n",
        "with out2:\n",
        "  from IPython.display import IFrame\n",
        "  class BiliVideo(IFrame):\n",
        "    def __init__(self, id, page=1, width=400, height=300, **kwargs):\n",
        "      self.id=id\n",
        "      src = \"https://player.bilibili.com/player.html?bvid={0}&page={1}\".format(id, page)\n",
        "      super(BiliVideo, self).__init__(src, width, height, **kwargs)\n",
        "\n",
        "  video = BiliVideo(id=f\"BV1Zq4y1X7kj\", width=854, height=480, fs=1)\n",
        "  print(\"Video available at https://www.bilibili.com/video/{0}\".format(video.id))\n",
        "  display(video)\n",
        "\n",
        "out1 = widgets.Output()\n",
        "with out1:\n",
        "  from IPython.display import YouTubeVideo\n",
        "  video = YouTubeVideo(id=f\"qC7O-2sXLAU\", width=854, height=480, fs=1, rel=0)\n",
        "  print(\"Video available at https://youtube.com/watch?v=\" + video.id)\n",
        "  display(video)\n",
        "\n",
        "out = widgets.Tab([out1, out2])\n",
        "out.set_title(0, 'Youtube')\n",
        "out.set_title(1, 'Bilibili')\n",
        "\n",
        "# add event to airtable\n",
        "atform.add_event('Video 3: LSTM, GRU & The Memory Cells')\n",
        "\n",
        "display(out)"
      ],
      "execution_count": 20,
      "outputs": [
        {
          "output_type": "display_data",
          "data": {
            "application/vnd.jupyter.widget-view+json": {
              "model_id": "d97fa9e3bb8447caa3da3a1c1ffc37b4",
              "version_minor": 0,
              "version_major": 2
            },
            "text/plain": [
              "Tab(children=(Output(), Output()), _titles={'0': 'Youtube', '1': 'Bilibili'})"
            ]
          },
          "metadata": {
            "tags": []
          }
        }
      ]
    },
    {
      "cell_type": "markdown",
      "metadata": {
        "execution": {},
        "id": "PVnSZhVHSTqR"
      },
      "source": [
        "## Section 2.1: Architecture\n",
        "\n",
        "The core idea behind an LSTM is the cell state $C_t$ that runs along all the LSTM units in a layer, and gets updated along the way. These updates are possible through \"gates\". Gates are made out of a sigmoid neural net layer and a pointwise multiplication operation. \n",
        "\n",
        "Each LSTM unit performs the following distinct steps using the input $X_t$, current cell state $C_t$ and previous hidden state $H_{t-1}$:\n",
        "\n",
        "* Forget Gate: *Should I throw away information from this cell?*\n",
        "\n",
        "\\begin{equation}\n",
        "F_t = \\sigma (W_f \\cdot [H_{t-1}, X_t] + b_f)\n",
        "\\end{equation}\n",
        "\n",
        "* Input Gate:\n",
        "    * *Should I add new values to this cell?*\n",
        "      \\begin{equation}\n",
        "      I_t = \\sigma (W_i \\cdot [H_{t-1}, X_t] + b_i)\n",
        "      \\end{equation}\n",
        "    * *What new candidate values should I store?*\n",
        "      \\begin{equation}\n",
        "      \\tilde{C}_t = tanh (W_C \\cdot [H_{t-1}, X_t] + b_C)\n",
        "      \\end{equation}\n",
        "\n",
        "* Update cell state: *Forget things from the past and add new things from the candidates*\n",
        "  \\begin{equation}\n",
        "  C_t = (F_t \\cdot C_{t-1}) + (I_t \\cdot \\tilde{C}_t)\n",
        "  \\end{equation}\n",
        "\n",
        "* Output Gate: \n",
        "    * *What information should I output?*\n",
        "      \\begin{equation}\n",
        "      O_t = \\sigma (W_o \\cdot [H_{t-1}, X_t] + b_o)\n",
        "      \\end{equation}\n",
        "    * *How much of the cell state should I store in the hidden state?*\n",
        "      \\begin{equation}\n",
        "      H_t = O_t \\cdot tanh(C_t)\n",
        "      \\end{equation}\n",
        "\n",
        "The architecture can be summarized by the diagram below:\n",
        "\n",
        "<center>\n",
        "<figure>\n",
        "  <img width=700 src=\"https://raw.githubusercontent.com/NeuromatchAcademy/course-content-dl/main/tutorials/W2D3_ModernRecurrentNeuralNetworks/static/lstm-1.svg\">\n",
        "  <figcaption>\n",
        "  Source <a href=\"https://d2l.ai/\">d2l.ai</a>\n",
        "  </figcaption>\n",
        "</figure>\n",
        "</center>"
      ]
    },
    {
      "cell_type": "markdown",
      "metadata": {
        "execution": {},
        "id": "nkDaCaWlSTqR"
      },
      "source": [
        "### Coding Exercise 2.1: Implementing LSTM\n",
        "\n",
        "It is now your turn to build an LSTM network in PyTorch. Feel free to refer to the documentation here: https://pytorch.org/docs/stable/generated/torch.nn.LSTM.html#torch.nn.LSTM . \n",
        "\n",
        "* Once again we will use `nn.Embedding`. You are given the `vocab_size` and the `embed_size`.\n",
        "* Add the [`LSTM`](https://pytorch.org/docs/stable/generated/torch.nn.LSTM.html#torch.nn.LSTM) layers. \n",
        "* Define a dropout layer of 0.5. \n",
        "* Determine the size of inputs and outputs to the fully-connected layer.\n",
        "* Pay special attention to the shapes of your inputs and outputs as you write the forward function.\n",
        "\n"
      ]
    },
    {
      "cell_type": "code",
      "metadata": {
        "execution": {},
        "id": "TyvHswauSTqR"
      },
      "source": [
        "class LSTM(nn.Module):\n",
        "  def __init__(self, layers, output_size, hidden_size, vocab_size, embed_size,\n",
        "               device):\n",
        "    super(LSTM, self).__init__()\n",
        "    self.n_layers = layers\n",
        "    self.output_size = output_size\n",
        "    self.hidden_size = hidden_size\n",
        "    self.device = device\n",
        "    ####################################################################\n",
        "    # Fill in missing code below (...),\n",
        "    # then remove or comment the line below to test your function\n",
        "    raise NotImplementedError(\"LSTM Init\")\n",
        "    ####################################################################\n",
        "    # Define the word embeddings\n",
        "    self.word_embeddings = ...\n",
        "    # Define the dropout layer\n",
        "    self.dropout = ...\n",
        "    # Define the lstm layer\n",
        "    self.lstm = ...\n",
        "    # Define the fully-connected layer\n",
        "    self.fc = ...\n",
        "\n",
        "\n",
        "  def forward(self, input_sentences):\n",
        "    \"\"\"Hint: Make sure the shapes of your tensors match the requirement\"\"\"\n",
        "    ####################################################################\n",
        "    # Fill in missing code below (...),\n",
        "    # then remove or comment the line below to test your function\n",
        "    raise NotImplementedError(\"LSTM Forward\")\n",
        "    ####################################################################\n",
        "    # Embeddings\n",
        "    # `input` shape: (`num_steps`, `batch_size`, `num_hiddens`)\n",
        "    input = ...\n",
        "\n",
        "    hidden = (torch.randn(self.n_layers, input.shape[1],\n",
        "                          self.hidden_size).to(self.device),\n",
        "              torch.randn(self.n_layers, input.shape[1],\n",
        "                          self.hidden_size).to(self.device))\n",
        "    # Dropout for regularization\n",
        "    input = self.dropout(input)\n",
        "    # LSTM\n",
        "    output, hidden = ...\n",
        "\n",
        "    h_n = hidden[0].permute(1, 0, 2)\n",
        "    h_n = h_n.contiguous().view(h_n.shape[0], -1)\n",
        "\n",
        "    logits = self.fc(h_n)\n",
        "\n",
        "    return logits\n",
        "\n",
        "\n",
        "# add event to airtable\n",
        "atform.add_event('Coding Exercise 2.1: Implementing LSTM')\n",
        "\n",
        "## Uncomment to run\n",
        "# sampleLSTM = LSTM(3, 10, 100, 1000, 300, DEVICE)\n",
        "# print(sampleLSTM)"
      ],
      "execution_count": 21,
      "outputs": []
    },
    {
      "cell_type": "code",
      "metadata": {
        "execution": {},
        "id": "KQK3lkiDSTqR",
        "outputId": "4d9d7da1-73a4-424f-9f43-2efc1a6e8acb",
        "colab": {
          "base_uri": "https://localhost:8080/"
        }
      },
      "source": [
        "# to_remove solution\n",
        "class LSTM(nn.Module):\n",
        "  def __init__(self, layers, output_size, hidden_size, vocab_size, embed_size,\n",
        "               device):\n",
        "    super(LSTM, self).__init__()\n",
        "    self.n_layers = layers\n",
        "    self.output_size = output_size\n",
        "    self.hidden_size = hidden_size\n",
        "    self.device = device\n",
        "    # Define the word embeddings\n",
        "    self.word_embeddings = nn.Embedding(vocab_size, embed_size)\n",
        "    # Define the dropout layer\n",
        "    self.dropout = nn.Dropout(0.5)\n",
        "    # Define the lstm layer\n",
        "    self.lstm = nn.LSTM(embed_size, hidden_size, num_layers=self.n_layers)\n",
        "    # Define the fully-connected layer\n",
        "    self.fc = nn.Linear(self.n_layers*self.hidden_size, output_size)\n",
        "\n",
        "\n",
        "  def forward(self, input_sentences):\n",
        "    # Embeddings\n",
        "    # `input` shape: (`num_steps`, `batch_size`, `num_hiddens`)\n",
        "    input = self.word_embeddings(input_sentences).permute(1, 0, 2)\n",
        "\n",
        "    hidden = (torch.randn(self.n_layers, input.shape[1],\n",
        "                          self.hidden_size).to(self.device),\n",
        "              torch.randn(self.n_layers, input.shape[1],\n",
        "                          self.hidden_size).to(self.device))\n",
        "    # Dropout for regularization\n",
        "    input = self.dropout(input)\n",
        "    # LSTM\n",
        "    output, hidden = self.lstm(input, hidden)\n",
        "\n",
        "    h_n = hidden[0].permute(1, 0, 2)\n",
        "    h_n = h_n.contiguous().view(h_n.shape[0], -1)\n",
        "\n",
        "    logits = self.fc(h_n)\n",
        "\n",
        "    return logits\n",
        "\n",
        "\n",
        "# add event to airtable\n",
        "atform.add_event('Coding Exercise 2.1: Implementing LSTM')\n",
        "\n",
        "## Uncomment to run\n",
        "sampleLSTM = LSTM(3, 10, 100, 1000, 300, DEVICE)\n",
        "print(sampleLSTM)"
      ],
      "execution_count": 22,
      "outputs": [
        {
          "output_type": "stream",
          "text": [
            "LSTM(\n",
            "  (word_embeddings): Embedding(1000, 300)\n",
            "  (dropout): Dropout(p=0.5, inplace=False)\n",
            "  (lstm): LSTM(300, 100, num_layers=3)\n",
            "  (fc): Linear(in_features=300, out_features=10, bias=True)\n",
            ")\n"
          ],
          "name": "stdout"
        }
      ]
    },
    {
      "cell_type": "markdown",
      "metadata": {
        "execution": {},
        "id": "qeyPb6W9STqR"
      },
      "source": [
        "```\n",
        "LSTM(\n",
        "  (word_embeddings): Embedding(1000, 300)\n",
        "  (dropout): Dropout(p=0.5, inplace=False)\n",
        "  (lstm): LSTM(300, 100, num_layers=3)\n",
        "  (fc): Linear(in_features=300, out_features=10, bias=True)\n",
        ")\n",
        "```"
      ]
    },
    {
      "cell_type": "code",
      "metadata": {
        "execution": {},
        "id": "XiPQQ01CSTqR",
        "outputId": "f99a184c-670c-4f58-8112-5ef32698a254",
        "colab": {
          "base_uri": "https://localhost:8080/",
          "height": 855
        }
      },
      "source": [
        "# Hyperparameters\n",
        "learning_rate = 0.0003\n",
        "layers = 2\n",
        "output_size = 2\n",
        "hidden_size = 16\n",
        "embedding_length = 100\n",
        "epochs = 10\n",
        "\n",
        "# Model, training, testing\n",
        "set_seed(SEED)\n",
        "lstm_model = LSTM(layers, output_size, hidden_size, vocab_size,\n",
        "                  embedding_length, DEVICE)\n",
        "lstm_model.to(DEVICE)\n",
        "lstm_train_loss, lstm_train_acc, lstm_validation_loss, lstm_validation_acc = train(lstm_model,\n",
        "                                                                                   DEVICE,\n",
        "                                                                                   train_iter,\n",
        "                                                                                   valid_iter,\n",
        "                                                                                   epochs,\n",
        "                                                                                   learning_rate)\n",
        "test_accuracy = test(lstm_model, DEVICE, test_iter)\n",
        "print(f'\\n\\nTest Accuracy: {test_accuracy} of the LSTM model\\n')\n",
        "\n",
        "# Plotting accuracy curve\n",
        "plt.figure()\n",
        "plt.subplot(211)\n",
        "plot_train_val(np.arange(0, epochs), lstm_train_acc, lstm_validation_acc,\n",
        "               'train accuracy',\n",
        "               'val accuracy',\n",
        "               'LSTM on IMDB text classification',\n",
        "               'accuracy',\n",
        "               color='C0')\n",
        "plt.legend(loc='upper left')\n",
        "plt.subplot(212)\n",
        "plot_train_val(np.arange(0, epochs), lstm_train_loss, lstm_validation_loss,\n",
        "               'train loss',\n",
        "               'val loss',\n",
        "               '',\n",
        "               'loss',\n",
        "               color='C0')\n",
        "plt.legend(loc='upper left')\n",
        "plt.tight_layout()\n",
        "plt.show()"
      ],
      "execution_count": 23,
      "outputs": [
        {
          "output_type": "stream",
          "text": [
            "Random seed 2021 has been set.\n",
            "Epoch: 1, Training Loss: 0.6949, Training Accuracy:  50.27%\n",
            "Validation Loss: 0.6936, Validation Accuracy:  51.15%\n",
            "Epoch: 2, Training Loss: 0.6930, Training Accuracy:  51.12%\n",
            "Validation Loss: 0.6929, Validation Accuracy:  51.43%\n",
            "Epoch: 3, Training Loss: 0.6918, Training Accuracy:  51.98%\n",
            "Validation Loss: 0.6924, Validation Accuracy:  51.05%\n",
            "Epoch: 4, Training Loss: 0.6912, Training Accuracy:  52.41%\n",
            "Validation Loss: 0.6914, Validation Accuracy:  51.64%\n",
            "Epoch: 5, Training Loss: 0.6860, Training Accuracy:  55.20%\n",
            "Validation Loss: 0.6803, Validation Accuracy:  57.41%\n",
            "Epoch: 6, Training Loss: 0.6712, Training Accuracy:  58.59%\n",
            "Validation Loss: 0.6636, Validation Accuracy:  60.56%\n",
            "Epoch: 7, Training Loss: 0.6599, Training Accuracy:  60.81%\n",
            "Validation Loss: 0.6670, Validation Accuracy:  60.20%\n",
            "Epoch: 8, Training Loss: 0.6508, Training Accuracy:  62.29%\n",
            "Validation Loss: 0.6434, Validation Accuracy:  63.68%\n",
            "Epoch: 9, Training Loss: 0.6342, Training Accuracy:  64.77%\n",
            "Validation Loss: 0.6302, Validation Accuracy:  65.44%\n",
            "Epoch: 10, Training Loss: 0.6256, Training Accuracy:  64.97%\n",
            "Validation Loss: 0.6228, Validation Accuracy:  65.29%\n",
            "\n",
            "\n",
            "Test Accuracy: 65.576 of the LSTM model\n",
            "\n"
          ],
          "name": "stdout"
        },
        {
          "output_type": "display_data",
          "data": {
            "image/png": "[encoded data removed]",
            "text/plain": [
              "<Figure size 576x432 with 2 Axes>"
            ]
          },
          "metadata": {
            "tags": [],
            "image/png": {
              "width": 557,
              "height": 413
            },
            "needs_background": "light"
          }
        }
      ]
    },
    {
      "cell_type": "markdown",
      "metadata": {
        "execution": {},
        "id": "tlK3YEfPSTqR"
      },
      "source": [
        "## Section 2.2: Gated Recurrent Units (GRU)\n",
        "\n",
        "The GRU architecture looks very similar to the LSTM, and is often used as an alternative to the traditional LSTM. It also contains some variations that reduce it's complexity. For example, it combines the forget and input gates into a single “update gate”; it contains a \"hidden state\" but not a \"cell state\". In the next section we will be using GRUs as the choice of recurrent unit in our models, but you can always swap out the GRU for an LSTM later on (make sure that you take care of input and output dimensions in this case). Here is a description of the parts of the GRU:\n",
        "\n",
        "* Reset Gate: *How much of the previous hidden state should I remember?*\n",
        "  \\begin{equation}\n",
        "  R_t = \\sigma (W_r \\cdot [H_{t-1}, X_t])\n",
        "  \\end{equation}\n",
        "\n",
        "* Update Gate: \n",
        "    * *How much of the new state is different from the old state?*\n",
        "      \\begin{equation}\n",
        "      Z_t = \\sigma (W_z \\cdot [H_{t-1}, X_t])\n",
        "      \\end{equation}\n",
        "    * *What new candidate values should I store?*\n",
        "      \\begin{equation}\n",
        "      \\tilde{H}_t = tanh (W \\cdot [R_t \\cdot H_{t-1}, X_t])\n",
        "      \\end{equation}\n",
        "\n",
        "* Update hidden state: *Deciding how much of the old hidden state to keep and discard*\n",
        "  \\begin{equation}\n",
        "  H_t = ((1-Z_t) \\cdot H_{t-1} ) + (Z_t \\cdot \\tilde{H}_t)\n",
        "  \\end{equation}\n",
        "\n",
        "Here is what the architecture looks like:\n",
        "\n",
        "<center>\n",
        "<figure>\n",
        "  <img width=700 src=\"https://raw.githubusercontent.com/NeuromatchAcademy/course-content-dl/main/tutorials/W2D3_ModernRecurrentNeuralNetworks/static/gru-3.svg\">\n",
        "  <figcaption>\n",
        "  Source <a href=\"https://d2l.ai/\">d2l.ai</a>\n",
        "  </figcaption>\n",
        "</figure>\n",
        "</center>"
      ]
    },
    {
      "cell_type": "markdown",
      "metadata": {
        "execution": {},
        "id": "hHqpjq9VSTqS"
      },
      "source": [
        "### Coding Exercise 2.2: BiLSTM\n",
        "\n",
        "Let's apply the knowledge to write a bi-LSTM using PyTorch.\n",
        "\n",
        "* Use an Embedding layer\n",
        "* Dropout of 0.5\n",
        "* Add 2 LSTM layers\n",
        "* Linear layer "
      ]
    },
    {
      "cell_type": "code",
      "metadata": {
        "execution": {},
        "id": "8tWgAoIlSTqS"
      },
      "source": [
        "class biLSTM(nn.Module):\n",
        "  def __init__(self, output_size, hidden_size, vocab_size, embed_size,\n",
        "               device):\n",
        "    super(biLSTM, self).__init__()\n",
        "    self.output_size = output_size\n",
        "    self.hidden_size = hidden_size\n",
        "    self.device = device\n",
        "    ####################################################################\n",
        "    # Fill in missing code below (...)\n",
        "    raise NotImplementedError(\"biLSTM\")\n",
        "    ####################################################################\n",
        "    # Define the word embeddings\n",
        "    self.word_embeddings = ...\n",
        "    # Define the dropout layer\n",
        "    self.dropout = ...\n",
        "    # Define the bilstm layer\n",
        "    self.bilstm = ...\n",
        "    # Define the fully-connected layer\n",
        "    self.fc = ...\n",
        "\n",
        "  def forward(self, input_sentences):\n",
        "    input = self.word_embeddings(input_sentences).permute(1, 0, 2)\n",
        "    hidden = (torch.randn(4, input.shape[1], self.hidden_size).to(self.device),\n",
        "              torch.randn(4, input.shape[1], self.hidden_size).to(self.device))\n",
        "    input = self.dropout(input)\n",
        "\n",
        "    output, hidden = self.bilstm(input, hidden)\n",
        "\n",
        "    h_n = hidden[0].permute(1, 0, 2)\n",
        "    h_n = h_n.contiguous().view(h_n.shape[0], -1)\n",
        "    logits = self.fc(h_n)\n",
        "\n",
        "    return logits\n",
        "\n",
        "\n",
        "# add event to airtable\n",
        "atform.add_event('Coding Exercise 2.2: BiLSTM')\n",
        "\n",
        "## Uncomment to run\n",
        "# sampleBiLSTM = biLSTM(10, 100, 1000, 300, DEVICE)\n",
        "# print(sampleBiLSTM)"
      ],
      "execution_count": 24,
      "outputs": []
    },
    {
      "cell_type": "code",
      "metadata": {
        "execution": {},
        "id": "r-yr06IKSTqS",
        "outputId": "1025ec07-6553-4353-f233-e87995e9406d",
        "colab": {
          "base_uri": "https://localhost:8080/"
        }
      },
      "source": [
        "# to_remove solution\n",
        "class biLSTM(nn.Module):\n",
        "  def __init__(self, output_size, hidden_size, vocab_size, embed_size,\n",
        "               device):\n",
        "    super(biLSTM, self).__init__()\n",
        "    self.output_size = output_size\n",
        "    self.hidden_size = hidden_size\n",
        "    self.device = device\n",
        "    # Define the word embeddings\n",
        "    self.word_embeddings = nn.Embedding(vocab_size, embed_size)\n",
        "    # Define the dropout layer\n",
        "    self.dropout = nn.Dropout(0.5)\n",
        "    # Define the bilstm layer\n",
        "    self.bilstm = nn.LSTM(embed_size, hidden_size, num_layers=2, bidirectional=True)\n",
        "    # Define the fully-connected layer\n",
        "    self.fc = nn.Linear(4*hidden_size, output_size)\n",
        "\n",
        "\n",
        "  def forward(self, input_sentences):\n",
        "    input = self.word_embeddings(input_sentences).permute(1, 0, 2)\n",
        "    hidden = (torch.randn(4, input.shape[1], self.hidden_size).to(self.device),\n",
        "              torch.randn(4, input.shape[1], self.hidden_size).to(self.device))\n",
        "    input = self.dropout(input)\n",
        "\n",
        "    output, hidden = self.bilstm(input, hidden)\n",
        "\n",
        "    h_n = hidden[0].permute(1, 0, 2)\n",
        "    h_n = h_n.contiguous().view(h_n.shape[0], -1)\n",
        "    logits = self.fc(h_n)\n",
        "\n",
        "    return logits\n",
        "\n",
        "\n",
        "# add event to airtable\n",
        "atform.add_event('Coding Exercise 2.2: BiLSTM')\n",
        "\n",
        "## Uncomment to run\n",
        "sampleBiLSTM = biLSTM(10, 100, 1000, 300, DEVICE)\n",
        "print(sampleBiLSTM)"
      ],
      "execution_count": 25,
      "outputs": [
        {
          "output_type": "stream",
          "text": [
            "biLSTM(\n",
            "  (word_embeddings): Embedding(1000, 300)\n",
            "  (dropout): Dropout(p=0.5, inplace=False)\n",
            "  (bilstm): LSTM(300, 100, num_layers=2, bidirectional=True)\n",
            "  (fc): Linear(in_features=400, out_features=10, bias=True)\n",
            ")\n"
          ],
          "name": "stdout"
        }
      ]
    },
    {
      "cell_type": "markdown",
      "metadata": {
        "execution": {},
        "id": "J4faSnnrSTqS"
      },
      "source": [
        "```\n",
        "biLSTM(\n",
        "  (word_embeddings): Embedding(1000, 300)\n",
        "  (dropout): Dropout(p=0.5, inplace=False)\n",
        "  (bilstm): LSTM(300, 100, num_layers=2, bidirectional=True)\n",
        "  (fc): Linear(in_features=400, out_features=10, bias=True)\n",
        ")\n",
        "```"
      ]
    },
    {
      "cell_type": "code",
      "metadata": {
        "execution": {},
        "id": "y1OIqpAWSTqS",
        "outputId": "f3c7a23e-0e4e-4a32-c409-46189c7425c2",
        "colab": {
          "base_uri": "https://localhost:8080/",
          "height": 822
        }
      },
      "source": [
        "# Hyperparameters\n",
        "learning_rate = 0.0003\n",
        "output_size = 2\n",
        "hidden_size = 16\n",
        "embedding_length = 100\n",
        "epochs = 10\n",
        "\n",
        "# Model, training, testing\n",
        "set_seed(SEED)\n",
        "bilstm_model = biLSTM(output_size, hidden_size, vocab_size,\n",
        "                      embedding_length, DEVICE)\n",
        "bilstm_model.to(DEVICE)\n",
        "bilstm_train_loss, bilstm_train_acc, bilstm_validation_loss, bilstm_validation_acc = train(bilstm_model,\n",
        "                                                                                           DEVICE,\n",
        "                                                                                           train_iter,\n",
        "                                                                                           valid_iter,\n",
        "                                                                                           epochs,\n",
        "                                                                                           learning_rate)\n",
        "test_accuracy = test(bilstm_model, DEVICE, test_iter)\n",
        "print(f'Test Accuracy: {test_accuracy} of the biLSTM model\\n')\n",
        "\n",
        "# Plotting accuracy curve\n",
        "plt.figure()\n",
        "plt.subplot(211)\n",
        "plot_train_val(np.arange(0, epochs), bilstm_train_acc, bilstm_validation_acc,\n",
        "               'train accuracy',\n",
        "               'val accuracy',\n",
        "               'biLSTM on IMDB text classification',\n",
        "               'accuracy',\n",
        "               color='C1')\n",
        "plt.legend(loc='upper left')\n",
        "plt.subplot(212)\n",
        "plot_train_val(np.arange(0, epochs), bilstm_train_loss, bilstm_validation_loss,\n",
        "               'train loss',\n",
        "               'val loss',\n",
        "               '',\n",
        "               'loss',\n",
        "               color='C1')\n",
        "plt.legend(loc='upper left')\n",
        "plt.tight_layout()\n",
        "plt.show()"
      ],
      "execution_count": 26,
      "outputs": [
        {
          "output_type": "stream",
          "text": [
            "Random seed 2021 has been set.\n",
            "Epoch: 1, Training Loss: 0.6953, Training Accuracy:  50.53%\n",
            "Validation Loss: 0.6918, Validation Accuracy:  52.88%\n",
            "Epoch: 2, Training Loss: 0.6916, Training Accuracy:  51.87%\n",
            "Validation Loss: 0.6883, Validation Accuracy:  54.64%\n",
            "Epoch: 3, Training Loss: 0.6882, Training Accuracy:  53.86%\n",
            "Validation Loss: 0.6821, Validation Accuracy:  56.77%\n",
            "Epoch: 4, Training Loss: 0.6785, Training Accuracy:  56.99%\n",
            "Validation Loss: 0.6628, Validation Accuracy:  60.16%\n",
            "Epoch: 5, Training Loss: 0.6595, Training Accuracy:  60.91%\n",
            "Validation Loss: 0.6441, Validation Accuracy:  62.63%\n",
            "Epoch: 6, Training Loss: 0.6427, Training Accuracy:  63.28%\n",
            "Validation Loss: 0.6292, Validation Accuracy:  64.73%\n",
            "Epoch: 7, Training Loss: 0.6296, Training Accuracy:  64.63%\n",
            "Validation Loss: 0.6186, Validation Accuracy:  65.79%\n",
            "Epoch: 8, Training Loss: 0.6192, Training Accuracy:  65.34%\n",
            "Validation Loss: 0.6141, Validation Accuracy:  66.04%\n",
            "Epoch: 9, Training Loss: 0.6064, Training Accuracy:  67.00%\n",
            "Validation Loss: 0.6098, Validation Accuracy:  67.07%\n",
            "Epoch: 10, Training Loss: 0.5914, Training Accuracy:  68.44%\n",
            "Validation Loss: 0.5915, Validation Accuracy:  68.80%\n",
            "Test Accuracy: 67.696 of the biLSTM model\n",
            "\n"
          ],
          "name": "stdout"
        },
        {
          "output_type": "display_data",
          "data": {
            "image/png": "[encoded data removed]",
            "text/plain": [
              "<Figure size 576x432 with 2 Axes>"
            ]
          },
          "metadata": {
            "tags": [],
            "image/png": {
              "width": 558,
              "height": 414
            },
            "needs_background": "light"
          }
        }
      ]
    },
    {
      "cell_type": "code",
      "metadata": {
        "execution": {},
        "id": "HuBCOQjASTqS",
        "outputId": "8d5f26c3-0432-4390-93cc-8005b502ae80",
        "colab": {
          "base_uri": "https://localhost:8080/",
          "height": 430
        }
      },
      "source": [
        "# Compare accuracies of LSTM and biLSTM\n",
        "plot_train_val(np.arange(0, epochs), lstm_train_acc,\n",
        "               lstm_validation_acc,\n",
        "               'train accuracy LSTM', 'val accuracy LSTM',\n",
        "               '', 'accuracy',\n",
        "               color='C0')\n",
        "plot_train_val(np.arange(0, epochs), bilstm_train_acc,\n",
        "               bilstm_validation_acc,\n",
        "               'train accuracy biLSTM', 'val accuracy biLSTM',\n",
        "               'Training and Validation Accuracy for LSTM and biLSTM models',\n",
        "               'accuracy',\n",
        "               color='C1')\n",
        "plt.legend(loc='upper left')\n",
        "plt.show()"
      ],
      "execution_count": 27,
      "outputs": [
        {
          "output_type": "display_data",
          "data": {
            "image/png": "[encoded data removed]",
            "text/plain": [
              "<Figure size 576x432 with 1 Axes>"
            ]
          },
          "metadata": {
            "tags": [],
            "image/png": {
              "width": 572,
              "height": 413
            },
            "needs_background": "light"
          }
        }
      ]
    },
    {
      "cell_type": "markdown",
      "metadata": {
        "execution": {},
        "id": "vlnaFX8MSTqS"
      },
      "source": [
        "---\n",
        "# Section 3: Sequence to Sequence (Seq2Seq) & Encoder/ Decoder Networks\n",
        "\n",
        "*Time estimate: ~15mins*"
      ]
    },
    {
      "cell_type": "code",
      "metadata": {
        "cellView": "form",
        "execution": {},
        "id": "w0ZI5uuMSTqS",
        "outputId": "bad99d6e-a66e-4e06-8e4e-470a62e90b20",
        "colab": {
          "base_uri": "https://localhost:8080/",
          "height": 580,
          "referenced_widgets": [
            "26d6f5f56ce745d19feb147070fca714",
            "5e11be222b07405c8b3194abaeb0e983",
            "7336cf9f2ad34138979609332c2c7dd8",
            "77e15b93b45a433697fe63e9aa09b146",
            "4708bc3b14b1438681e613bfad23b061",
            "e4b3e8fa9a7745b0b66fbbd3e65233dd"
          ]
        }
      },
      "source": [
        "# @title Video 4: Seq2Seq & Encoder-Decoder Nets\n",
        "from ipywidgets import widgets\n",
        "\n",
        "out2 = widgets.Output()\n",
        "with out2:\n",
        "  from IPython.display import IFrame\n",
        "  class BiliVideo(IFrame):\n",
        "    def __init__(self, id, page=1, width=400, height=300, **kwargs):\n",
        "      self.id=id\n",
        "      src = \"https://player.bilibili.com/player.html?bvid={0}&page={1}\".format(id, page)\n",
        "      super(BiliVideo, self).__init__(src, width, height, **kwargs)\n",
        "\n",
        "  video = BiliVideo(id=f\"BV1WM4y1N7P7\", width=854, height=480, fs=1)\n",
        "  print(\"Video available at https://www.bilibili.com/video/{0}\".format(video.id))\n",
        "  display(video)\n",
        "\n",
        "out1 = widgets.Output()\n",
        "with out1:\n",
        "  from IPython.display import YouTubeVideo\n",
        "  video = YouTubeVideo(id=f\"q-hf7mnZsXo\", width=854, height=480, fs=1, rel=0)\n",
        "  print(\"Video available at https://youtube.com/watch?v=\" + video.id)\n",
        "  display(video)\n",
        "\n",
        "out = widgets.Tab([out1, out2])\n",
        "out.set_title(0, 'Youtube')\n",
        "out.set_title(1, 'Bilibili')\n",
        "\n",
        "# add event to airtable\n",
        "atform.add_event('Video 4: Seq2Seq & Encoder-Decoder Nets')\n",
        "\n",
        "display(out)"
      ],
      "execution_count": 28,
      "outputs": [
        {
          "output_type": "display_data",
          "data": {
            "application/vnd.jupyter.widget-view+json": {
              "model_id": "26d6f5f56ce745d19feb147070fca714",
              "version_minor": 0,
              "version_major": 2
            },
            "text/plain": [
              "Tab(children=(Output(), Output()), _titles={'0': 'Youtube', '1': 'Bilibili'})"
            ]
          },
          "metadata": {
            "tags": []
          }
        }
      ]
    },
    {
      "cell_type": "markdown",
      "metadata": {
        "execution": {},
        "id": "joQeSNE9STqS"
      },
      "source": [
        "Sources: [d2l.ai on encoders](https://d2l.ai/chapter_recurrent-modern/encoder-decoder.html) ; [d2l.ai on seq2seq](https://d2l.ai/chapter_recurrent-modern/seq2seq.html) ; [Jalammar's blog](https://jalammar.github.io/visualizing-neural-machine-translation-mechanics-of-seq2seq-models-with-attention/ )\n",
        "\n",
        "Sequence-to-sequence models take in a sequence of items (words, characters, etc) as input and produces another sequence of items as output. The most \n",
        "simple seq2seq models are composed of two parts: the encoder, the context (\"state\" in the figure) and the decoder. The encoder and decoder usually consist of recurrent units that we've seen before (RNNs, GRUs or LSTMs). A high-level schematic of the architecture is as follows:\n",
        "\n",
        "<center>\n",
        "<figure>\n",
        "  <img width=700 src=\"https://raw.githubusercontent.com/NeuromatchAcademy/course-content-dl/main/tutorials/W2D3_ModernRecurrentNeuralNetworks/static/seq2seq-predict.svg\">\n",
        "  <figcaption>\n",
        "  Source <a href=\"https://d2l.ai/\">d2l.ai</a>\n",
        "  </figcaption>\n",
        "</figure>\n",
        "</center>\n",
        "\n",
        "The encoder's recurrent unit processes the input one item at a time. Once the entire sequence is processed, the final hidden state vector produced is known as a context vector. The size of the context vector is defined while setting up the model, and is equal to the number of hidden states used in the encoder RNN. The encoder then passes the context to the decoder. The decoder's recurrent unit uses the context to produce the items for the output sequence one by one.   \n"
      ]
    },
    {
      "cell_type": "markdown",
      "metadata": {
        "execution": {},
        "id": "9CApESrASTqT"
      },
      "source": [
        "One of the most popular applications of seq2seq models is \"machine translation\": the task of taking in a sentence in one language (the source) and producing its translation in another language (the target); with words in both lanugages being the sequence units. This is a supervised learning task, and requires the dataset to have \"parallel sentences\"; i.e., each sentence in the source language must be labelled with its translation in the target language. \n",
        "\n",
        "[Here is an intuitive visualization for understanding seq2seq models for machine translation from English to French](https://i.imgur.com/HJ6t8up.mp4)\n",
        "\n",
        "Since the vocabulary of an entire language is very large, training such models to give meaningful performance requires significant time and resources. In this section, we will train a seq2seq model to perform machine translation from English to [Pig-Latin](https://en.wikipedia.org/wiki/Pig_Latin). We will modify the task to perform character-level machine translation, so that vocabulary size does not grow exponentially.   \n"
      ]
    },
    {
      "cell_type": "markdown",
      "metadata": {
        "execution": {},
        "id": "jSkHI119STqT"
      },
      "source": [
        "## Coding Exercise 3: Encoder\n",
        "\n",
        "Let us consider a sequence example (`batch_size=1`). Suppose that the input sequence is $x_1, \\ldots, x_T$, such that $x_t$ is the $t^{\\mathrm{th}}$ token in the input text sequence. At time step $t$, the RNN transforms the input feature vector $\\mathbf{x}_t$ for $x_t$ and the hidden state $\\mathbf{h} _{t-1}$ from the previous time step into the current hidden state $\\mathbf{h}_t$.\n",
        "\n",
        "We can use a function $f$ to express the transformation of the RNN's recurrent layer:\n",
        "\n",
        "\\begin{equation}\n",
        "\\mathbf{h}_t = f(\\mathbf{x}_t, \\mathbf{h}_{t-1})\n",
        "\\end{equation}\n",
        "\n",
        "In general, the encoder transforms the hidden states at all the time steps into the context variable through a customized function $q$:\n",
        "\n",
        "\\begin{equation}\n",
        "\\mathbf{c} =  q(\\mathbf{h}_1, \\ldots, \\mathbf{h}_T)\n",
        "\\end{equation}\n",
        "\n",
        "For example, when choosing $q(\\mathbf{h}_1, \\ldots, \\mathbf{h}_T) = \\mathbf{h}_T$  the context variable is just the hidden state $\\mathbf{h}_T$ of the input sequence at the final time step.\n",
        "\n",
        "So far we have used a unidirectional RNN to design the encoder, where a hidden state only depends on the input subsequence at and before the time step of the hidden state. We can also construct encoders using bidirectional RNNs. In this case, a hidden state depends on the subsequence before and after the time step (including the input at the current time step), which encodes the information of the entire sequence.\n",
        "\n",
        "Now let us implement the RNN encoder. Note that we use an *embedding layer*\n",
        "to obtain the feature vector for each token in the input sequence. The weight of an embedding layer is a matrix whose number of rows is equal to the size of the input vocabulary (`vocab_size`) and the number of columns equals to the feature vector's dimension (`embed_size`). For any input token index $i$,\n",
        "the embedding layer fetches the $i^{\\mathrm{th}}$ row (starting from 0) of the weight matrix to return its feature vector. ere we choose a multilayer GRU to implement the encoder."
      ]
    },
    {
      "cell_type": "markdown",
      "metadata": {
        "execution": {},
        "id": "q7itq8CuSTqT"
      },
      "source": [
        "The returned variables of recurrent layers have been completely explained at [this link](https://www.d2l.ai/chapter_recurrent-neural-networks/rnn-concise.html#sec-rnn-concise). Let us still use a concrete example to illustrate the above encoder implementation. Below we instantiate a two-layer GRU encoder whose number of hidden units is 16. Given a minibatch of sequence inputs $X$ (`batch_size=4`, `number_of_time_steps=7`), the hidden states of the last layer at all the time steps (`output` returned by the encoder's recurrent layers) are a tensor of shape (number of time steps, batch size, number of hidden units).\n"
      ]
    },
    {
      "cell_type": "code",
      "metadata": {
        "execution": {},
        "id": "vg94ogs_STqT"
      },
      "source": [
        "class Seq2SeqEncoder(d2l.Encoder):\n",
        "  \"\"\"The RNN encoder for sequence to sequence learning.\"\"\"\n",
        "  def __init__(self, vocab_size, embed_size, num_hiddens, num_layers,\n",
        "                dropout=0, **kwargs):\n",
        "    super(Seq2SeqEncoder, self).__init__(**kwargs)\n",
        "    ####################################################################\n",
        "    # Fill in missing code below (...),\n",
        "    # then remove or comment the line below to test your function\n",
        "    raise NotImplementedError(\"Encoder Unit\")\n",
        "    ####################################################################\n",
        "    # Embedding layer\n",
        "    self.embedding = ...\n",
        "    # Here you're going to implement a GRU as the RNN unit\n",
        "    self.rnn = ...\n",
        "\n",
        "  def forward(self, X, *args):\n",
        "    # The output `X` shape: (`batch_size`, `num_steps`, `embed_size`)\n",
        "    X = self.embedding(X)\n",
        "    # In RNN models, the first axis corresponds to time steps\n",
        "    X = X.permute(1, 0, 2)\n",
        "    ####################################################################\n",
        "    # Fill in missing code below (...),\n",
        "    # then remove or comment the line below to test your function\n",
        "    raise NotImplementedError(\"Forward pass\")\n",
        "    ####################################################################\n",
        "    # When state is not mentioned, it defaults to zeros, the output should be a RNN function of X!\n",
        "    output, state = ...\n",
        "    # `output` shape: (`num_steps`, `batch_size`, `num_hiddens`)\n",
        "    # `state` shape: (`num_layers`, `batch_size`, `num_hiddens`)\n",
        "\n",
        "    return output, state\n",
        "\n",
        "\n",
        "# add event to airtable\n",
        "atform.add_event('Coding Exercise 3: Encoder')\n",
        "\n",
        "X = torch.zeros((4, 7), dtype=torch.long)\n",
        "## uncomment the lines below.\n",
        "# encoder = Seq2SeqEncoder(vocab_size=10, embed_size=8, num_hiddens=16, num_layers=2)\n",
        "# encoder.eval()\n",
        "# output, state = encoder(X)\n",
        "# print(output.shape)\n",
        "# print(state.shape)"
      ],
      "execution_count": 29,
      "outputs": []
    },
    {
      "cell_type": "code",
      "metadata": {
        "execution": {},
        "id": "CZ5eP3ZjSTqT",
        "outputId": "764901d7-3a8d-4a5f-c937-bab146b37317",
        "colab": {
          "base_uri": "https://localhost:8080/"
        }
      },
      "source": [
        "# to_remove solution\n",
        "class Seq2SeqEncoder(d2l.Encoder):\n",
        "  \"\"\"The RNN encoder for sequence to sequence learning.\"\"\"\n",
        "  def __init__(self, vocab_size, embed_size, num_hiddens, num_layers,\n",
        "                dropout=0, **kwargs):\n",
        "    super(Seq2SeqEncoder, self).__init__(**kwargs)\n",
        "\n",
        "    # Embedding layer\n",
        "    self.embedding = nn.Embedding(vocab_size, embed_size)\n",
        "    # Here you're going to implement a GRU as the RNN unit\n",
        "    self.rnn = nn.GRU(embed_size, num_hiddens, num_layers,\n",
        "                      dropout=dropout)\n",
        "\n",
        "  def forward(self, X, *args):\n",
        "    # The output `X` shape: (`batch_size`, `num_steps`, `embed_size`)\n",
        "    X = self.embedding(X)\n",
        "    # In RNN models, the first axis corresponds to time steps\n",
        "    X = X.permute(1, 0, 2)\n",
        "    # When state is not mentioned, it defaults to zeros, the output should be a RNN function of X!\n",
        "    output, state = self.rnn(X)\n",
        "    # `output` shape: (`num_steps`, `batch_size`, `num_hiddens`)\n",
        "    # `state` shape: (`num_layers`, `batch_size`, `num_hiddens`)\n",
        "    return output, state\n",
        "\n",
        "\n",
        "# add event to airtable\n",
        "atform.add_event('Coding Exercise 3: Encoder')\n",
        "\n",
        "X = torch.zeros((4, 7), dtype=torch.long)\n",
        "## uncomment the lines below.\n",
        "encoder = Seq2SeqEncoder(vocab_size=10, embed_size=8, num_hiddens=16, num_layers=2)\n",
        "encoder.eval()\n",
        "output, state = encoder(X)\n",
        "print(output.shape)\n",
        "print(state.shape)"
      ],
      "execution_count": 30,
      "outputs": [
        {
          "output_type": "stream",
          "text": [
            "torch.Size([7, 4, 16])\n",
            "torch.Size([2, 4, 16])\n"
          ],
          "name": "stdout"
        }
      ]
    },
    {
      "cell_type": "markdown",
      "metadata": {
        "execution": {},
        "id": "Zj-VTeAuSTqT"
      },
      "source": [
        "```\n",
        "torch.Size([7, 4, 16])\n",
        "torch.Size([2, 4, 16])\n",
        "```"
      ]
    },
    {
      "cell_type": "markdown",
      "metadata": {
        "execution": {},
        "id": "UbJkgPF5STqT"
      },
      "source": [
        "## Section 3.1: Decoder\n",
        "\n",
        "As we just mentioned, the context variable $\\mathbf{c}$ of the encoder's output encodes the entire input sequence $x_1, \\ldots, x_T$. Given the output sequence $y_1, y_2, \\ldots, y_{T'}$ from the training dataset, for each time step $t'$\n",
        "(the symbol differs from the time step $t$ of input sequences or encoders),\n",
        "the probability of the decoder output $y_{t'}$ is conditional on the previous output subsequence $y_1, \\ldots, y_{t'-1}$ and the context variable $\\mathbf{c}$, i.e., $P(y_{t'} \\mid y_1, \\ldots, y_{t'-1}, \\mathbf{c})$.\n",
        "\n",
        "\n",
        "To model this conditional probability on sequences, we can use another RNN as the decoder. At any time step $t^\\prime$ on the output sequence, the RNN takes the output $y_{t^\\prime-1}$ from the previous time step and the context variable $\\mathbf{c}$ as its input, then transforms them and the previous hidden state $\\mathbf{s}_{t^\\prime-1}$ into the hidden state $\\mathbf{s}_{t^\\prime}$ at the current time step.\n",
        "\n",
        "As a result, we can use a function $g$ to express the transformation of the decoder's hidden layer:\n",
        "\n",
        "\\begin{equation}\n",
        "\\mathbf{s}_{t^\\prime} = g(y_{t^\\prime-1}, \\mathbf{c}, \\mathbf{s}_{t^\\prime-1})\n",
        "\\end{equation}\n",
        "\n",
        "After obtaining the hidden state of the decoder, we can use an output layer and the softmax operation to compute the conditional probability distribution\n",
        "$P(y_{t^\\prime} \\mid y_1, \\ldots, y_{t^\\prime-1}, \\mathbf{c})$ for the output at time step $t^\\prime$.\n",
        "\n",
        "Following `fig_seq2seq`, when implementing the decoder as follows, we directly use the hidden state at the final time step of the encoder to initialize the hidden state of the decoder.\n",
        "\n",
        "This requires that the RNN encoder and the RNN decoder have the same number of layers and hidden units. To further incorporate the encoded input sequence information, the context variable is concatenated with the decoder input at all the time steps. To predict the probability distribution of the output token,\n",
        "a fully-connected layer is used to transform the hidden state at the final layer of the RNN decoder."
      ]
    },
    {
      "cell_type": "code",
      "metadata": {
        "execution": {},
        "id": "CeVwTYgvSTqT"
      },
      "source": [
        "class Seq2SeqDecoder(d2l.Decoder):\n",
        "  \"\"\"The RNN decoder for sequence to sequence learning.\"\"\"\n",
        "  def __init__(self, vocab_size, embed_size, num_hiddens, num_layers,\n",
        "                dropout=0, **kwargs):\n",
        "    super(Seq2SeqDecoder, self).__init__(**kwargs)\n",
        "    self.embedding = nn.Embedding(vocab_size, embed_size)\n",
        "    self.rnn = nn.GRU(embed_size + num_hiddens, num_hiddens, num_layers,\n",
        "                      dropout=dropout)\n",
        "    self.dense = nn.Linear(num_hiddens, vocab_size)\n",
        "\n",
        "  def init_state(self, enc_outputs, *args):\n",
        "    return enc_outputs[1]\n",
        "\n",
        "  def forward(self, X, state):\n",
        "    # The output `X` shape: (`num_steps`, `batch_size`, `embed_size`)\n",
        "    X = self.embedding(X).permute(1, 0, 2)\n",
        "    # Broadcast `context` so it has the same `num_steps` as `X`\n",
        "    context = state[-1].repeat(X.shape[0], 1, 1)\n",
        "    X_and_context = torch.cat((X, context), 2)\n",
        "    output, state = self.rnn(X_and_context, state)\n",
        "    output = self.dense(output).permute(1, 0, 2)\n",
        "    # `output` shape: (`batch_size`, `num_steps`, `vocab_size`)\n",
        "    # `state` shape: (`num_layers`, `batch_size`, `num_hiddens`)\n",
        "    return output, state"
      ],
      "execution_count": 31,
      "outputs": []
    },
    {
      "cell_type": "markdown",
      "metadata": {
        "execution": {},
        "id": "jar9ThOnSTqU"
      },
      "source": [
        "To illustrate the implemented decoder,\n",
        "below we instantiate it with the same hyperparameters from the aforementioned encoder.\n",
        "As we can see, the output shape of the decoder becomes (batch size, number of time steps, vocabulary size),\n",
        "where the last dimension of the tensor stores the predicted token distribution.\n"
      ]
    },
    {
      "cell_type": "code",
      "metadata": {
        "execution": {},
        "id": "bbIsjz4VSTqU",
        "outputId": "d42fa3bb-4a8b-4bc3-868d-b997802dcd3b",
        "colab": {
          "base_uri": "https://localhost:8080/"
        }
      },
      "source": [
        "decoder = Seq2SeqDecoder(vocab_size=10, embed_size=8, num_hiddens=16,\n",
        "                         num_layers=2)\n",
        "# decoder.initialize()\n",
        "state = decoder.init_state(encoder(X))\n",
        "output, state = decoder(X, state)\n",
        "output.shape, len(state), state[0].shape"
      ],
      "execution_count": 32,
      "outputs": [
        {
          "output_type": "execute_result",
          "data": {
            "text/plain": [
              "(torch.Size([4, 7, 10]), 2, torch.Size([4, 16]))"
            ]
          },
          "metadata": {
            "tags": []
          },
          "execution_count": 32
        }
      ]
    },
    {
      "cell_type": "markdown",
      "metadata": {
        "execution": {},
        "id": "4kz17VhmSTqU"
      },
      "source": [
        "## Section 3.2: Loss Function\n",
        "\n",
        "At each time step, the decoder predicts a probability distribution for the output tokens. Similar to language modeling, we can apply softmax to obtain the distribution and calculate the cross-entropy loss for optimization. Recall that the special padding tokens are appended to the end of sequences so sequences of varying lengths can be efficiently loaded in minibatches of the same shape.\n",
        "However, prediction of padding tokens should be excluded from loss calculations.\n",
        "\n",
        "To this end, we can use the following `sequence_mask` function to mask irrelevant entries with zero values so later multiplication of any irrelevant prediction with zero equals to zero. For example, if the valid length of two sequences excluding padding tokens (i.e., pads each sequence to the same length usually matching the longest sequence) are one and two, respectively, the remaining entries after the first one and the first two entries are cleared to zeros.\n"
      ]
    },
    {
      "cell_type": "code",
      "metadata": {
        "execution": {},
        "id": "Sw4GldlYSTqU",
        "outputId": "1e6581bf-b573-491e-9c8d-e5c56b22b5c8",
        "colab": {
          "base_uri": "https://localhost:8080/"
        }
      },
      "source": [
        "def sequence_mask(X, valid_len, value=0):\n",
        "  \"\"\"Mask irrelevant entries in sequences.\"\"\"\n",
        "  maxlen = X.size(1)\n",
        "  mask = torch.arange((maxlen), dtype=torch.float32,\n",
        "                      device=X.device)[None, :] < valid_len[:, None]\n",
        "  X[~mask] = value\n",
        "  return X\n",
        "\n",
        "\n",
        "X = torch.tensor([[1, 2, 3], [4, 5, 6]])\n",
        "print(sequence_mask(X, torch.tensor([1, 2])))\n",
        "X = torch.ones(2, 3, 4)\n",
        "print(sequence_mask(X, torch.tensor([1, 2]), value=-1))"
      ],
      "execution_count": 33,
      "outputs": [
        {
          "output_type": "stream",
          "text": [
            "tensor([[1, 0, 0],\n",
            "        [4, 5, 0]])\n",
            "tensor([[[ 1.,  1.,  1.,  1.],\n",
            "         [-1., -1., -1., -1.],\n",
            "         [-1., -1., -1., -1.]],\n",
            "\n",
            "        [[ 1.,  1.,  1.,  1.],\n",
            "         [ 1.,  1.,  1.,  1.],\n",
            "         [-1., -1., -1., -1.]]])\n"
          ],
          "name": "stdout"
        }
      ]
    },
    {
      "cell_type": "markdown",
      "metadata": {
        "execution": {},
        "id": "knG-KaGQSTqU"
      },
      "source": [
        "Now we can extend the softmax cross-entropy loss\n",
        "to allow the masking of irrelevant predictions.\n",
        "Initially,\n",
        "masks for all the predicted tokens are set to one.\n",
        "Once the valid length is given,\n",
        "the mask corresponding to any padding token\n",
        "will be cleared to zero.\n",
        "In the end,\n",
        "the loss for all the tokens\n",
        "will be multipled by the mask to filter out\n",
        "irrelevant predictions of padding tokens in the loss.\n"
      ]
    },
    {
      "cell_type": "code",
      "metadata": {
        "execution": {},
        "id": "hiQBZ1JVSTqU",
        "outputId": "316eceec-2ded-41e4-e754-c21d59607265",
        "colab": {
          "base_uri": "https://localhost:8080/"
        }
      },
      "source": [
        "class MaskedSoftmaxCELoss(nn.CrossEntropyLoss):\n",
        "  \"\"\"The softmax cross-entropy loss with masks.\"\"\"\n",
        "\n",
        "  # `pred` shape: (`batch_size`, `num_steps`, `vocab_size`)\n",
        "  # `label` shape: (`batch_size`, `num_steps`)\n",
        "  # `valid_len` shape: (`batch_size`,)\n",
        "\n",
        "  def forward(self, pred, label, valid_len):\n",
        "    weights = torch.ones_like(label)\n",
        "    weights = sequence_mask(weights, valid_len)\n",
        "    self.reduction = 'none'\n",
        "    unweighted_loss = super(MaskedSoftmaxCELoss,\n",
        "                            self).forward(pred.permute(0, 2, 1), label)\n",
        "    weighted_loss = (unweighted_loss * weights).mean(dim=1)\n",
        "\n",
        "    return weighted_loss\n",
        "\n",
        "\n",
        "loss = MaskedSoftmaxCELoss()\n",
        "loss(torch.ones(3, 4, 10),\n",
        "     torch.ones((3, 4), dtype=torch.long),\n",
        "     torch.tensor([4, 2, 0]))"
      ],
      "execution_count": 34,
      "outputs": [
        {
          "output_type": "execute_result",
          "data": {
            "text/plain": [
              "tensor([2.3026, 1.1513, 0.0000])"
            ]
          },
          "metadata": {
            "tags": []
          },
          "execution_count": 34
        }
      ]
    },
    {
      "cell_type": "markdown",
      "metadata": {
        "execution": {},
        "id": "VIgCN2hXSTqU"
      },
      "source": [
        "In the following training loop,\n",
        "we concatenate the special beginning-of-sequence token\n",
        "and the original output sequence excluding the final token as\n",
        "the input to the decoder.\n",
        "This is called *teacher forcing* because\n",
        "the original output sequence (token labels) is fed into the decoder.\n",
        "Alternatively,\n",
        "we could also feed the *predicted* token\n",
        "from the previous time step\n",
        "as the current input to the decoder."
      ]
    },
    {
      "cell_type": "code",
      "metadata": {
        "cellView": "form",
        "execution": {},
        "id": "UZeAnNTUSTqU"
      },
      "source": [
        "#@title Training\n",
        "def train_seq2seq(net, data_iter, lr, num_epochs, tgt_vocab, device):\n",
        "  \"\"\"Train a model for sequence to sequence.\"\"\"\n",
        "  def xavier_init_weights(m):\n",
        "    if type(m) == nn.Linear:\n",
        "      nn.init.xavier_uniform_(m.weight)\n",
        "    if type(m) == nn.GRU:\n",
        "      for param in m._flat_weights_names:\n",
        "        if \"weight\" in param:\n",
        "          nn.init.xavier_uniform_(m._parameters[param])\n",
        "\n",
        "\n",
        "  net.apply(xavier_init_weights)\n",
        "  net.to(device)\n",
        "  optimizer = torch.optim.Adam(net.parameters(), lr=lr)\n",
        "  loss = MaskedSoftmaxCELoss()\n",
        "  net.train()\n",
        "  animator = d2l.Animator(xlabel='epoch', ylabel='loss',\n",
        "                          xlim=[10, num_epochs])\n",
        "  for epoch in range(num_epochs):\n",
        "    timer = d2l.Timer()\n",
        "    metric = d2l.Accumulator(2)  # Sum of training loss, no. of tokens\n",
        "    for batch in data_iter:\n",
        "      optimizer.zero_grad()\n",
        "      X, X_valid_len, Y, Y_valid_len = [x.to(device) for x in batch]\n",
        "      bos = torch.tensor([tgt_vocab['<bos>']] * Y.shape[0],\n",
        "                          device=device).reshape(-1, 1)\n",
        "      dec_input = torch.cat([bos, Y[:, :-1]], 1)  # Teacher forcing\n",
        "      Y_hat, _ = net(X, dec_input, X_valid_len)\n",
        "      l = loss(Y_hat, Y, Y_valid_len)\n",
        "      l.sum().backward()  # Make the loss scalar for `backward`\n",
        "      d2l.grad_clipping(net, 1)\n",
        "      num_tokens = Y_valid_len.sum()\n",
        "      optimizer.step()\n",
        "      with torch.no_grad():\n",
        "          metric.add(l.sum(), num_tokens)\n",
        "    if (epoch + 1) % 10 == 0:\n",
        "      animator.add(epoch + 1, (metric[0] / metric[1],))\n",
        "  print(f'loss {metric[0] / metric[1]:.3f}, {metric[1] / timer.stop():.1f} '\n",
        "        f'tokens/sec on {str(device)}')"
      ],
      "execution_count": 35,
      "outputs": []
    },
    {
      "cell_type": "markdown",
      "metadata": {
        "execution": {},
        "id": "vwJGrB-2STqU"
      },
      "source": [
        "Now we can create and train an RNN encoder-decoder model\n",
        "for sequence to sequence learning on the machine translation dataset.\n"
      ]
    },
    {
      "cell_type": "code",
      "metadata": {
        "execution": {},
        "id": "NOPdTPpSSTqU",
        "outputId": "52e03063-1d10-4259-86fd-775562b88fb8",
        "colab": {
          "base_uri": "https://localhost:8080/",
          "height": 254
        }
      },
      "source": [
        "embed_size, num_hiddens, num_layers, dropout = 32, 32, 2, 0.1\n",
        "batch_size, num_steps = 64, 10\n",
        "lr, num_epochs = 0.005, 300\n",
        "\n",
        "train_iter, src_vocab, tgt_vocab = d2l.load_data_nmt(batch_size, num_steps)\n",
        "encoder = Seq2SeqEncoder(len(src_vocab), embed_size, num_hiddens, num_layers,\n",
        "                         dropout)\n",
        "decoder = Seq2SeqDecoder(len(tgt_vocab), embed_size, num_hiddens, num_layers,\n",
        "                         dropout)\n",
        "net = d2l.EncoderDecoder(encoder, decoder)\n",
        "train_seq2seq(net, train_iter, lr, num_epochs, tgt_vocab, DEVICE)"
      ],
      "execution_count": 36,
      "outputs": [
        {
          "output_type": "stream",
          "text": [
            "loss 0.019, 12090.9 tokens/sec on cuda\n"
          ],
          "name": "stdout"
        },
        {
          "output_type": "display_data",
          "data": {
            "text/plain": [
              "<Figure size 252x180 with 1 Axes>"
            ],
            "image/svg+xml": "<?xml version=\"1.0\" encoding=\"utf-8\" standalone=\"no\"?>\n<!DOCTYPE svg PUBLIC \"-//W3C//DTD SVG 1.1//EN\"\n  \"http://www.w3.org/Graphics/SVG/1.1/DTD/svg11.dtd\">\n<!-- Created with matplotlib (https://matplotlib.org/) -->\n<svg height=\"162pt\" version=\"1.1\" viewBox=\"0 0 234 162\" width=\"234pt\" xmlns=\"http://www.w3.org/2000/svg\" xmlns:xlink=\"http://www.w3.org/1999/xlink\">\n <defs>\n  <style type=\"text/css\">\n*{stroke-linecap:butt;stroke-linejoin:round;}\n  </style>\n </defs>\n <g id=\"figure_1\">\n  <g id=\"patch_1\">\n   <path d=\"M 0 162 \nL 234 162 \nL 234 0 \nL 0 0 \nz\n\" style=\"fill:none;\"/>\n  </g>\n  <g id=\"axes_1\">\n   <g id=\"patch_2\">\n    <path d=\"M 54.088142 115.689995 \nL 214.875084 115.689995 \nL 214.875084 7.2 \nL 54.088142 7.2 \nz\n\" style=\"fill:#ffffff;\"/>\n   </g>\n   <g id=\"matplotlib.axis_1\">\n    <g id=\"xtick_1\">\n     <g id=\"line2d_1\">\n      <path clip-path=\"url(#pa3adbda605)\" d=\"M 103.987538 115.689995 \nL 103.987538 7.2 \n\" style=\"fill:none;stroke:#b0b0b0;stroke-linecap:square;stroke-width:0.8;\"/>\n     </g>\n     <g id=\"line2d_2\">\n      <defs>\n       <path d=\"M 0 0 \nL 0 5 \n\" id=\"m61358340f9\" style=\"stroke:#000000;stroke-width:0.8;\"/>\n      </defs>\n      <g>\n       <use style=\"stroke:#000000;stroke-width:0.8;\" x=\"103.987538\" xlink:href=\"#m61358340f9\" y=\"115.689995\"/>\n      </g>\n     </g>\n     <g id=\"text_1\">\n      <!-- 100 -->\n      <defs>\n       <path d=\"M 12.40625 8.296875 \nL 28.515625 8.296875 \nL 28.515625 63.921875 \nL 10.984375 60.40625 \nL 10.984375 69.390625 \nL 28.421875 72.90625 \nL 38.28125 72.90625 \nL 38.28125 8.296875 \nL 54.390625 8.296875 \nL 54.390625 0 \nL 12.40625 0 \nz\n\" id=\"DejaVuSans-49\"/>\n       <path d=\"M 31.78125 66.40625 \nQ 24.171875 66.40625 20.328125 58.90625 \nQ 16.5 51.421875 16.5 36.375 \nQ 16.5 21.390625 20.328125 13.890625 \nQ 24.171875 6.390625 31.78125 6.390625 \nQ 39.453125 6.390625 43.28125 13.890625 \nQ 47.125 21.390625 47.125 36.375 \nQ 47.125 51.421875 43.28125 58.90625 \nQ 39.453125 66.40625 31.78125 66.40625 \nz\nM 31.78125 74.21875 \nQ 44.046875 74.21875 50.515625 64.515625 \nQ 56.984375 54.828125 56.984375 36.375 \nQ 56.984375 17.96875 50.515625 8.265625 \nQ 44.046875 -1.421875 31.78125 -1.421875 \nQ 19.53125 -1.421875 13.0625 8.265625 \nQ 6.59375 17.96875 6.59375 36.375 \nQ 6.59375 54.828125 13.0625 64.515625 \nQ 19.53125 74.21875 31.78125 74.21875 \nz\n\" id=\"DejaVuSans-48\"/>\n      </defs>\n      <g transform=\"translate(92.062622 133.684243)scale(0.12495 -0.12495)\">\n       <use xlink:href=\"#DejaVuSans-49\"/>\n       <use x=\"63.623047\" xlink:href=\"#DejaVuSans-48\"/>\n       <use x=\"127.246094\" xlink:href=\"#DejaVuSans-48\"/>\n      </g>\n     </g>\n    </g>\n    <g id=\"xtick_2\">\n     <g id=\"line2d_3\">\n      <path clip-path=\"url(#pa3adbda605)\" d=\"M 159.431311 115.689995 \nL 159.431311 7.2 \n\" style=\"fill:none;stroke:#b0b0b0;stroke-linecap:square;stroke-width:0.8;\"/>\n     </g>\n     <g id=\"line2d_4\">\n      <g>\n       <use style=\"stroke:#000000;stroke-width:0.8;\" x=\"159.431311\" xlink:href=\"#m61358340f9\" y=\"115.689995\"/>\n      </g>\n     </g>\n     <g id=\"text_2\">\n      <!-- 200 -->\n      <defs>\n       <path d=\"M 19.1875 8.296875 \nL 53.609375 8.296875 \nL 53.609375 0 \nL 7.328125 0 \nL 7.328125 8.296875 \nQ 12.9375 14.109375 22.625 23.890625 \nQ 32.328125 33.6875 34.8125 36.53125 \nQ 39.546875 41.84375 41.421875 45.53125 \nQ 43.3125 49.21875 43.3125 52.78125 \nQ 43.3125 58.59375 39.234375 62.25 \nQ 35.15625 65.921875 28.609375 65.921875 \nQ 23.96875 65.921875 18.8125 64.3125 \nQ 13.671875 62.703125 7.8125 59.421875 \nL 7.8125 69.390625 \nQ 13.765625 71.78125 18.9375 73 \nQ 24.125 74.21875 28.421875 74.21875 \nQ 39.75 74.21875 46.484375 68.546875 \nQ 53.21875 62.890625 53.21875 53.421875 \nQ 53.21875 48.921875 51.53125 44.890625 \nQ 49.859375 40.875 45.40625 35.40625 \nQ 44.1875 33.984375 37.640625 27.21875 \nQ 31.109375 20.453125 19.1875 8.296875 \nz\n\" id=\"DejaVuSans-50\"/>\n      </defs>\n      <g transform=\"translate(147.506396 133.684243)scale(0.12495 -0.12495)\">\n       <use xlink:href=\"#DejaVuSans-50\"/>\n       <use x=\"63.623047\" xlink:href=\"#DejaVuSans-48\"/>\n       <use x=\"127.246094\" xlink:href=\"#DejaVuSans-48\"/>\n      </g>\n     </g>\n    </g>\n    <g id=\"xtick_3\">\n     <g id=\"line2d_5\">\n      <path clip-path=\"url(#pa3adbda605)\" d=\"M 214.875084 115.689995 \nL 214.875084 7.2 \n\" style=\"fill:none;stroke:#b0b0b0;stroke-linecap:square;stroke-width:0.8;\"/>\n     </g>\n     <g id=\"line2d_6\">\n      <g>\n       <use style=\"stroke:#000000;stroke-width:0.8;\" x=\"214.875084\" xlink:href=\"#m61358340f9\" y=\"115.689995\"/>\n      </g>\n     </g>\n     <g id=\"text_3\">\n      <!-- 300 -->\n      <defs>\n       <path d=\"M 40.578125 39.3125 \nQ 47.65625 37.796875 51.625 33 \nQ 55.609375 28.21875 55.609375 21.1875 \nQ 55.609375 10.40625 48.1875 4.484375 \nQ 40.765625 -1.421875 27.09375 -1.421875 \nQ 22.515625 -1.421875 17.65625 -0.515625 \nQ 12.796875 0.390625 7.625 2.203125 \nL 7.625 11.71875 \nQ 11.71875 9.328125 16.59375 8.109375 \nQ 21.484375 6.890625 26.8125 6.890625 \nQ 36.078125 6.890625 40.9375 10.546875 \nQ 45.796875 14.203125 45.796875 21.1875 \nQ 45.796875 27.640625 41.28125 31.265625 \nQ 36.765625 34.90625 28.71875 34.90625 \nL 20.21875 34.90625 \nL 20.21875 43.015625 \nL 29.109375 43.015625 \nQ 36.375 43.015625 40.234375 45.921875 \nQ 44.09375 48.828125 44.09375 54.296875 \nQ 44.09375 59.90625 40.109375 62.90625 \nQ 36.140625 65.921875 28.71875 65.921875 \nQ 24.65625 65.921875 20.015625 65.03125 \nQ 15.375 64.15625 9.8125 62.3125 \nL 9.8125 71.09375 \nQ 15.4375 72.65625 20.34375 73.4375 \nQ 25.25 74.21875 29.59375 74.21875 \nQ 40.828125 74.21875 47.359375 69.109375 \nQ 53.90625 64.015625 53.90625 55.328125 \nQ 53.90625 49.265625 50.4375 45.09375 \nQ 46.96875 40.921875 40.578125 39.3125 \nz\n\" id=\"DejaVuSans-51\"/>\n      </defs>\n      <g transform=\"translate(202.950169 133.684243)scale(0.12495 -0.12495)\">\n       <use xlink:href=\"#DejaVuSans-51\"/>\n       <use x=\"63.623047\" xlink:href=\"#DejaVuSans-48\"/>\n       <use x=\"127.246094\" xlink:href=\"#DejaVuSans-48\"/>\n      </g>\n     </g>\n    </g>\n    <g id=\"text_4\">\n     <!-- epoch -->\n     <defs>\n      <path d=\"M 56.203125 29.59375 \nL 56.203125 25.203125 \nL 14.890625 25.203125 \nQ 15.484375 15.921875 20.484375 11.0625 \nQ 25.484375 6.203125 34.421875 6.203125 \nQ 39.59375 6.203125 44.453125 7.46875 \nQ 49.3125 8.734375 54.109375 11.28125 \nL 54.109375 2.78125 \nQ 49.265625 0.734375 44.1875 -0.34375 \nQ 39.109375 -1.421875 33.890625 -1.421875 \nQ 20.796875 -1.421875 13.15625 6.1875 \nQ 5.515625 13.8125 5.515625 26.8125 \nQ 5.515625 40.234375 12.765625 48.109375 \nQ 20.015625 56 32.328125 56 \nQ 43.359375 56 49.78125 48.890625 \nQ 56.203125 41.796875 56.203125 29.59375 \nz\nM 47.21875 32.234375 \nQ 47.125 39.59375 43.09375 43.984375 \nQ 39.0625 48.390625 32.421875 48.390625 \nQ 24.90625 48.390625 20.390625 44.140625 \nQ 15.875 39.890625 15.1875 32.171875 \nz\n\" id=\"DejaVuSans-101\"/>\n      <path d=\"M 18.109375 8.203125 \nL 18.109375 -20.796875 \nL 9.078125 -20.796875 \nL 9.078125 54.6875 \nL 18.109375 54.6875 \nL 18.109375 46.390625 \nQ 20.953125 51.265625 25.265625 53.625 \nQ 29.59375 56 35.59375 56 \nQ 45.5625 56 51.78125 48.09375 \nQ 58.015625 40.1875 58.015625 27.296875 \nQ 58.015625 14.40625 51.78125 6.484375 \nQ 45.5625 -1.421875 35.59375 -1.421875 \nQ 29.59375 -1.421875 25.265625 0.953125 \nQ 20.953125 3.328125 18.109375 8.203125 \nz\nM 48.6875 27.296875 \nQ 48.6875 37.203125 44.609375 42.84375 \nQ 40.53125 48.484375 33.40625 48.484375 \nQ 26.265625 48.484375 22.1875 42.84375 \nQ 18.109375 37.203125 18.109375 27.296875 \nQ 18.109375 17.390625 22.1875 11.75 \nQ 26.265625 6.109375 33.40625 6.109375 \nQ 40.53125 6.109375 44.609375 11.75 \nQ 48.6875 17.390625 48.6875 27.296875 \nz\n\" id=\"DejaVuSans-112\"/>\n      <path d=\"M 30.609375 48.390625 \nQ 23.390625 48.390625 19.1875 42.75 \nQ 14.984375 37.109375 14.984375 27.296875 \nQ 14.984375 17.484375 19.15625 11.84375 \nQ 23.34375 6.203125 30.609375 6.203125 \nQ 37.796875 6.203125 41.984375 11.859375 \nQ 46.1875 17.53125 46.1875 27.296875 \nQ 46.1875 37.015625 41.984375 42.703125 \nQ 37.796875 48.390625 30.609375 48.390625 \nz\nM 30.609375 56 \nQ 42.328125 56 49.015625 48.375 \nQ 55.71875 40.765625 55.71875 27.296875 \nQ 55.71875 13.875 49.015625 6.21875 \nQ 42.328125 -1.421875 30.609375 -1.421875 \nQ 18.84375 -1.421875 12.171875 6.21875 \nQ 5.515625 13.875 5.515625 27.296875 \nQ 5.515625 40.765625 12.171875 48.375 \nQ 18.84375 56 30.609375 56 \nz\n\" id=\"DejaVuSans-111\"/>\n      <path d=\"M 48.78125 52.59375 \nL 48.78125 44.1875 \nQ 44.96875 46.296875 41.140625 47.34375 \nQ 37.3125 48.390625 33.40625 48.390625 \nQ 24.65625 48.390625 19.8125 42.84375 \nQ 14.984375 37.3125 14.984375 27.296875 \nQ 14.984375 17.28125 19.8125 11.734375 \nQ 24.65625 6.203125 33.40625 6.203125 \nQ 37.3125 6.203125 41.140625 7.25 \nQ 44.96875 8.296875 48.78125 10.40625 \nL 48.78125 2.09375 \nQ 45.015625 0.34375 40.984375 -0.53125 \nQ 36.96875 -1.421875 32.421875 -1.421875 \nQ 20.0625 -1.421875 12.78125 6.34375 \nQ 5.515625 14.109375 5.515625 27.296875 \nQ 5.515625 40.671875 12.859375 48.328125 \nQ 20.21875 56 33.015625 56 \nQ 37.15625 56 41.109375 55.140625 \nQ 45.0625 54.296875 48.78125 52.59375 \nz\n\" id=\"DejaVuSans-99\"/>\n      <path d=\"M 54.890625 33.015625 \nL 54.890625 0 \nL 45.90625 0 \nL 45.90625 32.71875 \nQ 45.90625 40.484375 42.875 44.328125 \nQ 39.84375 48.1875 33.796875 48.1875 \nQ 26.515625 48.1875 22.3125 43.546875 \nQ 18.109375 38.921875 18.109375 30.90625 \nL 18.109375 0 \nL 9.078125 0 \nL 9.078125 75.984375 \nL 18.109375 75.984375 \nL 18.109375 46.1875 \nQ 21.34375 51.125 25.703125 53.5625 \nQ 30.078125 56 35.796875 56 \nQ 45.21875 56 50.046875 50.171875 \nQ 54.890625 44.34375 54.890625 33.015625 \nz\n\" id=\"DejaVuSans-104\"/>\n     </defs>\n     <g transform=\"translate(111.639426 151.680469)scale(0.15 -0.15)\">\n      <use xlink:href=\"#DejaVuSans-101\"/>\n      <use x=\"61.523438\" xlink:href=\"#DejaVuSans-112\"/>\n      <use x=\"125\" xlink:href=\"#DejaVuSans-111\"/>\n      <use x=\"186.181641\" xlink:href=\"#DejaVuSans-99\"/>\n      <use x=\"241.162109\" xlink:href=\"#DejaVuSans-104\"/>\n     </g>\n    </g>\n   </g>\n   <g id=\"matplotlib.axis_2\">\n    <g id=\"ytick_1\">\n     <g id=\"line2d_7\">\n      <path clip-path=\"url(#pa3adbda605)\" d=\"M 54.088142 68.543682 \nL 214.875084 68.543682 \n\" style=\"fill:none;stroke:#b0b0b0;stroke-linecap:square;stroke-width:0.8;\"/>\n     </g>\n     <g id=\"line2d_8\">\n      <defs>\n       <path d=\"M 0 0 \nL -5 0 \n\" id=\"md6d86a343a\" style=\"stroke:#000000;stroke-width:0.8;\"/>\n      </defs>\n      <g>\n       <use style=\"stroke:#000000;stroke-width:0.8;\" x=\"54.088142\" xlink:href=\"#md6d86a343a\" y=\"68.543682\"/>\n      </g>\n     </g>\n     <g id=\"text_5\">\n      <!-- 0.1 -->\n      <defs>\n       <path d=\"M 10.6875 12.40625 \nL 21 12.40625 \nL 21 0 \nL 10.6875 0 \nz\n\" id=\"DejaVuSans-46\"/>\n      </defs>\n      <g transform=\"translate(25.717187 73.290806)scale(0.12495 -0.12495)\">\n       <use xlink:href=\"#DejaVuSans-48\"/>\n       <use x=\"63.623047\" xlink:href=\"#DejaVuSans-46\"/>\n       <use x=\"95.410156\" xlink:href=\"#DejaVuSans-49\"/>\n      </g>\n     </g>\n    </g>\n    <g id=\"ytick_2\">\n     <g id=\"line2d_9\">\n      <path clip-path=\"url(#pa3adbda605)\" d=\"M 54.088142 16.476433 \nL 214.875084 16.476433 \n\" style=\"fill:none;stroke:#b0b0b0;stroke-linecap:square;stroke-width:0.8;\"/>\n     </g>\n     <g id=\"line2d_10\">\n      <g>\n       <use style=\"stroke:#000000;stroke-width:0.8;\" x=\"54.088142\" xlink:href=\"#md6d86a343a\" y=\"16.476433\"/>\n      </g>\n     </g>\n     <g id=\"text_6\">\n      <!-- 0.2 -->\n      <g transform=\"translate(25.717187 21.223557)scale(0.12495 -0.12495)\">\n       <use xlink:href=\"#DejaVuSans-48\"/>\n       <use x=\"63.623047\" xlink:href=\"#DejaVuSans-46\"/>\n       <use x=\"95.410156\" xlink:href=\"#DejaVuSans-50\"/>\n      </g>\n     </g>\n    </g>\n    <g id=\"text_7\">\n     <!-- loss -->\n     <defs>\n      <path d=\"M 9.421875 75.984375 \nL 18.40625 75.984375 \nL 18.40625 0 \nL 9.421875 0 \nz\n\" id=\"DejaVuSans-108\"/>\n      <path d=\"M 44.28125 53.078125 \nL 44.28125 44.578125 \nQ 40.484375 46.53125 36.375 47.5 \nQ 32.28125 48.484375 27.875 48.484375 \nQ 21.1875 48.484375 17.84375 46.4375 \nQ 14.5 44.390625 14.5 40.28125 \nQ 14.5 37.15625 16.890625 35.375 \nQ 19.28125 33.59375 26.515625 31.984375 \nL 29.59375 31.296875 \nQ 39.15625 29.25 43.1875 25.515625 \nQ 47.21875 21.78125 47.21875 15.09375 \nQ 47.21875 7.46875 41.1875 3.015625 \nQ 35.15625 -1.421875 24.609375 -1.421875 \nQ 20.21875 -1.421875 15.453125 -0.5625 \nQ 10.6875 0.296875 5.421875 2 \nL 5.421875 11.28125 \nQ 10.40625 8.6875 15.234375 7.390625 \nQ 20.0625 6.109375 24.8125 6.109375 \nQ 31.15625 6.109375 34.5625 8.28125 \nQ 37.984375 10.453125 37.984375 14.40625 \nQ 37.984375 18.0625 35.515625 20.015625 \nQ 33.0625 21.96875 24.703125 23.78125 \nL 21.578125 24.515625 \nQ 13.234375 26.265625 9.515625 29.90625 \nQ 5.8125 33.546875 5.8125 39.890625 \nQ 5.8125 47.609375 11.28125 51.796875 \nQ 16.75 56 26.8125 56 \nQ 31.78125 56 36.171875 55.265625 \nQ 40.578125 54.546875 44.28125 53.078125 \nz\n\" id=\"DejaVuSans-115\"/>\n     </defs>\n     <g transform=\"translate(18.597656 75.931716)rotate(-90)scale(0.15 -0.15)\">\n      <use xlink:href=\"#DejaVuSans-108\"/>\n      <use x=\"27.783203\" xlink:href=\"#DejaVuSans-111\"/>\n      <use x=\"88.964844\" xlink:href=\"#DejaVuSans-115\"/>\n      <use x=\"141.064453\" xlink:href=\"#DejaVuSans-115\"/>\n     </g>\n    </g>\n   </g>\n   <g id=\"line2d_11\">\n    <path clip-path=\"url(#pa3adbda605)\" d=\"M 54.088142 12.131363 \nL 59.63252 41.515874 \nL 65.176897 62.478472 \nL 70.721274 77.777821 \nL 76.265651 87.812327 \nL 81.810029 93.749122 \nL 87.354406 98.094309 \nL 92.898783 100.518685 \nL 98.443161 102.797828 \nL 103.987538 104.736861 \nL 109.531915 105.989123 \nL 115.076293 106.793472 \nL 120.62067 107.424079 \nL 126.165047 108.101801 \nL 131.709425 108.55804 \nL 137.253802 108.757379 \nL 142.798179 109.380781 \nL 148.342557 109.566871 \nL 153.886934 109.783953 \nL 159.431311 109.5093 \nL 164.975689 109.705588 \nL 170.520066 110.043877 \nL 176.064443 109.264037 \nL 181.60882 110.477571 \nL 187.153198 110.365553 \nL 192.697575 110.416156 \nL 198.241952 110.418018 \nL 203.78633 110.604948 \nL 209.330707 110.670147 \nL 214.875084 110.758632 \n\" style=\"fill:none;stroke:#1f77b4;stroke-linecap:square;stroke-width:1.5;\"/>\n   </g>\n   <g id=\"patch_3\">\n    <path d=\"M 54.088142 115.689995 \nL 54.088142 7.2 \n\" style=\"fill:none;stroke:#000000;stroke-linecap:square;stroke-linejoin:miter;stroke-width:0.8;\"/>\n   </g>\n   <g id=\"patch_4\">\n    <path d=\"M 54.088142 115.689995 \nL 214.875084 115.689995 \n\" style=\"fill:none;stroke:#000000;stroke-linecap:square;stroke-linejoin:miter;stroke-width:0.8;\"/>\n   </g>\n  </g>\n </g>\n <defs>\n  <clipPath id=\"pa3adbda605\">\n   <rect height=\"108.489995\" width=\"160.786942\" x=\"54.088142\" y=\"7.2\"/>\n  </clipPath>\n </defs>\n</svg>\n"
          },
          "metadata": {
            "tags": [],
            "needs_background": "light"
          }
        }
      ]
    },
    {
      "cell_type": "markdown",
      "metadata": {
        "execution": {},
        "id": "FH56cA7ySTqU"
      },
      "source": [
        "To predict the output sequence token by token, at each decoder time step\n",
        "the predicted token from the previous time step is fed into the decoder as an input.\n",
        "\n",
        "Similar to training, at the initial time step the beginning-of-sequence (&lt;bos&gt;\") token is fed into the decoder. This prediction process is illustrated in `seq2seq` figure. When the end-of-sequence (\"&lt;eos&gt;\") token is predicted, the prediction of the output sequence is complete.\n",
        "\n",
        "\n",
        "<figure>\n",
        "  <img src=\"https://raw.githubusercontent.com/NeuromatchAcademy/course-content-dl/main/tutorials/W2D3_ModernRecurrentNeuralNetworks/static/seq2seq-predict.svg\">\n",
        "  <figcaption>\n",
        "  Source <a href=\"https://d2l.ai/\">d2l.ai</a>\n",
        "  </figcaption>\n",
        "</figure>"
      ]
    },
    {
      "cell_type": "code",
      "metadata": {
        "cellView": "form",
        "execution": {},
        "id": "H9HDdJT3STqV"
      },
      "source": [
        "# @title Prediction\n",
        "def predict_seq2seq(net, src_sentence, src_vocab, tgt_vocab, num_steps,\n",
        "                    device, save_attention_weights=False):\n",
        "  \"\"\"Predict for sequence to sequence.\"\"\"\n",
        "  # Set `net` to eval mode for inference\n",
        "  net.eval()\n",
        "  src_tokens = src_vocab[src_sentence.lower().split(' ')] + [\n",
        "      src_vocab['<eos>']]\n",
        "  enc_valid_len = torch.tensor([len(src_tokens)], device=device)\n",
        "  src_tokens = d2l.truncate_pad(src_tokens, num_steps, src_vocab['<pad>'])\n",
        "  # Add the batch axis\n",
        "  enc_X = torch.unsqueeze(\n",
        "      torch.tensor(src_tokens, dtype=torch.long, device=device), dim=0)\n",
        "  enc_outputs = net.encoder(enc_X, enc_valid_len)\n",
        "  dec_state = net.decoder.init_state(enc_outputs, enc_valid_len)\n",
        "  # Add the batch axis\n",
        "  dec_X = torch.unsqueeze(\n",
        "      torch.tensor([tgt_vocab['<bos>']], dtype=torch.long, device=device),\n",
        "      dim=0)\n",
        "  output_seq, attention_weight_seq = [], []\n",
        "  for _ in range(num_steps):\n",
        "    Y, dec_state = net.decoder(dec_X, dec_state)\n",
        "    # We use the token with the highest prediction likelihood as the input\n",
        "    # of the decoder at the next time step\n",
        "    dec_X = Y.argmax(dim=2)\n",
        "    pred = dec_X.squeeze(dim=0).type(torch.int32).item()\n",
        "    # Save attention weights (to be covered later)\n",
        "    if save_attention_weights:\n",
        "        attention_weight_seq.append(net.decoder.attention_weights)\n",
        "    # Once the end-of-sequence token is predicted, the generation of the\n",
        "    # output sequence is complete\n",
        "    if pred == tgt_vocab['<eos>']:\n",
        "        break\n",
        "    output_seq.append(pred)\n",
        "  return ' '.join(tgt_vocab.to_tokens(output_seq)), attention_weight_seq"
      ],
      "execution_count": 37,
      "outputs": []
    },
    {
      "cell_type": "markdown",
      "metadata": {
        "execution": {},
        "id": "KC2TpZh0STqV"
      },
      "source": [
        "We can evaluate a predicted sequence by comparing it with the label sequence (the ground-truth). BLEU (Bilingual Evaluation Understudy), though originally proposed for evaluating machine translation results in [Papieni et al., 2002](https://dl.acm.org/doi/10.3115/1073083.1073135), has been extensively used in measuring the quality of output sequences for different applications.\n",
        "\n",
        "In principle, for any $n$-grams in the predicted sequence, BLEU evaluates whether this $n$-grams appears in the label sequence.\n",
        "\n",
        "Denote by $p_n$ the precision of $n$-grams, which is the ratio of the number of matched $n$-grams in the predicted and label sequences to the number of $n$-grams in the predicted sequence.\n",
        "To explain, given a label sequence $A$, $B$, $C$, $D$, $E$, $F$, and a predicted sequence $A$, $B$, $B$, $C$, $D$, we have $p_1 = 4/5$,  $p_2 = 3/4$, $p_3 = 1/3$, and $p_4 = 0$.\n",
        "\n",
        "Besides, let $\\mathrm{len}_{\\text{label}}$ and $\\mathrm{len}_{\\text{pred}}$\n",
        "be the numbers of tokens in the label sequence and the predicted sequence, respectively.\n",
        "\n",
        "Then, BLEU is defined as\n",
        "\n",
        "\\begin{equation}\n",
        "\\exp\\left(\\min\\left(0, 1 - \\frac{\\mathrm{len}_{\\text{label}}}{\\mathrm{len}_{\\text{pred}}}\\right)\\right) \\prod_{n=1}^k p_n^{1/2^n},\n",
        "\\end{equation}\n",
        "\n",
        "where $k$ is the longest $n$-grams for matching.\n",
        "\n",
        "Based on the definition of BLEU in the above equation, whenever the predicted sequence is the same as the label sequence, BLEU is 1.\n",
        "\n",
        "Moreover, since matching longer $n$-grams is more difficult, BLEU assigns a greater weight to a longer $n$-gram precision. Specifically, when $p_n$ is fixed, $p_n^{1/2^n}$ increases as $n$ grows (the original paper uses $p_n^{1/n}$).\n",
        "\n",
        "Furthermore, since predicting shorter sequences tends to obtain a higher $p_n$ value, the coefficient before the multiplication term in the above equation\n",
        "penalizes shorter predicted sequences.\n",
        "\n",
        "For example, when $k=2$, given the label sequence $A$, $B$, $C$, $D$, $E$, $F$ and the predicted sequence $A$, $B$, although $p_1 = p_2 = 1$, the penalty factor $\\exp(1-6/2) \\approx 0.14$ lowers the BLEU.\n",
        "\n",
        "We implement the BLEU measure as follows.\n"
      ]
    },
    {
      "cell_type": "code",
      "metadata": {
        "cellView": "form",
        "execution": {},
        "id": "jV36bxmhSTqV"
      },
      "source": [
        "#@title Evaluation of Predicted Sequences\n",
        "def bleu(pred_seq, label_seq, k):\n",
        "  \"\"\"Compute the BLEU.\"\"\"\n",
        "  pred_tokens, label_tokens = pred_seq.split(' '), label_seq.split(' ')\n",
        "  len_pred, len_label = len(pred_tokens), len(label_tokens)\n",
        "  score = math.exp(min(0, 1 - len_label / len_pred))\n",
        "  for n in range(1, k + 1):\n",
        "    num_matches, label_subs = 0, collections.defaultdict(int)\n",
        "    for i in range(len_label - n + 1):\n",
        "      label_subs[''.join(label_tokens[i:i + n])] += 1\n",
        "    for i in range(len_pred - n + 1):\n",
        "      if label_subs[''.join(pred_tokens[i:i + n])] > 0:\n",
        "        num_matches += 1\n",
        "        label_subs[''.join(pred_tokens[i:i + n])] -= 1\n",
        "    score *= math.pow(num_matches / (len_pred - n + 1), math.pow(0.5, n))\n",
        "  return score"
      ],
      "execution_count": 38,
      "outputs": []
    },
    {
      "cell_type": "markdown",
      "metadata": {
        "execution": {},
        "id": "ZqO5-XrYSTqV"
      },
      "source": [
        "In the end,\n",
        "we use the trained RNN encoder-decoder\n",
        "to translate a few English sentences into French\n",
        "and compute the BLEU of the results.\n"
      ]
    },
    {
      "cell_type": "code",
      "metadata": {
        "execution": {},
        "id": "2M1V6PWVSTqV",
        "outputId": "939ede8b-6778-44a9-c640-5945a0f89f16",
        "colab": {
          "base_uri": "https://localhost:8080/"
        }
      },
      "source": [
        "engs = ['go .', \"i lost .\", 'he\\'s calm .', 'i\\'m home .']\n",
        "# fras = ['va !', 'j\\'ai perdu .', 'il est calme .', 'je suis chez moi .']\n",
        "fras = [ 'je suis chez moi .', 'j\\'ai perdu .','va !', 'il est calme .']\n",
        "for eng, fra in zip(engs, fras):\n",
        "  translation, attention_weight_seq = predict_seq2seq(net,\n",
        "                                                      eng,\n",
        "                                                      src_vocab,\n",
        "                                                      tgt_vocab,\n",
        "                                                      num_steps,\n",
        "                                                      DEVICE)\n",
        "  print(f'{eng} => {translation}, bleu {bleu(translation, fra, k=2):.3f}')"
      ],
      "execution_count": 39,
      "outputs": [
        {
          "output_type": "stream",
          "text": [
            "go . => va <unk> faire foutre !, bleu 0.000\n",
            "i lost . => j'ai perdu ., bleu 1.000\n",
            "he's calm . => il est mouillé pas <unk> pas pas pas pas pas, bleu 0.000\n",
            "i'm home . => je suis le la <unk> ., bleu 0.000\n"
          ],
          "name": "stdout"
        }
      ]
    },
    {
      "cell_type": "markdown",
      "metadata": {
        "execution": {},
        "id": "NrEw0Y6wSTqV"
      },
      "source": [
        "---\n",
        "# Section 4: Ethical aspects\n",
        "\n",
        "*Time estimate: ~7mins*"
      ]
    },
    {
      "cell_type": "code",
      "metadata": {
        "cellView": "form",
        "execution": {},
        "id": "m6CJn5FgSTqV",
        "outputId": "8677cd9a-5138-4763-8f86-0357805c5dcb",
        "colab": {
          "base_uri": "https://localhost:8080/",
          "height": 580,
          "referenced_widgets": [
            "ebf8ac10bb544aa3a2bff44c9fa461bb",
            "727e36f4a2a34ffaa8e3bd4dee1fa5f6",
            "d7085fbede1a48dab23db8086204eb19",
            "bcacd2f146d8471d9734b4a5a7391576",
            "a67f591486da4d1286481c6a04b89ad2",
            "574762c888994a1cafb0b1dc9fb7f8d6"
          ]
        }
      },
      "source": [
        "# @title Video 5: Ethics of Representation and Generation\n",
        "from ipywidgets import widgets\n",
        "\n",
        "out2 = widgets.Output()\n",
        "with out2:\n",
        "  from IPython.display import IFrame\n",
        "  class BiliVideo(IFrame):\n",
        "    def __init__(self, id, page=1, width=400, height=300, **kwargs):\n",
        "      self.id=id\n",
        "      src = \"https://player.bilibili.com/player.html?bvid={0}&page={1}\".format(id, page)\n",
        "      super(BiliVideo, self).__init__(src, width, height, **kwargs)\n",
        "\n",
        "  video = BiliVideo(id=f\"BV1v54y1J7SC\", width=854, height=480, fs=1)\n",
        "  print(\"Video available at https://www.bilibili.com/video/{0}\".format(video.id))\n",
        "  display(video)\n",
        "\n",
        "out1 = widgets.Output()\n",
        "with out1:\n",
        "  from IPython.display import YouTubeVideo\n",
        "  video = YouTubeVideo(id=f\"2ULMWtaGQrQ\", width=854, height=480, fs=1, rel=0)\n",
        "  print(\"Video available at https://youtube.com/watch?v=\" + video.id)\n",
        "  display(video)\n",
        "\n",
        "out = widgets.Tab([out1, out2])\n",
        "out.set_title(0, 'Youtube')\n",
        "out.set_title(1, 'Bilibili')\n",
        "\n",
        "# add event to airtable\n",
        "atform.add_event('Video 5: Ethics of Representation and Generation')\n",
        "\n",
        "display(out)"
      ],
      "execution_count": 40,
      "outputs": [
        {
          "output_type": "display_data",
          "data": {
            "application/vnd.jupyter.widget-view+json": {
              "model_id": "ebf8ac10bb544aa3a2bff44c9fa461bb",
              "version_minor": 0,
              "version_major": 2
            },
            "text/plain": [
              "Tab(children=(Output(), Output()), _titles={'0': 'Youtube', '1': 'Bilibili'})"
            ]
          },
          "metadata": {
            "tags": []
          }
        }
      ]
    },
    {
      "cell_type": "markdown",
      "metadata": {
        "execution": {},
        "id": "fmLoMweRSTqV"
      },
      "source": [
        "---\n",
        "# Summary\n",
        "\n",
        "During this day, we have learned about modern RNNs and their variants. Now let's see some ethical aspects of representation and Generation, and then we will close the tutorials with an overview."
      ]
    },
    {
      "cell_type": "code",
      "metadata": {
        "cellView": "form",
        "execution": {},
        "id": "Tyi72__qSTqV",
        "outputId": "0d909037-9b00-460a-a4f8-8b250b387b76",
        "colab": {
          "base_uri": "https://localhost:8080/",
          "height": 580,
          "referenced_widgets": [
            "db1a69488f4440f197098f4cdfcfb6aa",
            "8e921c71427145e385fa285e448d8363",
            "eabf3cb9af08400e9728641ce2e28397",
            "1d71df8f5ce846d88ab0d8ebcbaa05af",
            "45a14e5712e54d57b6f316a8dc96ac83",
            "0e179d34bad24107b61f5cf32df12235"
          ]
        }
      },
      "source": [
        "# @title Video 6: Beyond Sequence\n",
        "from ipywidgets import widgets\n",
        "\n",
        "out2 = widgets.Output()\n",
        "with out2:\n",
        "  from IPython.display import IFrame\n",
        "  class BiliVideo(IFrame):\n",
        "    def __init__(self, id, page=1, width=400, height=300, **kwargs):\n",
        "      self.id=id\n",
        "      src = \"https://player.bilibili.com/player.html?bvid={0}&page={1}\".format(id, page)\n",
        "      super(BiliVideo, self).__init__(src, width, height, **kwargs)\n",
        "\n",
        "  video = BiliVideo(id=f\"BV1864y1x7Ek\", width=854, height=480, fs=1)\n",
        "  print(\"Video available at https://www.bilibili.com/video/{0}\".format(video.id))\n",
        "  display(video)\n",
        "\n",
        "out1 = widgets.Output()\n",
        "with out1:\n",
        "  from IPython.display import YouTubeVideo\n",
        "  video = YouTubeVideo(id=f\"lVcpMSJileA\", width=854, height=480, fs=1, rel=0)\n",
        "  print(\"Video available at https://youtube.com/watch?v=\" + video.id)\n",
        "  display(video)\n",
        "\n",
        "out = widgets.Tab([out1, out2])\n",
        "out.set_title(0, 'Youtube')\n",
        "out.set_title(1, 'Bilibili')\n",
        "\n",
        "# add event to airtable\n",
        "atform.add_event('Video 6: Beyond Sequence')\n",
        "\n",
        "display(out)"
      ],
      "execution_count": 41,
      "outputs": [
        {
          "output_type": "display_data",
          "data": {
            "application/vnd.jupyter.widget-view+json": {
              "model_id": "db1a69488f4440f197098f4cdfcfb6aa",
              "version_minor": 0,
              "version_major": 2
            },
            "text/plain": [
              "Tab(children=(Output(), Output()), _titles={'0': 'Youtube', '1': 'Bilibili'})"
            ]
          },
          "metadata": {
            "tags": []
          }
        }
      ]
    },
    {
      "cell_type": "code",
      "metadata": {
        "cellView": "form",
        "execution": {},
        "id": "fkDeUizSSTqV",
        "outputId": "1148fd0f-f43c-4545-eb1c-af3126c9cdd0",
        "colab": {
          "base_uri": "https://localhost:8080/",
          "height": 158
        }
      },
      "source": [
        "# @title Airtable Submission Link\n",
        "from IPython import display as IPydisplay\n",
        "IPydisplay.HTML(\n",
        "   f\"\"\"\n",
        " <div>\n",
        "   <a href= \"{atform.url()}\" target=\"_blank\">\n",
        "   <img src=\"https://github.com/NeuromatchAcademy/course-content-dl/blob/main/tutorials/static/SurveyButton.png?raw=1\"\n",
        " alt=\"button link end of day Survey\" style=\"width:410px\"></a>\n",
        "   </div>\"\"\" )"
      ],
      "execution_count": 42,
      "outputs": [
        {
          "output_type": "execute_result",
          "data": {
            "text/html": [
              "\n",
              " <div>\n",
              "   <a href= \"https://portal.neuromatchacademy.org/api/redirect/to/3412a777-eb0e-4312-9254-eec266f0bee4?data=eyJmb3JtX2lkIjogImFwcG43VmRQUnNlU29NWEVHIiwgInRhYmxlX25hbWUiOiAiVzJEM19UMiIsICJhbnN3ZXJzIjoge30sICJldmVudHMiOiBbeyJldmVudCI6ICJpbml0IiwgInRzIjogMTYyODY2OTg1Ny4xNzgwNTEyfSwgeyJldmVudCI6ICJWaWRlbyAxOiBSZWN1cnJlbnQgTmV1cmFsIE5ldHdvcmtzIiwgInRzIjogMTYyODY2OTg2My41Nzc4NzQ3fSwgeyJldmVudCI6ICJDb2RpbmcgRXhlcmNpc2UgMS4xOiBWYW5pbGxhIFJOTiIsICJ0cyI6IDE2Mjg2Njk5NzYuNTQ3OTkxOH0sIHsiZXZlbnQiOiAiQ29kaW5nIEV4ZXJjaXNlIDEuMTogVmFuaWxsYSBSTk4iLCAidHMiOiAxNjI4NjY5OTc2LjU3NzI5NDN9LCB7ImV2ZW50IjogIlZpZGVvIDI6IEJpZGlyZWN0aW9uYWwgUk5OcyIsICJ0cyI6IDE2Mjg2NzAyMDUuODI4OTI1NH0sIHsiZXZlbnQiOiAiVmlkZW8gMzogTFNUTSwgR1JVICYgVGhlIE1lbW9yeSBDZWxscyIsICJ0cyI6IDE2Mjg2NzAyMDUuOTE5NTI0N30sIHsiZXZlbnQiOiAiQ29kaW5nIEV4ZXJjaXNlIDIuMTogSW1wbGVtZW50aW5nIExTVE0iLCAidHMiOiAxNjI4NjcwMjA1Ljk2MTQ1NjN9LCB7ImV2ZW50IjogIkNvZGluZyBFeGVyY2lzZSAyLjE6IEltcGxlbWVudGluZyBMU1RNIiwgInRzIjogMTYyODY3MDIwNS45OTc2NzE4fSwgeyJldmVudCI6ICJDb2RpbmcgRXhlcmNpc2UgMi4yOiBCaUxTVE0iLCAidHMiOiAxNjI4NjcwMjQ4LjkzODAzMzZ9LCB7ImV2ZW50IjogIkNvZGluZyBFeGVyY2lzZSAyLjI6IEJpTFNUTSIsICJ0cyI6IDE2Mjg2NzAyNDguOTY1MjY4NH0sIHsiZXZlbnQiOiAiVmlkZW8gNDogU2VxMlNlcSAmIEVuY29kZXItRGVjb2RlciBOZXRzIiwgInRzIjogMTYyODY3MDMxMy4xMzIzNDI4fSwgeyJldmVudCI6ICJDb2RpbmcgRXhlcmNpc2UgMzogRW5jb2RlciIsICJ0cyI6IDE2Mjg2NzAzMTMuMTcwMzE0OH0sIHsiZXZlbnQiOiAiQ29kaW5nIEV4ZXJjaXNlIDM6IEVuY29kZXIiLCAidHMiOiAxNjI4NjcwMzEzLjE5NjQxNn0sIHsiZXZlbnQiOiAiVmlkZW8gNTogRXRoaWNzIG9mIFJlcHJlc2VudGF0aW9uIGFuZCBHZW5lcmF0aW9uIiwgInRzIjogMTYyODY3MDM0OC45Mzg0NzU0fSwgeyJldmVudCI6ICJWaWRlbyA2OiBCZXlvbmQgU2VxdWVuY2UiLCAidHMiOiAxNjI4NjcwMzQ5LjAzOTE0ODh9LCB7ImV2ZW50IjogInVybCBnZW5lcmF0ZWQiLCAidHMiOiAxNjI4NjcwMzQ5LjA1MzQ5MjN9XX0%3D\" target=\"_blank\">\n",
              "   <img src=\"https://github.com/NeuromatchAcademy/course-content-dl/blob/main/tutorials/static/SurveyButton.png?raw=1\"\n",
              " alt=\"button link end of day Survey\" style=\"width:410px\"></a>\n",
              "   </div>"
            ],
            "text/plain": [
              "<IPython.core.display.HTML object>"
            ]
          },
          "metadata": {
            "tags": []
          },
          "execution_count": 42
        }
      ]
    },
    {
      "cell_type": "markdown",
      "metadata": {
        "execution": {},
        "id": "wBfqVWvjSTqW"
      },
      "source": [
        "---\n",
        "# Bonus: Attention"
      ]
    },
    {
      "cell_type": "code",
      "metadata": {
        "cellView": "form",
        "execution": {},
        "id": "x9dyHYa7STqW",
        "outputId": "18359a84-8d74-4267-8aea-11ee51375e2f",
        "colab": {
          "base_uri": "https://localhost:8080/",
          "height": 580,
          "referenced_widgets": [
            "c9577a7d6385465f8bbb0d19477db6d8",
            "1ae51def2fbc4401bf3122960075135a",
            "17034375844c47e884b993cfecf5e9f0",
            "3c47c36967254e58bb3bdd6434d2683b",
            "5e6a17402d2046e49b613e3d55d7c21f",
            "1f0dda10fe7f4caaa1d0531dff3bff27"
          ]
        }
      },
      "source": [
        "# @title Video 7: Attention mechanisms\n",
        "from ipywidgets import widgets\n",
        "\n",
        "out2 = widgets.Output()\n",
        "with out2:\n",
        "  from IPython.display import IFrame\n",
        "  class BiliVideo(IFrame):\n",
        "    def __init__(self, id, page=1, width=400, height=300, **kwargs):\n",
        "      self.id=id\n",
        "      src = \"https://player.bilibili.com/player.html?bvid={0}&page={1}\".format(id, page)\n",
        "      super(BiliVideo, self).__init__(src, width, height, **kwargs)\n",
        "\n",
        "  video = BiliVideo(id=f\"BV1Mo4y1S7oK\", width=854, height=480, fs=1)\n",
        "  print(\"Video available at https://www.bilibili.com/video/{0}\".format(video.id))\n",
        "  display(video)\n",
        "\n",
        "out1 = widgets.Output()\n",
        "with out1:\n",
        "  from IPython.display import YouTubeVideo\n",
        "  video = YouTubeVideo(id=f\"Vt9GhJKcEiM\", width=854, height=480, fs=1, rel=0)\n",
        "  print(\"Video available at https://youtube.com/watch?v=\" + video.id)\n",
        "  display(video)\n",
        "\n",
        "out = widgets.Tab([out1, out2])\n",
        "out.set_title(0, 'Youtube')\n",
        "out.set_title(1, 'Bilibili')\n",
        "\n",
        "# add event to airtable\n",
        "atform.add_event('Video 7: Attention mechanisms')\n",
        "\n",
        "display(out)"
      ],
      "execution_count": 43,
      "outputs": [
        {
          "output_type": "display_data",
          "data": {
            "application/vnd.jupyter.widget-view+json": {
              "model_id": "c9577a7d6385465f8bbb0d19477db6d8",
              "version_minor": 0,
              "version_major": 2
            },
            "text/plain": [
              "Tab(children=(Output(), Output()), _titles={'0': 'Youtube', '1': 'Bilibili'})"
            ]
          },
          "metadata": {
            "tags": []
          }
        }
      ]
    },
    {
      "cell_type": "markdown",
      "metadata": {
        "execution": {},
        "id": "Dz0133xVSTqW"
      },
      "source": [
        "Previously, we designed an encoder-decoder architecture based on two RNNs for sequence to sequence learning. Specifically, the RNN encoder transforms a variable-length sequence into a fixed-shape context variable, then the RNN decoder generates the output (target) sequence token by token based on the generated tokens and the context variable. However, even though not all the input (source) tokens are useful for decoding a certain token, the same context variable that encodes the entire input sequence is still used at each decoding step. It is challenging for the models to deal with long sentences. \n",
        "\n",
        "In [Bahdanau et al., 2014](https://arxiv.org/abs/1409.0473), the authors proposed a technique called attention. When predicting a token, if not all the input tokens are relevant, the model aligns (or attends) only to parts of the input sequence that are relevant to the current prediction. \n"
      ]
    },
    {
      "cell_type": "markdown",
      "metadata": {
        "execution": {},
        "id": "lFus1AUeSTqW"
      },
      "source": [
        "In contrast to seq2seq model, the encoder passes a lot more data to the decoder. Instead of passing the last hidden state of the encoding stage, the encoder passes all the hidden states to the decoder. \n",
        "\n",
        "In order to focus on the parts of input relevant to the decoder, look at the set of encoder hidden states it received. Each encoder hidden state is at most associated with a certain word in the input sentence. We can assign each hidden state a score and multiply it with the softmaxed score, thus amplifying hidden states with high scores, and drowning out hidden states with low scores.\n",
        "\n",
        "\n",
        "Reference Links: \\\\\n",
        " https://jalammar.github.io/visualizing-neural-machine-translation-mechanics-of-seq2seq-models-with-attention/ \\\\\n",
        "\n",
        " https://d2l.ai/chapter_attention-mechanisms/attention-cues.html"
      ]
    },
    {
      "cell_type": "code",
      "metadata": {
        "cellView": "form",
        "execution": {},
        "id": "DLOoNi3QSTqW",
        "outputId": "eceec302-05e6-4e6b-852a-2142f4b369dc",
        "colab": {
          "base_uri": "https://localhost:8080/",
          "height": 350
        }
      },
      "source": [
        "# @markdown Media 1: Sequence to Sequence model with Attention\n",
        "\n",
        "url = \"https://jalammar.github.io/images/seq2seq_7.mp4\"\n",
        "from IPython.display import HTML\n",
        "HTML(f\"\"\"<video src={url} width=750 controls/>\"\"\")"
      ],
      "execution_count": 44,
      "outputs": [
        {
          "output_type": "execute_result",
          "data": {
            "text/html": [
              "<video src=https://jalammar.github.io/images/seq2seq_7.mp4 width=750 controls/>"
            ],
            "text/plain": [
              "<IPython.core.display.HTML object>"
            ]
          },
          "metadata": {
            "tags": []
          },
          "execution_count": 44
        }
      ]
    },
    {
      "cell_type": "code",
      "metadata": {
        "cellView": "form",
        "execution": {},
        "id": "yulFf_YmSTqW",
        "outputId": "33527fd8-5fe8-483a-b0b4-72590ed15d75",
        "colab": {
          "base_uri": "https://localhost:8080/",
          "height": 347
        }
      },
      "source": [
        "# @markdown Media 2: Mapping input to output\n",
        "\n",
        "url = \"https://jalammar.github.io/images/seq2seq_9.mp4\"\n",
        "from IPython.display import HTML\n",
        "HTML(f\"\"\"<video src={url} width=750 controls/>\"\"\")"
      ],
      "execution_count": 45,
      "outputs": [
        {
          "output_type": "execute_result",
          "data": {
            "text/html": [
              "<video src=https://jalammar.github.io/images/seq2seq_9.mp4 width=750 controls/>"
            ],
            "text/plain": [
              "<IPython.core.display.HTML object>"
            ]
          },
          "metadata": {
            "tags": []
          },
          "execution_count": 45
        }
      ]
    },
    {
      "cell_type": "markdown",
      "metadata": {
        "execution": {},
        "id": "xVYqnNW6STqW"
      },
      "source": [
        "## Queries, Keys, and Values\n",
        "\n",
        "\n",
        "To calculate the attention mechanism we make use of Queries, Keys and Values. But what are Queries, Keys and Values? Query, Value and Key are the transformations of the input vector. \n",
        "\n",
        "In an attention mechanism the context vector is computed as a weighted sum of values, where the weight assigned to each value is computed through an attention score. The score is usually the dot product between the query and key. The scores then go through the softmax function to yield a set of weights whose sum equals 1.\n",
        "\n",
        "The query is from the decoder hidden state whereas the key and value are from the encoder hidden state. \n"
      ]
    },
    {
      "cell_type": "markdown",
      "metadata": {
        "execution": {},
        "id": "SpJlrRl5STqW"
      },
      "source": [
        "Take a minute and look at this [article](https://www.kdnuggets.com/2021/01/attention-mechanism-deep-learning-explained.html). It has detailed graphical explanation on how to calculate attention scores. "
      ]
    },
    {
      "cell_type": "markdown",
      "metadata": {
        "execution": {},
        "id": "EW1ZDqq3STqW"
      },
      "source": [
        "### Bonus Coding Exercise: Attention for Text Classification\n",
        "\n",
        "Until now, we looked at attention aimed at seq2seq networks. Let’s try implementing attention for the above IMDB sentiment analysis dataset. Previously, using the LSTM, the classification completely depended on the last hidden state. In this exercise, we will compute the attention scores between the last hidden state and output of each sequence. The final attention vector will be the weighted average of the outputs at each sequence, with the weights being the attention scores. Lastly, we will concatenate the attention vector and the last hidden state to get the final output.\n",
        "\n",
        "For simplicity's sake, let's implement attention over an LSTM with 1 layer.\n",
        "\n",
        "\n",
        "[*Code reference*](https://github.com/prakashpandey9/Text-Classification-Pytorch/blob/master/main.py)\n"
      ]
    },
    {
      "cell_type": "code",
      "metadata": {
        "execution": {},
        "id": "LGVt65ZKSTqW"
      },
      "source": [
        "class AttentionModel(torch.nn.Module):\n",
        "  def __init__(self, batch_size, output_size, hidden_size, vocab_size,\n",
        "               embedding_length, weights, device):\n",
        "    super(AttentionModel, self).__init__()\n",
        "    self.hidden_size = hidden_size\n",
        "    self.word_embeddings = nn.Embedding(vocab_size, embedding_length)\n",
        "    self.word_embeddings.weights = nn.Parameter(weights, requires_grad=False)\n",
        "    self.lstm = nn.LSTM(embedding_length, hidden_size)\n",
        "    self.fc1 = nn.Linear(2*hidden_size, output_size)\n",
        "    self.device = device\n",
        "    self.num_seq = sentence_length\n",
        "\n",
        "  def attention_net(self, lstm_output, final_state):\n",
        "    \"\"\"\n",
        "    lstm_output : shape: (num_seq, batch_size, hidden_size)\n",
        "    final_state : shape: (1, batch_size, hidden_size)\n",
        "    \"\"\"\n",
        "    ####################################################\n",
        "    # Implement the attenion net\n",
        "    # Fill in missing code below (...)\n",
        "    raise NotImplementedError(\"perform the convolution\")\n",
        "    ####################################################\n",
        "    # permute the output to get the shape (batch_size, num_seq, hidden_size)\n",
        "    # Get the attention weights\n",
        "    # use torch.bmm to compute the attention weights between each output and last hidden state\n",
        "    # pay attention to the tensor shapes, you may have to use squeeze and unsqueeze functions\n",
        "    # softmax the attention weights\n",
        "    # Get the new hidden state, use torch.bmm to get the weighted lstm output\n",
        "    # pay attention to the tensor shapes, you may have to use squeeze and unsqueeze functions\n",
        "    lstm_output = ...\n",
        "    hidden = ...\n",
        "    attn_weights = ...  # expected shape: (batch_size, num_seq)\n",
        "    soft_attn_weights = ...\n",
        "    new_hidden_state = ...\n",
        "\n",
        "    return new_hidden_state\n",
        "\n",
        "  def forward(self, input_sentences):\n",
        "\n",
        "    input = self.word_embeddings(input_sentences)\n",
        "    input = input.permute(1, 0, 2)\n",
        "\n",
        "    h_0 = torch.zeros(1, input.shape[1], self.hidden_size).to(self.device)\n",
        "    c_0 = torch.zeros(1, input.shape[1], self.hidden_size).to(self.device)\n",
        "\n",
        "    output, (final_hidden_state, final_cell_state) = self.lstm(input, (h_0, c_0))\n",
        "    attn_output = self.attention_net(output, final_hidden_state)\n",
        "    final_output = torch.cat((attn_output, final_hidden_state[0]), 1)\n",
        "    logits = self.fc1(final_output)\n",
        "\n",
        "    return logits\n",
        "\n",
        "\n",
        "# Uncomment to check AttentionModel class\n",
        "# attention_model = AttentionModel(32, 2, 16, 20, 200, TEXT.vocab.vectors, DEVICE)\n",
        "# print(attention_model)"
      ],
      "execution_count": 46,
      "outputs": []
    },
    {
      "cell_type": "code",
      "metadata": {
        "execution": {},
        "id": "Ezyq5LItSTqX",
        "outputId": "082b4743-5093-449c-bacc-5e34717ee319",
        "colab": {
          "base_uri": "https://localhost:8080/"
        }
      },
      "source": [
        "class AttentionModel(torch.nn.Module):\n",
        "  def __init__(self, batch_size, output_size, hidden_size, vocab_size, embedding_length, sentence_length, weights, device):\n",
        "    super(AttentionModel, self).__init__()\n",
        "    self.hidden_size = hidden_size\n",
        "    self.word_embeddings = nn.Embedding(vocab_size, embedding_length)\n",
        "    self.word_embeddings.weights = nn.Parameter(weights, requires_grad=False)\n",
        "    self.lstm = nn.LSTM(embedding_length, hidden_size)\n",
        "    self.fc1 = nn.Linear(2*hidden_size, output_size)\n",
        "    self.device = device\n",
        "    self.num_seq = sentence_length\n",
        "\n",
        "  def attention_net(self, lstm_output, final_state, batch_size=32):\n",
        "    \"\"\" lstm_output : shape: (num_seq, batch_size, hidden_size)\n",
        "    final_state : shape: (1, batch_size, hidden_size) \"\"\"\n",
        "    # permute the output to get the shape (batch_size, num_seq, hidden_size)\n",
        "    # Get the attention weights # use torch.bmm to compute the attention weights between each output and last hidden state\n",
        "    # pay attention to the tensor shapes, you may have to use squeeze and unsqueeze functions # softmax the attention weights\n",
        "    # Get the new hidden state, use torch.bmm to get the weighted lstm output\n",
        "    # pay attention to the tensor shapes, you may have to use squeeze and unsqueeze functions\n",
        "    lstm_output = lstm_output.permute(1, 0, 2)\n",
        "    hidden = final_state.squeeze(0).unsqueeze(2)\n",
        "    attn_weights = torch.matmul(lstm_output, hidden)\n",
        "    attn_weights = torch.reshape(attn_weights, ([batch_size,self.num_seq])) #expected shape: (batch_size, num_seq)\n",
        "    soft_attn_weights = F.softmax(attn_weights, 1)\n",
        "    new_hidden_state = torch.bmm(lstm_output.transpose(1, 2), soft_attn_weights.unsqueeze(2)).squeeze(2)\n",
        "    return new_hidden_state\n",
        "\n",
        "  def forward(self, input_sentences):\n",
        "    input = self.word_embeddings(input_sentences)\n",
        "    input = input.permute(1, 0, 2)\n",
        "    h_0 = torch.zeros(1, input.shape[1], self.hidden_size).to(self.device)\n",
        "    c_0 = torch.zeros(1, input.shape[1], self.hidden_size).to(self.device)\n",
        "    output, (final_hidden_state, final_cell_state) = self.lstm(input, (h_0, c_0))\n",
        "    attn_output = self.attention_net(output, final_hidden_state, input.shape[1])\n",
        "    final_output = torch.cat((attn_output, final_hidden_state[0]), 1)\n",
        "    logits = self.fc1(final_output)\n",
        "    return logits\n",
        "\n",
        "# Uncomment to check AttentionModel class\n",
        "attention_model = AttentionModel(32, 2, 16, 20, 200, 50, TEXT.vocab.vectors, DEVICE)\n",
        "print(attention_model)"
      ],
      "execution_count": 47,
      "outputs": [
        {
          "output_type": "stream",
          "text": [
            "AttentionModel(\n",
            "  (word_embeddings): Embedding(20, 200)\n",
            "  (lstm): LSTM(200, 16)\n",
            "  (fc1): Linear(in_features=32, out_features=2, bias=True)\n",
            ")\n"
          ],
          "name": "stdout"
        }
      ]
    },
    {
      "cell_type": "markdown",
      "metadata": {
        "execution": {},
        "id": "GF99SEvlSTqX"
      },
      "source": [
        "```\n",
        "AttentionModel(\n",
        "  (word_embeddings): Embedding(20, 200)\n",
        "  (lstm): LSTM(200, 16)\n",
        "  (fc1): Linear(in_features=32, out_features=2, bias=True)\n",
        ")\n",
        "```"
      ]
    },
    {
      "cell_type": "code",
      "metadata": {
        "cellView": "form",
        "execution": {},
        "id": "ewqpltm0STqX",
        "outputId": "f2307e9e-a89d-4e8e-c07d-ba108660a4c9",
        "colab": {
          "base_uri": "https://localhost:8080/"
        }
      },
      "source": [
        "# @markdown Reload dataset using the default params since variables have been overwritten\n",
        "TEXT, vocab_size, train_iter, valid_iter, test_iter = load_dataset(seed=SEED)"
      ],
      "execution_count": 48,
      "outputs": [
        {
          "output_type": "stream",
          "text": [
            "Data loading is completed. Sentence length: 50, Batch size: 32, and seed: 2021\n"
          ],
          "name": "stdout"
        }
      ]
    },
    {
      "cell_type": "code",
      "metadata": {
        "execution": {},
        "id": "WbhB9H80STqX",
        "outputId": "1735151e-e504-4bde-b9c5-40ef50f68656",
        "colab": {
          "base_uri": "https://localhost:8080/"
        }
      },
      "source": [
        "learning_rate = 0.0001\n",
        "batch_size = 32  # initially was 16\n",
        "output_size = 2\n",
        "hidden_size = 16\n",
        "embedding_length = 300\n",
        "epochs = 6  # initially was 12\n",
        "sentence_length = 50\n",
        "\n",
        "word_embeddings = TEXT.vocab.vectors\n",
        "vocab_size = len(TEXT.vocab)\n",
        "\n",
        "attention_model = AttentionModel(batch_size,\n",
        "                                 output_size,\n",
        "                                 hidden_size,\n",
        "                                 vocab_size,\n",
        "                                 embedding_length, sentence_length,\n",
        "                                 word_embeddings,\n",
        "                                 DEVICE)\n",
        "attention_model.to(DEVICE)\n",
        "attention_start_time = time.time()\n",
        "set_seed(SEED)\n",
        "attention_train_loss, attention_train_acc, attention_validation_loss, attention_validation_acc = train(attention_model,\n",
        "                                                                                                       DEVICE,\n",
        "                                                                                                       train_iter,\n",
        "                                                                                                       valid_iter,\n",
        "                                                                                                       epochs,\n",
        "                                                                                                       learning_rate)\n",
        "print(\"--- Time taken to train = %s seconds ---\" % (time.time() - attention_start_time))\n",
        "test_accuracy = test(attention_model, DEVICE, test_iter)\n",
        "print(f'\\n\\nTest Accuracy: {test_accuracy}%')"
      ],
      "execution_count": 49,
      "outputs": [
        {
          "output_type": "stream",
          "text": [
            "Random seed 2021 has been set.\n",
            "Epoch: 1, Training Loss: 0.6926, Training Accuracy:  52.00%\n",
            "Validation Loss: 0.6894, Validation Accuracy:  53.40%\n",
            "Epoch: 2, Training Loss: 0.6805, Training Accuracy:  57.18%\n",
            "Validation Loss: 0.6828, Validation Accuracy:  55.40%\n",
            "Epoch: 3, Training Loss: 0.6682, Training Accuracy:  60.39%\n",
            "Validation Loss: 0.6757, Validation Accuracy:  57.07%\n",
            "Epoch: 4, Training Loss: 0.6530, Training Accuracy:  63.50%\n",
            "Validation Loss: 0.6679, Validation Accuracy:  58.84%\n",
            "Epoch: 5, Training Loss: 0.6342, Training Accuracy:  66.33%\n",
            "Validation Loss: 0.6589, Validation Accuracy:  60.68%\n",
            "Epoch: 6, Training Loss: 0.6110, Training Accuracy:  68.79%\n",
            "Validation Loss: 0.6489, Validation Accuracy:  62.56%\n",
            "--- Time taken to train = 28.63093662261963 seconds ---\n",
            "\n",
            "\n",
            "Test Accuracy: 62.548%\n"
          ],
          "name": "stdout"
        }
      ]
    },
    {
      "cell_type": "code",
      "metadata": {
        "execution": {},
        "id": "-Db3ebrDSTqX",
        "outputId": "cbc4b2ec-71cd-4f85-f04a-78cd45916058",
        "colab": {
          "base_uri": "https://localhost:8080/",
          "height": 590
        }
      },
      "source": [
        "plt.figure()\n",
        "plt.subplot(211)\n",
        "plot_train_val(np.arange(0, epochs),\n",
        "               attention_train_acc,\n",
        "               attention_validation_acc,\n",
        "               'trai accuracy',\n",
        "               'val accuracy',\n",
        "               'attention on IMDB text classification',\n",
        "               'loss',\n",
        "               color='C0')\n",
        "plt.legend(loc='upper left')\n",
        "plt.subplot(212)\n",
        "plot_train_val(np.arange(0, epochs),\n",
        "               attention_train_loss,\n",
        "               attention_validation_loss,\n",
        "               'train loss',\n",
        "               'val loss',\n",
        "               '',\n",
        "               'loss',\n",
        "               color='C1')\n",
        "plt.tight_layout()\n",
        "plt.legend(loc='upper left')"
      ],
      "execution_count": 50,
      "outputs": [
        {
          "output_type": "execute_result",
          "data": {
            "text/plain": [
              "<matplotlib.legend.Legend at 0x7f640b546dd0>"
            ]
          },
          "metadata": {
            "tags": []
          },
          "execution_count": 50
        },
        {
          "output_type": "display_data",
          "data": {
            "text/plain": [
              "<Figure size 576x432 with 2 Axes>"
            ],
            "image/svg+xml": "<?xml version=\"1.0\" encoding=\"utf-8\" standalone=\"no\"?>\n<!DOCTYPE svg PUBLIC \"-//W3C//DTD SVG 1.1//EN\"\n  \"http://www.w3.org/Graphics/SVG/1.1/DTD/svg11.dtd\">\n<!-- Created with matplotlib (https://matplotlib.org/) -->\n<svg height=\"414pt\" version=\"1.1\" viewBox=\"0 0 558 414\" width=\"558pt\" xmlns=\"http://www.w3.org/2000/svg\" xmlns:xlink=\"http://www.w3.org/1999/xlink\">\n <defs>\n  <style type=\"text/css\">\n*{stroke-linecap:butt;stroke-linejoin:round;}\n  </style>\n </defs>\n <g id=\"figure_1\">\n  <g id=\"patch_1\">\n   <path d=\"M 0 414 \nL 558 414 \nL 558 0 \nL 0 0 \nz\n\" style=\"fill:none;\"/>\n  </g>\n  <g id=\"axes_1\">\n   <g id=\"patch_2\">\n    <path d=\"M 62.038086 169.628589 \nL 550.8 169.628589 \nL 550.8 26.877187 \nL 62.038086 26.877187 \nz\n\" style=\"fill:#ffffff;\"/>\n   </g>\n   <g id=\"matplotlib.axis_1\">\n    <g id=\"xtick_1\">\n     <g id=\"line2d_1\">\n      <defs>\n       <path d=\"M 0 0 \nL 0 5 \n\" id=\"mccaa93939d\" style=\"stroke:#000000;stroke-width:0.8;\"/>\n      </defs>\n      <g>\n       <use style=\"stroke:#000000;stroke-width:0.8;\" x=\"84.254537\" xlink:href=\"#mccaa93939d\" y=\"169.628589\"/>\n      </g>\n     </g>\n     <g id=\"text_1\">\n      <!-- 0 -->\n      <defs>\n       <path d=\"M 31.78125 66.40625 \nQ 24.171875 66.40625 20.328125 58.90625 \nQ 16.5 51.421875 16.5 36.375 \nQ 16.5 21.390625 20.328125 13.890625 \nQ 24.171875 6.390625 31.78125 6.390625 \nQ 39.453125 6.390625 43.28125 13.890625 \nQ 47.125 21.390625 47.125 36.375 \nQ 47.125 51.421875 43.28125 58.90625 \nQ 39.453125 66.40625 31.78125 66.40625 \nz\nM 31.78125 74.21875 \nQ 44.046875 74.21875 50.515625 64.515625 \nQ 56.984375 54.828125 56.984375 36.375 \nQ 56.984375 17.96875 50.515625 8.265625 \nQ 44.046875 -1.421875 31.78125 -1.421875 \nQ 19.53125 -1.421875 13.0625 8.265625 \nQ 6.59375 17.96875 6.59375 36.375 \nQ 6.59375 54.828125 13.0625 64.515625 \nQ 19.53125 74.21875 31.78125 74.21875 \nz\n\" id=\"DejaVuSans-48\"/>\n      </defs>\n      <g transform=\"translate(80.279565 187.622837)scale(0.12495 -0.12495)\">\n       <use xlink:href=\"#DejaVuSans-48\"/>\n      </g>\n     </g>\n    </g>\n    <g id=\"xtick_2\">\n     <g id=\"line2d_2\">\n      <g>\n       <use style=\"stroke:#000000;stroke-width:0.8;\" x=\"173.120339\" xlink:href=\"#mccaa93939d\" y=\"169.628589\"/>\n      </g>\n     </g>\n     <g id=\"text_2\">\n      <!-- 1 -->\n      <defs>\n       <path d=\"M 12.40625 8.296875 \nL 28.515625 8.296875 \nL 28.515625 63.921875 \nL 10.984375 60.40625 \nL 10.984375 69.390625 \nL 28.421875 72.90625 \nL 38.28125 72.90625 \nL 38.28125 8.296875 \nL 54.390625 8.296875 \nL 54.390625 0 \nL 12.40625 0 \nz\n\" id=\"DejaVuSans-49\"/>\n      </defs>\n      <g transform=\"translate(169.145367 187.622837)scale(0.12495 -0.12495)\">\n       <use xlink:href=\"#DejaVuSans-49\"/>\n      </g>\n     </g>\n    </g>\n    <g id=\"xtick_3\">\n     <g id=\"line2d_3\">\n      <g>\n       <use style=\"stroke:#000000;stroke-width:0.8;\" x=\"261.986142\" xlink:href=\"#mccaa93939d\" y=\"169.628589\"/>\n      </g>\n     </g>\n     <g id=\"text_3\">\n      <!-- 2 -->\n      <defs>\n       <path d=\"M 19.1875 8.296875 \nL 53.609375 8.296875 \nL 53.609375 0 \nL 7.328125 0 \nL 7.328125 8.296875 \nQ 12.9375 14.109375 22.625 23.890625 \nQ 32.328125 33.6875 34.8125 36.53125 \nQ 39.546875 41.84375 41.421875 45.53125 \nQ 43.3125 49.21875 43.3125 52.78125 \nQ 43.3125 58.59375 39.234375 62.25 \nQ 35.15625 65.921875 28.609375 65.921875 \nQ 23.96875 65.921875 18.8125 64.3125 \nQ 13.671875 62.703125 7.8125 59.421875 \nL 7.8125 69.390625 \nQ 13.765625 71.78125 18.9375 73 \nQ 24.125 74.21875 28.421875 74.21875 \nQ 39.75 74.21875 46.484375 68.546875 \nQ 53.21875 62.890625 53.21875 53.421875 \nQ 53.21875 48.921875 51.53125 44.890625 \nQ 49.859375 40.875 45.40625 35.40625 \nQ 44.1875 33.984375 37.640625 27.21875 \nQ 31.109375 20.453125 19.1875 8.296875 \nz\n\" id=\"DejaVuSans-50\"/>\n      </defs>\n      <g transform=\"translate(258.01117 187.622837)scale(0.12495 -0.12495)\">\n       <use xlink:href=\"#DejaVuSans-50\"/>\n      </g>\n     </g>\n    </g>\n    <g id=\"xtick_4\">\n     <g id=\"line2d_4\">\n      <g>\n       <use style=\"stroke:#000000;stroke-width:0.8;\" x=\"350.851944\" xlink:href=\"#mccaa93939d\" y=\"169.628589\"/>\n      </g>\n     </g>\n     <g id=\"text_4\">\n      <!-- 3 -->\n      <defs>\n       <path d=\"M 40.578125 39.3125 \nQ 47.65625 37.796875 51.625 33 \nQ 55.609375 28.21875 55.609375 21.1875 \nQ 55.609375 10.40625 48.1875 4.484375 \nQ 40.765625 -1.421875 27.09375 -1.421875 \nQ 22.515625 -1.421875 17.65625 -0.515625 \nQ 12.796875 0.390625 7.625 2.203125 \nL 7.625 11.71875 \nQ 11.71875 9.328125 16.59375 8.109375 \nQ 21.484375 6.890625 26.8125 6.890625 \nQ 36.078125 6.890625 40.9375 10.546875 \nQ 45.796875 14.203125 45.796875 21.1875 \nQ 45.796875 27.640625 41.28125 31.265625 \nQ 36.765625 34.90625 28.71875 34.90625 \nL 20.21875 34.90625 \nL 20.21875 43.015625 \nL 29.109375 43.015625 \nQ 36.375 43.015625 40.234375 45.921875 \nQ 44.09375 48.828125 44.09375 54.296875 \nQ 44.09375 59.90625 40.109375 62.90625 \nQ 36.140625 65.921875 28.71875 65.921875 \nQ 24.65625 65.921875 20.015625 65.03125 \nQ 15.375 64.15625 9.8125 62.3125 \nL 9.8125 71.09375 \nQ 15.4375 72.65625 20.34375 73.4375 \nQ 25.25 74.21875 29.59375 74.21875 \nQ 40.828125 74.21875 47.359375 69.109375 \nQ 53.90625 64.015625 53.90625 55.328125 \nQ 53.90625 49.265625 50.4375 45.09375 \nQ 46.96875 40.921875 40.578125 39.3125 \nz\n\" id=\"DejaVuSans-51\"/>\n      </defs>\n      <g transform=\"translate(346.876972 187.622837)scale(0.12495 -0.12495)\">\n       <use xlink:href=\"#DejaVuSans-51\"/>\n      </g>\n     </g>\n    </g>\n    <g id=\"xtick_5\">\n     <g id=\"line2d_5\">\n      <g>\n       <use style=\"stroke:#000000;stroke-width:0.8;\" x=\"439.717747\" xlink:href=\"#mccaa93939d\" y=\"169.628589\"/>\n      </g>\n     </g>\n     <g id=\"text_5\">\n      <!-- 4 -->\n      <defs>\n       <path d=\"M 37.796875 64.3125 \nL 12.890625 25.390625 \nL 37.796875 25.390625 \nz\nM 35.203125 72.90625 \nL 47.609375 72.90625 \nL 47.609375 25.390625 \nL 58.015625 25.390625 \nL 58.015625 17.1875 \nL 47.609375 17.1875 \nL 47.609375 0 \nL 37.796875 0 \nL 37.796875 17.1875 \nL 4.890625 17.1875 \nL 4.890625 26.703125 \nz\n\" id=\"DejaVuSans-52\"/>\n      </defs>\n      <g transform=\"translate(435.742775 187.622837)scale(0.12495 -0.12495)\">\n       <use xlink:href=\"#DejaVuSans-52\"/>\n      </g>\n     </g>\n    </g>\n    <g id=\"xtick_6\">\n     <g id=\"line2d_6\">\n      <g>\n       <use style=\"stroke:#000000;stroke-width:0.8;\" x=\"528.583549\" xlink:href=\"#mccaa93939d\" y=\"169.628589\"/>\n      </g>\n     </g>\n     <g id=\"text_6\">\n      <!-- 5 -->\n      <defs>\n       <path d=\"M 10.796875 72.90625 \nL 49.515625 72.90625 \nL 49.515625 64.59375 \nL 19.828125 64.59375 \nL 19.828125 46.734375 \nQ 21.96875 47.46875 24.109375 47.828125 \nQ 26.265625 48.1875 28.421875 48.1875 \nQ 40.625 48.1875 47.75 41.5 \nQ 54.890625 34.8125 54.890625 23.390625 \nQ 54.890625 11.625 47.5625 5.09375 \nQ 40.234375 -1.421875 26.90625 -1.421875 \nQ 22.3125 -1.421875 17.546875 -0.640625 \nQ 12.796875 0.140625 7.71875 1.703125 \nL 7.71875 11.625 \nQ 12.109375 9.234375 16.796875 8.0625 \nQ 21.484375 6.890625 26.703125 6.890625 \nQ 35.15625 6.890625 40.078125 11.328125 \nQ 45.015625 15.765625 45.015625 23.390625 \nQ 45.015625 31 40.078125 35.4375 \nQ 35.15625 39.890625 26.703125 39.890625 \nQ 22.75 39.890625 18.8125 39.015625 \nQ 14.890625 38.140625 10.796875 36.28125 \nz\n\" id=\"DejaVuSans-53\"/>\n      </defs>\n      <g transform=\"translate(524.608577 187.622837)scale(0.12495 -0.12495)\">\n       <use xlink:href=\"#DejaVuSans-53\"/>\n      </g>\n     </g>\n    </g>\n    <g id=\"text_7\">\n     <!-- epoch -->\n     <defs>\n      <path d=\"M 56.203125 29.59375 \nL 56.203125 25.203125 \nL 14.890625 25.203125 \nQ 15.484375 15.921875 20.484375 11.0625 \nQ 25.484375 6.203125 34.421875 6.203125 \nQ 39.59375 6.203125 44.453125 7.46875 \nQ 49.3125 8.734375 54.109375 11.28125 \nL 54.109375 2.78125 \nQ 49.265625 0.734375 44.1875 -0.34375 \nQ 39.109375 -1.421875 33.890625 -1.421875 \nQ 20.796875 -1.421875 13.15625 6.1875 \nQ 5.515625 13.8125 5.515625 26.8125 \nQ 5.515625 40.234375 12.765625 48.109375 \nQ 20.015625 56 32.328125 56 \nQ 43.359375 56 49.78125 48.890625 \nQ 56.203125 41.796875 56.203125 29.59375 \nz\nM 47.21875 32.234375 \nQ 47.125 39.59375 43.09375 43.984375 \nQ 39.0625 48.390625 32.421875 48.390625 \nQ 24.90625 48.390625 20.390625 44.140625 \nQ 15.875 39.890625 15.1875 32.171875 \nz\n\" id=\"DejaVuSans-101\"/>\n      <path d=\"M 18.109375 8.203125 \nL 18.109375 -20.796875 \nL 9.078125 -20.796875 \nL 9.078125 54.6875 \nL 18.109375 54.6875 \nL 18.109375 46.390625 \nQ 20.953125 51.265625 25.265625 53.625 \nQ 29.59375 56 35.59375 56 \nQ 45.5625 56 51.78125 48.09375 \nQ 58.015625 40.1875 58.015625 27.296875 \nQ 58.015625 14.40625 51.78125 6.484375 \nQ 45.5625 -1.421875 35.59375 -1.421875 \nQ 29.59375 -1.421875 25.265625 0.953125 \nQ 20.953125 3.328125 18.109375 8.203125 \nz\nM 48.6875 27.296875 \nQ 48.6875 37.203125 44.609375 42.84375 \nQ 40.53125 48.484375 33.40625 48.484375 \nQ 26.265625 48.484375 22.1875 42.84375 \nQ 18.109375 37.203125 18.109375 27.296875 \nQ 18.109375 17.390625 22.1875 11.75 \nQ 26.265625 6.109375 33.40625 6.109375 \nQ 40.53125 6.109375 44.609375 11.75 \nQ 48.6875 17.390625 48.6875 27.296875 \nz\n\" id=\"DejaVuSans-112\"/>\n      <path d=\"M 30.609375 48.390625 \nQ 23.390625 48.390625 19.1875 42.75 \nQ 14.984375 37.109375 14.984375 27.296875 \nQ 14.984375 17.484375 19.15625 11.84375 \nQ 23.34375 6.203125 30.609375 6.203125 \nQ 37.796875 6.203125 41.984375 11.859375 \nQ 46.1875 17.53125 46.1875 27.296875 \nQ 46.1875 37.015625 41.984375 42.703125 \nQ 37.796875 48.390625 30.609375 48.390625 \nz\nM 30.609375 56 \nQ 42.328125 56 49.015625 48.375 \nQ 55.71875 40.765625 55.71875 27.296875 \nQ 55.71875 13.875 49.015625 6.21875 \nQ 42.328125 -1.421875 30.609375 -1.421875 \nQ 18.84375 -1.421875 12.171875 6.21875 \nQ 5.515625 13.875 5.515625 27.296875 \nQ 5.515625 40.765625 12.171875 48.375 \nQ 18.84375 56 30.609375 56 \nz\n\" id=\"DejaVuSans-111\"/>\n      <path d=\"M 48.78125 52.59375 \nL 48.78125 44.1875 \nQ 44.96875 46.296875 41.140625 47.34375 \nQ 37.3125 48.390625 33.40625 48.390625 \nQ 24.65625 48.390625 19.8125 42.84375 \nQ 14.984375 37.3125 14.984375 27.296875 \nQ 14.984375 17.28125 19.8125 11.734375 \nQ 24.65625 6.203125 33.40625 6.203125 \nQ 37.3125 6.203125 41.140625 7.25 \nQ 44.96875 8.296875 48.78125 10.40625 \nL 48.78125 2.09375 \nQ 45.015625 0.34375 40.984375 -0.53125 \nQ 36.96875 -1.421875 32.421875 -1.421875 \nQ 20.0625 -1.421875 12.78125 6.34375 \nQ 5.515625 14.109375 5.515625 27.296875 \nQ 5.515625 40.671875 12.859375 48.328125 \nQ 20.21875 56 33.015625 56 \nQ 37.15625 56 41.109375 55.140625 \nQ 45.0625 54.296875 48.78125 52.59375 \nz\n\" id=\"DejaVuSans-99\"/>\n      <path d=\"M 54.890625 33.015625 \nL 54.890625 0 \nL 45.90625 0 \nL 45.90625 32.71875 \nQ 45.90625 40.484375 42.875 44.328125 \nQ 39.84375 48.1875 33.796875 48.1875 \nQ 26.515625 48.1875 22.3125 43.546875 \nQ 18.109375 38.921875 18.109375 30.90625 \nL 18.109375 0 \nL 9.078125 0 \nL 9.078125 75.984375 \nL 18.109375 75.984375 \nL 18.109375 46.1875 \nQ 21.34375 51.125 25.703125 53.5625 \nQ 30.078125 56 35.796875 56 \nQ 45.21875 56 50.046875 50.171875 \nQ 54.890625 44.34375 54.890625 33.015625 \nz\n\" id=\"DejaVuSans-104\"/>\n     </defs>\n     <g transform=\"translate(283.576855 205.619062)scale(0.15 -0.15)\">\n      <use xlink:href=\"#DejaVuSans-101\"/>\n      <use x=\"61.523438\" xlink:href=\"#DejaVuSans-112\"/>\n      <use x=\"125\" xlink:href=\"#DejaVuSans-111\"/>\n      <use x=\"186.181641\" xlink:href=\"#DejaVuSans-99\"/>\n      <use x=\"241.162109\" xlink:href=\"#DejaVuSans-104\"/>\n     </g>\n    </g>\n   </g>\n   <g id=\"matplotlib.axis_2\">\n    <g id=\"ytick_1\">\n     <g id=\"line2d_7\">\n      <defs>\n       <path d=\"M 0 0 \nL -5 0 \n\" id=\"m06a937a6ba\" style=\"stroke:#000000;stroke-width:0.8;\"/>\n      </defs>\n      <g>\n       <use style=\"stroke:#000000;stroke-width:0.8;\" x=\"62.038086\" xlink:href=\"#m06a937a6ba\" y=\"139.950185\"/>\n      </g>\n     </g>\n     <g id=\"text_8\">\n      <!-- 0.55 -->\n      <defs>\n       <path d=\"M 10.6875 12.40625 \nL 21 12.40625 \nL 21 0 \nL 10.6875 0 \nz\n\" id=\"DejaVuSans-46\"/>\n      </defs>\n      <g transform=\"translate(25.717188 144.697309)scale(0.12495 -0.12495)\">\n       <use xlink:href=\"#DejaVuSans-48\"/>\n       <use x=\"63.623047\" xlink:href=\"#DejaVuSans-46\"/>\n       <use x=\"95.410156\" xlink:href=\"#DejaVuSans-53\"/>\n       <use x=\"159.033203\" xlink:href=\"#DejaVuSans-53\"/>\n      </g>\n     </g>\n    </g>\n    <g id=\"ytick_2\">\n     <g id=\"line2d_8\">\n      <g>\n       <use style=\"stroke:#000000;stroke-width:0.8;\" x=\"62.038086\" xlink:href=\"#m06a937a6ba\" y=\"101.300678\"/>\n      </g>\n     </g>\n     <g id=\"text_9\">\n      <!-- 0.60 -->\n      <defs>\n       <path d=\"M 33.015625 40.375 \nQ 26.375 40.375 22.484375 35.828125 \nQ 18.609375 31.296875 18.609375 23.390625 \nQ 18.609375 15.53125 22.484375 10.953125 \nQ 26.375 6.390625 33.015625 6.390625 \nQ 39.65625 6.390625 43.53125 10.953125 \nQ 47.40625 15.53125 47.40625 23.390625 \nQ 47.40625 31.296875 43.53125 35.828125 \nQ 39.65625 40.375 33.015625 40.375 \nz\nM 52.59375 71.296875 \nL 52.59375 62.3125 \nQ 48.875 64.0625 45.09375 64.984375 \nQ 41.3125 65.921875 37.59375 65.921875 \nQ 27.828125 65.921875 22.671875 59.328125 \nQ 17.53125 52.734375 16.796875 39.40625 \nQ 19.671875 43.65625 24.015625 45.921875 \nQ 28.375 48.1875 33.59375 48.1875 \nQ 44.578125 48.1875 50.953125 41.515625 \nQ 57.328125 34.859375 57.328125 23.390625 \nQ 57.328125 12.15625 50.6875 5.359375 \nQ 44.046875 -1.421875 33.015625 -1.421875 \nQ 20.359375 -1.421875 13.671875 8.265625 \nQ 6.984375 17.96875 6.984375 36.375 \nQ 6.984375 53.65625 15.1875 63.9375 \nQ 23.390625 74.21875 37.203125 74.21875 \nQ 40.921875 74.21875 44.703125 73.484375 \nQ 48.484375 72.75 52.59375 71.296875 \nz\n\" id=\"DejaVuSans-54\"/>\n      </defs>\n      <g transform=\"translate(25.717188 106.047802)scale(0.12495 -0.12495)\">\n       <use xlink:href=\"#DejaVuSans-48\"/>\n       <use x=\"63.623047\" xlink:href=\"#DejaVuSans-46\"/>\n       <use x=\"95.410156\" xlink:href=\"#DejaVuSans-54\"/>\n       <use x=\"159.033203\" xlink:href=\"#DejaVuSans-48\"/>\n      </g>\n     </g>\n    </g>\n    <g id=\"ytick_3\">\n     <g id=\"line2d_9\">\n      <g>\n       <use style=\"stroke:#000000;stroke-width:0.8;\" x=\"62.038086\" xlink:href=\"#m06a937a6ba\" y=\"62.651171\"/>\n      </g>\n     </g>\n     <g id=\"text_10\">\n      <!-- 0.65 -->\n      <g transform=\"translate(25.717188 67.398295)scale(0.12495 -0.12495)\">\n       <use xlink:href=\"#DejaVuSans-48\"/>\n       <use x=\"63.623047\" xlink:href=\"#DejaVuSans-46\"/>\n       <use x=\"95.410156\" xlink:href=\"#DejaVuSans-54\"/>\n       <use x=\"159.033203\" xlink:href=\"#DejaVuSans-53\"/>\n      </g>\n     </g>\n    </g>\n    <g id=\"text_11\">\n     <!-- loss -->\n     <defs>\n      <path d=\"M 9.421875 75.984375 \nL 18.40625 75.984375 \nL 18.40625 0 \nL 9.421875 0 \nz\n\" id=\"DejaVuSans-108\"/>\n      <path d=\"M 44.28125 53.078125 \nL 44.28125 44.578125 \nQ 40.484375 46.53125 36.375 47.5 \nQ 32.28125 48.484375 27.875 48.484375 \nQ 21.1875 48.484375 17.84375 46.4375 \nQ 14.5 44.390625 14.5 40.28125 \nQ 14.5 37.15625 16.890625 35.375 \nQ 19.28125 33.59375 26.515625 31.984375 \nL 29.59375 31.296875 \nQ 39.15625 29.25 43.1875 25.515625 \nQ 47.21875 21.78125 47.21875 15.09375 \nQ 47.21875 7.46875 41.1875 3.015625 \nQ 35.15625 -1.421875 24.609375 -1.421875 \nQ 20.21875 -1.421875 15.453125 -0.5625 \nQ 10.6875 0.296875 5.421875 2 \nL 5.421875 11.28125 \nQ 10.40625 8.6875 15.234375 7.390625 \nQ 20.0625 6.109375 24.8125 6.109375 \nQ 31.15625 6.109375 34.5625 8.28125 \nQ 37.984375 10.453125 37.984375 14.40625 \nQ 37.984375 18.0625 35.515625 20.015625 \nQ 33.0625 21.96875 24.703125 23.78125 \nL 21.578125 24.515625 \nQ 13.234375 26.265625 9.515625 29.90625 \nQ 5.8125 33.546875 5.8125 39.890625 \nQ 5.8125 47.609375 11.28125 51.796875 \nQ 16.75 56 26.8125 56 \nQ 31.78125 56 36.171875 55.265625 \nQ 40.578125 54.546875 44.28125 53.078125 \nz\n\" id=\"DejaVuSans-115\"/>\n     </defs>\n     <g transform=\"translate(18.597656 112.739607)rotate(-90)scale(0.15 -0.15)\">\n      <use xlink:href=\"#DejaVuSans-108\"/>\n      <use x=\"27.783203\" xlink:href=\"#DejaVuSans-111\"/>\n      <use x=\"88.964844\" xlink:href=\"#DejaVuSans-115\"/>\n      <use x=\"141.064453\" xlink:href=\"#DejaVuSans-115\"/>\n     </g>\n    </g>\n   </g>\n   <g id=\"line2d_10\">\n    <path clip-path=\"url(#p48f9357daa)\" d=\"M 84.254537 163.139889 \nL 173.120339 123.076914 \nL 261.986142 98.297059 \nL 350.851944 74.223938 \nL 439.717747 52.40353 \nL 528.583549 33.365888 \n\" style=\"fill:none;stroke:#1f77b4;stroke-linecap:square;stroke-width:1.5;\"/>\n   </g>\n   <g id=\"line2d_11\">\n    <path clip-path=\"url(#p48f9357daa)\" d=\"M 84.254537 152.318027 \nL 173.120339 136.858224 \nL 261.986142 123.975055 \nL 350.851944 110.267364 \nL 439.717747 96.044345 \nL 528.583549 81.51213 \n\" style=\"fill:none;stroke:#1f77b4;stroke-dasharray:5.55,2.4;stroke-dashoffset:0;stroke-width:1.5;\"/>\n   </g>\n   <g id=\"patch_3\">\n    <path d=\"M 62.038086 169.628589 \nL 62.038086 26.877187 \n\" style=\"fill:none;stroke:#000000;stroke-linecap:square;stroke-linejoin:miter;stroke-width:0.8;\"/>\n   </g>\n   <g id=\"patch_4\">\n    <path d=\"M 62.038086 169.628589 \nL 550.8 169.628589 \n\" style=\"fill:none;stroke:#000000;stroke-linecap:square;stroke-linejoin:miter;stroke-width:0.8;\"/>\n   </g>\n   <g id=\"text_12\">\n    <!-- attention on IMDB text classification -->\n    <defs>\n     <path d=\"M 34.28125 27.484375 \nQ 23.390625 27.484375 19.1875 25 \nQ 14.984375 22.515625 14.984375 16.5 \nQ 14.984375 11.71875 18.140625 8.90625 \nQ 21.296875 6.109375 26.703125 6.109375 \nQ 34.1875 6.109375 38.703125 11.40625 \nQ 43.21875 16.703125 43.21875 25.484375 \nL 43.21875 27.484375 \nz\nM 52.203125 31.203125 \nL 52.203125 0 \nL 43.21875 0 \nL 43.21875 8.296875 \nQ 40.140625 3.328125 35.546875 0.953125 \nQ 30.953125 -1.421875 24.3125 -1.421875 \nQ 15.921875 -1.421875 10.953125 3.296875 \nQ 6 8.015625 6 15.921875 \nQ 6 25.140625 12.171875 29.828125 \nQ 18.359375 34.515625 30.609375 34.515625 \nL 43.21875 34.515625 \nL 43.21875 35.40625 \nQ 43.21875 41.609375 39.140625 45 \nQ 35.0625 48.390625 27.6875 48.390625 \nQ 23 48.390625 18.546875 47.265625 \nQ 14.109375 46.140625 10.015625 43.890625 \nL 10.015625 52.203125 \nQ 14.9375 54.109375 19.578125 55.046875 \nQ 24.21875 56 28.609375 56 \nQ 40.484375 56 46.34375 49.84375 \nQ 52.203125 43.703125 52.203125 31.203125 \nz\n\" id=\"DejaVuSans-97\"/>\n     <path d=\"M 18.3125 70.21875 \nL 18.3125 54.6875 \nL 36.8125 54.6875 \nL 36.8125 47.703125 \nL 18.3125 47.703125 \nL 18.3125 18.015625 \nQ 18.3125 11.328125 20.140625 9.421875 \nQ 21.96875 7.515625 27.59375 7.515625 \nL 36.8125 7.515625 \nL 36.8125 0 \nL 27.59375 0 \nQ 17.1875 0 13.234375 3.875 \nQ 9.28125 7.765625 9.28125 18.015625 \nL 9.28125 47.703125 \nL 2.6875 47.703125 \nL 2.6875 54.6875 \nL 9.28125 54.6875 \nL 9.28125 70.21875 \nz\n\" id=\"DejaVuSans-116\"/>\n     <path d=\"M 54.890625 33.015625 \nL 54.890625 0 \nL 45.90625 0 \nL 45.90625 32.71875 \nQ 45.90625 40.484375 42.875 44.328125 \nQ 39.84375 48.1875 33.796875 48.1875 \nQ 26.515625 48.1875 22.3125 43.546875 \nQ 18.109375 38.921875 18.109375 30.90625 \nL 18.109375 0 \nL 9.078125 0 \nL 9.078125 54.6875 \nL 18.109375 54.6875 \nL 18.109375 46.1875 \nQ 21.34375 51.125 25.703125 53.5625 \nQ 30.078125 56 35.796875 56 \nQ 45.21875 56 50.046875 50.171875 \nQ 54.890625 44.34375 54.890625 33.015625 \nz\n\" id=\"DejaVuSans-110\"/>\n     <path d=\"M 9.421875 54.6875 \nL 18.40625 54.6875 \nL 18.40625 0 \nL 9.421875 0 \nz\nM 9.421875 75.984375 \nL 18.40625 75.984375 \nL 18.40625 64.59375 \nL 9.421875 64.59375 \nz\n\" id=\"DejaVuSans-105\"/>\n     <path id=\"DejaVuSans-32\"/>\n     <path d=\"M 9.8125 72.90625 \nL 19.671875 72.90625 \nL 19.671875 0 \nL 9.8125 0 \nz\n\" id=\"DejaVuSans-73\"/>\n     <path d=\"M 9.8125 72.90625 \nL 24.515625 72.90625 \nL 43.109375 23.296875 \nL 61.8125 72.90625 \nL 76.515625 72.90625 \nL 76.515625 0 \nL 66.890625 0 \nL 66.890625 64.015625 \nL 48.09375 14.015625 \nL 38.1875 14.015625 \nL 19.390625 64.015625 \nL 19.390625 0 \nL 9.8125 0 \nz\n\" id=\"DejaVuSans-77\"/>\n     <path d=\"M 19.671875 64.796875 \nL 19.671875 8.109375 \nL 31.59375 8.109375 \nQ 46.6875 8.109375 53.6875 14.9375 \nQ 60.6875 21.78125 60.6875 36.53125 \nQ 60.6875 51.171875 53.6875 57.984375 \nQ 46.6875 64.796875 31.59375 64.796875 \nz\nM 9.8125 72.90625 \nL 30.078125 72.90625 \nQ 51.265625 72.90625 61.171875 64.09375 \nQ 71.09375 55.28125 71.09375 36.53125 \nQ 71.09375 17.671875 61.125 8.828125 \nQ 51.171875 0 30.078125 0 \nL 9.8125 0 \nz\n\" id=\"DejaVuSans-68\"/>\n     <path d=\"M 19.671875 34.8125 \nL 19.671875 8.109375 \nL 35.5 8.109375 \nQ 43.453125 8.109375 47.28125 11.40625 \nQ 51.125 14.703125 51.125 21.484375 \nQ 51.125 28.328125 47.28125 31.5625 \nQ 43.453125 34.8125 35.5 34.8125 \nz\nM 19.671875 64.796875 \nL 19.671875 42.828125 \nL 34.28125 42.828125 \nQ 41.5 42.828125 45.03125 45.53125 \nQ 48.578125 48.25 48.578125 53.8125 \nQ 48.578125 59.328125 45.03125 62.0625 \nQ 41.5 64.796875 34.28125 64.796875 \nz\nM 9.8125 72.90625 \nL 35.015625 72.90625 \nQ 46.296875 72.90625 52.390625 68.21875 \nQ 58.5 63.53125 58.5 54.890625 \nQ 58.5 48.1875 55.375 44.234375 \nQ 52.25 40.28125 46.1875 39.3125 \nQ 53.46875 37.75 57.5 32.78125 \nQ 61.53125 27.828125 61.53125 20.40625 \nQ 61.53125 10.640625 54.890625 5.3125 \nQ 48.25 0 35.984375 0 \nL 9.8125 0 \nz\n\" id=\"DejaVuSans-66\"/>\n     <path d=\"M 54.890625 54.6875 \nL 35.109375 28.078125 \nL 55.90625 0 \nL 45.3125 0 \nL 29.390625 21.484375 \nL 13.484375 0 \nL 2.875 0 \nL 24.125 28.609375 \nL 4.6875 54.6875 \nL 15.28125 54.6875 \nL 29.78125 35.203125 \nL 44.28125 54.6875 \nz\n\" id=\"DejaVuSans-120\"/>\n     <path d=\"M 37.109375 75.984375 \nL 37.109375 68.5 \nL 28.515625 68.5 \nQ 23.6875 68.5 21.796875 66.546875 \nQ 19.921875 64.59375 19.921875 59.515625 \nL 19.921875 54.6875 \nL 34.71875 54.6875 \nL 34.71875 47.703125 \nL 19.921875 47.703125 \nL 19.921875 0 \nL 10.890625 0 \nL 10.890625 47.703125 \nL 2.296875 47.703125 \nL 2.296875 54.6875 \nL 10.890625 54.6875 \nL 10.890625 58.5 \nQ 10.890625 67.625 15.140625 71.796875 \nQ 19.390625 75.984375 28.609375 75.984375 \nz\n\" id=\"DejaVuSans-102\"/>\n    </defs>\n    <g transform=\"translate(143.21248 20.877187)scale(0.18 -0.18)\">\n     <use xlink:href=\"#DejaVuSans-97\"/>\n     <use x=\"61.279297\" xlink:href=\"#DejaVuSans-116\"/>\n     <use x=\"100.488281\" xlink:href=\"#DejaVuSans-116\"/>\n     <use x=\"139.697266\" xlink:href=\"#DejaVuSans-101\"/>\n     <use x=\"201.220703\" xlink:href=\"#DejaVuSans-110\"/>\n     <use x=\"264.599609\" xlink:href=\"#DejaVuSans-116\"/>\n     <use x=\"303.808594\" xlink:href=\"#DejaVuSans-105\"/>\n     <use x=\"331.591797\" xlink:href=\"#DejaVuSans-111\"/>\n     <use x=\"392.773438\" xlink:href=\"#DejaVuSans-110\"/>\n     <use x=\"456.152344\" xlink:href=\"#DejaVuSans-32\"/>\n     <use x=\"487.939453\" xlink:href=\"#DejaVuSans-111\"/>\n     <use x=\"549.121094\" xlink:href=\"#DejaVuSans-110\"/>\n     <use x=\"612.5\" xlink:href=\"#DejaVuSans-32\"/>\n     <use x=\"644.287109\" xlink:href=\"#DejaVuSans-73\"/>\n     <use x=\"673.779297\" xlink:href=\"#DejaVuSans-77\"/>\n     <use x=\"760.058594\" xlink:href=\"#DejaVuSans-68\"/>\n     <use x=\"837.060547\" xlink:href=\"#DejaVuSans-66\"/>\n     <use x=\"905.664062\" xlink:href=\"#DejaVuSans-32\"/>\n     <use x=\"937.451172\" xlink:href=\"#DejaVuSans-116\"/>\n     <use x=\"976.660156\" xlink:href=\"#DejaVuSans-101\"/>\n     <use x=\"1036.433594\" xlink:href=\"#DejaVuSans-120\"/>\n     <use x=\"1095.613281\" xlink:href=\"#DejaVuSans-116\"/>\n     <use x=\"1134.822266\" xlink:href=\"#DejaVuSans-32\"/>\n     <use x=\"1166.609375\" xlink:href=\"#DejaVuSans-99\"/>\n     <use x=\"1221.589844\" xlink:href=\"#DejaVuSans-108\"/>\n     <use x=\"1249.373047\" xlink:href=\"#DejaVuSans-97\"/>\n     <use x=\"1310.652344\" xlink:href=\"#DejaVuSans-115\"/>\n     <use x=\"1362.751953\" xlink:href=\"#DejaVuSans-115\"/>\n     <use x=\"1414.851562\" xlink:href=\"#DejaVuSans-105\"/>\n     <use x=\"1442.634766\" xlink:href=\"#DejaVuSans-102\"/>\n     <use x=\"1477.839844\" xlink:href=\"#DejaVuSans-105\"/>\n     <use x=\"1505.623047\" xlink:href=\"#DejaVuSans-99\"/>\n     <use x=\"1560.603516\" xlink:href=\"#DejaVuSans-97\"/>\n     <use x=\"1621.882812\" xlink:href=\"#DejaVuSans-116\"/>\n     <use x=\"1661.091797\" xlink:href=\"#DejaVuSans-105\"/>\n     <use x=\"1688.875\" xlink:href=\"#DejaVuSans-111\"/>\n     <use x=\"1750.056641\" xlink:href=\"#DejaVuSans-110\"/>\n    </g>\n   </g>\n   <g id=\"legend_1\">\n    <g id=\"patch_5\">\n     <path d=\"M 70.784586 73.553822 \nL 192.278937 73.553822 \nQ 194.777937 73.553822 194.777937 71.054822 \nL 194.777937 35.623687 \nQ 194.777937 33.124687 192.278937 33.124687 \nL 70.784586 33.124687 \nQ 68.285586 33.124687 68.285586 35.623687 \nL 68.285586 71.054822 \nQ 68.285586 73.553822 70.784586 73.553822 \nz\n\" style=\"fill:#ffffff;opacity:0.8;stroke:#cccccc;stroke-linejoin:miter;\"/>\n    </g>\n    <g id=\"line2d_12\">\n     <path d=\"M 73.283586 43.243685 \nL 98.273586 43.243685 \n\" style=\"fill:none;stroke:#1f77b4;stroke-linecap:square;stroke-width:1.5;\"/>\n    </g>\n    <g id=\"line2d_13\"/>\n    <g id=\"text_13\">\n     <!-- trai accuracy -->\n     <defs>\n      <path d=\"M 41.109375 46.296875 \nQ 39.59375 47.171875 37.8125 47.578125 \nQ 36.03125 48 33.890625 48 \nQ 26.265625 48 22.1875 43.046875 \nQ 18.109375 38.09375 18.109375 28.8125 \nL 18.109375 0 \nL 9.078125 0 \nL 9.078125 54.6875 \nL 18.109375 54.6875 \nL 18.109375 46.1875 \nQ 20.953125 51.171875 25.484375 53.578125 \nQ 30.03125 56 36.53125 56 \nQ 37.453125 56 38.578125 55.875 \nQ 39.703125 55.765625 41.0625 55.515625 \nz\n\" id=\"DejaVuSans-114\"/>\n      <path d=\"M 8.5 21.578125 \nL 8.5 54.6875 \nL 17.484375 54.6875 \nL 17.484375 21.921875 \nQ 17.484375 14.15625 20.5 10.265625 \nQ 23.53125 6.390625 29.59375 6.390625 \nQ 36.859375 6.390625 41.078125 11.03125 \nQ 45.3125 15.671875 45.3125 23.6875 \nL 45.3125 54.6875 \nL 54.296875 54.6875 \nL 54.296875 0 \nL 45.3125 0 \nL 45.3125 8.40625 \nQ 42.046875 3.421875 37.71875 1 \nQ 33.40625 -1.421875 27.6875 -1.421875 \nQ 18.265625 -1.421875 13.375 4.4375 \nQ 8.5 10.296875 8.5 21.578125 \nz\nM 31.109375 56 \nz\n\" id=\"DejaVuSans-117\"/>\n      <path d=\"M 32.171875 -5.078125 \nQ 28.375 -14.84375 24.75 -17.8125 \nQ 21.140625 -20.796875 15.09375 -20.796875 \nL 7.90625 -20.796875 \nL 7.90625 -13.28125 \nL 13.1875 -13.28125 \nQ 16.890625 -13.28125 18.9375 -11.515625 \nQ 21 -9.765625 23.484375 -3.21875 \nL 25.09375 0.875 \nL 2.984375 54.6875 \nL 12.5 54.6875 \nL 29.59375 11.921875 \nL 46.6875 54.6875 \nL 56.203125 54.6875 \nz\n\" id=\"DejaVuSans-121\"/>\n     </defs>\n     <g transform=\"translate(108.269586 47.616935)scale(0.12495 -0.12495)\">\n      <use xlink:href=\"#DejaVuSans-116\"/>\n      <use x=\"39.208984\" xlink:href=\"#DejaVuSans-114\"/>\n      <use x=\"80.322266\" xlink:href=\"#DejaVuSans-97\"/>\n      <use x=\"141.601562\" xlink:href=\"#DejaVuSans-105\"/>\n      <use x=\"169.384766\" xlink:href=\"#DejaVuSans-32\"/>\n      <use x=\"201.171875\" xlink:href=\"#DejaVuSans-97\"/>\n      <use x=\"262.451172\" xlink:href=\"#DejaVuSans-99\"/>\n      <use x=\"317.431641\" xlink:href=\"#DejaVuSans-99\"/>\n      <use x=\"372.412109\" xlink:href=\"#DejaVuSans-117\"/>\n      <use x=\"435.791016\" xlink:href=\"#DejaVuSans-114\"/>\n      <use x=\"476.904297\" xlink:href=\"#DejaVuSans-97\"/>\n      <use x=\"538.183594\" xlink:href=\"#DejaVuSans-99\"/>\n      <use x=\"593.164062\" xlink:href=\"#DejaVuSans-121\"/>\n     </g>\n    </g>\n    <g id=\"line2d_14\">\n     <path d=\"M 73.283586 61.584002 \nL 98.273586 61.584002 \n\" style=\"fill:none;stroke:#1f77b4;stroke-dasharray:5.55,2.4;stroke-dashoffset:0;stroke-width:1.5;\"/>\n    </g>\n    <g id=\"line2d_15\"/>\n    <g id=\"text_14\">\n     <!-- val accuracy -->\n     <defs>\n      <path d=\"M 2.984375 54.6875 \nL 12.5 54.6875 \nL 29.59375 8.796875 \nL 46.6875 54.6875 \nL 56.203125 54.6875 \nL 35.6875 0 \nL 23.484375 0 \nz\n\" id=\"DejaVuSans-118\"/>\n     </defs>\n     <g transform=\"translate(108.269586 65.957252)scale(0.12495 -0.12495)\">\n      <use xlink:href=\"#DejaVuSans-118\"/>\n      <use x=\"59.179688\" xlink:href=\"#DejaVuSans-97\"/>\n      <use x=\"120.458984\" xlink:href=\"#DejaVuSans-108\"/>\n      <use x=\"148.242188\" xlink:href=\"#DejaVuSans-32\"/>\n      <use x=\"180.029297\" xlink:href=\"#DejaVuSans-97\"/>\n      <use x=\"241.308594\" xlink:href=\"#DejaVuSans-99\"/>\n      <use x=\"296.289062\" xlink:href=\"#DejaVuSans-99\"/>\n      <use x=\"351.269531\" xlink:href=\"#DejaVuSans-117\"/>\n      <use x=\"414.648438\" xlink:href=\"#DejaVuSans-114\"/>\n      <use x=\"455.761719\" xlink:href=\"#DejaVuSans-97\"/>\n      <use x=\"517.041016\" xlink:href=\"#DejaVuSans-99\"/>\n      <use x=\"572.021484\" xlink:href=\"#DejaVuSans-121\"/>\n     </g>\n    </g>\n   </g>\n  </g>\n  <g id=\"axes_2\">\n   <g id=\"patch_6\">\n    <path d=\"M 62.038086 367.689995 \nL 550.8 367.689995 \nL 550.8 224.938594 \nL 62.038086 224.938594 \nz\n\" style=\"fill:#ffffff;\"/>\n   </g>\n   <g id=\"matplotlib.axis_3\">\n    <g id=\"xtick_7\">\n     <g id=\"line2d_16\">\n      <g>\n       <use style=\"stroke:#000000;stroke-width:0.8;\" x=\"84.254537\" xlink:href=\"#mccaa93939d\" y=\"367.689995\"/>\n      </g>\n     </g>\n     <g id=\"text_15\">\n      <!-- 0 -->\n      <g transform=\"translate(80.279565 385.684243)scale(0.12495 -0.12495)\">\n       <use xlink:href=\"#DejaVuSans-48\"/>\n      </g>\n     </g>\n    </g>\n    <g id=\"xtick_8\">\n     <g id=\"line2d_17\">\n      <g>\n       <use style=\"stroke:#000000;stroke-width:0.8;\" x=\"173.120339\" xlink:href=\"#mccaa93939d\" y=\"367.689995\"/>\n      </g>\n     </g>\n     <g id=\"text_16\">\n      <!-- 1 -->\n      <g transform=\"translate(169.145367 385.684243)scale(0.12495 -0.12495)\">\n       <use xlink:href=\"#DejaVuSans-49\"/>\n      </g>\n     </g>\n    </g>\n    <g id=\"xtick_9\">\n     <g id=\"line2d_18\">\n      <g>\n       <use style=\"stroke:#000000;stroke-width:0.8;\" x=\"261.986142\" xlink:href=\"#mccaa93939d\" y=\"367.689995\"/>\n      </g>\n     </g>\n     <g id=\"text_17\">\n      <!-- 2 -->\n      <g transform=\"translate(258.01117 385.684243)scale(0.12495 -0.12495)\">\n       <use xlink:href=\"#DejaVuSans-50\"/>\n      </g>\n     </g>\n    </g>\n    <g id=\"xtick_10\">\n     <g id=\"line2d_19\">\n      <g>\n       <use style=\"stroke:#000000;stroke-width:0.8;\" x=\"350.851944\" xlink:href=\"#mccaa93939d\" y=\"367.689995\"/>\n      </g>\n     </g>\n     <g id=\"text_18\">\n      <!-- 3 -->\n      <g transform=\"translate(346.876972 385.684243)scale(0.12495 -0.12495)\">\n       <use xlink:href=\"#DejaVuSans-51\"/>\n      </g>\n     </g>\n    </g>\n    <g id=\"xtick_11\">\n     <g id=\"line2d_20\">\n      <g>\n       <use style=\"stroke:#000000;stroke-width:0.8;\" x=\"439.717747\" xlink:href=\"#mccaa93939d\" y=\"367.689995\"/>\n      </g>\n     </g>\n     <g id=\"text_19\">\n      <!-- 4 -->\n      <g transform=\"translate(435.742775 385.684243)scale(0.12495 -0.12495)\">\n       <use xlink:href=\"#DejaVuSans-52\"/>\n      </g>\n     </g>\n    </g>\n    <g id=\"xtick_12\">\n     <g id=\"line2d_21\">\n      <g>\n       <use style=\"stroke:#000000;stroke-width:0.8;\" x=\"528.583549\" xlink:href=\"#mccaa93939d\" y=\"367.689995\"/>\n      </g>\n     </g>\n     <g id=\"text_20\">\n      <!-- 5 -->\n      <g transform=\"translate(524.608577 385.684243)scale(0.12495 -0.12495)\">\n       <use xlink:href=\"#DejaVuSans-53\"/>\n      </g>\n     </g>\n    </g>\n    <g id=\"text_21\">\n     <!-- epoch -->\n     <g transform=\"translate(283.576855 403.680469)scale(0.15 -0.15)\">\n      <use xlink:href=\"#DejaVuSans-101\"/>\n      <use x=\"61.523438\" xlink:href=\"#DejaVuSans-112\"/>\n      <use x=\"125\" xlink:href=\"#DejaVuSans-111\"/>\n      <use x=\"186.181641\" xlink:href=\"#DejaVuSans-99\"/>\n      <use x=\"241.162109\" xlink:href=\"#DejaVuSans-104\"/>\n     </g>\n    </g>\n   </g>\n   <g id=\"matplotlib.axis_4\">\n    <g id=\"ytick_4\">\n     <g id=\"line2d_22\">\n      <g>\n       <use style=\"stroke:#000000;stroke-width:0.8;\" x=\"62.038086\" xlink:href=\"#m06a937a6ba\" y=\"346.83273\"/>\n      </g>\n     </g>\n     <g id=\"text_22\">\n      <!-- 0.62 -->\n      <g transform=\"translate(25.717188 351.579854)scale(0.12495 -0.12495)\">\n       <use xlink:href=\"#DejaVuSans-48\"/>\n       <use x=\"63.623047\" xlink:href=\"#DejaVuSans-46\"/>\n       <use x=\"95.410156\" xlink:href=\"#DejaVuSans-54\"/>\n       <use x=\"159.033203\" xlink:href=\"#DejaVuSans-50\"/>\n      </g>\n     </g>\n    </g>\n    <g id=\"ytick_5\">\n     <g id=\"line2d_23\">\n      <g>\n       <use style=\"stroke:#000000;stroke-width:0.8;\" x=\"62.038086\" xlink:href=\"#m06a937a6ba\" y=\"315.055332\"/>\n      </g>\n     </g>\n     <g id=\"text_23\">\n      <!-- 0.64 -->\n      <g transform=\"translate(25.717188 319.802456)scale(0.12495 -0.12495)\">\n       <use xlink:href=\"#DejaVuSans-48\"/>\n       <use x=\"63.623047\" xlink:href=\"#DejaVuSans-46\"/>\n       <use x=\"95.410156\" xlink:href=\"#DejaVuSans-54\"/>\n       <use x=\"159.033203\" xlink:href=\"#DejaVuSans-52\"/>\n      </g>\n     </g>\n    </g>\n    <g id=\"ytick_6\">\n     <g id=\"line2d_24\">\n      <g>\n       <use style=\"stroke:#000000;stroke-width:0.8;\" x=\"62.038086\" xlink:href=\"#m06a937a6ba\" y=\"283.277934\"/>\n      </g>\n     </g>\n     <g id=\"text_24\">\n      <!-- 0.66 -->\n      <g transform=\"translate(25.717188 288.025058)scale(0.12495 -0.12495)\">\n       <use xlink:href=\"#DejaVuSans-48\"/>\n       <use x=\"63.623047\" xlink:href=\"#DejaVuSans-46\"/>\n       <use x=\"95.410156\" xlink:href=\"#DejaVuSans-54\"/>\n       <use x=\"159.033203\" xlink:href=\"#DejaVuSans-54\"/>\n      </g>\n     </g>\n    </g>\n    <g id=\"ytick_7\">\n     <g id=\"line2d_25\">\n      <g>\n       <use style=\"stroke:#000000;stroke-width:0.8;\" x=\"62.038086\" xlink:href=\"#m06a937a6ba\" y=\"251.500536\"/>\n      </g>\n     </g>\n     <g id=\"text_25\">\n      <!-- 0.68 -->\n      <defs>\n       <path d=\"M 31.78125 34.625 \nQ 24.75 34.625 20.71875 30.859375 \nQ 16.703125 27.09375 16.703125 20.515625 \nQ 16.703125 13.921875 20.71875 10.15625 \nQ 24.75 6.390625 31.78125 6.390625 \nQ 38.8125 6.390625 42.859375 10.171875 \nQ 46.921875 13.96875 46.921875 20.515625 \nQ 46.921875 27.09375 42.890625 30.859375 \nQ 38.875 34.625 31.78125 34.625 \nz\nM 21.921875 38.8125 \nQ 15.578125 40.375 12.03125 44.71875 \nQ 8.5 49.078125 8.5 55.328125 \nQ 8.5 64.0625 14.71875 69.140625 \nQ 20.953125 74.21875 31.78125 74.21875 \nQ 42.671875 74.21875 48.875 69.140625 \nQ 55.078125 64.0625 55.078125 55.328125 \nQ 55.078125 49.078125 51.53125 44.71875 \nQ 48 40.375 41.703125 38.8125 \nQ 48.828125 37.15625 52.796875 32.3125 \nQ 56.78125 27.484375 56.78125 20.515625 \nQ 56.78125 9.90625 50.3125 4.234375 \nQ 43.84375 -1.421875 31.78125 -1.421875 \nQ 19.734375 -1.421875 13.25 4.234375 \nQ 6.78125 9.90625 6.78125 20.515625 \nQ 6.78125 27.484375 10.78125 32.3125 \nQ 14.796875 37.15625 21.921875 38.8125 \nz\nM 18.3125 54.390625 \nQ 18.3125 48.734375 21.84375 45.5625 \nQ 25.390625 42.390625 31.78125 42.390625 \nQ 38.140625 42.390625 41.71875 45.5625 \nQ 45.3125 48.734375 45.3125 54.390625 \nQ 45.3125 60.0625 41.71875 63.234375 \nQ 38.140625 66.40625 31.78125 66.40625 \nQ 25.390625 66.40625 21.84375 63.234375 \nQ 18.3125 60.0625 18.3125 54.390625 \nz\n\" id=\"DejaVuSans-56\"/>\n      </defs>\n      <g transform=\"translate(25.717188 256.24766)scale(0.12495 -0.12495)\">\n       <use xlink:href=\"#DejaVuSans-48\"/>\n       <use x=\"63.623047\" xlink:href=\"#DejaVuSans-46\"/>\n       <use x=\"95.410156\" xlink:href=\"#DejaVuSans-54\"/>\n       <use x=\"159.033203\" xlink:href=\"#DejaVuSans-56\"/>\n      </g>\n     </g>\n    </g>\n    <g id=\"text_26\">\n     <!-- loss -->\n     <g transform=\"translate(18.597656 310.801013)rotate(-90)scale(0.15 -0.15)\">\n      <use xlink:href=\"#DejaVuSans-108\"/>\n      <use x=\"27.783203\" xlink:href=\"#DejaVuSans-111\"/>\n      <use x=\"88.964844\" xlink:href=\"#DejaVuSans-115\"/>\n      <use x=\"141.064453\" xlink:href=\"#DejaVuSans-115\"/>\n     </g>\n    </g>\n   </g>\n   <g id=\"line2d_26\">\n    <path clip-path=\"url(#pf31dd01517)\" d=\"M 84.254537 231.427294 \nL 173.120339 250.727671 \nL 261.986142 270.185398 \nL 350.851944 294.361897 \nL 439.717747 324.321261 \nL 528.583549 361.201295 \n\" style=\"fill:none;stroke:#ff7f0e;stroke-linecap:square;stroke-width:1.5;\"/>\n   </g>\n   <g id=\"line2d_27\">\n    <path clip-path=\"url(#pf31dd01517)\" d=\"M 84.254537 236.54132 \nL 173.120339 247.064301 \nL 261.986142 258.356606 \nL 350.851944 270.667204 \nL 439.717747 285.087909 \nL 528.583549 300.968402 \n\" style=\"fill:none;stroke:#ff7f0e;stroke-dasharray:5.55,2.4;stroke-dashoffset:0;stroke-width:1.5;\"/>\n   </g>\n   <g id=\"patch_7\">\n    <path d=\"M 62.038086 367.689995 \nL 62.038086 224.938594 \n\" style=\"fill:none;stroke:#000000;stroke-linecap:square;stroke-linejoin:miter;stroke-width:0.8;\"/>\n   </g>\n   <g id=\"patch_8\">\n    <path d=\"M 62.038086 367.689995 \nL 550.8 367.689995 \n\" style=\"fill:none;stroke:#000000;stroke-linecap:square;stroke-linejoin:miter;stroke-width:0.8;\"/>\n   </g>\n   <g id=\"legend_2\">\n    <g id=\"patch_9\">\n     <path d=\"M 70.784586 271.615228 \nL 167.956639 271.615228 \nQ 170.455639 271.615228 170.455639 269.116228 \nL 170.455639 233.685094 \nQ 170.455639 231.186094 167.956639 231.186094 \nL 70.784586 231.186094 \nQ 68.285586 231.186094 68.285586 233.685094 \nL 68.285586 269.116228 \nQ 68.285586 271.615228 70.784586 271.615228 \nz\n\" style=\"fill:#ffffff;opacity:0.8;stroke:#cccccc;stroke-linejoin:miter;\"/>\n    </g>\n    <g id=\"line2d_28\">\n     <path d=\"M 73.283586 241.305091 \nL 98.273586 241.305091 \n\" style=\"fill:none;stroke:#ff7f0e;stroke-linecap:square;stroke-width:1.5;\"/>\n    </g>\n    <g id=\"line2d_29\"/>\n    <g id=\"text_27\">\n     <!-- train loss -->\n     <g transform=\"translate(108.269586 245.678341)scale(0.12495 -0.12495)\">\n      <use xlink:href=\"#DejaVuSans-116\"/>\n      <use x=\"39.208984\" xlink:href=\"#DejaVuSans-114\"/>\n      <use x=\"80.322266\" xlink:href=\"#DejaVuSans-97\"/>\n      <use x=\"141.601562\" xlink:href=\"#DejaVuSans-105\"/>\n      <use x=\"169.384766\" xlink:href=\"#DejaVuSans-110\"/>\n      <use x=\"232.763672\" xlink:href=\"#DejaVuSans-32\"/>\n      <use x=\"264.550781\" xlink:href=\"#DejaVuSans-108\"/>\n      <use x=\"292.333984\" xlink:href=\"#DejaVuSans-111\"/>\n      <use x=\"353.515625\" xlink:href=\"#DejaVuSans-115\"/>\n      <use x=\"405.615234\" xlink:href=\"#DejaVuSans-115\"/>\n     </g>\n    </g>\n    <g id=\"line2d_30\">\n     <path d=\"M 73.283586 259.645409 \nL 98.273586 259.645409 \n\" style=\"fill:none;stroke:#ff7f0e;stroke-dasharray:5.55,2.4;stroke-dashoffset:0;stroke-width:1.5;\"/>\n    </g>\n    <g id=\"line2d_31\"/>\n    <g id=\"text_28\">\n     <!-- val loss -->\n     <g transform=\"translate(108.269586 264.018659)scale(0.12495 -0.12495)\">\n      <use xlink:href=\"#DejaVuSans-118\"/>\n      <use x=\"59.179688\" xlink:href=\"#DejaVuSans-97\"/>\n      <use x=\"120.458984\" xlink:href=\"#DejaVuSans-108\"/>\n      <use x=\"148.242188\" xlink:href=\"#DejaVuSans-32\"/>\n      <use x=\"180.029297\" xlink:href=\"#DejaVuSans-108\"/>\n      <use x=\"207.8125\" xlink:href=\"#DejaVuSans-111\"/>\n      <use x=\"268.994141\" xlink:href=\"#DejaVuSans-115\"/>\n      <use x=\"321.09375\" xlink:href=\"#DejaVuSans-115\"/>\n     </g>\n    </g>\n   </g>\n  </g>\n </g>\n <defs>\n  <clipPath id=\"p48f9357daa\">\n   <rect height=\"142.751402\" width=\"488.761914\" x=\"62.038086\" y=\"26.877187\"/>\n  </clipPath>\n  <clipPath id=\"pf31dd01517\">\n   <rect height=\"142.751402\" width=\"488.761914\" x=\"62.038086\" y=\"224.938594\"/>\n  </clipPath>\n </defs>\n</svg>\n"
          },
          "metadata": {
            "tags": [],
            "needs_background": "light"
          }
        }
      ]
    }
  ]
}