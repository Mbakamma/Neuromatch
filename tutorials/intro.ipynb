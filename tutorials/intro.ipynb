{
  "cells": [
    {
      "cell_type": "markdown",
      "metadata": {
        "id": "view-in-github",
        "colab_type": "text"
      },
      "source": [
        "<a href=\"https://colab.research.google.com/github/NeuromatchAcademy/course-content-dl/blob/schedule-updates/tutorials/intro.ipynb\" target=\"_parent\"><img src=\"https://colab.research.google.com/assets/colab-badge.svg\" alt=\"Open In Colab\"/></a>"
      ]
    },
    {
      "cell_type": "markdown",
      "metadata": {
        "execution": {},
        "pycharm": {
          "name": "#%% md\n"
        },
        "id": "94J5nRKK0717"
      },
      "source": [
        "# Introduction\n",
        "\n",
        "Welcome to the Neuromatch deep learning course!"
      ]
    },
    {
      "cell_type": "markdown",
      "metadata": {
        "execution": {},
        "id": "Fz9Qyuqp0718"
      },
      "source": [
        "<p align='center'><img src='https://github.com/NeuromatchAcademy/widgets/blob/master/sponsors.png?raw=True'/></p>"
      ]
    },
    {
      "cell_type": "markdown",
      "metadata": {
        "execution": {},
        "pycharm": {
          "name": "#%% md\n"
        },
        "id": "Y6cvoSYb0719"
      },
      "source": [
        "## Welcome Video"
      ]
    },
    {
      "cell_type": "code",
      "execution_count": 1,
      "metadata": {
        "cellView": "form",
        "execution": {},
        "pycharm": {
          "name": "#%%\n"
        },
        "id": "6Wl_SNE00719",
        "outputId": "f7876f2e-6180-44e7-b487-7c92084532e6",
        "colab": {
          "base_uri": "https://localhost:8080/",
          "height": 581,
          "referenced_widgets": [
            "51856f0c0f3f4683af3e1366d196a67a",
            "9eb80379ca4d4b0a846eeea7505521a7",
            "0acc59dbb1964bd2ba240a24f197f199",
            "ecced909fa6a43c2a215f7b1b20320a5",
            "0455ee823e3b49d0921635ae2d12a547",
            "81a4d4854a134207924e01483c5be599"
          ]
        }
      },
      "outputs": [
        {
          "output_type": "display_data",
          "data": {
            "text/plain": [
              "Tab(children=(Output(), Output()), _titles={'0': 'Youtube', '1': 'Bilibili'})"
            ],
            "application/vnd.jupyter.widget-view+json": {
              "version_major": 2,
              "version_minor": 0,
              "model_id": "51856f0c0f3f4683af3e1366d196a67a"
            }
          },
          "metadata": {}
        }
      ],
      "source": [
        "# @markdown\n",
        "from ipywidgets import widgets\n",
        "\n",
        "out2 = widgets.Output()\n",
        "with out2:\n",
        "  from IPython.display import IFrame\n",
        "  class BiliVideo(IFrame):\n",
        "      def __init__(self, id, page=1, width=400, height=300, **kwargs):\n",
        "          self.id=id\n",
        "          src = 'https://player.bilibili.com/player.html?bvid={0}&page={1}'.format(id, page)\n",
        "          super(BiliVideo, self).__init__(src, width, height, **kwargs)\n",
        "\n",
        "  video = BiliVideo(id=\"BV12a411p7Zj\", width=854, height=480, fs=1)\n",
        "  print('Video available at https://www.bilibili.com/video/{0}'.format(video.id))\n",
        "  display(video)\n",
        "\n",
        "out1 = widgets.Output()\n",
        "with out1:\n",
        "  from IPython.display import YouTubeVideo\n",
        "  video = YouTubeVideo(id=\"KRSomVVqYwI\", width=854, height=480, fs=1, rel=0)\n",
        "  print('Video available at https://youtube.com/watch?v=' + video.id)\n",
        "  display(video)\n",
        "\n",
        "out = widgets.Tab([out1, out2])\n",
        "out.set_title(0, 'Youtube')\n",
        "out.set_title(1, 'Bilibili')\n",
        "\n",
        "display(out)"
      ]
    },
    {
      "cell_type": "markdown",
      "metadata": {
        "execution": {},
        "id": "YiQYOb9V071-"
      },
      "source": [
        "## Concepts map\n",
        "\n",
        "<img src=\"https://raw.githubusercontent.com/NeuromatchAcademy/course-content-dl//main/tutorials/static/NMA_DL_Concept_Map.png?raw=1\" alt=\"Concept map overview of curriculum\" class=\"bg-primary\" width=\"100%\">\n",
        "\n",
        "*Image made by John Butler, with expert color advice from Isabelle Butler*"
      ]
    }
  ],
  "metadata": {
    "colab": {
      "collapsed_sections": [],
      "name": "intro",
      "provenance": [],
      "toc_visible": true,
      "include_colab_link": true
    },
    "kernel": {
      "display_name": "Python 3",
      "language": "python",
      "name": "python3"
    },
    "kernelspec": {
      "display_name": "Python 3",
      "language": "python",
      "name": "python3"
    },
    "language_info": {
      "codemirror_mode": {
        "name": "ipython",
        "version": 3
      },
      "file_extension": ".py",
      "mimetype": "text/x-python",
      "name": "python",
      "nbconvert_exporter": "python",
      "pygments_lexer": "ipython3",
      "version": "3.7.10"
    },
    "widgets": {
      "application/vnd.jupyter.widget-state+json": {
        "51856f0c0f3f4683af3e1366d196a67a": {
          "model_module": "@jupyter-widgets/controls",
          "model_name": "TabModel",
          "model_module_version": "1.5.0",
          "state": {
            "_dom_classes": [],
            "_model_module": "@jupyter-widgets/controls",
            "_model_module_version": "1.5.0",
            "_model_name": "TabModel",
            "_titles": {
              "0": "Youtube",
              "1": "Bilibili"
            },
            "_view_count": null,
            "_view_module": "@jupyter-widgets/controls",
            "_view_module_version": "1.5.0",
            "_view_name": "TabView",
            "box_style": "",
            "children": [
              "IPY_MODEL_9eb80379ca4d4b0a846eeea7505521a7",
              "IPY_MODEL_0acc59dbb1964bd2ba240a24f197f199"
            ],
            "layout": "IPY_MODEL_ecced909fa6a43c2a215f7b1b20320a5",
            "selected_index": 0
          }
        },
        "9eb80379ca4d4b0a846eeea7505521a7": {
          "model_module": "@jupyter-widgets/output",
          "model_name": "OutputModel",
          "model_module_version": "1.0.0",
          "state": {
            "_dom_classes": [],
            "_model_module": "@jupyter-widgets/output",
            "_model_module_version": "1.0.0",
            "_model_name": "OutputModel",
            "_view_count": null,
            "_view_module": "@jupyter-widgets/output",
            "_view_module_version": "1.0.0",
            "_view_name": "OutputView",
            "layout": "IPY_MODEL_0455ee823e3b49d0921635ae2d12a547",
            "msg_id": "",
            "outputs": [
              {
                "output_type": "stream",
                "name": "stdout",
                "text": [
                  "Video available at https://youtube.com/watch?v=KRSomVVqYwI\n"
                ]
              },
              {
                "output_type": "display_data",
                "data": {
                  "text/plain": "<IPython.lib.display.YouTubeVideo at 0x7f0858815850>",
                  "text/html": "\n        <iframe\n            width=\"854\"\n            height=\"480\"\n            src=\"https://www.youtube.com/embed/KRSomVVqYwI?fs=1&rel=0\"\n            frameborder=\"0\"\n            allowfullscreen\n        ></iframe>\n        ",
                  "image/jpeg": "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\n"
                },
                "metadata": {}
              }
            ]
          }
        },
        "0acc59dbb1964bd2ba240a24f197f199": {
          "model_module": "@jupyter-widgets/output",
          "model_name": "OutputModel",
          "model_module_version": "1.0.0",
          "state": {
            "_dom_classes": [],
            "_model_module": "@jupyter-widgets/output",
            "_model_module_version": "1.0.0",
            "_model_name": "OutputModel",
            "_view_count": null,
            "_view_module": "@jupyter-widgets/output",
            "_view_module_version": "1.0.0",
            "_view_name": "OutputView",
            "layout": "IPY_MODEL_81a4d4854a134207924e01483c5be599",
            "msg_id": "",
            "outputs": [
              {
                "output_type": "stream",
                "name": "stdout",
                "text": [
                  "Video available at https://www.bilibili.com/video/BV12a411p7Zj\n"
                ]
              },
              {
                "output_type": "display_data",
                "data": {
                  "text/plain": "<__main__.BiliVideo at 0x7f0855d8cf10>",
                  "text/html": "\n        <iframe\n            width=\"854\"\n            height=\"480\"\n            src=\"https://player.bilibili.com/player.html?bvid=BV12a411p7Zj&page=1?fs=1\"\n            frameborder=\"0\"\n            allowfullscreen\n        ></iframe>\n        "
                },
                "metadata": {}
              }
            ]
          }
        },
        "ecced909fa6a43c2a215f7b1b20320a5": {
          "model_module": "@jupyter-widgets/base",
          "model_name": "LayoutModel",
          "model_module_version": "1.2.0",
          "state": {
            "_model_module": "@jupyter-widgets/base",
            "_model_module_version": "1.2.0",
            "_model_name": "LayoutModel",
            "_view_count": null,
            "_view_module": "@jupyter-widgets/base",
            "_view_module_version": "1.2.0",
            "_view_name": "LayoutView",
            "align_content": null,
            "align_items": null,
            "align_self": null,
            "border": null,
            "bottom": null,
            "display": null,
            "flex": null,
            "flex_flow": null,
            "grid_area": null,
            "grid_auto_columns": null,
            "grid_auto_flow": null,
            "grid_auto_rows": null,
            "grid_column": null,
            "grid_gap": null,
            "grid_row": null,
            "grid_template_areas": null,
            "grid_template_columns": null,
            "grid_template_rows": null,
            "height": null,
            "justify_content": null,
            "justify_items": null,
            "left": null,
            "margin": null,
            "max_height": null,
            "max_width": null,
            "min_height": null,
            "min_width": null,
            "object_fit": null,
            "object_position": null,
            "order": null,
            "overflow": null,
            "overflow_x": null,
            "overflow_y": null,
            "padding": null,
            "right": null,
            "top": null,
            "visibility": null,
            "width": null
          }
        },
        "0455ee823e3b49d0921635ae2d12a547": {
          "model_module": "@jupyter-widgets/base",
          "model_name": "LayoutModel",
          "model_module_version": "1.2.0",
          "state": {
            "_model_module": "@jupyter-widgets/base",
            "_model_module_version": "1.2.0",
            "_model_name": "LayoutModel",
            "_view_count": null,
            "_view_module": "@jupyter-widgets/base",
            "_view_module_version": "1.2.0",
            "_view_name": "LayoutView",
            "align_content": null,
            "align_items": null,
            "align_self": null,
            "border": null,
            "bottom": null,
            "display": null,
            "flex": null,
            "flex_flow": null,
            "grid_area": null,
            "grid_auto_columns": null,
            "grid_auto_flow": null,
            "grid_auto_rows": null,
            "grid_column": null,
            "grid_gap": null,
            "grid_row": null,
            "grid_template_areas": null,
            "grid_template_columns": null,
            "grid_template_rows": null,
            "height": null,
            "justify_content": null,
            "justify_items": null,
            "left": null,
            "margin": null,
            "max_height": null,
            "max_width": null,
            "min_height": null,
            "min_width": null,
            "object_fit": null,
            "object_position": null,
            "order": null,
            "overflow": null,
            "overflow_x": null,
            "overflow_y": null,
            "padding": null,
            "right": null,
            "top": null,
            "visibility": null,
            "width": null
          }
        },
        "81a4d4854a134207924e01483c5be599": {
          "model_module": "@jupyter-widgets/base",
          "model_name": "LayoutModel",
          "model_module_version": "1.2.0",
          "state": {
            "_model_module": "@jupyter-widgets/base",
            "_model_module_version": "1.2.0",
            "_model_name": "LayoutModel",
            "_view_count": null,
            "_view_module": "@jupyter-widgets/base",
            "_view_module_version": "1.2.0",
            "_view_name": "LayoutView",
            "align_content": null,
            "align_items": null,
            "align_self": null,
            "border": null,
            "bottom": null,
            "display": null,
            "flex": null,
            "flex_flow": null,
            "grid_area": null,
            "grid_auto_columns": null,
            "grid_auto_flow": null,
            "grid_auto_rows": null,
            "grid_column": null,
            "grid_gap": null,
            "grid_row": null,
            "grid_template_areas": null,
            "grid_template_columns": null,
            "grid_template_rows": null,
            "height": null,
            "justify_content": null,
            "justify_items": null,
            "left": null,
            "margin": null,
            "max_height": null,
            "max_width": null,
            "min_height": null,
            "min_width": null,
            "object_fit": null,
            "object_position": null,
            "order": null,
            "overflow": null,
            "overflow_x": null,
            "overflow_y": null,
            "padding": null,
            "right": null,
            "top": null,
            "visibility": null,
            "width": null
          }
        }
      }
    }
  },
  "nbformat": 4,
  "nbformat_minor": 0
}