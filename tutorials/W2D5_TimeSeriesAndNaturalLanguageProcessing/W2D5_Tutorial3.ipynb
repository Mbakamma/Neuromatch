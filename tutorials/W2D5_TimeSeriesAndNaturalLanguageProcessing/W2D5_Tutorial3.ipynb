{
  "cells": [
    {
      "cell_type": "markdown",
      "metadata": {
        "id": "view-in-github",
        "colab_type": "text"
      },
      "source": [
        "<a href=\"https://colab.research.google.com/github/NeuromatchAcademy/course-content-dl/blob/minor_fix/tutorials/W2D5_TimeSeriesAndNaturalLanguageProcessing/W2D5_Tutorial3.ipynb\" target=\"_parent\"><img src=\"https://colab.research.google.com/assets/colab-badge.svg\" alt=\"Open In Colab\"/></a>"
      ]
    },
    {
      "cell_type": "markdown",
      "metadata": {
        "execution": {},
        "id": "HLim3kTTVuLt"
      },
      "source": [
        "# Bonus Tutorial: Multilingual Embeddings\n",
        "\n",
        "**Week 2, Day 5: Time Series And Natural Language Processing**\n",
        "\n",
        "**By Neuromatch Academy**\n",
        "\n",
        "__Content creators:__ Alish Dipani, Kelson Shilling-Scrivo, Lyle Ungar\n",
        "\n",
        "__Content reviewers:__ Kelson Shilling-Scrivo\n",
        "\n",
        "__Content editors:__ Kelson Shilling-Scrivo\n",
        "\n",
        "__Production editors:__ Gagana B, Spiros Chavlis\n",
        "\n",
        "<br>\n",
        "\n",
        "_Based on Content from: Anushree Hede, Pooja Consul, Ann-Katrin Reuel_"
      ]
    },
    {
      "cell_type": "markdown",
      "metadata": {
        "execution": {},
        "id": "SGeWm918VuLu"
      },
      "source": [
        "<p align='center'><img src='https://github.com/NeuromatchAcademy/widgets/blob/master/sponsors.png?raw=True'/></p>"
      ]
    },
    {
      "cell_type": "markdown",
      "metadata": {
        "execution": {},
        "id": "k3urlmvoVuLv"
      },
      "source": [
        "----\n",
        "# Tutorial objectives\n",
        "\n",
        "Before we begin with exploring how RNNs excel at modelling sequences, we will explore some of the other ways we can model sequences, encode text, and make meaningful measurements using such encodings and embeddings. "
      ]
    },
    {
      "cell_type": "code",
      "execution_count": 1,
      "metadata": {
        "cellView": "form",
        "execution": {},
        "id": "BwsfDUWtVuLv",
        "outputId": "a9053e09-9095-4572-d271-75394866e18c",
        "colab": {
          "base_uri": "https://localhost:8080/",
          "height": 501
        }
      },
      "outputs": [
        {
          "output_type": "execute_result",
          "data": {
            "text/plain": [
              "<IPython.lib.display.IFrame at 0x7fc8660e9a10>"
            ],
            "text/html": [
              "\n",
              "        <iframe\n",
              "            width=\"854\"\n",
              "            height=\"480\"\n",
              "            src=\"https://mfr.ca-1.osf.io/render?url=https://osf.io/n263c/?direct%26mode=render%26action=download%26mode=render\"\n",
              "            frameborder=\"0\"\n",
              "            allowfullscreen\n",
              "        ></iframe>\n",
              "        "
            ]
          },
          "metadata": {},
          "execution_count": 1
        }
      ],
      "source": [
        "# @title Tutorial slides\n",
        "\n",
        "from IPython.display import IFrame\n",
        "IFrame(src=\"https://mfr.ca-1.osf.io/render?url=https://osf.io/n263c/?direct%26mode=render%26action=download%26mode=render\", width=854, height=480)"
      ]
    },
    {
      "cell_type": "markdown",
      "metadata": {
        "execution": {},
        "id": "4gRyo1lPVuLv"
      },
      "source": [
        "These are the slides for the videos in this tutorial. If you want to locally download the slides, click [here](https://osf.io/n263c/download)."
      ]
    },
    {
      "cell_type": "markdown",
      "metadata": {
        "execution": {},
        "id": "24hILCMOVuLw"
      },
      "source": [
        "---\n",
        "# Setup"
      ]
    },
    {
      "cell_type": "code",
      "execution_count": 2,
      "metadata": {
        "cellView": "form",
        "execution": {},
        "id": "29K104xnVuLw",
        "outputId": "a3bf6201-be01-4d9f-b7b7-041842776fd4",
        "colab": {
          "base_uri": "https://localhost:8080/"
        }
      },
      "outputs": [
        {
          "output_type": "stream",
          "name": "stdout",
          "text": [
            "\u001b[K     |█████████████▌                  | 834.1 MB 1.3 MB/s eta 0:14:12tcmalloc: large alloc 1147494400 bytes == 0x3a03c000 @  0x7fe2d774f615 0x592b76 0x4df71e 0x59afff 0x515655 0x549576 0x593fce 0x548ae9 0x51566f 0x549576 0x593fce 0x548ae9 0x5127f1 0x598e3b 0x511f68 0x598e3b 0x511f68 0x598e3b 0x511f68 0x4bc98a 0x532e76 0x594b72 0x515600 0x549576 0x593fce 0x548ae9 0x5127f1 0x549576 0x593fce 0x5118f8 0x593dd7\n",
            "\u001b[K     |█████████████████               | 1055.7 MB 1.3 MB/s eta 0:12:18tcmalloc: large alloc 1434370048 bytes == 0x7e692000 @  0x7fe2d774f615 0x592b76 0x4df71e 0x59afff 0x515655 0x549576 0x593fce 0x548ae9 0x51566f 0x549576 0x593fce 0x548ae9 0x5127f1 0x598e3b 0x511f68 0x598e3b 0x511f68 0x598e3b 0x511f68 0x4bc98a 0x532e76 0x594b72 0x515600 0x549576 0x593fce 0x548ae9 0x5127f1 0x549576 0x593fce 0x5118f8 0x593dd7\n",
            "\u001b[K     |█████████████████████▋          | 1336.2 MB 1.2 MB/s eta 0:08:41tcmalloc: large alloc 1792966656 bytes == 0x34c4000 @  0x7fe2d774f615 0x592b76 0x4df71e 0x59afff 0x515655 0x549576 0x593fce 0x548ae9 0x51566f 0x549576 0x593fce 0x548ae9 0x5127f1 0x598e3b 0x511f68 0x598e3b 0x511f68 0x598e3b 0x511f68 0x4bc98a 0x532e76 0x594b72 0x515600 0x549576 0x593fce 0x548ae9 0x5127f1 0x549576 0x593fce 0x5118f8 0x593dd7\n",
            "\u001b[K     |███████████████████████████▎    | 1691.1 MB 1.2 MB/s eta 0:04:10tcmalloc: large alloc 2241208320 bytes == 0x6e2ac000 @  0x7fe2d774f615 0x592b76 0x4df71e 0x59afff 0x515655 0x549576 0x593fce 0x548ae9 0x51566f 0x549576 0x593fce 0x548ae9 0x5127f1 0x598e3b 0x511f68 0x598e3b 0x511f68 0x598e3b 0x511f68 0x4bc98a 0x532e76 0x594b72 0x515600 0x549576 0x593fce 0x548ae9 0x5127f1 0x549576 0x593fce 0x5118f8 0x593dd7\n",
            "\u001b[K     |████████████████████████████████| 1982.2 MB 1.1 MB/s eta 0:00:01tcmalloc: large alloc 1982251008 bytes == 0xf3c0e000 @  0x7fe2d774e1e7 0x4a3940 0x4a39cc 0x592b76 0x4df71e 0x59afff 0x515655 0x549576 0x593fce 0x511e2c 0x549576 0x593fce 0x511e2c 0x549576 0x593fce 0x511e2c 0x549576 0x593fce 0x511e2c 0x549576 0x593fce 0x511e2c 0x593dd7 0x511e2c 0x549576 0x593fce 0x548ae9 0x5127f1 0x549576 0x593fce 0x548ae9\n",
            "tcmalloc: large alloc 2477817856 bytes == 0x169e7a000 @  0x7fe2d774f615 0x592b76 0x4df71e 0x59afff 0x515655 0x549576 0x593fce 0x511e2c 0x549576 0x593fce 0x511e2c 0x549576 0x593fce 0x511e2c 0x549576 0x593fce 0x511e2c 0x549576 0x593fce 0x511e2c 0x593dd7 0x511e2c 0x549576 0x593fce 0x548ae9 0x5127f1 0x549576 0x593fce 0x548ae9 0x5127f1 0x549576\n",
            "\u001b[K     |████████████████████████████████| 1982.2 MB 5.4 kB/s \n",
            "\u001b[K     |████████████████████████████████| 17.6 MB 32 kB/s \n",
            "\u001b[K     |████████████████████████████████| 1.9 MB 30.5 MB/s \n",
            "\u001b[K     |████████████████████████████████| 7.1 MB 46.7 MB/s \n",
            "\u001b[K     |████████████████████████████████| 50 kB 5.7 MB/s \n",
            "\u001b[?25h  Building wheel for python-Levenshtein (setup.py) ... \u001b[?25l\u001b[?25hdone\n",
            "  Building wheel for evaltools (setup.py) ... \u001b[?25l\u001b[?25hdone\n"
          ]
        }
      ],
      "source": [
        "# @title Install dependencies\n",
        "\n",
        "# @markdown There may be *errors* and/or *warnings* reported during the installation. However, they are to be ignored.\n",
        "!pip install torch==1.8.0+cu111 torchvision==0.9.0+cu111 torchaudio==0.8.0 torchtext==0.9.0 -f https://download.pytorch.org/whl/torch_stable.html --quiet\n",
        "!pip install python-Levenshtein --quiet\n",
        "\n",
        "!pip install git+https://github.com/NeuromatchAcademy/evaltools --quiet\n",
        "from evaltools.airtable import AirtableForm\n",
        "\n",
        "# Generate airtable form\n",
        "atform = AirtableForm('appn7VdPRseSoMXEG','W2D5_T1','https://portal.neuromatchacademy.org/api/redirect/to/9c55f6cb-cdf9-4429-ac1c-ec44fe64c303')"
      ]
    },
    {
      "cell_type": "code",
      "execution_count": 3,
      "metadata": {
        "cellView": "form",
        "execution": {},
        "id": "1hxwit7MVuLw",
        "outputId": "3bef288d-4143-40f3-d9a2-d7c3fd3625e8",
        "colab": {
          "base_uri": "https://localhost:8080/"
        }
      },
      "outputs": [
        {
          "output_type": "stream",
          "name": "stdout",
          "text": [
            "Downloading Started...\n",
            "Downloading Completed.\n",
            "Extracting all the files now...\n",
            "Done!\n",
            "\u001b[33m  DEPRECATION: A future pip version will change local packages to be built in-place without first copying to a temporary directory. We recommend you use --use-feature=in-tree-build to test your packages with this new behavior before it becomes the default.\n",
            "   pip 21.3 will remove support for this functionality. You can find discussion regarding this at https://github.com/pypa/pip/issues/7555.\u001b[0m\n",
            "  Building wheel for fasttext (setup.py) ... \u001b[?25l\u001b[?25hdone\n"
          ]
        }
      ],
      "source": [
        "# @title Install fastText\n",
        "# @markdown If you want to see the original code, go to repo: https://github.com/facebookresearch/fastText.git\n",
        "\n",
        "# !pip install git+https://github.com/facebookresearch/fastText.git --quiet\n",
        "\n",
        "import os, zipfile, requests\n",
        "\n",
        "url = \"https://osf.io/vkuz7/download\"\n",
        "fname = \"fastText-main.zip\"\n",
        "\n",
        "print('Downloading Started...')\n",
        "# Downloading the file by sending the request to the URL\n",
        "r = requests.get(url, stream=True)\n",
        "\n",
        "# Writing the file to the local file system\n",
        "with open(fname, 'wb') as f:\n",
        "  f.write(r.content)\n",
        "print('Downloading Completed.')\n",
        "\n",
        "# opening the zip file in READ mode\n",
        "with zipfile.ZipFile(fname, 'r') as zipObj:\n",
        "  # extracting all the files\n",
        "  print('Extracting all the files now...')\n",
        "  zipObj.extractall()\n",
        "  print('Done!')\n",
        "  os.remove(fname)\n",
        "\n",
        "# Install the package\n",
        "!pip install fastText-main/ --quiet"
      ]
    },
    {
      "cell_type": "code",
      "execution_count": 4,
      "metadata": {
        "execution": {},
        "id": "LDEUnso5VuLw"
      },
      "outputs": [],
      "source": [
        "# Imports\n",
        "import fasttext\n",
        "import numpy as np\n",
        "import matplotlib.pyplot as plt\n",
        "from tqdm.notebook import tqdm"
      ]
    },
    {
      "cell_type": "code",
      "execution_count": 5,
      "metadata": {
        "cellView": "form",
        "execution": {},
        "id": "Tk-kmZqGVuLx"
      },
      "outputs": [],
      "source": [
        "# @title Figure Settings\n",
        "import ipywidgets as widgets\n",
        "%matplotlib inline\n",
        "%config InlineBackend.figure_format = 'retina'\n",
        "plt.style.use(\"https://raw.githubusercontent.com/NeuromatchAcademy/content-creation/main/nma.mplstyle\")"
      ]
    },
    {
      "cell_type": "code",
      "execution_count": 6,
      "metadata": {
        "cellView": "form",
        "execution": {},
        "id": "p9jWGCblVuLx"
      },
      "outputs": [],
      "source": [
        "# @title Helper functions\n",
        "def cosine_similarity(vec_a, vec_b):\n",
        "  \"\"\"Compute cosine similarity between vec_a and vec_b\"\"\"\n",
        "  return np.dot(vec_a, vec_b) / (np.linalg.norm(vec_a) * np.linalg.norm(vec_b))\n",
        "\n",
        "\n",
        "def getSimilarity(word1, word2):\n",
        "  v1 = ft_en_vectors.get_word_vector(word1)\n",
        "  v2 = ft_en_vectors.get_word_vector(word2)\n",
        "  return cosine_similarity(v1, v2)"
      ]
    },
    {
      "cell_type": "code",
      "execution_count": 7,
      "metadata": {
        "cellView": "form",
        "execution": {},
        "id": "RRTX2ECmVuLx"
      },
      "outputs": [],
      "source": [
        "# @title Set random seed\n",
        "\n",
        "# @markdown Executing `set_seed(seed=seed)` you are setting the seed\n",
        "\n",
        "# For DL its critical to set the random seed so that students can have a\n",
        "# baseline to compare their results to expected results.\n",
        "# Read more here: https://pytorch.org/docs/stable/notes/randomness.html\n",
        "\n",
        "# Call `set_seed` function in the exercises to ensure reproducibility.\n",
        "import random\n",
        "import torch\n",
        "\n",
        "def set_seed(seed=None, seed_torch=True):\n",
        "  \"\"\"\n",
        "  Function that controls randomness.\n",
        "  NumPy and random modules must be imported.\n",
        "\n",
        "  Args:\n",
        "    seed : Integer\n",
        "      A non-negative integer that defines the random state. Default is `None`.\n",
        "    seed_torch : Boolean\n",
        "      If `True` sets the random seed for pytorch tensors, so pytorch module\n",
        "      must be imported. Default is `True`.\n",
        "\n",
        "  Returns:\n",
        "    Nothing.\n",
        "  \"\"\"\n",
        "  if seed is None:\n",
        "    seed = np.random.choice(2 ** 32)\n",
        "  random.seed(seed)\n",
        "  np.random.seed(seed)\n",
        "  if seed_torch:\n",
        "    torch.manual_seed(seed)\n",
        "    torch.cuda.manual_seed_all(seed)\n",
        "    torch.cuda.manual_seed(seed)\n",
        "    torch.backends.cudnn.benchmark = False\n",
        "    torch.backends.cudnn.deterministic = True\n",
        "\n",
        "  print(f'Random seed {seed} has been set.')\n",
        "\n",
        "# In case that `DataLoader` is used\n",
        "def seed_worker(worker_id):\n",
        "  \"\"\"\n",
        "  DataLoader will reseed workers following randomness in\n",
        "  multi-process data loading algorithm.\n",
        "\n",
        "  Args:\n",
        "    worker_id: integer\n",
        "      ID of subprocess to seed. 0 means that\n",
        "      the data will be loaded in the main process\n",
        "      Refer: https://pytorch.org/docs/stable/data.html#data-loading-randomness for more details\n",
        "\n",
        "  Returns:\n",
        "    Nothing\n",
        "  \"\"\"\n",
        "  worker_seed = torch.initial_seed() % 2**32\n",
        "  np.random.seed(worker_seed)\n",
        "  random.seed(worker_seed)"
      ]
    },
    {
      "cell_type": "code",
      "execution_count": 8,
      "metadata": {
        "cellView": "form",
        "execution": {},
        "id": "RQWFkretVuLy"
      },
      "outputs": [],
      "source": [
        "# @title Set device (GPU or CPU). Execute `set_device()`\n",
        "\n",
        "# Inform the user if the notebook uses GPU or CPU.\n",
        "\n",
        "def set_device():\n",
        "  \"\"\"\n",
        "  Set the device. CUDA if available, CPU otherwise\n",
        "\n",
        "  Args:\n",
        "    None\n",
        "\n",
        "  Returns:\n",
        "    Nothing\n",
        "  \"\"\"\n",
        "  device = \"cuda\" if torch.cuda.is_available() else \"cpu\"\n",
        "  if device != \"cuda\":\n",
        "    print(\"WARNING: For this notebook to perform best, \"\n",
        "        \"if possible, in the menu under `Runtime` -> \"\n",
        "        \"`Change runtime type.`  select `GPU` \")\n",
        "  else:\n",
        "    print(\"GPU is enabled in this notebook.\")\n",
        "\n",
        "  return device"
      ]
    },
    {
      "cell_type": "code",
      "execution_count": 9,
      "metadata": {
        "execution": {},
        "id": "A23C_mTNVuLy",
        "outputId": "636309b6-293d-44f9-d1c6-66d1d9f14987",
        "colab": {
          "base_uri": "https://localhost:8080/"
        }
      },
      "outputs": [
        {
          "output_type": "stream",
          "name": "stdout",
          "text": [
            "GPU is enabled in this notebook.\n",
            "Random seed 2021 has been set.\n"
          ]
        }
      ],
      "source": [
        "DEVICE = set_device()\n",
        "SEED = 2021\n",
        "set_seed(seed=SEED)"
      ]
    },
    {
      "cell_type": "markdown",
      "metadata": {
        "execution": {},
        "id": "HaXyUcyXVuLz"
      },
      "source": [
        "---\n",
        "# Section 1 : Multilingual Embeddings\n",
        "\n",
        "Traditionally, word embeddings have been language-specific, with embeddings for each language trained separately and existing in entirely different vector spaces. But, what if we wanted to compare words in one language to another? Say we want to create a text classifier with a corpus of English and Spanish words. \n",
        "\n",
        "We use the multilingual word embeddings provided in fastText. More information can be found [here](https://engineering.fb.com/2018/01/24/ml-applications/under-the-hood-multilingual-embeddings/)."
      ]
    },
    {
      "cell_type": "markdown",
      "metadata": {
        "execution": {},
        "id": "aro92pX0VuLz"
      },
      "source": [
        "## Training multilingual embeddings\n",
        "\n",
        "We first train separate embeddings for each language using fastText and a combination of data from Facebook and Wikipedia. Then, we find a dictionary of common words between the two languages. The dictionaries are automatically induced from parallel data - datasets consisting of a pair of sentences in two languages with the same meaning. \n",
        "\n",
        "Then, we find a matrix that projects the embeddings into a common space between the given languages. The matrix is designed to minimize the distance between a word $x_i$ and its projection $y_i$. If our dictionary consists of pairs $(x_i, y_i)$, our projector $M$ would be: \n",
        "\n",
        "\\begin{equation}\n",
        "M = \\underset{W}{\\operatorname{argmax}} \\sum_i ||x_i - Wy_i||^2\n",
        "\\end{equation}\n",
        "\n",
        "Also, the projector matrix $W$ is constrained to e orthogonal, so actual distances between word embedding vectors are preserved. Multilingual models are trained by using our multilingual word embeddings as the base representations in DeepText and “freezing” them or leaving them unchanged during the training process. \n",
        "\n",
        "After going through this, try to replicate the above exercises but in different languages!"
      ]
    },
    {
      "cell_type": "code",
      "execution_count": 10,
      "metadata": {
        "cellView": "form",
        "execution": {},
        "id": "hfPnWYTxVuLz",
        "outputId": "0a675036-164b-44f0-ca68-0cadfd63a92a",
        "colab": {
          "base_uri": "https://localhost:8080/"
        }
      },
      "outputs": [
        {
          "output_type": "stream",
          "name": "stdout",
          "text": [
            "Downloading Started...\n",
            "Downloading Completed.\n",
            "Extracting all the files now...\n",
            "Done!\n"
          ]
        }
      ],
      "source": [
        "# @markdown ### Download FastText English Embeddings of dimension 100\n",
        "# @markdown This will take 1-2 minutes to run\n",
        "\n",
        "import os, zipfile, requests\n",
        "\n",
        "url = \"https://osf.io/2frqg/download\"\n",
        "fname = \"cc.en.100.bin.gz\"\n",
        "\n",
        "print('Downloading Started...')\n",
        "# Downloading the file by sending the request to the URL\n",
        "r = requests.get(url, stream=True)\n",
        "\n",
        "# Writing the file to the local file system\n",
        "with open(fname, 'wb') as f:\n",
        "  f.write(r.content)\n",
        "print('Downloading Completed.')\n",
        "\n",
        "# opening the zip file in READ mode\n",
        "with zipfile.ZipFile(fname, 'r') as zipObj:\n",
        "  # extracting all the files\n",
        "  print('Extracting all the files now...')\n",
        "  zipObj.extractall()\n",
        "  print('Done!')\n",
        "  os.remove(fname)"
      ]
    },
    {
      "cell_type": "code",
      "execution_count": 11,
      "metadata": {
        "execution": {},
        "id": "-H7AwrTeVuLz"
      },
      "outputs": [],
      "source": [
        "# Load 100 dimension FastText Vectors using FastText library\n",
        "ft_en_vectors = fasttext.load_model('cc.en.100.bin')"
      ]
    },
    {
      "cell_type": "code",
      "execution_count": 12,
      "metadata": {
        "cellView": "form",
        "execution": {},
        "id": "3ITgWk_PVuLz",
        "outputId": "5472bc19-429b-4451-c63e-0c04e995e4c4",
        "colab": {
          "base_uri": "https://localhost:8080/"
        }
      },
      "outputs": [
        {
          "output_type": "stream",
          "name": "stdout",
          "text": [
            "Downloading Started...\n",
            "Downloading Completed.\n",
            "Extracting all the files now...\n",
            "Done!\n"
          ]
        }
      ],
      "source": [
        "# @markdown ### Download FastText French Embeddings of dimension 100\n",
        "\n",
        "# @markdown **Note:** This cell might take 2-4 minutes to run\n",
        "\n",
        "import os, zipfile, requests\n",
        "\n",
        "url = \"https://osf.io/rqadk/download\"\n",
        "fname = \"cc.fr.100.bin.gz\"\n",
        "\n",
        "print('Downloading Started...')\n",
        "# Downloading the file by sending the request to the URL\n",
        "r = requests.get(url, stream=True)\n",
        "\n",
        "# Writing the file to the local file system\n",
        "with open(fname, 'wb') as f:\n",
        "  f.write(r.content)\n",
        "print('Downloading Completed.')\n",
        "\n",
        "# opening the zip file in READ mode\n",
        "with zipfile.ZipFile(fname, 'r') as zipObj:\n",
        "  # extracting all the files\n",
        "  print('Extracting all the files now...')\n",
        "  zipObj.extractall()\n",
        "  print('Done!')\n",
        "  os.remove(fname)"
      ]
    },
    {
      "cell_type": "code",
      "execution_count": 13,
      "metadata": {
        "execution": {},
        "id": "Oz5r93qpVuLz"
      },
      "outputs": [],
      "source": [
        "# Load 100 dimension FastText Vectors using FastText library\n",
        "french = fasttext.load_model('cc.fr.100.bin')"
      ]
    },
    {
      "cell_type": "markdown",
      "metadata": {
        "execution": {},
        "id": "YswLiLp6VuL0"
      },
      "source": [
        "First, we look at the cosine similarity between different languages without projecting them into the same vector space. As you can see, the same words seem close to $0$ cosine similarity in other languages - so neither similar nor dissimilar."
      ]
    },
    {
      "cell_type": "code",
      "execution_count": 14,
      "metadata": {
        "execution": {},
        "id": "F49GxHmNVuL0",
        "outputId": "f77b6bc2-d259-45e4-abe7-0c2f5bd43c35",
        "colab": {
          "base_uri": "https://localhost:8080/"
        }
      },
      "outputs": [
        {
          "output_type": "stream",
          "name": "stdout",
          "text": [
            "Cosine Similarity between HI and HELLO: 0.7028388977050781\n",
            "Cosine Similarity between BONJOUR and HELLO: 0.20523205399513245\n"
          ]
        }
      ],
      "source": [
        "hello = ft_en_vectors.get_word_vector('hello')\n",
        "hi = ft_en_vectors.get_word_vector('hi')\n",
        "bonjour = french.get_word_vector('bonjour')\n",
        "\n",
        "print(f\"Cosine Similarity between HI and HELLO: {cosine_similarity(hello, hi)}\")\n",
        "print(f\"Cosine Similarity between BONJOUR and HELLO: {cosine_similarity(hello, bonjour)}\")"
      ]
    },
    {
      "cell_type": "code",
      "execution_count": 15,
      "metadata": {
        "execution": {},
        "id": "I4n6qOv1VuL0",
        "outputId": "cb7f2b5d-75d7-4663-ab51-d1a6df5680c2",
        "colab": {
          "base_uri": "https://localhost:8080/"
        }
      },
      "outputs": [
        {
          "output_type": "stream",
          "name": "stdout",
          "text": [
            "Cosine Similarity between cat and chatte: -0.013087842613458633\n",
            "Cosine Similarity between cat and chat: -0.02490561455488205\n",
            "Cosine Similarity between chatte and chat: 0.6003134250640869\n"
          ]
        }
      ],
      "source": [
        "cat = ft_en_vectors.get_word_vector('cat')\n",
        "chatte = french.get_word_vector('chatte')\n",
        "chat = french.get_word_vector('chat')\n",
        "\n",
        "print(f\"Cosine Similarity between cat and chatte: {cosine_similarity(cat, chatte)}\")\n",
        "print(f\"Cosine Similarity between cat and chat: {cosine_similarity(cat, chat)}\")\n",
        "print(f\"Cosine Similarity between chatte and chat: {cosine_similarity(chatte, chat)}\")"
      ]
    },
    {
      "cell_type": "markdown",
      "metadata": {
        "execution": {},
        "id": "0rjKbmlWVuL0"
      },
      "source": [
        "First, let's define a list of words that are in common between English and French. We'll be using this to make our training matrices. "
      ]
    },
    {
      "cell_type": "code",
      "execution_count": 16,
      "metadata": {
        "execution": {},
        "id": "zfQMf4qAVuL0"
      },
      "outputs": [],
      "source": [
        "en_words = set(ft_en_vectors.words)\n",
        "fr_words = set(french.words)\n",
        "overlap = list(en_words & fr_words)\n",
        "bilingual_dictionary = [(entry, entry) for entry in overlap]"
      ]
    },
    {
      "cell_type": "markdown",
      "metadata": {
        "execution": {},
        "id": "VsqWpRQQVuL0"
      },
      "source": [
        "We define a few functions to make our lives a bit easier: `make_training_matrices` takes in the source words, target language words, and the set of common words. It then creates a matrix of all the word embeddings of all common words between the languages (in each language). These are our training matrices.\n",
        "\n",
        "The function `learn_transformation` then takes in these matrices, normalizes them, and performs SVD, which aligns the source language to the target and returns a transformation matrix."
      ]
    },
    {
      "cell_type": "code",
      "execution_count": 17,
      "metadata": {
        "execution": {},
        "id": "ItZghS5zVuL1"
      },
      "outputs": [],
      "source": [
        "def make_training_matrices(source_dictionary, target_dictionary,\n",
        "                           bilingual_dictionary):\n",
        "  source_matrix = []\n",
        "  target_matrix = []\n",
        "  for (source, target) in tqdm(bilingual_dictionary):\n",
        "    # if source in source_dictionary.words and target in target_dictionary.words:\n",
        "    source_matrix.append(source_dictionary.get_word_vector(source))\n",
        "    target_matrix.append(target_dictionary.get_word_vector(target))\n",
        "  # return training matrices\n",
        "  return np.array(source_matrix), np.array(target_matrix)\n",
        "\n",
        "\n",
        "# from https://stackoverflow.com/questions/21030391/how-to-normalize-array-numpy\n",
        "def normalized(a, axis=-1, order=2):\n",
        "  \"\"\"Utility function to normalize the rows of a numpy array.\"\"\"\n",
        "  l2 = np.atleast_1d(np.linalg.norm(a, order, axis))\n",
        "  l2[l2==0] = 1\n",
        "  return a / np.expand_dims(l2, axis)\n",
        "\n",
        "\n",
        "def learn_transformation(source_matrix, target_matrix, normalize_vectors=True):\n",
        "  \"\"\"\n",
        "  Source and target matrices are numpy arrays, shape\n",
        "  (dictionary_length, embedding_dimension). These contain paired\n",
        "  word vectors from the bilingual dictionary.\n",
        "  \"\"\"\n",
        "  # optionally normalize the training vectors\n",
        "  if normalize_vectors:\n",
        "    source_matrix = normalized(source_matrix)\n",
        "    target_matrix = normalized(target_matrix)\n",
        "  # perform the SVD\n",
        "  product = np.matmul(source_matrix.transpose(), target_matrix)\n",
        "  U, s, V = np.linalg.svd(product)\n",
        "  # return orthogonal transformation which aligns source language to the target\n",
        "  return np.matmul(U, V)"
      ]
    },
    {
      "cell_type": "markdown",
      "metadata": {
        "execution": {},
        "id": "U81CwskFVuL1"
      },
      "source": [
        "Now, we just have to put it all together! "
      ]
    },
    {
      "cell_type": "code",
      "execution_count": 18,
      "metadata": {
        "execution": {},
        "id": "qIqyYALEVuL1",
        "outputId": "4a6ca64d-ef2a-4b7c-91ef-388830fed1a0",
        "colab": {
          "base_uri": "https://localhost:8080/",
          "height": 49,
          "referenced_widgets": [
            "bc404034c719496b9173b28c00bae948",
            "c6074c16f16346debd25a7b9e9232b90",
            "0c8c2472db804b568735bfbba16e6dd8",
            "c776df4d2a2b4dc1b8464084652e679a",
            "72091cac785848ca9f016c2dad516b12",
            "1deda3d66d1d4901871655632812e1bb",
            "570d153ada504775a5e21f8cc48600b4",
            "dfb615efdbef49f9a0781cbe326ab433",
            "27dda00360ea4fb4abf8de70ba70d853",
            "40f5672fa93e418e930b69c424664c4c",
            "0ce0cb3acb774ecbb4d6f37398489e52"
          ]
        }
      },
      "outputs": [
        {
          "output_type": "display_data",
          "data": {
            "text/plain": [
              "  0%|          | 0/612423 [00:00<?, ?it/s]"
            ],
            "application/vnd.jupyter.widget-view+json": {
              "version_major": 2,
              "version_minor": 0,
              "model_id": "bc404034c719496b9173b28c00bae948"
            }
          },
          "metadata": {}
        }
      ],
      "source": [
        "source_training_matrix, target_training_matrix = make_training_matrices(ft_en_vectors, french, bilingual_dictionary)"
      ]
    },
    {
      "cell_type": "code",
      "execution_count": 19,
      "metadata": {
        "execution": {},
        "id": "O1lU_7RLVuL1"
      },
      "outputs": [],
      "source": [
        "transform = learn_transformation(source_training_matrix, target_training_matrix)"
      ]
    },
    {
      "cell_type": "markdown",
      "metadata": {
        "execution": {},
        "id": "Hd0PQ10oVuL2"
      },
      "source": [
        "Let's run the same examples as above, but this time, whenever we use French words, the matrix multiplies the embedding by the transpose of the transform matrix. That works a lot better!"
      ]
    },
    {
      "cell_type": "code",
      "execution_count": 20,
      "metadata": {
        "execution": {},
        "id": "7LhwmVRlVuL2",
        "outputId": "91026a36-eb53-4a9a-8e7d-cd66c5761b44",
        "colab": {
          "base_uri": "https://localhost:8080/"
        }
      },
      "outputs": [
        {
          "output_type": "stream",
          "name": "stdout",
          "text": [
            "Cosine Similarity between HI and HELLO: 0.7028388977050781\n",
            "Cosine Similarity between BONJOUR and HELLO: 0.5818616151809692\n"
          ]
        }
      ],
      "source": [
        "hello = ft_en_vectors.get_word_vector('hello')\n",
        "hi = ft_en_vectors.get_word_vector('hi')\n",
        "bonjour = np.matmul(french.get_word_vector('bonjour'), transform.T)\n",
        "\n",
        "print(f\"Cosine Similarity between HI and HELLO: {cosine_similarity(hello, hi)}\")\n",
        "print(f\"Cosine Similarity between BONJOUR and HELLO: {cosine_similarity(hello, bonjour)}\")"
      ]
    },
    {
      "cell_type": "code",
      "execution_count": 21,
      "metadata": {
        "execution": {},
        "id": "T6YxfygnVuL2",
        "outputId": "eae58f57-fb7c-4d0a-ae4a-eaae52319d6e",
        "colab": {
          "base_uri": "https://localhost:8080/"
        }
      },
      "outputs": [
        {
          "output_type": "stream",
          "name": "stdout",
          "text": [
            "Cosine Similarity between cat and chatte: 0.4327266216278076\n",
            "Cosine Similarity between cat and chat: 0.6866637468338013\n",
            "Cosine Similarity between chatte and chat: 0.6003133654594421\n"
          ]
        }
      ],
      "source": [
        "cat = ft_en_vectors.get_word_vector('cat')\n",
        "chatte = np.matmul(french.get_word_vector('chatte'), transform.T)\n",
        "chat = np.matmul(french.get_word_vector('chat'), transform.T)\n",
        "\n",
        "print(f\"Cosine Similarity between cat and chatte: {cosine_similarity(cat, chatte)}\")\n",
        "print(f\"Cosine Similarity between cat and chat: {cosine_similarity(cat, chat)}\")\n",
        "print(f\"Cosine Similarity between chatte and chat: {cosine_similarity(chatte, chat)}\")"
      ]
    },
    {
      "cell_type": "markdown",
      "metadata": {
        "execution": {},
        "id": "dhfWTVKbVuL2"
      },
      "source": [
        "Now, try a couple of your examples. Try some examples you looked at in Tutorial 1, Section 2.1, but with English and French. Does it work as expected?"
      ]
    }
  ],
  "metadata": {
    "accelerator": "GPU",
    "colab": {
      "collapsed_sections": [],
      "name": "W2D5_Tutorial3",
      "provenance": [],
      "toc_visible": true,
      "include_colab_link": true
    },
    "gpuClass": "standard",
    "kernel": {
      "display_name": "Python 3",
      "language": "python",
      "name": "python3"
    },
    "kernelspec": {
      "display_name": "Python 3",
      "name": "python3"
    },
    "language_info": {
      "name": "python"
    },
    "widgets": {
      "application/vnd.jupyter.widget-state+json": {
        "bc404034c719496b9173b28c00bae948": {
          "model_module": "@jupyter-widgets/controls",
          "model_name": "HBoxModel",
          "model_module_version": "1.5.0",
          "state": {
            "_dom_classes": [],
            "_model_module": "@jupyter-widgets/controls",
            "_model_module_version": "1.5.0",
            "_model_name": "HBoxModel",
            "_view_count": null,
            "_view_module": "@jupyter-widgets/controls",
            "_view_module_version": "1.5.0",
            "_view_name": "HBoxView",
            "box_style": "",
            "children": [
              "IPY_MODEL_c6074c16f16346debd25a7b9e9232b90",
              "IPY_MODEL_0c8c2472db804b568735bfbba16e6dd8",
              "IPY_MODEL_c776df4d2a2b4dc1b8464084652e679a"
            ],
            "layout": "IPY_MODEL_72091cac785848ca9f016c2dad516b12"
          }
        },
        "c6074c16f16346debd25a7b9e9232b90": {
          "model_module": "@jupyter-widgets/controls",
          "model_name": "HTMLModel",
          "model_module_version": "1.5.0",
          "state": {
            "_dom_classes": [],
            "_model_module": "@jupyter-widgets/controls",
            "_model_module_version": "1.5.0",
            "_model_name": "HTMLModel",
            "_view_count": null,
            "_view_module": "@jupyter-widgets/controls",
            "_view_module_version": "1.5.0",
            "_view_name": "HTMLView",
            "description": "",
            "description_tooltip": null,
            "layout": "IPY_MODEL_1deda3d66d1d4901871655632812e1bb",
            "placeholder": "​",
            "style": "IPY_MODEL_570d153ada504775a5e21f8cc48600b4",
            "value": "100%"
          }
        },
        "0c8c2472db804b568735bfbba16e6dd8": {
          "model_module": "@jupyter-widgets/controls",
          "model_name": "FloatProgressModel",
          "model_module_version": "1.5.0",
          "state": {
            "_dom_classes": [],
            "_model_module": "@jupyter-widgets/controls",
            "_model_module_version": "1.5.0",
            "_model_name": "FloatProgressModel",
            "_view_count": null,
            "_view_module": "@jupyter-widgets/controls",
            "_view_module_version": "1.5.0",
            "_view_name": "ProgressView",
            "bar_style": "success",
            "description": "",
            "description_tooltip": null,
            "layout": "IPY_MODEL_dfb615efdbef49f9a0781cbe326ab433",
            "max": 612423,
            "min": 0,
            "orientation": "horizontal",
            "style": "IPY_MODEL_27dda00360ea4fb4abf8de70ba70d853",
            "value": 612423
          }
        },
        "c776df4d2a2b4dc1b8464084652e679a": {
          "model_module": "@jupyter-widgets/controls",
          "model_name": "HTMLModel",
          "model_module_version": "1.5.0",
          "state": {
            "_dom_classes": [],
            "_model_module": "@jupyter-widgets/controls",
            "_model_module_version": "1.5.0",
            "_model_name": "HTMLModel",
            "_view_count": null,
            "_view_module": "@jupyter-widgets/controls",
            "_view_module_version": "1.5.0",
            "_view_name": "HTMLView",
            "description": "",
            "description_tooltip": null,
            "layout": "IPY_MODEL_40f5672fa93e418e930b69c424664c4c",
            "placeholder": "​",
            "style": "IPY_MODEL_0ce0cb3acb774ecbb4d6f37398489e52",
            "value": " 612423/612423 [00:15&lt;00:00, 43310.73it/s]"
          }
        },
        "72091cac785848ca9f016c2dad516b12": {
          "model_module": "@jupyter-widgets/base",
          "model_name": "LayoutModel",
          "model_module_version": "1.2.0",
          "state": {
            "_model_module": "@jupyter-widgets/base",
            "_model_module_version": "1.2.0",
            "_model_name": "LayoutModel",
            "_view_count": null,
            "_view_module": "@jupyter-widgets/base",
            "_view_module_version": "1.2.0",
            "_view_name": "LayoutView",
            "align_content": null,
            "align_items": null,
            "align_self": null,
            "border": null,
            "bottom": null,
            "display": null,
            "flex": null,
            "flex_flow": null,
            "grid_area": null,
            "grid_auto_columns": null,
            "grid_auto_flow": null,
            "grid_auto_rows": null,
            "grid_column": null,
            "grid_gap": null,
            "grid_row": null,
            "grid_template_areas": null,
            "grid_template_columns": null,
            "grid_template_rows": null,
            "height": null,
            "justify_content": null,
            "justify_items": null,
            "left": null,
            "margin": null,
            "max_height": null,
            "max_width": null,
            "min_height": null,
            "min_width": null,
            "object_fit": null,
            "object_position": null,
            "order": null,
            "overflow": null,
            "overflow_x": null,
            "overflow_y": null,
            "padding": null,
            "right": null,
            "top": null,
            "visibility": null,
            "width": null
          }
        },
        "1deda3d66d1d4901871655632812e1bb": {
          "model_module": "@jupyter-widgets/base",
          "model_name": "LayoutModel",
          "model_module_version": "1.2.0",
          "state": {
            "_model_module": "@jupyter-widgets/base",
            "_model_module_version": "1.2.0",
            "_model_name": "LayoutModel",
            "_view_count": null,
            "_view_module": "@jupyter-widgets/base",
            "_view_module_version": "1.2.0",
            "_view_name": "LayoutView",
            "align_content": null,
            "align_items": null,
            "align_self": null,
            "border": null,
            "bottom": null,
            "display": null,
            "flex": null,
            "flex_flow": null,
            "grid_area": null,
            "grid_auto_columns": null,
            "grid_auto_flow": null,
            "grid_auto_rows": null,
            "grid_column": null,
            "grid_gap": null,
            "grid_row": null,
            "grid_template_areas": null,
            "grid_template_columns": null,
            "grid_template_rows": null,
            "height": null,
            "justify_content": null,
            "justify_items": null,
            "left": null,
            "margin": null,
            "max_height": null,
            "max_width": null,
            "min_height": null,
            "min_width": null,
            "object_fit": null,
            "object_position": null,
            "order": null,
            "overflow": null,
            "overflow_x": null,
            "overflow_y": null,
            "padding": null,
            "right": null,
            "top": null,
            "visibility": null,
            "width": null
          }
        },
        "570d153ada504775a5e21f8cc48600b4": {
          "model_module": "@jupyter-widgets/controls",
          "model_name": "DescriptionStyleModel",
          "model_module_version": "1.5.0",
          "state": {
            "_model_module": "@jupyter-widgets/controls",
            "_model_module_version": "1.5.0",
            "_model_name": "DescriptionStyleModel",
            "_view_count": null,
            "_view_module": "@jupyter-widgets/base",
            "_view_module_version": "1.2.0",
            "_view_name": "StyleView",
            "description_width": ""
          }
        },
        "dfb615efdbef49f9a0781cbe326ab433": {
          "model_module": "@jupyter-widgets/base",
          "model_name": "LayoutModel",
          "model_module_version": "1.2.0",
          "state": {
            "_model_module": "@jupyter-widgets/base",
            "_model_module_version": "1.2.0",
            "_model_name": "LayoutModel",
            "_view_count": null,
            "_view_module": "@jupyter-widgets/base",
            "_view_module_version": "1.2.0",
            "_view_name": "LayoutView",
            "align_content": null,
            "align_items": null,
            "align_self": null,
            "border": null,
            "bottom": null,
            "display": null,
            "flex": null,
            "flex_flow": null,
            "grid_area": null,
            "grid_auto_columns": null,
            "grid_auto_flow": null,
            "grid_auto_rows": null,
            "grid_column": null,
            "grid_gap": null,
            "grid_row": null,
            "grid_template_areas": null,
            "grid_template_columns": null,
            "grid_template_rows": null,
            "height": null,
            "justify_content": null,
            "justify_items": null,
            "left": null,
            "margin": null,
            "max_height": null,
            "max_width": null,
            "min_height": null,
            "min_width": null,
            "object_fit": null,
            "object_position": null,
            "order": null,
            "overflow": null,
            "overflow_x": null,
            "overflow_y": null,
            "padding": null,
            "right": null,
            "top": null,
            "visibility": null,
            "width": null
          }
        },
        "27dda00360ea4fb4abf8de70ba70d853": {
          "model_module": "@jupyter-widgets/controls",
          "model_name": "ProgressStyleModel",
          "model_module_version": "1.5.0",
          "state": {
            "_model_module": "@jupyter-widgets/controls",
            "_model_module_version": "1.5.0",
            "_model_name": "ProgressStyleModel",
            "_view_count": null,
            "_view_module": "@jupyter-widgets/base",
            "_view_module_version": "1.2.0",
            "_view_name": "StyleView",
            "bar_color": null,
            "description_width": ""
          }
        },
        "40f5672fa93e418e930b69c424664c4c": {
          "model_module": "@jupyter-widgets/base",
          "model_name": "LayoutModel",
          "model_module_version": "1.2.0",
          "state": {
            "_model_module": "@jupyter-widgets/base",
            "_model_module_version": "1.2.0",
            "_model_name": "LayoutModel",
            "_view_count": null,
            "_view_module": "@jupyter-widgets/base",
            "_view_module_version": "1.2.0",
            "_view_name": "LayoutView",
            "align_content": null,
            "align_items": null,
            "align_self": null,
            "border": null,
            "bottom": null,
            "display": null,
            "flex": null,
            "flex_flow": null,
            "grid_area": null,
            "grid_auto_columns": null,
            "grid_auto_flow": null,
            "grid_auto_rows": null,
            "grid_column": null,
            "grid_gap": null,
            "grid_row": null,
            "grid_template_areas": null,
            "grid_template_columns": null,
            "grid_template_rows": null,
            "height": null,
            "justify_content": null,
            "justify_items": null,
            "left": null,
            "margin": null,
            "max_height": null,
            "max_width": null,
            "min_height": null,
            "min_width": null,
            "object_fit": null,
            "object_position": null,
            "order": null,
            "overflow": null,
            "overflow_x": null,
            "overflow_y": null,
            "padding": null,
            "right": null,
            "top": null,
            "visibility": null,
            "width": null
          }
        },
        "0ce0cb3acb774ecbb4d6f37398489e52": {
          "model_module": "@jupyter-widgets/controls",
          "model_name": "DescriptionStyleModel",
          "model_module_version": "1.5.0",
          "state": {
            "_model_module": "@jupyter-widgets/controls",
            "_model_module_version": "1.5.0",
            "_model_name": "DescriptionStyleModel",
            "_view_count": null,
            "_view_module": "@jupyter-widgets/base",
            "_view_module_version": "1.2.0",
            "_view_name": "StyleView",
            "description_width": ""
          }
        }
      }
    }
  },
  "nbformat": 4,
  "nbformat_minor": 0
}