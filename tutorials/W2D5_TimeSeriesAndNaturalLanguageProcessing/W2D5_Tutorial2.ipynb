{
  "cells": [
    {
      "cell_type": "markdown",
      "metadata": {
        "id": "view-in-github",
        "colab_type": "text"
      },
      "source": [
        "<a href=\"https://colab.research.google.com/github/NeuromatchAcademy/course-content-dl/blob/fix-links-w2/tutorials/W2D5_TimeSeriesAndNaturalLanguageProcessing/W2D5_Tutorial2.ipynb\" target=\"_parent\"><img src=\"https://colab.research.google.com/assets/colab-badge.svg\" alt=\"Open In Colab\"/></a>"
      ]
    },
    {
      "cell_type": "markdown",
      "metadata": {
        "execution": {},
        "id": "4LzuLPM3kV1t"
      },
      "source": [
        "# Tutorial 2: Time series for Language\n",
        "\n",
        "**Week 2, Day 5: Time Series And Natural Language Processing**\n",
        "\n",
        "**By Neuromatch Academy**\n",
        "\n",
        "__Content creators:__ Lyle Ungar, Kelson Shilling-Scrivo, Alish Dipani\n",
        "\n",
        "__Content reviewers:__ Kelson Shilling-Scrivo \n",
        "\n",
        "__Content editors:__ Kelson Shilling-Scrivo\n",
        "\n",
        "__Production editors:__ Spiros Chavlis\n",
        "\n",
        "<br>\n",
        "\n",
        "_Based on Content from: Anushree Hede, Pooja Consul, Ann-Katrin Reuel_"
      ]
    },
    {
      "cell_type": "markdown",
      "metadata": {
        "execution": {},
        "id": "NrjK7hwwkV1y"
      },
      "source": [
        "<p align='center'><img src='https://github.com/NeuromatchAcademy/widgets/blob/master/sponsors.png?raw=True'/></p>"
      ]
    },
    {
      "cell_type": "markdown",
      "metadata": {
        "execution": {},
        "id": "VOJcM6AvkV1z"
      },
      "source": [
        "----\n",
        "# Tutorial objectives\n",
        "\n",
        "Before we begin with exploring how RNNs excel at modelling sequences, we will explore some of the other ways we can model sequences, encode text, and make meaningful measurements using such encodings and embeddings. "
      ]
    },
    {
      "cell_type": "code",
      "execution_count": 1,
      "metadata": {
        "cellView": "form",
        "execution": {},
        "id": "rCRhVrvakV10",
        "outputId": "8e81d049-63c8-436b-bd67-8ee389b51eab",
        "colab": {
          "base_uri": "https://localhost:8080/",
          "height": 503
        }
      },
      "outputs": [
        {
          "output_type": "execute_result",
          "data": {
            "text/plain": [
              "<IPython.lib.display.IFrame at 0x7f96c530b7d0>"
            ],
            "text/html": [
              "\n",
              "        <iframe\n",
              "            width=\"854\"\n",
              "            height=\"480\"\n",
              "            src=\"https://mfr.ca-1.osf.io/render?url=https://osf.io/n263c/?direct%26mode=render%26action=download%26mode=render\"\n",
              "            frameborder=\"0\"\n",
              "            allowfullscreen\n",
              "        ></iframe>\n",
              "        "
            ]
          },
          "metadata": {},
          "execution_count": 1
        }
      ],
      "source": [
        "# @title Tutorial slides\n",
        "\n",
        "from IPython.display import IFrame\n",
        "IFrame(src=\"https://mfr.ca-1.osf.io/render?url=https://osf.io/n263c/?direct%26mode=render%26action=download%26mode=render\", width=854, height=480)"
      ]
    },
    {
      "cell_type": "markdown",
      "metadata": {
        "execution": {},
        "id": "ztLTQTNWkV12"
      },
      "source": [
        "These are the slides for the videos in this tutorial. If you want to locally download the slides, click [here](https://osf.io/n263c/download)."
      ]
    },
    {
      "cell_type": "markdown",
      "metadata": {
        "execution": {},
        "id": "v5TjDOF4kV13"
      },
      "source": [
        "---\n",
        "## Setup"
      ]
    },
    {
      "cell_type": "code",
      "execution_count": 2,
      "metadata": {
        "cellView": "form",
        "execution": {},
        "id": "lcYbg_99kV14",
        "outputId": "fa95ab74-0de9-4410-dfde-fdbacb6b6a70",
        "colab": {
          "base_uri": "https://localhost:8080/"
        }
      },
      "outputs": [
        {
          "output_type": "stream",
          "name": "stdout",
          "text": [
            "\u001b[K     |█████████████▌                  | 834.1 MB 1.3 MB/s eta 0:14:15tcmalloc: large alloc 1147494400 bytes == 0x3aa1a000 @  0x7f5087a97615 0x592b76 0x4df71e 0x59afff 0x515655 0x549576 0x593fce 0x548ae9 0x51566f 0x549576 0x593fce 0x548ae9 0x5127f1 0x598e3b 0x511f68 0x598e3b 0x511f68 0x598e3b 0x511f68 0x4bc98a 0x532e76 0x594b72 0x515600 0x549576 0x593fce 0x548ae9 0x5127f1 0x549576 0x593fce 0x5118f8 0x593dd7\n",
            "\u001b[K     |█████████████████               | 1055.7 MB 1.2 MB/s eta 0:12:26tcmalloc: large alloc 1434370048 bytes == 0x7f070000 @  0x7f5087a97615 0x592b76 0x4df71e 0x59afff 0x515655 0x549576 0x593fce 0x548ae9 0x51566f 0x549576 0x593fce 0x548ae9 0x5127f1 0x598e3b 0x511f68 0x598e3b 0x511f68 0x598e3b 0x511f68 0x4bc98a 0x532e76 0x594b72 0x515600 0x549576 0x593fce 0x548ae9 0x5127f1 0x549576 0x593fce 0x5118f8 0x593dd7\n",
            "\u001b[K     |█████████████████████▋          | 1336.2 MB 1.3 MB/s eta 0:08:36tcmalloc: large alloc 1792966656 bytes == 0x3ea2000 @  0x7f5087a97615 0x592b76 0x4df71e 0x59afff 0x515655 0x549576 0x593fce 0x548ae9 0x51566f 0x549576 0x593fce 0x548ae9 0x5127f1 0x598e3b 0x511f68 0x598e3b 0x511f68 0x598e3b 0x511f68 0x4bc98a 0x532e76 0x594b72 0x515600 0x549576 0x593fce 0x548ae9 0x5127f1 0x549576 0x593fce 0x5118f8 0x593dd7\n",
            "\u001b[K     |███████████████████████████▎    | 1691.1 MB 1.2 MB/s eta 0:04:05tcmalloc: large alloc 2241208320 bytes == 0x6ec8a000 @  0x7f5087a97615 0x592b76 0x4df71e 0x59afff 0x515655 0x549576 0x593fce 0x548ae9 0x51566f 0x549576 0x593fce 0x548ae9 0x5127f1 0x598e3b 0x511f68 0x598e3b 0x511f68 0x598e3b 0x511f68 0x4bc98a 0x532e76 0x594b72 0x515600 0x549576 0x593fce 0x548ae9 0x5127f1 0x549576 0x593fce 0x5118f8 0x593dd7\n",
            "\u001b[K     |████████████████████████████████| 1982.2 MB 1.2 MB/s eta 0:00:01tcmalloc: large alloc 1982251008 bytes == 0xf45ec000 @  0x7f5087a961e7 0x4a3940 0x4a39cc 0x592b76 0x4df71e 0x59afff 0x515655 0x549576 0x593fce 0x511e2c 0x549576 0x593fce 0x511e2c 0x549576 0x593fce 0x511e2c 0x549576 0x593fce 0x511e2c 0x549576 0x593fce 0x511e2c 0x593dd7 0x511e2c 0x549576 0x593fce 0x548ae9 0x5127f1 0x549576 0x593fce 0x548ae9\n",
            "tcmalloc: large alloc 2477817856 bytes == 0x16a858000 @  0x7f5087a97615 0x592b76 0x4df71e 0x59afff 0x515655 0x549576 0x593fce 0x511e2c 0x549576 0x593fce 0x511e2c 0x549576 0x593fce 0x511e2c 0x549576 0x593fce 0x511e2c 0x549576 0x593fce 0x511e2c 0x593dd7 0x511e2c 0x549576 0x593fce 0x548ae9 0x5127f1 0x549576 0x593fce 0x548ae9 0x5127f1 0x549576\n",
            "\u001b[K     |████████████████████████████████| 1982.2 MB 5.3 kB/s \n",
            "\u001b[K     |████████████████████████████████| 17.6 MB 31 kB/s \n",
            "\u001b[K     |████████████████████████████████| 1.9 MB 5.1 MB/s \n",
            "\u001b[K     |████████████████████████████████| 7.1 MB 22.0 MB/s \n",
            "\u001b[K     |████████████████████████████████| 235 kB 5.1 MB/s \n",
            "\u001b[K     |████████████████████████████████| 77 kB 3.7 MB/s \n",
            "\u001b[K     |████████████████████████████████| 50 kB 3.1 MB/s \n",
            "\u001b[?25h  Building wheel for python-Levenshtein (setup.py) ... \u001b[?25l\u001b[?25hdone\n",
            "  Building wheel for evaltools (setup.py) ... \u001b[?25l\u001b[?25hdone\n"
          ]
        }
      ],
      "source": [
        "# @title Install dependencies\n",
        "\n",
        "# @markdown There may be *errors* and/or *warnings* reported during the installation. However, they are to be ignored.\n",
        "!pip install torch==1.8.0+cu111 torchvision==0.9.0+cu111 torchaudio==0.8.0 torchtext==0.9.0 -f https://download.pytorch.org/whl/torch_stable.html --quiet\n",
        "!pip install unidecode --quiet\n",
        "!pip install nltk --quiet\n",
        "!pip install d2l==0.16.5 --quiet\n",
        "!pip install python-Levenshtein --quiet\n",
        "\n",
        "!pip install git+https://github.com/NeuromatchAcademy/evaltools --quiet\n",
        "\n",
        "from evaltools.airtable import AirtableForm\n",
        "atform = AirtableForm('appn7VdPRseSoMXEG','W2D5_T2','https://portal.neuromatchacademy.org/api/redirect/to/b4d16463-cbc0-4a8c-b0b6-1cbaa428ee7c')"
      ]
    },
    {
      "cell_type": "code",
      "execution_count": 3,
      "metadata": {
        "execution": {},
        "id": "CQrC2GWTkV16"
      },
      "outputs": [],
      "source": [
        "# Imports\n",
        "\n",
        "import re\n",
        "import math\n",
        "import time\n",
        "import nltk\n",
        "import torch\n",
        "import random\n",
        "import string\n",
        "import unidecode\n",
        "import collections\n",
        "\n",
        "import numpy as np\n",
        "import matplotlib.pyplot as plt\n",
        "\n",
        "import torch.nn as nn\n",
        "from torch.autograd import Variable\n",
        "\n",
        "from torchtext.legacy import data, datasets\n",
        "\n",
        "from d2l import torch as d2l"
      ]
    },
    {
      "cell_type": "code",
      "execution_count": 4,
      "metadata": {
        "cellView": "form",
        "execution": {},
        "id": "SaR5CBMzkV17"
      },
      "outputs": [],
      "source": [
        "# @title Figure Settings\n",
        "import ipywidgets as widgets\n",
        "%matplotlib inline\n",
        "%config InlineBackend.figure_format = 'retina'\n",
        "plt.style.use(\"https://raw.githubusercontent.com/NeuromatchAcademy/content-creation/main/nma.mplstyle\")"
      ]
    },
    {
      "cell_type": "code",
      "execution_count": 5,
      "metadata": {
        "cellView": "form",
        "execution": {},
        "id": "O1D8W0cHkV18",
        "outputId": "c4671f1f-744e-4e35-fb51-51cb7037f481",
        "colab": {
          "base_uri": "https://localhost:8080/"
        }
      },
      "outputs": [
        {
          "output_type": "stream",
          "name": "stderr",
          "text": [
            "[nltk_data] Downloading package punkt to /root/nltk_data...\n",
            "[nltk_data]   Unzipping tokenizers/punkt.zip.\n"
          ]
        },
        {
          "output_type": "execute_result",
          "data": {
            "text/plain": [
              "True"
            ]
          },
          "metadata": {},
          "execution_count": 5
        }
      ],
      "source": [
        "# @title  Load Dataset from `nltk`\n",
        "# No critical warnings, so we suppress it\n",
        "import warnings\n",
        "warnings.simplefilter(\"ignore\")\n",
        "\n",
        "nltk.download('punkt')"
      ]
    },
    {
      "cell_type": "code",
      "execution_count": 6,
      "metadata": {
        "cellView": "form",
        "execution": {},
        "id": "bzZ81UcvkV19"
      },
      "outputs": [],
      "source": [
        "# @title Set random seed\n",
        "\n",
        "# @markdown Executing `set_seed(seed=seed)` you are setting the seed\n",
        "\n",
        "# For DL its critical to set the random seed so that students can have a\n",
        "# baseline to compare their results to expected results.\n",
        "# Read more here: https://pytorch.org/docs/stable/notes/randomness.html\n",
        "\n",
        "# Call `set_seed` function in the exercises to ensure reproducibility.\n",
        "import random\n",
        "import torch\n",
        "\n",
        "def set_seed(seed=None, seed_torch=True):\n",
        "  \"\"\"\n",
        "  Function that controls randomness.\n",
        "  NumPy and random modules must be imported.\n",
        "\n",
        "  Args:\n",
        "    seed : Integer\n",
        "      A non-negative integer that defines the random state. Default is `None`.\n",
        "    seed_torch : Boolean\n",
        "      If `True` sets the random seed for pytorch tensors, so pytorch module\n",
        "      must be imported. Default is `True`.\n",
        "\n",
        "  Returns:\n",
        "    Nothing.\n",
        "  \"\"\"\n",
        "  if seed is None:\n",
        "    seed = np.random.choice(2 ** 32)\n",
        "  random.seed(seed)\n",
        "  np.random.seed(seed)\n",
        "  if seed_torch:\n",
        "    torch.manual_seed(seed)\n",
        "    torch.cuda.manual_seed_all(seed)\n",
        "    torch.cuda.manual_seed(seed)\n",
        "    torch.backends.cudnn.benchmark = False\n",
        "    torch.backends.cudnn.deterministic = True\n",
        "\n",
        "  print(f'Random seed {seed} has been set.')\n",
        "\n",
        "# In case that `DataLoader` is used\n",
        "def seed_worker(worker_id):\n",
        "  \"\"\"\n",
        "  DataLoader will reseed workers following randomness in\n",
        "  multi-process data loading algorithm.\n",
        "\n",
        "  Args:\n",
        "    worker_id: integer\n",
        "      ID of subprocess to seed. 0 means that\n",
        "      the data will be loaded in the main process\n",
        "      Refer: https://pytorch.org/docs/stable/data.html#data-loading-randomness for more details\n",
        "\n",
        "  Returns:\n",
        "    Nothing\n",
        "  \"\"\"\n",
        "  worker_seed = torch.initial_seed() % 2**32\n",
        "  np.random.seed(worker_seed)\n",
        "  random.seed(worker_seed)"
      ]
    },
    {
      "cell_type": "code",
      "execution_count": 7,
      "metadata": {
        "cellView": "form",
        "execution": {},
        "id": "hkn1jdg3kV1_"
      },
      "outputs": [],
      "source": [
        "# @title Set device (GPU or CPU). Execute `set_device()`\n",
        "\n",
        "# Inform the user if the notebook uses GPU or CPU.\n",
        "\n",
        "def set_device():\n",
        "  \"\"\"\n",
        "  Set the device. CUDA if available, CPU otherwise\n",
        "\n",
        "  Args:\n",
        "    None\n",
        "\n",
        "  Returns:\n",
        "    Nothing\n",
        "  \"\"\"\n",
        "  device = \"cuda\" if torch.cuda.is_available() else \"cpu\"\n",
        "  if device != \"cuda\":\n",
        "    print(\"WARNING: For this notebook to perform best, \"\n",
        "        \"if possible, in the menu under `Runtime` -> \"\n",
        "        \"`Change runtime type.`  select `GPU` \")\n",
        "  else:\n",
        "    print(\"GPU is enabled in this notebook.\")\n",
        "\n",
        "  return device"
      ]
    },
    {
      "cell_type": "code",
      "execution_count": 8,
      "metadata": {
        "execution": {},
        "id": "LLq2PjRQkV2A",
        "outputId": "5c0011ed-e06b-4d23-f2c8-bf7f32666ed8",
        "colab": {
          "base_uri": "https://localhost:8080/"
        }
      },
      "outputs": [
        {
          "output_type": "stream",
          "name": "stdout",
          "text": [
            "GPU is enabled in this notebook.\n",
            "Random seed 2021 has been set.\n"
          ]
        }
      ],
      "source": [
        "DEVICE = set_device()\n",
        "SEED = 2021\n",
        "set_seed(seed=SEED)"
      ]
    },
    {
      "cell_type": "markdown",
      "metadata": {
        "execution": {},
        "id": "kQtMHaq0kV2B"
      },
      "source": [
        "# Section 1: Recurrent Neural Networks (RNNs)\n",
        "\n",
        "*Time estimate: ~?mins*"
      ]
    },
    {
      "cell_type": "markdown",
      "metadata": {
        "execution": {},
        "id": "WGyPHLQSkV2B"
      },
      "source": [
        "## Section 1.1: Introduction"
      ]
    },
    {
      "cell_type": "code",
      "execution_count": 9,
      "metadata": {
        "cellView": "form",
        "execution": {},
        "id": "rZfrjV8hkV2C",
        "outputId": "0aa464b9-380a-4d64-ff1d-8d98c7c8182d",
        "colab": {
          "base_uri": "https://localhost:8080/",
          "height": 582,
          "referenced_widgets": [
            "9e9579091832438a84d34bcdce2a4bd9",
            "a0af4737b6984ea5839e4b577cf9958a",
            "87841979dada4ff4aa55f03fdf04994c",
            "969f4084717b4a72ae8bc777a38b70c8",
            "8e933e7db4944d75a5c714c88f830b54",
            "b6818e471a8c4cb897f37867239151d8"
          ]
        }
      },
      "outputs": [
        {
          "output_type": "display_data",
          "data": {
            "text/plain": [
              "Tab(children=(Output(), Output()), _titles={'0': 'Youtube', '1': 'Bilibili'})"
            ],
            "application/vnd.jupyter.widget-view+json": {
              "version_major": 2,
              "version_minor": 0,
              "model_id": "9e9579091832438a84d34bcdce2a4bd9"
            }
          },
          "metadata": {}
        }
      ],
      "source": [
        "# @title Video 1: RNNs\n",
        "from ipywidgets import widgets\n",
        "\n",
        "out2 = widgets.Output()\n",
        "with out2:\n",
        "  from IPython.display import IFrame\n",
        "  class BiliVideo(IFrame):\n",
        "    def __init__(self, id, page=1, width=400, height=300, **kwargs):\n",
        "      self.id=id\n",
        "      src = \"https://player.bilibili.com/player.html?bvid={0}&page={1}\".format(id, page)\n",
        "      super(BiliVideo, self).__init__(src, width, height, **kwargs)\n",
        "\n",
        "  video = BiliVideo(id=\"\", width=854, height=480, fs=1)\n",
        "  print(\"Video available at https://www.bilibili.com/video/{0}\".format(video.id))\n",
        "  display(video)\n",
        "\n",
        "out1 = widgets.Output()\n",
        "with out1:\n",
        "  from IPython.display import YouTubeVideo\n",
        "  video = YouTubeVideo(id=\"LSMPdQvkXuk\", width=854, height=480, fs=1, rel=0)\n",
        "  print(\"Video available at https://youtube.com/watch?v=\" + video.id)\n",
        "  display(video)\n",
        "\n",
        "out = widgets.Tab([out1, out2])\n",
        "out.set_title(0, 'Youtube')\n",
        "out.set_title(1, 'Bilibili')\n",
        "\n",
        "# Add event to airtable\n",
        "atform.add_event('Video 1: RNNs')\n",
        "\n",
        "display(out)"
      ]
    },
    {
      "cell_type": "markdown",
      "metadata": {
        "execution": {},
        "id": "fGtDeyjekV2C"
      },
      "source": [
        "Recurrent neural networks, or RNNs , are a family of neural networks for processing sequential data. Just as a convolutional network is specialized for processing a grid of values X such as an image, a recurrent neural network is specialized for processing a sequence of values. RNNs prove useful in many scenarios where other deep learning models are not effective.\n",
        "\n",
        "* Not all problems can be converted into one with fixed length inputs and outputs.\n",
        "\n",
        "\n",
        "* The deep learning models we have seen so far pick samples randomly. This might not be the best strategy for a task of understanding meaning from a piece of text. Words in a text occur in a sequence and therefore cannot be permuted randomly to get the meaning. \n"
      ]
    },
    {
      "cell_type": "markdown",
      "metadata": {
        "execution": {},
        "id": "w6nJcW_1kV2D"
      },
      "source": [
        "A related idea is the use of convolution across a 1-D temporal sequence. The convolution operation allows a network to share parameters across time but is shallow. The output of convolution is a sequence where each output is a function of a small number of neighboring inputs. The idea of parameter sharing manifests in the application of the same convolution kernel at each time step. Recurrent networks share parameters in a diﬀerent way. Each output is a function of the previous hidden layer, always produced using the same model, with the same weights. This recurrent formulation results in the sharing of parameters through a very deep computational graph.\n",
        "\n"
      ]
    },
    {
      "cell_type": "code",
      "execution_count": 10,
      "metadata": {
        "cellView": "form",
        "execution": {},
        "id": "HLFnRwcgkV2E",
        "outputId": "661f2b18-1597-45f2-dbd8-3ba119102490",
        "colab": {
          "base_uri": "https://localhost:8080/",
          "height": 582,
          "referenced_widgets": [
            "b13b2e3fc8ec469dae5eb0dc92456615",
            "0876e0d8a62447a7af4118e7242247bd",
            "3986dbddf6354fb8a46e3afceb5634d1",
            "77272d35570d484e8df17f65c093cf71",
            "99b15bc733624b1bbf33e1e73f16db86",
            "f3187a3e305443f39be3add77e9c3003"
          ]
        }
      },
      "outputs": [
        {
          "output_type": "display_data",
          "data": {
            "text/plain": [
              "Tab(children=(Output(), Output()), _titles={'0': 'Youtube', '1': 'Bilibili'})"
            ],
            "application/vnd.jupyter.widget-view+json": {
              "version_major": 2,
              "version_minor": 0,
              "model_id": "b13b2e3fc8ec469dae5eb0dc92456615"
            }
          },
          "metadata": {}
        }
      ],
      "source": [
        "# @title Video 2: RNN: Basic Architectures\n",
        "from ipywidgets import widgets\n",
        "\n",
        "out2 = widgets.Output()\n",
        "with out2:\n",
        "  from IPython.display import IFrame\n",
        "  class BiliVideo(IFrame):\n",
        "    def __init__(self, id, page=1, width=400, height=300, **kwargs):\n",
        "      self.id=id\n",
        "      src = \"https://player.bilibili.com/player.html?bvid={0}&page={1}\".format(id, page)\n",
        "      super(BiliVideo, self).__init__(src, width, height, **kwargs)\n",
        "\n",
        "  video = BiliVideo(id=\"\", width=854, height=480, fs=1)\n",
        "  print(\"Video available at https://www.bilibili.com/video/{0}\".format(video.id))\n",
        "  display(video)\n",
        "\n",
        "out1 = widgets.Output()\n",
        "with out1:\n",
        "  from IPython.display import YouTubeVideo\n",
        "  video = YouTubeVideo(id=\"T2jzzdSVJI0\", width=854, height=480, fs=1, rel=0)\n",
        "  print(\"Video available at https://youtube.com/watch?v=\" + video.id)\n",
        "  display(video)\n",
        "\n",
        "out = widgets.Tab([out1, out2])\n",
        "out.set_title(0, 'Youtube')\n",
        "out.set_title(1, 'Bilibili')\n",
        "\n",
        "# Add event to airtable\n",
        "atform.add_event('Video 2: RNNs: Basic Architectures')\n",
        "\n",
        "display(out)"
      ]
    },
    {
      "cell_type": "markdown",
      "metadata": {
        "execution": {},
        "id": "NZuh5zZXkV2E"
      },
      "source": [
        "The following provides more data than the video (but can be skipped for now). For more detail, see the sources, the [deep learning book](https://www.deeplearningbook.org/contents/rnn.html), and [d2l.ai](https://d2l.ai/chapter_recurrent-neural-networks/rnn.html)\n",
        "\n",
        "When the recurrent network is trained to perform a task that requires predicting the future from the past, the network typically learns to use a hidden state at time step $t$, $H_t$ as a kind of lossy summary of the task-relevant aspects of the past sequence of inputs up to $t$. This summary is in general necessarily lossy, since it maps an arbitrary length sequence $(X_t, X_{t-1}, X_{t-2}, \\dots , X_{2}, X_{1})$ to a ﬁxed length vector $H_t$.\n",
        "\n",
        "We can represent the unfolded recurrence after $t$ steps with a function $G_t$:\n",
        "\n",
        "\\begin{equation}\n",
        "H_t=G_t(X_t, X_{t-1}, X_{t-2}, \\dots , X_{2}, X_{1})=f(H_{t−1}, X_{t}; \\theta)\n",
        "\\end{equation}\n",
        "\n",
        "<br>\n",
        "\n",
        "<img width=700 src=\"https://blog.floydhub.com/content/images/2019/04/rnn-2.gif\"> \n",
        "\n",
        "<br>\n",
        "\n",
        "The function $g_t$ takes the whole past sequence $(X_t, X_{t-1}, X_{t-2}, \\dots , X_{2}, X_{1})$ as input and produces the current state, but the unfolded recurrent structure allows us to factorize $g_t$ into repeated application of a function f. The unfolding process thus introduces two major advantages:\n",
        "\n",
        "* Regardless of the sequence length, the learned model always has the same input size, because it is speciﬁed in terms of transition from one state to another state, rather than speciﬁed in terms of a variable-length history of states.\n",
        "\n",
        "* It is possible to use the same transition function $f$ with the same parameters at every time step.\n",
        "\n",
        "\n",
        "We will now formally write down the equations of a recurrent unit-\n",
        "\n",
        "\n",
        "Assume that we have a minibatch of inputs $X_t \\in R^{nxd}$ at time step $t$ . In other words, for a minibatch of $n$ sequence examples, each row of $X_t$  corresponds to one example at time step $t$ from the sequence. Next, we denote by $H_t \\in R^{nxh}$ the hidden variable of time step $t$. Unlike the MLP, here we save the hidden variable $H_{t-1}$ from the previous time step and introduce a new weight parameter $W_{hh} \\in R^{hxh}$ to describe how to use the hidden variable of the previous time step in the current time step. Specifically, the calculation of the hidden variable of the current time step is determined by the input of the current time step together with the hidden variable of the previous time step:\n",
        "\n",
        "\\begin{equation}\n",
        "H_t = \\phi(X_t W_{xh} + H_{t-1}W_{hh} + b_h)\n",
        "\\end{equation}\n",
        "\n",
        "For time step $t$, the output of the output layer is similar to the computation in the MLP:\n",
        "\n",
        "\\begin{equation}\n",
        "O_t = H_t W_{hq} + b_q\n",
        "\\end{equation}\n",
        " \n",
        "Parameters of the RNN include the weights $W_{xh} \\in R^{dxh}, W_{hh} \\in R^{h \\times h}$ , and the bias $b_h \\in R^{1 \\times h}$ of the hidden layer, together with the weights $W_{hq} \\in R^{h \\times q}$ and the bias $b_q \\in R^{1 \\times q}$ of the output layer. It is worth mentioning that even at different time steps, RNNs always use these model parameters. Therefore, the parameterization cost of an RNN does not grow as the number of time steps increases.\n",
        "\n",
        "<br>\n",
        "\n",
        "<img width=700 align=\"center\" src=\"https://d2l.ai/_images/rnn.svg\">"
      ]
    },
    {
      "cell_type": "markdown",
      "metadata": {
        "execution": {},
        "id": "12KKJn99kV2G"
      },
      "source": [
        "### Dataset"
      ]
    },
    {
      "cell_type": "markdown",
      "metadata": {
        "execution": {},
        "id": "UbHALseAkV2G"
      },
      "source": [
        "We will use the IMDB dataset from <insert link>, which consists of a set of 25,000 highly polar movie reviews for training, and 25,000 for testing. We will use torchtext to download the dataset and prepare it for training, validation and testing. Our goal is to build a model that performs binary classification between positive and negative movie reviews.\n",
        "\n",
        "We use `fix_length` argument to pad sentences of length less than `sentence_length` or truncate sentences of length greater than `sentence_length`. "
      ]
    },
    {
      "cell_type": "code",
      "execution_count": 11,
      "metadata": {
        "cellView": "form",
        "execution": {},
        "id": "5VSDbQ0xkV2G"
      },
      "outputs": [],
      "source": [
        "# @title Load dataset function\n",
        "\n",
        "def download_osf():\n",
        "  # Download IMDB dataset from OSF\n",
        "  import tarfile, requests, os\n",
        "  url = \"https://osf.io/dvse9/download\"\n",
        "  fname = \"aclImdb_v1.tar.gz\"\n",
        "\n",
        "  print('Downloading Started...')\n",
        "  # Downloading the file by sending the request to the URL\n",
        "  r = requests.get(url, stream=True)\n",
        "\n",
        "  # Writing the file to the local file system\n",
        "  with open(fname, 'wb') as f:\n",
        "    f.write(r.content)\n",
        "  print('Downloading Completed.')\n",
        "\n",
        "  with tarfile.open(fname) as f:\n",
        "    # extracting all the files\n",
        "    print('Extracting all the files now...')\n",
        "    f.extractall('.data/imdb')  # specify which folder to extract to\n",
        "    print('Done!')\n",
        "    os.remove(fname)\n",
        "\n",
        "\n",
        "def load_dataset(sentence_length=50, batch_size=32, seed=2021):\n",
        "  \"\"\"\n",
        "  Dataset Loader\n",
        "\n",
        "  Args:\n",
        "    sentence_length: int\n",
        "      Length of sentence\n",
        "    seed: int\n",
        "      Set seed for reproducibility\n",
        "    batch_size: int\n",
        "      Batch size\n",
        "\n",
        "  Returns:\n",
        "    TEXT: Field instance\n",
        "      Text\n",
        "    vocab_size: int\n",
        "      Specifies size of TEXT\n",
        "    train_iter: BucketIterator\n",
        "      Training iterator\n",
        "    valid_iter: BucketIterator\n",
        "      Validation iterator\n",
        "    test_iter: BucketIterator\n",
        "      Test iterator\n",
        "  \"\"\"\n",
        "  download_osf()\n",
        "  TEXT = data.Field(sequential=True,\n",
        "                    tokenize=nltk.word_tokenize,\n",
        "                    lower=True,\n",
        "                    include_lengths=True,\n",
        "                    batch_first=True,\n",
        "                    fix_length=sentence_length)\n",
        "  LABEL = data.LabelField(dtype=torch.float)\n",
        "\n",
        "  train_data, test_data = datasets.IMDB.splits(TEXT, LABEL)\n",
        "\n",
        "  # If no specific vector embeddings are specified,\n",
        "  # Torchtext initializes random vector embeddings\n",
        "  # which would get updated during training through backpropagation.\n",
        "  TEXT.build_vocab(train_data)\n",
        "  LABEL.build_vocab(train_data)\n",
        "\n",
        "  train_data, valid_data = train_data.split(split_ratio=0.7,\n",
        "                                            random_state=random.seed(seed))\n",
        "  train_iter, valid_iter, test_iter = data.BucketIterator.splits((train_data, valid_data, test_data),\n",
        "                                                                  batch_size=batch_size, sort_key=lambda x: len(x.text),\n",
        "                                                                  repeat=False, shuffle=True)\n",
        "  vocab_size = len(TEXT.vocab)\n",
        "\n",
        "  print(f\"Data loading is completed. Sentence length: {sentence_length}, \"\n",
        "        f\"Batch size: {batch_size}, and seed: {seed}\")\n",
        "\n",
        "  return TEXT, vocab_size, train_iter, valid_iter, test_iter"
      ]
    },
    {
      "cell_type": "markdown",
      "metadata": {
        "execution": {},
        "id": "gYYEVr2-kV2I"
      },
      "source": [
        "The cell below can take 15-30 secs to run."
      ]
    },
    {
      "cell_type": "code",
      "execution_count": 12,
      "metadata": {
        "execution": {},
        "id": "mqEWuY3ekV2I",
        "outputId": "340160ef-ca3a-4341-bf4a-ee249a197139",
        "colab": {
          "base_uri": "https://localhost:8080/"
        }
      },
      "outputs": [
        {
          "output_type": "stream",
          "name": "stdout",
          "text": [
            "Downloading Started...\n",
            "Downloading Completed.\n",
            "Extracting all the files now...\n",
            "Done!\n",
            "Data loading is completed. Sentence length: 50, Batch size: 32, and seed: 2021\n"
          ]
        }
      ],
      "source": [
        "TEXT, vocab_size, train_iter, valid_iter, test_iter = load_dataset(seed=SEED)"
      ]
    },
    {
      "cell_type": "markdown",
      "metadata": {
        "execution": {},
        "id": "LEOdDgZ5kV2J"
      },
      "source": [
        "Let's see what the data looks like. The words in the reviews are tokenized using the NLTK `word_tokenize` function.  "
      ]
    },
    {
      "cell_type": "code",
      "execution_count": 13,
      "metadata": {
        "cellView": "form",
        "execution": {},
        "id": "5Un5YFWkkV2N",
        "outputId": "947b7f76-c2ed-4ff1-a7c2-0e6ad947f7a9",
        "colab": {
          "base_uri": "https://localhost:8080/"
        }
      },
      "outputs": [
        {
          "output_type": "stream",
          "name": "stdout",
          "text": [
            "Review:  big splashy film of the broadway music . nathan ( frank sinatra ) loves to roll the dice and organize illegal crap games . blonde loving adelaide ( vivian blaine ) wants to marry him if he gives up craps . he decides on one last game when sky masterson\n",
            "Label:  1 \n",
            "\n",
            "Review:  grey gardens is a world unto itself . edith and little edie live in near total isolation , eating ice cream and liver pate in a makeshift kitchen in their ( apparently ) shared bedroom . cats loll about while mother edith insults her daughter 's elocution . this is\n",
            "Label:  1 \n",
            "\n",
            "Review:  if you enjoy the subtle ( yes , i said subtle ) actions and reactions of john candy , you ca n't help but like this film ( pronounced `` fillum '' by salvatore dipasquale ) . the unobservant ( and uninformed ) watcher always saw candy as a broad\n",
            "Label:  1 \n",
            "\n",
            "Review:  i will probably always go to see a woody alleb movie , as one never knows when he just might make a real return to his past greatness . just one or two great moments or lines could make it worthwhile . sadly however this film just does'nt make it\n",
            "Label:  0 \n",
            "\n",
            "Review:  terrible acting , lame plot , stupid story and just all around terrible movie sums up this piece of junk . it was excruciating to sit through . just awful . do not waste one penny on this . the movie theaters should feel bad about actually putting this movie\n",
            "Label:  0 \n",
            "\n",
            "[0: Negative Review, 1: Positive Review]\n"
          ]
        }
      ],
      "source": [
        "# @title Explore Dataset\n",
        "\n",
        "def text_from_dict(arr, dictionary):\n",
        "  text = []\n",
        "  for element in arr:\n",
        "    text.append(dictionary[element])\n",
        "  return text\n",
        "\n",
        "\n",
        "for idx, batch in enumerate(train_iter):\n",
        "  text = batch.text[0]\n",
        "  target = batch.label\n",
        "\n",
        "  for itr in range(25,30):\n",
        "    print('Review: ', ' '.join(text_from_dict(text[itr], TEXT.vocab.itos)))\n",
        "    print('Label: ', int(target[itr].item()), '\\n')\n",
        "\n",
        "  print('[0: Negative Review, 1: Positive Review]')\n",
        "  if idx == 0:\n",
        "    break"
      ]
    },
    {
      "cell_type": "code",
      "execution_count": 14,
      "metadata": {
        "cellView": "form",
        "execution": {},
        "id": "YuouuMmEkV2O"
      },
      "outputs": [],
      "source": [
        "# @title Helper Functions\n",
        "# @markdown * `train(model, device, train_iter, valid_iter, epochs, learning_rate)`\n",
        "\n",
        "# @markdown * `test(model, device, test_iter)`\n",
        "\n",
        "# @markdown * `plot_train_val(x, train, val, train_label, val_label, title)`\n",
        "\n",
        "\n",
        "# training\n",
        "def train(model, device, train_iter, valid_iter, epochs, learning_rate):\n",
        "  criterion = nn.CrossEntropyLoss()\n",
        "  optimizer = torch.optim.Adam(model.parameters(), lr=learning_rate)\n",
        "\n",
        "  train_loss, validation_loss = [], []\n",
        "  train_acc, validation_acc = [], []\n",
        "\n",
        "  for epoch in range(epochs):\n",
        "    # train\n",
        "    model.train()\n",
        "    running_loss = 0.\n",
        "    correct, total = 0, 0\n",
        "    steps = 0\n",
        "\n",
        "    for idx, batch in enumerate(train_iter):\n",
        "      text = batch.text[0]\n",
        "      target = batch.label\n",
        "      target = torch.autograd.Variable(target).long()\n",
        "      text, target = text.to(device), target.to(device)\n",
        "\n",
        "      # add micro for coding training loop\n",
        "      optimizer.zero_grad()\n",
        "      output = model(text)\n",
        "\n",
        "      loss = criterion(output, target)\n",
        "      loss.backward()\n",
        "      optimizer.step()\n",
        "      steps += 1\n",
        "      running_loss += loss.item()\n",
        "\n",
        "      # get accuracy\n",
        "      _, predicted = torch.max(output, 1)\n",
        "      total += target.size(0)\n",
        "      correct += (predicted == target).sum().item()\n",
        "\n",
        "    train_loss.append(running_loss/len(train_iter))\n",
        "    train_acc.append(correct/total)\n",
        "\n",
        "    print(f'Epoch: {epoch + 1},  Training Loss: {running_loss/len(train_iter):.4f}, Training Accuracy: {100*correct/total: .2f}%')\n",
        "\n",
        "    # evaluate on validation data\n",
        "    model.eval()\n",
        "    running_loss = 0.\n",
        "    correct, total = 0, 0\n",
        "\n",
        "    with torch.no_grad():\n",
        "      for idx, batch in enumerate(valid_iter):\n",
        "        text = batch.text[0]\n",
        "        target = batch.label\n",
        "        target = torch.autograd.Variable(target).long()\n",
        "        text, target = text.to(device), target.to(device)\n",
        "\n",
        "        optimizer.zero_grad()\n",
        "        output = model(text)\n",
        "\n",
        "        loss = criterion(output, target)\n",
        "        running_loss += loss.item()\n",
        "\n",
        "        # get accuracy\n",
        "        _, predicted = torch.max(output, 1)\n",
        "        total += target.size(0)\n",
        "        correct += (predicted == target).sum().item()\n",
        "\n",
        "    validation_loss.append(running_loss/len(valid_iter))\n",
        "    validation_acc.append(correct/total)\n",
        "\n",
        "    print (f'Validation Loss: {running_loss/len(valid_iter):.4f}, Validation Accuracy: {100*correct/total: .2f}% \\n')\n",
        "\n",
        "  return train_loss, train_acc, validation_loss, validation_acc\n",
        "\n",
        "\n",
        "# testing\n",
        "def test(model, device, test_iter):\n",
        "  model.eval()\n",
        "  correct = 0\n",
        "  total = 0\n",
        "  with torch.no_grad():\n",
        "    for idx, batch in enumerate(test_iter):\n",
        "      text = batch.text[0]\n",
        "      target = batch.label\n",
        "      target = torch.autograd.Variable(target).long()\n",
        "      text, target = text.to(device), target.to(device)\n",
        "\n",
        "      outputs = model(text)\n",
        "      _, predicted = torch.max(outputs, 1)\n",
        "      total += target.size(0)\n",
        "      correct += (predicted == target).sum().item()\n",
        "\n",
        "    acc = 100 * correct / total\n",
        "    return acc\n",
        "\n",
        "\n",
        "# helpers\n",
        "def plot_train_val(x, train, val, train_label, val_label, title):\n",
        "  plt.plot(x, train, label=train_label)\n",
        "  plt.plot(x, val, label=val_label)\n",
        "  plt.legend(loc='lower right')\n",
        "  plt.xlabel('epoch')\n",
        "  plt.ylabel('accuracy')\n",
        "  plt.title(title)\n",
        "  plt.show()\n",
        "\n",
        "\n",
        "def count_parameters(model):\n",
        "  parameters = sum(p.numel() for p in model.parameters() if p.requires_grad)\n",
        "  return parameters\n",
        "\n",
        "\n",
        "def init_weights(m):\n",
        "  if type(m) in (nn.Linear, nn.Conv1d):\n",
        "      nn.init.xavier_uniform_(m.weight)"
      ]
    },
    {
      "cell_type": "markdown",
      "metadata": {
        "execution": {},
        "id": "0loxkKl6kV2P"
      },
      "source": [
        "## Section 1.2: 1D CNN"
      ]
    },
    {
      "cell_type": "code",
      "execution_count": 15,
      "metadata": {
        "cellView": "form",
        "execution": {},
        "id": "8nkLXykwkV2Q",
        "outputId": "b0e61ed8-ef77-4ea6-9d06-c0998911aee0",
        "colab": {
          "base_uri": "https://localhost:8080/",
          "height": 582,
          "referenced_widgets": [
            "840b286c441a49d3b8ea8f33a11d7ec0",
            "5bb621159efc40b690eae3de94455a46",
            "cf230b4d353048918efddd826c6546d6",
            "fe122cb56a5f4868bc7c50fa90c4d800",
            "1d154d1604bb40359a8732d4fb61ca07",
            "2a0f3eaae33f463a9b48c2b0b99b0c80"
          ]
        }
      },
      "outputs": [
        {
          "output_type": "display_data",
          "data": {
            "text/plain": [
              "Tab(children=(Output(), Output()), _titles={'0': 'Youtube', '1': 'Bilibili'})"
            ],
            "application/vnd.jupyter.widget-view+json": {
              "version_major": 2,
              "version_minor": 0,
              "model_id": "840b286c441a49d3b8ea8f33a11d7ec0"
            }
          },
          "metadata": {}
        }
      ],
      "source": [
        "# @title Video 3: Time Series\n",
        "from ipywidgets import widgets\n",
        "\n",
        "out2 = widgets.Output()\n",
        "with out2:\n",
        "  from IPython.display import IFrame\n",
        "  class BiliVideo(IFrame):\n",
        "    def __init__(self, id, page=1, width=400, height=300, **kwargs):\n",
        "      self.id=id\n",
        "      src = \"https://player.bilibili.com/player.html?bvid={0}&page={1}\".format(id, page)\n",
        "      super(BiliVideo, self).__init__(src, width, height, **kwargs)\n",
        "\n",
        "  video = BiliVideo(id=\"\", width=854, height=480, fs=1)\n",
        "  print(\"Video available at https://www.bilibili.com/video/{0}\".format(video.id))\n",
        "  display(video)\n",
        "\n",
        "out1 = widgets.Output()\n",
        "with out1:\n",
        "  from IPython.display import YouTubeVideo\n",
        "  video = YouTubeVideo(id=\"JAjuG0o4_Xc\", width=854, height=480, fs=1, rel=0)\n",
        "  print(\"Video available at https://youtube.com/watch?v=\" + video.id)\n",
        "  display(video)\n",
        "\n",
        "out = widgets.Tab([out1, out2])\n",
        "out.set_title(0, 'Youtube')\n",
        "out.set_title(1, 'Bilibili')\n",
        "\n",
        "# Add event to airtable\n",
        "atform.add_event('Video 3: Time Series')\n",
        "\n",
        "display(out)"
      ]
    },
    {
      "cell_type": "markdown",
      "metadata": {
        "execution": {},
        "id": "-VqJzyF8kV2R"
      },
      "source": [
        "Over the last tutorials, you were introduced to CNNs and used them to work on a range of interesting deep learning applications in vision. You also discussed where else these networks might be useful. Can we apply CNNs to language?\n",
        "\n",
        "Before we jump into RNNs we will create a CNN model for the text classification task. Let us understand how a one-dimensional convolutional layer works.\n",
        "\n",
        "<img width=700 src=https://d2l.ai/_images/conv1d.svg>\n",
        "\n",
        "The above figure shows one-dimensional cross-correlation operation. The shaded parts are the first output element as well as the input and kernel array elements used in its calculation:  0×1+1×2=2 .\n",
        "\n",
        "<img width=700 src=https://d2l.ai/_images/conv1d-channel.svg>\n",
        "\n",
        "The above figure shows one-dimensional cross-correlation operation with three input channels. The shaded parts are the first output element as well as the input and kernel array elements used in its calculation:  0×1+1×2+1×3+2×4+2×(−1)+3×(−3)=2 .\n",
        "\n",
        "Similarly, we have a one-dimensional pooling layer. The max-over-time pooling layer used in CNN actually corresponds to a one-dimensional global maximum pooling layer. Assuming that the input contains multiple channels, and each channel consists of values on different time steps, the output of each channel will be the largest value of all time steps in the channel. Therefore, the input of the max-over-time pooling layer can have different time steps on each channel.\n",
        "\n",
        "Fitting all the pieces together a 1D CNN architecture looks like the image below - \n",
        "\n",
        "<img width=700 src=https://d2l.ai/_images/textcnn.svg>\n",
        "\n",
        "In this figure, we have an input sequence of 11 words, each with 6 channels. Our model consists of two Conv1D layers applied to this input: one of kernel size 2 having 4 output channels and one of kernel size 4 having 5 output channels.  The max-over-time pooling is applied to each of the output channels. The max-pooled outputs for each output channel of the Conv1D layers are concatenated to form 1x4 and 1x5 vectors respectively. Finally these outputs are further concatenated to form a vector of 1x9 and this is passed to a fully connected layer of size 2 for binary classification. \n",
        "\n",
        "The intuition of using a max-pooling over different channels here is to capture the most important features over time in an input sequence."
      ]
    },
    {
      "cell_type": "markdown",
      "metadata": {
        "execution": {},
        "id": "EHFoxtpvkV2R"
      },
      "source": [
        "### Coding Exercise 1: Implement a 1D CNN\n",
        "\n",
        "Now it's your turn to implement a 1D CNN. \n",
        "\n",
        "* Here we will use [`nn.Embedding`](https://pytorch.org/docs/stable/generated/torch.nn.Embedding.html)  layer instead of pretrained word embeddings. This is a design choice. Using `nn.Embedding` layer in the network allows us to train word embeddings specific to the problem at hand. You are given the `vocab_size` which is the size of the dictionary of embeddings, and the `embed_size` which is the size of each embedding vector. \n",
        "\n",
        "* The 1D CNN should work for any number kernel size and corresponsing number of channels. Both `kernel_sizes` and `num_channels` are lists. Each element of these lists corresponds to the kernel size and output channels of a Conv1D layer.\n",
        "\n",
        "* Use [adaptive max pooling](https://pytorch.org/docs/stable/generated/torch.nn.AdaptiveMaxPool1d.html) \n",
        "\n",
        "* Determine the size of inputs and outputs to the fully-connected layer using the reference example given above.  "
      ]
    },
    {
      "cell_type": "code",
      "execution_count": 16,
      "metadata": {
        "execution": {},
        "id": "mEuJg0JvkV2S"
      },
      "outputs": [],
      "source": [
        "class TextCNN(nn.Module):\n",
        "  def __init__(self, vocab_size, embed_size, kernel_sizes, num_channels,\n",
        "                **kwargs):\n",
        "    super(TextCNN, self).__init__(**kwargs)\n",
        "    ####################################################################\n",
        "    # Fill in missing code below (...),\n",
        "    # then remove or comment the line below to test your function\n",
        "    raise NotImplementedError(\"TextCNN\")\n",
        "    ####################################################################\n",
        "    self.embedding = ...\n",
        "    self.fc = ...\n",
        "    self.pool = ...\n",
        "    self.relu = ...\n",
        "    self.convs = nn.ModuleList()\n",
        "    # This for loop adds the Conv1D layers to your network\n",
        "    for c, k in zip(num_channels, kernel_sizes):\n",
        "      # Conv1d(in_channels, out_channels, kernel_size)\n",
        "      self.convs.append(nn.Conv1d(embed_size, c, k))\n",
        "\n",
        "  def forward(self, inputs):\n",
        "    embeddings = self.embedding(inputs)\n",
        "    embeddings = embeddings.permute(0, 2, 1)\n",
        "    # Concatenating the average-pooled outputs\n",
        "    encoding = torch.cat([\n",
        "        torch.squeeze(self.relu(self.pool(conv(embeddings))), dim=-1)\n",
        "        for conv in self.convs], dim=1)\n",
        "    outputs = self.fc(encoding)\n",
        "    return outputs\n",
        "\n",
        "\n",
        "## Uncomment to test\n",
        "# sampleCNN = TextCNN(1000, 300, [1, 2, 3], [10, 20, 30])\n",
        "# print(sampleCNN)\n",
        "\n",
        "# add event to airtable\n",
        "atform.add_event('Coding Exercise 1: Implement a 1D CNN')"
      ]
    },
    {
      "cell_type": "markdown",
      "metadata": {
        "execution": {},
        "id": "Tn-4rJBGkV2S"
      },
      "source": [
        "Sample output\n",
        "\n",
        "```python\n",
        "TextCNN(\n",
        "  (embedding): Embedding(1000, 300)\n",
        "  (fc): Linear(in_features=60, out_features=2, bias=True)\n",
        "  (pool): AdaptiveMaxPool1d(output_size=1)\n",
        "  (relu): ReLU()\n",
        "  (convs): ModuleList(\n",
        "    (0): Conv1d(300, 10, kernel_size=(1,), stride=(1,))\n",
        "    (1): Conv1d(300, 20, kernel_size=(2,), stride=(1,))\n",
        "    (2): Conv1d(300, 30, kernel_size=(3,), stride=(1,))\n",
        "  )\n",
        ")\n",
        "```"
      ]
    },
    {
      "cell_type": "code",
      "execution_count": 17,
      "metadata": {
        "execution": {},
        "id": "V-A5wxx0kV2T",
        "outputId": "ebc6f963-5304-4605-de79-2f8de134522a",
        "colab": {
          "base_uri": "https://localhost:8080/"
        }
      },
      "outputs": [
        {
          "output_type": "stream",
          "name": "stdout",
          "text": [
            "TextCNN(\n",
            "  (embedding): Embedding(1000, 300)\n",
            "  (fc): Linear(in_features=60, out_features=2, bias=True)\n",
            "  (pool): AdaptiveMaxPool1d(output_size=1)\n",
            "  (relu): ReLU()\n",
            "  (convs): ModuleList(\n",
            "    (0): Conv1d(300, 10, kernel_size=(1,), stride=(1,))\n",
            "    (1): Conv1d(300, 20, kernel_size=(2,), stride=(1,))\n",
            "    (2): Conv1d(300, 30, kernel_size=(3,), stride=(1,))\n",
            "  )\n",
            ")\n"
          ]
        }
      ],
      "source": [
        "# to_remove solution\n",
        "class TextCNN(nn.Module):\n",
        "  def __init__(self, vocab_size, embed_size, kernel_sizes, num_channels,\n",
        "                **kwargs):\n",
        "    super(TextCNN, self).__init__(**kwargs)\n",
        "    self.embedding = nn.Embedding(vocab_size, embed_size)\n",
        "    self.fc = nn.Linear(sum(num_channels), 2)\n",
        "    self.pool = nn.AdaptiveMaxPool1d(1)\n",
        "    self.relu = nn.ReLU()\n",
        "    self.convs = nn.ModuleList()\n",
        "    # This for loop adds the Conv1D layers to your network\n",
        "    for c, k in zip(num_channels, kernel_sizes):\n",
        "      # Conv1d(in_channels, out_channels, kernel_size)\n",
        "      self.convs.append(nn.Conv1d(embed_size, c, k))\n",
        "\n",
        "  def forward(self, inputs):\n",
        "    embeddings = self.embedding(inputs)\n",
        "    embeddings = embeddings.permute(0, 2, 1)\n",
        "    # Concatenating the average-pooled outputs\n",
        "    encoding = torch.cat([\n",
        "        torch.squeeze(self.relu(self.pool(conv(embeddings))), dim=-1)\n",
        "        for conv in self.convs], dim=1)\n",
        "\n",
        "    outputs = self.fc(encoding)\n",
        "    return outputs\n",
        "\n",
        "\n",
        "## Uncomment to test\n",
        "sampleCNN = TextCNN(1000, 300, [1, 2, 3], [10, 20, 30])\n",
        "print(sampleCNN)\n",
        "\n",
        "# add event to airtable\n",
        "atform.add_event('Coding Exercise 1: Implement a 1D CNN')"
      ]
    },
    {
      "cell_type": "code",
      "execution_count": 18,
      "metadata": {
        "execution": {},
        "id": "waXaRGP2kV2U",
        "outputId": "bd890a79-c2f2-42fd-d89a-a79d48b54553",
        "colab": {
          "base_uri": "https://localhost:8080/",
          "height": 1000
        }
      },
      "outputs": [
        {
          "output_type": "stream",
          "name": "stdout",
          "text": [
            "Epoch: 1,  Training Loss: 0.8956, Training Accuracy:  51.70%\n",
            "Validation Loss: 0.7675, Validation Accuracy:  51.65% \n",
            "\n",
            "Epoch: 2,  Training Loss: 0.7354, Training Accuracy:  53.89%\n",
            "Validation Loss: 0.7555, Validation Accuracy:  52.40% \n",
            "\n",
            "Epoch: 3,  Training Loss: 0.7154, Training Accuracy:  55.85%\n",
            "Validation Loss: 0.7450, Validation Accuracy:  53.57% \n",
            "\n",
            "Epoch: 4,  Training Loss: 0.6971, Training Accuracy:  57.64%\n",
            "Validation Loss: 0.7363, Validation Accuracy:  54.44% \n",
            "\n",
            "Epoch: 5,  Training Loss: 0.6807, Training Accuracy:  59.18%\n",
            "Validation Loss: 0.7294, Validation Accuracy:  55.33% \n",
            "\n",
            "Epoch: 6,  Training Loss: 0.6656, Training Accuracy:  60.64%\n",
            "Validation Loss: 0.7216, Validation Accuracy:  55.89% \n",
            "\n",
            "Epoch: 7,  Training Loss: 0.6515, Training Accuracy:  62.11%\n",
            "Validation Loss: 0.7155, Validation Accuracy:  56.48% \n",
            "\n",
            "Epoch: 8,  Training Loss: 0.6379, Training Accuracy:  63.26%\n",
            "Validation Loss: 0.7100, Validation Accuracy:  57.13% \n",
            "\n",
            "Epoch: 9,  Training Loss: 0.6254, Training Accuracy:  64.71%\n",
            "Validation Loss: 0.7048, Validation Accuracy:  57.51% \n",
            "\n",
            "Epoch: 10,  Training Loss: 0.6137, Training Accuracy:  65.94%\n",
            "Validation Loss: 0.7002, Validation Accuracy:  57.91% \n",
            "\n",
            "--- Time taken to train = 72.97626280784607 seconds ---\n",
            "Test Accuracy: 58.34%\n"
          ]
        },
        {
          "output_type": "display_data",
          "data": {
            "text/plain": [
              "<Figure size 576x432 with 1 Axes>"
            ],
            "image/png": "[encoded data removed]"
          },
          "metadata": {
            "image/png": {
              "width": 558,
              "height": 413
            },
            "needs_background": "light"
          }
        },
        {
          "output_type": "stream",
          "name": "stdout",
          "text": [
            "\n",
            "\n",
            "Number of parameters = 11294002\n"
          ]
        }
      ],
      "source": [
        "# Model hyperparameters\n",
        "learning_rate = 0.00001\n",
        "embedding_length = 100\n",
        "kernel_sizes = [3, 4, 5]\n",
        "nums_channels = [100, 100, 100]\n",
        "epochs = 10\n",
        "\n",
        "# Initialize model, training and testing\n",
        "cnn_model = TextCNN(vocab_size, embedding_length, kernel_sizes, nums_channels)\n",
        "cnn_model.to(DEVICE)\n",
        "cnn_model.apply(init_weights)\n",
        "cnn_start_time = time.time()\n",
        "cnn_train_loss, cnn_train_acc, cnn_validation_loss, cnn_validation_acc = train(cnn_model, DEVICE, train_iter, valid_iter, epochs, learning_rate)\n",
        "print(f\"--- Time taken to train = {time.time() - cnn_start_time} seconds ---\")\n",
        "test_accuracy = test(cnn_model, DEVICE, test_iter)\n",
        "print(f'Test Accuracy: {test_accuracy}%')\n",
        "\n",
        "# Plot accuracies\n",
        "plot_train_val(np.arange(0, epochs),\n",
        "               cnn_train_acc,\n",
        "               cnn_validation_acc,\n",
        "               'training_accuracy',\n",
        "               'validation_accuracy',\n",
        "               'CNN on IMDB text classification')\n",
        "\n",
        "# Number of parameters in model\n",
        "paramters = count_parameters(cnn_model)\n",
        "print(f'\\n\\nNumber of parameters = {paramters}')"
      ]
    },
    {
      "cell_type": "markdown",
      "metadata": {
        "execution": {},
        "id": "jAj8m2gFkV2U"
      },
      "source": [
        "## Section 1.3: Vanilla RNN"
      ]
    },
    {
      "cell_type": "markdown",
      "metadata": {
        "execution": {},
        "id": "hNA0_mBzkV2U"
      },
      "source": [
        "### Coding Exercise 2: Implement a Vanilla RNN\n",
        "\n",
        "Now it's your turn to write a Vanilla RNN using PyTorch.\n",
        "\n",
        "* Once again we will use `nn.Embedding`. You are given the `vocab_size` which is the size of the dictionary of embeddings, and the `embed_size` which is the size of each embedding vector.  \n",
        "\n",
        "* Add 2 [RNN](https://pytorch.org/docs/stable/generated/torch.nn.RNN.html) layers. This would mean stacking two RNNs together to form a stacked RNN, with the second RNN taking in outputs of the first RNN and computing the final results.\n",
        "\n",
        "* Determine the size of inputs and outputs to the fully-connected layer.\n"
      ]
    },
    {
      "cell_type": "code",
      "execution_count": 19,
      "metadata": {
        "execution": {},
        "id": "n7X6iRdWkV2V"
      },
      "outputs": [],
      "source": [
        "class VanillaRNN(nn.Module):\n",
        "  def __init__(self, output_size, hidden_size, vocab_size, embed_size):\n",
        "    super(VanillaRNN, self).__init__()\n",
        "      ####################################################################\n",
        "    # Fill in missing code below (...),\n",
        "    # then remove or comment the line below to test your function\n",
        "    raise NotImplementedError(\"Vanilla RNN\")\n",
        "    ####################################################################\n",
        "    self.hidden_size = ...\n",
        "    self.word_embeddings = ...\n",
        "    self.rnn = ...\n",
        "    self.fc = ...\n",
        "\n",
        "  def forward(self, inputs):\n",
        "    input = self.word_embeddings(inputs)\n",
        "    input = input.permute(1, 0, 2)\n",
        "    h_0 =  Variable(torch.zeros(2, input.size()[1], self.hidden_size).to(DEVICE))\n",
        "    output, h_n = self.rnn(input, h_0)\n",
        "    h_n = h_n.permute(1, 0, 2)\n",
        "    h_n = h_n.contiguous().view(h_n.size()[0], h_n.size()[1]*h_n.size()[2])\n",
        "    logits = self.fc(h_n)\n",
        "\n",
        "    return logits\n",
        "\n",
        "\n",
        "## Uncomment to test\n",
        "# sampleRNN = VanillaRNN(10, 50, 1000, 300)\n",
        "# print(sampleRNN)\n",
        "\n",
        "# add event to airtable\n",
        "atform.add_event('Coding Exercise 2: Implement a Vanilla RNN')"
      ]
    },
    {
      "cell_type": "markdown",
      "metadata": {
        "execution": {},
        "id": "wTW--ZxkkV2V"
      },
      "source": [
        "Sample output\n",
        "\n",
        "```python\n",
        "VanillaRNN(\n",
        "  (word_embeddings): Embedding(1000, 300)\n",
        "  (rnn): RNN(300, 50, num_layers=2)\n",
        "  (fc): Linear(in_features=100, out_features=10, bias=True)\n",
        ")\n",
        "```"
      ]
    },
    {
      "cell_type": "code",
      "execution_count": 20,
      "metadata": {
        "execution": {},
        "id": "tMiNLY6EkV2W",
        "outputId": "77f60113-cb83-4649-fe26-6d021f13c420",
        "colab": {
          "base_uri": "https://localhost:8080/"
        }
      },
      "outputs": [
        {
          "output_type": "stream",
          "name": "stdout",
          "text": [
            "VanillaRNN(\n",
            "  (word_embeddings): Embedding(1000, 300)\n",
            "  (rnn): RNN(300, 50, num_layers=2)\n",
            "  (fc): Linear(in_features=100, out_features=10, bias=True)\n",
            ")\n"
          ]
        }
      ],
      "source": [
        "# to_remove solution\n",
        "class VanillaRNN(nn.Module):\n",
        "  def __init__(self, output_size, hidden_size, vocab_size, embed_size):\n",
        "    super(VanillaRNN, self).__init__()\n",
        "    self.hidden_size = hidden_size\n",
        "    self.word_embeddings = nn.Embedding(vocab_size, embed_size)\n",
        "    self.rnn = nn.RNN(embed_size, hidden_size, num_layers=2)\n",
        "    self.fc = nn.Linear(2*hidden_size, output_size)\n",
        "\n",
        "  def forward(self, inputs):\n",
        "    input = self.word_embeddings(inputs)\n",
        "    input = input.permute(1, 0, 2)\n",
        "    h_0 =  Variable(torch.zeros(2, input.size()[1], self.hidden_size).to(DEVICE))\n",
        "    output, h_n = self.rnn(input, h_0)\n",
        "    h_n = h_n.permute(1, 0, 2)\n",
        "    h_n = h_n.contiguous().view(h_n.size()[0], h_n.size()[1]*h_n.size()[2])\n",
        "    logits = self.fc(h_n)\n",
        "\n",
        "    return logits\n",
        "\n",
        "\n",
        "## Uncomment to test\n",
        "sampleRNN = VanillaRNN(10, 50, 1000, 300)\n",
        "print(sampleRNN)\n",
        "\n",
        "# add event to airtable\n",
        "atform.add_event('Coding Exercise 2: Implement a Vanilla RNN')"
      ]
    },
    {
      "cell_type": "code",
      "execution_count": 21,
      "metadata": {
        "execution": {},
        "id": "XV-oJbGzkV2W",
        "outputId": "c5d010b9-ef10-4017-a46d-81187b777e3e",
        "colab": {
          "base_uri": "https://localhost:8080/",
          "height": 1000
        }
      },
      "outputs": [
        {
          "output_type": "stream",
          "name": "stdout",
          "text": [
            "Epoch: 1,  Training Loss: 0.6978, Training Accuracy:  51.01%\n",
            "Validation Loss: 0.6950, Validation Accuracy:  51.57% \n",
            "\n",
            "Epoch: 2,  Training Loss: 0.6831, Training Accuracy:  55.67%\n",
            "Validation Loss: 0.6815, Validation Accuracy:  56.36% \n",
            "\n",
            "Epoch: 3,  Training Loss: 0.6651, Training Accuracy:  59.93%\n",
            "Validation Loss: 0.6905, Validation Accuracy:  55.16% \n",
            "\n",
            "Epoch: 4,  Training Loss: 0.6523, Training Accuracy:  62.09%\n",
            "Validation Loss: 0.6744, Validation Accuracy:  59.09% \n",
            "\n",
            "Epoch: 5,  Training Loss: 0.6245, Training Accuracy:  65.74%\n",
            "Validation Loss: 0.6760, Validation Accuracy:  60.08% \n",
            "\n",
            "Epoch: 6,  Training Loss: 0.6013, Training Accuracy:  68.33%\n",
            "Validation Loss: 0.6502, Validation Accuracy:  63.51% \n",
            "\n",
            "Epoch: 7,  Training Loss: 0.5753, Training Accuracy:  70.63%\n",
            "Validation Loss: 0.6576, Validation Accuracy:  64.13% \n",
            "\n",
            "Epoch: 8,  Training Loss: 0.5438, Training Accuracy:  73.29%\n",
            "Validation Loss: 0.6485, Validation Accuracy:  66.31% \n",
            "\n",
            "Epoch: 9,  Training Loss: 0.5122, Training Accuracy:  75.79%\n",
            "Validation Loss: 0.6410, Validation Accuracy:  65.61% \n",
            "\n",
            "Epoch: 10,  Training Loss: 0.4827, Training Accuracy:  77.47%\n",
            "Validation Loss: 0.6521, Validation Accuracy:  68.44% \n",
            "\n",
            "--- Time taken to train = 63.86904692649841 seconds ---\n",
            "Test Accuracy: 67.612%\n"
          ]
        },
        {
          "output_type": "display_data",
          "data": {
            "text/plain": [
              "<Figure size 576x432 with 1 Axes>"
            ],
            "image/png": "[encoded data removed]"
          },
          "metadata": {
            "image/png": {
              "width": 558,
              "height": 413
            },
            "needs_background": "light"
          }
        },
        {
          "output_type": "stream",
          "name": "stdout",
          "text": [
            "\n",
            "\n",
            "Number of parameters = 11213902\n"
          ]
        }
      ],
      "source": [
        "# Model hyperparamters\n",
        "learning_rate = 0.0002\n",
        "output_size = 2\n",
        "hidden_size = 100\n",
        "embedding_length = 100\n",
        "epochs = 10\n",
        "\n",
        "# Initialize model, training and testing\n",
        "vanilla_rnn_model = VanillaRNN(output_size, hidden_size, vocab_size, embedding_length)\n",
        "vanilla_rnn_model.to(DEVICE)\n",
        "vanilla_rnn_start_time = time.time()\n",
        "vanilla_train_loss, vanilla_train_acc, vanilla_validation_loss, vanilla_validation_acc = train(vanilla_rnn_model, DEVICE, train_iter, valid_iter, epochs, learning_rate)\n",
        "print(f\"--- Time taken to train = {time.time() - vanilla_rnn_start_time} seconds ---\")\n",
        "test_accuracy = test(vanilla_rnn_model, DEVICE, test_iter)\n",
        "print(f'Test Accuracy: {test_accuracy}%')\n",
        "\n",
        "# Plot accuracy curves\n",
        "plot_train_val(np.arange(0, epochs), vanilla_train_acc, vanilla_validation_acc,\n",
        "               'training_accuracy', 'validation_accuracy',\n",
        "               'Vanilla RNN on IMDB text classification')\n",
        "\n",
        "# Number of model parameters\n",
        "paramters = count_parameters(vanilla_rnn_model)\n",
        "print(f'\\n\\nNumber of parameters = {paramters}')"
      ]
    },
    {
      "cell_type": "markdown",
      "metadata": {
        "execution": {},
        "id": "E75wX2yhkV2X"
      },
      "source": [
        "# Section 2: RNN applications and Language Models\n",
        "\n",
        "*Time estimate: ~?mins*\n",
        "\n",
        "### **Important!** \n",
        "\n",
        "In this section, you will use your knowledge of recurrent neural networks and build some interesting NLP applications! For the remainder of the tutorial we will be switching from word-level models to character-level models; which means the text will be tokenized at the character level. We do this in the interest of simplifying our task by limiting our vocabulary (which is now a set of characters instead of words).   "
      ]
    },
    {
      "cell_type": "code",
      "execution_count": 22,
      "metadata": {
        "cellView": "form",
        "execution": {},
        "id": "wzm6eY6HkV2X",
        "outputId": "cb3f9597-b34b-42c3-9204-5378e30d87f6",
        "colab": {
          "base_uri": "https://localhost:8080/",
          "height": 582,
          "referenced_widgets": [
            "b1b41ae8763d453f8839e86c9f478057",
            "df47972c736d4bd38dccc3876aa89174",
            "9603d3ed6f8f4b76ac32bcd6abe0f448",
            "66ca49cd37c54e2e90b5466e84837afd",
            "2a9f41c16f1343538ed587db91e9b80e",
            "aeb37102912141cf9a09dbb9b74e26f3"
          ]
        }
      },
      "outputs": [
        {
          "output_type": "display_data",
          "data": {
            "text/plain": [
              "Tab(children=(Output(), Output()), _titles={'0': 'Youtube', '1': 'Bilibili'})"
            ],
            "application/vnd.jupyter.widget-view+json": {
              "version_major": 2,
              "version_minor": 0,
              "model_id": "b1b41ae8763d453f8839e86c9f478057"
            }
          },
          "metadata": {}
        }
      ],
      "source": [
        "# @title Video 4: RNN Architectures for NLP\n",
        "from ipywidgets import widgets\n",
        "\n",
        "out2 = widgets.Output()\n",
        "with out2:\n",
        "  from IPython.display import IFrame\n",
        "  class BiliVideo(IFrame):\n",
        "    def __init__(self, id, page=1, width=400, height=300, **kwargs):\n",
        "      self.id=id\n",
        "      src = \"https://player.bilibili.com/player.html?bvid={0}&page={1}\".format(id, page)\n",
        "      super(BiliVideo, self).__init__(src, width, height, **kwargs)\n",
        "\n",
        "  video = BiliVideo(id=\"\", width=854, height=480, fs=1)\n",
        "  print(\"Video available at https://www.bilibili.com/video/{0}\".format(video.id))\n",
        "  display(video)\n",
        "\n",
        "out1 = widgets.Output()\n",
        "with out1:\n",
        "  from IPython.display import YouTubeVideo\n",
        "  video = YouTubeVideo(id=\"R3Dg7wBQQoU\", width=854, height=480, fs=1, rel=0)\n",
        "  print(\"Video available at https://youtube.com/watch?v=\" + video.id)\n",
        "  display(video)\n",
        "\n",
        "out = widgets.Tab([out1, out2])\n",
        "out.set_title(0, 'Youtube')\n",
        "out.set_title(1, 'Bilibili')\n",
        "\n",
        "# Add event to airtable\n",
        "atform.add_event('Video 4: RNN Architectures for NLP')\n",
        "\n",
        "display(out)"
      ]
    },
    {
      "cell_type": "markdown",
      "metadata": {
        "execution": {},
        "id": "5eqzv2mykV2Y"
      },
      "source": [
        "## Section 2.1: Text Generation and Language Modelling\n"
      ]
    },
    {
      "cell_type": "code",
      "execution_count": 23,
      "metadata": {
        "cellView": "form",
        "execution": {},
        "id": "TFHgUh2HkV2Y",
        "outputId": "5b6a70c5-d212-47d6-83c2-3996b0737ad2",
        "colab": {
          "base_uri": "https://localhost:8080/",
          "height": 582,
          "referenced_widgets": [
            "8b0c0e257e4e4cc28aca3fe8e5fdf0a0",
            "0607531098204e468d7b9842af90eb6d",
            "22816d9340c24d3bbcbdefc1888a3237",
            "a9e7e71b1ccb4f7790440edd76f8412f",
            "1cbd5de383854e8a9298f0a15314f9da",
            "7f4b5ebbd05f48ca9ea25478a41836f8"
          ]
        }
      },
      "outputs": [
        {
          "output_type": "display_data",
          "data": {
            "text/plain": [
              "Tab(children=(Output(), Output()), _titles={'0': 'Youtube', '1': 'Bilibili'})"
            ],
            "application/vnd.jupyter.widget-view+json": {
              "version_major": 2,
              "version_minor": 0,
              "model_id": "8b0c0e257e4e4cc28aca3fe8e5fdf0a0"
            }
          },
          "metadata": {}
        }
      ],
      "source": [
        "# @title Video 5: Sequence Modeling\n",
        "from ipywidgets import widgets\n",
        "\n",
        "out2 = widgets.Output()\n",
        "with out2:\n",
        "  from IPython.display import IFrame\n",
        "  class BiliVideo(IFrame):\n",
        "    def __init__(self, id, page=1, width=400, height=300, **kwargs):\n",
        "      self.id=id\n",
        "      src = \"https://player.bilibili.com/player.html?bvid={0}&page={1}\".format(id, page)\n",
        "      super(BiliVideo, self).__init__(src, width, height, **kwargs)\n",
        "\n",
        "  video = BiliVideo(id=\"\", width=854, height=480, fs=1)\n",
        "  print(\"Video available at https://www.bilibili.com/video/{0}\".format(video.id))\n",
        "  display(video)\n",
        "\n",
        "out1 = widgets.Output()\n",
        "with out1:\n",
        "  from IPython.display import YouTubeVideo\n",
        "  video = YouTubeVideo(id=\"wYuvMGQdpI4\", width=854, height=480, fs=1, rel=0)\n",
        "  print(\"Video available at https://youtube.com/watch?v=\" + video.id)\n",
        "  display(video)\n",
        "\n",
        "out = widgets.Tab([out1, out2])\n",
        "out.set_title(0, 'Youtube')\n",
        "out.set_title(1, 'Bilibili')\n",
        "\n",
        "# Add event to airtable\n",
        "atform.add_event('Video 5: Sequence Modeling')\n",
        "\n",
        "display(out)"
      ]
    },
    {
      "cell_type": "markdown",
      "metadata": {
        "execution": {},
        "id": "SwaAKmHgkV2Z"
      },
      "source": [
        "\n",
        "\n",
        "Sources: https://pytorch.org/tutorials/intermediate/char_rnn_generation_tutorial.html;  \n",
        "https://d2l.ai/chapter_recurrent-neural-networks/rnn.html#rnn-based-character-level-language-models\n",
        "  \n",
        "The first application we will discuss in this section is that of text generation using neural language models. In linguistic theory, a language model is a probability distribution over sequences of words. The task for the model is posed as follows: given a history or context of words, can you predict the next word in the sequence? \n",
        "\n",
        "Recurrent neural networks are a natural choice for this task, since they have the ability to capture information from past observations through the hidden state. Andrej Karpathy's [blog post](https://karpathy.github.io/2015/05/21/rnn-effectiveness/) is an excellent read for developing intuition for this task. For this exercise, you will train a character-level text generation model, give it an initial \"start\" string, and watch how it generates characters! \n",
        "\n",
        "At any given time step, the model takes one character and a hidden state as input. We convert the output of the model to a probability distribution over the possible characters, and pick a character from this distribution as the next prediction. This \"generated\" character is then passed to the model as the input in the next time step. This process is repeated for a fixed number of time steps.  (In real generation, these is often a special \"stop character\" that determines when to stop generation.   \n",
        "\n",
        "![image.png](data:image/png;base64,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)\n",
        "\n",
        "(Language models are generally evaluated using a metric known as [perplexity](https://https://towardsdatascience.com/perplexity-intuition-and-derivation-105dd481c8f3), which is 2 to the entropy of the probability distribution of the language model, measured in bits.)\n",
        "\n"
      ]
    },
    {
      "cell_type": "code",
      "execution_count": 24,
      "metadata": {
        "cellView": "form",
        "execution": {},
        "id": "Vyq21oVekV2a",
        "outputId": "b66174b7-4d23-4019-f6db-de237ffe7b46",
        "colab": {
          "base_uri": "https://localhost:8080/"
        }
      },
      "outputs": [
        {
          "output_type": "stream",
          "name": "stdout",
          "text": [
            "The file '1522-0.txt' has been downloaded.\n",
            "\n",
            "Length of 1522-0.txt file is 127899\n",
            "\n",
            "Random chunk:  was the noblest roman of them all all the conspirators save only he did that they did in envy of gre\n"
          ]
        }
      ],
      "source": [
        "# @markdown Preparing the input (run me)\n",
        "\n",
        "import requests\n",
        "\n",
        "url = \"https://osf.io/f6z3p/download\"\n",
        "fname = \"1522-0.txt\"\n",
        "r = requests.get(url, stream=True)\n",
        "with open(fname, \"wb\") as f:\n",
        "  f.write(r.content)\n",
        "print(f\"The file '{fname}' has been downloaded.\")\n",
        "\n",
        "\n",
        "# Print a random chunk from the training data\n",
        "def random_chunk(chunk_len):\n",
        "  start_index = random.randint(0, file_len - chunk_len)\n",
        "  end_index = start_index + chunk_len + 1\n",
        "  return file[start_index:end_index]\n",
        "\n",
        "\n",
        "# Turn string into list of longs\n",
        "def char_tensor(string):\n",
        "  tensor = torch.zeros(len(string)).long()\n",
        "  for c in range(len(string)):\n",
        "    tensor[c] = all_characters.index(string[c])\n",
        "  return tensor\n",
        "\n",
        "\n",
        "# Get a random chunk from the traning data,\n",
        "# Convert its first n-1 chars into input char tensor\n",
        "# Convert its last n-1 chars into target char tensor\n",
        "def random_training_set(chunk_len):\n",
        "  chunk = random_chunk(chunk_len)\n",
        "  inp = char_tensor(chunk[:-1])\n",
        "  target = char_tensor(chunk[1:])\n",
        "  return inp, target\n",
        "\n",
        "\n",
        "# Read the input training file - Julius Caesar\n",
        "file = unidecode.unidecode(open('1522-0.txt').read()).lower()\n",
        "file = re.sub(r'[^a-z]+', ' ', file)\n",
        "file_len = len(file)\n",
        "print(f'\\nLength of {fname} file is {file_len}')\n",
        "\n",
        "chunk_len = 100\n",
        "print(f\"\\nRandom chunk: {random_chunk(chunk_len)}\")\n",
        "\n",
        "# Get all printable characters for generation\n",
        "# all_characters = string.printable\n",
        "all_characters = string.ascii_lowercase\n",
        "all_characters += ' '\n",
        "n_characters = len(all_characters)"
      ]
    },
    {
      "cell_type": "markdown",
      "metadata": {
        "execution": {},
        "id": "GgUh7bhekV2b"
      },
      "source": [
        "**Network**"
      ]
    },
    {
      "cell_type": "code",
      "execution_count": 25,
      "metadata": {
        "execution": {},
        "id": "6nxDuMB0kV2c"
      },
      "outputs": [],
      "source": [
        "class GenerationRNN(nn.Module):\n",
        "  def __init__(self, input_size, hidden_size, output_size, n_layers=1):\n",
        "    super(GenerationRNN, self).__init__()\n",
        "    self.input_size = input_size\n",
        "    self.hidden_size = hidden_size\n",
        "    self.output_size = output_size\n",
        "    self.n_layers = n_layers\n",
        "\n",
        "    self.encoder = nn.Embedding(input_size, hidden_size)\n",
        "    self.rnn = nn.RNN(hidden_size, hidden_size, n_layers)\n",
        "    self.decoder = nn.Linear(hidden_size, output_size)\n",
        "\n",
        "  def forward(self, input, hidden):\n",
        "    input = self.encoder(input.view(1, -1))\n",
        "    output, hidden = self.rnn(input, hidden)\n",
        "    output = self.decoder(hidden.view(1, -1))\n",
        "    return output, hidden\n",
        "\n",
        "  def init_hidden(self):\n",
        "    return torch.zeros(self.n_layers, 1, self.hidden_size)"
      ]
    },
    {
      "cell_type": "markdown",
      "metadata": {
        "execution": {},
        "id": "JB8b_ch7kV2d"
      },
      "source": [
        "### Coding Exercise 3: Implement Text generation\n",
        "\n",
        "Examine the network example above and write the function below that:\n",
        "* Takes in a `prime_str` and builds up a hidden state \n",
        "* Uses the built up hidden state to iteratively generate `predict_len` number of characters from the model\n",
        "* To predict the next state, softmax the output from the model and pick the character with the maximum probability "
      ]
    },
    {
      "cell_type": "code",
      "execution_count": 26,
      "metadata": {
        "execution": {},
        "id": "UHdgVVpCkV2e"
      },
      "outputs": [],
      "source": [
        "def evaluate(net, all_characters, prime_str, predict_len):\n",
        "  hidden = net.init_hidden()\n",
        "  predicted = prime_str\n",
        "\n",
        "  # \"Building up\" the hidden state\n",
        "  for p in range(len(prime_str) - 1):\n",
        "    inp = char_tensor(prime_str[p])\n",
        "    _, hidden = net(inp, hidden)\n",
        "\n",
        "  # Tensorize of the last character\n",
        "  inp = char_tensor(prime_str[-1])\n",
        "\n",
        "  # For every index to predict\n",
        "  for p in range(predict_len):\n",
        "    ####################################################################\n",
        "    # Fill in missing code below (...),\n",
        "    # then remove or comment the line below to test your function\n",
        "    raise NotImplementedError(\"Generation\")\n",
        "    ####################################################################\n",
        "    # Pass the inputs to the model\n",
        "    output, hidden = ...\n",
        "\n",
        "    # Pick the character with the highest probability\n",
        "    top_i = ...\n",
        "\n",
        "    # Add predicted character to string and use as next input\n",
        "    predicted_char = all_characters[top_i]\n",
        "    predicted += predicted_char\n",
        "    inp = char_tensor(predicted_char)\n",
        "\n",
        "  return predicted\n",
        "\n",
        "\n",
        "## Uncomment to run\n",
        "# sampleDecoder = GenerationRNN(27, 100, 27, 1)\n",
        "# text = evaluate(sampleDecoder, all_characters, 'hi', 10)\n",
        "# if text.startswith('hi') and len(text) == 12:\n",
        "#   print('Success!')\n",
        "# else:\n",
        "#   print('Need to change.')\n",
        "\n",
        "# add event to airtable\n",
        "atform.add_event('Coding Exercise 3: Implement Text generation')"
      ]
    },
    {
      "cell_type": "code",
      "execution_count": 27,
      "metadata": {
        "execution": {},
        "id": "O_F5gMpekV2e",
        "outputId": "e6931fe5-d330-40b5-fb03-60ff6ba5763e",
        "colab": {
          "base_uri": "https://localhost:8080/"
        }
      },
      "outputs": [
        {
          "output_type": "stream",
          "name": "stdout",
          "text": [
            "Success!\n"
          ]
        }
      ],
      "source": [
        "# to_remove solution\n",
        "def evaluate(net, all_characters, prime_str, predict_len):\n",
        "  hidden = net.init_hidden()\n",
        "  predicted = prime_str\n",
        "\n",
        "  # \"Building up\" the hidden state\n",
        "  for p in range(len(prime_str) - 1):\n",
        "    inp = char_tensor(prime_str[p])\n",
        "    _, hidden = net(inp, hidden)\n",
        "\n",
        "  # Tensorize of the last character\n",
        "  inp = char_tensor(prime_str[-1])\n",
        "\n",
        "  # For every index to predict\n",
        "  for p in range(predict_len):\n",
        "    # Pass the inputs to the model\n",
        "    output, hidden = net(inp, hidden)\n",
        "\n",
        "    # Pick the character with the highest probability\n",
        "    top_i = torch.argmax(torch.softmax(output, dim=1))\n",
        "\n",
        "    # Add predicted character to string and use as next input\n",
        "    predicted_char = all_characters[top_i]\n",
        "    predicted += predicted_char\n",
        "    inp = char_tensor(predicted_char)\n",
        "\n",
        "  return predicted\n",
        "\n",
        "\n",
        "## Uncomment to run\n",
        "sampleDecoder = GenerationRNN(27, 100, 27, 1)\n",
        "text = evaluate(sampleDecoder, all_characters, 'hi', 10)\n",
        "if text.startswith('hi') and len(text) == 12:\n",
        "  print('Success!')\n",
        "else:\n",
        "  print('Need to change.')\n",
        "\n",
        "# add event to airtable\n",
        "atform.add_event('Coding Exercise 3: Implement Text generation')"
      ]
    },
    {
      "cell_type": "code",
      "execution_count": 28,
      "metadata": {
        "cellView": "form",
        "execution": {},
        "id": "7fUmNT6zkV2f",
        "outputId": "ddde17a3-872e-4d11-b4d3-aa38becfba2d",
        "colab": {
          "base_uri": "https://localhost:8080/",
          "height": 673
        }
      },
      "outputs": [
        {
          "output_type": "stream",
          "name": "stdout",
          "text": [
            "Epoch 500 --------------------\n",
            "\t the the the the the the the the the the the the the \n",
            "Epoch 1000 --------------------\n",
            "\t the the the the the the the the the the the the the \n",
            "Epoch 1500 --------------------\n",
            "\t the the the the the the the the the the the the the \n",
            "Epoch 2000 --------------------\n",
            "\t the the the the the the the the the the the the the \n",
            "Epoch 2500 --------------------\n",
            "\t ther the the the the the the the the the the the the\n",
            "Epoch 3000 --------------------\n",
            "\t the the the the the the the the the the the the the \n",
            "\n",
            "\n"
          ]
        },
        {
          "output_type": "display_data",
          "data": {
            "text/plain": [
              "<Figure size 576x432 with 1 Axes>"
            ],
            "image/png": "[encoded data removed]"
          },
          "metadata": {
            "image/png": {
              "width": 558,
              "height": 413
            },
            "needs_background": "light"
          }
        }
      ],
      "source": [
        "# @markdown Run this cell to train the model\n",
        "\n",
        "def grad_clipping(net, theta):\n",
        "  \"\"\"Clip the gradient.\"\"\"\n",
        "  params = [p for p in net.parameters() if p.requires_grad]\n",
        "\n",
        "  norm = torch.sqrt(sum(torch.sum((p.grad ** 2)) for p in params))\n",
        "\n",
        "  if norm > theta:\n",
        "    for param in params:\n",
        "      param.grad[:] *= theta / norm\n",
        "\n",
        "\n",
        "# Single training step\n",
        "def train_gen(inp, target, chunk_len):\n",
        "  # Initialize hidden state, zero the gradients of decoder\n",
        "  hidden = decoder.init_hidden()\n",
        "  decoder.zero_grad()\n",
        "  loss = 0\n",
        "  # For each character in our chunk (except last), compute the hidden and ouput\n",
        "  # Using each output, compute the loss with the corresponding target\n",
        "  for c in range(chunk_len):\n",
        "    output, hidden = decoder(inp[c], hidden)\n",
        "    loss += criterion(output, target[c].unsqueeze(0))\n",
        "\n",
        "  # Backpropagate, clip gradient and optimize\n",
        "  loss.backward()\n",
        "  grad_clipping(decoder, 1)\n",
        "  decoder_optimizer.step()\n",
        "\n",
        "  # Return average loss\n",
        "  return loss.data.item() / chunk_len\n",
        "\n",
        "\n",
        "n_epochs = 3000\n",
        "hidden_size = 100\n",
        "n_layers = 1\n",
        "lr = 0.0005\n",
        "print_every, plot_every = 500, 10\n",
        "\n",
        "# Create model, optimizer and loss function\n",
        "decoder = GenerationRNN(n_characters, hidden_size, n_characters, n_layers)\n",
        "decoder_optimizer = torch.optim.Adam(decoder.parameters(), lr=lr)\n",
        "criterion = nn.CrossEntropyLoss()\n",
        "\n",
        "all_losses = []\n",
        "loss_avg = 0\n",
        "\n",
        "# For every epoch\n",
        "for epoch in range(1, n_epochs + 1):\n",
        "  # Get a random (input, target) pair from training set and perform one training iteration\n",
        "  loss = train_gen(*random_training_set(chunk_len), chunk_len)\n",
        "  loss_avg += loss\n",
        "\n",
        "  if epoch % print_every == 0:\n",
        "    text = evaluate(decoder, all_characters, 'th', 50)\n",
        "    print(f'Epoch {epoch} --------------------\\n\\t {text}')\n",
        "\n",
        "  if epoch % plot_every == 0:\n",
        "    all_losses.append(loss_avg / plot_every)\n",
        "    loss_avg = 0\n",
        "\n",
        "print('\\n')\n",
        "plt.figure()\n",
        "plt.plot(all_losses)\n",
        "plt.xlabel('Epochs')\n",
        "plt.ylabel('Loss')\n",
        "plt.title('Training loss for text generation')\n",
        "plt.show()"
      ]
    },
    {
      "cell_type": "markdown",
      "metadata": {
        "execution": {},
        "id": "AdmSfgY2kV2g"
      },
      "source": [
        "## Section 2.2: Sequence Tagging\n",
        "\n"
      ]
    },
    {
      "cell_type": "code",
      "execution_count": 29,
      "metadata": {
        "cellView": "form",
        "execution": {},
        "id": "RGNtPcrZkV2g",
        "outputId": "818121ec-8e40-49eb-a2c1-dd335a6dc56b",
        "colab": {
          "base_uri": "https://localhost:8080/",
          "height": 582,
          "referenced_widgets": [
            "d63f317589cf4243a57be227c59da936",
            "3f5f3cb9f2064884bf60172783508c42",
            "83e6225f9bd34820b5f582b7aec8928e",
            "b44933c859444cc9a64c87f9a8444060",
            "d0b1e9a623cb4b72be1b1570edeb813f",
            "6b81fe7c3c4a443ca830df9dbc83ac0a"
          ]
        }
      },
      "outputs": [
        {
          "output_type": "display_data",
          "data": {
            "text/plain": [
              "Tab(children=(Output(), Output()), _titles={'0': 'Youtube', '1': 'Bilibili'})"
            ],
            "application/vnd.jupyter.widget-view+json": {
              "version_major": 2,
              "version_minor": 0,
              "model_id": "d63f317589cf4243a57be227c59da936"
            }
          },
          "metadata": {}
        }
      ],
      "source": [
        "# @title Video 6: Tagging\n",
        "from ipywidgets import widgets\n",
        "\n",
        "out2 = widgets.Output()\n",
        "with out2:\n",
        "  from IPython.display import IFrame\n",
        "  class BiliVideo(IFrame):\n",
        "    def __init__(self, id, page=1, width=400, height=300, **kwargs):\n",
        "      self.id=id\n",
        "      src = \"https://player.bilibili.com/player.html?bvid={0}&page={1}\".format(id, page)\n",
        "      super(BiliVideo, self).__init__(src, width, height, **kwargs)\n",
        "\n",
        "  video = BiliVideo(id=\"\", width=854, height=480, fs=1)\n",
        "  print(\"Video available at https://www.bilibili.com/video/{0}\".format(video.id))\n",
        "  display(video)\n",
        "\n",
        "out1 = widgets.Output()\n",
        "with out1:\n",
        "  from IPython.display import YouTubeVideo\n",
        "  video = YouTubeVideo(id=\"Wnj9XZdtV7I\", width=854, height=480, fs=1, rel=0)\n",
        "  print(\"Video available at https://youtube.com/watch?v=\" + video.id)\n",
        "  display(video)\n",
        "\n",
        "out = widgets.Tab([out1, out2])\n",
        "out.set_title(0, 'Youtube')\n",
        "out.set_title(1, 'Bilibili')\n",
        "\n",
        "# Add event to airtable\n",
        "atform.add_event('Video 6: Tagging')\n",
        "\n",
        "display(out)"
      ]
    },
    {
      "cell_type": "markdown",
      "metadata": {
        "execution": {},
        "id": "jwdMtLr7kV2h"
      },
      "source": [
        "\n",
        "Sequence tagging is a task in machine learning whose goal is to assign a label (or category) to each unit of a sequence processed in a model. In natural language processing, parts-of-speech tagging and named entity recognition are some popular tagging tasks. \n",
        "\n",
        "Formally, we study tagging as a different task from language modelling or text generation, but there are similarities between them. Instead of choosing the next best  character from the output model, we pass the hidden state of each recurrent unit from the model to a fully connected layer and assign it a label.    "
      ]
    },
    {
      "cell_type": "code",
      "execution_count": 30,
      "metadata": {
        "cellView": "form",
        "execution": {},
        "id": "SH5Trt64kV2h"
      },
      "outputs": [],
      "source": [
        "# @markdown Build the dataloader (run me!)\n",
        "class TaggingDataset(torch.utils.data.Dataset):\n",
        "  'Characterizes a dataset for PyTorch'\n",
        "\n",
        "  def __init__(self, raw_data):\n",
        "    'Initialization'\n",
        "    self.data = raw_data\n",
        "    self.vowels = ['a', 'e', 'i', 'o', 'u', 'A', 'E', 'I', 'O', 'U']\n",
        "\n",
        "  def __len__(self):\n",
        "    'Denotes the total number of samples'\n",
        "    return len(self.data)\n",
        "\n",
        "  def __getitem__(self, index):\n",
        "    'Generates one sample of data'\n",
        "    # Select sample\n",
        "    inp = char_tensor(self.data[index][:-1])\n",
        "    target = []\n",
        "    for c in self.data[index][1:]:\n",
        "      if c in self.vowels:\n",
        "        target.append(0)\n",
        "      elif c == ' ':\n",
        "        target.append(1)\n",
        "      else:\n",
        "        target.append(2)\n",
        "    target = torch.tensor(target)\n",
        "    # print(self.data[index][:-1], target)\n",
        "    return inp, target\n",
        "\n",
        "\n",
        "# Data loaders\n",
        "raw_data = []\n",
        "for i in range(100):\n",
        "  raw_data.append(random_chunk(chunk_len))\n",
        "dataset = TaggingDataset(raw_data)\n",
        "dataloader = torch.utils.data.DataLoader(dataset, batch_size=1)"
      ]
    },
    {
      "cell_type": "markdown",
      "metadata": {
        "execution": {},
        "id": "qWLv_WdrkV2i"
      },
      "source": [
        "### Coding Exercise 4: Implement Sequence Labelling\n",
        "\n",
        "For this exercise, you will train a character-level sequence labelling model on the same dataset as the previous exercise: which takes in a character and a hidden state vector as input, and predicts whether the **next** character in the sequence will be a vowel (V), space (S) or other (O). Much of the code for this task is identical to the code for text generation, so you will be making the most important tweaks in the text generation pipeline that will give you a a tagging pipeline. Note that since we are reducing the prediction space to just three classes, the task becomes much more simple.\n",
        "\n",
        "Structurally, the tagging model looks similar to the text generation one, except the Linear layer must map to the the number of tags or labels defined for your task. Functionally, the hidden state (instead of the output) must be mapped to the Linear layer to perform the classification of the required unit."
      ]
    },
    {
      "cell_type": "code",
      "execution_count": 31,
      "metadata": {
        "cellView": "code",
        "execution": {},
        "id": "v6ho_uj4kV2i"
      },
      "outputs": [],
      "source": [
        "class TaggingRNN(nn.Module):\n",
        "  def __init__(self, input_size, hidden_size, output_size, n_layers=1):\n",
        "    super(TaggingRNN, self).__init__()\n",
        "    self.input_size = input_size\n",
        "    self.hidden_size = hidden_size\n",
        "    self.output_size = output_size\n",
        "    self.n_layers = n_layers\n",
        "    ####################################################################\n",
        "    # Fill in missing code below (...),\n",
        "    # then remove or comment the line below to test your function\n",
        "    raise NotImplementedError(\"Tagging Init\")\n",
        "    ####################################################################\n",
        "    self.embedding = ...\n",
        "    # https://pytorch.org/docs/stable/generated/torch.nn.RNN.html\n",
        "    self.rnn = ...\n",
        "    self.linear = ...\n",
        "\n",
        "  def forward(self, input, hidden):\n",
        "    input = self.embedding(input.view(1, -1))\n",
        "    output, hidden = self.rnn(input.view(1, 1, -1), hidden)\n",
        "    out = self.linear(hidden)\n",
        "    return out, hidden\n",
        "\n",
        "  def init_hidden(self):\n",
        "    return torch.zeros(self.n_layers, 1, self.hidden_size)\n",
        "## Uncomment to run\n",
        "# sampleTagger = TaggingRNN(20, 100, 10, 2)\n",
        "# print(sampleTagger)\n",
        "\n",
        "# add event to airtable\n",
        "atform.add_event('Coding Exercise 4: Implement Sequence Labelling')"
      ]
    },
    {
      "cell_type": "markdown",
      "metadata": {
        "execution": {},
        "id": "EzYvmKPQkV2j"
      },
      "source": [
        "Sample output\n",
        "\n",
        "```python\n",
        "TaggingRNN(\n",
        "  (embedding): Embedding(20, 100)\n",
        "  (rnn): RNN(100, 100, num_layers=2)\n",
        "  (linear): Linear(in_features=100, out_features=3, bias=True)\n",
        ")\n",
        "```"
      ]
    },
    {
      "cell_type": "code",
      "execution_count": 32,
      "metadata": {
        "execution": {},
        "id": "_IU3Zg8SkV2j",
        "outputId": "58627b27-a2a7-4a52-a45c-dbeea8f19e37",
        "colab": {
          "base_uri": "https://localhost:8080/"
        }
      },
      "outputs": [
        {
          "output_type": "stream",
          "name": "stdout",
          "text": [
            "TaggingRNN(\n",
            "  (embedding): Embedding(20, 100)\n",
            "  (rnn): RNN(100, 100, num_layers=2)\n",
            "  (linear): Linear(in_features=100, out_features=3, bias=True)\n",
            ")\n"
          ]
        }
      ],
      "source": [
        "# to_remove solution\n",
        "class TaggingRNN(nn.Module):\n",
        "  def __init__(self, input_size, hidden_size, output_size, n_layers=1):\n",
        "    super(TaggingRNN, self).__init__()\n",
        "    self.input_size = input_size\n",
        "    self.hidden_size = hidden_size\n",
        "    self.output_size = output_size\n",
        "    self.n_layers = n_layers\n",
        "\n",
        "    self.embedding = nn.Embedding(input_size, hidden_size)\n",
        "    # https://pytorch.org/docs/stable/generated/torch.nn.RNN.html\n",
        "    self.rnn = nn.RNN(hidden_size, hidden_size, n_layers)\n",
        "    self.linear = nn.Linear(hidden_size, 3)\n",
        "\n",
        "  def forward(self, input, hidden):\n",
        "    input = self.embedding(input.view(1, -1))\n",
        "    output, hidden = self.rnn(input.view(1, 1, -1), hidden)\n",
        "    out = self.linear(hidden)\n",
        "    return out, hidden\n",
        "\n",
        "  def init_hidden(self):\n",
        "    return torch.zeros(self.n_layers, 1, self.hidden_size)\n",
        "\n",
        "\n",
        "## Uncomment to run\n",
        "sampleTagger = TaggingRNN(20, 100, 10, 2)\n",
        "print(sampleTagger)\n",
        "\n",
        "# add event to airtable\n",
        "atform.add_event('Coding Exercise 4: Implement Sequence Labelling')"
      ]
    },
    {
      "cell_type": "markdown",
      "metadata": {
        "execution": {},
        "id": "LK9bSZZskV2k"
      },
      "source": [
        "### Evaluation\n",
        "\n",
        "Here is a function that performs the Vowel/Space/Other tagging task for each character of the given string. You don't need to code anything.  \n",
        "\n",
        "**Bonus task:** notice the similarities between it and the evaluation code for the text generation task."
      ]
    },
    {
      "cell_type": "code",
      "execution_count": 33,
      "metadata": {
        "cellView": "form",
        "execution": {},
        "id": "Xcwh7GxJkV2k"
      },
      "outputs": [],
      "source": [
        "# @markdown Evaluation function\n",
        "\n",
        "def evaluate(model, prime_str, predict_len):\n",
        "  labels = ['Vowel', 'Space', 'Other']\n",
        "\n",
        "  hidden = model.init_hidden()\n",
        "  prime_input = char_tensor(prime_str)\n",
        "  build_up = len(prime_str) - predict_len\n",
        "  predicted = prime_str[:build_up]\n",
        "\n",
        "  # Use priming string to \"build up\" hidden state\n",
        "  for p in range(build_up):\n",
        "    _, hidden = model(prime_input[p], hidden)\n",
        "\n",
        "  column_width = len('milan_is_a_nice_place')+2\n",
        "\n",
        "  print('Text {}'.ljust(column_width) + 'Next Character is ...\\n-------------------------')\n",
        "\n",
        "  # For each character remaining to be tagged\n",
        "  for p in range(0, predict_len):\n",
        "    # Get it's input tensor\n",
        "    inp = prime_input[build_up + p]\n",
        "    next_char = prime_str[build_up + p]\n",
        "    predicted += next_char\n",
        "\n",
        "    # Pass the input and the previous hidden state to the model\n",
        "    out, hidden = model(inp, hidden)\n",
        "\n",
        "    # Softmax the output and find the best tag\n",
        "    softmax = torch.softmax(out[0], dim=1, dtype=torch.float)\n",
        "    i = torch.argmax(softmax)\n",
        "    label = labels[i]\n",
        "\n",
        "    text = predicted.replace(' ', '_')\n",
        "    print(text.ljust(column_width) + label)"
      ]
    },
    {
      "cell_type": "markdown",
      "metadata": {
        "execution": {},
        "id": "ggcAC_MSkV2l"
      },
      "source": [
        "### Training"
      ]
    },
    {
      "cell_type": "code",
      "execution_count": 34,
      "metadata": {
        "cellView": "form",
        "execution": {},
        "id": "G6rl9Q82kV2l",
        "outputId": "a10792a2-82de-426d-9d08-97feb49ded6c",
        "colab": {
          "base_uri": "https://localhost:8080/",
          "height": 1000
        }
      },
      "outputs": [
        {
          "output_type": "stream",
          "name": "stdout",
          "text": [
            "\n",
            "------ Epoch 5\n",
            "Text {}                Next Character is ...\n",
            "-------------------------\n",
            "milan_i                Other\n",
            "milan_is               Space\n",
            "milan_is_              Other\n",
            "milan_is_a             Other\n",
            "milan_is_a_            Other\n",
            "milan_is_a_n           Vowel\n",
            "milan_is_a_ni          Other\n",
            "milan_is_a_nic         Other\n",
            "milan_is_a_nice        Other\n",
            "milan_is_a_nice_       Other\n",
            "milan_is_a_nice_p      Vowel\n",
            "milan_is_a_nice_pl     Vowel\n",
            "milan_is_a_nice_pla    Other\n",
            "milan_is_a_nice_plac   Vowel\n",
            "milan_is_a_nice_place  Other\n",
            "\n",
            "------ Epoch 10\n",
            "Text {}                Next Character is ...\n",
            "-------------------------\n",
            "milan_i                Space\n",
            "milan_is               Space\n",
            "milan_is_              Other\n",
            "milan_is_a             Other\n",
            "milan_is_a_            Other\n",
            "milan_is_a_n           Vowel\n",
            "milan_is_a_ni          Other\n",
            "milan_is_a_nic         Other\n",
            "milan_is_a_nice        Other\n",
            "milan_is_a_nice_       Other\n",
            "milan_is_a_nice_p      Vowel\n",
            "milan_is_a_nice_pl     Vowel\n",
            "milan_is_a_nice_pla    Other\n",
            "milan_is_a_nice_plac   Vowel\n",
            "milan_is_a_nice_place  Space\n"
          ]
        },
        {
          "output_type": "display_data",
          "data": {
            "text/plain": [
              "<Figure size 576x432 with 1 Axes>"
            ],
            "image/png": "[encoded data removed]"
          },
          "metadata": {
            "image/png": {
              "width": 558,
              "height": 413
            },
            "needs_background": "light"
          }
        }
      ],
      "source": [
        "# @markdown Run this cell to train the model!\n",
        "\n",
        "# Single training step\n",
        "def train_simple(inp, target, chunk_len):\n",
        "  # Initialize hidden state, zero the gradients of decoder\n",
        "  hidden = tagger.init_hidden()\n",
        "  tagger.zero_grad()\n",
        "  loss = 0\n",
        "\n",
        "  # For each character in our chunk (except last), compute the hidden and ouput\n",
        "  # Using each output, compute the loss with the corresponding target\n",
        "  for c in range(chunk_len):\n",
        "    out, hidden = tagger(inp[c], hidden)\n",
        "    loss += criterion(out[0], target[c].unsqueeze(0))\n",
        "\n",
        "  # Backpropagate and optimize\n",
        "  loss.backward()\n",
        "  optimizer.step()\n",
        "\n",
        "  # Return average loss\n",
        "  return loss.data.item() / chunk_len\n",
        "\n",
        "\n",
        "# Define the parameters\n",
        "n_epochs = 12\n",
        "hidden_size = 100\n",
        "n_layers = 1\n",
        "lr = 0.005\n",
        "\n",
        "print_every, plot_every = 5, 1\n",
        "\n",
        "# Create model, optimizer and loss function\n",
        "tagger = TaggingRNN(n_characters, hidden_size, n_characters, n_layers)\n",
        "optimizer = torch.optim.Adam(tagger.parameters(), lr=lr)\n",
        "criterion = nn.CrossEntropyLoss()\n",
        "\n",
        "all_losses = []\n",
        "loss_avg = 0\n",
        "\n",
        "# For every epoch\n",
        "for epoch in range(1, n_epochs + 1):\n",
        "\n",
        "  for i, (input, target) in enumerate(dataloader):\n",
        "    loss = train_simple(input[0], target[0], chunk_len)\n",
        "    loss_avg += loss\n",
        "\n",
        "  if epoch % print_every == 0:\n",
        "    print(f'\\n------ Epoch {epoch}')\n",
        "    evaluate(tagger, 'milan is a nice place', 15)\n",
        "\n",
        "  if epoch % plot_every == 0:\n",
        "    all_losses.append(loss_avg / plot_every)\n",
        "    loss_avg = 0\n",
        "\n",
        "plt.figure()\n",
        "plt.plot(all_losses)\n",
        "plt.xlabel('Epochs')\n",
        "plt.ylabel('Cross Entropy Loss')\n",
        "plt.title('Training loss for sequence labelling')\n",
        "plt.show()"
      ]
    },
    {
      "cell_type": "markdown",
      "metadata": {
        "execution": {},
        "id": "NTgEeQOOkV2m"
      },
      "source": [
        "## Section 2.3: Sequence to Sequence \n",
        "\n"
      ]
    },
    {
      "cell_type": "code",
      "execution_count": 35,
      "metadata": {
        "cellView": "form",
        "execution": {},
        "id": "e-H4XMBhkV2m",
        "outputId": "59ec041b-754c-4aac-9f84-a84e8a8567ae",
        "colab": {
          "base_uri": "https://localhost:8080/",
          "height": 582,
          "referenced_widgets": [
            "a8f60cc571654c9fb33cfd6cf6bd55ca",
            "4998a9599f2a4a9ab1d9bac5ccf3aa2d",
            "20821d39d6d8450db37171aa9e32bae6",
            "1850bdbf981d4989b8b60968cdcf2492",
            "900ca3552a004d929ffcd28973793013",
            "3b5a6b2a393e441bad47a39eebebd3e5"
          ]
        }
      },
      "outputs": [
        {
          "output_type": "display_data",
          "data": {
            "text/plain": [
              "Tab(children=(Output(), Output()), _titles={'0': 'Youtube', '1': 'Bilibili'})"
            ],
            "application/vnd.jupyter.widget-view+json": {
              "version_major": 2,
              "version_minor": 0,
              "model_id": "a8f60cc571654c9fb33cfd6cf6bd55ca"
            }
          },
          "metadata": {}
        }
      ],
      "source": [
        "# @title Video 7: Seq2Seq\n",
        "from ipywidgets import widgets\n",
        "\n",
        "out2 = widgets.Output()\n",
        "with out2:\n",
        "  from IPython.display import IFrame\n",
        "  class BiliVideo(IFrame):\n",
        "    def __init__(self, id, page=1, width=400, height=300, **kwargs):\n",
        "      self.id=id\n",
        "      src = \"https://player.bilibili.com/player.html?bvid={0}&page={1}\".format(id, page)\n",
        "      super(BiliVideo, self).__init__(src, width, height, **kwargs)\n",
        "\n",
        "  video = BiliVideo(id=\"\", width=854, height=480, fs=1)\n",
        "  print(\"Video available at https://www.bilibili.com/video/{0}\".format(video.id))\n",
        "  display(video)\n",
        "\n",
        "out1 = widgets.Output()\n",
        "with out1:\n",
        "  from IPython.display import YouTubeVideo\n",
        "  video = YouTubeVideo(id=\"6uJHra_esJU\", width=854, height=480, fs=1, rel=0)\n",
        "  print(\"Video available at https://youtube.com/watch?v=\" + video.id)\n",
        "  display(video)\n",
        "\n",
        "out = widgets.Tab([out1, out2])\n",
        "out.set_title(0, 'Youtube')\n",
        "out.set_title(1, 'Bilibili')\n",
        "\n",
        "# Add event to airtable\n",
        "atform.add_event('Video 7: seq2seq')\n",
        "\n",
        "display(out)"
      ]
    },
    {
      "cell_type": "markdown",
      "metadata": {
        "execution": {},
        "id": "SjlkPAOSkV2n"
      },
      "source": [
        "Sources: [d2l.ai on encoders](https://d2l.ai/chapter_recurrent-modern/encoder-decoder.html) ; [d2l.ai on seq2seq](https://d2l.ai/chapter_recurrent-modern/seq2seq.html) ; [Jalammar's blog](https://jalammar.github.io/visualizing-neural-machine-translation-mechanics-of-seq2seq-models-with-attention/ )\n",
        "\n",
        "Sequence-to-sequence models take in a sequence of items (words, characters, etc) as input and produces another sequence of items as output. The most \n",
        "simple seq2seq models are composed of two parts: the encoder, the context (\"state\" in the figure) and the decoder. The encoder and decoder usually consist of recurrent units that we've seen before (RNNs, GRUs or LSTMs). A high-level schematic of the architecture is as follows:\n",
        "\n",
        "![image.png](data:image/png;base64,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)\n",
        "\n",
        "The encoder's recurrent unit processes the input one item at a time. Once the entire sequence is processed, the final hidden state vector produced is known as a context vector. The size of the context vector is defined while setting up the model, and is equal to the number of hidden states used in the encoder RNN. The encoder then passes the context to the decoder. The decoder's recurrent unit uses the context to produce the items for the output sequence one by one.   \n"
      ]
    },
    {
      "cell_type": "markdown",
      "metadata": {
        "execution": {},
        "id": "Mc7iJ5rnkV2n"
      },
      "source": [
        "One of the most popular applications of seq2seq models is \"machine translation\": the task of taking in a sentence in one language (the source) and producing its translation in another language (the target); with words in both lanugages being the sequence units. This is a supervised learning task, and requires the dataset to have \"parallel sentences\"; i.e., each sentence in the source language must be labelled with its translation in the target language. \n",
        "\n",
        "[Here is an intuitive visualization for understanding seq2seq models for machine translation from English to French](https://i.imgur.com/HJ6t8up.mp4)\n",
        "\n",
        "Since the vocabulary of an entire language is very large, training such models to give meaningful performance requires significant time and resources. In this section, we will train a seq2seq model to perform machine translation from English to [Pig-Latin](https://en.wikipedia.org/wiki/Pig_Latin). We will modify the task to perform character-level machine translation, so that vocabulary size does not grow exponentially.   \n"
      ]
    },
    {
      "cell_type": "code",
      "execution_count": 36,
      "metadata": {
        "cellView": "form",
        "execution": {},
        "id": "tvr7CAVZkV2o",
        "outputId": "8f080efe-6afe-4417-e67d-b5d5a30ffd34",
        "colab": {
          "base_uri": "https://localhost:8080/"
        }
      },
      "outputs": [
        {
          "output_type": "stream",
          "name": "stdout",
          "text": [
            "Downloading Started...\n",
            "Downloading Completed.\n",
            "Extracting all the files now...\n",
            "Done!\n"
          ]
        }
      ],
      "source": [
        "# @title Data download and Preprocessing\n",
        "\n",
        "import os, zipfile, requests, io\n",
        "\n",
        "url = \"https://osf.io/fkg3y/download\"\n",
        "fname = \"wordlist-en_US-large-2020.12.07.zip\"\n",
        "\n",
        "print('Downloading Started...')\n",
        "# Downloading the file by sending the request to the URL\n",
        "r = requests.get(url, stream=True)\n",
        "\n",
        "# Writing the file to the local file system\n",
        "with open(fname, 'wb') as f:\n",
        "  f.write(r.content)\n",
        "print('Downloading Completed.')\n",
        "\n",
        "# opening the zip file in READ mode\n",
        "with zipfile.ZipFile(fname, 'r') as zipObj:\n",
        "  # extracting all the files\n",
        "  print('Extracting all the files now...')\n",
        "  zipObj.extractall()\n",
        "  print('Done!')\n",
        "  os.remove(fname)\n",
        "\n",
        "\n",
        "def t(str):\n",
        "  return str[0] + str[1]\n",
        "\n",
        "\n",
        "def pig_latinize(word):\n",
        "  lst = ['sh', 'gl', 'ch', 'ph', 'tr', 'br', 'fr', 'bl', 'gr', 'st', 'sl', 'cl', 'pl', 'fl']\n",
        "\n",
        "  i = word\n",
        "  if i[0] in ['a', 'e', 'i', 'o', 'u']:\n",
        "    word = i+'ay'\n",
        "  elif t(i) in lst:\n",
        "    word = i[2:] + i[:2] + 'ay'\n",
        "  elif i.isalpha() == False:\n",
        "    word = i\n",
        "  else:\n",
        "    word = i[1:] + i[0] + 'ay'\n",
        "  return word\n",
        "\n",
        "def read_data(fname='en_US-large.txt'):\n",
        "  word_list = []\n",
        "  with open(fname) as f:\n",
        "    word_list.extend(f.readlines())\n",
        "  clean_wordlist = [unidecode.unidecode(w.strip().lower()) for w in word_list if w.strip().isalpha() and len(w.strip()) > 2 and len(w.strip()) < 6]\n",
        "  clean_data = []\n",
        "  for word in clean_wordlist:\n",
        "    clean_data.append(word + ' ' + pig_latinize(word))\n",
        "  return clean_data\n",
        "\n",
        "\n",
        "def tokenize_nmt(text, num_examples=None):\n",
        "  \"\"\"Tokenize the English-French dataset.\"\"\"\n",
        "  source, target = [], []\n",
        "  source_char_set = set()\n",
        "  target_char_set = set()\n",
        "  for i, line in enumerate(text):\n",
        "    if num_examples and i > num_examples:\n",
        "      break\n",
        "    parts = line.split(' ')\n",
        "    # parts = line.split('\\t')\n",
        "    if len(parts) == 2:\n",
        "      src_txt, tgt_txt = parts\n",
        "      cur_src, cur_tgt = [], []\n",
        "      for c in src_txt:\n",
        "        cur_src.append(c)\n",
        "        source_char_set.add(c)\n",
        "      for c in tgt_txt:\n",
        "        cur_tgt.append(c)\n",
        "        target_char_set.add(c)\n",
        "      source.append(cur_src)\n",
        "      target.append(cur_tgt)\n",
        "\n",
        "  special_tokens = ['<eos>', '<bos>', '<pad>']\n",
        "  for tok in special_tokens:\n",
        "    source_char_set.add(tok)\n",
        "    target_char_set.add(tok)\n",
        "  return source, target, sorted(list(source_char_set)), sorted(list(target_char_set))"
      ]
    },
    {
      "cell_type": "markdown",
      "metadata": {
        "execution": {},
        "id": "owkdai4vkV2p"
      },
      "source": [
        "The following cell retrieves about 29,000 random English words and their Pig Latin translations. We then tokenize each word and its translation; in this case, our tokens are characters. We also create vocabularies for the source and target languages; and a two-way mapping for each (index to token and token to index). Finally, we pick the value for `NUM_STEPS` as the size of the largest sequence in either language. This value would mark the maximum size of the sequence accepted by our models.  "
      ]
    },
    {
      "cell_type": "code",
      "execution_count": 37,
      "metadata": {
        "execution": {},
        "id": "48AuuJsFkV2p"
      },
      "outputs": [],
      "source": [
        "clean_data = read_data()\n",
        "\n",
        "source, target, source_vocab, target_vocab = tokenize_nmt(clean_data)\n",
        "\n",
        "source_idx2token = dict((i, char) for i, char in enumerate(source_vocab))\n",
        "target_idx2token = dict((i, char) for i, char in enumerate(target_vocab))\n",
        "source_vocab = dict((char, i) for i, char in enumerate(source_vocab))\n",
        "target_vocab = dict((char, i) for i, char in enumerate(target_vocab))\n",
        "\n",
        "NUM_STEPS = max(max([len(s) for s in source]), max([len(t) for t in target]))"
      ]
    },
    {
      "cell_type": "markdown",
      "metadata": {
        "execution": {},
        "id": "cNUt3PRikV2p"
      },
      "source": [
        "### Padding\n",
        "\n",
        "The input sequences to our model can vary in length, so it is often convenient to have a consistent length among all inputs to the model (This is not required by recurrent models, but makes it easier to control minibatch size). If our defined maximum sequence length is $M$ and a given input sequence is less than that, then we pad it with zeros (our \"special padding symbol:, until its length becomes $M$.      \n",
        "\n"
      ]
    },
    {
      "cell_type": "code",
      "execution_count": 38,
      "metadata": {
        "cellView": "form",
        "execution": {},
        "id": "Ec1tCY--kV2q",
        "outputId": "8afa24c0-af84-4fdf-f92e-c9757aff43ee",
        "colab": {
          "base_uri": "https://localhost:8080/"
        }
      },
      "outputs": [
        {
          "output_type": "stream",
          "name": "stdout",
          "text": [
            "Input test:  ['e', 't', 'u', 'i', 's']\n",
            "['e', 't', 'u', 'i', 's', '<pad>', '<pad>', '<pad>', '<pad>', '<pad>']\n",
            "['e']\n",
            "['e', 't', 'u', 'i', 's']\n"
          ]
        }
      ],
      "source": [
        "# @markdown Padding function\n",
        "def truncate_pad(line, num_steps, padding_token):\n",
        "  \"\"\"Truncate or pad sequences.\"\"\"\n",
        "  # Truncate\n",
        "  if len(line) > num_steps:\n",
        "    return line[:num_steps]\n",
        "\n",
        "  # Pad\n",
        "  number_of_pad_tokens = num_steps - len(line)\n",
        "  padding_list = [padding_token] * number_of_pad_tokens\n",
        "\n",
        "  return line + padding_list\n",
        "\n",
        "\n",
        "# Test the function\n",
        "word = ['e', 't', 'u', 'i', 's']\n",
        "input = [source_vocab[c] for c in word]\n",
        "print('Input test: ', word)\n",
        "o1 = truncate_pad(input, 10, source_vocab['<pad>'])\n",
        "x = [source_idx2token[i] for i in o1]\n",
        "print(x)\n",
        "o1 = truncate_pad(input, 1, source_vocab['<pad>'])\n",
        "x = [source_idx2token[i] for i in o1]\n",
        "print(x)\n",
        "o1 = truncate_pad(input, 5, source_vocab['<pad>'])\n",
        "x = [source_idx2token[i] for i in o1]\n",
        "print(x)"
      ]
    },
    {
      "cell_type": "code",
      "execution_count": 39,
      "metadata": {
        "cellView": "form",
        "execution": {},
        "id": "HOxA06eNkV2r"
      },
      "outputs": [],
      "source": [
        "# @markdown Build the dataloaders\n",
        "\n",
        "def build_array(data, vocab, num_steps):\n",
        "  \"\"\"Transform text sequences of machine translation into minibatches.\"\"\"\n",
        "  complete_data, lengths = [], []\n",
        "  for lines in data:\n",
        "    lines = [vocab[l] for l in lines]\n",
        "    lines.append(vocab['<eos>'])\n",
        "    array = torch.tensor(truncate_pad(lines, num_steps, vocab['<pad>']))\n",
        "    valid_len = (array != vocab['<pad>']).type(torch.int32).sum(0)\n",
        "    complete_data.append(array)\n",
        "    lengths.append(valid_len.item())\n",
        "  return torch.stack(complete_data), torch.tensor(lengths)\n",
        "\n",
        "\n",
        "class MTDataset(torch.utils.data.Dataset):\n",
        "  'Characterizes a dataset for PyTorch'\n",
        "\n",
        "  def __init__(self, source, target):\n",
        "    'Initialization'\n",
        "    source_data, source_lens = build_array(source, source_vocab, NUM_STEPS)\n",
        "    target_data, target_lens = build_array(target, target_vocab, NUM_STEPS)\n",
        "    self.source = source_data\n",
        "    self.source_len = source_lens\n",
        "    self.target = target_data\n",
        "    self.target_len = target_lens\n",
        "\n",
        "  def __len__(self):\n",
        "    'Denotes the total number of samples'\n",
        "    return len(self.source)\n",
        "\n",
        "  def __getitem__(self, index):\n",
        "    'Generates one sample of data'\n",
        "    # Select sample\n",
        "    return self.source[index], self.source_len[index], self.target[index], self.target_len[index]"
      ]
    },
    {
      "cell_type": "markdown",
      "metadata": {
        "execution": {},
        "id": "AM79Wi0NkV2r"
      },
      "source": [
        "### Encoder and Decoder Architecture\n"
      ]
    },
    {
      "cell_type": "markdown",
      "metadata": {
        "execution": {},
        "id": "bF7VYZ_nkV2s"
      },
      "source": [
        "#### Coding Exercise 5: Implement Encoder and Decoder\n",
        "\n",
        "Implement the forward functions for the Encoder and Decoder of the seq2seq model as directed. \n",
        "\n",
        "The Encoder model is very similar to what you have seen so far:\n",
        "* Get the embedding of the input `X`\n",
        "* Pass `X` through the recurrent unit. You can define your own initial hidden state, or omit it (in which case a tensor of zeros is used). \n",
        "* There is no linear layer \n",
        "\n",
        "You will notice that the Decoder also contains an embedding layer; something that wasn't mentioned during the initial explanation of the seq2seq model. This is because we want to apply \"teacher forcing\" to this problem. Teacher forcing is a strategy for training RNNs that uses model output from a prior time step as an input. Specifically, \n",
        "* Get the embedding of `X` (which is actually output from the previous time step)\n",
        "* Concatenate it with the previous hidden state\n",
        "* To the recurrent unit of the decoder pass this concatenation as \"input\"; and pass the previous hidden state as \"hidden\"\n",
        "* Pass the output of the recurrent unit through the linear layer     \n",
        "\n",
        "\n"
      ]
    },
    {
      "cell_type": "code",
      "execution_count": 40,
      "metadata": {
        "execution": {},
        "id": "Qu0pPRq0kV2s"
      },
      "outputs": [],
      "source": [
        "class Encoder(nn.Module):\n",
        "  \"\"\"The RNN encoder for sequence to sequence learning.\"\"\"\n",
        "  def __init__(self, vocab_size, embed_size, num_hiddens, num_layers,\n",
        "                dropout=0):\n",
        "    super(Encoder, self).__init__()\n",
        "    # Embedding layer\n",
        "    self.embedding = nn.Embedding(vocab_size, embed_size)\n",
        "    self.rnn = nn.RNN(embed_size, num_hiddens, num_layers,\n",
        "                      dropout=dropout)\n",
        "\n",
        "  def forward(self, X):\n",
        "    ####################################################################\n",
        "    # Fill in missing code below (...),\n",
        "    # then remove or comment the line below to test your function\n",
        "    # Hint: always make sure your sizes are correct\n",
        "    raise NotImplementedError(\"Encoder Forward\")\n",
        "    ####################################################################\n",
        "    # The output `X` shape: (`batch_size`, `num_steps`, `embed_size`)\n",
        "    X = ...\n",
        "    # In RNN models, the first axis corresponds to time steps\n",
        "    X = X.permute(1, 0, 2)\n",
        "    # When state is not mentioned, it defaults to zeros\n",
        "    output, state = ...\n",
        "    # `output` shape: (`num_steps`, `batch_size`, `num_hiddens`)\n",
        "    # `state` shape: (`num_layers`, `batch_size`, `num_hiddens`)\n",
        "    return output, state\n",
        "\n",
        "\n",
        "class Decoder(nn.Module):\n",
        "  \"\"\"The RNN decoder for sequence to sequence learning.\"\"\"\n",
        "  def __init__(self, vocab_size, embed_size, num_hiddens, num_layers,\n",
        "                dropout=0):\n",
        "    super(Decoder, self).__init__()\n",
        "    self.embedding = nn.Embedding(vocab_size, embed_size)\n",
        "\n",
        "    self.rnn = nn.RNN(embed_size + num_hiddens, num_hiddens, num_layers,\n",
        "                      dropout=dropout)\n",
        "    self.dense = nn.Linear(num_hiddens, vocab_size)\n",
        "\n",
        "  def init_state(self, enc_outputs):\n",
        "    return enc_outputs[1]\n",
        "\n",
        "  def forward(self, X, state):\n",
        "    ####################################################################\n",
        "    # Fill in missing code below (...),\n",
        "    # then remove or comment the line below to test your function\n",
        "    # Hint: always make sure your sizes are correct\n",
        "    raise NotImplementedError(\"Decoder Forward\")\n",
        "    ####################################################################\n",
        "    # The output `X` shape: (`num_steps`, `batch_size`, `embed_size`)\n",
        "    X = self.embedding(X).permute(1, 0, 2)\n",
        "    # Broadcast `context` so it has the same `num_steps` as `X`\n",
        "    context = state[-1].repeat(X.shape[0], 1, 1)\n",
        "\n",
        "    # Concatenate X and context\n",
        "    X_and_context = torch.cat((..., ...), 2)\n",
        "\n",
        "    # Recurrent unit\n",
        "    output, state = self.rnn(X_and_context, state)\n",
        "    # Linear layer\n",
        "    output = self.dense(output).permute(1, 0, 2)\n",
        "    # `output` shape: (`batch_size`, `num_steps`, `vocab_size`)\n",
        "    # `state` shape: (`num_layers`, `batch_size`, `num_hiddens`)\n",
        "\n",
        "    return output, state\n",
        "\n",
        "\n",
        "## Uncomment to run\n",
        "# encoder = Encoder(1000, 300, 100, 2, 0.1)\n",
        "# decoder = Decoder(1000, 300, 100, 2, 0.1)\n",
        "# print(encoder)\n",
        "# print(decoder)\n",
        "\n",
        "# add event to airtable\n",
        "atform.add_event('Coding Exercise 5: Implement Encoder and Decoder')"
      ]
    },
    {
      "cell_type": "markdown",
      "metadata": {
        "execution": {},
        "id": "Z9YwncXLkV2t"
      },
      "source": [
        "Sample output\n",
        "\n",
        "```python\n",
        "Encoder(\n",
        "  (embedding): Embedding(1000, 300)\n",
        "  (rnn): RNN(300, 100, num_layers=2, dropout=0.1)\n",
        ")\n",
        "Decoder(\n",
        "  (embedding): Embedding(1000, 300)\n",
        "  (rnn): RNN(400, 100, num_layers=2, dropout=0.1)\n",
        "  (dense): Linear(in_features=100, out_features=1000, bias=True)\n",
        "  (dropout): Dropout(p=0.25, inplace=False)\n",
        ")\n",
        "```"
      ]
    },
    {
      "cell_type": "code",
      "execution_count": 41,
      "metadata": {
        "execution": {},
        "id": "Q7V5BgMCkV2t",
        "outputId": "485db7a5-1d14-43c2-85f5-5c17bde2f616",
        "colab": {
          "base_uri": "https://localhost:8080/"
        }
      },
      "outputs": [
        {
          "output_type": "stream",
          "name": "stdout",
          "text": [
            "Encoder(\n",
            "  (embedding): Embedding(1000, 300)\n",
            "  (rnn): RNN(300, 100, num_layers=2, dropout=0.1)\n",
            ")\n",
            "Decoder(\n",
            "  (embedding): Embedding(1000, 300)\n",
            "  (rnn): RNN(400, 100, num_layers=2, dropout=0.1)\n",
            "  (dense): Linear(in_features=100, out_features=1000, bias=True)\n",
            "  (dropout): Dropout(p=0.25, inplace=False)\n",
            ")\n"
          ]
        }
      ],
      "source": [
        "# to_remove solution\n",
        "class Encoder(nn.Module):\n",
        "  \"\"\"The RNN encoder for sequence to sequence learning.\"\"\"\n",
        "  def __init__(self, vocab_size, embed_size, num_hiddens, num_layers,\n",
        "                dropout=0):\n",
        "    super(Encoder, self).__init__()\n",
        "    # Embedding layer\n",
        "    self.embedding = nn.Embedding(vocab_size, embed_size)\n",
        "    self.rnn = nn.RNN(embed_size, num_hiddens, num_layers,\n",
        "                      dropout=dropout)\n",
        "\n",
        "  def forward(self, X):\n",
        "    # The output `X` shape: (`batch_size`, `num_steps`, `embed_size`)\n",
        "    X = self.embedding(X)\n",
        "    # In RNN models, the first axis corresponds to time steps\n",
        "    X = X.permute(1, 0, 2)\n",
        "    # When state is not mentioned, it defaults to zeros\n",
        "    output, state = self.rnn(X)\n",
        "    # `output` shape: (`num_steps`, `batch_size`, `num_hiddens`)\n",
        "    # `state` shape: (`num_layers`, `batch_size`, `num_hiddens`)\n",
        "    return output, state\n",
        "\n",
        "\n",
        "class Decoder(nn.Module):\n",
        "  \"\"\"The RNN decoder for sequence to sequence learning.\"\"\"\n",
        "  def __init__(self, vocab_size, embed_size, num_hiddens, num_layers,\n",
        "                dropout=0):\n",
        "    super(Decoder, self).__init__()\n",
        "    self.embedding = nn.Embedding(vocab_size, embed_size)\n",
        "\n",
        "    self.rnn = nn.RNN(embed_size + num_hiddens, num_hiddens, num_layers,\n",
        "                      dropout=dropout)\n",
        "    self.dense = nn.Linear(num_hiddens, vocab_size)\n",
        "    self.dropout = nn.Dropout(0.25)\n",
        "\n",
        "  def init_state(self, enc_outputs):\n",
        "    return enc_outputs[1]\n",
        "\n",
        "  def forward(self, X, state):\n",
        "    \"\"\"Hint: always make sure your sizes are correct\"\"\"\n",
        "    # The output `X` shape: (`num_steps`, `batch_size`, `embed_size`)\n",
        "    X = self.embedding(X).permute(1, 0, 2)\n",
        "    # Broadcast `context` so it has the same `num_steps` as `X`\n",
        "    context = state[-1].repeat(X.shape[0], 1, 1)\n",
        "\n",
        "    # Concatenate X and context\n",
        "    X_and_context = torch.cat((X, context), 2)\n",
        "\n",
        "    # Recurrent unit\n",
        "    output, state = self.rnn(X_and_context, state)\n",
        "    # Linear layer\n",
        "    output = self.dense(output).permute(1, 0, 2)\n",
        "    # `output` shape: (`batch_size`, `num_steps`, `vocab_size`)\n",
        "    # `state` shape: (`num_layers`, `batch_size`, `num_hiddens`)\n",
        "\n",
        "    return output, state\n",
        "\n",
        "\n",
        "## Uncomment to run\n",
        "encoder = Encoder(1000, 300, 100, 2, 0.1)\n",
        "decoder = Decoder(1000, 300, 100, 2, 0.1)\n",
        "print(encoder)\n",
        "print(decoder)\n",
        "\n",
        "# add event to airtable\n",
        "atform.add_event('Coding Exercise 5: Implement Encoder and Decoder')"
      ]
    },
    {
      "cell_type": "code",
      "execution_count": 42,
      "metadata": {
        "execution": {},
        "id": "YgJEsWOZkV2u"
      },
      "outputs": [],
      "source": [
        "class EncoderDecoder(nn.Module):\n",
        "  \"\"\"The base class for the encoder-decoder architecture.\"\"\"\n",
        "  def __init__(self, encoder, decoder):\n",
        "    super(EncoderDecoder, self).__init__()\n",
        "    self.encoder = encoder\n",
        "    self.decoder = decoder\n",
        "\n",
        "  def forward(self, enc_X, dec_X):\n",
        "    enc_outputs = self.encoder(enc_X)\n",
        "    dec_state = self.decoder.init_state(enc_outputs)\n",
        "    return self.decoder(dec_X, dec_state)"
      ]
    },
    {
      "cell_type": "code",
      "execution_count": 43,
      "metadata": {
        "cellView": "form",
        "execution": {},
        "id": "IT10e5TBkV2v"
      },
      "outputs": [],
      "source": [
        "# @markdown Masked Loss Function\n",
        "def sequence_mask(X, valid_len, value=0):\n",
        "  \"\"\"Mask irrelevant entries in sequences.\"\"\"\n",
        "  maxlen = X.size(1)\n",
        "  mask = torch.arange((maxlen), dtype=torch.float32,\n",
        "                      device=X.device)[None, :] < valid_len[:, None]\n",
        "  X[~mask] = value\n",
        "  return X\n",
        "\n",
        "\n",
        "class MaskedSoftmaxCELoss(nn.CrossEntropyLoss):\n",
        "  \"\"\"The softmax cross-entropy loss with masks.\"\"\"\n",
        "  # `pred` shape: (`batch_size`, `num_steps`, `vocab_size`)\n",
        "  # `label` shape: (`batch_size`, `num_steps`)\n",
        "  # `valid_len` shape: (`batch_size`,)\n",
        "  def forward(self, pred, label, valid_len):\n",
        "    weights = torch.ones_like(label)\n",
        "    weights = sequence_mask(weights, valid_len)\n",
        "    self.reduction='none'\n",
        "    unweighted_loss = super(MaskedSoftmaxCELoss, self).forward(\n",
        "        pred.permute(0, 2, 1), label\n",
        "        )\n",
        "    weighted_loss = (unweighted_loss * weights).mean(dim=1)\n",
        "    return weighted_loss"
      ]
    },
    {
      "cell_type": "code",
      "execution_count": 44,
      "metadata": {
        "cellView": "form",
        "execution": {},
        "id": "rSztcDP1kV2v"
      },
      "outputs": [],
      "source": [
        "# @markdown `train_seq2seq(model, data_loader, lr, num_epochs, tgt_vocab, device)`\n",
        "\n",
        "def train_seq2seq(model, data_loader, lr, num_epochs, tgt_vocab, device):\n",
        "  \"\"\"Train a model for sequence to sequence.\"\"\"\n",
        "  def xavier_init_weights(m):\n",
        "    if type(m) == nn.Linear:\n",
        "      nn.init.xavier_uniform_(m.weight)\n",
        "    if type(m) == nn.GRU:\n",
        "      for param in m._flat_weights_names:\n",
        "        if \"weight\" in param:\n",
        "          nn.init.xavier_uniform_(m._parameters[param])\n",
        "  model.apply(xavier_init_weights)\n",
        "  model.to(device)\n",
        "  optimizer = torch.optim.Adam(model.parameters(), lr=lr)\n",
        "  loss = MaskedSoftmaxCELoss()\n",
        "\n",
        "  dataset = MTDataset(source, target)\n",
        "  dataloader = torch.utils.data.DataLoader(dataset, batch_size=64)\n",
        "\n",
        "  model.train()\n",
        "  animator = d2l.Animator(xlabel='epoch', ylabel='loss',\n",
        "                          xlim=[10, num_epochs])\n",
        "  for epoch in range(num_epochs):\n",
        "    # TODO: without d2l?\n",
        "    timer = d2l.Timer()\n",
        "    metric = d2l.Accumulator(2)  # Sum of training loss, no. of tokens\n",
        "    for batch in dataloader:\n",
        "      X, X_valid_len, Y, Y_valid_len = [x.to(device) for x in batch]\n",
        "      bos = torch.tensor([tgt_vocab['<bos>']] * Y.shape[0],\n",
        "                          device=device).reshape(-1, 1)\n",
        "\n",
        "      dec_input = torch.cat([bos, Y[:, :-1]], 1)  # Teacher forcing\n",
        "      Y_hat, _ = model(X, dec_input)\n",
        "      l = loss(Y_hat, Y, Y_valid_len)\n",
        "      l.sum().backward()  # Make the loss scalar for `backward`\n",
        "\n",
        "      grad_clipping(model, 1)\n",
        "      num_tokens = Y_valid_len.sum()\n",
        "      optimizer.step()\n",
        "      with torch.no_grad():\n",
        "        metric.add(l.sum(), num_tokens)\n",
        "\n",
        "    if (epoch + 1) % 10 == 0:\n",
        "      animator.add(epoch + 1, (metric[0] / metric[1],))\n",
        "\n",
        "  print(f'loss {metric[0] / metric[1]:.3f}, {metric[1] / timer.stop():.1f} '\n",
        "        f'tokens/sec on {str(device)}')"
      ]
    },
    {
      "cell_type": "markdown",
      "metadata": {
        "execution": {},
        "id": "hsnnHrv7kV2w"
      },
      "source": [
        "This cell below, takes about 10 minutes to run. "
      ]
    },
    {
      "cell_type": "code",
      "execution_count": 45,
      "metadata": {
        "execution": {},
        "id": "FD_XiDSLkV2x",
        "outputId": "cbcef81a-60db-413a-c245-208c036cddf1",
        "colab": {
          "base_uri": "https://localhost:8080/",
          "height": 256
        }
      },
      "outputs": [
        {
          "output_type": "stream",
          "name": "stdout",
          "text": [
            "loss 0.183, 55102.3 tokens/sec on cuda\n"
          ]
        },
        {
          "output_type": "display_data",
          "data": {
            "text/plain": [
              "<Figure size 252x180 with 1 Axes>"
            ],
            "image/svg+xml": "<?xml version=\"1.0\" encoding=\"utf-8\" standalone=\"no\"?>\n<!DOCTYPE svg PUBLIC \"-//W3C//DTD SVG 1.1//EN\"\n  \"http://www.w3.org/Graphics/SVG/1.1/DTD/svg11.dtd\">\n<!-- Created with matplotlib (https://matplotlib.org/) -->\n<svg height=\"162pt\" version=\"1.1\" viewBox=\"0 0 234 162\" width=\"234pt\" xmlns=\"http://www.w3.org/2000/svg\" xmlns:xlink=\"http://www.w3.org/1999/xlink\">\n <defs>\n  <style type=\"text/css\">\n*{stroke-linecap:butt;stroke-linejoin:round;}\n  </style>\n </defs>\n <g id=\"figure_1\">\n  <g id=\"patch_1\">\n   <path d=\"M 0 162 \nL 234 162 \nL 234 0 \nL 0 0 \nz\n\" style=\"fill:none;\"/>\n  </g>\n  <g id=\"axes_1\">\n   <g id=\"patch_2\">\n    <path d=\"M 62.038086 115.689995 \nL 214.875084 115.689995 \nL 214.875084 7.2 \nL 62.038086 7.2 \nz\n\" style=\"fill:#ffffff;\"/>\n   </g>\n   <g id=\"matplotlib.axis_1\">\n    <g id=\"xtick_1\">\n     <g id=\"line2d_1\">\n      <path clip-path=\"url(#p2d479401f0)\" d=\"M 105.7058 115.689995 \nL 105.7058 7.2 \n\" style=\"fill:none;stroke:#b0b0b0;stroke-linecap:square;stroke-width:0.8;\"/>\n     </g>\n     <g id=\"line2d_2\">\n      <defs>\n       <path d=\"M 0 0 \nL 0 5 \n\" id=\"m931d95d7ab\" style=\"stroke:#000000;stroke-width:0.8;\"/>\n      </defs>\n      <g>\n       <use style=\"stroke:#000000;stroke-width:0.8;\" x=\"105.7058\" xlink:href=\"#m931d95d7ab\" y=\"115.689995\"/>\n      </g>\n     </g>\n     <g id=\"text_1\">\n      <!-- 50 -->\n      <defs>\n       <path d=\"M 10.796875 72.90625 \nL 49.515625 72.90625 \nL 49.515625 64.59375 \nL 19.828125 64.59375 \nL 19.828125 46.734375 \nQ 21.96875 47.46875 24.109375 47.828125 \nQ 26.265625 48.1875 28.421875 48.1875 \nQ 40.625 48.1875 47.75 41.5 \nQ 54.890625 34.8125 54.890625 23.390625 \nQ 54.890625 11.625 47.5625 5.09375 \nQ 40.234375 -1.421875 26.90625 -1.421875 \nQ 22.3125 -1.421875 17.546875 -0.640625 \nQ 12.796875 0.140625 7.71875 1.703125 \nL 7.71875 11.625 \nQ 12.109375 9.234375 16.796875 8.0625 \nQ 21.484375 6.890625 26.703125 6.890625 \nQ 35.15625 6.890625 40.078125 11.328125 \nQ 45.015625 15.765625 45.015625 23.390625 \nQ 45.015625 31 40.078125 35.4375 \nQ 35.15625 39.890625 26.703125 39.890625 \nQ 22.75 39.890625 18.8125 39.015625 \nQ 14.890625 38.140625 10.796875 36.28125 \nz\n\" id=\"DejaVuSans-53\"/>\n       <path d=\"M 31.78125 66.40625 \nQ 24.171875 66.40625 20.328125 58.90625 \nQ 16.5 51.421875 16.5 36.375 \nQ 16.5 21.390625 20.328125 13.890625 \nQ 24.171875 6.390625 31.78125 6.390625 \nQ 39.453125 6.390625 43.28125 13.890625 \nQ 47.125 21.390625 47.125 36.375 \nQ 47.125 51.421875 43.28125 58.90625 \nQ 39.453125 66.40625 31.78125 66.40625 \nz\nM 31.78125 74.21875 \nQ 44.046875 74.21875 50.515625 64.515625 \nQ 56.984375 54.828125 56.984375 36.375 \nQ 56.984375 17.96875 50.515625 8.265625 \nQ 44.046875 -1.421875 31.78125 -1.421875 \nQ 19.53125 -1.421875 13.0625 8.265625 \nQ 6.59375 17.96875 6.59375 36.375 \nQ 6.59375 54.828125 13.0625 64.515625 \nQ 19.53125 74.21875 31.78125 74.21875 \nz\n\" id=\"DejaVuSans-48\"/>\n      </defs>\n      <g transform=\"translate(97.755856 133.684243)scale(0.12495 -0.12495)\">\n       <use xlink:href=\"#DejaVuSans-53\"/>\n       <use x=\"63.623047\" xlink:href=\"#DejaVuSans-48\"/>\n      </g>\n     </g>\n    </g>\n    <g id=\"xtick_2\">\n     <g id=\"line2d_3\">\n      <path clip-path=\"url(#p2d479401f0)\" d=\"M 160.290442 115.689995 \nL 160.290442 7.2 \n\" style=\"fill:none;stroke:#b0b0b0;stroke-linecap:square;stroke-width:0.8;\"/>\n     </g>\n     <g id=\"line2d_4\">\n      <g>\n       <use style=\"stroke:#000000;stroke-width:0.8;\" x=\"160.290442\" xlink:href=\"#m931d95d7ab\" y=\"115.689995\"/>\n      </g>\n     </g>\n     <g id=\"text_2\">\n      <!-- 100 -->\n      <defs>\n       <path d=\"M 12.40625 8.296875 \nL 28.515625 8.296875 \nL 28.515625 63.921875 \nL 10.984375 60.40625 \nL 10.984375 69.390625 \nL 28.421875 72.90625 \nL 38.28125 72.90625 \nL 38.28125 8.296875 \nL 54.390625 8.296875 \nL 54.390625 0 \nL 12.40625 0 \nz\n\" id=\"DejaVuSans-49\"/>\n      </defs>\n      <g transform=\"translate(148.365526 133.684243)scale(0.12495 -0.12495)\">\n       <use xlink:href=\"#DejaVuSans-49\"/>\n       <use x=\"63.623047\" xlink:href=\"#DejaVuSans-48\"/>\n       <use x=\"127.246094\" xlink:href=\"#DejaVuSans-48\"/>\n      </g>\n     </g>\n    </g>\n    <g id=\"xtick_3\">\n     <g id=\"line2d_5\">\n      <path clip-path=\"url(#p2d479401f0)\" d=\"M 214.875084 115.689995 \nL 214.875084 7.2 \n\" style=\"fill:none;stroke:#b0b0b0;stroke-linecap:square;stroke-width:0.8;\"/>\n     </g>\n     <g id=\"line2d_6\">\n      <g>\n       <use style=\"stroke:#000000;stroke-width:0.8;\" x=\"214.875084\" xlink:href=\"#m931d95d7ab\" y=\"115.689995\"/>\n      </g>\n     </g>\n     <g id=\"text_3\">\n      <!-- 150 -->\n      <g transform=\"translate(202.950169 133.684243)scale(0.12495 -0.12495)\">\n       <use xlink:href=\"#DejaVuSans-49\"/>\n       <use x=\"63.623047\" xlink:href=\"#DejaVuSans-53\"/>\n       <use x=\"127.246094\" xlink:href=\"#DejaVuSans-48\"/>\n      </g>\n     </g>\n    </g>\n    <g id=\"text_4\">\n     <!-- epoch -->\n     <defs>\n      <path d=\"M 56.203125 29.59375 \nL 56.203125 25.203125 \nL 14.890625 25.203125 \nQ 15.484375 15.921875 20.484375 11.0625 \nQ 25.484375 6.203125 34.421875 6.203125 \nQ 39.59375 6.203125 44.453125 7.46875 \nQ 49.3125 8.734375 54.109375 11.28125 \nL 54.109375 2.78125 \nQ 49.265625 0.734375 44.1875 -0.34375 \nQ 39.109375 -1.421875 33.890625 -1.421875 \nQ 20.796875 -1.421875 13.15625 6.1875 \nQ 5.515625 13.8125 5.515625 26.8125 \nQ 5.515625 40.234375 12.765625 48.109375 \nQ 20.015625 56 32.328125 56 \nQ 43.359375 56 49.78125 48.890625 \nQ 56.203125 41.796875 56.203125 29.59375 \nz\nM 47.21875 32.234375 \nQ 47.125 39.59375 43.09375 43.984375 \nQ 39.0625 48.390625 32.421875 48.390625 \nQ 24.90625 48.390625 20.390625 44.140625 \nQ 15.875 39.890625 15.1875 32.171875 \nz\n\" id=\"DejaVuSans-101\"/>\n      <path d=\"M 18.109375 8.203125 \nL 18.109375 -20.796875 \nL 9.078125 -20.796875 \nL 9.078125 54.6875 \nL 18.109375 54.6875 \nL 18.109375 46.390625 \nQ 20.953125 51.265625 25.265625 53.625 \nQ 29.59375 56 35.59375 56 \nQ 45.5625 56 51.78125 48.09375 \nQ 58.015625 40.1875 58.015625 27.296875 \nQ 58.015625 14.40625 51.78125 6.484375 \nQ 45.5625 -1.421875 35.59375 -1.421875 \nQ 29.59375 -1.421875 25.265625 0.953125 \nQ 20.953125 3.328125 18.109375 8.203125 \nz\nM 48.6875 27.296875 \nQ 48.6875 37.203125 44.609375 42.84375 \nQ 40.53125 48.484375 33.40625 48.484375 \nQ 26.265625 48.484375 22.1875 42.84375 \nQ 18.109375 37.203125 18.109375 27.296875 \nQ 18.109375 17.390625 22.1875 11.75 \nQ 26.265625 6.109375 33.40625 6.109375 \nQ 40.53125 6.109375 44.609375 11.75 \nQ 48.6875 17.390625 48.6875 27.296875 \nz\n\" id=\"DejaVuSans-112\"/>\n      <path d=\"M 30.609375 48.390625 \nQ 23.390625 48.390625 19.1875 42.75 \nQ 14.984375 37.109375 14.984375 27.296875 \nQ 14.984375 17.484375 19.15625 11.84375 \nQ 23.34375 6.203125 30.609375 6.203125 \nQ 37.796875 6.203125 41.984375 11.859375 \nQ 46.1875 17.53125 46.1875 27.296875 \nQ 46.1875 37.015625 41.984375 42.703125 \nQ 37.796875 48.390625 30.609375 48.390625 \nz\nM 30.609375 56 \nQ 42.328125 56 49.015625 48.375 \nQ 55.71875 40.765625 55.71875 27.296875 \nQ 55.71875 13.875 49.015625 6.21875 \nQ 42.328125 -1.421875 30.609375 -1.421875 \nQ 18.84375 -1.421875 12.171875 6.21875 \nQ 5.515625 13.875 5.515625 27.296875 \nQ 5.515625 40.765625 12.171875 48.375 \nQ 18.84375 56 30.609375 56 \nz\n\" id=\"DejaVuSans-111\"/>\n      <path d=\"M 48.78125 52.59375 \nL 48.78125 44.1875 \nQ 44.96875 46.296875 41.140625 47.34375 \nQ 37.3125 48.390625 33.40625 48.390625 \nQ 24.65625 48.390625 19.8125 42.84375 \nQ 14.984375 37.3125 14.984375 27.296875 \nQ 14.984375 17.28125 19.8125 11.734375 \nQ 24.65625 6.203125 33.40625 6.203125 \nQ 37.3125 6.203125 41.140625 7.25 \nQ 44.96875 8.296875 48.78125 10.40625 \nL 48.78125 2.09375 \nQ 45.015625 0.34375 40.984375 -0.53125 \nQ 36.96875 -1.421875 32.421875 -1.421875 \nQ 20.0625 -1.421875 12.78125 6.34375 \nQ 5.515625 14.109375 5.515625 27.296875 \nQ 5.515625 40.671875 12.859375 48.328125 \nQ 20.21875 56 33.015625 56 \nQ 37.15625 56 41.109375 55.140625 \nQ 45.0625 54.296875 48.78125 52.59375 \nz\n\" id=\"DejaVuSans-99\"/>\n      <path d=\"M 54.890625 33.015625 \nL 54.890625 0 \nL 45.90625 0 \nL 45.90625 32.71875 \nQ 45.90625 40.484375 42.875 44.328125 \nQ 39.84375 48.1875 33.796875 48.1875 \nQ 26.515625 48.1875 22.3125 43.546875 \nQ 18.109375 38.921875 18.109375 30.90625 \nL 18.109375 0 \nL 9.078125 0 \nL 9.078125 75.984375 \nL 18.109375 75.984375 \nL 18.109375 46.1875 \nQ 21.34375 51.125 25.703125 53.5625 \nQ 30.078125 56 35.796875 56 \nQ 45.21875 56 50.046875 50.171875 \nQ 54.890625 44.34375 54.890625 33.015625 \nz\n\" id=\"DejaVuSans-104\"/>\n     </defs>\n     <g transform=\"translate(115.614398 151.680469)scale(0.15 -0.15)\">\n      <use xlink:href=\"#DejaVuSans-101\"/>\n      <use x=\"61.523438\" xlink:href=\"#DejaVuSans-112\"/>\n      <use x=\"125\" xlink:href=\"#DejaVuSans-111\"/>\n      <use x=\"186.181641\" xlink:href=\"#DejaVuSans-99\"/>\n      <use x=\"241.162109\" xlink:href=\"#DejaVuSans-104\"/>\n     </g>\n    </g>\n   </g>\n   <g id=\"matplotlib.axis_2\">\n    <g id=\"ytick_1\">\n     <g id=\"line2d_7\">\n      <path clip-path=\"url(#p2d479401f0)\" d=\"M 62.038086 107.374946 \nL 214.875084 107.374946 \n\" style=\"fill:none;stroke:#b0b0b0;stroke-linecap:square;stroke-width:0.8;\"/>\n     </g>\n     <g id=\"line2d_8\">\n      <defs>\n       <path d=\"M 0 0 \nL -5 0 \n\" id=\"m02b9412234\" style=\"stroke:#000000;stroke-width:0.8;\"/>\n      </defs>\n      <g>\n       <use style=\"stroke:#000000;stroke-width:0.8;\" x=\"62.038086\" xlink:href=\"#m02b9412234\" y=\"107.374946\"/>\n      </g>\n     </g>\n     <g id=\"text_5\">\n      <!-- 0.18 -->\n      <defs>\n       <path d=\"M 10.6875 12.40625 \nL 21 12.40625 \nL 21 0 \nL 10.6875 0 \nz\n\" id=\"DejaVuSans-46\"/>\n       <path d=\"M 31.78125 34.625 \nQ 24.75 34.625 20.71875 30.859375 \nQ 16.703125 27.09375 16.703125 20.515625 \nQ 16.703125 13.921875 20.71875 10.15625 \nQ 24.75 6.390625 31.78125 6.390625 \nQ 38.8125 6.390625 42.859375 10.171875 \nQ 46.921875 13.96875 46.921875 20.515625 \nQ 46.921875 27.09375 42.890625 30.859375 \nQ 38.875 34.625 31.78125 34.625 \nz\nM 21.921875 38.8125 \nQ 15.578125 40.375 12.03125 44.71875 \nQ 8.5 49.078125 8.5 55.328125 \nQ 8.5 64.0625 14.71875 69.140625 \nQ 20.953125 74.21875 31.78125 74.21875 \nQ 42.671875 74.21875 48.875 69.140625 \nQ 55.078125 64.0625 55.078125 55.328125 \nQ 55.078125 49.078125 51.53125 44.71875 \nQ 48 40.375 41.703125 38.8125 \nQ 48.828125 37.15625 52.796875 32.3125 \nQ 56.78125 27.484375 56.78125 20.515625 \nQ 56.78125 9.90625 50.3125 4.234375 \nQ 43.84375 -1.421875 31.78125 -1.421875 \nQ 19.734375 -1.421875 13.25 4.234375 \nQ 6.78125 9.90625 6.78125 20.515625 \nQ 6.78125 27.484375 10.78125 32.3125 \nQ 14.796875 37.15625 21.921875 38.8125 \nz\nM 18.3125 54.390625 \nQ 18.3125 48.734375 21.84375 45.5625 \nQ 25.390625 42.390625 31.78125 42.390625 \nQ 38.140625 42.390625 41.71875 45.5625 \nQ 45.3125 48.734375 45.3125 54.390625 \nQ 45.3125 60.0625 41.71875 63.234375 \nQ 38.140625 66.40625 31.78125 66.40625 \nQ 25.390625 66.40625 21.84375 63.234375 \nQ 18.3125 60.0625 18.3125 54.390625 \nz\n\" id=\"DejaVuSans-56\"/>\n      </defs>\n      <g transform=\"translate(25.717188 112.12207)scale(0.12495 -0.12495)\">\n       <use xlink:href=\"#DejaVuSans-48\"/>\n       <use x=\"63.623047\" xlink:href=\"#DejaVuSans-46\"/>\n       <use x=\"95.410156\" xlink:href=\"#DejaVuSans-49\"/>\n       <use x=\"159.033203\" xlink:href=\"#DejaVuSans-56\"/>\n      </g>\n     </g>\n    </g>\n    <g id=\"ytick_2\">\n     <g id=\"line2d_9\">\n      <path clip-path=\"url(#p2d479401f0)\" d=\"M 62.038086 76.577384 \nL 214.875084 76.577384 \n\" style=\"fill:none;stroke:#b0b0b0;stroke-linecap:square;stroke-width:0.8;\"/>\n     </g>\n     <g id=\"line2d_10\">\n      <g>\n       <use style=\"stroke:#000000;stroke-width:0.8;\" x=\"62.038086\" xlink:href=\"#m02b9412234\" y=\"76.577384\"/>\n      </g>\n     </g>\n     <g id=\"text_6\">\n      <!-- 0.19 -->\n      <defs>\n       <path d=\"M 10.984375 1.515625 \nL 10.984375 10.5 \nQ 14.703125 8.734375 18.5 7.8125 \nQ 22.3125 6.890625 25.984375 6.890625 \nQ 35.75 6.890625 40.890625 13.453125 \nQ 46.046875 20.015625 46.78125 33.40625 \nQ 43.953125 29.203125 39.59375 26.953125 \nQ 35.25 24.703125 29.984375 24.703125 \nQ 19.046875 24.703125 12.671875 31.3125 \nQ 6.296875 37.9375 6.296875 49.421875 \nQ 6.296875 60.640625 12.9375 67.421875 \nQ 19.578125 74.21875 30.609375 74.21875 \nQ 43.265625 74.21875 49.921875 64.515625 \nQ 56.59375 54.828125 56.59375 36.375 \nQ 56.59375 19.140625 48.40625 8.859375 \nQ 40.234375 -1.421875 26.421875 -1.421875 \nQ 22.703125 -1.421875 18.890625 -0.6875 \nQ 15.09375 0.046875 10.984375 1.515625 \nz\nM 30.609375 32.421875 \nQ 37.25 32.421875 41.125 36.953125 \nQ 45.015625 41.5 45.015625 49.421875 \nQ 45.015625 57.28125 41.125 61.84375 \nQ 37.25 66.40625 30.609375 66.40625 \nQ 23.96875 66.40625 20.09375 61.84375 \nQ 16.21875 57.28125 16.21875 49.421875 \nQ 16.21875 41.5 20.09375 36.953125 \nQ 23.96875 32.421875 30.609375 32.421875 \nz\n\" id=\"DejaVuSans-57\"/>\n      </defs>\n      <g transform=\"translate(25.717188 81.324508)scale(0.12495 -0.12495)\">\n       <use xlink:href=\"#DejaVuSans-48\"/>\n       <use x=\"63.623047\" xlink:href=\"#DejaVuSans-46\"/>\n       <use x=\"95.410156\" xlink:href=\"#DejaVuSans-49\"/>\n       <use x=\"159.033203\" xlink:href=\"#DejaVuSans-57\"/>\n      </g>\n     </g>\n    </g>\n    <g id=\"ytick_3\">\n     <g id=\"line2d_11\">\n      <path clip-path=\"url(#p2d479401f0)\" d=\"M 62.038086 45.779822 \nL 214.875084 45.779822 \n\" style=\"fill:none;stroke:#b0b0b0;stroke-linecap:square;stroke-width:0.8;\"/>\n     </g>\n     <g id=\"line2d_12\">\n      <g>\n       <use style=\"stroke:#000000;stroke-width:0.8;\" x=\"62.038086\" xlink:href=\"#m02b9412234\" y=\"45.779822\"/>\n      </g>\n     </g>\n     <g id=\"text_7\">\n      <!-- 0.20 -->\n      <defs>\n       <path d=\"M 19.1875 8.296875 \nL 53.609375 8.296875 \nL 53.609375 0 \nL 7.328125 0 \nL 7.328125 8.296875 \nQ 12.9375 14.109375 22.625 23.890625 \nQ 32.328125 33.6875 34.8125 36.53125 \nQ 39.546875 41.84375 41.421875 45.53125 \nQ 43.3125 49.21875 43.3125 52.78125 \nQ 43.3125 58.59375 39.234375 62.25 \nQ 35.15625 65.921875 28.609375 65.921875 \nQ 23.96875 65.921875 18.8125 64.3125 \nQ 13.671875 62.703125 7.8125 59.421875 \nL 7.8125 69.390625 \nQ 13.765625 71.78125 18.9375 73 \nQ 24.125 74.21875 28.421875 74.21875 \nQ 39.75 74.21875 46.484375 68.546875 \nQ 53.21875 62.890625 53.21875 53.421875 \nQ 53.21875 48.921875 51.53125 44.890625 \nQ 49.859375 40.875 45.40625 35.40625 \nQ 44.1875 33.984375 37.640625 27.21875 \nQ 31.109375 20.453125 19.1875 8.296875 \nz\n\" id=\"DejaVuSans-50\"/>\n      </defs>\n      <g transform=\"translate(25.717188 50.526946)scale(0.12495 -0.12495)\">\n       <use xlink:href=\"#DejaVuSans-48\"/>\n       <use x=\"63.623047\" xlink:href=\"#DejaVuSans-46\"/>\n       <use x=\"95.410156\" xlink:href=\"#DejaVuSans-50\"/>\n       <use x=\"159.033203\" xlink:href=\"#DejaVuSans-48\"/>\n      </g>\n     </g>\n    </g>\n    <g id=\"ytick_4\">\n     <g id=\"line2d_13\">\n      <path clip-path=\"url(#p2d479401f0)\" d=\"M 62.038086 14.98226 \nL 214.875084 14.98226 \n\" style=\"fill:none;stroke:#b0b0b0;stroke-linecap:square;stroke-width:0.8;\"/>\n     </g>\n     <g id=\"line2d_14\">\n      <g>\n       <use style=\"stroke:#000000;stroke-width:0.8;\" x=\"62.038086\" xlink:href=\"#m02b9412234\" y=\"14.98226\"/>\n      </g>\n     </g>\n     <g id=\"text_8\">\n      <!-- 0.21 -->\n      <g transform=\"translate(25.717188 19.729384)scale(0.12495 -0.12495)\">\n       <use xlink:href=\"#DejaVuSans-48\"/>\n       <use x=\"63.623047\" xlink:href=\"#DejaVuSans-46\"/>\n       <use x=\"95.410156\" xlink:href=\"#DejaVuSans-50\"/>\n       <use x=\"159.033203\" xlink:href=\"#DejaVuSans-49\"/>\n      </g>\n     </g>\n    </g>\n    <g id=\"text_9\">\n     <!-- loss -->\n     <defs>\n      <path d=\"M 9.421875 75.984375 \nL 18.40625 75.984375 \nL 18.40625 0 \nL 9.421875 0 \nz\n\" id=\"DejaVuSans-108\"/>\n      <path d=\"M 44.28125 53.078125 \nL 44.28125 44.578125 \nQ 40.484375 46.53125 36.375 47.5 \nQ 32.28125 48.484375 27.875 48.484375 \nQ 21.1875 48.484375 17.84375 46.4375 \nQ 14.5 44.390625 14.5 40.28125 \nQ 14.5 37.15625 16.890625 35.375 \nQ 19.28125 33.59375 26.515625 31.984375 \nL 29.59375 31.296875 \nQ 39.15625 29.25 43.1875 25.515625 \nQ 47.21875 21.78125 47.21875 15.09375 \nQ 47.21875 7.46875 41.1875 3.015625 \nQ 35.15625 -1.421875 24.609375 -1.421875 \nQ 20.21875 -1.421875 15.453125 -0.5625 \nQ 10.6875 0.296875 5.421875 2 \nL 5.421875 11.28125 \nQ 10.40625 8.6875 15.234375 7.390625 \nQ 20.0625 6.109375 24.8125 6.109375 \nQ 31.15625 6.109375 34.5625 8.28125 \nQ 37.984375 10.453125 37.984375 14.40625 \nQ 37.984375 18.0625 35.515625 20.015625 \nQ 33.0625 21.96875 24.703125 23.78125 \nL 21.578125 24.515625 \nQ 13.234375 26.265625 9.515625 29.90625 \nQ 5.8125 33.546875 5.8125 39.890625 \nQ 5.8125 47.609375 11.28125 51.796875 \nQ 16.75 56 26.8125 56 \nQ 31.78125 56 36.171875 55.265625 \nQ 40.578125 54.546875 44.28125 53.078125 \nz\n\" id=\"DejaVuSans-115\"/>\n     </defs>\n     <g transform=\"translate(18.597656 75.931716)rotate(-90)scale(0.15 -0.15)\">\n      <use xlink:href=\"#DejaVuSans-108\"/>\n      <use x=\"27.783203\" xlink:href=\"#DejaVuSans-111\"/>\n      <use x=\"88.964844\" xlink:href=\"#DejaVuSans-115\"/>\n      <use x=\"141.064453\" xlink:href=\"#DejaVuSans-115\"/>\n     </g>\n    </g>\n   </g>\n   <g id=\"line2d_15\">\n    <path clip-path=\"url(#p2d479401f0)\" d=\"M 62.038086 12.131363 \nL 72.955014 59.349618 \nL 83.871943 83.79456 \nL 94.788871 90.162031 \nL 105.7058 101.130553 \nL 116.622728 103.36277 \nL 127.539657 105.60911 \nL 138.456585 106.410759 \nL 149.373514 110.758632 \nL 160.290442 109.854888 \nL 171.207371 103.178453 \nL 182.124299 106.266666 \nL 193.041227 109.507037 \nL 203.958156 104.356548 \nL 214.875084 99.254054 \n\" style=\"fill:none;stroke:#1f77b4;stroke-linecap:square;stroke-width:1.5;\"/>\n   </g>\n   <g id=\"patch_3\">\n    <path d=\"M 62.038086 115.689995 \nL 62.038086 7.2 \n\" style=\"fill:none;stroke:#000000;stroke-linecap:square;stroke-linejoin:miter;stroke-width:0.8;\"/>\n   </g>\n   <g id=\"patch_4\">\n    <path d=\"M 62.038086 115.689995 \nL 214.875084 115.689995 \n\" style=\"fill:none;stroke:#000000;stroke-linecap:square;stroke-linejoin:miter;stroke-width:0.8;\"/>\n   </g>\n  </g>\n </g>\n <defs>\n  <clipPath id=\"p2d479401f0\">\n   <rect height=\"108.489995\" width=\"152.836998\" x=\"62.038086\" y=\"7.2\"/>\n  </clipPath>\n </defs>\n</svg>\n"
          },
          "metadata": {
            "needs_background": "light"
          }
        }
      ],
      "source": [
        "embed_size, num_hiddens, num_layers, dropout = 32, 32, 2, 0.1\n",
        "\n",
        "lr, num_epochs, device = 0.005, 150, DEVICE\n",
        "\n",
        "dataset = MTDataset(source, target)\n",
        "dataloader = torch.utils.data.DataLoader(dataset, batch_size=64)\n",
        "\n",
        "encoder = Encoder(len(source_vocab), embed_size, num_hiddens, num_layers, dropout)\n",
        "decoder = Decoder(len(target_vocab), embed_size, num_hiddens, num_layers, dropout)\n",
        "net = EncoderDecoder(encoder, decoder)\n",
        "train_seq2seq(net, dataloader, lr, num_epochs, target_vocab, device)"
      ]
    },
    {
      "cell_type": "markdown",
      "metadata": {
        "execution": {},
        "id": "w7XZsp1MkV2x"
      },
      "source": [
        "### Evaluation\n",
        "\n",
        "How do we know that we have obtained a good translation? BLEU (Bilingual Evaluation Understudy) is a metric that was developed specifically for this purpose. If you're curious, you can check out the details of the metric [here](https://d2l.ai/chapter_recurrent-modern/seq2seq.html?highlight=bleu#evaluation-of-predicted-sequences). For now, all you need to know is that a BLEU score lies between 0 and 1; the closer you are to 1; the better your translation is.   "
      ]
    },
    {
      "cell_type": "code",
      "execution_count": 46,
      "metadata": {
        "cellView": "form",
        "execution": {},
        "id": "eL-xVE4dkV2y"
      },
      "outputs": [],
      "source": [
        "# @markdown Compute BLEU\n",
        "def bleu(pred_seq, label_seq, k):\n",
        "  \"\"\"Compute the BLEU.\"\"\"\n",
        "  pred_tokens, label_tokens = [c for c in pred_seq], [c for c in label_seq]\n",
        "  len_pred, len_label = len(pred_tokens), len(label_tokens)\n",
        "  score = math.exp(min(0, 1 - len_label / len_pred))\n",
        "  for n in range(1, k + 1):\n",
        "    num_matches, label_subs = 0, collections.defaultdict(int)\n",
        "    for i in range(len_label - n + 1):\n",
        "      label_subs[''.join(label_tokens[i: i + n])] += 1\n",
        "    for i in range(len_pred - n + 1):\n",
        "      if label_subs[''.join(pred_tokens[i: i + n])] > 0:\n",
        "        num_matches += 1\n",
        "        label_subs[''.join(pred_tokens[i: i + n])] -= 1\n",
        "    score *= math.pow(num_matches / (len_pred - n + 1), math.pow(0.5, n))\n",
        "  return score"
      ]
    },
    {
      "cell_type": "markdown",
      "metadata": {
        "execution": {},
        "id": "ZseMiz1BkV2y"
      },
      "source": [
        "Implementing a function to make a translation of a given word. "
      ]
    },
    {
      "cell_type": "code",
      "execution_count": 47,
      "metadata": {
        "execution": {},
        "id": "X4FsoH5xkV2y"
      },
      "outputs": [],
      "source": [
        "def predict_seq2seq(net, src_sentence):\n",
        "  \"\"\"Predict for sequence to sequence.\"\"\"\n",
        "  # Set `net` to eval mode for inference\n",
        "  net.eval()\n",
        "  src_tokens = [source_vocab[c] for c in src_sentence.lower()] + [source_vocab['<eos>']]\n",
        "  # enc_valid_len = torch.tensor([len(src_tokens)], device=device)\n",
        "  src_tokens = truncate_pad(src_tokens, NUM_STEPS, source_vocab['<pad>'])\n",
        "  # Add the batch axis\n",
        "  enc_X = torch.unsqueeze(torch.tensor(src_tokens, dtype=torch.long, device=device), dim=0)\n",
        "  enc_outputs = net.encoder(enc_X)\n",
        "  dec_state = net.decoder.init_state(enc_outputs)\n",
        "  # Add the batch axis\n",
        "  dec_X = torch.unsqueeze(torch.tensor([target_vocab['<bos>']], dtype=torch.long, device=device), dim=0)\n",
        "  output_seq, attention_weight_seq = [], []\n",
        "  for _ in range(NUM_STEPS):\n",
        "    Y, dec_state = net.decoder(dec_X, dec_state)\n",
        "    # We use the token with the highest prediction likelihood as the input\n",
        "    # of the decoder at the next time step\n",
        "    dec_X = Y.argmax(dim=2)\n",
        "    pred = dec_X.squeeze(dim=0).type(torch.int32).item()\n",
        "    # Once the end-of-sequence token is predicted, the generation of the\n",
        "    # output sequence is complete\n",
        "    if pred == target_vocab['<eos>']:\n",
        "      break\n",
        "    output_seq.append(pred)\n",
        "  return output_seq"
      ]
    },
    {
      "cell_type": "code",
      "execution_count": 48,
      "metadata": {
        "execution": {},
        "id": "QaqJfws6kV2z",
        "outputId": "d1a02811-f112-4927-a395-951ef7af0495",
        "colab": {
          "base_uri": "https://localhost:8080/"
        }
      },
      "outputs": [
        {
          "output_type": "stream",
          "name": "stdout",
          "text": [
            "English           Pig Latin         Translation       BLEU\n",
            "--------------------------------------------------------------\n",
            "middle            iddlemay          entyay            0.339\n",
            "funny             unnyfay           untay             0.504\n",
            "hour              ourhay            outyay            0.649\n",
            "igloo             iglooway          eray              0.198\n",
            "vendor            endorvay          untay             0.301\n",
            "moody             oodymay           oytytay           0.483\n"
          ]
        }
      ],
      "source": [
        "engs = ['middle', 'funny', 'hour', 'igloo', 'vendor', 'moody']\n",
        "pig_latin = ['iddlemay', 'unnyfay', 'ourhay', 'iglooway', 'endorvay', 'oodymay']\n",
        "\n",
        "column_width = 18\n",
        "\n",
        "print('English'.ljust(column_width) + 'Pig Latin'.ljust(column_width) + 'Translation'.ljust(column_width) + 'BLEU\\n--------------------------------------------------------------')\n",
        "\n",
        "for eng, pig in zip(engs, pig_latin):\n",
        "  translation = predict_seq2seq(net, eng)\n",
        "  translation = ''.join([target_idx2token[i] for i in translation])\n",
        "  print(eng.ljust(column_width) + pig.ljust(column_width) + translation.ljust(column_width) + '%.3f' % bleu(translation, pig, k=2))"
      ]
    },
    {
      "cell_type": "markdown",
      "metadata": {
        "execution": {},
        "id": "_WG6ldaykV2z"
      },
      "source": [
        "---\n",
        "# Summary"
      ]
    },
    {
      "cell_type": "code",
      "execution_count": 49,
      "metadata": {
        "cellView": "form",
        "execution": {},
        "id": "kjTRaVQkkV20",
        "outputId": "486e976d-b5a5-40d8-ee9c-30ac1c02a479",
        "colab": {
          "base_uri": "https://localhost:8080/",
          "height": 582,
          "referenced_widgets": [
            "b70b423c1402433eaea5609d770897cb",
            "d851bbcb69e64ff6991427e665ec7df4",
            "4fb3f9fb6ddf455a82285b14cb0f2801",
            "8a8956c132e0441fb20898d2e825c305",
            "846c3134d43d4e13bbb3fa67d46be584",
            "55d96715bbea47d9ab23ff4d8d9d0b9c"
          ]
        }
      },
      "outputs": [
        {
          "output_type": "display_data",
          "data": {
            "text/plain": [
              "Tab(children=(Output(), Output()), _titles={'0': 'Youtube', '1': 'Bilibili'})"
            ],
            "application/vnd.jupyter.widget-view+json": {
              "version_major": 2,
              "version_minor": 0,
              "model_id": "b70b423c1402433eaea5609d770897cb"
            }
          },
          "metadata": {}
        }
      ],
      "source": [
        "# @title Video 8: Summary\n",
        "from ipywidgets import widgets\n",
        "\n",
        "out2 = widgets.Output()\n",
        "with out2:\n",
        "  from IPython.display import IFrame\n",
        "  class BiliVideo(IFrame):\n",
        "    def __init__(self, id, page=1, width=400, height=300, **kwargs):\n",
        "      self.id=id\n",
        "      src = \"https://player.bilibili.com/player.html?bvid={0}&page={1}\".format(id, page)\n",
        "      super(BiliVideo, self).__init__(src, width, height, **kwargs)\n",
        "\n",
        "  video = BiliVideo(id=\"\", width=854, height=480, fs=1)\n",
        "  print(\"Video available at https://www.bilibili.com/video/{0}\".format(video.id))\n",
        "  display(video)\n",
        "\n",
        "out1 = widgets.Output()\n",
        "with out1:\n",
        "  from IPython.display import YouTubeVideo\n",
        "  video = YouTubeVideo(id=\"J4zok8b2SUA\", width=854, height=480, fs=1, rel=0)\n",
        "  print(\"Video available at https://youtube.com/watch?v=\" + video.id)\n",
        "  display(video)\n",
        "\n",
        "out = widgets.Tab([out1, out2])\n",
        "out.set_title(0, 'Youtube')\n",
        "out.set_title(1, 'Bilibili')\n",
        "\n",
        "# Add event to airtable\n",
        "atform.add_event('Video 8: Summary')\n",
        "\n",
        "display(out)"
      ]
    },
    {
      "cell_type": "markdown",
      "metadata": {
        "execution": {},
        "id": "FkS-i3SDkV20"
      },
      "source": [
        "In this tutorial we went through applications of Recurrent Neural Networks for Natural Language Processing.  \n",
        "  \n",
        "We introduced a basic RNN architecture and how does it compare with CNNs to demonstrate the advantage of recurrence. The downside of RNNs is that they're prone to the issue of vanishing gradients while processing long-range dependencies. To tackle this, more complex architectures of RNNs are used in practice, such as Gated Recurrent Units(GRU) [[PyTorch - nn.GRU()]](https://pytorch.org/docs/stable/generated/torch.nn.GRU.html) and Long Short-term Memory (LSTM) [[PyTorch - nn.LSTM()]](https://pytorch.org/docs/stable/generated/torch.nn.LSTM.html).  \n",
        "  \n",
        "Finally, we explored three applications:  \n",
        "* Text Generation\n",
        "* Sequence Tagging\n",
        "* Language Translation"
      ]
    },
    {
      "cell_type": "code",
      "execution_count": 50,
      "metadata": {
        "cellView": "form",
        "execution": {},
        "id": "zhRfg4iekV20",
        "outputId": "8294dc4a-3ba4-4b7e-d040-a23167e7d933",
        "colab": {
          "base_uri": "https://localhost:8080/",
          "height": 160
        }
      },
      "outputs": [
        {
          "output_type": "execute_result",
          "data": {
            "text/plain": [
              "<IPython.core.display.HTML object>"
            ],
            "text/html": [
              "\n",
              " <div>\n",
              "   <a href= \"https://portal.neuromatchacademy.org/api/redirect/to/b4d16463-cbc0-4a8c-b0b6-1cbaa428ee7c?data=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%3D%3D\" target=\"_blank\">\n",
              "   <img src=\"https://github.com/NeuromatchAcademy/course-content-dl/blob/main/tutorials/static/SurveyButton.png?raw=1\"\n",
              " alt=\"button link end of day Survey\" style=\"width:410px\"></a>\n",
              "   </div>"
            ]
          },
          "metadata": {},
          "execution_count": 50
        }
      ],
      "source": [
        "# @title Airtable Submission Link\n",
        "from IPython import display as IPydisplay\n",
        "IPydisplay.HTML(\n",
        "   f\"\"\"\n",
        " <div>\n",
        "   <a href= \"{atform.url()}\" target=\"_blank\">\n",
        "   <img src=\"https://github.com/NeuromatchAcademy/course-content-dl/blob/main/tutorials/static/SurveyButton.png?raw=1\"\n",
        " alt=\"button link end of day Survey\" style=\"width:410px\"></a>\n",
        "   </div>\"\"\" )"
      ]
    },
    {
      "cell_type": "markdown",
      "metadata": {
        "execution": {},
        "id": "wuBIKKbmkV21"
      },
      "source": [
        "---\n",
        "# Bonus 1: Exploring input length for RNNs\n",
        "\n",
        "Let's further explore how do different models perform based on length of the text we use as input. We'll use the IMDB dataset and the Vanilla RNN model defined in Section 1.\n",
        "\n",
        "Let's increase the `sentence_length` to see how RNN performs when long reviews are allowed. We have set the length to 200 words, feel free to experiment with the length!"
      ]
    },
    {
      "cell_type": "code",
      "execution_count": 51,
      "metadata": {
        "execution": {},
        "id": "mXpVHbOSkV21",
        "outputId": "3519fe6d-1be3-4b10-b7c9-4ddc3bf15592",
        "colab": {
          "base_uri": "https://localhost:8080/"
        }
      },
      "outputs": [
        {
          "output_type": "stream",
          "name": "stdout",
          "text": [
            "Downloading Started...\n",
            "Downloading Completed.\n",
            "Extracting all the files now...\n",
            "Done!\n",
            "Data loading is completed. Sentence length: 50, Batch size: 32, and seed: 2021\n",
            "Downloading Started...\n",
            "Downloading Completed.\n",
            "Extracting all the files now...\n",
            "Done!\n",
            "Data loading is completed. Sentence length: 200, Batch size: 32, and seed: 2021\n"
          ]
        }
      ],
      "source": [
        "TEXT, vocab_size, train_iter, valid_iter, test_iter = load_dataset(50)\n",
        "TEXT_long, vocab_size_long, train_iter_long, valid_iter_long, test_iter_long = load_dataset(200)"
      ]
    },
    {
      "cell_type": "code",
      "execution_count": 52,
      "metadata": {
        "execution": {},
        "id": "OtNMMIaFkV21",
        "outputId": "0e43164f-2d76-4f22-c91e-ed258ed8d030",
        "colab": {
          "base_uri": "https://localhost:8080/"
        }
      },
      "outputs": [
        {
          "output_type": "stream",
          "name": "stdout",
          "text": [
            "Training Vanilla RNN on sentence_length = 50\n",
            "\n",
            "Epoch: 1,  Training Loss: 0.6974, Training Accuracy:  50.78%\n",
            "Validation Loss: 0.6950, Validation Accuracy:  51.51% \n",
            "\n",
            "Epoch: 2,  Training Loss: 0.6877, Training Accuracy:  54.29%\n",
            "Validation Loss: 0.6941, Validation Accuracy:  52.24% \n",
            "\n",
            "Epoch: 3,  Training Loss: 0.6721, Training Accuracy:  58.19%\n",
            "Validation Loss: 0.6823, Validation Accuracy:  56.95% \n",
            "\n",
            "Epoch: 4,  Training Loss: 0.6412, Training Accuracy:  63.59%\n",
            "Validation Loss: 0.6601, Validation Accuracy:  62.04% \n",
            "\n",
            "Epoch: 5,  Training Loss: 0.6208, Training Accuracy:  66.13%\n",
            "Validation Loss: 0.6559, Validation Accuracy:  63.33% \n",
            "\n",
            "Epoch: 6,  Training Loss: 0.6062, Training Accuracy:  67.78%\n",
            "Validation Loss: 0.6474, Validation Accuracy:  64.68% \n",
            "\n",
            "Epoch: 7,  Training Loss: 0.5709, Training Accuracy:  71.17%\n",
            "Validation Loss: 0.6404, Validation Accuracy:  65.95% \n",
            "\n",
            "Epoch: 8,  Training Loss: 0.5378, Training Accuracy:  74.13%\n",
            "Validation Loss: 0.6433, Validation Accuracy:  66.56% \n",
            "\n",
            "Epoch: 9,  Training Loss: 0.5112, Training Accuracy:  76.19%\n",
            "Validation Loss: 0.6372, Validation Accuracy:  67.79% \n",
            "\n",
            "Epoch: 10,  Training Loss: 0.4861, Training Accuracy:  77.96%\n",
            "Validation Loss: 0.6412, Validation Accuracy:  66.57% \n",
            "\n",
            "--- Time taken to train = 58.67477512359619 seconds ---\n",
            "Test Accuracy: 65.628%\n",
            "Number of parameters = 11213902\n",
            "Training Vanilla RNN on sentence_length = 200\n",
            "\n",
            "Epoch: 1,  Training Loss: 0.6991, Training Accuracy:  49.94%\n",
            "Validation Loss: 0.6951, Validation Accuracy:  50.67% \n",
            "\n",
            "Epoch: 2,  Training Loss: 0.6922, Training Accuracy:  51.68%\n",
            "Validation Loss: 0.6957, Validation Accuracy:  50.68% \n",
            "\n",
            "Epoch: 3,  Training Loss: 0.6872, Training Accuracy:  53.85%\n",
            "Validation Loss: 0.6974, Validation Accuracy:  50.57% \n",
            "\n",
            "Epoch: 4,  Training Loss: 0.6806, Training Accuracy:  54.54%\n",
            "Validation Loss: 0.7011, Validation Accuracy:  50.93% \n",
            "\n",
            "Epoch: 5,  Training Loss: 0.6710, Training Accuracy:  56.47%\n",
            "Validation Loss: 0.7076, Validation Accuracy:  50.51% \n",
            "\n",
            "Epoch: 6,  Training Loss: 0.6577, Training Accuracy:  58.65%\n",
            "Validation Loss: 0.7133, Validation Accuracy:  52.12% \n",
            "\n",
            "Epoch: 7,  Training Loss: 0.6411, Training Accuracy:  60.29%\n",
            "Validation Loss: 0.7224, Validation Accuracy:  51.96% \n",
            "\n",
            "Epoch: 8,  Training Loss: 0.6195, Training Accuracy:  62.27%\n",
            "Validation Loss: 0.7243, Validation Accuracy:  54.49% \n",
            "\n",
            "Epoch: 9,  Training Loss: 0.6001, Training Accuracy:  63.76%\n",
            "Validation Loss: 0.7310, Validation Accuracy:  55.31% \n",
            "\n",
            "Epoch: 10,  Training Loss: 0.5811, Training Accuracy:  65.37%\n",
            "Validation Loss: 0.7442, Validation Accuracy:  54.43% \n",
            "\n",
            "--- Time taken to train = 174.38466048240662 seconds ---\n",
            "Test Accuracy: 54.28%\n",
            "Number of parameters = 11213902\n"
          ]
        }
      ],
      "source": [
        "# Model hyperparamters\n",
        "learning_rate = 0.0002\n",
        "output_size = 2\n",
        "hidden_size = 100\n",
        "embedding_length = 100\n",
        "epochs = 10\n",
        "\n",
        "# Train the Vanilla RNN on the datasets\n",
        "print('Training Vanilla RNN on sentence_length = 50\\n')\n",
        "# Initialize model, training and testing\n",
        "vanilla_rnn_model = VanillaRNN(output_size, hidden_size, vocab_size, embedding_length)\n",
        "vanilla_rnn_model.to(DEVICE)\n",
        "vanilla_rnn_start_time = time.time()\n",
        "vanilla_train_loss, vanilla_train_acc, vanilla_validation_loss, vanilla_validation_acc = train(vanilla_rnn_model, DEVICE, train_iter, valid_iter, epochs, learning_rate)\n",
        "print(f\"--- Time taken to train = {time.time() - vanilla_rnn_start_time} seconds ---\")\n",
        "test_accuracy = test(vanilla_rnn_model, DEVICE, test_iter)\n",
        "print(f'Test Accuracy: {test_accuracy}%')\n",
        "# Number of model parameters\n",
        "paramters = count_parameters(vanilla_rnn_model)\n",
        "print(f'Number of parameters = {paramters}')\n",
        "\n",
        "print('Training Vanilla RNN on sentence_length = 200\\n')\n",
        "# Initialize model, training, testing\n",
        "vanilla_rnn_model_long = VanillaRNN(output_size, hidden_size, vocab_size_long, embedding_length)\n",
        "vanilla_rnn_model_long.to(DEVICE)\n",
        "vanilla_rnn_start_time_long = time.time()\n",
        "vanilla_train_loss_long, vanilla_train_acc_long, vanilla_validation_loss_long, vanilla_validation_acc_long = train(vanilla_rnn_model_long, DEVICE, train_iter_long, valid_iter_long, epochs, learning_rate)\n",
        "print(f\"--- Time taken to train = {time.time() - vanilla_rnn_start_time} seconds ---\")\n",
        "test_accuracy = test(vanilla_rnn_model_long, DEVICE, test_iter_long)\n",
        "print(f'Test Accuracy: {test_accuracy}%')\n",
        "# Number of parameters\n",
        "paramters = count_parameters(vanilla_rnn_model_long)\n",
        "print(f'Number of parameters = {paramters}')"
      ]
    },
    {
      "cell_type": "code",
      "execution_count": 53,
      "metadata": {
        "execution": {},
        "id": "UksZLR9nkV22",
        "outputId": "0c6a330c-e944-4afe-bef1-4fe1647c83d6",
        "colab": {
          "base_uri": "https://localhost:8080/",
          "height": 575
        }
      },
      "outputs": [
        {
          "output_type": "display_data",
          "data": {
            "text/plain": [
              "<Figure size 576x432 with 1 Axes>"
            ],
            "image/svg+xml": "<?xml version=\"1.0\" encoding=\"utf-8\" standalone=\"no\"?>\n<!DOCTYPE svg PUBLIC \"-//W3C//DTD SVG 1.1//EN\"\n  \"http://www.w3.org/Graphics/SVG/1.1/DTD/svg11.dtd\">\n<!-- Created with matplotlib (https://matplotlib.org/) -->\n<svg height=\"414pt\" version=\"1.1\" viewBox=\"0 0 613.5975 414\" width=\"613.5975pt\" xmlns=\"http://www.w3.org/2000/svg\" xmlns:xlink=\"http://www.w3.org/1999/xlink\">\n <defs>\n  <style type=\"text/css\">\n*{stroke-linecap:butt;stroke-linejoin:round;}\n  </style>\n </defs>\n <g id=\"figure_1\">\n  <g id=\"patch_1\">\n   <path d=\"M 0 414 \nL 613.5975 414 \nL 613.5975 0 \nL 0 0 \nz\n\" style=\"fill:none;\"/>\n  </g>\n  <g id=\"axes_1\">\n   <g id=\"patch_2\">\n    <path d=\"M 111.3975 367.689995 \nL 502.2 367.689995 \nL 502.2 26.877187 \nL 111.3975 26.877187 \nz\n\" style=\"fill:#ffffff;\"/>\n   </g>\n   <g id=\"matplotlib.axis_1\">\n    <g id=\"xtick_1\">\n     <g id=\"line2d_1\">\n      <defs>\n       <path d=\"M 0 0 \nL 0 5 \n\" id=\"mac104d9be9\" style=\"stroke:#000000;stroke-width:0.8;\"/>\n      </defs>\n      <g>\n       <use style=\"stroke:#000000;stroke-width:0.8;\" x=\"129.16125\" xlink:href=\"#mac104d9be9\" y=\"367.689995\"/>\n      </g>\n     </g>\n     <g id=\"text_1\">\n      <!-- 0 -->\n      <defs>\n       <path d=\"M 31.78125 66.40625 \nQ 24.171875 66.40625 20.328125 58.90625 \nQ 16.5 51.421875 16.5 36.375 \nQ 16.5 21.390625 20.328125 13.890625 \nQ 24.171875 6.390625 31.78125 6.390625 \nQ 39.453125 6.390625 43.28125 13.890625 \nQ 47.125 21.390625 47.125 36.375 \nQ 47.125 51.421875 43.28125 58.90625 \nQ 39.453125 66.40625 31.78125 66.40625 \nz\nM 31.78125 74.21875 \nQ 44.046875 74.21875 50.515625 64.515625 \nQ 56.984375 54.828125 56.984375 36.375 \nQ 56.984375 17.96875 50.515625 8.265625 \nQ 44.046875 -1.421875 31.78125 -1.421875 \nQ 19.53125 -1.421875 13.0625 8.265625 \nQ 6.59375 17.96875 6.59375 36.375 \nQ 6.59375 54.828125 13.0625 64.515625 \nQ 19.53125 74.21875 31.78125 74.21875 \nz\n\" id=\"DejaVuSans-48\"/>\n      </defs>\n      <g transform=\"translate(125.186278 385.684243)scale(0.12495 -0.12495)\">\n       <use xlink:href=\"#DejaVuSans-48\"/>\n      </g>\n     </g>\n    </g>\n    <g id=\"xtick_2\">\n     <g id=\"line2d_2\">\n      <g>\n       <use style=\"stroke:#000000;stroke-width:0.8;\" x=\"208.11125\" xlink:href=\"#mac104d9be9\" y=\"367.689995\"/>\n      </g>\n     </g>\n     <g id=\"text_2\">\n      <!-- 2 -->\n      <defs>\n       <path d=\"M 19.1875 8.296875 \nL 53.609375 8.296875 \nL 53.609375 0 \nL 7.328125 0 \nL 7.328125 8.296875 \nQ 12.9375 14.109375 22.625 23.890625 \nQ 32.328125 33.6875 34.8125 36.53125 \nQ 39.546875 41.84375 41.421875 45.53125 \nQ 43.3125 49.21875 43.3125 52.78125 \nQ 43.3125 58.59375 39.234375 62.25 \nQ 35.15625 65.921875 28.609375 65.921875 \nQ 23.96875 65.921875 18.8125 64.3125 \nQ 13.671875 62.703125 7.8125 59.421875 \nL 7.8125 69.390625 \nQ 13.765625 71.78125 18.9375 73 \nQ 24.125 74.21875 28.421875 74.21875 \nQ 39.75 74.21875 46.484375 68.546875 \nQ 53.21875 62.890625 53.21875 53.421875 \nQ 53.21875 48.921875 51.53125 44.890625 \nQ 49.859375 40.875 45.40625 35.40625 \nQ 44.1875 33.984375 37.640625 27.21875 \nQ 31.109375 20.453125 19.1875 8.296875 \nz\n\" id=\"DejaVuSans-50\"/>\n      </defs>\n      <g transform=\"translate(204.136278 385.684243)scale(0.12495 -0.12495)\">\n       <use xlink:href=\"#DejaVuSans-50\"/>\n      </g>\n     </g>\n    </g>\n    <g id=\"xtick_3\">\n     <g id=\"line2d_3\">\n      <g>\n       <use style=\"stroke:#000000;stroke-width:0.8;\" x=\"287.06125\" xlink:href=\"#mac104d9be9\" y=\"367.689995\"/>\n      </g>\n     </g>\n     <g id=\"text_3\">\n      <!-- 4 -->\n      <defs>\n       <path d=\"M 37.796875 64.3125 \nL 12.890625 25.390625 \nL 37.796875 25.390625 \nz\nM 35.203125 72.90625 \nL 47.609375 72.90625 \nL 47.609375 25.390625 \nL 58.015625 25.390625 \nL 58.015625 17.1875 \nL 47.609375 17.1875 \nL 47.609375 0 \nL 37.796875 0 \nL 37.796875 17.1875 \nL 4.890625 17.1875 \nL 4.890625 26.703125 \nz\n\" id=\"DejaVuSans-52\"/>\n      </defs>\n      <g transform=\"translate(283.086278 385.684243)scale(0.12495 -0.12495)\">\n       <use xlink:href=\"#DejaVuSans-52\"/>\n      </g>\n     </g>\n    </g>\n    <g id=\"xtick_4\">\n     <g id=\"line2d_4\">\n      <g>\n       <use style=\"stroke:#000000;stroke-width:0.8;\" x=\"366.01125\" xlink:href=\"#mac104d9be9\" y=\"367.689995\"/>\n      </g>\n     </g>\n     <g id=\"text_4\">\n      <!-- 6 -->\n      <defs>\n       <path d=\"M 33.015625 40.375 \nQ 26.375 40.375 22.484375 35.828125 \nQ 18.609375 31.296875 18.609375 23.390625 \nQ 18.609375 15.53125 22.484375 10.953125 \nQ 26.375 6.390625 33.015625 6.390625 \nQ 39.65625 6.390625 43.53125 10.953125 \nQ 47.40625 15.53125 47.40625 23.390625 \nQ 47.40625 31.296875 43.53125 35.828125 \nQ 39.65625 40.375 33.015625 40.375 \nz\nM 52.59375 71.296875 \nL 52.59375 62.3125 \nQ 48.875 64.0625 45.09375 64.984375 \nQ 41.3125 65.921875 37.59375 65.921875 \nQ 27.828125 65.921875 22.671875 59.328125 \nQ 17.53125 52.734375 16.796875 39.40625 \nQ 19.671875 43.65625 24.015625 45.921875 \nQ 28.375 48.1875 33.59375 48.1875 \nQ 44.578125 48.1875 50.953125 41.515625 \nQ 57.328125 34.859375 57.328125 23.390625 \nQ 57.328125 12.15625 50.6875 5.359375 \nQ 44.046875 -1.421875 33.015625 -1.421875 \nQ 20.359375 -1.421875 13.671875 8.265625 \nQ 6.984375 17.96875 6.984375 36.375 \nQ 6.984375 53.65625 15.1875 63.9375 \nQ 23.390625 74.21875 37.203125 74.21875 \nQ 40.921875 74.21875 44.703125 73.484375 \nQ 48.484375 72.75 52.59375 71.296875 \nz\n\" id=\"DejaVuSans-54\"/>\n      </defs>\n      <g transform=\"translate(362.036278 385.684243)scale(0.12495 -0.12495)\">\n       <use xlink:href=\"#DejaVuSans-54\"/>\n      </g>\n     </g>\n    </g>\n    <g id=\"xtick_5\">\n     <g id=\"line2d_5\">\n      <g>\n       <use style=\"stroke:#000000;stroke-width:0.8;\" x=\"444.96125\" xlink:href=\"#mac104d9be9\" y=\"367.689995\"/>\n      </g>\n     </g>\n     <g id=\"text_5\">\n      <!-- 8 -->\n      <defs>\n       <path d=\"M 31.78125 34.625 \nQ 24.75 34.625 20.71875 30.859375 \nQ 16.703125 27.09375 16.703125 20.515625 \nQ 16.703125 13.921875 20.71875 10.15625 \nQ 24.75 6.390625 31.78125 6.390625 \nQ 38.8125 6.390625 42.859375 10.171875 \nQ 46.921875 13.96875 46.921875 20.515625 \nQ 46.921875 27.09375 42.890625 30.859375 \nQ 38.875 34.625 31.78125 34.625 \nz\nM 21.921875 38.8125 \nQ 15.578125 40.375 12.03125 44.71875 \nQ 8.5 49.078125 8.5 55.328125 \nQ 8.5 64.0625 14.71875 69.140625 \nQ 20.953125 74.21875 31.78125 74.21875 \nQ 42.671875 74.21875 48.875 69.140625 \nQ 55.078125 64.0625 55.078125 55.328125 \nQ 55.078125 49.078125 51.53125 44.71875 \nQ 48 40.375 41.703125 38.8125 \nQ 48.828125 37.15625 52.796875 32.3125 \nQ 56.78125 27.484375 56.78125 20.515625 \nQ 56.78125 9.90625 50.3125 4.234375 \nQ 43.84375 -1.421875 31.78125 -1.421875 \nQ 19.734375 -1.421875 13.25 4.234375 \nQ 6.78125 9.90625 6.78125 20.515625 \nQ 6.78125 27.484375 10.78125 32.3125 \nQ 14.796875 37.15625 21.921875 38.8125 \nz\nM 18.3125 54.390625 \nQ 18.3125 48.734375 21.84375 45.5625 \nQ 25.390625 42.390625 31.78125 42.390625 \nQ 38.140625 42.390625 41.71875 45.5625 \nQ 45.3125 48.734375 45.3125 54.390625 \nQ 45.3125 60.0625 41.71875 63.234375 \nQ 38.140625 66.40625 31.78125 66.40625 \nQ 25.390625 66.40625 21.84375 63.234375 \nQ 18.3125 60.0625 18.3125 54.390625 \nz\n\" id=\"DejaVuSans-56\"/>\n      </defs>\n      <g transform=\"translate(440.986278 385.684243)scale(0.12495 -0.12495)\">\n       <use xlink:href=\"#DejaVuSans-56\"/>\n      </g>\n     </g>\n    </g>\n    <g id=\"text_6\">\n     <!-- epoch -->\n     <defs>\n      <path d=\"M 56.203125 29.59375 \nL 56.203125 25.203125 \nL 14.890625 25.203125 \nQ 15.484375 15.921875 20.484375 11.0625 \nQ 25.484375 6.203125 34.421875 6.203125 \nQ 39.59375 6.203125 44.453125 7.46875 \nQ 49.3125 8.734375 54.109375 11.28125 \nL 54.109375 2.78125 \nQ 49.265625 0.734375 44.1875 -0.34375 \nQ 39.109375 -1.421875 33.890625 -1.421875 \nQ 20.796875 -1.421875 13.15625 6.1875 \nQ 5.515625 13.8125 5.515625 26.8125 \nQ 5.515625 40.234375 12.765625 48.109375 \nQ 20.015625 56 32.328125 56 \nQ 43.359375 56 49.78125 48.890625 \nQ 56.203125 41.796875 56.203125 29.59375 \nz\nM 47.21875 32.234375 \nQ 47.125 39.59375 43.09375 43.984375 \nQ 39.0625 48.390625 32.421875 48.390625 \nQ 24.90625 48.390625 20.390625 44.140625 \nQ 15.875 39.890625 15.1875 32.171875 \nz\n\" id=\"DejaVuSans-101\"/>\n      <path d=\"M 18.109375 8.203125 \nL 18.109375 -20.796875 \nL 9.078125 -20.796875 \nL 9.078125 54.6875 \nL 18.109375 54.6875 \nL 18.109375 46.390625 \nQ 20.953125 51.265625 25.265625 53.625 \nQ 29.59375 56 35.59375 56 \nQ 45.5625 56 51.78125 48.09375 \nQ 58.015625 40.1875 58.015625 27.296875 \nQ 58.015625 14.40625 51.78125 6.484375 \nQ 45.5625 -1.421875 35.59375 -1.421875 \nQ 29.59375 -1.421875 25.265625 0.953125 \nQ 20.953125 3.328125 18.109375 8.203125 \nz\nM 48.6875 27.296875 \nQ 48.6875 37.203125 44.609375 42.84375 \nQ 40.53125 48.484375 33.40625 48.484375 \nQ 26.265625 48.484375 22.1875 42.84375 \nQ 18.109375 37.203125 18.109375 27.296875 \nQ 18.109375 17.390625 22.1875 11.75 \nQ 26.265625 6.109375 33.40625 6.109375 \nQ 40.53125 6.109375 44.609375 11.75 \nQ 48.6875 17.390625 48.6875 27.296875 \nz\n\" id=\"DejaVuSans-112\"/>\n      <path d=\"M 30.609375 48.390625 \nQ 23.390625 48.390625 19.1875 42.75 \nQ 14.984375 37.109375 14.984375 27.296875 \nQ 14.984375 17.484375 19.15625 11.84375 \nQ 23.34375 6.203125 30.609375 6.203125 \nQ 37.796875 6.203125 41.984375 11.859375 \nQ 46.1875 17.53125 46.1875 27.296875 \nQ 46.1875 37.015625 41.984375 42.703125 \nQ 37.796875 48.390625 30.609375 48.390625 \nz\nM 30.609375 56 \nQ 42.328125 56 49.015625 48.375 \nQ 55.71875 40.765625 55.71875 27.296875 \nQ 55.71875 13.875 49.015625 6.21875 \nQ 42.328125 -1.421875 30.609375 -1.421875 \nQ 18.84375 -1.421875 12.171875 6.21875 \nQ 5.515625 13.875 5.515625 27.296875 \nQ 5.515625 40.765625 12.171875 48.375 \nQ 18.84375 56 30.609375 56 \nz\n\" id=\"DejaVuSans-111\"/>\n      <path d=\"M 48.78125 52.59375 \nL 48.78125 44.1875 \nQ 44.96875 46.296875 41.140625 47.34375 \nQ 37.3125 48.390625 33.40625 48.390625 \nQ 24.65625 48.390625 19.8125 42.84375 \nQ 14.984375 37.3125 14.984375 27.296875 \nQ 14.984375 17.28125 19.8125 11.734375 \nQ 24.65625 6.203125 33.40625 6.203125 \nQ 37.3125 6.203125 41.140625 7.25 \nQ 44.96875 8.296875 48.78125 10.40625 \nL 48.78125 2.09375 \nQ 45.015625 0.34375 40.984375 -0.53125 \nQ 36.96875 -1.421875 32.421875 -1.421875 \nQ 20.0625 -1.421875 12.78125 6.34375 \nQ 5.515625 14.109375 5.515625 27.296875 \nQ 5.515625 40.671875 12.859375 48.328125 \nQ 20.21875 56 33.015625 56 \nQ 37.15625 56 41.109375 55.140625 \nQ 45.0625 54.296875 48.78125 52.59375 \nz\n\" id=\"DejaVuSans-99\"/>\n      <path d=\"M 54.890625 33.015625 \nL 54.890625 0 \nL 45.90625 0 \nL 45.90625 32.71875 \nQ 45.90625 40.484375 42.875 44.328125 \nQ 39.84375 48.1875 33.796875 48.1875 \nQ 26.515625 48.1875 22.3125 43.546875 \nQ 18.109375 38.921875 18.109375 30.90625 \nL 18.109375 0 \nL 9.078125 0 \nL 9.078125 75.984375 \nL 18.109375 75.984375 \nL 18.109375 46.1875 \nQ 21.34375 51.125 25.703125 53.5625 \nQ 30.078125 56 35.796875 56 \nQ 45.21875 56 50.046875 50.171875 \nQ 54.890625 44.34375 54.890625 33.015625 \nz\n\" id=\"DejaVuSans-104\"/>\n     </defs>\n     <g transform=\"translate(283.956563 403.680469)scale(0.15 -0.15)\">\n      <use xlink:href=\"#DejaVuSans-101\"/>\n      <use x=\"61.523438\" xlink:href=\"#DejaVuSans-112\"/>\n      <use x=\"125\" xlink:href=\"#DejaVuSans-111\"/>\n      <use x=\"186.181641\" xlink:href=\"#DejaVuSans-99\"/>\n      <use x=\"241.162109\" xlink:href=\"#DejaVuSans-104\"/>\n     </g>\n    </g>\n   </g>\n   <g id=\"matplotlib.axis_2\">\n    <g id=\"ytick_1\">\n     <g id=\"line2d_6\">\n      <defs>\n       <path d=\"M 0 0 \nL -5 0 \n\" id=\"m0b783f3601\" style=\"stroke:#000000;stroke-width:0.8;\"/>\n      </defs>\n      <g>\n       <use style=\"stroke:#000000;stroke-width:0.8;\" x=\"111.3975\" xlink:href=\"#m0b783f3601\" y=\"351.503535\"/>\n      </g>\n     </g>\n     <g id=\"text_7\">\n      <!-- 0.50 -->\n      <defs>\n       <path d=\"M 10.6875 12.40625 \nL 21 12.40625 \nL 21 0 \nL 10.6875 0 \nz\n\" id=\"DejaVuSans-46\"/>\n       <path d=\"M 10.796875 72.90625 \nL 49.515625 72.90625 \nL 49.515625 64.59375 \nL 19.828125 64.59375 \nL 19.828125 46.734375 \nQ 21.96875 47.46875 24.109375 47.828125 \nQ 26.265625 48.1875 28.421875 48.1875 \nQ 40.625 48.1875 47.75 41.5 \nQ 54.890625 34.8125 54.890625 23.390625 \nQ 54.890625 11.625 47.5625 5.09375 \nQ 40.234375 -1.421875 26.90625 -1.421875 \nQ 22.3125 -1.421875 17.546875 -0.640625 \nQ 12.796875 0.140625 7.71875 1.703125 \nL 7.71875 11.625 \nQ 12.109375 9.234375 16.796875 8.0625 \nQ 21.484375 6.890625 26.703125 6.890625 \nQ 35.15625 6.890625 40.078125 11.328125 \nQ 45.015625 15.765625 45.015625 23.390625 \nQ 45.015625 31 40.078125 35.4375 \nQ 35.15625 39.890625 26.703125 39.890625 \nQ 22.75 39.890625 18.8125 39.015625 \nQ 14.890625 38.140625 10.796875 36.28125 \nz\n\" id=\"DejaVuSans-53\"/>\n      </defs>\n      <g transform=\"translate(75.076602 356.250659)scale(0.12495 -0.12495)\">\n       <use xlink:href=\"#DejaVuSans-48\"/>\n       <use x=\"63.623047\" xlink:href=\"#DejaVuSans-46\"/>\n       <use x=\"95.410156\" xlink:href=\"#DejaVuSans-53\"/>\n       <use x=\"159.033203\" xlink:href=\"#DejaVuSans-48\"/>\n      </g>\n     </g>\n    </g>\n    <g id=\"ytick_2\">\n     <g id=\"line2d_7\">\n      <g>\n       <use style=\"stroke:#000000;stroke-width:0.8;\" x=\"111.3975\" xlink:href=\"#m0b783f3601\" y=\"296.221908\"/>\n      </g>\n     </g>\n     <g id=\"text_8\">\n      <!-- 0.55 -->\n      <g transform=\"translate(75.076602 300.969032)scale(0.12495 -0.12495)\">\n       <use xlink:href=\"#DejaVuSans-48\"/>\n       <use x=\"63.623047\" xlink:href=\"#DejaVuSans-46\"/>\n       <use x=\"95.410156\" xlink:href=\"#DejaVuSans-53\"/>\n       <use x=\"159.033203\" xlink:href=\"#DejaVuSans-53\"/>\n      </g>\n     </g>\n    </g>\n    <g id=\"ytick_3\">\n     <g id=\"line2d_8\">\n      <g>\n       <use style=\"stroke:#000000;stroke-width:0.8;\" x=\"111.3975\" xlink:href=\"#m0b783f3601\" y=\"240.940282\"/>\n      </g>\n     </g>\n     <g id=\"text_9\">\n      <!-- 0.60 -->\n      <g transform=\"translate(75.076602 245.687406)scale(0.12495 -0.12495)\">\n       <use xlink:href=\"#DejaVuSans-48\"/>\n       <use x=\"63.623047\" xlink:href=\"#DejaVuSans-46\"/>\n       <use x=\"95.410156\" xlink:href=\"#DejaVuSans-54\"/>\n       <use x=\"159.033203\" xlink:href=\"#DejaVuSans-48\"/>\n      </g>\n     </g>\n    </g>\n    <g id=\"ytick_4\">\n     <g id=\"line2d_9\">\n      <g>\n       <use style=\"stroke:#000000;stroke-width:0.8;\" x=\"111.3975\" xlink:href=\"#m0b783f3601\" y=\"185.658655\"/>\n      </g>\n     </g>\n     <g id=\"text_10\">\n      <!-- 0.65 -->\n      <g transform=\"translate(75.076602 190.405779)scale(0.12495 -0.12495)\">\n       <use xlink:href=\"#DejaVuSans-48\"/>\n       <use x=\"63.623047\" xlink:href=\"#DejaVuSans-46\"/>\n       <use x=\"95.410156\" xlink:href=\"#DejaVuSans-54\"/>\n       <use x=\"159.033203\" xlink:href=\"#DejaVuSans-53\"/>\n      </g>\n     </g>\n    </g>\n    <g id=\"ytick_5\">\n     <g id=\"line2d_10\">\n      <g>\n       <use style=\"stroke:#000000;stroke-width:0.8;\" x=\"111.3975\" xlink:href=\"#m0b783f3601\" y=\"130.377028\"/>\n      </g>\n     </g>\n     <g id=\"text_11\">\n      <!-- 0.70 -->\n      <defs>\n       <path d=\"M 8.203125 72.90625 \nL 55.078125 72.90625 \nL 55.078125 68.703125 \nL 28.609375 0 \nL 18.3125 0 \nL 43.21875 64.59375 \nL 8.203125 64.59375 \nz\n\" id=\"DejaVuSans-55\"/>\n      </defs>\n      <g transform=\"translate(75.076602 135.124152)scale(0.12495 -0.12495)\">\n       <use xlink:href=\"#DejaVuSans-48\"/>\n       <use x=\"63.623047\" xlink:href=\"#DejaVuSans-46\"/>\n       <use x=\"95.410156\" xlink:href=\"#DejaVuSans-55\"/>\n       <use x=\"159.033203\" xlink:href=\"#DejaVuSans-48\"/>\n      </g>\n     </g>\n    </g>\n    <g id=\"ytick_6\">\n     <g id=\"line2d_11\">\n      <g>\n       <use style=\"stroke:#000000;stroke-width:0.8;\" x=\"111.3975\" xlink:href=\"#m0b783f3601\" y=\"75.095402\"/>\n      </g>\n     </g>\n     <g id=\"text_12\">\n      <!-- 0.75 -->\n      <g transform=\"translate(75.076602 79.842526)scale(0.12495 -0.12495)\">\n       <use xlink:href=\"#DejaVuSans-48\"/>\n       <use x=\"63.623047\" xlink:href=\"#DejaVuSans-46\"/>\n       <use x=\"95.410156\" xlink:href=\"#DejaVuSans-55\"/>\n       <use x=\"159.033203\" xlink:href=\"#DejaVuSans-53\"/>\n      </g>\n     </g>\n    </g>\n   </g>\n   <g id=\"line2d_12\">\n    <path clip-path=\"url(#pf63ef74d5d)\" d=\"M 129.16125 342.848012 \nL 168.63625 304.119284 \nL 208.11125 260.968025 \nL 247.58625 201.20069 \nL 287.06125 173.212392 \nL 326.53625 154.890481 \nL 366.01125 117.488512 \nL 405.48625 84.69861 \nL 444.96125 61.954169 \nL 484.43625 42.368679 \n\" style=\"fill:none;stroke:#1f77b4;stroke-linecap:square;stroke-width:1.5;\"/>\n   </g>\n   <g id=\"line2d_13\">\n    <path clip-path=\"url(#pf63ef74d5d)\" d=\"M 129.16125 352.198504 \nL 168.63625 332.928908 \nL 208.11125 308.984067 \nL 247.58625 301.339408 \nL 287.06125 279.921726 \nL 326.53625 255.913705 \nL 366.01125 237.718153 \nL 405.48625 215.795039 \nL 444.96125 199.368498 \nL 484.43625 181.615199 \n\" style=\"fill:none;stroke:#ff7f0e;stroke-linecap:square;stroke-width:1.5;\"/>\n   </g>\n   <g id=\"line2d_14\">\n    <path clip-path=\"url(#pf63ef74d5d)\" d=\"M 129.16125 334.845338 \nL 168.63625 326.737366 \nL 208.11125 274.698928 \nL 247.58625 218.385378 \nL 287.06125 204.085864 \nL 326.53625 189.196679 \nL 366.01125 175.192 \nL 405.48625 168.410788 \nL 444.96125 154.848362 \nL 484.43625 168.26337 \n\" style=\"fill:none;stroke:#2ca02c;stroke-linecap:square;stroke-width:1.5;\"/>\n   </g>\n   <g id=\"line2d_15\">\n    <path clip-path=\"url(#pf63ef74d5d)\" d=\"M 129.16125 344.132651 \nL 168.63625 343.985234 \nL 208.11125 345.164575 \nL 247.58625 341.184298 \nL 287.06125 345.901664 \nL 326.53625 328.064125 \nL 366.01125 329.833137 \nL 405.48625 301.82378 \nL 444.96125 292.831302 \nL 484.43625 302.560868 \n\" style=\"fill:none;stroke:#d62728;stroke-linecap:square;stroke-width:1.5;\"/>\n   </g>\n   <g id=\"patch_3\">\n    <path d=\"M 111.3975 367.689995 \nL 111.3975 26.877187 \n\" style=\"fill:none;stroke:#000000;stroke-linecap:square;stroke-linejoin:miter;stroke-width:0.8;\"/>\n   </g>\n   <g id=\"patch_4\">\n    <path d=\"M 111.3975 367.689995 \nL 502.2 367.689995 \n\" style=\"fill:none;stroke:#000000;stroke-linecap:square;stroke-linejoin:miter;stroke-width:0.8;\"/>\n   </g>\n   <g id=\"text_13\">\n    <!-- Training and Validation Accuracy for Sentence Lengths 50 and 200 -->\n    <defs>\n     <path d=\"M -0.296875 72.90625 \nL 61.375 72.90625 \nL 61.375 64.59375 \nL 35.5 64.59375 \nL 35.5 0 \nL 25.59375 0 \nL 25.59375 64.59375 \nL -0.296875 64.59375 \nz\n\" id=\"DejaVuSans-84\"/>\n     <path d=\"M 41.109375 46.296875 \nQ 39.59375 47.171875 37.8125 47.578125 \nQ 36.03125 48 33.890625 48 \nQ 26.265625 48 22.1875 43.046875 \nQ 18.109375 38.09375 18.109375 28.8125 \nL 18.109375 0 \nL 9.078125 0 \nL 9.078125 54.6875 \nL 18.109375 54.6875 \nL 18.109375 46.1875 \nQ 20.953125 51.171875 25.484375 53.578125 \nQ 30.03125 56 36.53125 56 \nQ 37.453125 56 38.578125 55.875 \nQ 39.703125 55.765625 41.0625 55.515625 \nz\n\" id=\"DejaVuSans-114\"/>\n     <path d=\"M 34.28125 27.484375 \nQ 23.390625 27.484375 19.1875 25 \nQ 14.984375 22.515625 14.984375 16.5 \nQ 14.984375 11.71875 18.140625 8.90625 \nQ 21.296875 6.109375 26.703125 6.109375 \nQ 34.1875 6.109375 38.703125 11.40625 \nQ 43.21875 16.703125 43.21875 25.484375 \nL 43.21875 27.484375 \nz\nM 52.203125 31.203125 \nL 52.203125 0 \nL 43.21875 0 \nL 43.21875 8.296875 \nQ 40.140625 3.328125 35.546875 0.953125 \nQ 30.953125 -1.421875 24.3125 -1.421875 \nQ 15.921875 -1.421875 10.953125 3.296875 \nQ 6 8.015625 6 15.921875 \nQ 6 25.140625 12.171875 29.828125 \nQ 18.359375 34.515625 30.609375 34.515625 \nL 43.21875 34.515625 \nL 43.21875 35.40625 \nQ 43.21875 41.609375 39.140625 45 \nQ 35.0625 48.390625 27.6875 48.390625 \nQ 23 48.390625 18.546875 47.265625 \nQ 14.109375 46.140625 10.015625 43.890625 \nL 10.015625 52.203125 \nQ 14.9375 54.109375 19.578125 55.046875 \nQ 24.21875 56 28.609375 56 \nQ 40.484375 56 46.34375 49.84375 \nQ 52.203125 43.703125 52.203125 31.203125 \nz\n\" id=\"DejaVuSans-97\"/>\n     <path d=\"M 9.421875 54.6875 \nL 18.40625 54.6875 \nL 18.40625 0 \nL 9.421875 0 \nz\nM 9.421875 75.984375 \nL 18.40625 75.984375 \nL 18.40625 64.59375 \nL 9.421875 64.59375 \nz\n\" id=\"DejaVuSans-105\"/>\n     <path d=\"M 54.890625 33.015625 \nL 54.890625 0 \nL 45.90625 0 \nL 45.90625 32.71875 \nQ 45.90625 40.484375 42.875 44.328125 \nQ 39.84375 48.1875 33.796875 48.1875 \nQ 26.515625 48.1875 22.3125 43.546875 \nQ 18.109375 38.921875 18.109375 30.90625 \nL 18.109375 0 \nL 9.078125 0 \nL 9.078125 54.6875 \nL 18.109375 54.6875 \nL 18.109375 46.1875 \nQ 21.34375 51.125 25.703125 53.5625 \nQ 30.078125 56 35.796875 56 \nQ 45.21875 56 50.046875 50.171875 \nQ 54.890625 44.34375 54.890625 33.015625 \nz\n\" id=\"DejaVuSans-110\"/>\n     <path d=\"M 45.40625 27.984375 \nQ 45.40625 37.75 41.375 43.109375 \nQ 37.359375 48.484375 30.078125 48.484375 \nQ 22.859375 48.484375 18.828125 43.109375 \nQ 14.796875 37.75 14.796875 27.984375 \nQ 14.796875 18.265625 18.828125 12.890625 \nQ 22.859375 7.515625 30.078125 7.515625 \nQ 37.359375 7.515625 41.375 12.890625 \nQ 45.40625 18.265625 45.40625 27.984375 \nz\nM 54.390625 6.78125 \nQ 54.390625 -7.171875 48.1875 -13.984375 \nQ 42 -20.796875 29.203125 -20.796875 \nQ 24.46875 -20.796875 20.265625 -20.09375 \nQ 16.0625 -19.390625 12.109375 -17.921875 \nL 12.109375 -9.1875 \nQ 16.0625 -11.328125 19.921875 -12.34375 \nQ 23.78125 -13.375 27.78125 -13.375 \nQ 36.625 -13.375 41.015625 -8.765625 \nQ 45.40625 -4.15625 45.40625 5.171875 \nL 45.40625 9.625 \nQ 42.625 4.78125 38.28125 2.390625 \nQ 33.9375 0 27.875 0 \nQ 17.828125 0 11.671875 7.65625 \nQ 5.515625 15.328125 5.515625 27.984375 \nQ 5.515625 40.671875 11.671875 48.328125 \nQ 17.828125 56 27.875 56 \nQ 33.9375 56 38.28125 53.609375 \nQ 42.625 51.21875 45.40625 46.390625 \nL 45.40625 54.6875 \nL 54.390625 54.6875 \nz\n\" id=\"DejaVuSans-103\"/>\n     <path id=\"DejaVuSans-32\"/>\n     <path d=\"M 45.40625 46.390625 \nL 45.40625 75.984375 \nL 54.390625 75.984375 \nL 54.390625 0 \nL 45.40625 0 \nL 45.40625 8.203125 \nQ 42.578125 3.328125 38.25 0.953125 \nQ 33.9375 -1.421875 27.875 -1.421875 \nQ 17.96875 -1.421875 11.734375 6.484375 \nQ 5.515625 14.40625 5.515625 27.296875 \nQ 5.515625 40.1875 11.734375 48.09375 \nQ 17.96875 56 27.875 56 \nQ 33.9375 56 38.25 53.625 \nQ 42.578125 51.265625 45.40625 46.390625 \nz\nM 14.796875 27.296875 \nQ 14.796875 17.390625 18.875 11.75 \nQ 22.953125 6.109375 30.078125 6.109375 \nQ 37.203125 6.109375 41.296875 11.75 \nQ 45.40625 17.390625 45.40625 27.296875 \nQ 45.40625 37.203125 41.296875 42.84375 \nQ 37.203125 48.484375 30.078125 48.484375 \nQ 22.953125 48.484375 18.875 42.84375 \nQ 14.796875 37.203125 14.796875 27.296875 \nz\n\" id=\"DejaVuSans-100\"/>\n     <path d=\"M 28.609375 0 \nL 0.78125 72.90625 \nL 11.078125 72.90625 \nL 34.1875 11.53125 \nL 57.328125 72.90625 \nL 67.578125 72.90625 \nL 39.796875 0 \nz\n\" id=\"DejaVuSans-86\"/>\n     <path d=\"M 9.421875 75.984375 \nL 18.40625 75.984375 \nL 18.40625 0 \nL 9.421875 0 \nz\n\" id=\"DejaVuSans-108\"/>\n     <path d=\"M 18.3125 70.21875 \nL 18.3125 54.6875 \nL 36.8125 54.6875 \nL 36.8125 47.703125 \nL 18.3125 47.703125 \nL 18.3125 18.015625 \nQ 18.3125 11.328125 20.140625 9.421875 \nQ 21.96875 7.515625 27.59375 7.515625 \nL 36.8125 7.515625 \nL 36.8125 0 \nL 27.59375 0 \nQ 17.1875 0 13.234375 3.875 \nQ 9.28125 7.765625 9.28125 18.015625 \nL 9.28125 47.703125 \nL 2.6875 47.703125 \nL 2.6875 54.6875 \nL 9.28125 54.6875 \nL 9.28125 70.21875 \nz\n\" id=\"DejaVuSans-116\"/>\n     <path d=\"M 34.1875 63.1875 \nL 20.796875 26.90625 \nL 47.609375 26.90625 \nz\nM 28.609375 72.90625 \nL 39.796875 72.90625 \nL 67.578125 0 \nL 57.328125 0 \nL 50.6875 18.703125 \nL 17.828125 18.703125 \nL 11.1875 0 \nL 0.78125 0 \nz\n\" id=\"DejaVuSans-65\"/>\n     <path d=\"M 8.5 21.578125 \nL 8.5 54.6875 \nL 17.484375 54.6875 \nL 17.484375 21.921875 \nQ 17.484375 14.15625 20.5 10.265625 \nQ 23.53125 6.390625 29.59375 6.390625 \nQ 36.859375 6.390625 41.078125 11.03125 \nQ 45.3125 15.671875 45.3125 23.6875 \nL 45.3125 54.6875 \nL 54.296875 54.6875 \nL 54.296875 0 \nL 45.3125 0 \nL 45.3125 8.40625 \nQ 42.046875 3.421875 37.71875 1 \nQ 33.40625 -1.421875 27.6875 -1.421875 \nQ 18.265625 -1.421875 13.375 4.4375 \nQ 8.5 10.296875 8.5 21.578125 \nz\nM 31.109375 56 \nz\n\" id=\"DejaVuSans-117\"/>\n     <path d=\"M 32.171875 -5.078125 \nQ 28.375 -14.84375 24.75 -17.8125 \nQ 21.140625 -20.796875 15.09375 -20.796875 \nL 7.90625 -20.796875 \nL 7.90625 -13.28125 \nL 13.1875 -13.28125 \nQ 16.890625 -13.28125 18.9375 -11.515625 \nQ 21 -9.765625 23.484375 -3.21875 \nL 25.09375 0.875 \nL 2.984375 54.6875 \nL 12.5 54.6875 \nL 29.59375 11.921875 \nL 46.6875 54.6875 \nL 56.203125 54.6875 \nz\n\" id=\"DejaVuSans-121\"/>\n     <path d=\"M 37.109375 75.984375 \nL 37.109375 68.5 \nL 28.515625 68.5 \nQ 23.6875 68.5 21.796875 66.546875 \nQ 19.921875 64.59375 19.921875 59.515625 \nL 19.921875 54.6875 \nL 34.71875 54.6875 \nL 34.71875 47.703125 \nL 19.921875 47.703125 \nL 19.921875 0 \nL 10.890625 0 \nL 10.890625 47.703125 \nL 2.296875 47.703125 \nL 2.296875 54.6875 \nL 10.890625 54.6875 \nL 10.890625 58.5 \nQ 10.890625 67.625 15.140625 71.796875 \nQ 19.390625 75.984375 28.609375 75.984375 \nz\n\" id=\"DejaVuSans-102\"/>\n     <path d=\"M 53.515625 70.515625 \nL 53.515625 60.890625 \nQ 47.90625 63.578125 42.921875 64.890625 \nQ 37.9375 66.21875 33.296875 66.21875 \nQ 25.25 66.21875 20.875 63.09375 \nQ 16.5 59.96875 16.5 54.203125 \nQ 16.5 49.359375 19.40625 46.890625 \nQ 22.3125 44.4375 30.421875 42.921875 \nL 36.375 41.703125 \nQ 47.40625 39.59375 52.65625 34.296875 \nQ 57.90625 29 57.90625 20.125 \nQ 57.90625 9.515625 50.796875 4.046875 \nQ 43.703125 -1.421875 29.984375 -1.421875 \nQ 24.8125 -1.421875 18.96875 -0.25 \nQ 13.140625 0.921875 6.890625 3.21875 \nL 6.890625 13.375 \nQ 12.890625 10.015625 18.65625 8.296875 \nQ 24.421875 6.59375 29.984375 6.59375 \nQ 38.421875 6.59375 43.015625 9.90625 \nQ 47.609375 13.234375 47.609375 19.390625 \nQ 47.609375 24.75 44.3125 27.78125 \nQ 41.015625 30.8125 33.5 32.328125 \nL 27.484375 33.5 \nQ 16.453125 35.6875 11.515625 40.375 \nQ 6.59375 45.0625 6.59375 53.421875 \nQ 6.59375 63.09375 13.40625 68.65625 \nQ 20.21875 74.21875 32.171875 74.21875 \nQ 37.3125 74.21875 42.625 73.28125 \nQ 47.953125 72.359375 53.515625 70.515625 \nz\n\" id=\"DejaVuSans-83\"/>\n     <path d=\"M 9.8125 72.90625 \nL 19.671875 72.90625 \nL 19.671875 8.296875 \nL 55.171875 8.296875 \nL 55.171875 0 \nL 9.8125 0 \nz\n\" id=\"DejaVuSans-76\"/>\n     <path d=\"M 44.28125 53.078125 \nL 44.28125 44.578125 \nQ 40.484375 46.53125 36.375 47.5 \nQ 32.28125 48.484375 27.875 48.484375 \nQ 21.1875 48.484375 17.84375 46.4375 \nQ 14.5 44.390625 14.5 40.28125 \nQ 14.5 37.15625 16.890625 35.375 \nQ 19.28125 33.59375 26.515625 31.984375 \nL 29.59375 31.296875 \nQ 39.15625 29.25 43.1875 25.515625 \nQ 47.21875 21.78125 47.21875 15.09375 \nQ 47.21875 7.46875 41.1875 3.015625 \nQ 35.15625 -1.421875 24.609375 -1.421875 \nQ 20.21875 -1.421875 15.453125 -0.5625 \nQ 10.6875 0.296875 5.421875 2 \nL 5.421875 11.28125 \nQ 10.40625 8.6875 15.234375 7.390625 \nQ 20.0625 6.109375 24.8125 6.109375 \nQ 31.15625 6.109375 34.5625 8.28125 \nQ 37.984375 10.453125 37.984375 14.40625 \nQ 37.984375 18.0625 35.515625 20.015625 \nQ 33.0625 21.96875 24.703125 23.78125 \nL 21.578125 24.515625 \nQ 13.234375 26.265625 9.515625 29.90625 \nQ 5.8125 33.546875 5.8125 39.890625 \nQ 5.8125 47.609375 11.28125 51.796875 \nQ 16.75 56 26.8125 56 \nQ 31.78125 56 36.171875 55.265625 \nQ 40.578125 54.546875 44.28125 53.078125 \nz\n\" id=\"DejaVuSans-115\"/>\n    </defs>\n    <g transform=\"translate(7.2 20.877187)scale(0.18 -0.18)\">\n     <use xlink:href=\"#DejaVuSans-84\"/>\n     <use x=\"46.333984\" xlink:href=\"#DejaVuSans-114\"/>\n     <use x=\"87.447266\" xlink:href=\"#DejaVuSans-97\"/>\n     <use x=\"148.726562\" xlink:href=\"#DejaVuSans-105\"/>\n     <use x=\"176.509766\" xlink:href=\"#DejaVuSans-110\"/>\n     <use x=\"239.888672\" xlink:href=\"#DejaVuSans-105\"/>\n     <use x=\"267.671875\" xlink:href=\"#DejaVuSans-110\"/>\n     <use x=\"331.050781\" xlink:href=\"#DejaVuSans-103\"/>\n     <use x=\"394.527344\" xlink:href=\"#DejaVuSans-32\"/>\n     <use x=\"426.314453\" xlink:href=\"#DejaVuSans-97\"/>\n     <use x=\"487.59375\" xlink:href=\"#DejaVuSans-110\"/>\n     <use x=\"550.972656\" xlink:href=\"#DejaVuSans-100\"/>\n     <use x=\"614.449219\" xlink:href=\"#DejaVuSans-32\"/>\n     <use x=\"646.236328\" xlink:href=\"#DejaVuSans-86\"/>\n     <use x=\"706.894531\" xlink:href=\"#DejaVuSans-97\"/>\n     <use x=\"768.173828\" xlink:href=\"#DejaVuSans-108\"/>\n     <use x=\"795.957031\" xlink:href=\"#DejaVuSans-105\"/>\n     <use x=\"823.740234\" xlink:href=\"#DejaVuSans-100\"/>\n     <use x=\"887.216797\" xlink:href=\"#DejaVuSans-97\"/>\n     <use x=\"948.496094\" xlink:href=\"#DejaVuSans-116\"/>\n     <use x=\"987.705078\" xlink:href=\"#DejaVuSans-105\"/>\n     <use x=\"1015.488281\" xlink:href=\"#DejaVuSans-111\"/>\n     <use x=\"1076.669922\" xlink:href=\"#DejaVuSans-110\"/>\n     <use x=\"1140.048828\" xlink:href=\"#DejaVuSans-32\"/>\n     <use x=\"1171.835938\" xlink:href=\"#DejaVuSans-65\"/>\n     <use x=\"1238.494141\" xlink:href=\"#DejaVuSans-99\"/>\n     <use x=\"1293.474609\" xlink:href=\"#DejaVuSans-99\"/>\n     <use x=\"1348.455078\" xlink:href=\"#DejaVuSans-117\"/>\n     <use x=\"1411.833984\" xlink:href=\"#DejaVuSans-114\"/>\n     <use x=\"1452.947266\" xlink:href=\"#DejaVuSans-97\"/>\n     <use x=\"1514.226562\" xlink:href=\"#DejaVuSans-99\"/>\n     <use x=\"1569.207031\" xlink:href=\"#DejaVuSans-121\"/>\n     <use x=\"1628.386719\" xlink:href=\"#DejaVuSans-32\"/>\n     <use x=\"1660.173828\" xlink:href=\"#DejaVuSans-102\"/>\n     <use x=\"1695.378906\" xlink:href=\"#DejaVuSans-111\"/>\n     <use x=\"1756.560547\" xlink:href=\"#DejaVuSans-114\"/>\n     <use x=\"1797.673828\" xlink:href=\"#DejaVuSans-32\"/>\n     <use x=\"1829.460938\" xlink:href=\"#DejaVuSans-83\"/>\n     <use x=\"1892.9375\" xlink:href=\"#DejaVuSans-101\"/>\n     <use x=\"1954.460938\" xlink:href=\"#DejaVuSans-110\"/>\n     <use x=\"2017.839844\" xlink:href=\"#DejaVuSans-116\"/>\n     <use x=\"2057.048828\" xlink:href=\"#DejaVuSans-101\"/>\n     <use x=\"2118.572266\" xlink:href=\"#DejaVuSans-110\"/>\n     <use x=\"2181.951172\" xlink:href=\"#DejaVuSans-99\"/>\n     <use x=\"2236.931641\" xlink:href=\"#DejaVuSans-101\"/>\n     <use x=\"2298.455078\" xlink:href=\"#DejaVuSans-32\"/>\n     <use x=\"2330.242188\" xlink:href=\"#DejaVuSans-76\"/>\n     <use x=\"2384.205078\" xlink:href=\"#DejaVuSans-101\"/>\n     <use x=\"2445.728516\" xlink:href=\"#DejaVuSans-110\"/>\n     <use x=\"2509.107422\" xlink:href=\"#DejaVuSans-103\"/>\n     <use x=\"2572.583984\" xlink:href=\"#DejaVuSans-116\"/>\n     <use x=\"2611.792969\" xlink:href=\"#DejaVuSans-104\"/>\n     <use x=\"2675.171875\" xlink:href=\"#DejaVuSans-115\"/>\n     <use x=\"2727.271484\" xlink:href=\"#DejaVuSans-32\"/>\n     <use x=\"2759.058594\" xlink:href=\"#DejaVuSans-53\"/>\n     <use x=\"2822.681641\" xlink:href=\"#DejaVuSans-48\"/>\n     <use x=\"2886.304688\" xlink:href=\"#DejaVuSans-32\"/>\n     <use x=\"2918.091797\" xlink:href=\"#DejaVuSans-97\"/>\n     <use x=\"2979.371094\" xlink:href=\"#DejaVuSans-110\"/>\n     <use x=\"3042.75\" xlink:href=\"#DejaVuSans-100\"/>\n     <use x=\"3106.226562\" xlink:href=\"#DejaVuSans-32\"/>\n     <use x=\"3138.013672\" xlink:href=\"#DejaVuSans-50\"/>\n     <use x=\"3201.636719\" xlink:href=\"#DejaVuSans-48\"/>\n     <use x=\"3265.259766\" xlink:href=\"#DejaVuSans-48\"/>\n    </g>\n   </g>\n   <g id=\"legend_1\">\n    <g id=\"patch_5\">\n     <path d=\"M 120.144 110.234456 \nL 339.362918 110.234456 \nQ 341.861918 110.234456 341.861918 107.735456 \nL 341.861918 35.623687 \nQ 341.861918 33.124687 339.362918 33.124687 \nL 120.144 33.124687 \nQ 117.645 33.124687 117.645 35.623687 \nL 117.645 107.735456 \nQ 117.645 110.234456 120.144 110.234456 \nz\n\" style=\"fill:#ffffff;opacity:0.8;stroke:#cccccc;stroke-linejoin:miter;\"/>\n    </g>\n    <g id=\"line2d_16\">\n     <path d=\"M 122.643 43.243685 \nL 147.633 43.243685 \n\" style=\"fill:none;stroke:#1f77b4;stroke-linecap:square;stroke-width:1.5;\"/>\n    </g>\n    <g id=\"line2d_17\"/>\n    <g id=\"text_14\">\n     <!-- train accuracy,len=50 -->\n     <defs>\n      <path d=\"M 11.71875 12.40625 \nL 22.015625 12.40625 \nL 22.015625 4 \nL 14.015625 -11.625 \nL 7.71875 -11.625 \nL 11.71875 4 \nz\n\" id=\"DejaVuSans-44\"/>\n      <path d=\"M 10.59375 45.40625 \nL 73.1875 45.40625 \nL 73.1875 37.203125 \nL 10.59375 37.203125 \nz\nM 10.59375 25.484375 \nL 73.1875 25.484375 \nL 73.1875 17.1875 \nL 10.59375 17.1875 \nz\n\" id=\"DejaVuSans-61\"/>\n     </defs>\n     <g transform=\"translate(157.629 47.616935)scale(0.12495 -0.12495)\">\n      <use xlink:href=\"#DejaVuSans-116\"/>\n      <use x=\"39.208984\" xlink:href=\"#DejaVuSans-114\"/>\n      <use x=\"80.322266\" xlink:href=\"#DejaVuSans-97\"/>\n      <use x=\"141.601562\" xlink:href=\"#DejaVuSans-105\"/>\n      <use x=\"169.384766\" xlink:href=\"#DejaVuSans-110\"/>\n      <use x=\"232.763672\" xlink:href=\"#DejaVuSans-32\"/>\n      <use x=\"264.550781\" xlink:href=\"#DejaVuSans-97\"/>\n      <use x=\"325.830078\" xlink:href=\"#DejaVuSans-99\"/>\n      <use x=\"380.810547\" xlink:href=\"#DejaVuSans-99\"/>\n      <use x=\"435.791016\" xlink:href=\"#DejaVuSans-117\"/>\n      <use x=\"499.169922\" xlink:href=\"#DejaVuSans-114\"/>\n      <use x=\"540.283203\" xlink:href=\"#DejaVuSans-97\"/>\n      <use x=\"601.5625\" xlink:href=\"#DejaVuSans-99\"/>\n      <use x=\"656.542969\" xlink:href=\"#DejaVuSans-121\"/>\n      <use x=\"715.722656\" xlink:href=\"#DejaVuSans-44\"/>\n      <use x=\"747.509766\" xlink:href=\"#DejaVuSans-108\"/>\n      <use x=\"775.292969\" xlink:href=\"#DejaVuSans-101\"/>\n      <use x=\"836.816406\" xlink:href=\"#DejaVuSans-110\"/>\n      <use x=\"900.195312\" xlink:href=\"#DejaVuSans-61\"/>\n      <use x=\"983.984375\" xlink:href=\"#DejaVuSans-53\"/>\n      <use x=\"1047.607422\" xlink:href=\"#DejaVuSans-48\"/>\n     </g>\n    </g>\n    <g id=\"line2d_18\">\n     <path d=\"M 122.643 61.584002 \nL 147.633 61.584002 \n\" style=\"fill:none;stroke:#ff7f0e;stroke-linecap:square;stroke-width:1.5;\"/>\n    </g>\n    <g id=\"line2d_19\"/>\n    <g id=\"text_15\">\n     <!-- train accuracy,len=200 -->\n     <g transform=\"translate(157.629 65.957252)scale(0.12495 -0.12495)\">\n      <use xlink:href=\"#DejaVuSans-116\"/>\n      <use x=\"39.208984\" xlink:href=\"#DejaVuSans-114\"/>\n      <use x=\"80.322266\" xlink:href=\"#DejaVuSans-97\"/>\n      <use x=\"141.601562\" xlink:href=\"#DejaVuSans-105\"/>\n      <use x=\"169.384766\" xlink:href=\"#DejaVuSans-110\"/>\n      <use x=\"232.763672\" xlink:href=\"#DejaVuSans-32\"/>\n      <use x=\"264.550781\" xlink:href=\"#DejaVuSans-97\"/>\n      <use x=\"325.830078\" xlink:href=\"#DejaVuSans-99\"/>\n      <use x=\"380.810547\" xlink:href=\"#DejaVuSans-99\"/>\n      <use x=\"435.791016\" xlink:href=\"#DejaVuSans-117\"/>\n      <use x=\"499.169922\" xlink:href=\"#DejaVuSans-114\"/>\n      <use x=\"540.283203\" xlink:href=\"#DejaVuSans-97\"/>\n      <use x=\"601.5625\" xlink:href=\"#DejaVuSans-99\"/>\n      <use x=\"656.542969\" xlink:href=\"#DejaVuSans-121\"/>\n      <use x=\"715.722656\" xlink:href=\"#DejaVuSans-44\"/>\n      <use x=\"747.509766\" xlink:href=\"#DejaVuSans-108\"/>\n      <use x=\"775.292969\" xlink:href=\"#DejaVuSans-101\"/>\n      <use x=\"836.816406\" xlink:href=\"#DejaVuSans-110\"/>\n      <use x=\"900.195312\" xlink:href=\"#DejaVuSans-61\"/>\n      <use x=\"983.984375\" xlink:href=\"#DejaVuSans-50\"/>\n      <use x=\"1047.607422\" xlink:href=\"#DejaVuSans-48\"/>\n      <use x=\"1111.230469\" xlink:href=\"#DejaVuSans-48\"/>\n     </g>\n    </g>\n    <g id=\"line2d_20\">\n     <path d=\"M 122.643 79.92432 \nL 147.633 79.92432 \n\" style=\"fill:none;stroke:#2ca02c;stroke-linecap:square;stroke-width:1.5;\"/>\n    </g>\n    <g id=\"line2d_21\"/>\n    <g id=\"text_16\">\n     <!-- validation accuracy,len=50 -->\n     <defs>\n      <path d=\"M 2.984375 54.6875 \nL 12.5 54.6875 \nL 29.59375 8.796875 \nL 46.6875 54.6875 \nL 56.203125 54.6875 \nL 35.6875 0 \nL 23.484375 0 \nz\n\" id=\"DejaVuSans-118\"/>\n     </defs>\n     <g transform=\"translate(157.629 84.29757)scale(0.12495 -0.12495)\">\n      <use xlink:href=\"#DejaVuSans-118\"/>\n      <use x=\"59.179688\" xlink:href=\"#DejaVuSans-97\"/>\n      <use x=\"120.458984\" xlink:href=\"#DejaVuSans-108\"/>\n      <use x=\"148.242188\" xlink:href=\"#DejaVuSans-105\"/>\n      <use x=\"176.025391\" xlink:href=\"#DejaVuSans-100\"/>\n      <use x=\"239.501953\" xlink:href=\"#DejaVuSans-97\"/>\n      <use x=\"300.78125\" xlink:href=\"#DejaVuSans-116\"/>\n      <use x=\"339.990234\" xlink:href=\"#DejaVuSans-105\"/>\n      <use x=\"367.773438\" xlink:href=\"#DejaVuSans-111\"/>\n      <use x=\"428.955078\" xlink:href=\"#DejaVuSans-110\"/>\n      <use x=\"492.333984\" xlink:href=\"#DejaVuSans-32\"/>\n      <use x=\"524.121094\" xlink:href=\"#DejaVuSans-97\"/>\n      <use x=\"585.400391\" xlink:href=\"#DejaVuSans-99\"/>\n      <use x=\"640.380859\" xlink:href=\"#DejaVuSans-99\"/>\n      <use x=\"695.361328\" xlink:href=\"#DejaVuSans-117\"/>\n      <use x=\"758.740234\" xlink:href=\"#DejaVuSans-114\"/>\n      <use x=\"799.853516\" xlink:href=\"#DejaVuSans-97\"/>\n      <use x=\"861.132812\" xlink:href=\"#DejaVuSans-99\"/>\n      <use x=\"916.113281\" xlink:href=\"#DejaVuSans-121\"/>\n      <use x=\"975.292969\" xlink:href=\"#DejaVuSans-44\"/>\n      <use x=\"1007.080078\" xlink:href=\"#DejaVuSans-108\"/>\n      <use x=\"1034.863281\" xlink:href=\"#DejaVuSans-101\"/>\n      <use x=\"1096.386719\" xlink:href=\"#DejaVuSans-110\"/>\n      <use x=\"1159.765625\" xlink:href=\"#DejaVuSans-61\"/>\n      <use x=\"1243.554688\" xlink:href=\"#DejaVuSans-53\"/>\n      <use x=\"1307.177734\" xlink:href=\"#DejaVuSans-48\"/>\n     </g>\n    </g>\n    <g id=\"line2d_22\">\n     <path d=\"M 122.643 98.264637 \nL 147.633 98.264637 \n\" style=\"fill:none;stroke:#d62728;stroke-linecap:square;stroke-width:1.5;\"/>\n    </g>\n    <g id=\"line2d_23\"/>\n    <g id=\"text_17\">\n     <!-- validation accuracy,len=200 -->\n     <g transform=\"translate(157.629 102.637887)scale(0.12495 -0.12495)\">\n      <use xlink:href=\"#DejaVuSans-118\"/>\n      <use x=\"59.179688\" xlink:href=\"#DejaVuSans-97\"/>\n      <use x=\"120.458984\" xlink:href=\"#DejaVuSans-108\"/>\n      <use x=\"148.242188\" xlink:href=\"#DejaVuSans-105\"/>\n      <use x=\"176.025391\" xlink:href=\"#DejaVuSans-100\"/>\n      <use x=\"239.501953\" xlink:href=\"#DejaVuSans-97\"/>\n      <use x=\"300.78125\" xlink:href=\"#DejaVuSans-116\"/>\n      <use x=\"339.990234\" xlink:href=\"#DejaVuSans-105\"/>\n      <use x=\"367.773438\" xlink:href=\"#DejaVuSans-111\"/>\n      <use x=\"428.955078\" xlink:href=\"#DejaVuSans-110\"/>\n      <use x=\"492.333984\" xlink:href=\"#DejaVuSans-32\"/>\n      <use x=\"524.121094\" xlink:href=\"#DejaVuSans-97\"/>\n      <use x=\"585.400391\" xlink:href=\"#DejaVuSans-99\"/>\n      <use x=\"640.380859\" xlink:href=\"#DejaVuSans-99\"/>\n      <use x=\"695.361328\" xlink:href=\"#DejaVuSans-117\"/>\n      <use x=\"758.740234\" xlink:href=\"#DejaVuSans-114\"/>\n      <use x=\"799.853516\" xlink:href=\"#DejaVuSans-97\"/>\n      <use x=\"861.132812\" xlink:href=\"#DejaVuSans-99\"/>\n      <use x=\"916.113281\" xlink:href=\"#DejaVuSans-121\"/>\n      <use x=\"975.292969\" xlink:href=\"#DejaVuSans-44\"/>\n      <use x=\"1007.080078\" xlink:href=\"#DejaVuSans-108\"/>\n      <use x=\"1034.863281\" xlink:href=\"#DejaVuSans-101\"/>\n      <use x=\"1096.386719\" xlink:href=\"#DejaVuSans-110\"/>\n      <use x=\"1159.765625\" xlink:href=\"#DejaVuSans-61\"/>\n      <use x=\"1243.554688\" xlink:href=\"#DejaVuSans-50\"/>\n      <use x=\"1307.177734\" xlink:href=\"#DejaVuSans-48\"/>\n      <use x=\"1370.800781\" xlink:href=\"#DejaVuSans-48\"/>\n     </g>\n    </g>\n   </g>\n  </g>\n </g>\n <defs>\n  <clipPath id=\"pf63ef74d5d\">\n   <rect height=\"340.812808\" width=\"390.8025\" x=\"111.3975\" y=\"26.877187\"/>\n  </clipPath>\n </defs>\n</svg>\n"
          },
          "metadata": {
            "needs_background": "light"
          }
        }
      ],
      "source": [
        "# Compare accuracies of model trained on different sentence lengths\n",
        "\n",
        "x_ticks = np.arange(epochs)\n",
        "plt.plot(x_ticks, vanilla_train_acc, label='train accuracy,len=50')\n",
        "plt.plot(x_ticks, vanilla_train_acc_long, label='train accuracy,len=200')\n",
        "\n",
        "plt.plot(x_ticks, vanilla_validation_acc, label='validation accuracy,len=50')\n",
        "plt.plot(x_ticks, vanilla_validation_acc_long, label='validation accuracy,len=200')\n",
        "\n",
        "plt.legend(loc='upper left')\n",
        "plt.xlabel('epoch')\n",
        "plt.title(\"Training and Validation Accuracy for Sentence Lengths 50 and 200\")\n",
        "plt.show()"
      ]
    },
    {
      "cell_type": "markdown",
      "metadata": {
        "execution": {},
        "id": "2KAdi3VskV22"
      },
      "source": [
        "---\n",
        "# Bonus 2: Improving Text Generation\n",
        "\n",
        "As seen in Section 2.1, choosing the character with the highest probability at each time step did not allow us to fully explore the variability in language. For this, we must let the model \"explore\" other character choices as well. One of the ways to do this is to sample from a probability distribution. \n",
        "\n",
        "Implement the function to generate text again, but this time we cast the output to a probability distribution. Your task is to sample a character from this distribution. Use this function: https://pytorch.org/docs/stable/generated/torch.multinomial.html "
      ]
    },
    {
      "cell_type": "markdown",
      "metadata": {
        "execution": {},
        "id": "xnjH6glRkV22"
      },
      "source": [
        "**Network**"
      ]
    },
    {
      "cell_type": "code",
      "execution_count": 54,
      "metadata": {
        "execution": {},
        "id": "Qv5WAc5_kV22"
      },
      "outputs": [],
      "source": [
        "class GenerationRNN(nn.Module):\n",
        "  def __init__(self, input_size, hidden_size, output_size, n_layers=1):\n",
        "    super(GenerationRNN, self).__init__()\n",
        "    self.input_size = input_size\n",
        "    self.hidden_size = hidden_size\n",
        "    self.output_size = output_size\n",
        "    self.n_layers = n_layers\n",
        "\n",
        "    self.encoder = nn.Embedding(input_size, hidden_size)\n",
        "    self.rnn = nn.RNN(hidden_size, hidden_size, n_layers)\n",
        "    self.decoder = nn.Linear(hidden_size, output_size)\n",
        "\n",
        "  def forward(self, input, hidden):\n",
        "    input = self.encoder(input.view(1, -1))\n",
        "    output, hidden = self.rnn(input, hidden)\n",
        "    output = self.decoder(hidden.view(1, -1))\n",
        "    return output, hidden\n",
        "\n",
        "  def init_hidden(self):\n",
        "    return torch.zeros(self.n_layers, 1, self.hidden_size)"
      ]
    },
    {
      "cell_type": "markdown",
      "metadata": {
        "execution": {},
        "id": "ZTtqBuIJkV23"
      },
      "source": [
        "### Bonus Coding Exercise 1: Improving Text Generation\n",
        "\n"
      ]
    },
    {
      "cell_type": "code",
      "execution_count": 55,
      "metadata": {
        "execution": {},
        "id": "4jYoiu14kV23"
      },
      "outputs": [],
      "source": [
        "def evaluateMultinomial(net, prime_str, predict_len, temperature=0.8):\n",
        "  hidden = net.init_hidden()\n",
        "  predicted = prime_str\n",
        "\n",
        "  # \"Building up\" the hidden state\n",
        "  for p in range(len(prime_str) - 1):\n",
        "    inp = char_tensor(prime_str[p])\n",
        "    _, hidden = net(inp, hidden)\n",
        "\n",
        "  # Tensorize of the last character\n",
        "  inp = char_tensor(prime_str[-1])\n",
        "\n",
        "  # For every index to predict\n",
        "  for p in range(predict_len):\n",
        "    ####################################################################\n",
        "    # Fill in missing code below (...),\n",
        "    # then remove or comment the line below to test your function\n",
        "    raise NotImplementedError(\"Generation Improve\")\n",
        "    ####################################################################\n",
        "    # Pass the character + previous hidden state to the model\n",
        "    output, hidden = ...\n",
        "\n",
        "    # Sample from the network as a multinomial distribution\n",
        "    output_dist = output.data.view(-1).div(temperature).exp()\n",
        "    top_i = ...\n",
        "\n",
        "    # Add predicted character to string and use as next input\n",
        "    predicted_char = all_characters[top_i]\n",
        "    predicted += predicted_char\n",
        "    inp = char_tensor(predicted_char)\n",
        "\n",
        "  return predicted\n",
        "\n",
        "\n",
        "## Uncomment to run\n",
        "# sampleDecoder = GenerationRNN(27, 100, 27, 1)\n",
        "# text = evaluateMultinomial(sampleDecoder, 'hi', 10)\n",
        "# if text.startswith('hi') and len(text) == 12:\n",
        "#   print('Success!')\n",
        "# else:\n",
        "#   print('Need to change.')"
      ]
    },
    {
      "cell_type": "code",
      "execution_count": 56,
      "metadata": {
        "execution": {},
        "id": "mVcW4mnskV24",
        "outputId": "c96d99cd-b32c-484c-dfa1-e7daa4679782",
        "colab": {
          "base_uri": "https://localhost:8080/"
        }
      },
      "outputs": [
        {
          "output_type": "stream",
          "name": "stdout",
          "text": [
            "Success!\n"
          ]
        }
      ],
      "source": [
        "# to_remove solution\n",
        "def evaluateMultinomial(net, prime_str, predict_len, temperature=0.8):\n",
        "  hidden = net.init_hidden()\n",
        "  predicted = prime_str\n",
        "\n",
        "  # \"Building up\" the hidden state\n",
        "  for p in range(len(prime_str) - 1):\n",
        "    inp = char_tensor(prime_str[p])\n",
        "    _, hidden = net(inp, hidden)\n",
        "\n",
        "  # Tensorize of the last character\n",
        "  inp = char_tensor(prime_str[-1])\n",
        "\n",
        "  # For every index to predict\n",
        "  for p in range(predict_len):\n",
        "    # Pass the character + previous hidden state to the model\n",
        "    output, hidden = net(inp, hidden)\n",
        "\n",
        "    # Sample from the network as a multinomial distribution\n",
        "    output_dist = output.data.view(-1).div(temperature).exp()\n",
        "    top_i = torch.multinomial(output_dist, 1)[0]\n",
        "\n",
        "    # Add predicted character to string and use as next input\n",
        "    predicted_char = all_characters[top_i]\n",
        "    predicted += predicted_char\n",
        "    inp = char_tensor(predicted_char)\n",
        "\n",
        "  return predicted\n",
        "\n",
        "\n",
        "## Uncomment to run\n",
        "sampleDecoder = GenerationRNN(27, 100, 27, 1)\n",
        "text = evaluateMultinomial(sampleDecoder, 'hi', 10)\n",
        "if text.startswith('hi') and len(text) == 12:\n",
        "  print('Success!')\n",
        "else:\n",
        "  print('Need to change.')"
      ]
    },
    {
      "cell_type": "code",
      "execution_count": 57,
      "metadata": {
        "cellView": "form",
        "execution": {},
        "id": "_cktLB7mkV24",
        "outputId": "f1441560-9725-41ee-c2ca-509989c83e27",
        "colab": {
          "base_uri": "https://localhost:8080/",
          "height": 783
        }
      },
      "outputs": [
        {
          "output_type": "stream",
          "name": "stdout",
          "text": [
            "Epoch 500 --------------------\n",
            "\t this anal he icus sor mestus at fre all teer you is \n",
            "Epoch 1000 --------------------\n",
            "\t the hin forite iif lort od ase ur carsui do ende bep\n",
            "Epoch 1500 --------------------\n",
            "\t that dodlibe brutus of you bherd strony ut ty brifla\n",
            "Epoch 2000 --------------------\n",
            "\t the and gith by luntion coppont to siciny brutus of \n",
            "Epoch 2500 --------------------\n",
            "\t the hourstany looth love cassius of recere tholl an \n",
            "Epoch 3000 --------------------\n",
            "\t thing but the sotesmans mait cassius not still what \n"
          ]
        },
        {
          "output_type": "display_data",
          "data": {
            "text/plain": [
              "<Figure size 576x432 with 1 Axes>"
            ],
            "image/svg+xml": "<?xml version=\"1.0\" encoding=\"utf-8\" standalone=\"no\"?>\n<!DOCTYPE svg PUBLIC \"-//W3C//DTD SVG 1.1//EN\"\n  \"http://www.w3.org/Graphics/SVG/1.1/DTD/svg11.dtd\">\n<!-- Created with matplotlib (https://matplotlib.org/) -->\n<svg height=\"414pt\" version=\"1.1\" viewBox=\"0 0 558 414\" width=\"558pt\" xmlns=\"http://www.w3.org/2000/svg\" xmlns:xlink=\"http://www.w3.org/1999/xlink\">\n <defs>\n  <style type=\"text/css\">\n*{stroke-linecap:butt;stroke-linejoin:round;}\n  </style>\n </defs>\n <g id=\"figure_1\">\n  <g id=\"patch_1\">\n   <path d=\"M 0 414 \nL 558 414 \nL 558 0 \nL 0 0 \nz\n\" style=\"fill:none;\"/>\n  </g>\n  <g id=\"axes_1\">\n   <g id=\"patch_2\">\n    <path d=\"M 62.038086 367.689995 \nL 550.8 367.689995 \nL 550.8 26.877187 \nL 62.038086 26.877187 \nz\n\" style=\"fill:#ffffff;\"/>\n   </g>\n   <g id=\"matplotlib.axis_1\">\n    <g id=\"xtick_1\">\n     <g id=\"line2d_1\">\n      <defs>\n       <path d=\"M 0 0 \nL 0 5 \n\" id=\"m5e5b9f7f43\" style=\"stroke:#000000;stroke-width:0.8;\"/>\n      </defs>\n      <g>\n       <use style=\"stroke:#000000;stroke-width:0.8;\" x=\"84.254537\" xlink:href=\"#m5e5b9f7f43\" y=\"367.689995\"/>\n      </g>\n     </g>\n     <g id=\"text_1\">\n      <!-- 0 -->\n      <defs>\n       <path d=\"M 31.78125 66.40625 \nQ 24.171875 66.40625 20.328125 58.90625 \nQ 16.5 51.421875 16.5 36.375 \nQ 16.5 21.390625 20.328125 13.890625 \nQ 24.171875 6.390625 31.78125 6.390625 \nQ 39.453125 6.390625 43.28125 13.890625 \nQ 47.125 21.390625 47.125 36.375 \nQ 47.125 51.421875 43.28125 58.90625 \nQ 39.453125 66.40625 31.78125 66.40625 \nz\nM 31.78125 74.21875 \nQ 44.046875 74.21875 50.515625 64.515625 \nQ 56.984375 54.828125 56.984375 36.375 \nQ 56.984375 17.96875 50.515625 8.265625 \nQ 44.046875 -1.421875 31.78125 -1.421875 \nQ 19.53125 -1.421875 13.0625 8.265625 \nQ 6.59375 17.96875 6.59375 36.375 \nQ 6.59375 54.828125 13.0625 64.515625 \nQ 19.53125 74.21875 31.78125 74.21875 \nz\n\" id=\"DejaVuSans-48\"/>\n      </defs>\n      <g transform=\"translate(80.279565 385.684243)scale(0.12495 -0.12495)\">\n       <use xlink:href=\"#DejaVuSans-48\"/>\n      </g>\n     </g>\n    </g>\n    <g id=\"xtick_2\">\n     <g id=\"line2d_2\">\n      <g>\n       <use style=\"stroke:#000000;stroke-width:0.8;\" x=\"158.557047\" xlink:href=\"#m5e5b9f7f43\" y=\"367.689995\"/>\n      </g>\n     </g>\n     <g id=\"text_2\">\n      <!-- 50 -->\n      <defs>\n       <path d=\"M 10.796875 72.90625 \nL 49.515625 72.90625 \nL 49.515625 64.59375 \nL 19.828125 64.59375 \nL 19.828125 46.734375 \nQ 21.96875 47.46875 24.109375 47.828125 \nQ 26.265625 48.1875 28.421875 48.1875 \nQ 40.625 48.1875 47.75 41.5 \nQ 54.890625 34.8125 54.890625 23.390625 \nQ 54.890625 11.625 47.5625 5.09375 \nQ 40.234375 -1.421875 26.90625 -1.421875 \nQ 22.3125 -1.421875 17.546875 -0.640625 \nQ 12.796875 0.140625 7.71875 1.703125 \nL 7.71875 11.625 \nQ 12.109375 9.234375 16.796875 8.0625 \nQ 21.484375 6.890625 26.703125 6.890625 \nQ 35.15625 6.890625 40.078125 11.328125 \nQ 45.015625 15.765625 45.015625 23.390625 \nQ 45.015625 31 40.078125 35.4375 \nQ 35.15625 39.890625 26.703125 39.890625 \nQ 22.75 39.890625 18.8125 39.015625 \nQ 14.890625 38.140625 10.796875 36.28125 \nz\n\" id=\"DejaVuSans-53\"/>\n      </defs>\n      <g transform=\"translate(150.607103 385.684243)scale(0.12495 -0.12495)\">\n       <use xlink:href=\"#DejaVuSans-53\"/>\n       <use x=\"63.623047\" xlink:href=\"#DejaVuSans-48\"/>\n      </g>\n     </g>\n    </g>\n    <g id=\"xtick_3\">\n     <g id=\"line2d_3\">\n      <g>\n       <use style=\"stroke:#000000;stroke-width:0.8;\" x=\"232.859558\" xlink:href=\"#m5e5b9f7f43\" y=\"367.689995\"/>\n      </g>\n     </g>\n     <g id=\"text_3\">\n      <!-- 100 -->\n      <defs>\n       <path d=\"M 12.40625 8.296875 \nL 28.515625 8.296875 \nL 28.515625 63.921875 \nL 10.984375 60.40625 \nL 10.984375 69.390625 \nL 28.421875 72.90625 \nL 38.28125 72.90625 \nL 38.28125 8.296875 \nL 54.390625 8.296875 \nL 54.390625 0 \nL 12.40625 0 \nz\n\" id=\"DejaVuSans-49\"/>\n      </defs>\n      <g transform=\"translate(220.934642 385.684243)scale(0.12495 -0.12495)\">\n       <use xlink:href=\"#DejaVuSans-49\"/>\n       <use x=\"63.623047\" xlink:href=\"#DejaVuSans-48\"/>\n       <use x=\"127.246094\" xlink:href=\"#DejaVuSans-48\"/>\n      </g>\n     </g>\n    </g>\n    <g id=\"xtick_4\">\n     <g id=\"line2d_4\">\n      <g>\n       <use style=\"stroke:#000000;stroke-width:0.8;\" x=\"307.162068\" xlink:href=\"#m5e5b9f7f43\" y=\"367.689995\"/>\n      </g>\n     </g>\n     <g id=\"text_4\">\n      <!-- 150 -->\n      <g transform=\"translate(295.237152 385.684243)scale(0.12495 -0.12495)\">\n       <use xlink:href=\"#DejaVuSans-49\"/>\n       <use x=\"63.623047\" xlink:href=\"#DejaVuSans-53\"/>\n       <use x=\"127.246094\" xlink:href=\"#DejaVuSans-48\"/>\n      </g>\n     </g>\n    </g>\n    <g id=\"xtick_5\">\n     <g id=\"line2d_5\">\n      <g>\n       <use style=\"stroke:#000000;stroke-width:0.8;\" x=\"381.464579\" xlink:href=\"#m5e5b9f7f43\" y=\"367.689995\"/>\n      </g>\n     </g>\n     <g id=\"text_5\">\n      <!-- 200 -->\n      <defs>\n       <path d=\"M 19.1875 8.296875 \nL 53.609375 8.296875 \nL 53.609375 0 \nL 7.328125 0 \nL 7.328125 8.296875 \nQ 12.9375 14.109375 22.625 23.890625 \nQ 32.328125 33.6875 34.8125 36.53125 \nQ 39.546875 41.84375 41.421875 45.53125 \nQ 43.3125 49.21875 43.3125 52.78125 \nQ 43.3125 58.59375 39.234375 62.25 \nQ 35.15625 65.921875 28.609375 65.921875 \nQ 23.96875 65.921875 18.8125 64.3125 \nQ 13.671875 62.703125 7.8125 59.421875 \nL 7.8125 69.390625 \nQ 13.765625 71.78125 18.9375 73 \nQ 24.125 74.21875 28.421875 74.21875 \nQ 39.75 74.21875 46.484375 68.546875 \nQ 53.21875 62.890625 53.21875 53.421875 \nQ 53.21875 48.921875 51.53125 44.890625 \nQ 49.859375 40.875 45.40625 35.40625 \nQ 44.1875 33.984375 37.640625 27.21875 \nQ 31.109375 20.453125 19.1875 8.296875 \nz\n\" id=\"DejaVuSans-50\"/>\n      </defs>\n      <g transform=\"translate(369.539663 385.684243)scale(0.12495 -0.12495)\">\n       <use xlink:href=\"#DejaVuSans-50\"/>\n       <use x=\"63.623047\" xlink:href=\"#DejaVuSans-48\"/>\n       <use x=\"127.246094\" xlink:href=\"#DejaVuSans-48\"/>\n      </g>\n     </g>\n    </g>\n    <g id=\"xtick_6\">\n     <g id=\"line2d_6\">\n      <g>\n       <use style=\"stroke:#000000;stroke-width:0.8;\" x=\"455.767089\" xlink:href=\"#m5e5b9f7f43\" y=\"367.689995\"/>\n      </g>\n     </g>\n     <g id=\"text_6\">\n      <!-- 250 -->\n      <g transform=\"translate(443.842173 385.684243)scale(0.12495 -0.12495)\">\n       <use xlink:href=\"#DejaVuSans-50\"/>\n       <use x=\"63.623047\" xlink:href=\"#DejaVuSans-53\"/>\n       <use x=\"127.246094\" xlink:href=\"#DejaVuSans-48\"/>\n      </g>\n     </g>\n    </g>\n    <g id=\"xtick_7\">\n     <g id=\"line2d_7\">\n      <g>\n       <use style=\"stroke:#000000;stroke-width:0.8;\" x=\"530.0696\" xlink:href=\"#m5e5b9f7f43\" y=\"367.689995\"/>\n      </g>\n     </g>\n     <g id=\"text_7\">\n      <!-- 300 -->\n      <defs>\n       <path d=\"M 40.578125 39.3125 \nQ 47.65625 37.796875 51.625 33 \nQ 55.609375 28.21875 55.609375 21.1875 \nQ 55.609375 10.40625 48.1875 4.484375 \nQ 40.765625 -1.421875 27.09375 -1.421875 \nQ 22.515625 -1.421875 17.65625 -0.515625 \nQ 12.796875 0.390625 7.625 2.203125 \nL 7.625 11.71875 \nQ 11.71875 9.328125 16.59375 8.109375 \nQ 21.484375 6.890625 26.8125 6.890625 \nQ 36.078125 6.890625 40.9375 10.546875 \nQ 45.796875 14.203125 45.796875 21.1875 \nQ 45.796875 27.640625 41.28125 31.265625 \nQ 36.765625 34.90625 28.71875 34.90625 \nL 20.21875 34.90625 \nL 20.21875 43.015625 \nL 29.109375 43.015625 \nQ 36.375 43.015625 40.234375 45.921875 \nQ 44.09375 48.828125 44.09375 54.296875 \nQ 44.09375 59.90625 40.109375 62.90625 \nQ 36.140625 65.921875 28.71875 65.921875 \nQ 24.65625 65.921875 20.015625 65.03125 \nQ 15.375 64.15625 9.8125 62.3125 \nL 9.8125 71.09375 \nQ 15.4375 72.65625 20.34375 73.4375 \nQ 25.25 74.21875 29.59375 74.21875 \nQ 40.828125 74.21875 47.359375 69.109375 \nQ 53.90625 64.015625 53.90625 55.328125 \nQ 53.90625 49.265625 50.4375 45.09375 \nQ 46.96875 40.921875 40.578125 39.3125 \nz\n\" id=\"DejaVuSans-51\"/>\n      </defs>\n      <g transform=\"translate(518.144684 385.684243)scale(0.12495 -0.12495)\">\n       <use xlink:href=\"#DejaVuSans-51\"/>\n       <use x=\"63.623047\" xlink:href=\"#DejaVuSans-48\"/>\n       <use x=\"127.246094\" xlink:href=\"#DejaVuSans-48\"/>\n      </g>\n     </g>\n    </g>\n    <g id=\"text_8\">\n     <!-- Epochs -->\n     <defs>\n      <path d=\"M 9.8125 72.90625 \nL 55.90625 72.90625 \nL 55.90625 64.59375 \nL 19.671875 64.59375 \nL 19.671875 43.015625 \nL 54.390625 43.015625 \nL 54.390625 34.71875 \nL 19.671875 34.71875 \nL 19.671875 8.296875 \nL 56.78125 8.296875 \nL 56.78125 0 \nL 9.8125 0 \nz\n\" id=\"DejaVuSans-69\"/>\n      <path d=\"M 18.109375 8.203125 \nL 18.109375 -20.796875 \nL 9.078125 -20.796875 \nL 9.078125 54.6875 \nL 18.109375 54.6875 \nL 18.109375 46.390625 \nQ 20.953125 51.265625 25.265625 53.625 \nQ 29.59375 56 35.59375 56 \nQ 45.5625 56 51.78125 48.09375 \nQ 58.015625 40.1875 58.015625 27.296875 \nQ 58.015625 14.40625 51.78125 6.484375 \nQ 45.5625 -1.421875 35.59375 -1.421875 \nQ 29.59375 -1.421875 25.265625 0.953125 \nQ 20.953125 3.328125 18.109375 8.203125 \nz\nM 48.6875 27.296875 \nQ 48.6875 37.203125 44.609375 42.84375 \nQ 40.53125 48.484375 33.40625 48.484375 \nQ 26.265625 48.484375 22.1875 42.84375 \nQ 18.109375 37.203125 18.109375 27.296875 \nQ 18.109375 17.390625 22.1875 11.75 \nQ 26.265625 6.109375 33.40625 6.109375 \nQ 40.53125 6.109375 44.609375 11.75 \nQ 48.6875 17.390625 48.6875 27.296875 \nz\n\" id=\"DejaVuSans-112\"/>\n      <path d=\"M 30.609375 48.390625 \nQ 23.390625 48.390625 19.1875 42.75 \nQ 14.984375 37.109375 14.984375 27.296875 \nQ 14.984375 17.484375 19.15625 11.84375 \nQ 23.34375 6.203125 30.609375 6.203125 \nQ 37.796875 6.203125 41.984375 11.859375 \nQ 46.1875 17.53125 46.1875 27.296875 \nQ 46.1875 37.015625 41.984375 42.703125 \nQ 37.796875 48.390625 30.609375 48.390625 \nz\nM 30.609375 56 \nQ 42.328125 56 49.015625 48.375 \nQ 55.71875 40.765625 55.71875 27.296875 \nQ 55.71875 13.875 49.015625 6.21875 \nQ 42.328125 -1.421875 30.609375 -1.421875 \nQ 18.84375 -1.421875 12.171875 6.21875 \nQ 5.515625 13.875 5.515625 27.296875 \nQ 5.515625 40.765625 12.171875 48.375 \nQ 18.84375 56 30.609375 56 \nz\n\" id=\"DejaVuSans-111\"/>\n      <path d=\"M 48.78125 52.59375 \nL 48.78125 44.1875 \nQ 44.96875 46.296875 41.140625 47.34375 \nQ 37.3125 48.390625 33.40625 48.390625 \nQ 24.65625 48.390625 19.8125 42.84375 \nQ 14.984375 37.3125 14.984375 27.296875 \nQ 14.984375 17.28125 19.8125 11.734375 \nQ 24.65625 6.203125 33.40625 6.203125 \nQ 37.3125 6.203125 41.140625 7.25 \nQ 44.96875 8.296875 48.78125 10.40625 \nL 48.78125 2.09375 \nQ 45.015625 0.34375 40.984375 -0.53125 \nQ 36.96875 -1.421875 32.421875 -1.421875 \nQ 20.0625 -1.421875 12.78125 6.34375 \nQ 5.515625 14.109375 5.515625 27.296875 \nQ 5.515625 40.671875 12.859375 48.328125 \nQ 20.21875 56 33.015625 56 \nQ 37.15625 56 41.109375 55.140625 \nQ 45.0625 54.296875 48.78125 52.59375 \nz\n\" id=\"DejaVuSans-99\"/>\n      <path d=\"M 54.890625 33.015625 \nL 54.890625 0 \nL 45.90625 0 \nL 45.90625 32.71875 \nQ 45.90625 40.484375 42.875 44.328125 \nQ 39.84375 48.1875 33.796875 48.1875 \nQ 26.515625 48.1875 22.3125 43.546875 \nQ 18.109375 38.921875 18.109375 30.90625 \nL 18.109375 0 \nL 9.078125 0 \nL 9.078125 75.984375 \nL 18.109375 75.984375 \nL 18.109375 46.1875 \nQ 21.34375 51.125 25.703125 53.5625 \nQ 30.078125 56 35.796875 56 \nQ 45.21875 56 50.046875 50.171875 \nQ 54.890625 44.34375 54.890625 33.015625 \nz\n\" id=\"DejaVuSans-104\"/>\n      <path d=\"M 44.28125 53.078125 \nL 44.28125 44.578125 \nQ 40.484375 46.53125 36.375 47.5 \nQ 32.28125 48.484375 27.875 48.484375 \nQ 21.1875 48.484375 17.84375 46.4375 \nQ 14.5 44.390625 14.5 40.28125 \nQ 14.5 37.15625 16.890625 35.375 \nQ 19.28125 33.59375 26.515625 31.984375 \nL 29.59375 31.296875 \nQ 39.15625 29.25 43.1875 25.515625 \nQ 47.21875 21.78125 47.21875 15.09375 \nQ 47.21875 7.46875 41.1875 3.015625 \nQ 35.15625 -1.421875 24.609375 -1.421875 \nQ 20.21875 -1.421875 15.453125 -0.5625 \nQ 10.6875 0.296875 5.421875 2 \nL 5.421875 11.28125 \nQ 10.40625 8.6875 15.234375 7.390625 \nQ 20.0625 6.109375 24.8125 6.109375 \nQ 31.15625 6.109375 34.5625 8.28125 \nQ 37.984375 10.453125 37.984375 14.40625 \nQ 37.984375 18.0625 35.515625 20.015625 \nQ 33.0625 21.96875 24.703125 23.78125 \nL 21.578125 24.515625 \nQ 13.234375 26.265625 9.515625 29.90625 \nQ 5.8125 33.546875 5.8125 39.890625 \nQ 5.8125 47.609375 11.28125 51.796875 \nQ 16.75 56 26.8125 56 \nQ 31.78125 56 36.171875 55.265625 \nQ 40.578125 54.546875 44.28125 53.078125 \nz\n\" id=\"DejaVuSans-115\"/>\n     </defs>\n     <g transform=\"translate(279.545605 403.680469)scale(0.15 -0.15)\">\n      <use xlink:href=\"#DejaVuSans-69\"/>\n      <use x=\"63.183594\" xlink:href=\"#DejaVuSans-112\"/>\n      <use x=\"126.660156\" xlink:href=\"#DejaVuSans-111\"/>\n      <use x=\"187.841797\" xlink:href=\"#DejaVuSans-99\"/>\n      <use x=\"242.822266\" xlink:href=\"#DejaVuSans-104\"/>\n      <use x=\"306.201172\" xlink:href=\"#DejaVuSans-115\"/>\n     </g>\n    </g>\n   </g>\n   <g id=\"matplotlib.axis_2\">\n    <g id=\"ytick_1\">\n     <g id=\"line2d_8\">\n      <defs>\n       <path d=\"M 0 0 \nL -5 0 \n\" id=\"m142e590172\" style=\"stroke:#000000;stroke-width:0.8;\"/>\n      </defs>\n      <g>\n       <use style=\"stroke:#000000;stroke-width:0.8;\" x=\"62.038086\" xlink:href=\"#m142e590172\" y=\"324.56332\"/>\n      </g>\n     </g>\n     <g id=\"text_9\">\n      <!-- 1.75 -->\n      <defs>\n       <path d=\"M 10.6875 12.40625 \nL 21 12.40625 \nL 21 0 \nL 10.6875 0 \nz\n\" id=\"DejaVuSans-46\"/>\n       <path d=\"M 8.203125 72.90625 \nL 55.078125 72.90625 \nL 55.078125 68.703125 \nL 28.609375 0 \nL 18.3125 0 \nL 43.21875 64.59375 \nL 8.203125 64.59375 \nz\n\" id=\"DejaVuSans-55\"/>\n      </defs>\n      <g transform=\"translate(25.717188 329.310444)scale(0.12495 -0.12495)\">\n       <use xlink:href=\"#DejaVuSans-49\"/>\n       <use x=\"63.623047\" xlink:href=\"#DejaVuSans-46\"/>\n       <use x=\"95.410156\" xlink:href=\"#DejaVuSans-55\"/>\n       <use x=\"159.033203\" xlink:href=\"#DejaVuSans-53\"/>\n      </g>\n     </g>\n    </g>\n    <g id=\"ytick_2\">\n     <g id=\"line2d_9\">\n      <g>\n       <use style=\"stroke:#000000;stroke-width:0.8;\" x=\"62.038086\" xlink:href=\"#m142e590172\" y=\"277.72181\"/>\n      </g>\n     </g>\n     <g id=\"text_10\">\n      <!-- 2.00 -->\n      <g transform=\"translate(25.717188 282.468934)scale(0.12495 -0.12495)\">\n       <use xlink:href=\"#DejaVuSans-50\"/>\n       <use x=\"63.623047\" xlink:href=\"#DejaVuSans-46\"/>\n       <use x=\"95.410156\" xlink:href=\"#DejaVuSans-48\"/>\n       <use x=\"159.033203\" xlink:href=\"#DejaVuSans-48\"/>\n      </g>\n     </g>\n    </g>\n    <g id=\"ytick_3\">\n     <g id=\"line2d_10\">\n      <g>\n       <use style=\"stroke:#000000;stroke-width:0.8;\" x=\"62.038086\" xlink:href=\"#m142e590172\" y=\"230.8803\"/>\n      </g>\n     </g>\n     <g id=\"text_11\">\n      <!-- 2.25 -->\n      <g transform=\"translate(25.717188 235.627424)scale(0.12495 -0.12495)\">\n       <use xlink:href=\"#DejaVuSans-50\"/>\n       <use x=\"63.623047\" xlink:href=\"#DejaVuSans-46\"/>\n       <use x=\"95.410156\" xlink:href=\"#DejaVuSans-50\"/>\n       <use x=\"159.033203\" xlink:href=\"#DejaVuSans-53\"/>\n      </g>\n     </g>\n    </g>\n    <g id=\"ytick_4\">\n     <g id=\"line2d_11\">\n      <g>\n       <use style=\"stroke:#000000;stroke-width:0.8;\" x=\"62.038086\" xlink:href=\"#m142e590172\" y=\"184.03879\"/>\n      </g>\n     </g>\n     <g id=\"text_12\">\n      <!-- 2.50 -->\n      <g transform=\"translate(25.717188 188.785914)scale(0.12495 -0.12495)\">\n       <use xlink:href=\"#DejaVuSans-50\"/>\n       <use x=\"63.623047\" xlink:href=\"#DejaVuSans-46\"/>\n       <use x=\"95.410156\" xlink:href=\"#DejaVuSans-53\"/>\n       <use x=\"159.033203\" xlink:href=\"#DejaVuSans-48\"/>\n      </g>\n     </g>\n    </g>\n    <g id=\"ytick_5\">\n     <g id=\"line2d_12\">\n      <g>\n       <use style=\"stroke:#000000;stroke-width:0.8;\" x=\"62.038086\" xlink:href=\"#m142e590172\" y=\"137.19728\"/>\n      </g>\n     </g>\n     <g id=\"text_13\">\n      <!-- 2.75 -->\n      <g transform=\"translate(25.717188 141.944404)scale(0.12495 -0.12495)\">\n       <use xlink:href=\"#DejaVuSans-50\"/>\n       <use x=\"63.623047\" xlink:href=\"#DejaVuSans-46\"/>\n       <use x=\"95.410156\" xlink:href=\"#DejaVuSans-55\"/>\n       <use x=\"159.033203\" xlink:href=\"#DejaVuSans-53\"/>\n      </g>\n     </g>\n    </g>\n    <g id=\"ytick_6\">\n     <g id=\"line2d_13\">\n      <g>\n       <use style=\"stroke:#000000;stroke-width:0.8;\" x=\"62.038086\" xlink:href=\"#m142e590172\" y=\"90.35577\"/>\n      </g>\n     </g>\n     <g id=\"text_14\">\n      <!-- 3.00 -->\n      <g transform=\"translate(25.717188 95.102894)scale(0.12495 -0.12495)\">\n       <use xlink:href=\"#DejaVuSans-51\"/>\n       <use x=\"63.623047\" xlink:href=\"#DejaVuSans-46\"/>\n       <use x=\"95.410156\" xlink:href=\"#DejaVuSans-48\"/>\n       <use x=\"159.033203\" xlink:href=\"#DejaVuSans-48\"/>\n      </g>\n     </g>\n    </g>\n    <g id=\"ytick_7\">\n     <g id=\"line2d_14\">\n      <g>\n       <use style=\"stroke:#000000;stroke-width:0.8;\" x=\"62.038086\" xlink:href=\"#m142e590172\" y=\"43.51426\"/>\n      </g>\n     </g>\n     <g id=\"text_15\">\n      <!-- 3.25 -->\n      <g transform=\"translate(25.717188 48.261384)scale(0.12495 -0.12495)\">\n       <use xlink:href=\"#DejaVuSans-51\"/>\n       <use x=\"63.623047\" xlink:href=\"#DejaVuSans-46\"/>\n       <use x=\"95.410156\" xlink:href=\"#DejaVuSans-50\"/>\n       <use x=\"159.033203\" xlink:href=\"#DejaVuSans-53\"/>\n      </g>\n     </g>\n    </g>\n    <g id=\"text_16\">\n     <!-- Loss -->\n     <defs>\n      <path d=\"M 9.8125 72.90625 \nL 19.671875 72.90625 \nL 19.671875 8.296875 \nL 55.171875 8.296875 \nL 55.171875 0 \nL 9.8125 0 \nz\n\" id=\"DejaVuSans-76\"/>\n     </defs>\n     <g transform=\"translate(18.597656 213.734373)rotate(-90)scale(0.15 -0.15)\">\n      <use xlink:href=\"#DejaVuSans-76\"/>\n      <use x=\"53.962891\" xlink:href=\"#DejaVuSans-111\"/>\n      <use x=\"115.144531\" xlink:href=\"#DejaVuSans-115\"/>\n      <use x=\"167.244141\" xlink:href=\"#DejaVuSans-115\"/>\n     </g>\n    </g>\n   </g>\n   <g id=\"line2d_15\">\n    <path clip-path=\"url(#pc622e7a0b6)\" d=\"M 84.254537 42.368679 \nL 85.740587 79.191155 \nL 87.226637 103.218693 \nL 88.712687 138.929129 \nL 90.198737 154.260832 \nL 91.684788 157.824693 \nL 93.170838 182.914768 \nL 94.656888 183.987374 \nL 96.142938 184.531672 \nL 97.628988 199.145408 \nL 99.115039 196.973805 \nL 100.601089 200.40874 \nL 102.087139 212.173452 \nL 103.573189 210.956542 \nL 105.05924 217.087162 \nL 108.03134 205.32725 \nL 109.51739 217.580799 \nL 111.00344 204.322016 \nL 112.489491 236.849916 \nL 113.975541 228.181827 \nL 115.461591 223.736292 \nL 116.947641 227.268023 \nL 118.433691 232.257193 \nL 119.919742 240.371504 \nL 121.405792 221.513845 \nL 122.891842 225.121991 \nL 124.377892 242.613169 \nL 125.863942 230.673213 \nL 127.349993 221.088274 \nL 128.836043 232.466982 \nL 130.322093 240.196042 \nL 131.808143 250.335131 \nL 133.294194 246.514786 \nL 134.780244 258.101264 \nL 136.266294 248.046061 \nL 137.752344 244.624781 \nL 139.238394 239.862142 \nL 140.724445 246.595129 \nL 142.210495 243.041807 \nL 143.696545 247.257772 \nL 145.182595 257.638744 \nL 146.668645 246.179877 \nL 148.154696 256.190797 \nL 149.640746 244.886672 \nL 151.126796 243.768402 \nL 152.612846 271.612261 \nL 154.098896 252.854892 \nL 155.584947 262.796731 \nL 157.070997 249.185613 \nL 158.557047 259.139062 \nL 160.043097 262.983322 \nL 161.529147 256.19797 \nL 163.015198 248.364217 \nL 164.501248 266.016244 \nL 165.987298 259.253653 \nL 167.473348 256.970598 \nL 168.959399 283.351442 \nL 170.445449 259.252549 \nL 171.931499 271.228557 \nL 173.417549 272.475335 \nL 174.903599 258.359959 \nL 176.38965 269.917284 \nL 177.8757 262.591104 \nL 179.36175 276.183968 \nL 180.8478 272.798465 \nL 182.33385 272.251039 \nL 183.819901 267.112422 \nL 185.305951 272.398526 \nL 186.792001 284.202938 \nL 188.278051 276.616609 \nL 189.764101 284.982698 \nL 191.250152 269.072592 \nL 192.736202 270.966726 \nL 194.222252 269.929866 \nL 195.708302 273.716489 \nL 197.194353 259.586704 \nL 198.680403 267.589028 \nL 200.166453 280.483821 \nL 201.652503 279.910029 \nL 203.138553 268.711704 \nL 204.624604 268.540754 \nL 206.110654 281.653435 \nL 207.596704 266.283341 \nL 209.082754 283.173359 \nL 210.568804 275.731206 \nL 212.054855 282.280314 \nL 213.540905 280.714386 \nL 215.026955 281.022824 \nL 216.513005 259.863261 \nL 217.999055 295.609005 \nL 219.485106 289.976197 \nL 220.971156 267.326074 \nL 222.457206 271.197406 \nL 223.943256 276.289887 \nL 225.429307 266.438144 \nL 226.915357 291.988377 \nL 228.401407 286.077642 \nL 229.887457 287.347263 \nL 231.373507 278.874819 \nL 232.859558 280.922794 \nL 234.345608 286.205061 \nL 235.831658 293.623962 \nL 237.317708 285.963314 \nL 238.803758 283.431885 \nL 240.289809 290.545228 \nL 241.775859 288.170363 \nL 243.261909 310.650862 \nL 244.747959 288.390601 \nL 246.234009 299.718044 \nL 247.72006 297.165719 \nL 249.20611 270.029235 \nL 250.69216 303.456462 \nL 252.17821 303.745694 \nL 253.664261 288.827899 \nL 255.150311 284.549532 \nL 256.636361 285.597528 \nL 258.122411 295.798047 \nL 259.608461 295.215727 \nL 261.094512 280.085305 \nL 262.580562 294.183724 \nL 264.066612 305.532764 \nL 265.552662 277.319734 \nL 267.038712 293.83846 \nL 268.524763 281.148122 \nL 270.010813 292.042349 \nL 271.496863 320.800283 \nL 272.982913 283.621539 \nL 274.468963 288.228626 \nL 275.955014 277.367194 \nL 277.441064 291.04305 \nL 278.927114 294.105689 \nL 280.413164 303.332837 \nL 281.899215 305.931703 \nL 283.385265 298.175465 \nL 284.871315 311.279532 \nL 286.357365 279.765022 \nL 287.843415 305.539314 \nL 289.329466 316.643339 \nL 290.815516 295.949018 \nL 292.301566 291.210421 \nL 293.787616 276.272791 \nL 295.273666 294.807388 \nL 296.759717 288.199064 \nL 298.245767 308.434836 \nL 299.731817 298.62805 \nL 301.217867 306.774467 \nL 302.703917 299.556804 \nL 304.189968 320.19325 \nL 305.676018 300.91686 \nL 307.162068 307.759849 \nL 308.648118 302.654321 \nL 310.134168 320.841901 \nL 311.620219 295.27751 \nL 313.106269 311.624365 \nL 314.592319 319.192817 \nL 317.56442 292.487635 \nL 319.05047 290.281496 \nL 320.53652 308.223006 \nL 322.02257 289.119958 \nL 323.50862 314.623108 \nL 324.994671 309.243581 \nL 326.480721 301.831807 \nL 329.452821 284.316393 \nL 330.938871 303.284898 \nL 332.424922 302.070972 \nL 333.910972 295.699249 \nL 336.883072 301.974287 \nL 338.369122 283.366418 \nL 339.855173 315.742504 \nL 341.341223 292.086526 \nL 342.827273 311.765087 \nL 344.313323 305.939137 \nL 345.799374 297.402889 \nL 347.285424 304.866133 \nL 348.771474 289.286668 \nL 350.257524 303.619833 \nL 351.743574 309.492676 \nL 353.229625 301.841356 \nL 354.715675 313.566392 \nL 356.201725 303.548112 \nL 357.687775 310.551693 \nL 359.173825 296.300632 \nL 360.659876 310.951773 \nL 362.145926 294.295213 \nL 363.631976 300.450415 \nL 365.118026 317.239431 \nL 366.604076 307.609409 \nL 368.090127 310.437331 \nL 369.576177 327.224986 \nL 371.062227 312.290681 \nL 372.548277 290.481204 \nL 374.034328 324.902197 \nL 375.520378 321.968419 \nL 377.006428 311.245536 \nL 378.492478 298.340671 \nL 379.978528 295.776656 \nL 381.464579 314.597285 \nL 382.950629 312.643885 \nL 384.436679 310.954806 \nL 385.922729 318.791273 \nL 387.408779 304.659003 \nL 390.38088 326.445263 \nL 391.86693 313.415269 \nL 393.35298 311.40418 \nL 394.83903 305.688616 \nL 396.325081 306.226776 \nL 397.811131 312.602867 \nL 399.297181 312.469473 \nL 400.783231 303.755577 \nL 403.755332 325.701625 \nL 405.241382 325.796214 \nL 406.727432 311.194186 \nL 408.213482 331.585232 \nL 409.699533 307.054018 \nL 411.185583 304.037981 \nL 412.671633 317.611744 \nL 414.157683 314.772489 \nL 415.643733 307.762919 \nL 417.129784 311.128486 \nL 418.615834 300.42718 \nL 420.101884 318.683155 \nL 421.587934 310.999929 \nL 423.073984 312.614146 \nL 424.560035 320.859724 \nL 426.046085 315.969401 \nL 427.532135 316.826789 \nL 429.018185 307.046725 \nL 430.504236 320.659761 \nL 431.990286 331.399786 \nL 433.476336 327.610728 \nL 434.962386 318.237074 \nL 436.448436 307.650836 \nL 437.934487 330.403413 \nL 439.420537 335.390147 \nL 440.906587 329.689352 \nL 442.392637 328.752636 \nL 443.878687 323.723177 \nL 445.364738 308.334283 \nL 446.850788 320.215642 \nL 448.336838 318.2245 \nL 449.822888 301.936852 \nL 451.308938 329.232361 \nL 452.794989 334.103446 \nL 454.281039 316.585096 \nL 455.767089 310.638686 \nL 457.253139 322.220695 \nL 458.739189 306.57674 \nL 460.22524 308.34248 \nL 461.71129 305.211089 \nL 463.19734 320.952661 \nL 464.68339 313.374263 \nL 466.169441 318.96967 \nL 467.655491 335.774134 \nL 469.141541 327.557294 \nL 470.627591 328.133778 \nL 472.113641 342.218123 \nL 473.599692 316.981765 \nL 475.085742 314.104483 \nL 476.571792 307.0659 \nL 478.057842 339.069696 \nL 479.543892 323.49841 \nL 481.029943 319.946992 \nL 482.515993 324.578764 \nL 484.002043 338.232967 \nL 485.488093 318.787365 \nL 486.974143 308.099144 \nL 488.460194 347.665393 \nL 489.946244 331.866996 \nL 491.432294 327.42422 \nL 492.918344 322.48317 \nL 494.404395 331.3979 \nL 495.890445 335.989895 \nL 497.376495 324.139785 \nL 498.862545 332.927748 \nL 500.348595 324.565941 \nL 501.834646 337.767019 \nL 503.320696 329.692059 \nL 504.806746 333.333034 \nL 506.292796 327.570497 \nL 507.778846 338.028644 \nL 509.264897 329.129138 \nL 510.750947 301.236488 \nL 512.236997 324.16543 \nL 513.723047 321.45095 \nL 515.209097 332.575214 \nL 516.695148 314.937916 \nL 518.181198 352.198504 \nL 519.667248 314.969496 \nL 521.153298 332.390815 \nL 522.639349 335.595076 \nL 524.125399 307.380225 \nL 525.611449 323.161645 \nL 527.097499 333.666734 \nL 528.583549 324.573109 \nL 528.583549 324.573109 \n\" style=\"fill:none;stroke:#1f77b4;stroke-linecap:square;stroke-width:1.5;\"/>\n   </g>\n   <g id=\"patch_3\">\n    <path d=\"M 62.038086 367.689995 \nL 62.038086 26.877187 \n\" style=\"fill:none;stroke:#000000;stroke-linecap:square;stroke-linejoin:miter;stroke-width:0.8;\"/>\n   </g>\n   <g id=\"patch_4\">\n    <path d=\"M 62.038086 367.689995 \nL 550.8 367.689995 \n\" style=\"fill:none;stroke:#000000;stroke-linecap:square;stroke-linejoin:miter;stroke-width:0.8;\"/>\n   </g>\n   <g id=\"text_17\">\n    <!-- Training loss for text generation -->\n    <defs>\n     <path d=\"M -0.296875 72.90625 \nL 61.375 72.90625 \nL 61.375 64.59375 \nL 35.5 64.59375 \nL 35.5 0 \nL 25.59375 0 \nL 25.59375 64.59375 \nL -0.296875 64.59375 \nz\n\" id=\"DejaVuSans-84\"/>\n     <path d=\"M 41.109375 46.296875 \nQ 39.59375 47.171875 37.8125 47.578125 \nQ 36.03125 48 33.890625 48 \nQ 26.265625 48 22.1875 43.046875 \nQ 18.109375 38.09375 18.109375 28.8125 \nL 18.109375 0 \nL 9.078125 0 \nL 9.078125 54.6875 \nL 18.109375 54.6875 \nL 18.109375 46.1875 \nQ 20.953125 51.171875 25.484375 53.578125 \nQ 30.03125 56 36.53125 56 \nQ 37.453125 56 38.578125 55.875 \nQ 39.703125 55.765625 41.0625 55.515625 \nz\n\" id=\"DejaVuSans-114\"/>\n     <path d=\"M 34.28125 27.484375 \nQ 23.390625 27.484375 19.1875 25 \nQ 14.984375 22.515625 14.984375 16.5 \nQ 14.984375 11.71875 18.140625 8.90625 \nQ 21.296875 6.109375 26.703125 6.109375 \nQ 34.1875 6.109375 38.703125 11.40625 \nQ 43.21875 16.703125 43.21875 25.484375 \nL 43.21875 27.484375 \nz\nM 52.203125 31.203125 \nL 52.203125 0 \nL 43.21875 0 \nL 43.21875 8.296875 \nQ 40.140625 3.328125 35.546875 0.953125 \nQ 30.953125 -1.421875 24.3125 -1.421875 \nQ 15.921875 -1.421875 10.953125 3.296875 \nQ 6 8.015625 6 15.921875 \nQ 6 25.140625 12.171875 29.828125 \nQ 18.359375 34.515625 30.609375 34.515625 \nL 43.21875 34.515625 \nL 43.21875 35.40625 \nQ 43.21875 41.609375 39.140625 45 \nQ 35.0625 48.390625 27.6875 48.390625 \nQ 23 48.390625 18.546875 47.265625 \nQ 14.109375 46.140625 10.015625 43.890625 \nL 10.015625 52.203125 \nQ 14.9375 54.109375 19.578125 55.046875 \nQ 24.21875 56 28.609375 56 \nQ 40.484375 56 46.34375 49.84375 \nQ 52.203125 43.703125 52.203125 31.203125 \nz\n\" id=\"DejaVuSans-97\"/>\n     <path d=\"M 9.421875 54.6875 \nL 18.40625 54.6875 \nL 18.40625 0 \nL 9.421875 0 \nz\nM 9.421875 75.984375 \nL 18.40625 75.984375 \nL 18.40625 64.59375 \nL 9.421875 64.59375 \nz\n\" id=\"DejaVuSans-105\"/>\n     <path d=\"M 54.890625 33.015625 \nL 54.890625 0 \nL 45.90625 0 \nL 45.90625 32.71875 \nQ 45.90625 40.484375 42.875 44.328125 \nQ 39.84375 48.1875 33.796875 48.1875 \nQ 26.515625 48.1875 22.3125 43.546875 \nQ 18.109375 38.921875 18.109375 30.90625 \nL 18.109375 0 \nL 9.078125 0 \nL 9.078125 54.6875 \nL 18.109375 54.6875 \nL 18.109375 46.1875 \nQ 21.34375 51.125 25.703125 53.5625 \nQ 30.078125 56 35.796875 56 \nQ 45.21875 56 50.046875 50.171875 \nQ 54.890625 44.34375 54.890625 33.015625 \nz\n\" id=\"DejaVuSans-110\"/>\n     <path d=\"M 45.40625 27.984375 \nQ 45.40625 37.75 41.375 43.109375 \nQ 37.359375 48.484375 30.078125 48.484375 \nQ 22.859375 48.484375 18.828125 43.109375 \nQ 14.796875 37.75 14.796875 27.984375 \nQ 14.796875 18.265625 18.828125 12.890625 \nQ 22.859375 7.515625 30.078125 7.515625 \nQ 37.359375 7.515625 41.375 12.890625 \nQ 45.40625 18.265625 45.40625 27.984375 \nz\nM 54.390625 6.78125 \nQ 54.390625 -7.171875 48.1875 -13.984375 \nQ 42 -20.796875 29.203125 -20.796875 \nQ 24.46875 -20.796875 20.265625 -20.09375 \nQ 16.0625 -19.390625 12.109375 -17.921875 \nL 12.109375 -9.1875 \nQ 16.0625 -11.328125 19.921875 -12.34375 \nQ 23.78125 -13.375 27.78125 -13.375 \nQ 36.625 -13.375 41.015625 -8.765625 \nQ 45.40625 -4.15625 45.40625 5.171875 \nL 45.40625 9.625 \nQ 42.625 4.78125 38.28125 2.390625 \nQ 33.9375 0 27.875 0 \nQ 17.828125 0 11.671875 7.65625 \nQ 5.515625 15.328125 5.515625 27.984375 \nQ 5.515625 40.671875 11.671875 48.328125 \nQ 17.828125 56 27.875 56 \nQ 33.9375 56 38.28125 53.609375 \nQ 42.625 51.21875 45.40625 46.390625 \nL 45.40625 54.6875 \nL 54.390625 54.6875 \nz\n\" id=\"DejaVuSans-103\"/>\n     <path id=\"DejaVuSans-32\"/>\n     <path d=\"M 9.421875 75.984375 \nL 18.40625 75.984375 \nL 18.40625 0 \nL 9.421875 0 \nz\n\" id=\"DejaVuSans-108\"/>\n     <path d=\"M 37.109375 75.984375 \nL 37.109375 68.5 \nL 28.515625 68.5 \nQ 23.6875 68.5 21.796875 66.546875 \nQ 19.921875 64.59375 19.921875 59.515625 \nL 19.921875 54.6875 \nL 34.71875 54.6875 \nL 34.71875 47.703125 \nL 19.921875 47.703125 \nL 19.921875 0 \nL 10.890625 0 \nL 10.890625 47.703125 \nL 2.296875 47.703125 \nL 2.296875 54.6875 \nL 10.890625 54.6875 \nL 10.890625 58.5 \nQ 10.890625 67.625 15.140625 71.796875 \nQ 19.390625 75.984375 28.609375 75.984375 \nz\n\" id=\"DejaVuSans-102\"/>\n     <path d=\"M 18.3125 70.21875 \nL 18.3125 54.6875 \nL 36.8125 54.6875 \nL 36.8125 47.703125 \nL 18.3125 47.703125 \nL 18.3125 18.015625 \nQ 18.3125 11.328125 20.140625 9.421875 \nQ 21.96875 7.515625 27.59375 7.515625 \nL 36.8125 7.515625 \nL 36.8125 0 \nL 27.59375 0 \nQ 17.1875 0 13.234375 3.875 \nQ 9.28125 7.765625 9.28125 18.015625 \nL 9.28125 47.703125 \nL 2.6875 47.703125 \nL 2.6875 54.6875 \nL 9.28125 54.6875 \nL 9.28125 70.21875 \nz\n\" id=\"DejaVuSans-116\"/>\n     <path d=\"M 56.203125 29.59375 \nL 56.203125 25.203125 \nL 14.890625 25.203125 \nQ 15.484375 15.921875 20.484375 11.0625 \nQ 25.484375 6.203125 34.421875 6.203125 \nQ 39.59375 6.203125 44.453125 7.46875 \nQ 49.3125 8.734375 54.109375 11.28125 \nL 54.109375 2.78125 \nQ 49.265625 0.734375 44.1875 -0.34375 \nQ 39.109375 -1.421875 33.890625 -1.421875 \nQ 20.796875 -1.421875 13.15625 6.1875 \nQ 5.515625 13.8125 5.515625 26.8125 \nQ 5.515625 40.234375 12.765625 48.109375 \nQ 20.015625 56 32.328125 56 \nQ 43.359375 56 49.78125 48.890625 \nQ 56.203125 41.796875 56.203125 29.59375 \nz\nM 47.21875 32.234375 \nQ 47.125 39.59375 43.09375 43.984375 \nQ 39.0625 48.390625 32.421875 48.390625 \nQ 24.90625 48.390625 20.390625 44.140625 \nQ 15.875 39.890625 15.1875 32.171875 \nz\n\" id=\"DejaVuSans-101\"/>\n     <path d=\"M 54.890625 54.6875 \nL 35.109375 28.078125 \nL 55.90625 0 \nL 45.3125 0 \nL 29.390625 21.484375 \nL 13.484375 0 \nL 2.875 0 \nL 24.125 28.609375 \nL 4.6875 54.6875 \nL 15.28125 54.6875 \nL 29.78125 35.203125 \nL 44.28125 54.6875 \nz\n\" id=\"DejaVuSans-120\"/>\n    </defs>\n    <g transform=\"translate(163.00123 20.877187)scale(0.18 -0.18)\">\n     <use xlink:href=\"#DejaVuSans-84\"/>\n     <use x=\"46.333984\" xlink:href=\"#DejaVuSans-114\"/>\n     <use x=\"87.447266\" xlink:href=\"#DejaVuSans-97\"/>\n     <use x=\"148.726562\" xlink:href=\"#DejaVuSans-105\"/>\n     <use x=\"176.509766\" xlink:href=\"#DejaVuSans-110\"/>\n     <use x=\"239.888672\" xlink:href=\"#DejaVuSans-105\"/>\n     <use x=\"267.671875\" xlink:href=\"#DejaVuSans-110\"/>\n     <use x=\"331.050781\" xlink:href=\"#DejaVuSans-103\"/>\n     <use x=\"394.527344\" xlink:href=\"#DejaVuSans-32\"/>\n     <use x=\"426.314453\" xlink:href=\"#DejaVuSans-108\"/>\n     <use x=\"454.097656\" xlink:href=\"#DejaVuSans-111\"/>\n     <use x=\"515.279297\" xlink:href=\"#DejaVuSans-115\"/>\n     <use x=\"567.378906\" xlink:href=\"#DejaVuSans-115\"/>\n     <use x=\"619.478516\" xlink:href=\"#DejaVuSans-32\"/>\n     <use x=\"651.265625\" xlink:href=\"#DejaVuSans-102\"/>\n     <use x=\"686.470703\" xlink:href=\"#DejaVuSans-111\"/>\n     <use x=\"747.652344\" xlink:href=\"#DejaVuSans-114\"/>\n     <use x=\"788.765625\" xlink:href=\"#DejaVuSans-32\"/>\n     <use x=\"820.552734\" xlink:href=\"#DejaVuSans-116\"/>\n     <use x=\"859.761719\" xlink:href=\"#DejaVuSans-101\"/>\n     <use x=\"919.535156\" xlink:href=\"#DejaVuSans-120\"/>\n     <use x=\"978.714844\" xlink:href=\"#DejaVuSans-116\"/>\n     <use x=\"1017.923828\" xlink:href=\"#DejaVuSans-32\"/>\n     <use x=\"1049.710938\" xlink:href=\"#DejaVuSans-103\"/>\n     <use x=\"1113.1875\" xlink:href=\"#DejaVuSans-101\"/>\n     <use x=\"1174.710938\" xlink:href=\"#DejaVuSans-110\"/>\n     <use x=\"1238.089844\" xlink:href=\"#DejaVuSans-101\"/>\n     <use x=\"1299.613281\" xlink:href=\"#DejaVuSans-114\"/>\n     <use x=\"1340.726562\" xlink:href=\"#DejaVuSans-97\"/>\n     <use x=\"1402.005859\" xlink:href=\"#DejaVuSans-116\"/>\n     <use x=\"1441.214844\" xlink:href=\"#DejaVuSans-105\"/>\n     <use x=\"1468.998047\" xlink:href=\"#DejaVuSans-111\"/>\n     <use x=\"1530.179688\" xlink:href=\"#DejaVuSans-110\"/>\n    </g>\n   </g>\n  </g>\n </g>\n <defs>\n  <clipPath id=\"pc622e7a0b6\">\n   <rect height=\"340.812808\" width=\"488.761914\" x=\"62.038086\" y=\"26.877187\"/>\n  </clipPath>\n </defs>\n</svg>\n"
          },
          "metadata": {
            "needs_background": "light"
          }
        }
      ],
      "source": [
        "# @title Execute cell to train the model\n",
        "\n",
        "def grad_clipping(net, theta):\n",
        "  \"\"\"Clip the gradient.\"\"\"\n",
        "  params = [p for p in net.parameters() if p.requires_grad]\n",
        "\n",
        "  norm = torch.sqrt(sum(torch.sum((p.grad ** 2)) for p in params))\n",
        "\n",
        "  if norm > theta:\n",
        "    for param in params:\n",
        "      param.grad[:] *= theta / norm\n",
        "\n",
        "\n",
        "# Single training step\n",
        "def train_simple2(inp, target, chunk_len):\n",
        "  # Initialize hidden state, zero the gradients of decoder\n",
        "  hidden = decoder.init_hidden()\n",
        "  decoder.zero_grad()\n",
        "  loss = 0\n",
        "\n",
        "  # For each character in our chunk (except last), compute the hidden and ouput\n",
        "  # Using each output, compute the loss with the corresponding target\n",
        "  for c in range(chunk_len):\n",
        "    output, hidden = decoder(inp[c], hidden)\n",
        "    loss += criterion(output, target[c].unsqueeze(0))\n",
        "\n",
        "  # Backpropagate, clip gradient and optimize\n",
        "  loss.backward()\n",
        "  grad_clipping(decoder, 1)\n",
        "  decoder_optimizer.step()\n",
        "\n",
        "  # Return average loss\n",
        "  return loss.data.item() / chunk_len\n",
        "\n",
        "\n",
        "n_epochs = 3000\n",
        "hidden_size = 100\n",
        "n_layers = 1\n",
        "lr = 0.0005\n",
        "print_every, plot_every = 500, 10\n",
        "\n",
        "# Create model, optimizer and loss function\n",
        "decoder = GenerationRNN(n_characters, hidden_size, n_characters, n_layers)\n",
        "decoder_optimizer = torch.optim.Adam(decoder.parameters(), lr=lr)\n",
        "criterion = nn.CrossEntropyLoss()\n",
        "\n",
        "all_losses = []\n",
        "loss_avg = 0\n",
        "\n",
        "# For every epoch\n",
        "for epoch in range(1, n_epochs + 1):\n",
        "  # Get a random (input, target) pair from training set and perform one training iteration\n",
        "  loss = train_simple2(*random_training_set(chunk_len), chunk_len)\n",
        "  loss_avg += loss\n",
        "\n",
        "  if epoch % print_every == 0:\n",
        "    text = evaluateMultinomial(decoder, 'th', 50)\n",
        "    print(f'Epoch {epoch} --------------------\\n\\t {text}')\n",
        "\n",
        "  if epoch % plot_every == 0:\n",
        "    all_losses.append(loss_avg / plot_every)\n",
        "    loss_avg = 0\n",
        "\n",
        "plt.figure()\n",
        "plt.plot(all_losses)\n",
        "plt.xlabel('Epochs')\n",
        "plt.ylabel('Loss')\n",
        "plt.title('Training loss for text generation')\n",
        "plt.show()"
      ]
    }
  ],
  "metadata": {
    "accelerator": "GPU",
    "colab": {
      "collapsed_sections": [],
      "name": "W2D5_Tutorial2",
      "provenance": [],
      "toc_visible": true,
      "include_colab_link": true
    },
    "gpuClass": "standard",
    "kernel": {
      "display_name": "Python 3",
      "language": "python",
      "name": "python3"
    },
    "kernelspec": {
      "display_name": "Python 3",
      "name": "python3"
    },
    "language_info": {
      "name": "python"
    },
    "widgets": {
      "application/vnd.jupyter.widget-state+json": {
        "9e9579091832438a84d34bcdce2a4bd9": {
          "model_module": "@jupyter-widgets/controls",
          "model_name": "TabModel",
          "model_module_version": "1.5.0",
          "state": {
            "_dom_classes": [],
            "_model_module": "@jupyter-widgets/controls",
            "_model_module_version": "1.5.0",
            "_model_name": "TabModel",
            "_titles": {
              "0": "Youtube",
              "1": "Bilibili"
            },
            "_view_count": null,
            "_view_module": "@jupyter-widgets/controls",
            "_view_module_version": "1.5.0",
            "_view_name": "TabView",
            "box_style": "",
            "children": [
              "IPY_MODEL_a0af4737b6984ea5839e4b577cf9958a",
              "IPY_MODEL_87841979dada4ff4aa55f03fdf04994c"
            ],
            "layout": "IPY_MODEL_969f4084717b4a72ae8bc777a38b70c8",
            "selected_index": 0
          }
        },
        "a0af4737b6984ea5839e4b577cf9958a": {
          "model_module": "@jupyter-widgets/output",
          "model_name": "OutputModel",
          "model_module_version": "1.0.0",
          "state": {
            "_dom_classes": [],
            "_model_module": "@jupyter-widgets/output",
            "_model_module_version": "1.0.0",
            "_model_name": "OutputModel",
            "_view_count": null,
            "_view_module": "@jupyter-widgets/output",
            "_view_module_version": "1.0.0",
            "_view_name": "OutputView",
            "layout": "IPY_MODEL_8e933e7db4944d75a5c714c88f830b54",
            "msg_id": "",
            "outputs": [
              {
                "output_type": "stream",
                "name": "stdout",
                "text": [
                  "Video available at https://youtube.com/watch?v=LSMPdQvkXuk\n"
                ]
              },
              {
                "output_type": "display_data",
                "data": {
                  "text/plain": "<IPython.lib.display.YouTubeVideo at 0x7f95be81ba10>",
                  "text/html": "\n        <iframe\n            width=\"854\"\n            height=\"480\"\n            src=\"https://www.youtube.com/embed/LSMPdQvkXuk?fs=1&rel=0\"\n            frameborder=\"0\"\n            allowfullscreen\n        ></iframe>\n        ",
                  "image/jpeg": "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\n"
                },
                "metadata": {}
              }
            ]
          }
        },
        "87841979dada4ff4aa55f03fdf04994c": {
          "model_module": "@jupyter-widgets/output",
          "model_name": "OutputModel",
          "model_module_version": "1.0.0",
          "state": {
            "_dom_classes": [],
            "_model_module": "@jupyter-widgets/output",
            "_model_module_version": "1.0.0",
            "_model_name": "OutputModel",
            "_view_count": null,
            "_view_module": "@jupyter-widgets/output",
            "_view_module_version": "1.0.0",
            "_view_name": "OutputView",
            "layout": "IPY_MODEL_b6818e471a8c4cb897f37867239151d8",
            "msg_id": "",
            "outputs": [
              {
                "output_type": "stream",
                "name": "stdout",
                "text": [
                  "Video available at https://www.bilibili.com/video/\n"
                ]
              },
              {
                "output_type": "display_data",
                "data": {
                  "text/plain": "<__main__.BiliVideo at 0x7f95b9f47bd0>",
                  "text/html": "\n        <iframe\n            width=\"854\"\n            height=\"480\"\n            src=\"https://player.bilibili.com/player.html?bvid=&page=1?fs=1\"\n            frameborder=\"0\"\n            allowfullscreen\n        ></iframe>\n        "
                },
                "metadata": {}
              }
            ]
          }
        },
        "969f4084717b4a72ae8bc777a38b70c8": {
          "model_module": "@jupyter-widgets/base",
          "model_name": "LayoutModel",
          "model_module_version": "1.2.0",
          "state": {
            "_model_module": "@jupyter-widgets/base",
            "_model_module_version": "1.2.0",
            "_model_name": "LayoutModel",
            "_view_count": null,
            "_view_module": "@jupyter-widgets/base",
            "_view_module_version": "1.2.0",
            "_view_name": "LayoutView",
            "align_content": null,
            "align_items": null,
            "align_self": null,
            "border": null,
            "bottom": null,
            "display": null,
            "flex": null,
            "flex_flow": null,
            "grid_area": null,
            "grid_auto_columns": null,
            "grid_auto_flow": null,
            "grid_auto_rows": null,
            "grid_column": null,
            "grid_gap": null,
            "grid_row": null,
            "grid_template_areas": null,
            "grid_template_columns": null,
            "grid_template_rows": null,
            "height": null,
            "justify_content": null,
            "justify_items": null,
            "left": null,
            "margin": null,
            "max_height": null,
            "max_width": null,
            "min_height": null,
            "min_width": null,
            "object_fit": null,
            "object_position": null,
            "order": null,
            "overflow": null,
            "overflow_x": null,
            "overflow_y": null,
            "padding": null,
            "right": null,
            "top": null,
            "visibility": null,
            "width": null
          }
        },
        "8e933e7db4944d75a5c714c88f830b54": {
          "model_module": "@jupyter-widgets/base",
          "model_name": "LayoutModel",
          "model_module_version": "1.2.0",
          "state": {
            "_model_module": "@jupyter-widgets/base",
            "_model_module_version": "1.2.0",
            "_model_name": "LayoutModel",
            "_view_count": null,
            "_view_module": "@jupyter-widgets/base",
            "_view_module_version": "1.2.0",
            "_view_name": "LayoutView",
            "align_content": null,
            "align_items": null,
            "align_self": null,
            "border": null,
            "bottom": null,
            "display": null,
            "flex": null,
            "flex_flow": null,
            "grid_area": null,
            "grid_auto_columns": null,
            "grid_auto_flow": null,
            "grid_auto_rows": null,
            "grid_column": null,
            "grid_gap": null,
            "grid_row": null,
            "grid_template_areas": null,
            "grid_template_columns": null,
            "grid_template_rows": null,
            "height": null,
            "justify_content": null,
            "justify_items": null,
            "left": null,
            "margin": null,
            "max_height": null,
            "max_width": null,
            "min_height": null,
            "min_width": null,
            "object_fit": null,
            "object_position": null,
            "order": null,
            "overflow": null,
            "overflow_x": null,
            "overflow_y": null,
            "padding": null,
            "right": null,
            "top": null,
            "visibility": null,
            "width": null
          }
        },
        "b6818e471a8c4cb897f37867239151d8": {
          "model_module": "@jupyter-widgets/base",
          "model_name": "LayoutModel",
          "model_module_version": "1.2.0",
          "state": {
            "_model_module": "@jupyter-widgets/base",
            "_model_module_version": "1.2.0",
            "_model_name": "LayoutModel",
            "_view_count": null,
            "_view_module": "@jupyter-widgets/base",
            "_view_module_version": "1.2.0",
            "_view_name": "LayoutView",
            "align_content": null,
            "align_items": null,
            "align_self": null,
            "border": null,
            "bottom": null,
            "display": null,
            "flex": null,
            "flex_flow": null,
            "grid_area": null,
            "grid_auto_columns": null,
            "grid_auto_flow": null,
            "grid_auto_rows": null,
            "grid_column": null,
            "grid_gap": null,
            "grid_row": null,
            "grid_template_areas": null,
            "grid_template_columns": null,
            "grid_template_rows": null,
            "height": null,
            "justify_content": null,
            "justify_items": null,
            "left": null,
            "margin": null,
            "max_height": null,
            "max_width": null,
            "min_height": null,
            "min_width": null,
            "object_fit": null,
            "object_position": null,
            "order": null,
            "overflow": null,
            "overflow_x": null,
            "overflow_y": null,
            "padding": null,
            "right": null,
            "top": null,
            "visibility": null,
            "width": null
          }
        },
        "b13b2e3fc8ec469dae5eb0dc92456615": {
          "model_module": "@jupyter-widgets/controls",
          "model_name": "TabModel",
          "model_module_version": "1.5.0",
          "state": {
            "_dom_classes": [],
            "_model_module": "@jupyter-widgets/controls",
            "_model_module_version": "1.5.0",
            "_model_name": "TabModel",
            "_titles": {
              "0": "Youtube",
              "1": "Bilibili"
            },
            "_view_count": null,
            "_view_module": "@jupyter-widgets/controls",
            "_view_module_version": "1.5.0",
            "_view_name": "TabView",
            "box_style": "",
            "children": [
              "IPY_MODEL_0876e0d8a62447a7af4118e7242247bd",
              "IPY_MODEL_3986dbddf6354fb8a46e3afceb5634d1"
            ],
            "layout": "IPY_MODEL_77272d35570d484e8df17f65c093cf71",
            "selected_index": 0
          }
        },
        "0876e0d8a62447a7af4118e7242247bd": {
          "model_module": "@jupyter-widgets/output",
          "model_name": "OutputModel",
          "model_module_version": "1.0.0",
          "state": {
            "_dom_classes": [],
            "_model_module": "@jupyter-widgets/output",
            "_model_module_version": "1.0.0",
            "_model_name": "OutputModel",
            "_view_count": null,
            "_view_module": "@jupyter-widgets/output",
            "_view_module_version": "1.0.0",
            "_view_name": "OutputView",
            "layout": "IPY_MODEL_99b15bc733624b1bbf33e1e73f16db86",
            "msg_id": "",
            "outputs": [
              {
                "output_type": "stream",
                "name": "stdout",
                "text": [
                  "Video available at https://youtube.com/watch?v=T2jzzdSVJI0\n"
                ]
              },
              {
                "output_type": "display_data",
                "data": {
                  "text/plain": "<IPython.lib.display.YouTubeVideo at 0x7f95b1408ad0>",
                  "text/html": "\n        <iframe\n            width=\"854\"\n            height=\"480\"\n            src=\"https://www.youtube.com/embed/T2jzzdSVJI0?fs=1&rel=0\"\n            frameborder=\"0\"\n            allowfullscreen\n        ></iframe>\n        ",
                  "image/jpeg": "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\n"
                },
                "metadata": {}
              }
            ]
          }
        },
        "3986dbddf6354fb8a46e3afceb5634d1": {
          "model_module": "@jupyter-widgets/output",
          "model_name": "OutputModel",
          "model_module_version": "1.0.0",
          "state": {
            "_dom_classes": [],
            "_model_module": "@jupyter-widgets/output",
            "_model_module_version": "1.0.0",
            "_model_name": "OutputModel",
            "_view_count": null,
            "_view_module": "@jupyter-widgets/output",
            "_view_module_version": "1.0.0",
            "_view_name": "OutputView",
            "layout": "IPY_MODEL_f3187a3e305443f39be3add77e9c3003",
            "msg_id": "",
            "outputs": [
              {
                "output_type": "stream",
                "name": "stdout",
                "text": [
                  "Video available at https://www.bilibili.com/video/\n"
                ]
              },
              {
                "output_type": "display_data",
                "data": {
                  "text/plain": "<__main__.BiliVideo at 0x7f95b1408110>",
                  "text/html": "\n        <iframe\n            width=\"854\"\n            height=\"480\"\n            src=\"https://player.bilibili.com/player.html?bvid=&page=1?fs=1\"\n            frameborder=\"0\"\n            allowfullscreen\n        ></iframe>\n        "
                },
                "metadata": {}
              }
            ]
          }
        },
        "77272d35570d484e8df17f65c093cf71": {
          "model_module": "@jupyter-widgets/base",
          "model_name": "LayoutModel",
          "model_module_version": "1.2.0",
          "state": {
            "_model_module": "@jupyter-widgets/base",
            "_model_module_version": "1.2.0",
            "_model_name": "LayoutModel",
            "_view_count": null,
            "_view_module": "@jupyter-widgets/base",
            "_view_module_version": "1.2.0",
            "_view_name": "LayoutView",
            "align_content": null,
            "align_items": null,
            "align_self": null,
            "border": null,
            "bottom": null,
            "display": null,
            "flex": null,
            "flex_flow": null,
            "grid_area": null,
            "grid_auto_columns": null,
            "grid_auto_flow": null,
            "grid_auto_rows": null,
            "grid_column": null,
            "grid_gap": null,
            "grid_row": null,
            "grid_template_areas": null,
            "grid_template_columns": null,
            "grid_template_rows": null,
            "height": null,
            "justify_content": null,
            "justify_items": null,
            "left": null,
            "margin": null,
            "max_height": null,
            "max_width": null,
            "min_height": null,
            "min_width": null,
            "object_fit": null,
            "object_position": null,
            "order": null,
            "overflow": null,
            "overflow_x": null,
            "overflow_y": null,
            "padding": null,
            "right": null,
            "top": null,
            "visibility": null,
            "width": null
          }
        },
        "99b15bc733624b1bbf33e1e73f16db86": {
          "model_module": "@jupyter-widgets/base",
          "model_name": "LayoutModel",
          "model_module_version": "1.2.0",
          "state": {
            "_model_module": "@jupyter-widgets/base",
            "_model_module_version": "1.2.0",
            "_model_name": "LayoutModel",
            "_view_count": null,
            "_view_module": "@jupyter-widgets/base",
            "_view_module_version": "1.2.0",
            "_view_name": "LayoutView",
            "align_content": null,
            "align_items": null,
            "align_self": null,
            "border": null,
            "bottom": null,
            "display": null,
            "flex": null,
            "flex_flow": null,
            "grid_area": null,
            "grid_auto_columns": null,
            "grid_auto_flow": null,
            "grid_auto_rows": null,
            "grid_column": null,
            "grid_gap": null,
            "grid_row": null,
            "grid_template_areas": null,
            "grid_template_columns": null,
            "grid_template_rows": null,
            "height": null,
            "justify_content": null,
            "justify_items": null,
            "left": null,
            "margin": null,
            "max_height": null,
            "max_width": null,
            "min_height": null,
            "min_width": null,
            "object_fit": null,
            "object_position": null,
            "order": null,
            "overflow": null,
            "overflow_x": null,
            "overflow_y": null,
            "padding": null,
            "right": null,
            "top": null,
            "visibility": null,
            "width": null
          }
        },
        "f3187a3e305443f39be3add77e9c3003": {
          "model_module": "@jupyter-widgets/base",
          "model_name": "LayoutModel",
          "model_module_version": "1.2.0",
          "state": {
            "_model_module": "@jupyter-widgets/base",
            "_model_module_version": "1.2.0",
            "_model_name": "LayoutModel",
            "_view_count": null,
            "_view_module": "@jupyter-widgets/base",
            "_view_module_version": "1.2.0",
            "_view_name": "LayoutView",
            "align_content": null,
            "align_items": null,
            "align_self": null,
            "border": null,
            "bottom": null,
            "display": null,
            "flex": null,
            "flex_flow": null,
            "grid_area": null,
            "grid_auto_columns": null,
            "grid_auto_flow": null,
            "grid_auto_rows": null,
            "grid_column": null,
            "grid_gap": null,
            "grid_row": null,
            "grid_template_areas": null,
            "grid_template_columns": null,
            "grid_template_rows": null,
            "height": null,
            "justify_content": null,
            "justify_items": null,
            "left": null,
            "margin": null,
            "max_height": null,
            "max_width": null,
            "min_height": null,
            "min_width": null,
            "object_fit": null,
            "object_position": null,
            "order": null,
            "overflow": null,
            "overflow_x": null,
            "overflow_y": null,
            "padding": null,
            "right": null,
            "top": null,
            "visibility": null,
            "width": null
          }
        },
        "840b286c441a49d3b8ea8f33a11d7ec0": {
          "model_module": "@jupyter-widgets/controls",
          "model_name": "TabModel",
          "model_module_version": "1.5.0",
          "state": {
            "_dom_classes": [],
            "_model_module": "@jupyter-widgets/controls",
            "_model_module_version": "1.5.0",
            "_model_name": "TabModel",
            "_titles": {
              "0": "Youtube",
              "1": "Bilibili"
            },
            "_view_count": null,
            "_view_module": "@jupyter-widgets/controls",
            "_view_module_version": "1.5.0",
            "_view_name": "TabView",
            "box_style": "",
            "children": [
              "IPY_MODEL_5bb621159efc40b690eae3de94455a46",
              "IPY_MODEL_cf230b4d353048918efddd826c6546d6"
            ],
            "layout": "IPY_MODEL_fe122cb56a5f4868bc7c50fa90c4d800",
            "selected_index": 0
          }
        },
        "5bb621159efc40b690eae3de94455a46": {
          "model_module": "@jupyter-widgets/output",
          "model_name": "OutputModel",
          "model_module_version": "1.0.0",
          "state": {
            "_dom_classes": [],
            "_model_module": "@jupyter-widgets/output",
            "_model_module_version": "1.0.0",
            "_model_name": "OutputModel",
            "_view_count": null,
            "_view_module": "@jupyter-widgets/output",
            "_view_module_version": "1.0.0",
            "_view_name": "OutputView",
            "layout": "IPY_MODEL_1d154d1604bb40359a8732d4fb61ca07",
            "msg_id": "",
            "outputs": [
              {
                "output_type": "stream",
                "name": "stdout",
                "text": [
                  "Video available at https://youtube.com/watch?v=JAjuG0o4_Xc\n"
                ]
              },
              {
                "output_type": "display_data",
                "data": {
                  "text/plain": "<IPython.lib.display.YouTubeVideo at 0x7f956a25d7d0>",
                  "text/html": "\n        <iframe\n            width=\"854\"\n            height=\"480\"\n            src=\"https://www.youtube.com/embed/JAjuG0o4_Xc?fs=1&rel=0\"\n            frameborder=\"0\"\n            allowfullscreen\n        ></iframe>\n        ",
                  "image/jpeg": "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\n"
                },
                "metadata": {}
              }
            ]
          }
        },
        "cf230b4d353048918efddd826c6546d6": {
          "model_module": "@jupyter-widgets/output",
          "model_name": "OutputModel",
          "model_module_version": "1.0.0",
          "state": {
            "_dom_classes": [],
            "_model_module": "@jupyter-widgets/output",
            "_model_module_version": "1.0.0",
            "_model_name": "OutputModel",
            "_view_count": null,
            "_view_module": "@jupyter-widgets/output",
            "_view_module_version": "1.0.0",
            "_view_name": "OutputView",
            "layout": "IPY_MODEL_2a0f3eaae33f463a9b48c2b0b99b0c80",
            "msg_id": "",
            "outputs": [
              {
                "output_type": "stream",
                "name": "stdout",
                "text": [
                  "Video available at https://www.bilibili.com/video/\n"
                ]
              },
              {
                "output_type": "display_data",
                "data": {
                  "text/plain": "<__main__.BiliVideo at 0x7f95b1404d50>",
                  "text/html": "\n        <iframe\n            width=\"854\"\n            height=\"480\"\n            src=\"https://player.bilibili.com/player.html?bvid=&page=1?fs=1\"\n            frameborder=\"0\"\n            allowfullscreen\n        ></iframe>\n        "
                },
                "metadata": {}
              }
            ]
          }
        },
        "fe122cb56a5f4868bc7c50fa90c4d800": {
          "model_module": "@jupyter-widgets/base",
          "model_name": "LayoutModel",
          "model_module_version": "1.2.0",
          "state": {
            "_model_module": "@jupyter-widgets/base",
            "_model_module_version": "1.2.0",
            "_model_name": "LayoutModel",
            "_view_count": null,
            "_view_module": "@jupyter-widgets/base",
            "_view_module_version": "1.2.0",
            "_view_name": "LayoutView",
            "align_content": null,
            "align_items": null,
            "align_self": null,
            "border": null,
            "bottom": null,
            "display": null,
            "flex": null,
            "flex_flow": null,
            "grid_area": null,
            "grid_auto_columns": null,
            "grid_auto_flow": null,
            "grid_auto_rows": null,
            "grid_column": null,
            "grid_gap": null,
            "grid_row": null,
            "grid_template_areas": null,
            "grid_template_columns": null,
            "grid_template_rows": null,
            "height": null,
            "justify_content": null,
            "justify_items": null,
            "left": null,
            "margin": null,
            "max_height": null,
            "max_width": null,
            "min_height": null,
            "min_width": null,
            "object_fit": null,
            "object_position": null,
            "order": null,
            "overflow": null,
            "overflow_x": null,
            "overflow_y": null,
            "padding": null,
            "right": null,
            "top": null,
            "visibility": null,
            "width": null
          }
        },
        "1d154d1604bb40359a8732d4fb61ca07": {
          "model_module": "@jupyter-widgets/base",
          "model_name": "LayoutModel",
          "model_module_version": "1.2.0",
          "state": {
            "_model_module": "@jupyter-widgets/base",
            "_model_module_version": "1.2.0",
            "_model_name": "LayoutModel",
            "_view_count": null,
            "_view_module": "@jupyter-widgets/base",
            "_view_module_version": "1.2.0",
            "_view_name": "LayoutView",
            "align_content": null,
            "align_items": null,
            "align_self": null,
            "border": null,
            "bottom": null,
            "display": null,
            "flex": null,
            "flex_flow": null,
            "grid_area": null,
            "grid_auto_columns": null,
            "grid_auto_flow": null,
            "grid_auto_rows": null,
            "grid_column": null,
            "grid_gap": null,
            "grid_row": null,
            "grid_template_areas": null,
            "grid_template_columns": null,
            "grid_template_rows": null,
            "height": null,
            "justify_content": null,
            "justify_items": null,
            "left": null,
            "margin": null,
            "max_height": null,
            "max_width": null,
            "min_height": null,
            "min_width": null,
            "object_fit": null,
            "object_position": null,
            "order": null,
            "overflow": null,
            "overflow_x": null,
            "overflow_y": null,
            "padding": null,
            "right": null,
            "top": null,
            "visibility": null,
            "width": null
          }
        },
        "2a0f3eaae33f463a9b48c2b0b99b0c80": {
          "model_module": "@jupyter-widgets/base",
          "model_name": "LayoutModel",
          "model_module_version": "1.2.0",
          "state": {
            "_model_module": "@jupyter-widgets/base",
            "_model_module_version": "1.2.0",
            "_model_name": "LayoutModel",
            "_view_count": null,
            "_view_module": "@jupyter-widgets/base",
            "_view_module_version": "1.2.0",
            "_view_name": "LayoutView",
            "align_content": null,
            "align_items": null,
            "align_self": null,
            "border": null,
            "bottom": null,
            "display": null,
            "flex": null,
            "flex_flow": null,
            "grid_area": null,
            "grid_auto_columns": null,
            "grid_auto_flow": null,
            "grid_auto_rows": null,
            "grid_column": null,
            "grid_gap": null,
            "grid_row": null,
            "grid_template_areas": null,
            "grid_template_columns": null,
            "grid_template_rows": null,
            "height": null,
            "justify_content": null,
            "justify_items": null,
            "left": null,
            "margin": null,
            "max_height": null,
            "max_width": null,
            "min_height": null,
            "min_width": null,
            "object_fit": null,
            "object_position": null,
            "order": null,
            "overflow": null,
            "overflow_x": null,
            "overflow_y": null,
            "padding": null,
            "right": null,
            "top": null,
            "visibility": null,
            "width": null
          }
        },
        "b1b41ae8763d453f8839e86c9f478057": {
          "model_module": "@jupyter-widgets/controls",
          "model_name": "TabModel",
          "model_module_version": "1.5.0",
          "state": {
            "_dom_classes": [],
            "_model_module": "@jupyter-widgets/controls",
            "_model_module_version": "1.5.0",
            "_model_name": "TabModel",
            "_titles": {
              "0": "Youtube",
              "1": "Bilibili"
            },
            "_view_count": null,
            "_view_module": "@jupyter-widgets/controls",
            "_view_module_version": "1.5.0",
            "_view_name": "TabView",
            "box_style": "",
            "children": [
              "IPY_MODEL_df47972c736d4bd38dccc3876aa89174",
              "IPY_MODEL_9603d3ed6f8f4b76ac32bcd6abe0f448"
            ],
            "layout": "IPY_MODEL_66ca49cd37c54e2e90b5466e84837afd",
            "selected_index": 0
          }
        },
        "df47972c736d4bd38dccc3876aa89174": {
          "model_module": "@jupyter-widgets/output",
          "model_name": "OutputModel",
          "model_module_version": "1.0.0",
          "state": {
            "_dom_classes": [],
            "_model_module": "@jupyter-widgets/output",
            "_model_module_version": "1.0.0",
            "_model_name": "OutputModel",
            "_view_count": null,
            "_view_module": "@jupyter-widgets/output",
            "_view_module_version": "1.0.0",
            "_view_name": "OutputView",
            "layout": "IPY_MODEL_2a9f41c16f1343538ed587db91e9b80e",
            "msg_id": "",
            "outputs": [
              {
                "output_type": "stream",
                "name": "stdout",
                "text": [
                  "Video available at https://youtube.com/watch?v=R3Dg7wBQQoU\n"
                ]
              },
              {
                "output_type": "display_data",
                "data": {
                  "text/plain": "<IPython.lib.display.YouTubeVideo at 0x7f9569c03c50>",
                  "text/html": "\n        <iframe\n            width=\"854\"\n            height=\"480\"\n            src=\"https://www.youtube.com/embed/R3Dg7wBQQoU?fs=1&rel=0\"\n            frameborder=\"0\"\n            allowfullscreen\n        ></iframe>\n        ",
                  "image/jpeg": "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\n"
                },
                "metadata": {}
              }
            ]
          }
        },
        "9603d3ed6f8f4b76ac32bcd6abe0f448": {
          "model_module": "@jupyter-widgets/output",
          "model_name": "OutputModel",
          "model_module_version": "1.0.0",
          "state": {
            "_dom_classes": [],
            "_model_module": "@jupyter-widgets/output",
            "_model_module_version": "1.0.0",
            "_model_name": "OutputModel",
            "_view_count": null,
            "_view_module": "@jupyter-widgets/output",
            "_view_module_version": "1.0.0",
            "_view_name": "OutputView",
            "layout": "IPY_MODEL_aeb37102912141cf9a09dbb9b74e26f3",
            "msg_id": "",
            "outputs": [
              {
                "output_type": "stream",
                "name": "stdout",
                "text": [
                  "Video available at https://www.bilibili.com/video/\n"
                ]
              },
              {
                "output_type": "display_data",
                "data": {
                  "text/plain": "<__main__.BiliVideo at 0x7f95b13a7d10>",
                  "text/html": "\n        <iframe\n            width=\"854\"\n            height=\"480\"\n            src=\"https://player.bilibili.com/player.html?bvid=&page=1?fs=1\"\n            frameborder=\"0\"\n            allowfullscreen\n        ></iframe>\n        "
                },
                "metadata": {}
              }
            ]
          }
        },
        "66ca49cd37c54e2e90b5466e84837afd": {
          "model_module": "@jupyter-widgets/base",
          "model_name": "LayoutModel",
          "model_module_version": "1.2.0",
          "state": {
            "_model_module": "@jupyter-widgets/base",
            "_model_module_version": "1.2.0",
            "_model_name": "LayoutModel",
            "_view_count": null,
            "_view_module": "@jupyter-widgets/base",
            "_view_module_version": "1.2.0",
            "_view_name": "LayoutView",
            "align_content": null,
            "align_items": null,
            "align_self": null,
            "border": null,
            "bottom": null,
            "display": null,
            "flex": null,
            "flex_flow": null,
            "grid_area": null,
            "grid_auto_columns": null,
            "grid_auto_flow": null,
            "grid_auto_rows": null,
            "grid_column": null,
            "grid_gap": null,
            "grid_row": null,
            "grid_template_areas": null,
            "grid_template_columns": null,
            "grid_template_rows": null,
            "height": null,
            "justify_content": null,
            "justify_items": null,
            "left": null,
            "margin": null,
            "max_height": null,
            "max_width": null,
            "min_height": null,
            "min_width": null,
            "object_fit": null,
            "object_position": null,
            "order": null,
            "overflow": null,
            "overflow_x": null,
            "overflow_y": null,
            "padding": null,
            "right": null,
            "top": null,
            "visibility": null,
            "width": null
          }
        },
        "2a9f41c16f1343538ed587db91e9b80e": {
          "model_module": "@jupyter-widgets/base",
          "model_name": "LayoutModel",
          "model_module_version": "1.2.0",
          "state": {
            "_model_module": "@jupyter-widgets/base",
            "_model_module_version": "1.2.0",
            "_model_name": "LayoutModel",
            "_view_count": null,
            "_view_module": "@jupyter-widgets/base",
            "_view_module_version": "1.2.0",
            "_view_name": "LayoutView",
            "align_content": null,
            "align_items": null,
            "align_self": null,
            "border": null,
            "bottom": null,
            "display": null,
            "flex": null,
            "flex_flow": null,
            "grid_area": null,
            "grid_auto_columns": null,
            "grid_auto_flow": null,
            "grid_auto_rows": null,
            "grid_column": null,
            "grid_gap": null,
            "grid_row": null,
            "grid_template_areas": null,
            "grid_template_columns": null,
            "grid_template_rows": null,
            "height": null,
            "justify_content": null,
            "justify_items": null,
            "left": null,
            "margin": null,
            "max_height": null,
            "max_width": null,
            "min_height": null,
            "min_width": null,
            "object_fit": null,
            "object_position": null,
            "order": null,
            "overflow": null,
            "overflow_x": null,
            "overflow_y": null,
            "padding": null,
            "right": null,
            "top": null,
            "visibility": null,
            "width": null
          }
        },
        "aeb37102912141cf9a09dbb9b74e26f3": {
          "model_module": "@jupyter-widgets/base",
          "model_name": "LayoutModel",
          "model_module_version": "1.2.0",
          "state": {
            "_model_module": "@jupyter-widgets/base",
            "_model_module_version": "1.2.0",
            "_model_name": "LayoutModel",
            "_view_count": null,
            "_view_module": "@jupyter-widgets/base",
            "_view_module_version": "1.2.0",
            "_view_name": "LayoutView",
            "align_content": null,
            "align_items": null,
            "align_self": null,
            "border": null,
            "bottom": null,
            "display": null,
            "flex": null,
            "flex_flow": null,
            "grid_area": null,
            "grid_auto_columns": null,
            "grid_auto_flow": null,
            "grid_auto_rows": null,
            "grid_column": null,
            "grid_gap": null,
            "grid_row": null,
            "grid_template_areas": null,
            "grid_template_columns": null,
            "grid_template_rows": null,
            "height": null,
            "justify_content": null,
            "justify_items": null,
            "left": null,
            "margin": null,
            "max_height": null,
            "max_width": null,
            "min_height": null,
            "min_width": null,
            "object_fit": null,
            "object_position": null,
            "order": null,
            "overflow": null,
            "overflow_x": null,
            "overflow_y": null,
            "padding": null,
            "right": null,
            "top": null,
            "visibility": null,
            "width": null
          }
        },
        "8b0c0e257e4e4cc28aca3fe8e5fdf0a0": {
          "model_module": "@jupyter-widgets/controls",
          "model_name": "TabModel",
          "model_module_version": "1.5.0",
          "state": {
            "_dom_classes": [],
            "_model_module": "@jupyter-widgets/controls",
            "_model_module_version": "1.5.0",
            "_model_name": "TabModel",
            "_titles": {
              "0": "Youtube",
              "1": "Bilibili"
            },
            "_view_count": null,
            "_view_module": "@jupyter-widgets/controls",
            "_view_module_version": "1.5.0",
            "_view_name": "TabView",
            "box_style": "",
            "children": [
              "IPY_MODEL_0607531098204e468d7b9842af90eb6d",
              "IPY_MODEL_22816d9340c24d3bbcbdefc1888a3237"
            ],
            "layout": "IPY_MODEL_a9e7e71b1ccb4f7790440edd76f8412f",
            "selected_index": 0
          }
        },
        "0607531098204e468d7b9842af90eb6d": {
          "model_module": "@jupyter-widgets/output",
          "model_name": "OutputModel",
          "model_module_version": "1.0.0",
          "state": {
            "_dom_classes": [],
            "_model_module": "@jupyter-widgets/output",
            "_model_module_version": "1.0.0",
            "_model_name": "OutputModel",
            "_view_count": null,
            "_view_module": "@jupyter-widgets/output",
            "_view_module_version": "1.0.0",
            "_view_name": "OutputView",
            "layout": "IPY_MODEL_1cbd5de383854e8a9298f0a15314f9da",
            "msg_id": "",
            "outputs": [
              {
                "output_type": "stream",
                "name": "stdout",
                "text": [
                  "Video available at https://youtube.com/watch?v=wYuvMGQdpI4\n"
                ]
              },
              {
                "output_type": "display_data",
                "data": {
                  "text/plain": "<IPython.lib.display.YouTubeVideo at 0x7f9569ba3b90>",
                  "text/html": "\n        <iframe\n            width=\"854\"\n            height=\"480\"\n            src=\"https://www.youtube.com/embed/wYuvMGQdpI4?fs=1&rel=0\"\n            frameborder=\"0\"\n            allowfullscreen\n        ></iframe>\n        ",
                  "image/jpeg": "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\n"
                },
                "metadata": {}
              }
            ]
          }
        },
        "22816d9340c24d3bbcbdefc1888a3237": {
          "model_module": "@jupyter-widgets/output",
          "model_name": "OutputModel",
          "model_module_version": "1.0.0",
          "state": {
            "_dom_classes": [],
            "_model_module": "@jupyter-widgets/output",
            "_model_module_version": "1.0.0",
            "_model_name": "OutputModel",
            "_view_count": null,
            "_view_module": "@jupyter-widgets/output",
            "_view_module_version": "1.0.0",
            "_view_name": "OutputView",
            "layout": "IPY_MODEL_7f4b5ebbd05f48ca9ea25478a41836f8",
            "msg_id": "",
            "outputs": [
              {
                "output_type": "stream",
                "name": "stdout",
                "text": [
                  "Video available at https://www.bilibili.com/video/\n"
                ]
              },
              {
                "output_type": "display_data",
                "data": {
                  "text/plain": "<__main__.BiliVideo at 0x7f9569950110>",
                  "text/html": "\n        <iframe\n            width=\"854\"\n            height=\"480\"\n            src=\"https://player.bilibili.com/player.html?bvid=&page=1?fs=1\"\n            frameborder=\"0\"\n            allowfullscreen\n        ></iframe>\n        "
                },
                "metadata": {}
              }
            ]
          }
        },
        "a9e7e71b1ccb4f7790440edd76f8412f": {
          "model_module": "@jupyter-widgets/base",
          "model_name": "LayoutModel",
          "model_module_version": "1.2.0",
          "state": {
            "_model_module": "@jupyter-widgets/base",
            "_model_module_version": "1.2.0",
            "_model_name": "LayoutModel",
            "_view_count": null,
            "_view_module": "@jupyter-widgets/base",
            "_view_module_version": "1.2.0",
            "_view_name": "LayoutView",
            "align_content": null,
            "align_items": null,
            "align_self": null,
            "border": null,
            "bottom": null,
            "display": null,
            "flex": null,
            "flex_flow": null,
            "grid_area": null,
            "grid_auto_columns": null,
            "grid_auto_flow": null,
            "grid_auto_rows": null,
            "grid_column": null,
            "grid_gap": null,
            "grid_row": null,
            "grid_template_areas": null,
            "grid_template_columns": null,
            "grid_template_rows": null,
            "height": null,
            "justify_content": null,
            "justify_items": null,
            "left": null,
            "margin": null,
            "max_height": null,
            "max_width": null,
            "min_height": null,
            "min_width": null,
            "object_fit": null,
            "object_position": null,
            "order": null,
            "overflow": null,
            "overflow_x": null,
            "overflow_y": null,
            "padding": null,
            "right": null,
            "top": null,
            "visibility": null,
            "width": null
          }
        },
        "1cbd5de383854e8a9298f0a15314f9da": {
          "model_module": "@jupyter-widgets/base",
          "model_name": "LayoutModel",
          "model_module_version": "1.2.0",
          "state": {
            "_model_module": "@jupyter-widgets/base",
            "_model_module_version": "1.2.0",
            "_model_name": "LayoutModel",
            "_view_count": null,
            "_view_module": "@jupyter-widgets/base",
            "_view_module_version": "1.2.0",
            "_view_name": "LayoutView",
            "align_content": null,
            "align_items": null,
            "align_self": null,
            "border": null,
            "bottom": null,
            "display": null,
            "flex": null,
            "flex_flow": null,
            "grid_area": null,
            "grid_auto_columns": null,
            "grid_auto_flow": null,
            "grid_auto_rows": null,
            "grid_column": null,
            "grid_gap": null,
            "grid_row": null,
            "grid_template_areas": null,
            "grid_template_columns": null,
            "grid_template_rows": null,
            "height": null,
            "justify_content": null,
            "justify_items": null,
            "left": null,
            "margin": null,
            "max_height": null,
            "max_width": null,
            "min_height": null,
            "min_width": null,
            "object_fit": null,
            "object_position": null,
            "order": null,
            "overflow": null,
            "overflow_x": null,
            "overflow_y": null,
            "padding": null,
            "right": null,
            "top": null,
            "visibility": null,
            "width": null
          }
        },
        "7f4b5ebbd05f48ca9ea25478a41836f8": {
          "model_module": "@jupyter-widgets/base",
          "model_name": "LayoutModel",
          "model_module_version": "1.2.0",
          "state": {
            "_model_module": "@jupyter-widgets/base",
            "_model_module_version": "1.2.0",
            "_model_name": "LayoutModel",
            "_view_count": null,
            "_view_module": "@jupyter-widgets/base",
            "_view_module_version": "1.2.0",
            "_view_name": "LayoutView",
            "align_content": null,
            "align_items": null,
            "align_self": null,
            "border": null,
            "bottom": null,
            "display": null,
            "flex": null,
            "flex_flow": null,
            "grid_area": null,
            "grid_auto_columns": null,
            "grid_auto_flow": null,
            "grid_auto_rows": null,
            "grid_column": null,
            "grid_gap": null,
            "grid_row": null,
            "grid_template_areas": null,
            "grid_template_columns": null,
            "grid_template_rows": null,
            "height": null,
            "justify_content": null,
            "justify_items": null,
            "left": null,
            "margin": null,
            "max_height": null,
            "max_width": null,
            "min_height": null,
            "min_width": null,
            "object_fit": null,
            "object_position": null,
            "order": null,
            "overflow": null,
            "overflow_x": null,
            "overflow_y": null,
            "padding": null,
            "right": null,
            "top": null,
            "visibility": null,
            "width": null
          }
        },
        "d63f317589cf4243a57be227c59da936": {
          "model_module": "@jupyter-widgets/controls",
          "model_name": "TabModel",
          "model_module_version": "1.5.0",
          "state": {
            "_dom_classes": [],
            "_model_module": "@jupyter-widgets/controls",
            "_model_module_version": "1.5.0",
            "_model_name": "TabModel",
            "_titles": {
              "0": "Youtube",
              "1": "Bilibili"
            },
            "_view_count": null,
            "_view_module": "@jupyter-widgets/controls",
            "_view_module_version": "1.5.0",
            "_view_name": "TabView",
            "box_style": "",
            "children": [
              "IPY_MODEL_3f5f3cb9f2064884bf60172783508c42",
              "IPY_MODEL_83e6225f9bd34820b5f582b7aec8928e"
            ],
            "layout": "IPY_MODEL_b44933c859444cc9a64c87f9a8444060",
            "selected_index": 0
          }
        },
        "3f5f3cb9f2064884bf60172783508c42": {
          "model_module": "@jupyter-widgets/output",
          "model_name": "OutputModel",
          "model_module_version": "1.0.0",
          "state": {
            "_dom_classes": [],
            "_model_module": "@jupyter-widgets/output",
            "_model_module_version": "1.0.0",
            "_model_name": "OutputModel",
            "_view_count": null,
            "_view_module": "@jupyter-widgets/output",
            "_view_module_version": "1.0.0",
            "_view_name": "OutputView",
            "layout": "IPY_MODEL_d0b1e9a623cb4b72be1b1570edeb813f",
            "msg_id": "",
            "outputs": [
              {
                "output_type": "stream",
                "name": "stdout",
                "text": [
                  "Video available at https://youtube.com/watch?v=Wnj9XZdtV7I\n"
                ]
              },
              {
                "output_type": "display_data",
                "data": {
                  "text/plain": "<IPython.lib.display.YouTubeVideo at 0x7f959bf5b210>",
                  "text/html": "\n        <iframe\n            width=\"854\"\n            height=\"480\"\n            src=\"https://www.youtube.com/embed/Wnj9XZdtV7I?fs=1&rel=0\"\n            frameborder=\"0\"\n            allowfullscreen\n        ></iframe>\n        ",
                  "image/jpeg": "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\n"
                },
                "metadata": {}
              }
            ]
          }
        },
        "83e6225f9bd34820b5f582b7aec8928e": {
          "model_module": "@jupyter-widgets/output",
          "model_name": "OutputModel",
          "model_module_version": "1.0.0",
          "state": {
            "_dom_classes": [],
            "_model_module": "@jupyter-widgets/output",
            "_model_module_version": "1.0.0",
            "_model_name": "OutputModel",
            "_view_count": null,
            "_view_module": "@jupyter-widgets/output",
            "_view_module_version": "1.0.0",
            "_view_name": "OutputView",
            "layout": "IPY_MODEL_6b81fe7c3c4a443ca830df9dbc83ac0a",
            "msg_id": "",
            "outputs": [
              {
                "output_type": "stream",
                "name": "stdout",
                "text": [
                  "Video available at https://www.bilibili.com/video/\n"
                ]
              },
              {
                "output_type": "display_data",
                "data": {
                  "text/plain": "<__main__.BiliVideo at 0x7f9569d0d910>",
                  "text/html": "\n        <iframe\n            width=\"854\"\n            height=\"480\"\n            src=\"https://player.bilibili.com/player.html?bvid=&page=1?fs=1\"\n            frameborder=\"0\"\n            allowfullscreen\n        ></iframe>\n        "
                },
                "metadata": {}
              }
            ]
          }
        },
        "b44933c859444cc9a64c87f9a8444060": {
          "model_module": "@jupyter-widgets/base",
          "model_name": "LayoutModel",
          "model_module_version": "1.2.0",
          "state": {
            "_model_module": "@jupyter-widgets/base",
            "_model_module_version": "1.2.0",
            "_model_name": "LayoutModel",
            "_view_count": null,
            "_view_module": "@jupyter-widgets/base",
            "_view_module_version": "1.2.0",
            "_view_name": "LayoutView",
            "align_content": null,
            "align_items": null,
            "align_self": null,
            "border": null,
            "bottom": null,
            "display": null,
            "flex": null,
            "flex_flow": null,
            "grid_area": null,
            "grid_auto_columns": null,
            "grid_auto_flow": null,
            "grid_auto_rows": null,
            "grid_column": null,
            "grid_gap": null,
            "grid_row": null,
            "grid_template_areas": null,
            "grid_template_columns": null,
            "grid_template_rows": null,
            "height": null,
            "justify_content": null,
            "justify_items": null,
            "left": null,
            "margin": null,
            "max_height": null,
            "max_width": null,
            "min_height": null,
            "min_width": null,
            "object_fit": null,
            "object_position": null,
            "order": null,
            "overflow": null,
            "overflow_x": null,
            "overflow_y": null,
            "padding": null,
            "right": null,
            "top": null,
            "visibility": null,
            "width": null
          }
        },
        "d0b1e9a623cb4b72be1b1570edeb813f": {
          "model_module": "@jupyter-widgets/base",
          "model_name": "LayoutModel",
          "model_module_version": "1.2.0",
          "state": {
            "_model_module": "@jupyter-widgets/base",
            "_model_module_version": "1.2.0",
            "_model_name": "LayoutModel",
            "_view_count": null,
            "_view_module": "@jupyter-widgets/base",
            "_view_module_version": "1.2.0",
            "_view_name": "LayoutView",
            "align_content": null,
            "align_items": null,
            "align_self": null,
            "border": null,
            "bottom": null,
            "display": null,
            "flex": null,
            "flex_flow": null,
            "grid_area": null,
            "grid_auto_columns": null,
            "grid_auto_flow": null,
            "grid_auto_rows": null,
            "grid_column": null,
            "grid_gap": null,
            "grid_row": null,
            "grid_template_areas": null,
            "grid_template_columns": null,
            "grid_template_rows": null,
            "height": null,
            "justify_content": null,
            "justify_items": null,
            "left": null,
            "margin": null,
            "max_height": null,
            "max_width": null,
            "min_height": null,
            "min_width": null,
            "object_fit": null,
            "object_position": null,
            "order": null,
            "overflow": null,
            "overflow_x": null,
            "overflow_y": null,
            "padding": null,
            "right": null,
            "top": null,
            "visibility": null,
            "width": null
          }
        },
        "6b81fe7c3c4a443ca830df9dbc83ac0a": {
          "model_module": "@jupyter-widgets/base",
          "model_name": "LayoutModel",
          "model_module_version": "1.2.0",
          "state": {
            "_model_module": "@jupyter-widgets/base",
            "_model_module_version": "1.2.0",
            "_model_name": "LayoutModel",
            "_view_count": null,
            "_view_module": "@jupyter-widgets/base",
            "_view_module_version": "1.2.0",
            "_view_name": "LayoutView",
            "align_content": null,
            "align_items": null,
            "align_self": null,
            "border": null,
            "bottom": null,
            "display": null,
            "flex": null,
            "flex_flow": null,
            "grid_area": null,
            "grid_auto_columns": null,
            "grid_auto_flow": null,
            "grid_auto_rows": null,
            "grid_column": null,
            "grid_gap": null,
            "grid_row": null,
            "grid_template_areas": null,
            "grid_template_columns": null,
            "grid_template_rows": null,
            "height": null,
            "justify_content": null,
            "justify_items": null,
            "left": null,
            "margin": null,
            "max_height": null,
            "max_width": null,
            "min_height": null,
            "min_width": null,
            "object_fit": null,
            "object_position": null,
            "order": null,
            "overflow": null,
            "overflow_x": null,
            "overflow_y": null,
            "padding": null,
            "right": null,
            "top": null,
            "visibility": null,
            "width": null
          }
        },
        "a8f60cc571654c9fb33cfd6cf6bd55ca": {
          "model_module": "@jupyter-widgets/controls",
          "model_name": "TabModel",
          "model_module_version": "1.5.0",
          "state": {
            "_dom_classes": [],
            "_model_module": "@jupyter-widgets/controls",
            "_model_module_version": "1.5.0",
            "_model_name": "TabModel",
            "_titles": {
              "0": "Youtube",
              "1": "Bilibili"
            },
            "_view_count": null,
            "_view_module": "@jupyter-widgets/controls",
            "_view_module_version": "1.5.0",
            "_view_name": "TabView",
            "box_style": "",
            "children": [
              "IPY_MODEL_4998a9599f2a4a9ab1d9bac5ccf3aa2d",
              "IPY_MODEL_20821d39d6d8450db37171aa9e32bae6"
            ],
            "layout": "IPY_MODEL_1850bdbf981d4989b8b60968cdcf2492",
            "selected_index": 0
          }
        },
        "4998a9599f2a4a9ab1d9bac5ccf3aa2d": {
          "model_module": "@jupyter-widgets/output",
          "model_name": "OutputModel",
          "model_module_version": "1.0.0",
          "state": {
            "_dom_classes": [],
            "_model_module": "@jupyter-widgets/output",
            "_model_module_version": "1.0.0",
            "_model_name": "OutputModel",
            "_view_count": null,
            "_view_module": "@jupyter-widgets/output",
            "_view_module_version": "1.0.0",
            "_view_name": "OutputView",
            "layout": "IPY_MODEL_900ca3552a004d929ffcd28973793013",
            "msg_id": "",
            "outputs": [
              {
                "output_type": "stream",
                "name": "stdout",
                "text": [
                  "Video available at https://youtube.com/watch?v=6uJHra_esJU\n"
                ]
              },
              {
                "output_type": "display_data",
                "data": {
                  "text/plain": "<IPython.lib.display.YouTubeVideo at 0x7f9569d01210>",
                  "text/html": "\n        <iframe\n            width=\"854\"\n            height=\"480\"\n            src=\"https://www.youtube.com/embed/6uJHra_esJU?fs=1&rel=0\"\n            frameborder=\"0\"\n            allowfullscreen\n        ></iframe>\n        ",
                  "image/jpeg": "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\n"
                },
                "metadata": {}
              }
            ]
          }
        },
        "20821d39d6d8450db37171aa9e32bae6": {
          "model_module": "@jupyter-widgets/output",
          "model_name": "OutputModel",
          "model_module_version": "1.0.0",
          "state": {
            "_dom_classes": [],
            "_model_module": "@jupyter-widgets/output",
            "_model_module_version": "1.0.0",
            "_model_name": "OutputModel",
            "_view_count": null,
            "_view_module": "@jupyter-widgets/output",
            "_view_module_version": "1.0.0",
            "_view_name": "OutputView",
            "layout": "IPY_MODEL_3b5a6b2a393e441bad47a39eebebd3e5",
            "msg_id": "",
            "outputs": [
              {
                "output_type": "stream",
                "name": "stdout",
                "text": [
                  "Video available at https://www.bilibili.com/video/\n"
                ]
              },
              {
                "output_type": "display_data",
                "data": {
                  "text/plain": "<__main__.BiliVideo at 0x7f9569cfce50>",
                  "text/html": "\n        <iframe\n            width=\"854\"\n            height=\"480\"\n            src=\"https://player.bilibili.com/player.html?bvid=&page=1?fs=1\"\n            frameborder=\"0\"\n            allowfullscreen\n        ></iframe>\n        "
                },
                "metadata": {}
              }
            ]
          }
        },
        "1850bdbf981d4989b8b60968cdcf2492": {
          "model_module": "@jupyter-widgets/base",
          "model_name": "LayoutModel",
          "model_module_version": "1.2.0",
          "state": {
            "_model_module": "@jupyter-widgets/base",
            "_model_module_version": "1.2.0",
            "_model_name": "LayoutModel",
            "_view_count": null,
            "_view_module": "@jupyter-widgets/base",
            "_view_module_version": "1.2.0",
            "_view_name": "LayoutView",
            "align_content": null,
            "align_items": null,
            "align_self": null,
            "border": null,
            "bottom": null,
            "display": null,
            "flex": null,
            "flex_flow": null,
            "grid_area": null,
            "grid_auto_columns": null,
            "grid_auto_flow": null,
            "grid_auto_rows": null,
            "grid_column": null,
            "grid_gap": null,
            "grid_row": null,
            "grid_template_areas": null,
            "grid_template_columns": null,
            "grid_template_rows": null,
            "height": null,
            "justify_content": null,
            "justify_items": null,
            "left": null,
            "margin": null,
            "max_height": null,
            "max_width": null,
            "min_height": null,
            "min_width": null,
            "object_fit": null,
            "object_position": null,
            "order": null,
            "overflow": null,
            "overflow_x": null,
            "overflow_y": null,
            "padding": null,
            "right": null,
            "top": null,
            "visibility": null,
            "width": null
          }
        },
        "900ca3552a004d929ffcd28973793013": {
          "model_module": "@jupyter-widgets/base",
          "model_name": "LayoutModel",
          "model_module_version": "1.2.0",
          "state": {
            "_model_module": "@jupyter-widgets/base",
            "_model_module_version": "1.2.0",
            "_model_name": "LayoutModel",
            "_view_count": null,
            "_view_module": "@jupyter-widgets/base",
            "_view_module_version": "1.2.0",
            "_view_name": "LayoutView",
            "align_content": null,
            "align_items": null,
            "align_self": null,
            "border": null,
            "bottom": null,
            "display": null,
            "flex": null,
            "flex_flow": null,
            "grid_area": null,
            "grid_auto_columns": null,
            "grid_auto_flow": null,
            "grid_auto_rows": null,
            "grid_column": null,
            "grid_gap": null,
            "grid_row": null,
            "grid_template_areas": null,
            "grid_template_columns": null,
            "grid_template_rows": null,
            "height": null,
            "justify_content": null,
            "justify_items": null,
            "left": null,
            "margin": null,
            "max_height": null,
            "max_width": null,
            "min_height": null,
            "min_width": null,
            "object_fit": null,
            "object_position": null,
            "order": null,
            "overflow": null,
            "overflow_x": null,
            "overflow_y": null,
            "padding": null,
            "right": null,
            "top": null,
            "visibility": null,
            "width": null
          }
        },
        "3b5a6b2a393e441bad47a39eebebd3e5": {
          "model_module": "@jupyter-widgets/base",
          "model_name": "LayoutModel",
          "model_module_version": "1.2.0",
          "state": {
            "_model_module": "@jupyter-widgets/base",
            "_model_module_version": "1.2.0",
            "_model_name": "LayoutModel",
            "_view_count": null,
            "_view_module": "@jupyter-widgets/base",
            "_view_module_version": "1.2.0",
            "_view_name": "LayoutView",
            "align_content": null,
            "align_items": null,
            "align_self": null,
            "border": null,
            "bottom": null,
            "display": null,
            "flex": null,
            "flex_flow": null,
            "grid_area": null,
            "grid_auto_columns": null,
            "grid_auto_flow": null,
            "grid_auto_rows": null,
            "grid_column": null,
            "grid_gap": null,
            "grid_row": null,
            "grid_template_areas": null,
            "grid_template_columns": null,
            "grid_template_rows": null,
            "height": null,
            "justify_content": null,
            "justify_items": null,
            "left": null,
            "margin": null,
            "max_height": null,
            "max_width": null,
            "min_height": null,
            "min_width": null,
            "object_fit": null,
            "object_position": null,
            "order": null,
            "overflow": null,
            "overflow_x": null,
            "overflow_y": null,
            "padding": null,
            "right": null,
            "top": null,
            "visibility": null,
            "width": null
          }
        },
        "b70b423c1402433eaea5609d770897cb": {
          "model_module": "@jupyter-widgets/controls",
          "model_name": "TabModel",
          "model_module_version": "1.5.0",
          "state": {
            "_dom_classes": [],
            "_model_module": "@jupyter-widgets/controls",
            "_model_module_version": "1.5.0",
            "_model_name": "TabModel",
            "_titles": {
              "0": "Youtube",
              "1": "Bilibili"
            },
            "_view_count": null,
            "_view_module": "@jupyter-widgets/controls",
            "_view_module_version": "1.5.0",
            "_view_name": "TabView",
            "box_style": "",
            "children": [
              "IPY_MODEL_d851bbcb69e64ff6991427e665ec7df4",
              "IPY_MODEL_4fb3f9fb6ddf455a82285b14cb0f2801"
            ],
            "layout": "IPY_MODEL_8a8956c132e0441fb20898d2e825c305",
            "selected_index": 0
          }
        },
        "d851bbcb69e64ff6991427e665ec7df4": {
          "model_module": "@jupyter-widgets/output",
          "model_name": "OutputModel",
          "model_module_version": "1.0.0",
          "state": {
            "_dom_classes": [],
            "_model_module": "@jupyter-widgets/output",
            "_model_module_version": "1.0.0",
            "_model_name": "OutputModel",
            "_view_count": null,
            "_view_module": "@jupyter-widgets/output",
            "_view_module_version": "1.0.0",
            "_view_name": "OutputView",
            "layout": "IPY_MODEL_846c3134d43d4e13bbb3fa67d46be584",
            "msg_id": "",
            "outputs": [
              {
                "output_type": "stream",
                "name": "stdout",
                "text": [
                  "Video available at https://youtube.com/watch?v=J4zok8b2SUA\n"
                ]
              },
              {
                "output_type": "display_data",
                "data": {
                  "text/plain": "<IPython.lib.display.YouTubeVideo at 0x7f9569dd2f90>",
                  "text/html": "\n        <iframe\n            width=\"854\"\n            height=\"480\"\n            src=\"https://www.youtube.com/embed/J4zok8b2SUA?fs=1&rel=0\"\n            frameborder=\"0\"\n            allowfullscreen\n        ></iframe>\n        ",
                  "image/jpeg": "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\n"
                },
                "metadata": {}
              }
            ]
          }
        },
        "4fb3f9fb6ddf455a82285b14cb0f2801": {
          "model_module": "@jupyter-widgets/output",
          "model_name": "OutputModel",
          "model_module_version": "1.0.0",
          "state": {
            "_dom_classes": [],
            "_model_module": "@jupyter-widgets/output",
            "_model_module_version": "1.0.0",
            "_model_name": "OutputModel",
            "_view_count": null,
            "_view_module": "@jupyter-widgets/output",
            "_view_module_version": "1.0.0",
            "_view_name": "OutputView",
            "layout": "IPY_MODEL_55d96715bbea47d9ab23ff4d8d9d0b9c",
            "msg_id": "",
            "outputs": [
              {
                "output_type": "stream",
                "name": "stdout",
                "text": [
                  "Video available at https://www.bilibili.com/video/\n"
                ]
              },
              {
                "output_type": "display_data",
                "data": {
                  "text/plain": "<__main__.BiliVideo at 0x7f956a085050>",
                  "text/html": "\n        <iframe\n            width=\"854\"\n            height=\"480\"\n            src=\"https://player.bilibili.com/player.html?bvid=&page=1?fs=1\"\n            frameborder=\"0\"\n            allowfullscreen\n        ></iframe>\n        "
                },
                "metadata": {}
              }
            ]
          }
        },
        "8a8956c132e0441fb20898d2e825c305": {
          "model_module": "@jupyter-widgets/base",
          "model_name": "LayoutModel",
          "model_module_version": "1.2.0",
          "state": {
            "_model_module": "@jupyter-widgets/base",
            "_model_module_version": "1.2.0",
            "_model_name": "LayoutModel",
            "_view_count": null,
            "_view_module": "@jupyter-widgets/base",
            "_view_module_version": "1.2.0",
            "_view_name": "LayoutView",
            "align_content": null,
            "align_items": null,
            "align_self": null,
            "border": null,
            "bottom": null,
            "display": null,
            "flex": null,
            "flex_flow": null,
            "grid_area": null,
            "grid_auto_columns": null,
            "grid_auto_flow": null,
            "grid_auto_rows": null,
            "grid_column": null,
            "grid_gap": null,
            "grid_row": null,
            "grid_template_areas": null,
            "grid_template_columns": null,
            "grid_template_rows": null,
            "height": null,
            "justify_content": null,
            "justify_items": null,
            "left": null,
            "margin": null,
            "max_height": null,
            "max_width": null,
            "min_height": null,
            "min_width": null,
            "object_fit": null,
            "object_position": null,
            "order": null,
            "overflow": null,
            "overflow_x": null,
            "overflow_y": null,
            "padding": null,
            "right": null,
            "top": null,
            "visibility": null,
            "width": null
          }
        },
        "846c3134d43d4e13bbb3fa67d46be584": {
          "model_module": "@jupyter-widgets/base",
          "model_name": "LayoutModel",
          "model_module_version": "1.2.0",
          "state": {
            "_model_module": "@jupyter-widgets/base",
            "_model_module_version": "1.2.0",
            "_model_name": "LayoutModel",
            "_view_count": null,
            "_view_module": "@jupyter-widgets/base",
            "_view_module_version": "1.2.0",
            "_view_name": "LayoutView",
            "align_content": null,
            "align_items": null,
            "align_self": null,
            "border": null,
            "bottom": null,
            "display": null,
            "flex": null,
            "flex_flow": null,
            "grid_area": null,
            "grid_auto_columns": null,
            "grid_auto_flow": null,
            "grid_auto_rows": null,
            "grid_column": null,
            "grid_gap": null,
            "grid_row": null,
            "grid_template_areas": null,
            "grid_template_columns": null,
            "grid_template_rows": null,
            "height": null,
            "justify_content": null,
            "justify_items": null,
            "left": null,
            "margin": null,
            "max_height": null,
            "max_width": null,
            "min_height": null,
            "min_width": null,
            "object_fit": null,
            "object_position": null,
            "order": null,
            "overflow": null,
            "overflow_x": null,
            "overflow_y": null,
            "padding": null,
            "right": null,
            "top": null,
            "visibility": null,
            "width": null
          }
        },
        "55d96715bbea47d9ab23ff4d8d9d0b9c": {
          "model_module": "@jupyter-widgets/base",
          "model_name": "LayoutModel",
          "model_module_version": "1.2.0",
          "state": {
            "_model_module": "@jupyter-widgets/base",
            "_model_module_version": "1.2.0",
            "_model_name": "LayoutModel",
            "_view_count": null,
            "_view_module": "@jupyter-widgets/base",
            "_view_module_version": "1.2.0",
            "_view_name": "LayoutView",
            "align_content": null,
            "align_items": null,
            "align_self": null,
            "border": null,
            "bottom": null,
            "display": null,
            "flex": null,
            "flex_flow": null,
            "grid_area": null,
            "grid_auto_columns": null,
            "grid_auto_flow": null,
            "grid_auto_rows": null,
            "grid_column": null,
            "grid_gap": null,
            "grid_row": null,
            "grid_template_areas": null,
            "grid_template_columns": null,
            "grid_template_rows": null,
            "height": null,
            "justify_content": null,
            "justify_items": null,
            "left": null,
            "margin": null,
            "max_height": null,
            "max_width": null,
            "min_height": null,
            "min_width": null,
            "object_fit": null,
            "object_position": null,
            "order": null,
            "overflow": null,
            "overflow_x": null,
            "overflow_y": null,
            "padding": null,
            "right": null,
            "top": null,
            "visibility": null,
            "width": null
          }
        }
      }
    }
  },
  "nbformat": 4,
  "nbformat_minor": 0
}