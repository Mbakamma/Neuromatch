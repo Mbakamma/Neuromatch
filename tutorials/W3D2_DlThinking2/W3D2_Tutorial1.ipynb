{
  "cells": [
    {
      "cell_type": "markdown",
      "metadata": {
        "id": "view-in-github",
        "colab_type": "text"
      },
      "source": [
        "<a href=\"https://colab.research.google.com/github/NeuromatchAcademy/course-content-dl/blob/fix-links-w3/tutorials/W3D2_DlThinking2/W3D2_Tutorial1.ipynb\" target=\"_parent\"><img src=\"https://colab.research.google.com/assets/colab-badge.svg\" alt=\"Open In Colab\"/></a>"
      ]
    },
    {
      "cell_type": "markdown",
      "metadata": {
        "execution": {},
        "id": "dG9sl6NEdVbE"
      },
      "source": [
        "# Tutorial 1: Deep Learning Thinking 2: Architectures and Multimodal DL thinking\n",
        "\n",
        "**Week 3, Day 2: DL Thinking 2**\n",
        "\n",
        "**By Neuromatch Academy**\n",
        "\n",
        "\n",
        "__Content creators:__ Konrad Kording, Lyle ungar\n",
        " \n",
        "__Content reviewers:__ Kelson Shilling-Scrivo\n",
        "\n",
        "__Content editors:__ Kelson Shilling-Scrivo\n",
        "\n",
        "__Production editors:__ Spiros Chavlis "
      ]
    },
    {
      "cell_type": "markdown",
      "metadata": {
        "execution": {},
        "id": "iDRwF8B0dVbM"
      },
      "source": [
        "<p align='center'><img src='https://github.com/NeuromatchAcademy/widgets/blob/master/sponsors.png?raw=True'/></p>"
      ]
    },
    {
      "cell_type": "markdown",
      "metadata": {
        "execution": {},
        "id": "el574wfNdVbN"
      },
      "source": [
        "---\n",
        "# Tutorial Objectives\n",
        "\n",
        "In this tutorial, you will practice thinking like a deep learning practioner and figure out how to design architectures for different scenarios. \n",
        "\n",
        "By the end of this tutorial, you will be better able to:\n",
        "\n",
        "* Know how to proceed when low on data\n",
        "* Have a toolbox of what to do in non-standard situations\n",
        "\n",
        "We will also continue to see how to get relevant information out of domain experts, arguably the central skill of DL and how to convert insights into domains into the logic of actual approaches."
      ]
    },
    {
      "cell_type": "code",
      "execution_count": 1,
      "metadata": {
        "cellView": "form",
        "execution": {},
        "id": "ntzaUWradVbR",
        "outputId": "1935920c-4794-4a44-957d-967d596cf6f9",
        "colab": {
          "base_uri": "https://localhost:8080/",
          "height": 503
        }
      },
      "outputs": [
        {
          "output_type": "execute_result",
          "data": {
            "text/plain": [
              "<IPython.lib.display.IFrame at 0x7fcfae943f10>"
            ],
            "text/html": [
              "\n",
              "        <iframe\n",
              "            width=\"854\"\n",
              "            height=\"480\"\n",
              "            src=\"https://mfr.ca-1.osf.io/render?url=https://osf.io/teq6v/?direct%26mode=render%26action=download%26mode=render\"\n",
              "            frameborder=\"0\"\n",
              "            allowfullscreen\n",
              "        ></iframe>\n",
              "        "
            ]
          },
          "metadata": {},
          "execution_count": 1
        }
      ],
      "source": [
        "# @title Tutorial slides\n",
        "\n",
        "from IPython.display import IFrame\n",
        "IFrame(src=f\"https://mfr.ca-1.osf.io/render?url=https://osf.io/teq6v/?direct%26mode=render%26action=download%26mode=render\", width=854, height=480)"
      ]
    },
    {
      "cell_type": "markdown",
      "metadata": {
        "execution": {},
        "id": "9w7daEqYdVbU"
      },
      "source": [
        "These are the slides for all videos in this tutorial. If you want to download locally the slides, click [here](https://osf.io/teq6v/download)."
      ]
    },
    {
      "cell_type": "markdown",
      "source": [
        "---\n",
        "# Setup"
      ],
      "metadata": {
        "id": "3gLZkYvkdXlt"
      }
    },
    {
      "cell_type": "code",
      "source": [
        "# @title Install dependencies\n",
        "!pip install git+https://github.com/NeuromatchAcademy/evaltools --quiet\n",
        "\n",
        "from evaltools.airtable import AirtableForm\n",
        "atform = AirtableForm('appn7VdPRseSoMXEG', 'W3D2_T1','https://portal.neuromatchacademy.org/api/redirect/to/e1f5e678-eaf8-4c24-9018-d758b50314d5')"
      ],
      "metadata": {
        "cellView": "form",
        "id": "MJIOsDc3dZWu",
        "outputId": "6b32b543-ecef-49b6-c6ab-bb6aa5f65152",
        "colab": {
          "base_uri": "https://localhost:8080/"
        }
      },
      "execution_count": 2,
      "outputs": [
        {
          "output_type": "stream",
          "name": "stdout",
          "text": [
            "  Building wheel for evaltools (setup.py) ... \u001b[?25l\u001b[?25hdone\n"
          ]
        }
      ]
    },
    {
      "cell_type": "markdown",
      "metadata": {
        "execution": {},
        "id": "HAe-n5DCdVbV"
      },
      "source": [
        "---\n",
        "# Section 1: Intro Deep Learning Thinking 2"
      ]
    },
    {
      "cell_type": "code",
      "execution_count": 3,
      "metadata": {
        "cellView": "form",
        "execution": {},
        "id": "Xn9o7adKdVbW",
        "outputId": "77a194d0-23e2-4f00-a0aa-63176f5406fe",
        "colab": {
          "base_uri": "https://localhost:8080/",
          "height": 582,
          "referenced_widgets": [
            "620a0d8f8e884d21be401d2810030bc8",
            "83909d482b6f44688c8f133483c62e3a",
            "36c1301b0d8a44638c42a8e5dc005df4",
            "86dc6581f0d04652bf7470ba1e5134fc",
            "7eac3fa86f58467e8903671d2ec769e2",
            "a43451df76d44205998bd81c86c9a432"
          ]
        }
      },
      "outputs": [
        {
          "output_type": "display_data",
          "data": {
            "text/plain": [
              "Tab(children=(Output(), Output()), _titles={'0': 'Youtube', '1': 'Bilibili'})"
            ],
            "application/vnd.jupyter.widget-view+json": {
              "version_major": 2,
              "version_minor": 0,
              "model_id": "620a0d8f8e884d21be401d2810030bc8"
            }
          },
          "metadata": {}
        }
      ],
      "source": [
        "# @title Video 1: Intro to DL Thinking 2\n",
        "from ipywidgets import widgets\n",
        "\n",
        "out2 = widgets.Output()\n",
        "with out2:\n",
        "  from IPython.display import IFrame\n",
        "  class BiliVideo(IFrame):\n",
        "    def __init__(self, id, page=1, width=400, height=300, **kwargs):\n",
        "      self.id=id\n",
        "      src = \"https://player.bilibili.com/player.html?bvid={0}&page={1}\".format(id, page)\n",
        "      super(BiliVideo, self).__init__(src, width, height, **kwargs)\n",
        "\n",
        "  video = BiliVideo(id=f\"\", width=854, height=480, fs=1)\n",
        "  print(\"Video available at https://www.bilibili.com/video/{0}\".format(video.id))\n",
        "  display(video)\n",
        "\n",
        "out1 = widgets.Output()\n",
        "with out1:\n",
        "  from IPython.display import YouTubeVideo\n",
        "  video = YouTubeVideo(id=f\"I0PNDBF0Sxg\", width=854, height=480, fs=1, rel=0)\n",
        "  print(\"Video available at https://youtube.com/watch?v=\" + video.id)\n",
        "  display(video)\n",
        "\n",
        "out = widgets.Tab([out1, out2])\n",
        "out.set_title(0, 'Youtube')\n",
        "out.set_title(1, 'Bilibili')\n",
        "\n",
        "# add event to airtable\n",
        "atform.add_event('Video 1: Intro to DL Thinking 2')\n",
        "\n",
        "display(out)"
      ]
    },
    {
      "cell_type": "markdown",
      "metadata": {
        "execution": {},
        "id": "cfgiM5gCdVbZ"
      },
      "source": [
        "Like deep learning thinking 1 last week, this tutorial is a bit different from others - there will be no coding! Instead, you will watch a series of vignettes about various scenarios where you want to use a neural network. This tutorial will focus on various architectures and multimodal thinking.\n",
        "\n",
        "Each section below will start with a vignette where either Lyle or Konrad is trying to figure out how to set up a neural network for a specific problem. Try to think of questions you want to ask them as you watch, then pay attention to what questions Lyle and Konrad are asking. Were they what you would have asked? How do their questions help quickly clarify the situation?"
      ]
    },
    {
      "cell_type": "markdown",
      "metadata": {
        "execution": {},
        "id": "PYrFGk1cdVba"
      },
      "source": [
        "---\n",
        "# Section 2: Getting More Data "
      ]
    },
    {
      "cell_type": "code",
      "execution_count": 4,
      "metadata": {
        "cellView": "form",
        "execution": {},
        "id": "I7e85agVdVbb",
        "outputId": "4dba044f-dc75-4c60-dcd0-75d4fe305df9",
        "colab": {
          "base_uri": "https://localhost:8080/",
          "height": 582,
          "referenced_widgets": [
            "ccfd31be6f814fca8430fc30b82404ed",
            "dd1615091321409a8a3c0933c19b0ff1",
            "757fd616555a4e71a7ab2f45b9d10698",
            "cff6e546f31640c0b985d6c6edaf73ce",
            "baf9c52cf2874ac5856e1caf542a5cc4",
            "d5c303404dfd4c36a578125795be761e"
          ]
        }
      },
      "outputs": [
        {
          "output_type": "display_data",
          "data": {
            "text/plain": [
              "Tab(children=(Output(), Output()), _titles={'0': 'Youtube', '1': 'Bilibili'})"
            ],
            "application/vnd.jupyter.widget-view+json": {
              "version_major": 2,
              "version_minor": 0,
              "model_id": "ccfd31be6f814fca8430fc30b82404ed"
            }
          },
          "metadata": {}
        }
      ],
      "source": [
        "# @title Video 2: Getting More Data Vignette\n",
        "from ipywidgets import widgets\n",
        "\n",
        "out2 = widgets.Output()\n",
        "with out2:\n",
        "  from IPython.display import IFrame\n",
        "  class BiliVideo(IFrame):\n",
        "    def __init__(self, id, page=1, width=400, height=300, **kwargs):\n",
        "      self.id=id\n",
        "      src = \"https://player.bilibili.com/player.html?bvid={0}&page={1}\".format(id, page)\n",
        "      super(BiliVideo, self).__init__(src, width, height, **kwargs)\n",
        "\n",
        "  video = BiliVideo(id=f\"\", width=854, height=480, fs=1)\n",
        "  print(\"Video available at https://www.bilibili.com/video/{0}\".format(video.id))\n",
        "  display(video)\n",
        "\n",
        "out1 = widgets.Output()\n",
        "with out1:\n",
        "  from IPython.display import YouTubeVideo\n",
        "  video = YouTubeVideo(id=f\"Gswf3m0lAro\", width=854, height=480, fs=1, rel=0)\n",
        "  print(\"Video available at https://youtube.com/watch?v=\" + video.id)\n",
        "  display(video)\n",
        "\n",
        "out = widgets.Tab([out1, out2])\n",
        "out.set_title(0, 'Youtube')\n",
        "out.set_title(1, 'Bilibili')\n",
        "\n",
        "# add event to airtable\n",
        "atform.add_event('Video 2: Getting More Data Vignette')\n",
        "\n",
        "display(out)"
      ]
    },
    {
      "cell_type": "markdown",
      "metadata": {
        "execution": {},
        "id": "166yNw5rdVbd"
      },
      "source": [
        "Konrad wants to build a neural network that classifies images based on the objects contained within them. He needs more data to help him train an accurate network, but buying more images is costly. He needs a different solution."
      ]
    },
    {
      "cell_type": "markdown",
      "metadata": {
        "execution": {},
        "id": "wFKc7yFQdVbd"
      },
      "source": [
        "## Think! 1: Designing a strategy to get more data\n",
        "\n",
        "Given everything you know, how would you design a strategy to get some more data (pairs of images and the label of the object they are of) for the image classification neural network that Konrad is training? Be specific & write down a procedure.\n",
        "\n",
        "Please discuss as a group. If you get stuck, you can uncover the hints below one at a time. Please spend some time discussing before uncovering the next hint, though! You are being real deep learning scientists now, and the answers won't be easy."
      ]
    },
    {
      "cell_type": "code",
      "source": [
        "# @title Student Response\n",
        "from ipywidgets import widgets\n",
        "\n",
        "\n",
        "text=widgets.Textarea(\n",
        "   value='Type your answer here and click on `Submit!`',\n",
        "   placeholder='Type something',\n",
        "   description='',\n",
        "   disabled=False\n",
        ")\n",
        "\n",
        "button = widgets.Button(description=\"Submit!\")\n",
        "\n",
        "display(text,button)\n",
        "\n",
        "def on_button_clicked(b):\n",
        "   atform.add_answer('q1' , text.value)\n",
        "   print(\"Submission successful!\")\n",
        "\n",
        "\n",
        "button.on_click(on_button_clicked)"
      ],
      "metadata": {
        "cellView": "form",
        "id": "7PZEJFDydyKJ",
        "outputId": "19a1850b-39d7-4d02-aa3b-55371ee2998c",
        "colab": {
          "base_uri": "https://localhost:8080/",
          "height": 93,
          "referenced_widgets": [
            "e3fcaf096f3942b2ac964b6fe523e048",
            "ec8f255cc3db4827a2ba3b225e9741f9",
            "54126334a3ed4d5f9bda710f27bf7847",
            "00e2fe0ed07b4eeba048011b5cfd3319",
            "c832924c0a56456bbfcfd849e76e1734",
            "05b6ad5113564787a5ce168979731fae"
          ]
        }
      },
      "execution_count": 5,
      "outputs": [
        {
          "output_type": "display_data",
          "data": {
            "text/plain": [
              "Textarea(value='Type your answer here and click on `Submit!`', placeholder='Type something')"
            ],
            "application/vnd.jupyter.widget-view+json": {
              "version_major": 2,
              "version_minor": 0,
              "model_id": "e3fcaf096f3942b2ac964b6fe523e048"
            }
          },
          "metadata": {}
        },
        {
          "output_type": "display_data",
          "data": {
            "text/plain": [
              "Button(description='Submit!', style=ButtonStyle())"
            ],
            "application/vnd.jupyter.widget-view+json": {
              "version_major": 2,
              "version_minor": 0,
              "model_id": "00e2fe0ed07b4eeba048011b5cfd3319"
            }
          },
          "metadata": {}
        }
      ]
    },
    {
      "cell_type": "markdown",
      "metadata": {
        "execution": {},
        "id": "OVthCsOKdVbe"
      },
      "source": [
        "<details>\n",
        "<summary> <font color='green'>Click here for hint 1 </font></summary>\n",
        "\n",
        "Look at a few photos of dogs (use an image search engine). How are they similar? How are they different? What makes them all be dogs?"
      ]
    },
    {
      "cell_type": "markdown",
      "metadata": {
        "execution": {},
        "id": "hqw-ImcpdVbf"
      },
      "source": [
        "<details>\n",
        "<summary> <font color='green'>Click here for hint 2 </font></summary>\n",
        "\n",
        "We don't need to obtain any new images in order to give more examples of each object to our neural network."
      ]
    },
    {
      "cell_type": "markdown",
      "metadata": {
        "execution": {},
        "id": "B2_uU2JydVbg"
      },
      "source": [
        "<details>\n",
        "<summary> <font color='green'>Click here for hint 3 </font></summary>\n",
        "\n",
        "Think about color, orientation, flipping, pixel noise, color noise, shearing, contrast, brightness, scaling"
      ]
    },
    {
      "cell_type": "markdown",
      "metadata": {
        "execution": {},
        "id": "2HbaHtZqdVbg"
      },
      "source": [
        "<details>\n",
        "<summary> <font color='green'>Click here for hint 4 </font></summary>\n",
        "\n",
        "Discuss where each of these ideas will break down. Can too much of a good thing be good?"
      ]
    },
    {
      "cell_type": "markdown",
      "metadata": {
        "execution": {},
        "id": "yZeaVSj1dVbh"
      },
      "source": [
        "<details>\n",
        "<summary> <font color='green'>Click here for solution  </font></summary>\n",
        "\n",
        "Instead of collecting new data, we can create multiple examples for the neural network of each of our existing images by changing things like flipping them horizontally, shifting them horizontally or vertically by some number of pixels, scaling them to be larger or smaller (and cropping), rotating them, and changing their contrast and brightness.\n",
        "\n",
        "This is called data augmentation and is a very commonly used and important strategy for training neural networks. \n",
        "\n",
        "Importantly, we need to be careful about the amount we change each image, and we still want them to be useful training images! Let's say you have a photo of a dog, and you scale it to be 1000x bigger and crop the middle out. You'd have just an image of fur - this would not be very useful as a training example on how to classify dogs. So we want to change factors about the images but not so much that they are no longer recognizable as the original object."
      ]
    },
    {
      "cell_type": "code",
      "execution_count": 6,
      "metadata": {
        "cellView": "form",
        "execution": {},
        "id": "6EnF60uzdVbh",
        "outputId": "331b1c1e-8db9-4b6b-ee80-7d7c614c5207",
        "colab": {
          "base_uri": "https://localhost:8080/",
          "height": 582,
          "referenced_widgets": [
            "2602060642c847e0a3b6ef00ff4e7360",
            "67d96fc43e0a4efc8fcca33b5459e1b3",
            "9393decdfba9422d85106616662a9219",
            "1b88baec12ce4e5f8e0f7dd44867d9f6",
            "a8c1ce7c433049cca41826411f698607",
            "be24558f809144a099dc8519a49c89e7"
          ]
        }
      },
      "outputs": [
        {
          "output_type": "display_data",
          "data": {
            "text/plain": [
              "Tab(children=(Output(), Output()), _titles={'0': 'Youtube', '1': 'Bilibili'})"
            ],
            "application/vnd.jupyter.widget-view+json": {
              "version_major": 2,
              "version_minor": 0,
              "model_id": "2602060642c847e0a3b6ef00ff4e7360"
            }
          },
          "metadata": {}
        }
      ],
      "source": [
        "# @title Video 3: Getting More Data Wrap-up\n",
        "from ipywidgets import widgets\n",
        "\n",
        "out2 = widgets.Output()\n",
        "with out2:\n",
        "  from IPython.display import IFrame\n",
        "  class BiliVideo(IFrame):\n",
        "    def __init__(self, id, page=1, width=400, height=300, **kwargs):\n",
        "      self.id=id\n",
        "      src = \"https://player.bilibili.com/player.html?bvid={0}&page={1}\".format(id, page)\n",
        "      super(BiliVideo, self).__init__(src, width, height, **kwargs)\n",
        "\n",
        "  video = BiliVideo(id=f\"\", width=854, height=480, fs=1)\n",
        "  print(\"Video available at https://www.bilibili.com/video/{0}\".format(video.id))\n",
        "  display(video)\n",
        "\n",
        "out1 = widgets.Output()\n",
        "with out1:\n",
        "  from IPython.display import YouTubeVideo\n",
        "  video = YouTubeVideo(id=f\"GcGJNF-wIb0\", width=854, height=480, fs=1, rel=0)\n",
        "  print(\"Video available at https://youtube.com/watch?v=\" + video.id)\n",
        "  display(video)\n",
        "\n",
        "out = widgets.Tab([out1, out2])\n",
        "out.set_title(0, 'Youtube')\n",
        "out.set_title(1, 'Bilibili')\n",
        "\n",
        "# add event to airtable\n",
        "atform.add_event('Video 3: Getting More Data Wrap-up')\n",
        "\n",
        "display(out)"
      ]
    },
    {
      "cell_type": "markdown",
      "metadata": {
        "execution": {},
        "id": "N-jzlL_cdVbi"
      },
      "source": [
        "Check out the papers mentioned in the above video:\n",
        "\n",
        "- [The Effects of Regularization and Data Augmentation are Class Dependent ](https://arxiv.org/abs/2204.03632#:~:text=The%20Effects%20of%20Regularization%20and%20Data%20Augmentation%20are%20Class%20Dependent,-Randall%20Balestriero%2C%20Leon&text=Abstract%3A%20Regularization%20is%20a%20fundamental,by%20constraining%20a%20model's%20complexity)\n"
      ]
    },
    {
      "cell_type": "markdown",
      "metadata": {
        "execution": {},
        "id": "aBXfLyVHdVbi"
      },
      "source": [
        "## (Bonus) Think!: Class-based strategies \n",
        "\n",
        "Discuss how you may want to vary these strategies based on the class of the object/images."
      ]
    },
    {
      "cell_type": "markdown",
      "metadata": {
        "execution": {},
        "id": "WgsppHWLdVbj"
      },
      "source": [
        "---\n",
        "# Section 3: Detecting Tumors - what to do if there still isn't enough data"
      ]
    },
    {
      "cell_type": "code",
      "execution_count": 7,
      "metadata": {
        "cellView": "form",
        "execution": {},
        "id": "JBlfO2ySdVbj",
        "outputId": "7abdfe28-0d8c-479d-8e63-db0fcaa4b557",
        "colab": {
          "base_uri": "https://localhost:8080/",
          "height": 582,
          "referenced_widgets": [
            "474981815cbc47439fe159577ab5b2fe",
            "0c508c2c967748dbb5b51e1778d914dc",
            "e900a0bad7e8429ab23ffedfca644763",
            "d698bf53c66342b8b78b12982e5cdc78",
            "1ea7ec42591f4dc0b9d08fc45b6d3810",
            "4433e000ebb24a60afefdca840a98768"
          ]
        }
      },
      "outputs": [
        {
          "output_type": "display_data",
          "data": {
            "text/plain": [
              "Tab(children=(Output(), Output()), _titles={'0': 'Youtube', '1': 'Bilibili'})"
            ],
            "application/vnd.jupyter.widget-view+json": {
              "version_major": 2,
              "version_minor": 0,
              "model_id": "474981815cbc47439fe159577ab5b2fe"
            }
          },
          "metadata": {}
        }
      ],
      "source": [
        "# @title Video 4: Detecting Tumors Vignette\n",
        "from ipywidgets import widgets\n",
        "\n",
        "out2 = widgets.Output()\n",
        "with out2:\n",
        "  from IPython.display import IFrame\n",
        "  class BiliVideo(IFrame):\n",
        "    def __init__(self, id, page=1, width=400, height=300, **kwargs):\n",
        "      self.id=id\n",
        "      src = \"https://player.bilibili.com/player.html?bvid={0}&page={1}\".format(id, page)\n",
        "      super(BiliVideo, self).__init__(src, width, height, **kwargs)\n",
        "\n",
        "  video = BiliVideo(id=f\"\", width=854, height=480, fs=1)\n",
        "  print(\"Video available at https://www.bilibili.com/video/{0}\".format(video.id))\n",
        "  display(video)\n",
        "\n",
        "out1 = widgets.Output()\n",
        "with out1:\n",
        "  from IPython.display import YouTubeVideo\n",
        "  video = YouTubeVideo(id=f\"NqEseCqmI_o\", width=854, height=480, fs=1, rel=0)\n",
        "  print(\"Video available at https://youtube.com/watch?v=\" + video.id)\n",
        "  display(video)\n",
        "\n",
        "out = widgets.Tab([out1, out2])\n",
        "out.set_title(0, 'Youtube')\n",
        "out.set_title(1, 'Bilibili')\n",
        "\n",
        "# add event to airtable\n",
        "atform.add_event('Video 4: Detecting Tumors Vignette')\n",
        "\n",
        "display(out)"
      ]
    },
    {
      "cell_type": "code",
      "execution_count": 8,
      "metadata": {
        "cellView": "form",
        "execution": {},
        "id": "n7mpxdMHdVbj",
        "outputId": "8eb08eb7-6e31-40ef-9e07-b8b87559b3cb",
        "colab": {
          "base_uri": "https://localhost:8080/",
          "height": 582,
          "referenced_widgets": [
            "10fc87aa45654d168d9d5d8da4019af6",
            "40eaf8ab731f4c1a992fa60faa1a025e",
            "f1c85c8efd11484f960b265110db4432",
            "f77ca80bd81142d4a814abac9c187533",
            "dc46dabb3dd94c40bd43760b6027b5bc",
            "0d2da687d237469d896b51aedcdee9a7"
          ]
        }
      },
      "outputs": [
        {
          "output_type": "display_data",
          "data": {
            "text/plain": [
              "Tab(children=(Output(), Output()), _titles={'0': 'Youtube', '1': 'Bilibili'})"
            ],
            "application/vnd.jupyter.widget-view+json": {
              "version_major": 2,
              "version_minor": 0,
              "model_id": "10fc87aa45654d168d9d5d8da4019af6"
            }
          },
          "metadata": {}
        }
      ],
      "source": [
        "# @title Video 5: Detecting Tumors Set-up\n",
        "from ipywidgets import widgets\n",
        "\n",
        "out2 = widgets.Output()\n",
        "with out2:\n",
        "  from IPython.display import IFrame\n",
        "  class BiliVideo(IFrame):\n",
        "    def __init__(self, id, page=1, width=400, height=300, **kwargs):\n",
        "      self.id=id\n",
        "      src = \"https://player.bilibili.com/player.html?bvid={0}&page={1}\".format(id, page)\n",
        "      super(BiliVideo, self).__init__(src, width, height, **kwargs)\n",
        "\n",
        "  video = BiliVideo(id=f\"\", width=854, height=480, fs=1)\n",
        "  print(\"Video available at https://www.bilibili.com/video/{0}\".format(video.id))\n",
        "  display(video)\n",
        "\n",
        "out1 = widgets.Output()\n",
        "with out1:\n",
        "  from IPython.display import YouTubeVideo\n",
        "  video = YouTubeVideo(id=f\"0UZ2qia2pG4\", width=854, height=480, fs=1, rel=0)\n",
        "  print(\"Video available at https://youtube.com/watch?v=\" + video.id)\n",
        "  display(video)\n",
        "\n",
        "out = widgets.Tab([out1, out2])\n",
        "out.set_title(0, 'Youtube')\n",
        "out.set_title(1, 'Bilibili')\n",
        "\n",
        "# add event to airtable\n",
        "atform.add_event('Video 5: Detecting Tumors Set-up')\n",
        "\n",
        "display(out)"
      ]
    },
    {
      "cell_type": "markdown",
      "metadata": {
        "execution": {},
        "id": "5loNh2nidVbk"
      },
      "source": [
        "Konrad works for a hospital and wants to train a neural network to detect tumors in brain scans automatically. This type of tumor is pretty rare, which is great for humanity but means we only have a few thousand training examples for our neural network. This isn't enough. \n",
        "\n",
        "Even with adding in images of other types of tumors, we don't have enough data. We have a lot of images of other things in ImageNet, like cats and dogs, though! Maybe we can use that?"
      ]
    },
    {
      "cell_type": "markdown",
      "metadata": {
        "execution": {},
        "id": "uOpCupafdVbk"
      },
      "source": [
        "## Think! 2: Designing a strategy for detecting tumors \n",
        "\n",
        "Given everything you know, how would you design a strategy to be able to train an accurate tumor-detecting neural network? Be specific & write down a procedure.\n",
        "\n",
        "Please discuss as a group. If you get stuck, you can uncover the hints below one at a time. Please spend some time discussing before uncovering the next hint, though! You are being real deep learning scientists now, and the answers won't be easy."
      ]
    },
    {
      "cell_type": "code",
      "source": [
        "# @title Student Response\n",
        "from ipywidgets import widgets\n",
        "\n",
        "\n",
        "text=widgets.Textarea(\n",
        "   value='Type your answer here and click on `Submit!`',\n",
        "   placeholder='Type something',\n",
        "   description='',\n",
        "   disabled=False\n",
        ")\n",
        "\n",
        "button = widgets.Button(description=\"Submit!\")\n",
        "\n",
        "display(text,button)\n",
        "\n",
        "def on_button_clicked(b):\n",
        "   atform.add_answer('q2' , text.value)\n",
        "   print(\"Submission successful!\")\n",
        "\n",
        "\n",
        "button.on_click(on_button_clicked)"
      ],
      "metadata": {
        "cellView": "form",
        "id": "jLwLPT-Cd0Yp",
        "outputId": "c8ce54f1-f322-4d88-996d-68f6f2288e9a",
        "colab": {
          "base_uri": "https://localhost:8080/",
          "height": 93,
          "referenced_widgets": [
            "6d8fcb174f3342cd966d66e5a8fbee94",
            "035d28566d2a471191e477e4f35e65a7",
            "d5ded4ca29c741c0aa0608c81a38ab25",
            "0c412541c408403b8b723fec461c2d6f",
            "e7a5bcea11cd454b98c10c28a7486f3c",
            "863fe1c8ab49401c83a1a9f7cdca8636"
          ]
        }
      },
      "execution_count": 9,
      "outputs": [
        {
          "output_type": "display_data",
          "data": {
            "text/plain": [
              "Textarea(value='Type your answer here and click on `Submit!`', placeholder='Type something')"
            ],
            "application/vnd.jupyter.widget-view+json": {
              "version_major": 2,
              "version_minor": 0,
              "model_id": "6d8fcb174f3342cd966d66e5a8fbee94"
            }
          },
          "metadata": {}
        },
        {
          "output_type": "display_data",
          "data": {
            "text/plain": [
              "Button(description='Submit!', style=ButtonStyle())"
            ],
            "application/vnd.jupyter.widget-view+json": {
              "version_major": 2,
              "version_minor": 0,
              "model_id": "0c412541c408403b8b723fec461c2d6f"
            }
          },
          "metadata": {}
        }
      ]
    },
    {
      "cell_type": "markdown",
      "metadata": {
        "execution": {},
        "id": "k2jjm23ddVbk"
      },
      "source": [
        "<details>\n",
        "<summary> <font color='green'>Click here for hint 1 </font></summary>\n",
        "\n",
        "Data augmentation is always something to consider"
      ]
    },
    {
      "cell_type": "markdown",
      "metadata": {
        "execution": {},
        "id": "szJw7hqhdVbl"
      },
      "source": [
        "<details>\n",
        "<summary> <font color='green'>Click here for hint 2</font></summary>\n",
        "\n",
        "A human learning to detect tumors is not learning how to see from scratch just based on the tumor images."
      ]
    },
    {
      "cell_type": "markdown",
      "metadata": {
        "execution": {},
        "id": "7VemwENmdVbl"
      },
      "source": [
        "<details>\n",
        "<summary> <font color='green'>Click here for hint 3</font></summary>\n",
        "\n",
        "\n",
        "You could use another dataset to help. What properties should such a dataset have?\n",
        "\n"
      ]
    },
    {
      "cell_type": "markdown",
      "metadata": {
        "execution": {},
        "id": "WB4-2sd3dVbl"
      },
      "source": [
        "<details>\n",
        "<summary> <font color='green'>Click here for hint 4</font></summary>\n",
        "\n",
        "Even though the images in ImageNet are not of tumors, natural images contain information on aspects of visual objects that are similar to tumors (that they're coherent, locally smooth, etc)\n",
        "\n",
        "\n",
        "If you train a neural network on ImageNet first so that it learns general vision and embeddings of images, what might you want to change when training on the tumor images dataset?"
      ]
    },
    {
      "cell_type": "markdown",
      "metadata": {
        "execution": {},
        "id": "iKn-nisTdVbl"
      },
      "source": [
        "<details>\n",
        "<summary> <font color='green'>Click here for solution</font></summary>\n",
        "\n",
        "Humans don't learn to see when they learn a new classification task. We already have a trained visual system that is good at processing and learning embeddings for natural images.\n",
        "\n",
        "We can replicate this in neural networks! First, we can train our neural network on ImageNet alone to do object classification. This gives us a neural network that has already learned how to process and embed images. \n",
        "\n",
        "Then, we want to take this neural network and continue to train it on just the tumor classification dataset. We can chop off the existing final layer (that outputs the probabilities of all the ImageNet classes) and train a new one that outputs the probability of there being a tumor in the image. \n",
        "\n",
        "We could keep all the weights in the convolutional layers fixed, not allowing them to change after the ImageNet training or *fine-tune* them. People take both strategies!\n",
        "\n",
        "This whole process is called pre-training. We have pre-trained the neural network on ImageNet before training on our actual task, the detection of tumors. \n",
        "\n",
        "We should mention here that there are many ways of doing this. Train the whole network after training on a first task. Train the top layers after training the bottom layers. Potentially first do the latter and then the former. Pre-training can be done in many ways - looking for it as an opportunity is important."
      ]
    },
    {
      "cell_type": "code",
      "execution_count": 10,
      "metadata": {
        "cellView": "form",
        "execution": {},
        "id": "4gZgRHYUdVbm",
        "outputId": "9e3d8aec-55d8-4ab5-99f3-e4b4616e9ee0",
        "colab": {
          "base_uri": "https://localhost:8080/",
          "height": 582,
          "referenced_widgets": [
            "16768c9687f542d4a50c9f1d3d3b74f2",
            "c477fced95ce4702866b0e180365fb4e",
            "92d87cee3b444da38a6f15d1f7d07f88",
            "e4d493f7263b42a5ad6865974177332f",
            "a381eae910c94018a9022a43ff2cae8a",
            "903aaea1ab0b4072869589d68561da5b"
          ]
        }
      },
      "outputs": [
        {
          "output_type": "display_data",
          "data": {
            "text/plain": [
              "Tab(children=(Output(), Output()), _titles={'0': 'Youtube', '1': 'Bilibili'})"
            ],
            "application/vnd.jupyter.widget-view+json": {
              "version_major": 2,
              "version_minor": 0,
              "model_id": "16768c9687f542d4a50c9f1d3d3b74f2"
            }
          },
          "metadata": {}
        }
      ],
      "source": [
        "# @title Video 6: Detecting Tumors Wrap-up\n",
        "from ipywidgets import widgets\n",
        "\n",
        "out2 = widgets.Output()\n",
        "with out2:\n",
        "  from IPython.display import IFrame\n",
        "  class BiliVideo(IFrame):\n",
        "    def __init__(self, id, page=1, width=400, height=300, **kwargs):\n",
        "      self.id=id\n",
        "      src = \"https://player.bilibili.com/player.html?bvid={0}&page={1}\".format(id, page)\n",
        "      super(BiliVideo, self).__init__(src, width, height, **kwargs)\n",
        "\n",
        "  video = BiliVideo(id=f\"\", width=854, height=480, fs=1)\n",
        "  print(\"Video available at https://www.bilibili.com/video/{0}\".format(video.id))\n",
        "  display(video)\n",
        "\n",
        "out1 = widgets.Output()\n",
        "with out1:\n",
        "  from IPython.display import YouTubeVideo\n",
        "  video = YouTubeVideo(id=f\"fAD2Bo49LgE\", width=854, height=480, fs=1, rel=0)\n",
        "  print(\"Video available at https://youtube.com/watch?v=\" + video.id)\n",
        "  display(video)\n",
        "\n",
        "out = widgets.Tab([out1, out2])\n",
        "out.set_title(0, 'Youtube')\n",
        "out.set_title(1, 'Bilibili')\n",
        "\n",
        "# add event to airtable\n",
        "atform.add_event('Video 6: Detecting Tumors Wrap-up')\n",
        "\n",
        "display(out)"
      ]
    },
    {
      "cell_type": "markdown",
      "metadata": {
        "execution": {},
        "id": "DX_JkY0QdVbo"
      },
      "source": [
        "Check out the papers mentioned in the above video:\n",
        "\n",
        "- [Human-computer collaboration for skin cancer recognition ](https://www.nature.com/articles/s41591-020-0942-0)"
      ]
    },
    {
      "cell_type": "markdown",
      "metadata": {
        "execution": {},
        "id": "RQJtCMF6dVbo"
      },
      "source": [
        "---\n",
        "# Section 4: Brains on Forrest Gump"
      ]
    },
    {
      "cell_type": "code",
      "execution_count": 11,
      "metadata": {
        "cellView": "form",
        "execution": {},
        "id": "N7rmJCWDdVbo",
        "outputId": "71f205bb-221a-4c66-c621-8695cef4b7df",
        "colab": {
          "base_uri": "https://localhost:8080/",
          "height": 582,
          "referenced_widgets": [
            "aea8ddfae57f48d9ac6f5e8e9d99c952",
            "0a2fbe536002433784702d844e3f3f07",
            "5406180454354c96ad06f4b3f8e90b51",
            "1867e982bfb44225b1c156c41a3b5ae3",
            "f77e5fab7e684770b4e67f8585f5d8d2",
            "31f6ed7978484e05810349f4beb778c7"
          ]
        }
      },
      "outputs": [
        {
          "output_type": "display_data",
          "data": {
            "text/plain": [
              "Tab(children=(Output(), Output()), _titles={'0': 'Youtube', '1': 'Bilibili'})"
            ],
            "application/vnd.jupyter.widget-view+json": {
              "version_major": 2,
              "version_minor": 0,
              "model_id": "aea8ddfae57f48d9ac6f5e8e9d99c952"
            }
          },
          "metadata": {}
        }
      ],
      "source": [
        "# @title Video 7: Brains on Forrest Gump Vignette\n",
        "from ipywidgets import widgets\n",
        "\n",
        "out2 = widgets.Output()\n",
        "with out2:\n",
        "  from IPython.display import IFrame\n",
        "  class BiliVideo(IFrame):\n",
        "    def __init__(self, id, page=1, width=400, height=300, **kwargs):\n",
        "      self.id=id\n",
        "      src = \"https://player.bilibili.com/player.html?bvid={0}&page={1}\".format(id, page)\n",
        "      super(BiliVideo, self).__init__(src, width, height, **kwargs)\n",
        "\n",
        "  video = BiliVideo(id=f\"\", width=854, height=480, fs=1)\n",
        "  print(\"Video available at https://www.bilibili.com/video/{0}\".format(video.id))\n",
        "  display(video)\n",
        "\n",
        "out1 = widgets.Output()\n",
        "with out1:\n",
        "  from IPython.display import YouTubeVideo\n",
        "  video = YouTubeVideo(id=f\"R7H4ybe7gck\", width=854, height=480, fs=1, rel=0)\n",
        "  print(\"Video available at https://youtube.com/watch?v=\" + video.id)\n",
        "  display(video)\n",
        "\n",
        "out = widgets.Tab([out1, out2])\n",
        "out.set_title(0, 'Youtube')\n",
        "out.set_title(1, 'Bilibili')\n",
        "\n",
        "# add event to airtable\n",
        "atform.add_event('Video 7: Brains on Forrest Gump Vignette')\n",
        "\n",
        "display(out)"
      ]
    },
    {
      "cell_type": "code",
      "execution_count": 12,
      "metadata": {
        "cellView": "form",
        "execution": {},
        "id": "82nUwJsrdVbp",
        "outputId": "e10e440a-1a20-4cde-90c1-fd9deaf32fe9",
        "colab": {
          "base_uri": "https://localhost:8080/",
          "height": 582,
          "referenced_widgets": [
            "926f6c65591e4fa1b2abbfe625697f41",
            "a697c0dd3f7248cd9032304d37f9b4c0",
            "b0461a8aa04846279393b119a91ab2b6",
            "5a1fbee19e0b4b63b3e1d66f9fd2bd06",
            "387cd1364b694de5b33d19ff634c359f",
            "4fd946e7b2a5409c9e21a18161a70f5d"
          ]
        }
      },
      "outputs": [
        {
          "output_type": "display_data",
          "data": {
            "text/plain": [
              "Tab(children=(Output(), Output()), _titles={'0': 'Youtube', '1': 'Bilibili'})"
            ],
            "application/vnd.jupyter.widget-view+json": {
              "version_major": 2,
              "version_minor": 0,
              "model_id": "926f6c65591e4fa1b2abbfe625697f41"
            }
          },
          "metadata": {}
        }
      ],
      "source": [
        "# @title Video 8:  Brains on Forrest Gump Set-up\n",
        "from ipywidgets import widgets\n",
        "\n",
        "out2 = widgets.Output()\n",
        "with out2:\n",
        "  from IPython.display import IFrame\n",
        "  class BiliVideo(IFrame):\n",
        "    def __init__(self, id, page=1, width=400, height=300, **kwargs):\n",
        "      self.id=id\n",
        "      src = \"https://player.bilibili.com/player.html?bvid={0}&page={1}\".format(id, page)\n",
        "      super(BiliVideo, self).__init__(src, width, height, **kwargs)\n",
        "\n",
        "  video = BiliVideo(id=f\"\", width=854, height=480, fs=1)\n",
        "  print(\"Video available at https://www.bilibili.com/video/{0}\".format(video.id))\n",
        "  display(video)\n",
        "\n",
        "out1 = widgets.Output()\n",
        "with out1:\n",
        "  from IPython.display import YouTubeVideo\n",
        "  video = YouTubeVideo(id=f\"TcBNbGez5BY\", width=854, height=480, fs=1, rel=0)\n",
        "  print(\"Video available at https://youtube.com/watch?v=\" + video.id)\n",
        "  display(video)\n",
        "\n",
        "out = widgets.Tab([out1, out2])\n",
        "out.set_title(0, 'Youtube')\n",
        "out.set_title(1, 'Bilibili')\n",
        "\n",
        "# add event to airtable\n",
        "atform.add_event('Video 8:  Brains on Forrest Gump Set-up')\n",
        "\n",
        "display(out)"
      ]
    },
    {
      "cell_type": "markdown",
      "metadata": {
        "execution": {},
        "id": "x1rHu301dVbq"
      },
      "source": [
        "Konrad has a great dataset - he has someone watching all of the movie Forrest Gump and MRI data (brain imaging) over the whole time the person is watching the movie. So, basically, he has the video stream over time and the brain data over time. He wants to figure out what those two data streams have in common. In other words, he wants to pull the shared information from two data modalities.\n",
        "\n"
      ]
    },
    {
      "cell_type": "markdown",
      "metadata": {
        "execution": {},
        "id": "IG4wXbqbdVbq"
      },
      "source": [
        "## Think! 3: Designing a strategy for pulling shared info about brain data and Forrest Gump\n",
        "\n",
        "Given everything you know, how would you design a strategy to get a shared embedding for the brain and video data? Be specific & write down a procedure.\n",
        "\n",
        "\n",
        "Please discuss as a group. If you get stuck, you can uncover the hints below one at a time. Please spend some time discussing before uncovering the next hint though! You are being real deep learning scientists now and the answers won't be easy"
      ]
    },
    {
      "cell_type": "code",
      "source": [
        "# @title Student Response\n",
        "from ipywidgets import widgets\n",
        "\n",
        "\n",
        "text=widgets.Textarea(\n",
        "   value='Type your answer here and click on `Submit!`',\n",
        "   placeholder='Type something',\n",
        "   description='',\n",
        "   disabled=False\n",
        ")\n",
        "\n",
        "button = widgets.Button(description=\"Submit!\")\n",
        "\n",
        "display(text,button)\n",
        "\n",
        "def on_button_clicked(b):\n",
        "   atform.add_answer('q3' , text.value)\n",
        "   print(\"Submission successful!\")\n",
        "\n",
        "\n",
        "button.on_click(on_button_clicked)"
      ],
      "metadata": {
        "cellView": "form",
        "id": "M5EeIhHfd2vU",
        "outputId": "d6557bf5-d5f9-4a4a-bcb3-b59a21cc3e9f",
        "colab": {
          "base_uri": "https://localhost:8080/",
          "height": 93,
          "referenced_widgets": [
            "a69bce99fb6746108a3d1294bb463fc0",
            "7ba0bfc5d209408e92f8d2b9efe05f22",
            "f90fa20fe62c49d39172a540a40fe346",
            "f6b537994c2448138c86433ac2439546",
            "77cf37b74644472eae4c7199273029b2",
            "5199def60a3b4d868013cd60171993da"
          ]
        }
      },
      "execution_count": 13,
      "outputs": [
        {
          "output_type": "display_data",
          "data": {
            "text/plain": [
              "Textarea(value='Type your answer here and click on `Submit!`', placeholder='Type something')"
            ],
            "application/vnd.jupyter.widget-view+json": {
              "version_major": 2,
              "version_minor": 0,
              "model_id": "a69bce99fb6746108a3d1294bb463fc0"
            }
          },
          "metadata": {}
        },
        {
          "output_type": "display_data",
          "data": {
            "text/plain": [
              "Button(description='Submit!', style=ButtonStyle())"
            ],
            "application/vnd.jupyter.widget-view+json": {
              "version_major": 2,
              "version_minor": 0,
              "model_id": "f6b537994c2448138c86433ac2439546"
            }
          },
          "metadata": {}
        }
      ]
    },
    {
      "cell_type": "markdown",
      "metadata": {
        "execution": {},
        "id": "AWa4mVkmdVbr"
      },
      "source": [
        "<details>\n",
        "<summary> <font color='green'>Click here for hint 1 </font></summary>\n",
        "\n",
        "We want the two datasets to share something. What does that mean? \n"
      ]
    },
    {
      "cell_type": "markdown",
      "metadata": {
        "execution": {},
        "id": "LX5-4_aqdVbr"
      },
      "source": [
        "<details>\n",
        "<summary> <font color='green'>Click here for hint 2 </font></summary>\n",
        "\n",
        "Where could the vectors $\\bar{X}_1$ and $\\bar{X}_2$ come from? How could they relate to the brain data and video data?\n"
      ]
    },
    {
      "cell_type": "markdown",
      "metadata": {
        "execution": {},
        "id": "e-QSiNTSdVbr"
      },
      "source": [
        "<details>\n",
        "<summary> <font color='green'>Click here for hint 3 </font></summary>\n",
        "\n",
        "You may want to use more than one neural network!"
      ]
    },
    {
      "cell_type": "markdown",
      "metadata": {
        "execution": {},
        "id": "UOkajR12dVbs"
      },
      "source": [
        "<details>\n",
        "<summary> <font color='green'>Click here for hint 4 </font></summary>\n",
        "\n",
        "What do we want our neural network solution to do here? Is there anything you want it to maximize or minimize?"
      ]
    },
    {
      "cell_type": "markdown",
      "metadata": {
        "execution": {},
        "id": "YYIqNusBdVbs"
      },
      "source": [
        "<details>\n",
        "<summary> <font color='green'>Click here for hint 5 </font></summary>\n",
        "\n",
        "What happens if we multiply all activities by 2? We need a scale invariant solution."
      ]
    },
    {
      "cell_type": "code",
      "execution_count": 14,
      "metadata": {
        "cellView": "form",
        "execution": {},
        "id": "eUrlFkHEdVbs",
        "outputId": "039f760f-e78f-4451-982b-662b9f9c5b26",
        "colab": {
          "base_uri": "https://localhost:8080/",
          "height": 582,
          "referenced_widgets": [
            "f928c458c0124c64ae59b57a9bdcbd0c",
            "378bc8ecc70342f89d922efcd9230897",
            "a1893aa292ac4bffaa69efca003b75e6",
            "f17aca5afdfd4abba8ea06f873fbebc0",
            "601858720c9744f8b4003acfbed488de",
            "cb316749c749498e968fd880e5fa78e5"
          ]
        }
      },
      "outputs": [
        {
          "output_type": "display_data",
          "data": {
            "text/plain": [
              "Tab(children=(Output(), Output()), _titles={'0': 'Youtube', '1': 'Bilibili'})"
            ],
            "application/vnd.jupyter.widget-view+json": {
              "version_major": 2,
              "version_minor": 0,
              "model_id": "f928c458c0124c64ae59b57a9bdcbd0c"
            }
          },
          "metadata": {}
        }
      ],
      "source": [
        "# @title Video 9: Brains on Forrest Gump Wrap-up\n",
        "from ipywidgets import widgets\n",
        "\n",
        "out2 = widgets.Output()\n",
        "with out2:\n",
        "  from IPython.display import IFrame\n",
        "  class BiliVideo(IFrame):\n",
        "    def __init__(self, id, page=1, width=400, height=300, **kwargs):\n",
        "      self.id=id\n",
        "      src = \"https://player.bilibili.com/player.html?bvid={0}&page={1}\".format(id, page)\n",
        "      super(BiliVideo, self).__init__(src, width, height, **kwargs)\n",
        "\n",
        "  video = BiliVideo(id=f\"\", width=854, height=480, fs=1)\n",
        "  print(\"Video available at https://www.bilibili.com/video/{0}\".format(video.id))\n",
        "  display(video)\n",
        "\n",
        "out1 = widgets.Output()\n",
        "with out1:\n",
        "  from IPython.display import YouTubeVideo\n",
        "  video = YouTubeVideo(id=f\"5rp9utqRvWY\", width=854, height=480, fs=1, rel=0)\n",
        "  print(\"Video available at https://youtube.com/watch?v=\" + video.id)\n",
        "  display(video)\n",
        "\n",
        "out = widgets.Tab([out1, out2])\n",
        "out.set_title(0, 'Youtube')\n",
        "out.set_title(1, 'Bilibili')\n",
        "\n",
        "# add event to airtable\n",
        "atform.add_event('Video 9: Brains on Forrest Gump Wrap-up')\n",
        "\n",
        "display(out)"
      ]
    },
    {
      "cell_type": "markdown",
      "metadata": {
        "execution": {},
        "id": "4ZwdboNhdVbt"
      },
      "source": [
        "Check out the papers mentioned in the above video:\n",
        "\n",
        "- [Deep Canonical Correlation Analysis ](https://proceedings.mlr.press/v28/andrew13.html)"
      ]
    },
    {
      "cell_type": "markdown",
      "metadata": {
        "execution": {},
        "id": "8CFHDy8odVbt"
      },
      "source": [
        "---\n",
        "# Summary"
      ]
    },
    {
      "cell_type": "code",
      "execution_count": 15,
      "metadata": {
        "cellView": "form",
        "execution": {},
        "id": "C-QDciS3dVbu",
        "outputId": "308393af-f16c-4ac6-bd8a-74ede3373c9b",
        "colab": {
          "base_uri": "https://localhost:8080/",
          "height": 582,
          "referenced_widgets": [
            "968b4d7cfa9d45ef8c806f5be7ea37eb",
            "5fd9ef3ccbae44e5bb46d2997ed9b8ac",
            "239a1faa116c4a839d95b009ea579d9a",
            "08c9504013874b75a7dca797382a1205",
            "29e37f1240da4768a868202182674fa6",
            "66e0748c1c0d4613ad2a795dce48ebac"
          ]
        }
      },
      "outputs": [
        {
          "output_type": "display_data",
          "data": {
            "text/plain": [
              "Tab(children=(Output(), Output()), _titles={'0': 'Youtube', '1': 'Bilibili'})"
            ],
            "application/vnd.jupyter.widget-view+json": {
              "version_major": 2,
              "version_minor": 0,
              "model_id": "968b4d7cfa9d45ef8c806f5be7ea37eb"
            }
          },
          "metadata": {}
        }
      ],
      "source": [
        "# @title Video 10: Wrap up of DL thinking\n",
        "from ipywidgets import widgets\n",
        "\n",
        "out2 = widgets.Output()\n",
        "with out2:\n",
        "  from IPython.display import IFrame\n",
        "  class BiliVideo(IFrame):\n",
        "    def __init__(self, id, page=1, width=400, height=300, **kwargs):\n",
        "      self.id=id\n",
        "      src = \"https://player.bilibili.com/player.html?bvid={0}&page={1}\".format(id, page)\n",
        "      super(BiliVideo, self).__init__(src, width, height, **kwargs)\n",
        "\n",
        "  video = BiliVideo(id=f\"\", width=854, height=480, fs=1)\n",
        "  print(\"Video available at https://www.bilibili.com/video/{0}\".format(video.id))\n",
        "  display(video)\n",
        "\n",
        "out1 = widgets.Output()\n",
        "with out1:\n",
        "  from IPython.display import YouTubeVideo\n",
        "  video = YouTubeVideo(id=f\"p9vQLAfrYJQ\", width=854, height=480, fs=1, rel=0)\n",
        "  print(\"Video available at https://youtube.com/watch?v=\" + video.id)\n",
        "  display(video)\n",
        "\n",
        "out = widgets.Tab([out1, out2])\n",
        "out.set_title(0, 'Youtube')\n",
        "out.set_title(1, 'Bilibili')\n",
        "\n",
        "# add event to airtable\n",
        "atform.add_event('Video 10: Wrap up of DL thinking')\n",
        "\n",
        "display(out)"
      ]
    },
    {
      "cell_type": "markdown",
      "metadata": {
        "execution": {},
        "id": "e8vqJCEfdVbu"
      },
      "source": [
        "In this set of DL Thinks, we saw several tricks on how to do well when there is very limited data we saw:\n",
        "* data augmentation\n",
        "* pretraining\n",
        "* CCA\n",
        "\n",
        "All three can be used in cases where there is limited data available. All three also teach us how the relevant information may be quite clear once we think about it. And how ideas about the world translate into approaches in deep learning."
      ]
    },
    {
      "cell_type": "code",
      "source": [
        "# @title Airtable Submission Link\n",
        "from IPython import display as IPydisplay\n",
        "IPydisplay.HTML(\n",
        "   f\"\"\"\n",
        " <div>\n",
        "   <a href= \"{atform.url()}\" target=\"_blank\">\n",
        "   <img src=\"https://github.com/NeuromatchAcademy/course-content-dl/blob/main/tutorials/static/SurveyButton.png?raw=1\"\n",
        " alt=\"button link end of day Survey\" style=\"width:410px\"></a>\n",
        "   </div>\"\"\" )"
      ],
      "metadata": {
        "cellView": "form",
        "id": "YkC085Lkd4J8",
        "outputId": "2e8ece9c-d2db-4155-e067-2afb1b4bf3cd",
        "colab": {
          "base_uri": "https://localhost:8080/",
          "height": 160
        }
      },
      "execution_count": 16,
      "outputs": [
        {
          "output_type": "execute_result",
          "data": {
            "text/plain": [
              "<IPython.core.display.HTML object>"
            ],
            "text/html": [
              "\n",
              " <div>\n",
              "   <a href= \"https://portal.neuromatchacademy.org/api/redirect/to/e1f5e678-eaf8-4c24-9018-d758b50314d5?data=eyJmb3JtX2lkIjogImFwcG43VmRQUnNlU29NWEVHIiwgInRhYmxlX25hbWUiOiAiVzNEMl9UMSIsICJhbnN3ZXJzIjoge30sICJldmVudHMiOiBbeyJldmVudCI6ICJpbml0IiwgInRzIjogMTY1NzIyODA4NS42MjY3NjQ4fSwgeyJldmVudCI6ICJWaWRlbyAxOiBJbnRybyB0byBETCBUaGlua2luZyAyIiwgInRzIjogMTY1NzIyODA4NS44MDI1NjYzfSwgeyJldmVudCI6ICJWaWRlbyAyOiBHZXR0aW5nIE1vcmUgRGF0YSBWaWduZXR0ZSIsICJ0cyI6IDE2NTcyMjgwODUuOTU4OTQyN30sIHsiZXZlbnQiOiAiVmlkZW8gMzogR2V0dGluZyBNb3JlIERhdGEgV3JhcC11cCIsICJ0cyI6IDE2NTcyMjgwODYuMTg5OTY1NX0sIHsiZXZlbnQiOiAiVmlkZW8gNDogRGV0ZWN0aW5nIFR1bW9ycyBWaWduZXR0ZSIsICJ0cyI6IDE2NTcyMjgwODYuMzU1NzczN30sIHsiZXZlbnQiOiAiVmlkZW8gNTogRGV0ZWN0aW5nIFR1bW9ycyBTZXQtdXAiLCAidHMiOiAxNjU3MjI4MDg2LjU0MjU5Njh9LCB7ImV2ZW50IjogIlZpZGVvIDY6IERldGVjdGluZyBUdW1vcnMgV3JhcC11cCIsICJ0cyI6IDE2NTcyMjgwODYuODA4NDgxNX0sIHsiZXZlbnQiOiAiVmlkZW8gNzogQnJhaW5zIG9uIEZvcnJlc3QgR3VtcCBWaWduZXR0ZSIsICJ0cyI6IDE2NTcyMjgwODcuMDA1NDk5MX0sIHsiZXZlbnQiOiAiVmlkZW8gODogIEJyYWlucyBvbiBGb3JyZXN0IEd1bXAgU2V0LXVwIiwgInRzIjogMTY1NzIyODA4Ny4yMDcwNzV9LCB7ImV2ZW50IjogIlZpZGVvIDk6IEJyYWlucyBvbiBGb3JyZXN0IEd1bXAgV3JhcC11cCIsICJ0cyI6IDE2NTcyMjgwODcuNDQ4NDk0Mn0sIHsiZXZlbnQiOiAiVmlkZW8gMTA6IFdyYXAgdXAgb2YgREwgdGhpbmtpbmciLCAidHMiOiAxNjU3MjI4MDg3LjYxNTc1OTR9LCB7ImV2ZW50IjogInVybCBnZW5lcmF0ZWQiLCAidHMiOiAxNjU3MjI4MDg3LjYzNjk1Mjl9XX0%3D\" target=\"_blank\">\n",
              "   <img src=\"https://github.com/NeuromatchAcademy/course-content-dl/blob/main/tutorials/static/SurveyButton.png?raw=1\"\n",
              " alt=\"button link end of day Survey\" style=\"width:410px\"></a>\n",
              "   </div>"
            ]
          },
          "metadata": {},
          "execution_count": 16
        }
      ]
    }
  ],
  "metadata": {
    "colab": {
      "collapsed_sections": [],
      "name": "W3D2_Tutorial1",
      "provenance": [],
      "toc_visible": true,
      "include_colab_link": true
    },
    "kernel": {
      "display_name": "Python 3",
      "language": "python",
      "name": "python3"
    },
    "kernelspec": {
      "display_name": "Python 3",
      "name": "python3"
    },
    "language_info": {
      "name": "python"
    },
    "widgets": {
      "application/vnd.jupyter.widget-state+json": {
        "620a0d8f8e884d21be401d2810030bc8": {
          "model_module": "@jupyter-widgets/controls",
          "model_name": "TabModel",
          "model_module_version": "1.5.0",
          "state": {
            "_dom_classes": [],
            "_model_module": "@jupyter-widgets/controls",
            "_model_module_version": "1.5.0",
            "_model_name": "TabModel",
            "_titles": {
              "0": "Youtube",
              "1": "Bilibili"
            },
            "_view_count": null,
            "_view_module": "@jupyter-widgets/controls",
            "_view_module_version": "1.5.0",
            "_view_name": "TabView",
            "box_style": "",
            "children": [
              "IPY_MODEL_83909d482b6f44688c8f133483c62e3a",
              "IPY_MODEL_36c1301b0d8a44638c42a8e5dc005df4"
            ],
            "layout": "IPY_MODEL_86dc6581f0d04652bf7470ba1e5134fc",
            "selected_index": 0
          }
        },
        "83909d482b6f44688c8f133483c62e3a": {
          "model_module": "@jupyter-widgets/output",
          "model_name": "OutputModel",
          "model_module_version": "1.0.0",
          "state": {
            "_dom_classes": [],
            "_model_module": "@jupyter-widgets/output",
            "_model_module_version": "1.0.0",
            "_model_name": "OutputModel",
            "_view_count": null,
            "_view_module": "@jupyter-widgets/output",
            "_view_module_version": "1.0.0",
            "_view_name": "OutputView",
            "layout": "IPY_MODEL_7eac3fa86f58467e8903671d2ec769e2",
            "msg_id": "",
            "outputs": [
              {
                "output_type": "stream",
                "name": "stdout",
                "text": [
                  "Video available at https://youtube.com/watch?v=I0PNDBF0Sxg\n"
                ]
              },
              {
                "output_type": "display_data",
                "data": {
                  "text/plain": "<IPython.lib.display.YouTubeVideo at 0x7fcfc04bf390>",
                  "text/html": "\n        <iframe\n            width=\"854\"\n            height=\"480\"\n            src=\"https://www.youtube.com/embed/I0PNDBF0Sxg?fs=1&rel=0\"\n            frameborder=\"0\"\n            allowfullscreen\n        ></iframe>\n        ",
                  "image/jpeg": "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\n"
                },
                "metadata": {}
              }
            ]
          }
        },
        "36c1301b0d8a44638c42a8e5dc005df4": {
          "model_module": "@jupyter-widgets/output",
          "model_name": "OutputModel",
          "model_module_version": "1.0.0",
          "state": {
            "_dom_classes": [],
            "_model_module": "@jupyter-widgets/output",
            "_model_module_version": "1.0.0",
            "_model_name": "OutputModel",
            "_view_count": null,
            "_view_module": "@jupyter-widgets/output",
            "_view_module_version": "1.0.0",
            "_view_name": "OutputView",
            "layout": "IPY_MODEL_a43451df76d44205998bd81c86c9a432",
            "msg_id": "",
            "outputs": [
              {
                "output_type": "stream",
                "name": "stdout",
                "text": [
                  "Video available at https://www.bilibili.com/video/\n"
                ]
              },
              {
                "output_type": "display_data",
                "data": {
                  "text/plain": "<__main__.BiliVideo at 0x7fcfc04c3210>",
                  "text/html": "\n        <iframe\n            width=\"854\"\n            height=\"480\"\n            src=\"https://player.bilibili.com/player.html?bvid=&page=1?fs=1\"\n            frameborder=\"0\"\n            allowfullscreen\n        ></iframe>\n        "
                },
                "metadata": {}
              }
            ]
          }
        },
        "86dc6581f0d04652bf7470ba1e5134fc": {
          "model_module": "@jupyter-widgets/base",
          "model_name": "LayoutModel",
          "model_module_version": "1.2.0",
          "state": {
            "_model_module": "@jupyter-widgets/base",
            "_model_module_version": "1.2.0",
            "_model_name": "LayoutModel",
            "_view_count": null,
            "_view_module": "@jupyter-widgets/base",
            "_view_module_version": "1.2.0",
            "_view_name": "LayoutView",
            "align_content": null,
            "align_items": null,
            "align_self": null,
            "border": null,
            "bottom": null,
            "display": null,
            "flex": null,
            "flex_flow": null,
            "grid_area": null,
            "grid_auto_columns": null,
            "grid_auto_flow": null,
            "grid_auto_rows": null,
            "grid_column": null,
            "grid_gap": null,
            "grid_row": null,
            "grid_template_areas": null,
            "grid_template_columns": null,
            "grid_template_rows": null,
            "height": null,
            "justify_content": null,
            "justify_items": null,
            "left": null,
            "margin": null,
            "max_height": null,
            "max_width": null,
            "min_height": null,
            "min_width": null,
            "object_fit": null,
            "object_position": null,
            "order": null,
            "overflow": null,
            "overflow_x": null,
            "overflow_y": null,
            "padding": null,
            "right": null,
            "top": null,
            "visibility": null,
            "width": null
          }
        },
        "7eac3fa86f58467e8903671d2ec769e2": {
          "model_module": "@jupyter-widgets/base",
          "model_name": "LayoutModel",
          "model_module_version": "1.2.0",
          "state": {
            "_model_module": "@jupyter-widgets/base",
            "_model_module_version": "1.2.0",
            "_model_name": "LayoutModel",
            "_view_count": null,
            "_view_module": "@jupyter-widgets/base",
            "_view_module_version": "1.2.0",
            "_view_name": "LayoutView",
            "align_content": null,
            "align_items": null,
            "align_self": null,
            "border": null,
            "bottom": null,
            "display": null,
            "flex": null,
            "flex_flow": null,
            "grid_area": null,
            "grid_auto_columns": null,
            "grid_auto_flow": null,
            "grid_auto_rows": null,
            "grid_column": null,
            "grid_gap": null,
            "grid_row": null,
            "grid_template_areas": null,
            "grid_template_columns": null,
            "grid_template_rows": null,
            "height": null,
            "justify_content": null,
            "justify_items": null,
            "left": null,
            "margin": null,
            "max_height": null,
            "max_width": null,
            "min_height": null,
            "min_width": null,
            "object_fit": null,
            "object_position": null,
            "order": null,
            "overflow": null,
            "overflow_x": null,
            "overflow_y": null,
            "padding": null,
            "right": null,
            "top": null,
            "visibility": null,
            "width": null
          }
        },
        "a43451df76d44205998bd81c86c9a432": {
          "model_module": "@jupyter-widgets/base",
          "model_name": "LayoutModel",
          "model_module_version": "1.2.0",
          "state": {
            "_model_module": "@jupyter-widgets/base",
            "_model_module_version": "1.2.0",
            "_model_name": "LayoutModel",
            "_view_count": null,
            "_view_module": "@jupyter-widgets/base",
            "_view_module_version": "1.2.0",
            "_view_name": "LayoutView",
            "align_content": null,
            "align_items": null,
            "align_self": null,
            "border": null,
            "bottom": null,
            "display": null,
            "flex": null,
            "flex_flow": null,
            "grid_area": null,
            "grid_auto_columns": null,
            "grid_auto_flow": null,
            "grid_auto_rows": null,
            "grid_column": null,
            "grid_gap": null,
            "grid_row": null,
            "grid_template_areas": null,
            "grid_template_columns": null,
            "grid_template_rows": null,
            "height": null,
            "justify_content": null,
            "justify_items": null,
            "left": null,
            "margin": null,
            "max_height": null,
            "max_width": null,
            "min_height": null,
            "min_width": null,
            "object_fit": null,
            "object_position": null,
            "order": null,
            "overflow": null,
            "overflow_x": null,
            "overflow_y": null,
            "padding": null,
            "right": null,
            "top": null,
            "visibility": null,
            "width": null
          }
        },
        "ccfd31be6f814fca8430fc30b82404ed": {
          "model_module": "@jupyter-widgets/controls",
          "model_name": "TabModel",
          "model_module_version": "1.5.0",
          "state": {
            "_dom_classes": [],
            "_model_module": "@jupyter-widgets/controls",
            "_model_module_version": "1.5.0",
            "_model_name": "TabModel",
            "_titles": {
              "0": "Youtube",
              "1": "Bilibili"
            },
            "_view_count": null,
            "_view_module": "@jupyter-widgets/controls",
            "_view_module_version": "1.5.0",
            "_view_name": "TabView",
            "box_style": "",
            "children": [
              "IPY_MODEL_dd1615091321409a8a3c0933c19b0ff1",
              "IPY_MODEL_757fd616555a4e71a7ab2f45b9d10698"
            ],
            "layout": "IPY_MODEL_cff6e546f31640c0b985d6c6edaf73ce",
            "selected_index": 0
          }
        },
        "dd1615091321409a8a3c0933c19b0ff1": {
          "model_module": "@jupyter-widgets/output",
          "model_name": "OutputModel",
          "model_module_version": "1.0.0",
          "state": {
            "_dom_classes": [],
            "_model_module": "@jupyter-widgets/output",
            "_model_module_version": "1.0.0",
            "_model_name": "OutputModel",
            "_view_count": null,
            "_view_module": "@jupyter-widgets/output",
            "_view_module_version": "1.0.0",
            "_view_name": "OutputView",
            "layout": "IPY_MODEL_baf9c52cf2874ac5856e1caf542a5cc4",
            "msg_id": "",
            "outputs": [
              {
                "output_type": "stream",
                "name": "stdout",
                "text": [
                  "Video available at https://youtube.com/watch?v=Gswf3m0lAro\n"
                ]
              },
              {
                "output_type": "display_data",
                "data": {
                  "text/plain": "<IPython.lib.display.YouTubeVideo at 0x7fcfc04aded0>",
                  "text/html": "\n        <iframe\n            width=\"854\"\n            height=\"480\"\n            src=\"https://www.youtube.com/embed/Gswf3m0lAro?fs=1&rel=0\"\n            frameborder=\"0\"\n            allowfullscreen\n        ></iframe>\n        ",
                  "image/jpeg": "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\n"
                },
                "metadata": {}
              }
            ]
          }
        },
        "757fd616555a4e71a7ab2f45b9d10698": {
          "model_module": "@jupyter-widgets/output",
          "model_name": "OutputModel",
          "model_module_version": "1.0.0",
          "state": {
            "_dom_classes": [],
            "_model_module": "@jupyter-widgets/output",
            "_model_module_version": "1.0.0",
            "_model_name": "OutputModel",
            "_view_count": null,
            "_view_module": "@jupyter-widgets/output",
            "_view_module_version": "1.0.0",
            "_view_name": "OutputView",
            "layout": "IPY_MODEL_d5c303404dfd4c36a578125795be761e",
            "msg_id": "",
            "outputs": [
              {
                "output_type": "stream",
                "name": "stdout",
                "text": [
                  "Video available at https://www.bilibili.com/video/\n"
                ]
              },
              {
                "output_type": "display_data",
                "data": {
                  "text/plain": "<__main__.BiliVideo at 0x7fcfa7c74f10>",
                  "text/html": "\n        <iframe\n            width=\"854\"\n            height=\"480\"\n            src=\"https://player.bilibili.com/player.html?bvid=&page=1?fs=1\"\n            frameborder=\"0\"\n            allowfullscreen\n        ></iframe>\n        "
                },
                "metadata": {}
              }
            ]
          }
        },
        "cff6e546f31640c0b985d6c6edaf73ce": {
          "model_module": "@jupyter-widgets/base",
          "model_name": "LayoutModel",
          "model_module_version": "1.2.0",
          "state": {
            "_model_module": "@jupyter-widgets/base",
            "_model_module_version": "1.2.0",
            "_model_name": "LayoutModel",
            "_view_count": null,
            "_view_module": "@jupyter-widgets/base",
            "_view_module_version": "1.2.0",
            "_view_name": "LayoutView",
            "align_content": null,
            "align_items": null,
            "align_self": null,
            "border": null,
            "bottom": null,
            "display": null,
            "flex": null,
            "flex_flow": null,
            "grid_area": null,
            "grid_auto_columns": null,
            "grid_auto_flow": null,
            "grid_auto_rows": null,
            "grid_column": null,
            "grid_gap": null,
            "grid_row": null,
            "grid_template_areas": null,
            "grid_template_columns": null,
            "grid_template_rows": null,
            "height": null,
            "justify_content": null,
            "justify_items": null,
            "left": null,
            "margin": null,
            "max_height": null,
            "max_width": null,
            "min_height": null,
            "min_width": null,
            "object_fit": null,
            "object_position": null,
            "order": null,
            "overflow": null,
            "overflow_x": null,
            "overflow_y": null,
            "padding": null,
            "right": null,
            "top": null,
            "visibility": null,
            "width": null
          }
        },
        "baf9c52cf2874ac5856e1caf542a5cc4": {
          "model_module": "@jupyter-widgets/base",
          "model_name": "LayoutModel",
          "model_module_version": "1.2.0",
          "state": {
            "_model_module": "@jupyter-widgets/base",
            "_model_module_version": "1.2.0",
            "_model_name": "LayoutModel",
            "_view_count": null,
            "_view_module": "@jupyter-widgets/base",
            "_view_module_version": "1.2.0",
            "_view_name": "LayoutView",
            "align_content": null,
            "align_items": null,
            "align_self": null,
            "border": null,
            "bottom": null,
            "display": null,
            "flex": null,
            "flex_flow": null,
            "grid_area": null,
            "grid_auto_columns": null,
            "grid_auto_flow": null,
            "grid_auto_rows": null,
            "grid_column": null,
            "grid_gap": null,
            "grid_row": null,
            "grid_template_areas": null,
            "grid_template_columns": null,
            "grid_template_rows": null,
            "height": null,
            "justify_content": null,
            "justify_items": null,
            "left": null,
            "margin": null,
            "max_height": null,
            "max_width": null,
            "min_height": null,
            "min_width": null,
            "object_fit": null,
            "object_position": null,
            "order": null,
            "overflow": null,
            "overflow_x": null,
            "overflow_y": null,
            "padding": null,
            "right": null,
            "top": null,
            "visibility": null,
            "width": null
          }
        },
        "d5c303404dfd4c36a578125795be761e": {
          "model_module": "@jupyter-widgets/base",
          "model_name": "LayoutModel",
          "model_module_version": "1.2.0",
          "state": {
            "_model_module": "@jupyter-widgets/base",
            "_model_module_version": "1.2.0",
            "_model_name": "LayoutModel",
            "_view_count": null,
            "_view_module": "@jupyter-widgets/base",
            "_view_module_version": "1.2.0",
            "_view_name": "LayoutView",
            "align_content": null,
            "align_items": null,
            "align_self": null,
            "border": null,
            "bottom": null,
            "display": null,
            "flex": null,
            "flex_flow": null,
            "grid_area": null,
            "grid_auto_columns": null,
            "grid_auto_flow": null,
            "grid_auto_rows": null,
            "grid_column": null,
            "grid_gap": null,
            "grid_row": null,
            "grid_template_areas": null,
            "grid_template_columns": null,
            "grid_template_rows": null,
            "height": null,
            "justify_content": null,
            "justify_items": null,
            "left": null,
            "margin": null,
            "max_height": null,
            "max_width": null,
            "min_height": null,
            "min_width": null,
            "object_fit": null,
            "object_position": null,
            "order": null,
            "overflow": null,
            "overflow_x": null,
            "overflow_y": null,
            "padding": null,
            "right": null,
            "top": null,
            "visibility": null,
            "width": null
          }
        },
        "e3fcaf096f3942b2ac964b6fe523e048": {
          "model_module": "@jupyter-widgets/controls",
          "model_name": "TextareaModel",
          "model_module_version": "1.5.0",
          "state": {
            "_dom_classes": [],
            "_model_module": "@jupyter-widgets/controls",
            "_model_module_version": "1.5.0",
            "_model_name": "TextareaModel",
            "_view_count": null,
            "_view_module": "@jupyter-widgets/controls",
            "_view_module_version": "1.5.0",
            "_view_name": "TextareaView",
            "continuous_update": true,
            "description": "",
            "description_tooltip": null,
            "disabled": false,
            "layout": "IPY_MODEL_ec8f255cc3db4827a2ba3b225e9741f9",
            "placeholder": "Type something",
            "rows": null,
            "style": "IPY_MODEL_54126334a3ed4d5f9bda710f27bf7847",
            "value": "Type your answer here and click on `Submit!`"
          }
        },
        "ec8f255cc3db4827a2ba3b225e9741f9": {
          "model_module": "@jupyter-widgets/base",
          "model_name": "LayoutModel",
          "model_module_version": "1.2.0",
          "state": {
            "_model_module": "@jupyter-widgets/base",
            "_model_module_version": "1.2.0",
            "_model_name": "LayoutModel",
            "_view_count": null,
            "_view_module": "@jupyter-widgets/base",
            "_view_module_version": "1.2.0",
            "_view_name": "LayoutView",
            "align_content": null,
            "align_items": null,
            "align_self": null,
            "border": null,
            "bottom": null,
            "display": null,
            "flex": null,
            "flex_flow": null,
            "grid_area": null,
            "grid_auto_columns": null,
            "grid_auto_flow": null,
            "grid_auto_rows": null,
            "grid_column": null,
            "grid_gap": null,
            "grid_row": null,
            "grid_template_areas": null,
            "grid_template_columns": null,
            "grid_template_rows": null,
            "height": null,
            "justify_content": null,
            "justify_items": null,
            "left": null,
            "margin": null,
            "max_height": null,
            "max_width": null,
            "min_height": null,
            "min_width": null,
            "object_fit": null,
            "object_position": null,
            "order": null,
            "overflow": null,
            "overflow_x": null,
            "overflow_y": null,
            "padding": null,
            "right": null,
            "top": null,
            "visibility": null,
            "width": null
          }
        },
        "54126334a3ed4d5f9bda710f27bf7847": {
          "model_module": "@jupyter-widgets/controls",
          "model_name": "DescriptionStyleModel",
          "model_module_version": "1.5.0",
          "state": {
            "_model_module": "@jupyter-widgets/controls",
            "_model_module_version": "1.5.0",
            "_model_name": "DescriptionStyleModel",
            "_view_count": null,
            "_view_module": "@jupyter-widgets/base",
            "_view_module_version": "1.2.0",
            "_view_name": "StyleView",
            "description_width": ""
          }
        },
        "00e2fe0ed07b4eeba048011b5cfd3319": {
          "model_module": "@jupyter-widgets/controls",
          "model_name": "ButtonModel",
          "model_module_version": "1.5.0",
          "state": {
            "_dom_classes": [],
            "_model_module": "@jupyter-widgets/controls",
            "_model_module_version": "1.5.0",
            "_model_name": "ButtonModel",
            "_view_count": null,
            "_view_module": "@jupyter-widgets/controls",
            "_view_module_version": "1.5.0",
            "_view_name": "ButtonView",
            "button_style": "",
            "description": "Submit!",
            "disabled": false,
            "icon": "",
            "layout": "IPY_MODEL_c832924c0a56456bbfcfd849e76e1734",
            "style": "IPY_MODEL_05b6ad5113564787a5ce168979731fae",
            "tooltip": ""
          }
        },
        "c832924c0a56456bbfcfd849e76e1734": {
          "model_module": "@jupyter-widgets/base",
          "model_name": "LayoutModel",
          "model_module_version": "1.2.0",
          "state": {
            "_model_module": "@jupyter-widgets/base",
            "_model_module_version": "1.2.0",
            "_model_name": "LayoutModel",
            "_view_count": null,
            "_view_module": "@jupyter-widgets/base",
            "_view_module_version": "1.2.0",
            "_view_name": "LayoutView",
            "align_content": null,
            "align_items": null,
            "align_self": null,
            "border": null,
            "bottom": null,
            "display": null,
            "flex": null,
            "flex_flow": null,
            "grid_area": null,
            "grid_auto_columns": null,
            "grid_auto_flow": null,
            "grid_auto_rows": null,
            "grid_column": null,
            "grid_gap": null,
            "grid_row": null,
            "grid_template_areas": null,
            "grid_template_columns": null,
            "grid_template_rows": null,
            "height": null,
            "justify_content": null,
            "justify_items": null,
            "left": null,
            "margin": null,
            "max_height": null,
            "max_width": null,
            "min_height": null,
            "min_width": null,
            "object_fit": null,
            "object_position": null,
            "order": null,
            "overflow": null,
            "overflow_x": null,
            "overflow_y": null,
            "padding": null,
            "right": null,
            "top": null,
            "visibility": null,
            "width": null
          }
        },
        "05b6ad5113564787a5ce168979731fae": {
          "model_module": "@jupyter-widgets/controls",
          "model_name": "ButtonStyleModel",
          "model_module_version": "1.5.0",
          "state": {
            "_model_module": "@jupyter-widgets/controls",
            "_model_module_version": "1.5.0",
            "_model_name": "ButtonStyleModel",
            "_view_count": null,
            "_view_module": "@jupyter-widgets/base",
            "_view_module_version": "1.2.0",
            "_view_name": "StyleView",
            "button_color": null,
            "font_weight": ""
          }
        },
        "2602060642c847e0a3b6ef00ff4e7360": {
          "model_module": "@jupyter-widgets/controls",
          "model_name": "TabModel",
          "model_module_version": "1.5.0",
          "state": {
            "_dom_classes": [],
            "_model_module": "@jupyter-widgets/controls",
            "_model_module_version": "1.5.0",
            "_model_name": "TabModel",
            "_titles": {
              "0": "Youtube",
              "1": "Bilibili"
            },
            "_view_count": null,
            "_view_module": "@jupyter-widgets/controls",
            "_view_module_version": "1.5.0",
            "_view_name": "TabView",
            "box_style": "",
            "children": [
              "IPY_MODEL_67d96fc43e0a4efc8fcca33b5459e1b3",
              "IPY_MODEL_9393decdfba9422d85106616662a9219"
            ],
            "layout": "IPY_MODEL_1b88baec12ce4e5f8e0f7dd44867d9f6",
            "selected_index": 0
          }
        },
        "67d96fc43e0a4efc8fcca33b5459e1b3": {
          "model_module": "@jupyter-widgets/output",
          "model_name": "OutputModel",
          "model_module_version": "1.0.0",
          "state": {
            "_dom_classes": [],
            "_model_module": "@jupyter-widgets/output",
            "_model_module_version": "1.0.0",
            "_model_name": "OutputModel",
            "_view_count": null,
            "_view_module": "@jupyter-widgets/output",
            "_view_module_version": "1.0.0",
            "_view_name": "OutputView",
            "layout": "IPY_MODEL_a8c1ce7c433049cca41826411f698607",
            "msg_id": "",
            "outputs": [
              {
                "output_type": "stream",
                "name": "stdout",
                "text": [
                  "Video available at https://youtube.com/watch?v=GcGJNF-wIb0\n"
                ]
              },
              {
                "output_type": "display_data",
                "data": {
                  "text/plain": "<IPython.lib.display.YouTubeVideo at 0x7fcfa780a450>",
                  "text/html": "\n        <iframe\n            width=\"854\"\n            height=\"480\"\n            src=\"https://www.youtube.com/embed/GcGJNF-wIb0?fs=1&rel=0\"\n            frameborder=\"0\"\n            allowfullscreen\n        ></iframe>\n        ",
                  "image/jpeg": "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\n"
                },
                "metadata": {}
              }
            ]
          }
        },
        "9393decdfba9422d85106616662a9219": {
          "model_module": "@jupyter-widgets/output",
          "model_name": "OutputModel",
          "model_module_version": "1.0.0",
          "state": {
            "_dom_classes": [],
            "_model_module": "@jupyter-widgets/output",
            "_model_module_version": "1.0.0",
            "_model_name": "OutputModel",
            "_view_count": null,
            "_view_module": "@jupyter-widgets/output",
            "_view_module_version": "1.0.0",
            "_view_name": "OutputView",
            "layout": "IPY_MODEL_be24558f809144a099dc8519a49c89e7",
            "msg_id": "",
            "outputs": [
              {
                "output_type": "stream",
                "name": "stdout",
                "text": [
                  "Video available at https://www.bilibili.com/video/\n"
                ]
              },
              {
                "output_type": "display_data",
                "data": {
                  "text/plain": "<__main__.BiliVideo at 0x7fcfc04ba850>",
                  "text/html": "\n        <iframe\n            width=\"854\"\n            height=\"480\"\n            src=\"https://player.bilibili.com/player.html?bvid=&page=1?fs=1\"\n            frameborder=\"0\"\n            allowfullscreen\n        ></iframe>\n        "
                },
                "metadata": {}
              }
            ]
          }
        },
        "1b88baec12ce4e5f8e0f7dd44867d9f6": {
          "model_module": "@jupyter-widgets/base",
          "model_name": "LayoutModel",
          "model_module_version": "1.2.0",
          "state": {
            "_model_module": "@jupyter-widgets/base",
            "_model_module_version": "1.2.0",
            "_model_name": "LayoutModel",
            "_view_count": null,
            "_view_module": "@jupyter-widgets/base",
            "_view_module_version": "1.2.0",
            "_view_name": "LayoutView",
            "align_content": null,
            "align_items": null,
            "align_self": null,
            "border": null,
            "bottom": null,
            "display": null,
            "flex": null,
            "flex_flow": null,
            "grid_area": null,
            "grid_auto_columns": null,
            "grid_auto_flow": null,
            "grid_auto_rows": null,
            "grid_column": null,
            "grid_gap": null,
            "grid_row": null,
            "grid_template_areas": null,
            "grid_template_columns": null,
            "grid_template_rows": null,
            "height": null,
            "justify_content": null,
            "justify_items": null,
            "left": null,
            "margin": null,
            "max_height": null,
            "max_width": null,
            "min_height": null,
            "min_width": null,
            "object_fit": null,
            "object_position": null,
            "order": null,
            "overflow": null,
            "overflow_x": null,
            "overflow_y": null,
            "padding": null,
            "right": null,
            "top": null,
            "visibility": null,
            "width": null
          }
        },
        "a8c1ce7c433049cca41826411f698607": {
          "model_module": "@jupyter-widgets/base",
          "model_name": "LayoutModel",
          "model_module_version": "1.2.0",
          "state": {
            "_model_module": "@jupyter-widgets/base",
            "_model_module_version": "1.2.0",
            "_model_name": "LayoutModel",
            "_view_count": null,
            "_view_module": "@jupyter-widgets/base",
            "_view_module_version": "1.2.0",
            "_view_name": "LayoutView",
            "align_content": null,
            "align_items": null,
            "align_self": null,
            "border": null,
            "bottom": null,
            "display": null,
            "flex": null,
            "flex_flow": null,
            "grid_area": null,
            "grid_auto_columns": null,
            "grid_auto_flow": null,
            "grid_auto_rows": null,
            "grid_column": null,
            "grid_gap": null,
            "grid_row": null,
            "grid_template_areas": null,
            "grid_template_columns": null,
            "grid_template_rows": null,
            "height": null,
            "justify_content": null,
            "justify_items": null,
            "left": null,
            "margin": null,
            "max_height": null,
            "max_width": null,
            "min_height": null,
            "min_width": null,
            "object_fit": null,
            "object_position": null,
            "order": null,
            "overflow": null,
            "overflow_x": null,
            "overflow_y": null,
            "padding": null,
            "right": null,
            "top": null,
            "visibility": null,
            "width": null
          }
        },
        "be24558f809144a099dc8519a49c89e7": {
          "model_module": "@jupyter-widgets/base",
          "model_name": "LayoutModel",
          "model_module_version": "1.2.0",
          "state": {
            "_model_module": "@jupyter-widgets/base",
            "_model_module_version": "1.2.0",
            "_model_name": "LayoutModel",
            "_view_count": null,
            "_view_module": "@jupyter-widgets/base",
            "_view_module_version": "1.2.0",
            "_view_name": "LayoutView",
            "align_content": null,
            "align_items": null,
            "align_self": null,
            "border": null,
            "bottom": null,
            "display": null,
            "flex": null,
            "flex_flow": null,
            "grid_area": null,
            "grid_auto_columns": null,
            "grid_auto_flow": null,
            "grid_auto_rows": null,
            "grid_column": null,
            "grid_gap": null,
            "grid_row": null,
            "grid_template_areas": null,
            "grid_template_columns": null,
            "grid_template_rows": null,
            "height": null,
            "justify_content": null,
            "justify_items": null,
            "left": null,
            "margin": null,
            "max_height": null,
            "max_width": null,
            "min_height": null,
            "min_width": null,
            "object_fit": null,
            "object_position": null,
            "order": null,
            "overflow": null,
            "overflow_x": null,
            "overflow_y": null,
            "padding": null,
            "right": null,
            "top": null,
            "visibility": null,
            "width": null
          }
        },
        "474981815cbc47439fe159577ab5b2fe": {
          "model_module": "@jupyter-widgets/controls",
          "model_name": "TabModel",
          "model_module_version": "1.5.0",
          "state": {
            "_dom_classes": [],
            "_model_module": "@jupyter-widgets/controls",
            "_model_module_version": "1.5.0",
            "_model_name": "TabModel",
            "_titles": {
              "0": "Youtube",
              "1": "Bilibili"
            },
            "_view_count": null,
            "_view_module": "@jupyter-widgets/controls",
            "_view_module_version": "1.5.0",
            "_view_name": "TabView",
            "box_style": "",
            "children": [
              "IPY_MODEL_0c508c2c967748dbb5b51e1778d914dc",
              "IPY_MODEL_e900a0bad7e8429ab23ffedfca644763"
            ],
            "layout": "IPY_MODEL_d698bf53c66342b8b78b12982e5cdc78",
            "selected_index": 0
          }
        },
        "0c508c2c967748dbb5b51e1778d914dc": {
          "model_module": "@jupyter-widgets/output",
          "model_name": "OutputModel",
          "model_module_version": "1.0.0",
          "state": {
            "_dom_classes": [],
            "_model_module": "@jupyter-widgets/output",
            "_model_module_version": "1.0.0",
            "_model_name": "OutputModel",
            "_view_count": null,
            "_view_module": "@jupyter-widgets/output",
            "_view_module_version": "1.0.0",
            "_view_name": "OutputView",
            "layout": "IPY_MODEL_1ea7ec42591f4dc0b9d08fc45b6d3810",
            "msg_id": "",
            "outputs": [
              {
                "output_type": "stream",
                "name": "stdout",
                "text": [
                  "Video available at https://youtube.com/watch?v=NqEseCqmI_o\n"
                ]
              },
              {
                "output_type": "display_data",
                "data": {
                  "text/plain": "<IPython.lib.display.YouTubeVideo at 0x7fcfa780a890>",
                  "text/html": "\n        <iframe\n            width=\"854\"\n            height=\"480\"\n            src=\"https://www.youtube.com/embed/NqEseCqmI_o?fs=1&rel=0\"\n            frameborder=\"0\"\n            allowfullscreen\n        ></iframe>\n        ",
                  "image/jpeg": "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\n"
                },
                "metadata": {}
              }
            ]
          }
        },
        "e900a0bad7e8429ab23ffedfca644763": {
          "model_module": "@jupyter-widgets/output",
          "model_name": "OutputModel",
          "model_module_version": "1.0.0",
          "state": {
            "_dom_classes": [],
            "_model_module": "@jupyter-widgets/output",
            "_model_module_version": "1.0.0",
            "_model_name": "OutputModel",
            "_view_count": null,
            "_view_module": "@jupyter-widgets/output",
            "_view_module_version": "1.0.0",
            "_view_name": "OutputView",
            "layout": "IPY_MODEL_4433e000ebb24a60afefdca840a98768",
            "msg_id": "",
            "outputs": [
              {
                "output_type": "stream",
                "name": "stdout",
                "text": [
                  "Video available at https://www.bilibili.com/video/\n"
                ]
              },
              {
                "output_type": "display_data",
                "data": {
                  "text/plain": "<__main__.BiliVideo at 0x7fcfa780af50>",
                  "text/html": "\n        <iframe\n            width=\"854\"\n            height=\"480\"\n            src=\"https://player.bilibili.com/player.html?bvid=&page=1?fs=1\"\n            frameborder=\"0\"\n            allowfullscreen\n        ></iframe>\n        "
                },
                "metadata": {}
              }
            ]
          }
        },
        "d698bf53c66342b8b78b12982e5cdc78": {
          "model_module": "@jupyter-widgets/base",
          "model_name": "LayoutModel",
          "model_module_version": "1.2.0",
          "state": {
            "_model_module": "@jupyter-widgets/base",
            "_model_module_version": "1.2.0",
            "_model_name": "LayoutModel",
            "_view_count": null,
            "_view_module": "@jupyter-widgets/base",
            "_view_module_version": "1.2.0",
            "_view_name": "LayoutView",
            "align_content": null,
            "align_items": null,
            "align_self": null,
            "border": null,
            "bottom": null,
            "display": null,
            "flex": null,
            "flex_flow": null,
            "grid_area": null,
            "grid_auto_columns": null,
            "grid_auto_flow": null,
            "grid_auto_rows": null,
            "grid_column": null,
            "grid_gap": null,
            "grid_row": null,
            "grid_template_areas": null,
            "grid_template_columns": null,
            "grid_template_rows": null,
            "height": null,
            "justify_content": null,
            "justify_items": null,
            "left": null,
            "margin": null,
            "max_height": null,
            "max_width": null,
            "min_height": null,
            "min_width": null,
            "object_fit": null,
            "object_position": null,
            "order": null,
            "overflow": null,
            "overflow_x": null,
            "overflow_y": null,
            "padding": null,
            "right": null,
            "top": null,
            "visibility": null,
            "width": null
          }
        },
        "1ea7ec42591f4dc0b9d08fc45b6d3810": {
          "model_module": "@jupyter-widgets/base",
          "model_name": "LayoutModel",
          "model_module_version": "1.2.0",
          "state": {
            "_model_module": "@jupyter-widgets/base",
            "_model_module_version": "1.2.0",
            "_model_name": "LayoutModel",
            "_view_count": null,
            "_view_module": "@jupyter-widgets/base",
            "_view_module_version": "1.2.0",
            "_view_name": "LayoutView",
            "align_content": null,
            "align_items": null,
            "align_self": null,
            "border": null,
            "bottom": null,
            "display": null,
            "flex": null,
            "flex_flow": null,
            "grid_area": null,
            "grid_auto_columns": null,
            "grid_auto_flow": null,
            "grid_auto_rows": null,
            "grid_column": null,
            "grid_gap": null,
            "grid_row": null,
            "grid_template_areas": null,
            "grid_template_columns": null,
            "grid_template_rows": null,
            "height": null,
            "justify_content": null,
            "justify_items": null,
            "left": null,
            "margin": null,
            "max_height": null,
            "max_width": null,
            "min_height": null,
            "min_width": null,
            "object_fit": null,
            "object_position": null,
            "order": null,
            "overflow": null,
            "overflow_x": null,
            "overflow_y": null,
            "padding": null,
            "right": null,
            "top": null,
            "visibility": null,
            "width": null
          }
        },
        "4433e000ebb24a60afefdca840a98768": {
          "model_module": "@jupyter-widgets/base",
          "model_name": "LayoutModel",
          "model_module_version": "1.2.0",
          "state": {
            "_model_module": "@jupyter-widgets/base",
            "_model_module_version": "1.2.0",
            "_model_name": "LayoutModel",
            "_view_count": null,
            "_view_module": "@jupyter-widgets/base",
            "_view_module_version": "1.2.0",
            "_view_name": "LayoutView",
            "align_content": null,
            "align_items": null,
            "align_self": null,
            "border": null,
            "bottom": null,
            "display": null,
            "flex": null,
            "flex_flow": null,
            "grid_area": null,
            "grid_auto_columns": null,
            "grid_auto_flow": null,
            "grid_auto_rows": null,
            "grid_column": null,
            "grid_gap": null,
            "grid_row": null,
            "grid_template_areas": null,
            "grid_template_columns": null,
            "grid_template_rows": null,
            "height": null,
            "justify_content": null,
            "justify_items": null,
            "left": null,
            "margin": null,
            "max_height": null,
            "max_width": null,
            "min_height": null,
            "min_width": null,
            "object_fit": null,
            "object_position": null,
            "order": null,
            "overflow": null,
            "overflow_x": null,
            "overflow_y": null,
            "padding": null,
            "right": null,
            "top": null,
            "visibility": null,
            "width": null
          }
        },
        "10fc87aa45654d168d9d5d8da4019af6": {
          "model_module": "@jupyter-widgets/controls",
          "model_name": "TabModel",
          "model_module_version": "1.5.0",
          "state": {
            "_dom_classes": [],
            "_model_module": "@jupyter-widgets/controls",
            "_model_module_version": "1.5.0",
            "_model_name": "TabModel",
            "_titles": {
              "0": "Youtube",
              "1": "Bilibili"
            },
            "_view_count": null,
            "_view_module": "@jupyter-widgets/controls",
            "_view_module_version": "1.5.0",
            "_view_name": "TabView",
            "box_style": "",
            "children": [
              "IPY_MODEL_40eaf8ab731f4c1a992fa60faa1a025e",
              "IPY_MODEL_f1c85c8efd11484f960b265110db4432"
            ],
            "layout": "IPY_MODEL_f77ca80bd81142d4a814abac9c187533",
            "selected_index": 0
          }
        },
        "40eaf8ab731f4c1a992fa60faa1a025e": {
          "model_module": "@jupyter-widgets/output",
          "model_name": "OutputModel",
          "model_module_version": "1.0.0",
          "state": {
            "_dom_classes": [],
            "_model_module": "@jupyter-widgets/output",
            "_model_module_version": "1.0.0",
            "_model_name": "OutputModel",
            "_view_count": null,
            "_view_module": "@jupyter-widgets/output",
            "_view_module_version": "1.0.0",
            "_view_name": "OutputView",
            "layout": "IPY_MODEL_dc46dabb3dd94c40bd43760b6027b5bc",
            "msg_id": "",
            "outputs": [
              {
                "output_type": "stream",
                "name": "stdout",
                "text": [
                  "Video available at https://youtube.com/watch?v=0UZ2qia2pG4\n"
                ]
              },
              {
                "output_type": "display_data",
                "data": {
                  "text/plain": "<IPython.lib.display.YouTubeVideo at 0x7fcfadeb0b50>",
                  "text/html": "\n        <iframe\n            width=\"854\"\n            height=\"480\"\n            src=\"https://www.youtube.com/embed/0UZ2qia2pG4?fs=1&rel=0\"\n            frameborder=\"0\"\n            allowfullscreen\n        ></iframe>\n        ",
                  "image/jpeg": "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\n"
                },
                "metadata": {}
              }
            ]
          }
        },
        "f1c85c8efd11484f960b265110db4432": {
          "model_module": "@jupyter-widgets/output",
          "model_name": "OutputModel",
          "model_module_version": "1.0.0",
          "state": {
            "_dom_classes": [],
            "_model_module": "@jupyter-widgets/output",
            "_model_module_version": "1.0.0",
            "_model_name": "OutputModel",
            "_view_count": null,
            "_view_module": "@jupyter-widgets/output",
            "_view_module_version": "1.0.0",
            "_view_name": "OutputView",
            "layout": "IPY_MODEL_0d2da687d237469d896b51aedcdee9a7",
            "msg_id": "",
            "outputs": [
              {
                "output_type": "stream",
                "name": "stdout",
                "text": [
                  "Video available at https://www.bilibili.com/video/\n"
                ]
              },
              {
                "output_type": "display_data",
                "data": {
                  "text/plain": "<__main__.BiliVideo at 0x7fcfabd58610>",
                  "text/html": "\n        <iframe\n            width=\"854\"\n            height=\"480\"\n            src=\"https://player.bilibili.com/player.html?bvid=&page=1?fs=1\"\n            frameborder=\"0\"\n            allowfullscreen\n        ></iframe>\n        "
                },
                "metadata": {}
              }
            ]
          }
        },
        "f77ca80bd81142d4a814abac9c187533": {
          "model_module": "@jupyter-widgets/base",
          "model_name": "LayoutModel",
          "model_module_version": "1.2.0",
          "state": {
            "_model_module": "@jupyter-widgets/base",
            "_model_module_version": "1.2.0",
            "_model_name": "LayoutModel",
            "_view_count": null,
            "_view_module": "@jupyter-widgets/base",
            "_view_module_version": "1.2.0",
            "_view_name": "LayoutView",
            "align_content": null,
            "align_items": null,
            "align_self": null,
            "border": null,
            "bottom": null,
            "display": null,
            "flex": null,
            "flex_flow": null,
            "grid_area": null,
            "grid_auto_columns": null,
            "grid_auto_flow": null,
            "grid_auto_rows": null,
            "grid_column": null,
            "grid_gap": null,
            "grid_row": null,
            "grid_template_areas": null,
            "grid_template_columns": null,
            "grid_template_rows": null,
            "height": null,
            "justify_content": null,
            "justify_items": null,
            "left": null,
            "margin": null,
            "max_height": null,
            "max_width": null,
            "min_height": null,
            "min_width": null,
            "object_fit": null,
            "object_position": null,
            "order": null,
            "overflow": null,
            "overflow_x": null,
            "overflow_y": null,
            "padding": null,
            "right": null,
            "top": null,
            "visibility": null,
            "width": null
          }
        },
        "dc46dabb3dd94c40bd43760b6027b5bc": {
          "model_module": "@jupyter-widgets/base",
          "model_name": "LayoutModel",
          "model_module_version": "1.2.0",
          "state": {
            "_model_module": "@jupyter-widgets/base",
            "_model_module_version": "1.2.0",
            "_model_name": "LayoutModel",
            "_view_count": null,
            "_view_module": "@jupyter-widgets/base",
            "_view_module_version": "1.2.0",
            "_view_name": "LayoutView",
            "align_content": null,
            "align_items": null,
            "align_self": null,
            "border": null,
            "bottom": null,
            "display": null,
            "flex": null,
            "flex_flow": null,
            "grid_area": null,
            "grid_auto_columns": null,
            "grid_auto_flow": null,
            "grid_auto_rows": null,
            "grid_column": null,
            "grid_gap": null,
            "grid_row": null,
            "grid_template_areas": null,
            "grid_template_columns": null,
            "grid_template_rows": null,
            "height": null,
            "justify_content": null,
            "justify_items": null,
            "left": null,
            "margin": null,
            "max_height": null,
            "max_width": null,
            "min_height": null,
            "min_width": null,
            "object_fit": null,
            "object_position": null,
            "order": null,
            "overflow": null,
            "overflow_x": null,
            "overflow_y": null,
            "padding": null,
            "right": null,
            "top": null,
            "visibility": null,
            "width": null
          }
        },
        "0d2da687d237469d896b51aedcdee9a7": {
          "model_module": "@jupyter-widgets/base",
          "model_name": "LayoutModel",
          "model_module_version": "1.2.0",
          "state": {
            "_model_module": "@jupyter-widgets/base",
            "_model_module_version": "1.2.0",
            "_model_name": "LayoutModel",
            "_view_count": null,
            "_view_module": "@jupyter-widgets/base",
            "_view_module_version": "1.2.0",
            "_view_name": "LayoutView",
            "align_content": null,
            "align_items": null,
            "align_self": null,
            "border": null,
            "bottom": null,
            "display": null,
            "flex": null,
            "flex_flow": null,
            "grid_area": null,
            "grid_auto_columns": null,
            "grid_auto_flow": null,
            "grid_auto_rows": null,
            "grid_column": null,
            "grid_gap": null,
            "grid_row": null,
            "grid_template_areas": null,
            "grid_template_columns": null,
            "grid_template_rows": null,
            "height": null,
            "justify_content": null,
            "justify_items": null,
            "left": null,
            "margin": null,
            "max_height": null,
            "max_width": null,
            "min_height": null,
            "min_width": null,
            "object_fit": null,
            "object_position": null,
            "order": null,
            "overflow": null,
            "overflow_x": null,
            "overflow_y": null,
            "padding": null,
            "right": null,
            "top": null,
            "visibility": null,
            "width": null
          }
        },
        "6d8fcb174f3342cd966d66e5a8fbee94": {
          "model_module": "@jupyter-widgets/controls",
          "model_name": "TextareaModel",
          "model_module_version": "1.5.0",
          "state": {
            "_dom_classes": [],
            "_model_module": "@jupyter-widgets/controls",
            "_model_module_version": "1.5.0",
            "_model_name": "TextareaModel",
            "_view_count": null,
            "_view_module": "@jupyter-widgets/controls",
            "_view_module_version": "1.5.0",
            "_view_name": "TextareaView",
            "continuous_update": true,
            "description": "",
            "description_tooltip": null,
            "disabled": false,
            "layout": "IPY_MODEL_035d28566d2a471191e477e4f35e65a7",
            "placeholder": "Type something",
            "rows": null,
            "style": "IPY_MODEL_d5ded4ca29c741c0aa0608c81a38ab25",
            "value": "Type your answer here and click on `Submit!`"
          }
        },
        "035d28566d2a471191e477e4f35e65a7": {
          "model_module": "@jupyter-widgets/base",
          "model_name": "LayoutModel",
          "model_module_version": "1.2.0",
          "state": {
            "_model_module": "@jupyter-widgets/base",
            "_model_module_version": "1.2.0",
            "_model_name": "LayoutModel",
            "_view_count": null,
            "_view_module": "@jupyter-widgets/base",
            "_view_module_version": "1.2.0",
            "_view_name": "LayoutView",
            "align_content": null,
            "align_items": null,
            "align_self": null,
            "border": null,
            "bottom": null,
            "display": null,
            "flex": null,
            "flex_flow": null,
            "grid_area": null,
            "grid_auto_columns": null,
            "grid_auto_flow": null,
            "grid_auto_rows": null,
            "grid_column": null,
            "grid_gap": null,
            "grid_row": null,
            "grid_template_areas": null,
            "grid_template_columns": null,
            "grid_template_rows": null,
            "height": null,
            "justify_content": null,
            "justify_items": null,
            "left": null,
            "margin": null,
            "max_height": null,
            "max_width": null,
            "min_height": null,
            "min_width": null,
            "object_fit": null,
            "object_position": null,
            "order": null,
            "overflow": null,
            "overflow_x": null,
            "overflow_y": null,
            "padding": null,
            "right": null,
            "top": null,
            "visibility": null,
            "width": null
          }
        },
        "d5ded4ca29c741c0aa0608c81a38ab25": {
          "model_module": "@jupyter-widgets/controls",
          "model_name": "DescriptionStyleModel",
          "model_module_version": "1.5.0",
          "state": {
            "_model_module": "@jupyter-widgets/controls",
            "_model_module_version": "1.5.0",
            "_model_name": "DescriptionStyleModel",
            "_view_count": null,
            "_view_module": "@jupyter-widgets/base",
            "_view_module_version": "1.2.0",
            "_view_name": "StyleView",
            "description_width": ""
          }
        },
        "0c412541c408403b8b723fec461c2d6f": {
          "model_module": "@jupyter-widgets/controls",
          "model_name": "ButtonModel",
          "model_module_version": "1.5.0",
          "state": {
            "_dom_classes": [],
            "_model_module": "@jupyter-widgets/controls",
            "_model_module_version": "1.5.0",
            "_model_name": "ButtonModel",
            "_view_count": null,
            "_view_module": "@jupyter-widgets/controls",
            "_view_module_version": "1.5.0",
            "_view_name": "ButtonView",
            "button_style": "",
            "description": "Submit!",
            "disabled": false,
            "icon": "",
            "layout": "IPY_MODEL_e7a5bcea11cd454b98c10c28a7486f3c",
            "style": "IPY_MODEL_863fe1c8ab49401c83a1a9f7cdca8636",
            "tooltip": ""
          }
        },
        "e7a5bcea11cd454b98c10c28a7486f3c": {
          "model_module": "@jupyter-widgets/base",
          "model_name": "LayoutModel",
          "model_module_version": "1.2.0",
          "state": {
            "_model_module": "@jupyter-widgets/base",
            "_model_module_version": "1.2.0",
            "_model_name": "LayoutModel",
            "_view_count": null,
            "_view_module": "@jupyter-widgets/base",
            "_view_module_version": "1.2.0",
            "_view_name": "LayoutView",
            "align_content": null,
            "align_items": null,
            "align_self": null,
            "border": null,
            "bottom": null,
            "display": null,
            "flex": null,
            "flex_flow": null,
            "grid_area": null,
            "grid_auto_columns": null,
            "grid_auto_flow": null,
            "grid_auto_rows": null,
            "grid_column": null,
            "grid_gap": null,
            "grid_row": null,
            "grid_template_areas": null,
            "grid_template_columns": null,
            "grid_template_rows": null,
            "height": null,
            "justify_content": null,
            "justify_items": null,
            "left": null,
            "margin": null,
            "max_height": null,
            "max_width": null,
            "min_height": null,
            "min_width": null,
            "object_fit": null,
            "object_position": null,
            "order": null,
            "overflow": null,
            "overflow_x": null,
            "overflow_y": null,
            "padding": null,
            "right": null,
            "top": null,
            "visibility": null,
            "width": null
          }
        },
        "863fe1c8ab49401c83a1a9f7cdca8636": {
          "model_module": "@jupyter-widgets/controls",
          "model_name": "ButtonStyleModel",
          "model_module_version": "1.5.0",
          "state": {
            "_model_module": "@jupyter-widgets/controls",
            "_model_module_version": "1.5.0",
            "_model_name": "ButtonStyleModel",
            "_view_count": null,
            "_view_module": "@jupyter-widgets/base",
            "_view_module_version": "1.2.0",
            "_view_name": "StyleView",
            "button_color": null,
            "font_weight": ""
          }
        },
        "16768c9687f542d4a50c9f1d3d3b74f2": {
          "model_module": "@jupyter-widgets/controls",
          "model_name": "TabModel",
          "model_module_version": "1.5.0",
          "state": {
            "_dom_classes": [],
            "_model_module": "@jupyter-widgets/controls",
            "_model_module_version": "1.5.0",
            "_model_name": "TabModel",
            "_titles": {
              "0": "Youtube",
              "1": "Bilibili"
            },
            "_view_count": null,
            "_view_module": "@jupyter-widgets/controls",
            "_view_module_version": "1.5.0",
            "_view_name": "TabView",
            "box_style": "",
            "children": [
              "IPY_MODEL_c477fced95ce4702866b0e180365fb4e",
              "IPY_MODEL_92d87cee3b444da38a6f15d1f7d07f88"
            ],
            "layout": "IPY_MODEL_e4d493f7263b42a5ad6865974177332f",
            "selected_index": 0
          }
        },
        "c477fced95ce4702866b0e180365fb4e": {
          "model_module": "@jupyter-widgets/output",
          "model_name": "OutputModel",
          "model_module_version": "1.0.0",
          "state": {
            "_dom_classes": [],
            "_model_module": "@jupyter-widgets/output",
            "_model_module_version": "1.0.0",
            "_model_name": "OutputModel",
            "_view_count": null,
            "_view_module": "@jupyter-widgets/output",
            "_view_module_version": "1.0.0",
            "_view_name": "OutputView",
            "layout": "IPY_MODEL_a381eae910c94018a9022a43ff2cae8a",
            "msg_id": "",
            "outputs": [
              {
                "output_type": "stream",
                "name": "stdout",
                "text": [
                  "Video available at https://youtube.com/watch?v=fAD2Bo49LgE\n"
                ]
              },
              {
                "output_type": "display_data",
                "data": {
                  "text/plain": "<IPython.lib.display.YouTubeVideo at 0x7fcfabd583d0>",
                  "text/html": "\n        <iframe\n            width=\"854\"\n            height=\"480\"\n            src=\"https://www.youtube.com/embed/fAD2Bo49LgE?fs=1&rel=0\"\n            frameborder=\"0\"\n            allowfullscreen\n        ></iframe>\n        ",
                  "image/jpeg": "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\n"
                },
                "metadata": {}
              }
            ]
          }
        },
        "92d87cee3b444da38a6f15d1f7d07f88": {
          "model_module": "@jupyter-widgets/output",
          "model_name": "OutputModel",
          "model_module_version": "1.0.0",
          "state": {
            "_dom_classes": [],
            "_model_module": "@jupyter-widgets/output",
            "_model_module_version": "1.0.0",
            "_model_name": "OutputModel",
            "_view_count": null,
            "_view_module": "@jupyter-widgets/output",
            "_view_module_version": "1.0.0",
            "_view_name": "OutputView",
            "layout": "IPY_MODEL_903aaea1ab0b4072869589d68561da5b",
            "msg_id": "",
            "outputs": [
              {
                "output_type": "stream",
                "name": "stdout",
                "text": [
                  "Video available at https://www.bilibili.com/video/\n"
                ]
              },
              {
                "output_type": "display_data",
                "data": {
                  "text/plain": "<__main__.BiliVideo at 0x7fcfa783ae10>",
                  "text/html": "\n        <iframe\n            width=\"854\"\n            height=\"480\"\n            src=\"https://player.bilibili.com/player.html?bvid=&page=1?fs=1\"\n            frameborder=\"0\"\n            allowfullscreen\n        ></iframe>\n        "
                },
                "metadata": {}
              }
            ]
          }
        },
        "e4d493f7263b42a5ad6865974177332f": {
          "model_module": "@jupyter-widgets/base",
          "model_name": "LayoutModel",
          "model_module_version": "1.2.0",
          "state": {
            "_model_module": "@jupyter-widgets/base",
            "_model_module_version": "1.2.0",
            "_model_name": "LayoutModel",
            "_view_count": null,
            "_view_module": "@jupyter-widgets/base",
            "_view_module_version": "1.2.0",
            "_view_name": "LayoutView",
            "align_content": null,
            "align_items": null,
            "align_self": null,
            "border": null,
            "bottom": null,
            "display": null,
            "flex": null,
            "flex_flow": null,
            "grid_area": null,
            "grid_auto_columns": null,
            "grid_auto_flow": null,
            "grid_auto_rows": null,
            "grid_column": null,
            "grid_gap": null,
            "grid_row": null,
            "grid_template_areas": null,
            "grid_template_columns": null,
            "grid_template_rows": null,
            "height": null,
            "justify_content": null,
            "justify_items": null,
            "left": null,
            "margin": null,
            "max_height": null,
            "max_width": null,
            "min_height": null,
            "min_width": null,
            "object_fit": null,
            "object_position": null,
            "order": null,
            "overflow": null,
            "overflow_x": null,
            "overflow_y": null,
            "padding": null,
            "right": null,
            "top": null,
            "visibility": null,
            "width": null
          }
        },
        "a381eae910c94018a9022a43ff2cae8a": {
          "model_module": "@jupyter-widgets/base",
          "model_name": "LayoutModel",
          "model_module_version": "1.2.0",
          "state": {
            "_model_module": "@jupyter-widgets/base",
            "_model_module_version": "1.2.0",
            "_model_name": "LayoutModel",
            "_view_count": null,
            "_view_module": "@jupyter-widgets/base",
            "_view_module_version": "1.2.0",
            "_view_name": "LayoutView",
            "align_content": null,
            "align_items": null,
            "align_self": null,
            "border": null,
            "bottom": null,
            "display": null,
            "flex": null,
            "flex_flow": null,
            "grid_area": null,
            "grid_auto_columns": null,
            "grid_auto_flow": null,
            "grid_auto_rows": null,
            "grid_column": null,
            "grid_gap": null,
            "grid_row": null,
            "grid_template_areas": null,
            "grid_template_columns": null,
            "grid_template_rows": null,
            "height": null,
            "justify_content": null,
            "justify_items": null,
            "left": null,
            "margin": null,
            "max_height": null,
            "max_width": null,
            "min_height": null,
            "min_width": null,
            "object_fit": null,
            "object_position": null,
            "order": null,
            "overflow": null,
            "overflow_x": null,
            "overflow_y": null,
            "padding": null,
            "right": null,
            "top": null,
            "visibility": null,
            "width": null
          }
        },
        "903aaea1ab0b4072869589d68561da5b": {
          "model_module": "@jupyter-widgets/base",
          "model_name": "LayoutModel",
          "model_module_version": "1.2.0",
          "state": {
            "_model_module": "@jupyter-widgets/base",
            "_model_module_version": "1.2.0",
            "_model_name": "LayoutModel",
            "_view_count": null,
            "_view_module": "@jupyter-widgets/base",
            "_view_module_version": "1.2.0",
            "_view_name": "LayoutView",
            "align_content": null,
            "align_items": null,
            "align_self": null,
            "border": null,
            "bottom": null,
            "display": null,
            "flex": null,
            "flex_flow": null,
            "grid_area": null,
            "grid_auto_columns": null,
            "grid_auto_flow": null,
            "grid_auto_rows": null,
            "grid_column": null,
            "grid_gap": null,
            "grid_row": null,
            "grid_template_areas": null,
            "grid_template_columns": null,
            "grid_template_rows": null,
            "height": null,
            "justify_content": null,
            "justify_items": null,
            "left": null,
            "margin": null,
            "max_height": null,
            "max_width": null,
            "min_height": null,
            "min_width": null,
            "object_fit": null,
            "object_position": null,
            "order": null,
            "overflow": null,
            "overflow_x": null,
            "overflow_y": null,
            "padding": null,
            "right": null,
            "top": null,
            "visibility": null,
            "width": null
          }
        },
        "aea8ddfae57f48d9ac6f5e8e9d99c952": {
          "model_module": "@jupyter-widgets/controls",
          "model_name": "TabModel",
          "model_module_version": "1.5.0",
          "state": {
            "_dom_classes": [],
            "_model_module": "@jupyter-widgets/controls",
            "_model_module_version": "1.5.0",
            "_model_name": "TabModel",
            "_titles": {
              "0": "Youtube",
              "1": "Bilibili"
            },
            "_view_count": null,
            "_view_module": "@jupyter-widgets/controls",
            "_view_module_version": "1.5.0",
            "_view_name": "TabView",
            "box_style": "",
            "children": [
              "IPY_MODEL_0a2fbe536002433784702d844e3f3f07",
              "IPY_MODEL_5406180454354c96ad06f4b3f8e90b51"
            ],
            "layout": "IPY_MODEL_1867e982bfb44225b1c156c41a3b5ae3",
            "selected_index": 0
          }
        },
        "0a2fbe536002433784702d844e3f3f07": {
          "model_module": "@jupyter-widgets/output",
          "model_name": "OutputModel",
          "model_module_version": "1.0.0",
          "state": {
            "_dom_classes": [],
            "_model_module": "@jupyter-widgets/output",
            "_model_module_version": "1.0.0",
            "_model_name": "OutputModel",
            "_view_count": null,
            "_view_module": "@jupyter-widgets/output",
            "_view_module_version": "1.0.0",
            "_view_name": "OutputView",
            "layout": "IPY_MODEL_f77e5fab7e684770b4e67f8585f5d8d2",
            "msg_id": "",
            "outputs": [
              {
                "output_type": "stream",
                "name": "stdout",
                "text": [
                  "Video available at https://youtube.com/watch?v=R7H4ybe7gck\n"
                ]
              },
              {
                "output_type": "display_data",
                "data": {
                  "text/plain": "<IPython.lib.display.YouTubeVideo at 0x7fcfa783af50>",
                  "text/html": "\n        <iframe\n            width=\"854\"\n            height=\"480\"\n            src=\"https://www.youtube.com/embed/R7H4ybe7gck?fs=1&rel=0\"\n            frameborder=\"0\"\n            allowfullscreen\n        ></iframe>\n        ",
                  "image/jpeg": "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\n"
                },
                "metadata": {}
              }
            ]
          }
        },
        "5406180454354c96ad06f4b3f8e90b51": {
          "model_module": "@jupyter-widgets/output",
          "model_name": "OutputModel",
          "model_module_version": "1.0.0",
          "state": {
            "_dom_classes": [],
            "_model_module": "@jupyter-widgets/output",
            "_model_module_version": "1.0.0",
            "_model_name": "OutputModel",
            "_view_count": null,
            "_view_module": "@jupyter-widgets/output",
            "_view_module_version": "1.0.0",
            "_view_name": "OutputView",
            "layout": "IPY_MODEL_31f6ed7978484e05810349f4beb778c7",
            "msg_id": "",
            "outputs": [
              {
                "output_type": "stream",
                "name": "stdout",
                "text": [
                  "Video available at https://www.bilibili.com/video/\n"
                ]
              },
              {
                "output_type": "display_data",
                "data": {
                  "text/plain": "<__main__.BiliVideo at 0x7fcfa780a810>",
                  "text/html": "\n        <iframe\n            width=\"854\"\n            height=\"480\"\n            src=\"https://player.bilibili.com/player.html?bvid=&page=1?fs=1\"\n            frameborder=\"0\"\n            allowfullscreen\n        ></iframe>\n        "
                },
                "metadata": {}
              }
            ]
          }
        },
        "1867e982bfb44225b1c156c41a3b5ae3": {
          "model_module": "@jupyter-widgets/base",
          "model_name": "LayoutModel",
          "model_module_version": "1.2.0",
          "state": {
            "_model_module": "@jupyter-widgets/base",
            "_model_module_version": "1.2.0",
            "_model_name": "LayoutModel",
            "_view_count": null,
            "_view_module": "@jupyter-widgets/base",
            "_view_module_version": "1.2.0",
            "_view_name": "LayoutView",
            "align_content": null,
            "align_items": null,
            "align_self": null,
            "border": null,
            "bottom": null,
            "display": null,
            "flex": null,
            "flex_flow": null,
            "grid_area": null,
            "grid_auto_columns": null,
            "grid_auto_flow": null,
            "grid_auto_rows": null,
            "grid_column": null,
            "grid_gap": null,
            "grid_row": null,
            "grid_template_areas": null,
            "grid_template_columns": null,
            "grid_template_rows": null,
            "height": null,
            "justify_content": null,
            "justify_items": null,
            "left": null,
            "margin": null,
            "max_height": null,
            "max_width": null,
            "min_height": null,
            "min_width": null,
            "object_fit": null,
            "object_position": null,
            "order": null,
            "overflow": null,
            "overflow_x": null,
            "overflow_y": null,
            "padding": null,
            "right": null,
            "top": null,
            "visibility": null,
            "width": null
          }
        },
        "f77e5fab7e684770b4e67f8585f5d8d2": {
          "model_module": "@jupyter-widgets/base",
          "model_name": "LayoutModel",
          "model_module_version": "1.2.0",
          "state": {
            "_model_module": "@jupyter-widgets/base",
            "_model_module_version": "1.2.0",
            "_model_name": "LayoutModel",
            "_view_count": null,
            "_view_module": "@jupyter-widgets/base",
            "_view_module_version": "1.2.0",
            "_view_name": "LayoutView",
            "align_content": null,
            "align_items": null,
            "align_self": null,
            "border": null,
            "bottom": null,
            "display": null,
            "flex": null,
            "flex_flow": null,
            "grid_area": null,
            "grid_auto_columns": null,
            "grid_auto_flow": null,
            "grid_auto_rows": null,
            "grid_column": null,
            "grid_gap": null,
            "grid_row": null,
            "grid_template_areas": null,
            "grid_template_columns": null,
            "grid_template_rows": null,
            "height": null,
            "justify_content": null,
            "justify_items": null,
            "left": null,
            "margin": null,
            "max_height": null,
            "max_width": null,
            "min_height": null,
            "min_width": null,
            "object_fit": null,
            "object_position": null,
            "order": null,
            "overflow": null,
            "overflow_x": null,
            "overflow_y": null,
            "padding": null,
            "right": null,
            "top": null,
            "visibility": null,
            "width": null
          }
        },
        "31f6ed7978484e05810349f4beb778c7": {
          "model_module": "@jupyter-widgets/base",
          "model_name": "LayoutModel",
          "model_module_version": "1.2.0",
          "state": {
            "_model_module": "@jupyter-widgets/base",
            "_model_module_version": "1.2.0",
            "_model_name": "LayoutModel",
            "_view_count": null,
            "_view_module": "@jupyter-widgets/base",
            "_view_module_version": "1.2.0",
            "_view_name": "LayoutView",
            "align_content": null,
            "align_items": null,
            "align_self": null,
            "border": null,
            "bottom": null,
            "display": null,
            "flex": null,
            "flex_flow": null,
            "grid_area": null,
            "grid_auto_columns": null,
            "grid_auto_flow": null,
            "grid_auto_rows": null,
            "grid_column": null,
            "grid_gap": null,
            "grid_row": null,
            "grid_template_areas": null,
            "grid_template_columns": null,
            "grid_template_rows": null,
            "height": null,
            "justify_content": null,
            "justify_items": null,
            "left": null,
            "margin": null,
            "max_height": null,
            "max_width": null,
            "min_height": null,
            "min_width": null,
            "object_fit": null,
            "object_position": null,
            "order": null,
            "overflow": null,
            "overflow_x": null,
            "overflow_y": null,
            "padding": null,
            "right": null,
            "top": null,
            "visibility": null,
            "width": null
          }
        },
        "926f6c65591e4fa1b2abbfe625697f41": {
          "model_module": "@jupyter-widgets/controls",
          "model_name": "TabModel",
          "model_module_version": "1.5.0",
          "state": {
            "_dom_classes": [],
            "_model_module": "@jupyter-widgets/controls",
            "_model_module_version": "1.5.0",
            "_model_name": "TabModel",
            "_titles": {
              "0": "Youtube",
              "1": "Bilibili"
            },
            "_view_count": null,
            "_view_module": "@jupyter-widgets/controls",
            "_view_module_version": "1.5.0",
            "_view_name": "TabView",
            "box_style": "",
            "children": [
              "IPY_MODEL_a697c0dd3f7248cd9032304d37f9b4c0",
              "IPY_MODEL_b0461a8aa04846279393b119a91ab2b6"
            ],
            "layout": "IPY_MODEL_5a1fbee19e0b4b63b3e1d66f9fd2bd06",
            "selected_index": 0
          }
        },
        "a697c0dd3f7248cd9032304d37f9b4c0": {
          "model_module": "@jupyter-widgets/output",
          "model_name": "OutputModel",
          "model_module_version": "1.0.0",
          "state": {
            "_dom_classes": [],
            "_model_module": "@jupyter-widgets/output",
            "_model_module_version": "1.0.0",
            "_model_name": "OutputModel",
            "_view_count": null,
            "_view_module": "@jupyter-widgets/output",
            "_view_module_version": "1.0.0",
            "_view_name": "OutputView",
            "layout": "IPY_MODEL_387cd1364b694de5b33d19ff634c359f",
            "msg_id": "",
            "outputs": [
              {
                "output_type": "stream",
                "name": "stdout",
                "text": [
                  "Video available at https://youtube.com/watch?v=TcBNbGez5BY\n"
                ]
              },
              {
                "output_type": "display_data",
                "data": {
                  "text/plain": "<IPython.lib.display.YouTubeVideo at 0x7fcfa7846ad0>",
                  "text/html": "\n        <iframe\n            width=\"854\"\n            height=\"480\"\n            src=\"https://www.youtube.com/embed/TcBNbGez5BY?fs=1&rel=0\"\n            frameborder=\"0\"\n            allowfullscreen\n        ></iframe>\n        ",
                  "image/jpeg": "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\n"
                },
                "metadata": {}
              }
            ]
          }
        },
        "b0461a8aa04846279393b119a91ab2b6": {
          "model_module": "@jupyter-widgets/output",
          "model_name": "OutputModel",
          "model_module_version": "1.0.0",
          "state": {
            "_dom_classes": [],
            "_model_module": "@jupyter-widgets/output",
            "_model_module_version": "1.0.0",
            "_model_name": "OutputModel",
            "_view_count": null,
            "_view_module": "@jupyter-widgets/output",
            "_view_module_version": "1.0.0",
            "_view_name": "OutputView",
            "layout": "IPY_MODEL_4fd946e7b2a5409c9e21a18161a70f5d",
            "msg_id": "",
            "outputs": [
              {
                "output_type": "stream",
                "name": "stdout",
                "text": [
                  "Video available at https://www.bilibili.com/video/\n"
                ]
              },
              {
                "output_type": "display_data",
                "data": {
                  "text/plain": "<__main__.BiliVideo at 0x7fcfa7846510>",
                  "text/html": "\n        <iframe\n            width=\"854\"\n            height=\"480\"\n            src=\"https://player.bilibili.com/player.html?bvid=&page=1?fs=1\"\n            frameborder=\"0\"\n            allowfullscreen\n        ></iframe>\n        "
                },
                "metadata": {}
              }
            ]
          }
        },
        "5a1fbee19e0b4b63b3e1d66f9fd2bd06": {
          "model_module": "@jupyter-widgets/base",
          "model_name": "LayoutModel",
          "model_module_version": "1.2.0",
          "state": {
            "_model_module": "@jupyter-widgets/base",
            "_model_module_version": "1.2.0",
            "_model_name": "LayoutModel",
            "_view_count": null,
            "_view_module": "@jupyter-widgets/base",
            "_view_module_version": "1.2.0",
            "_view_name": "LayoutView",
            "align_content": null,
            "align_items": null,
            "align_self": null,
            "border": null,
            "bottom": null,
            "display": null,
            "flex": null,
            "flex_flow": null,
            "grid_area": null,
            "grid_auto_columns": null,
            "grid_auto_flow": null,
            "grid_auto_rows": null,
            "grid_column": null,
            "grid_gap": null,
            "grid_row": null,
            "grid_template_areas": null,
            "grid_template_columns": null,
            "grid_template_rows": null,
            "height": null,
            "justify_content": null,
            "justify_items": null,
            "left": null,
            "margin": null,
            "max_height": null,
            "max_width": null,
            "min_height": null,
            "min_width": null,
            "object_fit": null,
            "object_position": null,
            "order": null,
            "overflow": null,
            "overflow_x": null,
            "overflow_y": null,
            "padding": null,
            "right": null,
            "top": null,
            "visibility": null,
            "width": null
          }
        },
        "387cd1364b694de5b33d19ff634c359f": {
          "model_module": "@jupyter-widgets/base",
          "model_name": "LayoutModel",
          "model_module_version": "1.2.0",
          "state": {
            "_model_module": "@jupyter-widgets/base",
            "_model_module_version": "1.2.0",
            "_model_name": "LayoutModel",
            "_view_count": null,
            "_view_module": "@jupyter-widgets/base",
            "_view_module_version": "1.2.0",
            "_view_name": "LayoutView",
            "align_content": null,
            "align_items": null,
            "align_self": null,
            "border": null,
            "bottom": null,
            "display": null,
            "flex": null,
            "flex_flow": null,
            "grid_area": null,
            "grid_auto_columns": null,
            "grid_auto_flow": null,
            "grid_auto_rows": null,
            "grid_column": null,
            "grid_gap": null,
            "grid_row": null,
            "grid_template_areas": null,
            "grid_template_columns": null,
            "grid_template_rows": null,
            "height": null,
            "justify_content": null,
            "justify_items": null,
            "left": null,
            "margin": null,
            "max_height": null,
            "max_width": null,
            "min_height": null,
            "min_width": null,
            "object_fit": null,
            "object_position": null,
            "order": null,
            "overflow": null,
            "overflow_x": null,
            "overflow_y": null,
            "padding": null,
            "right": null,
            "top": null,
            "visibility": null,
            "width": null
          }
        },
        "4fd946e7b2a5409c9e21a18161a70f5d": {
          "model_module": "@jupyter-widgets/base",
          "model_name": "LayoutModel",
          "model_module_version": "1.2.0",
          "state": {
            "_model_module": "@jupyter-widgets/base",
            "_model_module_version": "1.2.0",
            "_model_name": "LayoutModel",
            "_view_count": null,
            "_view_module": "@jupyter-widgets/base",
            "_view_module_version": "1.2.0",
            "_view_name": "LayoutView",
            "align_content": null,
            "align_items": null,
            "align_self": null,
            "border": null,
            "bottom": null,
            "display": null,
            "flex": null,
            "flex_flow": null,
            "grid_area": null,
            "grid_auto_columns": null,
            "grid_auto_flow": null,
            "grid_auto_rows": null,
            "grid_column": null,
            "grid_gap": null,
            "grid_row": null,
            "grid_template_areas": null,
            "grid_template_columns": null,
            "grid_template_rows": null,
            "height": null,
            "justify_content": null,
            "justify_items": null,
            "left": null,
            "margin": null,
            "max_height": null,
            "max_width": null,
            "min_height": null,
            "min_width": null,
            "object_fit": null,
            "object_position": null,
            "order": null,
            "overflow": null,
            "overflow_x": null,
            "overflow_y": null,
            "padding": null,
            "right": null,
            "top": null,
            "visibility": null,
            "width": null
          }
        },
        "a69bce99fb6746108a3d1294bb463fc0": {
          "model_module": "@jupyter-widgets/controls",
          "model_name": "TextareaModel",
          "model_module_version": "1.5.0",
          "state": {
            "_dom_classes": [],
            "_model_module": "@jupyter-widgets/controls",
            "_model_module_version": "1.5.0",
            "_model_name": "TextareaModel",
            "_view_count": null,
            "_view_module": "@jupyter-widgets/controls",
            "_view_module_version": "1.5.0",
            "_view_name": "TextareaView",
            "continuous_update": true,
            "description": "",
            "description_tooltip": null,
            "disabled": false,
            "layout": "IPY_MODEL_7ba0bfc5d209408e92f8d2b9efe05f22",
            "placeholder": "Type something",
            "rows": null,
            "style": "IPY_MODEL_f90fa20fe62c49d39172a540a40fe346",
            "value": "Type your answer here and click on `Submit!`"
          }
        },
        "7ba0bfc5d209408e92f8d2b9efe05f22": {
          "model_module": "@jupyter-widgets/base",
          "model_name": "LayoutModel",
          "model_module_version": "1.2.0",
          "state": {
            "_model_module": "@jupyter-widgets/base",
            "_model_module_version": "1.2.0",
            "_model_name": "LayoutModel",
            "_view_count": null,
            "_view_module": "@jupyter-widgets/base",
            "_view_module_version": "1.2.0",
            "_view_name": "LayoutView",
            "align_content": null,
            "align_items": null,
            "align_self": null,
            "border": null,
            "bottom": null,
            "display": null,
            "flex": null,
            "flex_flow": null,
            "grid_area": null,
            "grid_auto_columns": null,
            "grid_auto_flow": null,
            "grid_auto_rows": null,
            "grid_column": null,
            "grid_gap": null,
            "grid_row": null,
            "grid_template_areas": null,
            "grid_template_columns": null,
            "grid_template_rows": null,
            "height": null,
            "justify_content": null,
            "justify_items": null,
            "left": null,
            "margin": null,
            "max_height": null,
            "max_width": null,
            "min_height": null,
            "min_width": null,
            "object_fit": null,
            "object_position": null,
            "order": null,
            "overflow": null,
            "overflow_x": null,
            "overflow_y": null,
            "padding": null,
            "right": null,
            "top": null,
            "visibility": null,
            "width": null
          }
        },
        "f90fa20fe62c49d39172a540a40fe346": {
          "model_module": "@jupyter-widgets/controls",
          "model_name": "DescriptionStyleModel",
          "model_module_version": "1.5.0",
          "state": {
            "_model_module": "@jupyter-widgets/controls",
            "_model_module_version": "1.5.0",
            "_model_name": "DescriptionStyleModel",
            "_view_count": null,
            "_view_module": "@jupyter-widgets/base",
            "_view_module_version": "1.2.0",
            "_view_name": "StyleView",
            "description_width": ""
          }
        },
        "f6b537994c2448138c86433ac2439546": {
          "model_module": "@jupyter-widgets/controls",
          "model_name": "ButtonModel",
          "model_module_version": "1.5.0",
          "state": {
            "_dom_classes": [],
            "_model_module": "@jupyter-widgets/controls",
            "_model_module_version": "1.5.0",
            "_model_name": "ButtonModel",
            "_view_count": null,
            "_view_module": "@jupyter-widgets/controls",
            "_view_module_version": "1.5.0",
            "_view_name": "ButtonView",
            "button_style": "",
            "description": "Submit!",
            "disabled": false,
            "icon": "",
            "layout": "IPY_MODEL_77cf37b74644472eae4c7199273029b2",
            "style": "IPY_MODEL_5199def60a3b4d868013cd60171993da",
            "tooltip": ""
          }
        },
        "77cf37b74644472eae4c7199273029b2": {
          "model_module": "@jupyter-widgets/base",
          "model_name": "LayoutModel",
          "model_module_version": "1.2.0",
          "state": {
            "_model_module": "@jupyter-widgets/base",
            "_model_module_version": "1.2.0",
            "_model_name": "LayoutModel",
            "_view_count": null,
            "_view_module": "@jupyter-widgets/base",
            "_view_module_version": "1.2.0",
            "_view_name": "LayoutView",
            "align_content": null,
            "align_items": null,
            "align_self": null,
            "border": null,
            "bottom": null,
            "display": null,
            "flex": null,
            "flex_flow": null,
            "grid_area": null,
            "grid_auto_columns": null,
            "grid_auto_flow": null,
            "grid_auto_rows": null,
            "grid_column": null,
            "grid_gap": null,
            "grid_row": null,
            "grid_template_areas": null,
            "grid_template_columns": null,
            "grid_template_rows": null,
            "height": null,
            "justify_content": null,
            "justify_items": null,
            "left": null,
            "margin": null,
            "max_height": null,
            "max_width": null,
            "min_height": null,
            "min_width": null,
            "object_fit": null,
            "object_position": null,
            "order": null,
            "overflow": null,
            "overflow_x": null,
            "overflow_y": null,
            "padding": null,
            "right": null,
            "top": null,
            "visibility": null,
            "width": null
          }
        },
        "5199def60a3b4d868013cd60171993da": {
          "model_module": "@jupyter-widgets/controls",
          "model_name": "ButtonStyleModel",
          "model_module_version": "1.5.0",
          "state": {
            "_model_module": "@jupyter-widgets/controls",
            "_model_module_version": "1.5.0",
            "_model_name": "ButtonStyleModel",
            "_view_count": null,
            "_view_module": "@jupyter-widgets/base",
            "_view_module_version": "1.2.0",
            "_view_name": "StyleView",
            "button_color": null,
            "font_weight": ""
          }
        },
        "f928c458c0124c64ae59b57a9bdcbd0c": {
          "model_module": "@jupyter-widgets/controls",
          "model_name": "TabModel",
          "model_module_version": "1.5.0",
          "state": {
            "_dom_classes": [],
            "_model_module": "@jupyter-widgets/controls",
            "_model_module_version": "1.5.0",
            "_model_name": "TabModel",
            "_titles": {
              "0": "Youtube",
              "1": "Bilibili"
            },
            "_view_count": null,
            "_view_module": "@jupyter-widgets/controls",
            "_view_module_version": "1.5.0",
            "_view_name": "TabView",
            "box_style": "",
            "children": [
              "IPY_MODEL_378bc8ecc70342f89d922efcd9230897",
              "IPY_MODEL_a1893aa292ac4bffaa69efca003b75e6"
            ],
            "layout": "IPY_MODEL_f17aca5afdfd4abba8ea06f873fbebc0",
            "selected_index": 0
          }
        },
        "378bc8ecc70342f89d922efcd9230897": {
          "model_module": "@jupyter-widgets/output",
          "model_name": "OutputModel",
          "model_module_version": "1.0.0",
          "state": {
            "_dom_classes": [],
            "_model_module": "@jupyter-widgets/output",
            "_model_module_version": "1.0.0",
            "_model_name": "OutputModel",
            "_view_count": null,
            "_view_module": "@jupyter-widgets/output",
            "_view_module_version": "1.0.0",
            "_view_name": "OutputView",
            "layout": "IPY_MODEL_601858720c9744f8b4003acfbed488de",
            "msg_id": "",
            "outputs": [
              {
                "output_type": "stream",
                "name": "stdout",
                "text": [
                  "Video available at https://youtube.com/watch?v=5rp9utqRvWY\n"
                ]
              },
              {
                "output_type": "display_data",
                "data": {
                  "text/plain": "<IPython.lib.display.YouTubeVideo at 0x7fcfa77dbad0>",
                  "text/html": "\n        <iframe\n            width=\"854\"\n            height=\"480\"\n            src=\"https://www.youtube.com/embed/5rp9utqRvWY?fs=1&rel=0\"\n            frameborder=\"0\"\n            allowfullscreen\n        ></iframe>\n        ",
                  "image/jpeg": "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\n"
                },
                "metadata": {}
              }
            ]
          }
        },
        "a1893aa292ac4bffaa69efca003b75e6": {
          "model_module": "@jupyter-widgets/output",
          "model_name": "OutputModel",
          "model_module_version": "1.0.0",
          "state": {
            "_dom_classes": [],
            "_model_module": "@jupyter-widgets/output",
            "_model_module_version": "1.0.0",
            "_model_name": "OutputModel",
            "_view_count": null,
            "_view_module": "@jupyter-widgets/output",
            "_view_module_version": "1.0.0",
            "_view_name": "OutputView",
            "layout": "IPY_MODEL_cb316749c749498e968fd880e5fa78e5",
            "msg_id": "",
            "outputs": [
              {
                "output_type": "stream",
                "name": "stdout",
                "text": [
                  "Video available at https://www.bilibili.com/video/\n"
                ]
              },
              {
                "output_type": "display_data",
                "data": {
                  "text/plain": "<__main__.BiliVideo at 0x7fcfa7c9ad10>",
                  "text/html": "\n        <iframe\n            width=\"854\"\n            height=\"480\"\n            src=\"https://player.bilibili.com/player.html?bvid=&page=1?fs=1\"\n            frameborder=\"0\"\n            allowfullscreen\n        ></iframe>\n        "
                },
                "metadata": {}
              }
            ]
          }
        },
        "f17aca5afdfd4abba8ea06f873fbebc0": {
          "model_module": "@jupyter-widgets/base",
          "model_name": "LayoutModel",
          "model_module_version": "1.2.0",
          "state": {
            "_model_module": "@jupyter-widgets/base",
            "_model_module_version": "1.2.0",
            "_model_name": "LayoutModel",
            "_view_count": null,
            "_view_module": "@jupyter-widgets/base",
            "_view_module_version": "1.2.0",
            "_view_name": "LayoutView",
            "align_content": null,
            "align_items": null,
            "align_self": null,
            "border": null,
            "bottom": null,
            "display": null,
            "flex": null,
            "flex_flow": null,
            "grid_area": null,
            "grid_auto_columns": null,
            "grid_auto_flow": null,
            "grid_auto_rows": null,
            "grid_column": null,
            "grid_gap": null,
            "grid_row": null,
            "grid_template_areas": null,
            "grid_template_columns": null,
            "grid_template_rows": null,
            "height": null,
            "justify_content": null,
            "justify_items": null,
            "left": null,
            "margin": null,
            "max_height": null,
            "max_width": null,
            "min_height": null,
            "min_width": null,
            "object_fit": null,
            "object_position": null,
            "order": null,
            "overflow": null,
            "overflow_x": null,
            "overflow_y": null,
            "padding": null,
            "right": null,
            "top": null,
            "visibility": null,
            "width": null
          }
        },
        "601858720c9744f8b4003acfbed488de": {
          "model_module": "@jupyter-widgets/base",
          "model_name": "LayoutModel",
          "model_module_version": "1.2.0",
          "state": {
            "_model_module": "@jupyter-widgets/base",
            "_model_module_version": "1.2.0",
            "_model_name": "LayoutModel",
            "_view_count": null,
            "_view_module": "@jupyter-widgets/base",
            "_view_module_version": "1.2.0",
            "_view_name": "LayoutView",
            "align_content": null,
            "align_items": null,
            "align_self": null,
            "border": null,
            "bottom": null,
            "display": null,
            "flex": null,
            "flex_flow": null,
            "grid_area": null,
            "grid_auto_columns": null,
            "grid_auto_flow": null,
            "grid_auto_rows": null,
            "grid_column": null,
            "grid_gap": null,
            "grid_row": null,
            "grid_template_areas": null,
            "grid_template_columns": null,
            "grid_template_rows": null,
            "height": null,
            "justify_content": null,
            "justify_items": null,
            "left": null,
            "margin": null,
            "max_height": null,
            "max_width": null,
            "min_height": null,
            "min_width": null,
            "object_fit": null,
            "object_position": null,
            "order": null,
            "overflow": null,
            "overflow_x": null,
            "overflow_y": null,
            "padding": null,
            "right": null,
            "top": null,
            "visibility": null,
            "width": null
          }
        },
        "cb316749c749498e968fd880e5fa78e5": {
          "model_module": "@jupyter-widgets/base",
          "model_name": "LayoutModel",
          "model_module_version": "1.2.0",
          "state": {
            "_model_module": "@jupyter-widgets/base",
            "_model_module_version": "1.2.0",
            "_model_name": "LayoutModel",
            "_view_count": null,
            "_view_module": "@jupyter-widgets/base",
            "_view_module_version": "1.2.0",
            "_view_name": "LayoutView",
            "align_content": null,
            "align_items": null,
            "align_self": null,
            "border": null,
            "bottom": null,
            "display": null,
            "flex": null,
            "flex_flow": null,
            "grid_area": null,
            "grid_auto_columns": null,
            "grid_auto_flow": null,
            "grid_auto_rows": null,
            "grid_column": null,
            "grid_gap": null,
            "grid_row": null,
            "grid_template_areas": null,
            "grid_template_columns": null,
            "grid_template_rows": null,
            "height": null,
            "justify_content": null,
            "justify_items": null,
            "left": null,
            "margin": null,
            "max_height": null,
            "max_width": null,
            "min_height": null,
            "min_width": null,
            "object_fit": null,
            "object_position": null,
            "order": null,
            "overflow": null,
            "overflow_x": null,
            "overflow_y": null,
            "padding": null,
            "right": null,
            "top": null,
            "visibility": null,
            "width": null
          }
        },
        "968b4d7cfa9d45ef8c806f5be7ea37eb": {
          "model_module": "@jupyter-widgets/controls",
          "model_name": "TabModel",
          "model_module_version": "1.5.0",
          "state": {
            "_dom_classes": [],
            "_model_module": "@jupyter-widgets/controls",
            "_model_module_version": "1.5.0",
            "_model_name": "TabModel",
            "_titles": {
              "0": "Youtube",
              "1": "Bilibili"
            },
            "_view_count": null,
            "_view_module": "@jupyter-widgets/controls",
            "_view_module_version": "1.5.0",
            "_view_name": "TabView",
            "box_style": "",
            "children": [
              "IPY_MODEL_5fd9ef3ccbae44e5bb46d2997ed9b8ac",
              "IPY_MODEL_239a1faa116c4a839d95b009ea579d9a"
            ],
            "layout": "IPY_MODEL_08c9504013874b75a7dca797382a1205",
            "selected_index": 0
          }
        },
        "5fd9ef3ccbae44e5bb46d2997ed9b8ac": {
          "model_module": "@jupyter-widgets/output",
          "model_name": "OutputModel",
          "model_module_version": "1.0.0",
          "state": {
            "_dom_classes": [],
            "_model_module": "@jupyter-widgets/output",
            "_model_module_version": "1.0.0",
            "_model_name": "OutputModel",
            "_view_count": null,
            "_view_module": "@jupyter-widgets/output",
            "_view_module_version": "1.0.0",
            "_view_name": "OutputView",
            "layout": "IPY_MODEL_29e37f1240da4768a868202182674fa6",
            "msg_id": "",
            "outputs": [
              {
                "output_type": "stream",
                "name": "stdout",
                "text": [
                  "Video available at https://youtube.com/watch?v=p9vQLAfrYJQ\n"
                ]
              },
              {
                "output_type": "display_data",
                "data": {
                  "text/plain": "<IPython.lib.display.YouTubeVideo at 0x7fcfa78463d0>",
                  "text/html": "\n        <iframe\n            width=\"854\"\n            height=\"480\"\n            src=\"https://www.youtube.com/embed/p9vQLAfrYJQ?fs=1&rel=0\"\n            frameborder=\"0\"\n            allowfullscreen\n        ></iframe>\n        ",
                  "image/jpeg": "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\n"
                },
                "metadata": {}
              }
            ]
          }
        },
        "239a1faa116c4a839d95b009ea579d9a": {
          "model_module": "@jupyter-widgets/output",
          "model_name": "OutputModel",
          "model_module_version": "1.0.0",
          "state": {
            "_dom_classes": [],
            "_model_module": "@jupyter-widgets/output",
            "_model_module_version": "1.0.0",
            "_model_name": "OutputModel",
            "_view_count": null,
            "_view_module": "@jupyter-widgets/output",
            "_view_module_version": "1.0.0",
            "_view_name": "OutputView",
            "layout": "IPY_MODEL_66e0748c1c0d4613ad2a795dce48ebac",
            "msg_id": "",
            "outputs": [
              {
                "output_type": "stream",
                "name": "stdout",
                "text": [
                  "Video available at https://www.bilibili.com/video/\n"
                ]
              },
              {
                "output_type": "display_data",
                "data": {
                  "text/plain": "<__main__.BiliVideo at 0x7fcfae5c6a10>",
                  "text/html": "\n        <iframe\n            width=\"854\"\n            height=\"480\"\n            src=\"https://player.bilibili.com/player.html?bvid=&page=1?fs=1\"\n            frameborder=\"0\"\n            allowfullscreen\n        ></iframe>\n        "
                },
                "metadata": {}
              }
            ]
          }
        },
        "08c9504013874b75a7dca797382a1205": {
          "model_module": "@jupyter-widgets/base",
          "model_name": "LayoutModel",
          "model_module_version": "1.2.0",
          "state": {
            "_model_module": "@jupyter-widgets/base",
            "_model_module_version": "1.2.0",
            "_model_name": "LayoutModel",
            "_view_count": null,
            "_view_module": "@jupyter-widgets/base",
            "_view_module_version": "1.2.0",
            "_view_name": "LayoutView",
            "align_content": null,
            "align_items": null,
            "align_self": null,
            "border": null,
            "bottom": null,
            "display": null,
            "flex": null,
            "flex_flow": null,
            "grid_area": null,
            "grid_auto_columns": null,
            "grid_auto_flow": null,
            "grid_auto_rows": null,
            "grid_column": null,
            "grid_gap": null,
            "grid_row": null,
            "grid_template_areas": null,
            "grid_template_columns": null,
            "grid_template_rows": null,
            "height": null,
            "justify_content": null,
            "justify_items": null,
            "left": null,
            "margin": null,
            "max_height": null,
            "max_width": null,
            "min_height": null,
            "min_width": null,
            "object_fit": null,
            "object_position": null,
            "order": null,
            "overflow": null,
            "overflow_x": null,
            "overflow_y": null,
            "padding": null,
            "right": null,
            "top": null,
            "visibility": null,
            "width": null
          }
        },
        "29e37f1240da4768a868202182674fa6": {
          "model_module": "@jupyter-widgets/base",
          "model_name": "LayoutModel",
          "model_module_version": "1.2.0",
          "state": {
            "_model_module": "@jupyter-widgets/base",
            "_model_module_version": "1.2.0",
            "_model_name": "LayoutModel",
            "_view_count": null,
            "_view_module": "@jupyter-widgets/base",
            "_view_module_version": "1.2.0",
            "_view_name": "LayoutView",
            "align_content": null,
            "align_items": null,
            "align_self": null,
            "border": null,
            "bottom": null,
            "display": null,
            "flex": null,
            "flex_flow": null,
            "grid_area": null,
            "grid_auto_columns": null,
            "grid_auto_flow": null,
            "grid_auto_rows": null,
            "grid_column": null,
            "grid_gap": null,
            "grid_row": null,
            "grid_template_areas": null,
            "grid_template_columns": null,
            "grid_template_rows": null,
            "height": null,
            "justify_content": null,
            "justify_items": null,
            "left": null,
            "margin": null,
            "max_height": null,
            "max_width": null,
            "min_height": null,
            "min_width": null,
            "object_fit": null,
            "object_position": null,
            "order": null,
            "overflow": null,
            "overflow_x": null,
            "overflow_y": null,
            "padding": null,
            "right": null,
            "top": null,
            "visibility": null,
            "width": null
          }
        },
        "66e0748c1c0d4613ad2a795dce48ebac": {
          "model_module": "@jupyter-widgets/base",
          "model_name": "LayoutModel",
          "model_module_version": "1.2.0",
          "state": {
            "_model_module": "@jupyter-widgets/base",
            "_model_module_version": "1.2.0",
            "_model_name": "LayoutModel",
            "_view_count": null,
            "_view_module": "@jupyter-widgets/base",
            "_view_module_version": "1.2.0",
            "_view_name": "LayoutView",
            "align_content": null,
            "align_items": null,
            "align_self": null,
            "border": null,
            "bottom": null,
            "display": null,
            "flex": null,
            "flex_flow": null,
            "grid_area": null,
            "grid_auto_columns": null,
            "grid_auto_flow": null,
            "grid_auto_rows": null,
            "grid_column": null,
            "grid_gap": null,
            "grid_row": null,
            "grid_template_areas": null,
            "grid_template_columns": null,
            "grid_template_rows": null,
            "height": null,
            "justify_content": null,
            "justify_items": null,
            "left": null,
            "margin": null,
            "max_height": null,
            "max_width": null,
            "min_height": null,
            "min_width": null,
            "object_fit": null,
            "object_position": null,
            "order": null,
            "overflow": null,
            "overflow_x": null,
            "overflow_y": null,
            "padding": null,
            "right": null,
            "top": null,
            "visibility": null,
            "width": null
          }
        }
      }
    }
  },
  "nbformat": 4,
  "nbformat_minor": 0
}