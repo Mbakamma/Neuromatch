{
  "cells": [
    {
      "cell_type": "markdown",
      "metadata": {
        "id": "view-in-github",
        "colab_type": "text"
      },
      "source": [
        "<a href=\"https://colab.research.google.com/github/NeuromatchAcademy/course-content-dl/blob/outro_w3d3/tutorials/W3D3_UnsupervisedAndSelfSupervisedLearning/W3D3_BonusLecture.ipynb\" target=\"_parent\"><img src=\"https://colab.research.google.com/assets/colab-badge.svg\" alt=\"Open In Colab\"/></a>"
      ]
    },
    {
      "cell_type": "markdown",
      "metadata": {
        "execution": {},
        "id": "WVfs2s-ai0KK"
      },
      "source": [
        "# Bonus Lecture: Emily Denton & Melanie Mitchell"
      ]
    },
    {
      "cell_type": "markdown",
      "metadata": {
        "execution": {},
        "id": "g_8x9kVFi0KO"
      },
      "source": [
        "<p align='center'><img src='https://github.com/NeuromatchAcademy/widgets/blob/master/sponsors.png?raw=True'/></p>"
      ]
    },
    {
      "cell_type": "markdown",
      "source": [
        "---"
      ],
      "metadata": {
        "id": "9bqnr9TKi64e"
      }
    },
    {
      "cell_type": "code",
      "execution_count": 1,
      "metadata": {
        "cellView": "form",
        "execution": {},
        "id": "pXgwzGjBi0KP",
        "outputId": "8b9bead0-2b92-4fb2-b385-dee479853642",
        "colab": {
          "base_uri": "https://localhost:8080/",
          "height": 582,
          "referenced_widgets": [
            "4a31a9c498254c339aaa49cbef6ff075",
            "0e31817c67f0430794eb947fa311b0d8",
            "6fd8164f1eb147689da4a9b520062dba",
            "47b93bc8343a4ad7959517f436f263c4",
            "56e28761e4c043f6821ddb242cf11dbf",
            "ba7bcbf0b0ed48128cb30796b13c9250"
          ]
        }
      },
      "outputs": [
        {
          "output_type": "display_data",
          "data": {
            "text/plain": [
              "Tab(children=(Output(), Output()), _titles={'0': 'Youtube', '1': 'Bilibili'})"
            ],
            "application/vnd.jupyter.widget-view+json": {
              "version_major": 2,
              "version_minor": 0,
              "model_id": "4a31a9c498254c339aaa49cbef6ff075"
            }
          },
          "metadata": {}
        }
      ],
      "source": [
        "# @title Video: Emily Denton\n",
        "\n",
        "from ipywidgets import widgets\n",
        "out2 = widgets.Output()\n",
        "with out2:\n",
        "  from IPython.display import IFrame\n",
        "  class BiliVideo(IFrame):\n",
        "    def __init__(self, id, page=1, width=400, height=300, **kwargs):\n",
        "      self.id=id\n",
        "      src = \"https://player.bilibili.com/player.html?bvid={0}&page={1}\".format(id, page)\n",
        "      super(BiliVideo, self).__init__(src, width, height, **kwargs)\n",
        "\n",
        "  video = BiliVideo(id=\"BV1yt4y187HA\", width=854, height=480, fs=1)\n",
        "  print(\"Video available at https://www.bilibili.com/video/{0}\".format(video.id))\n",
        "  display(video)\n",
        "\n",
        "out1 = widgets.Output()\n",
        "with out1:\n",
        "  from IPython.display import YouTubeVideo\n",
        "  video = YouTubeVideo(id=\"CqL0jb-au-Q\", width=854, height=480, fs=1, rel=0)\n",
        "  print(\"Video available at https://youtube.com/watch?v=\" + video.id)\n",
        "  display(video)\n",
        "\n",
        "out = widgets.Tab([out1, out2])\n",
        "out.set_title(0, 'Youtube')\n",
        "out.set_title(1, 'Bilibili')\n",
        "\n",
        "display(out)"
      ]
    },
    {
      "cell_type": "code",
      "execution_count": 2,
      "metadata": {
        "cellView": "form",
        "execution": {},
        "id": "SPT_blZ7i0KS",
        "outputId": "6fbb39ab-f9c1-44cf-d386-cc0264c731ce",
        "colab": {
          "base_uri": "https://localhost:8080/",
          "height": 503
        }
      },
      "outputs": [
        {
          "output_type": "execute_result",
          "data": {
            "text/plain": [
              "<IPython.lib.display.IFrame at 0x7f69db30e790>"
            ],
            "text/html": [
              "\n",
              "        <iframe\n",
              "            width=\"854\"\n",
              "            height=\"480\"\n",
              "            src=\"https://mfr.ca-1.osf.io/render?url=https://osf.io/download/ezrvp/?direct%26mode=render\"\n",
              "            frameborder=\"0\"\n",
              "            allowfullscreen\n",
              "        ></iframe>\n",
              "        "
            ]
          },
          "metadata": {},
          "execution_count": 2
        }
      ],
      "source": [
        "# @title Slides\n",
        "from IPython.display import IFrame\n",
        "IFrame(src=\"https://mfr.ca-1.osf.io/render?url=https://osf.io/download/ezrvp/?direct%26mode=render\", width=854, height=480)"
      ]
    },
    {
      "cell_type": "markdown",
      "source": [
        "These are the slides for the video in this bonus lecture. If you want to locally dowload the slides, click [here](https://osf.io/download/ezrvp/)."
      ],
      "metadata": {
        "id": "p5eEy6Kwi8Ef"
      }
    },
    {
      "cell_type": "markdown",
      "source": [
        "---"
      ],
      "metadata": {
        "id": "79NWx-cLjM53"
      }
    },
    {
      "cell_type": "code",
      "execution_count": 3,
      "metadata": {
        "cellView": "form",
        "execution": {},
        "id": "2aIzgVzci0KT",
        "outputId": "3a1d5276-89a1-468e-82a9-823885dc25b2",
        "colab": {
          "base_uri": "https://localhost:8080/",
          "height": 582,
          "referenced_widgets": [
            "cd29f8c95cce406fa1a02223282da328",
            "b54e8170f74d4f2db10107f58e35cb34",
            "952fb4b2abb947dd9690e97599ebb951",
            "02231fee3b6e443aa44e0cc0ad587afc",
            "926b20dd87c04849906095ec9965370b",
            "b1a11ee05d9c4eb48428a0945454a250"
          ]
        }
      },
      "outputs": [
        {
          "output_type": "display_data",
          "data": {
            "text/plain": [
              "Tab(children=(Output(), Output()), _titles={'0': 'Youtube', '1': 'Bilibili'})"
            ],
            "application/vnd.jupyter.widget-view+json": {
              "version_major": 2,
              "version_minor": 0,
              "model_id": "cd29f8c95cce406fa1a02223282da328"
            }
          },
          "metadata": {}
        }
      ],
      "source": [
        "# @title Video: Melanie Mitchell\n",
        "\n",
        "from ipywidgets import widgets\n",
        "out2 = widgets.Output()\n",
        "with out2:\n",
        "  from IPython.display import IFrame\n",
        "  class BiliVideo(IFrame):\n",
        "    def __init__(self, id, page=1, width=400, height=300, **kwargs):\n",
        "      self.id=id\n",
        "      src = \"https://player.bilibili.com/player.html?bvid={0}&page={1}\".format(id, page)\n",
        "      super(BiliVideo, self).__init__(src, width, height, **kwargs)\n",
        "\n",
        "  video = BiliVideo(id=f\"BV1nP4y1x7xj\", width=854, height=480, fs=1)\n",
        "  print(\"Video available at https://www.bilibili.com/video/{0}\".format(video.id))\n",
        "  display(video)\n",
        "\n",
        "out1 = widgets.Output()\n",
        "with out1:\n",
        "  from IPython.display import YouTubeVideo\n",
        "  video = YouTubeVideo(id=f\"17Z9rm5xKBo\", width=854, height=480, fs=1, rel=0)\n",
        "  print(\"Video available at https://youtube.com/watch?v=\" + video.id)\n",
        "  display(video)\n",
        "\n",
        "out = widgets.Tab([out1, out2])\n",
        "out.set_title(0, 'Youtube')\n",
        "out.set_title(1, 'Bilibili')\n",
        "\n",
        "display(out)"
      ]
    },
    {
      "cell_type": "code",
      "execution_count": 4,
      "metadata": {
        "cellView": "form",
        "execution": {},
        "id": "M3-1rDu4i0KV",
        "outputId": "536ec08d-58d2-451c-e13c-3fc8b035db47",
        "colab": {
          "base_uri": "https://localhost:8080/",
          "height": 503
        }
      },
      "outputs": [
        {
          "output_type": "execute_result",
          "data": {
            "text/plain": [
              "<IPython.lib.display.IFrame at 0x7f69d8071110>"
            ],
            "text/html": [
              "\n",
              "        <iframe\n",
              "            width=\"854\"\n",
              "            height=\"480\"\n",
              "            src=\"https://mfr.ca-1.osf.io/render?url=https://osf.io/download/ufj5b/?direct%26mode=render\"\n",
              "            frameborder=\"0\"\n",
              "            allowfullscreen\n",
              "        ></iframe>\n",
              "        "
            ]
          },
          "metadata": {},
          "execution_count": 4
        }
      ],
      "source": [
        "# @title Slides\n",
        "from IPython.display import IFrame\n",
        "IFrame(src=\"https://mfr.ca-1.osf.io/render?url=https://osf.io/download/ufj5b/?direct%26mode=render\", width=854, height=480)"
      ]
    },
    {
      "cell_type": "markdown",
      "source": [
        "These are the slides for the video in this bonus lecture. If you want to locally dowload the slides, click [here](https://osf.io/download/ufj5b/)."
      ],
      "metadata": {
        "id": "lwyBE_6zjSOf"
      }
    }
  ],
  "metadata": {
    "colab": {
      "collapsed_sections": [],
      "name": "W3D3_BonusLecture",
      "provenance": [],
      "toc_visible": true,
      "include_colab_link": true
    },
    "kernel": {
      "display_name": "Python 3",
      "language": "python",
      "name": "python3"
    },
    "kernelspec": {
      "display_name": "Python 3",
      "name": "python3"
    },
    "language_info": {
      "name": "python"
    },
    "widgets": {
      "application/vnd.jupyter.widget-state+json": {
        "4a31a9c498254c339aaa49cbef6ff075": {
          "model_module": "@jupyter-widgets/controls",
          "model_name": "TabModel",
          "model_module_version": "1.5.0",
          "state": {
            "_dom_classes": [],
            "_model_module": "@jupyter-widgets/controls",
            "_model_module_version": "1.5.0",
            "_model_name": "TabModel",
            "_titles": {
              "0": "Youtube",
              "1": "Bilibili"
            },
            "_view_count": null,
            "_view_module": "@jupyter-widgets/controls",
            "_view_module_version": "1.5.0",
            "_view_name": "TabView",
            "box_style": "",
            "children": [
              "IPY_MODEL_0e31817c67f0430794eb947fa311b0d8",
              "IPY_MODEL_6fd8164f1eb147689da4a9b520062dba"
            ],
            "layout": "IPY_MODEL_47b93bc8343a4ad7959517f436f263c4",
            "selected_index": 0
          }
        },
        "0e31817c67f0430794eb947fa311b0d8": {
          "model_module": "@jupyter-widgets/output",
          "model_name": "OutputModel",
          "model_module_version": "1.0.0",
          "state": {
            "_dom_classes": [],
            "_model_module": "@jupyter-widgets/output",
            "_model_module_version": "1.0.0",
            "_model_name": "OutputModel",
            "_view_count": null,
            "_view_module": "@jupyter-widgets/output",
            "_view_module_version": "1.0.0",
            "_view_name": "OutputView",
            "layout": "IPY_MODEL_56e28761e4c043f6821ddb242cf11dbf",
            "msg_id": "",
            "outputs": [
              {
                "output_type": "stream",
                "name": "stdout",
                "text": [
                  "Video available at https://youtube.com/watch?v=CqL0jb-au-Q\n"
                ]
              },
              {
                "output_type": "display_data",
                "data": {
                  "text/plain": "<IPython.lib.display.YouTubeVideo at 0x7f69db30ee90>",
                  "text/html": "\n        <iframe\n            width=\"854\"\n            height=\"480\"\n            src=\"https://www.youtube.com/embed/CqL0jb-au-Q?fs=1&rel=0\"\n            frameborder=\"0\"\n            allowfullscreen\n        ></iframe>\n        ",
                  "image/jpeg": "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\n"
                },
                "metadata": {}
              }
            ]
          }
        },
        "6fd8164f1eb147689da4a9b520062dba": {
          "model_module": "@jupyter-widgets/output",
          "model_name": "OutputModel",
          "model_module_version": "1.0.0",
          "state": {
            "_dom_classes": [],
            "_model_module": "@jupyter-widgets/output",
            "_model_module_version": "1.0.0",
            "_model_name": "OutputModel",
            "_view_count": null,
            "_view_module": "@jupyter-widgets/output",
            "_view_module_version": "1.0.0",
            "_view_name": "OutputView",
            "layout": "IPY_MODEL_ba7bcbf0b0ed48128cb30796b13c9250",
            "msg_id": "",
            "outputs": [
              {
                "output_type": "stream",
                "name": "stdout",
                "text": [
                  "Video available at https://www.bilibili.com/video/BV1yt4y187HA\n"
                ]
              },
              {
                "output_type": "display_data",
                "data": {
                  "text/plain": "<__main__.BiliVideo at 0x7f69db30ef90>",
                  "text/html": "\n        <iframe\n            width=\"854\"\n            height=\"480\"\n            src=\"https://player.bilibili.com/player.html?bvid=BV1yt4y187HA&page=1?fs=1\"\n            frameborder=\"0\"\n            allowfullscreen\n        ></iframe>\n        "
                },
                "metadata": {}
              }
            ]
          }
        },
        "47b93bc8343a4ad7959517f436f263c4": {
          "model_module": "@jupyter-widgets/base",
          "model_name": "LayoutModel",
          "model_module_version": "1.2.0",
          "state": {
            "_model_module": "@jupyter-widgets/base",
            "_model_module_version": "1.2.0",
            "_model_name": "LayoutModel",
            "_view_count": null,
            "_view_module": "@jupyter-widgets/base",
            "_view_module_version": "1.2.0",
            "_view_name": "LayoutView",
            "align_content": null,
            "align_items": null,
            "align_self": null,
            "border": null,
            "bottom": null,
            "display": null,
            "flex": null,
            "flex_flow": null,
            "grid_area": null,
            "grid_auto_columns": null,
            "grid_auto_flow": null,
            "grid_auto_rows": null,
            "grid_column": null,
            "grid_gap": null,
            "grid_row": null,
            "grid_template_areas": null,
            "grid_template_columns": null,
            "grid_template_rows": null,
            "height": null,
            "justify_content": null,
            "justify_items": null,
            "left": null,
            "margin": null,
            "max_height": null,
            "max_width": null,
            "min_height": null,
            "min_width": null,
            "object_fit": null,
            "object_position": null,
            "order": null,
            "overflow": null,
            "overflow_x": null,
            "overflow_y": null,
            "padding": null,
            "right": null,
            "top": null,
            "visibility": null,
            "width": null
          }
        },
        "56e28761e4c043f6821ddb242cf11dbf": {
          "model_module": "@jupyter-widgets/base",
          "model_name": "LayoutModel",
          "model_module_version": "1.2.0",
          "state": {
            "_model_module": "@jupyter-widgets/base",
            "_model_module_version": "1.2.0",
            "_model_name": "LayoutModel",
            "_view_count": null,
            "_view_module": "@jupyter-widgets/base",
            "_view_module_version": "1.2.0",
            "_view_name": "LayoutView",
            "align_content": null,
            "align_items": null,
            "align_self": null,
            "border": null,
            "bottom": null,
            "display": null,
            "flex": null,
            "flex_flow": null,
            "grid_area": null,
            "grid_auto_columns": null,
            "grid_auto_flow": null,
            "grid_auto_rows": null,
            "grid_column": null,
            "grid_gap": null,
            "grid_row": null,
            "grid_template_areas": null,
            "grid_template_columns": null,
            "grid_template_rows": null,
            "height": null,
            "justify_content": null,
            "justify_items": null,
            "left": null,
            "margin": null,
            "max_height": null,
            "max_width": null,
            "min_height": null,
            "min_width": null,
            "object_fit": null,
            "object_position": null,
            "order": null,
            "overflow": null,
            "overflow_x": null,
            "overflow_y": null,
            "padding": null,
            "right": null,
            "top": null,
            "visibility": null,
            "width": null
          }
        },
        "ba7bcbf0b0ed48128cb30796b13c9250": {
          "model_module": "@jupyter-widgets/base",
          "model_name": "LayoutModel",
          "model_module_version": "1.2.0",
          "state": {
            "_model_module": "@jupyter-widgets/base",
            "_model_module_version": "1.2.0",
            "_model_name": "LayoutModel",
            "_view_count": null,
            "_view_module": "@jupyter-widgets/base",
            "_view_module_version": "1.2.0",
            "_view_name": "LayoutView",
            "align_content": null,
            "align_items": null,
            "align_self": null,
            "border": null,
            "bottom": null,
            "display": null,
            "flex": null,
            "flex_flow": null,
            "grid_area": null,
            "grid_auto_columns": null,
            "grid_auto_flow": null,
            "grid_auto_rows": null,
            "grid_column": null,
            "grid_gap": null,
            "grid_row": null,
            "grid_template_areas": null,
            "grid_template_columns": null,
            "grid_template_rows": null,
            "height": null,
            "justify_content": null,
            "justify_items": null,
            "left": null,
            "margin": null,
            "max_height": null,
            "max_width": null,
            "min_height": null,
            "min_width": null,
            "object_fit": null,
            "object_position": null,
            "order": null,
            "overflow": null,
            "overflow_x": null,
            "overflow_y": null,
            "padding": null,
            "right": null,
            "top": null,
            "visibility": null,
            "width": null
          }
        },
        "cd29f8c95cce406fa1a02223282da328": {
          "model_module": "@jupyter-widgets/controls",
          "model_name": "TabModel",
          "model_module_version": "1.5.0",
          "state": {
            "_dom_classes": [],
            "_model_module": "@jupyter-widgets/controls",
            "_model_module_version": "1.5.0",
            "_model_name": "TabModel",
            "_titles": {
              "0": "Youtube",
              "1": "Bilibili"
            },
            "_view_count": null,
            "_view_module": "@jupyter-widgets/controls",
            "_view_module_version": "1.5.0",
            "_view_name": "TabView",
            "box_style": "",
            "children": [
              "IPY_MODEL_b54e8170f74d4f2db10107f58e35cb34",
              "IPY_MODEL_952fb4b2abb947dd9690e97599ebb951"
            ],
            "layout": "IPY_MODEL_02231fee3b6e443aa44e0cc0ad587afc",
            "selected_index": 0
          }
        },
        "b54e8170f74d4f2db10107f58e35cb34": {
          "model_module": "@jupyter-widgets/output",
          "model_name": "OutputModel",
          "model_module_version": "1.0.0",
          "state": {
            "_dom_classes": [],
            "_model_module": "@jupyter-widgets/output",
            "_model_module_version": "1.0.0",
            "_model_name": "OutputModel",
            "_view_count": null,
            "_view_module": "@jupyter-widgets/output",
            "_view_module_version": "1.0.0",
            "_view_name": "OutputView",
            "layout": "IPY_MODEL_926b20dd87c04849906095ec9965370b",
            "msg_id": "",
            "outputs": [
              {
                "output_type": "stream",
                "name": "stdout",
                "text": [
                  "Video available at https://youtube.com/watch?v=17Z9rm5xKBo\n"
                ]
              },
              {
                "output_type": "display_data",
                "data": {
                  "text/plain": "<IPython.lib.display.YouTubeVideo at 0x7f69d8071b90>",
                  "text/html": "\n        <iframe\n            width=\"854\"\n            height=\"480\"\n            src=\"https://www.youtube.com/embed/17Z9rm5xKBo?fs=1&rel=0\"\n            frameborder=\"0\"\n            allowfullscreen\n        ></iframe>\n        ",
                  "image/jpeg": "/9j/4AAQSkZJRgABAQAAAQABAAD/2wCEABALDBkYFhwaGRoeHRsfIzAmIiIiIiooLScyOjc2PTI+MTg1SFBFNThLOTItRGFFS1NWW11bMkFlbWVYbFBZW1cBERISGRYZLRsbMF0+Nz1fV1pXV1dXV1dXV1dXV1ddV11fV19XXVdXXVdXV1ddV11XV1pXXVdYX11XXV1XV11aV//AABEIAWgB4AMBIgACEQEDEQH/xAAbAAEAAwADAQAAAAAAAAAAAAAABAUGAgMHAf/EAFAQAAIBAgEFCggLBQYGAwEAAAABAgMEEQUSITFBBhMXNFFTYZKx0hQiM1Jxc5HRFTJCVHKBg6GzwdMWI5OUsgckQ2Lh8FVjgsLi8TVEomT/xAAZAQEBAQEBAQAAAAAAAAAAAAAAAQIDBAX/xAArEQEBAAIBAQcDAwUAAAAAAAAAAQIRAxIEEyExMlHwFEHRcZGxQoGhweH/2gAMAwEAAhEDEQA/APPwAAAAAAAAAAAAAAAAAAAAAAAAAAAAAAAAAAAAAAAAAAAAAAAAAAAAAAAAAAAAAAAAAAAAAAAAAAAAAAAAAAAAAAAAAAAAAAAAAAAAAAAAAAAAAAAAAAAAAAAAAAAAAAAAAAAAAAAAAAAAAAAAAAAAAAAAAAAAAAAAa/g5vedt+tPujg5vedt+tPugZAGv4Ob3nbfrT7o4Ob3nbfrT7oGQBr+Dm952360+6ODm952360+6BkAa/g5vedt+tPujg5vedt+tPugZAGv4Ob3nbfrT7o4Ob3nbfrT7oGQBr+Dm952360+6ODm952360+6BkAa/g5vedt+tPujg5vedt+tPugZAGv4Ob3nbfrT7o4Ob3nbfrT7oGQBr+Dm952360+6ODm952360+6BkAa/g5vedt+tPujg5vedt+tPugZAGv4Ob3nbfrT7o4Ob3nbfrT7oGQBr+Dm952360+6ODm952360+6BkAa/g5vedt+tPujg5vedt+tPugZAGv4Ob3nbfrT7o4Ob3nbfrT7oGQBr+Dm952360+6ODm952360+6BkAa/g5vedt+tPujg5vedt+tPugZAGv4Ob3nbfrT7o4Ob3nbfrT7oGQBr+Dm952360+6ODm952360+6BkAa/g5vedt+tPujg5vedt+tPugZAGv4Ob3nbfrT7o4Ob3nbfrT7oGQBr+Dm952360+6ODm952360+6BkAa/g5vedt+tPujg5vedt+tPugZAGv4Ob3nbfrT7o4Ob3nbfrT7oGQBpMo7ibq3gpTnRabwWbKTf3xXIQP2frcsPa/cYueOPha1MbfJVAtf2frcsPa/cfHkGsnhnQ9r9xO9w917vL2VYLP4CrcsPa/cfYZArN4Z0Pa/cO9w9zu8vZVgtf2fredT6z9w+AK3nU/a/cO8w9zu8vZVAto7nqz1Sp+1+44/ANbzoe1+4d7h7nd5eyrBafANblh7X7ixyfuIuriDnCpQSTw8aUsfuizUzxvlUuNnmzQNfwc3vO2/Wn3ThW/s9vIQlN1LfCKcnhKez/AKTTL1IAAAAAAAAAAAAAAAAAAAAAAAAAAAAAAAAAAAAAAAAAAAAAAAAAAAAAAAAAAAABR7qvIQ1fH2+hmXS6V7TVbqfIQ+n+TMr9T9h4ef1vVxelyhHStK9p8qNKT0I7bdYvV92BV15OtdK3jLNjJ+O+j/0cscerJ1t1Eipexis7Mk4rW4xbSOdjeU6zeY9OH1mkt5W6g6cHHNgsGsNhj90NlGlJXFtKOanpzdnSdceOZeDNtninSpYt69ZxdJcnYcLOrGtSU3ji9eC27TnKEenqs5+V1W5dx2WkUp/6o6qjwk1o0PkOdvgpLDHH0M5X2io9K06dTJ/UfZHdTpZrtyLxtp+sfYjIOT5V95r9yDxtp+sfYjvw+px5fSvSPlDi9b1cuxkgj5Q4vW9XLsZ7HlSAAAAAAAAAAAAAAAAAAAAAAAAAAAAAAAAAAAAAAAAAAAAAAAAAAAAAAAAAAAAAFLuohjQh9P8AJmY8HRqN07/cQ+n+TMzndK9n+h8/tHrevh9LspQUIyZQ7nW6l+029MZFxc1s2jJ69DMtaXip3cKixis7B+hmuCblXkurG78Do0VNTqNylHa9JCr5OjvMvHxjJaEfbyVXQv3bjrTbal2Mr8tX06NvF4rfHgtWg6Y7XKSR05It0oSgvGzZYY4Po5CbvH+X+oo8g3GLlGWOL07Pr1l24rk++PvMcksyMLLHOFPCSeG3pOy+hi4vB6sNHQRXFcn3r3ky5SlBPkfacb5txBdPol7Wa7cksLefrH2IybS6PaveazcnxeXrH2I78Pqcub0rwj5Q4vW9XLsZII+UOL1vVy7Gex5EgAAAAAAAAAAAAAAAAAAAAAAAHw+lblJ1JVqFKFadJTz3JwUG3glh8ZND4MrfPrn2UP0wLIFb8GVvn1z7KH6Y+DK3z659lD9MCyBW/Blb59c+yh+mPgyt8+ufZQ/TAsgVvwZW+fXPsofpj4MrfPrn2UP0wLIFb8GVvn1z7KH6Y+DK3z659lD9MCyBW/Blb59c+yh+mPgyt8+ufZQ/TAsgVvwZW+fXPsofpj4MrfPrn2UP0wLIFb8GVvn1z7KH6Y+DK3z659lD9MCyBW/Blb59c+yh+mPgyt8+ufZQ/TAsgVvwZW+fXPsofpj4MrfPrn2UP0wLIFb8GVvn1z7KH6Y+DK3z659lD9MCyBW/BlX59c+yh+mduSak5UE5yc5KU4uTwTeE5JY4YLUkBNAAAAAUu6lJ0IY+f+TMrmR/3/7NxlKwVxBQcnHB46Cte5iHOy9iPHzcWeWW49HHyY446rONpJIiU8gUrucnT0ec1qX3mrq7lISWG/TX/SiVkzIELaMoxnKWc8W2kuwuPDlPFby426+ytnZqjQUc7OcY63p/2jOZQtfCI+M+k3VzklVP8SS+pEWluapxa/eSeGzBHTHDKLeTGzTBvJrt5xaTSa2k1XMtCTl06WbK+3PU6+bjUknHQsEiLLchS2VZrRyI102+bhctXwZp1n50vb/qSM7Gk/Rj7C/p7lKcf8ab+pHZHczTWjfZ4adiON4bvwd5zTXix2+9P3/6mw3HvG2n6x9iOH7JUecmWmS8nRtqbhGTknLO0/V7jpx4WXdY5M5lNRNI+UOL1vVy7GSCPlDi9b1cuxndwSAAAAAAAAAAAAAAAAAAAAAAAAV95xu19FTsRYFfecbtfRU7EWAAAAAAAAAAAAAAAAAAAAAAAAAAAAEQcjeQ+0qfiSJyIORvIfaVfxJATgAAAAAAAAAAAAAAAAAAAAAj5Q4vW9XLsZII+UOL1vVy7GBIAAAAAAAAAAAAAAAAAAAAAAABX3nG7X0VOxFgV95xu19FTsRYADhVlmwk+RNnM6rnyc/ovsAiW3hE6cJ77TWdFSw3p7Vj5x271cc9T/hPvHLJ3F6Pq49iI+XMs0rGg6tV47IRWuT5F7wOjKWUHaKLr3NOOfLNj+5bb9ktSJkYV2k1XpNPSmqT0/8A7PLLTKtW8ytbVazxbrQSjsis5aEejyTsHik3ZvWlp3h8q/5fR8n0agm71cc9T/gvvDerjnqf8F94lJprFPFPU0fQIm9XHPU/4L7xDs7916lSnSuqUp03hJKk/u8bSulH2tUleSlSptxt4vNq1E8HNrXCD5NkpfUtOOGC3V16lplZztsabpxgo5q0JZq0YcnQB6RvVxz1P+C+8N6uOep/wX3iv3NboYX1LVmVorx4fmuVF2BE3q456n/BfeOFZ1qcJTncUowisZSdJpJdYl1qsYQlObwjFOUnyJaWeVbrN01S+lvdNSjbRehYaZvlf5IDf5Jyi7ym6lC5pySeDTotNelZxO3q456n/BfePH8iZVr2VdVaSfJKLxwmuR+89eyTlOnd0I1qWOD0NPXF7U+kDlvVxz1P+C+8LedVVZU6koySgpJxg46209r5CWRY8al6qP8AVICUAACIORvIfaVfxJE5EHI3kPtKv4kgJwAAAAAAAAAAAAAAAAAAAAAR8ocXrerl2MkEfKHF63q5djAkAAAAAAAAAAAAAAAAAAAAAAAAr7zjdr6KnYiwK+843a+ip2IsAB1XPk5/RfYdp1XPk5/RfYB15O4vR9XHsRwylk6FxBKXizg86nNJNxf16GuVbTnk7i9H1cexEkCrsasM5061KnTr01i8IpKS8+D5OxnW2754LGNmtb1Ov6OSn/V6Nf3LtS2ebTrUpV5Lx8yCxlGPym8Pk7MPlasGWdCrCcIzptShJJxcdTWzADnFJJJLBLUkfQAKqvSlazlWpJyoyeNaktLT2zguXljt1rTr7brKUFCDpJVqlVfuoxfx+lvZFaMX+eCJtWrGEXOclGMVi23gklrxKbJdehGvLCg6Eq/jUpS/xVraS+Q8cZZnTjy4BOydk/enKpUanXqJZ80sF0RitkVyfWycAB8axWD0op1HwGWDWNm3ofMN7H/y/wCn0arkj39zTpUpTq/E1YYYuWOhJLa3qwAhXdxKtUdvbNJrytZJNU1yR5ZtezW9ic+1tYUacadOObGOr3t7W+UhZFrU810Y0FbThpdHRoT1NYaGnp+vFFmAIseNS9VH+qRKIseNS9VH+qQEoAAEQcjeQ+0q/iSJyIORvIfaVfxJATgAAAAAAAAAAAAAAAAAAAAAj5Q4vW9XLsZII+UOL1vVy7GBIAAAAAAAAAAAAAAAAAAAAAAABX3nG7X0VOxFgV95xu19FTsRYADqufJz+i+w7TqufJz+i+wDrydxej6uPYiJlrK8bbMgpQVWrjmOo82EUtcpPkXItLeHpJeTuL0fVx7EdWV8lUbyi6NaOKelPbF8q6QIuTLqzp+LG6pVK1RrOm5xcqktnuSWo+3NKVnKVeksaDblWpL5PLOHTyx261p1+dRyPUyflS3jWwUFWjKNTVGUVJacdmG1bD0ZU3etSmnG1WmMHodbpmvM5IvXtAs6VSM4xlF4xkk0+VPUcgfQKi2/vst9l5CE2qdPbKUXhnT9DWiOzW9OplfKNj41C5rwjLQ8HLCUXrTT2Na0zsu7edGo7igm8fLUl/iLzo/50vatHIYLLthLKWVpRtmpRlGDc9kVgsW+T0awNtkHLMa8p0N9jWnTSe+w1TjqTfmy5V9a6LogZGyRSsqKpUl0yk9cnysngddeqqcJTljhGLk8Fi8EsdC2szVnlyzq1Fc3FzSU15KlnYqkuV8s3tezUtrepPPt2+5LDOu7WOjXVppav8y/NAX+UMsZPqqMoXlKFani6dTHHDlTW2L2r80i0yPlFXVCNVLDS4vB4ptPBuL2x5Geabkdy8r6e+VMY20XpepzfIvzZ6tSpRhGMIRUYxWCSWCS6AOZFjxqXqo/1SJRFjxqXqo/1SAlAAAiDkbyH2lX8SRORByN5D7Sr+JICcAAAAAAAAAAAAAAAAAAAAAEfKHF63q5djJBHyhxet6uXYwJAAAAAAAAAAAAAAAAAAAAAAAAK+843a+ip2IsCvvON2voqdiLAAdVz5Of0X2HadVz5Of0X2AdeTuL0fVx7ESSNk7i9H1cexEXL2W6VjRdSo8ZPRCC1yfu5WAy1Xs4Kmrze8HNOCmsdK29CW16uUsk8TyfI+U6t7lihVrvFueCj8lLB6EuQ9BhjYvBvGzepv8AwHyP/l9PyfRqC4B8PoAqMl5RsqlxXp27gquOdUwWGf0p/KXT7zlUm7yUqcG1bxbjUmv8RrXCL83ZJ/Utp59uzryt8rSnRe9yhGGa46MPFX3dAHqwKDcrumhf082WEbiCxnBbV50ejsxL8CltLu/rU41IU7ZRlpWM6mOHToO7Oyh5lp16nuOzIPE6P0fzZYAVFKF9CKjClZxitSjKaS+pRFW6vqUXUqUqEqcdM1TlNzw2uKa0ta8OgtwBwo1Y1IRnCSlGSTi1qaeo6I8al6qP9UiFawdrcqhHTQrZ06a5uS0zS/yvHFcjxJseNS9VH+qQEoAAEQcjeQ+0q/iSJyIORvIfaVfxJATgAAAAAAAAAAAAAAAAAAAAAj5Q4vW9XLsZII+UOL1vVy7GBIAAAAAAAAAAAAAAAAAAAAAAABX3nG7X0VOxFgV95xu19FTsRYADqufJz+i+w7TquPJz+i+wDrydxej6uPYiDujyBSv6OZLxakdNOfmv80ydk7i9H1cexEkDyPIFhVtssUKNaObOM/qawelcqPRZt3zcYvCzWiUlrr8qj/k5Xt1LRr78p5Ft7twdaGc6bxi08H0p8qfIT4xSSSSSWhJbAEUkkksEtSPoAFTXpStJyrUk5UJPOrUlpcXtnBdsdutadeB3VWs73KzhbJVN8jBxaejDNWnHk6T1Qh2eS6FCdSpSpxhKq8ZtbfctuCAh7nNz9KwpZsfGqy8pU5ehciLg+H0CvyDxOj9H82WBSWFS7o0YUnZuWYsMVVgsSR4ddfMpfxqYFmCs8OuvmUv41M4Vrm8qRcIW29OWjfJVISzFteC1tLUuUD6pb/fJwX7u2Uoyl505JeKvQtb5XhykuPGpeqj/AFSOdnawoUo06awjFfW+VvlbeLb6ThHjUvVR/qkBKAABEHI3kPtKv4kiciDkbyH2lX8SQE4AAAAAAAAAAAAAAAAAAAAAI+UOL1vVy7GSCPlDi9b1cuxgSAAAAAAAAAAAAAAAAAAAAAAAAV95xu19FTsRYFfecbtfRU7EWAA4yimmnqawOQAh07BRioxq1UopJLOWpfUcvA3z1XrL3EoARfA3z1XrL3DwN89V6y9xKAEXwN89V6y9w8DfPVesvcSgBF8DfPVesvcPA3z1XrL3EoARfA3z1XrL3DwN89V6y9xKAEXwN89V6y9w8DfPVesvcSgBF8DfPVesvcPA3z1XrL3EoARfA3z1XrL3HOjaqEnPOnKTSWMnjoWPvZ3gAAACIORvIfaVfxJE5EHI3kPtKv4kgJwAAAAAAAAAAAAAAAAAAAAAR8ocXrerl2MkEfKHF63q5djAkAAAAAAAAAAAAAAAAAAAAAAAAr7zjdr6KnYiwK+843a+ip2IjZY3ydzbUYVqlGM1UcnTzcXmpYa0wLk6N9nv2Zm+JmZ2dp144YcmorvgWr/xC79tPulHPKVGN54I8pXedqc8aWYpebjm6/uA2gKf4Fq/8Qu/bT7pxyfc1aFw7S4m6mfjK3qywxmvlRlhozl96AugV+XqsoWNzODcZRpTaaeDTweoi0chqUIt3V5i4p+XlyAWGUbidKk5QjnSxSSwk9b6O0lGavbHe5b3Sq3tarhnShG5azY8rb2vUltfRi1ItMl0q1NVKd3eOL/58k09qa2NPQ0BegoLzJ1e2iq9vXr1XTeM6VSo5qpD5SWOqWGlFxZXdOvShVpPOhNYp/72gd4M9SsYXF7eb7KrhCVNRUa1SCWME3oi0jne5KtqUVh4ROpN4QgrmtjJ9bQlrb2IC1yfXnUpZ045ss6SwwktCbSeD06VgSTPWWS6E5OnVVenXisZRV1Waa86DztMfvW0lz3O0GmlO4i2tDVxW0e2QFsCpyNfTcpWty14TSSxeyrDZNfmtjOrL1GNWvY05rGEqs85YtY/u5PZ0oC7IsbmbuXS3qSpqGcqmxvHV7CFXyJYU4SnOlGMIrGUnKWCXtKLJFaxuXOo7WMLffd6p1HKXxsFhnrHxccVg/qezENoCr/Z6z5iPtl7yKorJ1dJY+CV5JaW3vNTZr+TL7n6QL5EHI3kPtKv4kicQcjeQ+0q/iSAnAAAAAAAAAAAAAAAAAAAAABHyhxet6uXYyQR8ocXrerl2MCQAAAAAAAAAAAAAAAAAAAAAAACvvON2voqdiOm/wD/AJCz+jW7IndecbtfRU7EdN//APIWf0a3ZECk3Z7oK0HK0tIVHUzVvlSMW81PUo4bXy/nq88+DbjmKv8ADl7j2e/tJSaq0Wo14LxW9Ul5s+WL+7WjqjlmnvedJSjUUsx0fl5/mpbeXHVhpxwAzm43dBW8S1vIVIt+LSqSi1naPivHbgtD6DT5Wyermi445s4vPpzWuE1qa/3qFraTc1Wr4Or8mK+LST2LlfLLbswRHy1fzTha27/vNZPNeGKpx+VOXo2crAjXV5K4yLVqzSUp203LDVjg08DnlfLUbO3optRlVSjGck3CGCWLlhr6Ft9rXLKdnG3yTXowbcYW80m9b8V6WTatlSuLZUq0VOEoLFP0a1yPpAprHdJkuhBpXWdKTzpzlGedOW1vR/6WhEe63TWNOo69tcJyflaWbNKr0rRomtj26nsaxW6bc5UsKuGmVGT/AHdT8nyS7TU7ityGZm3V1Hx9dOm/k9Mly8i2enUG3pTUoxksUpJPSsHp5VsKiyp7xlGtRp6KVWkq2ZsjPOcW1yY4LRyllfXkLelOrUeEYrF8r5EulvQQMi2lTGd1cLCvWXxebgvix9O19LA6La4VG4ylUcZSUHTlhFYt4Q2E/Jtu3/eKkozq1I64vGMYvSowfJqxe16eRKPkrjt/9On/AEI51Iuzk5xTdtJ4zgtLpPbKK83lWzWtoFLlLdbk6podSpCrTl4k403jCX5rY1qaL3IWU/C7dVc1x0tY4NKWHyo46cGYTcxuU8MryuKy/uym3Fc5p2f5ek9KhBRSjFJJLBJLBICp3RUUo0rhPNq0qsFGS5JTjGSfKmnqPuV+N2Hrp/hzOhPw+7x/+ray+qrVXaodr6Dvytxuw9bP8OYGV3TrKOUak6VChJW9Kbi450E5SW2Sb+tdDxLncTkerQsqtG6pYZ9RtwlmyTi4xWnDHkZdX1lJyVag1GvFYafi1I+bP8nrT6MU46ynKv8Au7eMoVdVRzj5Dlx2OXItT0PVrDlk+pKnXla5zqQhBSjLHGUFqUZva9qetpPHVi59zbwrU5U6kVKE1hJPajjZ2kKMM2CevGTelyb1tvayuy3eTlKNnbvCvVWMpc1T+VJ9OxdLA79zs5SsqLlJyajhnN4t4NpY8uhHPI3kPtKv4kiRZWsKFKFKmsIQioxXQiPkbyH2lX8SQE4AAAAAAAAAAAAAAAAAAAAAI+UOL1vVy7GSCPlDi9b1cuxgSAAAAAAAAAAAAAAAAAAAAAAAAV95xu19FTsRwypk6rVq0atGtGlOlnLxqeennJLViuQ53nG7X0VOxFgBT+B5Q+e0v5b/AMzr+Cr3fN88Kob5hm5/gqxw5Mc7UXhEtZV3VrKpFKmmt6aw0rDT9/b0AQvA8ofPaX8t/wCZ35LyZvDqVKk99r1XjOpm5uhaklsilsLEAR7+1VehUottKpBwbWzFYFdHJV2kksoVMEsF+5pe4uQBS1MkXMlhK/nJY44OhRenZsOfwZd/8QqfwaXuJeUpV1GG8RUnviz08Pi6ccMenAmYAVEMizlUpzuLmdeNN50YShCMc7Y3mrThsLcACrq5GxrVKsLmvSdTByUHTw0LBfGi3qPnwRU+fXftpdwtQBVLI80sFfXSXpo9w+TyNNpp313g1g9NJf8AYT7XfMJb557zVglhHUtXLr+tHeB0WdpChShSprCEFgl/vadOUcmU7nMz3OLptyi4TcWm1hrXQ2TT4BU/s/T+cXf8xMfs/T5+7/mJlsRJSr+FRSS8H3vS9GOdj7sAIn7P0/nF3/MTJOT8l0rdzlDPlOeGdOcnOTw1LF7ETgARByN5D7Sr+JInIg5G8h9pV/EkBOAAAAAAAAAAAAAAAAAAAAACPlDi9b1cuxkgj5Q4vW9XLsYEgAAAAAAAAAAAAAAAAAAAAAAAFfecbtfRU7EQt0EHO5sqW+VIQqTmpb3OUG8INrSulE2843a+ip2Ii5Y49k71lT8Ngcnuepc/d/zNT3mbnf2aqvCvdO2jNUpVldVPjtNrBbY6HpO/dlf16sp2lOpSt4LDPdWoqbqpr5OOuGxva8UZiGTWrKpR36hi7iDz99WZ8Sp8rViB6HHc/SaTVxdtPSmrmpp+86qc52FxGnUnOpa1nhCpUk5OlPzZN6c2Wx7GUm4+/rW7jbVKtGvTk8IKlVU5w+pfI7DZXtnTuKU6NWOdCawa/wB7doEXdC2rC6aeDVGen6mRaG5u1cItqti4pv8AvFbk+kRI151Mh13OWe40q0M7zlFyim+nBI7sv5TuLe1oxtqTnVqpQjLRmweCwxx2vZ/tMKrLkbK2q07elGpUuakklF3NZKOL+U87QWljkazrRbza8JxeE6crirnQfI/G9j1NGEpZIvba4heXVGpmU6kZ1JtqT+MsXr0mmvd2NnOaq27qq4WhLM0VF5ksH7HrT+tMLi6yM7ZKvZb46tN4unKrOSqx+VHxm8HhqfKW1jeQuKUatN4xkvrXKnyNPQdlvUc6cZuLg5RTcZa447H0lTaQVLKdanTeEKlFVpQ2Kec4trkxS0+gCPTybTub28311HmSgoqNWpBLGCb0RaPt9kazoxTca8pSebCEbirnTlyLxva9SWkkZPk1d5QaTk1KDSWt/u1o0nZkaCqrwqclOrNYaMcKS2wSelNP42ODbWnDBJBX2uRaGfvVeFSFVrGObc1nGa25rcta2r6ya9zNryVv5it3iyu7aFaGZPHlTTwcWtTT2NEfJV1KrCWd42ZJwVRLBVEvlLsezFPACJka5nSqOyuJOVSCzqVR/wCLT2P6S1P6mccv28Ktexp1IqcJVZ4xep/u5fmct0tKO90quqpSrU8yW1Z0lGS9DTeg55X43Yeun+HMDrusi5No05VKtvRjCKxbcTM5Fyrku5uZUZ2dKkpPClJr43RLkb2f7xq93mV7irdSt6kZU6VN+LDzuST5cdnJ7TKge1fs5Y/NaXVIkYrJtdJYqzrywS2UKj7IS+5+kibgcrXFzbyjXi3GngoVX8rofK1ymku7eFalOnUipQmmpJgdxByN5D7Sr+JI6dzNSUrC3cpOTzMMXpbwbSx+pHdkbyH2lX8SQE4AAAAAAAAAAAAAAAAAAAAAI+UOL1vVy7GSCPlDi9b1cuxgSAAAAAAAAAAAAAAAAAAAAAAAAV95xu19FTsRFyxx7J3rKn4bJV5xu19FTsRyyjkyFxKlJzqQlSbcJU2k1isHrT2AdGX8hUr+jvdTRNfEmtcX+a5UeePIdxGnOwzMbiVxCUVscFGacsfN0rSeifA7+eXf8SPdHwM8cfC7rH6ce6B0bmtzlKwp6MJVpLx6n5LkR9yzczq1FY0JNTqLGrUX+FT2/wDVLUvad3wO/nl3/Ej3SRk7JtO3z3FylOpLOnObxlJ6li+RLYBEy1bwo5LuKdOKjCFvNRS2LNZPhRjUoRhOKlCUEmmtDWBzureNanOlNYwnFxkscND1lYtzdBfLuf5ir7wKzdRvtKxrW81OrCaSo1MHKWOcsITw28ktu3Tr6tx25BWyjcXKTrvTGOtU/wDy7C5/Zyhzlz/M1feP2coc5c/zNX3gTMqZQha0ZVZpvDRGK1zk9UV0tkbImT50ozrV2nc13nVXsjyRXRFaBb5At6dSNT97OUHjHfKs5qL5UpPWWYFTkvjl/wDTp/0I7rq2nSm69BYt+VpL/EXKuSaXtWh7GuFzkGhUqzqt1oznhnZlacE8FgtCfIcP2coc5c/zNX3gcnN3uiOdC2+U2nGVX/KsdKjsb26UWcIKKSikklgklgkiq/Zyhzlz/M1fefHuboNYOdzg/wD+ir7wOi3fwhc77rtLeWFJbKtRa5dMY6l04kjK3G7D1s/wpllb0IUoRpwiowikopbEjoyjkylcqG+Z/iPOi4TlBp4Ya1p1MCJuj3P0r+jmy8WpHydTDTF9PKnyGDyLuHuKtzKNxGVKlTfjS8/6HLjym8/Zyhzlz/M1feP2coc5c/zNX3gWVtbQpU406cVGEVgkthVZZuJ1qisaEnGc1nVqi/w6felqX1s5/s5Q5y5/mavvJeT8mUrZSVJSxm8ZSlJylJ6tLekCRbUIUoRp04qMIJKKWxIi5G8h9pV/EkTkQcjeQ+0q/iSAnAAAAAAAAAAAAAAAAAAAAABHyhxet6uXYyQR8ocXrerl2MCQAAAAAAAAAAAAAAAAAAAK+4yvSpzlBtJxcU8Xhpl+XScqGU4TrVKUsIShJRWMl42Kx0E6o33eet6TgRKN9F75nYQjCebnOUcH7vQzruMq04TpRxjKNRtZ6ksI4LHSNwmGVupHC+kld2rbSWFTX6ETt/h58esivyhXt51KFOrSp1oVM5xlJRlGOCxx09G0+wyZYSwzbe1eOrCnTeOGvDQNxLjZN1P3+Hnx6yG/w8+PWRBlkuwjJRdvaqT1J06eL9Gg+LJlhi4+D2uMda3univToKmqn7/Dz49ZDf4efHrIrvAcnczacvxKe3VsPryfk7DHeLTDHN8nT18mrWDVWG/w8+PWQ3+Hnx6yKija2Mq1am7O3jvObjJ06eDxWPJoOVe2ybCMJOha4Tlmxap09L9mzaTca6Mt60td/h58eshv8PPj1kQVkuwzs3we1zsMcN7p44ejAiqhYO5jQja20sYuWdGnTaWGtPRrG0mNvkuN/h58eshv8PPj1kV88nZPi2pULVNLFp06aw+46rmzsYKOba203KUY4KFJYJ7dI2TG1a7/AA8+PWQ3+Hnx6yKG6eToRnKNrb1N7moSSp09vJo6SwpZKsZrGFvbSWOGKpU3+Q3Ktwyxm7E7f4efHrIb/Dz49ZFNZULCrKcHaW0Jwm4Zrp08ZYbVo1EmOTsntpKhatt4L93T0vk1axuJcMsbqxYb/Dz49ZDf4efHrIrvAcm6t5tNvyKezXsPrydk9RU3Qtcx6pb3Twf14F2mqsN/h58eshv8PPj1kV9TJ+To/GoWkdGOmnTWjl1Hy6ybZ06UqitLeWCxS3umseTS1gDVWO/w8+PWQ3+Hnx6yK1WOT0lnULWLaTwcKeKx1bD4rLJzrOj4PbZ6ji1vVP3aybXpvss9/h58esiJkV/3desqfiSIN5b2FOMJxtLapGVRQ8WnT0N/Ud9tlKEVvdOioqFbec2LjFLpS0aNOpDqjU4srN6WwOnwmnnZm+QzscMM5Y+weFUsG98hhF4N5y0PpKxqu4HVG4ptOSnFxjraksF6T47qnmqW+QzXqecsGDVdwI1/dOjTz1BzwaxUcNC5T5ZXTq5+NOUHCbjg8NPTo9JN/Zei66vslAArIAAAAAAAAAABHyhxet6uXYyQR8ocXrerl2MCQDzDhGveat+rPvDhGveat+rPvAeng8w4Rr3mrfqz7w4Rr3mrfqz7wHp4PMOEa95q36s+8OEa95q36s+8B6eDzDhGveat+rPvDhGveat+rPvAeng8w4Rr3mrfqz7w4Rr3mrfqz7wHp4PMOEa95q36s+8OEa95q36s+8B6eDzDhGveat+rPvDhGveat+rPvAelTt6cm3KEW3hi3FPHDUUN1kutKtVmqaedXpzi8Y45sVpMnwjXvNW/Vn3hwjXvNW/Vn3jNxldePly4/Jp7y3nSlKcqbxldKpTScXjguTHTqPtrZupG33unNqjUnvinmp4tcmraZWp/aFdyWEqNtJcjhN/9x9h/aJeRWCo2yXIoTX/cZ6HX6q9OteP/ADTW2mTq1ONnnxSVDPdR5ywSePvJeQrXMdRxkpUVJ7y1qzZYSeH16PqZiH/aNe81bdWfePkP7Q7yKwjRtklqShNL+oswkZz7RlnLL9/zb/v9m3lYVPDKk5U1Vp1HCUW5Jb24ffyvQRrXJNeFSlitFJ1m5Yr95n6v9cTJcI17zVv1Z94cI17zVv1Z94dESdozn8f41/DV/A01k3eVSjv7wUtMdOEsdZ3X+Sm6tOUKSdJ05QnCMlBrHb2Y+gx3CNe81b9WfeHCNe81b9WfeHRF+pz3v9b+/wA8Gtr5Nr51w4001N0szGfm4Yv08mP+hwp5JuIwhjBNwut9wzlpi0ZXhGveat+rPvDhGveat+rPvDoiztWcmvnlpsKWSqu/Vc6L8apKpTqKeCjnRw0rW2tXIfMlZPrU61u5UlGNKlKnJ50Xi8dDWGwyHCNe81b9WfeHCNe81b9WfeHREvaM7LPducp5KdavTmtEXGVOr0xelfeRXkusrahBrPqRqxlJ4rVHV9yRkOEa95q36s+8OEa95q36s+8W4RMe0ZySezV3OSa7p3EFBPPrqcXnLSscSyyRazpTuHKOap1M6OlasOjUYLhGveat+rPvDhGveat+rPvCYSXZlz5ZY9N+eX4aunkuuqqnvf8A9p1cc6PxcP8AegU8l141o/u1mRuZVc7OWmLS2GU4Rr3mrfqz7w4Rr3mrfqz7xOiNfVZtVQyTWjKm5Uk8LiVSWmPxWtBwhkm4VvSpqnHOjvmLzlilLHDDZg8dJmOEa95q36s+8OEa95q36s+8O7i3tWd+fr+WqqZJruNJOmm4W0qb8aOiTWC/30lhVtKjye6Ob+83rMwxWvDDWYXhGveat+rPvDhGveat+rPvCYSMZdoyy1v7XbU32Sa9TfMKaxlbxprFx0STWJIuMmVp1K7iklVoqKlivFaWlMx3CNe81b9WfeHCNe81b9WfeHRGvqc/n9vw1ksmVXRhhScam+U5TTmnjmLDFbFswEsmV3Jve9d2q3xo/FX16zJ8I17zVv1Z94cI17zVv1Z94dEJ2nONFZqLqxWbVit8qxpTwTWdLHXJPF6uQ7lkis7SdPesK2ZGnjnpqSUsVgti169Okykf7QLpPOVC1UuVU5Y/1HPhGveat+rPvEmDWXarveM+Rq6mSq7jXzYJZ06c4RbWEszDFaNWo7brJtSUqc40MIPPVSkppPx9bx1GP4Rr3mrfqz7w4Rr3mrfqz7xeiMfU5fP009EtIzTcJ04qnBRVN52c3o06+QlRilqWHoPMeEa95q36s+8OEa95q36s+8ajhbuvTweYcI17zVv1Z94cI17zVv1Z94qPTweYcI17zVv1Z94cI17zVv1Z94D08HmHCNe81b9WfeHCNe81b9WfeA9PB5hwjXvNW/Vn3hwjXvNW/Vn3gPTweYcI17zVv1Z94cI17zVv1Z94D08j5Q4vW9XLsZ5xwjXvNW/Vn3jhW/tCvJwlB07fCSaeEZ7f+oDJgAAAAAAAAAAAAAAAAAAAAAAAAAAAAAAAAAAAAAAAAAAAAAAAAAAAAAAAAAAAAAAAAAAAAAAAAAAAAAAAAAAAAAAAAAAAAAAAAAAAAAAAAAAAAAAAAAAAAAAAAAAAAAAAAAAAAAAAAAAAAAAAAAAAAAAAAAAAAAAAAAAAAAAAAAAAAAAAAAAAAAAAAAAAAAAAAAAAAAAAAAAAAAAAAAAAAAAAAAAAAAAAAAAAAAAAAAAAAAAA/9k=\n"
                },
                "metadata": {}
              }
            ]
          }
        },
        "952fb4b2abb947dd9690e97599ebb951": {
          "model_module": "@jupyter-widgets/output",
          "model_name": "OutputModel",
          "model_module_version": "1.0.0",
          "state": {
            "_dom_classes": [],
            "_model_module": "@jupyter-widgets/output",
            "_model_module_version": "1.0.0",
            "_model_name": "OutputModel",
            "_view_count": null,
            "_view_module": "@jupyter-widgets/output",
            "_view_module_version": "1.0.0",
            "_view_name": "OutputView",
            "layout": "IPY_MODEL_b1a11ee05d9c4eb48428a0945454a250",
            "msg_id": "",
            "outputs": [
              {
                "output_type": "stream",
                "name": "stdout",
                "text": [
                  "Video available at https://www.bilibili.com/video/BV1nP4y1x7xj\n"
                ]
              },
              {
                "output_type": "display_data",
                "data": {
                  "text/plain": "<__main__.BiliVideo at 0x7f69d8071e90>",
                  "text/html": "\n        <iframe\n            width=\"854\"\n            height=\"480\"\n            src=\"https://player.bilibili.com/player.html?bvid=BV1nP4y1x7xj&page=1?fs=1\"\n            frameborder=\"0\"\n            allowfullscreen\n        ></iframe>\n        "
                },
                "metadata": {}
              }
            ]
          }
        },
        "02231fee3b6e443aa44e0cc0ad587afc": {
          "model_module": "@jupyter-widgets/base",
          "model_name": "LayoutModel",
          "model_module_version": "1.2.0",
          "state": {
            "_model_module": "@jupyter-widgets/base",
            "_model_module_version": "1.2.0",
            "_model_name": "LayoutModel",
            "_view_count": null,
            "_view_module": "@jupyter-widgets/base",
            "_view_module_version": "1.2.0",
            "_view_name": "LayoutView",
            "align_content": null,
            "align_items": null,
            "align_self": null,
            "border": null,
            "bottom": null,
            "display": null,
            "flex": null,
            "flex_flow": null,
            "grid_area": null,
            "grid_auto_columns": null,
            "grid_auto_flow": null,
            "grid_auto_rows": null,
            "grid_column": null,
            "grid_gap": null,
            "grid_row": null,
            "grid_template_areas": null,
            "grid_template_columns": null,
            "grid_template_rows": null,
            "height": null,
            "justify_content": null,
            "justify_items": null,
            "left": null,
            "margin": null,
            "max_height": null,
            "max_width": null,
            "min_height": null,
            "min_width": null,
            "object_fit": null,
            "object_position": null,
            "order": null,
            "overflow": null,
            "overflow_x": null,
            "overflow_y": null,
            "padding": null,
            "right": null,
            "top": null,
            "visibility": null,
            "width": null
          }
        },
        "926b20dd87c04849906095ec9965370b": {
          "model_module": "@jupyter-widgets/base",
          "model_name": "LayoutModel",
          "model_module_version": "1.2.0",
          "state": {
            "_model_module": "@jupyter-widgets/base",
            "_model_module_version": "1.2.0",
            "_model_name": "LayoutModel",
            "_view_count": null,
            "_view_module": "@jupyter-widgets/base",
            "_view_module_version": "1.2.0",
            "_view_name": "LayoutView",
            "align_content": null,
            "align_items": null,
            "align_self": null,
            "border": null,
            "bottom": null,
            "display": null,
            "flex": null,
            "flex_flow": null,
            "grid_area": null,
            "grid_auto_columns": null,
            "grid_auto_flow": null,
            "grid_auto_rows": null,
            "grid_column": null,
            "grid_gap": null,
            "grid_row": null,
            "grid_template_areas": null,
            "grid_template_columns": null,
            "grid_template_rows": null,
            "height": null,
            "justify_content": null,
            "justify_items": null,
            "left": null,
            "margin": null,
            "max_height": null,
            "max_width": null,
            "min_height": null,
            "min_width": null,
            "object_fit": null,
            "object_position": null,
            "order": null,
            "overflow": null,
            "overflow_x": null,
            "overflow_y": null,
            "padding": null,
            "right": null,
            "top": null,
            "visibility": null,
            "width": null
          }
        },
        "b1a11ee05d9c4eb48428a0945454a250": {
          "model_module": "@jupyter-widgets/base",
          "model_name": "LayoutModel",
          "model_module_version": "1.2.0",
          "state": {
            "_model_module": "@jupyter-widgets/base",
            "_model_module_version": "1.2.0",
            "_model_name": "LayoutModel",
            "_view_count": null,
            "_view_module": "@jupyter-widgets/base",
            "_view_module_version": "1.2.0",
            "_view_name": "LayoutView",
            "align_content": null,
            "align_items": null,
            "align_self": null,
            "border": null,
            "bottom": null,
            "display": null,
            "flex": null,
            "flex_flow": null,
            "grid_area": null,
            "grid_auto_columns": null,
            "grid_auto_flow": null,
            "grid_auto_rows": null,
            "grid_column": null,
            "grid_gap": null,
            "grid_row": null,
            "grid_template_areas": null,
            "grid_template_columns": null,
            "grid_template_rows": null,
            "height": null,
            "justify_content": null,
            "justify_items": null,
            "left": null,
            "margin": null,
            "max_height": null,
            "max_width": null,
            "min_height": null,
            "min_width": null,
            "object_fit": null,
            "object_position": null,
            "order": null,
            "overflow": null,
            "overflow_x": null,
            "overflow_y": null,
            "padding": null,
            "right": null,
            "top": null,
            "visibility": null,
            "width": null
          }
        }
      }
    }
  },
  "nbformat": 4,
  "nbformat_minor": 0
}