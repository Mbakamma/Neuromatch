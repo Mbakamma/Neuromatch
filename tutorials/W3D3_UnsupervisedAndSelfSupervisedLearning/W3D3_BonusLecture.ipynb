{
  "cells": [
    {
      "cell_type": "markdown",
      "metadata": {
        "id": "view-in-github",
        "colab_type": "text"
      },
      "source": [
        "<a href=\"https://colab.research.google.com/github/NeuromatchAcademy/course-content-dl/blob/reruns/tutorials/W3D3_UnsupervisedAndSelfSupervisedLearning/W3D3_BonusLecture.ipynb\" target=\"_parent\"><img src=\"https://colab.research.google.com/assets/colab-badge.svg\" alt=\"Open In Colab\"/></a>"
      ]
    },
    {
      "cell_type": "markdown",
      "metadata": {
        "execution": {},
        "id": "nv5Esul9Xy0U"
      },
      "source": [
        "# Bonus Lecture: Melanie Mitchell"
      ]
    },
    {
      "cell_type": "markdown",
      "metadata": {
        "execution": {},
        "id": "O7LGVrVNXy0Z"
      },
      "source": [
        "<p align='center'><img src='https://github.com/NeuromatchAcademy/widgets/blob/master/sponsors.png?raw=True'/></p>"
      ]
    },
    {
      "cell_type": "markdown",
      "metadata": {
        "execution": {},
        "id": "6FTXC609Xy0a"
      },
      "source": [
        "---"
      ]
    },
    {
      "cell_type": "markdown",
      "metadata": {
        "execution": {},
        "id": "U4vxjH-xXy0b"
      },
      "source": [
        "---"
      ]
    },
    {
      "cell_type": "code",
      "execution_count": 1,
      "metadata": {
        "cellView": "form",
        "execution": {},
        "id": "ykL5XjYTXy0c",
        "outputId": "d193c22f-8e35-4a8d-94dc-0109c5aea7d0",
        "colab": {
          "base_uri": "https://localhost:8080/",
          "height": 582,
          "referenced_widgets": [
            "4a7476ecb9aa463f8488af11fd73e004",
            "2f26fce13a0a45b287504b5a2c06db69",
            "791b2c9bd91541849e6a33169f796dfd",
            "09271b3b576245d7ac30c677f2d99629",
            "090decbf673b4f52bd3fe025c06137d1",
            "58a5262ee32d4066903cacef1ce1ae35"
          ]
        }
      },
      "outputs": [
        {
          "output_type": "display_data",
          "data": {
            "text/plain": [
              "Tab(children=(Output(), Output()), _titles={'0': 'Youtube', '1': 'Bilibili'})"
            ],
            "application/vnd.jupyter.widget-view+json": {
              "version_major": 2,
              "version_minor": 0,
              "model_id": "4a7476ecb9aa463f8488af11fd73e004"
            }
          },
          "metadata": {}
        }
      ],
      "source": [
        "# @title Video: Abstraction and Analogy in AI, Melanie Mitchell\n",
        "\n",
        "from ipywidgets import widgets\n",
        "out2 = widgets.Output()\n",
        "with out2:\n",
        "  from IPython.display import IFrame\n",
        "  class BiliVideo(IFrame):\n",
        "    def __init__(self, id, page=1, width=400, height=300, **kwargs):\n",
        "      self.id=id\n",
        "      src = \"https://player.bilibili.com/player.html?bvid={0}&page={1}\".format(id, page)\n",
        "      super(BiliVideo, self).__init__(src, width, height, **kwargs)\n",
        "\n",
        "  video = BiliVideo(id=\"BV1nP4y1x7xj\", width=854, height=480, fs=1)\n",
        "  print(\"Video available at https://www.bilibili.com/video/{0}\".format(video.id))\n",
        "  display(video)\n",
        "\n",
        "out1 = widgets.Output()\n",
        "with out1:\n",
        "  from IPython.display import YouTubeVideo\n",
        "  video = YouTubeVideo(id=\"17Z9rm5xKBo\", width=854, height=480, fs=1, rel=0)\n",
        "  print(\"Video available at https://youtube.com/watch?v=\" + video.id)\n",
        "  display(video)\n",
        "\n",
        "out = widgets.Tab([out1, out2])\n",
        "out.set_title(0, 'Youtube')\n",
        "out.set_title(1, 'Bilibili')\n",
        "\n",
        "display(out)"
      ]
    },
    {
      "cell_type": "code",
      "execution_count": 2,
      "metadata": {
        "cellView": "form",
        "execution": {},
        "id": "tQumCqHtXy0e",
        "outputId": "70d596fe-204d-4311-f4c5-868555f4afce",
        "colab": {
          "base_uri": "https://localhost:8080/",
          "height": 503
        }
      },
      "outputs": [
        {
          "output_type": "execute_result",
          "data": {
            "text/plain": [
              "<IPython.lib.display.IFrame at 0x7f76a837ffd0>"
            ],
            "text/html": [
              "\n",
              "        <iframe\n",
              "            width=\"854\"\n",
              "            height=\"480\"\n",
              "            src=\"https://mfr.ca-1.osf.io/render?url=https://osf.io/download/ufj5b/?direct%26mode=render\"\n",
              "            frameborder=\"0\"\n",
              "            allowfullscreen\n",
              "        ></iframe>\n",
              "        "
            ]
          },
          "metadata": {},
          "execution_count": 2
        }
      ],
      "source": [
        "# @title Slides\n",
        "from IPython.display import IFrame\n",
        "IFrame(src=\"https://mfr.ca-1.osf.io/render?url=https://osf.io/download/ufj5b/?direct%26mode=render\", width=854, height=480)"
      ]
    },
    {
      "cell_type": "markdown",
      "metadata": {
        "execution": {},
        "id": "1JkalYSXXy0f"
      },
      "source": [
        "These are the slides for the video in this bonus lecture. If you want to locally dowload the slides, click [here](https://osf.io/download/ufj5b/)."
      ]
    }
  ],
  "metadata": {
    "colab": {
      "collapsed_sections": [],
      "name": "W3D3_BonusLecture",
      "provenance": [],
      "toc_visible": true,
      "include_colab_link": true
    },
    "kernel": {
      "display_name": "Python 3",
      "language": "python",
      "name": "python3"
    },
    "kernelspec": {
      "display_name": "Python 3",
      "name": "python3"
    },
    "language_info": {
      "name": "python"
    },
    "widgets": {
      "application/vnd.jupyter.widget-state+json": {
        "4a7476ecb9aa463f8488af11fd73e004": {
          "model_module": "@jupyter-widgets/controls",
          "model_name": "TabModel",
          "model_module_version": "1.5.0",
          "state": {
            "_dom_classes": [],
            "_model_module": "@jupyter-widgets/controls",
            "_model_module_version": "1.5.0",
            "_model_name": "TabModel",
            "_titles": {
              "0": "Youtube",
              "1": "Bilibili"
            },
            "_view_count": null,
            "_view_module": "@jupyter-widgets/controls",
            "_view_module_version": "1.5.0",
            "_view_name": "TabView",
            "box_style": "",
            "children": [
              "IPY_MODEL_2f26fce13a0a45b287504b5a2c06db69",
              "IPY_MODEL_791b2c9bd91541849e6a33169f796dfd"
            ],
            "layout": "IPY_MODEL_09271b3b576245d7ac30c677f2d99629",
            "selected_index": 0
          }
        },
        "2f26fce13a0a45b287504b5a2c06db69": {
          "model_module": "@jupyter-widgets/output",
          "model_name": "OutputModel",
          "model_module_version": "1.0.0",
          "state": {
            "_dom_classes": [],
            "_model_module": "@jupyter-widgets/output",
            "_model_module_version": "1.0.0",
            "_model_name": "OutputModel",
            "_view_count": null,
            "_view_module": "@jupyter-widgets/output",
            "_view_module_version": "1.0.0",
            "_view_name": "OutputView",
            "layout": "IPY_MODEL_090decbf673b4f52bd3fe025c06137d1",
            "msg_id": "",
            "outputs": [
              {
                "output_type": "stream",
                "name": "stdout",
                "text": [
                  "Video available at https://youtube.com/watch?v=17Z9rm5xKBo\n"
                ]
              },
              {
                "output_type": "display_data",
                "data": {
                  "text/plain": "<IPython.lib.display.YouTubeVideo at 0x7f76ac83dd90>",
                  "text/html": "\n        <iframe\n            width=\"854\"\n            height=\"480\"\n            src=\"https://www.youtube.com/embed/17Z9rm5xKBo?fs=1&rel=0\"\n            frameborder=\"0\"\n            allowfullscreen\n        ></iframe>\n        ",
                  "image/jpeg": "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\n"
                },
                "metadata": {}
              }
            ]
          }
        },
        "791b2c9bd91541849e6a33169f796dfd": {
          "model_module": "@jupyter-widgets/output",
          "model_name": "OutputModel",
          "model_module_version": "1.0.0",
          "state": {
            "_dom_classes": [],
            "_model_module": "@jupyter-widgets/output",
            "_model_module_version": "1.0.0",
            "_model_name": "OutputModel",
            "_view_count": null,
            "_view_module": "@jupyter-widgets/output",
            "_view_module_version": "1.0.0",
            "_view_name": "OutputView",
            "layout": "IPY_MODEL_58a5262ee32d4066903cacef1ce1ae35",
            "msg_id": "",
            "outputs": [
              {
                "output_type": "stream",
                "name": "stdout",
                "text": [
                  "Video available at https://www.bilibili.com/video/BV1nP4y1x7xj\n"
                ]
              },
              {
                "output_type": "display_data",
                "data": {
                  "text/plain": "<__main__.BiliVideo at 0x7f76a9204190>",
                  "text/html": "\n        <iframe\n            width=\"854\"\n            height=\"480\"\n            src=\"https://player.bilibili.com/player.html?bvid=BV1nP4y1x7xj&page=1?fs=1\"\n            frameborder=\"0\"\n            allowfullscreen\n        ></iframe>\n        "
                },
                "metadata": {}
              }
            ]
          }
        },
        "09271b3b576245d7ac30c677f2d99629": {
          "model_module": "@jupyter-widgets/base",
          "model_name": "LayoutModel",
          "model_module_version": "1.2.0",
          "state": {
            "_model_module": "@jupyter-widgets/base",
            "_model_module_version": "1.2.0",
            "_model_name": "LayoutModel",
            "_view_count": null,
            "_view_module": "@jupyter-widgets/base",
            "_view_module_version": "1.2.0",
            "_view_name": "LayoutView",
            "align_content": null,
            "align_items": null,
            "align_self": null,
            "border": null,
            "bottom": null,
            "display": null,
            "flex": null,
            "flex_flow": null,
            "grid_area": null,
            "grid_auto_columns": null,
            "grid_auto_flow": null,
            "grid_auto_rows": null,
            "grid_column": null,
            "grid_gap": null,
            "grid_row": null,
            "grid_template_areas": null,
            "grid_template_columns": null,
            "grid_template_rows": null,
            "height": null,
            "justify_content": null,
            "justify_items": null,
            "left": null,
            "margin": null,
            "max_height": null,
            "max_width": null,
            "min_height": null,
            "min_width": null,
            "object_fit": null,
            "object_position": null,
            "order": null,
            "overflow": null,
            "overflow_x": null,
            "overflow_y": null,
            "padding": null,
            "right": null,
            "top": null,
            "visibility": null,
            "width": null
          }
        },
        "090decbf673b4f52bd3fe025c06137d1": {
          "model_module": "@jupyter-widgets/base",
          "model_name": "LayoutModel",
          "model_module_version": "1.2.0",
          "state": {
            "_model_module": "@jupyter-widgets/base",
            "_model_module_version": "1.2.0",
            "_model_name": "LayoutModel",
            "_view_count": null,
            "_view_module": "@jupyter-widgets/base",
            "_view_module_version": "1.2.0",
            "_view_name": "LayoutView",
            "align_content": null,
            "align_items": null,
            "align_self": null,
            "border": null,
            "bottom": null,
            "display": null,
            "flex": null,
            "flex_flow": null,
            "grid_area": null,
            "grid_auto_columns": null,
            "grid_auto_flow": null,
            "grid_auto_rows": null,
            "grid_column": null,
            "grid_gap": null,
            "grid_row": null,
            "grid_template_areas": null,
            "grid_template_columns": null,
            "grid_template_rows": null,
            "height": null,
            "justify_content": null,
            "justify_items": null,
            "left": null,
            "margin": null,
            "max_height": null,
            "max_width": null,
            "min_height": null,
            "min_width": null,
            "object_fit": null,
            "object_position": null,
            "order": null,
            "overflow": null,
            "overflow_x": null,
            "overflow_y": null,
            "padding": null,
            "right": null,
            "top": null,
            "visibility": null,
            "width": null
          }
        },
        "58a5262ee32d4066903cacef1ce1ae35": {
          "model_module": "@jupyter-widgets/base",
          "model_name": "LayoutModel",
          "model_module_version": "1.2.0",
          "state": {
            "_model_module": "@jupyter-widgets/base",
            "_model_module_version": "1.2.0",
            "_model_name": "LayoutModel",
            "_view_count": null,
            "_view_module": "@jupyter-widgets/base",
            "_view_module_version": "1.2.0",
            "_view_name": "LayoutView",
            "align_content": null,
            "align_items": null,
            "align_self": null,
            "border": null,
            "bottom": null,
            "display": null,
            "flex": null,
            "flex_flow": null,
            "grid_area": null,
            "grid_auto_columns": null,
            "grid_auto_flow": null,
            "grid_auto_rows": null,
            "grid_column": null,
            "grid_gap": null,
            "grid_row": null,
            "grid_template_areas": null,
            "grid_template_columns": null,
            "grid_template_rows": null,
            "height": null,
            "justify_content": null,
            "justify_items": null,
            "left": null,
            "margin": null,
            "max_height": null,
            "max_width": null,
            "min_height": null,
            "min_width": null,
            "object_fit": null,
            "object_position": null,
            "order": null,
            "overflow": null,
            "overflow_x": null,
            "overflow_y": null,
            "padding": null,
            "right": null,
            "top": null,
            "visibility": null,
            "width": null
          }
        }
      }
    }
  },
  "nbformat": 4,
  "nbformat_minor": 0
}