{
  "nbformat": 4,
  "nbformat_minor": 0,
  "metadata": {
    "colab": {
      "name": "Copy of Lecture 6.ipynb",
      "provenance": [],
      "collapsed_sections": []
    },
    "kernelspec": {
      "name": "python3",
      "display_name": "Python 3"
    },
    "language_info": {
      "name": "python"
    }
  },
  "cells": [
    {
      "cell_type": "markdown",
      "metadata": {
        "id": "AXdnKjz1yYFs"
      },
      "source": [
        "# Neuromatch Academy: Week 2, Day 5, Tutorial 1\n",
        "\n",
        "# VAEs and GANs : Intro to GANs\n",
        "\n",
        "__Content creators:__ Kai Xu, Seungwook Han, Akash Srivastava.\n",
        "\n",
        "__Content reviewers:__ Name Surname, Name Surname. \n",
        "\n",
        "__Content editors:__ Name Surname, Name Surname.\n",
        "\n",
        "__Production editors:__ Name Surname, Name Surname.  "
      ]
    },
    {
      "cell_type": "markdown",
      "metadata": {
        "id": "v43dTztWyi0P"
      },
      "source": [
        "---\n",
        "\n",
        "## Tutorial Objectives\n",
        "\n",
        "The goal of this tutorial is to introduce GANs training.\n",
        "\n",
        "By the end of this tutorial you will be able to:\n",
        "- Understand, at a high level, how GANs are implemented.\n",
        "- Understand the training dynamics of GANs. \n",
        "- Know about a few failure modes of GAN training."
      ]
    },
    {
      "cell_type": "code",
      "metadata": {
        "colab": {
          "base_uri": "https://localhost:8080/",
          "height": 590
        },
        "id": "Rlq44pN-y4sc",
        "cellView": "form",
        "outputId": "0edd093a-ddda-4659-bb1f-4008bf020d77"
      },
      "source": [
        "#@markdown Tutorial slides\n",
        "# you should link the slides for all tutorial videos here (we will store pdfs on osf)\n",
        "\n",
        "from IPython.display import HTML\n",
        "HTML('<iframe src=\"https://docs.google.com/presentation/d/10YzNRq57FdXMaWGQKBHMErOnfqM1ou8Q\" frameborder=\"0\" width=\"960\" height=\"569\" allowfullscreen=\"true\" mozallowfullscreen=\"true\" webkitallowfullscreen=\"true\"></iframe>')"
      ],
      "execution_count": 1,
      "outputs": [
        {
          "output_type": "execute_result",
          "data": {
            "text/html": [
              "<iframe src=\"https://docs.google.com/presentation/d/10YzNRq57FdXMaWGQKBHMErOnfqM1ou8Q\" frameborder=\"0\" width=\"960\" height=\"569\" allowfullscreen=\"true\" mozallowfullscreen=\"true\" webkitallowfullscreen=\"true\"></iframe>"
            ],
            "text/plain": [
              "<IPython.core.display.HTML object>"
            ]
          },
          "metadata": {
            "tags": []
          },
          "execution_count": 1
        }
      ]
    },
    {
      "cell_type": "markdown",
      "metadata": {
        "id": "dGg3WZhDzGCM"
      },
      "source": [
        "---\n",
        "# Setup"
      ]
    },
    {
      "cell_type": "code",
      "metadata": {
        "id": "p0Ep-7_FzH_U",
        "cellView": "form"
      },
      "source": [
        "#@title Imports\n",
        "import numpy as np\n",
        "import torch\n",
        "import matplotlib.pyplot as plt"
      ],
      "execution_count": 2,
      "outputs": []
    },
    {
      "cell_type": "code",
      "metadata": {
        "id": "RJbqAbxazR7B",
        "cellView": "form"
      },
      "source": [
        "#@title Figure settings\n",
        "import ipywidgets as widgets       # interactive display\n",
        "%config InlineBackend.figure_format = 'retina'\n",
        "plt.style.use(\"https://raw.githubusercontent.com/NeuromatchAcademy/course-content/master/nma.mplstyle\")"
      ],
      "execution_count": 3,
      "outputs": []
    },
    {
      "cell_type": "code",
      "metadata": {
        "id": "Pv3mYNbtzR36",
        "cellView": "form"
      },
      "source": [
        "#@title Plotting functions\n",
        "\n",
        "# You may have functions that plot results that aren't \n",
        "# particularly interesting. You can add these here to hide them. "
      ],
      "execution_count": 4,
      "outputs": []
    },
    {
      "cell_type": "code",
      "metadata": {
        "id": "l2jklNxwzRuG",
        "cellView": "form"
      },
      "source": [
        "#@title Helper functions\n",
        "\n",
        "# If any helper functions you want to hide for clarity (that has been seen before\n",
        "# or is simple/uniformative), add here\n",
        "# If helper code depends on libraries that aren't used elsewhere,\n",
        "# import those libaries here, rather than in the main import cell"
      ],
      "execution_count": 5,
      "outputs": []
    },
    {
      "cell_type": "markdown",
      "metadata": {
        "id": "N6sSNjvbzY89"
      },
      "source": [
        "---\n",
        "\n",
        "# Section 1: How to train GANs.\n"
      ]
    },
    {
      "cell_type": "code",
      "metadata": {
        "colab": {
          "base_uri": "https://localhost:8080/",
          "height": 518
        },
        "cellView": "form",
        "id": "QX4TFHyFc2ac",
        "outputId": "1428c7fc-70f9-4739-95e5-e1f0300a69b7"
      },
      "source": [
        "#@title Video 1: Generative Adversarial Networks\n",
        "# Insert the ID of the corresponding youtube video\n",
        "from IPython.display import YouTubeVideo\n",
        "video = YouTubeVideo(id=\"aY9ANHYeJfQ\", width=854, height=480, fs=1)\n",
        "print(\"Video available at https://youtu.be/\" + video.id)\n",
        "video"
      ],
      "execution_count": 6,
      "outputs": [
        {
          "output_type": "stream",
          "text": [
            "Video available at https://youtu.be/aY9ANHYeJfQ\n"
          ],
          "name": "stdout"
        },
        {
          "output_type": "execute_result",
          "data": {
            "text/html": [
              "\n",
              "        <iframe\n",
              "            width=\"854\"\n",
              "            height=\"480\"\n",
              "            src=\"https://www.youtube.com/embed/aY9ANHYeJfQ?fs=1\"\n",
              "            frameborder=\"0\"\n",
              "            allowfullscreen\n",
              "        ></iframe>\n",
              "        "
            ],
            "text/plain": [
              "<IPython.lib.display.YouTubeVideo at 0x7f4b05c10fd0>"
            ],
            "image/jpeg": "[encoded data removed]"
          },
          "metadata": {
            "tags": []
          },
          "execution_count": 6
        }
      ]
    },
    {
      "cell_type": "markdown",
      "metadata": {
        "id": "xi9YdAWizY1b"
      },
      "source": [
        "GANs consist two networks: A critic or discriminator (`disc`) and a generator (`gen`) that are trained by alternating between the following two steps:\n",
        "- In step 1, we update the parameters (`disc.params`) of the discriminator by backpropogating through the discriminator loss (BCE loss) `disc.loss`.\n",
        "- In step 2, we update the parameters (`gen.params`) of the generator by back propogating throught the generator loss, `gen.loss`.\n",
        "\n",
        "We will now implement a simple GAN training loop!"
      ]
    },
    {
      "cell_type": "markdown",
      "metadata": {
        "id": "hRNzA0XP1E0p"
      },
      "source": [
        "## Coding Exercise 1: The GAN training loop.\n",
        "To get you started we have implemented a simple GAN in pseudocode. All you have to do is to implement the training loop.\n",
        "\n",
        "__Your goal__ is to arrange the functions given below in the correct order in the `train_gan_iter` function\n",
        "- `disc.loss(x_real, x_fake)`: Discriminator loss\n",
        "- `disc.classify(x)`: Classify `x` as real or fake\n",
        "- `gen.loss(x_fake, disc_fn)`: Generator loss\n",
        "- `disc_fn(x)` is a function to check `x` is real or fake.\n",
        "- `gen.sample(num_samples)`: Generate samples from the generator\n",
        "- `backprop(loss, model)`: Compute gradient of `loss` wrt `model`\n",
        "- `model` is either `disc` or `gen`\n",
        "\n",
        "We have already taken care of most of these functions. So you only have to figure out the placement of `disc.loss` and `gen.loss` functions.\n",
        "\n",
        "<!-- Note that this `train_gan_iter` is designed to give a propoer overview of the trianing loop of GANs rather than actually being functional in this notebook. -->"
      ]
    },
    {
      "cell_type": "code",
      "metadata": {
        "id": "C2qsUCY0zX9F",
        "cellView": "form"
      },
      "source": [
        "# @markdown *Execute this cell to enable helper functions*\n",
        "\n",
        "def get_data():\n",
        "  return \"get_data\"\n",
        "\n",
        "class Disc:\n",
        "  def loss(self, x_real, x_fake):\n",
        "    assert x_real == \"get_data\" and x_fake == \"gen.sample\", \"Inputs to disc.loss is wrong\"\n",
        "  def classify(self, x):\n",
        "    return \"disc.classify\"\n",
        "\n",
        "class Gen:\n",
        "  def loss(self, x_fake, disc_fn):\n",
        "    assert x_fake == \"gen.sample\" and disc_fn(None) == \"disc.classify\", \"Inputs to gen.loss is wrong\"\n",
        "  def sample(self, num_samples):\n",
        "    return \"gen.sample\"\n",
        "\n",
        "def backprop(loss, model):\n",
        "  pass\n",
        "\n",
        "def update(model, grad):\n",
        "  pass"
      ],
      "execution_count": 7,
      "outputs": []
    },
    {
      "cell_type": "code",
      "metadata": {
        "id": "fHM_Enpn91Yr"
      },
      "source": [
        "def train_gan_iter(data, disc, gen):\n",
        "  \"\"\"Update the discriminator (`disc`) and the generator (`gen`) using `data`\n",
        "  \n",
        "  Args:\n",
        "    data (ndarray): An array of shape (N,) that contains the data\n",
        "    disc (Disc): The discriminator\n",
        "    gen (Gen): The generator\n",
        "\n",
        "  Returns:\n",
        "  \"\"\"\n",
        "  #################################################\n",
        "  # Intructions for students:                            #\n",
        "  # Fill out [TODO] in the function and remove below #\n",
        "  #################################################\n",
        "  \n",
        "  # Number of samples in the data batch\n",
        "  num_samples = 200\n",
        "\n",
        "  # The data is the real samples\n",
        "  x_real = data\n",
        "\n",
        "  ## Discriminator trianing\n",
        "\n",
        "  # Ask the generator to generate some fake samples\n",
        "  x_fake = gen.sample(num_samples)\n",
        "\n",
        "  # Compute the discriminator loss\n",
        "  disc_loss = ...\n",
        "  raise NotImplementedError(\"Student exercise: Write code to compute disc_loss\")\n",
        "\n",
        "  # Compute the gradient for discriminator\n",
        "  disc_grad = backprop(disc_loss, disc)\n",
        "\n",
        "  # Update the discriminator\n",
        "  update(disc, disc_grad)\n",
        "\n",
        "  ## Generator trianing\n",
        "\n",
        "  # Ask the generator to generate some fake samples\n",
        "  x_fake = gen.sample(num_samples)\n",
        "\n",
        "  # Compute the generator loss\n",
        "  gen_loss = ...\n",
        "  raise NotImplementedError(\"Student exercise: Write code to compute gen_loss\")\n",
        "\n",
        "  # Compute the gradient for generator\n",
        "  gen_grad = backprop(gen_loss, gen)\n",
        "\n",
        "  # Update the generator\n",
        "  update(gen, gen_grad)"
      ],
      "execution_count": 8,
      "outputs": []
    },
    {
      "cell_type": "code",
      "metadata": {
        "id": "zf_5wFc62hsy"
      },
      "source": [
        "# to_remove solution\n",
        "def train_gan_iter(data, disc, gen):\n",
        "  \"\"\"Update the discriminator (`disc`) and the generator (`gen`) using `data`\n",
        "  \n",
        "  Args:\n",
        "    data (ndarray): An array of shape (N,) that contains the data\n",
        "    disc (Disc): The discriminator\n",
        "    gen (Gen): The generator\n",
        "\n",
        "  Returns:\n",
        "  \"\"\"\n",
        "  \n",
        "  # Number of samples in the data batch\n",
        "  num_samples = 200\n",
        "\n",
        "  # The data is the real samples\n",
        "  x_real = data\n",
        "\n",
        "  ## Discriminator trianing\n",
        "\n",
        "  # Ask the generator to generate some fake samples\n",
        "  x_fake = gen.sample(num_samples)\n",
        "\n",
        "  # Compute the discriminator loss\n",
        "  disc_loss = disc.loss(x_real, x_fake)\n",
        "\n",
        "  # Compute the gradient for discriminator\n",
        "  disc_grad = backprop(disc_loss, disc)\n",
        "\n",
        "  # Update the discriminator\n",
        "  update(disc, disc_grad)\n",
        "\n",
        "  ## Generator trianing\n",
        "\n",
        "  # Ask the generator to generate some fake samples\n",
        "  x_fake = gen.sample(num_samples)\n",
        "\n",
        "  # Compute the generator loss\n",
        "  gen_loss = gen.loss(x_fake, disc.classify)\n",
        "\n",
        "  # Compute the gradient for generator\n",
        "  gen_grad = backprop(gen_loss, gen)\n",
        "\n",
        "  # Update the generator\n",
        "  update(gen, gen_grad)"
      ],
      "execution_count": 9,
      "outputs": []
    },
    {
      "cell_type": "code",
      "metadata": {
        "colab": {
          "base_uri": "https://localhost:8080/"
        },
        "id": "iHulMDVPw53Z",
        "outputId": "7cca81b9-55da-4041-9760-12e6d367f430"
      },
      "source": [
        "data = get_data()\n",
        "disc = Disc()\n",
        "gen = Gen()\n",
        "\n",
        "train_gan_iter(data, disc, gen)\n",
        "\n",
        "print(\"Your implementation passes the check!\")"
      ],
      "execution_count": 10,
      "outputs": [
        {
          "output_type": "stream",
          "text": [
            "Your implementation passes the check!\n"
          ],
          "name": "stdout"
        }
      ]
    },
    {
      "cell_type": "markdown",
      "metadata": {
        "id": "CsTJtUhl-xEr"
      },
      "source": [
        "---\n",
        "\n",
        "# Section 2: The difficulty of GAN trianing\n",
        "\n",
        "In this section we will develop an intuition for the training dynamics of GANs. "
      ]
    },
    {
      "cell_type": "markdown",
      "metadata": {
        "id": "KNWXN455_hFz"
      },
      "source": [
        "# Interactive Demo 1: Failure modes of GAN trianing\n",
        "\n",
        "GAN training is notoriously difficult because \n",
        "it is very sensitive to hyper-parameters such form learning rate to model architecture. To help you develop a sense of this, here is a very simple GAN training demo that we have borrowed from Andrej Karpathy's website.  \n",
        "\n",
        "Even though the GAN in this demo is very simple and operates in either 1D or 2D spaces, it is however very sensitive to the learning rate. Try it for yourself!"
      ]
    },
    {
      "cell_type": "code",
      "metadata": {
        "colab": {
          "base_uri": "https://localhost:8080/",
          "height": 621
        },
        "id": "taaIsR9dzqpa",
        "cellView": "form",
        "outputId": "508e00a7-e220-4fa0-a541-629d1c487326"
      },
      "source": [
        "#@title GAN training demo\n",
        "#@markdown Make sure you execute this cell to enable the widget!\n",
        "\n",
        "from IPython.display import IFrame\n",
        "IFrame(src='https://xukai92.github.io/gan_demo/index.html', width=900, height=600)"
      ],
      "execution_count": 11,
      "outputs": [
        {
          "output_type": "execute_result",
          "data": {
            "text/html": [
              "\n",
              "        <iframe\n",
              "            width=\"900\"\n",
              "            height=\"600\"\n",
              "            src=\"https://xukai92.github.io/gan_demo/index.html\"\n",
              "            frameborder=\"0\"\n",
              "            allowfullscreen\n",
              "        ></iframe>\n",
              "        "
            ],
            "text/plain": [
              "<IPython.lib.display.IFrame at 0x7f4b05c2aed0>"
            ]
          },
          "metadata": {
            "tags": []
          },
          "execution_count": 11
        }
      ]
    },
    {
      "cell_type": "markdown",
      "metadata": {
        "id": "UuOvnwa1ET5P"
      },
      "source": [
        "# What makes GANs hard to train?\n",
        "\n",
        "You have played with the demo and it's time to think about a few questions\n",
        "\n",
        "1. Which target is more stable to train, 1D or 2D?\n",
        "2. If you keep increasing the learning rate, what happens? Does it happen in both the cases i.e. 1D/2D targets?\n",
        "3. Can you think of some drawbacks of using small learning rates?"
      ]
    },
    {
      "cell_type": "markdown",
      "metadata": {
        "id": "irY9fRR7Dk74"
      },
      "source": [
        "---\n",
        "# Summary\n",
        "\n",
        "Through this tutorial, we have learned\n",
        "\n",
        "- How to implement the training loop of GANs and,\n",
        "- Developed an intuition about the training dynamics of GANs "
      ]
    },
    {
      "cell_type": "code",
      "metadata": {
        "id": "jKcebCsQjx6A"
      },
      "source": [
        ""
      ],
      "execution_count": 11,
      "outputs": []
    }
  ]
}