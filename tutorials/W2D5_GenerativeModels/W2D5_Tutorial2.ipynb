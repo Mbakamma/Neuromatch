{
  "nbformat": 4,
  "nbformat_minor": 0,
  "metadata": {
    "accelerator": "GPU",
    "colab": {
      "name": "W2D5_Tutorial2",
      "provenance": [],
      "collapsed_sections": [],
      "toc_visible": true,
      "include_colab_link": true
    },
    "kernel": {
      "display_name": "Python 3",
      "language": "python",
      "name": "python3"
    },
    "kernelspec": {
      "display_name": "Python 3",
      "name": "python3"
    },
    "language_info": {
      "codemirror_mode": {
        "name": "ipython",
        "version": 3
      },
      "file_extension": ".py",
      "mimetype": "text/x-python",
      "name": "python",
      "nbconvert_exporter": "python",
      "pygments_lexer": "ipython3",
      "version": "3.7.11"
    },
    "widgets": {
      "application/vnd.jupyter.widget-state+json": {
        "b4e154f0012c42488f8618b5e8c52daa": {
          "model_module": "@jupyter-widgets/controls",
          "model_name": "TabModel",
          "model_module_version": "1.5.0",
          "state": {
            "_view_name": "TabView",
            "_dom_classes": [],
            "_titles": {
              "0": "Youtube",
              "1": "Bilibili"
            },
            "_model_name": "TabModel",
            "_view_module": "@jupyter-widgets/controls",
            "selected_index": 0,
            "_model_module_version": "1.5.0",
            "_view_count": null,
            "_view_module_version": "1.5.0",
            "box_style": "",
            "layout": "IPY_MODEL_ce9a4d7b57e148af9b52faa7f0cbce02",
            "_model_module": "@jupyter-widgets/controls",
            "children": [
              "IPY_MODEL_f7e68be487a74fedb491c4a4d21e893a",
              "IPY_MODEL_dceca11d3fcc42dead91e9620b60acec"
            ]
          }
        },
        "ce9a4d7b57e148af9b52faa7f0cbce02": {
          "model_module": "@jupyter-widgets/base",
          "model_name": "LayoutModel",
          "model_module_version": "1.2.0",
          "state": {
            "_view_name": "LayoutView",
            "grid_template_rows": null,
            "right": null,
            "justify_content": null,
            "_view_module": "@jupyter-widgets/base",
            "overflow": null,
            "_model_module_version": "1.2.0",
            "_view_count": null,
            "flex_flow": null,
            "width": null,
            "min_width": null,
            "border": null,
            "align_items": null,
            "bottom": null,
            "_model_module": "@jupyter-widgets/base",
            "top": null,
            "grid_column": null,
            "overflow_y": null,
            "overflow_x": null,
            "grid_auto_flow": null,
            "grid_area": null,
            "grid_template_columns": null,
            "flex": null,
            "_model_name": "LayoutModel",
            "justify_items": null,
            "grid_row": null,
            "max_height": null,
            "align_content": null,
            "visibility": null,
            "align_self": null,
            "height": null,
            "min_height": null,
            "padding": null,
            "grid_auto_rows": null,
            "grid_gap": null,
            "max_width": null,
            "order": null,
            "_view_module_version": "1.2.0",
            "grid_template_areas": null,
            "object_position": null,
            "object_fit": null,
            "grid_auto_columns": null,
            "margin": null,
            "display": null,
            "left": null
          }
        },
        "f7e68be487a74fedb491c4a4d21e893a": {
          "model_module": "@jupyter-widgets/output",
          "model_name": "OutputModel",
          "model_module_version": "1.0.0",
          "state": {
            "_view_name": "OutputView",
            "msg_id": "",
            "_dom_classes": [],
            "_model_name": "OutputModel",
            "outputs": [
              {
                "output_type": "stream",
                "metadata": {
                  "tags": []
                },
                "text": "Video available at https://youtube.com/watch?v=ye5P78eKOVM\n",
                "stream": "stdout"
              },
              {
                "output_type": "display_data",
                "metadata": {
                  "tags": []
                },
                "text/html": "\n        <iframe\n            width=\"854\"\n            height=\"480\"\n            src=\"https://www.youtube.com/embed/ye5P78eKOVM?fs=1&rel=0\"\n            frameborder=\"0\"\n            allowfullscreen\n        ></iframe>\n        ",
                "text/plain": "<IPython.lib.display.YouTubeVideo at 0x7f44b4068290>",
                "image/jpeg": "/9j/4AAQSkZJRgABAQAAAQABAAD/2wCEABALDBoXFhwaGRoeHRwfIiomIyAhIjcuLSktOC0xMi4nNS03P1BCNThLOTU1RWFFS1NWW1xdMkFlbWRYbFBZW1cBERISGRYZLRsbMFdCOEBXV1dXV1dXWFdXV1dXV1dXV1dXV1dXXVdXV1ddV1dXV1dXV1dXV1dXXVdXV1ddV1dXV//AABEIAWgB4AMBIgACEQEDEQH/xAAbAAEAAQUBAAAAAAAAAAAAAAAABAECAwUGB//EAEUQAAIBAgMEBggDBgQFBQEAAAABAgMRBBIhBRMxURRBU2GS0RciMnGBkaHSBlKxFSMzQnLBFkOC8DRik9PhJCVzdLMH/8QAGAEBAQEBAQAAAAAAAAAAAAAAAAECAwT/xAAmEQEBAAICAgICAQUBAAAAAAAAAQIRAyESMSJBE1EEMmFx0fCh/9oADAMBAAIRAxEAPwDz8AAAAAAAAAAAAAAAAAAAAAAAAAAAAAAAAAAAAAAAAAAAAAAAAAAAAAAAAAAAAAAAAAAAAAAAAAAAAAAAAAAAAAAAAAAAAAAAAAAAAAAAAAAAAAAAAAAAAAAAAAAAAAAAAAAAAAAAAAAAAAAAAAAAAAAAAAAAAAAAAHYejjG9rh/FL7B6OMb2uH8UvsA48HYejjG9rh/FL7B6OMb2uH8UvsA48HYejjG9rh/FL7B6OMb2uH8UvsA48HYejjG9rh/FL7B6OMb2uH8UvsA48HYejjG9rh/FL7B6OMb2uH8UvsA48HYejjG9rh/FL7B6OMb2uH8UvsA48HYejjG9rh/FL7B6OMb2uH8UvsA48HYejjG9rh/FL7B6OMb2uH8UvsA48HYejjG9rh/FL7B6OMb2uH8UvsA48HYejjG9rh/FL7B6OMb2uH8UvsA48HYejjG9rh/FL7B6OMb2uH8UvsA48HYejjG9rh/FL7B6OMb2uH8UvsA48HYejjG9rh/FL7B6OMb2uH8UvsA48HYejjG9rh/FL7B6OMb2uH8UvsA48HYejjG9rh/FL7B6OMb2uH8UvsA48HYejjG9rh/FL7B6OMb2uH8UvsA48HYejjG9rh/FL7B6OMb2uH8UvsA48HYejjG9rh/FL7B6OMb2uH8UvsA48HYejjG9rh/FL7B6OMb2uH8UvsA48HYejjG9rh/FL7B6OMb2uH8UvsA48HYejjG9rh/FL7B6OMb2uH8UvsA48HW1v/55jIQlJ1MPaKbdpS6v9Bo/2NV/ND5vyA1wNl+xav5ofN+RX9h1fzQ+b8gNYDaLYVX81P5vyKrYFb81P5vyGxqgbb/D1b81P5vyLl+G635qfzfkBpwbpfhiu/56XzfkXL8K4h/z0vm/tGxowb9fhHEfnpeKX2ly/BuJf89HxS+0mxzwOkX4KxX56Pil9pVfgjFfno+KX2jY5oHTf4HxXaUPFL7R/gbFdpQ8UvtGxzIOmf4HxS/zKHil9pjf4MxK/wAyj4pfaXY9eAKAVBHq46jCWWdanGXKU0n8rmWlVjNZoSUlzi7r5hdLwY6FeFSOaElJXaundXTs18y8IqChjdeCmqeZZ2syjfWy0btyAygoW1KijFyk0opXbfBLmBeCynUjOKlFpxkk01wafBlwFQUMfSIbzd5lny5st9ct7XtyuBlBQAVBQAVBQtq1Ywi5TkoxXFydkviBeDDSxdObtGpCT5KSb+RlAqCgAqCgAqCyrVjCLnJqMYptt8ElxZWE1JKSaaaumutcwLgUAFQUAFQULK9eFOLnOUYRXGUnZL4gZAWxkmk1wZY8RBTVPPHO1dRvrbnbkBlBQAVAAAAAR8f/AAKv9Ev0Z5uonpGO/gVf6JfozzxRJVizIXKBeol8YkFsYGaMCsYGaNMKsjTRljSRfGmZ40wMcaKM0KC7xUmoJylwSuaavt93ap6K+j+JZjazllI6GNBGaFFGjw/4gi4pSXrdZttn4+FZXT15C4WJM5UxUkZY0kEjJFGWlqpIvVKPIqi5EEfGU0qba4o1DZvpxzRa5qxzsrrQsHXlCpQ2jUTX/usf/qv/APQxVo7nadJUlZV6c95FcG42cZtc+q5Nq7Pk8T0iNS0lDdpZbq178+Ny/D7OUKsq0pOdWSy55fyx45UlwV9SadPKf+NfT2xKOGhVnGME6s4TlGLcYJSkszV76tJX7yTTx8pOjTjKnKdVTnnjrHJFpJpX4u66+ZdhtmSo04whW4TnLWN08zbaavwuzC9gxjGnuqjp1Kc5zjOKVvXd5Ry8Mvd3IdnxK+NxNNUIyhSU6lV03xta0mprXTRcDJTxNZYinRqKk5OjKTlFP2lJLS74al9XZjlum6rcqdTeZnFetKzXwVnwXcZamCbxEa6nZxg4KOXTVp3+aQTcayltbEOjQrONK1Spu5Qs76ycVJSvpw4WZnWPrR6VCapynRgpxai1FpqTs1d/lfWXQ2NloUqKqu1OoqieVXbUsyT7rsyz2W3OvPefx4KDWXgkmk1r3sdtW4o62hWlLCwgqa31FzbafqtRi9FfVa8PqVw+0qs6Kk1TjJVpU6kv5VlbWZRvdttJJX6+sz0tmOMqEt5fcU3BLLxTSV3rx0RhjsRrK1WalCtOqnlVryvmVuWrtyHafFExO0a1TDKUZRhJYqNKTyv1lvEuDd13o2CxNXpTo/u/4GdSyvjmtwvw7jG9ifu6kN9L1qyrJtL1ZKSl8dUSYYFrEKs6jb3e7tZaq97353Ha24/SNgtoVKtKF8irbyUKkbO0crebrvwSs+9FsdpVqijUo088N44uOXXKpOLkpXt1XtbuJlDZ8IV6lZXzVErrqTWja99lf+lEehsh05yyV5qjKTm6Vla7d2lLik31DtneKRtStVp0JzoqMpwTllkm724rRrUxPHSks9JKpFUd5ZLWTa9RJ367P6GwIOF2XGjQnRpylHM5Wl1xvwS9ysl7gk1pbsrH9Iu1UhOKSuoxcZRlreMottojVZ7zakaU/YpUd5CL65OVs3wX6k3D4HLWlWlJSqSgoNxjluk766u7GM2eqs4VFJwq075Zrk+MWutPkF3NsWMxEI4rDwdNynLPkmmtLL1k+u1mYqe0a1Td1KdPPTnOzjls1C7WfM3Z87W6+4kfs+Uq9OtUqKUqSkoqMcq9ZWbd27mLC7JdKTUa89zmclRstG3eylxy36gfHSLV2riI0qtW1LLRrOElZ3lHMlo76PXvJGJ2hVbrRw8VKVFpWcW88sqllvdZdGlfXUrU2Nmo1qTqu1WpvG8uqd07LXuRdU2VLfSq068qTqJKqlFNSaVlJX9l20uO1+LH03ETxDowjThalTqeum2s0mnF2fHRlr2nUjWpRkoWnWlTcY3birScW53tdpXtbr7iZS2fkxDrKfGnGnlt1Rba153bIkNhuKpxVeeWlVdSCyrS+a6b6/aeo7PiwUcXXjSx1SUoTdOc7RcWl6sVZceFuolyx1SFTDJ5N1WVm7O6nlzJcbWdn8istk+riIqq1HEXbWVeq5JKTT+BlxOzVVw6oTk9MtpLRpxaaa5PQdluNYZbQmsi0bqzkoWi3aEU3mavq38OJI2fWqzjJVoZXGTSaVlOPVK1217u4tx+zVWjTyzdKdJ3pzj/AC6WtbrVtLGfC0JQj683Uk+MmkvgkuCDN1prK+0MRfFKG6XR7NZlJ5llzW4qz7/oZKW0Ku9o51Dd14Skkk80GoqWrvaWncjLLZbbxD3n/EJJ+r7Pq5dNeQjsxqWHe8vuIuKWX2rrK768h21vH/v8f7RXteosPTxVobmco3jZ5lCUssZZr6vVNq3X3GPauLnWwmNyZVCnGpDVNuVo+s73042WnUS6WxlGmqOe9BTUo02tVaWZRzX9lPqt3XLK2xb9IjCs4U8QnnhlTtJqzkn1X61+hO1lx2dNqO9Oilmp0oS1i5JuSdo6NW4ce/uLHUlPGYOU4ZJujWcoXvZ/u7q/WZZ7IkqkalKvKnPIoTeVNTS4XT0urvUzy2d+9pVFN/uoyik1e+a123z0RU3EfZu03XqZc0FKObeUmmpwd9OL1XfY2pApbNtUpVKk88qUXGMstpO6t6zvqTys5a+lQAGQAAYMb/Bqf0S/RnAxid9jP4NT+iX6M4WKJVUUS+MCqRkiiCsIGeMC2BmiFXQgZVEtiXymopt6JK7A5v8AE2JlvI0oP+XX4kHBbKnUfGxI2tCNOvncvXqetKHFx5L5WMmF2vGEkmnFPrZbbPRjjL7Z4/h9x1zmvlnoVsr0Ss9OXM2tPb95WVNtc7pfRkfF4inWqJOWTgm5aWRcMst9py4Y66dnhakalOM4SUoyWjRIjE1OwKVGjF0aVTeRlepB3v6reV/Jo3KM0UylyiVLkQW5TndqRyVpLnqvidIaP8R07OE+aafw1X6iDogAbRQqAAAAAAAAAAAAAAAUKgAAAAAAAAAAAAAAAAAAAAAAAoVAAAAAAAAAAAAYMZ/Bqf0S/RnDxO4xn8Gp/RL9GcMiDIi9GJMvTCs0WZYyI6ZVSAlxkRdryvha39DKqZr9tuU6DjFtXlFfBtL+4HO4OWaUs7bvx67k7Bwpb+Ob2VxzLi/cyDQpunWnB620uiVGrHP60JNrkrkvt0w9J9GhTvllCUraRlHg49X0K7VoQjQcstpOSy34paLj8zNhsTFtRUZRfHWNviZsfs+rickKaus6zy/KtdST23lrSX+CU5b2TbahGMI9yvKVvmzrImr2FsqODoumpZnKTk5WtfqWnuRs0arzshVFlyqZNC8123qWbDSf5Wpf2ZPuWYinnpzg/wCaLXzQVKABpAAAAAAAAAAAChUoABzW0cZOVWSUmop2STt8SPDF1Y8Kk/meifx7ZvbheeS606qrWjBXlJRXe7GOnjaUnaNSLfK5zFXETn7c3L3sxJ21Nz+N13Wbz99R2ZUxYapnpxla10nYynkekKFTFWxEIOKk7Ocsse92bt9GBdVqxhFynJRjFXcpOyS5tlyZhVKUt4qmWcJP1Y5eEbK6d3rrczICoAAAAAAAAAAAAAAAAAAAAAAAAAAw4z+DU/ol+hwqO6xn8Gp/RL9GcGmBeity24uBkiy8xJl9wKtkHaVZRgm72zRvb+pP+xLkyNiqcZwcZeywNPX2hB1ZtQdpRUW+DundSsX4Ztu6dmJ0adOaUI5nlestddNSyFCS1RK3i3C0V5O7Z0mxY2pX622cxgqD0b1sdHgq27ha11xMz23luxuIsvRGpVkzOmbcV4TKXFwL7gtTK3IJIAKABQACDj6kt5Spxk4Kbd5Ljp1EylFqKTbk11viy2akqS7ul4BQiqgtckuLsVAqR6+IyZvVdlG6l1e58iQUaT4q5YlcvWws8kKkmlnaS7lzfI3E9k0ZRWlmlbMnx7yfKCas0muTEIKKskkuSOuXNlda6c5xSNFgdlRqxc3JqLby2425szbMwkIVJwnFOcXeLfWuaRtoUox9mKV+SsJU4tpuKbXB21QvNldwnFJpcAR5xdaNWnKM6a9lTjKzasnmi07rl8Di6sjrLeKnaV3FyzZfV4pWvz14DD05Qgoym5tcZNJN68loZEioFCoAAAAAAAAAAAAAAAAAAAAAAAAAAAAYMb/Bqf0S/RnApnodSClFxfBppms/w9hfyPxy8wOQuVudd/h7Dfkfjl5j/D2G/JLxy8yjk1IuzHV/4fw35H435lF+HsKrtQd3o3nfDlx4AcuofmavyzO/ySf6lrw9+F/BP9bHXLYtBK0VKMeUZNL6Fq2Bhvyzfvqzf6sDiXgW69ssnlhrZJcXpxlfqZLpYFxXrRav8TqYfh3CRv8AuYu7u76/qX/sDCdjD4Il1Wplpz2Gw2ulycqco9SXJ7xR/szax2Jhl/kw+RfHZWHXCjBe6KEkW57aZ0r6qDl3x3T+rszLS3seEanu/d/on/c2s9l4eXGjB++KLP2Nhuwh8I2LthioYjNo04yXU9P9/C5nuX08BTjZJN5XeN5N20tpcy7iPL6hGBMrczbiPL6jcx5fUisoAAFCoAjY3Db2Fk7STvGXJms/bk4pxlTTmtG76XNrjMSqNNzetuC5s5WcZe007SfG3E9PDhMp8vTz8uXjemx/btX8sPk/Mvht6f8ANTi/c7EChgalSOaEbr3mN4eankyvN+XrO/4+P05efJ7SMVtCpWl1pX0jH/erN/gKk50oupFxl136++xptiwaxDTVmovR9WqOhPPz2T4yO3DLflaqADzu4AAKFu8WbLdZrXy31tztyMM6+8jUjQnDeQeV5k2oysnZpNdTMypRzZ7LNa2a2tuV+QGGFF1I05V4RVSDzJRk2oy1Wj0voyQVAAAAACgAEXaOLVGm3/M9Irv5mioY+upXUpS5p6o64cVym455ckxunTlSPg60qkFKcMjfV/ckHOzV03LvsABFAAAAAAAAAAAAAAFJNJXbskQ3tSgnbeL5MslvpLZPaaCNDH0ZcKkPi7FK2Ppwi3ni2los3EeN/R5RJBopbenfSnFe9tkrZ+1t7PJKNm+DT0Ol4c5N2MTlxt02gAOToAAAAAAAAAAAAAAAAAAAAAAAAh7SoOrCMUrrOs3u6zHtXBOrCOVawei5rrRPBuZ2a19M3GXbDhmsitBwS0ytcDBhaLVetOUXq0ovut1E0E37/ua9NbWoSp4hVoRcoyVpJcV3myAFy3pZNKgoY8RVcISlGEqjXCEbXfcrtIyrIRoTdaNKpCU6cb5nGULOSs1laesdbP4GXc/vN5ml7OXLf1eN72595kAFShUAAWyTa0dnzAsrV4045pOyNLids1M1oRyL/mWvvNo8Kot1JXqSSbWbq9y4I0WKpVKkXiJJKMrdfwPRw4429uHLllJ0v/bFf8y8KK/tmtzj4STT2HeCbm1Jq/DQi4nZNWmm9JRWt0/7M7S8NuunKzkk2iV68qks03dm52JhUoqqm7u6a6uJqKeHk3BPRTdk/jY6nD0VTgoR4JE58pMfGLw425brIVAPE9YAAAAAAAAAAAAAAGOVaMZRi3ZyvZc7Aa3b9VqEYL+Ztv3L/wAs0JttqVXUrOEI5rxyq3vu/wBEvgRMJg3OuqclwfrdyXHyPfxWY4dvHybyy6RAdBX2JCTvBuHdxRq6ez5TqypxaeXjK2hrHmxyjOXFlEMyYeo4TjKN7prh19xIx2zpUFFt5ovi0uBvcJgqVNZoRvfVSer+ZM+bGY797XDjyt0kxd1yIW1ZySpxUnFSmoykuKROMWJoKrBwlwf07zw42S7r15TcXUaWSOW8n3yd2ZDQy2rVot05KM3HTMYntqt/yr4HX8Gd7c/zYx0ZbOSim27JcWaCG3Kq4qL+FiPisdUruz0X5Y9fmWfx8t9l58ddOoTKkLZbq7u1VNNOyb4td5NOFmrp1l3NgAIoAAAAAAAAAAAAAAAAAABQx4jEQpQc6klCEeMpOyRS0949Y7vLws82a/O9rW7gKSqSbg6ajOMn60s3CNnquetl8S6jh4wc3FWc5Zpat3dkr68NEuBWjRjTioQioxirKMVZJckjIBQqUMNXGUoO0pxT5XLJv0W6ZyhGW0aPaR+ZC2ltWOTLSleT4tdSNTjyt1pi54ybbZMHMbPp1s2eir2dny+J0tO+VZrZra24XLycfhfaYZ+X0rJXTXMiR2elRdFyk4vg3a66yaDEtnpuyVZShlik25W63xZWUU00+D0LgRUH9mx3SpuUvVd4y0vEmRTSSbv38y4FuVvtJJPQACKAAAAAAAAAAAAABZUpxkrSSfvLiyNeEnZSi3yTQGHD4KMJynxk9O5LqSRiez3Gq6lKeVy4pq6ZOKmvOs+MUREweDlSlP1lJSd+Gt/eTASWyaWyXtixFGNSDhLg/wDdzHg6EqccrnmS9nSzS5EkDd1o1N7DFiaypwlN8EjKRdo0ZVKMoRtd24+9DHW+y+unN1ozlerKLSk+PV8DJhcBUrJuKVl1vrN9jsEqlHItGrZfgX4JNQUXTyW0tdW96PVef49PP+H5dubq4OpCag4+s+CWpI2bRlDFQjJWavp/pZuI0JdKlNr1ciUX+pZjsLLewrU1eUdHHmh+bfxv3D8Wu/7p5Uti7rhbuLjyPSAAAAAAAAAAAAAAAAAAAUKgDDSpyTnnnnTleKypZVZer3+/vMpUAChUoBExWMteELuo9ErP535HNVoZZyi3dptN8+86zE1clOU0r5U3Y0mDwDlXW8ad47x267vgerhymMteflxuVkasHX1KEJ+1GMvermheEi4Kpa2ata3KN7WOuHPMvpzy4bi2+y6Dp0Ypqzer+JMKIqeG3d29cmpoABFAAAAAAAAAAAAAAAAAAAAAFGc5sj/iV/qOjZzmyP8AiV/qO/F/Tl/hx5P6sXRlShU4OwAUuAMFfGQptRb9Z8IpXfyRHxOOcnu6Czz65dUfiZMDgVSV28037Umb8dTeTHlu6issck0nCScuCbim/hcrHHQzZJXhLqUla/x4F1WVqkEuu+mZr6W1K4vCxrQyyXufWu8dfa9/TMVNXQxE8P6le7h/LUWq9zNlCakrppp9aJljomW1wKFTLQAAAAAAAAAAAAAAAAAAAAAFCpQAVNNhdrzbUZU3KV7vLdqMXUlCNrR19lt3aL1teU5RUIRacoes27OEs3rL1Vr6vu14gbYGtjtbM6KjTu6sYSV5WtmjOXLqUH8zHT2xKcM8aE2tGtJcG3x9W9+6N+IG0nFSTT4NWZhhhIxcWr3grL1nw5PmZaVRTjGSs1JJqzute8vLuppQwdDhklCzyyd7XfG99OWpII+MxO6hmtduUYpXtrKSirvqV2N6NbZoxskuXMuNXW2lOm5JwTkkrQTb6pN6qLvw5IS2s7tKk28qlFa3lG8bySUXdLMr5bvhpqRW0Biw9XeQjNW9ZJ6GUAAAAAAAAAAAAAAAAAAAAAAozmtmzUK+aWiWY6UWOmGfjLP2xlh5WX9If7Tpc38ij2nDqXzlFf3LMTh6zqOUJNWccvrerazzXj19Xy0Iiw2IaX8SK0vecZSzbuopSi27aycLLTg9EZ3j+l1f2mvGt8JUo++V/orfqWNU5/xa+dflTyr5LiRlQxT3ftRSvwd2nm9p3nwt1Ny6yZis9SEXGE0s7zwTyzcVdaO6trZ8VoXy16PGstLEUIq0ZQS5Jov6ZS7SPzNVVwuIUpOEZK8syebW+Wmlf1knwlz9xWrh8RapbeP17x9bWXtaP11aPs6px6tNGZ6XtLr4qk6kP3it3OX1tp8yT0yl2kfmZIJ2V1rbXrLrF3E1WB4uk+M4fMiyjh07wqqm3+WWj/08DY2NbtLCVJ1I1KWko0qiTzaZm4W0vyUtRLos2uWLlH/NpTXe8r/ui9bSj1r5Si/7kGpQxWSKjmunJq71TvGyfru69ri5e4UcNiKUZQjGesqtnnTteq5Rlq7+y/oxufo1f22NLH05yUU3d9xKNNWwuJ9XLKWrm273cZOXqv2krKPVquaJeBhVjUq582Vu8XJ970SUmrWt1L3EuvpZv7TwARQAAAAAAAAAAAAAAAAoVAGF4am3FuEW46xeVae7kUWEpa/u4atN+qtWndP56mc0H4w2dTrYSdRwg6tK0oOSTvZ3yd6lwt13A3NPC04u8YQi730ilrrr9X8y14Kk1JOlD1neXqrV82avZeCoYtU8bUpUnKUI7tZU93Fapf1X+XBcLvdSkoq7aS5sCqVlZcCpi6TT7SHiQ6TT7SHiQGUtnBSTjJJp6NNXTImJ2hCm4PNDI3abzL1eUvdfR+/3kxO6utUwMLwlLKo7uGVcFlVu4PBUne9ODzaP1Vrbhc5zEUaeB2pCpGisuIpSjGMIK+9i76csyevu1NzgdlQhUliJ06fSJ6ymlw0tli+NraX6wJ8IqKSSSS0SXBFwAAAAAAAAAAAAAAAAAAAAAAAAAFAVIu0sTGjQnOSukrWTtdt2Sv1atagYsPtWnVrOnBTklwqKEnBtXzLPbLo1biTKkmotxjmfUr2v8TW7GwVXCUY06tanKnTglG0Mrjbi3LM7++yNjSqxqRU4SUoyV1JO6a5pgQNl7YjiadWpkdJUpShJTktHH2r24WJGzsXOtDPKjKknZpSau1zsuHxNNgMIp7RxqTe4UqUpQ6pVct38LWbXW7cjowKgi1511L93TpSjbjKq4u/uUH+pj3uL7Gh/15f9oCaEyFvcX2ND/ry/7RH2VOtvqsXTpqim3eNRytNu8oq8VdX17m3x4INqamjty9XEUp0nTdCCnJylGzTV1Z8u/qNrKSSbbSS4tnK7Vf8A6vDY9xW4zqlK/GUW7wqvuU7NfB+4OiwGJnVhmnRlRuk1GbTfxS4EooVAAAAAAAAAAAAAAAAAAAAAABrqWGrzrZ6+6cIr93CLekuuTutXbS/VrzNiANRsDZ1bCxnTm6bpOc5wUb3gpO+TVapa6m1nBSVpJNcmrlxQDD0Ol2UPCh0Ol2UPCjMAIOK2ZTq5YunT3d7zWVetyjw4X1fO1uDZOjFJJJWS4JAAarEYCvUxtGu93u6Skoxu7+tZOXC17Lh3m1BUAAAAAAAAAAAAAAAAAAAAAAAAAAABjr0Y1IShOKlCSs4tXTRkAGn2bsiVCdRKX7iUcsaLm5x9/rL1VbTKron4HCRo0Y0klZLVJWWursupa8CSAIuG2bh6MnKlQpU5NWbhBRb+KRJKlABUoABbCmoq0Ukrt6c27t/MuAGHFYOlXio1qcKkU7pTipK/OzLKuzcPOEac6FKUIezCUE4x9ytZEkAWUaUacVCEVGK4RirJfAyAAAAAAAAAAAAAAAAAAAAAAAAoypZUipRalqmmmu7rAiR2vhnwrQ4pceDdrX5XurX43RZCs6uLnFSahQUU0nxnJX17lG3i7kaDDUZ4rCVIU4Ti8XXc5VGrRjSzKzT6/UikktderibvZscmLxkXxlOnUX9Lpxin84S+QEPC4ypQx9ajicRKVONJVKWaMVeN7SvlirtPhbnwZLhTr5K1apVmlKM3Ci1FZFbS7Su5fHS9tbXIuIpb7alCcqM93RpzUZuGm8bX0SV795ucd/Bq/wBEv0YFFGU6EUpyhJxXrxs2tFr6ya+aOf2bi8VWjWwzrTWJp1nGU8kMsIKzUrZbPMuC43vwSNriMbOlSpxp0qlScoxSajeMb6ZpPu42Wprnh54TaMalOFWrCrSy4iajf1k7wn3virLgrAT8ZKeGVKo6k6iU4wqZraxnKydopJOLa1twvxNoaz8Ra4bIuNSpThG3Nzjr8Fd/A2YFQAAAAAAAAAAAAAAAAAAAAAAAAAAAAAAAR8TjaVG29qRhm4Znb/f/AJI2M2rCOHqVKUozlG0VH/nk0oprirtr4MhbfcXicJTyOWapvJ5Vd5Kd2tOWeSImOwlTd4nFVE4561Cag+Kp0px1fJtZnb3AdDRw7jSUN5JytrU0zXfGWqtx6rW7jn8Ji8U6uKwkq05YiMlupZIpRptXVR2jZ8nz0StxN5tHGyowvCjUrSa0jBafF9SNNi8NVw+Lw2JhGrWnJSjiHGPGL1Tt1ZXwXG3N6gbTdzpuhGVadRuq7ykoq63ctLRSVrq5BniqtDaUaVXESdCpSnOGZQXrRfrRbUVoou/G+mtzZYt3nhnqr1Hx/wDjma3bFLf4zCRdGcqVKcpTlkur5UoL3Xd2+4CZhadWtOVWVWpGjL2KNoq8bWzN5cyvxSumuvksmysRKSq0pvNOjUcHJ9aspQk+/LJX70ycarZMb4nHVP5ZVoxX+mlBP63XwA2wAAAAAAAAAAAADF0iHP6DpEOf0IBr3timq9Si006Ws2+CjlUs3zdrcQN/0iHP6DpEOf0NF+2KHXKS0bs6c7qztZrLdO7SSfG6txMVPbtJ3zKUbcFkk5P1qi9lRuv4bf62A6LpEOf0HSIc/oaajtGlUqbuEm5Ph6ksr0TdpWtezWl+sjUNuUpqUrSUYyyNpOTc9fUUYptuyvw/vYOi6RDn9B0iHP6GgntvDpNqUp2t7NOTveGdJNLX1dXy67F0dr0rxUm4uTSSUZNatJXaVlq0tQN70iHP6GPESp1IShKTtJWeVuL+a1Rq8HtClXbVOTeVRbvCUdJXyyV0rp2eqIT2/TUnDJPMrq2ntKpu8t+/2vcgN9gqdHD0o0qbahFWim5SsuV3rYrNU3UjUzNSimtOtP8Alfx1/wBs037cwts29Vr2vllyvfh7NuvgXUNq06lOrOKbdLPmitX6rkrX4XeW9r9avxA3vSIc/oWVakJxlFy0kmn8TUbNxyxEHJRcbSy8U09E7pr3ksCbTqwjFRT4JIu6RDn9CCAJFRU5VIVJSbyXyrqTejl77afF8zN0iHP6EEATukQ5/QdIhz+hBAE7pEOf0HSIc/oQQBO6RDn9B0iHP6EEATukQ5/QdIhz+hBAE7pEOf0HSIc/oQQBO6RDn9DVYz8T4ahUnTkqrcLZnGm2ldXWqM5xO1cfUhtOthlK1LEZITWmjcUoyu+Tt7ws19uof4ywiSk1XSfB7mVnz1Juz9vUMTKUYbyMopNqcHHR8HqcFSo4mpVlgqlSChhU5zSaslpmyvrevXwubL8IbTq4zE4mrVd3kgor8sbytHvtzGrFvj9O66RDn9B0iHP6EEBlO6RDn9B0iHP6EAAT+kQ5/QdIhz+hBAE7pEOf0HSIc/oQQBO6RDn9B0iHP6EEAXSw1B4hYi896o5U88rW61lva3w6iVOtTknF2aas01xXIhgCThnClTjBTbUVZOV27dSv12Wl+Jl6RDn9CCAJNWVOcoScn6ksy8LX9zL0iHP6EEATJV4tNKVtONuHeY8LuqUFCDslfndtu7bfW222/eRwBO6RDn9B0iHP6EEATukQ5/QdIhz+hBAE7pEOf0HSIc/oQQBO6RDmOkQ5/QgEbGYp0rPLdWbb16raaJ6+/kBuOkQ5/QdIhz+hp8PjI1Kk4xtaNtU9Xq09OrVEoC7dvkRauyqU5SlKndybbd3reOR9fDKkrcNF1mzAGqWyKSi45G01Ztzk29b3zN3vdLW99EKex6UGmqbuutyk3/Pzevty+ZtQBp6Gx40629jmVlZQ6lolf32iv730LpbGov8Ay2u+MpRfFu90731eve1wZtgBqZbGouOXdWV7+rJx1yqHFPhlSVi9bMp9ny631NSXXzSNmANNgNixoSco5m3a2tkklJJWXV6z04crGV7KpOed0lmz7y+vtZct/kbQAamOxaKUUqbSi7xtOWmlrLXh3cC+GyqUVNKnZVE1NXdpXbbuv9T18kbMAa/C4CNFNU4tXd23Jybdkrtybb0SXwM+7fIkgCNu3yG7fIkgCNu3yG7fIkgCNu3yG7fIkgCNu3yG7fIkgCNu3yG7fIkgCNu3yG7fIkgCNu3yG7fIkgCLu3yOI/Ev4ZxmIxlSrSpKUJKNm5xXCKXBs9BAHn+K/DuLngqdNUJdIbSqyc4WlCN92r36k18lyRO/B2w8ThJ1nXp5VNRStJPg3fgzsgBF3b5DdvkSgBF3b5DdvkSgBF3b5DdvkSgBF3b5DdvkSgBF3b5DdvkSgBF3b5DdvkSgBF3b5DdvkSgBF3b5DdvkSgBF3b5DdvkSgBF3b5DdvkSgBF3b5Fd2+RJAEbdvkN2+RJAEXdvkW1MOpWzRvbhcllQIm5d28ur0b/37y7dvkSQAAAAAAAAAAAAAAAAAAAAAAAAAAAAAAAAAAAAAAAAAAAAAAAAAAAAAAAAAAAAAAAAAAAAAAAAAAAAAAAABh6XS7Wn415jpdLtafjXmeGgD3LpdLtafjXmOl0u1p+NeZ4aAPcul0u1p+NeY6XS7Wn415nhoA9y6XS7Wn415jpdLtafjXmeGgD3LpdLtafjXmOl0u1p+NeZ4aAPcul0u1p+NeY6XS7Wn415nhoA9y6XS7Wn415jpdLtafjXmeGgD3LpdLtafjXmOl0u1p+NeZ4aAPcul0u1p+NeY6XS7Wn415nhoA9y6XS7Wn415jpdLtafjXmeGgD3LpdLtafjXmOl0u1p+NeZ4aAPcul0u1p+NeY6XS7Wn415nhoA9y6XS7Wn415jpdLtafjXmeGgD3LpdLtafjXmOl0u1p+NeZ4aAPcul0u1p+NeY6XS7Wn415nhoA9y6XS7Wn415jpdLtafjXmeGgD3LpdLtafjXmOl0u1p+NeZ4aAPcul0u1p+NeY6XS7Wn415nhoA9y6XS7Wn415jpdLtafjXmeGgD3LpdLtafjXmOl0u1p+NeZ4aAPcul0u1p+NeY6XS7Wn415nhoA9y6XS7Wn415jpdLtafjXmeGgD3LpdLtafjXmOl0u1p+NeZ4aAPcul0u1p+NeY6XS7Wn415nhoA9y6XS7Wn415jpdLtafjXmeGgD3LpdLtafjXmOl0u1p+NeZ4aAPcul0u1p+NeY6XS7Wn415nhoA9y6XS7Wn415jpdLtafjXmeGgD3LpdLtafjXmOl0u1p+NeZ4aAPcul0u1p+NeY6XS7Wn415nhoAAAAAAAAAAAAAAAAAAAAAAAAAAAAAAAAAAAAAAAAAAAAAAAAAAAAAAAAAAAAAAAAAAAAAAAAAAAAAAAAAAAAAAAAAAAAAAAAAAAAAAAAAAAAAAAAAAAAAAAAAAAAAAAAAAAAAAAAAAAAAAAAAAAAAAAAAAAAAAAAAAAAAAAAAAAAAAAAAAAAAAAAAAAAAAAAAAAAAAAAAAAAAAAAAAAAAAAAAAAAAAAAAAAAAAAAAAAAAAAAA//9k=\n"
              }
            ],
            "_view_module": "@jupyter-widgets/output",
            "_model_module_version": "1.0.0",
            "_view_count": null,
            "_view_module_version": "1.0.0",
            "layout": "IPY_MODEL_94d5499624424a85bf1518cb270aedc1",
            "_model_module": "@jupyter-widgets/output"
          }
        },
        "dceca11d3fcc42dead91e9620b60acec": {
          "model_module": "@jupyter-widgets/output",
          "model_name": "OutputModel",
          "model_module_version": "1.0.0",
          "state": {
            "_view_name": "OutputView",
            "msg_id": "",
            "_dom_classes": [],
            "_model_name": "OutputModel",
            "outputs": [
              {
                "output_type": "stream",
                "metadata": {
                  "tags": []
                },
                "text": "Video available at https://www.bilibili.com/video/BV19V411H72M\n",
                "stream": "stdout"
              },
              {
                "output_type": "display_data",
                "metadata": {
                  "tags": []
                },
                "text/html": "\n        <iframe\n            width=\"854\"\n            height=\"480\"\n            src=\"https://player.bilibili.com/player.html?bvid=BV19V411H72M&page=1?fs=1\"\n            frameborder=\"0\"\n            allowfullscreen\n        ></iframe>\n        ",
                "text/plain": "<__main__.BiliVideo at 0x7f44b40426d0>"
              }
            ],
            "_view_module": "@jupyter-widgets/output",
            "_model_module_version": "1.0.0",
            "_view_count": null,
            "_view_module_version": "1.0.0",
            "layout": "IPY_MODEL_e13799ece88e49cf9388874b636ae226",
            "_model_module": "@jupyter-widgets/output"
          }
        },
        "94d5499624424a85bf1518cb270aedc1": {
          "model_module": "@jupyter-widgets/base",
          "model_name": "LayoutModel",
          "model_module_version": "1.2.0",
          "state": {
            "_view_name": "LayoutView",
            "grid_template_rows": null,
            "right": null,
            "justify_content": null,
            "_view_module": "@jupyter-widgets/base",
            "overflow": null,
            "_model_module_version": "1.2.0",
            "_view_count": null,
            "flex_flow": null,
            "width": null,
            "min_width": null,
            "border": null,
            "align_items": null,
            "bottom": null,
            "_model_module": "@jupyter-widgets/base",
            "top": null,
            "grid_column": null,
            "overflow_y": null,
            "overflow_x": null,
            "grid_auto_flow": null,
            "grid_area": null,
            "grid_template_columns": null,
            "flex": null,
            "_model_name": "LayoutModel",
            "justify_items": null,
            "grid_row": null,
            "max_height": null,
            "align_content": null,
            "visibility": null,
            "align_self": null,
            "height": null,
            "min_height": null,
            "padding": null,
            "grid_auto_rows": null,
            "grid_gap": null,
            "max_width": null,
            "order": null,
            "_view_module_version": "1.2.0",
            "grid_template_areas": null,
            "object_position": null,
            "object_fit": null,
            "grid_auto_columns": null,
            "margin": null,
            "display": null,
            "left": null
          }
        },
        "e13799ece88e49cf9388874b636ae226": {
          "model_module": "@jupyter-widgets/base",
          "model_name": "LayoutModel",
          "model_module_version": "1.2.0",
          "state": {
            "_view_name": "LayoutView",
            "grid_template_rows": null,
            "right": null,
            "justify_content": null,
            "_view_module": "@jupyter-widgets/base",
            "overflow": null,
            "_model_module_version": "1.2.0",
            "_view_count": null,
            "flex_flow": null,
            "width": null,
            "min_width": null,
            "border": null,
            "align_items": null,
            "bottom": null,
            "_model_module": "@jupyter-widgets/base",
            "top": null,
            "grid_column": null,
            "overflow_y": null,
            "overflow_x": null,
            "grid_auto_flow": null,
            "grid_area": null,
            "grid_template_columns": null,
            "flex": null,
            "_model_name": "LayoutModel",
            "justify_items": null,
            "grid_row": null,
            "max_height": null,
            "align_content": null,
            "visibility": null,
            "align_self": null,
            "height": null,
            "min_height": null,
            "padding": null,
            "grid_auto_rows": null,
            "grid_gap": null,
            "max_width": null,
            "order": null,
            "_view_module_version": "1.2.0",
            "grid_template_areas": null,
            "object_position": null,
            "object_fit": null,
            "grid_auto_columns": null,
            "margin": null,
            "display": null,
            "left": null
          }
        },
        "8254de65f9254c569dd9704bd4784dc3": {
          "model_module": "@jupyter-widgets/controls",
          "model_name": "TabModel",
          "model_module_version": "1.5.0",
          "state": {
            "_view_name": "TabView",
            "_dom_classes": [],
            "_titles": {
              "0": "Youtube",
              "1": "Bilibili"
            },
            "_model_name": "TabModel",
            "_view_module": "@jupyter-widgets/controls",
            "selected_index": 0,
            "_model_module_version": "1.5.0",
            "_view_count": null,
            "_view_module_version": "1.5.0",
            "box_style": "",
            "layout": "IPY_MODEL_bdbe9dd2c0b449f1b892fd2d2a29c416",
            "_model_module": "@jupyter-widgets/controls",
            "children": [
              "IPY_MODEL_3749c020a2ec4cce99207c393f969ab4",
              "IPY_MODEL_c7498cce386b4b34b3a893eb54148ee3"
            ]
          }
        },
        "bdbe9dd2c0b449f1b892fd2d2a29c416": {
          "model_module": "@jupyter-widgets/base",
          "model_name": "LayoutModel",
          "model_module_version": "1.2.0",
          "state": {
            "_view_name": "LayoutView",
            "grid_template_rows": null,
            "right": null,
            "justify_content": null,
            "_view_module": "@jupyter-widgets/base",
            "overflow": null,
            "_model_module_version": "1.2.0",
            "_view_count": null,
            "flex_flow": null,
            "width": null,
            "min_width": null,
            "border": null,
            "align_items": null,
            "bottom": null,
            "_model_module": "@jupyter-widgets/base",
            "top": null,
            "grid_column": null,
            "overflow_y": null,
            "overflow_x": null,
            "grid_auto_flow": null,
            "grid_area": null,
            "grid_template_columns": null,
            "flex": null,
            "_model_name": "LayoutModel",
            "justify_items": null,
            "grid_row": null,
            "max_height": null,
            "align_content": null,
            "visibility": null,
            "align_self": null,
            "height": null,
            "min_height": null,
            "padding": null,
            "grid_auto_rows": null,
            "grid_gap": null,
            "max_width": null,
            "order": null,
            "_view_module_version": "1.2.0",
            "grid_template_areas": null,
            "object_position": null,
            "object_fit": null,
            "grid_auto_columns": null,
            "margin": null,
            "display": null,
            "left": null
          }
        },
        "3749c020a2ec4cce99207c393f969ab4": {
          "model_module": "@jupyter-widgets/output",
          "model_name": "OutputModel",
          "model_module_version": "1.0.0",
          "state": {
            "_view_name": "OutputView",
            "msg_id": "",
            "_dom_classes": [],
            "_model_name": "OutputModel",
            "outputs": [
              {
                "output_type": "stream",
                "metadata": {
                  "tags": []
                },
                "text": "Video available at https://youtube.com/watch?v=bTJfZro6A9Q\n",
                "stream": "stdout"
              },
              {
                "output_type": "display_data",
                "metadata": {
                  "tags": []
                },
                "text/html": "\n        <iframe\n            width=\"854\"\n            height=\"480\"\n            src=\"https://www.youtube.com/embed/bTJfZro6A9Q?fs=1&rel=0\"\n            frameborder=\"0\"\n            allowfullscreen\n        ></iframe>\n        ",
                "text/plain": "<IPython.lib.display.YouTubeVideo at 0x7f44b3b97910>",
                "image/jpeg": "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\n"
              }
            ],
            "_view_module": "@jupyter-widgets/output",
            "_model_module_version": "1.0.0",
            "_view_count": null,
            "_view_module_version": "1.0.0",
            "layout": "IPY_MODEL_10ad8fff74e745fe810c62349299b718",
            "_model_module": "@jupyter-widgets/output"
          }
        },
        "c7498cce386b4b34b3a893eb54148ee3": {
          "model_module": "@jupyter-widgets/output",
          "model_name": "OutputModel",
          "model_module_version": "1.0.0",
          "state": {
            "_view_name": "OutputView",
            "msg_id": "",
            "_dom_classes": [],
            "_model_name": "OutputModel",
            "outputs": [
              {
                "output_type": "stream",
                "metadata": {
                  "tags": []
                },
                "text": "Video available at https://www.bilibili.com/video/BV1Fq4y1s7pf\n",
                "stream": "stdout"
              },
              {
                "output_type": "display_data",
                "metadata": {
                  "tags": []
                },
                "text/html": "\n        <iframe\n            width=\"854\"\n            height=\"480\"\n            src=\"https://player.bilibili.com/player.html?bvid=BV1Fq4y1s7pf&page=1?fs=1\"\n            frameborder=\"0\"\n            allowfullscreen\n        ></iframe>\n        ",
                "text/plain": "<__main__.BiliVideo at 0x7f44b3b97890>"
              }
            ],
            "_view_module": "@jupyter-widgets/output",
            "_model_module_version": "1.0.0",
            "_view_count": null,
            "_view_module_version": "1.0.0",
            "layout": "IPY_MODEL_61d2e5ccc661462a860c745867a3b79e",
            "_model_module": "@jupyter-widgets/output"
          }
        },
        "10ad8fff74e745fe810c62349299b718": {
          "model_module": "@jupyter-widgets/base",
          "model_name": "LayoutModel",
          "model_module_version": "1.2.0",
          "state": {
            "_view_name": "LayoutView",
            "grid_template_rows": null,
            "right": null,
            "justify_content": null,
            "_view_module": "@jupyter-widgets/base",
            "overflow": null,
            "_model_module_version": "1.2.0",
            "_view_count": null,
            "flex_flow": null,
            "width": null,
            "min_width": null,
            "border": null,
            "align_items": null,
            "bottom": null,
            "_model_module": "@jupyter-widgets/base",
            "top": null,
            "grid_column": null,
            "overflow_y": null,
            "overflow_x": null,
            "grid_auto_flow": null,
            "grid_area": null,
            "grid_template_columns": null,
            "flex": null,
            "_model_name": "LayoutModel",
            "justify_items": null,
            "grid_row": null,
            "max_height": null,
            "align_content": null,
            "visibility": null,
            "align_self": null,
            "height": null,
            "min_height": null,
            "padding": null,
            "grid_auto_rows": null,
            "grid_gap": null,
            "max_width": null,
            "order": null,
            "_view_module_version": "1.2.0",
            "grid_template_areas": null,
            "object_position": null,
            "object_fit": null,
            "grid_auto_columns": null,
            "margin": null,
            "display": null,
            "left": null
          }
        },
        "61d2e5ccc661462a860c745867a3b79e": {
          "model_module": "@jupyter-widgets/base",
          "model_name": "LayoutModel",
          "model_module_version": "1.2.0",
          "state": {
            "_view_name": "LayoutView",
            "grid_template_rows": null,
            "right": null,
            "justify_content": null,
            "_view_module": "@jupyter-widgets/base",
            "overflow": null,
            "_model_module_version": "1.2.0",
            "_view_count": null,
            "flex_flow": null,
            "width": null,
            "min_width": null,
            "border": null,
            "align_items": null,
            "bottom": null,
            "_model_module": "@jupyter-widgets/base",
            "top": null,
            "grid_column": null,
            "overflow_y": null,
            "overflow_x": null,
            "grid_auto_flow": null,
            "grid_area": null,
            "grid_template_columns": null,
            "flex": null,
            "_model_name": "LayoutModel",
            "justify_items": null,
            "grid_row": null,
            "max_height": null,
            "align_content": null,
            "visibility": null,
            "align_self": null,
            "height": null,
            "min_height": null,
            "padding": null,
            "grid_auto_rows": null,
            "grid_gap": null,
            "max_width": null,
            "order": null,
            "_view_module_version": "1.2.0",
            "grid_template_areas": null,
            "object_position": null,
            "object_fit": null,
            "grid_auto_columns": null,
            "margin": null,
            "display": null,
            "left": null
          }
        },
        "450fddd7e994447492b24d6cfd018b77": {
          "model_module": "@jupyter-widgets/controls",
          "model_name": "TabModel",
          "model_module_version": "1.5.0",
          "state": {
            "_view_name": "TabView",
            "_dom_classes": [],
            "_titles": {
              "0": "Youtube",
              "1": "Bilibili"
            },
            "_model_name": "TabModel",
            "_view_module": "@jupyter-widgets/controls",
            "selected_index": 0,
            "_model_module_version": "1.5.0",
            "_view_count": null,
            "_view_module_version": "1.5.0",
            "box_style": "",
            "layout": "IPY_MODEL_8b0317c0b1724099a0d094e9e478c824",
            "_model_module": "@jupyter-widgets/controls",
            "children": [
              "IPY_MODEL_5cf11abf94864f5286971157ac5aac72",
              "IPY_MODEL_05c8035bd02b4a34835e4d873467910e"
            ]
          }
        },
        "8b0317c0b1724099a0d094e9e478c824": {
          "model_module": "@jupyter-widgets/base",
          "model_name": "LayoutModel",
          "model_module_version": "1.2.0",
          "state": {
            "_view_name": "LayoutView",
            "grid_template_rows": null,
            "right": null,
            "justify_content": null,
            "_view_module": "@jupyter-widgets/base",
            "overflow": null,
            "_model_module_version": "1.2.0",
            "_view_count": null,
            "flex_flow": null,
            "width": null,
            "min_width": null,
            "border": null,
            "align_items": null,
            "bottom": null,
            "_model_module": "@jupyter-widgets/base",
            "top": null,
            "grid_column": null,
            "overflow_y": null,
            "overflow_x": null,
            "grid_auto_flow": null,
            "grid_area": null,
            "grid_template_columns": null,
            "flex": null,
            "_model_name": "LayoutModel",
            "justify_items": null,
            "grid_row": null,
            "max_height": null,
            "align_content": null,
            "visibility": null,
            "align_self": null,
            "height": null,
            "min_height": null,
            "padding": null,
            "grid_auto_rows": null,
            "grid_gap": null,
            "max_width": null,
            "order": null,
            "_view_module_version": "1.2.0",
            "grid_template_areas": null,
            "object_position": null,
            "object_fit": null,
            "grid_auto_columns": null,
            "margin": null,
            "display": null,
            "left": null
          }
        },
        "5cf11abf94864f5286971157ac5aac72": {
          "model_module": "@jupyter-widgets/output",
          "model_name": "OutputModel",
          "model_module_version": "1.0.0",
          "state": {
            "_view_name": "OutputView",
            "msg_id": "",
            "_dom_classes": [],
            "_model_name": "OutputModel",
            "outputs": [
              {
                "output_type": "stream",
                "metadata": {
                  "tags": []
                },
                "text": "Video available at https://youtube.com/watch?v=bTJfZro6A9Q\n",
                "stream": "stdout"
              },
              {
                "output_type": "display_data",
                "metadata": {
                  "tags": []
                },
                "text/html": "\n        <iframe\n            width=\"854\"\n            height=\"480\"\n            src=\"https://www.youtube.com/embed/bTJfZro6A9Q?fs=1&rel=0\"\n            frameborder=\"0\"\n            allowfullscreen\n        ></iframe>\n        ",
                "text/plain": "<IPython.lib.display.YouTubeVideo at 0x7f44b3b97910>",
                "image/jpeg": "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\n"
              }
            ],
            "_view_module": "@jupyter-widgets/output",
            "_model_module_version": "1.0.0",
            "_view_count": null,
            "_view_module_version": "1.0.0",
            "layout": "IPY_MODEL_e276324ab5b14b29b352a07b90220c5a",
            "_model_module": "@jupyter-widgets/output"
          }
        },
        "05c8035bd02b4a34835e4d873467910e": {
          "model_module": "@jupyter-widgets/output",
          "model_name": "OutputModel",
          "model_module_version": "1.0.0",
          "state": {
            "_view_name": "OutputView",
            "msg_id": "",
            "_dom_classes": [],
            "_model_name": "OutputModel",
            "outputs": [
              {
                "output_type": "stream",
                "metadata": {
                  "tags": []
                },
                "text": "Video available at https://www.bilibili.com/video/BV1Fq4y1s7pf\n",
                "stream": "stdout"
              },
              {
                "output_type": "display_data",
                "metadata": {
                  "tags": []
                },
                "text/html": "\n        <iframe\n            width=\"854\"\n            height=\"480\"\n            src=\"https://player.bilibili.com/player.html?bvid=BV1Fq4y1s7pf&page=1?fs=1\"\n            frameborder=\"0\"\n            allowfullscreen\n        ></iframe>\n        ",
                "text/plain": "<__main__.BiliVideo at 0x7f44b0eb81d0>"
              }
            ],
            "_view_module": "@jupyter-widgets/output",
            "_model_module_version": "1.0.0",
            "_view_count": null,
            "_view_module_version": "1.0.0",
            "layout": "IPY_MODEL_2372f2f05d0c42358d01a5056ed75ee3",
            "_model_module": "@jupyter-widgets/output"
          }
        },
        "e276324ab5b14b29b352a07b90220c5a": {
          "model_module": "@jupyter-widgets/base",
          "model_name": "LayoutModel",
          "model_module_version": "1.2.0",
          "state": {
            "_view_name": "LayoutView",
            "grid_template_rows": null,
            "right": null,
            "justify_content": null,
            "_view_module": "@jupyter-widgets/base",
            "overflow": null,
            "_model_module_version": "1.2.0",
            "_view_count": null,
            "flex_flow": null,
            "width": null,
            "min_width": null,
            "border": null,
            "align_items": null,
            "bottom": null,
            "_model_module": "@jupyter-widgets/base",
            "top": null,
            "grid_column": null,
            "overflow_y": null,
            "overflow_x": null,
            "grid_auto_flow": null,
            "grid_area": null,
            "grid_template_columns": null,
            "flex": null,
            "_model_name": "LayoutModel",
            "justify_items": null,
            "grid_row": null,
            "max_height": null,
            "align_content": null,
            "visibility": null,
            "align_self": null,
            "height": null,
            "min_height": null,
            "padding": null,
            "grid_auto_rows": null,
            "grid_gap": null,
            "max_width": null,
            "order": null,
            "_view_module_version": "1.2.0",
            "grid_template_areas": null,
            "object_position": null,
            "object_fit": null,
            "grid_auto_columns": null,
            "margin": null,
            "display": null,
            "left": null
          }
        },
        "2372f2f05d0c42358d01a5056ed75ee3": {
          "model_module": "@jupyter-widgets/base",
          "model_name": "LayoutModel",
          "model_module_version": "1.2.0",
          "state": {
            "_view_name": "LayoutView",
            "grid_template_rows": null,
            "right": null,
            "justify_content": null,
            "_view_module": "@jupyter-widgets/base",
            "overflow": null,
            "_model_module_version": "1.2.0",
            "_view_count": null,
            "flex_flow": null,
            "width": null,
            "min_width": null,
            "border": null,
            "align_items": null,
            "bottom": null,
            "_model_module": "@jupyter-widgets/base",
            "top": null,
            "grid_column": null,
            "overflow_y": null,
            "overflow_x": null,
            "grid_auto_flow": null,
            "grid_area": null,
            "grid_template_columns": null,
            "flex": null,
            "_model_name": "LayoutModel",
            "justify_items": null,
            "grid_row": null,
            "max_height": null,
            "align_content": null,
            "visibility": null,
            "align_self": null,
            "height": null,
            "min_height": null,
            "padding": null,
            "grid_auto_rows": null,
            "grid_gap": null,
            "max_width": null,
            "order": null,
            "_view_module_version": "1.2.0",
            "grid_template_areas": null,
            "object_position": null,
            "object_fit": null,
            "grid_auto_columns": null,
            "margin": null,
            "display": null,
            "left": null
          }
        },
        "2a7cacd3b1a24a7e8985eb9b20be4ad0": {
          "model_module": "@jupyter-widgets/controls",
          "model_name": "TextareaModel",
          "model_module_version": "1.5.0",
          "state": {
            "_view_name": "TextareaView",
            "style": "IPY_MODEL_17a96390984d4a97b562bea22a37df96",
            "rows": null,
            "_dom_classes": [],
            "description": "",
            "_model_name": "TextareaModel",
            "placeholder": "Type something",
            "_view_module": "@jupyter-widgets/controls",
            "_model_module_version": "1.5.0",
            "value": "Type your answer here and click on `Submit!`",
            "_view_count": null,
            "disabled": false,
            "_view_module_version": "1.5.0",
            "continuous_update": true,
            "description_tooltip": null,
            "_model_module": "@jupyter-widgets/controls",
            "layout": "IPY_MODEL_97478f2c66394da39c9f8d9aeec61354"
          }
        },
        "17a96390984d4a97b562bea22a37df96": {
          "model_module": "@jupyter-widgets/controls",
          "model_name": "DescriptionStyleModel",
          "model_module_version": "1.5.0",
          "state": {
            "_view_name": "StyleView",
            "_model_name": "DescriptionStyleModel",
            "description_width": "",
            "_view_module": "@jupyter-widgets/base",
            "_model_module_version": "1.5.0",
            "_view_count": null,
            "_view_module_version": "1.2.0",
            "_model_module": "@jupyter-widgets/controls"
          }
        },
        "97478f2c66394da39c9f8d9aeec61354": {
          "model_module": "@jupyter-widgets/base",
          "model_name": "LayoutModel",
          "model_module_version": "1.2.0",
          "state": {
            "_view_name": "LayoutView",
            "grid_template_rows": null,
            "right": null,
            "justify_content": null,
            "_view_module": "@jupyter-widgets/base",
            "overflow": null,
            "_model_module_version": "1.2.0",
            "_view_count": null,
            "flex_flow": null,
            "width": null,
            "min_width": null,
            "border": null,
            "align_items": null,
            "bottom": null,
            "_model_module": "@jupyter-widgets/base",
            "top": null,
            "grid_column": null,
            "overflow_y": null,
            "overflow_x": null,
            "grid_auto_flow": null,
            "grid_area": null,
            "grid_template_columns": null,
            "flex": null,
            "_model_name": "LayoutModel",
            "justify_items": null,
            "grid_row": null,
            "max_height": null,
            "align_content": null,
            "visibility": null,
            "align_self": null,
            "height": null,
            "min_height": null,
            "padding": null,
            "grid_auto_rows": null,
            "grid_gap": null,
            "max_width": null,
            "order": null,
            "_view_module_version": "1.2.0",
            "grid_template_areas": null,
            "object_position": null,
            "object_fit": null,
            "grid_auto_columns": null,
            "margin": null,
            "display": null,
            "left": null
          }
        },
        "3f15e30f28354bfdb9c2d2b7f068d4a6": {
          "model_module": "@jupyter-widgets/controls",
          "model_name": "ButtonModel",
          "model_module_version": "1.5.0",
          "state": {
            "_view_name": "ButtonView",
            "style": "IPY_MODEL_2516f1fa11c743b090eeb6a159919317",
            "_dom_classes": [],
            "description": "Submit!",
            "_model_name": "ButtonModel",
            "button_style": "",
            "_view_module": "@jupyter-widgets/controls",
            "_model_module_version": "1.5.0",
            "tooltip": "",
            "_view_count": null,
            "disabled": false,
            "_view_module_version": "1.5.0",
            "layout": "IPY_MODEL_2afa2e8cff794f5ba796a80e9a46ee72",
            "_model_module": "@jupyter-widgets/controls",
            "icon": ""
          }
        },
        "2516f1fa11c743b090eeb6a159919317": {
          "model_module": "@jupyter-widgets/controls",
          "model_name": "ButtonStyleModel",
          "model_module_version": "1.5.0",
          "state": {
            "_view_name": "StyleView",
            "_model_name": "ButtonStyleModel",
            "_view_module": "@jupyter-widgets/base",
            "_model_module_version": "1.5.0",
            "_view_count": null,
            "button_color": null,
            "font_weight": "",
            "_view_module_version": "1.2.0",
            "_model_module": "@jupyter-widgets/controls"
          }
        },
        "2afa2e8cff794f5ba796a80e9a46ee72": {
          "model_module": "@jupyter-widgets/base",
          "model_name": "LayoutModel",
          "model_module_version": "1.2.0",
          "state": {
            "_view_name": "LayoutView",
            "grid_template_rows": null,
            "right": null,
            "justify_content": null,
            "_view_module": "@jupyter-widgets/base",
            "overflow": null,
            "_model_module_version": "1.2.0",
            "_view_count": null,
            "flex_flow": null,
            "width": null,
            "min_width": null,
            "border": null,
            "align_items": null,
            "bottom": null,
            "_model_module": "@jupyter-widgets/base",
            "top": null,
            "grid_column": null,
            "overflow_y": null,
            "overflow_x": null,
            "grid_auto_flow": null,
            "grid_area": null,
            "grid_template_columns": null,
            "flex": null,
            "_model_name": "LayoutModel",
            "justify_items": null,
            "grid_row": null,
            "max_height": null,
            "align_content": null,
            "visibility": null,
            "align_self": null,
            "height": null,
            "min_height": null,
            "padding": null,
            "grid_auto_rows": null,
            "grid_gap": null,
            "max_width": null,
            "order": null,
            "_view_module_version": "1.2.0",
            "grid_template_areas": null,
            "object_position": null,
            "object_fit": null,
            "grid_auto_columns": null,
            "margin": null,
            "display": null,
            "left": null
          }
        }
      }
    }
  },
  "cells": [
    {
      "cell_type": "markdown",
      "metadata": {
        "id": "view-in-github",
        "colab_type": "text"
      },
      "source": [
        "<a href=\"https://colab.research.google.com/github/NeuromatchAcademy/course-content-dl/blob/KS-W2D5-Surgery/tutorials/W2D5_GenerativeModels/W2D5_Tutorial2.ipynb\" target=\"_parent\"><img src=\"https://colab.research.google.com/assets/colab-badge.svg\" alt=\"Open In Colab\"/></a>"
      ]
    },
    {
      "cell_type": "markdown",
      "metadata": {
        "execution": {},
        "id": "YLBk252mhjg1"
      },
      "source": [
        "# Tutorial 2: Introduction to GANs and Density Ratio Estimation Perspective of GANs\n",
        "\n",
        "**Week 2, Day 5: Generative Models**\n",
        "\n",
        "**By Neuromatch Academy**\n",
        "\n",
        "__Content creators:__ Kai Xu, Seungwook Han, Akash Srivastava\n",
        "\n",
        "__Content reviewers:__ Polina Turishcheva, Melvin Selim Atay, Hadi Vafaei, Deepak Raya, Charles J Edelson, Kelson Shilling-Scrivo\n",
        "\n",
        "__Content editors:__ Charles J Edelson, Spiros Chavlis\n",
        "\n",
        "__Production editors:__ Arush Tagade, Spiros Chavlis"
      ]
    },
    {
      "cell_type": "markdown",
      "metadata": {
        "execution": {},
        "id": "mJMlDrTPhjg4"
      },
      "source": [
        "**Our 2021 Sponsors, including Presenting Sponsor Facebook Reality Labs**\n",
        "\n",
        "<p align='center'><img src='https://github.com/NeuromatchAcademy/widgets/blob/master/sponsors.png?raw=True'/></p>"
      ]
    },
    {
      "cell_type": "markdown",
      "metadata": {
        "execution": {},
        "id": "JkuvfQZ6hjg4"
      },
      "source": [
        "---\n",
        "\n",
        "## Tutorial Objectives\n",
        "\n",
        "The goal of this tutorial is two-fold; first you will be introduced to GANs training, and you will be able to understand how GANs are connected to other generative models that we have been before. \n",
        "\n",
        "By the end of the first part of this tutorial you will be able to:\n",
        "- Understand, at a high level, how GANs are implemented.\n",
        "- Understand the training dynamics of GANs. \n",
        "- Know about a few failure modes of GAN training.\n",
        "- Understand density ratio estimation using a binary classifier\n",
        "- Understand the connection between GANs and other generative models.\n",
        "- Implement a GAN."
      ]
    },
    {
      "cell_type": "code",
      "metadata": {
        "cellView": "form",
        "execution": {},
        "id": "VPNBkfiGhjg5",
        "outputId": "0364a2bd-5f69-40a3-aa73-c93c460be7b6",
        "colab": {
          "base_uri": "https://localhost:8080/",
          "height": 501
        }
      },
      "source": [
        "# @title Tutorial slides\n",
        "\n",
        "# @markdown These are the slides for the videos in this tutorial\n",
        "\n",
        "# @markdown If you want to locally download the slides, click [here](https://osf.io/dftym/download)\n",
        "from IPython.display import IFrame\n",
        "IFrame(src=f\"https://mfr.ca-1.osf.io/render?url=https://osf.io/dftym/?direct%26mode=render%26action=download%26mode=render\", width=854, height=480)"
      ],
      "execution_count": 1,
      "outputs": [
        {
          "output_type": "execute_result",
          "data": {
            "text/html": [
              "\n",
              "        <iframe\n",
              "            width=\"854\"\n",
              "            height=\"480\"\n",
              "            src=\"https://mfr.ca-1.osf.io/render?url=https://osf.io/dftym/?direct%26mode=render%26action=download%26mode=render\"\n",
              "            frameborder=\"0\"\n",
              "            allowfullscreen\n",
              "        ></iframe>\n",
              "        "
            ],
            "text/plain": [
              "<IPython.lib.display.IFrame at 0x7f450fdb1210>"
            ]
          },
          "metadata": {
            "tags": []
          },
          "execution_count": 1
        }
      ]
    },
    {
      "cell_type": "markdown",
      "metadata": {
        "execution": {},
        "id": "QFcLMTdVhjg6"
      },
      "source": [
        "---\n",
        "# Setup"
      ]
    },
    {
      "cell_type": "code",
      "metadata": {
        "cellView": "form",
        "execution": {},
        "id": "S9EChaq0hjg6",
        "outputId": "caa2f1b2-bdb2-4bd8-b7ae-05a99c0fd309",
        "colab": {
          "base_uri": "https://localhost:8080/"
        }
      },
      "source": [
        "# @title Install dependencies\n",
        "!pip install git+https://github.com/NeuromatchAcademy/evaltools --quiet\n",
        "from evaltools.airtable import AirtableForm\n",
        "\n",
        "# generate airtable form\n",
        "atform = AirtableForm('appn7VdPRseSoMXEG','W2D5_T2','https://portal.neuromatchacademy.org/api/redirect/to/9c55f6cb-cdf9-4429-ac1c-ec44fe64c303')"
      ],
      "execution_count": 2,
      "outputs": [
        {
          "output_type": "stream",
          "text": [
            "  Building wheel for evaltools (setup.py) ... \u001b[?25l\u001b[?25hdone\n"
          ],
          "name": "stdout"
        }
      ]
    },
    {
      "cell_type": "code",
      "metadata": {
        "execution": {},
        "id": "zPRjtK6chjg7"
      },
      "source": [
        "# Imports\n",
        "import torch\n",
        "import numpy as np\n",
        "import torch.nn as nn\n",
        "import torch.optim as optim\n",
        "import matplotlib.pyplot as plt\n",
        "\n",
        "from time import time"
      ],
      "execution_count": 3,
      "outputs": []
    },
    {
      "cell_type": "code",
      "metadata": {
        "cellView": "form",
        "execution": {},
        "id": "AjQj4UZihjg8"
      },
      "source": [
        "# @title Figure settings\n",
        "import ipywidgets as widgets       # interactive display\n",
        "%config InlineBackend.figure_format = 'retina'\n",
        "plt.style.use(\"https://raw.githubusercontent.com/NeuromatchAcademy/content-creation/main/nma.mplstyle\")"
      ],
      "execution_count": 4,
      "outputs": []
    },
    {
      "cell_type": "code",
      "metadata": {
        "cellView": "form",
        "execution": {},
        "id": "JqHYQMwDhjg9"
      },
      "source": [
        "# @title Plotting functions\n",
        "\n",
        "ld_true = [-7.0066e-01, -2.6368e-01, -2.4250e+00, -2.0247e+00, -1.1795e+00,\n",
        "        -4.5558e-01, -7.1316e-01, -1.0932e-01, -7.8608e-01, -4.5838e-01,\n",
        "        -1.0530e+00, -9.1201e-01, -3.8020e+00, -1.7787e+00, -1.2246e+00,\n",
        "        -6.5677e-01, -3.6001e-01, -2.2313e-01, -1.8262e+00, -1.2649e+00,\n",
        "        -3.8330e-01, -8.8619e-02, -9.2357e-01, -1.3450e-01, -8.6891e-01,\n",
        "        -5.9257e-01, -4.8415e-02, -3.3197e+00, -1.6862e+00, -9.8506e-01,\n",
        "        -1.1871e+00, -7.0422e-02, -1.7378e+00, -1.3099e+00, -1.8926e+00,\n",
        "        -3.4508e+00, -1.5696e+00, -7.2787e-02, -3.2420e-01, -2.9795e-01,\n",
        "        -6.4189e-01, -1.4120e+00, -5.3684e-01, -3.4066e+00, -1.9753e+00,\n",
        "        -1.4178e+00, -2.0399e-01, -2.3173e-01, -1.2792e+00, -7.2990e-01,\n",
        "        -1.9872e-01, -2.9378e-03, -3.5890e-01, -5.6643e-01, -1.8003e-01,\n",
        "        -1.5818e+00, -5.2227e-01, -2.1862e+00, -1.8743e+00, -1.4200e+00,\n",
        "        -3.1988e-01, -3.5513e-01, -1.5905e+00, -4.2916e-01, -2.5556e-01,\n",
        "        -8.2807e-01, -6.5568e-01, -4.8475e-01, -2.1049e-01, -2.0104e-02,\n",
        "        -2.1655e+00, -1.1496e+00, -3.6168e-01, -8.9624e-02, -6.7098e-02,\n",
        "        -6.0623e-02, -5.1165e-01, -2.7302e+00, -6.0514e-01, -1.6756e+00,\n",
        "        -3.3807e+00, -5.7368e-02, -1.2763e-01, -6.6959e+00, -5.2157e-01,\n",
        "        -8.7762e-01, -8.7295e-01, -1.3052e+00, -3.6777e-01, -1.5904e+00,\n",
        "        -3.8083e-01, -2.8388e-01, -1.5323e-01, -3.7549e-01, -5.2722e+00,\n",
        "        -1.7393e+00, -2.8814e-01, -5.0310e-01, -2.2077e+00, -1.5507e+00,\n",
        "        -6.8569e-01, -1.4620e+00, -9.2639e-02, -1.4160e-01, -3.6734e-01,\n",
        "        -1.0053e+00, -6.7353e-01, -2.2676e+00, -6.0812e-01, -1.0005e+00,\n",
        "        -4.2908e-01, -5.1369e-01, -2.2579e-02, -1.8496e-01, -3.4798e-01,\n",
        "        -7.3089e-01, -1.1962e+00, -1.6095e+00, -1.7558e-01, -3.3166e-01,\n",
        "        -1.1445e+00, -2.4674e+00, -5.0600e-01, -2.0727e+00, -5.4371e-01,\n",
        "        -8.0499e-01, -3.0521e+00, -3.6835e-02, -2.0485e-01, -4.6747e-01,\n",
        "        -3.6399e-01, -2.6883e+00, -1.9348e-01, -3.1448e-01, -1.6332e-01,\n",
        "        -3.2233e-02, -2.3336e-01, -2.6564e+00, -1.2841e+00, -1.3561e+00,\n",
        "        -7.4717e-01, -2.7926e-01, -8.7849e-01, -3.3715e-02, -1.4933e-01,\n",
        "        -2.7738e-01, -1.6899e+00, -1.5758e+00, -3.2608e-01, -6.5770e-01,\n",
        "        -1.7136e+00, -5.8316e+00, -1.1988e+00, -8.3828e-01, -1.8033e+00,\n",
        "        -2.3017e-01, -8.9936e-01, -1.1917e-01, -1.6659e-01, -2.7669e-01,\n",
        "        -1.2955e+00, -1.2076e+00, -2.2793e-01, -1.0528e+00, -1.4894e+00,\n",
        "        -5.7428e-01, -7.3208e-01, -9.5673e-01, -1.6617e+00, -3.9169e+00,\n",
        "        -1.2182e-01, -3.8092e-01, -1.1924e+00, -2.4566e+00, -2.7350e+00,\n",
        "        -2.8332e+00, -9.1506e-01, -6.7432e-02, -7.8965e-01, -2.0727e-01,\n",
        "        -3.4615e-02, -2.8868e+00, -2.1218e+00, -1.2368e-03, -9.0038e-01,\n",
        "        -5.3746e-01, -5.4080e-01, -3.1625e-01, -1.1786e+00, -2.2797e-01,\n",
        "        -1.1498e+00, -1.3978e+00, -1.9515e+00, -1.1614e+00, -5.1456e-03,\n",
        "        -1.9316e-01, -1.3849e+00, -9.2799e-01, -1.1649e-01, -2.3837e-01]\n",
        "\n",
        "\n",
        "def plotting_ld(ld, true=ld_true):\n",
        "  fig, ax = plt.subplots(figsize=(7, 7))\n",
        "  ax.plot([-6, 1], [-6, 1], label=\"Ground Truth\")\n",
        "  ax.scatter(true, ld, marker=\"x\",\n",
        "             label=\"Your implementation\")\n",
        "  ax.set_xlabel(\"Loss from oracle implementation\")\n",
        "  ax.set_ylabel(\"Loss from your implementation\")\n",
        "  ax.legend()\n",
        "  ax.set_title(\"Discriminator Loss\")\n",
        "\n",
        "\n",
        "lg_true = [-7.0066e-01, -2.6368e-01, -2.4250e+00, -2.0247e+00, -1.1795e+00,\n",
        "        -4.5558e-01, -7.1316e-01, -1.0932e-01, -7.8608e-01, -4.5838e-01,\n",
        "        -1.0530e+00, -9.1201e-01, -3.8020e+00, -1.7787e+00, -1.2246e+00,\n",
        "        -6.5677e-01, -3.6001e-01, -2.2313e-01, -1.8262e+00, -1.2649e+00,\n",
        "        -3.8330e-01, -8.8619e-02, -9.2357e-01, -1.3450e-01, -8.6891e-01,\n",
        "        -5.9257e-01, -4.8415e-02, -3.3197e+00, -1.6862e+00, -9.8506e-01,\n",
        "        -1.1871e+00, -7.0422e-02, -1.7378e+00, -1.3099e+00, -1.8926e+00,\n",
        "        -3.4508e+00, -1.5696e+00, -7.2787e-02, -3.2420e-01, -2.9795e-01,\n",
        "        -6.4189e-01, -1.4120e+00, -5.3684e-01, -3.4066e+00, -1.9753e+00,\n",
        "        -1.4178e+00, -2.0399e-01, -2.3173e-01, -1.2792e+00, -7.2990e-01,\n",
        "        -1.9872e-01, -2.9378e-03, -3.5890e-01, -5.6643e-01, -1.8003e-01,\n",
        "        -1.5818e+00, -5.2227e-01, -2.1862e+00, -1.8743e+00, -1.4200e+00,\n",
        "        -3.1988e-01, -3.5513e-01, -1.5905e+00, -4.2916e-01, -2.5556e-01,\n",
        "        -8.2807e-01, -6.5568e-01, -4.8475e-01, -2.1049e-01, -2.0104e-02,\n",
        "        -2.1655e+00, -1.1496e+00, -3.6168e-01, -8.9624e-02, -6.7098e-02,\n",
        "        -6.0623e-02, -5.1165e-01, -2.7302e+00, -6.0514e-01, -1.6756e+00,\n",
        "        -3.3807e+00, -5.7368e-02, -1.2763e-01, -6.6959e+00, -5.2157e-01,\n",
        "        -8.7762e-01, -8.7295e-01, -1.3052e+00, -3.6777e-01, -1.5904e+00,\n",
        "        -3.8083e-01, -2.8388e-01, -1.5323e-01, -3.7549e-01, -5.2722e+00,\n",
        "        -1.7393e+00, -2.8814e-01, -5.0310e-01, -2.2077e+00, -1.5507e+00]\n",
        "\n",
        "\n",
        "def plotting_lg(lg, true=lg_true):\n",
        "  fig, ax = plt.subplots(figsize=(7, 7))\n",
        "  ax.plot([-6, 1], [-6, 1], label=\"Ground Truth\")\n",
        "  ax.scatter(true, lg, marker=\"x\",\n",
        "             label=\"Your implementation\")\n",
        "  ax.set_xlabel(\"Loss from oracle implementation\")\n",
        "  ax.set_ylabel(\"Loss from your implementation\")\n",
        "  ax.legend()\n",
        "  ax.set_title(\"Generator loss\")\n",
        "\n",
        "\n",
        "def plotting_ratio_impl(ax, x_real, x_fake, ratio, yscale=\"linear\"):\n",
        "  dist_p = torch.distributions.normal.Normal(loc=0, scale=1)\n",
        "  dist_q = torch.distributions.normal.Normal(loc=-2, scale=1)\n",
        "  x = torch.linspace(-3, 5, 100)\n",
        "  prob_p = torch.exp(dist_p.log_prob(x))\n",
        "  prob_q = torch.exp(dist_q.log_prob(x))\n",
        "  trueRatio = prob_p / prob_q\n",
        "  ax.plot(x, trueRatio, label=\"True tatio\")\n",
        "\n",
        "  x = torch.cat([x_real, x_fake])\n",
        "  ax.scatter(x[:,0][::10], ratio[:,0][::10], marker=\"x\",\n",
        "             label=\"Ratio from discriminator\")\n",
        "  ax.hist(x_real[:,0], density=True, bins=50, histtype=\"step\", label=\"Real\")\n",
        "  ax.hist(x_fake[:,0], density=True, bins=50, histtype=\"step\", label=\"Fake\")\n",
        "  ax.set_yscale(yscale)\n",
        "  title = \"Densities and the ratio from discriminator\"\n",
        "  if yscale == \"log\":\n",
        "    title += \" in log scale\"\n",
        "  ax.set_title(title)\n",
        "  ax.legend()\n",
        "\n",
        "\n",
        "def plotting_ratio(x_real, x_fake, ratio):\n",
        "  fig, axes = plt.subplots(1, 2, figsize=(2 * 7, 7))\n",
        "  plotting_ratio_impl(axes[0], x_real, x_fake, ratio, yscale=\"linear\")\n",
        "  plotting_ratio_impl(axes[1], x_real, x_fake, ratio, yscale=\"log\")\n",
        "\n",
        "\n",
        "class Interactive:\n",
        "  def display_widgets(self):\n",
        "    for widget in self.widgets:\n",
        "      display(widget)\n",
        "\n",
        "  def __init__(self, widgets, handler):\n",
        "    def handler_with_extra_steps(b):\n",
        "      clear_output(wait=True)\n",
        "      handler(*map(lambda w: w.value, widgets))\n",
        "      self.display_widgets()\n",
        "    self.widgets = widgets\n",
        "    for widget in self.widgets:\n",
        "      widget.observe(handler_with_extra_steps,\n",
        "                     names=['value'])\n",
        "    handler(*map(lambda w: w.value, widgets))\n",
        "    self.display_widgets()\n",
        "\n",
        "\n",
        "# Using Interactive\n",
        "# All widgets: https://ipywidgets.readthedocs.io/en/latest/examples/Widget%20List.html\n",
        "\n",
        "\n",
        "def make_plot(xmax, title, ftype):\n",
        "  fig, ax = plt.subplots()\n",
        "  x = np.linspace(-2, xmax, 100)\n",
        "  if ftype == \"sin\":\n",
        "    y = np.sin(x)\n",
        "  if ftype == \"cos\":\n",
        "    y = np.cos(x)\n",
        "  if ftype == \"tanh\":\n",
        "    y = np.tanh(x)\n",
        "  ax.scatter(x, y)\n",
        "  ax.set_xlim(-2.1, 2.1)\n",
        "  ax.set_ylim(-2, 2)\n",
        "  if title:\n",
        "    ax.set_title(f\"Range from -1 to {xmax}\")\n",
        "  return fig"
      ],
      "execution_count": 5,
      "outputs": []
    },
    {
      "cell_type": "code",
      "metadata": {
        "cellView": "form",
        "execution": {},
        "id": "46Gk2yMjhjhB"
      },
      "source": [
        "# @title Set random seed\n",
        "\n",
        "# @markdown Executing `set_seed(seed=seed)` you are setting the seed\n",
        "\n",
        "# for DL its critical to set the random seed so that students can have a\n",
        "# baseline to compare their results to expected results.\n",
        "# Read more here: https://pytorch.org/docs/stable/notes/randomness.html\n",
        "\n",
        "# Call `set_seed` function in the exercises to ensure reproducibility.\n",
        "import random\n",
        "import torch\n",
        "\n",
        "def set_seed(seed=None, seed_torch=True):\n",
        "  if seed is None:\n",
        "    seed = np.random.choice(2 ** 32)\n",
        "  random.seed(seed)\n",
        "  np.random.seed(seed)\n",
        "  if seed_torch:\n",
        "    torch.manual_seed(seed)\n",
        "    torch.cuda.manual_seed_all(seed)\n",
        "    torch.cuda.manual_seed(seed)\n",
        "    torch.backends.cudnn.benchmark = False\n",
        "    torch.backends.cudnn.deterministic = True\n",
        "\n",
        "  print(f'Random seed {seed} has been set.')\n",
        "\n",
        "\n",
        "# In case that `DataLoader` is used\n",
        "def seed_worker(worker_id):\n",
        "  worker_seed = torch.initial_seed() % 2**32\n",
        "  np.random.seed(worker_seed)\n",
        "  random.seed(worker_seed)"
      ],
      "execution_count": 6,
      "outputs": []
    },
    {
      "cell_type": "code",
      "metadata": {
        "cellView": "form",
        "execution": {},
        "id": "EFqomi9rhjhC"
      },
      "source": [
        "# @title Set device (GPU or CPU). Execute `set_device()`\n",
        "# especially if torch modules used.\n",
        "\n",
        "# inform the user if the notebook uses GPU or CPU.\n",
        "\n",
        "def set_device():\n",
        "  device = \"cuda\" if torch.cuda.is_available() else \"cpu\"\n",
        "  if device != \"cuda\":\n",
        "    print(\"WARNING: For this notebook to perform best, \"\n",
        "        \"if possible, in the menu under `Runtime` -> \"\n",
        "        \"`Change runtime type.`  select `GPU` \")\n",
        "  else:\n",
        "    print(\"GPU is enabled in this notebook.\")\n",
        "\n",
        "  return device"
      ],
      "execution_count": 7,
      "outputs": []
    },
    {
      "cell_type": "code",
      "metadata": {
        "execution": {},
        "id": "9DXJ3g76hjhC",
        "outputId": "66e63940-0006-4aba-e637-8916a086984a",
        "colab": {
          "base_uri": "https://localhost:8080/"
        }
      },
      "source": [
        "SEED = 2021\n",
        "set_seed(seed=SEED)\n",
        "DEVICE = set_device()"
      ],
      "execution_count": 8,
      "outputs": [
        {
          "output_type": "stream",
          "text": [
            "Random seed 2021 has been set.\n",
            "GPU is enabled in this notebook.\n"
          ],
          "name": "stdout"
        }
      ]
    },
    {
      "cell_type": "markdown",
      "metadata": {
        "execution": {},
        "id": "RUVrUyc_hjhC"
      },
      "source": [
        "---\n",
        "# Section 1: How to train GANs\n",
        "\n",
        "*Time estimate: ~15mins*"
      ]
    },
    {
      "cell_type": "code",
      "metadata": {
        "execution": {},
        "id": "rcunIQrEhjhD",
        "outputId": "3010a0c5-e320-4ac5-8afa-b32e982e21f6",
        "colab": {
          "base_uri": "https://localhost:8080/",
          "height": 580,
          "referenced_widgets": [
            "b4e154f0012c42488f8618b5e8c52daa",
            "ce9a4d7b57e148af9b52faa7f0cbce02",
            "f7e68be487a74fedb491c4a4d21e893a",
            "dceca11d3fcc42dead91e9620b60acec",
            "94d5499624424a85bf1518cb270aedc1",
            "e13799ece88e49cf9388874b636ae226"
          ]
        }
      },
      "source": [
        "# @title Video 1: Generative Adversarial Networks\n",
        "from ipywidgets import widgets\n",
        "\n",
        "out2 = widgets.Output()\n",
        "with out2:\n",
        "  from IPython.display import IFrame\n",
        "  class BiliVideo(IFrame):\n",
        "    def __init__(self, id, page=1, width=400, height=300, **kwargs):\n",
        "      self.id=id\n",
        "      src = \"https://player.bilibili.com/player.html?bvid={0}&page={1}\".format(id, page)\n",
        "      super(BiliVideo, self).__init__(src, width, height, **kwargs)\n",
        "\n",
        "  video = BiliVideo(id=f\"BV19V411H72M\", width=854, height=480, fs=1)\n",
        "  print(\"Video available at https://www.bilibili.com/video/{0}\".format(video.id))\n",
        "  display(video)\n",
        "\n",
        "out1 = widgets.Output()\n",
        "with out1:\n",
        "  from IPython.display import YouTubeVideo\n",
        "  video = YouTubeVideo(id=f\"ye5P78eKOVM\", width=854, height=480, fs=1, rel=0)\n",
        "  print(\"Video available at https://youtube.com/watch?v=\" + video.id)\n",
        "  display(video)\n",
        "\n",
        "out = widgets.Tab([out1, out2])\n",
        "out.set_title(0, 'Youtube')\n",
        "out.set_title(1, 'Bilibili')\n",
        "\n",
        "# add event to airtable\n",
        "atform.add_event('Video 1: Generative Adversarial Networks')\n",
        "\n",
        "display(out)"
      ],
      "execution_count": 9,
      "outputs": [
        {
          "output_type": "display_data",
          "data": {
            "application/vnd.jupyter.widget-view+json": {
              "model_id": "b4e154f0012c42488f8618b5e8c52daa",
              "version_minor": 0,
              "version_major": 2
            },
            "text/plain": [
              "Tab(children=(Output(), Output()), _titles={'0': 'Youtube', '1': 'Bilibili'})"
            ]
          },
          "metadata": {
            "tags": []
          }
        }
      ]
    },
    {
      "cell_type": "markdown",
      "metadata": {
        "execution": {},
        "id": "ghCtTBzNhjhD"
      },
      "source": [
        "GANs consist two networks: A critic or discriminator (`disc`) and a generator (`gen`) that are trained by alternating between the following two steps:\n",
        "- In step 1, we update the parameters (`disc.params`) of the discriminator by backpropagating through the discriminator loss (BCE loss) `disc.loss`.\n",
        "- In step 2, we update the parameters (`gen.params`) of the generator by backpropagating through the generator loss, `gen.loss` (-1 * BCE loss).\n",
        "\n",
        "We will now implement a simple GAN training loop!"
      ]
    },
    {
      "cell_type": "markdown",
      "metadata": {
        "execution": {},
        "id": "yNX1KnZNhjhE"
      },
      "source": [
        "## Coding Exercise 1: The GAN training loop\n",
        "\n",
        "To get you started we have implemented a simple GAN in pseudocode. All you have to do is to implement the training loop.\n",
        "\n",
        "__Your goal__ is to arrange the functions given below in the correct order in the `train_gan_iter` function\n",
        "- `disc.loss(x_real, x_fake)`: Discriminator loss\n",
        "- `disc.classify(x)`: Classify `x` as real or fake\n",
        "- `gen.loss(x_fake, disc_fn)`: Generator loss\n",
        "- `disc_fn(x)` is a function to check `x` is real or fake.\n",
        "- `gen.sample(num_samples)`: Generate samples from the generator\n",
        "- `backprop(loss, model)`: Compute gradient of `loss` wrt `model`\n",
        "- `model` is either `disc` or `gen`\n",
        "\n",
        "We have already taken care of most of these functions. So you only have to figure out the placement of `disc.loss` and `gen.loss` functions.\n",
        "\n",
        "__We highly recommend studying `train_gan_iter` function to understand how the GAN training loop is structured.__ "
      ]
    },
    {
      "cell_type": "code",
      "metadata": {
        "cellView": "form",
        "execution": {},
        "id": "OLYc4h09hjhE"
      },
      "source": [
        "# @markdown *Execute this cell to enable helper functions*\n",
        "\n",
        "def get_data():\n",
        "  return \"get_data\"\n",
        "\n",
        "\n",
        "class Disc:\n",
        "\n",
        "  def loss(self, x_real, x_fake):\n",
        "    assert x_real == \"get_data\" and x_fake == \"gen.sample\",\"Inputs to disc.loss is wrong\"\n",
        "\n",
        "  def classify(self, x):\n",
        "    return \"disc.classify\"\n",
        "\n",
        "\n",
        "class Gen:\n",
        "\n",
        "  def loss(self, x_fake, disc_fn):\n",
        "    assert x_fake == \"gen.sample\" and disc_fn(None) == \"disc.classify\", \"Inputs to gen.loss is wrong\"\n",
        "\n",
        "  def sample(self, num_samples):\n",
        "    return \"gen.sample\"\n",
        "\n",
        "\n",
        "def backprop(loss, model):\n",
        "  pass\n",
        "\n",
        "\n",
        "def update(model, grad):\n",
        "  pass"
      ],
      "execution_count": 10,
      "outputs": []
    },
    {
      "cell_type": "code",
      "metadata": {
        "execution": {},
        "id": "HYrpOGmhhjhE"
      },
      "source": [
        "def train_gan_iter(data, disc, gen):\n",
        "  \"\"\"Update the discriminator (`disc`) and the generator (`gen`) using `data`\n",
        "\n",
        "  Args:\n",
        "    data (ndarray): An array of shape (N,) that contains the data\n",
        "    disc (Disc): The discriminator\n",
        "    gen (Gen): The generator\n",
        "\n",
        "  Returns:\n",
        "  \"\"\"\n",
        "  #################################################\n",
        "  # Intructions for students:                        #\n",
        "  # Fill out ... in the function and remove below #\n",
        "  #################################################\n",
        "\n",
        "  # Number of samples in the data batch\n",
        "  num_samples = 200\n",
        "\n",
        "  # The data is the real samples\n",
        "  x_real = data\n",
        "\n",
        "  ## Discriminator training\n",
        "\n",
        "  # Ask the generator to generate some fake samples\n",
        "  x_fake = gen.sample(num_samples)\n",
        "\n",
        "  #################################################\n",
        "  ## TODO for students: details of what they should do ##\n",
        "  # Fill out function and remove\n",
        "  raise NotImplementedError(\"Student exercise: Write code to compute disc_loss\")\n",
        "  #################################################\n",
        "  # Compute the discriminator loss\n",
        "  disc_loss = ...\n",
        "\n",
        "  # Compute the gradient for discriminator\n",
        "  disc_grad = backprop(disc_loss, disc)\n",
        "\n",
        "  # Update the discriminator\n",
        "  update(disc, disc_grad)\n",
        "\n",
        "  ## Generator training\n",
        "\n",
        "  # Ask the generator to generate some fake samples\n",
        "  x_fake = gen.sample(num_samples)\n",
        "\n",
        "  #################################################\n",
        "  ## TODO for students: details of what they should do ##\n",
        "  # Fill out function and remove\n",
        "  raise NotImplementedError(\"Student exercise: Write code to compute gen_loss\")\n",
        "  #################################################\n",
        "  # Compute the generator loss\n",
        "  gen_loss = ...\n",
        "\n",
        "  # Compute the gradient for generator\n",
        "  gen_grad = backprop(gen_loss, gen)\n",
        "\n",
        "  # Update the generator\n",
        "  update(gen, gen_grad)\n",
        "\n",
        "  print(\"Your implementation passes the check!\")\n",
        "\n",
        "  return None\n",
        "\n",
        "\n",
        "# add event to airtable\n",
        "atform.add_event('Coding Exercise 1: The GAN training loop')\n",
        "\n",
        "data = get_data()\n",
        "disc = Disc()\n",
        "gen = Gen()\n",
        "## Uncomment below to check your function\n",
        "# train_gan_iter(data, disc, gen)"
      ],
      "execution_count": 11,
      "outputs": []
    },
    {
      "cell_type": "code",
      "metadata": {
        "execution": {},
        "id": "fZcmM86shjhE",
        "outputId": "69811a00-5e2b-4085-f88b-369904bd36b2",
        "colab": {
          "base_uri": "https://localhost:8080/"
        }
      },
      "source": [
        "# to_remove solution\n",
        "def train_gan_iter(data, disc, gen):\n",
        "  \"\"\"Update the discriminator (`disc`) and the generator (`gen`) using `data`\n",
        "\n",
        "  Args:\n",
        "    data (ndarray): An array of shape (N,) that contains the data\n",
        "    disc (Disc): The discriminator\n",
        "    gen (Gen): The generator\n",
        "\n",
        "  Returns:\n",
        "  \"\"\"\n",
        "\n",
        "  # Number of samples in the data batch\n",
        "  num_samples = 200\n",
        "\n",
        "  # The data is the real samples\n",
        "  x_real = data\n",
        "\n",
        "  ## Discriminator training\n",
        "\n",
        "  # Ask the generator to generate some fake samples\n",
        "  x_fake = gen.sample(num_samples)\n",
        "\n",
        "  # Compute the discriminator loss\n",
        "  disc_loss = disc.loss(x_real, x_fake)\n",
        "\n",
        "  # Compute the gradient for discriminator\n",
        "  disc_grad = backprop(disc_loss, disc)\n",
        "\n",
        "  # Update the discriminator\n",
        "  update(disc, disc_grad)\n",
        "\n",
        "  ## Generator training\n",
        "\n",
        "  # Ask the generator to generate some fake samples\n",
        "  x_fake = gen.sample(num_samples)\n",
        "\n",
        "  # Compute the generator loss\n",
        "  gen_loss = gen.loss(x_fake, disc.classify)\n",
        "\n",
        "  # Compute the gradient for generator\n",
        "  gen_grad = backprop(gen_loss, gen)\n",
        "\n",
        "  # Update the generator\n",
        "  update(gen, gen_grad)\n",
        "\n",
        "  print(\"Your implementation passes the check!\")\n",
        "\n",
        "  return None\n",
        "\n",
        "\n",
        "# add event to airtable\n",
        "atform.add_event('Coding Exercise 1: The GAN training loop')\n",
        "\n",
        "data = get_data()\n",
        "disc = Disc()\n",
        "gen = Gen()\n",
        "## Uncomment below to check your function\n",
        "train_gan_iter(data, disc, gen)"
      ],
      "execution_count": 12,
      "outputs": [
        {
          "output_type": "stream",
          "text": [
            "Your implementation passes the check!\n"
          ],
          "name": "stdout"
        }
      ]
    },
    {
      "cell_type": "markdown",
      "metadata": {
        "execution": {},
        "id": "LYdwzL8ahjhG"
      },
      "source": [
        "---\n",
        "# Section 2: GAN Training Objective\n",
        "\n",
        "*Time estimate: ~20mins*"
      ]
    },
    {
      "cell_type": "markdown",
      "metadata": {
        "execution": {},
        "id": "5UQ1c69-hjhG"
      },
      "source": [
        "The training objective of GANs consists of the losses for generators and discriminators respectively. In this section we will be implementing these objectives."
      ]
    },
    {
      "cell_type": "code",
      "metadata": {
        "execution": {},
        "id": "EqokFfOAhjhG",
        "outputId": "25e98403-db80-4c60-daac-c41f87ce857f",
        "colab": {
          "base_uri": "https://localhost:8080/",
          "height": 580,
          "referenced_widgets": [
            "8254de65f9254c569dd9704bd4784dc3",
            "bdbe9dd2c0b449f1b892fd2d2a29c416",
            "3749c020a2ec4cce99207c393f969ab4",
            "c7498cce386b4b34b3a893eb54148ee3",
            "10ad8fff74e745fe810c62349299b718",
            "61d2e5ccc661462a860c745867a3b79e"
          ]
        }
      },
      "source": [
        "# @title Video 2: Principles of GANs\n",
        "from ipywidgets import widgets\n",
        "\n",
        "out2 = widgets.Output()\n",
        "with out2:\n",
        "  from IPython.display import IFrame\n",
        "  class BiliVideo(IFrame):\n",
        "    def __init__(self, id, page=1, width=400, height=300, **kwargs):\n",
        "      self.id=id\n",
        "      src = \"https://player.bilibili.com/player.html?bvid={0}&page={1}\".format(id, page)\n",
        "      super(BiliVideo, self).__init__(src, width, height, **kwargs)\n",
        "\n",
        "  video = BiliVideo(id=f\"BV1Fq4y1s7pf\", width=854, height=480, fs=1)\n",
        "  print(\"Video available at https://www.bilibili.com/video/{0}\".format(video.id))\n",
        "  display(video)\n",
        "\n",
        "out1 = widgets.Output()\n",
        "with out1:\n",
        "  from IPython.display import YouTubeVideo\n",
        "  video = YouTubeVideo(id=f\"bTJfZro6A9Q\", width=854, height=480, fs=1, rel=0)\n",
        "  print(\"Video available at https://youtube.com/watch?v=\" + video.id)\n",
        "  display(video)\n",
        "\n",
        "out = widgets.Tab([out1, out2])\n",
        "out.set_title(0, 'Youtube')\n",
        "out.set_title(1, 'Bilibili')\n",
        "\n",
        "# add event to airtable\n",
        "atform.add_event('Video 2: Principles of GANs')\n",
        "\n",
        "display(out)"
      ],
      "execution_count": 13,
      "outputs": [
        {
          "output_type": "display_data",
          "data": {
            "application/vnd.jupyter.widget-view+json": {
              "model_id": "8254de65f9254c569dd9704bd4784dc3",
              "version_minor": 0,
              "version_major": 2
            },
            "text/plain": [
              "Tab(children=(Output(), Output()), _titles={'0': 'Youtube', '1': 'Bilibili'})"
            ]
          },
          "metadata": {
            "tags": []
          }
        }
      ]
    },
    {
      "cell_type": "markdown",
      "metadata": {
        "execution": {},
        "id": "hTFVTJrJhjhH"
      },
      "source": [
        "## Section 2.1:  Discriminator Loss\n",
        "\n",
        "The critic or the discriminator in a vanilla GAN is trained as a binary classifier using the BCE criteria. In this section, we will implement the training objective for the discriminator. \n",
        "\n",
        "\\begin{equation}\n",
        "\\text{BCE}_\\omega = \\mathbb{E}_{x \\sim p}[\\log(\\sigma(D_\\omega(x)))] + \\mathbb{E}_{x \\sim q}[\\log(1 - \\sigma(D_\\omega(x)))]\n",
        "\\end{equation}\n",
        "\n",
        "Here, $p$ is the data distribution and $q$ is the generator distribution. $D_\\omega$ is the logit, which represents $\\log \\frac{p}{q}$. $\\sigma$ is the sigmoid function and therfore, $\\sigma(D_\\omega)$ represents $\\frac{p}{p+q}$."
      ]
    },
    {
      "cell_type": "markdown",
      "metadata": {
        "execution": {},
        "id": "8wo_jP_AhjhH"
      },
      "source": [
        "### Coding Exercise 2.1: Implement Discriminator Loss\n",
        "\n",
        "To get you started we have implemented a simple GAN in pseudocode and partially implemented the discriminator training objective.\n",
        "\n",
        "**Your goal** is to complete the missing part in the training objective of the discriminator in the function `loss_disc`.\n",
        "\n",
        "`loss_disc` also allows you evaluate the loss function on some random samples.\n",
        "If your implementation is correct, you will see a plot where the loss values from your implementation will match the ground truth loss values.\n",
        "\n",
        "In practice, given $N$ samples, we estimate BCE as\n",
        "\n",
        "\\begin{equation}\n",
        "\\text{BCE}_\\omega = -\\frac{1}{N} \\sum_{i=1}^N y_i \\log(\\sigma(D_\\omega(x_i)) + (1-y_i) \\log(1-\\sigma(D_\\omega(x_i))).\n",
        "\\end{equation}\n",
        "\n",
        "Here, $y$ is the label. $y=1$ when $x \\sim p$ (real data) and $y=0$ when $x \\sim q$ (i.e., fake data).\n",
        "\n",
        "Please note, `disc.classify` = $\\sigma(D_\\omega)$ in `loss_disc`."
      ]
    },
    {
      "cell_type": "code",
      "metadata": {
        "cellView": "form",
        "execution": {},
        "id": "-2fbQEPAhjhH"
      },
      "source": [
        "# @markdown *Execute this cell to enable helper functions*\n",
        "\n",
        "def get_data(num_samples=100, seed=0):\n",
        "  set_seed(seed)\n",
        "  return torch.randn([num_samples, 1])\n",
        "\n",
        "\n",
        "class DummyGen:\n",
        "  def sample(self, num_samples=100, seed=1):\n",
        "    set_seed(seed)\n",
        "    return torch.randn([num_samples, 1]) + 2\n",
        "\n",
        "\n",
        "class DummyDisc:\n",
        "  def classify(self, x, seed=0):\n",
        "    set_seed(seed)\n",
        "    return torch.rand([x.shape[0], ])"
      ],
      "execution_count": 14,
      "outputs": []
    },
    {
      "cell_type": "code",
      "metadata": {
        "execution": {},
        "id": "Lj5gIhu7hjhH",
        "outputId": "22e18b5f-3abb-4904-e7f5-4ece041218d6",
        "colab": {
          "base_uri": "https://localhost:8080/"
        }
      },
      "source": [
        "def loss_disc(disc, x_real, x_fake):\n",
        "  \"\"\"Compute the discriminator loss for `x_real` and `x_fake` given `disc`\n",
        "\n",
        "  Args:\n",
        "    disc: The discriminator\n",
        "    x_real (ndarray): An array of shape (N,) that contains the real samples\n",
        "    x_fake (ndarray): An array of shape (N,) that contains the fake samples\n",
        "\n",
        "  Returns:\n",
        "    ndarray: The discriminator loss\n",
        "  \"\"\"\n",
        "\n",
        "  label_real = 1\n",
        "  #################################################\n",
        "  # TODO for students: Loss for real data\n",
        "  raise NotImplementedError(\"Student exercise: Implement loss for real samples\")\n",
        "  #################################################\n",
        "  loss_real = label_real * ...\n",
        "\n",
        "  label_fake = 0\n",
        "  #################################################\n",
        "  # TODO for students: Loss for fake data\n",
        "  raise NotImplementedError(\"Student exercise: Implement loss for fake samples\")\n",
        "  #################################################\n",
        "  loss_fake = ... * torch.log(1 - disc.classify(x_fake))\n",
        "\n",
        "\n",
        "  return torch.cat([loss_real, loss_fake])\n",
        "\n",
        "\n",
        "# add event to airtable\n",
        "atform.add_event('Coding Exercise 3.1: Implement Discriminator Loss')\n",
        "\n",
        "disc = DummyDisc()\n",
        "gen = DummyGen()\n",
        "\n",
        "x_real = get_data()\n",
        "x_fake = gen.sample()\n",
        "\n",
        "## Uncomment to check your function\n",
        "# ld = loss_disc(disc, x_real, x_fake)\n",
        "# plotting_ld(ld)"
      ],
      "execution_count": 15,
      "outputs": [
        {
          "output_type": "stream",
          "text": [
            "Random seed 0 has been set.\n",
            "Random seed 1 has been set.\n"
          ],
          "name": "stdout"
        }
      ]
    },
    {
      "cell_type": "code",
      "metadata": {
        "execution": {},
        "id": "Z9zWY9JXhjhH",
        "outputId": "99144559-f371-472f-9175-0e6512d01066",
        "colab": {
          "base_uri": "https://localhost:8080/",
          "height": 604
        }
      },
      "source": [
        "# to_remove solution\n",
        "def loss_disc(disc, x_real, x_fake):\n",
        "  \"\"\"Compute the discriminator loss for `x_real` and `x_fake` given `disc`\n",
        "\n",
        "  Args:\n",
        "    disc: The discriminator\n",
        "    x_real (ndarray): An array of shape (N,) that contains the real samples\n",
        "    x_fake (ndarray): An array of shape (N,) that contains the fake samples\n",
        "\n",
        "  Returns:\n",
        "    ndarray: The discriminator loss\n",
        "  \"\"\"\n",
        "\n",
        "  # Loss for real data\n",
        "  label_real = 1\n",
        "  loss_real = label_real * torch.log(disc.classify(x_real))\n",
        "\n",
        "  # Loss for fake data\n",
        "  label_fake = 0\n",
        "  loss_fake = (1 - label_fake) * torch.log(1 - disc.classify(x_fake))\n",
        "\n",
        "  return torch.cat([loss_real, loss_fake])\n",
        "\n",
        "\n",
        "# add event to airtable\n",
        "atform.add_event('Coding Exercise 3.1: Implement Discriminator Loss')\n",
        "\n",
        "disc = DummyDisc()\n",
        "gen = DummyGen()\n",
        "\n",
        "x_real = get_data()\n",
        "x_fake = gen.sample()\n",
        "\n",
        "## Uncomment to check your function\n",
        "ld = loss_disc(disc, x_real, x_fake)\n",
        "with plt.xkcd():\n",
        "  plotting_ld(ld)"
      ],
      "execution_count": 16,
      "outputs": [
        {
          "output_type": "stream",
          "text": [
            "Random seed 0 has been set.\n",
            "Random seed 1 has been set.\n",
            "Random seed 0 has been set.\n",
            "Random seed 0 has been set.\n"
          ],
          "name": "stdout"
        },
        {
          "output_type": "stream",
          "text": [
            "/usr/local/lib/python3.7/dist-packages/matplotlib/backends/backend_agg.py:214: RuntimeWarning: Glyph 8722 missing from current font.\n",
            "  font.set_text(s, 0.0, flags=flags)\n"
          ],
          "name": "stderr"
        },
        {
          "output_type": "display_data",
          "data": {
            "image/png": "[encoded data removed]",
            "text/plain": [
              "<Figure size 504x504 with 1 Axes>"
            ]
          },
          "metadata": {
            "tags": [],
            "image/png": {
              "width": 485,
              "height": 485
            }
          }
        }
      ]
    },
    {
      "cell_type": "markdown",
      "metadata": {
        "execution": {},
        "id": "4e7W2I_QhjhI"
      },
      "source": [
        "**A note on numerical stability**\n",
        "\n",
        "It is common that functions like $\\log$ throw a numerical error.\n",
        "For $\\log$, it happens when $x$ in $\\log(x)$ is very close to 0.\n",
        "The most common practice is to always add some very small value $\\epsilon$ to $x$, i.e. use $\\log(x + \\epsilon)$ instead.\n",
        "Most build-in functions in modern DL frameworks like TensorFlow or PyTorch handle such things in their build-in loss already, e.g., `torch.nn.BCE`, which is equivalent to the loss you implemented above."
      ]
    },
    {
      "cell_type": "markdown",
      "metadata": {
        "execution": {},
        "id": "XZmiejswhjhJ"
      },
      "source": [
        "## Section 3.3:  The generator loss\n",
        "\n",
        "Now that we have a trained critic, lets see how to train the generator using it."
      ]
    },
    {
      "cell_type": "markdown",
      "metadata": {
        "execution": {},
        "id": "wWoO-z9UhjhJ"
      },
      "source": [
        "### Coding Exercise 3.3: The generator loss\n",
        "\n",
        "We will now implement the generator loss function and evaluate it on some fixed points.\n",
        "\n",
        "**Your goal** is to complete the implementation of the function `loss_gen` using the optimal critic from above.\n",
        "\n",
        "Upon correct implementation, you shall see a plot where the loss values from generator samples align with the \"Correct\" values.\n",
        "\n",
        "**HINT:** You simply need to change the labels. "
      ]
    },
    {
      "cell_type": "code",
      "metadata": {
        "execution": {},
        "id": "zgm3sRtHhjhJ",
        "outputId": "421ffa47-f5c9-46b1-e35c-35e3babff0b9",
        "colab": {
          "base_uri": "https://localhost:8080/"
        }
      },
      "source": [
        "def loss_gen(disc, x_fake):\n",
        "  \"\"\"Compute the generator loss for `x_fake` given `disc`\n",
        "\n",
        "  Args:\n",
        "    disc: The generator\n",
        "    x_fake (ndarray): An array of shape (N,) that contains the fake samples\n",
        "\n",
        "  Returns:\n",
        "    ndarray: The generator loss\n",
        "  \"\"\"\n",
        "\n",
        "  #################################################\n",
        "  # TODO for students: Loss for fake data\n",
        "  raise NotImplementedError(\"Student exercise: Implement loss for fake data\")\n",
        "  #################################################\n",
        "  label_fake = ...\n",
        "  loss_fake = label_fake * ...\n",
        "\n",
        "  return loss_fake\n",
        "\n",
        "\n",
        "# add event to airtable\n",
        "atform.add_event('Coding Exercise 3.3: The generator loss')\n",
        "\n",
        "disc = DummyDisc()\n",
        "gen = DummyGen()\n",
        "\n",
        "x_fake = gen.sample()\n",
        "## Uncomment below to check your function\n",
        "# lg = loss_gen(disc, x_fake)\n",
        "# plotting_lg(lg)"
      ],
      "execution_count": 17,
      "outputs": [
        {
          "output_type": "stream",
          "text": [
            "Random seed 1 has been set.\n"
          ],
          "name": "stdout"
        }
      ]
    },
    {
      "cell_type": "code",
      "metadata": {
        "execution": {},
        "id": "JdnlHhOXhjhJ",
        "outputId": "657c2f73-111d-45a2-b2d6-c46b3b1411ac",
        "colab": {
          "base_uri": "https://localhost:8080/",
          "height": 570
        }
      },
      "source": [
        "# to_remove solution\n",
        "def loss_gen(disc, x_fake):\n",
        "  \"\"\"Compute the generator loss for `x_fake` given `disc`\n",
        "\n",
        "  Args:\n",
        "    disc: The generator\n",
        "    x_fake (ndarray): An array of shape (N,) that contains the fake samples\n",
        "\n",
        "  Returns:\n",
        "    ndarray: The generator loss\n",
        "  \"\"\"\n",
        "\n",
        "  # Loss for fake data\n",
        "  label_fake = 1\n",
        "  loss_fake = label_fake * torch.log(disc.classify(x_fake))\n",
        "\n",
        "  return loss_fake\n",
        "\n",
        "\n",
        "# add event to airtable\n",
        "atform.add_event('Coding Exercise 3.3: The generator loss')\n",
        "\n",
        "disc = DummyDisc()\n",
        "gen = DummyGen()\n",
        "\n",
        "x_fake = gen.sample()\n",
        "## Uncomment below to check your function\n",
        "lg = loss_gen(disc, x_fake)\n",
        "with plt.xkcd():\n",
        "  plotting_lg(lg)"
      ],
      "execution_count": 18,
      "outputs": [
        {
          "output_type": "stream",
          "text": [
            "Random seed 1 has been set.\n",
            "Random seed 0 has been set.\n"
          ],
          "name": "stdout"
        },
        {
          "output_type": "stream",
          "text": [
            "/usr/local/lib/python3.7/dist-packages/matplotlib/backends/backend_agg.py:214: RuntimeWarning: Glyph 8722 missing from current font.\n",
            "  font.set_text(s, 0.0, flags=flags)\n"
          ],
          "name": "stderr"
        },
        {
          "output_type": "display_data",
          "data": {
            "image/png": "[encoded data removed]",
            "text/plain": [
              "<Figure size 504x504 with 1 Axes>"
            ]
          },
          "metadata": {
            "tags": [],
            "image/png": {
              "width": 485,
              "height": 485
            }
          }
        }
      ]
    },
    {
      "cell_type": "markdown",
      "metadata": {
        "execution": {},
        "id": "kbOv08a1hjhJ"
      },
      "source": [
        "**Did you notice?**\n",
        "\n",
        "The loss you implemented for generator is essentially the part for real data in `loss_disc`, i.e., it is saying, \"*the data I am feeding to you is real and not fake*\"."
      ]
    },
    {
      "cell_type": "markdown",
      "metadata": {
        "execution": {},
        "id": "nAe9cIn2hjhF"
      },
      "source": [
        "---\n",
        "# Section 3: The difficulty of GAN training.\n",
        "\n",
        "*Time estimate: ~10mins*"
      ]
    },
    {
      "cell_type": "markdown",
      "metadata": {
        "execution": {},
        "id": "prad117MhjhF"
      },
      "source": [
        "In this section we will develop an intuition for the training dynamics of GANs."
      ]
    },
    {
      "cell_type": "markdown",
      "metadata": {
        "execution": {},
        "id": "geV8upCzhjhF"
      },
      "source": [
        "## Interactive Demo 2: Failure modes of GAN training\n",
        "\n",
        "GAN training is notoriously difficult because \n",
        "it is very sensitive to hyper-parameters such as learning rate and model architecture. To help you develop a sense of this here is a very simple GAN training demo that we have borrowed from [Andrej Karpathy's website](https://cs.stanford.edu/people/karpathy/gan/).  \n",
        "\n",
        "The generator $G$, pictured in red, takes inputs sampled from a uniform distribution, $z$. It attempts to transform these to match a data distribution, shown below in blue. Meanwhile, the discriminator $D$ attempts to determine whether a sample is from the data distribution or the generating distribution. In the demo, the green curve represents the output of the discriminator. Its value is high where the discriminator is more confident that a sample with that value is drawn from the data distribution.\n",
        "\n",
        "Even though the GAN in this demo is very simple and operates in either 1D or 2D spaces, it is however very sensitive to the learning rate. Try it for yourself!"
      ]
    },
    {
      "cell_type": "code",
      "metadata": {
        "id": "d_Fv3Cq9wl6A",
        "outputId": "a82208e7-a004-4740-96bc-90681c171ec4",
        "colab": {
          "base_uri": "https://localhost:8080/",
          "height": 580,
          "referenced_widgets": [
            "450fddd7e994447492b24d6cfd018b77",
            "8b0317c0b1724099a0d094e9e478c824",
            "5cf11abf94864f5286971157ac5aac72",
            "05c8035bd02b4a34835e4d873467910e",
            "e276324ab5b14b29b352a07b90220c5a",
            "2372f2f05d0c42358d01a5056ed75ee3"
          ]
        }
      },
      "source": [
        "# @title Video 3: GAN generator Learning Idea\n",
        "from ipywidgets import widgets\n",
        "\n",
        "out2 = widgets.Output()\n",
        "with out2:\n",
        "  from IPython.display import IFrame\n",
        "  class BiliVideo(IFrame):\n",
        "    def __init__(self, id, page=1, width=400, height=300, **kwargs):\n",
        "      self.id=id\n",
        "      src = \"https://player.bilibili.com/player.html?bvid={0}&page={1}\".format(id, page)\n",
        "      super(BiliVideo, self).__init__(src, width, height, **kwargs)\n",
        "\n",
        "  video = BiliVideo(id=f\"BV1Fq4y1s7pf\", width=854, height=480, fs=1)\n",
        "  print(\"Video available at https://www.bilibili.com/video/{0}\".format(video.id))\n",
        "  display(video)\n",
        "\n",
        "out1 = widgets.Output()\n",
        "with out1:\n",
        "  from IPython.display import YouTubeVideo\n",
        "  video = YouTubeVideo(id=f\"bTJfZro6A9Q\", width=854, height=480, fs=1, rel=0)\n",
        "  print(\"Video available at https://youtube.com/watch?v=\" + video.id)\n",
        "  display(video)\n",
        "\n",
        "out = widgets.Tab([out1, out2])\n",
        "out.set_title(0, 'Youtube')\n",
        "out.set_title(1, 'Bilibili')\n",
        "\n",
        "# add event to airtable\n",
        "atform.add_event('Video 2: Principles of GANs')\n",
        "\n",
        "display(out)"
      ],
      "execution_count": 19,
      "outputs": [
        {
          "output_type": "display_data",
          "data": {
            "application/vnd.jupyter.widget-view+json": {
              "model_id": "450fddd7e994447492b24d6cfd018b77",
              "version_minor": 0,
              "version_major": 2
            },
            "text/plain": [
              "Tab(children=(Output(), Output()), _titles={'0': 'Youtube', '1': 'Bilibili'})"
            ]
          },
          "metadata": {
            "tags": []
          }
        }
      ]
    },
    {
      "cell_type": "code",
      "metadata": {
        "cellView": "form",
        "execution": {},
        "id": "MuvC2IU1hjhF",
        "outputId": "ae849a2b-7d59-4ca0-bb08-8d413dc4f96d",
        "colab": {
          "base_uri": "https://localhost:8080/",
          "height": 621
        }
      },
      "source": [
        "# @title GAN training demo\n",
        "# @markdown Make sure you execute this cell to enable the widget!\n",
        "\n",
        "from IPython.display import IFrame\n",
        "IFrame(src='https://xukai92.github.io/gan_demo/index.html', width=900, height=600)"
      ],
      "execution_count": 20,
      "outputs": [
        {
          "output_type": "execute_result",
          "data": {
            "text/html": [
              "\n",
              "        <iframe\n",
              "            width=\"900\"\n",
              "            height=\"600\"\n",
              "            src=\"https://xukai92.github.io/gan_demo/index.html\"\n",
              "            frameborder=\"0\"\n",
              "            allowfullscreen\n",
              "        ></iframe>\n",
              "        "
            ],
            "text/plain": [
              "<IPython.lib.display.IFrame at 0x7f44b3b991d0>"
            ]
          },
          "metadata": {
            "tags": []
          },
          "execution_count": 20
        }
      ]
    },
    {
      "cell_type": "markdown",
      "metadata": {
        "execution": {},
        "id": "zFgJ72uPhjhG"
      },
      "source": [
        "## Think! 2: What makes GANs hard to train?\n",
        "\n",
        "You have played with the demo and it's time to think about a few questions\n",
        "\n",
        "1. Which target is more stable to train, 1D or 2D?\n",
        "2. If you keep increasing the learning rate, what happens? Does it happen in both the cases, i.e., 1D/2D targets?\n",
        "3. Can you think of some drawbacks of using small learning rates?"
      ]
    },
    {
      "cell_type": "code",
      "metadata": {
        "cellView": "form",
        "execution": {},
        "id": "mx0hcV0rhjhG",
        "outputId": "57661d4e-0e36-4da6-d28e-7efb1036ac52",
        "colab": {
          "base_uri": "https://localhost:8080/",
          "height": 93,
          "referenced_widgets": [
            "2a7cacd3b1a24a7e8985eb9b20be4ad0",
            "17a96390984d4a97b562bea22a37df96",
            "97478f2c66394da39c9f8d9aeec61354",
            "3f15e30f28354bfdb9c2d2b7f068d4a6",
            "2516f1fa11c743b090eeb6a159919317",
            "2afa2e8cff794f5ba796a80e9a46ee72"
          ]
        }
      },
      "source": [
        "# @title Student Response\n",
        "from ipywidgets import widgets\n",
        "\n",
        "\n",
        "text=widgets.Textarea(\n",
        "   value='Type your answer here and click on `Submit!`',\n",
        "   placeholder='Type something',\n",
        "   description='',\n",
        "   disabled=False\n",
        ")\n",
        "\n",
        "button = widgets.Button(description=\"Submit!\")\n",
        "\n",
        "display(text,button)\n",
        "\n",
        "def on_button_clicked(b):\n",
        "   atform.add_answer('q1', text.value)\n",
        "   print(\"Submission successful!\")\n",
        "\n",
        "\n",
        "button.on_click(on_button_clicked)"
      ],
      "execution_count": 21,
      "outputs": [
        {
          "output_type": "display_data",
          "data": {
            "application/vnd.jupyter.widget-view+json": {
              "model_id": "2a7cacd3b1a24a7e8985eb9b20be4ad0",
              "version_minor": 0,
              "version_major": 2
            },
            "text/plain": [
              "Textarea(value='Type your answer here and click on `Submit!`', placeholder='Type something')"
            ]
          },
          "metadata": {
            "tags": []
          }
        },
        {
          "output_type": "display_data",
          "data": {
            "application/vnd.jupyter.widget-view+json": {
              "model_id": "3f15e30f28354bfdb9c2d2b7f068d4a6",
              "version_minor": 0,
              "version_major": 2
            },
            "text/plain": [
              "Button(description='Submit!', style=ButtonStyle())"
            ]
          },
          "metadata": {
            "tags": []
          }
        }
      ]
    },
    {
      "cell_type": "code",
      "metadata": {
        "execution": {},
        "id": "TZRRLMvthjhG",
        "outputId": "b6eac78c-4eb6-43ec-f3ea-728d8265b20f",
        "colab": {
          "base_uri": "https://localhost:8080/",
          "height": 69
        }
      },
      "source": [
        "# to_remove explanation\n",
        "\n",
        "\"\"\"\n",
        "  1. 2D as it is simply a more difficult distribution to model compared to the\n",
        "     unimodal 1D example.\n",
        "    2. The training becomes unstable and eventually diverges. Yes.\n",
        "  3. Training is too slow and takes longer to convege.\n",
        "\n",
        "In general, when training a GAN we need to ensure a certain balance between\n",
        "the critic and generator training. As such, tuninig the learning rate\n",
        "is crucial for succesfully training GANs.\n",
        "\"\"\""
      ],
      "execution_count": 22,
      "outputs": [
        {
          "output_type": "execute_result",
          "data": {
            "application/vnd.google.colaboratory.intrinsic+json": {
              "type": "string"
            },
            "text/plain": [
              "'\\n  1. 2D as it is simply a more difficult distribution to model compared to the\\n     unimodal 1D example.\\n    2. The training becomes unstable and eventually diverges. Yes.\\n  3. Training is too slow and takes longer to convege.\\n\\nIn general, when training a GAN we need to ensure a certain balance between\\nthe critic and generator training. As such, tuninig the learning rate\\nis crucial for succesfully training GANs.\\n'"
            ]
          },
          "metadata": {
            "tags": []
          },
          "execution_count": 22
        }
      ]
    },
    {
      "cell_type": "code",
      "metadata": {
        "id": "rIsoYbyhxmuf"
      },
      "source": [
        ""
      ],
      "execution_count": 22,
      "outputs": []
    },
    {
      "cell_type": "markdown",
      "metadata": {
        "execution": {},
        "id": "Ju4CCBSwhjhJ"
      },
      "source": [
        "---\n",
        "# Section 4: GAN training in action!\n",
        "\n",
        "*Time estimate: ~4mins*"
      ]
    },
    {
      "cell_type": "markdown",
      "metadata": {
        "execution": {},
        "id": "EQzC9PqHhjhJ"
      },
      "source": [
        "In this section we will be playing with a complete implementation of GAN."
      ]
    },
    {
      "cell_type": "markdown",
      "metadata": {
        "execution": {},
        "id": "0_q9LLmPhjhJ"
      },
      "source": [
        "## Interactive Demo 4: GAN training in action\n"
      ]
    },
    {
      "cell_type": "code",
      "metadata": {
        "execution": {},
        "id": "LrnNMhWXhjhK",
        "outputId": "c5571b81-c21a-40db-a40f-a8195bbffeec",
        "colab": {
          "base_uri": "https://localhost:8080/",
          "height": 705
        }
      },
      "source": [
        "# @title GanLab\n",
        "from IPython.display import HTML\n",
        "HTML('<iframe width=\"1500\" height=\"660\" src=\"https://poloclub.github.io/ganlab/\" allowfullscreen></iframe>')"
      ],
      "execution_count": 23,
      "outputs": [
        {
          "output_type": "execute_result",
          "data": {
            "text/html": [
              "<iframe width=\"1500\" height=\"660\" src=\"https://poloclub.github.io/ganlab/\" allowfullscreen></iframe>"
            ],
            "text/plain": [
              "<IPython.core.display.HTML object>"
            ]
          },
          "metadata": {
            "tags": []
          },
          "execution_count": 23
        }
      ]
    },
    {
      "cell_type": "markdown",
      "metadata": {
        "execution": {},
        "id": "JyEd-vKqhjhK"
      },
      "source": [
        "---\n",
        "# Summary\n",
        "\n",
        "Through this tutorial, we have learned\n",
        "\n",
        "- How to implement the training loop of GANs.\n",
        "- Developed an intuition about the training dynamics of GANs.\n",
        "- How to implement the training objectives for the generator and discriminator of GANs.\n",
        "- How are GANs connected to density ratio estimation.\n",
        "\n",
        "Next tutorial will cover conditional GANs and ethical issues of DL."
      ]
    },
    {
      "cell_type": "code",
      "metadata": {
        "cellView": "form",
        "execution": {},
        "id": "Jee7D9DIhjhK",
        "outputId": "fa344bb4-0f6a-477d-cdfc-04d49ab22764",
        "colab": {
          "base_uri": "https://localhost:8080/",
          "height": 158
        }
      },
      "source": [
        "# @title Airtable Submission Link\n",
        "from IPython import display as IPydisplay\n",
        "IPydisplay.HTML(\n",
        "   f\"\"\"\n",
        " <div>\n",
        "   <a href= \"{atform.url()}\" target=\"_blank\">\n",
        "   <img src=\"https://github.com/NeuromatchAcademy/course-content-dl/blob/main/tutorials/static/AirtableSubmissionButton.png?raw=1\"\n",
        " alt=\"button link to Airtable\" style=\"width:410px\"></a>\n",
        "   </div>\"\"\" )"
      ],
      "execution_count": 24,
      "outputs": [
        {
          "output_type": "execute_result",
          "data": {
            "text/html": [
              "\n",
              " <div>\n",
              "   <a href= \"https://portal.neuromatchacademy.org/api/redirect/to/9c55f6cb-cdf9-4429-ac1c-ec44fe64c303?data=eyJmb3JtX2lkIjogImFwcG43VmRQUnNlU29NWEVHIiwgInRhYmxlX25hbWUiOiAiVzJENV9UMiIsICJhbnN3ZXJzIjoge30sICJldmVudHMiOiBbeyJldmVudCI6ICJpbml0IiwgInRzIjogMTYyODc3OTU3NC44NzczMTR9LCB7ImV2ZW50IjogIlZpZGVvIDE6IEdlbmVyYXRpdmUgQWR2ZXJzYXJpYWwgTmV0d29ya3MiLCAidHMiOiAxNjI4Nzc5NTc5LjQzNjIxMzN9LCB7ImV2ZW50IjogIkNvZGluZyBFeGVyY2lzZSAxOiBUaGUgR0FOIHRyYWluaW5nIGxvb3AiLCAidHMiOiAxNjI4Nzc5NTc5LjUwNTkyMX0sIHsiZXZlbnQiOiAiQ29kaW5nIEV4ZXJjaXNlIDE6IFRoZSBHQU4gdHJhaW5pbmcgbG9vcCIsICJ0cyI6IDE2Mjg3Nzk1NzkuNTM1NTQ2fSwgeyJldmVudCI6ICJWaWRlbyAyOiBQcmluY2lwbGVzIG9mIEdBTnMiLCAidHMiOiAxNjI4Nzc5NTc5LjczMDc2OTR9LCB7ImV2ZW50IjogIkNvZGluZyBFeGVyY2lzZSAzLjE6IEltcGxlbWVudCBEaXNjcmltaW5hdG9yIExvc3MiLCAidHMiOiAxNjI4Nzc5NTc5Ljc4MTI0ODh9LCB7ImV2ZW50IjogIkNvZGluZyBFeGVyY2lzZSAzLjE6IEltcGxlbWVudCBEaXNjcmltaW5hdG9yIExvc3MiLCAidHMiOiAxNjI4Nzc5NTc5LjkxMzM5NX0sIHsiZXZlbnQiOiAiQ29kaW5nIEV4ZXJjaXNlIDMuMzogVGhlIGdlbmVyYXRvciBsb3NzIiwgInRzIjogMTYyODc3OTU4MC43MTQ0Mzk0fSwgeyJldmVudCI6ICJDb2RpbmcgRXhlcmNpc2UgMy4zOiBUaGUgZ2VuZXJhdG9yIGxvc3MiLCAidHMiOiAxNjI4Nzc5NTgwLjc2ODIzNjZ9LCB7ImV2ZW50IjogIlZpZGVvIDI6IFByaW5jaXBsZXMgb2YgR0FOcyIsICJ0cyI6IDE2Mjg3Nzk1ODEuNTg5MDU4Nn0sIHsiZXZlbnQiOiAidXJsIGdlbmVyYXRlZCIsICJ0cyI6IDE2Mjg3Nzk1ODEuNzMwNjg1N31dfQ%3D%3D\" target=\"_blank\">\n",
              "   <img src=\"https://github.com/NeuromatchAcademy/course-content-dl/blob/main/tutorials/static/AirtableSubmissionButton.png?raw=1\"\n",
              " alt=\"button link to Airtable\" style=\"width:410px\"></a>\n",
              "   </div>"
            ],
            "text/plain": [
              "<IPython.core.display.HTML object>"
            ]
          },
          "metadata": {
            "tags": []
          },
          "execution_count": 24
        }
      ]
    }
  ]
}