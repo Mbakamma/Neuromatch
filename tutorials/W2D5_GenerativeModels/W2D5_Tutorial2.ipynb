{
  "cells": [
    {
      "cell_type": "markdown",
      "metadata": {
        "id": "view-in-github",
        "colab_type": "text"
      },
      "source": [
        "<a href=\"https://colab.research.google.com/github/NeuromatchAcademy/course-content-dl/blob/w2d5_fixes/tutorials/W2D5_GenerativeModels/W2D5_Tutorial2.ipynb\" target=\"_parent\"><img src=\"https://colab.research.google.com/assets/colab-badge.svg\" alt=\"Open In Colab\"/></a>"
      ]
    },
    {
      "cell_type": "markdown",
      "metadata": {
        "execution": {},
        "id": "LEp7AylmcrFZ"
      },
      "source": [
        "# Tutorial 2: Introduction to GANs\n",
        "\n",
        "**Week 2, Day 5: Generative Models**\n",
        "\n",
        "**By Neuromatch Academy**\n",
        "\n",
        "__Content creators:__ Kai Xu, Seungwook Han, Akash Srivastava\n",
        "\n",
        "__Content reviewers:__ Polina Turishcheva, Melvin Selim Atay, Hadi Vafaei, Deepak Raya, Charles J Edelson, Kelson Shilling-Scrivo\n",
        "\n",
        "__Content editors:__ Charles J Edelson, Kelson Shilling-Scrivo, Spiros Chavlis\n",
        "\n",
        "__Production editors:__ Arush Tagade, Spiros Chavlis\n",
        "\n",
        "__Post-Production team:__ Gagana B, Spiros Chavlis"
      ]
    },
    {
      "cell_type": "markdown",
      "metadata": {
        "execution": {},
        "id": "oX0rsK00crFe"
      },
      "source": [
        "**Our 2021 Sponsors, including Presenting Sponsor Facebook Reality Labs**\n",
        "\n",
        "<p align='center'><img src='https://github.com/NeuromatchAcademy/widgets/blob/master/sponsors.png?raw=True'/></p>"
      ]
    },
    {
      "cell_type": "markdown",
      "metadata": {
        "execution": {},
        "id": "elIt0sj2crFg"
      },
      "source": [
        "---\n",
        "\n",
        "## Tutorial Objectives\n",
        "\n",
        "The goal of this tutorial is two-fold; first you will be introduced to GANs training, and you will be able to understand how GANs are connected to other generative models that we have been before. \n",
        "\n",
        "By the end of the first part of this tutorial you will be able to:\n",
        "- Understand, at a high level, how GANs are implemented.\n",
        "- Understand the training dynamics of GANs. \n",
        "- Know about a few failure modes of GAN training.\n",
        "- Understand density ratio estimation using a binary classifier\n",
        "- Understand the connection between GANs and other generative models.\n",
        "- Implement a GAN."
      ]
    },
    {
      "cell_type": "code",
      "execution_count": 1,
      "metadata": {
        "cellView": "form",
        "execution": {},
        "id": "h7HwJl6vcrFh",
        "outputId": "40f8cb29-26ac-410b-dd4f-88f56c97d4e1",
        "colab": {
          "base_uri": "https://localhost:8080/",
          "height": 501
        }
      },
      "outputs": [
        {
          "output_type": "execute_result",
          "data": {
            "text/html": [
              "\n",
              "        <iframe\n",
              "            width=\"854\"\n",
              "            height=\"480\"\n",
              "            src=\"https://mfr.ca-1.osf.io/render?url=https://osf.io/dftym/?direct%26mode=render%26action=download%26mode=render\"\n",
              "            frameborder=\"0\"\n",
              "            allowfullscreen\n",
              "        ></iframe>\n",
              "        "
            ],
            "text/plain": [
              "<IPython.lib.display.IFrame at 0x7fe9f48e6a90>"
            ]
          },
          "metadata": {},
          "execution_count": 1
        }
      ],
      "source": [
        "# @title Tutorial slides\n",
        "\n",
        "from IPython.display import IFrame\n",
        "IFrame(src=f\"https://mfr.ca-1.osf.io/render?url=https://osf.io/dftym/?direct%26mode=render%26action=download%26mode=render\", width=854, height=480)"
      ]
    },
    {
      "cell_type": "markdown",
      "metadata": {
        "execution": {},
        "id": "h4YwDgtMcrFj"
      },
      "source": [
        "These are the slides for the videos in this tutorial. If you want to locally download the slides, click [here](https://osf.io/dftym/download)."
      ]
    },
    {
      "cell_type": "markdown",
      "metadata": {
        "execution": {},
        "id": "XPY7qSSDcrFk"
      },
      "source": [
        "---\n",
        "# Setup"
      ]
    },
    {
      "cell_type": "code",
      "execution_count": 2,
      "metadata": {
        "execution": {},
        "id": "eEpZQ5gKcrFl",
        "cellView": "form",
        "outputId": "a398b346-9cf0-4982-fcea-079fd0efe62b",
        "colab": {
          "base_uri": "https://localhost:8080/"
        }
      },
      "outputs": [
        {
          "output_type": "stream",
          "name": "stdout",
          "text": [
            "  Building wheel for evaltools (setup.py) ... \u001b[?25l\u001b[?25hdone\n"
          ]
        }
      ],
      "source": [
        "# @title Install dependencies\n",
        "!pip install git+https://github.com/NeuromatchAcademy/evaltools --quiet\n",
        "from evaltools.airtable import AirtableForm\n",
        "\n",
        "# Generate airtable form\n",
        "atform = AirtableForm('appn7VdPRseSoMXEG','W2D5_T2','https://portal.neuromatchacademy.org/api/redirect/to/9c55f6cb-cdf9-4429-ac1c-ec44fe64c303')"
      ]
    },
    {
      "cell_type": "code",
      "execution_count": 3,
      "metadata": {
        "execution": {},
        "id": "4nqd6rQAcrFm"
      },
      "outputs": [],
      "source": [
        "# Imports\n",
        "import torch\n",
        "import numpy as np\n",
        "import matplotlib.pyplot as plt"
      ]
    },
    {
      "cell_type": "code",
      "execution_count": 4,
      "metadata": {
        "execution": {},
        "id": "QDVyiX0GcrFo",
        "cellView": "form"
      },
      "outputs": [],
      "source": [
        "# @title Figure settings\n",
        "import ipywidgets as widgets       # Interactive display\n",
        "%config InlineBackend.figure_format = 'retina'\n",
        "plt.style.use(\"https://raw.githubusercontent.com/NeuromatchAcademy/content-creation/main/nma.mplstyle\")\n",
        "plt.rc('axes', unicode_minus=False)"
      ]
    },
    {
      "cell_type": "code",
      "execution_count": 5,
      "metadata": {
        "execution": {},
        "id": "zj34dEhscrFp",
        "cellView": "form"
      },
      "outputs": [],
      "source": [
        "# @title Plotting functions\n",
        "\n",
        "ld_true = [-7.0066e-01, -2.6368e-01, -2.4250e+00, -2.0247e+00, -1.1795e+00,\n",
        "        -4.5558e-01, -7.1316e-01, -1.0932e-01, -7.8608e-01, -4.5838e-01,\n",
        "        -1.0530e+00, -9.1201e-01, -3.8020e+00, -1.7787e+00, -1.2246e+00,\n",
        "        -6.5677e-01, -3.6001e-01, -2.2313e-01, -1.8262e+00, -1.2649e+00,\n",
        "        -3.8330e-01, -8.8619e-02, -9.2357e-01, -1.3450e-01, -8.6891e-01,\n",
        "        -5.9257e-01, -4.8415e-02, -3.3197e+00, -1.6862e+00, -9.8506e-01,\n",
        "        -1.1871e+00, -7.0422e-02, -1.7378e+00, -1.3099e+00, -1.8926e+00,\n",
        "        -3.4508e+00, -1.5696e+00, -7.2787e-02, -3.2420e-01, -2.9795e-01,\n",
        "        -6.4189e-01, -1.4120e+00, -5.3684e-01, -3.4066e+00, -1.9753e+00,\n",
        "        -1.4178e+00, -2.0399e-01, -2.3173e-01, -1.2792e+00, -7.2990e-01,\n",
        "        -1.9872e-01, -2.9378e-03, -3.5890e-01, -5.6643e-01, -1.8003e-01,\n",
        "        -1.5818e+00, -5.2227e-01, -2.1862e+00, -1.8743e+00, -1.4200e+00,\n",
        "        -3.1988e-01, -3.5513e-01, -1.5905e+00, -4.2916e-01, -2.5556e-01,\n",
        "        -8.2807e-01, -6.5568e-01, -4.8475e-01, -2.1049e-01, -2.0104e-02,\n",
        "        -2.1655e+00, -1.1496e+00, -3.6168e-01, -8.9624e-02, -6.7098e-02,\n",
        "        -6.0623e-02, -5.1165e-01, -2.7302e+00, -6.0514e-01, -1.6756e+00,\n",
        "        -3.3807e+00, -5.7368e-02, -1.2763e-01, -6.6959e+00, -5.2157e-01,\n",
        "        -8.7762e-01, -8.7295e-01, -1.3052e+00, -3.6777e-01, -1.5904e+00,\n",
        "        -3.8083e-01, -2.8388e-01, -1.5323e-01, -3.7549e-01, -5.2722e+00,\n",
        "        -1.7393e+00, -2.8814e-01, -5.0310e-01, -2.2077e+00, -1.5507e+00,\n",
        "        -6.8569e-01, -1.4620e+00, -9.2639e-02, -1.4160e-01, -3.6734e-01,\n",
        "        -1.0053e+00, -6.7353e-01, -2.2676e+00, -6.0812e-01, -1.0005e+00,\n",
        "        -4.2908e-01, -5.1369e-01, -2.2579e-02, -1.8496e-01, -3.4798e-01,\n",
        "        -7.3089e-01, -1.1962e+00, -1.6095e+00, -1.7558e-01, -3.3166e-01,\n",
        "        -1.1445e+00, -2.4674e+00, -5.0600e-01, -2.0727e+00, -5.4371e-01,\n",
        "        -8.0499e-01, -3.0521e+00, -3.6835e-02, -2.0485e-01, -4.6747e-01,\n",
        "        -3.6399e-01, -2.6883e+00, -1.9348e-01, -3.1448e-01, -1.6332e-01,\n",
        "        -3.2233e-02, -2.3336e-01, -2.6564e+00, -1.2841e+00, -1.3561e+00,\n",
        "        -7.4717e-01, -2.7926e-01, -8.7849e-01, -3.3715e-02, -1.4933e-01,\n",
        "        -2.7738e-01, -1.6899e+00, -1.5758e+00, -3.2608e-01, -6.5770e-01,\n",
        "        -1.7136e+00, -5.8316e+00, -1.1988e+00, -8.3828e-01, -1.8033e+00,\n",
        "        -2.3017e-01, -8.9936e-01, -1.1917e-01, -1.6659e-01, -2.7669e-01,\n",
        "        -1.2955e+00, -1.2076e+00, -2.2793e-01, -1.0528e+00, -1.4894e+00,\n",
        "        -5.7428e-01, -7.3208e-01, -9.5673e-01, -1.6617e+00, -3.9169e+00,\n",
        "        -1.2182e-01, -3.8092e-01, -1.1924e+00, -2.4566e+00, -2.7350e+00,\n",
        "        -2.8332e+00, -9.1506e-01, -6.7432e-02, -7.8965e-01, -2.0727e-01,\n",
        "        -3.4615e-02, -2.8868e+00, -2.1218e+00, -1.2368e-03, -9.0038e-01,\n",
        "        -5.3746e-01, -5.4080e-01, -3.1625e-01, -1.1786e+00, -2.2797e-01,\n",
        "        -1.1498e+00, -1.3978e+00, -1.9515e+00, -1.1614e+00, -5.1456e-03,\n",
        "        -1.9316e-01, -1.3849e+00, -9.2799e-01, -1.1649e-01, -2.3837e-01]\n",
        "\n",
        "\n",
        "def plotting_ld(ld, true=ld_true):\n",
        "  \"\"\"\n",
        "  Helper function to plot discriminator loss from user \n",
        "  implementation and oracle implementation\n",
        "\n",
        "  Args:\n",
        "    ld: list\n",
        "      Log of loss from user implementation\n",
        "    true: list\n",
        "      Log of loss from oracle implementation\n",
        "\n",
        "  Returns: \n",
        "    Nothing\n",
        "  \"\"\"\n",
        "  fig, ax = plt.subplots(figsize=(7, 7))\n",
        "  ax.plot([-6, 1], [-6, 1], label=\"Ground Truth\")\n",
        "  ax.scatter(true, ld, marker=\"x\",\n",
        "             label=\"Your implementation\")\n",
        "  ax.set_xlabel(\"Loss from oracle implementation\")\n",
        "  ax.set_ylabel(\"Loss from your implementation\")\n",
        "  ax.legend()\n",
        "  ax.set_title(\"Discriminator Loss\")\n",
        "\n",
        "\n",
        "lg_true = [-7.0066e-01, -2.6368e-01, -2.4250e+00, -2.0247e+00, -1.1795e+00,\n",
        "        -4.5558e-01, -7.1316e-01, -1.0932e-01, -7.8608e-01, -4.5838e-01,\n",
        "        -1.0530e+00, -9.1201e-01, -3.8020e+00, -1.7787e+00, -1.2246e+00,\n",
        "        -6.5677e-01, -3.6001e-01, -2.2313e-01, -1.8262e+00, -1.2649e+00,\n",
        "        -3.8330e-01, -8.8619e-02, -9.2357e-01, -1.3450e-01, -8.6891e-01,\n",
        "        -5.9257e-01, -4.8415e-02, -3.3197e+00, -1.6862e+00, -9.8506e-01,\n",
        "        -1.1871e+00, -7.0422e-02, -1.7378e+00, -1.3099e+00, -1.8926e+00,\n",
        "        -3.4508e+00, -1.5696e+00, -7.2787e-02, -3.2420e-01, -2.9795e-01,\n",
        "        -6.4189e-01, -1.4120e+00, -5.3684e-01, -3.4066e+00, -1.9753e+00,\n",
        "        -1.4178e+00, -2.0399e-01, -2.3173e-01, -1.2792e+00, -7.2990e-01,\n",
        "        -1.9872e-01, -2.9378e-03, -3.5890e-01, -5.6643e-01, -1.8003e-01,\n",
        "        -1.5818e+00, -5.2227e-01, -2.1862e+00, -1.8743e+00, -1.4200e+00,\n",
        "        -3.1988e-01, -3.5513e-01, -1.5905e+00, -4.2916e-01, -2.5556e-01,\n",
        "        -8.2807e-01, -6.5568e-01, -4.8475e-01, -2.1049e-01, -2.0104e-02,\n",
        "        -2.1655e+00, -1.1496e+00, -3.6168e-01, -8.9624e-02, -6.7098e-02,\n",
        "        -6.0623e-02, -5.1165e-01, -2.7302e+00, -6.0514e-01, -1.6756e+00,\n",
        "        -3.3807e+00, -5.7368e-02, -1.2763e-01, -6.6959e+00, -5.2157e-01,\n",
        "        -8.7762e-01, -8.7295e-01, -1.3052e+00, -3.6777e-01, -1.5904e+00,\n",
        "        -3.8083e-01, -2.8388e-01, -1.5323e-01, -3.7549e-01, -5.2722e+00,\n",
        "        -1.7393e+00, -2.8814e-01, -5.0310e-01, -2.2077e+00, -1.5507e+00]\n",
        "\n",
        "\n",
        "def plotting_lg(lg, true=lg_true):\n",
        "  \"\"\"\n",
        "  Helper function to plot generator loss from user \n",
        "  implementation and oracle implementation\n",
        "\n",
        "  Args:\n",
        "    ld: list\n",
        "      Log of loss from user implementation\n",
        "    true: list\n",
        "      Log of loss from oracle implementation\n",
        "\n",
        "  Returns: \n",
        "    Nothing\n",
        "  \"\"\"\n",
        "  fig, ax = plt.subplots(figsize=(7, 7))\n",
        "  ax.plot([-6, 1], [-6, 1], label=\"Ground Truth\")\n",
        "  ax.scatter(true, lg, marker=\"x\",\n",
        "             label=\"Your implementation\")\n",
        "  ax.set_xlabel(\"Loss from oracle implementation\")\n",
        "  ax.set_ylabel(\"Loss from your implementation\")\n",
        "  ax.legend()\n",
        "  ax.set_title(\"Generator loss\")"
      ]
    },
    {
      "cell_type": "code",
      "execution_count": 6,
      "metadata": {
        "execution": {},
        "id": "egfavCqHcrFr",
        "cellView": "form"
      },
      "outputs": [],
      "source": [
        "# @title Set random seed\n",
        "\n",
        "# @markdown Executing `set_seed(seed=seed)` you are setting the seed\n",
        "\n",
        "# For DL its critical to set the random seed so that students can have a\n",
        "# baseline to compare their results to expected results.\n",
        "# Read more here: https://pytorch.org/docs/stable/notes/randomness.html\n",
        "\n",
        "# Call `set_seed` function in the exercises to ensure reproducibility.\n",
        "import random\n",
        "import torch\n",
        "\n",
        "def set_seed(seed=None, seed_torch=True):\n",
        "  \"\"\"\n",
        "  Function that controls randomness. NumPy and random modules must be imported.\n",
        "\n",
        "  Args:\n",
        "    seed : Integer\n",
        "      A non-negative integer that defines the random state. Default is `None`.\n",
        "    seed_torch : Boolean\n",
        "      If `True` sets the random seed for pytorch tensors, so pytorch module\n",
        "      must be imported. Default is `True`.\n",
        "\n",
        "  Returns:\n",
        "    Nothing.\n",
        "  \"\"\"\n",
        "  if seed is None:\n",
        "    seed = np.random.choice(2 ** 32)\n",
        "  random.seed(seed)\n",
        "  np.random.seed(seed)\n",
        "  if seed_torch:\n",
        "    torch.manual_seed(seed)\n",
        "    torch.cuda.manual_seed_all(seed)\n",
        "    torch.cuda.manual_seed(seed)\n",
        "    torch.backends.cudnn.benchmark = False\n",
        "    torch.backends.cudnn.deterministic = True\n",
        "\n",
        "  print(f'Random seed {seed} has been set.')\n",
        "\n",
        "\n",
        "# In case that `DataLoader` is used\n",
        "def seed_worker(worker_id):\n",
        "  \"\"\"\n",
        "  DataLoader will reseed workers following randomness in\n",
        "  multi-process data loading algorithm.\n",
        "\n",
        "  Args:\n",
        "    worker_id: integer\n",
        "      ID of subprocess to seed. 0 means that\n",
        "      the data will be loaded in the main process\n",
        "      Refer: https://pytorch.org/docs/stable/data.html#data-loading-randomness for more details\n",
        "\n",
        "  Returns:\n",
        "    Nothing\n",
        "  \"\"\"\n",
        "  worker_seed = torch.initial_seed() % 2**32\n",
        "  np.random.seed(worker_seed)\n",
        "  random.seed(worker_seed)"
      ]
    },
    {
      "cell_type": "code",
      "execution_count": 7,
      "metadata": {
        "execution": {},
        "id": "maK84_8OcrFs",
        "cellView": "form"
      },
      "outputs": [],
      "source": [
        "# @title Set device (GPU or CPU). Execute `set_device()`\n",
        "# especially if torch modules used.\n",
        "\n",
        "# Inform the user if the notebook uses GPU or CPU.\n",
        "\n",
        "def set_device():\n",
        "  \"\"\"\n",
        "  Set the device. CUDA if available, CPU otherwise\n",
        "\n",
        "  Args:\n",
        "    None\n",
        "\n",
        "  Returns:\n",
        "    Nothing\n",
        "  \"\"\"\n",
        "  device = \"cuda\" if torch.cuda.is_available() else \"cpu\"\n",
        "  if device != \"cuda\":\n",
        "    print(\"WARNING: For this notebook to perform best, \"\n",
        "        \"if possible, in the menu under `Runtime` -> \"\n",
        "        \"`Change runtime type.`  select `GPU` \")\n",
        "  else:\n",
        "    print(\"GPU is enabled in this notebook.\")\n",
        "\n",
        "  return device"
      ]
    },
    {
      "cell_type": "code",
      "execution_count": 8,
      "metadata": {
        "execution": {},
        "id": "ismuzBQWcrFt",
        "outputId": "acf44c4a-62d5-47ad-d44e-a0bf6f321b15",
        "colab": {
          "base_uri": "https://localhost:8080/"
        }
      },
      "outputs": [
        {
          "output_type": "stream",
          "name": "stdout",
          "text": [
            "Random seed 2021 has been set.\n",
            "GPU is enabled in this notebook.\n"
          ]
        }
      ],
      "source": [
        "SEED = 2021\n",
        "set_seed(seed=SEED)\n",
        "DEVICE = set_device()"
      ]
    },
    {
      "cell_type": "markdown",
      "metadata": {
        "execution": {},
        "id": "Jk0mqQ5ecrFu"
      },
      "source": [
        "---\n",
        "# Section 1: How to train GANs\n",
        "\n",
        "*Time estimate: ~15mins*"
      ]
    },
    {
      "cell_type": "code",
      "execution_count": 9,
      "metadata": {
        "execution": {},
        "id": "zobKSYN0crFu",
        "cellView": "form",
        "outputId": "395a840e-7603-4f12-abd3-0534cd136474",
        "colab": {
          "base_uri": "https://localhost:8080/",
          "height": 580,
          "referenced_widgets": [
            "7ba3432a52aa477f860114e9ebefdce2",
            "b7704686180646248c4abc86a5b01700",
            "5c979f6a6a6b4af09dc81b1491c6cb01",
            "6d372785c9ca4b818cbcb7e5e7bcaae9",
            "961e9a5562174ff6b1d641582c834755",
            "2aed42aac758452ba35ae5de2e6c7a41"
          ]
        }
      },
      "outputs": [
        {
          "output_type": "display_data",
          "data": {
            "application/vnd.jupyter.widget-view+json": {
              "model_id": "7ba3432a52aa477f860114e9ebefdce2",
              "version_minor": 0,
              "version_major": 2
            },
            "text/plain": [
              "Tab(children=(Output(), Output()), _titles={'0': 'Youtube', '1': 'Bilibili'})"
            ]
          },
          "metadata": {}
        }
      ],
      "source": [
        "# @title Video 1: Generative Adversarial Networks\n",
        "from ipywidgets import widgets\n",
        "\n",
        "out2 = widgets.Output()\n",
        "with out2:\n",
        "  from IPython.display import IFrame\n",
        "  class BiliVideo(IFrame):\n",
        "    def __init__(self, id, page=1, width=400, height=300, **kwargs):\n",
        "      self.id=id\n",
        "      src = \"https://player.bilibili.com/player.html?bvid={0}&page={1}\".format(id, page)\n",
        "      super(BiliVideo, self).__init__(src, width, height, **kwargs)\n",
        "\n",
        "  video = BiliVideo(id=f\"BV1o64y1i7xA\", width=854, height=480, fs=1)\n",
        "  print(\"Video available at https://www.bilibili.com/video/{0}\".format(video.id))\n",
        "  display(video)\n",
        "\n",
        "out1 = widgets.Output()\n",
        "with out1:\n",
        "  from IPython.display import YouTubeVideo\n",
        "  video = YouTubeVideo(id=f\"FmUbll93kms\", width=854, height=480, fs=1, rel=0)\n",
        "  print(\"Video available at https://youtube.com/watch?v=\" + video.id)\n",
        "  display(video)\n",
        "\n",
        "out = widgets.Tab([out1, out2])\n",
        "out.set_title(0, 'Youtube')\n",
        "out.set_title(1, 'Bilibili')\n",
        "\n",
        "# Add event to airtable\n",
        "atform.add_event('Video 1: Generative Adversarial Networks')\n",
        "\n",
        "display(out)"
      ]
    },
    {
      "cell_type": "markdown",
      "metadata": {
        "execution": {},
        "id": "AjmfG0a1crFv"
      },
      "source": [
        "GANs consist two networks: A critic or discriminator (`disc`) and a generator (`gen`) that are trained by alternating between the following two steps:\n",
        "- In step 1, we update the parameters (`disc.params`) of the discriminator by backpropagating through the discriminator loss (BCE loss) `disc.loss`.\n",
        "- In step 2, we update the parameters (`gen.params`) of the generator by backpropagating through the generator loss, `gen.loss` (-1 * BCE loss).\n",
        "\n",
        "We will now implement a simple GAN training loop!"
      ]
    },
    {
      "cell_type": "markdown",
      "metadata": {
        "execution": {},
        "id": "7Kkkvw8pcrFw"
      },
      "source": [
        "## Coding Exercise 1: The GAN training loop\n",
        "\n",
        "To get you started we have implemented a simple GAN in pseudocode. All you have to do is to implement the training loop.\n",
        "\n",
        "__Your goal__ is to arrange the functions given below in the correct order in the `train_gan_iter` function\n",
        "- `disc.loss(x_real, x_fake)`: Discriminator loss\n",
        "- `disc.classify(x)`: Classify `x` as real or fake\n",
        "- `gen.loss(x_fake, disc_fn)`: Generator loss\n",
        "- `disc_fn(x)` is a function to check `x` is real or fake.\n",
        "- `gen.sample(num_samples)`: Generate samples from the generator\n",
        "- `backprop(loss, model)`: Compute gradient of `loss` wrt `model`\n",
        "- `model` is either `disc` or `gen`\n",
        "\n",
        "We have already taken care of most of these functions. So you only have to figure out the placement of `disc.loss` and `gen.loss` functions.\n",
        "\n",
        "__We highly recommend studying `train_gan_iter` function to understand how the GAN training loop is structured.__ "
      ]
    },
    {
      "cell_type": "code",
      "execution_count": 10,
      "metadata": {
        "execution": {},
        "id": "RLyJSC60crFy",
        "cellView": "form"
      },
      "outputs": [],
      "source": [
        "# @markdown *Execute this cell to enable helper functions*\n",
        "\n",
        "def get_data():\n",
        "  return \"get_data\"\n",
        "\n",
        "\n",
        "class Disc:\n",
        "  \"\"\"\n",
        "  Disciminator class\n",
        "  \"\"\"\n",
        "\n",
        "  def loss(self, x_real, x_fake):\n",
        "    assert x_real == \"get_data\" and x_fake == \"gen.sample\", \"Inputs to disc.loss is wrong\"\n",
        "\n",
        "  def classify(self, x):\n",
        "    return \"disc.classify\"\n",
        "\n",
        "\n",
        "class Gen:\n",
        "  \"\"\"\n",
        "  Generator class\n",
        "  \"\"\"\n",
        "\n",
        "  def loss(self, x_fake, disc_fn):\n",
        "    assert x_fake == \"gen.sample\" and disc_fn(None) == \"disc.classify\", \"Inputs to gen.loss is wrong\"\n",
        "\n",
        "  def sample(self, num_samples):\n",
        "    return \"gen.sample\"\n",
        "\n",
        "\n",
        "def backprop(loss, model):\n",
        "  pass\n",
        "\n",
        "\n",
        "def update(model, grad):\n",
        "  pass"
      ]
    },
    {
      "cell_type": "code",
      "execution_count": 11,
      "metadata": {
        "execution": {},
        "id": "8rkol7vjcrFz"
      },
      "outputs": [],
      "source": [
        "def train_gan_iter(data, disc, gen):\n",
        "  \"\"\"\n",
        "  Update the discriminator (`disc`) and the generator (`gen`) using `data`\n",
        "\n",
        "  Args:\n",
        "    data: ndarray\n",
        "      An array of shape (N,) that contains the data\n",
        "    disc: Disc\n",
        "      The discriminator\n",
        "    gen: Gen\n",
        "      The generator\n",
        "\n",
        "  Returns:\n",
        "    None\n",
        "  \"\"\"\n",
        "  #################################################\n",
        "  # Intructions for students:                     #\n",
        "  # Fill out ... in the function and remove below #\n",
        "  #################################################\n",
        "\n",
        "  # Number of samples in the data batch\n",
        "  num_samples = 200\n",
        "\n",
        "  # The data is the real samples\n",
        "  x_real = data\n",
        "\n",
        "  ## Discriminator training\n",
        "\n",
        "  # Ask the generator to generate some fake samples\n",
        "  x_fake = gen.sample(num_samples)\n",
        "\n",
        "  #################################################\n",
        "  ## TODO for students: details of what they should do ##\n",
        "  # Fill out function and remove\n",
        "  raise NotImplementedError(\"Student exercise: Write code to compute disc_loss\")\n",
        "  #################################################\n",
        "  # Compute the discriminator loss\n",
        "  disc_loss = ...\n",
        "\n",
        "  # Compute the gradient for discriminator\n",
        "  disc_grad = backprop(disc_loss, disc)\n",
        "\n",
        "  # Update the discriminator\n",
        "  update(disc, disc_grad)\n",
        "\n",
        "  ## Generator training\n",
        "\n",
        "  # Ask the generator to generate some fake samples\n",
        "  x_fake = gen.sample(num_samples)\n",
        "\n",
        "  #################################################\n",
        "  ## TODO for students: details of what they should do ##\n",
        "  # Fill out function and remove\n",
        "  raise NotImplementedError(\"Student exercise: Write code to compute gen_loss\")\n",
        "  #################################################\n",
        "  # Compute the generator loss\n",
        "  gen_loss = ...\n",
        "\n",
        "  # Compute the gradient for generator\n",
        "  gen_grad = backprop(gen_loss, gen)\n",
        "\n",
        "  # Update the generator\n",
        "  update(gen, gen_grad)\n",
        "\n",
        "  print(\"Your implementation passes the check!\")\n",
        "\n",
        "  return None\n",
        "\n",
        "\n",
        "# Add event to airtable\n",
        "atform.add_event('Coding Exercise 1: The GAN training loop')\n",
        "\n",
        "data = get_data()\n",
        "disc = Disc()\n",
        "gen = Gen()\n",
        "## Uncomment below to check your function\n",
        "# train_gan_iter(data, disc, gen)"
      ]
    },
    {
      "cell_type": "code",
      "execution_count": 12,
      "metadata": {
        "execution": {},
        "id": "oM9Ilm4YcrF1",
        "outputId": "70a9857c-7d7f-4286-8d23-202e8c272731",
        "colab": {
          "base_uri": "https://localhost:8080/"
        }
      },
      "outputs": [
        {
          "output_type": "stream",
          "name": "stdout",
          "text": [
            "Your implementation passes the check!\n"
          ]
        }
      ],
      "source": [
        "# to_remove solution\n",
        "def train_gan_iter(data, disc, gen):\n",
        "  \"\"\"\n",
        "  Update the discriminator (`disc`) and the generator (`gen`) using `data`\n",
        "\n",
        "  Args:\n",
        "    data: ndarray\n",
        "      An array of shape (N,) that contains the data\n",
        "    disc: Disc\n",
        "      The discriminator\n",
        "    gen: Gen\n",
        "      The generator\n",
        "\n",
        "  Returns:\n",
        "    None\n",
        "  \"\"\"\n",
        "\n",
        "  # Number of samples in the data batch\n",
        "  num_samples = 200\n",
        "\n",
        "  # The data is the real samples\n",
        "  x_real = data\n",
        "\n",
        "  ## Discriminator training\n",
        "\n",
        "  # Ask the generator to generate some fake samples\n",
        "  x_fake = gen.sample(num_samples)\n",
        "\n",
        "  # Compute the discriminator loss\n",
        "  disc_loss = disc.loss(x_real, x_fake)\n",
        "\n",
        "  # Compute the gradient for discriminator\n",
        "  disc_grad = backprop(disc_loss, disc)\n",
        "\n",
        "  # Update the discriminator\n",
        "  update(disc, disc_grad)\n",
        "\n",
        "  ## Generator training\n",
        "\n",
        "  # Ask the generator to generate some fake samples\n",
        "  x_fake = gen.sample(num_samples)\n",
        "\n",
        "  # Compute the generator loss\n",
        "  gen_loss = gen.loss(x_fake, disc.classify)\n",
        "\n",
        "  # Compute the gradient for generator\n",
        "  gen_grad = backprop(gen_loss, gen)\n",
        "\n",
        "  # Update the generator\n",
        "  update(gen, gen_grad)\n",
        "\n",
        "  print(\"Your implementation passes the check!\")\n",
        "\n",
        "  return None\n",
        "\n",
        "\n",
        "# Add event to airtable\n",
        "atform.add_event('Coding Exercise 1: The GAN training loop')\n",
        "\n",
        "data = get_data()\n",
        "disc = Disc()\n",
        "gen = Gen()\n",
        "## Uncomment below to check your function\n",
        "train_gan_iter(data, disc, gen)"
      ]
    },
    {
      "cell_type": "markdown",
      "metadata": {
        "execution": {},
        "id": "eHl5LunfcrF2"
      },
      "source": [
        "---\n",
        "# Section 2: GAN Training Objective\n",
        "\n",
        "*Time estimate: ~20mins*"
      ]
    },
    {
      "cell_type": "markdown",
      "metadata": {
        "execution": {},
        "id": "NorBKQTIcrF2"
      },
      "source": [
        "The training objective of GANs consists of the losses for generators and discriminators respectively. In this section we will be implementing these objectives."
      ]
    },
    {
      "cell_type": "code",
      "execution_count": 13,
      "metadata": {
        "execution": {},
        "id": "xErSsKVjcrF3",
        "cellView": "form",
        "outputId": "3c44207c-89ae-494e-875b-6ad19907e77e",
        "colab": {
          "base_uri": "https://localhost:8080/",
          "height": 580,
          "referenced_widgets": [
            "5c30544709b348e69491274e1d3f611d",
            "866af34813bc46f29e9c62d657d7e329",
            "9266f5dec56c413799b4d57885374228",
            "6aca1dc4e2f243b99377eca6f6657524",
            "9aa2815ed75c48d781acb0da55022170",
            "3572de8f61ed41009bf547753fafd630"
          ]
        }
      },
      "outputs": [
        {
          "output_type": "display_data",
          "data": {
            "application/vnd.jupyter.widget-view+json": {
              "model_id": "5c30544709b348e69491274e1d3f611d",
              "version_minor": 0,
              "version_major": 2
            },
            "text/plain": [
              "Tab(children=(Output(), Output()), _titles={'0': 'Youtube', '1': 'Bilibili'})"
            ]
          },
          "metadata": {}
        }
      ],
      "source": [
        "# @title Video 2: Principles of GANs\n",
        "from ipywidgets import widgets\n",
        "\n",
        "out2 = widgets.Output()\n",
        "with out2:\n",
        "  from IPython.display import IFrame\n",
        "  class BiliVideo(IFrame):\n",
        "    def __init__(self, id, page=1, width=400, height=300, **kwargs):\n",
        "      self.id=id\n",
        "      src = \"https://player.bilibili.com/player.html?bvid={0}&page={1}\".format(id, page)\n",
        "      super(BiliVideo, self).__init__(src, width, height, **kwargs)\n",
        "\n",
        "  video = BiliVideo(id=f\"BV1bo4y1U7YT\", width=854, height=480, fs=1)\n",
        "  print(\"Video available at https://www.bilibili.com/video/{0}\".format(video.id))\n",
        "  display(video)\n",
        "\n",
        "out1 = widgets.Output()\n",
        "with out1:\n",
        "  from IPython.display import YouTubeVideo\n",
        "  video = YouTubeVideo(id=f\"U_4z5-hX1Kg\", width=854, height=480, fs=1, rel=0)\n",
        "  print(\"Video available at https://youtube.com/watch?v=\" + video.id)\n",
        "  display(video)\n",
        "\n",
        "out = widgets.Tab([out1, out2])\n",
        "out.set_title(0, 'Youtube')\n",
        "out.set_title(1, 'Bilibili')\n",
        "\n",
        "# Add event to airtable\n",
        "atform.add_event('Video 2: Principles of GANs')\n",
        "\n",
        "display(out)"
      ]
    },
    {
      "cell_type": "markdown",
      "metadata": {
        "execution": {},
        "id": "TbYuXeTCcrF3"
      },
      "source": [
        "## Section 2.1:  Discriminator Loss\n",
        "\n",
        "The critic or the discriminator in a vanilla GAN is trained as a binary classifier using the BCE (Binary Cross Entropy) criteria. In this section, we will implement the training objective for the discriminator. \n",
        "\n",
        "\\begin{equation}\n",
        "\\text{BCE}_\\omega = \\mathbb{E}_{x \\sim p}[\\log(\\sigma(D_\\omega(x)))] + \\mathbb{E}_{x \\sim q}[\\log(1 - \\sigma(D_\\omega(x)))]\n",
        "\\end{equation}\n",
        "\n",
        "Here, $p$ is the data distribution and $q$ is the generator distribution. $D_\\omega$ is the logit, which represents $\\log \\frac{p}{q}$. $\\sigma$ is the sigmoid function and therfore, $\\sigma(D_\\omega)$ represents $\\frac{p}{p+q}$."
      ]
    },
    {
      "cell_type": "markdown",
      "metadata": {
        "execution": {},
        "id": "_NZW57pXcrF4"
      },
      "source": [
        "### Coding Exercise 2.1: Implement Discriminator Loss\n",
        "\n",
        "To get you started we have implemented a simple GAN in pseudocode and partially implemented the discriminator training objective.\n",
        "\n",
        "**Your goal** is to complete the missing part in the training objective of the discriminator in the function `loss_disc`.\n",
        "\n",
        "`loss_disc` also allows you evaluate the loss function on some random samples.\n",
        "If your implementation is correct, you will see a plot where the loss values from your implementation will match the ground truth loss values.\n",
        "\n",
        "In practice, given $N$ samples, we estimate BCE as\n",
        "\n",
        "\\begin{equation}\n",
        "\\text{BCE}_\\omega = -\\frac{1}{N} \\sum_{i=1}^N y_i \\log(\\sigma(D_\\omega(x_i)) + (1-y_i) \\log(1-\\sigma(D_\\omega(x_i))).\n",
        "\\end{equation}\n",
        "\n",
        "Here, $y$ is the label. $y=1$ when $x \\sim p$ (real data) and $y=0$ when $x \\sim q$ (i.e., fake data).\n",
        "\n",
        "Please note, `disc.classify` = $\\sigma(D_\\omega)$ in `loss_disc`."
      ]
    },
    {
      "cell_type": "code",
      "execution_count": 14,
      "metadata": {
        "execution": {},
        "id": "U2j4Ic6-crF5",
        "cellView": "form"
      },
      "outputs": [],
      "source": [
        "# @markdown *Execute this cell to enable helper functions*\n",
        "\n",
        "def get_data(num_samples=100, seed=0):\n",
        "  set_seed(seed)\n",
        "  return torch.randn([num_samples, 1])\n",
        "\n",
        "\n",
        "class DummyGen:\n",
        "  \"\"\"\n",
        "  Dummy Generator\n",
        "  \"\"\"\n",
        "  def sample(self, num_samples=100, seed=1):\n",
        "    set_seed(seed)\n",
        "    return torch.randn([num_samples, 1]) + 2\n",
        "\n",
        "\n",
        "class DummyDisc:\n",
        "  \"\"\"\n",
        "  Dummy Discriminator\n",
        "  \"\"\"\n",
        "  def classify(self, x, seed=0):\n",
        "    set_seed(seed)\n",
        "    return torch.rand([x.shape[0], ])"
      ]
    },
    {
      "cell_type": "code",
      "execution_count": 15,
      "metadata": {
        "execution": {},
        "id": "7QnSbx1ucrF5",
        "outputId": "4b2b16f3-cc19-4d03-a990-f751bffa8be3",
        "colab": {
          "base_uri": "https://localhost:8080/"
        }
      },
      "outputs": [
        {
          "output_type": "stream",
          "name": "stdout",
          "text": [
            "Random seed 0 has been set.\n",
            "Random seed 1 has been set.\n"
          ]
        }
      ],
      "source": [
        "def loss_disc(disc, x_real, x_fake):\n",
        "  \"\"\"\n",
        "  Compute the discriminator loss for `x_real` and `x_fake` given `disc`\n",
        "\n",
        "  Args:\n",
        "    disc: Disc\n",
        "      The discriminator\n",
        "    x_real: ndarray\n",
        "      An array of shape (N,) that contains the real samples\n",
        "    x_fake: ndarray\n",
        "      An array of shape (N,) that contains the fake samples\n",
        "\n",
        "  Returns:\n",
        "    ndarray with log of the discriminator loss\n",
        "  \"\"\"\n",
        "\n",
        "  label_real = 1\n",
        "  #################################################\n",
        "  # TODO for students: Loss for real data\n",
        "  raise NotImplementedError(\"Student exercise: Implement loss for real samples\")\n",
        "  #################################################\n",
        "  loss_real = label_real * ...\n",
        "\n",
        "  label_fake = 0\n",
        "  #################################################\n",
        "  # TODO for students: Loss for fake data\n",
        "  raise NotImplementedError(\"Student exercise: Implement loss for fake samples\")\n",
        "  #################################################\n",
        "  loss_fake = ... * torch.log(1 - disc.classify(x_fake))\n",
        "\n",
        "\n",
        "  return torch.cat([loss_real, loss_fake])\n",
        "\n",
        "\n",
        "# Add event to airtable\n",
        "atform.add_event('Coding Exercise 2.1: Implement Discriminator Loss')\n",
        "\n",
        "disc = DummyDisc()\n",
        "gen = DummyGen()\n",
        "\n",
        "x_real = get_data()\n",
        "x_fake = gen.sample()\n",
        "\n",
        "## Uncomment to check your function\n",
        "# ld = loss_disc(disc, x_real, x_fake)\n",
        "# plotting_ld(ld)"
      ]
    },
    {
      "cell_type": "code",
      "execution_count": 16,
      "metadata": {
        "execution": {},
        "id": "kPpj3y9AcrF6",
        "outputId": "52df3cca-7c24-467e-d781-a862bdce05ec",
        "colab": {
          "base_uri": "https://localhost:8080/",
          "height": 571
        }
      },
      "outputs": [
        {
          "output_type": "stream",
          "name": "stdout",
          "text": [
            "Random seed 0 has been set.\n",
            "Random seed 1 has been set.\n",
            "Random seed 0 has been set.\n",
            "Random seed 0 has been set.\n"
          ]
        },
        {
          "output_type": "display_data",
          "data": {
            "image/png": "[encoded data removed]",
            "text/plain": [
              "<Figure size 504x504 with 1 Axes>"
            ]
          },
          "metadata": {
            "image/png": {
              "width": 486,
              "height": 485
            }
          }
        }
      ],
      "source": [
        "# to_remove solution\n",
        "def loss_disc(disc, x_real, x_fake):\n",
        "  \"\"\"\n",
        "  Compute the discriminator loss for `x_real` and `x_fake` given `disc`\n",
        "\n",
        "  Args:\n",
        "    disc: Disc\n",
        "      The discriminator\n",
        "    x_real: ndarray\n",
        "      An array of shape (N,) that contains the real samples\n",
        "    x_fake: ndarray\n",
        "      An array of shape (N,) that contains the fake samples\n",
        "\n",
        "  Returns:\n",
        "    ndarray with log of the discriminator loss\n",
        "  \"\"\"\n",
        "\n",
        "  # Loss for real data\n",
        "  label_real = 1\n",
        "  loss_real = label_real * torch.log(disc.classify(x_real))\n",
        "\n",
        "  # Loss for fake data\n",
        "  label_fake = 0\n",
        "  loss_fake = (1 - label_fake) * torch.log(1 - disc.classify(x_fake))\n",
        "\n",
        "  return torch.cat([loss_real, loss_fake])\n",
        "\n",
        "\n",
        "# Add event to airtable\n",
        "atform.add_event('Coding Exercise 2.1: Implement Discriminator Loss')\n",
        "\n",
        "disc = DummyDisc()\n",
        "gen = DummyGen()\n",
        "\n",
        "x_real = get_data()\n",
        "x_fake = gen.sample()\n",
        "\n",
        "## Uncomment to check your function\n",
        "ld = loss_disc(disc, x_real, x_fake)\n",
        "with plt.xkcd():\n",
        "  plotting_ld(ld)"
      ]
    },
    {
      "cell_type": "markdown",
      "metadata": {
        "execution": {},
        "id": "gjJrCYkecrF6"
      },
      "source": [
        "**A note on numerical stability**\n",
        "\n",
        "It is common that functions like $\\log$ throw a numerical error.\n",
        "For $\\log$, it happens when $x$ in $\\log(x)$ is very close to 0.\n",
        "The most common practice is to always add some very small value $\\epsilon$ to $x$, i.e. use $\\log(x + \\epsilon)$ instead.\n",
        "Most built-in functions in modern DL frameworks like TensorFlow or PyTorch handle such things in their built-in loss already, e.g., `torch.nn.BCE`, which is equivalent to the loss you implemented above."
      ]
    },
    {
      "cell_type": "markdown",
      "metadata": {
        "execution": {},
        "id": "-Myol2qQcrF6"
      },
      "source": [
        "## Section 2.3:  The generator loss\n",
        "\n",
        "Now that we have a trained critic, lets see how to train the generator using it."
      ]
    },
    {
      "cell_type": "markdown",
      "metadata": {
        "execution": {},
        "id": "38U8NHs5crF7"
      },
      "source": [
        "### Coding Exercise 2.3: The generator loss\n",
        "\n",
        "We will now implement the generator loss function and evaluate it on some fixed points.\n",
        "\n",
        "**Your goal** is to complete the implementation of the function `loss_gen` using the optimal critic from above.\n",
        "\n",
        "Upon correct implementation, you shall see a plot where the loss values from generator samples align with the \"Correct\" values.\n",
        "\n",
        "**HINT:** You simply need to change the labels. "
      ]
    },
    {
      "cell_type": "code",
      "execution_count": 17,
      "metadata": {
        "execution": {},
        "id": "eCAYxUlgcrF7",
        "outputId": "c2d84744-9a6b-4db0-f5fe-8400babe1787",
        "colab": {
          "base_uri": "https://localhost:8080/"
        }
      },
      "outputs": [
        {
          "output_type": "stream",
          "name": "stdout",
          "text": [
            "Random seed 1 has been set.\n"
          ]
        }
      ],
      "source": [
        "def loss_gen(disc, x_fake):\n",
        "  \"\"\"\n",
        "  Compute the generator loss for `x_fake` given `disc`\n",
        "\n",
        "  Args:\n",
        "    disc: Disc\n",
        "      The generator\n",
        "    x_fake: ndarray\n",
        "      An array of shape (N,) that contains the fake samples\n",
        "\n",
        "  Returns:\n",
        "    loss_fake: ndarray\n",
        "      The generator loss\n",
        "  \"\"\"\n",
        "\n",
        "  #################################################\n",
        "  # TODO for students: Loss for fake data\n",
        "  raise NotImplementedError(\"Student exercise: Implement loss for fake data\")\n",
        "  #################################################\n",
        "  label_fake = ...\n",
        "  loss_fake = label_fake * ...\n",
        "\n",
        "  return loss_fake\n",
        "\n",
        "\n",
        "# Add event to airtable\n",
        "atform.add_event('Coding Exercise 2.3: The generator loss')\n",
        "\n",
        "disc = DummyDisc()\n",
        "gen = DummyGen()\n",
        "\n",
        "x_fake = gen.sample()\n",
        "## Uncomment below to check your function\n",
        "# lg = loss_gen(disc, x_fake)\n",
        "# plotting_lg(lg)"
      ]
    },
    {
      "cell_type": "code",
      "execution_count": 18,
      "metadata": {
        "execution": {},
        "id": "qmX_OTKOcrF8",
        "outputId": "a1c53916-afb1-4733-c17f-a016806f3ccd",
        "colab": {
          "base_uri": "https://localhost:8080/",
          "height": 537
        }
      },
      "outputs": [
        {
          "output_type": "stream",
          "name": "stdout",
          "text": [
            "Random seed 1 has been set.\n",
            "Random seed 0 has been set.\n"
          ]
        },
        {
          "output_type": "display_data",
          "data": {
            "image/png": "[encoded data removed]",
            "text/plain": [
              "<Figure size 504x504 with 1 Axes>"
            ]
          },
          "metadata": {
            "image/png": {
              "width": 486,
              "height": 485
            }
          }
        }
      ],
      "source": [
        "# to_remove solution\n",
        "def loss_gen(disc, x_fake):\n",
        "  \"\"\"\n",
        "  Compute the generator loss for `x_fake` given `disc`\n",
        "\n",
        "  Args:\n",
        "    disc: Disc\n",
        "      The generator\n",
        "    x_fake: ndarray\n",
        "      An array of shape (N,) that contains the fake samples\n",
        "\n",
        "  Returns:\n",
        "    loss_fake: ndarray\n",
        "      The generator loss\n",
        "  \"\"\"\n",
        "\n",
        "  # Loss for fake data\n",
        "  label_fake = 1\n",
        "  loss_fake = label_fake * torch.log(disc.classify(x_fake))\n",
        "\n",
        "  return loss_fake\n",
        "\n",
        "\n",
        "# Add event to airtable\n",
        "atform.add_event('Coding Exercise 2.3: The generator loss')\n",
        "\n",
        "disc = DummyDisc()\n",
        "gen = DummyGen()\n",
        "\n",
        "x_fake = gen.sample()\n",
        "## Uncomment below to check your function\n",
        "lg = loss_gen(disc, x_fake)\n",
        "with plt.xkcd():\n",
        "  plotting_lg(lg)"
      ]
    },
    {
      "cell_type": "markdown",
      "metadata": {
        "execution": {},
        "id": "nn7iLGyXcrF9"
      },
      "source": [
        "**Did you notice?**\n",
        "\n",
        "The loss you implemented for generator is essentially the part for real data in `loss_disc`, i.e., it is saying, \"*the data I am feeding to you is real and not fake*\"."
      ]
    },
    {
      "cell_type": "markdown",
      "metadata": {
        "execution": {},
        "id": "Qq5xPcjjcrF9"
      },
      "source": [
        "---\n",
        "# Section 3: The difficulty of GAN training.\n",
        "\n",
        "*Time estimate: ~10mins*"
      ]
    },
    {
      "cell_type": "markdown",
      "metadata": {
        "execution": {},
        "id": "01LP3AKLcrF-"
      },
      "source": [
        "In this section we will develop an intuition for the training dynamics of GANs."
      ]
    },
    {
      "cell_type": "markdown",
      "metadata": {
        "execution": {},
        "id": "L2nR6fRGcrF-"
      },
      "source": [
        "## Interactive Demo 2: Failure modes of GAN training\n",
        "\n",
        "GAN training is notoriously difficult because \n",
        "it is very sensitive to hyper-parameters such as learning rate and model architecture. To help you develop a sense of this here is a very simple GAN training demo that we have borrowed from [Andrej Karpathy's website](https://cs.stanford.edu/people/karpathy/gan/).  \n",
        "\n",
        "The generator $G$, pictured in red, takes inputs sampled from a uniform distribution, $z$. It attempts to transform these to match a data distribution, shown below in blue. Meanwhile, the discriminator $D$ attempts to determine whether a sample is from the data distribution or the generating distribution. In the demo, the green curve represents the output of the discriminator. Its value is high where the discriminator is more confident that a sample with that value is drawn from the data distribution.\n",
        "\n",
        "Even though the GAN in this demo is very simple and operates in either 1D or 2D spaces, it is however very sensitive to the learning rate. Try it for yourself!"
      ]
    },
    {
      "cell_type": "code",
      "execution_count": 19,
      "metadata": {
        "execution": {},
        "id": "5Li1aMnScrF_",
        "cellView": "form",
        "outputId": "10998cc6-bb10-4ec5-9b6e-8f0d92f3639b",
        "colab": {
          "base_uri": "https://localhost:8080/",
          "height": 580,
          "referenced_widgets": [
            "a2acb6194d79442d901e751679818705",
            "2f3a958933ba4ef69ddf2929e3fb7b04",
            "5ea913b6a2654356ada8c50cf0e35778",
            "6caeeb4d5dcb452bbc2fe98a6588f272",
            "3aba788905df4ce385b9de72bd3990eb",
            "d11c4d37e7254f358b8b7a224f562bb7"
          ]
        }
      },
      "outputs": [
        {
          "output_type": "display_data",
          "data": {
            "application/vnd.jupyter.widget-view+json": {
              "model_id": "a2acb6194d79442d901e751679818705",
              "version_minor": 0,
              "version_major": 2
            },
            "text/plain": [
              "Tab(children=(Output(), Output()), _titles={'0': 'Youtube', '1': 'Bilibili'})"
            ]
          },
          "metadata": {}
        }
      ],
      "source": [
        "# @title Video 3: GAN generator Learning Idea\n",
        "from ipywidgets import widgets\n",
        "\n",
        "out2 = widgets.Output()\n",
        "with out2:\n",
        "  from IPython.display import IFrame\n",
        "  class BiliVideo(IFrame):\n",
        "    def __init__(self, id, page=1, width=400, height=300, **kwargs):\n",
        "      self.id=id\n",
        "      src = \"https://player.bilibili.com/player.html?bvid={0}&page={1}\".format(id, page)\n",
        "      super(BiliVideo, self).__init__(src, width, height, **kwargs)\n",
        "\n",
        "  video = BiliVideo(id=f\"BV1aL411J7SE\", width=854, height=480, fs=1)\n",
        "  print(\"Video available at https://www.bilibili.com/video/{0}\".format(video.id))\n",
        "  display(video)\n",
        "\n",
        "out1 = widgets.Output()\n",
        "with out1:\n",
        "  from IPython.display import YouTubeVideo\n",
        "  video = YouTubeVideo(id=f\"Iqqz2_USUGs\", width=854, height=480, fs=1, rel=0)\n",
        "  print(\"Video available at https://youtube.com/watch?v=\" + video.id)\n",
        "  display(video)\n",
        "\n",
        "out = widgets.Tab([out1, out2])\n",
        "out.set_title(0, 'Youtube')\n",
        "out.set_title(1, 'Bilibili')\n",
        "\n",
        "# Add event to airtable\n",
        "atform.add_event('Video 3: GAN generator Learning Idea')\n",
        "\n",
        "display(out)"
      ]
    },
    {
      "cell_type": "code",
      "execution_count": 20,
      "metadata": {
        "execution": {},
        "id": "e_VsaGUKcrGA",
        "cellView": "form",
        "outputId": "1b8c5095-9cb1-4748-bce6-541ff9471603",
        "colab": {
          "base_uri": "https://localhost:8080/",
          "height": 621
        }
      },
      "outputs": [
        {
          "output_type": "execute_result",
          "data": {
            "text/html": [
              "\n",
              "        <iframe\n",
              "            width=\"900\"\n",
              "            height=\"600\"\n",
              "            src=\"https://xukai92.github.io/gan_demo/index.html\"\n",
              "            frameborder=\"0\"\n",
              "            allowfullscreen\n",
              "        ></iframe>\n",
              "        "
            ],
            "text/plain": [
              "<IPython.lib.display.IFrame at 0x7fe8e5b335d0>"
            ]
          },
          "metadata": {},
          "execution_count": 20
        }
      ],
      "source": [
        "# @title GAN training demo\n",
        "# @markdown Make sure you execute this cell to enable the widget!\n",
        "\n",
        "from IPython.display import IFrame\n",
        "IFrame(src='https://xukai92.github.io/gan_demo/index.html', width=900, height=600)"
      ]
    },
    {
      "cell_type": "markdown",
      "metadata": {
        "execution": {},
        "id": "Go-C9qQTcrGA"
      },
      "source": [
        "## Think! 2: What makes GANs hard to train?\n",
        "\n",
        "You have played with the demo and it's time to think about a few questions\n",
        "\n",
        "1. Which target is more stable to train, 1D or 2D?\n",
        "2. If you keep increasing the learning rate, what happens? Does it happen in both the cases, i.e., 1D/2D targets?\n",
        "3. Can you think of some drawbacks of using small learning rates?"
      ]
    },
    {
      "cell_type": "code",
      "execution_count": 21,
      "metadata": {
        "cellView": "form",
        "execution": {},
        "id": "Dyswt3WbcrGB",
        "outputId": "c4445a53-df99-4bc7-98af-406a02dabd4d",
        "colab": {
          "base_uri": "https://localhost:8080/",
          "height": 106,
          "referenced_widgets": [
            "b7f8f32ea5ce435dbaa89588b75f65c3",
            "318acfd5898944a192c08f934238b42e",
            "0e2b96d775904c63b2de03646e5f6123",
            "0eaabf1d00d644e389b96375829cbec2",
            "7acca460324846eea9f8799ca1618f46",
            "671ade51f7e842adbdce9aa2b216a990"
          ]
        }
      },
      "outputs": [
        {
          "output_type": "display_data",
          "data": {
            "application/vnd.jupyter.widget-view+json": {
              "model_id": "b7f8f32ea5ce435dbaa89588b75f65c3",
              "version_minor": 0,
              "version_major": 2
            },
            "text/plain": [
              "Textarea(value='Type your answer here and click on `Submit!`', placeholder='Type something')"
            ]
          },
          "metadata": {}
        },
        {
          "output_type": "display_data",
          "data": {
            "application/vnd.jupyter.widget-view+json": {
              "model_id": "0eaabf1d00d644e389b96375829cbec2",
              "version_minor": 0,
              "version_major": 2
            },
            "text/plain": [
              "Button(description='Submit!', style=ButtonStyle())"
            ]
          },
          "metadata": {}
        }
      ],
      "source": [
        "# @title Student Response\n",
        "from ipywidgets import widgets\n",
        "\n",
        "\n",
        "text=widgets.Textarea(\n",
        "   value='Type your answer here and click on `Submit!`',\n",
        "   placeholder='Type something',\n",
        "   description='',\n",
        "   disabled=False\n",
        ")\n",
        "\n",
        "button = widgets.Button(description=\"Submit!\")\n",
        "\n",
        "display(text,button)\n",
        "\n",
        "def on_button_clicked(b):\n",
        "   atform.add_answer('q1', text.value)\n",
        "   print(\"Submission successful!\")\n",
        "\n",
        "\n",
        "button.on_click(on_button_clicked)"
      ]
    },
    {
      "cell_type": "code",
      "execution_count": 22,
      "metadata": {
        "execution": {},
        "id": "PN9cfp2scrGB"
      },
      "outputs": [],
      "source": [
        "# to_remove explanation\n",
        "\n",
        "\"\"\"\n",
        "1. 2D as it is simply a more difficult distribution to model compared to the\n",
        "  unimodal 1D example.\n",
        "2. The training becomes unstable and eventually diverges. Yes.\n",
        "3. Training is too slow and takes longer to converge.\n",
        "\n",
        "In general, when training a GAN, we need to ensure a certain balance between\n",
        "the critic and generator training. As such, tuning the learning rate\n",
        "is crucial for succesfully training GANs.\n",
        "\"\"\";"
      ]
    },
    {
      "cell_type": "code",
      "execution_count": 23,
      "metadata": {
        "execution": {},
        "id": "RPBmCejKcrGC",
        "cellView": "form",
        "outputId": "bfe9b7b7-a515-43ff-8ff6-a01211d1d1db",
        "colab": {
          "base_uri": "https://localhost:8080/",
          "height": 580,
          "referenced_widgets": [
            "2a4a766f893245bd85f95c5f47bee125",
            "a4f3e90a63334bd29e5089dc8bfe3aa2",
            "13ab8b106308439f9d9c3ffdf0c7f5b1",
            "b064bba6cec647cdab0838ec2a03e74b",
            "f5f3fe83407f436f95b7e320c2b2956e",
            "368e220947d245e9985999549d8c3f48"
          ]
        }
      },
      "outputs": [
        {
          "output_type": "display_data",
          "data": {
            "application/vnd.jupyter.widget-view+json": {
              "model_id": "2a4a766f893245bd85f95c5f47bee125",
              "version_minor": 0,
              "version_major": 2
            },
            "text/plain": [
              "Tab(children=(Output(), Output()), _titles={'0': 'Youtube', '1': 'Bilibili'})"
            ]
          },
          "metadata": {}
        }
      ],
      "source": [
        "# @title Video 4: GAN Failure Models\n",
        "from ipywidgets import widgets\n",
        "\n",
        "out2 = widgets.Output()\n",
        "with out2:\n",
        "  from IPython.display import IFrame\n",
        "  class BiliVideo(IFrame):\n",
        "    def __init__(self, id, page=1, width=400, height=300, **kwargs):\n",
        "      self.id=id\n",
        "      src = \"https://player.bilibili.com/player.html?bvid={0}&page={1}\".format(id, page)\n",
        "      super(BiliVideo, self).__init__(src, width, height, **kwargs)\n",
        "\n",
        "  video = BiliVideo(id=f\"BV17M4y1L7w9\", width=854, height=480, fs=1)\n",
        "  print(\"Video available at https://www.bilibili.com/video/{0}\".format(video.id))\n",
        "  display(video)\n",
        "\n",
        "out1 = widgets.Output()\n",
        "with out1:\n",
        "  from IPython.display import YouTubeVideo\n",
        "  video = YouTubeVideo(id=f\"fmU2UM_QzLo\", width=854, height=480, fs=1, rel=0)\n",
        "  print(\"Video available at https://youtube.com/watch?v=\" + video.id)\n",
        "  display(video)\n",
        "\n",
        "out = widgets.Tab([out1, out2])\n",
        "out.set_title(0, 'Youtube')\n",
        "out.set_title(1, 'Bilibili')\n",
        "\n",
        "# Add event to airtable\n",
        "atform.add_event('Video 4: GAN Failure Models')\n",
        "\n",
        "display(out)"
      ]
    },
    {
      "cell_type": "markdown",
      "metadata": {
        "execution": {},
        "id": "LUE8j8tGcrGC"
      },
      "source": [
        "---\n",
        "# Section 4: GAN training in action!\n",
        "\n",
        "*Time estimate: ~4mins*"
      ]
    },
    {
      "cell_type": "markdown",
      "metadata": {
        "execution": {},
        "id": "BBZ_6B7ccrGD"
      },
      "source": [
        "In this section we will be playing with a complete implementation of GAN."
      ]
    },
    {
      "cell_type": "markdown",
      "metadata": {
        "execution": {},
        "id": "S3KXK40rcrGD"
      },
      "source": [
        "## Interactive Demo 4: GAN training in action\n"
      ]
    },
    {
      "cell_type": "code",
      "execution_count": 24,
      "metadata": {
        "execution": {},
        "id": "bdIUnpwzcrGE",
        "cellView": "form",
        "outputId": "4c12bbe5-1e8a-46a6-ddf9-d62892e70e6c",
        "colab": {
          "base_uri": "https://localhost:8080/",
          "height": 704
        }
      },
      "outputs": [
        {
          "output_type": "execute_result",
          "data": {
            "text/html": [
              "<iframe width=\"1500\" height=\"660\" src=\"https://poloclub.github.io/ganlab/\" allowfullscreen></iframe>"
            ],
            "text/plain": [
              "<IPython.core.display.HTML object>"
            ]
          },
          "metadata": {},
          "execution_count": 24
        }
      ],
      "source": [
        "# @title GanLab\n",
        "from IPython.display import HTML\n",
        "HTML('<iframe width=\"1500\" height=\"660\" src=\"https://poloclub.github.io/ganlab/\" allowfullscreen></iframe>')"
      ]
    },
    {
      "cell_type": "markdown",
      "metadata": {
        "execution": {},
        "id": "u4F_ws9WcrGE"
      },
      "source": [
        "---\n",
        "# Summary\n",
        "\n",
        "Through this tutorial, we have learned\n",
        "\n",
        "- How to implement the training loop of GANs.\n",
        "- Developed an intuition about the training dynamics of GANs.\n",
        "- How to implement the training objectives for the generator and discriminator of GANs.\n",
        "- How are GANs connected to density ratio estimation.\n",
        "\n",
        "Next tutorial will cover conditional GANs and ethical issues of DL."
      ]
    },
    {
      "cell_type": "code",
      "execution_count": 25,
      "metadata": {
        "execution": {},
        "id": "61iwS-3hcrGF",
        "cellView": "form",
        "outputId": "02b55d27-6541-4cec-8b80-ad72b705ae3b",
        "colab": {
          "base_uri": "https://localhost:8080/",
          "height": 158
        }
      },
      "outputs": [
        {
          "output_type": "execute_result",
          "data": {
            "text/html": [
              "\n",
              " <div>\n",
              "   <a href= \"https://portal.neuromatchacademy.org/api/redirect/to/9c55f6cb-cdf9-4429-ac1c-ec44fe64c303?data=eyJmb3JtX2lkIjogImFwcG43VmRQUnNlU29NWEVHIiwgInRhYmxlX25hbWUiOiAiVzJENV9UMiIsICJhbnN3ZXJzIjoge30sICJldmVudHMiOiBbeyJldmVudCI6ICJpbml0IiwgInRzIjogMTY0Mjg1MzQ5OS4xNjIzNDE4fSwgeyJldmVudCI6ICJWaWRlbyAxOiBHZW5lcmF0aXZlIEFkdmVyc2FyaWFsIE5ldHdvcmtzIiwgInRzIjogMTY0Mjg1MzUwNS4yMDMyMzl9LCB7ImV2ZW50IjogIkNvZGluZyBFeGVyY2lzZSAxOiBUaGUgR0FOIHRyYWluaW5nIGxvb3AiLCAidHMiOiAxNjQyODUzNTA1LjI4NjA0Mn0sIHsiZXZlbnQiOiAiQ29kaW5nIEV4ZXJjaXNlIDE6IFRoZSBHQU4gdHJhaW5pbmcgbG9vcCIsICJ0cyI6IDE2NDI4NTM1MDUuMzIwMTk5M30sIHsiZXZlbnQiOiAiVmlkZW8gMjogUHJpbmNpcGxlcyBvZiBHQU5zIiwgInRzIjogMTY0Mjg1MzUwNS41MDM2ODUyfSwgeyJldmVudCI6ICJDb2RpbmcgRXhlcmNpc2UgMi4xOiBJbXBsZW1lbnQgRGlzY3JpbWluYXRvciBMb3NzIiwgInRzIjogMTY0Mjg1MzUwNS41NzA1MjZ9LCB7ImV2ZW50IjogIkNvZGluZyBFeGVyY2lzZSAyLjE6IEltcGxlbWVudCBEaXNjcmltaW5hdG9yIExvc3MiLCAidHMiOiAxNjQyODUzNTA1LjY2MjI1MDN9LCB7ImV2ZW50IjogIkNvZGluZyBFeGVyY2lzZSAyLjM6IFRoZSBnZW5lcmF0b3IgbG9zcyIsICJ0cyI6IDE2NDI4NTM1MDYuNTQwODE4Mn0sIHsiZXZlbnQiOiAiQ29kaW5nIEV4ZXJjaXNlIDIuMzogVGhlIGdlbmVyYXRvciBsb3NzIiwgInRzIjogMTY0Mjg1MzUwNi41NzI0ODUyfSwgeyJldmVudCI6ICJWaWRlbyAzOiBHQU4gZ2VuZXJhdG9yIExlYXJuaW5nIElkZWEiLCAidHMiOiAxNjQyODUzNTA3LjUwMDQ2ODV9LCB7ImV2ZW50IjogIlZpZGVvIDQ6IEdBTiBGYWlsdXJlIE1vZGVscyIsICJ0cyI6IDE2NDI4NTM1MDcuNzg3NjgwNn0sIHsiZXZlbnQiOiAidXJsIGdlbmVyYXRlZCIsICJ0cyI6IDE2NDI4NTM1MDcuODIzOTk5Mn1dfQ%3D%3D\" target=\"_blank\">\n",
              "   <img src=\"https://github.com/NeuromatchAcademy/course-content-dl/blob/main/tutorials/static/AirtableSubmissionButton.png?raw=1\"\n",
              " alt=\"button link to Airtable\" style=\"width:410px\"></a>\n",
              "   </div>"
            ],
            "text/plain": [
              "<IPython.core.display.HTML object>"
            ]
          },
          "metadata": {},
          "execution_count": 25
        }
      ],
      "source": [
        "# @title Airtable Submission Link\n",
        "from IPython import display as IPydisplay\n",
        "IPydisplay.HTML(\n",
        "   f\"\"\"\n",
        " <div>\n",
        "   <a href= \"{atform.url()}\" target=\"_blank\">\n",
        "   <img src=\"https://github.com/NeuromatchAcademy/course-content-dl/blob/main/tutorials/static/AirtableSubmissionButton.png?raw=1\"\n",
        " alt=\"button link to Airtable\" style=\"width:410px\"></a>\n",
        "   </div>\"\"\" )"
      ]
    }
  ],
  "metadata": {
    "accelerator": "GPU",
    "colab": {
      "collapsed_sections": [],
      "name": "W2D5_Tutorial2",
      "provenance": [],
      "toc_visible": true,
      "include_colab_link": true
    },
    "kernel": {
      "display_name": "Python 3",
      "language": "python",
      "name": "python3"
    },
    "kernelspec": {
      "display_name": "Python 3",
      "name": "python3"
    },
    "language_info": {
      "codemirror_mode": {
        "name": "ipython",
        "version": 3
      },
      "file_extension": ".py",
      "mimetype": "text/x-python",
      "name": "python",
      "nbconvert_exporter": "python",
      "pygments_lexer": "ipython3",
      "version": "3.7.11"
    },
    "widgets": {
      "application/vnd.jupyter.widget-state+json": {
        "7ba3432a52aa477f860114e9ebefdce2": {
          "model_module": "@jupyter-widgets/controls",
          "model_name": "TabModel",
          "model_module_version": "1.5.0",
          "state": {
            "_view_name": "TabView",
            "_dom_classes": [],
            "_titles": {
              "0": "Youtube",
              "1": "Bilibili"
            },
            "_model_name": "TabModel",
            "_view_module": "@jupyter-widgets/controls",
            "selected_index": 0,
            "_model_module_version": "1.5.0",
            "_view_count": null,
            "_view_module_version": "1.5.0",
            "box_style": "",
            "layout": "IPY_MODEL_b7704686180646248c4abc86a5b01700",
            "_model_module": "@jupyter-widgets/controls",
            "children": [
              "IPY_MODEL_5c979f6a6a6b4af09dc81b1491c6cb01",
              "IPY_MODEL_6d372785c9ca4b818cbcb7e5e7bcaae9"
            ]
          }
        },
        "b7704686180646248c4abc86a5b01700": {
          "model_module": "@jupyter-widgets/base",
          "model_name": "LayoutModel",
          "model_module_version": "1.2.0",
          "state": {
            "_view_name": "LayoutView",
            "grid_template_rows": null,
            "right": null,
            "justify_content": null,
            "_view_module": "@jupyter-widgets/base",
            "overflow": null,
            "_model_module_version": "1.2.0",
            "_view_count": null,
            "flex_flow": null,
            "width": null,
            "min_width": null,
            "border": null,
            "align_items": null,
            "bottom": null,
            "_model_module": "@jupyter-widgets/base",
            "top": null,
            "grid_column": null,
            "overflow_y": null,
            "overflow_x": null,
            "grid_auto_flow": null,
            "grid_area": null,
            "grid_template_columns": null,
            "flex": null,
            "_model_name": "LayoutModel",
            "justify_items": null,
            "grid_row": null,
            "max_height": null,
            "align_content": null,
            "visibility": null,
            "align_self": null,
            "height": null,
            "min_height": null,
            "padding": null,
            "grid_auto_rows": null,
            "grid_gap": null,
            "max_width": null,
            "order": null,
            "_view_module_version": "1.2.0",
            "grid_template_areas": null,
            "object_position": null,
            "object_fit": null,
            "grid_auto_columns": null,
            "margin": null,
            "display": null,
            "left": null
          }
        },
        "5c979f6a6a6b4af09dc81b1491c6cb01": {
          "model_module": "@jupyter-widgets/output",
          "model_name": "OutputModel",
          "model_module_version": "1.0.0",
          "state": {
            "_view_name": "OutputView",
            "msg_id": "",
            "_dom_classes": [],
            "_model_name": "OutputModel",
            "outputs": [
              {
                "output_type": "stream",
                "name": "stdout",
                "text": [
                  "Video available at https://youtube.com/watch?v=FmUbll93kms\n"
                ]
              },
              {
                "output_type": "display_data",
                "data": {
                  "text/html": "\n        <iframe\n            width=\"854\"\n            height=\"480\"\n            src=\"https://www.youtube.com/embed/FmUbll93kms?fs=1&rel=0\"\n            frameborder=\"0\"\n            allowfullscreen\n        ></iframe>\n        ",
                  "text/plain": "<IPython.lib.display.YouTubeVideo at 0x7fea14043550>",
                  "image/jpeg": "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\n"
                },
                "metadata": {}
              }
            ],
            "_view_module": "@jupyter-widgets/output",
            "_model_module_version": "1.0.0",
            "_view_count": null,
            "_view_module_version": "1.0.0",
            "layout": "IPY_MODEL_961e9a5562174ff6b1d641582c834755",
            "_model_module": "@jupyter-widgets/output"
          }
        },
        "6d372785c9ca4b818cbcb7e5e7bcaae9": {
          "model_module": "@jupyter-widgets/output",
          "model_name": "OutputModel",
          "model_module_version": "1.0.0",
          "state": {
            "_view_name": "OutputView",
            "msg_id": "",
            "_dom_classes": [],
            "_model_name": "OutputModel",
            "outputs": [
              {
                "output_type": "stream",
                "name": "stdout",
                "text": [
                  "Video available at https://www.bilibili.com/video/BV1o64y1i7xA\n"
                ]
              },
              {
                "output_type": "display_data",
                "data": {
                  "text/html": "\n        <iframe\n            width=\"854\"\n            height=\"480\"\n            src=\"https://player.bilibili.com/player.html?bvid=BV1o64y1i7xA&page=1?fs=1\"\n            frameborder=\"0\"\n            allowfullscreen\n        ></iframe>\n        ",
                  "text/plain": "<__main__.BiliVideo at 0x7fe9f35703d0>"
                },
                "metadata": {}
              }
            ],
            "_view_module": "@jupyter-widgets/output",
            "_model_module_version": "1.0.0",
            "_view_count": null,
            "_view_module_version": "1.0.0",
            "layout": "IPY_MODEL_2aed42aac758452ba35ae5de2e6c7a41",
            "_model_module": "@jupyter-widgets/output"
          }
        },
        "961e9a5562174ff6b1d641582c834755": {
          "model_module": "@jupyter-widgets/base",
          "model_name": "LayoutModel",
          "model_module_version": "1.2.0",
          "state": {
            "_view_name": "LayoutView",
            "grid_template_rows": null,
            "right": null,
            "justify_content": null,
            "_view_module": "@jupyter-widgets/base",
            "overflow": null,
            "_model_module_version": "1.2.0",
            "_view_count": null,
            "flex_flow": null,
            "width": null,
            "min_width": null,
            "border": null,
            "align_items": null,
            "bottom": null,
            "_model_module": "@jupyter-widgets/base",
            "top": null,
            "grid_column": null,
            "overflow_y": null,
            "overflow_x": null,
            "grid_auto_flow": null,
            "grid_area": null,
            "grid_template_columns": null,
            "flex": null,
            "_model_name": "LayoutModel",
            "justify_items": null,
            "grid_row": null,
            "max_height": null,
            "align_content": null,
            "visibility": null,
            "align_self": null,
            "height": null,
            "min_height": null,
            "padding": null,
            "grid_auto_rows": null,
            "grid_gap": null,
            "max_width": null,
            "order": null,
            "_view_module_version": "1.2.0",
            "grid_template_areas": null,
            "object_position": null,
            "object_fit": null,
            "grid_auto_columns": null,
            "margin": null,
            "display": null,
            "left": null
          }
        },
        "2aed42aac758452ba35ae5de2e6c7a41": {
          "model_module": "@jupyter-widgets/base",
          "model_name": "LayoutModel",
          "model_module_version": "1.2.0",
          "state": {
            "_view_name": "LayoutView",
            "grid_template_rows": null,
            "right": null,
            "justify_content": null,
            "_view_module": "@jupyter-widgets/base",
            "overflow": null,
            "_model_module_version": "1.2.0",
            "_view_count": null,
            "flex_flow": null,
            "width": null,
            "min_width": null,
            "border": null,
            "align_items": null,
            "bottom": null,
            "_model_module": "@jupyter-widgets/base",
            "top": null,
            "grid_column": null,
            "overflow_y": null,
            "overflow_x": null,
            "grid_auto_flow": null,
            "grid_area": null,
            "grid_template_columns": null,
            "flex": null,
            "_model_name": "LayoutModel",
            "justify_items": null,
            "grid_row": null,
            "max_height": null,
            "align_content": null,
            "visibility": null,
            "align_self": null,
            "height": null,
            "min_height": null,
            "padding": null,
            "grid_auto_rows": null,
            "grid_gap": null,
            "max_width": null,
            "order": null,
            "_view_module_version": "1.2.0",
            "grid_template_areas": null,
            "object_position": null,
            "object_fit": null,
            "grid_auto_columns": null,
            "margin": null,
            "display": null,
            "left": null
          }
        },
        "5c30544709b348e69491274e1d3f611d": {
          "model_module": "@jupyter-widgets/controls",
          "model_name": "TabModel",
          "model_module_version": "1.5.0",
          "state": {
            "_view_name": "TabView",
            "_dom_classes": [],
            "_titles": {
              "0": "Youtube",
              "1": "Bilibili"
            },
            "_model_name": "TabModel",
            "_view_module": "@jupyter-widgets/controls",
            "selected_index": 0,
            "_model_module_version": "1.5.0",
            "_view_count": null,
            "_view_module_version": "1.5.0",
            "box_style": "",
            "layout": "IPY_MODEL_866af34813bc46f29e9c62d657d7e329",
            "_model_module": "@jupyter-widgets/controls",
            "children": [
              "IPY_MODEL_9266f5dec56c413799b4d57885374228",
              "IPY_MODEL_6aca1dc4e2f243b99377eca6f6657524"
            ]
          }
        },
        "866af34813bc46f29e9c62d657d7e329": {
          "model_module": "@jupyter-widgets/base",
          "model_name": "LayoutModel",
          "model_module_version": "1.2.0",
          "state": {
            "_view_name": "LayoutView",
            "grid_template_rows": null,
            "right": null,
            "justify_content": null,
            "_view_module": "@jupyter-widgets/base",
            "overflow": null,
            "_model_module_version": "1.2.0",
            "_view_count": null,
            "flex_flow": null,
            "width": null,
            "min_width": null,
            "border": null,
            "align_items": null,
            "bottom": null,
            "_model_module": "@jupyter-widgets/base",
            "top": null,
            "grid_column": null,
            "overflow_y": null,
            "overflow_x": null,
            "grid_auto_flow": null,
            "grid_area": null,
            "grid_template_columns": null,
            "flex": null,
            "_model_name": "LayoutModel",
            "justify_items": null,
            "grid_row": null,
            "max_height": null,
            "align_content": null,
            "visibility": null,
            "align_self": null,
            "height": null,
            "min_height": null,
            "padding": null,
            "grid_auto_rows": null,
            "grid_gap": null,
            "max_width": null,
            "order": null,
            "_view_module_version": "1.2.0",
            "grid_template_areas": null,
            "object_position": null,
            "object_fit": null,
            "grid_auto_columns": null,
            "margin": null,
            "display": null,
            "left": null
          }
        },
        "9266f5dec56c413799b4d57885374228": {
          "model_module": "@jupyter-widgets/output",
          "model_name": "OutputModel",
          "model_module_version": "1.0.0",
          "state": {
            "_view_name": "OutputView",
            "msg_id": "",
            "_dom_classes": [],
            "_model_name": "OutputModel",
            "outputs": [
              {
                "output_type": "stream",
                "name": "stdout",
                "text": [
                  "Video available at https://youtube.com/watch?v=U_4z5-hX1Kg\n"
                ]
              },
              {
                "output_type": "display_data",
                "data": {
                  "text/html": "\n        <iframe\n            width=\"854\"\n            height=\"480\"\n            src=\"https://www.youtube.com/embed/U_4z5-hX1Kg?fs=1&rel=0\"\n            frameborder=\"0\"\n            allowfullscreen\n        ></iframe>\n        ",
                  "text/plain": "<IPython.lib.display.YouTubeVideo at 0x7fe8efc87490>",
                  "image/jpeg": "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\n"
                },
                "metadata": {}
              }
            ],
            "_view_module": "@jupyter-widgets/output",
            "_model_module_version": "1.0.0",
            "_view_count": null,
            "_view_module_version": "1.0.0",
            "layout": "IPY_MODEL_9aa2815ed75c48d781acb0da55022170",
            "_model_module": "@jupyter-widgets/output"
          }
        },
        "6aca1dc4e2f243b99377eca6f6657524": {
          "model_module": "@jupyter-widgets/output",
          "model_name": "OutputModel",
          "model_module_version": "1.0.0",
          "state": {
            "_view_name": "OutputView",
            "msg_id": "",
            "_dom_classes": [],
            "_model_name": "OutputModel",
            "outputs": [
              {
                "output_type": "stream",
                "name": "stdout",
                "text": [
                  "Video available at https://www.bilibili.com/video/BV1bo4y1U7YT\n"
                ]
              },
              {
                "output_type": "display_data",
                "data": {
                  "text/html": "\n        <iframe\n            width=\"854\"\n            height=\"480\"\n            src=\"https://player.bilibili.com/player.html?bvid=BV1bo4y1U7YT&page=1?fs=1\"\n            frameborder=\"0\"\n            allowfullscreen\n        ></iframe>\n        ",
                  "text/plain": "<__main__.BiliVideo at 0x7fe8ef7e4650>"
                },
                "metadata": {}
              }
            ],
            "_view_module": "@jupyter-widgets/output",
            "_model_module_version": "1.0.0",
            "_view_count": null,
            "_view_module_version": "1.0.0",
            "layout": "IPY_MODEL_3572de8f61ed41009bf547753fafd630",
            "_model_module": "@jupyter-widgets/output"
          }
        },
        "9aa2815ed75c48d781acb0da55022170": {
          "model_module": "@jupyter-widgets/base",
          "model_name": "LayoutModel",
          "model_module_version": "1.2.0",
          "state": {
            "_view_name": "LayoutView",
            "grid_template_rows": null,
            "right": null,
            "justify_content": null,
            "_view_module": "@jupyter-widgets/base",
            "overflow": null,
            "_model_module_version": "1.2.0",
            "_view_count": null,
            "flex_flow": null,
            "width": null,
            "min_width": null,
            "border": null,
            "align_items": null,
            "bottom": null,
            "_model_module": "@jupyter-widgets/base",
            "top": null,
            "grid_column": null,
            "overflow_y": null,
            "overflow_x": null,
            "grid_auto_flow": null,
            "grid_area": null,
            "grid_template_columns": null,
            "flex": null,
            "_model_name": "LayoutModel",
            "justify_items": null,
            "grid_row": null,
            "max_height": null,
            "align_content": null,
            "visibility": null,
            "align_self": null,
            "height": null,
            "min_height": null,
            "padding": null,
            "grid_auto_rows": null,
            "grid_gap": null,
            "max_width": null,
            "order": null,
            "_view_module_version": "1.2.0",
            "grid_template_areas": null,
            "object_position": null,
            "object_fit": null,
            "grid_auto_columns": null,
            "margin": null,
            "display": null,
            "left": null
          }
        },
        "3572de8f61ed41009bf547753fafd630": {
          "model_module": "@jupyter-widgets/base",
          "model_name": "LayoutModel",
          "model_module_version": "1.2.0",
          "state": {
            "_view_name": "LayoutView",
            "grid_template_rows": null,
            "right": null,
            "justify_content": null,
            "_view_module": "@jupyter-widgets/base",
            "overflow": null,
            "_model_module_version": "1.2.0",
            "_view_count": null,
            "flex_flow": null,
            "width": null,
            "min_width": null,
            "border": null,
            "align_items": null,
            "bottom": null,
            "_model_module": "@jupyter-widgets/base",
            "top": null,
            "grid_column": null,
            "overflow_y": null,
            "overflow_x": null,
            "grid_auto_flow": null,
            "grid_area": null,
            "grid_template_columns": null,
            "flex": null,
            "_model_name": "LayoutModel",
            "justify_items": null,
            "grid_row": null,
            "max_height": null,
            "align_content": null,
            "visibility": null,
            "align_self": null,
            "height": null,
            "min_height": null,
            "padding": null,
            "grid_auto_rows": null,
            "grid_gap": null,
            "max_width": null,
            "order": null,
            "_view_module_version": "1.2.0",
            "grid_template_areas": null,
            "object_position": null,
            "object_fit": null,
            "grid_auto_columns": null,
            "margin": null,
            "display": null,
            "left": null
          }
        },
        "a2acb6194d79442d901e751679818705": {
          "model_module": "@jupyter-widgets/controls",
          "model_name": "TabModel",
          "model_module_version": "1.5.0",
          "state": {
            "_view_name": "TabView",
            "_dom_classes": [],
            "_titles": {
              "0": "Youtube",
              "1": "Bilibili"
            },
            "_model_name": "TabModel",
            "_view_module": "@jupyter-widgets/controls",
            "selected_index": 0,
            "_model_module_version": "1.5.0",
            "_view_count": null,
            "_view_module_version": "1.5.0",
            "box_style": "",
            "layout": "IPY_MODEL_2f3a958933ba4ef69ddf2929e3fb7b04",
            "_model_module": "@jupyter-widgets/controls",
            "children": [
              "IPY_MODEL_5ea913b6a2654356ada8c50cf0e35778",
              "IPY_MODEL_6caeeb4d5dcb452bbc2fe98a6588f272"
            ]
          }
        },
        "2f3a958933ba4ef69ddf2929e3fb7b04": {
          "model_module": "@jupyter-widgets/base",
          "model_name": "LayoutModel",
          "model_module_version": "1.2.0",
          "state": {
            "_view_name": "LayoutView",
            "grid_template_rows": null,
            "right": null,
            "justify_content": null,
            "_view_module": "@jupyter-widgets/base",
            "overflow": null,
            "_model_module_version": "1.2.0",
            "_view_count": null,
            "flex_flow": null,
            "width": null,
            "min_width": null,
            "border": null,
            "align_items": null,
            "bottom": null,
            "_model_module": "@jupyter-widgets/base",
            "top": null,
            "grid_column": null,
            "overflow_y": null,
            "overflow_x": null,
            "grid_auto_flow": null,
            "grid_area": null,
            "grid_template_columns": null,
            "flex": null,
            "_model_name": "LayoutModel",
            "justify_items": null,
            "grid_row": null,
            "max_height": null,
            "align_content": null,
            "visibility": null,
            "align_self": null,
            "height": null,
            "min_height": null,
            "padding": null,
            "grid_auto_rows": null,
            "grid_gap": null,
            "max_width": null,
            "order": null,
            "_view_module_version": "1.2.0",
            "grid_template_areas": null,
            "object_position": null,
            "object_fit": null,
            "grid_auto_columns": null,
            "margin": null,
            "display": null,
            "left": null
          }
        },
        "5ea913b6a2654356ada8c50cf0e35778": {
          "model_module": "@jupyter-widgets/output",
          "model_name": "OutputModel",
          "model_module_version": "1.0.0",
          "state": {
            "_view_name": "OutputView",
            "msg_id": "",
            "_dom_classes": [],
            "_model_name": "OutputModel",
            "outputs": [
              {
                "output_type": "stream",
                "name": "stdout",
                "text": [
                  "Video available at https://youtube.com/watch?v=Iqqz2_USUGs\n"
                ]
              },
              {
                "output_type": "display_data",
                "data": {
                  "text/html": "\n        <iframe\n            width=\"854\"\n            height=\"480\"\n            src=\"https://www.youtube.com/embed/Iqqz2_USUGs?fs=1&rel=0\"\n            frameborder=\"0\"\n            allowfullscreen\n        ></iframe>\n        ",
                  "text/plain": "<IPython.lib.display.YouTubeVideo at 0x7fe8e5b45ed0>",
                  "image/jpeg": "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\n"
                },
                "metadata": {}
              }
            ],
            "_view_module": "@jupyter-widgets/output",
            "_model_module_version": "1.0.0",
            "_view_count": null,
            "_view_module_version": "1.0.0",
            "layout": "IPY_MODEL_3aba788905df4ce385b9de72bd3990eb",
            "_model_module": "@jupyter-widgets/output"
          }
        },
        "6caeeb4d5dcb452bbc2fe98a6588f272": {
          "model_module": "@jupyter-widgets/output",
          "model_name": "OutputModel",
          "model_module_version": "1.0.0",
          "state": {
            "_view_name": "OutputView",
            "msg_id": "",
            "_dom_classes": [],
            "_model_name": "OutputModel",
            "outputs": [
              {
                "output_type": "stream",
                "name": "stdout",
                "text": [
                  "Video available at https://www.bilibili.com/video/BV1aL411J7SE\n"
                ]
              },
              {
                "output_type": "display_data",
                "data": {
                  "text/html": "\n        <iframe\n            width=\"854\"\n            height=\"480\"\n            src=\"https://player.bilibili.com/player.html?bvid=BV1aL411J7SE&page=1?fs=1\"\n            frameborder=\"0\"\n            allowfullscreen\n        ></iframe>\n        ",
                  "text/plain": "<__main__.BiliVideo at 0x7fe8e5b45cd0>"
                },
                "metadata": {}
              }
            ],
            "_view_module": "@jupyter-widgets/output",
            "_model_module_version": "1.0.0",
            "_view_count": null,
            "_view_module_version": "1.0.0",
            "layout": "IPY_MODEL_d11c4d37e7254f358b8b7a224f562bb7",
            "_model_module": "@jupyter-widgets/output"
          }
        },
        "3aba788905df4ce385b9de72bd3990eb": {
          "model_module": "@jupyter-widgets/base",
          "model_name": "LayoutModel",
          "model_module_version": "1.2.0",
          "state": {
            "_view_name": "LayoutView",
            "grid_template_rows": null,
            "right": null,
            "justify_content": null,
            "_view_module": "@jupyter-widgets/base",
            "overflow": null,
            "_model_module_version": "1.2.0",
            "_view_count": null,
            "flex_flow": null,
            "width": null,
            "min_width": null,
            "border": null,
            "align_items": null,
            "bottom": null,
            "_model_module": "@jupyter-widgets/base",
            "top": null,
            "grid_column": null,
            "overflow_y": null,
            "overflow_x": null,
            "grid_auto_flow": null,
            "grid_area": null,
            "grid_template_columns": null,
            "flex": null,
            "_model_name": "LayoutModel",
            "justify_items": null,
            "grid_row": null,
            "max_height": null,
            "align_content": null,
            "visibility": null,
            "align_self": null,
            "height": null,
            "min_height": null,
            "padding": null,
            "grid_auto_rows": null,
            "grid_gap": null,
            "max_width": null,
            "order": null,
            "_view_module_version": "1.2.0",
            "grid_template_areas": null,
            "object_position": null,
            "object_fit": null,
            "grid_auto_columns": null,
            "margin": null,
            "display": null,
            "left": null
          }
        },
        "d11c4d37e7254f358b8b7a224f562bb7": {
          "model_module": "@jupyter-widgets/base",
          "model_name": "LayoutModel",
          "model_module_version": "1.2.0",
          "state": {
            "_view_name": "LayoutView",
            "grid_template_rows": null,
            "right": null,
            "justify_content": null,
            "_view_module": "@jupyter-widgets/base",
            "overflow": null,
            "_model_module_version": "1.2.0",
            "_view_count": null,
            "flex_flow": null,
            "width": null,
            "min_width": null,
            "border": null,
            "align_items": null,
            "bottom": null,
            "_model_module": "@jupyter-widgets/base",
            "top": null,
            "grid_column": null,
            "overflow_y": null,
            "overflow_x": null,
            "grid_auto_flow": null,
            "grid_area": null,
            "grid_template_columns": null,
            "flex": null,
            "_model_name": "LayoutModel",
            "justify_items": null,
            "grid_row": null,
            "max_height": null,
            "align_content": null,
            "visibility": null,
            "align_self": null,
            "height": null,
            "min_height": null,
            "padding": null,
            "grid_auto_rows": null,
            "grid_gap": null,
            "max_width": null,
            "order": null,
            "_view_module_version": "1.2.0",
            "grid_template_areas": null,
            "object_position": null,
            "object_fit": null,
            "grid_auto_columns": null,
            "margin": null,
            "display": null,
            "left": null
          }
        },
        "b7f8f32ea5ce435dbaa89588b75f65c3": {
          "model_module": "@jupyter-widgets/controls",
          "model_name": "TextareaModel",
          "model_module_version": "1.5.0",
          "state": {
            "_view_name": "TextareaView",
            "style": "IPY_MODEL_318acfd5898944a192c08f934238b42e",
            "rows": null,
            "_dom_classes": [],
            "description": "",
            "_model_name": "TextareaModel",
            "placeholder": "Type something",
            "_view_module": "@jupyter-widgets/controls",
            "_model_module_version": "1.5.0",
            "value": "Type your answer here and click on `Submit!`",
            "_view_count": null,
            "disabled": false,
            "_view_module_version": "1.5.0",
            "continuous_update": true,
            "description_tooltip": null,
            "_model_module": "@jupyter-widgets/controls",
            "layout": "IPY_MODEL_0e2b96d775904c63b2de03646e5f6123"
          }
        },
        "318acfd5898944a192c08f934238b42e": {
          "model_module": "@jupyter-widgets/controls",
          "model_name": "DescriptionStyleModel",
          "model_module_version": "1.5.0",
          "state": {
            "_view_name": "StyleView",
            "_model_name": "DescriptionStyleModel",
            "description_width": "",
            "_view_module": "@jupyter-widgets/base",
            "_model_module_version": "1.5.0",
            "_view_count": null,
            "_view_module_version": "1.2.0",
            "_model_module": "@jupyter-widgets/controls"
          }
        },
        "0e2b96d775904c63b2de03646e5f6123": {
          "model_module": "@jupyter-widgets/base",
          "model_name": "LayoutModel",
          "model_module_version": "1.2.0",
          "state": {
            "_view_name": "LayoutView",
            "grid_template_rows": null,
            "right": null,
            "justify_content": null,
            "_view_module": "@jupyter-widgets/base",
            "overflow": null,
            "_model_module_version": "1.2.0",
            "_view_count": null,
            "flex_flow": null,
            "width": null,
            "min_width": null,
            "border": null,
            "align_items": null,
            "bottom": null,
            "_model_module": "@jupyter-widgets/base",
            "top": null,
            "grid_column": null,
            "overflow_y": null,
            "overflow_x": null,
            "grid_auto_flow": null,
            "grid_area": null,
            "grid_template_columns": null,
            "flex": null,
            "_model_name": "LayoutModel",
            "justify_items": null,
            "grid_row": null,
            "max_height": null,
            "align_content": null,
            "visibility": null,
            "align_self": null,
            "height": null,
            "min_height": null,
            "padding": null,
            "grid_auto_rows": null,
            "grid_gap": null,
            "max_width": null,
            "order": null,
            "_view_module_version": "1.2.0",
            "grid_template_areas": null,
            "object_position": null,
            "object_fit": null,
            "grid_auto_columns": null,
            "margin": null,
            "display": null,
            "left": null
          }
        },
        "0eaabf1d00d644e389b96375829cbec2": {
          "model_module": "@jupyter-widgets/controls",
          "model_name": "ButtonModel",
          "model_module_version": "1.5.0",
          "state": {
            "_view_name": "ButtonView",
            "style": "IPY_MODEL_7acca460324846eea9f8799ca1618f46",
            "_dom_classes": [],
            "description": "Submit!",
            "_model_name": "ButtonModel",
            "button_style": "",
            "_view_module": "@jupyter-widgets/controls",
            "_model_module_version": "1.5.0",
            "tooltip": "",
            "_view_count": null,
            "disabled": false,
            "_view_module_version": "1.5.0",
            "layout": "IPY_MODEL_671ade51f7e842adbdce9aa2b216a990",
            "_model_module": "@jupyter-widgets/controls",
            "icon": ""
          }
        },
        "7acca460324846eea9f8799ca1618f46": {
          "model_module": "@jupyter-widgets/controls",
          "model_name": "ButtonStyleModel",
          "model_module_version": "1.5.0",
          "state": {
            "_view_name": "StyleView",
            "_model_name": "ButtonStyleModel",
            "_view_module": "@jupyter-widgets/base",
            "_model_module_version": "1.5.0",
            "_view_count": null,
            "button_color": null,
            "font_weight": "",
            "_view_module_version": "1.2.0",
            "_model_module": "@jupyter-widgets/controls"
          }
        },
        "671ade51f7e842adbdce9aa2b216a990": {
          "model_module": "@jupyter-widgets/base",
          "model_name": "LayoutModel",
          "model_module_version": "1.2.0",
          "state": {
            "_view_name": "LayoutView",
            "grid_template_rows": null,
            "right": null,
            "justify_content": null,
            "_view_module": "@jupyter-widgets/base",
            "overflow": null,
            "_model_module_version": "1.2.0",
            "_view_count": null,
            "flex_flow": null,
            "width": null,
            "min_width": null,
            "border": null,
            "align_items": null,
            "bottom": null,
            "_model_module": "@jupyter-widgets/base",
            "top": null,
            "grid_column": null,
            "overflow_y": null,
            "overflow_x": null,
            "grid_auto_flow": null,
            "grid_area": null,
            "grid_template_columns": null,
            "flex": null,
            "_model_name": "LayoutModel",
            "justify_items": null,
            "grid_row": null,
            "max_height": null,
            "align_content": null,
            "visibility": null,
            "align_self": null,
            "height": null,
            "min_height": null,
            "padding": null,
            "grid_auto_rows": null,
            "grid_gap": null,
            "max_width": null,
            "order": null,
            "_view_module_version": "1.2.0",
            "grid_template_areas": null,
            "object_position": null,
            "object_fit": null,
            "grid_auto_columns": null,
            "margin": null,
            "display": null,
            "left": null
          }
        },
        "2a4a766f893245bd85f95c5f47bee125": {
          "model_module": "@jupyter-widgets/controls",
          "model_name": "TabModel",
          "model_module_version": "1.5.0",
          "state": {
            "_view_name": "TabView",
            "_dom_classes": [],
            "_titles": {
              "0": "Youtube",
              "1": "Bilibili"
            },
            "_model_name": "TabModel",
            "_view_module": "@jupyter-widgets/controls",
            "selected_index": 0,
            "_model_module_version": "1.5.0",
            "_view_count": null,
            "_view_module_version": "1.5.0",
            "box_style": "",
            "layout": "IPY_MODEL_a4f3e90a63334bd29e5089dc8bfe3aa2",
            "_model_module": "@jupyter-widgets/controls",
            "children": [
              "IPY_MODEL_13ab8b106308439f9d9c3ffdf0c7f5b1",
              "IPY_MODEL_b064bba6cec647cdab0838ec2a03e74b"
            ]
          }
        },
        "a4f3e90a63334bd29e5089dc8bfe3aa2": {
          "model_module": "@jupyter-widgets/base",
          "model_name": "LayoutModel",
          "model_module_version": "1.2.0",
          "state": {
            "_view_name": "LayoutView",
            "grid_template_rows": null,
            "right": null,
            "justify_content": null,
            "_view_module": "@jupyter-widgets/base",
            "overflow": null,
            "_model_module_version": "1.2.0",
            "_view_count": null,
            "flex_flow": null,
            "width": null,
            "min_width": null,
            "border": null,
            "align_items": null,
            "bottom": null,
            "_model_module": "@jupyter-widgets/base",
            "top": null,
            "grid_column": null,
            "overflow_y": null,
            "overflow_x": null,
            "grid_auto_flow": null,
            "grid_area": null,
            "grid_template_columns": null,
            "flex": null,
            "_model_name": "LayoutModel",
            "justify_items": null,
            "grid_row": null,
            "max_height": null,
            "align_content": null,
            "visibility": null,
            "align_self": null,
            "height": null,
            "min_height": null,
            "padding": null,
            "grid_auto_rows": null,
            "grid_gap": null,
            "max_width": null,
            "order": null,
            "_view_module_version": "1.2.0",
            "grid_template_areas": null,
            "object_position": null,
            "object_fit": null,
            "grid_auto_columns": null,
            "margin": null,
            "display": null,
            "left": null
          }
        },
        "13ab8b106308439f9d9c3ffdf0c7f5b1": {
          "model_module": "@jupyter-widgets/output",
          "model_name": "OutputModel",
          "model_module_version": "1.0.0",
          "state": {
            "_view_name": "OutputView",
            "msg_id": "",
            "_dom_classes": [],
            "_model_name": "OutputModel",
            "outputs": [
              {
                "output_type": "stream",
                "name": "stdout",
                "text": [
                  "Video available at https://youtube.com/watch?v=fmU2UM_QzLo\n"
                ]
              },
              {
                "output_type": "display_data",
                "data": {
                  "text/html": "\n        <iframe\n            width=\"854\"\n            height=\"480\"\n            src=\"https://www.youtube.com/embed/fmU2UM_QzLo?fs=1&rel=0\"\n            frameborder=\"0\"\n            allowfullscreen\n        ></iframe>\n        ",
                  "text/plain": "<IPython.lib.display.YouTubeVideo at 0x7fe8e5b7ea10>",
                  "image/jpeg": "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\n"
                },
                "metadata": {}
              }
            ],
            "_view_module": "@jupyter-widgets/output",
            "_model_module_version": "1.0.0",
            "_view_count": null,
            "_view_module_version": "1.0.0",
            "layout": "IPY_MODEL_f5f3fe83407f436f95b7e320c2b2956e",
            "_model_module": "@jupyter-widgets/output"
          }
        },
        "b064bba6cec647cdab0838ec2a03e74b": {
          "model_module": "@jupyter-widgets/output",
          "model_name": "OutputModel",
          "model_module_version": "1.0.0",
          "state": {
            "_view_name": "OutputView",
            "msg_id": "",
            "_dom_classes": [],
            "_model_name": "OutputModel",
            "outputs": [
              {
                "output_type": "stream",
                "name": "stdout",
                "text": [
                  "Video available at https://www.bilibili.com/video/BV17M4y1L7w9\n"
                ]
              },
              {
                "output_type": "display_data",
                "data": {
                  "text/html": "\n        <iframe\n            width=\"854\"\n            height=\"480\"\n            src=\"https://player.bilibili.com/player.html?bvid=BV17M4y1L7w9&page=1?fs=1\"\n            frameborder=\"0\"\n            allowfullscreen\n        ></iframe>\n        ",
                  "text/plain": "<__main__.BiliVideo at 0x7fe8e430a590>"
                },
                "metadata": {}
              }
            ],
            "_view_module": "@jupyter-widgets/output",
            "_model_module_version": "1.0.0",
            "_view_count": null,
            "_view_module_version": "1.0.0",
            "layout": "IPY_MODEL_368e220947d245e9985999549d8c3f48",
            "_model_module": "@jupyter-widgets/output"
          }
        },
        "f5f3fe83407f436f95b7e320c2b2956e": {
          "model_module": "@jupyter-widgets/base",
          "model_name": "LayoutModel",
          "model_module_version": "1.2.0",
          "state": {
            "_view_name": "LayoutView",
            "grid_template_rows": null,
            "right": null,
            "justify_content": null,
            "_view_module": "@jupyter-widgets/base",
            "overflow": null,
            "_model_module_version": "1.2.0",
            "_view_count": null,
            "flex_flow": null,
            "width": null,
            "min_width": null,
            "border": null,
            "align_items": null,
            "bottom": null,
            "_model_module": "@jupyter-widgets/base",
            "top": null,
            "grid_column": null,
            "overflow_y": null,
            "overflow_x": null,
            "grid_auto_flow": null,
            "grid_area": null,
            "grid_template_columns": null,
            "flex": null,
            "_model_name": "LayoutModel",
            "justify_items": null,
            "grid_row": null,
            "max_height": null,
            "align_content": null,
            "visibility": null,
            "align_self": null,
            "height": null,
            "min_height": null,
            "padding": null,
            "grid_auto_rows": null,
            "grid_gap": null,
            "max_width": null,
            "order": null,
            "_view_module_version": "1.2.0",
            "grid_template_areas": null,
            "object_position": null,
            "object_fit": null,
            "grid_auto_columns": null,
            "margin": null,
            "display": null,
            "left": null
          }
        },
        "368e220947d245e9985999549d8c3f48": {
          "model_module": "@jupyter-widgets/base",
          "model_name": "LayoutModel",
          "model_module_version": "1.2.0",
          "state": {
            "_view_name": "LayoutView",
            "grid_template_rows": null,
            "right": null,
            "justify_content": null,
            "_view_module": "@jupyter-widgets/base",
            "overflow": null,
            "_model_module_version": "1.2.0",
            "_view_count": null,
            "flex_flow": null,
            "width": null,
            "min_width": null,
            "border": null,
            "align_items": null,
            "bottom": null,
            "_model_module": "@jupyter-widgets/base",
            "top": null,
            "grid_column": null,
            "overflow_y": null,
            "overflow_x": null,
            "grid_auto_flow": null,
            "grid_area": null,
            "grid_template_columns": null,
            "flex": null,
            "_model_name": "LayoutModel",
            "justify_items": null,
            "grid_row": null,
            "max_height": null,
            "align_content": null,
            "visibility": null,
            "align_self": null,
            "height": null,
            "min_height": null,
            "padding": null,
            "grid_auto_rows": null,
            "grid_gap": null,
            "max_width": null,
            "order": null,
            "_view_module_version": "1.2.0",
            "grid_template_areas": null,
            "object_position": null,
            "object_fit": null,
            "grid_auto_columns": null,
            "margin": null,
            "display": null,
            "left": null
          }
        }
      }
    }
  },
  "nbformat": 4,
  "nbformat_minor": 0
}