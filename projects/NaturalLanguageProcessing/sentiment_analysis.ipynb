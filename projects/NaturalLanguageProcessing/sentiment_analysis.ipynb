{
  "nbformat": 4,
  "nbformat_minor": 0,
  "metadata": {
    "colab": {
      "name": "sentiment_analysis.ipynb",
      "provenance": [],
      "collapsed_sections": [],
      "machine_shape": "hm"
    },
    "kernelspec": {
      "name": "python3",
      "display_name": "Python 3"
    },
    "language_info": {
      "name": "python"
    },
    "widgets": {
      "application/vnd.jupyter.widget-state+json": {
        "2ee9abc6ca4d4249a3facc7718d3d04f": {
          "model_module": "@jupyter-widgets/controls",
          "model_name": "HBoxModel",
          "state": {
            "_view_name": "HBoxView",
            "_dom_classes": [],
            "_model_name": "HBoxModel",
            "_view_module": "@jupyter-widgets/controls",
            "_model_module_version": "1.5.0",
            "_view_count": null,
            "_view_module_version": "1.5.0",
            "box_style": "",
            "layout": "IPY_MODEL_7839e0159ec9413daeea3446340c0357",
            "_model_module": "@jupyter-widgets/controls",
            "children": [
              "IPY_MODEL_81fbcd9c45db4d6fbabb562f13f07424",
              "IPY_MODEL_7660d8935f714ef586c9df624a928ab7"
            ]
          }
        },
        "7839e0159ec9413daeea3446340c0357": {
          "model_module": "@jupyter-widgets/base",
          "model_name": "LayoutModel",
          "state": {
            "_view_name": "LayoutView",
            "grid_template_rows": null,
            "right": null,
            "justify_content": null,
            "_view_module": "@jupyter-widgets/base",
            "overflow": null,
            "_model_module_version": "1.2.0",
            "_view_count": null,
            "flex_flow": null,
            "width": null,
            "min_width": null,
            "border": null,
            "align_items": null,
            "bottom": null,
            "_model_module": "@jupyter-widgets/base",
            "top": null,
            "grid_column": null,
            "overflow_y": null,
            "overflow_x": null,
            "grid_auto_flow": null,
            "grid_area": null,
            "grid_template_columns": null,
            "flex": null,
            "_model_name": "LayoutModel",
            "justify_items": null,
            "grid_row": null,
            "max_height": null,
            "align_content": null,
            "visibility": null,
            "align_self": null,
            "height": null,
            "min_height": null,
            "padding": null,
            "grid_auto_rows": null,
            "grid_gap": null,
            "max_width": null,
            "order": null,
            "_view_module_version": "1.2.0",
            "grid_template_areas": null,
            "object_position": null,
            "object_fit": null,
            "grid_auto_columns": null,
            "margin": null,
            "display": null,
            "left": null
          }
        },
        "81fbcd9c45db4d6fbabb562f13f07424": {
          "model_module": "@jupyter-widgets/controls",
          "model_name": "FloatProgressModel",
          "state": {
            "_view_name": "ProgressView",
            "style": "IPY_MODEL_413a979d16e34a75b9bda68c25896e8b",
            "_dom_classes": [],
            "description": "100%",
            "_model_name": "FloatProgressModel",
            "bar_style": "success",
            "max": 1280000,
            "_view_module": "@jupyter-widgets/controls",
            "_model_module_version": "1.5.0",
            "value": 1280000,
            "_view_count": null,
            "_view_module_version": "1.5.0",
            "orientation": "horizontal",
            "min": 0,
            "description_tooltip": null,
            "_model_module": "@jupyter-widgets/controls",
            "layout": "IPY_MODEL_d67d51a0bd434e3d9f43575a782df7dd"
          }
        },
        "7660d8935f714ef586c9df624a928ab7": {
          "model_module": "@jupyter-widgets/controls",
          "model_name": "HTMLModel",
          "state": {
            "_view_name": "HTMLView",
            "style": "IPY_MODEL_8085f4e6526240cab8b90408f08be0d6",
            "_dom_classes": [],
            "description": "",
            "_model_name": "HTMLModel",
            "placeholder": "​",
            "_view_module": "@jupyter-widgets/controls",
            "_model_module_version": "1.5.0",
            "value": " 1280000/1280000 [00:20&lt;00:00, 61729.52it/s]",
            "_view_count": null,
            "_view_module_version": "1.5.0",
            "description_tooltip": null,
            "_model_module": "@jupyter-widgets/controls",
            "layout": "IPY_MODEL_4b1fe4bc264442338c0fcb98d5abac48"
          }
        },
        "413a979d16e34a75b9bda68c25896e8b": {
          "model_module": "@jupyter-widgets/controls",
          "model_name": "ProgressStyleModel",
          "state": {
            "_view_name": "StyleView",
            "_model_name": "ProgressStyleModel",
            "description_width": "initial",
            "_view_module": "@jupyter-widgets/base",
            "_model_module_version": "1.5.0",
            "_view_count": null,
            "_view_module_version": "1.2.0",
            "bar_color": null,
            "_model_module": "@jupyter-widgets/controls"
          }
        },
        "d67d51a0bd434e3d9f43575a782df7dd": {
          "model_module": "@jupyter-widgets/base",
          "model_name": "LayoutModel",
          "state": {
            "_view_name": "LayoutView",
            "grid_template_rows": null,
            "right": null,
            "justify_content": null,
            "_view_module": "@jupyter-widgets/base",
            "overflow": null,
            "_model_module_version": "1.2.0",
            "_view_count": null,
            "flex_flow": null,
            "width": null,
            "min_width": null,
            "border": null,
            "align_items": null,
            "bottom": null,
            "_model_module": "@jupyter-widgets/base",
            "top": null,
            "grid_column": null,
            "overflow_y": null,
            "overflow_x": null,
            "grid_auto_flow": null,
            "grid_area": null,
            "grid_template_columns": null,
            "flex": null,
            "_model_name": "LayoutModel",
            "justify_items": null,
            "grid_row": null,
            "max_height": null,
            "align_content": null,
            "visibility": null,
            "align_self": null,
            "height": null,
            "min_height": null,
            "padding": null,
            "grid_auto_rows": null,
            "grid_gap": null,
            "max_width": null,
            "order": null,
            "_view_module_version": "1.2.0",
            "grid_template_areas": null,
            "object_position": null,
            "object_fit": null,
            "grid_auto_columns": null,
            "margin": null,
            "display": null,
            "left": null
          }
        },
        "8085f4e6526240cab8b90408f08be0d6": {
          "model_module": "@jupyter-widgets/controls",
          "model_name": "DescriptionStyleModel",
          "state": {
            "_view_name": "StyleView",
            "_model_name": "DescriptionStyleModel",
            "description_width": "",
            "_view_module": "@jupyter-widgets/base",
            "_model_module_version": "1.5.0",
            "_view_count": null,
            "_view_module_version": "1.2.0",
            "_model_module": "@jupyter-widgets/controls"
          }
        },
        "4b1fe4bc264442338c0fcb98d5abac48": {
          "model_module": "@jupyter-widgets/base",
          "model_name": "LayoutModel",
          "state": {
            "_view_name": "LayoutView",
            "grid_template_rows": null,
            "right": null,
            "justify_content": null,
            "_view_module": "@jupyter-widgets/base",
            "overflow": null,
            "_model_module_version": "1.2.0",
            "_view_count": null,
            "flex_flow": null,
            "width": null,
            "min_width": null,
            "border": null,
            "align_items": null,
            "bottom": null,
            "_model_module": "@jupyter-widgets/base",
            "top": null,
            "grid_column": null,
            "overflow_y": null,
            "overflow_x": null,
            "grid_auto_flow": null,
            "grid_area": null,
            "grid_template_columns": null,
            "flex": null,
            "_model_name": "LayoutModel",
            "justify_items": null,
            "grid_row": null,
            "max_height": null,
            "align_content": null,
            "visibility": null,
            "align_self": null,
            "height": null,
            "min_height": null,
            "padding": null,
            "grid_auto_rows": null,
            "grid_gap": null,
            "max_width": null,
            "order": null,
            "_view_module_version": "1.2.0",
            "grid_template_areas": null,
            "object_position": null,
            "object_fit": null,
            "grid_auto_columns": null,
            "margin": null,
            "display": null,
            "left": null
          }
        },
        "15bfdfef2c83469b85abcaa4bf6a2c1f": {
          "model_module": "@jupyter-widgets/controls",
          "model_name": "HBoxModel",
          "state": {
            "_view_name": "HBoxView",
            "_dom_classes": [],
            "_model_name": "HBoxModel",
            "_view_module": "@jupyter-widgets/controls",
            "_model_module_version": "1.5.0",
            "_view_count": null,
            "_view_module_version": "1.5.0",
            "box_style": "",
            "layout": "IPY_MODEL_5fcb2e2d4f2e4494b0b5cf9f1de51576",
            "_model_module": "@jupyter-widgets/controls",
            "children": [
              "IPY_MODEL_0a3b1bd95dc146bca2d6d2922ec96309",
              "IPY_MODEL_015fa017b3424ed2a39f78510e1aa277"
            ]
          }
        },
        "5fcb2e2d4f2e4494b0b5cf9f1de51576": {
          "model_module": "@jupyter-widgets/base",
          "model_name": "LayoutModel",
          "state": {
            "_view_name": "LayoutView",
            "grid_template_rows": null,
            "right": null,
            "justify_content": null,
            "_view_module": "@jupyter-widgets/base",
            "overflow": null,
            "_model_module_version": "1.2.0",
            "_view_count": null,
            "flex_flow": null,
            "width": null,
            "min_width": null,
            "border": null,
            "align_items": null,
            "bottom": null,
            "_model_module": "@jupyter-widgets/base",
            "top": null,
            "grid_column": null,
            "overflow_y": null,
            "overflow_x": null,
            "grid_auto_flow": null,
            "grid_area": null,
            "grid_template_columns": null,
            "flex": null,
            "_model_name": "LayoutModel",
            "justify_items": null,
            "grid_row": null,
            "max_height": null,
            "align_content": null,
            "visibility": null,
            "align_self": null,
            "height": null,
            "min_height": null,
            "padding": null,
            "grid_auto_rows": null,
            "grid_gap": null,
            "max_width": null,
            "order": null,
            "_view_module_version": "1.2.0",
            "grid_template_areas": null,
            "object_position": null,
            "object_fit": null,
            "grid_auto_columns": null,
            "margin": null,
            "display": null,
            "left": null
          }
        },
        "0a3b1bd95dc146bca2d6d2922ec96309": {
          "model_module": "@jupyter-widgets/controls",
          "model_name": "FloatProgressModel",
          "state": {
            "_view_name": "ProgressView",
            "style": "IPY_MODEL_2f510ad929fd4c84903e79406999fe62",
            "_dom_classes": [],
            "description": "100%",
            "_model_name": "FloatProgressModel",
            "bar_style": "success",
            "max": 320000,
            "_view_module": "@jupyter-widgets/controls",
            "_model_module_version": "1.5.0",
            "value": 320000,
            "_view_count": null,
            "_view_module_version": "1.5.0",
            "orientation": "horizontal",
            "min": 0,
            "description_tooltip": null,
            "_model_module": "@jupyter-widgets/controls",
            "layout": "IPY_MODEL_47731015ee32431fb03e782e16ad5179"
          }
        },
        "015fa017b3424ed2a39f78510e1aa277": {
          "model_module": "@jupyter-widgets/controls",
          "model_name": "HTMLModel",
          "state": {
            "_view_name": "HTMLView",
            "style": "IPY_MODEL_0cb4bc425fd843e8af137dbd70397d6b",
            "_dom_classes": [],
            "description": "",
            "_model_name": "HTMLModel",
            "placeholder": "​",
            "_view_module": "@jupyter-widgets/controls",
            "_model_module_version": "1.5.0",
            "value": " 320000/320000 [31:02&lt;00:00, 171.84it/s]",
            "_view_count": null,
            "_view_module_version": "1.5.0",
            "description_tooltip": null,
            "_model_module": "@jupyter-widgets/controls",
            "layout": "IPY_MODEL_36661ddd408c4ad7b128aa1cc8497f07"
          }
        },
        "2f510ad929fd4c84903e79406999fe62": {
          "model_module": "@jupyter-widgets/controls",
          "model_name": "ProgressStyleModel",
          "state": {
            "_view_name": "StyleView",
            "_model_name": "ProgressStyleModel",
            "description_width": "initial",
            "_view_module": "@jupyter-widgets/base",
            "_model_module_version": "1.5.0",
            "_view_count": null,
            "_view_module_version": "1.2.0",
            "bar_color": null,
            "_model_module": "@jupyter-widgets/controls"
          }
        },
        "47731015ee32431fb03e782e16ad5179": {
          "model_module": "@jupyter-widgets/base",
          "model_name": "LayoutModel",
          "state": {
            "_view_name": "LayoutView",
            "grid_template_rows": null,
            "right": null,
            "justify_content": null,
            "_view_module": "@jupyter-widgets/base",
            "overflow": null,
            "_model_module_version": "1.2.0",
            "_view_count": null,
            "flex_flow": null,
            "width": null,
            "min_width": null,
            "border": null,
            "align_items": null,
            "bottom": null,
            "_model_module": "@jupyter-widgets/base",
            "top": null,
            "grid_column": null,
            "overflow_y": null,
            "overflow_x": null,
            "grid_auto_flow": null,
            "grid_area": null,
            "grid_template_columns": null,
            "flex": null,
            "_model_name": "LayoutModel",
            "justify_items": null,
            "grid_row": null,
            "max_height": null,
            "align_content": null,
            "visibility": null,
            "align_self": null,
            "height": null,
            "min_height": null,
            "padding": null,
            "grid_auto_rows": null,
            "grid_gap": null,
            "max_width": null,
            "order": null,
            "_view_module_version": "1.2.0",
            "grid_template_areas": null,
            "object_position": null,
            "object_fit": null,
            "grid_auto_columns": null,
            "margin": null,
            "display": null,
            "left": null
          }
        },
        "0cb4bc425fd843e8af137dbd70397d6b": {
          "model_module": "@jupyter-widgets/controls",
          "model_name": "DescriptionStyleModel",
          "state": {
            "_view_name": "StyleView",
            "_model_name": "DescriptionStyleModel",
            "description_width": "",
            "_view_module": "@jupyter-widgets/base",
            "_model_module_version": "1.5.0",
            "_view_count": null,
            "_view_module_version": "1.2.0",
            "_model_module": "@jupyter-widgets/controls"
          }
        },
        "36661ddd408c4ad7b128aa1cc8497f07": {
          "model_module": "@jupyter-widgets/base",
          "model_name": "LayoutModel",
          "state": {
            "_view_name": "LayoutView",
            "grid_template_rows": null,
            "right": null,
            "justify_content": null,
            "_view_module": "@jupyter-widgets/base",
            "overflow": null,
            "_model_module_version": "1.2.0",
            "_view_count": null,
            "flex_flow": null,
            "width": null,
            "min_width": null,
            "border": null,
            "align_items": null,
            "bottom": null,
            "_model_module": "@jupyter-widgets/base",
            "top": null,
            "grid_column": null,
            "overflow_y": null,
            "overflow_x": null,
            "grid_auto_flow": null,
            "grid_area": null,
            "grid_template_columns": null,
            "flex": null,
            "_model_name": "LayoutModel",
            "justify_items": null,
            "grid_row": null,
            "max_height": null,
            "align_content": null,
            "visibility": null,
            "align_self": null,
            "height": null,
            "min_height": null,
            "padding": null,
            "grid_auto_rows": null,
            "grid_gap": null,
            "max_width": null,
            "order": null,
            "_view_module_version": "1.2.0",
            "grid_template_areas": null,
            "object_position": null,
            "object_fit": null,
            "grid_auto_columns": null,
            "margin": null,
            "display": null,
            "left": null
          }
        }
      }
    },
    "accelerator": "GPU"
  },
  "cells": [
    {
      "cell_type": "markdown",
      "metadata": {
        "id": "ca_6w0MZ2C76"
      },
      "source": [
        "#Twitter Sentiment Analysis\n",
        "\n",
        "**By Neuromatch Academy**\n",
        "\n",
        "__Content creators:__  Juan Manuel Rodriguez, Salomey Osei, Gonzalo Uribarri\n",
        "\n",
        "**Our 2021 Sponsors, including Presenting Sponsor Facebook Reality Labs**\n",
        "\n",
        "<p align='center'><img src='https://github.com/NeuromatchAcademy/widgets/blob/master/sponsors.png?raw=True'/></p>\n",
        "\n",
        "## Objective:\n",
        "\n",
        "Objective goes here"
      ]
    },
    {
      "cell_type": "markdown",
      "metadata": {
        "id": "lgv12ExEO-Re"
      },
      "source": [
        "# Welcome to the NLP project template\n",
        "\n",
        "![Xkcd Commit](https://imgs.xkcd.com/comics/machine_learning.png)\n",
        "\n",
        "# Step 1: Questions and goals\n",
        "\n",
        "* Can we infer emotion from a tweet text?\n",
        "* How words are distributed accross the dataset?\n",
        "* Are words related to one kind of emotion?\n",
        "\n",
        "# Step 2: Literature review\n",
        "\n",
        "[Original Dataset Paper](https://cs.stanford.edu/people/alecmgo/papers/TwitterDistantSupervision09.pdf)\n",
        "\n",
        "[Papers with code](https://paperswithcode.com/dataset/imdb-movie-reviews)"
      ]
    },
    {
      "cell_type": "markdown",
      "metadata": {
        "id": "j3MSPcueSiSN"
      },
      "source": [
        "# Step 3: Load and explore the dataset"
      ]
    },
    {
      "cell_type": "code",
      "metadata": {
        "id": "-fZ9-oUPZCnN"
      },
      "source": [
        "# We import some libraries to load the dataset\n",
        "import os\n",
        "from collections import Counter\n",
        "from sklearn.utils import shuffle\n",
        "import numpy as np\n",
        "import torchtext\n",
        "from torchtext.data import get_tokenizer\n",
        "from tqdm.notebook import tqdm\n",
        "import matplotlib.pyplot as plt\n",
        "import numpy as np\n",
        "import pandas as pd"
      ],
      "execution_count": null,
      "outputs": []
    },
    {
      "cell_type": "markdown",
      "metadata": {
        "id": "yImD1N69kBcK"
      },
      "source": [
        "You can find the dataset we are going to use in [this website](http://help.sentiment140.com/for-students/)."
      ]
    },
    {
      "cell_type": "code",
      "metadata": {
        "id": "1KCH2amLNcZH",
        "colab": {
          "base_uri": "https://localhost:8080/"
        },
        "outputId": "c0593497-a195-449a-b35e-2dd0d59b44f2"
      },
      "source": [
        "!wget http://cs.stanford.edu/people/alecmgo/trainingandtestdata.zip"
      ],
      "execution_count": null,
      "outputs": [
        {
          "output_type": "stream",
          "text": [
            "--2021-07-30 15:00:47--  http://cs.stanford.edu/people/alecmgo/trainingandtestdata.zip\n",
            "Resolving cs.stanford.edu (cs.stanford.edu)... 171.64.64.64\n",
            "Connecting to cs.stanford.edu (cs.stanford.edu)|171.64.64.64|:80... connected.\n",
            "HTTP request sent, awaiting response... 301 Moved Permanently\n",
            "Location: https://cs.stanford.edu/people/alecmgo/trainingandtestdata.zip [following]\n",
            "--2021-07-30 15:00:47--  https://cs.stanford.edu/people/alecmgo/trainingandtestdata.zip\n",
            "Connecting to cs.stanford.edu (cs.stanford.edu)|171.64.64.64|:443... connected.\n",
            "HTTP request sent, awaiting response... 200 OK\n",
            "Length: 81363704 (78M) [application/zip]\n",
            "Saving to: ‘trainingandtestdata.zip’\n",
            "\n",
            "trainingandtestdata 100%[===================>]  77.59M  34.7MB/s    in 2.2s    \n",
            "\n",
            "2021-07-30 15:00:49 (34.7 MB/s) - ‘trainingandtestdata.zip’ saved [81363704/81363704]\n",
            "\n"
          ],
          "name": "stdout"
        }
      ]
    },
    {
      "cell_type": "code",
      "metadata": {
        "colab": {
          "base_uri": "https://localhost:8080/"
        },
        "id": "pdL3R15mSw4P",
        "outputId": "2f576176-b9e1-478a-bea1-831040554c9c"
      },
      "source": [
        "!unzip trainingandtestdata.zip"
      ],
      "execution_count": null,
      "outputs": [
        {
          "output_type": "stream",
          "text": [
            "Archive:  trainingandtestdata.zip\n",
            "  inflating: testdata.manual.2009.06.14.csv  \n",
            "  inflating: training.1600000.processed.noemoticon.csv  \n"
          ],
          "name": "stdout"
        }
      ]
    },
    {
      "cell_type": "code",
      "metadata": {
        "colab": {
          "base_uri": "https://localhost:8080/",
          "height": 205
        },
        "id": "MKzdL9G-WEEx",
        "outputId": "1fe93a34-7530-4592-8c05-9365ca895548"
      },
      "source": [
        "# We load the dataset\n",
        "header_list = [\"polarity\", \"id\", \"date\", \"query\", \"user\", \"text\"]\n",
        "df = pd.read_csv('training.1600000.processed.noemoticon.csv', encoding = \"ISO-8859-1\", names = header_list)\n",
        "\n",
        "# Let's have a look at it\n",
        "df.head()"
      ],
      "execution_count": null,
      "outputs": [
        {
          "output_type": "execute_result",
          "data": {
            "text/html": [
              "<div>\n",
              "<style scoped>\n",
              "    .dataframe tbody tr th:only-of-type {\n",
              "        vertical-align: middle;\n",
              "    }\n",
              "\n",
              "    .dataframe tbody tr th {\n",
              "        vertical-align: top;\n",
              "    }\n",
              "\n",
              "    .dataframe thead th {\n",
              "        text-align: right;\n",
              "    }\n",
              "</style>\n",
              "<table border=\"1\" class=\"dataframe\">\n",
              "  <thead>\n",
              "    <tr style=\"text-align: right;\">\n",
              "      <th></th>\n",
              "      <th>polarity</th>\n",
              "      <th>id</th>\n",
              "      <th>date</th>\n",
              "      <th>query</th>\n",
              "      <th>user</th>\n",
              "      <th>text</th>\n",
              "    </tr>\n",
              "  </thead>\n",
              "  <tbody>\n",
              "    <tr>\n",
              "      <th>0</th>\n",
              "      <td>0</td>\n",
              "      <td>1467810369</td>\n",
              "      <td>Mon Apr 06 22:19:45 PDT 2009</td>\n",
              "      <td>NO_QUERY</td>\n",
              "      <td>_TheSpecialOne_</td>\n",
              "      <td>@switchfoot http://twitpic.com/2y1zl - Awww, t...</td>\n",
              "    </tr>\n",
              "    <tr>\n",
              "      <th>1</th>\n",
              "      <td>0</td>\n",
              "      <td>1467810672</td>\n",
              "      <td>Mon Apr 06 22:19:49 PDT 2009</td>\n",
              "      <td>NO_QUERY</td>\n",
              "      <td>scotthamilton</td>\n",
              "      <td>is upset that he can't update his Facebook by ...</td>\n",
              "    </tr>\n",
              "    <tr>\n",
              "      <th>2</th>\n",
              "      <td>0</td>\n",
              "      <td>1467810917</td>\n",
              "      <td>Mon Apr 06 22:19:53 PDT 2009</td>\n",
              "      <td>NO_QUERY</td>\n",
              "      <td>mattycus</td>\n",
              "      <td>@Kenichan I dived many times for the ball. Man...</td>\n",
              "    </tr>\n",
              "    <tr>\n",
              "      <th>3</th>\n",
              "      <td>0</td>\n",
              "      <td>1467811184</td>\n",
              "      <td>Mon Apr 06 22:19:57 PDT 2009</td>\n",
              "      <td>NO_QUERY</td>\n",
              "      <td>ElleCTF</td>\n",
              "      <td>my whole body feels itchy and like its on fire</td>\n",
              "    </tr>\n",
              "    <tr>\n",
              "      <th>4</th>\n",
              "      <td>0</td>\n",
              "      <td>1467811193</td>\n",
              "      <td>Mon Apr 06 22:19:57 PDT 2009</td>\n",
              "      <td>NO_QUERY</td>\n",
              "      <td>Karoli</td>\n",
              "      <td>@nationwideclass no, it's not behaving at all....</td>\n",
              "    </tr>\n",
              "  </tbody>\n",
              "</table>\n",
              "</div>"
            ],
            "text/plain": [
              "   polarity  ...                                               text\n",
              "0         0  ...  @switchfoot http://twitpic.com/2y1zl - Awww, t...\n",
              "1         0  ...  is upset that he can't update his Facebook by ...\n",
              "2         0  ...  @Kenichan I dived many times for the ball. Man...\n",
              "3         0  ...    my whole body feels itchy and like its on fire \n",
              "4         0  ...  @nationwideclass no, it's not behaving at all....\n",
              "\n",
              "[5 rows x 6 columns]"
            ]
          },
          "metadata": {
            "tags": []
          },
          "execution_count": 4
        }
      ]
    },
    {
      "cell_type": "markdown",
      "metadata": {
        "id": "JivOZOKwmQr5"
      },
      "source": [
        "For this project we will use only the text and the polarity of the tweet. Notice that polarity is 0 for negative tweets and 4 for positive tweet."
      ]
    },
    {
      "cell_type": "code",
      "metadata": {
        "id": "YYpI-sQdXRss"
      },
      "source": [
        "X = df.text.values\n",
        "\n",
        "# Changes values from [0,4] to [0,1]\n",
        "y = (df.polarity.values > 1).astype(int)\n",
        "\n",
        "\n",
        "# Split the data into train and test\n",
        "from sklearn.model_selection import train_test_split\n",
        "x_train_text, x_test_text, y_train, y_test = train_test_split(X, y, test_size=0.2, random_state=42,stratify=y)"
      ],
      "execution_count": null,
      "outputs": []
    },
    {
      "cell_type": "markdown",
      "metadata": {
        "id": "Le2EXidHSrsc"
      },
      "source": [
        "The first thing we have to do before working on the models is to familiarize ourselves with the dataset. This is called Exploratory Data Analisys (EDA)."
      ]
    },
    {
      "cell_type": "code",
      "metadata": {
        "id": "IGn5lU07SdWO",
        "colab": {
          "base_uri": "https://localhost:8080/"
        },
        "outputId": "49697f0e-541c-48f7-e017-55e7f0669490"
      },
      "source": [
        "for s, l in zip(x_train_text[:5], y_train[:5]):\n",
        "    print('{}: {}'.format(l, s))"
      ],
      "execution_count": null,
      "outputs": [
        {
          "output_type": "stream",
          "text": [
            "1: @paisleypaisley LOL why do i get ideas so far in advance? it's not even june yet! we need a third knitter to have our own summer group \n",
            "0: worst headache ever \n",
            "0: @ewaniesciuszko  i am so sad i wont see you! I miss you already. and yeah! that's perfect; i come back the 18th!\n",
            "1: doesn't know how to spell conked \n",
            "0: &quot;So we stand here now and no one knows us at all I won't get used to this I won't get used to being gone&quot;...I miss home and everyone  -a\n"
          ],
          "name": "stdout"
        }
      ]
    },
    {
      "cell_type": "markdown",
      "metadata": {
        "id": "w8gfFuv0X4Gi"
      },
      "source": [
        "An interesting thing to analyze is the Word Distribution. In order to count the occurrences of each word, we should tokenize the sentences first."
      ]
    },
    {
      "cell_type": "code",
      "metadata": {
        "colab": {
          "base_uri": "https://localhost:8080/"
        },
        "id": "lUqkevQiX65k",
        "outputId": "bccb9be5-390a-4437-b6c0-09ba64cba1c0"
      },
      "source": [
        "tokenizer = get_tokenizer(\"basic_english\")\n",
        "\n",
        "print('Before Tokenize: ',x_train_text[1])\n",
        "print('After Tokenize: ',tokenizer(x_train_text[1]))"
      ],
      "execution_count": null,
      "outputs": [
        {
          "output_type": "stream",
          "text": [
            "Before Tokenize:  worst headache ever \n",
            "After Tokenize:  ['worst', 'headache', 'ever']\n"
          ],
          "name": "stdout"
        }
      ]
    },
    {
      "cell_type": "code",
      "metadata": {
        "colab": {
          "base_uri": "https://localhost:8080/",
          "height": 115,
          "referenced_widgets": [
            "2ee9abc6ca4d4249a3facc7718d3d04f",
            "7839e0159ec9413daeea3446340c0357",
            "81fbcd9c45db4d6fbabb562f13f07424",
            "7660d8935f714ef586c9df624a928ab7",
            "413a979d16e34a75b9bda68c25896e8b",
            "d67d51a0bd434e3d9f43575a782df7dd",
            "8085f4e6526240cab8b90408f08be0d6",
            "4b1fe4bc264442338c0fcb98d5abac48",
            "15bfdfef2c83469b85abcaa4bf6a2c1f",
            "5fcb2e2d4f2e4494b0b5cf9f1de51576",
            "0a3b1bd95dc146bca2d6d2922ec96309",
            "015fa017b3424ed2a39f78510e1aa277",
            "2f510ad929fd4c84903e79406999fe62",
            "47731015ee32431fb03e782e16ad5179",
            "0cb4bc425fd843e8af137dbd70397d6b",
            "36661ddd408c4ad7b128aa1cc8497f07"
          ]
        },
        "id": "lAYcpQGDZMq-",
        "outputId": "6011f9f8-7c6f-43e1-c51e-b965a8ac17b5"
      },
      "source": [
        "x_train_token = [tokenizer(s) for s in tqdm(x_train_text)]\n",
        "x_test_token = [tokenizer(s) for s in tqdm(x_test_text)]"
      ],
      "execution_count": null,
      "outputs": [
        {
          "output_type": "display_data",
          "data": {
            "application/vnd.jupyter.widget-view+json": {
              "model_id": "2ee9abc6ca4d4249a3facc7718d3d04f",
              "version_minor": 0,
              "version_major": 2
            },
            "text/plain": [
              "HBox(children=(FloatProgress(value=0.0, max=1280000.0), HTML(value='')))"
            ]
          },
          "metadata": {
            "tags": []
          }
        },
        {
          "output_type": "stream",
          "text": [
            "\n"
          ],
          "name": "stdout"
        },
        {
          "output_type": "display_data",
          "data": {
            "application/vnd.jupyter.widget-view+json": {
              "model_id": "15bfdfef2c83469b85abcaa4bf6a2c1f",
              "version_minor": 0,
              "version_major": 2
            },
            "text/plain": [
              "HBox(children=(FloatProgress(value=0.0, max=320000.0), HTML(value='')))"
            ]
          },
          "metadata": {
            "tags": []
          }
        },
        {
          "output_type": "stream",
          "text": [
            "\n"
          ],
          "name": "stdout"
        }
      ]
    },
    {
      "cell_type": "markdown",
      "metadata": {
        "id": "hM6eJm-2Zm94"
      },
      "source": [
        "We can count the words occurences and see how many different words are present in our dataset."
      ]
    },
    {
      "cell_type": "code",
      "metadata": {
        "colab": {
          "base_uri": "https://localhost:8080/"
        },
        "id": "pPvS90JOZl18",
        "outputId": "fe191613-c861-460d-e1d4-83eefc028f0e"
      },
      "source": [
        "words = Counter()\n",
        "for s in x_train_token:\n",
        "    for w in s:\n",
        "        words[w] += 1\n",
        "\n",
        "sorted_words = list(words.keys())\n",
        "sorted_words.sort(key=lambda w: words[w], reverse=True)\n",
        "print('Number of different Tokens in our Dataset: ',len(sorted_words))\n",
        "print(sorted_words[:100])"
      ],
      "execution_count": null,
      "outputs": [
        {
          "output_type": "stream",
          "text": [
            "Number of different Tokens in our Dataset:  669284\n",
            "['.', 'i', '!', \"'\", 'to', 'the', ',', 'a', 'my', 'it', 'and', 'you', '?', 'is', 'for', 'in', 's', 'of', 't', 'on', 'that', 'me', 'so', 'have', 'm', 'but', 'just', 'with', 'be', 'at', 'not', 'was', 'this', 'now', 'can', 'good', 'up', 'day', 'all', 'get', 'out', 'like', 'are', 'no', 'go', 'http', '-', 'today', 'do', 'too', 'your', 'work', 'going', 'love', 'we', 'got', 'what', 'lol', 'time', 'back', 'from', 'u', 'one', 'will', 'know', 'about', 'im', 'really', 'don', 'am', 'had', ')', 'see', 'some', 'there', 'its', '&amp', 'how', 'if', 'still', 'they', '&quot', 'night', '(', 'well', 'want', 'new', 'think', '2', 'home', 'thanks', 'll', 'oh', 'when', 'as', 'he', 'more', 'here', 'much', 'off']\n"
          ],
          "name": "stdout"
        }
      ]
    },
    {
      "cell_type": "markdown",
      "metadata": {
        "id": "xN9R1VhPa2GW"
      },
      "source": [
        "Now we can plot their distribution."
      ]
    },
    {
      "cell_type": "code",
      "metadata": {
        "colab": {
          "base_uri": "https://localhost:8080/"
        },
        "id": "zEyCGZNpa2Ue",
        "outputId": "174303f6-1064-428a-eb5d-46512a8bf437"
      },
      "source": [
        "count_occurences = sum(words.values())\n",
        "\n",
        "accumulated = 0\n",
        "counter = 0\n",
        "\n",
        "while accumulated < count_occurences * 0.8:\n",
        "    accumulated += words[sorted_words[counter]]\n",
        "    counter += 1\n",
        "\n",
        "print('The {}% most common words account for the {}% of the occurrences'.format(counter * 100 / len(words), accumulated * 100 / count_occurences))"
      ],
      "execution_count": null,
      "outputs": [
        {
          "output_type": "stream",
          "text": [
            "The 0.13970153178620734% most common words account for the 80.00532743602652% of the occurrences\n"
          ],
          "name": "stdout"
        }
      ]
    },
    {
      "cell_type": "code",
      "metadata": {
        "colab": {
          "base_uri": "https://localhost:8080/",
          "height": 276
        },
        "id": "7jvhstsHcSNR",
        "outputId": "494ad3b0-4750-43e8-cbfb-18bbb3825344"
      },
      "source": [
        "plt.bar(range(100), [words[w] for w in sorted_words[:100]])\n",
        "plt.show()"
      ],
      "execution_count": null,
      "outputs": [
        {
          "output_type": "display_data",
          "data": {
            "image/png": "[encoded data removed]",
            "text/plain": [
              "<Figure size 432x288 with 1 Axes>"
            ]
          },
          "metadata": {
            "tags": [],
            "needs_background": "light"
          }
        }
      ]
    },
    {
      "cell_type": "markdown",
      "metadata": {
        "id": "elperfLLpE2y"
      },
      "source": [
        "It is very common to find this kind of distribution when analyzing corpus of text. This is referred to as the [zipf's law](https://en.wikipedia.org/wiki/Zipf%27s_law)."
      ]
    },
    {
      "cell_type": "markdown",
      "metadata": {
        "id": "Viv6pwuRc6Z9"
      },
      "source": [
        "Usually the number of words in the dictionary will be very large. \n",
        "\n",
        "Here are some thing we can do to reduce that number:\n",
        "\n",
        "* Remove puntuation.\n",
        "* Remove stop-words.\n",
        "* Steaming.\n",
        "* Remove very uncommon words (the words that appears in fewer than N occations).\n",
        "* Nothing: we can use a pretrain model that handles this kind of situations.\n",
        "\n",
        "\n",
        "We used one of the simplest tokenizers availables. This tokenizer does not take into account many quirks of the language. Moreover, diferent languages have different quirks, so there is no \"universal\" tokenizers. There are many libraries that have \"better\" tokenizers:\n",
        "\n",
        "* [Spacy](https://spacy.io/): it can be accessed using: `get_tokenizer(\"spacy\")`. Spacy supports a wide range of languages.\n",
        "* [Huggingface](https://huggingface.co/): it has many tokenizers for different laguages. [Doc](https://huggingface.co/transformers/main_classes/tokenizer.html)\n",
        "* [NLTK](https://www.nltk.org/): it provides several tokenizers. One of them can be accessed using: `get_tokenizer(\"toktok\")`\n"
      ]
    },
    {
      "cell_type": "markdown",
      "metadata": {
        "id": "V8SfEgmbqm4W"
      },
      "source": [
        "# Step 4: choose toolkit\n",
        "\n",
        "Our goal is to train a model capable of estimating the sentiment of a tweet (positive or negative) by reading its content. To that end we will try 2 different approaches:\n",
        "\n",
        "* A logistic regression using sklearn. **NOTE**: it can probaly work better than an SVM model.\n",
        "* A simple Embedding + RNN.\n",
        "\n",
        "## Logistic regression\n",
        "\n",
        "We will represent our senteces using binary vectorization. This means that our data would be represented as a matrix of instances by word with a one if the word is in the instance, and zero otherwise. Sklean vectorizers can also do things such as stop-word removal and puntuation removal, you can read more about in [the documentation](https://scikit-learn.org/stable/modules/generated/sklearn.feature_extraction.text.CountVectorizer.html)."
      ]
    },
    {
      "cell_type": "code",
      "metadata": {
        "id": "YJYRrunegErX"
      },
      "source": [
        "from sklearn.feature_extraction.text import CountVectorizer\n",
        "\n",
        "vectorizer = CountVectorizer(binary=True)\n",
        "x_train_cv = vectorizer.fit_transform(x_train_text)\n",
        "x_test_cv = vectorizer.transform(x_test_text)"
      ],
      "execution_count": null,
      "outputs": []
    },
    {
      "cell_type": "code",
      "metadata": {
        "colab": {
          "base_uri": "https://localhost:8080/"
        },
        "id": "_P06FIRhtJeR",
        "outputId": "025b4627-0ebc-4b63-ec55-264f9fa3ad21"
      },
      "source": [
        "print('Before Vectorize: ', x_train_text[3])"
      ],
      "execution_count": null,
      "outputs": [
        {
          "output_type": "stream",
          "text": [
            "Before Vectorize:  doesn't know how to spell conked \n"
          ],
          "name": "stdout"
        }
      ]
    },
    {
      "cell_type": "code",
      "metadata": {
        "colab": {
          "base_uri": "https://localhost:8080/"
        },
        "id": "NUJgcg5KsrpB",
        "outputId": "d9ef66e2-e2dd-46e6-9eb5-248b254d21ef"
      },
      "source": [
        "# Notice that the matriz is sparse\n",
        "print('After Vectorize: ')\n",
        "print(x_train_cv[3])"
      ],
      "execution_count": null,
      "outputs": [
        {
          "output_type": "stream",
          "text": [
            "After Vectorize: \n",
            "  (0, 528584)\t1\n",
            "  (0, 165468)\t1\n",
            "  (0, 300381)\t1\n",
            "  (0, 242211)\t1\n",
            "  (0, 489893)\t1\n",
            "  (0, 134160)\t1\n"
          ],
          "name": "stdout"
        }
      ]
    },
    {
      "cell_type": "markdown",
      "metadata": {
        "id": "v1lKB1njtjy3"
      },
      "source": [
        "Now we can train our model. You can check the documentation of this logistic regressor [here](https://scikit-learn.org/stable/modules/generated/sklearn.linear_model.LogisticRegression.html?highlight=logistic#sklearn.linear_model.LogisticRegression)."
      ]
    },
    {
      "cell_type": "code",
      "metadata": {
        "colab": {
          "base_uri": "https://localhost:8080/"
        },
        "id": "MhQ7IVB1jgd_",
        "outputId": "d05f04a0-2c97-488a-a4d5-647877c48274"
      },
      "source": [
        "from sklearn.linear_model import LogisticRegression\n",
        "\n",
        "model = LogisticRegression(solver='saga')\n",
        "model.fit(x_train_cv, y_train)"
      ],
      "execution_count": null,
      "outputs": [
        {
          "output_type": "execute_result",
          "data": {
            "text/plain": [
              "LogisticRegression(C=1.0, class_weight=None, dual=False, fit_intercept=True,\n",
              "                   intercept_scaling=1, l1_ratio=None, max_iter=100,\n",
              "                   multi_class='auto', n_jobs=None, penalty='l2',\n",
              "                   random_state=None, solver='saga', tol=0.0001, verbose=0,\n",
              "                   warm_start=False)"
            ]
          },
          "metadata": {
            "tags": []
          },
          "execution_count": 17
        }
      ]
    },
    {
      "cell_type": "code",
      "metadata": {
        "colab": {
          "base_uri": "https://localhost:8080/"
        },
        "id": "bmTacPGvjXTr",
        "outputId": "aa647f89-2328-4620-ce02-c5f4aedafabe"
      },
      "source": [
        "from sklearn.metrics import classification_report\n",
        "\n",
        "y_pred = model.predict(x_test_cv)\n",
        "\n",
        "print(classification_report(y_test, y_pred))"
      ],
      "execution_count": null,
      "outputs": [
        {
          "output_type": "stream",
          "text": [
            "              precision    recall  f1-score   support\n",
            "\n",
            "           0       0.81      0.79      0.80    160000\n",
            "           1       0.79      0.81      0.80    160000\n",
            "\n",
            "    accuracy                           0.80    320000\n",
            "   macro avg       0.80      0.80      0.80    320000\n",
            "weighted avg       0.80      0.80      0.80    320000\n",
            "\n"
          ],
          "name": "stdout"
        }
      ]
    },
    {
      "cell_type": "markdown",
      "metadata": {
        "id": "GBV5rPdNkTDJ"
      },
      "source": [
        "## Explainable AI\n",
        "The best thing about logistic regresion is that it is simple, and we can get some explanations."
      ]
    },
    {
      "cell_type": "code",
      "metadata": {
        "colab": {
          "base_uri": "https://localhost:8080/"
        },
        "id": "qoySEV9Rke-z",
        "outputId": "ea656fd6-614a-4c85-b7ee-bc20d756efba"
      },
      "source": [
        "print(model.coef_.shape)\n",
        "print(len(vectorizer.vocabulary_))\n",
        "\n",
        "words_sk = list(vectorizer.vocabulary_.keys())\n",
        "words_sk.sort(key=lambda w: model.coef_[0, vectorizer.vocabulary_[w]])"
      ],
      "execution_count": null,
      "outputs": [
        {
          "output_type": "stream",
          "text": [
            "(1, 589260)\n",
            "589260\n"
          ],
          "name": "stdout"
        }
      ]
    },
    {
      "cell_type": "code",
      "metadata": {
        "colab": {
          "base_uri": "https://localhost:8080/"
        },
        "id": "SdhlSydIlPX6",
        "outputId": "8c111f75-c49e-483b-e9de-4df405321eea"
      },
      "source": [
        "for w in words_sk[:20]:\n",
        "    print('{}: {}'.format(w, model.coef_[0, vectorizer.vocabulary_[w]]))"
      ],
      "execution_count": null,
      "outputs": [
        {
          "output_type": "stream",
          "text": [
            "roni: -3.8626179619746046\n",
            "inaperfectworld: -3.5734295065250024\n",
            "dontyouhate: -3.500216598468438\n",
            "xbllygbsn: -3.4126433155889138\n",
            "anqju: -3.3363730101610236\n",
            "sad: -3.2005179962165635\n",
            "pakcricket: -3.19488248339233\n",
            "condolences: -3.132508973378498\n",
            "heartbreaking: -3.066515560836288\n",
            "saddest: -3.0420278803166076\n",
            "sadd: -3.0290554809181103\n",
            "heartbroken: -3.028790315868981\n",
            "boohoo: -3.0226127215780463\n",
            "sadface: -2.991865316397411\n",
            "rachelle_lefevr: -2.9250627096959674\n",
            "disappointing: -2.902532737837346\n",
            "lvbu: -2.89470025274553\n",
            "saddens: -2.88554171648811\n",
            "bummed: -2.8365075935093897\n",
            "neda: -2.7929370469673613\n"
          ],
          "name": "stdout"
        }
      ]
    },
    {
      "cell_type": "code",
      "metadata": {
        "colab": {
          "base_uri": "https://localhost:8080/"
        },
        "id": "5m6m5OSMlb5w",
        "outputId": "f6aa3cff-77a0-4565-d9dd-16c8e0a9508f"
      },
      "source": [
        "for w in reversed(words_sk[-20:]):\n",
        "    print('{}: {}'.format(w, model.coef_[0, vectorizer.vocabulary_[w]]))"
      ],
      "execution_count": null,
      "outputs": [
        {
          "output_type": "stream",
          "text": [
            "iamsoannoyed: 2.8494195965894025\n",
            "myfax: 2.7975681241065806\n",
            "jennamadison: 2.566734621815687\n",
            "yeyy: 2.478051833651402\n",
            "tryout: 2.4383298059166796\n",
            "goldymom: 2.4374048590588746\n",
            "wooohooo: 2.402949358398209\n",
            "thesupergirl: 2.3565269583108495\n",
            "iammaxathotspot: 2.311668348828654\n",
            "londicreations: 2.3074661682422373\n",
            "smilin: 2.2991638364446856\n",
            "worries: 2.289951332026246\n",
            "sinfulsignorita: 2.279901426276397\n",
            "finchensnail: 2.2643167810817446\n",
            "smackthis: 2.237671137297168\n",
            "kv: 2.2158039779880303\n",
            "tojosan: 2.2118013436822657\n",
            "russmarshalek: 2.2095573095366827\n",
            "traciknoppe: 2.176857132997602\n",
            "congratulations: 2.171588093881636\n"
          ],
          "name": "stdout"
        }
      ]
    },
    {
      "cell_type": "markdown",
      "metadata": {
        "id": "LnahRDPPlwLF"
      },
      "source": [
        "What does this mean?\n",
        "\n",
        "Remember the `model.coef_` is the $W$ in:\n",
        "\n",
        "$$h(x)=\\sigma(WX + b)$$\n",
        "\n",
        "where the label 1 is a positive tweet and the label 0 is a negative tweet."
      ]
    },
    {
      "cell_type": "markdown",
      "metadata": {
        "id": "zVZ2PBxbvKQe"
      },
      "source": [
        "## Recurrent Neural Network with Pytorch"
      ]
    },
    {
      "cell_type": "markdown",
      "metadata": {
        "id": "CrE1EVw0u5G4"
      },
      "source": [
        "In the previous section we use a Bag-Of-Words approach to represent each of the tweets. That meas that we only consider how many times each of the words appear in each of the tweets, we didnt take into account the order of the words. But we know that the word order is very important and carries relevant information.\n",
        "\n",
        "In this section we will solve the same task, but this time we will implement a Recurrent Neural Network (RNN) instead of using a simple Logistic Regression.Unlike feedforward neural networks, RNNs have cyclic connections making them powerful for modeling sequences.\n",
        "\n",
        "Let's start by importing the relevant libraries.\n"
      ]
    },
    {
      "cell_type": "code",
      "metadata": {
        "id": "b71EOPSW3ZGX"
      },
      "source": [
        "import torch\n",
        "import torch.nn as nn\n",
        "import torch.nn.functional as F\n",
        "import torch.optim as optim\n",
        "\n",
        "from torch.utils.data import TensorDataset, DataLoader\n",
        "\n",
        "def set_device():\n",
        "  device = \"cuda\" if torch.cuda.is_available() else \"cpu\"\n",
        "  if device != \"cuda\":\n",
        "    print(\"WARNING: For this notebook to perform best, \"\n",
        "          \"if possible, in the menu under `Runtime` -> \"\n",
        "          \"`Change runtime type.`  select `GPU` \")\n",
        "  else:\n",
        "    print(\"GPU is enabled in this notebook.\")\n",
        "\n",
        "  return device"
      ],
      "execution_count": null,
      "outputs": []
    },
    {
      "cell_type": "code",
      "metadata": {
        "colab": {
          "base_uri": "https://localhost:8080/"
        },
        "id": "uLj0CiArC1FW",
        "outputId": "7a0e1948-ad32-4841-abde-15abf5588324"
      },
      "source": [
        "# Set the device (check if gpu is available)\n",
        "device = set_device()"
      ],
      "execution_count": null,
      "outputs": [
        {
          "output_type": "stream",
          "text": [
            "GPU is enabled in this notebook.\n"
          ],
          "name": "stdout"
        }
      ]
    },
    {
      "cell_type": "markdown",
      "metadata": {
        "id": "o-PDXYBeHkP8"
      },
      "source": [
        "First we will create a Dictionary (`word_to_idx`). This dictionary will map each Token (usually words) to an index (an integer number). We want to limit our dictionary to a certain number of tokens (`num_words_dict`), so we will include in our ditionary those with more occurrences."
      ]
    },
    {
      "cell_type": "code",
      "metadata": {
        "colab": {
          "base_uri": "https://localhost:8080/"
        },
        "id": "-xgoN6wBLD4D",
        "outputId": "096cb498-f6a8-4c69-9e9f-ed57050180d8"
      },
      "source": [
        "# From previous section, we have a list with the most used tokens\n",
        "sorted_words[:10]"
      ],
      "execution_count": null,
      "outputs": [
        {
          "output_type": "execute_result",
          "data": {
            "text/plain": [
              "['.', 'i', '!', \"'\", 'to', 'the', ',', 'a', 'my', 'it']"
            ]
          },
          "metadata": {
            "tags": []
          },
          "execution_count": 25
        }
      ]
    },
    {
      "cell_type": "markdown",
      "metadata": {
        "id": "rD3R_O86Li1C"
      },
      "source": [
        "Let's select only the most used."
      ]
    },
    {
      "cell_type": "code",
      "metadata": {
        "id": "WxIq7VaMLhhZ"
      },
      "source": [
        "num_words_dict = 30000\n",
        "# We reserve two numbers for special tokens.\n",
        "most_used_words = sorted_words[:num_words_dict-2]"
      ],
      "execution_count": null,
      "outputs": []
    },
    {
      "cell_type": "markdown",
      "metadata": {
        "id": "mapbxK97LoaZ"
      },
      "source": [
        "We will add two extra Tokens to the dictionary, one for words outside the dictionary (`'UNK'`) and one for padding the sequences (`'PAD'`)."
      ]
    },
    {
      "cell_type": "code",
      "metadata": {
        "id": "4LLZ8_x-8R7A"
      },
      "source": [
        "# dictionary to go from words to idx \n",
        "word_to_idx = {}\n",
        "# dictionary to go from idx to words (just in case) \n",
        "idx_to_word = {}\n",
        "\n",
        "\n",
        "# We include the special tokens first\n",
        "PAD_token = 0   \n",
        "UNK_token = 1\n",
        "\n",
        "word_to_idx['PAD'] = PAD_token\n",
        "word_to_idx['UNK'] = UNK_token\n",
        "\n",
        "idx_to_word[PAD_token] = 'PAD'\n",
        "idx_to_word[UNK_token] = 'UNK'\n",
        "\n",
        "# We popullate our dictionaries with the most used words\n",
        "for num,word in enumerate(most_used_words):\n",
        "    word_to_idx[word] = num+2\n",
        "    idx_to_word[num+2] = word"
      ],
      "execution_count": null,
      "outputs": []
    },
    {
      "cell_type": "markdown",
      "metadata": {
        "id": "Q5-RsXa5N4Pa"
      },
      "source": [
        "Our goal now is to transform each tweet from a sequence of tokens to a sequence of indexes. These sequences of indexes will be the input to our pytorch model."
      ]
    },
    {
      "cell_type": "code",
      "metadata": {
        "id": "gsouHCSMIcxl"
      },
      "source": [
        "# A function to convert list of tokens to list of indexes\n",
        "def tokens_to_idx(sentences_tokens,word_to_idx):\n",
        "    sentences_idx = []\n",
        "    for sent in sentences_tokens:\n",
        "        sent_idx = []\n",
        "        for word in sent:\n",
        "            if word in word_to_idx:\n",
        "                sent_idx.append(word_to_idx[word])\n",
        "            else:\n",
        "                sent_idx.append(word_to_idx['UNK'])\n",
        "        sentences_idx.append(sent_idx)\n",
        "    return sentences_idx"
      ],
      "execution_count": null,
      "outputs": []
    },
    {
      "cell_type": "code",
      "metadata": {
        "id": "ALUM0qVEIR9H"
      },
      "source": [
        "x_train_idx = tokens_to_idx(x_train_token,word_to_idx)\n",
        "x_test_idx = tokens_to_idx(x_test_token,word_to_idx)"
      ],
      "execution_count": null,
      "outputs": []
    },
    {
      "cell_type": "code",
      "metadata": {
        "colab": {
          "base_uri": "https://localhost:8080/"
        },
        "id": "pV8M-vpbzTJH",
        "outputId": "0217fa86-0def-4896-ca37-5f705df8d677"
      },
      "source": [
        "some_number = 1\n",
        "print('Before converting: ', x_train_token[some_number])\n",
        "print('After converting: ', x_train_idx[some_number])"
      ],
      "execution_count": null,
      "outputs": [
        {
          "output_type": "stream",
          "text": [
            "Before converting:  ['worst', 'headache', 'ever']\n",
            "After converting:  [721, 458, 237]\n"
          ],
          "name": "stdout"
        }
      ]
    },
    {
      "cell_type": "markdown",
      "metadata": {
        "id": "Jb7NkBaPRA1K"
      },
      "source": [
        "We need all the sequences to have the same length. To select an adequate sequence length, let's explore some statistics about the length of the tweets:"
      ]
    },
    {
      "cell_type": "code",
      "metadata": {
        "colab": {
          "base_uri": "https://localhost:8080/"
        },
        "id": "oIivM0w7KaBZ",
        "outputId": "ac1e5573-7064-4b5c-f5d6-1dc44f1d2ba3"
      },
      "source": [
        "tweet_lens = np.asarray([len(sentence) for sentence in x_train_idx])\n",
        "print('Max tweet word length: ',tweet_lens.max())\n",
        "print('Mean tweet word length: ',np.median(tweet_lens))\n",
        "print('99% percent under: ',np.quantile(tweet_lens,0.99))"
      ],
      "execution_count": null,
      "outputs": [
        {
          "output_type": "stream",
          "text": [
            "Max tweet word length:  229\n",
            "Mean tweet word length:  15.0\n",
            "99% percent under:  37.0\n"
          ],
          "name": "stdout"
        }
      ]
    },
    {
      "cell_type": "markdown",
      "metadata": {
        "id": "sGxGrc4LV9s1"
      },
      "source": [
        "We cut the sequences which are larger than our chosen maximum length (`max_lenght`) and fill with zeros the ones that are shorter."
      ]
    },
    {
      "cell_type": "code",
      "metadata": {
        "id": "n4lowj5J3bbU"
      },
      "source": [
        " # We choose the max length\n",
        " max_length = 40\n",
        "\n",
        "# A function to make all the sequence have the same lenght\n",
        "# Note that the output is a Numpy matrix\n",
        " def padding(sentences, seq_len):\n",
        "    features = np.zeros((len(sentences), seq_len),dtype=int)\n",
        "    for ii, tweet in enumerate(sentences):\n",
        "        len_tweet = len(tweet) \n",
        "        if len_tweet != 0:\n",
        "            if len_tweet <= seq_len:\n",
        "                # If its shorter, we fill with zeros (the padding Token index)\n",
        "                features[ii, -len(tweet):] = np.array(tweet)[:seq_len]\n",
        "            if len_tweet > seq_len:\n",
        "                # If its larger, we take the last 'seq_len' indexes\n",
        "                features[ii, :] = np.array(tweet)[-seq_len:]\n",
        "    return features"
      ],
      "execution_count": null,
      "outputs": []
    },
    {
      "cell_type": "code",
      "metadata": {
        "id": "uznqXIbxL2EL"
      },
      "source": [
        "# We convert our list of tokens into a numpy matrix\n",
        "# where all instances have the same lenght\n",
        "x_train_pad = padding(x_train_idx,max_length)\n",
        "x_test_pad = padding(x_test_idx,max_length)\n",
        "\n",
        "# We convert our target list a numpy matrix\n",
        "y_train_np = np.asarray(y_train)\n",
        "y_test_np = np.asarray(y_test)"
      ],
      "execution_count": null,
      "outputs": []
    },
    {
      "cell_type": "code",
      "metadata": {
        "colab": {
          "base_uri": "https://localhost:8080/"
        },
        "id": "hRaqwJFxz5P_",
        "outputId": "8998691e-0548-486a-c531-772115f1622f"
      },
      "source": [
        "some_number = 2\n",
        "print('Before padding: ', x_train_idx[some_number])\n",
        "print('After padding: ', x_train_pad[some_number])"
      ],
      "execution_count": null,
      "outputs": [
        {
          "output_type": "stream",
          "text": [
            "Before padding:  [1, 3, 71, 24, 122, 3, 533, 74, 13, 4, 3, 102, 13, 209, 2, 12, 150, 4, 22, 5, 18, 667, 3, 138, 61, 7, 3296, 4]\n",
            "After padding:  [   0    0    0    0    0    0    0    0    0    0    0    0    1    3\n",
            "   71   24  122    3  533   74   13    4    3  102   13  209    2   12\n",
            "  150    4   22    5   18  667    3  138   61    7 3296    4]\n"
          ],
          "name": "stdout"
        }
      ]
    },
    {
      "cell_type": "markdown",
      "metadata": {
        "id": "TdkZhAGEWUEZ"
      },
      "source": [
        "Now, let's convert the data to pytorch format.\n"
      ]
    },
    {
      "cell_type": "code",
      "metadata": {
        "id": "FrUVSRWKwCwG"
      },
      "source": [
        "# create Tensor datasets\n",
        "train_data = TensorDataset(torch.from_numpy(x_train_pad), torch.from_numpy(y_train_np))\n",
        "valid_data = TensorDataset(torch.from_numpy(x_test_pad), torch.from_numpy(y_test_np))\n",
        "\n",
        "# Batch size (this is an important hyperparameter)\n",
        "batch_size = 100\n",
        "\n",
        "# dataloaders\n",
        "# make sure to SHUFFLE your data\n",
        "train_loader = DataLoader(train_data, shuffle=True, batch_size=batch_size,drop_last = True)\n",
        "valid_loader = DataLoader(valid_data, shuffle=True, batch_size=batch_size,drop_last = True)"
      ],
      "execution_count": null,
      "outputs": []
    },
    {
      "cell_type": "markdown",
      "metadata": {
        "id": "yzGq6Q6GXxgD"
      },
      "source": [
        "Each batch of data in our traning proccess will have the folllowing format:"
      ]
    },
    {
      "cell_type": "code",
      "metadata": {
        "id": "oOlFUtt-3mL1",
        "colab": {
          "base_uri": "https://localhost:8080/"
        },
        "outputId": "e08ab875-238e-49bc-d0c1-e56240a56d59"
      },
      "source": [
        "# Obtain one batch of training data\n",
        "dataiter = iter(train_loader)\n",
        "sample_x, sample_y = dataiter.next()\n",
        "\n",
        "print('Sample input size: ', sample_x.size()) # batch_size, seq_length\n",
        "print('Sample input: \\n', sample_x)\n",
        "print('Sample input: \\n', sample_y)"
      ],
      "execution_count": null,
      "outputs": [
        {
          "output_type": "stream",
          "text": [
            "Sample input size:  torch.Size([100, 40])\n",
            "Sample input: \n",
            " tensor([[   0,    0,    0,  ...,    4,    1,    4],\n",
            "        [   0,    0,    0,  ...,   12, 1575,    2],\n",
            "        [   0,    0,    0,  ...,   98, 2325,    2],\n",
            "        ...,\n",
            "        [   0,    0,    0,  ...,  802, 6321,    2],\n",
            "        [   0,    0,    0,  ...,  286,   48, 8563],\n",
            "        [   0,    0,    0,  ...,  101,   14,  597]])\n",
            "Sample input: \n",
            " tensor([1, 1, 0, 0, 0, 1, 1, 1, 1, 1, 0, 0, 1, 0, 1, 1, 1, 1, 1, 0, 1, 0, 1, 0,\n",
            "        1, 1, 1, 1, 1, 0, 1, 1, 0, 0, 0, 0, 0, 0, 0, 1, 0, 1, 0, 0, 0, 0, 0, 0,\n",
            "        0, 1, 0, 1, 0, 1, 0, 0, 1, 0, 1, 0, 1, 0, 1, 1, 0, 0, 0, 0, 1, 1, 1, 1,\n",
            "        0, 1, 0, 1, 0, 0, 1, 1, 1, 0, 1, 0, 1, 0, 0, 0, 1, 0, 0, 1, 1, 1, 0, 0,\n",
            "        1, 0, 0, 1])\n"
          ],
          "name": "stdout"
        }
      ]
    },
    {
      "cell_type": "markdown",
      "metadata": {
        "id": "OlgELk0iZJRa"
      },
      "source": [
        "Now, we will define the `SentimentRNN` class. Most of the model's class will be familiar to you, but there are two important layers we would like you to pay attention to:\n",
        "\n",
        "*   Embedding Layer\n",
        "> This layer is like a linear layer, but it makes it posible to use a sequence of inedexes as inputs (instead of a sequence of one-hot-encoded vectors). During training, the Embedding layer learns a linear transformation from the space of words (a vector space of dimension `num_words_dict`) into the a new, smaller, vector space of dimension `embedding_dim`. We suggest you to read this [thread](https://discuss.pytorch.org/t/how-does-nn-embedding-work/88518/3) and the [pytorch documentation](https://pytorch.org/docs/stable/generated/torch.nn.Embedding.html) if you want to learn more about this particular kind of layers.\n",
        "\n",
        "\n",
        "*   LSTM layer\n",
        "> This is one of the most used class of Recurrent Neural Networks. In Pytorch we can add several stacked layers in just one line of code. In our case, the number of layers added are decided with the parameter `no_layers`. If you want to learn more about LSTMs we strongly recommend you this [Colahs thread](https://colah.github.io/posts/2015-08-Understanding-LSTMs/) about them.\n",
        "\n",
        "\n",
        "\n",
        "\n",
        "\n"
      ]
    },
    {
      "cell_type": "code",
      "metadata": {
        "id": "k1T6TCkNv3vh"
      },
      "source": [
        "class SentimentRNN(nn.Module):\n",
        "    def __init__(self,no_layers,vocab_size,hidden_dim,embedding_dim,drop_prob=0.1):\n",
        "        super(SentimentRNN,self).__init__()\n",
        " \n",
        "        self.output_dim = output_dim\n",
        "        self.hidden_dim = hidden_dim\n",
        "        self.no_layers = no_layers\n",
        "        self.vocab_size = vocab_size\n",
        "        self.drop_prob = drop_prob\n",
        "    \n",
        "        # Embedding Layer\n",
        "        self.embedding = nn.Embedding(vocab_size, embedding_dim)\n",
        "        \n",
        "        # LSTM Layers\n",
        "        self.lstm = nn.LSTM(input_size=embedding_dim,hidden_size=self.hidden_dim,\n",
        "                            num_layers=no_layers, batch_first=True, \n",
        "                            dropout=self.drop_prob)\n",
        "        \n",
        "        # Dropout layer\n",
        "        self.dropout = nn.Dropout(drop_prob)\n",
        "    \n",
        "        # Linear and Sigmoid layer\n",
        "        self.fc = nn.Linear(self.hidden_dim, output_dim)\n",
        "        self.sig = nn.Sigmoid()\n",
        "        \n",
        "    def forward(self,x,hidden):\n",
        "        batch_size = x.size(0)\n",
        "\n",
        "        # Embedding out\n",
        "        embeds = self.embedding(x)\n",
        "        #Shape: [batch_size x max_length x embedding_dim]\n",
        "\n",
        "        # LSTM out\n",
        "        lstm_out, hidden = self.lstm(embeds, hidden)\n",
        "        # Shape: [batch_size x max_length x hidden_dim]\n",
        "\n",
        "        # Select the activation of the last Hidden Layer\n",
        "        lstm_out = lstm_out[:,-1,:].contiguous()\n",
        "        # Shape: [batch_size x hidden_dim]\n",
        "\n",
        "        ## You can instead average the activations across all the times\n",
        "        # lstm_out = torch.mean(lstm_out, 1).contiguous()\n",
        "\n",
        "        # Dropout and Fully connected layer\n",
        "        out = self.dropout(lstm_out)\n",
        "        out = self.fc(out)\n",
        "\n",
        "        # Sigmoid function\n",
        "        sig_out = self.sig(out)\n",
        "        \n",
        "        # return last sigmoid output and hidden state\n",
        "        return sig_out, hidden\n",
        "        \n",
        "        \n",
        "        \n",
        "    def init_hidden(self, batch_size):\n",
        "        ''' Initializes hidden state '''\n",
        "        # Create two new tensors with sizes n_layers x batch_size x hidden_dim,\n",
        "        # initialized to zero, for hidden state and cell state of LSTM\n",
        "        h0 = torch.zeros((self.no_layers,batch_size,self.hidden_dim)).to(device)\n",
        "        c0 = torch.zeros((self.no_layers,batch_size,self.hidden_dim)).to(device)\n",
        "        hidden = (h0,c0)\n",
        "        return hidden"
      ],
      "execution_count": null,
      "outputs": []
    },
    {
      "cell_type": "markdown",
      "metadata": {
        "id": "TMGvzusI9GWV"
      },
      "source": [
        "We choose the parameters of the model."
      ]
    },
    {
      "cell_type": "code",
      "metadata": {
        "id": "APJOW6nAwE8X"
      },
      "source": [
        "# Parameters of our network\n",
        "\n",
        "# Size of our vocabulary\n",
        "vocab_size = num_words_dict\n",
        "\n",
        "# Embedding dimension\n",
        "embedding_dim = 32\n",
        "\n",
        "# Number of stacked LSTM layers\n",
        "no_layers = 2\n",
        "\n",
        "# Dimension of the hidden layer in LSTMs\n",
        "hidden_dim = 64\n",
        "\n",
        "# Dropout parameter for regularization\n",
        "output_dim = 1\n",
        "\n",
        "# Dropout parameter for regularization\n",
        "drop_prob = 0.25"
      ],
      "execution_count": null,
      "outputs": []
    },
    {
      "cell_type": "code",
      "metadata": {
        "colab": {
          "base_uri": "https://localhost:8080/"
        },
        "id": "MkU8qmQp9Jz1",
        "outputId": "1c1f5386-c8f0-4a39-ba85-e4235b8c4ec3"
      },
      "source": [
        "# Let's define our model\n",
        "model = SentimentRNN(no_layers,vocab_size,hidden_dim,embedding_dim,drop_prob=drop_prob)\n",
        "\n",
        "# Moving to gpu\n",
        "model.to(device)\n",
        "\n",
        "print(model)"
      ],
      "execution_count": null,
      "outputs": [
        {
          "output_type": "stream",
          "text": [
            "SentimentRNN(\n",
            "  (embedding): Embedding(30000, 32)\n",
            "  (lstm): LSTM(32, 64, num_layers=2, batch_first=True, dropout=0.25)\n",
            "  (dropout): Dropout(p=0.25, inplace=False)\n",
            "  (fc): Linear(in_features=64, out_features=1, bias=True)\n",
            "  (sig): Sigmoid()\n",
            ")\n"
          ],
          "name": "stdout"
        }
      ]
    },
    {
      "cell_type": "code",
      "metadata": {
        "id": "sf5i_e66Wr2t",
        "colab": {
          "base_uri": "https://localhost:8080/"
        },
        "outputId": "41da4576-1e8e-41eb-f5d3-ff4737c76aca"
      },
      "source": [
        "# How many trainable parameters does our model have?\n",
        "model_parameters = filter(lambda p: p.requires_grad, model.parameters())\n",
        "params = sum([np.prod(p.size()) for p in model_parameters])\n",
        "print('Total Number of parameters: ',params)"
      ],
      "execution_count": null,
      "outputs": [
        {
          "output_type": "stream",
          "text": [
            "Total Number of parameters:  1018433\n"
          ],
          "name": "stdout"
        }
      ]
    },
    {
      "cell_type": "markdown",
      "metadata": {
        "id": "jHfxPwek96Lv"
      },
      "source": [
        "We choose the losses and the optimizer for the training procces."
      ]
    },
    {
      "cell_type": "code",
      "metadata": {
        "id": "v7rMO7JvNRSK"
      },
      "source": [
        "# loss and optimization functions\n",
        "lr = 0.001\n",
        "\n",
        "# Binary crossentropy is a good loss function for a binary classification problem\n",
        "criterion = nn.BCELoss()\n",
        "\n",
        "# We choose an Adam optimizer\n",
        "optimizer = torch.optim.Adam(model.parameters(), lr=lr)\n",
        "\n",
        "# function to predict accuracy\n",
        "def acc(pred,label):\n",
        "    pred = torch.round(pred.squeeze())\n",
        "    return torch.sum(pred == label.squeeze()).item()"
      ],
      "execution_count": null,
      "outputs": []
    },
    {
      "cell_type": "markdown",
      "metadata": {
        "id": "cCdCbl29-JvW"
      },
      "source": [
        "We are ready to train our model."
      ]
    },
    {
      "cell_type": "code",
      "metadata": {
        "id": "OZy0nWO6NevR",
        "colab": {
          "base_uri": "https://localhost:8080/"
        },
        "outputId": "43eda65f-8882-4d7e-cf41-87433d358c54"
      },
      "source": [
        "# Number of training Epochs\n",
        "epochs = 5\n",
        "\n",
        "# Maximum absolute value accepted for the gradeint\n",
        "clip = 5\n",
        "\n",
        "# Initial Loss value (assumed big)\n",
        "valid_loss_min = np.Inf\n",
        "\n",
        "# Lists to follow the evolution of the loss and accuracy\n",
        "epoch_tr_loss,epoch_vl_loss = [],[]\n",
        "epoch_tr_acc,epoch_vl_acc = [],[]\n",
        "\n",
        "# Train for a number of Epochs\n",
        "for epoch in range(epochs):\n",
        "    train_losses = []\n",
        "    train_acc = 0.0\n",
        "    model.train()\n",
        "    \n",
        "    for inputs, labels in train_loader:\n",
        "\n",
        "        # Initialize hidden state \n",
        "        h = model.init_hidden(batch_size)\n",
        "        # Creating new variables for the hidden state\n",
        "        h = tuple([each.data.to(device) for each in h])\n",
        "\n",
        "        # Move batch inputs and labels to gpu\n",
        "        inputs, labels = inputs.to(device), labels.to(device)   \n",
        "\n",
        "        # Set gradient to zero\n",
        "        model.zero_grad()\n",
        "\n",
        "        # Compute model output\n",
        "        output,h = model(inputs,h)\n",
        "        \n",
        "        # Calculate the loss and perform backprop\n",
        "        loss = criterion(output.squeeze(), labels.float())\n",
        "        loss.backward()\n",
        "        train_losses.append(loss.item())\n",
        "\n",
        "        # calculating accuracy\n",
        "        accuracy = acc(output,labels)\n",
        "        train_acc += accuracy\n",
        "\n",
        "        #`clip_grad_norm` helps prevent the exploding gradient problem in RNNs / LSTMs.\n",
        "        nn.utils.clip_grad_norm_(model.parameters(), clip)\n",
        "        optimizer.step()\n",
        " \n",
        "    \n",
        "    # Evaluate on the validation set for this epoch \n",
        "    val_losses = []\n",
        "    val_acc = 0.0\n",
        "    model.eval()\n",
        "    for inputs, labels in valid_loader:\n",
        "\n",
        "        # Initialize hidden state \n",
        "        val_h = model.init_hidden(batch_size)\n",
        "        val_h = tuple([each.data.to(device) for each in val_h])\n",
        "\n",
        "        # Move batch inputs and labels to gpu\n",
        "        inputs, labels = inputs.to(device), labels.to(device)\n",
        "\n",
        "        # Compute model output\n",
        "        output, val_h = model(inputs, val_h)\n",
        "\n",
        "        # Compute Loss\n",
        "        val_loss = criterion(output.squeeze(), labels.float())\n",
        "\n",
        "        val_losses.append(val_loss.item())\n",
        "        \n",
        "        accuracy = acc(output,labels)\n",
        "        val_acc += accuracy\n",
        "            \n",
        "    epoch_train_loss = np.mean(train_losses)\n",
        "    epoch_val_loss = np.mean(val_losses)\n",
        "    epoch_train_acc = train_acc/len(train_loader.dataset)\n",
        "    epoch_val_acc = val_acc/len(valid_loader.dataset)\n",
        "    epoch_tr_loss.append(epoch_train_loss)\n",
        "    epoch_vl_loss.append(epoch_val_loss)\n",
        "    epoch_tr_acc.append(epoch_train_acc)\n",
        "    epoch_vl_acc.append(epoch_val_acc)\n",
        "    print(f'Epoch {epoch+1}') \n",
        "    print(f'train_loss : {epoch_train_loss} val_loss : {epoch_val_loss}')\n",
        "    print(f'train_accuracy : {epoch_train_acc*100} val_accuracy : {epoch_val_acc*100}')\n",
        "    if epoch_val_loss <= valid_loss_min:\n",
        "        print('Validation loss decreased ({:.6f} --> {:.6f}).  Saving model ...'.format(valid_loss_min,epoch_val_loss))\n",
        "        # torch.save(model.state_dict(), '../working/state_dict.pt')\n",
        "        valid_loss_min = epoch_val_loss\n",
        "    print(25*'==')"
      ],
      "execution_count": null,
      "outputs": [
        {
          "output_type": "stream",
          "text": [
            "Epoch 1\n",
            "train_loss : 0.4358782146242447 val_loss : 0.3883405238064006\n",
            "train_accuracy : 79.570078125 val_accuracy : 82.434375\n",
            "Validation loss decreased (inf --> 0.388341).  Saving model ...\n",
            "==================================================\n",
            "Epoch 2\n",
            "train_loss : 0.37547377434326334 val_loss : 0.3708197010587901\n",
            "train_accuracy : 83.216171875 val_accuracy : 83.4546875\n",
            "Validation loss decreased (0.388341 --> 0.370820).  Saving model ...\n",
            "==================================================\n"
          ],
          "name": "stdout"
        }
      ]
    },
    {
      "cell_type": "code",
      "metadata": {
        "id": "tPYmvG7pNkBM"
      },
      "source": [
        "fig = plt.figure(figsize = (20, 6))\n",
        "plt.subplot(1, 2, 1)\n",
        "plt.plot(epoch_tr_acc, label='Train Acc')\n",
        "plt.plot(epoch_vl_acc, label='Validation Acc')\n",
        "plt.title(\"Accuracy\")\n",
        "plt.legend()\n",
        "plt.grid()\n",
        "\n",
        "plt.subplot(1, 2, 2)\n",
        "plt.plot(epoch_tr_loss, label='Train loss')\n",
        "plt.plot(epoch_vl_loss, label='Validation loss')\n",
        "plt.title(\"Loss\")\n",
        "plt.legend()\n",
        "plt.grid()\n",
        "\n",
        "plt.show()"
      ],
      "execution_count": null,
      "outputs": []
    },
    {
      "cell_type": "markdown",
      "metadata": {
        "id": "1ZulB6qUIFGO"
      },
      "source": [
        "## What's Next?\n",
        "\n",
        "You can use this project template as a starting point to think about your own project. There are a lot of ways to continue, here we share with you some ideas you migth find useful:\n",
        "\n",
        "*   **Work on the Preproccesing.** We used a very rudimentary way to tokenize tweets. But there are better ways to preprocess the data. Can you think of a suitable way to preprocess the data for this particular task? How does the performance of the model change when the data is processed correctly?\n",
        "*   **Work on the Model.** The RNN model proposed in this notebook is not optimized at all. You can work on finding a better architecture or better hyperparamenters. May be using bidirectonal LSTMs or increasing the number of stacked layers can improve the performance, feel free to try different approaches.\n",
        "*   **Work on the Embedding.** Our model learnt an embedding during the training on this Twitter corpus for a particular task. You can explore the representation of different words in this learned embedding. Also, you can try using different word embeddings. You can train them on this corpus or you can use an embedding trained on another corpus of data. How does the change of the embedding affect the model performance?\n",
        "*   **Try sentiment analysis on another dataset.** There are lots of available dataset to work with, we can help you find one that is interesting to you. Do you belive that a sentiment analysis model trained on some corpus (Twitter dataset) will perform well on another type of data (for example, youtube comments)?\n",
        "\n"
      ]
    }
  ]
}