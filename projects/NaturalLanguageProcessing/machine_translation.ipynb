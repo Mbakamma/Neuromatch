{
  "nbformat": 4,
  "nbformat_minor": 0,
  "metadata": {
    "colab": {
      "name": "machine_translations.ipynb",
      "provenance": [],
      "collapsed_sections": [],
      "toc_visible": true,
      "include_colab_link": true
    },
    "kernelspec": {
      "display_name": "Python 3",
      "name": "python3"
    },
    "language_info": {
      "name": "python"
    },
    "widgets": {
      "application/vnd.jupyter.widget-state+json": {
        "3087c055cce9475eb0e1f5a81ac551f1": {
          "model_module": "@jupyter-widgets/controls",
          "model_name": "HBoxModel",
          "state": {
            "_view_name": "HBoxView",
            "_dom_classes": [],
            "_model_name": "HBoxModel",
            "_view_module": "@jupyter-widgets/controls",
            "_model_module_version": "1.5.0",
            "_view_count": null,
            "_view_module_version": "1.5.0",
            "box_style": "",
            "layout": "IPY_MODEL_277df5bfbdd2499191d50d0c88cb1fd2",
            "_model_module": "@jupyter-widgets/controls",
            "children": [
              "IPY_MODEL_8d234c99f98a4abcb8ddd546b970f1d5",
              "IPY_MODEL_cb91dbc88e3e466db9c412e514e67d54"
            ]
          }
        },
        "277df5bfbdd2499191d50d0c88cb1fd2": {
          "model_module": "@jupyter-widgets/base",
          "model_name": "LayoutModel",
          "state": {
            "_view_name": "LayoutView",
            "grid_template_rows": null,
            "right": null,
            "justify_content": null,
            "_view_module": "@jupyter-widgets/base",
            "overflow": null,
            "_model_module_version": "1.2.0",
            "_view_count": null,
            "flex_flow": null,
            "width": null,
            "min_width": null,
            "border": null,
            "align_items": null,
            "bottom": null,
            "_model_module": "@jupyter-widgets/base",
            "top": null,
            "grid_column": null,
            "overflow_y": null,
            "overflow_x": null,
            "grid_auto_flow": null,
            "grid_area": null,
            "grid_template_columns": null,
            "flex": null,
            "_model_name": "LayoutModel",
            "justify_items": null,
            "grid_row": null,
            "max_height": null,
            "align_content": null,
            "visibility": null,
            "align_self": null,
            "height": null,
            "min_height": null,
            "padding": null,
            "grid_auto_rows": null,
            "grid_gap": null,
            "max_width": null,
            "order": null,
            "_view_module_version": "1.2.0",
            "grid_template_areas": null,
            "object_position": null,
            "object_fit": null,
            "grid_auto_columns": null,
            "margin": null,
            "display": null,
            "left": null
          }
        },
        "8d234c99f98a4abcb8ddd546b970f1d5": {
          "model_module": "@jupyter-widgets/controls",
          "model_name": "FloatProgressModel",
          "state": {
            "_view_name": "ProgressView",
            "style": "IPY_MODEL_58ea91d4a89448ff99508047c34f7007",
            "_dom_classes": [],
            "description": "100%",
            "_model_name": "FloatProgressModel",
            "bar_style": "success",
            "max": 10,
            "_view_module": "@jupyter-widgets/controls",
            "_model_module_version": "1.5.0",
            "value": 10,
            "_view_count": null,
            "_view_module_version": "1.5.0",
            "orientation": "horizontal",
            "min": 0,
            "description_tooltip": null,
            "_model_module": "@jupyter-widgets/controls",
            "layout": "IPY_MODEL_c1c35469e0074a0da9edf7cf9dc2c337"
          }
        },
        "cb91dbc88e3e466db9c412e514e67d54": {
          "model_module": "@jupyter-widgets/controls",
          "model_name": "HTMLModel",
          "state": {
            "_view_name": "HTMLView",
            "style": "IPY_MODEL_2b516f3f5198440f8611c096ed599a08",
            "_dom_classes": [],
            "description": "",
            "_model_name": "HTMLModel",
            "placeholder": "​",
            "_view_module": "@jupyter-widgets/controls",
            "_model_module_version": "1.5.0",
            "value": " 10/10 [05:43&lt;00:00, 34.35s/it]",
            "_view_count": null,
            "_view_module_version": "1.5.0",
            "description_tooltip": null,
            "_model_module": "@jupyter-widgets/controls",
            "layout": "IPY_MODEL_fd17673b5bee4bb08c6bb699b8490d27"
          }
        },
        "58ea91d4a89448ff99508047c34f7007": {
          "model_module": "@jupyter-widgets/controls",
          "model_name": "ProgressStyleModel",
          "state": {
            "_view_name": "StyleView",
            "_model_name": "ProgressStyleModel",
            "description_width": "initial",
            "_view_module": "@jupyter-widgets/base",
            "_model_module_version": "1.5.0",
            "_view_count": null,
            "_view_module_version": "1.2.0",
            "bar_color": null,
            "_model_module": "@jupyter-widgets/controls"
          }
        },
        "c1c35469e0074a0da9edf7cf9dc2c337": {
          "model_module": "@jupyter-widgets/base",
          "model_name": "LayoutModel",
          "state": {
            "_view_name": "LayoutView",
            "grid_template_rows": null,
            "right": null,
            "justify_content": null,
            "_view_module": "@jupyter-widgets/base",
            "overflow": null,
            "_model_module_version": "1.2.0",
            "_view_count": null,
            "flex_flow": null,
            "width": null,
            "min_width": null,
            "border": null,
            "align_items": null,
            "bottom": null,
            "_model_module": "@jupyter-widgets/base",
            "top": null,
            "grid_column": null,
            "overflow_y": null,
            "overflow_x": null,
            "grid_auto_flow": null,
            "grid_area": null,
            "grid_template_columns": null,
            "flex": null,
            "_model_name": "LayoutModel",
            "justify_items": null,
            "grid_row": null,
            "max_height": null,
            "align_content": null,
            "visibility": null,
            "align_self": null,
            "height": null,
            "min_height": null,
            "padding": null,
            "grid_auto_rows": null,
            "grid_gap": null,
            "max_width": null,
            "order": null,
            "_view_module_version": "1.2.0",
            "grid_template_areas": null,
            "object_position": null,
            "object_fit": null,
            "grid_auto_columns": null,
            "margin": null,
            "display": null,
            "left": null
          }
        },
        "2b516f3f5198440f8611c096ed599a08": {
          "model_module": "@jupyter-widgets/controls",
          "model_name": "DescriptionStyleModel",
          "state": {
            "_view_name": "StyleView",
            "_model_name": "DescriptionStyleModel",
            "description_width": "",
            "_view_module": "@jupyter-widgets/base",
            "_model_module_version": "1.5.0",
            "_view_count": null,
            "_view_module_version": "1.2.0",
            "_model_module": "@jupyter-widgets/controls"
          }
        },
        "fd17673b5bee4bb08c6bb699b8490d27": {
          "model_module": "@jupyter-widgets/base",
          "model_name": "LayoutModel",
          "state": {
            "_view_name": "LayoutView",
            "grid_template_rows": null,
            "right": null,
            "justify_content": null,
            "_view_module": "@jupyter-widgets/base",
            "overflow": null,
            "_model_module_version": "1.2.0",
            "_view_count": null,
            "flex_flow": null,
            "width": null,
            "min_width": null,
            "border": null,
            "align_items": null,
            "bottom": null,
            "_model_module": "@jupyter-widgets/base",
            "top": null,
            "grid_column": null,
            "overflow_y": null,
            "overflow_x": null,
            "grid_auto_flow": null,
            "grid_area": null,
            "grid_template_columns": null,
            "flex": null,
            "_model_name": "LayoutModel",
            "justify_items": null,
            "grid_row": null,
            "max_height": null,
            "align_content": null,
            "visibility": null,
            "align_self": null,
            "height": null,
            "min_height": null,
            "padding": null,
            "grid_auto_rows": null,
            "grid_gap": null,
            "max_width": null,
            "order": null,
            "_view_module_version": "1.2.0",
            "grid_template_areas": null,
            "object_position": null,
            "object_fit": null,
            "grid_auto_columns": null,
            "margin": null,
            "display": null,
            "left": null
          }
        }
      }
    }
  },
  "cells": [
    {
      "cell_type": "markdown",
      "metadata": {
        "id": "view-in-github",
        "colab_type": "text"
      },
      "source": [
        "<a href=\"https://colab.research.google.com/github/NeuromatchAcademy/course-content-dl/blob/minor_fix_nlps/projects/NaturalLanguageProcessing/machine_translation.ipynb\" target=\"_parent\"><img src=\"https://colab.research.google.com/assets/colab-badge.svg\" alt=\"Open In Colab\"/></a>"
      ]
    },
    {
      "cell_type": "markdown",
      "metadata": {
        "id": "mrjfOU4ieORd"
      },
      "source": [
        "# Machine Translation\n",
        "\n",
        "**By Neuromatch Academy**\n",
        "\n",
        "__Content creators:__ Juan Manuel Rodriguez, Salomey Osei"
      ]
    },
    {
      "cell_type": "markdown",
      "metadata": {
        "id": "dIxkN7e4uO1X"
      },
      "source": [
        "**Our 2021 Sponsors, including Presenting Sponsor Facebook Reality Labs**\n",
        "\n",
        "<p align='center'><img src='https://github.com/NeuromatchAcademy/widgets/blob/master/sponsors.png?raw=True'/></p>"
      ]
    },
    {
      "cell_type": "markdown",
      "metadata": {
        "id": "rCZZzuHYuQjQ"
      },
      "source": [
        "---\n",
        "# Objective\n",
        "\n",
        "The main goal of this project is to train a sequence to sequence NN that transtlate a language into another language, e.g. french to english. This notebook is based on this [Pytorch tutorial](https://pytorch.org/tutorials/intermediate/seq2seq_translation_tutorial.html), but change several thing. "
      ]
    },
    {
      "cell_type": "markdown",
      "metadata": {
        "id": "a6pQqIlXyy0x"
      },
      "source": [
        "---\n",
        "# Setup"
      ]
    },
    {
      "cell_type": "code",
      "metadata": {
        "id": "R6dc1cXyxK45"
      },
      "source": [
        "# Imports\n",
        "import io\n",
        "import re\n",
        "import math\n",
        "import random\n",
        "import unicodedata\n",
        "\n",
        "import numpy as np\n",
        "import matplotlib.pyplot as plt\n",
        "\n",
        "import torch\n",
        "import torch.nn as nn\n",
        "import torch.nn.functional as F\n",
        "from torch import optim\n",
        "\n",
        "from tqdm.notebook import tqdm\n",
        "from sklearn.utils import shuffle\n",
        "\n",
        "device = torch.device(\"cuda\" if torch.cuda.is_available() else \"cpu\")"
      ],
      "execution_count": 1,
      "outputs": []
    },
    {
      "cell_type": "code",
      "metadata": {
        "id": "eMgWHCkGuOH0"
      },
      "source": [
        "# Download the data\n",
        "import requests, zipfile\n",
        "\n",
        "zip_file_url = 'https://download.pytorch.org/tutorial/data.zip'\n",
        "r = requests.get(zip_file_url)\n",
        "z = zipfile.ZipFile(io.BytesIO(r.content))\n",
        "z.extractall()"
      ],
      "execution_count": 2,
      "outputs": []
    },
    {
      "cell_type": "code",
      "metadata": {
        "id": "tvCQ8k1RvmRU",
        "colab": {
          "base_uri": "https://localhost:8080/"
        },
        "outputId": "66832b44-d229-4672-cd3a-f7ad0bd233d9"
      },
      "source": [
        "N = 10  # print the 10 first lines\n",
        "with open('data/eng-fra.txt') as f:\n",
        "  for i in range(N):\n",
        "    line = next(f).strip()\n",
        "    print(line)"
      ],
      "execution_count": 3,
      "outputs": [
        {
          "output_type": "stream",
          "text": [
            "Go.\tVa !\n",
            "Run!\tCours !\n",
            "Run!\tCourez !\n",
            "Wow!\tÇa alors !\n",
            "Fire!\tAu feu !\n",
            "Help!\tÀ l'aide !\n",
            "Jump.\tSaute.\n",
            "Stop!\tÇa suffit !\n",
            "Stop!\tStop !\n",
            "Stop!\tArrête-toi !\n"
          ],
          "name": "stdout"
        }
      ]
    },
    {
      "cell_type": "markdown",
      "metadata": {
        "id": "0_g71k5Jfkrz"
      },
      "source": [
        "---\n",
        "# Representing the data\n",
        "\n",
        "We create a language representation defining indixes for each word. In addition to the words, our languages have three special tokens:\n",
        "\n",
        "* SOS: Start Of Sentence\n",
        "* EOS: End Of Sentence\n",
        "* PAD: Padding token used to fill inputs vectors where there are no other words."
      ]
    },
    {
      "cell_type": "code",
      "metadata": {
        "id": "hMkDdjXEYlzb"
      },
      "source": [
        "SOS_token = 0\n",
        "EOS_token = 1\n",
        "\n",
        "class Lang:\n",
        "  def __init__(self, name):\n",
        "    self.name = name\n",
        "    self.word2index = {}\n",
        "    self.word2count = {}\n",
        "    self.index2word = {0: \"SOS\", 1: \"EOS\", 2: \"PAD\"}\n",
        "    self.n_words = 3  # Count SOS and EOS and PAD\n",
        "\n",
        "  def addSentence(self, sentence):\n",
        "    for word in sentence.split(' '):\n",
        "      self.addWord(word)\n",
        "\n",
        "  def addWord(self, word):\n",
        "    if word not in self.word2index:\n",
        "      self.word2index[word] = self.n_words\n",
        "      self.word2count[word] = 1\n",
        "      self.index2word[self.n_words] = word\n",
        "      self.n_words += 1\n",
        "    else:\n",
        "      self.word2count[word] += 1\n",
        "\n",
        "\n",
        "def unicodeToAscii(s):\n",
        "  return ''.join(\n",
        "      c for c in unicodedata.normalize('NFD', s)\n",
        "      if unicodedata.category(c) != 'Mn'\n",
        "  )\n",
        "\n",
        "\n",
        "def normalizeString(s):\n",
        "  s = unicodeToAscii(s.lower().strip())\n",
        "  s = re.sub(r\"([.!?])\", r\" \\1\", s)\n",
        "  s = re.sub(r\"[^a-zA-Z.!?]+\", r\" \", s)\n",
        "  return s\n",
        "\n",
        "\n",
        "def readLangs(lang1, lang2, reverse=False):\n",
        "  print(\"Reading lines...\")\n",
        "\n",
        "  # Read the file and split into lines\n",
        "  lines = io.open('data/%s-%s.txt' % (lang1, lang2), encoding='utf-8').\\\n",
        "      read().strip().split('\\n')\n",
        "\n",
        "  # Split every line into pairs and normalize\n",
        "  pairs = [[normalizeString(s) for s in l.split('\\t')] for l in lines]\n",
        "\n",
        "  # Reverse pairs, make Lang instances\n",
        "  if reverse:\n",
        "      pairs = [list(reversed(p)) for p in pairs]\n",
        "      input_lang = Lang(lang2)\n",
        "      output_lang = Lang(lang1)\n",
        "  else:\n",
        "      input_lang = Lang(lang1)\n",
        "      output_lang = Lang(lang2)\n",
        "\n",
        "  return input_lang, output_lang, pairs"
      ],
      "execution_count": 4,
      "outputs": []
    },
    {
      "cell_type": "code",
      "metadata": {
        "id": "i47NTavyfmvV"
      },
      "source": [
        "MAX_LENGTH = 10\n",
        "\n",
        "eng_prefixes = (\n",
        "    \"i am \", \"i m \",\n",
        "    \"he is\", \"he s \",\n",
        "    \"she is\", \"she s \",\n",
        "    \"you are\", \"you re \",\n",
        "    \"we are\", \"we re \",\n",
        "    \"they are\", \"they re \"\n",
        ")\n",
        "\n",
        "\n",
        "def filterPair(p):\n",
        "  return len(p[0].split(' ')) < MAX_LENGTH and \\\n",
        "      len(p[1].split(' ')) < MAX_LENGTH and \\\n",
        "      p[1].startswith(eng_prefixes)\n",
        "\n",
        "\n",
        "def filterPairs(pairs):\n",
        "  return [pair for pair in pairs if filterPair(pair)]"
      ],
      "execution_count": 5,
      "outputs": []
    },
    {
      "cell_type": "code",
      "metadata": {
        "id": "FZrCKd0gfo-i",
        "colab": {
          "base_uri": "https://localhost:8080/"
        },
        "outputId": "41b41e33-f271-4eff-8ee9-03ae2359c88d"
      },
      "source": [
        "def prepareData(lang1, lang2, reverse=False):\n",
        "  input_lang, output_lang, pairs = readLangs(lang1, lang2, reverse)\n",
        "  print(\"Read %s sentence pairs\" % len(pairs))\n",
        "  pairs = filterPairs(pairs)\n",
        "  print(\"Trimmed to %s sentence pairs\" % len(pairs))\n",
        "  print(\"Counting words...\")\n",
        "  for pair in pairs:\n",
        "    input_lang.addSentence(pair[0])\n",
        "    output_lang.addSentence(pair[1])\n",
        "  print(\"Counted words:\")\n",
        "  print(input_lang.name, input_lang.n_words)\n",
        "  print(output_lang.name, output_lang.n_words)\n",
        "  return input_lang, output_lang, pairs\n",
        "\n",
        "\n",
        "input_lang, output_lang, pairs = prepareData('eng', 'fra', True)\n",
        "print(random.choice(pairs))"
      ],
      "execution_count": 6,
      "outputs": [
        {
          "output_type": "stream",
          "text": [
            "Reading lines...\n",
            "Read 135842 sentence pairs\n",
            "Trimmed to 10599 sentence pairs\n",
            "Counting words...\n",
            "Counted words:\n",
            "fra 4346\n",
            "eng 2804\n",
            "['je suis toujours prudent .', 'i m always careful .']\n"
          ],
          "name": "stdout"
        }
      ]
    },
    {
      "cell_type": "markdown",
      "metadata": {
        "id": "HuzulQZEfuDY"
      },
      "source": [
        "## Language word distributions\n",
        "\n",
        "We can check which is the word distribution in our dataset."
      ]
    },
    {
      "cell_type": "code",
      "metadata": {
        "id": "BeyIxcc6gcUY"
      },
      "source": [
        "def plot_lang(lang, top_k=100):\n",
        "  words = list(lang.word2count.keys())\n",
        "  words.sort(key=lambda w: lang.word2count[w], reverse=True)\n",
        "  print(words[:top_k])\n",
        "  count_occurences = sum(lang.word2count.values())\n",
        "\n",
        "  accumulated = 0\n",
        "  counter = 0\n",
        "\n",
        "  while accumulated < count_occurences * 0.8:\n",
        "    accumulated += lang.word2count[words[counter]]\n",
        "    counter += 1\n",
        "\n",
        "  print(f\"The {counter * 100 / len(words)}% most common words \"\n",
        "        f\"account for the {accumulated * 100 / count_occurences}% of the occurrences\")\n",
        "  plt.bar(range(100), [lang.word2count[w] for w in words[:top_k]])\n",
        "  plt.show()"
      ],
      "execution_count": 7,
      "outputs": []
    },
    {
      "cell_type": "code",
      "metadata": {
        "colab": {
          "base_uri": "https://localhost:8080/",
          "height": 319
        },
        "id": "1sPwWCs0hf3w",
        "outputId": "b4643ead-2d00-45dc-f54c-ac9a77e7a3b5"
      },
      "source": [
        "plot_lang(input_lang)"
      ],
      "execution_count": 8,
      "outputs": [
        {
          "output_type": "stream",
          "text": [
            "['.', 'je', 'suis', 'est', 'vous', 'pas', 'de', 'il', 'nous', 'tu', 'etes', 'ne', 'es', 'en', 'a', 'n', 'un', 'sommes', 'elle', 'la', 'tres', 'c', 'que', 'le', 'sont', 'j', 'une', 'd', 'ai', 'pour', 'l', 'ils', 'plus', 'ce', 'des', 'me', 'vais', 'elles', 'moi', '!', 'mon', 'trop', 'train', 'fort', 'si', 'ici', 'du', 'toujours', 'toi', 'tout', 'tous', 'les', '?', 'vraiment', 'sur', 't', 'te', 'm', 'dans', 'avec', 'avoir', 'encore', 'qu', 'tom', 'votre', 'au', 'peur', 'y', 'desole', 'bien', 'ca', 'bon', 'fais', 'toutes', 'heureux', 'faire', 'etre', 'son', 'aussi', 'assez', 'lui', 'tellement', 'ma', 'mes', 'fatigue', 'par', 'et', 'fait', 'ton', 'se', 'juste', 'maintenant', 'grand', 'desolee', 'avons', 'allons', 'peu', 'deux', 'on', 'vieux']\n",
            "The 4.674188349067465% most common words account for the 80.0371543427945% of the occurrences\n"
          ],
          "name": "stdout"
        },
        {
          "output_type": "display_data",
          "data": {
            "image/png": "[encoded data removed]",
            "text/plain": [
              "<Figure size 432x288 with 1 Axes>"
            ]
          },
          "metadata": {
            "tags": [],
            "needs_background": "light"
          }
        }
      ]
    },
    {
      "cell_type": "code",
      "metadata": {
        "colab": {
          "base_uri": "https://localhost:8080/",
          "height": 319
        },
        "id": "CPCMszrOicLn",
        "outputId": "299823bf-e7b7-45ec-a41b-7f50ef688d86"
      },
      "source": [
        "plot_lang(output_lang)"
      ],
      "execution_count": 9,
      "outputs": [
        {
          "output_type": "stream",
          "text": [
            "['.', 'i', 're', 'you', 'm', 'he', 'not', 'is', 'a', 'to', 'we', 's', 'the', 'very', 'are', 'of', 'she', 'am', 'they', 'in', 'going', 'my', 'for', 'all', 'at', 'here', 'with', 'that', 'good', 'as', 'your', 't', 'me', 'too', 'this', 'sorry', 'on', 'glad', 'it', 'than', 'now', 'happy', 'about', '?', 'aren', 'so', 'tired', 'afraid', 'sure', 'right', 'an', 'his', 'out', 'really', 'one', 'busy', 'still', 'just', 'old', 'always', 'tom', 'looking', 'be', 'friend', 'no', 'her', 'ready', 'by', '!', 'and', 'teacher', 'from', 'getting', 'him', 'alone', 'being', 'home', 'up', 'have', 'go', 'doing', 'help', 'see', 'proud', 'man', 'married', 'kind', 'who', 'waiting', 'yet', 'young', 'person', 'done', 'late', 'friends', 'new', 'anymore', 'hungry', 'such', 'sick']\n",
            "The 4.85540878257765% most common words account for the 80.00500226665207% of the occurrences\n"
          ],
          "name": "stdout"
        },
        {
          "output_type": "display_data",
          "data": {
            "image/png": "[encoded data removed]",
            "text/plain": [
              "<Figure size 432x288 with 1 Axes>"
            ]
          },
          "metadata": {
            "tags": [],
            "needs_background": "light"
          }
        }
      ]
    },
    {
      "cell_type": "markdown",
      "metadata": {
        "id": "69W-IrrCint7"
      },
      "source": [
        "## The RNN\n",
        "\n",
        "Our goal is to create a network that takes an input sentence in one language and then provides the translation of the sentence in an output language.  Our network will use an RNN which will consist of an encoder, and a decoder. The encoder will first transform our input sentence into a vector, and pass this condensed vector into the decoder which will then translate the text in our given language. The process of this is further explained in the diagram below:\n",
        "\n",
        "<img src=\"https://raw.githubusercontent.com/NeuromatchAcademy/course-content-dl/main/projects/static/seq2seq.png\" width=\"600\" height=\"300\">\n",
        "\n",
        "**Note:** Please note that this same approach can be used for next sentence prediction task"
      ]
    },
    {
      "cell_type": "code",
      "metadata": {
        "id": "PlfhVKoWf-Fg"
      },
      "source": [
        "class EncoderRNN(nn.Module):\n",
        "  def __init__(self, input_size, hidden_size):\n",
        "    super(EncoderRNN, self).__init__()\n",
        "    self.hidden_size = hidden_size\n",
        "\n",
        "    self.embedding = nn.Embedding(input_size, hidden_size)\n",
        "    self.gru = nn.GRU(hidden_size, hidden_size, batch_first=True)\n",
        "\n",
        "  def forward(self, input, hidden):\n",
        "    embedded = self.embedding(input)#.view(1, 1, -1)\n",
        "    output = embedded\n",
        "    output, hidden = self.gru(output, hidden)\n",
        "    return output, hidden\n",
        "\n",
        "  def initHidden(self, batch_size):\n",
        "    return torch.zeros(1, batch_size, self.hidden_size, device=device)"
      ],
      "execution_count": 10,
      "outputs": []
    },
    {
      "cell_type": "code",
      "metadata": {
        "id": "UDC-FMywgOZv"
      },
      "source": [
        "class DecoderRNN(nn.Module):\n",
        "  def __init__(self, hidden_size, output_size):\n",
        "    super(DecoderRNN, self).__init__()\n",
        "    self.hidden_size = hidden_size\n",
        "\n",
        "    self.embedding = nn.Embedding(output_size, hidden_size)\n",
        "    self.gru = nn.GRU(hidden_size, hidden_size, batch_first=True)\n",
        "    self.out = nn.Linear(hidden_size, output_size)\n",
        "    self.softmax = nn.LogSoftmax(dim=-1)\n",
        "\n",
        "  def forward(self, input, hidden):\n",
        "    output = self.embedding(input)\n",
        "    output = F.relu(output)\n",
        "    output, hidden = self.gru(output, hidden)\n",
        "    output = self.softmax(self.out(output))\n",
        "    return output, hidden\n",
        "\n",
        "  def initHidden(self):\n",
        "    return torch.zeros(1, 1, self.hidden_size, device=device)"
      ],
      "execution_count": 11,
      "outputs": []
    },
    {
      "cell_type": "markdown",
      "metadata": {
        "id": "GfZisthYlKWr"
      },
      "source": [
        "---\n",
        "# Representing the text\n"
      ]
    },
    {
      "cell_type": "code",
      "metadata": {
        "id": "z9A9tfanhsJt"
      },
      "source": [
        "def to_train(input_lang, output_lang, pairs, max_len=MAX_LENGTH+2):\n",
        "  x_input = []\n",
        "  x_output = []\n",
        "  target = []\n",
        "  for i, o in pairs:\n",
        "    s_i = [2] * max_len + [0] + [input_lang.word2index[w] for w in i.split(\" \")] + [1] \n",
        "    s_o = [0] + [output_lang.word2index[w] for w in o.split(\" \")] + [1] + [2] * max_len\n",
        "    s_to = s_o[1:] + [2]\n",
        "    x_input.append(s_i[-max_len:])\n",
        "    x_output.append(s_o[:max_len])\n",
        "    target.append(s_to[:max_len])\n",
        "  return x_input, x_output, target"
      ],
      "execution_count": 12,
      "outputs": []
    },
    {
      "cell_type": "code",
      "metadata": {
        "id": "MfyjPPFEjkYZ"
      },
      "source": [
        "x_input, x_partial, y = to_train(input_lang, output_lang, pairs)"
      ],
      "execution_count": 13,
      "outputs": []
    },
    {
      "cell_type": "code",
      "metadata": {
        "colab": {
          "base_uri": "https://localhost:8080/"
        },
        "id": "IUDhs4ljlUGy",
        "outputId": "e915654b-0c5e-4f70-9caa-8cc62c1aaa6a"
      },
      "source": [
        "print('Representation of an input sentece:')\n",
        "print(x_input[0])\n",
        "print(' '.join([input_lang.index2word[w] for w in x_input[0]]))\n",
        "print('\\nRepresentation of an partial sentece:')\n",
        "print(x_partial[0])\n",
        "print(' '.join([output_lang.index2word[w] for w in x_partial[0]]))\n",
        "print('\\nRepresentation of an target sentece:')\n",
        "print(y[0])\n",
        "print(' '.join([output_lang.index2word[w] for w in y[0]]))"
      ],
      "execution_count": 14,
      "outputs": [
        {
          "output_type": "stream",
          "text": [
            "Representation of an input sentece:\n",
            "[2, 2, 2, 2, 2, 2, 0, 3, 4, 5, 6, 1]\n",
            "PAD PAD PAD PAD PAD PAD SOS j ai ans . EOS\n",
            "\n",
            "Representation of an partial sentece:\n",
            "[0, 3, 4, 5, 1, 2, 2, 2, 2, 2, 2, 2]\n",
            "SOS i m . EOS PAD PAD PAD PAD PAD PAD PAD\n",
            "\n",
            "Representation of an target sentece:\n",
            "[3, 4, 5, 1, 2, 2, 2, 2, 2, 2, 2, 2]\n",
            "i m . EOS PAD PAD PAD PAD PAD PAD PAD PAD\n"
          ],
          "name": "stdout"
        }
      ]
    },
    {
      "cell_type": "markdown",
      "metadata": {
        "id": "NR4GHXfRmKOT"
      },
      "source": [
        "We represent the input sentence using left padding because the GRU network process the sentence left to rignt, and we want that the output is as close to our sentence as possible. In contrast, we use right padding to the partial translation sentence because we want that our context is process inmediatly by our decoder. Finally, our target is our partial translation left-shifted.\n",
        "\n",
        "## Training\n",
        "Using this representation, we can train our model. Notice that our feed the full sentences as partial translations instanted of feeding partial sentences. This speed-ups our training, as next words in the sentence do not affects the output of the network and the gradients up to that point. "
      ]
    },
    {
      "cell_type": "code",
      "metadata": {
        "id": "APcsuSycgfop"
      },
      "source": [
        "def predict(encoder, decoder, input, output):\n",
        "  _, hidden = encoder(input, encoder.initHidden(input.shape[0]))\n",
        "  out, _ = decoder(output, hidden)\n",
        "  return out\n",
        "\n",
        "def train(encoder, decoder, loss, input, output, target, learning_rate=0.001, epochs=10, batch_size=100):\n",
        "\n",
        "  plot_losses = []\n",
        "  plot_full_losses = []\n",
        "\n",
        "  encoder_optimizer = optim.SGD(encoder.parameters(), lr=learning_rate)\n",
        "  decoder_optimizer = optim.SGD(decoder.parameters(), lr=learning_rate)\n",
        "\n",
        "  for _ in tqdm(range(epochs)):\n",
        "    c_input, c_output, c_target = shuffle(input, output, target)\n",
        "    c_input = torch.tensor(c_input, dtype=torch.long, device=device)\n",
        "    c_output = torch.tensor(c_output, dtype=torch.long, device=device)\n",
        "    c_target = torch.tensor(c_target, dtype=torch.long, device=device)\n",
        "    acc_loss = 0\n",
        "    for i in range(0, c_target.shape[0], batch_size):\n",
        "      c_batch_size = c_target[i:i+batch_size, ...].shape[0]\n",
        "      encoder_optimizer.zero_grad()\n",
        "      decoder_optimizer.zero_grad()\n",
        "\n",
        "      out = predict(encoder, decoder, c_input[i:i+batch_size, ...], c_output[i:i+batch_size, ...])\n",
        "      #Reshapes the output and target to use the expected loss format. \n",
        "      # N x Classes for the output\n",
        "      # N for the targets\n",
        "      # Where N is the batch size\n",
        "      out = out.reshape(c_batch_size * c_input.shape[1], -1)\n",
        "      r_target = c_target[i:i+batch_size, ...].reshape(c_batch_size * c_input.shape[1])\n",
        "\n",
        "      c_loss = loss(out, r_target)\n",
        "      # Mask the errors for padding as they are not usefull!\n",
        "      valid = torch.where(r_target == 2, 0, 1)\n",
        "      c_loss = c_loss * valid\n",
        "      c_loss = torch.sum(c_loss) #/ torch.sum(valid)\n",
        "\n",
        "      c_loss.backward()\n",
        "\n",
        "      encoder_optimizer.step()\n",
        "      decoder_optimizer.step()\n",
        "      plot_full_losses.append(c_loss.detach().numpy())\n",
        "      acc_loss += c_loss.detach().numpy()\n",
        "    plot_losses.append(acc_loss /math.ceil(c_target.shape[0] / batch_size))\n",
        "  return plot_losses, plot_full_losses"
      ],
      "execution_count": 15,
      "outputs": []
    },
    {
      "cell_type": "code",
      "metadata": {
        "id": "DNIiOhdfwKRC",
        "colab": {
          "base_uri": "https://localhost:8080/",
          "height": 66,
          "referenced_widgets": [
            "3087c055cce9475eb0e1f5a81ac551f1",
            "277df5bfbdd2499191d50d0c88cb1fd2",
            "8d234c99f98a4abcb8ddd546b970f1d5",
            "cb91dbc88e3e466db9c412e514e67d54",
            "58ea91d4a89448ff99508047c34f7007",
            "c1c35469e0074a0da9edf7cf9dc2c337",
            "2b516f3f5198440f8611c096ed599a08",
            "fd17673b5bee4bb08c6bb699b8490d27"
          ]
        },
        "outputId": "79148624-c1de-49a3-b3f0-30add99a59fb"
      },
      "source": [
        "hidden_size = 300\n",
        "num_epochs = 10  # Change this to 50 (original value!)\n",
        "encoder = EncoderRNN(input_lang.n_words, hidden_size).to(device)\n",
        "decoder = DecoderRNN(hidden_size, output_lang.n_words)\n",
        "epoch_error, batch_error = train(encoder, decoder,\n",
        "                                 nn.NLLLoss(reduction='none'),\n",
        "                                 x_input, x_partial, y,\n",
        "                                 epochs=num_epochs)"
      ],
      "execution_count": 16,
      "outputs": [
        {
          "output_type": "display_data",
          "data": {
            "application/vnd.jupyter.widget-view+json": {
              "model_id": "3087c055cce9475eb0e1f5a81ac551f1",
              "version_minor": 0,
              "version_major": 2
            },
            "text/plain": [
              "HBox(children=(FloatProgress(value=0.0, max=10.0), HTML(value='')))"
            ]
          },
          "metadata": {
            "tags": []
          }
        },
        {
          "output_type": "stream",
          "text": [
            "\n"
          ],
          "name": "stdout"
        }
      ]
    },
    {
      "cell_type": "code",
      "metadata": {
        "id": "osLoVaf30RdC",
        "colab": {
          "base_uri": "https://localhost:8080/",
          "height": 573
        },
        "outputId": "ef5c756f-7d3e-4494-c2e2-e96786cd128e"
      },
      "source": [
        "#print(epoch_error)\n",
        "#print(batch_error)\n",
        "\n",
        "plt.plot(batch_error)\n",
        "plt.title('model loss')\n",
        "plt.ylabel('loss')\n",
        "plt.xlabel('minibatch')\n",
        "plt.show()\n",
        "\n",
        "plt.plot(epoch_error)\n",
        "plt.title('model loss')\n",
        "plt.ylabel('loss')\n",
        "plt.xlabel('epoch')\n",
        "plt.show()"
      ],
      "execution_count": 17,
      "outputs": [
        {
          "output_type": "display_data",
          "data": {
            "image/png": "[encoded data removed]",
            "text/plain": [
              "<Figure size 432x288 with 1 Axes>"
            ]
          },
          "metadata": {
            "tags": [],
            "needs_background": "light"
          }
        },
        {
          "output_type": "display_data",
          "data": {
            "image/png": "[encoded data removed]",
            "text/plain": [
              "<Figure size 432x288 with 1 Axes>"
            ]
          },
          "metadata": {
            "tags": [],
            "needs_background": "light"
          }
        }
      ]
    },
    {
      "cell_type": "markdown",
      "metadata": {
        "id": "7tK6nXTwqTJr"
      },
      "source": [
        "---\n",
        "# Prediction and generation\n",
        "\n",
        "In the following cells, we can can see how our Seq2Seq model produces a prediction."
      ]
    },
    {
      "cell_type": "code",
      "metadata": {
        "id": "2Oh9JbyF9cd6"
      },
      "source": [
        "p = predict(encoder, decoder, torch.tensor([x_input[40]],\n",
        "                                           dtype=torch.long,\n",
        "                                           device=device),\n",
        "            torch.tensor([x_partial[40]], dtype=torch.long, device=device))\n",
        "\n",
        "p = p.detach().numpy()"
      ],
      "execution_count": 18,
      "outputs": []
    },
    {
      "cell_type": "code",
      "metadata": {
        "id": "2Geqg4Ly93NE",
        "colab": {
          "base_uri": "https://localhost:8080/"
        },
        "outputId": "f6f20ff9-16c2-4824-861d-84be272d5ab6"
      },
      "source": [
        "print(np.argmax(p, axis=-1))\n",
        "print(x_partial[40])"
      ],
      "execution_count": 19,
      "outputs": [
        {
          "output_type": "stream",
          "text": [
            "[[  3   4 103   5   1   5   5   5   5   5   5   5]]\n",
            "[0, 3, 4, 32, 5, 1, 2, 2, 2, 2, 2, 2]\n"
          ],
          "name": "stdout"
        }
      ]
    },
    {
      "cell_type": "markdown",
      "metadata": {
        "id": "1yxi0OitrEG2"
      },
      "source": [
        "---\n",
        "# Generating a translation\n",
        "\n",
        "The generation is a very simple iterative process:\n",
        "\n",
        "1. Initialize the partiar translation using only the start of sentence token '\n",
        "SOS' (its id, which is 0).\n",
        "1. Repeat:\n",
        "    1. Predict the probability distribution for the next token given the partial translation.\n",
        "    1. Pick the most probable token. (other option is to sample the distribution).\n",
        "    1. Add that token to the translation.\n",
        "    1. If the token is EOF, break the loop.\n",
        "1. Return the partial translation, which is now a full translation.\n",
        "\n",
        "If we want to generate several candidates, we can use other generation algorithm. [Beam Search](https://www.youtube.com/watch?v=RLWuzLLSIgw) is a great option for this."
      ]
    },
    {
      "cell_type": "code",
      "metadata": {
        "id": "pk6uUzGY9FZz"
      },
      "source": [
        "def gen_translation(encoder, decoder, text, input_lang, output_lang,\n",
        "                    max_len=MAX_LENGTH+2):\n",
        "\n",
        "  text =  [2] * max_len + [0] + [input_lang.word2index[w] for w in text.split(\" \")] + [1]\n",
        "  text = torch.tensor([text[-max_len:]], dtype=torch.long, device=device)\n",
        "  out = [0] + [2] * max_len\n",
        "  out = [out[:max_len]]\n",
        "  for i in range(1, max_len):\n",
        "    pt_out =torch.tensor(out, dtype=torch.long, device=device)\n",
        "    p = predict(encoder, decoder, text, pt_out).detach().numpy()\n",
        "    out[0][i] = np.argmax(p, axis=-1)[0, i-1]\n",
        "    if np.argmax(p, axis=-1)[0, i-1] == 1:\n",
        "      break\n",
        "\n",
        "  return ' '.join([output_lang.index2word[idx] for idx in out[0]])"
      ],
      "execution_count": 20,
      "outputs": []
    },
    {
      "cell_type": "code",
      "metadata": {
        "id": "LLlak9FU1k6Z",
        "colab": {
          "base_uri": "https://localhost:8080/",
          "height": 35
        },
        "outputId": "a1b4b069-fb17-4927-b1b4-082c855b4f95"
      },
      "source": [
        "gen_translation(encoder, decoder, pairs[40][0], input_lang, output_lang)"
      ],
      "execution_count": 21,
      "outputs": [
        {
          "output_type": "execute_result",
          "data": {
            "application/vnd.google.colaboratory.intrinsic+json": {
              "type": "string"
            },
            "text/plain": [
              "'SOS i m in trouble . EOS PAD PAD PAD PAD PAD'"
            ]
          },
          "metadata": {
            "tags": []
          },
          "execution_count": 21
        }
      ]
    },
    {
      "cell_type": "code",
      "metadata": {
        "id": "fCDh2CU43eAN",
        "colab": {
          "base_uri": "https://localhost:8080/"
        },
        "outputId": "169b36ec-e274-4446-f58a-a619d78cca31"
      },
      "source": [
        "for i in range(40):\n",
        "  print('> {}'.format(pairs[i][0]))\n",
        "  print('= {}'.format(pairs[i][1]))\n",
        "  print('< {}'.format(gen_translation(encoder, decoder,\n",
        "                                      pairs[i][0],\n",
        "                                      input_lang,\n",
        "                                      output_lang)))\n",
        "  print('*' * 40)"
      ],
      "execution_count": 22,
      "outputs": [
        {
          "output_type": "stream",
          "text": [
            "> j ai ans .\n",
            "= i m .\n",
            "< SOS i m just . EOS PAD PAD PAD PAD PAD PAD\n",
            "****************************************\n",
            "> je vais bien .\n",
            "= i m ok .\n",
            "< SOS i m going to be . EOS PAD PAD PAD PAD\n",
            "****************************************\n",
            "> ca va .\n",
            "= i m ok .\n",
            "< SOS i m going to go . EOS PAD PAD PAD PAD\n",
            "****************************************\n",
            "> je suis gras .\n",
            "= i m fat .\n",
            "< SOS i m in . EOS PAD PAD PAD PAD PAD PAD\n",
            "****************************************\n",
            "> je suis gros .\n",
            "= i m fat .\n",
            "< SOS i m exhausted . EOS PAD PAD PAD PAD PAD PAD\n",
            "****************************************\n",
            "> je suis en forme .\n",
            "= i m fit .\n",
            "< SOS i m in trouble . EOS PAD PAD PAD PAD PAD\n",
            "****************************************\n",
            "> je suis touche !\n",
            "= i m hit !\n",
            "< SOS i m so ! EOS PAD PAD PAD PAD PAD PAD\n",
            "****************************************\n",
            "> je suis touchee !\n",
            "= i m hit !\n",
            "< SOS i m so ! EOS PAD PAD PAD PAD PAD PAD\n",
            "****************************************\n",
            "> je suis malade .\n",
            "= i m ill .\n",
            "< SOS i m being . EOS PAD PAD PAD PAD PAD PAD\n",
            "****************************************\n",
            "> je suis triste .\n",
            "= i m sad .\n",
            "< SOS i m in trouble . EOS PAD PAD PAD PAD PAD\n",
            "****************************************\n",
            "> je suis timide .\n",
            "= i m shy .\n",
            "< SOS i m a little . EOS PAD PAD PAD PAD PAD\n",
            "****************************************\n",
            "> je suis mouille .\n",
            "= i m wet .\n",
            "< SOS i m in . EOS PAD PAD PAD PAD PAD PAD\n",
            "****************************************\n",
            "> je suis mouillee .\n",
            "= i m wet .\n",
            "< SOS i m a little . EOS PAD PAD PAD PAD PAD\n",
            "****************************************\n",
            "> il est mouille .\n",
            "= he s wet .\n",
            "< SOS he s a good . EOS PAD PAD PAD PAD PAD\n",
            "****************************************\n",
            "> je suis gras .\n",
            "= i am fat .\n",
            "< SOS i m in . EOS PAD PAD PAD PAD PAD PAD\n",
            "****************************************\n",
            "> je suis revenu .\n",
            "= i m back .\n",
            "< SOS i m in . EOS PAD PAD PAD PAD PAD PAD\n",
            "****************************************\n",
            "> me revoila .\n",
            "= i m back .\n",
            "< SOS i m being . EOS PAD PAD PAD PAD PAD PAD\n",
            "****************************************\n",
            "> je suis chauve .\n",
            "= i m bald .\n",
            "< SOS i m being . EOS PAD PAD PAD PAD PAD PAD\n",
            "****************************************\n",
            "> je suis occupe .\n",
            "= i m busy .\n",
            "< SOS i m in . EOS PAD PAD PAD PAD PAD PAD\n",
            "****************************************\n",
            "> je suis occupee .\n",
            "= i m busy .\n",
            "< SOS i m really . EOS PAD PAD PAD PAD PAD PAD\n",
            "****************************************\n",
            "> je suis calme .\n",
            "= i m calm .\n",
            "< SOS i m so . EOS PAD PAD PAD PAD PAD PAD\n",
            "****************************************\n",
            "> j ai froid .\n",
            "= i m cold .\n",
            "< SOS i m in trouble . EOS PAD PAD PAD PAD PAD\n",
            "****************************************\n",
            "> j en ai fini .\n",
            "= i m done .\n",
            "< SOS i m getting tired . EOS PAD PAD PAD PAD PAD\n",
            "****************************************\n",
            "> tout va bien .\n",
            "= i m fine .\n",
            "< SOS i m all happy . EOS PAD PAD PAD PAD PAD\n",
            "****************************************\n",
            "> je vais bien .\n",
            "= i m fine .\n",
            "< SOS i m going to be . EOS PAD PAD PAD PAD\n",
            "****************************************\n",
            "> ca va .\n",
            "= i m fine .\n",
            "< SOS i m going to go . EOS PAD PAD PAD PAD\n",
            "****************************************\n",
            "> je suis libre !\n",
            "= i m free !\n",
            "< SOS i m so ! EOS PAD PAD PAD PAD PAD PAD\n",
            "****************************************\n",
            "> je suis libre .\n",
            "= i m free .\n",
            "< SOS i m a little . EOS PAD PAD PAD PAD PAD\n",
            "****************************************\n",
            "> je suis disponible .\n",
            "= i m free .\n",
            "< SOS i m . EOS PAD PAD PAD PAD PAD PAD PAD\n",
            "****************************************\n",
            "> je suis repu !\n",
            "= i m full .\n",
            "< SOS i m so ! EOS PAD PAD PAD PAD PAD PAD\n",
            "****************************************\n",
            "> je suis rassasie !\n",
            "= i m full .\n",
            "< SOS i m so ! EOS PAD PAD PAD PAD PAD PAD\n",
            "****************************************\n",
            "> je suis content .\n",
            "= i m glad .\n",
            "< SOS i m happy . EOS PAD PAD PAD PAD PAD PAD\n",
            "****************************************\n",
            "> je suis chez moi .\n",
            "= i m home .\n",
            "< SOS i m in trouble . EOS PAD PAD PAD PAD PAD\n",
            "****************************************\n",
            "> je suis en retard .\n",
            "= i m late .\n",
            "< SOS i m in trouble . EOS PAD PAD PAD PAD PAD\n",
            "****************************************\n",
            "> je suis paresseux .\n",
            "= i m lazy .\n",
            "< SOS i m being . EOS PAD PAD PAD PAD PAD PAD\n",
            "****************************************\n",
            "> je suis faineant .\n",
            "= i m lazy .\n",
            "< SOS i m being . EOS PAD PAD PAD PAD PAD PAD\n",
            "****************************************\n",
            "> je suis paresseuse .\n",
            "= i m lazy .\n",
            "< SOS i m a teacher . EOS PAD PAD PAD PAD PAD\n",
            "****************************************\n",
            "> je suis faineante .\n",
            "= i m lazy .\n",
            "< SOS i m a teacher . EOS PAD PAD PAD PAD PAD\n",
            "****************************************\n",
            "> je vais bien .\n",
            "= i m okay .\n",
            "< SOS i m going to be . EOS PAD PAD PAD PAD\n",
            "****************************************\n",
            "> je me porte bien .\n",
            "= i m okay .\n",
            "< SOS i m looking . EOS PAD PAD PAD PAD PAD PAD\n",
            "****************************************\n"
          ],
          "name": "stdout"
        }
      ]
    },
    {
      "cell_type": "code",
      "metadata": {
        "colab": {
          "base_uri": "https://localhost:8080/"
        },
        "id": "3m2Qiq9odKAD",
        "outputId": "cb6863f7-9fe6-499a-d785-356d97481045"
      },
      "source": [
        "for i in range(40):\n",
        "  print('> {}'.format(pairs[-i][0]))\n",
        "  print('= {}'.format(pairs[-i][1]))\n",
        "  print('< {}'.format(gen_translation(encoder, decoder,\n",
        "                                      pairs[-i][0],\n",
        "                                      input_lang,\n",
        "                                      output_lang)))\n",
        "  print('*' * 40)"
      ],
      "execution_count": 23,
      "outputs": [
        {
          "output_type": "stream",
          "text": [
            "> j ai ans .\n",
            "= i m .\n",
            "< SOS i m just . EOS PAD PAD PAD PAD PAD PAD\n",
            "****************************************\n",
            "> il est un des candidats aux presidentielles americaines .\n",
            "= he is one of the american presidential candidates .\n",
            "< SOS he s a good person and are . EOS PAD PAD\n",
            "****************************************\n",
            "> ils collectent des dons pour l eglise .\n",
            "= they are collecting contributions for the church .\n",
            "< SOS they re in the same age . EOS PAD PAD PAD\n",
            "****************************************\n",
            "> j ai quelques difficultes a compiler ce programme .\n",
            "= i m having some problems compiling this software .\n",
            "< SOS i m going to be your father . EOS PAD PAD\n",
            "****************************************\n",
            "> il entreprend des experiences dans son laboratoire .\n",
            "= he is carrying out experiments in his laboratory .\n",
            "< SOS he s always his own . EOS PAD PAD PAD PAD\n",
            "****************************************\n",
            "> elle est non seulement belle mais aussi intelligente .\n",
            "= she is not only beautiful but also intelligent .\n",
            "< SOS she s not very good at this evening . EOS PAD\n",
            "****************************************\n",
            "> nous enquetons sur le meurtre de tom jackson .\n",
            "= we re investigating the murder of tom jackson .\n",
            "< SOS we re going to be late for tom . EOS PAD\n",
            "****************************************\n",
            "> elle est tres receptive a la suggestion hypnotique .\n",
            "= she s very susceptible to hypnotic suggestion .\n",
            "< SOS she s very busy in the mood . EOS PAD PAD\n",
            "****************************************\n",
            "> elle trouve toujours a redire aux autres .\n",
            "= she is always finding fault with other people .\n",
            "< SOS she is always complaining to her with him . EOS PAD\n",
            "****************************************\n",
            "> je pense apprendre le coreen le semestre prochain .\n",
            "= i m thinking of learning korean next semester .\n",
            "< SOS i m going to the one who trained me . EOS\n",
            "****************************************\n",
            "> tu es probablement trop jeune pour le comprendre .\n",
            "= you re probably too young to understand this .\n",
            "< SOS you re too young to go for the job . EOS\n",
            "****************************************\n",
            "> vous etes probablement trop jeune pour le comprendre .\n",
            "= you re probably too young to understand this .\n",
            "< SOS you re too young to go for the job . EOS\n",
            "****************************************\n",
            "> tu es trop critique des defauts des autres .\n",
            "= you are too critical of others shortcomings .\n",
            "< SOS you re too young to go . EOS PAD PAD PAD\n",
            "****************************************\n",
            "> vous etes trop critique des defauts des autres .\n",
            "= you are too critical of others shortcomings .\n",
            "< SOS you re too young to go . EOS PAD PAD PAD\n",
            "****************************************\n",
            "> nous attendons la publication de son ouvrage .\n",
            "= we are expecting the publication of his book .\n",
            "< SOS we are going to be late . EOS PAD PAD PAD\n",
            "****************************************\n",
            "> elle est forte pour inventer des histoires interessantes .\n",
            "= she is good at making up interesting stories .\n",
            "< SOS she s in good at home now . EOS PAD PAD\n",
            "****************************************\n",
            "> elle trouve toujours des defauts a son mari .\n",
            "= she is always finding fault with her husband .\n",
            "< SOS she s always complaining about her car . EOS PAD PAD\n",
            "****************************************\n",
            "> je lui dis constamment de bien se comporter .\n",
            "= i m constantly telling her to behave herself .\n",
            "< SOS i m afraid of all right now . EOS PAD PAD\n",
            "****************************************\n",
            "> c est un interprete dans une banque internationale .\n",
            "= he s an interpreter in an international bank .\n",
            "< SOS he s a bit man . EOS PAD PAD PAD PAD\n",
            "****************************************\n",
            "> il est expert en litterature francaise .\n",
            "= he is well acquainted with french literature .\n",
            "< SOS he s in the same age . EOS PAD PAD PAD\n",
            "****************************************\n",
            "> il bataille encore avec les croyances religieuses .\n",
            "= he is still grappling with religious beliefs .\n",
            "< SOS he s always complaining about it . EOS PAD PAD PAD\n",
            "****************************************\n",
            "> il est competent en espagnol et en italien .\n",
            "= he is proficient in both spanish and italian .\n",
            "< SOS he s in the same age of us . EOS PAD\n",
            "****************************************\n",
            "> il quitte narita pour hawaii ce soir .\n",
            "= he is leaving narita for hawaii this evening .\n",
            "< SOS he s too young to go now . EOS PAD PAD\n",
            "****************************************\n",
            "> il s amuse en jouant aux jeux videos .\n",
            "= he is amusing himself by playing video games .\n",
            "< SOS he s not going to be late . EOS PAD PAD\n",
            "****************************************\n",
            "> il trouve toujours a redire aux autres .\n",
            "= he is always finding fault with other people .\n",
            "< SOS he s always complaining about his own . EOS PAD PAD\n",
            "****************************************\n",
            "> nous discuterons du probleme demain .\n",
            "= we re going to discuss the problem tomorrow .\n",
            "< SOS we re going to be late . EOS PAD PAD PAD\n",
            "****************************************\n",
            "> nous avons des problemes avec notre nouveau voisin .\n",
            "= we are having trouble with our new neighbor .\n",
            "< SOS we re going to be late for this . EOS PAD\n",
            "****************************************\n",
            "> il me tarde de recevoir votre reponse .\n",
            "= i m looking forward to receiving your reply .\n",
            "< SOS i m going to be your father . EOS PAD PAD\n",
            "****************************************\n",
            "> j ai hate de recevoir ta reponse .\n",
            "= i m looking forward to receiving your reply .\n",
            "< SOS i m looking forward to be your help . EOS PAD\n",
            "****************************************\n",
            "> je pense cloturer mon compte d epargne .\n",
            "= i am thinking of closing my savings account .\n",
            "< SOS i m just my father is out . EOS PAD PAD\n",
            "****************************************\n",
            "> je suis etonne par ton attitude irresponsable .\n",
            "= i am alarmed by your irresponsible attitude .\n",
            "< SOS i m glad to see you again . EOS PAD PAD\n",
            "****************************************\n",
            "> je suis inquiet de votre attitude irresponsable .\n",
            "= i am alarmed by your irresponsible attitude .\n",
            "< SOS i m glad to see you again . EOS PAD PAD\n",
            "****************************************\n",
            "> il est une autorite reconnue sur le sujet .\n",
            "= he is a recognized authority on the subject .\n",
            "< SOS he s a good person . EOS PAD PAD PAD PAD\n",
            "****************************************\n",
            "> nous avons des invites ce soir .\n",
            "= we re having some guests over this evening .\n",
            "< SOS we re going to be late . EOS PAD PAD PAD\n",
            "****************************************\n",
            "> nous nous rejouissons de vous revoir .\n",
            "= we are looking forward to seeing you again .\n",
            "< SOS we re going to be your help . EOS PAD PAD\n",
            "****************************************\n",
            "> elles sont disposees a discuter du probleme .\n",
            "= they are willing to talk about the problem .\n",
            "< SOS they are both to the same age . EOS PAD PAD\n",
            "****************************************\n",
            "> ils sont disposes a discuter du probleme .\n",
            "= they are willing to talk about the problem .\n",
            "< SOS they are in the same age . EOS PAD PAD PAD\n",
            "****************************************\n",
            "> ils parlent de ce qu ils vont chanter .\n",
            "= they are talking about what they will sing .\n",
            "< SOS they re going to be late for tom . EOS PAD\n",
            "****************************************\n",
            "> je suis le porte parole de cette institution .\n",
            "= i m the spokesperson for this organization .\n",
            "< SOS i m the one who trained me . EOS PAD PAD\n",
            "****************************************\n",
            "> je suis le porte parole de cette organisation .\n",
            "= i m the spokesperson for this organization .\n",
            "< SOS i m in the same age of this . EOS PAD\n",
            "****************************************\n"
          ],
          "name": "stdout"
        }
      ]
    },
    {
      "cell_type": "markdown",
      "metadata": {
        "id": "P1IzAEWktgrQ"
      },
      "source": [
        "---\n",
        "# To dos\n",
        "\n",
        "1. We use the full dataset to train/test. This is not a great idea, you should split the dataset into training/test.\n",
        "2. We did some empirical evaluation looking at the translated senteces. Other evaluation can be done using metrics like [BLUE](https://www.nltk.org/api/nltk.translate.html?highlight=bleu_score#module-nltk.translate.bleu_score) score.\n",
        "3. We try it with languages that are writting in a left-rigth as input and output. What happens if the languages are not written in this way? [Datasets](https://www.manythings.org/anki/) [Even more](https://tatoeba.org/en/downloads) \n",
        "4. It would be possible to do machine translation using other NN architectures, such as attention based model. \n",
        "5. We are not handling proper nouns, and that could be a problem.\n",
        "6. This can be applied to next sentence prediction."
      ]
    },
    {
      "cell_type": "markdown",
      "metadata": {
        "id": "NEysFWQo3ECG"
      },
      "source": [
        "---\n",
        "# Further reading\n",
        "* [Sequence to Sequence Learning with Neural Networks](https://arxiv.org/abs/1409.3215)\n",
        "\n",
        "* [Neural machine translation by jointly learning to align and translate](https://arxiv.org/abs/1409.0473)\n",
        "\n",
        "* [Effective Approaches to Attention-based Neural Machine Translation](https://arxiv.org/abs/1508.04025)"
      ]
    }
  ]
}