{
  "cells": [
    {
      "cell_type": "markdown",
      "metadata": {
        "execution": {},
        "id": "sgIXqXYCDBuR"
      },
      "source": [
        "# Performance Analysis of DQN Algorithm on the Lunar Lander task\n",
        "\n",
        "**By Neuromatch Academy**\n",
        "\n",
        "__Content creators:__ Raghuram Bharadwaj Diddigi, Geraud Nangue Tasse, Yamil Vidal, Sanjukta Krishnagopal, Sara Rajaee\n",
        "\n",
        "__Content editors:__ Shaonan Wang, Spiros Chavlis"
      ]
    },
    {
      "cell_type": "markdown",
      "metadata": {
        "execution": {},
        "id": "AKlrTCmFDBuS"
      },
      "source": [
        "---\n",
        "# Objective\n",
        "\n",
        "In this project, the objective is to analyze the performance of the Deep Q-Learning algorithm on an exciting task- Lunar Lander. Before we describe the task, let us focus on two keywords here - analysis and performance. What exactly do we mean by these keywords in the context of Reinforcement Learning (RL)?"
      ]
    },
    {
      "cell_type": "markdown",
      "metadata": {
        "execution": {},
        "id": "x5XKBDyYDBuS"
      },
      "source": [
        "---\n",
        "# Setup"
      ]
    },
    {
      "cell_type": "code",
      "execution_count": 1,
      "metadata": {
        "cellView": "form",
        "execution": {},
        "id": "WsHayfTHDBuS"
      },
      "outputs": [],
      "source": [
        "# @title Update/Upgrade the system and install libs\n",
        "!apt-get update > /dev/null 2>&1\n",
        "!apt-get install -y xvfb python-opengl ffmpeg > /dev/null 2>&1\n",
        "!apt-get install -y swig build-essential python-dev python3-dev > /dev/null 2>&1\n",
        "!apt-get install x11-utils > /dev/null 2>&1\n",
        "!apt-get install xvfb > /dev/null 2>&1"
      ]
    },
    {
      "cell_type": "code",
      "execution_count": 21,
      "metadata": {
        "execution": {},
        "id": "6fooEJQSDBuT",
        "outputId": "73371ac6-9d7e-42e4-acee-5a0636eec589",
        "colab": {
          "base_uri": "https://localhost:8080/"
        }
      },
      "outputs": [
        {
          "output_type": "stream",
          "name": "stdout",
          "text": [
            "Requirement already satisfied: swig in /usr/local/lib/python3.10/dist-packages (4.2.1)\n",
            "\u001b[2K     \u001b[90m━━━━━━━━━━━━━━━━━━━━━━━━━━━━━━━━━━━━━━━━\u001b[0m \u001b[32m14.0/14.0 MB\u001b[0m \u001b[31m61.0 MB/s\u001b[0m eta \u001b[36m0:00:00\u001b[0m\n",
            "\u001b[?25h"
          ]
        }
      ],
      "source": [
        "# @title Install dependencies\n",
        "!pip install rarfile --quiet\n",
        "!pip install stable-baselines3[extra] --quiet\n",
        "!pip install ale-py --quiet\n",
        "!pip install swig\n",
        "!pip install gym[box2d] --quiet\n",
        "!pip install pyvirtualdisplay --quiet\n",
        "!pip install pyglet --quiet\n",
        "!pip install pygame --quiet\n",
        "!pip install minigrid --quiet\n",
        "!pip install -q swig --quiet\n",
        "!pip install -q gymnasium[box2d] --quiet\n",
        "!pip install 'minigrid<=2.1.1' --quiet\n",
        "!pip3 install box2d-py --quiet"
      ]
    },
    {
      "cell_type": "code",
      "execution_count": 3,
      "metadata": {
        "execution": {},
        "id": "nA2Y9HGUDBuT"
      },
      "outputs": [],
      "source": [
        "# Imports\n",
        "import io\n",
        "import os\n",
        "import glob\n",
        "import torch\n",
        "import base64\n",
        "\n",
        "import numpy as np\n",
        "import matplotlib.pyplot as plt\n",
        "\n",
        "import sys\n",
        "import gymnasium\n",
        "sys.modules[\"gym\"] = gymnasium\n",
        "\n",
        "import stable_baselines3\n",
        "from stable_baselines3 import DQN\n",
        "from stable_baselines3.common.results_plotter import ts2xy, load_results\n",
        "from stable_baselines3.common.callbacks import EvalCallback\n",
        "from stable_baselines3.common.env_util import make_atari_env\n",
        "\n",
        "import gymnasium as gym\n",
        "from gym import spaces\n",
        "from gym.envs.box2d.lunar_lander import *\n",
        "from gym.wrappers.monitoring.video_recorder import VideoRecorder"
      ]
    },
    {
      "cell_type": "code",
      "execution_count": 4,
      "metadata": {
        "cellView": "form",
        "execution": {},
        "id": "_M-76WwDDBuT",
        "outputId": "74dde974-1a97-4be7-e7ce-6a2964b602e2",
        "colab": {
          "base_uri": "https://localhost:8080/"
        }
      },
      "outputs": [
        {
          "output_type": "stream",
          "name": "stderr",
          "text": [
            "/usr/local/lib/python3.10/dist-packages/ipykernel/ipkernel.py:283: DeprecationWarning: `should_run_async` will not call `transform_cell` automatically in the future. Please pass the result to `transformed_cell` argument and any exception that happen during thetransform in `preprocessing_exc_tuple` in IPython 7.17 and above.\n",
            "  and should_run_async(code)\n"
          ]
        }
      ],
      "source": [
        "# @title Play Video function\n",
        "from IPython.display import HTML\n",
        "from base64 import b64encode\n",
        "from pyvirtualdisplay import Display\n",
        "\n",
        "# create the directory to store the video(s)\n",
        "os.makedirs(\"./video\", exist_ok=True)\n",
        "\n",
        "display = Display(visible=False, size=(1400, 900))\n",
        "_ = display.start()\n",
        "\n",
        "\"\"\"\n",
        "Utility functions to enable video recording of gym environment\n",
        "and displaying it.\n",
        "To enable video, just do \"env = wrap_env(env)\"\"\n",
        "\"\"\"\n",
        "def render_mp4(videopath: str) -> str:\n",
        "  \"\"\"\n",
        "  Gets a string containing a b4-encoded version of the MP4 video\n",
        "  at the specified path.\n",
        "  \"\"\"\n",
        "  mp4 = open(videopath, 'rb').read()\n",
        "  base64_encoded_mp4 = b64encode(mp4).decode()\n",
        "  return f'<video width=400 controls><source src=\"data:video/mp4;' \\\n",
        "         f'base64,{base64_encoded_mp4}\" type=\"video/mp4\"></video>'"
      ]
    },
    {
      "cell_type": "markdown",
      "metadata": {
        "execution": {},
        "id": "UJnBSc5KDBuU"
      },
      "source": [
        "---\n",
        "# Introduction\n",
        "\n",
        "In a standard RL setting, an agent learns optimal behavior from an environment through a feedback mechanism to maximize a given objective. Many algorithms have been proposed in the RL literature that an agent can apply to learn the optimal behavior. One such popular algorithm is the Deep Q-Network (DQN). This algorithm makes use of deep neural networks to compute optimal actions. In this project, your goal is to understand the effect of the number of neural network layers on the algorithm's performance. The performance of the algorithm can be evaluated through two metrics - Speed and Stability.\n",
        "\n",
        "**Speed:** How fast the algorithm reaches the maximum possible reward.\n",
        "\n",
        "**Stability** In some applications (especially when online learning is involved), along with speed, stability of the algorithm, i.e., minimal fluctuations in performance, is equally important.\n",
        "\n",
        "In this project, you should investigate the following question:\n",
        "\n",
        "**What is the impact of number of neural network layers on speed and stability of the algorithm?**\n",
        "\n",
        "You do not have to write the DQN code from scratch. We have provided a basic implementation of the DQN algorithm. You only have to tune the hyperparameters (neural network size, learning rate, etc), observe the performance, and analyze. More details on this are provided below.\n",
        "\n",
        "Now, let us discuss the RL task we have chosen, i.e., Lunar Lander. This task consists of the lander and a landing pad marked by two flags. The episode starts with the lander moving downwards due to gravity. The objective is to land safely using different engines available on the lander with zero speed on the landing pad as quickly and fuel efficient as possible. Reward for moving from the top of the screen and landing on landing pad with zero speed is between 100 to 140 points. Each leg ground contact yields a reward of 10 points. Firing main engine leads to a reward of -0.3 points in each frame. Firing the side engine leads to a reward of -0.03 points in each frame. An additional reward of -100 or +100 points is received if the lander crashes or comes to rest respectively which also leads to end of the episode.\n",
        "\n",
        "The input state of the Lunar Lander consists of following components:\n",
        "\n",
        "  1. Horizontal Position\n",
        "  2. Vertical Position\n",
        "  3. Horizontal Velocity\n",
        "  4. Vertical Velocity\n",
        "  5. Angle\n",
        "  6. Angular Velocity\n",
        "  7. Left Leg Contact\n",
        "  8. Right Leg Contact\n",
        "\n",
        "The actions of the agents are:\n",
        "  1. Do Nothing\n",
        "  2. Fire Main Engine\n",
        "  3. Fire Left Engine\n",
        "  4. Fire Right Engine\n",
        "\n",
        "\n",
        "<img src=\"https://raw.githubusercontent.com/NeuromatchAcademy/course-content-dl/main/projects/static/lunar_lander.png\">"
      ]
    },
    {
      "cell_type": "markdown",
      "metadata": {
        "execution": {},
        "id": "XuSpVWuGDBuU"
      },
      "source": [
        "---\n",
        "# Basic DQN Implementation\n",
        "\n",
        "We will now implement the DQN algorithm using the existing code base. We encourage you to understand this example and re-use it in an application/project of your choice!"
      ]
    },
    {
      "cell_type": "markdown",
      "metadata": {
        "execution": {},
        "id": "dYwJRvx-DBuV"
      },
      "source": [
        "Now, let us set some hyperparameters for our algorithm. This is the only part you would play around with, to solve the first part of the project."
      ]
    },
    {
      "cell_type": "code",
      "execution_count": 5,
      "metadata": {
        "execution": {},
        "id": "MvWRAJiSDBuV",
        "outputId": "23422e4b-fa32-4edd-d283-31b62668d30e",
        "colab": {
          "base_uri": "https://localhost:8080/"
        }
      },
      "outputs": [
        {
          "output_type": "stream",
          "name": "stderr",
          "text": [
            "/usr/local/lib/python3.10/dist-packages/ipykernel/ipkernel.py:283: DeprecationWarning: `should_run_async` will not call `transform_cell` automatically in the future. Please pass the result to `transformed_cell` argument and any exception that happen during thetransform in `preprocessing_exc_tuple` in IPython 7.17 and above.\n",
            "  and should_run_async(code)\n"
          ]
        }
      ],
      "source": [
        "nn_layers = [64, 64]  # This is the configuration of your neural network. Currently, we have two layers, each consisting of 64 neurons.\n",
        "                      # If you want three layers with 64 neurons each, set the value to [64,64,64] and so on.\n",
        "\n",
        "learning_rate = 0.001  # This is the step-size with which the gradient descent is carried out.\n",
        "                       # Tip: Use smaller step-sizes for larger networks."
      ]
    },
    {
      "cell_type": "markdown",
      "metadata": {
        "execution": {},
        "id": "EHLx2d5xDBuV"
      },
      "source": [
        "Now, let us setup our model and the DQN algorithm."
      ]
    },
    {
      "cell_type": "code",
      "execution_count": 6,
      "metadata": {
        "execution": {},
        "id": "4PzeDS2dDBuV"
      },
      "outputs": [],
      "source": [
        "log_dir = \"/tmp/gym/\"\n",
        "os.makedirs(log_dir, exist_ok=True)\n",
        "\n",
        "# Create environment\n",
        "env_name = 'LunarLander-v2'\n",
        "env = gym.make(env_name)\n",
        "# You can also load other environments like cartpole, MountainCar, Acrobot.\n",
        "# Refer to https://gym.openai.com/docs/ for descriptions.\n",
        "\n",
        "# For example, if you would like to load Cartpole,\n",
        "# just replace the above statement with \"env = gym.make('CartPole-v1')\".\n",
        "\n",
        "env = stable_baselines3.common.monitor.Monitor(env, log_dir )\n",
        "\n",
        "callback = EvalCallback(env, log_path=log_dir, deterministic=True)  # For evaluating the performance of the agent periodically and logging the results.\n",
        "policy_kwargs = dict(activation_fn=torch.nn.ReLU,\n",
        "                     net_arch=nn_layers)\n",
        "model = DQN(\"MlpPolicy\", env,policy_kwargs = policy_kwargs,\n",
        "            learning_rate=learning_rate,\n",
        "            batch_size=1,  # for simplicity, we are not doing batch update.\n",
        "            buffer_size=1,  # size of experience of replay buffer. Set to 1 as batch update is not done\n",
        "            learning_starts=1,  # learning starts immediately!\n",
        "            gamma=0.99,  # discount facto. range is between 0 and 1.\n",
        "            tau = 1,  # the soft update coefficient for updating the target network\n",
        "            target_update_interval=1,  # update the target network immediately.\n",
        "            train_freq=(1,\"step\"),  # train the network at every step.\n",
        "            max_grad_norm = 10,  # the maximum value for the gradient clipping\n",
        "            exploration_initial_eps = 1,  # initial value of random action probability\n",
        "            exploration_fraction = 0.5,  # fraction of entire training period over which the exploration rate is reduced\n",
        "            gradient_steps = 1,  # number of gradient steps\n",
        "            seed = 1,  # seed for the pseudo random generators\n",
        "            verbose=0)  # Set verbose to 1 to observe training logs. We encourage you to set the verbose to 1.\n",
        "\n",
        "# You can also experiment with other RL algorithms like A2C, PPO, DDPG etc.\n",
        "# Refer to  https://stable-baselines3.readthedocs.io/en/master/guide/examples.html\n",
        "# for documentation. For example, if you would like to run DDPG, just replace \"DQN\" above with \"DDPG\"."
      ]
    },
    {
      "cell_type": "markdown",
      "metadata": {
        "execution": {},
        "id": "1FIshtazDBuW"
      },
      "source": [
        "Before we train the model, let us look at an instance of Lunar Lander **before training**.  \n",
        "\n",
        "**Note:** The following code for rendering the video is taken from [here](https://colab.research.google.com/github/jeffheaton/t81_558_deep_learning/blob/master/t81_558_class_12_01_ai_gym.ipynb#scrollTo=T9RpF49oOsZj)."
      ]
    },
    {
      "cell_type": "code",
      "execution_count": 7,
      "metadata": {
        "execution": {},
        "id": "SyD6VwDhDBuW",
        "outputId": "1689b33b-720e-4d7f-d8e8-56cabfb398f1",
        "colab": {
          "base_uri": "https://localhost:8080/"
        }
      },
      "outputs": [
        {
          "output_type": "stream",
          "name": "stdout",
          "text": [
            "State shape:  (8,)\n",
            "Number of actions:  4\n"
          ]
        },
        {
          "output_type": "stream",
          "name": "stderr",
          "text": [
            "/usr/local/lib/python3.10/dist-packages/ipykernel/ipkernel.py:283: DeprecationWarning: `should_run_async` will not call `transform_cell` automatically in the future. Please pass the result to `transformed_cell` argument and any exception that happen during thetransform in `preprocessing_exc_tuple` in IPython 7.17 and above.\n",
            "  and should_run_async(code)\n"
          ]
        }
      ],
      "source": [
        "env_name = 'LunarLander-v2'\n",
        "env = gym.make(env_name)\n",
        "print('State shape: ', env.observation_space.shape)\n",
        "print('Number of actions: ', env.action_space.n)"
      ]
    },
    {
      "cell_type": "code",
      "execution_count": 8,
      "metadata": {
        "execution": {},
        "id": "68D-3iePDBuW",
        "outputId": "3a259ce6-a11c-4027-86b8-be30f9b0d622",
        "colab": {
          "base_uri": "https://localhost:8080/",
          "height": 412
        }
      },
      "outputs": [
        {
          "output_type": "stream",
          "name": "stderr",
          "text": [
            "/usr/local/lib/python3.10/dist-packages/gym/wrappers/monitoring/video_recorder.py:101: DeprecationWarning: \u001b[33mWARN: <class 'gym.wrappers.monitoring.video_recorder.VideoRecorder'> is marked as deprecated and will be removed in the future.\u001b[0m\n",
            "  logger.deprecation(\n",
            "/usr/lib/python3.10/subprocess.py:1796: RuntimeWarning: os.fork() was called. os.fork() is incompatible with multithreaded code, and JAX is multithreaded, so this will likely lead to a deadlock.\n",
            "  self.pid = _posixsubprocess.fork_exec(\n"
          ]
        },
        {
          "output_type": "stream",
          "name": "stdout",
          "text": [
            "\n",
            "Total reward: -449.2162305654916\n"
          ]
        },
        {
          "output_type": "execute_result",
          "data": {
            "text/plain": [
              "<IPython.core.display.HTML object>"
            ],
            "text/html": [
              "<video width=400 controls><source src=\"data:video/mp4;base64,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\" type=\"video/mp4\"></video>"
            ]
          },
          "metadata": {},
          "execution_count": 8
        }
      ],
      "source": [
        "env = gym.make(env_name, render_mode=\"rgb_array\")\n",
        "vid = VideoRecorder(env, path=f\"video/{env_name}_pretraining.mp4\")\n",
        "observation = env.reset()[0]\n",
        "\n",
        "total_reward = 0\n",
        "done = False\n",
        "while not done:\n",
        "  frame = env.render()\n",
        "  vid.capture_frame()\n",
        "  action, states = model.predict(observation, deterministic=True)\n",
        "  observation, reward, done, info, _ = env.step(action)\n",
        "  total_reward += reward\n",
        "vid.close()\n",
        "env.close()\n",
        "print(f\"\\nTotal reward: {total_reward}\")\n",
        "\n",
        "# show video\n",
        "html = render_mp4(f\"video/{env_name}_pretraining.mp4\")\n",
        "HTML(html)"
      ]
    },
    {
      "cell_type": "markdown",
      "metadata": {
        "execution": {},
        "id": "fhtq8GDLDBuW"
      },
      "source": [
        "From the video above, we see that the lander has crashed!\n",
        "It is now the time for training!\n"
      ]
    },
    {
      "cell_type": "code",
      "execution_count": 9,
      "metadata": {
        "execution": {},
        "id": "Xhl3ojMwDBuW",
        "outputId": "c22a910b-0983-438b-dfb6-3cc20d07992e",
        "colab": {
          "base_uri": "https://localhost:8080/"
        }
      },
      "outputs": [
        {
          "output_type": "stream",
          "name": "stderr",
          "text": [
            "/usr/local/lib/python3.10/dist-packages/ipykernel/ipkernel.py:283: DeprecationWarning: `should_run_async` will not call `transform_cell` automatically in the future. Please pass the result to `transformed_cell` argument and any exception that happen during thetransform in `preprocessing_exc_tuple` in IPython 7.17 and above.\n",
            "  and should_run_async(code)\n"
          ]
        },
        {
          "output_type": "stream",
          "name": "stdout",
          "text": [
            "Eval num_timesteps=10000, episode_reward=-420.98 +/- 27.22\n",
            "Episode length: 151.80 +/- 30.46\n",
            "New best mean reward!\n",
            "Eval num_timesteps=20000, episode_reward=-561.62 +/- 27.61\n",
            "Episode length: 878.80 +/- 72.71\n",
            "Eval num_timesteps=30000, episode_reward=-249.88 +/- 48.31\n",
            "Episode length: 240.00 +/- 51.61\n",
            "New best mean reward!\n",
            "Eval num_timesteps=40000, episode_reward=-161.24 +/- 24.32\n",
            "Episode length: 338.20 +/- 107.08\n",
            "New best mean reward!\n",
            "Eval num_timesteps=50000, episode_reward=160.32 +/- 108.81\n",
            "Episode length: 241.20 +/- 55.82\n",
            "New best mean reward!\n",
            "Eval num_timesteps=60000, episode_reward=190.88 +/- 14.49\n",
            "Episode length: 646.80 +/- 65.03\n",
            "New best mean reward!\n",
            "Eval num_timesteps=70000, episode_reward=67.05 +/- 92.04\n",
            "Episode length: 139.80 +/- 35.46\n",
            "Eval num_timesteps=80000, episode_reward=267.52 +/- 20.00\n",
            "Episode length: 321.60 +/- 31.12\n",
            "New best mean reward!\n",
            "Eval num_timesteps=90000, episode_reward=67.08 +/- 126.76\n",
            "Episode length: 536.00 +/- 257.21\n",
            "Eval num_timesteps=100000, episode_reward=259.59 +/- 13.39\n",
            "Episode length: 339.80 +/- 19.18\n"
          ]
        },
        {
          "output_type": "execute_result",
          "data": {
            "text/plain": [
              "<stable_baselines3.dqn.dqn.DQN at 0x7e4cf6f2d630>"
            ]
          },
          "metadata": {},
          "execution_count": 9
        }
      ],
      "source": [
        "model.learn(total_timesteps=100000, log_interval=10, callback=callback)\n",
        "# The performance of the training will be printed every 10 episodes. Change it to 1, if you wish to\n",
        "# view the performance at every training episode."
      ]
    },
    {
      "cell_type": "markdown",
      "metadata": {
        "execution": {},
        "id": "IYynM83tDBuX"
      },
      "source": [
        "The training takes time. We encourage you to analyze the output logs (set verbose to 1 to print the output logs). The main component of the logs that you should track is \"ep_rew_mean\" (mean of episode rewards). As the training proceeds, the value of \"ep_rew_mean\" should increase. The improvement need not be monotonic, but the trend should be upwards!\n",
        "\n",
        "Along with training, we are also periodically evaluating the performance of the current model during the training. This was reported in logs as follows:\n",
        "\n",
        "```\n",
        "Eval num_timesteps=100000, episode_reward=63.41 +/- 130.02\n",
        "Episode length: 259.80 +/- 47.47\n",
        "```"
      ]
    },
    {
      "cell_type": "markdown",
      "metadata": {
        "execution": {},
        "id": "UFNQVKokDBuX"
      },
      "source": [
        "Now, let us look at the visual performance of the lander.\n",
        "\n",
        "**Note:** The performance varies across different seeds and runs. This code is not optimized to be stable across all runs and seeds. We hope you will be able to find an optimal configuration!"
      ]
    },
    {
      "cell_type": "code",
      "execution_count": 10,
      "metadata": {
        "execution": {},
        "id": "hc0xXn5aDBuX",
        "outputId": "2bf3c03e-00b6-4d5f-a5a0-0d9077d30537",
        "colab": {
          "base_uri": "https://localhost:8080/",
          "height": 412
        }
      },
      "outputs": [
        {
          "output_type": "stream",
          "name": "stderr",
          "text": [
            "/usr/local/lib/python3.10/dist-packages/gym/wrappers/monitoring/video_recorder.py:101: DeprecationWarning: \u001b[33mWARN: <class 'gym.wrappers.monitoring.video_recorder.VideoRecorder'> is marked as deprecated and will be removed in the future.\u001b[0m\n",
            "  logger.deprecation(\n",
            "/usr/lib/python3.10/subprocess.py:1796: RuntimeWarning: os.fork() was called. os.fork() is incompatible with multithreaded code, and JAX is multithreaded, so this will likely lead to a deadlock.\n",
            "  self.pid = _posixsubprocess.fork_exec(\n"
          ]
        },
        {
          "output_type": "stream",
          "name": "stdout",
          "text": [
            "\n",
            "Total reward: 249.47508187060953\n"
          ]
        },
        {
          "output_type": "execute_result",
          "data": {
            "text/plain": [
              "<IPython.core.display.HTML object>"
            ],
            "text/html": [
              "<video width=400 controls><source src=\"data:video/mp4;base64,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\" type=\"video/mp4\"></video>"
            ]
          },
          "metadata": {},
          "execution_count": 10
        }
      ],
      "source": [
        "env = gym.make(env_name, render_mode=\"rgb_array\")\n",
        "vid = VideoRecorder(env, path=f\"video/{env_name}_learned.mp4\")\n",
        "observation = env.reset()[0]\n",
        "\n",
        "total_reward = 0\n",
        "done = False\n",
        "while not done:\n",
        "  frame = env.render()\n",
        "  vid.capture_frame()\n",
        "  action, states = model.predict(observation, deterministic=True)\n",
        "  observation, reward, done, info, _ = env.step(action)\n",
        "  total_reward += reward\n",
        "vid.close()\n",
        "env.close()\n",
        "print(f\"\\nTotal reward: {total_reward}\")\n",
        "\n",
        "# show video\n",
        "html = render_mp4(f\"video/{env_name}_learned.mp4\")\n",
        "HTML(html)"
      ]
    },
    {
      "cell_type": "markdown",
      "metadata": {
        "execution": {},
        "id": "cVCcx8GUDBuX"
      },
      "source": [
        "The lander has landed safely!!\n",
        "\n",
        "Let us analyze its performance (speed and stability). For this purpose, we plot the number of time steps on the x-axis and the episodic reward given by the trained model on the y-axis."
      ]
    },
    {
      "cell_type": "code",
      "execution_count": 11,
      "metadata": {
        "execution": {},
        "id": "_8ibUiTmDBuX",
        "outputId": "25fbda7f-4dc6-47e6-c1e9-0d765db9e6b6",
        "colab": {
          "base_uri": "https://localhost:8080/",
          "height": 510
        }
      },
      "outputs": [
        {
          "output_type": "stream",
          "name": "stderr",
          "text": [
            "/usr/local/lib/python3.10/dist-packages/ipykernel/ipkernel.py:283: DeprecationWarning: `should_run_async` will not call `transform_cell` automatically in the future. Please pass the result to `transformed_cell` argument and any exception that happen during thetransform in `preprocessing_exc_tuple` in IPython 7.17 and above.\n",
            "  and should_run_async(code)\n"
          ]
        },
        {
          "output_type": "display_data",
          "data": {
            "text/plain": [
              "<Figure size 640x480 with 1 Axes>"
            ],
            "image/png": "[encoded data removed]"
          },
          "metadata": {}
        }
      ],
      "source": [
        "x, y = ts2xy(load_results(log_dir), 'timesteps')  # Organising the logged results in to a clean format for plotting.\n",
        "plt.plot(x, y)\n",
        "plt.ylim([-300, 300])\n",
        "plt.xlabel('Timesteps')\n",
        "plt.ylabel('Episode Rewards')\n",
        "plt.show()"
      ]
    },
    {
      "cell_type": "markdown",
      "metadata": {
        "execution": {},
        "id": "2Zo8kpDUDBuX"
      },
      "source": [
        "From the above plot, we observe that, although the maximum reward is achieved quickly. Achieving an episodic reward of > 200 is good. We see that the agent has achieved it in less than 50000 timesteps (speed is good!). However, there are a lot of fluctuations in the performance (stability is not good!).\n",
        "\n",
        "Your objective now is to modify the model parameters (nn_layers, learning_rate in the code cell #2 above), run all the cells following it and investigate the stability and speed of the chosen configuration.   \n"
      ]
    },
    {
      "cell_type": "markdown",
      "metadata": {
        "execution": {},
        "id": "D7JAEDEzDBuX"
      },
      "source": [
        "---\n",
        "# Additional Project Ideas"
      ]
    },
    {
      "cell_type": "markdown",
      "metadata": {
        "execution": {},
        "id": "1m6YBf5nDBuX"
      },
      "source": [
        "## 1 Play with exploration-exploitation trade-off\n",
        "\n",
        "Exploration (selecting random actions) and exploitation (selecting greedy action) is a crucial component of the DQN algorithm. Explore random actions for a long time will slow down the training process. At the same time, if all actions are not explored enough, it might lead to a sub-optimal performance. In the DQN code above, we have used the following parameters:"
      ]
    },
    {
      "cell_type": "code",
      "execution_count": 12,
      "metadata": {
        "execution": {},
        "id": "tnbb16KUDBuY",
        "outputId": "2d275702-253e-4f5d-8139-2b7796c8d66f",
        "colab": {
          "base_uri": "https://localhost:8080/"
        }
      },
      "outputs": [
        {
          "output_type": "stream",
          "name": "stderr",
          "text": [
            "/usr/local/lib/python3.10/dist-packages/ipykernel/ipkernel.py:283: DeprecationWarning: `should_run_async` will not call `transform_cell` automatically in the future. Please pass the result to `transformed_cell` argument and any exception that happen during thetransform in `preprocessing_exc_tuple` in IPython 7.17 and above.\n",
            "  and should_run_async(code)\n"
          ]
        }
      ],
      "source": [
        "exploration_initial_eps = 1  # initial value of random action probability. Range is between 0 and 1.\n",
        "exploration_fraction = 0.5  # fraction of entire training period over which the exploration rate is reduced. Range is between 0 and 1.\n",
        "exploration_final_eps = 0.05  # (set by defualt) final value of random action probability. Range is between 0 and 1."
      ]
    },
    {
      "cell_type": "markdown",
      "metadata": {
        "execution": {},
        "id": "794AyGDPDBuY"
      },
      "source": [
        "Your objective is to play around with these parameters and analyze their performance (speed and stability). You can modify these parameters and set them as arguments in DQN(...,exploration_initial_eps = 1, exploration_fraction = 0.5, exploration_final_eps = 0.05,...)."
      ]
    },
    {
      "cell_type": "markdown",
      "metadata": {
        "execution": {},
        "id": "Ljf9XG5BDBuY"
      },
      "source": [
        "## 2 Reward Shaping\n",
        "\n",
        "Your objective here is to construct a modified reward function that improves the performance of the Lunar Lander. To this end, you would have to create your own custom environment. An example of a custom environment is given below:"
      ]
    },
    {
      "cell_type": "code",
      "execution_count": 13,
      "metadata": {
        "execution": {},
        "id": "zAAhdiflDBuY"
      },
      "outputs": [],
      "source": [
        "# Taken from https://stable-baselines3.readthedocs.io/en/master/guide/custom_env.html\n",
        "class CustomEnv(gym.Env):\n",
        "  \"\"\"Custom Environment that follows gym interface\"\"\"\n",
        "  metadata = {'render.modes': ['human']}\n",
        "\n",
        "  def __init__(self, arg1, arg2):\n",
        "    super(CustomEnv, self).__init__()\n",
        "    # Define action and observation space\n",
        "    # They must be gym.spaces objects\n",
        "    # Example when using discrete actions:\n",
        "    self.action_space = spaces.Discrete(N_DISCRETE_ACTIONS)\n",
        "    # Example for using image as input (channel-first; channel-last also works):\n",
        "    self.observation_space = spaces.Box(low=0, high=255,\n",
        "                                        shape=(N_CHANNELS, HEIGHT, WIDTH), dtype=np.uint8)\n",
        "\n",
        "  def step(self, action):\n",
        "    ...\n",
        "    return observation, reward, done, info\n",
        "  def reset(self):\n",
        "    ...\n",
        "    return observation  # reward, done, info can't be included\n",
        "  def render(self, mode='human'):\n",
        "    ...\n",
        "  def close (self):\n",
        "    ..."
      ]
    },
    {
      "cell_type": "markdown",
      "metadata": {
        "execution": {},
        "id": "n7u1oEO2DBuY"
      },
      "source": [
        "As you are only changing the reward structure, you can inherit the [original Lunar Lander environment](https://github.com/openai/gym/blob/master/gym/envs/box2d/lunar_lander.py) and modify just the \"step\" function. Focus on modifying the following part of the code in the \"step\" function."
      ]
    },
    {
      "cell_type": "code",
      "execution_count": 14,
      "metadata": {
        "execution": {},
        "id": "463GUtbuDBuY"
      },
      "outputs": [],
      "source": [
        "class Custom_LunarLander(LunarLander):\n",
        "\n",
        "    def step(self, action):\n",
        "        assert self.lander is not None\n",
        "\n",
        "        # Update wind\n",
        "        assert self.lander is not None, \"You forgot to call reset()\"\n",
        "        if self.enable_wind and not (\n",
        "            self.legs[0].ground_contact or self.legs[1].ground_contact\n",
        "        ):\n",
        "            # the function used for wind is tanh(sin(2 k x) + sin(pi k x)),\n",
        "            # which is proven to never be periodic, k = 0.01\n",
        "            wind_mag = (\n",
        "                math.tanh(\n",
        "                    math.sin(0.02 * self.wind_idx)\n",
        "                    + (math.sin(math.pi * 0.01 * self.wind_idx))\n",
        "                )\n",
        "                * self.wind_power\n",
        "            )\n",
        "            self.wind_idx += 1\n",
        "            self.lander.ApplyForceToCenter(\n",
        "                (wind_mag, 0.0),\n",
        "                True,\n",
        "            )\n",
        "\n",
        "            # the function used for torque is tanh(sin(2 k x) + sin(pi k x)),\n",
        "            # which is proven to never be periodic, k = 0.01\n",
        "            torque_mag = math.tanh(\n",
        "                math.sin(0.02 * self.torque_idx)\n",
        "                + (math.sin(math.pi * 0.01 * self.torque_idx))\n",
        "            ) * (self.turbulence_power)\n",
        "            self.torque_idx += 1\n",
        "            self.lander.ApplyTorque(\n",
        "                (torque_mag),\n",
        "                True,\n",
        "            )\n",
        "\n",
        "        if self.continuous:\n",
        "            action = np.clip(action, -1, +1).astype(np.float32)\n",
        "        else:\n",
        "            assert self.action_space.contains(\n",
        "                action\n",
        "            ), f\"{action!r} ({type(action)}) invalid \"\n",
        "\n",
        "        # Engines\n",
        "        tip = (math.sin(self.lander.angle), math.cos(self.lander.angle))\n",
        "        side = (-tip[1], tip[0])\n",
        "        dispersion = [self.np_random.uniform(-1.0, +1.0) / SCALE for _ in range(2)]\n",
        "\n",
        "        m_power = 0.0\n",
        "        if (self.continuous and action[0] > 0.0) or (\n",
        "            not self.continuous and action == 2\n",
        "        ):\n",
        "            # Main engine\n",
        "            if self.continuous:\n",
        "                m_power = (np.clip(action[0], 0.0, 1.0) + 1.0) * 0.5  # 0.5..1.0\n",
        "                assert m_power >= 0.5 and m_power <= 1.0\n",
        "            else:\n",
        "                m_power = 1.0\n",
        "            # 4 is move a bit downwards, +-2 for randomness\n",
        "            ox = tip[0] * (4 / SCALE + 2 * dispersion[0]) + side[0] * dispersion[1]\n",
        "            oy = -tip[1] * (4 / SCALE + 2 * dispersion[0]) - side[1] * dispersion[1]\n",
        "            impulse_pos = (self.lander.position[0] + ox, self.lander.position[1] + oy)\n",
        "            p = self._create_particle(\n",
        "                3.5,  # 3.5 is here to make particle speed adequate\n",
        "                impulse_pos[0],\n",
        "                impulse_pos[1],\n",
        "                m_power,\n",
        "            )  # particles are just a decoration\n",
        "            p.ApplyLinearImpulse(\n",
        "                (ox * MAIN_ENGINE_POWER * m_power, oy * MAIN_ENGINE_POWER * m_power),\n",
        "                impulse_pos,\n",
        "                True,\n",
        "            )\n",
        "            self.lander.ApplyLinearImpulse(\n",
        "                (-ox * MAIN_ENGINE_POWER * m_power, -oy * MAIN_ENGINE_POWER * m_power),\n",
        "                impulse_pos,\n",
        "                True,\n",
        "            )\n",
        "\n",
        "        s_power = 0.0\n",
        "        if (self.continuous and np.abs(action[1]) > 0.5) or (\n",
        "            not self.continuous and action in [1, 3]\n",
        "        ):\n",
        "            # Orientation engines\n",
        "            if self.continuous:\n",
        "                direction = np.sign(action[1])\n",
        "                s_power = np.clip(np.abs(action[1]), 0.5, 1.0)\n",
        "                assert s_power >= 0.5 and s_power <= 1.0\n",
        "            else:\n",
        "                direction = action - 2\n",
        "                s_power = 1.0\n",
        "            ox = tip[0] * dispersion[0] + side[0] * (\n",
        "                3 * dispersion[1] + direction * SIDE_ENGINE_AWAY / SCALE\n",
        "            )\n",
        "            oy = -tip[1] * dispersion[0] - side[1] * (\n",
        "                3 * dispersion[1] + direction * SIDE_ENGINE_AWAY / SCALE\n",
        "            )\n",
        "            impulse_pos = (\n",
        "                self.lander.position[0] + ox - tip[0] * 17 / SCALE,\n",
        "                self.lander.position[1] + oy + tip[1] * SIDE_ENGINE_HEIGHT / SCALE,\n",
        "            )\n",
        "            p = self._create_particle(0.7, impulse_pos[0], impulse_pos[1], s_power)\n",
        "            p.ApplyLinearImpulse(\n",
        "                (ox * SIDE_ENGINE_POWER * s_power, oy * SIDE_ENGINE_POWER * s_power),\n",
        "                impulse_pos,\n",
        "                True,\n",
        "            )\n",
        "            self.lander.ApplyLinearImpulse(\n",
        "                (-ox * SIDE_ENGINE_POWER * s_power, -oy * SIDE_ENGINE_POWER * s_power),\n",
        "                impulse_pos,\n",
        "                True,\n",
        "            )\n",
        "\n",
        "        self.world.Step(1.0 / FPS, 6 * 30, 2 * 30)\n",
        "\n",
        "        pos = self.lander.position\n",
        "        vel = self.lander.linearVelocity\n",
        "        state = [\n",
        "            (pos.x - VIEWPORT_W / SCALE / 2) / (VIEWPORT_W / SCALE / 2),\n",
        "            (pos.y - (self.helipad_y + LEG_DOWN / SCALE)) / (VIEWPORT_H / SCALE / 2),\n",
        "            vel.x * (VIEWPORT_W / SCALE / 2) / FPS,\n",
        "            vel.y * (VIEWPORT_H / SCALE / 2) / FPS,\n",
        "            self.lander.angle,\n",
        "            20.0 * self.lander.angularVelocity / FPS,\n",
        "            1.0 if self.legs[0].ground_contact else 0.0,\n",
        "            1.0 if self.legs[1].ground_contact else 0.0,\n",
        "        ]\n",
        "        assert len(state) == 8\n",
        "\n",
        "        # Compare with / without shaping, referring the state description below\n",
        "        '''\n",
        "        state[0]: the horizontal coordinate\n",
        "        state[1]: the vertical coordinate\n",
        "        state[2]: the horizontal speed\n",
        "        state[3]: the vertical speed\n",
        "        state[4]: the angle\n",
        "        state[5]: the angular speed\n",
        "        state[6]: first leg contact\n",
        "        state[7]: second leg contact\n",
        "        '''\n",
        "        reward = 0\n",
        "        shaping = (\n",
        "            -100 * np.sqrt(state[0] * state[0] + state[1] * state[1])\n",
        "            - 100 * np.sqrt(state[2] * state[2] + state[3] * state[3])\n",
        "            - 100 * abs(state[4])\n",
        "            + 10 * state[6]\n",
        "            + 10 * state[7]\n",
        "        )  # And ten points for legs contact, the idea is if you\n",
        "        # lose contact again after landing, you get negative reward\n",
        "        if self.prev_shaping is not None:\n",
        "            reward = shaping - self.prev_shaping\n",
        "        self.prev_shaping = shaping\n",
        "\n",
        "        reward -= (\n",
        "            m_power * 0.30\n",
        "        )  # less fuel spent is better, about -30 for heuristic landing\n",
        "        reward -= s_power * 0.03\n",
        "\n",
        "        terminated = False\n",
        "        if self.game_over or abs(state[0]) >= 1.0:\n",
        "            terminated = True\n",
        "            reward = -100\n",
        "        if not self.lander.awake:\n",
        "            terminated = True\n",
        "            reward = +100\n",
        "\n",
        "        if self.render_mode == \"human\":\n",
        "            self.render()\n",
        "        return np.array(state, dtype=np.float32), reward, terminated, False, {}"
      ]
    },
    {
      "cell_type": "markdown",
      "metadata": {
        "execution": {},
        "id": "V-qZ4WYxDBuZ"
      },
      "source": [
        "Once you have cutomized your own environment, you can execute that environment by just calling:"
      ]
    },
    {
      "cell_type": "code",
      "execution_count": 15,
      "metadata": {
        "execution": {},
        "id": "yq4902DQDBuZ"
      },
      "outputs": [],
      "source": [
        "## Enter the name of the custome environment you created and uncomment the line below.\n",
        "# env = Custom_LunarLander()"
      ]
    },
    {
      "cell_type": "markdown",
      "metadata": {
        "execution": {},
        "id": "EAP-DUd6DBuZ"
      },
      "source": [
        "**Note:** Refer to [this page](https://stable-baselines3.readthedocs.io/en/master/guide/custom_env.html), if you would like to create more complex environments."
      ]
    },
    {
      "cell_type": "markdown",
      "metadata": {
        "execution": {},
        "id": "QTq0hmHCDBuZ"
      },
      "source": [
        "## 3 Identify the state information crucial to its performance.\n",
        "\n",
        "Your objective here is to alter the input state information and analyze the performance. The input state of the Lunar Lander consists of following components:\n",
        "\n",
        "  1. Horizontal Position\n",
        "  2. Vertical Position\n",
        "  3. Horizontal Velocity\n",
        "  4. Vertical Velocity\n",
        "  5. Angle\n",
        "  6. Angular Velocity\n",
        "  7. Left Leg Contact\n",
        "  8. Right Leg Contact\n",
        "\n",
        "You can train the algorithm by masking one of the eight components at a time and understand how that affects the performance of the algorithm. Similar to the reward shaping task, you would have to create a custom environment and modify the state space. Again, you can inherit all the necessary functions and modify the following portion of the \"Step\" function:"
      ]
    },
    {
      "cell_type": "code",
      "execution_count": 16,
      "metadata": {
        "execution": {},
        "id": "sz45kgEaDBuZ"
      },
      "outputs": [],
      "source": [
        "def step(self, actions):\n",
        "  ...\n",
        "  ...\n",
        "  ...\n",
        "  state = [ # Remove one component at a time to investigate the effect on performance!\n",
        "            (pos.x - VIEWPORT_W / SCALE / 2) / (VIEWPORT_W / SCALE / 2),\n",
        "            (pos.y - (self.helipad_y + LEG_DOWN / SCALE)) / (VIEWPORT_H / SCALE / 2),\n",
        "            vel.x * (VIEWPORT_W / SCALE / 2) / FPS,\n",
        "            vel.y * (VIEWPORT_H / SCALE / 2) / FPS,\n",
        "            self.lander.angle,\n",
        "            20.0 * self.lander.angularVelocity / FPS,\n",
        "            1.0 if self.legs[0].ground_contact else 0.0,\n",
        "            1.0 if self.legs[1].ground_contact else 0.0,\n",
        "        ]"
      ]
    },
    {
      "cell_type": "markdown",
      "metadata": {
        "execution": {},
        "id": "DXy9s2ymDBuZ"
      },
      "source": [
        "## 4 Extension to Atari Games\n",
        "\n",
        "In the Lunar Lander task, the input to the algorithm is a vector of state information. Deep RL algorithms can also be applied when the input to the training is image frames, which is the case in the Atari games. For example, consider an Atari game - Pong. In this environment, the observation is an RGB image of the screen, which is an array of shape (210, 160, 3). To train the Pong game, you can start with the following sample code:"
      ]
    },
    {
      "cell_type": "code",
      "execution_count": 17,
      "metadata": {
        "execution": {},
        "id": "4RjAt0W-DBuZ"
      },
      "outputs": [],
      "source": [
        "## Taken from: https://colab.research.google.com/github/Stable-Baselines-Team/rl-colab-notebooks/blob/sb3/atari_games.ipynb#scrollTo=f3K4rMXwimBO\n",
        "env = make_atari_env('PongNoFrameskip-v4', n_envs=4, seed=0)\n",
        "\n",
        "## Atari Games take a lot of memory. Following commands crash on Coalb. Run the following code on Colab Pro or your local Jupyter notebook!\n",
        "# env = VecFrameStack(env, n_stack=4)\n",
        "# model = DQN('CnnPolicy', env, verbose=1)  # Note the difference here! We use 'CnnPolicy\" here instead of 'MlpPolicy' as the input is frames.\n",
        "# model.learn(total_timesteps=1) #change the number of timesteps as desired and run this command!"
      ]
    },
    {
      "cell_type": "markdown",
      "metadata": {
        "execution": {},
        "id": "E6_fFAYhDBue"
      },
      "source": [
        "## 5 Obstacle Avoidance and Transfer Learning\n",
        "\n",
        "Your obstacle here is to add an obstacle in the path of the lunar lander (by creating a custom environment as described in point 2 above) and train the model such that the lander lands safely, avoiding collisions.\n",
        "\n",
        "You would first want to devise a mechansim for adding obstacles. For example, you could have an imaginary obstacle at some horizantal and vertical position cooridnates and modify the reward function such that a penalty is levied if the lander comes close to it.\n",
        "\n",
        "An interesting approach to solve this problem is to apply the techniques of transfer learning. For example, you could initialise the neural network model with the weights of the trained model on the original problem to improve the sample effeciency. This can be done using the following code:"
      ]
    },
    {
      "cell_type": "code",
      "execution_count": 18,
      "metadata": {
        "execution": {},
        "id": "h6knZ3U8DBue"
      },
      "outputs": [],
      "source": [
        "## Specify the load path and uncomment below:\n",
        "\n",
        "# model = load(load_path,\n",
        "#              env=gym.make('LunarLander-v2'),\n",
        "#              custom_objects=None, **kwargs)"
      ]
    },
    {
      "cell_type": "markdown",
      "metadata": {
        "execution": {},
        "id": "GXBIbO25DBue"
      },
      "source": [
        "Following are some of the resources on transfer learning that you would want to start with.\n",
        "\n",
        "**Research Papers**\n",
        "\n",
        "Surveys:\n",
        "1. Taylor, M. E.,  et al. (2009). Transfer learning for reinforcement learning domains. url: [www.jmlr.org/papers/volume10/taylor09a/taylor09a](https://www.jmlr.org/papers/volume10/taylor09a/taylor09a.pdf)\n",
        "   - Long, Old, Highly cited\n",
        "\n",
        "2. Lazaric, A. (2012). Transfer in reinforcement learning: a framework and a survey. url: [hal.inria.fr/docs/00/77/26/26/PDF/transfer](https://hal.inria.fr/docs/00/77/26/26/PDF/transfer.pdf)\n",
        "   - Medium, Old, Good for a quick read\n",
        "\n",
        "3. Zhu, Z., Lin, K., & Zhou, J. (2020). Transfer learning in deep reinforcement learning. [arxiv:2009.07888](https://arxiv.org/pdf/2009.07888.pdf)\n",
        "  - Medium, Recent, Good for a quick read\n",
        "\n",
        "4. Barreto, A., et al. (2016). Successor features for transfer in reinforcement learning. [arxiv:1606.05312](https://arxiv.org/pdf/1606.05312)\n",
        "  - Specific example"
      ]
    },
    {
      "cell_type": "markdown",
      "metadata": {
        "execution": {},
        "id": "MlOksW3ODBue"
      },
      "source": [
        "## 5(b) Transfer Learning in minigrid environment\n",
        "\n",
        "These are some simple gridworld gym environments designed to be particularly simple, lightweight and fast. Refer to [this repo](https://github.com/maximecb/gym-minigrid) for a description of the environments. An example to load a minigrid environment is given below."
      ]
    },
    {
      "cell_type": "code",
      "execution_count": 19,
      "metadata": {
        "execution": {},
        "id": "v7rB2JQlDBue"
      },
      "outputs": [],
      "source": [
        "env = gym.make('MiniGrid-Empty-5x5-v0', render_mode='rgb_array')"
      ]
    },
    {
      "cell_type": "markdown",
      "metadata": {
        "execution": {},
        "id": "OPcds7ZtDBue"
      },
      "source": [
        "You can train a standard DQN agent in this env by wrapping the env with full image observation wrappers:\n"
      ]
    },
    {
      "cell_type": "code",
      "execution_count": 20,
      "metadata": {
        "execution": {},
        "id": "d0NiSkyeDBue",
        "outputId": "ae937a7d-d815-46ac-c29c-44c650f50c22",
        "colab": {
          "base_uri": "https://localhost:8080/"
        }
      },
      "outputs": [
        {
          "output_type": "stream",
          "name": "stderr",
          "text": [
            "/usr/local/lib/python3.10/dist-packages/gymnasium/core.py:311: UserWarning: \u001b[33mWARN: env.width to get variables from other wrappers is deprecated and will be removed in v1.0, to get this variable you can do `env.unwrapped.width` for environment variables or `env.get_wrapper_attr('width')` that will search the reminding wrappers.\u001b[0m\n",
            "  logger.warn(\n",
            "/usr/local/lib/python3.10/dist-packages/gymnasium/core.py:311: UserWarning: \u001b[33mWARN: env.height to get variables from other wrappers is deprecated and will be removed in v1.0, to get this variable you can do `env.unwrapped.height` for environment variables or `env.get_wrapper_attr('height')` that will search the reminding wrappers.\u001b[0m\n",
            "  logger.warn(\n"
          ]
        }
      ],
      "source": [
        "import minigrid\n",
        "env = minigrid.wrappers.ImgObsWrapper(minigrid.wrappers.RGBImgObsWrapper(env))"
      ]
    },
    {
      "cell_type": "markdown",
      "metadata": {
        "execution": {},
        "id": "7J92iMqqDBue"
      },
      "source": [
        "Note that with full image observations, the shape of the image observations may differ between envs. For e.g., MiniGrid-Empty-5x5-v0 is (40,40,3) while MiniGrid-Empty-8x8-v0 is (64,64,3). So you may need to resize the observations for transfer learning to work with the same DQN architecture.\n",
        "\n",
        "Now try training a DQN (or another method) in one (or multiple) minigrid env(s),and see if that knowledge transfers to another (or multiple other) minigrid env(s).\n"
      ]
    },
    {
      "cell_type": "markdown",
      "metadata": {
        "execution": {},
        "id": "HL0W5M4uDBue"
      },
      "source": [
        "## 6 Preference-Based RL (PBRL)\n",
        "\n",
        "PBRL is an exciting sub-area in RL where the traditional reward structure is replaced with human preferences. This setting is very useful in applications where it is difficult to construct a reward function.\n",
        "\n",
        "In the earlier section, we have successfully trained the lunar lander to land safely. Here, the path that the lander follows to land safely can be arbitrary. In this project, using the techniques of PBRL, you will solve the lunar lander problem with an additional requirement that the lander should follow a specially curated path (for example, a straight line path). Following are some of the resources that will help you to get started with this project.\n",
        "\n",
        "**Research papers:**\n",
        "1. [Deep Reinforcement Learning from Human Preferences](https://papers.nips.cc/paper/2017/file/d5e2c0adad503c91f91df240d0cd4e49-Paper.pdf)\n",
        "2. [Deep Q-learning from Demonstrations](https://arxiv.org/pdf/1704.03732.pdf)\n",
        "3. [Reward learning from human preferences](https://arxiv.org/pdf/1811.06521.pdf)\n",
        "4. [T-REX](https://arxiv.org/pdf/1904.06387.pdf)\n",
        "\n",
        "**Code Bases:**\n",
        "1. [rl-teacher](https://github.com/nottombrown/rl-teacher)\n",
        "2. [ICML2019-TREX](https://github.com/hiwonjoon/ICML2019-TREX)"
      ]
    },
    {
      "cell_type": "markdown",
      "metadata": {
        "execution": {},
        "id": "QdW-XKCMDBue"
      },
      "source": [
        "---\n",
        "# References\n",
        "\n",
        "1. [Stable Baselines Framework](https://stable-baselines3.readthedocs.io/en/master/guide/examples.html)\n",
        "2. [Lunar Lander Environment](https://gym.openai.com/envs/LunarLander-v2/)\n",
        "3. [OpenAI gym environments](https://gym.openai.com/docs/)\n",
        "4. [A good reference for introduction to RL](http://incompleteideas.net/book/the-book-2nd.html)\n"
      ]
    }
  ],
  "metadata": {
    "accelerator": "GPU",
    "colab": {
      "name": "lunar_lander",
      "provenance": [],
      "toc_visible": true
    },
    "gpuClass": "standard",
    "kernel": {
      "display_name": "Python 3",
      "language": "python",
      "name": "python3"
    },
    "kernelspec": {
      "display_name": "Python 3",
      "name": "python3"
    },
    "language_info": {
      "name": "python"
    }
  },
  "nbformat": 4,
  "nbformat_minor": 0
}