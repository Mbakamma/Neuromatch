{
  "nbformat": 4,
  "nbformat_minor": 0,
  "metadata": {
    "colab": {
      "name": "lunar_lander.ipynb",
      "provenance": [],
      "collapsed_sections": []
    },
    "kernelspec": {
      "name": "python3",
      "display_name": "Python 3"
    },
    "language_info": {
      "name": "python"
    }
  },
  "cells": [
    {
      "cell_type": "markdown",
      "metadata": {
        "id": "b0mOp6N3yusM"
      },
      "source": [
        "# Performance Analysis of DQN Algorithm on the Lunar Lander task\n",
        "\n",
        "**By Neuromatch Academy**\n",
        "\n",
        "__Content Creators:__ Raghuram Bharadwaj Diddigi, Geraud Nangue Tasse, Yamil Vidal, Sanjukta Krishnagopal, Sara Rajaee\n",
        "\n",
        "__Content editors:__ Spiros Chavlis"
      ]
    },
    {
      "cell_type": "markdown",
      "metadata": {
        "id": "Lb8lEcSzy7Ra"
      },
      "source": [
        "**Our 2021 Sponsors, including Presenting Sponsor Facebook Reality Labs**\n",
        "\n",
        "<p align='center'><img src='https://github.com/NeuromatchAcademy/widgets/blob/master/sponsors.png?raw=True'/></p>"
      ]
    },
    {
      "cell_type": "markdown",
      "metadata": {
        "id": "HXXuNU06JN8t"
      },
      "source": [
        "---\n",
        "# Objective:\n",
        "\n",
        "In this project, the objective is to analyze the performance of the Deep Q-Learning algorithm on an exciting task- Lunar Lander. Before we describe the task, let us focus on two keywords here - analysis and performance. What exactly do we mean by these keywords in the context of Reinforcement Learning (RL)? \n",
        "\n",
        "In a standard RL setting, an agent learns optimal behavior from an environment through a feedback mechanism to maximize a given objective. Many algorithms have been proposed in the RL literature that an agent can apply to learn the optimal behavior. One such popular algorithm is the Deep Q-Network (DQN). This algorithm makes use of deep neural networks to compute optimal actions. In this project, your goal is to understand the effect of the number of neural network layers on the algorithm's performance. The performance of the algorithm can be evaluated through two metrics - Speed and Stability. \n",
        "\n",
        "**Speed:** How fast the algorithm reaches the maximum possible reward. \n",
        "\n",
        "**Stability** In some applications (especially when online learning is involved), along with speed, stability of the algorithm, i.e., minimal fluctuations in performance, is equally important. \n",
        "\n",
        "In this project, you should investigate the following question:\n",
        "\n",
        "**What is the impact of number of neural network layers on speed and stability of the algorithm?**\n",
        "\n",
        "You do not have to write the DQN code from scratch. We have provided a basic implementation of the DQN algorithm. You only have to tune the hyperparameters (neural network size, learning rate, etc), observe the performance, and analyze. More details on this are provided below. \n",
        "\n",
        "Now, let us discuss the RL task we have chosen, i.e., Lunar Lander. This task consists of the lander and a landing pad marked by two flags. The episode starts with the lander moving downwards due to gravity. The objective is to land safely using different engines available on the lander with zero speed on the landing pad as quickly and fuel efficient as possible. Reward for moving from the top of the screen and landing on landing pad with zero speed is between 100 to 140 points. Each leg ground contact yields a reward of 10 points. Firing main engine leads to a reward of -0.3 points in each frame. Firing the side engine leads to a reward of -0.03 points in each frame. An additional reward of -100 or +100 points is received if the lander crashes or comes to rest respectively which also leads to end of the episode. \n",
        "\n",
        "The input state of the Lunar Lander consists of following components:\n",
        "\n",
        "  1. Horizontal Position\n",
        "  2. Vertical Position\n",
        "  3. Horizontal Velocity\n",
        "  4. Vertical Velocity\n",
        "  5. Angle\n",
        "  6. Angular Velocity\n",
        "  7. Left Leg Contact\n",
        "  8. Right Leg Contact\n",
        "\n",
        "The actions of the agents are:\n",
        "  1. Do Nothing\n",
        "  2. Fire Main Engine\n",
        "  3. Fire Left Engine\n",
        "  4. Fire Right Engine\n",
        "\n",
        "![lunarlander_image.png](data:image/png;base64,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)\n",
        "\n",
        "\n",
        "\n"
      ]
    },
    {
      "cell_type": "markdown",
      "metadata": {
        "id": "vl7PJvx7zGBz"
      },
      "source": [
        "---\n",
        "# Setup"
      ]
    },
    {
      "cell_type": "code",
      "metadata": {
        "id": "fW8n2c5_zJeQ",
        "colab": {
          "base_uri": "https://localhost:8080/"
        },
        "outputId": "a69acb02-a87e-4d2a-cf74-0772c32dda10"
      },
      "source": [
        "# @title Install dependencies\n",
        "!pip install stable-baselines3\n",
        "!pip install box2d-py\n",
        "!pip install gym pyvirtualdisplay > /dev/null 2>&1\n",
        "!sudo apt-get install -y xvfb python-opengl ffmpeg > /dev/null 2>&1"
      ],
      "execution_count": 1,
      "outputs": [
        {
          "output_type": "stream",
          "text": [
            "Collecting stable-baselines3\n",
            "  Downloading stable_baselines3-1.1.0-py3-none-any.whl (172 kB)\n",
            "\u001b[?25l\r\u001b[K     |██                              | 10 kB 23.6 MB/s eta 0:00:01\r\u001b[K     |███▉                            | 20 kB 27.7 MB/s eta 0:00:01\r\u001b[K     |█████▊                          | 30 kB 12.7 MB/s eta 0:00:01\r\u001b[K     |███████▋                        | 40 kB 9.4 MB/s eta 0:00:01\r\u001b[K     |█████████▌                      | 51 kB 5.3 MB/s eta 0:00:01\r\u001b[K     |███████████▍                    | 61 kB 5.9 MB/s eta 0:00:01\r\u001b[K     |█████████████▎                  | 71 kB 5.6 MB/s eta 0:00:01\r\u001b[K     |███████████████▏                | 81 kB 6.2 MB/s eta 0:00:01\r\u001b[K     |█████████████████               | 92 kB 6.3 MB/s eta 0:00:01\r\u001b[K     |███████████████████             | 102 kB 5.1 MB/s eta 0:00:01\r\u001b[K     |████████████████████▉           | 112 kB 5.1 MB/s eta 0:00:01\r\u001b[K     |██████████████████████▉         | 122 kB 5.1 MB/s eta 0:00:01\r\u001b[K     |████████████████████████▊       | 133 kB 5.1 MB/s eta 0:00:01\r\u001b[K     |██████████████████████████▋     | 143 kB 5.1 MB/s eta 0:00:01\r\u001b[K     |████████████████████████████▌   | 153 kB 5.1 MB/s eta 0:00:01\r\u001b[K     |██████████████████████████████▍ | 163 kB 5.1 MB/s eta 0:00:01\r\u001b[K     |████████████████████████████████| 172 kB 5.1 MB/s \n",
            "\u001b[?25hRequirement already satisfied: matplotlib in /usr/local/lib/python3.7/dist-packages (from stable-baselines3) (3.2.2)\n",
            "Requirement already satisfied: cloudpickle in /usr/local/lib/python3.7/dist-packages (from stable-baselines3) (1.3.0)\n",
            "Requirement already satisfied: gym>=0.17 in /usr/local/lib/python3.7/dist-packages (from stable-baselines3) (0.17.3)\n",
            "Requirement already satisfied: pandas in /usr/local/lib/python3.7/dist-packages (from stable-baselines3) (1.1.5)\n",
            "Requirement already satisfied: torch>=1.4.0 in /usr/local/lib/python3.7/dist-packages (from stable-baselines3) (1.9.0+cu102)\n",
            "Requirement already satisfied: numpy in /usr/local/lib/python3.7/dist-packages (from stable-baselines3) (1.19.5)\n",
            "Requirement already satisfied: scipy in /usr/local/lib/python3.7/dist-packages (from gym>=0.17->stable-baselines3) (1.4.1)\n",
            "Requirement already satisfied: pyglet<=1.5.0,>=1.4.0 in /usr/local/lib/python3.7/dist-packages (from gym>=0.17->stable-baselines3) (1.5.0)\n",
            "Requirement already satisfied: future in /usr/local/lib/python3.7/dist-packages (from pyglet<=1.5.0,>=1.4.0->gym>=0.17->stable-baselines3) (0.16.0)\n",
            "Requirement already satisfied: typing-extensions in /usr/local/lib/python3.7/dist-packages (from torch>=1.4.0->stable-baselines3) (3.7.4.3)\n",
            "Requirement already satisfied: python-dateutil>=2.1 in /usr/local/lib/python3.7/dist-packages (from matplotlib->stable-baselines3) (2.8.1)\n",
            "Requirement already satisfied: kiwisolver>=1.0.1 in /usr/local/lib/python3.7/dist-packages (from matplotlib->stable-baselines3) (1.3.1)\n",
            "Requirement already satisfied: cycler>=0.10 in /usr/local/lib/python3.7/dist-packages (from matplotlib->stable-baselines3) (0.10.0)\n",
            "Requirement already satisfied: pyparsing!=2.0.4,!=2.1.2,!=2.1.6,>=2.0.1 in /usr/local/lib/python3.7/dist-packages (from matplotlib->stable-baselines3) (2.4.7)\n",
            "Requirement already satisfied: six in /usr/local/lib/python3.7/dist-packages (from cycler>=0.10->matplotlib->stable-baselines3) (1.15.0)\n",
            "Requirement already satisfied: pytz>=2017.2 in /usr/local/lib/python3.7/dist-packages (from pandas->stable-baselines3) (2018.9)\n",
            "Installing collected packages: stable-baselines3\n",
            "Successfully installed stable-baselines3-1.1.0\n",
            "Collecting box2d-py\n",
            "  Downloading box2d_py-2.3.8-cp37-cp37m-manylinux1_x86_64.whl (448 kB)\n",
            "\u001b[K     |████████████████████████████████| 448 kB 4.6 MB/s \n",
            "\u001b[?25hInstalling collected packages: box2d-py\n",
            "Successfully installed box2d-py-2.3.8\n"
          ],
          "name": "stdout"
        }
      ]
    },
    {
      "cell_type": "code",
      "metadata": {
        "id": "Wh6u6Yd3zQcF"
      },
      "source": [
        "# Imports\n",
        "import io\n",
        "import os\n",
        "import glob\n",
        "import base64\n",
        "\n",
        "import torch\n",
        "import stable_baselines3\n",
        "import matplotlib.pyplot as plt\n",
        "\n",
        "from stable_baselines3 import DQN\n",
        "from stable_baselines3.common.evaluation import evaluate_policy\n",
        "from stable_baselines3.common.results_plotter import ts2xy, load_results\n",
        "from stable_baselines3.common.callbacks import EvalCallback\n",
        "from stable_baselines3.common.results_plotter import ts2xy, load_results\n",
        "from stable_baselines3.common.vec_env import VecFrameStack\n",
        "from stable_baselines3.common.env_util import make_atari_env\n",
        "\n",
        "import gym\n",
        "from gym import spaces\n",
        "from gym.wrappers import Monitor\n",
        "\n",
        "from IPython.display import HTML\n",
        "from pyvirtualdisplay import Display\n",
        "from IPython import display as ipythondisplay"
      ],
      "execution_count": 2,
      "outputs": []
    },
    {
      "cell_type": "markdown",
      "metadata": {
        "id": "XmXcFwqlPfKc"
      },
      "source": [
        "#**Basic DQN Implementation**\n",
        "\n",
        "We will now implement the DQN algorithm using the existing code base. We encourage you to understand this example and re-use it in an application/project of your choice! "
      ]
    },
    {
      "cell_type": "markdown",
      "metadata": {
        "id": "TJqvCuflRypc"
      },
      "source": [
        "Now, let us set some hyperparameters for our algorithm. This is the only part you would play around with, to solve the first part of the project. "
      ]
    },
    {
      "cell_type": "code",
      "metadata": {
        "id": "jNYlILMYSJ8h"
      },
      "source": [
        "nn_layers = [64,64] #This is the configuration of your neural network. Currently, we have two layers, each consisting of 64 neurons. \n",
        "                    #If you want three layers with 64 neurons each, set the value to [64,64,64] and so on. \n",
        "\n",
        "learning_rate = 0.001 #This is the step-size with which the gradient descent is carried out. \n",
        "                      #Tip: Use smaller step-sizes for larger networks. \n",
        "                    "
      ],
      "execution_count": 3,
      "outputs": []
    },
    {
      "cell_type": "markdown",
      "metadata": {
        "id": "Qa1I2LIjTJ9O"
      },
      "source": [
        "Now, let us setup our model and the DQN algorithm. "
      ]
    },
    {
      "cell_type": "code",
      "metadata": {
        "id": "qwVEd3ARTVX4",
        "colab": {
          "base_uri": "https://localhost:8080/"
        },
        "outputId": "24f8a902-8eee-44ff-d34d-ea94acc3f7dd"
      },
      "source": [
        "log_dir = \"/tmp/gym/\"\n",
        "os.makedirs(log_dir, exist_ok=True)\n",
        "\n",
        "# Create environment\n",
        "env = gym.make('LunarLander-v2')\n",
        "#You can also load other environments like cartpole, MountainCar, Acrobot. Refer to https://gym.openai.com/docs/ for descriptions.\n",
        "#For example, if you would like to load Cartpole, just replace the above statement with \"env = gym.make('CartPole-v1')\". \n",
        "\n",
        "env = stable_baselines3.common.monitor.Monitor(env, log_dir )\n",
        "\n",
        "callback = EvalCallback(env,log_path = log_dir, deterministic=True) #For evaluating the performance of the agent periodically and logging the results.\n",
        "policy_kwargs = dict(activation_fn=torch.nn.ReLU,\n",
        "                     net_arch=nn_layers)\n",
        "model = DQN(\"MlpPolicy\", env,policy_kwargs = policy_kwargs, \n",
        "            learning_rate=learning_rate,\n",
        "            batch_size=1,  #for simplicity, we are not doing batch update.\n",
        "            buffer_size=1, #size of experience of replay buffer. Set to 1 as batch update is not done\n",
        "            learning_starts=1, #learning starts immediately!\n",
        "            gamma=0.99, #discount facto. range is between 0 and 1. \n",
        "            tau = 1,  #the soft update coefficient for updating the target network\n",
        "            target_update_interval=1, #update the target network immediately.\n",
        "            train_freq=(1,\"step\"), #train the network at every step.\n",
        "            max_grad_norm = 10, #the maximum value for the gradient clipping\n",
        "            exploration_initial_eps = 1, #initial value of random action probability\n",
        "            exploration_fraction = 0.5, #fraction of entire training period over which the exploration rate is reduced\n",
        "            gradient_steps = 1, #number of gradient steps \n",
        "            seed = 1, #seed for the pseudo random generators\n",
        "            verbose=1)\n",
        "\n",
        "# You can also experiment with other RL algorithms like A2C, PPO, DDPG etc. Refer to  https://stable-baselines3.readthedocs.io/en/master/guide/examples.html\n",
        "#for documentation. For example, if you would like to run DDPG, just replace \"DQN\" above with \"DDPG\"."
      ],
      "execution_count": 4,
      "outputs": [
        {
          "output_type": "stream",
          "text": [
            "Using cpu device\n",
            "Wrapping the env in a DummyVecEnv.\n"
          ],
          "name": "stdout"
        }
      ]
    },
    {
      "cell_type": "markdown",
      "metadata": {
        "id": "5J3qR8UUTeNk"
      },
      "source": [
        "Before we train the model, let us look at an instance of Lunar Lander **before training**.  \n",
        "\n",
        "**Note:** The following code for rendering the video is taken from https://colab.research.google.com/github/jeffheaton/t81_558_deep_learning/blob/master/t81_558_class_12_01_ai_gym.ipynb#scrollTo=T9RpF49oOsZj"
      ]
    },
    {
      "cell_type": "code",
      "metadata": {
        "id": "ibxxXcE63Xri"
      },
      "source": [
        "# @title Plotting/Video functions\n",
        "from IPython.display import HTML\n",
        "from pyvirtualdisplay import Display\n",
        "from IPython import display as ipythondisplay\n",
        "\n",
        "display = Display(visible=0, size=(1400, 900))\n",
        "display.start()\n",
        "\n",
        "\"\"\"\n",
        "Utility functions to enable video recording of gym environment \n",
        "and displaying it.\n",
        "To enable video, just do \"env = wrap_env(env)\"\"\n",
        "\"\"\"\n",
        "\n",
        "def show_video():\n",
        "  mp4list = glob.glob('video/*.mp4')\n",
        "  if len(mp4list) > 0:\n",
        "    mp4 = mp4list[0]\n",
        "    video = io.open(mp4, 'r+b').read()\n",
        "    encoded = base64.b64encode(video)\n",
        "    ipythondisplay.display(HTML(data='''<video alt=\"test\" autoplay \n",
        "                loop controls style=\"height: 400px;\">\n",
        "                <source src=\"data:video/mp4;base64,{0}\" type=\"video/mp4\" />\n",
        "             </video>'''.format(encoded.decode('ascii'))))\n",
        "  else: \n",
        "    print(\"Could not find video\")\n",
        "    \n",
        "\n",
        "def wrap_env(env):\n",
        "  env = Monitor(env, './video', force=True)\n",
        "  return env"
      ],
      "execution_count": 5,
      "outputs": []
    },
    {
      "cell_type": "code",
      "metadata": {
        "id": "obFXUqhwUA0c",
        "colab": {
          "base_uri": "https://localhost:8080/",
          "height": 421
        },
        "outputId": "4acad06f-8620-4a3f-a085-b38751344f05"
      },
      "source": [
        "test_env = wrap_env(gym.make(\"LunarLander-v2\"))\n",
        "observation = test_env.reset()\n",
        "total_reward = 0\n",
        "while True:\n",
        "  test_env.render()\n",
        "  action, states = model.predict(observation, deterministic=True)\n",
        "  observation, reward, done, info = test_env.step(action) \n",
        "  total_reward += reward\n",
        "  if done: \n",
        "    break;\n",
        "\n",
        "# print(total_reward)\n",
        "test_env.close()\n",
        "show_video()"
      ],
      "execution_count": 6,
      "outputs": [
        {
          "output_type": "display_data",
          "data": {
            "text/html": [
              "<video alt=\"test\" autoplay \n",
              "                loop controls style=\"height: 400px;\">\n",
              "                <source src=\"data:video/mp4;base64,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\" type=\"video/mp4\" />\n",
              "             </video>"
            ],
            "text/plain": [
              "<IPython.core.display.HTML object>"
            ]
          },
          "metadata": {
            "tags": []
          }
        }
      ]
    },
    {
      "cell_type": "markdown",
      "metadata": {
        "id": "aho3nKYwUE2f"
      },
      "source": [
        "From the video above, we see that the lander has crashed! \n",
        "It is now the time for training! \n"
      ]
    },
    {
      "cell_type": "code",
      "metadata": {
        "id": "AnDSOprnVI46",
        "colab": {
          "base_uri": "https://localhost:8080/"
        },
        "outputId": "4375a589-e83d-4b61-c034-beaa9628576a"
      },
      "source": [
        "model.learn(total_timesteps=100000, log_interval=10, callback=callback) \n",
        "# The performance of the training will be printed every 10 episodes. Change it to 1, if you wish to\n",
        "# view the performance at every training episode. "
      ],
      "execution_count": 7,
      "outputs": [
        {
          "output_type": "stream",
          "text": [
            "----------------------------------\n",
            "| rollout/            |          |\n",
            "|    ep_len_mean      | 85.3     |\n",
            "|    ep_rew_mean      | -172     |\n",
            "|    exploration rate | 0.984    |\n",
            "| time/               |          |\n",
            "|    episodes         | 10       |\n",
            "|    fps              | 250      |\n",
            "|    time_elapsed     | 3        |\n",
            "|    total timesteps  | 853      |\n",
            "| train/              |          |\n",
            "|    learning_rate    | 0.001    |\n",
            "|    loss             | 1.9      |\n",
            "|    n_updates        | 851      |\n",
            "----------------------------------\n",
            "----------------------------------\n",
            "| rollout/            |          |\n",
            "|    ep_len_mean      | 89.5     |\n",
            "|    ep_rew_mean      | -177     |\n",
            "|    exploration rate | 0.966    |\n",
            "| time/               |          |\n",
            "|    episodes         | 20       |\n",
            "|    fps              | 256      |\n",
            "|    time_elapsed     | 6        |\n",
            "|    total timesteps  | 1791     |\n",
            "| train/              |          |\n",
            "|    learning_rate    | 0.001    |\n",
            "|    loss             | 11       |\n",
            "|    n_updates        | 1789     |\n",
            "----------------------------------\n",
            "----------------------------------\n",
            "| rollout/            |          |\n",
            "|    ep_len_mean      | 88.9     |\n",
            "|    ep_rew_mean      | -170     |\n",
            "|    exploration rate | 0.949    |\n",
            "| time/               |          |\n",
            "|    episodes         | 30       |\n",
            "|    fps              | 261      |\n",
            "|    time_elapsed     | 10       |\n",
            "|    total timesteps  | 2666     |\n",
            "| train/              |          |\n",
            "|    learning_rate    | 0.001    |\n",
            "|    loss             | 0.562    |\n",
            "|    n_updates        | 2664     |\n",
            "----------------------------------\n",
            "----------------------------------\n",
            "| rollout/            |          |\n",
            "|    ep_len_mean      | 90.6     |\n",
            "|    ep_rew_mean      | -170     |\n",
            "|    exploration rate | 0.931    |\n",
            "| time/               |          |\n",
            "|    episodes         | 40       |\n",
            "|    fps              | 260      |\n",
            "|    time_elapsed     | 13       |\n",
            "|    total timesteps  | 3625     |\n",
            "| train/              |          |\n",
            "|    learning_rate    | 0.001    |\n",
            "|    loss             | 0.186    |\n",
            "|    n_updates        | 3623     |\n",
            "----------------------------------\n",
            "----------------------------------\n",
            "| rollout/            |          |\n",
            "|    ep_len_mean      | 88.6     |\n",
            "|    ep_rew_mean      | -160     |\n",
            "|    exploration rate | 0.916    |\n",
            "| time/               |          |\n",
            "|    episodes         | 50       |\n",
            "|    fps              | 261      |\n",
            "|    time_elapsed     | 16       |\n",
            "|    total timesteps  | 4429     |\n",
            "| train/              |          |\n",
            "|    learning_rate    | 0.001    |\n",
            "|    loss             | 24.8     |\n",
            "|    n_updates        | 4427     |\n",
            "----------------------------------\n",
            "----------------------------------\n",
            "| rollout/            |          |\n",
            "|    ep_len_mean      | 89.5     |\n",
            "|    ep_rew_mean      | -158     |\n",
            "|    exploration rate | 0.898    |\n",
            "| time/               |          |\n",
            "|    episodes         | 60       |\n",
            "|    fps              | 261      |\n",
            "|    time_elapsed     | 20       |\n",
            "|    total timesteps  | 5373     |\n",
            "| train/              |          |\n",
            "|    learning_rate    | 0.001    |\n",
            "|    loss             | 15.1     |\n",
            "|    n_updates        | 5371     |\n",
            "----------------------------------\n",
            "----------------------------------\n",
            "| rollout/            |          |\n",
            "|    ep_len_mean      | 89.4     |\n",
            "|    ep_rew_mean      | -153     |\n",
            "|    exploration rate | 0.881    |\n",
            "| time/               |          |\n",
            "|    episodes         | 70       |\n",
            "|    fps              | 260      |\n",
            "|    time_elapsed     | 23       |\n",
            "|    total timesteps  | 6257     |\n",
            "| train/              |          |\n",
            "|    learning_rate    | 0.001    |\n",
            "|    loss             | 0.363    |\n",
            "|    n_updates        | 6255     |\n",
            "----------------------------------\n",
            "----------------------------------\n",
            "| rollout/            |          |\n",
            "|    ep_len_mean      | 89.8     |\n",
            "|    ep_rew_mean      | -149     |\n",
            "|    exploration rate | 0.864    |\n",
            "| time/               |          |\n",
            "|    episodes         | 80       |\n",
            "|    fps              | 260      |\n",
            "|    time_elapsed     | 27       |\n",
            "|    total timesteps  | 7182     |\n",
            "| train/              |          |\n",
            "|    learning_rate    | 0.001    |\n",
            "|    loss             | 14.6     |\n",
            "|    n_updates        | 7180     |\n",
            "----------------------------------\n",
            "----------------------------------\n",
            "| rollout/            |          |\n",
            "|    ep_len_mean      | 90       |\n",
            "|    ep_rew_mean      | -148     |\n",
            "|    exploration rate | 0.846    |\n",
            "| time/               |          |\n",
            "|    episodes         | 90       |\n",
            "|    fps              | 260      |\n",
            "|    time_elapsed     | 31       |\n",
            "|    total timesteps  | 8096     |\n",
            "| train/              |          |\n",
            "|    learning_rate    | 0.001    |\n",
            "|    loss             | 3.9      |\n",
            "|    n_updates        | 8094     |\n",
            "----------------------------------\n",
            "----------------------------------\n",
            "| rollout/            |          |\n",
            "|    ep_len_mean      | 91.2     |\n",
            "|    ep_rew_mean      | -146     |\n",
            "|    exploration rate | 0.827    |\n",
            "| time/               |          |\n",
            "|    episodes         | 100      |\n",
            "|    fps              | 260      |\n",
            "|    time_elapsed     | 34       |\n",
            "|    total timesteps  | 9119     |\n",
            "| train/              |          |\n",
            "|    learning_rate    | 0.001    |\n",
            "|    loss             | 9.72     |\n",
            "|    n_updates        | 9117     |\n",
            "----------------------------------\n",
            "Eval num_timesteps=10000, episode_reward=-844.94 +/- 370.24\n",
            "Episode length: 123.60 +/- 33.29\n",
            "----------------------------------\n",
            "| eval/               |          |\n",
            "|    mean_ep_length   | 124      |\n",
            "|    mean_reward      | -845     |\n",
            "| rollout/            |          |\n",
            "|    exploration rate | 0.81     |\n",
            "| time/               |          |\n",
            "|    total timesteps  | 10000    |\n",
            "| train/              |          |\n",
            "|    learning_rate    | 0.001    |\n",
            "|    loss             | 1.4      |\n",
            "|    n_updates        | 9998     |\n",
            "----------------------------------\n",
            "New best mean reward!\n",
            "----------------------------------\n",
            "| rollout/            |          |\n",
            "|    ep_len_mean      | 103      |\n",
            "|    ep_rew_mean      | -144     |\n",
            "|    exploration rate | 0.787    |\n",
            "| time/               |          |\n",
            "|    episodes         | 110      |\n",
            "|    fps              | 252      |\n",
            "|    time_elapsed     | 44       |\n",
            "|    total timesteps  | 11209    |\n",
            "| train/              |          |\n",
            "|    learning_rate    | 0.001    |\n",
            "|    loss             | 0.14     |\n",
            "|    n_updates        | 11207    |\n",
            "----------------------------------\n",
            "----------------------------------\n",
            "| rollout/            |          |\n",
            "|    ep_len_mean      | 105      |\n",
            "|    ep_rew_mean      | -139     |\n",
            "|    exploration rate | 0.765    |\n",
            "| time/               |          |\n",
            "|    episodes         | 120      |\n",
            "|    fps              | 253      |\n",
            "|    time_elapsed     | 48       |\n",
            "|    total timesteps  | 12344    |\n",
            "| train/              |          |\n",
            "|    learning_rate    | 0.001    |\n",
            "|    loss             | 0.0466   |\n",
            "|    n_updates        | 12342    |\n",
            "----------------------------------\n",
            "----------------------------------\n",
            "| rollout/            |          |\n",
            "|    ep_len_mean      | 106      |\n",
            "|    ep_rew_mean      | -134     |\n",
            "|    exploration rate | 0.746    |\n",
            "| time/               |          |\n",
            "|    episodes         | 130      |\n",
            "|    fps              | 253      |\n",
            "|    time_elapsed     | 52       |\n",
            "|    total timesteps  | 13354    |\n",
            "| train/              |          |\n",
            "|    learning_rate    | 0.001    |\n",
            "|    loss             | 10.5     |\n",
            "|    n_updates        | 13352    |\n",
            "----------------------------------\n",
            "----------------------------------\n",
            "| rollout/            |          |\n",
            "|    ep_len_mean      | 109      |\n",
            "|    ep_rew_mean      | -130     |\n",
            "|    exploration rate | 0.723    |\n",
            "| time/               |          |\n",
            "|    episodes         | 140      |\n",
            "|    fps              | 253      |\n",
            "|    time_elapsed     | 57       |\n",
            "|    total timesteps  | 14601    |\n",
            "| train/              |          |\n",
            "|    learning_rate    | 0.001    |\n",
            "|    loss             | 0.0413   |\n",
            "|    n_updates        | 14599    |\n",
            "----------------------------------\n",
            "----------------------------------\n",
            "| rollout/            |          |\n",
            "|    ep_len_mean      | 112      |\n",
            "|    ep_rew_mean      | -126     |\n",
            "|    exploration rate | 0.702    |\n",
            "| time/               |          |\n",
            "|    episodes         | 150      |\n",
            "|    fps              | 253      |\n",
            "|    time_elapsed     | 61       |\n",
            "|    total timesteps  | 15668    |\n",
            "| train/              |          |\n",
            "|    learning_rate    | 0.001    |\n",
            "|    loss             | 19.9     |\n",
            "|    n_updates        | 15666    |\n",
            "----------------------------------\n",
            "----------------------------------\n",
            "| rollout/            |          |\n",
            "|    ep_len_mean      | 114      |\n",
            "|    ep_rew_mean      | -119     |\n",
            "|    exploration rate | 0.681    |\n",
            "| time/               |          |\n",
            "|    episodes         | 160      |\n",
            "|    fps              | 253      |\n",
            "|    time_elapsed     | 66       |\n",
            "|    total timesteps  | 16793    |\n",
            "| train/              |          |\n",
            "|    learning_rate    | 0.001    |\n",
            "|    loss             | 7.29     |\n",
            "|    n_updates        | 16791    |\n",
            "----------------------------------\n",
            "----------------------------------\n",
            "| rollout/            |          |\n",
            "|    ep_len_mean      | 118      |\n",
            "|    ep_rew_mean      | -113     |\n",
            "|    exploration rate | 0.657    |\n",
            "| time/               |          |\n",
            "|    episodes         | 170      |\n",
            "|    fps              | 253      |\n",
            "|    time_elapsed     | 71       |\n",
            "|    total timesteps  | 18074    |\n",
            "| train/              |          |\n",
            "|    learning_rate    | 0.001    |\n",
            "|    loss             | 0.269    |\n",
            "|    n_updates        | 18072    |\n",
            "----------------------------------\n",
            "----------------------------------\n",
            "| rollout/            |          |\n",
            "|    ep_len_mean      | 120      |\n",
            "|    ep_rew_mean      | -108     |\n",
            "|    exploration rate | 0.634    |\n",
            "| time/               |          |\n",
            "|    episodes         | 180      |\n",
            "|    fps              | 254      |\n",
            "|    time_elapsed     | 75       |\n",
            "|    total timesteps  | 19241    |\n",
            "| train/              |          |\n",
            "|    learning_rate    | 0.001    |\n",
            "|    loss             | 26.3     |\n",
            "|    n_updates        | 19239    |\n",
            "----------------------------------\n",
            "Eval num_timesteps=20000, episode_reward=-344.31 +/- 45.73\n",
            "Episode length: 164.60 +/- 48.43\n",
            "----------------------------------\n",
            "| eval/               |          |\n",
            "|    mean_ep_length   | 165      |\n",
            "|    mean_reward      | -344     |\n",
            "| rollout/            |          |\n",
            "|    exploration rate | 0.62     |\n",
            "| time/               |          |\n",
            "|    total timesteps  | 20000    |\n",
            "| train/              |          |\n",
            "|    learning_rate    | 0.001    |\n",
            "|    loss             | 0.958    |\n",
            "|    n_updates        | 19998    |\n",
            "----------------------------------\n",
            "New best mean reward!\n",
            "----------------------------------\n",
            "| rollout/            |          |\n",
            "|    ep_len_mean      | 122      |\n",
            "|    ep_rew_mean      | -99.1    |\n",
            "|    exploration rate | 0.612    |\n",
            "| time/               |          |\n",
            "|    episodes         | 190      |\n",
            "|    fps              | 252      |\n",
            "|    time_elapsed     | 80       |\n",
            "|    total timesteps  | 20420    |\n",
            "| train/              |          |\n",
            "|    learning_rate    | 0.001    |\n",
            "|    loss             | 5.82     |\n",
            "|    n_updates        | 20418    |\n",
            "----------------------------------\n",
            "----------------------------------\n",
            "| rollout/            |          |\n",
            "|    ep_len_mean      | 123      |\n",
            "|    ep_rew_mean      | -91.1    |\n",
            "|    exploration rate | 0.591    |\n",
            "| time/               |          |\n",
            "|    episodes         | 200      |\n",
            "|    fps              | 252      |\n",
            "|    time_elapsed     | 85       |\n",
            "|    total timesteps  | 21514    |\n",
            "| train/              |          |\n",
            "|    learning_rate    | 0.001    |\n",
            "|    loss             | 9.27     |\n",
            "|    n_updates        | 21512    |\n",
            "----------------------------------\n",
            "----------------------------------\n",
            "| rollout/            |          |\n",
            "|    ep_len_mean      | 115      |\n",
            "|    ep_rew_mean      | -81      |\n",
            "|    exploration rate | 0.568    |\n",
            "| time/               |          |\n",
            "|    episodes         | 210      |\n",
            "|    fps              | 252      |\n",
            "|    time_elapsed     | 90       |\n",
            "|    total timesteps  | 22712    |\n",
            "| train/              |          |\n",
            "|    learning_rate    | 0.001    |\n",
            "|    loss             | 4.17     |\n",
            "|    n_updates        | 22710    |\n",
            "----------------------------------\n",
            "----------------------------------\n",
            "| rollout/            |          |\n",
            "|    ep_len_mean      | 117      |\n",
            "|    ep_rew_mean      | -71.6    |\n",
            "|    exploration rate | 0.544    |\n",
            "| time/               |          |\n",
            "|    episodes         | 220      |\n",
            "|    fps              | 252      |\n",
            "|    time_elapsed     | 95       |\n",
            "|    total timesteps  | 24015    |\n",
            "| train/              |          |\n",
            "|    learning_rate    | 0.001    |\n",
            "|    loss             | 15.6     |\n",
            "|    n_updates        | 24013    |\n",
            "----------------------------------\n",
            "----------------------------------\n",
            "| rollout/            |          |\n",
            "|    ep_len_mean      | 118      |\n",
            "|    ep_rew_mean      | -66.3    |\n",
            "|    exploration rate | 0.522    |\n",
            "| time/               |          |\n",
            "|    episodes         | 230      |\n",
            "|    fps              | 252      |\n",
            "|    time_elapsed     | 99       |\n",
            "|    total timesteps  | 25145    |\n",
            "| train/              |          |\n",
            "|    learning_rate    | 0.001    |\n",
            "|    loss             | 8.07     |\n",
            "|    n_updates        | 25143    |\n",
            "----------------------------------\n",
            "----------------------------------\n",
            "| rollout/            |          |\n",
            "|    ep_len_mean      | 117      |\n",
            "|    ep_rew_mean      | -58.1    |\n",
            "|    exploration rate | 0.5      |\n",
            "| time/               |          |\n",
            "|    episodes         | 240      |\n",
            "|    fps              | 252      |\n",
            "|    time_elapsed     | 104      |\n",
            "|    total timesteps  | 26321    |\n",
            "| train/              |          |\n",
            "|    learning_rate    | 0.001    |\n",
            "|    loss             | 7        |\n",
            "|    n_updates        | 26319    |\n",
            "----------------------------------\n",
            "----------------------------------\n",
            "| rollout/            |          |\n",
            "|    ep_len_mean      | 122      |\n",
            "|    ep_rew_mean      | -53      |\n",
            "|    exploration rate | 0.471    |\n",
            "| time/               |          |\n",
            "|    episodes         | 250      |\n",
            "|    fps              | 251      |\n",
            "|    time_elapsed     | 110      |\n",
            "|    total timesteps  | 27868    |\n",
            "| train/              |          |\n",
            "|    learning_rate    | 0.001    |\n",
            "|    loss             | 10.8     |\n",
            "|    n_updates        | 27866    |\n",
            "----------------------------------\n",
            "----------------------------------\n",
            "| rollout/            |          |\n",
            "|    ep_len_mean      | 127      |\n",
            "|    ep_rew_mean      | -48.5    |\n",
            "|    exploration rate | 0.44     |\n",
            "| time/               |          |\n",
            "|    episodes         | 260      |\n",
            "|    fps              | 251      |\n",
            "|    time_elapsed     | 116      |\n",
            "|    total timesteps  | 29460    |\n",
            "| train/              |          |\n",
            "|    learning_rate    | 0.001    |\n",
            "|    loss             | 10.5     |\n",
            "|    n_updates        | 29458    |\n",
            "----------------------------------\n",
            "Eval num_timesteps=30000, episode_reward=-339.86 +/- 45.03\n",
            "Episode length: 459.40 +/- 84.61\n",
            "----------------------------------\n",
            "| eval/               |          |\n",
            "|    mean_ep_length   | 459      |\n",
            "|    mean_reward      | -340     |\n",
            "| rollout/            |          |\n",
            "|    exploration rate | 0.43     |\n",
            "| time/               |          |\n",
            "|    total timesteps  | 30000    |\n",
            "| train/              |          |\n",
            "|    learning_rate    | 0.001    |\n",
            "|    loss             | 0.269    |\n",
            "|    n_updates        | 29998    |\n",
            "----------------------------------\n",
            "New best mean reward!\n",
            "----------------------------------\n",
            "| rollout/            |          |\n",
            "|    ep_len_mean      | 146      |\n",
            "|    ep_rew_mean      | -44.7    |\n",
            "|    exploration rate | 0.373    |\n",
            "| time/               |          |\n",
            "|    episodes         | 270      |\n",
            "|    fps              | 242      |\n",
            "|    time_elapsed     | 136      |\n",
            "|    total timesteps  | 33011    |\n",
            "| train/              |          |\n",
            "|    learning_rate    | 0.001    |\n",
            "|    loss             | 5.18     |\n",
            "|    n_updates        | 33009    |\n",
            "----------------------------------\n",
            "----------------------------------\n",
            "| rollout/            |          |\n",
            "|    ep_len_mean      | 176      |\n",
            "|    ep_rew_mean      | -34.9    |\n",
            "|    exploration rate | 0.295    |\n",
            "| time/               |          |\n",
            "|    episodes         | 280      |\n",
            "|    fps              | 235      |\n",
            "|    time_elapsed     | 157      |\n",
            "|    total timesteps  | 37125    |\n",
            "| train/              |          |\n",
            "|    learning_rate    | 0.001    |\n",
            "|    loss             | 6.15     |\n",
            "|    n_updates        | 37123    |\n",
            "----------------------------------\n",
            "Eval num_timesteps=40000, episode_reward=-30.48 +/- 25.62\n",
            "Episode length: 1000.00 +/- 0.00\n",
            "----------------------------------\n",
            "| eval/               |          |\n",
            "|    mean_ep_length   | 1e+03    |\n",
            "|    mean_reward      | -30.5    |\n",
            "| rollout/            |          |\n",
            "|    exploration rate | 0.24     |\n",
            "| time/               |          |\n",
            "|    total timesteps  | 40000    |\n",
            "| train/              |          |\n",
            "|    learning_rate    | 0.001    |\n",
            "|    loss             | 0.161    |\n",
            "|    n_updates        | 39998    |\n",
            "----------------------------------\n",
            "New best mean reward!\n",
            "----------------------------------\n",
            "| rollout/            |          |\n",
            "|    ep_len_mean      | 234      |\n",
            "|    ep_rew_mean      | -15      |\n",
            "|    exploration rate | 0.161    |\n",
            "| time/               |          |\n",
            "|    episodes         | 290      |\n",
            "|    fps              | 216      |\n",
            "|    time_elapsed     | 204      |\n",
            "|    total timesteps  | 44153    |\n",
            "| train/              |          |\n",
            "|    learning_rate    | 0.001    |\n",
            "|    loss             | 0.00693  |\n",
            "|    n_updates        | 44151    |\n",
            "----------------------------------\n",
            "----------------------------------\n",
            "| rollout/            |          |\n",
            "|    ep_len_mean      | 272      |\n",
            "|    ep_rew_mean      | -1.22    |\n",
            "|    exploration rate | 0.0665   |\n",
            "| time/               |          |\n",
            "|    episodes         | 300      |\n",
            "|    fps              | 213      |\n",
            "|    time_elapsed     | 230      |\n",
            "|    total timesteps  | 49132    |\n",
            "| train/              |          |\n",
            "|    learning_rate    | 0.001    |\n",
            "|    loss             | 0.00473  |\n",
            "|    n_updates        | 49130    |\n",
            "----------------------------------\n",
            "Eval num_timesteps=50000, episode_reward=140.99 +/- 104.92\n",
            "Episode length: 187.00 +/- 90.95\n",
            "----------------------------------\n",
            "| eval/               |          |\n",
            "|    mean_ep_length   | 187      |\n",
            "|    mean_reward      | 141      |\n",
            "| rollout/            |          |\n",
            "|    exploration rate | 0.05     |\n",
            "| time/               |          |\n",
            "|    total timesteps  | 50000    |\n",
            "| train/              |          |\n",
            "|    learning_rate    | 0.001    |\n",
            "|    loss             | 0.00397  |\n",
            "|    n_updates        | 49998    |\n",
            "----------------------------------\n",
            "New best mean reward!\n",
            "----------------------------------\n",
            "| rollout/            |          |\n",
            "|    ep_len_mean      | 286      |\n",
            "|    ep_rew_mean      | 3.34     |\n",
            "|    exploration rate | 0.05     |\n",
            "| time/               |          |\n",
            "|    episodes         | 310      |\n",
            "|    fps              | 212      |\n",
            "|    time_elapsed     | 245      |\n",
            "|    total timesteps  | 52279    |\n",
            "| train/              |          |\n",
            "|    learning_rate    | 0.001    |\n",
            "|    loss             | 1.79     |\n",
            "|    n_updates        | 52277    |\n",
            "----------------------------------\n",
            "----------------------------------\n",
            "| rollout/            |          |\n",
            "|    ep_len_mean      | 305      |\n",
            "|    ep_rew_mean      | 15.1     |\n",
            "|    exploration rate | 0.05     |\n",
            "| time/               |          |\n",
            "|    episodes         | 320      |\n",
            "|    fps              | 213      |\n",
            "|    time_elapsed     | 260      |\n",
            "|    total timesteps  | 55501    |\n",
            "| train/              |          |\n",
            "|    learning_rate    | 0.001    |\n",
            "|    loss             | 0.00447  |\n",
            "|    n_updates        | 55499    |\n",
            "----------------------------------\n",
            "Eval num_timesteps=60000, episode_reward=-45.50 +/- 19.66\n",
            "Episode length: 1000.00 +/- 0.00\n",
            "----------------------------------\n",
            "| eval/               |          |\n",
            "|    mean_ep_length   | 1e+03    |\n",
            "|    mean_reward      | -45.5    |\n",
            "| rollout/            |          |\n",
            "|    exploration rate | 0.05     |\n",
            "| time/               |          |\n",
            "|    total timesteps  | 60000    |\n",
            "| train/              |          |\n",
            "|    learning_rate    | 0.001    |\n",
            "|    loss             | 0.187    |\n",
            "|    n_updates        | 59998    |\n",
            "----------------------------------\n",
            "----------------------------------\n",
            "| rollout/            |          |\n",
            "|    ep_len_mean      | 343      |\n",
            "|    ep_rew_mean      | 30.5     |\n",
            "|    exploration rate | 0.05     |\n",
            "| time/               |          |\n",
            "|    episodes         | 330      |\n",
            "|    fps              | 204      |\n",
            "|    time_elapsed     | 295      |\n",
            "|    total timesteps  | 60513    |\n",
            "| train/              |          |\n",
            "|    learning_rate    | 0.001    |\n",
            "|    loss             | 22.6     |\n",
            "|    n_updates        | 60511    |\n",
            "----------------------------------\n",
            "----------------------------------\n",
            "| rollout/            |          |\n",
            "|    ep_len_mean      | 370      |\n",
            "|    ep_rew_mean      | 56.1     |\n",
            "|    exploration rate | 0.05     |\n",
            "| time/               |          |\n",
            "|    episodes         | 340      |\n",
            "|    fps              | 205      |\n",
            "|    time_elapsed     | 313      |\n",
            "|    total timesteps  | 64391    |\n",
            "| train/              |          |\n",
            "|    learning_rate    | 0.001    |\n",
            "|    loss             | 0.00312  |\n",
            "|    n_updates        | 64389    |\n",
            "----------------------------------\n",
            "----------------------------------\n",
            "| rollout/            |          |\n",
            "|    ep_len_mean      | 394      |\n",
            "|    ep_rew_mean      | 75.5     |\n",
            "|    exploration rate | 0.05     |\n",
            "| time/               |          |\n",
            "|    episodes         | 350      |\n",
            "|    fps              | 205      |\n",
            "|    time_elapsed     | 332      |\n",
            "|    total timesteps  | 68336    |\n",
            "| train/              |          |\n",
            "|    learning_rate    | 0.001    |\n",
            "|    loss             | 0.00104  |\n",
            "|    n_updates        | 68334    |\n",
            "----------------------------------\n",
            "Eval num_timesteps=70000, episode_reward=23.22 +/- 121.02\n",
            "Episode length: 317.80 +/- 88.52\n",
            "----------------------------------\n",
            "| eval/               |          |\n",
            "|    mean_ep_length   | 318      |\n",
            "|    mean_reward      | 23.2     |\n",
            "| rollout/            |          |\n",
            "|    exploration rate | 0.05     |\n",
            "| time/               |          |\n",
            "|    total timesteps  | 70000    |\n",
            "| train/              |          |\n",
            "|    learning_rate    | 0.001    |\n",
            "|    loss             | 0.0516   |\n",
            "|    n_updates        | 69998    |\n",
            "----------------------------------\n",
            "----------------------------------\n",
            "| rollout/            |          |\n",
            "|    ep_len_mean      | 416      |\n",
            "|    ep_rew_mean      | 94.2     |\n",
            "|    exploration rate | 0.05     |\n",
            "| time/               |          |\n",
            "|    episodes         | 360      |\n",
            "|    fps              | 204      |\n",
            "|    time_elapsed     | 353      |\n",
            "|    total timesteps  | 72373    |\n",
            "| train/              |          |\n",
            "|    learning_rate    | 0.001    |\n",
            "|    loss             | 0.546    |\n",
            "|    n_updates        | 72371    |\n",
            "----------------------------------\n",
            "----------------------------------\n",
            "| rollout/            |          |\n",
            "|    ep_len_mean      | 423      |\n",
            "|    ep_rew_mean      | 115      |\n",
            "|    exploration rate | 0.05     |\n",
            "| time/               |          |\n",
            "|    episodes         | 370      |\n",
            "|    fps              | 205      |\n",
            "|    time_elapsed     | 371      |\n",
            "|    total timesteps  | 76373    |\n",
            "| train/              |          |\n",
            "|    learning_rate    | 0.001    |\n",
            "|    loss             | 0.00817  |\n",
            "|    n_updates        | 76371    |\n",
            "----------------------------------\n",
            "----------------------------------\n",
            "| rollout/            |          |\n",
            "|    ep_len_mean      | 411      |\n",
            "|    ep_rew_mean      | 125      |\n",
            "|    exploration rate | 0.05     |\n",
            "| time/               |          |\n",
            "|    episodes         | 380      |\n",
            "|    fps              | 205      |\n",
            "|    time_elapsed     | 384      |\n",
            "|    total timesteps  | 79286    |\n",
            "| train/              |          |\n",
            "|    learning_rate    | 0.001    |\n",
            "|    loss             | 0.0381   |\n",
            "|    n_updates        | 79284    |\n",
            "----------------------------------\n",
            "Eval num_timesteps=80000, episode_reward=-11.67 +/- 21.72\n",
            "Episode length: 1000.00 +/- 0.00\n",
            "----------------------------------\n",
            "| eval/               |          |\n",
            "|    mean_ep_length   | 1e+03    |\n",
            "|    mean_reward      | -11.7    |\n",
            "| rollout/            |          |\n",
            "|    exploration rate | 0.05     |\n",
            "| time/               |          |\n",
            "|    total timesteps  | 80000    |\n",
            "| train/              |          |\n",
            "|    learning_rate    | 0.001    |\n",
            "|    loss             | 0.0887   |\n",
            "|    n_updates        | 79998    |\n",
            "----------------------------------\n",
            "----------------------------------\n",
            "| rollout/            |          |\n",
            "|    ep_len_mean      | 387      |\n",
            "|    ep_rew_mean      | 128      |\n",
            "|    exploration rate | 0.05     |\n",
            "| time/               |          |\n",
            "|    episodes         | 390      |\n",
            "|    fps              | 201      |\n",
            "|    time_elapsed     | 417      |\n",
            "|    total timesteps  | 84207    |\n",
            "| train/              |          |\n",
            "|    learning_rate    | 0.001    |\n",
            "|    loss             | 0.00233  |\n",
            "|    n_updates        | 84205    |\n",
            "----------------------------------\n",
            "----------------------------------\n",
            "| rollout/            |          |\n",
            "|    ep_len_mean      | 374      |\n",
            "|    ep_rew_mean      | 126      |\n",
            "|    exploration rate | 0.05     |\n",
            "| time/               |          |\n",
            "|    episodes         | 400      |\n",
            "|    fps              | 201      |\n",
            "|    time_elapsed     | 435      |\n",
            "|    total timesteps  | 87809    |\n",
            "| train/              |          |\n",
            "|    learning_rate    | 0.001    |\n",
            "|    loss             | 3.17     |\n",
            "|    n_updates        | 87807    |\n",
            "----------------------------------\n",
            "Eval num_timesteps=90000, episode_reward=110.11 +/- 88.98\n",
            "Episode length: 595.60 +/- 277.44\n",
            "----------------------------------\n",
            "| eval/               |          |\n",
            "|    mean_ep_length   | 596      |\n",
            "|    mean_reward      | 110      |\n",
            "| rollout/            |          |\n",
            "|    exploration rate | 0.05     |\n",
            "| time/               |          |\n",
            "|    total timesteps  | 90000    |\n",
            "| train/              |          |\n",
            "|    learning_rate    | 0.001    |\n",
            "|    loss             | 0.947    |\n",
            "|    n_updates        | 89998    |\n",
            "----------------------------------\n",
            "----------------------------------\n",
            "| rollout/            |          |\n",
            "|    ep_len_mean      | 385      |\n",
            "|    ep_rew_mean      | 130      |\n",
            "|    exploration rate | 0.05     |\n",
            "| time/               |          |\n",
            "|    episodes         | 410      |\n",
            "|    fps              | 200      |\n",
            "|    time_elapsed     | 457      |\n",
            "|    total timesteps  | 91817    |\n",
            "| train/              |          |\n",
            "|    learning_rate    | 0.001    |\n",
            "|    loss             | 0.00697  |\n",
            "|    n_updates        | 91815    |\n",
            "----------------------------------\n",
            "----------------------------------\n",
            "| rollout/            |          |\n",
            "|    ep_len_mean      | 392      |\n",
            "|    ep_rew_mean      | 126      |\n",
            "|    exploration rate | 0.05     |\n",
            "| time/               |          |\n",
            "|    episodes         | 420      |\n",
            "|    fps              | 201      |\n",
            "|    time_elapsed     | 476      |\n",
            "|    total timesteps  | 95786    |\n",
            "| train/              |          |\n",
            "|    learning_rate    | 0.001    |\n",
            "|    loss             | 0.00273  |\n",
            "|    n_updates        | 95784    |\n",
            "----------------------------------\n",
            "----------------------------------\n",
            "| rollout/            |          |\n",
            "|    ep_len_mean      | 377      |\n",
            "|    ep_rew_mean      | 127      |\n",
            "|    exploration rate | 0.05     |\n",
            "| time/               |          |\n",
            "|    episodes         | 430      |\n",
            "|    fps              | 201      |\n",
            "|    time_elapsed     | 492      |\n",
            "|    total timesteps  | 99305    |\n",
            "| train/              |          |\n",
            "|    learning_rate    | 0.001    |\n",
            "|    loss             | 0.0193   |\n",
            "|    n_updates        | 99303    |\n",
            "----------------------------------\n",
            "Eval num_timesteps=100000, episode_reward=63.41 +/- 130.02\n",
            "Episode length: 259.80 +/- 47.47\n",
            "----------------------------------\n",
            "| eval/               |          |\n",
            "|    mean_ep_length   | 260      |\n",
            "|    mean_reward      | 63.4     |\n",
            "| rollout/            |          |\n",
            "|    exploration rate | 0.05     |\n",
            "| time/               |          |\n",
            "|    total timesteps  | 100000   |\n",
            "| train/              |          |\n",
            "|    learning_rate    | 0.001    |\n",
            "|    loss             | 0.0387   |\n",
            "|    n_updates        | 99998    |\n",
            "----------------------------------\n"
          ],
          "name": "stdout"
        },
        {
          "output_type": "execute_result",
          "data": {
            "text/plain": [
              "<stable_baselines3.dqn.dqn.DQN at 0x7f617f26a450>"
            ]
          },
          "metadata": {
            "tags": []
          },
          "execution_count": 7
        }
      ]
    },
    {
      "cell_type": "markdown",
      "metadata": {
        "id": "k3OO9F6_V7Q3"
      },
      "source": [
        "The training takes time. We encourage you to analyze the output logs. The main component of the logs that you should track is \"ep_rew_mean\" (mean of episode rewards). As the training proceeds, the value of \"ep_rew_mean\" should increase. The improvement need not be monotonic, but the trend should be upwards! \n",
        "\n",
        "Along with training, we are also periodically evaluating the performance of the current model during the training. This was reported in logs as follows:\n",
        "\n",
        "*Eval num_timesteps=100000, episode_reward=63.41 +/- 130.02*\n",
        "\n",
        "*Episode length: 259.80 +/- 47.47* \n",
        "\n"
      ]
    },
    {
      "cell_type": "markdown",
      "metadata": {
        "id": "4uWSBAXlOC4t"
      },
      "source": [
        "Now, let us look at the visual performance of the lander. \n",
        "\n",
        "**Note:** The performance varies across different seeds and runs. This code is not optimized to be stable across all runs and seeds. We hope you will be able to find an optimal configuration! "
      ]
    },
    {
      "cell_type": "code",
      "metadata": {
        "id": "I7-gK0IFXbJH",
        "colab": {
          "base_uri": "https://localhost:8080/",
          "height": 421
        },
        "outputId": "010f0686-14e6-4da0-e78b-8df08f60f184"
      },
      "source": [
        "env = wrap_env(gym.make(\"LunarLander-v2\"))\n",
        "observation = env.reset()\n",
        "while True:\n",
        "  env.render()\n",
        "  action, _states = model.predict(observation, deterministic=True)\n",
        "  observation, reward, done, info = env.step(action) \n",
        "  if done: \n",
        "    break;\n",
        "            \n",
        "env.close()\n",
        "show_video()"
      ],
      "execution_count": 8,
      "outputs": [
        {
          "output_type": "display_data",
          "data": {
            "text/html": [
              "<video alt=\"test\" autoplay \n",
              "                loop controls style=\"height: 400px;\">\n",
              "                <source src=\"data:video/mp4;base64,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\" type=\"video/mp4\" />\n",
              "             </video>"
            ],
            "text/plain": [
              "<IPython.core.display.HTML object>"
            ]
          },
          "metadata": {
            "tags": []
          }
        }
      ]
    },
    {
      "cell_type": "markdown",
      "metadata": {
        "id": "XGitUPm-LvlM"
      },
      "source": [
        "The lander has landed safely!!\n",
        "\n",
        "Let us analyze its performance (speed and stability). For this purpose, we plot the number of time steps on the X-axis and the episodic reward given by the trained model on the Y-axis. "
      ]
    },
    {
      "cell_type": "code",
      "metadata": {
        "id": "N5eEhuiikhlX",
        "colab": {
          "base_uri": "https://localhost:8080/",
          "height": 300
        },
        "outputId": "7ce28e8c-06ae-476e-9154-59d727531114"
      },
      "source": [
        "x, y = ts2xy(load_results(log_dir), 'timesteps')  # Organising the logged results in to a clean format for plotting. \n",
        "plt.plot(x,y)\n",
        "plt.ylim([-300, 300])\n",
        "plt.xlabel('Timesteps')\n",
        "plt.ylabel('Episode Rewards')"
      ],
      "execution_count": 9,
      "outputs": [
        {
          "output_type": "execute_result",
          "data": {
            "text/plain": [
              "Text(0, 0.5, 'Episode Rewards')"
            ]
          },
          "metadata": {
            "tags": []
          },
          "execution_count": 9
        },
        {
          "output_type": "display_data",
          "data": {
            "image/png": "[encoded data removed]",
            "text/plain": [
              "<Figure size 432x288 with 1 Axes>"
            ]
          },
          "metadata": {
            "tags": [],
            "needs_background": "light"
          }
        }
      ]
    },
    {
      "cell_type": "markdown",
      "metadata": {
        "id": "Vda0_B9xYlt4"
      },
      "source": [
        "From the above plot, we observe that, although the maximum reward is achieved quickly. Achieving an episodic reward of > 200 is good. We see that the agent has achieved it in less than 50000 timesteps (speed is good!). However, there are a lot of fluctuations in the performance (stability is not good!). \n",
        "\n",
        "Your objective now is to modify the model parameters (nn_layers, learning_rate in the code cell #2 above), run all the cells following it and investigate the stability and speed of the chosen configuration.   \n"
      ]
    },
    {
      "cell_type": "markdown",
      "metadata": {
        "id": "J0ZpcislatDy"
      },
      "source": [
        "---\n",
        "# Additional Project Ideas"
      ]
    },
    {
      "cell_type": "markdown",
      "metadata": {
        "id": "jUmG7WKIa22k"
      },
      "source": [
        "## 1. Play with exploration-exploitation trade-off.\n",
        "\n",
        "Exploration (selecting random actions) and exploitation (selecting greedy action) is a crucial component of the DQN algorithm. Explore random actions for a long time will slow down the training process. At the same time, if all actions are not explored enough, it might lead to a sub-optimal performance. In the DQN code above, we have used the following parameters:"
      ]
    },
    {
      "cell_type": "code",
      "metadata": {
        "id": "dbXAgZ8xc_Rf"
      },
      "source": [
        "exploration_initial_eps = 1  # initial value of random action probability. Range is between 0 and 1.\n",
        "exploration_fraction = 0.5  # fraction of entire training period over which the exploration rate is reduced. Range is between 0 and 1.\n",
        "exploration_final_eps = 0.05  # (set by defualt) final value of random action probability. Range is between 0 and 1. "
      ],
      "execution_count": 10,
      "outputs": []
    },
    {
      "cell_type": "markdown",
      "metadata": {
        "id": "Ttht2vnHdaEU"
      },
      "source": [
        "Your objective is to play around with these parameters and analyze their performance (speed and stability). You can modify these parameters and set them as arguments in DQN(...,exploration_initial_eps = 1, exploration_fraction = 0.5, exploration_final_eps = 0.05,...). "
      ]
    },
    {
      "cell_type": "markdown",
      "metadata": {
        "id": "qBJdHsazd0sT"
      },
      "source": [
        "## 2. Reward Shaping\n",
        "\n",
        "Your objective here is to construct a modified reward function that improves the performance of the Lunar Lander. To this end, you would have to create your own custom environment. An example of a custom environment is given below:"
      ]
    },
    {
      "cell_type": "code",
      "metadata": {
        "id": "j_QEUGN1KHSq"
      },
      "source": [
        "# Taken from https://stable-baselines3.readthedocs.io/en/master/guide/custom_env.html\n",
        "class CustomEnv(gym.Env):\n",
        "  \"\"\"Custom Environment that follows gym interface\"\"\"\n",
        "  metadata = {'render.modes': ['human']}\n",
        "\n",
        "  def __init__(self, arg1, arg2):\n",
        "    super(CustomEnv, self).__init__()\n",
        "    # Define action and observation space\n",
        "    # They must be gym.spaces objects\n",
        "    # Example when using discrete actions:\n",
        "    self.action_space = spaces.Discrete(N_DISCRETE_ACTIONS)\n",
        "    # Example for using image as input (channel-first; channel-last also works):\n",
        "    self.observation_space = spaces.Box(low=0, high=255,\n",
        "                                        shape=(N_CHANNELS, HEIGHT, WIDTH), dtype=np.uint8)\n",
        "\n",
        "  def step(self, action):\n",
        "    ...\n",
        "    return observation, reward, done, info\n",
        "  def reset(self):\n",
        "    ...\n",
        "    return observation  # reward, done, info can't be included\n",
        "  def render(self, mode='human'):\n",
        "    ...\n",
        "  def close (self):\n",
        "    ..."
      ],
      "execution_count": 11,
      "outputs": []
    },
    {
      "cell_type": "markdown",
      "metadata": {
        "id": "d_k90yU4KRST"
      },
      "source": [
        "As you are only changing the reward structure, you can inherit the original Lunar Lander environment from https://github.com/openai/gym/blob/master/gym/envs/box2d/lunar_lander.py and modify just the \"step\" function. Focus on modifying the following part of the code in the \"step\" function\n"
      ]
    },
    {
      "cell_type": "code",
      "metadata": {
        "id": "9o9hN6DtIv0M"
      },
      "source": [
        "def step(self, actions):\n",
        "  ...\n",
        "  ...\n",
        "  ...\n",
        "  reward = 0\n",
        "  shaping = (\n",
        "      -100 * np.sqrt(state[0] * state[0] + state[1] * state[1])\n",
        "      - 100 * np.sqrt(state[2] * state[2] + state[3] * state[3])\n",
        "      - 100 * abs(state[4])\n",
        "      + 10 * state[6]\n",
        "      + 10 * state[7]\n",
        "  )  # And ten points for legs contact, the idea is if you\n",
        "  # lose contact again after landing, you get negative reward\n",
        "  if self.prev_shaping is not None:\n",
        "      reward = shaping - self.prev_shaping\n",
        "  self.prev_shaping = shaping\n",
        "\n",
        "  reward -= (\n",
        "      m_power * 0.30\n",
        "  )  # less fuel spent is better, about -30 for heuristic landing. You should modify these values. \n",
        "  reward -= s_power * 0.03\n",
        "\n",
        "  done = False\n",
        "  if self.game_over or abs(state[0]) >= 1.0:\n",
        "      done = True\n",
        "      reward = -100 \n",
        "  if not self.lander.awake:\n",
        "      done = True\n",
        "      reward = +100\n",
        "  return np.array(state, dtype=np.float32), reward, done, {}"
      ],
      "execution_count": 12,
      "outputs": []
    },
    {
      "cell_type": "markdown",
      "metadata": {
        "id": "kaNOpJthJB6U"
      },
      "source": [
        "Once you have cutomized your own environment, you can execute that environment by just calling:"
      ]
    },
    {
      "cell_type": "code",
      "metadata": {
        "id": "iaSBqedMf2pG"
      },
      "source": [
        "#Enter the name of the custome environment you created and uncomment the line below. \n",
        "#env = Custom_LunarLander() \n",
        "# Refer to https://stable-baselines3.readthedocs.io/en/master/guide/custom_env.html, if you would like to create more complex environments."
      ],
      "execution_count": 13,
      "outputs": []
    },
    {
      "cell_type": "markdown",
      "metadata": {
        "id": "89Nequ14gR67"
      },
      "source": [
        "## 3. Identify the state information crucial to its performance.\n",
        "\n",
        "Your objective here is to alter the input state information and analyze the performance. The input state of the Lunar Lander consists of following components:\n",
        "\n",
        "  1. Horizontal Position\n",
        "  2. Vertical Position\n",
        "  3. Horizontal Velocity\n",
        "  4. Vertical Velocity\n",
        "  5. Angle\n",
        "  6. Angular Velocity\n",
        "  7. Left Leg Contact\n",
        "  8. Right Leg Contact\n",
        "\n",
        "You can train the algorithm by masking one of the eight components at a time and understand how that affects the performance of the algorithm. Similar to the reward shaping task, you would have to create a custom environment and modify the state space. Again, you can inherit all the necessary functions and modify the following portion of the \"Step\" function:"
      ]
    },
    {
      "cell_type": "code",
      "metadata": {
        "id": "Oqn1IB-vLLUA"
      },
      "source": [
        "def step(self, actions):\n",
        "  ...\n",
        "  ...\n",
        "  ...\n",
        "  state = [ # Remove one component at a time to investigate the effect on performance!\n",
        "            (pos.x - VIEWPORT_W / SCALE / 2) / (VIEWPORT_W / SCALE / 2),\n",
        "            (pos.y - (self.helipad_y + LEG_DOWN / SCALE)) / (VIEWPORT_H / SCALE / 2),\n",
        "            vel.x * (VIEWPORT_W / SCALE / 2) / FPS,\n",
        "            vel.y * (VIEWPORT_H / SCALE / 2) / FPS,\n",
        "            self.lander.angle,\n",
        "            20.0 * self.lander.angularVelocity / FPS,\n",
        "            1.0 if self.legs[0].ground_contact else 0.0,\n",
        "            1.0 if self.legs[1].ground_contact else 0.0,\n",
        "        ]"
      ],
      "execution_count": 14,
      "outputs": []
    },
    {
      "cell_type": "markdown",
      "metadata": {
        "id": "qXa_nPi4xkMr"
      },
      "source": [
        "## 4. Extension to Atari Games\n",
        "\n",
        "In the Lunar Lander task, the input to the algorithm is a vector of state information. Deep RL algorithms can also be applied when the input to the training is image frames, which is the case in the Atari games. For example, consider an Atari game - Pong. In this environment, the observation is an RGB image of the screen, which is an array of shape (210, 160, 3). To train the Pong game, you can start with the following sample code:"
      ]
    },
    {
      "cell_type": "code",
      "metadata": {
        "id": "V3hTBtn061RG",
        "colab": {
          "base_uri": "https://localhost:8080/"
        },
        "outputId": "47edd9c3-0194-41b9-890a-5fe7f0c6644f"
      },
      "source": [
        "#Necessary components required for running Atari games.\n",
        "#Taken from https://github.com/openai/atari-py/issues/83#issuecomment-864356148\n",
        "! wget http://www.atarimania.com/roms/Roms.rar\n",
        "! mkdir /content/ROM/\n",
        "! unrar e /content/Roms.rar /content/ROM/\n",
        "! python -m atari_py.import_roms /content/ROM/"
      ],
      "execution_count": 15,
      "outputs": [
        {
          "output_type": "stream",
          "text": [
            "--2021-08-01 15:16:44--  http://www.atarimania.com/roms/Roms.rar\n",
            "Resolving www.atarimania.com (www.atarimania.com)... 195.154.81.199\n",
            "Connecting to www.atarimania.com (www.atarimania.com)|195.154.81.199|:80... connected.\n",
            "HTTP request sent, awaiting response... 200 OK\n",
            "Length: 11128004 (11M) [application/x-rar-compressed]\n",
            "Saving to: ‘Roms.rar’\n",
            "\n",
            "Roms.rar            100%[===================>]  10.61M   626KB/s    in 18s     \n",
            "\n",
            "2021-08-01 15:17:02 (605 KB/s) - ‘Roms.rar’ saved [11128004/11128004]\n",
            "\n",
            "\n",
            "UNRAR 5.50 freeware      Copyright (c) 1993-2017 Alexander Roshal\n",
            "\n",
            "\n",
            "Extracting from /content/Roms.rar\n",
            "\n",
            "Extracting  /content/ROM/HC ROMS.zip                                     \b\b\b\b 36%\b\b\b\b\b  OK \n",
            "Extracting  /content/ROM/ROMS.zip                                        \b\b\b\b 74%\b\b\b\b 99%\b\b\b\b\b  OK \n",
            "All OK\n",
            "copying adventure.bin from ROMS/Adventure (1980) (Atari, Warren Robinett) (CX2613, CX2613P) (PAL).bin to /usr/local/lib/python3.7/dist-packages/atari_py/atari_roms/adventure.bin\n",
            "copying air_raid.bin from ROMS/Air Raid (Men-A-Vision) (PAL) ~.bin to /usr/local/lib/python3.7/dist-packages/atari_py/atari_roms/air_raid.bin\n",
            "copying alien.bin from ROMS/Alien (1982) (20th Century Fox Video Games, Douglas 'Dallas North' Neubauer) (11006) ~.bin to /usr/local/lib/python3.7/dist-packages/atari_py/atari_roms/alien.bin\n",
            "copying amidar.bin from ROMS/Amidar (1982) (Parker Brothers, Ed Temple) (PB5310) ~.bin to /usr/local/lib/python3.7/dist-packages/atari_py/atari_roms/amidar.bin\n",
            "copying assault.bin from ROMS/Assault (AKA Sky Alien) (1983) (Bomb - Onbase) (CA281).bin to /usr/local/lib/python3.7/dist-packages/atari_py/atari_roms/assault.bin\n",
            "copying asterix.bin from ROMS/Asterix (AKA Taz) (07-27-1983) (Atari, Jerome Domurat, Steve Woita) (CX2696) (Prototype).bin to /usr/local/lib/python3.7/dist-packages/atari_py/atari_roms/asterix.bin\n",
            "copying asteroids.bin from ROMS/Asteroids (1981) (Atari, Brad Stewart - Sears) (CX2649 - 49-75163) [no copyright] ~.bin to /usr/local/lib/python3.7/dist-packages/atari_py/atari_roms/asteroids.bin\n",
            "copying atlantis.bin from ROMS/Atlantis (Lost City of Atlantis) (1982) (Imagic, Dennis Koble) (720103-1A, 720103-1B, IA3203, IX-010-04) ~.bin to /usr/local/lib/python3.7/dist-packages/atari_py/atari_roms/atlantis.bin\n",
            "copying bank_heist.bin from ROMS/Bank Heist (Bonnie & Clyde, Cops 'n' Robbers, Hold-Up, Roaring 20's) (1983) (20th Century Fox Video Games, Bill Aspromonte) (11012) ~.bin to /usr/local/lib/python3.7/dist-packages/atari_py/atari_roms/bank_heist.bin\n",
            "copying battle_zone.bin from ROMS/Battlezone (1983) (Atari - GCC, Mike Feinstein, Brad Rice) (CX2681) ~.bin to /usr/local/lib/python3.7/dist-packages/atari_py/atari_roms/battle_zone.bin\n",
            "copying beam_rider.bin from ROMS/Beamrider (1984) (Activision - Cheshire Engineering, David Rolfe, Larry Zwick) (AZ-037-04) ~.bin to /usr/local/lib/python3.7/dist-packages/atari_py/atari_roms/beam_rider.bin\n",
            "copying berzerk.bin from ROMS/Berzerk (1982) (Atari, Dan Hitchens - Sears) (CX2650 - 49-75168) ~.bin to /usr/local/lib/python3.7/dist-packages/atari_py/atari_roms/berzerk.bin\n",
            "copying bowling.bin from ROMS/Bowling (1979) (Atari, Larry Kaplan - Sears) (CX2628 - 6-99842, 49-75117) ~.bin to /usr/local/lib/python3.7/dist-packages/atari_py/atari_roms/bowling.bin\n",
            "copying boxing.bin from ROMS/Boxing - La Boxe (1980) (Activision, Bob Whitehead) (AG-002, CAG-002, AG-002-04) ~.bin to /usr/local/lib/python3.7/dist-packages/atari_py/atari_roms/boxing.bin\n",
            "copying breakout.bin from ROMS/Breakout - Breakaway IV (Paddle) (1978) (Atari, Brad Stewart - Sears) (CX2622 - 6-99813, 49-75107) ~.bin to /usr/local/lib/python3.7/dist-packages/atari_py/atari_roms/breakout.bin\n",
            "copying carnival.bin from ROMS/Carnival (1982) (Coleco - Woodside Design Associates, Steve 'Jessica Stevens' Kitchen) (2468) ~.bin to /usr/local/lib/python3.7/dist-packages/atari_py/atari_roms/carnival.bin\n",
            "copying centipede.bin from ROMS/Centipede (1983) (Atari - GCC) (CX2676) ~.bin to /usr/local/lib/python3.7/dist-packages/atari_py/atari_roms/centipede.bin\n",
            "copying chopper_command.bin from ROMS/Chopper Command (1982) (Activision, Bob Whitehead) (AX-015, AX-015-04) ~.bin to /usr/local/lib/python3.7/dist-packages/atari_py/atari_roms/chopper_command.bin\n",
            "copying crazy_climber.bin from ROMS/Crazy Climber (1983) (Atari - Roklan, Joe Gaucher, Alex Leavens) (CX2683) ~.bin to /usr/local/lib/python3.7/dist-packages/atari_py/atari_roms/crazy_climber.bin\n",
            "copying defender.bin from ROMS/Defender (1982) (Atari, Robert C. Polaro, Alan J. Murphy - Sears) (CX2609 - 49-75186) ~.bin to /usr/local/lib/python3.7/dist-packages/atari_py/atari_roms/defender.bin\n",
            "copying demon_attack.bin from ROMS/Demon Attack (Death from Above) (1982) (Imagic, Rob Fulop) (720000-200, 720101-1B, 720101-1C, IA3200, IA3200C, IX-006-04) ~.bin to /usr/local/lib/python3.7/dist-packages/atari_py/atari_roms/demon_attack.bin\n",
            "copying donkey_kong.bin from ROMS/Donkey Kong (1982) (Coleco - Woodside Design Associates - Imaginative Systems Software, Garry Kitchen) (2451) ~.bin to /usr/local/lib/python3.7/dist-packages/atari_py/atari_roms/donkey_kong.bin\n",
            "copying double_dunk.bin from ROMS/Double Dunk (Super Basketball) (1989) (Atari, Matthew L. Hubbard) (CX26159) ~.bin to /usr/local/lib/python3.7/dist-packages/atari_py/atari_roms/double_dunk.bin\n",
            "copying elevator_action.bin from ROMS/Elevator Action (1983) (Atari, Dan Hitchens) (CX26126) (Prototype) ~.bin to /usr/local/lib/python3.7/dist-packages/atari_py/atari_roms/elevator_action.bin\n",
            "copying enduro.bin from ROMS/Enduro (1983) (Activision, Larry Miller) (AX-026, AX-026-04) ~.bin to /usr/local/lib/python3.7/dist-packages/atari_py/atari_roms/enduro.bin\n",
            "copying fishing_derby.bin from ROMS/Fishing Derby (1980) (Activision, David Crane) (AG-004) ~.bin to /usr/local/lib/python3.7/dist-packages/atari_py/atari_roms/fishing_derby.bin\n",
            "copying freeway.bin from ROMS/Freeway (1981) (Activision, David Crane) (AG-009, AG-009-04) ~.bin to /usr/local/lib/python3.7/dist-packages/atari_py/atari_roms/freeway.bin\n",
            "copying frogger.bin from ROMS/Frogger (1982) (Parker Brothers, Ed English, David Lamkins) (PB5300) ~.bin to /usr/local/lib/python3.7/dist-packages/atari_py/atari_roms/frogger.bin\n",
            "copying frostbite.bin from ROMS/Frostbite (1983) (Activision, Steve Cartwright) (AX-031) ~.bin to /usr/local/lib/python3.7/dist-packages/atari_py/atari_roms/frostbite.bin\n",
            "copying galaxian.bin from ROMS/Galaxian (1983) (Atari - GCC, Mark Ackerman, Tom Calderwood, Glenn Parker) (CX2684) ~.bin to /usr/local/lib/python3.7/dist-packages/atari_py/atari_roms/galaxian.bin\n",
            "copying gopher.bin from ROMS/Gopher (Gopher Attack) (1982) (U.S. Games Corporation - JWDA, Sylvia Day, Todd Marshall, Robin McDaniel, Henry Will IV) (VC2001) ~.bin to /usr/local/lib/python3.7/dist-packages/atari_py/atari_roms/gopher.bin\n",
            "copying gravitar.bin from ROMS/Gravitar (1983) (Atari, Dan Hitchens, Mimi Nyden) (CX2685) ~.bin to /usr/local/lib/python3.7/dist-packages/atari_py/atari_roms/gravitar.bin\n",
            "copying hero.bin from ROMS/H.E.R.O. (1984) (Activision, John Van Ryzin) (AZ-036-04) ~.bin to /usr/local/lib/python3.7/dist-packages/atari_py/atari_roms/hero.bin\n",
            "copying ice_hockey.bin from ROMS/Ice Hockey - Le Hockey Sur Glace (1981) (Activision, Alan Miller) (AX-012, CAX-012, AX-012-04) ~.bin to /usr/local/lib/python3.7/dist-packages/atari_py/atari_roms/ice_hockey.bin\n",
            "copying jamesbond.bin from ROMS/James Bond 007 (James Bond Agent 007) (1984) (Parker Brothers - On-Time Software, Joe Gaucher, Louis Marbel) (PB5110) ~.bin to /usr/local/lib/python3.7/dist-packages/atari_py/atari_roms/jamesbond.bin\n",
            "copying journey_escape.bin from ROMS/Journey Escape (1983) (Data Age, J. Ray Dettling) (112-006) ~.bin to /usr/local/lib/python3.7/dist-packages/atari_py/atari_roms/journey_escape.bin\n",
            "copying kaboom.bin from ROMS/Kaboom! (Paddle) (1981) (Activision, Larry Kaplan, David Crane) (AG-010, AG-010-04) ~.bin to /usr/local/lib/python3.7/dist-packages/atari_py/atari_roms/kaboom.bin\n",
            "copying kangaroo.bin from ROMS/Kangaroo (1983) (Atari - GCC, Kevin Osborn) (CX2689) ~.bin to /usr/local/lib/python3.7/dist-packages/atari_py/atari_roms/kangaroo.bin\n",
            "copying keystone_kapers.bin from ROMS/Keystone Kapers - Raueber und Gendarm (1983) (Activision, Garry Kitchen - Ariola) (EAX-025, EAX-025-04I - 711 025-725) (PAL).bin to /usr/local/lib/python3.7/dist-packages/atari_py/atari_roms/keystone_kapers.bin\n",
            "copying king_kong.bin from ROMS/King Kong (1982) (Tigervision - Software Electronics Corporation, Karl T. Olinger - Teldec) (7-001 - 3.60001 VE) (PAL).bin to /usr/local/lib/python3.7/dist-packages/atari_py/atari_roms/king_kong.bin\n",
            "copying koolaid.bin from ROMS/Kool-Aid Man (Kool Aid Pitcher Man) (1983) (M Network, Stephen Tatsumi, Jane Terjung - Kool Aid) (MT4648) ~.bin to /usr/local/lib/python3.7/dist-packages/atari_py/atari_roms/koolaid.bin\n",
            "copying krull.bin from ROMS/Krull (1983) (Atari, Jerome Domurat, Dave Staugas) (CX2682) ~.bin to /usr/local/lib/python3.7/dist-packages/atari_py/atari_roms/krull.bin\n",
            "copying kung_fu_master.bin from ROMS/Kung-Fu Master (1987) (Activision - Imagineering, Dan Kitchen, Garry Kitchen) (AG-039-04) ~.bin to /usr/local/lib/python3.7/dist-packages/atari_py/atari_roms/kung_fu_master.bin\n",
            "copying laser_gates.bin from ROMS/Laser Gates (AKA Innerspace) (1983) (Imagic, Dan Oliver) (720118-2A, 13208, EIX-007-04I) (PAL).bin to /usr/local/lib/python3.7/dist-packages/atari_py/atari_roms/laser_gates.bin\n",
            "copying lost_luggage.bin from ROMS/Lost Luggage (Airport Mayhem) (1982) (Apollo - Games by Apollo, Larry Minor, Ernie Runyon, Ed Salvo) (AP-2004) [no opening scene] ~.bin to /usr/local/lib/python3.7/dist-packages/atari_py/atari_roms/lost_luggage.bin\n",
            "copying montezuma_revenge.bin from ROMS/Montezuma's Revenge - Featuring Panama Joe (1984) (Parker Brothers - JWDA, Henry Will IV) (PB5760) ~.bin to /usr/local/lib/python3.7/dist-packages/atari_py/atari_roms/montezuma_revenge.bin\n",
            "copying mr_do.bin from ROMS/Mr. Do! (1983) (CBS Electronics, Ed English) (4L4478) (PAL).bin to /usr/local/lib/python3.7/dist-packages/atari_py/atari_roms/mr_do.bin\n",
            "copying ms_pacman.bin from ROMS/Ms. Pac-Man (1983) (Atari - GCC, Mark Ackerman, Glenn Parker) (CX2675) ~.bin to /usr/local/lib/python3.7/dist-packages/atari_py/atari_roms/ms_pacman.bin\n",
            "copying name_this_game.bin from ROMS/Name This Game (Guardians of Treasure) (1983) (U.S. Games Corporation - JWDA, Roger Booth, Sylvia Day, Ron Dubren, Todd Marshall, Robin McDaniel, Wes Trager, Henry Will IV) (VC1007) ~.bin to /usr/local/lib/python3.7/dist-packages/atari_py/atari_roms/name_this_game.bin\n",
            "copying pacman.bin from ROMS/Pac-Man (1982) (Atari, Tod Frye) (CX2646) (PAL).bin to /usr/local/lib/python3.7/dist-packages/atari_py/atari_roms/pacman.bin\n",
            "copying phoenix.bin from ROMS/Phoenix (1983) (Atari - GCC, Mike Feinstein, John Mracek) (CX2673) ~.bin to /usr/local/lib/python3.7/dist-packages/atari_py/atari_roms/phoenix.bin\n",
            "copying video_pinball.bin from ROMS/Pinball (AKA Video Pinball) (Zellers).bin to /usr/local/lib/python3.7/dist-packages/atari_py/atari_roms/video_pinball.bin\n",
            "copying pitfall.bin from ROMS/Pitfall! - Pitfall Harry's Jungle Adventure (Jungle Runner) (1982) (Activision, David Crane) (AX-018, AX-018-04) ~.bin to /usr/local/lib/python3.7/dist-packages/atari_py/atari_roms/pitfall.bin\n",
            "copying pooyan.bin from ROMS/Pooyan (1983) (Konami) (RC 100-X 02) ~.bin to /usr/local/lib/python3.7/dist-packages/atari_py/atari_roms/pooyan.bin\n",
            "copying private_eye.bin from ROMS/Private Eye (1984) (Activision, Bob Whitehead) (AG-034-04) ~.bin to /usr/local/lib/python3.7/dist-packages/atari_py/atari_roms/private_eye.bin\n",
            "copying qbert.bin from ROMS/Q-bert (1983) (Parker Brothers - Western Technologies, Dave Hampton, Tom Sloper) (PB5360) ~.bin to /usr/local/lib/python3.7/dist-packages/atari_py/atari_roms/qbert.bin\n",
            "copying riverraid.bin from ROMS/River Raid (1982) (Activision, Carol Shaw) (AX-020, AX-020-04) ~.bin to /usr/local/lib/python3.7/dist-packages/atari_py/atari_roms/riverraid.bin\n",
            "copying road_runner.bin from patched version of ROMS/Road Runner (1989) (Atari - Bobco, Robert C. Polaro) (CX2663) ~.bin to /usr/local/lib/python3.7/dist-packages/atari_py/atari_roms/road_runner.bin\n",
            "copying robotank.bin from ROMS/Robot Tank (Robotank) (1983) (Activision, Alan Miller) (AZ-028, AG-028-04) ~.bin to /usr/local/lib/python3.7/dist-packages/atari_py/atari_roms/robotank.bin\n",
            "copying seaquest.bin from ROMS/Seaquest (1983) (Activision, Steve Cartwright) (AX-022) ~.bin to /usr/local/lib/python3.7/dist-packages/atari_py/atari_roms/seaquest.bin\n",
            "copying sir_lancelot.bin from ROMS/Sir Lancelot (1983) (Xonox - K-Tel Software - Product Guild, Anthony R. Henderson) (99006, 6220) (PAL).bin to /usr/local/lib/python3.7/dist-packages/atari_py/atari_roms/sir_lancelot.bin\n",
            "copying skiing.bin from ROMS/Skiing - Le Ski (1980) (Activision, Bob Whitehead) (AG-005, CAG-005, AG-005-04) ~.bin to /usr/local/lib/python3.7/dist-packages/atari_py/atari_roms/skiing.bin\n",
            "copying solaris.bin from ROMS/Solaris (The Last Starfighter, Star Raiders II, Universe) (1986) (Atari, Douglas Neubauer, Mimi Nyden) (CX26136) ~.bin to /usr/local/lib/python3.7/dist-packages/atari_py/atari_roms/solaris.bin\n",
            "copying space_invaders.bin from ROMS/Space Invaders (1980) (Atari, Richard Maurer - Sears) (CX2632 - 49-75153) ~.bin to /usr/local/lib/python3.7/dist-packages/atari_py/atari_roms/space_invaders.bin\n",
            "copying star_gunner.bin from ROMS/Stargunner (1983) (Telesys, Alex Leavens) (1005) ~.bin to /usr/local/lib/python3.7/dist-packages/atari_py/atari_roms/star_gunner.bin\n",
            "copying surround.bin from ROMS/Surround (32 in 1) (Bit Corporation) (R320).bin to /usr/local/lib/python3.7/dist-packages/atari_py/atari_roms/surround.bin\n",
            "copying tennis.bin from ROMS/Tennis - Le Tennis (1981) (Activision, Alan Miller) (AG-007, CAG-007) ~.bin to /usr/local/lib/python3.7/dist-packages/atari_py/atari_roms/tennis.bin\n",
            "copying time_pilot.bin from ROMS/Time Pilot (1983) (Coleco - Woodside Design Associates, Harley H. Puthuff Jr.) (2663) ~.bin to /usr/local/lib/python3.7/dist-packages/atari_py/atari_roms/time_pilot.bin\n",
            "copying trondead.bin from ROMS/TRON - Deadly Discs (TRON Joystick) (1983) (M Network - INTV - APh Technological Consulting, Jeff Ronne, Brett Stutz) (MT5662) ~.bin to /usr/local/lib/python3.7/dist-packages/atari_py/atari_roms/trondead.bin\n",
            "copying tutankham.bin from ROMS/Tutankham (1983) (Parker Brothers, Dave Engman, Dawn Stockbridge) (PB5340) ~.bin to /usr/local/lib/python3.7/dist-packages/atari_py/atari_roms/tutankham.bin\n",
            "copying up_n_down.bin from ROMS/Up 'n Down (1984) (SEGA - Beck-Tech, Steve Beck, Phat Ho) (009-01) ~.bin to /usr/local/lib/python3.7/dist-packages/atari_py/atari_roms/up_n_down.bin\n",
            "copying venture.bin from ROMS/Venture (1982) (Coleco, Joseph Biel) (2457) ~.bin to /usr/local/lib/python3.7/dist-packages/atari_py/atari_roms/venture.bin\n",
            "copying pong.bin from ROMS/Video Olympics - Pong Sports (Paddle) (1977) (Atari, Joe Decuir - Sears) (CX2621 - 99806, 6-99806, 49-75104) ~.bin to /usr/local/lib/python3.7/dist-packages/atari_py/atari_roms/pong.bin\n",
            "copying wizard_of_wor.bin from ROMS/Wizard of Wor (1982) (CBS Electronics - Roklan, Joe Hellesen, Joe Wagner) (M8774, M8794) ~.bin to /usr/local/lib/python3.7/dist-packages/atari_py/atari_roms/wizard_of_wor.bin\n",
            "copying yars_revenge.bin from ROMS/Yars' Revenge (Time Freeze) (1982) (Atari, Howard Scott Warshaw - Sears) (CX2655 - 49-75167) ~.bin to /usr/local/lib/python3.7/dist-packages/atari_py/atari_roms/yars_revenge.bin\n",
            "copying zaxxon.bin from ROMS/Zaxxon (1983) (Coleco) (2454) ~.bin to /usr/local/lib/python3.7/dist-packages/atari_py/atari_roms/zaxxon.bin\n"
          ],
          "name": "stdout"
        }
      ]
    },
    {
      "cell_type": "code",
      "metadata": {
        "id": "_hRH9xj3Hdmr"
      },
      "source": [
        "# Taken from: https://colab.research.google.com/github/Stable-Baselines-Team/rl-colab-notebooks/blob/sb3/atari_games.ipynb#scrollTo=f3K4rMXwimBO\n",
        "env = make_atari_env('PongNoFrameskip-v4', n_envs=1, seed=0)\n",
        "#Atari Games take a lot of memory. Following commands crash on Coalb. Run the following code on Colab Pro or your local Jupyter notebook!\n",
        "# env = VecFrameStack(env, n_stack=4)\n",
        "# model = DQN('CnnPolicy', env, verbose=1)  # Note the difference here! We use 'CnnPolicy\" here instead of 'MlpPolicy' as the input is frames. \n",
        "# model.learn(total_timesteps=1) #change the number of timesteps as desired and run this command!"
      ],
      "execution_count": 16,
      "outputs": []
    },
    {
      "cell_type": "markdown",
      "metadata": {
        "id": "DCLJ9M_Rjt1X"
      },
      "source": [
        "## 5. Obstacle Avoidance and Transfer Learning\n",
        "\n",
        "Your obstacle here is to add an obstacle in the path of the lunar lander (by creating a custom environment as described in point 2 above) and train the model such that the lander lands safely, avoiding collisions. \n",
        "\n",
        "You would first want to devise a mechansim for adding obstacles. For example, you could have an imaginary obstacle at some horizantal and vertical position cooridnates and modify the reward function such that a penalty is levied if the lander comes close to it. \n",
        "\n",
        "An interesting approach to solve this problem is to apply the techniques of transfer learning. For example, you could initialise the neural network model with the weights of the trained model on the original problem to improve the sample effeciency. This can be done using the following code:"
      ]
    },
    {
      "cell_type": "code",
      "metadata": {
        "id": "1V1ZtsfDxXd-"
      },
      "source": [
        "#Specify the load path and uncomment below: \n",
        "# model = load(load_path,\n",
        "#              env=gym.make('LunarLander-v2'),\n",
        "#              custom_objects=None, **kwargs)"
      ],
      "execution_count": 17,
      "outputs": []
    },
    {
      "cell_type": "markdown",
      "metadata": {
        "id": "JYjfMXg6xUo4"
      },
      "source": [
        "Following are some of the resources on transfer learning that you would want to start with. \n",
        "\n",
        "**Research Papers**\n",
        "\n",
        "Surveys:\n",
        "1. (Long, Old, Highly cited) Taylor, M. E.,  et al. (2009). Transfer learning for reinforcement learning domains. https://www.jmlr.org/papers/volume10/taylor09a/taylor09a.pdf\n",
        "\n",
        "2. (Medium, Old, Good for a quick read) Lazaric, A. (2012). Transfer in reinforcement learning: a framework and a survey. https://hal.inria.fr/docs/00/77/26/26/PDF/transfer.pdf\n",
        "\n",
        "3. (Medium, Recent, Good for a quick read) Zhu, Z., Lin, K., & Zhou, J. (2020). Transfer learning in deep reinforcement learning. https://arxiv.org/pdf/2009.07888.pdf\n",
        "\n",
        "4. Specific example:\n",
        "Barreto, A., et al. (2016).  Successor features for transfer in reinforcement learning. https://arxiv.org/pdf/1606.05312"
      ]
    },
    {
      "cell_type": "markdown",
      "metadata": {
        "id": "E-Rbo54g5YwL"
      },
      "source": [
        "## 5(b) Transfer Learning in minigrid environment\n",
        "\n",
        "These are some simple gridworld gym environments designed to be particularly simple, lightweight and fast. Refer to https://github.com/maximecb/gym-minigrid for description of the environments. An example to load a minigrid environment is given below:"
      ]
    },
    {
      "cell_type": "code",
      "metadata": {
        "id": "RGAqcMjC58z9",
        "colab": {
          "base_uri": "https://localhost:8080/"
        },
        "outputId": "a068f7d3-9b6c-4fe1-e3e0-8537557caf41"
      },
      "source": [
        "!pip install gym-minigrid\n",
        "import gym_minigrid\n",
        "env = gym.make('MiniGrid-Empty-5x5-v0')"
      ],
      "execution_count": 18,
      "outputs": [
        {
          "output_type": "stream",
          "text": [
            "Collecting gym-minigrid\n",
            "  Downloading gym_minigrid-1.0.2-py3-none-any.whl (47 kB)\n",
            "\u001b[?25l\r\u001b[K     |██████▉                         | 10 kB 21.4 MB/s eta 0:00:01\r\u001b[K     |█████████████▊                  | 20 kB 27.0 MB/s eta 0:00:01\r\u001b[K     |████████████████████▋           | 30 kB 16.4 MB/s eta 0:00:01\r\u001b[K     |███████████████████████████▍    | 40 kB 11.9 MB/s eta 0:00:01\r\u001b[K     |████████████████████████████████| 47 kB 2.2 MB/s \n",
            "\u001b[?25hRequirement already satisfied: gym>=0.9.6 in /usr/local/lib/python3.7/dist-packages (from gym-minigrid) (0.17.3)\n",
            "Requirement already satisfied: numpy>=1.15.0 in /usr/local/lib/python3.7/dist-packages (from gym-minigrid) (1.19.5)\n",
            "Requirement already satisfied: scipy in /usr/local/lib/python3.7/dist-packages (from gym>=0.9.6->gym-minigrid) (1.4.1)\n",
            "Requirement already satisfied: pyglet<=1.5.0,>=1.4.0 in /usr/local/lib/python3.7/dist-packages (from gym>=0.9.6->gym-minigrid) (1.5.0)\n",
            "Requirement already satisfied: cloudpickle<1.7.0,>=1.2.0 in /usr/local/lib/python3.7/dist-packages (from gym>=0.9.6->gym-minigrid) (1.3.0)\n",
            "Requirement already satisfied: future in /usr/local/lib/python3.7/dist-packages (from pyglet<=1.5.0,>=1.4.0->gym>=0.9.6->gym-minigrid) (0.16.0)\n",
            "Installing collected packages: gym-minigrid\n",
            "Successfully installed gym-minigrid-1.0.2\n"
          ],
          "name": "stdout"
        }
      ]
    },
    {
      "cell_type": "markdown",
      "metadata": {
        "id": "pNERbLRa6Qsm"
      },
      "source": [
        "You can train a standard DQN agent in this env by wrapping the env with full image observation wrappers:\n"
      ]
    },
    {
      "cell_type": "code",
      "metadata": {
        "id": "JpyceTzp6U28"
      },
      "source": [
        "env = gym_minigrid.wrappers.ImgObsWrapper(gym_minigrid.wrappers.RGBImgObsWrapper(env))"
      ],
      "execution_count": 19,
      "outputs": []
    },
    {
      "cell_type": "markdown",
      "metadata": {
        "id": "iMfU3g2w6Vq9"
      },
      "source": [
        "Note that with full image observations, the shape of the image observations may differ between envs. For e.g., MiniGrid-Empty-5x5-v0 is (40,40,3) while MiniGrid-Empty-8x8-v0 is (64,64,3). So you may need to resize the observations for transfer learning to work with the same DQN architecture.\n",
        "\n",
        "Now try training a DQN (or another method) in one (or multiple) minigrid env(s),and see if that knowledge transfers to another (or multiple other) minigrid env(s).\n"
      ]
    },
    {
      "cell_type": "markdown",
      "metadata": {
        "id": "IZxCUTGBp4Kq"
      },
      "source": [
        "## 6. Preference-Based RL (PBRL)\n",
        "\n",
        "PBRL is an exciting sub-area in RL where the traditional reward structure is replaced with human preferences. This setting is very useful in applications where it is difficult to construct a reward function. \n",
        "\n",
        "In the earlier section, we have successfully trained the lunar lander to land safely. Here, the path that the lander follows to land safely can be arbitrary. In this project, using the techniques of PBRL, you will solve the lunar lander problem with an additional requirement that the lander should follow a specially curated path (for example, a straight line path). Following are some of the resources that will help you to get started with this project. \n",
        "\n",
        "**Research papers:**\n",
        "1. Deep Reinforcement Learning\n",
        "from Human Preferences https://papers.nips.cc/paper/2017/file/d5e2c0adad503c91f91df240d0cd4e49-Paper.pdf\n",
        "2. Deep Q-learning from Demonstrations https://arxiv.org/pdf/1704.03732.pdf\n",
        "3. Reward learning from human preferences https://arxiv.org/pdf/1811.06521.pdf\n",
        "4. T-REX https://arxiv.org/pdf/1904.06387.pdf\n",
        "\n",
        "**Code Bases:**\n",
        "1. https://github.com/nottombrown/rl-teacher\n",
        "2. https://github.com/hiwonjoon/ICML2019-TREX\n"
      ]
    },
    {
      "cell_type": "markdown",
      "metadata": {
        "id": "JwmqCHr8fwgt"
      },
      "source": [
        "\n",
        "#**References**\n",
        "\n",
        "1. Stable Baselines Framework: https://stable-baselines3.readthedocs.io/en/master/guide/examples.html\n",
        "\n",
        "2. Lunar Lander Environment: https://gym.openai.com/envs/LunarLander-v2/\n",
        "\n",
        "3. OpenAI gym environments: https://gym.openai.com/docs/\n",
        "\n",
        "4. A good reference for introduction to RL: http://incompleteideas.net/book/the-book-2nd.html\n"
      ]
    }
  ]
}