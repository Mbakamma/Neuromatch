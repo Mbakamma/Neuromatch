{
  "cells": [
    {
      "cell_type": "markdown",
      "metadata": {
        "id": "view-in-github",
        "colab_type": "text"
      },
      "source": [
        "<a href=\"https://colab.research.google.com/github/NeuromatchAcademy/course-content-dl/blob/luna_lander_fix/projects/ReinforcementLearning/lunar_lander.ipynb\" target=\"_parent\"><img src=\"https://colab.research.google.com/assets/colab-badge.svg\" alt=\"Open In Colab\"/></a>"
      ]
    },
    {
      "cell_type": "markdown",
      "metadata": {
        "execution": {},
        "id": "VlziZS4xxFYX"
      },
      "source": [
        "# Performance Analysis of DQN Algorithm on the Lunar Lander task\n",
        "\n",
        "**By Neuromatch Academy**\n",
        "\n",
        "__Content creators:__ Raghuram Bharadwaj Diddigi, Geraud Nangue Tasse, Yamil Vidal, Sanjukta Krishnagopal, Sara Rajaee\n",
        "\n",
        "__Content editors:__ Spiros Chavlis"
      ]
    },
    {
      "cell_type": "markdown",
      "metadata": {
        "execution": {},
        "id": "KO7C_OyPxFYb"
      },
      "source": [
        "---\n",
        "# Objective\n",
        "\n",
        "In this project, the objective is to analyze the performance of the Deep Q-Learning algorithm on an exciting task- Lunar Lander. Before we describe the task, let us focus on two keywords here - analysis and performance. What exactly do we mean by these keywords in the context of Reinforcement Learning (RL)?"
      ]
    },
    {
      "cell_type": "markdown",
      "metadata": {
        "execution": {},
        "id": "EU95X8hFxFYb"
      },
      "source": [
        "---\n",
        "# Setup"
      ]
    },
    {
      "cell_type": "code",
      "source": [
        "# @title Update/Upgrade the system and install libs\n",
        "!apt-get update > /dev/null 2>&1\n",
        "!apt-get install -y xvfb python-opengl ffmpeg > /dev/null 2>&1\n",
        "!apt-get install -y swig build-essential python-dev python3-dev > /dev/null 2>&1"
      ],
      "metadata": {
        "cellView": "form",
        "id": "INed_7WT0TPi"
      },
      "execution_count": 1,
      "outputs": []
    },
    {
      "cell_type": "code",
      "execution_count": 2,
      "metadata": {
        "cellView": "form",
        "execution": {},
        "colab": {
          "base_uri": "https://localhost:8080/"
        },
        "id": "83Vbg4OxxFYb",
        "outputId": "b3b184a0-e459-477d-c158-ddb39b5ceef8"
      },
      "outputs": [
        {
          "output_type": "stream",
          "name": "stdout",
          "text": [
            "\u001b[?25l     \u001b[90m━━━━━━━━━━━━━━━━━━━━━━━━━━━━━━━━━━━━━━━━\u001b[0m \u001b[32m0.0/178.4 kB\u001b[0m \u001b[31m?\u001b[0m eta \u001b[36m-:--:--\u001b[0m\r\u001b[2K     \u001b[90m━━━━━━━━━━━━━━━━━━━━━━━━━━━━━━━━━━━━━━━\u001b[0m \u001b[32m178.4/178.4 kB\u001b[0m \u001b[31m7.4 MB/s\u001b[0m eta \u001b[36m0:00:00\u001b[0m\n",
            "\u001b[2K     \u001b[90m━━━━━━━━━━━━━━━━━━━━━━━━━━━━━━━━━━━━━━\u001b[0m \u001b[32m925.5/925.5 kB\u001b[0m \u001b[31m53.4 MB/s\u001b[0m eta \u001b[36m0:00:00\u001b[0m\n",
            "\u001b[2K     \u001b[90m━━━━━━━━━━━━━━━━━━━━━━━━━━━━━━━━━━━━━━\u001b[0m \u001b[32m434.7/434.7 kB\u001b[0m \u001b[31m40.7 MB/s\u001b[0m eta \u001b[36m0:00:00\u001b[0m\n",
            "\u001b[?25h  Installing build dependencies ... \u001b[?25l\u001b[?25hdone\n",
            "  Getting requirements to build wheel ... \u001b[?25l\u001b[?25hdone\n",
            "  Preparing metadata (pyproject.toml) ... \u001b[?25l\u001b[?25hdone\n",
            "\u001b[2K     \u001b[90m━━━━━━━━━━━━━━━━━━━━━━━━━━━━━━━━━━━━━━━━\u001b[0m \u001b[32m1.7/1.7 MB\u001b[0m \u001b[31m64.4 MB/s\u001b[0m eta \u001b[36m0:00:00\u001b[0m\n",
            "\u001b[?25h  Building wheel for AutoROM.accept-rom-license (pyproject.toml) ... \u001b[?25l\u001b[?25hdone\n",
            "\u001b[2K     \u001b[90m━━━━━━━━━━━━━━━━━━━━━━━━━━━━━━━━━━━━━━\u001b[0m \u001b[32m374.4/374.4 kB\u001b[0m \u001b[31m15.4 MB/s\u001b[0m eta \u001b[36m0:00:00\u001b[0m\n",
            "\u001b[?25h  Preparing metadata (setup.py) ... \u001b[?25l\u001b[?25hdone\n",
            "\u001b[2K     \u001b[90m━━━━━━━━━━━━━━━━━━━━━━━━━━━━━━━━━━━━━━━━\u001b[0m \u001b[32m18.3/18.3 MB\u001b[0m \u001b[31m62.9 MB/s\u001b[0m eta \u001b[36m0:00:00\u001b[0m\n",
            "\u001b[2K     \u001b[90m━━━━━━━━━━━━━━━━━━━━━━━━━━━━━━━━━━━━━━━━\u001b[0m \u001b[32m1.8/1.8 MB\u001b[0m \u001b[31m76.4 MB/s\u001b[0m eta \u001b[36m0:00:00\u001b[0m\n",
            "\u001b[?25h  Building wheel for box2d-py (setup.py) ... \u001b[?25l\u001b[?25hdone\n",
            "\u001b[2K     \u001b[90m━━━━━━━━━━━━━━━━━━━━━━━━━━━━━━━━━━━━━━\u001b[0m \u001b[32m853.1/853.1 kB\u001b[0m \u001b[31m31.7 MB/s\u001b[0m eta \u001b[36m0:00:00\u001b[0m\n",
            "\u001b[2K     \u001b[90m━━━━━━━━━━━━━━━━━━━━━━━━━━━━━━━━━━━━━━━\u001b[0m \u001b[32m103.1/103.1 kB\u001b[0m \u001b[31m6.7 MB/s\u001b[0m eta \u001b[36m0:00:00\u001b[0m\n",
            "\u001b[2K     \u001b[90m━━━━━━━━━━━━━━━━━━━━━━━━━━━━━━━━━━━━━━━━\u001b[0m \u001b[32m13.9/13.9 MB\u001b[0m \u001b[31m48.5 MB/s\u001b[0m eta \u001b[36m0:00:00\u001b[0m\n",
            "\u001b[?25h"
          ]
        }
      ],
      "source": [
        "# @title Install dependencies\n",
        "!pip install rarfile --quiet\n",
        "!pip install stable-baselines3[extra] --quiet\n",
        "!pip install ale-py --quiet\n",
        "!pip install gym[box2d] --quiet\n",
        "!pip install pyvirtualdisplay --quiet\n",
        "!pip install pyglet --quiet\n",
        "!pip install pygame --quiet\n",
        "!pip install minigrid --quiet"
      ]
    },
    {
      "cell_type": "code",
      "execution_count": 3,
      "metadata": {
        "execution": {},
        "colab": {
          "base_uri": "https://localhost:8080/"
        },
        "id": "H6UJSB5ZxFYd",
        "outputId": "65dcd5aa-10da-4ea0-c273-b17a145b5781"
      },
      "outputs": [
        {
          "output_type": "stream",
          "name": "stdout",
          "text": [
            "pygame 2.5.0 (SDL 2.28.0, Python 3.10.12)\n",
            "Hello from the pygame community. https://www.pygame.org/contribute.html\n"
          ]
        },
        {
          "output_type": "stream",
          "name": "stderr",
          "text": [
            "/usr/local/lib/python3.10/dist-packages/torch/utils/tensorboard/__init__.py:4: DeprecationWarning: distutils Version classes are deprecated. Use packaging.version instead.\n",
            "  if not hasattr(tensorboard, \"__version__\") or LooseVersion(\n"
          ]
        }
      ],
      "source": [
        "# Imports\n",
        "import io\n",
        "import os\n",
        "import glob\n",
        "import torch\n",
        "import base64\n",
        "\n",
        "import numpy as np\n",
        "import matplotlib.pyplot as plt\n",
        "\n",
        "import sys\n",
        "import gymnasium\n",
        "sys.modules[\"gym\"] = gymnasium\n",
        "\n",
        "import stable_baselines3\n",
        "from stable_baselines3 import DQN\n",
        "from stable_baselines3.common.results_plotter import ts2xy, load_results\n",
        "from stable_baselines3.common.callbacks import EvalCallback\n",
        "from stable_baselines3.common.env_util import make_atari_env\n",
        "\n",
        "import gymnasium as gym\n",
        "from gym import spaces\n",
        "from gym.wrappers.monitoring.video_recorder import VideoRecorder"
      ]
    },
    {
      "cell_type": "code",
      "execution_count": 4,
      "metadata": {
        "cellView": "form",
        "execution": {},
        "colab": {
          "base_uri": "https://localhost:8080/"
        },
        "id": "4XPUkYUWxFYe",
        "outputId": "84f58a5e-74e7-4c6f-90f4-98a997b175f7"
      },
      "outputs": [
        {
          "output_type": "stream",
          "name": "stderr",
          "text": [
            "/usr/local/lib/python3.10/dist-packages/ipykernel/ipkernel.py:283: DeprecationWarning: `should_run_async` will not call `transform_cell` automatically in the future. Please pass the result to `transformed_cell` argument and any exception that happen during thetransform in `preprocessing_exc_tuple` in IPython 7.17 and above.\n",
            "  and should_run_async(code)\n"
          ]
        }
      ],
      "source": [
        "# @title Play Video function\n",
        "from IPython.display import HTML\n",
        "from base64 import b64encode\n",
        "from pyvirtualdisplay import Display\n",
        "\n",
        "# create the directory to store the video(s)\n",
        "os.makedirs(\"./video\", exist_ok=True)\n",
        "\n",
        "display = Display(visible=False, size=(1400, 900))\n",
        "_ = display.start()\n",
        "\n",
        "\"\"\"\n",
        "Utility functions to enable video recording of gym environment\n",
        "and displaying it.\n",
        "To enable video, just do \"env = wrap_env(env)\"\"\n",
        "\"\"\"\n",
        "def render_mp4(videopath: str) -> str:\n",
        "  \"\"\"\n",
        "  Gets a string containing a b4-encoded version of the MP4 video\n",
        "  at the specified path.\n",
        "  \"\"\"\n",
        "  mp4 = open(videopath, 'rb').read()\n",
        "  base64_encoded_mp4 = b64encode(mp4).decode()\n",
        "  return f'<video width=400 controls><source src=\"data:video/mp4;' \\\n",
        "         f'base64,{base64_encoded_mp4}\" type=\"video/mp4\"></video>'"
      ]
    },
    {
      "cell_type": "markdown",
      "metadata": {
        "execution": {},
        "id": "ZsppKylYxFYe"
      },
      "source": [
        "---\n",
        "# Introduction\n",
        "\n",
        "In a standard RL setting, an agent learns optimal behavior from an environment through a feedback mechanism to maximize a given objective. Many algorithms have been proposed in the RL literature that an agent can apply to learn the optimal behavior. One such popular algorithm is the Deep Q-Network (DQN). This algorithm makes use of deep neural networks to compute optimal actions. In this project, your goal is to understand the effect of the number of neural network layers on the algorithm's performance. The performance of the algorithm can be evaluated through two metrics - Speed and Stability.\n",
        "\n",
        "**Speed:** How fast the algorithm reaches the maximum possible reward.\n",
        "\n",
        "**Stability** In some applications (especially when online learning is involved), along with speed, stability of the algorithm, i.e., minimal fluctuations in performance, is equally important.\n",
        "\n",
        "In this project, you should investigate the following question:\n",
        "\n",
        "**What is the impact of number of neural network layers on speed and stability of the algorithm?**\n",
        "\n",
        "You do not have to write the DQN code from scratch. We have provided a basic implementation of the DQN algorithm. You only have to tune the hyperparameters (neural network size, learning rate, etc), observe the performance, and analyze. More details on this are provided below.\n",
        "\n",
        "Now, let us discuss the RL task we have chosen, i.e., Lunar Lander. This task consists of the lander and a landing pad marked by two flags. The episode starts with the lander moving downwards due to gravity. The objective is to land safely using different engines available on the lander with zero speed on the landing pad as quickly and fuel efficient as possible. Reward for moving from the top of the screen and landing on landing pad with zero speed is between 100 to 140 points. Each leg ground contact yields a reward of 10 points. Firing main engine leads to a reward of -0.3 points in each frame. Firing the side engine leads to a reward of -0.03 points in each frame. An additional reward of -100 or +100 points is received if the lander crashes or comes to rest respectively which also leads to end of the episode.\n",
        "\n",
        "The input state of the Lunar Lander consists of following components:\n",
        "\n",
        "  1. Horizontal Position\n",
        "  2. Vertical Position\n",
        "  3. Horizontal Velocity\n",
        "  4. Vertical Velocity\n",
        "  5. Angle\n",
        "  6. Angular Velocity\n",
        "  7. Left Leg Contact\n",
        "  8. Right Leg Contact\n",
        "\n",
        "The actions of the agents are:\n",
        "  1. Do Nothing\n",
        "  2. Fire Main Engine\n",
        "  3. Fire Left Engine\n",
        "  4. Fire Right Engine\n",
        "\n",
        "\n",
        "<img src=\"https://raw.githubusercontent.com/NeuromatchAcademy/course-content-dl/main/projects/static/lunar_lander.png\">"
      ]
    },
    {
      "cell_type": "markdown",
      "metadata": {
        "execution": {},
        "id": "XFJSNLYYxFYf"
      },
      "source": [
        "---\n",
        "# Basic DQN Implementation\n",
        "\n",
        "We will now implement the DQN algorithm using the existing code base. We encourage you to understand this example and re-use it in an application/project of your choice!"
      ]
    },
    {
      "cell_type": "markdown",
      "metadata": {
        "execution": {},
        "id": "QdpdRFdUxFYf"
      },
      "source": [
        "Now, let us set some hyperparameters for our algorithm. This is the only part you would play around with, to solve the first part of the project."
      ]
    },
    {
      "cell_type": "code",
      "execution_count": null,
      "metadata": {
        "execution": {},
        "id": "VsoL73MfxFYf"
      },
      "outputs": [],
      "source": [
        "nn_layers = [64, 64]  # This is the configuration of your neural network. Currently, we have two layers, each consisting of 64 neurons.\n",
        "                      # If you want three layers with 64 neurons each, set the value to [64,64,64] and so on.\n",
        "\n",
        "learning_rate = 0.001  # This is the step-size with which the gradient descent is carried out.\n",
        "                       # Tip: Use smaller step-sizes for larger networks."
      ]
    },
    {
      "cell_type": "markdown",
      "metadata": {
        "execution": {},
        "id": "B9JEZa1-xFYf"
      },
      "source": [
        "Now, let us setup our model and the DQN algorithm."
      ]
    },
    {
      "cell_type": "code",
      "execution_count": 6,
      "metadata": {
        "execution": {},
        "id": "hfIrDtNcxFYg"
      },
      "outputs": [],
      "source": [
        "log_dir = \"/tmp/gym/\"\n",
        "os.makedirs(log_dir, exist_ok=True)\n",
        "\n",
        "# Create environment\n",
        "env_name = 'LunarLander-v2'\n",
        "env = gym.make(env_name)\n",
        "# You can also load other environments like cartpole, MountainCar, Acrobot.\n",
        "# Refer to https://gym.openai.com/docs/ for descriptions.\n",
        "\n",
        "# For example, if you would like to load Cartpole,\n",
        "# just replace the above statement with \"env = gym.make('CartPole-v1')\".\n",
        "\n",
        "env = stable_baselines3.common.monitor.Monitor(env, log_dir )\n",
        "\n",
        "callback = EvalCallback(env, log_path=log_dir, deterministic=True)  # For evaluating the performance of the agent periodically and logging the results.\n",
        "policy_kwargs = dict(activation_fn=torch.nn.ReLU,\n",
        "                     net_arch=nn_layers)\n",
        "model = DQN(\"MlpPolicy\", env,policy_kwargs = policy_kwargs,\n",
        "            learning_rate=learning_rate,\n",
        "            batch_size=1,  # for simplicity, we are not doing batch update.\n",
        "            buffer_size=1,  # size of experience of replay buffer. Set to 1 as batch update is not done\n",
        "            learning_starts=1,  # learning starts immediately!\n",
        "            gamma=0.99,  # discount facto. range is between 0 and 1.\n",
        "            tau = 1,  # the soft update coefficient for updating the target network\n",
        "            target_update_interval=1,  # update the target network immediately.\n",
        "            train_freq=(1,\"step\"),  # train the network at every step.\n",
        "            max_grad_norm = 10,  # the maximum value for the gradient clipping\n",
        "            exploration_initial_eps = 1,  # initial value of random action probability\n",
        "            exploration_fraction = 0.5,  # fraction of entire training period over which the exploration rate is reduced\n",
        "            gradient_steps = 1,  # number of gradient steps\n",
        "            seed = 1,  # seed for the pseudo random generators\n",
        "            verbose=0)  # Set verbose to 1 to observe training logs. We encourage you to set the verbose to 1.\n",
        "\n",
        "# You can also experiment with other RL algorithms like A2C, PPO, DDPG etc.\n",
        "# Refer to  https://stable-baselines3.readthedocs.io/en/master/guide/examples.html\n",
        "# for documentation. For example, if you would like to run DDPG, just replace \"DQN\" above with \"DDPG\"."
      ]
    },
    {
      "cell_type": "markdown",
      "metadata": {
        "execution": {},
        "id": "y-V761QcxFYg"
      },
      "source": [
        "Before we train the model, let us look at an instance of Lunar Lander **before training**.  \n",
        "\n",
        "**Note:** The following code for rendering the video is taken from [here](https://colab.research.google.com/github/jeffheaton/t81_558_deep_learning/blob/master/t81_558_class_12_01_ai_gym.ipynb#scrollTo=T9RpF49oOsZj)."
      ]
    },
    {
      "cell_type": "code",
      "source": [
        "env_name = 'LunarLander-v2'\n",
        "env = gym.make(env_name)\n",
        "print('State shape: ', env.observation_space.shape)\n",
        "print('Number of actions: ', env.action_space.n)"
      ],
      "metadata": {
        "colab": {
          "base_uri": "https://localhost:8080/"
        },
        "id": "jE0ehVzH6-7h",
        "outputId": "cf9bd9e1-6655-4100-8f82-178ea5962609"
      },
      "execution_count": 7,
      "outputs": [
        {
          "output_type": "stream",
          "name": "stdout",
          "text": [
            "State shape:  (8,)\n",
            "Number of actions:  4\n"
          ]
        }
      ]
    },
    {
      "cell_type": "code",
      "execution_count": 10,
      "metadata": {
        "execution": {},
        "colab": {
          "base_uri": "https://localhost:8080/",
          "height": 381
        },
        "id": "PDDeGG_4xFYg",
        "outputId": "54a8fd29-f55f-4b08-da80-f66dc5089438"
      },
      "outputs": [
        {
          "output_type": "stream",
          "name": "stderr",
          "text": [
            "/usr/local/lib/python3.10/dist-packages/gym/wrappers/monitoring/video_recorder.py:101: DeprecationWarning: \u001b[33mWARN: <class 'gym.wrappers.monitoring.video_recorder.VideoRecorder'> is marked as deprecated and will be removed in the future.\u001b[0m\n",
            "  logger.deprecation(\n"
          ]
        },
        {
          "output_type": "stream",
          "name": "stdout",
          "text": [
            "\n",
            "Total reward: -358.3240256062528\n"
          ]
        },
        {
          "output_type": "execute_result",
          "data": {
            "text/plain": [
              "<IPython.core.display.HTML object>"
            ],
            "text/html": [
              "<video width=400 controls><source src=\"data:video/mp4;base64,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\" type=\"video/mp4\"></video>"
            ]
          },
          "metadata": {},
          "execution_count": 10
        }
      ],
      "source": [
        "env = gym.make(env_name, render_mode=\"rgb_array\")\n",
        "vid = VideoRecorder(env, path=f\"video/{env_name}_pretraining.mp4\")\n",
        "observation = env.reset()[0]\n",
        "\n",
        "total_reward = 0\n",
        "done = False\n",
        "while not done:\n",
        "  frame = env.render()\n",
        "  vid.capture_frame()\n",
        "  action, states = model.predict(observation, deterministic=True)\n",
        "  observation, reward, done, info, _ = env.step(action)\n",
        "  total_reward += reward\n",
        "vid.close()\n",
        "env.close()\n",
        "print(f\"\\nTotal reward: {total_reward}\")\n",
        "\n",
        "# show video\n",
        "html = render_mp4(f\"video/{env_name}_pretraining.mp4\")\n",
        "HTML(html)"
      ]
    },
    {
      "cell_type": "markdown",
      "metadata": {
        "execution": {},
        "id": "RxdxBpfCxFYg"
      },
      "source": [
        "From the video above, we see that the lander has crashed!\n",
        "It is now the time for training!\n"
      ]
    },
    {
      "cell_type": "code",
      "execution_count": 11,
      "metadata": {
        "execution": {},
        "colab": {
          "base_uri": "https://localhost:8080/"
        },
        "id": "tC6av2zoxFYg",
        "outputId": "187e2e5f-9c52-4be5-95de-a9af79c010aa"
      },
      "outputs": [
        {
          "output_type": "stream",
          "name": "stdout",
          "text": [
            "Eval num_timesteps=1279, episode_reward=-356.47 +/- 30.54\n",
            "Episode length: 112.20 +/- 30.49\n",
            "New best mean reward!\n",
            "Eval num_timesteps=11279, episode_reward=-397.95 +/- 126.53\n",
            "Episode length: 183.40 +/- 44.78\n",
            "Eval num_timesteps=21279, episode_reward=-483.05 +/- 62.52\n",
            "Episode length: 139.00 +/- 22.37\n",
            "Eval num_timesteps=31279, episode_reward=30.20 +/- 105.64\n",
            "Episode length: 265.80 +/- 126.63\n",
            "New best mean reward!\n",
            "Eval num_timesteps=41279, episode_reward=155.25 +/- 48.94\n",
            "Episode length: 790.20 +/- 216.78\n",
            "New best mean reward!\n",
            "Eval num_timesteps=51279, episode_reward=-19.94 +/- 90.63\n",
            "Episode length: 281.20 +/- 172.77\n",
            "Eval num_timesteps=61279, episode_reward=99.06 +/- 135.52\n",
            "Episode length: 463.20 +/- 66.72\n",
            "Eval num_timesteps=71279, episode_reward=171.12 +/- 72.28\n",
            "Episode length: 485.00 +/- 168.60\n",
            "New best mean reward!\n",
            "Eval num_timesteps=81279, episode_reward=187.05 +/- 20.08\n",
            "Episode length: 662.60 +/- 64.24\n",
            "New best mean reward!\n",
            "Eval num_timesteps=91279, episode_reward=216.28 +/- 106.12\n",
            "Episode length: 210.00 +/- 25.16\n",
            "New best mean reward!\n"
          ]
        },
        {
          "output_type": "execute_result",
          "data": {
            "text/plain": [
              "<stable_baselines3.dqn.dqn.DQN at 0x7cb03b426410>"
            ]
          },
          "metadata": {},
          "execution_count": 11
        }
      ],
      "source": [
        "model.learn(total_timesteps=100000, log_interval=10, callback=callback)\n",
        "# The performance of the training will be printed every 10 episodes. Change it to 1, if you wish to\n",
        "# view the performance at every training episode."
      ]
    },
    {
      "cell_type": "markdown",
      "metadata": {
        "execution": {},
        "id": "LtXzhOGXxFYg"
      },
      "source": [
        "The training takes time. We encourage you to analyze the output logs (set verbose to 1 to print the output logs). The main component of the logs that you should track is \"ep_rew_mean\" (mean of episode rewards). As the training proceeds, the value of \"ep_rew_mean\" should increase. The improvement need not be monotonic, but the trend should be upwards!\n",
        "\n",
        "Along with training, we are also periodically evaluating the performance of the current model during the training. This was reported in logs as follows:\n",
        "\n",
        "```\n",
        "Eval num_timesteps=100000, episode_reward=63.41 +/- 130.02\n",
        "Episode length: 259.80 +/- 47.47\n",
        "```"
      ]
    },
    {
      "cell_type": "markdown",
      "metadata": {
        "execution": {},
        "id": "KGTRQt9sxFYh"
      },
      "source": [
        "Now, let us look at the visual performance of the lander.\n",
        "\n",
        "**Note:** The performance varies across different seeds and runs. This code is not optimized to be stable across all runs and seeds. We hope you will be able to find an optimal configuration!"
      ]
    },
    {
      "cell_type": "code",
      "execution_count": 12,
      "metadata": {
        "execution": {},
        "colab": {
          "base_uri": "https://localhost:8080/",
          "height": 381
        },
        "id": "I74g8-xtxFYh",
        "outputId": "96f229d4-2f43-4cae-8daf-57dfb7c6a80e"
      },
      "outputs": [
        {
          "output_type": "stream",
          "name": "stderr",
          "text": [
            "/usr/local/lib/python3.10/dist-packages/gym/wrappers/monitoring/video_recorder.py:101: DeprecationWarning: \u001b[33mWARN: <class 'gym.wrappers.monitoring.video_recorder.VideoRecorder'> is marked as deprecated and will be removed in the future.\u001b[0m\n",
            "  logger.deprecation(\n"
          ]
        },
        {
          "output_type": "stream",
          "name": "stdout",
          "text": [
            "\n",
            "Total reward: -129.74937856575042\n"
          ]
        },
        {
          "output_type": "execute_result",
          "data": {
            "text/plain": [
              "<IPython.core.display.HTML object>"
            ],
            "text/html": [
              "<video width=400 controls><source src=\"data:video/mp4;base64,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\" type=\"video/mp4\"></video>"
            ]
          },
          "metadata": {},
          "execution_count": 12
        }
      ],
      "source": [
        "env = gym.make(env_name, render_mode=\"rgb_array\")\n",
        "vid = VideoRecorder(env, path=f\"video/{env_name}_learned.mp4\")\n",
        "observation = env.reset()[0]\n",
        "\n",
        "total_reward = 0\n",
        "done = False\n",
        "while not done:\n",
        "  frame = env.render()\n",
        "  vid.capture_frame()\n",
        "  action, states = model.predict(observation, deterministic=True)\n",
        "  observation, reward, done, info, _ = env.step(action)\n",
        "  total_reward += reward\n",
        "vid.close()\n",
        "env.close()\n",
        "print(f\"\\nTotal reward: {total_reward}\")\n",
        "\n",
        "# show video\n",
        "html = render_mp4(f\"video/{env_name}_learned.mp4\")\n",
        "HTML(html)"
      ]
    },
    {
      "cell_type": "markdown",
      "metadata": {
        "execution": {},
        "id": "gR4NjpyCxFYh"
      },
      "source": [
        "The lander has landed safely!!\n",
        "\n",
        "Let us analyze its performance (speed and stability). For this purpose, we plot the number of time steps on the x-axis and the episodic reward given by the trained model on the y-axis."
      ]
    },
    {
      "cell_type": "code",
      "execution_count": 13,
      "metadata": {
        "execution": {},
        "colab": {
          "base_uri": "https://localhost:8080/",
          "height": 512
        },
        "id": "vQQQn3vMxFYh",
        "outputId": "e0224921-85c4-4e3f-a1c3-d659e90e820d"
      },
      "outputs": [
        {
          "output_type": "stream",
          "name": "stderr",
          "text": [
            "/usr/local/lib/python3.10/dist-packages/ipykernel/ipkernel.py:283: DeprecationWarning: `should_run_async` will not call `transform_cell` automatically in the future. Please pass the result to `transformed_cell` argument and any exception that happen during thetransform in `preprocessing_exc_tuple` in IPython 7.17 and above.\n",
            "  and should_run_async(code)\n"
          ]
        },
        {
          "output_type": "display_data",
          "data": {
            "text/plain": [
              "<Figure size 640x480 with 1 Axes>"
            ],
            "image/png": "[encoded data removed]"
          },
          "metadata": {}
        }
      ],
      "source": [
        "x, y = ts2xy(load_results(log_dir), 'timesteps')  # Organising the logged results in to a clean format for plotting.\n",
        "plt.plot(x, y)\n",
        "plt.ylim([-300, 300])\n",
        "plt.xlabel('Timesteps')\n",
        "plt.ylabel('Episode Rewards')\n",
        "plt.show()"
      ]
    },
    {
      "cell_type": "markdown",
      "metadata": {
        "execution": {},
        "id": "mDfF1W4ixFYh"
      },
      "source": [
        "From the above plot, we observe that, although the maximum reward is achieved quickly. Achieving an episodic reward of > 200 is good. We see that the agent has achieved it in less than 50000 timesteps (speed is good!). However, there are a lot of fluctuations in the performance (stability is not good!).\n",
        "\n",
        "Your objective now is to modify the model parameters (nn_layers, learning_rate in the code cell #2 above), run all the cells following it and investigate the stability and speed of the chosen configuration.   \n"
      ]
    },
    {
      "cell_type": "markdown",
      "metadata": {
        "execution": {},
        "id": "HcKPCEnUxFYh"
      },
      "source": [
        "---\n",
        "# Additional Project Ideas"
      ]
    },
    {
      "cell_type": "markdown",
      "metadata": {
        "execution": {},
        "id": "IjPSKut8xFYi"
      },
      "source": [
        "## 1 Play with exploration-exploitation trade-off\n",
        "\n",
        "Exploration (selecting random actions) and exploitation (selecting greedy action) is a crucial component of the DQN algorithm. Explore random actions for a long time will slow down the training process. At the same time, if all actions are not explored enough, it might lead to a sub-optimal performance. In the DQN code above, we have used the following parameters:"
      ]
    },
    {
      "cell_type": "code",
      "execution_count": 14,
      "metadata": {
        "execution": {},
        "colab": {
          "base_uri": "https://localhost:8080/"
        },
        "id": "HTbZeWjaxFYi",
        "outputId": "9b7054e6-fd94-48f8-ad36-d261472bef9d"
      },
      "outputs": [
        {
          "output_type": "stream",
          "name": "stderr",
          "text": [
            "/usr/local/lib/python3.10/dist-packages/ipykernel/ipkernel.py:283: DeprecationWarning: `should_run_async` will not call `transform_cell` automatically in the future. Please pass the result to `transformed_cell` argument and any exception that happen during thetransform in `preprocessing_exc_tuple` in IPython 7.17 and above.\n",
            "  and should_run_async(code)\n"
          ]
        }
      ],
      "source": [
        "exploration_initial_eps = 1  # initial value of random action probability. Range is between 0 and 1.\n",
        "exploration_fraction = 0.5  # fraction of entire training period over which the exploration rate is reduced. Range is between 0 and 1.\n",
        "exploration_final_eps = 0.05  # (set by defualt) final value of random action probability. Range is between 0 and 1."
      ]
    },
    {
      "cell_type": "markdown",
      "metadata": {
        "execution": {},
        "id": "ZoOaySS5xFYi"
      },
      "source": [
        "Your objective is to play around with these parameters and analyze their performance (speed and stability). You can modify these parameters and set them as arguments in DQN(...,exploration_initial_eps = 1, exploration_fraction = 0.5, exploration_final_eps = 0.05,...)."
      ]
    },
    {
      "cell_type": "markdown",
      "metadata": {
        "execution": {},
        "id": "nJi1HVmBxFYi"
      },
      "source": [
        "## 2 Reward Shaping\n",
        "\n",
        "Your objective here is to construct a modified reward function that improves the performance of the Lunar Lander. To this end, you would have to create your own custom environment. An example of a custom environment is given below:"
      ]
    },
    {
      "cell_type": "code",
      "execution_count": 15,
      "metadata": {
        "execution": {},
        "id": "2_Y4oFYcxFYi"
      },
      "outputs": [],
      "source": [
        "# Taken from https://stable-baselines3.readthedocs.io/en/master/guide/custom_env.html\n",
        "class CustomEnv(gym.Env):\n",
        "  \"\"\"Custom Environment that follows gym interface\"\"\"\n",
        "  metadata = {'render.modes': ['human']}\n",
        "\n",
        "  def __init__(self, arg1, arg2):\n",
        "    super(CustomEnv, self).__init__()\n",
        "    # Define action and observation space\n",
        "    # They must be gym.spaces objects\n",
        "    # Example when using discrete actions:\n",
        "    self.action_space = spaces.Discrete(N_DISCRETE_ACTIONS)\n",
        "    # Example for using image as input (channel-first; channel-last also works):\n",
        "    self.observation_space = spaces.Box(low=0, high=255,\n",
        "                                        shape=(N_CHANNELS, HEIGHT, WIDTH), dtype=np.uint8)\n",
        "\n",
        "  def step(self, action):\n",
        "    ...\n",
        "    return observation, reward, done, info\n",
        "  def reset(self):\n",
        "    ...\n",
        "    return observation  # reward, done, info can't be included\n",
        "  def render(self, mode='human'):\n",
        "    ...\n",
        "  def close (self):\n",
        "    ..."
      ]
    },
    {
      "cell_type": "markdown",
      "metadata": {
        "execution": {},
        "id": "7aKZJ0SExFYi"
      },
      "source": [
        "As you are only changing the reward structure, you can inherit the [original Lunar Lander environment](https://github.com/openai/gym/blob/master/gym/envs/box2d/lunar_lander.py) and modify just the \"step\" function. Focus on modifying the following part of the code in the \"step\" function."
      ]
    },
    {
      "cell_type": "code",
      "execution_count": 16,
      "metadata": {
        "execution": {},
        "id": "BZNiHjxgxFYi"
      },
      "outputs": [],
      "source": [
        "def step(self, actions):\n",
        "  ...\n",
        "  ...\n",
        "  ...\n",
        "  reward = 0\n",
        "  shaping = (\n",
        "      -100 * np.sqrt(state[0] * state[0] + state[1] * state[1])\n",
        "      - 100 * np.sqrt(state[2] * state[2] + state[3] * state[3])\n",
        "      - 100 * abs(state[4])\n",
        "      + 10 * state[6]\n",
        "      + 10 * state[7]\n",
        "  )  # And ten points for legs contact, the idea is if you\n",
        "  # lose contact again after landing, you get negative reward\n",
        "  if self.prev_shaping is not None:\n",
        "      reward = shaping - self.prev_shaping\n",
        "  self.prev_shaping = shaping\n",
        "\n",
        "  reward -= (\n",
        "      m_power * 0.30\n",
        "  )  # less fuel spent is better, about -30 for heuristic landing. You should modify these values.\n",
        "  reward -= s_power * 0.03\n",
        "\n",
        "  done = False\n",
        "  if self.game_over or abs(state[0]) >= 1.0:\n",
        "      done = True\n",
        "      reward = -100\n",
        "  if not self.lander.awake:\n",
        "      done = True\n",
        "      reward = +100\n",
        "  return np.array(state, dtype=np.float32), reward, done, {}"
      ]
    },
    {
      "cell_type": "markdown",
      "metadata": {
        "execution": {},
        "id": "QpLGns5txFYi"
      },
      "source": [
        "Once you have cutomized your own environment, you can execute that environment by just calling:"
      ]
    },
    {
      "cell_type": "code",
      "execution_count": 17,
      "metadata": {
        "execution": {},
        "id": "j98bGB2TxFYj"
      },
      "outputs": [],
      "source": [
        "## Enter the name of the custome environment you created and uncomment the line below.\n",
        "# env = Custom_LunarLander()"
      ]
    },
    {
      "cell_type": "markdown",
      "metadata": {
        "execution": {},
        "id": "Zrs6Mp6IxFYj"
      },
      "source": [
        "**Note:** Refer to [this page](https://stable-baselines3.readthedocs.io/en/master/guide/custom_env.html), if you would like to create more complex environments."
      ]
    },
    {
      "cell_type": "markdown",
      "metadata": {
        "execution": {},
        "id": "NYQscGz-xFYj"
      },
      "source": [
        "## 3 Identify the state information crucial to its performance.\n",
        "\n",
        "Your objective here is to alter the input state information and analyze the performance. The input state of the Lunar Lander consists of following components:\n",
        "\n",
        "  1. Horizontal Position\n",
        "  2. Vertical Position\n",
        "  3. Horizontal Velocity\n",
        "  4. Vertical Velocity\n",
        "  5. Angle\n",
        "  6. Angular Velocity\n",
        "  7. Left Leg Contact\n",
        "  8. Right Leg Contact\n",
        "\n",
        "You can train the algorithm by masking one of the eight components at a time and understand how that affects the performance of the algorithm. Similar to the reward shaping task, you would have to create a custom environment and modify the state space. Again, you can inherit all the necessary functions and modify the following portion of the \"Step\" function:"
      ]
    },
    {
      "cell_type": "code",
      "execution_count": 18,
      "metadata": {
        "execution": {},
        "id": "NP2hcZhHxFYj"
      },
      "outputs": [],
      "source": [
        "def step(self, actions):\n",
        "  ...\n",
        "  ...\n",
        "  ...\n",
        "  state = [ # Remove one component at a time to investigate the effect on performance!\n",
        "            (pos.x - VIEWPORT_W / SCALE / 2) / (VIEWPORT_W / SCALE / 2),\n",
        "            (pos.y - (self.helipad_y + LEG_DOWN / SCALE)) / (VIEWPORT_H / SCALE / 2),\n",
        "            vel.x * (VIEWPORT_W / SCALE / 2) / FPS,\n",
        "            vel.y * (VIEWPORT_H / SCALE / 2) / FPS,\n",
        "            self.lander.angle,\n",
        "            20.0 * self.lander.angularVelocity / FPS,\n",
        "            1.0 if self.legs[0].ground_contact else 0.0,\n",
        "            1.0 if self.legs[1].ground_contact else 0.0,\n",
        "        ]"
      ]
    },
    {
      "cell_type": "markdown",
      "metadata": {
        "execution": {},
        "id": "kiEoMgE_xFYj"
      },
      "source": [
        "## 4 Extension to Atari Games\n",
        "\n",
        "In the Lunar Lander task, the input to the algorithm is a vector of state information. Deep RL algorithms can also be applied when the input to the training is image frames, which is the case in the Atari games. For example, consider an Atari game - Pong. In this environment, the observation is an RGB image of the screen, which is an array of shape (210, 160, 3). To train the Pong game, you can start with the following sample code:"
      ]
    },
    {
      "cell_type": "code",
      "execution_count": 19,
      "metadata": {
        "execution": {},
        "id": "trHK5l4ZxFYj"
      },
      "outputs": [],
      "source": [
        "## Taken from: https://colab.research.google.com/github/Stable-Baselines-Team/rl-colab-notebooks/blob/sb3/atari_games.ipynb#scrollTo=f3K4rMXwimBO\n",
        "env = make_atari_env('PongNoFrameskip-v4', n_envs=4, seed=0)\n",
        "\n",
        "## Atari Games take a lot of memory. Following commands crash on Coalb. Run the following code on Colab Pro or your local Jupyter notebook!\n",
        "# env = VecFrameStack(env, n_stack=4)\n",
        "# model = DQN('CnnPolicy', env, verbose=1)  # Note the difference here! We use 'CnnPolicy\" here instead of 'MlpPolicy' as the input is frames.\n",
        "# model.learn(total_timesteps=1) #change the number of timesteps as desired and run this command!"
      ]
    },
    {
      "cell_type": "markdown",
      "metadata": {
        "execution": {},
        "id": "eoy_n4tQxFYj"
      },
      "source": [
        "## 5 Obstacle Avoidance and Transfer Learning\n",
        "\n",
        "Your obstacle here is to add an obstacle in the path of the lunar lander (by creating a custom environment as described in point 2 above) and train the model such that the lander lands safely, avoiding collisions.\n",
        "\n",
        "You would first want to devise a mechansim for adding obstacles. For example, you could have an imaginary obstacle at some horizantal and vertical position cooridnates and modify the reward function such that a penalty is levied if the lander comes close to it.\n",
        "\n",
        "An interesting approach to solve this problem is to apply the techniques of transfer learning. For example, you could initialise the neural network model with the weights of the trained model on the original problem to improve the sample effeciency. This can be done using the following code:"
      ]
    },
    {
      "cell_type": "code",
      "execution_count": 20,
      "metadata": {
        "execution": {},
        "id": "gHWtO7NCxFYn"
      },
      "outputs": [],
      "source": [
        "## Specify the load path and uncomment below:\n",
        "\n",
        "# model = load(load_path,\n",
        "#              env=gym.make('LunarLander-v2'),\n",
        "#              custom_objects=None, **kwargs)"
      ]
    },
    {
      "cell_type": "markdown",
      "metadata": {
        "execution": {},
        "id": "siMEn3gQxFYn"
      },
      "source": [
        "Following are some of the resources on transfer learning that you would want to start with.\n",
        "\n",
        "**Research Papers**\n",
        "\n",
        "Surveys:\n",
        "1. Taylor, M. E.,  et al. (2009). Transfer learning for reinforcement learning domains. url: [www.jmlr.org/papers/volume10/taylor09a/taylor09a](https://www.jmlr.org/papers/volume10/taylor09a/taylor09a.pdf)\n",
        "   - Long, Old, Highly cited\n",
        "\n",
        "2. Lazaric, A. (2012). Transfer in reinforcement learning: a framework and a survey. url: [hal.inria.fr/docs/00/77/26/26/PDF/transfer](https://hal.inria.fr/docs/00/77/26/26/PDF/transfer.pdf)\n",
        "   - Medium, Old, Good for a quick read\n",
        "\n",
        "3. Zhu, Z., Lin, K., & Zhou, J. (2020). Transfer learning in deep reinforcement learning. [arxiv:2009.07888](https://arxiv.org/pdf/2009.07888.pdf)\n",
        "  - Medium, Recent, Good for a quick read\n",
        "\n",
        "4. Barreto, A., et al. (2016). Successor features for transfer in reinforcement learning. [arxiv:1606.05312](https://arxiv.org/pdf/1606.05312)\n",
        "  - Specific example"
      ]
    },
    {
      "cell_type": "markdown",
      "metadata": {
        "execution": {},
        "id": "W7P4ojssxFYn"
      },
      "source": [
        "## 5(b) Transfer Learning in minigrid environment\n",
        "\n",
        "These are some simple gridworld gym environments designed to be particularly simple, lightweight and fast. Refer to [this repo](https://github.com/maximecb/gym-minigrid) for a description of the environments. An example to load a minigrid environment is given below."
      ]
    },
    {
      "cell_type": "code",
      "source": [
        "env = gym.make('MiniGrid-Empty-5x5-v0', render_mode='rgb_array')"
      ],
      "metadata": {
        "id": "dpNh9gAb4dff"
      },
      "execution_count": 21,
      "outputs": []
    },
    {
      "cell_type": "markdown",
      "metadata": {
        "execution": {},
        "id": "hs8KFOqVxFYo"
      },
      "source": [
        "You can train a standard DQN agent in this env by wrapping the env with full image observation wrappers:\n"
      ]
    },
    {
      "cell_type": "code",
      "execution_count": 22,
      "metadata": {
        "execution": {},
        "id": "Rjkq7ZXBxFYo"
      },
      "outputs": [],
      "source": [
        "import minigrid\n",
        "env = minigrid.wrappers.ImgObsWrapper(minigrid.wrappers.RGBImgObsWrapper(env))"
      ]
    },
    {
      "cell_type": "markdown",
      "metadata": {
        "execution": {},
        "id": "hSwuLQEZxFYo"
      },
      "source": [
        "Note that with full image observations, the shape of the image observations may differ between envs. For e.g., MiniGrid-Empty-5x5-v0 is (40,40,3) while MiniGrid-Empty-8x8-v0 is (64,64,3). So you may need to resize the observations for transfer learning to work with the same DQN architecture.\n",
        "\n",
        "Now try training a DQN (or another method) in one (or multiple) minigrid env(s),and see if that knowledge transfers to another (or multiple other) minigrid env(s).\n"
      ]
    },
    {
      "cell_type": "markdown",
      "metadata": {
        "execution": {},
        "id": "dY1UjU2IxFYo"
      },
      "source": [
        "## 6 Preference-Based RL (PBRL)\n",
        "\n",
        "PBRL is an exciting sub-area in RL where the traditional reward structure is replaced with human preferences. This setting is very useful in applications where it is difficult to construct a reward function.\n",
        "\n",
        "In the earlier section, we have successfully trained the lunar lander to land safely. Here, the path that the lander follows to land safely can be arbitrary. In this project, using the techniques of PBRL, you will solve the lunar lander problem with an additional requirement that the lander should follow a specially curated path (for example, a straight line path). Following are some of the resources that will help you to get started with this project.\n",
        "\n",
        "**Research papers:**\n",
        "1. [Deep Reinforcement Learning from Human Preferences](https://papers.nips.cc/paper/2017/file/d5e2c0adad503c91f91df240d0cd4e49-Paper.pdf)\n",
        "2. [Deep Q-learning from Demonstrations](https://arxiv.org/pdf/1704.03732.pdf)\n",
        "3. [Reward learning from human preferences](https://arxiv.org/pdf/1811.06521.pdf)\n",
        "4. [T-REX](https://arxiv.org/pdf/1904.06387.pdf)\n",
        "\n",
        "**Code Bases:**\n",
        "1. [rl-teacher](https://github.com/nottombrown/rl-teacher)\n",
        "2. [ICML2019-TREX](https://github.com/hiwonjoon/ICML2019-TREX)"
      ]
    },
    {
      "cell_type": "markdown",
      "metadata": {
        "execution": {},
        "id": "I_MN4de_xFYo"
      },
      "source": [
        "---\n",
        "# References\n",
        "\n",
        "1. [Stable Baselines Framework](https://stable-baselines3.readthedocs.io/en/master/guide/examples.html)\n",
        "2. [Lunar Lander Environment](https://gym.openai.com/envs/LunarLander-v2/)\n",
        "3. [OpenAI gym environments](https://gym.openai.com/docs/)\n",
        "4. [A good reference for introduction to RL](http://incompleteideas.net/book/the-book-2nd.html)\n"
      ]
    }
  ],
  "metadata": {
    "accelerator": "GPU",
    "colab": {
      "name": "lunar_lander",
      "provenance": [],
      "toc_visible": true,
      "include_colab_link": true
    },
    "gpuClass": "standard",
    "kernel": {
      "display_name": "Python 3",
      "language": "python",
      "name": "python3"
    },
    "kernelspec": {
      "display_name": "Python 3",
      "name": "python3"
    },
    "language_info": {
      "name": "python"
    }
  },
  "nbformat": 4,
  "nbformat_minor": 0
}