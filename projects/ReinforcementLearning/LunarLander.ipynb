{
  "nbformat": 4,
  "nbformat_minor": 0,
  "metadata": {
    "colab": {
      "name": "LunarLander.ipynb",
      "provenance": [],
      "collapsed_sections": []
    },
    "kernelspec": {
      "name": "python3",
      "display_name": "Python 3"
    },
    "language_info": {
      "name": "python"
    }
  },
  "cells": [
    {
      "cell_type": "markdown",
      "metadata": {
        "id": "HXXuNU06JN8t"
      },
      "source": [
        "#**Performance Analysis of DQN Algorithm on the Lunar Lander task**\n",
        "\n",
        "**Content Creators: Raghuram Bharadwaj Diddigi, Geraud Nangue Tasse, Yamil Vidal, Sanjukta Krishnagopal, Sara Rajaee**\n",
        "\n",
        "In this project, the objective is to analyze the performance of the Deep Q-Learning algorithm on an exciting task- Lunar Lander. Before we describe the task, let us focus on two keywords here - analysis and performance. What exactly do we mean by these keywords in the context of Reinforcement Learning (RL)? \n",
        "\n",
        "In a standard RL setting, an agent learns optimal behavior from an environment through a feedback mechanism to maximize a given objective. Many algorithms have been proposed in the RL literature that an agent can apply to learn the optimal behavior. One such popular algorithm is the Deep Q-Network (DQN). This algorithm makes use of deep neural networks to compute optimal actions. In this project, your goal is to understand the effect of the number of neural network layers on the algorithm's performance. The performance of the algorithm can be evaluated through two metrics - Speed and Stability. \n",
        "\n",
        "**Speed:** How fast the algorithm reaches the maximum possible reward. \n",
        "\n",
        "**Stability** In some applications (especially when online learning is involved), along with speed, stability of the algorithm, i.e., minimal fluctuations in performance, is equally important. \n",
        "\n",
        "In this project, you should investigate the following question:\n",
        "\n",
        "**What is the impact of number of neural network layers on speed and stability of the algorithm?**\n",
        "\n",
        "You do not have to write the DQN code from scratch. We have provided a basic implementation of the DQN algorithm. You only have to tune the hyperparameters (neural network size, learning rate, etc), observe the performance, and analyze. More details on this are provided below. \n",
        "\n",
        "Now, let us discuss the RL task we have chosen, i.e., Lunar Lander. This task consists of the lander and a landing pad marked by two flags. The episode starts with the lander moving downwards due to gravity. The objective is to land safely using different engines available on the lander with zero speed on the landing pad as quickly and fuel efficient as possible. Reward for moving from the top of the screen and landing on landing pad with zero speed is between 100 to 140 points. Each leg ground contact yields a reward of 10 points. Firing main engine leads to a reward of -0.3 points in each frame. Firing the side engine leads to a reward of -0.03 points in each frame. An additional reward of -100 or +100 points is received if the lander crashes or comes to rest respectively which also leads to end of the episode. \n",
        "\n",
        "The input state of the Lunar Lander consists of following components:\n",
        "\n",
        "  1. Horizontal Position\n",
        "  2. Vertical Position\n",
        "  3. Horizontal Velocity\n",
        "  4. Vertical Velocity\n",
        "  5. Angle\n",
        "  6. Angular Velocity\n",
        "  7. Left Leg Contact\n",
        "  8. Right Leg Contact\n",
        "\n",
        "The actions of the agents are:\n",
        "  1. Do Nothing\n",
        "  2. Fire Main Engine\n",
        "  3. Fire Left Engine\n",
        "  4. Fire Right Engine\n",
        "\n",
        "![lunarlander_image.png](data:image/png;base64,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)\n",
        "\n",
        "\n",
        "\n"
      ]
    },
    {
      "cell_type": "markdown",
      "metadata": {
        "id": "XmXcFwqlPfKc"
      },
      "source": [
        "#**Basic DQN Implementation**\n",
        "\n",
        "We will now implement the DQN algorithm using the existing code base. We encourage you to understand this example and re-use it in an application/project of your choice! \n",
        "\n",
        "First, let us load some necessary packages"
      ]
    },
    {
      "cell_type": "code",
      "metadata": {
        "colab": {
          "base_uri": "https://localhost:8080/"
        },
        "id": "_MzbWh8kPY0A",
        "outputId": "e3f05944-a818-4f36-a6df-8edd802d0115"
      },
      "source": [
        "!pip install stable-baselines3\n",
        "!pip install box2d-py\n",
        "!pip install gym pyvirtualdisplay > /dev/null 2>&1\n",
        "!apt-get install -y xvfb python-opengl ffmpeg > /dev/null 2>&1\n"
      ],
      "execution_count": null,
      "outputs": [
        {
          "output_type": "stream",
          "text": [
            "Collecting stable-baselines3\n",
            "  Downloading stable_baselines3-1.1.0-py3-none-any.whl (172 kB)\n",
            "\u001b[?25l\r\u001b[K     |██                              | 10 kB 25.1 MB/s eta 0:00:01\r\u001b[K     |███▉                            | 20 kB 31.7 MB/s eta 0:00:01\r\u001b[K     |█████▊                          | 30 kB 25.3 MB/s eta 0:00:01\r\u001b[K     |███████▋                        | 40 kB 23.2 MB/s eta 0:00:01\r\u001b[K     |█████████▌                      | 51 kB 8.8 MB/s eta 0:00:01\r\u001b[K     |███████████▍                    | 61 kB 10.0 MB/s eta 0:00:01\r\u001b[K     |█████████████▎                  | 71 kB 9.7 MB/s eta 0:00:01\r\u001b[K     |███████████████▏                | 81 kB 10.8 MB/s eta 0:00:01\r\u001b[K     |█████████████████               | 92 kB 11.5 MB/s eta 0:00:01\r\u001b[K     |███████████████████             | 102 kB 9.0 MB/s eta 0:00:01\r\u001b[K     |████████████████████▉           | 112 kB 9.0 MB/s eta 0:00:01\r\u001b[K     |██████████████████████▉         | 122 kB 9.0 MB/s eta 0:00:01\r\u001b[K     |████████████████████████▊       | 133 kB 9.0 MB/s eta 0:00:01\r\u001b[K     |██████████████████████████▋     | 143 kB 9.0 MB/s eta 0:00:01\r\u001b[K     |████████████████████████████▌   | 153 kB 9.0 MB/s eta 0:00:01\r\u001b[K     |██████████████████████████████▍ | 163 kB 9.0 MB/s eta 0:00:01\r\u001b[K     |████████████████████████████████| 172 kB 9.0 MB/s \n",
            "\u001b[?25hRequirement already satisfied: numpy in /usr/local/lib/python3.7/dist-packages (from stable-baselines3) (1.19.5)\n",
            "Requirement already satisfied: pandas in /usr/local/lib/python3.7/dist-packages (from stable-baselines3) (1.1.5)\n",
            "Requirement already satisfied: gym>=0.17 in /usr/local/lib/python3.7/dist-packages (from stable-baselines3) (0.17.3)\n",
            "Requirement already satisfied: matplotlib in /usr/local/lib/python3.7/dist-packages (from stable-baselines3) (3.2.2)\n",
            "Requirement already satisfied: cloudpickle in /usr/local/lib/python3.7/dist-packages (from stable-baselines3) (1.3.0)\n",
            "Requirement already satisfied: torch>=1.4.0 in /usr/local/lib/python3.7/dist-packages (from stable-baselines3) (1.9.0+cu102)\n",
            "Requirement already satisfied: pyglet<=1.5.0,>=1.4.0 in /usr/local/lib/python3.7/dist-packages (from gym>=0.17->stable-baselines3) (1.5.0)\n",
            "Requirement already satisfied: scipy in /usr/local/lib/python3.7/dist-packages (from gym>=0.17->stable-baselines3) (1.4.1)\n",
            "Requirement already satisfied: future in /usr/local/lib/python3.7/dist-packages (from pyglet<=1.5.0,>=1.4.0->gym>=0.17->stable-baselines3) (0.16.0)\n",
            "Requirement already satisfied: typing-extensions in /usr/local/lib/python3.7/dist-packages (from torch>=1.4.0->stable-baselines3) (3.7.4.3)\n",
            "Requirement already satisfied: pyparsing!=2.0.4,!=2.1.2,!=2.1.6,>=2.0.1 in /usr/local/lib/python3.7/dist-packages (from matplotlib->stable-baselines3) (2.4.7)\n",
            "Requirement already satisfied: cycler>=0.10 in /usr/local/lib/python3.7/dist-packages (from matplotlib->stable-baselines3) (0.10.0)\n",
            "Requirement already satisfied: python-dateutil>=2.1 in /usr/local/lib/python3.7/dist-packages (from matplotlib->stable-baselines3) (2.8.1)\n",
            "Requirement already satisfied: kiwisolver>=1.0.1 in /usr/local/lib/python3.7/dist-packages (from matplotlib->stable-baselines3) (1.3.1)\n",
            "Requirement already satisfied: six in /usr/local/lib/python3.7/dist-packages (from cycler>=0.10->matplotlib->stable-baselines3) (1.15.0)\n",
            "Requirement already satisfied: pytz>=2017.2 in /usr/local/lib/python3.7/dist-packages (from pandas->stable-baselines3) (2018.9)\n",
            "Installing collected packages: stable-baselines3\n",
            "Successfully installed stable-baselines3-1.1.0\n",
            "Collecting box2d-py\n",
            "  Downloading box2d_py-2.3.8-cp37-cp37m-manylinux1_x86_64.whl (448 kB)\n",
            "\u001b[K     |████████████████████████████████| 448 kB 8.3 MB/s \n",
            "\u001b[?25hInstalling collected packages: box2d-py\n",
            "Successfully installed box2d-py-2.3.8\n"
          ],
          "name": "stdout"
        }
      ]
    },
    {
      "cell_type": "markdown",
      "metadata": {
        "id": "TJqvCuflRypc"
      },
      "source": [
        "Now, let us set some hyperparameters for our algorithm. This is the only part you would play around with, to solve the first part of the project. "
      ]
    },
    {
      "cell_type": "code",
      "metadata": {
        "id": "jNYlILMYSJ8h"
      },
      "source": [
        "nn_layers = [64,64] #This is the configuration of your neural network. Currently, we have two layers, each consisting of 64 neurons. \n",
        "                    #If you want three layers with 64 neurons each, set the value to [64,64,64] and so on. \n",
        "\n",
        "learning_rate = 0.001 #This is the step-size with which the gradient descent is carried out. \n",
        "                      #Tip: Use smaller step-sizes for larger networks. \n",
        "                    "
      ],
      "execution_count": null,
      "outputs": []
    },
    {
      "cell_type": "markdown",
      "metadata": {
        "id": "Qa1I2LIjTJ9O"
      },
      "source": [
        "Now, let us setup our model and the DQN algorithm. "
      ]
    },
    {
      "cell_type": "code",
      "metadata": {
        "colab": {
          "base_uri": "https://localhost:8080/"
        },
        "id": "qwVEd3ARTVX4",
        "outputId": "361b100d-3b33-4517-8c3b-48a50a7ffb99"
      },
      "source": [
        "import gym\n",
        "import os\n",
        "import torch as th\n",
        "from stable_baselines3 import DQN\n",
        "from stable_baselines3.common.evaluation import evaluate_policy\n",
        "from stable_baselines3.common.results_plotter import ts2xy, load_results\n",
        "from stable_baselines3.common.callbacks import EvalCallback\n",
        "from stable_baselines3.common.monitor import Monitor\n",
        "\n",
        "log_dir = \"/tmp/gym/\"\n",
        "os.makedirs(log_dir, exist_ok=True)\n",
        "\n",
        "# Create environment\n",
        "env = gym.make('LunarLander-v2')\n",
        "#You can also load other environments like cartpole, MountainCar, Acrobot. Refer to https://gym.openai.com/docs/ for descriptions.\n",
        "#For example, if you would like to load Cartpole, just replace the above statement with \"env = gym.make('CartPole-v1')\". \n",
        "\n",
        "env = Monitor(env, log_dir )\n",
        "\n",
        "callback = EvalCallback(env,log_path = log_dir, deterministic=True) #For evaluating the performance of the agent periodically and logging the results.\n",
        "policy_kwargs = dict(activation_fn=th.nn.ReLU,\n",
        "                     net_arch=nn_layers)\n",
        "model = DQN(\"MlpPolicy\", env,policy_kwargs = policy_kwargs, \n",
        "            learning_rate=learning_rate,\n",
        "            batch_size=1,  #for simplicity, we are not doing batch update.\n",
        "            buffer_size=1, #size of experience of replay buffer. Set to 1 as batch update is not done\n",
        "            learning_starts=1, #learning starts immediately!\n",
        "            gamma=0.99, #discount facto. range is between 0 and 1. \n",
        "            tau = 1,  #the soft update coefficient for updating the target network\n",
        "            target_update_interval=1, #update the target network immediately.\n",
        "            train_freq=(1,\"step\"), #train the network at every step.\n",
        "            max_grad_norm = 10, #the maximum value for the gradient clipping\n",
        "            exploration_initial_eps = 1, #initial value of random action probability\n",
        "            exploration_fraction = 0.5, #fraction of entire training period over which the exploration rate is reduced\n",
        "            gradient_steps = 1, #number of gradient steps \n",
        "            seed = 1, #seed for the pseudo random generators\n",
        "            verbose=1)\n",
        "\n",
        "#You can also experiment with other RL algorithms like A2C, PPO, DDPG etc. Refer to  https://stable-baselines3.readthedocs.io/en/master/guide/examples.html\n",
        "#for documentation. For example, if you would like to run DDPG, just replace \"DQN\" above with \"DDPG\".\n"
      ],
      "execution_count": null,
      "outputs": [
        {
          "output_type": "stream",
          "text": [
            "Using cpu device\n",
            "Wrapping the env in a DummyVecEnv.\n"
          ],
          "name": "stdout"
        }
      ]
    },
    {
      "cell_type": "markdown",
      "metadata": {
        "id": "5J3qR8UUTeNk"
      },
      "source": [
        "Before we train the model, let us look at an instance of Lunar Lander **before training**.  \n",
        "\n",
        "**Note:** The following code for rendering the video is taken from https://colab.research.google.com/github/jeffheaton/t81_558_deep_learning/blob/master/t81_558_class_12_01_ai_gym.ipynb#scrollTo=T9RpF49oOsZj"
      ]
    },
    {
      "cell_type": "code",
      "metadata": {
        "id": "ibxxXcE63Xri"
      },
      "source": [
        "import gym\n",
        "from gym.wrappers import Monitor\n",
        "import glob\n",
        "import io\n",
        "import base64\n",
        "from IPython.display import HTML\n",
        "from pyvirtualdisplay import Display\n",
        "from IPython import display as ipythondisplay\n",
        "\n",
        "display = Display(visible=0, size=(1400, 900))\n",
        "display.start()\n",
        "\n",
        "\"\"\"\n",
        "Utility functions to enable video recording of gym environment \n",
        "and displaying it.\n",
        "To enable video, just do \"env = wrap_env(env)\"\"\n",
        "\"\"\"\n",
        "\n",
        "def show_video():\n",
        "  mp4list = glob.glob('video/*.mp4')\n",
        "  if len(mp4list) > 0:\n",
        "    mp4 = mp4list[0]\n",
        "    video = io.open(mp4, 'r+b').read()\n",
        "    encoded = base64.b64encode(video)\n",
        "    ipythondisplay.display(HTML(data='''<video alt=\"test\" autoplay \n",
        "                loop controls style=\"height: 400px;\">\n",
        "                <source src=\"data:video/mp4;base64,{0}\" type=\"video/mp4\" />\n",
        "             </video>'''.format(encoded.decode('ascii'))))\n",
        "  else: \n",
        "    print(\"Could not find video\")\n",
        "    \n",
        "\n",
        "def wrap_env(env):\n",
        "  env = Monitor(env, './video', force=True)\n",
        "  return env"
      ],
      "execution_count": null,
      "outputs": []
    },
    {
      "cell_type": "code",
      "metadata": {
        "colab": {
          "base_uri": "https://localhost:8080/",
          "height": 421
        },
        "id": "obFXUqhwUA0c",
        "outputId": "9e010883-07b5-4287-e9de-7d30bd988f07"
      },
      "source": [
        "test_env = wrap_env(gym.make(\"LunarLander-v2\"))\n",
        "observation = test_env.reset()\n",
        "total_reward = 0\n",
        "while True:\n",
        "    test_env.render()\n",
        "    action, states = model.predict(observation, deterministic=True)\n",
        "    observation, reward, done, info = test_env.step(action) \n",
        "    total_reward += reward\n",
        "    if done: \n",
        "      break;\n",
        "\n",
        "# print(total_reward)\n",
        "test_env.close()\n",
        "show_video()"
      ],
      "execution_count": null,
      "outputs": [
        {
          "output_type": "display_data",
          "data": {
            "text/html": [
              "<video alt=\"test\" autoplay \n",
              "                loop controls style=\"height: 400px;\">\n",
              "                <source src=\"data:video/mp4;base64,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\" type=\"video/mp4\" />\n",
              "             </video>"
            ],
            "text/plain": [
              "<IPython.core.display.HTML object>"
            ]
          },
          "metadata": {
            "tags": []
          }
        }
      ]
    },
    {
      "cell_type": "markdown",
      "metadata": {
        "id": "aho3nKYwUE2f"
      },
      "source": [
        "From the video above, we see that the lander has crashed! \n",
        "It is now the time for training! \n"
      ]
    },
    {
      "cell_type": "code",
      "metadata": {
        "colab": {
          "base_uri": "https://localhost:8080/"
        },
        "id": "AnDSOprnVI46",
        "outputId": "79f73a08-a644-4156-a01f-21c315f79cef"
      },
      "source": [
        "model.learn(total_timesteps=100000, log_interval=10, callback = callback) \n",
        "#The performance of the training will be printed every 10 episodes. Change it to 1, if you wish to\n",
        "#view the performance at every training episode. "
      ],
      "execution_count": null,
      "outputs": [
        {
          "output_type": "stream",
          "text": [
            "----------------------------------\n",
            "| rollout/            |          |\n",
            "|    ep_len_mean      | 85.3     |\n",
            "|    ep_rew_mean      | -172     |\n",
            "|    exploration rate | 0.984    |\n",
            "| time/               |          |\n",
            "|    episodes         | 10       |\n",
            "|    fps              | 245      |\n",
            "|    time_elapsed     | 3        |\n",
            "|    total timesteps  | 853      |\n",
            "| train/              |          |\n",
            "|    learning_rate    | 0.001    |\n",
            "|    loss             | 1.9      |\n",
            "|    n_updates        | 851      |\n",
            "----------------------------------\n",
            "----------------------------------\n",
            "| rollout/            |          |\n",
            "|    ep_len_mean      | 89.5     |\n",
            "|    ep_rew_mean      | -177     |\n",
            "|    exploration rate | 0.966    |\n",
            "| time/               |          |\n",
            "|    episodes         | 20       |\n",
            "|    fps              | 253      |\n",
            "|    time_elapsed     | 7        |\n",
            "|    total timesteps  | 1791     |\n",
            "| train/              |          |\n",
            "|    learning_rate    | 0.001    |\n",
            "|    loss             | 11       |\n",
            "|    n_updates        | 1789     |\n",
            "----------------------------------\n",
            "----------------------------------\n",
            "| rollout/            |          |\n",
            "|    ep_len_mean      | 88.9     |\n",
            "|    ep_rew_mean      | -170     |\n",
            "|    exploration rate | 0.949    |\n",
            "| time/               |          |\n",
            "|    episodes         | 30       |\n",
            "|    fps              | 254      |\n",
            "|    time_elapsed     | 10       |\n",
            "|    total timesteps  | 2666     |\n",
            "| train/              |          |\n",
            "|    learning_rate    | 0.001    |\n",
            "|    loss             | 0.562    |\n",
            "|    n_updates        | 2664     |\n",
            "----------------------------------\n",
            "----------------------------------\n",
            "| rollout/            |          |\n",
            "|    ep_len_mean      | 90.6     |\n",
            "|    ep_rew_mean      | -170     |\n",
            "|    exploration rate | 0.931    |\n",
            "| time/               |          |\n",
            "|    episodes         | 40       |\n",
            "|    fps              | 256      |\n",
            "|    time_elapsed     | 14       |\n",
            "|    total timesteps  | 3625     |\n",
            "| train/              |          |\n",
            "|    learning_rate    | 0.001    |\n",
            "|    loss             | 0.186    |\n",
            "|    n_updates        | 3623     |\n",
            "----------------------------------\n",
            "----------------------------------\n",
            "| rollout/            |          |\n",
            "|    ep_len_mean      | 88.6     |\n",
            "|    ep_rew_mean      | -160     |\n",
            "|    exploration rate | 0.916    |\n",
            "| time/               |          |\n",
            "|    episodes         | 50       |\n",
            "|    fps              | 257      |\n",
            "|    time_elapsed     | 17       |\n",
            "|    total timesteps  | 4429     |\n",
            "| train/              |          |\n",
            "|    learning_rate    | 0.001    |\n",
            "|    loss             | 24.8     |\n",
            "|    n_updates        | 4427     |\n",
            "----------------------------------\n",
            "----------------------------------\n",
            "| rollout/            |          |\n",
            "|    ep_len_mean      | 89.5     |\n",
            "|    ep_rew_mean      | -158     |\n",
            "|    exploration rate | 0.898    |\n",
            "| time/               |          |\n",
            "|    episodes         | 60       |\n",
            "|    fps              | 257      |\n",
            "|    time_elapsed     | 20       |\n",
            "|    total timesteps  | 5373     |\n",
            "| train/              |          |\n",
            "|    learning_rate    | 0.001    |\n",
            "|    loss             | 15.1     |\n",
            "|    n_updates        | 5371     |\n",
            "----------------------------------\n",
            "----------------------------------\n",
            "| rollout/            |          |\n",
            "|    ep_len_mean      | 89.4     |\n",
            "|    ep_rew_mean      | -153     |\n",
            "|    exploration rate | 0.881    |\n",
            "| time/               |          |\n",
            "|    episodes         | 70       |\n",
            "|    fps              | 257      |\n",
            "|    time_elapsed     | 24       |\n",
            "|    total timesteps  | 6257     |\n",
            "| train/              |          |\n",
            "|    learning_rate    | 0.001    |\n",
            "|    loss             | 0.363    |\n",
            "|    n_updates        | 6255     |\n",
            "----------------------------------\n",
            "----------------------------------\n",
            "| rollout/            |          |\n",
            "|    ep_len_mean      | 89.8     |\n",
            "|    ep_rew_mean      | -149     |\n",
            "|    exploration rate | 0.864    |\n",
            "| time/               |          |\n",
            "|    episodes         | 80       |\n",
            "|    fps              | 258      |\n",
            "|    time_elapsed     | 27       |\n",
            "|    total timesteps  | 7182     |\n",
            "| train/              |          |\n",
            "|    learning_rate    | 0.001    |\n",
            "|    loss             | 14.6     |\n",
            "|    n_updates        | 7180     |\n",
            "----------------------------------\n",
            "----------------------------------\n",
            "| rollout/            |          |\n",
            "|    ep_len_mean      | 90       |\n",
            "|    ep_rew_mean      | -148     |\n",
            "|    exploration rate | 0.846    |\n",
            "| time/               |          |\n",
            "|    episodes         | 90       |\n",
            "|    fps              | 258      |\n",
            "|    time_elapsed     | 31       |\n",
            "|    total timesteps  | 8096     |\n",
            "| train/              |          |\n",
            "|    learning_rate    | 0.001    |\n",
            "|    loss             | 3.9      |\n",
            "|    n_updates        | 8094     |\n",
            "----------------------------------\n",
            "----------------------------------\n",
            "| rollout/            |          |\n",
            "|    ep_len_mean      | 91.2     |\n",
            "|    ep_rew_mean      | -146     |\n",
            "|    exploration rate | 0.827    |\n",
            "| time/               |          |\n",
            "|    episodes         | 100      |\n",
            "|    fps              | 259      |\n",
            "|    time_elapsed     | 35       |\n",
            "|    total timesteps  | 9119     |\n",
            "| train/              |          |\n",
            "|    learning_rate    | 0.001    |\n",
            "|    loss             | 9.72     |\n",
            "|    n_updates        | 9117     |\n",
            "----------------------------------\n",
            "Eval num_timesteps=10000, episode_reward=-844.94 +/- 370.24\n",
            "Episode length: 123.60 +/- 33.29\n",
            "----------------------------------\n",
            "| eval/               |          |\n",
            "|    mean_ep_length   | 124      |\n",
            "|    mean_reward      | -845     |\n",
            "| rollout/            |          |\n",
            "|    exploration rate | 0.81     |\n",
            "| time/               |          |\n",
            "|    total timesteps  | 10000    |\n",
            "| train/              |          |\n",
            "|    learning_rate    | 0.001    |\n",
            "|    loss             | 1.4      |\n",
            "|    n_updates        | 9998     |\n",
            "----------------------------------\n",
            "New best mean reward!\n",
            "----------------------------------\n",
            "| rollout/            |          |\n",
            "|    ep_len_mean      | 103      |\n",
            "|    ep_rew_mean      | -144     |\n",
            "|    exploration rate | 0.787    |\n",
            "| time/               |          |\n",
            "|    episodes         | 110      |\n",
            "|    fps              | 251      |\n",
            "|    time_elapsed     | 44       |\n",
            "|    total timesteps  | 11209    |\n",
            "| train/              |          |\n",
            "|    learning_rate    | 0.001    |\n",
            "|    loss             | 0.14     |\n",
            "|    n_updates        | 11207    |\n",
            "----------------------------------\n",
            "----------------------------------\n",
            "| rollout/            |          |\n",
            "|    ep_len_mean      | 105      |\n",
            "|    ep_rew_mean      | -139     |\n",
            "|    exploration rate | 0.765    |\n",
            "| time/               |          |\n",
            "|    episodes         | 120      |\n",
            "|    fps              | 251      |\n",
            "|    time_elapsed     | 49       |\n",
            "|    total timesteps  | 12344    |\n",
            "| train/              |          |\n",
            "|    learning_rate    | 0.001    |\n",
            "|    loss             | 0.0466   |\n",
            "|    n_updates        | 12342    |\n",
            "----------------------------------\n",
            "----------------------------------\n",
            "| rollout/            |          |\n",
            "|    ep_len_mean      | 106      |\n",
            "|    ep_rew_mean      | -134     |\n",
            "|    exploration rate | 0.746    |\n",
            "| time/               |          |\n",
            "|    episodes         | 130      |\n",
            "|    fps              | 252      |\n",
            "|    time_elapsed     | 52       |\n",
            "|    total timesteps  | 13354    |\n",
            "| train/              |          |\n",
            "|    learning_rate    | 0.001    |\n",
            "|    loss             | 10.5     |\n",
            "|    n_updates        | 13352    |\n",
            "----------------------------------\n",
            "----------------------------------\n",
            "| rollout/            |          |\n",
            "|    ep_len_mean      | 109      |\n",
            "|    ep_rew_mean      | -130     |\n",
            "|    exploration rate | 0.723    |\n",
            "| time/               |          |\n",
            "|    episodes         | 140      |\n",
            "|    fps              | 252      |\n",
            "|    time_elapsed     | 57       |\n",
            "|    total timesteps  | 14601    |\n",
            "| train/              |          |\n",
            "|    learning_rate    | 0.001    |\n",
            "|    loss             | 0.0413   |\n",
            "|    n_updates        | 14599    |\n",
            "----------------------------------\n",
            "----------------------------------\n",
            "| rollout/            |          |\n",
            "|    ep_len_mean      | 112      |\n",
            "|    ep_rew_mean      | -126     |\n",
            "|    exploration rate | 0.702    |\n",
            "| time/               |          |\n",
            "|    episodes         | 150      |\n",
            "|    fps              | 253      |\n",
            "|    time_elapsed     | 61       |\n",
            "|    total timesteps  | 15668    |\n",
            "| train/              |          |\n",
            "|    learning_rate    | 0.001    |\n",
            "|    loss             | 19.9     |\n",
            "|    n_updates        | 15666    |\n",
            "----------------------------------\n",
            "----------------------------------\n",
            "| rollout/            |          |\n",
            "|    ep_len_mean      | 114      |\n",
            "|    ep_rew_mean      | -119     |\n",
            "|    exploration rate | 0.681    |\n",
            "| time/               |          |\n",
            "|    episodes         | 160      |\n",
            "|    fps              | 253      |\n",
            "|    time_elapsed     | 66       |\n",
            "|    total timesteps  | 16793    |\n",
            "| train/              |          |\n",
            "|    learning_rate    | 0.001    |\n",
            "|    loss             | 7.29     |\n",
            "|    n_updates        | 16791    |\n",
            "----------------------------------\n",
            "----------------------------------\n",
            "| rollout/            |          |\n",
            "|    ep_len_mean      | 118      |\n",
            "|    ep_rew_mean      | -113     |\n",
            "|    exploration rate | 0.657    |\n",
            "| time/               |          |\n",
            "|    episodes         | 170      |\n",
            "|    fps              | 254      |\n",
            "|    time_elapsed     | 71       |\n",
            "|    total timesteps  | 18074    |\n",
            "| train/              |          |\n",
            "|    learning_rate    | 0.001    |\n",
            "|    loss             | 0.269    |\n",
            "|    n_updates        | 18072    |\n",
            "----------------------------------\n",
            "----------------------------------\n",
            "| rollout/            |          |\n",
            "|    ep_len_mean      | 120      |\n",
            "|    ep_rew_mean      | -108     |\n",
            "|    exploration rate | 0.634    |\n",
            "| time/               |          |\n",
            "|    episodes         | 180      |\n",
            "|    fps              | 254      |\n",
            "|    time_elapsed     | 75       |\n",
            "|    total timesteps  | 19241    |\n",
            "| train/              |          |\n",
            "|    learning_rate    | 0.001    |\n",
            "|    loss             | 26.3     |\n",
            "|    n_updates        | 19239    |\n",
            "----------------------------------\n",
            "Eval num_timesteps=20000, episode_reward=-344.31 +/- 45.73\n",
            "Episode length: 164.60 +/- 48.43\n",
            "----------------------------------\n",
            "| eval/               |          |\n",
            "|    mean_ep_length   | 165      |\n",
            "|    mean_reward      | -344     |\n",
            "| rollout/            |          |\n",
            "|    exploration rate | 0.62     |\n",
            "| time/               |          |\n",
            "|    total timesteps  | 20000    |\n",
            "| train/              |          |\n",
            "|    learning_rate    | 0.001    |\n",
            "|    loss             | 0.958    |\n",
            "|    n_updates        | 19998    |\n",
            "----------------------------------\n",
            "New best mean reward!\n",
            "----------------------------------\n",
            "| rollout/            |          |\n",
            "|    ep_len_mean      | 122      |\n",
            "|    ep_rew_mean      | -99.1    |\n",
            "|    exploration rate | 0.612    |\n",
            "| time/               |          |\n",
            "|    episodes         | 190      |\n",
            "|    fps              | 253      |\n",
            "|    time_elapsed     | 80       |\n",
            "|    total timesteps  | 20420    |\n",
            "| train/              |          |\n",
            "|    learning_rate    | 0.001    |\n",
            "|    loss             | 5.82     |\n",
            "|    n_updates        | 20418    |\n",
            "----------------------------------\n",
            "----------------------------------\n",
            "| rollout/            |          |\n",
            "|    ep_len_mean      | 123      |\n",
            "|    ep_rew_mean      | -91.1    |\n",
            "|    exploration rate | 0.591    |\n",
            "| time/               |          |\n",
            "|    episodes         | 200      |\n",
            "|    fps              | 253      |\n",
            "|    time_elapsed     | 84       |\n",
            "|    total timesteps  | 21514    |\n",
            "| train/              |          |\n",
            "|    learning_rate    | 0.001    |\n",
            "|    loss             | 9.27     |\n",
            "|    n_updates        | 21512    |\n",
            "----------------------------------\n",
            "----------------------------------\n",
            "| rollout/            |          |\n",
            "|    ep_len_mean      | 115      |\n",
            "|    ep_rew_mean      | -81      |\n",
            "|    exploration rate | 0.568    |\n",
            "| time/               |          |\n",
            "|    episodes         | 210      |\n",
            "|    fps              | 253      |\n",
            "|    time_elapsed     | 89       |\n",
            "|    total timesteps  | 22712    |\n",
            "| train/              |          |\n",
            "|    learning_rate    | 0.001    |\n",
            "|    loss             | 4.17     |\n",
            "|    n_updates        | 22710    |\n",
            "----------------------------------\n",
            "----------------------------------\n",
            "| rollout/            |          |\n",
            "|    ep_len_mean      | 117      |\n",
            "|    ep_rew_mean      | -71.6    |\n",
            "|    exploration rate | 0.544    |\n",
            "| time/               |          |\n",
            "|    episodes         | 220      |\n",
            "|    fps              | 254      |\n",
            "|    time_elapsed     | 94       |\n",
            "|    total timesteps  | 24015    |\n",
            "| train/              |          |\n",
            "|    learning_rate    | 0.001    |\n",
            "|    loss             | 15.6     |\n",
            "|    n_updates        | 24013    |\n",
            "----------------------------------\n",
            "----------------------------------\n",
            "| rollout/            |          |\n",
            "|    ep_len_mean      | 118      |\n",
            "|    ep_rew_mean      | -66.3    |\n",
            "|    exploration rate | 0.522    |\n",
            "| time/               |          |\n",
            "|    episodes         | 230      |\n",
            "|    fps              | 254      |\n",
            "|    time_elapsed     | 98       |\n",
            "|    total timesteps  | 25145    |\n",
            "| train/              |          |\n",
            "|    learning_rate    | 0.001    |\n",
            "|    loss             | 8.07     |\n",
            "|    n_updates        | 25143    |\n",
            "----------------------------------\n",
            "----------------------------------\n",
            "| rollout/            |          |\n",
            "|    ep_len_mean      | 117      |\n",
            "|    ep_rew_mean      | -58.1    |\n",
            "|    exploration rate | 0.5      |\n",
            "| time/               |          |\n",
            "|    episodes         | 240      |\n",
            "|    fps              | 254      |\n",
            "|    time_elapsed     | 103      |\n",
            "|    total timesteps  | 26321    |\n",
            "| train/              |          |\n",
            "|    learning_rate    | 0.001    |\n",
            "|    loss             | 7        |\n",
            "|    n_updates        | 26319    |\n",
            "----------------------------------\n",
            "----------------------------------\n",
            "| rollout/            |          |\n",
            "|    ep_len_mean      | 122      |\n",
            "|    ep_rew_mean      | -53      |\n",
            "|    exploration rate | 0.471    |\n",
            "| time/               |          |\n",
            "|    episodes         | 250      |\n",
            "|    fps              | 253      |\n",
            "|    time_elapsed     | 109      |\n",
            "|    total timesteps  | 27868    |\n",
            "| train/              |          |\n",
            "|    learning_rate    | 0.001    |\n",
            "|    loss             | 10.8     |\n",
            "|    n_updates        | 27866    |\n",
            "----------------------------------\n",
            "----------------------------------\n",
            "| rollout/            |          |\n",
            "|    ep_len_mean      | 127      |\n",
            "|    ep_rew_mean      | -48.5    |\n",
            "|    exploration rate | 0.44     |\n",
            "| time/               |          |\n",
            "|    episodes         | 260      |\n",
            "|    fps              | 253      |\n",
            "|    time_elapsed     | 116      |\n",
            "|    total timesteps  | 29460    |\n",
            "| train/              |          |\n",
            "|    learning_rate    | 0.001    |\n",
            "|    loss             | 10.5     |\n",
            "|    n_updates        | 29458    |\n",
            "----------------------------------\n",
            "Eval num_timesteps=30000, episode_reward=-339.86 +/- 45.03\n",
            "Episode length: 459.40 +/- 84.61\n",
            "----------------------------------\n",
            "| eval/               |          |\n",
            "|    mean_ep_length   | 459      |\n",
            "|    mean_reward      | -340     |\n",
            "| rollout/            |          |\n",
            "|    exploration rate | 0.43     |\n",
            "| time/               |          |\n",
            "|    total timesteps  | 30000    |\n",
            "| train/              |          |\n",
            "|    learning_rate    | 0.001    |\n",
            "|    loss             | 0.269    |\n",
            "|    n_updates        | 29998    |\n",
            "----------------------------------\n",
            "New best mean reward!\n",
            "----------------------------------\n",
            "| rollout/            |          |\n",
            "|    ep_len_mean      | 146      |\n",
            "|    ep_rew_mean      | -44.7    |\n",
            "|    exploration rate | 0.373    |\n",
            "| time/               |          |\n",
            "|    episodes         | 270      |\n",
            "|    fps              | 244      |\n",
            "|    time_elapsed     | 134      |\n",
            "|    total timesteps  | 33011    |\n",
            "| train/              |          |\n",
            "|    learning_rate    | 0.001    |\n",
            "|    loss             | 5.18     |\n",
            "|    n_updates        | 33009    |\n",
            "----------------------------------\n",
            "----------------------------------\n",
            "| rollout/            |          |\n",
            "|    ep_len_mean      | 176      |\n",
            "|    ep_rew_mean      | -34.9    |\n",
            "|    exploration rate | 0.295    |\n",
            "| time/               |          |\n",
            "|    episodes         | 280      |\n",
            "|    fps              | 238      |\n",
            "|    time_elapsed     | 155      |\n",
            "|    total timesteps  | 37125    |\n",
            "| train/              |          |\n",
            "|    learning_rate    | 0.001    |\n",
            "|    loss             | 6.15     |\n",
            "|    n_updates        | 37123    |\n",
            "----------------------------------\n",
            "Eval num_timesteps=40000, episode_reward=-30.48 +/- 25.62\n",
            "Episode length: 1000.00 +/- 0.00\n",
            "----------------------------------\n",
            "| eval/               |          |\n",
            "|    mean_ep_length   | 1e+03    |\n",
            "|    mean_reward      | -30.5    |\n",
            "| rollout/            |          |\n",
            "|    exploration rate | 0.24     |\n",
            "| time/               |          |\n",
            "|    total timesteps  | 40000    |\n",
            "| train/              |          |\n",
            "|    learning_rate    | 0.001    |\n",
            "|    loss             | 0.161    |\n",
            "|    n_updates        | 39998    |\n",
            "----------------------------------\n",
            "New best mean reward!\n",
            "----------------------------------\n",
            "| rollout/            |          |\n",
            "|    ep_len_mean      | 234      |\n",
            "|    ep_rew_mean      | -15      |\n",
            "|    exploration rate | 0.161    |\n",
            "| time/               |          |\n",
            "|    episodes         | 290      |\n",
            "|    fps              | 218      |\n",
            "|    time_elapsed     | 202      |\n",
            "|    total timesteps  | 44153    |\n",
            "| train/              |          |\n",
            "|    learning_rate    | 0.001    |\n",
            "|    loss             | 0.00693  |\n",
            "|    n_updates        | 44151    |\n",
            "----------------------------------\n",
            "----------------------------------\n",
            "| rollout/            |          |\n",
            "|    ep_len_mean      | 272      |\n",
            "|    ep_rew_mean      | -1.22    |\n",
            "|    exploration rate | 0.0665   |\n",
            "| time/               |          |\n",
            "|    episodes         | 300      |\n",
            "|    fps              | 215      |\n",
            "|    time_elapsed     | 227      |\n",
            "|    total timesteps  | 49132    |\n",
            "| train/              |          |\n",
            "|    learning_rate    | 0.001    |\n",
            "|    loss             | 0.00473  |\n",
            "|    n_updates        | 49130    |\n",
            "----------------------------------\n",
            "Eval num_timesteps=50000, episode_reward=140.99 +/- 104.92\n",
            "Episode length: 187.00 +/- 90.95\n",
            "----------------------------------\n",
            "| eval/               |          |\n",
            "|    mean_ep_length   | 187      |\n",
            "|    mean_reward      | 141      |\n",
            "| rollout/            |          |\n",
            "|    exploration rate | 0.05     |\n",
            "| time/               |          |\n",
            "|    total timesteps  | 50000    |\n",
            "| train/              |          |\n",
            "|    learning_rate    | 0.001    |\n",
            "|    loss             | 0.00397  |\n",
            "|    n_updates        | 49998    |\n",
            "----------------------------------\n",
            "New best mean reward!\n",
            "----------------------------------\n",
            "| rollout/            |          |\n",
            "|    ep_len_mean      | 286      |\n",
            "|    ep_rew_mean      | 3.34     |\n",
            "|    exploration rate | 0.05     |\n",
            "| time/               |          |\n",
            "|    episodes         | 310      |\n",
            "|    fps              | 215      |\n",
            "|    time_elapsed     | 242      |\n",
            "|    total timesteps  | 52279    |\n",
            "| train/              |          |\n",
            "|    learning_rate    | 0.001    |\n",
            "|    loss             | 1.79     |\n",
            "|    n_updates        | 52277    |\n",
            "----------------------------------\n",
            "----------------------------------\n",
            "| rollout/            |          |\n",
            "|    ep_len_mean      | 305      |\n",
            "|    ep_rew_mean      | 15.1     |\n",
            "|    exploration rate | 0.05     |\n",
            "| time/               |          |\n",
            "|    episodes         | 320      |\n",
            "|    fps              | 215      |\n",
            "|    time_elapsed     | 257      |\n",
            "|    total timesteps  | 55501    |\n",
            "| train/              |          |\n",
            "|    learning_rate    | 0.001    |\n",
            "|    loss             | 0.00447  |\n",
            "|    n_updates        | 55499    |\n",
            "----------------------------------\n",
            "Eval num_timesteps=60000, episode_reward=-45.50 +/- 19.66\n",
            "Episode length: 1000.00 +/- 0.00\n",
            "----------------------------------\n",
            "| eval/               |          |\n",
            "|    mean_ep_length   | 1e+03    |\n",
            "|    mean_reward      | -45.5    |\n",
            "| rollout/            |          |\n",
            "|    exploration rate | 0.05     |\n",
            "| time/               |          |\n",
            "|    total timesteps  | 60000    |\n",
            "| train/              |          |\n",
            "|    learning_rate    | 0.001    |\n",
            "|    loss             | 0.187    |\n",
            "|    n_updates        | 59998    |\n",
            "----------------------------------\n",
            "----------------------------------\n",
            "| rollout/            |          |\n",
            "|    ep_len_mean      | 343      |\n",
            "|    ep_rew_mean      | 30.5     |\n",
            "|    exploration rate | 0.05     |\n",
            "| time/               |          |\n",
            "|    episodes         | 330      |\n",
            "|    fps              | 207      |\n",
            "|    time_elapsed     | 292      |\n",
            "|    total timesteps  | 60513    |\n",
            "| train/              |          |\n",
            "|    learning_rate    | 0.001    |\n",
            "|    loss             | 22.6     |\n",
            "|    n_updates        | 60511    |\n",
            "----------------------------------\n",
            "----------------------------------\n",
            "| rollout/            |          |\n",
            "|    ep_len_mean      | 370      |\n",
            "|    ep_rew_mean      | 56.1     |\n",
            "|    exploration rate | 0.05     |\n",
            "| time/               |          |\n",
            "|    episodes         | 340      |\n",
            "|    fps              | 207      |\n",
            "|    time_elapsed     | 310      |\n",
            "|    total timesteps  | 64391    |\n",
            "| train/              |          |\n",
            "|    learning_rate    | 0.001    |\n",
            "|    loss             | 0.00312  |\n",
            "|    n_updates        | 64389    |\n",
            "----------------------------------\n",
            "----------------------------------\n",
            "| rollout/            |          |\n",
            "|    ep_len_mean      | 394      |\n",
            "|    ep_rew_mean      | 75.5     |\n",
            "|    exploration rate | 0.05     |\n",
            "| time/               |          |\n",
            "|    episodes         | 350      |\n",
            "|    fps              | 207      |\n",
            "|    time_elapsed     | 329      |\n",
            "|    total timesteps  | 68336    |\n",
            "| train/              |          |\n",
            "|    learning_rate    | 0.001    |\n",
            "|    loss             | 0.00104  |\n",
            "|    n_updates        | 68334    |\n",
            "----------------------------------\n",
            "Eval num_timesteps=70000, episode_reward=23.22 +/- 121.02\n",
            "Episode length: 317.80 +/- 88.52\n",
            "----------------------------------\n",
            "| eval/               |          |\n",
            "|    mean_ep_length   | 318      |\n",
            "|    mean_reward      | 23.2     |\n",
            "| rollout/            |          |\n",
            "|    exploration rate | 0.05     |\n",
            "| time/               |          |\n",
            "|    total timesteps  | 70000    |\n",
            "| train/              |          |\n",
            "|    learning_rate    | 0.001    |\n",
            "|    loss             | 0.0516   |\n",
            "|    n_updates        | 69998    |\n",
            "----------------------------------\n",
            "----------------------------------\n",
            "| rollout/            |          |\n",
            "|    ep_len_mean      | 416      |\n",
            "|    ep_rew_mean      | 94.2     |\n",
            "|    exploration rate | 0.05     |\n",
            "| time/               |          |\n",
            "|    episodes         | 360      |\n",
            "|    fps              | 206      |\n",
            "|    time_elapsed     | 349      |\n",
            "|    total timesteps  | 72373    |\n",
            "| train/              |          |\n",
            "|    learning_rate    | 0.001    |\n",
            "|    loss             | 0.546    |\n",
            "|    n_updates        | 72371    |\n",
            "----------------------------------\n",
            "----------------------------------\n",
            "| rollout/            |          |\n",
            "|    ep_len_mean      | 423      |\n",
            "|    ep_rew_mean      | 115      |\n",
            "|    exploration rate | 0.05     |\n",
            "| time/               |          |\n",
            "|    episodes         | 370      |\n",
            "|    fps              | 207      |\n",
            "|    time_elapsed     | 368      |\n",
            "|    total timesteps  | 76373    |\n",
            "| train/              |          |\n",
            "|    learning_rate    | 0.001    |\n",
            "|    loss             | 0.00817  |\n",
            "|    n_updates        | 76371    |\n",
            "----------------------------------\n",
            "----------------------------------\n",
            "| rollout/            |          |\n",
            "|    ep_len_mean      | 411      |\n",
            "|    ep_rew_mean      | 125      |\n",
            "|    exploration rate | 0.05     |\n",
            "| time/               |          |\n",
            "|    episodes         | 380      |\n",
            "|    fps              | 207      |\n",
            "|    time_elapsed     | 381      |\n",
            "|    total timesteps  | 79286    |\n",
            "| train/              |          |\n",
            "|    learning_rate    | 0.001    |\n",
            "|    loss             | 0.0381   |\n",
            "|    n_updates        | 79284    |\n",
            "----------------------------------\n",
            "Eval num_timesteps=80000, episode_reward=-11.67 +/- 21.72\n",
            "Episode length: 1000.00 +/- 0.00\n",
            "----------------------------------\n",
            "| eval/               |          |\n",
            "|    mean_ep_length   | 1e+03    |\n",
            "|    mean_reward      | -11.7    |\n",
            "| rollout/            |          |\n",
            "|    exploration rate | 0.05     |\n",
            "| time/               |          |\n",
            "|    total timesteps  | 80000    |\n",
            "| train/              |          |\n",
            "|    learning_rate    | 0.001    |\n",
            "|    loss             | 0.0887   |\n",
            "|    n_updates        | 79998    |\n",
            "----------------------------------\n",
            "----------------------------------\n",
            "| rollout/            |          |\n",
            "|    ep_len_mean      | 387      |\n",
            "|    ep_rew_mean      | 128      |\n",
            "|    exploration rate | 0.05     |\n",
            "| time/               |          |\n",
            "|    episodes         | 390      |\n",
            "|    fps              | 203      |\n",
            "|    time_elapsed     | 414      |\n",
            "|    total timesteps  | 84207    |\n",
            "| train/              |          |\n",
            "|    learning_rate    | 0.001    |\n",
            "|    loss             | 0.00233  |\n",
            "|    n_updates        | 84205    |\n",
            "----------------------------------\n",
            "----------------------------------\n",
            "| rollout/            |          |\n",
            "|    ep_len_mean      | 374      |\n",
            "|    ep_rew_mean      | 126      |\n",
            "|    exploration rate | 0.05     |\n",
            "| time/               |          |\n",
            "|    episodes         | 400      |\n",
            "|    fps              | 203      |\n",
            "|    time_elapsed     | 431      |\n",
            "|    total timesteps  | 87809    |\n",
            "| train/              |          |\n",
            "|    learning_rate    | 0.001    |\n",
            "|    loss             | 3.17     |\n",
            "|    n_updates        | 87807    |\n",
            "----------------------------------\n",
            "Eval num_timesteps=90000, episode_reward=110.11 +/- 88.98\n",
            "Episode length: 595.60 +/- 277.44\n",
            "----------------------------------\n",
            "| eval/               |          |\n",
            "|    mean_ep_length   | 596      |\n",
            "|    mean_reward      | 110      |\n",
            "| rollout/            |          |\n",
            "|    exploration rate | 0.05     |\n",
            "| time/               |          |\n",
            "|    total timesteps  | 90000    |\n",
            "| train/              |          |\n",
            "|    learning_rate    | 0.001    |\n",
            "|    loss             | 0.947    |\n",
            "|    n_updates        | 89998    |\n",
            "----------------------------------\n",
            "----------------------------------\n",
            "| rollout/            |          |\n",
            "|    ep_len_mean      | 385      |\n",
            "|    ep_rew_mean      | 130      |\n",
            "|    exploration rate | 0.05     |\n",
            "| time/               |          |\n",
            "|    episodes         | 410      |\n",
            "|    fps              | 202      |\n",
            "|    time_elapsed     | 453      |\n",
            "|    total timesteps  | 91817    |\n",
            "| train/              |          |\n",
            "|    learning_rate    | 0.001    |\n",
            "|    loss             | 0.00697  |\n",
            "|    n_updates        | 91815    |\n",
            "----------------------------------\n",
            "----------------------------------\n",
            "| rollout/            |          |\n",
            "|    ep_len_mean      | 392      |\n",
            "|    ep_rew_mean      | 126      |\n",
            "|    exploration rate | 0.05     |\n",
            "| time/               |          |\n",
            "|    episodes         | 420      |\n",
            "|    fps              | 203      |\n",
            "|    time_elapsed     | 471      |\n",
            "|    total timesteps  | 95786    |\n",
            "| train/              |          |\n",
            "|    learning_rate    | 0.001    |\n",
            "|    loss             | 0.00273  |\n",
            "|    n_updates        | 95784    |\n",
            "----------------------------------\n",
            "----------------------------------\n",
            "| rollout/            |          |\n",
            "|    ep_len_mean      | 377      |\n",
            "|    ep_rew_mean      | 127      |\n",
            "|    exploration rate | 0.05     |\n",
            "| time/               |          |\n",
            "|    episodes         | 430      |\n",
            "|    fps              | 203      |\n",
            "|    time_elapsed     | 487      |\n",
            "|    total timesteps  | 99305    |\n",
            "| train/              |          |\n",
            "|    learning_rate    | 0.001    |\n",
            "|    loss             | 0.0193   |\n",
            "|    n_updates        | 99303    |\n",
            "----------------------------------\n",
            "Eval num_timesteps=100000, episode_reward=63.41 +/- 130.02\n",
            "Episode length: 259.80 +/- 47.47\n",
            "----------------------------------\n",
            "| eval/               |          |\n",
            "|    mean_ep_length   | 260      |\n",
            "|    mean_reward      | 63.4     |\n",
            "| rollout/            |          |\n",
            "|    exploration rate | 0.05     |\n",
            "| time/               |          |\n",
            "|    total timesteps  | 100000   |\n",
            "| train/              |          |\n",
            "|    learning_rate    | 0.001    |\n",
            "|    loss             | 0.0387   |\n",
            "|    n_updates        | 99998    |\n",
            "----------------------------------\n"
          ],
          "name": "stdout"
        },
        {
          "output_type": "execute_result",
          "data": {
            "text/plain": [
              "<stable_baselines3.dqn.dqn.DQN at 0x7f8b337c31d0>"
            ]
          },
          "metadata": {
            "tags": []
          },
          "execution_count": 6
        }
      ]
    },
    {
      "cell_type": "markdown",
      "metadata": {
        "id": "k3OO9F6_V7Q3"
      },
      "source": [
        "The training takes time. We encourage you to analyze the output logs. The main component of the logs that you should track is \"ep_rew_mean\" (mean of episode rewards). As the training proceeds, the value of \"ep_rew_mean\" should increase. The improvement need not be monotonic, but the trend should be upwards! \n",
        "\n",
        "Along with training, we are also periodically evaluating the performance of the current model during the training. This was reported in logs as follows:\n",
        "\n",
        "*Eval num_timesteps=100000, episode_reward=63.41 +/- 130.02*\n",
        "\n",
        "*Episode length: 259.80 +/- 47.47* \n",
        "\n"
      ]
    },
    {
      "cell_type": "markdown",
      "metadata": {
        "id": "4uWSBAXlOC4t"
      },
      "source": [
        "Now, let us look at the visual performance of the lander. \n",
        "\n",
        "**Note:** The performance varies across different seeds and runs. This code is not optimized to be stable across all runs and seeds. We hope you will be able to find an optimal configuration! "
      ]
    },
    {
      "cell_type": "code",
      "metadata": {
        "colab": {
          "base_uri": "https://localhost:8080/",
          "height": 421
        },
        "id": "I7-gK0IFXbJH",
        "outputId": "cd24fa74-d22b-4ce6-dcab-ca7d1662b3d3"
      },
      "source": [
        "env = wrap_env(gym.make(\"LunarLander-v2\"))\n",
        "observation = env.reset()\n",
        "while True:\n",
        "    env.render()\n",
        "    action, _states = model.predict(observation, deterministic=True)\n",
        "    observation, reward, done, info = env.step(action) \n",
        "    if done: \n",
        "      break;\n",
        "            \n",
        "env.close()\n",
        "show_video()"
      ],
      "execution_count": null,
      "outputs": [
        {
          "output_type": "display_data",
          "data": {
            "text/html": [
              "<video alt=\"test\" autoplay \n",
              "                loop controls style=\"height: 400px;\">\n",
              "                <source src=\"data:video/mp4;base64,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\" type=\"video/mp4\" />\n",
              "             </video>"
            ],
            "text/plain": [
              "<IPython.core.display.HTML object>"
            ]
          },
          "metadata": {
            "tags": []
          }
        }
      ]
    },
    {
      "cell_type": "markdown",
      "metadata": {
        "id": "XGitUPm-LvlM"
      },
      "source": [
        "The lander has landed safely!!\n",
        "\n",
        "Let us analyze its performance (speed and stability). For this purpose, we plot the number of time steps on the X-axis and the episodic reward given by the trained model on the Y-axis. "
      ]
    },
    {
      "cell_type": "code",
      "metadata": {
        "colab": {
          "base_uri": "https://localhost:8080/",
          "height": 300
        },
        "id": "N5eEhuiikhlX",
        "outputId": "6f298a59-518a-4f9d-9709-c119f94b8700"
      },
      "source": [
        "from stable_baselines3.common.results_plotter import ts2xy, load_results\n",
        "import matplotlib.pyplot as plt\n",
        "\n",
        "x, y = ts2xy(load_results(log_dir), 'timesteps') #Organising the logged results in to a clean format for plotting. \n",
        "plt.plot(x,y)\n",
        "plt.ylim([-300,300])\n",
        "plt.xlabel('Timesteps')\n",
        "plt.ylabel('Episode Rewards')"
      ],
      "execution_count": null,
      "outputs": [
        {
          "output_type": "execute_result",
          "data": {
            "text/plain": [
              "Text(0, 0.5, 'Episode Rewards')"
            ]
          },
          "metadata": {
            "tags": []
          },
          "execution_count": 13
        },
        {
          "output_type": "display_data",
          "data": {
            "image/png": "[encoded data removed]",
            "text/plain": [
              "<Figure size 432x288 with 1 Axes>"
            ]
          },
          "metadata": {
            "tags": [],
            "needs_background": "light"
          }
        }
      ]
    },
    {
      "cell_type": "markdown",
      "metadata": {
        "id": "Vda0_B9xYlt4"
      },
      "source": [
        "From the above plot, we observe that, although the maximum reward is achieved quickly. Achieving an episodic reward of > 200 is good. We see that the agent has achieved it in less than 50000 timesteps (speed is good!). However, there are a lot of fluctuations in the performance (stability is not good!). \n",
        "\n",
        "Your objective now is to modify the model parameters (nn_layers, learning_rate in the code cell #2 above), run all the cells following it and investigate the stability and speed of the chosen configuration.   \n"
      ]
    },
    {
      "cell_type": "markdown",
      "metadata": {
        "id": "J0ZpcislatDy"
      },
      "source": [
        "# **Additional Project Ideas**"
      ]
    },
    {
      "cell_type": "markdown",
      "metadata": {
        "id": "jUmG7WKIa22k"
      },
      "source": [
        "**1. Play with exploration-exploitation trade-off.**\n",
        "\n",
        "Exploration (selecting random actions) and exploitation (selecting greedy action) is a crucial component of the DQN algorithm. Explore random actions for a long time will slow down the training process. At the same time, if all actions are not explored enough, it might lead to a sub-optimal performance. In the DQN code above, we have used the following parameters:"
      ]
    },
    {
      "cell_type": "code",
      "metadata": {
        "id": "dbXAgZ8xc_Rf"
      },
      "source": [
        "exploration_initial_eps = 1, #initial value of random action probability. Range is between 0 and 1.\n",
        "exploration_fraction = 0.5, #fraction of entire training period over which the exploration rate is reduced. Range is between 0 and 1.\n",
        "exploration_final_eps = 0.05 # (set by defualt) final value of random action probability. Range is between 0 and 1. "
      ],
      "execution_count": null,
      "outputs": []
    },
    {
      "cell_type": "markdown",
      "metadata": {
        "id": "Ttht2vnHdaEU"
      },
      "source": [
        "Your objective is to play around with these parameters and analyze their performance (speed and stability). You can modify these parameters and set them as arguments in DQN(...,exploration_initial_eps = 1, exploration_fraction = 0.5, exploration_final_eps = 0.05,...). "
      ]
    },
    {
      "cell_type": "markdown",
      "metadata": {
        "id": "qBJdHsazd0sT"
      },
      "source": [
        "**2. Reward Shaping**\n",
        "\n",
        "Your objective here is to construct a modified reward function that improves the performance of the Lunar Lander. To this end, you would have to create your own custom environment. An example of a custom environment is given below:"
      ]
    },
    {
      "cell_type": "code",
      "metadata": {
        "id": "j_QEUGN1KHSq"
      },
      "source": [
        "#Taken from https://stable-baselines3.readthedocs.io/en/master/guide/custom_env.html\n",
        "import gym\n",
        "from gym import spaces\n",
        "\n",
        "class CustomEnv(gym.Env):\n",
        "  \"\"\"Custom Environment that follows gym interface\"\"\"\n",
        "  metadata = {'render.modes': ['human']}\n",
        "\n",
        "  def __init__(self, arg1, arg2, ...):\n",
        "    super(CustomEnv, self).__init__()\n",
        "    # Define action and observation space\n",
        "    # They must be gym.spaces objects\n",
        "    # Example when using discrete actions:\n",
        "    self.action_space = spaces.Discrete(N_DISCRETE_ACTIONS)\n",
        "    # Example for using image as input (channel-first; channel-last also works):\n",
        "    self.observation_space = spaces.Box(low=0, high=255,\n",
        "                                        shape=(N_CHANNELS, HEIGHT, WIDTH), dtype=np.uint8)\n",
        "\n",
        "  def step(self, action):\n",
        "    ...\n",
        "    return observation, reward, done, info\n",
        "  def reset(self):\n",
        "    ...\n",
        "    return observation  # reward, done, info can't be included\n",
        "  def render(self, mode='human'):\n",
        "    ...\n",
        "  def close (self):\n",
        "    ..."
      ],
      "execution_count": null,
      "outputs": []
    },
    {
      "cell_type": "markdown",
      "metadata": {
        "id": "d_k90yU4KRST"
      },
      "source": [
        "As you are only changing the reward structure, you can inherit the original Lunar Lander environment from https://github.com/openai/gym/blob/master/gym/envs/box2d/lunar_lander.py and modify just the \"step\" function. Focus on modifying the following part of the code in the \"step\" function\n"
      ]
    },
    {
      "cell_type": "code",
      "metadata": {
        "id": "9o9hN6DtIv0M"
      },
      "source": [
        "def step(self, actions):\n",
        "  ...\n",
        "  ...\n",
        "  ...\n",
        "  reward = 0\n",
        "        shaping = (\n",
        "            -100 * np.sqrt(state[0] * state[0] + state[1] * state[1])\n",
        "            - 100 * np.sqrt(state[2] * state[2] + state[3] * state[3])\n",
        "            - 100 * abs(state[4])\n",
        "            + 10 * state[6]\n",
        "            + 10 * state[7]\n",
        "        )  # And ten points for legs contact, the idea is if you\n",
        "        # lose contact again after landing, you get negative reward\n",
        "        if self.prev_shaping is not None:\n",
        "            reward = shaping - self.prev_shaping\n",
        "        self.prev_shaping = shaping\n",
        "\n",
        "        reward -= (\n",
        "            m_power * 0.30\n",
        "        )  # less fuel spent is better, about -30 for heuristic landing. You should modify these values. \n",
        "        reward -= s_power * 0.03\n",
        "\n",
        "        done = False\n",
        "        if self.game_over or abs(state[0]) >= 1.0:\n",
        "            done = True\n",
        "            reward = -100 \n",
        "        if not self.lander.awake:\n",
        "            done = True\n",
        "            reward = +100\n",
        "        return np.array(state, dtype=np.float32), reward, done, {}"
      ],
      "execution_count": null,
      "outputs": []
    },
    {
      "cell_type": "markdown",
      "metadata": {
        "id": "kaNOpJthJB6U"
      },
      "source": [
        "Once you have cutomized your own environment, you can execute that environment by just calling:"
      ]
    },
    {
      "cell_type": "code",
      "metadata": {
        "id": "iaSBqedMf2pG"
      },
      "source": [
        "env = Custom_LunarLander()\n",
        "# Refer to https://stable-baselines3.readthedocs.io/en/master/guide/custom_env.html, if you would like to create more complex environments."
      ],
      "execution_count": null,
      "outputs": []
    },
    {
      "cell_type": "markdown",
      "metadata": {
        "id": "dWKsgWnZIZaN"
      },
      "source": [
        ""
      ]
    },
    {
      "cell_type": "markdown",
      "metadata": {
        "id": "89Nequ14gR67"
      },
      "source": [
        "**3. Identify the state information crucial to its performance.**\n",
        "\n",
        "Your objective here is to alter the input state information and analyze the performance. The input state of the Lunar Lander consists of following components:\n",
        "\n",
        "  1. Horizontal Position\n",
        "  2. Vertical Position\n",
        "  3. Horizontal Velocity\n",
        "  4. Vertical Velocity\n",
        "  5. Angle\n",
        "  6. Angular Velocity\n",
        "  7. Left Leg Contact\n",
        "  8. Right Leg Contact\n",
        "\n",
        "You can train the algorithm by masking one of the eight components at a time and understand how that affects the performance of the algorithm. Similar to the reward shaping task, you would have to create a custom environment and modify the state space. Again, you can inherit all the necessary functions and modify the following portion of the \"Step\" function:"
      ]
    },
    {
      "cell_type": "code",
      "metadata": {
        "id": "Oqn1IB-vLLUA"
      },
      "source": [
        "def step(self, actions):\n",
        "  ...\n",
        "  ...\n",
        "  ...\n",
        "  state = [ # Remove one component at a time to investigate the effect on performance!\n",
        "            (pos.x - VIEWPORT_W / SCALE / 2) / (VIEWPORT_W / SCALE / 2),\n",
        "            (pos.y - (self.helipad_y + LEG_DOWN / SCALE)) / (VIEWPORT_H / SCALE / 2),\n",
        "            vel.x * (VIEWPORT_W / SCALE / 2) / FPS,\n",
        "            vel.y * (VIEWPORT_H / SCALE / 2) / FPS,\n",
        "            self.lander.angle,\n",
        "            20.0 * self.lander.angularVelocity / FPS,\n",
        "            1.0 if self.legs[0].ground_contact else 0.0,\n",
        "            1.0 if self.legs[1].ground_contact else 0.0,\n",
        "        ]"
      ],
      "execution_count": null,
      "outputs": []
    },
    {
      "cell_type": "markdown",
      "metadata": {
        "id": "qXa_nPi4xkMr"
      },
      "source": [
        "**4. Extension to Atari Games**\n",
        "\n",
        "In the Lunar Lander task, the input to the algorithm is a vector of state information. Deep RL algorithms can also be applied when the input to the training is image frames, which is the case in the Atari games. For example, consider an Atari game - Pong. In this environment, the observation is an RGB image of the screen, which is an array of shape (210, 160, 3). To train the Pong game, you can start with the following sample code:"
      ]
    },
    {
      "cell_type": "code",
      "metadata": {
        "id": "V3hTBtn061RG"
      },
      "source": [
        "# Taken from: https://colab.research.google.com/github/Stable-Baselines-Team/rl-colab-notebooks/blob/sb3/atari_games.ipynb#scrollTo=f3K4rMXwimBO\n",
        "\n",
        "env = make_atari_env('PongNoFrameskip-v4', n_envs=4, seed=0)\n",
        "#n_envs:  the number of environment you wish to have in subprocesses\n",
        "# Stack 4 frames\n",
        "env = VecFrameStack(env, n_stack=4)\n",
        "\n",
        "model = DQN('CnnPolicy', env, verbose=1) #Note the difference here! We use 'CnnPolicy\" here instead of 'MlpPolicy' as the input is frames. \n",
        "model.learn(total_timesteps=10000)"
      ],
      "execution_count": null,
      "outputs": []
    },
    {
      "cell_type": "markdown",
      "metadata": {
        "id": "DCLJ9M_Rjt1X"
      },
      "source": [
        "**5. Obstacle Avoidance and Transfer Learning**\n",
        "\n",
        "Your obstacle here is to add an obstacle in the path of the lunar lander (by creating a custom environment as described in point 2 above) and train the model such that the lander lands safely, avoiding collisions. \n",
        "\n",
        "You would first want to devise a mechansim for adding obstacles. For example, you could have an imaginary obstacle at some horizantal and vertical position cooridnates and modify the reward function such that a penalty is levied if the lander comes close to it. \n",
        "\n",
        "An interesting approach to solve this problem is to apply the techniques of transfer learning. For example, you could initialise the neural network model with the weights of the trained model on the original problem to improve the sample effeciency. This can be done using the following code:\n",
        "\n",
        "\n",
        "\n",
        "\n"
      ]
    },
    {
      "cell_type": "code",
      "metadata": {
        "id": "1V1ZtsfDxXd-"
      },
      "source": [
        "model = load(load_path, env=gym.make('LunarLander-v2'), custom_objects=None, **kwargs)"
      ],
      "execution_count": null,
      "outputs": []
    },
    {
      "cell_type": "markdown",
      "metadata": {
        "id": "JYjfMXg6xUo4"
      },
      "source": [
        "Following are some of the resources on transfer learning that you would want to start with. \n",
        "\n",
        "**Research Papers**\n",
        "Surveys:\n",
        "1. (Long, Old, Highly cited) Taylor, M. E.,  et al. (2009). Transfer learning for reinforcement learning domains. https://www.jmlr.org/papers/volume10/taylor09a/taylor09a.pdf\n",
        "\n",
        "2. (Medium, Old, Good for a quick read) Lazaric, A. (2012). Transfer in reinforcement learning: a framework and a survey. https://hal.inria.fr/docs/00/77/26/26/PDF/transfer.pdf\n",
        "\n",
        "3. (Medium, Recent, Good for a quick read) Zhu, Z., Lin, K., & Zhou, J. (2020). Transfer learning in deep reinforcement learning. https://arxiv.org/pdf/2009.07888.pdf\n",
        "\n",
        "4. Specific example:\n",
        "Barreto, A., et al. (2016).  Successor features for transfer in reinforcement learning. https://arxiv.org/pdf/1606.05312"
      ]
    },
    {
      "cell_type": "markdown",
      "metadata": {
        "id": "E-Rbo54g5YwL"
      },
      "source": [
        "**5(b) Transfer Learning in minigrid environment**\n",
        "\n",
        "These are some simple gridworld gym environments designed to be particularly simple, lightweight and fast. Refer to https://github.com/maximecb/gym-minigrid for description of the environments. An example to load a minigrid environment is given below:"
      ]
    },
    {
      "cell_type": "code",
      "metadata": {
        "id": "RGAqcMjC58z9"
      },
      "source": [
        "!pip install gym-minigrid\n",
        "import gym_minigrid\n",
        "env = gym.make('MiniGrid-Empty-5x5-v0')"
      ],
      "execution_count": null,
      "outputs": []
    },
    {
      "cell_type": "markdown",
      "metadata": {
        "id": "pNERbLRa6Qsm"
      },
      "source": [
        "You can train a standard DQN agent in this env by wrapping the env with full image observation wrappers:\n"
      ]
    },
    {
      "cell_type": "code",
      "metadata": {
        "id": "JpyceTzp6U28"
      },
      "source": [
        "env = gym_minigrid.wrappers.ImgObsWrapper(gym_minigrid.wrappers.RGBImgObsWrapper(env))"
      ],
      "execution_count": null,
      "outputs": []
    },
    {
      "cell_type": "markdown",
      "metadata": {
        "id": "iMfU3g2w6Vq9"
      },
      "source": [
        "Note that with full image observations, the shape of the image observations may differ between envs. For e.g., MiniGrid-Empty-5x5-v0 is (40,40,3) while MiniGrid-Empty-8x8-v0 is (64,64,3). So you may need to resize the observations for transfer learning to work with the same DQN architecture.\n",
        "\n",
        "Now try training a DQN (or another method) in one (or multiple) minigrid env(s),and see if that knowledge transfers to another (or multiple other) minigrid env(s).\n"
      ]
    },
    {
      "cell_type": "markdown",
      "metadata": {
        "id": "IZxCUTGBp4Kq"
      },
      "source": [
        "**6. Preference-Based RL (PBRL)**\n",
        "\n",
        "PBRL is an exciting sub-area in RL where the traditional reward structure is replaced with human preferences. This setting is very useful in applications where it is difficult to construct a reward function. \n",
        "\n",
        "In the earlier section, we have successfully trained the lunar lander to land safely. Here, the path that the lander follows to land safely can be arbitrary. In this project, using the techniques of PBRL, you will solve the lunar lander problem with an additional requirement that the lander should follow a specially curated path (for example, a straight line path). Following are some of the resources that will help you to get started with this project. \n",
        "\n",
        "**Research papers:**\n",
        "1. Deep Reinforcement Learning\n",
        "from Human Preferences https://papers.nips.cc/paper/2017/file/d5e2c0adad503c91f91df240d0cd4e49-Paper.pdf\n",
        "2. Deep Q-learning from Demonstrations https://arxiv.org/pdf/1704.03732.pdf\n",
        "3. Reward learning from human preferences https://arxiv.org/pdf/1811.06521.pdf\n",
        "4. T-REX https://arxiv.org/pdf/1904.06387.pdf\n",
        "\n",
        "**Code Bases:**\n",
        "1. https://github.com/nottombrown/rl-teacher\n",
        "2. https://github.com/hiwonjoon/ICML2019-TREX\n"
      ]
    },
    {
      "cell_type": "markdown",
      "metadata": {
        "id": "JwmqCHr8fwgt"
      },
      "source": [
        "\n",
        "#**References**\n",
        "\n",
        "1. Stable Baselines Framework: https://stable-baselines3.readthedocs.io/en/master/guide/examples.html\n",
        "\n",
        "2. Lunar Lander Environment: https://gym.openai.com/envs/LunarLander-v2/\n",
        "\n",
        "3. OpenAI gym environments: https://gym.openai.com/docs/\n",
        "\n",
        "4. A good reference for introduction to RL: http://incompleteideas.net/book/the-book-2nd.html\n"
      ]
    }
  ]
}