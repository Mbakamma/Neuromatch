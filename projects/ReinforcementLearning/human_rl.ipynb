{
 "cells": [
  {
   "cell_type": "markdown",
   "metadata": {
    "colab_type": "text",
    "execution": {},
    "id": "view-in-github"
   },
   "source": [
    "<a href=\"https://colab.research.google.com/github/NeuromatchAcademy/course-content-dl/blob/main/projects/ReinforcementLearning/human_rl.ipynb\" target=\"_parent\"><img src=\"https://colab.research.google.com/assets/colab-badge.svg\" alt=\"Open In Colab\"/></a>"
   ]
  },
  {
   "cell_type": "markdown",
   "metadata": {
    "execution": {}
   },
   "source": [
    "# Using RL to Model Cognitive Tasks\n",
    "\n",
    "**By Neurmatch Academy**\n",
    "\n",
    "__Content creators:__\n",
    "\n",
    "__Production editor:__ Spiros Chavlis\n"
   ]
  },
  {
   "cell_type": "markdown",
   "metadata": {
    "execution": {}
   },
   "source": [
    "**Our 2021 Sponsors, including Presenting Sponsor Facebook Reality Labs**\n",
    "\n",
    "<p align='center'><img src='https://github.com/NeuromatchAcademy/widgets/blob/master/sponsors.png?raw=True'/></p>"
   ]
  },
  {
   "cell_type": "markdown",
   "metadata": {
    "execution": {}
   },
   "source": [
    "---\n",
    "# Objective\n",
    "\n",
    "- This project aims to use behavioral data to train an agent and then use the agent to investigate data produced by human subjects. Having a computational agent that mimics humans in such tests, we will be able to compare its mechanics with human data.\n",
    "\n",
    "- In another conception, we could fit an agent that learns many cognitive tasks that require abstract-level constructs such as executive functions. This is a multi-task control problem.\n",
    "\n",
    "\n"
   ]
  },
  {
   "cell_type": "markdown",
   "metadata": {
    "execution": {}
   },
   "source": [
    "---\n",
    "# Setup"
   ]
  },
  {
   "cell_type": "code",
   "execution_count": null,
   "metadata": {
    "cellView": "form",
    "execution": {}
   },
   "outputs": [
    {
     "name": "stdout",
     "output_type": "stream",
     "text": [
      "\u001b[K     |████████████████████████████████| 254 kB 6.8 MB/s \n",
      "\u001b[K     |████████████████████████████████| 155 kB 6.5 MB/s \n",
      "\u001b[K     |████████████████████████████████| 11.1 MB 1.3 MB/s \n",
      "\u001b[K     |████████████████████████████████| 99 kB 10.1 MB/s \n",
      "\u001b[?25h  Building wheel for dm-acme (setup.py) ... \u001b[?25l\u001b[?25hdone\n"
     ]
    }
   ],
   "source": [
    "# @title Install dependencies\n",
    "!pip install dm-env --quiet\n",
    "!pip install dm-sonnet --quiet\n",
    "!pip install dm-acme==0.2.0 dm-acme[tf]==0.2.0 dm-acme[reverb]==0.2.0 --quiet"
   ]
  },
  {
   "cell_type": "code",
   "execution_count": null,
   "metadata": {
    "execution": {}
   },
   "outputs": [],
   "source": [
    "# Imports\n",
    "\n",
    "import time\n",
    "\n",
    "import numpy as np\n",
    "import pandas as pd\n",
    "import sonnet as snt\n",
    "import seaborn as sns\n",
    "import matplotlib.pyplot as plt\n",
    "\n",
    "import dm_env\n",
    "from dm_env import specs\n",
    "\n",
    "import acme\n",
    "import acme.tf.networks as networks\n",
    "from acme import specs\n",
    "from acme import wrappers\n",
    "from acme.tf import networks\n",
    "from acme.testing import fakes\n",
    "from acme import EnvironmentLoop\n",
    "from acme.agents.tf.dqn import DQN\n",
    "from acme.agents.tf.d4pg import D4PG\n",
    "from acme.agents.tf.ddpg import DDPG\n",
    "from acme.agents.tf.r2d2 import R2D2\n",
    "from acme.tf import utils as tf2_utils\n",
    "from acme.utils.loggers import TerminalLogger\n",
    "from acme.agents.tf.dmpo import DistributionalMPO"
   ]
  },
  {
   "cell_type": "code",
   "execution_count": null,
   "metadata": {
    "cellView": "form",
    "execution": {}
   },
   "outputs": [],
   "source": [
    "# @title Figure settings\n",
    "sns.set()"
   ]
  },
  {
   "cell_type": "code",
   "execution_count": null,
   "metadata": {
    "cellView": "form",
    "execution": {}
   },
   "outputs": [],
   "source": [
    "# @title `InMemoryLogger` that keeps the data in memory\n",
    "\n",
    "class InMemoryLogger(acme.utils.loggers.Logger):\n",
    "  \"\"\"A simple logger that keeps all data in memory.\n",
    "\n",
    "  Reference:\n",
    "    https://github.com/deepmind/acme/blob/master/acme/utils/loggers/dataframe.py\n",
    "  \"\"\"\n",
    "  def __init__(self):\n",
    "    self._data = []\n",
    "\n",
    "  def write(self, data: acme.utils.loggers.LoggingData):\n",
    "    self._data.append(data)"
   ]
  },
  {
   "cell_type": "markdown",
   "metadata": {
    "execution": {}
   },
   "source": [
    "---\n",
    "# Background\n",
    "\n",
    "- Cognitive scientists use standard lab tests to tap into specific processes in the brain and behavior. Some examples of those tests are Stroop, N-back, Digit Span, TMT (Trail making tests), and WCST (Wisconsin Card Sorting Tests).\n",
    "\n",
    "- Despite an extensive body of research that explains human performance using descriptive what-models, we still need a more sophisticated approach to gain a better understanding of the underlying processes (i.e., a how-model).\n",
    "\n",
    "- Interestingly, many of such tests can be thought of as a continuous stream of stimuli and corresponding actions, that is in consonant with the RL formulation. In fact, RL itself is in part motivated by how the brain enables goal-directed behaviors using reward systems, making it a good choice to explain human performance.\n",
    "\n",
    "- One behavioral test example would be the N-back task.\n",
    "\n",
    "  - In the N-back, participants view a sequence of stimuli, one by one, and are asked to categorize each stimulus as being either match or non-match. Stimuli are usually numbers, and feedback is given at both timestep and trajectory levels.\n",
    "\n",
    "  - The agent is rewarded when its response matches the stimulus that was shown N steps back in the episode. A simpler version of the N-back uses two-choice action schema, that is match vs non-match. Once the present stimulus matches the one presented N step back, then the agent is expected to respond to it as being a `match`.\n",
    "\n",
    "\n",
    "- Given a trained RL agent, we then find correlates of its fitted parameters with the brain mechanisms. The most straightforward composition could be the correlation of model parameters with the brain activities."
   ]
  },
  {
   "cell_type": "markdown",
   "metadata": {
    "execution": {}
   },
   "source": [
    "## Datasets\n",
    "\n",
    "- HCP WM task ([NMA-CN HCP notebooks](https://github.com/NeuromatchAcademy/course-content/tree/master/projects/fMRI))\n",
    "\n",
    "Any dataset that used cognitive tests would work.\n",
    "Question: limit to behavioral data vs fMRI?\n",
    "Question: Which stimuli and actions to use?\n",
    "classic tests can be modeled using 1) bounded symbolic stimuli/actions (e.g., A, B, C), but more sophisticated one would require texts or images (e.g., face vs neutral images in social stroop dataset)\n",
    "The HCP dataset from NMA-CN contains behavioral and imaging data for 7 cognitive tests including various versions of N-back."
   ]
  },
  {
   "cell_type": "markdown",
   "metadata": {
    "execution": {}
   },
   "source": [
    "## N-back task\n",
    "\n",
    "In the N-back task, participants view a sequence of stimuli, one per time, and are asked to categorize each stimulus as being either match or non-match. Stimuli are usually numbers, and feedbacks are given at both timestep and trajectory levels.\n",
    "\n",
    "In a typical neuro setup, both accuracy and response time are measured, but here, for the sake of brevity, we focus only on accuracy of responses."
   ]
  },
  {
   "cell_type": "markdown",
   "metadata": {
    "execution": {}
   },
   "source": [
    "---\n",
    "# Cognitive Tests Environment\n",
    "\n",
    "First we develop an environment in that agents perform a cognitive test, here the N-back."
   ]
  },
  {
   "cell_type": "markdown",
   "metadata": {
    "execution": {}
   },
   "source": [
    "## Human dataset\n",
    "\n",
    "We need a dataset of human perfoming a N-back test, with the following features:\n",
    "\n",
    "- `participant_id`: following the BIDS format, it contains a unique identifier for each participant.\n",
    "- `trial_index`: same as `time_step`.\n",
    "- `stimulus`: same as `observation`.\n",
    "- `response`: same as `action`, recorded response by the human subject.\n",
    "- `expected_response`: correct response.\n",
    "- `is_correct`: same as `reward`, whether the human subject responded correctly.\n",
    "- `response_time`: won't be used here.\n",
    "\n",
    "Here we generate a mock dataset with those features, but remember to **replace this with real human data.**"
   ]
  },
  {
   "cell_type": "code",
   "execution_count": null,
   "metadata": {
    "execution": {}
   },
   "outputs": [
    {
     "name": "stderr",
     "output_type": "stream",
     "text": [
      "<string>:6: RuntimeWarning: Converting input from bool to <class 'numpy.uint8'> for compatibility.\n",
      "<string>:6: RuntimeWarning: Converting input from bool to <class 'numpy.uint8'> for compatibility.\n"
     ]
    },
    {
     "data": {
      "text/html": [
       "<div>\n",
       "<style scoped>\n",
       "    .dataframe tbody tr th:only-of-type {\n",
       "        vertical-align: middle;\n",
       "    }\n",
       "\n",
       "    .dataframe tbody tr th {\n",
       "        vertical-align: top;\n",
       "    }\n",
       "\n",
       "    .dataframe thead th {\n",
       "        text-align: right;\n",
       "    }\n",
       "</style>\n",
       "<table border=\"1\" class=\"dataframe\">\n",
       "  <thead>\n",
       "    <tr style=\"text-align: right;\">\n",
       "      <th></th>\n",
       "      <th>participant_id</th>\n",
       "      <th>trial_index</th>\n",
       "      <th>stimulus</th>\n",
       "      <th>response</th>\n",
       "      <th>is_correct</th>\n",
       "      <th>response_time</th>\n",
       "      <th>expected_response</th>\n",
       "    </tr>\n",
       "  </thead>\n",
       "  <tbody>\n",
       "    <tr>\n",
       "      <th>0</th>\n",
       "      <td>sub-1</td>\n",
       "      <td>1</td>\n",
       "      <td>B</td>\n",
       "      <td>None</td>\n",
       "      <td>True</td>\n",
       "      <td>NaN</td>\n",
       "      <td>None</td>\n",
       "    </tr>\n",
       "    <tr>\n",
       "      <th>1</th>\n",
       "      <td>sub-1</td>\n",
       "      <td>2</td>\n",
       "      <td>B</td>\n",
       "      <td>None</td>\n",
       "      <td>True</td>\n",
       "      <td>NaN</td>\n",
       "      <td>None</td>\n",
       "    </tr>\n",
       "    <tr>\n",
       "      <th>2</th>\n",
       "      <td>sub-1</td>\n",
       "      <td>3</td>\n",
       "      <td>D</td>\n",
       "      <td>match</td>\n",
       "      <td>False</td>\n",
       "      <td>0.733423</td>\n",
       "      <td>non-match</td>\n",
       "    </tr>\n",
       "    <tr>\n",
       "      <th>3</th>\n",
       "      <td>sub-1</td>\n",
       "      <td>4</td>\n",
       "      <td>B</td>\n",
       "      <td>non-match</td>\n",
       "      <td>True</td>\n",
       "      <td>0.386090</td>\n",
       "      <td>match</td>\n",
       "    </tr>\n",
       "    <tr>\n",
       "      <th>4</th>\n",
       "      <td>sub-1</td>\n",
       "      <td>5</td>\n",
       "      <td>D</td>\n",
       "      <td>match</td>\n",
       "      <td>False</td>\n",
       "      <td>0.072855</td>\n",
       "      <td>match</td>\n",
       "    </tr>\n",
       "    <tr>\n",
       "      <th>...</th>\n",
       "      <td>...</td>\n",
       "      <td>...</td>\n",
       "      <td>...</td>\n",
       "      <td>...</td>\n",
       "      <td>...</td>\n",
       "      <td>...</td>\n",
       "      <td>...</td>\n",
       "    </tr>\n",
       "    <tr>\n",
       "      <th>315</th>\n",
       "      <td>sub-9</td>\n",
       "      <td>28</td>\n",
       "      <td>C</td>\n",
       "      <td>non-match</td>\n",
       "      <td>True</td>\n",
       "      <td>0.928347</td>\n",
       "      <td>match</td>\n",
       "    </tr>\n",
       "    <tr>\n",
       "      <th>316</th>\n",
       "      <td>sub-9</td>\n",
       "      <td>29</td>\n",
       "      <td>A</td>\n",
       "      <td>match</td>\n",
       "      <td>False</td>\n",
       "      <td>0.179742</td>\n",
       "      <td>non-match</td>\n",
       "    </tr>\n",
       "    <tr>\n",
       "      <th>317</th>\n",
       "      <td>sub-9</td>\n",
       "      <td>30</td>\n",
       "      <td>A</td>\n",
       "      <td>match</td>\n",
       "      <td>True</td>\n",
       "      <td>0.897553</td>\n",
       "      <td>non-match</td>\n",
       "    </tr>\n",
       "    <tr>\n",
       "      <th>318</th>\n",
       "      <td>sub-9</td>\n",
       "      <td>31</td>\n",
       "      <td>C</td>\n",
       "      <td>non-match</td>\n",
       "      <td>True</td>\n",
       "      <td>0.345323</td>\n",
       "      <td>non-match</td>\n",
       "    </tr>\n",
       "    <tr>\n",
       "      <th>319</th>\n",
       "      <td>sub-9</td>\n",
       "      <td>32</td>\n",
       "      <td>F</td>\n",
       "      <td>match</td>\n",
       "      <td>False</td>\n",
       "      <td>0.564052</td>\n",
       "      <td>non-match</td>\n",
       "    </tr>\n",
       "  </tbody>\n",
       "</table>\n",
       "<p>320 rows × 7 columns</p>\n",
       "</div>"
      ],
      "text/plain": [
       "    participant_id  trial_index  ... response_time expected_response\n",
       "0            sub-1            1  ...           NaN              None\n",
       "1            sub-1            2  ...           NaN              None\n",
       "2            sub-1            3  ...      0.733423         non-match\n",
       "3            sub-1            4  ...      0.386090             match\n",
       "4            sub-1            5  ...      0.072855             match\n",
       "..             ...          ...  ...           ...               ...\n",
       "315          sub-9           28  ...      0.928347             match\n",
       "316          sub-9           29  ...      0.179742         non-match\n",
       "317          sub-9           30  ...      0.897553         non-match\n",
       "318          sub-9           31  ...      0.345323         non-match\n",
       "319          sub-9           32  ...      0.564052         non-match\n",
       "\n",
       "[320 rows x 7 columns]"
      ]
     },
     "execution_count": 5,
     "metadata": {
      "tags": []
     },
     "output_type": "execute_result"
    }
   ],
   "source": [
    "def generate_mock_nback_dataset(N=2,\n",
    "                                n_participants=10,\n",
    "                                n_trials=32,\n",
    "                                stimulus_choices=list('ABCDEF'),\n",
    "                                response_choices=['match', 'non-match']):\n",
    "  \"\"\"Generate a mock dataset for the N-back task.\"\"\"\n",
    "\n",
    "  n_rows = n_participants * n_trials\n",
    "\n",
    "  participant_ids = sorted([f'sub-{pid}' for pid in range(1,n_participants+1)] * n_trials)\n",
    "  trial_indices = list(range(1,n_trials+1)) * n_participants\n",
    "  stimulus_sequence = np.random.choice(stimulus_choices, n_rows)\n",
    "\n",
    "  responses = np.random.choice(response_choices, n_rows)\n",
    "  is_corrects = np.random.choice([True, False], n_rows)\n",
    "  response_times = np.random.exponential(size=n_rows)\n",
    "\n",
    "  df = pd.DataFrame({\n",
    "      'participant_id': participant_ids,\n",
    "      'trial_index': trial_indices,\n",
    "      'stimulus': stimulus_sequence,\n",
    "      'response': responses,\n",
    "      'is_correct': is_corrects,\n",
    "      #TODO: is_match\n",
    "      'response_time': response_times\n",
    "  })\n",
    "\n",
    "  # mark matchig stimuli\n",
    "  _nback_stim = df['stimulus'].shift(N)\n",
    "  df['expected_response'] = (df['stimulus'] == _nback_stim).map({True: 'match', False: 'non-match'})\n",
    "\n",
    "  # we don't care about burn-in trials (trial < N)\n",
    "  df.loc[df['trial_index'] <= N, 'is_correct'] = True\n",
    "  df.loc[df['trial_index'] <= N, ['response','response_time','expected_response']] = None\n",
    "\n",
    "  return df\n",
    "\n",
    "\n",
    "# ========\n",
    "# now generate the actual data with the provided function and plot some of its features\n",
    "mock_nback_data = generate_mock_nback_dataset()\n",
    "\n",
    "sns.displot(data=mock_nback_data, x='response_time')\n",
    "plt.suptitle('response time distribution of the mock N-back dataset', y=1.01)\n",
    "plt.show()\n",
    "\n",
    "sns.displot(data=mock_nback_data, x='is_correct')\n",
    "plt.suptitle('Accuracy distribution of the mock N-back dataset', y=1.06)\n",
    "plt.show()\n",
    "\n",
    "mock_nback_data"
   ]
  },
  {
   "cell_type": "markdown",
   "metadata": {
    "execution": {}
   },
   "source": [
    "## Implementation scheme\n"
   ]
  },
  {
   "cell_type": "markdown",
   "metadata": {
    "execution": {}
   },
   "source": [
    "### Environment\n",
    "\n",
    "The following cell implments N-back envinronment, that we later use to train a RL agent on human data. It is capable of performing two kinds of simulation:\n",
    "- rewards the agent once the action was correct (i.e., a normative model of the environment).\n",
    "- receives human data (or mock data if you prefer), and returns what participants performed as the observation. This is more useful for preference-based RL."
   ]
  },
  {
   "cell_type": "code",
   "execution_count": null,
   "metadata": {
    "execution": {}
   },
   "outputs": [],
   "source": [
    "class NBack(dm_env.Environment):\n",
    "\n",
    "  ACTIONS = ['match', 'non-match']\n",
    "\n",
    "  def __init__(self,\n",
    "               N=2,\n",
    "               episode_steps=32,\n",
    "               stimuli_choices=list('ABCDEF'),\n",
    "               human_data=None,\n",
    "               seed=1,\n",
    "               ):\n",
    "    \"\"\"\n",
    "    Args:\n",
    "      N\n",
    "      episode_steps\n",
    "      stimuli_choices\n",
    "      human_data\n",
    "      seed\n",
    "\n",
    "    \"\"\"\n",
    "    self.N = N\n",
    "    self.episode_steps = episode_steps\n",
    "    self.stimuli_choices = stimuli_choices\n",
    "    self.stimuli = np.empty(shape=episode_steps)  # will be filled in the `reset()`\n",
    "\n",
    "    self._reset_next_step = True\n",
    "\n",
    "    # whether mimic humans or reward the agent once it responds optimally.\n",
    "    if human_data is None:\n",
    "      self._imitate_human = False\n",
    "      self.human_data = None\n",
    "      self.human_subject_data = None\n",
    "    else:\n",
    "      self._imitate_human = True\n",
    "      self.human_data = human_data\n",
    "      self.human_subject_data = None\n",
    "\n",
    "    self._action_history = []\n",
    "\n",
    "  def reset(self):\n",
    "    self._reset_next_step = False\n",
    "    self._current_step = 0\n",
    "    self._action_history.clear()\n",
    "\n",
    "    # generate a random sequence instead of relying on human data\n",
    "    if self.human_data is None:\n",
    "      # self.stimuli = np.random.choice(self.stimuli_choices, self.episode_steps)\n",
    "      # FIXME This is a fix for acme & reverb issue with string observation. Agent should be able to handle strings\n",
    "      self.stimuli = np.random.choice(len(self.stimuli_choices), self.episode_steps).astype(np.float32)\n",
    "    else:\n",
    "      # randomly choose a subject from the human data and follow her trials and responses.\n",
    "      self.human_subject_data = self.human_data.query('participant_id == participant_id.sample().iloc[0]',\n",
    "                                                engine='python').sort_values('trial_index')\n",
    "      self.stimuli = self.human_subject_data['stimulus'].values\n",
    "      # FIXME should we always use one specific human subject or randomly select one in each episode?\n",
    "\n",
    "    return dm_env.restart(self._observation())\n",
    "\n",
    "\n",
    "  def _episode_return(self):\n",
    "    if self._imitate_human:\n",
    "      return np.mean(self.human_subject_data['response'] == self._action_history)\n",
    "    else:\n",
    "      return 0\n",
    "\n",
    "  def step(self, action: int):\n",
    "    if self._reset_next_step:\n",
    "      return self.reset()\n",
    "\n",
    "    if self._imitate_human:\n",
    "      # if it was the same action as the human subject, then reward the agent\n",
    "      human_action = self.human_subject_data['response'].iloc[self._current_step]\n",
    "      agent_action = NBack.ACTIONS[action]\n",
    "      step_reward = (agent_action == human_action)\n",
    "    else:\n",
    "      # assume the agent is rationale and doesn't want to reproduce human, reward once the response it correct\n",
    "      expected_action = 'match' if (self.stimuli[self._current_step] == self.stimuli[self._current_step - self.N]) else 'non-match'\n",
    "      agent_action = NBack.ACTIONS[action]\n",
    "      step_reward = 1. if (agent_action == expected_action) else -1.\n",
    "\n",
    "    self._action_history.append(agent_action)\n",
    "\n",
    "    self._current_step += 1\n",
    "\n",
    "    # Check for termination.\n",
    "    if self._current_step == self.stimuli.shape[0]:\n",
    "      self._reset_next_step = True\n",
    "      # we are using the mean of total time step rewards as the episode return\n",
    "      return dm_env.termination(reward=self._episode_return(),\n",
    "                                observation=self._observation())\n",
    "    else:\n",
    "      return dm_env.transition(reward=step_reward,\n",
    "                               observation=self._observation())\n",
    "\n",
    "  def observation_spec(self):\n",
    "    return dm_env.specs.BoundedArray(\n",
    "        shape=self.stimuli.shape,\n",
    "        dtype=self.stimuli.dtype,\n",
    "        name='nback_stimuli', minimum=0, maximum=1)\n",
    "\n",
    "  def action_spec(self):\n",
    "    return dm_env.specs.DiscreteArray(\n",
    "        dtype=int,\n",
    "        num_values=len(NBack.ACTIONS),\n",
    "        name='action')\n",
    "\n",
    "  def _observation(self):\n",
    "\n",
    "    # agents observe only the current stimulus\n",
    "    obs = self.stimuli[self._current_step - 1]\n",
    "\n",
    "    # TODO uncomment to observe all the previrous stimuli instead of only the current stimulus\n",
    "    # obs = self.stimuli[:self.current_step]\n",
    "    # obs = ''.join(obs)\n",
    "\n",
    "    return obs\n",
    "\n",
    "  def plot_state(self):\n",
    "    \"\"\"Display current state of the environment.\n",
    "\n",
    "     Note: `M` mean `match`, and `.` is a `non-match`.\n",
    "    \"\"\"\n",
    "    from IPython.display import HTML\n",
    "    stimuli = self.stimuli[:self._current_step - 1]\n",
    "    actions = ['M' if a=='match' else '.' for a in self._action_history[:self._current_step - 1]]\n",
    "    return HTML(\n",
    "        f'<b>Environment ({self.N}-back):</b><br />'\n",
    "        f'<pre><b>Stimuli:</b> {\"\".join(map(str,map(int,stimuli)))}</pre>'\n",
    "        f'<pre><b>Actions:</b> {\"\".join(actions)}</pre>'\n",
    "    )\n",
    "\n",
    "  @staticmethod\n",
    "  def create_environment():\n",
    "    \"\"\"Utility function to create a N-back environment and its spec.\"\"\"\n",
    "\n",
    "    # Make sure the environment outputs single-precision floats.\n",
    "    environment = wrappers.SinglePrecisionWrapper(NBack())\n",
    "\n",
    "    # Grab the spec of the environment.\n",
    "    environment_spec = specs.make_environment_spec(environment)\n",
    "\n",
    "    return environment, environment_spec"
   ]
  },
  {
   "cell_type": "markdown",
   "metadata": {
    "execution": {}
   },
   "source": [
    "### Define a random agent\n",
    "\n",
    "For more information you can refer to NMA-DL W3D2 Basic Reinforcement learning."
   ]
  },
  {
   "cell_type": "code",
   "execution_count": null,
   "metadata": {
    "execution": {}
   },
   "outputs": [],
   "source": [
    "class RandomAgent(acme.Actor):\n",
    "\n",
    "  def __init__(self, environment_spec):\n",
    "    \"\"\"Gets the number of available actions from the environment spec.\"\"\"\n",
    "    self._num_actions = environment_spec.actions.num_values\n",
    "\n",
    "  def select_action(self, observation):\n",
    "    \"\"\"Selects an action uniformly at random.\"\"\"\n",
    "    action = np.random.randint(self._num_actions)\n",
    "    return action\n",
    "\n",
    "  def observe_first(self, timestep):\n",
    "    \"\"\"Does not record as the RandomAgent has no use for data.\"\"\"\n",
    "    pass\n",
    "\n",
    "  def observe(self, action, next_timestep):\n",
    "    \"\"\"Does not record as the RandomAgent has no use for data.\"\"\"\n",
    "    pass\n",
    "\n",
    "  def update(self):\n",
    "    \"\"\"Does not update as the RandomAgent does not learn from data.\"\"\"\n",
    "    pass"
   ]
  },
  {
   "cell_type": "markdown",
   "metadata": {
    "execution": {}
   },
   "source": [
    "### Initialize the environment and the agent"
   ]
  },
  {
   "cell_type": "code",
   "execution_count": null,
   "metadata": {
    "execution": {}
   },
   "outputs": [
    {
     "name": "stdout",
     "output_type": "stream",
     "text": [
      "actions:\n",
      " DiscreteArray(shape=(), dtype=int32, name=action, minimum=0, maximum=1, num_values=2)\n",
      "observations:\n",
      " BoundedArray(shape=(32,), dtype=dtype('float32'), name='nback_stimuli', minimum=0.0, maximum=1.0)\n",
      "rewards:\n",
      " Array(shape=(), dtype=dtype('float32'), name='reward')\n"
     ]
    }
   ],
   "source": [
    "environment, environment_spec = NBack.create_environment()\n",
    "agent = RandomAgent(environment_spec)\n",
    "\n",
    "print('actions:\\n', environment_spec.actions)\n",
    "print('observations:\\n', environment_spec.observations)\n",
    "print('rewards:\\n', environment_spec.rewards)\n",
    "\n",
    "# DEBUG\n",
    "# timestep = environment.step(NBack.ACTIONS[0])  # pytype: dm_env.TimeStep\n",
    "# timestep"
   ]
  },
  {
   "cell_type": "markdown",
   "metadata": {
    "execution": {}
   },
   "source": [
    "### Run the loop\n",
    "\n",
    "For more details, see NMA-DL W3D2."
   ]
  },
  {
   "cell_type": "code",
   "execution_count": null,
   "metadata": {
    "execution": {}
   },
   "outputs": [
    {
     "data": {
      "text/html": [
       "<b>Environment (2-back):</b><br /><pre><b>Stimuli:</b> 2232131441333153152054213513012</pre><pre><b>Actions:</b> MM..MMMM.M.MMMMM....MMMMM.....M</pre>"
      ],
      "text/plain": [
       "<IPython.core.display.HTML object>"
      ]
     },
     "metadata": {
      "tags": []
     },
     "output_type": "display_data"
    },
    {
     "name": "stdout",
     "output_type": "stream",
     "text": [
      "{'episode': 0, 'episode_length': 32, 'episode_return': -1.0}\n"
     ]
    },
    {
     "data": {
      "text/html": [
       "<b>Environment (2-back):</b><br /><pre><b>Stimuli:</b> 4001201251111555122315310443205</pre><pre><b>Actions:</b> M..MMMM.M..MM...M.M....M.MM....</pre>"
      ],
      "text/plain": [
       "<IPython.core.display.HTML object>"
      ]
     },
     "metadata": {
      "tags": []
     },
     "output_type": "display_data"
    },
    {
     "name": "stdout",
     "output_type": "stream",
     "text": [
      "{'episode': 1, 'episode_length': 32, 'episode_return': 5.0}\n"
     ]
    },
    {
     "data": {
      "text/html": [
       "<b>Environment (2-back):</b><br /><pre><b>Stimuli:</b> 1445021543330354311020430405031</pre><pre><b>Actions:</b> M.MMMM..M..M...M...MMM...M..MMM</pre>"
      ],
      "text/plain": [
       "<IPython.core.display.HTML object>"
      ]
     },
     "metadata": {
      "tags": []
     },
     "output_type": "display_data"
    },
    {
     "name": "stdout",
     "output_type": "stream",
     "text": [
      "{'episode': 2, 'episode_length': 32, 'episode_return': 5.0}\n"
     ]
    },
    {
     "data": {
      "text/html": [
       "<b>Environment (2-back):</b><br /><pre><b>Stimuli:</b> 2111343113024423415330402001305</pre><pre><b>Actions:</b> M.....M..MMMMM.M...M.MMMM...MM.</pre>"
      ],
      "text/plain": [
       "<IPython.core.display.HTML object>"
      ]
     },
     "metadata": {
      "tags": []
     },
     "output_type": "display_data"
    },
    {
     "name": "stdout",
     "output_type": "stream",
     "text": [
      "{'episode': 3, 'episode_length': 32, 'episode_return': -1.0}\n"
     ]
    },
    {
     "data": {
      "text/html": [
       "<b>Environment (2-back):</b><br /><pre><b>Stimuli:</b> 5255413035244414203403530215013</pre><pre><b>Actions:</b> MMM.MMMMM.MMM....M..MM..MMMMMM.</pre>"
      ],
      "text/plain": [
       "<IPython.core.display.HTML object>"
      ]
     },
     "metadata": {
      "tags": []
     },
     "output_type": "display_data"
    },
    {
     "name": "stdout",
     "output_type": "stream",
     "text": [
      "{'episode': 4, 'episode_length': 32, 'episode_return': -11.0}\n"
     ]
    },
    {
     "data": {
      "text/html": [
       "<b>Environment (2-back):</b><br /><pre><b>Stimuli:</b> 4241022250012535225111011152504</pre><pre><b>Actions:</b> .M..MMMMMMM....M.M..MM......M.M</pre>"
      ],
      "text/plain": [
       "<IPython.core.display.HTML object>"
      ]
     },
     "metadata": {
      "tags": []
     },
     "output_type": "display_data"
    },
    {
     "name": "stdout",
     "output_type": "stream",
     "text": [
      "{'episode': 5, 'episode_length': 32, 'episode_return': 3.0}\n"
     ]
    },
    {
     "data": {
      "text/html": [
       "<b>Environment (2-back):</b><br /><pre><b>Stimuli:</b> 0212521424205523345234252402501</pre><pre><b>Actions:</b> MM..M.M.M..MMM.MMM.........MM.M</pre>"
      ],
      "text/plain": [
       "<IPython.core.display.HTML object>"
      ]
     },
     "metadata": {
      "tags": []
     },
     "output_type": "display_data"
    },
    {
     "name": "stdout",
     "output_type": "stream",
     "text": [
      "{'episode': 6, 'episode_length': 32, 'episode_return': -7.0}\n"
     ]
    },
    {
     "data": {
      "text/html": [
       "<b>Environment (2-back):</b><br /><pre><b>Stimuli:</b> 1402522510524403013254110523015</pre><pre><b>Actions:</b> M..M.MMM...M..MMMM..MMMMM..M...</pre>"
      ],
      "text/plain": [
       "<IPython.core.display.HTML object>"
      ]
     },
     "metadata": {
      "tags": []
     },
     "output_type": "display_data"
    },
    {
     "name": "stdout",
     "output_type": "stream",
     "text": [
      "{'episode': 7, 'episode_length': 32, 'episode_return': 3.0}\n"
     ]
    },
    {
     "data": {
      "text/html": [
       "<b>Environment (2-back):</b><br /><pre><b>Stimuli:</b> 2014335453334133201515034224304</pre><pre><b>Actions:</b> M.M.MM.MMM.MMM.M....M.MMM..M...</pre>"
      ],
      "text/plain": [
       "<IPython.core.display.HTML object>"
      ]
     },
     "metadata": {
      "tags": []
     },
     "output_type": "display_data"
    },
    {
     "name": "stdout",
     "output_type": "stream",
     "text": [
      "{'episode': 8, 'episode_length': 32, 'episode_return': 3.0}\n"
     ]
    },
    {
     "data": {
      "text/html": [
       "<b>Environment (2-back):</b><br /><pre><b>Stimuli:</b> 4453200023503324553422254355020</pre><pre><b>Actions:</b> .M.M...MM.MM..MMM..MMM.M..M.MM.</pre>"
      ],
      "text/plain": [
       "<IPython.core.display.HTML object>"
      ]
     },
     "metadata": {
      "tags": []
     },
     "output_type": "display_data"
    },
    {
     "name": "stdout",
     "output_type": "stream",
     "text": [
      "{'episode': 9, 'episode_length': 32, 'episode_return': -3.0}\n"
     ]
    },
    {
     "data": {
      "text/html": [
       "<b>Environment (2-back):</b><br /><pre><b>Stimuli:</b> 0524121054050502150023234004221</pre><pre><b>Actions:</b> .MM.M.M.M.M..MMMMM.M.....M.M.M.</pre>"
      ],
      "text/plain": [
       "<IPython.core.display.HTML object>"
      ]
     },
     "metadata": {
      "tags": []
     },
     "output_type": "display_data"
    },
    {
     "name": "stdout",
     "output_type": "stream",
     "text": [
      "{'episode': 10, 'episode_length': 32, 'episode_return': 1.0}\n"
     ]
    },
    {
     "data": {
      "text/html": [
       "<b>Environment (2-back):</b><br /><pre><b>Stimuli:</b> 0532302025400032545312540553445</pre><pre><b>Actions:</b> .M...MM.M.M..MMM.....MMMM..MMMM</pre>"
      ],
      "text/plain": [
       "<IPython.core.display.HTML object>"
      ]
     },
     "metadata": {
      "tags": []
     },
     "output_type": "display_data"
    },
    {
     "name": "stdout",
     "output_type": "stream",
     "text": [
      "{'episode': 11, 'episode_length': 32, 'episode_return': -3.0}\n"
     ]
    },
    {
     "data": {
      "text/html": [
       "<b>Environment (2-back):</b><br /><pre><b>Stimuli:</b> 0052203442313135000341335542522</pre><pre><b>Actions:</b> MMM....M.MMMMM.M.M.MM..MM...M.M</pre>"
      ],
      "text/plain": [
       "<IPython.core.display.HTML object>"
      ]
     },
     "metadata": {
      "tags": []
     },
     "output_type": "display_data"
    },
    {
     "name": "stdout",
     "output_type": "stream",
     "text": [
      "{'episode': 12, 'episode_length': 32, 'episode_return': -3.0}\n"
     ]
    },
    {
     "data": {
      "text/html": [
       "<b>Environment (2-back):</b><br /><pre><b>Stimuli:</b> 2301223314222003525512321410402</pre><pre><b>Actions:</b> MM...M..MMMMM..M.MMM.MM.MMM..M.</pre>"
      ],
      "text/plain": [
       "<IPython.core.display.HTML object>"
      ]
     },
     "metadata": {
      "tags": []
     },
     "output_type": "display_data"
    },
    {
     "name": "stdout",
     "output_type": "stream",
     "text": [
      "{'episode': 13, 'episode_length': 32, 'episode_return': 3.0}\n"
     ]
    },
    {
     "data": {
      "text/html": [
       "<b>Environment (2-back):</b><br /><pre><b>Stimuli:</b> 4053142214441402054242334310334</pre><pre><b>Actions:</b> ..MMM.MMM.M...M..M.M......MM.M.</pre>"
      ],
      "text/plain": [
       "<IPython.core.display.HTML object>"
      ]
     },
     "metadata": {
      "tags": []
     },
     "output_type": "display_data"
    },
    {
     "name": "stdout",
     "output_type": "stream",
     "text": [
      "{'episode': 14, 'episode_length': 32, 'episode_return': -9.0}\n"
     ]
    },
    {
     "data": {
      "text/html": [
       "<b>Environment (2-back):</b><br /><pre><b>Stimuli:</b> 5414214043244121253011002310250</pre><pre><b>Actions:</b> .MMMM.MMMMM.M.MMM....M.......M.</pre>"
      ],
      "text/plain": [
       "<IPython.core.display.HTML object>"
      ]
     },
     "metadata": {
      "tags": []
     },
     "output_type": "display_data"
    },
    {
     "name": "stdout",
     "output_type": "stream",
     "text": [
      "{'episode': 15, 'episode_length': 32, 'episode_return': 9.0}\n"
     ]
    },
    {
     "data": {
      "text/html": [
       "<b>Environment (2-back):</b><br /><pre><b>Stimuli:</b> 2550254133511214242532002012022</pre><pre><b>Actions:</b> .MM.M.M.MMMMM.MM.MMMM..MM..M.M.</pre>"
      ],
      "text/plain": [
       "<IPython.core.display.HTML object>"
      ]
     },
     "metadata": {
      "tags": []
     },
     "output_type": "display_data"
    },
    {
     "name": "stdout",
     "output_type": "stream",
     "text": [
      "{'episode': 16, 'episode_length': 32, 'episode_return': -3.0}\n"
     ]
    },
    {
     "data": {
      "text/html": [
       "<b>Environment (2-back):</b><br /><pre><b>Stimuli:</b> 4443511045410431122242502510531</pre><pre><b>Actions:</b> .M.MMM.M..MMM....MMMM.M.M......</pre>"
      ],
      "text/plain": [
       "<IPython.core.display.HTML object>"
      ]
     },
     "metadata": {
      "tags": []
     },
     "output_type": "display_data"
    },
    {
     "name": "stdout",
     "output_type": "stream",
     "text": [
      "{'episode': 17, 'episode_length': 32, 'episode_return': 3.0}\n"
     ]
    },
    {
     "data": {
      "text/html": [
       "<b>Environment (2-back):</b><br /><pre><b>Stimuli:</b> 0255005424011030124034300545143</pre><pre><b>Actions:</b> M.M.M.MMM.M..M..M.M.M...M.M..MM</pre>"
      ],
      "text/plain": [
       "<IPython.core.display.HTML object>"
      ]
     },
     "metadata": {
      "tags": []
     },
     "output_type": "display_data"
    },
    {
     "name": "stdout",
     "output_type": "stream",
     "text": [
      "{'episode': 18, 'episode_length': 32, 'episode_return': -7.0}\n"
     ]
    },
    {
     "data": {
      "text/html": [
       "<b>Environment (2-back):</b><br /><pre><b>Stimuli:</b> 2250341052012242152244142544033</pre><pre><b>Actions:</b> ..M..M.MMMM.M.MM....M...MMMMMM.</pre>"
      ],
      "text/plain": [
       "<IPython.core.display.HTML object>"
      ]
     },
     "metadata": {
      "tags": []
     },
     "output_type": "display_data"
    },
    {
     "name": "stdout",
     "output_type": "stream",
     "text": [
      "{'episode': 19, 'episode_length': 32, 'episode_return': -1.0}\n"
     ]
    },
    {
     "data": {
      "text/html": [
       "<b>Environment (2-back):</b><br /><pre><b>Stimuli:</b> 3053043523035303123250232035550</pre><pre><b>Actions:</b> MMM..M.MMM..MMM.MMM....MM.M.MMM</pre>"
      ],
      "text/plain": [
       "<IPython.core.display.HTML object>"
      ]
     },
     "metadata": {
      "tags": []
     },
     "output_type": "display_data"
    },
    {
     "name": "stdout",
     "output_type": "stream",
     "text": [
      "{'episode': 20, 'episode_length': 32, 'episode_return': -5.0}\n"
     ]
    },
    {
     "data": {
      "text/html": [
       "<b>Environment (2-back):</b><br /><pre><b>Stimuli:</b> 2220033024344305414524520204345</pre><pre><b>Actions:</b> ...MMMM..MMM.M.MM..M..M....MM.M</pre>"
      ],
      "text/plain": [
       "<IPython.core.display.HTML object>"
      ]
     },
     "metadata": {
      "tags": []
     },
     "output_type": "display_data"
    },
    {
     "name": "stdout",
     "output_type": "stream",
     "text": [
      "{'episode': 21, 'episode_length': 32, 'episode_return': -7.0}\n"
     ]
    },
    {
     "data": {
      "text/html": [
       "<b>Environment (2-back):</b><br /><pre><b>Stimuli:</b> 4533440441352143552040024043300</pre><pre><b>Actions:</b> MMMM.....M.MMM.MM...MMMMM....MM</pre>"
      ],
      "text/plain": [
       "<IPython.core.display.HTML object>"
      ]
     },
     "metadata": {
      "tags": []
     },
     "output_type": "display_data"
    },
    {
     "name": "stdout",
     "output_type": "stream",
     "text": [
      "{'episode': 22, 'episode_length': 32, 'episode_return': -5.0}\n"
     ]
    },
    {
     "data": {
      "text/html": [
       "<b>Environment (2-back):</b><br /><pre><b>Stimuli:</b> 0034551305340053114243351335141</pre><pre><b>Actions:</b> ....M..MMMMM...MMM....M....MMMM</pre>"
      ],
      "text/plain": [
       "<IPython.core.display.HTML object>"
      ]
     },
     "metadata": {
      "tags": []
     },
     "output_type": "display_data"
    },
    {
     "name": "stdout",
     "output_type": "stream",
     "text": [
      "{'episode': 23, 'episode_length': 32, 'episode_return': 3.0}\n"
     ]
    },
    {
     "data": {
      "text/html": [
       "<b>Environment (2-back):</b><br /><pre><b>Stimuli:</b> 5553305530505424040223400213554</pre><pre><b>Actions:</b> M.MMMM..MM.MM.M.MM.........M.MM</pre>"
      ],
      "text/plain": [
       "<IPython.core.display.HTML object>"
      ]
     },
     "metadata": {
      "tags": []
     },
     "output_type": "display_data"
    },
    {
     "name": "stdout",
     "output_type": "stream",
     "text": [
      "{'episode': 24, 'episode_length': 32, 'episode_return': 5.0}\n"
     ]
    },
    {
     "data": {
      "text/html": [
       "<b>Environment (2-back):</b><br /><pre><b>Stimuli:</b> 2151245512201454212440221105243</pre><pre><b>Actions:</b> M.M..MMM.M.MMMM.MM.M...M.MM..MM</pre>"
      ],
      "text/plain": [
       "<IPython.core.display.HTML object>"
      ]
     },
     "metadata": {
      "tags": []
     },
     "output_type": "display_data"
    },
    {
     "name": "stdout",
     "output_type": "stream",
     "text": [
      "{'episode': 25, 'episode_length': 32, 'episode_return': -13.0}\n"
     ]
    },
    {
     "data": {
      "text/html": [
       "<b>Environment (2-back):</b><br /><pre><b>Stimuli:</b> 1055432233433154113445500033005</pre><pre><b>Actions:</b> MMMM..M....M....MMM..MMMM..M.MM</pre>"
      ],
      "text/plain": [
       "<IPython.core.display.HTML object>"
      ]
     },
     "metadata": {
      "tags": []
     },
     "output_type": "display_data"
    },
    {
     "name": "stdout",
     "output_type": "stream",
     "text": [
      "{'episode': 26, 'episode_length': 32, 'episode_return': -1.0}\n"
     ]
    },
    {
     "data": {
      "text/html": [
       "<b>Environment (2-back):</b><br /><pre><b>Stimuli:</b> 5241241100344423005200051043202</pre><pre><b>Actions:</b> M.M.M.M.MMM....MM.M.MM.M..M.M..</pre>"
      ],
      "text/plain": [
       "<IPython.core.display.HTML object>"
      ]
     },
     "metadata": {
      "tags": []
     },
     "output_type": "display_data"
    },
    {
     "name": "stdout",
     "output_type": "stream",
     "text": [
      "{'episode': 27, 'episode_length': 32, 'episode_return': -5.0}\n"
     ]
    },
    {
     "data": {
      "text/html": [
       "<b>Environment (2-back):</b><br /><pre><b>Stimuli:</b> 3102405113512402500302505254550</pre><pre><b>Actions:</b> ...MMM.MMM....MM..M.MM...M....M</pre>"
      ],
      "text/plain": [
       "<IPython.core.display.HTML object>"
      ]
     },
     "metadata": {
      "tags": []
     },
     "output_type": "display_data"
    },
    {
     "name": "stdout",
     "output_type": "stream",
     "text": [
      "{'episode': 28, 'episode_length': 32, 'episode_return': 1.0}\n"
     ]
    },
    {
     "data": {
      "text/html": [
       "<b>Environment (2-back):</b><br /><pre><b>Stimuli:</b> 3320432443412021512555504324442</pre><pre><b>Actions:</b> .MM..M.....M..MMM..MM.MM...MM..</pre>"
      ],
      "text/plain": [
       "<IPython.core.display.HTML object>"
      ]
     },
     "metadata": {
      "tags": []
     },
     "output_type": "display_data"
    },
    {
     "name": "stdout",
     "output_type": "stream",
     "text": [
      "{'episode': 29, 'episode_length': 32, 'episode_return': 1.0}\n"
     ]
    },
    {
     "data": {
      "text/html": [
       "<b>Environment (2-back):</b><br /><pre><b>Stimuli:</b> 0553103031152220133014215545421</pre><pre><b>Actions:</b> M.MM.MM....MM.MMM..M......MM..M</pre>"
      ],
      "text/plain": [
       "<IPython.core.display.HTML object>"
      ]
     },
     "metadata": {
      "tags": []
     },
     "output_type": "display_data"
    },
    {
     "name": "stdout",
     "output_type": "stream",
     "text": [
      "{'episode': 30, 'episode_length': 32, 'episode_return': 1.0}\n"
     ]
    },
    {
     "data": {
      "text/html": [
       "<b>Environment (2-back):</b><br /><pre><b>Stimuli:</b> 3443152114222443113404145500411</pre><pre><b>Actions:</b> .M..MMM.M..M....MM.M...M.MM...M</pre>"
      ],
      "text/plain": [
       "<IPython.core.display.HTML object>"
      ]
     },
     "metadata": {
      "tags": []
     },
     "output_type": "display_data"
    },
    {
     "name": "stdout",
     "output_type": "stream",
     "text": [
      "{'episode': 31, 'episode_length': 32, 'episode_return': 3.0}\n"
     ]
    },
    {
     "data": {
      "text/html": [
       "<b>Environment (2-back):</b><br /><pre><b>Stimuli:</b> 5401544415050454541112041052333</pre><pre><b>Actions:</b> .MMM.....MM....M....M.MM..MMM..</pre>"
      ],
      "text/plain": [
       "<IPython.core.display.HTML object>"
      ]
     },
     "metadata": {
      "tags": []
     },
     "output_type": "display_data"
    },
    {
     "name": "stdout",
     "output_type": "stream",
     "text": [
      "{'episode': 32, 'episode_length': 32, 'episode_return': 1.0}\n"
     ]
    },
    {
     "data": {
      "text/html": [
       "<b>Environment (2-back):</b><br /><pre><b>Stimuli:</b> 2150354443045121545013055303552</pre><pre><b>Actions:</b> M..M..M.MM..MMMMM.......M..M...</pre>"
      ],
      "text/plain": [
       "<IPython.core.display.HTML object>"
      ]
     },
     "metadata": {
      "tags": []
     },
     "output_type": "display_data"
    },
    {
     "name": "stdout",
     "output_type": "stream",
     "text": [
      "{'episode': 33, 'episode_length': 32, 'episode_return': 13.0}\n"
     ]
    },
    {
     "data": {
      "text/html": [
       "<b>Environment (2-back):</b><br /><pre><b>Stimuli:</b> 0113204210201000552032505515404</pre><pre><b>Actions:</b> MM..MM.MM...M.MM.M......MMM..MM</pre>"
      ],
      "text/plain": [
       "<IPython.core.display.HTML object>"
      ]
     },
     "metadata": {
      "tags": []
     },
     "output_type": "display_data"
    },
    {
     "name": "stdout",
     "output_type": "stream",
     "text": [
      "{'episode': 34, 'episode_length': 32, 'episode_return': 1.0}\n"
     ]
    },
    {
     "data": {
      "text/html": [
       "<b>Environment (2-back):</b><br /><pre><b>Stimuli:</b> 1052523004244242440325101531302</pre><pre><b>Actions:</b> ....M.MMMM...MM..M..M...M.M.MM.</pre>"
      ],
      "text/plain": [
       "<IPython.core.display.HTML object>"
      ]
     },
     "metadata": {
      "tags": []
     },
     "output_type": "display_data"
    },
    {
     "name": "stdout",
     "output_type": "stream",
     "text": [
      "{'episode': 35, 'episode_length': 32, 'episode_return': 5.0}\n"
     ]
    },
    {
     "data": {
      "text/html": [
       "<b>Environment (2-back):</b><br /><pre><b>Stimuli:</b> 4542253105125041504220325051322</pre><pre><b>Actions:</b> .....M....M...M..M.M...M..MMM..</pre>"
      ],
      "text/plain": [
       "<IPython.core.display.HTML object>"
      ]
     },
     "metadata": {
      "tags": []
     },
     "output_type": "display_data"
    },
    {
     "name": "stdout",
     "output_type": "stream",
     "text": [
      "{'episode': 36, 'episode_length': 32, 'episode_return': 13.0}\n"
     ]
    },
    {
     "data": {
      "text/html": [
       "<b>Environment (2-back):</b><br /><pre><b>Stimuli:</b> 5224140010132555314451305503510</pre><pre><b>Actions:</b> M.MM.M..M.MMM..M.MMM..M.M.M..MM</pre>"
      ],
      "text/plain": [
       "<IPython.core.display.HTML object>"
      ]
     },
     "metadata": {
      "tags": []
     },
     "output_type": "display_data"
    },
    {
     "name": "stdout",
     "output_type": "stream",
     "text": [
      "{'episode': 37, 'episode_length': 32, 'episode_return': 1.0}\n"
     ]
    },
    {
     "data": {
      "text/html": [
       "<b>Environment (2-back):</b><br /><pre><b>Stimuli:</b> 0152340003445015255214350530121</pre><pre><b>Actions:</b> .MMMMM.MM.MMMMM...MM..M.M.M.MMM</pre>"
      ],
      "text/plain": [
       "<IPython.core.display.HTML object>"
      ]
     },
     "metadata": {
      "tags": []
     },
     "output_type": "display_data"
    },
    {
     "name": "stdout",
     "output_type": "stream",
     "text": [
      "{'episode': 38, 'episode_length': 32, 'episode_return': -9.0}\n"
     ]
    },
    {
     "data": {
      "text/html": [
       "<b>Environment (2-back):</b><br /><pre><b>Stimuli:</b> 1543054200345423300223153054331</pre><pre><b>Actions:</b> .M...M.M..M.MMM..M..M.M...MM..M</pre>"
      ],
      "text/plain": [
       "<IPython.core.display.HTML object>"
      ]
     },
     "metadata": {
      "tags": []
     },
     "output_type": "display_data"
    },
    {
     "name": "stdout",
     "output_type": "stream",
     "text": [
      "{'episode': 39, 'episode_length': 32, 'episode_return': 5.0}\n"
     ]
    },
    {
     "data": {
      "text/html": [
       "<b>Environment (2-back):</b><br /><pre><b>Stimuli:</b> 2520143203324351534011131022501</pre><pre><b>Actions:</b> M...MM.M.MM..M....M.MM.MMM..MM.</pre>"
      ],
      "text/plain": [
       "<IPython.core.display.HTML object>"
      ]
     },
     "metadata": {
      "tags": []
     },
     "output_type": "display_data"
    },
    {
     "name": "stdout",
     "output_type": "stream",
     "text": [
      "{'episode': 40, 'episode_length': 32, 'episode_return': -5.0}\n"
     ]
    },
    {
     "data": {
      "text/html": [
       "<b>Environment (2-back):</b><br /><pre><b>Stimuli:</b> 3221250510411430520315123220305</pre><pre><b>Actions:</b> M..M..M.M.....MM.MM.M...MM.....</pre>"
      ],
      "text/plain": [
       "<IPython.core.display.HTML object>"
      ]
     },
     "metadata": {
      "tags": []
     },
     "output_type": "display_data"
    },
    {
     "name": "stdout",
     "output_type": "stream",
     "text": [
      "{'episode': 41, 'episode_length': 32, 'episode_return': 1.0}\n"
     ]
    },
    {
     "data": {
      "text/html": [
       "<b>Environment (2-back):</b><br /><pre><b>Stimuli:</b> 0404300301023410034133323342411</pre><pre><b>Actions:</b> M.MM..M...M.MM.MM.MMM.M...MM.MM</pre>"
      ],
      "text/plain": [
       "<IPython.core.display.HTML object>"
      ]
     },
     "metadata": {
      "tags": []
     },
     "output_type": "display_data"
    },
    {
     "name": "stdout",
     "output_type": "stream",
     "text": [
      "{'episode': 42, 'episode_length': 32, 'episode_return': -1.0}\n"
     ]
    },
    {
     "data": {
      "text/html": [
       "<b>Environment (2-back):</b><br /><pre><b>Stimuli:</b> 1523352522050311052201234531244</pre><pre><b>Actions:</b> MM....M.M...M.....M.M..MMM.MMMM</pre>"
      ],
      "text/plain": [
       "<IPython.core.display.HTML object>"
      ]
     },
     "metadata": {
      "tags": []
     },
     "output_type": "display_data"
    },
    {
     "name": "stdout",
     "output_type": "stream",
     "text": [
      "{'episode': 43, 'episode_length': 32, 'episode_return': 5.0}\n"
     ]
    },
    {
     "data": {
      "text/html": [
       "<b>Environment (2-back):</b><br /><pre><b>Stimuli:</b> 2014005423553234232335501423255</pre><pre><b>Actions:</b> ..MMMM..M.....MM.M.M.MM.M...MM.</pre>"
      ],
      "text/plain": [
       "<IPython.core.display.HTML object>"
      ]
     },
     "metadata": {
      "tags": []
     },
     "output_type": "display_data"
    },
    {
     "name": "stdout",
     "output_type": "stream",
     "text": [
      "{'episode': 44, 'episode_length': 32, 'episode_return': 7.0}\n"
     ]
    },
    {
     "data": {
      "text/html": [
       "<b>Environment (2-back):</b><br /><pre><b>Stimuli:</b> 4335302050501004541142055522535</pre><pre><b>Actions:</b> MMM..M...M....MM.MM.....MMMMMMM</pre>"
      ],
      "text/plain": [
       "<IPython.core.display.HTML object>"
      ]
     },
     "metadata": {
      "tags": []
     },
     "output_type": "display_data"
    },
    {
     "name": "stdout",
     "output_type": "stream",
     "text": [
      "{'episode': 45, 'episode_length': 32, 'episode_return': -3.0}\n"
     ]
    },
    {
     "data": {
      "text/html": [
       "<b>Environment (2-back):</b><br /><pre><b>Stimuli:</b> 2132350355150554420110110415130</pre><pre><b>Actions:</b> ...M..M.MMMM.MMM.......MMMM.M.M</pre>"
      ],
      "text/plain": [
       "<IPython.core.display.HTML object>"
      ]
     },
     "metadata": {
      "tags": []
     },
     "output_type": "display_data"
    },
    {
     "name": "stdout",
     "output_type": "stream",
     "text": [
      "{'episode': 46, 'episode_length': 32, 'episode_return': 1.0}\n"
     ]
    },
    {
     "data": {
      "text/html": [
       "<b>Environment (2-back):</b><br /><pre><b>Stimuli:</b> 5331222025550010415204515401434</pre><pre><b>Actions:</b> M......MM..MM.....M.MM.M..M.M..</pre>"
      ],
      "text/plain": [
       "<IPython.core.display.HTML object>"
      ]
     },
     "metadata": {
      "tags": []
     },
     "output_type": "display_data"
    },
    {
     "name": "stdout",
     "output_type": "stream",
     "text": [
      "{'episode': 47, 'episode_length': 32, 'episode_return': 5.0}\n"
     ]
    },
    {
     "data": {
      "text/html": [
       "<b>Environment (2-back):</b><br /><pre><b>Stimuli:</b> 2143221443210321240023545100525</pre><pre><b>Actions:</b> ...MMMMM..MMMMM.MM.M.M.MMMMMMMM</pre>"
      ],
      "text/plain": [
       "<IPython.core.display.HTML object>"
      ]
     },
     "metadata": {
      "tags": []
     },
     "output_type": "display_data"
    },
    {
     "name": "stdout",
     "output_type": "stream",
     "text": [
      "{'episode': 48, 'episode_length': 32, 'episode_return': -7.0}\n"
     ]
    },
    {
     "data": {
      "text/html": [
       "<b>Environment (2-back):</b><br /><pre><b>Stimuli:</b> 0451120514510044340151020015030</pre><pre><b>Actions:</b> ...M.MM..MMM..M.MMMM.MMMM..M.M.</pre>"
      ],
      "text/plain": [
       "<IPython.core.display.HTML object>"
      ]
     },
     "metadata": {
      "tags": []
     },
     "output_type": "display_data"
    },
    {
     "name": "stdout",
     "output_type": "stream",
     "text": [
      "{'episode': 49, 'episode_length': 32, 'episode_return': -1.0}\n"
     ]
    },
    {
     "data": {
      "text/html": [
       "<b>Environment (2-back):</b><br /><pre><b>Stimuli:</b> 5351450123314423144200500554155</pre><pre><b>Actions:</b> ...MM.M..M.MMM.M.....M.M..MM...</pre>"
      ],
      "text/plain": [
       "<IPython.core.display.HTML object>"
      ]
     },
     "metadata": {
      "tags": []
     },
     "output_type": "display_data"
    },
    {
     "name": "stdout",
     "output_type": "stream",
     "text": [
      "{'episode': 50, 'episode_length': 32, 'episode_return': 5.0}\n"
     ]
    },
    {
     "data": {
      "text/html": [
       "<b>Environment (2-back):</b><br /><pre><b>Stimuli:</b> 1453220513520240431322042001250</pre><pre><b>Actions:</b> M.MM.MMM.MMMM.MM..MM..MMM.....M</pre>"
      ],
      "text/plain": [
       "<IPython.core.display.HTML object>"
      ]
     },
     "metadata": {
      "tags": []
     },
     "output_type": "display_data"
    },
    {
     "name": "stdout",
     "output_type": "stream",
     "text": [
      "{'episode': 51, 'episode_length': 32, 'episode_return': -7.0}\n"
     ]
    },
    {
     "data": {
      "text/html": [
       "<b>Environment (2-back):</b><br /><pre><b>Stimuli:</b> 3202003215141253000430043011440</pre><pre><b>Actions:</b> .M.M.M..M.MM...M.M.M..M.MM..M..</pre>"
      ],
      "text/plain": [
       "<IPython.core.display.HTML object>"
      ]
     },
     "metadata": {
      "tags": []
     },
     "output_type": "display_data"
    },
    {
     "name": "stdout",
     "output_type": "stream",
     "text": [
      "{'episode': 52, 'episode_length': 32, 'episode_return': 3.0}\n"
     ]
    },
    {
     "data": {
      "text/html": [
       "<b>Environment (2-back):</b><br /><pre><b>Stimuli:</b> 0502003354540245101213151014332</pre><pre><b>Actions:</b> MM.M...M...M.MM.MM.MM.M..M.MM.M</pre>"
      ],
      "text/plain": [
       "<IPython.core.display.HTML object>"
      ]
     },
     "metadata": {
      "tags": []
     },
     "output_type": "display_data"
    },
    {
     "name": "stdout",
     "output_type": "stream",
     "text": [
      "{'episode': 53, 'episode_length': 32, 'episode_return': -7.0}\n"
     ]
    },
    {
     "data": {
      "text/html": [
       "<b>Environment (2-back):</b><br /><pre><b>Stimuli:</b> 5144442431012225324543152413524</pre><pre><b>Actions:</b> ...M..M.MM.MM..MM.M..MM..MM...M</pre>"
      ],
      "text/plain": [
       "<IPython.core.display.HTML object>"
      ]
     },
     "metadata": {
      "tags": []
     },
     "output_type": "display_data"
    },
    {
     "name": "stdout",
     "output_type": "stream",
     "text": [
      "{'episode': 54, 'episode_length': 32, 'episode_return': -5.0}\n"
     ]
    },
    {
     "data": {
      "text/html": [
       "<b>Environment (2-back):</b><br /><pre><b>Stimuli:</b> 4300344510002532132310253532131</pre><pre><b>Actions:</b> M.M..MMM.M..MM.MMMMMMMM.MM..M.M</pre>"
      ],
      "text/plain": [
       "<IPython.core.display.HTML object>"
      ]
     },
     "metadata": {
      "tags": []
     },
     "output_type": "display_data"
    },
    {
     "name": "stdout",
     "output_type": "stream",
     "text": [
      "{'episode': 55, 'episode_length': 32, 'episode_return': -7.0}\n"
     ]
    },
    {
     "data": {
      "text/html": [
       "<b>Environment (2-back):</b><br /><pre><b>Stimuli:</b> 3402023223043011434131444215502</pre><pre><b>Actions:</b> MM.M....MM..M.MM....M.MM...MM..</pre>"
      ],
      "text/plain": [
       "<IPython.core.display.HTML object>"
      ]
     },
     "metadata": {
      "tags": []
     },
     "output_type": "display_data"
    },
    {
     "name": "stdout",
     "output_type": "stream",
     "text": [
      "{'episode': 56, 'episode_length': 32, 'episode_return': -7.0}\n"
     ]
    },
    {
     "data": {
      "text/html": [
       "<b>Environment (2-back):</b><br /><pre><b>Stimuli:</b> 0511023342523210524453501435233</pre><pre><b>Actions:</b> ...MM..M...M.MMMM.M.MM.MM..MMM.</pre>"
      ],
      "text/plain": [
       "<IPython.core.display.HTML object>"
      ]
     },
     "metadata": {
      "tags": []
     },
     "output_type": "display_data"
    },
    {
     "name": "stdout",
     "output_type": "stream",
     "text": [
      "{'episode': 57, 'episode_length': 32, 'episode_return': -1.0}\n"
     ]
    },
    {
     "data": {
      "text/html": [
       "<b>Environment (2-back):</b><br /><pre><b>Stimuli:</b> 0414135452411452300422331515502</pre><pre><b>Actions:</b> .M.......M...MM.MMM..M.MMMM..M.</pre>"
      ],
      "text/plain": [
       "<IPython.core.display.HTML object>"
      ]
     },
     "metadata": {
      "tags": []
     },
     "output_type": "display_data"
    },
    {
     "name": "stdout",
     "output_type": "stream",
     "text": [
      "{'episode': 58, 'episode_length': 32, 'episode_return': -1.0}\n"
     ]
    },
    {
     "data": {
      "text/html": [
       "<b>Environment (2-back):</b><br /><pre><b>Stimuli:</b> 3345523320514454503242453544003</pre><pre><b>Actions:</b> MM.M.MMMM...M...MMM..MMM..M.MM.</pre>"
      ],
      "text/plain": [
       "<IPython.core.display.HTML object>"
      ]
     },
     "metadata": {
      "tags": []
     },
     "output_type": "display_data"
    },
    {
     "name": "stdout",
     "output_type": "stream",
     "text": [
      "{'episode': 59, 'episode_length': 32, 'episode_return': 1.0}\n"
     ]
    },
    {
     "data": {
      "text/html": [
       "<b>Environment (2-back):</b><br /><pre><b>Stimuli:</b> 2025441242405254255433050512315</pre><pre><b>Actions:</b> .M.MMMM..M.......MMMMMM..MM.MMM</pre>"
      ],
      "text/plain": [
       "<IPython.core.display.HTML object>"
      ]
     },
     "metadata": {
      "tags": []
     },
     "output_type": "display_data"
    },
    {
     "name": "stdout",
     "output_type": "stream",
     "text": [
      "{'episode': 60, 'episode_length': 32, 'episode_return': -7.0}\n"
     ]
    },
    {
     "data": {
      "text/html": [
       "<b>Environment (2-back):</b><br /><pre><b>Stimuli:</b> 1031251545423103245330450023044</pre><pre><b>Actions:</b> M.M.M...M.M.....MM...MM.MM.MMM.</pre>"
      ],
      "text/plain": [
       "<IPython.core.display.HTML object>"
      ]
     },
     "metadata": {
      "tags": []
     },
     "output_type": "display_data"
    },
    {
     "name": "stdout",
     "output_type": "stream",
     "text": [
      "{'episode': 61, 'episode_length': 32, 'episode_return': 1.0}\n"
     ]
    },
    {
     "data": {
      "text/html": [
       "<b>Environment (2-back):</b><br /><pre><b>Stimuli:</b> 0533511533113553523102024511432</pre><pre><b>Actions:</b> ..MM..MM...M.M.M.M..MM...MMMM..</pre>"
      ],
      "text/plain": [
       "<IPython.core.display.HTML object>"
      ]
     },
     "metadata": {
      "tags": []
     },
     "output_type": "display_data"
    },
    {
     "name": "stdout",
     "output_type": "stream",
     "text": [
      "{'episode': 62, 'episode_length': 32, 'episode_return': -5.0}\n"
     ]
    },
    {
     "data": {
      "text/html": [
       "<b>Environment (2-back):</b><br /><pre><b>Stimuli:</b> 4150021153153310533234313203214</pre><pre><b>Actions:</b> M..MMM..M........MMMMMM..MM...M</pre>"
      ],
      "text/plain": [
       "<IPython.core.display.HTML object>"
      ]
     },
     "metadata": {
      "tags": []
     },
     "output_type": "display_data"
    },
    {
     "name": "stdout",
     "output_type": "stream",
     "text": [
      "{'episode': 63, 'episode_length': 32, 'episode_return': 7.0}\n"
     ]
    },
    {
     "data": {
      "text/html": [
       "<b>Environment (2-back):</b><br /><pre><b>Stimuli:</b> 4145022444301105515554241303325</pre><pre><b>Actions:</b> MMMM.MM..MMM.M.M..MM.M.MMM.M.M.</pre>"
      ],
      "text/plain": [
       "<IPython.core.display.HTML object>"
      ]
     },
     "metadata": {
      "tags": []
     },
     "output_type": "display_data"
    },
    {
     "name": "stdout",
     "output_type": "stream",
     "text": [
      "{'episode': 64, 'episode_length': 32, 'episode_return': 1.0}\n"
     ]
    },
    {
     "data": {
      "text/html": [
       "<b>Environment (2-back):</b><br /><pre><b>Stimuli:</b> 3121252525023540042034504254011</pre><pre><b>Actions:</b> .M...MM.MM.MMMM...M.M.M.MMM...M</pre>"
      ],
      "text/plain": [
       "<IPython.core.display.HTML object>"
      ]
     },
     "metadata": {
      "tags": []
     },
     "output_type": "display_data"
    },
    {
     "name": "stdout",
     "output_type": "stream",
     "text": [
      "{'episode': 65, 'episode_length': 32, 'episode_return': -1.0}\n"
     ]
    },
    {
     "data": {
      "text/html": [
       "<b>Environment (2-back):</b><br /><pre><b>Stimuli:</b> 5140111301110052442203221030331</pre><pre><b>Actions:</b> ..MMM.M..M....MM.M.M.....M.MMMM</pre>"
      ],
      "text/plain": [
       "<IPython.core.display.HTML object>"
      ]
     },
     "metadata": {
      "tags": []
     },
     "output_type": "display_data"
    },
    {
     "name": "stdout",
     "output_type": "stream",
     "text": [
      "{'episode': 66, 'episode_length': 32, 'episode_return': 7.0}\n"
     ]
    },
    {
     "data": {
      "text/html": [
       "<b>Environment (2-back):</b><br /><pre><b>Stimuli:</b> 0435315223125105302551305305500</pre><pre><b>Actions:</b> .M..MM.M....MM.MMM...MMM.MMM...</pre>"
      ],
      "text/plain": [
       "<IPython.core.display.HTML object>"
      ]
     },
     "metadata": {
      "tags": []
     },
     "output_type": "display_data"
    },
    {
     "name": "stdout",
     "output_type": "stream",
     "text": [
      "{'episode': 67, 'episode_length': 32, 'episode_return': 1.0}\n"
     ]
    },
    {
     "data": {
      "text/html": [
       "<b>Environment (2-back):</b><br /><pre><b>Stimuli:</b> 2342241405015010502115504110540</pre><pre><b>Actions:</b> ..M.MM..MMM..MM..MM.MM.....M.MM</pre>"
      ],
      "text/plain": [
       "<IPython.core.display.HTML object>"
      ]
     },
     "metadata": {
      "tags": []
     },
     "output_type": "display_data"
    },
    {
     "name": "stdout",
     "output_type": "stream",
     "text": [
      "{'episode': 68, 'episode_length': 32, 'episode_return': 1.0}\n"
     ]
    },
    {
     "data": {
      "text/html": [
       "<b>Environment (2-back):</b><br /><pre><b>Stimuli:</b> 2442230103434255220041053550445</pre><pre><b>Actions:</b> ...M.M.MM..M.MMM.MM.M..MMM.MM..</pre>"
      ],
      "text/plain": [
       "<IPython.core.display.HTML object>"
      ]
     },
     "metadata": {
      "tags": []
     },
     "output_type": "display_data"
    },
    {
     "name": "stdout",
     "output_type": "stream",
     "text": [
      "{'episode': 69, 'episode_length': 32, 'episode_return': 3.0}\n"
     ]
    },
    {
     "data": {
      "text/html": [
       "<b>Environment (2-back):</b><br /><pre><b>Stimuli:</b> 4520035104105522005303504454531</pre><pre><b>Actions:</b> ...MM.MM...MMMMMM.....M..M.MM..</pre>"
      ],
      "text/plain": [
       "<IPython.core.display.HTML object>"
      ]
     },
     "metadata": {
      "tags": []
     },
     "output_type": "display_data"
    },
    {
     "name": "stdout",
     "output_type": "stream",
     "text": [
      "{'episode': 70, 'episode_length': 32, 'episode_return': 3.0}\n"
     ]
    },
    {
     "data": {
      "text/html": [
       "<b>Environment (2-back):</b><br /><pre><b>Stimuli:</b> 3311123241321122504122412525243</pre><pre><b>Actions:</b> .MM.MM.MMMMM.M.M..M.MM....M.MM.</pre>"
      ],
      "text/plain": [
       "<IPython.core.display.HTML object>"
      ]
     },
     "metadata": {
      "tags": []
     },
     "output_type": "display_data"
    },
    {
     "name": "stdout",
     "output_type": "stream",
     "text": [
      "{'episode': 71, 'episode_length': 32, 'episode_return': 3.0}\n"
     ]
    },
    {
     "data": {
      "text/html": [
       "<b>Environment (2-back):</b><br /><pre><b>Stimuli:</b> 2202405204445101525335404110401</pre><pre><b>Actions:</b> .M..M..M.MM.........M...M.MMMM.</pre>"
      ],
      "text/plain": [
       "<IPython.core.display.HTML object>"
      ]
     },
     "metadata": {
      "tags": []
     },
     "output_type": "display_data"
    },
    {
     "name": "stdout",
     "output_type": "stream",
     "text": [
      "{'episode': 72, 'episode_length': 32, 'episode_return': 5.0}\n"
     ]
    },
    {
     "data": {
      "text/html": [
       "<b>Environment (2-back):</b><br /><pre><b>Stimuli:</b> 2154205140505253130130335553314</pre><pre><b>Actions:</b> MM...M...M.MMM...M.MMMM..MMM.MM</pre>"
      ],
      "text/plain": [
       "<IPython.core.display.HTML object>"
      ]
     },
     "metadata": {
      "tags": []
     },
     "output_type": "display_data"
    },
    {
     "name": "stdout",
     "output_type": "stream",
     "text": [
      "{'episode': 73, 'episode_length': 32, 'episode_return': 5.0}\n"
     ]
    },
    {
     "data": {
      "text/html": [
       "<b>Environment (2-back):</b><br /><pre><b>Stimuli:</b> 5235454514013500515100515433021</pre><pre><b>Actions:</b> ..M..MMMMMM..MM.M...M.M.M...M.M</pre>"
      ],
      "text/plain": [
       "<IPython.core.display.HTML object>"
      ]
     },
     "metadata": {
      "tags": []
     },
     "output_type": "display_data"
    },
    {
     "name": "stdout",
     "output_type": "stream",
     "text": [
      "{'episode': 74, 'episode_length': 32, 'episode_return': 5.0}\n"
     ]
    },
    {
     "data": {
      "text/html": [
       "<b>Environment (2-back):</b><br /><pre><b>Stimuli:</b> 1544443110054112340112422445454</pre><pre><b>Actions:</b> M.MM..M.M.MM...MM.MM...........</pre>"
      ],
      "text/plain": [
       "<IPython.core.display.HTML object>"
      ]
     },
     "metadata": {
      "tags": []
     },
     "output_type": "display_data"
    },
    {
     "name": "stdout",
     "output_type": "stream",
     "text": [
      "{'episode': 75, 'episode_length': 32, 'episode_return': -3.0}\n"
     ]
    },
    {
     "data": {
      "text/html": [
       "<b>Environment (2-back):</b><br /><pre><b>Stimuli:</b> 4213320331044140421454114450124</pre><pre><b>Actions:</b> MMMMMMMM.M..MMM...MMM..MMMMMM..</pre>"
      ],
      "text/plain": [
       "<IPython.core.display.HTML object>"
      ]
     },
     "metadata": {
      "tags": []
     },
     "output_type": "display_data"
    },
    {
     "name": "stdout",
     "output_type": "stream",
     "text": [
      "{'episode': 76, 'episode_length': 32, 'episode_return': -11.0}\n"
     ]
    },
    {
     "data": {
      "text/html": [
       "<b>Environment (2-back):</b><br /><pre><b>Stimuli:</b> 5454010245342023255020505320353</pre><pre><b>Actions:</b> ...MMM.M.M..M.MMMMMM.M..MMMM.M.</pre>"
      ],
      "text/plain": [
       "<IPython.core.display.HTML object>"
      ]
     },
     "metadata": {
      "tags": []
     },
     "output_type": "display_data"
    },
    {
     "name": "stdout",
     "output_type": "stream",
     "text": [
      "{'episode': 77, 'episode_length': 32, 'episode_return': -3.0}\n"
     ]
    },
    {
     "data": {
      "text/html": [
       "<b>Environment (2-back):</b><br /><pre><b>Stimuli:</b> 0314031422411433211422214233550</pre><pre><b>Actions:</b> MMMM.M.M..MMM.MM..MM.M......MMM</pre>"
      ],
      "text/plain": [
       "<IPython.core.display.HTML object>"
      ]
     },
     "metadata": {
      "tags": []
     },
     "output_type": "display_data"
    },
    {
     "name": "stdout",
     "output_type": "stream",
     "text": [
      "{'episode': 78, 'episode_length': 32, 'episode_return': -1.0}\n"
     ]
    },
    {
     "data": {
      "text/html": [
       "<b>Environment (2-back):</b><br /><pre><b>Stimuli:</b> 2554010114525453300132442243432</pre><pre><b>Actions:</b> M...MM..MMMM..MMMMMM.MMMM.M..M.</pre>"
      ],
      "text/plain": [
       "<IPython.core.display.HTML object>"
      ]
     },
     "metadata": {
      "tags": []
     },
     "output_type": "display_data"
    },
    {
     "name": "stdout",
     "output_type": "stream",
     "text": [
      "{'episode': 79, 'episode_length': 32, 'episode_return': -9.0}\n"
     ]
    },
    {
     "data": {
      "text/html": [
       "<b>Environment (2-back):</b><br /><pre><b>Stimuli:</b> 1451111453110100042130354055423</pre><pre><b>Actions:</b> ...M..MMM..M.M..M.M.....MM.MMMM</pre>"
      ],
      "text/plain": [
       "<IPython.core.display.HTML object>"
      ]
     },
     "metadata": {
      "tags": []
     },
     "output_type": "display_data"
    },
    {
     "name": "stdout",
     "output_type": "stream",
     "text": [
      "{'episode': 80, 'episode_length': 32, 'episode_return': 1.0}\n"
     ]
    },
    {
     "data": {
      "text/html": [
       "<b>Environment (2-back):</b><br /><pre><b>Stimuli:</b> 4305120422421055315010450005515</pre><pre><b>Actions:</b> M..MMMM...M.MMM.MM..M...M..M..M</pre>"
      ],
      "text/plain": [
       "<IPython.core.display.HTML object>"
      ]
     },
     "metadata": {
      "tags": []
     },
     "output_type": "display_data"
    },
    {
     "name": "stdout",
     "output_type": "stream",
     "text": [
      "{'episode': 81, 'episode_length': 32, 'episode_return': -3.0}\n"
     ]
    },
    {
     "data": {
      "text/html": [
       "<b>Environment (2-back):</b><br /><pre><b>Stimuli:</b> 4514530304045341351253033332213</pre><pre><b>Actions:</b> MM.M.M....MM...MM.MM.MMM.M.MMMM</pre>"
      ],
      "text/plain": [
       "<IPython.core.display.HTML object>"
      ]
     },
     "metadata": {
      "tags": []
     },
     "output_type": "display_data"
    },
    {
     "name": "stdout",
     "output_type": "stream",
     "text": [
      "{'episode': 82, 'episode_length': 32, 'episode_return': -3.0}\n"
     ]
    },
    {
     "data": {
      "text/html": [
       "<b>Environment (2-back):</b><br /><pre><b>Stimuli:</b> 1513355535103350102413111205450</pre><pre><b>Actions:</b> MMMM.M...M...M.M.M....M.M.MM...</pre>"
      ],
      "text/plain": [
       "<IPython.core.display.HTML object>"
      ]
     },
     "metadata": {
      "tags": []
     },
     "output_type": "display_data"
    },
    {
     "name": "stdout",
     "output_type": "stream",
     "text": [
      "{'episode': 83, 'episode_length': 32, 'episode_return': 11.0}\n"
     ]
    },
    {
     "data": {
      "text/html": [
       "<b>Environment (2-back):</b><br /><pre><b>Stimuli:</b> 3432214441033555101314211400432</pre><pre><b>Actions:</b> ......M..MM...MMMMMMMM.......M.</pre>"
      ],
      "text/plain": [
       "<IPython.core.display.HTML object>"
      ]
     },
     "metadata": {
      "tags": []
     },
     "output_type": "display_data"
    },
    {
     "name": "stdout",
     "output_type": "stream",
     "text": [
      "{'episode': 84, 'episode_length': 32, 'episode_return': 7.0}\n"
     ]
    },
    {
     "data": {
      "text/html": [
       "<b>Environment (2-back):</b><br /><pre><b>Stimuli:</b> 3035405151255545443513340412043</pre><pre><b>Actions:</b> ..M..M.M.M..MM.M..MM.MM.M.M.MM.</pre>"
      ],
      "text/plain": [
       "<IPython.core.display.HTML object>"
      ]
     },
     "metadata": {
      "tags": []
     },
     "output_type": "display_data"
    },
    {
     "name": "stdout",
     "output_type": "stream",
     "text": [
      "{'episode': 85, 'episode_length': 32, 'episode_return': 1.0}\n"
     ]
    },
    {
     "data": {
      "text/html": [
       "<b>Environment (2-back):</b><br /><pre><b>Stimuli:</b> 4035023115451343201041344311521</pre><pre><b>Actions:</b> ....MMMM.....M...M...M.....MMM.</pre>"
      ],
      "text/plain": [
       "<IPython.core.display.HTML object>"
      ]
     },
     "metadata": {
      "tags": []
     },
     "output_type": "display_data"
    },
    {
     "name": "stdout",
     "output_type": "stream",
     "text": [
      "{'episode': 86, 'episode_length': 32, 'episode_return': 5.0}\n"
     ]
    },
    {
     "data": {
      "text/html": [
       "<b>Environment (2-back):</b><br /><pre><b>Stimuli:</b> 5035341534512202021535224325525</pre><pre><b>Actions:</b> MMM.MM.MM.......M.....MMM.....M</pre>"
      ],
      "text/plain": [
       "<IPython.core.display.HTML object>"
      ]
     },
     "metadata": {
      "tags": []
     },
     "output_type": "display_data"
    },
    {
     "name": "stdout",
     "output_type": "stream",
     "text": [
      "{'episode': 87, 'episode_length': 32, 'episode_return': 9.0}\n"
     ]
    },
    {
     "data": {
      "text/html": [
       "<b>Environment (2-back):</b><br /><pre><b>Stimuli:</b> 2100125212232045024204053015422</pre><pre><b>Actions:</b> .MM.M.MM.MM...MM.M...M....MMMMM</pre>"
      ],
      "text/plain": [
       "<IPython.core.display.HTML object>"
      ]
     },
     "metadata": {
      "tags": []
     },
     "output_type": "display_data"
    },
    {
     "name": "stdout",
     "output_type": "stream",
     "text": [
      "{'episode': 88, 'episode_length': 32, 'episode_return': -5.0}\n"
     ]
    },
    {
     "data": {
      "text/html": [
       "<b>Environment (2-back):</b><br /><pre><b>Stimuli:</b> 4413454552320252020443455405450</pre><pre><b>Actions:</b> MMM.MMMM.MM.MMMMMMM.M..MMM.M.MM</pre>"
      ],
      "text/plain": [
       "<IPython.core.display.HTML object>"
      ]
     },
     "metadata": {
      "tags": []
     },
     "output_type": "display_data"
    },
    {
     "name": "stdout",
     "output_type": "stream",
     "text": [
      "{'episode': 89, 'episode_length': 32, 'episode_return': -5.0}\n"
     ]
    },
    {
     "data": {
      "text/html": [
       "<b>Environment (2-back):</b><br /><pre><b>Stimuli:</b> 5505514321205505554150020125410</pre><pre><b>Actions:</b> ..MMM.M.MM..MMMMMMM..MM.M..MMM.</pre>"
      ],
      "text/plain": [
       "<IPython.core.display.HTML object>"
      ]
     },
     "metadata": {
      "tags": []
     },
     "output_type": "display_data"
    },
    {
     "name": "stdout",
     "output_type": "stream",
     "text": [
      "{'episode': 90, 'episode_length': 32, 'episode_return': -1.0}\n"
     ]
    },
    {
     "data": {
      "text/html": [
       "<b>Environment (2-back):</b><br /><pre><b>Stimuli:</b> 3211021153001500420323550030503</pre><pre><b>Actions:</b> MMMM.MM..MMM.MMMM.MMMMM.M.M..M.</pre>"
      ],
      "text/plain": [
       "<IPython.core.display.HTML object>"
      ]
     },
     "metadata": {
      "tags": []
     },
     "output_type": "display_data"
    },
    {
     "name": "stdout",
     "output_type": "stream",
     "text": [
      "{'episode': 91, 'episode_length': 32, 'episode_return': -7.0}\n"
     ]
    },
    {
     "data": {
      "text/html": [
       "<b>Environment (2-back):</b><br /><pre><b>Stimuli:</b> 1511115342543340251530544302334</pre><pre><b>Actions:</b> .MM..MMMMMMMM...M..MM..MMM..MM.</pre>"
      ],
      "text/plain": [
       "<IPython.core.display.HTML object>"
      ]
     },
     "metadata": {
      "tags": []
     },
     "output_type": "display_data"
    },
    {
     "name": "stdout",
     "output_type": "stream",
     "text": [
      "{'episode': 92, 'episode_length': 32, 'episode_return': -1.0}\n"
     ]
    },
    {
     "data": {
      "text/html": [
       "<b>Environment (2-back):</b><br /><pre><b>Stimuli:</b> 1431315112440325535454002322325</pre><pre><b>Actions:</b> ....MMMMMM..MM.MM..M.M...M.MM..</pre>"
      ],
      "text/plain": [
       "<IPython.core.display.HTML object>"
      ]
     },
     "metadata": {
      "tags": []
     },
     "output_type": "display_data"
    },
    {
     "name": "stdout",
     "output_type": "stream",
     "text": [
      "{'episode': 93, 'episode_length': 32, 'episode_return': 1.0}\n"
     ]
    },
    {
     "data": {
      "text/html": [
       "<b>Environment (2-back):</b><br /><pre><b>Stimuli:</b> 1332424224223432123502522414404</pre><pre><b>Actions:</b> .MM.MMMMM........M..M.M.MM..M.M</pre>"
      ],
      "text/plain": [
       "<IPython.core.display.HTML object>"
      ]
     },
     "metadata": {
      "tags": []
     },
     "output_type": "display_data"
    },
    {
     "name": "stdout",
     "output_type": "stream",
     "text": [
      "{'episode': 94, 'episode_length': 32, 'episode_return': 5.0}\n"
     ]
    },
    {
     "data": {
      "text/html": [
       "<b>Environment (2-back):</b><br /><pre><b>Stimuli:</b> 2233545300455103420254555151203</pre><pre><b>Actions:</b> ..M.MM.MMMM.MMM..M.MM.M.M...MMM</pre>"
      ],
      "text/plain": [
       "<IPython.core.display.HTML object>"
      ]
     },
     "metadata": {
      "tags": []
     },
     "output_type": "display_data"
    },
    {
     "name": "stdout",
     "output_type": "stream",
     "text": [
      "{'episode': 95, 'episode_length': 32, 'episode_return': -5.0}\n"
     ]
    },
    {
     "data": {
      "text/html": [
       "<b>Environment (2-back):</b><br /><pre><b>Stimuli:</b> 1242332255531222320440223343044</pre><pre><b>Actions:</b> .M.MM.M.MMMM....MM.MM.M..M.M...</pre>"
      ],
      "text/plain": [
       "<IPython.core.display.HTML object>"
      ]
     },
     "metadata": {
      "tags": []
     },
     "output_type": "display_data"
    },
    {
     "name": "stdout",
     "output_type": "stream",
     "text": [
      "{'episode': 96, 'episode_length': 32, 'episode_return': 7.0}\n"
     ]
    },
    {
     "data": {
      "text/html": [
       "<b>Environment (2-back):</b><br /><pre><b>Stimuli:</b> 0351050503055115153413434012002</pre><pre><b>Actions:</b> ....MM.M.MMMMM...MM..MM.M.M..M.</pre>"
      ],
      "text/plain": [
       "<IPython.core.display.HTML object>"
      ]
     },
     "metadata": {
      "tags": []
     },
     "output_type": "display_data"
    },
    {
     "name": "stdout",
     "output_type": "stream",
     "text": [
      "{'episode': 97, 'episode_length': 32, 'episode_return': 1.0}\n"
     ]
    },
    {
     "data": {
      "text/html": [
       "<b>Environment (2-back):</b><br /><pre><b>Stimuli:</b> 3011113110433013324321255120524</pre><pre><b>Actions:</b> ...MMMMMM......M..M...MMMM..MMM</pre>"
      ],
      "text/plain": [
       "<IPython.core.display.HTML object>"
      ]
     },
     "metadata": {
      "tags": []
     },
     "output_type": "display_data"
    },
    {
     "name": "stdout",
     "output_type": "stream",
     "text": [
      "{'episode': 98, 'episode_length': 32, 'episode_return': 9.0}\n"
     ]
    },
    {
     "data": {
      "text/html": [
       "<b>Environment (2-back):</b><br /><pre><b>Stimuli:</b> 5422120333454402333351411235450</pre><pre><b>Actions:</b> M..M..MM..M......MM...M.M.MMMMM</pre>"
      ],
      "text/plain": [
       "<IPython.core.display.HTML object>"
      ]
     },
     "metadata": {
      "tags": []
     },
     "output_type": "display_data"
    },
    {
     "name": "stdout",
     "output_type": "stream",
     "text": [
      "{'episode': 99, 'episode_length': 32, 'episode_return': -3.0}\n"
     ]
    },
    {
     "data": {
      "text/html": [
       "<b>Environment (2-back):</b><br /><pre><b>Stimuli:</b> 5402444031234122100403324442541</pre><pre><b>Actions:</b> MMM.M......MMMM...M..MMMM.MMM.M</pre>"
      ],
      "text/plain": [
       "<IPython.core.display.HTML object>"
      ]
     },
     "metadata": {
      "tags": []
     },
     "output_type": "display_data"
    },
    {
     "name": "stdout",
     "output_type": "stream",
     "text": [
      "{'episode': 100, 'episode_length': 32, 'episode_return': -5.0}\n"
     ]
    },
    {
     "data": {
      "text/html": [
       "<b>Environment (2-back):</b><br /><pre><b>Stimuli:</b> 4111324013325203130124013030123</pre><pre><b>Actions:</b> .M.MMMMMM......MMM.MM.M..M.M..M</pre>"
      ],
      "text/plain": [
       "<IPython.core.display.HTML object>"
      ]
     },
     "metadata": {
      "tags": []
     },
     "output_type": "display_data"
    },
    {
     "name": "stdout",
     "output_type": "stream",
     "text": [
      "{'episode': 101, 'episode_length': 32, 'episode_return': 1.0}\n"
     ]
    },
    {
     "data": {
      "text/html": [
       "<b>Environment (2-back):</b><br /><pre><b>Stimuli:</b> 3144440233041432340011530404455</pre><pre><b>Actions:</b> M..M.MMM...M.MMM.MMMM.M.M..MMMM</pre>"
      ],
      "text/plain": [
       "<IPython.core.display.HTML object>"
      ]
     },
     "metadata": {
      "tags": []
     },
     "output_type": "display_data"
    },
    {
     "name": "stdout",
     "output_type": "stream",
     "text": [
      "{'episode': 102, 'episode_length': 32, 'episode_return': -7.0}\n"
     ]
    },
    {
     "data": {
      "text/html": [
       "<b>Environment (2-back):</b><br /><pre><b>Stimuli:</b> 3525430312402104133552331213555</pre><pre><b>Actions:</b> ...M......M.MM...MMM..M..M.MM..</pre>"
      ],
      "text/plain": [
       "<IPython.core.display.HTML object>"
      ]
     },
     "metadata": {
      "tags": []
     },
     "output_type": "display_data"
    },
    {
     "name": "stdout",
     "output_type": "stream",
     "text": [
      "{'episode': 103, 'episode_length': 32, 'episode_return': 5.0}\n"
     ]
    },
    {
     "data": {
      "text/html": [
       "<b>Environment (2-back):</b><br /><pre><b>Stimuli:</b> 4442520252424021401015324323225</pre><pre><b>Actions:</b> .MMM..M.M..M..M.M..MMM.MM.M....</pre>"
      ],
      "text/plain": [
       "<IPython.core.display.HTML object>"
      ]
     },
     "metadata": {
      "tags": []
     },
     "output_type": "display_data"
    },
    {
     "name": "stdout",
     "output_type": "stream",
     "text": [
      "{'episode': 104, 'episode_length': 32, 'episode_return': 1.0}\n"
     ]
    },
    {
     "data": {
      "text/html": [
       "<b>Environment (2-back):</b><br /><pre><b>Stimuli:</b> 3401010302530250535142301153350</pre><pre><b>Actions:</b> M.M...MMMM.MMM.MM..M.M..MM...MM</pre>"
      ],
      "text/plain": [
       "<IPython.core.display.HTML object>"
      ]
     },
     "metadata": {
      "tags": []
     },
     "output_type": "display_data"
    },
    {
     "name": "stdout",
     "output_type": "stream",
     "text": [
      "{'episode': 105, 'episode_length': 32, 'episode_return': -3.0}\n"
     ]
    },
    {
     "data": {
      "text/html": [
       "<b>Environment (2-back):</b><br /><pre><b>Stimuli:</b> 3324441203552444044542420001451</pre><pre><b>Actions:</b> M.MMMM.....M...MM..M.MM.M.M...M</pre>"
      ],
      "text/plain": [
       "<IPython.core.display.HTML object>"
      ]
     },
     "metadata": {
      "tags": []
     },
     "output_type": "display_data"
    },
    {
     "name": "stdout",
     "output_type": "stream",
     "text": [
      "{'episode': 106, 'episode_length': 32, 'episode_return': 5.0}\n"
     ]
    },
    {
     "data": {
      "text/html": [
       "<b>Environment (2-back):</b><br /><pre><b>Stimuli:</b> 0010402405501014354122204452220</pre><pre><b>Actions:</b> ..M..MMM.M.M..MM..M...MMMM...MM</pre>"
      ],
      "text/plain": [
       "<IPython.core.display.HTML object>"
      ]
     },
     "metadata": {
      "tags": []
     },
     "output_type": "display_data"
    },
    {
     "name": "stdout",
     "output_type": "stream",
     "text": [
      "{'episode': 107, 'episode_length': 32, 'episode_return': 3.0}\n"
     ]
    },
    {
     "data": {
      "text/html": [
       "<b>Environment (2-back):</b><br /><pre><b>Stimuli:</b> 4400140522404445104004013253411</pre><pre><b>Actions:</b> .M.M...M.MM.....MM.MM..MM...M..</pre>"
      ],
      "text/plain": [
       "<IPython.core.display.HTML object>"
      ]
     },
     "metadata": {
      "tags": []
     },
     "output_type": "display_data"
    },
    {
     "name": "stdout",
     "output_type": "stream",
     "text": [
      "{'episode': 108, 'episode_length': 32, 'episode_return': 3.0}\n"
     ]
    },
    {
     "data": {
      "text/html": [
       "<b>Environment (2-back):</b><br /><pre><b>Stimuli:</b> 1300415233501101351521052515050</pre><pre><b>Actions:</b> .MM.MM...MM.MM.MM...M.M.MMMMMMM</pre>"
      ],
      "text/plain": [
       "<IPython.core.display.HTML object>"
      ]
     },
     "metadata": {
      "tags": []
     },
     "output_type": "display_data"
    },
    {
     "name": "stdout",
     "output_type": "stream",
     "text": [
      "{'episode': 109, 'episode_length': 32, 'episode_return': 1.0}\n"
     ]
    },
    {
     "data": {
      "text/html": [
       "<b>Environment (2-back):</b><br /><pre><b>Stimuli:</b> 0143350102151404003133031524304</pre><pre><b>Actions:</b> .M.M..MMMMMMM.M..MM.MMMMMM.MMMM</pre>"
      ],
      "text/plain": [
       "<IPython.core.display.HTML object>"
      ]
     },
     "metadata": {
      "tags": []
     },
     "output_type": "display_data"
    },
    {
     "name": "stdout",
     "output_type": "stream",
     "text": [
      "{'episode': 110, 'episode_length': 32, 'episode_return': -9.0}\n"
     ]
    },
    {
     "data": {
      "text/html": [
       "<b>Environment (2-back):</b><br /><pre><b>Stimuli:</b> 4505043501415300303012331034555</pre><pre><b>Actions:</b> MM....MM..M..MM.M.M.MMMM..MM..M</pre>"
      ],
      "text/plain": [
       "<IPython.core.display.HTML object>"
      ]
     },
     "metadata": {
      "tags": []
     },
     "output_type": "display_data"
    },
    {
     "name": "stdout",
     "output_type": "stream",
     "text": [
      "{'episode': 111, 'episode_length': 32, 'episode_return': -7.0}\n"
     ]
    },
    {
     "data": {
      "text/html": [
       "<b>Environment (2-back):</b><br /><pre><b>Stimuli:</b> 1501113300431512503033220233220</pre><pre><b>Actions:</b> MM.M.MM.MMM.M..MM...MM..MMM.MM.</pre>"
      ],
      "text/plain": [
       "<IPython.core.display.HTML object>"
      ]
     },
     "metadata": {
      "tags": []
     },
     "output_type": "display_data"
    },
    {
     "name": "stdout",
     "output_type": "stream",
     "text": [
      "{'episode': 112, 'episode_length': 32, 'episode_return': -3.0}\n"
     ]
    },
    {
     "data": {
      "text/html": [
       "<b>Environment (2-back):</b><br /><pre><b>Stimuli:</b> 4515444515001154345131513235304</pre><pre><b>Actions:</b> .MM..MMM.MMM.M.MMM.M.M.......MM</pre>"
      ],
      "text/plain": [
       "<IPython.core.display.HTML object>"
      ]
     },
     "metadata": {
      "tags": []
     },
     "output_type": "display_data"
    },
    {
     "name": "stdout",
     "output_type": "stream",
     "text": [
      "{'episode': 113, 'episode_length': 32, 'episode_return': -3.0}\n"
     ]
    },
    {
     "data": {
      "text/html": [
       "<b>Environment (2-back):</b><br /><pre><b>Stimuli:</b> 2350442042334133220435201101214</pre><pre><b>Actions:</b> ....M...MMMMM.M.MMM..MM....M...</pre>"
      ],
      "text/plain": [
       "<IPython.core.display.HTML object>"
      ]
     },
     "metadata": {
      "tags": []
     },
     "output_type": "display_data"
    },
    {
     "name": "stdout",
     "output_type": "stream",
     "text": [
      "{'episode': 114, 'episode_length': 32, 'episode_return': 5.0}\n"
     ]
    },
    {
     "data": {
      "text/html": [
       "<b>Environment (2-back):</b><br /><pre><b>Stimuli:</b> 3544520034025541545321423350255</pre><pre><b>Actions:</b> .M...M......M.M...MMMM.MMM.MM..</pre>"
      ],
      "text/plain": [
       "<IPython.core.display.HTML object>"
      ]
     },
     "metadata": {
      "tags": []
     },
     "output_type": "display_data"
    },
    {
     "name": "stdout",
     "output_type": "stream",
     "text": [
      "{'episode': 115, 'episode_length': 32, 'episode_return': 7.0}\n"
     ]
    },
    {
     "data": {
      "text/html": [
       "<b>Environment (2-back):</b><br /><pre><b>Stimuli:</b> 4034503135303453310145232525252</pre><pre><b>Actions:</b> ..MM...MM.MM..M..M.MM.MM.M..M.M</pre>"
      ],
      "text/plain": [
       "<IPython.core.display.HTML object>"
      ]
     },
     "metadata": {
      "tags": []
     },
     "output_type": "display_data"
    },
    {
     "name": "stdout",
     "output_type": "stream",
     "text": [
      "{'episode': 116, 'episode_length': 32, 'episode_return': 1.0}\n"
     ]
    },
    {
     "data": {
      "text/html": [
       "<b>Environment (2-back):</b><br /><pre><b>Stimuli:</b> 1253112405500055533321205014520</pre><pre><b>Actions:</b> M.MM.MMM.M...MM.....M..M.MMM..M</pre>"
      ],
      "text/plain": [
       "<IPython.core.display.HTML object>"
      ]
     },
     "metadata": {
      "tags": []
     },
     "output_type": "display_data"
    },
    {
     "name": "stdout",
     "output_type": "stream",
     "text": [
      "{'episode': 117, 'episode_length': 32, 'episode_return': -1.0}\n"
     ]
    },
    {
     "data": {
      "text/html": [
       "<b>Environment (2-back):</b><br /><pre><b>Stimuli:</b> 0013223414432035452115320245222</pre><pre><b>Actions:</b> MM..MM.....MMMM.M..MMM.MM..M..M</pre>"
      ],
      "text/plain": [
       "<IPython.core.display.HTML object>"
      ]
     },
     "metadata": {
      "tags": []
     },
     "output_type": "display_data"
    },
    {
     "name": "stdout",
     "output_type": "stream",
     "text": [
      "{'episode': 118, 'episode_length': 32, 'episode_return': -5.0}\n"
     ]
    },
    {
     "data": {
      "text/html": [
       "<b>Environment (2-back):</b><br /><pre><b>Stimuli:</b> 2420342343413032234240020300504</pre><pre><b>Actions:</b> .MM..M.MM.....MMM.MMMM..MM.MM.M</pre>"
      ],
      "text/plain": [
       "<IPython.core.display.HTML object>"
      ]
     },
     "metadata": {
      "tags": []
     },
     "output_type": "display_data"
    },
    {
     "name": "stdout",
     "output_type": "stream",
     "text": [
      "{'episode': 119, 'episode_length': 32, 'episode_return': -1.0}\n"
     ]
    },
    {
     "data": {
      "text/html": [
       "<b>Environment (2-back):</b><br /><pre><b>Stimuli:</b> 5335450154232512113544401101212</pre><pre><b>Actions:</b> MM...MMM.M.MM....M.MM.M.MM..M.M</pre>"
      ],
      "text/plain": [
       "<IPython.core.display.HTML object>"
      ]
     },
     "metadata": {
      "tags": []
     },
     "output_type": "display_data"
    },
    {
     "name": "stdout",
     "output_type": "stream",
     "text": [
      "{'episode': 120, 'episode_length': 32, 'episode_return': 1.0}\n"
     ]
    },
    {
     "data": {
      "text/html": [
       "<b>Environment (2-back):</b><br /><pre><b>Stimuli:</b> 5004154512035425352315421034133</pre><pre><b>Actions:</b> M....M..M...MMMM.MM.M.MM.MM.M.M</pre>"
      ],
      "text/plain": [
       "<IPython.core.display.HTML object>"
      ]
     },
     "metadata": {
      "tags": []
     },
     "output_type": "display_data"
    },
    {
     "name": "stdout",
     "output_type": "stream",
     "text": [
      "{'episode': 121, 'episode_length': 32, 'episode_return': -1.0}\n"
     ]
    },
    {
     "data": {
      "text/html": [
       "<b>Environment (2-back):</b><br /><pre><b>Stimuli:</b> 5352342502221512315455403433334</pre><pre><b>Actions:</b> ..MMMM.M...M.MMM..M..M.MM.M....</pre>"
      ],
      "text/plain": [
       "<IPython.core.display.HTML object>"
      ]
     },
     "metadata": {
      "tags": []
     },
     "output_type": "display_data"
    },
    {
     "name": "stdout",
     "output_type": "stream",
     "text": [
      "{'episode': 122, 'episode_length': 32, 'episode_return': 5.0}\n"
     ]
    },
    {
     "data": {
      "text/html": [
       "<b>Environment (2-back):</b><br /><pre><b>Stimuli:</b> 1340310154501214305533225124023</pre><pre><b>Actions:</b> MMM.M.M.M...M...MMM..MMMM.M...M</pre>"
      ],
      "text/plain": [
       "<IPython.core.display.HTML object>"
      ]
     },
     "metadata": {
      "tags": []
     },
     "output_type": "display_data"
    },
    {
     "name": "stdout",
     "output_type": "stream",
     "text": [
      "{'episode': 123, 'episode_length': 32, 'episode_return': -7.0}\n"
     ]
    },
    {
     "data": {
      "text/html": [
       "<b>Environment (2-back):</b><br /><pre><b>Stimuli:</b> 4040521030052151344434433304124</pre><pre><b>Actions:</b> M.MM.M.MM.M.M.M..M.MMMMMM.MMMMM</pre>"
      ],
      "text/plain": [
       "<IPython.core.display.HTML object>"
      ]
     },
     "metadata": {
      "tags": []
     },
     "output_type": "display_data"
    },
    {
     "name": "stdout",
     "output_type": "stream",
     "text": [
      "{'episode': 124, 'episode_length': 32, 'episode_return': -7.0}\n"
     ]
    },
    {
     "data": {
      "text/html": [
       "<b>Environment (2-back):</b><br /><pre><b>Stimuli:</b> 0320155441224005214254434420554</pre><pre><b>Actions:</b> M.MMM.M....M.M..MMMMM..M.MMM...</pre>"
      ],
      "text/plain": [
       "<IPython.core.display.HTML object>"
      ]
     },
     "metadata": {
      "tags": []
     },
     "output_type": "display_data"
    },
    {
     "name": "stdout",
     "output_type": "stream",
     "text": [
      "{'episode': 125, 'episode_length': 32, 'episode_return': -5.0}\n"
     ]
    },
    {
     "data": {
      "text/html": [
       "<b>Environment (2-back):</b><br /><pre><b>Stimuli:</b> 2004554155431215532233432103434</pre><pre><b>Actions:</b> .MMM.M.M.M....MMM.MMM..MMM.M.MM</pre>"
      ],
      "text/plain": [
       "<IPython.core.display.HTML object>"
      ]
     },
     "metadata": {
      "tags": []
     },
     "output_type": "display_data"
    },
    {
     "name": "stdout",
     "output_type": "stream",
     "text": [
      "{'episode': 126, 'episode_length': 32, 'episode_return': 5.0}\n"
     ]
    },
    {
     "data": {
      "text/html": [
       "<b>Environment (2-back):</b><br /><pre><b>Stimuli:</b> 4432031111500132143405430545330</pre><pre><b>Actions:</b> .M..M.M....MM.M...MM.....M..MM.</pre>"
      ],
      "text/plain": [
       "<IPython.core.display.HTML object>"
      ]
     },
     "metadata": {
      "tags": []
     },
     "output_type": "display_data"
    },
    {
     "name": "stdout",
     "output_type": "stream",
     "text": [
      "{'episode': 127, 'episode_length': 32, 'episode_return': 5.0}\n"
     ]
    },
    {
     "data": {
      "text/html": [
       "<b>Environment (2-back):</b><br /><pre><b>Stimuli:</b> 3224525020312101430151100150030</pre><pre><b>Actions:</b> ..M..MM...MMM..MMM...M..M.MM...</pre>"
      ],
      "text/plain": [
       "<IPython.core.display.HTML object>"
      ]
     },
     "metadata": {
      "tags": []
     },
     "output_type": "display_data"
    },
    {
     "name": "stdout",
     "output_type": "stream",
     "text": [
      "{'episode': 128, 'episode_length': 32, 'episode_return': 5.0}\n"
     ]
    },
    {
     "data": {
      "text/html": [
       "<b>Environment (2-back):</b><br /><pre><b>Stimuli:</b> 1142550530051100321340433433021</pre><pre><b>Actions:</b> ..MMM.MMMM..MMM.MM..MM.M.MMMMMM</pre>"
      ],
      "text/plain": [
       "<IPython.core.display.HTML object>"
      ]
     },
     "metadata": {
      "tags": []
     },
     "output_type": "display_data"
    },
    {
     "name": "stdout",
     "output_type": "stream",
     "text": [
      "{'episode': 129, 'episode_length': 32, 'episode_return': -11.0}\n"
     ]
    },
    {
     "data": {
      "text/html": [
       "<b>Environment (2-back):</b><br /><pre><b>Stimuli:</b> 1020411244411404044225141142250</pre><pre><b>Actions:</b> MMM......MMM.MMMM...M.MMMMMM.M.</pre>"
      ],
      "text/plain": [
       "<IPython.core.display.HTML object>"
      ]
     },
     "metadata": {
      "tags": []
     },
     "output_type": "display_data"
    },
    {
     "name": "stdout",
     "output_type": "stream",
     "text": [
      "{'episode': 130, 'episode_length': 32, 'episode_return': -1.0}\n"
     ]
    },
    {
     "data": {
      "text/html": [
       "<b>Environment (2-back):</b><br /><pre><b>Stimuli:</b> 2454544304501325241522034042211</pre><pre><b>Actions:</b> .MM..MM.M.MMMMMMMMM.M.M..MMMM.M</pre>"
      ],
      "text/plain": [
       "<IPython.core.display.HTML object>"
      ]
     },
     "metadata": {
      "tags": []
     },
     "output_type": "display_data"
    },
    {
     "name": "stdout",
     "output_type": "stream",
     "text": [
      "{'episode': 131, 'episode_length': 32, 'episode_return': -9.0}\n"
     ]
    },
    {
     "data": {
      "text/html": [
       "<b>Environment (2-back):</b><br /><pre><b>Stimuli:</b> 5544110351403025500214143502025</pre><pre><b>Actions:</b> MM.....M.MM.MMM.MM..MM.MM..MM..</pre>"
      ],
      "text/plain": [
       "<IPython.core.display.HTML object>"
      ]
     },
     "metadata": {
      "tags": []
     },
     "output_type": "display_data"
    },
    {
     "name": "stdout",
     "output_type": "stream",
     "text": [
      "{'episode': 132, 'episode_length': 32, 'episode_return': 3.0}\n"
     ]
    },
    {
     "data": {
      "text/html": [
       "<b>Environment (2-back):</b><br /><pre><b>Stimuli:</b> 3501011103535110053124424330521</pre><pre><b>Actions:</b> MM..MMM.MMM.M.MM.MMMM.MM..MMMMM</pre>"
      ],
      "text/plain": [
       "<IPython.core.display.HTML object>"
      ]
     },
     "metadata": {
      "tags": []
     },
     "output_type": "display_data"
    },
    {
     "name": "stdout",
     "output_type": "stream",
     "text": [
      "{'episode': 133, 'episode_length': 32, 'episode_return': -13.0}\n"
     ]
    },
    {
     "data": {
      "text/html": [
       "<b>Environment (2-back):</b><br /><pre><b>Stimuli:</b> 5350343224341335533045312130335</pre><pre><b>Actions:</b> MM.M.MMMM.MMM..MM..MMMM.MMMMM..</pre>"
      ],
      "text/plain": [
       "<IPython.core.display.HTML object>"
      ]
     },
     "metadata": {
      "tags": []
     },
     "output_type": "display_data"
    },
    {
     "name": "stdout",
     "output_type": "stream",
     "text": [
      "{'episode': 134, 'episode_length': 32, 'episode_return': -3.0}\n"
     ]
    },
    {
     "data": {
      "text/html": [
       "<b>Environment (2-back):</b><br /><pre><b>Stimuli:</b> 5453455320105311005255110102202</pre><pre><b>Actions:</b> M.M...M.......M.M.MM.M..MMM.M.M</pre>"
      ],
      "text/plain": [
       "<IPython.core.display.HTML object>"
      ]
     },
     "metadata": {
      "tags": []
     },
     "output_type": "display_data"
    },
    {
     "name": "stdout",
     "output_type": "stream",
     "text": [
      "{'episode': 135, 'episode_length': 32, 'episode_return': 9.0}\n"
     ]
    },
    {
     "data": {
      "text/html": [
       "<b>Environment (2-back):</b><br /><pre><b>Stimuli:</b> 5511044330254004224224415425125</pre><pre><b>Actions:</b> MM...M....MM.M..MM.M...MMMM.M..</pre>"
      ],
      "text/plain": [
       "<IPython.core.display.HTML object>"
      ]
     },
     "metadata": {
      "tags": []
     },
     "output_type": "display_data"
    },
    {
     "name": "stdout",
     "output_type": "stream",
     "text": [
      "{'episode': 136, 'episode_length': 32, 'episode_return': 7.0}\n"
     ]
    },
    {
     "data": {
      "text/html": [
       "<b>Environment (2-back):</b><br /><pre><b>Stimuli:</b> 5521544135343044052130453253120</pre><pre><b>Actions:</b> ..M.....MM.MM..M...MM.M...MM.M.</pre>"
      ],
      "text/plain": [
       "<IPython.core.display.HTML object>"
      ]
     },
     "metadata": {
      "tags": []
     },
     "output_type": "display_data"
    },
    {
     "name": "stdout",
     "output_type": "stream",
     "text": [
      "{'episode': 137, 'episode_length': 32, 'episode_return': 7.0}\n"
     ]
    },
    {
     "data": {
      "text/html": [
       "<b>Environment (2-back):</b><br /><pre><b>Stimuli:</b> 3443342000401030420401122300214</pre><pre><b>Actions:</b> .M.M....M.MMM.MMMM..MM.M....M.M</pre>"
      ],
      "text/plain": [
       "<IPython.core.display.HTML object>"
      ]
     },
     "metadata": {
      "tags": []
     },
     "output_type": "display_data"
    },
    {
     "name": "stdout",
     "output_type": "stream",
     "text": [
      "{'episode': 138, 'episode_length': 32, 'episode_return': 5.0}\n"
     ]
    },
    {
     "data": {
      "text/html": [
       "<b>Environment (2-back):</b><br /><pre><b>Stimuli:</b> 2303242241015443543344022224330</pre><pre><b>Actions:</b> MMM.MMM....MM.M...MM.M.MMM..M.M</pre>"
      ],
      "text/plain": [
       "<IPython.core.display.HTML object>"
      ]
     },
     "metadata": {
      "tags": []
     },
     "output_type": "display_data"
    },
    {
     "name": "stdout",
     "output_type": "stream",
     "text": [
      "{'episode': 139, 'episode_length': 32, 'episode_return': -1.0}\n"
     ]
    },
    {
     "data": {
      "text/html": [
       "<b>Environment (2-back):</b><br /><pre><b>Stimuli:</b> 2434403052332414213101554125511</pre><pre><b>Actions:</b> .MMMMMMM...M.MM..M..MM....M....</pre>"
      ],
      "text/plain": [
       "<IPython.core.display.HTML object>"
      ]
     },
     "metadata": {
      "tags": []
     },
     "output_type": "display_data"
    },
    {
     "name": "stdout",
     "output_type": "stream",
     "text": [
      "{'episode': 140, 'episode_length': 32, 'episode_return': 5.0}\n"
     ]
    },
    {
     "data": {
      "text/html": [
       "<b>Environment (2-back):</b><br /><pre><b>Stimuli:</b> 3151001321541343122315131242422</pre><pre><b>Actions:</b> .M..M.MMMM.MM.MMM...M..MMM..M..</pre>"
      ],
      "text/plain": [
       "<IPython.core.display.HTML object>"
      ]
     },
     "metadata": {
      "tags": []
     },
     "output_type": "display_data"
    },
    {
     "name": "stdout",
     "output_type": "stream",
     "text": [
      "{'episode': 141, 'episode_length': 32, 'episode_return': -3.0}\n"
     ]
    },
    {
     "data": {
      "text/html": [
       "<b>Environment (2-back):</b><br /><pre><b>Stimuli:</b> 3110210051115405154315152540415</pre><pre><b>Actions:</b> .M.M..MMM.M.M..M..M....M.......</pre>"
      ],
      "text/plain": [
       "<IPython.core.display.HTML object>"
      ]
     },
     "metadata": {
      "tags": []
     },
     "output_type": "display_data"
    },
    {
     "name": "stdout",
     "output_type": "stream",
     "text": [
      "{'episode': 142, 'episode_length': 32, 'episode_return': 3.0}\n"
     ]
    },
    {
     "data": {
      "text/html": [
       "<b>Environment (2-back):</b><br /><pre><b>Stimuli:</b> 1231135044241423512322542124034</pre><pre><b>Actions:</b> ....M.M..M..MM.....M.MMMM..MMMM</pre>"
      ],
      "text/plain": [
       "<IPython.core.display.HTML object>"
      ]
     },
     "metadata": {
      "tags": []
     },
     "output_type": "display_data"
    },
    {
     "name": "stdout",
     "output_type": "stream",
     "text": [
      "{'episode': 143, 'episode_length': 32, 'episode_return': -1.0}\n"
     ]
    },
    {
     "data": {
      "text/html": [
       "<b>Environment (2-back):</b><br /><pre><b>Stimuli:</b> 3412054432553424035053055251405</pre><pre><b>Actions:</b> .M.MMM.MM..M...M.M.MM.MM..MMM.M</pre>"
      ],
      "text/plain": [
       "<IPython.core.display.HTML object>"
      ]
     },
     "metadata": {
      "tags": []
     },
     "output_type": "display_data"
    },
    {
     "name": "stdout",
     "output_type": "stream",
     "text": [
      "{'episode': 144, 'episode_length': 32, 'episode_return': 5.0}\n"
     ]
    },
    {
     "data": {
      "text/html": [
       "<b>Environment (2-back):</b><br /><pre><b>Stimuli:</b> 2502345552151022325530530353454</pre><pre><b>Actions:</b> M.M..M.MMMM..MMMM.MMM....M.M..M</pre>"
      ],
      "text/plain": [
       "<IPython.core.display.HTML object>"
      ]
     },
     "metadata": {
      "tags": []
     },
     "output_type": "display_data"
    },
    {
     "name": "stdout",
     "output_type": "stream",
     "text": [
      "{'episode': 145, 'episode_length': 32, 'episode_return': 1.0}\n"
     ]
    },
    {
     "data": {
      "text/html": [
       "<b>Environment (2-back):</b><br /><pre><b>Stimuli:</b> 5243404151145054100345231244243</pre><pre><b>Actions:</b> .MM....M..MMM.MM.MMMM.MMM.....M</pre>"
      ],
      "text/plain": [
       "<IPython.core.display.HTML object>"
      ]
     },
     "metadata": {
      "tags": []
     },
     "output_type": "display_data"
    },
    {
     "name": "stdout",
     "output_type": "stream",
     "text": [
      "{'episode': 146, 'episode_length': 32, 'episode_return': -5.0}\n"
     ]
    },
    {
     "data": {
      "text/html": [
       "<b>Environment (2-back):</b><br /><pre><b>Stimuli:</b> 5254511120023230541502352214522</pre><pre><b>Actions:</b> .M...MMMMMM.MM.MM.M.MMMM.MMMMM.</pre>"
      ],
      "text/plain": [
       "<IPython.core.display.HTML object>"
      ]
     },
     "metadata": {
      "tags": []
     },
     "output_type": "display_data"
    },
    {
     "name": "stdout",
     "output_type": "stream",
     "text": [
      "{'episode': 147, 'episode_length': 32, 'episode_return': -13.0}\n"
     ]
    },
    {
     "data": {
      "text/html": [
       "<b>Environment (2-back):</b><br /><pre><b>Stimuli:</b> 0415225002514120015525441521442</pre><pre><b>Actions:</b> ..MMM..M..M.M..MM.M.M.M..M....M</pre>"
      ],
      "text/plain": [
       "<IPython.core.display.HTML object>"
      ]
     },
     "metadata": {
      "tags": []
     },
     "output_type": "display_data"
    },
    {
     "name": "stdout",
     "output_type": "stream",
     "text": [
      "{'episode': 148, 'episode_length': 32, 'episode_return': -1.0}\n"
     ]
    },
    {
     "data": {
      "text/html": [
       "<b>Environment (2-back):</b><br /><pre><b>Stimuli:</b> 1423041042524433055302433015530</pre><pre><b>Actions:</b> .MM...MMM.MM....MM.M......M.M.M</pre>"
      ],
      "text/plain": [
       "<IPython.core.display.HTML object>"
      ]
     },
     "metadata": {
      "tags": []
     },
     "output_type": "display_data"
    },
    {
     "name": "stdout",
     "output_type": "stream",
     "text": [
      "{'episode': 149, 'episode_length': 32, 'episode_return': 7.0}\n"
     ]
    },
    {
     "data": {
      "text/html": [
       "<b>Environment (2-back):</b><br /><pre><b>Stimuli:</b> 2541551253024104550535351423542</pre><pre><b>Actions:</b> MMM..M..M..MMMM..M..MM..MMM.MMM</pre>"
      ],
      "text/plain": [
       "<IPython.core.display.HTML object>"
      ]
     },
     "metadata": {
      "tags": []
     },
     "output_type": "display_data"
    },
    {
     "name": "stdout",
     "output_type": "stream",
     "text": [
      "{'episode': 150, 'episode_length': 32, 'episode_return': -7.0}\n"
     ]
    },
    {
     "data": {
      "text/html": [
       "<b>Environment (2-back):</b><br /><pre><b>Stimuli:</b> 2034124205225010013544153223241</pre><pre><b>Actions:</b> M..MM..MM.M..MMMM...M.M..MMMM.M</pre>"
      ],
      "text/plain": [
       "<IPython.core.display.HTML object>"
      ]
     },
     "metadata": {
      "tags": []
     },
     "output_type": "display_data"
    },
    {
     "name": "stdout",
     "output_type": "stream",
     "text": [
      "{'episode': 151, 'episode_length': 32, 'episode_return': 3.0}\n"
     ]
    },
    {
     "data": {
      "text/html": [
       "<b>Environment (2-back):</b><br /><pre><b>Stimuli:</b> 3403243502435441311433554013224</pre><pre><b>Actions:</b> .MM.M.....M.MM.M.M.MM.M..MMM..M</pre>"
      ],
      "text/plain": [
       "<IPython.core.display.HTML object>"
      ]
     },
     "metadata": {
      "tags": []
     },
     "output_type": "display_data"
    },
    {
     "name": "stdout",
     "output_type": "stream",
     "text": [
      "{'episode': 152, 'episode_length': 32, 'episode_return': 3.0}\n"
     ]
    },
    {
     "data": {
      "text/html": [
       "<b>Environment (2-back):</b><br /><pre><b>Stimuli:</b> 3240321545252300552223154435313</pre><pre><b>Actions:</b> .MMM.MMMMM........MMM.MM...M..M</pre>"
      ],
      "text/plain": [
       "<IPython.core.display.HTML object>"
      ]
     },
     "metadata": {
      "tags": []
     },
     "output_type": "display_data"
    },
    {
     "name": "stdout",
     "output_type": "stream",
     "text": [
      "{'episode': 153, 'episode_length': 32, 'episode_return': -1.0}\n"
     ]
    },
    {
     "data": {
      "text/html": [
       "<b>Environment (2-back):</b><br /><pre><b>Stimuli:</b> 1300250111515022323404414353044</pre><pre><b>Actions:</b> MM.M..MMM...M.M.MMMMM.MMMM.MM.M</pre>"
      ],
      "text/plain": [
       "<IPython.core.display.HTML object>"
      ]
     },
     "metadata": {
      "tags": []
     },
     "output_type": "display_data"
    },
    {
     "name": "stdout",
     "output_type": "stream",
     "text": [
      "{'episode': 154, 'episode_length': 32, 'episode_return': -3.0}\n"
     ]
    },
    {
     "data": {
      "text/html": [
       "<b>Environment (2-back):</b><br /><pre><b>Stimuli:</b> 1135234325055053343554213521255</pre><pre><b>Actions:</b> .MMMMMMMM.M..M.M.MMM...MM.MMMMM</pre>"
      ],
      "text/plain": [
       "<IPython.core.display.HTML object>"
      ]
     },
     "metadata": {
      "tags": []
     },
     "output_type": "display_data"
    },
    {
     "name": "stdout",
     "output_type": "stream",
     "text": [
      "{'episode': 155, 'episode_length': 32, 'episode_return': -9.0}\n"
     ]
    },
    {
     "data": {
      "text/html": [
       "<b>Environment (2-back):</b><br /><pre><b>Stimuli:</b> 5555224550551151400302410540510</pre><pre><b>Actions:</b> ...MMM...M.M....M.M.MMM..MMM..M</pre>"
      ],
      "text/plain": [
       "<IPython.core.display.HTML object>"
      ]
     },
     "metadata": {
      "tags": []
     },
     "output_type": "display_data"
    },
    {
     "name": "stdout",
     "output_type": "stream",
     "text": [
      "{'episode': 156, 'episode_length': 32, 'episode_return': 1.0}\n"
     ]
    },
    {
     "data": {
      "text/html": [
       "<b>Environment (2-back):</b><br /><pre><b>Stimuli:</b> 2145331041504355423023543324304</pre><pre><b>Actions:</b> MM.MMMMM...M.....M.MM...M....MM</pre>"
      ],
      "text/plain": [
       "<IPython.core.display.HTML object>"
      ]
     },
     "metadata": {
      "tags": []
     },
     "output_type": "display_data"
    },
    {
     "name": "stdout",
     "output_type": "stream",
     "text": [
      "{'episode': 157, 'episode_length': 32, 'episode_return': 3.0}\n"
     ]
    },
    {
     "data": {
      "text/html": [
       "<b>Environment (2-back):</b><br /><pre><b>Stimuli:</b> 3455355552024515423252010351302</pre><pre><b>Actions:</b> M..MMM.MMM.MM.MMM...M..M..MM.M.</pre>"
      ],
      "text/plain": [
       "<IPython.core.display.HTML object>"
      ]
     },
     "metadata": {
      "tags": []
     },
     "output_type": "display_data"
    },
    {
     "name": "stdout",
     "output_type": "stream",
     "text": [
      "{'episode': 158, 'episode_length': 32, 'episode_return': 1.0}\n"
     ]
    },
    {
     "data": {
      "text/html": [
       "<b>Environment (2-back):</b><br /><pre><b>Stimuli:</b> 0021230353235240205314512354513</pre><pre><b>Actions:</b> ..M..MMM.M.M....MMMM.M..M.M....</pre>"
      ],
      "text/plain": [
       "<IPython.core.display.HTML object>"
      ]
     },
     "metadata": {
      "tags": []
     },
     "output_type": "display_data"
    },
    {
     "name": "stdout",
     "output_type": "stream",
     "text": [
      "{'episode': 159, 'episode_length': 32, 'episode_return': 7.0}\n"
     ]
    },
    {
     "data": {
      "text/html": [
       "<b>Environment (2-back):</b><br /><pre><b>Stimuli:</b> 3213554022405453043233350322234</pre><pre><b>Actions:</b> ..M.M.M.......M.MMMM.MMMMM...M.</pre>"
      ],
      "text/plain": [
       "<IPython.core.display.HTML object>"
      ]
     },
     "metadata": {
      "tags": []
     },
     "output_type": "display_data"
    },
    {
     "name": "stdout",
     "output_type": "stream",
     "text": [
      "{'episode': 160, 'episode_length': 32, 'episode_return': 3.0}\n"
     ]
    },
    {
     "data": {
      "text/html": [
       "<b>Environment (2-back):</b><br /><pre><b>Stimuli:</b> 5110142320105154143350233325153</pre><pre><b>Actions:</b> .MMM.MM..MM.MM.MMM.MMMM.M...MM.</pre>"
      ],
      "text/plain": [
       "<IPython.core.display.HTML object>"
      ]
     },
     "metadata": {
      "tags": []
     },
     "output_type": "display_data"
    },
    {
     "name": "stdout",
     "output_type": "stream",
     "text": [
      "{'episode': 161, 'episode_length': 32, 'episode_return': -13.0}\n"
     ]
    },
    {
     "data": {
      "text/html": [
       "<b>Environment (2-back):</b><br /><pre><b>Stimuli:</b> 2545224441350340111340515424135</pre><pre><b>Actions:</b> M.....M.M...MM.MMMM.......M...M</pre>"
      ],
      "text/plain": [
       "<IPython.core.display.HTML object>"
      ]
     },
     "metadata": {
      "tags": []
     },
     "output_type": "display_data"
    },
    {
     "name": "stdout",
     "output_type": "stream",
     "text": [
      "{'episode': 162, 'episode_length': 32, 'episode_return': 7.0}\n"
     ]
    },
    {
     "data": {
      "text/html": [
       "<b>Environment (2-back):</b><br /><pre><b>Stimuli:</b> 5505502042325242012004013534500</pre><pre><b>Actions:</b> MM.MMM..MMMM.MM.MMMM.M....MMMMM</pre>"
      ],
      "text/plain": [
       "<IPython.core.display.HTML object>"
      ]
     },
     "metadata": {
      "tags": []
     },
     "output_type": "display_data"
    },
    {
     "name": "stdout",
     "output_type": "stream",
     "text": [
      "{'episode': 163, 'episode_length': 32, 'episode_return': -9.0}\n"
     ]
    },
    {
     "data": {
      "text/html": [
       "<b>Environment (2-back):</b><br /><pre><b>Stimuli:</b> 0000252210434324223225502524021</pre><pre><b>Actions:</b> M.M.M.MM.MMMMM..M.M..M.M.M..MMM</pre>"
      ],
      "text/plain": [
       "<IPython.core.display.HTML object>"
      ]
     },
     "metadata": {
      "tags": []
     },
     "output_type": "display_data"
    },
    {
     "name": "stdout",
     "output_type": "stream",
     "text": [
      "{'episode': 164, 'episode_length': 32, 'episode_return': -1.0}\n"
     ]
    },
    {
     "data": {
      "text/html": [
       "<b>Environment (2-back):</b><br /><pre><b>Stimuli:</b> 5141544313131305401544553200032</pre><pre><b>Actions:</b> .M.MMMMMM.MMM...MMM..M.M...MMM.</pre>"
      ],
      "text/plain": [
       "<IPython.core.display.HTML object>"
      ]
     },
     "metadata": {
      "tags": []
     },
     "output_type": "display_data"
    },
    {
     "name": "stdout",
     "output_type": "stream",
     "text": [
      "{'episode': 165, 'episode_length': 32, 'episode_return': 3.0}\n"
     ]
    },
    {
     "data": {
      "text/html": [
       "<b>Environment (2-back):</b><br /><pre><b>Stimuli:</b> 0315545553235150144221104352104</pre><pre><b>Actions:</b> .M.M......M.MM..M.MM.MM..MMM..M</pre>"
      ],
      "text/plain": [
       "<IPython.core.display.HTML object>"
      ]
     },
     "metadata": {
      "tags": []
     },
     "output_type": "display_data"
    },
    {
     "name": "stdout",
     "output_type": "stream",
     "text": [
      "{'episode': 166, 'episode_length': 32, 'episode_return': -5.0}\n"
     ]
    },
    {
     "data": {
      "text/html": [
       "<b>Environment (2-back):</b><br /><pre><b>Stimuli:</b> 4335541132212511052545544522403</pre><pre><b>Actions:</b> .M..M..M.M.M.M....M.M.MM....MM.</pre>"
      ],
      "text/plain": [
       "<IPython.core.display.HTML object>"
      ]
     },
     "metadata": {
      "tags": []
     },
     "output_type": "display_data"
    },
    {
     "name": "stdout",
     "output_type": "stream",
     "text": [
      "{'episode': 167, 'episode_length': 32, 'episode_return': 1.0}\n"
     ]
    },
    {
     "data": {
      "text/html": [
       "<b>Environment (2-back):</b><br /><pre><b>Stimuli:</b> 0223210542210520325311025142554</pre><pre><b>Actions:</b> MMM.MM..MM.MM.M.M.M....M....M.M</pre>"
      ],
      "text/plain": [
       "<IPython.core.display.HTML object>"
      ]
     },
     "metadata": {
      "tags": []
     },
     "output_type": "display_data"
    },
    {
     "name": "stdout",
     "output_type": "stream",
     "text": [
      "{'episode': 168, 'episode_length': 32, 'episode_return': 3.0}\n"
     ]
    },
    {
     "data": {
      "text/html": [
       "<b>Environment (2-back):</b><br /><pre><b>Stimuli:</b> 5144001043101322335124333035113</pre><pre><b>Actions:</b> M.MMM....M.MM....M......M.MM.MM</pre>"
      ],
      "text/plain": [
       "<IPython.core.display.HTML object>"
      ]
     },
     "metadata": {
      "tags": []
     },
     "output_type": "display_data"
    },
    {
     "name": "stdout",
     "output_type": "stream",
     "text": [
      "{'episode': 169, 'episode_length': 32, 'episode_return': 9.0}\n"
     ]
    },
    {
     "data": {
      "text/html": [
       "<b>Environment (2-back):</b><br /><pre><b>Stimuli:</b> 5200535511555342223354544402442</pre><pre><b>Actions:</b> MM.MM.M..MM..M....MM...MMMMMMMM</pre>"
      ],
      "text/plain": [
       "<IPython.core.display.HTML object>"
      ]
     },
     "metadata": {
      "tags": []
     },
     "output_type": "display_data"
    },
    {
     "name": "stdout",
     "output_type": "stream",
     "text": [
      "{'episode': 170, 'episode_length': 32, 'episode_return': -3.0}\n"
     ]
    },
    {
     "data": {
      "text/html": [
       "<b>Environment (2-back):</b><br /><pre><b>Stimuli:</b> 3224020211155110300302311104131</pre><pre><b>Actions:</b> M.MM...M...MM...M.M..MM...MMM.M</pre>"
      ],
      "text/plain": [
       "<IPython.core.display.HTML object>"
      ]
     },
     "metadata": {
      "tags": []
     },
     "output_type": "display_data"
    },
    {
     "name": "stdout",
     "output_type": "stream",
     "text": [
      "{'episode': 171, 'episode_length': 32, 'episode_return': -3.0}\n"
     ]
    },
    {
     "data": {
      "text/html": [
       "<b>Environment (2-back):</b><br /><pre><b>Stimuli:</b> 4543145233012543314443322501301</pre><pre><b>Actions:</b> M.M..M.MM.MM....MM.M..MMMMM.M.M</pre>"
      ],
      "text/plain": [
       "<IPython.core.display.HTML object>"
      ]
     },
     "metadata": {
      "tags": []
     },
     "output_type": "display_data"
    },
    {
     "name": "stdout",
     "output_type": "stream",
     "text": [
      "{'episode': 172, 'episode_length': 32, 'episode_return': -3.0}\n"
     ]
    },
    {
     "data": {
      "text/html": [
       "<b>Environment (2-back):</b><br /><pre><b>Stimuli:</b> 1310302051044050231334543443355</pre><pre><b>Actions:</b> M.M.....M.MM.M.M.M..M..M....MMM</pre>"
      ],
      "text/plain": [
       "<IPython.core.display.HTML object>"
      ]
     },
     "metadata": {
      "tags": []
     },
     "output_type": "display_data"
    },
    {
     "name": "stdout",
     "output_type": "stream",
     "text": [
      "{'episode': 173, 'episode_length': 32, 'episode_return': 3.0}\n"
     ]
    },
    {
     "data": {
      "text/html": [
       "<b>Environment (2-back):</b><br /><pre><b>Stimuli:</b> 2350530033115431143511210352535</pre><pre><b>Actions:</b> .MMMMM..M..MMMMM.M.M......MMMMM</pre>"
      ],
      "text/plain": [
       "<IPython.core.display.HTML object>"
      ]
     },
     "metadata": {
      "tags": []
     },
     "output_type": "display_data"
    },
    {
     "name": "stdout",
     "output_type": "stream",
     "text": [
      "{'episode': 174, 'episode_length': 32, 'episode_return': -1.0}\n"
     ]
    },
    {
     "data": {
      "text/html": [
       "<b>Environment (2-back):</b><br /><pre><b>Stimuli:</b> 1040045124511505242510243231243</pre><pre><b>Actions:</b> M..MMM.MM.M...MMM.M...M.M.M..M.</pre>"
      ],
      "text/plain": [
       "<IPython.core.display.HTML object>"
      ]
     },
     "metadata": {
      "tags": []
     },
     "output_type": "display_data"
    },
    {
     "name": "stdout",
     "output_type": "stream",
     "text": [
      "{'episode': 175, 'episode_length': 32, 'episode_return': 9.0}\n"
     ]
    },
    {
     "data": {
      "text/html": [
       "<b>Environment (2-back):</b><br /><pre><b>Stimuli:</b> 4445105334540040024520025345312</pre><pre><b>Actions:</b> ..MMM.M.MMMMM..M....MM.M..M..MM</pre>"
      ],
      "text/plain": [
       "<IPython.core.display.HTML object>"
      ]
     },
     "metadata": {
      "tags": []
     },
     "output_type": "display_data"
    },
    {
     "name": "stdout",
     "output_type": "stream",
     "text": [
      "{'episode': 176, 'episode_length': 32, 'episode_return': 5.0}\n"
     ]
    },
    {
     "data": {
      "text/html": [
       "<b>Environment (2-back):</b><br /><pre><b>Stimuli:</b> 0513155002442452043504555324221</pre><pre><b>Actions:</b> ...M.M.MM....MMM.......MMMMM...</pre>"
      ],
      "text/plain": [
       "<IPython.core.display.HTML object>"
      ]
     },
     "metadata": {
      "tags": []
     },
     "output_type": "display_data"
    },
    {
     "name": "stdout",
     "output_type": "stream",
     "text": [
      "{'episode': 177, 'episode_length': 32, 'episode_return': 7.0}\n"
     ]
    },
    {
     "data": {
      "text/html": [
       "<b>Environment (2-back):</b><br /><pre><b>Stimuli:</b> 1312211345234514423341035343325</pre><pre><b>Actions:</b> ..M.......M.MM...M..MM.M.MMMM..</pre>"
      ],
      "text/plain": [
       "<IPython.core.display.HTML object>"
      ]
     },
     "metadata": {
      "tags": []
     },
     "output_type": "display_data"
    },
    {
     "name": "stdout",
     "output_type": "stream",
     "text": [
      "{'episode': 178, 'episode_length': 32, 'episode_return': 13.0}\n"
     ]
    },
    {
     "data": {
      "text/html": [
       "<b>Environment (2-back):</b><br /><pre><b>Stimuli:</b> 1120300143541201031033350044244</pre><pre><b>Actions:</b> M....MMM..M.MM.M..MMM.M...MMMMM</pre>"
      ],
      "text/plain": [
       "<IPython.core.display.HTML object>"
      ]
     },
     "metadata": {
      "tags": []
     },
     "output_type": "display_data"
    },
    {
     "name": "stdout",
     "output_type": "stream",
     "text": [
      "{'episode': 179, 'episode_length': 32, 'episode_return': 1.0}\n"
     ]
    },
    {
     "data": {
      "text/html": [
       "<b>Environment (2-back):</b><br /><pre><b>Stimuli:</b> 5102220531053104551533141203035</pre><pre><b>Actions:</b> .M...M..MM.M...MM....MMM.....M.</pre>"
      ],
      "text/plain": [
       "<IPython.core.display.HTML object>"
      ]
     },
     "metadata": {
      "tags": []
     },
     "output_type": "display_data"
    },
    {
     "name": "stdout",
     "output_type": "stream",
     "text": [
      "{'episode': 180, 'episode_length': 32, 'episode_return': 5.0}\n"
     ]
    },
    {
     "data": {
      "text/html": [
       "<b>Environment (2-back):</b><br /><pre><b>Stimuli:</b> 3432353555154315215313432310422</pre><pre><b>Actions:</b> ...M.MMM..M.M.MM.M....M.MM...MM</pre>"
      ],
      "text/plain": [
       "<IPython.core.display.HTML object>"
      ]
     },
     "metadata": {
      "tags": []
     },
     "output_type": "display_data"
    },
    {
     "name": "stdout",
     "output_type": "stream",
     "text": [
      "{'episode': 181, 'episode_length': 32, 'episode_return': -3.0}\n"
     ]
    },
    {
     "data": {
      "text/html": [
       "<b>Environment (2-back):</b><br /><pre><b>Stimuli:</b> 2203244550015202154004030045434</pre><pre><b>Actions:</b> .M...M...MMM.MMM.M.M..MMMM.M.MM</pre>"
      ],
      "text/plain": [
       "<IPython.core.display.HTML object>"
      ]
     },
     "metadata": {
      "tags": []
     },
     "output_type": "display_data"
    },
    {
     "name": "stdout",
     "output_type": "stream",
     "text": [
      "{'episode': 182, 'episode_length': 32, 'episode_return': 3.0}\n"
     ]
    },
    {
     "data": {
      "text/html": [
       "<b>Environment (2-back):</b><br /><pre><b>Stimuli:</b> 2103304353445320402243013121002</pre><pre><b>Actions:</b> M.M....M.MM.M....M.M..MM.M.M..M</pre>"
      ],
      "text/plain": [
       "<IPython.core.display.HTML object>"
      ]
     },
     "metadata": {
      "tags": []
     },
     "output_type": "display_data"
    },
    {
     "name": "stdout",
     "output_type": "stream",
     "text": [
      "{'episode': 183, 'episode_length': 32, 'episode_return': 15.0}\n"
     ]
    },
    {
     "data": {
      "text/html": [
       "<b>Environment (2-back):</b><br /><pre><b>Stimuli:</b> 4335521053552405155555441453323</pre><pre><b>Actions:</b> M..MMMMM...M.M..MMMMMM.MM...M..</pre>"
      ],
      "text/plain": [
       "<IPython.core.display.HTML object>"
      ]
     },
     "metadata": {
      "tags": []
     },
     "output_type": "display_data"
    },
    {
     "name": "stdout",
     "output_type": "stream",
     "text": [
      "{'episode': 184, 'episode_length': 32, 'episode_return': -1.0}\n"
     ]
    },
    {
     "data": {
      "text/html": [
       "<b>Environment (2-back):</b><br /><pre><b>Stimuli:</b> 0332405013043351524413425514154</pre><pre><b>Actions:</b> ..MMM..MMMMMM.M.M..MMM..M..MMM.</pre>"
      ],
      "text/plain": [
       "<IPython.core.display.HTML object>"
      ]
     },
     "metadata": {
      "tags": []
     },
     "output_type": "display_data"
    },
    {
     "name": "stdout",
     "output_type": "stream",
     "text": [
      "{'episode': 185, 'episode_length': 32, 'episode_return': -1.0}\n"
     ]
    },
    {
     "data": {
      "text/html": [
       "<b>Environment (2-back):</b><br /><pre><b>Stimuli:</b> 5232155235354355255213451520521</pre><pre><b>Actions:</b> MM.M.MMM....MMM...M...M....M.MM</pre>"
      ],
      "text/plain": [
       "<IPython.core.display.HTML object>"
      ]
     },
     "metadata": {
      "tags": []
     },
     "output_type": "display_data"
    },
    {
     "name": "stdout",
     "output_type": "stream",
     "text": [
      "{'episode': 186, 'episode_length': 32, 'episode_return': -3.0}\n"
     ]
    },
    {
     "data": {
      "text/html": [
       "<b>Environment (2-back):</b><br /><pre><b>Stimuli:</b> 0255014420355111514214533055231</pre><pre><b>Actions:</b> M.MM....MMM...MMMM.M.MMMM.MM.M.</pre>"
      ],
      "text/plain": [
       "<IPython.core.display.HTML object>"
      ]
     },
     "metadata": {
      "tags": []
     },
     "output_type": "display_data"
    },
    {
     "name": "stdout",
     "output_type": "stream",
     "text": [
      "{'episode': 187, 'episode_length': 32, 'episode_return': -1.0}\n"
     ]
    },
    {
     "data": {
      "text/html": [
       "<b>Environment (2-back):</b><br /><pre><b>Stimuli:</b> 3353005213535234135051454003132</pre><pre><b>Actions:</b> MM.M.....M.MM..MMM..MM.M.MM..MM</pre>"
      ],
      "text/plain": [
       "<IPython.core.display.HTML object>"
      ]
     },
     "metadata": {
      "tags": []
     },
     "output_type": "display_data"
    },
    {
     "name": "stdout",
     "output_type": "stream",
     "text": [
      "{'episode': 188, 'episode_length': 32, 'episode_return': 7.0}\n"
     ]
    },
    {
     "data": {
      "text/html": [
       "<b>Environment (2-back):</b><br /><pre><b>Stimuli:</b> 1523254543212551345331140411524</pre><pre><b>Actions:</b> M..MM.M.M.M.M..M..M..M.MM.M..MM</pre>"
      ],
      "text/plain": [
       "<IPython.core.display.HTML object>"
      ]
     },
     "metadata": {
      "tags": []
     },
     "output_type": "display_data"
    },
    {
     "name": "stdout",
     "output_type": "stream",
     "text": [
      "{'episode': 189, 'episode_length': 32, 'episode_return': 3.0}\n"
     ]
    },
    {
     "data": {
      "text/html": [
       "<b>Environment (2-back):</b><br /><pre><b>Stimuli:</b> 2311503204323142320245413031300</pre><pre><b>Actions:</b> .M...MMM.M..MMM.MM.MM.MM..M.M.M</pre>"
      ],
      "text/plain": [
       "<IPython.core.display.HTML object>"
      ]
     },
     "metadata": {
      "tags": []
     },
     "output_type": "display_data"
    },
    {
     "name": "stdout",
     "output_type": "stream",
     "text": [
      "{'episode': 190, 'episode_length': 32, 'episode_return': 9.0}\n"
     ]
    },
    {
     "data": {
      "text/html": [
       "<b>Environment (2-back):</b><br /><pre><b>Stimuli:</b> 2120245245050432310341350042355</pre><pre><b>Actions:</b> .M..M.M...MM.M.M..MMMM....MMMMM</pre>"
      ],
      "text/plain": [
       "<IPython.core.display.HTML object>"
      ]
     },
     "metadata": {
      "tags": []
     },
     "output_type": "display_data"
    },
    {
     "name": "stdout",
     "output_type": "stream",
     "text": [
      "{'episode': 191, 'episode_length': 32, 'episode_return': -1.0}\n"
     ]
    },
    {
     "data": {
      "text/html": [
       "<b>Environment (2-back):</b><br /><pre><b>Stimuli:</b> 2450432333515343430554322250045</pre><pre><b>Actions:</b> .MM..MM.MMMMMMMMMMM.M.MM.....MM</pre>"
      ],
      "text/plain": [
       "<IPython.core.display.HTML object>"
      ]
     },
     "metadata": {
      "tags": []
     },
     "output_type": "display_data"
    },
    {
     "name": "stdout",
     "output_type": "stream",
     "text": [
      "{'episode': 192, 'episode_length': 32, 'episode_return': -3.0}\n"
     ]
    },
    {
     "data": {
      "text/html": [
       "<b>Environment (2-back):</b><br /><pre><b>Stimuli:</b> 2340014043004215015022414304035</pre><pre><b>Actions:</b> ..M...M..M..M..M..M.M....M.M.M.</pre>"
      ],
      "text/plain": [
       "<IPython.core.display.HTML object>"
      ]
     },
     "metadata": {
      "tags": []
     },
     "output_type": "display_data"
    },
    {
     "name": "stdout",
     "output_type": "stream",
     "text": [
      "{'episode': 193, 'episode_length': 32, 'episode_return': 5.0}\n"
     ]
    },
    {
     "data": {
      "text/html": [
       "<b>Environment (2-back):</b><br /><pre><b>Stimuli:</b> 2023503343103455034200322141104</pre><pre><b>Actions:</b> MMM.MM.M....MMM.M.MM.M.MM..MMM.</pre>"
      ],
      "text/plain": [
       "<IPython.core.display.HTML object>"
      ]
     },
     "metadata": {
      "tags": []
     },
     "output_type": "display_data"
    },
    {
     "name": "stdout",
     "output_type": "stream",
     "text": [
      "{'episode': 194, 'episode_length': 32, 'episode_return': -3.0}\n"
     ]
    },
    {
     "data": {
      "text/html": [
       "<b>Environment (2-back):</b><br /><pre><b>Stimuli:</b> 0143331204415455000545204441023</pre><pre><b>Actions:</b> ..MMM.M..M..M..MM....M.MM.M.MMM</pre>"
      ],
      "text/plain": [
       "<IPython.core.display.HTML object>"
      ]
     },
     "metadata": {
      "tags": []
     },
     "output_type": "display_data"
    },
    {
     "name": "stdout",
     "output_type": "stream",
     "text": [
      "{'episode': 195, 'episode_length': 32, 'episode_return': -3.0}\n"
     ]
    },
    {
     "data": {
      "text/html": [
       "<b>Environment (2-back):</b><br /><pre><b>Stimuli:</b> 0253223500243201150540322402510</pre><pre><b>Actions:</b> .M.MMM.M..M...M...MMMM..MM.MM.M</pre>"
      ],
      "text/plain": [
       "<IPython.core.display.HTML object>"
      ]
     },
     "metadata": {
      "tags": []
     },
     "output_type": "display_data"
    },
    {
     "name": "stdout",
     "output_type": "stream",
     "text": [
      "{'episode': 196, 'episode_length': 32, 'episode_return': -1.0}\n"
     ]
    },
    {
     "data": {
      "text/html": [
       "<b>Environment (2-back):</b><br /><pre><b>Stimuli:</b> 4521254042502215300234045355302</pre><pre><b>Actions:</b> ...MMM..M.M....MM....MMMM.MM..M</pre>"
      ],
      "text/plain": [
       "<IPython.core.display.HTML object>"
      ]
     },
     "metadata": {
      "tags": []
     },
     "output_type": "display_data"
    },
    {
     "name": "stdout",
     "output_type": "stream",
     "text": [
      "{'episode': 197, 'episode_length': 32, 'episode_return': 11.0}\n"
     ]
    },
    {
     "data": {
      "text/html": [
       "<b>Environment (2-back):</b><br /><pre><b>Stimuli:</b> 3054524552425324255405443104055</pre><pre><b>Actions:</b> M.MM.M...M..MM.M.MMMM.M....M.MM</pre>"
      ],
      "text/plain": [
       "<IPython.core.display.HTML object>"
      ]
     },
     "metadata": {
      "tags": []
     },
     "output_type": "display_data"
    },
    {
     "name": "stdout",
     "output_type": "stream",
     "text": [
      "{'episode': 198, 'episode_length': 32, 'episode_return': -9.0}\n"
     ]
    },
    {
     "data": {
      "text/html": [
       "<b>Environment (2-back):</b><br /><pre><b>Stimuli:</b> 4210015415141433502310214154533</pre><pre><b>Actions:</b> .M..MM.M.MM..MMM.M...MMMMM..M.M</pre>"
      ],
      "text/plain": [
       "<IPython.core.display.HTML object>"
      ]
     },
     "metadata": {
      "tags": []
     },
     "output_type": "display_data"
    },
    {
     "name": "stdout",
     "output_type": "stream",
     "text": [
      "{'episode': 199, 'episode_length': 32, 'episode_return': 3.0}\n"
     ]
    },
    {
     "data": {
      "text/html": [
       "<b>Environment (2-back):</b><br /><pre><b>Stimuli:</b> 0533535332031105311300403054122</pre><pre><b>Actions:</b> M.M.MMMMM.M.MM.MMM...MMMMMM..M.</pre>"
      ],
      "text/plain": [
       "<IPython.core.display.HTML object>"
      ]
     },
     "metadata": {
      "tags": []
     },
     "output_type": "display_data"
    },
    {
     "name": "stdout",
     "output_type": "stream",
     "text": [
      "{'episode': 200, 'episode_length': 32, 'episode_return': 1.0}\n"
     ]
    },
    {
     "data": {
      "text/html": [
       "<b>Environment (2-back):</b><br /><pre><b>Stimuli:</b> 2543543143511030201512553554250</pre><pre><b>Actions:</b> ..MMM.M.MM..MM....M..M..MMM.MMM</pre>"
      ],
      "text/plain": [
       "<IPython.core.display.HTML object>"
      ]
     },
     "metadata": {
      "tags": []
     },
     "output_type": "display_data"
    },
    {
     "name": "stdout",
     "output_type": "stream",
     "text": [
      "{'episode': 201, 'episode_length': 32, 'episode_return': -5.0}\n"
     ]
    },
    {
     "data": {
      "text/html": [
       "<b>Environment (2-back):</b><br /><pre><b>Stimuli:</b> 5532112411055505131131104513523</pre><pre><b>Actions:</b> MM...MM.M..MM.MMMMM..M.M.M.M.MM</pre>"
      ],
      "text/plain": [
       "<IPython.core.display.HTML object>"
      ]
     },
     "metadata": {
      "tags": []
     },
     "output_type": "display_data"
    },
    {
     "name": "stdout",
     "output_type": "stream",
     "text": [
      "{'episode': 202, 'episode_length': 32, 'episode_return': -1.0}\n"
     ]
    },
    {
     "data": {
      "text/html": [
       "<b>Environment (2-back):</b><br /><pre><b>Stimuli:</b> 0322001151115354002254503543221</pre><pre><b>Actions:</b> MMMM...MM...M.MM..MM..M.MMM.M..</pre>"
      ],
      "text/plain": [
       "<IPython.core.display.HTML object>"
      ]
     },
     "metadata": {
      "tags": []
     },
     "output_type": "display_data"
    },
    {
     "name": "stdout",
     "output_type": "stream",
     "text": [
      "{'episode': 203, 'episode_length': 32, 'episode_return': -1.0}\n"
     ]
    },
    {
     "data": {
      "text/html": [
       "<b>Environment (2-back):</b><br /><pre><b>Stimuli:</b> 2315105422525441400442555405453</pre><pre><b>Actions:</b> .MMMMMM..M.MM.M..MMM.M......MM.</pre>"
      ],
      "text/plain": [
       "<IPython.core.display.HTML object>"
      ]
     },
     "metadata": {
      "tags": []
     },
     "output_type": "display_data"
    },
    {
     "name": "stdout",
     "output_type": "stream",
     "text": [
      "{'episode': 204, 'episode_length': 32, 'episode_return': 5.0}\n"
     ]
    },
    {
     "data": {
      "text/html": [
       "<b>Environment (2-back):</b><br /><pre><b>Stimuli:</b> 5513340231142354510534035153411</pre><pre><b>Actions:</b> M..M..M..M...M.MMM...MMM...M...</pre>"
      ],
      "text/plain": [
       "<IPython.core.display.HTML object>"
      ]
     },
     "metadata": {
      "tags": []
     },
     "output_type": "display_data"
    },
    {
     "name": "stdout",
     "output_type": "stream",
     "text": [
      "{'episode': 205, 'episode_length': 32, 'episode_return': 7.0}\n"
     ]
    },
    {
     "data": {
      "text/html": [
       "<b>Environment (2-back):</b><br /><pre><b>Stimuli:</b> 3123355145011430344143213055235</pre><pre><b>Actions:</b> ...M.MMM.MM..M.MMM.....M...M.M.</pre>"
      ],
      "text/plain": [
       "<IPython.core.display.HTML object>"
      ]
     },
     "metadata": {
      "tags": []
     },
     "output_type": "display_data"
    },
    {
     "name": "stdout",
     "output_type": "stream",
     "text": [
      "{'episode': 206, 'episode_length': 32, 'episode_return': 5.0}\n"
     ]
    },
    {
     "data": {
      "text/html": [
       "<b>Environment (2-back):</b><br /><pre><b>Stimuli:</b> 5041034435420430134343533310453</pre><pre><b>Actions:</b> ..M.MMM.MMM.MMMMMM.MM..MM.MM.M.</pre>"
      ],
      "text/plain": [
       "<IPython.core.display.HTML object>"
      ]
     },
     "metadata": {
      "tags": []
     },
     "output_type": "display_data"
    },
    {
     "name": "stdout",
     "output_type": "stream",
     "text": [
      "{'episode': 207, 'episode_length': 32, 'episode_return': -7.0}\n"
     ]
    },
    {
     "data": {
      "text/html": [
       "<b>Environment (2-back):</b><br /><pre><b>Stimuli:</b> 3411532110553145352113002403423</pre><pre><b>Actions:</b> M..MMMMMMM.M...M..M.M.MMM..MMMM</pre>"
      ],
      "text/plain": [
       "<IPython.core.display.HTML object>"
      ]
     },
     "metadata": {
      "tags": []
     },
     "output_type": "display_data"
    },
    {
     "name": "stdout",
     "output_type": "stream",
     "text": [
      "{'episode': 208, 'episode_length': 32, 'episode_return': -7.0}\n"
     ]
    },
    {
     "data": {
      "text/html": [
       "<b>Environment (2-back):</b><br /><pre><b>Stimuli:</b> 3020223351050044432052420213103</pre><pre><b>Actions:</b> ..MMMMM...MMMM.M...MM.MMM..M.MM</pre>"
      ],
      "text/plain": [
       "<IPython.core.display.HTML object>"
      ]
     },
     "metadata": {
      "tags": []
     },
     "output_type": "display_data"
    },
    {
     "name": "stdout",
     "output_type": "stream",
     "text": [
      "{'episode': 209, 'episode_length': 32, 'episode_return': -5.0}\n"
     ]
    },
    {
     "data": {
      "text/html": [
       "<b>Environment (2-back):</b><br /><pre><b>Stimuli:</b> 4440310514041431505050354051203</pre><pre><b>Actions:</b> .MMMM...MMMMM.M.M..M..M....MM.M</pre>"
      ],
      "text/plain": [
       "<IPython.core.display.HTML object>"
      ]
     },
     "metadata": {
      "tags": []
     },
     "output_type": "display_data"
    },
    {
     "name": "stdout",
     "output_type": "stream",
     "text": [
      "{'episode': 210, 'episode_length': 32, 'episode_return': -3.0}\n"
     ]
    },
    {
     "data": {
      "text/html": [
       "<b>Environment (2-back):</b><br /><pre><b>Stimuli:</b> 4514250041155020335501553142342</pre><pre><b>Actions:</b> M.M.MM.MM.M.....MM.M.MMMMM.M.MM</pre>"
      ],
      "text/plain": [
       "<IPython.core.display.HTML object>"
      ]
     },
     "metadata": {
      "tags": []
     },
     "output_type": "display_data"
    },
    {
     "name": "stdout",
     "output_type": "stream",
     "text": [
      "{'episode': 211, 'episode_length': 32, 'episode_return': -7.0}\n"
     ]
    },
    {
     "data": {
      "text/html": [
       "<b>Environment (2-back):</b><br /><pre><b>Stimuli:</b> 0441502531551123053354415545154</pre><pre><b>Actions:</b> ..M.M......MM.M...MM..M.MM..MMM</pre>"
      ],
      "text/plain": [
       "<IPython.core.display.HTML object>"
      ]
     },
     "metadata": {
      "tags": []
     },
     "output_type": "display_data"
    },
    {
     "name": "stdout",
     "output_type": "stream",
     "text": [
      "{'episode': 212, 'episode_length': 32, 'episode_return': 5.0}\n"
     ]
    },
    {
     "data": {
      "text/html": [
       "<b>Environment (2-back):</b><br /><pre><b>Stimuli:</b> 1055301333550405554455320153444</pre><pre><b>Actions:</b> .MM.M.M....MMMMM.M...MM..M.MM.M</pre>"
      ],
      "text/plain": [
       "<IPython.core.display.HTML object>"
      ]
     },
     "metadata": {
      "tags": []
     },
     "output_type": "display_data"
    },
    {
     "name": "stdout",
     "output_type": "stream",
     "text": [
      "{'episode': 213, 'episode_length': 32, 'episode_return': 3.0}\n"
     ]
    },
    {
     "data": {
      "text/html": [
       "<b>Environment (2-back):</b><br /><pre><b>Stimuli:</b> 1112411203353440331303415211114</pre><pre><b>Actions:</b> M..M.MMM...M..MMMMM.M..M.M..MM.</pre>"
      ],
      "text/plain": [
       "<IPython.core.display.HTML object>"
      ]
     },
     "metadata": {
      "tags": []
     },
     "output_type": "display_data"
    },
    {
     "name": "stdout",
     "output_type": "stream",
     "text": [
      "{'episode': 214, 'episode_length': 32, 'episode_return': -5.0}\n"
     ]
    },
    {
     "data": {
      "text/html": [
       "<b>Environment (2-back):</b><br /><pre><b>Stimuli:</b> 5333403424321115330220203302355</pre><pre><b>Actions:</b> .M.....M.M.MM.MMMMMMMM.M.M..MMM</pre>"
      ],
      "text/plain": [
       "<IPython.core.display.HTML object>"
      ]
     },
     "metadata": {
      "tags": []
     },
     "output_type": "display_data"
    },
    {
     "name": "stdout",
     "output_type": "stream",
     "text": [
      "{'episode': 215, 'episode_length': 32, 'episode_return': -5.0}\n"
     ]
    },
    {
     "data": {
      "text/html": [
       "<b>Environment (2-back):</b><br /><pre><b>Stimuli:</b> 2525503453153040231332355354523</pre><pre><b>Actions:</b> M..MMMM.M.......MMMM.MMM...M...</pre>"
      ],
      "text/plain": [
       "<IPython.core.display.HTML object>"
      ]
     },
     "metadata": {
      "tags": []
     },
     "output_type": "display_data"
    },
    {
     "name": "stdout",
     "output_type": "stream",
     "text": [
      "{'episode': 216, 'episode_length': 32, 'episode_return': 1.0}\n"
     ]
    },
    {
     "data": {
      "text/html": [
       "<b>Environment (2-back):</b><br /><pre><b>Stimuli:</b> 0151050053203043424251314342350</pre><pre><b>Actions:</b> ..M.MMMMMMM.MMMM...M.MM.MM...M.</pre>"
      ],
      "text/plain": [
       "<IPython.core.display.HTML object>"
      ]
     },
     "metadata": {
      "tags": []
     },
     "output_type": "display_data"
    },
    {
     "name": "stdout",
     "output_type": "stream",
     "text": [
      "{'episode': 217, 'episode_length': 32, 'episode_return': -13.0}\n"
     ]
    },
    {
     "data": {
      "text/html": [
       "<b>Environment (2-back):</b><br /><pre><b>Stimuli:</b> 3304405102501244323033412411430</pre><pre><b>Actions:</b> ..M.M.MMM.M.M.M...MM..M...MM.MM</pre>"
      ],
      "text/plain": [
       "<IPython.core.display.HTML object>"
      ]
     },
     "metadata": {
      "tags": []
     },
     "output_type": "display_data"
    },
    {
     "name": "stdout",
     "output_type": "stream",
     "text": [
      "{'episode': 218, 'episode_length': 32, 'episode_return': -1.0}\n"
     ]
    },
    {
     "data": {
      "text/html": [
       "<b>Environment (2-back):</b><br /><pre><b>Stimuli:</b> 2211322552512132025222515310412</pre><pre><b>Actions:</b> MM..MM...M.M.MM....M......M.MM.</pre>"
      ],
      "text/plain": [
       "<IPython.core.display.HTML object>"
      ]
     },
     "metadata": {
      "tags": []
     },
     "output_type": "display_data"
    },
    {
     "name": "stdout",
     "output_type": "stream",
     "text": [
      "{'episode': 219, 'episode_length': 32, 'episode_return': 5.0}\n"
     ]
    },
    {
     "data": {
      "text/html": [
       "<b>Environment (2-back):</b><br /><pre><b>Stimuli:</b> 2505451433400332215113504222255</pre><pre><b>Actions:</b> M.....M.MMMMM..M.MM.M...MMMM...</pre>"
      ],
      "text/plain": [
       "<IPython.core.display.HTML object>"
      ]
     },
     "metadata": {
      "tags": []
     },
     "output_type": "display_data"
    },
    {
     "name": "stdout",
     "output_type": "stream",
     "text": [
      "{'episode': 220, 'episode_length': 32, 'episode_return': -5.0}\n"
     ]
    },
    {
     "data": {
      "text/html": [
       "<b>Environment (2-back):</b><br /><pre><b>Stimuli:</b> 2032105343412430520415140512135</pre><pre><b>Actions:</b> MM.M....MM.M..MM..MMMMMM.MM..MM</pre>"
      ],
      "text/plain": [
       "<IPython.core.display.HTML object>"
      ]
     },
     "metadata": {
      "tags": []
     },
     "output_type": "display_data"
    },
    {
     "name": "stdout",
     "output_type": "stream",
     "text": [
      "{'episode': 221, 'episode_length': 32, 'episode_return': -5.0}\n"
     ]
    },
    {
     "data": {
      "text/html": [
       "<b>Environment (2-back):</b><br /><pre><b>Stimuli:</b> 4454442403055334154504232342434</pre><pre><b>Actions:</b> ........M.MM.MMMMM.MMMM....MMMM</pre>"
      ],
      "text/plain": [
       "<IPython.core.display.HTML object>"
      ]
     },
     "metadata": {
      "tags": []
     },
     "output_type": "display_data"
    },
    {
     "name": "stdout",
     "output_type": "stream",
     "text": [
      "{'episode': 222, 'episode_length': 32, 'episode_return': -5.0}\n"
     ]
    },
    {
     "data": {
      "text/html": [
       "<b>Environment (2-back):</b><br /><pre><b>Stimuli:</b> 4205052301011510042525424551405</pre><pre><b>Actions:</b> MMMM.......M..M.MMM..MM.MM.MMMM</pre>"
      ],
      "text/plain": [
       "<IPython.core.display.HTML object>"
      ]
     },
     "metadata": {
      "tags": []
     },
     "output_type": "display_data"
    },
    {
     "name": "stdout",
     "output_type": "stream",
     "text": [
      "{'episode': 223, 'episode_length': 32, 'episode_return': -3.0}\n"
     ]
    },
    {
     "data": {
      "text/html": [
       "<b>Environment (2-back):</b><br /><pre><b>Stimuli:</b> 4455324301413100053132014432354</pre><pre><b>Actions:</b> ...MMM.M..MMM..MMM....MMM.MM...</pre>"
      ],
      "text/plain": [
       "<IPython.core.display.HTML object>"
      ]
     },
     "metadata": {
      "tags": []
     },
     "output_type": "display_data"
    },
    {
     "name": "stdout",
     "output_type": "stream",
     "text": [
      "{'episode': 224, 'episode_length': 32, 'episode_return': -3.0}\n"
     ]
    },
    {
     "data": {
      "text/html": [
       "<b>Environment (2-back):</b><br /><pre><b>Stimuli:</b> 0214452140020552201012453335552</pre><pre><b>Actions:</b> MMM.MMM.M.M.MMM.MMM.M.MMM.MMMMM</pre>"
      ],
      "text/plain": [
       "<IPython.core.display.HTML object>"
      ]
     },
     "metadata": {
      "tags": []
     },
     "output_type": "display_data"
    },
    {
     "name": "stdout",
     "output_type": "stream",
     "text": [
      "{'episode': 225, 'episode_length': 32, 'episode_return': -9.0}\n"
     ]
    },
    {
     "data": {
      "text/html": [
       "<b>Environment (2-back):</b><br /><pre><b>Stimuli:</b> 3503441405515052420104101053531</pre><pre><b>Actions:</b> M.MMM..MMM.MMM.MM..MM.M.M..MMM.</pre>"
      ],
      "text/plain": [
       "<IPython.core.display.HTML object>"
      ]
     },
     "metadata": {
      "tags": []
     },
     "output_type": "display_data"
    },
    {
     "name": "stdout",
     "output_type": "stream",
     "text": [
      "{'episode': 226, 'episode_length': 32, 'episode_return': -1.0}\n"
     ]
    },
    {
     "data": {
      "text/html": [
       "<b>Environment (2-back):</b><br /><pre><b>Stimuli:</b> 2041103230552201441445144014420</pre><pre><b>Actions:</b> MMM.MMM.MM.MMMM....M.MM.M.M....</pre>"
      ],
      "text/plain": [
       "<IPython.core.display.HTML object>"
      ]
     },
     "metadata": {
      "tags": []
     },
     "output_type": "display_data"
    },
    {
     "name": "stdout",
     "output_type": "stream",
     "text": [
      "{'episode': 227, 'episode_length': 32, 'episode_return': 1.0}\n"
     ]
    },
    {
     "data": {
      "text/html": [
       "<b>Environment (2-back):</b><br /><pre><b>Stimuli:</b> 4312404413405330311050542553443</pre><pre><b>Actions:</b> MM.M..M.M..M......MM.M..MMMM...</pre>"
      ],
      "text/plain": [
       "<IPython.core.display.HTML object>"
      ]
     },
     "metadata": {
      "tags": []
     },
     "output_type": "display_data"
    },
    {
     "name": "stdout",
     "output_type": "stream",
     "text": [
      "{'episode': 228, 'episode_length': 32, 'episode_return': 5.0}\n"
     ]
    },
    {
     "data": {
      "text/html": [
       "<b>Environment (2-back):</b><br /><pre><b>Stimuli:</b> 4233501554341502101241001345351</pre><pre><b>Actions:</b> MMM.....M.MMMMMMMM.M..MMMM..M.M</pre>"
      ],
      "text/plain": [
       "<IPython.core.display.HTML object>"
      ]
     },
     "metadata": {
      "tags": []
     },
     "output_type": "display_data"
    },
    {
     "name": "stdout",
     "output_type": "stream",
     "text": [
      "{'episode': 229, 'episode_length': 32, 'episode_return': -9.0}\n"
     ]
    },
    {
     "data": {
      "text/html": [
       "<b>Environment (2-back):</b><br /><pre><b>Stimuli:</b> 4155513232213312004015412453335</pre><pre><b>Actions:</b> M..M.M..MM.MM....MMMMMM......M.</pre>"
      ],
      "text/plain": [
       "<IPython.core.display.HTML object>"
      ]
     },
     "metadata": {
      "tags": []
     },
     "output_type": "display_data"
    },
    {
     "name": "stdout",
     "output_type": "stream",
     "text": [
      "{'episode': 230, 'episode_length': 32, 'episode_return': 9.0}\n"
     ]
    },
    {
     "data": {
      "text/html": [
       "<b>Environment (2-back):</b><br /><pre><b>Stimuli:</b> 0000215545552211232205313103010</pre><pre><b>Actions:</b> ..M.M........M..MMMMM.MMM...MM.</pre>"
      ],
      "text/plain": [
       "<IPython.core.display.HTML object>"
      ]
     },
     "metadata": {
      "tags": []
     },
     "output_type": "display_data"
    },
    {
     "name": "stdout",
     "output_type": "stream",
     "text": [
      "{'episode': 231, 'episode_length': 32, 'episode_return': -1.0}\n"
     ]
    },
    {
     "data": {
      "text/html": [
       "<b>Environment (2-back):</b><br /><pre><b>Stimuli:</b> 1303414453430211014035530404502</pre><pre><b>Actions:</b> .M.M..M.....MMMM....M.M....MMMM</pre>"
      ],
      "text/plain": [
       "<IPython.core.display.HTML object>"
      ]
     },
     "metadata": {
      "tags": []
     },
     "output_type": "display_data"
    },
    {
     "name": "stdout",
     "output_type": "stream",
     "text": [
      "{'episode': 232, 'episode_length': 32, 'episode_return': 5.0}\n"
     ]
    },
    {
     "data": {
      "text/html": [
       "<b>Environment (2-back):</b><br /><pre><b>Stimuli:</b> 1102255141434025033313552103420</pre><pre><b>Actions:</b> MM..MMM..........M.M.MM...MM...</pre>"
      ],
      "text/plain": [
       "<IPython.core.display.HTML object>"
      ]
     },
     "metadata": {
      "tags": []
     },
     "output_type": "display_data"
    },
    {
     "name": "stdout",
     "output_type": "stream",
     "text": [
      "{'episode': 233, 'episode_length': 32, 'episode_return': 7.0}\n"
     ]
    },
    {
     "data": {
      "text/html": [
       "<b>Environment (2-back):</b><br /><pre><b>Stimuli:</b> 1322323111331301230510011134005</pre><pre><b>Actions:</b> ..M...MM.M..MMM.M..MMM.MMMMM...</pre>"
      ],
      "text/plain": [
       "<IPython.core.display.HTML object>"
      ]
     },
     "metadata": {
      "tags": []
     },
     "output_type": "display_data"
    },
    {
     "name": "stdout",
     "output_type": "stream",
     "text": [
      "{'episode': 234, 'episode_length': 32, 'episode_return': 5.0}\n"
     ]
    },
    {
     "data": {
      "text/html": [
       "<b>Environment (2-back):</b><br /><pre><b>Stimuli:</b> 3514155511254511002034213055514</pre><pre><b>Actions:</b> M..MM....MM...MMMM.M..M..MMMM..</pre>"
      ],
      "text/plain": [
       "<IPython.core.display.HTML object>"
      ]
     },
     "metadata": {
      "tags": []
     },
     "output_type": "display_data"
    },
    {
     "name": "stdout",
     "output_type": "stream",
     "text": [
      "{'episode': 235, 'episode_length': 32, 'episode_return': 3.0}\n"
     ]
    },
    {
     "data": {
      "text/html": [
       "<b>Environment (2-back):</b><br /><pre><b>Stimuli:</b> 1242025524312513134124145552234</pre><pre><b>Actions:</b> ..M.M.M...MMMMM.M......M..M.MMM</pre>"
      ],
      "text/plain": [
       "<IPython.core.display.HTML object>"
      ]
     },
     "metadata": {
      "tags": []
     },
     "output_type": "display_data"
    },
    {
     "name": "stdout",
     "output_type": "stream",
     "text": [
      "{'episode': 236, 'episode_length': 32, 'episode_return': 3.0}\n"
     ]
    },
    {
     "data": {
      "text/html": [
       "<b>Environment (2-back):</b><br /><pre><b>Stimuli:</b> 3241125535055144404421120120115</pre><pre><b>Actions:</b> MMM..MM.M..M......MMMM.M.MMM..M</pre>"
      ],
      "text/plain": [
       "<IPython.core.display.HTML object>"
      ]
     },
     "metadata": {
      "tags": []
     },
     "output_type": "display_data"
    },
    {
     "name": "stdout",
     "output_type": "stream",
     "text": [
      "{'episode': 237, 'episode_length': 32, 'episode_return': -1.0}\n"
     ]
    },
    {
     "data": {
      "text/html": [
       "<b>Environment (2-back):</b><br /><pre><b>Stimuli:</b> 3241253341050254354410513441155</pre><pre><b>Actions:</b> .M.MMM....MM...MM.M.M.MM.MMMMM.</pre>"
      ],
      "text/plain": [
       "<IPython.core.display.HTML object>"
      ]
     },
     "metadata": {
      "tags": []
     },
     "output_type": "display_data"
    },
    {
     "name": "stdout",
     "output_type": "stream",
     "text": [
      "{'episode': 238, 'episode_length': 32, 'episode_return': -5.0}\n"
     ]
    },
    {
     "data": {
      "text/html": [
       "<b>Environment (2-back):</b><br /><pre><b>Stimuli:</b> 3012141231432431430420514101302</pre><pre><b>Actions:</b> .M..MMMM.MM.M.MM...M.M...M..MM.</pre>"
      ],
      "text/plain": [
       "<IPython.core.display.HTML object>"
      ]
     },
     "metadata": {
      "tags": []
     },
     "output_type": "display_data"
    },
    {
     "name": "stdout",
     "output_type": "stream",
     "text": [
      "{'episode': 239, 'episode_length': 32, 'episode_return': 5.0}\n"
     ]
    },
    {
     "data": {
      "text/html": [
       "<b>Environment (2-back):</b><br /><pre><b>Stimuli:</b> 1053142131005231205043002540252</pre><pre><b>Actions:</b> .M.MMM..M..MMMM..MM.MM..MMM.MM.</pre>"
      ],
      "text/plain": [
       "<IPython.core.display.HTML object>"
      ]
     },
     "metadata": {
      "tags": []
     },
     "output_type": "display_data"
    },
    {
     "name": "stdout",
     "output_type": "stream",
     "text": [
      "{'episode': 240, 'episode_length': 32, 'episode_return': -11.0}\n"
     ]
    },
    {
     "data": {
      "text/html": [
       "<b>Environment (2-back):</b><br /><pre><b>Stimuli:</b> 5431020253414313231513302535514</pre><pre><b>Actions:</b> .MM.M.....M..M.....M..MM.MM..MM</pre>"
      ],
      "text/plain": [
       "<IPython.core.display.HTML object>"
      ]
     },
     "metadata": {
      "tags": []
     },
     "output_type": "display_data"
    },
    {
     "name": "stdout",
     "output_type": "stream",
     "text": [
      "{'episode': 241, 'episode_length': 32, 'episode_return': -7.0}\n"
     ]
    },
    {
     "data": {
      "text/html": [
       "<b>Environment (2-back):</b><br /><pre><b>Stimuli:</b> 4303104502553042534513400553020</pre><pre><b>Actions:</b> M....MM...MMM.M..MM..M....MM.MM</pre>"
      ],
      "text/plain": [
       "<IPython.core.display.HTML object>"
      ]
     },
     "metadata": {
      "tags": []
     },
     "output_type": "display_data"
    },
    {
     "name": "stdout",
     "output_type": "stream",
     "text": [
      "{'episode': 242, 'episode_length': 32, 'episode_return': 3.0}\n"
     ]
    },
    {
     "data": {
      "text/html": [
       "<b>Environment (2-back):</b><br /><pre><b>Stimuli:</b> 0352342203301232212323501544304</pre><pre><b>Actions:</b> M...M....M..M...MM..MMMMMMM..MM</pre>"
      ],
      "text/plain": [
       "<IPython.core.display.HTML object>"
      ]
     },
     "metadata": {
      "tags": []
     },
     "output_type": "display_data"
    },
    {
     "name": "stdout",
     "output_type": "stream",
     "text": [
      "{'episode': 243, 'episode_length': 32, 'episode_return': 1.0}\n"
     ]
    },
    {
     "data": {
      "text/html": [
       "<b>Environment (2-back):</b><br /><pre><b>Stimuli:</b> 5021115201505224155231211212444</pre><pre><b>Actions:</b> ..M.M.MM.M.M.MMM..M..MM.M..M.MM</pre>"
      ],
      "text/plain": [
       "<IPython.core.display.HTML object>"
      ]
     },
     "metadata": {
      "tags": []
     },
     "output_type": "display_data"
    },
    {
     "name": "stdout",
     "output_type": "stream",
     "text": [
      "{'episode': 244, 'episode_length': 32, 'episode_return': -5.0}\n"
     ]
    },
    {
     "data": {
      "text/html": [
       "<b>Environment (2-back):</b><br /><pre><b>Stimuli:</b> 4500210515302403453253243305154</pre><pre><b>Actions:</b> MMM.M...M...MMM.M....MM.M.M.MMM</pre>"
      ],
      "text/plain": [
       "<IPython.core.display.HTML object>"
      ]
     },
     "metadata": {
      "tags": []
     },
     "output_type": "display_data"
    },
    {
     "name": "stdout",
     "output_type": "stream",
     "text": [
      "{'episode': 245, 'episode_length': 32, 'episode_return': 1.0}\n"
     ]
    },
    {
     "data": {
      "text/html": [
       "<b>Environment (2-back):</b><br /><pre><b>Stimuli:</b> 4011405301320451310052304313421</pre><pre><b>Actions:</b> ....MM...M.MMMMMM.MM..M...MMM.M</pre>"
      ],
      "text/plain": [
       "<IPython.core.display.HTML object>"
      ]
     },
     "metadata": {
      "tags": []
     },
     "output_type": "display_data"
    },
    {
     "name": "stdout",
     "output_type": "stream",
     "text": [
      "{'episode': 246, 'episode_length': 32, 'episode_return': -1.0}\n"
     ]
    },
    {
     "data": {
      "text/html": [
       "<b>Environment (2-back):</b><br /><pre><b>Stimuli:</b> 3320211020031243211123053430223</pre><pre><b>Actions:</b> MM.MM.MM.M...M..M..M.MM.M.MM.MM</pre>"
      ],
      "text/plain": [
       "<IPython.core.display.HTML object>"
      ]
     },
     "metadata": {
      "tags": []
     },
     "output_type": "display_data"
    },
    {
     "name": "stdout",
     "output_type": "stream",
     "text": [
      "{'episode': 247, 'episode_length': 32, 'episode_return': 7.0}\n"
     ]
    },
    {
     "data": {
      "text/html": [
       "<b>Environment (2-back):</b><br /><pre><b>Stimuli:</b> 2050513035532031153015154205304</pre><pre><b>Actions:</b> ...M.MM.MM.MM.M.MM..M..M...M...</pre>"
      ],
      "text/plain": [
       "<IPython.core.display.HTML object>"
      ]
     },
     "metadata": {
      "tags": []
     },
     "output_type": "display_data"
    },
    {
     "name": "stdout",
     "output_type": "stream",
     "text": [
      "{'episode': 248, 'episode_length': 32, 'episode_return': 7.0}\n"
     ]
    },
    {
     "data": {
      "text/html": [
       "<b>Environment (2-back):</b><br /><pre><b>Stimuli:</b> 0430433115202441253230210440341</pre><pre><b>Actions:</b> M..M....M....MMM.M....MM....M.M</pre>"
      ],
      "text/plain": [
       "<IPython.core.display.HTML object>"
      ]
     },
     "metadata": {
      "tags": []
     },
     "output_type": "display_data"
    },
    {
     "name": "stdout",
     "output_type": "stream",
     "text": [
      "{'episode': 249, 'episode_length': 32, 'episode_return': 5.0}\n"
     ]
    },
    {
     "data": {
      "text/html": [
       "<b>Environment (2-back):</b><br /><pre><b>Stimuli:</b> 1033032143122012413114550422351</pre><pre><b>Actions:</b> M.MMM.M.M.MMM.M.MM..MM..M.M...M</pre>"
      ],
      "text/plain": [
       "<IPython.core.display.HTML object>"
      ]
     },
     "metadata": {
      "tags": []
     },
     "output_type": "display_data"
    },
    {
     "name": "stdout",
     "output_type": "stream",
     "text": [
      "{'episode': 250, 'episode_length': 32, 'episode_return': -5.0}\n"
     ]
    },
    {
     "data": {
      "text/html": [
       "<b>Environment (2-back):</b><br /><pre><b>Stimuli:</b> 3343543415140242114035413553220</pre><pre><b>Actions:</b> ...M..MM..M..MM...MM.MMM.M..M..</pre>"
      ],
      "text/plain": [
       "<IPython.core.display.HTML object>"
      ]
     },
     "metadata": {
      "tags": []
     },
     "output_type": "display_data"
    },
    {
     "name": "stdout",
     "output_type": "stream",
     "text": [
      "{'episode': 251, 'episode_length': 32, 'episode_return': 7.0}\n"
     ]
    },
    {
     "data": {
      "text/html": [
       "<b>Environment (2-back):</b><br /><pre><b>Stimuli:</b> 0051330500202102500515542303333</pre><pre><b>Actions:</b> MM.M....MM....M........MMM..M.M</pre>"
      ],
      "text/plain": [
       "<IPython.core.display.HTML object>"
      ]
     },
     "metadata": {
      "tags": []
     },
     "output_type": "display_data"
    },
    {
     "name": "stdout",
     "output_type": "stream",
     "text": [
      "{'episode': 252, 'episode_length': 32, 'episode_return': 5.0}\n"
     ]
    },
    {
     "data": {
      "text/html": [
       "<b>Environment (2-back):</b><br /><pre><b>Stimuli:</b> 4302043333512015045124443544525</pre><pre><b>Actions:</b> .MMM.MMM.MMM.M.MMM.MMMMMMM...M.</pre>"
      ],
      "text/plain": [
       "<IPython.core.display.HTML object>"
      ]
     },
     "metadata": {
      "tags": []
     },
     "output_type": "display_data"
    },
    {
     "name": "stdout",
     "output_type": "stream",
     "text": [
      "{'episode': 253, 'episode_length': 32, 'episode_return': -13.0}\n"
     ]
    },
    {
     "data": {
      "text/html": [
       "<b>Environment (2-back):</b><br /><pre><b>Stimuli:</b> 4104123400025532422231052451044</pre><pre><b>Actions:</b> .M.M.MMMM...MMM...M.M..MM...M.M</pre>"
      ],
      "text/plain": [
       "<IPython.core.display.HTML object>"
      ]
     },
     "metadata": {
      "tags": []
     },
     "output_type": "display_data"
    },
    {
     "name": "stdout",
     "output_type": "stream",
     "text": [
      "{'episode': 254, 'episode_length': 32, 'episode_return': -5.0}\n"
     ]
    },
    {
     "data": {
      "text/html": [
       "<b>Environment (2-back):</b><br /><pre><b>Stimuli:</b> 3230455304234421502553542214232</pre><pre><b>Actions:</b> MMMM..MM.....MMMM.MM..M.M..MM..</pre>"
      ],
      "text/plain": [
       "<IPython.core.display.HTML object>"
      ]
     },
     "metadata": {
      "tags": []
     },
     "output_type": "display_data"
    },
    {
     "name": "stdout",
     "output_type": "stream",
     "text": [
      "{'episode': 255, 'episode_length': 32, 'episode_return': 1.0}\n"
     ]
    },
    {
     "data": {
      "text/html": [
       "<b>Environment (2-back):</b><br /><pre><b>Stimuli:</b> 2215423435550521412505343551102</pre><pre><b>Actions:</b> M..MMMMM.MMM..MM..MM..MM.M..MM.</pre>"
      ],
      "text/plain": [
       "<IPython.core.display.HTML object>"
      ]
     },
     "metadata": {
      "tags": []
     },
     "output_type": "display_data"
    },
    {
     "name": "stdout",
     "output_type": "stream",
     "text": [
      "{'episode': 256, 'episode_length': 32, 'episode_return': -11.0}\n"
     ]
    },
    {
     "data": {
      "text/html": [
       "<b>Environment (2-back):</b><br /><pre><b>Stimuli:</b> 3150542414103035225431304112503</pre><pre><b>Actions:</b> ...MMM..M...M.....M...MM..M...M</pre>"
      ],
      "text/plain": [
       "<IPython.core.display.HTML object>"
      ]
     },
     "metadata": {
      "tags": []
     },
     "output_type": "display_data"
    },
    {
     "name": "stdout",
     "output_type": "stream",
     "text": [
      "{'episode': 257, 'episode_length': 32, 'episode_return': 3.0}\n"
     ]
    },
    {
     "data": {
      "text/html": [
       "<b>Environment (2-back):</b><br /><pre><b>Stimuli:</b> 3311054214531554243154033550124</pre><pre><b>Actions:</b> .MMMM.M.M.MMMM.MMM.MMM.......MM</pre>"
      ],
      "text/plain": [
       "<IPython.core.display.HTML object>"
      ]
     },
     "metadata": {
      "tags": []
     },
     "output_type": "display_data"
    },
    {
     "name": "stdout",
     "output_type": "stream",
     "text": [
      "{'episode': 258, 'episode_length': 32, 'episode_return': -3.0}\n"
     ]
    },
    {
     "data": {
      "text/html": [
       "<b>Environment (2-back):</b><br /><pre><b>Stimuli:</b> 2452101515123114312252422300121</pre><pre><b>Actions:</b> M.M..MM.M.M.M.....M.MMM.MM.MM.M</pre>"
      ],
      "text/plain": [
       "<IPython.core.display.HTML object>"
      ]
     },
     "metadata": {
      "tags": []
     },
     "output_type": "display_data"
    },
    {
     "name": "stdout",
     "output_type": "stream",
     "text": [
      "{'episode': 259, 'episode_length': 32, 'episode_return': 5.0}\n"
     ]
    },
    {
     "data": {
      "text/html": [
       "<b>Environment (2-back):</b><br /><pre><b>Stimuli:</b> 3503431430313433514530240013450</pre><pre><b>Actions:</b> M...MMM..M.MMM..MM.MM.M.M..M.MM</pre>"
      ],
      "text/plain": [
       "<IPython.core.display.HTML object>"
      ]
     },
     "metadata": {
      "tags": []
     },
     "output_type": "display_data"
    },
    {
     "name": "stdout",
     "output_type": "stream",
     "text": [
      "{'episode': 260, 'episode_length': 32, 'episode_return': -3.0}\n"
     ]
    },
    {
     "data": {
      "text/html": [
       "<b>Environment (2-back):</b><br /><pre><b>Stimuli:</b> 3111154550215321330115332251421</pre><pre><b>Actions:</b> M....MM.....MMM.M.MMMM.M.MMMMM.</pre>"
      ],
      "text/plain": [
       "<IPython.core.display.HTML object>"
      ]
     },
     "metadata": {
      "tags": []
     },
     "output_type": "display_data"
    },
    {
     "name": "stdout",
     "output_type": "stream",
     "text": [
      "{'episode': 261, 'episode_length': 32, 'episode_return': -9.0}\n"
     ]
    },
    {
     "data": {
      "text/html": [
       "<b>Environment (2-back):</b><br /><pre><b>Stimuli:</b> 0022354233135435000443122404144</pre><pre><b>Actions:</b> MM...MMMMM.M....M...MM.MM.MMMM.</pre>"
      ],
      "text/plain": [
       "<IPython.core.display.HTML object>"
      ]
     },
     "metadata": {
      "tags": []
     },
     "output_type": "display_data"
    },
    {
     "name": "stdout",
     "output_type": "stream",
     "text": [
      "{'episode': 262, 'episode_length': 32, 'episode_return': 3.0}\n"
     ]
    },
    {
     "data": {
      "text/html": [
       "<b>Environment (2-back):</b><br /><pre><b>Stimuli:</b> 4434015250053032215151222002112</pre><pre><b>Actions:</b> ....M..M.M..MMMMMMMM.MMMM..MM..</pre>"
      ],
      "text/plain": [
       "<IPython.core.display.HTML object>"
      ]
     },
     "metadata": {
      "tags": []
     },
     "output_type": "display_data"
    },
    {
     "name": "stdout",
     "output_type": "stream",
     "text": [
      "{'episode': 263, 'episode_length': 32, 'episode_return': -1.0}\n"
     ]
    },
    {
     "data": {
      "text/html": [
       "<b>Environment (2-back):</b><br /><pre><b>Stimuli:</b> 5103240032313133153145455544114</pre><pre><b>Actions:</b> .M.M....M.MMM.M.MMMMM.MMMM.....</pre>"
      ],
      "text/plain": [
       "<IPython.core.display.HTML object>"
      ]
     },
     "metadata": {
      "tags": []
     },
     "output_type": "display_data"
    },
    {
     "name": "stdout",
     "output_type": "stream",
     "text": [
      "{'episode': 264, 'episode_length': 32, 'episode_return': 9.0}\n"
     ]
    },
    {
     "data": {
      "text/html": [
       "<b>Environment (2-back):</b><br /><pre><b>Stimuli:</b> 3222510350415335452004523221001</pre><pre><b>Actions:</b> M.M...M...MM.M.MM.MMM..MM.M....</pre>"
      ],
      "text/plain": [
       "<IPython.core.display.HTML object>"
      ]
     },
     "metadata": {
      "tags": []
     },
     "output_type": "display_data"
    },
    {
     "name": "stdout",
     "output_type": "stream",
     "text": [
      "{'episode': 265, 'episode_length': 32, 'episode_return': -3.0}\n"
     ]
    },
    {
     "data": {
      "text/html": [
       "<b>Environment (2-back):</b><br /><pre><b>Stimuli:</b> 2042123133452120200151501340120</pre><pre><b>Actions:</b> M.MM.MMMMM.M....M.MMM.MM.M..M.M</pre>"
      ],
      "text/plain": [
       "<IPython.core.display.HTML object>"
      ]
     },
     "metadata": {
      "tags": []
     },
     "output_type": "display_data"
    },
    {
     "name": "stdout",
     "output_type": "stream",
     "text": [
      "{'episode': 266, 'episode_length': 32, 'episode_return': -5.0}\n"
     ]
    },
    {
     "data": {
      "text/html": [
       "<b>Environment (2-back):</b><br /><pre><b>Stimuli:</b> 4322130114423550024501352143445</pre><pre><b>Actions:</b> MMMMMMM..M.....MM.MM.MM.MMMM.M.</pre>"
      ],
      "text/plain": [
       "<IPython.core.display.HTML object>"
      ]
     },
     "metadata": {
      "tags": []
     },
     "output_type": "display_data"
    },
    {
     "name": "stdout",
     "output_type": "stream",
     "text": [
      "{'episode': 267, 'episode_length': 32, 'episode_return': -7.0}\n"
     ]
    },
    {
     "data": {
      "text/html": [
       "<b>Environment (2-back):</b><br /><pre><b>Stimuli:</b> 3134555101254230244051551152040</pre><pre><b>Actions:</b> .M....M.MMM.M.M.MMM...MM.MM...M</pre>"
      ],
      "text/plain": [
       "<IPython.core.display.HTML object>"
      ]
     },
     "metadata": {
      "tags": []
     },
     "output_type": "display_data"
    },
    {
     "name": "stdout",
     "output_type": "stream",
     "text": [
      "{'episode': 268, 'episode_length': 32, 'episode_return': 9.0}\n"
     ]
    },
    {
     "data": {
      "text/html": [
       "<b>Environment (2-back):</b><br /><pre><b>Stimuli:</b> 2103213244113354555530203121153</pre><pre><b>Actions:</b> M...MMMMM..MM.MM....M..M.M....M</pre>"
      ],
      "text/plain": [
       "<IPython.core.display.HTML object>"
      ]
     },
     "metadata": {
      "tags": []
     },
     "output_type": "display_data"
    },
    {
     "name": "stdout",
     "output_type": "stream",
     "text": [
      "{'episode': 269, 'episode_length': 32, 'episode_return': -3.0}\n"
     ]
    },
    {
     "data": {
      "text/html": [
       "<b>Environment (2-back):</b><br /><pre><b>Stimuli:</b> 4552435445040104122210122453325</pre><pre><b>Actions:</b> ....MMMM.MMM..MMM.M.....M.MM.MM</pre>"
      ],
      "text/plain": [
       "<IPython.core.display.HTML object>"
      ]
     },
     "metadata": {
      "tags": []
     },
     "output_type": "display_data"
    },
    {
     "name": "stdout",
     "output_type": "stream",
     "text": [
      "{'episode': 270, 'episode_length': 32, 'episode_return': -5.0}\n"
     ]
    },
    {
     "data": {
      "text/html": [
       "<b>Environment (2-back):</b><br /><pre><b>Stimuli:</b> 4415031013023514250153512100304</pre><pre><b>Actions:</b> ..M..M.MMM..MMM.M.M.M..MMMM..MM</pre>"
      ],
      "text/plain": [
       "<IPython.core.display.HTML object>"
      ]
     },
     "metadata": {
      "tags": []
     },
     "output_type": "display_data"
    },
    {
     "name": "stdout",
     "output_type": "stream",
     "text": [
      "{'episode': 271, 'episode_length': 32, 'episode_return': -1.0}\n"
     ]
    },
    {
     "data": {
      "text/html": [
       "<b>Environment (2-back):</b><br /><pre><b>Stimuli:</b> 1414103254004210234255030242114</pre><pre><b>Actions:</b> MM..MMM.M.MM.MM.M.M.MMM.....MMM</pre>"
      ],
      "text/plain": [
       "<IPython.core.display.HTML object>"
      ]
     },
     "metadata": {
      "tags": []
     },
     "output_type": "display_data"
    },
    {
     "name": "stdout",
     "output_type": "stream",
     "text": [
      "{'episode': 272, 'episode_length': 32, 'episode_return': -11.0}\n"
     ]
    },
    {
     "data": {
      "text/html": [
       "<b>Environment (2-back):</b><br /><pre><b>Stimuli:</b> 0434052504430545144324211034140</pre><pre><b>Actions:</b> MMMM.MM.MMM.M.MM....MMM..M.MMM.</pre>"
      ],
      "text/plain": [
       "<IPython.core.display.HTML object>"
      ]
     },
     "metadata": {
      "tags": []
     },
     "output_type": "display_data"
    },
    {
     "name": "stdout",
     "output_type": "stream",
     "text": [
      "{'episode': 273, 'episode_length': 32, 'episode_return': 1.0}\n"
     ]
    },
    {
     "data": {
      "text/html": [
       "<b>Environment (2-back):</b><br /><pre><b>Stimuli:</b> 5341515033415050504324223244455</pre><pre><b>Actions:</b> MMMM..MM..MMMM...MMM..M.MMMM...</pre>"
      ],
      "text/plain": [
       "<IPython.core.display.HTML object>"
      ]
     },
     "metadata": {
      "tags": []
     },
     "output_type": "display_data"
    },
    {
     "name": "stdout",
     "output_type": "stream",
     "text": [
      "{'episode': 274, 'episode_length': 32, 'episode_return': -5.0}\n"
     ]
    },
    {
     "data": {
      "text/html": [
       "<b>Environment (2-back):</b><br /><pre><b>Stimuli:</b> 0023302050303355033132513015321</pre><pre><b>Actions:</b> .M.M.M..M..MMM..M.M...M..MMMM..</pre>"
      ],
      "text/plain": [
       "<IPython.core.display.HTML object>"
      ]
     },
     "metadata": {
      "tags": []
     },
     "output_type": "display_data"
    },
    {
     "name": "stdout",
     "output_type": "stream",
     "text": [
      "{'episode': 275, 'episode_length': 32, 'episode_return': 1.0}\n"
     ]
    },
    {
     "data": {
      "text/html": [
       "<b>Environment (2-back):</b><br /><pre><b>Stimuli:</b> 4525402440414354355402202202414</pre><pre><b>Actions:</b> MMMMMMMM...MM.MMM.M...MMM.M.MMM</pre>"
      ],
      "text/plain": [
       "<IPython.core.display.HTML object>"
      ]
     },
     "metadata": {
      "tags": []
     },
     "output_type": "display_data"
    },
    {
     "name": "stdout",
     "output_type": "stream",
     "text": [
      "{'episode': 276, 'episode_length': 32, 'episode_return': -5.0}\n"
     ]
    },
    {
     "data": {
      "text/html": [
       "<b>Environment (2-back):</b><br /><pre><b>Stimuli:</b> 0344554510222344102355314521002</pre><pre><b>Actions:</b> ..........M..MMM.M.......M..MM.</pre>"
      ],
      "text/plain": [
       "<IPython.core.display.HTML object>"
      ]
     },
     "metadata": {
      "tags": []
     },
     "output_type": "display_data"
    },
    {
     "name": "stdout",
     "output_type": "stream",
     "text": [
      "{'episode': 277, 'episode_length': 32, 'episode_return': 11.0}\n"
     ]
    },
    {
     "data": {
      "text/html": [
       "<b>Environment (2-back):</b><br /><pre><b>Stimuli:</b> 2205330111430022331255134353553</pre><pre><b>Actions:</b> MM.MMMM...MMM..M..MMMM.M....MMM</pre>"
      ],
      "text/plain": [
       "<IPython.core.display.HTML object>"
      ]
     },
     "metadata": {
      "tags": []
     },
     "output_type": "display_data"
    },
    {
     "name": "stdout",
     "output_type": "stream",
     "text": [
      "{'episode': 278, 'episode_length': 32, 'episode_return': -9.0}\n"
     ]
    },
    {
     "data": {
      "text/html": [
       "<b>Environment (2-back):</b><br /><pre><b>Stimuli:</b> 5450045224324005401534005242010</pre><pre><b>Actions:</b> M..M..MM.MM.M....MMMM.MMM.MMM..</pre>"
      ],
      "text/plain": [
       "<IPython.core.display.HTML object>"
      ]
     },
     "metadata": {
      "tags": []
     },
     "output_type": "display_data"
    },
    {
     "name": "stdout",
     "output_type": "stream",
     "text": [
      "{'episode': 279, 'episode_length': 32, 'episode_return': -7.0}\n"
     ]
    },
    {
     "data": {
      "text/html": [
       "<b>Environment (2-back):</b><br /><pre><b>Stimuli:</b> 5451501543000004500412351450022</pre><pre><b>Actions:</b> M.M..MM.M.MMMM.M....MM.M.M..MM.</pre>"
      ],
      "text/plain": [
       "<IPython.core.display.HTML object>"
      ]
     },
     "metadata": {
      "tags": []
     },
     "output_type": "display_data"
    },
    {
     "name": "stdout",
     "output_type": "stream",
     "text": [
      "{'episode': 280, 'episode_length': 32, 'episode_return': 1.0}\n"
     ]
    },
    {
     "data": {
      "text/html": [
       "<b>Environment (2-back):</b><br /><pre><b>Stimuli:</b> 5021505432021435421530115132224</pre><pre><b>Actions:</b> .MMMM..M...M.M....MMMM.MM.MM...</pre>"
      ],
      "text/plain": [
       "<IPython.core.display.HTML object>"
      ]
     },
     "metadata": {
      "tags": []
     },
     "output_type": "display_data"
    },
    {
     "name": "stdout",
     "output_type": "stream",
     "text": [
      "{'episode': 281, 'episode_length': 32, 'episode_return': -3.0}\n"
     ]
    },
    {
     "data": {
      "text/html": [
       "<b>Environment (2-back):</b><br /><pre><b>Stimuli:</b> 1210225012214551152525222143200</pre><pre><b>Actions:</b> MMM..MM.M...MM.......M...M.MM.M</pre>"
      ],
      "text/plain": [
       "<IPython.core.display.HTML object>"
      ]
     },
     "metadata": {
      "tags": []
     },
     "output_type": "display_data"
    },
    {
     "name": "stdout",
     "output_type": "stream",
     "text": [
      "{'episode': 282, 'episode_length': 32, 'episode_return': 1.0}\n"
     ]
    },
    {
     "data": {
      "text/html": [
       "<b>Environment (2-back):</b><br /><pre><b>Stimuli:</b> 0341301551320523434433130350103</pre><pre><b>Actions:</b> MM...MMMM.M..M.MM.M.M...MM...MM</pre>"
      ],
      "text/plain": [
       "<IPython.core.display.HTML object>"
      ]
     },
     "metadata": {
      "tags": []
     },
     "output_type": "display_data"
    },
    {
     "name": "stdout",
     "output_type": "stream",
     "text": [
      "{'episode': 283, 'episode_length': 32, 'episode_return': 1.0}\n"
     ]
    },
    {
     "data": {
      "text/html": [
       "<b>Environment (2-back):</b><br /><pre><b>Stimuli:</b> 0551330254032554300340350322422</pre><pre><b>Actions:</b> MM.....M...M..MMMMM...M....M..M</pre>"
      ],
      "text/plain": [
       "<IPython.core.display.HTML object>"
      ]
     },
     "metadata": {
      "tags": []
     },
     "output_type": "display_data"
    },
    {
     "name": "stdout",
     "output_type": "stream",
     "text": [
      "{'episode': 284, 'episode_length': 32, 'episode_return': 5.0}\n"
     ]
    },
    {
     "data": {
      "text/html": [
       "<b>Environment (2-back):</b><br /><pre><b>Stimuli:</b> 3350051315034545032042034524335</pre><pre><b>Actions:</b> MM.MMM...MMM.M.MM....M.MMM.MM.M</pre>"
      ],
      "text/plain": [
       "<IPython.core.display.HTML object>"
      ]
     },
     "metadata": {
      "tags": []
     },
     "output_type": "display_data"
    },
    {
     "name": "stdout",
     "output_type": "stream",
     "text": [
      "{'episode': 285, 'episode_length': 32, 'episode_return': -7.0}\n"
     ]
    },
    {
     "data": {
      "text/html": [
       "<b>Environment (2-back):</b><br /><pre><b>Stimuli:</b> 1143535242055233220044034542400</pre><pre><b>Actions:</b> MM..M.M.M.M.MM.MM.MM.MMMM.....M</pre>"
      ],
      "text/plain": [
       "<IPython.core.display.HTML object>"
      ]
     },
     "metadata": {
      "tags": []
     },
     "output_type": "display_data"
    },
    {
     "name": "stdout",
     "output_type": "stream",
     "text": [
      "{'episode': 286, 'episode_length': 32, 'episode_return': -7.0}\n"
     ]
    },
    {
     "data": {
      "text/html": [
       "<b>Environment (2-back):</b><br /><pre><b>Stimuli:</b> 1335003254512534551502040435302</pre><pre><b>Actions:</b> MM.MM..MM.M..MMMMM..M..M.MM....</pre>"
      ],
      "text/plain": [
       "<IPython.core.display.HTML object>"
      ]
     },
     "metadata": {
      "tags": []
     },
     "output_type": "display_data"
    },
    {
     "name": "stdout",
     "output_type": "stream",
     "text": [
      "{'episode': 287, 'episode_length': 32, 'episode_return': -3.0}\n"
     ]
    },
    {
     "data": {
      "text/html": [
       "<b>Environment (2-back):</b><br /><pre><b>Stimuli:</b> 5411503301541211052442144223244</pre><pre><b>Actions:</b> MMMM.MM.M.MMM.M...MMM.M..M.MMMM</pre>"
      ],
      "text/plain": [
       "<IPython.core.display.HTML object>"
      ]
     },
     "metadata": {
      "tags": []
     },
     "output_type": "display_data"
    },
    {
     "name": "stdout",
     "output_type": "stream",
     "text": [
      "{'episode': 288, 'episode_length': 32, 'episode_return': -5.0}\n"
     ]
    },
    {
     "data": {
      "text/html": [
       "<b>Environment (2-back):</b><br /><pre><b>Stimuli:</b> 4212153310410002432521412555103</pre><pre><b>Actions:</b> .MMMMM.M...M.M.MMMMMM.M..M.M.M.</pre>"
      ],
      "text/plain": [
       "<IPython.core.display.HTML object>"
      ]
     },
     "metadata": {
      "tags": []
     },
     "output_type": "display_data"
    },
    {
     "name": "stdout",
     "output_type": "stream",
     "text": [
      "{'episode': 289, 'episode_length': 32, 'episode_return': 1.0}\n"
     ]
    },
    {
     "data": {
      "text/html": [
       "<b>Environment (2-back):</b><br /><pre><b>Stimuli:</b> 5025542151434400231154131224011</pre><pre><b>Actions:</b> .MMMM.M.MMM.MMM...MMMMM.MMMM...</pre>"
      ],
      "text/plain": [
       "<IPython.core.display.HTML object>"
      ]
     },
     "metadata": {
      "tags": []
     },
     "output_type": "display_data"
    },
    {
     "name": "stdout",
     "output_type": "stream",
     "text": [
      "{'episode': 290, 'episode_length': 32, 'episode_return': -3.0}\n"
     ]
    },
    {
     "data": {
      "text/html": [
       "<b>Environment (2-back):</b><br /><pre><b>Stimuli:</b> 1001302344501130145112133120255</pre><pre><b>Actions:</b> ...MMM.MM.M..MMM.M..M..M.M..M..</pre>"
      ],
      "text/plain": [
       "<IPython.core.display.HTML object>"
      ]
     },
     "metadata": {
      "tags": []
     },
     "output_type": "display_data"
    },
    {
     "name": "stdout",
     "output_type": "stream",
     "text": [
      "{'episode': 291, 'episode_length': 32, 'episode_return': 3.0}\n"
     ]
    },
    {
     "data": {
      "text/html": [
       "<b>Environment (2-back):</b><br /><pre><b>Stimuli:</b> 3412304141011341531455020410354</pre><pre><b>Actions:</b> M..M...MMM..M..MMM...MMMM...M.M</pre>"
      ],
      "text/plain": [
       "<IPython.core.display.HTML object>"
      ]
     },
     "metadata": {
      "tags": []
     },
     "output_type": "display_data"
    },
    {
     "name": "stdout",
     "output_type": "stream",
     "text": [
      "{'episode': 292, 'episode_length': 32, 'episode_return': 5.0}\n"
     ]
    },
    {
     "data": {
      "text/html": [
       "<b>Environment (2-back):</b><br /><pre><b>Stimuli:</b> 0052152054144510130423535523430</pre><pre><b>Actions:</b> .M...MM...M.M.MM...M..M.M.MM.MM</pre>"
      ],
      "text/plain": [
       "<IPython.core.display.HTML object>"
      ]
     },
     "metadata": {
      "tags": []
     },
     "output_type": "display_data"
    },
    {
     "name": "stdout",
     "output_type": "stream",
     "text": [
      "{'episode': 293, 'episode_length': 32, 'episode_return': -1.0}\n"
     ]
    },
    {
     "data": {
      "text/html": [
       "<b>Environment (2-back):</b><br /><pre><b>Stimuli:</b> 5124500041500433351525411413514</pre><pre><b>Actions:</b> MMM.MM..MM...M.MM.MMMM.....M...</pre>"
      ],
      "text/plain": [
       "<IPython.core.display.HTML object>"
      ]
     },
     "metadata": {
      "tags": []
     },
     "output_type": "display_data"
    },
    {
     "name": "stdout",
     "output_type": "stream",
     "text": [
      "{'episode': 294, 'episode_length': 32, 'episode_return': 3.0}\n"
     ]
    },
    {
     "data": {
      "text/html": [
       "<b>Environment (2-back):</b><br /><pre><b>Stimuli:</b> 3034540115443131524041520115020</pre><pre><b>Actions:</b> M.....M.M.M.M.M....M....M.M..M.</pre>"
      ],
      "text/plain": [
       "<IPython.core.display.HTML object>"
      ]
     },
     "metadata": {
      "tags": []
     },
     "output_type": "display_data"
    },
    {
     "name": "stdout",
     "output_type": "stream",
     "text": [
      "{'episode': 295, 'episode_length': 32, 'episode_return': 3.0}\n"
     ]
    },
    {
     "data": {
      "text/html": [
       "<b>Environment (2-back):</b><br /><pre><b>Stimuli:</b> 3335325115505400503114332421113</pre><pre><b>Actions:</b> MMM.MMM.M.M.M.M.....M..M..MMM.M</pre>"
      ],
      "text/plain": [
       "<IPython.core.display.HTML object>"
      ]
     },
     "metadata": {
      "tags": []
     },
     "output_type": "display_data"
    },
    {
     "name": "stdout",
     "output_type": "stream",
     "text": [
      "{'episode': 296, 'episode_length': 32, 'episode_return': 5.0}\n"
     ]
    },
    {
     "data": {
      "text/html": [
       "<b>Environment (2-back):</b><br /><pre><b>Stimuli:</b> 2520535245400433213145224102010</pre><pre><b>Actions:</b> MM...MM.MMM.MM.MM...M...M......</pre>"
      ],
      "text/plain": [
       "<IPython.core.display.HTML object>"
      ]
     },
     "metadata": {
      "tags": []
     },
     "output_type": "display_data"
    },
    {
     "name": "stdout",
     "output_type": "stream",
     "text": [
      "{'episode': 297, 'episode_length': 32, 'episode_return': 1.0}\n"
     ]
    },
    {
     "data": {
      "text/html": [
       "<b>Environment (2-back):</b><br /><pre><b>Stimuli:</b> 2445513523324514103212121003121</pre><pre><b>Actions:</b> MM..MM..MM...M..MM.MM.M.....M.M</pre>"
      ],
      "text/plain": [
       "<IPython.core.display.HTML object>"
      ]
     },
     "metadata": {
      "tags": []
     },
     "output_type": "display_data"
    },
    {
     "name": "stdout",
     "output_type": "stream",
     "text": [
      "{'episode': 298, 'episode_length': 32, 'episode_return': 5.0}\n"
     ]
    },
    {
     "data": {
      "text/html": [
       "<b>Environment (2-back):</b><br /><pre><b>Stimuli:</b> 4533302055155520504004440353113</pre><pre><b>Actions:</b> MMM...MM...MM.MM.MM.....M..MMMM</pre>"
      ],
      "text/plain": [
       "<IPython.core.display.HTML object>"
      ]
     },
     "metadata": {
      "tags": []
     },
     "output_type": "display_data"
    },
    {
     "name": "stdout",
     "output_type": "stream",
     "text": [
      "{'episode': 299, 'episode_length': 32, 'episode_return': -1.0}\n"
     ]
    },
    {
     "data": {
      "text/html": [
       "<b>Environment (2-back):</b><br /><pre><b>Stimuli:</b> 3501135002545434453250334534545</pre><pre><b>Actions:</b> ....M.M..MM.MMM.MM....MMMMMM...</pre>"
      ],
      "text/plain": [
       "<IPython.core.display.HTML object>"
      ]
     },
     "metadata": {
      "tags": []
     },
     "output_type": "display_data"
    },
    {
     "name": "stdout",
     "output_type": "stream",
     "text": [
      "{'episode': 300, 'episode_length': 32, 'episode_return': -3.0}\n"
     ]
    },
    {
     "data": {
      "text/html": [
       "<b>Environment (2-back):</b><br /><pre><b>Stimuli:</b> 4145532411003210204023154512001</pre><pre><b>Actions:</b> M.MM.MM.M....M.MMM..M..MM......</pre>"
      ],
      "text/plain": [
       "<IPython.core.display.HTML object>"
      ]
     },
     "metadata": {
      "tags": []
     },
     "output_type": "display_data"
    },
    {
     "name": "stdout",
     "output_type": "stream",
     "text": [
      "{'episode': 301, 'episode_length': 32, 'episode_return': 5.0}\n"
     ]
    },
    {
     "data": {
      "text/html": [
       "<b>Environment (2-back):</b><br /><pre><b>Stimuli:</b> 2302004504432005311453252421325</pre><pre><b>Actions:</b> ..M.M..M..MM.M..MM..M.MM...MMMM</pre>"
      ],
      "text/plain": [
       "<IPython.core.display.HTML object>"
      ]
     },
     "metadata": {
      "tags": []
     },
     "output_type": "display_data"
    },
    {
     "name": "stdout",
     "output_type": "stream",
     "text": [
      "{'episode': 302, 'episode_length': 32, 'episode_return': -1.0}\n"
     ]
    },
    {
     "data": {
      "text/html": [
       "<b>Environment (2-back):</b><br /><pre><b>Stimuli:</b> 1305420234224212412334325531223</pre><pre><b>Actions:</b> .M.M.MM....MM.MM.....M...MMM..M</pre>"
      ],
      "text/plain": [
       "<IPython.core.display.HTML object>"
      ]
     },
     "metadata": {
      "tags": []
     },
     "output_type": "display_data"
    },
    {
     "name": "stdout",
     "output_type": "stream",
     "text": [
      "{'episode': 303, 'episode_length': 32, 'episode_return': 1.0}\n"
     ]
    },
    {
     "data": {
      "text/html": [
       "<b>Environment (2-back):</b><br /><pre><b>Stimuli:</b> 1142424304103145100201152524024</pre><pre><b>Actions:</b> .M.M....M.M.M..M.M..M....M.M..M</pre>"
      ],
      "text/plain": [
       "<IPython.core.display.HTML object>"
      ]
     },
     "metadata": {
      "tags": []
     },
     "output_type": "display_data"
    },
    {
     "name": "stdout",
     "output_type": "stream",
     "text": [
      "{'episode': 304, 'episode_length': 32, 'episode_return': 5.0}\n"
     ]
    },
    {
     "data": {
      "text/html": [
       "<b>Environment (2-back):</b><br /><pre><b>Stimuli:</b> 5235402105023412120052545420325</pre><pre><b>Actions:</b> .MMMMMM.M...MMMMMM...MMM..M...M</pre>"
      ],
      "text/plain": [
       "<IPython.core.display.HTML object>"
      ]
     },
     "metadata": {
      "tags": []
     },
     "output_type": "display_data"
    },
    {
     "name": "stdout",
     "output_type": "stream",
     "text": [
      "{'episode': 305, 'episode_length': 32, 'episode_return': -7.0}\n"
     ]
    },
    {
     "data": {
      "text/html": [
       "<b>Environment (2-back):</b><br /><pre><b>Stimuli:</b> 1001554332352554412033303212400</pre><pre><b>Actions:</b> .....M.M.MMMM...M.M..MMMMMM..MM</pre>"
      ],
      "text/plain": [
       "<IPython.core.display.HTML object>"
      ]
     },
     "metadata": {
      "tags": []
     },
     "output_type": "display_data"
    },
    {
     "name": "stdout",
     "output_type": "stream",
     "text": [
      "{'episode': 306, 'episode_length': 32, 'episode_return': 1.0}\n"
     ]
    },
    {
     "data": {
      "text/html": [
       "<b>Environment (2-back):</b><br /><pre><b>Stimuli:</b> 3321232101141143001414444333034</pre><pre><b>Actions:</b> .....M...MM..MM....M.MM...M.MM.</pre>"
      ],
      "text/plain": [
       "<IPython.core.display.HTML object>"
      ]
     },
     "metadata": {
      "tags": []
     },
     "output_type": "display_data"
    },
    {
     "name": "stdout",
     "output_type": "stream",
     "text": [
      "{'episode': 307, 'episode_length': 32, 'episode_return': 1.0}\n"
     ]
    },
    {
     "data": {
      "text/html": [
       "<b>Environment (2-back):</b><br /><pre><b>Stimuli:</b> 5313245545102034115032220224143</pre><pre><b>Actions:</b> M.MM.MM.M..MM.M..MMM.M..MM..M.M</pre>"
      ],
      "text/plain": [
       "<IPython.core.display.HTML object>"
      ]
     },
     "metadata": {
      "tags": []
     },
     "output_type": "display_data"
    },
    {
     "name": "stdout",
     "output_type": "stream",
     "text": [
      "{'episode': 308, 'episode_length': 32, 'episode_return': -7.0}\n"
     ]
    },
    {
     "data": {
      "text/html": [
       "<b>Environment (2-back):</b><br /><pre><b>Stimuli:</b> 5541055511220445053021332213240</pre><pre><b>Actions:</b> ...MM.M.MMM.M.MMM......MM......</pre>"
      ],
      "text/plain": [
       "<IPython.core.display.HTML object>"
      ]
     },
     "metadata": {
      "tags": []
     },
     "output_type": "display_data"
    },
    {
     "name": "stdout",
     "output_type": "stream",
     "text": [
      "{'episode': 309, 'episode_length': 32, 'episode_return': 1.0}\n"
     ]
    },
    {
     "data": {
      "text/html": [
       "<b>Environment (2-back):</b><br /><pre><b>Stimuli:</b> 1351541134305245022444542025132</pre><pre><b>Actions:</b> ...M....MM.M...M.MMMMM.M.MM...M</pre>"
      ],
      "text/plain": [
       "<IPython.core.display.HTML object>"
      ]
     },
     "metadata": {
      "tags": []
     },
     "output_type": "display_data"
    },
    {
     "name": "stdout",
     "output_type": "stream",
     "text": [
      "{'episode': 310, 'episode_length': 32, 'episode_return': 5.0}\n"
     ]
    },
    {
     "data": {
      "text/html": [
       "<b>Environment (2-back):</b><br /><pre><b>Stimuli:</b> 2254425554144030422552545414511</pre><pre><b>Actions:</b> MM.MMMMM.M.M...M.MM.M....MMM.MM</pre>"
      ],
      "text/plain": [
       "<IPython.core.display.HTML object>"
      ]
     },
     "metadata": {
      "tags": []
     },
     "output_type": "display_data"
    },
    {
     "name": "stdout",
     "output_type": "stream",
     "text": [
      "{'episode': 311, 'episode_length': 32, 'episode_return': -3.0}\n"
     ]
    },
    {
     "data": {
      "text/html": [
       "<b>Environment (2-back):</b><br /><pre><b>Stimuli:</b> 2033412410422222103100340410500</pre><pre><b>Actions:</b> .MMMM.MMMM..MMM.M.M.M..MM..MMMM</pre>"
      ],
      "text/plain": [
       "<IPython.core.display.HTML object>"
      ]
     },
     "metadata": {
      "tags": []
     },
     "output_type": "display_data"
    },
    {
     "name": "stdout",
     "output_type": "stream",
     "text": [
      "{'episode': 312, 'episode_length': 32, 'episode_return': -7.0}\n"
     ]
    },
    {
     "data": {
      "text/html": [
       "<b>Environment (2-back):</b><br /><pre><b>Stimuli:</b> 4042450224143044133101454322233</pre><pre><b>Actions:</b> .M..M.MM........M...MMM.MM..MM.</pre>"
      ],
      "text/plain": [
       "<IPython.core.display.HTML object>"
      ]
     },
     "metadata": {
      "tags": []
     },
     "output_type": "display_data"
    },
    {
     "name": "stdout",
     "output_type": "stream",
     "text": [
      "{'episode': 313, 'episode_length': 32, 'episode_return': 11.0}\n"
     ]
    },
    {
     "data": {
      "text/html": [
       "<b>Environment (2-back):</b><br /><pre><b>Stimuli:</b> 1114530031333000145243522355041</pre><pre><b>Actions:</b> MM.MMM.MM...MM.MMMM.M..MMM.MMMM</pre>"
      ],
      "text/plain": [
       "<IPython.core.display.HTML object>"
      ]
     },
     "metadata": {
      "tags": []
     },
     "output_type": "display_data"
    },
    {
     "name": "stdout",
     "output_type": "stream",
     "text": [
      "{'episode': 314, 'episode_length': 32, 'episode_return': -9.0}\n"
     ]
    },
    {
     "data": {
      "text/html": [
       "<b>Environment (2-back):</b><br /><pre><b>Stimuli:</b> 5425544201151005013312101233114</pre><pre><b>Actions:</b> ..M.MM.MM......MM.MM.M.MM...M.M</pre>"
      ],
      "text/plain": [
       "<IPython.core.display.HTML object>"
      ]
     },
     "metadata": {
      "tags": []
     },
     "output_type": "display_data"
    },
    {
     "name": "stdout",
     "output_type": "stream",
     "text": [
      "{'episode': 315, 'episode_length': 32, 'episode_return': 1.0}\n"
     ]
    },
    {
     "data": {
      "text/html": [
       "<b>Environment (2-back):</b><br /><pre><b>Stimuli:</b> 0544411321243530224130104333102</pre><pre><b>Actions:</b> M.MM.MM.M...MM..M.M.M.M.M.MM...</pre>"
      ],
      "text/plain": [
       "<IPython.core.display.HTML object>"
      ]
     },
     "metadata": {
      "tags": []
     },
     "output_type": "display_data"
    },
    {
     "name": "stdout",
     "output_type": "stream",
     "text": [
      "{'episode': 316, 'episode_length': 32, 'episode_return': -5.0}\n"
     ]
    },
    {
     "data": {
      "text/html": [
       "<b>Environment (2-back):</b><br /><pre><b>Stimuli:</b> 1000454415044141540524525023030</pre><pre><b>Actions:</b> MM..M...MM..MM..M..MM....MMMMMM</pre>"
      ],
      "text/plain": [
       "<IPython.core.display.HTML object>"
      ]
     },
     "metadata": {
      "tags": []
     },
     "output_type": "display_data"
    },
    {
     "name": "stdout",
     "output_type": "stream",
     "text": [
      "{'episode': 317, 'episode_length': 32, 'episode_return': -7.0}\n"
     ]
    },
    {
     "data": {
      "text/html": [
       "<b>Environment (2-back):</b><br /><pre><b>Stimuli:</b> 3020035031430333240553102033343</pre><pre><b>Actions:</b> ...MMM.MMM.M...M...M..MMMM..M.M</pre>"
      ],
      "text/plain": [
       "<IPython.core.display.HTML object>"
      ]
     },
     "metadata": {
      "tags": []
     },
     "output_type": "display_data"
    },
    {
     "name": "stdout",
     "output_type": "stream",
     "text": [
      "{'episode': 318, 'episode_length': 32, 'episode_return': 5.0}\n"
     ]
    },
    {
     "data": {
      "text/html": [
       "<b>Environment (2-back):</b><br /><pre><b>Stimuli:</b> 1444531202531500320213322504302</pre><pre><b>Actions:</b> .......MM..MMMM.M..M.M.M..MM...</pre>"
      ],
      "text/plain": [
       "<IPython.core.display.HTML object>"
      ]
     },
     "metadata": {
      "tags": []
     },
     "output_type": "display_data"
    },
    {
     "name": "stdout",
     "output_type": "stream",
     "text": [
      "{'episode': 319, 'episode_length': 32, 'episode_return': 5.0}\n"
     ]
    },
    {
     "data": {
      "text/html": [
       "<b>Environment (2-back):</b><br /><pre><b>Stimuli:</b> 0120340332514435113134501425141</pre><pre><b>Actions:</b> M.MMM.MM.M.MM.MMMMMM.........MM</pre>"
      ],
      "text/plain": [
       "<IPython.core.display.HTML object>"
      ]
     },
     "metadata": {
      "tags": []
     },
     "output_type": "display_data"
    },
    {
     "name": "stdout",
     "output_type": "stream",
     "text": [
      "{'episode': 320, 'episode_length': 32, 'episode_return': -1.0}\n"
     ]
    },
    {
     "data": {
      "text/html": [
       "<b>Environment (2-back):</b><br /><pre><b>Stimuli:</b> 5250231154500140503114153453230</pre><pre><b>Actions:</b> M.MM.M.M.MM.MM.MMM.MM..M..MMM..</pre>"
      ],
      "text/plain": [
       "<IPython.core.display.HTML object>"
      ]
     },
     "metadata": {
      "tags": []
     },
     "output_type": "display_data"
    },
    {
     "name": "stdout",
     "output_type": "stream",
     "text": [
      "{'episode': 321, 'episode_length': 32, 'episode_return': -3.0}\n"
     ]
    },
    {
     "data": {
      "text/html": [
       "<b>Environment (2-back):</b><br /><pre><b>Stimuli:</b> 2303352041235221502524521405455</pre><pre><b>Actions:</b> M.MMM.MM..M.MM...M.M.MM..M.M.M.</pre>"
      ],
      "text/plain": [
       "<IPython.core.display.HTML object>"
      ]
     },
     "metadata": {
      "tags": []
     },
     "output_type": "display_data"
    },
    {
     "name": "stdout",
     "output_type": "stream",
     "text": [
      "{'episode': 322, 'episode_length': 32, 'episode_return': 1.0}\n"
     ]
    },
    {
     "data": {
      "text/html": [
       "<b>Environment (2-back):</b><br /><pre><b>Stimuli:</b> 2141113301423012015555032222551</pre><pre><b>Actions:</b> MMMM.....M..MM.MMM.MMM..M.M...M</pre>"
      ],
      "text/plain": [
       "<IPython.core.display.HTML object>"
      ]
     },
     "metadata": {
      "tags": []
     },
     "output_type": "display_data"
    },
    {
     "name": "stdout",
     "output_type": "stream",
     "text": [
      "{'episode': 323, 'episode_length': 32, 'episode_return': 5.0}\n"
     ]
    },
    {
     "data": {
      "text/html": [
       "<b>Environment (2-back):</b><br /><pre><b>Stimuli:</b> 5223223241250020055354353052415</pre><pre><b>Actions:</b> M.MMMM..M.M..MM.MM.MMMM...MM.MM</pre>"
      ],
      "text/plain": [
       "<IPython.core.display.HTML object>"
      ]
     },
     "metadata": {
      "tags": []
     },
     "output_type": "display_data"
    },
    {
     "name": "stdout",
     "output_type": "stream",
     "text": [
      "{'episode': 324, 'episode_length': 32, 'episode_return': -7.0}\n"
     ]
    },
    {
     "data": {
      "text/html": [
       "<b>Environment (2-back):</b><br /><pre><b>Stimuli:</b> 0011430113401530325012353550305</pre><pre><b>Actions:</b> M.M.M.M.MM.MM.M.MM.MM.M.M....M.</pre>"
      ],
      "text/plain": [
       "<IPython.core.display.HTML object>"
      ]
     },
     "metadata": {
      "tags": []
     },
     "output_type": "display_data"
    },
    {
     "name": "stdout",
     "output_type": "stream",
     "text": [
      "{'episode': 325, 'episode_length': 32, 'episode_return': 3.0}\n"
     ]
    },
    {
     "data": {
      "text/html": [
       "<b>Environment (2-back):</b><br /><pre><b>Stimuli:</b> 1300224443230055111140102144054</pre><pre><b>Actions:</b> ..MMM.M.M.M.MMM.MM.M.M.M.M...MM</pre>"
      ],
      "text/plain": [
       "<IPython.core.display.HTML object>"
      ]
     },
     "metadata": {
      "tags": []
     },
     "output_type": "display_data"
    },
    {
     "name": "stdout",
     "output_type": "stream",
     "text": [
      "{'episode': 326, 'episode_length': 32, 'episode_return': -3.0}\n"
     ]
    },
    {
     "data": {
      "text/html": [
       "<b>Environment (2-back):</b><br /><pre><b>Stimuli:</b> 3440501434504332352030233555000</pre><pre><b>Actions:</b> M...MMMMM.M.MM.MM.MM.MM.MMM..M.</pre>"
      ],
      "text/plain": [
       "<IPython.core.display.HTML object>"
      ]
     },
     "metadata": {
      "tags": []
     },
     "output_type": "display_data"
    },
    {
     "name": "stdout",
     "output_type": "stream",
     "text": [
      "{'episode': 327, 'episode_length': 32, 'episode_return': -7.0}\n"
     ]
    },
    {
     "data": {
      "text/html": [
       "<b>Environment (2-back):</b><br /><pre><b>Stimuli:</b> 3305304234501540323100102454222</pre><pre><b>Actions:</b> MMM.........MMMM....MMM..M.....</pre>"
      ],
      "text/plain": [
       "<IPython.core.display.HTML object>"
      ]
     },
     "metadata": {
      "tags": []
     },
     "output_type": "display_data"
    },
    {
     "name": "stdout",
     "output_type": "stream",
     "text": [
      "{'episode': 328, 'episode_length': 32, 'episode_return': 1.0}\n"
     ]
    },
    {
     "data": {
      "text/html": [
       "<b>Environment (2-back):</b><br /><pre><b>Stimuli:</b> 1212013335510243500510252505355</pre><pre><b>Actions:</b> M.M.MM.MM.MM.M..M....M.M.M.....</pre>"
      ],
      "text/plain": [
       "<IPython.core.display.HTML object>"
      ]
     },
     "metadata": {
      "tags": []
     },
     "output_type": "display_data"
    },
    {
     "name": "stdout",
     "output_type": "stream",
     "text": [
      "{'episode': 329, 'episode_length': 32, 'episode_return': 3.0}\n"
     ]
    },
    {
     "data": {
      "text/html": [
       "<b>Environment (2-back):</b><br /><pre><b>Stimuli:</b> 5531554150224420544002244551303</pre><pre><b>Actions:</b> .M....MM..MMMMMMM...M.M...M....</pre>"
      ],
      "text/plain": [
       "<IPython.core.display.HTML object>"
      ]
     },
     "metadata": {
      "tags": []
     },
     "output_type": "display_data"
    },
    {
     "name": "stdout",
     "output_type": "stream",
     "text": [
      "{'episode': 330, 'episode_length': 32, 'episode_return': 3.0}\n"
     ]
    },
    {
     "data": {
      "text/html": [
       "<b>Environment (2-back):</b><br /><pre><b>Stimuli:</b> 3211141342432541505554020010012</pre><pre><b>Actions:</b> MM.M.MM...MMM.MM...MMMMMM.MMM.M</pre>"
      ],
      "text/plain": [
       "<IPython.core.display.HTML object>"
      ]
     },
     "metadata": {
      "tags": []
     },
     "output_type": "display_data"
    },
    {
     "name": "stdout",
     "output_type": "stream",
     "text": [
      "{'episode': 331, 'episode_length': 32, 'episode_return': -3.0}\n"
     ]
    },
    {
     "data": {
      "text/html": [
       "<b>Environment (2-back):</b><br /><pre><b>Stimuli:</b> 3221500100343420550103442511135</pre><pre><b>Actions:</b> M..MM..MM.M.MM...M.MM..M.MMMMMM</pre>"
      ],
      "text/plain": [
       "<IPython.core.display.HTML object>"
      ]
     },
     "metadata": {
      "tags": []
     },
     "output_type": "display_data"
    },
    {
     "name": "stdout",
     "output_type": "stream",
     "text": [
      "{'episode': 332, 'episode_length': 32, 'episode_return': 5.0}\n"
     ]
    },
    {
     "data": {
      "text/html": [
       "<b>Environment (2-back):</b><br /><pre><b>Stimuli:</b> 5124311145033144453331321313310</pre><pre><b>Actions:</b> M.M.M.M..M..M.M.M...M...M..M.M.</pre>"
      ],
      "text/plain": [
       "<IPython.core.display.HTML object>"
      ]
     },
     "metadata": {
      "tags": []
     },
     "output_type": "display_data"
    },
    {
     "name": "stdout",
     "output_type": "stream",
     "text": [
      "{'episode': 333, 'episode_length': 32, 'episode_return': 7.0}\n"
     ]
    },
    {
     "data": {
      "text/html": [
       "<b>Environment (2-back):</b><br /><pre><b>Stimuli:</b> 4334443553325310102132155442310</pre><pre><b>Actions:</b> MMMMM.M.MM..M......MMMM.M.MM.M.</pre>"
      ],
      "text/plain": [
       "<IPython.core.display.HTML object>"
      ]
     },
     "metadata": {
      "tags": []
     },
     "output_type": "display_data"
    },
    {
     "name": "stdout",
     "output_type": "stream",
     "text": [
      "{'episode': 334, 'episode_length': 32, 'episode_return': -9.0}\n"
     ]
    },
    {
     "data": {
      "text/html": [
       "<b>Environment (2-back):</b><br /><pre><b>Stimuli:</b> 0312300432223231204355135525422</pre><pre><b>Actions:</b> MM..M.MMM.M..MM.MMMMM...MMMM.M.</pre>"
      ],
      "text/plain": [
       "<IPython.core.display.HTML object>"
      ]
     },
     "metadata": {
      "tags": []
     },
     "output_type": "display_data"
    },
    {
     "name": "stdout",
     "output_type": "stream",
     "text": [
      "{'episode': 335, 'episode_length': 32, 'episode_return': -3.0}\n"
     ]
    },
    {
     "data": {
      "text/html": [
       "<b>Environment (2-back):</b><br /><pre><b>Stimuli:</b> 5050430532542030344452024341053</pre><pre><b>Actions:</b> MM...MMMM..M.M.MMMMM..MMMM...MM</pre>"
      ],
      "text/plain": [
       "<IPython.core.display.HTML object>"
      ]
     },
     "metadata": {
      "tags": []
     },
     "output_type": "display_data"
    },
    {
     "name": "stdout",
     "output_type": "stream",
     "text": [
      "{'episode': 336, 'episode_length': 32, 'episode_return': -5.0}\n"
     ]
    },
    {
     "data": {
      "text/html": [
       "<b>Environment (2-back):</b><br /><pre><b>Stimuli:</b> 3235201534241424242253201012434</pre><pre><b>Actions:</b> ....M....M..M.M..M...MM...MMMM.</pre>"
      ],
      "text/plain": [
       "<IPython.core.display.HTML object>"
      ]
     },
     "metadata": {
      "tags": []
     },
     "output_type": "display_data"
    },
    {
     "name": "stdout",
     "output_type": "stream",
     "text": [
      "{'episode': 337, 'episode_length': 32, 'episode_return': -5.0}\n"
     ]
    },
    {
     "data": {
      "text/html": [
       "<b>Environment (2-back):</b><br /><pre><b>Stimuli:</b> 5135151515323523133452211054424</pre><pre><b>Actions:</b> M..M.MM..MM.MMM.MM..MM.M.M....M</pre>"
      ],
      "text/plain": [
       "<IPython.core.display.HTML object>"
      ]
     },
     "metadata": {
      "tags": []
     },
     "output_type": "display_data"
    },
    {
     "name": "stdout",
     "output_type": "stream",
     "text": [
      "{'episode': 338, 'episode_length': 32, 'episode_return': 5.0}\n"
     ]
    },
    {
     "data": {
      "text/html": [
       "<b>Environment (2-back):</b><br /><pre><b>Stimuli:</b> 0424331253322501352331135212354</pre><pre><b>Actions:</b> ..MM...MM.M.M.MM.M.M.MM...MMMM.</pre>"
      ],
      "text/plain": [
       "<IPython.core.display.HTML object>"
      ]
     },
     "metadata": {
      "tags": []
     },
     "output_type": "display_data"
    },
    {
     "name": "stdout",
     "output_type": "stream",
     "text": [
      "{'episode': 339, 'episode_length': 32, 'episode_return': 1.0}\n"
     ]
    },
    {
     "data": {
      "text/html": [
       "<b>Environment (2-back):</b><br /><pre><b>Stimuli:</b> 2202510343405234423433320213344</pre><pre><b>Actions:</b> .MMM..M.M...MM.M....MM..MM..M.M</pre>"
      ],
      "text/plain": [
       "<IPython.core.display.HTML object>"
      ]
     },
     "metadata": {
      "tags": []
     },
     "output_type": "display_data"
    },
    {
     "name": "stdout",
     "output_type": "stream",
     "text": [
      "{'episode': 340, 'episode_length': 32, 'episode_return': 5.0}\n"
     ]
    },
    {
     "data": {
      "text/html": [
       "<b>Environment (2-back):</b><br /><pre><b>Stimuli:</b> 0531135055204553501101140052400</pre><pre><b>Actions:</b> M.M...MM.M.M..MM..M...MM.MM.MM.</pre>"
      ],
      "text/plain": [
       "<IPython.core.display.HTML object>"
      ]
     },
     "metadata": {
      "tags": []
     },
     "output_type": "display_data"
    },
    {
     "name": "stdout",
     "output_type": "stream",
     "text": [
      "{'episode': 341, 'episode_length': 32, 'episode_return': -3.0}\n"
     ]
    },
    {
     "data": {
      "text/html": [
       "<b>Environment (2-back):</b><br /><pre><b>Stimuli:</b> 0411020314333014054324444535213</pre><pre><b>Actions:</b> .M....MMMMMM......M....M.M.....</pre>"
      ],
      "text/plain": [
       "<IPython.core.display.HTML object>"
      ]
     },
     "metadata": {
      "tags": []
     },
     "output_type": "display_data"
    },
    {
     "name": "stdout",
     "output_type": "stream",
     "text": [
      "{'episode': 342, 'episode_length': 32, 'episode_return': 9.0}\n"
     ]
    },
    {
     "data": {
      "text/html": [
       "<b>Environment (2-back):</b><br /><pre><b>Stimuli:</b> 3413135410303404515055255211445</pre><pre><b>Actions:</b> MMMM.MM......M.MMM.M..M.M.MMMM.</pre>"
      ],
      "text/plain": [
       "<IPython.core.display.HTML object>"
      ]
     },
     "metadata": {
      "tags": []
     },
     "output_type": "display_data"
    },
    {
     "name": "stdout",
     "output_type": "stream",
     "text": [
      "{'episode': 343, 'episode_length': 32, 'episode_return': -11.0}\n"
     ]
    },
    {
     "data": {
      "text/html": [
       "<b>Environment (2-back):</b><br /><pre><b>Stimuli:</b> 5541513434532413211205151523155</pre><pre><b>Actions:</b> MMM....MMM.M...MM..M..MM.MM...M</pre>"
      ],
      "text/plain": [
       "<IPython.core.display.HTML object>"
      ]
     },
     "metadata": {
      "tags": []
     },
     "output_type": "display_data"
    },
    {
     "name": "stdout",
     "output_type": "stream",
     "text": [
      "{'episode': 344, 'episode_length': 32, 'episode_return': 7.0}\n"
     ]
    },
    {
     "data": {
      "text/html": [
       "<b>Environment (2-back):</b><br /><pre><b>Stimuli:</b> 2050402411411113042420443035404</pre><pre><b>Actions:</b> MMMMMM...MM.M...MM....M..M.M..M</pre>"
      ],
      "text/plain": [
       "<IPython.core.display.HTML object>"
      ]
     },
     "metadata": {
      "tags": []
     },
     "output_type": "display_data"
    },
    {
     "name": "stdout",
     "output_type": "stream",
     "text": [
      "{'episode': 345, 'episode_length': 32, 'episode_return': -5.0}\n"
     ]
    },
    {
     "data": {
      "text/html": [
       "<b>Environment (2-back):</b><br /><pre><b>Stimuli:</b> 1234041534434451332402424333224</pre><pre><b>Actions:</b> MM.MM.MMM.MM..M...MMM..M.MM...M</pre>"
      ],
      "text/plain": [
       "<IPython.core.display.HTML object>"
      ]
     },
     "metadata": {
      "tags": []
     },
     "output_type": "display_data"
    },
    {
     "name": "stdout",
     "output_type": "stream",
     "text": [
      "{'episode': 346, 'episode_length': 32, 'episode_return': -9.0}\n"
     ]
    },
    {
     "data": {
      "text/html": [
       "<b>Environment (2-back):</b><br /><pre><b>Stimuli:</b> 0152420042045105515401003140430</pre><pre><b>Actions:</b> M.M.MMM..M..MMM.M.......M...M.M</pre>"
      ],
      "text/plain": [
       "<IPython.core.display.HTML object>"
      ]
     },
     "metadata": {
      "tags": []
     },
     "output_type": "display_data"
    },
    {
     "name": "stdout",
     "output_type": "stream",
     "text": [
      "{'episode': 347, 'episode_length': 32, 'episode_return': 5.0}\n"
     ]
    },
    {
     "data": {
      "text/html": [
       "<b>Environment (2-back):</b><br /><pre><b>Stimuli:</b> 4542334031111404002343122255211</pre><pre><b>Actions:</b> .M..MM.MMMMM..MMM.MM....MMM.MMM</pre>"
      ],
      "text/plain": [
       "<IPython.core.display.HTML object>"
      ]
     },
     "metadata": {
      "tags": []
     },
     "output_type": "display_data"
    },
    {
     "name": "stdout",
     "output_type": "stream",
     "text": [
      "{'episode': 348, 'episode_length': 32, 'episode_return': -3.0}\n"
     ]
    },
    {
     "data": {
      "text/html": [
       "<b>Environment (2-back):</b><br /><pre><b>Stimuli:</b> 4112010445205321400401052122543</pre><pre><b>Actions:</b> ....M.M.M...MM......M.M.MM....M</pre>"
      ],
      "text/plain": [
       "<IPython.core.display.HTML object>"
      ]
     },
     "metadata": {
      "tags": []
     },
     "output_type": "display_data"
    },
    {
     "name": "stdout",
     "output_type": "stream",
     "text": [
      "{'episode': 349, 'episode_length': 32, 'episode_return': 15.0}\n"
     ]
    },
    {
     "data": {
      "text/html": [
       "<b>Environment (2-back):</b><br /><pre><b>Stimuli:</b> 1100441302325135315335233031130</pre><pre><b>Actions:</b> MMM....M.M.M....MMMM...M..M..M.</pre>"
      ],
      "text/plain": [
       "<IPython.core.display.HTML object>"
      ]
     },
     "metadata": {
      "tags": []
     },
     "output_type": "display_data"
    },
    {
     "name": "stdout",
     "output_type": "stream",
     "text": [
      "{'episode': 350, 'episode_length': 32, 'episode_return': 13.0}\n"
     ]
    },
    {
     "data": {
      "text/html": [
       "<b>Environment (2-back):</b><br /><pre><b>Stimuli:</b> 1054443212421205132054201000425</pre><pre><b>Actions:</b> ...M...M.M...M.M..M.M.MM.MM..M.</pre>"
      ],
      "text/plain": [
       "<IPython.core.display.HTML object>"
      ]
     },
     "metadata": {
      "tags": []
     },
     "output_type": "display_data"
    },
    {
     "name": "stdout",
     "output_type": "stream",
     "text": [
      "{'episode': 351, 'episode_length': 32, 'episode_return': 5.0}\n"
     ]
    },
    {
     "data": {
      "text/html": [
       "<b>Environment (2-back):</b><br /><pre><b>Stimuli:</b> 1235440341231205055540223150252</pre><pre><b>Actions:</b> M.M...MMM.M..MMM.M..MM......M.M</pre>"
      ],
      "text/plain": [
       "<IPython.core.display.HTML object>"
      ]
     },
     "metadata": {
      "tags": []
     },
     "output_type": "display_data"
    },
    {
     "name": "stdout",
     "output_type": "stream",
     "text": [
      "{'episode': 352, 'episode_length': 32, 'episode_return': 3.0}\n"
     ]
    },
    {
     "data": {
      "text/html": [
       "<b>Environment (2-back):</b><br /><pre><b>Stimuli:</b> 4105114552214544515314354552441</pre><pre><b>Actions:</b> MM......MM..M.MM.MM.....M..M..M</pre>"
      ],
      "text/plain": [
       "<IPython.core.display.HTML object>"
      ]
     },
     "metadata": {
      "tags": []
     },
     "output_type": "display_data"
    },
    {
     "name": "stdout",
     "output_type": "stream",
     "text": [
      "{'episode': 353, 'episode_length': 32, 'episode_return': 11.0}\n"
     ]
    },
    {
     "data": {
      "text/html": [
       "<b>Environment (2-back):</b><br /><pre><b>Stimuli:</b> 0420050554442353504520542520500</pre><pre><b>Actions:</b> .....MMMMMM..MMMM....MMMM..M.MM</pre>"
      ],
      "text/plain": [
       "<IPython.core.display.HTML object>"
      ]
     },
     "metadata": {
      "tags": []
     },
     "output_type": "display_data"
    },
    {
     "name": "stdout",
     "output_type": "stream",
     "text": [
      "{'episode': 354, 'episode_length': 32, 'episode_return': 1.0}\n"
     ]
    },
    {
     "data": {
      "text/html": [
       "<b>Environment (2-back):</b><br /><pre><b>Stimuli:</b> 3341055303422455214301323143432</pre><pre><b>Actions:</b> .MM...MM..MMM..M..M....MMM....M</pre>"
      ],
      "text/plain": [
       "<IPython.core.display.HTML object>"
      ]
     },
     "metadata": {
      "tags": []
     },
     "output_type": "display_data"
    },
    {
     "name": "stdout",
     "output_type": "stream",
     "text": [
      "{'episode': 355, 'episode_length': 32, 'episode_return': 1.0}\n"
     ]
    },
    {
     "data": {
      "text/html": [
       "<b>Environment (2-back):</b><br /><pre><b>Stimuli:</b> 3103321233004253001021513111114</pre><pre><b>Actions:</b> M..MMM..M..M.MMM.MMMM..MM.M..MM</pre>"
      ],
      "text/plain": [
       "<IPython.core.display.HTML object>"
      ]
     },
     "metadata": {
      "tags": []
     },
     "output_type": "display_data"
    },
    {
     "name": "stdout",
     "output_type": "stream",
     "text": [
      "{'episode': 356, 'episode_length': 32, 'episode_return': -7.0}\n"
     ]
    },
    {
     "data": {
      "text/html": [
       "<b>Environment (2-back):</b><br /><pre><b>Stimuli:</b> 3200235231145411212532344032545</pre><pre><b>Actions:</b> MM.M.M....M.MMMMM...MMMM.M...M.</pre>"
      ],
      "text/plain": [
       "<IPython.core.display.HTML object>"
      ]
     },
     "metadata": {
      "tags": []
     },
     "output_type": "display_data"
    },
    {
     "name": "stdout",
     "output_type": "stream",
     "text": [
      "{'episode': 357, 'episode_length': 32, 'episode_return': -1.0}\n"
     ]
    },
    {
     "data": {
      "text/html": [
       "<b>Environment (2-back):</b><br /><pre><b>Stimuli:</b> 0142551325214433223045322353453</pre><pre><b>Actions:</b> M.M.M..M..M.MMM...MM.MM.MM..MM.</pre>"
      ],
      "text/plain": [
       "<IPython.core.display.HTML object>"
      ]
     },
     "metadata": {
      "tags": []
     },
     "output_type": "display_data"
    },
    {
     "name": "stdout",
     "output_type": "stream",
     "text": [
      "{'episode': 358, 'episode_length': 32, 'episode_return': -1.0}\n"
     ]
    },
    {
     "data": {
      "text/html": [
       "<b>Environment (2-back):</b><br /><pre><b>Stimuli:</b> 0014103202135512215552244250031</pre><pre><b>Actions:</b> ..MMM..MMMM..M.MM...MMM.MMM.MM.</pre>"
      ],
      "text/plain": [
       "<IPython.core.display.HTML object>"
      ]
     },
     "metadata": {
      "tags": []
     },
     "output_type": "display_data"
    },
    {
     "name": "stdout",
     "output_type": "stream",
     "text": [
      "{'episode': 359, 'episode_length': 32, 'episode_return': 1.0}\n"
     ]
    },
    {
     "data": {
      "text/html": [
       "<b>Environment (2-back):</b><br /><pre><b>Stimuli:</b> 2550322121150321022322015333010</pre><pre><b>Actions:</b> .M.MMM...M.MM..MM.M..MM..MMMM..</pre>"
      ],
      "text/plain": [
       "<IPython.core.display.HTML object>"
      ]
     },
     "metadata": {
      "tags": []
     },
     "output_type": "display_data"
    },
    {
     "name": "stdout",
     "output_type": "stream",
     "text": [
      "{'episode': 360, 'episode_length': 32, 'episode_return': -1.0}\n"
     ]
    },
    {
     "data": {
      "text/html": [
       "<b>Environment (2-back):</b><br /><pre><b>Stimuli:</b> 5044225353033204435204044013445</pre><pre><b>Actions:</b> ....M..M..M.MMMMM..M..M...MM.MM</pre>"
      ],
      "text/plain": [
       "<IPython.core.display.HTML object>"
      ]
     },
     "metadata": {
      "tags": []
     },
     "output_type": "display_data"
    },
    {
     "name": "stdout",
     "output_type": "stream",
     "text": [
      "{'episode': 361, 'episode_length': 32, 'episode_return': -5.0}\n"
     ]
    },
    {
     "data": {
      "text/html": [
       "<b>Environment (2-back):</b><br /><pre><b>Stimuli:</b> 4513354313131252142204150441454</pre><pre><b>Actions:</b> MM.M...MMM.M....M.M.MM....MM..M</pre>"
      ],
      "text/plain": [
       "<IPython.core.display.HTML object>"
      ]
     },
     "metadata": {
      "tags": []
     },
     "output_type": "display_data"
    },
    {
     "name": "stdout",
     "output_type": "stream",
     "text": [
      "{'episode': 362, 'episode_length': 32, 'episode_return': 3.0}\n"
     ]
    },
    {
     "data": {
      "text/html": [
       "<b>Environment (2-back):</b><br /><pre><b>Stimuli:</b> 4315245420032255402451343440200</pre><pre><b>Actions:</b> .MM..MM..M.M.MM.M...MM....M.M..</pre>"
      ],
      "text/plain": [
       "<IPython.core.display.HTML object>"
      ]
     },
     "metadata": {
      "tags": []
     },
     "output_type": "display_data"
    },
    {
     "name": "stdout",
     "output_type": "stream",
     "text": [
      "{'episode': 363, 'episode_length': 32, 'episode_return': -3.0}\n"
     ]
    },
    {
     "data": {
      "text/html": [
       "<b>Environment (2-back):</b><br /><pre><b>Stimuli:</b> 4215441430340530133010422330042</pre><pre><b>Actions:</b> .M.M........M..M.M.M...M.M...M.</pre>"
      ],
      "text/plain": [
       "<IPython.core.display.HTML object>"
      ]
     },
     "metadata": {
      "tags": []
     },
     "output_type": "display_data"
    },
    {
     "name": "stdout",
     "output_type": "stream",
     "text": [
      "{'episode': 364, 'episode_length': 32, 'episode_return': 9.0}\n"
     ]
    },
    {
     "data": {
      "text/html": [
       "<b>Environment (2-back):</b><br /><pre><b>Stimuli:</b> 0221415341353040122200034442420</pre><pre><b>Actions:</b> M..MM...MMMMM.M...M..M...M..M.M</pre>"
      ],
      "text/plain": [
       "<IPython.core.display.HTML object>"
      ]
     },
     "metadata": {
      "tags": []
     },
     "output_type": "display_data"
    },
    {
     "name": "stdout",
     "output_type": "stream",
     "text": [
      "{'episode': 365, 'episode_length': 32, 'episode_return': -3.0}\n"
     ]
    },
    {
     "data": {
      "text/html": [
       "<b>Environment (2-back):</b><br /><pre><b>Stimuli:</b> 5241400132301215120442554103124</pre><pre><b>Actions:</b> M..M..MMM.MM.M..MMM..M...M.M.M.</pre>"
      ],
      "text/plain": [
       "<IPython.core.display.HTML object>"
      ]
     },
     "metadata": {
      "tags": []
     },
     "output_type": "display_data"
    },
    {
     "name": "stdout",
     "output_type": "stream",
     "text": [
      "{'episode': 366, 'episode_length': 32, 'episode_return': 1.0}\n"
     ]
    },
    {
     "data": {
      "text/html": [
       "<b>Environment (2-back):</b><br /><pre><b>Stimuli:</b> 0214105031000341313220405500145</pre><pre><b>Actions:</b> MM.M....M..MM.MMM..M.M.MMMM.M.M</pre>"
      ],
      "text/plain": [
       "<IPython.core.display.HTML object>"
      ]
     },
     "metadata": {
      "tags": []
     },
     "output_type": "display_data"
    },
    {
     "name": "stdout",
     "output_type": "stream",
     "text": [
      "{'episode': 367, 'episode_length': 32, 'episode_return': -7.0}\n"
     ]
    },
    {
     "data": {
      "text/html": [
       "<b>Environment (2-back):</b><br /><pre><b>Stimuli:</b> 2545033444521120211401525100120</pre><pre><b>Actions:</b> M.MM..M..M..MM.MM....M.M..M..M.</pre>"
      ],
      "text/plain": [
       "<IPython.core.display.HTML object>"
      ]
     },
     "metadata": {
      "tags": []
     },
     "output_type": "display_data"
    },
    {
     "name": "stdout",
     "output_type": "stream",
     "text": [
      "{'episode': 368, 'episode_length': 32, 'episode_return': 9.0}\n"
     ]
    },
    {
     "data": {
      "text/html": [
       "<b>Environment (2-back):</b><br /><pre><b>Stimuli:</b> 3100042334341530235332452145543</pre><pre><b>Actions:</b> ...M.MM.MM...M.M..MMMMMM.M.MM.M</pre>"
      ],
      "text/plain": [
       "<IPython.core.display.HTML object>"
      ]
     },
     "metadata": {
      "tags": []
     },
     "output_type": "display_data"
    },
    {
     "name": "stdout",
     "output_type": "stream",
     "text": [
      "{'episode': 369, 'episode_length': 32, 'episode_return': -9.0}\n"
     ]
    },
    {
     "data": {
      "text/html": [
       "<b>Environment (2-back):</b><br /><pre><b>Stimuli:</b> 1031512321024042004004234230430</pre><pre><b>Actions:</b> M..M..MMMM...MM.MM.MMM.MMMMM...</pre>"
      ],
      "text/plain": [
       "<IPython.core.display.HTML object>"
      ]
     },
     "metadata": {
      "tags": []
     },
     "output_type": "display_data"
    },
    {
     "name": "stdout",
     "output_type": "stream",
     "text": [
      "{'episode': 370, 'episode_length': 32, 'episode_return': -1.0}\n"
     ]
    },
    {
     "data": {
      "text/html": [
       "<b>Environment (2-back):</b><br /><pre><b>Stimuli:</b> 4415043330420450203024315521505</pre><pre><b>Actions:</b> MMMM.M.M.MMM.M.M..MM......MM.M.</pre>"
      ],
      "text/plain": [
       "<IPython.core.display.HTML object>"
      ]
     },
     "metadata": {
      "tags": []
     },
     "output_type": "display_data"
    },
    {
     "name": "stdout",
     "output_type": "stream",
     "text": [
      "{'episode': 371, 'episode_length': 32, 'episode_return': -5.0}\n"
     ]
    },
    {
     "data": {
      "text/html": [
       "<b>Environment (2-back):</b><br /><pre><b>Stimuli:</b> 4140240505143100232055315445431</pre><pre><b>Actions:</b> MM.MMM..M.....M.M..MM.MMM.....M</pre>"
      ],
      "text/plain": [
       "<IPython.core.display.HTML object>"
      ]
     },
     "metadata": {
      "tags": []
     },
     "output_type": "display_data"
    },
    {
     "name": "stdout",
     "output_type": "stream",
     "text": [
      "{'episode': 372, 'episode_length': 32, 'episode_return': -3.0}\n"
     ]
    },
    {
     "data": {
      "text/html": [
       "<b>Environment (2-back):</b><br /><pre><b>Stimuli:</b> 2244531012545243151240251044024</pre><pre><b>Actions:</b> M..MMM.MM..MMMM.M..MM.....MM.M.</pre>"
      ],
      "text/plain": [
       "<IPython.core.display.HTML object>"
      ]
     },
     "metadata": {
      "tags": []
     },
     "output_type": "display_data"
    },
    {
     "name": "stdout",
     "output_type": "stream",
     "text": [
      "{'episode': 373, 'episode_length': 32, 'episode_return': 1.0}\n"
     ]
    },
    {
     "data": {
      "text/html": [
       "<b>Environment (2-back):</b><br /><pre><b>Stimuli:</b> 3105323340005444445121050533400</pre><pre><b>Actions:</b> .MM.MM..MMM....M..MM..M.M.M.MMM</pre>"
      ],
      "text/plain": [
       "<IPython.core.display.HTML object>"
      ]
     },
     "metadata": {
      "tags": []
     },
     "output_type": "display_data"
    },
    {
     "name": "stdout",
     "output_type": "stream",
     "text": [
      "{'episode': 374, 'episode_length': 32, 'episode_return': -9.0}\n"
     ]
    },
    {
     "data": {
      "text/html": [
       "<b>Environment (2-back):</b><br /><pre><b>Stimuli:</b> 2144532353350555555501140025155</pre><pre><b>Actions:</b> .M....MMM.M......M..MM..MMMM.MM</pre>"
      ],
      "text/plain": [
       "<IPython.core.display.HTML object>"
      ]
     },
     "metadata": {
      "tags": []
     },
     "output_type": "display_data"
    },
    {
     "name": "stdout",
     "output_type": "stream",
     "text": [
      "{'episode': 375, 'episode_length': 32, 'episode_return': -3.0}\n"
     ]
    },
    {
     "data": {
      "text/html": [
       "<b>Environment (2-back):</b><br /><pre><b>Stimuli:</b> 1310022105053003520133130540054</pre><pre><b>Actions:</b> ..M.......MM.M..M.MMMM.M.MM....</pre>"
      ],
      "text/plain": [
       "<IPython.core.display.HTML object>"
      ]
     },
     "metadata": {
      "tags": []
     },
     "output_type": "display_data"
    },
    {
     "name": "stdout",
     "output_type": "stream",
     "text": [
      "{'episode': 376, 'episode_length': 32, 'episode_return': 15.0}\n"
     ]
    },
    {
     "data": {
      "text/html": [
       "<b>Environment (2-back):</b><br /><pre><b>Stimuli:</b> 4345251444303252345114110502224</pre><pre><b>Actions:</b> .M.MM.MM.MM.M..MMMM.MM..M.MM...</pre>"
      ],
      "text/plain": [
       "<IPython.core.display.HTML object>"
      ]
     },
     "metadata": {
      "tags": []
     },
     "output_type": "display_data"
    },
    {
     "name": "stdout",
     "output_type": "stream",
     "text": [
      "{'episode': 377, 'episode_length': 32, 'episode_return': -5.0}\n"
     ]
    },
    {
     "data": {
      "text/html": [
       "<b>Environment (2-back):</b><br /><pre><b>Stimuli:</b> 0253343040321244140202150321241</pre><pre><b>Actions:</b> M.M...MMMM...M...MM.M..M.MM....</pre>"
      ],
      "text/plain": [
       "<IPython.core.display.HTML object>"
      ]
     },
     "metadata": {
      "tags": []
     },
     "output_type": "display_data"
    },
    {
     "name": "stdout",
     "output_type": "stream",
     "text": [
      "{'episode': 378, 'episode_length': 32, 'episode_return': 11.0}\n"
     ]
    },
    {
     "data": {
      "text/html": [
       "<b>Environment (2-back):</b><br /><pre><b>Stimuli:</b> 2414233130343500105235420214030</pre><pre><b>Actions:</b> MMMMM...MM......M.M.MM....M.MM.</pre>"
      ],
      "text/plain": [
       "<IPython.core.display.HTML object>"
      ]
     },
     "metadata": {
      "tags": []
     },
     "output_type": "display_data"
    },
    {
     "name": "stdout",
     "output_type": "stream",
     "text": [
      "{'episode': 379, 'episode_length': 32, 'episode_return': -1.0}\n"
     ]
    },
    {
     "data": {
      "text/html": [
       "<b>Environment (2-back):</b><br /><pre><b>Stimuli:</b> 0434015344230311323032101035222</pre><pre><b>Actions:</b> .M.M.MMM...MMM..MM..M.M.MMMM.M.</pre>"
      ],
      "text/plain": [
       "<IPython.core.display.HTML object>"
      ]
     },
     "metadata": {
      "tags": []
     },
     "output_type": "display_data"
    },
    {
     "name": "stdout",
     "output_type": "stream",
     "text": [
      "{'episode': 380, 'episode_length': 32, 'episode_return': 3.0}\n"
     ]
    },
    {
     "data": {
      "text/html": [
       "<b>Environment (2-back):</b><br /><pre><b>Stimuli:</b> 0352034132251231453345551204400</pre><pre><b>Actions:</b> .MMMM.MM......M.MM...MMM...MM..</pre>"
      ],
      "text/plain": [
       "<IPython.core.display.HTML object>"
      ]
     },
     "metadata": {
      "tags": []
     },
     "output_type": "display_data"
    },
    {
     "name": "stdout",
     "output_type": "stream",
     "text": [
      "{'episode': 381, 'episode_length': 32, 'episode_return': 3.0}\n"
     ]
    },
    {
     "data": {
      "text/html": [
       "<b>Environment (2-back):</b><br /><pre><b>Stimuli:</b> 3314530053142354435253012533424</pre><pre><b>Actions:</b> M..M..MM..MMMMM..MM.MMMM.MMM...</pre>"
      ],
      "text/plain": [
       "<IPython.core.display.HTML object>"
      ]
     },
     "metadata": {
      "tags": []
     },
     "output_type": "display_data"
    },
    {
     "name": "stdout",
     "output_type": "stream",
     "text": [
      "{'episode': 382, 'episode_length': 32, 'episode_return': -5.0}\n"
     ]
    },
    {
     "data": {
      "text/html": [
       "<b>Environment (2-back):</b><br /><pre><b>Stimuli:</b> 1143244255004542442445322023553</pre><pre><b>Actions:</b> ..M.MM..........M.MM.MM.MMMM.M.</pre>"
      ],
      "text/plain": [
       "<IPython.core.display.HTML object>"
      ]
     },
     "metadata": {
      "tags": []
     },
     "output_type": "display_data"
    },
    {
     "name": "stdout",
     "output_type": "stream",
     "text": [
      "{'episode': 383, 'episode_length': 32, 'episode_return': 9.0}\n"
     ]
    },
    {
     "data": {
      "text/html": [
       "<b>Environment (2-back):</b><br /><pre><b>Stimuli:</b> 4010024141145510001031552444352</pre><pre><b>Actions:</b> M....M.M...MM.MMM...M..MM..M...</pre>"
      ],
      "text/plain": [
       "<IPython.core.display.HTML object>"
      ]
     },
     "metadata": {
      "tags": []
     },
     "output_type": "display_data"
    },
    {
     "name": "stdout",
     "output_type": "stream",
     "text": [
      "{'episode': 384, 'episode_length': 32, 'episode_return': -1.0}\n"
     ]
    },
    {
     "data": {
      "text/html": [
       "<b>Environment (2-back):</b><br /><pre><b>Stimuli:</b> 2315522421325134320152332022552</pre><pre><b>Actions:</b> .MM.M..M.MM..M.MM.M...MM..MMMMM</pre>"
      ],
      "text/plain": [
       "<IPython.core.display.HTML object>"
      ]
     },
     "metadata": {
      "tags": []
     },
     "output_type": "display_data"
    },
    {
     "name": "stdout",
     "output_type": "stream",
     "text": [
      "{'episode': 385, 'episode_length': 32, 'episode_return': -3.0}\n"
     ]
    },
    {
     "data": {
      "text/html": [
       "<b>Environment (2-back):</b><br /><pre><b>Stimuli:</b> 3200201131551522521421303551242</pre><pre><b>Actions:</b> ...M......MM...MMM.MMM..M.M.MM.</pre>"
      ],
      "text/plain": [
       "<IPython.core.display.HTML object>"
      ]
     },
     "metadata": {
      "tags": []
     },
     "output_type": "display_data"
    },
    {
     "name": "stdout",
     "output_type": "stream",
     "text": [
      "{'episode': 386, 'episode_length': 32, 'episode_return': 1.0}\n"
     ]
    },
    {
     "data": {
      "text/html": [
       "<b>Environment (2-back):</b><br /><pre><b>Stimuli:</b> 0425241015131232310501111201141</pre><pre><b>Actions:</b> M.MM...M..M..MM...M...MMM..MM.M</pre>"
      ],
      "text/plain": [
       "<IPython.core.display.HTML object>"
      ]
     },
     "metadata": {
      "tags": []
     },
     "output_type": "display_data"
    },
    {
     "name": "stdout",
     "output_type": "stream",
     "text": [
      "{'episode': 387, 'episode_length': 32, 'episode_return': -1.0}\n"
     ]
    },
    {
     "data": {
      "text/html": [
       "<b>Environment (2-back):</b><br /><pre><b>Stimuli:</b> 1222420004311112351032042303201</pre><pre><b>Actions:</b> ........M...MMM..M.....M.M..M.M</pre>"
      ],
      "text/plain": [
       "<IPython.core.display.HTML object>"
      ]
     },
     "metadata": {
      "tags": []
     },
     "output_type": "display_data"
    },
    {
     "name": "stdout",
     "output_type": "stream",
     "text": [
      "{'episode': 388, 'episode_length': 32, 'episode_return': 11.0}\n"
     ]
    },
    {
     "data": {
      "text/html": [
       "<b>Environment (2-back):</b><br /><pre><b>Stimuli:</b> 0341253341250552524332133522232</pre><pre><b>Actions:</b> M.M...MM.M..MM...MM..M.MM...M.M</pre>"
      ],
      "text/plain": [
       "<IPython.core.display.HTML object>"
      ]
     },
     "metadata": {
      "tags": []
     },
     "output_type": "display_data"
    },
    {
     "name": "stdout",
     "output_type": "stream",
     "text": [
      "{'episode': 389, 'episode_length': 32, 'episode_return': 9.0}\n"
     ]
    },
    {
     "data": {
      "text/html": [
       "<b>Environment (2-back):</b><br /><pre><b>Stimuli:</b> 3443033122543310103205144350333</pre><pre><b>Actions:</b> ...MMM.MM.MM..MM.M.M..M..M..MMM</pre>"
      ],
      "text/plain": [
       "<IPython.core.display.HTML object>"
      ]
     },
     "metadata": {
      "tags": []
     },
     "output_type": "display_data"
    },
    {
     "name": "stdout",
     "output_type": "stream",
     "text": [
      "{'episode': 390, 'episode_length': 32, 'episode_return': 1.0}\n"
     ]
    },
    {
     "data": {
      "text/html": [
       "<b>Environment (2-back):</b><br /><pre><b>Stimuli:</b> 4151040525154214302125225123504</pre><pre><b>Actions:</b> ....MM....M..MMMMMMMM...MMM.M.M</pre>"
      ],
      "text/plain": [
       "<IPython.core.display.HTML object>"
      ]
     },
     "metadata": {
      "tags": []
     },
     "output_type": "display_data"
    },
    {
     "name": "stdout",
     "output_type": "stream",
     "text": [
      "{'episode': 391, 'episode_length': 32, 'episode_return': -11.0}\n"
     ]
    },
    {
     "data": {
      "text/html": [
       "<b>Environment (2-back):</b><br /><pre><b>Stimuli:</b> 5050544405055001013244252011101</pre><pre><b>Actions:</b> MMMMM.M....M..M..M.MMM...MM.M.M</pre>"
      ],
      "text/plain": [
       "<IPython.core.display.HTML object>"
      ]
     },
     "metadata": {
      "tags": []
     },
     "output_type": "display_data"
    },
    {
     "name": "stdout",
     "output_type": "stream",
     "text": [
      "{'episode': 392, 'episode_length': 32, 'episode_return': 5.0}\n"
     ]
    },
    {
     "data": {
      "text/html": [
       "<b>Environment (2-back):</b><br /><pre><b>Stimuli:</b> 2535140405311115430433223122422</pre><pre><b>Actions:</b> .M.MM..M..M...M..M..MM..M.....M</pre>"
      ],
      "text/plain": [
       "<IPython.core.display.HTML object>"
      ]
     },
     "metadata": {
      "tags": []
     },
     "output_type": "display_data"
    },
    {
     "name": "stdout",
     "output_type": "stream",
     "text": [
      "{'episode': 393, 'episode_length': 32, 'episode_return': 7.0}\n"
     ]
    },
    {
     "data": {
      "text/html": [
       "<b>Environment (2-back):</b><br /><pre><b>Stimuli:</b> 1243504430522241233110430550504</pre><pre><b>Actions:</b> ..MM.M..M...MMMMM.MMM..MMM.MMMM</pre>"
      ],
      "text/plain": [
       "<IPython.core.display.HTML object>"
      ]
     },
     "metadata": {
      "tags": []
     },
     "output_type": "display_data"
    },
    {
     "name": "stdout",
     "output_type": "stream",
     "text": [
      "{'episode': 394, 'episode_length': 32, 'episode_return': -1.0}\n"
     ]
    },
    {
     "data": {
      "text/html": [
       "<b>Environment (2-back):</b><br /><pre><b>Stimuli:</b> 0410052024224500520500033540034</pre><pre><b>Actions:</b> MM..M.MMM.....M.M.MMM..MM...M..</pre>"
      ],
      "text/plain": [
       "<IPython.core.display.HTML object>"
      ]
     },
     "metadata": {
      "tags": []
     },
     "output_type": "display_data"
    },
    {
     "name": "stdout",
     "output_type": "stream",
     "text": [
      "{'episode': 395, 'episode_length': 32, 'episode_return': 3.0}\n"
     ]
    },
    {
     "data": {
      "text/html": [
       "<b>Environment (2-back):</b><br /><pre><b>Stimuli:</b> 4454545302332004443241112050242</pre><pre><b>Actions:</b> MMM..M...M.MM.M.M.M...MM...MM.M</pre>"
      ],
      "text/plain": [
       "<IPython.core.display.HTML object>"
      ]
     },
     "metadata": {
      "tags": []
     },
     "output_type": "display_data"
    },
    {
     "name": "stdout",
     "output_type": "stream",
     "text": [
      "{'episode': 396, 'episode_length': 32, 'episode_return': 3.0}\n"
     ]
    },
    {
     "data": {
      "text/html": [
       "<b>Environment (2-back):</b><br /><pre><b>Stimuli:</b> 0201553102121131312423255333202</pre><pre><b>Actions:</b> MM.M..M.MMM.M.M..MM.M.M.M.MMMM.</pre>"
      ],
      "text/plain": [
       "<IPython.core.display.HTML object>"
      ]
     },
     "metadata": {
      "tags": []
     },
     "output_type": "display_data"
    },
    {
     "name": "stdout",
     "output_type": "stream",
     "text": [
      "{'episode': 397, 'episode_length': 32, 'episode_return': -5.0}\n"
     ]
    },
    {
     "data": {
      "text/html": [
       "<b>Environment (2-back):</b><br /><pre><b>Stimuli:</b> 4233225440553524005221125445540</pre><pre><b>Actions:</b> MM....M.MM..MMM..MMM...M.MM.M..</pre>"
      ],
      "text/plain": [
       "<IPython.core.display.HTML object>"
      ]
     },
     "metadata": {
      "tags": []
     },
     "output_type": "display_data"
    },
    {
     "name": "stdout",
     "output_type": "stream",
     "text": [
      "{'episode': 398, 'episode_length': 32, 'episode_return': 3.0}\n"
     ]
    },
    {
     "data": {
      "text/html": [
       "<b>Environment (2-back):</b><br /><pre><b>Stimuli:</b> 5020105104255051220435522332445</pre><pre><b>Actions:</b> MMM...MM.M....MM.M..M.M...MM.M.</pre>"
      ],
      "text/plain": [
       "<IPython.core.display.HTML object>"
      ]
     },
     "metadata": {
      "tags": []
     },
     "output_type": "display_data"
    },
    {
     "name": "stdout",
     "output_type": "stream",
     "text": [
      "{'episode': 399, 'episode_length': 32, 'episode_return': 3.0}\n"
     ]
    },
    {
     "data": {
      "text/html": [
       "<b>Environment (2-back):</b><br /><pre><b>Stimuli:</b> 3504112422554452251110234420344</pre><pre><b>Actions:</b> M.M..M.M.M.MMMM.M.M.M.....MM..M</pre>"
      ],
      "text/plain": [
       "<IPython.core.display.HTML object>"
      ]
     },
     "metadata": {
      "tags": []
     },
     "output_type": "display_data"
    },
    {
     "name": "stdout",
     "output_type": "stream",
     "text": [
      "{'episode': 400, 'episode_length': 32, 'episode_return': 1.0}\n"
     ]
    },
    {
     "data": {
      "text/html": [
       "<b>Environment (2-back):</b><br /><pre><b>Stimuli:</b> 3530335152134215501103352411130</pre><pre><b>Actions:</b> MMM.MMMMM..M.M.MMMMM..MM.M.....</pre>"
      ],
      "text/plain": [
       "<IPython.core.display.HTML object>"
      ]
     },
     "metadata": {
      "tags": []
     },
     "output_type": "display_data"
    },
    {
     "name": "stdout",
     "output_type": "stream",
     "text": [
      "{'episode': 401, 'episode_length': 32, 'episode_return': -1.0}\n"
     ]
    },
    {
     "data": {
      "text/html": [
       "<b>Environment (2-back):</b><br /><pre><b>Stimuli:</b> 5322255431213031402124210045552</pre><pre><b>Actions:</b> ....M...M.M.MMMM.....M.....MMMM</pre>"
      ],
      "text/plain": [
       "<IPython.core.display.HTML object>"
      ]
     },
     "metadata": {
      "tags": []
     },
     "output_type": "display_data"
    },
    {
     "name": "stdout",
     "output_type": "stream",
     "text": [
      "{'episode': 402, 'episode_length': 32, 'episode_return': 7.0}\n"
     ]
    },
    {
     "data": {
      "text/html": [
       "<b>Environment (2-back):</b><br /><pre><b>Stimuli:</b> 2133500254534301234535453422014</pre><pre><b>Actions:</b> M........M.MM.M.M..M..M.M..MM.M</pre>"
      ],
      "text/plain": [
       "<IPython.core.display.HTML object>"
      ]
     },
     "metadata": {
      "tags": []
     },
     "output_type": "display_data"
    },
    {
     "name": "stdout",
     "output_type": "stream",
     "text": [
      "{'episode': 403, 'episode_length': 32, 'episode_return': -3.0}\n"
     ]
    },
    {
     "data": {
      "text/html": [
       "<b>Environment (2-back):</b><br /><pre><b>Stimuli:</b> 5451552422155401251414312541452</pre><pre><b>Actions:</b> .M.MMMMM.M.M.M...M..MMMM...MM..</pre>"
      ],
      "text/plain": [
       "<IPython.core.display.HTML object>"
      ]
     },
     "metadata": {
      "tags": []
     },
     "output_type": "display_data"
    },
    {
     "name": "stdout",
     "output_type": "stream",
     "text": [
      "{'episode': 404, 'episode_length': 32, 'episode_return': 3.0}\n"
     ]
    },
    {
     "data": {
      "text/html": [
       "<b>Environment (2-back):</b><br /><pre><b>Stimuli:</b> 5102440130531124152453122051241</pre><pre><b>Actions:</b> MM.M..MMM.M..M.MMM.M...M....MM.</pre>"
      ],
      "text/plain": [
       "<IPython.core.display.HTML object>"
      ]
     },
     "metadata": {
      "tags": []
     },
     "output_type": "display_data"
    },
    {
     "name": "stdout",
     "output_type": "stream",
     "text": [
      "{'episode': 405, 'episode_length': 32, 'episode_return': 1.0}\n"
     ]
    },
    {
     "data": {
      "text/html": [
       "<b>Environment (2-back):</b><br /><pre><b>Stimuli:</b> 5332204222413121130202255000523</pre><pre><b>Actions:</b> M.MMMMMMM.M.MM..MM.MM.MMM.MM...</pre>"
      ],
      "text/plain": [
       "<IPython.core.display.HTML object>"
      ]
     },
     "metadata": {
      "tags": []
     },
     "output_type": "display_data"
    },
    {
     "name": "stdout",
     "output_type": "stream",
     "text": [
      "{'episode': 406, 'episode_length': 32, 'episode_return': -9.0}\n"
     ]
    },
    {
     "data": {
      "text/html": [
       "<b>Environment (2-back):</b><br /><pre><b>Stimuli:</b> 1115111421020013513021433522351</pre><pre><b>Actions:</b> MM.M.M.MM.M.M.MMMMM.M......M...</pre>"
      ],
      "text/plain": [
       "<IPython.core.display.HTML object>"
      ]
     },
     "metadata": {
      "tags": []
     },
     "output_type": "display_data"
    },
    {
     "name": "stdout",
     "output_type": "stream",
     "text": [
      "{'episode': 407, 'episode_length': 32, 'episode_return': -1.0}\n"
     ]
    },
    {
     "data": {
      "text/html": [
       "<b>Environment (2-back):</b><br /><pre><b>Stimuli:</b> 0550034405235344412545115412131</pre><pre><b>Actions:</b> MM...M.MMMMMMMMMM.M.M...M...MMM</pre>"
      ],
      "text/plain": [
       "<IPython.core.display.HTML object>"
      ]
     },
     "metadata": {
      "tags": []
     },
     "output_type": "display_data"
    },
    {
     "name": "stdout",
     "output_type": "stream",
     "text": [
      "{'episode': 408, 'episode_length': 32, 'episode_return': -1.0}\n"
     ]
    },
    {
     "data": {
      "text/html": [
       "<b>Environment (2-back):</b><br /><pre><b>Stimuli:</b> 1222330442230135221412025334521</pre><pre><b>Actions:</b> .M...M.MM.M.MMMM.MM.M.M...MMMM.</pre>"
      ],
      "text/plain": [
       "<IPython.core.display.HTML object>"
      ]
     },
     "metadata": {
      "tags": []
     },
     "output_type": "display_data"
    },
    {
     "name": "stdout",
     "output_type": "stream",
     "text": [
      "{'episode': 409, 'episode_length': 32, 'episode_return': -7.0}\n"
     ]
    },
    {
     "data": {
      "text/html": [
       "<b>Environment (2-back):</b><br /><pre><b>Stimuli:</b> 5013154350341031150005011524213</pre><pre><b>Actions:</b> MMMM.M..M..M.M..MM.MMM.M.M....M</pre>"
      ],
      "text/plain": [
       "<IPython.core.display.HTML object>"
      ]
     },
     "metadata": {
      "tags": []
     },
     "output_type": "display_data"
    },
    {
     "name": "stdout",
     "output_type": "stream",
     "text": [
      "{'episode': 410, 'episode_length': 32, 'episode_return': -5.0}\n"
     ]
    },
    {
     "data": {
      "text/html": [
       "<b>Environment (2-back):</b><br /><pre><b>Stimuli:</b> 2021233252442301523413411523441</pre><pre><b>Actions:</b> .M..M..M.MM...MM.M.MM.MMM..MMM.</pre>"
      ],
      "text/plain": [
       "<IPython.core.display.HTML object>"
      ]
     },
     "metadata": {
      "tags": []
     },
     "output_type": "display_data"
    },
    {
     "name": "stdout",
     "output_type": "stream",
     "text": [
      "{'episode': 411, 'episode_length': 32, 'episode_return': 1.0}\n"
     ]
    },
    {
     "data": {
      "text/html": [
       "<b>Environment (2-back):</b><br /><pre><b>Stimuli:</b> 2232544544504552154421145004530</pre><pre><b>Actions:</b> ..MM..MMM.MMMM.M.MM.M....MM.M..</pre>"
      ],
      "text/plain": [
       "<IPython.core.display.HTML object>"
      ]
     },
     "metadata": {
      "tags": []
     },
     "output_type": "display_data"
    },
    {
     "name": "stdout",
     "output_type": "stream",
     "text": [
      "{'episode': 412, 'episode_length': 32, 'episode_return': 3.0}\n"
     ]
    },
    {
     "data": {
      "text/html": [
       "<b>Environment (2-back):</b><br /><pre><b>Stimuli:</b> 5550451105502155435251013150021</pre><pre><b>Actions:</b> ..M..MMMMMM.MMM.M..M..MMM.M..MM</pre>"
      ],
      "text/plain": [
       "<IPython.core.display.HTML object>"
      ]
     },
     "metadata": {
      "tags": []
     },
     "output_type": "display_data"
    },
    {
     "name": "stdout",
     "output_type": "stream",
     "text": [
      "{'episode': 413, 'episode_length': 32, 'episode_return': -5.0}\n"
     ]
    },
    {
     "data": {
      "text/html": [
       "<b>Environment (2-back):</b><br /><pre><b>Stimuli:</b> 4513433344402530015204351102453</pre><pre><b>Actions:</b> .M..MM.M..MMM..M..MMMM..MMMMMM.</pre>"
      ],
      "text/plain": [
       "<IPython.core.display.HTML object>"
      ]
     },
     "metadata": {
      "tags": []
     },
     "output_type": "display_data"
    },
    {
     "name": "stdout",
     "output_type": "stream",
     "text": [
      "{'episode': 414, 'episode_length': 32, 'episode_return': 1.0}\n"
     ]
    },
    {
     "data": {
      "text/html": [
       "<b>Environment (2-back):</b><br /><pre><b>Stimuli:</b> 4442145352141215020034411151441</pre><pre><b>Actions:</b> .M.M.MM..MM.M...MM.MM.MMMM.M..M</pre>"
      ],
      "text/plain": [
       "<IPython.core.display.HTML object>"
      ]
     },
     "metadata": {
      "tags": []
     },
     "output_type": "display_data"
    },
    {
     "name": "stdout",
     "output_type": "stream",
     "text": [
      "{'episode': 415, 'episode_length': 32, 'episode_return': -5.0}\n"
     ]
    },
    {
     "data": {
      "text/html": [
       "<b>Environment (2-back):</b><br /><pre><b>Stimuli:</b> 2221205340535040321444212002035</pre><pre><b>Actions:</b> MM.MMM..MM.MMMM.M.MM...MM.M...M</pre>"
      ],
      "text/plain": [
       "<IPython.core.display.HTML object>"
      ]
     },
     "metadata": {
      "tags": []
     },
     "output_type": "display_data"
    },
    {
     "name": "stdout",
     "output_type": "stream",
     "text": [
      "{'episode': 416, 'episode_length': 32, 'episode_return': -7.0}\n"
     ]
    },
    {
     "data": {
      "text/html": [
       "<b>Environment (2-back):</b><br /><pre><b>Stimuli:</b> 2030210402203021233030354023311</pre><pre><b>Actions:</b> .M.MM.M.M.M.M.M.M.MMM..M.MMM...</pre>"
      ],
      "text/plain": [
       "<IPython.core.display.HTML object>"
      ]
     },
     "metadata": {
      "tags": []
     },
     "output_type": "display_data"
    },
    {
     "name": "stdout",
     "output_type": "stream",
     "text": [
      "{'episode': 417, 'episode_length': 32, 'episode_return': 3.0}\n"
     ]
    },
    {
     "data": {
      "text/html": [
       "<b>Environment (2-back):</b><br /><pre><b>Stimuli:</b> 2002221040333051545452421150123</pre><pre><b>Actions:</b> M.M.......M.MM..MM..MM..M......</pre>"
      ],
      "text/plain": [
       "<IPython.core.display.HTML object>"
      ]
     },
     "metadata": {
      "tags": []
     },
     "output_type": "display_data"
    },
    {
     "name": "stdout",
     "output_type": "stream",
     "text": [
      "{'episode': 418, 'episode_length': 32, 'episode_return': 7.0}\n"
     ]
    },
    {
     "data": {
      "text/html": [
       "<b>Environment (2-back):</b><br /><pre><b>Stimuli:</b> 4523522423201303400523325323505</pre><pre><b>Actions:</b> MM..MMM....M.M...M....MM..M.MMM</pre>"
      ],
      "text/plain": [
       "<IPython.core.display.HTML object>"
      ]
     },
     "metadata": {
      "tags": []
     },
     "output_type": "display_data"
    },
    {
     "name": "stdout",
     "output_type": "stream",
     "text": [
      "{'episode': 419, 'episode_length': 32, 'episode_return': -3.0}\n"
     ]
    },
    {
     "data": {
      "text/html": [
       "<b>Environment (2-back):</b><br /><pre><b>Stimuli:</b> 4013545300223523403103511431420</pre><pre><b>Actions:</b> MM....M.M.M.M.M..MM.MMM.MM.MMM.</pre>"
      ],
      "text/plain": [
       "<IPython.core.display.HTML object>"
      ]
     },
     "metadata": {
      "tags": []
     },
     "output_type": "display_data"
    },
    {
     "name": "stdout",
     "output_type": "stream",
     "text": [
      "{'episode': 420, 'episode_length': 32, 'episode_return': -1.0}\n"
     ]
    },
    {
     "data": {
      "text/html": [
       "<b>Environment (2-back):</b><br /><pre><b>Stimuli:</b> 1343430014554102224244223523513</pre><pre><b>Actions:</b> .M..M.M.....MM.MMMMM.MM.MMMMMMM</pre>"
      ],
      "text/plain": [
       "<IPython.core.display.HTML object>"
      ]
     },
     "metadata": {
      "tags": []
     },
     "output_type": "display_data"
    },
    {
     "name": "stdout",
     "output_type": "stream",
     "text": [
      "{'episode': 421, 'episode_length': 32, 'episode_return': -7.0}\n"
     ]
    },
    {
     "data": {
      "text/html": [
       "<b>Environment (2-back):</b><br /><pre><b>Stimuli:</b> 5341255023040423224555202131213</pre><pre><b>Actions:</b> ...M..M.MMMM.M.M..MMM..MM.M..M.</pre>"
      ],
      "text/plain": [
       "<IPython.core.display.HTML object>"
      ]
     },
     "metadata": {
      "tags": []
     },
     "output_type": "display_data"
    },
    {
     "name": "stdout",
     "output_type": "stream",
     "text": [
      "{'episode': 422, 'episode_length': 32, 'episode_return': -3.0}\n"
     ]
    },
    {
     "data": {
      "text/html": [
       "<b>Environment (2-back):</b><br /><pre><b>Stimuli:</b> 5245032551451322140555124430234</pre><pre><b>Actions:</b> MMMM..M......M.MM.M.MMMMM.M....</pre>"
      ],
      "text/plain": [
       "<IPython.core.display.HTML object>"
      ]
     },
     "metadata": {
      "tags": []
     },
     "output_type": "display_data"
    },
    {
     "name": "stdout",
     "output_type": "stream",
     "text": [
      "{'episode': 423, 'episode_length': 32, 'episode_return': 3.0}\n"
     ]
    },
    {
     "data": {
      "text/html": [
       "<b>Environment (2-back):</b><br /><pre><b>Stimuli:</b> 5510202511542504032243414205201</pre><pre><b>Actions:</b> .MMM.M...M..MMM.....M......MM.M</pre>"
      ],
      "text/plain": [
       "<IPython.core.display.HTML object>"
      ]
     },
     "metadata": {
      "tags": []
     },
     "output_type": "display_data"
    },
    {
     "name": "stdout",
     "output_type": "stream",
     "text": [
      "{'episode': 424, 'episode_length': 32, 'episode_return': 1.0}\n"
     ]
    },
    {
     "data": {
      "text/html": [
       "<b>Environment (2-back):</b><br /><pre><b>Stimuli:</b> 0405203002020003230525555211555</pre><pre><b>Actions:</b> .M......M....M...M......M.MM.M.</pre>"
      ],
      "text/plain": [
       "<IPython.core.display.HTML object>"
      ]
     },
     "metadata": {
      "tags": []
     },
     "output_type": "display_data"
    },
    {
     "name": "stdout",
     "output_type": "stream",
     "text": [
      "{'episode': 425, 'episode_length': 32, 'episode_return': 1.0}\n"
     ]
    },
    {
     "data": {
      "text/html": [
       "<b>Environment (2-back):</b><br /><pre><b>Stimuli:</b> 3104432525211104241034521033121</pre><pre><b>Actions:</b> M...M..M.M.MMM.M...MMMMM.M...M.</pre>"
      ],
      "text/plain": [
       "<IPython.core.display.HTML object>"
      ]
     },
     "metadata": {
      "tags": []
     },
     "output_type": "display_data"
    },
    {
     "name": "stdout",
     "output_type": "stream",
     "text": [
      "{'episode': 426, 'episode_length': 32, 'episode_return': -3.0}\n"
     ]
    },
    {
     "data": {
      "text/html": [
       "<b>Environment (2-back):</b><br /><pre><b>Stimuli:</b> 1202525535003201013511413300131</pre><pre><b>Actions:</b> .M.MM..MM.M.MMMM....MM.MMMMM.M.</pre>"
      ],
      "text/plain": [
       "<IPython.core.display.HTML object>"
      ]
     },
     "metadata": {
      "tags": []
     },
     "output_type": "display_data"
    },
    {
     "name": "stdout",
     "output_type": "stream",
     "text": [
      "{'episode': 427, 'episode_length': 32, 'episode_return': -13.0}\n"
     ]
    },
    {
     "data": {
      "text/html": [
       "<b>Environment (2-back):</b><br /><pre><b>Stimuli:</b> 3432254403224415200343342552315</pre><pre><b>Actions:</b> M.MM.MMM..M....M......MMMMMMM.M</pre>"
      ],
      "text/plain": [
       "<IPython.core.display.HTML object>"
      ]
     },
     "metadata": {
      "tags": []
     },
     "output_type": "display_data"
    },
    {
     "name": "stdout",
     "output_type": "stream",
     "text": [
      "{'episode': 428, 'episode_length': 32, 'episode_return': -1.0}\n"
     ]
    },
    {
     "data": {
      "text/html": [
       "<b>Environment (2-back):</b><br /><pre><b>Stimuli:</b> 1555455535125035445550535024105</pre><pre><b>Actions:</b> .MMM..M.....M.MMM...MM..M.M....</pre>"
      ],
      "text/plain": [
       "<IPython.core.display.HTML object>"
      ]
     },
     "metadata": {
      "tags": []
     },
     "output_type": "display_data"
    },
    {
     "name": "stdout",
     "output_type": "stream",
     "text": [
      "{'episode': 429, 'episode_length': 32, 'episode_return': 5.0}\n"
     ]
    },
    {
     "data": {
      "text/html": [
       "<b>Environment (2-back):</b><br /><pre><b>Stimuli:</b> 1104315240133034054542441202514</pre><pre><b>Actions:</b> .....MM.......M..M..MM..MMMM...</pre>"
      ],
      "text/plain": [
       "<IPython.core.display.HTML object>"
      ]
     },
     "metadata": {
      "tags": []
     },
     "output_type": "display_data"
    },
    {
     "name": "stdout",
     "output_type": "stream",
     "text": [
      "{'episode': 430, 'episode_length': 32, 'episode_return': 13.0}\n"
     ]
    },
    {
     "data": {
      "text/html": [
       "<b>Environment (2-back):</b><br /><pre><b>Stimuli:</b> 2014340203550003211141240255024</pre><pre><b>Actions:</b> ..M.M.M.....MM.M.M..MM.M.M...MM</pre>"
      ],
      "text/plain": [
       "<IPython.core.display.HTML object>"
      ]
     },
     "metadata": {
      "tags": []
     },
     "output_type": "display_data"
    },
    {
     "name": "stdout",
     "output_type": "stream",
     "text": [
      "{'episode': 431, 'episode_length': 32, 'episode_return': -1.0}\n"
     ]
    },
    {
     "data": {
      "text/html": [
       "<b>Environment (2-back):</b><br /><pre><b>Stimuli:</b> 2054024112220151303103500552031</pre><pre><b>Actions:</b> M.....M....M....MMM.M.M..MM.MM.</pre>"
      ],
      "text/plain": [
       "<IPython.core.display.HTML object>"
      ]
     },
     "metadata": {
      "tags": []
     },
     "output_type": "display_data"
    },
    {
     "name": "stdout",
     "output_type": "stream",
     "text": [
      "{'episode': 432, 'episode_length': 32, 'episode_return': 7.0}\n"
     ]
    },
    {
     "data": {
      "text/html": [
       "<b>Environment (2-back):</b><br /><pre><b>Stimuli:</b> 1240050024422541341104020244312</pre><pre><b>Actions:</b> M.M.M..M..M...M....M..MMMMM...M</pre>"
      ],
      "text/plain": [
       "<IPython.core.display.HTML object>"
      ]
     },
     "metadata": {
      "tags": []
     },
     "output_type": "display_data"
    },
    {
     "name": "stdout",
     "output_type": "stream",
     "text": [
      "{'episode': 433, 'episode_length': 32, 'episode_return': 9.0}\n"
     ]
    },
    {
     "data": {
      "text/html": [
       "<b>Environment (2-back):</b><br /><pre><b>Stimuli:</b> 5231303040421125451100513324215</pre><pre><b>Actions:</b> MM..M.M..MMMMM...MMM.MMMM....M.</pre>"
      ],
      "text/plain": [
       "<IPython.core.display.HTML object>"
      ]
     },
     "metadata": {
      "tags": []
     },
     "output_type": "display_data"
    },
    {
     "name": "stdout",
     "output_type": "stream",
     "text": [
      "{'episode': 434, 'episode_length': 32, 'episode_return': 5.0}\n"
     ]
    },
    {
     "data": {
      "text/html": [
       "<b>Environment (2-back):</b><br /><pre><b>Stimuli:</b> 1412344221520015005203201232431</pre><pre><b>Actions:</b> .MMM....MM.MM..M..M.M...MMM...M</pre>"
      ],
      "text/plain": [
       "<IPython.core.display.HTML object>"
      ]
     },
     "metadata": {
      "tags": []
     },
     "output_type": "display_data"
    },
    {
     "name": "stdout",
     "output_type": "stream",
     "text": [
      "{'episode': 435, 'episode_length': 32, 'episode_return': 3.0}\n"
     ]
    },
    {
     "data": {
      "text/html": [
       "<b>Environment (2-back):</b><br /><pre><b>Stimuli:</b> 1124040254103540455550343443123</pre><pre><b>Actions:</b> ..M.M.MMM..M...MMM.M.MMM..MM.MM</pre>"
      ],
      "text/plain": [
       "<IPython.core.display.HTML object>"
      ]
     },
     "metadata": {
      "tags": []
     },
     "output_type": "display_data"
    },
    {
     "name": "stdout",
     "output_type": "stream",
     "text": [
      "{'episode': 436, 'episode_length': 32, 'episode_return': -5.0}\n"
     ]
    },
    {
     "data": {
      "text/html": [
       "<b>Environment (2-back):</b><br /><pre><b>Stimuli:</b> 3242133214343355503001211000051</pre><pre><b>Actions:</b> M..M.M.M..M.MM..MMMMM..MMMMM.MM</pre>"
      ],
      "text/plain": [
       "<IPython.core.display.HTML object>"
      ]
     },
     "metadata": {
      "tags": []
     },
     "output_type": "display_data"
    },
    {
     "name": "stdout",
     "output_type": "stream",
     "text": [
      "{'episode': 437, 'episode_length': 32, 'episode_return': 1.0}\n"
     ]
    },
    {
     "data": {
      "text/html": [
       "<b>Environment (2-back):</b><br /><pre><b>Stimuli:</b> 4151453040342400433134305110402</pre><pre><b>Actions:</b> M.MMM.M..M.M..MM..M...M..M.....</pre>"
      ],
      "text/plain": [
       "<IPython.core.display.HTML object>"
      ]
     },
     "metadata": {
      "tags": []
     },
     "output_type": "display_data"
    },
    {
     "name": "stdout",
     "output_type": "stream",
     "text": [
      "{'episode': 438, 'episode_length': 32, 'episode_return': 5.0}\n"
     ]
    },
    {
     "data": {
      "text/html": [
       "<b>Environment (2-back):</b><br /><pre><b>Stimuli:</b> 2041340413530241223134312334512</pre><pre><b>Actions:</b> M..MMM...M.M.MM...M....M..MMM.M</pre>"
      ],
      "text/plain": [
       "<IPython.core.display.HTML object>"
      ]
     },
     "metadata": {
      "tags": []
     },
     "output_type": "display_data"
    },
    {
     "name": "stdout",
     "output_type": "stream",
     "text": [
      "{'episode': 439, 'episode_length': 32, 'episode_return': -1.0}\n"
     ]
    },
    {
     "data": {
      "text/html": [
       "<b>Environment (2-back):</b><br /><pre><b>Stimuli:</b> 1111203544511212122230151352200</pre><pre><b>Actions:</b> ...M..M.M....M.M......MM.MM..MM</pre>"
      ],
      "text/plain": [
       "<IPython.core.display.HTML object>"
      ]
     },
     "metadata": {
      "tags": []
     },
     "output_type": "display_data"
    },
    {
     "name": "stdout",
     "output_type": "stream",
     "text": [
      "{'episode': 440, 'episode_length': 32, 'episode_return': 1.0}\n"
     ]
    },
    {
     "data": {
      "text/html": [
       "<b>Environment (2-back):</b><br /><pre><b>Stimuli:</b> 3123202535234201040515252450542</pre><pre><b>Actions:</b> M.MMM.......M..MM.M.M..M.MM.M..</pre>"
      ],
      "text/plain": [
       "<IPython.core.display.HTML object>"
      ]
     },
     "metadata": {
      "tags": []
     },
     "output_type": "display_data"
    },
    {
     "name": "stdout",
     "output_type": "stream",
     "text": [
      "{'episode': 441, 'episode_length': 32, 'episode_return': 5.0}\n"
     ]
    },
    {
     "data": {
      "text/html": [
       "<b>Environment (2-back):</b><br /><pre><b>Stimuli:</b> 3144503320534444500230315130123</pre><pre><b>Actions:</b> .MM..M...M.M..MM..MMMMMMM.M....</pre>"
      ],
      "text/plain": [
       "<IPython.core.display.HTML object>"
      ]
     },
     "metadata": {
      "tags": []
     },
     "output_type": "display_data"
    },
    {
     "name": "stdout",
     "output_type": "stream",
     "text": [
      "{'episode': 442, 'episode_length': 32, 'episode_return': 3.0}\n"
     ]
    },
    {
     "data": {
      "text/html": [
       "<b>Environment (2-back):</b><br /><pre><b>Stimuli:</b> 0141525115115121350533433015314</pre><pre><b>Actions:</b> M..M....M...M...MMMMMMMM.MMMM.M</pre>"
      ],
      "text/plain": [
       "<IPython.core.display.HTML object>"
      ]
     },
     "metadata": {
      "tags": []
     },
     "output_type": "display_data"
    },
    {
     "name": "stdout",
     "output_type": "stream",
     "text": [
      "{'episode': 443, 'episode_length': 32, 'episode_return': -5.0}\n"
     ]
    },
    {
     "data": {
      "text/html": [
       "<b>Environment (2-back):</b><br /><pre><b>Stimuli:</b> 3332322203033110451313033355534</pre><pre><b>Actions:</b> MM....MM.M...M.M....M.M...M..M.</pre>"
      ],
      "text/plain": [
       "<IPython.core.display.HTML object>"
      ]
     },
     "metadata": {
      "tags": []
     },
     "output_type": "display_data"
    },
    {
     "name": "stdout",
     "output_type": "stream",
     "text": [
      "{'episode': 444, 'episode_length': 32, 'episode_return': -5.0}\n"
     ]
    },
    {
     "data": {
      "text/html": [
       "<b>Environment (2-back):</b><br /><pre><b>Stimuli:</b> 1235131535455425124204540225404</pre><pre><b>Actions:</b> .MMM.M.MMM.MM.MM...M.M...M..M..</pre>"
      ],
      "text/plain": [
       "<IPython.core.display.HTML object>"
      ]
     },
     "metadata": {
      "tags": []
     },
     "output_type": "display_data"
    },
    {
     "name": "stdout",
     "output_type": "stream",
     "text": [
      "{'episode': 445, 'episode_length': 32, 'episode_return': 3.0}\n"
     ]
    },
    {
     "data": {
      "text/html": [
       "<b>Environment (2-back):</b><br /><pre><b>Stimuli:</b> 4053231552304111514002001550250</pre><pre><b>Actions:</b> ...M.....MMM.M...M..MM..M..M.MM</pre>"
      ],
      "text/plain": [
       "<IPython.core.display.HTML object>"
      ]
     },
     "metadata": {
      "tags": []
     },
     "output_type": "display_data"
    },
    {
     "name": "stdout",
     "output_type": "stream",
     "text": [
      "{'episode': 446, 'episode_length': 32, 'episode_return': 3.0}\n"
     ]
    },
    {
     "data": {
      "text/html": [
       "<b>Environment (2-back):</b><br /><pre><b>Stimuli:</b> 0304031124011335033150204353015</pre><pre><b>Actions:</b> MMMMM.MM.....MMM..MMMMMM..MM.MM</pre>"
      ],
      "text/plain": [
       "<IPython.core.display.HTML object>"
      ]
     },
     "metadata": {
      "tags": []
     },
     "output_type": "display_data"
    },
    {
     "name": "stdout",
     "output_type": "stream",
     "text": [
      "{'episode': 447, 'episode_length': 32, 'episode_return': -1.0}\n"
     ]
    },
    {
     "data": {
      "text/html": [
       "<b>Environment (2-back):</b><br /><pre><b>Stimuli:</b> 3042505441115051023500202002534</pre><pre><b>Actions:</b> .M..M..MM.MMM.......MM..M..M.M.</pre>"
      ],
      "text/plain": [
       "<IPython.core.display.HTML object>"
      ]
     },
     "metadata": {
      "tags": []
     },
     "output_type": "display_data"
    },
    {
     "name": "stdout",
     "output_type": "stream",
     "text": [
      "{'episode': 448, 'episode_length': 32, 'episode_return': 5.0}\n"
     ]
    },
    {
     "data": {
      "text/html": [
       "<b>Environment (2-back):</b><br /><pre><b>Stimuli:</b> 3212502445421000533325130140124</pre><pre><b>Actions:</b> .M..M.MMMM.M..M.M.....M...M.MMM</pre>"
      ],
      "text/plain": [
       "<IPython.core.display.HTML object>"
      ]
     },
     "metadata": {
      "tags": []
     },
     "output_type": "display_data"
    },
    {
     "name": "stdout",
     "output_type": "stream",
     "text": [
      "{'episode': 449, 'episode_length': 32, 'episode_return': -5.0}\n"
     ]
    },
    {
     "data": {
      "text/html": [
       "<b>Environment (2-back):</b><br /><pre><b>Stimuli:</b> 3434534522432330410521145335513</pre><pre><b>Actions:</b> MM.MMM.M.MM.MMM.MM....MM.MM....</pre>"
      ],
      "text/plain": [
       "<IPython.core.display.HTML object>"
      ]
     },
     "metadata": {
      "tags": []
     },
     "output_type": "display_data"
    },
    {
     "name": "stdout",
     "output_type": "stream",
     "text": [
      "{'episode': 450, 'episode_length': 32, 'episode_return': 1.0}\n"
     ]
    },
    {
     "data": {
      "text/html": [
       "<b>Environment (2-back):</b><br /><pre><b>Stimuli:</b> 5413024525341035442335314230020</pre><pre><b>Actions:</b> M.M.M.MM.M..MM......MMMM.M.M..M</pre>"
      ],
      "text/plain": [
       "<IPython.core.display.HTML object>"
      ]
     },
     "metadata": {
      "tags": []
     },
     "output_type": "display_data"
    },
    {
     "name": "stdout",
     "output_type": "stream",
     "text": [
      "{'episode': 451, 'episode_length': 32, 'episode_return': 7.0}\n"
     ]
    },
    {
     "data": {
      "text/html": [
       "<b>Environment (2-back):</b><br /><pre><b>Stimuli:</b> 3401035233331325542242554204104</pre><pre><b>Actions:</b> M.M..M....M.M.M..M...M....MM...</pre>"
      ],
      "text/plain": [
       "<IPython.core.display.HTML object>"
      ]
     },
     "metadata": {
      "tags": []
     },
     "output_type": "display_data"
    },
    {
     "name": "stdout",
     "output_type": "stream",
     "text": [
      "{'episode': 452, 'episode_length': 32, 'episode_return': 9.0}\n"
     ]
    },
    {
     "data": {
      "text/html": [
       "<b>Environment (2-back):</b><br /><pre><b>Stimuli:</b> 3035441022050315431442310540354</pre><pre><b>Actions:</b> ..M.M.MMMMM..MMMM.M..M.....M...</pre>"
      ],
      "text/plain": [
       "<IPython.core.display.HTML object>"
      ]
     },
     "metadata": {
      "tags": []
     },
     "output_type": "display_data"
    },
    {
     "name": "stdout",
     "output_type": "stream",
     "text": [
      "{'episode': 453, 'episode_length': 32, 'episode_return': 3.0}\n"
     ]
    },
    {
     "data": {
      "text/html": [
       "<b>Environment (2-back):</b><br /><pre><b>Stimuli:</b> 3513101315433431103102430311242</pre><pre><b>Actions:</b> .M..M.MM.M.M..MMM...M....MMM..M</pre>"
      ],
      "text/plain": [
       "<IPython.core.display.HTML object>"
      ]
     },
     "metadata": {
      "tags": []
     },
     "output_type": "display_data"
    },
    {
     "name": "stdout",
     "output_type": "stream",
     "text": [
      "{'episode': 454, 'episode_length': 32, 'episode_return': 11.0}\n"
     ]
    },
    {
     "data": {
      "text/html": [
       "<b>Environment (2-back):</b><br /><pre><b>Stimuli:</b> 4450414433203255152432344142132</pre><pre><b>Actions:</b> .MMMM.M....MMMM.M...M.MM..MMMM.</pre>"
      ],
      "text/plain": [
       "<IPython.core.display.HTML object>"
      ]
     },
     "metadata": {
      "tags": []
     },
     "output_type": "display_data"
    },
    {
     "name": "stdout",
     "output_type": "stream",
     "text": [
      "{'episode': 455, 'episode_length': 32, 'episode_return': 1.0}\n"
     ]
    },
    {
     "data": {
      "text/html": [
       "<b>Environment (2-back):</b><br /><pre><b>Stimuli:</b> 5232001010245343143121212222101</pre><pre><b>Actions:</b> .M.MM..MMMMM...M.M.MMMMMM..MMM.</pre>"
      ],
      "text/plain": [
       "<IPython.core.display.HTML object>"
      ]
     },
     "metadata": {
      "tags": []
     },
     "output_type": "display_data"
    },
    {
     "name": "stdout",
     "output_type": "stream",
     "text": [
      "{'episode': 456, 'episode_length': 32, 'episode_return': 9.0}\n"
     ]
    },
    {
     "data": {
      "text/html": [
       "<b>Environment (2-back):</b><br /><pre><b>Stimuli:</b> 0335215533401425015412420221220</pre><pre><b>Actions:</b> .MMM...M.....M.MMM..MM.M.MMMMM.</pre>"
      ],
      "text/plain": [
       "<IPython.core.display.HTML object>"
      ]
     },
     "metadata": {
      "tags": []
     },
     "output_type": "display_data"
    },
    {
     "name": "stdout",
     "output_type": "stream",
     "text": [
      "{'episode': 457, 'episode_length': 32, 'episode_return': 3.0}\n"
     ]
    },
    {
     "data": {
      "text/html": [
       "<b>Environment (2-back):</b><br /><pre><b>Stimuli:</b> 5304333015444253134415351144200</pre><pre><b>Actions:</b> ..MMMM.M.M....MM.M....M..M.MM.M</pre>"
      ],
      "text/plain": [
       "<IPython.core.display.HTML object>"
      ]
     },
     "metadata": {
      "tags": []
     },
     "output_type": "display_data"
    },
    {
     "name": "stdout",
     "output_type": "stream",
     "text": [
      "{'episode': 458, 'episode_length': 32, 'episode_return': -1.0}\n"
     ]
    },
    {
     "data": {
      "text/html": [
       "<b>Environment (2-back):</b><br /><pre><b>Stimuli:</b> 3030022311130412215352304334245</pre><pre><b>Actions:</b> ..M........MMM...MM.M......MMM.</pre>"
      ],
      "text/plain": [
       "<IPython.core.display.HTML object>"
      ]
     },
     "metadata": {
      "tags": []
     },
     "output_type": "display_data"
    },
    {
     "name": "stdout",
     "output_type": "stream",
     "text": [
      "{'episode': 459, 'episode_length': 32, 'episode_return': 13.0}\n"
     ]
    },
    {
     "data": {
      "text/html": [
       "<b>Environment (2-back):</b><br /><pre><b>Stimuli:</b> 0201321500514152405102222205433</pre><pre><b>Actions:</b> MM..MM.MMMMMM..MMM.M.MMM.....M.</pre>"
      ],
      "text/plain": [
       "<IPython.core.display.HTML object>"
      ]
     },
     "metadata": {
      "tags": []
     },
     "output_type": "display_data"
    },
    {
     "name": "stdout",
     "output_type": "stream",
     "text": [
      "{'episode': 460, 'episode_length': 32, 'episode_return': -11.0}\n"
     ]
    },
    {
     "data": {
      "text/html": [
       "<b>Environment (2-back):</b><br /><pre><b>Stimuli:</b> 4000303524521241350000244403035</pre><pre><b>Actions:</b> MM.M..M.....MMM..MM.M.M....MM..</pre>"
      ],
      "text/plain": [
       "<IPython.core.display.HTML object>"
      ]
     },
     "metadata": {
      "tags": []
     },
     "output_type": "display_data"
    },
    {
     "name": "stdout",
     "output_type": "stream",
     "text": [
      "{'episode': 461, 'episode_length': 32, 'episode_return': 7.0}\n"
     ]
    },
    {
     "data": {
      "text/html": [
       "<b>Environment (2-back):</b><br /><pre><b>Stimuli:</b> 3014320014205414310522425534355</pre><pre><b>Actions:</b> .MMMMMM...M...MMMMM.M..M.MMMMM.</pre>"
      ],
      "text/plain": [
       "<IPython.core.display.HTML object>"
      ]
     },
     "metadata": {
      "tags": []
     },
     "output_type": "display_data"
    },
    {
     "name": "stdout",
     "output_type": "stream",
     "text": [
      "{'episode': 462, 'episode_length': 32, 'episode_return': -1.0}\n"
     ]
    },
    {
     "data": {
      "text/html": [
       "<b>Environment (2-back):</b><br /><pre><b>Stimuli:</b> 4000151040514333520011540213421</pre><pre><b>Actions:</b> M.M..MM.MMMM.M.MM....MMM.MM..M.</pre>"
      ],
      "text/plain": [
       "<IPython.core.display.HTML object>"
      ]
     },
     "metadata": {
      "tags": []
     },
     "output_type": "display_data"
    },
    {
     "name": "stdout",
     "output_type": "stream",
     "text": [
      "{'episode': 463, 'episode_length': 32, 'episode_return': -1.0}\n"
     ]
    },
    {
     "data": {
      "text/html": [
       "<b>Environment (2-back):</b><br /><pre><b>Stimuli:</b> 5240331120250555244542303411304</pre><pre><b>Actions:</b> .M...MMMMMM.M.MMMMMM.MMM...MMM.</pre>"
      ],
      "text/plain": [
       "<IPython.core.display.HTML object>"
      ]
     },
     "metadata": {
      "tags": []
     },
     "output_type": "display_data"
    },
    {
     "name": "stdout",
     "output_type": "stream",
     "text": [
      "{'episode': 464, 'episode_length': 32, 'episode_return': -11.0}\n"
     ]
    },
    {
     "data": {
      "text/html": [
       "<b>Environment (2-back):</b><br /><pre><b>Stimuli:</b> 0254523321024530151525001421130</pre><pre><b>Actions:</b> M..MMMMMM.M.MM..M.M..MMM.MM.M..</pre>"
      ],
      "text/plain": [
       "<IPython.core.display.HTML object>"
      ]
     },
     "metadata": {
      "tags": []
     },
     "output_type": "display_data"
    },
    {
     "name": "stdout",
     "output_type": "stream",
     "text": [
      "{'episode': 465, 'episode_length': 32, 'episode_return': 1.0}\n"
     ]
    },
    {
     "data": {
      "text/html": [
       "<b>Environment (2-back):</b><br /><pre><b>Stimuli:</b> 0345442335313314124030244423422</pre><pre><b>Actions:</b> MM..MMMM.MMMMM.MMM.MMMM.MM..MM.</pre>"
      ],
      "text/plain": [
       "<IPython.core.display.HTML object>"
      ]
     },
     "metadata": {
      "tags": []
     },
     "output_type": "display_data"
    },
    {
     "name": "stdout",
     "output_type": "stream",
     "text": [
      "{'episode': 466, 'episode_length': 32, 'episode_return': -1.0}\n"
     ]
    },
    {
     "data": {
      "text/html": [
       "<b>Environment (2-back):</b><br /><pre><b>Stimuli:</b> 4330434353553102412555105150002</pre><pre><b>Actions:</b> .M.MM.M.MMMMMMM.M.MM.M...M.M.M.</pre>"
      ],
      "text/plain": [
       "<IPython.core.display.HTML object>"
      ]
     },
     "metadata": {
      "tags": []
     },
     "output_type": "display_data"
    },
    {
     "name": "stdout",
     "output_type": "stream",
     "text": [
      "{'episode': 467, 'episode_length': 32, 'episode_return': 1.0}\n"
     ]
    },
    {
     "data": {
      "text/html": [
       "<b>Environment (2-back):</b><br /><pre><b>Stimuli:</b> 0243025434331031325423122335003</pre><pre><b>Actions:</b> M.MM.M.MM.M..M..M.MM.MMM....MM.</pre>"
      ],
      "text/plain": [
       "<IPython.core.display.HTML object>"
      ]
     },
     "metadata": {
      "tags": []
     },
     "output_type": "display_data"
    },
    {
     "name": "stdout",
     "output_type": "stream",
     "text": [
      "{'episode': 468, 'episode_length': 32, 'episode_return': 1.0}\n"
     ]
    },
    {
     "data": {
      "text/html": [
       "<b>Environment (2-back):</b><br /><pre><b>Stimuli:</b> 0501030321133240053555434451103</pre><pre><b>Actions:</b> M.M.......M.M.M....MM..MMM.MM..</pre>"
      ],
      "text/plain": [
       "<IPython.core.display.HTML object>"
      ]
     },
     "metadata": {
      "tags": []
     },
     "output_type": "display_data"
    },
    {
     "name": "stdout",
     "output_type": "stream",
     "text": [
      "{'episode': 469, 'episode_length': 32, 'episode_return': 5.0}\n"
     ]
    },
    {
     "data": {
      "text/html": [
       "<b>Environment (2-back):</b><br /><pre><b>Stimuli:</b> 4145051031333405232054334533022</pre><pre><b>Actions:</b> .MMMMM.MMM...M.MM.M....M..MM.MM</pre>"
      ],
      "text/plain": [
       "<IPython.core.display.HTML object>"
      ]
     },
     "metadata": {
      "tags": []
     },
     "output_type": "display_data"
    },
    {
     "name": "stdout",
     "output_type": "stream",
     "text": [
      "{'episode': 470, 'episode_length': 32, 'episode_return': -1.0}\n"
     ]
    },
    {
     "data": {
      "text/html": [
       "<b>Environment (2-back):</b><br /><pre><b>Stimuli:</b> 3521320403041140312415201110454</pre><pre><b>Actions:</b> M.MM.MMM....M...M.MM.MMMM..MM.M</pre>"
      ],
      "text/plain": [
       "<IPython.core.display.HTML object>"
      ]
     },
     "metadata": {
      "tags": []
     },
     "output_type": "display_data"
    },
    {
     "name": "stdout",
     "output_type": "stream",
     "text": [
      "{'episode': 471, 'episode_length': 32, 'episode_return': -7.0}\n"
     ]
    },
    {
     "data": {
      "text/html": [
       "<b>Environment (2-back):</b><br /><pre><b>Stimuli:</b> 1340305034144405332445402512540</pre><pre><b>Actions:</b> MM.MM..MMMMMMMM.MM..MM..MMMMM.M</pre>"
      ],
      "text/plain": [
       "<IPython.core.display.HTML object>"
      ]
     },
     "metadata": {
      "tags": []
     },
     "output_type": "display_data"
    },
    {
     "name": "stdout",
     "output_type": "stream",
     "text": [
      "{'episode': 472, 'episode_length': 32, 'episode_return': -11.0}\n"
     ]
    },
    {
     "data": {
      "text/html": [
       "<b>Environment (2-back):</b><br /><pre><b>Stimuli:</b> 1553454122400330355552210434502</pre><pre><b>Actions:</b> MM..MMMM...M..M..M.M.M.M..MM.MM</pre>"
      ],
      "text/plain": [
       "<IPython.core.display.HTML object>"
      ]
     },
     "metadata": {
      "tags": []
     },
     "output_type": "display_data"
    },
    {
     "name": "stdout",
     "output_type": "stream",
     "text": [
      "{'episode': 473, 'episode_length': 32, 'episode_return': 1.0}\n"
     ]
    },
    {
     "data": {
      "text/html": [
       "<b>Environment (2-back):</b><br /><pre><b>Stimuli:</b> 4055440103352553111430254035353</pre><pre><b>Actions:</b> M..MMMMM.MM..MM....M..M.MM.MM.M</pre>"
      ],
      "text/plain": [
       "<IPython.core.display.HTML object>"
      ]
     },
     "metadata": {
      "tags": []
     },
     "output_type": "display_data"
    },
    {
     "name": "stdout",
     "output_type": "stream",
     "text": [
      "{'episode': 474, 'episode_length': 32, 'episode_return': -3.0}\n"
     ]
    },
    {
     "data": {
      "text/html": [
       "<b>Environment (2-back):</b><br /><pre><b>Stimuli:</b> 1012241433320525442324330054553</pre><pre><b>Actions:</b> .M..M.MM.MM.MM.MMM...M..MMMMMMM</pre>"
      ],
      "text/plain": [
       "<IPython.core.display.HTML object>"
      ]
     },
     "metadata": {
      "tags": []
     },
     "output_type": "display_data"
    },
    {
     "name": "stdout",
     "output_type": "stream",
     "text": [
      "{'episode': 475, 'episode_length': 32, 'episode_return': -3.0}\n"
     ]
    },
    {
     "data": {
      "text/html": [
       "<b>Environment (2-back):</b><br /><pre><b>Stimuli:</b> 4245041524220353415435124452254</pre><pre><b>Actions:</b> MM.M..M.MMM..M.M....MMM.MM.M.M.</pre>"
      ],
      "text/plain": [
       "<IPython.core.display.HTML object>"
      ]
     },
     "metadata": {
      "tags": []
     },
     "output_type": "display_data"
    },
    {
     "name": "stdout",
     "output_type": "stream",
     "text": [
      "{'episode': 476, 'episode_length': 32, 'episode_return': 3.0}\n"
     ]
    },
    {
     "data": {
      "text/html": [
       "<b>Environment (2-back):</b><br /><pre><b>Stimuli:</b> 3501425415555131103145511550504</pre><pre><b>Actions:</b> MM...MM.M..M..MM.M.....M....M.M</pre>"
      ],
      "text/plain": [
       "<IPython.core.display.HTML object>"
      ]
     },
     "metadata": {
      "tags": []
     },
     "output_type": "display_data"
    },
    {
     "name": "stdout",
     "output_type": "stream",
     "text": [
      "{'episode': 477, 'episode_length': 32, 'episode_return': 11.0}\n"
     ]
    },
    {
     "data": {
      "text/html": [
       "<b>Environment (2-back):</b><br /><pre><b>Stimuli:</b> 2024152454543302112452130135441</pre><pre><b>Actions:</b> .M.M...MM..MM..M.M..MMM.M.M..MM</pre>"
      ],
      "text/plain": [
       "<IPython.core.display.HTML object>"
      ]
     },
     "metadata": {
      "tags": []
     },
     "output_type": "display_data"
    },
    {
     "name": "stdout",
     "output_type": "stream",
     "text": [
      "{'episode': 478, 'episode_length': 32, 'episode_return': -3.0}\n"
     ]
    },
    {
     "data": {
      "text/html": [
       "<b>Environment (2-back):</b><br /><pre><b>Stimuli:</b> 0153110241200342010543054010143</pre><pre><b>Actions:</b> .M...M....MM..M.MMM.M.M.MM..M.M</pre>"
      ],
      "text/plain": [
       "<IPython.core.display.HTML object>"
      ]
     },
     "metadata": {
      "tags": []
     },
     "output_type": "display_data"
    },
    {
     "name": "stdout",
     "output_type": "stream",
     "text": [
      "{'episode': 479, 'episode_length': 32, 'episode_return': 5.0}\n"
     ]
    },
    {
     "data": {
      "text/html": [
       "<b>Environment (2-back):</b><br /><pre><b>Stimuli:</b> 1202150544115432322415535354530</pre><pre><b>Actions:</b> .MM.M.MMM.MM.MMM.M..M.MMMMMMMM.</pre>"
      ],
      "text/plain": [
       "<IPython.core.display.HTML object>"
      ]
     },
     "metadata": {
      "tags": []
     },
     "output_type": "display_data"
    },
    {
     "name": "stdout",
     "output_type": "stream",
     "text": [
      "{'episode': 480, 'episode_length': 32, 'episode_return': -3.0}\n"
     ]
    },
    {
     "data": {
      "text/html": [
       "<b>Environment (2-back):</b><br /><pre><b>Stimuli:</b> 0524351545103154055155135400222</pre><pre><b>Actions:</b> MM..MMMM..MM..MM..MM...MM.M..MM</pre>"
      ],
      "text/plain": [
       "<IPython.core.display.HTML object>"
      ]
     },
     "metadata": {
      "tags": []
     },
     "output_type": "display_data"
    },
    {
     "name": "stdout",
     "output_type": "stream",
     "text": [
      "{'episode': 481, 'episode_length': 32, 'episode_return': -3.0}\n"
     ]
    },
    {
     "data": {
      "text/html": [
       "<b>Environment (2-back):</b><br /><pre><b>Stimuli:</b> 5421555005541100552100412451542</pre><pre><b>Actions:</b> MM....M.M.MM.M.M..MM..MM.M.MMMM</pre>"
      ],
      "text/plain": [
       "<IPython.core.display.HTML object>"
      ]
     },
     "metadata": {
      "tags": []
     },
     "output_type": "display_data"
    },
    {
     "name": "stdout",
     "output_type": "stream",
     "text": [
      "{'episode': 482, 'episode_length': 32, 'episode_return': 1.0}\n"
     ]
    },
    {
     "data": {
      "text/html": [
       "<b>Environment (2-back):</b><br /><pre><b>Stimuli:</b> 3351034250323010224125330525414</pre><pre><b>Actions:</b> MM.........M.M...M.MMM.M..MMMMM</pre>"
      ],
      "text/plain": [
       "<IPython.core.display.HTML object>"
      ]
     },
     "metadata": {
      "tags": []
     },
     "output_type": "display_data"
    },
    {
     "name": "stdout",
     "output_type": "stream",
     "text": [
      "{'episode': 483, 'episode_length': 32, 'episode_return': 3.0}\n"
     ]
    },
    {
     "data": {
      "text/html": [
       "<b>Environment (2-back):</b><br /><pre><b>Stimuli:</b> 5135545104540045022240243303234</pre><pre><b>Actions:</b> .M..MMMMMM.M..M.M..MMMM.MMMMMM.</pre>"
      ],
      "text/plain": [
       "<IPython.core.display.HTML object>"
      ]
     },
     "metadata": {
      "tags": []
     },
     "output_type": "display_data"
    },
    {
     "name": "stdout",
     "output_type": "stream",
     "text": [
      "{'episode': 484, 'episode_length': 32, 'episode_return': 1.0}\n"
     ]
    },
    {
     "data": {
      "text/html": [
       "<b>Environment (2-back):</b><br /><pre><b>Stimuli:</b> 3200432032215225001054031524503</pre><pre><b>Actions:</b> MM.M.MM..MMMMMM..MM..MM....M.M.</pre>"
      ],
      "text/plain": [
       "<IPython.core.display.HTML object>"
      ]
     },
     "metadata": {
      "tags": []
     },
     "output_type": "display_data"
    },
    {
     "name": "stdout",
     "output_type": "stream",
     "text": [
      "{'episode': 485, 'episode_length': 32, 'episode_return': -1.0}\n"
     ]
    },
    {
     "data": {
      "text/html": [
       "<b>Environment (2-back):</b><br /><pre><b>Stimuli:</b> 4424534203141514220253153554134</pre><pre><b>Actions:</b> M..MMM...M.MMMM.MM....M.MMMMMM.</pre>"
      ],
      "text/plain": [
       "<IPython.core.display.HTML object>"
      ]
     },
     "metadata": {
      "tags": []
     },
     "output_type": "display_data"
    },
    {
     "name": "stdout",
     "output_type": "stream",
     "text": [
      "{'episode': 486, 'episode_length': 32, 'episode_return': 3.0}\n"
     ]
    },
    {
     "data": {
      "text/html": [
       "<b>Environment (2-back):</b><br /><pre><b>Stimuli:</b> 4304533152245352142003205140125</pre><pre><b>Actions:</b> M.MMM........M....MM.M.MMM.MM..</pre>"
      ],
      "text/plain": [
       "<IPython.core.display.HTML object>"
      ]
     },
     "metadata": {
      "tags": []
     },
     "output_type": "display_data"
    },
    {
     "name": "stdout",
     "output_type": "stream",
     "text": [
      "{'episode': 487, 'episode_length': 32, 'episode_return': 1.0}\n"
     ]
    },
    {
     "data": {
      "text/html": [
       "<b>Environment (2-back):</b><br /><pre><b>Stimuli:</b> 4201054512032532031524435555311</pre><pre><b>Actions:</b> .MMMMM.MM.M...M.MMMM..MM.MM..M.</pre>"
      ],
      "text/plain": [
       "<IPython.core.display.HTML object>"
      ]
     },
     "metadata": {
      "tags": []
     },
     "output_type": "display_data"
    },
    {
     "name": "stdout",
     "output_type": "stream",
     "text": [
      "{'episode': 488, 'episode_length': 32, 'episode_return': 1.0}\n"
     ]
    },
    {
     "data": {
      "text/html": [
       "<b>Environment (2-back):</b><br /><pre><b>Stimuli:</b> 5410030335100313442111024012414</pre><pre><b>Actions:</b> ...MM...M.M.MM.M.MM.M.M.M.MM...</pre>"
      ],
      "text/plain": [
       "<IPython.core.display.HTML object>"
      ]
     },
     "metadata": {
      "tags": []
     },
     "output_type": "display_data"
    },
    {
     "name": "stdout",
     "output_type": "stream",
     "text": [
      "{'episode': 489, 'episode_length': 32, 'episode_return': -3.0}\n"
     ]
    },
    {
     "data": {
      "text/html": [
       "<b>Environment (2-back):</b><br /><pre><b>Stimuli:</b> 5331034112042121534045215220500</pre><pre><b>Actions:</b> M.MMMMMMMM.MM.MMMMMM...M.MMM.M.</pre>"
      ],
      "text/plain": [
       "<IPython.core.display.HTML object>"
      ]
     },
     "metadata": {
      "tags": []
     },
     "output_type": "display_data"
    },
    {
     "name": "stdout",
     "output_type": "stream",
     "text": [
      "{'episode': 490, 'episode_length': 32, 'episode_return': -9.0}\n"
     ]
    },
    {
     "data": {
      "text/html": [
       "<b>Environment (2-back):</b><br /><pre><b>Stimuli:</b> 0014332410515053420144424014234</pre><pre><b>Actions:</b> .M...MMM.MMMM..M...MMM..M...M.M</pre>"
      ],
      "text/plain": [
       "<IPython.core.display.HTML object>"
      ]
     },
     "metadata": {
      "tags": []
     },
     "output_type": "display_data"
    },
    {
     "name": "stdout",
     "output_type": "stream",
     "text": [
      "{'episode': 491, 'episode_length': 32, 'episode_return': 1.0}\n"
     ]
    },
    {
     "data": {
      "text/html": [
       "<b>Environment (2-back):</b><br /><pre><b>Stimuli:</b> 1430041051453235331015254055004</pre><pre><b>Actions:</b> M..MM.M.....M...M......M.MMM.MM</pre>"
      ],
      "text/plain": [
       "<IPython.core.display.HTML object>"
      ]
     },
     "metadata": {
      "tags": []
     },
     "output_type": "display_data"
    },
    {
     "name": "stdout",
     "output_type": "stream",
     "text": [
      "{'episode': 492, 'episode_length': 32, 'episode_return': 5.0}\n"
     ]
    },
    {
     "data": {
      "text/html": [
       "<b>Environment (2-back):</b><br /><pre><b>Stimuli:</b> 3435351453121450514034135332151</pre><pre><b>Actions:</b> M.MM.MMM.MM....M.M.MM.MMMMM.M.M</pre>"
      ],
      "text/plain": [
       "<IPython.core.display.HTML object>"
      ]
     },
     "metadata": {
      "tags": []
     },
     "output_type": "display_data"
    },
    {
     "name": "stdout",
     "output_type": "stream",
     "text": [
      "{'episode': 493, 'episode_length': 32, 'episode_return': -5.0}\n"
     ]
    },
    {
     "data": {
      "text/html": [
       "<b>Environment (2-back):</b><br /><pre><b>Stimuli:</b> 1412124103420413101122205455103</pre><pre><b>Actions:</b> .M.M.M.M.M.MM.M.M.M........M...</pre>"
      ],
      "text/plain": [
       "<IPython.core.display.HTML object>"
      ]
     },
     "metadata": {
      "tags": []
     },
     "output_type": "display_data"
    },
    {
     "name": "stdout",
     "output_type": "stream",
     "text": [
      "{'episode': 494, 'episode_length': 32, 'episode_return': 7.0}\n"
     ]
    },
    {
     "data": {
      "text/html": [
       "<b>Environment (2-back):</b><br /><pre><b>Stimuli:</b> 5450213134140125405323232445011</pre><pre><b>Actions:</b> .M.M..M.MMMMM.M.....M.M..MM.M.M</pre>"
      ],
      "text/plain": [
       "<IPython.core.display.HTML object>"
      ]
     },
     "metadata": {
      "tags": []
     },
     "output_type": "display_data"
    },
    {
     "name": "stdout",
     "output_type": "stream",
     "text": [
      "{'episode': 495, 'episode_length': 32, 'episode_return': -3.0}\n"
     ]
    },
    {
     "data": {
      "text/html": [
       "<b>Environment (2-back):</b><br /><pre><b>Stimuli:</b> 4221000054455300222150512212142</pre><pre><b>Actions:</b> ...MMMMMMMMM.M...MM....M.....MM</pre>"
      ],
      "text/plain": [
       "<IPython.core.display.HTML object>"
      ]
     },
     "metadata": {
      "tags": []
     },
     "output_type": "display_data"
    },
    {
     "name": "stdout",
     "output_type": "stream",
     "text": [
      "{'episode': 496, 'episode_length': 32, 'episode_return': 1.0}\n"
     ]
    },
    {
     "data": {
      "text/html": [
       "<b>Environment (2-back):</b><br /><pre><b>Stimuli:</b> 1325012131125051002334402112055</pre><pre><b>Actions:</b> MMMMMM..MM.M.M.MM...MM....M..M.</pre>"
      ],
      "text/plain": [
       "<IPython.core.display.HTML object>"
      ]
     },
     "metadata": {
      "tags": []
     },
     "output_type": "display_data"
    },
    {
     "name": "stdout",
     "output_type": "stream",
     "text": [
      "{'episode': 497, 'episode_length': 32, 'episode_return': -3.0}\n"
     ]
    },
    {
     "data": {
      "text/html": [
       "<b>Environment (2-back):</b><br /><pre><b>Stimuli:</b> 5440210231305101104505534115502</pre><pre><b>Actions:</b> MMMMMMM..M....MM......MMMM.M..M</pre>"
      ],
      "text/plain": [
       "<IPython.core.display.HTML object>"
      ]
     },
     "metadata": {
      "tags": []
     },
     "output_type": "display_data"
    },
    {
     "name": "stdout",
     "output_type": "stream",
     "text": [
      "{'episode': 498, 'episode_length': 32, 'episode_return': -3.0}\n"
     ]
    },
    {
     "data": {
      "text/html": [
       "<b>Environment (2-back):</b><br /><pre><b>Stimuli:</b> 1524110005150253515033311330411</pre><pre><b>Actions:</b> .M.MM...M..MM.MMMMM.M..M..M..M.</pre>"
      ],
      "text/plain": [
       "<IPython.core.display.HTML object>"
      ]
     },
     "metadata": {
      "tags": []
     },
     "output_type": "display_data"
    },
    {
     "name": "stdout",
     "output_type": "stream",
     "text": [
      "{'episode': 499, 'episode_length': 32, 'episode_return': 5.0}\n"
     ]
    },
    {
     "data": {
      "text/html": [
       "<b>Environment (2-back):</b><br /><pre><b>Stimuli:</b> 2015101433523024244143143511534</pre><pre><b>Actions:</b> .MM.M..M..MM...MM.MMM..M.MM..MM</pre>"
      ],
      "text/plain": [
       "<IPython.core.display.HTML object>"
      ]
     },
     "metadata": {
      "tags": []
     },
     "output_type": "display_data"
    },
    {
     "name": "stdout",
     "output_type": "stream",
     "text": [
      "{'episode': 500, 'episode_length': 32, 'episode_return': 1.0}\n"
     ]
    },
    {
     "data": {
      "text/html": [
       "<b>Environment (2-back):</b><br /><pre><b>Stimuli:</b> 4102052242220544433043445233052</pre><pre><b>Actions:</b> MMM.M....MM..MM..MM....MM..MM.M</pre>"
      ],
      "text/plain": [
       "<IPython.core.display.HTML object>"
      ]
     },
     "metadata": {
      "tags": []
     },
     "output_type": "display_data"
    },
    {
     "name": "stdout",
     "output_type": "stream",
     "text": [
      "{'episode': 501, 'episode_length': 32, 'episode_return': -1.0}\n"
     ]
    },
    {
     "data": {
      "text/html": [
       "<b>Environment (2-back):</b><br /><pre><b>Stimuli:</b> 3524155540150021305315335430010</pre><pre><b>Actions:</b> ...M...MMMM.MM.MMM..M.M...MMMM.</pre>"
      ],
      "text/plain": [
       "<IPython.core.display.HTML object>"
      ]
     },
     "metadata": {
      "tags": []
     },
     "output_type": "display_data"
    },
    {
     "name": "stdout",
     "output_type": "stream",
     "text": [
      "{'episode': 502, 'episode_length': 32, 'episode_return': -1.0}\n"
     ]
    },
    {
     "data": {
      "text/html": [
       "<b>Environment (2-back):</b><br /><pre><b>Stimuli:</b> 0523151435432210223320500424530</pre><pre><b>Actions:</b> MMMMM...MMM.M.M.MMMMMM.....MM..</pre>"
      ],
      "text/plain": [
       "<IPython.core.display.HTML object>"
      ]
     },
     "metadata": {
      "tags": []
     },
     "output_type": "display_data"
    },
    {
     "name": "stdout",
     "output_type": "stream",
     "text": [
      "{'episode': 503, 'episode_length': 32, 'episode_return': -5.0}\n"
     ]
    },
    {
     "data": {
      "text/html": [
       "<b>Environment (2-back):</b><br /><pre><b>Stimuli:</b> 3244332224132102444130313143332</pre><pre><b>Actions:</b> .MM..MMMM.M.M.MM.MM.M....MMM.M.</pre>"
      ],
      "text/plain": [
       "<IPython.core.display.HTML object>"
      ]
     },
     "metadata": {
      "tags": []
     },
     "output_type": "display_data"
    },
    {
     "name": "stdout",
     "output_type": "stream",
     "text": [
      "{'episode': 504, 'episode_length': 32, 'episode_return': 1.0}\n"
     ]
    },
    {
     "data": {
      "text/html": [
       "<b>Environment (2-back):</b><br /><pre><b>Stimuli:</b> 4530244455540005314055253315400</pre><pre><b>Actions:</b> M.MM.M..MM..M...MM.M...M.MMM.M.</pre>"
      ],
      "text/plain": [
       "<IPython.core.display.HTML object>"
      ]
     },
     "metadata": {
      "tags": []
     },
     "output_type": "display_data"
    },
    {
     "name": "stdout",
     "output_type": "stream",
     "text": [
      "{'episode': 505, 'episode_length': 32, 'episode_return': -3.0}\n"
     ]
    },
    {
     "data": {
      "text/html": [
       "<b>Environment (2-back):</b><br /><pre><b>Stimuli:</b> 0512334534503453150004002352032</pre><pre><b>Actions:</b> ..M.MM.MM.MMMMMMM.MMM..MM.....M</pre>"
      ],
      "text/plain": [
       "<IPython.core.display.HTML object>"
      ]
     },
     "metadata": {
      "tags": []
     },
     "output_type": "display_data"
    },
    {
     "name": "stdout",
     "output_type": "stream",
     "text": [
      "{'episode': 506, 'episode_length': 32, 'episode_return': -5.0}\n"
     ]
    },
    {
     "data": {
      "text/html": [
       "<b>Environment (2-back):</b><br /><pre><b>Stimuli:</b> 4033553243053515335525535134351</pre><pre><b>Actions:</b> MMMMMMMMMMMMMMMMMM..M...MMM.M..</pre>"
      ],
      "text/plain": [
       "<IPython.core.display.HTML object>"
      ]
     },
     "metadata": {
      "tags": []
     },
     "output_type": "display_data"
    },
    {
     "name": "stdout",
     "output_type": "stream",
     "text": [
      "{'episode': 507, 'episode_length': 32, 'episode_return': -9.0}\n"
     ]
    },
    {
     "data": {
      "text/html": [
       "<b>Environment (2-back):</b><br /><pre><b>Stimuli:</b> 5020123453131351335144324010504</pre><pre><b>Actions:</b> ..M.MM.M.M.MMM...MM.M.MM..M.M.M</pre>"
      ],
      "text/plain": [
       "<IPython.core.display.HTML object>"
      ]
     },
     "metadata": {
      "tags": []
     },
     "output_type": "display_data"
    },
    {
     "name": "stdout",
     "output_type": "stream",
     "text": [
      "{'episode': 508, 'episode_length': 32, 'episode_return': -1.0}\n"
     ]
    },
    {
     "data": {
      "text/html": [
       "<b>Environment (2-back):</b><br /><pre><b>Stimuli:</b> 5053053534154103210103525252152</pre><pre><b>Actions:</b> M.MMMM..M....MMM....MMM...M.M.M</pre>"
      ],
      "text/plain": [
       "<IPython.core.display.HTML object>"
      ]
     },
     "metadata": {
      "tags": []
     },
     "output_type": "display_data"
    },
    {
     "name": "stdout",
     "output_type": "stream",
     "text": [
      "{'episode': 509, 'episode_length': 32, 'episode_return': -1.0}\n"
     ]
    },
    {
     "data": {
      "text/html": [
       "<b>Environment (2-back):</b><br /><pre><b>Stimuli:</b> 5335543155323325541111203112410</pre><pre><b>Actions:</b> .MM.M...M..M..M..MMM..M.MM.MMMM</pre>"
      ],
      "text/plain": [
       "<IPython.core.display.HTML object>"
      ]
     },
     "metadata": {
      "tags": []
     },
     "output_type": "display_data"
    },
    {
     "name": "stdout",
     "output_type": "stream",
     "text": [
      "{'episode': 510, 'episode_length': 32, 'episode_return': -7.0}\n"
     ]
    },
    {
     "data": {
      "text/html": [
       "<b>Environment (2-back):</b><br /><pre><b>Stimuli:</b> 3032220421525425154001023141234</pre><pre><b>Actions:</b> .M..M....MM.....M.M.M....M.MMMM</pre>"
      ],
      "text/plain": [
       "<IPython.core.display.HTML object>"
      ]
     },
     "metadata": {
      "tags": []
     },
     "output_type": "display_data"
    },
    {
     "name": "stdout",
     "output_type": "stream",
     "text": [
      "{'episode': 511, 'episode_length': 32, 'episode_return': -1.0}\n"
     ]
    },
    {
     "data": {
      "text/html": [
       "<b>Environment (2-back):</b><br /><pre><b>Stimuli:</b> 0030350443411142111244131144224</pre><pre><b>Actions:</b> MM.MM.M...MMMMMMM.M.....MMMM.M.</pre>"
      ],
      "text/plain": [
       "<IPython.core.display.HTML object>"
      ]
     },
     "metadata": {
      "tags": []
     },
     "output_type": "display_data"
    },
    {
     "name": "stdout",
     "output_type": "stream",
     "text": [
      "{'episode': 512, 'episode_length': 32, 'episode_return': 7.0}\n"
     ]
    },
    {
     "data": {
      "text/html": [
       "<b>Environment (2-back):</b><br /><pre><b>Stimuli:</b> 4033443031222434410254212234441</pre><pre><b>Actions:</b> M.M...M.M..MMMMMM...MMMM..M.MMM</pre>"
      ],
      "text/plain": [
       "<IPython.core.display.HTML object>"
      ]
     },
     "metadata": {
      "tags": []
     },
     "output_type": "display_data"
    },
    {
     "name": "stdout",
     "output_type": "stream",
     "text": [
      "{'episode': 513, 'episode_length': 32, 'episode_return': -1.0}\n"
     ]
    },
    {
     "data": {
      "text/html": [
       "<b>Environment (2-back):</b><br /><pre><b>Stimuli:</b> 1535022024253001341235311113235</pre><pre><b>Actions:</b> MMMM..M.MM.M.M..MMMMMMM.MM..M.M</pre>"
      ],
      "text/plain": [
       "<IPython.core.display.HTML object>"
      ]
     },
     "metadata": {
      "tags": []
     },
     "output_type": "display_data"
    },
    {
     "name": "stdout",
     "output_type": "stream",
     "text": [
      "{'episode': 514, 'episode_length': 32, 'episode_return': -7.0}\n"
     ]
    },
    {
     "data": {
      "text/html": [
       "<b>Environment (2-back):</b><br /><pre><b>Stimuli:</b> 2551201011144320505114421201114</pre><pre><b>Actions:</b> .MM.MMMMMMM..M.MM.MMMM..MM..M..</pre>"
      ],
      "text/plain": [
       "<IPython.core.display.HTML object>"
      ]
     },
     "metadata": {
      "tags": []
     },
     "output_type": "display_data"
    },
    {
     "name": "stdout",
     "output_type": "stream",
     "text": [
      "{'episode': 515, 'episode_length': 32, 'episode_return': -1.0}\n"
     ]
    },
    {
     "data": {
      "text/html": [
       "<b>Environment (2-back):</b><br /><pre><b>Stimuli:</b> 0153255330224131204534110321543</pre><pre><b>Actions:</b> MMMMMM.MMM.MMM..MMM.M.MM..MM..M</pre>"
      ],
      "text/plain": [
       "<IPython.core.display.HTML object>"
      ]
     },
     "metadata": {
      "tags": []
     },
     "output_type": "display_data"
    },
    {
     "name": "stdout",
     "output_type": "stream",
     "text": [
      "{'episode': 516, 'episode_length': 32, 'episode_return': -13.0}\n"
     ]
    },
    {
     "data": {
      "text/html": [
       "<b>Environment (2-back):</b><br /><pre><b>Stimuli:</b> 0514010020224250423241044340021</pre><pre><b>Actions:</b> ...MM..M.MM.....M.M.MM.M..M....</pre>"
      ],
      "text/plain": [
       "<IPython.core.display.HTML object>"
      ]
     },
     "metadata": {
      "tags": []
     },
     "output_type": "display_data"
    },
    {
     "name": "stdout",
     "output_type": "stream",
     "text": [
      "{'episode': 517, 'episode_length': 32, 'episode_return': 9.0}\n"
     ]
    },
    {
     "data": {
      "text/html": [
       "<b>Environment (2-back):</b><br /><pre><b>Stimuli:</b> 4022421255253003122314110335430</pre><pre><b>Actions:</b> MMMMM..MM.....MM...MMMM...MMMMM</pre>"
      ],
      "text/plain": [
       "<IPython.core.display.HTML object>"
      ]
     },
     "metadata": {
      "tags": []
     },
     "output_type": "display_data"
    },
    {
     "name": "stdout",
     "output_type": "stream",
     "text": [
      "{'episode': 518, 'episode_length': 32, 'episode_return': -5.0}\n"
     ]
    },
    {
     "data": {
      "text/html": [
       "<b>Environment (2-back):</b><br /><pre><b>Stimuli:</b> 4233330114411450342210351424451</pre><pre><b>Actions:</b> MMM....M.MMM.....M.M.M.M.....M.</pre>"
      ],
      "text/plain": [
       "<IPython.core.display.HTML object>"
      ]
     },
     "metadata": {
      "tags": []
     },
     "output_type": "display_data"
    },
    {
     "name": "stdout",
     "output_type": "stream",
     "text": [
      "{'episode': 519, 'episode_length': 32, 'episode_return': 3.0}\n"
     ]
    },
    {
     "data": {
      "text/html": [
       "<b>Environment (2-back):</b><br /><pre><b>Stimuli:</b> 4500044424314053215314403542200</pre><pre><b>Actions:</b> ..MMM.MMMM..MM.MMMMM...MM...MMM</pre>"
      ],
      "text/plain": [
       "<IPython.core.display.HTML object>"
      ]
     },
     "metadata": {
      "tags": []
     },
     "output_type": "display_data"
    },
    {
     "name": "stdout",
     "output_type": "stream",
     "text": [
      "{'episode': 520, 'episode_length': 32, 'episode_return': -1.0}\n"
     ]
    },
    {
     "data": {
      "text/html": [
       "<b>Environment (2-back):</b><br /><pre><b>Stimuli:</b> 0214122345015110044504124355032</pre><pre><b>Actions:</b> M.MM.M.M.M.MMM..M..M...MMMM.MM.</pre>"
      ],
      "text/plain": [
       "<IPython.core.display.HTML object>"
      ]
     },
     "metadata": {
      "tags": []
     },
     "output_type": "display_data"
    },
    {
     "name": "stdout",
     "output_type": "stream",
     "text": [
      "{'episode': 521, 'episode_length': 32, 'episode_return': -3.0}\n"
     ]
    },
    {
     "data": {
      "text/html": [
       "<b>Environment (2-back):</b><br /><pre><b>Stimuli:</b> 0430421100425535335035134133421</pre><pre><b>Actions:</b> .MMMM.MMM.MM..M..M.....M.M.MM..</pre>"
      ],
      "text/plain": [
       "<IPython.core.display.HTML object>"
      ]
     },
     "metadata": {
      "tags": []
     },
     "output_type": "display_data"
    },
    {
     "name": "stdout",
     "output_type": "stream",
     "text": [
      "{'episode': 522, 'episode_length': 32, 'episode_return': -3.0}\n"
     ]
    },
    {
     "data": {
      "text/html": [
       "<b>Environment (2-back):</b><br /><pre><b>Stimuli:</b> 0040522442002251335131312004454</pre><pre><b>Actions:</b> M.MM..MM...MMMM.M....M.M...MM..</pre>"
      ],
      "text/plain": [
       "<IPython.core.display.HTML object>"
      ]
     },
     "metadata": {
      "tags": []
     },
     "output_type": "display_data"
    },
    {
     "name": "stdout",
     "output_type": "stream",
     "text": [
      "{'episode': 523, 'episode_length': 32, 'episode_return': 5.0}\n"
     ]
    },
    {
     "data": {
      "text/html": [
       "<b>Environment (2-back):</b><br /><pre><b>Stimuli:</b> 1254055104130025343244501210301</pre><pre><b>Actions:</b> .MM.M.MM.MMM....M.MMM..M.MM.M..</pre>"
      ],
      "text/plain": [
       "<IPython.core.display.HTML object>"
      ]
     },
     "metadata": {
      "tags": []
     },
     "output_type": "display_data"
    },
    {
     "name": "stdout",
     "output_type": "stream",
     "text": [
      "{'episode': 524, 'episode_length': 32, 'episode_return': -1.0}\n"
     ]
    },
    {
     "data": {
      "text/html": [
       "<b>Environment (2-back):</b><br /><pre><b>Stimuli:</b> 3205124100524231420200510100015</pre><pre><b>Actions:</b> MMMM.M.M...M.MM.MMM..M..M.M.MMM</pre>"
      ],
      "text/plain": [
       "<IPython.core.display.HTML object>"
      ]
     },
     "metadata": {
      "tags": []
     },
     "output_type": "display_data"
    },
    {
     "name": "stdout",
     "output_type": "stream",
     "text": [
      "{'episode': 525, 'episode_length': 32, 'episode_return': -5.0}\n"
     ]
    },
    {
     "data": {
      "text/html": [
       "<b>Environment (2-back):</b><br /><pre><b>Stimuli:</b> 4450522135151321440402300341322</pre><pre><b>Actions:</b> .M...MM.....M.M.M.MMMM.M.MM.MM.</pre>"
      ],
      "text/plain": [
       "<IPython.core.display.HTML object>"
      ]
     },
     "metadata": {
      "tags": []
     },
     "output_type": "display_data"
    },
    {
     "name": "stdout",
     "output_type": "stream",
     "text": [
      "{'episode': 526, 'episode_length': 32, 'episode_return': 3.0}\n"
     ]
    },
    {
     "data": {
      "text/html": [
       "<b>Environment (2-back):</b><br /><pre><b>Stimuli:</b> 3323131353340403420441505253004</pre><pre><b>Actions:</b> ..M.M..MM...MM....M.M..MM..MMM.</pre>"
      ],
      "text/plain": [
       "<IPython.core.display.HTML object>"
      ]
     },
     "metadata": {
      "tags": []
     },
     "output_type": "display_data"
    },
    {
     "name": "stdout",
     "output_type": "stream",
     "text": [
      "{'episode': 527, 'episode_length': 32, 'episode_return': -1.0}\n"
     ]
    },
    {
     "data": {
      "text/html": [
       "<b>Environment (2-back):</b><br /><pre><b>Stimuli:</b> 3453425041100320243102100232450</pre><pre><b>Actions:</b> ...M...M.MM..MMM..M...MM...M...</pre>"
      ],
      "text/plain": [
       "<IPython.core.display.HTML object>"
      ]
     },
     "metadata": {
      "tags": []
     },
     "output_type": "display_data"
    },
    {
     "name": "stdout",
     "output_type": "stream",
     "text": [
      "{'episode': 528, 'episode_length': 32, 'episode_return': 9.0}\n"
     ]
    },
    {
     "data": {
      "text/html": [
       "<b>Environment (2-back):</b><br /><pre><b>Stimuli:</b> 5132105012522331202521331432050</pre><pre><b>Actions:</b> MMMM.MM..MM.M...MM....M.M...MM.</pre>"
      ],
      "text/plain": [
       "<IPython.core.display.HTML object>"
      ]
     },
     "metadata": {
      "tags": []
     },
     "output_type": "display_data"
    },
    {
     "name": "stdout",
     "output_type": "stream",
     "text": [
      "{'episode': 529, 'episode_length': 32, 'episode_return': -9.0}\n"
     ]
    },
    {
     "data": {
      "text/html": [
       "<b>Environment (2-back):</b><br /><pre><b>Stimuli:</b> 5351210344134423042000204433344</pre><pre><b>Actions:</b> M.M.MM.MMM....M.M..M...M.M.MMMM</pre>"
      ],
      "text/plain": [
       "<IPython.core.display.HTML object>"
      ]
     },
     "metadata": {
      "tags": []
     },
     "output_type": "display_data"
    },
    {
     "name": "stdout",
     "output_type": "stream",
     "text": [
      "{'episode': 530, 'episode_length': 32, 'episode_return': 3.0}\n"
     ]
    },
    {
     "data": {
      "text/html": [
       "<b>Environment (2-back):</b><br /><pre><b>Stimuli:</b> 2033034440305454052053213544223</pre><pre><b>Actions:</b> ..MMMMMMMMMMMM.MMMMMMMM...MMMM.</pre>"
      ],
      "text/plain": [
       "<IPython.core.display.HTML object>"
      ]
     },
     "metadata": {
      "tags": []
     },
     "output_type": "display_data"
    },
    {
     "name": "stdout",
     "output_type": "stream",
     "text": [
      "{'episode': 531, 'episode_length': 32, 'episode_return': -11.0}\n"
     ]
    },
    {
     "data": {
      "text/html": [
       "<b>Environment (2-back):</b><br /><pre><b>Stimuli:</b> 3304020114215541513421322125355</pre><pre><b>Actions:</b> MMM.M.M.M.MM.M....MM.....M..M..</pre>"
      ],
      "text/plain": [
       "<IPython.core.display.HTML object>"
      ]
     },
     "metadata": {
      "tags": []
     },
     "output_type": "display_data"
    },
    {
     "name": "stdout",
     "output_type": "stream",
     "text": [
      "{'episode': 532, 'episode_length': 32, 'episode_return': 3.0}\n"
     ]
    },
    {
     "data": {
      "text/html": [
       "<b>Environment (2-back):</b><br /><pre><b>Stimuli:</b> 5532522355232511330353422243251</pre><pre><b>Actions:</b> MMM.MM.M.MM.MMMMM...MM..M..MMMM</pre>"
      ],
      "text/plain": [
       "<IPython.core.display.HTML object>"
      ]
     },
     "metadata": {
      "tags": []
     },
     "output_type": "display_data"
    },
    {
     "name": "stdout",
     "output_type": "stream",
     "text": [
      "{'episode': 533, 'episode_length': 32, 'episode_return': -5.0}\n"
     ]
    },
    {
     "data": {
      "text/html": [
       "<b>Environment (2-back):</b><br /><pre><b>Stimuli:</b> 5034524524245512203201450332542</pre><pre><b>Actions:</b> MM...M.......MMM.M..M...MMM..M.</pre>"
      ],
      "text/plain": [
       "<IPython.core.display.HTML object>"
      ]
     },
     "metadata": {
      "tags": []
     },
     "output_type": "display_data"
    },
    {
     "name": "stdout",
     "output_type": "stream",
     "text": [
      "{'episode': 534, 'episode_length': 32, 'episode_return': 3.0}\n"
     ]
    },
    {
     "data": {
      "text/html": [
       "<b>Environment (2-back):</b><br /><pre><b>Stimuli:</b> 1044325102534010052033000055303</pre><pre><b>Actions:</b> ..MM.MM...MM....M..MM..M...MMM.</pre>"
      ],
      "text/plain": [
       "<IPython.core.display.HTML object>"
      ]
     },
     "metadata": {
      "tags": []
     },
     "output_type": "display_data"
    },
    {
     "name": "stdout",
     "output_type": "stream",
     "text": [
      "{'episode': 535, 'episode_length': 32, 'episode_return': -3.0}\n"
     ]
    },
    {
     "data": {
      "text/html": [
       "<b>Environment (2-back):</b><br /><pre><b>Stimuli:</b> 4422441154035131450133335421111</pre><pre><b>Actions:</b> ..MM...MMM.MMMM.MM.M.MMM.MM.MM.</pre>"
      ],
      "text/plain": [
       "<IPython.core.display.HTML object>"
      ]
     },
     "metadata": {
      "tags": []
     },
     "output_type": "display_data"
    },
    {
     "name": "stdout",
     "output_type": "stream",
     "text": [
      "{'episode': 536, 'episode_length': 32, 'episode_return': -5.0}\n"
     ]
    },
    {
     "data": {
      "text/html": [
       "<b>Environment (2-back):</b><br /><pre><b>Stimuli:</b> 5355133232353550532515524022331</pre><pre><b>Actions:</b> MMMM..M.MMM.MM...M.M.M..MMM...M</pre>"
      ],
      "text/plain": [
       "<IPython.core.display.HTML object>"
      ]
     },
     "metadata": {
      "tags": []
     },
     "output_type": "display_data"
    },
    {
     "name": "stdout",
     "output_type": "stream",
     "text": [
      "{'episode': 537, 'episode_length': 32, 'episode_return': 9.0}\n"
     ]
    },
    {
     "data": {
      "text/html": [
       "<b>Environment (2-back):</b><br /><pre><b>Stimuli:</b> 5232005244255202053251111003514</pre><pre><b>Actions:</b> .MMMMMM..MM....MMM.MMMMMM..MM.M</pre>"
      ],
      "text/plain": [
       "<IPython.core.display.HTML object>"
      ]
     },
     "metadata": {
      "tags": []
     },
     "output_type": "display_data"
    },
    {
     "name": "stdout",
     "output_type": "stream",
     "text": [
      "{'episode': 538, 'episode_length': 32, 'episode_return': 1.0}\n"
     ]
    },
    {
     "data": {
      "text/html": [
       "<b>Environment (2-back):</b><br /><pre><b>Stimuli:</b> 0412345414220453545510410355222</pre><pre><b>Actions:</b> ..MM.MMM...M.M.MM..MM...MM.M.MM</pre>"
      ],
      "text/plain": [
       "<IPython.core.display.HTML object>"
      ]
     },
     "metadata": {
      "tags": []
     },
     "output_type": "display_data"
    },
    {
     "name": "stdout",
     "output_type": "stream",
     "text": [
      "{'episode': 539, 'episode_length': 32, 'episode_return': -1.0}\n"
     ]
    },
    {
     "data": {
      "text/html": [
       "<b>Environment (2-back):</b><br /><pre><b>Stimuli:</b> 2332245113423323110140555550514</pre><pre><b>Actions:</b> MM.MMMMMM.M.M.MM.M.M.......M.M.</pre>"
      ],
      "text/plain": [
       "<IPython.core.display.HTML object>"
      ]
     },
     "metadata": {
      "tags": []
     },
     "output_type": "display_data"
    },
    {
     "name": "stdout",
     "output_type": "stream",
     "text": [
      "{'episode': 540, 'episode_length': 32, 'episode_return': -5.0}\n"
     ]
    },
    {
     "data": {
      "text/html": [
       "<b>Environment (2-back):</b><br /><pre><b>Stimuli:</b> 1550115133054441430112054244035</pre><pre><b>Actions:</b> MMMMMM..M.M.M.MMMM.M.M.M.M..M..</pre>"
      ],
      "text/plain": [
       "<IPython.core.display.HTML object>"
      ]
     },
     "metadata": {
      "tags": []
     },
     "output_type": "display_data"
    },
    {
     "name": "stdout",
     "output_type": "stream",
     "text": [
      "{'episode': 541, 'episode_length': 32, 'episode_return': -5.0}\n"
     ]
    },
    {
     "data": {
      "text/html": [
       "<b>Environment (2-back):</b><br /><pre><b>Stimuli:</b> 2345001105043233234322051042405</pre><pre><b>Actions:</b> .M.MM..M.MM.MMM...M.MMM...MM.M.</pre>"
      ],
      "text/plain": [
       "<IPython.core.display.HTML object>"
      ]
     },
     "metadata": {
      "tags": []
     },
     "output_type": "display_data"
    },
    {
     "name": "stdout",
     "output_type": "stream",
     "text": [
      "{'episode': 542, 'episode_length': 32, 'episode_return': -3.0}\n"
     ]
    },
    {
     "data": {
      "text/html": [
       "<b>Environment (2-back):</b><br /><pre><b>Stimuli:</b> 3125332204032452211550251530300</pre><pre><b>Actions:</b> MMM..MMMMM.MM..M....MM.MMM.....</pre>"
      ],
      "text/plain": [
       "<IPython.core.display.HTML object>"
      ]
     },
     "metadata": {
      "tags": []
     },
     "output_type": "display_data"
    },
    {
     "name": "stdout",
     "output_type": "stream",
     "text": [
      "{'episode': 543, 'episode_length': 32, 'episode_return': -5.0}\n"
     ]
    },
    {
     "data": {
      "text/html": [
       "<b>Environment (2-back):</b><br /><pre><b>Stimuli:</b> 1210230000002554102324133455311</pre><pre><b>Actions:</b> MM.M..M.M.M.MMM...M.MMM...MM.MM</pre>"
      ],
      "text/plain": [
       "<IPython.core.display.HTML object>"
      ]
     },
     "metadata": {
      "tags": []
     },
     "output_type": "display_data"
    },
    {
     "name": "stdout",
     "output_type": "stream",
     "text": [
      "{'episode': 544, 'episode_length': 32, 'episode_return': -1.0}\n"
     ]
    },
    {
     "data": {
      "text/html": [
       "<b>Environment (2-back):</b><br /><pre><b>Stimuli:</b> 1314054110413153452450503445222</pre><pre><b>Actions:</b> MM...MMM.MMMM..MM...M.M.M.M..MM</pre>"
      ],
      "text/plain": [
       "<IPython.core.display.HTML object>"
      ]
     },
     "metadata": {
      "tags": []
     },
     "output_type": "display_data"
    },
    {
     "name": "stdout",
     "output_type": "stream",
     "text": [
      "{'episode': 545, 'episode_length': 32, 'episode_return': -5.0}\n"
     ]
    },
    {
     "data": {
      "text/html": [
       "<b>Environment (2-back):</b><br /><pre><b>Stimuli:</b> 2033355440353443434343555401105</pre><pre><b>Actions:</b> ....MM...M.M..MM..MMMM..MMM...M</pre>"
      ],
      "text/plain": [
       "<IPython.core.display.HTML object>"
      ]
     },
     "metadata": {
      "tags": []
     },
     "output_type": "display_data"
    },
    {
     "name": "stdout",
     "output_type": "stream",
     "text": [
      "{'episode': 546, 'episode_length': 32, 'episode_return': 9.0}\n"
     ]
    },
    {
     "data": {
      "text/html": [
       "<b>Environment (2-back):</b><br /><pre><b>Stimuli:</b> 3451443503322304312053213334441</pre><pre><b>Actions:</b> M.M..M.MMM.M....MM.MM..MM.M.M..</pre>"
      ],
      "text/plain": [
       "<IPython.core.display.HTML object>"
      ]
     },
     "metadata": {
      "tags": []
     },
     "output_type": "display_data"
    },
    {
     "name": "stdout",
     "output_type": "stream",
     "text": [
      "{'episode': 547, 'episode_length': 32, 'episode_return': 1.0}\n"
     ]
    },
    {
     "data": {
      "text/html": [
       "<b>Environment (2-back):</b><br /><pre><b>Stimuli:</b> 4524400114253055043250130242210</pre><pre><b>Actions:</b> .M.M..MM...M...MMMMM..MM.MM.MM.</pre>"
      ],
      "text/plain": [
       "<IPython.core.display.HTML object>"
      ]
     },
     "metadata": {
      "tags": []
     },
     "output_type": "display_data"
    },
    {
     "name": "stdout",
     "output_type": "stream",
     "text": [
      "{'episode': 548, 'episode_length': 32, 'episode_return': -3.0}\n"
     ]
    },
    {
     "data": {
      "text/html": [
       "<b>Environment (2-back):</b><br /><pre><b>Stimuli:</b> 2400554111134124044051225411203</pre><pre><b>Actions:</b> .MM..MM.........M..MMMMMMM.MM..</pre>"
      ],
      "text/plain": [
       "<IPython.core.display.HTML object>"
      ]
     },
     "metadata": {
      "tags": []
     },
     "output_type": "display_data"
    },
    {
     "name": "stdout",
     "output_type": "stream",
     "text": [
      "{'episode': 549, 'episode_length': 32, 'episode_return': -3.0}\n"
     ]
    },
    {
     "data": {
      "text/html": [
       "<b>Environment (2-back):</b><br /><pre><b>Stimuli:</b> 3451303153011131122142040313311</pre><pre><b>Actions:</b> M.MMM..MM.MM.MM.M.MMMM...M.....</pre>"
      ],
      "text/plain": [
       "<IPython.core.display.HTML object>"
      ]
     },
     "metadata": {
      "tags": []
     },
     "output_type": "display_data"
    },
    {
     "name": "stdout",
     "output_type": "stream",
     "text": [
      "{'episode': 550, 'episode_length': 32, 'episode_return': -7.0}\n"
     ]
    },
    {
     "data": {
      "text/html": [
       "<b>Environment (2-back):</b><br /><pre><b>Stimuli:</b> 1414441310550202414414243312205</pre><pre><b>Actions:</b> ...M.MM.MM.M...M.MMMM.M.M.M..MM</pre>"
      ],
      "text/plain": [
       "<IPython.core.display.HTML object>"
      ]
     },
     "metadata": {
      "tags": []
     },
     "output_type": "display_data"
    },
    {
     "name": "stdout",
     "output_type": "stream",
     "text": [
      "{'episode': 551, 'episode_length': 32, 'episode_return': 1.0}\n"
     ]
    },
    {
     "data": {
      "text/html": [
       "<b>Environment (2-back):</b><br /><pre><b>Stimuli:</b> 3344135450304342130243341541335</pre><pre><b>Actions:</b> MM.M.M...M.....M.M....M.MM.MM..</pre>"
      ],
      "text/plain": [
       "<IPython.core.display.HTML object>"
      ]
     },
     "metadata": {
      "tags": []
     },
     "output_type": "display_data"
    },
    {
     "name": "stdout",
     "output_type": "stream",
     "text": [
      "{'episode': 552, 'episode_length': 32, 'episode_return': 1.0}\n"
     ]
    },
    {
     "data": {
      "text/html": [
       "<b>Environment (2-back):</b><br /><pre><b>Stimuli:</b> 3213344330034355442404452115520</pre><pre><b>Actions:</b> M......M.MMM.M.MM.MM...MMM.MMM.</pre>"
      ],
      "text/plain": [
       "<IPython.core.display.HTML object>"
      ]
     },
     "metadata": {
      "tags": []
     },
     "output_type": "display_data"
    },
    {
     "name": "stdout",
     "output_type": "stream",
     "text": [
      "{'episode': 553, 'episode_length': 32, 'episode_return': 1.0}\n"
     ]
    },
    {
     "data": {
      "text/html": [
       "<b>Environment (2-back):</b><br /><pre><b>Stimuli:</b> 5503302015251530525020411341130</pre><pre><b>Actions:</b> .MM..M...M..MMMM.MM..MMM.MMM...</pre>"
      ],
      "text/plain": [
       "<IPython.core.display.HTML object>"
      ]
     },
     "metadata": {
      "tags": []
     },
     "output_type": "display_data"
    },
    {
     "name": "stdout",
     "output_type": "stream",
     "text": [
      "{'episode': 554, 'episode_length': 32, 'episode_return': 1.0}\n"
     ]
    },
    {
     "data": {
      "text/html": [
       "<b>Environment (2-back):</b><br /><pre><b>Stimuli:</b> 5154334121225303451030512223450</pre><pre><b>Actions:</b> M..MM.MMM.M.MMM......M.MMM..M.M</pre>"
      ],
      "text/plain": [
       "<IPython.core.display.HTML object>"
      ]
     },
     "metadata": {
      "tags": []
     },
     "output_type": "display_data"
    },
    {
     "name": "stdout",
     "output_type": "stream",
     "text": [
      "{'episode': 555, 'episode_length': 32, 'episode_return': -5.0}\n"
     ]
    },
    {
     "data": {
      "text/html": [
       "<b>Environment (2-back):</b><br /><pre><b>Stimuli:</b> 5032205102515045135554451141522</pre><pre><b>Actions:</b> .M..M....M...MMMMM...M.MMM..MMM</pre>"
      ],
      "text/plain": [
       "<IPython.core.display.HTML object>"
      ]
     },
     "metadata": {
      "tags": []
     },
     "output_type": "display_data"
    },
    {
     "name": "stdout",
     "output_type": "stream",
     "text": [
      "{'episode': 556, 'episode_length': 32, 'episode_return': -5.0}\n"
     ]
    },
    {
     "data": {
      "text/html": [
       "<b>Environment (2-back):</b><br /><pre><b>Stimuli:</b> 4431035131013014220520123301144</pre><pre><b>Actions:</b> MMMMM.M.MMM.....MM..M.MMMMM....</pre>"
      ],
      "text/plain": [
       "<IPython.core.display.HTML object>"
      ]
     },
     "metadata": {
      "tags": []
     },
     "output_type": "display_data"
    },
    {
     "name": "stdout",
     "output_type": "stream",
     "text": [
      "{'episode': 557, 'episode_length': 32, 'episode_return': -1.0}\n"
     ]
    },
    {
     "data": {
      "text/html": [
       "<b>Environment (2-back):</b><br /><pre><b>Stimuli:</b> 4154145422310011213335531113253</pre><pre><b>Actions:</b> MMMM.M.M.MM..MMM.....M.M.MMMMMM</pre>"
      ],
      "text/plain": [
       "<IPython.core.display.HTML object>"
      ]
     },
     "metadata": {
      "tags": []
     },
     "output_type": "display_data"
    },
    {
     "name": "stdout",
     "output_type": "stream",
     "text": [
      "{'episode': 558, 'episode_length': 32, 'episode_return': -5.0}\n"
     ]
    },
    {
     "data": {
      "text/html": [
       "<b>Environment (2-back):</b><br /><pre><b>Stimuli:</b> 4221514015015155421001124205432</pre><pre><b>Actions:</b> ..MM..MM.MM.M....MMM.M........M</pre>"
      ],
      "text/plain": [
       "<IPython.core.display.HTML object>"
      ]
     },
     "metadata": {
      "tags": []
     },
     "output_type": "display_data"
    },
    {
     "name": "stdout",
     "output_type": "stream",
     "text": [
      "{'episode': 559, 'episode_length': 32, 'episode_return': -1.0}\n"
     ]
    },
    {
     "data": {
      "text/html": [
       "<b>Environment (2-back):</b><br /><pre><b>Stimuli:</b> 4322423441412535033253245012015</pre><pre><b>Actions:</b> .MM.MM.......M.M...MM..M.M..MMM</pre>"
      ],
      "text/plain": [
       "<IPython.core.display.HTML object>"
      ]
     },
     "metadata": {
      "tags": []
     },
     "output_type": "display_data"
    },
    {
     "name": "stdout",
     "output_type": "stream",
     "text": [
      "{'episode': 560, 'episode_length': 32, 'episode_return': 7.0}\n"
     ]
    },
    {
     "data": {
      "text/html": [
       "<b>Environment (2-back):</b><br /><pre><b>Stimuli:</b> 0040244144045553332420122343100</pre><pre><b>Actions:</b> .MMMM.MM.M...MM.MMMM....M.MMMMM</pre>"
      ],
      "text/plain": [
       "<IPython.core.display.HTML object>"
      ]
     },
     "metadata": {
      "tags": []
     },
     "output_type": "display_data"
    },
    {
     "name": "stdout",
     "output_type": "stream",
     "text": [
      "{'episode': 561, 'episode_length': 32, 'episode_return': -7.0}\n"
     ]
    },
    {
     "data": {
      "text/html": [
       "<b>Environment (2-back):</b><br /><pre><b>Stimuli:</b> 2435253221311313441423030210133</pre><pre><b>Actions:</b> MMM..M.MM...MM.MMM.MM.M...M.MM.</pre>"
      ],
      "text/plain": [
       "<IPython.core.display.HTML object>"
      ]
     },
     "metadata": {
      "tags": []
     },
     "output_type": "display_data"
    },
    {
     "name": "stdout",
     "output_type": "stream",
     "text": [
      "{'episode': 562, 'episode_length': 32, 'episode_return': -1.0}\n"
     ]
    },
    {
     "data": {
      "text/html": [
       "<b>Environment (2-back):</b><br /><pre><b>Stimuli:</b> 4342134130220214511022443033204</pre><pre><b>Actions:</b> MM..MM..M.MMM.MMM.MMMM.MMMMMM.M</pre>"
      ],
      "text/plain": [
       "<IPython.core.display.HTML object>"
      ]
     },
     "metadata": {
      "tags": []
     },
     "output_type": "display_data"
    },
    {
     "name": "stdout",
     "output_type": "stream",
     "text": [
      "{'episode': 563, 'episode_length': 32, 'episode_return': -13.0}\n"
     ]
    },
    {
     "data": {
      "text/html": [
       "<b>Environment (2-back):</b><br /><pre><b>Stimuli:</b> 2410053352053042353021245453433</pre><pre><b>Actions:</b> MMMMM..M.MMM..MM.M.M.M....M...M</pre>"
      ],
      "text/plain": [
       "<IPython.core.display.HTML object>"
      ]
     },
     "metadata": {
      "tags": []
     },
     "output_type": "display_data"
    },
    {
     "name": "stdout",
     "output_type": "stream",
     "text": [
      "{'episode': 564, 'episode_length': 32, 'episode_return': -7.0}\n"
     ]
    },
    {
     "data": {
      "text/html": [
       "<b>Environment (2-back):</b><br /><pre><b>Stimuli:</b> 5250342520220451042024024125050</pre><pre><b>Actions:</b> M...M.MMM.M..M..MMMMM...M.MMMMM</pre>"
      ],
      "text/plain": [
       "<IPython.core.display.HTML object>"
      ]
     },
     "metadata": {
      "tags": []
     },
     "output_type": "display_data"
    },
    {
     "name": "stdout",
     "output_type": "stream",
     "text": [
      "{'episode': 565, 'episode_length': 32, 'episode_return': 3.0}\n"
     ]
    },
    {
     "data": {
      "text/html": [
       "<b>Environment (2-back):</b><br /><pre><b>Stimuli:</b> 2013431223024133354003441500105</pre><pre><b>Actions:</b> .M.M.MMMMMMMM.MM..MMMM.M.M.MM..</pre>"
      ],
      "text/plain": [
       "<IPython.core.display.HTML object>"
      ]
     },
     "metadata": {
      "tags": []
     },
     "output_type": "display_data"
    },
    {
     "name": "stdout",
     "output_type": "stream",
     "text": [
      "{'episode': 566, 'episode_length': 32, 'episode_return': -11.0}\n"
     ]
    },
    {
     "data": {
      "text/html": [
       "<b>Environment (2-back):</b><br /><pre><b>Stimuli:</b> 1351425212054153215435202452444</pre><pre><b>Actions:</b> ......M.M.MM..MMM..MMMM.M.M.M.M</pre>"
      ],
      "text/plain": [
       "<IPython.core.display.HTML object>"
      ]
     },
     "metadata": {
      "tags": []
     },
     "output_type": "display_data"
    },
    {
     "name": "stdout",
     "output_type": "stream",
     "text": [
      "{'episode': 567, 'episode_length': 32, 'episode_return': 1.0}\n"
     ]
    },
    {
     "data": {
      "text/html": [
       "<b>Environment (2-back):</b><br /><pre><b>Stimuli:</b> 5034552200402514003511024531111</pre><pre><b>Actions:</b> ..MMM.M...M...MMM.M.M..MMMM.MM.</pre>"
      ],
      "text/plain": [
       "<IPython.core.display.HTML object>"
      ]
     },
     "metadata": {
      "tags": []
     },
     "output_type": "display_data"
    },
    {
     "name": "stdout",
     "output_type": "stream",
     "text": [
      "{'episode': 568, 'episode_length': 32, 'episode_return': -3.0}\n"
     ]
    },
    {
     "data": {
      "text/html": [
       "<b>Environment (2-back):</b><br /><pre><b>Stimuli:</b> 4155003110350504504321152140122</pre><pre><b>Actions:</b> M...M.MM.M.MMMMM...MMM..M.MMMMM</pre>"
      ],
      "text/plain": [
       "<IPython.core.display.HTML object>"
      ]
     },
     "metadata": {
      "tags": []
     },
     "output_type": "display_data"
    },
    {
     "name": "stdout",
     "output_type": "stream",
     "text": [
      "{'episode': 569, 'episode_length': 32, 'episode_return': -5.0}\n"
     ]
    },
    {
     "data": {
      "text/html": [
       "<b>Environment (2-back):</b><br /><pre><b>Stimuli:</b> 1350042521442110453100331434343</pre><pre><b>Actions:</b> MM...M.M.M......MM.M..M..MMM.MM</pre>"
      ],
      "text/plain": [
       "<IPython.core.display.HTML object>"
      ]
     },
     "metadata": {
      "tags": []
     },
     "output_type": "display_data"
    },
    {
     "name": "stdout",
     "output_type": "stream",
     "text": [
      "{'episode': 570, 'episode_length': 32, 'episode_return': 7.0}\n"
     ]
    },
    {
     "data": {
      "text/html": [
       "<b>Environment (2-back):</b><br /><pre><b>Stimuli:</b> 4124431040102120040124510545550</pre><pre><b>Actions:</b> .MM.M.MMMM.MM.M.M..MM.M.MM.M..M</pre>"
      ],
      "text/plain": [
       "<IPython.core.display.HTML object>"
      ]
     },
     "metadata": {
      "tags": []
     },
     "output_type": "display_data"
    },
    {
     "name": "stdout",
     "output_type": "stream",
     "text": [
      "{'episode': 571, 'episode_length': 32, 'episode_return': -1.0}\n"
     ]
    },
    {
     "data": {
      "text/html": [
       "<b>Environment (2-back):</b><br /><pre><b>Stimuli:</b> 1222403033434124544451303014424</pre><pre><b>Actions:</b> MM...M.....MMMMM......M..MMMMMM</pre>"
      ],
      "text/plain": [
       "<IPython.core.display.HTML object>"
      ]
     },
     "metadata": {
      "tags": []
     },
     "output_type": "display_data"
    },
    {
     "name": "stdout",
     "output_type": "stream",
     "text": [
      "{'episode': 572, 'episode_length': 32, 'episode_return': -3.0}\n"
     ]
    },
    {
     "data": {
      "text/html": [
       "<b>Environment (2-back):</b><br /><pre><b>Stimuli:</b> 5555353150553004045025002135412</pre><pre><b>Actions:</b> .M.MM...M.MM.M.M..M.MM..MMMMM..</pre>"
      ],
      "text/plain": [
       "<IPython.core.display.HTML object>"
      ]
     },
     "metadata": {
      "tags": []
     },
     "output_type": "display_data"
    },
    {
     "name": "stdout",
     "output_type": "stream",
     "text": [
      "{'episode': 573, 'episode_length': 32, 'episode_return': -5.0}\n"
     ]
    },
    {
     "data": {
      "text/html": [
       "<b>Environment (2-back):</b><br /><pre><b>Stimuli:</b> 4554314520245042243104153502121</pre><pre><b>Actions:</b> MMMMM.M..MM.M...MM..M..M.M..M..</pre>"
      ],
      "text/plain": [
       "<IPython.core.display.HTML object>"
      ]
     },
     "metadata": {
      "tags": []
     },
     "output_type": "display_data"
    },
    {
     "name": "stdout",
     "output_type": "stream",
     "text": [
      "{'episode': 574, 'episode_length': 32, 'episode_return': 1.0}\n"
     ]
    },
    {
     "data": {
      "text/html": [
       "<b>Environment (2-back):</b><br /><pre><b>Stimuli:</b> 4131042242054014010441340435213</pre><pre><b>Actions:</b> M..M.MM..M.M........M..MM.MM..M</pre>"
      ],
      "text/plain": [
       "<IPython.core.display.HTML object>"
      ]
     },
     "metadata": {
      "tags": []
     },
     "output_type": "display_data"
    },
    {
     "name": "stdout",
     "output_type": "stream",
     "text": [
      "{'episode': 575, 'episode_length': 32, 'episode_return': 7.0}\n"
     ]
    },
    {
     "data": {
      "text/html": [
       "<b>Environment (2-back):</b><br /><pre><b>Stimuli:</b> 1322411415342320352452210001513</pre><pre><b>Actions:</b> MM...MMM..M..MM....MMMM.MM.MM..</pre>"
      ],
      "text/plain": [
       "<IPython.core.display.HTML object>"
      ]
     },
     "metadata": {
      "tags": []
     },
     "output_type": "display_data"
    },
    {
     "name": "stdout",
     "output_type": "stream",
     "text": [
      "{'episode': 576, 'episode_length': 32, 'episode_return': -5.0}\n"
     ]
    },
    {
     "data": {
      "text/html": [
       "<b>Environment (2-back):</b><br /><pre><b>Stimuli:</b> 0515512440544330505350113042532</pre><pre><b>Actions:</b> ..M.M.MM.MMMM.M.M..M..M.MM..MMM</pre>"
      ],
      "text/plain": [
       "<IPython.core.display.HTML object>"
      ]
     },
     "metadata": {
      "tags": []
     },
     "output_type": "display_data"
    },
    {
     "name": "stdout",
     "output_type": "stream",
     "text": [
      "{'episode': 577, 'episode_length': 32, 'episode_return': -11.0}\n"
     ]
    },
    {
     "data": {
      "text/html": [
       "<b>Environment (2-back):</b><br /><pre><b>Stimuli:</b> 1015451011350251511503014542352</pre><pre><b>Actions:</b> MMMMMMM...MM..MM.M.....MMMM...M</pre>"
      ],
      "text/plain": [
       "<IPython.core.display.HTML object>"
      ]
     },
     "metadata": {
      "tags": []
     },
     "output_type": "display_data"
    },
    {
     "name": "stdout",
     "output_type": "stream",
     "text": [
      "{'episode': 578, 'episode_length': 32, 'episode_return': -1.0}\n"
     ]
    },
    {
     "data": {
      "text/html": [
       "<b>Environment (2-back):</b><br /><pre><b>Stimuli:</b> 3244501024413554354045021401022</pre><pre><b>Actions:</b> M.M..M...M.M..M.MMM.MM....MMMMM</pre>"
      ],
      "text/plain": [
       "<IPython.core.display.HTML object>"
      ]
     },
     "metadata": {
      "tags": []
     },
     "output_type": "display_data"
    },
    {
     "name": "stdout",
     "output_type": "stream",
     "text": [
      "{'episode': 579, 'episode_length': 32, 'episode_return': 1.0}\n"
     ]
    },
    {
     "data": {
      "text/html": [
       "<b>Environment (2-back):</b><br /><pre><b>Stimuli:</b> 3034244013255003045552500553041</pre><pre><b>Actions:</b> .MM.M...MMMMM.....MM.M.MMM.MMMM</pre>"
      ],
      "text/plain": [
       "<IPython.core.display.HTML object>"
      ]
     },
     "metadata": {
      "tags": []
     },
     "output_type": "display_data"
    },
    {
     "name": "stdout",
     "output_type": "stream",
     "text": [
      "{'episode': 580, 'episode_length': 32, 'episode_return': -11.0}\n"
     ]
    },
    {
     "data": {
      "text/html": [
       "<b>Environment (2-back):</b><br /><pre><b>Stimuli:</b> 4245142552533430503352325350434</pre><pre><b>Actions:</b> M.MM.M.MM.M.M.MM...M.M.M....MMM</pre>"
      ],
      "text/plain": [
       "<IPython.core.display.HTML object>"
      ]
     },
     "metadata": {
      "tags": []
     },
     "output_type": "display_data"
    },
    {
     "name": "stdout",
     "output_type": "stream",
     "text": [
      "{'episode': 581, 'episode_length': 32, 'episode_return': 7.0}\n"
     ]
    },
    {
     "data": {
      "text/html": [
       "<b>Environment (2-back):</b><br /><pre><b>Stimuli:</b> 4451144441042115534514111434245</pre><pre><b>Actions:</b> M.........M..M.MMMMM.M..M....M.</pre>"
      ],
      "text/plain": [
       "<IPython.core.display.HTML object>"
      ]
     },
     "metadata": {
      "tags": []
     },
     "output_type": "display_data"
    },
    {
     "name": "stdout",
     "output_type": "stream",
     "text": [
      "{'episode': 582, 'episode_length': 32, 'episode_return': 5.0}\n"
     ]
    },
    {
     "data": {
      "text/html": [
       "<b>Environment (2-back):</b><br /><pre><b>Stimuli:</b> 3510441550550244202051130551315</pre><pre><b>Actions:</b> .M.M..MMM.M.M.M.M.MMM...MMM.MMM</pre>"
      ],
      "text/plain": [
       "<IPython.core.display.HTML object>"
      ]
     },
     "metadata": {
      "tags": []
     },
     "output_type": "display_data"
    },
    {
     "name": "stdout",
     "output_type": "stream",
     "text": [
      "{'episode': 583, 'episode_length': 32, 'episode_return': 3.0}\n"
     ]
    },
    {
     "data": {
      "text/html": [
       "<b>Environment (2-back):</b><br /><pre><b>Stimuli:</b> 0110214201523451512010011541204</pre><pre><b>Actions:</b> M...MM.M.M.MM...M.M..M.M..M....</pre>"
      ],
      "text/plain": [
       "<IPython.core.display.HTML object>"
      ]
     },
     "metadata": {
      "tags": []
     },
     "output_type": "display_data"
    },
    {
     "name": "stdout",
     "output_type": "stream",
     "text": [
      "{'episode': 584, 'episode_length': 32, 'episode_return': 9.0}\n"
     ]
    },
    {
     "data": {
      "text/html": [
       "<b>Environment (2-back):</b><br /><pre><b>Stimuli:</b> 0021205512122452224245033145235</pre><pre><b>Actions:</b> MMMMMM..MM...MMMMMMMM..MMMMMM.M</pre>"
      ],
      "text/plain": [
       "<IPython.core.display.HTML object>"
      ]
     },
     "metadata": {
      "tags": []
     },
     "output_type": "display_data"
    },
    {
     "name": "stdout",
     "output_type": "stream",
     "text": [
      "{'episode': 585, 'episode_length': 32, 'episode_return': -11.0}\n"
     ]
    },
    {
     "data": {
      "text/html": [
       "<b>Environment (2-back):</b><br /><pre><b>Stimuli:</b> 1301053001000202541220043452551</pre><pre><b>Actions:</b> ..MM..M...MMM.M.MM..M.MMMMMMM.M</pre>"
      ],
      "text/plain": [
       "<IPython.core.display.HTML object>"
      ]
     },
     "metadata": {
      "tags": []
     },
     "output_type": "display_data"
    },
    {
     "name": "stdout",
     "output_type": "stream",
     "text": [
      "{'episode': 586, 'episode_length': 32, 'episode_return': -3.0}\n"
     ]
    },
    {
     "data": {
      "text/html": [
       "<b>Environment (2-back):</b><br /><pre><b>Stimuli:</b> 2001520400234155242241230031015</pre><pre><b>Actions:</b> M.M.MM.M.M..M.MM.M...M.MM..MMM.</pre>"
      ],
      "text/plain": [
       "<IPython.core.display.HTML object>"
      ]
     },
     "metadata": {
      "tags": []
     },
     "output_type": "display_data"
    },
    {
     "name": "stdout",
     "output_type": "stream",
     "text": [
      "{'episode': 587, 'episode_length': 32, 'episode_return': -3.0}\n"
     ]
    },
    {
     "data": {
      "text/html": [
       "<b>Environment (2-back):</b><br /><pre><b>Stimuli:</b> 0115352323010553445112152550523</pre><pre><b>Actions:</b> MM....M..MM.......M...M.MMMM..M</pre>"
      ],
      "text/plain": [
       "<IPython.core.display.HTML object>"
      ]
     },
     "metadata": {
      "tags": []
     },
     "output_type": "display_data"
    },
    {
     "name": "stdout",
     "output_type": "stream",
     "text": [
      "{'episode': 588, 'episode_length': 32, 'episode_return': 5.0}\n"
     ]
    },
    {
     "data": {
      "text/html": [
       "<b>Environment (2-back):</b><br /><pre><b>Stimuli:</b> 3401211102323402523003512444055</pre><pre><b>Actions:</b> M.MM..MM.MM....M.MM...M......MM</pre>"
      ],
      "text/plain": [
       "<IPython.core.display.HTML object>"
      ]
     },
     "metadata": {
      "tags": []
     },
     "output_type": "display_data"
    },
    {
     "name": "stdout",
     "output_type": "stream",
     "text": [
      "{'episode': 589, 'episode_length': 32, 'episode_return': 1.0}\n"
     ]
    },
    {
     "data": {
      "text/html": [
       "<b>Environment (2-back):</b><br /><pre><b>Stimuli:</b> 0400340101545003423454323100022</pre><pre><b>Actions:</b> M...MMM...M.MM.M.....MMM.M..MM.</pre>"
      ],
      "text/plain": [
       "<IPython.core.display.HTML object>"
      ]
     },
     "metadata": {
      "tags": []
     },
     "output_type": "display_data"
    },
    {
     "name": "stdout",
     "output_type": "stream",
     "text": [
      "{'episode': 590, 'episode_length': 32, 'episode_return': 1.0}\n"
     ]
    },
    {
     "data": {
      "text/html": [
       "<b>Environment (2-back):</b><br /><pre><b>Stimuli:</b> 0110344503035320002333445033015</pre><pre><b>Actions:</b> ...M.MM..MM..M...M...MM...MMM.M</pre>"
      ],
      "text/plain": [
       "<IPython.core.display.HTML object>"
      ]
     },
     "metadata": {
      "tags": []
     },
     "output_type": "display_data"
    },
    {
     "name": "stdout",
     "output_type": "stream",
     "text": [
      "{'episode': 591, 'episode_length': 32, 'episode_return': 11.0}\n"
     ]
    },
    {
     "data": {
      "text/html": [
       "<b>Environment (2-back):</b><br /><pre><b>Stimuli:</b> 1433150442212225423033040355004</pre><pre><b>Actions:</b> ..M..MM.M..MMMMMMMMMM..M.M.MMMM</pre>"
      ],
      "text/plain": [
       "<IPython.core.display.HTML object>"
      ]
     },
     "metadata": {
      "tags": []
     },
     "output_type": "display_data"
    },
    {
     "name": "stdout",
     "output_type": "stream",
     "text": [
      "{'episode': 592, 'episode_length': 32, 'episode_return': -5.0}\n"
     ]
    },
    {
     "data": {
      "text/html": [
       "<b>Environment (2-back):</b><br /><pre><b>Stimuli:</b> 0341001025053025342222023134530</pre><pre><b>Actions:</b> MMMMM.M...M..MM..MMMMMMMM.MMMM.</pre>"
      ],
      "text/plain": [
       "<IPython.core.display.HTML object>"
      ]
     },
     "metadata": {
      "tags": []
     },
     "output_type": "display_data"
    },
    {
     "name": "stdout",
     "output_type": "stream",
     "text": [
      "{'episode': 593, 'episode_length': 32, 'episode_return': -5.0}\n"
     ]
    },
    {
     "data": {
      "text/html": [
       "<b>Environment (2-back):</b><br /><pre><b>Stimuli:</b> 4453431425121023042154220533102</pre><pre><b>Actions:</b> MMMMMMMM..MMMM..M..MM...M.M.M.M</pre>"
      ],
      "text/plain": [
       "<IPython.core.display.HTML object>"
      ]
     },
     "metadata": {
      "tags": []
     },
     "output_type": "display_data"
    },
    {
     "name": "stdout",
     "output_type": "stream",
     "text": [
      "{'episode': 594, 'episode_length': 32, 'episode_return': -3.0}\n"
     ]
    },
    {
     "data": {
      "text/html": [
       "<b>Environment (2-back):</b><br /><pre><b>Stimuli:</b> 5334305103343511325413545154120</pre><pre><b>Actions:</b> .M.MMMMM...MM...M..MM....M.MM.M</pre>"
      ],
      "text/plain": [
       "<IPython.core.display.HTML object>"
      ]
     },
     "metadata": {
      "tags": []
     },
     "output_type": "display_data"
    },
    {
     "name": "stdout",
     "output_type": "stream",
     "text": [
      "{'episode': 595, 'episode_length': 32, 'episode_return': 1.0}\n"
     ]
    },
    {
     "data": {
      "text/html": [
       "<b>Environment (2-back):</b><br /><pre><b>Stimuli:</b> 4330043043112522341314130132120</pre><pre><b>Actions:</b> MM..MM.MM.MM.M.M..MM.MMM....MMM</pre>"
      ],
      "text/plain": [
       "<IPython.core.display.HTML object>"
      ]
     },
     "metadata": {
      "tags": []
     },
     "output_type": "display_data"
    },
    {
     "name": "stdout",
     "output_type": "stream",
     "text": [
      "{'episode': 596, 'episode_length': 32, 'episode_return': -5.0}\n"
     ]
    },
    {
     "data": {
      "text/html": [
       "<b>Environment (2-back):</b><br /><pre><b>Stimuli:</b> 4143053401551111112025233151545</pre><pre><b>Actions:</b> M.M..MMMM.MMM...M.M..M..M.MMMM.</pre>"
      ],
      "text/plain": [
       "<IPython.core.display.HTML object>"
      ]
     },
     "metadata": {
      "tags": []
     },
     "output_type": "display_data"
    },
    {
     "name": "stdout",
     "output_type": "stream",
     "text": [
      "{'episode': 597, 'episode_length': 32, 'episode_return': -7.0}\n"
     ]
    },
    {
     "data": {
      "text/html": [
       "<b>Environment (2-back):</b><br /><pre><b>Stimuli:</b> 5344331505101105402322312153323</pre><pre><b>Actions:</b> .M..M.M....MMMM.M..M.MMM..M.M..</pre>"
      ],
      "text/plain": [
       "<IPython.core.display.HTML object>"
      ]
     },
     "metadata": {
      "tags": []
     },
     "output_type": "display_data"
    },
    {
     "name": "stdout",
     "output_type": "stream",
     "text": [
      "{'episode': 598, 'episode_length': 32, 'episode_return': -3.0}\n"
     ]
    },
    {
     "data": {
      "text/html": [
       "<b>Environment (2-back):</b><br /><pre><b>Stimuli:</b> 4315502132435233203153041525214</pre><pre><b>Actions:</b> ....MMM..M...M.MM.MM.MMMM.M....</pre>"
      ],
      "text/plain": [
       "<IPython.core.display.HTML object>"
      ]
     },
     "metadata": {
      "tags": []
     },
     "output_type": "display_data"
    },
    {
     "name": "stdout",
     "output_type": "stream",
     "text": [
      "{'episode': 599, 'episode_length': 32, 'episode_return': -3.0}\n"
     ]
    },
    {
     "data": {
      "text/html": [
       "<b>Environment (2-back):</b><br /><pre><b>Stimuli:</b> 3442352551042544210523522541535</pre><pre><b>Actions:</b> .MM..MMMMM.MMMMMM..MM.M.MM..M..</pre>"
      ],
      "text/plain": [
       "<IPython.core.display.HTML object>"
      ]
     },
     "metadata": {
      "tags": []
     },
     "output_type": "display_data"
    },
    {
     "name": "stdout",
     "output_type": "stream",
     "text": [
      "{'episode': 600, 'episode_length': 32, 'episode_return': -5.0}\n"
     ]
    },
    {
     "data": {
      "text/html": [
       "<b>Environment (2-back):</b><br /><pre><b>Stimuli:</b> 1500442023421251520324351101454</pre><pre><b>Actions:</b> ..MMMMM...M.MM......MM.....MMMM</pre>"
      ],
      "text/plain": [
       "<IPython.core.display.HTML object>"
      ]
     },
     "metadata": {
      "tags": []
     },
     "output_type": "display_data"
    },
    {
     "name": "stdout",
     "output_type": "stream",
     "text": [
      "{'episode': 601, 'episode_length': 32, 'episode_return': 5.0}\n"
     ]
    },
    {
     "data": {
      "text/html": [
       "<b>Environment (2-back):</b><br /><pre><b>Stimuli:</b> 1154455353554412103412354140143</pre><pre><b>Actions:</b> .MM.MM.M.MM..MMMM......MMM..M..</pre>"
      ],
      "text/plain": [
       "<IPython.core.display.HTML object>"
      ]
     },
     "metadata": {
      "tags": []
     },
     "output_type": "display_data"
    },
    {
     "name": "stdout",
     "output_type": "stream",
     "text": [
      "{'episode': 602, 'episode_length': 32, 'episode_return': 5.0}\n"
     ]
    },
    {
     "data": {
      "text/html": [
       "<b>Environment (2-back):</b><br /><pre><b>Stimuli:</b> 2203114202414444440011024535151</pre><pre><b>Actions:</b> MMM...MM......M.......M....MM..</pre>"
      ],
      "text/plain": [
       "<IPython.core.display.HTML object>"
      ]
     },
     "metadata": {
      "tags": []
     },
     "output_type": "display_data"
    },
    {
     "name": "stdout",
     "output_type": "stream",
     "text": [
      "{'episode': 603, 'episode_length': 32, 'episode_return': 3.0}\n"
     ]
    },
    {
     "data": {
      "text/html": [
       "<b>Environment (2-back):</b><br /><pre><b>Stimuli:</b> 2144432355122215042101330000135</pre><pre><b>Actions:</b> .M.MMM.M...MMM..M..MM.MM.MMM.M.</pre>"
      ],
      "text/plain": [
       "<IPython.core.display.HTML object>"
      ]
     },
     "metadata": {
      "tags": []
     },
     "output_type": "display_data"
    },
    {
     "name": "stdout",
     "output_type": "stream",
     "text": [
      "{'episode': 604, 'episode_length': 32, 'episode_return': 5.0}\n"
     ]
    },
    {
     "data": {
      "text/html": [
       "<b>Environment (2-back):</b><br /><pre><b>Stimuli:</b> 4325351522050352450421202424512</pre><pre><b>Actions:</b> M.M.MMM...M....MM..M...M.M.M...</pre>"
      ],
      "text/plain": [
       "<IPython.core.display.HTML object>"
      ]
     },
     "metadata": {
      "tags": []
     },
     "output_type": "display_data"
    },
    {
     "name": "stdout",
     "output_type": "stream",
     "text": [
      "{'episode': 605, 'episode_length': 32, 'episode_return': 1.0}\n"
     ]
    },
    {
     "data": {
      "text/html": [
       "<b>Environment (2-back):</b><br /><pre><b>Stimuli:</b> 0501511010523335425502445445112</pre><pre><b>Actions:</b> .MMM...MM..M.M.MMM..MMM...MMM.M</pre>"
      ],
      "text/plain": [
       "<IPython.core.display.HTML object>"
      ]
     },
     "metadata": {
      "tags": []
     },
     "output_type": "display_data"
    },
    {
     "name": "stdout",
     "output_type": "stream",
     "text": [
      "{'episode': 606, 'episode_length': 32, 'episode_return': -7.0}\n"
     ]
    },
    {
     "data": {
      "text/html": [
       "<b>Environment (2-back):</b><br /><pre><b>Stimuli:</b> 3421144524424012455144223210055</pre><pre><b>Actions:</b> .MM.MMMMM..M...M..MMM.M.MM..M.M</pre>"
      ],
      "text/plain": [
       "<IPython.core.display.HTML object>"
      ]
     },
     "metadata": {
      "tags": []
     },
     "output_type": "display_data"
    },
    {
     "name": "stdout",
     "output_type": "stream",
     "text": [
      "{'episode': 607, 'episode_length': 32, 'episode_return': -3.0}\n"
     ]
    },
    {
     "data": {
      "text/html": [
       "<b>Environment (2-back):</b><br /><pre><b>Stimuli:</b> 5205045324543542042002525534522</pre><pre><b>Actions:</b> ....MM.M.MMMMMMM.MMM..MMMMMMMM.</pre>"
      ],
      "text/plain": [
       "<IPython.core.display.HTML object>"
      ]
     },
     "metadata": {
      "tags": []
     },
     "output_type": "display_data"
    },
    {
     "name": "stdout",
     "output_type": "stream",
     "text": [
      "{'episode': 608, 'episode_length': 32, 'episode_return': -3.0}\n"
     ]
    },
    {
     "data": {
      "text/html": [
       "<b>Environment (2-back):</b><br /><pre><b>Stimuli:</b> 4335525533010535334431104531230</pre><pre><b>Actions:</b> MM..MMM.M..M..MM..MMM.MM.M.M.MM</pre>"
      ],
      "text/plain": [
       "<IPython.core.display.HTML object>"
      ]
     },
     "metadata": {
      "tags": []
     },
     "output_type": "display_data"
    },
    {
     "name": "stdout",
     "output_type": "stream",
     "text": [
      "{'episode': 609, 'episode_length': 32, 'episode_return': -3.0}\n"
     ]
    },
    {
     "data": {
      "text/html": [
       "<b>Environment (2-back):</b><br /><pre><b>Stimuli:</b> 0244442102125534543520403240515</pre><pre><b>Actions:</b> ....M..M...MM...M.....M...M...M</pre>"
      ],
      "text/plain": [
       "<IPython.core.display.HTML object>"
      ]
     },
     "metadata": {
      "tags": []
     },
     "output_type": "display_data"
    },
    {
     "name": "stdout",
     "output_type": "stream",
     "text": [
      "{'episode': 610, 'episode_length': 32, 'episode_return': 15.0}\n"
     ]
    },
    {
     "data": {
      "text/html": [
       "<b>Environment (2-back):</b><br /><pre><b>Stimuli:</b> 2304005344032234232423051014142</pre><pre><b>Actions:</b> .....M....M.M...M.M.MM.MMMM..M.</pre>"
      ],
      "text/plain": [
       "<IPython.core.display.HTML object>"
      ]
     },
     "metadata": {
      "tags": []
     },
     "output_type": "display_data"
    },
    {
     "name": "stdout",
     "output_type": "stream",
     "text": [
      "{'episode': 611, 'episode_length': 32, 'episode_return': 9.0}\n"
     ]
    },
    {
     "data": {
      "text/html": [
       "<b>Environment (2-back):</b><br /><pre><b>Stimuli:</b> 2055352243525332013302241310502</pre><pre><b>Actions:</b> ..M.MM..MM..MMMMMMMMMMMM.MMMM.M</pre>"
      ],
      "text/plain": [
       "<IPython.core.display.HTML object>"
      ]
     },
     "metadata": {
      "tags": []
     },
     "output_type": "display_data"
    },
    {
     "name": "stdout",
     "output_type": "stream",
     "text": [
      "{'episode': 612, 'episode_length': 32, 'episode_return': -11.0}\n"
     ]
    },
    {
     "data": {
      "text/html": [
       "<b>Environment (2-back):</b><br /><pre><b>Stimuli:</b> 3430543434032154523155323305143</pre><pre><b>Actions:</b> ...MM.MMM..MM..MM...M.M.M.MMM.M</pre>"
      ],
      "text/plain": [
       "<IPython.core.display.HTML object>"
      ]
     },
     "metadata": {
      "tags": []
     },
     "output_type": "display_data"
    },
    {
     "name": "stdout",
     "output_type": "stream",
     "text": [
      "{'episode': 613, 'episode_length': 32, 'episode_return': 1.0}\n"
     ]
    },
    {
     "data": {
      "text/html": [
       "<b>Environment (2-back):</b><br /><pre><b>Stimuli:</b> 1440223041551142304445154110300</pre><pre><b>Actions:</b> ...M...MM...MMMM......MMM.M...M</pre>"
      ],
      "text/plain": [
       "<IPython.core.display.HTML object>"
      ]
     },
     "metadata": {
      "tags": []
     },
     "output_type": "display_data"
    },
    {
     "name": "stdout",
     "output_type": "stream",
     "text": [
      "{'episode': 614, 'episode_length': 32, 'episode_return': 3.0}\n"
     ]
    },
    {
     "data": {
      "text/html": [
       "<b>Environment (2-back):</b><br /><pre><b>Stimuli:</b> 3220212035554214351350424434225</pre><pre><b>Actions:</b> M......MMMMMM.M...MM.M.......M.</pre>"
      ],
      "text/plain": [
       "<IPython.core.display.HTML object>"
      ]
     },
     "metadata": {
      "tags": []
     },
     "output_type": "display_data"
    },
    {
     "name": "stdout",
     "output_type": "stream",
     "text": [
      "{'episode': 615, 'episode_length': 32, 'episode_return': 1.0}\n"
     ]
    },
    {
     "data": {
      "text/html": [
       "<b>Environment (2-back):</b><br /><pre><b>Stimuli:</b> 2323133203455124033115103341435</pre><pre><b>Actions:</b> M.MM.M..M..M.MMM.M...M..MM...MM</pre>"
      ],
      "text/plain": [
       "<IPython.core.display.HTML object>"
      ]
     },
     "metadata": {
      "tags": []
     },
     "output_type": "display_data"
    },
    {
     "name": "stdout",
     "output_type": "stream",
     "text": [
      "{'episode': 616, 'episode_length': 32, 'episode_return': 3.0}\n"
     ]
    },
    {
     "data": {
      "text/html": [
       "<b>Environment (2-back):</b><br /><pre><b>Stimuli:</b> 1431315255440052534434031334354</pre><pre><b>Actions:</b> MM..M.MM.MM..M.M.M..M....M..MMM</pre>"
      ],
      "text/plain": [
       "<IPython.core.display.HTML object>"
      ]
     },
     "metadata": {
      "tags": []
     },
     "output_type": "display_data"
    },
    {
     "name": "stdout",
     "output_type": "stream",
     "text": [
      "{'episode': 617, 'episode_length': 32, 'episode_return': -1.0}\n"
     ]
    },
    {
     "data": {
      "text/html": [
       "<b>Environment (2-back):</b><br /><pre><b>Stimuli:</b> 3113020511014404113044223233314</pre><pre><b>Actions:</b> MM.MM.MMM.MMM...M.....MMM...MM.</pre>"
      ],
      "text/plain": [
       "<IPython.core.display.HTML object>"
      ]
     },
     "metadata": {
      "tags": []
     },
     "output_type": "display_data"
    },
    {
     "name": "stdout",
     "output_type": "stream",
     "text": [
      "{'episode': 618, 'episode_length': 32, 'episode_return': -1.0}\n"
     ]
    },
    {
     "data": {
      "text/html": [
       "<b>Environment (2-back):</b><br /><pre><b>Stimuli:</b> 0512055201005215024442010125133</pre><pre><b>Actions:</b> ....MM.MM....MMM..MM.MMM.M...M.</pre>"
      ],
      "text/plain": [
       "<IPython.core.display.HTML object>"
      ]
     },
     "metadata": {
      "tags": []
     },
     "output_type": "display_data"
    },
    {
     "name": "stdout",
     "output_type": "stream",
     "text": [
      "{'episode': 619, 'episode_length': 32, 'episode_return': -1.0}\n"
     ]
    },
    {
     "data": {
      "text/html": [
       "<b>Environment (2-back):</b><br /><pre><b>Stimuli:</b> 3013233452531230313303201252455</pre><pre><b>Actions:</b> .M.MMMM..MM....M..MM..M.M..M...</pre>"
      ],
      "text/plain": [
       "<IPython.core.display.HTML object>"
      ]
     },
     "metadata": {
      "tags": []
     },
     "output_type": "display_data"
    },
    {
     "name": "stdout",
     "output_type": "stream",
     "text": [
      "{'episode': 620, 'episode_length': 32, 'episode_return': 9.0}\n"
     ]
    },
    {
     "data": {
      "text/html": [
       "<b>Environment (2-back):</b><br /><pre><b>Stimuli:</b> 5315111332354443054201104023044</pre><pre><b>Actions:</b> M.M.M.....MMM......MM..MMMM..M.</pre>"
      ],
      "text/plain": [
       "<IPython.core.display.HTML object>"
      ]
     },
     "metadata": {
      "tags": []
     },
     "output_type": "display_data"
    },
    {
     "name": "stdout",
     "output_type": "stream",
     "text": [
      "{'episode': 621, 'episode_length': 32, 'episode_return': 7.0}\n"
     ]
    },
    {
     "data": {
      "text/html": [
       "<b>Environment (2-back):</b><br /><pre><b>Stimuli:</b> 5124313532130205133323044301120</pre><pre><b>Actions:</b> ..MMMMMMM.M.MMM.M.MMMMMMM.M.MM.</pre>"
      ],
      "text/plain": [
       "<IPython.core.display.HTML object>"
      ]
     },
     "metadata": {
      "tags": []
     },
     "output_type": "display_data"
    },
    {
     "name": "stdout",
     "output_type": "stream",
     "text": [
      "{'episode': 622, 'episode_length': 32, 'episode_return': -3.0}\n"
     ]
    },
    {
     "data": {
      "text/html": [
       "<b>Environment (2-back):</b><br /><pre><b>Stimuli:</b> 1154345532452015354532000543502</pre><pre><b>Actions:</b> MM.M...M.MM....M.M..MMM.....MM.</pre>"
      ],
      "text/plain": [
       "<IPython.core.display.HTML object>"
      ]
     },
     "metadata": {
      "tags": []
     },
     "output_type": "display_data"
    },
    {
     "name": "stdout",
     "output_type": "stream",
     "text": [
      "{'episode': 623, 'episode_length': 32, 'episode_return': 1.0}\n"
     ]
    },
    {
     "data": {
      "text/html": [
       "<b>Environment (2-back):</b><br /><pre><b>Stimuli:</b> 3520243545541203441535402323013</pre><pre><b>Actions:</b> ...M..MMM....MM..MM.....M..MM.M</pre>"
      ],
      "text/plain": [
       "<IPython.core.display.HTML object>"
      ]
     },
     "metadata": {
      "tags": []
     },
     "output_type": "display_data"
    },
    {
     "name": "stdout",
     "output_type": "stream",
     "text": [
      "{'episode': 624, 'episode_length': 32, 'episode_return': -3.0}\n"
     ]
    },
    {
     "data": {
      "text/html": [
       "<b>Environment (2-back):</b><br /><pre><b>Stimuli:</b> 5435534331405142102532241200250</pre><pre><b>Actions:</b> M..MMMM.M.....M....M.MMMMM..M..</pre>"
      ],
      "text/plain": [
       "<IPython.core.display.HTML object>"
      ]
     },
     "metadata": {
      "tags": []
     },
     "output_type": "display_data"
    },
    {
     "name": "stdout",
     "output_type": "stream",
     "text": [
      "{'episode': 625, 'episode_length': 32, 'episode_return': 1.0}\n"
     ]
    },
    {
     "data": {
      "text/html": [
       "<b>Environment (2-back):</b><br /><pre><b>Stimuli:</b> 1422202150012145152503325152305</pre><pre><b>Actions:</b> .MMMMMM.M.MM.......M.M..MMM.M..</pre>"
      ],
      "text/plain": [
       "<IPython.core.display.HTML object>"
      ]
     },
     "metadata": {
      "tags": []
     },
     "output_type": "display_data"
    },
    {
     "name": "stdout",
     "output_type": "stream",
     "text": [
      "{'episode': 626, 'episode_length': 32, 'episode_return': 5.0}\n"
     ]
    },
    {
     "data": {
      "text/html": [
       "<b>Environment (2-back):</b><br /><pre><b>Stimuli:</b> 3314225251345010044221012411344</pre><pre><b>Actions:</b> MMM..MMM.MM.MM..MM..M..MM.MMMM.</pre>"
      ],
      "text/plain": [
       "<IPython.core.display.HTML object>"
      ]
     },
     "metadata": {
      "tags": []
     },
     "output_type": "display_data"
    },
    {
     "name": "stdout",
     "output_type": "stream",
     "text": [
      "{'episode': 627, 'episode_length': 32, 'episode_return': -7.0}\n"
     ]
    },
    {
     "data": {
      "text/html": [
       "<b>Environment (2-back):</b><br /><pre><b>Stimuli:</b> 0015411521224121301210150303021</pre><pre><b>Actions:</b> ...MMM.MMMM..MMMM.M.M..M.M.MMM.</pre>"
      ],
      "text/plain": [
       "<IPython.core.display.HTML object>"
      ]
     },
     "metadata": {
      "tags": []
     },
     "output_type": "display_data"
    },
    {
     "name": "stdout",
     "output_type": "stream",
     "text": [
      "{'episode': 628, 'episode_length': 32, 'episode_return': -1.0}\n"
     ]
    },
    {
     "data": {
      "text/html": [
       "<b>Environment (2-back):</b><br /><pre><b>Stimuli:</b> 3212552010002423215035105424311</pre><pre><b>Actions:</b> .MM..M..M...MMM.M..MMMMM.M.MMM.</pre>"
      ],
      "text/plain": [
       "<IPython.core.display.HTML object>"
      ]
     },
     "metadata": {
      "tags": []
     },
     "output_type": "display_data"
    },
    {
     "name": "stdout",
     "output_type": "stream",
     "text": [
      "{'episode': 629, 'episode_length': 32, 'episode_return': -3.0}\n"
     ]
    },
    {
     "data": {
      "text/html": [
       "<b>Environment (2-back):</b><br /><pre><b>Stimuli:</b> 2415314420355245233510410511245</pre><pre><b>Actions:</b> M...M.M..M.MM.....M..MMM...M.M.</pre>"
      ],
      "text/plain": [
       "<IPython.core.display.HTML object>"
      ]
     },
     "metadata": {
      "tags": []
     },
     "output_type": "display_data"
    },
    {
     "name": "stdout",
     "output_type": "stream",
     "text": [
      "{'episode': 630, 'episode_length': 32, 'episode_return': 7.0}\n"
     ]
    },
    {
     "data": {
      "text/html": [
       "<b>Environment (2-back):</b><br /><pre><b>Stimuli:</b> 3320052534050243021521530215041</pre><pre><b>Actions:</b> ..M..MMMMMM.M.M..M.....M.....M.</pre>"
      ],
      "text/plain": [
       "<IPython.core.display.HTML object>"
      ]
     },
     "metadata": {
      "tags": []
     },
     "output_type": "display_data"
    },
    {
     "name": "stdout",
     "output_type": "stream",
     "text": [
      "{'episode': 631, 'episode_length': 32, 'episode_return': 9.0}\n"
     ]
    },
    {
     "data": {
      "text/html": [
       "<b>Environment (2-back):</b><br /><pre><b>Stimuli:</b> 0333230015121504004251530444405</pre><pre><b>Actions:</b> M.M.M..M...MM..M.M.M.M.MMMMM.M.</pre>"
      ],
      "text/plain": [
       "<IPython.core.display.HTML object>"
      ]
     },
     "metadata": {
      "tags": []
     },
     "output_type": "display_data"
    },
    {
     "name": "stdout",
     "output_type": "stream",
     "text": [
      "{'episode': 632, 'episode_length': 32, 'episode_return': -9.0}\n"
     ]
    },
    {
     "data": {
      "text/html": [
       "<b>Environment (2-back):</b><br /><pre><b>Stimuli:</b> 2105244234521542414042155350544</pre><pre><b>Actions:</b> M.MM..M.M.MMM..M.M..MM..M.M..M.</pre>"
      ],
      "text/plain": [
       "<IPython.core.display.HTML object>"
      ]
     },
     "metadata": {
      "tags": []
     },
     "output_type": "display_data"
    },
    {
     "name": "stdout",
     "output_type": "stream",
     "text": [
      "{'episode': 633, 'episode_length': 32, 'episode_return': -1.0}\n"
     ]
    },
    {
     "data": {
      "text/html": [
       "<b>Environment (2-back):</b><br /><pre><b>Stimuli:</b> 4254012254325224545112530523524</pre><pre><b>Actions:</b> .MM.MMMM.M....MM..MM..MMMM.....</pre>"
      ],
      "text/plain": [
       "<IPython.core.display.HTML object>"
      ]
     },
     "metadata": {
      "tags": []
     },
     "output_type": "display_data"
    },
    {
     "name": "stdout",
     "output_type": "stream",
     "text": [
      "{'episode': 634, 'episode_length': 32, 'episode_return': -1.0}\n"
     ]
    },
    {
     "data": {
      "text/html": [
       "<b>Environment (2-back):</b><br /><pre><b>Stimuli:</b> 1234224431125551043135344113245</pre><pre><b>Actions:</b> M.M....MMMMMM.MM..MMMM....MM.MM</pre>"
      ],
      "text/plain": [
       "<IPython.core.display.HTML object>"
      ]
     },
     "metadata": {
      "tags": []
     },
     "output_type": "display_data"
    },
    {
     "name": "stdout",
     "output_type": "stream",
     "text": [
      "{'episode': 635, 'episode_length': 32, 'episode_return': -3.0}\n"
     ]
    },
    {
     "data": {
      "text/html": [
       "<b>Environment (2-back):</b><br /><pre><b>Stimuli:</b> 3425001121153054103302202035015</pre><pre><b>Actions:</b> .M.M..MM......M.M.M..M..M.MMMM.</pre>"
      ],
      "text/plain": [
       "<IPython.core.display.HTML object>"
      ]
     },
     "metadata": {
      "tags": []
     },
     "output_type": "display_data"
    },
    {
     "name": "stdout",
     "output_type": "stream",
     "text": [
      "{'episode': 636, 'episode_length': 32, 'episode_return': 5.0}\n"
     ]
    },
    {
     "data": {
      "text/html": [
       "<b>Environment (2-back):</b><br /><pre><b>Stimuli:</b> 2142113542250532155435312201404</pre><pre><b>Actions:</b> MMMMM....M...M..M.....M.M..M..M</pre>"
      ],
      "text/plain": [
       "<IPython.core.display.HTML object>"
      ]
     },
     "metadata": {
      "tags": []
     },
     "output_type": "display_data"
    },
    {
     "name": "stdout",
     "output_type": "stream",
     "text": [
      "{'episode': 637, 'episode_length': 32, 'episode_return': 13.0}\n"
     ]
    },
    {
     "data": {
      "text/html": [
       "<b>Environment (2-back):</b><br /><pre><b>Stimuli:</b> 0053053303251142555131445343024</pre><pre><b>Actions:</b> MM..M.MM.M.MM.MM.M..MMMM.MM.MM.</pre>"
      ],
      "text/plain": [
       "<IPython.core.display.HTML object>"
      ]
     },
     "metadata": {
      "tags": []
     },
     "output_type": "display_data"
    },
    {
     "name": "stdout",
     "output_type": "stream",
     "text": [
      "{'episode': 638, 'episode_length': 32, 'episode_return': -7.0}\n"
     ]
    },
    {
     "data": {
      "text/html": [
       "<b>Environment (2-back):</b><br /><pre><b>Stimuli:</b> 0214230415050023555335520140511</pre><pre><b>Actions:</b> ..MMM.MMMM.MMM.M....M.MMMMM..MM</pre>"
      ],
      "text/plain": [
       "<IPython.core.display.HTML object>"
      ]
     },
     "metadata": {
      "tags": []
     },
     "output_type": "display_data"
    },
    {
     "name": "stdout",
     "output_type": "stream",
     "text": [
      "{'episode': 639, 'episode_length': 32, 'episode_return': -5.0}\n"
     ]
    },
    {
     "data": {
      "text/html": [
       "<b>Environment (2-back):</b><br /><pre><b>Stimuli:</b> 2243104443321341044134233211501</pre><pre><b>Actions:</b> .MMM..MM.......M.M....MMM.MM...</pre>"
      ],
      "text/plain": [
       "<IPython.core.display.HTML object>"
      ]
     },
     "metadata": {
      "tags": []
     },
     "output_type": "display_data"
    },
    {
     "name": "stdout",
     "output_type": "stream",
     "text": [
      "{'episode': 640, 'episode_length': 32, 'episode_return': 5.0}\n"
     ]
    },
    {
     "data": {
      "text/html": [
       "<b>Environment (2-back):</b><br /><pre><b>Stimuli:</b> 3042344145024030342034040453101</pre><pre><b>Actions:</b> .M...M.MMM.M..M..MM..M..M.M....</pre>"
      ],
      "text/plain": [
       "<IPython.core.display.HTML object>"
      ]
     },
     "metadata": {
      "tags": []
     },
     "output_type": "display_data"
    },
    {
     "name": "stdout",
     "output_type": "stream",
     "text": [
      "{'episode': 641, 'episode_length': 32, 'episode_return': 1.0}\n"
     ]
    },
    {
     "data": {
      "text/html": [
       "<b>Environment (2-back):</b><br /><pre><b>Stimuli:</b> 5333044210042424203423555151412</pre><pre><b>Actions:</b> M.MM.M.M.....M.M....M.M..M..M..</pre>"
      ],
      "text/plain": [
       "<IPython.core.display.HTML object>"
      ]
     },
     "metadata": {
      "tags": []
     },
     "output_type": "display_data"
    },
    {
     "name": "stdout",
     "output_type": "stream",
     "text": [
      "{'episode': 642, 'episode_length': 32, 'episode_return': 3.0}\n"
     ]
    },
    {
     "data": {
      "text/html": [
       "<b>Environment (2-back):</b><br /><pre><b>Stimuli:</b> 5320504551444045233303224533344</pre><pre><b>Actions:</b> M....M..M.M.MM....MMMM..MM.MM.M</pre>"
      ],
      "text/plain": [
       "<IPython.core.display.HTML object>"
      ]
     },
     "metadata": {
      "tags": []
     },
     "output_type": "display_data"
    },
    {
     "name": "stdout",
     "output_type": "stream",
     "text": [
      "{'episode': 643, 'episode_length': 32, 'episode_return': 7.0}\n"
     ]
    },
    {
     "data": {
      "text/html": [
       "<b>Environment (2-back):</b><br /><pre><b>Stimuli:</b> 1551530405042545340133554031044</pre><pre><b>Actions:</b> MM...M...M.M.MM.M.M......M.M.M.</pre>"
      ],
      "text/plain": [
       "<IPython.core.display.HTML object>"
      ]
     },
     "metadata": {
      "tags": []
     },
     "output_type": "display_data"
    },
    {
     "name": "stdout",
     "output_type": "stream",
     "text": [
      "{'episode': 644, 'episode_length': 32, 'episode_return': -1.0}\n"
     ]
    },
    {
     "data": {
      "text/html": [
       "<b>Environment (2-back):</b><br /><pre><b>Stimuli:</b> 1115303544311324440042550001554</pre><pre><b>Actions:</b> MMMMM.M..MM..MM.MM.MM.MMMM..MMM</pre>"
      ],
      "text/plain": [
       "<IPython.core.display.HTML object>"
      ]
     },
     "metadata": {
      "tags": []
     },
     "output_type": "display_data"
    },
    {
     "name": "stdout",
     "output_type": "stream",
     "text": [
      "{'episode': 645, 'episode_length': 32, 'episode_return': -7.0}\n"
     ]
    },
    {
     "data": {
      "text/html": [
       "<b>Environment (2-back):</b><br /><pre><b>Stimuli:</b> 1245205341220523321303112134112</pre><pre><b>Actions:</b> MMMMM......M....MM..M.MMM.M..M.</pre>"
      ],
      "text/plain": [
       "<IPython.core.display.HTML object>"
      ]
     },
     "metadata": {
      "tags": []
     },
     "output_type": "display_data"
    },
    {
     "name": "stdout",
     "output_type": "stream",
     "text": [
      "{'episode': 646, 'episode_length': 32, 'episode_return': 1.0}\n"
     ]
    },
    {
     "data": {
      "text/html": [
       "<b>Environment (2-back):</b><br /><pre><b>Stimuli:</b> 2231541531144555532134121224431</pre><pre><b>Actions:</b> M..M.MMMMMM.....MMMM.M..M.MM...</pre>"
      ],
      "text/plain": [
       "<IPython.core.display.HTML object>"
      ]
     },
     "metadata": {
      "tags": []
     },
     "output_type": "display_data"
    },
    {
     "name": "stdout",
     "output_type": "stream",
     "text": [
      "{'episode': 647, 'episode_length': 32, 'episode_return': -1.0}\n"
     ]
    },
    {
     "data": {
      "text/html": [
       "<b>Environment (2-back):</b><br /><pre><b>Stimuli:</b> 5022132134221210343154330422223</pre><pre><b>Actions:</b> .M.M.M.MMM......MM..M..M....M..</pre>"
      ],
      "text/plain": [
       "<IPython.core.display.HTML object>"
      ]
     },
     "metadata": {
      "tags": []
     },
     "output_type": "display_data"
    },
    {
     "name": "stdout",
     "output_type": "stream",
     "text": [
      "{'episode': 648, 'episode_length': 32, 'episode_return': 5.0}\n"
     ]
    },
    {
     "data": {
      "text/html": [
       "<b>Environment (2-back):</b><br /><pre><b>Stimuli:</b> 0255114001004041232233453532323</pre><pre><b>Actions:</b> .MM.M..M..MMM..MM...MMM....MM..</pre>"
      ],
      "text/plain": [
       "<IPython.core.display.HTML object>"
      ]
     },
     "metadata": {
      "tags": []
     },
     "output_type": "display_data"
    },
    {
     "name": "stdout",
     "output_type": "stream",
     "text": [
      "{'episode': 649, 'episode_length': 32, 'episode_return': -5.0}\n"
     ]
    },
    {
     "data": {
      "text/html": [
       "<b>Environment (2-back):</b><br /><pre><b>Stimuli:</b> 2404350413144232241041243254520</pre><pre><b>Actions:</b> .M.M...MMMM.M..M.M..MM..M.MM..M</pre>"
      ],
      "text/plain": [
       "<IPython.core.display.HTML object>"
      ]
     },
     "metadata": {
      "tags": []
     },
     "output_type": "display_data"
    },
    {
     "name": "stdout",
     "output_type": "stream",
     "text": [
      "{'episode': 650, 'episode_length': 32, 'episode_return': 5.0}\n"
     ]
    },
    {
     "data": {
      "text/html": [
       "<b>Environment (2-back):</b><br /><pre><b>Stimuli:</b> 3202435345051504405002105034223</pre><pre><b>Actions:</b> MMM.M.M...M..MMMMM..MMMMMMMM.MM</pre>"
      ],
      "text/plain": [
       "<IPython.core.display.HTML object>"
      ]
     },
     "metadata": {
      "tags": []
     },
     "output_type": "display_data"
    },
    {
     "name": "stdout",
     "output_type": "stream",
     "text": [
      "{'episode': 651, 'episode_length': 32, 'episode_return': -13.0}\n"
     ]
    },
    {
     "data": {
      "text/html": [
       "<b>Environment (2-back):</b><br /><pre><b>Stimuli:</b> 4041012004130015553313133212320</pre><pre><b>Actions:</b> MMM.M.M....M........MM.M..M.MMM</pre>"
      ],
      "text/plain": [
       "<IPython.core.display.HTML object>"
      ]
     },
     "metadata": {
      "tags": []
     },
     "output_type": "display_data"
    },
    {
     "name": "stdout",
     "output_type": "stream",
     "text": [
      "{'episode': 652, 'episode_length': 32, 'episode_return': 5.0}\n"
     ]
    },
    {
     "data": {
      "text/html": [
       "<b>Environment (2-back):</b><br /><pre><b>Stimuli:</b> 2230503000552120504335001215421</pre><pre><b>Actions:</b> MM..M.M...M.MM..MMM.M.M..MM.M.M</pre>"
      ],
      "text/plain": [
       "<IPython.core.display.HTML object>"
      ]
     },
     "metadata": {
      "tags": []
     },
     "output_type": "display_data"
    },
    {
     "name": "stdout",
     "output_type": "stream",
     "text": [
      "{'episode': 653, 'episode_length': 32, 'episode_return': -3.0}\n"
     ]
    },
    {
     "data": {
      "text/html": [
       "<b>Environment (2-back):</b><br /><pre><b>Stimuli:</b> 3021350504312554023404035555512</pre><pre><b>Actions:</b> .M.MM.M..M.....MMMMM..M.M.MM.MM</pre>"
      ],
      "text/plain": [
       "<IPython.core.display.HTML object>"
      ]
     },
     "metadata": {
      "tags": []
     },
     "output_type": "display_data"
    },
    {
     "name": "stdout",
     "output_type": "stream",
     "text": [
      "{'episode': 654, 'episode_length': 32, 'episode_return': -3.0}\n"
     ]
    },
    {
     "data": {
      "text/html": [
       "<b>Environment (2-back):</b><br /><pre><b>Stimuli:</b> 3214325113230330004141021345530</pre><pre><b>Actions:</b> M...MM..M.M.MMM..MM...M.MMMM...</pre>"
      ],
      "text/plain": [
       "<IPython.core.display.HTML object>"
      ]
     },
     "metadata": {
      "tags": []
     },
     "output_type": "display_data"
    },
    {
     "name": "stdout",
     "output_type": "stream",
     "text": [
      "{'episode': 655, 'episode_length': 32, 'episode_return': -3.0}\n"
     ]
    },
    {
     "data": {
      "text/html": [
       "<b>Environment (2-back):</b><br /><pre><b>Stimuli:</b> 2034111132333553013540454130103</pre><pre><b>Actions:</b> MM...MMMMMM...M.MMMM.MM.M..M.M.</pre>"
      ],
      "text/plain": [
       "<IPython.core.display.HTML object>"
      ]
     },
     "metadata": {
      "tags": []
     },
     "output_type": "display_data"
    },
    {
     "name": "stdout",
     "output_type": "stream",
     "text": [
      "{'episode': 656, 'episode_length': 32, 'episode_return': 5.0}\n"
     ]
    },
    {
     "data": {
      "text/html": [
       "<b>Environment (2-back):</b><br /><pre><b>Stimuli:</b> 5050341512205410214341011452430</pre><pre><b>Actions:</b> MM...MM...M.M.M...M...M..MM.MMM</pre>"
      ],
      "text/plain": [
       "<IPython.core.display.HTML object>"
      ]
     },
     "metadata": {
      "tags": []
     },
     "output_type": "display_data"
    },
    {
     "name": "stdout",
     "output_type": "stream",
     "text": [
      "{'episode': 657, 'episode_length': 32, 'episode_return': -7.0}\n"
     ]
    },
    {
     "data": {
      "text/html": [
       "<b>Environment (2-back):</b><br /><pre><b>Stimuli:</b> 0224222442524025310212221451542</pre><pre><b>Actions:</b> .M.MM....MM..MM..M.M.M.M...M...</pre>"
      ],
      "text/plain": [
       "<IPython.core.display.HTML object>"
      ]
     },
     "metadata": {
      "tags": []
     },
     "output_type": "display_data"
    },
    {
     "name": "stdout",
     "output_type": "stream",
     "text": [
      "{'episode': 658, 'episode_length': 32, 'episode_return': 7.0}\n"
     ]
    },
    {
     "data": {
      "text/html": [
       "<b>Environment (2-back):</b><br /><pre><b>Stimuli:</b> 5005445410034244402415143554502</pre><pre><b>Actions:</b> M.MMMMM...MMM.MM.M..MMM..M.MMMM</pre>"
      ],
      "text/plain": [
       "<IPython.core.display.HTML object>"
      ]
     },
     "metadata": {
      "tags": []
     },
     "output_type": "display_data"
    },
    {
     "name": "stdout",
     "output_type": "stream",
     "text": [
      "{'episode': 659, 'episode_length': 32, 'episode_return': -7.0}\n"
     ]
    },
    {
     "data": {
      "text/html": [
       "<b>Environment (2-back):</b><br /><pre><b>Stimuli:</b> 4352041541335412452155312101510</pre><pre><b>Actions:</b> MMM..M....M...M.M..M.MMMMM.M...</pre>"
      ],
      "text/plain": [
       "<IPython.core.display.HTML object>"
      ]
     },
     "metadata": {
      "tags": []
     },
     "output_type": "display_data"
    },
    {
     "name": "stdout",
     "output_type": "stream",
     "text": [
      "{'episode': 660, 'episode_length': 32, 'episode_return': 5.0}\n"
     ]
    },
    {
     "data": {
      "text/html": [
       "<b>Environment (2-back):</b><br /><pre><b>Stimuli:</b> 4223252155454403312503323350335</pre><pre><b>Actions:</b> .M.MM.MMM..MM..M..MM.M..M......</pre>"
      ],
      "text/plain": [
       "<IPython.core.display.HTML object>"
      ]
     },
     "metadata": {
      "tags": []
     },
     "output_type": "display_data"
    },
    {
     "name": "stdout",
     "output_type": "stream",
     "text": [
      "{'episode': 661, 'episode_length': 32, 'episode_return': 15.0}\n"
     ]
    },
    {
     "data": {
      "text/html": [
       "<b>Environment (2-back):</b><br /><pre><b>Stimuli:</b> 0404043231410455341051154305301</pre><pre><b>Actions:</b> .....M.M..MMM..MMMMM.MM.M....M.</pre>"
      ],
      "text/plain": [
       "<IPython.core.display.HTML object>"
      ]
     },
     "metadata": {
      "tags": []
     },
     "output_type": "display_data"
    },
    {
     "name": "stdout",
     "output_type": "stream",
     "text": [
      "{'episode': 662, 'episode_length': 32, 'episode_return': -1.0}\n"
     ]
    },
    {
     "data": {
      "text/html": [
       "<b>Environment (2-back):</b><br /><pre><b>Stimuli:</b> 2025550053201302523304254101355</pre><pre><b>Actions:</b> ..MM.M.M.M...M.MMM.MMM....MMM.M</pre>"
      ],
      "text/plain": [
       "<IPython.core.display.HTML object>"
      ]
     },
     "metadata": {
      "tags": []
     },
     "output_type": "display_data"
    },
    {
     "name": "stdout",
     "output_type": "stream",
     "text": [
      "{'episode': 663, 'episode_length': 32, 'episode_return': 5.0}\n"
     ]
    },
    {
     "data": {
      "text/html": [
       "<b>Environment (2-back):</b><br /><pre><b>Stimuli:</b> 2342042144533024252304355024225</pre><pre><b>Actions:</b> ....M.MM......M.MM...MMM..MMM.M</pre>"
      ],
      "text/plain": [
       "<IPython.core.display.HTML object>"
      ]
     },
     "metadata": {
      "tags": []
     },
     "output_type": "display_data"
    },
    {
     "name": "stdout",
     "output_type": "stream",
     "text": [
      "{'episode': 664, 'episode_length': 32, 'episode_return': 7.0}\n"
     ]
    },
    {
     "data": {
      "text/html": [
       "<b>Environment (2-back):</b><br /><pre><b>Stimuli:</b> 5315455252512124221311035242343</pre><pre><b>Actions:</b> MM...MM...M.MMM...MM..M.M.M..MM</pre>"
      ],
      "text/plain": [
       "<IPython.core.display.HTML object>"
      ]
     },
     "metadata": {
      "tags": []
     },
     "output_type": "display_data"
    },
    {
     "name": "stdout",
     "output_type": "stream",
     "text": [
      "{'episode': 665, 'episode_length': 32, 'episode_return': 3.0}\n"
     ]
    },
    {
     "data": {
      "text/html": [
       "<b>Environment (2-back):</b><br /><pre><b>Stimuli:</b> 2051510530214523251220125241051</pre><pre><b>Actions:</b> MMMM..M...MMM.M.....MMMMMM..M..</pre>"
      ],
      "text/plain": [
       "<IPython.core.display.HTML object>"
      ]
     },
     "metadata": {
      "tags": []
     },
     "output_type": "display_data"
    },
    {
     "name": "stdout",
     "output_type": "stream",
     "text": [
      "{'episode': 666, 'episode_length': 32, 'episode_return': -3.0}\n"
     ]
    },
    {
     "data": {
      "text/html": [
       "<b>Environment (2-back):</b><br /><pre><b>Stimuli:</b> 2555535453043110502413524212402</pre><pre><b>Actions:</b> .MMMM..MMMMM.MMM.......MMM.M.M.</pre>"
      ],
      "text/plain": [
       "<IPython.core.display.HTML object>"
      ]
     },
     "metadata": {
      "tags": []
     },
     "output_type": "display_data"
    },
    {
     "name": "stdout",
     "output_type": "stream",
     "text": [
      "{'episode': 667, 'episode_length': 32, 'episode_return': 1.0}\n"
     ]
    },
    {
     "data": {
      "text/html": [
       "<b>Environment (2-back):</b><br /><pre><b>Stimuli:</b> 5400513454353023224133415034154</pre><pre><b>Actions:</b> ...MM.M.M..MMM...M.MMM..MM.MMM.</pre>"
      ],
      "text/plain": [
       "<IPython.core.display.HTML object>"
      ]
     },
     "metadata": {
      "tags": []
     },
     "output_type": "display_data"
    },
    {
     "name": "stdout",
     "output_type": "stream",
     "text": [
      "{'episode': 668, 'episode_length': 32, 'episode_return': -3.0}\n"
     ]
    },
    {
     "data": {
      "text/html": [
       "<b>Environment (2-back):</b><br /><pre><b>Stimuli:</b> 4524514002242353442110320135000</pre><pre><b>Actions:</b> .M...M..M..MMMMMM.MMM.......M.M</pre>"
      ],
      "text/plain": [
       "<IPython.core.display.HTML object>"
      ]
     },
     "metadata": {
      "tags": []
     },
     "output_type": "display_data"
    },
    {
     "name": "stdout",
     "output_type": "stream",
     "text": [
      "{'episode': 669, 'episode_length': 32, 'episode_return': 9.0}\n"
     ]
    },
    {
     "data": {
      "text/html": [
       "<b>Environment (2-back):</b><br /><pre><b>Stimuli:</b> 2041324101440210101113503554553</pre><pre><b>Actions:</b> MMMM.MMMM.MMM.M.M.MM...M.MM.M.M</pre>"
      ],
      "text/plain": [
       "<IPython.core.display.HTML object>"
      ]
     },
     "metadata": {
      "tags": []
     },
     "output_type": "display_data"
    },
    {
     "name": "stdout",
     "output_type": "stream",
     "text": [
      "{'episode': 670, 'episode_length': 32, 'episode_return': -9.0}\n"
     ]
    },
    {
     "data": {
      "text/html": [
       "<b>Environment (2-back):</b><br /><pre><b>Stimuli:</b> 3100020210412245333431225222522</pre><pre><b>Actions:</b> ....MMM.MM...MM.MM...M.M.M.MM..</pre>"
      ],
      "text/plain": [
       "<IPython.core.display.HTML object>"
      ]
     },
     "metadata": {
      "tags": []
     },
     "output_type": "display_data"
    },
    {
     "name": "stdout",
     "output_type": "stream",
     "text": [
      "{'episode': 671, 'episode_length': 32, 'episode_return': 1.0}\n"
     ]
    },
    {
     "data": {
      "text/html": [
       "<b>Environment (2-back):</b><br /><pre><b>Stimuli:</b> 5533414132055123544515422444551</pre><pre><b>Actions:</b> M.MM..M....MMMMM.M.MM...MM..MM.</pre>"
      ],
      "text/plain": [
       "<IPython.core.display.HTML object>"
      ]
     },
     "metadata": {
      "tags": []
     },
     "output_type": "display_data"
    },
    {
     "name": "stdout",
     "output_type": "stream",
     "text": [
      "{'episode': 672, 'episode_length': 32, 'episode_return': -5.0}\n"
     ]
    },
    {
     "data": {
      "text/html": [
       "<b>Environment (2-back):</b><br /><pre><b>Stimuli:</b> 5343042335310332153351224234420</pre><pre><b>Actions:</b> MMM...MM.MMMMM..MMM.MMM..M..MMM</pre>"
      ],
      "text/plain": [
       "<IPython.core.display.HTML object>"
      ]
     },
     "metadata": {
      "tags": []
     },
     "output_type": "display_data"
    },
    {
     "name": "stdout",
     "output_type": "stream",
     "text": [
      "{'episode': 673, 'episode_length': 32, 'episode_return': -7.0}\n"
     ]
    },
    {
     "data": {
      "text/html": [
       "<b>Environment (2-back):</b><br /><pre><b>Stimuli:</b> 1424545332401151504132412045013</pre><pre><b>Actions:</b> ....M..M..M.M.M...M.....MMMMM..</pre>"
      ],
      "text/plain": [
       "<IPython.core.display.HTML object>"
      ]
     },
     "metadata": {
      "tags": []
     },
     "output_type": "display_data"
    },
    {
     "name": "stdout",
     "output_type": "stream",
     "text": [
      "{'episode': 674, 'episode_length': 32, 'episode_return': -3.0}\n"
     ]
    },
    {
     "data": {
      "text/html": [
       "<b>Environment (2-back):</b><br /><pre><b>Stimuli:</b> 3443224544014211024141210505030</pre><pre><b>Actions:</b> M..MM.MM...M.M...M.....M.....MM</pre>"
      ],
      "text/plain": [
       "<IPython.core.display.HTML object>"
      ]
     },
     "metadata": {
      "tags": []
     },
     "output_type": "display_data"
    },
    {
     "name": "stdout",
     "output_type": "stream",
     "text": [
      "{'episode': 675, 'episode_length': 32, 'episode_return': 1.0}\n"
     ]
    },
    {
     "data": {
      "text/html": [
       "<b>Environment (2-back):</b><br /><pre><b>Stimuli:</b> 4555204042355440325003010303052</pre><pre><b>Actions:</b> .M......MM..M.MMM.MMM......M.MM</pre>"
      ],
      "text/plain": [
       "<IPython.core.display.HTML object>"
      ]
     },
     "metadata": {
      "tags": []
     },
     "output_type": "display_data"
    },
    {
     "name": "stdout",
     "output_type": "stream",
     "text": [
      "{'episode': 676, 'episode_length': 32, 'episode_return': -3.0}\n"
     ]
    },
    {
     "data": {
      "text/html": [
       "<b>Environment (2-back):</b><br /><pre><b>Stimuli:</b> 2455430033352130420214310402513</pre><pre><b>Actions:</b> .M....M.MM.M.M.MM..M...MMM...M.</pre>"
      ],
      "text/plain": [
       "<IPython.core.display.HTML object>"
      ]
     },
     "metadata": {
      "tags": []
     },
     "output_type": "display_data"
    },
    {
     "name": "stdout",
     "output_type": "stream",
     "text": [
      "{'episode': 677, 'episode_length': 32, 'episode_return': 3.0}\n"
     ]
    },
    {
     "data": {
      "text/html": [
       "<b>Environment (2-back):</b><br /><pre><b>Stimuli:</b> 4342025205134250450214044505150</pre><pre><b>Actions:</b> M.M.MMMM...MMM.M...M...MM.M..M.</pre>"
      ],
      "text/plain": [
       "<IPython.core.display.HTML object>"
      ]
     },
     "metadata": {
      "tags": []
     },
     "output_type": "display_data"
    },
    {
     "name": "stdout",
     "output_type": "stream",
     "text": [
      "{'episode': 678, 'episode_length': 32, 'episode_return': 9.0}\n"
     ]
    },
    {
     "data": {
      "text/html": [
       "<b>Environment (2-back):</b><br /><pre><b>Stimuli:</b> 1302535235154112324520035420412</pre><pre><b>Actions:</b> MMM....MMM.MMM....M....M.MM..M.</pre>"
      ],
      "text/plain": [
       "<IPython.core.display.HTML object>"
      ]
     },
     "metadata": {
      "tags": []
     },
     "output_type": "display_data"
    },
    {
     "name": "stdout",
     "output_type": "stream",
     "text": [
      "{'episode': 679, 'episode_length': 32, 'episode_return': 1.0}\n"
     ]
    },
    {
     "data": {
      "text/html": [
       "<b>Environment (2-back):</b><br /><pre><b>Stimuli:</b> 3113354323000003100425254204044</pre><pre><b>Actions:</b> ....M.MM.MM.....MM..MM.MM...M.M</pre>"
      ],
      "text/plain": [
       "<IPython.core.display.HTML object>"
      ]
     },
     "metadata": {
      "tags": []
     },
     "output_type": "display_data"
    },
    {
     "name": "stdout",
     "output_type": "stream",
     "text": [
      "{'episode': 680, 'episode_length': 32, 'episode_return': 1.0}\n"
     ]
    },
    {
     "data": {
      "text/html": [
       "<b>Environment (2-back):</b><br /><pre><b>Stimuli:</b> 4040514302435055054352543140240</pre><pre><b>Actions:</b> .M.MMM.M.MM...MMM.M.M.M.....M.M</pre>"
      ],
      "text/plain": [
       "<IPython.core.display.HTML object>"
      ]
     },
     "metadata": {
      "tags": []
     },
     "output_type": "display_data"
    },
    {
     "name": "stdout",
     "output_type": "stream",
     "text": [
      "{'episode': 681, 'episode_length': 32, 'episode_return': 3.0}\n"
     ]
    },
    {
     "data": {
      "text/html": [
       "<b>Environment (2-back):</b><br /><pre><b>Stimuli:</b> 4330252332302244244520444400455</pre><pre><b>Actions:</b> M.M.MMMM.M..M..M.MMM.MM.MMMMMMM</pre>"
      ],
      "text/plain": [
       "<IPython.core.display.HTML object>"
      ]
     },
     "metadata": {
      "tags": []
     },
     "output_type": "display_data"
    },
    {
     "name": "stdout",
     "output_type": "stream",
     "text": [
      "{'episode': 682, 'episode_length': 32, 'episode_return': -5.0}\n"
     ]
    },
    {
     "data": {
      "text/html": [
       "<b>Environment (2-back):</b><br /><pre><b>Stimuli:</b> 1110353354433310040425234525330</pre><pre><b>Actions:</b> M.M...MMM.M..M.MMMM..M..M..M.M.</pre>"
      ],
      "text/plain": [
       "<IPython.core.display.HTML object>"
      ]
     },
     "metadata": {
      "tags": []
     },
     "output_type": "display_data"
    },
    {
     "name": "stdout",
     "output_type": "stream",
     "text": [
      "{'episode': 683, 'episode_length': 32, 'episode_return': 7.0}\n"
     ]
    },
    {
     "data": {
      "text/html": [
       "<b>Environment (2-back):</b><br /><pre><b>Stimuli:</b> 5002020034400210135340214200455</pre><pre><b>Actions:</b> MM.MM.MMM....M.MMM.MMMMMM....MM</pre>"
      ],
      "text/plain": [
       "<IPython.core.display.HTML object>"
      ]
     },
     "metadata": {
      "tags": []
     },
     "output_type": "display_data"
    },
    {
     "name": "stdout",
     "output_type": "stream",
     "text": [
      "{'episode': 684, 'episode_length': 32, 'episode_return': 1.0}\n"
     ]
    },
    {
     "data": {
      "text/html": [
       "<b>Environment (2-back):</b><br /><pre><b>Stimuli:</b> 0323405344023220234410055454143</pre><pre><b>Actions:</b> MMM.MM.M.M..MM.M..M..M...M.....</pre>"
      ],
      "text/plain": [
       "<IPython.core.display.HTML object>"
      ]
     },
     "metadata": {
      "tags": []
     },
     "output_type": "display_data"
    },
    {
     "name": "stdout",
     "output_type": "stream",
     "text": [
      "{'episode': 685, 'episode_length': 32, 'episode_return': -3.0}\n"
     ]
    },
    {
     "data": {
      "text/html": [
       "<b>Environment (2-back):</b><br /><pre><b>Stimuli:</b> 0200433501333150131210133510535</pre><pre><b>Actions:</b> .M.M.M..M..MMMM.MMM.MMM.M.MMMM.</pre>"
      ],
      "text/plain": [
       "<IPython.core.display.HTML object>"
      ]
     },
     "metadata": {
      "tags": []
     },
     "output_type": "display_data"
    },
    {
     "name": "stdout",
     "output_type": "stream",
     "text": [
      "{'episode': 686, 'episode_length': 32, 'episode_return': -3.0}\n"
     ]
    },
    {
     "data": {
      "text/html": [
       "<b>Environment (2-back):</b><br /><pre><b>Stimuli:</b> 3532051444544452100504325041242</pre><pre><b>Actions:</b> M..MM.M...M....MMMM.M..MM.M.M..</pre>"
      ],
      "text/plain": [
       "<IPython.core.display.HTML object>"
      ]
     },
     "metadata": {
      "tags": []
     },
     "output_type": "display_data"
    },
    {
     "name": "stdout",
     "output_type": "stream",
     "text": [
      "{'episode': 687, 'episode_length': 32, 'episode_return': -5.0}\n"
     ]
    },
    {
     "data": {
      "text/html": [
       "<b>Environment (2-back):</b><br /><pre><b>Stimuli:</b> 4422211453545315401505215015122</pre><pre><b>Actions:</b> ......M..M.MMMMM.M.MM.MMMMMMM.M</pre>"
      ],
      "text/plain": [
       "<IPython.core.display.HTML object>"
      ]
     },
     "metadata": {
      "tags": []
     },
     "output_type": "display_data"
    },
    {
     "name": "stdout",
     "output_type": "stream",
     "text": [
      "{'episode': 688, 'episode_length': 32, 'episode_return': -7.0}\n"
     ]
    },
    {
     "data": {
      "text/html": [
       "<b>Environment (2-back):</b><br /><pre><b>Stimuli:</b> 5352134550102335424010332132151</pre><pre><b>Actions:</b> .MMMM..MMMM.M.MMMMMMMM...M.....</pre>"
      ],
      "text/plain": [
       "<IPython.core.display.HTML object>"
      ]
     },
     "metadata": {
      "tags": []
     },
     "output_type": "display_data"
    },
    {
     "name": "stdout",
     "output_type": "stream",
     "text": [
      "{'episode': 689, 'episode_length': 32, 'episode_return': -3.0}\n"
     ]
    },
    {
     "data": {
      "text/html": [
       "<b>Environment (2-back):</b><br /><pre><b>Stimuli:</b> 3251410554310000445423435034500</pre><pre><b>Actions:</b> .M....M.MM.M.M.MM.....M.M..MM.M</pre>"
      ],
      "text/plain": [
       "<IPython.core.display.HTML object>"
      ]
     },
     "metadata": {
      "tags": []
     },
     "output_type": "display_data"
    },
    {
     "name": "stdout",
     "output_type": "stream",
     "text": [
      "{'episode': 690, 'episode_length': 32, 'episode_return': -1.0}\n"
     ]
    },
    {
     "data": {
      "text/html": [
       "<b>Environment (2-back):</b><br /><pre><b>Stimuli:</b> 2351121144415142030014100031154</pre><pre><b>Actions:</b> .M...MMM.M.MM..M.M.....MM..M...</pre>"
      ],
      "text/plain": [
       "<IPython.core.display.HTML object>"
      ]
     },
     "metadata": {
      "tags": []
     },
     "output_type": "display_data"
    },
    {
     "name": "stdout",
     "output_type": "stream",
     "text": [
      "{'episode': 691, 'episode_length': 32, 'episode_return': -1.0}\n"
     ]
    },
    {
     "data": {
      "text/html": [
       "<b>Environment (2-back):</b><br /><pre><b>Stimuli:</b> 1110003024303301403320215045131</pre><pre><b>Actions:</b> ....M..M.M.M.MM..MM...M...M.M.M</pre>"
      ],
      "text/plain": [
       "<IPython.core.display.HTML object>"
      ]
     },
     "metadata": {
      "tags": []
     },
     "output_type": "display_data"
    },
    {
     "name": "stdout",
     "output_type": "stream",
     "text": [
      "{'episode': 692, 'episode_length': 32, 'episode_return': 5.0}\n"
     ]
    },
    {
     "data": {
      "text/html": [
       "<b>Environment (2-back):</b><br /><pre><b>Stimuli:</b> 5355302552042404144010430114110</pre><pre><b>Actions:</b> MMMM..M...M.M.MMMMM..MM..M.MMM.</pre>"
      ],
      "text/plain": [
       "<IPython.core.display.HTML object>"
      ]
     },
     "metadata": {
      "tags": []
     },
     "output_type": "display_data"
    },
    {
     "name": "stdout",
     "output_type": "stream",
     "text": [
      "{'episode': 693, 'episode_length': 32, 'episode_return': 3.0}\n"
     ]
    },
    {
     "data": {
      "text/html": [
       "<b>Environment (2-back):</b><br /><pre><b>Stimuli:</b> 2415331001045033434300130344222</pre><pre><b>Actions:</b> .MM.....M.MM....MM..M.MM..MM.MM</pre>"
      ],
      "text/plain": [
       "<IPython.core.display.HTML object>"
      ]
     },
     "metadata": {
      "tags": []
     },
     "output_type": "display_data"
    },
    {
     "name": "stdout",
     "output_type": "stream",
     "text": [
      "{'episode': 694, 'episode_length': 32, 'episode_return': 1.0}\n"
     ]
    },
    {
     "data": {
      "text/html": [
       "<b>Environment (2-back):</b><br /><pre><b>Stimuli:</b> 3514440355014103334554240500440</pre><pre><b>Actions:</b> .M.M.MMMMMM..MMMMMM..MM..MMMM.M</pre>"
      ],
      "text/plain": [
       "<IPython.core.display.HTML object>"
      ]
     },
     "metadata": {
      "tags": []
     },
     "output_type": "display_data"
    },
    {
     "name": "stdout",
     "output_type": "stream",
     "text": [
      "{'episode': 695, 'episode_length': 32, 'episode_return': -5.0}\n"
     ]
    },
    {
     "data": {
      "text/html": [
       "<b>Environment (2-back):</b><br /><pre><b>Stimuli:</b> 1430534515030341543423223232344</pre><pre><b>Actions:</b> .M.MMM....M.MMM.M..M.M.MMMM...M</pre>"
      ],
      "text/plain": [
       "<IPython.core.display.HTML object>"
      ]
     },
     "metadata": {
      "tags": []
     },
     "output_type": "display_data"
    },
    {
     "name": "stdout",
     "output_type": "stream",
     "text": [
      "{'episode': 696, 'episode_length': 32, 'episode_return': 1.0}\n"
     ]
    },
    {
     "data": {
      "text/html": [
       "<b>Environment (2-back):</b><br /><pre><b>Stimuli:</b> 3011101151122405053554555140544</pre><pre><b>Actions:</b> .M..MM..M.M.MMMMM.M.MM.....MM..</pre>"
      ],
      "text/plain": [
       "<IPython.core.display.HTML object>"
      ]
     },
     "metadata": {
      "tags": []
     },
     "output_type": "display_data"
    },
    {
     "name": "stdout",
     "output_type": "stream",
     "text": [
      "{'episode': 697, 'episode_length': 32, 'episode_return': -7.0}\n"
     ]
    },
    {
     "data": {
      "text/html": [
       "<b>Environment (2-back):</b><br /><pre><b>Stimuli:</b> 4441544553311531404031154444130</pre><pre><b>Actions:</b> .MM.M.MMMM.M..MMMMM..MMM...M..M</pre>"
      ],
      "text/plain": [
       "<IPython.core.display.HTML object>"
      ]
     },
     "metadata": {
      "tags": []
     },
     "output_type": "display_data"
    },
    {
     "name": "stdout",
     "output_type": "stream",
     "text": [
      "{'episode': 698, 'episode_length': 32, 'episode_return': -3.0}\n"
     ]
    },
    {
     "data": {
      "text/html": [
       "<b>Environment (2-back):</b><br /><pre><b>Stimuli:</b> 5342535141413240123024050224544</pre><pre><b>Actions:</b> MMMMM....M....M..MMMMM..MM.....</pre>"
      ],
      "text/plain": [
       "<IPython.core.display.HTML object>"
      ]
     },
     "metadata": {
      "tags": []
     },
     "output_type": "display_data"
    },
    {
     "name": "stdout",
     "output_type": "stream",
     "text": [
      "{'episode': 699, 'episode_length': 32, 'episode_return': -1.0}\n"
     ]
    },
    {
     "data": {
      "text/html": [
       "<b>Environment (2-back):</b><br /><pre><b>Stimuli:</b> 2354513331545201143453034301355</pre><pre><b>Actions:</b> ..MM.M.MMMM.....MM.M.M..M.M.M..</pre>"
      ],
      "text/plain": [
       "<IPython.core.display.HTML object>"
      ]
     },
     "metadata": {
      "tags": []
     },
     "output_type": "display_data"
    },
    {
     "name": "stdout",
     "output_type": "stream",
     "text": [
      "{'episode': 700, 'episode_length': 32, 'episode_return': -1.0}\n"
     ]
    },
    {
     "data": {
      "text/html": [
       "<b>Environment (2-back):</b><br /><pre><b>Stimuli:</b> 3541011353233353433315323420414</pre><pre><b>Actions:</b> .MM.M.MMMMMMM.MM.MMM.M..M.MM..M</pre>"
      ],
      "text/plain": [
       "<IPython.core.display.HTML object>"
      ]
     },
     "metadata": {
      "tags": []
     },
     "output_type": "display_data"
    },
    {
     "name": "stdout",
     "output_type": "stream",
     "text": [
      "{'episode': 701, 'episode_length': 32, 'episode_return': 1.0}\n"
     ]
    },
    {
     "data": {
      "text/html": [
       "<b>Environment (2-back):</b><br /><pre><b>Stimuli:</b> 1120134312101324202305502213442</pre><pre><b>Actions:</b> ...MM.....MM..M.....M..M.M.MMMM</pre>"
      ],
      "text/plain": [
       "<IPython.core.display.HTML object>"
      ]
     },
     "metadata": {
      "tags": []
     },
     "output_type": "display_data"
    },
    {
     "name": "stdout",
     "output_type": "stream",
     "text": [
      "{'episode': 702, 'episode_length': 32, 'episode_return': 1.0}\n"
     ]
    },
    {
     "data": {
      "text/html": [
       "<b>Environment (2-back):</b><br /><pre><b>Stimuli:</b> 5212435054240225120504403025515</pre><pre><b>Actions:</b> .M.MM.M.MMMMMM....M..M..M.M.M..</pre>"
      ],
      "text/plain": [
       "<IPython.core.display.HTML object>"
      ]
     },
     "metadata": {
      "tags": []
     },
     "output_type": "display_data"
    },
    {
     "name": "stdout",
     "output_type": "stream",
     "text": [
      "{'episode': 703, 'episode_length': 32, 'episode_return': -1.0}\n"
     ]
    },
    {
     "data": {
      "text/html": [
       "<b>Environment (2-back):</b><br /><pre><b>Stimuli:</b> 5203522521405430535421105410430</pre><pre><b>Actions:</b> ..M.M.M..MM.M...M.M.MMM...M.M.M</pre>"
      ],
      "text/plain": [
       "<IPython.core.display.HTML object>"
      ]
     },
     "metadata": {
      "tags": []
     },
     "output_type": "display_data"
    },
    {
     "name": "stdout",
     "output_type": "stream",
     "text": [
      "{'episode': 704, 'episode_length': 32, 'episode_return': 3.0}\n"
     ]
    },
    {
     "data": {
      "text/html": [
       "<b>Environment (2-back):</b><br /><pre><b>Stimuli:</b> 0332054240515453331211044125545</pre><pre><b>Actions:</b> MMM..M.M.MM..M...M...MMM.......</pre>"
      ],
      "text/plain": [
       "<IPython.core.display.HTML object>"
      ]
     },
     "metadata": {
      "tags": []
     },
     "output_type": "display_data"
    },
    {
     "name": "stdout",
     "output_type": "stream",
     "text": [
      "{'episode': 705, 'episode_length': 32, 'episode_return': -1.0}\n"
     ]
    },
    {
     "data": {
      "text/html": [
       "<b>Environment (2-back):</b><br /><pre><b>Stimuli:</b> 2312304131020520544121204215522</pre><pre><b>Actions:</b> .MM.MMMMM.M...MM......M.M.....M</pre>"
      ],
      "text/plain": [
       "<IPython.core.display.HTML object>"
      ]
     },
     "metadata": {
      "tags": []
     },
     "output_type": "display_data"
    },
    {
     "name": "stdout",
     "output_type": "stream",
     "text": [
      "{'episode': 706, 'episode_length': 32, 'episode_return': 1.0}\n"
     ]
    },
    {
     "data": {
      "text/html": [
       "<b>Environment (2-back):</b><br /><pre><b>Stimuli:</b> 3203244402441553522215533112325</pre><pre><b>Actions:</b> ....MM...M.M..MM..M..MMMMM.MM..</pre>"
      ],
      "text/plain": [
       "<IPython.core.display.HTML object>"
      ]
     },
     "metadata": {
      "tags": []
     },
     "output_type": "display_data"
    },
    {
     "name": "stdout",
     "output_type": "stream",
     "text": [
      "{'episode': 707, 'episode_length': 32, 'episode_return': -5.0}\n"
     ]
    },
    {
     "data": {
      "text/html": [
       "<b>Environment (2-back):</b><br /><pre><b>Stimuli:</b> 5342352042205321232042525432153</pre><pre><b>Actions:</b> MMMMMM..MM...MMM..M.MM.M..MMM.M</pre>"
      ],
      "text/plain": [
       "<IPython.core.display.HTML object>"
      ]
     },
     "metadata": {
      "tags": []
     },
     "output_type": "display_data"
    },
    {
     "name": "stdout",
     "output_type": "stream",
     "text": [
      "{'episode': 708, 'episode_length': 32, 'episode_return': -7.0}\n"
     ]
    },
    {
     "data": {
      "text/html": [
       "<b>Environment (2-back):</b><br /><pre><b>Stimuli:</b> 2314221301551020031252213435525</pre><pre><b>Actions:</b> .M..M..MM..M..MM.M.M..M..MM.M..</pre>"
      ],
      "text/plain": [
       "<IPython.core.display.HTML object>"
      ]
     },
     "metadata": {
      "tags": []
     },
     "output_type": "display_data"
    },
    {
     "name": "stdout",
     "output_type": "stream",
     "text": [
      "{'episode': 709, 'episode_length': 32, 'episode_return': 5.0}\n"
     ]
    },
    {
     "data": {
      "text/html": [
       "<b>Environment (2-back):</b><br /><pre><b>Stimuli:</b> 5141454121432301343341311100053</pre><pre><b>Actions:</b> ..MM.....M..MM...MMM.M..MM.MM.M</pre>"
      ],
      "text/plain": [
       "<IPython.core.display.HTML object>"
      ]
     },
     "metadata": {
      "tags": []
     },
     "output_type": "display_data"
    },
    {
     "name": "stdout",
     "output_type": "stream",
     "text": [
      "{'episode': 710, 'episode_length': 32, 'episode_return': 9.0}\n"
     ]
    },
    {
     "data": {
      "text/html": [
       "<b>Environment (2-back):</b><br /><pre><b>Stimuli:</b> 1144431351335540324420500220303</pre><pre><b>Actions:</b> .......M..MM.M..MM...M.MMM..M..</pre>"
      ],
      "text/plain": [
       "<IPython.core.display.HTML object>"
      ]
     },
     "metadata": {
      "tags": []
     },
     "output_type": "display_data"
    },
    {
     "name": "stdout",
     "output_type": "stream",
     "text": [
      "{'episode': 711, 'episode_length': 32, 'episode_return': 7.0}\n"
     ]
    },
    {
     "data": {
      "text/html": [
       "<b>Environment (2-back):</b><br /><pre><b>Stimuli:</b> 0002002331013405140131305334523</pre><pre><b>Actions:</b> .MMM.M..M..MM......M.MM.M......</pre>"
      ],
      "text/plain": [
       "<IPython.core.display.HTML object>"
      ]
     },
     "metadata": {
      "tags": []
     },
     "output_type": "display_data"
    },
    {
     "name": "stdout",
     "output_type": "stream",
     "text": [
      "{'episode': 712, 'episode_length': 32, 'episode_return': 15.0}\n"
     ]
    },
    {
     "data": {
      "text/html": [
       "<b>Environment (2-back):</b><br /><pre><b>Stimuli:</b> 1312512455303331514235310412421</pre><pre><b>Actions:</b> MMMMM.MM...M.MM.M.M.M.MM.M..MMM</pre>"
      ],
      "text/plain": [
       "<IPython.core.display.HTML object>"
      ]
     },
     "metadata": {
      "tags": []
     },
     "output_type": "display_data"
    },
    {
     "name": "stdout",
     "output_type": "stream",
     "text": [
      "{'episode': 713, 'episode_length': 32, 'episode_return': -1.0}\n"
     ]
    },
    {
     "data": {
      "text/html": [
       "<b>Environment (2-back):</b><br /><pre><b>Stimuli:</b> 0500012350212405023144341002320</pre><pre><b>Actions:</b> ..MM...M...M.MMM..MM.M.MMMMMMM.</pre>"
      ],
      "text/plain": [
       "<IPython.core.display.HTML object>"
      ]
     },
     "metadata": {
      "tags": []
     },
     "output_type": "display_data"
    },
    {
     "name": "stdout",
     "output_type": "stream",
     "text": [
      "{'episode': 714, 'episode_length': 32, 'episode_return': -5.0}\n"
     ]
    },
    {
     "data": {
      "text/html": [
       "<b>Environment (2-back):</b><br /><pre><b>Stimuli:</b> 4232050445120345444330013155454</pre><pre><b>Actions:</b> .M..M...MM.M.M......M.M.MMM..M.</pre>"
      ],
      "text/plain": [
       "<IPython.core.display.HTML object>"
      ]
     },
     "metadata": {
      "tags": []
     },
     "output_type": "display_data"
    },
    {
     "name": "stdout",
     "output_type": "stream",
     "text": [
      "{'episode': 715, 'episode_length': 32, 'episode_return': -1.0}\n"
     ]
    },
    {
     "data": {
      "text/html": [
       "<b>Environment (2-back):</b><br /><pre><b>Stimuli:</b> 0242513535201153205250011331015</pre><pre><b>Actions:</b> ....MMMM.M.M..MMMM.MMMMM.MM.MM.</pre>"
      ],
      "text/plain": [
       "<IPython.core.display.HTML object>"
      ]
     },
     "metadata": {
      "tags": []
     },
     "output_type": "display_data"
    },
    {
     "name": "stdout",
     "output_type": "stream",
     "text": [
      "{'episode': 716, 'episode_length': 32, 'episode_return': -5.0}\n"
     ]
    },
    {
     "data": {
      "text/html": [
       "<b>Environment (2-back):</b><br /><pre><b>Stimuli:</b> 4523412213042403424550134542254</pre><pre><b>Actions:</b> M..M.M.MMMMMMMM.......MMM..MMM.</pre>"
      ],
      "text/plain": [
       "<IPython.core.display.HTML object>"
      ]
     },
     "metadata": {
      "tags": []
     },
     "output_type": "display_data"
    },
    {
     "name": "stdout",
     "output_type": "stream",
     "text": [
      "{'episode': 717, 'episode_length': 32, 'episode_return': -3.0}\n"
     ]
    },
    {
     "data": {
      "text/html": [
       "<b>Environment (2-back):</b><br /><pre><b>Stimuli:</b> 5415011014134010435513221415515</pre><pre><b>Actions:</b> MM.MMM.MMMM.MM..MMM.MMMMM.MMM.M</pre>"
      ],
      "text/plain": [
       "<IPython.core.display.HTML object>"
      ]
     },
     "metadata": {
      "tags": []
     },
     "output_type": "display_data"
    },
    {
     "name": "stdout",
     "output_type": "stream",
     "text": [
      "{'episode': 718, 'episode_length': 32, 'episode_return': -7.0}\n"
     ]
    },
    {
     "data": {
      "text/html": [
       "<b>Environment (2-back):</b><br /><pre><b>Stimuli:</b> 1033115431553315325423504545523</pre><pre><b>Actions:</b> M.MMMM..MMM.M.MMM..MMM.M.M..MMM</pre>"
      ],
      "text/plain": [
       "<IPython.core.display.HTML object>"
      ]
     },
     "metadata": {
      "tags": []
     },
     "output_type": "display_data"
    },
    {
     "name": "stdout",
     "output_type": "stream",
     "text": [
      "{'episode': 719, 'episode_length': 32, 'episode_return': -13.0}\n"
     ]
    },
    {
     "data": {
      "text/html": [
       "<b>Environment (2-back):</b><br /><pre><b>Stimuli:</b> 4203253353021253353312133425425</pre><pre><b>Actions:</b> M....M..M...MM...MM..MM.M.MM.M.</pre>"
      ],
      "text/plain": [
       "<IPython.core.display.HTML object>"
      ]
     },
     "metadata": {
      "tags": []
     },
     "output_type": "display_data"
    },
    {
     "name": "stdout",
     "output_type": "stream",
     "text": [
      "{'episode': 720, 'episode_length': 32, 'episode_return': 9.0}\n"
     ]
    },
    {
     "data": {
      "text/html": [
       "<b>Environment (2-back):</b><br /><pre><b>Stimuli:</b> 3540001435101433114413102323400</pre><pre><b>Actions:</b> MMM.MM...MM......M.MM.....M.MMM</pre>"
      ],
      "text/plain": [
       "<IPython.core.display.HTML object>"
      ]
     },
     "metadata": {
      "tags": []
     },
     "output_type": "display_data"
    },
    {
     "name": "stdout",
     "output_type": "stream",
     "text": [
      "{'episode': 721, 'episode_length': 32, 'episode_return': 1.0}\n"
     ]
    },
    {
     "data": {
      "text/html": [
       "<b>Environment (2-back):</b><br /><pre><b>Stimuli:</b> 3002454544025232150343012355242</pre><pre><b>Actions:</b> M.MM....M..MM..MM.M....MMM....M</pre>"
      ],
      "text/plain": [
       "<IPython.core.display.HTML object>"
      ]
     },
     "metadata": {
      "tags": []
     },
     "output_type": "display_data"
    },
    {
     "name": "stdout",
     "output_type": "stream",
     "text": [
      "{'episode': 722, 'episode_length': 32, 'episode_return': 3.0}\n"
     ]
    },
    {
     "data": {
      "text/html": [
       "<b>Environment (2-back):</b><br /><pre><b>Stimuli:</b> 2210502250450531455415552052404</pre><pre><b>Actions:</b> MMMM.MM.M.M.M...M..MMM........M</pre>"
      ],
      "text/plain": [
       "<IPython.core.display.HTML object>"
      ]
     },
     "metadata": {
      "tags": []
     },
     "output_type": "display_data"
    },
    {
     "name": "stdout",
     "output_type": "stream",
     "text": [
      "{'episode': 723, 'episode_length': 32, 'episode_return': 3.0}\n"
     ]
    },
    {
     "data": {
      "text/html": [
       "<b>Environment (2-back):</b><br /><pre><b>Stimuli:</b> 4324232325512010035552400543010</pre><pre><b>Actions:</b> M.....M.M..M...MMM.MM...M......</pre>"
      ],
      "text/plain": [
       "<IPython.core.display.HTML object>"
      ]
     },
     "metadata": {
      "tags": []
     },
     "output_type": "display_data"
    },
    {
     "name": "stdout",
     "output_type": "stream",
     "text": [
      "{'episode': 724, 'episode_length': 32, 'episode_return': 13.0}\n"
     ]
    },
    {
     "data": {
      "text/html": [
       "<b>Environment (2-back):</b><br /><pre><b>Stimuli:</b> 4245440233345432550013522330315</pre><pre><b>Actions:</b> .M.MMM.M...MM.M........M.M.M..M</pre>"
      ],
      "text/plain": [
       "<IPython.core.display.HTML object>"
      ]
     },
     "metadata": {
      "tags": []
     },
     "output_type": "display_data"
    },
    {
     "name": "stdout",
     "output_type": "stream",
     "text": [
      "{'episode': 725, 'episode_length': 32, 'episode_return': 1.0}\n"
     ]
    },
    {
     "data": {
      "text/html": [
       "<b>Environment (2-back):</b><br /><pre><b>Stimuli:</b> 1232312013030210325423531310243</pre><pre><b>Actions:</b> .M.M.M....M.MMMM...MM..M.M.MM.M</pre>"
      ],
      "text/plain": [
       "<IPython.core.display.HTML object>"
      ]
     },
     "metadata": {
      "tags": []
     },
     "output_type": "display_data"
    },
    {
     "name": "stdout",
     "output_type": "stream",
     "text": [
      "{'episode': 726, 'episode_length': 32, 'episode_return': 5.0}\n"
     ]
    },
    {
     "data": {
      "text/html": [
       "<b>Environment (2-back):</b><br /><pre><b>Stimuli:</b> 3321544220501053035430214203324</pre><pre><b>Actions:</b> MM.MMMM.M..MMMMM.....MMMM.MMMM.</pre>"
      ],
      "text/plain": [
       "<IPython.core.display.HTML object>"
      ]
     },
     "metadata": {
      "tags": []
     },
     "output_type": "display_data"
    },
    {
     "name": "stdout",
     "output_type": "stream",
     "text": [
      "{'episode': 727, 'episode_length': 32, 'episode_return': -7.0}\n"
     ]
    },
    {
     "data": {
      "text/html": [
       "<b>Environment (2-back):</b><br /><pre><b>Stimuli:</b> 1032230500455202125332255502004</pre><pre><b>Actions:</b> MMMM.MM.MMM.M..M......M...M...M</pre>"
      ],
      "text/plain": [
       "<IPython.core.display.HTML object>"
      ]
     },
     "metadata": {
      "tags": []
     },
     "output_type": "display_data"
    },
    {
     "name": "stdout",
     "output_type": "stream",
     "text": [
      "{'episode': 728, 'episode_length': 32, 'episode_return': 1.0}\n"
     ]
    },
    {
     "data": {
      "text/html": [
       "<b>Environment (2-back):</b><br /><pre><b>Stimuli:</b> 3112422520242532525400432550545</pre><pre><b>Actions:</b> ....M.MM...M....MM....MM..M....</pre>"
      ],
      "text/plain": [
       "<IPython.core.display.HTML object>"
      ]
     },
     "metadata": {
      "tags": []
     },
     "output_type": "display_data"
    },
    {
     "name": "stdout",
     "output_type": "stream",
     "text": [
      "{'episode': 729, 'episode_length': 32, 'episode_return': 1.0}\n"
     ]
    },
    {
     "data": {
      "text/html": [
       "<b>Environment (2-back):</b><br /><pre><b>Stimuli:</b> 5142331441110320330145045131331</pre><pre><b>Actions:</b> .M.MM...MMM..M.MMMMMMMM.MMM.MMM</pre>"
      ],
      "text/plain": [
       "<IPython.core.display.HTML object>"
      ]
     },
     "metadata": {
      "tags": []
     },
     "output_type": "display_data"
    },
    {
     "name": "stdout",
     "output_type": "stream",
     "text": [
      "{'episode': 730, 'episode_length': 32, 'episode_return': -13.0}\n"
     ]
    },
    {
     "data": {
      "text/html": [
       "<b>Environment (2-back):</b><br /><pre><b>Stimuli:</b> 1122211211535513431212243244253</pre><pre><b>Actions:</b> .MM...M.MMMM.M..M.MMMMM.MMMMMMM</pre>"
      ],
      "text/plain": [
       "<IPython.core.display.HTML object>"
      ]
     },
     "metadata": {
      "tags": []
     },
     "output_type": "display_data"
    },
    {
     "name": "stdout",
     "output_type": "stream",
     "text": [
      "{'episode': 731, 'episode_length': 32, 'episode_return': -11.0}\n"
     ]
    },
    {
     "data": {
      "text/html": [
       "<b>Environment (2-back):</b><br /><pre><b>Stimuli:</b> 0030113125104222350122545442450</pre><pre><b>Actions:</b> .M...M.MMM..M.M.MMM...M..MM....</pre>"
      ],
      "text/plain": [
       "<IPython.core.display.HTML object>"
      ]
     },
     "metadata": {
      "tags": []
     },
     "output_type": "display_data"
    },
    {
     "name": "stdout",
     "output_type": "stream",
     "text": [
      "{'episode': 732, 'episode_length': 32, 'episode_return': -1.0}\n"
     ]
    },
    {
     "data": {
      "text/html": [
       "<b>Environment (2-back):</b><br /><pre><b>Stimuli:</b> 1500001002321455111042113431455</pre><pre><b>Actions:</b> .MMMM...MMMM.MM..MMM..MM.MMMMMM</pre>"
      ],
      "text/plain": [
       "<IPython.core.display.HTML object>"
      ]
     },
     "metadata": {
      "tags": []
     },
     "output_type": "display_data"
    },
    {
     "name": "stdout",
     "output_type": "stream",
     "text": [
      "{'episode': 733, 'episode_length': 32, 'episode_return': -7.0}\n"
     ]
    },
    {
     "data": {
      "text/html": [
       "<b>Environment (2-back):</b><br /><pre><b>Stimuli:</b> 3324203303212431303120015240120</pre><pre><b>Actions:</b> M..MMM.MMM.M.MMM.MM.M.M.M.MM..M</pre>"
      ],
      "text/plain": [
       "<IPython.core.display.HTML object>"
      ]
     },
     "metadata": {
      "tags": []
     },
     "output_type": "display_data"
    },
    {
     "name": "stdout",
     "output_type": "stream",
     "text": [
      "{'episode': 734, 'episode_length': 32, 'episode_return': -5.0}\n"
     ]
    },
    {
     "data": {
      "text/html": [
       "<b>Environment (2-back):</b><br /><pre><b>Stimuli:</b> 0344301001251525412401140112422</pre><pre><b>Actions:</b> ..M.MM.M..MM....M...M.MM..MMMMM</pre>"
      ],
      "text/plain": [
       "<IPython.core.display.HTML object>"
      ]
     },
     "metadata": {
      "tags": []
     },
     "output_type": "display_data"
    },
    {
     "name": "stdout",
     "output_type": "stream",
     "text": [
      "{'episode': 735, 'episode_length': 32, 'episode_return': 1.0}\n"
     ]
    },
    {
     "data": {
      "text/html": [
       "<b>Environment (2-back):</b><br /><pre><b>Stimuli:</b> 2351132041422230310003404112320</pre><pre><b>Actions:</b> MMM...M.M..M.M....MMM.M.MMM.M..</pre>"
      ],
      "text/plain": [
       "<IPython.core.display.HTML object>"
      ]
     },
     "metadata": {
      "tags": []
     },
     "output_type": "display_data"
    },
    {
     "name": "stdout",
     "output_type": "stream",
     "text": [
      "{'episode': 736, 'episode_length': 32, 'episode_return': 1.0}\n"
     ]
    },
    {
     "data": {
      "text/html": [
       "<b>Environment (2-back):</b><br /><pre><b>Stimuli:</b> 4220123205253152230150215512213</pre><pre><b>Actions:</b> MMMM.MM.M.MMM..MM.M.......M.M.M</pre>"
      ],
      "text/plain": [
       "<IPython.core.display.HTML object>"
      ]
     },
     "metadata": {
      "tags": []
     },
     "output_type": "display_data"
    },
    {
     "name": "stdout",
     "output_type": "stream",
     "text": [
      "{'episode': 737, 'episode_length': 32, 'episode_return': -1.0}\n"
     ]
    },
    {
     "data": {
      "text/html": [
       "<b>Environment (2-back):</b><br /><pre><b>Stimuli:</b> 0450302001033333433035332144002</pre><pre><b>Actions:</b> MM...M.M.M.MMM..M.M..M.MM.....M</pre>"
      ],
      "text/plain": [
       "<IPython.core.display.HTML object>"
      ]
     },
     "metadata": {
      "tags": []
     },
     "output_type": "display_data"
    },
    {
     "name": "stdout",
     "output_type": "stream",
     "text": [
      "{'episode': 738, 'episode_length': 32, 'episode_return': -3.0}\n"
     ]
    },
    {
     "data": {
      "text/html": [
       "<b>Environment (2-back):</b><br /><pre><b>Stimuli:</b> 4135015530305454052540241051244</pre><pre><b>Actions:</b> MM.M..M...M..MMM..MMM.MM.MMM.M.</pre>"
      ],
      "text/plain": [
       "<IPython.core.display.HTML object>"
      ]
     },
     "metadata": {
      "tags": []
     },
     "output_type": "display_data"
    },
    {
     "name": "stdout",
     "output_type": "stream",
     "text": [
      "{'episode': 739, 'episode_length': 32, 'episode_return': 5.0}\n"
     ]
    },
    {
     "data": {
      "text/html": [
       "<b>Environment (2-back):</b><br /><pre><b>Stimuli:</b> 1540304430530153401500500134220</pre><pre><b>Actions:</b> MMMM.MM.....M...M.M...MMM..M.MM</pre>"
      ],
      "text/plain": [
       "<IPython.core.display.HTML object>"
      ]
     },
     "metadata": {
      "tags": []
     },
     "output_type": "display_data"
    },
    {
     "name": "stdout",
     "output_type": "stream",
     "text": [
      "{'episode': 740, 'episode_length': 32, 'episode_return': 7.0}\n"
     ]
    },
    {
     "data": {
      "text/html": [
       "<b>Environment (2-back):</b><br /><pre><b>Stimuli:</b> 3155033431013553231022245453553</pre><pre><b>Actions:</b> M.MM.MM.MM......MMM..MM.M...M.M</pre>"
      ],
      "text/plain": [
       "<IPython.core.display.HTML object>"
      ]
     },
     "metadata": {
      "tags": []
     },
     "output_type": "display_data"
    },
    {
     "name": "stdout",
     "output_type": "stream",
     "text": [
      "{'episode': 741, 'episode_length': 32, 'episode_return': 5.0}\n"
     ]
    },
    {
     "data": {
      "text/html": [
       "<b>Environment (2-back):</b><br /><pre><b>Stimuli:</b> 3520415404151254402040501323101</pre><pre><b>Actions:</b> .MM...MMM.M.M.M..M.M...M.M.M.M.</pre>"
      ],
      "text/plain": [
       "<IPython.core.display.HTML object>"
      ]
     },
     "metadata": {
      "tags": []
     },
     "output_type": "display_data"
    },
    {
     "name": "stdout",
     "output_type": "stream",
     "text": [
      "{'episode': 742, 'episode_length': 32, 'episode_return': 5.0}\n"
     ]
    },
    {
     "data": {
      "text/html": [
       "<b>Environment (2-back):</b><br /><pre><b>Stimuli:</b> 4113111210025140440510000253404</pre><pre><b>Actions:</b> M.MM..MM.M......MM.MM.MMM.M.MMM</pre>"
      ],
      "text/plain": [
       "<IPython.core.display.HTML object>"
      ]
     },
     "metadata": {
      "tags": []
     },
     "output_type": "display_data"
    },
    {
     "name": "stdout",
     "output_type": "stream",
     "text": [
      "{'episode': 743, 'episode_length': 32, 'episode_return': 5.0}\n"
     ]
    },
    {
     "data": {
      "text/html": [
       "<b>Environment (2-back):</b><br /><pre><b>Stimuli:</b> 1122005202205540122454244450014</pre><pre><b>Actions:</b> .M.MM.MMMM.MMM.....MMMMM.MMM..M</pre>"
      ],
      "text/plain": [
       "<IPython.core.display.HTML object>"
      ]
     },
     "metadata": {
      "tags": []
     },
     "output_type": "display_data"
    },
    {
     "name": "stdout",
     "output_type": "stream",
     "text": [
      "{'episode': 744, 'episode_length': 32, 'episode_return': 1.0}\n"
     ]
    },
    {
     "data": {
      "text/html": [
       "<b>Environment (2-back):</b><br /><pre><b>Stimuli:</b> 2333344501051001330425020013434</pre><pre><b>Actions:</b> M...MM.MM.M.M.MM..MMM.M.MMMMMM.</pre>"
      ],
      "text/plain": [
       "<IPython.core.display.HTML object>"
      ]
     },
     "metadata": {
      "tags": []
     },
     "output_type": "display_data"
    },
    {
     "name": "stdout",
     "output_type": "stream",
     "text": [
      "{'episode': 745, 'episode_length': 32, 'episode_return': -5.0}\n"
     ]
    },
    {
     "data": {
      "text/html": [
       "<b>Environment (2-back):</b><br /><pre><b>Stimuli:</b> 0525331243535535345053305014454</pre><pre><b>Actions:</b> ..MM.M.M.MMM..MMM..M.M.M.M.MM..</pre>"
      ],
      "text/plain": [
       "<IPython.core.display.HTML object>"
      ]
     },
     "metadata": {
      "tags": []
     },
     "output_type": "display_data"
    },
    {
     "name": "stdout",
     "output_type": "stream",
     "text": [
      "{'episode': 746, 'episode_length': 32, 'episode_return': 1.0}\n"
     ]
    },
    {
     "data": {
      "text/html": [
       "<b>Environment (2-back):</b><br /><pre><b>Stimuli:</b> 2130530002040300305052150224335</pre><pre><b>Actions:</b> MM.MMM.MMMM.MMM..MMMM...M..MM..</pre>"
      ],
      "text/plain": [
       "<IPython.core.display.HTML object>"
      ]
     },
     "metadata": {
      "tags": []
     },
     "output_type": "display_data"
    },
    {
     "name": "stdout",
     "output_type": "stream",
     "text": [
      "{'episode': 747, 'episode_length': 32, 'episode_return': 7.0}\n"
     ]
    },
    {
     "data": {
      "text/html": [
       "<b>Environment (2-back):</b><br /><pre><b>Stimuli:</b> 1040334020023524220514115412301</pre><pre><b>Actions:</b> M.M..M.MM....M.MM..M.M.M....M..</pre>"
      ],
      "text/plain": [
       "<IPython.core.display.HTML object>"
      ]
     },
     "metadata": {
      "tags": []
     },
     "output_type": "display_data"
    },
    {
     "name": "stdout",
     "output_type": "stream",
     "text": [
      "{'episode': 748, 'episode_length': 32, 'episode_return': 5.0}\n"
     ]
    },
    {
     "data": {
      "text/html": [
       "<b>Environment (2-back):</b><br /><pre><b>Stimuli:</b> 3114321310051543004235322553123</pre><pre><b>Actions:</b> MMM....MMM.M...M...M..M.MMMM..M</pre>"
      ],
      "text/plain": [
       "<IPython.core.display.HTML object>"
      ]
     },
     "metadata": {
      "tags": []
     },
     "output_type": "display_data"
    },
    {
     "name": "stdout",
     "output_type": "stream",
     "text": [
      "{'episode': 749, 'episode_length': 32, 'episode_return': 5.0}\n"
     ]
    },
    {
     "data": {
      "text/html": [
       "<b>Environment (2-back):</b><br /><pre><b>Stimuli:</b> 3040140031421023145020531515141</pre><pre><b>Actions:</b> .M...MMMMM..MM..MMMMMM..M.M.M..</pre>"
      ],
      "text/plain": [
       "<IPython.core.display.HTML object>"
      ]
     },
     "metadata": {
      "tags": []
     },
     "output_type": "display_data"
    },
    {
     "name": "stdout",
     "output_type": "stream",
     "text": [
      "{'episode': 750, 'episode_length': 32, 'episode_return': -1.0}\n"
     ]
    },
    {
     "data": {
      "text/html": [
       "<b>Environment (2-back):</b><br /><pre><b>Stimuli:</b> 0222053250502350541112513123105</pre><pre><b>Actions:</b> MMM.M....M.MM.MMM.M.M.M..MM..MM</pre>"
      ],
      "text/plain": [
       "<IPython.core.display.HTML object>"
      ]
     },
     "metadata": {
      "tags": []
     },
     "output_type": "display_data"
    },
    {
     "name": "stdout",
     "output_type": "stream",
     "text": [
      "{'episode': 751, 'episode_length': 32, 'episode_return': 1.0}\n"
     ]
    },
    {
     "data": {
      "text/html": [
       "<b>Environment (2-back):</b><br /><pre><b>Stimuli:</b> 3110054220202300351242151211041</pre><pre><b>Actions:</b> ....MMMMM.MM..M.MM.M.M.MM.MMMMM</pre>"
      ],
      "text/plain": [
       "<IPython.core.display.HTML object>"
      ]
     },
     "metadata": {
      "tags": []
     },
     "output_type": "display_data"
    },
    {
     "name": "stdout",
     "output_type": "stream",
     "text": [
      "{'episode': 752, 'episode_length': 32, 'episode_return': 1.0}\n"
     ]
    },
    {
     "data": {
      "text/html": [
       "<b>Environment (2-back):</b><br /><pre><b>Stimuli:</b> 4055404050020251250441315112541</pre><pre><b>Actions:</b> .MMM.MM.M.M.MMM.MM.M.....M.M.MM</pre>"
      ],
      "text/plain": [
       "<IPython.core.display.HTML object>"
      ]
     },
     "metadata": {
      "tags": []
     },
     "output_type": "display_data"
    },
    {
     "name": "stdout",
     "output_type": "stream",
     "text": [
      "{'episode': 753, 'episode_length': 32, 'episode_return': 1.0}\n"
     ]
    },
    {
     "data": {
      "text/html": [
       "<b>Environment (2-back):</b><br /><pre><b>Stimuli:</b> 0353450543130535155440442143104</pre><pre><b>Actions:</b> MMMMMMMM.M.....MMMMMMM....M.MM.</pre>"
      ],
      "text/plain": [
       "<IPython.core.display.HTML object>"
      ]
     },
     "metadata": {
      "tags": []
     },
     "output_type": "display_data"
    },
    {
     "name": "stdout",
     "output_type": "stream",
     "text": [
      "{'episode': 754, 'episode_length': 32, 'episode_return': -3.0}\n"
     ]
    },
    {
     "data": {
      "text/html": [
       "<b>Environment (2-back):</b><br /><pre><b>Stimuli:</b> 3123533341013333345304323545451</pre><pre><b>Actions:</b> ..MM..MMMM.M.M...MMM..MMM.MM..M</pre>"
      ],
      "text/plain": [
       "<IPython.core.display.HTML object>"
      ]
     },
     "metadata": {
      "tags": []
     },
     "output_type": "display_data"
    },
    {
     "name": "stdout",
     "output_type": "stream",
     "text": [
      "{'episode': 755, 'episode_length': 32, 'episode_return': -7.0}\n"
     ]
    },
    {
     "data": {
      "text/html": [
       "<b>Environment (2-back):</b><br /><pre><b>Stimuli:</b> 2535325245155134020232001155540</pre><pre><b>Actions:</b> ...M..M.M..MM..M....M.M.MMMMMMM</pre>"
      ],
      "text/plain": [
       "<IPython.core.display.HTML object>"
      ]
     },
     "metadata": {
      "tags": []
     },
     "output_type": "display_data"
    },
    {
     "name": "stdout",
     "output_type": "stream",
     "text": [
      "{'episode': 756, 'episode_length': 32, 'episode_return': -3.0}\n"
     ]
    },
    {
     "data": {
      "text/html": [
       "<b>Environment (2-back):</b><br /><pre><b>Stimuli:</b> 5020033510332345523553233550203</pre><pre><b>Actions:</b> ..MM..MMMM.MM.M..MM.M...M.MM...</pre>"
      ],
      "text/plain": [
       "<IPython.core.display.HTML object>"
      ]
     },
     "metadata": {
      "tags": []
     },
     "output_type": "display_data"
    },
    {
     "name": "stdout",
     "output_type": "stream",
     "text": [
      "{'episode': 757, 'episode_length': 32, 'episode_return': -3.0}\n"
     ]
    },
    {
     "data": {
      "text/html": [
       "<b>Environment (2-back):</b><br /><pre><b>Stimuli:</b> 5235231413021134132000123025141</pre><pre><b>Actions:</b> .M.MMMMMMMMM.MM..M..MM..MM....M</pre>"
      ],
      "text/plain": [
       "<IPython.core.display.HTML object>"
      ]
     },
     "metadata": {
      "tags": []
     },
     "output_type": "display_data"
    },
    {
     "name": "stdout",
     "output_type": "stream",
     "text": [
      "{'episode': 758, 'episode_length': 32, 'episode_return': 1.0}\n"
     ]
    },
    {
     "data": {
      "text/html": [
       "<b>Environment (2-back):</b><br /><pre><b>Stimuli:</b> 0421223113103042125551251441504</pre><pre><b>Actions:</b> MM..M.MM..MMMM..M..M..M..M.MM..</pre>"
      ],
      "text/plain": [
       "<IPython.core.display.HTML object>"
      ]
     },
     "metadata": {
      "tags": []
     },
     "output_type": "display_data"
    },
    {
     "name": "stdout",
     "output_type": "stream",
     "text": [
      "{'episode': 759, 'episode_length': 32, 'episode_return': 3.0}\n"
     ]
    },
    {
     "data": {
      "text/html": [
       "<b>Environment (2-back):</b><br /><pre><b>Stimuli:</b> 5344104105122035350342052550504</pre><pre><b>Actions:</b> .MM.M.......MMM.M..MM.MMM.M.M..</pre>"
      ],
      "text/plain": [
       "<IPython.core.display.HTML object>"
      ]
     },
     "metadata": {
      "tags": []
     },
     "output_type": "display_data"
    },
    {
     "name": "stdout",
     "output_type": "stream",
     "text": [
      "{'episode': 760, 'episode_length': 32, 'episode_return': 1.0}\n"
     ]
    },
    {
     "data": {
      "text/html": [
       "<b>Environment (2-back):</b><br /><pre><b>Stimuli:</b> 3520034110102451551422424553445</pre><pre><b>Actions:</b> MM..MM..MM....M..MM...MMM..M...</pre>"
      ],
      "text/plain": [
       "<IPython.core.display.HTML object>"
      ]
     },
     "metadata": {
      "tags": []
     },
     "output_type": "display_data"
    },
    {
     "name": "stdout",
     "output_type": "stream",
     "text": [
      "{'episode': 761, 'episode_length': 32, 'episode_return': 3.0}\n"
     ]
    },
    {
     "data": {
      "text/html": [
       "<b>Environment (2-back):</b><br /><pre><b>Stimuli:</b> 1530345231132043503522035134534</pre><pre><b>Actions:</b> .MM.M...MMMMM.MM.M..M.M.....M.M</pre>"
      ],
      "text/plain": [
       "<IPython.core.display.HTML object>"
      ]
     },
     "metadata": {
      "tags": []
     },
     "output_type": "display_data"
    },
    {
     "name": "stdout",
     "output_type": "stream",
     "text": [
      "{'episode': 762, 'episode_length': 32, 'episode_return': 3.0}\n"
     ]
    },
    {
     "data": {
      "text/html": [
       "<b>Environment (2-back):</b><br /><pre><b>Stimuli:</b> 1545031211151002501501535223101</pre><pre><b>Actions:</b> MM.MMM...MMM.M..MM.M.MM.M..M.MM</pre>"
      ],
      "text/plain": [
       "<IPython.core.display.HTML object>"
      ]
     },
     "metadata": {
      "tags": []
     },
     "output_type": "display_data"
    },
    {
     "name": "stdout",
     "output_type": "stream",
     "text": [
      "{'episode': 763, 'episode_length': 32, 'episode_return': 3.0}\n"
     ]
    },
    {
     "data": {
      "text/html": [
       "<b>Environment (2-back):</b><br /><pre><b>Stimuli:</b> 4020352415021053535231341004350</pre><pre><b>Actions:</b> ..MM.MMM.M..M.M..MMM..MMMM...M.</pre>"
      ],
      "text/plain": [
       "<IPython.core.display.HTML object>"
      ]
     },
     "metadata": {
      "tags": []
     },
     "output_type": "display_data"
    },
    {
     "name": "stdout",
     "output_type": "stream",
     "text": [
      "{'episode': 764, 'episode_length': 32, 'episode_return': 5.0}\n"
     ]
    },
    {
     "data": {
      "text/html": [
       "<b>Environment (2-back):</b><br /><pre><b>Stimuli:</b> 0241201410242340305435333334354</pre><pre><b>Actions:</b> MMM.MM.MMM..MMMMMMMMM.M..MM.MM.</pre>"
      ],
      "text/plain": [
       "<IPython.core.display.HTML object>"
      ]
     },
     "metadata": {
      "tags": []
     },
     "output_type": "display_data"
    },
    {
     "name": "stdout",
     "output_type": "stream",
     "text": [
      "{'episode': 765, 'episode_length': 32, 'episode_return': -1.0}\n"
     ]
    },
    {
     "data": {
      "text/html": [
       "<b>Environment (2-back):</b><br /><pre><b>Stimuli:</b> 3240312105144331400033124142430</pre><pre><b>Actions:</b> MMMMM..MM.MM.M..MM.M.....M..M.M</pre>"
      ],
      "text/plain": [
       "<IPython.core.display.HTML object>"
      ]
     },
     "metadata": {
      "tags": []
     },
     "output_type": "display_data"
    },
    {
     "name": "stdout",
     "output_type": "stream",
     "text": [
      "{'episode': 766, 'episode_length': 32, 'episode_return': 5.0}\n"
     ]
    },
    {
     "data": {
      "text/html": [
       "<b>Environment (2-back):</b><br /><pre><b>Stimuli:</b> 4314434045110300110114244131041</pre><pre><b>Actions:</b> MMM.MMMMM..MM.M.M.M..MM.MM..MM.</pre>"
      ],
      "text/plain": [
       "<IPython.core.display.HTML object>"
      ]
     },
     "metadata": {
      "tags": []
     },
     "output_type": "display_data"
    },
    {
     "name": "stdout",
     "output_type": "stream",
     "text": [
      "{'episode': 767, 'episode_length': 32, 'episode_return': -7.0}\n"
     ]
    },
    {
     "data": {
      "text/html": [
       "<b>Environment (2-back):</b><br /><pre><b>Stimuli:</b> 5541303545322335142400114353100</pre><pre><b>Actions:</b> M.MMM..MMMM....MM..M.MMM...MMMM</pre>"
      ],
      "text/plain": [
       "<IPython.core.display.HTML object>"
      ]
     },
     "metadata": {
      "tags": []
     },
     "output_type": "display_data"
    },
    {
     "name": "stdout",
     "output_type": "stream",
     "text": [
      "{'episode': 768, 'episode_length': 32, 'episode_return': -1.0}\n"
     ]
    },
    {
     "data": {
      "text/html": [
       "<b>Environment (2-back):</b><br /><pre><b>Stimuli:</b> 2430505133341055315355435032253</pre><pre><b>Actions:</b> .MM.M......M....M.M.MMM....M.M.</pre>"
      ],
      "text/plain": [
       "<IPython.core.display.HTML object>"
      ]
     },
     "metadata": {
      "tags": []
     },
     "output_type": "display_data"
    },
    {
     "name": "stdout",
     "output_type": "stream",
     "text": [
      "{'episode': 769, 'episode_length': 32, 'episode_return': 7.0}\n"
     ]
    },
    {
     "data": {
      "text/html": [
       "<b>Environment (2-back):</b><br /><pre><b>Stimuli:</b> 1502002231011241003420120020111</pre><pre><b>Actions:</b> MMMMM.MM..MMMMMM.M...MM...MM...</pre>"
      ],
      "text/plain": [
       "<IPython.core.display.HTML object>"
      ]
     },
     "metadata": {
      "tags": []
     },
     "output_type": "display_data"
    },
    {
     "name": "stdout",
     "output_type": "stream",
     "text": [
      "{'episode': 770, 'episode_length': 32, 'episode_return': 3.0}\n"
     ]
    },
    {
     "data": {
      "text/html": [
       "<b>Environment (2-back):</b><br /><pre><b>Stimuli:</b> 1141001123245543411135534401320</pre><pre><b>Actions:</b> .MMMM.M.........M...M....M...MM</pre>"
      ],
      "text/plain": [
       "<IPython.core.display.HTML object>"
      ]
     },
     "metadata": {
      "tags": []
     },
     "output_type": "display_data"
    },
    {
     "name": "stdout",
     "output_type": "stream",
     "text": [
      "{'episode': 771, 'episode_length': 32, 'episode_return': 11.0}\n"
     ]
    },
    {
     "data": {
      "text/html": [
       "<b>Environment (2-back):</b><br /><pre><b>Stimuli:</b> 5020340554223501011143522310514</pre><pre><b>Actions:</b> ..MM..M...MMMM.MMM.......MMMM.M</pre>"
      ],
      "text/plain": [
       "<IPython.core.display.HTML object>"
      ]
     },
     "metadata": {
      "tags": []
     },
     "output_type": "display_data"
    },
    {
     "name": "stdout",
     "output_type": "stream",
     "text": [
      "{'episode': 772, 'episode_length': 32, 'episode_return': 5.0}\n"
     ]
    },
    {
     "data": {
      "text/html": [
       "<b>Environment (2-back):</b><br /><pre><b>Stimuli:</b> 4404321123332325355051154243522</pre><pre><b>Actions:</b> MM...M..MMM.M.MMMM..MMM.M.M...M</pre>"
      ],
      "text/plain": [
       "<IPython.core.display.HTML object>"
      ]
     },
     "metadata": {
      "tags": []
     },
     "output_type": "display_data"
    },
    {
     "name": "stdout",
     "output_type": "stream",
     "text": [
      "{'episode': 773, 'episode_length': 32, 'episode_return': -1.0}\n"
     ]
    },
    {
     "data": {
      "text/html": [
       "<b>Environment (2-back):</b><br /><pre><b>Stimuli:</b> 5214311420453401131241313550510</pre><pre><b>Actions:</b> MMMMMM....M..MMM...MMM.MMMM..MM</pre>"
      ],
      "text/plain": [
       "<IPython.core.display.HTML object>"
      ]
     },
     "metadata": {
      "tags": []
     },
     "output_type": "display_data"
    },
    {
     "name": "stdout",
     "output_type": "stream",
     "text": [
      "{'episode': 774, 'episode_length': 32, 'episode_return': -7.0}\n"
     ]
    },
    {
     "data": {
      "text/html": [
       "<b>Environment (2-back):</b><br /><pre><b>Stimuli:</b> 3433532512204531112402152201151</pre><pre><b>Actions:</b> .M.M.MMM..M.MM..MM..MMM..M...M.</pre>"
      ],
      "text/plain": [
       "<IPython.core.display.HTML object>"
      ]
     },
     "metadata": {
      "tags": []
     },
     "output_type": "display_data"
    },
    {
     "name": "stdout",
     "output_type": "stream",
     "text": [
      "{'episode': 775, 'episode_length': 32, 'episode_return': 1.0}\n"
     ]
    },
    {
     "data": {
      "text/html": [
       "<b>Environment (2-back):</b><br /><pre><b>Stimuli:</b> 3145434525321521434343012403202</pre><pre><b>Actions:</b> ..M....MMMM....MMMMM..MM.M...MM</pre>"
      ],
      "text/plain": [
       "<IPython.core.display.HTML object>"
      ]
     },
     "metadata": {
      "tags": []
     },
     "output_type": "display_data"
    },
    {
     "name": "stdout",
     "output_type": "stream",
     "text": [
      "{'episode': 776, 'episode_length': 32, 'episode_return': 1.0}\n"
     ]
    },
    {
     "data": {
      "text/html": [
       "<b>Environment (2-back):</b><br /><pre><b>Stimuli:</b> 2441330520100402414501310522211</pre><pre><b>Actions:</b> MM.M.M.M...M.M...MMM.M..MMMM.M.</pre>"
      ],
      "text/plain": [
       "<IPython.core.display.HTML object>"
      ]
     },
     "metadata": {
      "tags": []
     },
     "output_type": "display_data"
    },
    {
     "name": "stdout",
     "output_type": "stream",
     "text": [
      "{'episode': 777, 'episode_length': 32, 'episode_return': -3.0}\n"
     ]
    },
    {
     "data": {
      "text/html": [
       "<b>Environment (2-back):</b><br /><pre><b>Stimuli:</b> 3512255150323244301315143211302</pre><pre><b>Actions:</b> MM...MM.MM.MMM..M.MMM.MMM.MMMMM</pre>"
      ],
      "text/plain": [
       "<IPython.core.display.HTML object>"
      ]
     },
     "metadata": {
      "tags": []
     },
     "output_type": "display_data"
    },
    {
     "name": "stdout",
     "output_type": "stream",
     "text": [
      "{'episode': 778, 'episode_length': 32, 'episode_return': -1.0}\n"
     ]
    },
    {
     "data": {
      "text/html": [
       "<b>Environment (2-back):</b><br /><pre><b>Stimuli:</b> 2105351002552353432325310455401</pre><pre><b>Actions:</b> .M.....MMM....MMM.M.MM.MMM..M..</pre>"
      ],
      "text/plain": [
       "<IPython.core.display.HTML object>"
      ]
     },
     "metadata": {
      "tags": []
     },
     "output_type": "display_data"
    },
    {
     "name": "stdout",
     "output_type": "stream",
     "text": [
      "{'episode': 779, 'episode_length': 32, 'episode_return': 1.0}\n"
     ]
    },
    {
     "data": {
      "text/html": [
       "<b>Environment (2-back):</b><br /><pre><b>Stimuli:</b> 5042355315544105134445515513423</pre><pre><b>Actions:</b> .MM.M...M.M....MM....MMMM.M....</pre>"
      ],
      "text/plain": [
       "<IPython.core.display.HTML object>"
      ]
     },
     "metadata": {
      "tags": []
     },
     "output_type": "display_data"
    },
    {
     "name": "stdout",
     "output_type": "stream",
     "text": [
      "{'episode': 780, 'episode_length': 32, 'episode_return': 7.0}\n"
     ]
    },
    {
     "data": {
      "text/html": [
       "<b>Environment (2-back):</b><br /><pre><b>Stimuli:</b> 5355555034044040035420314532054</pre><pre><b>Actions:</b> .MMMMMMM..M.....MM...MMMMMM.M.M</pre>"
      ],
      "text/plain": [
       "<IPython.core.display.HTML object>"
      ]
     },
     "metadata": {
      "tags": []
     },
     "output_type": "display_data"
    },
    {
     "name": "stdout",
     "output_type": "stream",
     "text": [
      "{'episode': 781, 'episode_length': 32, 'episode_return': -3.0}\n"
     ]
    },
    {
     "data": {
      "text/html": [
       "<b>Environment (2-back):</b><br /><pre><b>Stimuli:</b> 1503151302245245031000043425410</pre><pre><b>Actions:</b> .MMMMMMMM...MM.M..M..M.M...MM.M</pre>"
      ],
      "text/plain": [
       "<IPython.core.display.HTML object>"
      ]
     },
     "metadata": {
      "tags": []
     },
     "output_type": "display_data"
    },
    {
     "name": "stdout",
     "output_type": "stream",
     "text": [
      "{'episode': 782, 'episode_length': 32, 'episode_return': -3.0}\n"
     ]
    },
    {
     "data": {
      "text/html": [
       "<b>Environment (2-back):</b><br /><pre><b>Stimuli:</b> 0233443104035422131245151332022</pre><pre><b>Actions:</b> M.M.MMMM.M.M.MM..M.MMM.MMMMMMM.</pre>"
      ],
      "text/plain": [
       "<IPython.core.display.HTML object>"
      ]
     },
     "metadata": {
      "tags": []
     },
     "output_type": "display_data"
    },
    {
     "name": "stdout",
     "output_type": "stream",
     "text": [
      "{'episode': 783, 'episode_length': 32, 'episode_return': -9.0}\n"
     ]
    },
    {
     "data": {
      "text/html": [
       "<b>Environment (2-back):</b><br /><pre><b>Stimuli:</b> 3525005424233543222125345411130</pre><pre><b>Actions:</b> .MM.MM.MMMM.MM..M.MM.MM.M..M...</pre>"
      ],
      "text/plain": [
       "<IPython.core.display.HTML object>"
      ]
     },
     "metadata": {
      "tags": []
     },
     "output_type": "display_data"
    },
    {
     "name": "stdout",
     "output_type": "stream",
     "text": [
      "{'episode': 784, 'episode_length': 32, 'episode_return': -5.0}\n"
     ]
    },
    {
     "data": {
      "text/html": [
       "<b>Environment (2-back):</b><br /><pre><b>Stimuli:</b> 2101100004403354533120102355214</pre><pre><b>Actions:</b> MMM.MMMMMM..M...M..M.MM..M..MM.</pre>"
      ],
      "text/plain": [
       "<IPython.core.display.HTML object>"
      ]
     },
     "metadata": {
      "tags": []
     },
     "output_type": "display_data"
    },
    {
     "name": "stdout",
     "output_type": "stream",
     "text": [
      "{'episode': 785, 'episode_length': 32, 'episode_return': 1.0}\n"
     ]
    },
    {
     "data": {
      "text/html": [
       "<b>Environment (2-back):</b><br /><pre><b>Stimuli:</b> 0243052051322551325320221402500</pre><pre><b>Actions:</b> .MMM..M.M.M.MMMM.MM.M..MMMM..M.</pre>"
      ],
      "text/plain": [
       "<IPython.core.display.HTML object>"
      ]
     },
     "metadata": {
      "tags": []
     },
     "output_type": "display_data"
    },
    {
     "name": "stdout",
     "output_type": "stream",
     "text": [
      "{'episode': 786, 'episode_length': 32, 'episode_return': -9.0}\n"
     ]
    },
    {
     "data": {
      "text/html": [
       "<b>Environment (2-back):</b><br /><pre><b>Stimuli:</b> 5522513102453241300433023314502</pre><pre><b>Actions:</b> ....MMMMM.M.....M..MM..M..M.MMM</pre>"
      ],
      "text/plain": [
       "<IPython.core.display.HTML object>"
      ]
     },
     "metadata": {
      "tags": []
     },
     "output_type": "display_data"
    },
    {
     "name": "stdout",
     "output_type": "stream",
     "text": [
      "{'episode': 787, 'episode_length': 32, 'episode_return': 3.0}\n"
     ]
    },
    {
     "data": {
      "text/html": [
       "<b>Environment (2-back):</b><br /><pre><b>Stimuli:</b> 0512232550025453041031533341333</pre><pre><b>Actions:</b> .M...M.MM.....MMMM....M.M.MMM..</pre>"
      ],
      "text/plain": [
       "<IPython.core.display.HTML object>"
      ]
     },
     "metadata": {
      "tags": []
     },
     "output_type": "display_data"
    },
    {
     "name": "stdout",
     "output_type": "stream",
     "text": [
      "{'episode': 788, 'episode_length': 32, 'episode_return': 1.0}\n"
     ]
    },
    {
     "data": {
      "text/html": [
       "<b>Environment (2-back):</b><br /><pre><b>Stimuli:</b> 3140045433002400402230153241023</pre><pre><b>Actions:</b> MM.MMM.......M....M.MMM.M.M.MMM</pre>"
      ],
      "text/plain": [
       "<IPython.core.display.HTML object>"
      ]
     },
     "metadata": {
      "tags": []
     },
     "output_type": "display_data"
    },
    {
     "name": "stdout",
     "output_type": "stream",
     "text": [
      "{'episode': 789, 'episode_length': 32, 'episode_return': -1.0}\n"
     ]
    },
    {
     "data": {
      "text/html": [
       "<b>Environment (2-back):</b><br /><pre><b>Stimuli:</b> 3553234124245133255511530140055</pre><pre><b>Actions:</b> .MM..MM.MMMMMM..M..M.MM.M..MMMM</pre>"
      ],
      "text/plain": [
       "<IPython.core.display.HTML object>"
      ]
     },
     "metadata": {
      "tags": []
     },
     "output_type": "display_data"
    },
    {
     "name": "stdout",
     "output_type": "stream",
     "text": [
      "{'episode': 790, 'episode_length': 32, 'episode_return': 1.0}\n"
     ]
    },
    {
     "data": {
      "text/html": [
       "<b>Environment (2-back):</b><br /><pre><b>Stimuli:</b> 3134130523111245232341112530434</pre><pre><b>Actions:</b> M..MMMMM.M....MM..MM.MM.MM..MMM</pre>"
      ],
      "text/plain": [
       "<IPython.core.display.HTML object>"
      ]
     },
     "metadata": {
      "tags": []
     },
     "output_type": "display_data"
    },
    {
     "name": "stdout",
     "output_type": "stream",
     "text": [
      "{'episode': 791, 'episode_length': 32, 'episode_return': -5.0}\n"
     ]
    },
    {
     "data": {
      "text/html": [
       "<b>Environment (2-back):</b><br /><pre><b>Stimuli:</b> 0455225504324042524105113320303</pre><pre><b>Actions:</b> .MMM.M.M.M...M...M.MM.....M...M</pre>"
      ],
      "text/plain": [
       "<IPython.core.display.HTML object>"
      ]
     },
     "metadata": {
      "tags": []
     },
     "output_type": "display_data"
    },
    {
     "name": "stdout",
     "output_type": "stream",
     "text": [
      "{'episode': 792, 'episode_length': 32, 'episode_return': 9.0}\n"
     ]
    },
    {
     "data": {
      "text/html": [
       "<b>Environment (2-back):</b><br /><pre><b>Stimuli:</b> 2031010414014415103022152411540</pre><pre><b>Actions:</b> M.MM.MM..M..M..M..M.M.M....M...</pre>"
      ],
      "text/plain": [
       "<IPython.core.display.HTML object>"
      ]
     },
     "metadata": {
      "tags": []
     },
     "output_type": "display_data"
    },
    {
     "name": "stdout",
     "output_type": "stream",
     "text": [
      "{'episode': 793, 'episode_length': 32, 'episode_return': 7.0}\n"
     ]
    },
    {
     "data": {
      "text/html": [
       "<b>Environment (2-back):</b><br /><pre><b>Stimuli:</b> 0244242531515023014211525050234</pre><pre><b>Actions:</b> M...MMM.MM.MMMM.MMM..MM.MM.MMMM</pre>"
      ],
      "text/plain": [
       "<IPython.core.display.HTML object>"
      ]
     },
     "metadata": {
      "tags": []
     },
     "output_type": "display_data"
    },
    {
     "name": "stdout",
     "output_type": "stream",
     "text": [
      "{'episode': 794, 'episode_length': 32, 'episode_return': -1.0}\n"
     ]
    },
    {
     "data": {
      "text/html": [
       "<b>Environment (2-back):</b><br /><pre><b>Stimuli:</b> 1330135313555344255242551003330</pre><pre><b>Actions:</b> MM.MM.MMM.M...MMM.MM.MMM.MM.M..</pre>"
      ],
      "text/plain": [
       "<IPython.core.display.HTML object>"
      ]
     },
     "metadata": {
      "tags": []
     },
     "output_type": "display_data"
    },
    {
     "name": "stdout",
     "output_type": "stream",
     "text": [
      "{'episode': 795, 'episode_length': 32, 'episode_return': -9.0}\n"
     ]
    },
    {
     "data": {
      "text/html": [
       "<b>Environment (2-back):</b><br /><pre><b>Stimuli:</b> 5050221542231404110155104213442</pre><pre><b>Actions:</b> .M.MMMM.M....M.MMM.MM.MM.M.MMMM</pre>"
      ],
      "text/plain": [
       "<IPython.core.display.HTML object>"
      ]
     },
     "metadata": {
      "tags": []
     },
     "output_type": "display_data"
    },
    {
     "name": "stdout",
     "output_type": "stream",
     "text": [
      "{'episode': 796, 'episode_length': 32, 'episode_return': -3.0}\n"
     ]
    },
    {
     "data": {
      "text/html": [
       "<b>Environment (2-back):</b><br /><pre><b>Stimuli:</b> 4122532512044440151413223343210</pre><pre><b>Actions:</b> .MMMM.MM.M.MMMM..MM.M.M..MMM.M.</pre>"
      ],
      "text/plain": [
       "<IPython.core.display.HTML object>"
      ]
     },
     "metadata": {
      "tags": []
     },
     "output_type": "display_data"
    },
    {
     "name": "stdout",
     "output_type": "stream",
     "text": [
      "{'episode': 797, 'episode_length': 32, 'episode_return': 3.0}\n"
     ]
    },
    {
     "data": {
      "text/html": [
       "<b>Environment (2-back):</b><br /><pre><b>Stimuli:</b> 4202042004152415123250115515324</pre><pre><b>Actions:</b> ...MM..M...MM......M....MMM...M</pre>"
      ],
      "text/plain": [
       "<IPython.core.display.HTML object>"
      ]
     },
     "metadata": {
      "tags": []
     },
     "output_type": "display_data"
    },
    {
     "name": "stdout",
     "output_type": "stream",
     "text": [
      "{'episode': 798, 'episode_length': 32, 'episode_return': 11.0}\n"
     ]
    },
    {
     "data": {
      "text/html": [
       "<b>Environment (2-back):</b><br /><pre><b>Stimuli:</b> 2100014035402024310425042421204</pre><pre><b>Actions:</b> MMM.MMM.M..MM....M....M.MMMMMM.</pre>"
      ],
      "text/plain": [
       "<IPython.core.display.HTML object>"
      ]
     },
     "metadata": {
      "tags": []
     },
     "output_type": "display_data"
    },
    {
     "name": "stdout",
     "output_type": "stream",
     "text": [
      "{'episode': 799, 'episode_length': 32, 'episode_return': 1.0}\n"
     ]
    },
    {
     "data": {
      "text/html": [
       "<b>Environment (2-back):</b><br /><pre><b>Stimuli:</b> 0124454441355423105535000142452</pre><pre><b>Actions:</b> ...M....MM..MM.MMMMM.MMM.M.M.M.</pre>"
      ],
      "text/plain": [
       "<IPython.core.display.HTML object>"
      ]
     },
     "metadata": {
      "tags": []
     },
     "output_type": "display_data"
    },
    {
     "name": "stdout",
     "output_type": "stream",
     "text": [
      "{'episode': 800, 'episode_length': 32, 'episode_return': -3.0}\n"
     ]
    },
    {
     "data": {
      "text/html": [
       "<b>Environment (2-back):</b><br /><pre><b>Stimuli:</b> 3253430415410305342401503442500</pre><pre><b>Actions:</b> M..M...M.M.M.M.M..M.MMMM.MM.MM.</pre>"
      ],
      "text/plain": [
       "<IPython.core.display.HTML object>"
      ]
     },
     "metadata": {
      "tags": []
     },
     "output_type": "display_data"
    },
    {
     "name": "stdout",
     "output_type": "stream",
     "text": [
      "{'episode': 801, 'episode_length': 32, 'episode_return': -7.0}\n"
     ]
    },
    {
     "data": {
      "text/html": [
       "<b>Environment (2-back):</b><br /><pre><b>Stimuli:</b> 0422510252532041442341033204415</pre><pre><b>Actions:</b> ..MM.MM.MMM.MM..M..MM.MMMMMMM..</pre>"
      ],
      "text/plain": [
       "<IPython.core.display.HTML object>"
      ]
     },
     "metadata": {
      "tags": []
     },
     "output_type": "display_data"
    },
    {
     "name": "stdout",
     "output_type": "stream",
     "text": [
      "{'episode': 802, 'episode_length': 32, 'episode_return': -1.0}\n"
     ]
    },
    {
     "data": {
      "text/html": [
       "<b>Environment (2-back):</b><br /><pre><b>Stimuli:</b> 1431010134244551034513543005314</pre><pre><b>Actions:</b> MM.MMMMMM.M.MMM.M..M..MMMMMMM.M</pre>"
      ],
      "text/plain": [
       "<IPython.core.display.HTML object>"
      ]
     },
     "metadata": {
      "tags": []
     },
     "output_type": "display_data"
    },
    {
     "name": "stdout",
     "output_type": "stream",
     "text": [
      "{'episode': 803, 'episode_length': 32, 'episode_return': -9.0}\n"
     ]
    },
    {
     "data": {
      "text/html": [
       "<b>Environment (2-back):</b><br /><pre><b>Stimuli:</b> 1545434534112245430254205251305</pre><pre><b>Actions:</b> MMM.M.M....MMMM...M.MM...M..MM.</pre>"
      ],
      "text/plain": [
       "<IPython.core.display.HTML object>"
      ]
     },
     "metadata": {
      "tags": []
     },
     "output_type": "display_data"
    },
    {
     "name": "stdout",
     "output_type": "stream",
     "text": [
      "{'episode': 804, 'episode_length': 32, 'episode_return': -1.0}\n"
     ]
    },
    {
     "data": {
      "text/html": [
       "<b>Environment (2-back):</b><br /><pre><b>Stimuli:</b> 4401452124414042300014425411005</pre><pre><b>Actions:</b> .M..MM.....M.M.MMMMM.M.MM.MMMM.</pre>"
      ],
      "text/plain": [
       "<IPython.core.display.HTML object>"
      ]
     },
     "metadata": {
      "tags": []
     },
     "output_type": "display_data"
    },
    {
     "name": "stdout",
     "output_type": "stream",
     "text": [
      "{'episode': 805, 'episode_length': 32, 'episode_return': -7.0}\n"
     ]
    },
    {
     "data": {
      "text/html": [
       "<b>Environment (2-back):</b><br /><pre><b>Stimuli:</b> 3100042405252213032141420515102</pre><pre><b>Actions:</b> ..MM..MMM.MMMMM.M..M..MMM.M.M..</pre>"
      ],
      "text/plain": [
       "<IPython.core.display.HTML object>"
      ]
     },
     "metadata": {
      "tags": []
     },
     "output_type": "display_data"
    },
    {
     "name": "stdout",
     "output_type": "stream",
     "text": [
      "{'episode': 806, 'episode_length': 32, 'episode_return': -1.0}\n"
     ]
    },
    {
     "data": {
      "text/html": [
       "<b>Environment (2-back):</b><br /><pre><b>Stimuli:</b> 3244525000014150144112312522220</pre><pre><b>Actions:</b> .MMM.M..M..M.M..MMM..MMM.M..MM.</pre>"
      ],
      "text/plain": [
       "<IPython.core.display.HTML object>"
      ]
     },
     "metadata": {
      "tags": []
     },
     "output_type": "display_data"
    },
    {
     "name": "stdout",
     "output_type": "stream",
     "text": [
      "{'episode': 807, 'episode_length': 32, 'episode_return': -3.0}\n"
     ]
    },
    {
     "data": {
      "text/html": [
       "<b>Environment (2-back):</b><br /><pre><b>Stimuli:</b> 1451515323033030153423521155231</pre><pre><b>Actions:</b> M....M....MM..M.M.MM...MM.M.MMM</pre>"
      ],
      "text/plain": [
       "<IPython.core.display.HTML object>"
      ]
     },
     "metadata": {
      "tags": []
     },
     "output_type": "display_data"
    },
    {
     "name": "stdout",
     "output_type": "stream",
     "text": [
      "{'episode': 808, 'episode_length': 32, 'episode_return': 3.0}\n"
     ]
    },
    {
     "data": {
      "text/html": [
       "<b>Environment (2-back):</b><br /><pre><b>Stimuli:</b> 0311535314042235342311415103225</pre><pre><b>Actions:</b> M..M..M.M.....M.M.M..MM...MMMM.</pre>"
      ],
      "text/plain": [
       "<IPython.core.display.HTML object>"
      ]
     },
     "metadata": {
      "tags": []
     },
     "output_type": "display_data"
    },
    {
     "name": "stdout",
     "output_type": "stream",
     "text": [
      "{'episode': 809, 'episode_length': 32, 'episode_return': 1.0}\n"
     ]
    },
    {
     "data": {
      "text/html": [
       "<b>Environment (2-back):</b><br /><pre><b>Stimuli:</b> 0424154552155211520143212431234</pre><pre><b>Actions:</b> .M.M.M..M.MMMMM.M....M......MMM</pre>"
      ],
      "text/plain": [
       "<IPython.core.display.HTML object>"
      ]
     },
     "metadata": {
      "tags": []
     },
     "output_type": "display_data"
    },
    {
     "name": "stdout",
     "output_type": "stream",
     "text": [
      "{'episode': 810, 'episode_length': 32, 'episode_return': 1.0}\n"
     ]
    },
    {
     "data": {
      "text/html": [
       "<b>Environment (2-back):</b><br /><pre><b>Stimuli:</b> 2404500451244020250330252321202</pre><pre><b>Actions:</b> ...MM..M.M..MM.M...M.M.M...MMM.</pre>"
      ],
      "text/plain": [
       "<IPython.core.display.HTML object>"
      ]
     },
     "metadata": {
      "tags": []
     },
     "output_type": "display_data"
    },
    {
     "name": "stdout",
     "output_type": "stream",
     "text": [
      "{'episode': 811, 'episode_length': 32, 'episode_return': -1.0}\n"
     ]
    },
    {
     "data": {
      "text/html": [
       "<b>Environment (2-back):</b><br /><pre><b>Stimuli:</b> 4421253541205100541312502112441</pre><pre><b>Actions:</b> .MMM..M..M..MM..M.MM.MMM.MMMM..</pre>"
      ],
      "text/plain": [
       "<IPython.core.display.HTML object>"
      ]
     },
     "metadata": {
      "tags": []
     },
     "output_type": "display_data"
    },
    {
     "name": "stdout",
     "output_type": "stream",
     "text": [
      "{'episode': 812, 'episode_length': 32, 'episode_return': -9.0}\n"
     ]
    },
    {
     "data": {
      "text/html": [
       "<b>Environment (2-back):</b><br /><pre><b>Stimuli:</b> 4450013411212031414050215040023</pre><pre><b>Actions:</b> .M.M...M...MM.MMMMMMM..M...M...</pre>"
      ],
      "text/plain": [
       "<IPython.core.display.HTML object>"
      ]
     },
     "metadata": {
      "tags": []
     },
     "output_type": "display_data"
    },
    {
     "name": "stdout",
     "output_type": "stream",
     "text": [
      "{'episode': 813, 'episode_length': 32, 'episode_return': 11.0}\n"
     ]
    },
    {
     "data": {
      "text/html": [
       "<b>Environment (2-back):</b><br /><pre><b>Stimuli:</b> 1125104412142052152033232444221</pre><pre><b>Actions:</b> ....MMMM.M....MMM...M..MMMM.M..</pre>"
      ],
      "text/plain": [
       "<IPython.core.display.HTML object>"
      ]
     },
     "metadata": {
      "tags": []
     },
     "output_type": "display_data"
    },
    {
     "name": "stdout",
     "output_type": "stream",
     "text": [
      "{'episode': 814, 'episode_length': 32, 'episode_return': 1.0}\n"
     ]
    },
    {
     "data": {
      "text/html": [
       "<b>Environment (2-back):</b><br /><pre><b>Stimuli:</b> 3144520443125510235435414512205</pre><pre><b>Actions:</b> ..M.M.MMMMM.M..M.M......M.MM...</pre>"
      ],
      "text/plain": [
       "<IPython.core.display.HTML object>"
      ]
     },
     "metadata": {
      "tags": []
     },
     "output_type": "display_data"
    },
    {
     "name": "stdout",
     "output_type": "stream",
     "text": [
      "{'episode': 815, 'episode_length': 32, 'episode_return': 7.0}\n"
     ]
    },
    {
     "data": {
      "text/html": [
       "<b>Environment (2-back):</b><br /><pre><b>Stimuli:</b> 5505223311455442125200025513420</pre><pre><b>Actions:</b> .....M.M..MM.MM.....M....M.MM.M</pre>"
      ],
      "text/plain": [
       "<IPython.core.display.HTML object>"
      ]
     },
     "metadata": {
      "tags": []
     },
     "output_type": "display_data"
    },
    {
     "name": "stdout",
     "output_type": "stream",
     "text": [
      "{'episode': 816, 'episode_length': 32, 'episode_return': 1.0}\n"
     ]
    },
    {
     "data": {
      "text/html": [
       "<b>Environment (2-back):</b><br /><pre><b>Stimuli:</b> 2445244202225031124202113433040</pre><pre><b>Actions:</b> MM.M........M.....M.M.MMM.MM.MM</pre>"
      ],
      "text/plain": [
       "<IPython.core.display.HTML object>"
      ]
     },
     "metadata": {
      "tags": []
     },
     "output_type": "display_data"
    },
    {
     "name": "stdout",
     "output_type": "stream",
     "text": [
      "{'episode': 817, 'episode_length': 32, 'episode_return': 1.0}\n"
     ]
    },
    {
     "data": {
      "text/html": [
       "<b>Environment (2-back):</b><br /><pre><b>Stimuli:</b> 0341110343135241355332405321544</pre><pre><b>Actions:</b> ......MM.....MM..MM.M..M....M..</pre>"
      ],
      "text/plain": [
       "<IPython.core.display.HTML object>"
      ]
     },
     "metadata": {
      "tags": []
     },
     "output_type": "display_data"
    },
    {
     "name": "stdout",
     "output_type": "stream",
     "text": [
      "{'episode': 818, 'episode_length': 32, 'episode_return': 7.0}\n"
     ]
    },
    {
     "data": {
      "text/html": [
       "<b>Environment (2-back):</b><br /><pre><b>Stimuli:</b> 4450300111343453204404200351155</pre><pre><b>Actions:</b> .M.MMMM.M.M..M..M..MM.MM.MMMMM.</pre>"
      ],
      "text/plain": [
       "<IPython.core.display.HTML object>"
      ]
     },
     "metadata": {
      "tags": []
     },
     "output_type": "display_data"
    },
    {
     "name": "stdout",
     "output_type": "stream",
     "text": [
      "{'episode': 819, 'episode_length': 32, 'episode_return': -7.0}\n"
     ]
    },
    {
     "data": {
      "text/html": [
       "<b>Environment (2-back):</b><br /><pre><b>Stimuli:</b> 1321100134035550404500510334252</pre><pre><b>Actions:</b> ..M...M.MM..MMMM.M..M.M.MM..M.M</pre>"
      ],
      "text/plain": [
       "<IPython.core.display.HTML object>"
      ]
     },
     "metadata": {
      "tags": []
     },
     "output_type": "display_data"
    },
    {
     "name": "stdout",
     "output_type": "stream",
     "text": [
      "{'episode': 820, 'episode_length': 32, 'episode_return': 5.0}\n"
     ]
    },
    {
     "data": {
      "text/html": [
       "<b>Environment (2-back):</b><br /><pre><b>Stimuli:</b> 4045552003510102121123330050503</pre><pre><b>Actions:</b> M...M.MM....M.M.....M..MM...MM.</pre>"
      ],
      "text/plain": [
       "<IPython.core.display.HTML object>"
      ]
     },
     "metadata": {
      "tags": []
     },
     "output_type": "display_data"
    },
    {
     "name": "stdout",
     "output_type": "stream",
     "text": [
      "{'episode': 821, 'episode_length': 32, 'episode_return': 5.0}\n"
     ]
    },
    {
     "data": {
      "text/html": [
       "<b>Environment (2-back):</b><br /><pre><b>Stimuli:</b> 1033423251103211040031113221301</pre><pre><b>Actions:</b> ...M....MMMMMMMMMM.M.MMM.MM.MMM</pre>"
      ],
      "text/plain": [
       "<IPython.core.display.HTML object>"
      ]
     },
     "metadata": {
      "tags": []
     },
     "output_type": "display_data"
    },
    {
     "name": "stdout",
     "output_type": "stream",
     "text": [
      "{'episode': 822, 'episode_length': 32, 'episode_return': -13.0}\n"
     ]
    },
    {
     "data": {
      "text/html": [
       "<b>Environment (2-back):</b><br /><pre><b>Stimuli:</b> 1341532430150152215550335001011</pre><pre><b>Actions:</b> ..MM.M.M...MMM.....MM.M.M.MM.MM</pre>"
      ],
      "text/plain": [
       "<IPython.core.display.HTML object>"
      ]
     },
     "metadata": {
      "tags": []
     },
     "output_type": "display_data"
    },
    {
     "name": "stdout",
     "output_type": "stream",
     "text": [
      "{'episode': 823, 'episode_length': 32, 'episode_return': 1.0}\n"
     ]
    },
    {
     "data": {
      "text/html": [
       "<b>Environment (2-back):</b><br /><pre><b>Stimuli:</b> 5054134324415342533500401420003</pre><pre><b>Actions:</b> .M..M.....MMMMM.M.M..M.MM.M...M</pre>"
      ],
      "text/plain": [
       "<IPython.core.display.HTML object>"
      ]
     },
     "metadata": {
      "tags": []
     },
     "output_type": "display_data"
    },
    {
     "name": "stdout",
     "output_type": "stream",
     "text": [
      "{'episode': 824, 'episode_length': 32, 'episode_return': -1.0}\n"
     ]
    },
    {
     "data": {
      "text/html": [
       "<b>Environment (2-back):</b><br /><pre><b>Stimuli:</b> 0201445124322110250424255253515</pre><pre><b>Actions:</b> ...M.M.MMM.M.MM.MMM...MMMMM..MM</pre>"
      ],
      "text/plain": [
       "<IPython.core.display.HTML object>"
      ]
     },
     "metadata": {
      "tags": []
     },
     "output_type": "display_data"
    },
    {
     "name": "stdout",
     "output_type": "stream",
     "text": [
      "{'episode': 825, 'episode_length': 32, 'episode_return': -7.0}\n"
     ]
    },
    {
     "data": {
      "text/html": [
       "<b>Environment (2-back):</b><br /><pre><b>Stimuli:</b> 1312211353212413034541134414241</pre><pre><b>Actions:</b> M.M.MMM..MM..M.MMMM.MMM.M.MM..M</pre>"
      ],
      "text/plain": [
       "<IPython.core.display.HTML object>"
      ]
     },
     "metadata": {
      "tags": []
     },
     "output_type": "display_data"
    },
    {
     "name": "stdout",
     "output_type": "stream",
     "text": [
      "{'episode': 826, 'episode_length': 32, 'episode_return': -1.0}\n"
     ]
    },
    {
     "data": {
      "text/html": [
       "<b>Environment (2-back):</b><br /><pre><b>Stimuli:</b> 4522523152515513452513200130143</pre><pre><b>Actions:</b> MMMMMMMMM...MM..M.MMMMMM.M.M...</pre>"
      ],
      "text/plain": [
       "<IPython.core.display.HTML object>"
      ]
     },
     "metadata": {
      "tags": []
     },
     "output_type": "display_data"
    },
    {
     "name": "stdout",
     "output_type": "stream",
     "text": [
      "{'episode': 827, 'episode_length': 32, 'episode_return': -5.0}\n"
     ]
    },
    {
     "data": {
      "text/html": [
       "<b>Environment (2-back):</b><br /><pre><b>Stimuli:</b> 0133301104255150253305054121203</pre><pre><b>Actions:</b> .M.MM....MM...M.M..MM..M.MMM...</pre>"
      ],
      "text/plain": [
       "<IPython.core.display.HTML object>"
      ]
     },
     "metadata": {
      "tags": []
     },
     "output_type": "display_data"
    },
    {
     "name": "stdout",
     "output_type": "stream",
     "text": [
      "{'episode': 828, 'episode_length': 32, 'episode_return': 9.0}\n"
     ]
    },
    {
     "data": {
      "text/html": [
       "<b>Environment (2-back):</b><br /><pre><b>Stimuli:</b> 1023145041034320244204054535421</pre><pre><b>Actions:</b> .MM.MM...MM....MMM.MM..M...M.M.</pre>"
      ],
      "text/plain": [
       "<IPython.core.display.HTML object>"
      ]
     },
     "metadata": {
      "tags": []
     },
     "output_type": "display_data"
    },
    {
     "name": "stdout",
     "output_type": "stream",
     "text": [
      "{'episode': 829, 'episode_length': 32, 'episode_return': 1.0}\n"
     ]
    },
    {
     "data": {
      "text/html": [
       "<b>Environment (2-back):</b><br /><pre><b>Stimuli:</b> 2434200243511123153050522535014</pre><pre><b>Actions:</b> ....MMM..M...M..M....MM.M...MM.</pre>"
      ],
      "text/plain": [
       "<IPython.core.display.HTML object>"
      ]
     },
     "metadata": {
      "tags": []
     },
     "output_type": "display_data"
    },
    {
     "name": "stdout",
     "output_type": "stream",
     "text": [
      "{'episode': 830, 'episode_length': 32, 'episode_return': 11.0}\n"
     ]
    },
    {
     "data": {
      "text/html": [
       "<b>Environment (2-back):</b><br /><pre><b>Stimuli:</b> 4223153131525342243100050355155</pre><pre><b>Actions:</b> M.M..MMMMM....M...MMM.MM.M.MMM.</pre>"
      ],
      "text/plain": [
       "<IPython.core.display.HTML object>"
      ]
     },
     "metadata": {
      "tags": []
     },
     "output_type": "display_data"
    },
    {
     "name": "stdout",
     "output_type": "stream",
     "text": [
      "{'episode': 831, 'episode_length': 32, 'episode_return': 1.0}\n"
     ]
    },
    {
     "data": {
      "text/html": [
       "<b>Environment (2-back):</b><br /><pre><b>Stimuli:</b> 5415531044132312314513453411105</pre><pre><b>Actions:</b> M.M..M..M...M.M.M.M.MM..MM.M.M.</pre>"
      ],
      "text/plain": [
       "<IPython.core.display.HTML object>"
      ]
     },
     "metadata": {
      "tags": []
     },
     "output_type": "display_data"
    },
    {
     "name": "stdout",
     "output_type": "stream",
     "text": [
      "{'episode': 832, 'episode_length': 32, 'episode_return': -1.0}\n"
     ]
    },
    {
     "data": {
      "text/html": [
       "<b>Environment (2-back):</b><br /><pre><b>Stimuli:</b> 5113503031251541050113421215240</pre><pre><b>Actions:</b> .....MMMM.M..M.MMMMMMM.M.M....M</pre>"
      ],
      "text/plain": [
       "<IPython.core.display.HTML object>"
      ]
     },
     "metadata": {
      "tags": []
     },
     "output_type": "display_data"
    },
    {
     "name": "stdout",
     "output_type": "stream",
     "text": [
      "{'episode': 833, 'episode_length': 32, 'episode_return': 7.0}\n"
     ]
    },
    {
     "data": {
      "text/html": [
       "<b>Environment (2-back):</b><br /><pre><b>Stimuli:</b> 4541031402140154334250411134020</pre><pre><b>Actions:</b> ....MM..M.M.MMM.MM..MMM..MMMM..</pre>"
      ],
      "text/plain": [
       "<IPython.core.display.HTML object>"
      ]
     },
     "metadata": {
      "tags": []
     },
     "output_type": "display_data"
    },
    {
     "name": "stdout",
     "output_type": "stream",
     "text": [
      "{'episode': 834, 'episode_length': 32, 'episode_return': -3.0}\n"
     ]
    },
    {
     "data": {
      "text/html": [
       "<b>Environment (2-back):</b><br /><pre><b>Stimuli:</b> 3515305411532331322032323120113</pre><pre><b>Actions:</b> .M..M.MM..M.M...M..MM.M...M..M.</pre>"
      ],
      "text/plain": [
       "<IPython.core.display.HTML object>"
      ]
     },
     "metadata": {
      "tags": []
     },
     "output_type": "display_data"
    },
    {
     "name": "stdout",
     "output_type": "stream",
     "text": [
      "{'episode': 835, 'episode_length': 32, 'episode_return': 1.0}\n"
     ]
    },
    {
     "data": {
      "text/html": [
       "<b>Environment (2-back):</b><br /><pre><b>Stimuli:</b> 0242134052050013232104151513033</pre><pre><b>Actions:</b> MMM.M...MMMMMMM.M....M.MM.MMMM.</pre>"
      ],
      "text/plain": [
       "<IPython.core.display.HTML object>"
      ]
     },
     "metadata": {
      "tags": []
     },
     "output_type": "display_data"
    },
    {
     "name": "stdout",
     "output_type": "stream",
     "text": [
      "{'episode': 836, 'episode_length': 32, 'episode_return': -7.0}\n"
     ]
    },
    {
     "data": {
      "text/html": [
       "<b>Environment (2-back):</b><br /><pre><b>Stimuli:</b> 2554523131150012551253312415503</pre><pre><b>Actions:</b> .M..MMMMMM...MM.M..M.M.M.M.MMMM</pre>"
      ],
      "text/plain": [
       "<IPython.core.display.HTML object>"
      ]
     },
     "metadata": {
      "tags": []
     },
     "output_type": "display_data"
    },
    {
     "name": "stdout",
     "output_type": "stream",
     "text": [
      "{'episode': 837, 'episode_length': 32, 'episode_return': 1.0}\n"
     ]
    },
    {
     "data": {
      "text/html": [
       "<b>Environment (2-back):</b><br /><pre><b>Stimuli:</b> 3023002223355125545501552432353</pre><pre><b>Actions:</b> M...MM...M......MM....M.MMM....</pre>"
      ],
      "text/plain": [
       "<IPython.core.display.HTML object>"
      ]
     },
     "metadata": {
      "tags": []
     },
     "output_type": "display_data"
    },
    {
     "name": "stdout",
     "output_type": "stream",
     "text": [
      "{'episode': 838, 'episode_length': 32, 'episode_return': 3.0}\n"
     ]
    },
    {
     "data": {
      "text/html": [
       "<b>Environment (2-back):</b><br /><pre><b>Stimuli:</b> 2015033405110154113114122354120</pre><pre><b>Actions:</b> M....MMM..M.M..MMM.......M.MMMM</pre>"
      ],
      "text/plain": [
       "<IPython.core.display.HTML object>"
      ]
     },
     "metadata": {
      "tags": []
     },
     "output_type": "display_data"
    },
    {
     "name": "stdout",
     "output_type": "stream",
     "text": [
      "{'episode': 839, 'episode_length': 32, 'episode_return': -3.0}\n"
     ]
    },
    {
     "data": {
      "text/html": [
       "<b>Environment (2-back):</b><br /><pre><b>Stimuli:</b> 4444250234404440145045225511311</pre><pre><b>Actions:</b> MM.MMMM.M..M.M.M.MMM.MM.M.M....</pre>"
      ],
      "text/plain": [
       "<IPython.core.display.HTML object>"
      ]
     },
     "metadata": {
      "tags": []
     },
     "output_type": "display_data"
    },
    {
     "name": "stdout",
     "output_type": "stream",
     "text": [
      "{'episode': 840, 'episode_length': 32, 'episode_return': -9.0}\n"
     ]
    },
    {
     "data": {
      "text/html": [
       "<b>Environment (2-back):</b><br /><pre><b>Stimuli:</b> 2133453402122001200314345023201</pre><pre><b>Actions:</b> MMMMM.MM.MMM.MM...MMM..M..MMM.M</pre>"
      ],
      "text/plain": [
       "<IPython.core.display.HTML object>"
      ]
     },
     "metadata": {
      "tags": []
     },
     "output_type": "display_data"
    },
    {
     "name": "stdout",
     "output_type": "stream",
     "text": [
      "{'episode': 841, 'episode_length': 32, 'episode_return': -3.0}\n"
     ]
    },
    {
     "data": {
      "text/html": [
       "<b>Environment (2-back):</b><br /><pre><b>Stimuli:</b> 5331531450435312523304102200311</pre><pre><b>Actions:</b> ....M..M.M..MM...M.MM...MMM.M.M</pre>"
      ],
      "text/plain": [
       "<IPython.core.display.HTML object>"
      ]
     },
     "metadata": {
      "tags": []
     },
     "output_type": "display_data"
    },
    {
     "name": "stdout",
     "output_type": "stream",
     "text": [
      "{'episode': 842, 'episode_length': 32, 'episode_return': 9.0}\n"
     ]
    },
    {
     "data": {
      "text/html": [
       "<b>Environment (2-back):</b><br /><pre><b>Stimuli:</b> 0505100300344505315501330021142</pre><pre><b>Actions:</b> M.MM..M....M..MMMMM...M..MMMM..</pre>"
      ],
      "text/plain": [
       "<IPython.core.display.HTML object>"
      ]
     },
     "metadata": {
      "tags": []
     },
     "output_type": "display_data"
    },
    {
     "name": "stdout",
     "output_type": "stream",
     "text": [
      "{'episode': 843, 'episode_length': 32, 'episode_return': 3.0}\n"
     ]
    },
    {
     "data": {
      "text/html": [
       "<b>Environment (2-back):</b><br /><pre><b>Stimuli:</b> 1130104224315312403330212430010</pre><pre><b>Actions:</b> MMMMM..MM.M.MM..MMM.MM.M.M.MM..</pre>"
      ],
      "text/plain": [
       "<IPython.core.display.HTML object>"
      ]
     },
     "metadata": {
      "tags": []
     },
     "output_type": "display_data"
    },
    {
     "name": "stdout",
     "output_type": "stream",
     "text": [
      "{'episode': 844, 'episode_length': 32, 'episode_return': -11.0}\n"
     ]
    },
    {
     "data": {
      "text/html": [
       "<b>Environment (2-back):</b><br /><pre><b>Stimuli:</b> 4244030013105511422250245250242</pre><pre><b>Actions:</b> ....M...M..MM.M.M.M.MMM..MM.M..</pre>"
      ],
      "text/plain": [
       "<IPython.core.display.HTML object>"
      ]
     },
     "metadata": {
      "tags": []
     },
     "output_type": "display_data"
    },
    {
     "name": "stdout",
     "output_type": "stream",
     "text": [
      "{'episode': 845, 'episode_length': 32, 'episode_return': -5.0}\n"
     ]
    },
    {
     "data": {
      "text/html": [
       "<b>Environment (2-back):</b><br /><pre><b>Stimuli:</b> 1153342223035241041542422421013</pre><pre><b>Actions:</b> M.M.M..M.MMMM.M.MM.MMMM..MM.M.M</pre>"
      ],
      "text/plain": [
       "<IPython.core.display.HTML object>"
      ]
     },
     "metadata": {
      "tags": []
     },
     "output_type": "display_data"
    },
    {
     "name": "stdout",
     "output_type": "stream",
     "text": [
      "{'episode': 846, 'episode_length': 32, 'episode_return': -7.0}\n"
     ]
    },
    {
     "data": {
      "text/html": [
       "<b>Environment (2-back):</b><br /><pre><b>Stimuli:</b> 2031254505120121035002420044415</pre><pre><b>Actions:</b> MM..MMM..MMMMMM.M..MM.M..M..M..</pre>"
      ],
      "text/plain": [
       "<IPython.core.display.HTML object>"
      ]
     },
     "metadata": {
      "tags": []
     },
     "output_type": "display_data"
    },
    {
     "name": "stdout",
     "output_type": "stream",
     "text": [
      "{'episode': 847, 'episode_length': 32, 'episode_return': -5.0}\n"
     ]
    },
    {
     "data": {
      "text/html": [
       "<b>Environment (2-back):</b><br /><pre><b>Stimuli:</b> 3445215410433130435230403022221</pre><pre><b>Actions:</b> MMM.MM.M..M.M.M.MMM..MMM.M.MM..</pre>"
      ],
      "text/plain": [
       "<IPython.core.display.HTML object>"
      ]
     },
     "metadata": {
      "tags": []
     },
     "output_type": "display_data"
    },
    {
     "name": "stdout",
     "output_type": "stream",
     "text": [
      "{'episode': 848, 'episode_length': 32, 'episode_return': 1.0}\n"
     ]
    },
    {
     "data": {
      "text/html": [
       "<b>Environment (2-back):</b><br /><pre><b>Stimuli:</b> 3131122143503220253423054445034</pre><pre><b>Actions:</b> M...MM.M.MM.MMMMM..M.MMMM.M..MM</pre>"
      ],
      "text/plain": [
       "<IPython.core.display.HTML object>"
      ]
     },
     "metadata": {
      "tags": []
     },
     "output_type": "display_data"
    },
    {
     "name": "stdout",
     "output_type": "stream",
     "text": [
      "{'episode': 849, 'episode_length': 32, 'episode_return': -7.0}\n"
     ]
    },
    {
     "data": {
      "text/html": [
       "<b>Environment (2-back):</b><br /><pre><b>Stimuli:</b> 1214200202545112035311510343340</pre><pre><b>Actions:</b> M.........M.M..MM.M.....M.MMMM.</pre>"
      ],
      "text/plain": [
       "<IPython.core.display.HTML object>"
      ]
     },
     "metadata": {
      "tags": []
     },
     "output_type": "display_data"
    },
    {
     "name": "stdout",
     "output_type": "stream",
     "text": [
      "{'episode': 850, 'episode_length': 32, 'episode_return': 3.0}\n"
     ]
    },
    {
     "data": {
      "text/html": [
       "<b>Environment (2-back):</b><br /><pre><b>Stimuli:</b> 5413245003030343002045533533545</pre><pre><b>Actions:</b> ......M...M...M...MMM..MM...MM.</pre>"
      ],
      "text/plain": [
       "<IPython.core.display.HTML object>"
      ]
     },
     "metadata": {
      "tags": []
     },
     "output_type": "display_data"
    },
    {
     "name": "stdout",
     "output_type": "stream",
     "text": [
      "{'episode': 851, 'episode_length': 32, 'episode_return': 1.0}\n"
     ]
    },
    {
     "data": {
      "text/html": [
       "<b>Environment (2-back):</b><br /><pre><b>Stimuli:</b> 4215013450342055211032244032544</pre><pre><b>Actions:</b> MMMM...MM..M...M..MM.MM..MMMM.M</pre>"
      ],
      "text/plain": [
       "<IPython.core.display.HTML object>"
      ]
     },
     "metadata": {
      "tags": []
     },
     "output_type": "display_data"
    },
    {
     "name": "stdout",
     "output_type": "stream",
     "text": [
      "{'episode': 852, 'episode_length': 32, 'episode_return': -1.0}\n"
     ]
    },
    {
     "data": {
      "text/html": [
       "<b>Environment (2-back):</b><br /><pre><b>Stimuli:</b> 3445342214145232255033413354455</pre><pre><b>Actions:</b> M.M......M...M...MMM..MM..M.M.M</pre>"
      ],
      "text/plain": [
       "<IPython.core.display.HTML object>"
      ]
     },
     "metadata": {
      "tags": []
     },
     "output_type": "display_data"
    },
    {
     "name": "stdout",
     "output_type": "stream",
     "text": [
      "{'episode': 853, 'episode_length': 32, 'episode_return': 1.0}\n"
     ]
    },
    {
     "data": {
      "text/html": [
       "<b>Environment (2-back):</b><br /><pre><b>Stimuli:</b> 5400415441403535530143154215451</pre><pre><b>Actions:</b> ..M...MM.M...M..M..M.M.MM.M.MM.</pre>"
      ],
      "text/plain": [
       "<IPython.core.display.HTML object>"
      ]
     },
     "metadata": {
      "tags": []
     },
     "output_type": "display_data"
    },
    {
     "name": "stdout",
     "output_type": "stream",
     "text": [
      "{'episode': 854, 'episode_length': 32, 'episode_return': 1.0}\n"
     ]
    },
    {
     "data": {
      "text/html": [
       "<b>Environment (2-back):</b><br /><pre><b>Stimuli:</b> 2252024002323232042525341245343</pre><pre><b>Actions:</b> MMMM..MM.MM.MM.M..MMM...MMMM..M</pre>"
      ],
      "text/plain": [
       "<IPython.core.display.HTML object>"
      ]
     },
     "metadata": {
      "tags": []
     },
     "output_type": "display_data"
    },
    {
     "name": "stdout",
     "output_type": "stream",
     "text": [
      "{'episode': 855, 'episode_length': 32, 'episode_return': -3.0}\n"
     ]
    },
    {
     "data": {
      "text/html": [
       "<b>Environment (2-back):</b><br /><pre><b>Stimuli:</b> 3033431224325554242225443342315</pre><pre><b>Actions:</b> ...M..MM....M..MM....M...MM..MM</pre>"
      ],
      "text/plain": [
       "<IPython.core.display.HTML object>"
      ]
     },
     "metadata": {
      "tags": []
     },
     "output_type": "display_data"
    },
    {
     "name": "stdout",
     "output_type": "stream",
     "text": [
      "{'episode': 856, 'episode_length': 32, 'episode_return': -3.0}\n"
     ]
    },
    {
     "data": {
      "text/html": [
       "<b>Environment (2-back):</b><br /><pre><b>Stimuli:</b> 0513310342153032532030232133114</pre><pre><b>Actions:</b> ....M.MMM....MM.M.MMM.MM.MMMMMM</pre>"
      ],
      "text/plain": [
       "<IPython.core.display.HTML object>"
      ]
     },
     "metadata": {
      "tags": []
     },
     "output_type": "display_data"
    },
    {
     "name": "stdout",
     "output_type": "stream",
     "text": [
      "{'episode': 857, 'episode_length': 32, 'episode_return': -7.0}\n"
     ]
    },
    {
     "data": {
      "text/html": [
       "<b>Environment (2-back):</b><br /><pre><b>Stimuli:</b> 1535223144453321444041001342554</pre><pre><b>Actions:</b> .MMMMM.M.M.M.M...M..MM.....MM..</pre>"
      ],
      "text/plain": [
       "<IPython.core.display.HTML object>"
      ]
     },
     "metadata": {
      "tags": []
     },
     "output_type": "display_data"
    },
    {
     "name": "stdout",
     "output_type": "stream",
     "text": [
      "{'episode': 858, 'episode_length': 32, 'episode_return': 3.0}\n"
     ]
    },
    {
     "data": {
      "text/html": [
       "<b>Environment (2-back):</b><br /><pre><b>Stimuli:</b> 4410224040131540112511225421424</pre><pre><b>Actions:</b> .....MMMM..M.MM...MM.M.M.......</pre>"
      ],
      "text/plain": [
       "<IPython.core.display.HTML object>"
      ]
     },
     "metadata": {
      "tags": []
     },
     "output_type": "display_data"
    },
    {
     "name": "stdout",
     "output_type": "stream",
     "text": [
      "{'episode': 859, 'episode_length': 32, 'episode_return': 1.0}\n"
     ]
    },
    {
     "data": {
      "text/html": [
       "<b>Environment (2-back):</b><br /><pre><b>Stimuli:</b> 3335455354230052154432043212311</pre><pre><b>Actions:</b> .M..MM.MMM..........MM.M..M...M</pre>"
      ],
      "text/plain": [
       "<IPython.core.display.HTML object>"
      ]
     },
     "metadata": {
      "tags": []
     },
     "output_type": "display_data"
    },
    {
     "name": "stdout",
     "output_type": "stream",
     "text": [
      "{'episode': 860, 'episode_length': 32, 'episode_return': 9.0}\n"
     ]
    },
    {
     "data": {
      "text/html": [
       "<b>Environment (2-back):</b><br /><pre><b>Stimuli:</b> 4022431200100044022211222532314</pre><pre><b>Actions:</b> M..M...MM.MM.MM..MMMMM...MM.MM.</pre>"
      ],
      "text/plain": [
       "<IPython.core.display.HTML object>"
      ]
     },
     "metadata": {
      "tags": []
     },
     "output_type": "display_data"
    },
    {
     "name": "stdout",
     "output_type": "stream",
     "text": [
      "{'episode': 861, 'episode_length': 32, 'episode_return': 5.0}\n"
     ]
    },
    {
     "data": {
      "text/html": [
       "<b>Environment (2-back):</b><br /><pre><b>Stimuli:</b> 1103522542505305033301352202412</pre><pre><b>Actions:</b> ...MM.MMM.MM.M.MM..MMMM..MMM...</pre>"
      ],
      "text/plain": [
       "<IPython.core.display.HTML object>"
      ]
     },
     "metadata": {
      "tags": []
     },
     "output_type": "display_data"
    },
    {
     "name": "stdout",
     "output_type": "stream",
     "text": [
      "{'episode': 862, 'episode_length': 32, 'episode_return': 1.0}\n"
     ]
    },
    {
     "data": {
      "text/html": [
       "<b>Environment (2-back):</b><br /><pre><b>Stimuli:</b> 5210255040223455222102100105035</pre><pre><b>Actions:</b> M.MM...M.M......MM..MM.M...MM..</pre>"
      ],
      "text/plain": [
       "<IPython.core.display.HTML object>"
      ]
     },
     "metadata": {
      "tags": []
     },
     "output_type": "display_data"
    },
    {
     "name": "stdout",
     "output_type": "stream",
     "text": [
      "{'episode': 863, 'episode_length': 32, 'episode_return': 9.0}\n"
     ]
    },
    {
     "data": {
      "text/html": [
       "<b>Environment (2-back):</b><br /><pre><b>Stimuli:</b> 2334551414540515504252020550354</pre><pre><b>Actions:</b> ..MMM.MM.M..M..MM....MMM.....M.</pre>"
      ],
      "text/plain": [
       "<IPython.core.display.HTML object>"
      ]
     },
     "metadata": {
      "tags": []
     },
     "output_type": "display_data"
    },
    {
     "name": "stdout",
     "output_type": "stream",
     "text": [
      "{'episode': 864, 'episode_length': 32, 'episode_return': 7.0}\n"
     ]
    },
    {
     "data": {
      "text/html": [
       "<b>Environment (2-back):</b><br /><pre><b>Stimuli:</b> 5140035501032053543203455020330</pre><pre><b>Actions:</b> .M.M.M.MMM.MM.MM...MMM.MM..M...</pre>"
      ],
      "text/plain": [
       "<IPython.core.display.HTML object>"
      ]
     },
     "metadata": {
      "tags": []
     },
     "output_type": "display_data"
    },
    {
     "name": "stdout",
     "output_type": "stream",
     "text": [
      "{'episode': 865, 'episode_length': 32, 'episode_return': -3.0}\n"
     ]
    },
    {
     "data": {
      "text/html": [
       "<b>Environment (2-back):</b><br /><pre><b>Stimuli:</b> 3001551305515324314552105344354</pre><pre><b>Actions:</b> M.M..MM.M.MM..M..MMM.MM.M...M.M</pre>"
      ],
      "text/plain": [
       "<IPython.core.display.HTML object>"
      ]
     },
     "metadata": {
      "tags": []
     },
     "output_type": "display_data"
    },
    {
     "name": "stdout",
     "output_type": "stream",
     "text": [
      "{'episode': 866, 'episode_length': 32, 'episode_return': -3.0}\n"
     ]
    },
    {
     "data": {
      "text/html": [
       "<b>Environment (2-back):</b><br /><pre><b>Stimuli:</b> 3440534123123040301214211122524</pre><pre><b>Actions:</b> M.M.M..M.....M..M..M.M.M.MM.MM.</pre>"
      ],
      "text/plain": [
       "<IPython.core.display.HTML object>"
      ]
     },
     "metadata": {
      "tags": []
     },
     "output_type": "display_data"
    },
    {
     "name": "stdout",
     "output_type": "stream",
     "text": [
      "{'episode': 867, 'episode_length': 32, 'episode_return': 3.0}\n"
     ]
    },
    {
     "data": {
      "text/html": [
       "<b>Environment (2-back):</b><br /><pre><b>Stimuli:</b> 0043320335035235532011041310101</pre><pre><b>Actions:</b> ...M...M.M.M..M...M.M.M.M.MMM..</pre>"
      ],
      "text/plain": [
       "<IPython.core.display.HTML object>"
      ]
     },
     "metadata": {
      "tags": []
     },
     "output_type": "display_data"
    },
    {
     "name": "stdout",
     "output_type": "stream",
     "text": [
      "{'episode': 868, 'episode_length': 32, 'episode_return': 7.0}\n"
     ]
    },
    {
     "data": {
      "text/html": [
       "<b>Environment (2-back):</b><br /><pre><b>Stimuli:</b> 1334133353144454534533220304552</pre><pre><b>Actions:</b> M.MM.....M.MM..M.MMM..M.....MM.</pre>"
      ],
      "text/plain": [
       "<IPython.core.display.HTML object>"
      ]
     },
     "metadata": {
      "tags": []
     },
     "output_type": "display_data"
    },
    {
     "name": "stdout",
     "output_type": "stream",
     "text": [
      "{'episode': 869, 'episode_length': 32, 'episode_return': 1.0}\n"
     ]
    },
    {
     "data": {
      "text/html": [
       "<b>Environment (2-back):</b><br /><pre><b>Stimuli:</b> 0504314455450211552555144223450</pre><pre><b>Actions:</b> M..MM.M.MMMM.MM.MMMMMMMM.......</pre>"
      ],
      "text/plain": [
       "<IPython.core.display.HTML object>"
      ]
     },
     "metadata": {
      "tags": []
     },
     "output_type": "display_data"
    },
    {
     "name": "stdout",
     "output_type": "stream",
     "text": [
      "{'episode': 870, 'episode_length': 32, 'episode_return': 1.0}\n"
     ]
    },
    {
     "data": {
      "text/html": [
       "<b>Environment (2-back):</b><br /><pre><b>Stimuli:</b> 5023042541033413202140453102150</pre><pre><b>Actions:</b> M...MM..MM..M.M.M.MMMMMM...M...</pre>"
      ],
      "text/plain": [
       "<IPython.core.display.HTML object>"
      ]
     },
     "metadata": {
      "tags": []
     },
     "output_type": "display_data"
    },
    {
     "name": "stdout",
     "output_type": "stream",
     "text": [
      "{'episode': 871, 'episode_length': 32, 'episode_return': 5.0}\n"
     ]
    },
    {
     "data": {
      "text/html": [
       "<b>Environment (2-back):</b><br /><pre><b>Stimuli:</b> 5253345451023014050050524344201</pre><pre><b>Actions:</b> M.MMMMMM.MMM...MMM..MM.M..M.M.M</pre>"
      ],
      "text/plain": [
       "<IPython.core.display.HTML object>"
      ]
     },
     "metadata": {
      "tags": []
     },
     "output_type": "display_data"
    },
    {
     "name": "stdout",
     "output_type": "stream",
     "text": [
      "{'episode': 872, 'episode_length': 32, 'episode_return': -5.0}\n"
     ]
    },
    {
     "data": {
      "text/html": [
       "<b>Environment (2-back):</b><br /><pre><b>Stimuli:</b> 5110455013132340420301132531050</pre><pre><b>Actions:</b> ....MM.M.M....MM.M......MMMMM..</pre>"
      ],
      "text/plain": [
       "<IPython.core.display.HTML object>"
      ]
     },
     "metadata": {
      "tags": []
     },
     "output_type": "display_data"
    },
    {
     "name": "stdout",
     "output_type": "stream",
     "text": [
      "{'episode': 873, 'episode_length': 32, 'episode_return': -5.0}\n"
     ]
    },
    {
     "data": {
      "text/html": [
       "<b>Environment (2-back):</b><br /><pre><b>Stimuli:</b> 1534144313152433050543204430354</pre><pre><b>Actions:</b> .MMMMM....MM.MMMM........M.MMMM</pre>"
      ],
      "text/plain": [
       "<IPython.core.display.HTML object>"
      ]
     },
     "metadata": {
      "tags": []
     },
     "output_type": "display_data"
    },
    {
     "name": "stdout",
     "output_type": "stream",
     "text": [
      "{'episode': 874, 'episode_length': 32, 'episode_return': -1.0}\n"
     ]
    },
    {
     "data": {
      "text/html": [
       "<b>Environment (2-back):</b><br /><pre><b>Stimuli:</b> 1150212530022211323014234044300</pre><pre><b>Actions:</b> MM..MMM..MM.MMMM.M..M.M..M.MM.M</pre>"
      ],
      "text/plain": [
       "<IPython.core.display.HTML object>"
      ]
     },
     "metadata": {
      "tags": []
     },
     "output_type": "display_data"
    },
    {
     "name": "stdout",
     "output_type": "stream",
     "text": [
      "{'episode': 875, 'episode_length': 32, 'episode_return': -5.0}\n"
     ]
    },
    {
     "data": {
      "text/html": [
       "<b>Environment (2-back):</b><br /><pre><b>Stimuli:</b> 4015532535020423131532221035534</pre><pre><b>Actions:</b> ...MMMMMMMMMMMM.M....M...MMMMM.</pre>"
      ],
      "text/plain": [
       "<IPython.core.display.HTML object>"
      ]
     },
     "metadata": {
      "tags": []
     },
     "output_type": "display_data"
    },
    {
     "name": "stdout",
     "output_type": "stream",
     "text": [
      "{'episode': 876, 'episode_length': 32, 'episode_return': -11.0}\n"
     ]
    },
    {
     "data": {
      "text/html": [
       "<b>Environment (2-back):</b><br /><pre><b>Stimuli:</b> 1525021304052500402512514340304</pre><pre><b>Actions:</b> MM...MM..MM.M.M......MM...MMM.M</pre>"
      ],
      "text/plain": [
       "<IPython.core.display.HTML object>"
      ]
     },
     "metadata": {
      "tags": []
     },
     "output_type": "display_data"
    },
    {
     "name": "stdout",
     "output_type": "stream",
     "text": [
      "{'episode': 877, 'episode_length': 32, 'episode_return': -1.0}\n"
     ]
    },
    {
     "data": {
      "text/html": [
       "<b>Environment (2-back):</b><br /><pre><b>Stimuli:</b> 2335042344043302050023203342002</pre><pre><b>Actions:</b> MMMMM...M.M.M.M.M.MMM.MMM.MMM.M</pre>"
      ],
      "text/plain": [
       "<IPython.core.display.HTML object>"
      ]
     },
     "metadata": {
      "tags": []
     },
     "output_type": "display_data"
    },
    {
     "name": "stdout",
     "output_type": "stream",
     "text": [
      "{'episode': 878, 'episode_length': 32, 'episode_return': -3.0}\n"
     ]
    },
    {
     "data": {
      "text/html": [
       "<b>Environment (2-back):</b><br /><pre><b>Stimuli:</b> 0144401220051440410140450133255</pre><pre><b>Actions:</b> MMMMMMMMMMM..M.MM.M.MM....MM..M</pre>"
      ],
      "text/plain": [
       "<IPython.core.display.HTML object>"
      ]
     },
     "metadata": {
      "tags": []
     },
     "output_type": "display_data"
    },
    {
     "name": "stdout",
     "output_type": "stream",
     "text": [
      "{'episode': 879, 'episode_length': 32, 'episode_return': -9.0}\n"
     ]
    },
    {
     "data": {
      "text/html": [
       "<b>Environment (2-back):</b><br /><pre><b>Stimuli:</b> 1555202414344100053030002513520</pre><pre><b>Actions:</b> M...M.M..MM.M.MMM..MMMMM.M...M.</pre>"
      ],
      "text/plain": [
       "<IPython.core.display.HTML object>"
      ]
     },
     "metadata": {
      "tags": []
     },
     "output_type": "display_data"
    },
    {
     "name": "stdout",
     "output_type": "stream",
     "text": [
      "{'episode': 880, 'episode_length': 32, 'episode_return': 7.0}\n"
     ]
    },
    {
     "data": {
      "text/html": [
       "<b>Environment (2-back):</b><br /><pre><b>Stimuli:</b> 3343145352545425400234541310150</pre><pre><b>Actions:</b> ..MM...M.M.MMM.M.MM.MMMMM.M..M.</pre>"
      ],
      "text/plain": [
       "<IPython.core.display.HTML object>"
      ]
     },
     "metadata": {
      "tags": []
     },
     "output_type": "display_data"
    },
    {
     "name": "stdout",
     "output_type": "stream",
     "text": [
      "{'episode': 881, 'episode_length': 32, 'episode_return': 1.0}\n"
     ]
    },
    {
     "data": {
      "text/html": [
       "<b>Environment (2-back):</b><br /><pre><b>Stimuli:</b> 0000232400015135021530133301244</pre><pre><b>Actions:</b> .MM...M....M...M..MMM.MMM...MMM</pre>"
      ],
      "text/plain": [
       "<IPython.core.display.HTML object>"
      ]
     },
     "metadata": {
      "tags": []
     },
     "output_type": "display_data"
    },
    {
     "name": "stdout",
     "output_type": "stream",
     "text": [
      "{'episode': 882, 'episode_length': 32, 'episode_return': -1.0}\n"
     ]
    },
    {
     "data": {
      "text/html": [
       "<b>Environment (2-back):</b><br /><pre><b>Stimuli:</b> 0103354353253032142104524330032</pre><pre><b>Actions:</b> .MM..M..M..M.MM....M.MM.....MM.</pre>"
      ],
      "text/plain": [
       "<IPython.core.display.HTML object>"
      ]
     },
     "metadata": {
      "tags": []
     },
     "output_type": "display_data"
    },
    {
     "name": "stdout",
     "output_type": "stream",
     "text": [
      "{'episode': 883, 'episode_length': 32, 'episode_return': 9.0}\n"
     ]
    },
    {
     "data": {
      "text/html": [
       "<b>Environment (2-back):</b><br /><pre><b>Stimuli:</b> 4103245430314132150003245255113</pre><pre><b>Actions:</b> ..M...M..MMM.MMMM.M.M.....M..M.</pre>"
      ],
      "text/plain": [
       "<IPython.core.display.HTML object>"
      ]
     },
     "metadata": {
      "tags": []
     },
     "output_type": "display_data"
    },
    {
     "name": "stdout",
     "output_type": "stream",
     "text": [
      "{'episode': 884, 'episode_length': 32, 'episode_return': 11.0}\n"
     ]
    },
    {
     "data": {
      "text/html": [
       "<b>Environment (2-back):</b><br /><pre><b>Stimuli:</b> 1530320512001220221044253142540</pre><pre><b>Actions:</b> ..MM.MM.MMMM...M...MM..MMM.MMMM</pre>"
      ],
      "text/plain": [
       "<IPython.core.display.HTML object>"
      ]
     },
     "metadata": {
      "tags": []
     },
     "output_type": "display_data"
    },
    {
     "name": "stdout",
     "output_type": "stream",
     "text": [
      "{'episode': 885, 'episode_length': 32, 'episode_return': -9.0}\n"
     ]
    },
    {
     "data": {
      "text/html": [
       "<b>Environment (2-back):</b><br /><pre><b>Stimuli:</b> 5002244140050544411401552422052</pre><pre><b>Actions:</b> MMMM..M..M...M.M..MMM...M.M...M</pre>"
      ],
      "text/plain": [
       "<IPython.core.display.HTML object>"
      ]
     },
     "metadata": {
      "tags": []
     },
     "output_type": "display_data"
    },
    {
     "name": "stdout",
     "output_type": "stream",
     "text": [
      "{'episode': 886, 'episode_length': 32, 'episode_return': 1.0}\n"
     ]
    },
    {
     "data": {
      "text/html": [
       "<b>Environment (2-back):</b><br /><pre><b>Stimuli:</b> 3523505455110544013223331303003</pre><pre><b>Actions:</b> ....MM.MMM.M.M.MMMM..M.M...MM..</pre>"
      ],
      "text/plain": [
       "<IPython.core.display.HTML object>"
      ]
     },
     "metadata": {
      "tags": []
     },
     "output_type": "display_data"
    },
    {
     "name": "stdout",
     "output_type": "stream",
     "text": [
      "{'episode': 887, 'episode_length': 32, 'episode_return': 3.0}\n"
     ]
    },
    {
     "data": {
      "text/html": [
       "<b>Environment (2-back):</b><br /><pre><b>Stimuli:</b> 3320032514120001215450350033405</pre><pre><b>Actions:</b> .M...MMM..M.M..M..M....M..M....</pre>"
      ],
      "text/plain": [
       "<IPython.core.display.HTML object>"
      ]
     },
     "metadata": {
      "tags": []
     },
     "output_type": "display_data"
    },
    {
     "name": "stdout",
     "output_type": "stream",
     "text": [
      "{'episode': 888, 'episode_length': 32, 'episode_return': 7.0}\n"
     ]
    },
    {
     "data": {
      "text/html": [
       "<b>Environment (2-back):</b><br /><pre><b>Stimuli:</b> 4512340331215035422015441030003</pre><pre><b>Actions:</b> ..M..MMMM...M..MM...MM.MMM.MM.M</pre>"
      ],
      "text/plain": [
       "<IPython.core.display.HTML object>"
      ]
     },
     "metadata": {
      "tags": []
     },
     "output_type": "display_data"
    },
    {
     "name": "stdout",
     "output_type": "stream",
     "text": [
      "{'episode': 889, 'episode_length': 32, 'episode_return': -3.0}\n"
     ]
    },
    {
     "data": {
      "text/html": [
       "<b>Environment (2-back):</b><br /><pre><b>Stimuli:</b> 0033014015432351442522001010432</pre><pre><b>Actions:</b> M.MMM.MM...M.MMM...M...M..M..M.</pre>"
      ],
      "text/plain": [
       "<IPython.core.display.HTML object>"
      ]
     },
     "metadata": {
      "tags": []
     },
     "output_type": "display_data"
    },
    {
     "name": "stdout",
     "output_type": "stream",
     "text": [
      "{'episode': 890, 'episode_length': 32, 'episode_return': 1.0}\n"
     ]
    },
    {
     "data": {
      "text/html": [
       "<b>Environment (2-back):</b><br /><pre><b>Stimuli:</b> 4311255142041334242544253400113</pre><pre><b>Actions:</b> MM......MMMM..M.MMMMM....M.MM..</pre>"
      ],
      "text/plain": [
       "<IPython.core.display.HTML object>"
      ]
     },
     "metadata": {
      "tags": []
     },
     "output_type": "display_data"
    },
    {
     "name": "stdout",
     "output_type": "stream",
     "text": [
      "{'episode': 891, 'episode_length': 32, 'episode_return': 5.0}\n"
     ]
    },
    {
     "data": {
      "text/html": [
       "<b>Environment (2-back):</b><br /><pre><b>Stimuli:</b> 4354223115211055523445524355240</pre><pre><b>Actions:</b> .M........M.M....M...M.....MMMM</pre>"
      ],
      "text/plain": [
       "<IPython.core.display.HTML object>"
      ]
     },
     "metadata": {
      "tags": []
     },
     "output_type": "display_data"
    },
    {
     "name": "stdout",
     "output_type": "stream",
     "text": [
      "{'episode': 892, 'episode_length': 32, 'episode_return': 11.0}\n"
     ]
    },
    {
     "data": {
      "text/html": [
       "<b>Environment (2-back):</b><br /><pre><b>Stimuli:</b> 2311253042441001332313201455550</pre><pre><b>Actions:</b> MMMM..M.M.........M.MMMM..MM.M.</pre>"
      ],
      "text/plain": [
       "<IPython.core.display.HTML object>"
      ]
     },
     "metadata": {
      "tags": []
     },
     "output_type": "display_data"
    },
    {
     "name": "stdout",
     "output_type": "stream",
     "text": [
      "{'episode': 893, 'episode_length': 32, 'episode_return': 3.0}\n"
     ]
    },
    {
     "data": {
      "text/html": [
       "<b>Environment (2-back):</b><br /><pre><b>Stimuli:</b> 1320014423031532105105015245512</pre><pre><b>Actions:</b> ....MMMM.MMMM...MMM.MMMM.MMM.MM</pre>"
      ],
      "text/plain": [
       "<IPython.core.display.HTML object>"
      ]
     },
     "metadata": {
      "tags": []
     },
     "output_type": "display_data"
    },
    {
     "name": "stdout",
     "output_type": "stream",
     "text": [
      "{'episode': 894, 'episode_length': 32, 'episode_return': -5.0}\n"
     ]
    },
    {
     "data": {
      "text/html": [
       "<b>Environment (2-back):</b><br /><pre><b>Stimuli:</b> 3042040103034044051054411142452</pre><pre><b>Actions:</b> ..MM.MM...MM.M.M.MMM.....MM.M..</pre>"
      ],
      "text/plain": [
       "<IPython.core.display.HTML object>"
      ]
     },
     "metadata": {
      "tags": []
     },
     "output_type": "display_data"
    },
    {
     "name": "stdout",
     "output_type": "stream",
     "text": [
      "{'episode': 895, 'episode_length': 32, 'episode_return': 9.0}\n"
     ]
    },
    {
     "data": {
      "text/html": [
       "<b>Environment (2-back):</b><br /><pre><b>Stimuli:</b> 3112035525331553554014502550551</pre><pre><b>Actions:</b> M.M..MMMM......MMM.MM..M..MM.MM</pre>"
      ],
      "text/plain": [
       "<IPython.core.display.HTML object>"
      ]
     },
     "metadata": {
      "tags": []
     },
     "output_type": "display_data"
    },
    {
     "name": "stdout",
     "output_type": "stream",
     "text": [
      "{'episode': 896, 'episode_length': 32, 'episode_return': -3.0}\n"
     ]
    },
    {
     "data": {
      "text/html": [
       "<b>Environment (2-back):</b><br /><pre><b>Stimuli:</b> 3351525334152231035533554531112</pre><pre><b>Actions:</b> M.MM..MM.M..MMMM.......MM.M.MM.</pre>"
      ],
      "text/plain": [
       "<IPython.core.display.HTML object>"
      ]
     },
     "metadata": {
      "tags": []
     },
     "output_type": "display_data"
    },
    {
     "name": "stdout",
     "output_type": "stream",
     "text": [
      "{'episode': 897, 'episode_length': 32, 'episode_return': 1.0}\n"
     ]
    },
    {
     "data": {
      "text/html": [
       "<b>Environment (2-back):</b><br /><pre><b>Stimuli:</b> 3521133344431252542454003111513</pre><pre><b>Actions:</b> ....MM...MM.M....M...MM.M..M...</pre>"
      ],
      "text/plain": [
       "<IPython.core.display.HTML object>"
      ]
     },
     "metadata": {
      "tags": []
     },
     "output_type": "display_data"
    },
    {
     "name": "stdout",
     "output_type": "stream",
     "text": [
      "{'episode': 898, 'episode_length': 32, 'episode_return': 5.0}\n"
     ]
    },
    {
     "data": {
      "text/html": [
       "<b>Environment (2-back):</b><br /><pre><b>Stimuli:</b> 1144021342441452011542040101521</pre><pre><b>Actions:</b> ...MMM.M.MM..MM....MM..MMM..M.M</pre>"
      ],
      "text/plain": [
       "<IPython.core.display.HTML object>"
      ]
     },
     "metadata": {
      "tags": []
     },
     "output_type": "display_data"
    },
    {
     "name": "stdout",
     "output_type": "stream",
     "text": [
      "{'episode': 899, 'episode_length': 32, 'episode_return': 1.0}\n"
     ]
    },
    {
     "data": {
      "text/html": [
       "<b>Environment (2-back):</b><br /><pre><b>Stimuli:</b> 3540050025001010524340041505245</pre><pre><b>Actions:</b> MMMMM..MM.MM.MMMMM..M.M.MM.M.M.</pre>"
      ],
      "text/plain": [
       "<IPython.core.display.HTML object>"
      ]
     },
     "metadata": {
      "tags": []
     },
     "output_type": "display_data"
    },
    {
     "name": "stdout",
     "output_type": "stream",
     "text": [
      "{'episode': 900, 'episode_length': 32, 'episode_return': -1.0}\n"
     ]
    },
    {
     "data": {
      "text/html": [
       "<b>Environment (2-back):</b><br /><pre><b>Stimuli:</b> 1454442224403450001105301120054</pre><pre><b>Actions:</b> M..MMMMMM..MMMMM.M..M.MM...MMM.</pre>"
      ],
      "text/plain": [
       "<IPython.core.display.HTML object>"
      ]
     },
     "metadata": {
      "tags": []
     },
     "output_type": "display_data"
    },
    {
     "name": "stdout",
     "output_type": "stream",
     "text": [
      "{'episode': 901, 'episode_length': 32, 'episode_return': 1.0}\n"
     ]
    },
    {
     "data": {
      "text/html": [
       "<b>Environment (2-back):</b><br /><pre><b>Stimuli:</b> 0442552254505443544215501211554</pre><pre><b>Actions:</b> M.M.MMM..M.MMM.MMM..MM..M.MM.MM</pre>"
      ],
      "text/plain": [
       "<IPython.core.display.HTML object>"
      ]
     },
     "metadata": {
      "tags": []
     },
     "output_type": "display_data"
    },
    {
     "name": "stdout",
     "output_type": "stream",
     "text": [
      "{'episode': 902, 'episode_length': 32, 'episode_return': -5.0}\n"
     ]
    },
    {
     "data": {
      "text/html": [
       "<b>Environment (2-back):</b><br /><pre><b>Stimuli:</b> 3103333001120543053055524415135</pre><pre><b>Actions:</b> .M..MMMMM..M..M..M..MM.M..M..MM</pre>"
      ],
      "text/plain": [
       "<IPython.core.display.HTML object>"
      ]
     },
     "metadata": {
      "tags": []
     },
     "output_type": "display_data"
    },
    {
     "name": "stdout",
     "output_type": "stream",
     "text": [
      "{'episode': 903, 'episode_length': 32, 'episode_return': 3.0}\n"
     ]
    },
    {
     "data": {
      "text/html": [
       "<b>Environment (2-back):</b><br /><pre><b>Stimuli:</b> 3443534431142545341143353024314</pre><pre><b>Actions:</b> .MMMMMM.M...M....MMM.M...M.MM.M</pre>"
      ],
      "text/plain": [
       "<IPython.core.display.HTML object>"
      ]
     },
     "metadata": {
      "tags": []
     },
     "output_type": "display_data"
    },
    {
     "name": "stdout",
     "output_type": "stream",
     "text": [
      "{'episode': 904, 'episode_length': 32, 'episode_return': -3.0}\n"
     ]
    },
    {
     "data": {
      "text/html": [
       "<b>Environment (2-back):</b><br /><pre><b>Stimuli:</b> 1420101223210130132230353330130</pre><pre><b>Actions:</b> .M..M...MMM.MM..MM...MM.MMMM..M</pre>"
      ],
      "text/plain": [
       "<IPython.core.display.HTML object>"
      ]
     },
     "metadata": {
      "tags": []
     },
     "output_type": "display_data"
    },
    {
     "name": "stdout",
     "output_type": "stream",
     "text": [
      "{'episode': 905, 'episode_length': 32, 'episode_return': 5.0}\n"
     ]
    },
    {
     "data": {
      "text/html": [
       "<b>Environment (2-back):</b><br /><pre><b>Stimuli:</b> 1515435355500325234542054435003</pre><pre><b>Actions:</b> ...M.MMM.M.MMMM.M.M.MMM.MM.MMM.</pre>"
      ],
      "text/plain": [
       "<IPython.core.display.HTML object>"
      ]
     },
     "metadata": {
      "tags": []
     },
     "output_type": "display_data"
    },
    {
     "name": "stdout",
     "output_type": "stream",
     "text": [
      "{'episode': 906, 'episode_length': 32, 'episode_return': -5.0}\n"
     ]
    },
    {
     "data": {
      "text/html": [
       "<b>Environment (2-back):</b><br /><pre><b>Stimuli:</b> 0424330050532221154112314400000</pre><pre><b>Actions:</b> ..M.....MM..MM...MMMM...MMMMMMM</pre>"
      ],
      "text/plain": [
       "<IPython.core.display.HTML object>"
      ]
     },
     "metadata": {
      "tags": []
     },
     "output_type": "display_data"
    },
    {
     "name": "stdout",
     "output_type": "stream",
     "text": [
      "{'episode': 907, 'episode_length': 32, 'episode_return': -1.0}\n"
     ]
    },
    {
     "data": {
      "text/html": [
       "<b>Environment (2-back):</b><br /><pre><b>Stimuli:</b> 0430542041203113413022321511022</pre><pre><b>Actions:</b> .M.MM.MMM.M.MM.M.M..MMMMMM.M.M.</pre>"
      ],
      "text/plain": [
       "<IPython.core.display.HTML object>"
      ]
     },
     "metadata": {
      "tags": []
     },
     "output_type": "display_data"
    },
    {
     "name": "stdout",
     "output_type": "stream",
     "text": [
      "{'episode': 908, 'episode_length': 32, 'episode_return': -7.0}\n"
     ]
    },
    {
     "data": {
      "text/html": [
       "<b>Environment (2-back):</b><br /><pre><b>Stimuli:</b> 5221234023202220250325413401344</pre><pre><b>Actions:</b> .M.MMMMMMMM..M..M.MMM.MMMMM.MMM</pre>"
      ],
      "text/plain": [
       "<IPython.core.display.HTML object>"
      ]
     },
     "metadata": {
      "tags": []
     },
     "output_type": "display_data"
    },
    {
     "name": "stdout",
     "output_type": "stream",
     "text": [
      "{'episode': 909, 'episode_length': 32, 'episode_return': -11.0}\n"
     ]
    },
    {
     "data": {
      "text/html": [
       "<b>Environment (2-back):</b><br /><pre><b>Stimuli:</b> 0550444332132545230145302000324</pre><pre><b>Actions:</b> ...M....M.M...M.M.M...MM.MM.M..</pre>"
      ],
      "text/plain": [
       "<IPython.core.display.HTML object>"
      ]
     },
     "metadata": {
      "tags": []
     },
     "output_type": "display_data"
    },
    {
     "name": "stdout",
     "output_type": "stream",
     "text": [
      "{'episode': 910, 'episode_length': 32, 'episode_return': 3.0}\n"
     ]
    },
    {
     "data": {
      "text/html": [
       "<b>Environment (2-back):</b><br /><pre><b>Stimuli:</b> 1331513145314203555025103325451</pre><pre><b>Actions:</b> ..MM..MM.M..M..MMM.MM..MM.M...M</pre>"
      ],
      "text/plain": [
       "<IPython.core.display.HTML object>"
      ]
     },
     "metadata": {
      "tags": []
     },
     "output_type": "display_data"
    },
    {
     "name": "stdout",
     "output_type": "stream",
     "text": [
      "{'episode': 911, 'episode_length': 32, 'episode_return': -5.0}\n"
     ]
    },
    {
     "data": {
      "text/html": [
       "<b>Environment (2-back):</b><br /><pre><b>Stimuli:</b> 3113440214405335213033131015231</pre><pre><b>Actions:</b> M.M....M.....M...MM.MM..M..MMM.</pre>"
      ],
      "text/plain": [
       "<IPython.core.display.HTML object>"
      ]
     },
     "metadata": {
      "tags": []
     },
     "output_type": "display_data"
    },
    {
     "name": "stdout",
     "output_type": "stream",
     "text": [
      "{'episode': 912, 'episode_length': 32, 'episode_return': 7.0}\n"
     ]
    },
    {
     "data": {
      "text/html": [
       "<b>Environment (2-back):</b><br /><pre><b>Stimuli:</b> 0320521052505314503240332104100</pre><pre><b>Actions:</b> ..MMMMM..M.M....MMMMM...MMM....</pre>"
      ],
      "text/plain": [
       "<IPython.core.display.HTML object>"
      ]
     },
     "metadata": {
      "tags": []
     },
     "output_type": "display_data"
    },
    {
     "name": "stdout",
     "output_type": "stream",
     "text": [
      "{'episode': 913, 'episode_length': 32, 'episode_return': -5.0}\n"
     ]
    },
    {
     "data": {
      "text/html": [
       "<b>Environment (2-back):</b><br /><pre><b>Stimuli:</b> 1200350035103120040434003053344</pre><pre><b>Actions:</b> M.MM.MMMM.....MMMM.MM.M.......M</pre>"
      ],
      "text/plain": [
       "<IPython.core.display.HTML object>"
      ]
     },
     "metadata": {
      "tags": []
     },
     "output_type": "display_data"
    },
    {
     "name": "stdout",
     "output_type": "stream",
     "text": [
      "{'episode': 914, 'episode_length': 32, 'episode_return': -3.0}\n"
     ]
    },
    {
     "data": {
      "text/html": [
       "<b>Environment (2-back):</b><br /><pre><b>Stimuli:</b> 1144330020410502333510234522302</pre><pre><b>Actions:</b> M.......M.MM...M.M.M...........</pre>"
      ],
      "text/plain": [
       "<IPython.core.display.HTML object>"
      ]
     },
     "metadata": {
      "tags": []
     },
     "output_type": "display_data"
    },
    {
     "name": "stdout",
     "output_type": "stream",
     "text": [
      "{'episode': 915, 'episode_length': 32, 'episode_return': 11.0}\n"
     ]
    },
    {
     "data": {
      "text/html": [
       "<b>Environment (2-back):</b><br /><pre><b>Stimuli:</b> 0431533235020050200033545251033</pre><pre><b>Actions:</b> M.....M...MMM.MM.M.M.M.M...MM.M</pre>"
      ],
      "text/plain": [
       "<IPython.core.display.HTML object>"
      ]
     },
     "metadata": {
      "tags": []
     },
     "output_type": "display_data"
    },
    {
     "name": "stdout",
     "output_type": "stream",
     "text": [
      "{'episode': 916, 'episode_length': 32, 'episode_return': 5.0}\n"
     ]
    },
    {
     "data": {
      "text/html": [
       "<b>Environment (2-back):</b><br /><pre><b>Stimuli:</b> 0301102402105410005055221343404</pre><pre><b>Actions:</b> ...MM..MM.M..M......MM.MM...MMM</pre>"
      ],
      "text/plain": [
       "<IPython.core.display.HTML object>"
      ]
     },
     "metadata": {
      "tags": []
     },
     "output_type": "display_data"
    },
    {
     "name": "stdout",
     "output_type": "stream",
     "text": [
      "{'episode': 917, 'episode_length': 32, 'episode_return': 3.0}\n"
     ]
    },
    {
     "data": {
      "text/html": [
       "<b>Environment (2-back):</b><br /><pre><b>Stimuli:</b> 5253553020410525044022442513342</pre><pre><b>Actions:</b> .MMMM.M..MM.MM....MM...M..MM.M.</pre>"
      ],
      "text/plain": [
       "<IPython.core.display.HTML object>"
      ]
     },
     "metadata": {
      "tags": []
     },
     "output_type": "display_data"
    },
    {
     "name": "stdout",
     "output_type": "stream",
     "text": [
      "{'episode': 918, 'episode_length': 32, 'episode_return': 5.0}\n"
     ]
    },
    {
     "data": {
      "text/html": [
       "<b>Environment (2-back):</b><br /><pre><b>Stimuli:</b> 4405001055240120401051035043121</pre><pre><b>Actions:</b> MM....MMM..MM.M.M..M.......MM.M</pre>"
      ],
      "text/plain": [
       "<IPython.core.display.HTML object>"
      ]
     },
     "metadata": {
      "tags": []
     },
     "output_type": "display_data"
    },
    {
     "name": "stdout",
     "output_type": "stream",
     "text": [
      "{'episode': 919, 'episode_length': 32, 'episode_return': 7.0}\n"
     ]
    },
    {
     "data": {
      "text/html": [
       "<b>Environment (2-back):</b><br /><pre><b>Stimuli:</b> 4441253250203055044440331242440</pre><pre><b>Actions:</b> .M.M...M..M.M.MM..M.MM..MMM...M</pre>"
      ],
      "text/plain": [
       "<IPython.core.display.HTML object>"
      ]
     },
     "metadata": {
      "tags": []
     },
     "output_type": "display_data"
    },
    {
     "name": "stdout",
     "output_type": "stream",
     "text": [
      "{'episode': 920, 'episode_length': 32, 'episode_return': -7.0}\n"
     ]
    },
    {
     "data": {
      "text/html": [
       "<b>Environment (2-back):</b><br /><pre><b>Stimuli:</b> 2051533511045011013505551553205</pre><pre><b>Actions:</b> MMMMMM..M....M...MM.M..M..MMMMM</pre>"
      ],
      "text/plain": [
       "<IPython.core.display.HTML object>"
      ]
     },
     "metadata": {
      "tags": []
     },
     "output_type": "display_data"
    },
    {
     "name": "stdout",
     "output_type": "stream",
     "text": [
      "{'episode': 921, 'episode_length': 32, 'episode_return': -1.0}\n"
     ]
    },
    {
     "data": {
      "text/html": [
       "<b>Environment (2-back):</b><br /><pre><b>Stimuli:</b> 4230225434343134333545234054320</pre><pre><b>Actions:</b> .M.M.MMM.M.MM.M.MM..MMMM.MM.MM.</pre>"
      ],
      "text/plain": [
       "<IPython.core.display.HTML object>"
      ]
     },
     "metadata": {
      "tags": []
     },
     "output_type": "display_data"
    },
    {
     "name": "stdout",
     "output_type": "stream",
     "text": [
      "{'episode': 922, 'episode_length': 32, 'episode_return': 1.0}\n"
     ]
    },
    {
     "data": {
      "text/html": [
       "<b>Environment (2-back):</b><br /><pre><b>Stimuli:</b> 4513441051314543423300111245513</pre><pre><b>Actions:</b> MM....MM.MM.MMM.MMMM.M......MMM</pre>"
      ],
      "text/plain": [
       "<IPython.core.display.HTML object>"
      ]
     },
     "metadata": {
      "tags": []
     },
     "output_type": "display_data"
    },
    {
     "name": "stdout",
     "output_type": "stream",
     "text": [
      "{'episode': 923, 'episode_length': 32, 'episode_return': -3.0}\n"
     ]
    },
    {
     "data": {
      "text/html": [
       "<b>Environment (2-back):</b><br /><pre><b>Stimuli:</b> 2335331014442430254425454135052</pre><pre><b>Actions:</b> ..M...MM...MM..MM..M..MMMMMM...</pre>"
      ],
      "text/plain": [
       "<IPython.core.display.HTML object>"
      ]
     },
     "metadata": {
      "tags": []
     },
     "output_type": "display_data"
    },
    {
     "name": "stdout",
     "output_type": "stream",
     "text": [
      "{'episode': 924, 'episode_length': 32, 'episode_return': -1.0}\n"
     ]
    },
    {
     "data": {
      "text/html": [
       "<b>Environment (2-back):</b><br /><pre><b>Stimuli:</b> 5242542554044305501041203530530</pre><pre><b>Actions:</b> MM.M.M.MMM...MMM..M.M.......MMM</pre>"
      ],
      "text/plain": [
       "<IPython.core.display.HTML object>"
      ]
     },
     "metadata": {
      "tags": []
     },
     "output_type": "display_data"
    },
    {
     "name": "stdout",
     "output_type": "stream",
     "text": [
      "{'episode': 925, 'episode_length': 32, 'episode_return': -3.0}\n"
     ]
    },
    {
     "data": {
      "text/html": [
       "<b>Environment (2-back):</b><br /><pre><b>Stimuli:</b> 4403203110222245100505403233511</pre><pre><b>Actions:</b> MM.MM....M...MMMM....M.MM..M...</pre>"
      ],
      "text/plain": [
       "<IPython.core.display.HTML object>"
      ]
     },
     "metadata": {
      "tags": []
     },
     "output_type": "display_data"
    },
    {
     "name": "stdout",
     "output_type": "stream",
     "text": [
      "{'episode': 926, 'episode_length': 32, 'episode_return': 3.0}\n"
     ]
    },
    {
     "data": {
      "text/html": [
       "<b>Environment (2-back):</b><br /><pre><b>Stimuli:</b> 5255521444200013132130252442302</pre><pre><b>Actions:</b> MMM.MMM......M..M.MM.MM.MMM...M</pre>"
      ],
      "text/plain": [
       "<IPython.core.display.HTML object>"
      ]
     },
     "metadata": {
      "tags": []
     },
     "output_type": "display_data"
    },
    {
     "name": "stdout",
     "output_type": "stream",
     "text": [
      "{'episode': 927, 'episode_length': 32, 'episode_return': 5.0}\n"
     ]
    },
    {
     "data": {
      "text/html": [
       "<b>Environment (2-back):</b><br /><pre><b>Stimuli:</b> 1021130344100122135213513530415</pre><pre><b>Actions:</b> ..M...MMMMMM.M.....MM..M.MMM.MM</pre>"
      ],
      "text/plain": [
       "<IPython.core.display.HTML object>"
      ]
     },
     "metadata": {
      "tags": []
     },
     "output_type": "display_data"
    },
    {
     "name": "stdout",
     "output_type": "stream",
     "text": [
      "{'episode': 928, 'episode_length': 32, 'episode_return': 3.0}\n"
     ]
    },
    {
     "data": {
      "text/html": [
       "<b>Environment (2-back):</b><br /><pre><b>Stimuli:</b> 4313143443441513133534302543225</pre><pre><b>Actions:</b> .MMM.M.MMMMMMMMM..M..M..M.MM.MM</pre>"
      ],
      "text/plain": [
       "<IPython.core.display.HTML object>"
      ]
     },
     "metadata": {
      "tags": []
     },
     "output_type": "display_data"
    },
    {
     "name": "stdout",
     "output_type": "stream",
     "text": [
      "{'episode': 929, 'episode_length': 32, 'episode_return': -11.0}\n"
     ]
    },
    {
     "data": {
      "text/html": [
       "<b>Environment (2-back):</b><br /><pre><b>Stimuli:</b> 2423303025043002503050220533441</pre><pre><b>Actions:</b> M....MM.M..M.MM.MM......M...MMM</pre>"
      ],
      "text/plain": [
       "<IPython.core.display.HTML object>"
      ]
     },
     "metadata": {
      "tags": []
     },
     "output_type": "display_data"
    },
    {
     "name": "stdout",
     "output_type": "stream",
     "text": [
      "{'episode': 930, 'episode_length': 32, 'episode_return': -3.0}\n"
     ]
    },
    {
     "data": {
      "text/html": [
       "<b>Environment (2-back):</b><br /><pre><b>Stimuli:</b> 5122541411545242030443540221143</pre><pre><b>Actions:</b> M..M.MMMM..MMMMM.M.MMMM..MMMMMM</pre>"
      ],
      "text/plain": [
       "<IPython.core.display.HTML object>"
      ]
     },
     "metadata": {
      "tags": []
     },
     "output_type": "display_data"
    },
    {
     "name": "stdout",
     "output_type": "stream",
     "text": [
      "{'episode': 931, 'episode_length': 32, 'episode_return': -7.0}\n"
     ]
    },
    {
     "data": {
      "text/html": [
       "<b>Environment (2-back):</b><br /><pre><b>Stimuli:</b> 4014014442015233402022052011251</pre><pre><b>Actions:</b> .M......M.......M..M.M.MM.MM.MM</pre>"
      ],
      "text/plain": [
       "<IPython.core.display.HTML object>"
      ]
     },
     "metadata": {
      "tags": []
     },
     "output_type": "display_data"
    },
    {
     "name": "stdout",
     "output_type": "stream",
     "text": [
      "{'episode': 932, 'episode_length': 32, 'episode_return': 11.0}\n"
     ]
    },
    {
     "data": {
      "text/html": [
       "<b>Environment (2-back):</b><br /><pre><b>Stimuli:</b> 1112205521202250200144013422414</pre><pre><b>Actions:</b> M...M.M...M...MMMM.MMMMM...MMM.</pre>"
      ],
      "text/plain": [
       "<IPython.core.display.HTML object>"
      ]
     },
     "metadata": {
      "tags": []
     },
     "output_type": "display_data"
    },
    {
     "name": "stdout",
     "output_type": "stream",
     "text": [
      "{'episode': 933, 'episode_length': 32, 'episode_return': -5.0}\n"
     ]
    },
    {
     "data": {
      "text/html": [
       "<b>Environment (2-back):</b><br /><pre><b>Stimuli:</b> 4045012543403143355251311525343</pre><pre><b>Actions:</b> MM.........MM..MM.MM.M.MMM..MMM</pre>"
      ],
      "text/plain": [
       "<IPython.core.display.HTML object>"
      ]
     },
     "metadata": {
      "tags": []
     },
     "output_type": "display_data"
    },
    {
     "name": "stdout",
     "output_type": "stream",
     "text": [
      "{'episode': 934, 'episode_length': 32, 'episode_return': -3.0}\n"
     ]
    },
    {
     "data": {
      "text/html": [
       "<b>Environment (2-back):</b><br /><pre><b>Stimuli:</b> 5535350034023430445205145302122</pre><pre><b>Actions:</b> ..MM....MM....MM.....M.MM.MMM..</pre>"
      ],
      "text/plain": [
       "<IPython.core.display.HTML object>"
      ]
     },
     "metadata": {
      "tags": []
     },
     "output_type": "display_data"
    },
    {
     "name": "stdout",
     "output_type": "stream",
     "text": [
      "{'episode': 935, 'episode_length': 32, 'episode_return': 5.0}\n"
     ]
    },
    {
     "data": {
      "text/html": [
       "<b>Environment (2-back):</b><br /><pre><b>Stimuli:</b> 0510332544301442310313121332204</pre><pre><b>Actions:</b> ...MM..M.M.MM....M......M.....M</pre>"
      ],
      "text/plain": [
       "<IPython.core.display.HTML object>"
      ]
     },
     "metadata": {
      "tags": []
     },
     "output_type": "display_data"
    },
    {
     "name": "stdout",
     "output_type": "stream",
     "text": [
      "{'episode': 936, 'episode_length': 32, 'episode_return': 11.0}\n"
     ]
    },
    {
     "data": {
      "text/html": [
       "<b>Environment (2-back):</b><br /><pre><b>Stimuli:</b> 4223031152032304114323230443251</pre><pre><b>Actions:</b> M.MM.M...MM.MMMMMMMM...MM..M.MM</pre>"
      ],
      "text/plain": [
       "<IPython.core.display.HTML object>"
      ]
     },
     "metadata": {
      "tags": []
     },
     "output_type": "display_data"
    },
    {
     "name": "stdout",
     "output_type": "stream",
     "text": [
      "{'episode': 937, 'episode_length': 32, 'episode_return': -5.0}\n"
     ]
    },
    {
     "data": {
      "text/html": [
       "<b>Environment (2-back):</b><br /><pre><b>Stimuli:</b> 3232543302235022243345342443020</pre><pre><b>Actions:</b> .M.M.MM.M.MM...M..MMM...MMM..M.</pre>"
      ],
      "text/plain": [
       "<IPython.core.display.HTML object>"
      ]
     },
     "metadata": {
      "tags": []
     },
     "output_type": "display_data"
    },
    {
     "name": "stdout",
     "output_type": "stream",
     "text": [
      "{'episode': 938, 'episode_length': 32, 'episode_return': -1.0}\n"
     ]
    },
    {
     "data": {
      "text/html": [
       "<b>Environment (2-back):</b><br /><pre><b>Stimuli:</b> 0411352110433310400213501555534</pre><pre><b>Actions:</b> .M....M..M..MMM.M.MM...M...MM..</pre>"
      ],
      "text/plain": [
       "<IPython.core.display.HTML object>"
      ]
     },
     "metadata": {
      "tags": []
     },
     "output_type": "display_data"
    },
    {
     "name": "stdout",
     "output_type": "stream",
     "text": [
      "{'episode': 939, 'episode_length': 32, 'episode_return': 11.0}\n"
     ]
    },
    {
     "data": {
      "text/html": [
       "<b>Environment (2-back):</b><br /><pre><b>Stimuli:</b> 4250033420435411555302042514410</pre><pre><b>Actions:</b> .MMMMM.MM.....MM.......M.MM.M.M</pre>"
      ],
      "text/plain": [
       "<IPython.core.display.HTML object>"
      ]
     },
     "metadata": {
      "tags": []
     },
     "output_type": "display_data"
    },
    {
     "name": "stdout",
     "output_type": "stream",
     "text": [
      "{'episode': 940, 'episode_length': 32, 'episode_return': 1.0}\n"
     ]
    },
    {
     "data": {
      "text/html": [
       "<b>Environment (2-back):</b><br /><pre><b>Stimuli:</b> 3102145224451340441155223043232</pre><pre><b>Actions:</b> .MMM.MM..MMMMM.M.M...MM.M......</pre>"
      ],
      "text/plain": [
       "<IPython.core.display.HTML object>"
      ]
     },
     "metadata": {
      "tags": []
     },
     "output_type": "display_data"
    },
    {
     "name": "stdout",
     "output_type": "stream",
     "text": [
      "{'episode': 941, 'episode_length': 32, 'episode_return': -5.0}\n"
     ]
    },
    {
     "data": {
      "text/html": [
       "<b>Environment (2-back):</b><br /><pre><b>Stimuli:</b> 1555512523534221214140504423243</pre><pre><b>Actions:</b> ........MM...M....M..M..M.MMMMM</pre>"
      ],
      "text/plain": [
       "<IPython.core.display.HTML object>"
      ]
     },
     "metadata": {
      "tags": []
     },
     "output_type": "display_data"
    },
    {
     "name": "stdout",
     "output_type": "stream",
     "text": [
      "{'episode': 942, 'episode_length': 32, 'episode_return': -3.0}\n"
     ]
    },
    {
     "data": {
      "text/html": [
       "<b>Environment (2-back):</b><br /><pre><b>Stimuli:</b> 5135252512145414024155553402540</pre><pre><b>Actions:</b> MMMMM.MMM.M..MM..MMMMMM..M.M.M.</pre>"
      ],
      "text/plain": [
       "<IPython.core.display.HTML object>"
      ]
     },
     "metadata": {
      "tags": []
     },
     "output_type": "display_data"
    },
    {
     "name": "stdout",
     "output_type": "stream",
     "text": [
      "{'episode': 943, 'episode_length': 32, 'episode_return': -5.0}\n"
     ]
    },
    {
     "data": {
      "text/html": [
       "<b>Environment (2-back):</b><br /><pre><b>Stimuli:</b> 4224100054151022503002000455233</pre><pre><b>Actions:</b> .M.M..MMM...MMMM...MM..M.MMM.M.</pre>"
      ],
      "text/plain": [
       "<IPython.core.display.HTML object>"
      ]
     },
     "metadata": {
      "tags": []
     },
     "output_type": "display_data"
    },
    {
     "name": "stdout",
     "output_type": "stream",
     "text": [
      "{'episode': 944, 'episode_length': 32, 'episode_return': 1.0}\n"
     ]
    },
    {
     "data": {
      "text/html": [
       "<b>Environment (2-back):</b><br /><pre><b>Stimuli:</b> 1312440150152325223443554513020</pre><pre><b>Actions:</b> ...MM...MMM..M..MM..MMMMMM..M.M</pre>"
      ],
      "text/plain": [
       "<IPython.core.display.HTML object>"
      ]
     },
     "metadata": {
      "tags": []
     },
     "output_type": "display_data"
    },
    {
     "name": "stdout",
     "output_type": "stream",
     "text": [
      "{'episode': 945, 'episode_length': 32, 'episode_return': 1.0}\n"
     ]
    },
    {
     "data": {
      "text/html": [
       "<b>Environment (2-back):</b><br /><pre><b>Stimuli:</b> 0022022031300003212443441433520</pre><pre><b>Actions:</b> .MMM..M.MMMM.MM..M...M.M...MM.M</pre>"
      ],
      "text/plain": [
       "<IPython.core.display.HTML object>"
      ]
     },
     "metadata": {
      "tags": []
     },
     "output_type": "display_data"
    },
    {
     "name": "stdout",
     "output_type": "stream",
     "text": [
      "{'episode': 946, 'episode_length': 32, 'episode_return': -5.0}\n"
     ]
    },
    {
     "data": {
      "text/html": [
       "<b>Environment (2-back):</b><br /><pre><b>Stimuli:</b> 2032331121534310401225134201413</pre><pre><b>Actions:</b> .M.......M.M....MM...MM.MM.MMMM</pre>"
      ],
      "text/plain": [
       "<IPython.core.display.HTML object>"
      ]
     },
     "metadata": {
      "tags": []
     },
     "output_type": "display_data"
    },
    {
     "name": "stdout",
     "output_type": "stream",
     "text": [
      "{'episode': 947, 'episode_length': 32, 'episode_return': 9.0}\n"
     ]
    },
    {
     "data": {
      "text/html": [
       "<b>Environment (2-back):</b><br /><pre><b>Stimuli:</b> 4243011140342032302140201145432</pre><pre><b>Actions:</b> MM..MMMM....MMMM.MM.MMM.M.MMMMM</pre>"
      ],
      "text/plain": [
       "<IPython.core.display.HTML object>"
      ]
     },
     "metadata": {
      "tags": []
     },
     "output_type": "display_data"
    },
    {
     "name": "stdout",
     "output_type": "stream",
     "text": [
      "{'episode': 948, 'episode_length': 32, 'episode_return': -13.0}\n"
     ]
    },
    {
     "data": {
      "text/html": [
       "<b>Environment (2-back):</b><br /><pre><b>Stimuli:</b> 4353421101413233421534203054100</pre><pre><b>Actions:</b> .M....M...........M...MM.M.MMM.</pre>"
      ],
      "text/plain": [
       "<IPython.core.display.HTML object>"
      ]
     },
     "metadata": {
      "tags": []
     },
     "output_type": "display_data"
    },
    {
     "name": "stdout",
     "output_type": "stream",
     "text": [
      "{'episode': 949, 'episode_length': 32, 'episode_return': 7.0}\n"
     ]
    },
    {
     "data": {
      "text/html": [
       "<b>Environment (2-back):</b><br /><pre><b>Stimuli:</b> 2330200255312240503421152454045</pre><pre><b>Actions:</b> .MMM.M.....M.M......M.M.M..MM..</pre>"
      ],
      "text/plain": [
       "<IPython.core.display.HTML object>"
      ]
     },
     "metadata": {
      "tags": []
     },
     "output_type": "display_data"
    },
    {
     "name": "stdout",
     "output_type": "stream",
     "text": [
      "{'episode': 950, 'episode_length': 32, 'episode_return': 9.0}\n"
     ]
    },
    {
     "data": {
      "text/html": [
       "<b>Environment (2-back):</b><br /><pre><b>Stimuli:</b> 4200311524450533414440203503220</pre><pre><b>Actions:</b> ....MM.M.M..MM..MMMM..MMM...MMM</pre>"
      ],
      "text/plain": [
       "<IPython.core.display.HTML object>"
      ]
     },
     "metadata": {
      "tags": []
     },
     "output_type": "display_data"
    },
    {
     "name": "stdout",
     "output_type": "stream",
     "text": [
      "{'episode': 951, 'episode_length': 32, 'episode_return': 3.0}\n"
     ]
    },
    {
     "data": {
      "text/html": [
       "<b>Environment (2-back):</b><br /><pre><b>Stimuli:</b> 0213543522352455531054223005520</pre><pre><b>Actions:</b> ...M..MM..M..MMM.M....MM.M.M...</pre>"
      ],
      "text/plain": [
       "<IPython.core.display.HTML object>"
      ]
     },
     "metadata": {
      "tags": []
     },
     "output_type": "display_data"
    },
    {
     "name": "stdout",
     "output_type": "stream",
     "text": [
      "{'episode': 952, 'episode_length': 32, 'episode_return': 3.0}\n"
     ]
    },
    {
     "data": {
      "text/html": [
       "<b>Environment (2-back):</b><br /><pre><b>Stimuli:</b> 4300241030145242000104425532200</pre><pre><b>Actions:</b> MM...M...M..MM..MM..M.M..M.MM.M</pre>"
      ],
      "text/plain": [
       "<IPython.core.display.HTML object>"
      ]
     },
     "metadata": {
      "tags": []
     },
     "output_type": "display_data"
    },
    {
     "name": "stdout",
     "output_type": "stream",
     "text": [
      "{'episode': 953, 'episode_length': 32, 'episode_return': 5.0}\n"
     ]
    },
    {
     "data": {
      "text/html": [
       "<b>Environment (2-back):</b><br /><pre><b>Stimuli:</b> 3101501213504304420434304400234</pre><pre><b>Actions:</b> M.M.M........M.MMM..M...M.M..M.</pre>"
      ],
      "text/plain": [
       "<IPython.core.display.HTML object>"
      ]
     },
     "metadata": {
      "tags": []
     },
     "output_type": "display_data"
    },
    {
     "name": "stdout",
     "output_type": "stream",
     "text": [
      "{'episode': 954, 'episode_length': 32, 'episode_return': 1.0}\n"
     ]
    },
    {
     "data": {
      "text/html": [
       "<b>Environment (2-back):</b><br /><pre><b>Stimuli:</b> 5003320340221223314133551145240</pre><pre><b>Actions:</b> M..M..M..M..M..MM.....MMMM.MMMM</pre>"
      ],
      "text/plain": [
       "<IPython.core.display.HTML object>"
      ]
     },
     "metadata": {
      "tags": []
     },
     "output_type": "display_data"
    },
    {
     "name": "stdout",
     "output_type": "stream",
     "text": [
      "{'episode': 955, 'episode_length': 32, 'episode_return': -3.0}\n"
     ]
    },
    {
     "data": {
      "text/html": [
       "<b>Environment (2-back):</b><br /><pre><b>Stimuli:</b> 3330124302254420315411152553510</pre><pre><b>Actions:</b> .MM.MM.MMM..M.M.M..M.MMMM..M...</pre>"
      ],
      "text/plain": [
       "<IPython.core.display.HTML object>"
      ]
     },
     "metadata": {
      "tags": []
     },
     "output_type": "display_data"
    },
    {
     "name": "stdout",
     "output_type": "stream",
     "text": [
      "{'episode': 956, 'episode_length': 32, 'episode_return': -1.0}\n"
     ]
    },
    {
     "data": {
      "text/html": [
       "<b>Environment (2-back):</b><br /><pre><b>Stimuli:</b> 1445150240053545040455153351331</pre><pre><b>Actions:</b> .M...MM....MM...MMMM...M...MMM.</pre>"
      ],
      "text/plain": [
       "<IPython.core.display.HTML object>"
      ]
     },
     "metadata": {
      "tags": []
     },
     "output_type": "display_data"
    },
    {
     "name": "stdout",
     "output_type": "stream",
     "text": [
      "{'episode': 957, 'episode_length': 32, 'episode_return': 9.0}\n"
     ]
    },
    {
     "data": {
      "text/html": [
       "<b>Environment (2-back):</b><br /><pre><b>Stimuli:</b> 1324550121200440551323054334543</pre><pre><b>Actions:</b> .MM.M.M...M.M.MMM...MM.M..MM.MM</pre>"
      ],
      "text/plain": [
       "<IPython.core.display.HTML object>"
      ]
     },
     "metadata": {
      "tags": []
     },
     "output_type": "display_data"
    },
    {
     "name": "stdout",
     "output_type": "stream",
     "text": [
      "{'episode': 958, 'episode_length': 32, 'episode_return': 3.0}\n"
     ]
    },
    {
     "data": {
      "text/html": [
       "<b>Environment (2-back):</b><br /><pre><b>Stimuli:</b> 4502302214514510532352520514134</pre><pre><b>Actions:</b> .M..MM.MMM....M.....M.MMMMMMM.M</pre>"
      ],
      "text/plain": [
       "<IPython.core.display.HTML object>"
      ]
     },
     "metadata": {
      "tags": []
     },
     "output_type": "display_data"
    },
    {
     "name": "stdout",
     "output_type": "stream",
     "text": [
      "{'episode': 959, 'episode_length': 32, 'episode_return': 1.0}\n"
     ]
    },
    {
     "data": {
      "text/html": [
       "<b>Environment (2-back):</b><br /><pre><b>Stimuli:</b> 3124024510042322144213052420315</pre><pre><b>Actions:</b> M.M.MM.M..M...MMMM.M.M....MM..M</pre>"
      ],
      "text/plain": [
       "<IPython.core.display.HTML object>"
      ]
     },
     "metadata": {
      "tags": []
     },
     "output_type": "display_data"
    },
    {
     "name": "stdout",
     "output_type": "stream",
     "text": [
      "{'episode': 960, 'episode_length': 32, 'episode_return': 5.0}\n"
     ]
    },
    {
     "data": {
      "text/html": [
       "<b>Environment (2-back):</b><br /><pre><b>Stimuli:</b> 2011501331253431154043513310323</pre><pre><b>Actions:</b> .M..M.M..MM.M.....MMM..M.M...MM</pre>"
      ],
      "text/plain": [
       "<IPython.core.display.HTML object>"
      ]
     },
     "metadata": {
      "tags": []
     },
     "output_type": "display_data"
    },
    {
     "name": "stdout",
     "output_type": "stream",
     "text": [
      "{'episode': 961, 'episode_length': 32, 'episode_return': 9.0}\n"
     ]
    },
    {
     "data": {
      "text/html": [
       "<b>Environment (2-back):</b><br /><pre><b>Stimuli:</b> 4514331202044215142105115431242</pre><pre><b>Actions:</b> MM.MM.MMM.M.M.MM..MM..MMMM.MMM.</pre>"
      ],
      "text/plain": [
       "<IPython.core.display.HTML object>"
      ]
     },
     "metadata": {
      "tags": []
     },
     "output_type": "display_data"
    },
    {
     "name": "stdout",
     "output_type": "stream",
     "text": [
      "{'episode': 962, 'episode_length': 32, 'episode_return': -13.0}\n"
     ]
    },
    {
     "data": {
      "text/html": [
       "<b>Environment (2-back):</b><br /><pre><b>Stimuli:</b> 0440444244322412305105410340300</pre><pre><b>Actions:</b> M...MM.M.M.MMMM.MM...M..M..MM.M</pre>"
      ],
      "text/plain": [
       "<IPython.core.display.HTML object>"
      ]
     },
     "metadata": {
      "tags": []
     },
     "output_type": "display_data"
    },
    {
     "name": "stdout",
     "output_type": "stream",
     "text": [
      "{'episode': 963, 'episode_length': 32, 'episode_return': -5.0}\n"
     ]
    },
    {
     "data": {
      "text/html": [
       "<b>Environment (2-back):</b><br /><pre><b>Stimuli:</b> 0551234203503021101014045302111</pre><pre><b>Actions:</b> MM.MM.MMMM.M.M.M..M....MMMM.MMM</pre>"
      ],
      "text/plain": [
       "<IPython.core.display.HTML object>"
      ]
     },
     "metadata": {
      "tags": []
     },
     "output_type": "display_data"
    },
    {
     "name": "stdout",
     "output_type": "stream",
     "text": [
      "{'episode': 964, 'episode_length': 32, 'episode_return': -3.0}\n"
     ]
    },
    {
     "data": {
      "text/html": [
       "<b>Environment (2-back):</b><br /><pre><b>Stimuli:</b> 4553034354032102245314342321035</pre><pre><b>Actions:</b> M..MM...MMM...MMMMM.MM.M..MM.MM</pre>"
      ],
      "text/plain": [
       "<IPython.core.display.HTML object>"
      ]
     },
     "metadata": {
      "tags": []
     },
     "output_type": "display_data"
    },
    {
     "name": "stdout",
     "output_type": "stream",
     "text": [
      "{'episode': 965, 'episode_length': 32, 'episode_return': -7.0}\n"
     ]
    },
    {
     "data": {
      "text/html": [
       "<b>Environment (2-back):</b><br /><pre><b>Stimuli:</b> 3133333331325152004122041420111</pre><pre><b>Actions:</b> .M.M..M..M..M.MMM.M.M....M..M.M</pre>"
      ],
      "text/plain": [
       "<IPython.core.display.HTML object>"
      ]
     },
     "metadata": {
      "tags": []
     },
     "output_type": "display_data"
    },
    {
     "name": "stdout",
     "output_type": "stream",
     "text": [
      "{'episode': 966, 'episode_length': 32, 'episode_return': 1.0}\n"
     ]
    },
    {
     "data": {
      "text/html": [
       "<b>Environment (2-back):</b><br /><pre><b>Stimuli:</b> 3253441005511011003344355030455</pre><pre><b>Actions:</b> .MM.M..M......M.M.MMM.MMMMM..MM</pre>"
      ],
      "text/plain": [
       "<IPython.core.display.HTML object>"
      ]
     },
     "metadata": {
      "tags": []
     },
     "output_type": "display_data"
    },
    {
     "name": "stdout",
     "output_type": "stream",
     "text": [
      "{'episode': 967, 'episode_length': 32, 'episode_return': 1.0}\n"
     ]
    },
    {
     "data": {
      "text/html": [
       "<b>Environment (2-back):</b><br /><pre><b>Stimuli:</b> 5214554325435101505051521510433</pre><pre><b>Actions:</b> .M.M.M.MMM.MMMM.....M.M...MM.MM</pre>"
      ],
      "text/plain": [
       "<IPython.core.display.HTML object>"
      ]
     },
     "metadata": {
      "tags": []
     },
     "output_type": "display_data"
    },
    {
     "name": "stdout",
     "output_type": "stream",
     "text": [
      "{'episode': 968, 'episode_length': 32, 'episode_return': -1.0}\n"
     ]
    },
    {
     "data": {
      "text/html": [
       "<b>Environment (2-back):</b><br /><pre><b>Stimuli:</b> 5130313423554501254452041422144</pre><pre><b>Actions:</b> M...MM..MM...M.MMMMM.M.MM......</pre>"
      ],
      "text/plain": [
       "<IPython.core.display.HTML object>"
      ]
     },
     "metadata": {
      "tags": []
     },
     "output_type": "display_data"
    },
    {
     "name": "stdout",
     "output_type": "stream",
     "text": [
      "{'episode': 969, 'episode_length': 32, 'episode_return': 3.0}\n"
     ]
    },
    {
     "data": {
      "text/html": [
       "<b>Environment (2-back):</b><br /><pre><b>Stimuli:</b> 0220252143404154503314014103330</pre><pre><b>Actions:</b> M.M.MM..MM.MM.M.MM.....MM.MM.MM</pre>"
      ],
      "text/plain": [
       "<IPython.core.display.HTML object>"
      ]
     },
     "metadata": {
      "tags": []
     },
     "output_type": "display_data"
    },
    {
     "name": "stdout",
     "output_type": "stream",
     "text": [
      "{'episode': 970, 'episode_length': 32, 'episode_return': 1.0}\n"
     ]
    },
    {
     "data": {
      "text/html": [
       "<b>Environment (2-back):</b><br /><pre><b>Stimuli:</b> 4005101254555342112334215051552</pre><pre><b>Actions:</b> M.....M.MMM.MM.MMMM....MMM.MM.M</pre>"
      ],
      "text/plain": [
       "<IPython.core.display.HTML object>"
      ]
     },
     "metadata": {
      "tags": []
     },
     "output_type": "display_data"
    },
    {
     "name": "stdout",
     "output_type": "stream",
     "text": [
      "{'episode': 971, 'episode_length': 32, 'episode_return': 3.0}\n"
     ]
    },
    {
     "data": {
      "text/html": [
       "<b>Environment (2-back):</b><br /><pre><b>Stimuli:</b> 4240432054044034512250401050552</pre><pre><b>Actions:</b> MMMM..MM..M.MM....MM.M.MMMMM...</pre>"
      ],
      "text/plain": [
       "<IPython.core.display.HTML object>"
      ]
     },
     "metadata": {
      "tags": []
     },
     "output_type": "display_data"
    },
    {
     "name": "stdout",
     "output_type": "stream",
     "text": [
      "{'episode': 972, 'episode_length': 32, 'episode_return': 1.0}\n"
     ]
    },
    {
     "data": {
      "text/html": [
       "<b>Environment (2-back):</b><br /><pre><b>Stimuli:</b> 1321220315442110152222550050353</pre><pre><b>Actions:</b> M.MMMM....MMM.M........MM...M.M</pre>"
      ],
      "text/plain": [
       "<IPython.core.display.HTML object>"
      ]
     },
     "metadata": {
      "tags": []
     },
     "output_type": "display_data"
    },
    {
     "name": "stdout",
     "output_type": "stream",
     "text": [
      "{'episode': 973, 'episode_length': 32, 'episode_return': 1.0}\n"
     ]
    },
    {
     "data": {
      "text/html": [
       "<b>Environment (2-back):</b><br /><pre><b>Stimuli:</b> 1433521250531541413242254243121</pre><pre><b>Actions:</b> MMM.MM.M.MMMM.MMM..........MM..</pre>"
      ],
      "text/plain": [
       "<IPython.core.display.HTML object>"
      ]
     },
     "metadata": {
      "tags": []
     },
     "output_type": "display_data"
    },
    {
     "name": "stdout",
     "output_type": "stream",
     "text": [
      "{'episode': 974, 'episode_length': 32, 'episode_return': 1.0}\n"
     ]
    },
    {
     "data": {
      "text/html": [
       "<b>Environment (2-back):</b><br /><pre><b>Stimuli:</b> 0201045220501222044314522121303</pre><pre><b>Actions:</b> M.M.M..M.M.MM.MMMMM.MMMM.MMM...</pre>"
      ],
      "text/plain": [
       "<IPython.core.display.HTML object>"
      ]
     },
     "metadata": {
      "tags": []
     },
     "output_type": "display_data"
    },
    {
     "name": "stdout",
     "output_type": "stream",
     "text": [
      "{'episode': 975, 'episode_length': 32, 'episode_return': 1.0}\n"
     ]
    },
    {
     "data": {
      "text/html": [
       "<b>Environment (2-back):</b><br /><pre><b>Stimuli:</b> 0354200543330211115034413513003</pre><pre><b>Actions:</b> MMMMM.MMMMMM.M.M.M.M.M.....M...</pre>"
      ],
      "text/plain": [
       "<IPython.core.display.HTML object>"
      ]
     },
     "metadata": {
      "tags": []
     },
     "output_type": "display_data"
    },
    {
     "name": "stdout",
     "output_type": "stream",
     "text": [
      "{'episode': 976, 'episode_length': 32, 'episode_return': -1.0}\n"
     ]
    },
    {
     "data": {
      "text/html": [
       "<b>Environment (2-back):</b><br /><pre><b>Stimuli:</b> 3022325013553045443215240400553</pre><pre><b>Actions:</b> M..MMM..M.M..MMM.......M..M.MMM</pre>"
      ],
      "text/plain": [
       "<IPython.core.display.HTML object>"
      ]
     },
     "metadata": {
      "tags": []
     },
     "output_type": "display_data"
    },
    {
     "name": "stdout",
     "output_type": "stream",
     "text": [
      "{'episode': 977, 'episode_length': 32, 'episode_return': 5.0}\n"
     ]
    },
    {
     "data": {
      "text/html": [
       "<b>Environment (2-back):</b><br /><pre><b>Stimuli:</b> 4243504112554101103325431423243</pre><pre><b>Actions:</b> ..M.MM...MM..M..M.....M..MM..MM</pre>"
      ],
      "text/plain": [
       "<IPython.core.display.HTML object>"
      ]
     },
     "metadata": {
      "tags": []
     },
     "output_type": "display_data"
    },
    {
     "name": "stdout",
     "output_type": "stream",
     "text": [
      "{'episode': 978, 'episode_length': 32, 'episode_return': 5.0}\n"
     ]
    },
    {
     "data": {
      "text/html": [
       "<b>Environment (2-back):</b><br /><pre><b>Stimuli:</b> 1325532234222323133535123455203</pre><pre><b>Actions:</b> MM.MMMMMMMM..M..MMM..MM.MMM....</pre>"
      ],
      "text/plain": [
       "<IPython.core.display.HTML object>"
      ]
     },
     "metadata": {
      "tags": []
     },
     "output_type": "display_data"
    },
    {
     "name": "stdout",
     "output_type": "stream",
     "text": [
      "{'episode': 979, 'episode_length': 32, 'episode_return': -11.0}\n"
     ]
    },
    {
     "data": {
      "text/html": [
       "<b>Environment (2-back):</b><br /><pre><b>Stimuli:</b> 5042402414001240343220150042523</pre><pre><b>Actions:</b> M..M.MM.MM.MM...MM..M.MMM.MM...</pre>"
      ],
      "text/plain": [
       "<IPython.core.display.HTML object>"
      ]
     },
     "metadata": {
      "tags": []
     },
     "output_type": "display_data"
    },
    {
     "name": "stdout",
     "output_type": "stream",
     "text": [
      "{'episode': 980, 'episode_length': 32, 'episode_return': -5.0}\n"
     ]
    },
    {
     "data": {
      "text/html": [
       "<b>Environment (2-back):</b><br /><pre><b>Stimuli:</b> 3303313542453512302554005442523</pre><pre><b>Actions:</b> M...M..M.M...M.M..M.M...MM.M.M.</pre>"
      ],
      "text/plain": [
       "<IPython.core.display.HTML object>"
      ]
     },
     "metadata": {
      "tags": []
     },
     "output_type": "display_data"
    },
    {
     "name": "stdout",
     "output_type": "stream",
     "text": [
      "{'episode': 981, 'episode_length': 32, 'episode_return': 7.0}\n"
     ]
    },
    {
     "data": {
      "text/html": [
       "<b>Environment (2-back):</b><br /><pre><b>Stimuli:</b> 0202412222341442312344234333251</pre><pre><b>Actions:</b> MM.M.M.MM.M.M..M.M...M..M...MMM</pre>"
      ],
      "text/plain": [
       "<IPython.core.display.HTML object>"
      ]
     },
     "metadata": {
      "tags": []
     },
     "output_type": "display_data"
    },
    {
     "name": "stdout",
     "output_type": "stream",
     "text": [
      "{'episode': 982, 'episode_length': 32, 'episode_return': -3.0}\n"
     ]
    },
    {
     "data": {
      "text/html": [
       "<b>Environment (2-back):</b><br /><pre><b>Stimuli:</b> 3341012300142053520341423220134</pre><pre><b>Actions:</b> MM..MM.MM.MMM..MMM..M.M.M.M..MM</pre>"
      ],
      "text/plain": [
       "<IPython.core.display.HTML object>"
      ]
     },
     "metadata": {
      "tags": []
     },
     "output_type": "display_data"
    },
    {
     "name": "stdout",
     "output_type": "stream",
     "text": [
      "{'episode': 983, 'episode_length': 32, 'episode_return': -1.0}\n"
     ]
    },
    {
     "data": {
      "text/html": [
       "<b>Environment (2-back):</b><br /><pre><b>Stimuli:</b> 0435041155121013431335253235010</pre><pre><b>Actions:</b> ...MMMM.MM.....MM.MM.M.MM.MM...</pre>"
      ],
      "text/plain": [
       "<IPython.core.display.HTML object>"
      ]
     },
     "metadata": {
      "tags": []
     },
     "output_type": "display_data"
    },
    {
     "name": "stdout",
     "output_type": "stream",
     "text": [
      "{'episode': 984, 'episode_length': 32, 'episode_return': -3.0}\n"
     ]
    },
    {
     "data": {
      "text/html": [
       "<b>Environment (2-back):</b><br /><pre><b>Stimuli:</b> 4010341441015004551552343222155</pre><pre><b>Actions:</b> .....M....MMMM...MMMM..M.MM..M.</pre>"
      ],
      "text/plain": [
       "<IPython.core.display.HTML object>"
      ]
     },
     "metadata": {
      "tags": []
     },
     "output_type": "display_data"
    },
    {
     "name": "stdout",
     "output_type": "stream",
     "text": [
      "{'episode': 985, 'episode_length': 32, 'episode_return': 1.0}\n"
     ]
    },
    {
     "data": {
      "text/html": [
       "<b>Environment (2-back):</b><br /><pre><b>Stimuli:</b> 2331322424351220533001245151323</pre><pre><b>Actions:</b> .MM.MM.MMM.M.MM.MMMM..M...MM.M.</pre>"
      ],
      "text/plain": [
       "<IPython.core.display.HTML object>"
      ]
     },
     "metadata": {
      "tags": []
     },
     "output_type": "display_data"
    },
    {
     "name": "stdout",
     "output_type": "stream",
     "text": [
      "{'episode': 986, 'episode_length': 32, 'episode_return': 3.0}\n"
     ]
    },
    {
     "data": {
      "text/html": [
       "<b>Environment (2-back):</b><br /><pre><b>Stimuli:</b> 1132323023411101303025542522534</pre><pre><b>Actions:</b> M..MMMMM.M.MM.MMMMMM....MMMM...</pre>"
      ],
      "text/plain": [
       "<IPython.core.display.HTML object>"
      ]
     },
     "metadata": {
      "tags": []
     },
     "output_type": "display_data"
    },
    {
     "name": "stdout",
     "output_type": "stream",
     "text": [
      "{'episode': 987, 'episode_length': 32, 'episode_return': 5.0}\n"
     ]
    },
    {
     "data": {
      "text/html": [
       "<b>Environment (2-back):</b><br /><pre><b>Stimuli:</b> 5500230101505331154031013450321</pre><pre><b>Actions:</b> .MMM.MM.MMMMMM.M.MM.M..MMM.M...</pre>"
      ],
      "text/plain": [
       "<IPython.core.display.HTML object>"
      ]
     },
     "metadata": {
      "tags": []
     },
     "output_type": "display_data"
    },
    {
     "name": "stdout",
     "output_type": "stream",
     "text": [
      "{'episode': 988, 'episode_length': 32, 'episode_return': 3.0}\n"
     ]
    },
    {
     "data": {
      "text/html": [
       "<b>Environment (2-back):</b><br /><pre><b>Stimuli:</b> 0235433015155551151034252501135</pre><pre><b>Actions:</b> M...M....MM.......M.MMMM...MMMM</pre>"
      ],
      "text/plain": [
       "<IPython.core.display.HTML object>"
      ]
     },
     "metadata": {
      "tags": []
     },
     "output_type": "display_data"
    },
    {
     "name": "stdout",
     "output_type": "stream",
     "text": [
      "{'episode': 989, 'episode_length': 32, 'episode_return': -1.0}\n"
     ]
    },
    {
     "data": {
      "text/html": [
       "<b>Environment (2-back):</b><br /><pre><b>Stimuli:</b> 4303305122250102240403513011024</pre><pre><b>Actions:</b> MMMMM..MM..M.MMMMM.MMMMM.M.MMM.</pre>"
      ],
      "text/plain": [
       "<IPython.core.display.HTML object>"
      ]
     },
     "metadata": {
      "tags": []
     },
     "output_type": "display_data"
    },
    {
     "name": "stdout",
     "output_type": "stream",
     "text": [
      "{'episode': 990, 'episode_length': 32, 'episode_return': -5.0}\n"
     ]
    },
    {
     "data": {
      "text/html": [
       "<b>Environment (2-back):</b><br /><pre><b>Stimuli:</b> 2001032435114325121305211553351</pre><pre><b>Actions:</b> M.M.MM.MM.M...MM.MMM.MM.M.MMMM.</pre>"
      ],
      "text/plain": [
       "<IPython.core.display.HTML object>"
      ]
     },
     "metadata": {
      "tags": []
     },
     "output_type": "display_data"
    },
    {
     "name": "stdout",
     "output_type": "stream",
     "text": [
      "{'episode': 991, 'episode_length': 32, 'episode_return': -3.0}\n"
     ]
    },
    {
     "data": {
      "text/html": [
       "<b>Environment (2-back):</b><br /><pre><b>Stimuli:</b> 5141325121343400231512515542010</pre><pre><b>Actions:</b> M.M......M...M...M..M..M.MM..MM</pre>"
      ],
      "text/plain": [
       "<IPython.core.display.HTML object>"
      ]
     },
     "metadata": {
      "tags": []
     },
     "output_type": "display_data"
    },
    {
     "name": "stdout",
     "output_type": "stream",
     "text": [
      "{'episode': 992, 'episode_length': 32, 'episode_return': 11.0}\n"
     ]
    },
    {
     "data": {
      "text/html": [
       "<b>Environment (2-back):</b><br /><pre><b>Stimuli:</b> 4334211324314014235553553513232</pre><pre><b>Actions:</b> ...MMM.M......MM.....MMMM.MMM.M</pre>"
      ],
      "text/plain": [
       "<IPython.core.display.HTML object>"
      ]
     },
     "metadata": {
      "tags": []
     },
     "output_type": "display_data"
    },
    {
     "name": "stdout",
     "output_type": "stream",
     "text": [
      "{'episode': 993, 'episode_length': 32, 'episode_return': 1.0}\n"
     ]
    },
    {
     "data": {
      "text/html": [
       "<b>Environment (2-back):</b><br /><pre><b>Stimuli:</b> 5443525052120315224212030300231</pre><pre><b>Actions:</b> .M.M.MMMMM..MMMM.M.MM...MM.MMMM</pre>"
      ],
      "text/plain": [
       "<IPython.core.display.HTML object>"
      ]
     },
     "metadata": {
      "tags": []
     },
     "output_type": "display_data"
    },
    {
     "name": "stdout",
     "output_type": "stream",
     "text": [
      "{'episode': 994, 'episode_length': 32, 'episode_return': -5.0}\n"
     ]
    },
    {
     "data": {
      "text/html": [
       "<b>Environment (2-back):</b><br /><pre><b>Stimuli:</b> 1022135332520254120252303003505</pre><pre><b>Actions:</b> MMMM.MMMM.M....M..M.MM.M.MM...M</pre>"
      ],
      "text/plain": [
       "<IPython.core.display.HTML object>"
      ]
     },
     "metadata": {
      "tags": []
     },
     "output_type": "display_data"
    },
    {
     "name": "stdout",
     "output_type": "stream",
     "text": [
      "{'episode': 995, 'episode_length': 32, 'episode_return': -3.0}\n"
     ]
    },
    {
     "data": {
      "text/html": [
       "<b>Environment (2-back):</b><br /><pre><b>Stimuli:</b> 3300520033022104431541025041515</pre><pre><b>Actions:</b> MM.M..MMMM..M..M..MM....M.M.MMM</pre>"
      ],
      "text/plain": [
       "<IPython.core.display.HTML object>"
      ]
     },
     "metadata": {
      "tags": []
     },
     "output_type": "display_data"
    },
    {
     "name": "stdout",
     "output_type": "stream",
     "text": [
      "{'episode': 996, 'episode_length': 32, 'episode_return': 5.0}\n"
     ]
    },
    {
     "data": {
      "text/html": [
       "<b>Environment (2-back):</b><br /><pre><b>Stimuli:</b> 0053325424143422150340551513511</pre><pre><b>Actions:</b> M..MMM.M...MMMM.M.MM.MMMMM.MMMM</pre>"
      ],
      "text/plain": [
       "<IPython.core.display.HTML object>"
      ]
     },
     "metadata": {
      "tags": []
     },
     "output_type": "display_data"
    },
    {
     "name": "stdout",
     "output_type": "stream",
     "text": [
      "{'episode': 997, 'episode_length': 32, 'episode_return': -9.0}\n"
     ]
    },
    {
     "data": {
      "text/html": [
       "<b>Environment (2-back):</b><br /><pre><b>Stimuli:</b> 2232035130344553442435342413431</pre><pre><b>Actions:</b> ..MMMMM.M..M.M.MM..M......MMM.M</pre>"
      ],
      "text/plain": [
       "<IPython.core.display.HTML object>"
      ]
     },
     "metadata": {
      "tags": []
     },
     "output_type": "display_data"
    },
    {
     "name": "stdout",
     "output_type": "stream",
     "text": [
      "{'episode': 998, 'episode_length': 32, 'episode_return': -3.0}\n"
     ]
    },
    {
     "data": {
      "text/html": [
       "<b>Environment (2-back):</b><br /><pre><b>Stimuli:</b> 0350121544553152104450444230352</pre><pre><b>Actions:</b> .MMM..M.M...MM..MMM.M.M.MM.MMMM</pre>"
      ],
      "text/plain": [
       "<IPython.core.display.HTML object>"
      ]
     },
     "metadata": {
      "tags": []
     },
     "output_type": "display_data"
    },
    {
     "name": "stdout",
     "output_type": "stream",
     "text": [
      "{'episode': 999, 'episode_length': 32, 'episode_return': 3.0}\n",
      "\n",
      " All episode returns: [-1.0, 5.0, 5.0, -1.0, -11.0, 3.0, -7.0, 3.0, 3.0, -3.0, 1.0, -3.0, -3.0, 3.0, -9.0, 9.0, -3.0, 3.0, -7.0, -1.0, -5.0, -7.0, -5.0, 3.0, 5.0, -13.0, -1.0, -5.0, 1.0, 1.0, 1.0, 3.0, 1.0, 13.0, 1.0, 5.0, 13.0, 1.0, -9.0, 5.0, -5.0, 1.0, -1.0, 5.0, 7.0, -3.0, 1.0, 5.0, -7.0, -1.0, 5.0, -7.0, 3.0, -7.0, -5.0, -7.0, -7.0, -1.0, -1.0, 1.0, -7.0, 1.0, -5.0, 7.0, 1.0, -1.0, 7.0, 1.0, 1.0, 3.0, 3.0, 3.0, 5.0, 5.0, 5.0, -3.0, -11.0, -3.0, -1.0, -9.0, 1.0, -3.0, -3.0, 11.0, 7.0, 1.0, 5.0, 9.0, -5.0, -5.0, -1.0, -7.0, -1.0, 1.0, 5.0, -5.0, 7.0, 1.0, 9.0, -3.0, -5.0, 1.0, -7.0, 5.0, 1.0, -3.0, 5.0, 3.0, 3.0, 1.0, -9.0, -7.0, -3.0, -3.0, 5.0, 7.0, 1.0, -1.0, -5.0, -1.0, 1.0, -1.0, 5.0, -7.0, -7.0, -5.0, 5.0, 5.0, 5.0, -11.0, -1.0, -9.0, 3.0, -13.0, -3.0, 9.0, 7.0, 7.0, 5.0, -1.0, 5.0, -3.0, 3.0, -1.0, 5.0, 1.0, -5.0, -13.0, -1.0, 7.0, -7.0, 3.0, 3.0, -1.0, -3.0, -9.0, 1.0, 3.0, 1.0, 7.0, 3.0, -13.0, 7.0, -9.0, -1.0, 3.0, -5.0, 1.0, 3.0, 9.0, -3.0, -3.0, -3.0, 3.0, -1.0, 9.0, 5.0, 7.0, 13.0, 1.0, 5.0, -3.0, 3.0, 15.0, -1.0, -1.0, -3.0, -1.0, 7.0, 3.0, 9.0, -1.0, -3.0, 5.0, -3.0, -3.0, -1.0, 11.0, -9.0, 3.0, 1.0, -5.0, -1.0, -1.0, 5.0, 7.0, 5.0, -7.0, -7.0, -5.0, -3.0, -7.0, 5.0, 3.0, -5.0, -5.0, 1.0, -13.0, -1.0, 5.0, -5.0, -5.0, -5.0, -3.0, -3.0, -9.0, -1.0, 1.0, 5.0, -9.0, 9.0, -1.0, 5.0, 7.0, 5.0, 3.0, 3.0, -1.0, -5.0, 5.0, -11.0, -7.0, 3.0, 1.0, -5.0, 1.0, -1.0, 7.0, 7.0, 5.0, -5.0, 7.0, 5.0, -13.0, -5.0, 1.0, -11.0, 3.0, -3.0, 5.0, -3.0, -9.0, 3.0, -1.0, 9.0, -3.0, -5.0, -7.0, 9.0, -3.0, -5.0, -1.0, -11.0, 1.0, -5.0, 1.0, -5.0, 11.0, -9.0, -7.0, 1.0, -3.0, 1.0, 1.0, 5.0, -7.0, -7.0, -3.0, -5.0, 1.0, -3.0, 3.0, 5.0, -1.0, 3.0, 3.0, 5.0, 1.0, 5.0, -1.0, -3.0, 5.0, -1.0, 1.0, 5.0, -7.0, 1.0, 1.0, -7.0, 1.0, 5.0, -3.0, -7.0, 11.0, -9.0, 1.0, -5.0, -7.0, 5.0, 5.0, -1.0, -3.0, 1.0, 5.0, -7.0, 3.0, -3.0, -7.0, 1.0, 3.0, 3.0, -3.0, 5.0, 7.0, -9.0, -3.0, -5.0, -5.0, 5.0, 1.0, 5.0, -3.0, 9.0, -11.0, 7.0, -5.0, -9.0, 5.0, -3.0, 15.0, 13.0, 5.0, 3.0, 11.0, 1.0, 1.0, -7.0, -1.0, -1.0, 1.0, -1.0, -5.0, 3.0, -3.0, 9.0, -3.0, 1.0, -7.0, 9.0, -9.0, -1.0, -5.0, -3.0, 1.0, -9.0, -3.0, 15.0, -5.0, 11.0, -1.0, 3.0, 3.0, -5.0, 9.0, -1.0, -3.0, 1.0, -1.0, 11.0, 9.0, 1.0, -11.0, 5.0, 7.0, -1.0, 3.0, 3.0, -5.0, 3.0, 3.0, 1.0, -1.0, 7.0, -3.0, 3.0, 1.0, -9.0, -1.0, -1.0, -7.0, -5.0, 1.0, 3.0, -5.0, 1.0, -5.0, -7.0, 3.0, 7.0, -3.0, -1.0, -7.0, -3.0, 3.0, 1.0, 1.0, -3.0, -13.0, -1.0, 5.0, 13.0, -1.0, 7.0, 9.0, 5.0, 3.0, -5.0, 1.0, 5.0, -1.0, 1.0, 5.0, 3.0, -5.0, -5.0, 3.0, 3.0, -1.0, 5.0, -5.0, 1.0, 7.0, 9.0, 3.0, 11.0, 1.0, 9.0, 3.0, -1.0, 13.0, -11.0, 7.0, -1.0, -1.0, -11.0, 1.0, -1.0, 1.0, 1.0, 5.0, -1.0, -7.0, -11.0, 1.0, -3.0, -3.0, 3.0, 11.0, -3.0, 5.0, -3.0, -3.0, 1.0, 3.0, 1.0, -1.0, 3.0, 1.0, 1.0, -3.0, -9.0, 1.0, 5.0, -5.0, 7.0, -3.0, 1.0, -3.0, -3.0, 5.0, 1.0, -1.0, -1.0, -5.0, 1.0, -3.0, -5.0, -9.0, -1.0, -1.0, -7.0, -1.0, 7.0, -1.0, -7.0, -1.0, -13.0, 9.0, -5.0, 3.0, -1.0, -3.0, -3.0, 5.0, -1.0, -5.0, 3.0, -1.0, 9.0, -9.0, 3.0, -11.0, 3.0, -5.0, 3.0, -3.0, -5.0, 9.0, 1.0, -1.0, -5.0, -5.0, -3.0, -5.0, -1.0, -5.0, 9.0, 1.0, -3.0, -3.0, -7.0, 1.0, 1.0, 1.0, 1.0, -5.0, -5.0, -1.0, -5.0, -1.0, 7.0, -7.0, -1.0, -13.0, -7.0, 3.0, -11.0, 1.0, -3.0, -5.0, 7.0, -1.0, -3.0, -5.0, 1.0, 7.0, -5.0, -11.0, -1.0, 1.0, -11.0, 7.0, 5.0, 3.0, 9.0, -11.0, -3.0, -3.0, 5.0, 1.0, 1.0, 11.0, -5.0, -5.0, -3.0, 1.0, -5.0, -7.0, -3.0, -3.0, -5.0, 5.0, 5.0, 3.0, 5.0, 1.0, -7.0, -3.0, -3.0, -3.0, 15.0, 9.0, -11.0, 1.0, 3.0, 1.0, 3.0, -1.0, -1.0, -1.0, 9.0, 7.0, -3.0, 1.0, -3.0, 1.0, 5.0, -7.0, -1.0, -3.0, 7.0, 9.0, -9.0, -1.0, -1.0, -3.0, 5.0, 13.0, -7.0, -5.0, 5.0, 1.0, 3.0, 7.0, -1.0, -7.0, 1.0, -1.0, 5.0, -5.0, 5.0, -13.0, 5.0, -3.0, -3.0, -3.0, 5.0, -7.0, 7.0, -7.0, 5.0, 15.0, -1.0, 5.0, 7.0, 3.0, -3.0, 1.0, -3.0, 9.0, -9.0, 1.0, -5.0, -7.0, -3.0, 1.0, -3.0, 3.0, 9.0, 1.0, 1.0, 3.0, -5.0, 7.0, 1.0, -3.0, -3.0, -5.0, -7.0, -3.0, -1.0, -1.0, 5.0, 3.0, 1.0, -5.0, 1.0, -7.0, -3.0, -1.0, -1.0, 1.0, 1.0, -1.0, 3.0, -1.0, 1.0, -5.0, -7.0, 5.0, 9.0, 7.0, 15.0, -1.0, -5.0, -1.0, -5.0, -3.0, -7.0, -13.0, 9.0, 1.0, 3.0, 3.0, 13.0, 1.0, 5.0, -7.0, 1.0, 1.0, -13.0, -11.0, -1.0, -7.0, -5.0, 1.0, 1.0, -1.0, -3.0, 5.0, 7.0, 5.0, 5.0, 5.0, 1.0, -5.0, 1.0, 7.0, 5.0, 5.0, -1.0, 1.0, 1.0, 1.0, -3.0, -7.0, -3.0, -3.0, 1.0, 3.0, 1.0, 3.0, 3.0, 3.0, 5.0, -1.0, 5.0, -7.0, -1.0, 7.0, 3.0, 11.0, 5.0, -1.0, -7.0, 1.0, 1.0, -3.0, -1.0, 1.0, 7.0, -3.0, -3.0, -9.0, -5.0, 1.0, -9.0, 3.0, 1.0, -1.0, 1.0, -5.0, 9.0, 7.0, -1.0, -9.0, -3.0, 3.0, 11.0, 1.0, -3.0, -7.0, -1.0, -9.0, -1.0, -7.0, -1.0, -3.0, 3.0, 1.0, 1.0, -1.0, -9.0, 11.0, 1.0, 7.0, 1.0, 1.0, 7.0, -7.0, 5.0, 5.0, -13.0, 1.0, -1.0, -7.0, -1.0, -5.0, 9.0, 1.0, 11.0, 1.0, -1.0, 7.0, -3.0, 1.0, -7.0, 1.0, 3.0, -3.0, -9.0, -3.0, 9.0, 3.0, -11.0, -5.0, -7.0, -5.0, 1.0, -7.0, 3.0, 1.0, -1.0, 1.0, 1.0, -3.0, -3.0, -7.0, 3.0, 1.0, 9.0, 5.0, 1.0, 9.0, 7.0, -3.0, -3.0, 3.0, 7.0, 1.0, 1.0, 5.0, -5.0, -5.0, -1.0, -5.0, -11.0, -1.0, -3.0, -9.0, 7.0, 1.0, -1.0, 9.0, 11.0, -9.0, 1.0, 3.0, 7.0, -3.0, 1.0, 5.0, 11.0, 3.0, -5.0, 9.0, -3.0, 1.0, 5.0, 1.0, -1.0, 1.0, -5.0, 3.0, -3.0, 5.0, -5.0, -1.0, -7.0, -11.0, 3.0, -5.0, 7.0, -5.0, -3.0, 11.0, 5.0, 3.0, 5.0, 7.0, -7.0, -1.0, 1.0, -3.0, -1.0, -3.0, 3.0, 5.0, 3.0, -11.0, -3.0, -7.0, 11.0, -5.0, -3.0, 5.0, 11.0, -5.0, -1.0, 11.0, 1.0, -5.0, -3.0, -5.0, 1.0, 1.0, -5.0, 9.0, -13.0, 7.0, 9.0, 3.0, 3.0, 5.0, 1.0, -3.0, -1.0, 9.0, 3.0, 1.0, 5.0, 9.0, -13.0, -5.0, -3.0, -7.0, 1.0, 1.0, -1.0, 3.0, 1.0, 3.0, 1.0, 1.0, 1.0, 1.0, -1.0, 5.0, 5.0, -11.0, -5.0, 7.0, -3.0, -1.0, -3.0, 1.0, 3.0, 5.0, 3.0, -1.0, -5.0, -3.0, 11.0, 1.0, -5.0, -3.0, 5.0, -9.0, -3.0, 3.0]\n"
     ]
    }
   ],
   "source": [
    "# fitting parameters\n",
    "n_episodes = 1_000\n",
    "n_total_steps = 0\n",
    "log_loss = False\n",
    "n_steps = n_episodes * 32\n",
    "all_returns = []\n",
    "\n",
    "\n",
    "# main loop\n",
    "for episode in range(n_episodes):\n",
    "  episode_steps = 0\n",
    "  episode_return = 0\n",
    "  episode_loss = 0\n",
    "\n",
    "  start_time = time.time()\n",
    "\n",
    "  timestep = environment.reset()\n",
    "\n",
    "  # Make the first observation.\n",
    "  agent.observe_first(timestep)\n",
    "\n",
    "  # Run an episode\n",
    "  while not timestep.last():\n",
    "\n",
    "    # DEBUG\n",
    "    # print(timestep)\n",
    "\n",
    "    # Generate an action from the agent's policy and step the environment.\n",
    "    action = agent.select_action(timestep.observation)\n",
    "    timestep = environment.step(action)\n",
    "\n",
    "    # Have the agent observe the timestep and let the agent update itself.\n",
    "    agent.observe(action, next_timestep=timestep)\n",
    "    agent.update()\n",
    "\n",
    "    # Book-keeping.\n",
    "    episode_steps += 1\n",
    "    n_total_steps += 1\n",
    "    episode_return += timestep.reward\n",
    "\n",
    "    if log_loss:\n",
    "      episode_loss += agent.last_loss\n",
    "\n",
    "    if n_steps is not None and n_total_steps >= n_steps:\n",
    "      break\n",
    "\n",
    "  # Collect the results and combine with counts.\n",
    "  steps_per_second = episode_steps / (time.time() - start_time)\n",
    "  result = {\n",
    "      'episode': episode,\n",
    "      'episode_length': episode_steps,\n",
    "      'episode_return': episode_return,\n",
    "  }\n",
    "  if log_loss:\n",
    "    result['loss_avg'] = episode_loss/episode_steps\n",
    "\n",
    "  all_returns.append(episode_return)\n",
    "\n",
    "  from IPython.display import display\n",
    "  display(environment.plot_state())\n",
    "  # Log the given results.\n",
    "  print(result)\n",
    "\n",
    "  if n_steps is not None and n_total_steps >= n_steps:\n",
    "    break\n",
    "\n",
    "print('\\n', 'All episode returns:', all_returns)"
   ]
  },
  {
   "cell_type": "markdown",
   "metadata": {
    "execution": {}
   },
   "source": [
    "**Note:** You can simplify the environment loop using [DeepMind Acme](https://github.com/deepmind/acme)."
   ]
  },
  {
   "cell_type": "code",
   "execution_count": null,
   "metadata": {
    "execution": {}
   },
   "outputs": [],
   "source": [
    "def make_networks_d4pg(action_spec,\n",
    "                       policy_layer_sizes=(256, 256, 256),\n",
    "                       critic_layer_sizes=(512, 512, 256),\n",
    "                       vmin=-150.,\n",
    "                       vmax=150.,\n",
    "                       num_atoms=51,\n",
    "                      ):\n",
    "  \"\"\"Networks for D4PG agent.\"\"\"\n",
    "  action_size = np.prod(action_spec.shape, dtype=int)\n",
    "\n",
    "  policy_network = snt.Sequential([\n",
    "      tf2_utils.batch_concat,\n",
    "      networks.LayerNormMLP(layer_sizes=policy_layer_sizes + (action_size,)),\n",
    "      networks.TanhToSpec(spec=action_spec)\n",
    "      ])\n",
    "  critic_network = snt.Sequential([\n",
    "      networks.CriticMultiplexer(\n",
    "          action_network=networks.ClipToSpec(action_spec),\n",
    "          critic_network=networks.LayerNormMLP(\n",
    "              layer_sizes=critic_layer_sizes,\n",
    "              activate_final=True),\n",
    "      ),\n",
    "      networks.DiscreteValuedHead(vmin=vmin,\n",
    "                                  vmax=vmax,\n",
    "                                  num_atoms=num_atoms)\n",
    "      ])\n",
    "\n",
    "  return policy_network, critic_network\n",
    "\n",
    "\n",
    "def make_networks_dqn(action_spec):\n",
    "  network = snt.Sequential([\n",
    "      snt.Flatten(),\n",
    "      snt.nets.MLP([50, 50, action_spec.num_values]),\n",
    "  ])\n",
    "  return network\n",
    "\n",
    "\n",
    "policy_optimizer = snt.optimizers.Adam(1e-4)\n",
    "critic_optimizer = snt.optimizers.Adam(1e-4)"
   ]
  },
  {
   "cell_type": "code",
   "execution_count": null,
   "metadata": {
    "execution": {}
   },
   "outputs": [],
   "source": [
    "# init the N-back environment\n",
    "env, env_spec = NBack.create_environment()\n",
    "\n",
    "# DEBUG fake testing environment.\n",
    "# Uncomment this to debug your agent without using the N-back environment.\n",
    "# env = fakes.DiscreteEnvironment(\n",
    "#     num_actions=2,\n",
    "#     num_observations=1000,\n",
    "#     obs_dtype=np.float32,\n",
    "#     episode_length=32)\n",
    "# env_spec = specs.make_environment_spec(env)"
   ]
  },
  {
   "cell_type": "code",
   "execution_count": null,
   "metadata": {
    "execution": {}
   },
   "outputs": [],
   "source": [
    "# DQN agent\n",
    "# agent = DQN(\n",
    "#     environment_spec=env_spec,\n",
    "#     network=make_networks_dqn(env_spec.actions))\n",
    "\n",
    "# D4PG agent\n",
    "# policy_network, critic_network = make_networks_d4pg(env_spec.actions)\n",
    "# agent = D4PG(environment_spec=env_spec,\n",
    "#              policy_network=policy_network,\n",
    "#              critic_network=critic_network,\n",
    "#              observation_network=tf2_utils.batch_concat, # Identity Op.\n",
    "#              policy_optimizer=policy_optimizer,\n",
    "#              critic_optimizer=critic_optimizer,\n",
    "#              logger=InMemoryLogger())\n",
    "\n",
    "# random agent\n",
    "agent = RandomAgent(env_spec)"
   ]
  },
  {
   "cell_type": "markdown",
   "metadata": {
    "execution": {}
   },
   "source": [
    "Now, we run the environment loop with the initiated agent and print the training log."
   ]
  },
  {
   "cell_type": "code",
   "execution_count": null,
   "metadata": {
    "execution": {}
   },
   "outputs": [
    {
     "data": {
      "text/html": [
       "<div>\n",
       "<style scoped>\n",
       "    .dataframe tbody tr th:only-of-type {\n",
       "        vertical-align: middle;\n",
       "    }\n",
       "\n",
       "    .dataframe tbody tr th {\n",
       "        vertical-align: top;\n",
       "    }\n",
       "\n",
       "    .dataframe thead th {\n",
       "        text-align: right;\n",
       "    }\n",
       "</style>\n",
       "<table border=\"1\" class=\"dataframe\">\n",
       "  <thead>\n",
       "    <tr style=\"text-align: right;\">\n",
       "      <th></th>\n",
       "      <th>episode_length</th>\n",
       "      <th>episode_return</th>\n",
       "      <th>steps_per_second</th>\n",
       "      <th>episodes</th>\n",
       "      <th>steps</th>\n",
       "    </tr>\n",
       "  </thead>\n",
       "  <tbody>\n",
       "    <tr>\n",
       "      <th>995</th>\n",
       "      <td>32</td>\n",
       "      <td>-3.0</td>\n",
       "      <td>12310.164909</td>\n",
       "      <td>996</td>\n",
       "      <td>31872</td>\n",
       "    </tr>\n",
       "    <tr>\n",
       "      <th>996</th>\n",
       "      <td>32</td>\n",
       "      <td>1.0</td>\n",
       "      <td>11280.696588</td>\n",
       "      <td>997</td>\n",
       "      <td>31904</td>\n",
       "    </tr>\n",
       "    <tr>\n",
       "      <th>997</th>\n",
       "      <td>32</td>\n",
       "      <td>-1.0</td>\n",
       "      <td>10034.970318</td>\n",
       "      <td>998</td>\n",
       "      <td>31936</td>\n",
       "    </tr>\n",
       "    <tr>\n",
       "      <th>998</th>\n",
       "      <td>32</td>\n",
       "      <td>-9.0</td>\n",
       "      <td>11047.635855</td>\n",
       "      <td>999</td>\n",
       "      <td>31968</td>\n",
       "    </tr>\n",
       "    <tr>\n",
       "      <th>999</th>\n",
       "      <td>32</td>\n",
       "      <td>-5.0</td>\n",
       "      <td>11354.177142</td>\n",
       "      <td>1000</td>\n",
       "      <td>32000</td>\n",
       "    </tr>\n",
       "  </tbody>\n",
       "</table>\n",
       "</div>"
      ],
      "text/plain": [
       "     episode_length episode_return  steps_per_second  episodes  steps\n",
       "995              32           -3.0      12310.164909       996  31872\n",
       "996              32            1.0      11280.696588       997  31904\n",
       "997              32           -1.0      10034.970318       998  31936\n",
       "998              32           -9.0      11047.635855       999  31968\n",
       "999              32           -5.0      11354.177142      1000  32000"
      ]
     },
     "execution_count": 13,
     "metadata": {
      "tags": []
     },
     "output_type": "execute_result"
    }
   ],
   "source": [
    "# training loop\n",
    "loop = EnvironmentLoop(env, agent, logger=InMemoryLogger())\n",
    "loop.run(n_episodes)\n",
    "\n",
    "# print logs\n",
    "logs = pd.DataFrame(loop._logger._data)\n",
    "logs.tail()"
   ]
  }
 ],
 "metadata": {
  "colab": {
   "collapsed_sections": [],
   "include_colab_link": true,
   "name": "human_rl",
   "provenance": [],
   "toc_visible": true
  },
  "kernel": {
   "display_name": "Python 3",
   "language": "python",
   "name": "python3"
  },
  "kernelspec": {
   "display_name": "Python 3",
   "language": "python",
   "name": "python3"
  }
 },
 "nbformat": 4,
 "nbformat_minor": 0
}
