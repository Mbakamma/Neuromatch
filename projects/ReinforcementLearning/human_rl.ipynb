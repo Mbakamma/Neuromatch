{
  "nbformat": 4,
  "nbformat_minor": 0,
  "metadata": {
    "colab": {
      "name": "NMA-DL: Cognitive Task RL.ipynb",
      "provenance": [],
      "collapsed_sections": []
    },
    "kernelspec": {
      "name": "python3",
      "display_name": "Python 3"
    },
    "language_info": {
      "name": "python"
    }
  },
  "cells": [
    {
      "cell_type": "markdown",
      "metadata": {
        "id": "kRcujCSkYcwn"
      },
      "source": [
        "# **⚠️ This is a work in progress.**\n",
        "\n",
        "# **RL agent that mimics human-like performance in cognitive tests**\n",
        "\n",
        "# TODO\n",
        "\n",
        "- find appropriate behavioral datasets.\n",
        "- implement Stroop environment (based on N-back).\n",
        "- Some decisions to make which can be found by looking for `TODO` in the codes.\n",
        "- Exploratory plots of the data.\n",
        "- add more documentations.\n",
        "- utility functions to plot the agent performance and the env.\n",
        "- increase the number of iteration in the trainining loop.\n",
        "- update slides.\n",
        "\n",
        "\n",
        "# Background\n",
        "\n",
        "- Cognitive scientists use standard lab tests to tap into specific processes in the brain and behavior. Some examples of those tests are Stroop, N-back, Digit Span, TMT (Trail making tests), and WCST (Wisconsin Card Sorting Tests).\n",
        "\n",
        "- Despite an extensive body of research that explains human performance using descriptive what-models, we still need a more sophisticated approach to gain a better understanding of the underlying processes (i.e., a how-model).\n",
        "\n",
        "- Interestingly, many of such tests can be thought of as a continuous stream of stimuli and corresponding actions, that is in consonant with the RL formulation. In fact, RL itself is in part motivated by how the brain enables goal-directed behaviors using reward systems, making it a good choice to explain human performance.\n",
        "\n",
        "- This project aims to use behavioral data to train an agent and then use the agent to investigate data produced by human subjects. Having a computational agent that mimics humans in such tests, we will be able to compare its mechanics with human data.\n",
        "\n",
        "- In another conception, we could fit an agent that learns many cognitive tasks that require abstract-level constructs such as executive functions. This is a multi-task control problem.\n",
        "\n",
        "- One example would be the N-back task.\n",
        "\n",
        "  - In the N-back, participants view a sequence of stimuli, one by one, and are asked to categorize each stimulus as being either target or non-target. Stimuli are usually numbers, and feedback is given at both timestep and trajectory levels.\n",
        "\n",
        "  - The agent is rewarded when its response matches the stimulus that was shown N steps back in the episode. A simpler version of the N-back uses two-choice action schema, that is target vs non-target. Once the present stimulus matches the one presented N step back, then the agent is expected to respond to it as being a `target`.\n",
        "\n",
        "\n",
        "- Given a trained RL agent, we then find correlates of its fitted parameters with the brain mechanisms. The most straightforward composition could be the correlation of model parameters with the brain activities.\n",
        "\n",
        "\n",
        "## Datasets\n",
        "\n",
        "- HCP WM task ([NMA-CN HCP notebooks](https://github.com/NeuromatchAcademy/course-content/tree/master/projects/fMRI))\n",
        "\n",
        "\n",
        "Any dataset that used cognitive tests would work.\n",
        "Question: limit to behavioral data vs fMRI?\n",
        "Question: Which stimuli and actions to use?\n",
        "classic tests can be modeled using 1) bounded symbolic stimuli/actions (e.g., A, B, C), but more sophisticated one would require texts or images (e.g., face vs neutral images in social stroop dataset)\n",
        "The HCP dataset from NMA-CN contains behavioral and imaging data for 7 cognitive tests including various versions of N-back.\n",
        "\n",
        "\n",
        "\n",
        "\n",
        "### N-back\n",
        "\n",
        "In the N-back task, participants view a sequence of stimuli, one per time, and are asked to categorize each stimulus as being either target or non-target. Stimuli are usually numbers, and feedbacks are given at both timestep and trajectory levels.\n",
        "\n",
        "In a typical neuro setup, both accuracy and response time are measured, but here, for the sake of brevity, we focus only on accuracy of responses.\n",
        "\n"
      ]
    },
    {
      "cell_type": "markdown",
      "metadata": {
        "id": "VYGCvLsN_6hM"
      },
      "source": [
        "## Create RL environments for cognitive tests"
      ]
    },
    {
      "cell_type": "markdown",
      "metadata": {
        "id": "7KORX223oI7I"
      },
      "source": [
        "First install and import all the required packages:"
      ]
    },
    {
      "cell_type": "code",
      "metadata": {
        "id": "8AZT1frQYOGO"
      },
      "source": [
        "%%capture\n",
        "!pip install dm-env dm-acme\n",
        "\n",
        "import time\n",
        "\n",
        "import numpy as np\n",
        "import pandas as pd\n",
        "\n",
        "import matplotlib.pyplot as plt\n",
        "import seaborn as sns; sns.set()\n",
        "\n",
        "import dm_env\n",
        "import acme\n",
        "\n",
        "from dm_env import specs\n",
        "\n",
        "from acme import specs\n",
        "from acme import wrappers\n"
      ],
      "execution_count": null,
      "outputs": []
    },
    {
      "cell_type": "markdown",
      "metadata": {
        "id": "H0Ar1jXDjQMT"
      },
      "source": [
        "## Human dataset\n",
        "\n",
        "We need a dataset of human perfoming a N-back test, with the following features:\n",
        "\n",
        "- `participant_id`: following the BIDS format, it contains a unique identifier for each participant.\n",
        "- `trial_index`: same as `time_step`.\n",
        "- `stimulus`: same as `observation`.\n",
        "- `response`: same as `action`.\n",
        "- `expected_response`\n",
        "- `is_correct`: same as `reward`.\n",
        "- `response_time`: won't be used here.\n",
        "\n",
        "We first produce a mock dataset with these features using the following code. Remember to replace it with real human data."
      ]
    },
    {
      "cell_type": "code",
      "metadata": {
        "colab": {
          "base_uri": "https://localhost:8080/",
          "height": 1000
        },
        "id": "_r-fAUndkGH9",
        "outputId": "6eda8a94-cc52-4706-b6ce-e2e22e735f2f"
      },
      "source": [
        "def generate_mock_nback_dataset(N=2,\n",
        "                                n_participants=10,\n",
        "                                n_trials=32,\n",
        "                                stimulus_choices=list('ABCDEF'),\n",
        "                                response_choices=['target', 'non-target']):\n",
        "  \"\"\"Generate a mock dataset for the N-back task.\n",
        "  \n",
        "  Args:\n",
        "    TODO\n",
        "\n",
        "  Returns:\n",
        "    TODO\n",
        "  \"\"\"\n",
        "\n",
        "  n_rows = n_participants * n_trials\n",
        "\n",
        "  participant_ids = sorted([f'sub-{pid}' for pid in range(1,n_participants+1)] * n_trials)\n",
        "  trial_indices = list(range(1,n_trials+1)) * n_participants\n",
        "  stimulus_sequence = np.random.choice(stimulus_choices, n_rows)\n",
        "\n",
        "  responses = np.random.choice(response_choices, n_rows)\n",
        "  is_corrects = np.random.choice([True, False], n_rows)\n",
        "  response_times = np.random.exponential(size=n_rows)\n",
        "\n",
        "  df = pd.DataFrame({\n",
        "      'participant_id': participant_ids,\n",
        "      'trial_index': trial_indices,\n",
        "      'stimulus': stimulus_sequence,\n",
        "      'response': responses,\n",
        "      'is_correct': is_corrects,\n",
        "      #TODO: is_target\n",
        "      'response_time': response_times\n",
        "  })\n",
        "\n",
        "  # mark targets\n",
        "  _nback_stim = df['stimulus'].shift(N)\n",
        "  df['expected_response'] = (df['stimulus'] == _nback_stim).map({True: 'target', False: 'non-target'})\n",
        "\n",
        "  return df\n",
        "\n",
        "# ========\n",
        "# now generate the actual data with the provided function and plot some of its features\n",
        "mock_nback_data = generate_mock_nback_dataset()\n",
        "\n",
        "sns.displot(data=mock_nback_data, x='response_time')\n",
        "plt.suptitle('response time distribution of the mock N-back dataset', y=1.01)\n",
        "plt.show()\n",
        "\n",
        "sns.displot(data=mock_nback_data, x='is_correct')\n",
        "plt.suptitle('Accuracy distribution of the mock N-back dataset', y=1.06)\n",
        "plt.show()\n",
        "\n",
        "mock_nback_data"
      ],
      "execution_count": null,
      "outputs": [
        {
          "output_type": "display_data",
          "data": {
            "image/png": "[encoded data removed]",
            "text/plain": [
              "<Figure size 360x360 with 1 Axes>"
            ]
          },
          "metadata": {
            "tags": [],
            "needs_background": "light"
          }
        },
        {
          "output_type": "stream",
          "text": [
            "<string>:6: RuntimeWarning: Converting input from bool to <class 'numpy.uint8'> for compatibility.\n",
            "<string>:6: RuntimeWarning: Converting input from bool to <class 'numpy.uint8'> for compatibility.\n"
          ],
          "name": "stderr"
        },
        {
          "output_type": "display_data",
          "data": {
            "image/png": "[encoded data removed]",
            "text/plain": [
              "<Figure size 360x360 with 1 Axes>"
            ]
          },
          "metadata": {
            "tags": [],
            "needs_background": "light"
          }
        },
        {
          "output_type": "execute_result",
          "data": {
            "text/html": [
              "<div>\n",
              "<style scoped>\n",
              "    .dataframe tbody tr th:only-of-type {\n",
              "        vertical-align: middle;\n",
              "    }\n",
              "\n",
              "    .dataframe tbody tr th {\n",
              "        vertical-align: top;\n",
              "    }\n",
              "\n",
              "    .dataframe thead th {\n",
              "        text-align: right;\n",
              "    }\n",
              "</style>\n",
              "<table border=\"1\" class=\"dataframe\">\n",
              "  <thead>\n",
              "    <tr style=\"text-align: right;\">\n",
              "      <th></th>\n",
              "      <th>participant_id</th>\n",
              "      <th>trial_index</th>\n",
              "      <th>stimulus</th>\n",
              "      <th>response</th>\n",
              "      <th>is_correct</th>\n",
              "      <th>response_time</th>\n",
              "      <th>expected_response</th>\n",
              "    </tr>\n",
              "  </thead>\n",
              "  <tbody>\n",
              "    <tr>\n",
              "      <th>0</th>\n",
              "      <td>sub-1</td>\n",
              "      <td>1</td>\n",
              "      <td>A</td>\n",
              "      <td>non-target</td>\n",
              "      <td>True</td>\n",
              "      <td>0.560164</td>\n",
              "      <td>non-target</td>\n",
              "    </tr>\n",
              "    <tr>\n",
              "      <th>1</th>\n",
              "      <td>sub-1</td>\n",
              "      <td>2</td>\n",
              "      <td>A</td>\n",
              "      <td>target</td>\n",
              "      <td>True</td>\n",
              "      <td>0.239629</td>\n",
              "      <td>non-target</td>\n",
              "    </tr>\n",
              "    <tr>\n",
              "      <th>2</th>\n",
              "      <td>sub-1</td>\n",
              "      <td>3</td>\n",
              "      <td>E</td>\n",
              "      <td>non-target</td>\n",
              "      <td>False</td>\n",
              "      <td>0.834674</td>\n",
              "      <td>non-target</td>\n",
              "    </tr>\n",
              "    <tr>\n",
              "      <th>3</th>\n",
              "      <td>sub-1</td>\n",
              "      <td>4</td>\n",
              "      <td>B</td>\n",
              "      <td>target</td>\n",
              "      <td>False</td>\n",
              "      <td>0.873682</td>\n",
              "      <td>non-target</td>\n",
              "    </tr>\n",
              "    <tr>\n",
              "      <th>4</th>\n",
              "      <td>sub-1</td>\n",
              "      <td>5</td>\n",
              "      <td>C</td>\n",
              "      <td>target</td>\n",
              "      <td>False</td>\n",
              "      <td>1.368703</td>\n",
              "      <td>non-target</td>\n",
              "    </tr>\n",
              "    <tr>\n",
              "      <th>...</th>\n",
              "      <td>...</td>\n",
              "      <td>...</td>\n",
              "      <td>...</td>\n",
              "      <td>...</td>\n",
              "      <td>...</td>\n",
              "      <td>...</td>\n",
              "      <td>...</td>\n",
              "    </tr>\n",
              "    <tr>\n",
              "      <th>315</th>\n",
              "      <td>sub-9</td>\n",
              "      <td>28</td>\n",
              "      <td>F</td>\n",
              "      <td>target</td>\n",
              "      <td>True</td>\n",
              "      <td>0.270722</td>\n",
              "      <td>non-target</td>\n",
              "    </tr>\n",
              "    <tr>\n",
              "      <th>316</th>\n",
              "      <td>sub-9</td>\n",
              "      <td>29</td>\n",
              "      <td>F</td>\n",
              "      <td>target</td>\n",
              "      <td>True</td>\n",
              "      <td>0.060171</td>\n",
              "      <td>target</td>\n",
              "    </tr>\n",
              "    <tr>\n",
              "      <th>317</th>\n",
              "      <td>sub-9</td>\n",
              "      <td>30</td>\n",
              "      <td>E</td>\n",
              "      <td>target</td>\n",
              "      <td>True</td>\n",
              "      <td>1.027080</td>\n",
              "      <td>non-target</td>\n",
              "    </tr>\n",
              "    <tr>\n",
              "      <th>318</th>\n",
              "      <td>sub-9</td>\n",
              "      <td>31</td>\n",
              "      <td>A</td>\n",
              "      <td>target</td>\n",
              "      <td>False</td>\n",
              "      <td>0.595671</td>\n",
              "      <td>non-target</td>\n",
              "    </tr>\n",
              "    <tr>\n",
              "      <th>319</th>\n",
              "      <td>sub-9</td>\n",
              "      <td>32</td>\n",
              "      <td>E</td>\n",
              "      <td>target</td>\n",
              "      <td>False</td>\n",
              "      <td>0.055144</td>\n",
              "      <td>target</td>\n",
              "    </tr>\n",
              "  </tbody>\n",
              "</table>\n",
              "<p>320 rows × 7 columns</p>\n",
              "</div>"
            ],
            "text/plain": [
              "    participant_id  trial_index  ... response_time expected_response\n",
              "0            sub-1            1  ...      0.560164        non-target\n",
              "1            sub-1            2  ...      0.239629        non-target\n",
              "2            sub-1            3  ...      0.834674        non-target\n",
              "3            sub-1            4  ...      0.873682        non-target\n",
              "4            sub-1            5  ...      1.368703        non-target\n",
              "..             ...          ...  ...           ...               ...\n",
              "315          sub-9           28  ...      0.270722        non-target\n",
              "316          sub-9           29  ...      0.060171            target\n",
              "317          sub-9           30  ...      1.027080        non-target\n",
              "318          sub-9           31  ...      0.595671        non-target\n",
              "319          sub-9           32  ...      0.055144            target\n",
              "\n",
              "[320 rows x 7 columns]"
            ]
          },
          "metadata": {
            "tags": []
          },
          "execution_count": 2
        }
      ]
    },
    {
      "cell_type": "markdown",
      "metadata": {
        "id": "e2UBDVArobhL"
      },
      "source": [
        "The following cell implments N-back envinronment, that we later use to train a RL agent on human data. It receives human N-back data (or mock data if you prefer), and returns what participants performed as the observation. "
      ]
    },
    {
      "cell_type": "code",
      "metadata": {
        "id": "ZrZlYu0Dc10D"
      },
      "source": [
        "class NBack(dm_env.Environment):\n",
        "\n",
        "  ACTIONS = ['target', 'non-target']\n",
        "\n",
        "  def __init__(self,\n",
        "               N=2,\n",
        "               episode_steps=32,\n",
        "               stimuli_choices=list('ABCDEF'),\n",
        "               human_data=None,\n",
        "               seed=1,\n",
        "               ):\n",
        "    \"\"\"TODO\n",
        "\n",
        "    Args:\n",
        "      TODO\n",
        "    Returns:\n",
        "      TODO\n",
        "\n",
        "    \"\"\"\n",
        "    self.N = N\n",
        "    self.episode_steps = episode_steps\n",
        "    self.stimuli_choices = stimuli_choices\n",
        "    self.stimuli = np.empty(shape=episode_steps)  # will be filled in the `reset()`\n",
        "\n",
        "    self._reset_next_step = True\n",
        "\n",
        "    # whether mimic humans or reward the agent once it responds optimally.\n",
        "    if human_data is None:\n",
        "      self._imitate_human = False\n",
        "      self.human_data = None\n",
        "      self.human_subject_data = None\n",
        "    else:\n",
        "      self._imitate_human = True\n",
        "      self.human_data = human_data\n",
        "      self.human_subject_data = None\n",
        "\n",
        "    self._action_history = []\n",
        "\n",
        "  def reset(self):\n",
        "    self._reset_next_step = False\n",
        "    self._current_step = 0\n",
        "    self._action_history.clear()\n",
        "\n",
        "    # generate a random sequence instead of relying on human data\n",
        "    if self.human_data is None:\n",
        "      self.stimuli = np.random.choice(self.stimuli_choices, self.episode_steps)\n",
        "    else:\n",
        "      self.human_subject_data = self.human_data.query('participant_id == participant_id.sample().iloc[0]',\n",
        "                                                engine='python').sort_values('trial_index')\n",
        "      self.stimuli = self.human_subject_data['stimulus'].values\n",
        "      # FIXME should we always use one specific human subject or randomly select one in each episode?\n",
        "      # randomly choose a subject from the human data and follow her trials and responses:\n",
        "\n",
        "    return dm_env.restart(self._observation())\n",
        "\n",
        "\n",
        "  def _episode_return(self):\n",
        "    if self._imitate_human:\n",
        "      return np.mean(self.human_subject_data['response'] == self._action_history)\n",
        "    else:\n",
        "      return 0\n",
        "\n",
        "  def step(self, action: int):\n",
        "    if self._reset_next_step:\n",
        "      return self.reset()\n",
        "\n",
        "    if self._imitate_human:\n",
        "      # if it was the same action as the human subject, then reward the agent\n",
        "      human_action = self.human_subject_data['response'].iloc[self._current_step]\n",
        "      agent_action = NBack.ACTIONS[action]\n",
        "      step_reward = (agent_action == human_action)\n",
        "    else:\n",
        "      # assume the agent is rationale and doesn't want to reproduce human, reward once the response it correct\n",
        "      expected_action = 'target' if (self.stimuli[self._current_step] == self.stimuli[self._current_step - self.N]) else 'non-target'\n",
        "      agent_action = NBack.ACTIONS[action]\n",
        "      step_reward = 1. if (agent_action == expected_action) else -1.\n",
        "\n",
        "    self._action_history.append(agent_action)\n",
        "\n",
        "    self._current_step += 1\n",
        "    \n",
        "    # Check for termination.\n",
        "    if self._current_step == self.stimuli.shape[0]:\n",
        "      self._reset_next_step = True\n",
        "      # we are using the mean of total time step rewards as the episode return\n",
        "      return dm_env.termination(reward=self._episode_return(),\n",
        "                                observation=self._observation())\n",
        "    else:\n",
        "      return dm_env.transition(reward=step_reward,\n",
        "                               observation=self._observation())\n",
        "\n",
        "  def observation_spec(self):\n",
        "    return dm_env.specs.BoundedArray(\n",
        "        shape=self.stimuli.shape,\n",
        "        dtype=self.stimuli.dtype,\n",
        "        name='nback_stimuli', minimum=0, maximum=1)\n",
        "\n",
        "  def action_spec(self):\n",
        "    return dm_env.specs.DiscreteArray(\n",
        "        dtype=int,\n",
        "        num_values=len(NBack.ACTIONS),\n",
        "        name='action')\n",
        "\n",
        "  def _observation(self):\n",
        "\n",
        "    # agents observe only the current stimulus\n",
        "    obs = self.stimuli[self._current_step - 1]\n",
        "\n",
        "    # TODO uncomment to observe all the previrous stimuli instead of only the current stimulus\n",
        "    # obs = self.stimuli[:self.current_step]\n",
        "    # obs = ''.join(obs)\n",
        "\n",
        "    return obs \n",
        "\n",
        "  def plot_state(self):\n",
        "    from IPython.display import HTML\n",
        "    stimuli = self.stimuli[:self._current_step - 1]\n",
        "    actions = ['T' if a=='target' else '.' for a in self._action_history[:self._current_step - 1]]\n",
        "    return HTML(\n",
        "        '<b>Environment:</b><br />'\n",
        "        f'<pre><b>Stimuli:</b> {\"\".join(stimuli)}</pre>'\n",
        "        f'<pre><b>Actions:</b> {\"\".join(actions)}</pre>'\n",
        "    )\n",
        "\n",
        "  @staticmethod\n",
        "  def create_environment():\n",
        "    \"\"\"Utility to create a N-back environment and its spec.\"\"\"\n",
        "\n",
        "    # Make sure the environment outputs single-precision floats.\n",
        "    environment = wrappers.SinglePrecisionWrapper(NBack())\n",
        "\n",
        "    # Grab the spec of the environment.\n",
        "    environment_spec = specs.make_environment_spec(environment)\n",
        "\n",
        "    return environment, environment_spec\n"
      ],
      "execution_count": null,
      "outputs": []
    },
    {
      "cell_type": "markdown",
      "metadata": {
        "id": "XH10PYIMoTST"
      },
      "source": [
        "Define a random agent (see W3D2):"
      ]
    },
    {
      "cell_type": "code",
      "metadata": {
        "id": "wY55a7NwnEDn"
      },
      "source": [
        "class RandomAgent(acme.Actor):\n",
        "\n",
        "  def __init__(self, environment_spec):\n",
        "    \"\"\"Gets the number of available actions from the environment spec.\"\"\"\n",
        "    self._num_actions = environment_spec.actions.num_values\n",
        "\n",
        "  def select_action(self, observation):\n",
        "    \"\"\"Selects an action uniformly at random.\"\"\"\n",
        "    action = np.random.randint(self._num_actions)\n",
        "    return action\n",
        "\n",
        "  def observe_first(self, timestep):\n",
        "    \"\"\"Does not record as the RandomAgent has no use for data.\"\"\"\n",
        "    pass\n",
        "\n",
        "  def observe(self, action, next_timestep):\n",
        "    \"\"\"Does not record as the RandomAgent has no use for data.\"\"\"\n",
        "    pass\n",
        "\n",
        "  def update(self):\n",
        "    \"\"\"Does not update as the RandomAgent does not learn from data.\"\"\"\n",
        "    pass"
      ],
      "execution_count": null,
      "outputs": []
    },
    {
      "cell_type": "markdown",
      "metadata": {
        "id": "iF-Zj7OpoQX_"
      },
      "source": [
        "Init the environment and the agent:"
      ]
    },
    {
      "cell_type": "code",
      "metadata": {
        "colab": {
          "base_uri": "https://localhost:8080/"
        },
        "id": "zxAnYNZmnIom",
        "outputId": "6c70edcd-b821-478f-c9bd-f4a241ae210b"
      },
      "source": [
        "environment, environment_spec = NBack.create_environment()\n",
        "agent = RandomAgent(environment_spec)\n",
        "\n",
        "print('actions:\\n', environment_spec.actions)\n",
        "print('observations:\\n', environment_spec.observations)\n",
        "print('rewards:\\n', environment_spec.rewards)\n",
        "\n",
        "# DEBUG\n",
        "# timestep = environment.step(NBack.ACTIONS[0])  # pytype: dm_env.TimeStep\n",
        "# timestep"
      ],
      "execution_count": null,
      "outputs": [
        {
          "output_type": "stream",
          "text": [
            "actions:\n",
            " DiscreteArray(shape=(), dtype=int32, name=action, minimum=0, maximum=1, num_values=2)\n",
            "observations:\n",
            " BoundedArray(shape=(32,), dtype=dtype('float32'), name='nback_stimuli', minimum=0.0, maximum=1.0)\n",
            "rewards:\n",
            " Array(shape=(), dtype=dtype('float32'), name='reward')\n"
          ],
          "name": "stdout"
        }
      ]
    },
    {
      "cell_type": "markdown",
      "metadata": {
        "id": "XedKwwRUoO2K"
      },
      "source": [
        "Run the loop (see W3D2):"
      ]
    },
    {
      "cell_type": "code",
      "metadata": {
        "colab": {
          "base_uri": "https://localhost:8080/",
          "height": 731
        },
        "id": "tSXSsY4Zmkzy",
        "outputId": "c91e881f-4bf3-4adc-a0a4-8864761314d2"
      },
      "source": [
        "# fittinng parameters\n",
        "n_episodes = 10\n",
        "n_total_steps = 0\n",
        "log_loss = False\n",
        "n_steps = n_episodes * 32\n",
        "all_returns = []\n",
        "\n",
        "\n",
        "# main loop\n",
        "for episode in range(n_episodes):\n",
        "  episode_steps = 0\n",
        "  episode_return = 0\n",
        "  episode_loss = 0\n",
        "\n",
        "  start_time = time.time()\n",
        "\n",
        "  timestep = environment.reset()\n",
        "\n",
        "  # Make the first observation.\n",
        "  agent.observe_first(timestep)\n",
        "\n",
        "  # Run an episode\n",
        "  while not timestep.last():\n",
        "    \n",
        "    # DEBUG\n",
        "    # print(timestep)\n",
        "\n",
        "    # Generate an action from the agent's policy and step the environment.\n",
        "    action = agent.select_action(timestep.observation)\n",
        "    timestep = environment.step(action)\n",
        "\n",
        "    # Have the agent observe the timestep and let the agent update itself.\n",
        "    agent.observe(action, next_timestep=timestep)\n",
        "    agent.update()\n",
        "\n",
        "    # Book-keeping.\n",
        "    episode_steps += 1\n",
        "    n_total_steps += 1\n",
        "    episode_return += timestep.reward\n",
        "\n",
        "    if log_loss:\n",
        "      episode_loss += agent.last_loss\n",
        "\n",
        "    if n_steps is not None and n_total_steps >= n_steps:\n",
        "      break\n",
        "\n",
        "  # Collect the results and combine with counts.\n",
        "  steps_per_second = episode_steps / (time.time() - start_time)\n",
        "  result = {\n",
        "      'episode': episode,\n",
        "      'episode_length': episode_steps,\n",
        "      'episode_return': episode_return,\n",
        "  }\n",
        "  if log_loss:\n",
        "    result['loss_avg'] = episode_loss/episode_steps\n",
        "\n",
        "  all_returns.append(episode_return)\n",
        "\n",
        "  from IPython.display import display\n",
        "  display(environment.plot_state())\n",
        "  # Log the given results.\n",
        "  print(result)\n",
        "\n",
        "  if n_steps is not None and n_total_steps >= n_steps:\n",
        "    break\n",
        "\n",
        "print('\\n', 'All episode returns:', all_returns)"
      ],
      "execution_count": null,
      "outputs": [
        {
          "output_type": "display_data",
          "data": {
            "text/html": [
              "<b>Environment:</b><br /><pre><b>Stimuli:</b> FCBCFDDCDBAEBDCBCCBFEBCCBFBBECB</pre><pre><b>Actions:</b> ...TTTTTT.T....TTT...T..T....T.</pre>"
            ],
            "text/plain": [
              "<IPython.core.display.HTML object>"
            ]
          },
          "metadata": {
            "tags": []
          }
        },
        {
          "output_type": "stream",
          "text": [
            "{'episode': 0, 'episode_length': 32, 'episode_return': 9.0}\n"
          ],
          "name": "stdout"
        },
        {
          "output_type": "display_data",
          "data": {
            "text/html": [
              "<b>Environment:</b><br /><pre><b>Stimuli:</b> FCDCFCAFFCECADACDEFBDECCDFFBACF</pre><pre><b>Actions:</b> T..T.TTT......TT.TT.T....TT.T..</pre>"
            ],
            "text/plain": [
              "<IPython.core.display.HTML object>"
            ]
          },
          "metadata": {
            "tags": []
          }
        },
        {
          "output_type": "stream",
          "text": [
            "{'episode': 1, 'episode_length': 32, 'episode_return': 11.0}\n"
          ],
          "name": "stdout"
        },
        {
          "output_type": "display_data",
          "data": {
            "text/html": [
              "<b>Environment:</b><br /><pre><b>Stimuli:</b> BBDFAAEDDFBDABECBFEDFAEBFAEFBDA</pre><pre><b>Actions:</b> TTTTTTTT.T.TTTT.TTT..T..TT.TT..</pre>"
            ],
            "text/plain": [
              "<IPython.core.display.HTML object>"
            ]
          },
          "metadata": {
            "tags": []
          }
        },
        {
          "output_type": "stream",
          "text": [
            "{'episode': 2, 'episode_length': 32, 'episode_return': -11.0}\n"
          ],
          "name": "stdout"
        },
        {
          "output_type": "display_data",
          "data": {
            "text/html": [
              "<b>Environment:</b><br /><pre><b>Stimuli:</b> CEADDBAEBADCCEECFFFCFBFFFCAFFDB</pre><pre><b>Actions:</b> ..T.T...TT.TTTTT.T..TT.T.TTT.TT</pre>"
            ],
            "text/plain": [
              "<IPython.core.display.HTML object>"
            ]
          },
          "metadata": {
            "tags": []
          }
        },
        {
          "output_type": "stream",
          "text": [
            "{'episode': 3, 'episode_length': 32, 'episode_return': -9.0}\n"
          ],
          "name": "stdout"
        },
        {
          "output_type": "display_data",
          "data": {
            "text/html": [
              "<b>Environment:</b><br /><pre><b>Stimuli:</b> DCBDFAEECBEACFBCECAFECEDFECBCFC</pre><pre><b>Actions:</b> T...T..TT...TTTTT......TT..T..T</pre>"
            ],
            "text/plain": [
              "<IPython.core.display.HTML object>"
            ]
          },
          "metadata": {
            "tags": []
          }
        },
        {
          "output_type": "stream",
          "text": [
            "{'episode': 4, 'episode_length': 32, 'episode_return': -1.0}\n"
          ],
          "name": "stdout"
        },
        {
          "output_type": "display_data",
          "data": {
            "text/html": [
              "<b>Environment:</b><br /><pre><b>Stimuli:</b> DFBFDFEDCBACFCBDDAFDFFEBCFAFACE</pre><pre><b>Actions:</b> ..T...TT.TT.T.T......TTT.T....T</pre>"
            ],
            "text/plain": [
              "<IPython.core.display.HTML object>"
            ]
          },
          "metadata": {
            "tags": []
          }
        },
        {
          "output_type": "stream",
          "text": [
            "{'episode': 5, 'episode_length': 32, 'episode_return': -5.0}\n"
          ],
          "name": "stdout"
        },
        {
          "output_type": "display_data",
          "data": {
            "text/html": [
              "<b>Environment:</b><br /><pre><b>Stimuli:</b> ACDFBAECFDBDBDACEDDFECCEBAACBEB</pre><pre><b>Actions:</b> .T.T.......T..T.T.T.T...TT...TT</pre>"
            ],
            "text/plain": [
              "<IPython.core.display.HTML object>"
            ]
          },
          "metadata": {
            "tags": []
          }
        },
        {
          "output_type": "stream",
          "text": [
            "{'episode': 6, 'episode_length': 32, 'episode_return': 9.0}\n"
          ],
          "name": "stdout"
        },
        {
          "output_type": "display_data",
          "data": {
            "text/html": [
              "<b>Environment:</b><br /><pre><b>Stimuli:</b> BABEDEDCBAEFCADCCEEFEAEBDBFFACB</pre><pre><b>Actions:</b> T..T.T.T...TTTT.T...TTTT..TT...</pre>"
            ],
            "text/plain": [
              "<IPython.core.display.HTML object>"
            ]
          },
          "metadata": {
            "tags": []
          }
        },
        {
          "output_type": "stream",
          "text": [
            "{'episode': 7, 'episode_length': 32, 'episode_return': 3.0}\n"
          ],
          "name": "stdout"
        },
        {
          "output_type": "display_data",
          "data": {
            "text/html": [
              "<b>Environment:</b><br /><pre><b>Stimuli:</b> CEEECEDFFDDFAAFDFBBBEAFCACBDFCE</pre><pre><b>Actions:</b> T...T.TT.T...T.....T....TTTT..T</pre>"
            ],
            "text/plain": [
              "<IPython.core.display.HTML object>"
            ]
          },
          "metadata": {
            "tags": []
          }
        },
        {
          "output_type": "stream",
          "text": [
            "{'episode': 8, 'episode_length': 32, 'episode_return': 5.0}\n"
          ],
          "name": "stdout"
        },
        {
          "output_type": "display_data",
          "data": {
            "text/html": [
              "<b>Environment:</b><br /><pre><b>Stimuli:</b> CFFBCCCABBDACFEBDCBAEEBCAFCDECF</pre><pre><b>Actions:</b> T.T....T..T..T.TT.T.T...T......</pre>"
            ],
            "text/plain": [
              "<IPython.core.display.HTML object>"
            ]
          },
          "metadata": {
            "tags": []
          }
        },
        {
          "output_type": "stream",
          "text": [
            "{'episode': 9, 'episode_length': 32, 'episode_return': 9.0}\n",
            "\n",
            " All episode returns: [9.0, 11.0, -11.0, -9.0, -1.0, -5.0, 9.0, 3.0, 5.0, 9.0]\n"
          ],
          "name": "stdout"
        }
      ]
    },
    {
      "cell_type": "code",
      "metadata": {
        "id": "_UegDMgvjcb_"
      },
      "source": [
        "# TODO use an Acme agent\n",
        "\n",
        "# while True:\n",
        "#   # Make an initial observation.\n",
        "#   step = environment.reset()\n",
        "#   actor.observe_first(step.observation)\n",
        "\n",
        "#   while not step.last():\n",
        "#     # Evaluate the policy and take a step in the environment.\n",
        "#     action = actor.select_action(step.observation)\n",
        "#     step = environment.step(action)\n",
        "\n",
        "#     # Make an observation and update the actor.\n",
        "#     actor.observe(action, next_step=step)\n",
        "#     actor.update()"
      ],
      "execution_count": null,
      "outputs": []
    }
  ]
}