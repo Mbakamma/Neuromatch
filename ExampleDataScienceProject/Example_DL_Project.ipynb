{
  "nbformat": 4,
  "nbformat_minor": 5,
  "metadata": {
    "kernelspec": {
      "display_name": "Python 3",
      "language": "python",
      "name": "python3"
    },
    "language_info": {
      "codemirror_mode": {
        "name": "ipython",
        "version": 3
      },
      "file_extension": ".py",
      "mimetype": "text/x-python",
      "name": "python",
      "nbconvert_exporter": "python",
      "pygments_lexer": "ipython3",
      "version": "3.6.8"
    },
    "colab": {
      "name": "MoVi_motion_classification_steps.ipynb",
      "provenance": [],
      "collapsed_sections": [],
      "toc_visible": true,
      "include_colab_link": true
    },
    "accelerator": "GPU"
  },
  "cells": [
    {
      "cell_type": "markdown",
      "metadata": {
        "id": "view-in-github",
        "colab_type": "text"
      },
      "source": [
        "<a href=\"https://colab.research.google.com/github/NeuromatchAcademy/course-content-dl/blob/project_example_added/ExampleDataScienceProject/Example_DL_Project.ipynb\" target=\"_parent\"><img src=\"https://colab.research.google.com/assets/colab-badge.svg\" alt=\"Open In Colab\"/></a>"
      ]
    },
    {
      "cell_type": "markdown",
      "metadata": {
        "id": "ranging-burst"
      },
      "source": [
        "# MoVi motion classification demo project\n",
        "\n",
        "**By Neuromatch Academy**\n",
        "\n",
        "__Content creators:__ Marius 't Hart, Megan Peters, Vladimir Haltakov, Paul Schrater, Gunnar Blohm\n",
        "\n",
        "__Production editor:__ Spiros Chavlis"
      ],
      "id": "ranging-burst"
    },
    {
      "cell_type": "markdown",
      "metadata": {
        "id": "0-8OEIH3-LpT"
      },
      "source": [
        "**Our 2021 Sponsors, including Presenting Sponsor Facebook Reality Labs**\n",
        "\n",
        "<p align='center'><img src='https://github.com/NeuromatchAcademy/widgets/blob/master/sponsors.png?raw=True'/></p>"
      ],
      "id": "0-8OEIH3-LpT"
    },
    {
      "cell_type": "markdown",
      "metadata": {
        "id": "lfthSM088QdJ"
      },
      "source": [
        "---\n",
        "# Objectives\n",
        "\n",
        "We're interested in automatically classifying movement. There is a great dataset (MoVi) with different modalities of movement recordings (videos, visual markers, accelerometers, skeletal motion reconstructions, etc). We will use a sub-set of this data, i.e. estimated skeletal motion, to perform a pilot study investigating whether we can classify different movements from the skeletal motion. And if so, which skeletal motions (if not all) are neccessary for good decoding performance?\n",
        "\n",
        "Please check out the different resources below to better understand the MoVi dataset and learn more about the movements.\n",
        "\n",
        "**Resources**:\n",
        "* [see MoVi paper here](https://journals.plos.org/plosone/article?id=10.1371/journal.pone.0253157)\n",
        "* [GitHub page of MoVi](https://github.com/saeed1262/MoVi-Toolbox)\n",
        "* [MoVi website and description](https://www.biomotionlab.ca/movi/)\n",
        "* [full MoVi dataset (not needed for this demo)](https://dataverse.scholarsportal.info/dataset.xhtml?persistentId=doi:10.5683/SP2/JRHDRN)"
      ],
      "id": "lfthSM088QdJ"
    },
    {
      "cell_type": "markdown",
      "metadata": {
        "id": "YLvELJIDJiW8"
      },
      "source": [
        "---\n",
        "# Setup\n",
        "\n",
        "For your own project, you can put together a colab notebook by copy-pasting bits of code from the tutorials. We still recommend keeping the 4 setup cells at the top, like here; Imports, Figure Settings, Plotting functions, and Data retrieval."
      ],
      "id": "YLvELJIDJiW8"
    },
    {
      "cell_type": "code",
      "metadata": {
        "id": "bPkNdonuJpIL"
      },
      "source": [
        "# Imports\n",
        "# get some matrices and plotting:\n",
        "import numpy as np\n",
        "import matplotlib.pyplot as plt\n",
        "\n",
        "# get some pytorch:\n",
        "import torch\n",
        "import torch.nn as nn\n",
        "from torch.nn import MaxPool1d\n",
        "from torch.utils.data import Dataset\n",
        "from torch.utils.data import DataLoader\n",
        "\n",
        "# confusion matrix from sklearn\n",
        "from sklearn.metrics import confusion_matrix\n",
        "\n",
        "# to get some idea of how long stuff will take to complete:\n",
        "import time\n",
        "\n",
        "# to see how unbalanced the data is:\n",
        "from collections import Counter"
      ],
      "id": "bPkNdonuJpIL",
      "execution_count": null,
      "outputs": []
    },
    {
      "cell_type": "code",
      "metadata": {
        "id": "Fn81OPRAJxS1",
        "cellView": "form"
      },
      "source": [
        "# @title Figure settings\n",
        "import ipywidgets as widgets #interactive display\n",
        "\n",
        "%config InlineBackend.figure_format = 'retina'\n",
        "plt.style.use(\"https://raw.githubusercontent.com/NeuromatchAcademy/content-creation/main/nma.mplstyle\")"
      ],
      "id": "Fn81OPRAJxS1",
      "execution_count": null,
      "outputs": []
    },
    {
      "cell_type": "code",
      "metadata": {
        "cellView": "form",
        "id": "ieSP3d3Z8dOl"
      },
      "source": [
        "# @title Plotting functions\n",
        "\n",
        "def plotConfusionMatrix(real_labels, predicted_labels, label_names):\n",
        "\n",
        "  # conver the labels to integers:\n",
        "  real_labels = [int(x) for x in real_labels]\n",
        "  predicted_labels = [int(x) for x in predicted_labels]\n",
        "  tick_names = [a.replace(\"_\", \" \") for a in label_names]\n",
        "  \n",
        "  cm = confusion_matrix(real_labels, predicted_labels, normalize='true')\n",
        "  \n",
        "  fig = plt.figure(figsize=(8,6))\n",
        "  plt.imshow(cm)\n",
        "  plt.xticks(range(len(tick_names)),tick_names, rotation=90)\n",
        "  plt.yticks(range(len(tick_names)),tick_names)\n",
        "  plt.xlabel('predicted move')\n",
        "  plt.ylabel('real move')\n",
        "  plt.show()"
      ],
      "id": "ieSP3d3Z8dOl",
      "execution_count": null,
      "outputs": []
    },
    {
      "cell_type": "code",
      "metadata": {
        "id": "vN9AoEDiJ7jp",
        "cellView": "form"
      },
      "source": [
        "# @title Data retrieval\n",
        "# @markdown Run this cell to download the data for this example project.\n",
        "import io\n",
        "import requests\n",
        "r = requests.get('https://osf.io/mnqb7/download')\n",
        "if r.status_code != 200:\n",
        "  print('Failed to download data')\n",
        "else:\n",
        "  train_moves=np.load(io.BytesIO(r.content), allow_pickle=True)['train_moves']\n",
        "  train_labels=np.load(io.BytesIO(r.content), allow_pickle=True)['train_labels']\n",
        "  test_moves=np.load(io.BytesIO(r.content), allow_pickle=True)['test_moves']\n",
        "  test_labels=np.load(io.BytesIO(r.content), allow_pickle=True)['test_labels']\n",
        "  label_names=np.load(io.BytesIO(r.content), allow_pickle=True)['label_names']\n",
        "  joint_names=np.load(io.BytesIO(r.content), allow_pickle=True)['joint_names']"
      ],
      "id": "vN9AoEDiJ7jp",
      "execution_count": null,
      "outputs": []
    },
    {
      "cell_type": "markdown",
      "metadata": {
        "id": "auburn-demonstration"
      },
      "source": [
        "---\n",
        "# Step 1: Question\n",
        "There are many different questions we could ask with the MoVi dataset. We will start with a simple question: **\"Can we classify movements from skeletal motion data, and if so, which body parts are the most informative ones?\"**\n",
        "\n",
        "Our goal is to perform a *pilot* study to see if this is possible in principle. We will therefore use \"ground truth\" skeletal motion data that has been computed using an inference algorithm (see [MoVi paper](https://journals.plos.org/plosone/article?id=10.1371/journal.pone.0253157)). If this works out, then as a next step we might want to use the raw sensor data or even videos...\n",
        "\n",
        "The ultimate goal could for example be to figure out which body parts to record movements from (e.g. is just a wristband enough?) to classify movement."
      ],
      "id": "auburn-demonstration"
    },
    {
      "cell_type": "markdown",
      "metadata": {
        "id": "meaningful-oracle"
      },
      "source": [
        "---\n",
        "# Step 2: literature review\n",
        "Most importantly, our literature review needs to address the following:\n",
        "* what modeling approaches make it possible to classify time series data?\n",
        "* how is human motion captured?\n",
        "* what exactly is in the MoVi dataset?\n",
        "* what is known regarding classification of human movement based on different measurements?\n",
        "\n",
        "What we learn from the literature review is too long to write out here... But we would like to point out that human motion classification has been done; we're not proposing a very novel project here. But that's ok for an NMA project!"
      ],
      "id": "meaningful-oracle"
    },
    {
      "cell_type": "markdown",
      "metadata": {
        "id": "capable-retirement"
      },
      "source": [
        "---\n",
        "# Step 3: ingredients\n",
        "\n",
        "## Data ingredients\n",
        "\n",
        "After downloading the data, we should have 6 numpy arrays:\n",
        "\n",
        "- `train_moves`: the training set of 1032 movements\n",
        "- `train_labels`: the class labels for each of the 1032 training movements\n",
        "- `test_moves`: the test set of 172 movements\n",
        "- `test_labels`: the class labels for each of the 172 test movements\n",
        "- `label_names`: text labels for the values in the two arrays of class labels\n",
        "- `joint_names`: the names of the 24 joints used in each movement\n",
        "\n",
        "We'll take a closer look at the data below. *Note*: data is split into training and test sets. If you don't know what that means, NMA-DL will teach you!\n",
        "\n",
        "**Inputs**:\n",
        "\n",
        "For simplicity, we take the first 24 joints of the whole MoVi dataset including all major limbs. The data was in an exponential map format, which has 3 rotations/angles for each joint (pitch, yaw, roll). The advantage of this type of data is that it is (mostly) agnostic about body size or shape. And since we care about movements only, we choose this representation of the data (there are other representations in the full data set).\n",
        "\n",
        "Since the joints are simply points, the 3rd angle (i.e. roll) contained no information, and that is already dropped from the data that we pre-formatted for this demo project. That is, the movements of each joint are described by 2 angles, that change over time. Furthermore, we normalized all the angles/rotations to fall between 0 and 1 so they are good input for PyTorch.\n",
        "\n",
        "Finally, the movements originally took various amounts of time, but we need the same input for each movement, so we sub-sampled and (linearly) interpolated the data to have 75 timepoints.\n",
        "\n",
        "Our training data is supposed to have 1032 movements, 2 x 24 joints = 48 channels and 75 timepoints. Let's check and make sure:"
      ],
      "id": "capable-retirement"
    },
    {
      "cell_type": "code",
      "metadata": {
        "id": "mV3UL0-fNFsq"
      },
      "source": [
        "print(train_moves.shape)"
      ],
      "id": "mV3UL0-fNFsq",
      "execution_count": null,
      "outputs": []
    },
    {
      "cell_type": "markdown",
      "metadata": {
        "id": "aGNWHN4gT8qW"
      },
      "source": [
        "Cool!\n",
        "\n",
        "**Joints**:\n",
        "\n",
        "For each movement we have 2 angles from 24 joints. Which joints are these?"
      ],
      "id": "aGNWHN4gT8qW"
    },
    {
      "cell_type": "code",
      "metadata": {
        "id": "XseMCJ_JUGpv"
      },
      "source": [
        "for joint_no in range(24):\n",
        "  print('%d: %s'%(joint_no, joint_names[joint_no]))"
      ],
      "id": "XseMCJ_JUGpv",
      "execution_count": null,
      "outputs": []
    },
    {
      "cell_type": "markdown",
      "metadata": {
        "id": "73fNoLe3Nyui"
      },
      "source": [
        "**Labels**:\n",
        "\n",
        "Let's have a look at the `train_labels` array too:"
      ],
      "id": "73fNoLe3Nyui"
    },
    {
      "cell_type": "code",
      "metadata": {
        "id": "wbfDO9YcN8IK"
      },
      "source": [
        "print(train_labels)\n",
        "print(train_labels.shape)"
      ],
      "id": "wbfDO9YcN8IK",
      "execution_count": null,
      "outputs": []
    },
    {
      "cell_type": "markdown",
      "metadata": {
        "id": "PuIGf6WdNHAn"
      },
      "source": [
        "The labels are numbers, and there are 1032 of them, so that matches the number of movements in the data set. There are text versions too in the array called `label_names`. Let's have a look. There are supposed to be 14 movement classes.\n",
        "\n"
      ],
      "id": "PuIGf6WdNHAn"
    },
    {
      "cell_type": "code",
      "metadata": {
        "id": "1z9OibQROznT"
      },
      "source": [
        "# let's check the values of the train_labels array:\n",
        "label_numbers = np.unique(train_labels)\n",
        "print(label_numbers)\n",
        "\n",
        "# and use them as indices into the label_names array:\n",
        "for label_no in label_numbers:\n",
        "  print('%d: %s'%(label_no, label_names[label_no]))"
      ],
      "id": "1z9OibQROznT",
      "execution_count": null,
      "outputs": []
    },
    {
      "cell_type": "markdown",
      "metadata": {
        "id": "z3fCrClWP85Z"
      },
      "source": [
        "The test data set has similar data, but fewer movements. That's ok. What's important is that both the training and test datasets have an even spread of movement types, i.e. we want them to be balanced. Let's see how balanced the data is:"
      ],
      "id": "z3fCrClWP85Z"
    },
    {
      "cell_type": "code",
      "metadata": {
        "id": "barhwy9EQ5uI"
      },
      "source": [
        "Counter(train_labels)"
      ],
      "id": "barhwy9EQ5uI",
      "execution_count": null,
      "outputs": []
    },
    {
      "cell_type": "code",
      "metadata": {
        "id": "CCJystGFRO3H"
      },
      "source": [
        "Counter(test_labels)"
      ],
      "id": "CCJystGFRO3H",
      "execution_count": null,
      "outputs": []
    },
    {
      "cell_type": "markdown",
      "metadata": {
        "id": "uGHra3KuRlBh"
      },
      "source": [
        "So that looks more or less OK. Movements 2, 3, 4 and 5 occur once more in the training data than the other movements, and one time fewer in the test data. Not perfect, but probably doesn't matter that much."
      ],
      "id": "uGHra3KuRlBh"
    },
    {
      "cell_type": "markdown",
      "metadata": {
        "id": "rHpiIl1eOupO"
      },
      "source": [
        "## Model ingredients\n",
        "\n",
        "**\"Mechanisms\"**:\n",
        "\n",
        "* Feature engineering? --> Do we need anything else aside from angular time courses? For now we choose to only use the angular time courses (exponential maps), as our ultimate goal is to see how many joints we need for accurate movement classification so that we can decrease the number of measurements or devices for later work.\n",
        "\n",
        "* Feature selection? --> Which joint movements are most informative? These are related to our research questions and hypotheses, so this project will explicitly investigate which joints are most informative.\n",
        "\n",
        "* Feature grouping? --> Instead of trying all possible combinations of joints (very many) we could focus on limbs, by grouping joints. We could also try the model on individual joints.\n",
        "\n",
        "* Classifier? --> For our classifier we would like to keep it as simple as possible, but we will decide later.\n",
        "\n",
        "* Input? --> The training data (movements and labels) will be used to train the classifier.\n",
        "\n",
        "* Output? --> The test data will be used as input for the trained model and we will see if the predicted labels are the same as the actual labels."
      ],
      "id": "rHpiIl1eOupO"
    },
    {
      "cell_type": "markdown",
      "metadata": {
        "id": "single-server"
      },
      "source": [
        "---\n",
        "# Step 4: hypotheses\n",
        "Since humans can easily distinguish different movement types from video data and also more abstract \"stick figures\", a DL model should also be able to do so. Therefore, our hypotheses are more detailed with respect to parameters influencing model performance (and not just whether it will work or not). \n",
        "\n",
        "Remember, we're interested in seeing how many joints are needed for classification. So we could hypothezise (Hypothesis 1) that arm and leg motions are sufficient for classification (meaning: head and torso data is not needed).\n",
        "\n",
        "* Hypothesis 1: The performance of a model with four limbs plus torso and head is not higher than the performance of a model with only limbs.\n",
        "\n",
        "We could also hypothesize that data from only one side of the body is sufficient (Hypothesis 2), e.g. the right side, since our participants are right handed.\n",
        "\n",
        "* Hypothesis 2: A model using only joints in the right arm will outperform a model using only the joints in the left arm.\n",
        "\n",
        "Writing those in mathematical terms:\n",
        "* Hypothesis 1: $\\mathbb{E}(perf_{limbs})>\\mathbb{E}(perf_{torso})$\n",
        "* Hypothesis 2: $\\mathbb{E}(perf_{right arm})>\\mathbb{E}(perf_{left arm})$"
      ],
      "id": "single-server"
    },
    {
      "cell_type": "markdown",
      "metadata": {
        "id": "fantastic-egypt"
      },
      "source": [
        "---\n",
        "# Step 5: toolkit selection\n",
        "We need a toolkit that can deal with time-varying data as input (e.g. 1d convnet, LSTM, transformer...). We want to keep it as simple as possible to start with. So let's run with a 1d convnet. It allows us to answer our question, it will be able to speak to our hypotheses, and hopefully we can achieve our goal to see if automatic movement classification based on (sparse) body movement data is possible."
      ],
      "id": "fantastic-egypt"
    },
    {
      "cell_type": "markdown",
      "metadata": {
        "id": "parental-compensation"
      },
      "source": [
        "---\n",
        "# Step 6: model drafting\n",
        "Here is our sketch of the model we wanted to build...\n",
        "\n",
        "<p align='center'><img src='https://github.com/NeuromatchAcademy/course-content-dl/blob/main/projects/static/DL_model_schematic.jpg?raw=True'/></p>"
      ],
      "id": "parental-compensation"
    },
    {
      "cell_type": "markdown",
      "metadata": {
        "id": "animated-string"
      },
      "source": [
        "---\n",
        "# Step 7: model implementation\n",
        "\n",
        "It's finally time to write some deep learning code... so here we go!"
      ],
      "id": "animated-string"
    },
    {
      "cell_type": "markdown",
      "metadata": {
        "id": "pharmaceutical-heater"
      },
      "source": [
        "The cell below creates an object class, and is based on https://pytorch.org/tutorials/beginner/basics/data_tutorial.html on the PyTorch website, adapted to work with our data.\n",
        "\n",
        "It is based on the `Dataset` object class in PyTorch and this is needed to set up a `Dataloader` object that will be used in the model.\n",
        "\n",
        "We can tell our dataset object to use the training or test data. We can also tell it which joints to return, so that we can build models that classify movements based on different sets of joints:"
      ],
      "id": "pharmaceutical-heater"
    },
    {
      "cell_type": "code",
      "metadata": {
        "id": "gDhgbCPKV31p"
      },
      "source": [
        "class MoViJointDataset(Dataset):\n",
        "  \"\"\"MoVi dataset.\"\"\"\n",
        "  \n",
        "  def __init__(self, train=True, joints=list(range(24))):\n",
        "    \"\"\"\n",
        "    Args:\n",
        "        train (boolean): Use the training data, or otherwise the test data.\n",
        "        joints (list): Indices of joints to return.\n",
        "    \"\"\"\n",
        "    \n",
        "    # select the training or test data:\n",
        "    if train:\n",
        "      self.moves = train_moves\n",
        "      self.labels = train_labels\n",
        "    else:\n",
        "      self.moves = test_moves\n",
        "      self.labels = test_labels\n",
        "    \n",
        "    # convert joint indices to channel indices:\n",
        "    joints = np.array(joints)\n",
        "    self.channels = np.sort(list(joints*2)+ list((joints*2)+1)) # 2 channels per joint\n",
        "      \n",
        "  def __len__(self):\n",
        "    return self.labels.size\n",
        "\n",
        "  def __getitem__(self, idx):\n",
        "    if torch.is_tensor(idx):\n",
        "      idx = idx.tolist()\n",
        "    \n",
        "    sample = (np.float32(np.squeeze(self.moves[idx,self.channels,:])), self.labels[idx])\n",
        "\n",
        "    return sample"
      ],
      "id": "gDhgbCPKV31p",
      "execution_count": null,
      "outputs": []
    },
    {
      "cell_type": "markdown",
      "metadata": {
        "id": "u5yQ7DlWWWYw"
      },
      "source": [
        "We want to make sure that this object works the way we intended, so we try it out:"
      ],
      "id": "u5yQ7DlWWWYw"
    },
    {
      "cell_type": "code",
      "metadata": {
        "id": "RO2gen1kW7Nk"
      },
      "source": [
        "# Create training and test datasets\n",
        "movi_train = MoViJointDataset(train=True)\n",
        "movi_test = MoViJointDataset(train=False, joints=[0,1,2])\n",
        "\n",
        "print('TRAINING:')\n",
        "for idx in range(len(movi_train)):\n",
        "  pass\n",
        "print(idx)\n",
        "print(movi_train[idx][0].shape, label_names[movi_train[idx][1]])\n",
        "print('\\nTESTING:')\n",
        "for idx in range(len(movi_test)):\n",
        "  pass\n",
        "print(idx)\n",
        "print(movi_test[idx][0].shape, label_names[movi_test[idx][1]])"
      ],
      "id": "RO2gen1kW7Nk",
      "execution_count": null,
      "outputs": []
    },
    {
      "cell_type": "markdown",
      "metadata": {
        "id": "DAjuDR1wY_mI"
      },
      "source": [
        "So we see the movement number (minus 1), the shape of the dataset (e.g. 48 channels and 75 time points for the training set), and the name of the movement."
      ],
      "id": "DAjuDR1wY_mI"
    },
    {
      "cell_type": "markdown",
      "metadata": {
        "id": "engaged-equality"
      },
      "source": [
        "## Build model\n",
        "pytorch expects as input not a single sample, but rather a minibatch of B samples stacked together along the \"minibatch dimension\".\n",
        "So a \"1D\" CNN in pytorch expects a 3D tensor as input: BxCxT\n",
        "\n",
        "- **B:** batch size (however many examples are used in batch training)\n",
        "- **C:** channels (up to 24 joints x 2 coordinates)\n",
        "- **T:** timepoints (75 in our case)\n",
        "\n",
        "We need `Dataloader` objects that use our `MoViJointDataset` objects to do this. For this we can simply use PyTorch `Dataloader` objects, but it also needs one of our hyperparameters (batch size) to be set:"
      ],
      "id": "engaged-equality"
    },
    {
      "cell_type": "code",
      "metadata": {
        "id": "-FhReTdFXzob"
      },
      "source": [
        "# Hyperparameters\n",
        "num_epochs = 500\n",
        "num_classes = 14 # is this ever used?\n",
        "batch_size = 516\n",
        "learning_rate = 0.001\n",
        "\n",
        "# Create training and test datasets\n",
        "movi_train = MoViJointDataset(train = True)\n",
        "movi_test  = MoViJointDataset(train = False)\n",
        "\n",
        "# Data loader\n",
        "train_loader = DataLoader(dataset=movi_train, batch_size=batch_size, shuffle=True)\n",
        "test_loader  = DataLoader(dataset=movi_test, batch_size=batch_size, shuffle=False)"
      ],
      "id": "-FhReTdFXzob",
      "execution_count": null,
      "outputs": []
    },
    {
      "cell_type": "markdown",
      "metadata": {
        "id": "SyQERH4vXz5w"
      },
      "source": [
        "And we decided to use a simple 1D convnet. We want to specify the number of joints used and then use 2 input channels for every joint (2 dimensions of rotation). At the end of the convnet there are 14 probabilities, 1 for each class of movement, but we convert it to give the index of the highest probability."
      ],
      "id": "SyQERH4vXz5w"
    },
    {
      "cell_type": "code",
      "metadata": {
        "id": "MxwaPvBtX0QZ"
      },
      "source": [
        "class Mov1DCNN(nn.Module):\n",
        "  def __init__(self, njoints=24):\n",
        "      \n",
        "    super(Mov1DCNN, self).__init__()\n",
        "    \n",
        "    self.layer1 = nn.Sequential(\n",
        "      nn.Conv1d(in_channels=njoints*2, out_channels=56, kernel_size=5, stride=2),\n",
        "      nn.ReLU(),\n",
        "      nn.MaxPool1d(kernel_size=2, stride=2))\n",
        "    \n",
        "    self.layer2 = nn.Sequential(\n",
        "      nn.Conv1d(in_channels=56, out_channels=14, kernel_size=1),\n",
        "      nn.ReLU(),\n",
        "      nn.MaxPool1d(kernel_size=2, stride=2))\n",
        "    \n",
        "    self.dropout1 = nn.Dropout(p=0.2)\n",
        "    self.fc1 = nn.Linear(126, 2200)  # fix dimensions\n",
        "    self.nl = nn.ReLU()\n",
        "    self.dropout2 = nn.Dropout(p=0.2)\n",
        "    self.fc2 = nn.Linear(2200, 14)\n",
        "  \n",
        "  def forward(self, x):\n",
        "    out = self.layer1(x)\n",
        "    out = self.layer2(out)\n",
        "    \n",
        "    out = out.reshape(out.size(0), -1)\n",
        "    out = self.dropout1(out)\n",
        "    out = self.fc1(out)\n",
        "    out = self.nl(out)\n",
        "    out = self.dropout2(out)\n",
        "    out = self.fc2(out)\n",
        "    # pick the most likely class:\n",
        "    out = nn.functional.log_softmax(out, dim=1)\n",
        "\n",
        "    return out"
      ],
      "id": "MxwaPvBtX0QZ",
      "execution_count": null,
      "outputs": []
    },
    {
      "cell_type": "markdown",
      "metadata": {
        "id": "EVbl_vZhZiNE"
      },
      "source": [
        "We can now instantiate the model object, with _all_ joints, and set a criterion and optimizer: "
      ],
      "id": "EVbl_vZhZiNE"
    },
    {
      "cell_type": "code",
      "metadata": {
        "id": "A9bjZkdFZm2c"
      },
      "source": [
        "### ADDING GPU ###\n",
        "device = \"cuda\" if torch.cuda.is_available() else \"cpu\"\n",
        "\n",
        "# create the model object:\n",
        "model = Mov1DCNN(njoints=24).to(device)\n",
        "\n",
        "# loss and optimizer:\n",
        "criterion = nn.CrossEntropyLoss()\n",
        "optimizer = torch.optim.Adam(model.parameters(), lr=learning_rate)"
      ],
      "id": "A9bjZkdFZm2c",
      "execution_count": null,
      "outputs": []
    },
    {
      "cell_type": "markdown",
      "metadata": {
        "id": "OqNJJOcyaNUr"
      },
      "source": [
        "And now we are ready to train this model.\n",
        "\n",
        "**This takes up to ~20 seconds!**"
      ],
      "id": "OqNJJOcyaNUr"
    },
    {
      "cell_type": "code",
      "metadata": {
        "id": "icuFDR1naP_P"
      },
      "source": [
        "# Train the model\n",
        "total_step = len(train_loader)\n",
        "loss_list = []\n",
        "acc_list = []\n",
        "for epoch in range(num_epochs):\n",
        "  for i, (motions, labels) in enumerate(train_loader):\n",
        "    motions, labels = motions.to(device), labels.to(device)\n",
        "\n",
        "    # Run the forward pass\n",
        "    outputs = model(motions)\n",
        "    loss = criterion(outputs, labels)\n",
        "    loss_list.append(loss.item())\n",
        "\n",
        "    # Backprop and perform Adam optimisation\n",
        "    optimizer.zero_grad()\n",
        "    loss.backward()\n",
        "    optimizer.step()\n",
        "\n",
        "    # Track the accuracy\n",
        "    total = labels.size(0)\n",
        "    _, predicted = torch.max(outputs.data, 1)\n",
        "    correct = (predicted == labels).sum().item()\n",
        "    acc_list.append(correct / total)\n",
        "\n",
        "    if (i + 1) % 2 == 0:\n",
        "        print(f'Epoch [{epoch+1}/{num_epochs}], Step [{i+1}/{total_step}], '\n",
        "              f'Loss: {loss.item():.4f}, '\n",
        "              f'Accuracy: {((correct / total) * 100):.2f}%')"
      ],
      "id": "icuFDR1naP_P",
      "execution_count": null,
      "outputs": []
    },
    {
      "cell_type": "markdown",
      "metadata": {
        "id": "Y2MNr2Egg1z_"
      },
      "source": [
        "The training accuracy usually starts out below 10%, which makes sense as chance 100/14 = 7%. It usually quickly goes up to around 80%. The model can get better if you run more epochs, but this is sufficient for now. "
      ],
      "id": "Y2MNr2Egg1z_"
    },
    {
      "cell_type": "markdown",
      "metadata": {
        "id": "tIejNowNa2H_"
      },
      "source": [
        " Now we want to see performance on the test data set:"
      ],
      "id": "tIejNowNa2H_"
    },
    {
      "cell_type": "code",
      "metadata": {
        "id": "NaIREOIeec-1"
      },
      "source": [
        "# Test the model\n",
        "model.eval()\n",
        "real_labels, predicted_labels = [], []\n",
        "with torch.no_grad():\n",
        "  correct = 0\n",
        "  total = 0\n",
        "  for motions, labels in test_loader:\n",
        "    motions, labels = motions.to(device), labels.to(device)\n",
        "    real_labels += list(labels)\n",
        "    outputs = model(motions)\n",
        "    _, predicted = torch.max(outputs.data, 1)\n",
        "    predicted_labels += list(predicted)\n",
        "    total += labels.size(0)\n",
        "    correct += (predicted == labels).sum().item()\n",
        "\n",
        "  print(f'Test Accuracy of the model on the 172 test moves: {(correct / total)*100:.3f}%')"
      ],
      "id": "NaIREOIeec-1",
      "execution_count": null,
      "outputs": []
    },
    {
      "cell_type": "markdown",
      "metadata": {
        "id": "wbu_cAU5emsh"
      },
      "source": [
        "Considering that we have a relatively small data set, and a fairly simple model that didn't really converge, this is decent performance (chance is ~7%). Let's look at where the errors are:"
      ],
      "id": "wbu_cAU5emsh"
    },
    {
      "cell_type": "code",
      "metadata": {
        "id": "5Z-cA1FXe0Sl"
      },
      "source": [
        "# plt.style.use('dark_background')  # uncomment if you're using dark mode...\n",
        "plotConfusionMatrix(real_labels, predicted_labels, label_names)"
      ],
      "id": "5Z-cA1FXe0Sl",
      "execution_count": null,
      "outputs": []
    },
    {
      "cell_type": "markdown",
      "metadata": {
        "id": "BHhhRjL2e5q_"
      },
      "source": [
        "The errors vary each time the model is run, but a common error seems to be that head scratching is predicted from some other movements that also involve arms a lot: throw/catch, hand clapping, phone talking, checking watch, hand waving, taking photo. If we train the model longer, these errors tend to go away as well. For some reason, crossed legged sitting is sometimes misclassified for crawling, but this doesn't always happen."
      ],
      "id": "BHhhRjL2e5q_"
    },
    {
      "cell_type": "markdown",
      "metadata": {
        "id": "compliant-session"
      },
      "source": [
        "---\n",
        "# Step 8: Modeling completion\n",
        "\n",
        "Are we done yet? In order to answer our questions, reach our goals and evaluate our hypotheses we need to be able to get test performance from the model, and might want to investigate any errors that the model makes. We will first make a function that fits the model on a specified set of joints\n"
      ],
      "id": "compliant-session"
    },
    {
      "cell_type": "code",
      "metadata": {
        "id": "L58_BD8pkJF5"
      },
      "source": [
        "def testJointModel(joints=list(range(24)),\n",
        "                   num_epochs = 500,\n",
        "                   batch_size=516,\n",
        "                   learning_rate = 0.001):\n",
        "\n",
        "  # Hyperparameters\n",
        "  num_classes = 14\n",
        "  \n",
        "  # Create training and test datasets\n",
        "  movi_train = MoViJointDataset(train  = True, joints = joints)\n",
        "  movi_test  = MoViJointDataset(train  = False, joints = joints)\n",
        "\n",
        "  # Data loaders\n",
        "  train_loader = DataLoader(dataset=movi_train, batch_size=batch_size, shuffle=True)\n",
        "  test_loader  = DataLoader(dataset=movi_test, batch_size=batch_size,  shuffle=False)\n",
        "\n",
        "  # create the model object:\n",
        "  model = Mov1DCNN(njoints=len(joints)).to(device)\n",
        "\n",
        "  # loss and optimizer:\n",
        "  criterion = nn.CrossEntropyLoss()\n",
        "  optimizer = torch.optim.Adam(model.parameters(), lr=learning_rate)\n",
        "\n",
        "  # Train the model\n",
        "  for epoch in range(num_epochs):\n",
        "    for i, (motions, labels) in enumerate(train_loader):\n",
        "      motions, labels = motions.to(device), labels.to(device)\n",
        "\n",
        "      # Run the forward pass\n",
        "      outputs = model(motions)\n",
        "      loss = criterion(outputs, labels)\n",
        "      loss_list.append(loss.item())\n",
        "\n",
        "      # Backprop and perform Adam optimisation\n",
        "      optimizer.zero_grad()\n",
        "      loss.backward()\n",
        "      optimizer.step()\n",
        "\n",
        "      # Track the accuracy\n",
        "      total = labels.size(0)\n",
        "  \n",
        "  # Test the model\n",
        "  model.eval()\n",
        "  real_labels, predicted_labels = [], []\n",
        "  with torch.no_grad():\n",
        "    correct = 0\n",
        "    total = 0\n",
        "    for motions, labels in test_loader:\n",
        "      motions, labels = motions.to(device), labels.to(device)\n",
        "      real_labels += list(labels)\n",
        "      outputs = model(motions)\n",
        "      _, predicted = torch.max(outputs.data, 1)\n",
        "      predicted_labels += list(predicted)\n",
        "      total += labels.size(0)\n",
        "      correct += (predicted == labels).sum().item()\n",
        "\n",
        "  performance = (correct / total) * 100\n",
        "\n",
        "  return {'performance': performance,\n",
        "          'real_labels': real_labels,\n",
        "          'predicted_labels': predicted_labels}"
      ],
      "id": "L58_BD8pkJF5",
      "execution_count": null,
      "outputs": []
    },
    {
      "cell_type": "markdown",
      "metadata": {
        "id": "wwuF1ioak3Ug"
      },
      "source": [
        "Let's test this on a few select joints:\n",
        "\n",
        "**This takes up to ~10 seconds:**"
      ],
      "id": "wwuF1ioak3Ug"
    },
    {
      "cell_type": "code",
      "metadata": {
        "id": "3gJpwYWIk9RM"
      },
      "source": [
        "cnn6j = testJointModel(joints=[0, 10, 11, 15, 22, 23])\n",
        "print(cnn6j['performance'])\n",
        "plotConfusionMatrix(real_labels = cnn6j['real_labels'], predicted_labels = cnn6j['predicted_labels'], label_names=label_names)"
      ],
      "id": "3gJpwYWIk9RM",
      "execution_count": null,
      "outputs": []
    },
    {
      "cell_type": "markdown",
      "metadata": {
        "id": "9XMG8T0Ogp0y"
      },
      "source": [
        "That is some pretty good performance based on only 6 / 24 joints!\n",
        "\n",
        "* Can we answer our question? --> YES, we can classify movement, and we can do so based on a sub-set of joints.\n",
        "* Have we reached our goals? --> YES, this pilot study shows that we can decode movement type based on skeletal joint motion data.\n",
        "* Can we evaluate our hypotheses? --> YES, we can now test the specific model performances and compare them.\n",
        "\n",
        "Good news, looks like we're done with a first iteration of modeling!"
      ],
      "id": "9XMG8T0Ogp0y"
    },
    {
      "cell_type": "markdown",
      "metadata": {
        "id": "strategic-throw"
      },
      "source": [
        "---\n",
        "# Step 9: Model evaluation\n",
        "\n",
        "We can now see how well our model actual does, by running it to test our hypotheses. To test our hypotheses, we will group the joints into limbs:\n"
      ],
      "id": "strategic-throw"
    },
    {
      "cell_type": "code",
      "metadata": {
        "id": "H3CG_lzdi0KB"
      },
      "source": [
        "limb_joints = {'Left Leg': [1, 4, 7, 10],\n",
        "               'Right Leg': [2, 5, 8, 1],\n",
        "               'Left Arm': [13, 16, 18, 20, 22],\n",
        "               'Right Arm': [14, 17, 19, 21, 23],\n",
        "               'Torso': [0, 3, 6, 9],\n",
        "               'Head': [12, 15]}"
      ],
      "id": "H3CG_lzdi0KB",
      "execution_count": null,
      "outputs": []
    },
    {
      "cell_type": "markdown",
      "metadata": {
        "id": "EFddDEAmjN_z"
      },
      "source": [
        "Our second hypothesis was that since our participants are right handed, the right arm will give as better classification performance than the left arm. We will fit the model on each individual limb, and then we can compare performance on the left and right arm.\n",
        "\n",
        "**This should take up to ~1 minute!**"
      ],
      "id": "EFddDEAmjN_z"
    },
    {
      "cell_type": "code",
      "metadata": {
        "id": "p4h9ABawjcEl"
      },
      "source": [
        "limb_fits = {}\n",
        "for limb in limb_joints.keys():\n",
        "  print(f'\\n*** FITTING: limb{}')\n",
        "\n",
        "  joints = limb_joints[limb]\n",
        "  limb_fit = testJointModel(joints=joints)\n",
        "  limb_fits[limb] = limb_fit\n",
        "  \n",
        "  print(f'limb performance: {(limb_fit['performance']):0.2f}%')"
      ],
      "id": "p4h9ABawjcEl",
      "execution_count": null,
      "outputs": []
    },
    {
      "cell_type": "markdown",
      "metadata": {
        "id": "Y3_XyAZap9oJ"
      },
      "source": [
        "Every time we run this, we get something along these lines:\n",
        "\n",
        "```\n",
        "*** FITTING: LeftLeg\n",
        "limb performance: 65.70%\n",
        "*** FITTING: RightLeg\n",
        "limb performance: 50.58%\n",
        "*** FITTING: LeftArm\n",
        "limb performance: 37.21%\n",
        "*** FITTING: RightArm\n",
        "limb performance: 22.09%\n",
        "*** FITTING: Torso\n",
        "limb performance: 73.84%\n",
        "*** FITTING: Head\n",
        "limb performance: 39.53%\n",
        "```\n",
        "\n",
        "\n",
        "\n",
        "For a formal test, you'd fit each model a number of times and let it converge by using many more epochs. We don't really have time for that here, but the pattern is fairly clear already. The head and arms are the worst, the legs are better, and the torso usually wins!\n",
        "\n",
        "The left arm seems to outperform the right arm in classifying movements. That was not what we expected. Maybe we should repeat this with left-handed participants to see if their right arm works better?"
      ],
      "id": "Y3_XyAZap9oJ"
    },
    {
      "cell_type": "markdown",
      "metadata": {
        "id": "XnDAKFmpsT0U"
      },
      "source": [
        "We still want to test our first hypothesis, which we're not so certain about any more, given the performance above: the torso outperforms the other limbs. But that doesn't mean that a model with arms and legs only is necessarily worse than a model with arms, legs and head and torso as well.\n",
        "\n",
        "We will test each of these models six times, and take the median performance.\n",
        "\n",
        "**This takes up to ~4 minutes!** (About 2 minutes per kind of model.)"
      ],
      "id": "XnDAKFmpsT0U"
    },
    {
      "cell_type": "code",
      "metadata": {
        "id": "_7O-VJcavoOE"
      },
      "source": [
        "limb_sets = {'limbs only':['Left Leg', 'Right Leg', 'Left Arm', 'Right Arm'],\n",
        "             'limbs+torso+head':['Left Leg', 'Right Leg', 'Left Arm',\n",
        "                                 'Right Arm', 'Torso', 'Head']}\n",
        "\n",
        "for limb_set in limb_sets.keys():\n",
        "  print(f'\\n*** FITTING: {limb_set}')\n",
        "  \n",
        "  limbs = limb_sets[limb_set]\n",
        "\n",
        "  joints = []\n",
        "  for limb in limbs:\n",
        "    joints += limb_joints[limb]\n",
        "\n",
        "  performances = []\n",
        "  for repeat in range(6):\n",
        "    limb_set_fit = testJointModel(joints=joints)\n",
        "    performances.append(limb_set_fit['performance'])\n",
        "    print(f'performance: {(limb_set_fit['performance']):0.2f}%')\n",
        "  \n",
        "  print(f'median performance: {(np.median(performances))\"0.2f}%')"
      ],
      "id": "_7O-VJcavoOE",
      "execution_count": null,
      "outputs": []
    },
    {
      "cell_type": "markdown",
      "metadata": {
        "id": "vhfVd16u_tar"
      },
      "source": [
        "The models are not converging, or perfect, but almost every time we run this cell the extra information from the torso and head do make the model perform a little better.\n",
        "\n",
        "It seems that our spine is pretty fundamental for movement!\n",
        "\n",
        "Maybe we should see how well we can do with a minimal number of joints measured. Can we go as low as 1 joint? For example, since we usually carry a phone in our pocket, the inertal motion units (IMU, i.e. accelerometers + gyroscopes) on a phone might be sufficient to get us some idea of movements people are making. We could test individual joints as well, or combinations of 2 or 3 joints.\n",
        "\n",
        "Of course, in real life people make many more types of movements, so we might need more joints or IMU's for decent classification. It will also be a problem to figure out when one movement type has ended and the next has begun."
      ],
      "id": "vhfVd16u_tar"
    },
    {
      "cell_type": "markdown",
      "metadata": {
        "id": "seven-single"
      },
      "source": [
        "---\n",
        "# Step 10: publication\n",
        "\n",
        "Let's write a simple abstract following the guidelines...\n",
        "\n",
        "**A. What is the phenomena**?  Here summarize the part of the phenomena which your modeling addresses.\n",
        "\n",
        "_Movement is well characterized by angular joint information._\n",
        "\n",
        "**B. What is the key scientific question?**:  Clearly articulate the question which your modeling tries to answer.\n",
        "\n",
        "_Here, we ask how many joints are needed to accurately classify movements, and which joints are the most informative for classification._\n",
        "\n",
        "**C. What was our hypothesis?**:  Explain the key relationships which we relied on to simulate the phenomena.\n",
        "\n",
        "_We hypothesized that limb motion was more informative than torso motion; and we hypothesized that right side limbs carry more information about movement types than left side limbs._\n",
        "\n",
        "**D. How did your modeling work?** Give an overview of the model, it's main components, and how the modeling works.  ''Here we ... ''\n",
        "\n",
        "_To investigate these hypotheses, we constructed a simple 1d convolutional neuroal network (CNN) and trained it on different subsets of the publicly available MoVi dataset._\n",
        "\n",
        "**E. What did you find? Did the modeling work?** Explain the key outcomes of your modeling evaluation. \n",
        "\n",
        "_Contrary to our expectations, we observed that the torso was more informative for classification then the rest of the joints. Furthermore the left limbs allowed for better classification than the right limbs._\n",
        "\n",
        "**F. What can you conclude?** Conclude as much as you can _with reference to the hypothesis_, within the limits of the modeling. \n",
        "\n",
        "_We conclude that while our model works to classify movements from subsets of joint rotations, the specific subsets of joints that were most informative were counter to our intuition._\n",
        "\n",
        "**G. What are the limitations and future directions?** What is left to be learned? Briefly argue the plausibility of the approach and/or what you think is essential that may have been left out.\n",
        "\n",
        "_Since our dataset contained limited number of movement types, generalization might be limited. Furthermore, our findings might be specific for our particular choice of model. Finally, classification of continuous movement presents an additional challenge since we used already segmented motion data here._\n",
        "\n",
        ">If we put this all in one paragraph, we have our final complete abstract. But, first, do not include the letters in _your_ abstract, and second, you might need to paraphrase the answers a little so they fit together.\n",
        "\n",
        "<br>\n",
        "\n",
        "**Abstract**\n",
        "\n",
        "(A) Movement is well characterized by angular joint information. \n",
        "(B) Here, we ask how many joints are needed to accurately classify movements, and which joints are the most informative for classification.\n",
        "(C) We hypothesized that limb motion was more informative than torso motion; and we hypothesized that right side limbs carry more information about movement types than left side limbs.\n",
        "(D) To investigate these hypotheses, we constructed a simple 1d convolutional neuroal network (CNN) and trained it on different subsets of the publicly available MoVi dataset.\n",
        "(E) Contrary to our expectations, we observed that the torso was more informative for classification then the rest of the joints. Furthermore the left limbs allowed for better classification than the right limbs.\n",
        "(F) We conclude that while our model works to classify movements from subsets of joint rotations, the specific subsets of joints that were most informative were counter to our intuition.\n",
        "(G) Since our dataset contained limited number of movement types, generalization might be limited. Furthermore, our findings might be specific for our particular choice of model. Finally, classification of continuous movement presents an additional challenge since we used already segmented motion data here."
      ],
      "id": "seven-single"
    }
  ]
}